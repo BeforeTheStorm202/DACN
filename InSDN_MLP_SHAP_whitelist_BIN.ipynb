{
  "cells": [
    {
      "cell_type": "markdown",
      "metadata": {
        "id": "rJBJPRmCFqU7"
      },
      "source": [
        "# Import"
      ]
    },
    {
      "cell_type": "code",
      "execution_count": 1,
      "metadata": {
        "colab": {
          "base_uri": "https://localhost:8080/"
        },
        "id": "Ym8Pb2oREYUG",
        "outputId": "e8a5a573-f6e1-4ab5-dac8-d65c82dbbdc9"
      },
      "outputs": [
        {
          "output_type": "stream",
          "name": "stdout",
          "text": [
            "Collecting shap\n",
            "  Downloading shap-0.41.0-cp310-cp310-manylinux_2_12_x86_64.manylinux2010_x86_64.whl (572 kB)\n",
            "\u001b[?25l     \u001b[90m━━━━━━━━━━━━━━━━━━━━━━━━━━━━━━━━━━━━━━━━\u001b[0m \u001b[32m0.0/572.6 kB\u001b[0m \u001b[31m?\u001b[0m eta \u001b[36m-:--:--\u001b[0m\r\u001b[2K     \u001b[91m━━━━━━━━━━━━━━━━━━━━━━━━━━━━━━━━━━━━━\u001b[0m\u001b[90m╺\u001b[0m \u001b[32m563.2/572.6 kB\u001b[0m \u001b[31m23.5 MB/s\u001b[0m eta \u001b[36m0:00:01\u001b[0m\r\u001b[2K     \u001b[90m━━━━━━━━━━━━━━━━━━━━━━━━━━━━━━━━━━━━━━\u001b[0m \u001b[32m572.6/572.6 kB\u001b[0m \u001b[31m15.3 MB/s\u001b[0m eta \u001b[36m0:00:00\u001b[0m\n",
            "\u001b[?25hRequirement already satisfied: numpy in /usr/local/lib/python3.10/dist-packages (from shap) (1.22.4)\n",
            "Requirement already satisfied: scipy in /usr/local/lib/python3.10/dist-packages (from shap) (1.10.1)\n",
            "Requirement already satisfied: scikit-learn in /usr/local/lib/python3.10/dist-packages (from shap) (1.2.2)\n",
            "Requirement already satisfied: pandas in /usr/local/lib/python3.10/dist-packages (from shap) (1.5.3)\n",
            "Requirement already satisfied: tqdm>4.25.0 in /usr/local/lib/python3.10/dist-packages (from shap) (4.65.0)\n",
            "Requirement already satisfied: packaging>20.9 in /usr/local/lib/python3.10/dist-packages (from shap) (23.1)\n",
            "Collecting slicer==0.0.7 (from shap)\n",
            "  Downloading slicer-0.0.7-py3-none-any.whl (14 kB)\n",
            "Requirement already satisfied: numba in /usr/local/lib/python3.10/dist-packages (from shap) (0.56.4)\n",
            "Requirement already satisfied: cloudpickle in /usr/local/lib/python3.10/dist-packages (from shap) (2.2.1)\n",
            "Requirement already satisfied: llvmlite<0.40,>=0.39.0dev0 in /usr/local/lib/python3.10/dist-packages (from numba->shap) (0.39.1)\n",
            "Requirement already satisfied: setuptools in /usr/local/lib/python3.10/dist-packages (from numba->shap) (67.7.2)\n",
            "Requirement already satisfied: python-dateutil>=2.8.1 in /usr/local/lib/python3.10/dist-packages (from pandas->shap) (2.8.2)\n",
            "Requirement already satisfied: pytz>=2020.1 in /usr/local/lib/python3.10/dist-packages (from pandas->shap) (2022.7.1)\n",
            "Requirement already satisfied: joblib>=1.1.1 in /usr/local/lib/python3.10/dist-packages (from scikit-learn->shap) (1.2.0)\n",
            "Requirement already satisfied: threadpoolctl>=2.0.0 in /usr/local/lib/python3.10/dist-packages (from scikit-learn->shap) (3.1.0)\n",
            "Requirement already satisfied: six>=1.5 in /usr/local/lib/python3.10/dist-packages (from python-dateutil>=2.8.1->pandas->shap) (1.16.0)\n",
            "Installing collected packages: slicer, shap\n",
            "Successfully installed shap-0.41.0 slicer-0.0.7\n"
          ]
        }
      ],
      "source": [
        "!pip install shap"
      ]
    },
    {
      "cell_type": "code",
      "execution_count": 2,
      "metadata": {
        "id": "9qxu7n9TFv21"
      },
      "outputs": [],
      "source": [
        "import shap\n",
        "import pandas as pd\n",
        "import tensorflow as tf\n",
        "from tensorflow import keras"
      ]
    },
    {
      "cell_type": "code",
      "source": [
        "from google.colab import drive\n",
        "drive.mount('/content/drive')"
      ],
      "metadata": {
        "colab": {
          "base_uri": "https://localhost:8080/"
        },
        "id": "iY1t78ZdzYsk",
        "outputId": "8566a26b-b042-47ca-c9ec-2ca86039c785"
      },
      "execution_count": 3,
      "outputs": [
        {
          "output_type": "stream",
          "name": "stdout",
          "text": [
            "Mounted at /content/drive\n"
          ]
        }
      ]
    },
    {
      "cell_type": "markdown",
      "metadata": {
        "id": "SDGzHf5TG6UT"
      },
      "source": [
        "# Load dataset & model"
      ]
    },
    {
      "cell_type": "code",
      "execution_count": 4,
      "metadata": {
        "colab": {
          "base_uri": "https://localhost:8080/"
        },
        "id": "a-B3scZ0lXpa",
        "outputId": "335725d3-3685-490f-db06-25975681d08a"
      },
      "outputs": [
        {
          "output_type": "stream",
          "name": "stdout",
          "text": [
            "<class 'pandas.core.frame.DataFrame'>\n",
            "RangeIndex: 275111 entries, 0 to 275110\n",
            "Data columns (total 77 columns):\n",
            " #   Column             Non-Null Count   Dtype  \n",
            "---  ------             --------------   -----  \n",
            " 0   Flow Duration      275111 non-null  float64\n",
            " 1   Tot Fwd Pkts       275111 non-null  float64\n",
            " 2   Tot Bwd Pkts       275111 non-null  float64\n",
            " 3   TotLen Fwd Pkts    275111 non-null  float64\n",
            " 4   TotLen Bwd Pkts    275111 non-null  float64\n",
            " 5   Fwd Pkt Len Max    275111 non-null  float64\n",
            " 6   Fwd Pkt Len Min    275111 non-null  float64\n",
            " 7   Fwd Pkt Len Mean   275111 non-null  float64\n",
            " 8   Fwd Pkt Len Std    275111 non-null  float64\n",
            " 9   Bwd Pkt Len Max    275111 non-null  float64\n",
            " 10  Bwd Pkt Len Min    275111 non-null  float64\n",
            " 11  Bwd Pkt Len Mean   275111 non-null  float64\n",
            " 12  Bwd Pkt Len Std    275111 non-null  float64\n",
            " 13  Flow Byts/s        275111 non-null  float64\n",
            " 14  Flow Pkts/s        275111 non-null  float64\n",
            " 15  Flow IAT Mean      275111 non-null  float64\n",
            " 16  Flow IAT Std       275111 non-null  float64\n",
            " 17  Flow IAT Max       275111 non-null  float64\n",
            " 18  Flow IAT Min       275111 non-null  float64\n",
            " 19  Fwd IAT Tot        275111 non-null  float64\n",
            " 20  Fwd IAT Mean       275111 non-null  float64\n",
            " 21  Fwd IAT Std        275111 non-null  float64\n",
            " 22  Fwd IAT Max        275111 non-null  float64\n",
            " 23  Fwd IAT Min        275111 non-null  float64\n",
            " 24  Bwd IAT Tot        275111 non-null  float64\n",
            " 25  Bwd IAT Mean       275111 non-null  float64\n",
            " 26  Bwd IAT Std        275111 non-null  float64\n",
            " 27  Bwd IAT Max        275111 non-null  float64\n",
            " 28  Bwd IAT Min        275111 non-null  float64\n",
            " 29  Fwd PSH Flags      275111 non-null  float64\n",
            " 30  Bwd PSH Flags      275111 non-null  float64\n",
            " 31  Fwd URG Flags      275111 non-null  float64\n",
            " 32  Bwd URG Flags      275111 non-null  float64\n",
            " 33  Fwd Header Len     275111 non-null  float64\n",
            " 34  Bwd Header Len     275111 non-null  float64\n",
            " 35  Fwd Pkts/s         275111 non-null  float64\n",
            " 36  Bwd Pkts/s         275111 non-null  float64\n",
            " 37  Pkt Len Min        275111 non-null  float64\n",
            " 38  Pkt Len Max        275111 non-null  float64\n",
            " 39  Pkt Len Mean       275111 non-null  float64\n",
            " 40  Pkt Len Std        275111 non-null  float64\n",
            " 41  Pkt Len Var        275111 non-null  float64\n",
            " 42  FIN Flag Cnt       275111 non-null  float64\n",
            " 43  SYN Flag Cnt       275111 non-null  float64\n",
            " 44  RST Flag Cnt       275111 non-null  float64\n",
            " 45  PSH Flag Cnt       275111 non-null  float64\n",
            " 46  ACK Flag Cnt       275111 non-null  float64\n",
            " 47  URG Flag Cnt       275111 non-null  float64\n",
            " 48  CWE Flag Count     275111 non-null  float64\n",
            " 49  ECE Flag Cnt       275111 non-null  float64\n",
            " 50  Down/Up Ratio      275111 non-null  float64\n",
            " 51  Pkt Size Avg       275111 non-null  float64\n",
            " 52  Fwd Seg Size Avg   275111 non-null  float64\n",
            " 53  Bwd Seg Size Avg   275111 non-null  float64\n",
            " 54  Fwd Byts/b Avg     275111 non-null  float64\n",
            " 55  Fwd Pkts/b Avg     275111 non-null  float64\n",
            " 56  Fwd Blk Rate Avg   275111 non-null  float64\n",
            " 57  Bwd Byts/b Avg     275111 non-null  float64\n",
            " 58  Bwd Pkts/b Avg     275111 non-null  float64\n",
            " 59  Bwd Blk Rate Avg   275111 non-null  float64\n",
            " 60  Subflow Fwd Pkts   275111 non-null  float64\n",
            " 61  Subflow Fwd Byts   275111 non-null  float64\n",
            " 62  Subflow Bwd Pkts   275111 non-null  float64\n",
            " 63  Subflow Bwd Byts   275111 non-null  float64\n",
            " 64  Init Fwd Win Byts  275111 non-null  float64\n",
            " 65  Init Bwd Win Byts  275111 non-null  float64\n",
            " 66  Fwd Act Data Pkts  275111 non-null  float64\n",
            " 67  Fwd Seg Size Min   275111 non-null  float64\n",
            " 68  Active Mean        275111 non-null  float64\n",
            " 69  Active Std         275111 non-null  float64\n",
            " 70  Active Max         275111 non-null  float64\n",
            " 71  Active Min         275111 non-null  float64\n",
            " 72  Idle Mean          275111 non-null  float64\n",
            " 73  Idle Std           275111 non-null  float64\n",
            " 74  Idle Max           275111 non-null  float64\n",
            " 75  Idle Min           275111 non-null  float64\n",
            " 76  Label              275111 non-null  int64  \n",
            "dtypes: float64(76), int64(1)\n",
            "memory usage: 161.6 MB\n"
          ]
        }
      ],
      "source": [
        "df = pd.read_csv('/content/drive/MyDrive/Dataset/insdn/binary/train.csv')\n",
        "df.info()"
      ]
    },
    {
      "cell_type": "code",
      "execution_count": 5,
      "metadata": {
        "id": "9BkutXYx8C2V"
      },
      "outputs": [],
      "source": [
        "model_mlp = tf.keras.models.load_model('/content/drive/MyDrive/Dataset/insdn/insdn_mlp_multi.h5', compile=True)"
      ]
    },
    {
      "cell_type": "code",
      "execution_count": 6,
      "metadata": {
        "id": "8CQCgNzXysIE"
      },
      "outputs": [],
      "source": [
        "x_normal = df[df['Label'] == 0].reset_index(drop=True)"
      ]
    },
    {
      "cell_type": "code",
      "execution_count": 7,
      "metadata": {
        "colab": {
          "base_uri": "https://localhost:8080/"
        },
        "id": "xBfpy1cqzax6",
        "outputId": "97bb808f-6ce0-49d9-d9c2-042f839c4bf9"
      },
      "outputs": [
        {
          "output_type": "stream",
          "name": "stdout",
          "text": [
            "<class 'pandas.core.frame.DataFrame'>\n",
            "RangeIndex: 54797 entries, 0 to 54796\n",
            "Data columns (total 77 columns):\n",
            " #   Column             Non-Null Count  Dtype  \n",
            "---  ------             --------------  -----  \n",
            " 0   Flow Duration      54797 non-null  float64\n",
            " 1   Tot Fwd Pkts       54797 non-null  float64\n",
            " 2   Tot Bwd Pkts       54797 non-null  float64\n",
            " 3   TotLen Fwd Pkts    54797 non-null  float64\n",
            " 4   TotLen Bwd Pkts    54797 non-null  float64\n",
            " 5   Fwd Pkt Len Max    54797 non-null  float64\n",
            " 6   Fwd Pkt Len Min    54797 non-null  float64\n",
            " 7   Fwd Pkt Len Mean   54797 non-null  float64\n",
            " 8   Fwd Pkt Len Std    54797 non-null  float64\n",
            " 9   Bwd Pkt Len Max    54797 non-null  float64\n",
            " 10  Bwd Pkt Len Min    54797 non-null  float64\n",
            " 11  Bwd Pkt Len Mean   54797 non-null  float64\n",
            " 12  Bwd Pkt Len Std    54797 non-null  float64\n",
            " 13  Flow Byts/s        54797 non-null  float64\n",
            " 14  Flow Pkts/s        54797 non-null  float64\n",
            " 15  Flow IAT Mean      54797 non-null  float64\n",
            " 16  Flow IAT Std       54797 non-null  float64\n",
            " 17  Flow IAT Max       54797 non-null  float64\n",
            " 18  Flow IAT Min       54797 non-null  float64\n",
            " 19  Fwd IAT Tot        54797 non-null  float64\n",
            " 20  Fwd IAT Mean       54797 non-null  float64\n",
            " 21  Fwd IAT Std        54797 non-null  float64\n",
            " 22  Fwd IAT Max        54797 non-null  float64\n",
            " 23  Fwd IAT Min        54797 non-null  float64\n",
            " 24  Bwd IAT Tot        54797 non-null  float64\n",
            " 25  Bwd IAT Mean       54797 non-null  float64\n",
            " 26  Bwd IAT Std        54797 non-null  float64\n",
            " 27  Bwd IAT Max        54797 non-null  float64\n",
            " 28  Bwd IAT Min        54797 non-null  float64\n",
            " 29  Fwd PSH Flags      54797 non-null  float64\n",
            " 30  Bwd PSH Flags      54797 non-null  float64\n",
            " 31  Fwd URG Flags      54797 non-null  float64\n",
            " 32  Bwd URG Flags      54797 non-null  float64\n",
            " 33  Fwd Header Len     54797 non-null  float64\n",
            " 34  Bwd Header Len     54797 non-null  float64\n",
            " 35  Fwd Pkts/s         54797 non-null  float64\n",
            " 36  Bwd Pkts/s         54797 non-null  float64\n",
            " 37  Pkt Len Min        54797 non-null  float64\n",
            " 38  Pkt Len Max        54797 non-null  float64\n",
            " 39  Pkt Len Mean       54797 non-null  float64\n",
            " 40  Pkt Len Std        54797 non-null  float64\n",
            " 41  Pkt Len Var        54797 non-null  float64\n",
            " 42  FIN Flag Cnt       54797 non-null  float64\n",
            " 43  SYN Flag Cnt       54797 non-null  float64\n",
            " 44  RST Flag Cnt       54797 non-null  float64\n",
            " 45  PSH Flag Cnt       54797 non-null  float64\n",
            " 46  ACK Flag Cnt       54797 non-null  float64\n",
            " 47  URG Flag Cnt       54797 non-null  float64\n",
            " 48  CWE Flag Count     54797 non-null  float64\n",
            " 49  ECE Flag Cnt       54797 non-null  float64\n",
            " 50  Down/Up Ratio      54797 non-null  float64\n",
            " 51  Pkt Size Avg       54797 non-null  float64\n",
            " 52  Fwd Seg Size Avg   54797 non-null  float64\n",
            " 53  Bwd Seg Size Avg   54797 non-null  float64\n",
            " 54  Fwd Byts/b Avg     54797 non-null  float64\n",
            " 55  Fwd Pkts/b Avg     54797 non-null  float64\n",
            " 56  Fwd Blk Rate Avg   54797 non-null  float64\n",
            " 57  Bwd Byts/b Avg     54797 non-null  float64\n",
            " 58  Bwd Pkts/b Avg     54797 non-null  float64\n",
            " 59  Bwd Blk Rate Avg   54797 non-null  float64\n",
            " 60  Subflow Fwd Pkts   54797 non-null  float64\n",
            " 61  Subflow Fwd Byts   54797 non-null  float64\n",
            " 62  Subflow Bwd Pkts   54797 non-null  float64\n",
            " 63  Subflow Bwd Byts   54797 non-null  float64\n",
            " 64  Init Fwd Win Byts  54797 non-null  float64\n",
            " 65  Init Bwd Win Byts  54797 non-null  float64\n",
            " 66  Fwd Act Data Pkts  54797 non-null  float64\n",
            " 67  Fwd Seg Size Min   54797 non-null  float64\n",
            " 68  Active Mean        54797 non-null  float64\n",
            " 69  Active Std         54797 non-null  float64\n",
            " 70  Active Max         54797 non-null  float64\n",
            " 71  Active Min         54797 non-null  float64\n",
            " 72  Idle Mean          54797 non-null  float64\n",
            " 73  Idle Std           54797 non-null  float64\n",
            " 74  Idle Max           54797 non-null  float64\n",
            " 75  Idle Min           54797 non-null  float64\n",
            " 76  Label              54797 non-null  int64  \n",
            "dtypes: float64(76), int64(1)\n",
            "memory usage: 32.2 MB\n"
          ]
        }
      ],
      "source": [
        "x_normal.info()"
      ]
    },
    {
      "cell_type": "code",
      "execution_count": 8,
      "metadata": {
        "colab": {
          "base_uri": "https://localhost:8080/"
        },
        "id": "mQLA0I-h0Dji",
        "outputId": "941bdf91-b7f6-4382-afb9-cfcaab0b86e1"
      },
      "outputs": [
        {
          "output_type": "execute_result",
          "data": {
            "text/plain": [
              "0    54797\n",
              "Name: Label, dtype: int64"
            ]
          },
          "metadata": {},
          "execution_count": 8
        }
      ],
      "source": [
        "x_normal['Label'].value_counts()"
      ]
    },
    {
      "cell_type": "code",
      "source": [
        "df = df.drop(columns=['Label'])"
      ],
      "metadata": {
        "id": "3Wg8n_uhkW2c"
      },
      "execution_count": 9,
      "outputs": []
    },
    {
      "cell_type": "code",
      "execution_count": 10,
      "metadata": {
        "id": "nhDeX4S0zv7h"
      },
      "outputs": [],
      "source": [
        "x_normal = x_normal.drop(columns=['Label'])"
      ]
    },
    {
      "cell_type": "code",
      "source": [
        "feature_list = x_normal.columns"
      ],
      "metadata": {
        "id": "2nbvb3G4PTlN"
      },
      "execution_count": 11,
      "outputs": []
    },
    {
      "cell_type": "markdown",
      "metadata": {
        "id": "AT9S9DYm0H6q"
      },
      "source": [
        "# SHAP"
      ]
    },
    {
      "cell_type": "code",
      "execution_count": 12,
      "metadata": {
        "id": "Yrd_czRu0JGN"
      },
      "outputs": [],
      "source": [
        "explainer = shap.KernelExplainer(model_mlp, shap.sample(df, 100))"
      ]
    },
    {
      "cell_type": "code",
      "source": [
        "normal_1500 = x_normal.head(1500)"
      ],
      "metadata": {
        "id": "aZFunz6Xk9Cz"
      },
      "execution_count": 13,
      "outputs": []
    },
    {
      "cell_type": "code",
      "execution_count": 14,
      "metadata": {
        "id": "98Y0qFwm0aSS",
        "colab": {
          "base_uri": "https://localhost:8080/",
          "height": 49,
          "referenced_widgets": [
            "1f6e1f1e03e0454bb59d726a6890ef36",
            "0853617562f1466686d80f1b6b41f96e",
            "ee7ac10786454e99a8237a6e1ad613ea",
            "ad0193e55f10412f931399969ef10a10",
            "22dfb270a88644e2ad9d2e6173592048",
            "5878a559a51742468d4553eaf46714c0",
            "81eda0f9cfbc41978959cf671d405362",
            "0e757dc0d45745548f99eafe94476684",
            "b9338f0ff0194975bd0debf54115399f",
            "1245f8a3329343718a60dd1f7afcd77e",
            "db556f9d021e4edcae8082e981a2c287"
          ]
        },
        "outputId": "fdb77937-d0f0-4c1d-8a95-396f2c278678"
      },
      "outputs": [
        {
          "data": {
            "application/vnd.jupyter.widget-view+json": {
              "model_id": "1f6e1f1e03e0454bb59d726a6890ef36",
              "version_major": 2,
              "version_minor": 0
            },
            "text/plain": [
              "  0%|          | 0/1500 [00:00<?, ?it/s]"
            ]
          },
          "metadata": {},
          "output_type": "display_data"
        }
      ],
      "source": [
        "shap_values = explainer.shap_values(normal_1500)"
      ]
    },
    {
      "cell_type": "code",
      "source": [
        "data_df = pd.DataFrame(shap_values[0])"
      ],
      "metadata": {
        "id": "0Xmzh4feCGka"
      },
      "execution_count": 15,
      "outputs": []
    },
    {
      "cell_type": "code",
      "source": [
        "data_df.to_csv('/content/drive/MyDrive/1500_samples_[0].csv', index=False)"
      ],
      "metadata": {
        "id": "WlmxBElzCIu5"
      },
      "execution_count": 16,
      "outputs": []
    },
    {
      "cell_type": "code",
      "source": [
        "data_df.columns = feature_list\n",
        "data_df.head()"
      ],
      "metadata": {
        "colab": {
          "base_uri": "https://localhost:8080/",
          "height": 351
        },
        "id": "gWJJitNwObUj",
        "outputId": "f0c67620-cb39-43f4-bfe4-016d4030f67d"
      },
      "execution_count": 17,
      "outputs": [
        {
          "output_type": "execute_result",
          "data": {
            "text/plain": [
              "   Flow Duration  Tot Fwd Pkts  Tot Bwd Pkts  TotLen Fwd Pkts  \\\n",
              "0      -0.016213     -0.011424      0.020540         0.010562   \n",
              "1       0.002375      0.000739     -0.002176         0.000000   \n",
              "2       0.004361      0.003518      0.003847         0.000000   \n",
              "3       0.007202      0.005448      0.000000         0.000000   \n",
              "4       0.009965     -0.008950      0.000000         0.000000   \n",
              "\n",
              "   TotLen Bwd Pkts  Fwd Pkt Len Max  Fwd Pkt Len Min  Fwd Pkt Len Mean  \\\n",
              "0        -0.002964         0.019846         0.007190          0.000000   \n",
              "1         0.001997         0.010443         0.015367          0.010324   \n",
              "2         0.000000         0.008549         0.021560          0.017555   \n",
              "3        -0.004913         0.007874         0.017040          0.022536   \n",
              "4        -0.011063         0.035538         0.003742          0.035933   \n",
              "\n",
              "   Fwd Pkt Len Std  Bwd Pkt Len Max  ...  Fwd Act Data Pkts  Fwd Seg Size Min  \\\n",
              "0         0.019109         0.015782  ...           0.002229               0.0   \n",
              "1         0.000000         0.001907  ...          -0.005310               0.0   \n",
              "2        -0.003446         0.001738  ...           0.008333               0.0   \n",
              "3         0.002770         0.000000  ...           0.000000               0.0   \n",
              "4         0.030627         0.000000  ...           0.007677               0.0   \n",
              "\n",
              "   Active Mean  Active Std  Active Max  Active Min  Idle Mean  Idle Std  \\\n",
              "0    -0.010306   -0.009783    0.008458   -0.017709   0.008000   -0.0454   \n",
              "1     0.001485    0.001807    0.002048   -0.002969   0.002021    0.0000   \n",
              "2    -0.004769    0.000000   -0.002890    0.000000   0.001440    0.0000   \n",
              "3     0.000000    0.000000    0.000000    0.001046   0.000000    0.0000   \n",
              "4     0.000000    0.000000    0.000000    0.001599   0.000000    0.0000   \n",
              "\n",
              "   Idle Max  Idle Min  \n",
              "0 -0.018068 -0.015668  \n",
              "1  0.011725 -0.002128  \n",
              "2  0.004082 -0.010120  \n",
              "3  0.002418  0.000000  \n",
              "4  0.008079  0.000000  \n",
              "\n",
              "[5 rows x 76 columns]"
            ],
            "text/html": [
              "\n",
              "  <div id=\"df-56b5a4d8-b14e-4e46-b26d-5d67be163833\">\n",
              "    <div class=\"colab-df-container\">\n",
              "      <div>\n",
              "<style scoped>\n",
              "    .dataframe tbody tr th:only-of-type {\n",
              "        vertical-align: middle;\n",
              "    }\n",
              "\n",
              "    .dataframe tbody tr th {\n",
              "        vertical-align: top;\n",
              "    }\n",
              "\n",
              "    .dataframe thead th {\n",
              "        text-align: right;\n",
              "    }\n",
              "</style>\n",
              "<table border=\"1\" class=\"dataframe\">\n",
              "  <thead>\n",
              "    <tr style=\"text-align: right;\">\n",
              "      <th></th>\n",
              "      <th>Flow Duration</th>\n",
              "      <th>Tot Fwd Pkts</th>\n",
              "      <th>Tot Bwd Pkts</th>\n",
              "      <th>TotLen Fwd Pkts</th>\n",
              "      <th>TotLen Bwd Pkts</th>\n",
              "      <th>Fwd Pkt Len Max</th>\n",
              "      <th>Fwd Pkt Len Min</th>\n",
              "      <th>Fwd Pkt Len Mean</th>\n",
              "      <th>Fwd Pkt Len Std</th>\n",
              "      <th>Bwd Pkt Len Max</th>\n",
              "      <th>...</th>\n",
              "      <th>Fwd Act Data Pkts</th>\n",
              "      <th>Fwd Seg Size Min</th>\n",
              "      <th>Active Mean</th>\n",
              "      <th>Active Std</th>\n",
              "      <th>Active Max</th>\n",
              "      <th>Active Min</th>\n",
              "      <th>Idle Mean</th>\n",
              "      <th>Idle Std</th>\n",
              "      <th>Idle Max</th>\n",
              "      <th>Idle Min</th>\n",
              "    </tr>\n",
              "  </thead>\n",
              "  <tbody>\n",
              "    <tr>\n",
              "      <th>0</th>\n",
              "      <td>-0.016213</td>\n",
              "      <td>-0.011424</td>\n",
              "      <td>0.020540</td>\n",
              "      <td>0.010562</td>\n",
              "      <td>-0.002964</td>\n",
              "      <td>0.019846</td>\n",
              "      <td>0.007190</td>\n",
              "      <td>0.000000</td>\n",
              "      <td>0.019109</td>\n",
              "      <td>0.015782</td>\n",
              "      <td>...</td>\n",
              "      <td>0.002229</td>\n",
              "      <td>0.0</td>\n",
              "      <td>-0.010306</td>\n",
              "      <td>-0.009783</td>\n",
              "      <td>0.008458</td>\n",
              "      <td>-0.017709</td>\n",
              "      <td>0.008000</td>\n",
              "      <td>-0.0454</td>\n",
              "      <td>-0.018068</td>\n",
              "      <td>-0.015668</td>\n",
              "    </tr>\n",
              "    <tr>\n",
              "      <th>1</th>\n",
              "      <td>0.002375</td>\n",
              "      <td>0.000739</td>\n",
              "      <td>-0.002176</td>\n",
              "      <td>0.000000</td>\n",
              "      <td>0.001997</td>\n",
              "      <td>0.010443</td>\n",
              "      <td>0.015367</td>\n",
              "      <td>0.010324</td>\n",
              "      <td>0.000000</td>\n",
              "      <td>0.001907</td>\n",
              "      <td>...</td>\n",
              "      <td>-0.005310</td>\n",
              "      <td>0.0</td>\n",
              "      <td>0.001485</td>\n",
              "      <td>0.001807</td>\n",
              "      <td>0.002048</td>\n",
              "      <td>-0.002969</td>\n",
              "      <td>0.002021</td>\n",
              "      <td>0.0000</td>\n",
              "      <td>0.011725</td>\n",
              "      <td>-0.002128</td>\n",
              "    </tr>\n",
              "    <tr>\n",
              "      <th>2</th>\n",
              "      <td>0.004361</td>\n",
              "      <td>0.003518</td>\n",
              "      <td>0.003847</td>\n",
              "      <td>0.000000</td>\n",
              "      <td>0.000000</td>\n",
              "      <td>0.008549</td>\n",
              "      <td>0.021560</td>\n",
              "      <td>0.017555</td>\n",
              "      <td>-0.003446</td>\n",
              "      <td>0.001738</td>\n",
              "      <td>...</td>\n",
              "      <td>0.008333</td>\n",
              "      <td>0.0</td>\n",
              "      <td>-0.004769</td>\n",
              "      <td>0.000000</td>\n",
              "      <td>-0.002890</td>\n",
              "      <td>0.000000</td>\n",
              "      <td>0.001440</td>\n",
              "      <td>0.0000</td>\n",
              "      <td>0.004082</td>\n",
              "      <td>-0.010120</td>\n",
              "    </tr>\n",
              "    <tr>\n",
              "      <th>3</th>\n",
              "      <td>0.007202</td>\n",
              "      <td>0.005448</td>\n",
              "      <td>0.000000</td>\n",
              "      <td>0.000000</td>\n",
              "      <td>-0.004913</td>\n",
              "      <td>0.007874</td>\n",
              "      <td>0.017040</td>\n",
              "      <td>0.022536</td>\n",
              "      <td>0.002770</td>\n",
              "      <td>0.000000</td>\n",
              "      <td>...</td>\n",
              "      <td>0.000000</td>\n",
              "      <td>0.0</td>\n",
              "      <td>0.000000</td>\n",
              "      <td>0.000000</td>\n",
              "      <td>0.000000</td>\n",
              "      <td>0.001046</td>\n",
              "      <td>0.000000</td>\n",
              "      <td>0.0000</td>\n",
              "      <td>0.002418</td>\n",
              "      <td>0.000000</td>\n",
              "    </tr>\n",
              "    <tr>\n",
              "      <th>4</th>\n",
              "      <td>0.009965</td>\n",
              "      <td>-0.008950</td>\n",
              "      <td>0.000000</td>\n",
              "      <td>0.000000</td>\n",
              "      <td>-0.011063</td>\n",
              "      <td>0.035538</td>\n",
              "      <td>0.003742</td>\n",
              "      <td>0.035933</td>\n",
              "      <td>0.030627</td>\n",
              "      <td>0.000000</td>\n",
              "      <td>...</td>\n",
              "      <td>0.007677</td>\n",
              "      <td>0.0</td>\n",
              "      <td>0.000000</td>\n",
              "      <td>0.000000</td>\n",
              "      <td>0.000000</td>\n",
              "      <td>0.001599</td>\n",
              "      <td>0.000000</td>\n",
              "      <td>0.0000</td>\n",
              "      <td>0.008079</td>\n",
              "      <td>0.000000</td>\n",
              "    </tr>\n",
              "  </tbody>\n",
              "</table>\n",
              "<p>5 rows × 76 columns</p>\n",
              "</div>\n",
              "      <button class=\"colab-df-convert\" onclick=\"convertToInteractive('df-56b5a4d8-b14e-4e46-b26d-5d67be163833')\"\n",
              "              title=\"Convert this dataframe to an interactive table.\"\n",
              "              style=\"display:none;\">\n",
              "        \n",
              "  <svg xmlns=\"http://www.w3.org/2000/svg\" height=\"24px\"viewBox=\"0 0 24 24\"\n",
              "       width=\"24px\">\n",
              "    <path d=\"M0 0h24v24H0V0z\" fill=\"none\"/>\n",
              "    <path d=\"M18.56 5.44l.94 2.06.94-2.06 2.06-.94-2.06-.94-.94-2.06-.94 2.06-2.06.94zm-11 1L8.5 8.5l.94-2.06 2.06-.94-2.06-.94L8.5 2.5l-.94 2.06-2.06.94zm10 10l.94 2.06.94-2.06 2.06-.94-2.06-.94-.94-2.06-.94 2.06-2.06.94z\"/><path d=\"M17.41 7.96l-1.37-1.37c-.4-.4-.92-.59-1.43-.59-.52 0-1.04.2-1.43.59L10.3 9.45l-7.72 7.72c-.78.78-.78 2.05 0 2.83L4 21.41c.39.39.9.59 1.41.59.51 0 1.02-.2 1.41-.59l7.78-7.78 2.81-2.81c.8-.78.8-2.07 0-2.86zM5.41 20L4 18.59l7.72-7.72 1.47 1.35L5.41 20z\"/>\n",
              "  </svg>\n",
              "      </button>\n",
              "      \n",
              "  <style>\n",
              "    .colab-df-container {\n",
              "      display:flex;\n",
              "      flex-wrap:wrap;\n",
              "      gap: 12px;\n",
              "    }\n",
              "\n",
              "    .colab-df-convert {\n",
              "      background-color: #E8F0FE;\n",
              "      border: none;\n",
              "      border-radius: 50%;\n",
              "      cursor: pointer;\n",
              "      display: none;\n",
              "      fill: #1967D2;\n",
              "      height: 32px;\n",
              "      padding: 0 0 0 0;\n",
              "      width: 32px;\n",
              "    }\n",
              "\n",
              "    .colab-df-convert:hover {\n",
              "      background-color: #E2EBFA;\n",
              "      box-shadow: 0px 1px 2px rgba(60, 64, 67, 0.3), 0px 1px 3px 1px rgba(60, 64, 67, 0.15);\n",
              "      fill: #174EA6;\n",
              "    }\n",
              "\n",
              "    [theme=dark] .colab-df-convert {\n",
              "      background-color: #3B4455;\n",
              "      fill: #D2E3FC;\n",
              "    }\n",
              "\n",
              "    [theme=dark] .colab-df-convert:hover {\n",
              "      background-color: #434B5C;\n",
              "      box-shadow: 0px 1px 3px 1px rgba(0, 0, 0, 0.15);\n",
              "      filter: drop-shadow(0px 1px 2px rgba(0, 0, 0, 0.3));\n",
              "      fill: #FFFFFF;\n",
              "    }\n",
              "  </style>\n",
              "\n",
              "      <script>\n",
              "        const buttonEl =\n",
              "          document.querySelector('#df-56b5a4d8-b14e-4e46-b26d-5d67be163833 button.colab-df-convert');\n",
              "        buttonEl.style.display =\n",
              "          google.colab.kernel.accessAllowed ? 'block' : 'none';\n",
              "\n",
              "        async function convertToInteractive(key) {\n",
              "          const element = document.querySelector('#df-56b5a4d8-b14e-4e46-b26d-5d67be163833');\n",
              "          const dataTable =\n",
              "            await google.colab.kernel.invokeFunction('convertToInteractive',\n",
              "                                                     [key], {});\n",
              "          if (!dataTable) return;\n",
              "\n",
              "          const docLinkHtml = 'Like what you see? Visit the ' +\n",
              "            '<a target=\"_blank\" href=https://colab.research.google.com/notebooks/data_table.ipynb>data table notebook</a>'\n",
              "            + ' to learn more about interactive tables.';\n",
              "          element.innerHTML = '';\n",
              "          dataTable['output_type'] = 'display_data';\n",
              "          await google.colab.output.renderOutput(dataTable, element);\n",
              "          const docLink = document.createElement('div');\n",
              "          docLink.innerHTML = docLinkHtml;\n",
              "          element.appendChild(docLink);\n",
              "        }\n",
              "      </script>\n",
              "    </div>\n",
              "  </div>\n",
              "  "
            ]
          },
          "metadata": {},
          "execution_count": 17
        }
      ]
    },
    {
      "cell_type": "code",
      "source": [
        "data_dict = {}\n",
        "for idx in range(0, 1500):\n",
        "  # Select the desired row and get the top 10 values's column names\n",
        "  row_values = data_df.iloc[idx].nlargest(10).index.tolist()\n",
        "\n",
        "  # Create a dictionary and add the list with filename as the key\n",
        "  data_dict['Normal sample ' + str(idx)] = row_values"
      ],
      "metadata": {
        "id": "QIGzCfEdP75J"
      },
      "execution_count": 18,
      "outputs": []
    },
    {
      "cell_type": "code",
      "source": [
        "print(data_dict)"
      ],
      "metadata": {
        "colab": {
          "base_uri": "https://localhost:8080/"
        },
        "id": "PaG1SmFiS7U4",
        "outputId": "fc8e7fa4-8fd8-4c4c-c1eb-53295b259f68"
      },
      "execution_count": 19,
      "outputs": [
        {
          "output_type": "stream",
          "name": "stdout",
          "text": [
            "{'Normal sample 0': ['Pkt Len Max', 'Init Bwd Win Byts', 'Bwd Header Len', 'Fwd IAT Tot', 'Pkt Size Avg', 'Bwd IAT Tot', 'Pkt Len Std', 'SYN Flag Cnt', 'Pkt Len Mean', 'Bwd Pkts/s'], 'Normal sample 1': ['SYN Flag Cnt', 'ACK Flag Cnt', 'FIN Flag Cnt', 'Pkt Size Avg', 'Pkt Len Mean', 'Pkt Len Max', 'Flow Pkts/s', 'Bwd Pkts/s', 'Pkt Len Min', 'Pkt Len Std'], 'Normal sample 2': ['SYN Flag Cnt', 'ACK Flag Cnt', 'FIN Flag Cnt', 'Pkt Size Avg', 'Bwd Pkts/s', 'Pkt Len Mean', 'Flow Pkts/s', 'Pkt Len Min', 'Pkt Len Max', 'Pkt Len Std'], 'Normal sample 3': ['SYN Flag Cnt', 'FIN Flag Cnt', 'ACK Flag Cnt', 'Pkt Len Max', 'Pkt Size Avg', 'Flow Pkts/s', 'Pkt Len Std', 'Bwd Pkts/s', 'Pkt Len Min', 'Pkt Len Mean'], 'Normal sample 4': ['Init Bwd Win Byts', 'Fwd Pkt Len Mean', 'FIN Flag Cnt', 'Fwd Pkt Len Max', 'Pkt Len Max', 'Fwd Pkt Len Std', 'Fwd Seg Size Avg', 'Flow Pkts/s', 'ACK Flag Cnt', 'Pkt Len Mean'], 'Normal sample 5': ['SYN Flag Cnt', 'FIN Flag Cnt', 'ACK Flag Cnt', 'Pkt Size Avg', 'Pkt Len Max', 'Pkt Len Mean', 'Flow Pkts/s', 'Pkt Len Min', 'Bwd Pkts/s', 'Pkt Len Std'], 'Normal sample 6': ['SYN Flag Cnt', 'ACK Flag Cnt', 'FIN Flag Cnt', 'Bwd Pkts/s', 'Flow Pkts/s', 'Pkt Size Avg', 'Pkt Len Mean', 'Pkt Len Min', 'Bwd Pkt Len Min', 'Fwd Pkt Len Min'], 'Normal sample 7': ['Init Bwd Win Byts', 'SYN Flag Cnt', 'FIN Flag Cnt', 'Down/Up Ratio', 'Flow IAT Max', 'Flow Pkts/s', 'Idle Max', 'Idle Min', 'Idle Mean', 'Bwd IAT Std'], 'Normal sample 8': ['SYN Flag Cnt', 'ACK Flag Cnt', 'FIN Flag Cnt', 'Pkt Size Avg', 'Pkt Len Mean', 'Pkt Len Max', 'Flow Pkts/s', 'Pkt Len Std', 'Pkt Len Min', 'Bwd Pkts/s'], 'Normal sample 9': ['Init Bwd Win Byts', 'SYN Flag Cnt', 'Down/Up Ratio', 'FIN Flag Cnt', 'Flow Pkts/s', 'Flow IAT Max', 'URG Flag Cnt', 'Idle Mean', 'Bwd IAT Std', 'Idle Max'], 'Normal sample 10': ['SYN Flag Cnt', 'ACK Flag Cnt', 'FIN Flag Cnt', 'Pkt Len Max', 'Flow Pkts/s', 'Pkt Size Avg', 'Bwd Pkts/s', 'Pkt Len Min', 'Pkt Len Mean', 'Pkt Len Std'], 'Normal sample 11': ['SYN Flag Cnt', 'ACK Flag Cnt', 'FIN Flag Cnt', 'Bwd Pkts/s', 'Flow Pkts/s', 'Pkt Size Avg', 'Pkt Len Max', 'Pkt Len Mean', 'Pkt Len Min', 'Bwd Pkt Len Min'], 'Normal sample 12': ['Init Bwd Win Byts', 'Fwd IAT Tot', 'Fwd Pkt Len Max', 'Bwd IAT Tot', 'Pkt Len Max', 'ACK Flag Cnt', 'Fwd IAT Std', 'Bwd Pkts/s', 'Pkt Size Avg', 'Fwd Pkt Len Std'], 'Normal sample 13': ['Init Bwd Win Byts', 'Bwd PSH Flags', 'Fwd IAT Std', 'Fwd IAT Tot', 'Idle Max', 'Idle Min', 'PSH Flag Cnt', 'SYN Flag Cnt', 'Bwd Pkts/s', 'FIN Flag Cnt'], 'Normal sample 14': ['Init Bwd Win Byts', 'Fwd IAT Tot', 'Fwd Pkt Len Max', 'SYN Flag Cnt', 'Fwd IAT Std', 'Fwd Seg Size Avg', 'Fwd Pkt Len Std', 'FIN Flag Cnt', 'Bwd IAT Max', 'Tot Fwd Pkts'], 'Normal sample 15': ['Init Bwd Win Byts', 'SYN Flag Cnt', 'FIN Flag Cnt', 'Down/Up Ratio', 'Flow Pkts/s', 'Idle Mean', 'Flow IAT Max', 'URG Flag Cnt', 'Bwd IAT Std', 'Bwd URG Flags'], 'Normal sample 16': ['SYN Flag Cnt', 'FIN Flag Cnt', 'ACK Flag Cnt', 'Pkt Size Avg', 'Pkt Len Mean', 'Pkt Len Max', 'Pkt Len Std', 'Bwd Pkts/s', 'Flow Pkts/s', 'Pkt Len Min'], 'Normal sample 17': ['SYN Flag Cnt', 'FIN Flag Cnt', 'ACK Flag Cnt', 'Pkt Size Avg', 'Pkt Len Mean', 'Pkt Len Max', 'Pkt Len Std', 'Flow Pkts/s', 'Bwd Pkts/s', 'Pkt Len Min'], 'Normal sample 18': ['SYN Flag Cnt', 'FIN Flag Cnt', 'ACK Flag Cnt', 'Pkt Size Avg', 'Pkt Len Mean', 'Pkt Len Min', 'Flow Pkts/s', 'Bwd Pkts/s', 'Pkt Len Max', 'Bwd Pkt Len Min'], 'Normal sample 19': ['Init Bwd Win Byts', 'Fwd Pkt Len Max', 'Pkt Len Max', 'Fwd IAT Tot', 'Bwd PSH Flags', 'SYN Flag Cnt', 'Fwd Seg Size Avg', 'Fwd Pkt Len Std', 'Fwd Act Data Pkts', 'Down/Up Ratio'], 'Normal sample 20': ['SYN Flag Cnt', 'FIN Flag Cnt', 'ACK Flag Cnt', 'Pkt Size Avg', 'Pkt Len Mean', 'Flow Pkts/s', 'Bwd Pkts/s', 'Pkt Len Max', 'Pkt Len Min', 'Pkt Len Std'], 'Normal sample 21': ['SYN Flag Cnt', 'ACK Flag Cnt', 'FIN Flag Cnt', 'Pkt Size Avg', 'Pkt Len Max', 'Pkt Len Mean', 'Flow Pkts/s', 'Pkt Len Std', 'Bwd Pkts/s', 'Pkt Len Min'], 'Normal sample 22': ['Init Bwd Win Byts', 'PSH Flag Cnt', 'SYN Flag Cnt', 'Pkt Size Avg', 'Flow Pkts/s', 'Pkt Len Mean', 'Bwd Pkts/s', 'Active Max', 'Idle Max', 'Bwd URG Flags'], 'Normal sample 23': ['SYN Flag Cnt', 'ACK Flag Cnt', 'FIN Flag Cnt', 'Bwd Pkts/s', 'Flow Pkts/s', 'Pkt Size Avg', 'Pkt Len Max', 'Pkt Len Mean', 'Pkt Len Min', 'Pkt Len Std'], 'Normal sample 24': ['Init Bwd Win Byts', 'SYN Flag Cnt', 'ACK Flag Cnt', 'Flow IAT Max', 'Down/Up Ratio', 'Flow IAT Std', 'URG Flag Cnt', 'Fwd Act Data Pkts', 'Bwd Pkt Len Min', 'Fwd Pkt Len Min'], 'Normal sample 25': ['SYN Flag Cnt', 'ACK Flag Cnt', 'FIN Flag Cnt', 'Pkt Size Avg', 'Bwd Pkts/s', 'Pkt Len Max', 'Flow Pkts/s', 'Pkt Len Mean', 'Pkt Len Std', 'Pkt Len Min'], 'Normal sample 26': ['SYN Flag Cnt', 'Fwd Pkt Len Max', 'Fwd Pkt Len Mean', 'Fwd Seg Size Avg', 'Fwd Pkt Len Std', 'Pkt Size Avg', 'Pkt Len Max', 'Pkt Len Mean', 'Bwd Pkts/s', 'FIN Flag Cnt'], 'Normal sample 27': ['SYN Flag Cnt', 'Fwd Pkt Len Max', 'Fwd Pkt Len Mean', 'Fwd Pkt Len Std', 'Fwd Seg Size Avg', 'Pkt Len Max', 'Flow Byts/s', 'Pkt Size Avg', 'Pkt Len Mean', 'Pkt Len Std'], 'Normal sample 28': ['Fwd Pkt Len Max', 'Flow Byts/s', 'Fwd Pkt Len Mean', 'Fwd Pkt Len Std', 'Fwd Seg Size Avg', 'SYN Flag Cnt', 'Pkt Size Avg', 'Pkt Len Max', 'Pkt Len Mean', 'Down/Up Ratio'], 'Normal sample 29': ['Init Bwd Win Byts', 'SYN Flag Cnt', 'Bwd Pkts/s', 'Down/Up Ratio', 'Flow Pkts/s', 'FIN Flag Cnt', 'Pkt Size Avg', 'Fwd Seg Size Avg', 'Bwd PSH Flags', 'Pkt Len Max'], 'Normal sample 30': ['SYN Flag Cnt', 'FIN Flag Cnt', 'ACK Flag Cnt', 'Pkt Size Avg', 'Pkt Len Max', 'Pkt Len Mean', 'Pkt Len Std', 'Bwd Pkts/s', 'Pkt Len Min', 'Flow Pkts/s'], 'Normal sample 31': ['Init Bwd Win Byts', 'SYN Flag Cnt', 'Fwd IAT Std', 'Bwd IAT Max', 'Fwd IAT Tot', 'Bwd PSH Flags', 'Bwd IAT Tot', 'Bwd Pkts/s', 'FIN Flag Cnt', 'Fwd IAT Max'], 'Normal sample 32': ['SYN Flag Cnt', 'ACK Flag Cnt', 'FIN Flag Cnt', 'Pkt Size Avg', 'Bwd Pkts/s', 'Flow Pkts/s', 'Pkt Len Mean', 'Pkt Len Max', 'Pkt Len Min', 'Pkt Len Std'], 'Normal sample 33': ['Init Bwd Win Byts', 'Pkt Len Max', 'Pkt Size Avg', 'Pkt Len Mean', 'ACK Flag Cnt', 'Pkt Len Std', 'Fwd IAT Max', 'Bwd IAT Max', 'Flow IAT Max', 'Fwd IAT Tot'], 'Normal sample 34': ['Init Bwd Win Byts', 'SYN Flag Cnt', 'Idle Max', 'PSH Flag Cnt', 'Flow IAT Max', 'URG Flag Cnt', 'Idle Min', 'Down/Up Ratio', 'Bwd URG Flags', 'Fwd Pkt Len Max'], 'Normal sample 35': ['Init Bwd Win Byts', 'Fwd IAT Tot', 'Fwd Pkt Len Max', 'ACK Flag Cnt', 'Fwd Pkt Len Std', 'Down/Up Ratio', 'Fwd IAT Std', 'Pkt Len Max', 'FIN Flag Cnt', 'Bwd IAT Tot'], 'Normal sample 36': ['Init Bwd Win Byts', 'Pkt Len Max', 'Bwd Header Len', 'Pkt Len Mean', 'Pkt Size Avg', 'Pkt Len Std', 'Fwd IAT Max', 'Subflow Bwd Pkts', 'Fwd IAT Tot', 'Tot Bwd Pkts'], 'Normal sample 37': ['SYN Flag Cnt', 'ACK Flag Cnt', 'FIN Flag Cnt', 'Pkt Size Avg', 'Pkt Len Max', 'Pkt Len Mean', 'Pkt Len Std', 'Bwd Pkts/s', 'Flow Pkts/s', 'Pkt Len Min'], 'Normal sample 38': ['SYN Flag Cnt', 'FIN Flag Cnt', 'ACK Flag Cnt', 'Pkt Size Avg', 'Flow Pkts/s', 'Pkt Len Mean', 'Pkt Len Max', 'Pkt Len Std', 'Bwd Pkts/s', 'Pkt Len Min'], 'Normal sample 39': ['PSH Flag Cnt', 'Down/Up Ratio', 'SYN Flag Cnt', 'Bwd PSH Flags', 'Pkt Len Std', 'Pkt Len Mean', 'Bwd URG Flags', 'Flow Byts/s', 'Bwd Pkts/s', 'Flow Pkts/s'], 'Normal sample 40': ['SYN Flag Cnt', 'FIN Flag Cnt', 'ACK Flag Cnt', 'Pkt Size Avg', 'Flow Pkts/s', 'Bwd Pkts/s', 'Pkt Len Min', 'Pkt Len Mean', 'Pkt Len Max', 'Pkt Len Std'], 'Normal sample 41': ['Fwd Pkt Len Max', 'Fwd Pkt Len Std', 'SYN Flag Cnt', 'Fwd Pkt Len Mean', 'Flow Byts/s', 'Fwd Seg Size Avg', 'Pkt Size Avg', 'Pkt Len Mean', 'Bwd PSH Flags', 'Pkt Len Max'], 'Normal sample 42': ['Init Bwd Win Byts', 'SYN Flag Cnt', 'Down/Up Ratio', 'FIN Flag Cnt', 'Flow Pkts/s', 'Bwd IAT Std', 'Idle Max', 'PSH Flag Cnt', 'Flow IAT Max', 'Idle Min'], 'Normal sample 43': ['Init Bwd Win Byts', 'Fwd Pkt Len Max', 'Fwd IAT Tot', 'Fwd Pkt Len Mean', 'ACK Flag Cnt', 'Fwd Pkt Len Std', 'Pkt Len Max', 'Down/Up Ratio', 'Pkt Len Mean', 'Pkt Len Std'], 'Normal sample 44': ['SYN Flag Cnt', 'ACK Flag Cnt', 'FIN Flag Cnt', 'Pkt Size Avg', 'Pkt Len Max', 'Flow Pkts/s', 'Pkt Len Mean', 'Pkt Len Std', 'Bwd Pkts/s', 'Pkt Len Min'], 'Normal sample 45': ['SYN Flag Cnt', 'ACK Flag Cnt', 'FIN Flag Cnt', 'Pkt Size Avg', 'Pkt Len Mean', 'Flow Pkts/s', 'Bwd Pkts/s', 'Pkt Len Max', 'Pkt Len Std', 'Pkt Len Min'], 'Normal sample 46': ['Init Bwd Win Byts', 'SYN Flag Cnt', 'Down/Up Ratio', 'FIN Flag Cnt', 'Flow IAT Max', 'Flow Pkts/s', 'Idle Max', 'Bwd IAT Std', 'Flow IAT Std', 'URG Flag Cnt'], 'Normal sample 47': ['Init Bwd Win Byts', 'SYN Flag Cnt', 'FIN Flag Cnt', 'Down/Up Ratio', 'Flow IAT Max', 'Flow Pkts/s', 'Flow IAT Std', 'Bwd IAT Std', 'Fwd Pkt Len Min', 'Bwd IAT Max'], 'Normal sample 48': ['SYN Flag Cnt', 'FIN Flag Cnt', 'ACK Flag Cnt', 'Pkt Size Avg', 'Pkt Len Mean', 'Bwd Pkts/s', 'Pkt Len Min', 'Pkt Len Max', 'Flow Pkts/s', 'Pkt Len Std'], 'Normal sample 49': ['SYN Flag Cnt', 'FIN Flag Cnt', 'ACK Flag Cnt', 'Pkt Size Avg', 'Pkt Len Mean', 'Pkt Len Max', 'Flow Pkts/s', 'Pkt Len Min', 'Bwd Pkts/s', 'Pkt Len Std'], 'Normal sample 50': ['SYN Flag Cnt', 'FIN Flag Cnt', 'ACK Flag Cnt', 'Pkt Size Avg', 'Pkt Len Max', 'Pkt Len Mean', 'Flow Pkts/s', 'Bwd Pkts/s', 'Pkt Len Min', 'Pkt Len Std'], 'Normal sample 51': ['SYN Flag Cnt', 'FIN Flag Cnt', 'Pkt Size Avg', 'ACK Flag Cnt', 'Pkt Len Mean', 'Pkt Len Min', 'Flow Pkts/s', 'Fwd Seg Size Avg', 'Fwd Pkt Len Mean', 'Fwd Pkt Len Min'], 'Normal sample 52': ['SYN Flag Cnt', 'ACK Flag Cnt', 'FIN Flag Cnt', 'Pkt Size Avg', 'Pkt Len Mean', 'Bwd Pkts/s', 'Flow Pkts/s', 'Pkt Len Max', 'Pkt Len Min', 'Pkt Len Std'], 'Normal sample 53': ['Init Bwd Win Byts', 'Pkt Size Avg', 'Pkt Len Mean', 'Pkt Len Max', 'Fwd Pkt Len Max', 'Fwd Pkt Len Std', 'Pkt Len Std', 'Flow Pkts/s', 'Fwd Seg Size Avg', 'Down/Up Ratio'], 'Normal sample 54': ['SYN Flag Cnt', 'ACK Flag Cnt', 'FIN Flag Cnt', 'Pkt Size Avg', 'Pkt Len Mean', 'Flow Pkts/s', 'Bwd Pkts/s', 'Pkt Len Min', 'Pkt Len Max', 'Pkt Len Std'], 'Normal sample 55': ['Init Bwd Win Byts', 'Fwd IAT Tot', 'Fwd Pkt Len Max', 'Fwd IAT Std', 'Fwd IAT Max', 'FIN Flag Cnt', 'Fwd Pkt Len Mean', 'Pkt Len Max', 'Fwd Pkt Len Std', 'Flow Pkts/s'], 'Normal sample 56': ['Flow Byts/s', 'SYN Flag Cnt', 'Fwd Pkt Len Max', 'Fwd Pkt Len Mean', 'Fwd Seg Size Avg', 'Fwd Pkt Len Std', 'Pkt Len Max', 'Pkt Len Mean', 'Pkt Size Avg', 'Pkt Len Std'], 'Normal sample 57': ['Init Bwd Win Byts', 'SYN Flag Cnt', 'Down/Up Ratio', 'FIN Flag Cnt', 'PSH Flag Cnt', 'Flow IAT Max', 'Flow Pkts/s', 'URG Flag Cnt', 'Idle Mean', 'Idle Min'], 'Normal sample 58': ['SYN Flag Cnt', 'FIN Flag Cnt', 'ACK Flag Cnt', 'Pkt Size Avg', 'Pkt Len Mean', 'Pkt Len Max', 'Flow Pkts/s', 'Pkt Len Min', 'Pkt Len Std', 'Bwd Pkts/s'], 'Normal sample 59': ['Init Bwd Win Byts', 'SYN Flag Cnt', 'Flow IAT Max', 'Down/Up Ratio', 'Flow Pkts/s', 'Bwd IAT Max', 'PSH Flag Cnt', 'Flow IAT Std', 'Bwd URG Flags', 'Idle Max'], 'Normal sample 60': ['SYN Flag Cnt', 'ACK Flag Cnt', 'FIN Flag Cnt', 'Bwd Pkts/s', 'Flow Pkts/s', 'Pkt Size Avg', 'Pkt Len Max', 'Pkt Len Min', 'Pkt Len Mean', 'Pkt Len Std'], 'Normal sample 61': ['SYN Flag Cnt', 'ACK Flag Cnt', 'FIN Flag Cnt', 'Bwd Pkts/s', 'Pkt Size Avg', 'Flow Pkts/s', 'Pkt Len Max', 'Pkt Len Mean', 'Pkt Len Min', 'Pkt Len Std'], 'Normal sample 62': ['Init Bwd Win Byts', 'Fwd IAT Std', 'FIN Flag Cnt', 'Fwd Pkt Len Max', 'Fwd IAT Tot', 'Fwd IAT Max', 'Fwd Pkt Len Std', 'Pkt Len Max', 'Fwd Pkt Len Mean', 'Fwd Seg Size Avg'], 'Normal sample 63': ['Init Bwd Win Byts', 'FIN Flag Cnt', 'Pkt Size Avg', 'Bwd IAT Tot', 'Pkt Len Mean', 'Fwd Pkt Len Std', 'Bwd IAT Max', 'Pkt Len Max', 'Flow Duration', 'Fwd Pkt Len Max'], 'Normal sample 64': ['SYN Flag Cnt', 'ACK Flag Cnt', 'FIN Flag Cnt', 'Pkt Size Avg', 'Pkt Len Max', 'Flow Pkts/s', 'Pkt Len Min', 'Pkt Len Mean', 'Bwd Pkts/s', 'Pkt Len Std'], 'Normal sample 65': ['SYN Flag Cnt', 'FIN Flag Cnt', 'ACK Flag Cnt', 'Pkt Size Avg', 'Pkt Len Mean', 'Flow Pkts/s', 'Bwd Pkts/s', 'Pkt Len Max', 'Pkt Len Min', 'Pkt Len Std'], 'Normal sample 66': ['Init Bwd Win Byts', 'SYN Flag Cnt', 'Bwd Pkts/s', 'Flow Pkts/s', 'Down/Up Ratio', 'Bwd Pkt Len Min', 'Bwd PSH Flags', 'FIN Flag Cnt', 'Pkt Size Avg', 'Pkt Len Mean'], 'Normal sample 67': ['Init Bwd Win Byts', 'SYN Flag Cnt', 'Pkt Size Avg', 'FIN Flag Cnt', 'Down/Up Ratio', 'Bwd Pkt Len Min', 'Flow Byts/s', 'Pkt Len Std', 'Pkt Len Mean', 'Active Mean'], 'Normal sample 68': ['SYN Flag Cnt', 'ACK Flag Cnt', 'FIN Flag Cnt', 'Bwd Pkts/s', 'Pkt Size Avg', 'Flow Pkts/s', 'Pkt Len Min', 'Pkt Len Mean', 'Pkt Len Max', 'Pkt Len Std'], 'Normal sample 69': ['SYN Flag Cnt', 'ACK Flag Cnt', 'FIN Flag Cnt', 'Bwd Pkts/s', 'Pkt Size Avg', 'Pkt Len Mean', 'Flow Pkts/s', 'Pkt Len Max', 'Pkt Len Std', 'Pkt Len Min'], 'Normal sample 70': ['SYN Flag Cnt', 'FIN Flag Cnt', 'ACK Flag Cnt', 'Pkt Size Avg', 'Pkt Len Max', 'Pkt Len Mean', 'Flow Pkts/s', 'Pkt Len Min', 'Pkt Len Std', 'Bwd Pkts/s'], 'Normal sample 71': ['SYN Flag Cnt', 'ACK Flag Cnt', 'FIN Flag Cnt', 'Bwd Pkts/s', 'Flow Pkts/s', 'Pkt Size Avg', 'Pkt Len Max', 'Pkt Len Mean', 'Pkt Len Min', 'Pkt Len Std'], 'Normal sample 72': ['SYN Flag Cnt', 'FIN Flag Cnt', 'ACK Flag Cnt', 'Pkt Size Avg', 'Pkt Len Max', 'Flow Pkts/s', 'Pkt Len Mean', 'Pkt Len Std', 'Bwd Pkts/s', 'Pkt Len Min'], 'Normal sample 73': ['Init Bwd Win Byts', 'Fwd IAT Tot', 'Fwd IAT Std', 'Bwd PSH Flags', 'SYN Flag Cnt', 'Subflow Fwd Byts', 'Down/Up Ratio', 'Fwd IAT Min', 'Pkt Len Max', 'FIN Flag Cnt'], 'Normal sample 74': ['SYN Flag Cnt', 'ACK Flag Cnt', 'FIN Flag Cnt', 'Pkt Size Avg', 'Pkt Len Mean', 'Flow Pkts/s', 'Pkt Len Max', 'Pkt Len Min', 'Pkt Len Std', 'Bwd Pkts/s'], 'Normal sample 75': ['SYN Flag Cnt', 'FIN Flag Cnt', 'ACK Flag Cnt', 'Pkt Size Avg', 'Pkt Len Max', 'Pkt Len Mean', 'Pkt Len Std', 'Flow Pkts/s', 'Bwd Pkts/s', 'Pkt Len Min'], 'Normal sample 76': ['SYN Flag Cnt', 'ACK Flag Cnt', 'FIN Flag Cnt', 'Pkt Size Avg', 'Pkt Len Mean', 'Pkt Len Max', 'Flow Pkts/s', 'Pkt Len Std', 'Bwd Pkts/s', 'Pkt Len Min'], 'Normal sample 77': ['Init Bwd Win Byts', 'SYN Flag Cnt', 'Bwd Pkts/s', 'Down/Up Ratio', 'Flow IAT Max', 'Idle Mean', 'Idle Min', 'PSH Flag Cnt', 'Idle Max', 'Bwd IAT Std'], 'Normal sample 78': ['Init Bwd Win Byts', 'Bwd PSH Flags', 'Fwd IAT Std', 'SYN Flag Cnt', 'Bwd Pkts/s', 'Fwd IAT Tot', 'FIN Flag Cnt', 'Bwd IAT Max', 'Flow Pkts/s', 'Pkt Size Avg'], 'Normal sample 79': ['SYN Flag Cnt', 'FIN Flag Cnt', 'Pkt Size Avg', 'Pkt Len Mean', 'Fwd Pkt Len Mean', 'Pkt Len Min', 'ACK Flag Cnt', 'Bwd Pkts/s', 'Fwd Seg Size Avg', 'Flow Pkts/s'], 'Normal sample 80': ['Init Bwd Win Byts', 'SYN Flag Cnt', 'Down/Up Ratio', 'FIN Flag Cnt', 'Flow IAT Max', 'Flow Pkts/s', 'Idle Min', 'Bwd IAT Std', 'Idle Mean', 'PSH Flag Cnt'], 'Normal sample 81': ['Init Bwd Win Byts', 'Fwd Seg Size Avg', 'ACK Flag Cnt', 'Fwd Pkt Len Max', 'Fwd Pkt Len Std', 'Fwd Pkt Len Mean', 'Pkt Size Avg', 'Bwd IAT Max', 'Fwd IAT Tot', 'Pkt Len Mean'], 'Normal sample 82': ['SYN Flag Cnt', 'ACK Flag Cnt', 'FIN Flag Cnt', 'Pkt Size Avg', 'Bwd Pkts/s', 'Flow Pkts/s', 'Pkt Len Max', 'Pkt Len Mean', 'Pkt Len Min', 'Pkt Len Std'], 'Normal sample 83': ['Init Bwd Win Byts', 'SYN Flag Cnt', 'Down/Up Ratio', 'Flow Pkts/s', 'FIN Flag Cnt', 'Idle Max', 'URG Flag Cnt', 'PSH Flag Cnt', 'Flow IAT Max', 'Active Max'], 'Normal sample 84': ['Init Bwd Win Byts', 'SYN Flag Cnt', 'Down/Up Ratio', 'FIN Flag Cnt', 'ACK Flag Cnt', 'Idle Min', 'Idle Max', 'Active Std', 'Flow IAT Max', 'Flow IAT Min'], 'Normal sample 85': ['Init Bwd Win Byts', 'SYN Flag Cnt', 'FIN Flag Cnt', 'Down/Up Ratio', 'Flow Pkts/s', 'Bwd IAT Std', 'Flow IAT Max', 'Idle Mean', 'Idle Max', 'PSH Flag Cnt'], 'Normal sample 86': ['SYN Flag Cnt', 'FIN Flag Cnt', 'ACK Flag Cnt', 'Pkt Size Avg', 'Pkt Len Mean', 'Pkt Len Max', 'Pkt Len Min', 'Flow Pkts/s', 'Bwd Pkts/s', 'Pkt Len Std'], 'Normal sample 87': ['Init Bwd Win Byts', 'Fwd Pkt Len Max', 'Fwd Pkt Len Std', 'Fwd Pkt Len Mean', 'Fwd IAT Tot', 'Pkt Len Mean', 'ACK Flag Cnt', 'Fwd IAT Max', 'Down/Up Ratio', 'FIN Flag Cnt'], 'Normal sample 88': ['Init Bwd Win Byts', 'SYN Flag Cnt', 'Flow IAT Max', 'URG Flag Cnt', 'Idle Max', 'Down/Up Ratio', 'Idle Min', 'PSH Flag Cnt', 'Bwd IAT Max', 'Bwd IAT Tot'], 'Normal sample 89': ['Init Bwd Win Byts', 'Pkt Len Max', 'Fwd IAT Tot', 'Bwd IAT Tot', 'Pkt Size Avg', 'ACK Flag Cnt', 'Down/Up Ratio', 'Pkt Len Mean', 'Pkt Len Std', 'Fwd IAT Std'], 'Normal sample 90': ['Init Bwd Win Byts', 'SYN Flag Cnt', 'FIN Flag Cnt', 'Down/Up Ratio', 'Idle Max', 'Flow IAT Max', 'Flow Pkts/s', 'Bwd IAT Std', 'Bwd URG Flags', 'Flow Duration'], 'Normal sample 91': ['Init Bwd Win Byts', 'Pkt Len Max', 'Pkt Size Avg', 'Pkt Len Mean', 'Pkt Len Std', 'Down/Up Ratio', 'Fwd IAT Max', 'ACK Flag Cnt', 'Bwd IAT Max', 'Bwd IAT Tot'], 'Normal sample 92': ['Init Bwd Win Byts', 'SYN Flag Cnt', 'Down/Up Ratio', 'Idle Max', 'Flow IAT Max', 'Idle Mean', 'URG Flag Cnt', 'PSH Flag Cnt', 'Bwd IAT Tot', 'Subflow Bwd Byts'], 'Normal sample 93': ['Init Bwd Win Byts', 'Fwd IAT Tot', 'Fwd IAT Std', 'Bwd PSH Flags', 'SYN Flag Cnt', 'Bwd Pkts/s', 'Fwd Pkt Len Max', 'Bwd IAT Max', 'Fwd Pkt Len Std', 'Pkt Len Max'], 'Normal sample 94': ['Init Bwd Win Byts', 'Fwd IAT Tot', 'Pkt Len Max', 'ACK Flag Cnt', 'Bwd IAT Tot', 'Pkt Len Std', 'Fwd Pkt Len Mean', 'Fwd Pkt Len Max', 'Fwd IAT Std', 'Fwd IAT Max'], 'Normal sample 95': ['SYN Flag Cnt', 'FIN Flag Cnt', 'Pkt Size Avg', 'ACK Flag Cnt', 'Pkt Len Min', 'Pkt Len Mean', 'Fwd Pkt Len Mean', 'Fwd Pkt Len Min', 'Fwd Seg Size Avg', 'Flow Byts/s'], 'Normal sample 96': ['Init Bwd Win Byts', 'Pkt Len Max', 'Pkt Len Std', 'Bwd Header Len', 'Fwd IAT Tot', 'Pkt Size Avg', 'Tot Bwd Pkts', 'Pkt Len Mean', 'Fwd IAT Max', 'Fwd Pkt Len Max'], 'Normal sample 97': ['SYN Flag Cnt', 'ACK Flag Cnt', 'FIN Flag Cnt', 'Pkt Size Avg', 'Bwd Pkts/s', 'Pkt Len Max', 'Pkt Len Mean', 'Pkt Len Min', 'Pkt Len Std', 'Flow Pkts/s'], 'Normal sample 98': ['Init Bwd Win Byts', 'Fwd IAT Tot', 'Fwd IAT Std', 'Pkt Len Max', 'Bwd IAT Tot', 'Pkt Size Avg', 'ACK Flag Cnt', 'Pkt Len Mean', 'Bwd Pkts/s', 'Fwd IAT Max'], 'Normal sample 99': ['SYN Flag Cnt', 'FIN Flag Cnt', 'ACK Flag Cnt', 'Pkt Len Min', 'Pkt Size Avg', 'Bwd Pkts/s', 'Pkt Len Max', 'Pkt Len Mean', 'Pkt Len Std', 'Flow Pkts/s'], 'Normal sample 100': ['SYN Flag Cnt', 'FIN Flag Cnt', 'ACK Flag Cnt', 'Pkt Size Avg', 'Pkt Len Mean', 'Flow Pkts/s', 'Pkt Len Min', 'Pkt Len Max', 'Bwd Pkts/s', 'Pkt Len Std'], 'Normal sample 101': ['SYN Flag Cnt', 'FIN Flag Cnt', 'Pkt Len Min', 'Pkt Size Avg', 'Fwd Seg Size Avg', 'ACK Flag Cnt', 'Fwd Pkt Len Mean', 'Pkt Len Mean', 'Fwd IAT Tot', 'Flow Pkts/s'], 'Normal sample 102': ['SYN Flag Cnt', 'FIN Flag Cnt', 'Pkt Size Avg', 'ACK Flag Cnt', 'Pkt Len Min', 'Pkt Len Mean', 'Fwd Pkt Len Mean', 'Bwd Pkts/s', 'Fwd Seg Size Avg', 'Flow Pkts/s'], 'Normal sample 103': ['SYN Flag Cnt', 'FIN Flag Cnt', 'ACK Flag Cnt', 'Pkt Size Avg', 'Pkt Len Mean', 'Pkt Len Max', 'Pkt Len Min', 'Bwd Pkts/s', 'Pkt Len Std', 'Flow Pkts/s'], 'Normal sample 104': ['SYN Flag Cnt', 'ACK Flag Cnt', 'FIN Flag Cnt', 'Bwd Pkts/s', 'Flow Pkts/s', 'Pkt Size Avg', 'Pkt Len Max', 'Pkt Len Min', 'Pkt Len Mean', 'Pkt Len Std'], 'Normal sample 105': ['Init Bwd Win Byts', 'Fwd IAT Tot', 'Fwd Pkt Len Max', 'Pkt Len Max', 'Fwd IAT Max', 'Pkt Size Avg', 'Down/Up Ratio', 'ACK Flag Cnt', 'Pkt Len Std', 'Pkt Len Mean'], 'Normal sample 106': ['SYN Flag Cnt', 'FIN Flag Cnt', 'ACK Flag Cnt', 'Pkt Size Avg', 'Pkt Len Max', 'Flow Pkts/s', 'Pkt Len Mean', 'Pkt Len Std', 'Pkt Len Min', 'Bwd Pkts/s'], 'Normal sample 107': ['Init Bwd Win Byts', 'SYN Flag Cnt', 'Down/Up Ratio', 'FIN Flag Cnt', 'Flow IAT Max', 'Idle Max', 'PSH Flag Cnt', 'Bwd IAT Std', 'Idle Mean', 'Flow Pkts/s'], 'Normal sample 108': ['Init Bwd Win Byts', 'Pkt Len Max', 'Pkt Len Mean', 'Pkt Size Avg', 'Fwd IAT Max', 'Bwd IAT Std', 'Flow Pkts/s', 'FIN Flag Cnt', 'ACK Flag Cnt', 'Pkt Len Std'], 'Normal sample 109': ['Init Bwd Win Byts', 'Fwd IAT Std', 'Fwd IAT Tot', 'ACK Flag Cnt', 'Down/Up Ratio', 'Fwd IAT Max', 'Fwd Pkt Len Max', 'Bwd Pkts/s', 'Bwd IAT Tot', 'Pkt Len Var'], 'Normal sample 110': ['SYN Flag Cnt', 'FIN Flag Cnt', 'ACK Flag Cnt', 'Pkt Size Avg', 'Pkt Len Mean', 'Flow Pkts/s', 'Pkt Len Max', 'Bwd Pkts/s', 'Pkt Len Min', 'Bwd Pkt Len Min'], 'Normal sample 111': ['SYN Flag Cnt', 'ACK Flag Cnt', 'FIN Flag Cnt', 'Pkt Size Avg', 'Bwd Pkts/s', 'Flow Pkts/s', 'Pkt Len Mean', 'Pkt Len Max', 'Pkt Len Min', 'Pkt Len Std'], 'Normal sample 112': ['Init Bwd Win Byts', 'SYN Flag Cnt', 'Down/Up Ratio', 'FIN Flag Cnt', 'URG Flag Cnt', 'Idle Mean', 'Idle Min', 'Flow Pkts/s', 'Flow IAT Max', 'Idle Max'], 'Normal sample 113': ['Init Bwd Win Byts', 'Pkt Size Avg', 'Pkt Len Mean', 'Pkt Len Max', 'Fwd Pkt Len Max', 'Flow Pkts/s', 'Fwd Pkt Len Std', 'ACK Flag Cnt', 'FIN Flag Cnt', 'Pkt Len Std'], 'Normal sample 114': ['Init Bwd Win Byts', 'Fwd IAT Tot', 'Fwd IAT Std', 'Bwd Pkts/s', 'ACK Flag Cnt', 'Down/Up Ratio', 'Pkt Len Max', 'FIN Flag Cnt', 'Bwd IAT Mean', 'Bwd IAT Tot'], 'Normal sample 115': ['SYN Flag Cnt', 'FIN Flag Cnt', 'Pkt Size Avg', 'Flow Pkts/s', 'Pkt Len Max', 'Pkt Len Mean', 'Pkt Len Min', 'Bwd Pkts/s', 'Pkt Len Std', 'Bwd Pkt Len Min'], 'Normal sample 116': ['SYN Flag Cnt', 'FIN Flag Cnt', 'ACK Flag Cnt', 'Pkt Size Avg', 'Pkt Len Mean', 'Flow Pkts/s', 'Pkt Len Std', 'Pkt Len Max', 'Pkt Len Min', 'Bwd Pkts/s'], 'Normal sample 117': ['SYN Flag Cnt', 'ACK Flag Cnt', 'FIN Flag Cnt', 'Bwd Pkts/s', 'Pkt Size Avg', 'Flow Pkts/s', 'Pkt Len Mean', 'Pkt Len Max', 'Pkt Len Std', 'Pkt Len Min'], 'Normal sample 118': ['Init Bwd Win Byts', 'Fwd Pkt Len Max', 'Fwd Pkt Len Std', 'ACK Flag Cnt', 'Fwd Seg Size Avg', 'Fwd IAT Tot', 'Pkt Len Max', 'Down/Up Ratio', 'Pkt Len Mean', 'Fwd Pkt Len Mean'], 'Normal sample 119': ['Init Bwd Win Byts', 'SYN Flag Cnt', 'Bwd Pkts/s', 'Idle Min', 'Idle Max', 'Flow IAT Max', 'Idle Mean', 'Down/Up Ratio', 'PSH Flag Cnt', 'URG Flag Cnt'], 'Normal sample 120': ['SYN Flag Cnt', 'FIN Flag Cnt', 'ACK Flag Cnt', 'Pkt Size Avg', 'Pkt Len Max', 'Pkt Len Mean', 'Flow Pkts/s', 'Pkt Len Std', 'Bwd Pkts/s', 'Pkt Len Min'], 'Normal sample 121': ['SYN Flag Cnt', 'FIN Flag Cnt', 'ACK Flag Cnt', 'Pkt Size Avg', 'Pkt Len Min', 'Pkt Len Max', 'Flow Pkts/s', 'Pkt Len Mean', 'Bwd Pkts/s', 'Pkt Len Std'], 'Normal sample 122': ['SYN Flag Cnt', 'ACK Flag Cnt', 'FIN Flag Cnt', 'Pkt Size Avg', 'Pkt Len Mean', 'Bwd Pkts/s', 'Pkt Len Max', 'Flow Pkts/s', 'Pkt Len Std', 'Pkt Len Min'], 'Normal sample 123': ['Init Bwd Win Byts', 'Fwd IAT Tot', 'SYN Flag Cnt', 'Fwd IAT Std', 'Bwd IAT Max', 'Pkt Len Max', 'Fwd Seg Size Avg', 'Down/Up Ratio', 'Fwd IAT Max', 'FIN Flag Cnt'], 'Normal sample 124': ['SYN Flag Cnt', 'FIN Flag Cnt', 'Pkt Size Avg', 'ACK Flag Cnt', 'Pkt Len Mean', 'Pkt Len Max', 'Pkt Len Min', 'Flow Pkts/s', 'Pkt Len Std', 'Bwd Pkts/s'], 'Normal sample 125': ['SYN Flag Cnt', 'Fwd Pkt Len Max', 'Fwd Pkt Len Mean', 'Fwd Seg Size Avg', 'Fwd Pkt Len Std', 'Pkt Len Max', 'Pkt Len Mean', 'Pkt Size Avg', 'Pkt Len Std', 'Flow Byts/s'], 'Normal sample 126': ['Init Bwd Win Byts', 'SYN Flag Cnt', 'Flow IAT Max', 'Idle Max', 'PSH Flag Cnt', 'Bwd IAT Tot', 'Down/Up Ratio', 'Idle Min', 'Bwd IAT Max', 'Flow Pkts/s'], 'Normal sample 127': ['SYN Flag Cnt', 'ACK Flag Cnt', 'FIN Flag Cnt', 'Pkt Size Avg', 'Bwd Pkts/s', 'Flow Pkts/s', 'Pkt Len Max', 'Pkt Len Mean', 'Pkt Len Min', 'Pkt Len Std'], 'Normal sample 128': ['Init Bwd Win Byts', 'Fwd IAT Tot', 'Fwd IAT Std', 'Down/Up Ratio', 'SYN Flag Cnt', 'Fwd IAT Max', 'Bwd IAT Max', 'Bwd IAT Tot', 'PSH Flag Cnt', 'URG Flag Cnt'], 'Normal sample 129': ['SYN Flag Cnt', 'FIN Flag Cnt', 'Pkt Size Avg', 'ACK Flag Cnt', 'Pkt Len Mean', 'Pkt Len Max', 'Pkt Len Min', 'Flow Pkts/s', 'Bwd Pkts/s', 'Pkt Len Std'], 'Normal sample 130': ['SYN Flag Cnt', 'ACK Flag Cnt', 'FIN Flag Cnt', 'Bwd Pkts/s', 'Pkt Size Avg', 'Flow Pkts/s', 'Pkt Len Max', 'Pkt Len Mean', 'Pkt Len Min', 'Pkt Len Std'], 'Normal sample 131': ['Init Bwd Win Byts', 'Fwd IAT Tot', 'Bwd PSH Flags', 'Fwd IAT Std', 'Bwd IAT Tot', 'Bwd Pkts/s', 'SYN Flag Cnt', 'PSH Flag Cnt', 'Flow Pkts/s', 'Pkt Len Var'], 'Normal sample 132': ['SYN Flag Cnt', 'FIN Flag Cnt', 'Pkt Size Avg', 'Flow Byts/s', 'ACK Flag Cnt', 'Pkt Len Min', 'Pkt Len Mean', 'Fwd Seg Size Avg', 'Flow Pkts/s', 'Fwd Pkt Len Min'], 'Normal sample 133': ['Init Bwd Win Byts', 'Fwd IAT Std', 'Fwd IAT Tot', 'ACK Flag Cnt', 'Pkt Len Max', 'Pkt Size Avg', 'Fwd IAT Max', 'Fwd Pkt Len Max', 'Bwd IAT Tot', 'Fwd Seg Size Avg'], 'Normal sample 134': ['Init Bwd Win Byts', 'SYN Flag Cnt', 'Down/Up Ratio', 'PSH Flag Cnt', 'Bwd IAT Mean', 'Fwd Pkt Len Mean', 'Subflow Fwd Pkts', 'TotLen Fwd Pkts', 'Flow IAT Max', 'Idle Min'], 'Normal sample 135': ['Init Bwd Win Byts', 'Pkt Size Avg', 'Pkt Len Max', 'Pkt Len Mean', 'Fwd Pkt Len Max', 'Flow Pkts/s', 'Down/Up Ratio', 'Fwd Pkt Len Mean', 'FIN Flag Cnt', 'Pkt Len Std'], 'Normal sample 136': ['SYN Flag Cnt', 'FIN Flag Cnt', 'ACK Flag Cnt', 'Pkt Size Avg', 'Pkt Len Mean', 'Bwd Pkts/s', 'Pkt Len Max', 'Pkt Len Min', 'Flow Pkts/s', 'Pkt Len Std'], 'Normal sample 137': ['Init Bwd Win Byts', 'Fwd IAT Tot', 'SYN Flag Cnt', 'Fwd IAT Std', 'Fwd IAT Max', 'Bwd PSH Flags', 'Bwd Pkts/s', 'Bwd IAT Mean', 'Tot Bwd Pkts', 'Bwd IAT Max'], 'Normal sample 138': ['SYN Flag Cnt', 'FIN Flag Cnt', 'ACK Flag Cnt', 'Pkt Size Avg', 'Pkt Len Min', 'Pkt Len Max', 'Pkt Len Mean', 'Flow Pkts/s', 'Pkt Len Std', 'Bwd Pkts/s'], 'Normal sample 139': ['Init Bwd Win Byts', 'SYN Flag Cnt', 'Down/Up Ratio', 'FIN Flag Cnt', 'Pkt Size Avg', 'Active Min', 'Flow Byts/s', 'Bwd Pkt Len Min', 'Pkt Len Mean', 'Idle Max'], 'Normal sample 140': ['Init Bwd Win Byts', 'SYN Flag Cnt', 'Flow Pkts/s', 'Bwd Pkts/s', 'FIN Flag Cnt', 'Fwd IAT Mean', 'Fwd IAT Max', 'Down/Up Ratio', 'Flow IAT Max', 'Fwd IAT Min'], 'Normal sample 141': ['SYN Flag Cnt', 'ACK Flag Cnt', 'FIN Flag Cnt', 'Pkt Size Avg', 'Flow Pkts/s', 'Bwd Pkts/s', 'Pkt Len Max', 'Pkt Len Mean', 'Pkt Len Min', 'Pkt Len Std'], 'Normal sample 142': ['Init Bwd Win Byts', 'ACK Flag Cnt', 'Pkt Size Avg', 'Pkt Len Max', 'Fwd IAT Tot', 'Pkt Len Mean', 'Bwd IAT Tot', 'Pkt Len Std', 'Fwd Pkt Len Std', 'Bwd IAT Max'], 'Normal sample 143': ['SYN Flag Cnt', 'ACK Flag Cnt', 'FIN Flag Cnt', 'Bwd Pkts/s', 'Pkt Len Max', 'Pkt Size Avg', 'Flow Pkts/s', 'Pkt Len Mean', 'Pkt Len Std', 'Pkt Len Min'], 'Normal sample 144': ['SYN Flag Cnt', 'FIN Flag Cnt', 'ACK Flag Cnt', 'Pkt Size Avg', 'Pkt Len Max', 'Pkt Len Mean', 'Flow Pkts/s', 'Pkt Len Std', 'Pkt Len Min', 'Bwd Pkt Len Min'], 'Normal sample 145': ['Init Bwd Win Byts', 'FIN Flag Cnt', 'Bwd IAT Tot', 'Pkt Len Std', 'Pkt Size Avg', 'Bwd IAT Max', 'Pkt Len Max', 'ACK Flag Cnt', 'Fwd IAT Tot', 'Pkt Len Mean'], 'Normal sample 146': ['SYN Flag Cnt', 'FIN Flag Cnt', 'Pkt Size Avg', 'ACK Flag Cnt', 'Pkt Len Mean', 'Pkt Len Min', 'Flow Byts/s', 'Fwd Pkt Len Mean', 'Fwd Pkt Len Min', 'Fwd Seg Size Avg'], 'Normal sample 147': ['Init Bwd Win Byts', 'Fwd IAT Tot', 'SYN Flag Cnt', 'Fwd Pkt Len Max', 'Down/Up Ratio', 'Fwd Pkt Len Std', 'Fwd IAT Std', 'Pkt Len Max', 'Bwd Pkts/s', 'Pkt Len Mean'], 'Normal sample 148': ['SYN Flag Cnt', 'FIN Flag Cnt', 'ACK Flag Cnt', 'Pkt Size Avg', 'Flow Pkts/s', 'Pkt Len Max', 'Pkt Len Mean', 'Bwd Pkts/s', 'Pkt Len Min', 'Pkt Len Std'], 'Normal sample 149': ['SYN Flag Cnt', 'ACK Flag Cnt', 'FIN Flag Cnt', 'Flow Pkts/s', 'Bwd Pkts/s', 'Pkt Len Max', 'Pkt Len Mean', 'Pkt Size Avg', 'Pkt Len Std', 'Pkt Len Min'], 'Normal sample 150': ['Init Bwd Win Byts', 'SYN Flag Cnt', 'Bwd Pkts/s', 'Idle Min', 'Down/Up Ratio', 'Flow IAT Max', 'Flow IAT Std', 'Bwd IAT Mean', 'Idle Mean', 'Bwd IAT Std'], 'Normal sample 151': ['Init Bwd Win Byts', 'Pkt Size Avg', 'Pkt Len Mean', 'Pkt Len Max', 'Fwd Pkt Len Max', 'Fwd Pkt Len Std', 'Down/Up Ratio', 'Fwd Seg Size Avg', 'Fwd Pkt Len Mean', 'FIN Flag Cnt'], 'Normal sample 152': ['Init Bwd Win Byts', 'Pkt Size Avg', 'Pkt Len Max', 'FIN Flag Cnt', 'Pkt Len Mean', 'ACK Flag Cnt', 'Flow Pkts/s', 'Fwd Seg Size Avg', 'Fwd Pkt Len Mean', 'Fwd Pkt Len Max'], 'Normal sample 153': ['SYN Flag Cnt', 'FIN Flag Cnt', 'Pkt Size Avg', 'ACK Flag Cnt', 'Pkt Len Mean', 'Pkt Len Min', 'Flow Pkts/s', 'Pkt Len Max', 'Bwd Pkts/s', 'Pkt Len Std'], 'Normal sample 154': ['Init Bwd Win Byts', 'SYN Flag Cnt', 'FIN Flag Cnt', 'Down/Up Ratio', 'Flow IAT Max', 'Idle Max', 'Idle Mean', 'Flow Pkts/s', 'Idle Min', 'Bwd IAT Std'], 'Normal sample 155': ['Init Bwd Win Byts', 'SYN Flag Cnt', 'FIN Flag Cnt', 'Down/Up Ratio', 'Flow Pkts/s', 'Bwd IAT Std', 'URG Flag Cnt', 'Idle Min', 'Flow IAT Max', 'Active Std'], 'Normal sample 156': ['SYN Flag Cnt', 'ACK Flag Cnt', 'FIN Flag Cnt', 'Pkt Size Avg', 'Bwd Pkts/s', 'Flow Pkts/s', 'Pkt Len Mean', 'Pkt Len Max', 'Pkt Len Min', 'Bwd Pkt Len Min'], 'Normal sample 157': ['SYN Flag Cnt', 'ACK Flag Cnt', 'FIN Flag Cnt', 'Bwd Pkts/s', 'Pkt Size Avg', 'Pkt Len Mean', 'Pkt Len Std', 'Pkt Len Max', 'Flow Pkts/s', 'Bwd IAT Tot'], 'Normal sample 158': ['SYN Flag Cnt', 'FIN Flag Cnt', 'ACK Flag Cnt', 'Pkt Size Avg', 'Flow Pkts/s', 'Bwd Pkts/s', 'Pkt Len Mean', 'Pkt Len Max', 'Pkt Len Min', 'Pkt Len Std'], 'Normal sample 159': ['Flow Byts/s', 'Fwd Pkt Len Max', 'Fwd Pkt Len Std', 'Fwd Pkt Len Mean', 'Fwd Seg Size Avg', 'Pkt Len Max', 'SYN Flag Cnt', 'Pkt Size Avg', 'Pkt Len Mean', 'Pkt Len Std'], 'Normal sample 160': ['Init Bwd Win Byts', 'Fwd IAT Tot', 'Fwd IAT Std', 'Bwd PSH Flags', 'Bwd Pkts/s', 'SYN Flag Cnt', 'Down/Up Ratio', 'Bwd IAT Mean', 'Active Max', 'Fwd Pkt Len Std'], 'Normal sample 161': ['SYN Flag Cnt', 'Fwd Pkt Len Max', 'Flow Byts/s', 'Fwd Pkt Len Mean', 'Pkt Len Max', 'Fwd Pkt Len Std', 'Fwd Seg Size Avg', 'Pkt Len Mean', 'Pkt Size Avg', 'FIN Flag Cnt'], 'Normal sample 162': ['Init Bwd Win Byts', 'SYN Flag Cnt', 'FIN Flag Cnt', 'Down/Up Ratio', 'Flow Pkts/s', 'PSH Flag Cnt', 'Flow IAT Max', 'Idle Mean', 'Bwd IAT Std', 'Idle Max'], 'Normal sample 163': ['SYN Flag Cnt', 'ACK Flag Cnt', 'FIN Flag Cnt', 'Pkt Size Avg', 'Bwd Pkts/s', 'Flow Pkts/s', 'Pkt Len Max', 'Pkt Len Mean', 'Pkt Len Min', 'Pkt Len Std'], 'Normal sample 164': ['SYN Flag Cnt', 'Flow Pkts/s', 'Bwd Pkts/s', 'Down/Up Ratio', 'FIN Flag Cnt', 'Fwd Pkt Len Max', 'Pkt Len Max', 'Fwd Pkt Len Std', 'Flow Duration', 'Bwd IAT Std'], 'Normal sample 165': ['Init Bwd Win Byts', 'Fwd IAT Tot', 'Fwd IAT Std', 'ACK Flag Cnt', 'Bwd IAT Tot', 'Pkt Len Max', 'Down/Up Ratio', 'Bwd Pkts/s', 'Fwd Pkt Len Max', 'Fwd IAT Max'], 'Normal sample 166': ['Init Bwd Win Byts', 'Fwd IAT Std', 'Fwd IAT Tot', 'SYN Flag Cnt', 'Bwd PSH Flags', 'Bwd Pkts/s', 'Fwd Pkt Len Max', 'Down/Up Ratio', 'Fwd Seg Size Avg', 'Subflow Bwd Pkts'], 'Normal sample 167': ['Init Bwd Win Byts', 'SYN Flag Cnt', 'Down/Up Ratio', 'PSH Flag Cnt', 'Bwd URG Flags', 'Flow IAT Max', 'URG Flag Cnt', 'Flow IAT Mean', 'Idle Min', 'Bwd IAT Max'], 'Normal sample 168': ['Init Bwd Win Byts', 'SYN Flag Cnt', 'Idle Max', 'Down/Up Ratio', 'Idle Mean', 'Flow IAT Max', 'ACK Flag Cnt', 'URG Flag Cnt', 'Flow Byts/s', 'TotLen Fwd Pkts'], 'Normal sample 169': ['SYN Flag Cnt', 'FIN Flag Cnt', 'ACK Flag Cnt', 'Pkt Size Avg', 'Flow Pkts/s', 'Pkt Len Mean', 'Pkt Len Max', 'Bwd Pkts/s', 'Pkt Len Std', 'Pkt Len Min'], 'Normal sample 170': ['Init Bwd Win Byts', 'Pkt Len Mean', 'Pkt Len Max', 'Pkt Size Avg', 'Pkt Len Std', 'ACK Flag Cnt', 'Fwd IAT Max', 'Flow Duration', 'Fwd IAT Tot', 'Flow Pkts/s'], 'Normal sample 171': ['Init Bwd Win Byts', 'Fwd IAT Tot', 'Fwd Pkt Len Max', 'ACK Flag Cnt', 'Pkt Len Max', 'Fwd Pkt Len Std', 'Pkt Len Std', 'Pkt Size Avg', 'Down/Up Ratio', 'Pkt Len Mean'], 'Normal sample 172': ['SYN Flag Cnt', 'FIN Flag Cnt', 'ACK Flag Cnt', 'Pkt Size Avg', 'Pkt Len Max', 'Pkt Len Mean', 'Pkt Len Min', 'Flow Pkts/s', 'Pkt Len Std', 'Bwd Pkts/s'], 'Normal sample 173': ['SYN Flag Cnt', 'Fwd Pkt Len Max', 'Fwd Pkt Len Mean', 'Fwd Seg Size Avg', 'Fwd Pkt Len Std', 'Pkt Size Avg', 'Pkt Len Mean', 'Pkt Len Max', 'Pkt Len Std', 'Down/Up Ratio'], 'Normal sample 174': ['Init Bwd Win Byts', 'Fwd IAT Tot', 'Fwd IAT Std', 'ACK Flag Cnt', 'Pkt Len Max', 'Pkt Len Std', 'Bwd IAT Tot', 'Fwd IAT Max', 'Bwd Pkts/s', 'Fwd Pkt Len Max'], 'Normal sample 175': ['Init Bwd Win Byts', 'Fwd IAT Tot', 'ACK Flag Cnt', 'Pkt Len Max', 'Pkt Len Mean', 'Fwd IAT Max', 'Fwd Pkt Len Max', 'Bwd IAT Mean', 'Fwd IAT Std', 'FIN Flag Cnt'], 'Normal sample 176': ['SYN Flag Cnt', 'FIN Flag Cnt', 'Fwd Pkt Len Mean', 'Fwd Seg Size Avg', 'Pkt Size Avg', 'Flow Pkts/s', 'Pkt Len Mean', 'Bwd Pkts/s', 'Fwd Pkt Len Max', 'Fwd Pkt Len Min'], 'Normal sample 177': ['Init Bwd Win Byts', 'Pkt Len Max', 'Fwd Pkt Len Max', 'Fwd IAT Tot', 'Pkt Size Avg', 'Fwd IAT Max', 'Pkt Len Mean', 'Bwd Pkts/s', 'Fwd IAT Std', 'Down/Up Ratio'], 'Normal sample 178': ['SYN Flag Cnt', 'FIN Flag Cnt', 'ACK Flag Cnt', 'Pkt Size Avg', 'Pkt Len Mean', 'Pkt Len Max', 'Pkt Len Min', 'Flow Pkts/s', 'Pkt Len Std', 'Bwd Pkts/s'], 'Normal sample 179': ['SYN Flag Cnt', 'FIN Flag Cnt', 'ACK Flag Cnt', 'Pkt Size Avg', 'Pkt Len Mean', 'Pkt Len Max', 'Pkt Len Min', 'Flow Pkts/s', 'Pkt Len Std', 'Bwd Pkts/s'], 'Normal sample 180': ['SYN Flag Cnt', 'FIN Flag Cnt', 'ACK Flag Cnt', 'Pkt Size Avg', 'Pkt Len Min', 'Pkt Len Mean', 'Flow Pkts/s', 'Bwd Pkts/s', 'Pkt Len Max', 'Pkt Len Std'], 'Normal sample 181': ['Init Bwd Win Byts', 'SYN Flag Cnt', 'FIN Flag Cnt', 'Down/Up Ratio', 'Flow IAT Max', 'Flow Pkts/s', 'Idle Min', 'Idle Max', 'Idle Mean', 'Flow IAT Mean'], 'Normal sample 182': ['SYN Flag Cnt', 'ACK Flag Cnt', 'FIN Flag Cnt', 'Pkt Size Avg', 'Pkt Len Max', 'Pkt Len Mean', 'Bwd Pkts/s', 'Flow Pkts/s', 'Pkt Len Std', 'Pkt Len Min'], 'Normal sample 183': ['SYN Flag Cnt', 'ACK Flag Cnt', 'FIN Flag Cnt', 'Pkt Size Avg', 'Flow Pkts/s', 'Bwd Pkts/s', 'Pkt Len Mean', 'Pkt Len Max', 'Pkt Len Min', 'Pkt Len Std'], 'Normal sample 184': ['Init Bwd Win Byts', 'Fwd IAT Tot', 'Bwd IAT Tot', 'Pkt Len Max', 'Fwd IAT Std', 'Fwd Pkt Len Max', 'ACK Flag Cnt', 'Pkt Len Mean', 'Pkt Len Std', 'Pkt Size Avg'], 'Normal sample 185': ['SYN Flag Cnt', 'FIN Flag Cnt', 'ACK Flag Cnt', 'Pkt Size Avg', 'Pkt Len Mean', 'Pkt Len Min', 'Flow Pkts/s', 'Pkt Len Max', 'Bwd Pkts/s', 'Pkt Len Std'], 'Normal sample 186': ['Fwd Pkt Len Max', 'Flow Byts/s', 'Fwd Pkt Len Mean', 'Fwd Pkt Len Std', 'Fwd Seg Size Avg', 'SYN Flag Cnt', 'Pkt Len Mean', 'Pkt Size Avg', 'Pkt Len Max', 'Bwd PSH Flags'], 'Normal sample 187': ['SYN Flag Cnt', 'ACK Flag Cnt', 'FIN Flag Cnt', 'Bwd Pkts/s', 'Flow Pkts/s', 'Pkt Size Avg', 'Pkt Len Mean', 'Pkt Len Max', 'Pkt Len Min', 'Pkt Len Std'], 'Normal sample 188': ['SYN Flag Cnt', 'FIN Flag Cnt', 'Pkt Size Avg', 'ACK Flag Cnt', 'Pkt Len Mean', 'Pkt Len Max', 'Bwd Pkts/s', 'Pkt Len Min', 'Flow Pkts/s', 'Pkt Len Std'], 'Normal sample 189': ['Init Bwd Win Byts', 'Bwd IAT Tot', 'Fwd IAT Tot', 'Fwd IAT Std', 'FIN Flag Cnt', 'Fwd Seg Size Avg', 'Fwd Pkt Len Std', 'Flow Pkts/s', 'Fwd IAT Max', 'Bwd IAT Max'], 'Normal sample 190': ['Init Bwd Win Byts', 'SYN Flag Cnt', 'FIN Flag Cnt', 'Down/Up Ratio', 'PSH Flag Cnt', 'Flow IAT Max', 'Flow Pkts/s', 'Idle Max', 'Flow IAT Mean', 'Idle Mean'], 'Normal sample 191': ['Init Bwd Win Byts', 'SYN Flag Cnt', 'FIN Flag Cnt', 'Down/Up Ratio', 'Flow Pkts/s', 'Flow IAT Max', 'Idle Mean', 'Idle Min', 'Bwd IAT Std', 'Idle Max'], 'Normal sample 192': ['SYN Flag Cnt', 'ACK Flag Cnt', 'FIN Flag Cnt', 'Pkt Size Avg', 'Bwd Pkts/s', 'Flow Pkts/s', 'Pkt Len Max', 'Pkt Len Mean', 'Pkt Len Std', 'Pkt Len Min'], 'Normal sample 193': ['SYN Flag Cnt', 'ACK Flag Cnt', 'FIN Flag Cnt', 'Pkt Size Avg', 'Pkt Len Mean', 'Pkt Len Std', 'Pkt Len Max', 'Flow Pkts/s', 'Pkt Len Min', 'Bwd Pkts/s'], 'Normal sample 194': ['SYN Flag Cnt', 'FIN Flag Cnt', 'ACK Flag Cnt', 'Pkt Size Avg', 'Pkt Len Mean', 'Pkt Len Max', 'Flow Pkts/s', 'Pkt Len Min', 'Pkt Len Std', 'Bwd Pkts/s'], 'Normal sample 195': ['Down/Up Ratio', 'SYN Flag Cnt', 'Flow Pkts/s', 'FIN Flag Cnt', 'Fwd Pkt Len Std', 'Fwd Pkt Len Mean', 'Fwd Pkt Len Max', 'Pkt Len Std', 'Fwd Seg Size Avg', 'PSH Flag Cnt'], 'Normal sample 196': ['Init Bwd Win Byts', 'Bwd PSH Flags', 'Fwd IAT Std', 'Idle Max', 'PSH Flag Cnt', 'SYN Flag Cnt', 'Idle Mean', 'Fwd IAT Tot', 'Bwd Pkts/s', 'Tot Bwd Pkts'], 'Normal sample 197': ['SYN Flag Cnt', 'ACK Flag Cnt', 'FIN Flag Cnt', 'Pkt Size Avg', 'Pkt Len Mean', 'Pkt Len Max', 'Flow Pkts/s', 'Pkt Len Min', 'Bwd Pkts/s', 'Pkt Len Std'], 'Normal sample 198': ['Init Bwd Win Byts', 'Fwd IAT Tot', 'SYN Flag Cnt', 'Fwd IAT Std', 'Bwd IAT Mean', 'Bwd IAT Max', 'Down/Up Ratio', 'Bwd Pkts/s', 'Subflow Bwd Byts', 'Bwd Header Len'], 'Normal sample 199': ['SYN Flag Cnt', 'ACK Flag Cnt', 'FIN Flag Cnt', 'Pkt Size Avg', 'Flow Pkts/s', 'Bwd Pkts/s', 'Pkt Len Max', 'Pkt Len Mean', 'Pkt Len Min', 'Pkt Len Std'], 'Normal sample 200': ['SYN Flag Cnt', 'ACK Flag Cnt', 'FIN Flag Cnt', 'Pkt Size Avg', 'Bwd Pkts/s', 'Flow Pkts/s', 'Pkt Len Max', 'Pkt Len Mean', 'Pkt Len Min', 'Pkt Len Std'], 'Normal sample 201': ['Init Bwd Win Byts', 'Bwd PSH Flags', 'Fwd IAT Std', 'Bwd IAT Max', 'SYN Flag Cnt', 'Bwd Pkts/s', 'Fwd IAT Tot', 'Fwd Pkt Len Std', 'Flow Pkts/s', 'Bwd Pkt Len Min'], 'Normal sample 202': ['SYN Flag Cnt', 'ACK Flag Cnt', 'FIN Flag Cnt', 'Pkt Size Avg', 'Pkt Len Mean', 'Flow Pkts/s', 'Bwd Pkts/s', 'Pkt Len Max', 'Pkt Len Std', 'Pkt Len Min'], 'Normal sample 203': ['SYN Flag Cnt', 'Fwd Pkt Len Max', 'Fwd Pkt Len Mean', 'Fwd Seg Size Avg', 'Pkt Len Mean', 'Fwd Pkt Len Std', 'Pkt Len Max', 'Pkt Size Avg', 'Pkt Len Std', 'Flow Pkts/s'], 'Normal sample 204': ['Init Bwd Win Byts', 'Fwd IAT Tot', 'Fwd IAT Max', 'SYN Flag Cnt', 'Flow Pkts/s', 'Bwd IAT Max', 'Fwd IAT Mean', 'Flow Duration', 'FIN Flag Cnt', 'Fwd IAT Min'], 'Normal sample 205': ['SYN Flag Cnt', 'ACK Flag Cnt', 'FIN Flag Cnt', 'Pkt Size Avg', 'Flow Pkts/s', 'Pkt Len Mean', 'Pkt Len Max', 'Bwd Pkts/s', 'Pkt Len Min', 'Pkt Len Std'], 'Normal sample 206': ['Init Bwd Win Byts', 'Fwd Pkt Len Max', 'ACK Flag Cnt', 'Fwd IAT Tot', 'Fwd Pkt Len Std', 'Fwd IAT Max', 'FIN Flag Cnt', 'Fwd Seg Size Avg', 'Fwd IAT Std', 'Pkt Len Max'], 'Normal sample 207': ['SYN Flag Cnt', 'ACK Flag Cnt', 'FIN Flag Cnt', 'Flow Pkts/s', 'Bwd Pkts/s', 'Pkt Size Avg', 'Pkt Len Max', 'Pkt Len Mean', 'Pkt Len Std', 'Pkt Len Min'], 'Normal sample 208': ['Init Bwd Win Byts', 'Pkt Len Max', 'Pkt Size Avg', 'Pkt Len Mean', 'Flow Pkts/s', 'Fwd IAT Max', 'Tot Bwd Pkts', 'Subflow Bwd Pkts', 'Fwd IAT Tot', 'Bwd IAT Max'], 'Normal sample 209': ['Init Bwd Win Byts', 'Pkt Len Max', 'Fwd IAT Tot', 'Fwd Pkt Len Max', 'Fwd IAT Max', 'Pkt Len Mean', 'Pkt Len Std', 'Pkt Size Avg', 'Tot Bwd Pkts', 'ACK Flag Cnt'], 'Normal sample 210': ['SYN Flag Cnt', 'FIN Flag Cnt', 'Pkt Size Avg', 'ACK Flag Cnt', 'Pkt Len Mean', 'Flow Pkts/s', 'Pkt Len Max', 'Pkt Len Std', 'Bwd Pkts/s', 'Pkt Len Min'], 'Normal sample 211': ['Init Bwd Win Byts', 'Fwd IAT Tot', 'SYN Flag Cnt', 'Bwd IAT Max', 'Fwd IAT Max', 'Bwd Header Len', 'Fwd IAT Std', 'Down/Up Ratio', 'Pkt Len Max', 'Bwd IAT Mean'], 'Normal sample 212': ['Init Bwd Win Byts', 'ACK Flag Cnt', 'Down/Up Ratio', 'SYN Flag Cnt', 'Idle Min', 'Flow IAT Max', 'Flow Pkts/s', 'PSH Flag Cnt', 'Idle Max', 'Pkt Len Var'], 'Normal sample 213': ['Init Bwd Win Byts', 'SYN Flag Cnt', 'Flow IAT Max', 'URG Flag Cnt', 'Idle Min', 'Down/Up Ratio', 'Fwd IAT Min', 'PSH Flag Cnt', 'Idle Max', 'Flow IAT Std'], 'Normal sample 214': ['SYN Flag Cnt', 'ACK Flag Cnt', 'FIN Flag Cnt', 'Pkt Size Avg', 'Pkt Len Max', 'Bwd Pkts/s', 'Pkt Len Mean', 'Flow Pkts/s', 'Pkt Len Std', 'Pkt Len Min'], 'Normal sample 215': ['Init Bwd Win Byts', 'Fwd IAT Tot', 'SYN Flag Cnt', 'Bwd Pkts/s', 'Bwd PSH Flags', 'Down/Up Ratio', 'Bwd IAT Max', 'Flow Pkts/s', 'Fwd IAT Std', 'FIN Flag Cnt'], 'Normal sample 216': ['SYN Flag Cnt', 'Flow Pkts/s', 'Bwd Pkts/s', 'Down/Up Ratio', 'FIN Flag Cnt', 'Fwd Pkt Len Max', 'Pkt Len Max', 'Flow Duration', 'Fwd Pkt Len Std', 'Flow IAT Std'], 'Normal sample 217': ['SYN Flag Cnt', 'FIN Flag Cnt', 'ACK Flag Cnt', 'Pkt Size Avg', 'Pkt Len Max', 'Pkt Len Mean', 'Flow Pkts/s', 'Pkt Len Min', 'Bwd Pkts/s', 'Pkt Len Std'], 'Normal sample 218': ['SYN Flag Cnt', 'FIN Flag Cnt', 'Pkt Size Avg', 'Pkt Len Max', 'Pkt Len Mean', 'Bwd Pkt Len Min', 'Flow Pkts/s', 'Pkt Len Std', 'Pkt Len Min', 'Bwd Pkts/s'], 'Normal sample 219': ['Init Bwd Win Byts', 'Pkt Len Max', 'Pkt Size Avg', 'Pkt Len Mean', 'Fwd Pkt Len Max', 'Flow Pkts/s', 'Pkt Len Std', 'Fwd Pkt Len Std', 'Fwd IAT Tot', 'Idle Min'], 'Normal sample 220': ['SYN Flag Cnt', 'Fwd Pkt Len Max', 'Down/Up Ratio', 'Pkt Len Max', 'Fwd Pkt Len Mean', 'Fwd Seg Size Avg', 'Fwd Pkt Len Std', 'Bwd PSH Flags', 'Flow Byts/s', 'Pkt Size Avg'], 'Normal sample 221': ['Init Bwd Win Byts', 'Pkt Len Max', 'Pkt Size Avg', 'Pkt Len Mean', 'Pkt Len Std', 'Fwd IAT Max', 'ACK Flag Cnt', 'Fwd Pkt Len Max', 'Fwd Seg Size Avg', 'Bwd IAT Tot'], 'Normal sample 222': ['Fwd Pkt Len Min', 'Fwd Pkt Len Mean', 'Fwd Pkt Len Max', 'Flow Byts/s', 'Fwd Seg Size Avg', 'SYN Flag Cnt', 'Fwd Pkt Len Std', 'Pkt Size Avg', 'Pkt Len Max', 'Pkt Len Mean'], 'Normal sample 223': ['Init Bwd Win Byts', 'SYN Flag Cnt', 'ACK Flag Cnt', 'Idle Max', 'Idle Min', 'Flow IAT Max', 'Down/Up Ratio', 'URG Flag Cnt', 'PSH Flag Cnt', 'Bwd IAT Max'], 'Normal sample 224': ['SYN Flag Cnt', 'Fwd Pkt Len Max', 'Fwd Pkt Len Mean', 'Fwd Seg Size Avg', 'Fwd Pkt Len Std', 'Pkt Len Max', 'Pkt Size Avg', 'Pkt Len Mean', 'Flow Byts/s', 'FIN Flag Cnt'], 'Normal sample 225': ['SYN Flag Cnt', 'FIN Flag Cnt', 'ACK Flag Cnt', 'Pkt Size Avg', 'Pkt Len Mean', 'Flow Pkts/s', 'Bwd Pkts/s', 'Pkt Len Min', 'Pkt Len Max', 'Pkt Len Std'], 'Normal sample 226': ['Init Bwd Win Byts', 'SYN Flag Cnt', 'FIN Flag Cnt', 'Down/Up Ratio', 'Bwd PSH Flags', 'Bwd Pkts/s', 'Bwd Pkt Len Min', 'Flow Pkts/s', 'Pkt Len Max', 'Pkt Size Avg'], 'Normal sample 227': ['SYN Flag Cnt', 'FIN Flag Cnt', 'ACK Flag Cnt', 'Pkt Size Avg', 'Pkt Len Mean', 'Pkt Len Std', 'Flow Pkts/s', 'Bwd Pkts/s', 'Pkt Len Max', 'Pkt Len Min'], 'Normal sample 228': ['SYN Flag Cnt', 'ACK Flag Cnt', 'FIN Flag Cnt', 'Pkt Size Avg', 'Pkt Len Mean', 'Pkt Len Max', 'Flow Pkts/s', 'Pkt Len Std', 'Pkt Len Min', 'Bwd Pkts/s'], 'Normal sample 229': ['Init Bwd Win Byts', 'Fwd IAT Tot', 'Fwd IAT Std', 'Bwd PSH Flags', 'SYN Flag Cnt', 'Bwd IAT Tot', 'Down/Up Ratio', 'Bwd Pkts/s', 'Bwd IAT Min', 'Bwd IAT Mean'], 'Normal sample 230': ['Init Bwd Win Byts', 'Fwd Pkt Len Max', 'FIN Flag Cnt', 'ACK Flag Cnt', 'Pkt Size Avg', 'Fwd IAT Max', 'Fwd Pkt Len Std', 'Pkt Len Max', 'Fwd IAT Tot', 'Fwd Pkt Len Mean'], 'Normal sample 231': ['SYN Flag Cnt', 'ACK Flag Cnt', 'FIN Flag Cnt', 'Flow Pkts/s', 'Bwd Pkts/s', 'Pkt Size Avg', 'Pkt Len Max', 'Pkt Len Mean', 'Pkt Len Min', 'Pkt Len Std'], 'Normal sample 232': ['Init Bwd Win Byts', 'SYN Flag Cnt', 'FIN Flag Cnt', 'Down/Up Ratio', 'Flow Pkts/s', 'Bwd IAT Std', 'Flow IAT Max', 'Idle Min', 'Fwd IAT Min', 'Flow Duration'], 'Normal sample 233': ['Init Bwd Win Byts', 'Pkt Size Avg', 'Pkt Len Mean', 'Pkt Len Max', 'Fwd Pkt Len Max', 'Fwd Pkt Len Std', 'Down/Up Ratio', 'ACK Flag Cnt', 'Tot Bwd Pkts', 'Flow Pkts/s'], 'Normal sample 234': ['Init Bwd Win Byts', 'ACK Flag Cnt', 'FIN Flag Cnt', 'Flow Pkts/s', 'Bwd Pkts/s', 'Flow IAT Std', 'Down/Up Ratio', 'Fwd IAT Mean', 'Subflow Fwd Byts', 'Bwd Header Len'], 'Normal sample 235': ['Init Bwd Win Byts', 'SYN Flag Cnt', 'FIN Flag Cnt', 'Down/Up Ratio', 'Bwd PSH Flags', 'Bwd Pkts/s', 'Flow Pkts/s', 'PSH Flag Cnt', 'Idle Max', 'Pkt Len Mean'], 'Normal sample 236': ['SYN Flag Cnt', 'ACK Flag Cnt', 'FIN Flag Cnt', 'Flow Pkts/s', 'Pkt Size Avg', 'Bwd Pkts/s', 'Pkt Len Max', 'Pkt Len Std', 'Pkt Len Min', 'Pkt Len Mean'], 'Normal sample 237': ['SYN Flag Cnt', 'Flow Pkts/s', 'Bwd Pkts/s', 'Down/Up Ratio', 'FIN Flag Cnt', 'Fwd Pkt Len Max', 'Fwd Pkt Len Std', 'Pkt Len Max', 'Fwd Seg Size Avg', 'Pkt Len Std'], 'Normal sample 238': ['SYN Flag Cnt', 'ACK Flag Cnt', 'FIN Flag Cnt', 'Pkt Size Avg', 'Flow Pkts/s', 'Bwd Pkts/s', 'Pkt Len Mean', 'Pkt Len Max', 'Pkt Len Std', 'Pkt Len Min'], 'Normal sample 239': ['SYN Flag Cnt', 'ACK Flag Cnt', 'FIN Flag Cnt', 'Pkt Size Avg', 'Pkt Len Mean', 'Flow Pkts/s', 'Pkt Len Max', 'Bwd Pkts/s', 'Pkt Len Min', 'Pkt Len Std'], 'Normal sample 240': ['SYN Flag Cnt', 'FIN Flag Cnt', 'ACK Flag Cnt', 'Pkt Size Avg', 'Pkt Len Max', 'Pkt Len Mean', 'Pkt Len Std', 'Flow Pkts/s', 'Pkt Len Min', 'Bwd Pkts/s'], 'Normal sample 241': ['Init Bwd Win Byts', 'Pkt Size Avg', 'Pkt Len Mean', 'Pkt Len Max', 'Fwd Pkt Len Max', 'Flow Pkts/s', 'Fwd Pkt Len Std', 'FIN Flag Cnt', 'ACK Flag Cnt', 'Pkt Len Std'], 'Normal sample 242': ['SYN Flag Cnt', 'ACK Flag Cnt', 'FIN Flag Cnt', 'Pkt Size Avg', 'Pkt Len Max', 'Bwd Pkts/s', 'Pkt Len Mean', 'Pkt Len Std', 'Flow Pkts/s', 'Pkt Len Min'], 'Normal sample 243': ['Init Bwd Win Byts', 'Pkt Size Avg', 'Pkt Len Mean', 'Pkt Len Max', 'Fwd Pkt Len Max', 'Flow Pkts/s', 'Fwd Pkt Len Std', 'Flow Duration', 'FIN Flag Cnt', 'Pkt Len Std'], 'Normal sample 244': ['Init Bwd Win Byts', 'Fwd IAT Std', 'SYN Flag Cnt', 'Bwd IAT Max', 'Down/Up Ratio', 'Fwd IAT Tot', 'Bwd IAT Tot', 'Bwd Pkts/s', 'Flow Pkts/s', 'Fwd IAT Max'], 'Normal sample 245': ['Init Bwd Win Byts', 'SYN Flag Cnt', 'FIN Flag Cnt', 'Down/Up Ratio', 'Flow IAT Max', 'Idle Mean', 'Idle Min', 'Bwd IAT Max', 'Idle Max', 'Flow Pkts/s'], 'Normal sample 246': ['SYN Flag Cnt', 'ACK Flag Cnt', 'FIN Flag Cnt', 'Bwd Pkts/s', 'Flow Pkts/s', 'Pkt Size Avg', 'Pkt Len Mean', 'Pkt Len Max', 'Pkt Len Min', 'Pkt Len Std'], 'Normal sample 247': ['SYN Flag Cnt', 'ACK Flag Cnt', 'FIN Flag Cnt', 'Bwd Pkts/s', 'Pkt Len Max', 'Pkt Len Mean', 'Pkt Size Avg', 'Flow Pkts/s', 'Pkt Len Std', 'Fwd IAT Max'], 'Normal sample 248': ['Init Bwd Win Byts', 'SYN Flag Cnt', 'PSH Flag Cnt', 'ACK Flag Cnt', 'Idle Max', 'Down/Up Ratio', 'Idle Mean', 'URG Flag Cnt', 'Bwd IAT Std', 'Flow IAT Std'], 'Normal sample 249': ['SYN Flag Cnt', 'FIN Flag Cnt', 'Pkt Size Avg', 'ACK Flag Cnt', 'Pkt Len Min', 'Pkt Len Mean', 'Flow Byts/s', 'Fwd Seg Size Avg', 'Fwd Pkt Len Mean', 'Fwd Pkt Len Min'], 'Normal sample 250': ['SYN Flag Cnt', 'ACK Flag Cnt', 'FIN Flag Cnt', 'Pkt Len Max', 'Pkt Size Avg', 'Bwd Pkts/s', 'Pkt Len Min', 'Flow Pkts/s', 'Pkt Len Std', 'Pkt Len Mean'], 'Normal sample 251': ['SYN Flag Cnt', 'FIN Flag Cnt', 'Pkt Size Avg', 'Flow Pkts/s', 'Pkt Len Mean', 'Pkt Len Max', 'Pkt Len Std', 'Pkt Len Min', 'Bwd Pkt Len Min', 'Bwd Pkts/s'], 'Normal sample 252': ['SYN Flag Cnt', 'ACK Flag Cnt', 'FIN Flag Cnt', 'Pkt Size Avg', 'Pkt Len Std', 'Pkt Len Mean', 'Pkt Len Min', 'Flow Pkts/s', 'Pkt Len Max', 'Bwd Pkts/s'], 'Normal sample 253': ['SYN Flag Cnt', 'ACK Flag Cnt', 'FIN Flag Cnt', 'Pkt Size Avg', 'Pkt Len Mean', 'Flow Pkts/s', 'Pkt Len Max', 'Bwd Pkts/s', 'Pkt Len Min', 'Pkt Len Std'], 'Normal sample 254': ['Init Bwd Win Byts', 'Fwd IAT Tot', 'Pkt Len Max', 'Pkt Size Avg', 'Fwd Pkt Len Max', 'Pkt Len Mean', 'Pkt Len Std', 'ACK Flag Cnt', 'Bwd IAT Tot', 'Down/Up Ratio'], 'Normal sample 255': ['Fwd IAT Max', 'SYN Flag Cnt', 'Down/Up Ratio', 'ACK Flag Cnt', 'Fwd IAT Tot', 'Pkt Len Min', 'Bwd Pkts/s', 'Flow IAT Std', 'FIN Flag Cnt', 'Bwd IAT Std'], 'Normal sample 256': ['Fwd Pkt Len Std', 'Flow Byts/s', 'Fwd Pkt Len Mean', 'Fwd Seg Size Avg', 'Fwd Pkt Len Max', 'Pkt Len Mean', 'Pkt Size Avg', 'Pkt Len Max', 'Pkt Len Std', 'SYN Flag Cnt'], 'Normal sample 257': ['SYN Flag Cnt', 'FIN Flag Cnt', 'ACK Flag Cnt', 'Pkt Size Avg', 'Pkt Len Mean', 'Pkt Len Min', 'Pkt Len Max', 'Bwd Pkts/s', 'Flow Pkts/s', 'Pkt Len Std'], 'Normal sample 258': ['SYN Flag Cnt', 'FIN Flag Cnt', 'Fwd Pkt Len Max', 'Fwd Pkt Len Mean', 'Fwd Pkt Len Std', 'Fwd Seg Size Avg', 'Bwd Pkts/s', 'Pkt Len Max', 'Pkt Size Avg', 'Pkt Len Mean'], 'Normal sample 259': ['Init Bwd Win Byts', 'ACK Flag Cnt', 'SYN Flag Cnt', 'Down/Up Ratio', 'Bwd Pkts/s', 'Idle Min', 'Idle Max', 'Bwd IAT Mean', 'Active Min', 'Subflow Bwd Byts'], 'Normal sample 260': ['Init Bwd Win Byts', 'Fwd IAT Std', 'Fwd Pkt Len Max', 'Fwd Pkt Len Std', 'Fwd IAT Tot', 'FIN Flag Cnt', 'Pkt Len Max', 'Fwd IAT Max', 'ACK Flag Cnt', 'Pkt Len Std'], 'Normal sample 261': ['Init Bwd Win Byts', 'SYN Flag Cnt', 'FIN Flag Cnt', 'Bwd Pkt Len Min', 'Down/Up Ratio', 'Idle Mean', 'Pkt Len Mean', 'Subflow Fwd Byts', 'Bwd URG Flags', 'URG Flag Cnt'], 'Normal sample 262': ['SYN Flag Cnt', 'ACK Flag Cnt', 'FIN Flag Cnt', 'Pkt Len Max', 'Flow Pkts/s', 'Bwd Pkts/s', 'Pkt Size Avg', 'Pkt Len Mean', 'Pkt Len Std', 'Pkt Len Min'], 'Normal sample 263': ['Init Bwd Win Byts', 'Fwd IAT Tot', 'Pkt Len Max', 'Down/Up Ratio', 'Bwd IAT Tot', 'Fwd Pkt Len Max', 'Fwd IAT Std', 'ACK Flag Cnt', 'Pkt Len Std', 'Pkt Size Avg'], 'Normal sample 264': ['SYN Flag Cnt', 'FIN Flag Cnt', 'Pkt Size Avg', 'ACK Flag Cnt', 'Pkt Len Mean', 'Pkt Len Min', 'Fwd Pkt Len Mean', 'Flow Byts/s', 'Flow Pkts/s', 'Fwd Seg Size Avg'], 'Normal sample 265': ['SYN Flag Cnt', 'ACK Flag Cnt', 'FIN Flag Cnt', 'Pkt Size Avg', 'Pkt Len Mean', 'Flow Pkts/s', 'Pkt Len Min', 'Pkt Len Max', 'Bwd Pkts/s', 'Pkt Len Std'], 'Normal sample 266': ['Init Bwd Win Byts', 'Pkt Size Avg', 'Pkt Len Mean', 'Pkt Len Max', 'Fwd Pkt Len Max', 'Flow Pkts/s', 'Down/Up Ratio', 'Pkt Len Std', 'FIN Flag Cnt', 'Fwd Header Len'], 'Normal sample 267': ['SYN Flag Cnt', 'ACK Flag Cnt', 'FIN Flag Cnt', 'Pkt Size Avg', 'Pkt Len Mean', 'Bwd Pkts/s', 'Flow Pkts/s', 'Pkt Len Max', 'Pkt Len Std', 'Pkt Len Min'], 'Normal sample 268': ['SYN Flag Cnt', 'FIN Flag Cnt', 'Pkt Size Avg', 'ACK Flag Cnt', 'Pkt Len Mean', 'Pkt Len Min', 'Fwd Pkt Len Mean', 'Fwd Seg Size Avg', 'Flow Pkts/s', 'Flow Byts/s'], 'Normal sample 269': ['SYN Flag Cnt', 'ACK Flag Cnt', 'FIN Flag Cnt', 'Pkt Size Avg', 'Bwd Pkts/s', 'Pkt Len Max', 'Flow Pkts/s', 'Pkt Len Mean', 'Pkt Len Min', 'Pkt Len Std'], 'Normal sample 270': ['Init Bwd Win Byts', 'Fwd IAT Tot', 'Fwd IAT Std', 'Bwd PSH Flags', 'Pkt Len Max', 'Down/Up Ratio', 'SYN Flag Cnt', 'Flow Pkts/s', 'Bwd IAT Mean', 'Bwd Pkts/s'], 'Normal sample 271': ['SYN Flag Cnt', 'ACK Flag Cnt', 'FIN Flag Cnt', 'Pkt Size Avg', 'Flow Pkts/s', 'Bwd Pkts/s', 'Pkt Len Max', 'Pkt Len Mean', 'Pkt Len Min', 'Pkt Len Std'], 'Normal sample 272': ['Init Bwd Win Byts', 'Fwd IAT Tot', 'Fwd IAT Std', 'Bwd Pkts/s', 'Bwd PSH Flags', 'Down/Up Ratio', 'SYN Flag Cnt', 'Tot Fwd Pkts', 'Bwd IAT Tot', 'Pkt Len Var'], 'Normal sample 273': ['SYN Flag Cnt', 'ACK Flag Cnt', 'FIN Flag Cnt', 'Bwd Pkts/s', 'Flow Pkts/s', 'Pkt Size Avg', 'Pkt Len Mean', 'Pkt Len Max', 'Pkt Len Min', 'Bwd Pkt Len Min'], 'Normal sample 274': ['SYN Flag Cnt', 'FIN Flag Cnt', 'ACK Flag Cnt', 'Pkt Size Avg', 'Pkt Len Mean', 'Pkt Len Max', 'Flow Pkts/s', 'Pkt Len Std', 'Bwd Pkts/s', 'Pkt Len Min'], 'Normal sample 275': ['Init Bwd Win Byts', 'Fwd Pkt Len Max', 'Fwd IAT Tot', 'ACK Flag Cnt', 'Pkt Len Max', 'FIN Flag Cnt', 'Bwd IAT Max', 'Pkt Len Mean', 'Fwd IAT Std', 'Pkt Size Avg'], 'Normal sample 276': ['SYN Flag Cnt', 'ACK Flag Cnt', 'FIN Flag Cnt', 'Bwd Pkts/s', 'Pkt Size Avg', 'Flow Pkts/s', 'Pkt Len Mean', 'Pkt Len Min', 'Pkt Len Max', 'Pkt Len Std'], 'Normal sample 277': ['Init Bwd Win Byts', 'ACK Flag Cnt', 'Bwd IAT Tot', 'Down/Up Ratio', 'Bwd IAT Max', 'FIN Flag Cnt', 'Flow Pkts/s', 'Bwd IAT Mean', 'Bwd Pkts/s', 'Flow Duration'], 'Normal sample 278': ['SYN Flag Cnt', 'ACK Flag Cnt', 'FIN Flag Cnt', 'Bwd Pkts/s', 'Pkt Size Avg', 'Flow Pkts/s', 'Pkt Len Max', 'Pkt Len Mean', 'Pkt Len Min', 'Pkt Len Std'], 'Normal sample 279': ['Init Bwd Win Byts', 'SYN Flag Cnt', 'Down/Up Ratio', 'FIN Flag Cnt', 'Idle Max', 'PSH Flag Cnt', 'Flow IAT Max', 'Flow Pkts/s', 'Bwd IAT Std', 'Idle Mean'], 'Normal sample 280': ['SYN Flag Cnt', 'FIN Flag Cnt', 'ACK Flag Cnt', 'Pkt Size Avg', 'Pkt Len Max', 'Pkt Len Mean', 'Bwd Pkts/s', 'Pkt Len Min', 'Flow Pkts/s', 'Pkt Len Std'], 'Normal sample 281': ['SYN Flag Cnt', 'FIN Flag Cnt', 'ACK Flag Cnt', 'Pkt Size Avg', 'Pkt Len Mean', 'Pkt Len Max', 'Pkt Len Min', 'Bwd Pkts/s', 'Flow Pkts/s', 'Pkt Len Std'], 'Normal sample 282': ['SYN Flag Cnt', 'ACK Flag Cnt', 'FIN Flag Cnt', 'Pkt Size Avg', 'Pkt Len Mean', 'Pkt Len Max', 'Pkt Len Std', 'Bwd Pkts/s', 'Pkt Len Min', 'Flow Pkts/s'], 'Normal sample 283': ['Init Bwd Win Byts', 'SYN Flag Cnt', 'Flow IAT Max', 'Idle Mean', 'Idle Max', 'URG Flag Cnt', 'Idle Min', 'Flow IAT Mean', 'Down/Up Ratio', 'Flow Duration'], 'Normal sample 284': ['Init Bwd Win Byts', 'Fwd IAT Tot', 'Bwd Pkts/s', 'Fwd IAT Std', 'Fwd Pkt Len Max', 'Bwd IAT Max', 'FIN Flag Cnt', 'Bwd PSH Flags', 'SYN Flag Cnt', 'Pkt Len Var'], 'Normal sample 285': ['SYN Flag Cnt', 'ACK Flag Cnt', 'FIN Flag Cnt', 'Pkt Size Avg', 'Pkt Len Mean', 'Flow Pkts/s', 'Bwd Pkts/s', 'Pkt Len Min', 'Pkt Len Max', 'Pkt Len Std'], 'Normal sample 286': ['Init Bwd Win Byts', 'Fwd IAT Tot', 'Fwd IAT Std', 'Bwd PSH Flags', 'SYN Flag Cnt', 'Bwd Pkts/s', 'Bwd Seg Size Avg', 'Bwd Pkt Len Max', 'Bwd IAT Tot', 'Flow Pkts/s'], 'Normal sample 287': ['Init Bwd Win Byts', 'SYN Flag Cnt', 'FIN Flag Cnt', 'Down/Up Ratio', 'Flow IAT Max', 'Bwd IAT Std', 'Flow Pkts/s', 'Idle Mean', 'Idle Min', 'Bwd IAT Max'], 'Normal sample 288': ['SYN Flag Cnt', 'ACK Flag Cnt', 'FIN Flag Cnt', 'Pkt Size Avg', 'Pkt Len Max', 'Bwd Pkts/s', 'Pkt Len Mean', 'Flow Pkts/s', 'Pkt Len Std', 'Pkt Len Min'], 'Normal sample 289': ['Init Bwd Win Byts', 'SYN Flag Cnt', 'Down/Up Ratio', 'Idle Max', 'Bwd URG Flags', 'Flow IAT Max', 'Flow IAT Mean', 'Idle Mean', 'PSH Flag Cnt', 'ACK Flag Cnt'], 'Normal sample 290': ['Init Bwd Win Byts', 'Fwd IAT Tot', 'Fwd Pkt Len Max', 'Fwd Pkt Len Std', 'ACK Flag Cnt', 'Pkt Len Std', 'Bwd IAT Mean', 'Fwd IAT Std', 'Pkt Len Max', 'Pkt Size Avg'], 'Normal sample 291': ['Fwd Pkt Len Max', 'Fwd Pkt Len Mean', 'SYN Flag Cnt', 'Fwd Pkt Len Std', 'Fwd Seg Size Avg', 'Flow Byts/s', 'Pkt Size Avg', 'Pkt Len Max', 'Pkt Len Mean', 'Pkt Len Std'], 'Normal sample 292': ['Fwd IAT Std', 'ACK Flag Cnt', 'Fwd IAT Max', 'SYN Flag Cnt', 'Pkt Len Min', 'Down/Up Ratio', 'Bwd Pkts/s', 'Fwd IAT Tot', 'Idle Min', 'Idle Max'], 'Normal sample 293': ['SYN Flag Cnt', 'ACK Flag Cnt', 'FIN Flag Cnt', 'Flow Pkts/s', 'Pkt Size Avg', 'Pkt Len Max', 'Bwd Pkts/s', 'Pkt Len Mean', 'Pkt Len Std', 'Pkt Len Min'], 'Normal sample 294': ['SYN Flag Cnt', 'ACK Flag Cnt', 'FIN Flag Cnt', 'Pkt Size Avg', 'Pkt Len Max', 'Pkt Len Mean', 'Pkt Len Min', 'Pkt Len Std', 'Bwd Pkts/s', 'Flow Pkts/s'], 'Normal sample 295': ['SYN Flag Cnt', 'FIN Flag Cnt', 'Pkt Size Avg', 'ACK Flag Cnt', 'Pkt Len Mean', 'Pkt Len Max', 'Pkt Len Min', 'Flow Pkts/s', 'Bwd Pkts/s', 'Pkt Len Std'], 'Normal sample 296': ['Init Bwd Win Byts', 'Fwd IAT Std', 'Pkt Len Max', 'Fwd IAT Tot', 'Bwd IAT Tot', 'Pkt Size Avg', 'ACK Flag Cnt', 'Pkt Len Std', 'Down/Up Ratio', 'Bwd Pkts/s'], 'Normal sample 297': ['Init Bwd Win Byts', 'Fwd IAT Std', 'Fwd IAT Tot', 'Bwd PSH Flags', 'SYN Flag Cnt', 'Down/Up Ratio', 'Bwd Pkts/s', 'Bwd IAT Max', 'Fwd Pkt Len Std', 'Bwd IAT Mean'], 'Normal sample 298': ['Init Bwd Win Byts', 'SYN Flag Cnt', 'Fwd Seg Size Avg', 'Fwd Pkt Len Mean', 'Fwd Pkt Len Max', 'Flow Pkts/s', 'FIN Flag Cnt', 'Fwd Pkt Len Std', 'Pkt Len Std', 'Pkt Size Avg'], 'Normal sample 299': ['SYN Flag Cnt', 'ACK Flag Cnt', 'FIN Flag Cnt', 'Bwd Pkts/s', 'Pkt Size Avg', 'Flow Pkts/s', 'Pkt Len Max', 'Pkt Len Mean', 'Pkt Len Std', 'Pkt Len Min'], 'Normal sample 300': ['Init Bwd Win Byts', 'SYN Flag Cnt', 'Down/Up Ratio', 'FIN Flag Cnt', 'Flow Pkts/s', 'Bwd IAT Max', 'Bwd IAT Std', 'Flow IAT Max', 'URG Flag Cnt', 'PSH Flag Cnt'], 'Normal sample 301': ['Init Bwd Win Byts', 'Fwd IAT Tot', 'ACK Flag Cnt', 'Pkt Len Max', 'Fwd IAT Std', 'Down/Up Ratio', 'Pkt Len Std', 'Pkt Size Avg', 'Fwd IAT Max', 'Flow Pkts/s'], 'Normal sample 302': ['SYN Flag Cnt', 'FIN Flag Cnt', 'ACK Flag Cnt', 'Pkt Size Avg', 'Pkt Len Max', 'Pkt Len Mean', 'Bwd Pkts/s', 'Pkt Len Std', 'Pkt Len Min', 'Flow Pkts/s'], 'Normal sample 303': ['SYN Flag Cnt', 'FIN Flag Cnt', 'Flow Byts/s', 'Pkt Size Avg', 'ACK Flag Cnt', 'Pkt Len Mean', 'Pkt Len Min', 'Fwd Seg Size Avg', 'Fwd Pkt Len Mean', 'Flow Pkts/s'], 'Normal sample 304': ['Init Bwd Win Byts', 'SYN Flag Cnt', 'Down/Up Ratio', 'FIN Flag Cnt', 'Flow IAT Max', 'Flow Pkts/s', 'PSH Flag Cnt', 'Idle Min', 'URG Flag Cnt', 'Idle Max'], 'Normal sample 305': ['Init Bwd Win Byts', 'Fwd IAT Tot', 'Fwd IAT Std', 'Pkt Len Max', 'Fwd IAT Max', 'Down/Up Ratio', 'Pkt Len Std', 'Bwd IAT Tot', 'ACK Flag Cnt', 'Fwd Pkt Len Max'], 'Normal sample 306': ['SYN Flag Cnt', 'ACK Flag Cnt', 'FIN Flag Cnt', 'Pkt Size Avg', 'Pkt Len Max', 'Pkt Len Mean', 'Bwd Pkts/s', 'Pkt Len Std', 'Flow Pkts/s', 'Pkt Len Min'], 'Normal sample 307': ['SYN Flag Cnt', 'ACK Flag Cnt', 'FIN Flag Cnt', 'Pkt Size Avg', 'Pkt Len Max', 'Pkt Len Mean', 'Flow Pkts/s', 'Bwd Pkts/s', 'Pkt Len Std', 'Pkt Len Min'], 'Normal sample 308': ['Init Bwd Win Byts', 'Fwd IAT Tot', 'Fwd IAT Std', 'Fwd Seg Size Avg', 'SYN Flag Cnt', 'Fwd Pkt Len Max', 'Pkt Len Max', 'Bwd IAT Max', 'Pkt Len Std', 'Bwd PSH Flags'], 'Normal sample 309': ['Init Bwd Win Byts', 'Pkt Size Avg', 'Pkt Len Max', 'Down/Up Ratio', 'FIN Flag Cnt', 'Flow Pkts/s', 'Fwd Pkt Len Mean', 'Pkt Len Mean', 'Fwd Pkt Len Max', 'Fwd Pkt Len Std'], 'Normal sample 310': ['Init Bwd Win Byts', 'Fwd IAT Tot', 'SYN Flag Cnt', 'Fwd Pkt Len Max', 'Down/Up Ratio', 'Fwd Pkt Len Std', 'Pkt Len Max', 'Bwd IAT Tot', 'Pkt Len Mean', 'Pkt Len Std'], 'Normal sample 311': ['Init Bwd Win Byts', 'Fwd IAT Std', 'Fwd IAT Tot', 'SYN Flag Cnt', 'Bwd PSH Flags', 'Bwd IAT Max', 'Bwd Pkts/s', 'Fwd Pkt Len Mean', 'Fwd Pkt Len Std', 'Fwd Pkt Len Max'], 'Normal sample 312': ['Init Bwd Win Byts', 'SYN Flag Cnt', 'Down/Up Ratio', 'FIN Flag Cnt', 'Flow Pkts/s', 'Flow IAT Max', 'Idle Max', 'Idle Mean', 'Idle Min', 'Bwd IAT Std'], 'Normal sample 313': ['Init Bwd Win Byts', 'Fwd IAT Tot', 'Bwd PSH Flags', 'Fwd IAT Std', 'PSH Flag Cnt', 'Bwd Pkts/s', 'Idle Max', 'SYN Flag Cnt', 'Bwd IAT Min', 'Pkt Len Mean'], 'Normal sample 314': ['Init Bwd Win Byts', 'SYN Flag Cnt', 'FIN Flag Cnt', 'Down/Up Ratio', 'Flow Pkts/s', 'Flow IAT Max', 'URG Flag Cnt', 'Idle Min', 'Idle Mean', 'Flow IAT Mean'], 'Normal sample 315': ['Init Bwd Win Byts', 'SYN Flag Cnt', 'FIN Flag Cnt', 'Down/Up Ratio', 'Flow Pkts/s', 'Flow IAT Std', 'Flow IAT Max', 'Fwd IAT Mean', 'URG Flag Cnt', 'Idle Max'], 'Normal sample 316': ['Init Bwd Win Byts', 'Fwd IAT Tot', 'Fwd IAT Std', 'SYN Flag Cnt', 'Fwd Pkt Len Mean', 'FIN Flag Cnt', 'Bwd Pkts/s', 'URG Flag Cnt', 'Fwd Seg Size Avg', 'Fwd Pkt Len Max'], 'Normal sample 317': ['Init Bwd Win Byts', 'SYN Flag Cnt', 'Flow Pkts/s', 'FIN Flag Cnt', 'Bwd Pkts/s', 'Fwd Seg Size Avg', 'Down/Up Ratio', 'Pkt Len Max', 'Fwd Pkt Len Mean', 'Bwd IAT Std'], 'Normal sample 318': ['SYN Flag Cnt', 'ACK Flag Cnt', 'FIN Flag Cnt', 'Bwd Pkts/s', 'Pkt Size Avg', 'Flow Pkts/s', 'Pkt Len Mean', 'Pkt Len Max', 'Pkt Len Min', 'Pkt Len Std'], 'Normal sample 319': ['SYN Flag Cnt', 'ACK Flag Cnt', 'FIN Flag Cnt', 'Pkt Size Avg', 'Bwd Pkts/s', 'Flow Pkts/s', 'Pkt Len Mean', 'Pkt Len Max', 'Pkt Len Min', 'Pkt Len Std'], 'Normal sample 320': ['SYN Flag Cnt', 'ACK Flag Cnt', 'FIN Flag Cnt', 'Pkt Size Avg', 'Pkt Len Mean', 'Pkt Len Max', 'Flow Pkts/s', 'Bwd Pkts/s', 'Pkt Len Std', 'Pkt Len Min'], 'Normal sample 321': ['Init Bwd Win Byts', 'Pkt Size Avg', 'Pkt Len Mean', 'Pkt Len Max', 'Fwd Pkt Len Max', 'ACK Flag Cnt', 'Bwd IAT Tot', 'Fwd Pkt Len Std', 'FIN Flag Cnt', 'Pkt Len Std'], 'Normal sample 322': ['Init Bwd Win Byts', 'SYN Flag Cnt', 'Down/Up Ratio', 'Bwd Pkts/s', 'Bwd PSH Flags', 'FIN Flag Cnt', 'PSH Flag Cnt', 'Flow Pkts/s', 'Flow Duration', 'Bwd IAT Std'], 'Normal sample 323': ['SYN Flag Cnt', 'FIN Flag Cnt', 'Pkt Size Avg', 'Flow Pkts/s', 'Pkt Len Max', 'Pkt Len Mean', 'Pkt Len Std', 'Bwd Pkts/s', 'Pkt Len Min', 'Bwd Pkt Len Min'], 'Normal sample 324': ['SYN Flag Cnt', 'FIN Flag Cnt', 'Pkt Size Avg', 'ACK Flag Cnt', 'Pkt Len Mean', 'Flow Pkts/s', 'Pkt Len Min', 'Fwd Seg Size Avg', 'Fwd Pkt Len Min', 'Bwd Pkts/s'], 'Normal sample 325': ['Init Bwd Win Byts', 'Fwd IAT Std', 'Fwd IAT Tot', 'ACK Flag Cnt', 'Fwd IAT Max', 'Down/Up Ratio', 'Bwd IAT Tot', 'Fwd Pkt Len Max', 'Pkt Size Avg', 'Bwd Pkts/s'], 'Normal sample 326': ['SYN Flag Cnt', 'FIN Flag Cnt', 'Pkt Size Avg', 'ACK Flag Cnt', 'Pkt Len Min', 'Pkt Len Mean', 'Bwd Pkts/s', 'Pkt Len Max', 'Flow Pkts/s', 'Pkt Len Std'], 'Normal sample 327': ['Init Bwd Win Byts', 'SYN Flag Cnt', 'FIN Flag Cnt', 'Flow Pkts/s', 'Flow IAT Std', 'Bwd Pkts/s', 'Down/Up Ratio', 'Fwd IAT Mean', 'Fwd IAT Min', 'Flow IAT Max'], 'Normal sample 328': ['Init Bwd Win Byts', 'Fwd Pkt Len Max', 'Fwd Pkt Len Std', 'FIN Flag Cnt', 'Fwd Pkt Len Mean', 'Fwd Seg Size Avg', 'Pkt Len Max', 'Flow Pkts/s', 'ACK Flag Cnt', 'Down/Up Ratio'], 'Normal sample 329': ['SYN Flag Cnt', 'Fwd Pkt Len Max', 'Fwd Pkt Len Mean', 'Fwd Seg Size Avg', 'Fwd Pkt Len Std', 'FIN Flag Cnt', 'Down/Up Ratio', 'Pkt Len Max', 'Pkt Size Avg', 'Bwd Pkts/s'], 'Normal sample 330': ['SYN Flag Cnt', 'FIN Flag Cnt', 'Flow Byts/s', 'Pkt Size Avg', 'ACK Flag Cnt', 'Pkt Len Mean', 'Pkt Len Min', 'Fwd Seg Size Avg', 'Fwd Pkt Len Mean', 'Flow Pkts/s'], 'Normal sample 331': ['SYN Flag Cnt', 'Fwd Pkt Len Max', 'Fwd Pkt Len Mean', 'Fwd Seg Size Avg', 'Fwd Pkt Len Std', 'Pkt Len Max', 'Pkt Len Mean', 'Pkt Size Avg', 'FIN Flag Cnt', 'Bwd Pkts/s'], 'Normal sample 332': ['SYN Flag Cnt', 'ACK Flag Cnt', 'FIN Flag Cnt', 'Bwd Pkts/s', 'Pkt Size Avg', 'Pkt Len Mean', 'Pkt Len Max', 'Pkt Len Min', 'Pkt Len Std', 'Flow Pkts/s'], 'Normal sample 333': ['Init Bwd Win Byts', 'SYN Flag Cnt', 'Down/Up Ratio', 'FIN Flag Cnt', 'Flow Pkts/s', 'Flow IAT Max', 'Idle Mean', 'Idle Max', 'Bwd IAT Max', 'Idle Min'], 'Normal sample 334': ['SYN Flag Cnt', 'FIN Flag Cnt', 'Flow Byts/s', 'Pkt Size Avg', 'Bwd Pkt Len Min', 'Pkt Len Mean', 'Pkt Len Max', 'ACK Flag Cnt', 'Pkt Len Min', 'Pkt Len Std'], 'Normal sample 335': ['Init Bwd Win Byts', 'SYN Flag Cnt', 'Down/Up Ratio', 'FIN Flag Cnt', 'Flow Pkts/s', 'Bwd IAT Std', 'Flow IAT Max', 'Idle Max', 'Idle Mean', 'Idle Min'], 'Normal sample 336': ['Init Bwd Win Byts', 'Pkt Len Max', 'Fwd Pkt Len Max', 'FIN Flag Cnt', 'Fwd Seg Size Avg', 'Pkt Size Avg', 'Bwd IAT Tot', 'Pkt Len Std', 'Pkt Len Mean', 'Fwd Pkt Len Std'], 'Normal sample 337': ['SYN Flag Cnt', 'FIN Flag Cnt', 'ACK Flag Cnt', 'Pkt Size Avg', 'Pkt Len Mean', 'Pkt Len Max', 'Flow Pkts/s', 'Pkt Len Min', 'Bwd Pkts/s', 'Pkt Len Std'], 'Normal sample 338': ['Init Bwd Win Byts', 'Fwd IAT Std', 'Fwd IAT Tot', 'Bwd Pkts/s', 'ACK Flag Cnt', 'Down/Up Ratio', 'Bwd IAT Tot', 'PSH Flag Cnt', 'Fwd Pkt Len Max', 'Pkt Len Max'], 'Normal sample 339': ['Init Bwd Win Byts', 'Fwd IAT Std', 'Bwd PSH Flags', 'Fwd IAT Tot', 'Bwd Pkts/s', 'SYN Flag Cnt', 'Down/Up Ratio', 'Bwd IAT Mean', 'Bwd IAT Tot', 'Bwd Pkt Len Min'], 'Normal sample 340': ['Init Bwd Win Byts', 'Pkt Len Max', 'Pkt Size Avg', 'Pkt Len Mean', 'Fwd IAT Tot', 'Fwd Pkt Len Max', 'Down/Up Ratio', 'Pkt Len Std', 'Tot Bwd Pkts', 'Bwd Header Len'], 'Normal sample 341': ['SYN Flag Cnt', 'ACK Flag Cnt', 'FIN Flag Cnt', 'Pkt Size Avg', 'Flow Pkts/s', 'Bwd Pkts/s', 'Pkt Len Max', 'Pkt Len Std', 'Pkt Len Mean', 'Pkt Len Min'], 'Normal sample 342': ['SYN Flag Cnt', 'FIN Flag Cnt', 'ACK Flag Cnt', 'Pkt Size Avg', 'Pkt Len Min', 'Flow Pkts/s', 'Pkt Len Max', 'Pkt Len Mean', 'Bwd Pkts/s', 'Pkt Len Std'], 'Normal sample 343': ['Init Bwd Win Byts', 'Fwd Pkt Len Max', 'Fwd Pkt Len Std', 'Pkt Len Max', 'Fwd IAT Tot', 'FIN Flag Cnt', 'Fwd IAT Std', 'Flow Pkts/s', 'ACK Flag Cnt', 'Fwd IAT Max'], 'Normal sample 344': ['SYN Flag Cnt', 'ACK Flag Cnt', 'FIN Flag Cnt', 'Pkt Size Avg', 'Flow Pkts/s', 'Bwd Pkts/s', 'Pkt Len Max', 'Pkt Len Mean', 'Pkt Len Std', 'Pkt Len Min'], 'Normal sample 345': ['SYN Flag Cnt', 'Fwd Pkt Len Max', 'Fwd Pkt Len Mean', 'Fwd Seg Size Avg', 'Fwd Pkt Len Std', 'Pkt Len Mean', 'Pkt Len Max', 'FIN Flag Cnt', 'Bwd Pkts/s', 'Pkt Size Avg'], 'Normal sample 346': ['SYN Flag Cnt', 'FIN Flag Cnt', 'ACK Flag Cnt', 'Pkt Size Avg', 'Pkt Len Max', 'Pkt Len Min', 'Flow Pkts/s', 'Bwd Pkts/s', 'Pkt Len Mean', 'Pkt Len Std'], 'Normal sample 347': ['SYN Flag Cnt', 'FIN Flag Cnt', 'ACK Flag Cnt', 'Pkt Size Avg', 'Pkt Len Mean', 'Pkt Len Min', 'Pkt Len Max', 'Flow Pkts/s', 'Bwd Pkts/s', 'Pkt Len Std'], 'Normal sample 348': ['SYN Flag Cnt', 'FIN Flag Cnt', 'ACK Flag Cnt', 'Pkt Size Avg', 'Pkt Len Mean', 'Pkt Len Max', 'Pkt Len Min', 'Bwd Pkts/s', 'Pkt Len Std', 'Flow Pkts/s'], 'Normal sample 349': ['SYN Flag Cnt', 'ACK Flag Cnt', 'FIN Flag Cnt', 'Pkt Size Avg', 'Pkt Len Max', 'Flow Pkts/s', 'Pkt Len Min', 'Pkt Len Std', 'Bwd Pkts/s', 'Pkt Len Mean'], 'Normal sample 350': ['Init Bwd Win Byts', 'SYN Flag Cnt', 'Down/Up Ratio', 'FIN Flag Cnt', 'Flow IAT Max', 'PSH Flag Cnt', 'Flow Pkts/s', 'Idle Max', 'Idle Min', 'Idle Mean'], 'Normal sample 351': ['Init Bwd Win Byts', 'Fwd IAT Tot', 'Fwd Pkt Len Std', 'SYN Flag Cnt', 'Fwd Pkt Len Max', 'Fwd Pkt Len Mean', 'Down/Up Ratio', 'Fwd IAT Std', 'Fwd Seg Size Avg', 'Pkt Len Mean'], 'Normal sample 352': ['Init Bwd Win Byts', 'SYN Flag Cnt', 'FIN Flag Cnt', 'Down/Up Ratio', 'Bwd IAT Std', 'Idle Min', 'Flow IAT Max', 'Idle Mean', 'Flow Pkts/s', 'PSH Flag Cnt'], 'Normal sample 353': ['SYN Flag Cnt', 'ACK Flag Cnt', 'FIN Flag Cnt', 'Bwd Pkts/s', 'Flow Pkts/s', 'Pkt Size Avg', 'Pkt Len Max', 'Pkt Len Mean', 'Pkt Len Min', 'Pkt Len Std'], 'Normal sample 354': ['SYN Flag Cnt', 'FIN Flag Cnt', 'Pkt Size Avg', 'Flow Byts/s', 'ACK Flag Cnt', 'Pkt Len Min', 'Pkt Len Mean', 'Fwd Seg Size Avg', 'Flow Pkts/s', 'Fwd Pkt Len Mean'], 'Normal sample 355': ['SYN Flag Cnt', 'ACK Flag Cnt', 'FIN Flag Cnt', 'Pkt Size Avg', 'Pkt Len Max', 'Pkt Len Mean', 'Flow Pkts/s', 'Pkt Len Std', 'Pkt Len Min', 'Bwd Pkts/s'], 'Normal sample 356': ['Init Bwd Win Byts', 'SYN Flag Cnt', 'Down/Up Ratio', 'Flow Pkts/s', 'FIN Flag Cnt', 'Bwd PSH Flags', 'Bwd Pkts/s', 'Bwd Pkt Len Min', 'Pkt Size Avg', 'Pkt Len Mean'], 'Normal sample 357': ['Init Bwd Win Byts', 'SYN Flag Cnt', 'Down/Up Ratio', 'FIN Flag Cnt', 'Flow Pkts/s', 'Flow IAT Max', 'PSH Flag Cnt', 'Idle Max', 'Idle Min', 'Idle Mean'], 'Normal sample 358': ['Fwd Pkt Len Max', 'Fwd Pkt Len Std', 'Fwd Pkt Len Mean', 'Fwd Seg Size Avg', 'SYN Flag Cnt', 'Pkt Size Avg', 'Pkt Len Mean', 'Pkt Len Max', 'Bwd PSH Flags', 'Pkt Len Std'], 'Normal sample 359': ['Init Bwd Win Byts', 'Fwd IAT Tot', 'Fwd IAT Std', 'SYN Flag Cnt', 'Bwd PSH Flags', 'Pkt Size Avg', 'Pkt Len Max', 'Down/Up Ratio', 'Fwd Pkt Len Std', 'Pkt Len Mean'], 'Normal sample 360': ['SYN Flag Cnt', 'FIN Flag Cnt', 'Pkt Size Avg', 'Flow Byts/s', 'Fwd Pkt Len Mean', 'Pkt Len Mean', 'Pkt Len Min', 'ACK Flag Cnt', 'Fwd Seg Size Avg', 'Fwd Pkt Len Min'], 'Normal sample 361': ['SYN Flag Cnt', 'Flow Pkts/s', 'Bwd Pkts/s', 'Down/Up Ratio', 'FIN Flag Cnt', 'Fwd Pkt Len Max', 'Pkt Len Max', 'Fwd Pkt Len Std', 'Flow Duration', 'Pkt Len Std'], 'Normal sample 362': ['Init Bwd Win Byts', 'Fwd IAT Tot', 'Fwd IAT Std', 'Bwd PSH Flags', 'SYN Flag Cnt', 'Down/Up Ratio', 'Fwd Pkt Len Max', 'Fwd Seg Size Avg', 'Flow Pkts/s', 'Pkt Len Std'], 'Normal sample 363': ['Init Bwd Win Byts', 'Fwd IAT Tot', 'Fwd IAT Std', 'Bwd PSH Flags', 'SYN Flag Cnt', 'Pkt Len Mean', 'Fwd Seg Size Avg', 'Bwd Pkts/s', 'Down/Up Ratio', 'Fwd Pkt Len Max'], 'Normal sample 364': ['Init Bwd Win Byts', 'SYN Flag Cnt', 'Flow IAT Max', 'Idle Mean', 'Bwd IAT Max', 'Idle Max', 'Down/Up Ratio', 'ACK Flag Cnt', 'Bwd IAT Tot', 'PSH Flag Cnt'], 'Normal sample 365': ['Init Bwd Win Byts', 'SYN Flag Cnt', 'Bwd Pkt Len Min', 'Pkt Size Avg', 'Flow Byts/s', 'Pkt Len Mean', 'FIN Flag Cnt', 'Bwd Pkt Len Mean', 'Down/Up Ratio', 'Active Mean'], 'Normal sample 366': ['SYN Flag Cnt', 'Fwd Pkt Len Max', 'Fwd Pkt Len Mean', 'Fwd Seg Size Avg', 'Fwd Pkt Len Std', 'Pkt Size Avg', 'Pkt Len Max', 'Pkt Len Mean', 'Bwd Pkts/s', 'FIN Flag Cnt'], 'Normal sample 367': ['SYN Flag Cnt', 'FIN Flag Cnt', 'ACK Flag Cnt', 'Pkt Size Avg', 'Pkt Len Max', 'Pkt Len Mean', 'Pkt Len Std', 'Flow Pkts/s', 'Pkt Len Min', 'Bwd Pkts/s'], 'Normal sample 368': ['SYN Flag Cnt', 'ACK Flag Cnt', 'FIN Flag Cnt', 'Pkt Size Avg', 'Flow Pkts/s', 'Bwd Pkts/s', 'Pkt Len Max', 'Pkt Len Mean', 'Pkt Len Min', 'Pkt Len Std'], 'Normal sample 369': ['SYN Flag Cnt', 'FIN Flag Cnt', 'ACK Flag Cnt', 'Pkt Size Avg', 'Pkt Len Mean', 'Bwd Pkts/s', 'Flow Pkts/s', 'Pkt Len Min', 'Pkt Len Std', 'Pkt Len Max'], 'Normal sample 370': ['SYN Flag Cnt', 'ACK Flag Cnt', 'FIN Flag Cnt', 'Bwd Pkts/s', 'Pkt Len Max', 'Pkt Size Avg', 'Flow Pkts/s', 'Bwd IAT Tot', 'Pkt Len Mean', 'PSH Flag Cnt'], 'Normal sample 371': ['SYN Flag Cnt', 'ACK Flag Cnt', 'FIN Flag Cnt', 'Pkt Size Avg', 'Pkt Len Mean', 'Flow Pkts/s', 'Bwd Pkts/s', 'Pkt Len Std', 'Pkt Len Max', 'Pkt Len Min'], 'Normal sample 372': ['SYN Flag Cnt', 'FIN Flag Cnt', 'ACK Flag Cnt', 'Pkt Size Avg', 'Pkt Len Mean', 'Pkt Len Max', 'Pkt Len Min', 'Bwd Pkts/s', 'Flow Pkts/s', 'Pkt Len Std'], 'Normal sample 373': ['SYN Flag Cnt', 'ACK Flag Cnt', 'FIN Flag Cnt', 'Pkt Size Avg', 'Bwd Pkts/s', 'Pkt Len Std', 'Pkt Len Max', 'Pkt Len Mean', 'Flow Pkts/s', 'Pkt Len Min'], 'Normal sample 374': ['Init Bwd Win Byts', 'Fwd Pkt Len Max', 'FIN Flag Cnt', 'Fwd Seg Size Avg', 'Bwd IAT Tot', 'Bwd IAT Max', 'Fwd IAT Max', 'Fwd Pkt Len Std', 'Fwd Pkt Len Mean', 'Pkt Len Max'], 'Normal sample 375': ['SYN Flag Cnt', 'ACK Flag Cnt', 'FIN Flag Cnt', 'Pkt Size Avg', 'Pkt Len Max', 'Flow Pkts/s', 'Pkt Len Mean', 'Bwd Pkts/s', 'Pkt Len Min', 'Pkt Len Std'], 'Normal sample 376': ['Init Bwd Win Byts', 'SYN Flag Cnt', 'FIN Flag Cnt', 'Down/Up Ratio', 'Flow IAT Max', 'Idle Mean', 'Flow Pkts/s', 'Bwd IAT Std', 'Idle Max', 'Bwd IAT Max'], 'Normal sample 377': ['Init Bwd Win Byts', 'Pkt Size Avg', 'Pkt Len Mean', 'Pkt Len Max', 'ACK Flag Cnt', 'Fwd Pkt Len Max', 'Fwd Pkt Len Std', 'Fwd Pkt Len Mean', 'Flow Duration', 'FIN Flag Cnt'], 'Normal sample 378': ['SYN Flag Cnt', 'ACK Flag Cnt', 'FIN Flag Cnt', 'Bwd Pkts/s', 'Flow Pkts/s', 'Pkt Size Avg', 'Pkt Len Mean', 'Pkt Len Max', 'Pkt Len Min', 'Pkt Len Std'], 'Normal sample 379': ['SYN Flag Cnt', 'FIN Flag Cnt', 'ACK Flag Cnt', 'Pkt Size Avg', 'Pkt Len Mean', 'Flow Pkts/s', 'Bwd Pkts/s', 'Pkt Len Min', 'Pkt Len Max', 'Pkt Len Std'], 'Normal sample 380': ['Init Bwd Win Byts', 'Fwd Pkt Len Max', 'ACK Flag Cnt', 'Fwd IAT Std', 'Fwd IAT Tot', 'FIN Flag Cnt', 'Fwd Seg Size Avg', 'Flow Pkts/s', 'Bwd IAT Tot', 'Bwd IAT Max'], 'Normal sample 381': ['Init Bwd Win Byts', 'ACK Flag Cnt', 'Fwd Pkt Len Max', 'Pkt Len Max', 'Pkt Size Avg', 'Flow Pkts/s', 'Pkt Len Std', 'Bwd IAT Max', 'Bwd IAT Tot', 'Pkt Len Mean'], 'Normal sample 382': ['Init Bwd Win Byts', 'SYN Flag Cnt', 'Down/Up Ratio', 'Flow IAT Max', 'Flow IAT Mean', 'URG Flag Cnt', 'Idle Min', 'Bwd URG Flags', 'Idle Max', 'ACK Flag Cnt'], 'Normal sample 383': ['SYN Flag Cnt', 'ACK Flag Cnt', 'FIN Flag Cnt', 'Pkt Size Avg', 'Bwd Pkts/s', 'Flow Pkts/s', 'Pkt Len Mean', 'Pkt Len Max', 'Pkt Len Min', 'Pkt Len Std'], 'Normal sample 384': ['SYN Flag Cnt', 'ACK Flag Cnt', 'FIN Flag Cnt', 'Bwd Pkts/s', 'Pkt Size Avg', 'Flow Pkts/s', 'Pkt Len Max', 'Pkt Len Min', 'Pkt Len Mean', 'Pkt Len Std'], 'Normal sample 385': ['SYN Flag Cnt', 'ACK Flag Cnt', 'FIN Flag Cnt', 'Pkt Size Avg', 'Flow Pkts/s', 'Bwd Pkts/s', 'Pkt Len Max', 'Pkt Len Mean', 'Pkt Len Min', 'Bwd Pkt Len Min'], 'Normal sample 386': ['SYN Flag Cnt', 'FIN Flag Cnt', 'ACK Flag Cnt', 'Pkt Size Avg', 'Pkt Len Max', 'Pkt Len Std', 'Pkt Len Mean', 'Flow Pkts/s', 'Bwd Pkts/s', 'Pkt Len Min'], 'Normal sample 387': ['Init Bwd Win Byts', 'Pkt Len Max', 'Pkt Size Avg', 'Pkt Len Std', 'Pkt Len Mean', 'Fwd IAT Tot', 'Flow IAT Max', 'Fwd IAT Max', 'Fwd Pkt Len Std', 'Bwd IAT Max'], 'Normal sample 388': ['SYN Flag Cnt', 'Flow Pkts/s', 'Down/Up Ratio', 'FIN Flag Cnt', 'Bwd Pkts/s', 'Fwd Pkt Len Mean', 'Fwd Seg Size Avg', 'Fwd Pkt Len Max', 'Fwd Pkt Len Std', 'Pkt Len Std'], 'Normal sample 389': ['Init Bwd Win Byts', 'Fwd Pkt Len Max', 'Fwd IAT Std', 'Fwd IAT Max', 'Fwd IAT Tot', 'FIN Flag Cnt', 'Flow Pkts/s', 'Fwd Pkt Len Std', 'Fwd Seg Size Avg', 'Pkt Len Max'], 'Normal sample 390': ['SYN Flag Cnt', 'ACK Flag Cnt', 'FIN Flag Cnt', 'Pkt Size Avg', 'Pkt Len Mean', 'Pkt Len Std', 'Flow Pkts/s', 'Pkt Len Max', 'Pkt Len Min', 'Bwd Pkts/s'], 'Normal sample 391': ['Init Bwd Win Byts', 'Fwd IAT Tot', 'SYN Flag Cnt', 'Fwd Pkt Len Std', 'Fwd Pkt Len Max', 'Bwd PSH Flags', 'Fwd Seg Size Avg', 'Down/Up Ratio', 'Fwd Pkt Len Mean', 'Fwd IAT Std'], 'Normal sample 392': ['SYN Flag Cnt', 'ACK Flag Cnt', 'FIN Flag Cnt', 'Pkt Size Avg', 'Pkt Len Mean', 'Bwd Pkts/s', 'Flow Pkts/s', 'Pkt Len Max', 'Pkt Len Std', 'Pkt Len Min'], 'Normal sample 393': ['SYN Flag Cnt', 'ACK Flag Cnt', 'FIN Flag Cnt', 'Pkt Size Avg', 'Bwd Pkts/s', 'Flow Pkts/s', 'Pkt Len Mean', 'Pkt Len Max', 'Pkt Len Std', 'Bwd Pkt Len Min'], 'Normal sample 394': ['Init Bwd Win Byts', 'SYN Flag Cnt', 'FIN Flag Cnt', 'Down/Up Ratio', 'Idle Min', 'Idle Max', 'Flow Pkts/s', 'Bwd IAT Std', 'PSH Flag Cnt', 'Flow IAT Max'], 'Normal sample 395': ['SYN Flag Cnt', 'Fwd Pkt Len Max', 'Fwd Pkt Len Mean', 'Fwd Seg Size Avg', 'Fwd Pkt Len Std', 'Pkt Size Avg', 'Pkt Len Mean', 'Pkt Len Max', 'Bwd Pkts/s', 'Down/Up Ratio'], 'Normal sample 396': ['Init Bwd Win Byts', 'SYN Flag Cnt', 'Down/Up Ratio', 'Flow IAT Max', 'Idle Max', 'PSH Flag Cnt', 'Idle Min', 'FIN Flag Cnt', 'Bwd IAT Max', 'Idle Mean'], 'Normal sample 397': ['Init Bwd Win Byts', 'SYN Flag Cnt', 'Flow Pkts/s', 'FIN Flag Cnt', 'Bwd Pkts/s', 'Down/Up Ratio', 'Fwd Pkt Len Std', 'Pkt Len Std', 'Fwd Seg Size Avg', 'URG Flag Cnt'], 'Normal sample 398': ['SYN Flag Cnt', 'FIN Flag Cnt', 'ACK Flag Cnt', 'Pkt Size Avg', 'Pkt Len Mean', 'Bwd Pkts/s', 'Pkt Len Max', 'Flow Pkts/s', 'Pkt Len Min', 'Pkt Len Std'], 'Normal sample 399': ['SYN Flag Cnt', 'ACK Flag Cnt', 'FIN Flag Cnt', 'Pkt Size Avg', 'Pkt Len Max', 'Flow Pkts/s', 'Bwd Pkts/s', 'Pkt Len Mean', 'Pkt Len Min', 'Pkt Len Std'], 'Normal sample 400': ['Init Bwd Win Byts', 'SYN Flag Cnt', 'FIN Flag Cnt', 'Down/Up Ratio', 'Flow IAT Max', 'Flow Pkts/s', 'Idle Max', 'Idle Mean', 'Idle Min', 'Bwd IAT Std'], 'Normal sample 401': ['SYN Flag Cnt', 'ACK Flag Cnt', 'FIN Flag Cnt', 'Bwd Pkts/s', 'Flow Pkts/s', 'Pkt Size Avg', 'Pkt Len Mean', 'Pkt Len Max', 'Pkt Len Min', 'Pkt Len Std'], 'Normal sample 402': ['Init Bwd Win Byts', 'SYN Flag Cnt', 'Down/Up Ratio', 'Flow IAT Max', 'URG Flag Cnt', 'Idle Mean', 'Bwd IAT Tot', 'Flow IAT Std', 'Idle Min', 'Bwd IAT Max'], 'Normal sample 403': ['Init Bwd Win Byts', 'SYN Flag Cnt', 'FIN Flag Cnt', 'Down/Up Ratio', 'PSH Flag Cnt', 'URG Flag Cnt', 'Flow IAT Max', 'Flow Pkts/s', 'Bwd IAT Std', 'Idle Max'], 'Normal sample 404': ['Init Bwd Win Byts', 'Pkt Len Max', 'Fwd Seg Size Avg', 'Fwd Pkt Len Max', 'Fwd Pkt Len Mean', 'Pkt Len Mean', 'Pkt Size Avg', 'Fwd Pkt Len Std', 'Bwd IAT Max', 'ACK Flag Cnt'], 'Normal sample 405': ['SYN Flag Cnt', 'ACK Flag Cnt', 'FIN Flag Cnt', 'Bwd Pkts/s', 'Pkt Size Avg', 'Pkt Len Max', 'Flow Pkts/s', 'Pkt Len Mean', 'Pkt Len Std', 'Pkt Len Min'], 'Normal sample 406': ['SYN Flag Cnt', 'ACK Flag Cnt', 'FIN Flag Cnt', 'Pkt Size Avg', 'Pkt Len Max', 'Pkt Len Mean', 'Flow Pkts/s', 'Bwd Pkts/s', 'Pkt Len Std', 'Pkt Len Min'], 'Normal sample 407': ['SYN Flag Cnt', 'ACK Flag Cnt', 'FIN Flag Cnt', 'Pkt Size Avg', 'Pkt Len Mean', 'Pkt Len Max', 'Pkt Len Std', 'Flow Pkts/s', 'Bwd Pkts/s', 'Pkt Len Min'], 'Normal sample 408': ['Init Bwd Win Byts', 'SYN Flag Cnt', 'Bwd Pkt Len Min', 'FIN Flag Cnt', 'Pkt Len Mean', 'Pkt Size Avg', 'Down/Up Ratio', 'URG Flag Cnt', 'Pkt Len Max', 'Active Min'], 'Normal sample 409': ['SYN Flag Cnt', 'ACK Flag Cnt', 'FIN Flag Cnt', 'Pkt Size Avg', 'Pkt Len Mean', 'Bwd Pkts/s', 'Pkt Len Std', 'Flow Pkts/s', 'Pkt Len Max', 'Pkt Len Min'], 'Normal sample 410': ['Init Bwd Win Byts', 'Pkt Len Max', 'Bwd Header Len', 'Pkt Size Avg', 'Subflow Bwd Pkts', 'Tot Bwd Pkts', 'Pkt Len Mean', 'Flow Pkts/s', 'Pkt Len Std', 'Flow Byts/s'], 'Normal sample 411': ['SYN Flag Cnt', 'ACK Flag Cnt', 'FIN Flag Cnt', 'Pkt Size Avg', 'Pkt Len Mean', 'Flow Pkts/s', 'Pkt Len Max', 'Bwd Pkts/s', 'Pkt Len Min', 'Pkt Len Std'], 'Normal sample 412': ['Init Bwd Win Byts', 'Fwd IAT Tot', 'Fwd IAT Std', 'ACK Flag Cnt', 'Bwd IAT Tot', 'Fwd IAT Max', 'Fwd Pkt Len Max', 'Down/Up Ratio', 'URG Flag Cnt', 'FIN Flag Cnt'], 'Normal sample 413': ['Init Bwd Win Byts', 'SYN Flag Cnt', 'Bwd Pkts/s', 'FIN Flag Cnt', 'Flow Pkts/s', 'Pkt Size Avg', 'Down/Up Ratio', 'Fwd Pkt Len Std', 'Pkt Len Mean', 'Subflow Fwd Pkts'], 'Normal sample 414': ['SYN Flag Cnt', 'ACK Flag Cnt', 'FIN Flag Cnt', 'Bwd Pkts/s', 'Pkt Size Avg', 'Flow Pkts/s', 'Pkt Len Mean', 'Pkt Len Max', 'Pkt Len Min', 'Pkt Len Std'], 'Normal sample 415': ['Init Bwd Win Byts', 'Fwd IAT Tot', 'Bwd PSH Flags', 'SYN Flag Cnt', 'Fwd IAT Std', 'Fwd Pkt Len Max', 'Fwd Pkt Len Std', 'Fwd Seg Size Avg', 'Bwd Pkts/s', 'Pkt Len Std'], 'Normal sample 416': ['SYN Flag Cnt', 'ACK Flag Cnt', 'FIN Flag Cnt', 'Pkt Size Avg', 'Flow Pkts/s', 'Bwd Pkts/s', 'Pkt Len Max', 'Pkt Len Mean', 'Pkt Len Min', 'Pkt Len Std'], 'Normal sample 417': ['SYN Flag Cnt', 'ACK Flag Cnt', 'FIN Flag Cnt', 'Pkt Size Avg', 'Flow Pkts/s', 'Bwd Pkts/s', 'Pkt Len Max', 'Pkt Len Mean', 'Pkt Len Min', 'Pkt Len Std'], 'Normal sample 418': ['Init Bwd Win Byts', 'SYN Flag Cnt', 'Down/Up Ratio', 'Flow IAT Max', 'Idle Min', 'Idle Max', 'Bwd IAT Tot', 'Idle Mean', 'PSH Flag Cnt', 'Bwd IAT Std'], 'Normal sample 419': ['SYN Flag Cnt', 'ACK Flag Cnt', 'FIN Flag Cnt', 'Bwd Pkts/s', 'Flow Pkts/s', 'Pkt Len Max', 'Pkt Size Avg', 'Pkt Len Mean', 'Pkt Len Min', 'Pkt Len Std'], 'Normal sample 420': ['Init Bwd Win Byts', 'Pkt Len Max', 'Pkt Len Mean', 'FIN Flag Cnt', 'Pkt Size Avg', 'Flow Pkts/s', 'ACK Flag Cnt', 'Down/Up Ratio', 'Pkt Len Std', 'Fwd Pkt Len Max'], 'Normal sample 421': ['SYN Flag Cnt', 'ACK Flag Cnt', 'FIN Flag Cnt', 'Pkt Size Avg', 'Flow Pkts/s', 'Pkt Len Max', 'Pkt Len Std', 'Bwd Pkts/s', 'Pkt Len Min', 'Pkt Len Mean'], 'Normal sample 422': ['SYN Flag Cnt', 'FIN Flag Cnt', 'Flow Byts/s', 'Fwd Seg Size Avg', 'Fwd Pkt Len Mean', 'Pkt Size Avg', 'Fwd Pkt Len Min', 'ACK Flag Cnt', 'Fwd Pkt Len Max', 'Pkt Len Mean'], 'Normal sample 423': ['SYN Flag Cnt', 'FIN Flag Cnt', 'Pkt Size Avg', 'ACK Flag Cnt', 'Pkt Len Mean', 'Pkt Len Min', 'Flow Pkts/s', 'Pkt Len Max', 'Pkt Len Std', 'Bwd Pkts/s'], 'Normal sample 424': ['SYN Flag Cnt', 'FIN Flag Cnt', 'Flow Pkts/s', 'Pkt Size Avg', 'Bwd Pkts/s', 'Pkt Len Mean', 'Pkt Len Max', 'Pkt Len Min', 'Pkt Len Std', 'Bwd Pkt Len Min'], 'Normal sample 425': ['SYN Flag Cnt', 'FIN Flag Cnt', 'ACK Flag Cnt', 'Pkt Size Avg', 'Pkt Len Mean', 'Pkt Len Max', 'Pkt Len Min', 'Flow Pkts/s', 'Pkt Len Std', 'Bwd Pkts/s'], 'Normal sample 426': ['Init Bwd Win Byts', 'SYN Flag Cnt', 'FIN Flag Cnt', 'Down/Up Ratio', 'Bwd IAT Std', 'Idle Mean', 'Flow IAT Max', 'URG Flag Cnt', 'Flow Duration', 'Flow Pkts/s'], 'Normal sample 427': ['Init Bwd Win Byts', 'Bwd PSH Flags', 'Fwd IAT Std', 'Fwd Pkt Len Max', 'Fwd IAT Tot', 'Fwd Pkt Len Mean', 'Fwd Seg Size Avg', 'SYN Flag Cnt', 'Down/Up Ratio', 'Subflow Bwd Byts'], 'Normal sample 428': ['Init Bwd Win Byts', 'SYN Flag Cnt', 'Bwd Pkts/s', 'Bwd Pkt Len Min', 'FIN Flag Cnt', 'Flow Pkts/s', 'Fwd Pkt Len Std', 'Pkt Len Mean', 'Pkt Size Avg', 'Down/Up Ratio'], 'Normal sample 429': ['Init Bwd Win Byts', 'SYN Flag Cnt', 'FIN Flag Cnt', 'Down/Up Ratio', 'Flow Pkts/s', 'Idle Min', 'PSH Flag Cnt', 'Flow IAT Max', 'Bwd IAT Std', 'Idle Max'], 'Normal sample 430': ['SYN Flag Cnt', 'ACK Flag Cnt', 'FIN Flag Cnt', 'Pkt Size Avg', 'Flow Pkts/s', 'Bwd Pkts/s', 'Pkt Len Max', 'Pkt Len Std', 'Pkt Len Mean', 'Pkt Len Min'], 'Normal sample 431': ['SYN Flag Cnt', 'FIN Flag Cnt', 'ACK Flag Cnt', 'Bwd Pkts/s', 'Pkt Size Avg', 'Pkt Len Max', 'Pkt Len Mean', 'Flow Pkts/s', 'Pkt Len Std', 'Pkt Len Min'], 'Normal sample 432': ['Init Bwd Win Byts', 'SYN Flag Cnt', 'Idle Max', 'URG Flag Cnt', 'Down/Up Ratio', 'Idle Min', 'Flow IAT Max', 'Bwd URG Flags', 'Fwd Pkt Len Max', 'PSH Flag Cnt'], 'Normal sample 433': ['SYN Flag Cnt', 'ACK Flag Cnt', 'FIN Flag Cnt', 'Bwd Pkts/s', 'Pkt Size Avg', 'Flow Pkts/s', 'Pkt Len Mean', 'Pkt Len Max', 'Pkt Len Min', 'Pkt Len Std'], 'Normal sample 434': ['SYN Flag Cnt', 'ACK Flag Cnt', 'FIN Flag Cnt', 'Bwd Pkts/s', 'Pkt Size Avg', 'Flow Pkts/s', 'Pkt Len Mean', 'Pkt Len Max', 'Pkt Len Min', 'Pkt Len Std'], 'Normal sample 435': ['Init Bwd Win Byts', 'Fwd IAT Std', 'SYN Flag Cnt', 'Bwd IAT Max', 'Bwd Pkts/s', 'Fwd IAT Tot', 'Bwd IAT Tot', 'FIN Flag Cnt', 'Fwd IAT Max', 'Flow Pkts/s'], 'Normal sample 436': ['Init Bwd Win Byts', 'SYN Flag Cnt', 'Down/Up Ratio', 'FIN Flag Cnt', 'Flow IAT Max', 'Idle Mean', 'PSH Flag Cnt', 'URG Flag Cnt', 'Flow Pkts/s', 'Bwd IAT Std'], 'Normal sample 437': ['SYN Flag Cnt', 'FIN Flag Cnt', 'ACK Flag Cnt', 'Pkt Size Avg', 'Pkt Len Mean', 'Pkt Len Max', 'Pkt Len Std', 'Pkt Len Min', 'Flow Pkts/s', 'Bwd Pkts/s'], 'Normal sample 438': ['Init Bwd Win Byts', 'Fwd IAT Tot', 'Pkt Len Max', 'Bwd IAT Tot', 'Pkt Len Std', 'Pkt Len Mean', 'ACK Flag Cnt', 'Pkt Size Avg', 'Bwd Pkts/s', 'Fwd IAT Std'], 'Normal sample 439': ['Init Bwd Win Byts', 'Pkt Len Max', 'Fwd Pkt Len Max', 'Fwd IAT Tot', 'Fwd IAT Max', 'Pkt Size Avg', 'Fwd Pkt Len Mean', 'ACK Flag Cnt', 'FIN Flag Cnt', 'Fwd Pkt Len Std'], 'Normal sample 440': ['Init Bwd Win Byts', 'Bwd PSH Flags', 'Fwd IAT Std', 'Fwd IAT Tot', 'SYN Flag Cnt', 'Down/Up Ratio', 'Bwd Pkts/s', 'Bwd IAT Tot', 'Bwd IAT Mean', 'PSH Flag Cnt'], 'Normal sample 441': ['SYN Flag Cnt', 'ACK Flag Cnt', 'FIN Flag Cnt', 'Pkt Size Avg', 'Pkt Len Mean', 'Flow Pkts/s', 'Bwd Pkts/s', 'Pkt Len Std', 'Pkt Len Max', 'Pkt Len Min'], 'Normal sample 442': ['SYN Flag Cnt', 'FIN Flag Cnt', 'ACK Flag Cnt', 'Pkt Size Avg', 'Pkt Len Max', 'Pkt Len Mean', 'Pkt Len Min', 'Pkt Len Std', 'Bwd Pkts/s', 'Flow Pkts/s'], 'Normal sample 443': ['Init Bwd Win Byts', 'Pkt Size Avg', 'Pkt Len Max', 'Pkt Len Mean', 'Fwd Pkt Len Max', 'Pkt Len Std', 'Flow Pkts/s', 'Fwd Pkt Len Mean', 'Fwd Pkt Len Std', 'Down/Up Ratio'], 'Normal sample 444': ['Init Bwd Win Byts', 'SYN Flag Cnt', 'Down/Up Ratio', 'Flow IAT Max', 'FIN Flag Cnt', 'PSH Flag Cnt', 'Idle Max', 'URG Flag Cnt', 'Idle Min', 'Idle Mean'], 'Normal sample 445': ['SYN Flag Cnt', 'FIN Flag Cnt', 'ACK Flag Cnt', 'Pkt Size Avg', 'Pkt Len Mean', 'Bwd Pkts/s', 'Flow Pkts/s', 'Pkt Len Max', 'Pkt Len Min', 'Pkt Len Std'], 'Normal sample 446': ['SYN Flag Cnt', 'ACK Flag Cnt', 'FIN Flag Cnt', 'Pkt Size Avg', 'Pkt Len Mean', 'Pkt Len Max', 'Flow Pkts/s', 'Bwd Pkts/s', 'Pkt Len Min', 'Pkt Len Std'], 'Normal sample 447': ['Init Bwd Win Byts', 'SYN Flag Cnt', 'Down/Up Ratio', 'FIN Flag Cnt', 'Flow IAT Max', 'PSH Flag Cnt', 'Idle Mean', 'Flow Pkts/s', 'Idle Min', 'Bwd IAT Max'], 'Normal sample 448': ['Init Bwd Win Byts', 'Pkt Len Max', 'Fwd IAT Tot', 'Pkt Len Std', 'Fwd IAT Std', 'Bwd IAT Tot', 'Pkt Size Avg', 'Pkt Len Mean', 'Fwd IAT Max', 'ACK Flag Cnt'], 'Normal sample 449': ['SYN Flag Cnt', 'FIN Flag Cnt', 'Pkt Size Avg', 'Pkt Len Mean', 'ACK Flag Cnt', 'Pkt Len Min', 'Fwd Seg Size Avg', 'Fwd Pkt Len Mean', 'Flow Pkts/s', 'Fwd Pkt Len Min'], 'Normal sample 450': ['Fwd IAT Tot', 'ACK Flag Cnt', 'SYN Flag Cnt', 'Fwd IAT Max', 'Fwd IAT Min', 'FIN Flag Cnt', 'Fwd IAT Mean', 'Bwd Pkts/s', 'Flow Pkts/s', 'PSH Flag Cnt'], 'Normal sample 451': ['SYN Flag Cnt', 'ACK Flag Cnt', 'FIN Flag Cnt', 'Pkt Size Avg', 'Pkt Len Max', 'Flow Pkts/s', 'Pkt Len Mean', 'Pkt Len Min', 'Pkt Len Std', 'Bwd Pkt Len Min'], 'Normal sample 452': ['Init Bwd Win Byts', 'Pkt Len Max', 'Pkt Len Std', 'Pkt Len Mean', 'ACK Flag Cnt', 'Pkt Size Avg', 'Flow Pkts/s', 'Fwd Pkt Len Max', 'Fwd IAT Max', 'Fwd IAT Tot'], 'Normal sample 453': ['Init Bwd Win Byts', 'SYN Flag Cnt', 'Down/Up Ratio', 'Flow IAT Max', 'Idle Mean', 'Idle Min', 'Idle Max', 'Bwd URG Flags', 'Flow IAT Mean', 'Flow Pkts/s'], 'Normal sample 454': ['Init Bwd Win Byts', 'SYN Flag Cnt', 'FIN Flag Cnt', 'Down/Up Ratio', 'Flow IAT Max', 'Bwd IAT Std', 'Idle Max', 'Bwd IAT Max', 'Flow Pkts/s', 'Idle Min'], 'Normal sample 455': ['Init Bwd Win Byts', 'SYN Flag Cnt', 'FIN Flag Cnt', 'Flow Pkts/s', 'Bwd Pkts/s', 'Fwd Pkt Len Std', 'Down/Up Ratio', 'Fwd Pkt Len Mean', 'Fwd Pkt Len Max', 'Pkt Size Avg'], 'Normal sample 456': ['Init Bwd Win Byts', 'SYN Flag Cnt', 'FIN Flag Cnt', 'Down/Up Ratio', 'Flow Pkts/s', 'Flow IAT Max', 'Idle Min', 'Idle Max', 'Bwd IAT Std', 'URG Flag Cnt'], 'Normal sample 457': ['SYN Flag Cnt', 'FIN Flag Cnt', 'ACK Flag Cnt', 'Pkt Size Avg', 'Pkt Len Mean', 'Pkt Len Max', 'Pkt Len Min', 'Flow Pkts/s', 'Pkt Len Std', 'Bwd Pkts/s'], 'Normal sample 458': ['SYN Flag Cnt', 'FIN Flag Cnt', 'ACK Flag Cnt', 'Pkt Size Avg', 'Pkt Len Mean', 'Pkt Len Max', 'Flow Pkts/s', 'Pkt Len Std', 'Pkt Len Min', 'Bwd Pkts/s'], 'Normal sample 459': ['Init Bwd Win Byts', 'SYN Flag Cnt', 'Bwd Pkts/s', 'Flow IAT Max', 'PSH Flag Cnt', 'Down/Up Ratio', 'Bwd IAT Max', 'Flow Duration', 'Idle Mean', 'Bwd Header Len'], 'Normal sample 460': ['Init Bwd Win Byts', 'Pkt Len Mean', 'Pkt Size Avg', 'ACK Flag Cnt', 'Bwd IAT Tot', 'Bwd IAT Max', 'Pkt Len Max', 'Fwd IAT Max', 'Fwd IAT Tot', 'Bwd Pkts/s'], 'Normal sample 461': ['Pkt Len Max', 'Init Bwd Win Byts', 'Pkt Len Std', 'Bwd Header Len', 'Fwd Pkt Len Max', 'Fwd IAT Tot', 'Pkt Len Mean', 'Pkt Size Avg', 'Fwd IAT Max', 'Subflow Bwd Pkts'], 'Normal sample 462': ['Init Bwd Win Byts', 'SYN Flag Cnt', 'Bwd IAT Max', 'Bwd IAT Tot', 'ACK Flag Cnt', 'PSH Flag Cnt', 'Flow IAT Std', 'Down/Up Ratio', 'Idle Max', 'URG Flag Cnt'], 'Normal sample 463': ['SYN Flag Cnt', 'ACK Flag Cnt', 'FIN Flag Cnt', 'Bwd Pkts/s', 'Pkt Size Avg', 'Flow Pkts/s', 'Pkt Len Mean', 'Pkt Len Max', 'Pkt Len Min', 'Pkt Len Std'], 'Normal sample 464': ['SYN Flag Cnt', 'FIN Flag Cnt', 'Fwd Seg Size Avg', 'Fwd Pkt Len Mean', 'Pkt Size Avg', 'Fwd Pkt Len Min', 'Flow Byts/s', 'Pkt Len Mean', 'ACK Flag Cnt', 'Pkt Len Min'], 'Normal sample 465': ['SYN Flag Cnt', 'FIN Flag Cnt', 'ACK Flag Cnt', 'Pkt Size Avg', 'Pkt Len Max', 'Flow Pkts/s', 'Pkt Len Min', 'Pkt Len Std', 'Pkt Len Mean', 'Bwd Pkts/s'], 'Normal sample 466': ['SYN Flag Cnt', 'FIN Flag Cnt', 'ACK Flag Cnt', 'Pkt Size Avg', 'Pkt Len Mean', 'Pkt Len Std', 'Pkt Len Max', 'Pkt Len Min', 'Flow Pkts/s', 'Bwd Pkts/s'], 'Normal sample 467': ['Init Bwd Win Byts', 'Fwd IAT Std', 'Fwd Pkt Len Std', 'Fwd Pkt Len Max', 'FIN Flag Cnt', 'Fwd IAT Tot', 'Fwd IAT Max', 'Pkt Len Max', 'Flow Pkts/s', 'ACK Flag Cnt'], 'Normal sample 468': ['Init Bwd Win Byts', 'Fwd IAT Tot', 'Fwd Pkt Len Max', 'Bwd PSH Flags', 'SYN Flag Cnt', 'Bwd IAT Max', 'Fwd Pkt Len Mean', 'Fwd Pkt Len Std', 'Bwd Header Len', 'Bwd Pkts/s'], 'Normal sample 469': ['SYN Flag Cnt', 'ACK Flag Cnt', 'FIN Flag Cnt', 'Pkt Size Avg', 'Bwd Pkts/s', 'Pkt Len Mean', 'Flow Pkts/s', 'Pkt Len Max', 'Pkt Len Min', 'Pkt Len Std'], 'Normal sample 470': ['Init Bwd Win Byts', 'PSH Flag Cnt', 'Down/Up Ratio', 'SYN Flag Cnt', 'Bwd PSH Flags', 'Flow Pkts/s', 'Bwd Pkts/s', 'Bwd Pkt Len Mean', 'Bwd Pkt Len Min', 'Active Min'], 'Normal sample 471': ['Init Bwd Win Byts', 'SYN Flag Cnt', 'Down/Up Ratio', 'FIN Flag Cnt', 'Bwd Pkt Len Min', 'Pkt Size Avg', 'Flow Pkts/s', 'Pkt Len Mean', 'Fwd IAT Min', 'Fwd Pkt Len Min'], 'Normal sample 472': ['SYN Flag Cnt', 'FIN Flag Cnt', 'Fwd Pkt Len Mean', 'Fwd Seg Size Avg', 'Pkt Size Avg', 'Flow Byts/s', 'Fwd Pkt Len Min', 'ACK Flag Cnt', 'Pkt Len Min', 'Pkt Len Mean'], 'Normal sample 473': ['SYN Flag Cnt', 'ACK Flag Cnt', 'FIN Flag Cnt', 'Pkt Size Avg', 'Flow Pkts/s', 'Pkt Len Max', 'Bwd Pkts/s', 'Pkt Len Mean', 'Pkt Len Min', 'Pkt Len Std'], 'Normal sample 474': ['Init Bwd Win Byts', 'Fwd IAT Std', 'Fwd IAT Tot', 'Pkt Len Max', 'ACK Flag Cnt', 'Down/Up Ratio', 'Fwd IAT Max', 'FIN Flag Cnt', 'Bwd IAT Tot', 'Flow IAT Min'], 'Normal sample 475': ['Init Bwd Win Byts', 'SYN Flag Cnt', 'FIN Flag Cnt', 'Down/Up Ratio', 'PSH Flag Cnt', 'Flow IAT Max', 'Bwd IAT Std', 'Idle Min', 'Flow Pkts/s', 'Idle Mean'], 'Normal sample 476': ['Init Bwd Win Byts', 'SYN Flag Cnt', 'Down/Up Ratio', 'FIN Flag Cnt', 'Flow Pkts/s', 'PSH Flag Cnt', 'Idle Min', 'Flow IAT Max', 'Idle Mean', 'Bwd IAT Std'], 'Normal sample 477': ['Pkt Len Max', 'Bwd Header Len', 'Init Bwd Win Byts', 'Tot Bwd Pkts', 'Pkt Len Mean', 'Fwd IAT Tot', 'Subflow Bwd Pkts', 'Bwd IAT Tot', 'Pkt Size Avg', 'Active Max'], 'Normal sample 478': ['SYN Flag Cnt', 'ACK Flag Cnt', 'FIN Flag Cnt', 'Pkt Size Avg', 'Pkt Len Mean', 'Bwd Pkts/s', 'Pkt Len Min', 'Pkt Len Std', 'Flow Pkts/s', 'Pkt Len Max'], 'Normal sample 479': ['SYN Flag Cnt', 'FIN Flag Cnt', 'ACK Flag Cnt', 'Pkt Size Avg', 'Pkt Len Mean', 'Pkt Len Min', 'Pkt Len Max', 'Flow Pkts/s', 'Bwd Pkts/s', 'Pkt Len Std'], 'Normal sample 480': ['Init Bwd Win Byts', 'SYN Flag Cnt', 'Flow Pkts/s', 'Bwd Pkts/s', 'FIN Flag Cnt', 'Down/Up Ratio', 'Fwd IAT Mean', 'Fwd IAT Max', 'Fwd IAT Std', 'Fwd Pkt Len Max'], 'Normal sample 481': ['SYN Flag Cnt', 'ACK Flag Cnt', 'FIN Flag Cnt', 'Pkt Size Avg', 'Flow Pkts/s', 'Bwd Pkts/s', 'Pkt Len Mean', 'Pkt Len Max', 'Pkt Len Std', 'Pkt Len Min'], 'Normal sample 482': ['Init Bwd Win Byts', 'Pkt Len Mean', 'Pkt Size Avg', 'Pkt Len Max', 'Fwd Pkt Len Max', 'Bwd IAT Max', 'Flow Pkts/s', 'Fwd IAT Max', 'Pkt Len Std', 'ACK Flag Cnt'], 'Normal sample 483': ['SYN Flag Cnt', 'FIN Flag Cnt', 'ACK Flag Cnt', 'Pkt Size Avg', 'Pkt Len Mean', 'Pkt Len Max', 'Flow Pkts/s', 'Pkt Len Std', 'Bwd Pkts/s', 'Pkt Len Min'], 'Normal sample 484': ['SYN Flag Cnt', 'FIN Flag Cnt', 'ACK Flag Cnt', 'Pkt Size Avg', 'Pkt Len Mean', 'Pkt Len Min', 'Pkt Len Max', 'Bwd Pkts/s', 'Pkt Len Std', 'Flow Pkts/s'], 'Normal sample 485': ['Init Bwd Win Byts', 'SYN Flag Cnt', 'Down/Up Ratio', 'FIN Flag Cnt', 'Flow Pkts/s', 'Bwd IAT Std', 'Flow IAT Max', 'PSH Flag Cnt', 'Flow Duration', 'Idle Max'], 'Normal sample 486': ['Init Bwd Win Byts', 'SYN Flag Cnt', 'Down/Up Ratio', 'FIN Flag Cnt', 'PSH Flag Cnt', 'Idle Mean', 'Bwd IAT Std', 'Idle Max', 'Flow IAT Max', 'Flow Pkts/s'], 'Normal sample 487': ['Fwd IAT Tot', 'ACK Flag Cnt', 'SYN Flag Cnt', 'Fwd IAT Min', 'Fwd IAT Max', 'Fwd IAT Mean', 'FIN Flag Cnt', 'Flow Pkts/s', 'Tot Bwd Pkts', 'URG Flag Cnt'], 'Normal sample 488': ['Init Bwd Win Byts', 'Fwd Pkt Len Max', 'Fwd IAT Std', 'Fwd IAT Max', 'FIN Flag Cnt', 'Fwd IAT Tot', 'Pkt Len Std', 'Fwd Pkt Len Std', 'Fwd IAT Mean', 'Fwd Pkt Len Mean'], 'Normal sample 489': ['Init Bwd Win Byts', 'Fwd Pkt Len Max', 'ACK Flag Cnt', 'Fwd IAT Tot', 'Down/Up Ratio', 'FIN Flag Cnt', 'Fwd Pkt Len Std', 'Fwd IAT Max', 'Fwd IAT Std', 'Bwd IAT Tot'], 'Normal sample 490': ['Init Bwd Win Byts', 'SYN Flag Cnt', 'Down/Up Ratio', 'FIN Flag Cnt', 'PSH Flag Cnt', 'Flow Pkts/s', 'Flow IAT Max', 'Idle Max', 'Idle Mean', 'Bwd IAT Std'], 'Normal sample 491': ['Init Bwd Win Byts', 'PSH Flag Cnt', 'SYN Flag Cnt', 'ACK Flag Cnt', 'Pkt Len Mean', 'URG Flag Cnt', 'Flow Pkts/s', 'Fwd IAT Max', 'Idle Mean', 'Pkt Size Avg'], 'Normal sample 492': ['Init Bwd Win Byts', 'Fwd Pkt Len Max', 'Fwd Pkt Len Std', 'FIN Flag Cnt', 'Pkt Len Max', 'Fwd Pkt Len Mean', 'Fwd Seg Size Avg', 'Pkt Len Mean', 'Down/Up Ratio', 'Pkt Len Std'], 'Normal sample 493': ['SYN Flag Cnt', 'ACK Flag Cnt', 'FIN Flag Cnt', 'Pkt Size Avg', 'Pkt Len Mean', 'Pkt Len Max', 'Flow Pkts/s', 'Pkt Len Min', 'Bwd Pkts/s', 'Pkt Len Std'], 'Normal sample 494': ['SYN Flag Cnt', 'ACK Flag Cnt', 'FIN Flag Cnt', 'Pkt Size Avg', 'Pkt Len Max', 'Bwd Pkts/s', 'Flow Pkts/s', 'Pkt Len Mean', 'Pkt Len Min', 'Pkt Len Std'], 'Normal sample 495': ['SYN Flag Cnt', 'ACK Flag Cnt', 'FIN Flag Cnt', 'Pkt Size Avg', 'Pkt Len Max', 'Flow Pkts/s', 'Bwd Pkts/s', 'Pkt Len Min', 'Pkt Len Mean', 'Pkt Len Std'], 'Normal sample 496': ['SYN Flag Cnt', 'ACK Flag Cnt', 'FIN Flag Cnt', 'Pkt Size Avg', 'Bwd Pkts/s', 'Pkt Len Mean', 'Flow Pkts/s', 'Pkt Len Max', 'Pkt Len Std', 'Bwd Pkt Len Min'], 'Normal sample 497': ['SYN Flag Cnt', 'FIN Flag Cnt', 'ACK Flag Cnt', 'Pkt Size Avg', 'Pkt Len Mean', 'Pkt Len Max', 'Pkt Len Min', 'Pkt Len Std', 'Flow Pkts/s', 'Bwd Pkts/s'], 'Normal sample 498': ['Init Bwd Win Byts', 'SYN Flag Cnt', 'FIN Flag Cnt', 'Down/Up Ratio', 'Idle Min', 'Flow IAT Max', 'Flow Pkts/s', 'PSH Flag Cnt', 'Bwd IAT Std', 'Flow Duration'], 'Normal sample 499': ['SYN Flag Cnt', 'Fwd Pkt Len Max', 'Fwd Pkt Len Mean', 'Fwd Pkt Len Std', 'Fwd Seg Size Avg', 'Pkt Len Mean', 'Pkt Size Avg', 'FIN Flag Cnt', 'Pkt Len Max', 'Bwd Pkts/s'], 'Normal sample 500': ['SYN Flag Cnt', 'ACK Flag Cnt', 'FIN Flag Cnt', 'Pkt Size Avg', 'Pkt Len Mean', 'Flow Pkts/s', 'Pkt Len Max', 'Bwd Pkts/s', 'Pkt Len Min', 'Pkt Len Std'], 'Normal sample 501': ['SYN Flag Cnt', 'ACK Flag Cnt', 'FIN Flag Cnt', 'Pkt Size Avg', 'Bwd Pkts/s', 'Pkt Len Max', 'Flow Pkts/s', 'Pkt Len Mean', 'Pkt Len Min', 'Pkt Len Std'], 'Normal sample 502': ['SYN Flag Cnt', 'ACK Flag Cnt', 'FIN Flag Cnt', 'Bwd Pkts/s', 'Flow Pkts/s', 'Pkt Size Avg', 'Pkt Len Mean', 'Pkt Len Max', 'Pkt Len Min', 'Bwd Pkt Len Min'], 'Normal sample 503': ['SYN Flag Cnt', 'ACK Flag Cnt', 'FIN Flag Cnt', 'Pkt Size Avg', 'Pkt Len Mean', 'Pkt Len Max', 'Pkt Len Std', 'Flow Pkts/s', 'Bwd Pkts/s', 'Pkt Len Min'], 'Normal sample 504': ['Init Bwd Win Byts', 'SYN Flag Cnt', 'Down/Up Ratio', 'FIN Flag Cnt', 'Idle Mean', 'Flow Pkts/s', 'Fwd IAT Tot', 'Flow IAT Max', 'Flow IAT Std', 'Idle Max'], 'Normal sample 505': ['Init Bwd Win Byts', 'Fwd IAT Tot', 'Pkt Len Max', 'Bwd IAT Tot', 'ACK Flag Cnt', 'Down/Up Ratio', 'Fwd Pkt Len Max', 'Fwd IAT Std', 'Pkt Size Avg', 'Pkt Len Std'], 'Normal sample 506': ['Init Bwd Win Byts', 'SYN Flag Cnt', 'FIN Flag Cnt', 'Flow Pkts/s', 'Flow IAT Std', 'Fwd IAT Std', 'Flow IAT Max', 'Down/Up Ratio', 'Bwd Pkts/s', 'Fwd IAT Tot'], 'Normal sample 507': ['SYN Flag Cnt', 'FIN Flag Cnt', 'ACK Flag Cnt', 'Pkt Size Avg', 'Bwd Pkts/s', 'Pkt Len Mean', 'Flow Pkts/s', 'Pkt Len Max', 'Pkt Len Min', 'Pkt Len Std'], 'Normal sample 508': ['SYN Flag Cnt', 'ACK Flag Cnt', 'FIN Flag Cnt', 'Pkt Size Avg', 'Pkt Len Mean', 'Bwd Pkts/s', 'Flow Pkts/s', 'Pkt Len Max', 'Pkt Len Min', 'Pkt Len Std'], 'Normal sample 509': ['SYN Flag Cnt', 'ACK Flag Cnt', 'FIN Flag Cnt', 'Pkt Size Avg', 'Pkt Len Mean', 'Flow Pkts/s', 'Bwd Pkts/s', 'Pkt Len Min', 'Pkt Len Std', 'Pkt Len Max'], 'Normal sample 510': ['SYN Flag Cnt', 'ACK Flag Cnt', 'FIN Flag Cnt', 'Flow Pkts/s', 'Bwd Pkts/s', 'Pkt Size Avg', 'Pkt Len Mean', 'Pkt Len Max', 'Pkt Len Min', 'Pkt Len Std'], 'Normal sample 511': ['SYN Flag Cnt', 'FIN Flag Cnt', 'ACK Flag Cnt', 'Pkt Size Avg', 'Bwd Pkts/s', 'Flow Pkts/s', 'Pkt Len Max', 'Pkt Len Mean', 'Pkt Len Min', 'Pkt Len Std'], 'Normal sample 512': ['Init Bwd Win Byts', 'SYN Flag Cnt', 'FIN Flag Cnt', 'Bwd Pkts/s', 'Flow Pkts/s', 'Bwd Pkt Len Min', 'Flow Duration', 'URG Flag Cnt', 'Down/Up Ratio', 'Fwd Header Len'], 'Normal sample 513': ['Init Bwd Win Byts', 'Fwd IAT Tot', 'Fwd IAT Std', 'Down/Up Ratio', 'Bwd PSH Flags', 'Bwd Pkts/s', 'SYN Flag Cnt', 'Pkt Len Max', 'Bwd Pkt Len Max', 'Bwd URG Flags'], 'Normal sample 514': ['SYN Flag Cnt', 'FIN Flag Cnt', 'ACK Flag Cnt', 'Pkt Size Avg', 'Pkt Len Max', 'Flow Pkts/s', 'Pkt Len Mean', 'Bwd Pkts/s', 'Pkt Len Std', 'Pkt Len Min'], 'Normal sample 515': ['SYN Flag Cnt', 'FIN Flag Cnt', 'ACK Flag Cnt', 'Pkt Size Avg', 'Pkt Len Mean', 'Bwd Pkts/s', 'Flow Pkts/s', 'Pkt Len Min', 'Pkt Len Std', 'Pkt Len Max'], 'Normal sample 516': ['Init Bwd Win Byts', 'FIN Flag Cnt', 'Fwd Pkt Len Max', 'Fwd Seg Size Avg', 'Fwd Pkt Len Std', 'Pkt Len Std', 'Pkt Len Max', 'Fwd Pkt Len Mean', 'Pkt Size Avg', 'Bwd IAT Std'], 'Normal sample 517': ['SYN Flag Cnt', 'FIN Flag Cnt', 'Pkt Size Avg', 'ACK Flag Cnt', 'Pkt Len Mean', 'Fwd Seg Size Avg', 'Flow Byts/s', 'Pkt Len Min', 'Fwd Pkt Len Mean', 'Bwd Pkts/s'], 'Normal sample 518': ['Init Bwd Win Byts', 'Fwd Pkt Len Std', 'Fwd IAT Tot', 'Fwd Pkt Len Max', 'Fwd Pkt Len Mean', 'Pkt Len Mean', 'Pkt Len Max', 'Bwd IAT Tot', 'Fwd IAT Max', 'Bwd URG Flags'], 'Normal sample 519': ['SYN Flag Cnt', 'Fwd Pkt Len Max', 'Fwd Pkt Len Mean', 'Fwd Pkt Len Std', 'Fwd Seg Size Avg', 'Pkt Len Max', 'Flow Byts/s', 'Pkt Len Mean', 'Pkt Size Avg', 'Down/Up Ratio'], 'Normal sample 520': ['Init Bwd Win Byts', 'Fwd IAT Tot', 'Fwd IAT Std', 'Down/Up Ratio', 'Pkt Len Max', 'Bwd IAT Max', 'ACK Flag Cnt', 'Fwd IAT Max', 'Bwd Pkts/s', 'FIN Flag Cnt'], 'Normal sample 521': ['SYN Flag Cnt', 'Fwd Pkt Len Max', 'Fwd Pkt Len Mean', 'Fwd Seg Size Avg', 'Fwd Pkt Len Std', 'FIN Flag Cnt', 'Pkt Len Max', 'Bwd Pkts/s', 'Pkt Size Avg', 'Pkt Len Mean'], 'Normal sample 522': ['SYN Flag Cnt', 'FIN Flag Cnt', 'ACK Flag Cnt', 'Pkt Size Avg', 'Pkt Len Mean', 'Pkt Len Min', 'Pkt Len Max', 'Flow Pkts/s', 'Pkt Len Std', 'Bwd Pkts/s'], 'Normal sample 523': ['SYN Flag Cnt', 'Fwd Pkt Len Mean', 'Fwd Pkt Len Max', 'Fwd Seg Size Avg', 'Fwd Pkt Len Std', 'Pkt Len Max', 'Pkt Len Mean', 'FIN Flag Cnt', 'Pkt Size Avg', 'Down/Up Ratio'], 'Normal sample 524': ['SYN Flag Cnt', 'FIN Flag Cnt', 'ACK Flag Cnt', 'Pkt Size Avg', 'Pkt Len Mean', 'Pkt Len Max', 'Flow Pkts/s', 'Pkt Len Std', 'Pkt Len Min', 'Bwd Pkts/s'], 'Normal sample 525': ['SYN Flag Cnt', 'ACK Flag Cnt', 'FIN Flag Cnt', 'Bwd Pkts/s', 'Flow Pkts/s', 'Pkt Size Avg', 'Pkt Len Mean', 'Pkt Len Min', 'Pkt Len Max', 'Bwd Pkt Len Min'], 'Normal sample 526': ['Pkt Len Max', 'Init Bwd Win Byts', 'Pkt Len Std', 'Pkt Len Mean', 'Fwd IAT Tot', 'Pkt Size Avg', 'Fwd Pkt Len Max', 'Bwd IAT Tot', 'Fwd IAT Max', 'Down/Up Ratio'], 'Normal sample 527': ['Init Bwd Win Byts', 'FIN Flag Cnt', 'Fwd IAT Std', 'Fwd Pkt Len Max', 'Fwd IAT Tot', 'ACK Flag Cnt', 'Fwd Pkt Len Mean', 'Fwd IAT Max', 'Fwd Pkt Len Std', 'Bwd IAT Max'], 'Normal sample 528': ['Init Bwd Win Byts', 'Down/Up Ratio', 'SYN Flag Cnt', 'ACK Flag Cnt', 'Bwd IAT Std', 'Idle Min', 'Flow Pkts/s', 'Flow IAT Max', 'Tot Bwd Pkts', 'Flow Duration'], 'Normal sample 529': ['SYN Flag Cnt', 'ACK Flag Cnt', 'FIN Flag Cnt', 'Bwd Pkts/s', 'Pkt Size Avg', 'Flow Pkts/s', 'Pkt Len Mean', 'Pkt Len Min', 'Pkt Len Max', 'Bwd Pkt Len Min'], 'Normal sample 530': ['SYN Flag Cnt', 'FIN Flag Cnt', 'ACK Flag Cnt', 'Pkt Size Avg', 'Pkt Len Max', 'Pkt Len Mean', 'Pkt Len Std', 'Pkt Len Min', 'Bwd Pkts/s', 'Bwd Pkt Len Min'], 'Normal sample 531': ['SYN Flag Cnt', 'FIN Flag Cnt', 'Pkt Size Avg', 'Flow Byts/s', 'ACK Flag Cnt', 'Pkt Len Min', 'Pkt Len Mean', 'Fwd Seg Size Avg', 'Fwd Pkt Len Mean', 'Flow Pkts/s'], 'Normal sample 532': ['Init Bwd Win Byts', 'Pkt Len Max', 'Pkt Size Avg', 'Fwd IAT Tot', 'Pkt Len Std', 'Pkt Len Mean', 'Fwd IAT Max', 'ACK Flag Cnt', 'Bwd IAT Tot', 'FIN Flag Cnt'], 'Normal sample 533': ['SYN Flag Cnt', 'ACK Flag Cnt', 'FIN Flag Cnt', 'Pkt Size Avg', 'Bwd Pkts/s', 'Pkt Len Mean', 'Flow Pkts/s', 'Pkt Len Max', 'Pkt Len Min', 'Pkt Len Std'], 'Normal sample 534': ['SYN Flag Cnt', 'FIN Flag Cnt', 'ACK Flag Cnt', 'Pkt Size Avg', 'Pkt Len Max', 'Bwd Pkts/s', 'Flow Pkts/s', 'Pkt Len Mean', 'Pkt Len Std', 'Pkt Len Min'], 'Normal sample 535': ['SYN Flag Cnt', 'ACK Flag Cnt', 'FIN Flag Cnt', 'Pkt Size Avg', 'Pkt Len Max', 'Bwd Pkts/s', 'Flow Pkts/s', 'Pkt Len Mean', 'Pkt Len Min', 'Pkt Len Std'], 'Normal sample 536': ['SYN Flag Cnt', 'FIN Flag Cnt', 'Pkt Size Avg', 'ACK Flag Cnt', 'Pkt Len Mean', 'Pkt Len Min', 'Fwd Pkt Len Mean', 'Fwd Seg Size Avg', 'Flow Byts/s', 'Flow Pkts/s'], 'Normal sample 537': ['Init Bwd Win Byts', 'ACK Flag Cnt', 'Fwd Pkt Len Max', 'Pkt Len Max', 'Fwd Pkt Len Mean', 'FIN Flag Cnt', 'Fwd Pkt Len Std', 'Bwd Pkts/s', 'Fwd IAT Std', 'Fwd Seg Size Avg'], 'Normal sample 538': ['SYN Flag Cnt', 'ACK Flag Cnt', 'FIN Flag Cnt', 'Bwd Pkts/s', 'Flow Pkts/s', 'Pkt Size Avg', 'Pkt Len Mean', 'Pkt Len Max', 'Pkt Len Min', 'Pkt Len Std'], 'Normal sample 539': ['SYN Flag Cnt', 'FIN Flag Cnt', 'ACK Flag Cnt', 'Pkt Size Avg', 'Pkt Len Mean', 'Pkt Len Max', 'Bwd Pkts/s', 'Flow Pkts/s', 'Pkt Len Std', 'Pkt Len Min'], 'Normal sample 540': ['Init Bwd Win Byts', 'SYN Flag Cnt', 'FIN Flag Cnt', 'Down/Up Ratio', 'Bwd IAT Std', 'Flow IAT Max', 'Idle Mean', 'Flow Pkts/s', 'Idle Max', 'Idle Min'], 'Normal sample 541': ['SYN Flag Cnt', 'FIN Flag Cnt', 'ACK Flag Cnt', 'Pkt Size Avg', 'Pkt Len Mean', 'Pkt Len Min', 'Bwd Pkts/s', 'Flow Pkts/s', 'Pkt Len Max', 'Pkt Len Std'], 'Normal sample 542': ['Init Bwd Win Byts', 'Fwd IAT Tot', 'Bwd IAT Max', 'Fwd IAT Std', 'FIN Flag Cnt', 'Down/Up Ratio', 'Fwd IAT Max', 'Fwd Pkt Len Max', 'Bwd IAT Mean', 'Tot Fwd Pkts'], 'Normal sample 543': ['Init Bwd Win Byts', 'Pkt Len Max', 'Fwd Pkt Len Max', 'Pkt Size Avg', 'FIN Flag Cnt', 'Pkt Len Mean', 'Fwd Pkt Len Mean', 'ACK Flag Cnt', 'Fwd Seg Size Avg', 'Pkt Len Std'], 'Normal sample 544': ['SYN Flag Cnt', 'FIN Flag Cnt', 'Pkt Size Avg', 'Flow Pkts/s', 'Pkt Len Mean', 'Pkt Len Min', 'Pkt Len Max', 'Pkt Len Std', 'Bwd Pkts/s', 'Bwd Pkt Len Min'], 'Normal sample 545': ['Init Bwd Win Byts', 'SYN Flag Cnt', 'Bwd Pkts/s', 'FIN Flag Cnt', 'Bwd Pkt Len Min', 'Flow Pkts/s', 'Pkt Size Avg', 'Pkt Len Std', 'Down/Up Ratio', 'Flow IAT Mean'], 'Normal sample 546': ['SYN Flag Cnt', 'ACK Flag Cnt', 'FIN Flag Cnt', 'Bwd Pkts/s', 'Flow Pkts/s', 'Pkt Size Avg', 'Pkt Len Mean', 'Pkt Len Max', 'Pkt Len Min', 'Pkt Len Std'], 'Normal sample 547': ['Init Bwd Win Byts', 'Fwd IAT Tot', 'Fwd IAT Std', 'Fwd IAT Max', 'Bwd IAT Tot', 'ACK Flag Cnt', 'Pkt Len Max', 'Pkt Len Std', 'Pkt Size Avg', 'Down/Up Ratio'], 'Normal sample 548': ['Init Bwd Win Byts', 'Fwd IAT Tot', 'SYN Flag Cnt', 'Fwd IAT Std', 'Bwd PSH Flags', 'Fwd Pkt Len Max', 'Fwd Pkt Len Mean', 'Bwd Pkts/s', 'Fwd Act Data Pkts', 'Down/Up Ratio'], 'Normal sample 549': ['SYN Flag Cnt', 'ACK Flag Cnt', 'FIN Flag Cnt', 'Pkt Size Avg', 'Pkt Len Mean', 'Bwd Pkts/s', 'Pkt Len Max', 'Flow Pkts/s', 'Pkt Len Min', 'Pkt Len Std'], 'Normal sample 550': ['SYN Flag Cnt', 'FIN Flag Cnt', 'ACK Flag Cnt', 'Pkt Size Avg', 'Pkt Len Mean', 'Pkt Len Max', 'Bwd Pkts/s', 'Flow Pkts/s', 'Pkt Len Min', 'Pkt Len Std'], 'Normal sample 551': ['SYN Flag Cnt', 'FIN Flag Cnt', 'ACK Flag Cnt', 'Pkt Size Avg', 'Pkt Len Mean', 'Pkt Len Max', 'Bwd Pkts/s', 'Pkt Len Min', 'Pkt Len Std', 'Flow Pkts/s'], 'Normal sample 552': ['Init Bwd Win Byts', 'SYN Flag Cnt', 'FIN Flag Cnt', 'Down/Up Ratio', 'Flow IAT Max', 'Idle Max', 'URG Flag Cnt', 'Idle Min', 'Idle Mean', 'Bwd IAT Std'], 'Normal sample 553': ['Flow Byts/s', 'Pkt Size Avg', 'Fwd Pkt Len Max', 'Pkt Len Mean', 'Pkt Len Max', 'Fwd Pkt Len Std', 'Down/Up Ratio', 'SYN Flag Cnt', 'Pkt Len Std', 'Fwd Pkt Len Mean'], 'Normal sample 554': ['SYN Flag Cnt', 'FIN Flag Cnt', 'Pkt Size Avg', 'ACK Flag Cnt', 'Pkt Len Mean', 'Pkt Len Min', 'Flow Byts/s', 'Fwd Pkt Len Mean', 'Flow Pkts/s', 'Fwd Seg Size Avg'], 'Normal sample 555': ['Init Bwd Win Byts', 'SYN Flag Cnt', 'Fwd IAT Std', 'Bwd Pkts/s', 'Bwd IAT Max', 'Fwd IAT Tot', 'FIN Flag Cnt', 'Fwd IAT Max', 'Idle Max', 'Bwd IAT Tot'], 'Normal sample 556': ['Init Bwd Win Byts', 'Fwd IAT Tot', 'Fwd IAT Std', 'Fwd IAT Max', 'ACK Flag Cnt', 'Bwd IAT Tot', 'Down/Up Ratio', 'Fwd Pkt Len Max', 'Pkt Len Max', 'Pkt Size Avg'], 'Normal sample 557': ['SYN Flag Cnt', 'FIN Flag Cnt', 'Pkt Size Avg', 'ACK Flag Cnt', 'Flow Byts/s', 'Pkt Len Min', 'Pkt Len Mean', 'Flow Pkts/s', 'Fwd Pkt Len Mean', 'Fwd Seg Size Avg'], 'Normal sample 558': ['Init Bwd Win Byts', 'Fwd Pkt Len Max', 'Fwd Pkt Len Mean', 'Fwd Pkt Len Std', 'FIN Flag Cnt', 'Fwd Seg Size Avg', 'ACK Flag Cnt', 'Flow Pkts/s', 'Pkt Len Std', 'Pkt Len Max'], 'Normal sample 559': ['SYN Flag Cnt', 'FIN Flag Cnt', 'ACK Flag Cnt', 'Pkt Size Avg', 'Flow Pkts/s', 'Pkt Len Mean', 'Pkt Len Max', 'Bwd Pkts/s', 'Pkt Len Std', 'Pkt Len Min'], 'Normal sample 560': ['SYN Flag Cnt', 'ACK Flag Cnt', 'FIN Flag Cnt', 'Bwd Pkts/s', 'Pkt Size Avg', 'Pkt Len Mean', 'Flow Pkts/s', 'Pkt Len Max', 'Pkt Len Min', 'Pkt Len Std'], 'Normal sample 561': ['SYN Flag Cnt', 'ACK Flag Cnt', 'FIN Flag Cnt', 'Pkt Size Avg', 'Pkt Len Mean', 'Pkt Len Max', 'Pkt Len Std', 'Flow Pkts/s', 'Bwd Pkts/s', 'Pkt Len Min'], 'Normal sample 562': ['Init Bwd Win Byts', 'SYN Flag Cnt', 'Down/Up Ratio', 'Flow IAT Max', 'FIN Flag Cnt', 'Flow Pkts/s', 'Flow Duration', 'Flow IAT Mean', 'PSH Flag Cnt', 'Idle Mean'], 'Normal sample 563': ['SYN Flag Cnt', 'Fwd Pkt Len Max', 'Fwd Pkt Len Mean', 'Fwd Seg Size Avg', 'Fwd Pkt Len Std', 'Pkt Len Max', 'Pkt Size Avg', 'FIN Flag Cnt', 'Pkt Len Mean', 'Bwd Pkts/s'], 'Normal sample 564': ['SYN Flag Cnt', 'FIN Flag Cnt', 'Pkt Size Avg', 'Flow Pkts/s', 'Pkt Len Mean', 'Pkt Len Max', 'Pkt Len Std', 'Bwd Pkt Len Min', 'Pkt Len Min', 'Bwd Pkts/s'], 'Normal sample 565': ['Init Bwd Win Byts', 'SYN Flag Cnt', 'Down/Up Ratio', 'FIN Flag Cnt', 'Idle Min', 'Flow IAT Max', 'Flow Pkts/s', 'Idle Mean', 'Idle Max', 'Bwd IAT Std'], 'Normal sample 566': ['Init Bwd Win Byts', 'Fwd IAT Tot', 'Fwd Pkt Len Max', 'FIN Flag Cnt', 'Fwd IAT Std', 'ACK Flag Cnt', 'Fwd Seg Size Avg', 'Fwd IAT Max', 'Fwd IAT Mean', 'Flow Pkts/s'], 'Normal sample 567': ['Init Bwd Win Byts', 'Fwd Pkt Len Max', 'Pkt Len Mean', 'Fwd Pkt Len Std', 'Pkt Size Avg', 'Fwd Seg Size Avg', 'ACK Flag Cnt', 'Fwd Pkt Len Mean', 'Fwd IAT Tot', 'Pkt Len Max'], 'Normal sample 568': ['SYN Flag Cnt', 'ACK Flag Cnt', 'FIN Flag Cnt', 'Bwd Pkts/s', 'Flow Pkts/s', 'Pkt Size Avg', 'Pkt Len Mean', 'Pkt Len Min', 'Pkt Len Max', 'Pkt Len Std'], 'Normal sample 569': ['SYN Flag Cnt', 'ACK Flag Cnt', 'FIN Flag Cnt', 'Pkt Size Avg', 'Bwd Pkts/s', 'Flow Pkts/s', 'Pkt Len Mean', 'Pkt Len Min', 'Pkt Len Std', 'Pkt Len Max'], 'Normal sample 570': ['Init Bwd Win Byts', 'SYN Flag Cnt', 'Down/Up Ratio', 'FIN Flag Cnt', 'Flow IAT Max', 'Idle Mean', 'Flow Pkts/s', 'URG Flag Cnt', 'Bwd IAT Std', 'Idle Max'], 'Normal sample 571': ['Init Bwd Win Byts', 'Fwd IAT Std', 'Fwd IAT Tot', 'Fwd Pkt Len Max', 'Bwd IAT Tot', 'Bwd Pkts/s', 'Down/Up Ratio', 'Pkt Len Max', 'Fwd Pkt Len Std', 'Fwd IAT Max'], 'Normal sample 572': ['SYN Flag Cnt', 'FIN Flag Cnt', 'ACK Flag Cnt', 'Pkt Size Avg', 'Pkt Len Min', 'Pkt Len Mean', 'Flow Pkts/s', 'Pkt Len Std', 'Bwd Pkts/s', 'Pkt Len Max'], 'Normal sample 573': ['Init Bwd Win Byts', 'Pkt Size Avg', 'Pkt Len Max', 'FIN Flag Cnt', 'ACK Flag Cnt', 'Pkt Len Mean', 'Fwd IAT Tot', 'Fwd IAT Max', 'Fwd Seg Size Avg', 'Fwd Pkt Len Mean'], 'Normal sample 574': ['SYN Flag Cnt', 'ACK Flag Cnt', 'FIN Flag Cnt', 'Bwd Pkts/s', 'Pkt Size Avg', 'Flow Pkts/s', 'Pkt Len Mean', 'Pkt Len Max', 'Pkt Len Min', 'Pkt Len Std'], 'Normal sample 575': ['Init Bwd Win Byts', 'SYN Flag Cnt', 'Down/Up Ratio', 'FIN Flag Cnt', 'Bwd Pkts/s', 'Idle Max', 'Flow IAT Max', 'Idle Mean', 'Flow Pkts/s', 'URG Flag Cnt'], 'Normal sample 576': ['Init Bwd Win Byts', 'Fwd IAT Tot', 'SYN Flag Cnt', 'Fwd IAT Std', 'Down/Up Ratio', 'Pkt Len Max', 'Bwd IAT Mean', 'Pkt Size Avg', 'Idle Std', 'FIN Flag Cnt'], 'Normal sample 577': ['PSH Flag Cnt', 'Down/Up Ratio', 'SYN Flag Cnt', 'Bwd PSH Flags', 'URG Flag Cnt', 'Tot Fwd Pkts', 'Fwd Pkt Len Mean', 'Pkt Len Max', 'Idle Mean', 'Bwd IAT Tot'], 'Normal sample 578': ['Init Bwd Win Byts', 'Fwd Pkt Len Max', 'ACK Flag Cnt', 'Down/Up Ratio', 'Fwd IAT Tot', 'Fwd IAT Max', 'Pkt Size Avg', 'Fwd Pkt Len Std', 'Fwd Seg Size Avg', 'Pkt Len Max'], 'Normal sample 579': ['SYN Flag Cnt', 'ACK Flag Cnt', 'FIN Flag Cnt', 'Pkt Size Avg', 'Pkt Len Max', 'Bwd Pkts/s', 'Flow Pkts/s', 'Pkt Len Mean', 'Pkt Len Std', 'Pkt Len Min'], 'Normal sample 580': ['SYN Flag Cnt', 'ACK Flag Cnt', 'FIN Flag Cnt', 'Bwd Pkts/s', 'Flow Pkts/s', 'Pkt Size Avg', 'Pkt Len Mean', 'Pkt Len Max', 'Pkt Len Min', 'Pkt Len Std'], 'Normal sample 581': ['SYN Flag Cnt', 'FIN Flag Cnt', 'ACK Flag Cnt', 'Pkt Size Avg', 'Pkt Len Mean', 'Flow Pkts/s', 'Pkt Len Max', 'Bwd Pkts/s', 'Pkt Len Std', 'Pkt Len Min'], 'Normal sample 582': ['SYN Flag Cnt', 'FIN Flag Cnt', 'Pkt Size Avg', 'ACK Flag Cnt', 'Fwd Pkt Len Mean', 'Pkt Len Mean', 'Pkt Len Min', 'Fwd Seg Size Avg', 'Flow Pkts/s', 'Fwd Pkt Len Min'], 'Normal sample 583': ['SYN Flag Cnt', 'ACK Flag Cnt', 'FIN Flag Cnt', 'Pkt Size Avg', 'Pkt Len Mean', 'Pkt Len Max', 'Pkt Len Std', 'Bwd Pkts/s', 'Flow Pkts/s', 'Pkt Len Min'], 'Normal sample 584': ['SYN Flag Cnt', 'ACK Flag Cnt', 'FIN Flag Cnt', 'Pkt Size Avg', 'Flow Pkts/s', 'Bwd Pkts/s', 'Pkt Len Max', 'Pkt Len Mean', 'Pkt Len Min', 'Pkt Len Std'], 'Normal sample 585': ['SYN Flag Cnt', 'ACK Flag Cnt', 'FIN Flag Cnt', 'Bwd Pkts/s', 'Flow Pkts/s', 'Pkt Size Avg', 'Pkt Len Max', 'Pkt Len Mean', 'Pkt Len Min', 'Bwd Pkt Len Min'], 'Normal sample 586': ['SYN Flag Cnt', 'ACK Flag Cnt', 'FIN Flag Cnt', 'Bwd Pkts/s', 'Flow Pkts/s', 'Pkt Size Avg', 'Pkt Len Max', 'Pkt Len Mean', 'Pkt Len Min', 'Pkt Len Std'], 'Normal sample 587': ['Init Bwd Win Byts', 'Pkt Len Max', 'Pkt Len Std', 'Fwd IAT Tot', 'Pkt Len Mean', 'Fwd IAT Max', 'Fwd Pkt Len Max', 'Bwd IAT Tot', 'Down/Up Ratio', 'Pkt Size Avg'], 'Normal sample 588': ['Init Bwd Win Byts', 'SYN Flag Cnt', 'FIN Flag Cnt', 'Down/Up Ratio', 'PSH Flag Cnt', 'Flow IAT Max', 'Idle Min', 'Idle Max', 'Idle Mean', 'URG Flag Cnt'], 'Normal sample 589': ['SYN Flag Cnt', 'Fwd Pkt Len Max', 'Fwd Pkt Len Mean', 'Fwd Seg Size Avg', 'Fwd Pkt Len Std', 'Pkt Size Avg', 'Pkt Len Max', 'Pkt Len Mean', 'Bwd Pkts/s', 'FIN Flag Cnt'], 'Normal sample 590': ['Init Bwd Win Byts', 'SYN Flag Cnt', 'FIN Flag Cnt', 'Down/Up Ratio', 'Flow IAT Max', 'Bwd IAT Std', 'Flow Pkts/s', 'Idle Max', 'PSH Flag Cnt', 'Idle Min'], 'Normal sample 591': ['Init Bwd Win Byts', 'Fwd IAT Tot', 'Bwd PSH Flags', 'Fwd Pkt Len Max', 'Fwd IAT Std', 'SYN Flag Cnt', 'Fwd Pkt Len Std', 'Pkt Len Max', 'Fwd Seg Size Avg', 'Fwd Pkt Len Mean'], 'Normal sample 592': ['Init Bwd Win Byts', 'Fwd IAT Std', 'Fwd IAT Tot', 'Bwd PSH Flags', 'SYN Flag Cnt', 'Bwd Pkts/s', 'Pkt Len Max', 'Pkt Len Mean', 'Pkt Size Avg', 'Pkt Len Std'], 'Normal sample 593': ['Init Bwd Win Byts', 'ACK Flag Cnt', 'Fwd IAT Max', 'FIN Flag Cnt', 'Pkt Len Max', 'Fwd Pkt Len Std', 'Fwd IAT Tot', 'Pkt Len Std', 'Pkt Size Avg', 'Fwd IAT Std'], 'Normal sample 594': ['Init Bwd Win Byts', 'Pkt Len Mean', 'Pkt Size Avg', 'Pkt Len Max', 'Fwd Pkt Len Max', 'Pkt Len Std', 'Fwd IAT Std', 'Fwd IAT Tot', 'Fwd IAT Max', 'ACK Flag Cnt'], 'Normal sample 595': ['Init Bwd Win Byts', 'SYN Flag Cnt', 'Down/Up Ratio', 'FIN Flag Cnt', 'Flow Pkts/s', 'Idle Max', 'Idle Min', 'Flow IAT Max', 'URG Flag Cnt', 'Bwd IAT Tot'], 'Normal sample 596': ['Init Bwd Win Byts', 'SYN Flag Cnt', 'FIN Flag Cnt', 'Down/Up Ratio', 'Bwd IAT Std', 'Flow IAT Max', 'Flow Pkts/s', 'Idle Max', 'Idle Mean', 'Idle Min'], 'Normal sample 597': ['SYN Flag Cnt', 'ACK Flag Cnt', 'FIN Flag Cnt', 'Pkt Size Avg', 'Bwd Pkts/s', 'Pkt Len Max', 'Flow Pkts/s', 'Pkt Len Mean', 'Pkt Len Min', 'Pkt Len Std'], 'Normal sample 598': ['Fwd IAT Tot', 'ACK Flag Cnt', 'SYN Flag Cnt', 'Fwd IAT Min', 'Fwd IAT Max', 'FIN Flag Cnt', 'Fwd IAT Mean', 'Flow Pkts/s', 'Idle Max', 'PSH Flag Cnt'], 'Normal sample 599': ['Init Bwd Win Byts', 'Pkt Len Max', 'Pkt Len Std', 'Fwd IAT Tot', 'Pkt Size Avg', 'Pkt Len Mean', 'Subflow Bwd Pkts', 'Fwd Pkt Len Max', 'Fwd Pkt Len Std', 'Bwd IAT Tot'], 'Normal sample 600': ['Init Bwd Win Byts', 'Pkt Size Avg', 'Pkt Len Max', 'Bwd Header Len', 'Pkt Len Mean', 'Pkt Len Std', 'Subflow Bwd Pkts', 'Fwd Pkt Len Max', 'Down/Up Ratio', 'Tot Bwd Pkts'], 'Normal sample 601': ['SYN Flag Cnt', 'ACK Flag Cnt', 'FIN Flag Cnt', 'Pkt Len Max', 'Pkt Size Avg', 'Pkt Len Std', 'Pkt Len Min', 'Flow Pkts/s', 'Pkt Len Mean', 'Bwd Pkts/s'], 'Normal sample 602': ['SYN Flag Cnt', 'Fwd Pkt Len Max', 'Fwd Pkt Len Mean', 'Flow Byts/s', 'Fwd Pkt Len Std', 'Fwd Seg Size Avg', 'Pkt Len Max', 'Pkt Size Avg', 'Pkt Len Mean', 'FIN Flag Cnt'], 'Normal sample 603': ['Init Bwd Win Byts', 'SYN Flag Cnt', 'FIN Flag Cnt', 'Bwd Pkts/s', 'Flow Pkts/s', 'Bwd Pkt Len Min', 'Pkt Size Avg', 'Down/Up Ratio', 'Fwd Pkt Len Std', 'Flow IAT Max'], 'Normal sample 604': ['SYN Flag Cnt', 'ACK Flag Cnt', 'FIN Flag Cnt', 'Pkt Size Avg', 'Bwd Pkts/s', 'Pkt Len Max', 'Pkt Len Mean', 'Flow Pkts/s', 'Pkt Len Std', 'Pkt Len Min'], 'Normal sample 605': ['Init Bwd Win Byts', 'Pkt Size Avg', 'Fwd IAT Tot', 'Pkt Len Max', 'Pkt Len Mean', 'Fwd IAT Max', 'ACK Flag Cnt', 'Bwd IAT Tot', 'Pkt Len Std', 'Bwd Header Len'], 'Normal sample 606': ['Init Bwd Win Byts', 'SYN Flag Cnt', 'Flow Pkts/s', 'FIN Flag Cnt', 'Bwd Pkts/s', 'Down/Up Ratio', 'Fwd Pkt Len Mean', 'Pkt Len Max', 'Pkt Size Avg', 'Pkt Len Mean'], 'Normal sample 607': ['SYN Flag Cnt', 'ACK Flag Cnt', 'FIN Flag Cnt', 'Pkt Size Avg', 'Bwd Pkts/s', 'Flow Pkts/s', 'Pkt Len Min', 'Pkt Len Mean', 'Pkt Len Max', 'Pkt Len Std'], 'Normal sample 608': ['Init Bwd Win Byts', 'SYN Flag Cnt', 'FIN Flag Cnt', 'Down/Up Ratio', 'Bwd Pkt Len Min', 'Pkt Len Std', 'Flow Pkts/s', 'Pkt Size Avg', 'Bwd IAT Std', 'TotLen Fwd Pkts'], 'Normal sample 609': ['Init Bwd Win Byts', 'Pkt Len Max', 'Pkt Size Avg', 'Fwd IAT Tot', 'ACK Flag Cnt', 'Fwd Pkt Len Max', 'Pkt Len Mean', 'Pkt Len Std', 'Fwd IAT Std', 'FIN Flag Cnt'], 'Normal sample 610': ['Init Bwd Win Byts', 'Fwd Pkt Len Max', 'Pkt Len Max', 'Fwd Pkt Len Std', 'Bwd PSH Flags', 'Fwd Pkt Len Mean', 'Fwd IAT Tot', 'Pkt Size Avg', 'Fwd Seg Size Avg', 'Bwd Header Len'], 'Normal sample 611': ['Init Bwd Win Byts', 'SYN Flag Cnt', 'Down/Up Ratio', 'FIN Flag Cnt', 'Flow Pkts/s', 'Idle Mean', 'Idle Min', 'Flow IAT Max', 'Idle Max', 'Bwd IAT Std'], 'Normal sample 612': ['Init Bwd Win Byts', 'Fwd Pkt Len Max', 'Fwd IAT Tot', 'ACK Flag Cnt', 'FIN Flag Cnt', 'Fwd IAT Max', 'Down/Up Ratio', 'Fwd IAT Std', 'Fwd Pkt Len Std', 'Fwd Pkt Len Mean'], 'Normal sample 613': ['Init Bwd Win Byts', 'Fwd Pkt Len Max', 'Fwd Seg Size Avg', 'Fwd Pkt Len Std', 'Down/Up Ratio', 'Pkt Len Max', 'FIN Flag Cnt', 'Pkt Len Std', 'Fwd IAT Tot', 'ACK Flag Cnt'], 'Normal sample 614': ['Init Bwd Win Byts', 'SYN Flag Cnt', 'Down/Up Ratio', 'Flow IAT Max', 'ACK Flag Cnt', 'TotLen Fwd Pkts', 'PSH Flag Cnt', 'Bwd IAT Tot', 'Idle Mean', 'Flow IAT Std'], 'Normal sample 615': ['SYN Flag Cnt', 'ACK Flag Cnt', 'FIN Flag Cnt', 'Pkt Size Avg', 'Flow Pkts/s', 'Bwd Pkts/s', 'Pkt Len Mean', 'Pkt Len Max', 'Pkt Len Min', 'Pkt Len Std'], 'Normal sample 616': ['SYN Flag Cnt', 'FIN Flag Cnt', 'ACK Flag Cnt', 'Pkt Size Avg', 'Pkt Len Mean', 'Pkt Len Max', 'Pkt Len Min', 'Flow Pkts/s', 'Pkt Len Std', 'Bwd Pkts/s'], 'Normal sample 617': ['SYN Flag Cnt', 'ACK Flag Cnt', 'FIN Flag Cnt', 'Bwd Pkts/s', 'Flow Pkts/s', 'Pkt Size Avg', 'Pkt Len Mean', 'Pkt Len Min', 'Fwd Seg Size Avg', 'Bwd Pkt Len Min'], 'Normal sample 618': ['SYN Flag Cnt', 'FIN Flag Cnt', 'ACK Flag Cnt', 'Pkt Size Avg', 'Pkt Len Mean', 'Pkt Len Max', 'Bwd Pkts/s', 'Pkt Len Std', 'Pkt Len Min', 'Flow Pkts/s'], 'Normal sample 619': ['SYN Flag Cnt', 'ACK Flag Cnt', 'FIN Flag Cnt', 'Pkt Size Avg', 'Pkt Len Max', 'Pkt Len Std', 'Pkt Len Min', 'Flow Pkts/s', 'Pkt Len Mean', 'Bwd Pkts/s'], 'Normal sample 620': ['Init Bwd Win Byts', 'SYN Flag Cnt', 'Down/Up Ratio', 'FIN Flag Cnt', 'Flow IAT Max', 'Flow Pkts/s', 'Idle Mean', 'Bwd IAT Std', 'Flow Duration', 'PSH Flag Cnt'], 'Normal sample 621': ['Init Bwd Win Byts', 'Fwd IAT Tot', 'FIN Flag Cnt', 'Fwd IAT Std', 'Fwd IAT Max', 'Fwd Pkt Len Max', 'Bwd IAT Max', 'ACK Flag Cnt', 'Pkt Len Max', 'Pkt Len Std'], 'Normal sample 622': ['SYN Flag Cnt', 'FIN Flag Cnt', 'Flow Byts/s', 'Pkt Size Avg', 'ACK Flag Cnt', 'Pkt Len Min', 'Pkt Len Mean', 'Fwd Pkt Len Mean', 'Fwd Seg Size Avg', 'Fwd Pkt Len Min'], 'Normal sample 623': ['SYN Flag Cnt', 'FIN Flag Cnt', 'ACK Flag Cnt', 'Pkt Size Avg', 'Pkt Len Mean', 'Pkt Len Max', 'Flow Pkts/s', 'Pkt Len Std', 'Bwd Pkts/s', 'Pkt Len Min'], 'Normal sample 624': ['SYN Flag Cnt', 'ACK Flag Cnt', 'FIN Flag Cnt', 'Bwd Pkts/s', 'Pkt Size Avg', 'Flow Pkts/s', 'Pkt Len Max', 'Pkt Len Mean', 'Pkt Len Min', 'Pkt Len Std'], 'Normal sample 625': ['SYN Flag Cnt', 'ACK Flag Cnt', 'FIN Flag Cnt', 'Pkt Size Avg', 'Pkt Len Max', 'Pkt Len Mean', 'Bwd Pkts/s', 'Pkt Len Std', 'Flow Pkts/s', 'Pkt Len Min'], 'Normal sample 626': ['Init Bwd Win Byts', 'Fwd IAT Std', 'Bwd IAT Tot', 'Fwd Pkt Len Max', 'Fwd IAT Tot', 'ACK Flag Cnt', 'Pkt Len Max', 'Fwd IAT Max', 'Flow Pkts/s', 'Bwd IAT Max'], 'Normal sample 627': ['SYN Flag Cnt', 'ACK Flag Cnt', 'FIN Flag Cnt', 'Pkt Size Avg', 'Pkt Len Max', 'Bwd Pkts/s', 'Pkt Len Std', 'Flow Pkts/s', 'Pkt Len Mean', 'Pkt Len Min'], 'Normal sample 628': ['SYN Flag Cnt', 'ACK Flag Cnt', 'FIN Flag Cnt', 'Flow Pkts/s', 'Bwd Pkts/s', 'Pkt Size Avg', 'Pkt Len Min', 'Pkt Len Mean', 'Pkt Len Max', 'Pkt Len Std'], 'Normal sample 629': ['Init Bwd Win Byts', 'Fwd IAT Tot', 'Fwd IAT Std', 'Bwd PSH Flags', 'Fwd Pkt Len Max', 'Pkt Len Max', 'Bwd IAT Mean', 'URG Flag Cnt', 'SYN Flag Cnt', 'Bwd Pkts/s'], 'Normal sample 630': ['SYN Flag Cnt', 'ACK Flag Cnt', 'FIN Flag Cnt', 'Flow Pkts/s', 'Bwd Pkts/s', 'Pkt Size Avg', 'Pkt Len Max', 'Pkt Len Mean', 'Pkt Len Min', 'Pkt Len Std'], 'Normal sample 631': ['Init Bwd Win Byts', 'SYN Flag Cnt', 'FIN Flag Cnt', 'Down/Up Ratio', 'PSH Flag Cnt', 'Idle Min', 'Flow Pkts/s', 'Flow IAT Max', 'Flow Duration', 'Idle Max'], 'Normal sample 632': ['SYN Flag Cnt', 'ACK Flag Cnt', 'FIN Flag Cnt', 'Pkt Size Avg', 'Bwd Pkts/s', 'Flow Pkts/s', 'Pkt Len Mean', 'Pkt Len Max', 'Pkt Len Min', 'Pkt Len Std'], 'Normal sample 633': ['SYN Flag Cnt', 'FIN Flag Cnt', 'Pkt Size Avg', 'Flow Pkts/s', 'Pkt Len Max', 'Pkt Len Mean', 'Pkt Len Std', 'Pkt Len Min', 'Bwd Pkt Len Min', 'Bwd Pkts/s'], 'Normal sample 634': ['SYN Flag Cnt', 'FIN Flag Cnt', 'Flow Byts/s', 'Fwd Pkt Len Mean', 'Fwd Seg Size Avg', 'Pkt Size Avg', 'Pkt Len Min', 'Flow Pkts/s', 'ACK Flag Cnt', 'Pkt Len Mean'], 'Normal sample 635': ['Init Bwd Win Byts', 'Fwd Pkt Len Max', 'Bwd PSH Flags', 'SYN Flag Cnt', 'Fwd IAT Tot', 'Fwd IAT Std', 'Pkt Len Max', 'Fwd Pkt Len Std', 'Bwd Pkts/s', 'Bwd IAT Tot'], 'Normal sample 636': ['SYN Flag Cnt', 'ACK Flag Cnt', 'FIN Flag Cnt', 'Pkt Size Avg', 'Pkt Len Mean', 'Flow Pkts/s', 'Bwd Pkts/s', 'Pkt Len Min', 'Pkt Len Std', 'Pkt Len Max'], 'Normal sample 637': ['SYN Flag Cnt', 'ACK Flag Cnt', 'FIN Flag Cnt', 'Pkt Size Avg', 'Bwd Pkts/s', 'Flow Pkts/s', 'Pkt Len Mean', 'Pkt Len Max', 'Pkt Len Min', 'Pkt Len Std'], 'Normal sample 638': ['SYN Flag Cnt', 'FIN Flag Cnt', 'Pkt Size Avg', 'ACK Flag Cnt', 'Flow Byts/s', 'Pkt Len Min', 'Pkt Len Mean', 'Fwd Seg Size Avg', 'Fwd Pkt Len Mean', 'Flow Pkts/s'], 'Normal sample 639': ['SYN Flag Cnt', 'Flow Pkts/s', 'Bwd Pkts/s', 'FIN Flag Cnt', 'Fwd IAT Max', 'Fwd IAT Std', 'Flow IAT Std', 'Fwd IAT Tot', 'Flow Duration', 'ACK Flag Cnt'], 'Normal sample 640': ['Init Bwd Win Byts', 'Fwd IAT Std', 'SYN Flag Cnt', 'Bwd Pkts/s', 'Bwd IAT Max', 'FIN Flag Cnt', 'Flow Pkts/s', 'Fwd IAT Tot', 'Bwd PSH Flags', 'Fwd IAT Max'], 'Normal sample 641': ['Init Bwd Win Byts', 'Pkt Size Avg', 'Pkt Len Max', 'Pkt Len Mean', 'Fwd Pkt Len Max', 'Flow Pkts/s', 'Bwd IAT Max', 'FIN Flag Cnt', 'Fwd IAT Max', 'Fwd IAT Tot'], 'Normal sample 642': ['SYN Flag Cnt', 'ACK Flag Cnt', 'FIN Flag Cnt', 'Bwd Pkts/s', 'Flow Pkts/s', 'Pkt Size Avg', 'Pkt Len Mean', 'Pkt Len Max', 'Pkt Len Min', 'PSH Flag Cnt'], 'Normal sample 643': ['SYN Flag Cnt', 'ACK Flag Cnt', 'FIN Flag Cnt', 'Bwd Pkts/s', 'Flow Pkts/s', 'Pkt Size Avg', 'Pkt Len Mean', 'Pkt Len Max', 'Pkt Len Std', 'Pkt Len Min'], 'Normal sample 644': ['SYN Flag Cnt', 'FIN Flag Cnt', 'ACK Flag Cnt', 'Pkt Size Avg', 'Pkt Len Max', 'Bwd Pkts/s', 'Flow Pkts/s', 'Pkt Len Mean', 'Pkt Len Std', 'Pkt Len Min'], 'Normal sample 645': ['SYN Flag Cnt', 'FIN Flag Cnt', 'Pkt Size Avg', 'ACK Flag Cnt', 'Flow Byts/s', 'Pkt Len Min', 'Pkt Len Mean', 'Fwd Pkt Len Mean', 'Fwd Pkt Len Min', 'Fwd Seg Size Avg'], 'Normal sample 646': ['SYN Flag Cnt', 'ACK Flag Cnt', 'FIN Flag Cnt', 'Pkt Size Avg', 'Flow Pkts/s', 'Pkt Len Max', 'Bwd Pkts/s', 'Pkt Len Min', 'Pkt Len Mean', 'Pkt Len Std'], 'Normal sample 647': ['SYN Flag Cnt', 'FIN Flag Cnt', 'ACK Flag Cnt', 'Pkt Size Avg', 'Pkt Len Mean', 'Pkt Len Max', 'Flow Pkts/s', 'Pkt Len Std', 'Bwd Pkts/s', 'Pkt Len Min'], 'Normal sample 648': ['SYN Flag Cnt', 'FIN Flag Cnt', 'Pkt Size Avg', 'ACK Flag Cnt', 'Pkt Len Mean', 'Fwd Seg Size Avg', 'Pkt Len Min', 'Fwd Pkt Len Mean', 'Flow Byts/s', 'Flow Pkts/s'], 'Normal sample 649': ['Fwd Pkt Len Max', 'Fwd Pkt Len Mean', 'SYN Flag Cnt', 'Fwd Seg Size Avg', 'Fwd Pkt Len Std', 'Pkt Len Mean', 'Pkt Len Max', 'Bwd PSH Flags', 'Pkt Size Avg', 'Pkt Len Std'], 'Normal sample 650': ['Init Bwd Win Byts', 'Fwd Pkt Len Max', 'Fwd IAT Tot', 'Pkt Len Max', 'ACK Flag Cnt', 'Fwd Pkt Len Mean', 'Fwd Pkt Len Std', 'Fwd IAT Max', 'Fwd Seg Size Avg', 'Pkt Size Avg'], 'Normal sample 651': ['Init Bwd Win Byts', 'SYN Flag Cnt', 'FIN Flag Cnt', 'Down/Up Ratio', 'Flow IAT Max', 'Idle Mean', 'PSH Flag Cnt', 'Flow Pkts/s', 'Idle Min', 'Fwd Pkts/s'], 'Normal sample 652': ['SYN Flag Cnt', 'FIN Flag Cnt', 'ACK Flag Cnt', 'Pkt Size Avg', 'Pkt Len Mean', 'Pkt Len Min', 'Pkt Len Max', 'Pkt Len Std', 'Flow Pkts/s', 'Bwd Pkts/s'], 'Normal sample 653': ['Fwd Pkt Len Max', 'Fwd Seg Size Avg', 'Fwd Pkt Len Std', 'Pkt Size Avg', 'Fwd Pkt Len Mean', 'Flow Byts/s', 'SYN Flag Cnt', 'Pkt Len Mean', 'Pkt Len Max', 'Bwd PSH Flags'], 'Normal sample 654': ['SYN Flag Cnt', 'ACK Flag Cnt', 'FIN Flag Cnt', 'Pkt Size Avg', 'Pkt Len Max', 'Flow Pkts/s', 'Pkt Len Mean', 'Pkt Len Std', 'Bwd Pkts/s', 'Pkt Len Min'], 'Normal sample 655': ['SYN Flag Cnt', 'ACK Flag Cnt', 'FIN Flag Cnt', 'Pkt Size Avg', 'Flow Pkts/s', 'Pkt Len Max', 'Bwd Pkts/s', 'Pkt Len Mean', 'Pkt Len Std', 'Pkt Len Min'], 'Normal sample 656': ['Init Bwd Win Byts', 'Pkt Len Max', 'Pkt Size Avg', 'Pkt Len Mean', 'Pkt Len Std', 'Flow Pkts/s', 'Fwd Pkt Len Max', 'Fwd Pkt Len Std', 'Fwd Seg Size Avg', 'Fwd Pkt Len Mean'], 'Normal sample 657': ['Init Bwd Win Byts', 'Fwd IAT Tot', 'Fwd Pkt Len Max', 'ACK Flag Cnt', 'Pkt Len Max', 'Fwd IAT Std', 'Fwd Pkt Len Std', 'FIN Flag Cnt', 'PSH Flag Cnt', 'Pkt Size Avg'], 'Normal sample 658': ['SYN Flag Cnt', 'FIN Flag Cnt', 'ACK Flag Cnt', 'Pkt Size Avg', 'Pkt Len Mean', 'Pkt Len Min', 'Flow Pkts/s', 'Bwd Pkts/s', 'Pkt Len Max', 'Pkt Len Std'], 'Normal sample 659': ['SYN Flag Cnt', 'FIN Flag Cnt', 'ACK Flag Cnt', 'Pkt Size Avg', 'Flow Pkts/s', 'Pkt Len Mean', 'Pkt Len Max', 'Bwd Pkts/s', 'Pkt Len Min', 'Pkt Len Std'], 'Normal sample 660': ['SYN Flag Cnt', 'FIN Flag Cnt', 'ACK Flag Cnt', 'Pkt Size Avg', 'Pkt Len Max', 'Pkt Len Mean', 'Flow Pkts/s', 'Pkt Len Min', 'Pkt Len Std', 'Bwd Pkts/s'], 'Normal sample 661': ['SYN Flag Cnt', 'ACK Flag Cnt', 'FIN Flag Cnt', 'Pkt Size Avg', 'Pkt Len Mean', 'Flow Pkts/s', 'Pkt Len Max', 'Bwd Pkts/s', 'Pkt Len Std', 'Pkt Len Min'], 'Normal sample 662': ['SYN Flag Cnt', 'ACK Flag Cnt', 'FIN Flag Cnt', 'Pkt Size Avg', 'Pkt Len Mean', 'Pkt Len Max', 'Flow Pkts/s', 'Bwd Pkts/s', 'Pkt Len Std', 'Pkt Len Min'], 'Normal sample 663': ['SYN Flag Cnt', 'ACK Flag Cnt', 'FIN Flag Cnt', 'Pkt Size Avg', 'Bwd Pkts/s', 'Pkt Len Mean', 'Pkt Len Max', 'Pkt Len Std', 'Pkt Len Min', 'Flow Pkts/s'], 'Normal sample 664': ['Init Bwd Win Byts', 'Fwd Pkt Len Max', 'Fwd Pkt Len Std', 'Pkt Len Max', 'Down/Up Ratio', 'ACK Flag Cnt', 'Fwd IAT Max', 'Pkt Len Std', 'Fwd IAT Tot', 'Fwd IAT Std'], 'Normal sample 665': ['SYN Flag Cnt', 'FIN Flag Cnt', 'Pkt Size Avg', 'ACK Flag Cnt', 'Pkt Len Min', 'Flow Byts/s', 'Pkt Len Mean', 'Fwd Seg Size Avg', 'Fwd Pkt Len Mean', 'Fwd Pkt Len Min'], 'Normal sample 666': ['SYN Flag Cnt', 'ACK Flag Cnt', 'FIN Flag Cnt', 'Pkt Size Avg', 'Pkt Len Mean', 'Flow Pkts/s', 'Bwd Pkts/s', 'Pkt Len Std', 'Pkt Len Min', 'Pkt Len Max'], 'Normal sample 667': ['Init Bwd Win Byts', 'SYN Flag Cnt', 'Down/Up Ratio', 'Idle Mean', 'Idle Max', 'Bwd IAT Max', 'Idle Min', 'Fwd Pkt Len Std', 'Bwd IAT Tot', 'Flow IAT Max'], 'Normal sample 668': ['SYN Flag Cnt', 'ACK Flag Cnt', 'FIN Flag Cnt', 'Pkt Size Avg', 'Flow Pkts/s', 'Bwd Pkts/s', 'Pkt Len Mean', 'Pkt Len Max', 'Pkt Len Min', 'Bwd Pkt Len Min'], 'Normal sample 669': ['SYN Flag Cnt', 'ACK Flag Cnt', 'FIN Flag Cnt', 'Bwd Pkts/s', 'Pkt Size Avg', 'Flow Pkts/s', 'Pkt Len Max', 'Pkt Len Mean', 'Pkt Len Std', 'Pkt Len Min'], 'Normal sample 670': ['Init Bwd Win Byts', 'SYN Flag Cnt', 'Down/Up Ratio', 'Flow IAT Max', 'FIN Flag Cnt', 'Idle Min', 'Idle Max', 'Idle Mean', 'PSH Flag Cnt', 'URG Flag Cnt'], 'Normal sample 671': ['Init Bwd Win Byts', 'SYN Flag Cnt', 'Down/Up Ratio', 'FIN Flag Cnt', 'Flow IAT Max', 'Bwd IAT Std', 'Idle Max', 'Flow Pkts/s', 'PSH Flag Cnt', 'Idle Min'], 'Normal sample 672': ['SYN Flag Cnt', 'Fwd Pkt Len Max', 'Fwd Pkt Len Mean', 'Fwd Seg Size Avg', 'Fwd Pkt Len Std', 'Pkt Size Avg', 'Pkt Len Max', 'Pkt Len Mean', 'Bwd Pkts/s', 'Down/Up Ratio'], 'Normal sample 673': ['Init Bwd Win Byts', 'Fwd Pkt Len Max', 'Pkt Len Max', 'ACK Flag Cnt', 'Fwd Pkt Len Std', 'Pkt Len Mean', 'Pkt Len Std', 'Fwd IAT Tot', 'Fwd Seg Size Avg', 'Pkt Size Avg'], 'Normal sample 674': ['Init Bwd Win Byts', 'SYN Flag Cnt', 'FIN Flag Cnt', 'Down/Up Ratio', 'Flow IAT Max', 'PSH Flag Cnt', 'Flow Duration', 'Idle Max', 'URG Flag Cnt', 'Flow Pkts/s'], 'Normal sample 675': ['SYN Flag Cnt', 'FIN Flag Cnt', 'ACK Flag Cnt', 'Pkt Size Avg', 'Pkt Len Mean', 'Pkt Len Min', 'Flow Pkts/s', 'Pkt Len Max', 'Bwd Pkts/s', 'Pkt Len Std'], 'Normal sample 676': ['SYN Flag Cnt', 'FIN Flag Cnt', 'Pkt Size Avg', 'Flow Pkts/s', 'Bwd Pkts/s', 'Pkt Len Mean', 'Pkt Len Std', 'Pkt Len Max', 'Pkt Len Min', 'Bwd Pkt Len Min'], 'Normal sample 677': ['SYN Flag Cnt', 'FIN Flag Cnt', 'ACK Flag Cnt', 'Pkt Size Avg', 'Pkt Len Mean', 'Flow Pkts/s', 'Pkt Len Max', 'Pkt Len Std', 'Pkt Len Min', 'Bwd Pkts/s'], 'Normal sample 678': ['SYN Flag Cnt', 'ACK Flag Cnt', 'FIN Flag Cnt', 'Pkt Size Avg', 'Pkt Len Mean', 'Pkt Len Max', 'Flow Pkts/s', 'Bwd Pkts/s', 'Pkt Len Std', 'Pkt Len Min'], 'Normal sample 679': ['Init Bwd Win Byts', 'ACK Flag Cnt', 'Down/Up Ratio', 'SYN Flag Cnt', 'Idle Min', 'Flow IAT Max', 'Flow Pkts/s', 'Fwd Header Len', 'Bwd Pkts/s', 'Idle Max'], 'Normal sample 680': ['Init Bwd Win Byts', 'SYN Flag Cnt', 'Down/Up Ratio', 'FIN Flag Cnt', 'Flow Pkts/s', 'Idle Mean', 'Flow IAT Max', 'Idle Max', 'URG Flag Cnt', 'Bwd IAT Std'], 'Normal sample 681': ['Init Bwd Win Byts', 'Pkt Len Max', 'Pkt Len Mean', 'Pkt Size Avg', 'Pkt Len Std', 'ACK Flag Cnt', 'Fwd IAT Max', 'Fwd IAT Tot', 'Bwd IAT Max', 'Bwd IAT Std'], 'Normal sample 682': ['Init Bwd Win Byts', 'SYN Flag Cnt', 'FIN Flag Cnt', 'Down/Up Ratio', 'Flow Pkts/s', 'Bwd IAT Std', 'Idle Max', 'Idle Mean', 'Flow IAT Max', 'Bwd IAT Tot'], 'Normal sample 683': ['Init Bwd Win Byts', 'Bwd Header Len', 'SYN Flag Cnt', 'Fwd Act Data Pkts', 'FIN Flag Cnt', 'Tot Bwd Pkts', 'Pkt Len Max', 'Bwd IAT Max', 'Bwd IAT Tot', 'Down/Up Ratio'], 'Normal sample 684': ['Init Bwd Win Byts', 'Fwd Pkt Len Max', 'Pkt Len Max', 'Fwd Pkt Len Std', 'Pkt Len Mean', 'Fwd IAT Tot', 'Pkt Size Avg', 'Pkt Len Std', 'Fwd Pkt Len Mean', 'Fwd IAT Max'], 'Normal sample 685': ['Init Bwd Win Byts', 'Fwd IAT Tot', 'SYN Flag Cnt', 'Fwd IAT Std', 'Bwd PSH Flags', 'Down/Up Ratio', 'Flow Pkts/s', 'FIN Flag Cnt', 'Bwd IAT Max', 'Bwd IAT Mean'], 'Normal sample 686': ['SYN Flag Cnt', 'FIN Flag Cnt', 'ACK Flag Cnt', 'Pkt Size Avg', 'Pkt Len Max', 'Pkt Len Mean', 'Pkt Len Std', 'Pkt Len Min', 'Flow Pkts/s', 'Bwd Pkt Len Min'], 'Normal sample 687': ['Init Bwd Win Byts', 'Fwd Pkt Len Max', 'Fwd Seg Size Avg', 'Pkt Len Mean', 'Fwd Pkt Len Std', 'Fwd Pkt Len Mean', 'Pkt Size Avg', 'FIN Flag Cnt', 'Bwd IAT Tot', 'Pkt Len Std'], 'Normal sample 688': ['Init Bwd Win Byts', 'Bwd PSH Flags', 'Fwd Pkt Len Max', 'Fwd IAT Tot', 'Fwd IAT Std', 'SYN Flag Cnt', 'Pkt Len Max', 'Fwd Seg Size Avg', 'Fwd Pkt Len Std', 'Bwd IAT Tot'], 'Normal sample 689': ['Init Bwd Win Byts', 'Fwd IAT Tot', 'Fwd IAT Std', 'ACK Flag Cnt', 'Fwd Pkt Len Max', 'FIN Flag Cnt', 'Bwd IAT Tot', 'Fwd IAT Max', 'Down/Up Ratio', 'Bwd Pkts/s'], 'Normal sample 690': ['Init Bwd Win Byts', 'SYN Flag Cnt', 'Flow IAT Max', 'Idle Max', 'Bwd IAT Tot', 'Down/Up Ratio', 'PSH Flag Cnt', 'Bwd IAT Max', 'Idle Mean', 'Idle Min'], 'Normal sample 691': ['SYN Flag Cnt', 'FIN Flag Cnt', 'ACK Flag Cnt', 'Pkt Size Avg', 'Pkt Len Mean', 'Pkt Len Max', 'Flow Pkts/s', 'Pkt Len Std', 'Bwd Pkt Len Min', 'Bwd Pkts/s'], 'Normal sample 692': ['SYN Flag Cnt', 'ACK Flag Cnt', 'FIN Flag Cnt', 'Pkt Size Avg', 'Bwd Pkts/s', 'Flow Pkts/s', 'Pkt Len Max', 'Pkt Len Mean', 'Pkt Len Min', 'Pkt Len Std'], 'Normal sample 693': ['Init Bwd Win Byts', 'SYN Flag Cnt', 'Pkt Size Avg', 'Flow Pkts/s', 'Bwd Pkts/s', 'Pkt Len Mean', 'Pkt Len Max', 'Fwd Pkt Len Mean', 'Fwd Pkt Len Max', 'FIN Flag Cnt'], 'Normal sample 694': ['SYN Flag Cnt', 'ACK Flag Cnt', 'FIN Flag Cnt', 'Pkt Size Avg', 'Pkt Len Max', 'Flow Pkts/s', 'Pkt Len Mean', 'Bwd Pkts/s', 'Pkt Len Std', 'Pkt Len Min'], 'Normal sample 695': ['SYN Flag Cnt', 'FIN Flag Cnt', 'ACK Flag Cnt', 'Pkt Size Avg', 'Pkt Len Mean', 'Pkt Len Max', 'Bwd Pkts/s', 'Pkt Len Min', 'Flow Pkts/s', 'Pkt Len Std'], 'Normal sample 696': ['SYN Flag Cnt', 'ACK Flag Cnt', 'FIN Flag Cnt', 'Bwd Pkts/s', 'Pkt Size Avg', 'Pkt Len Mean', 'Pkt Len Max', 'Flow Pkts/s', 'Bwd IAT Tot', 'Pkt Len Min'], 'Normal sample 697': ['Init Bwd Win Byts', 'Pkt Len Max', 'Pkt Size Avg', 'Pkt Len Mean', 'Fwd Pkt Len Max', 'Fwd IAT Tot', 'Pkt Len Std', 'Fwd IAT Max', 'Flow IAT Max', 'Bwd IAT Max'], 'Normal sample 698': ['SYN Flag Cnt', 'FIN Flag Cnt', 'ACK Flag Cnt', 'Pkt Size Avg', 'Pkt Len Min', 'Pkt Len Mean', 'Flow Pkts/s', 'Pkt Len Max', 'Bwd Pkts/s', 'Pkt Len Std'], 'Normal sample 699': ['Init Bwd Win Byts', 'Pkt Len Max', 'ACK Flag Cnt', 'Fwd Pkt Len Max', 'Pkt Size Avg', 'Pkt Len Std', 'Fwd IAT Max', 'Fwd IAT Std', 'Pkt Len Mean', 'Bwd Pkts/s'], 'Normal sample 700': ['Init Bwd Win Byts', 'SYN Flag Cnt', 'FIN Flag Cnt', 'Pkt Len Mean', 'Flow Byts/s', 'Down/Up Ratio', 'Bwd Pkt Len Min', 'Flow IAT Std', 'Flow Pkts/s', 'Pkt Size Avg'], 'Normal sample 701': ['SYN Flag Cnt', 'FIN Flag Cnt', 'ACK Flag Cnt', 'Pkt Size Avg', 'Pkt Len Max', 'Bwd Pkts/s', 'Pkt Len Min', 'Pkt Len Std', 'Pkt Len Mean', 'Flow Pkts/s'], 'Normal sample 702': ['Init Bwd Win Byts', 'SYN Flag Cnt', 'Down/Up Ratio', 'Idle Max', 'PSH Flag Cnt', 'URG Flag Cnt', 'Flow IAT Max', 'Bwd URG Flags', 'Bwd IAT Max', 'Bwd IAT Tot'], 'Normal sample 703': ['Init Bwd Win Byts', 'SYN Flag Cnt', 'PSH Flag Cnt', 'Down/Up Ratio', 'Idle Min', 'Flow IAT Max', 'URG Flag Cnt', 'ACK Flag Cnt', 'Idle Max', 'Bwd IAT Mean'], 'Normal sample 704': ['SYN Flag Cnt', 'ACK Flag Cnt', 'FIN Flag Cnt', 'Bwd Pkts/s', 'Flow Pkts/s', 'Pkt Size Avg', 'Pkt Len Mean', 'Pkt Len Max', 'Pkt Len Std', 'Pkt Len Min'], 'Normal sample 705': ['SYN Flag Cnt', 'FIN Flag Cnt', 'ACK Flag Cnt', 'Pkt Size Avg', 'Pkt Len Mean', 'Pkt Len Max', 'Pkt Len Std', 'Bwd Pkts/s', 'Flow Pkts/s', 'Pkt Len Min'], 'Normal sample 706': ['Init Bwd Win Byts', 'SYN Flag Cnt', 'FIN Flag Cnt', 'Down/Up Ratio', 'Flow IAT Max', 'Bwd IAT Std', 'Idle Max', 'Flow IAT Std', 'Flow Pkts/s', 'PSH Flag Cnt'], 'Normal sample 707': ['Init Bwd Win Byts', 'Fwd IAT Std', 'Fwd Pkt Len Max', 'Fwd IAT Tot', 'FIN Flag Cnt', 'Fwd IAT Max', 'Pkt Len Max', 'Fwd Pkt Len Std', 'Fwd Seg Size Avg', 'ACK Flag Cnt'], 'Normal sample 708': ['SYN Flag Cnt', 'ACK Flag Cnt', 'FIN Flag Cnt', 'Pkt Size Avg', 'Bwd Pkts/s', 'Pkt Len Mean', 'Flow Pkts/s', 'Pkt Len Min', 'Pkt Len Std', 'Pkt Len Max'], 'Normal sample 709': ['Init Bwd Win Byts', 'SYN Flag Cnt', 'FIN Flag Cnt', 'Down/Up Ratio', 'Flow Pkts/s', 'Flow IAT Max', 'Idle Max', 'Bwd IAT Std', 'Fwd IAT Min', 'URG Flag Cnt'], 'Normal sample 710': ['SYN Flag Cnt', 'ACK Flag Cnt', 'FIN Flag Cnt', 'Flow Pkts/s', 'Pkt Size Avg', 'Bwd Pkts/s', 'Pkt Len Mean', 'Pkt Len Max', 'Pkt Len Min', 'Pkt Len Std'], 'Normal sample 711': ['Init Bwd Win Byts', 'Fwd IAT Tot', 'Fwd IAT Std', 'Bwd PSH Flags', 'Down/Up Ratio', 'Fwd Seg Size Avg', 'Fwd Pkt Len Max', 'Bwd Pkts/s', 'Fwd Pkt Len Mean', 'Fwd Pkt Len Std'], 'Normal sample 712': ['SYN Flag Cnt', 'ACK Flag Cnt', 'FIN Flag Cnt', 'Bwd Pkts/s', 'Pkt Size Avg', 'Flow Pkts/s', 'Pkt Len Mean', 'Pkt Len Min', 'Pkt Len Max', 'Pkt Len Std'], 'Normal sample 713': ['SYN Flag Cnt', 'FIN Flag Cnt', 'Pkt Size Avg', 'ACK Flag Cnt', 'Pkt Len Min', 'Flow Byts/s', 'Fwd Pkt Len Mean', 'Fwd Seg Size Avg', 'Pkt Len Mean', 'Pkt Len Max'], 'Normal sample 714': ['SYN Flag Cnt', 'ACK Flag Cnt', 'FIN Flag Cnt', 'Pkt Size Avg', 'Bwd Pkts/s', 'Pkt Len Mean', 'Flow Pkts/s', 'Pkt Len Max', 'Pkt Len Min', 'Pkt Len Std'], 'Normal sample 715': ['SYN Flag Cnt', 'FIN Flag Cnt', 'Pkt Size Avg', 'Pkt Len Min', 'ACK Flag Cnt', 'Pkt Len Max', 'Pkt Len Mean', 'Flow Pkts/s', 'Pkt Len Std', 'Bwd Pkt Len Min'], 'Normal sample 716': ['SYN Flag Cnt', 'FIN Flag Cnt', 'ACK Flag Cnt', 'Pkt Size Avg', 'Pkt Len Mean', 'Pkt Len Max', 'Pkt Len Std', 'Pkt Len Min', 'Flow Pkts/s', 'Bwd Pkts/s'], 'Normal sample 717': ['SYN Flag Cnt', 'ACK Flag Cnt', 'FIN Flag Cnt', 'Pkt Size Avg', 'Flow Pkts/s', 'Pkt Len Std', 'Pkt Len Mean', 'Bwd Pkts/s', 'Pkt Len Min', 'Pkt Len Max'], 'Normal sample 718': ['Init Bwd Win Byts', 'SYN Flag Cnt', 'Bwd Pkts/s', 'Flow Pkts/s', 'Bwd PSH Flags', 'FIN Flag Cnt', 'Down/Up Ratio', 'Bwd Pkt Len Min', 'Fwd Pkt Len Min', 'Pkt Len Mean'], 'Normal sample 719': ['Init Bwd Win Byts', 'Fwd Pkt Len Mean', 'Fwd Pkt Len Max', 'FIN Flag Cnt', 'Pkt Len Max', 'Fwd Pkt Len Std', 'Pkt Len Std', 'Flow Pkts/s', 'Bwd IAT Max', 'ACK Flag Cnt'], 'Normal sample 720': ['Init Bwd Win Byts', 'Pkt Len Max', 'Fwd Pkt Len Max', 'Fwd Pkt Len Mean', 'Bwd IAT Tot', 'Pkt Size Avg', 'Fwd Pkt Len Std', 'Pkt Len Std', 'Fwd Seg Size Avg', 'ACK Flag Cnt'], 'Normal sample 721': ['SYN Flag Cnt', 'ACK Flag Cnt', 'FIN Flag Cnt', 'Bwd Pkts/s', 'Pkt Size Avg', 'Flow Pkts/s', 'Pkt Len Max', 'Pkt Len Mean', 'Pkt Len Std', 'Pkt Len Min'], 'Normal sample 722': ['SYN Flag Cnt', 'FIN Flag Cnt', 'ACK Flag Cnt', 'Pkt Size Avg', 'Flow Pkts/s', 'Pkt Len Mean', 'Pkt Len Max', 'Bwd Pkts/s', 'Pkt Len Std', 'Pkt Len Min'], 'Normal sample 723': ['Init Bwd Win Byts', 'Pkt Len Max', 'Pkt Len Mean', 'Fwd Pkt Len Max', 'Fwd IAT Tot', 'Pkt Size Avg', 'Pkt Len Std', 'Fwd IAT Max', 'Down/Up Ratio', 'Bwd Header Len'], 'Normal sample 724': ['Init Bwd Win Byts', 'Fwd IAT Tot', 'Pkt Len Max', 'Bwd IAT Tot', 'Pkt Len Std', 'ACK Flag Cnt', 'Pkt Size Avg', 'Down/Up Ratio', 'Fwd IAT Std', 'Bwd Header Len'], 'Normal sample 725': ['Init Bwd Win Byts', 'SYN Flag Cnt', 'Down/Up Ratio', 'FIN Flag Cnt', 'PSH Flag Cnt', 'Flow IAT Max', 'Idle Max', 'Flow Pkts/s', 'Idle Min', 'Fwd Act Data Pkts'], 'Normal sample 726': ['SYN Flag Cnt', 'ACK Flag Cnt', 'FIN Flag Cnt', 'Pkt Size Avg', 'Pkt Len Min', 'Pkt Len Mean', 'Pkt Len Max', 'Pkt Len Std', 'Flow Pkts/s', 'Bwd Pkts/s'], 'Normal sample 727': ['Init Bwd Win Byts', 'Fwd Pkt Len Mean', 'FIN Flag Cnt', 'Pkt Size Avg', 'Pkt Len Std', 'Fwd Seg Size Avg', 'Bwd IAT Tot', 'Pkt Len Mean', 'Fwd Pkt Len Max', 'Pkt Len Max'], 'Normal sample 728': ['Fwd Pkt Len Max', 'Fwd Pkt Len Std', 'Fwd Pkt Len Mean', 'Fwd Seg Size Avg', 'SYN Flag Cnt', 'Flow Byts/s', 'Pkt Size Avg', 'Pkt Len Max', 'Pkt Len Mean', 'Bwd PSH Flags'], 'Normal sample 729': ['Init Bwd Win Byts', 'SYN Flag Cnt', 'Down/Up Ratio', 'FIN Flag Cnt', 'URG Flag Cnt', 'Flow Pkts/s', 'Idle Min', 'Flow IAT Max', 'Flow IAT Std', 'Idle Mean'], 'Normal sample 730': ['Init Bwd Win Byts', 'SYN Flag Cnt', 'Down/Up Ratio', 'FIN Flag Cnt', 'Flow Pkts/s', 'Idle Max', 'Flow IAT Max', 'Bwd IAT Std', 'Idle Min', 'Idle Mean'], 'Normal sample 731': ['Init Bwd Win Byts', 'Bwd IAT Max', 'Fwd Pkt Len Max', 'FIN Flag Cnt', 'ACK Flag Cnt', 'Pkt Len Max', 'Fwd Pkt Len Mean', 'Fwd IAT Std', 'Fwd IAT Tot', 'Pkt Size Avg'], 'Normal sample 732': ['Init Bwd Win Byts', 'SYN Flag Cnt', 'Flow Pkts/s', 'Flow Duration', 'Bwd Pkts/s', 'FIN Flag Cnt', 'PSH Flag Cnt', 'Down/Up Ratio', 'Flow IAT Min', 'Fwd IAT Min'], 'Normal sample 733': ['SYN Flag Cnt', 'FIN Flag Cnt', 'Pkt Size Avg', 'ACK Flag Cnt', 'Pkt Len Min', 'Pkt Len Mean', 'Flow Byts/s', 'Fwd Pkt Len Mean', 'Fwd Seg Size Avg', 'Flow Pkts/s'], 'Normal sample 734': ['SYN Flag Cnt', 'ACK Flag Cnt', 'FIN Flag Cnt', 'Pkt Size Avg', 'Pkt Len Max', 'Bwd Pkts/s', 'Flow Pkts/s', 'Pkt Len Mean', 'Pkt Len Std', 'Pkt Len Min'], 'Normal sample 735': ['SYN Flag Cnt', 'ACK Flag Cnt', 'FIN Flag Cnt', 'Pkt Size Avg', 'Bwd Pkts/s', 'Flow Pkts/s', 'Pkt Len Mean', 'Pkt Len Max', 'Pkt Len Min', 'Pkt Len Std'], 'Normal sample 736': ['Init Bwd Win Byts', 'Fwd Pkt Len Std', 'Bwd IAT Max', 'Bwd IAT Tot', 'Pkt Len Max', 'Fwd Pkt Len Max', 'FIN Flag Cnt', 'Pkt Len Std', 'Pkt Size Avg', 'Fwd Pkt Len Mean'], 'Normal sample 737': ['Init Bwd Win Byts', 'Fwd Pkt Len Max', 'Fwd Pkt Len Std', 'Fwd IAT Tot', 'Pkt Len Max', 'Fwd Pkt Len Mean', 'Bwd PSH Flags', 'Bwd Pkts/s', 'Pkt Len Std', 'Fwd Seg Size Avg'], 'Normal sample 738': ['SYN Flag Cnt', 'ACK Flag Cnt', 'FIN Flag Cnt', 'Bwd Pkts/s', 'Flow Pkts/s', 'Pkt Size Avg', 'Pkt Len Mean', 'Pkt Len Max', 'Pkt Len Min', 'Pkt Len Std'], 'Normal sample 739': ['Init Bwd Win Byts', 'SYN Flag Cnt', 'FIN Flag Cnt', 'Down/Up Ratio', 'Flow Pkts/s', 'Idle Max', 'Idle Mean', 'Flow IAT Max', 'Bwd IAT Std', 'PSH Flag Cnt'], 'Normal sample 740': ['Init Bwd Win Byts', 'Fwd Pkt Len Max', 'ACK Flag Cnt', 'Fwd IAT Tot', 'Fwd IAT Max', 'Pkt Size Avg', 'Fwd Pkt Len Std', 'FIN Flag Cnt', 'Bwd IAT Tot', 'Down/Up Ratio'], 'Normal sample 741': ['SYN Flag Cnt', 'FIN Flag Cnt', 'ACK Flag Cnt', 'Pkt Size Avg', 'Pkt Len Mean', 'Pkt Len Min', 'Pkt Len Max', 'Flow Pkts/s', 'Bwd Pkts/s', 'Pkt Len Std'], 'Normal sample 742': ['SYN Flag Cnt', 'ACK Flag Cnt', 'FIN Flag Cnt', 'Pkt Size Avg', 'Flow Pkts/s', 'Pkt Len Mean', 'Pkt Len Max', 'Bwd Pkts/s', 'Pkt Len Std', 'Pkt Len Min'], 'Normal sample 743': ['SYN Flag Cnt', 'Flow Pkts/s', 'FIN Flag Cnt', 'Bwd Pkts/s', 'ACK Flag Cnt', 'Pkt Size Avg', 'Pkt Len Mean', 'Fwd Pkt Len Mean', 'Fwd Seg Size Avg', 'Down/Up Ratio'], 'Normal sample 744': ['Init Bwd Win Byts', 'Fwd IAT Std', 'FIN Flag Cnt', 'Fwd Pkt Len Max', 'Fwd IAT Max', 'Fwd IAT Tot', 'Fwd Seg Size Avg', 'Fwd Pkt Len Mean', 'Flow Pkts/s', 'ACK Flag Cnt'], 'Normal sample 745': ['Init Bwd Win Byts', 'Fwd IAT Tot', 'Fwd IAT Std', 'Pkt Len Max', 'ACK Flag Cnt', 'Fwd IAT Max', 'Fwd Pkt Len Max', 'Pkt Len Std', 'Bwd IAT Tot', 'Fwd Pkt Len Std'], 'Normal sample 746': ['SYN Flag Cnt', 'ACK Flag Cnt', 'FIN Flag Cnt', 'Pkt Size Avg', 'Bwd Pkts/s', 'Pkt Len Mean', 'Pkt Len Min', 'Flow Pkts/s', 'Pkt Len Max', 'Pkt Len Std'], 'Normal sample 747': ['SYN Flag Cnt', 'Flow Pkts/s', 'Bwd Pkts/s', 'Down/Up Ratio', 'FIN Flag Cnt', 'Fwd Pkt Len Max', 'Fwd Pkt Len Std', 'Flow Duration', 'Pkt Len Max', 'Pkt Len Std'], 'Normal sample 748': ['Init Bwd Win Byts', 'Fwd IAT Tot', 'Fwd IAT Std', 'Bwd PSH Flags', 'Down/Up Ratio', 'Bwd Pkts/s', 'SYN Flag Cnt', 'Subflow Bwd Pkts', 'Flow Byts/s', 'Bwd IAT Tot'], 'Normal sample 749': ['Init Bwd Win Byts', 'Bwd PSH Flags', 'Bwd Header Len', 'SYN Flag Cnt', 'Subflow Bwd Pkts', 'Down/Up Ratio', 'Fwd Act Data Pkts', 'Bwd IAT Max', 'Bwd Pkts/s', 'Fwd IAT Tot'], 'Normal sample 750': ['SYN Flag Cnt', 'ACK Flag Cnt', 'FIN Flag Cnt', 'Bwd Pkts/s', 'Flow Pkts/s', 'Pkt Size Avg', 'Pkt Len Mean', 'Pkt Len Min', 'Pkt Len Std', 'Pkt Len Max'], 'Normal sample 751': ['Init Bwd Win Byts', 'Pkt Len Max', 'ACK Flag Cnt', 'Bwd IAT Tot', 'FIN Flag Cnt', 'Bwd Pkts/s', 'Fwd Pkt Len Std', 'Fwd IAT Max', 'Fwd Pkt Len Max', 'Fwd Seg Size Avg'], 'Normal sample 752': ['Init Bwd Win Byts', 'SYN Flag Cnt', 'Flow Pkts/s', 'Fwd Pkt Len Max', 'Fwd Pkt Len Mean', 'Fwd Pkt Len Std', 'Fwd Seg Size Avg', 'FIN Flag Cnt', 'Pkt Len Std', 'Pkt Size Avg'], 'Normal sample 753': ['Init Bwd Win Byts', 'SYN Flag Cnt', 'Bwd Pkts/s', 'FIN Flag Cnt', 'Flow Pkts/s', 'Down/Up Ratio', 'Fwd Pkt Len Std', 'Fwd Pkt Len Max', 'Bwd PSH Flags', 'Idle Max'], 'Normal sample 754': ['SYN Flag Cnt', 'ACK Flag Cnt', 'FIN Flag Cnt', 'Pkt Size Avg', 'Pkt Len Mean', 'Pkt Len Max', 'Pkt Len Std', 'Pkt Len Min', 'Flow Pkts/s', 'Bwd Pkts/s'], 'Normal sample 755': ['Init Bwd Win Byts', 'Fwd IAT Tot', 'SYN Flag Cnt', 'Fwd Pkt Len Std', 'Fwd Pkt Len Max', 'Bwd PSH Flags', 'Down/Up Ratio', 'Pkt Len Std', 'Fwd IAT Std', 'Flow Pkts/s'], 'Normal sample 756': ['Init Bwd Win Byts', 'Fwd IAT Tot', 'Pkt Len Max', 'Fwd IAT Std', 'FIN Flag Cnt', 'Bwd IAT Tot', 'Pkt Len Std', 'ACK Flag Cnt', 'Fwd Pkt Len Max', 'Fwd Pkt Len Std'], 'Normal sample 757': ['Init Bwd Win Byts', 'SYN Flag Cnt', 'FIN Flag Cnt', 'Flow Pkts/s', 'Bwd Pkts/s', 'Down/Up Ratio', 'Fwd Seg Size Avg', 'Pkt Len Mean', 'Fwd Pkt Len Max', 'Flow IAT Max'], 'Normal sample 758': ['SYN Flag Cnt', 'ACK Flag Cnt', 'FIN Flag Cnt', 'Pkt Size Avg', 'Pkt Len Mean', 'Pkt Len Max', 'Flow Pkts/s', 'Bwd Pkts/s', 'Pkt Len Min', 'Pkt Len Std'], 'Normal sample 759': ['SYN Flag Cnt', 'ACK Flag Cnt', 'FIN Flag Cnt', 'Pkt Size Avg', 'Pkt Len Max', 'Flow Pkts/s', 'Bwd Pkts/s', 'Pkt Len Mean', 'Pkt Len Std', 'Pkt Len Min'], 'Normal sample 760': ['SYN Flag Cnt', 'FIN Flag Cnt', 'Pkt Size Avg', 'ACK Flag Cnt', 'Flow Byts/s', 'Pkt Len Min', 'Pkt Len Mean', 'Fwd Seg Size Avg', 'Flow Pkts/s', 'Fwd Pkt Len Mean'], 'Normal sample 761': ['SYN Flag Cnt', 'FIN Flag Cnt', 'Pkt Size Avg', 'ACK Flag Cnt', 'Pkt Len Mean', 'Pkt Len Max', 'Pkt Len Min', 'Pkt Len Std', 'Bwd Pkts/s', 'Flow Pkts/s'], 'Normal sample 762': ['SYN Flag Cnt', 'ACK Flag Cnt', 'FIN Flag Cnt', 'Bwd Pkts/s', 'Pkt Size Avg', 'Pkt Len Mean', 'Flow Pkts/s', 'Pkt Len Max', 'Pkt Len Min', 'Pkt Len Std'], 'Normal sample 763': ['SYN Flag Cnt', 'Fwd Pkt Len Max', 'Fwd Pkt Len Std', 'Fwd Pkt Len Mean', 'Fwd Seg Size Avg', 'FIN Flag Cnt', 'Pkt Len Mean', 'Pkt Len Max', 'Pkt Size Avg', 'Bwd Pkts/s'], 'Normal sample 764': ['Init Bwd Win Byts', 'Fwd Pkt Len Max', 'Fwd IAT Std', 'Fwd IAT Tot', 'FIN Flag Cnt', 'Fwd Seg Size Avg', 'Fwd Pkt Len Std', 'Fwd IAT Max', 'Flow Pkts/s', 'Pkt Len Max'], 'Normal sample 765': ['Init Bwd Win Byts', 'Fwd IAT Std', 'FIN Flag Cnt', 'Fwd IAT Tot', 'Fwd Pkt Len Max', 'Fwd Pkt Len Std', 'ACK Flag Cnt', 'Pkt Len Std', 'Fwd IAT Max', 'Fwd Pkt Len Mean'], 'Normal sample 766': ['Init Bwd Win Byts', 'Pkt Len Max', 'Pkt Len Std', 'Fwd IAT Tot', 'Pkt Size Avg', 'Pkt Len Mean', 'Fwd IAT Max', 'Bwd Pkts/s', 'Bwd Header Len', 'ACK Flag Cnt'], 'Normal sample 767': ['Init Bwd Win Byts', 'SYN Flag Cnt', 'Bwd Pkt Len Min', 'FIN Flag Cnt', 'Down/Up Ratio', 'Pkt Size Avg', 'Pkt Len Mean', 'Pkt Len Std', 'Bwd IAT Max', 'Subflow Bwd Byts'], 'Normal sample 768': ['Init Bwd Win Byts', 'SYN Flag Cnt', 'Flow Pkts/s', 'FIN Flag Cnt', 'Down/Up Ratio', 'Fwd IAT Mean', 'Bwd Pkts/s', 'Fwd IAT Min', 'Flow IAT Std', 'URG Flag Cnt'], 'Normal sample 769': ['Init Bwd Win Byts', 'Bwd PSH Flags', 'Fwd IAT Tot', 'Down/Up Ratio', 'SYN Flag Cnt', 'Fwd IAT Std', 'Fwd Pkt Len Max', 'Pkt Len Max', 'Fwd Seg Size Avg', 'Fwd Pkt Len Std'], 'Normal sample 770': ['Init Bwd Win Byts', 'Fwd IAT Tot', 'Fwd Pkt Len Max', 'Fwd Pkt Len Std', 'ACK Flag Cnt', 'Pkt Len Max', 'FIN Flag Cnt', 'Down/Up Ratio', 'Fwd IAT Std', 'Bwd IAT Tot'], 'Normal sample 771': ['Init Bwd Win Byts', 'FIN Flag Cnt', 'Fwd Pkt Len Max', 'ACK Flag Cnt', 'Pkt Len Max', 'Fwd IAT Tot', 'Fwd Pkt Len Mean', 'Fwd Seg Size Avg', 'Fwd IAT Std', 'Fwd IAT Max'], 'Normal sample 772': ['SYN Flag Cnt', 'FIN Flag Cnt', 'ACK Flag Cnt', 'Pkt Size Avg', 'Pkt Len Mean', 'Pkt Len Max', 'Pkt Len Std', 'Flow Pkts/s', 'Bwd Pkts/s', 'Pkt Len Min'], 'Normal sample 773': ['Init Bwd Win Byts', 'SYN Flag Cnt', 'FIN Flag Cnt', 'Down/Up Ratio', 'Flow Pkts/s', 'PSH Flag Cnt', 'URG Flag Cnt', 'Flow IAT Max', 'Idle Min', 'Idle Max'], 'Normal sample 774': ['Init Bwd Win Byts', 'Fwd Pkt Len Max', 'Fwd IAT Tot', 'Fwd Pkt Len Std', 'Fwd IAT Max', 'Fwd IAT Std', 'Fwd Seg Size Avg', 'FIN Flag Cnt', 'Fwd Pkt Len Mean', 'Pkt Size Avg'], 'Normal sample 775': ['Init Bwd Win Byts', 'Fwd IAT Tot', 'Fwd Pkt Len Max', 'ACK Flag Cnt', 'FIN Flag Cnt', 'Pkt Len Max', 'Fwd IAT Std', 'Idle Mean', 'Bwd IAT Std', 'PSH Flag Cnt'], 'Normal sample 776': ['Init Bwd Win Byts', 'Fwd IAT Tot', 'SYN Flag Cnt', 'Fwd IAT Std', 'Fwd Pkt Len Max', 'Bwd PSH Flags', 'Down/Up Ratio', 'Pkt Len Mean', 'Fwd Seg Size Avg', 'Pkt Size Avg'], 'Normal sample 777': ['Init Bwd Win Byts', 'Pkt Len Max', 'FIN Flag Cnt', 'Fwd Pkt Len Max', 'Pkt Len Std', 'Bwd IAT Tot', 'Pkt Len Mean', 'Flow Pkts/s', 'Pkt Size Avg', 'Idle Mean'], 'Normal sample 778': ['Init Bwd Win Byts', 'SYN Flag Cnt', 'FIN Flag Cnt', 'Down/Up Ratio', 'Flow Pkts/s', 'Flow IAT Max', 'Idle Max', 'Idle Min', 'Bwd IAT Std', 'Idle Mean'], 'Normal sample 779': ['SYN Flag Cnt', 'ACK Flag Cnt', 'FIN Flag Cnt', 'Bwd Pkts/s', 'Flow Pkts/s', 'Pkt Len Mean', 'Pkt Size Avg', 'Pkt Len Max', 'Pkt Len Min', 'Bwd Pkt Len Min'], 'Normal sample 780': ['SYN Flag Cnt', 'ACK Flag Cnt', 'FIN Flag Cnt', 'Pkt Size Avg', 'Pkt Len Mean', 'Pkt Len Max', 'Flow Pkts/s', 'Pkt Len Std', 'Pkt Len Min', 'Bwd Pkts/s'], 'Normal sample 781': ['Fwd IAT Std', 'ACK Flag Cnt', 'Fwd IAT Max', 'SYN Flag Cnt', 'Pkt Len Min', 'Bwd Pkts/s', 'Fwd IAT Tot', 'Bwd Pkt Len Min', 'Down/Up Ratio', 'FIN Flag Cnt'], 'Normal sample 782': ['SYN Flag Cnt', 'FIN Flag Cnt', 'Pkt Size Avg', 'ACK Flag Cnt', 'Flow Byts/s', 'Pkt Len Mean', 'Pkt Len Min', 'Fwd Seg Size Avg', 'Fwd Pkt Len Mean', 'Flow Pkts/s'], 'Normal sample 783': ['SYN Flag Cnt', 'ACK Flag Cnt', 'FIN Flag Cnt', 'Pkt Size Avg', 'Pkt Len Mean', 'Bwd Pkts/s', 'Flow Pkts/s', 'Pkt Len Max', 'Pkt Len Std', 'Pkt Len Min'], 'Normal sample 784': ['SYN Flag Cnt', 'FIN Flag Cnt', 'ACK Flag Cnt', 'Pkt Size Avg', 'Pkt Len Max', 'Pkt Len Mean', 'Bwd Pkts/s', 'Pkt Len Std', 'Flow Pkts/s', 'Pkt Len Min'], 'Normal sample 785': ['SYN Flag Cnt', 'FIN Flag Cnt', 'Pkt Size Avg', 'Flow Pkts/s', 'Pkt Len Mean', 'Bwd Pkts/s', 'Pkt Len Max', 'Pkt Len Std', 'Pkt Len Min', 'Bwd Pkt Len Min'], 'Normal sample 786': ['SYN Flag Cnt', 'FIN Flag Cnt', 'Pkt Size Avg', 'ACK Flag Cnt', 'Pkt Len Mean', 'Flow Pkts/s', 'Fwd Seg Size Avg', 'Pkt Len Min', 'Fwd Pkt Len Mean', 'Fwd Pkt Len Min'], 'Normal sample 787': ['Init Bwd Win Byts', 'Fwd IAT Tot', 'SYN Flag Cnt', 'Fwd Pkt Len Max', 'Fwd IAT Std', 'Fwd Pkt Len Std', 'Bwd PSH Flags', 'Fwd Pkt Len Mean', 'Down/Up Ratio', 'Pkt Len Mean'], 'Normal sample 788': ['SYN Flag Cnt', 'ACK Flag Cnt', 'FIN Flag Cnt', 'Pkt Size Avg', 'Flow Pkts/s', 'Pkt Len Max', 'Pkt Len Mean', 'Bwd Pkts/s', 'Pkt Len Min', 'Pkt Len Std'], 'Normal sample 789': ['SYN Flag Cnt', 'ACK Flag Cnt', 'FIN Flag Cnt', 'Pkt Size Avg', 'Pkt Len Mean', 'Pkt Len Std', 'Pkt Len Max', 'Flow Pkts/s', 'Bwd Pkts/s', 'Pkt Len Min'], 'Normal sample 790': ['SYN Flag Cnt', 'FIN Flag Cnt', 'Pkt Size Avg', 'Flow Pkts/s', 'Pkt Len Mean', 'Pkt Len Max', 'Bwd Pkts/s', 'Pkt Len Std', 'Pkt Len Min', 'Bwd Pkt Len Min'], 'Normal sample 791': ['Init Bwd Win Byts', 'Pkt Len Max', 'Fwd Pkt Len Max', 'Fwd Pkt Len Mean', 'ACK Flag Cnt', 'Bwd IAT Max', 'Pkt Len Mean', 'FIN Flag Cnt', 'Fwd IAT Max', 'Fwd IAT Std'], 'Normal sample 792': ['Init Bwd Win Byts', 'Fwd IAT Std', 'Fwd IAT Tot', 'ACK Flag Cnt', 'Down/Up Ratio', 'Fwd IAT Max', 'Bwd IAT Tot', 'Bwd Pkts/s', 'Active Max', 'TotLen Bwd Pkts'], 'Normal sample 793': ['SYN Flag Cnt', 'FIN Flag Cnt', 'ACK Flag Cnt', 'Pkt Size Avg', 'Pkt Len Max', 'Pkt Len Mean', 'Bwd Pkts/s', 'Pkt Len Std', 'Pkt Len Min', 'Flow Pkts/s'], 'Normal sample 794': ['Init Bwd Win Byts', 'Bwd IAT Tot', 'Fwd Pkt Len Max', 'Fwd IAT Tot', 'Fwd Pkt Len Std', 'Pkt Len Mean', 'Pkt Len Max', 'Fwd Seg Size Avg', 'Pkt Size Avg', 'ACK Flag Cnt'], 'Normal sample 795': ['SYN Flag Cnt', 'FIN Flag Cnt', 'ACK Flag Cnt', 'Pkt Size Avg', 'Pkt Len Mean', 'Bwd Pkts/s', 'Pkt Len Min', 'Pkt Len Max', 'Flow Pkts/s', 'Pkt Len Std'], 'Normal sample 796': ['Init Bwd Win Byts', 'Fwd Seg Size Avg', 'Pkt Size Avg', 'ACK Flag Cnt', 'Fwd Pkt Len Mean', 'Fwd Pkt Len Std', 'Pkt Len Mean', 'Fwd Pkt Len Max', 'Pkt Len Max', 'Flow Pkts/s'], 'Normal sample 797': ['Init Bwd Win Byts', 'Fwd Pkt Len Max', 'Fwd Pkt Len Std', 'Pkt Len Max', 'Fwd Seg Size Avg', 'Fwd Pkt Len Mean', 'Bwd Pkts/s', 'Pkt Size Avg', 'Fwd IAT Std', 'FIN Flag Cnt'], 'Normal sample 798': ['Init Bwd Win Byts', 'Fwd IAT Tot', 'Fwd IAT Std', 'Bwd PSH Flags', 'SYN Flag Cnt', 'Fwd Pkt Len Max', 'Fwd Pkt Len Mean', 'Pkt Len Mean', 'Fwd Pkt Len Std', 'Bwd Pkts/s'], 'Normal sample 799': ['Init Bwd Win Byts', 'SYN Flag Cnt', 'FIN Flag Cnt', 'Down/Up Ratio', 'URG Flag Cnt', 'Bwd IAT Std', 'Flow Pkts/s', 'Idle Mean', 'Flow IAT Max', 'Fwd Header Len'], 'Normal sample 800': ['Init Bwd Win Byts', 'SYN Flag Cnt', 'Down/Up Ratio', 'FIN Flag Cnt', 'Flow IAT Max', 'Flow Pkts/s', 'Bwd Pkt Len Mean', 'Idle Min', 'Bwd IAT Max', 'Flow IAT Mean'], 'Normal sample 801': ['Init Bwd Win Byts', 'Pkt Len Max', 'Pkt Size Avg', 'Pkt Len Mean', 'Pkt Len Std', 'Fwd IAT Tot', 'ACK Flag Cnt', 'Fwd IAT Max', 'Down/Up Ratio', 'Fwd Pkt Len Std'], 'Normal sample 802': ['Init Bwd Win Byts', 'Fwd IAT Tot', 'Bwd PSH Flags', 'Pkt Len Std', 'Pkt Len Max', 'Pkt Len Mean', 'Fwd IAT Std', 'Fwd Pkt Len Max', 'SYN Flag Cnt', 'Pkt Size Avg'], 'Normal sample 803': ['SYN Flag Cnt', 'FIN Flag Cnt', 'Pkt Size Avg', 'Flow Pkts/s', 'Bwd Pkts/s', 'Pkt Len Mean', 'Pkt Len Max', 'Pkt Len Std', 'Bwd Pkt Len Min', 'Pkt Len Min'], 'Normal sample 804': ['Init Bwd Win Byts', 'SYN Flag Cnt', 'Bwd Pkts/s', 'Down/Up Ratio', 'Flow Pkts/s', 'FIN Flag Cnt', 'Pkt Len Mean', 'Pkt Size Avg', 'Pkt Len Std', 'Idle Max'], 'Normal sample 805': ['SYN Flag Cnt', 'FIN Flag Cnt', 'ACK Flag Cnt', 'Pkt Len Max', 'Pkt Size Avg', 'Pkt Len Mean', 'Pkt Len Std', 'Bwd Pkts/s', 'Flow Pkts/s', 'Pkt Len Min'], 'Normal sample 806': ['Init Bwd Win Byts', 'Pkt Len Max', 'Bwd IAT Max', 'Fwd IAT Std', 'FIN Flag Cnt', 'Pkt Len Mean', 'Fwd Pkt Len Max', 'Pkt Size Avg', 'ACK Flag Cnt', 'Pkt Len Std'], 'Normal sample 807': ['SYN Flag Cnt', 'FIN Flag Cnt', 'ACK Flag Cnt', 'Pkt Len Max', 'Pkt Size Avg', 'Flow Pkts/s', 'Pkt Len Min', 'Pkt Len Std', 'Pkt Len Mean', 'Bwd Pkts/s'], 'Normal sample 808': ['Init Bwd Win Byts', 'Fwd IAT Tot', 'Fwd IAT Std', 'Bwd PSH Flags', 'SYN Flag Cnt', 'Bwd Pkts/s', 'Pkt Len Max', 'Fwd Pkt Len Max', 'Flow Pkts/s', 'FIN Flag Cnt'], 'Normal sample 809': ['SYN Flag Cnt', 'ACK Flag Cnt', 'FIN Flag Cnt', 'Bwd Pkts/s', 'Flow Pkts/s', 'Pkt Size Avg', 'Pkt Len Mean', 'Pkt Len Max', 'Pkt Len Min', 'Pkt Len Std'], 'Normal sample 810': ['SYN Flag Cnt', 'ACK Flag Cnt', 'FIN Flag Cnt', 'Pkt Size Avg', 'Pkt Len Mean', 'Flow Pkts/s', 'Pkt Len Std', 'Pkt Len Max', 'Pkt Len Min', 'Bwd Pkts/s'], 'Normal sample 811': ['Init Bwd Win Byts', 'Fwd Pkt Len Max', 'Fwd Pkt Len Mean', 'Pkt Len Max', 'Pkt Len Mean', 'Fwd IAT Tot', 'Pkt Size Avg', 'ACK Flag Cnt', 'Fwd Pkt Len Std', 'Pkt Len Std'], 'Normal sample 812': ['SYN Flag Cnt', 'ACK Flag Cnt', 'FIN Flag Cnt', 'Pkt Size Avg', 'Pkt Len Max', 'Pkt Len Mean', 'Flow Pkts/s', 'Pkt Len Min', 'Bwd Pkts/s', 'Pkt Len Std'], 'Normal sample 813': ['Init Bwd Win Byts', 'Pkt Size Avg', 'Pkt Len Mean', 'Pkt Len Max', 'Fwd Pkt Len Max', 'Subflow Bwd Pkts', 'Bwd IAT Tot', 'Fwd Pkt Len Std', 'FIN Flag Cnt', 'Flow IAT Max'], 'Normal sample 814': ['SYN Flag Cnt', 'Fwd Pkt Len Max', 'Fwd Pkt Len Mean', 'Fwd Seg Size Avg', 'Fwd Pkt Len Std', 'Pkt Len Mean', 'Pkt Len Max', 'Pkt Size Avg', 'Bwd Pkts/s', 'FIN Flag Cnt'], 'Normal sample 815': ['Init Bwd Win Byts', 'SYN Flag Cnt', 'Down/Up Ratio', 'Flow IAT Max', 'FIN Flag Cnt', 'PSH Flag Cnt', 'Flow Pkts/s', 'Bwd IAT Max', 'Idle Mean', 'Flow IAT Std'], 'Normal sample 816': ['SYN Flag Cnt', 'FIN Flag Cnt', 'Flow Byts/s', 'Pkt Size Avg', 'ACK Flag Cnt', 'Pkt Len Mean', 'Pkt Len Min', 'Fwd Pkt Len Mean', 'Fwd Seg Size Avg', 'Fwd Pkt Len Min'], 'Normal sample 817': ['Init Bwd Win Byts', 'Pkt Len Mean', 'Pkt Size Avg', 'Bwd Pkts/s', 'Fwd Pkt Len Max', 'ACK Flag Cnt', 'Bwd IAT Tot', 'Fwd IAT Std', 'Pkt Len Std', 'Bwd IAT Std'], 'Normal sample 818': ['SYN Flag Cnt', 'ACK Flag Cnt', 'FIN Flag Cnt', 'Bwd Pkts/s', 'Flow Pkts/s', 'Pkt Size Avg', 'Pkt Len Mean', 'Pkt Len Max', 'Pkt Len Std', 'Pkt Len Min'], 'Normal sample 819': ['Init Bwd Win Byts', 'Fwd IAT Tot', 'SYN Flag Cnt', 'Fwd IAT Std', 'Bwd PSH Flags', 'Bwd Pkts/s', 'Bwd IAT Mean', 'Bwd IAT Max', 'Pkt Len Mean', 'Fwd Seg Size Avg'], 'Normal sample 820': ['Init Bwd Win Byts', 'Fwd Pkt Len Max', 'Fwd IAT Tot', 'FIN Flag Cnt', 'Fwd Pkt Len Std', 'Pkt Len Max', 'Pkt Len Std', 'Down/Up Ratio', 'Fwd IAT Std', 'Fwd Pkt Len Mean'], 'Normal sample 821': ['Init Bwd Win Byts', 'SYN Flag Cnt', 'Down/Up Ratio', 'URG Flag Cnt', 'Bwd URG Flags', 'Flow IAT Max', 'Idle Mean', 'Idle Max', 'Flow IAT Std', 'Flow IAT Mean'], 'Normal sample 822': ['SYN Flag Cnt', 'ACK Flag Cnt', 'FIN Flag Cnt', 'Bwd Pkts/s', 'Pkt Size Avg', 'Flow Pkts/s', 'Pkt Len Mean', 'Pkt Len Max', 'Bwd Pkt Len Min', 'Pkt Len Min'], 'Normal sample 823': ['SYN Flag Cnt', 'Fwd Pkt Len Max', 'Fwd Pkt Len Mean', 'Fwd Pkt Len Std', 'Fwd Seg Size Avg', 'Pkt Len Max', 'Pkt Len Mean', 'Pkt Size Avg', 'Bwd Pkts/s', 'Down/Up Ratio'], 'Normal sample 824': ['Init Bwd Win Byts', 'SYN Flag Cnt', 'Down/Up Ratio', 'FIN Flag Cnt', 'Flow IAT Max', 'Idle Min', 'Idle Max', 'PSH Flag Cnt', 'URG Flag Cnt', 'Idle Mean'], 'Normal sample 825': ['Init Bwd Win Byts', 'Fwd Pkt Len Max', 'Fwd Pkt Len Std', 'Pkt Len Max', 'Fwd IAT Tot', 'SYN Flag Cnt', 'Fwd Seg Size Avg', 'Fwd Pkt Len Mean', 'Pkt Len Std', 'Bwd PSH Flags'], 'Normal sample 826': ['Init Bwd Win Byts', 'Pkt Len Max', 'Fwd Pkt Len Max', 'Pkt Len Mean', 'ACK Flag Cnt', 'FIN Flag Cnt', 'Bwd IAT Tot', 'Pkt Size Avg', 'Bwd IAT Std', 'Bwd IAT Mean'], 'Normal sample 827': ['Init Bwd Win Byts', 'SYN Flag Cnt', 'Flow IAT Max', 'Idle Mean', 'URG Flag Cnt', 'Down/Up Ratio', 'PSH Flag Cnt', 'Bwd URG Flags', 'Idle Min', 'Idle Max'], 'Normal sample 828': ['Init Bwd Win Byts', 'Pkt Len Max', 'Pkt Len Mean', 'Pkt Size Avg', 'Pkt Len Std', 'ACK Flag Cnt', 'Fwd Pkt Len Max', 'Down/Up Ratio', 'Bwd IAT Std', 'Flow IAT Max'], 'Normal sample 829': ['Init Bwd Win Byts', 'SYN Flag Cnt', 'Down/Up Ratio', 'Bwd PSH Flags', 'Flow Pkts/s', 'Bwd Pkts/s', 'FIN Flag Cnt', 'PSH Flag Cnt', 'Pkt Size Avg', 'Bwd Pkt Len Std'], 'Normal sample 830': ['Init Bwd Win Byts', 'Fwd IAT Tot', 'Bwd IAT Tot', 'Pkt Len Max', 'Pkt Size Avg', 'Fwd IAT Std', 'Bwd Pkts/s', 'ACK Flag Cnt', 'Pkt Len Std', 'Fwd IAT Max'], 'Normal sample 831': ['Init Bwd Win Byts', 'FIN Flag Cnt', 'Fwd IAT Max', 'Fwd Pkt Len Max', 'Fwd IAT Std', 'Fwd IAT Tot', 'Pkt Len Max', 'Fwd Pkt Len Std', 'Fwd Pkt Len Mean', 'Bwd Pkts/s'], 'Normal sample 832': ['Init Bwd Win Byts', 'Pkt Len Max', 'Pkt Size Avg', 'Pkt Len Mean', 'Fwd Pkt Len Max', 'Pkt Len Std', 'Flow Pkts/s', 'Bwd IAT Tot', 'Fwd IAT Tot', 'Flow IAT Max'], 'Normal sample 833': ['Init Bwd Win Byts', 'Fwd IAT Tot', 'Fwd IAT Std', 'Bwd PSH Flags', 'Fwd Pkt Len Max', 'SYN Flag Cnt', 'Fwd Pkt Len Std', 'Pkt Size Avg', 'Pkt Len Mean', 'Pkt Len Std'], 'Normal sample 834': ['SYN Flag Cnt', 'Down/Up Ratio', 'Flow Pkts/s', 'FIN Flag Cnt', 'Fwd Pkt Len Max', 'Fwd Pkt Len Std', 'Bwd Pkts/s', 'Fwd Pkt Len Mean', 'Fwd Seg Size Avg', 'Pkt Len Std'], 'Normal sample 835': ['SYN Flag Cnt', 'ACK Flag Cnt', 'FIN Flag Cnt', 'Pkt Size Avg', 'Bwd Pkts/s', 'Flow Pkts/s', 'Pkt Len Mean', 'Pkt Len Max', 'Pkt Len Min', 'Pkt Len Std'], 'Normal sample 836': ['SYN Flag Cnt', 'FIN Flag Cnt', 'Pkt Size Avg', 'ACK Flag Cnt', 'Pkt Len Mean', 'Pkt Len Max', 'Pkt Len Std', 'Pkt Len Min', 'Flow Pkts/s', 'Bwd Pkt Len Min'], 'Normal sample 837': ['Init Bwd Win Byts', 'Fwd Pkt Len Max', 'Pkt Len Max', 'Pkt Size Avg', 'FIN Flag Cnt', 'Pkt Len Mean', 'Flow Pkts/s', 'Fwd Pkt Len Mean', 'Pkt Len Std', 'Fwd Pkt Len Std'], 'Normal sample 838': ['Init Bwd Win Byts', 'Fwd Pkt Len Max', 'Pkt Size Avg', 'Fwd Pkt Len Mean', 'Bwd IAT Tot', 'Bwd IAT Max', 'Pkt Len Std', 'Pkt Len Max', 'Fwd Pkt Len Std', 'Flow Pkts/s'], 'Normal sample 839': ['Init Bwd Win Byts', 'SYN Flag Cnt', 'Bwd Pkts/s', 'Flow Pkts/s', 'Bwd PSH Flags', 'Down/Up Ratio', 'Bwd Pkt Len Min', 'FIN Flag Cnt', 'Pkt Size Avg', 'Pkt Len Max'], 'Normal sample 840': ['SYN Flag Cnt', 'ACK Flag Cnt', 'FIN Flag Cnt', 'Bwd Pkts/s', 'Pkt Size Avg', 'Flow Pkts/s', 'Pkt Len Max', 'Pkt Len Mean', 'Pkt Len Min', 'Pkt Len Std'], 'Normal sample 841': ['SYN Flag Cnt', 'ACK Flag Cnt', 'FIN Flag Cnt', 'Bwd Pkts/s', 'Pkt Len Max', 'Pkt Size Avg', 'Pkt Len Std', 'Flow Pkts/s', 'Bwd IAT Max', 'Pkt Len Mean'], 'Normal sample 842': ['Init Bwd Win Byts', 'SYN Flag Cnt', 'Down/Up Ratio', 'FIN Flag Cnt', 'Idle Max', 'Flow IAT Max', 'Flow Pkts/s', 'Idle Mean', 'URG Flag Cnt', 'Bwd IAT Std'], 'Normal sample 843': ['Init Bwd Win Byts', 'Fwd IAT Tot', 'SYN Flag Cnt', 'Fwd IAT Std', 'Fwd Pkt Len Max', 'Bwd Pkts/s', 'Bwd IAT Mean', 'Fwd IAT Max', 'FIN Flag Cnt', 'Pkt Len Mean'], 'Normal sample 844': ['PSH Flag Cnt', 'Down/Up Ratio', 'SYN Flag Cnt', 'Bwd PSH Flags', 'Pkt Size Avg', 'Bwd IAT Tot', 'Subflow Fwd Pkts', 'Fwd Seg Size Avg', 'Pkt Len Std', 'Bwd IAT Std'], 'Normal sample 845': ['Init Bwd Win Byts', 'Fwd IAT Tot', 'Fwd IAT Std', 'Bwd PSH Flags', 'SYN Flag Cnt', 'Bwd Pkts/s', 'Down/Up Ratio', 'Bwd IAT Tot', 'Bwd IAT Max', 'Subflow Bwd Pkts'], 'Normal sample 846': ['Init Bwd Win Byts', 'SYN Flag Cnt', 'Idle Max', 'PSH Flag Cnt', 'Bwd IAT Std', 'ACK Flag Cnt', 'Flow IAT Std', 'Down/Up Ratio', 'Flow IAT Max', 'Idle Mean'], 'Normal sample 847': ['SYN Flag Cnt', 'ACK Flag Cnt', 'FIN Flag Cnt', 'Bwd Pkts/s', 'Flow Pkts/s', 'Pkt Size Avg', 'Pkt Len Max', 'Pkt Len Mean', 'Pkt Len Std', 'Pkt Len Min'], 'Normal sample 848': ['Init Bwd Win Byts', 'SYN Flag Cnt', 'Down/Up Ratio', 'URG Flag Cnt', 'PSH Flag Cnt', 'Flow IAT Max', 'Idle Max', 'Pkt Len Var', 'Idle Mean', 'Idle Min'], 'Normal sample 849': ['Init Bwd Win Byts', 'SYN Flag Cnt', 'Idle Max', 'Down/Up Ratio', 'Bwd IAT Max', 'URG Flag Cnt', 'Bwd IAT Std', 'Flow IAT Max', 'TotLen Fwd Pkts', 'Idle Min'], 'Normal sample 850': ['Init Bwd Win Byts', 'Pkt Len Max', 'Fwd IAT Max', 'Pkt Len Mean', 'Pkt Size Avg', 'ACK Flag Cnt', 'Fwd Pkt Len Max', 'Fwd IAT Tot', 'Flow IAT Max', 'Fwd IAT Std'], 'Normal sample 851': ['Init Bwd Win Byts', 'Fwd IAT Tot', 'Fwd Pkt Len Max', 'SYN Flag Cnt', 'Pkt Len Max', 'Down/Up Ratio', 'Fwd Pkt Len Std', 'FIN Flag Cnt', 'Fwd Seg Size Avg', 'Pkt Len Std'], 'Normal sample 852': ['SYN Flag Cnt', 'ACK Flag Cnt', 'FIN Flag Cnt', 'Bwd Pkts/s', 'Flow Pkts/s', 'Pkt Size Avg', 'Pkt Len Mean', 'Pkt Len Max', 'Pkt Len Min', 'Pkt Len Std'], 'Normal sample 853': ['SYN Flag Cnt', 'FIN Flag Cnt', 'ACK Flag Cnt', 'Pkt Len Max', 'Pkt Size Avg', 'Bwd Pkts/s', 'Pkt Len Std', 'Pkt Len Mean', 'Flow Pkts/s', 'Pkt Len Min'], 'Normal sample 854': ['SYN Flag Cnt', 'ACK Flag Cnt', 'FIN Flag Cnt', 'Pkt Size Avg', 'Pkt Len Mean', 'Pkt Len Max', 'Flow Pkts/s', 'Pkt Len Std', 'Pkt Len Min', 'Bwd Pkts/s'], 'Normal sample 855': ['SYN Flag Cnt', 'ACK Flag Cnt', 'FIN Flag Cnt', 'Pkt Size Avg', 'Flow Pkts/s', 'Pkt Len Max', 'Pkt Len Mean', 'Bwd Pkts/s', 'Pkt Len Std', 'Pkt Len Min'], 'Normal sample 856': ['SYN Flag Cnt', 'FIN Flag Cnt', 'ACK Flag Cnt', 'Pkt Size Avg', 'Pkt Len Mean', 'Pkt Len Max', 'Flow Pkts/s', 'Pkt Len Min', 'Bwd Pkts/s', 'Pkt Len Std'], 'Normal sample 857': ['SYN Flag Cnt', 'Fwd Pkt Len Max', 'Fwd Pkt Len Mean', 'Fwd Seg Size Avg', 'Fwd Pkt Len Std', 'Pkt Len Max', 'Pkt Len Mean', 'Pkt Size Avg', 'Pkt Len Std', 'FIN Flag Cnt'], 'Normal sample 858': ['SYN Flag Cnt', 'FIN Flag Cnt', 'ACK Flag Cnt', 'Pkt Size Avg', 'Pkt Len Max', 'Flow Pkts/s', 'Pkt Len Mean', 'Pkt Len Std', 'Bwd Pkts/s', 'Pkt Len Min'], 'Normal sample 859': ['SYN Flag Cnt', 'ACK Flag Cnt', 'FIN Flag Cnt', 'Pkt Size Avg', 'Pkt Len Mean', 'Pkt Len Max', 'Bwd Pkts/s', 'Flow Pkts/s', 'Pkt Len Std', 'Pkt Len Min'], 'Normal sample 860': ['SYN Flag Cnt', 'FIN Flag Cnt', 'ACK Flag Cnt', 'Pkt Size Avg', 'Bwd Pkts/s', 'Pkt Len Mean', 'Pkt Len Min', 'Flow Pkts/s', 'Pkt Len Max', 'Pkt Len Std'], 'Normal sample 861': ['Init Bwd Win Byts', 'FIN Flag Cnt', 'Bwd IAT Max', 'Fwd IAT Std', 'Pkt Len Max', 'Fwd Pkt Len Max', 'Fwd Seg Size Avg', 'Fwd IAT Max', 'Fwd IAT Tot', 'Fwd Pkt Len Std'], 'Normal sample 862': ['SYN Flag Cnt', 'FIN Flag Cnt', 'ACK Flag Cnt', 'Pkt Size Avg', 'Pkt Len Mean', 'Pkt Len Max', 'Flow Pkts/s', 'Pkt Len Std', 'Bwd Pkts/s', 'Pkt Len Min'], 'Normal sample 863': ['Init Bwd Win Byts', 'SYN Flag Cnt', 'Down/Up Ratio', 'FIN Flag Cnt', 'Flow IAT Max', 'URG Flag Cnt', 'Flow Pkts/s', 'Idle Mean', 'Idle Min', 'Idle Max'], 'Normal sample 864': ['SYN Flag Cnt', 'ACK Flag Cnt', 'FIN Flag Cnt', 'Pkt Size Avg', 'Pkt Len Mean', 'Flow Pkts/s', 'Bwd Pkts/s', 'Pkt Len Std', 'Pkt Len Min', 'Pkt Len Max'], 'Normal sample 865': ['Init Bwd Win Byts', 'SYN Flag Cnt', 'FIN Flag Cnt', 'Flow Pkts/s', 'Fwd Pkt Len Mean', 'Fwd Seg Size Avg', 'Fwd Pkt Len Std', 'Fwd Pkt Len Max', 'Pkt Len Max', 'Pkt Size Avg'], 'Normal sample 866': ['Init Bwd Win Byts', 'SYN Flag Cnt', 'Down/Up Ratio', 'Bwd Pkts/s', 'Flow Pkts/s', 'FIN Flag Cnt', 'Pkt Size Avg', 'Idle Max', 'Fwd Pkt Len Std', 'Bwd IAT Mean'], 'Normal sample 867': ['Init Bwd Win Byts', 'Fwd IAT Std', 'Fwd IAT Tot', 'Pkt Len Max', 'Fwd IAT Max', 'Fwd Pkt Len Max', 'Bwd IAT Tot', 'ACK Flag Cnt', 'Down/Up Ratio', 'Bwd Pkts/s'], 'Normal sample 868': ['SYN Flag Cnt', 'FIN Flag Cnt', 'Flow Pkts/s', 'Pkt Size Avg', 'Pkt Len Mean', 'Bwd Pkts/s', 'Pkt Len Max', 'Pkt Len Std', 'Bwd Pkt Len Min', 'Pkt Len Min'], 'Normal sample 869': ['SYN Flag Cnt', 'Flow Pkts/s', 'Bwd Pkts/s', 'Down/Up Ratio', 'FIN Flag Cnt', 'Fwd Pkt Len Max', 'Fwd Pkt Len Std', 'Pkt Len Std', 'Pkt Len Max', 'Flow Duration'], 'Normal sample 870': ['SYN Flag Cnt', 'ACK Flag Cnt', 'FIN Flag Cnt', 'Pkt Size Avg', 'Pkt Len Mean', 'Flow Pkts/s', 'Bwd Pkts/s', 'Pkt Len Std', 'Pkt Len Max', 'Pkt Len Min'], 'Normal sample 871': ['Init Bwd Win Byts', 'FIN Flag Cnt', 'ACK Flag Cnt', 'Fwd Pkt Len Max', 'Fwd Pkt Len Std', 'Fwd IAT Tot', 'Fwd IAT Max', 'Pkt Size Avg', 'Pkt Len Std', 'Fwd IAT Std'], 'Normal sample 872': ['SYN Flag Cnt', 'ACK Flag Cnt', 'FIN Flag Cnt', 'Bwd Pkts/s', 'Pkt Size Avg', 'Flow Pkts/s', 'Pkt Len Mean', 'Pkt Len Max', 'Pkt Len Min', 'Pkt Len Std'], 'Normal sample 873': ['SYN Flag Cnt', 'FIN Flag Cnt', 'ACK Flag Cnt', 'Pkt Size Avg', 'Pkt Len Max', 'Pkt Len Min', 'Bwd Pkts/s', 'Pkt Len Mean', 'Flow Pkts/s', 'Pkt Len Std'], 'Normal sample 874': ['SYN Flag Cnt', 'Flow Pkts/s', 'Bwd Pkts/s', 'Down/Up Ratio', 'FIN Flag Cnt', 'Fwd Pkt Len Max', 'Pkt Len Max', 'Fwd Pkt Len Std', 'Flow Duration', 'Fwd Seg Size Avg'], 'Normal sample 875': ['SYN Flag Cnt', 'FIN Flag Cnt', 'Pkt Size Avg', 'Bwd Pkt Len Min', 'Pkt Len Mean', 'Flow Byts/s', 'Pkt Len Max', 'Pkt Len Min', 'ACK Flag Cnt', 'Pkt Len Std'], 'Normal sample 876': ['SYN Flag Cnt', 'FIN Flag Cnt', 'ACK Flag Cnt', 'Pkt Size Avg', 'Pkt Len Min', 'Bwd Pkts/s', 'Pkt Len Mean', 'Pkt Len Max', 'Flow Pkts/s', 'Pkt Len Std'], 'Normal sample 877': ['Init Bwd Win Byts', 'SYN Flag Cnt', 'Idle Max', 'Flow IAT Max', 'Bwd URG Flags', 'Bwd IAT Max', 'Down/Up Ratio', 'URG Flag Cnt', 'Bwd IAT Tot', 'Idle Min'], 'Normal sample 878': ['SYN Flag Cnt', 'ACK Flag Cnt', 'FIN Flag Cnt', 'Pkt Size Avg', 'Pkt Len Max', 'Pkt Len Min', 'Bwd Pkts/s', 'Flow Pkts/s', 'Pkt Len Std', 'Pkt Len Mean'], 'Normal sample 879': ['SYN Flag Cnt', 'ACK Flag Cnt', 'FIN Flag Cnt', 'Pkt Size Avg', 'Pkt Len Max', 'Flow Pkts/s', 'Pkt Len Min', 'Pkt Len Mean', 'Pkt Len Std', 'Bwd Pkt Len Min'], 'Normal sample 880': ['SYN Flag Cnt', 'FIN Flag Cnt', 'ACK Flag Cnt', 'Pkt Size Avg', 'Bwd Pkts/s', 'Flow Pkts/s', 'Pkt Len Max', 'Pkt Len Min', 'Pkt Len Mean', 'Pkt Len Std'], 'Normal sample 881': ['Fwd Pkt Len Max', 'Flow Byts/s', 'Fwd Pkt Len Std', 'Fwd Seg Size Avg', 'Fwd Pkt Len Mean', 'SYN Flag Cnt', 'Pkt Len Max', 'Pkt Len Mean', 'Pkt Size Avg', 'Pkt Len Std'], 'Normal sample 882': ['SYN Flag Cnt', 'FIN Flag Cnt', 'Pkt Size Avg', 'Pkt Len Min', 'ACK Flag Cnt', 'Fwd Pkt Len Mean', 'Pkt Len Mean', 'Fwd Seg Size Avg', 'Flow Pkts/s', 'Fwd Pkt Len Min'], 'Normal sample 883': ['SYN Flag Cnt', 'ACK Flag Cnt', 'FIN Flag Cnt', 'Pkt Size Avg', 'Flow Pkts/s', 'Pkt Len Max', 'Pkt Len Mean', 'Pkt Len Std', 'Bwd Pkts/s', 'Pkt Len Min'], 'Normal sample 884': ['SYN Flag Cnt', 'FIN Flag Cnt', 'Pkt Size Avg', 'ACK Flag Cnt', 'Pkt Len Min', 'Pkt Len Mean', 'Flow Byts/s', 'Fwd Pkt Len Mean', 'Fwd Seg Size Avg', 'Fwd Pkt Len Min'], 'Normal sample 885': ['Init Bwd Win Byts', 'SYN Flag Cnt', 'Flow Pkts/s', 'FIN Flag Cnt', 'Bwd Pkts/s', 'Down/Up Ratio', 'Fwd Pkt Len Max', 'Fwd Seg Size Avg', 'Fwd Pkt Len Std', 'Pkt Size Avg'], 'Normal sample 886': ['Init Bwd Win Byts', 'Pkt Len Max', 'Pkt Len Std', 'Pkt Len Mean', 'Pkt Size Avg', 'Fwd Pkt Len Max', 'Flow IAT Max', 'ACK Flag Cnt', 'Fwd IAT Max', 'Bwd IAT Std'], 'Normal sample 887': ['Init Bwd Win Byts', 'SYN Flag Cnt', 'FIN Flag Cnt', 'Down/Up Ratio', 'Flow IAT Max', 'Flow Pkts/s', 'URG Flag Cnt', 'Idle Mean', 'Idle Min', 'Bwd IAT Std'], 'Normal sample 888': ['Init Bwd Win Byts', 'SYN Flag Cnt', 'Flow Pkts/s', 'FIN Flag Cnt', 'Bwd Pkts/s', 'Bwd Pkt Len Min', 'Pkt Size Avg', 'Fwd Pkt Len Max', 'Pkt Len Mean', 'Subflow Fwd Byts'], 'Normal sample 889': ['SYN Flag Cnt', 'FIN Flag Cnt', 'ACK Flag Cnt', 'Pkt Size Avg', 'Pkt Len Mean', 'Pkt Len Min', 'Bwd Pkts/s', 'Pkt Len Max', 'Pkt Len Std', 'Flow Pkts/s'], 'Normal sample 890': ['Init Bwd Win Byts', 'SYN Flag Cnt', 'Flow Pkts/s', 'FIN Flag Cnt', 'Bwd Pkts/s', 'Down/Up Ratio', 'Pkt Size Avg', 'Fwd Seg Size Avg', 'Fwd Pkt Len Max', 'Flow IAT Max'], 'Normal sample 891': ['SYN Flag Cnt', 'ACK Flag Cnt', 'FIN Flag Cnt', 'Pkt Size Avg', 'Pkt Len Mean', 'Flow Pkts/s', 'Pkt Len Min', 'Pkt Len Max', 'Bwd Pkts/s', 'Pkt Len Std'], 'Normal sample 892': ['SYN Flag Cnt', 'ACK Flag Cnt', 'FIN Flag Cnt', 'Pkt Size Avg', 'Bwd Pkts/s', 'Flow Pkts/s', 'Pkt Len Mean', 'Pkt Len Max', 'Pkt Len Std', 'Pkt Len Min'], 'Normal sample 893': ['SYN Flag Cnt', 'FIN Flag Cnt', 'Pkt Size Avg', 'ACK Flag Cnt', 'Pkt Len Mean', 'Pkt Len Min', 'Flow Pkts/s', 'Pkt Len Max', 'Bwd Pkts/s', 'Pkt Len Std'], 'Normal sample 894': ['Init Bwd Win Byts', 'Pkt Len Max', 'Pkt Size Avg', 'Pkt Len Mean', 'Pkt Len Std', 'Fwd IAT Tot', 'Fwd Pkt Len Max', 'Bwd Header Len', 'ACK Flag Cnt', 'Down/Up Ratio'], 'Normal sample 895': ['Init Bwd Win Byts', 'Fwd Pkt Len Max', 'FIN Flag Cnt', 'Fwd IAT Max', 'Fwd Pkt Len Std', 'Fwd IAT Std', 'Fwd IAT Tot', 'Fwd Seg Size Avg', 'ACK Flag Cnt', 'Pkt Len Max'], 'Normal sample 896': ['SYN Flag Cnt', 'ACK Flag Cnt', 'FIN Flag Cnt', 'Pkt Size Avg', 'Flow Pkts/s', 'Bwd Pkts/s', 'Pkt Len Max', 'Pkt Len Mean', 'Pkt Len Std', 'Pkt Len Min'], 'Normal sample 897': ['SYN Flag Cnt', 'Fwd Pkt Len Max', 'Fwd Pkt Len Mean', 'Fwd Seg Size Avg', 'Fwd Pkt Len Std', 'Pkt Len Max', 'Pkt Len Mean', 'Pkt Size Avg', 'Pkt Len Std', 'Bwd Pkts/s'], 'Normal sample 898': ['SYN Flag Cnt', 'FIN Flag Cnt', 'ACK Flag Cnt', 'Pkt Len Min', 'Fwd Pkt Len Mean', 'Pkt Size Avg', 'Pkt Len Mean', 'Fwd Seg Size Avg', 'Bwd Pkts/s', 'Fwd IAT Tot'], 'Normal sample 899': ['SYN Flag Cnt', 'FIN Flag Cnt', 'Pkt Size Avg', 'Pkt Len Mean', 'ACK Flag Cnt', 'Flow Pkts/s', 'Fwd Seg Size Avg', 'Fwd Pkt Len Mean', 'Pkt Len Min', 'Fwd Pkt Len Min'], 'Normal sample 900': ['SYN Flag Cnt', 'ACK Flag Cnt', 'FIN Flag Cnt', 'Pkt Size Avg', 'Flow Pkts/s', 'Pkt Len Max', 'Pkt Len Std', 'Bwd Pkts/s', 'Pkt Len Mean', 'Pkt Len Min'], 'Normal sample 901': ['Init Bwd Win Byts', 'Pkt Len Max', 'Pkt Size Avg', 'Pkt Len Mean', 'Fwd IAT Tot', 'Fwd IAT Std', 'Down/Up Ratio', 'Pkt Len Std', 'ACK Flag Cnt', 'Fwd Pkt Len Max'], 'Normal sample 902': ['Init Bwd Win Byts', 'SYN Flag Cnt', 'FIN Flag Cnt', 'Down/Up Ratio', 'Flow IAT Max', 'Idle Max', 'Idle Mean', 'Flow Pkts/s', 'PSH Flag Cnt', 'Bwd IAT Std'], 'Normal sample 903': ['Init Bwd Win Byts', 'SYN Flag Cnt', 'Bwd Pkt Len Min', 'Flow Byts/s', 'FIN Flag Cnt', 'Down/Up Ratio', 'Pkt Size Avg', 'Bwd Pkt Len Std', 'Bwd Header Len', 'Bwd IAT Max'], 'Normal sample 904': ['SYN Flag Cnt', 'FIN Flag Cnt', 'ACK Flag Cnt', 'Pkt Size Avg', 'Bwd Pkts/s', 'Pkt Len Mean', 'Pkt Len Min', 'Flow Pkts/s', 'Pkt Len Std', 'Pkt Len Max'], 'Normal sample 905': ['Init Bwd Win Byts', 'Pkt Len Max', 'Pkt Size Avg', 'Pkt Len Mean', 'FIN Flag Cnt', 'Fwd Pkt Len Max', 'Down/Up Ratio', 'Fwd Pkt Len Mean', 'Pkt Len Std', 'Fwd Pkt Len Std'], 'Normal sample 906': ['SYN Flag Cnt', 'FIN Flag Cnt', 'ACK Flag Cnt', 'Pkt Size Avg', 'Pkt Len Mean', 'Flow Pkts/s', 'Pkt Len Max', 'Pkt Len Std', 'Bwd Pkts/s', 'Bwd Pkt Len Min'], 'Normal sample 907': ['SYN Flag Cnt', 'FIN Flag Cnt', 'ACK Flag Cnt', 'Pkt Size Avg', 'Pkt Len Mean', 'Flow Pkts/s', 'Pkt Len Max', 'Pkt Len Min', 'Pkt Len Std', 'Bwd Pkts/s'], 'Normal sample 908': ['Init Bwd Win Byts', 'SYN Flag Cnt', 'Down/Up Ratio', 'Bwd Pkts/s', 'Flow Pkts/s', 'FIN Flag Cnt', 'Pkt Size Avg', 'Fwd Seg Size Avg', 'Pkt Len Std', 'Fwd Act Data Pkts'], 'Normal sample 909': ['SYN Flag Cnt', 'ACK Flag Cnt', 'FIN Flag Cnt', 'Pkt Size Avg', 'Pkt Len Mean', 'Flow Pkts/s', 'Pkt Len Max', 'Pkt Len Std', 'Bwd Pkts/s', 'Pkt Len Min'], 'Normal sample 910': ['SYN Flag Cnt', 'ACK Flag Cnt', 'FIN Flag Cnt', 'Pkt Size Avg', 'Flow Pkts/s', 'Pkt Len Mean', 'Bwd Pkts/s', 'Pkt Len Max', 'Pkt Len Min', 'Pkt Len Std'], 'Normal sample 911': ['SYN Flag Cnt', 'ACK Flag Cnt', 'FIN Flag Cnt', 'Pkt Size Avg', 'Bwd Pkts/s', 'Flow Pkts/s', 'Pkt Len Mean', 'Pkt Len Max', 'Pkt Len Min', 'Pkt Len Std'], 'Normal sample 912': ['Init Bwd Win Byts', 'SYN Flag Cnt', 'Fwd Pkt Len Max', 'Fwd Pkt Len Mean', 'Flow Pkts/s', 'Fwd Seg Size Avg', 'Fwd Pkt Len Std', 'Bwd Pkts/s', 'Down/Up Ratio', 'FIN Flag Cnt'], 'Normal sample 913': ['SYN Flag Cnt', 'FIN Flag Cnt', 'ACK Flag Cnt', 'Pkt Size Avg', 'Pkt Len Mean', 'Pkt Len Min', 'Flow Pkts/s', 'Pkt Len Max', 'Bwd Pkts/s', 'Pkt Len Std'], 'Normal sample 914': ['Init Bwd Win Byts', 'SYN Flag Cnt', 'Down/Up Ratio', 'FIN Flag Cnt', 'Flow Pkts/s', 'Flow IAT Max', 'Idle Mean', 'Bwd IAT Std', 'PSH Flag Cnt', 'Idle Max'], 'Normal sample 915': ['SYN Flag Cnt', 'ACK Flag Cnt', 'FIN Flag Cnt', 'Bwd Pkts/s', 'Flow Pkts/s', 'Pkt Size Avg', 'Pkt Len Mean', 'Pkt Len Max', 'Pkt Len Std', 'Pkt Len Min'], 'Normal sample 916': ['Init Bwd Win Byts', 'Fwd Pkt Len Max', 'Fwd IAT Tot', 'Fwd IAT Max', 'FIN Flag Cnt', 'Fwd Pkt Len Mean', 'Fwd IAT Std', 'Fwd Pkt Len Std', 'Pkt Len Max', 'Fwd Seg Size Avg'], 'Normal sample 917': ['Init Bwd Win Byts', 'Fwd Pkt Len Max', 'Pkt Len Max', 'Bwd IAT Tot', 'FIN Flag Cnt', 'Bwd IAT Max', 'ACK Flag Cnt', 'Bwd Pkts/s', 'Pkt Size Avg', 'Bwd IAT Std'], 'Normal sample 918': ['Init Bwd Win Byts', 'SYN Flag Cnt', 'Down/Up Ratio', 'FIN Flag Cnt', 'PSH Flag Cnt', 'Bwd IAT Std', 'URG Flag Cnt', 'Idle Min', 'Idle Max', 'Flow IAT Max'], 'Normal sample 919': ['SYN Flag Cnt', 'ACK Flag Cnt', 'FIN Flag Cnt', 'Bwd Pkts/s', 'Flow Pkts/s', 'Pkt Size Avg', 'Pkt Len Mean', 'Pkt Len Min', 'Pkt Len Max', 'Pkt Len Std'], 'Normal sample 920': ['SYN Flag Cnt', 'FIN Flag Cnt', 'ACK Flag Cnt', 'Pkt Size Avg', 'Pkt Len Max', 'Pkt Len Mean', 'Flow Pkts/s', 'Bwd Pkts/s', 'Pkt Len Min', 'Pkt Len Std'], 'Normal sample 921': ['Init Bwd Win Byts', 'SYN Flag Cnt', 'Bwd Pkts/s', 'Flow Pkts/s', 'FIN Flag Cnt', 'Bwd Pkt Len Min', 'Down/Up Ratio', 'Pkt Len Mean', 'Pkt Size Avg', 'Idle Mean'], 'Normal sample 922': ['SYN Flag Cnt', 'FIN Flag Cnt', 'ACK Flag Cnt', 'Pkt Size Avg', 'Pkt Len Mean', 'Pkt Len Min', 'Pkt Len Max', 'Flow Pkts/s', 'Pkt Len Std', 'Bwd Pkts/s'], 'Normal sample 923': ['Init Bwd Win Byts', 'Pkt Size Avg', 'Pkt Len Max', 'Pkt Len Mean', 'Fwd Pkt Len Max', 'FIN Flag Cnt', 'Fwd IAT Max', 'ACK Flag Cnt', 'Bwd IAT Tot', 'Fwd IAT Tot'], 'Normal sample 924': ['Init Bwd Win Byts', 'ACK Flag Cnt', 'Fwd Pkt Len Max', 'Fwd IAT Tot', 'Pkt Len Max', 'Bwd IAT Tot', 'Fwd IAT Std', 'Fwd Pkt Len Mean', 'Pkt Size Avg', 'Fwd IAT Max'], 'Normal sample 925': ['Init Bwd Win Byts', 'SYN Flag Cnt', 'Down/Up Ratio', 'URG Flag Cnt', 'Flow IAT Max', 'Bwd IAT Max', 'Flow IAT Std', 'Idle Mean', 'Bwd IAT Tot', 'PSH Flag Cnt'], 'Normal sample 926': ['SYN Flag Cnt', 'ACK Flag Cnt', 'FIN Flag Cnt', 'Bwd Pkts/s', 'Pkt Size Avg', 'Flow Pkts/s', 'Pkt Len Mean', 'Pkt Len Max', 'Pkt Len Std', 'Pkt Len Min'], 'Normal sample 927': ['Init Bwd Win Byts', 'FIN Flag Cnt', 'Fwd IAT Max', 'Fwd IAT Std', 'Fwd Pkt Len Max', 'Fwd Pkt Len Mean', 'Pkt Len Max', 'Fwd Pkt Len Std', 'Fwd IAT Tot', 'Flow Pkts/s'], 'Normal sample 928': ['Init Bwd Win Byts', 'SYN Flag Cnt', 'Bwd Pkt Len Min', 'Pkt Size Avg', 'Down/Up Ratio', 'FIN Flag Cnt', 'Flow Byts/s', 'Idle Min', 'Pkt Len Max', 'Bwd IAT Max'], 'Normal sample 929': ['SYN Flag Cnt', 'FIN Flag Cnt', 'ACK Flag Cnt', 'Pkt Size Avg', 'Pkt Len Max', 'Pkt Len Mean', 'Flow Pkts/s', 'Pkt Len Min', 'Pkt Len Std', 'Bwd Pkts/s'], 'Normal sample 930': ['Init Bwd Win Byts', 'Fwd IAT Tot', 'SYN Flag Cnt', 'Bwd PSH Flags', 'Bwd Pkts/s', 'Bwd Pkt Len Min', 'Down/Up Ratio', 'Bwd IAT Tot', 'Fwd IAT Max', 'Bwd Pkt Len Std'], 'Normal sample 931': ['SYN Flag Cnt', 'FIN Flag Cnt', 'ACK Flag Cnt', 'Pkt Size Avg', 'Pkt Len Mean', 'Pkt Len Max', 'Flow Pkts/s', 'Pkt Len Std', 'Bwd Pkts/s', 'Pkt Len Min'], 'Normal sample 932': ['SYN Flag Cnt', 'ACK Flag Cnt', 'FIN Flag Cnt', 'Pkt Size Avg', 'Bwd Pkts/s', 'Flow Pkts/s', 'Pkt Len Mean', 'Pkt Len Max', 'Pkt Len Min', 'Pkt Len Std'], 'Normal sample 933': ['Init Bwd Win Byts', 'Fwd Pkt Len Mean', 'Fwd Pkt Len Max', 'Fwd Seg Size Avg', 'Pkt Len Mean', 'Fwd Pkt Len Std', 'Pkt Len Max', 'FIN Flag Cnt', 'Pkt Size Avg', 'ACK Flag Cnt'], 'Normal sample 934': ['Init Bwd Win Byts', 'Fwd IAT Tot', 'SYN Flag Cnt', 'Fwd Pkt Len Max', 'Fwd Pkt Len Std', 'Bwd IAT Tot', 'Fwd IAT Std', 'Pkt Len Std', 'Fwd Seg Size Avg', 'Fwd IAT Max'], 'Normal sample 935': ['SYN Flag Cnt', 'ACK Flag Cnt', 'FIN Flag Cnt', 'Bwd Pkts/s', 'Pkt Size Avg', 'Pkt Len Mean', 'Flow Pkts/s', 'Pkt Len Max', 'Pkt Len Min', 'Pkt Len Std'], 'Normal sample 936': ['SYN Flag Cnt', 'FIN Flag Cnt', 'Pkt Size Avg', 'Pkt Len Min', 'Pkt Len Mean', 'ACK Flag Cnt', 'Pkt Len Max', 'Fwd Pkt Len Min', 'Flow Pkts/s', 'Fwd Seg Size Avg'], 'Normal sample 937': ['SYN Flag Cnt', 'ACK Flag Cnt', 'FIN Flag Cnt', 'Bwd Pkts/s', 'Flow Pkts/s', 'Pkt Size Avg', 'Pkt Len Min', 'Pkt Len Mean', 'Pkt Len Max', 'Pkt Len Std'], 'Normal sample 938': ['SYN Flag Cnt', 'ACK Flag Cnt', 'FIN Flag Cnt', 'Flow Pkts/s', 'Pkt Size Avg', 'Pkt Len Max', 'Pkt Len Mean', 'Bwd Pkts/s', 'Pkt Len Std', 'Pkt Len Min'], 'Normal sample 939': ['SYN Flag Cnt', 'FIN Flag Cnt', 'Pkt Size Avg', 'Flow Byts/s', 'Pkt Len Mean', 'ACK Flag Cnt', 'Pkt Len Min', 'Fwd Pkt Len Mean', 'Fwd Pkt Len Min', 'Fwd Seg Size Avg'], 'Normal sample 940': ['Init Bwd Win Byts', 'Fwd Pkt Len Max', 'Fwd IAT Tot', 'Pkt Len Max', 'Pkt Len Mean', 'SYN Flag Cnt', 'Pkt Len Std', 'Pkt Size Avg', 'Fwd Pkt Len Std', 'Bwd PSH Flags'], 'Normal sample 941': ['Init Bwd Win Byts', 'Fwd IAT Tot', 'Bwd PSH Flags', 'Fwd IAT Std', 'SYN Flag Cnt', 'Down/Up Ratio', 'Bwd Pkts/s', 'Bwd URG Flags', 'Bwd IAT Tot', 'PSH Flag Cnt'], 'Normal sample 942': ['Init Bwd Win Byts', 'SYN Flag Cnt', 'Bwd Pkt Len Min', 'Pkt Len Mean', 'Fwd IAT Std', 'Pkt Size Avg', 'Bwd Pkt Len Mean', 'Pkt Len Max', 'Fwd Pkt Len Min', 'Flow IAT Max'], 'Normal sample 943': ['SYN Flag Cnt', 'ACK Flag Cnt', 'FIN Flag Cnt', 'Pkt Size Avg', 'Flow Pkts/s', 'Pkt Len Mean', 'Bwd Pkts/s', 'Pkt Len Max', 'Pkt Len Min', 'Pkt Len Std'], 'Normal sample 944': ['Init Bwd Win Byts', 'Fwd Pkt Len Max', 'Pkt Len Max', 'Fwd Pkt Len Mean', 'FIN Flag Cnt', 'Flow Pkts/s', 'Fwd Pkt Len Std', 'Fwd Seg Size Avg', 'Pkt Size Avg', 'Pkt Len Mean'], 'Normal sample 945': ['SYN Flag Cnt', 'ACK Flag Cnt', 'FIN Flag Cnt', 'Pkt Size Avg', 'Bwd Pkts/s', 'Flow Pkts/s', 'Pkt Len Mean', 'Pkt Len Max', 'Pkt Len Min', 'Pkt Len Std'], 'Normal sample 946': ['SYN Flag Cnt', 'ACK Flag Cnt', 'FIN Flag Cnt', 'Pkt Size Avg', 'Pkt Len Max', 'Flow Pkts/s', 'Pkt Len Mean', 'Bwd Pkts/s', 'Pkt Len Min', 'Pkt Len Std'], 'Normal sample 947': ['SYN Flag Cnt', 'FIN Flag Cnt', 'ACK Flag Cnt', 'Pkt Size Avg', 'Pkt Len Max', 'Pkt Len Mean', 'Pkt Len Std', 'Bwd Pkts/s', 'Flow Pkts/s', 'Pkt Len Min'], 'Normal sample 948': ['SYN Flag Cnt', 'FIN Flag Cnt', 'Flow Byts/s', 'Fwd Pkt Len Mean', 'Fwd Seg Size Avg', 'Pkt Size Avg', 'Pkt Len Min', 'Pkt Len Mean', 'Down/Up Ratio', 'Fwd Pkt Len Min'], 'Normal sample 949': ['SYN Flag Cnt', 'FIN Flag Cnt', 'ACK Flag Cnt', 'Pkt Size Avg', 'Pkt Len Mean', 'Pkt Len Std', 'Pkt Len Max', 'Flow Pkts/s', 'Bwd Pkts/s', 'Pkt Len Min'], 'Normal sample 950': ['Fwd Pkt Len Max', 'SYN Flag Cnt', 'Fwd Pkt Len Mean', 'Fwd Seg Size Avg', 'Fwd Pkt Len Std', 'Pkt Len Mean', 'Pkt Size Avg', 'Bwd PSH Flags', 'Pkt Len Max', 'Down/Up Ratio'], 'Normal sample 951': ['SYN Flag Cnt', 'FIN Flag Cnt', 'ACK Flag Cnt', 'Pkt Size Avg', 'Pkt Len Mean', 'Bwd Pkts/s', 'Pkt Len Max', 'Flow Pkts/s', 'Pkt Len Min', 'Pkt Len Std'], 'Normal sample 952': ['SYN Flag Cnt', 'ACK Flag Cnt', 'FIN Flag Cnt', 'Pkt Size Avg', 'Pkt Len Mean', 'Pkt Len Min', 'Flow Pkts/s', 'Bwd Pkts/s', 'Pkt Len Max', 'Pkt Len Std'], 'Normal sample 953': ['Init Bwd Win Byts', 'SYN Flag Cnt', 'Bwd Pkts/s', 'Flow Pkts/s', 'FIN Flag Cnt', 'Pkt Size Avg', 'Bwd Pkt Len Min', 'Down/Up Ratio', 'Fwd Pkt Len Std', 'Idle Max'], 'Normal sample 954': ['SYN Flag Cnt', 'ACK Flag Cnt', 'FIN Flag Cnt', 'Pkt Size Avg', 'Pkt Len Mean', 'Bwd Pkts/s', 'Flow Pkts/s', 'Pkt Len Std', 'Pkt Len Max', 'Pkt Len Min'], 'Normal sample 955': ['Init Bwd Win Byts', 'SYN Flag Cnt', 'Down/Up Ratio', 'PSH Flag Cnt', 'Bwd IAT Std', 'Idle Max', 'Bwd IAT Tot', 'Flow IAT Max', 'Bwd URG Flags', 'Subflow Bwd Byts'], 'Normal sample 956': ['Init Bwd Win Byts', 'SYN Flag Cnt', 'FIN Flag Cnt', 'Down/Up Ratio', 'Flow IAT Max', 'Flow Pkts/s', 'Bwd IAT Std', 'Idle Min', 'Idle Mean', 'Idle Max'], 'Normal sample 957': ['SYN Flag Cnt', 'ACK Flag Cnt', 'FIN Flag Cnt', 'Pkt Size Avg', 'Pkt Len Max', 'Bwd Pkts/s', 'Flow Pkts/s', 'Pkt Len Mean', 'Pkt Len Min', 'Pkt Len Std'], 'Normal sample 958': ['Init Bwd Win Byts', 'FIN Flag Cnt', 'ACK Flag Cnt', 'Down/Up Ratio', 'Flow IAT Mean', 'Flow IAT Std', 'Flow Duration', 'Pkt Len Std', 'Idle Mean', 'Flow Pkts/s'], 'Normal sample 959': ['Init Bwd Win Byts', 'SYN Flag Cnt', 'FIN Flag Cnt', 'Down/Up Ratio', 'Flow Pkts/s', 'Flow IAT Max', 'Idle Mean', 'Idle Max', 'Bwd IAT Std', 'Idle Min'], 'Normal sample 960': ['SYN Flag Cnt', 'Fwd Pkt Len Max', 'Fwd Pkt Len Mean', 'Fwd Seg Size Avg', 'Fwd Pkt Len Std', 'Pkt Len Max', 'Pkt Len Mean', 'Pkt Size Avg', 'FIN Flag Cnt', 'Flow Byts/s'], 'Normal sample 961': ['SYN Flag Cnt', 'FIN Flag Cnt', 'ACK Flag Cnt', 'Pkt Size Avg', 'Pkt Len Mean', 'Pkt Len Std', 'Pkt Len Min', 'Pkt Len Max', 'Flow Pkts/s', 'Bwd Pkts/s'], 'Normal sample 962': ['SYN Flag Cnt', 'Fwd Pkt Len Max', 'Fwd Pkt Len Std', 'Fwd Pkt Len Mean', 'Fwd Seg Size Avg', 'Pkt Len Mean', 'Pkt Len Max', 'Pkt Size Avg', 'FIN Flag Cnt', 'Pkt Len Std'], 'Normal sample 963': ['Init Bwd Win Byts', 'SYN Flag Cnt', 'FIN Flag Cnt', 'Flow Pkts/s', 'Down/Up Ratio', 'Bwd Pkts/s', 'Fwd Pkt Len Mean', 'Idle Max', 'Pkt Len Mean', 'Fwd Seg Size Avg'], 'Normal sample 964': ['Init Bwd Win Byts', 'Fwd Pkt Len Mean', 'Fwd Seg Size Avg', 'Fwd IAT Tot', 'Bwd IAT Tot', 'FIN Flag Cnt', 'Bwd IAT Max', 'Down/Up Ratio', 'Fwd Pkt Len Std', 'Fwd IAT Std'], 'Normal sample 965': ['SYN Flag Cnt', 'ACK Flag Cnt', 'FIN Flag Cnt', 'Pkt Size Avg', 'Bwd Pkts/s', 'Pkt Len Mean', 'Flow Pkts/s', 'Pkt Len Max', 'Pkt Len Min', 'Bwd Pkt Len Min'], 'Normal sample 966': ['SYN Flag Cnt', 'ACK Flag Cnt', 'FIN Flag Cnt', 'Bwd Pkts/s', 'Pkt Size Avg', 'Pkt Len Min', 'Pkt Len Mean', 'Flow Pkts/s', 'Pkt Len Max', 'Pkt Len Std'], 'Normal sample 967': ['SYN Flag Cnt', 'Fwd Pkt Len Max', 'Fwd Pkt Len Mean', 'Fwd Pkt Len Std', 'Fwd Seg Size Avg', 'Pkt Size Avg', 'FIN Flag Cnt', 'Pkt Len Max', 'Bwd Pkts/s', 'Pkt Len Mean'], 'Normal sample 968': ['SYN Flag Cnt', 'FIN Flag Cnt', 'ACK Flag Cnt', 'Pkt Size Avg', 'Pkt Len Mean', 'Pkt Len Max', 'Pkt Len Min', 'Flow Pkts/s', 'Bwd Pkts/s', 'Pkt Len Std'], 'Normal sample 969': ['Init Bwd Win Byts', 'SYN Flag Cnt', 'Idle Max', 'Down/Up Ratio', 'Bwd IAT Max', 'Bwd IAT Tot', 'PSH Flag Cnt', 'ACK Flag Cnt', 'Idle Min', 'Bwd IAT Mean'], 'Normal sample 970': ['Init Bwd Win Byts', 'FIN Flag Cnt', 'Fwd Pkt Len Std', 'Fwd Pkt Len Max', 'Fwd IAT Tot', 'Bwd IAT Tot', 'Fwd IAT Max', 'Bwd IAT Max', 'Fwd Seg Size Avg', 'ACK Flag Cnt'], 'Normal sample 971': ['Init Bwd Win Byts', 'Fwd IAT Tot', 'Fwd Pkt Len Max', 'ACK Flag Cnt', 'Fwd IAT Std', 'FIN Flag Cnt', 'Fwd Pkt Len Std', 'Bwd IAT Max', 'Bwd Pkts/s', 'Bwd IAT Mean'], 'Normal sample 972': ['SYN Flag Cnt', 'ACK Flag Cnt', 'FIN Flag Cnt', 'Bwd Pkts/s', 'Flow Pkts/s', 'Pkt Size Avg', 'Pkt Len Max', 'Pkt Len Mean', 'Pkt Len Std', 'Pkt Len Min'], 'Normal sample 973': ['Init Bwd Win Byts', 'SYN Flag Cnt', 'Bwd Pkts/s', 'Down/Up Ratio', 'Bwd PSH Flags', 'Flow Pkts/s', 'FIN Flag Cnt', 'Bwd Pkt Len Min', 'Pkt Len Mean', 'Pkt Size Avg'], 'Normal sample 974': ['Pkt Len Max', 'Init Bwd Win Byts', 'Bwd Header Len', 'Fwd IAT Tot', 'Pkt Len Std', 'Pkt Len Mean', 'Subflow Bwd Pkts', 'Pkt Size Avg', 'Bwd IAT Std', 'Bwd IAT Tot'], 'Normal sample 975': ['SYN Flag Cnt', 'FIN Flag Cnt', 'ACK Flag Cnt', 'Pkt Size Avg', 'Pkt Len Max', 'Flow Pkts/s', 'Bwd Pkts/s', 'Pkt Len Mean', 'Pkt Len Min', 'Pkt Len Std'], 'Normal sample 976': ['SYN Flag Cnt', 'ACK Flag Cnt', 'FIN Flag Cnt', 'Pkt Size Avg', 'Pkt Len Mean', 'Bwd Pkts/s', 'Pkt Len Max', 'Flow Pkts/s', 'Pkt Len Min', 'Pkt Len Std'], 'Normal sample 977': ['Init Bwd Win Byts', 'Fwd IAT Std', 'ACK Flag Cnt', 'FIN Flag Cnt', 'Fwd Pkt Len Std', 'Pkt Len Max', 'Fwd IAT Max', 'Fwd IAT Tot', 'Fwd Pkt Len Mean', 'Fwd Pkt Len Max'], 'Normal sample 978': ['Init Bwd Win Byts', 'SYN Flag Cnt', 'Down/Up Ratio', 'FIN Flag Cnt', 'Flow Pkts/s', 'PSH Flag Cnt', 'Idle Max', 'Idle Min', 'Idle Mean', 'Flow IAT Max'], 'Normal sample 979': ['SYN Flag Cnt', 'ACK Flag Cnt', 'FIN Flag Cnt', 'Pkt Size Avg', 'Flow Pkts/s', 'Pkt Len Mean', 'Bwd Pkts/s', 'Pkt Len Max', 'Pkt Len Min', 'Pkt Len Std'], 'Normal sample 980': ['SYN Flag Cnt', 'ACK Flag Cnt', 'FIN Flag Cnt', 'Pkt Size Avg', 'Pkt Len Mean', 'Bwd Pkts/s', 'Flow Pkts/s', 'Pkt Len Max', 'Pkt Len Std', 'Pkt Len Min'], 'Normal sample 981': ['SYN Flag Cnt', 'ACK Flag Cnt', 'FIN Flag Cnt', 'Pkt Size Avg', 'Pkt Len Mean', 'Flow Pkts/s', 'Pkt Len Std', 'Bwd Pkts/s', 'Pkt Len Max', 'Pkt Len Min'], 'Normal sample 982': ['SYN Flag Cnt', 'FIN Flag Cnt', 'ACK Flag Cnt', 'Pkt Size Avg', 'Pkt Len Max', 'Pkt Len Mean', 'Bwd Pkts/s', 'Pkt Len Min', 'Flow Pkts/s', 'Pkt Len Std'], 'Normal sample 983': ['SYN Flag Cnt', 'FIN Flag Cnt', 'Pkt Size Avg', 'Bwd Pkt Len Min', 'Pkt Len Mean', 'ACK Flag Cnt', 'Pkt Len Std', 'Pkt Len Max', 'Fwd Pkt Len Mean', 'Fwd Seg Size Avg'], 'Normal sample 984': ['SYN Flag Cnt', 'ACK Flag Cnt', 'FIN Flag Cnt', 'Bwd Pkts/s', 'Pkt Size Avg', 'Flow Pkts/s', 'Pkt Len Mean', 'Pkt Len Max', 'Pkt Len Min', 'Bwd Pkt Len Min'], 'Normal sample 985': ['Init Bwd Win Byts', 'Pkt Len Max', 'Pkt Size Avg', 'Pkt Len Mean', 'Fwd Pkt Len Max', 'Down/Up Ratio', 'Flow Pkts/s', 'Pkt Len Std', 'ACK Flag Cnt', 'Fwd Seg Size Avg'], 'Normal sample 986': ['SYN Flag Cnt', 'ACK Flag Cnt', 'FIN Flag Cnt', 'Pkt Size Avg', 'Bwd Pkts/s', 'Flow Pkts/s', 'Pkt Len Max', 'Pkt Len Min', 'Pkt Len Mean', 'Pkt Len Std'], 'Normal sample 987': ['Init Bwd Win Byts', 'Fwd Pkt Len Max', 'Fwd Pkt Len Std', 'FIN Flag Cnt', 'Fwd Pkt Len Mean', 'Fwd Seg Size Avg', 'Pkt Len Max', 'Pkt Size Avg', 'Pkt Len Std', 'Flow Pkts/s'], 'Normal sample 988': ['SYN Flag Cnt', 'ACK Flag Cnt', 'FIN Flag Cnt', 'Pkt Len Max', 'Pkt Size Avg', 'Flow Pkts/s', 'Pkt Len Mean', 'Pkt Len Min', 'Bwd Pkts/s', 'Pkt Len Std'], 'Normal sample 989': ['SYN Flag Cnt', 'ACK Flag Cnt', 'FIN Flag Cnt', 'Pkt Len Max', 'Pkt Size Avg', 'Pkt Len Mean', 'Flow Pkts/s', 'Bwd Pkts/s', 'Pkt Len Std', 'Pkt Len Min'], 'Normal sample 990': ['Init Bwd Win Byts', 'Fwd IAT Tot', 'SYN Flag Cnt', 'Fwd Pkt Len Max', 'Fwd Pkt Len Std', 'Fwd Pkt Len Mean', 'Pkt Len Std', 'Down/Up Ratio', 'Bwd IAT Tot', 'Pkt Len Mean'], 'Normal sample 991': ['Init Bwd Win Byts', 'Fwd IAT Tot', 'Fwd IAT Max', 'SYN Flag Cnt', 'Flow Pkts/s', 'PSH Flag Cnt', 'FIN Flag Cnt', 'Bwd Pkts/s', 'Fwd IAT Mean', 'Down/Up Ratio'], 'Normal sample 992': ['SYN Flag Cnt', 'ACK Flag Cnt', 'FIN Flag Cnt', 'Bwd Pkts/s', 'Pkt Size Avg', 'Flow Pkts/s', 'Pkt Len Mean', 'Pkt Len Std', 'Pkt Len Max', 'Pkt Len Min'], 'Normal sample 993': ['SYN Flag Cnt', 'FIN Flag Cnt', 'Pkt Size Avg', 'Pkt Len Min', 'Flow Pkts/s', 'Bwd Pkts/s', 'Pkt Len Mean', 'Fwd Pkt Len Mean', 'Fwd Seg Size Avg', 'ACK Flag Cnt'], 'Normal sample 994': ['Init Bwd Win Byts', 'SYN Flag Cnt', 'FIN Flag Cnt', 'Down/Up Ratio', 'Flow Pkts/s', 'Flow IAT Max', 'Idle Max', 'Idle Mean', 'Bwd IAT Std', 'URG Flag Cnt'], 'Normal sample 995': ['Init Bwd Win Byts', 'Fwd Pkt Len Mean', 'Fwd Pkt Len Max', 'Pkt Len Max', 'ACK Flag Cnt', 'Bwd IAT Tot', 'Pkt Size Avg', 'Bwd IAT Max', 'Fwd Pkt Len Std', 'Pkt Len Mean'], 'Normal sample 996': ['Fwd Pkt Len Max', 'SYN Flag Cnt', 'Fwd Pkt Len Mean', 'Fwd Seg Size Avg', 'Pkt Len Max', 'Fwd Pkt Len Std', 'Pkt Size Avg', 'Pkt Len Mean', 'Pkt Len Std', 'Flow Byts/s'], 'Normal sample 997': ['Init Bwd Win Byts', 'Fwd IAT Tot', 'Fwd IAT Std', 'Bwd PSH Flags', 'Fwd Pkt Len Max', 'SYN Flag Cnt', 'Bwd Pkts/s', 'Fwd Pkt Len Mean', 'Down/Up Ratio', 'Fwd Act Data Pkts'], 'Normal sample 998': ['Init Bwd Win Byts', 'Pkt Len Max', 'ACK Flag Cnt', 'Fwd IAT Tot', 'Fwd IAT Max', 'Pkt Len Std', 'Bwd IAT Max', 'FIN Flag Cnt', 'Fwd Pkt Len Max', 'Flow Pkts/s'], 'Normal sample 999': ['Init Bwd Win Byts', 'Pkt Size Avg', 'Fwd IAT Max', 'Fwd IAT Tot', 'Pkt Len Mean', 'ACK Flag Cnt', 'FIN Flag Cnt', 'Pkt Len Std', 'Fwd Pkt Len Max', 'Bwd IAT Tot'], 'Normal sample 1000': ['SYN Flag Cnt', 'FIN Flag Cnt', 'ACK Flag Cnt', 'Pkt Size Avg', 'Pkt Len Mean', 'Flow Pkts/s', 'Pkt Len Max', 'Pkt Len Min', 'Pkt Len Std', 'Bwd Pkts/s'], 'Normal sample 1001': ['Init Bwd Win Byts', 'Pkt Len Max', 'Fwd IAT Tot', 'Bwd PSH Flags', 'Fwd Pkt Len Max', 'SYN Flag Cnt', 'Pkt Len Mean', 'Pkt Len Std', 'Pkt Size Avg', 'Fwd IAT Std'], 'Normal sample 1002': ['SYN Flag Cnt', 'FIN Flag Cnt', 'Pkt Size Avg', 'Pkt Len Mean', 'Flow Pkts/s', 'Pkt Len Max', 'Pkt Len Std', 'Bwd Pkts/s', 'Pkt Len Min', 'Bwd Pkt Len Min'], 'Normal sample 1003': ['SYN Flag Cnt', 'ACK Flag Cnt', 'FIN Flag Cnt', 'Pkt Size Avg', 'Bwd Pkts/s', 'Flow Pkts/s', 'Pkt Len Max', 'Pkt Len Min', 'Pkt Len Mean', 'Pkt Len Std'], 'Normal sample 1004': ['Init Bwd Win Byts', 'Fwd IAT Tot', 'Fwd IAT Std', 'SYN Flag Cnt', 'Bwd IAT Max', 'Flow Pkts/s', 'Bwd Pkts/s', 'Bwd IAT Std', 'Fwd IAT Max', 'Subflow Bwd Pkts'], 'Normal sample 1005': ['Init Bwd Win Byts', 'Fwd IAT Tot', 'Fwd IAT Max', 'Fwd IAT Min', 'ACK Flag Cnt', 'Fwd IAT Mean', 'Bwd Pkts/s', 'FIN Flag Cnt', 'Flow Pkts/s', 'PSH Flag Cnt'], 'Normal sample 1006': ['SYN Flag Cnt', 'FIN Flag Cnt', 'ACK Flag Cnt', 'Pkt Size Avg', 'Pkt Len Max', 'Bwd Pkts/s', 'Flow Pkts/s', 'Pkt Len Mean', 'Pkt Len Std', 'Bwd Pkt Len Min'], 'Normal sample 1007': ['SYN Flag Cnt', 'ACK Flag Cnt', 'FIN Flag Cnt', 'Pkt Size Avg', 'Bwd Pkts/s', 'Flow Pkts/s', 'Pkt Len Max', 'Pkt Len Mean', 'Pkt Len Std', 'Pkt Len Min'], 'Normal sample 1008': ['SYN Flag Cnt', 'Flow Pkts/s', 'FIN Flag Cnt', 'Fwd IAT Max', 'Bwd Pkts/s', 'Flow IAT Std', 'Fwd IAT Std', 'Flow Duration', 'Fwd IAT Tot', 'ACK Flag Cnt'], 'Normal sample 1009': ['SYN Flag Cnt', 'Fwd Pkt Len Max', 'Fwd Pkt Len Std', 'Fwd Pkt Len Mean', 'Fwd Seg Size Avg', 'Pkt Len Max', 'Pkt Size Avg', 'FIN Flag Cnt', 'Down/Up Ratio', 'Pkt Len Mean'], 'Normal sample 1010': ['Init Bwd Win Byts', 'Fwd IAT Tot', 'Fwd IAT Std', 'Bwd PSH Flags', 'SYN Flag Cnt', 'Down/Up Ratio', 'Bwd Pkts/s', 'Bwd IAT Max', 'TotLen Fwd Pkts', 'FIN Flag Cnt'], 'Normal sample 1011': ['Init Bwd Win Byts', 'SYN Flag Cnt', 'Down/Up Ratio', 'FIN Flag Cnt', 'Flow Pkts/s', 'Flow IAT Max', 'PSH Flag Cnt', 'Idle Min', 'Bwd IAT Min', 'Flow Duration'], 'Normal sample 1012': ['SYN Flag Cnt', 'FIN Flag Cnt', 'Pkt Size Avg', 'ACK Flag Cnt', 'Pkt Len Min', 'Pkt Len Mean', 'Fwd Seg Size Avg', 'Flow Pkts/s', 'Fwd Pkt Len Mean', 'Flow Byts/s'], 'Normal sample 1013': ['SYN Flag Cnt', 'ACK Flag Cnt', 'FIN Flag Cnt', 'Bwd Pkts/s', 'Flow Pkts/s', 'Pkt Size Avg', 'Pkt Len Mean', 'Pkt Len Max', 'Pkt Len Min', 'Bwd Pkt Len Min'], 'Normal sample 1014': ['Init Bwd Win Byts', 'Fwd IAT Tot', 'Bwd PSH Flags', 'Fwd IAT Std', 'SYN Flag Cnt', 'Bwd Pkts/s', 'Fwd Pkt Len Max', 'Subflow Bwd Byts', 'Pkt Size Avg', 'Bwd IAT Max'], 'Normal sample 1015': ['Init Bwd Win Byts', 'SYN Flag Cnt', 'FIN Flag Cnt', 'Down/Up Ratio', 'Idle Max', 'Flow IAT Max', 'Flow Pkts/s', 'PSH Flag Cnt', 'Bwd IAT Tot', 'Bwd IAT Std'], 'Normal sample 1016': ['SYN Flag Cnt', 'Fwd Pkt Len Max', 'Fwd Pkt Len Mean', 'Fwd Seg Size Avg', 'Fwd Pkt Len Std', 'Pkt Len Mean', 'Pkt Len Max', 'Pkt Size Avg', 'FIN Flag Cnt', 'Bwd Pkts/s'], 'Normal sample 1017': ['SYN Flag Cnt', 'ACK Flag Cnt', 'FIN Flag Cnt', 'Flow Pkts/s', 'Bwd Pkts/s', 'Pkt Size Avg', 'Pkt Len Max', 'Pkt Len Mean', 'Pkt Len Min', 'Pkt Len Std'], 'Normal sample 1018': ['SYN Flag Cnt', 'ACK Flag Cnt', 'FIN Flag Cnt', 'Bwd Pkts/s', 'Pkt Size Avg', 'Flow Pkts/s', 'Pkt Len Mean', 'Pkt Len Max', 'Pkt Len Std', 'Pkt Len Min'], 'Normal sample 1019': ['Init Bwd Win Byts', 'SYN Flag Cnt', 'Down/Up Ratio', 'FIN Flag Cnt', 'Flow Pkts/s', 'Idle Max', 'Bwd IAT Std', 'URG Flag Cnt', 'Flow IAT Max', 'Flow IAT Mean'], 'Normal sample 1020': ['Pkt Len Max', 'Init Bwd Win Byts', 'Pkt Len Std', 'Pkt Size Avg', 'Pkt Len Mean', 'Flow Duration', 'Fwd IAT Tot', 'Bwd IAT Tot', 'Flow IAT Max', 'Bwd IAT Max'], 'Normal sample 1021': ['Init Bwd Win Byts', 'Fwd IAT Tot', 'Fwd Pkt Len Max', 'Pkt Len Max', 'ACK Flag Cnt', 'Pkt Len Std', 'FIN Flag Cnt', 'Pkt Len Mean', 'Flow Pkts/s', 'Fwd IAT Std'], 'Normal sample 1022': ['Init Bwd Win Byts', 'Pkt Len Max', 'FIN Flag Cnt', 'Pkt Size Avg', 'Fwd Pkt Len Max', 'Pkt Len Std', 'Pkt Len Mean', 'Bwd IAT Tot', 'Fwd IAT Std', 'ACK Flag Cnt'], 'Normal sample 1023': ['SYN Flag Cnt', 'Flow Pkts/s', 'Down/Up Ratio', 'FIN Flag Cnt', 'Bwd Pkts/s', 'Fwd Pkt Len Mean', 'Fwd Pkt Len Std', 'Fwd Seg Size Avg', 'Fwd Pkt Len Max', 'Pkt Len Max'], 'Normal sample 1024': ['Init Bwd Win Byts', 'SYN Flag Cnt', 'Down/Up Ratio', 'Flow IAT Max', 'Bwd IAT Max', 'Flow IAT Std', 'Idle Mean', 'PSH Flag Cnt', 'Idle Max', 'ACK Flag Cnt'], 'Normal sample 1025': ['SYN Flag Cnt', 'ACK Flag Cnt', 'FIN Flag Cnt', 'Bwd Pkts/s', 'Flow Pkts/s', 'Pkt Size Avg', 'Pkt Len Max', 'Pkt Len Mean', 'Pkt Len Min', 'Pkt Len Std'], 'Normal sample 1026': ['SYN Flag Cnt', 'FIN Flag Cnt', 'Pkt Size Avg', 'Pkt Len Min', 'Pkt Len Mean', 'ACK Flag Cnt', 'Fwd Seg Size Avg', 'Fwd Pkt Len Mean', 'Flow Pkts/s', 'Fwd Pkt Len Min'], 'Normal sample 1027': ['Init Bwd Win Byts', 'Pkt Len Max', 'SYN Flag Cnt', 'Fwd IAT Tot', 'Pkt Size Avg', 'Pkt Len Std', 'Pkt Len Mean', 'Fwd Pkt Len Max', 'Down/Up Ratio', 'Bwd Header Len'], 'Normal sample 1028': ['PSH Flag Cnt', 'Down/Up Ratio', 'SYN Flag Cnt', 'Bwd PSH Flags', 'Bwd Pkts/s', 'Pkt Len Mean', 'Flow IAT Max', 'Flow IAT Min', 'Bwd IAT Std', 'Flow Pkts/s'], 'Normal sample 1029': ['SYN Flag Cnt', 'ACK Flag Cnt', 'FIN Flag Cnt', 'Pkt Size Avg', 'Pkt Len Mean', 'Bwd Pkts/s', 'Flow Pkts/s', 'Pkt Len Min', 'Pkt Len Max', 'Pkt Len Std'], 'Normal sample 1030': ['Init Bwd Win Byts', 'SYN Flag Cnt', 'Fwd IAT Std', 'Fwd IAT Max', 'Fwd IAT Tot', 'Bwd Pkts/s', 'Flow Pkts/s', 'Pkt Size Avg', 'URG Flag Cnt', 'Fwd IAT Mean'], 'Normal sample 1031': ['Init Bwd Win Byts', 'Fwd IAT Std', 'Fwd Pkt Len Max', 'FIN Flag Cnt', 'Fwd IAT Max', 'Pkt Size Avg', 'Pkt Len Max', 'Pkt Len Mean', 'ACK Flag Cnt', 'Fwd IAT Tot'], 'Normal sample 1032': ['Init Bwd Win Byts', 'SYN Flag Cnt', 'ACK Flag Cnt', 'Down/Up Ratio', 'Bwd Pkts/s', 'Flow Pkts/s', 'Subflow Fwd Pkts', 'Idle Min', 'Flow IAT Max', 'Active Min'], 'Normal sample 1033': ['Init Bwd Win Byts', 'Pkt Len Max', 'FIN Flag Cnt', 'Pkt Len Std', 'Fwd IAT Tot', 'Pkt Size Avg', 'Pkt Len Mean', 'Flow Pkts/s', 'ACK Flag Cnt', 'Fwd Pkt Len Mean'], 'Normal sample 1034': ['Init Bwd Win Byts', 'PSH Flag Cnt', 'SYN Flag Cnt', 'Pkt Size Avg', 'Idle Max', 'Pkt Len Mean', 'ACK Flag Cnt', 'Flow Pkts/s', 'TotLen Bwd Pkts', 'Bwd IAT Max'], 'Normal sample 1035': ['Init Bwd Win Byts', 'SYN Flag Cnt', 'Bwd Pkt Len Min', 'Pkt Size Avg', 'Bwd Pkts/s', 'Down/Up Ratio', 'FIN Flag Cnt', 'Bwd PSH Flags', 'Flow Pkts/s', 'Pkt Len Mean'], 'Normal sample 1036': ['Init Bwd Win Byts', 'SYN Flag Cnt', 'Idle Max', 'Idle Mean', 'URG Flag Cnt', 'Bwd IAT Tot', 'Active Std', 'Idle Min', 'Flow IAT Std', 'Bwd IAT Max'], 'Normal sample 1037': ['SYN Flag Cnt', 'ACK Flag Cnt', 'FIN Flag Cnt', 'Bwd Pkts/s', 'Pkt Size Avg', 'Flow Pkts/s', 'Pkt Len Mean', 'Pkt Len Max', 'Pkt Len Min', 'Pkt Len Std'], 'Normal sample 1038': ['SYN Flag Cnt', 'ACK Flag Cnt', 'FIN Flag Cnt', 'Pkt Size Avg', 'Pkt Len Max', 'Flow Pkts/s', 'Pkt Len Min', 'Pkt Len Mean', 'Bwd Pkts/s', 'Pkt Len Std'], 'Normal sample 1039': ['SYN Flag Cnt', 'FIN Flag Cnt', 'Flow Byts/s', 'ACK Flag Cnt', 'Pkt Size Avg', 'Pkt Len Mean', 'Pkt Len Min', 'Fwd Pkt Len Mean', 'Fwd Seg Size Avg', 'Flow Pkts/s'], 'Normal sample 1040': ['Init Bwd Win Byts', 'SYN Flag Cnt', 'FIN Flag Cnt', 'Down/Up Ratio', 'Flow IAT Max', 'Flow Pkts/s', 'Idle Max', 'PSH Flag Cnt', 'Bwd IAT Std', 'Bwd Pkts/s'], 'Normal sample 1041': ['Init Bwd Win Byts', 'SYN Flag Cnt', 'FIN Flag Cnt', 'Bwd PSH Flags', 'Pkt Len Mean', 'Down/Up Ratio', 'Pkt Size Avg', 'Bwd Pkt Len Min', 'Flow Pkts/s', 'Bwd Pkts/s'], 'Normal sample 1042': ['SYN Flag Cnt', 'FIN Flag Cnt', 'Pkt Size Avg', 'Flow Pkts/s', 'Pkt Len Mean', 'Pkt Len Max', 'Pkt Len Std', 'Pkt Len Min', 'Bwd Pkt Len Min', 'Bwd Pkts/s'], 'Normal sample 1043': ['SYN Flag Cnt', 'ACK Flag Cnt', 'FIN Flag Cnt', 'Pkt Size Avg', 'Pkt Len Mean', 'Bwd Pkts/s', 'Pkt Len Std', 'Pkt Len Max', 'Flow Pkts/s', 'Pkt Len Min'], 'Normal sample 1044': ['SYN Flag Cnt', 'ACK Flag Cnt', 'FIN Flag Cnt', 'Bwd Pkts/s', 'Flow Pkts/s', 'Pkt Size Avg', 'Pkt Len Mean', 'Pkt Len Max', 'Pkt Len Min', 'Pkt Len Std'], 'Normal sample 1045': ['SYN Flag Cnt', 'FIN Flag Cnt', 'Pkt Size Avg', 'ACK Flag Cnt', 'Pkt Len Mean', 'Fwd Pkt Len Mean', 'Flow Byts/s', 'Fwd Seg Size Avg', 'Pkt Len Min', 'Flow Pkts/s'], 'Normal sample 1046': ['Init Bwd Win Byts', 'SYN Flag Cnt', 'Bwd Pkts/s', 'Down/Up Ratio', 'Bwd PSH Flags', 'FIN Flag Cnt', 'Flow Pkts/s', 'Pkt Size Avg', 'Bwd Pkt Len Min', 'Bwd IAT Std'], 'Normal sample 1047': ['SYN Flag Cnt', 'FIN Flag Cnt', 'ACK Flag Cnt', 'Pkt Size Avg', 'Pkt Len Max', 'Pkt Len Mean', 'Flow Pkts/s', 'Pkt Len Std', 'Pkt Len Min', 'Bwd Pkts/s'], 'Normal sample 1048': ['Init Bwd Win Byts', 'Fwd Pkt Len Max', 'Fwd IAT Tot', 'Fwd Pkt Len Std', 'Fwd Pkt Len Mean', 'Pkt Len Max', 'Pkt Len Std', 'Pkt Size Avg', 'Bwd IAT Max', 'FIN Flag Cnt'], 'Normal sample 1049': ['SYN Flag Cnt', 'FIN Flag Cnt', 'ACK Flag Cnt', 'Pkt Size Avg', 'Pkt Len Max', 'Pkt Len Mean', 'Flow Pkts/s', 'Pkt Len Std', 'Bwd Pkts/s', 'Pkt Len Min'], 'Normal sample 1050': ['Init Bwd Win Byts', 'SYN Flag Cnt', 'Down/Up Ratio', 'FIN Flag Cnt', 'Bwd PSH Flags', 'Flow Pkts/s', 'Pkt Size Avg', 'Bwd Pkt Len Min', 'Bwd IAT Std', 'Flow IAT Mean'], 'Normal sample 1051': ['Init Bwd Win Byts', 'Fwd Pkt Len Max', 'Pkt Len Mean', 'Pkt Size Avg', 'Pkt Len Max', 'Fwd Seg Size Avg', 'Pkt Len Std', 'Fwd Pkt Len Std', 'Down/Up Ratio', 'Flow Pkts/s'], 'Normal sample 1052': ['SYN Flag Cnt', 'ACK Flag Cnt', 'FIN Flag Cnt', 'Pkt Size Avg', 'Bwd Pkts/s', 'Pkt Len Mean', 'Flow Pkts/s', 'Pkt Len Max', 'Pkt Len Min', 'Pkt Len Std'], 'Normal sample 1053': ['SYN Flag Cnt', 'FIN Flag Cnt', 'ACK Flag Cnt', 'Pkt Size Avg', 'Pkt Len Max', 'Pkt Len Mean', 'Pkt Len Std', 'Flow Pkts/s', 'Pkt Len Min', 'Bwd Pkts/s'], 'Normal sample 1054': ['Init Bwd Win Byts', 'Fwd Pkt Len Max', 'Fwd IAT Tot', 'Pkt Len Max', 'Pkt Len Std', 'Down/Up Ratio', 'Pkt Size Avg', 'ACK Flag Cnt', 'Pkt Len Mean', 'Fwd IAT Std'], 'Normal sample 1055': ['SYN Flag Cnt', 'FIN Flag Cnt', 'ACK Flag Cnt', 'Pkt Size Avg', 'Pkt Len Min', 'Pkt Len Mean', 'Pkt Len Max', 'Bwd Pkts/s', 'Flow Pkts/s', 'Pkt Len Std'], 'Normal sample 1056': ['Init Bwd Win Byts', 'Fwd IAT Tot', 'Fwd IAT Std', 'ACK Flag Cnt', 'Fwd Pkt Len Max', 'Down/Up Ratio', 'Pkt Len Max', 'FIN Flag Cnt', 'Bwd IAT Std', 'Fwd Seg Size Avg'], 'Normal sample 1057': ['SYN Flag Cnt', 'ACK Flag Cnt', 'FIN Flag Cnt', 'Pkt Size Avg', 'Bwd Pkts/s', 'Flow Pkts/s', 'Pkt Len Max', 'Pkt Len Mean', 'Pkt Len Std', 'Pkt Len Min'], 'Normal sample 1058': ['SYN Flag Cnt', 'ACK Flag Cnt', 'FIN Flag Cnt', 'Bwd Pkts/s', 'Flow Pkts/s', 'Pkt Size Avg', 'Pkt Len Mean', 'Pkt Len Min', 'Pkt Len Max', 'Pkt Len Std'], 'Normal sample 1059': ['SYN Flag Cnt', 'ACK Flag Cnt', 'FIN Flag Cnt', 'Pkt Size Avg', 'Bwd Pkts/s', 'Flow Pkts/s', 'Pkt Len Mean', 'Pkt Len Max', 'Pkt Len Min', 'Pkt Len Std'], 'Normal sample 1060': ['Init Bwd Win Byts', 'Fwd IAT Std', 'Bwd PSH Flags', 'Fwd IAT Tot', 'Bwd Pkts/s', 'SYN Flag Cnt', 'Down/Up Ratio', 'Bwd IAT Tot', 'Fwd Pkts/s', 'PSH Flag Cnt'], 'Normal sample 1061': ['Init Bwd Win Byts', 'Fwd IAT Tot', 'Fwd IAT Std', 'Pkt Len Max', 'Fwd IAT Max', 'ACK Flag Cnt', 'Bwd Pkts/s', 'Bwd IAT Tot', 'Fwd Pkt Len Max', 'Pkt Len Std'], 'Normal sample 1062': ['Init Bwd Win Byts', 'FIN Flag Cnt', 'Fwd Pkt Len Max', 'Fwd Pkt Len Std', 'Fwd Pkt Len Mean', 'Fwd Seg Size Avg', 'Pkt Len Mean', 'ACK Flag Cnt', 'Pkt Len Max', 'Pkt Size Avg'], 'Normal sample 1063': ['Init Bwd Win Byts', 'Fwd Pkt Len Max', 'SYN Flag Cnt', 'Pkt Size Avg', 'Bwd PSH Flags', 'Pkt Len Mean', 'Pkt Len Std', 'Pkt Len Max', 'Fwd Pkt Len Std', 'Fwd IAT Std'], 'Normal sample 1064': ['SYN Flag Cnt', 'ACK Flag Cnt', 'FIN Flag Cnt', 'Pkt Size Avg', 'Flow Pkts/s', 'Bwd Pkts/s', 'Pkt Len Max', 'Pkt Len Mean', 'Pkt Len Std', 'Pkt Len Min'], 'Normal sample 1065': ['Init Bwd Win Byts', 'Fwd IAT Tot', 'Pkt Len Max', 'ACK Flag Cnt', 'Pkt Len Std', 'Fwd IAT Std', 'Fwd IAT Mean', 'FIN Flag Cnt', 'Bwd IAT Tot', 'Fwd IAT Max'], 'Normal sample 1066': ['Init Bwd Win Byts', 'SYN Flag Cnt', 'Down/Up Ratio', 'FIN Flag Cnt', 'Flow Pkts/s', 'PSH Flag Cnt', 'Flow IAT Max', 'URG Flag Cnt', 'Flow Duration', 'Idle Max'], 'Normal sample 1067': ['SYN Flag Cnt', 'FIN Flag Cnt', 'ACK Flag Cnt', 'Pkt Size Avg', 'Pkt Len Mean', 'Flow Pkts/s', 'Pkt Len Max', 'Bwd Pkts/s', 'Pkt Len Std', 'Pkt Len Min'], 'Normal sample 1068': ['SYN Flag Cnt', 'Fwd Pkt Len Max', 'Flow Byts/s', 'Fwd Seg Size Avg', 'Pkt Len Max', 'Fwd Pkt Len Mean', 'Fwd Pkt Len Std', 'Pkt Len Mean', 'Pkt Size Avg', 'Pkt Len Std'], 'Normal sample 1069': ['SYN Flag Cnt', 'ACK Flag Cnt', 'FIN Flag Cnt', 'Bwd Pkts/s', 'Pkt Size Avg', 'Pkt Len Max', 'Flow Pkts/s', 'Pkt Len Mean', 'Pkt Len Min', 'Pkt Len Std'], 'Normal sample 1070': ['Init Bwd Win Byts', 'SYN Flag Cnt', 'Down/Up Ratio', 'Idle Min', 'FIN Flag Cnt', 'Flow IAT Max', 'PSH Flag Cnt', 'URG Flag Cnt', 'Bwd IAT Std', 'Flow Duration'], 'Normal sample 1071': ['SYN Flag Cnt', 'ACK Flag Cnt', 'FIN Flag Cnt', 'Pkt Size Avg', 'Flow Pkts/s', 'Pkt Len Mean', 'Bwd Pkts/s', 'Pkt Len Max', 'Pkt Len Std', 'Pkt Len Min'], 'Normal sample 1072': ['SYN Flag Cnt', 'ACK Flag Cnt', 'FIN Flag Cnt', 'Pkt Size Avg', 'Pkt Len Mean', 'Flow Pkts/s', 'Pkt Len Max', 'Pkt Len Min', 'Bwd Pkts/s', 'Pkt Len Std'], 'Normal sample 1073': ['SYN Flag Cnt', 'FIN Flag Cnt', 'ACK Flag Cnt', 'Pkt Size Avg', 'Pkt Len Mean', 'Pkt Len Min', 'Pkt Len Max', 'Bwd Pkts/s', 'Flow Pkts/s', 'Pkt Len Std'], 'Normal sample 1074': ['Init Bwd Win Byts', 'Pkt Size Avg', 'Pkt Len Mean', 'Pkt Len Max', 'Fwd Pkt Len Max', 'Flow Pkts/s', 'ACK Flag Cnt', 'FIN Flag Cnt', 'Fwd Pkt Len Std', 'Fwd Seg Size Avg'], 'Normal sample 1075': ['Init Bwd Win Byts', 'SYN Flag Cnt', 'FIN Flag Cnt', 'Down/Up Ratio', 'Flow Pkts/s', 'Flow IAT Max', 'Idle Max', 'Idle Min', 'Flow IAT Mean', 'Bwd IAT Std'], 'Normal sample 1076': ['Init Bwd Win Byts', 'SYN Flag Cnt', 'Down/Up Ratio', 'FIN Flag Cnt', 'Flow IAT Max', 'Idle Mean', 'PSH Flag Cnt', 'Bwd IAT Max', 'Idle Min', 'URG Flag Cnt'], 'Normal sample 1077': ['Init Bwd Win Byts', 'Fwd IAT Tot', 'Fwd IAT Std', 'Bwd PSH Flags', 'Down/Up Ratio', 'SYN Flag Cnt', 'Bwd Pkts/s', 'Fwd Pkt Len Min', 'Bwd IAT Tot', 'Pkt Len Mean'], 'Normal sample 1078': ['Fwd IAT Tot', 'ACK Flag Cnt', 'SYN Flag Cnt', 'Pkt Len Min', 'FIN Flag Cnt', 'Bwd Pkts/s', 'Flow Pkts/s', 'Fwd IAT Std', 'PSH Flag Cnt', 'Idle Mean'], 'Normal sample 1079': ['SYN Flag Cnt', 'FIN Flag Cnt', 'ACK Flag Cnt', 'Pkt Size Avg', 'Pkt Len Max', 'Pkt Len Mean', 'Flow Pkts/s', 'Bwd Pkts/s', 'Pkt Len Std', 'Pkt Len Min'], 'Normal sample 1080': ['Init Bwd Win Byts', 'SYN Flag Cnt', 'Flow Pkts/s', 'Bwd Pkts/s', 'FIN Flag Cnt', 'Down/Up Ratio', 'Fwd Pkt Len Mean', 'Pkt Len Max', 'Fwd Seg Size Avg', 'Pkt Len Mean'], 'Normal sample 1081': ['Init Bwd Win Byts', 'SYN Flag Cnt', 'Bwd PSH Flags', 'Bwd Pkts/s', 'FIN Flag Cnt', 'Down/Up Ratio', 'Flow Pkts/s', 'Fwd IAT Min', 'PSH Flag Cnt', 'Idle Mean'], 'Normal sample 1082': ['SYN Flag Cnt', 'ACK Flag Cnt', 'FIN Flag Cnt', 'Flow Pkts/s', 'Bwd Pkts/s', 'Pkt Size Avg', 'Pkt Len Mean', 'Pkt Len Max', 'Pkt Len Std', 'Pkt Len Min'], 'Normal sample 1083': ['SYN Flag Cnt', 'Fwd Pkt Len Max', 'Fwd Pkt Len Mean', 'Fwd Pkt Len Std', 'Fwd Seg Size Avg', 'Pkt Len Max', 'Pkt Len Mean', 'Flow Byts/s', 'Pkt Size Avg', 'Pkt Len Std'], 'Normal sample 1084': ['Init Bwd Win Byts', 'SYN Flag Cnt', 'Down/Up Ratio', 'FIN Flag Cnt', 'Bwd IAT Std', 'Flow Pkts/s', 'Flow IAT Max', 'Idle Max', 'Idle Min', 'Flow IAT Std'], 'Normal sample 1085': ['Init Bwd Win Byts', 'Bwd PSH Flags', 'Fwd IAT Std', 'Fwd IAT Tot', 'Fwd Pkt Len Std', 'Fwd Pkt Len Max', 'SYN Flag Cnt', 'Down/Up Ratio', 'Pkt Len Max', 'Pkt Len Std'], 'Normal sample 1086': ['Init Bwd Win Byts', 'Pkt Size Avg', 'Pkt Len Max', 'Down/Up Ratio', 'Fwd Pkt Len Max', 'Pkt Len Mean', 'Flow Pkts/s', 'Pkt Len Std', 'FIN Flag Cnt', 'Fwd Pkt Len Mean'], 'Normal sample 1087': ['Init Bwd Win Byts', 'Bwd IAT Tot', 'FIN Flag Cnt', 'Fwd Pkt Len Max', 'Pkt Len Max', 'Pkt Len Mean', 'Bwd IAT Max', 'Pkt Len Std', 'Down/Up Ratio', 'Fwd Pkt Len Mean'], 'Normal sample 1088': ['Init Bwd Win Byts', 'Fwd IAT Tot', 'SYN Flag Cnt', 'Bwd IAT Max', 'Fwd IAT Std', 'Down/Up Ratio', 'Fwd Header Len', 'Fwd IAT Max', 'Fwd Pkt Len Std', 'Bwd PSH Flags'], 'Normal sample 1089': ['SYN Flag Cnt', 'ACK Flag Cnt', 'FIN Flag Cnt', 'Pkt Size Avg', 'Pkt Len Mean', 'Bwd Pkts/s', 'Flow Pkts/s', 'Pkt Len Max', 'Pkt Len Min', 'Pkt Len Std'], 'Normal sample 1090': ['Init Bwd Win Byts', 'Fwd IAT Std', 'Fwd IAT Tot', 'SYN Flag Cnt', 'Bwd PSH Flags', 'Fwd Pkt Len Mean', 'Bwd Pkt Len Max', 'Fwd Pkt Len Max', 'Fwd Seg Size Avg', 'Bwd Pkts/s'], 'Normal sample 1091': ['SYN Flag Cnt', 'ACK Flag Cnt', 'FIN Flag Cnt', 'Bwd Pkts/s', 'Flow Pkts/s', 'Pkt Size Avg', 'Pkt Len Mean', 'Pkt Len Min', 'Pkt Len Max', 'Pkt Len Std'], 'Normal sample 1092': ['SYN Flag Cnt', 'ACK Flag Cnt', 'FIN Flag Cnt', 'Pkt Size Avg', 'Bwd Pkts/s', 'Pkt Len Max', 'Flow Pkts/s', 'Pkt Len Mean', 'Pkt Len Min', 'Pkt Len Std'], 'Normal sample 1093': ['SYN Flag Cnt', 'ACK Flag Cnt', 'FIN Flag Cnt', 'Bwd Pkts/s', 'Flow Pkts/s', 'Pkt Len Mean', 'Pkt Size Avg', 'Pkt Len Max', 'Pkt Len Min', 'Pkt Len Std'], 'Normal sample 1094': ['Init Bwd Win Byts', 'Fwd IAT Tot', 'Fwd IAT Std', 'Down/Up Ratio', 'Bwd IAT Tot', 'ACK Flag Cnt', 'Pkt Len Max', 'Fwd IAT Max', 'Fwd IAT Mean', 'FIN Flag Cnt'], 'Normal sample 1095': ['SYN Flag Cnt', 'FIN Flag Cnt', 'ACK Flag Cnt', 'Pkt Size Avg', 'Pkt Len Mean', 'Pkt Len Max', 'Bwd Pkts/s', 'Flow Pkts/s', 'Pkt Len Min', 'Pkt Len Std'], 'Normal sample 1096': ['Init Bwd Win Byts', 'SYN Flag Cnt', 'Flow IAT Max', 'Bwd IAT Std', 'PSH Flag Cnt', 'Idle Min', 'Idle Max', 'Bwd IAT Max', 'Bwd URG Flags', 'Idle Mean'], 'Normal sample 1097': ['Init Bwd Win Byts', 'SYN Flag Cnt', 'FIN Flag Cnt', 'Down/Up Ratio', 'Flow IAT Max', 'Flow Pkts/s', 'Bwd IAT Std', 'Idle Mean', 'Idle Max', 'Flow IAT Mean'], 'Normal sample 1098': ['Init Bwd Win Byts', 'ACK Flag Cnt', 'FIN Flag Cnt', 'Pkt Len Max', 'Fwd Pkt Len Max', 'Fwd IAT Tot', 'Fwd IAT Max', 'Bwd IAT Max', 'Fwd IAT Std', 'Bwd IAT Tot'], 'Normal sample 1099': ['Init Bwd Win Byts', 'Fwd IAT Tot', 'Fwd IAT Std', 'ACK Flag Cnt', 'Fwd IAT Max', 'FIN Flag Cnt', 'Fwd Pkt Len Std', 'Bwd IAT Tot', 'Down/Up Ratio', 'Fwd Pkt Len Max'], 'Normal sample 1100': ['Init Bwd Win Byts', 'SYN Flag Cnt', 'Flow IAT Mean', 'Flow IAT Max', 'Idle Mean', 'Idle Min', 'ACK Flag Cnt', 'PSH Flag Cnt', 'Bwd IAT Max', 'Idle Max'], 'Normal sample 1101': ['Init Bwd Win Byts', 'Fwd IAT Tot', 'Pkt Len Max', 'Fwd IAT Std', 'Fwd IAT Max', 'FIN Flag Cnt', 'ACK Flag Cnt', 'Pkt Len Std', 'Flow Pkts/s', 'Fwd Pkt Len Max'], 'Normal sample 1102': ['Init Bwd Win Byts', 'SYN Flag Cnt', 'Bwd Pkts/s', 'Flow Pkts/s', 'FIN Flag Cnt', 'Fwd IAT Mean', 'Fwd IAT Max', 'Down/Up Ratio', 'Fwd IAT Min', 'Fwd IAT Tot'], 'Normal sample 1103': ['Init Bwd Win Byts', 'Pkt Size Avg', 'Pkt Len Mean', 'Pkt Len Max', 'Fwd Pkt Len Max', 'ACK Flag Cnt', 'Fwd Pkt Len Std', 'Pkt Len Std', 'Down/Up Ratio', 'Flow Duration'], 'Normal sample 1104': ['SYN Flag Cnt', 'ACK Flag Cnt', 'FIN Flag Cnt', 'Pkt Size Avg', 'Pkt Len Max', 'Bwd Pkts/s', 'Flow Pkts/s', 'Pkt Len Mean', 'Pkt Len Std', 'Pkt Len Min'], 'Normal sample 1105': ['SYN Flag Cnt', 'Flow Pkts/s', 'Bwd Pkts/s', 'Down/Up Ratio', 'FIN Flag Cnt', 'Fwd IAT Std', 'Bwd IAT Std', 'Flow Duration', 'Bwd IAT Tot', 'Flow IAT Std'], 'Normal sample 1106': ['Init Bwd Win Byts', 'SYN Flag Cnt', 'Flow IAT Max', 'Down/Up Ratio', 'Idle Max', 'Bwd IAT Tot', 'URG Flag Cnt', 'Idle Mean', 'Idle Min', 'Subflow Bwd Pkts'], 'Normal sample 1107': ['Init Bwd Win Byts', 'SYN Flag Cnt', 'Down/Up Ratio', 'FIN Flag Cnt', 'Flow IAT Max', 'Idle Max', 'PSH Flag Cnt', 'Idle Min', 'Idle Mean', 'Flow Pkts/s'], 'Normal sample 1108': ['SYN Flag Cnt', 'FIN Flag Cnt', 'Pkt Size Avg', 'Fwd Seg Size Avg', 'Pkt Len Mean', 'Flow Pkts/s', 'ACK Flag Cnt', 'Fwd Pkt Len Mean', 'Pkt Len Min', 'Fwd Pkt Len Min'], 'Normal sample 1109': ['SYN Flag Cnt', 'FIN Flag Cnt', 'Pkt Size Avg', 'ACK Flag Cnt', 'Pkt Len Mean', 'Pkt Len Min', 'Fwd Seg Size Avg', 'Fwd Pkt Len Mean', 'Flow Pkts/s', 'Bwd Pkts/s'], 'Normal sample 1110': ['Init Bwd Win Byts', 'Fwd IAT Std', 'Fwd IAT Tot', 'FIN Flag Cnt', 'Fwd IAT Max', 'Pkt Len Max', 'Fwd Pkt Len Max', 'Fwd Pkt Len Std', 'Pkt Len Std', 'Fwd Seg Size Avg'], 'Normal sample 1111': ['Init Bwd Win Byts', 'Pkt Len Max', 'Fwd Pkt Len Max', 'Fwd Pkt Len Std', 'Bwd IAT Max', 'Fwd IAT Max', 'FIN Flag Cnt', 'Fwd IAT Tot', 'Pkt Len Std', 'Bwd IAT Tot'], 'Normal sample 1112': ['Init Bwd Win Byts', 'Pkt Size Avg', 'Pkt Len Max', 'Pkt Len Mean', 'Fwd Pkt Len Max', 'Fwd Seg Size Avg', 'Pkt Len Std', 'Flow Pkts/s', 'Fwd Pkt Len Mean', 'Down/Up Ratio'], 'Normal sample 1113': ['Init Bwd Win Byts', 'SYN Flag Cnt', 'Down/Up Ratio', 'FIN Flag Cnt', 'Idle Min', 'Flow IAT Max', 'Flow Pkts/s', 'Bwd IAT Max', 'Idle Max', 'Flow IAT Std'], 'Normal sample 1114': ['SYN Flag Cnt', 'FIN Flag Cnt', 'ACK Flag Cnt', 'Pkt Size Avg', 'Pkt Len Mean', 'Flow Pkts/s', 'Pkt Len Max', 'Pkt Len Std', 'Bwd Pkts/s', 'Pkt Len Min'], 'Normal sample 1115': ['SYN Flag Cnt', 'FIN Flag Cnt', 'ACK Flag Cnt', 'Pkt Size Avg', 'Pkt Len Mean', 'Pkt Len Min', 'Pkt Len Max', 'Pkt Len Std', 'Flow Pkts/s', 'Bwd Pkts/s'], 'Normal sample 1116': ['Init Bwd Win Byts', 'SYN Flag Cnt', 'FIN Flag Cnt', 'Flow IAT Max', 'Flow Pkts/s', 'Flow Duration', 'Down/Up Ratio', 'Idle Min', 'Idle Max', 'URG Flag Cnt'], 'Normal sample 1117': ['Init Bwd Win Byts', 'Fwd IAT Tot', 'Fwd IAT Std', 'Pkt Len Max', 'ACK Flag Cnt', 'Fwd Pkt Len Max', 'Pkt Size Avg', 'Bwd IAT Tot', 'FIN Flag Cnt', 'Pkt Len Std'], 'Normal sample 1118': ['Init Bwd Win Byts', 'SYN Flag Cnt', 'FIN Flag Cnt', 'Flow Pkts/s', 'Bwd Pkts/s', 'Down/Up Ratio', 'Fwd Pkt Len Max', 'Fwd Pkt Len Std', 'Fwd Pkt Len Mean', 'Flow IAT Max'], 'Normal sample 1119': ['Init Bwd Win Byts', 'Down/Up Ratio', 'ACK Flag Cnt', 'SYN Flag Cnt', 'Bwd Pkts/s', 'Flow Pkts/s', 'Idle Min', 'Idle Max', 'Flow IAT Max', 'Active Max'], 'Normal sample 1120': ['SYN Flag Cnt', 'FIN Flag Cnt', 'ACK Flag Cnt', 'Pkt Size Avg', 'Flow Pkts/s', 'Bwd Pkts/s', 'Pkt Len Mean', 'Pkt Len Max', 'Pkt Len Std', 'Pkt Len Min'], 'Normal sample 1121': ['SYN Flag Cnt', 'ACK Flag Cnt', 'FIN Flag Cnt', 'Pkt Size Avg', 'Pkt Len Max', 'Pkt Len Mean', 'Bwd Pkts/s', 'Flow Pkts/s', 'Pkt Len Min', 'Pkt Len Std'], 'Normal sample 1122': ['SYN Flag Cnt', 'FIN Flag Cnt', 'Pkt Size Avg', 'Pkt Len Mean', 'Flow Pkts/s', 'Pkt Len Max', 'Pkt Len Min', 'Pkt Len Std', 'Bwd Pkts/s', 'Bwd Pkt Len Min'], 'Normal sample 1123': ['SYN Flag Cnt', 'ACK Flag Cnt', 'FIN Flag Cnt', 'Flow Pkts/s', 'Pkt Size Avg', 'Bwd Pkts/s', 'Pkt Len Max', 'Pkt Len Mean', 'Pkt Len Std', 'Pkt Len Min'], 'Normal sample 1124': ['SYN Flag Cnt', 'ACK Flag Cnt', 'FIN Flag Cnt', 'Pkt Size Avg', 'Pkt Len Mean', 'Flow Pkts/s', 'Bwd Pkts/s', 'Pkt Len Max', 'Pkt Len Std', 'Pkt Len Min'], 'Normal sample 1125': ['Init Bwd Win Byts', 'Bwd PSH Flags', 'Fwd IAT Std', 'Fwd IAT Tot', 'Bwd Pkts/s', 'Down/Up Ratio', 'SYN Flag Cnt', 'Pkt Len Var', 'Active Mean', 'Pkt Len Mean'], 'Normal sample 1126': ['SYN Flag Cnt', 'ACK Flag Cnt', 'Bwd IAT Tot', 'Down/Up Ratio', 'FIN Flag Cnt', 'Pkt Len Min', 'Bwd IAT Std', 'Pkt Size Avg', 'Bwd IAT Max', 'Bwd Pkts/s'], 'Normal sample 1127': ['SYN Flag Cnt', 'FIN Flag Cnt', 'ACK Flag Cnt', 'Pkt Size Avg', 'Pkt Len Mean', 'Bwd Pkts/s', 'Pkt Len Max', 'Flow Pkts/s', 'Pkt Len Std', 'Pkt Len Min'], 'Normal sample 1128': ['Init Bwd Win Byts', 'SYN Flag Cnt', 'Down/Up Ratio', 'FIN Flag Cnt', 'Flow Pkts/s', 'Idle Mean', 'Flow IAT Max', 'Bwd IAT Std', 'Idle Min', 'URG Flag Cnt'], 'Normal sample 1129': ['Init Bwd Win Byts', 'Fwd IAT Std', 'Fwd IAT Tot', 'Bwd PSH Flags', 'SYN Flag Cnt', 'Bwd IAT Tot', 'Bwd Pkts/s', 'Down/Up Ratio', 'Fwd IAT Max', 'Bwd Pkt Len Mean'], 'Normal sample 1130': ['Init Bwd Win Byts', 'SYN Flag Cnt', 'Flow Pkts/s', 'Bwd Pkts/s', 'FIN Flag Cnt', 'Bwd Pkt Len Min', 'Pkt Size Avg', 'Idle Min', 'URG Flag Cnt', 'Bwd PSH Flags'], 'Normal sample 1131': ['Init Bwd Win Byts', 'Pkt Len Max', 'Fwd IAT Max', 'Fwd Pkt Len Std', 'Down/Up Ratio', 'ACK Flag Cnt', 'Fwd IAT Tot', 'FIN Flag Cnt', 'Fwd Pkt Len Max', 'Fwd Seg Size Avg'], 'Normal sample 1132': ['SYN Flag Cnt', 'Fwd Pkt Len Max', 'Fwd Pkt Len Mean', 'Fwd Seg Size Avg', 'Fwd Pkt Len Std', 'Pkt Size Avg', 'Pkt Len Mean', 'Pkt Len Max', 'FIN Flag Cnt', 'Down/Up Ratio'], 'Normal sample 1133': ['Bwd PSH Flags', 'SYN Flag Cnt', 'Down/Up Ratio', 'Bwd Pkts/s', 'Flow Pkts/s', 'FIN Flag Cnt', 'Bwd IAT Std', 'Bwd IAT Tot', 'Flow IAT Std', 'Flow Duration'], 'Normal sample 1134': ['SYN Flag Cnt', 'ACK Flag Cnt', 'FIN Flag Cnt', 'Pkt Size Avg', 'Pkt Len Mean', 'Flow Pkts/s', 'Pkt Len Max', 'Bwd Pkts/s', 'Pkt Len Min', 'Pkt Len Std'], 'Normal sample 1135': ['SYN Flag Cnt', 'ACK Flag Cnt', 'FIN Flag Cnt', 'Flow Pkts/s', 'Bwd Pkts/s', 'Pkt Size Avg', 'Pkt Len Max', 'Pkt Len Mean', 'Pkt Len Min', 'Pkt Len Std'], 'Normal sample 1136': ['SYN Flag Cnt', 'ACK Flag Cnt', 'FIN Flag Cnt', 'Pkt Size Avg', 'Bwd Pkts/s', 'Pkt Len Max', 'Pkt Len Mean', 'Flow Pkts/s', 'Pkt Len Std', 'Pkt Len Min'], 'Normal sample 1137': ['Init Bwd Win Byts', 'Pkt Size Avg', 'Pkt Len Mean', 'Pkt Len Max', 'Fwd Pkt Len Max', 'Fwd Pkt Len Std', 'FIN Flag Cnt', 'Fwd Pkt Len Mean', 'Tot Bwd Pkts', 'Flow Pkts/s'], 'Normal sample 1138': ['SYN Flag Cnt', 'FIN Flag Cnt', 'ACK Flag Cnt', 'Pkt Size Avg', 'Pkt Len Max', 'Pkt Len Mean', 'Pkt Len Min', 'Pkt Len Std', 'Bwd Pkts/s', 'Flow Pkts/s'], 'Normal sample 1139': ['SYN Flag Cnt', 'FIN Flag Cnt', 'ACK Flag Cnt', 'Pkt Size Avg', 'Pkt Len Max', 'Pkt Len Mean', 'Flow Pkts/s', 'Bwd Pkts/s', 'Pkt Len Min', 'Pkt Len Std'], 'Normal sample 1140': ['SYN Flag Cnt', 'FIN Flag Cnt', 'Pkt Size Avg', 'ACK Flag Cnt', 'Flow Byts/s', 'Pkt Len Min', 'Pkt Len Mean', 'Fwd Pkt Len Mean', 'Fwd Seg Size Avg', 'Fwd Pkt Len Min'], 'Normal sample 1141': ['Init Bwd Win Byts', 'Fwd IAT Max', 'Fwd IAT Std', 'Pkt Len Max', 'Pkt Len Std', 'ACK Flag Cnt', 'Pkt Len Mean', 'FIN Flag Cnt', 'Fwd IAT Tot', 'Pkt Size Avg'], 'Normal sample 1142': ['Init Bwd Win Byts', 'Fwd IAT Std', 'Fwd Pkt Len Max', 'FIN Flag Cnt', 'Fwd Pkt Len Mean', 'Fwd IAT Tot', 'Fwd IAT Max', 'Fwd Pkt Len Std', 'Flow Pkts/s', 'Pkt Len Max'], 'Normal sample 1143': ['SYN Flag Cnt', 'ACK Flag Cnt', 'FIN Flag Cnt', 'Bwd Pkts/s', 'Pkt Size Avg', 'Pkt Len Max', 'Pkt Len Mean', 'Flow Pkts/s', 'Pkt Len Std', 'Pkt Len Min'], 'Normal sample 1144': ['SYN Flag Cnt', 'ACK Flag Cnt', 'FIN Flag Cnt', 'Pkt Size Avg', 'Pkt Len Mean', 'Flow Pkts/s', 'Pkt Len Max', 'Bwd Pkts/s', 'Pkt Len Min', 'Pkt Len Std'], 'Normal sample 1145': ['SYN Flag Cnt', 'ACK Flag Cnt', 'FIN Flag Cnt', 'Pkt Size Avg', 'Flow Pkts/s', 'Bwd Pkts/s', 'Pkt Len Max', 'Pkt Len Mean', 'Pkt Len Min', 'Pkt Len Std'], 'Normal sample 1146': ['Init Bwd Win Byts', 'SYN Flag Cnt', 'FIN Flag Cnt', 'Down/Up Ratio', 'Flow IAT Max', 'Flow Pkts/s', 'URG Flag Cnt', 'Idle Max', 'Idle Mean', 'Flow IAT Mean'], 'Normal sample 1147': ['SYN Flag Cnt', 'ACK Flag Cnt', 'FIN Flag Cnt', 'Bwd Pkts/s', 'Pkt Size Avg', 'Pkt Len Max', 'Flow Pkts/s', 'Pkt Len Std', 'Pkt Len Mean', 'Pkt Len Min'], 'Normal sample 1148': ['SYN Flag Cnt', 'ACK Flag Cnt', 'FIN Flag Cnt', 'Pkt Size Avg', 'Pkt Len Mean', 'Pkt Len Max', 'Flow Pkts/s', 'Bwd Pkts/s', 'Pkt Len Std', 'Pkt Len Min'], 'Normal sample 1149': ['Init Bwd Win Byts', 'Pkt Len Max', 'Pkt Size Avg', 'Pkt Len Mean', 'Fwd Pkt Len Max', 'Bwd Header Len', 'Pkt Len Std', 'Fwd IAT Tot', 'Flow Duration', 'Flow Pkts/s'], 'Normal sample 1150': ['SYN Flag Cnt', 'FIN Flag Cnt', 'Pkt Size Avg', 'Pkt Len Mean', 'Pkt Len Min', 'ACK Flag Cnt', 'Fwd Pkt Len Mean', 'Flow Pkts/s', 'Bwd Pkts/s', 'Fwd Seg Size Avg'], 'Normal sample 1151': ['SYN Flag Cnt', 'ACK Flag Cnt', 'FIN Flag Cnt', 'Bwd Pkts/s', 'Flow Pkts/s', 'Pkt Size Avg', 'Pkt Len Mean', 'Pkt Len Max', 'Pkt Len Std', 'Pkt Len Min'], 'Normal sample 1152': ['SYN Flag Cnt', 'FIN Flag Cnt', 'ACK Flag Cnt', 'Pkt Size Avg', 'Pkt Len Mean', 'Bwd Pkts/s', 'Pkt Len Std', 'Pkt Len Max', 'Flow Pkts/s', 'Pkt Len Min'], 'Normal sample 1153': ['Init Bwd Win Byts', 'Fwd IAT Std', 'Fwd IAT Tot', 'ACK Flag Cnt', 'Pkt Len Max', 'Fwd IAT Max', 'Down/Up Ratio', 'Pkt Size Avg', 'Bwd Pkts/s', 'Pkt Len Std'], 'Normal sample 1154': ['SYN Flag Cnt', 'ACK Flag Cnt', 'FIN Flag Cnt', 'Pkt Size Avg', 'Pkt Len Mean', 'Pkt Len Max', 'Pkt Len Std', 'Bwd Pkts/s', 'Flow Pkts/s', 'Pkt Len Min'], 'Normal sample 1155': ['Init Bwd Win Byts', 'Fwd IAT Std', 'Fwd IAT Tot', 'Bwd PSH Flags', 'SYN Flag Cnt', 'Down/Up Ratio', 'Pkt Len Mean', 'Fwd Seg Size Avg', 'Pkt Size Avg', 'Fwd Pkt Len Mean'], 'Normal sample 1156': ['SYN Flag Cnt', 'FIN Flag Cnt', 'Pkt Size Avg', 'ACK Flag Cnt', 'Pkt Len Mean', 'Flow Byts/s', 'Pkt Len Min', 'Fwd Pkt Len Mean', 'Flow Pkts/s', 'Fwd Seg Size Avg'], 'Normal sample 1157': ['Init Bwd Win Byts', 'SYN Flag Cnt', 'Down/Up Ratio', 'FIN Flag Cnt', 'Flow IAT Max', 'Bwd IAT Std', 'Flow Pkts/s', 'Idle Max', 'PSH Flag Cnt', 'Idle Min'], 'Normal sample 1158': ['Init Bwd Win Byts', 'Fwd IAT Tot', 'SYN Flag Cnt', 'Fwd IAT Std', 'Fwd Pkt Len Max', 'Fwd Seg Size Avg', 'Bwd PSH Flags', 'Down/Up Ratio', 'Bwd Pkts/s', 'Bwd IAT Mean'], 'Normal sample 1159': ['SYN Flag Cnt', 'Flow Byts/s', 'Fwd Pkt Len Max', 'Fwd Pkt Len Mean', 'Fwd Seg Size Avg', 'Fwd Pkt Len Std', 'Pkt Len Max', 'Pkt Len Mean', 'Pkt Size Avg', 'Bwd Pkts/s'], 'Normal sample 1160': ['SYN Flag Cnt', 'FIN Flag Cnt', 'Pkt Size Avg', 'Flow Pkts/s', 'Pkt Len Mean', 'Bwd Pkts/s', 'Pkt Len Max', 'Pkt Len Std', 'Pkt Len Min', 'Bwd Pkt Len Min'], 'Normal sample 1161': ['SYN Flag Cnt', 'ACK Flag Cnt', 'FIN Flag Cnt', 'Pkt Size Avg', 'Pkt Len Max', 'Pkt Len Std', 'Pkt Len Mean', 'Bwd Pkts/s', 'Pkt Len Min', 'Flow Pkts/s'], 'Normal sample 1162': ['SYN Flag Cnt', 'FIN Flag Cnt', 'ACK Flag Cnt', 'Pkt Size Avg', 'Pkt Len Mean', 'Pkt Len Min', 'Pkt Len Max', 'Bwd Pkts/s', 'Pkt Len Std', 'Flow Pkts/s'], 'Normal sample 1163': ['SYN Flag Cnt', 'ACK Flag Cnt', 'FIN Flag Cnt', 'Flow Pkts/s', 'Pkt Size Avg', 'Bwd Pkts/s', 'Pkt Len Max', 'Pkt Len Mean', 'Pkt Len Min', 'Pkt Len Std'], 'Normal sample 1164': ['Init Bwd Win Byts', 'SYN Flag Cnt', 'Down/Up Ratio', 'FIN Flag Cnt', 'Flow Pkts/s', 'Flow IAT Max', 'Idle Max', 'Idle Min', 'Idle Mean', 'PSH Flag Cnt'], 'Normal sample 1165': ['Init Bwd Win Byts', 'Fwd IAT Tot', 'Pkt Len Max', 'Bwd IAT Tot', 'ACK Flag Cnt', 'FIN Flag Cnt', 'Fwd Pkt Len Max', 'Pkt Len Mean', 'Down/Up Ratio', 'Fwd IAT Std'], 'Normal sample 1166': ['Init Bwd Win Byts', 'Fwd IAT Tot', 'Fwd IAT Std', 'Down/Up Ratio', 'ACK Flag Cnt', 'FIN Flag Cnt', 'Fwd Pkt Len Max', 'Fwd IAT Max', 'Pkt Len Max', 'Pkt Len Mean'], 'Normal sample 1167': ['Init Bwd Win Byts', 'SYN Flag Cnt', 'ACK Flag Cnt', 'FIN Flag Cnt', 'Bwd Pkts/s', 'Flow IAT Mean', 'Flow Pkts/s', 'Down/Up Ratio', 'Pkt Size Avg', 'Idle Min'], 'Normal sample 1168': ['SYN Flag Cnt', 'ACK Flag Cnt', 'FIN Flag Cnt', 'Pkt Size Avg', 'Pkt Len Max', 'Pkt Len Mean', 'Flow Pkts/s', 'Pkt Len Std', 'Bwd Pkts/s', 'Pkt Len Min'], 'Normal sample 1169': ['SYN Flag Cnt', 'ACK Flag Cnt', 'FIN Flag Cnt', 'Pkt Size Avg', 'Pkt Len Mean', 'Pkt Len Max', 'Flow Pkts/s', 'Pkt Len Std', 'Bwd Pkts/s', 'Pkt Len Min'], 'Normal sample 1170': ['SYN Flag Cnt', 'FIN Flag Cnt', 'ACK Flag Cnt', 'Pkt Size Avg', 'Pkt Len Mean', 'Pkt Len Min', 'Flow Pkts/s', 'Pkt Len Max', 'Bwd Pkts/s', 'Pkt Len Std'], 'Normal sample 1171': ['SYN Flag Cnt', 'FIN Flag Cnt', 'ACK Flag Cnt', 'Bwd Pkts/s', 'Pkt Size Avg', 'Flow Pkts/s', 'Pkt Len Max', 'Pkt Len Mean', 'Pkt Len Min', 'Pkt Len Std'], 'Normal sample 1172': ['SYN Flag Cnt', 'ACK Flag Cnt', 'FIN Flag Cnt', 'Bwd Pkts/s', 'Pkt Size Avg', 'Flow Pkts/s', 'Pkt Len Max', 'Pkt Len Mean', 'Pkt Len Min', 'Pkt Len Std'], 'Normal sample 1173': ['SYN Flag Cnt', 'FIN Flag Cnt', 'ACK Flag Cnt', 'Pkt Size Avg', 'Pkt Len Max', 'Pkt Len Mean', 'Pkt Len Std', 'Flow Pkts/s', 'Pkt Len Min', 'Bwd Pkts/s'], 'Normal sample 1174': ['SYN Flag Cnt', 'FIN Flag Cnt', 'Pkt Size Avg', 'Flow Pkts/s', 'Pkt Len Min', 'Pkt Len Mean', 'Bwd Pkts/s', 'Pkt Len Max', 'Pkt Len Std', 'Bwd Pkt Len Min'], 'Normal sample 1175': ['Init Bwd Win Byts', 'Pkt Len Max', 'Pkt Size Avg', 'Pkt Len Mean', 'FIN Flag Cnt', 'Flow Pkts/s', 'Fwd Pkt Len Std', 'Down/Up Ratio', 'Pkt Len Std', 'Fwd Pkt Len Max'], 'Normal sample 1176': ['Init Bwd Win Byts', 'Fwd Pkt Len Max', 'Fwd IAT Std', 'Fwd IAT Max', 'FIN Flag Cnt', 'Fwd IAT Tot', 'Fwd Pkt Len Mean', 'Flow Pkts/s', 'Fwd Pkt Len Std', 'ACK Flag Cnt'], 'Normal sample 1177': ['Init Bwd Win Byts', 'SYN Flag Cnt', 'Down/Up Ratio', 'FIN Flag Cnt', 'Flow Pkts/s', 'Flow IAT Max', 'URG Flag Cnt', 'Bwd IAT Std', 'Idle Max', 'Idle Mean'], 'Normal sample 1178': ['SYN Flag Cnt', 'ACK Flag Cnt', 'FIN Flag Cnt', 'Pkt Size Avg', 'Pkt Len Mean', 'Flow Pkts/s', 'Pkt Len Max', 'Pkt Len Std', 'Bwd Pkts/s', 'Pkt Len Min'], 'Normal sample 1179': ['Init Bwd Win Byts', 'Fwd IAT Tot', 'Fwd IAT Std', 'Bwd PSH Flags', 'SYN Flag Cnt', 'Bwd Pkts/s', 'Pkt Len Std', 'Bwd Seg Size Avg', 'Pkt Len Max', 'Subflow Bwd Byts'], 'Normal sample 1180': ['SYN Flag Cnt', 'ACK Flag Cnt', 'FIN Flag Cnt', 'Pkt Size Avg', 'Flow Pkts/s', 'Pkt Len Max', 'Bwd Pkts/s', 'Pkt Len Mean', 'Pkt Len Min', 'Pkt Len Std'], 'Normal sample 1181': ['Init Bwd Win Byts', 'Fwd Pkt Len Max', 'Fwd IAT Tot', 'Pkt Len Max', 'ACK Flag Cnt', 'Fwd Seg Size Avg', 'Fwd Pkt Len Std', 'Pkt Len Std', 'Pkt Size Avg', 'Fwd IAT Std'], 'Normal sample 1182': ['SYN Flag Cnt', 'ACK Flag Cnt', 'FIN Flag Cnt', 'Bwd Pkts/s', 'Pkt Size Avg', 'Flow Pkts/s', 'Pkt Len Max', 'Pkt Len Mean', 'Pkt Len Std', 'Pkt Len Min'], 'Normal sample 1183': ['Init Bwd Win Byts', 'SYN Flag Cnt', 'Bwd Pkts/s', 'Down/Up Ratio', 'Flow Pkts/s', 'Pkt Size Avg', 'FIN Flag Cnt', 'Bwd PSH Flags', 'Fwd Pkts/s', 'Idle Mean'], 'Normal sample 1184': ['Init Bwd Win Byts', 'Down/Up Ratio', 'SYN Flag Cnt', 'Fwd Pkt Len Mean', 'Fwd Seg Size Avg', 'Flow Pkts/s', 'Fwd Pkt Len Min', 'FIN Flag Cnt', 'Fwd Pkt Len Max', 'Pkt Len Max'], 'Normal sample 1185': ['SYN Flag Cnt', 'ACK Flag Cnt', 'FIN Flag Cnt', 'Pkt Size Avg', 'Pkt Len Mean', 'Pkt Len Max', 'Bwd Pkts/s', 'Flow Pkts/s', 'Pkt Len Std', 'Pkt Len Min'], 'Normal sample 1186': ['Init Bwd Win Byts', 'SYN Flag Cnt', 'Down/Up Ratio', 'FIN Flag Cnt', 'Flow Pkts/s', 'Pkt Size Avg', 'Bwd Pkts/s', 'Bwd PSH Flags', 'Bwd Pkt Len Min', 'Pkt Len Max'], 'Normal sample 1187': ['SYN Flag Cnt', 'FIN Flag Cnt', 'ACK Flag Cnt', 'Pkt Size Avg', 'Pkt Len Max', 'Pkt Len Mean', 'Bwd Pkts/s', 'Pkt Len Min', 'Flow Pkts/s', 'Pkt Len Std'], 'Normal sample 1188': ['Init Bwd Win Byts', 'SYN Flag Cnt', 'FIN Flag Cnt', 'Bwd Pkt Len Min', 'Down/Up Ratio', 'Flow Pkts/s', 'Pkt Size Avg', 'Pkt Len Std', 'Pkt Len Mean', 'Bwd Pkt Len Std'], 'Normal sample 1189': ['Init Bwd Win Byts', 'Fwd IAT Tot', 'Fwd Pkt Len Max', 'Bwd PSH Flags', 'Fwd Pkt Len Std', 'Fwd IAT Std', 'SYN Flag Cnt', 'Pkt Len Max', 'Fwd Pkt Len Mean', 'Fwd Seg Size Avg'], 'Normal sample 1190': ['Init Bwd Win Byts', 'Down/Up Ratio', 'Fwd IAT Tot', 'Fwd IAT Std', 'SYN Flag Cnt', 'Fwd IAT Max', 'Bwd IAT Tot', 'Bwd IAT Std', 'Bwd IAT Max', 'Active Std'], 'Normal sample 1191': ['SYN Flag Cnt', 'FIN Flag Cnt', 'ACK Flag Cnt', 'Pkt Size Avg', 'Pkt Len Max', 'Flow Pkts/s', 'Pkt Len Mean', 'Pkt Len Min', 'Pkt Len Std', 'Bwd Pkts/s'], 'Normal sample 1192': ['SYN Flag Cnt', 'FIN Flag Cnt', 'ACK Flag Cnt', 'Pkt Size Avg', 'Pkt Len Max', 'Pkt Len Mean', 'Pkt Len Std', 'Pkt Len Min', 'Flow Pkts/s', 'Bwd Pkts/s'], 'Normal sample 1193': ['Init Bwd Win Byts', 'Pkt Len Max', 'Fwd Pkt Len Max', 'Pkt Size Avg', 'Flow Pkts/s', 'Pkt Len Std', 'FIN Flag Cnt', 'Pkt Len Mean', 'ACK Flag Cnt', 'Bwd IAT Tot'], 'Normal sample 1194': ['SYN Flag Cnt', 'ACK Flag Cnt', 'FIN Flag Cnt', 'Pkt Size Avg', 'Bwd Pkts/s', 'Pkt Len Max', 'Pkt Len Mean', 'Flow Pkts/s', 'Pkt Len Std', 'Pkt Len Min'], 'Normal sample 1195': ['Init Bwd Win Byts', 'SYN Flag Cnt', 'Down/Up Ratio', 'Flow Pkts/s', 'Bwd Pkts/s', 'FIN Flag Cnt', 'Pkt Size Avg', 'Pkt Len Mean', 'Pkt Len Max', 'Pkt Len Std'], 'Normal sample 1196': ['Init Bwd Win Byts', 'Fwd IAT Std', 'Bwd PSH Flags', 'Fwd IAT Tot', 'SYN Flag Cnt', 'PSH Flag Cnt', 'Fwd IAT Max', 'Bwd Pkts/s', 'Down/Up Ratio', 'FIN Flag Cnt'], 'Normal sample 1197': ['SYN Flag Cnt', 'ACK Flag Cnt', 'FIN Flag Cnt', 'Bwd Pkts/s', 'Flow Pkts/s', 'Pkt Size Avg', 'Pkt Len Mean', 'Pkt Len Max', 'Pkt Len Min', 'Pkt Len Std'], 'Normal sample 1198': ['Pkt Len Max', 'Init Bwd Win Byts', 'Pkt Len Std', 'Fwd IAT Tot', 'Bwd IAT Max', 'Fwd IAT Std', 'Pkt Len Mean', 'Fwd Pkt Len Mean', 'Fwd IAT Max', 'Pkt Size Avg'], 'Normal sample 1199': ['Init Bwd Win Byts', 'SYN Flag Cnt', 'Flow Pkts/s', 'FIN Flag Cnt', 'Bwd Pkts/s', 'Down/Up Ratio', 'Fwd Pkt Len Max', 'Fwd Pkt Len Std', 'Flow IAT Max', 'PSH Flag Cnt'], 'Normal sample 1200': ['Init Bwd Win Byts', 'Fwd Pkt Len Max', 'Pkt Len Max', 'ACK Flag Cnt', 'Fwd IAT Max', 'Bwd IAT Tot', 'FIN Flag Cnt', 'Pkt Len Std', 'Fwd IAT Tot', 'Fwd Pkt Len Mean'], 'Normal sample 1201': ['Init Bwd Win Byts', 'SYN Flag Cnt', 'Down/Up Ratio', 'FIN Flag Cnt', 'PSH Flag Cnt', 'Flow Pkts/s', 'Flow IAT Max', 'Idle Mean', 'Idle Max', 'URG Flag Cnt'], 'Normal sample 1202': ['Init Bwd Win Byts', 'SYN Flag Cnt', 'FIN Flag Cnt', 'Down/Up Ratio', 'Flow Pkts/s', 'Flow IAT Std', 'Fwd IAT Mean', 'Bwd IAT Std', 'PSH Flag Cnt', 'Idle Max'], 'Normal sample 1203': ['SYN Flag Cnt', 'ACK Flag Cnt', 'FIN Flag Cnt', 'Flow Pkts/s', 'Bwd Pkts/s', 'Pkt Size Avg', 'Pkt Len Max', 'Pkt Len Mean', 'Pkt Len Min', 'Pkt Len Std'], 'Normal sample 1204': ['Fwd Pkt Len Max', 'Fwd Pkt Len Mean', 'SYN Flag Cnt', 'Fwd Pkt Len Std', 'Fwd Seg Size Avg', 'Pkt Size Avg', 'Bwd PSH Flags', 'Pkt Len Max', 'Down/Up Ratio', 'Pkt Len Mean'], 'Normal sample 1205': ['Init Bwd Win Byts', 'Pkt Len Max', 'Fwd IAT Tot', 'Pkt Len Mean', 'Pkt Size Avg', 'Pkt Len Std', 'Fwd Pkt Len Max', 'Down/Up Ratio', 'ACK Flag Cnt', 'Fwd IAT Max'], 'Normal sample 1206': ['Init Bwd Win Byts', 'Fwd IAT Tot', 'Fwd IAT Std', 'Bwd PSH Flags', 'Fwd Seg Size Avg', 'SYN Flag Cnt', 'Pkt Len Max', 'Fwd Pkt Len Mean', 'Down/Up Ratio', 'Pkt Len Std'], 'Normal sample 1207': ['Down/Up Ratio', 'SYN Flag Cnt', 'Flow Pkts/s', 'FIN Flag Cnt', 'Fwd Pkt Len Std', 'Fwd Pkt Len Mean', 'Fwd Seg Size Avg', 'Fwd Pkt Len Max', 'PSH Flag Cnt', 'Idle Max'], 'Normal sample 1208': ['SYN Flag Cnt', 'ACK Flag Cnt', 'FIN Flag Cnt', 'Pkt Size Avg', 'Bwd Pkts/s', 'Flow Pkts/s', 'Pkt Len Max', 'Pkt Len Mean', 'Pkt Len Min', 'Pkt Len Std'], 'Normal sample 1209': ['Init Bwd Win Byts', 'SYN Flag Cnt', 'Down/Up Ratio', 'Idle Max', 'PSH Flag Cnt', 'Flow IAT Max', 'Idle Mean', 'Idle Min', 'Flow Duration', 'Bwd IAT Tot'], 'Normal sample 1210': ['Init Bwd Win Byts', 'SYN Flag Cnt', 'Down/Up Ratio', 'FIN Flag Cnt', 'Flow IAT Max', 'Bwd IAT Std', 'Idle Mean', 'Idle Min', 'Idle Max', 'Flow Pkts/s'], 'Normal sample 1211': ['SYN Flag Cnt', 'FIN Flag Cnt', 'Pkt Size Avg', 'Pkt Len Min', 'ACK Flag Cnt', 'Fwd Pkt Len Mean', 'Flow Byts/s', 'Pkt Len Mean', 'Fwd Seg Size Avg', 'Fwd Pkt Len Min'], 'Normal sample 1212': ['SYN Flag Cnt', 'ACK Flag Cnt', 'FIN Flag Cnt', 'Pkt Size Avg', 'Pkt Len Mean', 'Pkt Len Max', 'Bwd Pkts/s', 'Pkt Len Min', 'Flow Pkts/s', 'Pkt Len Std'], 'Normal sample 1213': ['SYN Flag Cnt', 'ACK Flag Cnt', 'FIN Flag Cnt', 'Bwd Pkts/s', 'Pkt Size Avg', 'Flow Pkts/s', 'Pkt Len Mean', 'Pkt Len Max', 'Pkt Len Min', 'Pkt Len Std'], 'Normal sample 1214': ['SYN Flag Cnt', 'ACK Flag Cnt', 'FIN Flag Cnt', 'Bwd Pkts/s', 'Pkt Size Avg', 'Flow Pkts/s', 'Pkt Len Max', 'Pkt Len Mean', 'Pkt Len Min', 'Pkt Len Std'], 'Normal sample 1215': ['Init Bwd Win Byts', 'Fwd IAT Tot', 'Pkt Len Max', 'FIN Flag Cnt', 'Fwd IAT Max', 'Fwd Pkt Len Std', 'Fwd Pkt Len Max', 'ACK Flag Cnt', 'Pkt Len Std', 'Bwd IAT Max'], 'Normal sample 1216': ['Init Bwd Win Byts', 'Pkt Len Max', 'Pkt Size Avg', 'Pkt Len Mean', 'Fwd Pkt Len Max', 'Flow Pkts/s', 'Pkt Len Std', 'Down/Up Ratio', 'Fwd Seg Size Avg', 'FIN Flag Cnt'], 'Normal sample 1217': ['Init Bwd Win Byts', 'Bwd IAT Tot', 'Fwd Pkt Len Max', 'Fwd IAT Tot', 'Pkt Size Avg', 'Pkt Len Max', 'Pkt Len Std', 'ACK Flag Cnt', 'Fwd Pkt Len Std', 'Fwd Pkt Len Mean'], 'Normal sample 1218': ['Init Bwd Win Byts', 'SYN Flag Cnt', 'Flow IAT Max', 'Idle Max', 'Idle Min', 'ACK Flag Cnt', 'Pkt Len Min', 'Bwd IAT Tot', 'Down/Up Ratio', 'Bwd URG Flags'], 'Normal sample 1219': ['SYN Flag Cnt', 'ACK Flag Cnt', 'FIN Flag Cnt', 'Bwd Pkts/s', 'Flow Pkts/s', 'Pkt Size Avg', 'Pkt Len Mean', 'Pkt Len Max', 'Pkt Len Min', 'Pkt Len Std'], 'Normal sample 1220': ['SYN Flag Cnt', 'ACK Flag Cnt', 'FIN Flag Cnt', 'Pkt Size Avg', 'Pkt Len Mean', 'Flow Pkts/s', 'Pkt Len Max', 'Pkt Len Std', 'Bwd Pkts/s', 'Pkt Len Min'], 'Normal sample 1221': ['SYN Flag Cnt', 'ACK Flag Cnt', 'FIN Flag Cnt', 'Pkt Size Avg', 'Bwd Pkts/s', 'Pkt Len Mean', 'Flow Pkts/s', 'Pkt Len Min', 'Pkt Len Max', 'Pkt Len Std'], 'Normal sample 1222': ['Init Bwd Win Byts', 'Bwd IAT Tot', 'Bwd PSH Flags', 'SYN Flag Cnt', 'Fwd Pkt Len Max', 'Down/Up Ratio', 'Bwd IAT Max', 'Fwd Pkt Len Std', 'Bwd IAT Std', 'Fwd IAT Tot'], 'Normal sample 1223': ['Init Bwd Win Byts', 'Pkt Len Max', 'Pkt Len Std', 'Fwd IAT Tot', 'Pkt Size Avg', 'Bwd IAT Tot', 'Pkt Len Mean', 'Bwd Header Len', 'Fwd Act Data Pkts', 'Fwd IAT Std'], 'Normal sample 1224': ['SYN Flag Cnt', 'ACK Flag Cnt', 'FIN Flag Cnt', 'Pkt Size Avg', 'Pkt Len Max', 'Flow Pkts/s', 'Pkt Len Mean', 'Pkt Len Std', 'Bwd Pkts/s', 'Pkt Len Min'], 'Normal sample 1225': ['SYN Flag Cnt', 'Fwd Pkt Len Max', 'Fwd Pkt Len Mean', 'Fwd Seg Size Avg', 'Fwd Pkt Len Std', 'Pkt Size Avg', 'Pkt Len Mean', 'Pkt Len Max', 'Down/Up Ratio', 'FIN Flag Cnt'], 'Normal sample 1226': ['SYN Flag Cnt', 'FIN Flag Cnt', 'ACK Flag Cnt', 'Pkt Len Max', 'Pkt Size Avg', 'Pkt Len Std', 'Bwd Pkts/s', 'Pkt Len Mean', 'Pkt Len Min', 'Flow Pkts/s'], 'Normal sample 1227': ['SYN Flag Cnt', 'ACK Flag Cnt', 'FIN Flag Cnt', 'Pkt Size Avg', 'Pkt Len Mean', 'Pkt Len Max', 'Flow Pkts/s', 'Pkt Len Min', 'Pkt Len Std', 'Bwd Pkts/s'], 'Normal sample 1228': ['Init Bwd Win Byts', 'Fwd Pkt Len Max', 'ACK Flag Cnt', 'Fwd Pkt Len Std', 'Fwd IAT Max', 'Fwd Seg Size Avg', 'FIN Flag Cnt', 'Down/Up Ratio', 'Pkt Len Std', 'Pkt Len Max'], 'Normal sample 1229': ['Init Bwd Win Byts', 'Fwd IAT Tot', 'Down/Up Ratio', 'Pkt Len Max', 'Fwd Pkt Len Max', 'SYN Flag Cnt', 'Fwd Pkt Len Std', 'Fwd Pkt Len Mean', 'Fwd Seg Size Avg', 'FIN Flag Cnt'], 'Normal sample 1230': ['Init Bwd Win Byts', 'Fwd IAT Std', 'Fwd IAT Tot', 'Bwd IAT Tot', 'Fwd IAT Max', 'Pkt Len Max', 'Down/Up Ratio', 'ACK Flag Cnt', 'Pkt Len Std', 'Fwd Header Len'], 'Normal sample 1231': ['SYN Flag Cnt', 'FIN Flag Cnt', 'Pkt Size Avg', 'ACK Flag Cnt', 'Pkt Len Mean', 'Pkt Len Min', 'Pkt Len Max', 'Bwd Pkts/s', 'Flow Pkts/s', 'Bwd Pkt Len Min'], 'Normal sample 1232': ['Init Bwd Win Byts', 'Pkt Len Mean', 'Fwd Pkt Len Max', 'Fwd IAT Max', 'ACK Flag Cnt', 'Pkt Size Avg', 'Bwd IAT Max', 'Fwd IAT Tot', 'Pkt Len Max', 'Flow IAT Max'], 'Normal sample 1233': ['Init Bwd Win Byts', 'SYN Flag Cnt', 'Down/Up Ratio', 'FIN Flag Cnt', 'Flow Pkts/s', 'PSH Flag Cnt', 'Idle Min', 'Flow IAT Max', 'Bwd IAT Std', 'Idle Max'], 'Normal sample 1234': ['Fwd IAT Std', 'ACK Flag Cnt', 'Fwd IAT Max', 'Fwd IAT Tot', 'SYN Flag Cnt', 'Bwd Pkts/s', 'Pkt Len Min', 'Flow IAT Std', 'Bwd Pkt Len Min', 'Idle Mean'], 'Normal sample 1235': ['Init Bwd Win Byts', 'SYN Flag Cnt', 'Down/Up Ratio', 'FIN Flag Cnt', 'Flow Pkts/s', 'Idle Min', 'Idle Max', 'Idle Mean', 'Bwd IAT Std', 'Flow IAT Std'], 'Normal sample 1236': ['Init Bwd Win Byts', 'Fwd IAT Std', 'Fwd IAT Tot', 'Pkt Len Max', 'Bwd IAT Tot', 'Fwd Pkt Len Mean', 'ACK Flag Cnt', 'Fwd Pkt Len Max', 'Bwd Pkts/s', 'Pkt Size Avg'], 'Normal sample 1237': ['SYN Flag Cnt', 'FIN Flag Cnt', 'ACK Flag Cnt', 'Pkt Size Avg', 'Pkt Len Min', 'Pkt Len Max', 'Flow Pkts/s', 'Pkt Len Mean', 'Bwd Pkts/s', 'Pkt Len Std'], 'Normal sample 1238': ['Init Bwd Win Byts', 'Pkt Size Avg', 'Pkt Len Max', 'Pkt Len Mean', 'FIN Flag Cnt', 'Fwd Pkt Len Max', 'Pkt Len Std', 'Down/Up Ratio', 'Flow Pkts/s', 'Fwd Pkt Len Std'], 'Normal sample 1239': ['SYN Flag Cnt', 'FIN Flag Cnt', 'Pkt Size Avg', 'Flow Pkts/s', 'Pkt Len Mean', 'Pkt Len Max', 'Bwd Pkts/s', 'Pkt Len Std', 'Pkt Len Min', 'Bwd Pkt Len Min'], 'Normal sample 1240': ['SYN Flag Cnt', 'ACK Flag Cnt', 'FIN Flag Cnt', 'Pkt Size Avg', 'Bwd Pkts/s', 'Pkt Len Max', 'Flow Pkts/s', 'Pkt Len Mean', 'Pkt Len Min', 'Pkt Len Std'], 'Normal sample 1241': ['SYN Flag Cnt', 'FIN Flag Cnt', 'ACK Flag Cnt', 'Pkt Size Avg', 'Pkt Len Max', 'Flow Pkts/s', 'Bwd Pkts/s', 'Pkt Len Mean', 'Pkt Len Std', 'Pkt Len Min'], 'Normal sample 1242': ['SYN Flag Cnt', 'FIN Flag Cnt', 'ACK Flag Cnt', 'Pkt Size Avg', 'Bwd Pkts/s', 'Pkt Len Mean', 'Flow Pkts/s', 'Pkt Len Min', 'Pkt Len Max', 'Pkt Len Std'], 'Normal sample 1243': ['Init Bwd Win Byts', 'Pkt Size Avg', 'Fwd IAT Max', 'ACK Flag Cnt', 'Pkt Len Mean', 'Pkt Len Max', 'Pkt Len Std', 'Fwd Pkt Len Max', 'Fwd IAT Tot', 'Bwd IAT Tot'], 'Normal sample 1244': ['SYN Flag Cnt', 'FIN Flag Cnt', 'ACK Flag Cnt', 'Pkt Size Avg', 'Pkt Len Mean', 'Pkt Len Min', 'Flow Pkts/s', 'Pkt Len Max', 'Bwd Pkts/s', 'Pkt Len Std'], 'Normal sample 1245': ['Init Bwd Win Byts', 'Pkt Len Mean', 'Pkt Size Avg', 'Fwd Pkt Len Max', 'Pkt Len Max', 'Fwd IAT Max', 'Fwd IAT Tot', 'ACK Flag Cnt', 'Fwd IAT Std', 'Down/Up Ratio'], 'Normal sample 1246': ['SYN Flag Cnt', 'ACK Flag Cnt', 'FIN Flag Cnt', 'Bwd Pkts/s', 'Pkt Size Avg', 'Flow Pkts/s', 'Pkt Len Min', 'Pkt Len Max', 'Pkt Len Mean', 'Pkt Len Std'], 'Normal sample 1247': ['Init Bwd Win Byts', 'SYN Flag Cnt', 'Down/Up Ratio', 'FIN Flag Cnt', 'Flow IAT Max', 'Flow Pkts/s', 'Idle Max', 'Bwd IAT Std', 'Bwd IAT Max', 'Idle Mean'], 'Normal sample 1248': ['Init Bwd Win Byts', 'SYN Flag Cnt', 'Down/Up Ratio', 'Flow Pkts/s', 'Bwd Pkts/s', 'FIN Flag Cnt', 'Flow Duration', 'Flow IAT Max', 'URG Flag Cnt', 'PSH Flag Cnt'], 'Normal sample 1249': ['SYN Flag Cnt', 'FIN Flag Cnt', 'ACK Flag Cnt', 'Pkt Size Avg', 'Bwd Pkts/s', 'Pkt Len Mean', 'Flow Pkts/s', 'Pkt Len Max', 'Pkt Len Std', 'Pkt Len Min'], 'Normal sample 1250': ['SYN Flag Cnt', 'ACK Flag Cnt', 'FIN Flag Cnt', 'Flow Pkts/s', 'Bwd Pkts/s', 'Pkt Size Avg', 'Pkt Len Mean', 'Pkt Len Max', 'Pkt Len Std', 'Pkt Len Min'], 'Normal sample 1251': ['Pkt Len Max', 'Init Bwd Win Byts', 'Pkt Len Std', 'Bwd Header Len', 'Fwd IAT Tot', 'Pkt Size Avg', 'Pkt Len Mean', 'Down/Up Ratio', 'Tot Bwd Pkts', 'Subflow Bwd Pkts'], 'Normal sample 1252': ['SYN Flag Cnt', 'ACK Flag Cnt', 'FIN Flag Cnt', 'Pkt Size Avg', 'Pkt Len Max', 'Pkt Len Min', 'Pkt Len Mean', 'Bwd Pkts/s', 'Flow Pkts/s', 'Pkt Len Std'], 'Normal sample 1253': ['SYN Flag Cnt', 'FIN Flag Cnt', 'ACK Flag Cnt', 'Pkt Size Avg', 'Bwd Pkts/s', 'Flow Pkts/s', 'Pkt Len Mean', 'Pkt Len Max', 'Pkt Len Min', 'Pkt Len Std'], 'Normal sample 1254': ['SYN Flag Cnt', 'FIN Flag Cnt', 'ACK Flag Cnt', 'Pkt Size Avg', 'Pkt Len Max', 'Flow Pkts/s', 'Pkt Len Std', 'Pkt Len Mean', 'Bwd Pkts/s', 'Pkt Len Min'], 'Normal sample 1255': ['Init Bwd Win Byts', 'SYN Flag Cnt', 'FIN Flag Cnt', 'Down/Up Ratio', 'Flow Pkts/s', 'Flow IAT Max', 'Idle Max', 'Idle Mean', 'Flow Duration', 'Flow IAT Std'], 'Normal sample 1256': ['Init Bwd Win Byts', 'FIN Flag Cnt', 'Bwd IAT Max', 'Pkt Len Std', 'Fwd Pkt Len Max', 'Fwd IAT Tot', 'ACK Flag Cnt', 'Pkt Len Mean', 'Fwd IAT Std', 'Pkt Size Avg'], 'Normal sample 1257': ['SYN Flag Cnt', 'FIN Flag Cnt', 'ACK Flag Cnt', 'Pkt Len Max', 'Pkt Size Avg', 'Pkt Len Mean', 'Pkt Len Std', 'Flow Pkts/s', 'Bwd Pkts/s', 'Pkt Len Min'], 'Normal sample 1258': ['Init Bwd Win Byts', 'Pkt Size Avg', 'Pkt Len Max', 'Pkt Len Mean', 'Fwd Pkt Len Max', 'Bwd IAT Max', 'Flow Pkts/s', 'Tot Bwd Pkts', 'Pkt Len Std', 'Down/Up Ratio'], 'Normal sample 1259': ['Init Bwd Win Byts', 'SYN Flag Cnt', 'Down/Up Ratio', 'Bwd Pkts/s', 'FIN Flag Cnt', 'Flow Pkts/s', 'Bwd URG Flags', 'URG Flag Cnt', 'Pkt Size Avg', 'Flow Duration'], 'Normal sample 1260': ['SYN Flag Cnt', 'ACK Flag Cnt', 'FIN Flag Cnt', 'Bwd Pkts/s', 'Pkt Size Avg', 'Flow Pkts/s', 'Pkt Len Mean', 'Pkt Len Max', 'Pkt Len Min', 'Pkt Len Std'], 'Normal sample 1261': ['SYN Flag Cnt', 'ACK Flag Cnt', 'FIN Flag Cnt', 'Pkt Size Avg', 'Pkt Len Mean', 'Flow Pkts/s', 'Pkt Len Max', 'Pkt Len Min', 'Bwd Pkts/s', 'Pkt Len Std'], 'Normal sample 1262': ['SYN Flag Cnt', 'ACK Flag Cnt', 'FIN Flag Cnt', 'Pkt Size Avg', 'Bwd Pkts/s', 'Pkt Len Max', 'Flow Pkts/s', 'Pkt Len Mean', 'Pkt Len Min', 'Pkt Len Std'], 'Normal sample 1263': ['Init Bwd Win Byts', 'Fwd Pkt Len Max', 'FIN Flag Cnt', 'Fwd Pkt Len Mean', 'Fwd IAT Tot', 'Fwd Seg Size Avg', 'Bwd IAT Max', 'Fwd IAT Std', 'Fwd IAT Mean', 'Fwd IAT Max'], 'Normal sample 1264': ['SYN Flag Cnt', 'ACK Flag Cnt', 'FIN Flag Cnt', 'Bwd Pkts/s', 'Pkt Size Avg', 'Pkt Len Mean', 'Flow Pkts/s', 'Pkt Len Max', 'Pkt Len Min', 'Pkt Len Std'], 'Normal sample 1265': ['SYN Flag Cnt', 'ACK Flag Cnt', 'FIN Flag Cnt', 'Pkt Size Avg', 'Bwd Pkts/s', 'Flow Pkts/s', 'Pkt Len Mean', 'Pkt Len Max', 'Pkt Len Std', 'Pkt Len Min'], 'Normal sample 1266': ['SYN Flag Cnt', 'ACK Flag Cnt', 'FIN Flag Cnt', 'Pkt Size Avg', 'Bwd Pkts/s', 'Pkt Len Max', 'Pkt Len Mean', 'Pkt Len Min', 'Flow Pkts/s', 'Pkt Len Std'], 'Normal sample 1267': ['Init Bwd Win Byts', 'SYN Flag Cnt', 'FIN Flag Cnt', 'Down/Up Ratio', 'Idle Max', 'Flow Pkts/s', 'Flow IAT Max', 'Bwd IAT Std', 'Idle Min', 'Idle Mean'], 'Normal sample 1268': ['Init Bwd Win Byts', 'Pkt Len Max', 'Pkt Size Avg', 'Pkt Len Mean', 'Flow Byts/s', 'Fwd Pkt Len Max', 'Tot Bwd Pkts', 'Subflow Bwd Pkts', 'Pkt Len Std', 'Flow Pkts/s'], 'Normal sample 1269': ['SYN Flag Cnt', 'FIN Flag Cnt', 'Pkt Size Avg', 'Flow Pkts/s', 'Pkt Len Mean', 'Pkt Len Max', 'Pkt Len Std', 'Pkt Len Min', 'Bwd Pkt Len Min', 'Bwd Pkts/s'], 'Normal sample 1270': ['Init Bwd Win Byts', 'SYN Flag Cnt', 'Fwd IAT Tot', 'Bwd PSH Flags', 'Bwd IAT Tot', 'Fwd IAT Max', 'Bwd Pkts/s', 'Active Mean', 'Bwd IAT Max', 'Flow Pkts/s'], 'Normal sample 1271': ['Init Bwd Win Byts', 'Fwd IAT Std', 'Fwd IAT Tot', 'Fwd Pkt Len Max', 'Bwd Pkts/s', 'Fwd Pkt Len Std', 'Pkt Len Max', 'ACK Flag Cnt', 'Bwd IAT Tot', 'Fwd IAT Max'], 'Normal sample 1272': ['SYN Flag Cnt', 'Fwd Pkt Len Max', 'Fwd Pkt Len Std', 'Fwd Seg Size Avg', 'Fwd Pkt Len Mean', 'Pkt Len Max', 'Pkt Size Avg', 'Pkt Len Mean', 'Down/Up Ratio', 'Bwd Pkts/s'], 'Normal sample 1273': ['Init Bwd Win Byts', 'Fwd IAT Tot', 'Fwd IAT Std', 'Bwd PSH Flags', 'Bwd Pkts/s', 'Down/Up Ratio', 'SYN Flag Cnt', 'Pkt Size Avg', 'Pkt Len Max', 'Tot Fwd Pkts'], 'Normal sample 1274': ['SYN Flag Cnt', 'FIN Flag Cnt', 'ACK Flag Cnt', 'Pkt Size Avg', 'Pkt Len Mean', 'Bwd Pkts/s', 'Pkt Len Min', 'Pkt Len Max', 'Flow Pkts/s', 'Pkt Len Std'], 'Normal sample 1275': ['SYN Flag Cnt', 'ACK Flag Cnt', 'FIN Flag Cnt', 'Pkt Size Avg', 'Pkt Len Mean', 'Pkt Len Max', 'Flow Pkts/s', 'Bwd Pkts/s', 'Pkt Len Min', 'Pkt Len Std'], 'Normal sample 1276': ['SYN Flag Cnt', 'FIN Flag Cnt', 'ACK Flag Cnt', 'Pkt Size Avg', 'Pkt Len Max', 'Pkt Len Mean', 'Pkt Len Std', 'Bwd Pkts/s', 'Pkt Len Min', 'Flow Pkts/s'], 'Normal sample 1277': ['Init Bwd Win Byts', 'Fwd IAT Std', 'Pkt Len Std', 'Fwd IAT Max', 'Fwd Pkt Len Max', 'FIN Flag Cnt', 'Bwd IAT Max', 'Fwd Pkt Len Std', 'Pkt Len Max', 'Flow Pkts/s'], 'Normal sample 1278': ['Init Bwd Win Byts', 'Pkt Len Max', 'Fwd Pkt Len Max', 'Pkt Len Mean', 'Pkt Size Avg', 'FIN Flag Cnt', 'Fwd Seg Size Avg', 'Flow Pkts/s', 'Fwd Pkt Len Std', 'Fwd Pkt Len Mean'], 'Normal sample 1279': ['SYN Flag Cnt', 'FIN Flag Cnt', 'ACK Flag Cnt', 'Pkt Size Avg', 'Pkt Len Mean', 'Pkt Len Min', 'Pkt Len Std', 'Pkt Len Max', 'Bwd Pkts/s', 'Flow Pkts/s'], 'Normal sample 1280': ['SYN Flag Cnt', 'FIN Flag Cnt', 'Pkt Size Avg', 'Flow Pkts/s', 'Pkt Len Mean', 'Pkt Len Max', 'Pkt Len Min', 'Pkt Len Std', 'Bwd Pkt Len Min', 'Bwd Pkts/s'], 'Normal sample 1281': ['Init Bwd Win Byts', 'Pkt Len Max', 'Pkt Len Std', 'Bwd Header Len', 'Pkt Len Mean', 'Fwd IAT Tot', 'Pkt Size Avg', 'Bwd IAT Tot', 'Subflow Bwd Pkts', 'Tot Bwd Pkts'], 'Normal sample 1282': ['Init Bwd Win Byts', 'PSH Flag Cnt', 'SYN Flag Cnt', 'Bwd Pkts/s', 'FIN Flag Cnt', 'Flow Pkts/s', 'Pkt Size Avg', 'Down/Up Ratio', 'Pkt Len Mean', 'URG Flag Cnt'], 'Normal sample 1283': ['SYN Flag Cnt', 'FIN Flag Cnt', 'ACK Flag Cnt', 'Pkt Size Avg', 'Pkt Len Mean', 'Pkt Len Max', 'Pkt Len Std', 'Flow Pkts/s', 'Pkt Len Min', 'Bwd Pkts/s'], 'Normal sample 1284': ['SYN Flag Cnt', 'FIN Flag Cnt', 'Pkt Size Avg', 'Flow Pkts/s', 'Pkt Len Mean', 'Pkt Len Max', 'Pkt Len Std', 'Bwd Pkts/s', 'Pkt Len Min', 'Bwd Pkt Len Min'], 'Normal sample 1285': ['SYN Flag Cnt', 'FIN Flag Cnt', 'ACK Flag Cnt', 'Pkt Size Avg', 'Pkt Len Mean', 'Pkt Len Max', 'Bwd Pkts/s', 'Pkt Len Min', 'Flow Pkts/s', 'Pkt Len Std'], 'Normal sample 1286': ['SYN Flag Cnt', 'FIN Flag Cnt', 'ACK Flag Cnt', 'Pkt Size Avg', 'Pkt Len Mean', 'Pkt Len Min', 'Bwd Pkts/s', 'Pkt Len Max', 'Flow Pkts/s', 'Pkt Len Std'], 'Normal sample 1287': ['SYN Flag Cnt', 'ACK Flag Cnt', 'FIN Flag Cnt', 'Pkt Size Avg', 'Pkt Len Mean', 'Pkt Len Max', 'Bwd Pkts/s', 'Pkt Len Std', 'Flow Pkts/s', 'Pkt Len Min'], 'Normal sample 1288': ['SYN Flag Cnt', 'ACK Flag Cnt', 'FIN Flag Cnt', 'Pkt Len Max', 'Pkt Size Avg', 'Pkt Len Std', 'Flow Pkts/s', 'Bwd Pkts/s', 'Pkt Len Mean', 'Pkt Len Min'], 'Normal sample 1289': ['Init Bwd Win Byts', 'Fwd IAT Tot', 'Fwd IAT Std', 'Bwd PSH Flags', 'Fwd Pkt Len Max', 'SYN Flag Cnt', 'Bwd Pkts/s', 'Pkt Len Std', 'Fwd Pkt Len Mean', 'Active Min'], 'Normal sample 1290': ['Init Bwd Win Byts', 'PSH Flag Cnt', 'Down/Up Ratio', 'SYN Flag Cnt', 'Bwd PSH Flags', 'Subflow Fwd Pkts', 'Idle Min', 'Subflow Bwd Byts', 'Fwd IAT Min', 'Bwd Pkt Len Max'], 'Normal sample 1291': ['SYN Flag Cnt', 'ACK Flag Cnt', 'FIN Flag Cnt', 'Pkt Size Avg', 'Pkt Len Max', 'Bwd Pkts/s', 'Pkt Len Mean', 'Flow Pkts/s', 'Pkt Len Std', 'Pkt Len Min'], 'Normal sample 1292': ['SYN Flag Cnt', 'ACK Flag Cnt', 'FIN Flag Cnt', 'Pkt Size Avg', 'Pkt Len Max', 'Flow Pkts/s', 'Bwd Pkts/s', 'Pkt Len Mean', 'Pkt Len Std', 'Pkt Len Min'], 'Normal sample 1293': ['SYN Flag Cnt', 'FIN Flag Cnt', 'ACK Flag Cnt', 'Pkt Size Avg', 'Flow Pkts/s', 'Pkt Len Max', 'Pkt Len Mean', 'Bwd Pkts/s', 'Pkt Len Std', 'Pkt Len Min'], 'Normal sample 1294': ['SYN Flag Cnt', 'FIN Flag Cnt', 'ACK Flag Cnt', 'Pkt Size Avg', 'Flow Pkts/s', 'Pkt Len Mean', 'Pkt Len Max', 'Bwd Pkts/s', 'Pkt Len Std', 'Pkt Len Min'], 'Normal sample 1295': ['Init Bwd Win Byts', 'Fwd IAT Tot', 'Pkt Len Std', 'Pkt Len Max', 'ACK Flag Cnt', 'Fwd Pkt Len Max', 'Fwd IAT Max', 'Fwd IAT Std', 'Fwd Pkt Len Mean', 'Bwd IAT Tot'], 'Normal sample 1296': ['SYN Flag Cnt', 'ACK Flag Cnt', 'FIN Flag Cnt', 'Pkt Size Avg', 'Pkt Len Mean', 'Flow Pkts/s', 'Pkt Len Min', 'Pkt Len Std', 'Pkt Len Max', 'Bwd Pkts/s'], 'Normal sample 1297': ['SYN Flag Cnt', 'ACK Flag Cnt', 'FIN Flag Cnt', 'Bwd Pkts/s', 'Flow Pkts/s', 'Pkt Size Avg', 'Pkt Len Max', 'Pkt Len Mean', 'Pkt Len Min', 'Pkt Len Std'], 'Normal sample 1298': ['Init Bwd Win Byts', 'Fwd IAT Tot', 'Fwd IAT Std', 'Pkt Len Max', 'Pkt Len Mean', 'ACK Flag Cnt', 'Pkt Len Std', 'Bwd Pkts/s', 'Fwd IAT Max', 'Bwd IAT Tot'], 'Normal sample 1299': ['Init Bwd Win Byts', 'SYN Flag Cnt', 'FIN Flag Cnt', 'Down/Up Ratio', 'PSH Flag Cnt', 'Flow Pkts/s', 'Flow IAT Max', 'Idle Mean', 'Idle Max', 'Idle Min'], 'Normal sample 1300': ['SYN Flag Cnt', 'FIN Flag Cnt', 'Pkt Size Avg', 'Pkt Len Mean', 'ACK Flag Cnt', 'Fwd Seg Size Avg', 'Pkt Len Min', 'Fwd Pkt Len Mean', 'Fwd Pkt Len Min', 'Bwd Pkts/s'], 'Normal sample 1301': ['SYN Flag Cnt', 'ACK Flag Cnt', 'FIN Flag Cnt', 'Pkt Size Avg', 'Pkt Len Max', 'Flow Pkts/s', 'Pkt Len Mean', 'Bwd Pkts/s', 'Pkt Len Min', 'Pkt Len Std'], 'Normal sample 1302': ['SYN Flag Cnt', 'FIN Flag Cnt', 'ACK Flag Cnt', 'Pkt Size Avg', 'Pkt Len Mean', 'Pkt Len Max', 'Flow Pkts/s', 'Bwd Pkts/s', 'Pkt Len Min', 'Pkt Len Std'], 'Normal sample 1303': ['SYN Flag Cnt', 'ACK Flag Cnt', 'FIN Flag Cnt', 'Pkt Size Avg', 'Flow Pkts/s', 'Bwd Pkts/s', 'Pkt Len Max', 'Pkt Len Mean', 'Pkt Len Std', 'Pkt Len Min'], 'Normal sample 1304': ['SYN Flag Cnt', 'ACK Flag Cnt', 'FIN Flag Cnt', 'Pkt Size Avg', 'Pkt Len Mean', 'Pkt Len Max', 'Bwd Pkts/s', 'Pkt Len Min', 'Pkt Len Std', 'Flow Pkts/s'], 'Normal sample 1305': ['SYN Flag Cnt', 'FIN Flag Cnt', 'Pkt Size Avg', 'Pkt Len Max', 'Flow Pkts/s', 'Pkt Len Mean', 'Pkt Len Std', 'Pkt Len Min', 'Bwd Pkt Len Min', 'Bwd Pkts/s'], 'Normal sample 1306': ['SYN Flag Cnt', 'ACK Flag Cnt', 'FIN Flag Cnt', 'Pkt Size Avg', 'Pkt Len Mean', 'Flow Pkts/s', 'Bwd Pkts/s', 'Pkt Len Max', 'Pkt Len Min', 'Pkt Len Std'], 'Normal sample 1307': ['SYN Flag Cnt', 'ACK Flag Cnt', 'FIN Flag Cnt', 'Flow Pkts/s', 'Bwd Pkts/s', 'Pkt Size Avg', 'Pkt Len Max', 'Pkt Len Mean', 'Pkt Len Min', 'Pkt Len Std'], 'Normal sample 1308': ['Fwd Pkt Len Max', 'SYN Flag Cnt', 'Fwd Pkt Len Mean', 'Pkt Len Max', 'Fwd Pkt Len Std', 'Fwd Seg Size Avg', 'Pkt Len Mean', 'Pkt Len Std', 'Pkt Size Avg', 'Bwd Pkts/s'], 'Normal sample 1309': ['Init Bwd Win Byts', 'Pkt Size Avg', 'Pkt Len Max', 'Pkt Len Mean', 'Fwd Pkt Len Max', 'ACK Flag Cnt', 'Fwd IAT Tot', 'Fwd IAT Max', 'Flow Pkts/s', 'Pkt Len Std'], 'Normal sample 1310': ['Init Bwd Win Byts', 'SYN Flag Cnt', 'FIN Flag Cnt', 'Down/Up Ratio', 'Flow Pkts/s', 'Flow IAT Std', 'Flow IAT Max', 'Idle Min', 'Idle Mean', 'URG Flag Cnt'], 'Normal sample 1311': ['Init Bwd Win Byts', 'SYN Flag Cnt', 'Bwd Pkts/s', 'Down/Up Ratio', 'FIN Flag Cnt', 'Flow Pkts/s', 'Pkt Size Avg', 'TotLen Bwd Pkts', 'Bwd PSH Flags', 'Pkt Len Mean'], 'Normal sample 1312': ['Init Bwd Win Byts', 'Pkt Len Max', 'FIN Flag Cnt', 'Pkt Size Avg', 'Down/Up Ratio', 'Flow Pkts/s', 'Pkt Len Mean', 'Pkt Len Std', 'ACK Flag Cnt', 'Fwd Pkt Len Max'], 'Normal sample 1313': ['SYN Flag Cnt', 'FIN Flag Cnt', 'Pkt Size Avg', 'ACK Flag Cnt', 'Pkt Len Mean', 'Pkt Len Min', 'Fwd Pkt Len Mean', 'Flow Byts/s', 'Fwd Seg Size Avg', 'Flow Pkts/s'], 'Normal sample 1314': ['SYN Flag Cnt', 'ACK Flag Cnt', 'FIN Flag Cnt', 'Pkt Size Avg', 'Pkt Len Mean', 'Pkt Len Max', 'Flow Pkts/s', 'Pkt Len Min', 'Pkt Len Std', 'Bwd Pkts/s'], 'Normal sample 1315': ['Init Bwd Win Byts', 'SYN Flag Cnt', 'Down/Up Ratio', 'Idle Min', 'PSH Flag Cnt', 'Bwd IAT Std', 'Flow IAT Max', 'Bwd URG Flags', 'Subflow Bwd Pkts', 'Idle Max'], 'Normal sample 1316': ['Init Bwd Win Byts', 'Fwd IAT Std', 'Fwd IAT Tot', 'ACK Flag Cnt', 'Fwd IAT Max', 'Pkt Len Max', 'Bwd IAT Tot', 'Down/Up Ratio', 'FIN Flag Cnt', 'Fwd Pkt Len Max'], 'Normal sample 1317': ['Init Bwd Win Byts', 'Pkt Size Avg', 'Pkt Len Mean', 'Pkt Len Max', 'Fwd IAT Max', 'Fwd Pkt Len Max', 'Bwd IAT Tot', 'Bwd Header Len', 'Bwd IAT Std', 'Fwd Pkt Len Std'], 'Normal sample 1318': ['SYN Flag Cnt', 'ACK Flag Cnt', 'FIN Flag Cnt', 'Bwd Pkts/s', 'Flow Pkts/s', 'Pkt Size Avg', 'Pkt Len Min', 'Pkt Len Mean', 'Pkt Len Max', 'Fwd Pkt Len Mean'], 'Normal sample 1319': ['Init Bwd Win Byts', 'Fwd IAT Tot', 'Fwd IAT Std', 'Fwd IAT Max', 'Bwd IAT Tot', 'FIN Flag Cnt', 'ACK Flag Cnt', 'Fwd Pkt Len Max', 'Bwd Pkts/s', 'Down/Up Ratio'], 'Normal sample 1320': ['Init Bwd Win Byts', 'Fwd IAT Tot', 'Bwd IAT Tot', 'Pkt Len Max', 'Fwd IAT Std', 'Down/Up Ratio', 'Pkt Len Std', 'Pkt Size Avg', 'ACK Flag Cnt', 'Fwd IAT Max'], 'Normal sample 1321': ['Init Bwd Win Byts', 'Pkt Len Max', 'Pkt Size Avg', 'Pkt Len Mean', 'Fwd Pkt Len Max', 'FIN Flag Cnt', 'Down/Up Ratio', 'Pkt Len Std', 'ACK Flag Cnt', 'URG Flag Cnt'], 'Normal sample 1322': ['Init Bwd Win Byts', 'Fwd IAT Tot', 'Bwd IAT Max', 'Fwd IAT Std', 'SYN Flag Cnt', 'Fwd IAT Max', 'Tot Bwd Pkts', 'Bwd PSH Flags', 'Bwd Header Len', 'FIN Flag Cnt'], 'Normal sample 1323': ['SYN Flag Cnt', 'Flow Pkts/s', 'Bwd Pkts/s', 'FIN Flag Cnt', 'ACK Flag Cnt', 'Pkt Size Avg', 'Pkt Len Mean', 'Fwd Seg Size Avg', 'Fwd Pkt Len Mean', 'Down/Up Ratio'], 'Normal sample 1324': ['SYN Flag Cnt', 'FIN Flag Cnt', 'ACK Flag Cnt', 'Pkt Size Avg', 'Pkt Len Mean', 'Pkt Len Min', 'Flow Pkts/s', 'Bwd Pkts/s', 'Pkt Len Max', 'Pkt Len Std'], 'Normal sample 1325': ['SYN Flag Cnt', 'FIN Flag Cnt', 'ACK Flag Cnt', 'Pkt Size Avg', 'Pkt Len Min', 'Pkt Len Mean', 'Flow Pkts/s', 'Bwd Pkts/s', 'Pkt Len Max', 'Pkt Len Std'], 'Normal sample 1326': ['SYN Flag Cnt', 'FIN Flag Cnt', 'Pkt Size Avg', 'ACK Flag Cnt', 'Pkt Len Mean', 'Pkt Len Max', 'Pkt Len Min', 'Pkt Len Std', 'Bwd Pkts/s', 'Flow Pkts/s'], 'Normal sample 1327': ['SYN Flag Cnt', 'ACK Flag Cnt', 'FIN Flag Cnt', 'Pkt Size Avg', 'Pkt Len Mean', 'Pkt Len Max', 'Bwd Pkts/s', 'Flow Pkts/s', 'Pkt Len Std', 'Pkt Len Min'], 'Normal sample 1328': ['Init Bwd Win Byts', 'Fwd IAT Tot', 'SYN Flag Cnt', 'Fwd Pkt Len Max', 'Bwd IAT Tot', 'Down/Up Ratio', 'Fwd Seg Size Avg', 'Fwd IAT Std', 'Pkt Len Mean', 'Fwd Pkt Len Std'], 'Normal sample 1329': ['SYN Flag Cnt', 'FIN Flag Cnt', 'ACK Flag Cnt', 'Pkt Size Avg', 'Pkt Len Mean', 'Pkt Len Std', 'Pkt Len Min', 'Pkt Len Max', 'Bwd Pkts/s', 'Flow Pkts/s'], 'Normal sample 1330': ['Init Bwd Win Byts', 'ACK Flag Cnt', 'SYN Flag Cnt', 'Down/Up Ratio', 'Bwd Pkts/s', 'Idle Min', 'Idle Max', 'Flow Pkts/s', 'Flow IAT Max', 'Subflow Fwd Pkts'], 'Normal sample 1331': ['SYN Flag Cnt', 'Fwd Pkt Len Max', 'Fwd Pkt Len Mean', 'Fwd Pkt Len Std', 'Fwd Seg Size Avg', 'Pkt Len Max', 'Pkt Len Mean', 'Pkt Size Avg', 'Pkt Len Std', 'FIN Flag Cnt'], 'Normal sample 1332': ['Init Bwd Win Byts', 'Fwd IAT Tot', 'Pkt Len Max', 'ACK Flag Cnt', 'FIN Flag Cnt', 'Fwd IAT Std', 'Bwd IAT Max', 'Fwd IAT Max', 'Fwd Pkt Len Max', 'Fwd Pkt Len Std'], 'Normal sample 1333': ['Init Bwd Win Byts', 'Fwd Pkt Len Max', 'Pkt Len Max', 'Fwd Seg Size Avg', 'Fwd Pkt Len Mean', 'Bwd IAT Tot', 'Flow Pkts/s', 'Bwd IAT Max', 'Pkt Size Avg', 'FIN Flag Cnt'], 'Normal sample 1334': ['Init Bwd Win Byts', 'ACK Flag Cnt', 'Pkt Len Max', 'FIN Flag Cnt', 'Fwd Pkt Len Max', 'Pkt Size Avg', 'Pkt Len Std', 'Fwd Pkt Len Mean', 'Fwd IAT Max', 'Pkt Len Mean'], 'Normal sample 1335': ['SYN Flag Cnt', 'FIN Flag Cnt', 'ACK Flag Cnt', 'Pkt Size Avg', 'Pkt Len Mean', 'Pkt Len Min', 'Flow Pkts/s', 'Pkt Len Max', 'Bwd Pkts/s', 'Pkt Len Std'], 'Normal sample 1336': ['Init Bwd Win Byts', 'SYN Flag Cnt', 'FIN Flag Cnt', 'Down/Up Ratio', 'Flow IAT Max', 'Flow Pkts/s', 'URG Flag Cnt', 'Idle Max', 'Bwd IAT Max', 'Flow Duration'], 'Normal sample 1337': ['SYN Flag Cnt', 'FIN Flag Cnt', 'ACK Flag Cnt', 'Pkt Size Avg', 'Pkt Len Mean', 'Pkt Len Min', 'Pkt Len Max', 'Bwd Pkts/s', 'Pkt Len Std', 'Flow Pkts/s'], 'Normal sample 1338': ['SYN Flag Cnt', 'ACK Flag Cnt', 'FIN Flag Cnt', 'Pkt Size Avg', 'Pkt Len Mean', 'Pkt Len Max', 'Bwd Pkts/s', 'Flow Pkts/s', 'Pkt Len Min', 'Pkt Len Std'], 'Normal sample 1339': ['Init Bwd Win Byts', 'SYN Flag Cnt', 'Down/Up Ratio', 'Bwd Pkts/s', 'Pkt Size Avg', 'Flow Pkts/s', 'FIN Flag Cnt', 'Idle Max', 'Idle Mean', 'Flow IAT Std'], 'Normal sample 1340': ['SYN Flag Cnt', 'ACK Flag Cnt', 'FIN Flag Cnt', 'Flow Pkts/s', 'Pkt Size Avg', 'Bwd Pkts/s', 'Pkt Len Max', 'Pkt Len Mean', 'Pkt Len Min', 'Pkt Len Std'], 'Normal sample 1341': ['Init Bwd Win Byts', 'SYN Flag Cnt', 'Flow IAT Max', 'URG Flag Cnt', 'PSH Flag Cnt', 'Idle Max', 'Idle Mean', 'Bwd IAT Max', 'Down/Up Ratio', 'Flow IAT Std'], 'Normal sample 1342': ['Init Bwd Win Byts', 'Fwd IAT Tot', 'Pkt Len Max', 'Fwd IAT Std', 'Fwd Pkt Len Max', 'ACK Flag Cnt', 'Fwd IAT Max', 'Bwd Pkt Len Std', 'Bwd Header Len', 'FIN Flag Cnt'], 'Normal sample 1343': ['Init Bwd Win Byts', 'SYN Flag Cnt', 'Flow IAT Max', 'Flow IAT Std', 'Down/Up Ratio', 'Idle Min', 'Bwd IAT Std', 'Bwd IAT Tot', 'Tot Bwd Pkts', 'Bwd URG Flags'], 'Normal sample 1344': ['SYN Flag Cnt', 'Fwd Pkt Len Max', 'Fwd Pkt Len Std', 'Fwd Pkt Len Mean', 'Fwd Seg Size Avg', 'Bwd Pkts/s', 'FIN Flag Cnt', 'Pkt Len Mean', 'Pkt Len Max', 'Pkt Size Avg'], 'Normal sample 1345': ['SYN Flag Cnt', 'FIN Flag Cnt', 'ACK Flag Cnt', 'Pkt Size Avg', 'Pkt Len Min', 'Pkt Len Mean', 'Pkt Len Std', 'Flow Pkts/s', 'Pkt Len Max', 'Bwd Pkts/s'], 'Normal sample 1346': ['SYN Flag Cnt', 'ACK Flag Cnt', 'FIN Flag Cnt', 'Flow Pkts/s', 'Bwd Pkts/s', 'Pkt Size Avg', 'Pkt Len Mean', 'Pkt Len Max', 'Pkt Len Std', 'Pkt Len Min'], 'Normal sample 1347': ['Init Bwd Win Byts', 'Pkt Len Max', 'Pkt Len Mean', 'Pkt Size Avg', 'Fwd Pkt Len Max', 'ACK Flag Cnt', 'Fwd Seg Size Avg', 'Fwd Pkt Len Std', 'Fwd Pkt Len Mean', 'Bwd Pkts/s'], 'Normal sample 1348': ['Init Bwd Win Byts', 'Fwd IAT Tot', 'Fwd IAT Std', 'ACK Flag Cnt', 'Fwd Pkt Len Max', 'Bwd Pkts/s', 'Fwd IAT Max', 'Down/Up Ratio', 'Fwd Pkt Len Std', 'Fwd Seg Size Avg'], 'Normal sample 1349': ['Init Bwd Win Byts', 'SYN Flag Cnt', 'Down/Up Ratio', 'Bwd Pkts/s', 'FIN Flag Cnt', 'Flow Pkts/s', 'Pkt Size Avg', 'Active Max', 'Bwd IAT Tot', 'Fwd Pkt Len Mean'], 'Normal sample 1350': ['SYN Flag Cnt', 'FIN Flag Cnt', 'ACK Flag Cnt', 'Pkt Size Avg', 'Pkt Len Mean', 'Pkt Len Max', 'Pkt Len Min', 'Pkt Len Std', 'Flow Pkts/s', 'Bwd Pkts/s'], 'Normal sample 1351': ['SYN Flag Cnt', 'FIN Flag Cnt', 'Pkt Len Min', 'ACK Flag Cnt', 'Pkt Size Avg', 'Pkt Len Max', 'Pkt Len Mean', 'Pkt Len Std', 'Flow Pkts/s', 'Bwd Pkts/s'], 'Normal sample 1352': ['SYN Flag Cnt', 'ACK Flag Cnt', 'FIN Flag Cnt', 'Bwd Pkts/s', 'Pkt Size Avg', 'Flow Pkts/s', 'Pkt Len Max', 'Pkt Len Mean', 'Bwd Pkt Len Min', 'Pkt Len Min'], 'Normal sample 1353': ['SYN Flag Cnt', 'Fwd Pkt Len Min', 'Fwd Pkt Len Mean', 'Fwd Seg Size Avg', 'Fwd Pkt Len Max', 'FIN Flag Cnt', 'Pkt Size Avg', 'Pkt Len Max', 'Down/Up Ratio', 'Pkt Len Mean'], 'Normal sample 1354': ['Init Bwd Win Byts', 'Fwd IAT Std', 'Bwd PSH Flags', 'Fwd IAT Tot', 'Bwd Pkts/s', 'SYN Flag Cnt', 'Bwd IAT Max', 'Down/Up Ratio', 'Flow IAT Min', 'FIN Flag Cnt'], 'Normal sample 1355': ['Init Bwd Win Byts', 'Fwd IAT Tot', 'SYN Flag Cnt', 'Bwd PSH Flags', 'Fwd Pkt Len Max', 'Bwd Pkts/s', 'Fwd Pkt Len Mean', 'Fwd IAT Std', 'Pkt Len Max', 'Pkt Len Mean'], 'Normal sample 1356': ['Init Bwd Win Byts', 'Fwd IAT Tot', 'SYN Flag Cnt', 'Bwd IAT Max', 'Fwd IAT Std', 'Fwd IAT Max', 'FIN Flag Cnt', 'Bwd IAT Mean', 'Fwd IAT Min', 'Pkt Len Var'], 'Normal sample 1357': ['SYN Flag Cnt', 'ACK Flag Cnt', 'FIN Flag Cnt', 'Pkt Size Avg', 'Pkt Len Mean', 'Pkt Len Min', 'Pkt Len Std', 'Bwd Pkts/s', 'Flow Pkts/s', 'Pkt Len Max'], 'Normal sample 1358': ['Init Bwd Win Byts', 'SYN Flag Cnt', 'Down/Up Ratio', 'FIN Flag Cnt', 'Flow Pkts/s', 'Idle Mean', 'Bwd IAT Std', 'Flow IAT Max', 'Idle Max', 'Idle Min'], 'Normal sample 1359': ['SYN Flag Cnt', 'ACK Flag Cnt', 'FIN Flag Cnt', 'Bwd Pkts/s', 'Pkt Size Avg', 'Flow Pkts/s', 'Pkt Len Max', 'Pkt Len Mean', 'Pkt Len Std', 'Pkt Len Min'], 'Normal sample 1360': ['Init Bwd Win Byts', 'Fwd IAT Tot', 'Fwd IAT Std', 'ACK Flag Cnt', 'Pkt Len Max', 'Down/Up Ratio', 'Fwd IAT Max', 'Pkt Len Std', 'Bwd IAT Tot', 'Bwd Pkts/s'], 'Normal sample 1361': ['SYN Flag Cnt', 'FIN Flag Cnt', 'ACK Flag Cnt', 'Pkt Size Avg', 'Pkt Len Mean', 'Pkt Len Max', 'Pkt Len Std', 'Pkt Len Min', 'Flow Pkts/s', 'Bwd Pkts/s'], 'Normal sample 1362': ['SYN Flag Cnt', 'Fwd Pkt Len Std', 'Fwd Pkt Len Max', 'Fwd Pkt Len Mean', 'Fwd Seg Size Avg', 'Pkt Size Avg', 'Pkt Len Mean', 'Pkt Len Max', 'Down/Up Ratio', 'Bwd Pkts/s'], 'Normal sample 1363': ['Init Bwd Win Byts', 'Fwd IAT Tot', 'SYN Flag Cnt', 'Down/Up Ratio', 'Bwd IAT Max', 'Fwd IAT Std', 'Bwd PSH Flags', 'Fwd IAT Max', 'Fwd IAT Mean', 'Idle Max'], 'Normal sample 1364': ['SYN Flag Cnt', 'FIN Flag Cnt', 'ACK Flag Cnt', 'Pkt Size Avg', 'Pkt Len Max', 'Pkt Len Mean', 'Pkt Len Min', 'Bwd Pkts/s', 'Pkt Len Std', 'Flow Pkts/s'], 'Normal sample 1365': ['SYN Flag Cnt', 'FIN Flag Cnt', 'ACK Flag Cnt', 'Pkt Size Avg', 'Pkt Len Max', 'Pkt Len Mean', 'Flow Pkts/s', 'Pkt Len Min', 'Pkt Len Std', 'Bwd Pkts/s'], 'Normal sample 1366': ['SYN Flag Cnt', 'FIN Flag Cnt', 'ACK Flag Cnt', 'Pkt Size Avg', 'Pkt Len Min', 'Bwd Pkts/s', 'Pkt Len Mean', 'Flow Pkts/s', 'Pkt Len Max', 'Pkt Len Std'], 'Normal sample 1367': ['SYN Flag Cnt', 'FIN Flag Cnt', 'ACK Flag Cnt', 'Pkt Len Min', 'Pkt Size Avg', 'Pkt Len Max', 'Pkt Len Mean', 'Flow Pkts/s', 'Pkt Len Std', 'Bwd Pkt Len Min'], 'Normal sample 1368': ['Init Bwd Win Byts', 'SYN Flag Cnt', 'Down/Up Ratio', 'FIN Flag Cnt', 'Idle Mean', 'Flow Pkts/s', 'PSH Flag Cnt', 'Idle Min', 'Flow IAT Max', 'Idle Max'], 'Normal sample 1369': ['SYN Flag Cnt', 'ACK Flag Cnt', 'FIN Flag Cnt', 'Bwd Pkts/s', 'Pkt Len Min', 'Pkt Len Max', 'Pkt Size Avg', 'Flow Pkts/s', 'Pkt Len Std', 'Pkt Len Mean'], 'Normal sample 1370': ['Init Bwd Win Byts', 'SYN Flag Cnt', 'Bwd Pkts/s', 'Flow Pkts/s', 'Bwd Pkt Len Min', 'FIN Flag Cnt', 'Pkt Len Mean', 'Down/Up Ratio', 'Pkt Size Avg', 'Flow IAT Max'], 'Normal sample 1371': ['Init Bwd Win Byts', 'Pkt Len Max', 'Pkt Size Avg', 'Pkt Len Mean', 'Fwd Pkt Len Max', 'Pkt Len Std', 'Bwd IAT Tot', 'Fwd IAT Max', 'Flow Duration', 'Fwd IAT Tot'], 'Normal sample 1372': ['Init Bwd Win Byts', 'ACK Flag Cnt', 'Fwd Pkt Len Max', 'FIN Flag Cnt', 'Fwd Pkt Len Mean', 'Pkt Len Std', 'Fwd Seg Size Avg', 'Pkt Len Max', 'Pkt Len Mean', 'Down/Up Ratio'], 'Normal sample 1373': ['Init Bwd Win Byts', 'Fwd IAT Tot', 'Fwd IAT Std', 'SYN Flag Cnt', 'Bwd IAT Max', 'Bwd IAT Mean', 'Down/Up Ratio', 'Bwd PSH Flags', 'Pkt Len Var', 'FIN Flag Cnt'], 'Normal sample 1374': ['SYN Flag Cnt', 'ACK Flag Cnt', 'FIN Flag Cnt', 'Pkt Size Avg', 'Pkt Len Mean', 'Flow Pkts/s', 'Pkt Len Max', 'Pkt Len Min', 'Bwd Pkts/s', 'Pkt Len Std'], 'Normal sample 1375': ['SYN Flag Cnt', 'FIN Flag Cnt', 'Pkt Size Avg', 'ACK Flag Cnt', 'Pkt Len Mean', 'Pkt Len Max', 'Bwd Pkts/s', 'Pkt Len Min', 'Pkt Len Std', 'Flow Pkts/s'], 'Normal sample 1376': ['SYN Flag Cnt', 'FIN Flag Cnt', 'ACK Flag Cnt', 'Pkt Size Avg', 'Pkt Len Max', 'Flow Pkts/s', 'Pkt Len Mean', 'Pkt Len Min', 'Bwd Pkts/s', 'Pkt Len Std'], 'Normal sample 1377': ['Init Bwd Win Byts', 'Pkt Len Max', 'Fwd Pkt Len Max', 'Pkt Size Avg', 'Fwd Pkt Len Std', 'Pkt Len Mean', 'Fwd Seg Size Avg', 'Bwd IAT Max', 'ACK Flag Cnt', 'Pkt Len Std'], 'Normal sample 1378': ['Pkt Len Max', 'Init Bwd Win Byts', 'Pkt Len Std', 'Fwd IAT Tot', 'Pkt Len Mean', 'Pkt Size Avg', 'Fwd Pkt Len Max', 'Bwd IAT Max', 'Fwd IAT Std', 'Bwd IAT Tot'], 'Normal sample 1379': ['SYN Flag Cnt', 'Flow Pkts/s', 'Down/Up Ratio', 'Subflow Fwd Byts', 'Bwd Pkt Len Min', 'PSH Flag Cnt', 'Flow Duration', 'Tot Fwd Pkts', 'Tot Bwd Pkts', 'TotLen Fwd Pkts'], 'Normal sample 1380': ['Init Bwd Win Byts', 'Fwd IAT Tot', 'SYN Flag Cnt', 'Fwd Pkt Len Max', 'Pkt Len Max', 'Down/Up Ratio', 'Bwd IAT Tot', 'Pkt Len Std', 'Fwd Pkt Len Std', 'Fwd Seg Size Avg'], 'Normal sample 1381': ['SYN Flag Cnt', 'ACK Flag Cnt', 'FIN Flag Cnt', 'Pkt Size Avg', 'Pkt Len Max', 'Pkt Len Mean', 'Flow Pkts/s', 'Bwd Pkts/s', 'Pkt Len Std', 'Pkt Len Min'], 'Normal sample 1382': ['Init Bwd Win Byts', 'Pkt Len Max', 'Pkt Size Avg', 'Pkt Len Mean', 'Fwd Pkt Len Max', 'Fwd Pkt Len Std', 'Flow Pkts/s', 'Fwd Seg Size Avg', 'FIN Flag Cnt', 'Down/Up Ratio'], 'Normal sample 1383': ['SYN Flag Cnt', 'FIN Flag Cnt', 'ACK Flag Cnt', 'Pkt Size Avg', 'Pkt Len Mean', 'Pkt Len Max', 'Flow Pkts/s', 'Pkt Len Min', 'Pkt Len Std', 'Bwd Pkts/s'], 'Normal sample 1384': ['SYN Flag Cnt', 'ACK Flag Cnt', 'FIN Flag Cnt', 'Pkt Size Avg', 'Flow Pkts/s', 'Pkt Len Mean', 'Pkt Len Max', 'Pkt Len Min', 'Bwd Pkts/s', 'Pkt Len Std'], 'Normal sample 1385': ['SYN Flag Cnt', 'FIN Flag Cnt', 'ACK Flag Cnt', 'Pkt Size Avg', 'Flow Pkts/s', 'Pkt Len Max', 'Pkt Len Std', 'Pkt Len Mean', 'Bwd Pkts/s', 'Pkt Len Min'], 'Normal sample 1386': ['SYN Flag Cnt', 'FIN Flag Cnt', 'Fwd Seg Size Avg', 'Fwd Pkt Len Mean', 'Pkt Size Avg', 'Flow Pkts/s', 'Pkt Len Mean', 'Flow Byts/s', 'Fwd Pkt Len Min', 'Fwd Pkt Len Max'], 'Normal sample 1387': ['Fwd IAT Tot', 'ACK Flag Cnt', 'SYN Flag Cnt', 'Fwd IAT Min', 'Fwd IAT Max', 'Fwd IAT Mean', 'Bwd Pkts/s', 'Flow Pkts/s', 'FIN Flag Cnt', 'Pkt Len Mean'], 'Normal sample 1388': ['Init Bwd Win Byts', 'SYN Flag Cnt', 'Fwd IAT Std', 'Bwd IAT Max', 'Bwd PSH Flags', 'Fwd IAT Max', 'FIN Flag Cnt', 'Down/Up Ratio', 'Bwd IAT Mean', 'Bwd Pkts/s'], 'Normal sample 1389': ['SYN Flag Cnt', 'FIN Flag Cnt', 'ACK Flag Cnt', 'Pkt Size Avg', 'Pkt Len Max', 'Bwd Pkts/s', 'Pkt Len Mean', 'Flow Pkts/s', 'Pkt Len Min', 'Pkt Len Std'], 'Normal sample 1390': ['Init Bwd Win Byts', 'SYN Flag Cnt', 'Flow IAT Max', 'Idle Max', 'Bwd Pkt Len Mean', 'PSH Flag Cnt', 'Down/Up Ratio', 'Bwd IAT Max', 'Idle Mean', 'Flow IAT Std'], 'Normal sample 1391': ['SYN Flag Cnt', 'FIN Flag Cnt', 'ACK Flag Cnt', 'Pkt Size Avg', 'Pkt Len Mean', 'Pkt Len Max', 'Pkt Len Std', 'Pkt Len Min', 'Bwd Pkts/s', 'Flow Pkts/s'], 'Normal sample 1392': ['Init Bwd Win Byts', 'Fwd IAT Tot', 'Fwd IAT Std', 'Bwd PSH Flags', 'SYN Flag Cnt', 'Bwd Pkts/s', 'Down/Up Ratio', 'Fwd Pkt Len Max', 'Fwd Pkt Len Std', 'Bwd Pkt Len Min'], 'Normal sample 1393': ['SYN Flag Cnt', 'FIN Flag Cnt', 'ACK Flag Cnt', 'Pkt Size Avg', 'Pkt Len Mean', 'Flow Pkts/s', 'Bwd Pkts/s', 'Pkt Len Std', 'Pkt Len Max', 'Pkt Len Min'], 'Normal sample 1394': ['Init Bwd Win Byts', 'SYN Flag Cnt', 'Down/Up Ratio', 'FIN Flag Cnt', 'Flow Pkts/s', 'Flow IAT Max', 'PSH Flag Cnt', 'Idle Min', 'Idle Mean', 'Idle Max'], 'Normal sample 1395': ['Init Bwd Win Byts', 'Fwd Pkt Len Max', 'Bwd PSH Flags', 'SYN Flag Cnt', 'Fwd Pkt Len Std', 'Down/Up Ratio', 'Pkt Len Max', 'Bwd IAT Max', 'Fwd IAT Std', 'Fwd IAT Tot'], 'Normal sample 1396': ['Init Bwd Win Byts', 'Pkt Size Avg', 'Pkt Len Max', 'Pkt Len Mean', 'Fwd Pkt Len Max', 'Tot Bwd Pkts', 'FIN Flag Cnt', 'Flow Pkts/s', 'ACK Flag Cnt', 'Pkt Len Std'], 'Normal sample 1397': ['Init Bwd Win Byts', 'Fwd IAT Std', 'Fwd IAT Tot', 'Down/Up Ratio', 'ACK Flag Cnt', 'FIN Flag Cnt', 'Bwd Pkts/s', 'Fwd IAT Max', 'Pkt Len Max', 'Bwd IAT Tot'], 'Normal sample 1398': ['Init Bwd Win Byts', 'SYN Flag Cnt', 'FIN Flag Cnt', 'Down/Up Ratio', 'Flow IAT Max', 'Idle Max', 'Flow Pkts/s', 'Flow Duration', 'Bwd IAT Std', 'Idle Min'], 'Normal sample 1399': ['SYN Flag Cnt', 'ACK Flag Cnt', 'FIN Flag Cnt', 'Pkt Size Avg', 'Flow Pkts/s', 'Pkt Len Max', 'Pkt Len Mean', 'Bwd Pkts/s', 'Pkt Len Std', 'Pkt Len Min'], 'Normal sample 1400': ['Fwd Pkt Len Max', 'Fwd Pkt Len Std', 'Fwd Pkt Len Mean', 'Pkt Len Max', 'Fwd Seg Size Avg', 'Pkt Size Avg', 'SYN Flag Cnt', 'Pkt Len Std', 'Pkt Len Mean', 'Flow IAT Max'], 'Normal sample 1401': ['Init Bwd Win Byts', 'SYN Flag Cnt', 'FIN Flag Cnt', 'Down/Up Ratio', 'Flow Pkts/s', 'PSH Flag Cnt', 'Idle Min', 'Idle Mean', 'Idle Max', 'URG Flag Cnt'], 'Normal sample 1402': ['SYN Flag Cnt', 'Flow Pkts/s', 'Bwd Pkts/s', 'Down/Up Ratio', 'FIN Flag Cnt', 'Fwd Pkt Len Max', 'Fwd Pkt Len Std', 'Pkt Len Max', 'Pkt Len Std', 'Flow Duration'], 'Normal sample 1403': ['SYN Flag Cnt', 'ACK Flag Cnt', 'FIN Flag Cnt', 'Pkt Size Avg', 'Pkt Len Std', 'Pkt Len Max', 'Pkt Len Mean', 'Pkt Len Min', 'Bwd Pkts/s', 'Flow Pkts/s'], 'Normal sample 1404': ['Init Bwd Win Byts', 'Fwd Pkt Len Max', 'ACK Flag Cnt', 'Fwd IAT Tot', 'Fwd Pkt Len Std', 'Pkt Size Avg', 'Down/Up Ratio', 'Fwd IAT Std', 'Fwd IAT Max', 'Pkt Len Std'], 'Normal sample 1405': ['Init Bwd Win Byts', 'Pkt Len Max', 'Fwd IAT Tot', 'Fwd IAT Std', 'Pkt Len Std', 'Bwd PSH Flags', 'Pkt Len Mean', 'SYN Flag Cnt', 'Pkt Size Avg', 'Fwd Pkt Len Max'], 'Normal sample 1406': ['SYN Flag Cnt', 'ACK Flag Cnt', 'FIN Flag Cnt', 'Bwd Pkts/s', 'Pkt Size Avg', 'Flow Pkts/s', 'Pkt Len Min', 'Pkt Len Max', 'Pkt Len Mean', 'Pkt Len Std'], 'Normal sample 1407': ['SYN Flag Cnt', 'ACK Flag Cnt', 'FIN Flag Cnt', 'Flow Pkts/s', 'Pkt Size Avg', 'Bwd Pkts/s', 'Pkt Len Mean', 'Pkt Len Max', 'Pkt Len Min', 'Pkt Len Std'], 'Normal sample 1408': ['Init Bwd Win Byts', 'Pkt Size Avg', 'Pkt Len Max', 'FIN Flag Cnt', 'Pkt Len Mean', 'Flow Pkts/s', 'Pkt Len Std', 'Down/Up Ratio', 'ACK Flag Cnt', 'Fwd Pkt Len Max'], 'Normal sample 1409': ['SYN Flag Cnt', 'ACK Flag Cnt', 'FIN Flag Cnt', 'Bwd Pkts/s', 'Flow Pkts/s', 'Pkt Size Avg', 'Pkt Len Mean', 'Pkt Len Max', 'Pkt Len Min', 'Fwd Seg Size Avg'], 'Normal sample 1410': ['SYN Flag Cnt', 'FIN Flag Cnt', 'Pkt Size Avg', 'Bwd Pkt Len Min', 'Flow Byts/s', 'Pkt Len Mean', 'Pkt Len Min', 'ACK Flag Cnt', 'Pkt Len Max', 'Fwd Pkt Len Min'], 'Normal sample 1411': ['SYN Flag Cnt', 'ACK Flag Cnt', 'FIN Flag Cnt', 'Pkt Size Avg', 'Pkt Len Mean', 'Flow Pkts/s', 'Pkt Len Max', 'Bwd Pkts/s', 'Pkt Len Std', 'Pkt Len Min'], 'Normal sample 1412': ['SYN Flag Cnt', 'FIN Flag Cnt', 'Pkt Size Avg', 'ACK Flag Cnt', 'Pkt Len Min', 'Pkt Len Mean', 'Pkt Len Std', 'Pkt Len Max', 'Flow Pkts/s', 'Bwd Pkts/s'], 'Normal sample 1413': ['Init Bwd Win Byts', 'Fwd IAT Tot', 'Fwd IAT Std', 'Pkt Len Max', 'Bwd IAT Tot', 'ACK Flag Cnt', 'Fwd IAT Max', 'Bwd Pkts/s', 'FIN Flag Cnt', 'Down/Up Ratio'], 'Normal sample 1414': ['SYN Flag Cnt', 'FIN Flag Cnt', 'Pkt Size Avg', 'ACK Flag Cnt', 'Pkt Len Min', 'Flow Byts/s', 'Fwd Pkt Len Mean', 'Pkt Len Mean', 'Fwd Seg Size Avg', 'Flow Pkts/s'], 'Normal sample 1415': ['Init Bwd Win Byts', 'Bwd PSH Flags', 'Fwd IAT Std', 'PSH Flag Cnt', 'Idle Max', 'SYN Flag Cnt', 'Idle Min', 'Fwd IAT Tot', 'Bwd Pkts/s', 'Pkt Len Var'], 'Normal sample 1416': ['SYN Flag Cnt', 'FIN Flag Cnt', 'ACK Flag Cnt', 'Pkt Size Avg', 'Pkt Len Mean', 'Pkt Len Max', 'Pkt Len Min', 'Flow Pkts/s', 'Bwd Pkts/s', 'Pkt Len Std'], 'Normal sample 1417': ['SYN Flag Cnt', 'FIN Flag Cnt', 'ACK Flag Cnt', 'Pkt Size Avg', 'Pkt Len Mean', 'Flow Pkts/s', 'Pkt Len Min', 'Pkt Len Max', 'Pkt Len Std', 'Bwd Pkts/s'], 'Normal sample 1418': ['SYN Flag Cnt', 'Fwd Pkt Len Max', 'Fwd Pkt Len Mean', 'Fwd Pkt Len Std', 'Fwd Seg Size Avg', 'Pkt Len Max', 'Pkt Size Avg', 'Pkt Len Mean', 'Pkt Len Std', 'FIN Flag Cnt'], 'Normal sample 1419': ['SYN Flag Cnt', 'FIN Flag Cnt', 'ACK Flag Cnt', 'Pkt Size Avg', 'Pkt Len Mean', 'Pkt Len Min', 'Bwd Pkts/s', 'Flow Pkts/s', 'Pkt Len Std', 'Pkt Len Max'], 'Normal sample 1420': ['Init Bwd Win Byts', 'Pkt Size Avg', 'Pkt Len Mean', 'Pkt Len Max', 'ACK Flag Cnt', 'Fwd Pkt Len Max', 'Fwd IAT Tot', 'Fwd IAT Max', 'Bwd IAT Std', 'Pkt Len Std'], 'Normal sample 1421': ['SYN Flag Cnt', 'ACK Flag Cnt', 'FIN Flag Cnt', 'Pkt Size Avg', 'Flow Pkts/s', 'Bwd Pkts/s', 'Pkt Len Mean', 'Pkt Len Max', 'Pkt Len Min', 'Pkt Len Std'], 'Normal sample 1422': ['Init Bwd Win Byts', 'SYN Flag Cnt', 'FIN Flag Cnt', 'Down/Up Ratio', 'Flow Pkts/s', 'Flow IAT Max', 'PSH Flag Cnt', 'Flow Duration', 'Flow IAT Mean', 'URG Flag Cnt'], 'Normal sample 1423': ['SYN Flag Cnt', 'ACK Flag Cnt', 'FIN Flag Cnt', 'Pkt Size Avg', 'Pkt Len Std', 'Flow Pkts/s', 'Pkt Len Mean', 'Pkt Len Max', 'Bwd Pkts/s', 'Pkt Len Min'], 'Normal sample 1424': ['SYN Flag Cnt', 'FIN Flag Cnt', 'ACK Flag Cnt', 'Pkt Size Avg', 'Pkt Len Max', 'Flow Pkts/s', 'Pkt Len Std', 'Pkt Len Min', 'Pkt Len Mean', 'Bwd Pkts/s'], 'Normal sample 1425': ['Init Bwd Win Byts', 'SYN Flag Cnt', 'FIN Flag Cnt', 'Bwd Pkts/s', 'Flow Pkts/s', 'Down/Up Ratio', 'Fwd Seg Size Avg', 'Pkt Size Avg', 'Pkt Len Max', 'Idle Min'], 'Normal sample 1426': ['SYN Flag Cnt', 'ACK Flag Cnt', 'FIN Flag Cnt', 'Bwd Pkts/s', 'Flow Pkts/s', 'Pkt Size Avg', 'Pkt Len Max', 'Pkt Len Mean', 'Pkt Len Min', 'Pkt Len Std'], 'Normal sample 1427': ['Init Bwd Win Byts', 'Fwd IAT Tot', 'Bwd IAT Tot', 'Fwd Pkt Len Max', 'Pkt Len Max', 'Fwd IAT Max', 'ACK Flag Cnt', 'Pkt Len Std', 'Fwd IAT Std', 'Pkt Size Avg'], 'Normal sample 1428': ['Init Bwd Win Byts', 'SYN Flag Cnt', 'Down/Up Ratio', 'FIN Flag Cnt', 'Flow IAT Max', 'Flow Pkts/s', 'Bwd IAT Std', 'URG Flag Cnt', 'Idle Max', 'Fwd Header Len'], 'Normal sample 1429': ['SYN Flag Cnt', 'FIN Flag Cnt', 'ACK Flag Cnt', 'Pkt Size Avg', 'Pkt Len Mean', 'Pkt Len Max', 'Pkt Len Min', 'Flow Pkts/s', 'Bwd Pkts/s', 'Pkt Len Std'], 'Normal sample 1430': ['Init Bwd Win Byts', 'Pkt Size Avg', 'Pkt Len Mean', 'Pkt Len Max', 'Fwd Pkt Len Max', 'Fwd Pkt Len Std', 'Flow Pkts/s', 'ACK Flag Cnt', 'Flow IAT Max', 'Bwd IAT Max'], 'Normal sample 1431': ['SYN Flag Cnt', 'ACK Flag Cnt', 'FIN Flag Cnt', 'Pkt Size Avg', 'Pkt Len Max', 'Pkt Len Mean', 'Pkt Len Std', 'Bwd Pkts/s', 'Flow Pkts/s', 'Pkt Len Min'], 'Normal sample 1432': ['Init Bwd Win Byts', 'Fwd IAT Tot', 'ACK Flag Cnt', 'Fwd IAT Max', 'Fwd IAT Min', 'Fwd IAT Mean', 'FIN Flag Cnt', 'PSH Flag Cnt', 'Down/Up Ratio', 'Flow Pkts/s'], 'Normal sample 1433': ['SYN Flag Cnt', 'ACK Flag Cnt', 'FIN Flag Cnt', 'Pkt Size Avg', 'Pkt Len Mean', 'Flow Pkts/s', 'Pkt Len Std', 'Pkt Len Max', 'Bwd Pkts/s', 'Bwd Pkt Len Min'], 'Normal sample 1434': ['SYN Flag Cnt', 'ACK Flag Cnt', 'FIN Flag Cnt', 'Pkt Len Max', 'Pkt Size Avg', 'Flow Pkts/s', 'Bwd Pkts/s', 'Pkt Len Std', 'Pkt Len Mean', 'Pkt Len Min'], 'Normal sample 1435': ['SYN Flag Cnt', 'ACK Flag Cnt', 'FIN Flag Cnt', 'Pkt Size Avg', 'Pkt Len Std', 'Pkt Len Mean', 'Pkt Len Max', 'Flow Pkts/s', 'Pkt Len Min', 'Bwd Pkts/s'], 'Normal sample 1436': ['SYN Flag Cnt', 'ACK Flag Cnt', 'FIN Flag Cnt', 'Pkt Size Avg', 'Bwd Pkts/s', 'Flow Pkts/s', 'Pkt Len Max', 'Pkt Len Mean', 'Pkt Len Min', 'Pkt Len Std'], 'Normal sample 1437': ['Init Bwd Win Byts', 'Pkt Size Avg', 'Bwd IAT Max', 'Fwd IAT Max', 'Fwd Pkt Len Max', 'Pkt Len Mean', 'Flow Pkts/s', 'ACK Flag Cnt', 'Pkt Len Max', 'Bwd IAT Tot'], 'Normal sample 1438': ['Init Bwd Win Byts', 'Fwd IAT Std', 'Bwd PSH Flags', 'Fwd IAT Tot', 'SYN Flag Cnt', 'Bwd Pkts/s', 'Fwd IAT Max', 'Bwd IAT Tot', 'Flow Pkts/s', 'Down/Up Ratio'], 'Normal sample 1439': ['Init Bwd Win Byts', 'Pkt Len Max', 'Pkt Size Avg', 'Pkt Len Mean', 'Pkt Len Std', 'Fwd Pkt Len Max', 'Flow IAT Max', 'Fwd IAT Tot', 'Fwd IAT Max', 'Bwd IAT Max'], 'Normal sample 1440': ['SYN Flag Cnt', 'FIN Flag Cnt', 'ACK Flag Cnt', 'Pkt Size Avg', 'Pkt Len Mean', 'Flow Pkts/s', 'Pkt Len Max', 'Bwd Pkts/s', 'Pkt Len Min', 'Pkt Len Std'], 'Normal sample 1441': ['SYN Flag Cnt', 'FIN Flag Cnt', 'Pkt Size Avg', 'Flow Pkts/s', 'Pkt Len Mean', 'Pkt Len Max', 'Pkt Len Std', 'Bwd Pkts/s', 'Bwd Pkt Len Min', 'Pkt Len Min'], 'Normal sample 1442': ['SYN Flag Cnt', 'Flow Byts/s', 'Fwd Pkt Len Max', 'Fwd Pkt Len Mean', 'Fwd Seg Size Avg', 'Pkt Size Avg', 'Fwd Pkt Len Std', 'Pkt Len Max', 'Down/Up Ratio', 'Pkt Len Mean'], 'Normal sample 1443': ['SYN Flag Cnt', 'ACK Flag Cnt', 'FIN Flag Cnt', 'Pkt Size Avg', 'Pkt Len Mean', 'Flow Pkts/s', 'Bwd Pkts/s', 'Pkt Len Max', 'Pkt Len Std', 'Pkt Len Min'], 'Normal sample 1444': ['Init Bwd Win Byts', 'Fwd IAT Max', 'ACK Flag Cnt', 'Fwd IAT Mean', 'Fwd IAT Min', 'FIN Flag Cnt', 'Flow Pkts/s', 'Fwd IAT Tot', 'Flow Duration', 'Bwd Pkts/s'], 'Normal sample 1445': ['SYN Flag Cnt', 'ACK Flag Cnt', 'FIN Flag Cnt', 'Pkt Size Avg', 'Flow Pkts/s', 'Pkt Len Mean', 'Pkt Len Max', 'Bwd Pkts/s', 'Pkt Len Min', 'Pkt Len Std'], 'Normal sample 1446': ['Init Bwd Win Byts', 'Down/Up Ratio', 'SYN Flag Cnt', 'Fwd IAT Std', 'Bwd Pkts/s', 'Bwd IAT Tot', 'Bwd IAT Max', 'Fwd IAT Tot', 'Fwd IAT Max', 'Flow Pkts/s'], 'Normal sample 1447': ['SYN Flag Cnt', 'ACK Flag Cnt', 'FIN Flag Cnt', 'Pkt Size Avg', 'Pkt Len Mean', 'Pkt Len Max', 'Pkt Len Min', 'Flow Pkts/s', 'Bwd Pkts/s', 'Pkt Len Std'], 'Normal sample 1448': ['Init Bwd Win Byts', 'Fwd Pkt Len Max', 'Pkt Len Max', 'Fwd Pkt Len Mean', 'Fwd Pkt Len Std', 'Fwd IAT Tot', 'SYN Flag Cnt', 'Pkt Len Std', 'Bwd PSH Flags', 'Down/Up Ratio'], 'Normal sample 1449': ['Pkt Len Max', 'Init Bwd Win Byts', 'Pkt Len Std', 'Fwd IAT Tot', 'Pkt Size Avg', 'Pkt Len Mean', 'Fwd IAT Std', 'Bwd IAT Tot', 'Fwd IAT Mean', 'Fwd IAT Max'], 'Normal sample 1450': ['Init Bwd Win Byts', 'SYN Flag Cnt', 'Bwd Pkts/s', 'Down/Up Ratio', 'FIN Flag Cnt', 'Flow Pkts/s', 'Idle Max', 'Pkt Size Avg', 'Bwd PSH Flags', 'Flow Duration'], 'Normal sample 1451': ['Init Bwd Win Byts', 'SYN Flag Cnt', 'FIN Flag Cnt', 'Down/Up Ratio', 'Bwd IAT Std', 'Flow IAT Max', 'Idle Max', 'Flow Pkts/s', 'Bwd IAT Max', 'Idle Mean'], 'Normal sample 1452': ['SYN Flag Cnt', 'ACK Flag Cnt', 'FIN Flag Cnt', 'Pkt Size Avg', 'Pkt Len Mean', 'Flow Pkts/s', 'Pkt Len Std', 'Pkt Len Max', 'Pkt Len Min', 'Bwd Pkts/s'], 'Normal sample 1453': ['SYN Flag Cnt', 'FIN Flag Cnt', 'Pkt Size Avg', 'ACK Flag Cnt', 'Flow Byts/s', 'Fwd Pkt Len Mean', 'Pkt Len Min', 'Pkt Len Mean', 'Flow Pkts/s', 'Fwd Seg Size Avg'], 'Normal sample 1454': ['SYN Flag Cnt', 'ACK Flag Cnt', 'FIN Flag Cnt', 'Pkt Size Avg', 'Pkt Len Max', 'Flow Pkts/s', 'Pkt Len Mean', 'Pkt Len Min', 'Bwd Pkts/s', 'Pkt Len Std'], 'Normal sample 1455': ['Init Bwd Win Byts', 'SYN Flag Cnt', 'FIN Flag Cnt', 'Down/Up Ratio', 'PSH Flag Cnt', 'Idle Max', 'Flow Pkts/s', 'Flow IAT Max', 'Bwd IAT Std', 'URG Flag Cnt'], 'Normal sample 1456': ['SYN Flag Cnt', 'FIN Flag Cnt', 'ACK Flag Cnt', 'Pkt Size Avg', 'Pkt Len Min', 'Pkt Len Mean', 'Bwd Pkts/s', 'Pkt Len Max', 'Flow Pkts/s', 'Pkt Len Std'], 'Normal sample 1457': ['SYN Flag Cnt', 'FIN Flag Cnt', 'ACK Flag Cnt', 'Pkt Size Avg', 'Pkt Len Mean', 'Pkt Len Min', 'Flow Pkts/s', 'Bwd Pkts/s', 'Pkt Len Max', 'Pkt Len Std'], 'Normal sample 1458': ['SYN Flag Cnt', 'Flow Pkts/s', 'Bwd Pkts/s', 'FIN Flag Cnt', 'ACK Flag Cnt', 'Pkt Size Avg', 'Pkt Len Mean', 'Down/Up Ratio', 'Fwd Pkt Len Mean', 'Fwd Seg Size Avg'], 'Normal sample 1459': ['SYN Flag Cnt', 'FIN Flag Cnt', 'ACK Flag Cnt', 'Pkt Size Avg', 'Pkt Len Mean', 'Flow Pkts/s', 'Pkt Len Max', 'Bwd Pkts/s', 'Pkt Len Min', 'Pkt Len Std'], 'Normal sample 1460': ['SYN Flag Cnt', 'FIN Flag Cnt', 'Pkt Size Avg', 'Pkt Len Mean', 'Pkt Len Max', 'Flow Pkts/s', 'Pkt Len Min', 'Bwd Pkts/s', 'Pkt Len Std', 'Bwd Pkt Len Min'], 'Normal sample 1461': ['SYN Flag Cnt', 'FIN Flag Cnt', 'Pkt Size Avg', 'Flow Pkts/s', 'Pkt Len Mean', 'Pkt Len Max', 'Bwd Pkt Len Min', 'Pkt Len Std', 'Pkt Len Min', 'Bwd Pkts/s'], 'Normal sample 1462': ['Init Bwd Win Byts', 'SYN Flag Cnt', 'Down/Up Ratio', 'FIN Flag Cnt', 'Flow Pkts/s', 'PSH Flag Cnt', 'Flow IAT Max', 'Idle Max', 'Bwd IAT Std', 'Bwd IAT Max'], 'Normal sample 1463': ['SYN Flag Cnt', 'ACK Flag Cnt', 'FIN Flag Cnt', 'Pkt Size Avg', 'Pkt Len Mean', 'Bwd Pkts/s', 'Flow Pkts/s', 'Pkt Len Max', 'Pkt Len Std', 'Pkt Len Min'], 'Normal sample 1464': ['SYN Flag Cnt', 'ACK Flag Cnt', 'FIN Flag Cnt', 'Bwd Pkts/s', 'Flow Pkts/s', 'Pkt Size Avg', 'Pkt Len Min', 'Pkt Len Max', 'Pkt Len Mean', 'Pkt Len Std'], 'Normal sample 1465': ['Init Bwd Win Byts', 'SYN Flag Cnt', 'Down/Up Ratio', 'Flow IAT Max', 'Bwd IAT Tot', 'Bwd IAT Max', 'PSH Flag Cnt', 'Idle Max', 'Flow IAT Std', 'Fwd IAT Min'], 'Normal sample 1466': ['SYN Flag Cnt', 'FIN Flag Cnt', 'Pkt Size Avg', 'ACK Flag Cnt', 'Pkt Len Min', 'Pkt Len Max', 'Pkt Len Mean', 'Pkt Len Std', 'Bwd Pkts/s', 'Bwd Pkt Len Min'], 'Normal sample 1467': ['SYN Flag Cnt', 'Flow Pkts/s', 'Bwd Pkts/s', 'Down/Up Ratio', 'FIN Flag Cnt', 'Fwd Pkt Len Max', 'Fwd Pkt Len Std', 'Pkt Len Max', 'Flow Duration', 'Fwd Seg Size Avg'], 'Normal sample 1468': ['Init Bwd Win Byts', 'Fwd IAT Tot', 'Bwd PSH Flags', 'Fwd IAT Std', 'SYN Flag Cnt', 'Bwd Pkts/s', 'Fwd Pkt Len Std', 'Down/Up Ratio', 'FIN Flag Cnt', 'TotLen Fwd Pkts'], 'Normal sample 1469': ['Init Bwd Win Byts', 'Fwd IAT Tot', 'Bwd PSH Flags', 'SYN Flag Cnt', 'Fwd IAT Std', 'Bwd Pkts/s', 'Down/Up Ratio', 'Fwd Pkt Len Std', 'Pkt Len Max', 'Pkt Len Mean'], 'Normal sample 1470': ['SYN Flag Cnt', 'ACK Flag Cnt', 'FIN Flag Cnt', 'Pkt Size Avg', 'Pkt Len Mean', 'Bwd Pkts/s', 'Flow Pkts/s', 'Pkt Len Max', 'Pkt Len Std', 'Pkt Len Min'], 'Normal sample 1471': ['Init Bwd Win Byts', 'Down/Up Ratio', 'SYN Flag Cnt', 'ACK Flag Cnt', 'FIN Flag Cnt', 'Flow Pkts/s', 'Flow IAT Std', 'Fwd Pkt Len Mean', 'Idle Mean', 'Fwd Seg Size Avg'], 'Normal sample 1472': ['SYN Flag Cnt', 'ACK Flag Cnt', 'FIN Flag Cnt', 'Pkt Size Avg', 'Pkt Len Max', 'Pkt Len Mean', 'Bwd Pkts/s', 'Flow Pkts/s', 'Pkt Len Min', 'Pkt Len Std'], 'Normal sample 1473': ['Init Bwd Win Byts', 'SYN Flag Cnt', 'Down/Up Ratio', 'Flow IAT Max', 'URG Flag Cnt', 'Idle Mean', 'Idle Max', 'Bwd URG Flags', 'Idle Min', 'Bwd IAT Max'], 'Normal sample 1474': ['SYN Flag Cnt', 'FIN Flag Cnt', 'ACK Flag Cnt', 'Pkt Size Avg', 'Pkt Len Min', 'Pkt Len Max', 'Pkt Len Mean', 'Flow Pkts/s', 'Bwd Pkts/s', 'Pkt Len Std'], 'Normal sample 1475': ['SYN Flag Cnt', 'FIN Flag Cnt', 'Pkt Size Avg', 'Pkt Len Min', 'ACK Flag Cnt', 'Pkt Len Mean', 'Flow Byts/s', 'Fwd Pkt Len Mean', 'Fwd Seg Size Avg', 'Fwd Pkt Len Min'], 'Normal sample 1476': ['Init Bwd Win Byts', 'Bwd PSH Flags', 'Fwd Pkt Len Max', 'Fwd IAT Tot', 'Fwd IAT Std', 'SYN Flag Cnt', 'Fwd Pkt Len Std', 'Fwd Pkt Len Mean', 'Pkt Len Max', 'FIN Flag Cnt'], 'Normal sample 1477': ['SYN Flag Cnt', 'ACK Flag Cnt', 'FIN Flag Cnt', 'Pkt Size Avg', 'Pkt Len Max', 'Flow Pkts/s', 'Bwd Pkts/s', 'Pkt Len Mean', 'Pkt Len Std', 'Pkt Len Min'], 'Normal sample 1478': ['Init Bwd Win Byts', 'SYN Flag Cnt', 'FIN Flag Cnt', 'Down/Up Ratio', 'Idle Min', 'Flow IAT Max', 'Flow Pkts/s', 'Idle Mean', 'Bwd IAT Std', 'Fwd IAT Max'], 'Normal sample 1479': ['Init Bwd Win Byts', 'Fwd IAT Tot', 'Fwd IAT Std', 'Bwd PSH Flags', 'SYN Flag Cnt', 'Bwd IAT Max', 'Fwd Seg Size Avg', 'Pkt Len Mean', 'Bwd Pkts/s', 'Fwd Pkt Len Mean'], 'Normal sample 1480': ['SYN Flag Cnt', 'ACK Flag Cnt', 'FIN Flag Cnt', 'Pkt Size Avg', 'Pkt Len Max', 'Bwd Pkts/s', 'Flow Pkts/s', 'Pkt Len Mean', 'Pkt Len Min', 'Pkt Len Std'], 'Normal sample 1481': ['Init Bwd Win Byts', 'ACK Flag Cnt', 'Down/Up Ratio', 'Fwd IAT Max', 'Fwd IAT Tot', 'Flow IAT Max', 'Fwd IAT Std', 'FIN Flag Cnt', 'Bwd IAT Std', 'Bwd IAT Tot'], 'Normal sample 1482': ['SYN Flag Cnt', 'ACK Flag Cnt', 'FIN Flag Cnt', 'Bwd Pkts/s', 'Pkt Size Avg', 'Flow Pkts/s', 'Pkt Len Mean', 'Pkt Len Min', 'Pkt Len Max', 'Pkt Len Std'], 'Normal sample 1483': ['SYN Flag Cnt', 'ACK Flag Cnt', 'FIN Flag Cnt', 'Bwd Pkts/s', 'Pkt Size Avg', 'Flow Pkts/s', 'Pkt Len Mean', 'Pkt Len Min', 'Pkt Len Max', 'Pkt Len Std'], 'Normal sample 1484': ['SYN Flag Cnt', 'ACK Flag Cnt', 'FIN Flag Cnt', 'Pkt Size Avg', 'Pkt Len Mean', 'Pkt Len Max', 'Bwd Pkts/s', 'Flow Pkts/s', 'Pkt Len Std', 'Pkt Len Min'], 'Normal sample 1485': ['SYN Flag Cnt', 'ACK Flag Cnt', 'FIN Flag Cnt', 'Pkt Size Avg', 'Pkt Len Max', 'Flow Pkts/s', 'Pkt Len Mean', 'Pkt Len Std', 'Bwd Pkts/s', 'Pkt Len Min'], 'Normal sample 1486': ['Init Bwd Win Byts', 'Fwd IAT Tot', 'Pkt Len Max', 'Down/Up Ratio', 'Fwd Pkt Len Max', 'Bwd IAT Max', 'Bwd IAT Tot', 'Fwd IAT Std', 'ACK Flag Cnt', 'Pkt Len Std'], 'Normal sample 1487': ['SYN Flag Cnt', 'Fwd Pkt Len Max', 'Fwd Pkt Len Std', 'Fwd Pkt Len Mean', 'Fwd Seg Size Avg', 'Pkt Size Avg', 'Pkt Len Mean', 'Pkt Len Max', 'FIN Flag Cnt', 'Bwd Pkts/s'], 'Normal sample 1488': ['SYN Flag Cnt', 'ACK Flag Cnt', 'FIN Flag Cnt', 'Pkt Len Max', 'Pkt Size Avg', 'Flow Pkts/s', 'Pkt Len Min', 'Bwd Pkts/s', 'Pkt Len Mean', 'Pkt Len Std'], 'Normal sample 1489': ['SYN Flag Cnt', 'ACK Flag Cnt', 'FIN Flag Cnt', 'Pkt Size Avg', 'Bwd Pkts/s', 'Flow Pkts/s', 'Pkt Len Mean', 'Pkt Len Max', 'Bwd Pkt Len Min', 'Pkt Len Min'], 'Normal sample 1490': ['SYN Flag Cnt', 'ACK Flag Cnt', 'FIN Flag Cnt', 'Flow Pkts/s', 'Pkt Size Avg', 'Bwd Pkts/s', 'Pkt Len Max', 'Pkt Len Mean', 'Pkt Len Min', 'Pkt Len Std'], 'Normal sample 1491': ['SYN Flag Cnt', 'FIN Flag Cnt', 'ACK Flag Cnt', 'Pkt Size Avg', 'Bwd Pkts/s', 'Pkt Len Min', 'Pkt Len Mean', 'Pkt Len Max', 'Pkt Len Std', 'Flow Pkts/s'], 'Normal sample 1492': ['SYN Flag Cnt', 'ACK Flag Cnt', 'FIN Flag Cnt', 'Pkt Size Avg', 'Bwd Pkts/s', 'Flow Pkts/s', 'Pkt Len Mean', 'Pkt Len Max', 'Pkt Len Min', 'Pkt Len Std'], 'Normal sample 1493': ['Init Bwd Win Byts', 'SYN Flag Cnt', 'Down/Up Ratio', 'URG Flag Cnt', 'ACK Flag Cnt', 'Idle Max', 'Idle Min', 'PSH Flag Cnt', 'Idle Mean', 'Flow IAT Max'], 'Normal sample 1494': ['Init Bwd Win Byts', 'FIN Flag Cnt', 'ACK Flag Cnt', 'Fwd IAT Mean', 'Flow Pkts/s', 'Fwd IAT Min', 'Down/Up Ratio', 'Fwd IAT Max', 'Idle Min', 'Fwd IAT Tot'], 'Normal sample 1495': ['SYN Flag Cnt', 'FIN Flag Cnt', 'ACK Flag Cnt', 'Pkt Len Mean', 'Pkt Size Avg', 'Pkt Len Max', 'Bwd Pkts/s', 'Pkt Len Min', 'Flow Pkts/s', 'Pkt Len Std'], 'Normal sample 1496': ['SYN Flag Cnt', 'ACK Flag Cnt', 'FIN Flag Cnt', 'Pkt Size Avg', 'Pkt Len Mean', 'Pkt Len Max', 'Flow Pkts/s', 'Pkt Len Std', 'Bwd Pkts/s', 'Pkt Len Min'], 'Normal sample 1497': ['SYN Flag Cnt', 'ACK Flag Cnt', 'FIN Flag Cnt', 'Pkt Size Avg', 'Pkt Len Mean', 'Flow Pkts/s', 'Bwd Pkts/s', 'Pkt Len Min', 'Pkt Len Max', 'Pkt Len Std'], 'Normal sample 1498': ['SYN Flag Cnt', 'ACK Flag Cnt', 'FIN Flag Cnt', 'Pkt Size Avg', 'Bwd Pkts/s', 'Flow Pkts/s', 'Pkt Len Mean', 'Pkt Len Max', 'Pkt Len Std', 'Pkt Len Min'], 'Normal sample 1499': ['Init Bwd Win Byts', 'SYN Flag Cnt', 'Down/Up Ratio', 'FIN Flag Cnt', 'Flow Pkts/s', 'Flow IAT Max', 'Idle Max', 'PSH Flag Cnt', 'Idle Mean', 'Bwd IAT Std']}\n"
          ]
        }
      ]
    },
    {
      "cell_type": "code",
      "source": [
        "len(data_dict)"
      ],
      "metadata": {
        "colab": {
          "base_uri": "https://localhost:8080/"
        },
        "id": "CDRmV6RRT6gS",
        "outputId": "5b8b4980-8aba-4c6e-9957-e40629000c38"
      },
      "execution_count": 20,
      "outputs": [
        {
          "output_type": "execute_result",
          "data": {
            "text/plain": [
              "1500"
            ]
          },
          "metadata": {},
          "execution_count": 20
        }
      ]
    },
    {
      "cell_type": "markdown",
      "source": [
        "# New whitelist: 38 top features with over 10k freq each"
      ],
      "metadata": {
        "id": "JyjDe5Kxredo"
      }
    },
    {
      "cell_type": "code",
      "source": [
        "df = pd.DataFrame.from_dict(data_dict, orient='index', columns=['Feature 1', 'Feature 2', 'Feature 3', 'Feature 4', 'Feature 5', 'Feature 6', 'Feature 7', 'Feature 8', 'Feature 9', 'Feature 10'])"
      ],
      "metadata": {
        "id": "HeFSTFLZeh1N"
      },
      "execution_count": 21,
      "outputs": []
    },
    {
      "cell_type": "code",
      "source": [
        "df.info()"
      ],
      "metadata": {
        "colab": {
          "base_uri": "https://localhost:8080/"
        },
        "id": "St0fe9Aye6ml",
        "outputId": "3b4e2839-7bac-4886-a223-99ea6d7e0371"
      },
      "execution_count": 22,
      "outputs": [
        {
          "output_type": "stream",
          "name": "stdout",
          "text": [
            "<class 'pandas.core.frame.DataFrame'>\n",
            "Index: 1500 entries, Normal sample 0 to Normal sample 1499\n",
            "Data columns (total 10 columns):\n",
            " #   Column      Non-Null Count  Dtype \n",
            "---  ------      --------------  ----- \n",
            " 0   Feature 1   1500 non-null   object\n",
            " 1   Feature 2   1500 non-null   object\n",
            " 2   Feature 3   1500 non-null   object\n",
            " 3   Feature 4   1500 non-null   object\n",
            " 4   Feature 5   1500 non-null   object\n",
            " 5   Feature 6   1500 non-null   object\n",
            " 6   Feature 7   1500 non-null   object\n",
            " 7   Feature 8   1500 non-null   object\n",
            " 8   Feature 9   1500 non-null   object\n",
            " 9   Feature 10  1500 non-null   object\n",
            "dtypes: object(10)\n",
            "memory usage: 128.9+ KB\n"
          ]
        }
      ]
    },
    {
      "cell_type": "code",
      "source": [
        "df.head()"
      ],
      "metadata": {
        "colab": {
          "base_uri": "https://localhost:8080/",
          "height": 0
        },
        "id": "z0LoK7TwTTFN",
        "outputId": "c6cee8ad-70cf-4a5b-8781-c14492c8cd61"
      },
      "execution_count": 23,
      "outputs": [
        {
          "output_type": "execute_result",
          "data": {
            "text/plain": [
              "                         Feature 1          Feature 2       Feature 3  \\\n",
              "Normal sample 0        Pkt Len Max  Init Bwd Win Byts  Bwd Header Len   \n",
              "Normal sample 1       SYN Flag Cnt       ACK Flag Cnt    FIN Flag Cnt   \n",
              "Normal sample 2       SYN Flag Cnt       ACK Flag Cnt    FIN Flag Cnt   \n",
              "Normal sample 3       SYN Flag Cnt       FIN Flag Cnt    ACK Flag Cnt   \n",
              "Normal sample 4  Init Bwd Win Byts   Fwd Pkt Len Mean    FIN Flag Cnt   \n",
              "\n",
              "                       Feature 4     Feature 5        Feature 6  \\\n",
              "Normal sample 0      Fwd IAT Tot  Pkt Size Avg      Bwd IAT Tot   \n",
              "Normal sample 1     Pkt Size Avg  Pkt Len Mean      Pkt Len Max   \n",
              "Normal sample 2     Pkt Size Avg    Bwd Pkts/s     Pkt Len Mean   \n",
              "Normal sample 3      Pkt Len Max  Pkt Size Avg      Flow Pkts/s   \n",
              "Normal sample 4  Fwd Pkt Len Max   Pkt Len Max  Fwd Pkt Len Std   \n",
              "\n",
              "                        Feature 7     Feature 8     Feature 9    Feature 10  \n",
              "Normal sample 0       Pkt Len Std  SYN Flag Cnt  Pkt Len Mean    Bwd Pkts/s  \n",
              "Normal sample 1       Flow Pkts/s    Bwd Pkts/s   Pkt Len Min   Pkt Len Std  \n",
              "Normal sample 2       Flow Pkts/s   Pkt Len Min   Pkt Len Max   Pkt Len Std  \n",
              "Normal sample 3       Pkt Len Std    Bwd Pkts/s   Pkt Len Min  Pkt Len Mean  \n",
              "Normal sample 4  Fwd Seg Size Avg   Flow Pkts/s  ACK Flag Cnt  Pkt Len Mean  "
            ],
            "text/html": [
              "\n",
              "  <div id=\"df-b5cf0f4a-a4cb-453a-8667-b310d2f3db39\">\n",
              "    <div class=\"colab-df-container\">\n",
              "      <div>\n",
              "<style scoped>\n",
              "    .dataframe tbody tr th:only-of-type {\n",
              "        vertical-align: middle;\n",
              "    }\n",
              "\n",
              "    .dataframe tbody tr th {\n",
              "        vertical-align: top;\n",
              "    }\n",
              "\n",
              "    .dataframe thead th {\n",
              "        text-align: right;\n",
              "    }\n",
              "</style>\n",
              "<table border=\"1\" class=\"dataframe\">\n",
              "  <thead>\n",
              "    <tr style=\"text-align: right;\">\n",
              "      <th></th>\n",
              "      <th>Feature 1</th>\n",
              "      <th>Feature 2</th>\n",
              "      <th>Feature 3</th>\n",
              "      <th>Feature 4</th>\n",
              "      <th>Feature 5</th>\n",
              "      <th>Feature 6</th>\n",
              "      <th>Feature 7</th>\n",
              "      <th>Feature 8</th>\n",
              "      <th>Feature 9</th>\n",
              "      <th>Feature 10</th>\n",
              "    </tr>\n",
              "  </thead>\n",
              "  <tbody>\n",
              "    <tr>\n",
              "      <th>Normal sample 0</th>\n",
              "      <td>Pkt Len Max</td>\n",
              "      <td>Init Bwd Win Byts</td>\n",
              "      <td>Bwd Header Len</td>\n",
              "      <td>Fwd IAT Tot</td>\n",
              "      <td>Pkt Size Avg</td>\n",
              "      <td>Bwd IAT Tot</td>\n",
              "      <td>Pkt Len Std</td>\n",
              "      <td>SYN Flag Cnt</td>\n",
              "      <td>Pkt Len Mean</td>\n",
              "      <td>Bwd Pkts/s</td>\n",
              "    </tr>\n",
              "    <tr>\n",
              "      <th>Normal sample 1</th>\n",
              "      <td>SYN Flag Cnt</td>\n",
              "      <td>ACK Flag Cnt</td>\n",
              "      <td>FIN Flag Cnt</td>\n",
              "      <td>Pkt Size Avg</td>\n",
              "      <td>Pkt Len Mean</td>\n",
              "      <td>Pkt Len Max</td>\n",
              "      <td>Flow Pkts/s</td>\n",
              "      <td>Bwd Pkts/s</td>\n",
              "      <td>Pkt Len Min</td>\n",
              "      <td>Pkt Len Std</td>\n",
              "    </tr>\n",
              "    <tr>\n",
              "      <th>Normal sample 2</th>\n",
              "      <td>SYN Flag Cnt</td>\n",
              "      <td>ACK Flag Cnt</td>\n",
              "      <td>FIN Flag Cnt</td>\n",
              "      <td>Pkt Size Avg</td>\n",
              "      <td>Bwd Pkts/s</td>\n",
              "      <td>Pkt Len Mean</td>\n",
              "      <td>Flow Pkts/s</td>\n",
              "      <td>Pkt Len Min</td>\n",
              "      <td>Pkt Len Max</td>\n",
              "      <td>Pkt Len Std</td>\n",
              "    </tr>\n",
              "    <tr>\n",
              "      <th>Normal sample 3</th>\n",
              "      <td>SYN Flag Cnt</td>\n",
              "      <td>FIN Flag Cnt</td>\n",
              "      <td>ACK Flag Cnt</td>\n",
              "      <td>Pkt Len Max</td>\n",
              "      <td>Pkt Size Avg</td>\n",
              "      <td>Flow Pkts/s</td>\n",
              "      <td>Pkt Len Std</td>\n",
              "      <td>Bwd Pkts/s</td>\n",
              "      <td>Pkt Len Min</td>\n",
              "      <td>Pkt Len Mean</td>\n",
              "    </tr>\n",
              "    <tr>\n",
              "      <th>Normal sample 4</th>\n",
              "      <td>Init Bwd Win Byts</td>\n",
              "      <td>Fwd Pkt Len Mean</td>\n",
              "      <td>FIN Flag Cnt</td>\n",
              "      <td>Fwd Pkt Len Max</td>\n",
              "      <td>Pkt Len Max</td>\n",
              "      <td>Fwd Pkt Len Std</td>\n",
              "      <td>Fwd Seg Size Avg</td>\n",
              "      <td>Flow Pkts/s</td>\n",
              "      <td>ACK Flag Cnt</td>\n",
              "      <td>Pkt Len Mean</td>\n",
              "    </tr>\n",
              "  </tbody>\n",
              "</table>\n",
              "</div>\n",
              "      <button class=\"colab-df-convert\" onclick=\"convertToInteractive('df-b5cf0f4a-a4cb-453a-8667-b310d2f3db39')\"\n",
              "              title=\"Convert this dataframe to an interactive table.\"\n",
              "              style=\"display:none;\">\n",
              "        \n",
              "  <svg xmlns=\"http://www.w3.org/2000/svg\" height=\"24px\"viewBox=\"0 0 24 24\"\n",
              "       width=\"24px\">\n",
              "    <path d=\"M0 0h24v24H0V0z\" fill=\"none\"/>\n",
              "    <path d=\"M18.56 5.44l.94 2.06.94-2.06 2.06-.94-2.06-.94-.94-2.06-.94 2.06-2.06.94zm-11 1L8.5 8.5l.94-2.06 2.06-.94-2.06-.94L8.5 2.5l-.94 2.06-2.06.94zm10 10l.94 2.06.94-2.06 2.06-.94-2.06-.94-.94-2.06-.94 2.06-2.06.94z\"/><path d=\"M17.41 7.96l-1.37-1.37c-.4-.4-.92-.59-1.43-.59-.52 0-1.04.2-1.43.59L10.3 9.45l-7.72 7.72c-.78.78-.78 2.05 0 2.83L4 21.41c.39.39.9.59 1.41.59.51 0 1.02-.2 1.41-.59l7.78-7.78 2.81-2.81c.8-.78.8-2.07 0-2.86zM5.41 20L4 18.59l7.72-7.72 1.47 1.35L5.41 20z\"/>\n",
              "  </svg>\n",
              "      </button>\n",
              "      \n",
              "  <style>\n",
              "    .colab-df-container {\n",
              "      display:flex;\n",
              "      flex-wrap:wrap;\n",
              "      gap: 12px;\n",
              "    }\n",
              "\n",
              "    .colab-df-convert {\n",
              "      background-color: #E8F0FE;\n",
              "      border: none;\n",
              "      border-radius: 50%;\n",
              "      cursor: pointer;\n",
              "      display: none;\n",
              "      fill: #1967D2;\n",
              "      height: 32px;\n",
              "      padding: 0 0 0 0;\n",
              "      width: 32px;\n",
              "    }\n",
              "\n",
              "    .colab-df-convert:hover {\n",
              "      background-color: #E2EBFA;\n",
              "      box-shadow: 0px 1px 2px rgba(60, 64, 67, 0.3), 0px 1px 3px 1px rgba(60, 64, 67, 0.15);\n",
              "      fill: #174EA6;\n",
              "    }\n",
              "\n",
              "    [theme=dark] .colab-df-convert {\n",
              "      background-color: #3B4455;\n",
              "      fill: #D2E3FC;\n",
              "    }\n",
              "\n",
              "    [theme=dark] .colab-df-convert:hover {\n",
              "      background-color: #434B5C;\n",
              "      box-shadow: 0px 1px 3px 1px rgba(0, 0, 0, 0.15);\n",
              "      filter: drop-shadow(0px 1px 2px rgba(0, 0, 0, 0.3));\n",
              "      fill: #FFFFFF;\n",
              "    }\n",
              "  </style>\n",
              "\n",
              "      <script>\n",
              "        const buttonEl =\n",
              "          document.querySelector('#df-b5cf0f4a-a4cb-453a-8667-b310d2f3db39 button.colab-df-convert');\n",
              "        buttonEl.style.display =\n",
              "          google.colab.kernel.accessAllowed ? 'block' : 'none';\n",
              "\n",
              "        async function convertToInteractive(key) {\n",
              "          const element = document.querySelector('#df-b5cf0f4a-a4cb-453a-8667-b310d2f3db39');\n",
              "          const dataTable =\n",
              "            await google.colab.kernel.invokeFunction('convertToInteractive',\n",
              "                                                     [key], {});\n",
              "          if (!dataTable) return;\n",
              "\n",
              "          const docLinkHtml = 'Like what you see? Visit the ' +\n",
              "            '<a target=\"_blank\" href=https://colab.research.google.com/notebooks/data_table.ipynb>data table notebook</a>'\n",
              "            + ' to learn more about interactive tables.';\n",
              "          element.innerHTML = '';\n",
              "          dataTable['output_type'] = 'display_data';\n",
              "          await google.colab.output.renderOutput(dataTable, element);\n",
              "          const docLink = document.createElement('div');\n",
              "          docLink.innerHTML = docLinkHtml;\n",
              "          element.appendChild(docLink);\n",
              "        }\n",
              "      </script>\n",
              "    </div>\n",
              "  </div>\n",
              "  "
            ]
          },
          "metadata": {},
          "execution_count": 23
        }
      ]
    },
    {
      "cell_type": "code",
      "source": [
        "df.to_csv('/content/drive/MyDrive/MLP_top10_of_each_normalfile.csv')"
      ],
      "metadata": {
        "id": "OgypaVUtfFHD"
      },
      "execution_count": 24,
      "outputs": []
    },
    {
      "cell_type": "code",
      "source": [
        "freq = {}\n",
        "for column in df.columns:\n",
        "  for feature in df[column]:\n",
        "    if feature in freq:\n",
        "      continue\n",
        "    else:\n",
        "      count = sum(df[column_2] == feature for column_2 in df.columns)\n",
        "      freq[feature] = count.sum()\n",
        "      print(freq[feature])"
      ],
      "metadata": {
        "colab": {
          "base_uri": "https://localhost:8080/"
        },
        "id": "LAINpgS9ikN8",
        "outputId": "d3de7e6d-9129-492f-9309-12ca64f9a6eb"
      },
      "execution_count": 25,
      "outputs": [
        {
          "output_type": "stream",
          "name": "stdout",
          "text": [
            "1024\n",
            "1204\n",
            "699\n",
            "390\n",
            "145\n",
            "82\n",
            "489\n",
            "42\n",
            "196\n",
            "261\n",
            "249\n",
            "340\n",
            "134\n",
            "918\n",
            "1159\n",
            "256\n",
            "1027\n",
            "257\n",
            "1012\n",
            "987\n",
            "178\n",
            "31\n",
            "147\n",
            "881\n",
            "173\n",
            "213\n",
            "842\n",
            "694\n",
            "108\n",
            "21\n",
            "95\n",
            "131\n",
            "132\n",
            "23\n",
            "23\n",
            "9\n",
            "52\n",
            "125\n",
            "45\n",
            "5\n",
            "26\n",
            "31\n",
            "26\n",
            "19\n",
            "6\n",
            "6\n",
            "6\n",
            "8\n",
            "6\n",
            "2\n",
            "4\n",
            "7\n",
            "4\n",
            "7\n",
            "10\n",
            "5\n",
            "9\n",
            "5\n",
            "4\n",
            "3\n",
            "3\n",
            "1\n",
            "3\n"
          ]
        }
      ]
    },
    {
      "cell_type": "code",
      "source": [
        "len(freq)"
      ],
      "metadata": {
        "colab": {
          "base_uri": "https://localhost:8080/"
        },
        "id": "7SNJ0BhvVZKd",
        "outputId": "968f133a-15a7-4984-f889-7d4f4a1b2799"
      },
      "execution_count": 26,
      "outputs": [
        {
          "output_type": "execute_result",
          "data": {
            "text/plain": [
              "63"
            ]
          },
          "metadata": {},
          "execution_count": 26
        }
      ]
    },
    {
      "cell_type": "code",
      "source": [
        "freq_df = pd.DataFrame(list(freq.items()), columns=['Feature', 'Frequency'])\n",
        "freq_df.head()"
      ],
      "metadata": {
        "colab": {
          "base_uri": "https://localhost:8080/",
          "height": 0
        },
        "id": "v_oz2bDBnGu7",
        "outputId": "1aafa656-d6c3-460d-d390-933ce8501652"
      },
      "execution_count": 27,
      "outputs": [
        {
          "output_type": "execute_result",
          "data": {
            "text/plain": [
              "             Feature  Frequency\n",
              "0        Pkt Len Max       1024\n",
              "1       SYN Flag Cnt       1204\n",
              "2  Init Bwd Win Byts        699\n",
              "3    Fwd Pkt Len Max        390\n",
              "4       PSH Flag Cnt        145"
            ],
            "text/html": [
              "\n",
              "  <div id=\"df-48b1772a-5d42-4f91-92fb-f7ac3c5b05c6\">\n",
              "    <div class=\"colab-df-container\">\n",
              "      <div>\n",
              "<style scoped>\n",
              "    .dataframe tbody tr th:only-of-type {\n",
              "        vertical-align: middle;\n",
              "    }\n",
              "\n",
              "    .dataframe tbody tr th {\n",
              "        vertical-align: top;\n",
              "    }\n",
              "\n",
              "    .dataframe thead th {\n",
              "        text-align: right;\n",
              "    }\n",
              "</style>\n",
              "<table border=\"1\" class=\"dataframe\">\n",
              "  <thead>\n",
              "    <tr style=\"text-align: right;\">\n",
              "      <th></th>\n",
              "      <th>Feature</th>\n",
              "      <th>Frequency</th>\n",
              "    </tr>\n",
              "  </thead>\n",
              "  <tbody>\n",
              "    <tr>\n",
              "      <th>0</th>\n",
              "      <td>Pkt Len Max</td>\n",
              "      <td>1024</td>\n",
              "    </tr>\n",
              "    <tr>\n",
              "      <th>1</th>\n",
              "      <td>SYN Flag Cnt</td>\n",
              "      <td>1204</td>\n",
              "    </tr>\n",
              "    <tr>\n",
              "      <th>2</th>\n",
              "      <td>Init Bwd Win Byts</td>\n",
              "      <td>699</td>\n",
              "    </tr>\n",
              "    <tr>\n",
              "      <th>3</th>\n",
              "      <td>Fwd Pkt Len Max</td>\n",
              "      <td>390</td>\n",
              "    </tr>\n",
              "    <tr>\n",
              "      <th>4</th>\n",
              "      <td>PSH Flag Cnt</td>\n",
              "      <td>145</td>\n",
              "    </tr>\n",
              "  </tbody>\n",
              "</table>\n",
              "</div>\n",
              "      <button class=\"colab-df-convert\" onclick=\"convertToInteractive('df-48b1772a-5d42-4f91-92fb-f7ac3c5b05c6')\"\n",
              "              title=\"Convert this dataframe to an interactive table.\"\n",
              "              style=\"display:none;\">\n",
              "        \n",
              "  <svg xmlns=\"http://www.w3.org/2000/svg\" height=\"24px\"viewBox=\"0 0 24 24\"\n",
              "       width=\"24px\">\n",
              "    <path d=\"M0 0h24v24H0V0z\" fill=\"none\"/>\n",
              "    <path d=\"M18.56 5.44l.94 2.06.94-2.06 2.06-.94-2.06-.94-.94-2.06-.94 2.06-2.06.94zm-11 1L8.5 8.5l.94-2.06 2.06-.94-2.06-.94L8.5 2.5l-.94 2.06-2.06.94zm10 10l.94 2.06.94-2.06 2.06-.94-2.06-.94-.94-2.06-.94 2.06-2.06.94z\"/><path d=\"M17.41 7.96l-1.37-1.37c-.4-.4-.92-.59-1.43-.59-.52 0-1.04.2-1.43.59L10.3 9.45l-7.72 7.72c-.78.78-.78 2.05 0 2.83L4 21.41c.39.39.9.59 1.41.59.51 0 1.02-.2 1.41-.59l7.78-7.78 2.81-2.81c.8-.78.8-2.07 0-2.86zM5.41 20L4 18.59l7.72-7.72 1.47 1.35L5.41 20z\"/>\n",
              "  </svg>\n",
              "      </button>\n",
              "      \n",
              "  <style>\n",
              "    .colab-df-container {\n",
              "      display:flex;\n",
              "      flex-wrap:wrap;\n",
              "      gap: 12px;\n",
              "    }\n",
              "\n",
              "    .colab-df-convert {\n",
              "      background-color: #E8F0FE;\n",
              "      border: none;\n",
              "      border-radius: 50%;\n",
              "      cursor: pointer;\n",
              "      display: none;\n",
              "      fill: #1967D2;\n",
              "      height: 32px;\n",
              "      padding: 0 0 0 0;\n",
              "      width: 32px;\n",
              "    }\n",
              "\n",
              "    .colab-df-convert:hover {\n",
              "      background-color: #E2EBFA;\n",
              "      box-shadow: 0px 1px 2px rgba(60, 64, 67, 0.3), 0px 1px 3px 1px rgba(60, 64, 67, 0.15);\n",
              "      fill: #174EA6;\n",
              "    }\n",
              "\n",
              "    [theme=dark] .colab-df-convert {\n",
              "      background-color: #3B4455;\n",
              "      fill: #D2E3FC;\n",
              "    }\n",
              "\n",
              "    [theme=dark] .colab-df-convert:hover {\n",
              "      background-color: #434B5C;\n",
              "      box-shadow: 0px 1px 3px 1px rgba(0, 0, 0, 0.15);\n",
              "      filter: drop-shadow(0px 1px 2px rgba(0, 0, 0, 0.3));\n",
              "      fill: #FFFFFF;\n",
              "    }\n",
              "  </style>\n",
              "\n",
              "      <script>\n",
              "        const buttonEl =\n",
              "          document.querySelector('#df-48b1772a-5d42-4f91-92fb-f7ac3c5b05c6 button.colab-df-convert');\n",
              "        buttonEl.style.display =\n",
              "          google.colab.kernel.accessAllowed ? 'block' : 'none';\n",
              "\n",
              "        async function convertToInteractive(key) {\n",
              "          const element = document.querySelector('#df-48b1772a-5d42-4f91-92fb-f7ac3c5b05c6');\n",
              "          const dataTable =\n",
              "            await google.colab.kernel.invokeFunction('convertToInteractive',\n",
              "                                                     [key], {});\n",
              "          if (!dataTable) return;\n",
              "\n",
              "          const docLinkHtml = 'Like what you see? Visit the ' +\n",
              "            '<a target=\"_blank\" href=https://colab.research.google.com/notebooks/data_table.ipynb>data table notebook</a>'\n",
              "            + ' to learn more about interactive tables.';\n",
              "          element.innerHTML = '';\n",
              "          dataTable['output_type'] = 'display_data';\n",
              "          await google.colab.output.renderOutput(dataTable, element);\n",
              "          const docLink = document.createElement('div');\n",
              "          docLink.innerHTML = docLinkHtml;\n",
              "          element.appendChild(docLink);\n",
              "        }\n",
              "      </script>\n",
              "    </div>\n",
              "  </div>\n",
              "  "
            ]
          },
          "metadata": {},
          "execution_count": 27
        }
      ]
    },
    {
      "cell_type": "code",
      "source": [
        "freq_df.sort_values(by=['Frequency'], ascending=False, inplace=True)\n",
        "freq_df.info()"
      ],
      "metadata": {
        "colab": {
          "base_uri": "https://localhost:8080/"
        },
        "id": "add06FW7nZhH",
        "outputId": "6d29564c-5820-4931-ce79-9c5cb9be9a5c"
      },
      "execution_count": 28,
      "outputs": [
        {
          "output_type": "stream",
          "name": "stdout",
          "text": [
            "<class 'pandas.core.frame.DataFrame'>\n",
            "Int64Index: 63 entries, 1 to 61\n",
            "Data columns (total 2 columns):\n",
            " #   Column     Non-Null Count  Dtype \n",
            "---  ------     --------------  ----- \n",
            " 0   Feature    63 non-null     object\n",
            " 1   Frequency  63 non-null     int64 \n",
            "dtypes: int64(1), object(1)\n",
            "memory usage: 1.5+ KB\n"
          ]
        }
      ]
    },
    {
      "cell_type": "code",
      "source": [
        "freq_df.head(24)"
      ],
      "metadata": {
        "colab": {
          "base_uri": "https://localhost:8080/",
          "height": 0
        },
        "id": "jLV5VBrguBWd",
        "outputId": "82ee07c9-2ded-4ef4-dfdf-5e5a5b27f1d8"
      },
      "execution_count": 29,
      "outputs": [
        {
          "output_type": "execute_result",
          "data": {
            "text/plain": [
              "              Feature  Frequency\n",
              "1        SYN Flag Cnt       1204\n",
              "14       FIN Flag Cnt       1159\n",
              "16       Pkt Size Avg       1027\n",
              "0         Pkt Len Max       1024\n",
              "18        Flow Pkts/s       1012\n",
              "19       Pkt Len Mean        987\n",
              "13       ACK Flag Cnt        918\n",
              "23         Bwd Pkts/s        881\n",
              "26        Pkt Len Std        842\n",
              "2   Init Bwd Win Byts        699\n",
              "27        Pkt Len Min        694\n",
              "6       Down/Up Ratio        489\n",
              "3     Fwd Pkt Len Max        390\n",
              "11        Fwd IAT Tot        340\n",
              "9     Fwd Pkt Len Std        261\n",
              "17   Fwd Seg Size Avg        257\n",
              "15   Fwd Pkt Len Mean        256\n",
              "10        Fwd IAT Std        249\n",
              "25       Flow IAT Max        213\n",
              "8         Fwd IAT Max        196\n",
              "20        Bwd IAT Tot        178\n",
              "24           Idle Max        173\n",
              "22        Bwd IAT Max        147\n",
              "4        PSH Flag Cnt        145"
            ],
            "text/html": [
              "\n",
              "  <div id=\"df-d5767818-bdac-4207-8ef1-9beca5396f70\">\n",
              "    <div class=\"colab-df-container\">\n",
              "      <div>\n",
              "<style scoped>\n",
              "    .dataframe tbody tr th:only-of-type {\n",
              "        vertical-align: middle;\n",
              "    }\n",
              "\n",
              "    .dataframe tbody tr th {\n",
              "        vertical-align: top;\n",
              "    }\n",
              "\n",
              "    .dataframe thead th {\n",
              "        text-align: right;\n",
              "    }\n",
              "</style>\n",
              "<table border=\"1\" class=\"dataframe\">\n",
              "  <thead>\n",
              "    <tr style=\"text-align: right;\">\n",
              "      <th></th>\n",
              "      <th>Feature</th>\n",
              "      <th>Frequency</th>\n",
              "    </tr>\n",
              "  </thead>\n",
              "  <tbody>\n",
              "    <tr>\n",
              "      <th>1</th>\n",
              "      <td>SYN Flag Cnt</td>\n",
              "      <td>1204</td>\n",
              "    </tr>\n",
              "    <tr>\n",
              "      <th>14</th>\n",
              "      <td>FIN Flag Cnt</td>\n",
              "      <td>1159</td>\n",
              "    </tr>\n",
              "    <tr>\n",
              "      <th>16</th>\n",
              "      <td>Pkt Size Avg</td>\n",
              "      <td>1027</td>\n",
              "    </tr>\n",
              "    <tr>\n",
              "      <th>0</th>\n",
              "      <td>Pkt Len Max</td>\n",
              "      <td>1024</td>\n",
              "    </tr>\n",
              "    <tr>\n",
              "      <th>18</th>\n",
              "      <td>Flow Pkts/s</td>\n",
              "      <td>1012</td>\n",
              "    </tr>\n",
              "    <tr>\n",
              "      <th>19</th>\n",
              "      <td>Pkt Len Mean</td>\n",
              "      <td>987</td>\n",
              "    </tr>\n",
              "    <tr>\n",
              "      <th>13</th>\n",
              "      <td>ACK Flag Cnt</td>\n",
              "      <td>918</td>\n",
              "    </tr>\n",
              "    <tr>\n",
              "      <th>23</th>\n",
              "      <td>Bwd Pkts/s</td>\n",
              "      <td>881</td>\n",
              "    </tr>\n",
              "    <tr>\n",
              "      <th>26</th>\n",
              "      <td>Pkt Len Std</td>\n",
              "      <td>842</td>\n",
              "    </tr>\n",
              "    <tr>\n",
              "      <th>2</th>\n",
              "      <td>Init Bwd Win Byts</td>\n",
              "      <td>699</td>\n",
              "    </tr>\n",
              "    <tr>\n",
              "      <th>27</th>\n",
              "      <td>Pkt Len Min</td>\n",
              "      <td>694</td>\n",
              "    </tr>\n",
              "    <tr>\n",
              "      <th>6</th>\n",
              "      <td>Down/Up Ratio</td>\n",
              "      <td>489</td>\n",
              "    </tr>\n",
              "    <tr>\n",
              "      <th>3</th>\n",
              "      <td>Fwd Pkt Len Max</td>\n",
              "      <td>390</td>\n",
              "    </tr>\n",
              "    <tr>\n",
              "      <th>11</th>\n",
              "      <td>Fwd IAT Tot</td>\n",
              "      <td>340</td>\n",
              "    </tr>\n",
              "    <tr>\n",
              "      <th>9</th>\n",
              "      <td>Fwd Pkt Len Std</td>\n",
              "      <td>261</td>\n",
              "    </tr>\n",
              "    <tr>\n",
              "      <th>17</th>\n",
              "      <td>Fwd Seg Size Avg</td>\n",
              "      <td>257</td>\n",
              "    </tr>\n",
              "    <tr>\n",
              "      <th>15</th>\n",
              "      <td>Fwd Pkt Len Mean</td>\n",
              "      <td>256</td>\n",
              "    </tr>\n",
              "    <tr>\n",
              "      <th>10</th>\n",
              "      <td>Fwd IAT Std</td>\n",
              "      <td>249</td>\n",
              "    </tr>\n",
              "    <tr>\n",
              "      <th>25</th>\n",
              "      <td>Flow IAT Max</td>\n",
              "      <td>213</td>\n",
              "    </tr>\n",
              "    <tr>\n",
              "      <th>8</th>\n",
              "      <td>Fwd IAT Max</td>\n",
              "      <td>196</td>\n",
              "    </tr>\n",
              "    <tr>\n",
              "      <th>20</th>\n",
              "      <td>Bwd IAT Tot</td>\n",
              "      <td>178</td>\n",
              "    </tr>\n",
              "    <tr>\n",
              "      <th>24</th>\n",
              "      <td>Idle Max</td>\n",
              "      <td>173</td>\n",
              "    </tr>\n",
              "    <tr>\n",
              "      <th>22</th>\n",
              "      <td>Bwd IAT Max</td>\n",
              "      <td>147</td>\n",
              "    </tr>\n",
              "    <tr>\n",
              "      <th>4</th>\n",
              "      <td>PSH Flag Cnt</td>\n",
              "      <td>145</td>\n",
              "    </tr>\n",
              "  </tbody>\n",
              "</table>\n",
              "</div>\n",
              "      <button class=\"colab-df-convert\" onclick=\"convertToInteractive('df-d5767818-bdac-4207-8ef1-9beca5396f70')\"\n",
              "              title=\"Convert this dataframe to an interactive table.\"\n",
              "              style=\"display:none;\">\n",
              "        \n",
              "  <svg xmlns=\"http://www.w3.org/2000/svg\" height=\"24px\"viewBox=\"0 0 24 24\"\n",
              "       width=\"24px\">\n",
              "    <path d=\"M0 0h24v24H0V0z\" fill=\"none\"/>\n",
              "    <path d=\"M18.56 5.44l.94 2.06.94-2.06 2.06-.94-2.06-.94-.94-2.06-.94 2.06-2.06.94zm-11 1L8.5 8.5l.94-2.06 2.06-.94-2.06-.94L8.5 2.5l-.94 2.06-2.06.94zm10 10l.94 2.06.94-2.06 2.06-.94-2.06-.94-.94-2.06-.94 2.06-2.06.94z\"/><path d=\"M17.41 7.96l-1.37-1.37c-.4-.4-.92-.59-1.43-.59-.52 0-1.04.2-1.43.59L10.3 9.45l-7.72 7.72c-.78.78-.78 2.05 0 2.83L4 21.41c.39.39.9.59 1.41.59.51 0 1.02-.2 1.41-.59l7.78-7.78 2.81-2.81c.8-.78.8-2.07 0-2.86zM5.41 20L4 18.59l7.72-7.72 1.47 1.35L5.41 20z\"/>\n",
              "  </svg>\n",
              "      </button>\n",
              "      \n",
              "  <style>\n",
              "    .colab-df-container {\n",
              "      display:flex;\n",
              "      flex-wrap:wrap;\n",
              "      gap: 12px;\n",
              "    }\n",
              "\n",
              "    .colab-df-convert {\n",
              "      background-color: #E8F0FE;\n",
              "      border: none;\n",
              "      border-radius: 50%;\n",
              "      cursor: pointer;\n",
              "      display: none;\n",
              "      fill: #1967D2;\n",
              "      height: 32px;\n",
              "      padding: 0 0 0 0;\n",
              "      width: 32px;\n",
              "    }\n",
              "\n",
              "    .colab-df-convert:hover {\n",
              "      background-color: #E2EBFA;\n",
              "      box-shadow: 0px 1px 2px rgba(60, 64, 67, 0.3), 0px 1px 3px 1px rgba(60, 64, 67, 0.15);\n",
              "      fill: #174EA6;\n",
              "    }\n",
              "\n",
              "    [theme=dark] .colab-df-convert {\n",
              "      background-color: #3B4455;\n",
              "      fill: #D2E3FC;\n",
              "    }\n",
              "\n",
              "    [theme=dark] .colab-df-convert:hover {\n",
              "      background-color: #434B5C;\n",
              "      box-shadow: 0px 1px 3px 1px rgba(0, 0, 0, 0.15);\n",
              "      filter: drop-shadow(0px 1px 2px rgba(0, 0, 0, 0.3));\n",
              "      fill: #FFFFFF;\n",
              "    }\n",
              "  </style>\n",
              "\n",
              "      <script>\n",
              "        const buttonEl =\n",
              "          document.querySelector('#df-d5767818-bdac-4207-8ef1-9beca5396f70 button.colab-df-convert');\n",
              "        buttonEl.style.display =\n",
              "          google.colab.kernel.accessAllowed ? 'block' : 'none';\n",
              "\n",
              "        async function convertToInteractive(key) {\n",
              "          const element = document.querySelector('#df-d5767818-bdac-4207-8ef1-9beca5396f70');\n",
              "          const dataTable =\n",
              "            await google.colab.kernel.invokeFunction('convertToInteractive',\n",
              "                                                     [key], {});\n",
              "          if (!dataTable) return;\n",
              "\n",
              "          const docLinkHtml = 'Like what you see? Visit the ' +\n",
              "            '<a target=\"_blank\" href=https://colab.research.google.com/notebooks/data_table.ipynb>data table notebook</a>'\n",
              "            + ' to learn more about interactive tables.';\n",
              "          element.innerHTML = '';\n",
              "          dataTable['output_type'] = 'display_data';\n",
              "          await google.colab.output.renderOutput(dataTable, element);\n",
              "          const docLink = document.createElement('div');\n",
              "          docLink.innerHTML = docLinkHtml;\n",
              "          element.appendChild(docLink);\n",
              "        }\n",
              "      </script>\n",
              "    </div>\n",
              "  </div>\n",
              "  "
            ]
          },
          "metadata": {},
          "execution_count": 29
        }
      ]
    },
    {
      "cell_type": "code",
      "source": [
        "freq_df[:38].to_csv('/content/drive/MyDrive/MLP_top24_InSDN.csv', index=False)"
      ],
      "metadata": {
        "id": "YU2TkWAjnl7s"
      },
      "execution_count": 30,
      "outputs": []
    },
    {
      "cell_type": "markdown",
      "source": [
        "# Detect normal samples"
      ],
      "metadata": {
        "id": "Csd7930IX6WM"
      }
    },
    {
      "cell_type": "code",
      "source": [
        "whitelist = freq_df.iloc[:, 0][:38].tolist()\n",
        "print(whitelist)"
      ],
      "metadata": {
        "colab": {
          "base_uri": "https://localhost:8080/"
        },
        "id": "RC9AnuTcv8ez",
        "outputId": "3f630a2d-81ea-4685-f85d-19b2d6ee2f7c"
      },
      "execution_count": 31,
      "outputs": [
        {
          "output_type": "stream",
          "name": "stdout",
          "text": [
            "['SYN Flag Cnt', 'FIN Flag Cnt', 'Pkt Size Avg', 'Pkt Len Max', 'Flow Pkts/s', 'Pkt Len Mean', 'ACK Flag Cnt', 'Bwd Pkts/s', 'Pkt Len Std', 'Init Bwd Win Byts', 'Pkt Len Min', 'Down/Up Ratio', 'Fwd Pkt Len Max', 'Fwd IAT Tot', 'Fwd Pkt Len Std', 'Fwd Seg Size Avg', 'Fwd Pkt Len Mean', 'Fwd IAT Std', 'Flow IAT Max', 'Fwd IAT Max', 'Bwd IAT Tot', 'Idle Max', 'Bwd IAT Max', 'PSH Flag Cnt', 'Bwd PSH Flags', 'Idle Mean', 'Idle Min', 'Bwd IAT Std', 'Bwd Pkt Len Min', 'URG Flag Cnt', 'Flow Byts/s', 'Flow Duration', 'Flow IAT Std', 'Fwd Pkt Len Min', 'Bwd IAT Mean', 'Bwd Header Len', 'Fwd IAT Mean', 'Bwd URG Flags']\n"
          ]
        }
      ]
    },
    {
      "cell_type": "code",
      "source": [
        "alert = []\n",
        "\n",
        "# Iterate over each key-value pair in the data_dict\n",
        "for key, value in data_dict.items():\n",
        "    # Check if there are one feature is not in the whitelist\n",
        "    for string in value:\n",
        "      if string not in whitelist:\n",
        "        alert.append(key)\n",
        "        break\n",
        "\n",
        "# Print the alert dictionary\n",
        "print(\"Alert list length:\" + str(len(alert)))"
      ],
      "metadata": {
        "colab": {
          "base_uri": "https://localhost:8080/"
        },
        "id": "P-IQyZMYYLzp",
        "outputId": "4ac66cbc-81d1-4146-bd1a-6ac9c89bfed7"
      },
      "execution_count": 32,
      "outputs": [
        {
          "output_type": "stream",
          "name": "stdout",
          "text": [
            "Alert list length:166\n"
          ]
        }
      ]
    },
    {
      "cell_type": "code",
      "source": [
        "whitelist = freq_df.iloc[:, 0][:24].tolist()\n",
        "print(whitelist)"
      ],
      "metadata": {
        "colab": {
          "base_uri": "https://localhost:8080/"
        },
        "id": "b9ZX1XMcYssx",
        "outputId": "4762eb34-b044-4ff0-92fb-3f38b909336c"
      },
      "execution_count": 33,
      "outputs": [
        {
          "output_type": "stream",
          "name": "stdout",
          "text": [
            "['SYN Flag Cnt', 'FIN Flag Cnt', 'Pkt Size Avg', 'Pkt Len Max', 'Flow Pkts/s', 'Pkt Len Mean', 'ACK Flag Cnt', 'Bwd Pkts/s', 'Pkt Len Std', 'Init Bwd Win Byts', 'Pkt Len Min', 'Down/Up Ratio', 'Fwd Pkt Len Max', 'Fwd IAT Tot', 'Fwd Pkt Len Std', 'Fwd Seg Size Avg', 'Fwd Pkt Len Mean', 'Fwd IAT Std', 'Flow IAT Max', 'Fwd IAT Max', 'Bwd IAT Tot', 'Idle Max', 'Bwd IAT Max', 'PSH Flag Cnt']\n"
          ]
        }
      ]
    },
    {
      "cell_type": "code",
      "source": [
        "alert = []\n",
        "\n",
        "# Iterate over each key-value pair in the data_dict\n",
        "for key, value in data_dict.items():\n",
        "    # Check if there are one feature is not in the whitelist\n",
        "    for string in value:\n",
        "      if string not in whitelist:\n",
        "        alert.append(key)\n",
        "        break\n",
        "\n",
        "# Print the alert dictionary\n",
        "print(\"Alert list length:\" + str(len(alert)))"
      ],
      "metadata": {
        "colab": {
          "base_uri": "https://localhost:8080/"
        },
        "id": "DuQ1OUp6Yrgh",
        "outputId": "39ec48f4-ea10-41a6-837a-7afae2fdd43d"
      },
      "execution_count": 34,
      "outputs": [
        {
          "output_type": "stream",
          "name": "stdout",
          "text": [
            "Alert list length:629\n"
          ]
        }
      ]
    },
    {
      "cell_type": "markdown",
      "source": [
        "## False positive of XAI on normal samples of trainset:\n",
        "top 38: 166/1500\n",
        "\n",
        "top 24: 629/1500"
      ],
      "metadata": {
        "id": "kykod9kUylxB"
      }
    }
  ],
  "metadata": {
    "colab": {
      "provenance": [],
      "collapsed_sections": [
        "JyjDe5Kxredo"
      ],
      "toc_visible": true
    },
    "kernelspec": {
      "display_name": "Python 3",
      "name": "python3"
    },
    "language_info": {
      "name": "python"
    },
    "widgets": {
      "application/vnd.jupyter.widget-state+json": {
        "1f6e1f1e03e0454bb59d726a6890ef36": {
          "model_module": "@jupyter-widgets/controls",
          "model_name": "HBoxModel",
          "model_module_version": "1.5.0",
          "state": {
            "_dom_classes": [],
            "_model_module": "@jupyter-widgets/controls",
            "_model_module_version": "1.5.0",
            "_model_name": "HBoxModel",
            "_view_count": null,
            "_view_module": "@jupyter-widgets/controls",
            "_view_module_version": "1.5.0",
            "_view_name": "HBoxView",
            "box_style": "",
            "children": [
              "IPY_MODEL_0853617562f1466686d80f1b6b41f96e",
              "IPY_MODEL_ee7ac10786454e99a8237a6e1ad613ea",
              "IPY_MODEL_ad0193e55f10412f931399969ef10a10"
            ],
            "layout": "IPY_MODEL_22dfb270a88644e2ad9d2e6173592048"
          }
        },
        "0853617562f1466686d80f1b6b41f96e": {
          "model_module": "@jupyter-widgets/controls",
          "model_name": "HTMLModel",
          "model_module_version": "1.5.0",
          "state": {
            "_dom_classes": [],
            "_model_module": "@jupyter-widgets/controls",
            "_model_module_version": "1.5.0",
            "_model_name": "HTMLModel",
            "_view_count": null,
            "_view_module": "@jupyter-widgets/controls",
            "_view_module_version": "1.5.0",
            "_view_name": "HTMLView",
            "description": "",
            "description_tooltip": null,
            "layout": "IPY_MODEL_5878a559a51742468d4553eaf46714c0",
            "placeholder": "​",
            "style": "IPY_MODEL_81eda0f9cfbc41978959cf671d405362",
            "value": "100%"
          }
        },
        "ee7ac10786454e99a8237a6e1ad613ea": {
          "model_module": "@jupyter-widgets/controls",
          "model_name": "FloatProgressModel",
          "model_module_version": "1.5.0",
          "state": {
            "_dom_classes": [],
            "_model_module": "@jupyter-widgets/controls",
            "_model_module_version": "1.5.0",
            "_model_name": "FloatProgressModel",
            "_view_count": null,
            "_view_module": "@jupyter-widgets/controls",
            "_view_module_version": "1.5.0",
            "_view_name": "ProgressView",
            "bar_style": "success",
            "description": "",
            "description_tooltip": null,
            "layout": "IPY_MODEL_0e757dc0d45745548f99eafe94476684",
            "max": 1500,
            "min": 0,
            "orientation": "horizontal",
            "style": "IPY_MODEL_b9338f0ff0194975bd0debf54115399f",
            "value": 1500
          }
        },
        "ad0193e55f10412f931399969ef10a10": {
          "model_module": "@jupyter-widgets/controls",
          "model_name": "HTMLModel",
          "model_module_version": "1.5.0",
          "state": {
            "_dom_classes": [],
            "_model_module": "@jupyter-widgets/controls",
            "_model_module_version": "1.5.0",
            "_model_name": "HTMLModel",
            "_view_count": null,
            "_view_module": "@jupyter-widgets/controls",
            "_view_module_version": "1.5.0",
            "_view_name": "HTMLView",
            "description": "",
            "description_tooltip": null,
            "layout": "IPY_MODEL_1245f8a3329343718a60dd1f7afcd77e",
            "placeholder": "​",
            "style": "IPY_MODEL_db556f9d021e4edcae8082e981a2c287",
            "value": " 1500/1500 [3:06:48&lt;00:00,  7.42s/it]"
          }
        },
        "22dfb270a88644e2ad9d2e6173592048": {
          "model_module": "@jupyter-widgets/base",
          "model_name": "LayoutModel",
          "model_module_version": "1.2.0",
          "state": {
            "_model_module": "@jupyter-widgets/base",
            "_model_module_version": "1.2.0",
            "_model_name": "LayoutModel",
            "_view_count": null,
            "_view_module": "@jupyter-widgets/base",
            "_view_module_version": "1.2.0",
            "_view_name": "LayoutView",
            "align_content": null,
            "align_items": null,
            "align_self": null,
            "border": null,
            "bottom": null,
            "display": null,
            "flex": null,
            "flex_flow": null,
            "grid_area": null,
            "grid_auto_columns": null,
            "grid_auto_flow": null,
            "grid_auto_rows": null,
            "grid_column": null,
            "grid_gap": null,
            "grid_row": null,
            "grid_template_areas": null,
            "grid_template_columns": null,
            "grid_template_rows": null,
            "height": null,
            "justify_content": null,
            "justify_items": null,
            "left": null,
            "margin": null,
            "max_height": null,
            "max_width": null,
            "min_height": null,
            "min_width": null,
            "object_fit": null,
            "object_position": null,
            "order": null,
            "overflow": null,
            "overflow_x": null,
            "overflow_y": null,
            "padding": null,
            "right": null,
            "top": null,
            "visibility": null,
            "width": null
          }
        },
        "5878a559a51742468d4553eaf46714c0": {
          "model_module": "@jupyter-widgets/base",
          "model_name": "LayoutModel",
          "model_module_version": "1.2.0",
          "state": {
            "_model_module": "@jupyter-widgets/base",
            "_model_module_version": "1.2.0",
            "_model_name": "LayoutModel",
            "_view_count": null,
            "_view_module": "@jupyter-widgets/base",
            "_view_module_version": "1.2.0",
            "_view_name": "LayoutView",
            "align_content": null,
            "align_items": null,
            "align_self": null,
            "border": null,
            "bottom": null,
            "display": null,
            "flex": null,
            "flex_flow": null,
            "grid_area": null,
            "grid_auto_columns": null,
            "grid_auto_flow": null,
            "grid_auto_rows": null,
            "grid_column": null,
            "grid_gap": null,
            "grid_row": null,
            "grid_template_areas": null,
            "grid_template_columns": null,
            "grid_template_rows": null,
            "height": null,
            "justify_content": null,
            "justify_items": null,
            "left": null,
            "margin": null,
            "max_height": null,
            "max_width": null,
            "min_height": null,
            "min_width": null,
            "object_fit": null,
            "object_position": null,
            "order": null,
            "overflow": null,
            "overflow_x": null,
            "overflow_y": null,
            "padding": null,
            "right": null,
            "top": null,
            "visibility": null,
            "width": null
          }
        },
        "81eda0f9cfbc41978959cf671d405362": {
          "model_module": "@jupyter-widgets/controls",
          "model_name": "DescriptionStyleModel",
          "model_module_version": "1.5.0",
          "state": {
            "_model_module": "@jupyter-widgets/controls",
            "_model_module_version": "1.5.0",
            "_model_name": "DescriptionStyleModel",
            "_view_count": null,
            "_view_module": "@jupyter-widgets/base",
            "_view_module_version": "1.2.0",
            "_view_name": "StyleView",
            "description_width": ""
          }
        },
        "0e757dc0d45745548f99eafe94476684": {
          "model_module": "@jupyter-widgets/base",
          "model_name": "LayoutModel",
          "model_module_version": "1.2.0",
          "state": {
            "_model_module": "@jupyter-widgets/base",
            "_model_module_version": "1.2.0",
            "_model_name": "LayoutModel",
            "_view_count": null,
            "_view_module": "@jupyter-widgets/base",
            "_view_module_version": "1.2.0",
            "_view_name": "LayoutView",
            "align_content": null,
            "align_items": null,
            "align_self": null,
            "border": null,
            "bottom": null,
            "display": null,
            "flex": null,
            "flex_flow": null,
            "grid_area": null,
            "grid_auto_columns": null,
            "grid_auto_flow": null,
            "grid_auto_rows": null,
            "grid_column": null,
            "grid_gap": null,
            "grid_row": null,
            "grid_template_areas": null,
            "grid_template_columns": null,
            "grid_template_rows": null,
            "height": null,
            "justify_content": null,
            "justify_items": null,
            "left": null,
            "margin": null,
            "max_height": null,
            "max_width": null,
            "min_height": null,
            "min_width": null,
            "object_fit": null,
            "object_position": null,
            "order": null,
            "overflow": null,
            "overflow_x": null,
            "overflow_y": null,
            "padding": null,
            "right": null,
            "top": null,
            "visibility": null,
            "width": null
          }
        },
        "b9338f0ff0194975bd0debf54115399f": {
          "model_module": "@jupyter-widgets/controls",
          "model_name": "ProgressStyleModel",
          "model_module_version": "1.5.0",
          "state": {
            "_model_module": "@jupyter-widgets/controls",
            "_model_module_version": "1.5.0",
            "_model_name": "ProgressStyleModel",
            "_view_count": null,
            "_view_module": "@jupyter-widgets/base",
            "_view_module_version": "1.2.0",
            "_view_name": "StyleView",
            "bar_color": null,
            "description_width": ""
          }
        },
        "1245f8a3329343718a60dd1f7afcd77e": {
          "model_module": "@jupyter-widgets/base",
          "model_name": "LayoutModel",
          "model_module_version": "1.2.0",
          "state": {
            "_model_module": "@jupyter-widgets/base",
            "_model_module_version": "1.2.0",
            "_model_name": "LayoutModel",
            "_view_count": null,
            "_view_module": "@jupyter-widgets/base",
            "_view_module_version": "1.2.0",
            "_view_name": "LayoutView",
            "align_content": null,
            "align_items": null,
            "align_self": null,
            "border": null,
            "bottom": null,
            "display": null,
            "flex": null,
            "flex_flow": null,
            "grid_area": null,
            "grid_auto_columns": null,
            "grid_auto_flow": null,
            "grid_auto_rows": null,
            "grid_column": null,
            "grid_gap": null,
            "grid_row": null,
            "grid_template_areas": null,
            "grid_template_columns": null,
            "grid_template_rows": null,
            "height": null,
            "justify_content": null,
            "justify_items": null,
            "left": null,
            "margin": null,
            "max_height": null,
            "max_width": null,
            "min_height": null,
            "min_width": null,
            "object_fit": null,
            "object_position": null,
            "order": null,
            "overflow": null,
            "overflow_x": null,
            "overflow_y": null,
            "padding": null,
            "right": null,
            "top": null,
            "visibility": null,
            "width": null
          }
        },
        "db556f9d021e4edcae8082e981a2c287": {
          "model_module": "@jupyter-widgets/controls",
          "model_name": "DescriptionStyleModel",
          "model_module_version": "1.5.0",
          "state": {
            "_model_module": "@jupyter-widgets/controls",
            "_model_module_version": "1.5.0",
            "_model_name": "DescriptionStyleModel",
            "_view_count": null,
            "_view_module": "@jupyter-widgets/base",
            "_view_module_version": "1.2.0",
            "_view_name": "StyleView",
            "description_width": ""
          }
        }
      }
    }
  },
  "nbformat": 4,
  "nbformat_minor": 0
}