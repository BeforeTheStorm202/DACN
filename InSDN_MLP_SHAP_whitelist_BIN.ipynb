{
  "cells": [
    {
      "cell_type": "markdown",
      "metadata": {
        "id": "rJBJPRmCFqU7"
      },
      "source": [
        "# Import"
      ]
    },
    {
      "cell_type": "code",
      "execution_count": 1,
      "metadata": {
        "colab": {
          "base_uri": "https://localhost:8080/"
        },
        "id": "Ym8Pb2oREYUG",
        "outputId": "e8a5a573-f6e1-4ab5-dac8-d65c82dbbdc9"
      },
      "outputs": [
        {
          "output_type": "stream",
          "name": "stdout",
          "text": [
            "Collecting shap\n",
            "  Downloading shap-0.41.0-cp310-cp310-manylinux_2_12_x86_64.manylinux2010_x86_64.whl (572 kB)\n",
            "\u001b[?25l     \u001b[90m━━━━━━━━━━━━━━━━━━━━━━━━━━━━━━━━━━━━━━━━\u001b[0m \u001b[32m0.0/572.6 kB\u001b[0m \u001b[31m?\u001b[0m eta \u001b[36m-:--:--\u001b[0m\r\u001b[2K     \u001b[91m━━━━━━━━━━━━━━━━━━━━━━━━━━━━━━━━━━━━━\u001b[0m\u001b[90m╺\u001b[0m \u001b[32m563.2/572.6 kB\u001b[0m \u001b[31m23.5 MB/s\u001b[0m eta \u001b[36m0:00:01\u001b[0m\r\u001b[2K     \u001b[90m━━━━━━━━━━━━━━━━━━━━━━━━━━━━━━━━━━━━━━\u001b[0m \u001b[32m572.6/572.6 kB\u001b[0m \u001b[31m15.3 MB/s\u001b[0m eta \u001b[36m0:00:00\u001b[0m\n",
            "\u001b[?25hRequirement already satisfied: numpy in /usr/local/lib/python3.10/dist-packages (from shap) (1.22.4)\n",
            "Requirement already satisfied: scipy in /usr/local/lib/python3.10/dist-packages (from shap) (1.10.1)\n",
            "Requirement already satisfied: scikit-learn in /usr/local/lib/python3.10/dist-packages (from shap) (1.2.2)\n",
            "Requirement already satisfied: pandas in /usr/local/lib/python3.10/dist-packages (from shap) (1.5.3)\n",
            "Requirement already satisfied: tqdm>4.25.0 in /usr/local/lib/python3.10/dist-packages (from shap) (4.65.0)\n",
            "Requirement already satisfied: packaging>20.9 in /usr/local/lib/python3.10/dist-packages (from shap) (23.1)\n",
            "Collecting slicer==0.0.7 (from shap)\n",
            "  Downloading slicer-0.0.7-py3-none-any.whl (14 kB)\n",
            "Requirement already satisfied: numba in /usr/local/lib/python3.10/dist-packages (from shap) (0.56.4)\n",
            "Requirement already satisfied: cloudpickle in /usr/local/lib/python3.10/dist-packages (from shap) (2.2.1)\n",
            "Requirement already satisfied: llvmlite<0.40,>=0.39.0dev0 in /usr/local/lib/python3.10/dist-packages (from numba->shap) (0.39.1)\n",
            "Requirement already satisfied: setuptools in /usr/local/lib/python3.10/dist-packages (from numba->shap) (67.7.2)\n",
            "Requirement already satisfied: python-dateutil>=2.8.1 in /usr/local/lib/python3.10/dist-packages (from pandas->shap) (2.8.2)\n",
            "Requirement already satisfied: pytz>=2020.1 in /usr/local/lib/python3.10/dist-packages (from pandas->shap) (2022.7.1)\n",
            "Requirement already satisfied: joblib>=1.1.1 in /usr/local/lib/python3.10/dist-packages (from scikit-learn->shap) (1.2.0)\n",
            "Requirement already satisfied: threadpoolctl>=2.0.0 in /usr/local/lib/python3.10/dist-packages (from scikit-learn->shap) (3.1.0)\n",
            "Requirement already satisfied: six>=1.5 in /usr/local/lib/python3.10/dist-packages (from python-dateutil>=2.8.1->pandas->shap) (1.16.0)\n",
            "Installing collected packages: slicer, shap\n",
            "Successfully installed shap-0.41.0 slicer-0.0.7\n"
          ]
        }
      ],
      "source": [
        "!pip install shap"
      ]
    },
    {
      "cell_type": "code",
      "execution_count": 2,
      "metadata": {
        "id": "9qxu7n9TFv21"
      },
      "outputs": [],
      "source": [
        "import shap\n",
        "import pandas as pd\n",
        "import tensorflow as tf\n",
        "from tensorflow import keras"
      ]
    },
    {
      "cell_type": "code",
      "source": [
        "from google.colab import drive\n",
        "drive.mount('/content/drive')"
      ],
      "metadata": {
        "colab": {
          "base_uri": "https://localhost:8080/"
        },
        "id": "iY1t78ZdzYsk",
        "outputId": "8566a26b-b042-47ca-c9ec-2ca86039c785"
      },
      "execution_count": 3,
      "outputs": [
        {
          "output_type": "stream",
          "name": "stdout",
          "text": [
            "Mounted at /content/drive\n"
          ]
        }
      ]
    },
    {
      "cell_type": "markdown",
      "metadata": {
        "id": "SDGzHf5TG6UT"
      },
      "source": [
        "# Load dataset & model"
      ]
    },
    {
      "cell_type": "code",
      "execution_count": 38,
      "metadata": {
        "colab": {
          "base_uri": "https://localhost:8080/"
        },
        "id": "a-B3scZ0lXpa",
        "outputId": "e164c332-e7e9-442b-ed5d-56ad74eec905"
      },
      "outputs": [
        {
          "output_type": "stream",
          "name": "stdout",
          "text": [
            "<class 'pandas.core.frame.DataFrame'>\n",
            "RangeIndex: 275111 entries, 0 to 275110\n",
            "Data columns (total 77 columns):\n",
            " #   Column             Non-Null Count   Dtype  \n",
            "---  ------             --------------   -----  \n",
            " 0   Flow Duration      275111 non-null  float64\n",
            " 1   Tot Fwd Pkts       275111 non-null  float64\n",
            " 2   Tot Bwd Pkts       275111 non-null  float64\n",
            " 3   TotLen Fwd Pkts    275111 non-null  float64\n",
            " 4   TotLen Bwd Pkts    275111 non-null  float64\n",
            " 5   Fwd Pkt Len Max    275111 non-null  float64\n",
            " 6   Fwd Pkt Len Min    275111 non-null  float64\n",
            " 7   Fwd Pkt Len Mean   275111 non-null  float64\n",
            " 8   Fwd Pkt Len Std    275111 non-null  float64\n",
            " 9   Bwd Pkt Len Max    275111 non-null  float64\n",
            " 10  Bwd Pkt Len Min    275111 non-null  float64\n",
            " 11  Bwd Pkt Len Mean   275111 non-null  float64\n",
            " 12  Bwd Pkt Len Std    275111 non-null  float64\n",
            " 13  Flow Byts/s        275111 non-null  float64\n",
            " 14  Flow Pkts/s        275111 non-null  float64\n",
            " 15  Flow IAT Mean      275111 non-null  float64\n",
            " 16  Flow IAT Std       275111 non-null  float64\n",
            " 17  Flow IAT Max       275111 non-null  float64\n",
            " 18  Flow IAT Min       275111 non-null  float64\n",
            " 19  Fwd IAT Tot        275111 non-null  float64\n",
            " 20  Fwd IAT Mean       275111 non-null  float64\n",
            " 21  Fwd IAT Std        275111 non-null  float64\n",
            " 22  Fwd IAT Max        275111 non-null  float64\n",
            " 23  Fwd IAT Min        275111 non-null  float64\n",
            " 24  Bwd IAT Tot        275111 non-null  float64\n",
            " 25  Bwd IAT Mean       275111 non-null  float64\n",
            " 26  Bwd IAT Std        275111 non-null  float64\n",
            " 27  Bwd IAT Max        275111 non-null  float64\n",
            " 28  Bwd IAT Min        275111 non-null  float64\n",
            " 29  Fwd PSH Flags      275111 non-null  float64\n",
            " 30  Bwd PSH Flags      275111 non-null  float64\n",
            " 31  Fwd URG Flags      275111 non-null  float64\n",
            " 32  Bwd URG Flags      275111 non-null  float64\n",
            " 33  Fwd Header Len     275111 non-null  float64\n",
            " 34  Bwd Header Len     275111 non-null  float64\n",
            " 35  Fwd Pkts/s         275111 non-null  float64\n",
            " 36  Bwd Pkts/s         275111 non-null  float64\n",
            " 37  Pkt Len Min        275111 non-null  float64\n",
            " 38  Pkt Len Max        275111 non-null  float64\n",
            " 39  Pkt Len Mean       275111 non-null  float64\n",
            " 40  Pkt Len Std        275111 non-null  float64\n",
            " 41  Pkt Len Var        275111 non-null  float64\n",
            " 42  FIN Flag Cnt       275111 non-null  float64\n",
            " 43  SYN Flag Cnt       275111 non-null  float64\n",
            " 44  RST Flag Cnt       275111 non-null  float64\n",
            " 45  PSH Flag Cnt       275111 non-null  float64\n",
            " 46  ACK Flag Cnt       275111 non-null  float64\n",
            " 47  URG Flag Cnt       275111 non-null  float64\n",
            " 48  CWE Flag Count     275111 non-null  float64\n",
            " 49  ECE Flag Cnt       275111 non-null  float64\n",
            " 50  Down/Up Ratio      275111 non-null  float64\n",
            " 51  Pkt Size Avg       275111 non-null  float64\n",
            " 52  Fwd Seg Size Avg   275111 non-null  float64\n",
            " 53  Bwd Seg Size Avg   275111 non-null  float64\n",
            " 54  Fwd Byts/b Avg     275111 non-null  float64\n",
            " 55  Fwd Pkts/b Avg     275111 non-null  float64\n",
            " 56  Fwd Blk Rate Avg   275111 non-null  float64\n",
            " 57  Bwd Byts/b Avg     275111 non-null  float64\n",
            " 58  Bwd Pkts/b Avg     275111 non-null  float64\n",
            " 59  Bwd Blk Rate Avg   275111 non-null  float64\n",
            " 60  Subflow Fwd Pkts   275111 non-null  float64\n",
            " 61  Subflow Fwd Byts   275111 non-null  float64\n",
            " 62  Subflow Bwd Pkts   275111 non-null  float64\n",
            " 63  Subflow Bwd Byts   275111 non-null  float64\n",
            " 64  Init Fwd Win Byts  275111 non-null  float64\n",
            " 65  Init Bwd Win Byts  275111 non-null  float64\n",
            " 66  Fwd Act Data Pkts  275111 non-null  float64\n",
            " 67  Fwd Seg Size Min   275111 non-null  float64\n",
            " 68  Active Mean        275111 non-null  float64\n",
            " 69  Active Std         275111 non-null  float64\n",
            " 70  Active Max         275111 non-null  float64\n",
            " 71  Active Min         275111 non-null  float64\n",
            " 72  Idle Mean          275111 non-null  float64\n",
            " 73  Idle Std           275111 non-null  float64\n",
            " 74  Idle Max           275111 non-null  float64\n",
            " 75  Idle Min           275111 non-null  float64\n",
            " 76  Label              275111 non-null  int64  \n",
            "dtypes: float64(76), int64(1)\n",
            "memory usage: 161.6 MB\n"
          ]
        }
      ],
      "source": [
        "df = pd.read_csv('/content/drive/MyDrive/Dataset/insdn/binary/train.csv')\n",
        "df.info()"
      ]
    },
    {
      "cell_type": "code",
      "execution_count": 35,
      "metadata": {
        "id": "9BkutXYx8C2V"
      },
      "outputs": [],
      "source": [
        "model_mlp = tf.keras.models.load_model('/content/drive/MyDrive/Dataset/insdn/insdn_mlp_bin.h5', compile=True)"
      ]
    },
    {
      "cell_type": "code",
      "execution_count": 39,
      "metadata": {
        "id": "8CQCgNzXysIE"
      },
      "outputs": [],
      "source": [
        "x_normal = df[df['Label'] == 0].reset_index(drop=True)"
      ]
    },
    {
      "cell_type": "code",
      "execution_count": 40,
      "metadata": {
        "colab": {
          "base_uri": "https://localhost:8080/"
        },
        "id": "xBfpy1cqzax6",
        "outputId": "53af349d-a750-4b85-a124-2eadf978f78f"
      },
      "outputs": [
        {
          "output_type": "stream",
          "name": "stdout",
          "text": [
            "<class 'pandas.core.frame.DataFrame'>\n",
            "RangeIndex: 54797 entries, 0 to 54796\n",
            "Data columns (total 77 columns):\n",
            " #   Column             Non-Null Count  Dtype  \n",
            "---  ------             --------------  -----  \n",
            " 0   Flow Duration      54797 non-null  float64\n",
            " 1   Tot Fwd Pkts       54797 non-null  float64\n",
            " 2   Tot Bwd Pkts       54797 non-null  float64\n",
            " 3   TotLen Fwd Pkts    54797 non-null  float64\n",
            " 4   TotLen Bwd Pkts    54797 non-null  float64\n",
            " 5   Fwd Pkt Len Max    54797 non-null  float64\n",
            " 6   Fwd Pkt Len Min    54797 non-null  float64\n",
            " 7   Fwd Pkt Len Mean   54797 non-null  float64\n",
            " 8   Fwd Pkt Len Std    54797 non-null  float64\n",
            " 9   Bwd Pkt Len Max    54797 non-null  float64\n",
            " 10  Bwd Pkt Len Min    54797 non-null  float64\n",
            " 11  Bwd Pkt Len Mean   54797 non-null  float64\n",
            " 12  Bwd Pkt Len Std    54797 non-null  float64\n",
            " 13  Flow Byts/s        54797 non-null  float64\n",
            " 14  Flow Pkts/s        54797 non-null  float64\n",
            " 15  Flow IAT Mean      54797 non-null  float64\n",
            " 16  Flow IAT Std       54797 non-null  float64\n",
            " 17  Flow IAT Max       54797 non-null  float64\n",
            " 18  Flow IAT Min       54797 non-null  float64\n",
            " 19  Fwd IAT Tot        54797 non-null  float64\n",
            " 20  Fwd IAT Mean       54797 non-null  float64\n",
            " 21  Fwd IAT Std        54797 non-null  float64\n",
            " 22  Fwd IAT Max        54797 non-null  float64\n",
            " 23  Fwd IAT Min        54797 non-null  float64\n",
            " 24  Bwd IAT Tot        54797 non-null  float64\n",
            " 25  Bwd IAT Mean       54797 non-null  float64\n",
            " 26  Bwd IAT Std        54797 non-null  float64\n",
            " 27  Bwd IAT Max        54797 non-null  float64\n",
            " 28  Bwd IAT Min        54797 non-null  float64\n",
            " 29  Fwd PSH Flags      54797 non-null  float64\n",
            " 30  Bwd PSH Flags      54797 non-null  float64\n",
            " 31  Fwd URG Flags      54797 non-null  float64\n",
            " 32  Bwd URG Flags      54797 non-null  float64\n",
            " 33  Fwd Header Len     54797 non-null  float64\n",
            " 34  Bwd Header Len     54797 non-null  float64\n",
            " 35  Fwd Pkts/s         54797 non-null  float64\n",
            " 36  Bwd Pkts/s         54797 non-null  float64\n",
            " 37  Pkt Len Min        54797 non-null  float64\n",
            " 38  Pkt Len Max        54797 non-null  float64\n",
            " 39  Pkt Len Mean       54797 non-null  float64\n",
            " 40  Pkt Len Std        54797 non-null  float64\n",
            " 41  Pkt Len Var        54797 non-null  float64\n",
            " 42  FIN Flag Cnt       54797 non-null  float64\n",
            " 43  SYN Flag Cnt       54797 non-null  float64\n",
            " 44  RST Flag Cnt       54797 non-null  float64\n",
            " 45  PSH Flag Cnt       54797 non-null  float64\n",
            " 46  ACK Flag Cnt       54797 non-null  float64\n",
            " 47  URG Flag Cnt       54797 non-null  float64\n",
            " 48  CWE Flag Count     54797 non-null  float64\n",
            " 49  ECE Flag Cnt       54797 non-null  float64\n",
            " 50  Down/Up Ratio      54797 non-null  float64\n",
            " 51  Pkt Size Avg       54797 non-null  float64\n",
            " 52  Fwd Seg Size Avg   54797 non-null  float64\n",
            " 53  Bwd Seg Size Avg   54797 non-null  float64\n",
            " 54  Fwd Byts/b Avg     54797 non-null  float64\n",
            " 55  Fwd Pkts/b Avg     54797 non-null  float64\n",
            " 56  Fwd Blk Rate Avg   54797 non-null  float64\n",
            " 57  Bwd Byts/b Avg     54797 non-null  float64\n",
            " 58  Bwd Pkts/b Avg     54797 non-null  float64\n",
            " 59  Bwd Blk Rate Avg   54797 non-null  float64\n",
            " 60  Subflow Fwd Pkts   54797 non-null  float64\n",
            " 61  Subflow Fwd Byts   54797 non-null  float64\n",
            " 62  Subflow Bwd Pkts   54797 non-null  float64\n",
            " 63  Subflow Bwd Byts   54797 non-null  float64\n",
            " 64  Init Fwd Win Byts  54797 non-null  float64\n",
            " 65  Init Bwd Win Byts  54797 non-null  float64\n",
            " 66  Fwd Act Data Pkts  54797 non-null  float64\n",
            " 67  Fwd Seg Size Min   54797 non-null  float64\n",
            " 68  Active Mean        54797 non-null  float64\n",
            " 69  Active Std         54797 non-null  float64\n",
            " 70  Active Max         54797 non-null  float64\n",
            " 71  Active Min         54797 non-null  float64\n",
            " 72  Idle Mean          54797 non-null  float64\n",
            " 73  Idle Std           54797 non-null  float64\n",
            " 74  Idle Max           54797 non-null  float64\n",
            " 75  Idle Min           54797 non-null  float64\n",
            " 76  Label              54797 non-null  int64  \n",
            "dtypes: float64(76), int64(1)\n",
            "memory usage: 32.2 MB\n"
          ]
        }
      ],
      "source": [
        "x_normal.info()"
      ]
    },
    {
      "cell_type": "code",
      "execution_count": null,
      "metadata": {
        "id": "mQLA0I-h0Dji"
      },
      "outputs": [],
      "source": [
        "x_normal['Label'].value_counts()"
      ]
    },
    {
      "cell_type": "code",
      "source": [
        "df = df.drop(columns=['Label'])"
      ],
      "metadata": {
        "id": "3Wg8n_uhkW2c"
      },
      "execution_count": null,
      "outputs": []
    },
    {
      "cell_type": "code",
      "execution_count": null,
      "metadata": {
        "id": "nhDeX4S0zv7h"
      },
      "outputs": [],
      "source": [
        "x_normal = x_normal.drop(columns=['Label'])"
      ]
    },
    {
      "cell_type": "code",
      "source": [
        "feature_list = x_normal.columns"
      ],
      "metadata": {
        "id": "2nbvb3G4PTlN"
      },
      "execution_count": 49,
      "outputs": []
    },
    {
      "cell_type": "markdown",
      "metadata": {
        "id": "AT9S9DYm0H6q"
      },
      "source": [
        "# SHAP"
      ]
    },
    {
      "cell_type": "code",
      "execution_count": 50,
      "metadata": {
        "id": "Yrd_czRu0JGN"
      },
      "outputs": [],
      "source": [
        "explainer = shap.KernelExplainer(model_mlp, shap.sample(df, 100))"
      ]
    },
    {
      "cell_type": "code",
      "source": [
        "normal_1500 = x_normal.head(1500)"
      ],
      "metadata": {
        "id": "aZFunz6Xk9Cz"
      },
      "execution_count": 51,
      "outputs": []
    },
    {
      "cell_type": "code",
      "execution_count": 52,
      "metadata": {
        "id": "98Y0qFwm0aSS",
        "colab": {
          "base_uri": "https://localhost:8080/",
          "height": 49,
          "referenced_widgets": [
            "b242e9718a7c4c3291f74e1003a42faf",
            "043be753688d4ae0bd85826dea13d520",
            "7a6508d2873043889b8549d08f8d8476",
            "c203832534a84281bb2f4b59149d89df",
            "10259c9a5db947b2b0554c626522db2a",
            "0c36f517de454f1688757b42d3253a2e",
            "39bf4bd200a84e588e42bc5751339c61",
            "128be1bc391a4cc78cffb7f71e05ef80",
            "ed5fdb81e465484385dda5c03e9b7cf5",
            "4aa090aec301477a9bbb14ea5d36d5f8",
            "1d1ffb175842456fbf8235cc1f5429b8"
          ]
        },
        "outputId": "c2deb232-f827-4b00-df4f-9120af63f348"
      },
      "outputs": [
        {
          "data": {
            "application/vnd.jupyter.widget-view+json": {
              "model_id": "b242e9718a7c4c3291f74e1003a42faf",
              "version_major": 2,
              "version_minor": 0
            },
            "text/plain": [
              "  0%|          | 0/1500 [00:00<?, ?it/s]"
            ]
          },
          "metadata": {},
          "output_type": "display_data"
        }
      ],
      "source": [
        "shap_values = explainer.shap_values(normal_1500)"
      ]
    },
    {
      "cell_type": "code",
      "source": [
        "data_df = pd.DataFrame(shap_values[0])"
      ],
      "metadata": {
        "id": "0Xmzh4feCGka"
      },
      "execution_count": 53,
      "outputs": []
    },
    {
      "cell_type": "code",
      "source": [
        "data_df.to_csv('/content/drive/MyDrive/1500_samples_[0].csv', index=False)"
      ],
      "metadata": {
        "id": "WlmxBElzCIu5"
      },
      "execution_count": 54,
      "outputs": []
    },
    {
      "cell_type": "code",
      "source": [
        "data_df.columns = feature_list\n",
        "data_df.head()"
      ],
      "metadata": {
        "colab": {
          "base_uri": "https://localhost:8080/",
          "height": 351
        },
        "id": "gWJJitNwObUj",
        "outputId": "a2162312-f905-4964-a2ab-89fbcf2cfa4a"
      },
      "execution_count": 55,
      "outputs": [
        {
          "output_type": "execute_result",
          "data": {
            "text/plain": [
              "   Flow Duration  Tot Fwd Pkts  Tot Bwd Pkts  TotLen Fwd Pkts  \\\n",
              "0      -0.024007      0.000000      0.010930         0.007230   \n",
              "1       0.000000     -0.000659      0.000000         0.005447   \n",
              "2      -0.008410      0.003195      0.015692         0.000000   \n",
              "3       0.004181     -0.010780     -0.002135         0.000000   \n",
              "4      -0.004836      0.000000      0.000000         0.006560   \n",
              "\n",
              "   TotLen Bwd Pkts  Fwd Pkt Len Max  Fwd Pkt Len Min  Fwd Pkt Len Mean  \\\n",
              "0         0.014859        -0.009763        -0.008111          0.011861   \n",
              "1         0.000000        -0.009084        -0.004624         -0.012858   \n",
              "2        -0.001917         0.002825        -0.015668         -0.015815   \n",
              "3         0.004707        -0.012816         0.005066         -0.017118   \n",
              "4        -0.005721        -0.023632         0.000000         -0.016735   \n",
              "\n",
              "   Fwd Pkt Len Std  Bwd Pkt Len Max  ...  Fwd Act Data Pkts  Fwd Seg Size Min  \\\n",
              "0         0.000000         0.041048  ...          -0.007639               0.0   \n",
              "1        -0.002050        -0.005433  ...          -0.006068               0.0   \n",
              "2         0.000000         0.005682  ...          -0.002513               0.0   \n",
              "3         0.002889         0.000000  ...           0.000000               0.0   \n",
              "4        -0.016155         0.000000  ...          -0.007222               0.0   \n",
              "\n",
              "   Active Mean  Active Std  Active Max  Active Min  Idle Mean  Idle Std  \\\n",
              "0     0.008328   -0.026166    0.019688   -0.009793   0.013286  0.014610   \n",
              "1     0.000000    0.000000   -0.002505    0.009195   0.010743  0.000000   \n",
              "2     0.004660    0.000000   -0.008027    0.005925   0.002991  0.002691   \n",
              "3     0.000000    0.000000    0.008357   -0.002734   0.004717  0.000000   \n",
              "4     0.007713   -0.005103    0.000000   -0.009165   0.000000 -0.007764   \n",
              "\n",
              "   Idle Max  Idle Min  \n",
              "0   0.02187 -0.007478  \n",
              "1   0.00000  0.000000  \n",
              "2   0.00338 -0.003728  \n",
              "3   0.00000  0.005926  \n",
              "4   0.00000  0.000000  \n",
              "\n",
              "[5 rows x 76 columns]"
            ],
            "text/html": [
              "\n",
              "  <div id=\"df-bdf54c15-c1c5-4196-bd47-b9c5ef5fbb4d\">\n",
              "    <div class=\"colab-df-container\">\n",
              "      <div>\n",
              "<style scoped>\n",
              "    .dataframe tbody tr th:only-of-type {\n",
              "        vertical-align: middle;\n",
              "    }\n",
              "\n",
              "    .dataframe tbody tr th {\n",
              "        vertical-align: top;\n",
              "    }\n",
              "\n",
              "    .dataframe thead th {\n",
              "        text-align: right;\n",
              "    }\n",
              "</style>\n",
              "<table border=\"1\" class=\"dataframe\">\n",
              "  <thead>\n",
              "    <tr style=\"text-align: right;\">\n",
              "      <th></th>\n",
              "      <th>Flow Duration</th>\n",
              "      <th>Tot Fwd Pkts</th>\n",
              "      <th>Tot Bwd Pkts</th>\n",
              "      <th>TotLen Fwd Pkts</th>\n",
              "      <th>TotLen Bwd Pkts</th>\n",
              "      <th>Fwd Pkt Len Max</th>\n",
              "      <th>Fwd Pkt Len Min</th>\n",
              "      <th>Fwd Pkt Len Mean</th>\n",
              "      <th>Fwd Pkt Len Std</th>\n",
              "      <th>Bwd Pkt Len Max</th>\n",
              "      <th>...</th>\n",
              "      <th>Fwd Act Data Pkts</th>\n",
              "      <th>Fwd Seg Size Min</th>\n",
              "      <th>Active Mean</th>\n",
              "      <th>Active Std</th>\n",
              "      <th>Active Max</th>\n",
              "      <th>Active Min</th>\n",
              "      <th>Idle Mean</th>\n",
              "      <th>Idle Std</th>\n",
              "      <th>Idle Max</th>\n",
              "      <th>Idle Min</th>\n",
              "    </tr>\n",
              "  </thead>\n",
              "  <tbody>\n",
              "    <tr>\n",
              "      <th>0</th>\n",
              "      <td>-0.024007</td>\n",
              "      <td>0.000000</td>\n",
              "      <td>0.010930</td>\n",
              "      <td>0.007230</td>\n",
              "      <td>0.014859</td>\n",
              "      <td>-0.009763</td>\n",
              "      <td>-0.008111</td>\n",
              "      <td>0.011861</td>\n",
              "      <td>0.000000</td>\n",
              "      <td>0.041048</td>\n",
              "      <td>...</td>\n",
              "      <td>-0.007639</td>\n",
              "      <td>0.0</td>\n",
              "      <td>0.008328</td>\n",
              "      <td>-0.026166</td>\n",
              "      <td>0.019688</td>\n",
              "      <td>-0.009793</td>\n",
              "      <td>0.013286</td>\n",
              "      <td>0.014610</td>\n",
              "      <td>0.02187</td>\n",
              "      <td>-0.007478</td>\n",
              "    </tr>\n",
              "    <tr>\n",
              "      <th>1</th>\n",
              "      <td>0.000000</td>\n",
              "      <td>-0.000659</td>\n",
              "      <td>0.000000</td>\n",
              "      <td>0.005447</td>\n",
              "      <td>0.000000</td>\n",
              "      <td>-0.009084</td>\n",
              "      <td>-0.004624</td>\n",
              "      <td>-0.012858</td>\n",
              "      <td>-0.002050</td>\n",
              "      <td>-0.005433</td>\n",
              "      <td>...</td>\n",
              "      <td>-0.006068</td>\n",
              "      <td>0.0</td>\n",
              "      <td>0.000000</td>\n",
              "      <td>0.000000</td>\n",
              "      <td>-0.002505</td>\n",
              "      <td>0.009195</td>\n",
              "      <td>0.010743</td>\n",
              "      <td>0.000000</td>\n",
              "      <td>0.00000</td>\n",
              "      <td>0.000000</td>\n",
              "    </tr>\n",
              "    <tr>\n",
              "      <th>2</th>\n",
              "      <td>-0.008410</td>\n",
              "      <td>0.003195</td>\n",
              "      <td>0.015692</td>\n",
              "      <td>0.000000</td>\n",
              "      <td>-0.001917</td>\n",
              "      <td>0.002825</td>\n",
              "      <td>-0.015668</td>\n",
              "      <td>-0.015815</td>\n",
              "      <td>0.000000</td>\n",
              "      <td>0.005682</td>\n",
              "      <td>...</td>\n",
              "      <td>-0.002513</td>\n",
              "      <td>0.0</td>\n",
              "      <td>0.004660</td>\n",
              "      <td>0.000000</td>\n",
              "      <td>-0.008027</td>\n",
              "      <td>0.005925</td>\n",
              "      <td>0.002991</td>\n",
              "      <td>0.002691</td>\n",
              "      <td>0.00338</td>\n",
              "      <td>-0.003728</td>\n",
              "    </tr>\n",
              "    <tr>\n",
              "      <th>3</th>\n",
              "      <td>0.004181</td>\n",
              "      <td>-0.010780</td>\n",
              "      <td>-0.002135</td>\n",
              "      <td>0.000000</td>\n",
              "      <td>0.004707</td>\n",
              "      <td>-0.012816</td>\n",
              "      <td>0.005066</td>\n",
              "      <td>-0.017118</td>\n",
              "      <td>0.002889</td>\n",
              "      <td>0.000000</td>\n",
              "      <td>...</td>\n",
              "      <td>0.000000</td>\n",
              "      <td>0.0</td>\n",
              "      <td>0.000000</td>\n",
              "      <td>0.000000</td>\n",
              "      <td>0.008357</td>\n",
              "      <td>-0.002734</td>\n",
              "      <td>0.004717</td>\n",
              "      <td>0.000000</td>\n",
              "      <td>0.00000</td>\n",
              "      <td>0.005926</td>\n",
              "    </tr>\n",
              "    <tr>\n",
              "      <th>4</th>\n",
              "      <td>-0.004836</td>\n",
              "      <td>0.000000</td>\n",
              "      <td>0.000000</td>\n",
              "      <td>0.006560</td>\n",
              "      <td>-0.005721</td>\n",
              "      <td>-0.023632</td>\n",
              "      <td>0.000000</td>\n",
              "      <td>-0.016735</td>\n",
              "      <td>-0.016155</td>\n",
              "      <td>0.000000</td>\n",
              "      <td>...</td>\n",
              "      <td>-0.007222</td>\n",
              "      <td>0.0</td>\n",
              "      <td>0.007713</td>\n",
              "      <td>-0.005103</td>\n",
              "      <td>0.000000</td>\n",
              "      <td>-0.009165</td>\n",
              "      <td>0.000000</td>\n",
              "      <td>-0.007764</td>\n",
              "      <td>0.00000</td>\n",
              "      <td>0.000000</td>\n",
              "    </tr>\n",
              "  </tbody>\n",
              "</table>\n",
              "<p>5 rows × 76 columns</p>\n",
              "</div>\n",
              "      <button class=\"colab-df-convert\" onclick=\"convertToInteractive('df-bdf54c15-c1c5-4196-bd47-b9c5ef5fbb4d')\"\n",
              "              title=\"Convert this dataframe to an interactive table.\"\n",
              "              style=\"display:none;\">\n",
              "        \n",
              "  <svg xmlns=\"http://www.w3.org/2000/svg\" height=\"24px\"viewBox=\"0 0 24 24\"\n",
              "       width=\"24px\">\n",
              "    <path d=\"M0 0h24v24H0V0z\" fill=\"none\"/>\n",
              "    <path d=\"M18.56 5.44l.94 2.06.94-2.06 2.06-.94-2.06-.94-.94-2.06-.94 2.06-2.06.94zm-11 1L8.5 8.5l.94-2.06 2.06-.94-2.06-.94L8.5 2.5l-.94 2.06-2.06.94zm10 10l.94 2.06.94-2.06 2.06-.94-2.06-.94-.94-2.06-.94 2.06-2.06.94z\"/><path d=\"M17.41 7.96l-1.37-1.37c-.4-.4-.92-.59-1.43-.59-.52 0-1.04.2-1.43.59L10.3 9.45l-7.72 7.72c-.78.78-.78 2.05 0 2.83L4 21.41c.39.39.9.59 1.41.59.51 0 1.02-.2 1.41-.59l7.78-7.78 2.81-2.81c.8-.78.8-2.07 0-2.86zM5.41 20L4 18.59l7.72-7.72 1.47 1.35L5.41 20z\"/>\n",
              "  </svg>\n",
              "      </button>\n",
              "      \n",
              "  <style>\n",
              "    .colab-df-container {\n",
              "      display:flex;\n",
              "      flex-wrap:wrap;\n",
              "      gap: 12px;\n",
              "    }\n",
              "\n",
              "    .colab-df-convert {\n",
              "      background-color: #E8F0FE;\n",
              "      border: none;\n",
              "      border-radius: 50%;\n",
              "      cursor: pointer;\n",
              "      display: none;\n",
              "      fill: #1967D2;\n",
              "      height: 32px;\n",
              "      padding: 0 0 0 0;\n",
              "      width: 32px;\n",
              "    }\n",
              "\n",
              "    .colab-df-convert:hover {\n",
              "      background-color: #E2EBFA;\n",
              "      box-shadow: 0px 1px 2px rgba(60, 64, 67, 0.3), 0px 1px 3px 1px rgba(60, 64, 67, 0.15);\n",
              "      fill: #174EA6;\n",
              "    }\n",
              "\n",
              "    [theme=dark] .colab-df-convert {\n",
              "      background-color: #3B4455;\n",
              "      fill: #D2E3FC;\n",
              "    }\n",
              "\n",
              "    [theme=dark] .colab-df-convert:hover {\n",
              "      background-color: #434B5C;\n",
              "      box-shadow: 0px 1px 3px 1px rgba(0, 0, 0, 0.15);\n",
              "      filter: drop-shadow(0px 1px 2px rgba(0, 0, 0, 0.3));\n",
              "      fill: #FFFFFF;\n",
              "    }\n",
              "  </style>\n",
              "\n",
              "      <script>\n",
              "        const buttonEl =\n",
              "          document.querySelector('#df-bdf54c15-c1c5-4196-bd47-b9c5ef5fbb4d button.colab-df-convert');\n",
              "        buttonEl.style.display =\n",
              "          google.colab.kernel.accessAllowed ? 'block' : 'none';\n",
              "\n",
              "        async function convertToInteractive(key) {\n",
              "          const element = document.querySelector('#df-bdf54c15-c1c5-4196-bd47-b9c5ef5fbb4d');\n",
              "          const dataTable =\n",
              "            await google.colab.kernel.invokeFunction('convertToInteractive',\n",
              "                                                     [key], {});\n",
              "          if (!dataTable) return;\n",
              "\n",
              "          const docLinkHtml = 'Like what you see? Visit the ' +\n",
              "            '<a target=\"_blank\" href=https://colab.research.google.com/notebooks/data_table.ipynb>data table notebook</a>'\n",
              "            + ' to learn more about interactive tables.';\n",
              "          element.innerHTML = '';\n",
              "          dataTable['output_type'] = 'display_data';\n",
              "          await google.colab.output.renderOutput(dataTable, element);\n",
              "          const docLink = document.createElement('div');\n",
              "          docLink.innerHTML = docLinkHtml;\n",
              "          element.appendChild(docLink);\n",
              "        }\n",
              "      </script>\n",
              "    </div>\n",
              "  </div>\n",
              "  "
            ]
          },
          "metadata": {},
          "execution_count": 55
        }
      ]
    },
    {
      "cell_type": "code",
      "source": [
        "data_dict = {}\n",
        "for idx in range(0, 1500):\n",
        "  # Select the desired row and get the top 10 values's column names\n",
        "  row_values = data_df.iloc[idx].nlargest(10).index.tolist()\n",
        "\n",
        "  # Create a dictionary and add the list with filename as the key\n",
        "  data_dict['Normal sample ' + str(idx)] = row_values"
      ],
      "metadata": {
        "id": "QIGzCfEdP75J"
      },
      "execution_count": 56,
      "outputs": []
    },
    {
      "cell_type": "code",
      "source": [
        "print(data_dict)"
      ],
      "metadata": {
        "colab": {
          "base_uri": "https://localhost:8080/"
        },
        "id": "PaG1SmFiS7U4",
        "outputId": "105854b3-622f-474a-9381-23acac8cacf3"
      },
      "execution_count": 57,
      "outputs": [
        {
          "output_type": "stream",
          "name": "stdout",
          "text": [
            "{'Normal sample 0': ['Bwd IAT Max', 'Bwd Pkt Len Max', 'ACK Flag Cnt', 'Bwd IAT Tot', 'Bwd Header Len', 'Idle Max', 'Active Max', 'Flow IAT Max', 'TotLen Bwd Pkts', 'Idle Std'], 'Normal sample 1': ['Init Bwd Win Byts', 'Idle Mean', 'Active Min', 'Fwd Header Len', 'Pkt Len Var', 'TotLen Fwd Pkts', 'Flow Duration', 'Tot Bwd Pkts', 'TotLen Bwd Pkts', 'Bwd Pkt Len Mean'], 'Normal sample 2': ['Tot Bwd Pkts', 'Init Bwd Win Byts', 'Fwd Header Len', 'Subflow Bwd Pkts', 'Bwd Pkt Len Std', 'Subflow Fwd Pkts', 'Active Min', 'Bwd Pkt Len Max', 'Pkt Len Var', 'Active Mean'], 'Normal sample 3': ['Init Bwd Win Byts', 'Active Max', 'Bwd Seg Size Avg', 'Subflow Bwd Byts', 'Idle Min', 'Bwd IAT Tot', 'Bwd Pkt Len Mean', 'Fwd Pkt Len Min', 'Fwd Header Len', 'Idle Mean'], 'Normal sample 4': ['SYN Flag Cnt', 'ACK Flag Cnt', 'Bwd Pkt Len Std', 'Active Mean', 'Bwd Pkt Len Mean', 'Fwd Pkts/s', 'TotLen Fwd Pkts', 'Flow IAT Min', 'Fwd IAT Tot', 'Bwd URG Flags'], 'Normal sample 5': ['Init Bwd Win Byts', 'Fwd IAT Std', 'Idle Mean', 'Subflow Bwd Pkts', 'Active Max', 'Idle Max', 'Fwd IAT Max', 'Subflow Fwd Byts', 'Bwd Pkt Len Max', 'Fwd Pkts/s'], 'Normal sample 6': ['Init Bwd Win Byts', 'Idle Mean', 'Flow Pkts/s', 'Flow IAT Min', 'Idle Min', 'Idle Max', 'Fwd Pkt Len Min', 'Fwd Header Len', 'Bwd Pkt Len Std', 'Bwd IAT Min'], 'Normal sample 7': ['Pkt Len Min', 'Pkt Len Max', 'Flow Pkts/s', 'Down/Up Ratio', 'Fwd Pkt Len Mean', 'Pkt Len Std', 'Pkt Len Mean', 'PSH Flag Cnt', 'Fwd Seg Size Avg', 'Fwd Pkt Len Max'], 'Normal sample 8': ['Bwd Pkt Len Mean', 'TotLen Fwd Pkts', 'Init Bwd Win Byts', 'Tot Fwd Pkts', 'Flow Duration', 'Bwd Pkt Len Max', 'Idle Min', 'Active Min', 'Bwd Pkt Len Std', 'Idle Std'], 'Normal sample 9': ['Down/Up Ratio', 'Flow Pkts/s', 'Pkt Len Min', 'Pkt Len Std', 'Pkt Len Max', 'Pkt Size Avg', 'PSH Flag Cnt', 'Pkt Len Mean', 'Fwd Pkt Len Max', 'Fwd Seg Size Avg'], 'Normal sample 10': ['Init Bwd Win Byts', 'Bwd IAT Min', 'Flow Duration', 'Bwd Pkt Len Max', 'Idle Mean', 'TotLen Fwd Pkts', 'Bwd Pkt Len Mean', 'Idle Max', 'Idle Std', 'Subflow Bwd Pkts'], 'Normal sample 11': ['Init Bwd Win Byts', 'Pkt Len Var', 'Idle Min', 'Subflow Fwd Pkts', 'TotLen Fwd Pkts', 'Subflow Bwd Pkts', 'Flow IAT Mean', 'Idle Mean', 'Bwd Pkt Len Std', 'Subflow Bwd Byts'], 'Normal sample 12': ['SYN Flag Cnt', 'Bwd IAT Max', 'Idle Std', 'Idle Max', 'Flow IAT Max', 'Bwd Pkt Len Std', 'Bwd IAT Tot', 'Bwd IAT Std', 'Bwd IAT Min', 'Fwd IAT Mean'], 'Normal sample 13': ['ACK Flag Cnt', 'Flow IAT Mean', 'Flow IAT Max', 'Bwd URG Flags', 'Pkt Len Min', 'Bwd PSH Flags', 'Flow IAT Std', 'Pkt Len Max', 'Idle Std', 'Active Min'], 'Normal sample 14': ['Bwd IAT Tot', 'Bwd PSH Flags', 'Active Max', 'ACK Flag Cnt', 'Bwd IAT Std', 'Bwd IAT Max', 'Subflow Bwd Byts', 'Bwd Pkt Len Mean', 'Subflow Fwd Pkts', 'Active Mean'], 'Normal sample 15': ['Pkt Len Min', 'Down/Up Ratio', 'Pkt Len Mean', 'Pkt Len Max', 'Pkt Len Std', 'Flow Pkts/s', 'Pkt Size Avg', 'Fwd Pkt Len Max', 'Flow IAT Mean', 'Idle Mean'], 'Normal sample 16': ['Idle Min', 'Idle Mean', 'Init Bwd Win Byts', 'Active Max', 'Fwd Header Len', 'Bwd Pkt Len Std', 'Flow Duration', 'Tot Fwd Pkts', 'Fwd Pkt Len Min', 'Bwd Pkt Len Mean'], 'Normal sample 17': ['Idle Max', 'Idle Min', 'Idle Mean', 'Init Bwd Win Byts', 'Bwd Seg Size Avg', 'Flow IAT Max', 'Fwd IAT Max', 'Bwd Pkt Len Mean', 'Subflow Bwd Pkts', 'Flow IAT Std'], 'Normal sample 18': ['Init Bwd Win Byts', 'Bwd Pkt Len Max', 'Bwd Pkt Len Mean', 'Fwd Act Data Pkts', 'Pkt Len Var', 'Tot Bwd Pkts', 'TotLen Fwd Pkts', 'TotLen Bwd Pkts', 'Fwd Pkt Len Std', 'Bwd Pkt Len Std'], 'Normal sample 19': ['Bwd IAT Max', 'Bwd IAT Tot', 'Idle Max', 'ACK Flag Cnt', 'Flow IAT Max', 'Active Max', 'Idle Mean', 'Bwd IAT Std', 'Idle Std', 'Active Mean'], 'Normal sample 20': ['Init Bwd Win Byts', 'Bwd Pkt Len Mean', 'Fwd IAT Std', 'Fwd IAT Max', 'Fwd Pkts/s', 'Idle Mean', 'Idle Max', 'Active Std', 'Bwd IAT Mean', 'Bwd Seg Size Avg'], 'Normal sample 21': ['Init Bwd Win Byts', 'Idle Max', 'Fwd IAT Max', 'Active Std', 'Bwd Header Len', 'Bwd Pkt Len Max', 'Flow Duration', 'Tot Fwd Pkts', 'TotLen Fwd Pkts', 'Fwd Pkt Len Std'], 'Normal sample 22': ['FIN Flag Cnt', 'Bwd PSH Flags', 'Down/Up Ratio', 'Pkt Len Min', 'TotLen Fwd Pkts', 'Bwd Seg Size Avg', 'Flow Pkts/s', 'Fwd IAT Min', 'Bwd Pkt Len Min', 'Fwd Pkts/s'], 'Normal sample 23': ['Init Bwd Win Byts', 'Idle Min', 'Fwd Pkts/s', 'Fwd IAT Max', 'Bwd Pkt Len Max', 'Subflow Bwd Byts', 'Fwd IAT Std', 'Bwd Pkt Len Std', 'TotLen Fwd Pkts', 'Active Min'], 'Normal sample 24': ['FIN Flag Cnt', 'Down/Up Ratio', 'Flow Pkts/s', 'Pkt Len Min', 'Pkt Len Mean', 'Fwd Seg Size Avg', 'Idle Mean', 'Pkt Len Std', 'Pkt Size Avg', 'Fwd Pkt Len Mean'], 'Normal sample 25': ['Init Bwd Win Byts', 'Idle Max', 'Subflow Bwd Pkts', 'Idle Min', 'Subflow Fwd Pkts', 'Active Mean', 'Bwd IAT Min', 'Flow Byts/s', 'Active Std', 'Active Max'], 'Normal sample 26': ['Fwd IAT Mean', 'Flow Duration', 'Tot Fwd Pkts', 'TotLen Bwd Pkts', 'Fwd Pkt Len Min', 'Bwd Pkt Len Min', 'Bwd Pkt Len Mean', 'Bwd Pkt Len Std', 'Flow Pkts/s', 'Flow IAT Mean'], 'Normal sample 27': ['Flow Duration', 'Tot Fwd Pkts', 'Tot Bwd Pkts', 'TotLen Bwd Pkts', 'Fwd Pkt Len Min', 'Bwd Pkt Len Max', 'Bwd Pkt Len Min', 'Bwd Pkt Len Std', 'Flow Pkts/s', 'Flow IAT Mean'], 'Normal sample 28': ['Bwd Pkt Len Max', 'Bwd Seg Size Avg', 'Subflow Fwd Pkts', 'Bwd Header Len', 'Flow Duration', 'Tot Fwd Pkts', 'Fwd Pkt Len Min', 'Bwd Pkt Len Mean', 'Bwd Pkt Len Std', 'Flow Pkts/s'], 'Normal sample 29': ['Bwd PSH Flags', 'Fwd IAT Std', 'Bwd Pkt Len Max', 'Flow Duration', 'Fwd Pkts/s', 'Subflow Bwd Byts', 'Tot Bwd Pkts', 'Idle Max', 'Active Std', 'Bwd IAT Std'], 'Normal sample 30': ['Idle Max', 'Idle Mean', 'Init Bwd Win Byts', 'Flow Byts/s', 'Fwd IAT Mean', 'Subflow Fwd Pkts', 'Bwd Pkt Len Max', 'Idle Min', 'Flow IAT Min', 'Bwd URG Flags'], 'Normal sample 31': ['Bwd PSH Flags', 'Bwd IAT Std', 'Bwd Header Len', 'Pkt Len Min', 'Subflow Bwd Pkts', 'Bwd Pkt Len Max', 'Idle Max', 'Down/Up Ratio', 'Idle Mean', 'Fwd Pkts/s'], 'Normal sample 32': ['Init Bwd Win Byts', 'Idle Min', 'Bwd Pkt Len Mean', 'Bwd Pkt Len Max', 'Fwd Act Data Pkts', 'Tot Fwd Pkts', 'Pkt Len Var', 'Subflow Fwd Byts', 'Fwd Pkt Len Min', 'Flow IAT Max'], 'Normal sample 33': ['SYN Flag Cnt', 'Bwd Pkt Len Max', 'Tot Fwd Pkts', 'Tot Bwd Pkts', 'TotLen Fwd Pkts', 'TotLen Bwd Pkts', 'Bwd Pkt Len Min', 'Bwd Pkt Len Std', 'Flow Byts/s', 'Flow IAT Mean'], 'Normal sample 34': ['FIN Flag Cnt', 'Flow Pkts/s', 'Down/Up Ratio', 'Pkt Len Min', 'Bwd Pkt Len Min', 'Bwd Pkt Len Mean', 'Pkt Len Mean', 'Fwd Pkt Len Mean', 'Fwd IAT Mean', 'Bwd IAT Mean'], 'Normal sample 35': ['SYN Flag Cnt', 'Bwd IAT Std', 'Bwd IAT Max', 'Bwd Pkt Len Std', 'Active Max', 'Bwd Pkt Len Max', 'Fwd Header Len', 'Pkt Len Min', 'Bwd PSH Flags', 'TotLen Fwd Pkts'], 'Normal sample 36': ['SYN Flag Cnt', 'Bwd Pkt Len Max', 'Subflow Bwd Byts', 'Bwd Header Len', 'Active Std', 'Bwd Pkt Len Std', 'Tot Fwd Pkts', 'Tot Bwd Pkts', 'TotLen Fwd Pkts', 'TotLen Bwd Pkts'], 'Normal sample 37': ['Subflow Fwd Byts', 'Active Mean', 'Idle Min', 'Fwd IAT Min', 'Flow IAT Min', 'Fwd IAT Tot', 'Bwd Pkt Len Max', 'TotLen Bwd Pkts', 'Fwd IAT Mean', 'Idle Std'], 'Normal sample 38': ['Init Bwd Win Byts', 'Bwd Pkt Len Max', 'Idle Max', 'Idle Min', 'Fwd Pkts/s', 'Flow Duration', 'Tot Bwd Pkts', 'TotLen Fwd Pkts', 'Fwd Pkt Len Max', 'Fwd Pkt Len Std'], 'Normal sample 39': ['PSH Flag Cnt', 'Bwd PSH Flags', 'Init Bwd Win Byts', 'Pkt Len Min', 'Bwd Pkt Len Min', 'Tot Bwd Pkts', 'Idle Std', 'Bwd Header Len', 'Fwd Pkt Len Max', 'Idle Min'], 'Normal sample 40': ['Init Bwd Win Byts', 'Idle Mean', 'Bwd Pkt Len Std', 'Idle Max', 'TotLen Bwd Pkts', 'Flow Duration', 'Tot Fwd Pkts', 'Tot Bwd Pkts', 'Fwd Pkt Len Max', 'Fwd Pkt Len Min'], 'Normal sample 41': ['Bwd Pkt Len Max', 'ACK Flag Cnt', 'Flow Duration', 'Tot Fwd Pkts', 'TotLen Fwd Pkts', 'TotLen Bwd Pkts', 'Fwd Pkt Len Min', 'Bwd Pkt Len Min', 'Bwd Pkt Len Mean', 'Bwd Pkt Len Std'], 'Normal sample 42': ['Pkt Len Min', 'Down/Up Ratio', 'Flow Pkts/s', 'Pkt Len Max', 'Pkt Len Std', 'Pkt Size Avg', 'Pkt Len Mean', 'Fwd IAT Std', 'Fwd Seg Size Avg', 'Flow IAT Min'], 'Normal sample 43': ['SYN Flag Cnt', 'Bwd IAT Max', 'Bwd IAT Std', 'Active Max', 'Flow IAT Mean', 'Active Min', 'Idle Std', 'PSH Flag Cnt', 'Bwd Pkt Len Std', 'Bwd IAT Min'], 'Normal sample 44': ['Init Bwd Win Byts', 'Idle Max', 'Fwd IAT Max', 'Subflow Bwd Pkts', 'Fwd IAT Min', 'Active Max', 'Bwd Seg Size Avg', 'Idle Min', 'Idle Mean', 'Bwd Pkt Len Max'], 'Normal sample 45': ['Init Bwd Win Byts', 'Flow IAT Std', 'Bwd Seg Size Avg', 'Idle Mean', 'Bwd Pkt Len Mean', 'Fwd IAT Std', 'Flow IAT Mean', 'TotLen Fwd Pkts', 'URG Flag Cnt', 'Subflow Bwd Byts'], 'Normal sample 46': ['Down/Up Ratio', 'Pkt Len Max', 'Pkt Len Min', 'Pkt Len Std', 'Active Std', 'Flow Pkts/s', 'Fwd Seg Size Avg', 'Fwd Pkt Len Max', 'Pkt Size Avg', 'Fwd Pkt Len Std'], 'Normal sample 47': ['Pkt Len Min', 'Down/Up Ratio', 'Flow Pkts/s', 'Fwd Pkt Len Mean', 'Pkt Len Max', 'Flow Byts/s', 'Pkt Len Std', 'Fwd Pkt Len Max', 'Pkt Size Avg', 'Pkt Len Mean'], 'Normal sample 48': ['Init Bwd Win Byts', 'Idle Max', 'Bwd Seg Size Avg', 'Idle Mean', 'Flow Duration', 'Bwd Header Len', 'Bwd Pkt Len Mean', 'Bwd IAT Tot', 'Fwd IAT Tot', 'Active Min'], 'Normal sample 49': ['Bwd Pkt Len Max', 'Bwd IAT Min', 'Idle Min', 'Tot Fwd Pkts', 'Init Bwd Win Byts', 'Flow IAT Std', 'Active Min', 'Bwd Pkt Len Std', 'Idle Max', 'Subflow Fwd Byts'], 'Normal sample 50': ['Idle Mean', 'Fwd IAT Std', 'Bwd Header Len', 'Idle Max', 'Idle Min', 'Subflow Bwd Pkts', 'Bwd IAT Mean', 'Flow Duration', 'Fwd IAT Max', 'Init Bwd Win Byts'], 'Normal sample 51': ['Subflow Bwd Pkts', 'Bwd Pkt Len Mean', 'Bwd Pkt Len Max', 'Init Bwd Win Byts', 'Tot Fwd Pkts', 'Tot Bwd Pkts', 'TotLen Fwd Pkts', 'Fwd Pkt Len Min', 'Fwd Pkt Len Std', 'Flow IAT Std'], 'Normal sample 52': ['Init Bwd Win Byts', 'Idle Max', 'Bwd IAT Mean', 'Flow IAT Min', 'Idle Mean', 'Idle Min', 'URG Flag Cnt', 'Bwd Pkt Len Max', 'Bwd Pkt Len Mean', 'Fwd IAT Tot'], 'Normal sample 53': ['SYN Flag Cnt', 'Bwd Pkt Len Max', 'Bwd Pkt Len Min', 'Active Std', 'Subflow Bwd Byts', 'PSH Flag Cnt', 'Flow Duration', 'Tot Bwd Pkts', 'TotLen Fwd Pkts', 'TotLen Bwd Pkts'], 'Normal sample 54': ['Idle Min', 'Init Bwd Win Byts', 'Idle Max', 'Idle Mean', 'Pkt Len Var', 'Active Min', 'Active Std', 'Fwd IAT Mean', 'Flow Duration', 'Tot Bwd Pkts'], 'Normal sample 55': ['SYN Flag Cnt', 'Bwd Seg Size Avg', 'Bwd Pkt Len Max', 'Bwd Header Len', 'Active Max', 'Pkt Len Min', 'Fwd Pkts/s', 'Pkt Len Var', 'Flow IAT Min', 'Fwd Act Data Pkts'], 'Normal sample 56': ['Flow Duration', 'Tot Fwd Pkts', 'Tot Bwd Pkts', 'TotLen Fwd Pkts', 'TotLen Bwd Pkts', 'Bwd Pkt Len Mean', 'Bwd Pkt Len Std', 'Flow IAT Std', 'Fwd IAT Tot', 'Fwd IAT Std'], 'Normal sample 57': ['Pkt Len Max', 'Pkt Len Std', 'Fwd Seg Size Avg', 'Pkt Len Min', 'Pkt Len Mean', 'Flow Pkts/s', 'TotLen Bwd Pkts', 'Fwd IAT Mean', 'Pkt Size Avg', 'Subflow Bwd Byts'], 'Normal sample 58': ['Subflow Fwd Byts', 'Init Bwd Win Byts', 'TotLen Fwd Pkts', 'Fwd Pkt Len Min', 'Bwd Pkt Len Max', 'Bwd Pkt Len Mean', 'Bwd Pkt Len Std', 'Flow Pkts/s', 'Flow IAT Mean', 'Flow IAT Max'], 'Normal sample 59': ['FIN Flag Cnt', 'Flow Pkts/s', 'Down/Up Ratio', 'Pkt Len Min', 'Bwd Pkts/s', 'Flow IAT Std', 'Bwd Pkt Len Min', 'Fwd Pkt Len Std', 'Pkt Len Std', 'Flow IAT Min'], 'Normal sample 60': ['Idle Max', 'Init Bwd Win Byts', 'Bwd Pkt Len Mean', 'Idle Mean', 'TotLen Fwd Pkts', 'Bwd Pkt Len Max', 'Active Std', 'Tot Fwd Pkts', 'Tot Bwd Pkts', 'TotLen Bwd Pkts'], 'Normal sample 61': ['Init Bwd Win Byts', 'Fwd Pkts/s', 'Idle Min', 'Idle Std', 'Fwd IAT Std', 'Idle Max', 'Fwd IAT Max', 'Fwd Pkt Len Min', 'Bwd Pkt Len Std', 'Idle Mean'], 'Normal sample 62': ['SYN Flag Cnt', 'Flow IAT Min', 'Subflow Fwd Byts', 'Flow IAT Mean', 'Idle Mean', 'Tot Bwd Pkts', 'Bwd Pkt Len Max', 'Bwd Pkt Len Min', 'Bwd Pkt Len Std', 'Flow Byts/s'], 'Normal sample 63': ['SYN Flag Cnt', 'Bwd Seg Size Avg', 'Bwd Pkt Len Std', 'Bwd IAT Std', 'Bwd Pkt Len Min', 'Bwd Pkt Len Mean', 'PSH Flag Cnt', 'Bwd Pkt Len Max', 'Idle Min', 'Active Std'], 'Normal sample 64': ['Init Bwd Win Byts', 'Flow IAT Mean', 'Bwd Pkt Len Max', 'Idle Min', 'Bwd Pkt Len Mean', 'Idle Max', 'Fwd IAT Max', 'Tot Bwd Pkts', 'Fwd IAT Tot', 'Idle Mean'], 'Normal sample 65': ['Init Bwd Win Byts', 'Bwd Pkt Len Mean', 'Fwd IAT Min', 'Idle Min', 'Idle Max', 'Bwd IAT Mean', 'Subflow Bwd Byts', 'Bwd Pkt Len Std', 'Subflow Fwd Byts', 'Active Min'], 'Normal sample 66': ['Bwd PSH Flags', 'Pkt Len Min', 'Bwd Pkt Len Min', 'Fwd Pkt Len Mean', 'Bwd Header Len', 'Active Max', 'Fwd Header Len', 'Subflow Bwd Byts', 'Idle Min', 'Bwd Seg Size Avg'], 'Normal sample 67': ['Bwd PSH Flags', 'Down/Up Ratio', 'Fwd Pkt Len Mean', 'Pkt Len Min', 'Fwd Pkt Len Max', 'Flow Pkts/s', 'Bwd IAT Mean', 'Fwd IAT Std', 'Fwd Pkt Len Min', 'Bwd Pkt Len Min'], 'Normal sample 68': ['Idle Mean', 'Init Bwd Win Byts', 'Idle Min', 'Bwd Pkt Len Mean', 'Bwd Seg Size Avg', 'TotLen Bwd Pkts', 'Flow IAT Min', 'Fwd Pkt Len Std', 'Bwd Pkt Len Std', 'Tot Bwd Pkts'], 'Normal sample 69': ['Init Bwd Win Byts', 'Bwd IAT Mean', 'Fwd Header Len', 'Subflow Bwd Pkts', 'Bwd Pkt Len Mean', 'Bwd IAT Tot', 'Tot Fwd Pkts', 'Tot Bwd Pkts', 'TotLen Fwd Pkts', 'Fwd Pkt Len Std'], 'Normal sample 70': ['Tot Bwd Pkts', 'Init Bwd Win Byts', 'Flow Duration', 'Tot Fwd Pkts', 'Subflow Bwd Pkts', 'Bwd Header Len', 'Bwd Pkt Len Max', 'Flow IAT Min', 'Fwd Pkt Len Mean', 'Idle Std'], 'Normal sample 71': ['Init Bwd Win Byts', 'Bwd Pkt Len Mean', 'Fwd IAT Mean', 'Idle Mean', 'Fwd IAT Std', 'Tot Bwd Pkts', 'Idle Max', 'Fwd IAT Tot', 'Bwd Pkt Len Std', 'Tot Fwd Pkts'], 'Normal sample 72': ['Bwd IAT Min', 'Idle Max', 'Bwd Pkt Len Std', 'URG Flag Cnt', 'Bwd Pkt Len Mean', 'Active Min', 'TotLen Fwd Pkts', 'Bwd Seg Size Avg', 'Init Bwd Win Byts', 'Subflow Fwd Pkts'], 'Normal sample 73': ['ACK Flag Cnt', 'Bwd IAT Std', 'Bwd IAT Tot', 'Bwd IAT Max', 'Bwd IAT Mean', 'Flow IAT Mean', 'Flow IAT Max', 'Bwd Pkt Len Std', 'Bwd IAT Min', 'Idle Min'], 'Normal sample 74': ['Init Bwd Win Byts', 'Bwd Pkt Len Std', 'Bwd Seg Size Avg', 'Idle Min', 'Bwd Header Len', 'Fwd Pkt Len Max', 'TotLen Bwd Pkts', 'Flow IAT Mean', 'Idle Mean', 'Tot Fwd Pkts'], 'Normal sample 75': ['Idle Min', 'Idle Max', 'Init Bwd Win Byts', 'Idle Mean', 'TotLen Fwd Pkts', 'Pkt Len Var', 'Subflow Fwd Pkts', 'Subflow Bwd Pkts', 'Bwd Pkt Len Mean', 'Bwd IAT Min'], 'Normal sample 76': ['Fwd IAT Max', 'Tot Bwd Pkts', 'Idle Max', 'Flow Duration', 'Tot Fwd Pkts', 'TotLen Fwd Pkts', 'TotLen Bwd Pkts', 'Fwd Pkt Len Mean', 'Fwd Pkt Len Std', 'Bwd Pkt Len Mean'], 'Normal sample 77': ['Bwd Pkts/s', 'FIN Flag Cnt', 'Pkt Len Min', 'Active Max', 'Bwd Pkt Len Mean', 'Pkt Size Avg', 'Fwd IAT Mean', 'Fwd Seg Size Avg', 'Pkt Len Max', 'Fwd Pkt Len Max'], 'Normal sample 78': ['ACK Flag Cnt', 'Bwd PSH Flags', 'Bwd IAT Max', 'Bwd IAT Std', 'Pkt Len Min', 'Active Mean', 'Idle Min', 'Flow IAT Max', 'Bwd IAT Tot', 'Tot Bwd Pkts'], 'Normal sample 79': ['Fwd IAT Tot', 'Idle Mean', 'Flow Pkts/s', 'Idle Max', 'Idle Std', 'Bwd Pkt Len Mean', 'Active Std', 'Flow Duration', 'Tot Fwd Pkts', 'Tot Bwd Pkts'], 'Normal sample 80': ['Pkt Len Mean', 'Flow Pkts/s', 'Pkt Size Avg', 'Pkt Len Min', 'Pkt Len Max', 'Pkt Len Std', 'Bwd Header Len', 'Fwd Pkt Len Std', 'Fwd Pkt Len Mean', 'PSH Flag Cnt'], 'Normal sample 81': ['SYN Flag Cnt', 'Bwd Pkt Len Max', 'Bwd Pkt Len Std', 'Idle Max', 'Subflow Fwd Pkts', 'Bwd IAT Max', 'Active Min', 'Bwd Seg Size Avg', 'Fwd IAT Std', 'PSH Flag Cnt'], 'Normal sample 82': ['Init Bwd Win Byts', 'Fwd IAT Max', 'Idle Min', 'Active Mean', 'Active Min', 'Subflow Bwd Pkts', 'Idle Std', 'Bwd URG Flags', 'Fwd IAT Std', 'Fwd IAT Tot'], 'Normal sample 83': ['Pkt Size Avg', 'Pkt Len Min', 'Pkt Len Std', 'Pkt Len Max', 'Flow Pkts/s', 'Pkt Len Mean', 'Bwd Pkt Len Min', 'Fwd Seg Size Avg', 'Flow Byts/s', 'Fwd Pkt Len Mean'], 'Normal sample 84': ['RST Flag Cnt', 'Pkt Len Min', 'Bwd Pkt Len Min', 'Bwd Pkts/s', 'Flow Pkts/s', 'Idle Max', 'Pkt Len Mean', 'Idle Min', 'Pkt Size Avg', 'Flow Duration'], 'Normal sample 85': ['Pkt Len Min', 'Down/Up Ratio', 'Pkt Len Max', 'Pkt Len Std', 'Fwd Pkt Len Mean', 'Pkt Size Avg', 'Flow Pkts/s', 'Fwd Pkt Len Max', 'Pkt Len Mean', 'Fwd Pkt Len Std'], 'Normal sample 86': ['Idle Min', 'Idle Max', 'Active Max', 'Fwd IAT Tot', 'Bwd IAT Mean', 'Fwd Pkt Len Min', 'Active Std', 'Fwd Pkts/s', 'Bwd Pkt Len Mean', 'Bwd Seg Size Avg'], 'Normal sample 87': ['SYN Flag Cnt', 'Bwd IAT Max', 'Bwd IAT Std', 'Bwd Pkt Len Min', 'Bwd IAT Tot', 'Bwd Pkt Len Std', 'Active Max', 'Bwd Pkt Len Mean', 'Fwd Act Data Pkts', 'Pkt Len Min'], 'Normal sample 88': ['FIN Flag Cnt', 'Down/Up Ratio', 'Flow Pkts/s', 'Fwd Seg Size Avg', 'Pkt Len Min', 'Bwd Pkt Len Min', 'Flow IAT Max', 'Pkt Len Max', 'Bwd Header Len', 'Pkt Len Mean'], 'Normal sample 89': ['SYN Flag Cnt', 'Bwd IAT Max', 'Idle Max', 'Bwd IAT Tot', 'TotLen Bwd Pkts', 'Bwd IAT Std', 'TotLen Fwd Pkts', 'Active Min', 'Tot Fwd Pkts', 'Idle Min'], 'Normal sample 90': ['Pkt Len Min', 'Pkt Len Std', 'Down/Up Ratio', 'Pkt Size Avg', 'Fwd Pkt Len Std', 'Pkt Len Max', 'Pkt Len Mean', 'Fwd IAT Tot', 'Flow Pkts/s', 'PSH Flag Cnt'], 'Normal sample 91': ['SYN Flag Cnt', 'Bwd Pkt Len Max', 'Flow IAT Mean', 'Pkt Len Min', 'Tot Fwd Pkts', 'Bwd IAT Max', 'Subflow Fwd Byts', 'Tot Bwd Pkts', 'TotLen Fwd Pkts', 'TotLen Bwd Pkts'], 'Normal sample 92': ['FIN Flag Cnt', 'Down/Up Ratio', 'Flow Pkts/s', 'Pkt Len Min', 'Bwd Pkt Len Mean', 'Bwd Pkt Len Min', 'Fwd Pkts/s', 'Bwd Pkts/s', 'Idle Min', 'Idle Std'], 'Normal sample 93': ['ACK Flag Cnt', 'Bwd IAT Tot', 'Bwd IAT Std', 'Bwd IAT Max', 'Flow IAT Mean', 'Idle Max', 'Flow IAT Max', 'Idle Mean', 'Bwd IAT Mean', 'Fwd Header Len'], 'Normal sample 94': ['SYN Flag Cnt', 'Bwd IAT Std', 'Active Max', 'Bwd IAT Max', 'Idle Max', 'Active Mean', 'Bwd Pkt Len Min', 'Idle Mean', 'Bwd IAT Min', 'Subflow Bwd Byts'], 'Normal sample 95': ['Init Bwd Win Byts', 'Fwd IAT Mean', 'Fwd Pkts/s', 'Fwd IAT Tot', 'Bwd IAT Tot', 'Active Max', 'TotLen Bwd Pkts', 'Bwd Pkt Len Mean', 'Bwd Seg Size Avg', 'Fwd IAT Std'], 'Normal sample 96': ['Bwd Pkt Len Max', 'SYN Flag Cnt', 'Bwd Header Len', 'Subflow Fwd Byts', 'Active Min', 'Pkt Len Var', 'Bwd IAT Max', 'Tot Fwd Pkts', 'Flow IAT Std', 'Subflow Bwd Byts'], 'Normal sample 97': ['Init Bwd Win Byts', 'Bwd Pkt Len Std', 'Flow Duration', 'Fwd Act Data Pkts', 'Fwd Header Len', 'Idle Min', 'Bwd IAT Min', 'Idle Mean', 'Idle Std', 'Tot Fwd Pkts'], 'Normal sample 98': ['SYN Flag Cnt', 'Bwd IAT Max', 'Bwd IAT Tot', 'Bwd IAT Std', 'Idle Max', 'Fwd IAT Min', 'Bwd IAT Min', 'Tot Fwd Pkts', 'Flow Byts/s', 'Flow Duration'], 'Normal sample 99': ['Init Bwd Win Byts', 'Bwd Seg Size Avg', 'Bwd Pkt Len Mean', 'Active Mean', 'Active Max', 'Fwd Pkt Len Std', 'Idle Max', 'Fwd IAT Tot', 'Subflow Bwd Byts', 'Fwd Header Len'], 'Normal sample 100': ['Init Bwd Win Byts', 'Idle Min', 'TotLen Bwd Pkts', 'Subflow Bwd Byts', 'Active Std', 'Idle Max', 'Fwd IAT Min', 'Bwd Pkt Len Max', 'Tot Fwd Pkts', 'Subflow Bwd Pkts'], 'Normal sample 101': ['Fwd Header Len', 'Flow IAT Min', 'TotLen Fwd Pkts', 'Bwd Pkt Len Mean', 'Bwd Seg Size Avg', 'Down/Up Ratio', 'Bwd Pkt Len Max', 'Fwd IAT Std', 'Idle Min', 'Bwd Pkt Len Std'], 'Normal sample 102': ['Fwd Pkts/s', 'Fwd IAT Std', 'Subflow Bwd Byts', 'Idle Min', 'Tot Bwd Pkts', 'Bwd IAT Tot', 'Subflow Bwd Pkts', 'Flow IAT Max', 'Fwd IAT Mean', 'Bwd IAT Mean'], 'Normal sample 103': ['Subflow Bwd Byts', 'Idle Mean', 'Fwd Pkt Len Std', 'Flow IAT Std', 'Init Bwd Win Byts', 'Bwd Pkt Len Mean', 'Flow IAT Min', 'Flow Duration', 'Tot Bwd Pkts', 'TotLen Bwd Pkts'], 'Normal sample 104': ['Idle Max', 'Init Bwd Win Byts', 'Bwd Pkt Len Max', 'Idle Std', 'Active Std', 'Idle Min', 'Subflow Fwd Byts', 'TotLen Fwd Pkts', 'Fwd IAT Max', 'Pkt Len Var'], 'Normal sample 105': ['SYN Flag Cnt', 'Bwd Pkt Len Max', 'Bwd IAT Max', 'Pkt Len Min', 'Fwd Pkt Len Min', 'Flow IAT Mean', 'Active Min', 'Bwd Pkt Len Min', 'Tot Fwd Pkts', 'Tot Bwd Pkts'], 'Normal sample 106': ['Init Bwd Win Byts', 'Idle Mean', 'Fwd IAT Tot', 'Bwd Pkt Len Mean', 'Fwd IAT Std', 'Bwd Pkt Len Max', 'Subflow Fwd Byts', 'Active Std', 'Flow Duration', 'Tot Fwd Pkts'], 'Normal sample 107': ['Pkt Len Min', 'Down/Up Ratio', 'Pkt Len Mean', 'Flow Pkts/s', 'Fwd Seg Size Avg', 'Pkt Size Avg', 'Pkt Len Max', 'Pkt Len Std', 'Fwd Pkt Len Max', 'Flow IAT Std'], 'Normal sample 108': ['SYN Flag Cnt', 'Bwd Pkt Len Max', 'Bwd Pkt Len Std', 'Down/Up Ratio', 'Bwd IAT Std', 'Bwd IAT Max', 'TotLen Fwd Pkts', 'Active Max', 'Idle Std', 'Idle Mean'], 'Normal sample 109': ['SYN Flag Cnt', 'Bwd IAT Std', 'Bwd IAT Max', 'Bwd IAT Tot', 'Bwd Pkt Len Max', 'Bwd Seg Size Avg', 'Bwd IAT Mean', 'Pkt Len Min', 'Active Max', 'Flow IAT Std'], 'Normal sample 110': ['Idle Max', 'Tot Bwd Pkts', 'Tot Fwd Pkts', 'Flow Pkts/s', 'Fwd IAT Std', 'TotLen Bwd Pkts', 'Subflow Bwd Pkts', 'Bwd Pkt Len Max', 'Fwd IAT Max', 'Flow Duration'], 'Normal sample 111': ['Idle Mean', 'Idle Min', 'Init Bwd Win Byts', 'Fwd Header Len', 'Fwd Pkt Len Min', 'Subflow Fwd Pkts', 'Subflow Fwd Byts', 'TotLen Bwd Pkts', 'Flow IAT Std', 'Idle Max'], 'Normal sample 112': ['Pkt Len Min', 'Flow Pkts/s', 'Pkt Size Avg', 'Down/Up Ratio', 'Pkt Len Std', 'Pkt Len Mean', 'Fwd IAT Std', 'Pkt Len Max', 'Fwd Pkt Len Max', 'Fwd Seg Size Avg'], 'Normal sample 113': ['SYN Flag Cnt', 'Bwd Pkt Len Max', 'Tot Fwd Pkts', 'Fwd Pkts/s', 'URG Flag Cnt', 'Flow Duration', 'Tot Bwd Pkts', 'TotLen Fwd Pkts', 'Fwd Pkt Len Mean', 'Bwd Pkt Len Min'], 'Normal sample 114': ['SYN Flag Cnt', 'Bwd IAT Max', 'Bwd IAT Std', 'Bwd IAT Min', 'Bwd IAT Tot', 'Bwd Pkt Len Std', 'Bwd IAT Mean', 'Flow Byts/s', 'Idle Max', 'Flow IAT Mean'], 'Normal sample 115': ['Idle Max', 'Init Bwd Win Byts', 'Idle Min', 'Flow Duration', 'Down/Up Ratio', 'Bwd Pkt Len Max', 'Idle Mean', 'Bwd Seg Size Avg', 'Fwd Pkt Len Mean', 'Bwd Pkt Len Std'], 'Normal sample 116': ['Init Bwd Win Byts', 'Idle Min', 'Fwd Pkt Len Min', 'Bwd IAT Min', 'Bwd Pkt Len Max', 'Subflow Fwd Byts', 'Bwd Header Len', 'Subflow Bwd Byts', 'TotLen Fwd Pkts', 'Active Min'], 'Normal sample 117': ['Bwd Seg Size Avg', 'Bwd Pkt Len Mean', 'Active Mean', 'Init Bwd Win Byts', 'Idle Mean', 'Bwd IAT Tot', 'Flow IAT Max', 'Flow Duration', 'Tot Fwd Pkts', 'TotLen Bwd Pkts'], 'Normal sample 118': ['SYN Flag Cnt', 'Bwd IAT Max', 'Bwd IAT Std', 'Active Mean', 'Active Max', 'Bwd Seg Size Avg', 'Flow Byts/s', 'Bwd Header Len', 'Bwd Pkt Len Std', 'Bwd Pkt Len Max'], 'Normal sample 119': ['Bwd Pkts/s', 'Pkt Len Min', 'FIN Flag Cnt', 'Fwd Pkt Len Mean', 'Fwd Act Data Pkts', 'PSH Flag Cnt', 'Active Min', 'Pkt Len Var', 'Subflow Bwd Pkts', 'Subflow Fwd Byts'], 'Normal sample 120': ['Init Bwd Win Byts', 'Fwd Pkt Len Std', 'Fwd IAT Mean', 'Flow IAT Std', 'Bwd IAT Min', 'Flow Duration', 'Tot Fwd Pkts', 'TotLen Fwd Pkts', 'TotLen Bwd Pkts', 'Fwd Pkt Len Min'], 'Normal sample 121': ['Bwd Seg Size Avg', 'Idle Max', 'Active Max', 'Fwd Header Len', 'Fwd Pkts/s', 'Fwd IAT Mean', 'Init Bwd Win Byts', 'Flow IAT Std', 'Bwd Pkt Len Mean', 'Fwd IAT Max'], 'Normal sample 122': ['Idle Max', 'Bwd Seg Size Avg', 'Init Bwd Win Byts', 'Active Min', 'Idle Mean', 'Flow Duration', 'Tot Fwd Pkts', 'Tot Bwd Pkts', 'TotLen Fwd Pkts', 'TotLen Bwd Pkts'], 'Normal sample 123': ['Bwd IAT Tot', 'ACK Flag Cnt', 'Bwd PSH Flags', 'Bwd IAT Max', 'Active Max', 'Idle Mean', 'Pkt Size Avg', 'Bwd IAT Std', 'Bwd Header Len', 'Bwd IAT Mean'], 'Normal sample 124': ['Init Bwd Win Byts', 'Tot Bwd Pkts', 'Fwd IAT Tot', 'Fwd Pkt Len Min', 'Active Max', 'Flow IAT Min', 'Fwd IAT Max', 'Bwd Seg Size Avg', 'Flow IAT Std', 'Fwd Pkts/s'], 'Normal sample 125': ['Flow Duration', 'Tot Fwd Pkts', 'TotLen Fwd Pkts', 'TotLen Bwd Pkts', 'Fwd Pkt Len Min', 'Bwd Pkt Len Max', 'Bwd Pkt Len Min', 'Bwd Pkt Len Mean', 'Flow Pkts/s', 'Flow IAT Std'], 'Normal sample 126': ['FIN Flag Cnt', 'Down/Up Ratio', 'Pkt Len Min', 'Flow Pkts/s', 'Bwd Pkt Len Min', 'Bwd Seg Size Avg', 'PSH Flag Cnt', 'Flow IAT Std', 'Bwd IAT Tot', 'Bwd Pkts/s'], 'Normal sample 127': ['Idle Max', 'Init Bwd Win Byts', 'Idle Mean', 'Bwd Seg Size Avg', 'Fwd Header Len', 'Fwd IAT Max', 'Subflow Bwd Byts', 'Flow IAT Min', 'Idle Min', 'Bwd Pkt Len Mean'], 'Normal sample 128': ['ACK Flag Cnt', 'Bwd IAT Max', 'Bwd IAT Std', 'Flow IAT Max', 'Idle Mean', 'Flow IAT Mean', 'Bwd IAT Tot', 'Idle Min', 'Pkt Len Std', 'Bwd IAT Mean'], 'Normal sample 129': ['Init Bwd Win Byts', 'Active Mean', 'Bwd IAT Min', 'Idle Mean', 'Bwd Seg Size Avg', 'Idle Max', 'Bwd Pkt Len Mean', 'Fwd Pkt Len Std', 'Pkt Len Var', 'Fwd Header Len'], 'Normal sample 130': ['Bwd Pkt Len Mean', 'Init Bwd Win Byts', 'Bwd Header Len', 'Bwd Pkt Len Max', 'Fwd Header Len', 'Subflow Fwd Byts', 'Idle Max', 'Tot Fwd Pkts', 'TotLen Bwd Pkts', 'Flow Duration'], 'Normal sample 131': ['ACK Flag Cnt', 'Bwd IAT Std', 'Bwd IAT Max', 'Flow IAT Mean', 'Bwd IAT Mean', 'Active Min', 'Flow IAT Std', 'Flow IAT Max', 'Fwd Pkts/s', 'Bwd Pkt Len Std'], 'Normal sample 132': ['Init Bwd Win Byts', 'Idle Mean', 'Idle Min', 'Bwd Seg Size Avg', 'Fwd IAT Max', 'Tot Fwd Pkts', 'Bwd IAT Min', 'Tot Bwd Pkts', 'Bwd IAT Mean', 'Idle Max'], 'Normal sample 133': ['SYN Flag Cnt', 'Bwd IAT Std', 'Bwd IAT Tot', 'Bwd IAT Max', 'PSH Flag Cnt', 'Active Std', 'Fwd Act Data Pkts', 'Bwd Pkt Len Max', 'Pkt Len Min', 'Fwd Pkt Len Min'], 'Normal sample 134': ['FIN Flag Cnt', 'Flow Pkts/s', 'Pkt Len Min', 'Down/Up Ratio', 'Pkt Size Avg', 'Tot Fwd Pkts', 'Fwd IAT Max', 'TotLen Bwd Pkts', 'Pkt Len Max', 'Fwd IAT Mean'], 'Normal sample 135': ['SYN Flag Cnt', 'Bwd Pkt Len Max', 'Bwd Pkt Len Std', 'Idle Min', 'Bwd Seg Size Avg', 'Bwd Pkt Len Mean', 'Fwd IAT Mean', 'Active Mean', 'Bwd PSH Flags', 'TotLen Fwd Pkts'], 'Normal sample 136': ['Init Bwd Win Byts', 'Fwd Pkt Len Min', 'Bwd Seg Size Avg', 'Bwd Pkt Len Max', 'Fwd IAT Max', 'Bwd IAT Mean', 'Idle Mean', 'Fwd IAT Mean', 'Fwd IAT Min', 'Active Mean'], 'Normal sample 137': ['Bwd IAT Tot', 'Bwd PSH Flags', 'ACK Flag Cnt', 'Bwd IAT Max', 'Idle Mean', 'Bwd IAT Std', 'Idle Max', 'Bwd IAT Mean', 'Idle Std', 'Flow IAT Min'], 'Normal sample 138': ['Init Bwd Win Byts', 'Bwd IAT Tot', 'Idle Min', 'Bwd Header Len', 'Fwd IAT Tot', 'Bwd Pkt Len Std', 'Subflow Fwd Byts', 'Fwd Pkt Len Min', 'Flow IAT Std', 'Bwd Pkt Len Mean'], 'Normal sample 139': ['Bwd PSH Flags', 'Bwd Pkt Len Min', 'Pkt Len Min', 'Bwd Pkt Len Max', 'Fwd IAT Std', 'Down/Up Ratio', 'Flow IAT Mean', 'Pkt Len Var', 'Flow IAT Min', 'Bwd URG Flags'], 'Normal sample 140': ['Pkt Len Max', 'Pkt Size Avg', 'Pkt Len Min', 'Flow Pkts/s', 'Fwd IAT Min', 'Down/Up Ratio', 'Fwd Seg Size Avg', 'Fwd Pkt Len Mean', 'Flow Byts/s', 'Pkt Len Std'], 'Normal sample 141': ['Idle Max', 'Init Bwd Win Byts', 'Idle Mean', 'Bwd IAT Tot', 'Fwd IAT Tot', 'Fwd Pkts/s', 'Bwd Pkt Len Mean', 'Flow Duration', 'Subflow Fwd Pkts', 'Tot Fwd Pkts'], 'Normal sample 142': ['SYN Flag Cnt', 'Bwd Pkt Len Max', 'Active Max', 'TotLen Fwd Pkts', 'TotLen Bwd Pkts', 'Bwd Pkt Len Min', 'Bwd Pkt Len Std', 'Flow Byts/s', 'Flow Pkts/s', 'Flow IAT Mean'], 'Normal sample 143': ['Idle Min', 'Idle Max', 'Init Bwd Win Byts', 'Idle Mean', 'Fwd IAT Min', 'Pkt Len Var', 'Bwd Pkt Len Max', 'Bwd Pkt Len Mean', 'Fwd IAT Tot', 'Tot Bwd Pkts'], 'Normal sample 144': ['Subflow Fwd Pkts', 'Init Bwd Win Byts', 'Idle Min', 'Idle Max', 'Tot Bwd Pkts', 'Subflow Fwd Byts', 'Idle Mean', 'Flow IAT Max', 'Fwd IAT Tot', 'Bwd Seg Size Avg'], 'Normal sample 145': ['SYN Flag Cnt', 'Bwd Pkt Len Max', 'Bwd IAT Max', 'Bwd Pkt Len Std', 'Bwd IAT Std', 'Bwd Seg Size Avg', 'Idle Mean', 'Idle Max', 'PSH Flag Cnt', 'Idle Std'], 'Normal sample 146': ['Bwd Pkt Len Std', 'Init Bwd Win Byts', 'Subflow Bwd Pkts', 'Idle Max', 'Bwd IAT Min', 'Flow IAT Max', 'Idle Mean', 'Active Mean', 'Bwd Seg Size Avg', 'Bwd Header Len'], 'Normal sample 147': ['Bwd IAT Tot', 'Bwd IAT Max', 'ACK Flag Cnt', 'Bwd IAT Std', 'Flow IAT Max', 'Idle Mean', 'Bwd IAT Mean', 'Idle Min', 'Idle Max', 'Fwd Header Len'], 'Normal sample 148': ['Init Bwd Win Byts', 'Idle Min', 'Bwd Seg Size Avg', 'Fwd Header Len', 'Bwd Pkt Len Std', 'Active Min', 'Idle Mean', 'Fwd Pkts/s', 'Bwd Pkt Len Max', 'Fwd IAT Mean'], 'Normal sample 149': ['Init Bwd Win Byts', 'TotLen Fwd Pkts', 'Fwd IAT Tot', 'Bwd Pkt Len Mean', 'Bwd IAT Tot', 'Idle Max', 'Active Std', 'Flow Duration', 'Tot Fwd Pkts', 'Fwd Pkt Len Max'], 'Normal sample 150': ['Bwd Pkts/s', 'FIN Flag Cnt', 'Pkt Len Min', 'Pkt Len Std', 'Bwd Pkt Len Min', 'Flow IAT Min', 'Pkt Size Avg', 'Idle Mean', 'Idle Std', 'Subflow Bwd Pkts'], 'Normal sample 151': ['SYN Flag Cnt', 'Bwd Pkt Len Max', 'Subflow Fwd Pkts', 'Active Min', 'Bwd Header Len', 'Idle Min', 'Flow IAT Max', 'Fwd IAT Min', 'Fwd Act Data Pkts', 'Bwd Pkt Len Min'], 'Normal sample 152': ['SYN Flag Cnt', 'Bwd Pkt Len Mean', 'Bwd Pkt Len Max', 'Bwd Pkt Len Std', 'Bwd Seg Size Avg', 'Down/Up Ratio', 'Pkt Len Min', 'Active Mean', 'TotLen Bwd Pkts', 'Idle Mean'], 'Normal sample 153': ['Tot Fwd Pkts', 'Bwd Pkt Len Mean', 'Init Bwd Win Byts', 'Bwd Seg Size Avg', 'Subflow Bwd Pkts', 'Pkt Len Var', 'Idle Max', 'Idle Mean', 'TotLen Bwd Pkts', 'Bwd IAT Max'], 'Normal sample 154': ['Pkt Len Min', 'Pkt Len Mean', 'Down/Up Ratio', 'Pkt Size Avg', 'Fwd IAT Std', 'Pkt Len Std', 'Pkt Len Max', 'Fwd Pkt Len Max', 'Bwd Pkt Len Min', 'Fwd Seg Size Avg'], 'Normal sample 155': ['Pkt Len Min', 'Pkt Len Mean', 'Pkt Size Avg', 'Pkt Len Max', 'Fwd Seg Size Avg', 'Down/Up Ratio', 'Fwd Pkt Len Max', 'Pkt Len Std', 'Fwd IAT Std', 'Fwd Pkt Len Mean'], 'Normal sample 156': ['Idle Max', 'Init Bwd Win Byts', 'Active Max', 'Bwd Pkt Len Mean', 'TotLen Fwd Pkts', 'Fwd IAT Std', 'Tot Bwd Pkts', 'Idle Mean', 'Idle Min', 'Subflow Bwd Byts'], 'Normal sample 157': ['Init Bwd Win Byts', 'Bwd Seg Size Avg', 'Bwd IAT Std', 'Fwd IAT Std', 'Active Mean', 'Idle Mean', 'Idle Max', 'Flow Byts/s', 'Bwd Pkt Len Std', 'Fwd Pkts/s'], 'Normal sample 158': ['Init Bwd Win Byts', 'Fwd IAT Mean', 'Tot Fwd Pkts', 'Bwd IAT Mean', 'Fwd IAT Std', 'Fwd Header Len', 'Bwd Pkt Len Std', 'Flow IAT Min', 'TotLen Fwd Pkts', 'Pkt Len Var'], 'Normal sample 159': ['Subflow Fwd Byts', 'Active Min', 'Tot Bwd Pkts', 'TotLen Bwd Pkts', 'Flow Duration', 'Tot Fwd Pkts', 'TotLen Fwd Pkts', 'Bwd Pkt Len Max', 'Bwd Pkt Len Min', 'Bwd Pkt Len Std'], 'Normal sample 160': ['ACK Flag Cnt', 'Bwd IAT Std', 'Bwd IAT Tot', 'Bwd IAT Mean', 'Bwd IAT Max', 'Flow IAT Mean', 'Flow IAT Std', 'TotLen Bwd Pkts', 'Flow IAT Max', 'Idle Std'], 'Normal sample 161': ['Flow Duration', 'TotLen Bwd Pkts', 'Fwd Pkt Len Min', 'Bwd Pkt Len Mean', 'Bwd Pkt Len Std', 'Flow Pkts/s', 'Flow IAT Mean', 'Fwd IAT Mean', 'Fwd IAT Std', 'Fwd IAT Max'], 'Normal sample 162': ['Pkt Len Max', 'Pkt Len Mean', 'Pkt Len Min', 'Flow Pkts/s', 'Pkt Size Avg', 'Fwd Seg Size Avg', 'Fwd Pkt Len Max', 'Pkt Len Std', 'Subflow Fwd Pkts', 'Fwd Pkt Len Std'], 'Normal sample 163': ['Bwd Seg Size Avg', 'Bwd Pkt Len Std', 'Init Bwd Win Byts', 'Bwd IAT Tot', 'Fwd Pkts/s', 'Active Std', 'TotLen Fwd Pkts', 'Bwd Pkt Len Max', 'TotLen Bwd Pkts', 'Subflow Fwd Byts'], 'Normal sample 164': ['Pkt Len Min', 'Tot Fwd Pkts', 'TotLen Bwd Pkts', 'Flow Byts/s', 'Flow IAT Min', 'Fwd IAT Mean', 'Fwd PSH Flags', 'Fwd URG Flags', 'Bwd URG Flags', 'Bwd Header Len'], 'Normal sample 165': ['SYN Flag Cnt', 'Bwd IAT Std', 'Bwd IAT Max', 'Bwd IAT Tot', 'Bwd Pkt Len Min', 'Flow Pkts/s', 'Bwd Pkt Len Max', 'Bwd IAT Mean', 'Tot Fwd Pkts', 'Flow IAT Mean'], 'Normal sample 166': ['ACK Flag Cnt', 'Bwd IAT Std', 'Bwd IAT Max', 'Bwd IAT Tot', 'Bwd IAT Mean', 'Flow IAT Max', 'Pkt Len Var', 'Fwd IAT Min', 'Fwd Pkts/s', 'Idle Std'], 'Normal sample 167': ['FIN Flag Cnt', 'Flow Pkts/s', 'Down/Up Ratio', 'Pkt Len Min', 'Pkt Len Std', 'Pkt Len Max', 'Bwd Pkt Len Min', 'Pkt Size Avg', 'Fwd Pkt Len Max', 'Bwd Pkts/s'], 'Normal sample 168': ['FIN Flag Cnt', 'Down/Up Ratio', 'Flow Pkts/s', 'Pkt Len Min', 'Fwd IAT Mean', 'Pkt Len Std', 'Bwd Pkt Len Min', 'Fwd Pkt Len Mean', 'Idle Max', 'Active Std'], 'Normal sample 169': ['Init Bwd Win Byts', 'Active Min', 'Idle Max', 'Subflow Bwd Pkts', 'TotLen Fwd Pkts', 'Bwd IAT Min', 'Bwd Pkt Len Max', 'Tot Bwd Pkts', 'Bwd IAT Max', 'Fwd Pkt Len Std'], 'Normal sample 170': ['SYN Flag Cnt', 'Bwd Pkt Len Max', 'Pkt Len Min', 'Idle Max', 'TotLen Fwd Pkts', 'Bwd IAT Max', 'Tot Fwd Pkts', 'Tot Bwd Pkts', 'TotLen Bwd Pkts', 'Fwd Pkt Len Min'], 'Normal sample 171': ['SYN Flag Cnt', 'Bwd IAT Max', 'Bwd Pkt Len Max', 'Bwd Pkt Len Std', 'Bwd IAT Std', 'Pkt Len Min', 'Fwd Act Data Pkts', 'TotLen Fwd Pkts', 'Bwd PSH Flags', 'Active Min'], 'Normal sample 172': ['Init Bwd Win Byts', 'Bwd Seg Size Avg', 'Idle Max', 'Idle Min', 'Bwd Pkt Len Std', 'Fwd Act Data Pkts', 'Fwd IAT Max', 'Bwd URG Flags', 'Flow IAT Min', 'Bwd IAT Mean'], 'Normal sample 173': ['Tot Fwd Pkts', 'TotLen Fwd Pkts', 'TotLen Bwd Pkts', 'Fwd Pkt Len Min', 'Bwd Pkt Len Max', 'Bwd Pkt Len Std', 'Flow IAT Mean', 'Flow IAT Max', 'Fwd IAT Tot', 'Fwd IAT Mean'], 'Normal sample 174': ['SYN Flag Cnt', 'Bwd IAT Max', 'Bwd IAT Tot', 'Bwd IAT Std', 'Active Std', 'Flow IAT Max', 'Bwd Pkt Len Min', 'Pkt Len Min', 'Bwd IAT Mean', 'Active Min'], 'Normal sample 175': ['SYN Flag Cnt', 'Active Max', 'Bwd IAT Max', 'Idle Mean', 'Pkt Len Min', 'Bwd IAT Std', 'Idle Max', 'Bwd IAT Tot', 'Bwd Seg Size Avg', 'Bwd Pkt Len Max'], 'Normal sample 176': ['Bwd Pkt Len Mean', 'Init Bwd Win Byts', 'TotLen Fwd Pkts', 'Idle Max', 'Bwd IAT Tot', 'Bwd IAT Mean', 'Active Max', 'Fwd IAT Max', 'Tot Bwd Pkts', 'TotLen Bwd Pkts'], 'Normal sample 177': ['SYN Flag Cnt', 'Bwd Pkt Len Max', 'Fwd Pkts/s', 'TotLen Fwd Pkts', 'Bwd PSH Flags', 'Tot Fwd Pkts', 'Active Max', 'Fwd IAT Mean', 'Pkt Len Var', 'Bwd IAT Min'], 'Normal sample 178': ['Init Bwd Win Byts', 'Idle Min', 'TotLen Bwd Pkts', 'Subflow Fwd Byts', 'Fwd Header Len', 'Flow IAT Min', 'Idle Mean', 'Tot Fwd Pkts', 'Fwd IAT Tot', 'Subflow Bwd Pkts'], 'Normal sample 179': ['Bwd Pkt Len Max', 'Idle Min', 'Active Max', 'Idle Mean', 'Bwd Pkt Len Std', 'Fwd IAT Tot', 'Init Bwd Win Byts', 'Active Mean', 'Bwd Seg Size Avg', 'Fwd Pkt Len Min'], 'Normal sample 180': ['Init Bwd Win Byts', 'Subflow Fwd Pkts', 'Bwd IAT Mean', 'Fwd Header Len', 'Subflow Bwd Byts', 'Bwd Pkt Len Std', 'Subflow Fwd Byts', 'Idle Max', 'Bwd Pkt Len Mean', 'Idle Mean'], 'Normal sample 181': ['Pkt Len Min', 'Down/Up Ratio', 'Pkt Len Mean', 'Pkt Len Max', 'Pkt Size Avg', 'PSH Flag Cnt', 'Flow Pkts/s', 'Pkt Len Std', 'Fwd Seg Size Avg', 'Bwd URG Flags'], 'Normal sample 182': ['Init Bwd Win Byts', 'Tot Fwd Pkts', 'Bwd Pkt Len Max', 'Fwd IAT Tot', 'Idle Min', 'Idle Max', 'Flow Duration', 'Fwd Pkt Len Std', 'Fwd IAT Max', 'Bwd Pkt Len Std'], 'Normal sample 183': ['Idle Mean', 'Idle Min', 'Idle Max', 'Bwd Pkt Len Max', 'Flow IAT Max', 'Init Bwd Win Byts', 'Active Max', 'Pkt Len Var', 'Subflow Fwd Byts', 'Active Mean'], 'Normal sample 184': ['SYN Flag Cnt', 'Bwd IAT Max', 'Bwd IAT Tot', 'Bwd IAT Std', 'Flow IAT Max', 'Active Mean', 'URG Flag Cnt', 'Active Min', 'Fwd Pkt Len Std', 'Flow IAT Mean'], 'Normal sample 185': ['Idle Max', 'Idle Std', 'Subflow Fwd Byts', 'Flow Pkts/s', 'Init Bwd Win Byts', 'Fwd Pkts/s', 'Active Std', 'Bwd IAT Mean', 'Fwd Act Data Pkts', 'Subflow Bwd Byts'], 'Normal sample 186': ['Tot Fwd Pkts', 'Tot Bwd Pkts', 'TotLen Fwd Pkts', 'TotLen Bwd Pkts', 'Fwd Pkt Len Min', 'Bwd Pkt Len Max', 'Bwd Pkt Len Min', 'Bwd Pkt Len Std', 'Flow IAT Mean', 'Flow IAT Std'], 'Normal sample 187': ['Active Std', 'Init Bwd Win Byts', 'Bwd Pkt Len Std', 'Idle Max', 'Fwd IAT Std', 'Idle Mean', 'Bwd IAT Mean', 'Fwd Act Data Pkts', 'Idle Min', 'Bwd Pkt Len Mean'], 'Normal sample 188': ['Tot Fwd Pkts', 'Bwd Pkt Len Mean', 'Init Bwd Win Byts', 'Idle Mean', 'Flow Duration', 'Subflow Bwd Pkts', 'Active Mean', 'Idle Max', 'Bwd Pkt Len Std', 'Pkt Len Var'], 'Normal sample 189': ['SYN Flag Cnt', 'Bwd IAT Max', 'Bwd IAT Std', 'Bwd Pkt Len Std', 'Idle Max', 'Fwd Header Len', 'Bwd Pkt Len Mean', 'Subflow Bwd Byts', 'Bwd Pkt Len Max', 'Tot Fwd Pkts'], 'Normal sample 190': ['Pkt Len Max', 'Pkt Len Min', 'Pkt Len Mean', 'Pkt Size Avg', 'Flow Pkts/s', 'Pkt Len Std', 'Fwd Seg Size Avg', 'Tot Fwd Pkts', 'Fwd Pkt Len Max', 'Flow Byts/s'], 'Normal sample 191': ['Pkt Len Min', 'Down/Up Ratio', 'Flow Pkts/s', 'Pkt Len Max', 'Pkt Len Std', 'Pkt Len Mean', 'Bwd IAT Min', 'Flow IAT Std', 'PSH Flag Cnt', 'Tot Bwd Pkts'], 'Normal sample 192': ['Init Bwd Win Byts', 'Fwd Header Len', 'TotLen Fwd Pkts', 'TotLen Bwd Pkts', 'Fwd Pkts/s', 'Idle Min', 'Bwd Pkt Len Max', 'Bwd IAT Tot', 'Idle Max', 'Bwd Pkt Len Std'], 'Normal sample 193': ['Init Bwd Win Byts', 'Idle Min', 'Bwd Pkt Len Max', 'Fwd IAT Mean', 'TotLen Fwd Pkts', 'Bwd Header Len', 'Active Max', 'Subflow Bwd Byts', 'TotLen Bwd Pkts', 'Flow Duration'], 'Normal sample 194': ['Subflow Bwd Byts', 'Fwd Header Len', 'Active Max', 'Tot Bwd Pkts', 'Bwd IAT Min', 'Idle Min', 'Bwd Pkt Len Mean', 'Active Min', 'Idle Max', 'Tot Fwd Pkts'], 'Normal sample 195': ['Init Bwd Win Byts', 'Pkt Len Min', 'Flow IAT Min', 'TotLen Bwd Pkts', 'Fwd IAT Tot', 'Fwd IAT Mean', 'Fwd IAT Std', 'Fwd IAT Max', 'Fwd IAT Min', 'Bwd IAT Min'], 'Normal sample 196': ['ACK Flag Cnt', 'Flow IAT Mean', 'Flow IAT Max', 'Flow Pkts/s', 'Fwd Header Len', 'Bwd PSH Flags', 'Pkt Len Min', 'Fwd IAT Mean', 'TotLen Fwd Pkts', 'Flow IAT Min'], 'Normal sample 197': ['Init Bwd Win Byts', 'Bwd Pkt Len Std', 'TotLen Bwd Pkts', 'Fwd IAT Std', 'Idle Max', 'Pkt Len Var', 'Idle Min', 'Flow IAT Std', 'Fwd IAT Mean', 'Subflow Fwd Byts'], 'Normal sample 198': ['Bwd IAT Tot', 'Bwd PSH Flags', 'ACK Flag Cnt', 'Bwd IAT Max', 'Bwd IAT Std', 'Pkt Len Mean', 'Active Max', 'Idle Max', 'Idle Min', 'Idle Mean'], 'Normal sample 199': ['Fwd Pkts/s', 'Init Bwd Win Byts', 'Fwd IAT Max', 'Tot Fwd Pkts', 'Idle Mean', 'Bwd IAT Min', 'Fwd IAT Std', 'Subflow Bwd Byts', 'Bwd IAT Tot', 'Bwd Header Len'], 'Normal sample 200': ['Idle Mean', 'Init Bwd Win Byts', 'Bwd Pkt Len Mean', 'Subflow Fwd Pkts', 'Fwd IAT Min', 'Idle Min', 'Active Mean', 'Fwd IAT Mean', 'Tot Fwd Pkts', 'Tot Bwd Pkts'], 'Normal sample 201': ['ACK Flag Cnt', 'Bwd IAT Max', 'Bwd IAT Std', 'Bwd PSH Flags', 'Flow IAT Max', 'Pkt Len Min', 'Subflow Bwd Pkts', 'Idle Mean', 'Fwd Pkts/s', 'Subflow Fwd Pkts'], 'Normal sample 202': ['Init Bwd Win Byts', 'Bwd IAT Tot', 'Bwd Header Len', 'Bwd Pkt Len Max', 'Idle Max', 'Tot Fwd Pkts', 'TotLen Fwd Pkts', 'TotLen Bwd Pkts', 'Fwd Pkt Len Std', 'Bwd Pkt Len Mean'], 'Normal sample 203': ['Tot Fwd Pkts', 'Tot Bwd Pkts', 'TotLen Fwd Pkts', 'TotLen Bwd Pkts', 'Bwd Pkt Len Max', 'Bwd Pkt Len Std', 'Flow IAT Mean', 'Flow IAT Min', 'Fwd IAT Tot', 'Fwd IAT Mean'], 'Normal sample 204': ['Fwd IAT Min', 'ACK Flag Cnt', 'Flow IAT Mean', 'Fwd Pkt Len Mean', 'Pkt Len Max', 'Subflow Fwd Pkts', 'Subflow Bwd Byts', 'Pkt Len Std', 'Fwd IAT Std', 'Fwd Pkt Len Max'], 'Normal sample 205': ['Subflow Bwd Pkts', 'Idle Max', 'TotLen Fwd Pkts', 'Init Bwd Win Byts', 'Idle Mean', 'Flow IAT Min', 'Fwd IAT Min', 'Bwd Pkt Len Max', 'Idle Min', 'Fwd IAT Mean'], 'Normal sample 206': ['SYN Flag Cnt', 'Bwd IAT Std', 'Bwd IAT Max', 'Tot Bwd Pkts', 'Fwd Act Data Pkts', 'Tot Fwd Pkts', 'TotLen Fwd Pkts', 'Fwd Pkt Len Min', 'Bwd Pkt Len Max', 'Bwd Pkt Len Min'], 'Normal sample 207': ['Init Bwd Win Byts', 'Idle Max', 'Bwd Pkt Len Std', 'Flow IAT Std', 'Bwd Seg Size Avg', 'Idle Mean', 'Active Min', 'Bwd URG Flags', 'Bwd Pkt Len Mean', 'Subflow Bwd Pkts'], 'Normal sample 208': ['SYN Flag Cnt', 'Bwd Pkt Len Max', 'Subflow Fwd Pkts', 'Bwd PSH Flags', 'Bwd Pkt Len Std', 'Active Mean', 'TotLen Fwd Pkts', 'Tot Fwd Pkts', 'TotLen Bwd Pkts', 'Fwd Pkt Len Min'], 'Normal sample 209': ['SYN Flag Cnt', 'Bwd Pkt Len Max', 'Bwd IAT Max', 'Idle Max', 'Tot Bwd Pkts', 'TotLen Fwd Pkts', 'TotLen Bwd Pkts', 'Fwd Pkt Len Min', 'Fwd Pkt Len Mean', 'Bwd Pkt Len Min'], 'Normal sample 210': ['Bwd Pkt Len Max', 'Active Max', 'Init Bwd Win Byts', 'Idle Max', 'Flow IAT Min', 'Fwd Header Len', 'Bwd Header Len', 'Fwd IAT Std', 'Active Min', 'Fwd IAT Tot'], 'Normal sample 211': ['Bwd IAT Tot', 'ACK Flag Cnt', 'Bwd IAT Max', 'Idle Mean', 'Bwd PSH Flags', 'Bwd IAT Std', 'Pkt Len Min', 'Pkt Size Avg', 'Idle Max', 'Pkt Len Var'], 'Normal sample 212': ['Bwd Pkts/s', 'Fwd Pkts/s', 'Pkt Len Min', 'Bwd IAT Max', 'FIN Flag Cnt', 'ACK Flag Cnt', 'Fwd Seg Size Avg', 'Pkt Len Max', 'Pkt Len Std', 'Active Min'], 'Normal sample 213': ['FIN Flag Cnt', 'Down/Up Ratio', 'Pkt Len Min', 'Flow Pkts/s', 'Bwd Pkt Len Min', 'Flow IAT Std', 'Fwd IAT Max', 'Bwd IAT Tot', 'Bwd Pkts/s', 'Pkt Len Max'], 'Normal sample 214': ['Init Bwd Win Byts', 'Idle Mean', 'Idle Min', 'Bwd Pkt Len Max', 'Subflow Bwd Pkts', 'Fwd IAT Mean', 'Flow Byts/s', 'Bwd Seg Size Avg', 'Fwd Pkt Len Std', 'Fwd IAT Max'], 'Normal sample 215': ['Bwd IAT Mean', 'ACK Flag Cnt', 'Fwd IAT Min', 'Flow IAT Mean', 'Bwd IAT Tot', 'Bwd IAT Max', 'Bwd PSH Flags', 'Idle Max', 'Pkt Len Min', 'Pkt Len Max'], 'Normal sample 216': ['Pkt Len Min', 'Fwd Pkts/s', 'Active Std', 'Active Max', 'Tot Fwd Pkts', 'TotLen Bwd Pkts', 'Flow Byts/s', 'Flow IAT Min', 'Fwd IAT Tot', 'Fwd IAT Max'], 'Normal sample 217': ['Idle Min', 'Init Bwd Win Byts', 'Idle Max', 'TotLen Bwd Pkts', 'Bwd IAT Tot', 'Idle Mean', 'Subflow Fwd Byts', 'Bwd Header Len', 'Flow IAT Std', 'Bwd Pkt Len Mean'], 'Normal sample 218': ['Down/Up Ratio', 'Bwd Pkt Len Max', 'Active Std', 'Flow IAT Std', 'Init Bwd Win Byts', 'Idle Min', 'Bwd Pkt Len Mean', 'Bwd Seg Size Avg', 'Bwd Pkt Len Std', 'Idle Mean'], 'Normal sample 219': ['SYN Flag Cnt', 'Bwd Pkt Len Max', 'Flow Duration', 'Tot Bwd Pkts', 'Fwd Pkt Len Min', 'Bwd Pkt Len Min', 'Flow Byts/s', 'Flow Pkts/s', 'Flow IAT Mean', 'Flow IAT Std'], 'Normal sample 220': ['ACK Flag Cnt', 'Init Bwd Win Byts', 'Bwd Seg Size Avg', 'Bwd Pkt Len Max', 'Subflow Bwd Pkts', 'TotLen Fwd Pkts', 'Bwd Pkt Len Std', 'Idle Max', 'Bwd Pkt Len Mean', 'Active Mean'], 'Normal sample 221': ['SYN Flag Cnt', 'Bwd Pkt Len Std', 'Bwd Pkt Len Max', 'Fwd Pkt Len Min', 'Idle Min', 'FIN Flag Cnt', 'Subflow Fwd Pkts', 'Flow IAT Mean', 'Fwd IAT Min', 'PSH Flag Cnt'], 'Normal sample 222': ['Tot Fwd Pkts', 'Tot Bwd Pkts', 'TotLen Fwd Pkts', 'TotLen Bwd Pkts', 'Bwd Pkt Len Max', 'Bwd Pkt Len Mean', 'Bwd Pkt Len Std', 'Flow Pkts/s', 'Flow IAT Mean', 'Flow IAT Std'], 'Normal sample 223': ['FIN Flag Cnt', 'Down/Up Ratio', 'Pkt Len Min', 'Flow Pkts/s', 'Pkt Len Max', 'Tot Bwd Pkts', 'Idle Std', 'Flow IAT Std', 'Flow IAT Max', 'Active Std'], 'Normal sample 224': ['Flow Duration', 'Tot Fwd Pkts', 'Tot Bwd Pkts', 'TotLen Bwd Pkts', 'Fwd Pkt Len Min', 'Bwd Pkt Len Max', 'Bwd Pkt Len Min', 'Flow Pkts/s', 'Flow IAT Min', 'Fwd IAT Mean'], 'Normal sample 225': ['Bwd Seg Size Avg', 'Active Std', 'Fwd IAT Max', 'Idle Min', 'Tot Fwd Pkts', 'Bwd IAT Tot', 'Flow IAT Min', 'Idle Mean', 'Idle Std', 'Flow IAT Mean'], 'Normal sample 226': ['Bwd PSH Flags', 'Bwd Pkt Len Min', 'Bwd Seg Size Avg', 'Pkt Len Min', 'Bwd Header Len', 'Bwd Pkt Len Mean', 'Bwd IAT Tot', 'Idle Mean', 'Down/Up Ratio', 'Fwd Pkts/s'], 'Normal sample 227': ['Idle Max', 'Idle Min', 'Init Bwd Win Byts', 'Idle Mean', 'Bwd IAT Min', 'Bwd Header Len', 'Bwd IAT Tot', 'Bwd Seg Size Avg', 'Flow Duration', 'Tot Fwd Pkts'], 'Normal sample 228': ['Fwd IAT Std', 'Active Min', 'Init Bwd Win Byts', 'Idle Mean', 'Bwd Pkt Len Std', 'Flow Duration', 'Fwd Act Data Pkts', 'Bwd IAT Min', 'Flow IAT Min', 'Tot Fwd Pkts'], 'Normal sample 229': ['ACK Flag Cnt', 'Bwd IAT Std', 'Bwd IAT Max', 'Flow IAT Mean', 'Bwd IAT Mean', 'Bwd IAT Tot', 'Subflow Bwd Pkts', 'Fwd IAT Mean', 'Flow IAT Max', 'Bwd PSH Flags'], 'Normal sample 230': ['SYN Flag Cnt', 'Bwd Pkt Len Std', 'Bwd Pkt Len Max', 'Bwd Pkt Len Mean', 'Bwd IAT Max', 'Bwd IAT Tot', 'Bwd IAT Std', 'Idle Min', 'Bwd Header Len', 'Bwd Seg Size Avg'], 'Normal sample 231': ['Init Bwd Win Byts', 'Idle Max', 'Active Std', 'Idle Min', 'Flow IAT Min', 'Bwd Pkt Len Max', 'Fwd IAT Std', 'Idle Std', 'Idle Mean', 'Tot Fwd Pkts'], 'Normal sample 232': ['Down/Up Ratio', 'Pkt Len Min', 'Fwd Pkt Len Max', 'Pkt Len Std', 'Flow Pkts/s', 'Pkt Len Mean', 'Fwd Pkt Len Std', 'Fwd Pkt Len Mean', 'Pkt Len Max', 'Fwd IAT Std'], 'Normal sample 233': ['SYN Flag Cnt', 'Bwd Pkt Len Max', 'Pkt Len Min', 'Bwd Header Len', 'TotLen Fwd Pkts', 'Subflow Bwd Byts', 'Bwd Pkt Len Std', 'Tot Fwd Pkts', 'PSH Flag Cnt', 'Subflow Bwd Pkts'], 'Normal sample 234': ['SYN Flag Cnt', 'Bwd Pkt Len Min', 'Pkt Len Std', 'Pkt Len Min', 'Flow Byts/s', 'Pkt Len Mean', 'Fwd IAT Min', 'Idle Max', 'Bwd URG Flags', 'Bwd Seg Size Avg'], 'Normal sample 235': ['Bwd PSH Flags', 'Pkt Len Min', 'Bwd Seg Size Avg', 'Bwd URG Flags', 'Flow Duration', 'Tot Fwd Pkts', 'TotLen Bwd Pkts', 'Fwd Pkt Len Max', 'Fwd Pkt Len Min', 'Bwd Pkt Len Max'], 'Normal sample 236': ['Subflow Fwd Byts', 'Idle Std', 'Active Std', 'Init Bwd Win Byts', 'TotLen Bwd Pkts', 'Subflow Fwd Pkts', 'Bwd Pkt Len Std', 'Idle Max', 'Tot Bwd Pkts', 'Bwd IAT Max'], 'Normal sample 237': ['Pkt Len Min', 'Fwd Pkts/s', 'Fwd IAT Std', 'Active Mean', 'Flow Duration', 'Tot Fwd Pkts', 'Fwd Pkt Len Min', 'Bwd Pkt Len Min', 'Flow Byts/s', 'Flow IAT Mean'], 'Normal sample 238': ['Init Bwd Win Byts', 'Idle Mean', 'Bwd Pkt Len Std', 'Bwd IAT Min', 'Idle Max', 'Flow Duration', 'Subflow Bwd Byts', 'Active Mean', 'Fwd IAT Tot', 'Bwd Pkt Len Mean'], 'Normal sample 239': ['Bwd IAT Min', 'Init Bwd Win Byts', 'Subflow Bwd Byts', 'Fwd Header Len', 'Bwd Seg Size Avg', 'Idle Min', 'Flow Duration', 'Flow IAT Min', 'Tot Fwd Pkts', 'TotLen Fwd Pkts'], 'Normal sample 240': ['Init Bwd Win Byts', 'Idle Std', 'Flow Duration', 'Idle Max', 'Fwd IAT Mean', 'Subflow Fwd Pkts', 'TotLen Fwd Pkts', 'Bwd Pkt Len Std', 'Bwd Seg Size Avg', 'Bwd IAT Min'], 'Normal sample 241': ['SYN Flag Cnt', 'Bwd Pkt Len Max', 'PSH Flag Cnt', 'Subflow Fwd Byts', 'FIN Flag Cnt', 'Pkt Len Min', 'Bwd Header Len', 'Idle Mean', 'Tot Fwd Pkts', 'Tot Bwd Pkts'], 'Normal sample 242': ['Idle Min', 'Fwd Pkt Len Min', 'Init Bwd Win Byts', 'Bwd Pkt Len Mean', 'Subflow Fwd Pkts', 'Idle Max', 'Active Std', 'Fwd IAT Min', 'Bwd Seg Size Avg', 'Active Min'], 'Normal sample 243': ['SYN Flag Cnt', 'Bwd Pkt Len Max', 'FIN Flag Cnt', 'Idle Std', 'Fwd IAT Mean', 'Bwd IAT Tot', 'Bwd IAT Min', 'Flow Duration', 'Tot Fwd Pkts', 'Tot Bwd Pkts'], 'Normal sample 244': ['Bwd PSH Flags', 'Bwd IAT Std', 'Bwd IAT Max', 'Pkt Len Min', 'Bwd Pkt Len Min', 'ACK Flag Cnt', 'Idle Max', 'TotLen Bwd Pkts', 'Tot Bwd Pkts', 'Idle Mean'], 'Normal sample 245': ['Pkt Len Min', 'Pkt Len Std', 'Pkt Len Mean', 'Pkt Size Avg', 'Pkt Len Max', 'Flow Pkts/s', 'Fwd Pkt Len Mean', 'Fwd Pkt Len Std', 'Fwd IAT Std', 'Down/Up Ratio'], 'Normal sample 246': ['Bwd Seg Size Avg', 'Idle Max', 'Subflow Bwd Pkts', 'Active Mean', 'Idle Mean', 'Idle Min', 'Bwd Header Len', 'Bwd IAT Tot', 'Fwd Pkt Len Min', 'Tot Bwd Pkts'], 'Normal sample 247': ['Init Bwd Win Byts', 'Pkt Len Var', 'Active Mean', 'TotLen Bwd Pkts', 'Fwd IAT Min', 'Idle Max', 'Bwd Pkt Len Max', 'Bwd Seg Size Avg', 'Active Max', 'Bwd Header Len'], 'Normal sample 248': ['FIN Flag Cnt', 'Down/Up Ratio', 'Flow Pkts/s', 'Pkt Len Min', 'Subflow Fwd Pkts', 'URG Flag Cnt', 'Flow IAT Max', 'Fwd Pkts/s', 'Bwd Pkt Len Mean', 'Bwd Pkts/s'], 'Normal sample 249': ['Bwd IAT Tot', 'Tot Fwd Pkts', 'Fwd Pkts/s', 'Fwd IAT Max', 'Idle Max', 'Subflow Bwd Byts', 'Tot Bwd Pkts', 'TotLen Fwd Pkts', 'Fwd Pkt Len Min', 'Fwd Pkt Len Std'], 'Normal sample 250': ['Bwd Pkt Len Mean', 'Idle Max', 'Flow IAT Mean', 'Fwd IAT Min', 'Init Bwd Win Byts', 'Idle Mean', 'Tot Bwd Pkts', 'Bwd Pkt Len Std', 'Fwd Pkt Len Min', 'Flow IAT Std'], 'Normal sample 251': ['Init Bwd Win Byts', 'Down/Up Ratio', 'Bwd Pkt Len Std', 'Bwd Seg Size Avg', 'Idle Mean', 'Fwd IAT Tot', 'Fwd IAT Mean', 'Idle Std', 'Active Std', 'Idle Min'], 'Normal sample 252': ['Flow Duration', 'Init Bwd Win Byts', 'Idle Max', 'Fwd IAT Mean', 'Bwd IAT Min', 'Subflow Fwd Byts', 'Subflow Bwd Pkts', 'Idle Mean', 'Fwd Header Len', 'Tot Fwd Pkts'], 'Normal sample 253': ['Idle Min', 'Init Bwd Win Byts', 'Idle Max', 'Idle Mean', 'Fwd Act Data Pkts', 'Fwd Pkts/s', 'Active Min', 'Pkt Len Var', 'Bwd Pkt Len Std', 'TotLen Fwd Pkts'], 'Normal sample 254': ['SYN Flag Cnt', 'Bwd Pkt Len Max', 'Bwd IAT Max', 'Pkt Len Var', 'Idle Max', 'Active Max', 'Bwd IAT Tot', 'Flow Byts/s', 'Idle Std', 'Bwd IAT Std'], 'Normal sample 255': ['Fwd IAT Min', 'Bwd IAT Std', 'Flow IAT Mean', 'Init Bwd Win Byts', 'Bwd IAT Mean', 'Flow IAT Std', 'Bwd IAT Tot', 'Fwd IAT Std', 'Subflow Bwd Byts', 'Flow IAT Min'], 'Normal sample 256': ['Flow Duration', 'Tot Bwd Pkts', 'TotLen Bwd Pkts', 'Bwd Pkt Len Max', 'Bwd Pkt Len Mean', 'Bwd Pkt Len Std', 'Flow Pkts/s', 'Flow IAT Mean', 'Flow IAT Std', 'Fwd IAT Tot'], 'Normal sample 257': ['Init Bwd Win Byts', 'Fwd IAT Tot', 'Bwd Pkt Len Max', 'Idle Max', 'Fwd IAT Max', 'Bwd IAT Max', 'Bwd Pkt Len Mean', 'Idle Min', 'Bwd Header Len', 'Flow Byts/s'], 'Normal sample 258': ['Init Bwd Win Byts', 'Fwd IAT Mean', 'Flow Duration', 'Tot Fwd Pkts', 'TotLen Fwd Pkts', 'TotLen Bwd Pkts', 'Fwd Pkt Len Min', 'Bwd Pkt Len Min', 'Bwd Pkt Len Mean', 'Bwd Pkt Len Std'], 'Normal sample 259': ['Bwd Pkts/s', 'Fwd Pkts/s', 'Pkt Len Min', 'FIN Flag Cnt', 'Flow IAT Std', 'Bwd Pkt Len Min', 'Idle Mean', 'Fwd IAT Tot', 'Bwd Seg Size Avg', 'Bwd IAT Min'], 'Normal sample 260': ['SYN Flag Cnt', 'Bwd Pkt Len Mean', 'Fwd IAT Min', 'Subflow Bwd Pkts', 'Idle Mean', 'Active Mean', 'Bwd IAT Std', 'Pkt Len Var', 'Bwd Pkt Len Min', 'Idle Min'], 'Normal sample 261': ['Bwd PSH Flags', 'Bwd Pkt Len Min', 'Bwd Pkt Len Std', 'Pkt Len Min', 'Fwd Seg Size Avg', 'Fwd IAT Tot', 'Bwd Seg Size Avg', 'Active Max', 'Subflow Fwd Pkts', 'URG Flag Cnt'], 'Normal sample 262': ['Init Bwd Win Byts', 'Idle Mean', 'Fwd Act Data Pkts', 'Idle Max', 'Subflow Fwd Byts', 'Bwd Pkt Len Max', 'Bwd Seg Size Avg', 'Idle Min', 'Fwd Pkt Len Std', 'Active Min'], 'Normal sample 263': ['SYN Flag Cnt', 'Bwd IAT Std', 'Bwd IAT Max', 'Idle Max', 'Bwd Pkt Len Max', 'Idle Min', 'Fwd Pkts/s', 'Idle Mean', 'Flow IAT Mean', 'Active Mean'], 'Normal sample 264': ['Bwd Seg Size Avg', 'Subflow Bwd Pkts', 'Active Std', 'Subflow Fwd Byts', 'Idle Min', 'Idle Mean', 'PSH Flag Cnt', 'Fwd Pkt Len Std', 'Init Bwd Win Byts', 'TotLen Bwd Pkts'], 'Normal sample 265': ['Bwd Pkt Len Std', 'Idle Min', 'Init Bwd Win Byts', 'Idle Max', 'Fwd IAT Min', 'Bwd IAT Tot', 'Fwd Header Len', 'Fwd IAT Std', 'Flow Duration', 'Tot Bwd Pkts'], 'Normal sample 266': ['SYN Flag Cnt', 'Pkt Len Var', 'Bwd Pkt Len Max', 'Tot Fwd Pkts', 'Flow Duration', 'Fwd IAT Max', 'Tot Bwd Pkts', 'TotLen Bwd Pkts', 'Fwd Pkt Len Mean', 'Bwd Pkt Len Min'], 'Normal sample 267': ['Idle Max', 'Fwd IAT Tot', 'TotLen Fwd Pkts', 'Fwd IAT Std', 'Bwd Seg Size Avg', 'Bwd Pkt Len Mean', 'Flow IAT Min', 'Idle Min', 'Active Std', 'Subflow Fwd Byts'], 'Normal sample 268': ['Bwd Pkt Len Mean', 'Bwd Seg Size Avg', 'Flow IAT Std', 'Idle Mean', 'Active Mean', 'Fwd Act Data Pkts', 'Bwd IAT Tot', 'Fwd IAT Min', 'Fwd Pkt Len Min', 'Idle Std'], 'Normal sample 269': ['Idle Max', 'Init Bwd Win Byts', 'Fwd Pkts/s', 'Idle Min', 'TotLen Fwd Pkts', 'Fwd IAT Min', 'Flow IAT Min', 'Active Mean', 'Flow IAT Std', 'Fwd IAT Mean'], 'Normal sample 270': ['ACK Flag Cnt', 'Bwd IAT Std', 'Bwd IAT Max', 'Bwd IAT Tot', 'Pkt Len Var', 'Flow IAT Max', 'Flow IAT Mean', 'Subflow Fwd Byts', 'Fwd Pkts/s', 'TotLen Fwd Pkts'], 'Normal sample 271': ['Idle Max', 'Idle Min', 'Bwd Pkt Len Mean', 'Bwd IAT Min', 'Bwd Seg Size Avg', 'Active Mean', 'Fwd Pkts/s', 'Idle Mean', 'Tot Fwd Pkts', 'Tot Bwd Pkts'], 'Normal sample 272': ['ACK Flag Cnt', 'Bwd IAT Std', 'Bwd IAT Max', 'Bwd IAT Tot', 'Flow IAT Mean', 'Bwd IAT Mean', 'Flow IAT Std', 'Bwd Header Len', 'Bwd Pkts/s', 'Active Mean'], 'Normal sample 273': ['Idle Max', 'Bwd Seg Size Avg', 'Bwd URG Flags', 'Bwd Pkt Len Mean', 'Fwd Pkt Len Min', 'Idle Mean', 'Bwd IAT Min', 'Tot Bwd Pkts', 'Fwd IAT Std', 'TotLen Fwd Pkts'], 'Normal sample 274': ['Init Bwd Win Byts', 'Bwd Pkt Len Max', 'Idle Max', 'Bwd IAT Mean', 'Active Min', 'Bwd IAT Min', 'Idle Std', 'Flow Duration', 'Tot Bwd Pkts', 'TotLen Fwd Pkts'], 'Normal sample 275': ['SYN Flag Cnt', 'Bwd IAT Max', 'Bwd IAT Std', 'Bwd Pkt Len Max', 'Pkt Len Min', 'Flow IAT Mean', 'Bwd Pkt Len Mean', 'Bwd Pkt Len Std', 'Subflow Bwd Pkts', 'Tot Bwd Pkts'], 'Normal sample 276': ['Init Bwd Win Byts', 'Idle Min', 'Idle Max', 'Bwd Pkt Len Std', 'Idle Mean', 'Subflow Fwd Byts', 'Fwd IAT Mean', 'Fwd IAT Tot', 'Flow IAT Std', 'Fwd Pkts/s'], 'Normal sample 277': ['SYN Flag Cnt', 'Active Max', 'Pkt Len Mean', 'Fwd Seg Size Avg', 'Fwd Pkts/s', 'Down/Up Ratio', 'Bwd PSH Flags', 'Fwd IAT Max', 'Fwd Act Data Pkts', 'Bwd Seg Size Avg'], 'Normal sample 278': ['Init Bwd Win Byts', 'Idle Max', 'Fwd Pkt Len Std', 'Active Max', 'Subflow Fwd Pkts', 'Idle Mean', 'Idle Min', 'Flow IAT Max', 'Tot Bwd Pkts', 'Bwd IAT Min'], 'Normal sample 279': ['Pkt Len Mean', 'Pkt Len Max', 'Pkt Len Std', 'Pkt Size Avg', 'Flow Pkts/s', 'Pkt Len Min', 'Fwd Seg Size Avg', 'Flow Duration', 'PSH Flag Cnt', 'Active Max'], 'Normal sample 280': ['Idle Mean', 'Idle Max', 'Idle Std', 'Bwd Pkt Len Max', 'Active Max', 'Bwd IAT Min', 'Active Std', 'Bwd Pkt Len Std', 'Pkt Len Var', 'Idle Min'], 'Normal sample 281': ['Idle Max', 'Init Bwd Win Byts', 'Bwd IAT Min', 'Idle Std', 'Bwd IAT Mean', 'Fwd IAT Min', 'Bwd Pkt Len Std', 'Idle Min', 'Active Min', 'Subflow Bwd Pkts'], 'Normal sample 282': ['Init Bwd Win Byts', 'Flow IAT Mean', 'Fwd IAT Mean', 'Bwd IAT Tot', 'Idle Min', 'Bwd Seg Size Avg', 'Bwd Pkt Len Std', 'Idle Mean', 'Fwd Header Len', 'Fwd Pkt Len Std'], 'Normal sample 283': ['FIN Flag Cnt', 'Down/Up Ratio', 'Flow Pkts/s', 'Pkt Len Min', 'Pkt Size Avg', 'Bwd Pkts/s', 'Bwd IAT Min', 'Pkt Len Mean', 'Bwd Seg Size Avg', 'Pkt Len Max'], 'Normal sample 284': ['Bwd IAT Tot', 'ACK Flag Cnt', 'Bwd IAT Std', 'Bwd IAT Max', 'Idle Min', 'Flow IAT Max', 'Fwd Pkts/s', 'Bwd PSH Flags', 'Active Std', 'Flow IAT Mean'], 'Normal sample 285': ['Fwd IAT Tot', 'Subflow Fwd Pkts', 'Active Std', 'Idle Max', 'Idle Mean', 'TotLen Bwd Pkts', 'Fwd Pkts/s', 'Fwd Pkt Len Min', 'Idle Min', 'Bwd IAT Tot'], 'Normal sample 286': ['ACK Flag Cnt', 'Bwd IAT Std', 'Bwd IAT Tot', 'Bwd IAT Max', 'Fwd Act Data Pkts', 'Flow IAT Max', 'Flow IAT Mean', 'Flow IAT Std', 'Tot Fwd Pkts', 'Bwd IAT Mean'], 'Normal sample 287': ['Pkt Len Min', 'Pkt Size Avg', 'Down/Up Ratio', 'Pkt Len Mean', 'Fwd Pkt Len Std', 'Flow Pkts/s', 'Pkt Len Std', 'Fwd IAT Min', 'Fwd Pkt Len Max', 'Pkt Len Max'], 'Normal sample 288': ['Init Bwd Win Byts', 'Idle Mean', 'Tot Bwd Pkts', 'Flow IAT Min', 'Bwd Seg Size Avg', 'Bwd Pkt Len Max', 'Fwd IAT Max', 'Bwd IAT Tot', 'Active Max', 'Subflow Fwd Pkts'], 'Normal sample 289': ['FIN Flag Cnt', 'Down/Up Ratio', 'Pkt Len Min', 'Flow Pkts/s', 'Pkt Size Avg', 'Bwd Pkt Len Min', 'Subflow Bwd Pkts', 'Pkt Len Mean', 'Pkt Len Std', 'Active Mean'], 'Normal sample 290': ['SYN Flag Cnt', 'Bwd IAT Std', 'Idle Mean', 'Bwd IAT Max', 'Flow Byts/s', 'Bwd IAT Tot', 'URG Flag Cnt', 'Idle Max', 'Tot Bwd Pkts', 'Idle Min'], 'Normal sample 291': ['Bwd Pkt Len Max', 'Init Bwd Win Byts', 'ACK Flag Cnt', 'Tot Bwd Pkts', 'Bwd Pkt Len Std', 'Tot Fwd Pkts', 'TotLen Fwd Pkts', 'Bwd Pkt Len Min', 'Bwd Pkt Len Mean', 'Flow IAT Mean'], 'Normal sample 292': ['Bwd IAT Std', 'Flow IAT Mean', 'Bwd IAT Tot', 'Bwd IAT Max', 'Flow IAT Std', 'Bwd IAT Mean', 'Fwd Header Len', 'Bwd Pkt Len Mean', 'Fwd Pkt Len Std', 'Flow Byts/s'], 'Normal sample 293': ['Init Bwd Win Byts', 'Idle Max', 'Idle Min', 'Flow IAT Std', 'Fwd IAT Mean', 'Fwd Pkts/s', 'Fwd IAT Std', 'Active Min', 'Flow Duration', 'Pkt Len Var'], 'Normal sample 294': ['Idle Min', 'Flow Duration', 'Fwd Header Len', 'Subflow Bwd Pkts', 'Idle Max', 'Init Bwd Win Byts', 'Bwd Seg Size Avg', 'Bwd IAT Mean', 'Bwd Pkt Len Mean', 'Bwd PSH Flags'], 'Normal sample 295': ['Bwd IAT Max', 'Init Bwd Win Byts', 'Fwd Act Data Pkts', 'Bwd Seg Size Avg', 'Active Max', 'Idle Mean', 'Flow IAT Std', 'Flow Duration', 'Bwd IAT Mean', 'Bwd Pkt Len Mean'], 'Normal sample 296': ['SYN Flag Cnt', 'Bwd IAT Max', 'Active Min', 'Bwd IAT Std', 'Flow IAT Mean', 'Bwd IAT Tot', 'Tot Bwd Pkts', 'Active Max', 'TotLen Bwd Pkts', 'Bwd Header Len'], 'Normal sample 297': ['ACK Flag Cnt', 'Bwd IAT Max', 'Bwd IAT Std', 'Bwd IAT Tot', 'Bwd PSH Flags', 'Flow IAT Max', 'Fwd Pkts/s', 'Bwd Pkt Len Min', 'Idle Min', 'Bwd Seg Size Avg'], 'Normal sample 298': ['Down/Up Ratio', 'Flow Duration', 'Tot Fwd Pkts', 'TotLen Fwd Pkts', 'TotLen Bwd Pkts', 'Fwd Pkt Len Min', 'Bwd Pkt Len Max', 'Bwd Pkt Len Min', 'Bwd Pkt Len Std', 'Flow Byts/s'], 'Normal sample 299': ['Idle Max', 'Init Bwd Win Byts', 'Idle Min', 'TotLen Bwd Pkts', 'Subflow Bwd Byts', 'Subflow Bwd Pkts', 'Fwd IAT Max', 'Fwd IAT Tot', 'Fwd Header Len', 'Fwd IAT Mean'], 'Normal sample 300': ['Down/Up Ratio', 'Pkt Len Min', 'Pkt Len Mean', 'Pkt Len Max', 'Pkt Len Std', 'Flow Pkts/s', 'PSH Flag Cnt', 'Fwd Pkt Len Std', 'Active Max', 'Pkt Size Avg'], 'Normal sample 301': ['SYN Flag Cnt', 'Bwd IAT Std', 'Bwd Pkt Len Max', 'Bwd Pkt Len Std', 'Bwd IAT Max', 'Bwd Seg Size Avg', 'Bwd Pkt Len Mean', 'TotLen Fwd Pkts', 'Bwd Pkt Len Min', 'Tot Fwd Pkts'], 'Normal sample 302': ['Init Bwd Win Byts', 'Active Min', 'Idle Mean', 'Flow IAT Max', 'Active Mean', 'Fwd IAT Max', 'Bwd Pkt Len Mean', 'Bwd Pkt Len Max', 'Bwd IAT Min', 'Idle Max'], 'Normal sample 303': ['Active Max', 'Flow Pkts/s', 'Fwd Pkts/s', 'Fwd Pkt Len Std', 'Bwd IAT Min', 'Fwd Pkt Len Min', 'Flow Duration', 'Tot Fwd Pkts', 'Tot Bwd Pkts', 'TotLen Fwd Pkts'], 'Normal sample 304': ['Pkt Len Max', 'Pkt Len Min', 'Flow Pkts/s', 'Pkt Len Mean', 'Fwd Seg Size Avg', 'Pkt Size Avg', 'Fwd Pkt Len Mean', 'Pkt Len Std', 'Idle Std', 'Active Std'], 'Normal sample 305': ['SYN Flag Cnt', 'Bwd IAT Std', 'Bwd IAT Max', 'Bwd IAT Tot', 'Idle Std', 'Active Min', 'Fwd Pkts/s', 'Bwd IAT Min', 'Flow IAT Mean', 'Bwd Pkt Len Mean'], 'Normal sample 306': ['Init Bwd Win Byts', 'Idle Max', 'Fwd Header Len', 'Bwd Seg Size Avg', 'Flow Duration', 'Idle Mean', 'Idle Min', 'Active Max', 'Bwd IAT Max', 'Active Std'], 'Normal sample 307': ['Fwd Pkt Len Min', 'Init Bwd Win Byts', 'Idle Max', 'Fwd Act Data Pkts', 'Fwd IAT Mean', 'Idle Mean', 'Idle Std', 'Flow IAT Min', 'TotLen Bwd Pkts', 'Tot Bwd Pkts'], 'Normal sample 308': ['Bwd IAT Tot', 'ACK Flag Cnt', 'Bwd IAT Max', 'Bwd IAT Std', 'Flow IAT Max', 'Idle Max', 'Bwd PSH Flags', 'Pkt Len Min', 'Bwd Seg Size Avg', 'Tot Fwd Pkts'], 'Normal sample 309': ['SYN Flag Cnt', 'Bwd Pkt Len Std', 'Bwd Pkt Len Max', 'Bwd Pkt Len Mean', 'PSH Flag Cnt', 'Subflow Bwd Pkts', 'Idle Max', 'Bwd PSH Flags', 'URG Flag Cnt', 'Pkt Len Min'], 'Normal sample 310': ['ACK Flag Cnt', 'Bwd IAT Tot', 'Bwd IAT Max', 'Bwd IAT Std', 'Idle Max', 'Idle Mean', 'Bwd IAT Mean', 'Idle Min', 'Fwd IAT Min', 'Flow IAT Max'], 'Normal sample 311': ['ACK Flag Cnt', 'Bwd IAT Max', 'Bwd IAT Std', 'Bwd IAT Tot', 'Idle Max', 'Flow IAT Max', 'Bwd PSH Flags', 'Idle Mean', 'Pkt Len Min', 'Idle Min'], 'Normal sample 312': ['Pkt Len Min', 'Down/Up Ratio', 'Pkt Len Max', 'Pkt Size Avg', 'Pkt Len Mean', 'Fwd Seg Size Avg', 'Active Max', 'Flow Pkts/s', 'Bwd Pkt Len Min', 'PSH Flag Cnt'], 'Normal sample 313': ['ACK Flag Cnt', 'Bwd IAT Std', 'Bwd IAT Max', 'Flow IAT Mean', 'Bwd IAT Mean', 'Bwd Pkt Len Std', 'TotLen Bwd Pkts', 'Down/Up Ratio', 'Bwd IAT Tot', 'Flow IAT Min'], 'Normal sample 314': ['Pkt Len Min', 'Pkt Len Mean', 'Flow Pkts/s', 'Pkt Len Max', 'Down/Up Ratio', 'Fwd Seg Size Avg', 'Pkt Len Std', 'Fwd Pkt Len Max', 'Pkt Size Avg', 'Fwd Pkt Len Std'], 'Normal sample 315': ['Pkt Len Mean', 'Pkt Len Min', 'Down/Up Ratio', 'Flow Pkts/s', 'Pkt Len Max', 'Pkt Len Std', 'Pkt Size Avg', 'Fwd Pkt Len Std', 'Fwd Pkt Len Max', 'Flow IAT Std'], 'Normal sample 316': ['ACK Flag Cnt', 'Bwd IAT Max', 'Bwd IAT Tot', 'Flow IAT Max', 'Bwd IAT Std', 'Idle Std', 'Bwd IAT Mean', 'Idle Mean', 'Idle Min', 'Bwd Seg Size Avg'], 'Normal sample 317': ['Pkt Len Min', 'Down/Up Ratio', 'Pkt Len Var', 'Subflow Fwd Byts', 'Flow Duration', 'Tot Bwd Pkts', 'TotLen Fwd Pkts', 'TotLen Bwd Pkts', 'Bwd Pkt Len Min', 'Bwd Pkt Len Mean'], 'Normal sample 318': ['Init Bwd Win Byts', 'Bwd Pkt Len Max', 'Idle Min', 'Fwd IAT Min', 'Idle Max', 'Active Mean', 'Flow Duration', 'Tot Fwd Pkts', 'Tot Bwd Pkts', 'TotLen Fwd Pkts'], 'Normal sample 319': ['Init Bwd Win Byts', 'Flow IAT Std', 'Pkt Len Var', 'Idle Max', 'Fwd Header Len', 'Active Mean', 'Idle Min', 'TotLen Bwd Pkts', 'Bwd Pkt Len Max', 'Bwd Header Len'], 'Normal sample 320': ['Pkt Len Var', 'Init Bwd Win Byts', 'Bwd Pkt Len Std', 'Bwd Seg Size Avg', 'Idle Max', 'Bwd Pkt Len Mean', 'Fwd IAT Min', 'Fwd IAT Mean', 'Subflow Bwd Byts', 'Bwd Pkt Len Max'], 'Normal sample 321': ['SYN Flag Cnt', 'Pkt Len Min', 'Bwd Pkt Len Max', 'Idle Min', 'Bwd PSH Flags', 'Fwd IAT Mean', 'Bwd IAT Max', 'Fwd IAT Min', 'Down/Up Ratio', 'Active Mean'], 'Normal sample 322': ['Bwd PSH Flags', 'Down/Up Ratio', 'Pkt Len Min', 'Pkt Len Std', 'Subflow Bwd Byts', 'Flow Pkts/s', 'Bwd Pkt Len Std', 'Bwd Pkt Len Max', 'URG Flag Cnt', 'Fwd Pkt Len Max'], 'Normal sample 323': ['Down/Up Ratio', 'Init Bwd Win Byts', 'Bwd Seg Size Avg', 'Flow IAT Min', 'Bwd Pkt Len Std', 'Bwd Pkt Len Mean', 'Idle Mean', 'Bwd IAT Mean', 'Fwd Pkts/s', 'Bwd Pkt Len Max'], 'Normal sample 324': ['Init Bwd Win Byts', 'Bwd Pkt Len Mean', 'Idle Max', 'Fwd IAT Tot', 'Idle Min', 'Idle Std', 'Fwd Act Data Pkts', 'Flow IAT Max', 'Idle Mean', 'Pkt Len Var'], 'Normal sample 325': ['SYN Flag Cnt', 'Bwd IAT Tot', 'Bwd IAT Max', 'Bwd IAT Std', 'Flow IAT Mean', 'Flow IAT Std', 'TotLen Fwd Pkts', 'Fwd Pkts/s', 'Subflow Fwd Pkts', 'Bwd Pkt Len Min'], 'Normal sample 326': ['Init Bwd Win Byts', 'Subflow Fwd Byts', 'Fwd IAT Tot', 'Flow Pkts/s', 'Fwd IAT Std', 'Fwd Header Len', 'Flow IAT Min', 'Active Mean', 'Subflow Fwd Pkts', 'Tot Fwd Pkts'], 'Normal sample 327': ['Pkt Len Min', 'Pkt Len Max', 'Down/Up Ratio', 'Flow Pkts/s', 'Pkt Len Mean', 'Pkt Size Avg', 'Fwd Pkt Len Max', 'PSH Flag Cnt', 'Pkt Len Std', 'Fwd IAT Min'], 'Normal sample 328': ['SYN Flag Cnt', 'Bwd Pkt Len Max', 'Bwd IAT Mean', 'Subflow Bwd Pkts', 'ACK Flag Cnt', 'Active Max', 'Flow IAT Max', 'Bwd IAT Min', 'Bwd Seg Size Avg', 'Idle Min'], 'Normal sample 329': ['Init Bwd Win Byts', 'Flow Duration', 'Tot Fwd Pkts', 'Tot Bwd Pkts', 'TotLen Fwd Pkts', 'Bwd Pkt Len Max', 'Bwd Pkt Len Min', 'Flow IAT Min', 'Fwd IAT Tot', 'Fwd IAT Mean'], 'Normal sample 330': ['Bwd Pkt Len Std', 'Init Bwd Win Byts', 'Bwd Pkt Len Mean', 'Flow IAT Max', 'TotLen Fwd Pkts', 'Flow IAT Min', 'Bwd Pkt Len Max', 'Active Min', 'Bwd Seg Size Avg', 'Flow Duration'], 'Normal sample 331': ['Flow Duration', 'Tot Fwd Pkts', 'Tot Bwd Pkts', 'TotLen Bwd Pkts', 'Fwd Pkt Len Min', 'Bwd Pkt Len Min', 'Bwd Pkt Len Mean', 'Flow IAT Std', 'Flow IAT Max', 'Flow IAT Min'], 'Normal sample 332': ['Init Bwd Win Byts', 'Idle Max', 'Flow IAT Std', 'Subflow Fwd Pkts', 'Idle Mean', 'Bwd Pkt Len Max', 'Idle Min', 'Bwd Seg Size Avg', 'Bwd IAT Min', 'Active Max'], 'Normal sample 333': ['Pkt Len Min', 'Down/Up Ratio', 'Pkt Len Max', 'Pkt Len Std', 'Pkt Len Mean', 'Pkt Size Avg', 'PSH Flag Cnt', 'Flow Pkts/s', 'Active Max', 'Fwd Pkt Len Max'], 'Normal sample 334': ['Bwd Pkt Len Mean', 'Subflow Fwd Pkts', 'Flow Duration', 'Tot Fwd Pkts', 'Tot Bwd Pkts', 'TotLen Bwd Pkts', 'Fwd Pkt Len Std', 'Bwd Pkt Len Max', 'Bwd Pkt Len Std', 'Flow Pkts/s'], 'Normal sample 335': ['Pkt Len Min', 'Down/Up Ratio', 'Pkt Len Max', 'Fwd Seg Size Avg', 'Flow Pkts/s', 'Pkt Len Mean', 'Pkt Size Avg', 'Pkt Len Std', 'Flow IAT Std', 'Fwd Pkt Len Max'], 'Normal sample 336': ['SYN Flag Cnt', 'Bwd Pkt Len Max', 'Bwd Pkt Len Std', 'Bwd Seg Size Avg', 'Bwd IAT Min', 'Idle Mean', 'Idle Min', 'Bwd IAT Std', 'Fwd Pkts/s', 'Fwd Header Len'], 'Normal sample 337': ['Fwd Pkt Len Std', 'Fwd Pkts/s', 'Fwd Header Len', 'Bwd Pkt Len Mean', 'Active Mean', 'Init Bwd Win Byts', 'Bwd IAT Min', 'Bwd Pkt Len Max', 'Idle Mean', 'Bwd Pkt Len Std'], 'Normal sample 338': ['SYN Flag Cnt', 'Bwd IAT Std', 'Bwd IAT Tot', 'Bwd IAT Max', 'Flow IAT Mean', 'Bwd IAT Mean', 'Flow IAT Min', 'Flow IAT Std', 'Bwd PSH Flags', 'Bwd URG Flags'], 'Normal sample 339': ['ACK Flag Cnt', 'Bwd IAT Max', 'Bwd IAT Std', 'Flow IAT Mean', 'Bwd IAT Tot', 'Bwd IAT Mean', 'Tot Fwd Pkts', 'Bwd Pkt Len Min', 'Fwd Pkts/s', 'Flow IAT Std'], 'Normal sample 340': ['SYN Flag Cnt', 'Bwd Pkt Len Max', 'Tot Bwd Pkts', 'Tot Fwd Pkts', 'TotLen Fwd Pkts', 'TotLen Bwd Pkts', 'Fwd Pkt Len Min', 'Fwd Pkt Len Mean', 'Fwd Pkt Len Std', 'Bwd Pkt Len Min'], 'Normal sample 341': ['Init Bwd Win Byts', 'Idle Mean', 'Bwd Pkt Len Mean', 'Fwd IAT Mean', 'Idle Min', 'Fwd IAT Max', 'Pkt Len Var', 'Bwd IAT Mean', 'Bwd IAT Min', 'Idle Max'], 'Normal sample 342': ['Init Bwd Win Byts', 'Bwd Seg Size Avg', 'Bwd Pkt Len Max', 'Flow Pkts/s', 'Active Std', 'Bwd Pkt Len Std', 'Bwd Pkt Len Mean', 'Active Mean', 'Fwd Pkt Len Min', 'Idle Mean'], 'Normal sample 343': ['SYN Flag Cnt', 'Bwd Pkt Len Max', 'Bwd Seg Size Avg', 'Down/Up Ratio', 'Subflow Fwd Byts', 'Idle Max', 'Fwd Pkt Len Min', 'Tot Fwd Pkts', 'Tot Bwd Pkts', 'TotLen Fwd Pkts'], 'Normal sample 344': ['Init Bwd Win Byts', 'Idle Mean', 'TotLen Fwd Pkts', 'Fwd IAT Tot', 'Idle Min', 'Active Min', 'Fwd IAT Std', 'Flow Duration', 'Tot Fwd Pkts', 'Tot Bwd Pkts'], 'Normal sample 345': ['Init Bwd Win Byts', 'Flow Duration', 'Tot Fwd Pkts', 'Tot Bwd Pkts', 'TotLen Fwd Pkts', 'Fwd Pkt Len Min', 'Bwd Pkt Len Min', 'Bwd Pkt Len Mean', 'Flow IAT Min', 'Fwd IAT Tot'], 'Normal sample 346': ['Init Bwd Win Byts', 'Fwd IAT Mean', 'Idle Mean', 'Bwd Header Len', 'Flow IAT Max', 'Idle Min', 'Subflow Bwd Byts', 'Bwd Pkt Len Std', 'Idle Std', 'Fwd IAT Max'], 'Normal sample 347': ['Fwd IAT Min', 'Idle Mean', 'Bwd Seg Size Avg', 'Fwd IAT Max', 'Bwd Pkt Len Std', 'Init Bwd Win Byts', 'TotLen Bwd Pkts', 'Bwd IAT Mean', 'Tot Fwd Pkts', 'Active Min'], 'Normal sample 348': ['Idle Min', 'Idle Max', 'Bwd Pkt Len Std', 'Init Bwd Win Byts', 'Active Std', 'Fwd IAT Mean', 'Fwd IAT Tot', 'Active Min', 'Bwd IAT Tot', 'Flow Byts/s'], 'Normal sample 349': ['Init Bwd Win Byts', 'Idle Max', 'TotLen Bwd Pkts', 'Fwd IAT Mean', 'Subflow Fwd Byts', 'Bwd IAT Max', 'Fwd Pkts/s', 'Active Std', 'Bwd Header Len', 'Idle Std'], 'Normal sample 350': ['Pkt Len Min', 'Pkt Len Std', 'Pkt Len Max', 'Pkt Len Mean', 'Pkt Size Avg', 'PSH Flag Cnt', 'Active Min', 'Fwd Pkt Len Std', 'Flow Pkts/s', 'Active Std'], 'Normal sample 351': ['Bwd IAT Tot', 'Bwd IAT Std', 'Bwd IAT Max', 'ACK Flag Cnt', 'Idle Min', 'Idle Mean', 'Idle Max', 'Flow IAT Max', 'Pkt Len Var', 'Subflow Fwd Pkts'], 'Normal sample 352': ['Pkt Len Max', 'Down/Up Ratio', 'Pkt Size Avg', 'Pkt Len Min', 'PSH Flag Cnt', 'Pkt Len Mean', 'Fwd Seg Size Avg', 'Flow Pkts/s', 'Fwd IAT Tot', 'Tot Bwd Pkts'], 'Normal sample 353': ['Idle Mean', 'Init Bwd Win Byts', 'Bwd Header Len', 'Flow IAT Min', 'Active Min', 'Fwd Header Len', 'Bwd Pkt Len Max', 'Bwd IAT Mean', 'Bwd Seg Size Avg', 'Tot Bwd Pkts'], 'Normal sample 354': ['Idle Max', 'Init Bwd Win Byts', 'Active Max', 'URG Flag Cnt', 'Fwd Act Data Pkts', 'Fwd IAT Min', 'Idle Min', 'Subflow Bwd Byts', 'Active Std', 'Bwd Seg Size Avg'], 'Normal sample 355': ['Idle Min', 'Bwd Header Len', 'Init Bwd Win Byts', 'TotLen Fwd Pkts', 'Idle Max', 'Flow Duration', 'TotLen Bwd Pkts', 'Subflow Fwd Pkts', 'Bwd IAT Mean', 'Bwd Seg Size Avg'], 'Normal sample 356': ['Bwd PSH Flags', 'Bwd Pkt Len Min', 'Pkt Len Min', 'Fwd Pkts/s', 'Fwd Pkt Len Std', 'Pkt Len Std', 'Bwd IAT Mean', 'Fwd Pkt Len Max', 'Flow IAT Max', 'Active Std'], 'Normal sample 357': ['Pkt Len Min', 'Down/Up Ratio', 'Pkt Len Max', 'Pkt Size Avg', 'Flow Pkts/s', 'Pkt Len Std', 'Pkt Len Mean', 'Active Mean', 'Fwd Pkt Len Std', 'Bwd URG Flags'], 'Normal sample 358': ['Flow Duration', 'Tot Fwd Pkts', 'TotLen Fwd Pkts', 'TotLen Bwd Pkts', 'Fwd Pkt Len Min', 'Bwd Pkt Len Max', 'Bwd Pkt Len Min', 'Bwd Pkt Len Mean', 'Bwd Pkt Len Std', 'Flow IAT Mean'], 'Normal sample 359': ['ACK Flag Cnt', 'Bwd IAT Std', 'Bwd IAT Max', 'Bwd IAT Tot', 'Flow IAT Max', 'Bwd PSH Flags', 'Subflow Fwd Byts', 'Bwd IAT Mean', 'Idle Max', 'Idle Min'], 'Normal sample 360': ['Bwd IAT Tot', 'Idle Min', 'Fwd Pkts/s', 'Bwd IAT Mean', 'Flow Pkts/s', 'Active Std', 'Subflow Fwd Byts', 'Init Bwd Win Byts', 'Fwd Act Data Pkts', 'TotLen Fwd Pkts'], 'Normal sample 361': ['Pkt Len Min', 'Tot Fwd Pkts', 'TotLen Fwd Pkts', 'TotLen Bwd Pkts', 'Fwd Pkt Len Min', 'Bwd Pkt Len Min', 'Flow Byts/s', 'Flow IAT Min', 'Fwd IAT Tot', 'Fwd IAT Min'], 'Normal sample 362': ['ACK Flag Cnt', 'Bwd IAT Std', 'Bwd IAT Max', 'Bwd IAT Tot', 'Bwd IAT Mean', 'Flow IAT Max', 'Idle Std', 'Bwd PSH Flags', 'Idle Min', 'Subflow Bwd Byts'], 'Normal sample 363': ['ACK Flag Cnt', 'Bwd IAT Std', 'Bwd IAT Max', 'Bwd IAT Tot', 'Idle Mean', 'Tot Fwd Pkts', 'Flow IAT Max', 'Bwd PSH Flags', 'Idle Max', 'Active Min'], 'Normal sample 364': ['FIN Flag Cnt', 'Flow Pkts/s', 'Down/Up Ratio', 'Pkt Len Min', 'Pkt Len Mean', 'Pkt Len Max', 'Bwd Pkt Len Min', 'Pkt Size Avg', 'Bwd IAT Mean', 'Bwd Pkt Len Mean'], 'Normal sample 365': ['Bwd PSH Flags', 'Bwd Pkt Len Min', 'Active Std', 'Bwd IAT Min', 'Fwd Pkt Len Std', 'Fwd IAT Std', 'Pkt Len Min', 'Subflow Bwd Pkts', 'Fwd IAT Min', 'Bwd Pkt Len Max'], 'Normal sample 366': ['Tot Bwd Pkts', 'TotLen Bwd Pkts', 'Fwd Pkt Len Min', 'Bwd Pkt Len Min', 'Bwd Pkt Len Mean', 'Bwd Pkt Len Std', 'Flow Pkts/s', 'Flow IAT Mean', 'Flow IAT Min', 'Fwd IAT Tot'], 'Normal sample 367': ['Idle Mean', 'Bwd Seg Size Avg', 'Bwd Pkt Len Max', 'Bwd Pkt Len Mean', 'Subflow Fwd Byts', 'Fwd Pkts/s', 'Idle Max', 'Tot Bwd Pkts', 'Idle Min', 'Flow Pkts/s'], 'Normal sample 368': ['Init Bwd Win Byts', 'Pkt Len Var', 'Tot Bwd Pkts', 'Flow IAT Std', 'Bwd Seg Size Avg', 'Idle Min', 'Subflow Bwd Pkts', 'Bwd Pkt Len Max', 'Fwd IAT Std', 'Tot Fwd Pkts'], 'Normal sample 369': ['Fwd Act Data Pkts', 'Idle Mean', 'Init Bwd Win Byts', 'Fwd Pkt Len Std', 'Bwd Seg Size Avg', 'TotLen Bwd Pkts', 'Bwd Pkt Len Max', 'Bwd IAT Mean', 'Fwd IAT Mean', 'Bwd URG Flags'], 'Normal sample 370': ['Bwd IAT Std', 'Idle Mean', 'Bwd Pkt Len Std', 'Bwd IAT Max', 'Init Bwd Win Byts', 'Idle Max', 'Idle Min', 'Fwd IAT Mean', 'Flow IAT Mean', 'Fwd Header Len'], 'Normal sample 371': ['Init Bwd Win Byts', 'Fwd Pkt Len Std', 'Fwd Act Data Pkts', 'Idle Min', 'Bwd Pkt Len Max', 'Bwd Header Len', 'Tot Bwd Pkts', 'TotLen Fwd Pkts', 'Fwd Pkt Len Max', 'Fwd Pkt Len Min'], 'Normal sample 372': ['Init Bwd Win Byts', 'Active Std', 'Bwd Seg Size Avg', 'Subflow Bwd Byts', 'Fwd Pkt Len Std', 'Idle Min', 'Bwd Pkt Len Max', 'Idle Max', 'Subflow Fwd Byts', 'Flow Duration'], 'Normal sample 373': ['Init Bwd Win Byts', 'Active Max', 'Idle Mean', 'Idle Min', 'Bwd IAT Mean', 'Bwd Seg Size Avg', 'Flow IAT Max', 'Active Std', 'Bwd IAT Max', 'Idle Max'], 'Normal sample 374': ['SYN Flag Cnt', 'Bwd IAT Std', 'Bwd IAT Max', 'Bwd IAT Tot', 'Bwd Pkt Len Max', 'Bwd Pkt Len Std', 'Bwd Seg Size Avg', 'Pkt Len Min', 'URG Flag Cnt', 'Bwd Pkt Len Mean'], 'Normal sample 375': ['Tot Bwd Pkts', 'Active Min', 'Init Bwd Win Byts', 'Bwd Pkt Len Mean', 'Bwd Pkt Len Max', 'Idle Mean', 'Idle Min', 'Bwd IAT Max', 'Flow Duration', 'Tot Fwd Pkts'], 'Normal sample 376': ['Pkt Len Min', 'Fwd Pkt Len Max', 'Down/Up Ratio', 'Pkt Len Mean', 'Pkt Len Std', 'Flow Pkts/s', 'Pkt Size Avg', 'Pkt Len Max', 'Bwd IAT Min', 'Fwd Pkt Len Mean'], 'Normal sample 377': ['SYN Flag Cnt', 'Bwd Pkt Len Max', 'Idle Std', 'Bwd IAT Tot', 'Fwd IAT Mean', 'Subflow Fwd Byts', 'PSH Flag Cnt', 'Bwd Pkt Len Std', 'Fwd IAT Std', 'Active Std'], 'Normal sample 378': ['Idle Mean', 'Init Bwd Win Byts', 'Tot Fwd Pkts', 'Fwd Pkts/s', 'Idle Max', 'Bwd Pkt Len Max', 'Bwd Pkt Len Mean', 'Fwd Act Data Pkts', 'Fwd IAT Tot', 'Idle Min'], 'Normal sample 379': ['Fwd Act Data Pkts', 'Bwd Seg Size Avg', 'TotLen Fwd Pkts', 'Idle Mean', 'Init Bwd Win Byts', 'Bwd Pkt Len Max', 'Idle Min', 'Bwd IAT Tot', 'Idle Max', 'Subflow Bwd Pkts'], 'Normal sample 380': ['SYN Flag Cnt', 'Bwd Pkt Len Max', 'Bwd Pkt Len Std', 'URG Flag Cnt', 'Bwd IAT Std', 'Active Std', 'Active Max', 'Idle Min', 'Down/Up Ratio', 'TotLen Bwd Pkts'], 'Normal sample 381': ['SYN Flag Cnt', 'Bwd Pkt Len Max', 'Bwd Pkt Len Std', 'Idle Mean', 'Bwd Seg Size Avg', 'Bwd Header Len', 'Pkt Len Min', 'Subflow Bwd Pkts', 'Bwd IAT Std', 'Down/Up Ratio'], 'Normal sample 382': ['FIN Flag Cnt', 'Flow Pkts/s', 'Down/Up Ratio', 'Pkt Len Min', 'Fwd Pkt Len Max', 'Flow IAT Mean', 'PSH Flag Cnt', 'Pkt Len Std', 'Pkt Len Max', 'Bwd Pkt Len Mean'], 'Normal sample 383': ['Idle Max', 'Init Bwd Win Byts', 'TotLen Fwd Pkts', 'Fwd Pkt Len Std', 'Subflow Bwd Pkts', 'Tot Bwd Pkts', 'Flow IAT Min', 'Fwd Pkts/s', 'Flow Duration', 'Fwd Pkt Len Max'], 'Normal sample 384': ['Init Bwd Win Byts', 'Idle Max', 'TotLen Bwd Pkts', 'Idle Min', 'Subflow Fwd Byts', 'Idle Std', 'Fwd IAT Std', 'Pkt Len Var', 'Tot Fwd Pkts', 'Flow IAT Std'], 'Normal sample 385': ['Init Bwd Win Byts', 'Idle Max', 'Idle Min', 'Idle Mean', 'TotLen Bwd Pkts', 'Subflow Bwd Byts', 'Flow Byts/s', 'Bwd Seg Size Avg', 'Fwd IAT Mean', 'Tot Bwd Pkts'], 'Normal sample 386': ['Idle Max', 'Bwd IAT Tot', 'Tot Fwd Pkts', 'Bwd Pkt Len Std', 'Active Std', 'Bwd Seg Size Avg', 'Fwd Pkt Len Min', 'Fwd IAT Tot', 'Fwd IAT Mean', 'Active Mean'], 'Normal sample 387': ['SYN Flag Cnt', 'Bwd Pkt Len Max', 'Pkt Len Min', 'Tot Fwd Pkts', 'Tot Bwd Pkts', 'TotLen Fwd Pkts', 'TotLen Bwd Pkts', 'Fwd Pkt Len Min', 'Bwd Pkt Len Min', 'Bwd Pkt Len Std'], 'Normal sample 388': ['Pkt Len Min', 'Flow IAT Min', 'Tot Fwd Pkts', 'Fwd IAT Std', 'Pkt Len Var', 'Fwd IAT Max', 'Subflow Bwd Byts', 'Down/Up Ratio', 'Fwd Pkts/s', 'Bwd URG Flags'], 'Normal sample 389': ['SYN Flag Cnt', 'Bwd Header Len', 'Fwd Header Len', 'Idle Min', 'TotLen Fwd Pkts', 'Bwd URG Flags', 'Tot Fwd Pkts', 'TotLen Bwd Pkts', 'Fwd Pkt Len Min', 'Bwd Pkt Len Max'], 'Normal sample 390': ['Idle Mean', 'Init Bwd Win Byts', 'Bwd IAT Tot', 'Idle Min', 'Active Mean', 'Bwd Seg Size Avg', 'Fwd IAT Tot', 'Bwd Pkt Len Std', 'Fwd Act Data Pkts', 'Subflow Fwd Byts'], 'Normal sample 391': ['Bwd IAT Tot', 'Bwd IAT Max', 'Idle Max', 'ACK Flag Cnt', 'Bwd PSH Flags', 'Bwd IAT Std', 'Idle Std', 'Flow IAT Max', 'Active Max', 'Bwd Header Len'], 'Normal sample 392': ['Bwd Pkt Len Max', 'Init Bwd Win Byts', 'Active Max', 'Bwd Header Len', 'Bwd IAT Min', 'Flow Duration', 'Fwd Pkt Len Min', 'Fwd Pkt Len Std', 'Flow Pkts/s', 'Flow IAT Mean'], 'Normal sample 393': ['Init Bwd Win Byts', 'Idle Min', 'Subflow Fwd Byts', 'Fwd IAT Tot', 'Bwd Seg Size Avg', 'Idle Max', 'Subflow Fwd Pkts', 'Bwd Header Len', 'Active Std', 'Bwd Pkt Len Mean'], 'Normal sample 394': ['Down/Up Ratio', 'Pkt Len Min', 'Pkt Len Std', 'Pkt Len Max', 'Pkt Size Avg', 'Fwd Pkt Len Std', 'Pkt Len Mean', 'Flow Pkts/s', 'Fwd IAT Max', 'Fwd Pkt Len Max'], 'Normal sample 395': ['Tot Fwd Pkts', 'Tot Bwd Pkts', 'Fwd Pkt Len Min', 'Bwd Pkt Len Min', 'Bwd Pkt Len Std', 'Flow Pkts/s', 'Flow IAT Std', 'Flow IAT Min', 'Fwd IAT Tot', 'Fwd IAT Std'], 'Normal sample 396': ['Pkt Len Max', 'Pkt Len Min', 'Pkt Size Avg', 'Pkt Len Std', 'Flow Pkts/s', 'Pkt Len Mean', 'Down/Up Ratio', 'Bwd Pkt Len Mean', 'Active Max', 'Fwd Pkt Len Std'], 'Normal sample 397': ['Bwd IAT Mean', 'TotLen Fwd Pkts', 'Down/Up Ratio', 'Flow Duration', 'Tot Fwd Pkts', 'TotLen Bwd Pkts', 'Fwd Pkt Len Min', 'Bwd Pkt Len Max', 'Bwd Pkt Len Mean', 'Flow Byts/s'], 'Normal sample 398': ['Idle Mean', 'Fwd IAT Tot', 'Fwd IAT Max', 'Idle Max', 'Subflow Fwd Byts', 'Idle Min', 'Bwd Seg Size Avg', 'Bwd URG Flags', 'Bwd IAT Min', 'Idle Std'], 'Normal sample 399': ['Init Bwd Win Byts', 'Idle Std', 'Active Min', 'Bwd Pkt Len Max', 'Subflow Bwd Byts', 'Subflow Fwd Byts', 'Subflow Bwd Pkts', 'Subflow Fwd Pkts', 'Idle Min', 'Fwd IAT Min'], 'Normal sample 400': ['Pkt Len Min', 'Down/Up Ratio', 'Pkt Len Mean', 'Pkt Len Max', 'Idle Std', 'Pkt Len Std', 'Fwd Seg Size Avg', 'Fwd IAT Max', 'Subflow Fwd Byts', 'Active Mean'], 'Normal sample 401': ['Init Bwd Win Byts', 'Idle Min', 'TotLen Bwd Pkts', 'Bwd Pkt Len Std', 'Active Min', 'Bwd IAT Mean', 'Active Mean', 'Flow Duration', 'Tot Bwd Pkts', 'TotLen Fwd Pkts'], 'Normal sample 402': ['FIN Flag Cnt', 'Down/Up Ratio', 'Flow Pkts/s', 'Pkt Len Mean', 'Pkt Len Min', 'Pkt Size Avg', 'Fwd IAT Max', 'Fwd Seg Size Avg', 'Bwd URG Flags', 'TotLen Bwd Pkts'], 'Normal sample 403': ['Pkt Len Min', 'Pkt Len Mean', 'Pkt Len Std', 'Pkt Len Max', 'Pkt Size Avg', 'Fwd Pkt Len Max', 'Fwd Pkt Len Mean', 'Flow Pkts/s', 'Fwd Seg Size Avg', 'Flow Byts/s'], 'Normal sample 404': ['SYN Flag Cnt', 'Bwd Pkt Len Max', 'Bwd IAT Std', 'Bwd Pkt Len Std', 'Bwd IAT Mean', 'Bwd IAT Max', 'Bwd Header Len', 'Bwd IAT Tot', 'Pkt Len Var', 'Fwd Act Data Pkts'], 'Normal sample 405': ['Init Bwd Win Byts', 'Bwd Pkt Len Std', 'Flow IAT Std', 'Fwd IAT Max', 'Fwd Header Len', 'TotLen Bwd Pkts', 'Bwd Pkt Len Mean', 'TotLen Fwd Pkts', 'Active Min', 'Flow Pkts/s'], 'Normal sample 406': ['Bwd Pkt Len Std', 'Idle Max', 'Subflow Fwd Pkts', 'Flow IAT Max', 'Bwd Seg Size Avg', 'Fwd IAT Max', 'Subflow Bwd Byts', 'Subflow Bwd Pkts', 'Active Min', 'Bwd Pkt Len Max'], 'Normal sample 407': ['Subflow Fwd Pkts', 'Fwd IAT Min', 'Bwd Header Len', 'TotLen Fwd Pkts', 'Idle Mean', 'Idle Min', 'Init Bwd Win Byts', 'Bwd IAT Tot', 'Bwd IAT Max', 'Subflow Bwd Pkts'], 'Normal sample 408': ['Bwd PSH Flags', 'Bwd Pkt Len Min', 'Pkt Len Min', 'Idle Mean', 'Subflow Fwd Pkts', 'Fwd IAT Std', 'Fwd Seg Size Avg', 'Bwd Pkt Len Std', 'Bwd Header Len', 'Active Max'], 'Normal sample 409': ['Init Bwd Win Byts', 'Idle Min', 'Subflow Fwd Byts', 'Subflow Bwd Byts', 'Bwd Pkt Len Max', 'TotLen Fwd Pkts', 'Fwd Act Data Pkts', 'Active Std', 'Flow IAT Mean', 'Fwd IAT Tot'], 'Normal sample 410': ['SYN Flag Cnt', 'Bwd Pkt Len Max', 'Pkt Len Var', 'Tot Bwd Pkts', 'Fwd IAT Max', 'Active Std', 'Flow IAT Mean', 'Bwd Header Len', 'FIN Flag Cnt', 'Fwd Seg Size Avg'], 'Normal sample 411': ['Idle Max', 'Subflow Bwd Pkts', 'Active Std', 'Bwd IAT Tot', 'Flow IAT Mean', 'Fwd Header Len', 'Fwd IAT Max', 'Fwd Pkt Len Std', 'Idle Std', 'Idle Mean'], 'Normal sample 412': ['SYN Flag Cnt', 'Bwd IAT Max', 'Bwd IAT Std', 'Bwd IAT Tot', 'Flow IAT Mean', 'Flow IAT Max', 'Pkt Size Avg', 'Bwd PSH Flags', 'Bwd IAT Min', 'Active Min'], 'Normal sample 413': ['Bwd PSH Flags', 'Pkt Len Min', 'Down/Up Ratio', 'Bwd Header Len', 'Bwd URG Flags', 'Bwd Pkt Len Mean', 'Fwd Pkt Len Std', 'Bwd Pkt Len Max', 'Tot Fwd Pkts', 'Subflow Fwd Byts'], 'Normal sample 414': ['Init Bwd Win Byts', 'Idle Min', 'Idle Max', 'Bwd Pkt Len Max', 'Tot Fwd Pkts', 'Bwd Seg Size Avg', 'Subflow Bwd Byts', 'Bwd URG Flags', 'Bwd Pkt Len Std', 'Fwd IAT Max'], 'Normal sample 415': ['ACK Flag Cnt', 'Bwd IAT Max', 'Bwd IAT Std', 'Idle Mean', 'Idle Min', 'Bwd IAT Tot', 'Flow IAT Max', 'Idle Max', 'Bwd Pkt Len Std', 'Flow IAT Mean'], 'Normal sample 416': ['Init Bwd Win Byts', 'Idle Max', 'Bwd Pkt Len Max', 'Idle Min', 'Fwd Pkt Len Std', 'Fwd Header Len', 'Fwd IAT Mean', 'Flow IAT Std', 'Fwd Pkts/s', 'Bwd Pkt Len Std'], 'Normal sample 417': ['Idle Mean', 'Idle Max', 'Init Bwd Win Byts', 'TotLen Fwd Pkts', 'Fwd IAT Std', 'Active Mean', 'Idle Std', 'Bwd Seg Size Avg', 'Idle Min', 'Fwd IAT Max'], 'Normal sample 418': ['FIN Flag Cnt', 'Down/Up Ratio', 'Flow Pkts/s', 'Pkt Len Min', 'Bwd Pkt Len Min', 'Pkt Len Mean', 'Flow Byts/s', 'Subflow Bwd Byts', 'Bwd Pkts/s', 'Flow IAT Std'], 'Normal sample 419': ['Init Bwd Win Byts', 'Idle Min', 'Idle Max', 'Fwd IAT Min', 'Idle Mean', 'Bwd Seg Size Avg', 'Bwd Header Len', 'Active Max', 'Tot Bwd Pkts', 'Bwd Pkt Len Mean'], 'Normal sample 420': ['SYN Flag Cnt', 'Bwd Pkt Len Max', 'Bwd Pkt Len Std', 'Fwd IAT Tot', 'Pkt Len Min', 'Flow IAT Min', 'Idle Std', 'Bwd Seg Size Avg', 'Bwd URG Flags', 'Flow IAT Max'], 'Normal sample 421': ['Init Bwd Win Byts', 'Active Mean', 'Subflow Bwd Pkts', 'Idle Max', 'Active Min', 'Fwd Header Len', 'Fwd IAT Min', 'Idle Mean', 'Bwd Pkt Len Mean', 'Flow IAT Mean'], 'Normal sample 422': ['Fwd Pkts/s', 'Init Bwd Win Byts', 'Active Min', 'Idle Max', 'Bwd Seg Size Avg', 'Idle Min', 'Fwd IAT Std', 'Idle Std', 'Fwd IAT Mean', 'Tot Fwd Pkts'], 'Normal sample 423': ['Init Bwd Win Byts', 'Fwd IAT Max', 'Idle Max', 'Tot Fwd Pkts', 'Fwd IAT Tot', 'Pkt Len Var', 'Bwd Header Len', 'Fwd IAT Mean', 'Active Std', 'Idle Std'], 'Normal sample 424': ['Down/Up Ratio', 'Init Bwd Win Byts', 'Bwd Pkt Len Std', 'Idle Mean', 'Bwd Pkt Len Max', 'Idle Min', 'Fwd Seg Size Avg', 'Fwd IAT Mean', 'Bwd Pkt Len Mean', 'Subflow Fwd Pkts'], 'Normal sample 425': ['Init Bwd Win Byts', 'Idle Max', 'Bwd Pkt Len Std', 'Bwd IAT Tot', 'Fwd Pkt Len Std', 'TotLen Bwd Pkts', 'Idle Mean', 'Idle Min', 'Bwd Seg Size Avg', 'Fwd IAT Min'], 'Normal sample 426': ['Pkt Len Min', 'Down/Up Ratio', 'Pkt Len Std', 'Pkt Size Avg', 'Pkt Len Mean', 'Pkt Len Max', 'Flow Pkts/s', 'Fwd IAT Std', 'Active Min', 'Flow IAT Min'], 'Normal sample 427': ['ACK Flag Cnt', 'Bwd IAT Max', 'Bwd IAT Std', 'Bwd IAT Tot', 'Fwd IAT Min', 'Flow IAT Max', 'Subflow Bwd Pkts', 'Flow IAT Mean', 'Idle Std', 'Fwd Pkt Len Min'], 'Normal sample 428': ['Bwd PSH Flags', 'Bwd Pkt Len Min', 'Pkt Len Min', 'Bwd Seg Size Avg', 'Flow IAT Max', 'Idle Min', 'TotLen Bwd Pkts', 'Pkt Len Var', 'Fwd IAT Mean', 'Flow Duration'], 'Normal sample 429': ['Pkt Len Min', 'Pkt Len Max', 'Pkt Len Mean', 'Fwd Seg Size Avg', 'Flow Pkts/s', 'Pkt Size Avg', 'Pkt Len Std', 'TotLen Fwd Pkts', 'Fwd Pkt Len Std', 'Fwd Pkt Len Mean'], 'Normal sample 430': ['Init Bwd Win Byts', 'Bwd Seg Size Avg', 'Idle Max', 'Idle Mean', 'Active Mean', 'Bwd IAT Mean', 'Fwd IAT Tot', 'Fwd Pkts/s', 'Tot Fwd Pkts', 'Flow Byts/s'], 'Normal sample 431': ['Idle Max', 'Pkt Len Var', 'Fwd Header Len', 'Bwd IAT Tot', 'Bwd Pkt Len Mean', 'Subflow Bwd Byts', 'Idle Min', 'Idle Std', 'TotLen Fwd Pkts', 'Bwd Pkt Len Max'], 'Normal sample 432': ['FIN Flag Cnt', 'Down/Up Ratio', 'Flow Pkts/s', 'Pkt Len Min', 'Pkt Len Mean', 'Bwd Pkt Len Min', 'Pkt Len Max', 'Bwd Pkt Len Mean', 'Pkt Len Std', 'Idle Std'], 'Normal sample 433': ['Init Bwd Win Byts', 'Idle Max', 'Idle Min', 'Bwd Pkt Len Max', 'Fwd Act Data Pkts', 'Subflow Bwd Byts', 'TotLen Bwd Pkts', 'Bwd IAT Tot', 'Idle Std', 'Subflow Fwd Byts'], 'Normal sample 434': ['Active Min', 'Init Bwd Win Byts', 'Idle Mean', 'Idle Max', 'Fwd IAT Mean', 'Subflow Fwd Byts', 'Bwd IAT Mean', 'Idle Min', 'Bwd Seg Size Avg', 'Subflow Fwd Pkts'], 'Normal sample 435': ['Bwd PSH Flags', 'Bwd IAT Std', 'Bwd IAT Max', 'Idle Std', 'Bwd Pkt Len Max', 'Bwd Pkt Len Std', 'Fwd Pkt Len Min', 'Pkt Len Min', 'Flow Byts/s', 'Fwd Pkt Len Mean'], 'Normal sample 436': ['Pkt Len Max', 'Pkt Len Min', 'Pkt Len Std', 'Flow Pkts/s', 'Pkt Len Mean', 'Fwd Pkt Len Std', 'Pkt Size Avg', 'Fwd Pkt Len Mean', 'Fwd Pkt Len Max', 'Fwd Seg Size Avg'], 'Normal sample 437': ['Init Bwd Win Byts', 'Idle Std', 'Idle Min', 'Fwd Act Data Pkts', 'Bwd PSH Flags', 'Bwd Header Len', 'Fwd Pkts/s', 'Idle Mean', 'Subflow Fwd Pkts', 'TotLen Fwd Pkts'], 'Normal sample 438': ['SYN Flag Cnt', 'Bwd IAT Tot', 'Bwd IAT Max', 'Flow Byts/s', 'Bwd Pkt Len Max', 'Subflow Fwd Byts', 'Idle Max', 'Pkt Len Min', 'Subflow Fwd Pkts', 'Tot Bwd Pkts'], 'Normal sample 439': ['SYN Flag Cnt', 'Bwd IAT Max', 'Bwd Pkt Len Max', 'Bwd Pkt Len Std', 'Bwd IAT Std', 'Pkt Len Min', 'Bwd Pkt Len Min', 'Fwd Pkt Len Min', 'Flow Pkts/s', 'Bwd Seg Size Avg'], 'Normal sample 440': ['ACK Flag Cnt', 'Bwd IAT Std', 'Bwd IAT Max', 'Active Mean', 'Bwd IAT Tot', 'Bwd Pkt Len Min', 'Bwd Seg Size Avg', 'Flow Byts/s', 'Flow IAT Max', 'Bwd IAT Min'], 'Normal sample 441': ['Init Bwd Win Byts', 'Idle Min', 'Idle Mean', 'Idle Max', 'Fwd Pkts/s', 'Bwd Pkt Len Mean', 'Bwd Seg Size Avg', 'Subflow Fwd Byts', 'Tot Bwd Pkts', 'Subflow Bwd Pkts'], 'Normal sample 442': ['Init Bwd Win Byts', 'Bwd Pkt Len Mean', 'Idle Mean', 'Idle Max', 'Idle Min', 'Bwd IAT Tot', 'Active Mean', 'Tot Fwd Pkts', 'Tot Bwd Pkts', 'TotLen Fwd Pkts'], 'Normal sample 443': ['SYN Flag Cnt', 'Subflow Fwd Byts', 'Bwd Pkt Len Max', 'PSH Flag Cnt', 'Bwd PSH Flags', 'Flow Duration', 'Tot Fwd Pkts', 'Tot Bwd Pkts', 'TotLen Fwd Pkts', 'TotLen Bwd Pkts'], 'Normal sample 444': ['Pkt Len Min', 'Pkt Len Std', 'Pkt Len Max', 'Pkt Len Mean', 'Pkt Size Avg', 'Flow Pkts/s', 'Fwd Pkt Len Max', 'Fwd Pkt Len Mean', 'Fwd Seg Size Avg', 'Fwd IAT Std'], 'Normal sample 445': ['Idle Min', 'Init Bwd Win Byts', 'Idle Std', 'Fwd Header Len', 'Fwd Pkt Len Std', 'Fwd IAT Tot', 'Idle Max', 'Fwd Pkt Len Min', 'Bwd Pkt Len Max', 'Tot Bwd Pkts'], 'Normal sample 446': ['Idle Min', 'Bwd Pkt Len Mean', 'Fwd IAT Std', 'TotLen Bwd Pkts', 'Init Bwd Win Byts', 'Active Mean', 'Subflow Bwd Pkts', 'Tot Bwd Pkts', 'Idle Max', 'Bwd Header Len'], 'Normal sample 447': ['Pkt Len Max', 'Pkt Len Mean', 'Pkt Len Min', 'Pkt Size Avg', 'Pkt Len Std', 'Flow Pkts/s', 'Fwd Pkt Len Std', 'Fwd Pkt Len Mean', 'Flow IAT Std', 'Bwd URG Flags'], 'Normal sample 448': ['SYN Flag Cnt', 'Bwd IAT Max', 'Bwd IAT Std', 'Bwd Pkt Len Max', 'Bwd IAT Tot', 'Subflow Fwd Pkts', 'Idle Max', 'Bwd URG Flags', 'Active Min', 'FIN Flag Cnt'], 'Normal sample 449': ['Init Bwd Win Byts', 'Fwd IAT Max', 'Fwd IAT Mean', 'Tot Fwd Pkts', 'Fwd Act Data Pkts', 'Fwd IAT Std', 'Subflow Bwd Byts', 'Bwd IAT Tot', 'Bwd Pkt Len Mean', 'Bwd IAT Mean'], 'Normal sample 450': ['Flow IAT Min', 'Fwd IAT Min', 'Init Bwd Win Byts', 'Down/Up Ratio', 'Flow IAT Mean', 'Idle Min', 'Active Std', 'Fwd Pkts/s', 'Idle Max', 'Bwd Header Len'], 'Normal sample 451': ['Init Bwd Win Byts', 'Fwd IAT Min', 'Fwd IAT Mean', 'Bwd Pkt Len Max', 'Fwd IAT Max', 'Idle Min', 'Bwd Seg Size Avg', 'Bwd IAT Min', 'Bwd Pkt Len Mean', 'Fwd Act Data Pkts'], 'Normal sample 452': ['SYN Flag Cnt', 'Bwd Pkt Len Max', 'Down/Up Ratio', 'Idle Mean', 'Flow IAT Std', 'Bwd IAT Min', 'Tot Fwd Pkts', 'Tot Bwd Pkts', 'TotLen Bwd Pkts', 'Fwd Pkt Len Min'], 'Normal sample 453': ['FIN Flag Cnt', 'Flow Pkts/s', 'Down/Up Ratio', 'Pkt Len Min', 'Pkt Size Avg', 'Pkt Len Max', 'Subflow Fwd Byts', 'Flow IAT Mean', 'Bwd Pkt Len Min', 'Pkt Len Std'], 'Normal sample 454': ['Pkt Len Max', 'Flow Pkts/s', 'Pkt Len Mean', 'Pkt Len Min', 'Down/Up Ratio', 'Pkt Len Std', 'Fwd Pkt Len Mean', 'Bwd IAT Max', 'Pkt Size Avg', 'PSH Flag Cnt'], 'Normal sample 455': ['Tot Bwd Pkts', 'TotLen Fwd Pkts', 'TotLen Bwd Pkts', 'Bwd Pkt Len Max', 'Bwd Pkt Len Mean', 'Flow Byts/s', 'Flow IAT Mean', 'Flow IAT Std', 'Flow IAT Min', 'Fwd IAT Tot'], 'Normal sample 456': ['Pkt Len Min', 'Pkt Len Max', 'Down/Up Ratio', 'Pkt Len Std', 'Pkt Size Avg', 'Pkt Len Mean', 'Bwd IAT Mean', 'Flow IAT Std', 'Flow Pkts/s', 'Bwd Pkt Len Min'], 'Normal sample 457': ['Init Bwd Win Byts', 'Idle Min', 'Idle Mean', 'Fwd Header Len', 'Fwd Act Data Pkts', 'Subflow Fwd Pkts', 'Active Mean', 'Active Std', 'Subflow Bwd Byts', 'Idle Std'], 'Normal sample 458': ['Init Bwd Win Byts', 'TotLen Bwd Pkts', 'Subflow Fwd Byts', 'Idle Mean', 'Flow IAT Std', 'Bwd Pkt Len Max', 'Idle Max', 'Fwd Header Len', 'Fwd IAT Std', 'Tot Bwd Pkts'], 'Normal sample 459': ['Bwd Pkts/s', 'Pkt Size Avg', 'FIN Flag Cnt', 'Idle Max', 'Pkt Len Min', 'Flow Byts/s', 'TotLen Bwd Pkts', 'Fwd IAT Std', 'Bwd URG Flags', 'Pkt Len Std'], 'Normal sample 460': ['SYN Flag Cnt', 'Bwd Pkt Len Max', 'Flow IAT Mean', 'Bwd Pkt Len Std', 'Bwd PSH Flags', 'Idle Max', 'Subflow Fwd Pkts', 'Pkt Len Min', 'Bwd IAT Max', 'Flow Pkts/s'], 'Normal sample 461': ['Bwd Pkt Len Max', 'SYN Flag Cnt', 'Bwd Pkt Len Std', 'Bwd Header Len', 'Tot Bwd Pkts', 'TotLen Bwd Pkts', 'Fwd IAT Std', 'Pkt Len Var', 'Active Max', 'Bwd IAT Max'], 'Normal sample 462': ['FIN Flag Cnt', 'Down/Up Ratio', 'Pkt Len Min', 'Flow Pkts/s', 'Bwd Pkt Len Min', 'Pkt Len Std', 'Pkt Size Avg', 'Flow Duration', 'Fwd IAT Mean', 'Bwd Pkt Len Mean'], 'Normal sample 463': ['Init Bwd Win Byts', 'Active Mean', 'Idle Max', 'Fwd IAT Min', 'Idle Min', 'Bwd Header Len', 'Fwd IAT Mean', 'Bwd Pkt Len Max', 'Flow IAT Mean', 'Fwd Header Len'], 'Normal sample 464': ['Bwd Seg Size Avg', 'TotLen Bwd Pkts', 'Init Bwd Win Byts', 'Active Std', 'Flow Duration', 'Tot Fwd Pkts', 'Tot Bwd Pkts', 'TotLen Fwd Pkts', 'Bwd Pkt Len Mean', 'Bwd Pkt Len Std'], 'Normal sample 465': ['Flow IAT Std', 'Init Bwd Win Byts', 'Fwd Pkt Len Min', 'Subflow Bwd Pkts', 'Bwd Pkt Len Mean', 'Fwd IAT Min', 'Flow IAT Min', 'Bwd Seg Size Avg', 'Bwd Pkt Len Max', 'Idle Max'], 'Normal sample 466': ['Tot Fwd Pkts', 'Bwd Pkt Len Max', 'Fwd IAT Std', 'Init Bwd Win Byts', 'Flow Duration', 'Pkt Len Var', 'Idle Mean', 'Idle Min', 'Fwd IAT Mean', 'Flow IAT Min'], 'Normal sample 467': ['SYN Flag Cnt', 'Idle Min', 'Idle Max', 'Idle Mean', 'Subflow Fwd Pkts', 'Bwd Pkt Len Mean', 'Flow Byts/s', 'Bwd IAT Min', 'Fwd Pkt Len Min', 'TotLen Bwd Pkts'], 'Normal sample 468': ['Bwd IAT Tot', 'ACK Flag Cnt', 'Bwd IAT Std', 'Bwd IAT Max', 'Flow IAT Max', 'Idle Max', 'Bwd Header Len', 'Idle Min', 'Bwd PSH Flags', 'Active Min'], 'Normal sample 469': ['Init Bwd Win Byts', 'Idle Max', 'Idle Min', 'Flow IAT Std', 'Flow IAT Min', 'Flow Byts/s', 'Bwd Pkt Len Mean', 'Idle Mean', 'Fwd Pkt Len Min', 'Fwd IAT Std'], 'Normal sample 470': ['Pkt Len Min', 'Active Mean', 'URG Flag Cnt', 'Fwd Pkt Len Mean', 'Fwd Pkts/s', 'Pkt Size Avg', 'Subflow Fwd Pkts', 'Fwd Pkt Len Max', 'Active Min', 'Bwd Pkt Len Max'], 'Normal sample 471': ['Bwd PSH Flags', 'Bwd Pkt Len Min', 'Pkt Len Min', 'Active Min', 'Bwd Pkt Len Std', 'URG Flag Cnt', 'Fwd Pkt Len Mean', 'Fwd Header Len', 'Fwd IAT Tot', 'Bwd Seg Size Avg'], 'Normal sample 472': ['Idle Max', 'Bwd Pkt Len Mean', 'PSH Flag Cnt', 'Fwd Pkt Len Std', 'Bwd Seg Size Avg', 'Pkt Len Var', 'Fwd Pkts/s', 'Bwd IAT Mean', 'Fwd IAT Max', 'Fwd IAT Tot'], 'Normal sample 473': ['Bwd Pkt Len Mean', 'Subflow Fwd Pkts', 'Idle Max', 'Tot Bwd Pkts', 'Bwd Pkt Len Max', 'TotLen Bwd Pkts', 'Fwd Act Data Pkts', 'Bwd Seg Size Avg', 'Init Bwd Win Byts', 'Active Mean'], 'Normal sample 474': ['SYN Flag Cnt', 'Bwd IAT Std', 'Bwd IAT Max', 'Bwd IAT Tot', 'Flow IAT Mean', 'Bwd IAT Mean', 'Fwd IAT Min', 'Active Max', 'Flow IAT Min', 'Bwd Pkt Len Std'], 'Normal sample 475': ['Pkt Len Max', 'Flow Pkts/s', 'Pkt Size Avg', 'Pkt Len Std', 'Fwd Pkt Len Mean', 'Pkt Len Mean', 'Pkt Len Min', 'Fwd Seg Size Avg', 'PSH Flag Cnt', 'Flow Duration'], 'Normal sample 476': ['Pkt Len Min', 'Pkt Len Std', 'Pkt Len Max', 'Pkt Size Avg', 'Flow Pkts/s', 'Pkt Len Mean', 'Fwd Seg Size Avg', 'PSH Flag Cnt', 'Fwd Pkt Len Max', 'Flow Byts/s'], 'Normal sample 477': ['Bwd Header Len', 'SYN Flag Cnt', 'Bwd Pkt Len Max', 'TotLen Bwd Pkts', 'Tot Bwd Pkts', 'Subflow Bwd Pkts', 'Subflow Bwd Byts', 'Fwd Pkts/s', 'Fwd Pkt Len Std', 'Active Mean'], 'Normal sample 478': ['Idle Max', 'Fwd IAT Tot', 'Init Bwd Win Byts', 'Idle Mean', 'Active Max', 'Bwd Pkt Len Mean', 'Bwd Pkt Len Std', 'Bwd IAT Max', 'TotLen Bwd Pkts', 'Idle Std'], 'Normal sample 479': ['Bwd Pkt Len Mean', 'Subflow Bwd Pkts', 'Init Bwd Win Byts', 'Active Min', 'Tot Fwd Pkts', 'Idle Min', 'Bwd Seg Size Avg', 'Flow Byts/s', 'Idle Max', 'Tot Bwd Pkts'], 'Normal sample 480': ['Flow Duration', 'TotLen Fwd Pkts', 'Fwd Pkt Len Min', 'Bwd Pkt Len Max', 'Bwd Pkt Len Min', 'Bwd Pkt Len Mean', 'Bwd Pkt Len Std', 'Flow Byts/s', 'Flow IAT Mean', 'Flow IAT Min'], 'Normal sample 481': ['Init Bwd Win Byts', 'Idle Max', 'Idle Mean', 'Subflow Bwd Pkts', 'Bwd IAT Min', 'Active Mean', 'Fwd IAT Mean', 'Active Std', 'Fwd Act Data Pkts', 'Idle Std'], 'Normal sample 482': ['SYN Flag Cnt', 'Bwd Pkt Len Max', 'Pkt Len Min', 'Bwd IAT Tot', 'Idle Std', 'Subflow Bwd Byts', 'Bwd PSH Flags', 'Fwd IAT Min', 'Flow Duration', 'Tot Fwd Pkts'], 'Normal sample 483': ['Init Bwd Win Byts', 'Active Mean', 'Idle Min', 'Fwd IAT Std', 'Bwd Seg Size Avg', 'Active Min', 'Idle Mean', 'Flow Duration', 'Tot Fwd Pkts', 'Tot Bwd Pkts'], 'Normal sample 484': ['Init Bwd Win Byts', 'Fwd Pkt Len Std', 'Bwd Pkt Len Max', 'Bwd IAT Max', 'Idle Max', 'Idle Min', 'Active Min', 'Subflow Bwd Pkts', 'Bwd IAT Mean', 'Tot Fwd Pkts'], 'Normal sample 485': ['Pkt Len Min', 'Down/Up Ratio', 'Pkt Len Max', 'Pkt Size Avg', 'Pkt Len Std', 'Flow Pkts/s', 'Fwd Pkt Len Mean', 'Fwd Pkt Len Std', 'Fwd IAT Std', 'Bwd Pkt Len Min'], 'Normal sample 486': ['Flow Pkts/s', 'Pkt Len Min', 'Pkt Len Max', 'Pkt Len Std', 'Pkt Len Mean', 'Pkt Size Avg', 'Fwd Pkt Len Max', 'Fwd Pkt Len Std', 'Fwd IAT Tot', 'Fwd Seg Size Avg'], 'Normal sample 487': ['Flow IAT Min', 'Flow IAT Mean', 'Fwd IAT Min', 'Down/Up Ratio', 'Init Bwd Win Byts', 'Bwd IAT Min', 'Bwd Pkt Len Std', 'Pkt Len Std', 'Bwd Pkt Len Mean', 'Pkt Len Var'], 'Normal sample 488': ['SYN Flag Cnt', 'Idle Mean', 'Idle Min', 'Bwd Pkt Len Min', 'Idle Max', 'Bwd Pkt Len Mean', 'Bwd Pkt Len Max', 'Pkt Len Min', 'Fwd Header Len', 'Subflow Bwd Pkts'], 'Normal sample 489': ['SYN Flag Cnt', 'Bwd IAT Max', 'Bwd IAT Std', 'Subflow Bwd Byts', 'TotLen Bwd Pkts', 'Flow IAT Mean', 'Bwd Pkt Len Max', 'Flow Byts/s', 'TotLen Fwd Pkts', 'Fwd Pkt Len Min'], 'Normal sample 490': ['Pkt Len Min', 'Pkt Len Max', 'Pkt Len Mean', 'Pkt Len Std', 'Pkt Size Avg', 'Flow Pkts/s', 'Fwd Pkt Len Max', 'Fwd IAT Max', 'Fwd IAT Tot', 'PSH Flag Cnt'], 'Normal sample 491': ['FIN Flag Cnt', 'Bwd PSH Flags', 'Down/Up Ratio', 'Flow IAT Std', 'Idle Min', 'Bwd Pkt Len Min', 'Flow Pkts/s', 'Fwd Act Data Pkts', 'Pkt Len Min', 'Tot Fwd Pkts'], 'Normal sample 492': ['SYN Flag Cnt', 'ACK Flag Cnt', 'Bwd Pkt Len Min', 'URG Flag Cnt', 'Flow IAT Max', 'Pkt Len Min', 'Fwd IAT Min', 'TotLen Fwd Pkts', 'Subflow Bwd Byts', 'Idle Min'], 'Normal sample 493': ['Idle Max', 'Init Bwd Win Byts', 'Bwd Pkt Len Max', 'Active Std', 'Flow Duration', 'Fwd IAT Mean', 'Bwd IAT Tot', 'Active Max', 'Bwd IAT Min', 'Idle Mean'], 'Normal sample 494': ['Idle Max', 'Fwd IAT Std', 'Idle Mean', 'Fwd Pkt Len Std', 'Fwd Pkt Len Min', 'Idle Min', 'Bwd Pkt Len Mean', 'Fwd Pkts/s', 'Bwd URG Flags', 'Subflow Fwd Byts'], 'Normal sample 495': ['Idle Max', 'Init Bwd Win Byts', 'Idle Mean', 'Fwd IAT Min', 'Fwd Header Len', 'Fwd Act Data Pkts', 'Fwd IAT Tot', 'Fwd IAT Std', 'Bwd IAT Max', 'Idle Std'], 'Normal sample 496': ['Idle Mean', 'Fwd Act Data Pkts', 'Fwd IAT Min', 'Bwd Pkt Len Mean', 'Subflow Fwd Pkts', 'Fwd IAT Max', 'Init Bwd Win Byts', 'Bwd IAT Tot', 'Bwd Pkt Len Std', 'Idle Min'], 'Normal sample 497': ['Init Bwd Win Byts', 'Bwd Pkt Len Max', 'Fwd IAT Max', 'Tot Fwd Pkts', 'TotLen Fwd Pkts', 'Bwd Seg Size Avg', 'Fwd Pkts/s', 'Idle Min', 'Idle Max', 'Pkt Len Var'], 'Normal sample 498': ['Pkt Len Mean', 'Pkt Len Min', 'Pkt Len Std', 'Pkt Size Avg', 'Flow Pkts/s', 'Pkt Len Max', 'PSH Flag Cnt', 'Fwd Seg Size Avg', 'Bwd URG Flags', 'Fwd Pkt Len Max'], 'Normal sample 499': ['Init Bwd Win Byts', 'Flow Duration', 'Tot Fwd Pkts', 'Tot Bwd Pkts', 'TotLen Fwd Pkts', 'Fwd Pkt Len Min', 'Bwd Pkt Len Max', 'Bwd Pkt Len Min', 'Flow IAT Min', 'Fwd IAT Tot'], 'Normal sample 500': ['Init Bwd Win Byts', 'Bwd Pkt Len Mean', 'Idle Min', 'Fwd IAT Tot', 'Idle Max', 'TotLen Bwd Pkts', 'Fwd IAT Std', 'Bwd Pkt Len Max', 'Flow IAT Std', 'Subflow Bwd Pkts'], 'Normal sample 501': ['Init Bwd Win Byts', 'Bwd Pkt Len Mean', 'Fwd IAT Mean', 'Bwd IAT Max', 'Bwd IAT Min', 'Idle Mean', 'Fwd Pkt Len Min', 'Idle Min', 'Bwd IAT Mean', 'Flow Byts/s'], 'Normal sample 502': ['Idle Max', 'Bwd Pkt Len Mean', 'Init Bwd Win Byts', 'Idle Min', 'Fwd Pkt Len Std', 'Bwd IAT Mean', 'Bwd Seg Size Avg', 'Bwd Pkt Len Std', 'Idle Mean', 'Flow Duration'], 'Normal sample 503': ['Active Min', 'Idle Mean', 'Init Bwd Win Byts', 'Fwd Act Data Pkts', 'Subflow Bwd Pkts', 'Bwd Pkt Len Mean', 'Flow Duration', 'Bwd Seg Size Avg', 'Fwd Pkts/s', 'Bwd Pkt Len Max'], 'Normal sample 504': ['Pkt Len Min', 'Pkt Size Avg', 'Pkt Len Std', 'Pkt Len Max', 'Down/Up Ratio', 'Fwd Pkt Len Std', 'Fwd Pkt Len Mean', 'Flow Pkts/s', 'Pkt Len Mean', 'Fwd IAT Std'], 'Normal sample 505': ['SYN Flag Cnt', 'Bwd IAT Max', 'Bwd IAT Std', 'Idle Mean', 'Idle Min', 'Idle Max', 'Bwd Pkt Len Std', 'Active Max', 'Subflow Bwd Pkts', 'Bwd Header Len'], 'Normal sample 506': ['Pkt Size Avg', 'Pkt Len Min', 'Down/Up Ratio', 'Fwd Pkt Len Max', 'Pkt Len Var', 'Pkt Len Max', 'Fwd Pkt Len Std', 'Pkt Len Std', 'Idle Std', 'Flow Pkts/s'], 'Normal sample 507': ['Active Min', 'Idle Mean', 'Init Bwd Win Byts', 'URG Flag Cnt', 'Fwd IAT Min', 'Idle Min', 'Subflow Bwd Byts', 'Bwd Pkt Len Max', 'Idle Max', 'Tot Fwd Pkts'], 'Normal sample 508': ['Idle Mean', 'Idle Max', 'Tot Bwd Pkts', 'Init Bwd Win Byts', 'Pkt Len Var', 'Bwd Pkt Len Max', 'Active Min', 'Idle Min', 'Subflow Bwd Byts', 'Idle Std'], 'Normal sample 509': ['Idle Max', 'Init Bwd Win Byts', 'Fwd IAT Min', 'Subflow Fwd Byts', 'Active Min', 'Bwd Seg Size Avg', 'Active Mean', 'Subflow Fwd Pkts', 'Idle Mean', 'Bwd IAT Tot'], 'Normal sample 510': ['Init Bwd Win Byts', 'Fwd IAT Max', 'TotLen Fwd Pkts', 'Fwd Header Len', 'Idle Mean', 'Bwd Pkt Len Mean', 'Bwd URG Flags', 'Idle Min', 'Bwd Pkt Len Std', 'Fwd IAT Std'], 'Normal sample 511': ['Idle Max', 'Init Bwd Win Byts', 'Subflow Fwd Pkts', 'Bwd Pkt Len Std', 'Bwd Pkt Len Max', 'Bwd Header Len', 'Subflow Bwd Pkts', 'Active Min', 'Bwd Seg Size Avg', 'Fwd Pkts/s'], 'Normal sample 512': ['Bwd PSH Flags', 'Bwd Pkt Len Min', 'Down/Up Ratio', 'Fwd IAT Max', 'Subflow Fwd Byts', 'Fwd Pkt Len Min', 'Bwd Pkt Len Max', 'Bwd Pkt Len Mean', 'Bwd Pkt Len Std', 'Flow Byts/s'], 'Normal sample 513': ['ACK Flag Cnt', 'Bwd IAT Std', 'Bwd IAT Tot', 'Bwd IAT Max', 'Bwd IAT Mean', 'Flow IAT Mean', 'Flow IAT Std', 'Flow IAT Max', 'Bwd Pkt Len Mean', 'Subflow Fwd Byts'], 'Normal sample 514': ['Idle Max', 'Tot Bwd Pkts', 'Init Bwd Win Byts', 'Bwd Pkt Len Mean', 'Bwd Seg Size Avg', 'Fwd Pkt Len Std', 'Flow Duration', 'Idle Min', 'Fwd IAT Std', 'Bwd Pkt Len Max'], 'Normal sample 515': ['Idle Min', 'Idle Mean', 'Subflow Bwd Pkts', 'Idle Std', 'Fwd Pkts/s', 'Subflow Bwd Byts', 'Idle Max', 'Fwd IAT Std', 'Fwd IAT Mean', 'Bwd Header Len'], 'Normal sample 516': ['SYN Flag Cnt', 'ACK Flag Cnt', 'Bwd Header Len', 'Idle Max', 'Bwd Seg Size Avg', 'URG Flag Cnt', 'Fwd IAT Mean', 'Bwd IAT Std', 'Idle Min', 'Subflow Bwd Pkts'], 'Normal sample 517': ['PSH Flag Cnt', 'Flow IAT Max', 'Subflow Bwd Pkts', 'Bwd Header Len', 'Active Std', 'Idle Min', 'Fwd Pkts/s', 'Init Bwd Win Byts', 'Bwd IAT Tot', 'Idle Max'], 'Normal sample 518': ['SYN Flag Cnt', 'Bwd Pkt Len Max', 'Bwd Pkt Len Std', 'Bwd Pkt Len Mean', 'Bwd IAT Std', 'Pkt Len Min', 'Bwd Seg Size Avg', 'Bwd PSH Flags', 'Tot Fwd Pkts', 'Fwd IAT Min'], 'Normal sample 519': ['Idle Max', 'Tot Fwd Pkts', 'Tot Bwd Pkts', 'TotLen Bwd Pkts', 'Fwd Pkt Len Min', 'Bwd Pkt Len Max', 'Bwd Pkt Len Min', 'Bwd Pkt Len Std', 'Flow IAT Mean', 'Flow IAT Min'], 'Normal sample 520': ['SYN Flag Cnt', 'Bwd IAT Std', 'Bwd IAT Max', 'Idle Max', 'Idle Min', 'Idle Mean', 'Flow IAT Min', 'Bwd IAT Tot', 'Pkt Len Min', 'Bwd Pkt Len Max'], 'Normal sample 521': ['Init Bwd Win Byts', 'Subflow Bwd Pkts', 'Flow Duration', 'Tot Fwd Pkts', 'TotLen Bwd Pkts', 'Bwd Pkt Len Min', 'Bwd Pkt Len Std', 'Flow IAT Min', 'Fwd IAT Tot', 'Fwd IAT Std'], 'Normal sample 522': ['Init Bwd Win Byts', 'TotLen Bwd Pkts', 'Idle Mean', 'Bwd Pkt Len Max', 'Bwd Pkt Len Mean', 'Bwd IAT Max', 'Subflow Fwd Pkts', 'Fwd Pkt Len Std', 'Bwd Seg Size Avg', 'Fwd Pkt Len Min'], 'Normal sample 523': ['Init Bwd Win Byts', 'Subflow Fwd Byts', 'Bwd Pkt Len Mean', 'Flow Duration', 'Tot Fwd Pkts', 'Tot Bwd Pkts', 'TotLen Bwd Pkts', 'Fwd Pkt Len Min', 'Bwd Pkt Len Max', 'Bwd Pkt Len Min'], 'Normal sample 524': ['Idle Min', 'Init Bwd Win Byts', 'Bwd Seg Size Avg', 'Idle Max', 'Fwd Pkts/s', 'Flow Duration', 'TotLen Fwd Pkts', 'Fwd Pkt Len Mean', 'Bwd Pkt Len Max', 'Bwd Pkt Len Mean'], 'Normal sample 525': ['Init Bwd Win Byts', 'Idle Max', 'Idle Mean', 'Active Mean', 'Flow Byts/s', 'Subflow Fwd Byts', 'Fwd Pkt Len Min', 'Bwd Pkt Len Max', 'Bwd Pkt Len Mean', 'Bwd Seg Size Avg'], 'Normal sample 526': ['SYN Flag Cnt', 'Bwd Pkt Len Max', 'Tot Fwd Pkts', 'Tot Bwd Pkts', 'TotLen Fwd Pkts', 'TotLen Bwd Pkts', 'Fwd Pkt Len Min', 'Bwd Pkt Len Mean', 'Flow Pkts/s', 'Fwd IAT Min'], 'Normal sample 527': ['SYN Flag Cnt', 'Flow Byts/s', 'Pkt Len Min', 'Pkt Size Avg', 'Fwd Act Data Pkts', 'Subflow Bwd Pkts', 'Pkt Len Var', 'Bwd Seg Size Avg', 'Idle Min', 'Active Min'], 'Normal sample 528': ['Bwd Pkts/s', 'Fwd Pkts/s', 'Pkt Len Min', 'FIN Flag Cnt', 'Bwd Pkt Len Std', 'Pkt Len Std', 'Fwd Pkt Len Std', 'TotLen Bwd Pkts', 'PSH Flag Cnt', 'Tot Fwd Pkts'], 'Normal sample 529': ['Init Bwd Win Byts', 'Idle Mean', 'Active Max', 'Fwd IAT Min', 'Bwd Seg Size Avg', 'Idle Min', 'Flow Duration', 'Idle Max', 'Fwd Act Data Pkts', 'Subflow Fwd Pkts'], 'Normal sample 530': ['Idle Min', 'Flow IAT Std', 'Idle Max', 'Bwd Pkt Len Std', 'Init Bwd Win Byts', 'Idle Mean', 'Fwd IAT Max', 'Flow IAT Min', 'Fwd Act Data Pkts', 'Bwd Pkt Len Mean'], 'Normal sample 531': ['Idle Mean', 'Bwd Pkt Len Mean', 'Fwd Pkts/s', 'Bwd Pkt Len Max', 'Bwd Header Len', 'Init Bwd Win Byts', 'Fwd Act Data Pkts', 'Fwd Header Len', 'Pkt Len Var', 'Bwd IAT Mean'], 'Normal sample 532': ['SYN Flag Cnt', 'Bwd Pkt Len Max', 'PSH Flag Cnt', 'Pkt Len Min', 'Bwd Pkt Len Min', 'Bwd IAT Max', 'Flow IAT Mean', 'Tot Bwd Pkts', 'TotLen Bwd Pkts', 'Bwd IAT Mean'], 'Normal sample 533': ['Init Bwd Win Byts', 'Bwd Pkt Len Std', 'Fwd IAT Max', 'Idle Mean', 'Bwd Pkt Len Max', 'Fwd IAT Mean', 'Idle Max', 'Fwd IAT Tot', 'Fwd Pkts/s', 'Idle Min'], 'Normal sample 534': ['Idle Min', 'Fwd Pkt Len Std', 'Init Bwd Win Byts', 'TotLen Bwd Pkts', 'Bwd Pkt Len Max', 'Idle Max', 'Fwd IAT Max', 'Flow IAT Min', 'Active Min', 'Idle Mean'], 'Normal sample 535': ['Init Bwd Win Byts', 'Bwd Pkt Len Std', 'Idle Max', 'Idle Mean', 'Bwd PSH Flags', 'Bwd IAT Max', 'Fwd IAT Tot', 'Fwd Pkt Len Max', 'Active Std', 'Idle Min'], 'Normal sample 536': ['Init Bwd Win Byts', 'Bwd Seg Size Avg', 'Idle Std', 'Flow IAT Std', 'Fwd IAT Std', 'Bwd IAT Max', 'Bwd Header Len', 'TotLen Fwd Pkts', 'Subflow Fwd Byts', 'Flow IAT Min'], 'Normal sample 537': ['SYN Flag Cnt', 'Bwd IAT Max', 'Bwd IAT Std', 'Bwd Pkt Len Max', 'Idle Std', 'Bwd Seg Size Avg', 'Bwd Pkt Len Std', 'Pkt Len Min', 'URG Flag Cnt', 'Subflow Bwd Byts'], 'Normal sample 538': ['Bwd IAT Max', 'Idle Max', 'Fwd Pkt Len Min', 'Fwd IAT Tot', 'Init Bwd Win Byts', 'Tot Bwd Pkts', 'Fwd IAT Std', 'Fwd Pkts/s', 'Subflow Fwd Pkts', 'Idle Min'], 'Normal sample 539': ['Idle Max', 'Init Bwd Win Byts', 'Idle Min', 'Bwd Pkt Len Mean', 'Bwd Pkt Len Max', 'Active Min', 'Fwd IAT Max', 'Active Max', 'Bwd IAT Mean', 'Subflow Fwd Byts'], 'Normal sample 540': ['Down/Up Ratio', 'Pkt Len Min', 'Flow Pkts/s', 'Pkt Len Mean', 'Pkt Size Avg', 'Pkt Len Max', 'Fwd Pkt Len Mean', 'Fwd Seg Size Avg', 'Fwd Pkt Len Max', 'PSH Flag Cnt'], 'Normal sample 541': ['TotLen Fwd Pkts', 'Fwd IAT Mean', 'Idle Mean', 'Init Bwd Win Byts', 'Flow Duration', 'Subflow Bwd Pkts', 'Active Mean', 'Fwd IAT Std', 'Active Max', 'Subflow Fwd Byts'], 'Normal sample 542': ['SYN Flag Cnt', 'Bwd IAT Std', 'Active Max', 'Idle Min', 'Bwd IAT Tot', 'Bwd IAT Max', 'Subflow Fwd Pkts', 'Idle Max', 'Idle Mean', 'Bwd Pkt Len Mean'], 'Normal sample 543': ['SYN Flag Cnt', 'Bwd Pkt Len Max', 'Bwd Pkt Len Std', 'Fwd Header Len', 'Tot Bwd Pkts', 'URG Flag Cnt', 'Bwd Seg Size Avg', 'Idle Max', 'Flow Duration', 'Idle Min'], 'Normal sample 544': ['Init Bwd Win Byts', 'Down/Up Ratio', 'Bwd Pkt Len Std', 'Idle Max', 'Idle Min', 'Bwd Seg Size Avg', 'Bwd Pkt Len Mean', 'Flow IAT Max', 'Idle Std', 'Flow IAT Std'], 'Normal sample 545': ['Bwd PSH Flags', 'Bwd Pkt Len Min', 'Fwd Pkt Len Min', 'TotLen Fwd Pkts', 'Tot Bwd Pkts', 'Fwd IAT Mean', 'Bwd IAT Mean', 'Tot Fwd Pkts', 'Idle Min', 'Flow Pkts/s'], 'Normal sample 546': ['Init Bwd Win Byts', 'Bwd Pkt Len Mean', 'Fwd IAT Tot', 'Bwd Pkt Len Std', 'Flow IAT Std', 'Subflow Bwd Byts', 'Idle Min', 'Fwd Pkt Len Std', 'Tot Bwd Pkts', 'Bwd Pkt Len Max'], 'Normal sample 547': ['SYN Flag Cnt', 'Bwd IAT Std', 'Bwd IAT Max', 'Bwd IAT Tot', 'Bwd Pkt Len Min', 'Flow IAT Mean', 'Subflow Fwd Byts', 'Flow IAT Min', 'TotLen Fwd Pkts', 'Fwd Act Data Pkts'], 'Normal sample 548': ['ACK Flag Cnt', 'Bwd IAT Tot', 'Bwd IAT Max', 'Bwd IAT Std', 'Idle Max', 'Idle Min', 'Idle Std', 'Fwd Pkts/s', 'Flow IAT Max', 'Flow IAT Mean'], 'Normal sample 549': ['Init Bwd Win Byts', 'Flow Duration', 'Fwd Act Data Pkts', 'Flow IAT Min', 'Bwd Pkt Len Std', 'Bwd IAT Tot', 'Flow IAT Mean', 'Idle Max', 'Fwd IAT Std', 'Fwd IAT Max'], 'Normal sample 550': ['Init Bwd Win Byts', 'Flow IAT Std', 'TotLen Fwd Pkts', 'Bwd Pkt Len Max', 'Fwd Act Data Pkts', 'Fwd IAT Std', 'Active Mean', 'Flow Pkts/s', 'Idle Mean', 'Fwd IAT Min'], 'Normal sample 551': ['Idle Min', 'Flow Duration', 'Tot Fwd Pkts', 'TotLen Bwd Pkts', 'Fwd Pkt Len Max', 'Fwd Pkt Len Std', 'Bwd Pkt Len Max', 'Bwd Pkt Len Mean', 'Bwd Pkt Len Std', 'Flow Pkts/s'], 'Normal sample 552': ['Pkt Len Min', 'Down/Up Ratio', 'Pkt Len Std', 'Pkt Len Mean', 'Pkt Size Avg', 'Pkt Len Max', 'PSH Flag Cnt', 'Fwd Pkt Len Std', 'Active Max', 'Fwd Seg Size Avg'], 'Normal sample 553': ['ACK Flag Cnt', 'Bwd Pkt Len Max', 'Flow IAT Min', 'Bwd IAT Min', 'Flow Duration', 'Tot Fwd Pkts', 'Tot Bwd Pkts', 'TotLen Bwd Pkts', 'Fwd Pkt Len Min', 'Bwd Pkt Len Mean'], 'Normal sample 554': ['Init Bwd Win Byts', 'Idle Min', 'Fwd Pkt Len Min', 'Idle Mean', 'Fwd IAT Std', 'Bwd Seg Size Avg', 'Bwd Pkt Len Mean', 'Fwd Pkts/s', 'Flow Duration', 'Fwd Act Data Pkts'], 'Normal sample 555': ['Bwd PSH Flags', 'Bwd IAT Std', 'Bwd Pkt Len Max', 'Bwd Pkt Len Std', 'Bwd IAT Max', 'Pkt Len Min', 'Subflow Fwd Byts', 'Active Min', 'Bwd Seg Size Avg', 'Subflow Bwd Byts'], 'Normal sample 556': ['SYN Flag Cnt', 'Bwd IAT Std', 'Bwd IAT Max', 'Bwd IAT Tot', 'Flow IAT Mean', 'Active Mean', 'Tot Bwd Pkts', 'Bwd IAT Mean', 'Pkt Len Std', 'TotLen Bwd Pkts'], 'Normal sample 557': ['Idle Min', 'Bwd Seg Size Avg', 'Bwd IAT Mean', 'Init Bwd Win Byts', 'Flow Duration', 'Tot Fwd Pkts', 'Tot Bwd Pkts', 'TotLen Fwd Pkts', 'TotLen Bwd Pkts', 'Fwd Pkt Len Min'], 'Normal sample 558': ['SYN Flag Cnt', 'ACK Flag Cnt', 'Tot Bwd Pkts', 'Flow IAT Max', 'Flow Duration', 'Tot Fwd Pkts', 'TotLen Fwd Pkts', 'Fwd Pkt Len Min', 'Bwd Pkt Len Max', 'Bwd Pkt Len Min'], 'Normal sample 559': ['Init Bwd Win Byts', 'Idle Mean', 'Fwd IAT Mean', 'Fwd Act Data Pkts', 'Idle Max', 'Fwd IAT Std', 'Bwd Pkt Len Mean', 'Active Std', 'Fwd Pkts/s', 'Bwd IAT Mean'], 'Normal sample 560': ['Idle Mean', 'Idle Max', 'Init Bwd Win Byts', 'Bwd Pkt Len Mean', 'Idle Min', 'Active Mean', 'Tot Fwd Pkts', 'Fwd Header Len', 'Fwd IAT Std', 'Fwd IAT Mean'], 'Normal sample 561': ['Init Bwd Win Byts', 'Fwd Pkt Len Std', 'Idle Max', 'Idle Min', 'Fwd Header Len', 'Bwd IAT Max', 'Idle Mean', 'Active Std', 'Bwd Pkt Len Std', 'Bwd Header Len'], 'Normal sample 562': ['Pkt Size Avg', 'Pkt Len Std', 'Pkt Len Max', 'Pkt Len Mean', 'Fwd Pkt Len Std', 'Pkt Len Min', 'Fwd IAT Std', 'Fwd Pkt Len Max', 'Flow Pkts/s', 'Fwd IAT Max'], 'Normal sample 563': ['Flow Duration', 'Bwd Pkt Len Min', 'Bwd Pkt Len Mean', 'Flow Pkts/s', 'Flow IAT Min', 'Fwd IAT Tot', 'Fwd IAT Std', 'Fwd IAT Min', 'Bwd IAT Tot', 'Bwd IAT Min'], 'Normal sample 564': ['Down/Up Ratio', 'Init Bwd Win Byts', 'Bwd Seg Size Avg', 'Idle Mean', 'Flow IAT Max', 'Bwd Pkt Len Std', 'Fwd Pkts/s', 'Fwd IAT Max', 'Fwd Pkt Len Min', 'Fwd Pkt Len Std'], 'Normal sample 565': ['Pkt Len Min', 'Down/Up Ratio', 'Pkt Size Avg', 'Flow Pkts/s', 'Pkt Len Max', 'Fwd Pkt Len Max', 'Fwd Pkt Len Std', 'Pkt Len Std', 'Pkt Len Mean', 'PSH Flag Cnt'], 'Normal sample 566': ['SYN Flag Cnt', 'Idle Max', 'Idle Min', 'Fwd Header Len', 'Subflow Bwd Byts', 'Pkt Len Min', 'URG Flag Cnt', 'Bwd Seg Size Avg', 'Bwd IAT Tot', 'Bwd Pkt Len Std'], 'Normal sample 567': ['SYN Flag Cnt', 'Bwd Pkt Len Max', 'Bwd IAT Max', 'Active Mean', 'Bwd Pkt Len Std', 'Active Min', 'Subflow Bwd Pkts', 'Bwd IAT Tot', 'Bwd Pkt Len Mean', 'Bwd Pkt Len Min'], 'Normal sample 568': ['Init Bwd Win Byts', 'Bwd Seg Size Avg', 'Idle Max', 'Fwd Pkt Len Std', 'Idle Mean', 'Bwd Pkt Len Max', 'Active Mean', 'Flow IAT Std', 'Bwd IAT Min', 'Fwd IAT Mean'], 'Normal sample 569': ['Init Bwd Win Byts', 'Idle Mean', 'Bwd IAT Min', 'TotLen Bwd Pkts', 'Fwd Pkt Len Min', 'Tot Bwd Pkts', 'Flow IAT Min', 'Active Mean', 'Tot Fwd Pkts', 'Flow Byts/s'], 'Normal sample 570': ['Pkt Len Min', 'Down/Up Ratio', 'Pkt Len Max', 'Pkt Size Avg', 'PSH Flag Cnt', 'Fwd Seg Size Avg', 'Pkt Len Mean', 'Pkt Len Std', 'Fwd Pkt Len Std', 'Fwd Pkt Len Mean'], 'Normal sample 571': ['SYN Flag Cnt', 'Bwd IAT Max', 'Bwd IAT Std', 'Idle Std', 'Active Min', 'Bwd Pkt Len Max', 'Flow Pkts/s', 'Bwd Pkt Len Min', 'Tot Fwd Pkts', 'TotLen Fwd Pkts'], 'Normal sample 572': ['Fwd IAT Std', 'Init Bwd Win Byts', 'Idle Mean', 'Bwd Pkt Len Mean', 'Fwd IAT Min', 'Fwd Header Len', 'TotLen Fwd Pkts', 'Idle Max', 'Bwd Seg Size Avg', 'Flow Duration'], 'Normal sample 573': ['SYN Flag Cnt', 'Bwd Pkt Len Max', 'PSH Flag Cnt', 'Pkt Len Var', 'Bwd IAT Tot', 'Bwd Pkt Len Std', 'Flow Duration', 'Bwd IAT Min', 'TotLen Bwd Pkts', 'Tot Fwd Pkts'], 'Normal sample 574': ['Init Bwd Win Byts', 'Bwd Pkt Len Mean', 'Tot Fwd Pkts', 'Idle Mean', 'Subflow Fwd Byts', 'Fwd IAT Std', 'Fwd IAT Mean', 'Bwd IAT Min', 'Fwd Pkt Len Std', 'Subflow Bwd Byts'], 'Normal sample 575': ['Pkt Size Avg', 'Pkt Len Max', 'Pkt Len Min', 'Pkt Len Std', 'Flow Pkts/s', 'Pkt Len Mean', 'Flow IAT Std', 'Fwd IAT Mean', 'Fwd Pkt Len Mean', 'Flow Byts/s'], 'Normal sample 576': ['Bwd PSH Flags', 'Bwd IAT Tot', 'ACK Flag Cnt', 'Bwd IAT Std', 'Active Max', 'Subflow Bwd Byts', 'Fwd Pkts/s', 'Subflow Fwd Pkts', 'Pkt Len Min', 'Bwd IAT Min'], 'Normal sample 577': ['PSH Flag Cnt', 'Bwd PSH Flags', 'Init Bwd Win Byts', 'ACK Flag Cnt', 'Pkt Len Min', 'Active Max', 'Flow Pkts/s', 'Bwd Seg Size Avg', 'Active Min', 'Fwd IAT Std'], 'Normal sample 578': ['SYN Flag Cnt', 'Bwd IAT Std', 'Bwd IAT Max', 'Fwd Pkt Len Min', 'Bwd PSH Flags', 'Bwd Pkt Len Std', 'Bwd Pkt Len Mean', 'Bwd Pkt Len Max', 'Flow Byts/s', 'Bwd Seg Size Avg'], 'Normal sample 579': ['Init Bwd Win Byts', 'Idle Min', 'Bwd Pkt Len Max', 'Bwd Pkt Len Std', 'Idle Mean', 'Fwd IAT Mean', 'Idle Max', 'Flow Duration', 'Tot Bwd Pkts', 'TotLen Bwd Pkts'], 'Normal sample 580': ['Subflow Fwd Pkts', 'Idle Min', 'Active Std', 'Init Bwd Win Byts', 'Bwd Pkt Len Mean', 'Bwd Pkt Len Max', 'Flow IAT Min', 'Subflow Bwd Pkts', 'Bwd Seg Size Avg', 'Subflow Fwd Byts'], 'Normal sample 581': ['Subflow Bwd Pkts', 'Flow IAT Max', 'Init Bwd Win Byts', 'Active Std', 'Bwd IAT Tot', 'Idle Mean', 'Fwd IAT Max', 'Idle Max', 'TotLen Bwd Pkts', 'Fwd Pkts/s'], 'Normal sample 582': ['Bwd Pkt Len Std', 'Bwd Seg Size Avg', 'Tot Bwd Pkts', 'Active Std', 'Bwd Pkt Len Mean', 'Flow Duration', 'Tot Fwd Pkts', 'TotLen Bwd Pkts', 'Fwd Pkt Len Min', 'Fwd Pkt Len Std'], 'Normal sample 583': ['Idle Max', 'Init Bwd Win Byts', 'Bwd IAT Max', 'Bwd Pkt Len Mean', 'Fwd Pkts/s', 'Idle Mean', 'Idle Min', 'Bwd Header Len', 'Fwd Pkt Len Std', 'Active Min'], 'Normal sample 584': ['Init Bwd Win Byts', 'Idle Max', 'TotLen Fwd Pkts', 'Bwd Seg Size Avg', 'Idle Mean', 'Tot Fwd Pkts', 'Fwd Pkts/s', 'Bwd Pkt Len Mean', 'Fwd Pkt Len Std', 'Fwd IAT Mean'], 'Normal sample 585': ['Idle Min', 'Idle Max', 'Bwd Pkt Len Std', 'Idle Std', 'Init Bwd Win Byts', 'Active Max', 'Bwd Seg Size Avg', 'Fwd IAT Min', 'Tot Bwd Pkts', 'Fwd IAT Mean'], 'Normal sample 586': ['Fwd IAT Max', 'Init Bwd Win Byts', 'Bwd Pkt Len Mean', 'Bwd IAT Tot', 'Subflow Fwd Byts', 'Bwd Pkt Len Std', 'Bwd URG Flags', 'Active Min', 'Idle Mean', 'Active Max'], 'Normal sample 587': ['Bwd Pkt Len Max', 'SYN Flag Cnt', 'Pkt Len Var', 'Active Min', 'Subflow Bwd Pkts', 'Idle Mean', 'URG Flag Cnt', 'Active Max', 'Bwd Pkt Len Std', 'Subflow Fwd Pkts'], 'Normal sample 588': ['Pkt Len Min', 'Pkt Len Mean', 'Pkt Len Max', 'Flow Pkts/s', 'Pkt Len Std', 'Pkt Size Avg', 'Fwd Seg Size Avg', 'Fwd IAT Mean', 'Flow Byts/s', 'Fwd Pkt Len Std'], 'Normal sample 589': ['Flow Duration', 'Tot Bwd Pkts', 'TotLen Fwd Pkts', 'TotLen Bwd Pkts', 'Fwd Pkt Len Min', 'Bwd Pkt Len Min', 'Bwd Pkt Len Mean', 'Flow IAT Mean', 'Flow IAT Std', 'Flow IAT Min'], 'Normal sample 590': ['Pkt Len Max', 'Pkt Len Mean', 'Pkt Size Avg', 'Pkt Len Min', 'Pkt Len Std', 'Flow Pkts/s', 'Fwd Seg Size Avg', 'Fwd Pkt Len Max', 'Flow Byts/s', 'Fwd IAT Mean'], 'Normal sample 591': ['ACK Flag Cnt', 'Bwd IAT Max', 'Bwd IAT Std', 'Bwd IAT Tot', 'Idle Max', 'Idle Min', 'Flow IAT Max', 'Flow IAT Min', 'Bwd Seg Size Avg', 'Bwd Pkt Len Std'], 'Normal sample 592': ['ACK Flag Cnt', 'Bwd IAT Std', 'Bwd IAT Max', 'Idle Std', 'Bwd IAT Tot', 'Flow IAT Max', 'Flow IAT Mean', 'Subflow Bwd Byts', 'Idle Mean', 'Subflow Bwd Pkts'], 'Normal sample 593': ['SYN Flag Cnt', 'Bwd Pkt Len Max', 'Bwd Pkt Len Std', 'Fwd Act Data Pkts', 'Bwd Seg Size Avg', 'Bwd Pkt Len Mean', 'Pkt Len Min', 'Tot Fwd Pkts', 'Bwd IAT Max', 'Idle Max'], 'Normal sample 594': ['SYN Flag Cnt', 'Bwd Pkt Len Max', 'Tot Fwd Pkts', 'TotLen Bwd Pkts', 'Fwd Pkt Len Min', 'Fwd Pkt Len Mean', 'Bwd Pkt Len Min', 'Bwd Pkt Len Std', 'Flow Byts/s', 'Flow IAT Mean'], 'Normal sample 595': ['Pkt Len Min', 'Pkt Len Max', 'Pkt Len Std', 'Pkt Len Mean', 'Down/Up Ratio', 'Flow Pkts/s', 'Fwd Pkt Len Max', 'Bwd Seg Size Avg', 'Pkt Size Avg', 'Flow Byts/s'], 'Normal sample 596': ['Pkt Len Min', 'Down/Up Ratio', 'Pkt Size Avg', 'Pkt Len Max', 'Pkt Len Mean', 'Fwd Pkt Len Mean', 'Pkt Len Std', 'PSH Flag Cnt', 'Active Std', 'Flow Pkts/s'], 'Normal sample 597': ['Init Bwd Win Byts', 'Bwd Pkt Len Mean', 'Idle Max', 'Subflow Bwd Byts', 'Subflow Fwd Byts', 'Fwd IAT Std', 'Flow Duration', 'Tot Fwd Pkts', 'TotLen Fwd Pkts', 'Fwd Pkt Len Max'], 'Normal sample 598': ['Flow IAT Min', 'Fwd IAT Min', 'Flow IAT Mean', 'Init Bwd Win Byts', 'Down/Up Ratio', 'Subflow Bwd Byts', 'Pkt Len Std', 'Pkt Len Max', 'Active Mean', 'Bwd Seg Size Avg'], 'Normal sample 599': ['Bwd Pkt Len Max', 'SYN Flag Cnt', 'Tot Fwd Pkts', 'Tot Bwd Pkts', 'TotLen Fwd Pkts', 'TotLen Bwd Pkts', 'Fwd Pkt Len Min', 'Bwd Pkt Len Min', 'Bwd Pkt Len Std', 'Flow Byts/s'], 'Normal sample 600': ['SYN Flag Cnt', 'Bwd Pkt Len Max', 'Tot Bwd Pkts', 'Fwd IAT Std', 'Bwd PSH Flags', 'Flow IAT Min', 'Flow IAT Mean', 'Flow IAT Std', 'Subflow Bwd Byts', 'Fwd Pkt Len Mean'], 'Normal sample 601': ['Bwd Pkt Len Mean', 'Init Bwd Win Byts', 'Bwd IAT Min', 'Idle Std', 'Fwd Header Len', 'Idle Mean', 'Idle Max', 'Fwd IAT Max', 'Active Max', 'Active Std'], 'Normal sample 602': ['Init Bwd Win Byts', 'TotLen Fwd Pkts', 'Flow Duration', 'Tot Fwd Pkts', 'Fwd Pkt Len Min', 'Bwd Pkt Len Max', 'Bwd Pkt Len Min', 'Bwd Pkt Len Mean', 'Bwd Pkt Len Std', 'Flow IAT Min'], 'Normal sample 603': ['Bwd PSH Flags', 'Bwd Pkt Len Min', 'Subflow Bwd Pkts', 'Bwd Pkt Len Mean', 'TotLen Fwd Pkts', 'Subflow Fwd Pkts', 'TotLen Bwd Pkts', 'Tot Bwd Pkts', 'Tot Fwd Pkts', 'Bwd Pkt Len Max'], 'Normal sample 604': ['Idle Min', 'Tot Fwd Pkts', 'Init Bwd Win Byts', 'Idle Max', 'Active Std', 'Bwd IAT Min', 'Tot Bwd Pkts', 'Flow Duration', 'Subflow Bwd Pkts', 'Flow IAT Min'], 'Normal sample 605': ['SYN Flag Cnt', 'Bwd Pkt Len Max', 'Pkt Len Var', 'Bwd IAT Tot', 'Flow IAT Min', 'Bwd Pkt Len Min', 'Active Std', 'Bwd Pkt Len Std', 'Fwd Act Data Pkts', 'Tot Fwd Pkts'], 'Normal sample 606': ['Pkt Len Min', 'Fwd Pkts/s', 'Fwd Pkt Len Min', 'Tot Fwd Pkts', 'Tot Bwd Pkts', 'TotLen Fwd Pkts', 'Bwd Pkt Len Max', 'Bwd Pkt Len Min', 'Bwd Pkt Len Mean', 'Flow Byts/s'], 'Normal sample 607': ['Idle Max', 'Idle Min', 'Init Bwd Win Byts', 'Idle Mean', 'Fwd IAT Tot', 'Active Mean', 'Bwd Pkt Len Mean', 'Bwd IAT Min', 'TotLen Bwd Pkts', 'Subflow Fwd Byts'], 'Normal sample 608': ['Bwd PSH Flags', 'Bwd Pkt Len Min', 'Fwd Pkt Len Std', 'Pkt Len Var', 'Bwd Seg Size Avg', 'Fwd Pkt Len Mean', 'Fwd Header Len', 'Flow Duration', 'Active Mean', 'Subflow Bwd Byts'], 'Normal sample 609': ['SYN Flag Cnt', 'Bwd Pkt Len Max', 'Tot Bwd Pkts', 'Bwd IAT Mean', 'Tot Fwd Pkts', 'TotLen Fwd Pkts', 'TotLen Bwd Pkts', 'Bwd Pkt Len Min', 'Bwd Pkt Len Mean', 'Bwd Pkt Len Std'], 'Normal sample 610': ['Bwd IAT Tot', 'Bwd IAT Max', 'Idle Max', 'ACK Flag Cnt', 'Bwd Pkt Len Mean', 'Subflow Bwd Pkts', 'Bwd IAT Std', 'Flow IAT Max', 'Idle Mean', 'Tot Bwd Pkts'], 'Normal sample 611': ['Pkt Len Min', 'Pkt Len Mean', 'Pkt Len Std', 'Down/Up Ratio', 'Pkt Len Max', 'PSH Flag Cnt', 'Active Max', 'Flow Pkts/s', 'Pkt Size Avg', 'Fwd Act Data Pkts'], 'Normal sample 612': ['SYN Flag Cnt', 'Bwd IAT Max', 'Bwd IAT Std', 'Flow Byts/s', 'Bwd Pkt Len Std', 'Active Mean', 'TotLen Fwd Pkts', 'Flow IAT Min', 'Bwd Pkt Len Min', 'Active Min'], 'Normal sample 613': ['SYN Flag Cnt', 'Bwd IAT Max', 'Bwd IAT Std', 'Active Min', 'Bwd Pkt Len Max', 'Pkt Len Min', 'Active Mean', 'Subflow Fwd Pkts', 'Tot Bwd Pkts', 'TotLen Fwd Pkts'], 'Normal sample 614': ['FIN Flag Cnt', 'Down/Up Ratio', 'Flow Pkts/s', 'Pkt Len Min', 'Bwd Pkts/s', 'Active Min', 'Bwd Pkt Len Std', 'Subflow Bwd Byts', 'Pkt Len Max', 'PSH Flag Cnt'], 'Normal sample 615': ['Bwd Seg Size Avg', 'Bwd Header Len', 'Fwd IAT Max', 'Fwd IAT Min', 'Idle Max', 'Fwd Pkt Len Std', 'Bwd Pkt Len Std', 'Init Bwd Win Byts', 'Fwd Pkt Len Max', 'Fwd Pkts/s'], 'Normal sample 616': ['Bwd IAT Tot', 'Bwd IAT Max', 'Init Bwd Win Byts', 'Idle Min', 'TotLen Fwd Pkts', 'Fwd Pkt Len Std', 'Bwd Pkt Len Max', 'Bwd Pkt Len Std', 'Active Mean', 'Flow IAT Min'], 'Normal sample 617': ['Init Bwd Win Byts', 'Bwd Pkt Len Std', 'Fwd IAT Max', 'Idle Min', 'Fwd Header Len', 'Active Mean', 'Idle Max', 'Fwd Act Data Pkts', 'TotLen Bwd Pkts', 'Flow Duration'], 'Normal sample 618': ['Idle Mean', 'Subflow Fwd Pkts', 'Bwd IAT Mean', 'Flow Duration', 'Tot Fwd Pkts', 'Tot Bwd Pkts', 'TotLen Fwd Pkts', 'Fwd Pkt Len Min', 'Fwd Pkt Len Mean', 'Bwd Pkt Len Max'], 'Normal sample 619': ['Init Bwd Win Byts', 'Bwd Seg Size Avg', 'Idle Mean', 'TotLen Bwd Pkts', 'Fwd IAT Max', 'Idle Min', 'Idle Max', 'Bwd Pkt Len Mean', 'Fwd Header Len', 'Bwd IAT Min'], 'Normal sample 620': ['Pkt Len Min', 'Pkt Len Std', 'Flow Pkts/s', 'Pkt Len Max', 'Down/Up Ratio', 'PSH Flag Cnt', 'Fwd Pkt Len Max', 'Pkt Len Mean', 'Fwd IAT Std', 'Fwd Seg Size Avg'], 'Normal sample 621': ['SYN Flag Cnt', 'Bwd IAT Std', 'Idle Min', 'Bwd IAT Max', 'Bwd IAT Tot', 'Bwd URG Flags', 'Idle Max', 'Active Max', 'Fwd IAT Min', 'Active Std'], 'Normal sample 622': ['Fwd IAT Max', 'Idle Max', 'Idle Min', 'Init Bwd Win Byts', 'TotLen Fwd Pkts', 'Fwd IAT Min', 'Bwd Pkt Len Std', 'Bwd IAT Min', 'Fwd Act Data Pkts', 'Flow Duration'], 'Normal sample 623': ['Idle Max', 'Init Bwd Win Byts', 'Fwd IAT Tot', 'Active Max', 'Bwd Header Len', 'Subflow Fwd Byts', 'Idle Min', 'Tot Bwd Pkts', 'Fwd Pkt Len Min', 'Fwd Header Len'], 'Normal sample 624': ['Init Bwd Win Byts', 'TotLen Fwd Pkts', 'Fwd IAT Max', 'Fwd IAT Min', 'Fwd IAT Tot', 'Subflow Bwd Byts', 'Bwd Header Len', 'Idle Max', 'Bwd IAT Mean', 'Idle Mean'], 'Normal sample 625': ['Idle Mean', 'Idle Min', 'Init Bwd Win Byts', 'Idle Max', 'Bwd Seg Size Avg', 'Tot Bwd Pkts', 'Flow IAT Std', 'TotLen Fwd Pkts', 'Tot Fwd Pkts', 'Bwd Header Len'], 'Normal sample 626': ['SYN Flag Cnt', 'Bwd IAT Std', 'Bwd IAT Max', 'Idle Min', 'Fwd Header Len', 'Flow IAT Min', 'Fwd Pkt Len Min', 'Bwd Pkt Len Std', 'Bwd Pkt Len Min', 'Idle Max'], 'Normal sample 627': ['Init Bwd Win Byts', 'Bwd Seg Size Avg', 'Idle Max', 'Bwd Pkt Len Max', 'Subflow Fwd Byts', 'Fwd IAT Max', 'Active Std', 'Fwd Pkt Len Std', 'Fwd Act Data Pkts', 'Subflow Bwd Byts'], 'Normal sample 628': ['Init Bwd Win Byts', 'Fwd IAT Std', 'Idle Mean', 'Idle Max', 'Bwd IAT Mean', 'Fwd Pkt Len Std', 'Idle Min', 'Flow Duration', 'Tot Fwd Pkts', 'TotLen Bwd Pkts'], 'Normal sample 629': ['ACK Flag Cnt', 'Bwd IAT Max', 'Bwd IAT Std', 'Bwd IAT Tot', 'Flow IAT Mean', 'Fwd IAT Min', 'Pkt Len Min', 'Fwd Pkts/s', 'Subflow Fwd Pkts', 'Idle Max'], 'Normal sample 630': ['Init Bwd Win Byts', 'Idle Mean', 'Idle Max', 'Idle Min', 'Fwd Pkt Len Std', 'Subflow Fwd Byts', 'Idle Std', 'Bwd IAT Min', 'Tot Fwd Pkts', 'Flow IAT Std'], 'Normal sample 631': ['Pkt Len Std', 'Pkt Len Mean', 'Pkt Len Max', 'Pkt Size Avg', 'Pkt Len Min', 'PSH Flag Cnt', 'Flow Pkts/s', 'Subflow Fwd Pkts', 'Subflow Bwd Byts', 'Fwd Pkt Len Max'], 'Normal sample 632': ['Init Bwd Win Byts', 'Fwd IAT Std', 'Subflow Bwd Pkts', 'Bwd Header Len', 'Bwd Pkt Len Mean', 'Tot Bwd Pkts', 'Subflow Fwd Pkts', 'Fwd IAT Tot', 'Idle Max', 'Active Std'], 'Normal sample 633': ['Down/Up Ratio', 'Bwd Pkt Len Max', 'Subflow Bwd Pkts', 'Idle Min', 'Idle Mean', 'Init Bwd Win Byts', 'Fwd IAT Std', 'Bwd Pkt Len Mean', 'Bwd Pkt Len Std', 'Bwd Header Len'], 'Normal sample 634': ['Bwd IAT Mean', 'Fwd Pkt Len Std', 'Bwd Seg Size Avg', 'Idle Min', 'TotLen Fwd Pkts', 'TotLen Bwd Pkts', 'Bwd Pkt Len Max', 'Bwd Pkt Len Mean', 'Flow Pkts/s', 'Flow IAT Mean'], 'Normal sample 635': ['ACK Flag Cnt', 'Bwd IAT Max', 'Flow IAT Max', 'Bwd IAT Tot', 'Idle Max', 'Idle Std', 'Bwd IAT Std', 'Idle Min', 'TotLen Fwd Pkts', 'Idle Mean'], 'Normal sample 636': ['Init Bwd Win Byts', 'Idle Min', 'Active Min', 'Bwd IAT Min', 'Bwd URG Flags', 'Fwd Act Data Pkts', 'Subflow Bwd Pkts', 'Fwd IAT Mean', 'Bwd IAT Tot', 'Bwd Pkt Len Max'], 'Normal sample 637': ['Init Bwd Win Byts', 'Idle Mean', 'Fwd Header Len', 'Bwd Seg Size Avg', 'Bwd Pkt Len Std', 'Subflow Fwd Pkts', 'TotLen Fwd Pkts', 'Idle Max', 'Subflow Bwd Byts', 'Fwd IAT Max'], 'Normal sample 638': ['Bwd Pkt Len Mean', 'Bwd Seg Size Avg', 'Subflow Bwd Pkts', 'Init Bwd Win Byts', 'Subflow Bwd Byts', 'Pkt Len Var', 'Bwd IAT Tot', 'Subflow Fwd Byts', 'Flow IAT Min', 'Bwd Pkt Len Std'], 'Normal sample 639': ['Down/Up Ratio', 'Pkt Len Min', 'Init Bwd Win Byts', 'Pkt Len Max', 'Pkt Len Mean', 'Pkt Len Std', 'Bwd Pkt Len Min', 'Fwd Pkt Len Max', 'Fwd Pkt Len Mean', 'Fwd Seg Size Avg'], 'Normal sample 640': ['Bwd PSH Flags', 'Bwd IAT Std', 'Bwd Pkt Len Std', 'Flow Byts/s', 'Tot Fwd Pkts', 'TotLen Bwd Pkts', 'Pkt Len Std', 'Idle Max', 'Bwd Seg Size Avg', 'Pkt Size Avg'], 'Normal sample 641': ['SYN Flag Cnt', 'Bwd Pkt Len Max', 'Bwd Pkt Len Min', 'Flow IAT Std', 'Pkt Len Min', 'Active Mean', 'Subflow Bwd Pkts', 'Fwd Pkt Len Min', 'Flow Byts/s', 'Flow Duration'], 'Normal sample 642': ['Init Bwd Win Byts', 'Idle Max', 'TotLen Fwd Pkts', 'Fwd IAT Max', 'Fwd IAT Min', 'Subflow Fwd Byts', 'Idle Min', 'Idle Mean', 'Fwd Pkts/s', 'Active Std'], 'Normal sample 643': ['Init Bwd Win Byts', 'Idle Mean', 'Idle Min', 'Active Std', 'Bwd Pkt Len Max', 'Idle Max', 'Idle Std', 'Bwd Pkt Len Std', 'Fwd Act Data Pkts', 'TotLen Fwd Pkts'], 'Normal sample 644': ['Bwd Pkt Len Max', 'Subflow Fwd Pkts', 'Init Bwd Win Byts', 'Idle Max', 'Flow IAT Mean', 'Tot Fwd Pkts', 'Idle Mean', 'Flow Duration', 'Tot Bwd Pkts', 'TotLen Fwd Pkts'], 'Normal sample 645': ['Fwd Pkts/s', 'Bwd IAT Min', 'Bwd IAT Max', 'Tot Fwd Pkts', 'Subflow Bwd Pkts', 'Fwd IAT Tot', 'Idle Min', 'Tot Bwd Pkts', 'Active Mean', 'Subflow Bwd Byts'], 'Normal sample 646': ['Idle Max', 'Init Bwd Win Byts', 'Flow Byts/s', 'Flow Duration', 'Idle Min', 'Active Mean', 'Bwd Pkt Len Std', 'Tot Fwd Pkts', 'TotLen Bwd Pkts', 'Tot Bwd Pkts'], 'Normal sample 647': ['Idle Min', 'Tot Fwd Pkts', 'Init Bwd Win Byts', 'Idle Mean', 'Active Min', 'Active Max', 'Bwd Pkt Len Max', 'Subflow Bwd Byts', 'Subflow Bwd Pkts', 'Bwd Seg Size Avg'], 'Normal sample 648': ['Bwd Pkt Len Mean', 'Fwd Header Len', 'Idle Mean', 'Idle Std', 'Idle Min', 'Idle Max', 'Bwd IAT Mean', 'Bwd Header Len', 'Tot Bwd Pkts', 'TotLen Fwd Pkts'], 'Normal sample 649': ['Tot Fwd Pkts', 'Tot Bwd Pkts', 'TotLen Fwd Pkts', 'Fwd Pkt Len Min', 'Bwd Pkt Len Max', 'Bwd Pkt Len Min', 'Bwd Pkt Len Mean', 'Bwd Pkt Len Std', 'Flow IAT Mean', 'Flow IAT Std'], 'Normal sample 650': ['SYN Flag Cnt', 'Bwd IAT Max', 'Bwd Pkt Len Max', 'Bwd IAT Std', 'Bwd Seg Size Avg', 'Bwd Pkt Len Std', 'Bwd IAT Tot', 'Flow IAT Mean', 'Pkt Len Min', 'Subflow Fwd Byts'], 'Normal sample 651': ['Pkt Len Max', 'Fwd Pkt Len Max', 'Flow Pkts/s', 'Pkt Len Mean', 'Pkt Len Std', 'Pkt Len Min', 'Fwd Pkt Len Mean', 'Pkt Size Avg', 'TotLen Bwd Pkts', 'Flow IAT Max'], 'Normal sample 652': ['Init Bwd Win Byts', 'Idle Max', 'Bwd Pkt Len Max', 'Active Max', 'Bwd IAT Tot', 'Active Std', 'Bwd IAT Min', 'Bwd Pkt Len Mean', 'Active Min', 'Fwd Header Len'], 'Normal sample 653': ['Bwd Pkt Len Max', 'Tot Fwd Pkts', 'Tot Bwd Pkts', 'TotLen Fwd Pkts', 'TotLen Bwd Pkts', 'Fwd Pkt Len Min', 'Bwd Pkt Len Min', 'Bwd Pkt Len Mean', 'Bwd Pkt Len Std', 'Flow IAT Mean'], 'Normal sample 654': ['Init Bwd Win Byts', 'Idle Min', 'Fwd Header Len', 'Flow Byts/s', 'Fwd Pkt Len Std', 'Fwd IAT Mean', 'Flow Duration', 'Tot Bwd Pkts', 'TotLen Fwd Pkts', 'TotLen Bwd Pkts'], 'Normal sample 655': ['Bwd Pkt Len Mean', 'Init Bwd Win Byts', 'Fwd Header Len', 'Fwd Pkt Len Std', 'Subflow Bwd Byts', 'Active Min', 'Tot Fwd Pkts', 'TotLen Fwd Pkts', 'TotLen Bwd Pkts', 'Fwd Pkt Len Min'], 'Normal sample 656': ['SYN Flag Cnt', 'Bwd Pkt Len Max', 'Bwd Pkt Len Std', 'Bwd Pkt Len Mean', 'Idle Min', 'Bwd Seg Size Avg', 'Bwd Pkt Len Min', 'TotLen Fwd Pkts', 'Subflow Fwd Pkts', 'Fwd Pkt Len Min'], 'Normal sample 657': ['SYN Flag Cnt', 'Bwd IAT Max', 'Idle Max', 'Bwd IAT Std', 'Idle Mean', 'Idle Std', 'Fwd IAT Min', 'Bwd Pkt Len Max', 'Active Std', 'Active Min'], 'Normal sample 658': ['Idle Mean', 'Init Bwd Win Byts', 'Idle Max', 'Bwd Pkt Len Mean', 'Bwd Seg Size Avg', 'Fwd IAT Tot', 'Active Std', 'Fwd IAT Max', 'Fwd IAT Mean', 'Tot Bwd Pkts'], 'Normal sample 659': ['Fwd IAT Mean', 'Idle Min', 'Subflow Bwd Byts', 'Subflow Bwd Pkts', 'Bwd IAT Min', 'Init Bwd Win Byts', 'Bwd Header Len', 'Subflow Fwd Byts', 'TotLen Bwd Pkts', 'Flow IAT Min'], 'Normal sample 660': ['Fwd Pkts/s', 'Init Bwd Win Byts', 'Bwd Pkt Len Mean', 'Bwd Pkt Len Max', 'Subflow Fwd Byts', 'Tot Bwd Pkts', 'Active Max', 'Idle Min', 'Fwd Header Len', 'Fwd IAT Max'], 'Normal sample 661': ['Subflow Bwd Pkts', 'Init Bwd Win Byts', 'Idle Min', 'Bwd Header Len', 'Idle Max', 'Flow IAT Mean', 'Subflow Bwd Byts', 'TotLen Fwd Pkts', 'Fwd Act Data Pkts', 'Active Mean'], 'Normal sample 662': ['Idle Max', 'Init Bwd Win Byts', 'TotLen Bwd Pkts', 'Flow Duration', 'Tot Fwd Pkts', 'Tot Bwd Pkts', 'TotLen Fwd Pkts', 'Fwd Pkt Len Max', 'Bwd Pkt Len Mean', 'Bwd Pkt Len Std'], 'Normal sample 663': ['Init Bwd Win Byts', 'Idle Max', 'Tot Fwd Pkts', 'TotLen Fwd Pkts', 'Fwd IAT Mean', 'Idle Min', 'Fwd Header Len', 'Subflow Bwd Pkts', 'Active Min', 'Flow IAT Std'], 'Normal sample 664': ['SYN Flag Cnt', 'Bwd Pkt Len Max', 'Bwd IAT Max', 'Active Max', 'Bwd IAT Std', 'Bwd Pkt Len Std', 'Bwd Pkt Len Mean', 'Bwd Pkt Len Min', 'Idle Std', 'Tot Fwd Pkts'], 'Normal sample 665': ['Init Bwd Win Byts', 'TotLen Bwd Pkts', 'Bwd IAT Max', 'Bwd IAT Mean', 'Idle Max', 'Bwd Seg Size Avg', 'Fwd IAT Mean', 'Idle Mean', 'Flow IAT Min', 'Bwd IAT Min'], 'Normal sample 666': ['Init Bwd Win Byts', 'Fwd Pkt Len Min', 'Bwd IAT Tot', 'Idle Min', 'Pkt Len Var', 'Fwd IAT Std', 'Active Max', 'Active Min', 'Subflow Bwd Byts', 'Fwd Act Data Pkts'], 'Normal sample 667': ['FIN Flag Cnt', 'Flow Pkts/s', 'Down/Up Ratio', 'Pkt Len Min', 'Bwd Pkt Len Min', 'Fwd Seg Size Avg', 'Bwd Pkt Len Max', 'Bwd Pkt Len Std', 'Pkt Size Avg', 'Idle Max'], 'Normal sample 668': ['TotLen Bwd Pkts', 'Bwd IAT Min', 'Pkt Len Var', 'Init Bwd Win Byts', 'Bwd IAT Tot', 'Idle Max', 'Fwd Pkt Len Min', 'Fwd IAT Min', 'Idle Mean', 'Bwd Pkt Len Mean'], 'Normal sample 669': ['Fwd IAT Tot', 'Init Bwd Win Byts', 'Fwd IAT Max', 'Flow Duration', 'Idle Max', 'Tot Bwd Pkts', 'TotLen Bwd Pkts', 'Fwd Pkt Len Min', 'Fwd Pkt Len Std', 'Bwd Pkt Len Max'], 'Normal sample 670': ['Pkt Len Std', 'Pkt Len Max', 'Flow Pkts/s', 'Pkt Len Min', 'Pkt Len Mean', 'Pkt Size Avg', 'Fwd Seg Size Avg', 'Fwd Pkt Len Max', 'Fwd IAT Std', 'Fwd IAT Tot'], 'Normal sample 671': ['Pkt Len Min', 'Pkt Size Avg', 'Pkt Len Mean', 'Pkt Len Max', 'Fwd Pkt Len Mean', 'Pkt Len Std', 'Fwd Pkt Len Max', 'Fwd Pkt Len Std', 'Fwd Seg Size Avg', 'Flow IAT Std'], 'Normal sample 672': ['Flow Duration', 'Tot Fwd Pkts', 'TotLen Fwd Pkts', 'Bwd Pkt Len Max', 'Bwd Pkt Len Min', 'Bwd Pkt Len Mean', 'Flow IAT Std', 'Flow IAT Min', 'Fwd IAT Tot', 'Fwd IAT Mean'], 'Normal sample 673': ['SYN Flag Cnt', 'Bwd Pkt Len Max', 'Bwd IAT Max', 'Bwd Pkt Len Std', 'Active Mean', 'Subflow Bwd Byts', 'Bwd IAT Std', 'Active Max', 'Active Min', 'Bwd IAT Min'], 'Normal sample 674': ['Pkt Len Min', 'Pkt Len Mean', 'Pkt Len Max', 'Pkt Size Avg', 'Pkt Len Std', 'Flow Pkts/s', 'Fwd Pkt Len Mean', 'Bwd IAT Min', 'Fwd Pkt Len Std', 'Bwd URG Flags'], 'Normal sample 675': ['Init Bwd Win Byts', 'Pkt Len Var', 'Idle Min', 'Tot Bwd Pkts', 'Fwd IAT Min', 'Bwd Pkt Len Mean', 'Idle Max', 'Bwd IAT Max', 'Fwd IAT Mean', 'Flow Duration'], 'Normal sample 676': ['Init Bwd Win Byts', 'Down/Up Ratio', 'Idle Min', 'Bwd Pkt Len Mean', 'Tot Bwd Pkts', 'Bwd IAT Min', 'Fwd Act Data Pkts', 'Fwd IAT Std', 'Active Std', 'Flow Duration'], 'Normal sample 677': ['Init Bwd Win Byts', 'Flow IAT Std', 'Idle Std', 'Subflow Fwd Pkts', 'Bwd Pkt Len Max', 'Idle Min', 'Fwd IAT Max', 'Bwd Pkt Len Mean', 'Fwd IAT Std', 'Idle Max'], 'Normal sample 678': ['Init Bwd Win Byts', 'Idle Mean', 'Bwd Pkt Len Mean', 'Flow IAT Mean', 'Bwd Pkt Len Std', 'Subflow Bwd Byts', 'Subflow Fwd Byts', 'Flow IAT Max', 'Fwd Pkts/s', 'Fwd Pkt Len Max'], 'Normal sample 679': ['Bwd Pkts/s', 'Fwd Pkts/s', 'Pkt Len Min', 'FIN Flag Cnt', 'Pkt Len Max', 'Bwd Header Len', 'TotLen Fwd Pkts', 'Fwd Header Len', 'Fwd IAT Mean', 'Active Min'], 'Normal sample 680': ['Pkt Len Min', 'Down/Up Ratio', 'Pkt Size Avg', 'Pkt Len Std', 'Fwd Seg Size Avg', 'Fwd Pkt Len Max', 'Pkt Len Max', 'Fwd Act Data Pkts', 'Flow Pkts/s', 'Fwd Pkt Len Std'], 'Normal sample 681': ['SYN Flag Cnt', 'Bwd Pkt Len Max', 'Bwd IAT Std', 'Tot Bwd Pkts', 'TotLen Bwd Pkts', 'Fwd Pkt Len Min', 'Fwd Pkt Len Mean', 'Bwd Pkt Len Min', 'Bwd Pkt Len Std', 'Flow Byts/s'], 'Normal sample 682': ['Pkt Len Min', 'Pkt Len Max', 'Pkt Len Std', 'Down/Up Ratio', 'Pkt Len Mean', 'Flow Pkts/s', 'Fwd Pkt Len Std', 'Flow IAT Min', 'Fwd Pkt Len Max', 'Fwd IAT Tot'], 'Normal sample 683': ['Active Max', 'Bwd IAT Tot', 'ACK Flag Cnt', 'Bwd Header Len', 'Active Mean', 'Bwd IAT Max', 'Bwd PSH Flags', 'Tot Bwd Pkts', 'Idle Max', 'Idle Mean'], 'Normal sample 684': ['SYN Flag Cnt', 'Bwd Pkt Len Max', 'Bwd IAT Max', 'Bwd Pkt Len Std', 'Bwd IAT Std', 'Idle Max', 'PSH Flag Cnt', 'Tot Fwd Pkts', 'TotLen Fwd Pkts', 'Fwd Pkt Len Min'], 'Normal sample 685': ['Bwd IAT Tot', 'Bwd PSH Flags', 'ACK Flag Cnt', 'Bwd IAT Std', 'Bwd IAT Max', 'Flow IAT Max', 'Idle Max', 'Idle Min', 'Active Std', 'Fwd Seg Size Avg'], 'Normal sample 686': ['Flow Byts/s', 'Init Bwd Win Byts', 'Idle Mean', 'Idle Min', 'Flow IAT Max', 'TotLen Fwd Pkts', 'Active Max', 'Pkt Len Var', 'Fwd Act Data Pkts', 'Flow Duration'], 'Normal sample 687': ['SYN Flag Cnt', 'Idle Min', 'Tot Bwd Pkts', 'Bwd Pkt Len Max', 'Bwd Pkt Len Mean', 'Bwd PSH Flags', 'Flow IAT Max', 'Subflow Fwd Pkts', 'Bwd Pkt Len Std', 'Bwd Seg Size Avg'], 'Normal sample 688': ['ACK Flag Cnt', 'Bwd IAT Max', 'Bwd IAT Std', 'Idle Max', 'Bwd IAT Tot', 'Active Mean', 'Idle Min', 'Flow IAT Max', 'Idle Mean', 'Bwd IAT Min'], 'Normal sample 689': ['SYN Flag Cnt', 'Bwd IAT Std', 'Bwd IAT Tot', 'Bwd IAT Max', 'Subflow Fwd Byts', 'Subflow Fwd Pkts', 'Fwd Pkts/s', 'Flow IAT Mean', 'Flow IAT Max', 'Fwd Seg Size Avg'], 'Normal sample 690': ['FIN Flag Cnt', 'Down/Up Ratio', 'Flow Pkts/s', 'Pkt Len Min', 'Pkt Size Avg', 'Bwd Pkt Len Min', 'Fwd Pkt Len Max', 'Fwd IAT Std', 'Bwd Pkt Len Max', 'Fwd IAT Tot'], 'Normal sample 691': ['Init Bwd Win Byts', 'Tot Bwd Pkts', 'Bwd Pkt Len Max', 'Bwd Pkt Len Mean', 'Idle Min', 'Bwd IAT Mean', 'Fwd Pkt Len Max', 'Fwd IAT Tot', 'Bwd Seg Size Avg', 'Tot Fwd Pkts'], 'Normal sample 692': ['Init Bwd Win Byts', 'Idle Max', 'Flow Duration', 'Bwd Pkt Len Max', 'Active Mean', 'Flow Pkts/s', 'Fwd IAT Mean', 'Active Min', 'Idle Mean', 'Fwd Pkt Len Std'], 'Normal sample 693': ['Bwd PSH Flags', 'Down/Up Ratio', 'Fwd Pkt Len Min', 'Idle Mean', 'Fwd Act Data Pkts', 'Active Std', 'Flow IAT Min', 'Flow IAT Std', 'TotLen Fwd Pkts', 'Bwd Pkt Len Min'], 'Normal sample 694': ['Init Bwd Win Byts', 'Bwd Pkt Len Std', 'Bwd IAT Tot', 'Fwd IAT Std', 'Flow IAT Min', 'TotLen Fwd Pkts', 'Active Mean', 'Idle Max', 'Flow Duration', 'Tot Fwd Pkts'], 'Normal sample 695': ['Pkt Len Var', 'Tot Fwd Pkts', 'Active Max', 'Init Bwd Win Byts', 'Idle Max', 'Fwd IAT Mean', 'Bwd Pkt Len Std', 'TotLen Fwd Pkts', 'TotLen Bwd Pkts', 'Fwd Pkt Len Max'], 'Normal sample 696': ['Bwd IAT Std', 'Idle Max', 'Init Bwd Win Byts', 'Bwd Pkt Len Max', 'Fwd IAT Tot', 'Flow IAT Mean', 'Tot Fwd Pkts', 'Active Max', 'Idle Min', 'Active Mean'], 'Normal sample 697': ['SYN Flag Cnt', 'Bwd Pkt Len Max', 'PSH Flag Cnt', 'Fwd Act Data Pkts', 'Bwd IAT Max', 'FIN Flag Cnt', 'Idle Std', 'Subflow Fwd Pkts', 'Idle Mean', 'Active Mean'], 'Normal sample 698': ['Fwd Header Len', 'Init Bwd Win Byts', 'Bwd IAT Max', 'Bwd Pkt Len Mean', 'Idle Max', 'Flow Duration', 'Bwd IAT Tot', 'Tot Fwd Pkts', 'Active Mean', 'Flow Pkts/s'], 'Normal sample 699': ['SYN Flag Cnt', 'Bwd Pkt Len Max', 'Bwd Pkt Len Std', 'Bwd IAT Std', 'Bwd Pkt Len Mean', 'URG Flag Cnt', 'Bwd Pkt Len Min', 'Fwd Pkt Len Min', 'Bwd IAT Mean', 'Bwd Header Len'], 'Normal sample 700': ['Bwd PSH Flags', 'Bwd Pkt Len Min', 'Fwd IAT Mean', 'Flow Duration', 'Fwd Seg Size Avg', 'Bwd URG Flags', 'Subflow Fwd Pkts', 'Pkt Len Min', 'Bwd Seg Size Avg', 'Fwd Pkt Len Max'], 'Normal sample 701': ['Init Bwd Win Byts', 'Subflow Bwd Byts', 'Idle Max', 'Bwd Pkt Len Std', 'Fwd IAT Max', 'Bwd PSH Flags', 'Bwd Header Len', 'Flow Duration', 'TotLen Bwd Pkts', 'Fwd Pkt Len Min'], 'Normal sample 702': ['FIN Flag Cnt', 'Down/Up Ratio', 'Flow Pkts/s', 'Pkt Len Min', 'Bwd Pkt Len Min', 'Fwd IAT Std', 'Tot Bwd Pkts', 'TotLen Fwd Pkts', 'URG Flag Cnt', 'Bwd Pkt Len Max'], 'Normal sample 703': ['FIN Flag Cnt', 'Flow Pkts/s', 'Down/Up Ratio', 'Pkt Len Min', 'Bwd Pkt Len Mean', 'Bwd Pkt Len Min', 'Subflow Bwd Byts', 'Idle Std', 'Idle Min', 'Bwd IAT Mean'], 'Normal sample 704': ['Init Bwd Win Byts', 'Fwd IAT Max', 'Idle Min', 'Subflow Bwd Pkts', 'Idle Max', 'Bwd Seg Size Avg', 'Fwd IAT Mean', 'Fwd Pkt Len Std', 'Fwd Pkts/s', 'Active Std'], 'Normal sample 705': ['Init Bwd Win Byts', 'Bwd Pkt Len Std', 'Bwd Seg Size Avg', 'Fwd Pkts/s', 'Fwd IAT Tot', 'Active Min', 'Subflow Fwd Byts', 'Fwd Header Len', 'Idle Max', 'Flow IAT Max'], 'Normal sample 706': ['Pkt Len Min', 'Down/Up Ratio', 'Pkt Len Std', 'Pkt Len Max', 'Flow Pkts/s', 'Pkt Size Avg', 'Fwd IAT Std', 'PSH Flag Cnt', 'Bwd Pkt Len Min', 'Active Min'], 'Normal sample 707': ['SYN Flag Cnt', 'Bwd Pkt Len Min', 'Tot Bwd Pkts', 'URG Flag Cnt', 'PSH Flag Cnt', 'Tot Fwd Pkts', 'TotLen Fwd Pkts', 'Fwd Pkt Len Min', 'Bwd Pkt Len Max', 'Bwd Pkt Len Mean'], 'Normal sample 708': ['Fwd IAT Mean', 'Tot Bwd Pkts', 'Tot Fwd Pkts', 'Fwd Act Data Pkts', 'Flow Byts/s', 'Init Bwd Win Byts', 'Subflow Bwd Pkts', 'Idle Mean', 'Bwd Header Len', 'Active Max'], 'Normal sample 709': ['Down/Up Ratio', 'Pkt Len Max', 'Pkt Len Mean', 'Pkt Len Min', 'Pkt Size Avg', 'Pkt Len Std', 'Fwd Pkt Len Max', 'Idle Std', 'Active Std', 'Fwd IAT Tot'], 'Normal sample 710': ['Init Bwd Win Byts', 'Idle Mean', 'Bwd Header Len', 'Tot Bwd Pkts', 'Bwd IAT Min', 'Bwd Seg Size Avg', 'Fwd IAT Std', 'Pkt Len Var', 'Bwd IAT Max', 'Active Max'], 'Normal sample 711': ['ACK Flag Cnt', 'Bwd IAT Std', 'Bwd IAT Max', 'Bwd IAT Tot', 'Idle Std', 'Flow IAT Max', 'Flow IAT Mean', 'Idle Max', 'Idle Mean', 'Tot Fwd Pkts'], 'Normal sample 712': ['Idle Min', 'Init Bwd Win Byts', 'Flow Duration', 'Tot Fwd Pkts', 'TotLen Fwd Pkts', 'TotLen Bwd Pkts', 'Fwd Pkt Len Std', 'Bwd Pkt Len Max', 'Bwd Pkt Len Mean', 'Bwd Pkt Len Std'], 'Normal sample 713': ['TotLen Bwd Pkts', 'Tot Bwd Pkts', 'Fwd IAT Mean', 'Idle Max', 'Fwd IAT Min', 'Init Bwd Win Byts', 'Bwd IAT Tot', 'Bwd IAT Max', 'Bwd Pkt Len Std', 'Pkt Len Var'], 'Normal sample 714': ['Idle Min', 'TotLen Fwd Pkts', 'Idle Max', 'Subflow Bwd Byts', 'Init Bwd Win Byts', 'Fwd IAT Std', 'Idle Mean', 'Bwd Header Len', 'Active Min', 'Fwd IAT Tot'], 'Normal sample 715': ['Bwd IAT Max', 'Bwd Header Len', 'Tot Fwd Pkts', 'Fwd IAT Std', 'Idle Max', 'Flow IAT Max', 'Subflow Bwd Byts', 'Pkt Len Var', 'Idle Std', 'Bwd Seg Size Avg'], 'Normal sample 716': ['Idle Max', 'Subflow Fwd Pkts', 'Subflow Fwd Byts', 'Idle Std', 'Tot Fwd Pkts', 'Bwd IAT Max', 'Init Bwd Win Byts', 'Active Std', 'Idle Mean', 'Bwd Pkt Len Mean'], 'Normal sample 717': ['Init Bwd Win Byts', 'Idle Max', 'Flow IAT Std', 'Subflow Fwd Pkts', 'Fwd IAT Min', 'Bwd Pkt Len Mean', 'Fwd IAT Max', 'Bwd IAT Min', 'Pkt Len Var', 'Flow Duration'], 'Normal sample 718': ['Bwd PSH Flags', 'Bwd Pkt Len Min', 'Subflow Bwd Byts', 'Subflow Fwd Byts', 'Flow IAT Mean', 'Bwd URG Flags', 'Pkt Len Min', 'Fwd Seg Size Avg', 'Pkt Len Max', 'Bwd Seg Size Avg'], 'Normal sample 719': ['SYN Flag Cnt', 'Bwd Pkt Len Max', 'Bwd Pkt Len Mean', 'Bwd Header Len', 'Bwd IAT Min', 'Bwd IAT Mean', 'Fwd IAT Std', 'Bwd Pkt Len Std', 'Bwd IAT Max', 'Active Min'], 'Normal sample 720': ['SYN Flag Cnt', 'Bwd Pkt Len Max', 'Bwd IAT Max', 'Bwd Pkt Len Std', 'Bwd IAT Std', 'Pkt Len Min', 'Flow IAT Min', 'Idle Min', 'Bwd Seg Size Avg', 'Bwd IAT Tot'], 'Normal sample 721': ['Init Bwd Win Byts', 'Idle Min', 'Subflow Fwd Byts', 'Bwd Pkt Len Std', 'Active Std', 'Fwd IAT Std', 'Idle Mean', 'Bwd IAT Tot', 'Tot Bwd Pkts', 'Active Min'], 'Normal sample 722': ['Init Bwd Win Byts', 'Idle Min', 'Bwd Seg Size Avg', 'Fwd IAT Min', 'Fwd IAT Max', 'Bwd Pkt Len Max', 'Flow Duration', 'Subflow Bwd Pkts', 'Tot Bwd Pkts', 'TotLen Fwd Pkts'], 'Normal sample 723': ['SYN Flag Cnt', 'Bwd Pkt Len Max', 'Idle Max', 'Fwd Pkts/s', 'Active Max', 'Bwd IAT Tot', 'Bwd IAT Max', 'Tot Fwd Pkts', 'Tot Bwd Pkts', 'TotLen Fwd Pkts'], 'Normal sample 724': ['SYN Flag Cnt', 'Bwd IAT Max', 'Idle Std', 'Bwd IAT Tot', 'Bwd IAT Std', 'Pkt Len Min', 'Idle Max', 'Bwd Header Len', 'Subflow Fwd Byts', 'URG Flag Cnt'], 'Normal sample 725': ['Pkt Len Min', 'Pkt Size Avg', 'Pkt Len Max', 'Pkt Len Mean', 'Pkt Len Std', 'Fwd Pkt Len Max', 'Flow Pkts/s', 'Flow Byts/s', 'Fwd Pkt Len Mean', 'Fwd Seg Size Avg'], 'Normal sample 726': ['Idle Min', 'Bwd IAT Mean', 'Idle Max', 'Bwd Seg Size Avg', 'Bwd Pkt Len Max', 'Init Bwd Win Byts', 'Flow Duration', 'Fwd IAT Tot', 'Fwd IAT Mean', 'Fwd Pkt Len Min'], 'Normal sample 727': ['SYN Flag Cnt', 'Bwd Pkt Len Max', 'Bwd Pkt Len Std', 'Bwd Pkt Len Mean', 'Subflow Bwd Byts', 'Idle Mean', 'Bwd Seg Size Avg', 'Bwd IAT Max', 'Bwd Header Len', 'Active Mean'], 'Normal sample 728': ['Bwd Pkt Len Max', 'Active Max', 'Flow Duration', 'TotLen Fwd Pkts', 'TotLen Bwd Pkts', 'Fwd Pkt Len Min', 'Bwd Pkt Len Min', 'Bwd Pkt Len Mean', 'Bwd Pkt Len Std', 'Flow IAT Std'], 'Normal sample 729': ['Pkt Len Min', 'Pkt Len Std', 'Down/Up Ratio', 'Pkt Size Avg', 'Pkt Len Mean', 'Pkt Len Max', 'Bwd Pkt Len Min', 'PSH Flag Cnt', 'Idle Max', 'Bwd IAT Tot'], 'Normal sample 730': ['Pkt Size Avg', 'Pkt Len Min', 'Down/Up Ratio', 'Pkt Len Max', 'Pkt Len Mean', 'Fwd IAT Std', 'Fwd Pkt Len Mean', 'Fwd Seg Size Avg', 'Pkt Len Std', 'Fwd IAT Min'], 'Normal sample 731': ['SYN Flag Cnt', 'Bwd Pkt Len Max', 'Bwd Pkt Len Std', 'ACK Flag Cnt', 'Bwd Header Len', 'Bwd Pkt Len Mean', 'Idle Mean', 'Tot Bwd Pkts', 'Flow Byts/s', 'Bwd IAT Std'], 'Normal sample 732': ['Down/Up Ratio', 'Pkt Size Avg', 'Pkt Len Max', 'Pkt Len Min', 'Fwd Pkt Len Mean', 'Active Min', 'Flow IAT Mean', 'Pkt Len Mean', 'Active Std', 'Fwd Pkts/s'], 'Normal sample 733': ['Active Max', 'Bwd Pkt Len Mean', 'Fwd Pkt Len Std', 'Bwd Seg Size Avg', 'Idle Std', 'Init Bwd Win Byts', 'TotLen Bwd Pkts', 'Idle Mean', 'Idle Min', 'Pkt Len Var'], 'Normal sample 734': ['Idle Max', 'Idle Min', 'Idle Mean', 'Pkt Len Var', 'Fwd Act Data Pkts', 'Fwd IAT Std', 'Fwd IAT Max', 'Init Bwd Win Byts', 'Fwd IAT Mean', 'Fwd Pkts/s'], 'Normal sample 735': ['Init Bwd Win Byts', 'Bwd Header Len', 'Fwd IAT Min', 'Bwd IAT Mean', 'Bwd IAT Tot', 'Bwd Pkt Len Mean', 'Idle Std', 'Pkt Len Var', 'Fwd Pkts/s', 'Idle Min'], 'Normal sample 736': ['SYN Flag Cnt', 'Bwd IAT Std', 'Flow IAT Min', 'Bwd IAT Max', 'Bwd Pkt Len Std', 'Bwd Pkt Len Max', 'Bwd Pkt Len Mean', 'Active Std', 'Bwd Pkt Len Min', 'Fwd IAT Min'], 'Normal sample 737': ['Bwd IAT Max', 'Bwd IAT Tot', 'ACK Flag Cnt', 'Idle Max', 'Flow IAT Max', 'Idle Mean', 'Idle Min', 'Bwd IAT Std', 'Active Max', 'Bwd Header Len'], 'Normal sample 738': ['Fwd IAT Mean', 'Idle Mean', 'Bwd IAT Mean', 'Idle Std', 'Idle Min', 'Init Bwd Win Byts', 'Active Mean', 'Active Std', 'Flow IAT Min', 'TotLen Bwd Pkts'], 'Normal sample 739': ['Pkt Len Min', 'Flow Pkts/s', 'Fwd Pkt Len Std', 'Pkt Len Std', 'Down/Up Ratio', 'Subflow Fwd Pkts', 'Pkt Size Avg', 'Fwd Seg Size Avg', 'Fwd Pkt Len Max', 'Pkt Len Max'], 'Normal sample 740': ['SYN Flag Cnt', 'Bwd IAT Max', 'Bwd IAT Std', 'Fwd Pkts/s', 'Fwd IAT Min', 'Bwd Pkt Len Std', 'Bwd Pkt Len Min', 'Tot Bwd Pkts', 'Bwd Seg Size Avg', 'Bwd Pkt Len Max'], 'Normal sample 741': ['Subflow Fwd Pkts', 'Active Std', 'Idle Std', 'Idle Max', 'Idle Mean', 'Subflow Bwd Pkts', 'Fwd Pkts/s', 'Bwd Seg Size Avg', 'Init Bwd Win Byts', 'Subflow Bwd Byts'], 'Normal sample 742': ['Bwd IAT Min', 'Init Bwd Win Byts', 'Active Max', 'Flow IAT Mean', 'Bwd Pkt Len Std', 'Bwd Seg Size Avg', 'Active Min', 'TotLen Fwd Pkts', 'Flow IAT Max', 'Tot Fwd Pkts'], 'Normal sample 743': ['Flow IAT Min', 'Init Bwd Win Byts', 'Idle Mean', 'Bwd Pkt Len Max', 'Fwd Pkt Len Min', 'Flow Byts/s', 'Idle Min', 'Bwd Seg Size Avg', 'Bwd Pkt Len Mean', 'Idle Max'], 'Normal sample 744': ['SYN Flag Cnt', 'TotLen Fwd Pkts', 'Pkt Len Var', 'Flow Byts/s', 'Bwd Pkt Len Mean', 'Idle Mean', 'Active Mean', 'Tot Fwd Pkts', 'Tot Bwd Pkts', 'TotLen Bwd Pkts'], 'Normal sample 745': ['SYN Flag Cnt', 'Bwd IAT Std', 'Down/Up Ratio', 'Bwd IAT Max', 'Bwd Pkt Len Std', 'Idle Mean', 'Idle Max', 'Flow IAT Mean', 'Subflow Bwd Pkts', 'TotLen Fwd Pkts'], 'Normal sample 746': ['Init Bwd Win Byts', 'TotLen Fwd Pkts', 'Flow Duration', 'TotLen Bwd Pkts', 'Fwd Pkt Len Max', 'Fwd Pkt Len Std', 'Bwd Pkt Len Max', 'Bwd Pkt Len Mean', 'Bwd Pkt Len Std', 'Flow Pkts/s'], 'Normal sample 747': ['Pkt Len Min', 'Fwd Pkts/s', 'Subflow Bwd Pkts', 'Flow Duration', 'Tot Fwd Pkts', 'Tot Bwd Pkts', 'TotLen Fwd Pkts', 'TotLen Bwd Pkts', 'Flow Byts/s', 'Flow IAT Min'], 'Normal sample 748': ['ACK Flag Cnt', 'Bwd IAT Std', 'Bwd IAT Tot', 'Bwd IAT Max', 'Bwd IAT Mean', 'Flow IAT Mean', 'Bwd IAT Min', 'Fwd Pkt Len Min', 'Idle Std', 'Bwd Header Len'], 'Normal sample 749': ['Active Min', 'ACK Flag Cnt', 'Active Mean', 'Bwd IAT Max', 'Active Max', 'Bwd IAT Tot', 'Flow IAT Max', 'Bwd Header Len', 'Subflow Bwd Pkts', 'Pkt Len Min'], 'Normal sample 750': ['Init Bwd Win Byts', 'Fwd IAT Tot', 'Bwd Pkt Len Std', 'Idle Max', 'Active Max', 'Active Std', 'Idle Min', 'Pkt Len Var', 'Idle Std', 'Fwd IAT Max'], 'Normal sample 751': ['SYN Flag Cnt', 'Bwd Pkt Len Max', 'Bwd Pkt Len Std', 'Flow Byts/s', 'Bwd Pkt Len Min', 'Bwd IAT Max', 'Bwd Pkt Len Mean', 'Bwd PSH Flags', 'Subflow Bwd Pkts', 'Bwd IAT Min'], 'Normal sample 752': ['Down/Up Ratio', 'Tot Bwd Pkts', 'TotLen Fwd Pkts', 'TotLen Bwd Pkts', 'Fwd Pkt Len Min', 'Bwd Pkt Len Max', 'Bwd Pkt Len Min', 'Flow Byts/s', 'Flow IAT Mean', 'Fwd IAT Mean'], 'Normal sample 753': ['Bwd PSH Flags', 'Bwd Pkt Len Max', 'Pkt Len Min', 'Flow Duration', 'Idle Std', 'Fwd Act Data Pkts', 'Bwd IAT Mean', 'Fwd IAT Tot', 'Tot Fwd Pkts', 'Tot Bwd Pkts'], 'Normal sample 754': ['Bwd Pkt Len Mean', 'Idle Min', 'Init Bwd Win Byts', 'Flow IAT Min', 'Bwd IAT Mean', 'Bwd Header Len', 'Bwd IAT Tot', 'Active Mean', 'Bwd Seg Size Avg', 'Fwd Pkt Len Std'], 'Normal sample 755': ['Bwd IAT Tot', 'Bwd IAT Max', 'ACK Flag Cnt', 'Idle Max', 'Bwd IAT Std', 'Bwd PSH Flags', 'Idle Min', 'Idle Mean', 'Active Min', 'Idle Std'], 'Normal sample 756': ['SYN Flag Cnt', 'Bwd IAT Max', 'Bwd IAT Std', 'Idle Max', 'Idle Mean', 'Bwd Pkt Len Mean', 'Bwd IAT Tot', 'Fwd Pkts/s', 'Down/Up Ratio', 'Bwd Pkt Len Std'], 'Normal sample 757': ['Flow Duration', 'TotLen Fwd Pkts', 'TotLen Bwd Pkts', 'Fwd Pkt Len Min', 'Bwd Pkt Len Max', 'Bwd Pkt Len Min', 'Bwd Pkt Len Mean', 'Bwd Pkt Len Std', 'Flow Byts/s', 'Flow IAT Mean'], 'Normal sample 758': ['Init Bwd Win Byts', 'Fwd Pkt Len Min', 'Fwd IAT Min', 'Subflow Bwd Byts', 'Pkt Len Var', 'Tot Bwd Pkts', 'Idle Mean', 'Bwd Pkt Len Max', 'Fwd IAT Tot', 'Idle Min'], 'Normal sample 759': ['Init Bwd Win Byts', 'Idle Mean', 'Bwd Pkt Len Std', 'Bwd Pkt Len Mean', 'Idle Max', 'Idle Min', 'Pkt Len Var', 'Flow IAT Mean', 'Fwd Act Data Pkts', 'Fwd IAT Min'], 'Normal sample 760': ['Init Bwd Win Byts', 'Active Max', 'Pkt Len Var', 'Fwd IAT Mean', 'TotLen Fwd Pkts', 'Bwd IAT Max', 'Fwd IAT Tot', 'Flow Pkts/s', 'Fwd Pkt Len Min', 'Bwd Seg Size Avg'], 'Normal sample 761': ['Init Bwd Win Byts', 'Subflow Fwd Pkts', 'Idle Max', 'Idle Mean', 'Flow IAT Mean', 'TotLen Bwd Pkts', 'Idle Std', 'Idle Min', 'Bwd IAT Tot', 'Tot Bwd Pkts'], 'Normal sample 762': ['Bwd Pkt Len Max', 'Init Bwd Win Byts', 'Idle Std', 'Idle Min', 'Idle Mean', 'Pkt Len Var', 'Bwd Pkt Len Mean', 'Fwd IAT Min', 'TotLen Fwd Pkts', 'Active Mean'], 'Normal sample 763': ['Init Bwd Win Byts', 'TotLen Bwd Pkts', 'Bwd Pkt Len Max', 'Tot Fwd Pkts', 'Tot Bwd Pkts', 'TotLen Fwd Pkts', 'Bwd Pkt Len Min', 'Bwd Pkt Len Mean', 'Bwd Pkt Len Std', 'Flow Pkts/s'], 'Normal sample 764': ['SYN Flag Cnt', 'Bwd Pkt Len Max', 'Idle Min', 'Active Min', 'Pkt Len Min', 'Idle Mean', 'Fwd Pkt Len Min', 'Tot Bwd Pkts', 'TotLen Fwd Pkts', 'TotLen Bwd Pkts'], 'Normal sample 765': ['SYN Flag Cnt', 'Idle Mean', 'Tot Bwd Pkts', 'Bwd Pkt Len Max', 'Fwd Pkt Len Min', 'Bwd IAT Mean', 'Bwd Seg Size Avg', 'Idle Max', 'TotLen Fwd Pkts', 'TotLen Bwd Pkts'], 'Normal sample 766': ['Bwd Pkt Len Max', 'SYN Flag Cnt', 'Pkt Len Min', 'TotLen Fwd Pkts', 'URG Flag Cnt', 'Fwd Seg Size Avg', 'Bwd Header Len', 'Pkt Len Var', 'Bwd IAT Max', 'Tot Fwd Pkts'], 'Normal sample 767': ['Bwd PSH Flags', 'Bwd Pkt Len Min', 'URG Flag Cnt', 'Bwd IAT Mean', 'Subflow Fwd Pkts', 'Tot Fwd Pkts', 'Subflow Bwd Pkts', 'Bwd URG Flags', 'Flow IAT Min', 'Fwd IAT Tot'], 'Normal sample 768': ['Pkt Len Min', 'Pkt Size Avg', 'Fwd IAT Min', 'Pkt Len Std', 'Pkt Len Max', 'Down/Up Ratio', 'Pkt Len Mean', 'Flow Pkts/s', 'Fwd Pkt Len Max', 'Fwd Pkt Len Std'], 'Normal sample 769': ['Bwd IAT Max', 'ACK Flag Cnt', 'Bwd IAT Tot', 'Bwd PSH Flags', 'Idle Max', 'Bwd IAT Std', 'Idle Min', 'Flow IAT Max', 'Pkt Len Min', 'Active Max'], 'Normal sample 770': ['SYN Flag Cnt', 'Bwd IAT Max', 'Bwd IAT Std', 'Fwd Header Len', 'Pkt Len Min', 'Bwd Pkt Len Max', 'Bwd Pkt Len Min', 'Idle Mean', 'Idle Max', 'Subflow Bwd Byts'], 'Normal sample 771': ['SYN Flag Cnt', 'Bwd Pkt Len Max', 'Bwd Pkt Len Std', 'Down/Up Ratio', 'Bwd IAT Std', 'Bwd Header Len', 'Bwd Seg Size Avg', 'Pkt Len Min', 'Bwd Pkt Len Mean', 'Active Min'], 'Normal sample 772': ['Active Mean', 'Idle Max', 'Bwd Pkt Len Mean', 'Bwd URG Flags', 'Active Max', 'Fwd IAT Mean', 'Fwd Pkts/s', 'Idle Mean', 'Tot Fwd Pkts', 'Init Bwd Win Byts'], 'Normal sample 773': ['Pkt Len Mean', 'Pkt Len Std', 'Pkt Len Max', 'Pkt Size Avg', 'Pkt Len Min', 'Fwd Pkt Len Std', 'Active Min', 'Fwd Pkt Len Mean', 'Subflow Fwd Byts', 'Fwd Pkt Len Max'], 'Normal sample 774': ['SYN Flag Cnt', 'TotLen Bwd Pkts', 'Idle Min', 'Active Mean', 'Bwd Seg Size Avg', 'Idle Max', 'Fwd Pkts/s', 'Pkt Len Min', 'Tot Fwd Pkts', 'PSH Flag Cnt'], 'Normal sample 775': ['SYN Flag Cnt', 'Bwd IAT Max', 'Bwd IAT Std', 'Bwd IAT Tot', 'Idle Mean', 'Flow IAT Max', 'Idle Max', 'Bwd IAT Mean', 'Tot Fwd Pkts', 'Idle Min'], 'Normal sample 776': ['ACK Flag Cnt', 'Bwd IAT Max', 'Bwd IAT Tot', 'Idle Max', 'Flow IAT Max', 'Bwd IAT Std', 'Bwd PSH Flags', 'Flow IAT Mean', 'Idle Mean', 'Active Min'], 'Normal sample 777': ['SYN Flag Cnt', 'Bwd IAT Max', 'Bwd IAT Std', 'TotLen Fwd Pkts', 'URG Flag Cnt', 'Bwd Pkt Len Min', 'Idle Mean', 'Flow IAT Min', 'Subflow Bwd Pkts', 'Bwd Pkt Len Std'], 'Normal sample 778': ['Pkt Len Min', 'Pkt Len Max', 'Pkt Len Std', 'Pkt Size Avg', 'Down/Up Ratio', 'Pkt Len Mean', 'Fwd IAT Mean', 'Flow Pkts/s', 'Fwd Pkt Len Mean', 'Flow Byts/s'], 'Normal sample 779': ['Init Bwd Win Byts', 'Flow IAT Std', 'Idle Min', 'Active Std', 'Idle Max', 'TotLen Bwd Pkts', 'Pkt Len Var', 'Idle Mean', 'Fwd Pkt Len Std', 'Flow IAT Mean'], 'Normal sample 780': ['Init Bwd Win Byts', 'TotLen Fwd Pkts', 'Active Mean', 'Pkt Len Var', 'Fwd IAT Std', 'Bwd Pkt Len Mean', 'TotLen Bwd Pkts', 'Idle Min', 'Idle Mean', 'Fwd Header Len'], 'Normal sample 781': ['Bwd IAT Std', 'Bwd IAT Tot', 'Flow IAT Mean', 'Bwd IAT Max', 'Flow IAT Std', 'Bwd IAT Mean', 'Init Bwd Win Byts', 'Fwd IAT Mean', 'Active Min', 'Subflow Bwd Byts'], 'Normal sample 782': ['Bwd IAT Tot', 'Bwd Seg Size Avg', 'Active Max', 'Pkt Len Var', 'Init Bwd Win Byts', 'Bwd Pkt Len Max', 'Bwd Pkt Len Std', 'Idle Max', 'Fwd Header Len', 'Flow IAT Min'], 'Normal sample 783': ['TotLen Bwd Pkts', 'Fwd Pkts/s', 'Bwd Header Len', 'Bwd Pkt Len Mean', 'Subflow Bwd Byts', 'Init Bwd Win Byts', 'Flow Duration', 'Active Min', 'Fwd IAT Tot', 'Idle Max'], 'Normal sample 784': ['Fwd IAT Tot', 'Flow IAT Max', 'Idle Max', 'Bwd Pkt Len Std', 'Idle Min', 'Bwd IAT Tot', 'Fwd Seg Size Avg', 'Bwd Seg Size Avg', 'Active Min', 'Pkt Len Var'], 'Normal sample 785': ['Down/Up Ratio', 'Fwd IAT Tot', 'Bwd Pkt Len Mean', 'Init Bwd Win Byts', 'Bwd Pkt Len Std', 'Idle Max', 'Flow IAT Std', 'Idle Min', 'Idle Mean', 'Fwd IAT Min'], 'Normal sample 786': ['Flow Duration', 'Bwd Pkt Len Mean', 'Init Bwd Win Byts', 'Flow IAT Max', 'Bwd Pkt Len Std', 'Idle Max', 'Bwd Pkt Len Max', 'Tot Fwd Pkts', 'TotLen Fwd Pkts', 'TotLen Bwd Pkts'], 'Normal sample 787': ['ACK Flag Cnt', 'Bwd IAT Tot', 'Bwd IAT Std', 'Bwd IAT Max', 'Idle Max', 'Subflow Bwd Byts', 'Flow IAT Max', 'Idle Min', 'Bwd PSH Flags', 'Bwd Pkt Len Std'], 'Normal sample 788': ['Pkt Len Var', 'Subflow Bwd Pkts', 'Bwd Pkt Len Std', 'Flow IAT Min', 'Idle Mean', 'TotLen Fwd Pkts', 'Init Bwd Win Byts', 'Fwd Act Data Pkts', 'Flow Duration', 'Subflow Fwd Pkts'], 'Normal sample 789': ['Init Bwd Win Byts', 'Fwd IAT Std', 'Flow Duration', 'Idle Min', 'Subflow Bwd Byts', 'Active Min', 'Bwd Header Len', 'Subflow Bwd Pkts', 'Pkt Len Var', 'Bwd Pkt Len Mean'], 'Normal sample 790': ['Down/Up Ratio', 'Idle Min', 'Init Bwd Win Byts', 'Idle Mean', 'Flow Byts/s', 'Subflow Fwd Byts', 'Fwd IAT Std', 'Bwd Pkt Len Mean', 'Fwd Seg Size Avg', 'Tot Fwd Pkts'], 'Normal sample 791': ['SYN Flag Cnt', 'Bwd Pkt Len Max', 'Bwd Pkt Len Std', 'Bwd Pkt Len Mean', 'Pkt Len Var', 'Down/Up Ratio', 'Bwd IAT Max', 'Bwd IAT Tot', 'Bwd IAT Min', 'PSH Flag Cnt'], 'Normal sample 792': ['SYN Flag Cnt', 'Bwd IAT Max', 'Bwd IAT Std', 'Bwd IAT Tot', 'Flow IAT Max', 'Flow IAT Mean', 'Flow IAT Min', 'Fwd Seg Size Avg', 'Fwd Pkts/s', 'Bwd Pkt Len Max'], 'Normal sample 793': ['Bwd Header Len', 'Init Bwd Win Byts', 'Active Std', 'Bwd Pkt Len Std', 'Pkt Len Var', 'Fwd Pkt Len Min', 'Bwd IAT Tot', 'Bwd URG Flags', 'Idle Mean', 'Bwd Pkt Len Max'], 'Normal sample 794': ['SYN Flag Cnt', 'Active Max', 'Active Mean', 'Bwd IAT Max', 'Idle Max', 'Fwd Pkt Len Min', 'Idle Min', 'Bwd IAT Tot', 'Idle Mean', 'Pkt Len Var'], 'Normal sample 795': ['Idle Min', 'Tot Fwd Pkts', 'Idle Mean', 'Idle Max', 'Init Bwd Win Byts', 'Fwd IAT Std', 'Flow Duration', 'Tot Bwd Pkts', 'TotLen Fwd Pkts', 'TotLen Bwd Pkts'], 'Normal sample 796': ['SYN Flag Cnt', 'Bwd IAT Max', 'Bwd Pkt Len Max', 'Bwd IAT Std', 'Tot Bwd Pkts', 'Bwd Seg Size Avg', 'Fwd Pkts/s', 'Bwd Pkt Len Mean', 'Bwd Pkt Len Std', 'Pkt Len Min'], 'Normal sample 797': ['SYN Flag Cnt', 'Bwd IAT Max', 'Bwd Pkt Len Min', 'Pkt Len Min', 'Subflow Fwd Byts', 'TotLen Bwd Pkts', 'Bwd IAT Std', 'Fwd Header Len', 'Bwd Pkt Len Std', 'Bwd IAT Min'], 'Normal sample 798': ['ACK Flag Cnt', 'Bwd IAT Std', 'Bwd IAT Max', 'Bwd IAT Tot', 'URG Flag Cnt', 'Idle Max', 'Pkt Len Min', 'Fwd Act Data Pkts', 'Flow IAT Mean', 'Flow IAT Max'], 'Normal sample 799': ['Pkt Len Min', 'Down/Up Ratio', 'Fwd Pkt Len Max', 'Pkt Len Std', 'Flow Byts/s', 'Pkt Size Avg', 'Fwd Pkt Len Mean', 'Pkt Len Max', 'Bwd Pkt Len Min', 'Flow Pkts/s'], 'Normal sample 800': ['Pkt Len Min', 'Down/Up Ratio', 'Pkt Len Mean', 'Pkt Size Avg', 'Pkt Len Max', 'Flow Pkts/s', 'Fwd Pkt Len Mean', 'Pkt Len Std', 'PSH Flag Cnt', 'Bwd Pkt Len Min'], 'Normal sample 801': ['SYN Flag Cnt', 'Bwd Pkt Len Max', 'Bwd IAT Max', 'Pkt Len Min', 'Fwd IAT Min', 'Bwd IAT Std', 'Bwd Pkt Len Min', 'Flow IAT Max', 'Active Mean', 'Bwd IAT Mean'], 'Normal sample 802': ['ACK Flag Cnt', 'Bwd IAT Max', 'Flow IAT Max', 'Idle Max', 'Bwd IAT Std', 'Bwd IAT Tot', 'Idle Mean', 'Flow Byts/s', 'Bwd IAT Mean', 'Idle Min'], 'Normal sample 803': ['Down/Up Ratio', 'Init Bwd Win Byts', 'Pkt Len Var', 'Flow Byts/s', 'Fwd IAT Max', 'Fwd IAT Tot', 'Idle Mean', 'Bwd Pkt Len Std', 'Active Max', 'Idle Min'], 'Normal sample 804': ['Bwd PSH Flags', 'Bwd URG Flags', 'Bwd Pkt Len Min', 'Idle Min', 'Pkt Len Min', 'Bwd Seg Size Avg', 'Subflow Bwd Pkts', 'Bwd Header Len', 'Idle Std', 'Bwd IAT Std'], 'Normal sample 805': ['Idle Min', 'Bwd Seg Size Avg', 'Active Min', 'Subflow Bwd Byts', 'Init Bwd Win Byts', 'Bwd Pkt Len Max', 'Bwd IAT Tot', 'Fwd IAT Max', 'Active Std', 'Subflow Fwd Byts'], 'Normal sample 806': ['SYN Flag Cnt', 'Bwd Pkt Len Max', 'Idle Max', 'Tot Bwd Pkts', 'TotLen Bwd Pkts', 'Fwd Pkt Len Min', 'Flow Pkts/s', 'Flow IAT Mean', 'Flow IAT Max', 'Flow IAT Min'], 'Normal sample 807': ['Init Bwd Win Byts', 'Active Mean', 'Bwd Pkt Len Std', 'Active Std', 'Bwd Pkt Len Mean', 'Tot Bwd Pkts', 'Idle Max', 'Idle Min', 'Bwd Header Len', 'Bwd Seg Size Avg'], 'Normal sample 808': ['ACK Flag Cnt', 'Bwd IAT Std', 'Bwd IAT Tot', 'Bwd IAT Max', 'Flow IAT Max', 'Fwd Pkt Len Min', 'Bwd PSH Flags', 'Subflow Bwd Byts', 'Fwd IAT Min', 'Fwd Pkts/s'], 'Normal sample 809': ['Init Bwd Win Byts', 'Idle Max', 'Bwd Pkt Len Mean', 'TotLen Bwd Pkts', 'Bwd Pkt Len Std', 'Tot Fwd Pkts', 'Bwd IAT Min', 'Fwd Pkt Len Min', 'Idle Mean', 'Fwd Pkt Len Std'], 'Normal sample 810': ['Init Bwd Win Byts', 'Fwd Pkts/s', 'Fwd IAT Std', 'Active Min', 'Idle Max', 'Fwd Header Len', 'Bwd Pkt Len Mean', 'Idle Min', 'Idle Mean', 'Bwd Pkt Len Std'], 'Normal sample 811': ['SYN Flag Cnt', 'Bwd Pkt Len Max', 'Bwd IAT Max', 'Bwd IAT Std', 'Active Min', 'Bwd Pkt Len Std', 'Active Mean', 'Pkt Len Min', 'Bwd Pkt Len Mean', 'Bwd Pkt Len Min'], 'Normal sample 812': ['Fwd IAT Max', 'Init Bwd Win Byts', 'Active Std', 'Idle Mean', 'Idle Max', 'Bwd Header Len', 'Bwd Pkt Len Max', 'Fwd Act Data Pkts', 'Bwd Pkt Len Mean', 'Bwd Pkt Len Std'], 'Normal sample 813': ['SYN Flag Cnt', 'Bwd Pkt Len Max', 'Bwd Pkt Len Min', 'Fwd IAT Max', 'Flow Duration', 'Tot Fwd Pkts', 'Tot Bwd Pkts', 'Fwd Pkt Len Min', 'Bwd Pkt Len Std', 'Flow Pkts/s'], 'Normal sample 814': ['Tot Bwd Pkts', 'TotLen Fwd Pkts', 'Flow Duration', 'Tot Fwd Pkts', 'TotLen Bwd Pkts', 'Fwd Pkt Len Min', 'Bwd Pkt Len Max', 'Bwd Pkt Len Min', 'Bwd Pkt Len Mean', 'Bwd Pkt Len Std'], 'Normal sample 815': ['Pkt Len Min', 'Pkt Len Std', 'Pkt Len Max', 'Pkt Len Mean', 'Flow Pkts/s', 'Pkt Size Avg', 'Fwd Seg Size Avg', 'Fwd Pkt Len Max', 'Fwd Pkt Len Std', 'Flow Byts/s'], 'Normal sample 816': ['Flow Duration', 'Tot Bwd Pkts', 'TotLen Bwd Pkts', 'Bwd Pkt Len Max', 'Bwd Pkt Len Mean', 'Bwd Pkt Len Std', 'Flow Pkts/s', 'Flow IAT Mean', 'Flow IAT Min', 'Fwd IAT Tot'], 'Normal sample 817': ['SYN Flag Cnt', 'Bwd Pkt Len Max', 'TotLen Fwd Pkts', 'Fwd Pkt Len Mean', 'Flow Pkts/s', 'Tot Bwd Pkts', 'TotLen Bwd Pkts', 'Fwd Pkt Len Min', 'Bwd Pkt Len Min', 'Bwd Pkt Len Std'], 'Normal sample 818': ['Init Bwd Win Byts', 'Bwd Pkt Len Max', 'Fwd Pkts/s', 'Tot Fwd Pkts', 'Flow IAT Min', 'Subflow Bwd Byts', 'Bwd Pkt Len Std', 'Idle Mean', 'Idle Min', 'Bwd IAT Tot'], 'Normal sample 819': ['Bwd IAT Std', 'Bwd IAT Max', 'ACK Flag Cnt', 'Idle Std', 'Bwd PSH Flags', 'Idle Min', 'Bwd IAT Tot', 'Flow IAT Max', 'Idle Max', 'Active Std'], 'Normal sample 820': ['SYN Flag Cnt', 'Bwd IAT Max', 'Bwd IAT Std', 'Bwd IAT Mean', 'Tot Fwd Pkts', 'Tot Bwd Pkts', 'TotLen Fwd Pkts', 'TotLen Bwd Pkts', 'Fwd Pkt Len Min', 'Bwd Pkt Len Max'], 'Normal sample 821': ['FIN Flag Cnt', 'Down/Up Ratio', 'Flow Pkts/s', 'Pkt Len Min', 'Pkt Size Avg', 'Fwd Pkt Len Std', 'Idle Min', 'Pkt Len Max', 'Active Min', 'Bwd Pkts/s'], 'Normal sample 822': ['Idle Max', 'Fwd Header Len', 'Init Bwd Win Byts', 'Active Mean', 'Bwd IAT Min', 'TotLen Bwd Pkts', 'Idle Std', 'Bwd Seg Size Avg', 'Pkt Len Var', 'Active Min'], 'Normal sample 823': ['Init Bwd Win Byts', 'Bwd Pkt Len Min', 'Flow Duration', 'Tot Fwd Pkts', 'Tot Bwd Pkts', 'TotLen Fwd Pkts', 'TotLen Bwd Pkts', 'Fwd Pkt Len Min', 'Bwd Pkt Len Mean', 'Bwd Pkt Len Std'], 'Normal sample 824': ['Pkt Len Mean', 'Pkt Len Min', 'Pkt Len Max', 'Pkt Size Avg', 'PSH Flag Cnt', 'Fwd Pkt Len Std', 'Flow Pkts/s', 'Pkt Len Std', 'Fwd Pkt Len Mean', 'Fwd Pkt Len Max'], 'Normal sample 825': ['Bwd IAT Tot', 'Bwd IAT Max', 'Idle Max', 'Idle Mean', 'Flow IAT Max', 'ACK Flag Cnt', 'Bwd URG Flags', 'Fwd Pkts/s', 'Bwd IAT Std', 'Idle Min'], 'Normal sample 826': ['SYN Flag Cnt', 'Bwd Pkt Len Max', 'Down/Up Ratio', 'Idle Max', 'Tot Bwd Pkts', 'Pkt Len Min', 'Idle Std', 'Fwd Pkt Len Min', 'Bwd Pkt Len Min', 'Active Min'], 'Normal sample 827': ['FIN Flag Cnt', 'Down/Up Ratio', 'Pkt Len Min', 'Flow Pkts/s', 'TotLen Fwd Pkts', 'Pkt Len Mean', 'Pkt Len Max', 'Bwd Pkt Len Min', 'Fwd IAT Tot', 'Fwd IAT Std'], 'Normal sample 828': ['SYN Flag Cnt', 'Bwd Pkt Len Max', 'Bwd IAT Max', 'TotLen Bwd Pkts', 'Bwd IAT Std', 'Tot Fwd Pkts', 'Active Min', 'Flow IAT Min', 'Bwd IAT Min', 'Idle Mean'], 'Normal sample 829': ['Bwd PSH Flags', 'Bwd Seg Size Avg', 'Pkt Len Mean', 'Flow IAT Std', 'Bwd URG Flags', 'Down/Up Ratio', 'Flow IAT Max', 'Idle Max', 'Flow Duration', 'Pkt Len Std'], 'Normal sample 830': ['SYN Flag Cnt', 'Bwd IAT Max', 'Bwd IAT Tot', 'Bwd IAT Std', 'Tot Bwd Pkts', 'Active Min', 'Active Mean', 'Subflow Fwd Byts', 'Fwd Pkt Len Mean', 'Subflow Bwd Byts'], 'Normal sample 831': ['SYN Flag Cnt', 'Bwd Seg Size Avg', 'Bwd Pkt Len Max', 'Tot Bwd Pkts', 'TotLen Bwd Pkts', 'Fwd Pkt Len Min', 'Bwd Pkt Len Std', 'Flow Byts/s', 'Flow IAT Mean', 'Flow IAT Min'], 'Normal sample 832': ['SYN Flag Cnt', 'Bwd Pkt Len Max', 'Flow Duration', 'Tot Fwd Pkts', 'TotLen Fwd Pkts', 'Fwd Pkt Len Min', 'Bwd Pkt Len Min', 'Flow Byts/s', 'Flow Pkts/s', 'Flow IAT Max'], 'Normal sample 833': ['Bwd IAT Tot', 'ACK Flag Cnt', 'Bwd PSH Flags', 'Bwd IAT Std', 'Bwd IAT Max', 'Idle Max', 'Idle Min', 'TotLen Fwd Pkts', 'Flow IAT Mean', 'Bwd IAT Mean'], 'Normal sample 834': ['Pkt Len Min', 'Init Bwd Win Byts', 'Subflow Fwd Pkts', 'Flow Duration', 'Tot Fwd Pkts', 'Tot Bwd Pkts', 'TotLen Fwd Pkts', 'Fwd Pkt Len Min', 'Flow Byts/s', 'Flow IAT Mean'], 'Normal sample 835': ['Active Min', 'Init Bwd Win Byts', 'Idle Std', 'Subflow Bwd Pkts', 'Bwd IAT Min', 'Idle Max', 'Bwd Pkt Len Mean', 'Pkt Len Var', 'Subflow Fwd Byts', 'Fwd Header Len'], 'Normal sample 836': ['Init Bwd Win Byts', 'Bwd Pkt Len Mean', 'Bwd IAT Mean', 'Idle Mean', 'Idle Min', 'Fwd IAT Mean', 'Fwd IAT Min', 'Bwd Header Len', 'Tot Bwd Pkts', 'Fwd Pkt Len Mean'], 'Normal sample 837': ['SYN Flag Cnt', 'Bwd Pkt Len Max', 'Bwd Pkt Len Std', 'Tot Bwd Pkts', 'Bwd Seg Size Avg', 'Idle Mean', 'Idle Max', 'Active Min', 'Bwd Pkt Len Mean', 'Flow Duration'], 'Normal sample 838': ['SYN Flag Cnt', 'Bwd IAT Max', 'Bwd IAT Std', 'Bwd Pkt Len Std', 'Bwd Pkt Len Max', 'Bwd Seg Size Avg', 'Bwd IAT Tot', 'Bwd Pkt Len Mean', 'Active Mean', 'Subflow Bwd Pkts'], 'Normal sample 839': ['Bwd PSH Flags', 'Pkt Len Min', 'Bwd Pkt Len Min', 'Active Mean', 'Fwd Act Data Pkts', 'Subflow Bwd Pkts', 'Bwd Pkt Len Std', 'Subflow Fwd Byts', 'Fwd Header Len', 'Flow IAT Min'], 'Normal sample 840': ['Fwd Header Len', 'Idle Max', 'Init Bwd Win Byts', 'Bwd IAT Tot', 'Bwd IAT Min', 'Subflow Bwd Byts', 'Pkt Len Var', 'Tot Fwd Pkts', 'Bwd Pkt Len Mean', 'Active Std'], 'Normal sample 841': ['Bwd IAT Std', 'Init Bwd Win Byts', 'Idle Min', 'Bwd Pkt Len Max', 'Idle Mean', 'Bwd IAT Max', 'Fwd IAT Tot', 'Bwd Header Len', 'Tot Fwd Pkts', 'Idle Max'], 'Normal sample 842': ['Pkt Len Min', 'Pkt Len Max', 'Fwd Pkt Len Max', 'Flow Pkts/s', 'Pkt Size Avg', 'Down/Up Ratio', 'Pkt Len Mean', 'Fwd Pkt Len Mean', 'PSH Flag Cnt', 'Pkt Len Std'], 'Normal sample 843': ['Bwd IAT Tot', 'ACK Flag Cnt', 'Bwd IAT Std', 'Bwd IAT Max', 'Bwd Pkt Len Mean', 'Idle Max', 'Down/Up Ratio', 'Fwd IAT Min', 'Bwd Pkt Len Max', 'Idle Min'], 'Normal sample 844': ['PSH Flag Cnt', 'Bwd PSH Flags', 'Init Bwd Win Byts', 'Pkt Len Min', 'Bwd Pkt Len Min', 'Fwd IAT Mean', 'Flow Pkts/s', 'ACK Flag Cnt', 'Fwd Header Len', 'Fwd IAT Std'], 'Normal sample 845': ['ACK Flag Cnt', 'Bwd IAT Std', 'Bwd IAT Max', 'Bwd IAT Tot', 'Bwd IAT Mean', 'Flow IAT Mean', 'Flow IAT Std', 'URG Flag Cnt', 'Bwd Seg Size Avg', 'Flow IAT Max'], 'Normal sample 846': ['FIN Flag Cnt', 'Flow Pkts/s', 'Down/Up Ratio', 'Pkt Len Min', 'Pkt Size Avg', 'Bwd Header Len', 'Pkt Len Std', 'Active Std', 'Active Min', 'Bwd Pkt Len Min'], 'Normal sample 847': ['Init Bwd Win Byts', 'Fwd Pkts/s', 'Idle Mean', 'Tot Fwd Pkts', 'Fwd IAT Std', 'Fwd Pkt Len Min', 'Idle Min', 'Active Min', 'Fwd Pkt Len Std', 'Fwd Header Len'], 'Normal sample 848': ['FIN Flag Cnt', 'Flow Pkts/s', 'Down/Up Ratio', 'Pkt Len Min', 'Flow Byts/s', 'Pkt Len Mean', 'Fwd IAT Mean', 'Pkt Size Avg', 'PSH Flag Cnt', 'Fwd Seg Size Avg'], 'Normal sample 849': ['FIN Flag Cnt', 'Flow Pkts/s', 'Down/Up Ratio', 'Pkt Len Min', 'Flow IAT Std', 'Pkt Len Std', 'Bwd Pkt Len Min', 'Fwd IAT Tot', 'Fwd IAT Mean', 'Fwd Pkt Len Max'], 'Normal sample 850': ['SYN Flag Cnt', 'Bwd Pkt Len Max', 'Fwd IAT Min', 'Bwd Pkt Len Std', 'Flow IAT Std', 'Active Mean', 'Tot Fwd Pkts', 'Tot Bwd Pkts', 'TotLen Bwd Pkts', 'Fwd Pkt Len Min'], 'Normal sample 851': ['Bwd IAT Tot', 'Bwd IAT Max', 'ACK Flag Cnt', 'Bwd IAT Std', 'Idle Mean', 'Flow IAT Mean', 'Bwd IAT Mean', 'Flow Pkts/s', 'Idle Min', 'Flow IAT Max'], 'Normal sample 852': ['Idle Min', 'Fwd IAT Min', 'Fwd IAT Std', 'Init Bwd Win Byts', 'Fwd Act Data Pkts', 'Bwd IAT Min', 'Subflow Bwd Byts', 'Subflow Fwd Pkts', 'Active Min', 'Active Std'], 'Normal sample 853': ['Bwd Pkt Len Max', 'Bwd Seg Size Avg', 'Bwd IAT Mean', 'Idle Mean', 'Bwd Pkt Len Std', 'Subflow Fwd Pkts', 'Idle Min', 'Init Bwd Win Byts', 'Subflow Fwd Byts', 'Tot Fwd Pkts'], 'Normal sample 854': ['Idle Mean', 'Idle Min', 'Idle Max', 'Bwd IAT Tot', 'Active Mean', 'Bwd Pkt Len Max', 'Idle Std', 'Bwd Header Len', 'Init Bwd Win Byts', 'Fwd Pkts/s'], 'Normal sample 855': ['Init Bwd Win Byts', 'Fwd IAT Std', 'Tot Bwd Pkts', 'Idle Min', 'Idle Max', 'Fwd Header Len', 'Active Max', 'Subflow Bwd Pkts', 'Fwd IAT Mean', 'Subflow Fwd Byts'], 'Normal sample 856': ['Init Bwd Win Byts', 'Flow IAT Min', 'Idle Max', 'Bwd Pkt Len Mean', 'Bwd IAT Tot', 'Idle Min', 'Fwd IAT Tot', 'Pkt Len Var', 'Tot Bwd Pkts', 'Bwd Pkt Len Std'], 'Normal sample 857': ['Init Bwd Win Byts', 'TotLen Bwd Pkts', 'Flow Duration', 'Tot Bwd Pkts', 'TotLen Fwd Pkts', 'Fwd Pkt Len Min', 'Bwd Pkt Len Max', 'Bwd Pkt Len Min', 'Flow Pkts/s', 'Flow IAT Std'], 'Normal sample 858': ['Idle Max', 'Idle Mean', 'Fwd IAT Mean', 'Init Bwd Win Byts', 'Flow IAT Min', 'Idle Min', 'Bwd Header Len', 'Active Mean', 'Active Std', 'Fwd IAT Std'], 'Normal sample 859': ['Init Bwd Win Byts', 'Fwd IAT Max', 'Idle Std', 'Flow IAT Min', 'Bwd Pkt Len Mean', 'Tot Bwd Pkts', 'Bwd IAT Max', 'Bwd Seg Size Avg', 'Subflow Bwd Byts', 'Idle Mean'], 'Normal sample 860': ['Init Bwd Win Byts', 'Bwd Pkt Len Mean', 'Fwd Act Data Pkts', 'Bwd Header Len', 'Fwd Pkts/s', 'Fwd IAT Mean', 'Fwd IAT Max', 'TotLen Bwd Pkts', 'Bwd Seg Size Avg', 'Flow Duration'], 'Normal sample 861': ['SYN Flag Cnt', 'Bwd IAT Std', 'Bwd IAT Max', 'Bwd Pkt Len Max', 'Bwd Seg Size Avg', 'Tot Fwd Pkts', 'TotLen Fwd Pkts', 'Fwd Pkt Len Min', 'Bwd Pkt Len Min', 'Bwd Pkt Len Mean'], 'Normal sample 862': ['Init Bwd Win Byts', 'Idle Min', 'Active Std', 'Fwd IAT Tot', 'Subflow Fwd Byts', 'Fwd IAT Std', 'Bwd Seg Size Avg', 'Fwd Pkt Len Min', 'Bwd Pkt Len Mean', 'Tot Bwd Pkts'], 'Normal sample 863': ['Pkt Len Min', 'Down/Up Ratio', 'Pkt Len Mean', 'Pkt Len Max', 'Pkt Size Avg', 'Pkt Len Std', 'PSH Flag Cnt', 'Flow Pkts/s', 'Fwd IAT Tot', 'Bwd IAT Mean'], 'Normal sample 864': ['Bwd IAT Mean', 'TotLen Fwd Pkts', 'Fwd Pkt Len Std', 'Active Min', 'Idle Max', 'Fwd Header Len', 'Subflow Fwd Pkts', 'Flow Byts/s', 'Idle Mean', 'Flow Pkts/s'], 'Normal sample 865': ['Flow Duration', 'Tot Fwd Pkts', 'Tot Bwd Pkts', 'TotLen Fwd Pkts', 'TotLen Bwd Pkts', 'Fwd Pkt Len Min', 'Bwd Pkt Len Max', 'Bwd Pkt Len Min', 'Bwd Pkt Len Mean', 'Flow Byts/s'], 'Normal sample 866': ['Bwd PSH Flags', 'Bwd Pkt Len Max', 'Flow IAT Std', 'TotLen Fwd Pkts', 'Bwd IAT Min', 'Active Max', 'Pkt Len Min', 'Fwd IAT Min', 'Bwd Pkt Len Mean', 'Flow Byts/s'], 'Normal sample 867': ['SYN Flag Cnt', 'Bwd IAT Max', 'Bwd IAT Std', 'Bwd IAT Tot', 'Flow IAT Mean', 'TotLen Fwd Pkts', 'URG Flag Cnt', 'Bwd Pkt Len Min', 'Active Max', 'Active Min'], 'Normal sample 868': ['Init Bwd Win Byts', 'Fwd Pkt Len Std', 'Down/Up Ratio', 'Bwd Pkt Len Mean', 'Idle Mean', 'Idle Min', 'Bwd Seg Size Avg', 'Bwd Header Len', 'Bwd Pkt Len Max', 'Active Min'], 'Normal sample 869': ['Pkt Len Min', 'Fwd IAT Mean', 'Tot Fwd Pkts', 'Tot Bwd Pkts', 'TotLen Fwd Pkts', 'Fwd IAT Max', 'Fwd PSH Flags', 'Fwd URG Flags', 'Bwd URG Flags', 'Fwd Pkts/s'], 'Normal sample 870': ['Init Bwd Win Byts', 'Tot Fwd Pkts', 'Fwd IAT Min', 'Bwd Header Len', 'Fwd Header Len', 'Bwd Seg Size Avg', 'Bwd Pkt Len Std', 'Bwd IAT Mean', 'Flow IAT Min', 'Fwd IAT Max'], 'Normal sample 871': ['SYN Flag Cnt', 'Idle Mean', 'Idle Max', 'Bwd Pkt Len Std', 'Idle Std', 'Subflow Bwd Pkts', 'Bwd Pkt Len Mean', 'Active Std', 'Flow IAT Min', 'Pkt Len Max'], 'Normal sample 872': ['Init Bwd Win Byts', 'Idle Max', 'Active Std', 'Fwd IAT Max', 'Idle Min', 'Tot Fwd Pkts', 'Idle Mean', 'Subflow Bwd Byts', 'Flow IAT Min', 'Bwd IAT Mean'], 'Normal sample 873': ['Bwd Pkt Len Std', 'TotLen Bwd Pkts', 'Idle Min', 'Init Bwd Win Byts', 'Flow IAT Max', 'Bwd Header Len', 'Fwd IAT Min', 'Bwd Pkt Len Mean', 'Idle Max', 'Flow IAT Std'], 'Normal sample 874': ['Pkt Len Min', 'Tot Fwd Pkts', 'Tot Bwd Pkts', 'TotLen Bwd Pkts', 'Flow Byts/s', 'Flow IAT Mean', 'Fwd IAT Tot', 'Fwd PSH Flags', 'Fwd URG Flags', 'Bwd URG Flags'], 'Normal sample 875': ['Bwd Pkt Len Mean', 'Bwd Seg Size Avg', 'Bwd Pkt Len Max', 'Idle Max', 'Init Bwd Win Byts', 'Active Max', 'Fwd Header Len', 'Fwd Pkts/s', 'Tot Bwd Pkts', 'TotLen Bwd Pkts'], 'Normal sample 876': ['Init Bwd Win Byts', 'Subflow Fwd Byts', 'Active Mean', 'Idle Max', 'Bwd Pkt Len Max', 'Idle Mean', 'Bwd Header Len', 'Idle Min', 'Bwd Pkt Len Std', 'Subflow Bwd Pkts'], 'Normal sample 877': ['FIN Flag Cnt', 'Down/Up Ratio', 'Flow Pkts/s', 'Pkt Len Min', 'Bwd Pkt Len Min', 'Pkt Size Avg', 'Fwd Pkts/s', 'Bwd IAT Tot', 'Pkt Len Std', 'Fwd IAT Tot'], 'Normal sample 878': ['Init Bwd Win Byts', 'Bwd Pkt Len Std', 'Idle Min', 'Idle Mean', 'Tot Fwd Pkts', 'Fwd Header Len', 'Bwd Pkt Len Max', 'Active Min', 'Active Mean', 'Fwd IAT Tot'], 'Normal sample 879': ['Init Bwd Win Byts', 'Tot Bwd Pkts', 'Tot Fwd Pkts', 'TotLen Fwd Pkts', 'TotLen Bwd Pkts', 'Fwd Pkt Len Std', 'Bwd Pkt Len Max', 'Bwd Pkt Len Mean', 'Bwd Pkt Len Std', 'Flow Byts/s'], 'Normal sample 880': ['Init Bwd Win Byts', 'Tot Bwd Pkts', 'Bwd Pkt Len Max', 'Pkt Len Var', 'Bwd Seg Size Avg', 'Bwd Header Len', 'Idle Min', 'Flow Duration', 'Fwd Pkt Len Std', 'Flow IAT Mean'], 'Normal sample 881': ['Bwd Pkt Len Max', 'Fwd Act Data Pkts', 'Init Bwd Win Byts', 'Active Std', 'Flow Duration', 'Tot Fwd Pkts', 'Tot Bwd Pkts', 'TotLen Fwd Pkts', 'TotLen Bwd Pkts', 'Bwd Pkt Len Min'], 'Normal sample 882': ['Idle Mean', 'Bwd Seg Size Avg', 'Idle Max', 'Bwd Pkt Len Std', 'Subflow Bwd Byts', 'TotLen Fwd Pkts', 'Active Mean', 'Fwd IAT Std', 'Init Bwd Win Byts', 'Fwd IAT Max'], 'Normal sample 883': ['Init Bwd Win Byts', 'Bwd Pkt Len Mean', 'Idle Mean', 'Subflow Fwd Byts', 'Bwd Pkt Len Std', 'Active Min', 'Idle Max', 'Bwd IAT Mean', 'Fwd IAT Tot', 'Subflow Bwd Byts'], 'Normal sample 884': ['Bwd IAT Mean', 'Bwd IAT Tot', 'Active Max', 'Bwd Seg Size Avg', 'Bwd IAT Max', 'Idle Mean', 'Active Std', 'Flow IAT Min', 'Tot Fwd Pkts', 'Fwd IAT Tot'], 'Normal sample 885': ['Flow Duration', 'Tot Fwd Pkts', 'TotLen Fwd Pkts', 'TotLen Bwd Pkts', 'Fwd Pkt Len Min', 'Bwd Pkt Len Max', 'Bwd Pkt Len Min', 'Flow Byts/s', 'Flow IAT Max', 'Flow IAT Min'], 'Normal sample 886': ['SYN Flag Cnt', 'Bwd Pkt Len Max', 'Pkt Len Min', 'Subflow Fwd Byts', 'Idle Mean', 'Bwd Pkt Len Min', 'Bwd IAT Std', 'Fwd Pkts/s', 'Bwd IAT Max', 'Active Max'], 'Normal sample 887': ['Pkt Len Min', 'Pkt Len Max', 'Down/Up Ratio', 'Pkt Len Std', 'Pkt Len Mean', 'Fwd Pkt Len Mean', 'Flow Pkts/s', 'Fwd Pkt Len Std', 'Pkt Size Avg', 'Tot Fwd Pkts'], 'Normal sample 888': ['Bwd PSH Flags', 'Bwd Pkt Len Min', 'Down/Up Ratio', 'Idle Min', 'Flow IAT Min', 'Idle Std', 'Active Max', 'Active Std', 'Fwd IAT Tot', 'Flow Duration'], 'Normal sample 889': ['Idle Mean', 'Init Bwd Win Byts', 'Bwd Seg Size Avg', 'Fwd IAT Tot', 'Bwd Pkt Len Max', 'Active Mean', 'Bwd Header Len', 'Subflow Bwd Byts', 'Fwd IAT Min', 'Bwd Pkt Len Mean'], 'Normal sample 890': ['Flow Duration', 'Tot Fwd Pkts', 'Tot Bwd Pkts', 'TotLen Fwd Pkts', 'TotLen Bwd Pkts', 'Fwd Pkt Len Min', 'Bwd Pkt Len Max', 'Bwd Pkt Len Min', 'Bwd Pkt Len Std', 'Flow Byts/s'], 'Normal sample 891': ['Subflow Bwd Pkts', 'Init Bwd Win Byts', 'Fwd Pkt Len Std', 'Flow Pkts/s', 'Flow IAT Mean', 'Idle Max', 'Pkt Len Var', 'Idle Min', 'Idle Mean', 'Flow IAT Std'], 'Normal sample 892': ['Active Max', 'Init Bwd Win Byts', 'Idle Max', 'Idle Std', 'Tot Fwd Pkts', 'Flow Byts/s', 'Subflow Fwd Byts', 'Idle Min', 'Flow Pkts/s', 'Fwd IAT Std'], 'Normal sample 893': ['Bwd Header Len', 'Bwd IAT Tot', 'Init Bwd Win Byts', 'Bwd Pkt Len Std', 'Bwd Seg Size Avg', 'Idle Mean', 'Fwd IAT Mean', 'Subflow Bwd Byts', 'Flow Byts/s', 'Active Min'], 'Normal sample 894': ['SYN Flag Cnt', 'Bwd Pkt Len Max', 'Bwd IAT Max', 'Bwd Pkt Len Std', 'Active Mean', 'Idle Max', 'Tot Bwd Pkts', 'TotLen Fwd Pkts', 'Fwd Pkt Len Min', 'Fwd Pkt Len Std'], 'Normal sample 895': ['SYN Flag Cnt', 'Idle Max', 'Idle Mean', 'Bwd Seg Size Avg', 'Bwd Pkt Len Std', 'Pkt Size Avg', 'Bwd URG Flags', 'Bwd IAT Tot', 'Tot Fwd Pkts', 'Tot Bwd Pkts'], 'Normal sample 896': ['Init Bwd Win Byts', 'Idle Min', 'Idle Mean', 'Pkt Len Var', 'Fwd Pkt Len Std', 'Bwd Pkt Len Mean', 'Fwd Pkt Len Min', 'Bwd Pkt Len Max', 'Idle Max', 'Subflow Fwd Pkts'], 'Normal sample 897': ['Fwd Pkt Len Min', 'Fwd Act Data Pkts', 'Bwd Seg Size Avg', 'Flow Duration', 'Tot Fwd Pkts', 'Tot Bwd Pkts', 'TotLen Fwd Pkts', 'TotLen Bwd Pkts', 'Bwd Pkt Len Max', 'Bwd Pkt Len Min'], 'Normal sample 898': ['Flow IAT Min', 'Init Bwd Win Byts', 'Subflow Fwd Pkts', 'Bwd IAT Tot', 'Down/Up Ratio', 'Bwd Seg Size Avg', 'Pkt Len Var', 'Bwd Header Len', 'Bwd IAT Min', 'Fwd Pkt Len Std'], 'Normal sample 899': ['Init Bwd Win Byts', 'Active Mean', 'Bwd IAT Tot', 'Idle Min', 'Fwd Header Len', 'Pkt Len Var', 'Idle Mean', 'Subflow Fwd Pkts', 'TotLen Fwd Pkts', 'Flow IAT Max'], 'Normal sample 900': ['Tot Bwd Pkts', 'Fwd Pkt Len Max', 'Fwd Pkt Len Std', 'Bwd Pkt Len Max', 'Bwd Pkt Len Mean', 'Bwd Pkt Len Std', 'Flow Byts/s', 'Flow Pkts/s', 'Flow IAT Std', 'Flow IAT Max'], 'Normal sample 901': ['SYN Flag Cnt', 'Bwd Pkt Len Max', 'Idle Max', 'Bwd Pkt Len Min', 'Pkt Len Min', 'Active Mean', 'Subflow Fwd Pkts', 'TotLen Bwd Pkts', 'Fwd Pkt Len Min', 'Flow Byts/s'], 'Normal sample 902': ['Down/Up Ratio', 'Pkt Len Min', 'Pkt Len Std', 'Pkt Size Avg', 'Pkt Len Mean', 'Flow Pkts/s', 'Subflow Bwd Pkts', 'Fwd Pkt Len Std', 'Pkt Len Max', 'TotLen Bwd Pkts'], 'Normal sample 903': ['Bwd PSH Flags', 'Pkt Len Min', 'Bwd Pkt Len Mean', 'Bwd Pkt Len Min', 'Fwd Pkt Len Max', 'Fwd Act Data Pkts', 'Fwd Pkt Len Min', 'Flow IAT Std', 'Fwd Pkt Len Std', 'Idle Std'], 'Normal sample 904': ['Idle Min', 'Fwd IAT Max', 'Fwd IAT Std', 'Init Bwd Win Byts', 'Flow IAT Min', 'Idle Mean', 'Tot Bwd Pkts', 'Active Std', 'Fwd Pkt Len Min', 'Tot Fwd Pkts'], 'Normal sample 905': ['SYN Flag Cnt', 'Bwd Pkt Len Max', 'Fwd Pkt Len Min', 'Bwd Pkt Len Std', 'PSH Flag Cnt', 'Pkt Len Var', 'Bwd PSH Flags', 'Fwd IAT Std', 'Bwd Pkt Len Mean', 'Active Min'], 'Normal sample 906': ['Active Max', 'Fwd IAT Min', 'Bwd Pkt Len Mean', 'Idle Max', 'Flow Byts/s', 'Bwd IAT Max', 'TotLen Fwd Pkts', 'Bwd Pkt Len Std', 'Subflow Fwd Byts', 'Bwd Seg Size Avg'], 'Normal sample 907': ['Init Bwd Win Byts', 'TotLen Fwd Pkts', 'Bwd Seg Size Avg', 'Fwd IAT Mean', 'Fwd IAT Std', 'TotLen Bwd Pkts', 'Idle Mean', 'Subflow Bwd Pkts', 'Fwd Pkt Len Min', 'Idle Min'], 'Normal sample 908': ['Bwd PSH Flags', 'Active Std', 'Idle Std', 'Flow IAT Std', 'TotLen Bwd Pkts', 'Fwd IAT Tot', 'Bwd Pkt Len Max', 'Active Max', 'Idle Min', 'Down/Up Ratio'], 'Normal sample 909': ['Init Bwd Win Byts', 'Idle Mean', 'Fwd Pkts/s', 'Bwd Pkt Len Mean', 'TotLen Fwd Pkts', 'Active Min', 'Tot Fwd Pkts', 'Fwd Pkt Len Min', 'Fwd Pkt Len Std', 'Bwd Pkt Len Max'], 'Normal sample 910': ['Init Bwd Win Byts', 'Idle Min', 'Pkt Len Var', 'Active Min', 'Subflow Fwd Byts', 'TotLen Bwd Pkts', 'Active Max', 'Fwd IAT Mean', 'Idle Std', 'Fwd IAT Min'], 'Normal sample 911': ['Idle Mean', 'Flow Duration', 'TotLen Bwd Pkts', 'Fwd Pkt Len Max', 'Fwd Pkt Len Std', 'Bwd Pkt Len Mean', 'Bwd Pkt Len Std', 'Flow Byts/s', 'Fwd IAT Tot', 'Fwd IAT Mean'], 'Normal sample 912': ['Bwd PSH Flags', 'Tot Fwd Pkts', 'Tot Bwd Pkts', 'TotLen Fwd Pkts', 'TotLen Bwd Pkts', 'Bwd Pkt Len Max', 'Bwd Pkt Len Min', 'Bwd Pkt Len Mean', 'Bwd Pkt Len Std', 'Flow Byts/s'], 'Normal sample 913': ['Init Bwd Win Byts', 'Bwd Pkt Len Std', 'Fwd Act Data Pkts', 'Bwd Pkt Len Mean', 'Fwd IAT Mean', 'Subflow Bwd Byts', 'Idle Std', 'Idle Min', 'Flow IAT Std', 'Fwd Header Len'], 'Normal sample 914': ['Pkt Len Min', 'Flow Pkts/s', 'Pkt Len Std', 'Pkt Len Max', 'Down/Up Ratio', 'Pkt Size Avg', 'Pkt Len Mean', 'Fwd Act Data Pkts', 'Idle Std', 'Pkt Len Var'], 'Normal sample 915': ['Idle Mean', 'Init Bwd Win Byts', 'Tot Bwd Pkts', 'Idle Max', 'TotLen Fwd Pkts', 'Bwd Seg Size Avg', 'Tot Fwd Pkts', 'Flow IAT Min', 'Subflow Fwd Byts', 'Bwd Pkt Len Max'], 'Normal sample 916': ['SYN Flag Cnt', 'Down/Up Ratio', 'Bwd Pkt Len Mean', 'Idle Min', 'Subflow Fwd Pkts', 'Bwd IAT Tot', 'Active Mean', 'Bwd Pkt Len Std', 'Bwd IAT Std', 'Bwd IAT Mean'], 'Normal sample 917': ['SYN Flag Cnt', 'Bwd Pkt Len Max', 'Bwd IAT Max', 'Bwd Pkt Len Std', 'Bwd Pkt Len Min', 'Bwd Pkt Len Mean', 'Subflow Bwd Pkts', 'Bwd Seg Size Avg', 'Idle Min', 'TotLen Bwd Pkts'], 'Normal sample 918': ['Pkt Len Max', 'Pkt Len Std', 'Pkt Len Mean', 'Pkt Len Min', 'Pkt Size Avg', 'Tot Bwd Pkts', 'Flow Duration', 'PSH Flag Cnt', 'Fwd Pkt Len Max', 'Flow Pkts/s'], 'Normal sample 919': ['Init Bwd Win Byts', 'Idle Max', 'Flow IAT Min', 'Idle Min', 'Pkt Len Var', 'Bwd URG Flags', 'Bwd Pkt Len Max', 'Bwd Seg Size Avg', 'Active Mean', 'Fwd IAT Min'], 'Normal sample 920': ['Fwd Act Data Pkts', 'Bwd Seg Size Avg', 'Tot Fwd Pkts', 'Bwd Pkt Len Std', 'Idle Min', 'Subflow Fwd Pkts', 'Init Bwd Win Byts', 'Active Max', 'TotLen Fwd Pkts', 'Fwd Pkt Len Std'], 'Normal sample 921': ['Bwd PSH Flags', 'Pkt Len Min', 'Active Mean', 'Bwd Pkt Len Min', 'Down/Up Ratio', 'Fwd IAT Max', 'Flow IAT Min', 'Subflow Bwd Byts', 'Flow Byts/s', 'Tot Fwd Pkts'], 'Normal sample 922': ['Idle Min', 'Init Bwd Win Byts', 'Bwd Seg Size Avg', 'Idle Mean', 'Idle Max', 'Bwd IAT Mean', 'Flow Duration', 'Tot Fwd Pkts', 'Tot Bwd Pkts', 'TotLen Fwd Pkts'], 'Normal sample 923': ['SYN Flag Cnt', 'Bwd Pkt Len Std', 'Bwd Pkt Len Max', 'Subflow Fwd Byts', 'Flow IAT Mean', 'Flow Duration', 'Tot Fwd Pkts', 'Tot Bwd Pkts', 'TotLen Fwd Pkts', 'TotLen Bwd Pkts'], 'Normal sample 924': ['SYN Flag Cnt', 'Bwd Pkt Len Max', 'Bwd Pkt Len Std', 'Down/Up Ratio', 'Subflow Fwd Byts', 'Pkt Len Min', 'Bwd IAT Mean', 'Bwd IAT Min', 'Idle Min', 'Bwd Seg Size Avg'], 'Normal sample 925': ['FIN Flag Cnt', 'Down/Up Ratio', 'Flow Pkts/s', 'Pkt Len Min', 'Bwd Pkt Len Min', 'Bwd Pkt Len Std', 'Flow IAT Std', 'Bwd Pkts/s', 'Bwd IAT Min', 'Pkt Len Mean'], 'Normal sample 926': ['Init Bwd Win Byts', 'Idle Max', 'Idle Min', 'Tot Bwd Pkts', 'Bwd IAT Tot', 'Fwd IAT Tot', 'Bwd Header Len', 'Idle Mean', 'Fwd IAT Std', 'Fwd Header Len'], 'Normal sample 927': ['SYN Flag Cnt', 'Idle Max', 'Idle Mean', 'Idle Min', 'Flow Byts/s', 'Flow IAT Mean', 'Subflow Bwd Byts', 'Bwd Pkt Len Mean', 'Bwd Pkt Len Std', 'PSH Flag Cnt'], 'Normal sample 928': ['Bwd PSH Flags', 'Bwd Pkt Len Min', 'Pkt Len Var', 'Pkt Len Min', 'Subflow Fwd Byts', 'Fwd IAT Min', 'Fwd Pkt Len Std', 'Bwd IAT Min', 'Bwd Pkt Len Std', 'Fwd Act Data Pkts'], 'Normal sample 929': ['Init Bwd Win Byts', 'Bwd Seg Size Avg', 'Subflow Bwd Pkts', 'Idle Max', 'Pkt Len Var', 'Bwd IAT Max', 'Tot Fwd Pkts', 'Idle Std', 'Fwd IAT Std', 'Idle Mean'], 'Normal sample 930': ['Flow IAT Mean', 'ACK Flag Cnt', 'Fwd IAT Min', 'Bwd IAT Mean', 'Bwd IAT Tot', 'Bwd IAT Max', 'Tot Fwd Pkts', 'Idle Max', 'Bwd PSH Flags', 'Flow IAT Max'], 'Normal sample 931': ['Idle Min', 'Idle Mean', 'Bwd IAT Tot', 'Bwd Pkt Len Mean', 'Init Bwd Win Byts', 'Flow IAT Min', 'Bwd IAT Mean', 'Bwd IAT Min', 'Fwd IAT Mean', 'Fwd Act Data Pkts'], 'Normal sample 932': ['Idle Min', 'Init Bwd Win Byts', 'Fwd IAT Max', 'Active Min', 'Bwd Pkt Len Mean', 'Idle Mean', 'Subflow Bwd Pkts', 'Fwd IAT Tot', 'Fwd Header Len', 'Idle Max'], 'Normal sample 933': ['SYN Flag Cnt', 'Bwd Seg Size Avg', 'Flow IAT Min', 'Pkt Len Var', 'Flow IAT Max', 'Fwd IAT Max', 'Bwd Header Len', 'Bwd Pkt Len Max', 'Idle Min', 'Flow Duration'], 'Normal sample 934': ['Bwd IAT Tot', 'Bwd IAT Std', 'Bwd IAT Max', 'Idle Mean', 'Flow IAT Mean', 'Idle Max', 'ACK Flag Cnt', 'Flow IAT Max', 'Bwd Pkt Len Max', 'Fwd Pkt Len Min'], 'Normal sample 935': ['Init Bwd Win Byts', 'Idle Min', 'Fwd IAT Std', 'Idle Mean', 'Tot Fwd Pkts', 'Idle Max', 'Bwd Pkt Len Std', 'Fwd Header Len', 'Fwd Pkt Len Min', 'Flow Duration'], 'Normal sample 936': ['Flow IAT Max', 'Bwd IAT Tot', 'Active Max', 'Idle Max', 'Fwd IAT Tot', 'Bwd PSH Flags', 'Bwd Pkt Len Mean', 'Fwd Pkt Len Std', 'TotLen Bwd Pkts', 'Tot Fwd Pkts'], 'Normal sample 937': ['Init Bwd Win Byts', 'Idle Min', 'Fwd Header Len', 'TotLen Fwd Pkts', 'Subflow Fwd Byts', 'Bwd Seg Size Avg', 'Idle Max', 'Pkt Len Var', 'TotLen Bwd Pkts', 'Active Mean'], 'Normal sample 938': ['Idle Max', 'Subflow Bwd Pkts', 'Tot Fwd Pkts', 'Bwd Pkt Len Max', 'Idle Min', 'Idle Mean', 'Fwd IAT Mean', 'Flow Duration', 'Init Bwd Win Byts', 'Bwd Pkt Len Mean'], 'Normal sample 939': ['Bwd IAT Min', 'Flow IAT Std', 'Subflow Bwd Pkts', 'Bwd IAT Mean', 'Idle Mean', 'Init Bwd Win Byts', 'Idle Max', 'Fwd Pkt Len Std', 'Flow Duration', 'TotLen Fwd Pkts'], 'Normal sample 940': ['Bwd IAT Max', 'ACK Flag Cnt', 'Idle Max', 'Bwd IAT Tot', 'Flow IAT Max', 'Idle Std', 'Active Mean', 'Bwd IAT Std', 'Bwd Pkt Len Min', 'Idle Min'], 'Normal sample 941': ['ACK Flag Cnt', 'Bwd IAT Std', 'Bwd IAT Max', 'Bwd IAT Tot', 'Bwd IAT Mean', 'Flow IAT Mean', 'Fwd Pkt Len Std', 'Flow IAT Max', 'Subflow Bwd Pkts', 'Flow IAT Std'], 'Normal sample 942': ['Bwd PSH Flags', 'Bwd Pkt Len Min', 'Flow IAT Mean', 'Pkt Len Min', 'Active Std', 'Down/Up Ratio', 'Fwd Act Data Pkts', 'Bwd Pkt Len Max', 'Idle Mean', 'Flow Duration'], 'Normal sample 943': ['Init Bwd Win Byts', 'Fwd Pkts/s', 'TotLen Bwd Pkts', 'Idle Max', 'Fwd Pkt Len Std', 'Bwd Header Len', 'Active Mean', 'Tot Bwd Pkts', 'Fwd IAT Mean', 'Bwd Pkt Len Max'], 'Normal sample 944': ['SYN Flag Cnt', 'ACK Flag Cnt', 'Bwd IAT Max', 'Subflow Fwd Byts', 'Bwd IAT Std', 'Bwd PSH Flags', 'Bwd Pkt Len Max', 'Subflow Bwd Pkts', 'Bwd Seg Size Avg', 'Fwd IAT Max'], 'Normal sample 945': ['Bwd Pkt Len Std', 'Init Bwd Win Byts', 'Idle Max', 'Fwd IAT Std', 'Fwd IAT Mean', 'Fwd Pkt Len Min', 'Idle Min', 'Active Std', 'Bwd Pkt Len Mean', 'Fwd Pkts/s'], 'Normal sample 946': ['Idle Std', 'Fwd IAT Max', 'Init Bwd Win Byts', 'Fwd Pkt Len Std', 'Flow Byts/s', 'Flow IAT Min', 'TotLen Fwd Pkts', 'Bwd IAT Max', 'Active Mean', 'Subflow Bwd Byts'], 'Normal sample 947': ['Init Bwd Win Byts', 'Idle Mean', 'Active Min', 'Idle Min', 'Fwd IAT Min', 'Bwd Pkt Len Std', 'Fwd Pkt Len Std', 'Flow IAT Max', 'Flow IAT Mean', 'Tot Bwd Pkts'], 'Normal sample 948': ['Idle Min', 'Flow Pkts/s', 'Idle Mean', 'Bwd IAT Min', 'Bwd IAT Tot', 'Fwd IAT Max', 'Flow IAT Std', 'Fwd Act Data Pkts', 'Bwd IAT Max', 'Fwd Pkts/s'], 'Normal sample 949': ['Init Bwd Win Byts', 'Bwd Pkt Len Mean', 'Bwd Seg Size Avg', 'Fwd IAT Max', 'Active Min', 'Flow Pkts/s', 'Fwd Act Data Pkts', 'Tot Fwd Pkts', 'Subflow Bwd Pkts', 'Idle Min'], 'Normal sample 950': ['Init Bwd Win Byts', 'Bwd Pkt Len Max', 'ACK Flag Cnt', 'Subflow Bwd Byts', 'Flow Duration', 'Tot Fwd Pkts', 'TotLen Bwd Pkts', 'Bwd Pkt Len Mean', 'Bwd Pkt Len Std', 'Flow IAT Min'], 'Normal sample 951': ['Init Bwd Win Byts', 'Bwd Pkt Len Max', 'Subflow Fwd Byts', 'Idle Min', 'Subflow Bwd Byts', 'Fwd Act Data Pkts', 'Active Max', 'Bwd IAT Tot', 'Idle Mean', 'Idle Max'], 'Normal sample 952': ['Subflow Bwd Byts', 'Init Bwd Win Byts', 'Bwd Pkt Len Max', 'Bwd Header Len', 'Idle Mean', 'TotLen Fwd Pkts', 'Idle Max', 'Active Max', 'Flow Pkts/s', 'Pkt Len Var'], 'Normal sample 953': ['Bwd PSH Flags', 'Bwd Pkt Len Min', 'Pkt Len Min', 'Bwd IAT Max', 'Fwd Act Data Pkts', 'Fwd IAT Mean', 'Tot Fwd Pkts', 'Pkt Len Max', 'Fwd IAT Std', 'Bwd Pkt Len Mean'], 'Normal sample 954': ['Bwd Pkt Len Mean', 'Tot Fwd Pkts', 'Fwd IAT Tot', 'TotLen Bwd Pkts', 'Bwd Pkt Len Std', 'Init Bwd Win Byts', 'Active Mean', 'Bwd Header Len', 'Bwd Pkt Len Max', 'Active Std'], 'Normal sample 955': ['FIN Flag Cnt', 'Down/Up Ratio', 'Pkt Len Min', 'Flow Pkts/s', 'Fwd IAT Max', 'Idle Mean', 'Bwd URG Flags', 'Pkt Len Mean', 'Bwd Seg Size Avg', 'Fwd Pkt Len Mean'], 'Normal sample 956': ['Pkt Len Min', 'Down/Up Ratio', 'Pkt Len Max', 'Pkt Len Mean', 'Flow Pkts/s', 'Flow IAT Std', 'Active Max', 'Fwd IAT Mean', 'Fwd IAT Max', 'Pkt Size Avg'], 'Normal sample 957': ['Idle Max', 'Init Bwd Win Byts', 'Idle Min', 'TotLen Bwd Pkts', 'Active Std', 'Flow IAT Mean', 'Bwd Pkt Len Mean', 'Bwd Header Len', 'Idle Mean', 'Bwd Pkt Len Std'], 'Normal sample 958': ['SYN Flag Cnt', 'Idle Max', 'Pkt Size Avg', 'Pkt Len Min', 'Idle Min', 'Bwd Pkt Len Std', 'Bwd Pkt Len Min', 'Subflow Bwd Pkts', 'Tot Fwd Pkts', 'Idle Mean'], 'Normal sample 959': ['Pkt Len Min', 'Pkt Len Mean', 'Down/Up Ratio', 'Fwd Pkt Len Max', 'Pkt Len Max', 'Fwd Pkt Len Mean', 'Pkt Size Avg', 'Fwd IAT Std', 'Flow Pkts/s', 'PSH Flag Cnt'], 'Normal sample 960': ['TotLen Fwd Pkts', 'Fwd Pkt Len Min', 'Bwd Pkt Len Max', 'Bwd Pkt Len Min', 'Flow Pkts/s', 'Flow IAT Std', 'Fwd IAT Mean', 'Fwd IAT Max', 'Fwd IAT Min', 'Bwd IAT Tot'], 'Normal sample 961': ['Bwd Seg Size Avg', 'Fwd Act Data Pkts', 'Init Bwd Win Byts', 'Fwd IAT Std', 'Flow Duration', 'Idle Mean', 'Tot Fwd Pkts', 'Bwd Pkt Len Max', 'Flow Byts/s', 'Bwd IAT Max'], 'Normal sample 962': ['Bwd Pkt Len Max', 'Flow Duration', 'Tot Bwd Pkts', 'TotLen Bwd Pkts', 'Fwd Pkt Len Min', 'Bwd Pkt Len Min', 'Flow Pkts/s', 'Flow IAT Min', 'Fwd IAT Mean', 'Fwd IAT Std'], 'Normal sample 963': ['Bwd PSH Flags', 'Bwd Pkt Len Std', 'Active Mean', 'Idle Max', 'Pkt Len Min', 'Flow Duration', 'Tot Bwd Pkts', 'Bwd Pkt Len Min', 'Bwd IAT Std', 'Fwd Act Data Pkts'], 'Normal sample 964': ['SYN Flag Cnt', 'Tot Bwd Pkts', 'Bwd IAT Tot', 'TotLen Fwd Pkts', 'Bwd Pkt Len Mean', 'Subflow Bwd Pkts', 'Idle Min', 'Active Std', 'Bwd Seg Size Avg', 'Idle Mean'], 'Normal sample 965': ['Bwd Pkt Len Mean', 'Init Bwd Win Byts', 'Idle Max', 'Fwd IAT Tot', 'Idle Mean', 'Subflow Bwd Byts', 'Active Min', 'Bwd Seg Size Avg', 'Fwd IAT Std', 'Fwd IAT Mean'], 'Normal sample 966': ['Idle Max', 'Init Bwd Win Byts', 'Idle Min', 'Tot Bwd Pkts', 'Idle Mean', 'Active Mean', 'Bwd Pkt Len Max', 'Fwd Header Len', 'Bwd IAT Min', 'Active Std'], 'Normal sample 967': ['Flow Duration', 'Tot Fwd Pkts', 'Tot Bwd Pkts', 'TotLen Fwd Pkts', 'TotLen Bwd Pkts', 'Fwd Pkt Len Min', 'Bwd Pkt Len Max', 'Bwd Pkt Len Min', 'Flow IAT Min', 'Fwd IAT Tot'], 'Normal sample 968': ['Init Bwd Win Byts', 'Fwd Header Len', 'Bwd Pkt Len Max', 'Pkt Len Var', 'Subflow Fwd Pkts', 'Fwd IAT Max', 'Fwd IAT Mean', 'TotLen Bwd Pkts', 'Fwd Pkt Len Std', 'Idle Std'], 'Normal sample 969': ['FIN Flag Cnt', 'Flow Pkts/s', 'Pkt Len Min', 'Down/Up Ratio', 'Pkt Size Avg', 'Fwd Pkt Len Mean', 'Pkt Len Std', 'Bwd Pkt Len Min', 'Tot Bwd Pkts', 'Fwd Pkt Len Max'], 'Normal sample 970': ['SYN Flag Cnt', 'Bwd Pkt Len Max', 'Bwd Pkt Len Std', 'Idle Std', 'Down/Up Ratio', 'Idle Mean', 'Bwd IAT Std', 'Bwd IAT Tot', 'Active Max', 'Pkt Len Min'], 'Normal sample 971': ['SYN Flag Cnt', 'Bwd IAT Std', 'Bwd IAT Max', 'Idle Min', 'Subflow Bwd Byts', 'Active Max', 'Down/Up Ratio', 'Bwd IAT Tot', 'Idle Max', 'TotLen Bwd Pkts'], 'Normal sample 972': ['Tot Bwd Pkts', 'Idle Mean', 'Active Max', 'Idle Min', 'Init Bwd Win Byts', 'Subflow Bwd Byts', 'Subflow Fwd Byts', 'Flow Pkts/s', 'Bwd IAT Max', 'Bwd Pkt Len Mean'], 'Normal sample 973': ['Bwd PSH Flags', 'Pkt Len Min', 'Bwd Pkt Len Min', 'Bwd URG Flags', 'Fwd Pkt Len Mean', 'Fwd IAT Mean', 'Active Max', 'Fwd Pkt Len Min', 'Fwd IAT Min', 'Bwd Header Len'], 'Normal sample 974': ['SYN Flag Cnt', 'Bwd Pkt Len Max', 'Subflow Bwd Pkts', 'Active Max', 'Bwd Header Len', 'TotLen Fwd Pkts', 'Tot Fwd Pkts', 'Tot Bwd Pkts', 'TotLen Bwd Pkts', 'Fwd Pkt Len Mean'], 'Normal sample 975': ['Init Bwd Win Byts', 'Idle Mean', 'Fwd IAT Min', 'Bwd Seg Size Avg', 'Subflow Bwd Pkts', 'TotLen Bwd Pkts', 'Fwd Pkt Len Min', 'Idle Min', 'Bwd Pkt Len Mean', 'Bwd Pkt Len Max'], 'Normal sample 976': ['Fwd Pkts/s', 'Init Bwd Win Byts', 'Fwd IAT Mean', 'Idle Mean', 'Bwd Pkt Len Mean', 'Bwd Seg Size Avg', 'Bwd IAT Mean', 'Fwd Pkt Len Min', 'Idle Max', 'Bwd Pkt Len Max'], 'Normal sample 977': ['SYN Flag Cnt', 'TotLen Bwd Pkts', 'ACK Flag Cnt', 'Idle Max', 'Tot Fwd Pkts', 'TotLen Fwd Pkts', 'Fwd Pkt Len Min', 'Bwd Pkt Len Max', 'Bwd Pkt Len Min', 'Bwd Pkt Len Mean'], 'Normal sample 978': ['Flow Pkts/s', 'Pkt Size Avg', 'Pkt Len Max', 'Pkt Len Min', 'Pkt Len Mean', 'Pkt Len Std', 'Idle Min', 'Fwd IAT Std', 'PSH Flag Cnt', 'Fwd Pkt Len Min'], 'Normal sample 979': ['Idle Mean', 'Fwd IAT Max', 'Bwd Pkt Len Mean', 'Tot Bwd Pkts', 'Idle Max', 'Init Bwd Win Byts', 'Bwd Pkt Len Std', 'Bwd URG Flags', 'Flow IAT Min', 'Idle Min'], 'Normal sample 980': ['Init Bwd Win Byts', 'Idle Max', 'Idle Mean', 'Subflow Bwd Pkts', 'Fwd Pkt Len Std', 'Subflow Bwd Byts', 'Bwd Header Len', 'Fwd IAT Std', 'Bwd Seg Size Avg', 'Idle Min'], 'Normal sample 981': ['Fwd Pkt Len Std', 'Idle Min', 'Init Bwd Win Byts', 'Fwd IAT Max', 'Flow IAT Mean', 'Active Std', 'Bwd IAT Mean', 'Bwd IAT Max', 'Fwd Header Len', 'Idle Max'], 'Normal sample 982': ['Flow IAT Min', 'Init Bwd Win Byts', 'Idle Mean', 'Idle Max', 'Tot Bwd Pkts', 'Flow Duration', 'TotLen Bwd Pkts', 'Bwd Pkt Len Mean', 'Bwd Pkt Len Std', 'Flow Pkts/s'], 'Normal sample 983': ['Init Bwd Win Byts', 'Idle Mean', 'Bwd Seg Size Avg', 'Active Mean', 'Bwd Pkt Len Mean', 'Flow IAT Std', 'PSH Flag Cnt', 'Tot Fwd Pkts', 'Tot Bwd Pkts', 'TotLen Fwd Pkts'], 'Normal sample 984': ['Init Bwd Win Byts', 'Fwd IAT Std', 'Bwd Pkt Len Std', 'Idle Min', 'Flow IAT Min', 'Flow Duration', 'Idle Std', 'Fwd IAT Tot', 'Bwd Seg Size Avg', 'Idle Max'], 'Normal sample 985': ['SYN Flag Cnt', 'Bwd Pkt Len Max', 'Bwd Pkt Len Std', 'Bwd Pkt Len Mean', 'Active Max', 'Fwd IAT Mean', 'Bwd PSH Flags', 'Pkt Len Var', 'Active Mean', 'Bwd URG Flags'], 'Normal sample 986': ['Init Bwd Win Byts', 'TotLen Fwd Pkts', 'Idle Min', 'Bwd Pkt Len Mean', 'Active Std', 'Idle Max', 'Idle Mean', 'Fwd IAT Std', 'Fwd Pkts/s', 'Tot Fwd Pkts'], 'Normal sample 987': ['SYN Flag Cnt', 'ACK Flag Cnt', 'Fwd IAT Max', 'Bwd URG Flags', 'Idle Max', 'TotLen Fwd Pkts', 'Subflow Bwd Byts', 'Pkt Len Min', 'Bwd IAT Min', 'Flow Duration'], 'Normal sample 988': ['Init Bwd Win Byts', 'Subflow Bwd Pkts', 'Idle Mean', 'Idle Max', 'Pkt Len Var', 'Fwd IAT Mean', 'Bwd Pkt Len Mean', 'Fwd Pkt Len Std', 'Fwd Pkts/s', 'Idle Min'], 'Normal sample 989': ['Bwd Pkt Len Mean', 'Idle Max', 'Init Bwd Win Byts', 'Idle Min', 'Fwd Header Len', 'Fwd Act Data Pkts', 'Subflow Fwd Byts', 'Idle Mean', 'Fwd IAT Mean', 'Subflow Bwd Byts'], 'Normal sample 990': ['Bwd IAT Tot', 'Bwd IAT Max', 'Bwd IAT Std', 'ACK Flag Cnt', 'Flow IAT Max', 'Idle Max', 'Idle Mean', 'Subflow Fwd Pkts', 'Fwd Act Data Pkts', 'TotLen Fwd Pkts'], 'Normal sample 991': ['Fwd IAT Min', 'ACK Flag Cnt', 'Bwd Pkt Len Min', 'Fwd Pkts/s', 'Bwd URG Flags', 'Pkt Len Min', 'Bwd Pkt Len Max', 'Idle Mean', 'Fwd Pkt Len Std', 'TotLen Fwd Pkts'], 'Normal sample 992': ['Init Bwd Win Byts', 'Idle Min', 'Idle Max', 'Bwd IAT Min', 'Subflow Fwd Pkts', 'Active Max', 'Fwd IAT Mean', 'Active Mean', 'Fwd Pkts/s', 'Idle Mean'], 'Normal sample 993': ['Subflow Fwd Byts', 'Bwd IAT Tot', 'Idle Mean', 'Bwd Seg Size Avg', 'Init Bwd Win Byts', 'Idle Max', 'Bwd Pkt Len Mean', 'Pkt Len Var', 'Idle Min', 'Bwd Pkt Len Std'], 'Normal sample 994': ['Down/Up Ratio', 'Pkt Len Min', 'Pkt Size Avg', 'Pkt Len Std', 'Fwd Seg Size Avg', 'Pkt Len Max', 'Flow Pkts/s', 'Pkt Len Mean', 'Fwd Pkt Len Std', 'Bwd Header Len'], 'Normal sample 995': ['SYN Flag Cnt', 'Bwd IAT Max', 'Bwd Pkt Len Std', 'Bwd Pkt Len Max', 'Bwd IAT Std', 'Idle Mean', 'Fwd Pkts/s', 'Bwd IAT Tot', 'Subflow Fwd Pkts', 'Bwd Pkt Len Mean'], 'Normal sample 996': ['Tot Fwd Pkts', 'Tot Bwd Pkts', 'TotLen Fwd Pkts', 'TotLen Bwd Pkts', 'Fwd Pkt Len Min', 'Bwd Pkt Len Min', 'Bwd Pkt Len Mean', 'Bwd Pkt Len Std', 'Flow Pkts/s', 'Flow IAT Min'], 'Normal sample 997': ['ACK Flag Cnt', 'Bwd IAT Max', 'Bwd IAT Tot', 'Bwd IAT Std', 'Bwd PSH Flags', 'Flow IAT Max', 'Idle Max', 'Pkt Len Min', 'Idle Std', 'Idle Mean'], 'Normal sample 998': ['SYN Flag Cnt', 'Bwd Pkt Len Max', 'Bwd Pkt Len Std', 'Flow IAT Min', 'Bwd IAT Max', 'Bwd Seg Size Avg', 'Pkt Len Min', 'TotLen Fwd Pkts', 'Active Std', 'Fwd Act Data Pkts'], 'Normal sample 999': ['SYN Flag Cnt', 'Bwd Pkt Len Max', 'Bwd Pkt Len Std', 'Bwd Pkt Len Mean', 'Subflow Fwd Pkts', 'Flow IAT Max', 'Bwd Seg Size Avg', 'Bwd IAT Tot', 'Idle Min', 'Tot Bwd Pkts'], 'Normal sample 1000': ['Bwd Pkt Len Std', 'Subflow Fwd Byts', 'Init Bwd Win Byts', 'Bwd Seg Size Avg', 'Idle Max', 'Idle Std', 'Active Max', 'Fwd IAT Max', 'Idle Min', 'Subflow Bwd Pkts'], 'Normal sample 1001': ['ACK Flag Cnt', 'Bwd IAT Tot', 'Bwd IAT Max', 'Idle Mean', 'Idle Max', 'Flow IAT Max', 'Idle Std', 'Bwd IAT Std', 'Active Max', 'Bwd Pkt Len Max'], 'Normal sample 1002': ['Bwd Pkt Len Std', 'Down/Up Ratio', 'Bwd Seg Size Avg', 'Bwd Pkt Len Mean', 'Bwd Pkt Len Max', 'Init Bwd Win Byts', 'Tot Bwd Pkts', 'Active Std', 'Idle Max', 'Flow IAT Max'], 'Normal sample 1003': ['Fwd IAT Std', 'Init Bwd Win Byts', 'Active Max', 'Fwd IAT Mean', 'Idle Max', 'Bwd IAT Min', 'Fwd IAT Max', 'Active Min', 'Fwd IAT Min', 'Bwd Seg Size Avg'], 'Normal sample 1004': ['Bwd IAT Tot', 'Bwd PSH Flags', 'ACK Flag Cnt', 'Fwd Pkt Len Max', 'Bwd Pkt Len Std', 'Bwd IAT Std', 'Pkt Len Min', 'Bwd IAT Max', 'Flow IAT Max', 'Idle Min'], 'Normal sample 1005': ['SYN Flag Cnt', 'Fwd IAT Min', 'Active Max', 'Bwd Pkt Len Min', 'Bwd Pkt Len Max', 'Subflow Bwd Byts', 'Flow Byts/s', 'Tot Fwd Pkts', 'Pkt Size Avg', 'Idle Min'], 'Normal sample 1006': ['Idle Min', 'Init Bwd Win Byts', 'Bwd Pkt Len Max', 'Fwd IAT Mean', 'Idle Mean', 'Fwd Pkts/s', 'Flow Duration', 'Bwd Seg Size Avg', 'Bwd Pkt Len Mean', 'Flow Byts/s'], 'Normal sample 1007': ['Init Bwd Win Byts', 'Idle Min', 'Bwd Pkt Len Mean', 'TotLen Fwd Pkts', 'Fwd Pkts/s', 'URG Flag Cnt', 'Bwd IAT Tot', 'Idle Mean', 'Tot Fwd Pkts', 'Pkt Len Var'], 'Normal sample 1008': ['Down/Up Ratio', 'Pkt Len Min', 'Init Bwd Win Byts', 'Pkt Len Max', 'Pkt Len Std', 'Bwd Pkt Len Min', 'Pkt Len Mean', 'Fwd Seg Size Avg', 'Fwd Pkt Len Mean', 'Fwd Pkt Len Std'], 'Normal sample 1009': ['Init Bwd Win Byts', 'Tot Fwd Pkts', 'TotLen Fwd Pkts', 'Bwd Pkt Len Max', 'Bwd Pkt Len Min', 'Bwd Pkt Len Mean', 'Flow Pkts/s', 'Flow IAT Std', 'Flow IAT Min', 'Fwd IAT Tot'], 'Normal sample 1010': ['ACK Flag Cnt', 'Bwd IAT Std', 'Bwd IAT Tot', 'Bwd IAT Max', 'Bwd IAT Mean', 'Pkt Len Mean', 'Flow IAT Mean', 'Flow Pkts/s', 'Bwd Pkts/s', 'Bwd PSH Flags'], 'Normal sample 1011': ['Pkt Len Mean', 'Pkt Len Min', 'Pkt Size Avg', 'Pkt Len Std', 'Flow Pkts/s', 'Pkt Len Max', 'Fwd Pkt Len Max', 'Fwd Pkt Len Std', 'Fwd IAT Std', 'Flow IAT Mean'], 'Normal sample 1012': ['TotLen Bwd Pkts', 'Flow IAT Std', 'Flow IAT Max', 'Fwd Pkt Len Min', 'TotLen Fwd Pkts', 'Flow Pkts/s', 'Tot Bwd Pkts', 'Fwd IAT Tot', 'Subflow Bwd Byts', 'Subflow Bwd Pkts'], 'Normal sample 1013': ['Idle Max', 'Init Bwd Win Byts', 'Bwd Seg Size Avg', 'Flow IAT Min', 'Active Std', 'Tot Fwd Pkts', 'Tot Bwd Pkts', 'TotLen Fwd Pkts', 'TotLen Bwd Pkts', 'Fwd Pkt Len Std'], 'Normal sample 1014': ['ACK Flag Cnt', 'Bwd IAT Std', 'Bwd IAT Tot', 'Bwd IAT Max', 'Flow IAT Max', 'Pkt Len Min', 'Pkt Len Var', 'Down/Up Ratio', 'Bwd URG Flags', 'Fwd Pkt Len Mean'], 'Normal sample 1015': ['Pkt Len Min', 'Down/Up Ratio', 'Pkt Len Std', 'PSH Flag Cnt', 'Pkt Len Mean', 'Fwd IAT Min', 'Flow Pkts/s', 'Fwd Pkt Len Std', 'Pkt Size Avg', 'Pkt Len Max'], 'Normal sample 1016': ['Flow Duration', 'TotLen Fwd Pkts', 'TotLen Bwd Pkts', 'Fwd Pkt Len Min', 'Bwd Pkt Len Max', 'Bwd Pkt Len Min', 'Bwd Pkt Len Mean', 'Bwd Pkt Len Std', 'Flow IAT Mean', 'Flow IAT Std'], 'Normal sample 1017': ['Idle Mean', 'Init Bwd Win Byts', 'Idle Min', 'Subflow Bwd Pkts', 'Idle Max', 'TotLen Bwd Pkts', 'Flow IAT Mean', 'Bwd Seg Size Avg', 'Fwd Header Len', 'Bwd URG Flags'], 'Normal sample 1018': ['Idle Min', 'Flow Byts/s', 'Init Bwd Win Byts', 'Idle Mean', 'Active Std', 'Subflow Fwd Pkts', 'Subflow Fwd Byts', 'Fwd Header Len', 'Bwd IAT Min', 'Tot Fwd Pkts'], 'Normal sample 1019': ['Pkt Len Min', 'Pkt Len Max', 'Down/Up Ratio', 'Bwd IAT Min', 'Pkt Len Mean', 'Fwd IAT Max', 'Pkt Size Avg', 'Fwd Pkt Len Max', 'Fwd Seg Size Avg', 'Flow IAT Std'], 'Normal sample 1020': ['Bwd Pkt Len Max', 'SYN Flag Cnt', 'Bwd IAT Std', 'Bwd IAT Max', 'Active Mean', 'Pkt Len Var', 'Tot Bwd Pkts', 'TotLen Fwd Pkts', 'TotLen Bwd Pkts', 'Fwd Pkt Len Min'], 'Normal sample 1021': ['SYN Flag Cnt', 'Bwd IAT Max', 'Bwd IAT Tot', 'Idle Max', 'Bwd IAT Std', 'Idle Mean', 'PSH Flag Cnt', 'Flow IAT Max', 'Active Min', 'Bwd Pkt Len Max'], 'Normal sample 1022': ['SYN Flag Cnt', 'Bwd Pkt Len Max', 'Bwd IAT Min', 'Bwd Pkt Len Std', 'Bwd Seg Size Avg', 'Flow Byts/s', 'Idle Min', 'Bwd Pkt Len Mean', 'Idle Max', 'Flow Duration'], 'Normal sample 1023': ['Pkt Len Min', 'Fwd Pkt Len Min', 'Init Bwd Win Byts', 'Fwd Pkts/s', 'Subflow Fwd Byts', 'Fwd IAT Tot', 'Idle Max', 'Bwd URG Flags', 'Idle Std', 'Tot Bwd Pkts'], 'Normal sample 1024': ['FIN Flag Cnt', 'Flow Pkts/s', 'Down/Up Ratio', 'Pkt Len Min', 'Fwd Pkt Len Std', 'Bwd Pkt Len Mean', 'Pkt Len Max', 'Bwd Pkt Len Min', 'Pkt Len Std', 'Fwd IAT Std'], 'Normal sample 1025': ['Bwd Pkt Len Std', 'Init Bwd Win Byts', 'Fwd IAT Mean', 'Flow IAT Min', 'Bwd Seg Size Avg', 'Tot Bwd Pkts', 'TotLen Fwd Pkts', 'Subflow Bwd Byts', 'Active Mean', 'Active Min'], 'Normal sample 1026': ['Bwd Header Len', 'Init Bwd Win Byts', 'Bwd Pkt Len Std', 'Idle Max', 'Active Min', 'Flow Duration', 'Fwd IAT Min', 'Tot Bwd Pkts', 'Bwd Seg Size Avg', 'Bwd IAT Min'], 'Normal sample 1027': ['Bwd Pkt Len Max', 'ACK Flag Cnt', 'Bwd IAT Tot', 'Bwd IAT Std', 'Bwd IAT Max', 'Flow Byts/s', 'Idle Std', 'Bwd PSH Flags', 'Flow IAT Max', 'Fwd Act Data Pkts'], 'Normal sample 1028': ['PSH Flag Cnt', 'Bwd PSH Flags', 'Init Bwd Win Byts', 'Pkt Len Min', 'ACK Flag Cnt', 'Bwd Pkt Len Mean', 'Fwd Header Len', 'Bwd Pkt Len Max', 'Bwd Pkt Len Std', 'Pkt Len Var'], 'Normal sample 1029': ['Init Bwd Win Byts', 'Idle Max', 'Bwd Pkt Len Max', 'Fwd IAT Max', 'Bwd Pkt Len Mean', 'Bwd IAT Min', 'Fwd Header Len', 'Fwd IAT Min', 'Flow Pkts/s', 'Subflow Bwd Byts'], 'Normal sample 1030': ['Bwd PSH Flags', 'Bwd IAT Std', 'PSH Flag Cnt', 'Active Max', 'Subflow Fwd Byts', 'Bwd Pkt Len Max', 'Active Min', 'Subflow Bwd Pkts', 'Bwd Seg Size Avg', 'Bwd Pkt Len Min'], 'Normal sample 1031': ['SYN Flag Cnt', 'Bwd Pkt Len Std', 'Bwd Pkt Len Max', 'Bwd Seg Size Avg', 'Idle Min', 'Bwd Pkt Len Mean', 'Idle Max', 'Idle Mean', 'Bwd IAT Min', 'Bwd Header Len'], 'Normal sample 1032': ['Bwd Pkts/s', 'Fwd Pkts/s', 'Fwd IAT Tot', 'Pkt Len Min', 'Bwd Pkt Len Max', 'Subflow Bwd Byts', 'Bwd Pkt Len Std', 'Fwd Pkt Len Max', 'Fwd Pkt Len Mean', 'Fwd IAT Std'], 'Normal sample 1033': ['SYN Flag Cnt', 'Bwd Pkt Len Max', 'Bwd Pkt Len Std', 'Bwd Pkt Len Mean', 'Bwd Seg Size Avg', 'Down/Up Ratio', 'Idle Max', 'Bwd Header Len', 'Idle Min', 'Flow IAT Max'], 'Normal sample 1034': ['Bwd PSH Flags', 'FIN Flag Cnt', 'Down/Up Ratio', 'Pkt Len Min', 'Bwd Pkt Len Std', 'Bwd Header Len', 'Bwd Pkt Len Min', 'URG Flag Cnt', 'Bwd Pkt Len Max', 'Fwd Pkt Len Max'], 'Normal sample 1035': ['Bwd PSH Flags', 'Bwd Pkt Len Min', 'Down/Up Ratio', 'Fwd Pkt Len Max', 'Bwd Header Len', 'Pkt Len Min', 'Bwd IAT Mean', 'Fwd IAT Max', 'Subflow Fwd Byts', 'Idle Std'], 'Normal sample 1036': ['FIN Flag Cnt', 'Down/Up Ratio', 'Pkt Len Min', 'Flow Pkts/s', 'Bwd Pkt Len Min', 'Bwd Pkt Len Mean', 'Pkt Size Avg', 'Bwd Pkts/s', 'Active Max', 'Flow IAT Std'], 'Normal sample 1037': ['Init Bwd Win Byts', 'Fwd Header Len', 'Bwd Pkt Len Mean', 'Fwd IAT Min', 'Idle Max', 'Fwd IAT Mean', 'Idle Min', 'Idle Mean', 'Tot Fwd Pkts', 'Subflow Bwd Byts'], 'Normal sample 1038': ['Init Bwd Win Byts', 'Bwd Pkt Len Mean', 'Tot Bwd Pkts', 'Idle Max', 'Idle Mean', 'Fwd IAT Mean', 'Active Max', 'Subflow Bwd Byts', 'Bwd IAT Max', 'Flow IAT Min'], 'Normal sample 1039': ['Idle Std', 'Fwd Act Data Pkts', 'Tot Bwd Pkts', 'TotLen Fwd Pkts', 'Fwd Pkt Len Min', 'Fwd Pkt Len Std', 'Bwd Pkt Len Max', 'Bwd Pkt Len Mean', 'Bwd Pkt Len Std', 'Flow Pkts/s'], 'Normal sample 1040': ['Pkt Len Min', 'Pkt Len Max', 'Pkt Len Mean', 'Fwd Seg Size Avg', 'Pkt Len Std', 'Down/Up Ratio', 'Flow Pkts/s', 'Pkt Size Avg', 'Fwd Pkt Len Std', 'TotLen Bwd Pkts'], 'Normal sample 1041': ['Bwd PSH Flags', 'Bwd Pkt Len Min', 'Bwd Pkt Len Mean', 'Pkt Len Min', 'Fwd Pkt Len Mean', 'Down/Up Ratio', 'Fwd IAT Std', 'Idle Max', 'Active Std', 'Flow Duration'], 'Normal sample 1042': ['Down/Up Ratio', 'Init Bwd Win Byts', 'Pkt Len Var', 'Idle Min', 'TotLen Bwd Pkts', 'Bwd Pkt Len Mean', 'Bwd Seg Size Avg', 'Active Max', 'Flow IAT Max', 'Bwd Pkt Len Std'], 'Normal sample 1043': ['Init Bwd Win Byts', 'Subflow Bwd Byts', 'Idle Max', 'Idle Min', 'Fwd IAT Tot', 'Fwd IAT Std', 'Bwd Pkt Len Mean', 'Bwd Pkt Len Max', 'Subflow Fwd Pkts', 'Bwd IAT Min'], 'Normal sample 1044': ['Init Bwd Win Byts', 'Bwd Seg Size Avg', 'Idle Min', 'TotLen Bwd Pkts', 'Fwd IAT Tot', 'Subflow Fwd Byts', 'Bwd Pkt Len Mean', 'Fwd IAT Max', 'Active Std', 'Bwd Pkt Len Max'], 'Normal sample 1045': ['Tot Fwd Pkts', 'Bwd Pkt Len Mean', 'Subflow Bwd Byts', 'Bwd Pkt Len Std', 'Flow IAT Std', 'Fwd Pkt Len Min', 'Active Max', 'Init Bwd Win Byts', 'Bwd Seg Size Avg', 'Subflow Fwd Byts'], 'Normal sample 1046': ['Bwd PSH Flags', 'Pkt Len Min', 'Bwd Pkt Len Min', 'Bwd Pkt Len Mean', 'Down/Up Ratio', 'Bwd IAT Mean', 'Flow Byts/s', 'URG Flag Cnt', 'Fwd Pkt Len Std', 'Bwd IAT Min'], 'Normal sample 1047': ['Idle Mean', 'Init Bwd Win Byts', 'Bwd Pkt Len Mean', 'Active Min', 'Active Max', 'Bwd Seg Size Avg', 'Fwd Pkts/s', 'Bwd IAT Min', 'Idle Max', 'Idle Std'], 'Normal sample 1048': ['SYN Flag Cnt', 'Bwd IAT Max', 'Idle Max', 'Bwd IAT Std', 'Bwd Pkt Len Max', 'Flow IAT Min', 'Bwd Pkt Len Min', 'Bwd Pkt Len Std', 'Idle Mean', 'Bwd PSH Flags'], 'Normal sample 1049': ['Idle Mean', 'Init Bwd Win Byts', 'Fwd IAT Max', 'Flow IAT Min', 'Subflow Bwd Byts', 'Fwd Header Len', 'TotLen Bwd Pkts', 'Active Min', 'Fwd IAT Mean', 'Fwd Pkts/s'], 'Normal sample 1050': ['Bwd PSH Flags', 'Pkt Len Min', 'Bwd Pkt Len Min', 'ACK Flag Cnt', 'Idle Std', 'Idle Mean', 'Fwd Seg Size Avg', 'Subflow Fwd Byts', 'Bwd Pkt Len Mean', 'Flow Duration'], 'Normal sample 1051': ['SYN Flag Cnt', 'Bwd Pkt Len Max', 'Bwd Pkt Len Std', 'Bwd Pkt Len Min', 'Bwd PSH Flags', 'Bwd IAT Tot', 'Idle Max', 'Pkt Len Var', 'Active Std', 'Bwd Seg Size Avg'], 'Normal sample 1052': ['Subflow Bwd Pkts', 'Fwd IAT Min', 'Fwd IAT Mean', 'Bwd Pkt Len Mean', 'Fwd IAT Max', 'Idle Max', 'Fwd Pkt Len Std', 'URG Flag Cnt', 'Bwd Header Len', 'Bwd Pkt Len Std'], 'Normal sample 1053': ['Active Min', 'Idle Mean', 'Subflow Bwd Pkts', 'Pkt Len Var', 'Init Bwd Win Byts', 'Flow IAT Std', 'Fwd IAT Mean', 'Bwd IAT Max', 'Active Mean', 'TotLen Fwd Pkts'], 'Normal sample 1054': ['SYN Flag Cnt', 'Bwd IAT Max', 'Bwd Pkt Len Max', 'Bwd IAT Std', 'Idle Max', 'Tot Fwd Pkts', 'TotLen Fwd Pkts', 'Fwd Pkt Len Mean', 'Bwd Pkt Len Min', 'Bwd Pkt Len Mean'], 'Normal sample 1055': ['Init Bwd Win Byts', 'Bwd Header Len', 'Tot Fwd Pkts', 'Active Std', 'Active Max', 'Flow Duration', 'TotLen Fwd Pkts', 'TotLen Bwd Pkts', 'Fwd Pkt Len Std', 'Bwd Pkt Len Max'], 'Normal sample 1056': ['SYN Flag Cnt', 'Bwd IAT Max', 'Bwd IAT Std', 'Idle Std', 'Tot Fwd Pkts', 'Active Mean', 'Active Max', 'Bwd Pkt Len Std', 'Subflow Fwd Pkts', 'Bwd IAT Min'], 'Normal sample 1057': ['Bwd Pkt Len Max', 'Init Bwd Win Byts', 'Bwd Seg Size Avg', 'Fwd Pkt Len Min', 'Bwd Header Len', 'Idle Max', 'Active Mean', 'Bwd Pkt Len Mean', 'Tot Fwd Pkts', 'Idle Mean'], 'Normal sample 1058': ['Init Bwd Win Byts', 'Bwd Pkt Len Mean', 'TotLen Bwd Pkts', 'Bwd Header Len', 'Bwd IAT Tot', 'Active Min', 'Flow IAT Std', 'Pkt Len Var', 'Idle Std', 'Bwd Pkt Len Std'], 'Normal sample 1059': ['Idle Min', 'Idle Mean', 'Init Bwd Win Byts', 'Fwd Header Len', 'Bwd Pkt Len Std', 'Subflow Bwd Byts', 'Flow Duration', 'Tot Fwd Pkts', 'Tot Bwd Pkts', 'TotLen Fwd Pkts'], 'Normal sample 1060': ['ACK Flag Cnt', 'Bwd IAT Std', 'Bwd IAT Max', 'Bwd IAT Mean', 'Flow IAT Mean', 'Bwd PSH Flags', 'Bwd Pkt Len Min', 'Active Min', 'Fwd IAT Min', 'Bwd Header Len'], 'Normal sample 1061': ['SYN Flag Cnt', 'Bwd IAT Tot', 'Bwd IAT Max', 'Bwd IAT Std', 'Bwd IAT Mean', 'Flow IAT Std', 'Flow IAT Mean', 'Flow IAT Min', 'Idle Std', 'Pkt Len Min'], 'Normal sample 1062': ['SYN Flag Cnt', 'ACK Flag Cnt', 'Idle Mean', 'Fwd IAT Min', 'Idle Min', 'Pkt Len Var', 'Bwd Pkt Len Std', 'TotLen Fwd Pkts', 'Subflow Fwd Byts', 'Tot Fwd Pkts'], 'Normal sample 1063': ['ACK Flag Cnt', 'Bwd IAT Max', 'Bwd Pkt Len Max', 'Bwd IAT Tot', 'Bwd Pkt Len Std', 'Bwd Pkt Len Mean', 'Tot Bwd Pkts', 'Tot Fwd Pkts', 'TotLen Fwd Pkts', 'TotLen Bwd Pkts'], 'Normal sample 1064': ['Init Bwd Win Byts', 'Bwd IAT Mean', 'Idle Mean', 'Idle Max', 'Fwd IAT Tot', 'Idle Min', 'Subflow Fwd Pkts', 'Bwd Pkt Len Max', 'Fwd IAT Max', 'Bwd Pkt Len Mean'], 'Normal sample 1065': ['SYN Flag Cnt', 'Bwd IAT Std', 'Bwd IAT Max', 'Idle Max', 'Bwd Pkt Len Min', 'Fwd Pkts/s', 'Down/Up Ratio', 'Active Min', 'Flow IAT Mean', 'Tot Bwd Pkts'], 'Normal sample 1066': ['Pkt Len Std', 'Pkt Size Avg', 'Pkt Len Mean', 'Flow Pkts/s', 'Pkt Len Min', 'Pkt Len Max', 'Fwd Seg Size Avg', 'Fwd Pkt Len Mean', 'Fwd IAT Max', 'Active Min'], 'Normal sample 1067': ['Init Bwd Win Byts', 'Idle Min', 'Subflow Fwd Byts', 'Fwd IAT Tot', 'Active Max', 'Tot Fwd Pkts', 'TotLen Fwd Pkts', 'TotLen Bwd Pkts', 'Fwd Pkt Len Max', 'Fwd Pkt Len Min'], 'Normal sample 1068': ['Init Bwd Win Byts', 'Bwd Header Len', 'Flow IAT Mean', 'Subflow Bwd Byts', 'Fwd IAT Tot', 'Flow IAT Min', 'Active Std', 'Tot Fwd Pkts', 'TotLen Bwd Pkts', 'Bwd Pkt Len Max'], 'Normal sample 1069': ['Bwd Pkt Len Max', 'Active Std', 'Active Mean', 'Bwd Seg Size Avg', 'Active Max', 'Init Bwd Win Byts', 'Bwd Pkt Len Mean', 'Idle Mean', 'Bwd IAT Tot', 'Fwd IAT Mean'], 'Normal sample 1070': ['Pkt Len Std', 'Pkt Len Min', 'Down/Up Ratio', 'Pkt Len Max', 'Pkt Size Avg', 'Pkt Len Mean', 'Fwd IAT Max', 'Bwd URG Flags', 'Active Max', 'Fwd Header Len'], 'Normal sample 1071': ['Init Bwd Win Byts', 'Idle Mean', 'Idle Max', 'Bwd Pkt Len Max', 'Flow Byts/s', 'Fwd Pkts/s', 'Fwd Pkt Len Min', 'Subflow Bwd Pkts', 'Fwd IAT Tot', 'Bwd IAT Mean'], 'Normal sample 1072': ['Init Bwd Win Byts', 'Idle Mean', 'Bwd Pkt Len Max', 'Fwd IAT Std', 'Active Std', 'Bwd Pkt Len Std', 'Fwd Header Len', 'Idle Max', 'Idle Min', 'Fwd Act Data Pkts'], 'Normal sample 1073': ['Bwd Pkt Len Max', 'Idle Mean', 'Flow IAT Max', 'Init Bwd Win Byts', 'Bwd Seg Size Avg', 'Bwd Header Len', 'Idle Min', 'Fwd Pkt Len Std', 'Subflow Bwd Pkts', 'Bwd Pkt Len Std'], 'Normal sample 1074': ['SYN Flag Cnt', 'Bwd Pkt Len Max', 'Pkt Len Min', 'Fwd IAT Mean', 'Bwd IAT Std', 'Subflow Fwd Pkts', 'Flow Duration', 'Fwd IAT Tot', 'Tot Fwd Pkts', 'TotLen Fwd Pkts'], 'Normal sample 1075': ['Pkt Len Min', 'Down/Up Ratio', 'Pkt Len Std', 'Pkt Len Max', 'Pkt Len Mean', 'Pkt Size Avg', 'Fwd Pkt Len Mean', 'Fwd Seg Size Avg', 'Fwd Pkt Len Max', 'Fwd IAT Max'], 'Normal sample 1076': ['Pkt Size Avg', 'Pkt Len Min', 'Pkt Len Mean', 'Flow Pkts/s', 'Pkt Len Std', 'Pkt Len Max', 'Fwd Pkt Len Max', 'Bwd IAT Tot', 'Flow Duration', 'PSH Flag Cnt'], 'Normal sample 1077': ['ACK Flag Cnt', 'Bwd IAT Std', 'Bwd IAT Max', 'Bwd IAT Mean', 'Bwd IAT Tot', 'Flow IAT Mean', 'Idle Std', 'Flow IAT Std', 'Bwd Pkt Len Max', 'Bwd PSH Flags'], 'Normal sample 1078': ['Flow IAT Max', 'Active Max', 'Active Mean', 'Flow IAT Mean', 'Active Min', 'Idle Min', 'Idle Max', 'Init Bwd Win Byts', 'Flow IAT Min', 'Subflow Fwd Pkts'], 'Normal sample 1079': ['Idle Max', 'Init Bwd Win Byts', 'Bwd Pkt Len Std', 'Idle Mean', 'Bwd IAT Min', 'Fwd Act Data Pkts', 'Tot Bwd Pkts', 'Flow Byts/s', 'Fwd IAT Mean', 'Bwd IAT Max'], 'Normal sample 1080': ['TotLen Fwd Pkts', 'TotLen Bwd Pkts', 'Fwd Pkt Len Min', 'Bwd Pkt Len Min', 'Bwd Pkt Len Mean', 'Flow IAT Std', 'Flow IAT Min', 'Fwd IAT Tot', 'Fwd IAT Std', 'Fwd IAT Max'], 'Normal sample 1081': ['Bwd PSH Flags', 'Pkt Len Min', 'Idle Min', 'Fwd Pkt Len Max', 'TotLen Bwd Pkts', 'TotLen Fwd Pkts', 'Bwd Seg Size Avg', 'Bwd Pkt Len Mean', 'Idle Max', 'Bwd IAT Tot'], 'Normal sample 1082': ['Flow Duration', 'Idle Min', 'Bwd IAT Min', 'Subflow Bwd Byts', 'Init Bwd Win Byts', 'Pkt Len Var', 'Idle Max', 'Fwd IAT Std', 'Idle Mean', 'Bwd Seg Size Avg'], 'Normal sample 1083': ['Tot Bwd Pkts', 'TotLen Bwd Pkts', 'Fwd Pkt Len Min', 'Bwd Pkt Len Min', 'Bwd Pkt Len Std', 'Flow Pkts/s', 'Flow IAT Mean', 'Flow IAT Std', 'Flow IAT Min', 'Fwd IAT Max'], 'Normal sample 1084': ['Pkt Len Min', 'Pkt Size Avg', 'Down/Up Ratio', 'Flow Pkts/s', 'Pkt Len Max', 'Pkt Len Mean', 'PSH Flag Cnt', 'Fwd Pkt Len Max', 'Fwd Pkt Len Mean', 'Pkt Len Std'], 'Normal sample 1085': ['ACK Flag Cnt', 'Bwd IAT Max', 'Bwd IAT Std', 'Bwd Pkts/s', 'Fwd Pkts/s', 'Bwd IAT Min', 'Active Min', 'Flow IAT Max', 'Bwd IAT Tot', 'Flow IAT Mean'], 'Normal sample 1086': ['SYN Flag Cnt', 'Bwd Seg Size Avg', 'Bwd Pkt Len Max', 'Bwd Pkt Len Std', 'Subflow Fwd Pkts', 'Active Mean', 'Flow IAT Max', 'Fwd Act Data Pkts', 'Flow Duration', 'Tot Fwd Pkts'], 'Normal sample 1087': ['SYN Flag Cnt', 'Bwd Pkt Len Max', 'Bwd Pkt Len Mean', 'Bwd Pkt Len Std', 'Bwd Seg Size Avg', 'Bwd IAT Std', 'Bwd IAT Max', 'Bwd Pkt Len Min', 'Bwd IAT Tot', 'Pkt Len Var'], 'Normal sample 1088': ['Bwd IAT Tot', 'Bwd PSH Flags', 'ACK Flag Cnt', 'Bwd IAT Max', 'Bwd IAT Std', 'Bwd Seg Size Avg', 'Active Max', 'Idle Max', 'Pkt Len Min', 'Flow Byts/s'], 'Normal sample 1089': ['Init Bwd Win Byts', 'Bwd Pkt Len Max', 'Idle Mean', 'Idle Max', 'Bwd IAT Mean', 'Fwd Pkt Len Min', 'Bwd Pkt Len Mean', 'Idle Min', 'Flow IAT Min', 'Active Min'], 'Normal sample 1090': ['ACK Flag Cnt', 'Bwd IAT Max', 'Bwd IAT Std', 'Bwd IAT Tot', 'Idle Max', 'Fwd Act Data Pkts', 'TotLen Fwd Pkts', 'Idle Mean', 'Bwd PSH Flags', 'Flow IAT Max'], 'Normal sample 1091': ['Init Bwd Win Byts', 'Idle Max', 'Bwd IAT Tot', 'Fwd IAT Tot', 'Bwd Pkt Len Mean', 'Bwd Pkt Len Max', 'Bwd Seg Size Avg', 'Active Max', 'Bwd URG Flags', 'Subflow Fwd Byts'], 'Normal sample 1092': ['Init Bwd Win Byts', 'Idle Min', 'Bwd Seg Size Avg', 'Fwd Pkts/s', 'Idle Max', 'Fwd IAT Mean', 'Fwd IAT Tot', 'Bwd Header Len', 'Tot Bwd Pkts', 'Bwd IAT Min'], 'Normal sample 1093': ['Idle Mean', 'Idle Min', 'Init Bwd Win Byts', 'TotLen Fwd Pkts', 'Idle Max', 'Flow IAT Min', 'Fwd IAT Mean', 'Fwd IAT Std', 'Bwd Pkt Len Std', 'Bwd Header Len'], 'Normal sample 1094': ['SYN Flag Cnt', 'Bwd IAT Std', 'Bwd IAT Max', 'Idle Mean', 'Bwd IAT Mean', 'Idle Min', 'Pkt Len Min', 'Tot Bwd Pkts', 'Bwd IAT Tot', 'Subflow Bwd Byts'], 'Normal sample 1095': ['Fwd IAT Mean', 'Fwd IAT Max', 'Pkt Len Var', 'Flow Duration', 'Idle Min', 'Active Min', 'Bwd Pkt Len Mean', 'Idle Max', 'TotLen Bwd Pkts', 'Tot Fwd Pkts'], 'Normal sample 1096': ['FIN Flag Cnt', 'Down/Up Ratio', 'Flow Pkts/s', 'Pkt Len Min', 'Bwd Pkt Len Min', 'Bwd IAT Mean', 'Bwd Pkts/s', 'Pkt Len Mean', 'Pkt Size Avg', 'Flow Duration'], 'Normal sample 1097': ['Pkt Len Min', 'Pkt Len Std', 'Flow Pkts/s', 'Fwd Pkt Len Std', 'Pkt Len Max', 'Down/Up Ratio', 'Pkt Size Avg', 'Active Mean', 'Idle Std', 'Bwd Pkt Len Min'], 'Normal sample 1098': ['SYN Flag Cnt', 'Bwd Pkt Len Max', 'Bwd Pkt Len Std', 'Idle Max', 'Bwd Pkt Len Min', 'Bwd Header Len', 'Pkt Len Min', 'Bwd Seg Size Avg', 'Subflow Fwd Byts', 'Idle Mean'], 'Normal sample 1099': ['SYN Flag Cnt', 'Bwd IAT Max', 'Bwd IAT Std', 'Bwd IAT Tot', 'Idle Std', 'Flow IAT Mean', 'URG Flag Cnt', 'Fwd Header Len', 'Bwd Pkt Len Min', 'Bwd IAT Mean'], 'Normal sample 1100': ['FIN Flag Cnt', 'Down/Up Ratio', 'Pkt Len Min', 'Flow Pkts/s', 'Pkt Len Std', 'Fwd IAT Mean', 'Fwd IAT Tot', 'Bwd IAT Tot', 'Pkt Len Max', 'Tot Fwd Pkts'], 'Normal sample 1101': ['SYN Flag Cnt', 'Bwd IAT Max', 'Idle Mean', 'Idle Max', 'Pkt Len Min', 'Flow IAT Mean', 'Bwd IAT Tot', 'Down/Up Ratio', 'Bwd IAT Std', 'Bwd PSH Flags'], 'Normal sample 1102': ['Fwd IAT Min', 'Pkt Len Min', 'Bwd IAT Min', 'Subflow Fwd Byts', 'Tot Fwd Pkts', 'Tot Bwd Pkts', 'TotLen Fwd Pkts', 'TotLen Bwd Pkts', 'Fwd Pkt Len Max', 'Fwd Pkt Len Min'], 'Normal sample 1103': ['SYN Flag Cnt', 'Bwd Pkt Len Max', 'Pkt Len Min', 'Active Max', 'FIN Flag Cnt', 'Tot Fwd Pkts', 'Pkt Len Var', 'Tot Bwd Pkts', 'TotLen Bwd Pkts', 'Fwd Pkt Len Min'], 'Normal sample 1104': ['Fwd IAT Tot', 'Active Min', 'Init Bwd Win Byts', 'Bwd Pkt Len Std', 'TotLen Fwd Pkts', 'Fwd IAT Std', 'Bwd Header Len', 'Idle Std', 'Idle Max', 'Flow IAT Min'], 'Normal sample 1105': ['Pkt Len Min', 'Fwd Pkts/s', 'Active Mean', 'Idle Std', 'Flow IAT Min', 'Active Min', 'Subflow Bwd Pkts', 'Flow Byts/s', 'Init Bwd Win Byts', 'TotLen Bwd Pkts'], 'Normal sample 1106': ['FIN Flag Cnt', 'Down/Up Ratio', 'Flow Pkts/s', 'Pkt Len Min', 'Idle Mean', 'TotLen Bwd Pkts', 'Pkt Len Std', 'URG Flag Cnt', 'Pkt Len Max', 'Pkt Len Mean'], 'Normal sample 1107': ['Pkt Size Avg', 'Fwd Pkt Len Std', 'Pkt Len Min', 'Pkt Len Mean', 'Pkt Len Max', 'Flow Pkts/s', 'Pkt Len Std', 'Fwd Pkt Len Max', 'Fwd Pkt Len Mean', 'Fwd IAT Max'], 'Normal sample 1108': ['Pkt Len Var', 'Bwd Header Len', 'Fwd Header Len', 'TotLen Fwd Pkts', 'Bwd URG Flags', 'Bwd IAT Mean', 'Active Std', 'Bwd IAT Max', 'Fwd IAT Max', 'Fwd Pkt Len Std'], 'Normal sample 1109': ['Subflow Fwd Pkts', 'Bwd IAT Min', 'Idle Max', 'Init Bwd Win Byts', 'Fwd Header Len', 'Bwd IAT Max', 'TotLen Bwd Pkts', 'Active Std', 'Flow IAT Mean', 'Active Max'], 'Normal sample 1110': ['SYN Flag Cnt', 'Idle Max', 'Idle Mean', 'Active Std', 'Pkt Len Mean', 'Flow IAT Min', 'Idle Min', 'Active Min', 'Bwd Pkt Len Min', 'Pkt Len Var'], 'Normal sample 1111': ['SYN Flag Cnt', 'Bwd Pkt Len Max', 'Bwd Pkt Len Std', 'Pkt Len Var', 'Bwd IAT Std', 'Bwd IAT Max', 'Fwd Pkts/s', 'Bwd Pkt Len Min', 'Bwd URG Flags', 'Flow Byts/s'], 'Normal sample 1112': ['SYN Flag Cnt', 'Bwd Pkt Len Max', 'Bwd IAT Min', 'Tot Bwd Pkts', 'FIN Flag Cnt', 'Active Mean', 'Subflow Fwd Pkts', 'Bwd URG Flags', 'Idle Mean', 'Active Min'], 'Normal sample 1113': ['Pkt Len Min', 'Down/Up Ratio', 'Pkt Len Mean', 'Pkt Len Std', 'Fwd Pkt Len Max', 'Fwd Pkt Len Mean', 'Flow Pkts/s', 'Pkt Size Avg', 'Fwd IAT Std', 'Pkt Len Max'], 'Normal sample 1114': ['Init Bwd Win Byts', 'Bwd Pkt Len Mean', 'Idle Max', 'Bwd Pkt Len Max', 'Idle Min', 'Fwd IAT Tot', 'Idle Mean', 'Bwd Pkt Len Std', 'Bwd IAT Mean', 'Tot Fwd Pkts'], 'Normal sample 1115': ['Init Bwd Win Byts', 'Bwd Pkt Len Mean', 'Tot Fwd Pkts', 'Flow Pkts/s', 'Idle Mean', 'Active Mean', 'Active Std', 'Idle Min', 'Flow IAT Std', 'Fwd Pkts/s'], 'Normal sample 1116': ['Flow IAT Min', 'Fwd Pkt Len Mean', 'Pkt Len Std', 'Pkt Len Mean', 'Pkt Len Max', 'Pkt Len Min', 'Fwd Pkt Len Max', 'Fwd IAT Std', 'PSH Flag Cnt', 'Pkt Size Avg'], 'Normal sample 1117': ['SYN Flag Cnt', 'Bwd IAT Std', 'Idle Max', 'Bwd IAT Max', 'Idle Std', 'Bwd Pkt Len Max', 'Bwd IAT Tot', 'Flow IAT Mean', 'Idle Min', 'Idle Mean'], 'Normal sample 1118': ['Down/Up Ratio', 'Tot Fwd Pkts', 'Tot Bwd Pkts', 'TotLen Fwd Pkts', 'TotLen Bwd Pkts', 'Fwd Pkt Len Min', 'Bwd Pkt Len Max', 'Bwd Pkt Len Min', 'Bwd Pkt Len Std', 'Flow Byts/s'], 'Normal sample 1119': ['Bwd Pkts/s', 'Pkt Len Min', 'Fwd Pkts/s', 'FIN Flag Cnt', 'ACK Flag Cnt', 'Bwd Pkt Len Min', 'Fwd Pkt Len Min', 'Bwd IAT Min', 'Bwd Pkt Len Max', 'TotLen Bwd Pkts'], 'Normal sample 1120': ['Init Bwd Win Byts', 'Idle Min', 'Fwd IAT Tot', 'Bwd Pkt Len Std', 'Active Min', 'Bwd Header Len', 'Bwd Seg Size Avg', 'Bwd IAT Tot', 'Fwd Pkt Len Max', 'Idle Mean'], 'Normal sample 1121': ['Init Bwd Win Byts', 'Idle Min', 'Fwd IAT Mean', 'Tot Bwd Pkts', 'Bwd Header Len', 'Bwd Seg Size Avg', 'Subflow Bwd Byts', 'Bwd Pkt Len Std', 'Idle Std', 'Idle Max'], 'Normal sample 1122': ['Down/Up Ratio', 'Init Bwd Win Byts', 'TotLen Fwd Pkts', 'Bwd Pkt Len Std', 'Bwd Pkt Len Max', 'Flow Byts/s', 'Bwd Pkt Len Mean', 'Fwd Pkt Len Std', 'Subflow Bwd Pkts', 'Fwd Pkt Len Max'], 'Normal sample 1123': ['Init Bwd Win Byts', 'Idle Max', 'Flow IAT Min', 'Bwd Header Len', 'Fwd Pkt Len Std', 'Fwd IAT Tot', 'Fwd IAT Std', 'Subflow Fwd Byts', 'Fwd IAT Min', 'Idle Mean'], 'Normal sample 1124': ['Bwd IAT Mean', 'Idle Mean', 'Init Bwd Win Byts', 'Bwd Pkt Len Max', 'Bwd Seg Size Avg', 'Bwd Pkt Len Mean', 'Flow IAT Std', 'Fwd IAT Min', 'Fwd IAT Std', 'Idle Max'], 'Normal sample 1125': ['ACK Flag Cnt', 'Bwd IAT Std', 'Bwd IAT Max', 'Flow IAT Mean', 'Fwd Pkt Len Min', 'Bwd IAT Mean', 'Flow IAT Std', 'Bwd Pkt Len Std', 'Flow Byts/s', 'Pkt Len Var'], 'Normal sample 1126': ['Bwd IAT Std', 'Bwd IAT Max', 'Flow IAT Mean', 'Init Bwd Win Byts', 'Idle Mean', 'Idle Min', 'Idle Max', 'Fwd Act Data Pkts', 'Bwd Pkt Len Max', 'Fwd IAT Mean'], 'Normal sample 1127': ['Fwd IAT Min', 'Bwd Seg Size Avg', 'Fwd IAT Std', 'Bwd IAT Tot', 'Init Bwd Win Byts', 'Flow IAT Min', 'Idle Mean', 'Fwd IAT Mean', 'Idle Min', 'Tot Bwd Pkts'], 'Normal sample 1128': ['Pkt Len Min', 'Down/Up Ratio', 'Pkt Len Std', 'Pkt Len Mean', 'Pkt Len Max', 'Pkt Size Avg', 'Flow Pkts/s', 'Fwd IAT Tot', 'Fwd Pkt Len Std', 'Fwd Pkt Len Max'], 'Normal sample 1129': ['ACK Flag Cnt', 'Bwd IAT Std', 'Idle Std', 'Bwd IAT Max', 'Flow IAT Max', 'Bwd Pkt Len Mean', 'Flow IAT Mean', 'Tot Bwd Pkts', 'Flow IAT Min', 'Bwd IAT Tot'], 'Normal sample 1130': ['Bwd PSH Flags', 'Bwd Pkt Len Min', 'Tot Fwd Pkts', 'Pkt Len Min', 'Pkt Len Var', 'Fwd Pkts/s', 'TotLen Fwd Pkts', 'TotLen Bwd Pkts', 'Fwd Pkt Len Max', 'Bwd Pkt Len Max'], 'Normal sample 1131': ['SYN Flag Cnt', 'Bwd IAT Std', 'Bwd Pkt Len Max', 'Bwd IAT Max', 'Flow IAT Min', 'Pkt Len Var', 'Bwd Pkt Len Std', 'Pkt Len Min', 'Tot Fwd Pkts', 'Subflow Bwd Pkts'], 'Normal sample 1132': ['Init Bwd Win Byts', 'Tot Fwd Pkts', 'TotLen Bwd Pkts', 'Bwd Pkt Len Min', 'Flow Pkts/s', 'Flow IAT Std', 'Flow IAT Min', 'Fwd IAT Tot', 'Fwd IAT Mean', 'Fwd IAT Std'], 'Normal sample 1133': ['Bwd PSH Flags', 'Init Bwd Win Byts', 'Pkt Len Min', 'Down/Up Ratio', 'Fwd Pkt Len Max', 'Fwd Seg Size Avg', 'Fwd IAT Std', 'Flow IAT Mean', 'Bwd Pkt Len Std', 'ACK Flag Cnt'], 'Normal sample 1134': ['Bwd Pkt Len Std', 'Init Bwd Win Byts', 'Idle Max', 'Idle Min', 'Fwd IAT Tot', 'Flow Duration', 'Tot Fwd Pkts', 'TotLen Fwd Pkts', 'TotLen Bwd Pkts', 'Fwd Pkt Len Max'], 'Normal sample 1135': ['Bwd Pkt Len Max', 'Init Bwd Win Byts', 'Subflow Bwd Byts', 'Fwd Pkts/s', 'Bwd Header Len', 'Idle Min', 'Pkt Len Var', 'Fwd IAT Max', 'Idle Mean', 'Fwd Pkt Len Min'], 'Normal sample 1136': ['Subflow Bwd Byts', 'Init Bwd Win Byts', 'TotLen Bwd Pkts', 'Flow Byts/s', 'Bwd PSH Flags', 'Subflow Fwd Byts', 'Idle Mean', 'Fwd IAT Tot', 'TotLen Fwd Pkts', 'Idle Min'], 'Normal sample 1137': ['SYN Flag Cnt', 'Pkt Len Min', 'Bwd Pkt Len Max', 'Fwd Pkts/s', 'Fwd IAT Std', 'Idle Mean', 'Idle Max', 'Fwd IAT Mean', 'Active Mean', 'Flow IAT Min'], 'Normal sample 1138': ['Idle Max', 'Active Std', 'Init Bwd Win Byts', 'Active Min', 'Active Mean', 'Tot Bwd Pkts', 'Fwd IAT Min', 'Tot Fwd Pkts', 'TotLen Fwd Pkts', 'Fwd Pkt Len Std'], 'Normal sample 1139': ['Init Bwd Win Byts', 'Idle Mean', 'Subflow Bwd Byts', 'Subflow Fwd Pkts', 'Flow Duration', 'Bwd IAT Tot', 'Bwd Pkt Len Std', 'TotLen Bwd Pkts', 'Bwd Pkt Len Max', 'Fwd Act Data Pkts'], 'Normal sample 1140': ['Bwd Pkt Len Std', 'Fwd Pkts/s', 'Subflow Fwd Byts', 'Flow IAT Mean', 'Fwd Pkt Len Std', 'Idle Min', 'Flow Duration', 'Tot Bwd Pkts', 'TotLen Fwd Pkts', 'TotLen Bwd Pkts'], 'Normal sample 1141': ['SYN Flag Cnt', 'Bwd Pkt Len Max', 'Bwd Pkt Len Std', 'Bwd Pkt Len Mean', 'Down/Up Ratio', 'Bwd Seg Size Avg', 'Active Mean', 'Idle Max', 'Fwd Pkts/s', 'Pkt Len Min'], 'Normal sample 1142': ['SYN Flag Cnt', 'Bwd IAT Mean', 'Idle Min', 'Pkt Len Min', 'Idle Max', 'Fwd Header Len', 'Fwd IAT Min', 'Idle Std', 'TotLen Bwd Pkts', 'Idle Mean'], 'Normal sample 1143': ['Subflow Bwd Byts', 'Init Bwd Win Byts', 'Tot Bwd Pkts', 'Idle Min', 'Active Mean', 'Active Max', 'Bwd Pkt Len Mean', 'Fwd IAT Min', 'Bwd IAT Max', 'Bwd Header Len'], 'Normal sample 1144': ['Init Bwd Win Byts', 'Bwd Pkt Len Std', 'Idle Max', 'Fwd IAT Max', 'Tot Bwd Pkts', 'Subflow Bwd Pkts', 'TotLen Bwd Pkts', 'Bwd Pkt Len Mean', 'Bwd IAT Min', 'Fwd Pkt Len Max'], 'Normal sample 1145': ['Idle Max', 'Init Bwd Win Byts', 'Fwd Pkts/s', 'Idle Min', 'Active Min', 'Flow IAT Min', 'Fwd IAT Tot', 'Bwd Pkt Len Std', 'Flow IAT Std', 'Fwd IAT Min'], 'Normal sample 1146': ['Pkt Len Min', 'Down/Up Ratio', 'Pkt Len Mean', 'Pkt Len Max', 'Pkt Len Std', 'Pkt Size Avg', 'Fwd Seg Size Avg', 'Flow IAT Min', 'Fwd Pkt Len Mean', 'Fwd Pkts/s'], 'Normal sample 1147': ['Idle Max', 'Fwd Pkt Len Std', 'Fwd IAT Min', 'Bwd Pkt Len Std', 'Init Bwd Win Byts', 'Fwd Header Len', 'Idle Min', 'Fwd IAT Mean', 'Fwd IAT Max', 'Tot Fwd Pkts'], 'Normal sample 1148': ['Init Bwd Win Byts', 'Bwd Pkt Len Std', 'Idle Mean', 'Fwd IAT Std', 'Idle Max', 'Subflow Fwd Pkts', 'Subflow Fwd Byts', 'Bwd Pkt Len Max', 'Bwd URG Flags', 'Fwd IAT Mean'], 'Normal sample 1149': ['SYN Flag Cnt', 'Bwd Pkt Len Max', 'Tot Fwd Pkts', 'Tot Bwd Pkts', 'TotLen Fwd Pkts', 'Fwd Pkt Len Mean', 'Bwd Pkt Len Min', 'Bwd Pkt Len Std', 'Flow Byts/s', 'Flow Pkts/s'], 'Normal sample 1150': ['Fwd IAT Min', 'Bwd Pkt Len Max', 'Idle Mean', 'Active Min', 'Idle Std', 'Bwd IAT Max', 'Subflow Bwd Byts', 'Init Bwd Win Byts', 'Fwd Pkt Len Min', 'Active Mean'], 'Normal sample 1151': ['Init Bwd Win Byts', 'Idle Mean', 'Active Max', 'Fwd Pkt Len Min', 'Subflow Fwd Byts', 'Tot Fwd Pkts', 'Flow IAT Std', 'Active Std', 'TotLen Bwd Pkts', 'Bwd Header Len'], 'Normal sample 1152': ['Bwd Seg Size Avg', 'Idle Min', 'Bwd Pkt Len Mean', 'Bwd IAT Min', 'Init Bwd Win Byts', 'Fwd IAT Tot', 'Subflow Bwd Byts', 'Fwd Pkt Len Std', 'Idle Max', 'Idle Mean'], 'Normal sample 1153': ['SYN Flag Cnt', 'Bwd IAT Max', 'Bwd IAT Std', 'Bwd IAT Tot', 'Subflow Fwd Byts', 'Fwd Pkts/s', 'Active Max', 'Bwd IAT Min', 'Pkt Len Var', 'Fwd IAT Min'], 'Normal sample 1154': ['Init Bwd Win Byts', 'Idle Mean', 'Fwd Pkt Len Min', 'Pkt Len Var', 'Flow IAT Min', 'Fwd IAT Tot', 'Idle Min', 'Active Std', 'Subflow Fwd Byts', 'Bwd IAT Min'], 'Normal sample 1155': ['ACK Flag Cnt', 'Bwd IAT Std', 'Bwd IAT Max', 'Bwd IAT Tot', 'Bwd PSH Flags', 'Flow IAT Max', 'Idle Max', 'Bwd IAT Mean', 'Bwd Seg Size Avg', 'Flow Pkts/s'], 'Normal sample 1156': ['Subflow Fwd Byts', 'Init Bwd Win Byts', 'Bwd Pkt Len Max', 'Bwd Pkt Len Mean', 'Fwd Act Data Pkts', 'Subflow Bwd Pkts', 'Bwd IAT Min', 'Tot Bwd Pkts', 'TotLen Fwd Pkts', 'TotLen Bwd Pkts'], 'Normal sample 1157': ['Pkt Len Min', 'Down/Up Ratio', 'Pkt Len Mean', 'Pkt Size Avg', 'Pkt Len Std', 'Flow Pkts/s', 'Pkt Len Max', 'Fwd Pkt Len Mean', 'Fwd Pkt Len Max', 'TotLen Bwd Pkts'], 'Normal sample 1158': ['ACK Flag Cnt', 'Bwd IAT Max', 'Bwd IAT Tot', 'Bwd IAT Std', 'Bwd PSH Flags', 'Idle Max', 'Flow IAT Mean', 'Flow IAT Max', 'Bwd Pkt Len Max', 'Flow IAT Min'], 'Normal sample 1159': ['Flow Duration', 'Tot Fwd Pkts', 'TotLen Fwd Pkts', 'TotLen Bwd Pkts', 'Fwd Pkt Len Min', 'Bwd Pkt Len Max', 'Bwd Pkt Len Mean', 'Bwd Pkt Len Std', 'Flow Pkts/s', 'Flow IAT Mean'], 'Normal sample 1160': ['Down/Up Ratio', 'Init Bwd Win Byts', 'Bwd Seg Size Avg', 'Idle Mean', 'Bwd Pkt Len Std', 'Fwd IAT Std', 'Bwd Pkt Len Mean', 'Idle Min', 'Idle Max', 'Fwd Pkts/s'], 'Normal sample 1161': ['Init Bwd Win Byts', 'Bwd Seg Size Avg', 'Idle Mean', 'Fwd IAT Mean', 'Active Std', 'Subflow Bwd Byts', 'Bwd Pkt Len Mean', 'TotLen Bwd Pkts', 'Subflow Fwd Byts', 'Fwd IAT Tot'], 'Normal sample 1162': ['Init Bwd Win Byts', 'Bwd Pkt Len Max', 'Idle Max', 'Fwd Pkt Len Std', 'Flow IAT Min', 'Flow Pkts/s', 'Pkt Len Var', 'Fwd IAT Std', 'Idle Min', 'Tot Bwd Pkts'], 'Normal sample 1163': ['Init Bwd Win Byts', 'Idle Mean', 'Fwd IAT Min', 'Idle Max', 'Bwd IAT Min', 'Subflow Fwd Byts', 'Fwd IAT Tot', 'Tot Bwd Pkts', 'Tot Fwd Pkts', 'TotLen Bwd Pkts'], 'Normal sample 1164': ['Pkt Len Mean', 'Pkt Len Max', 'Pkt Len Min', 'Pkt Size Avg', 'PSH Flag Cnt', 'Flow Pkts/s', 'Down/Up Ratio', 'Pkt Len Std', 'Flow IAT Std', 'Idle Mean'], 'Normal sample 1165': ['SYN Flag Cnt', 'Bwd IAT Std', 'Bwd IAT Max', 'Idle Max', 'Bwd Pkt Len Min', 'Idle Std', 'Idle Mean', 'Bwd Pkt Len Std', 'Active Mean', 'Pkt Len Var'], 'Normal sample 1166': ['SYN Flag Cnt', 'Bwd IAT Max', 'Bwd IAT Tot', 'Bwd IAT Std', 'Subflow Fwd Pkts', 'Pkt Size Avg', 'Tot Fwd Pkts', 'Bwd IAT Mean', 'Flow IAT Mean', 'Bwd IAT Min'], 'Normal sample 1167': ['RST Flag Cnt', 'Pkt Len Min', 'Down/Up Ratio', 'Fwd IAT Max', 'Subflow Fwd Pkts', 'Bwd Pkt Len Min', 'Pkt Len Var', 'Idle Mean', 'Pkt Len Max', 'Flow Byts/s'], 'Normal sample 1168': ['Init Bwd Win Byts', 'Idle Max', 'Fwd IAT Min', 'Idle Min', 'Subflow Bwd Pkts', 'Flow Duration', 'Bwd IAT Mean', 'Fwd IAT Mean', 'Idle Std', 'Bwd Pkt Len Max'], 'Normal sample 1169': ['Init Bwd Win Byts', 'Bwd Pkt Len Mean', 'Flow IAT Max', 'Bwd IAT Tot', 'TotLen Fwd Pkts', 'Idle Min', 'Idle Mean', 'Active Min', 'Active Max', 'Idle Max'], 'Normal sample 1170': ['Init Bwd Win Byts', 'Bwd IAT Tot', 'Fwd Act Data Pkts', 'Flow Pkts/s', 'Tot Bwd Pkts', 'Flow Byts/s', 'Bwd Pkt Len Std', 'Idle Max', 'Bwd Seg Size Avg', 'Fwd IAT Mean'], 'Normal sample 1171': ['Idle Max', 'Idle Mean', 'Active Max', 'Init Bwd Win Byts', 'Fwd IAT Std', 'Bwd Pkt Len Max', 'Flow IAT Std', 'Fwd IAT Max', 'Bwd Pkt Len Mean', 'Subflow Bwd Pkts'], 'Normal sample 1172': ['Idle Max', 'Idle Mean', 'Init Bwd Win Byts', 'Bwd IAT Min', 'Bwd Seg Size Avg', 'TotLen Fwd Pkts', 'Fwd Pkts/s', 'Bwd Pkt Len Mean', 'Idle Min', 'Active Max'], 'Normal sample 1173': ['Init Bwd Win Byts', 'Flow Duration', 'Tot Fwd Pkts', 'TotLen Bwd Pkts', 'Fwd Pkt Len Std', 'Bwd Pkt Len Max', 'Bwd Pkt Len Mean', 'Bwd Pkt Len Std', 'Flow Byts/s', 'Flow IAT Std'], 'Normal sample 1174': ['Down/Up Ratio', 'Idle Min', 'TotLen Bwd Pkts', 'Flow Duration', 'Fwd IAT Min', 'Init Bwd Win Byts', 'Fwd Pkt Len Std', 'Bwd Pkt Len Std', 'Flow IAT Min', 'Bwd Pkt Len Mean'], 'Normal sample 1175': ['SYN Flag Cnt', 'Bwd Pkt Len Max', 'Bwd Pkt Len Mean', 'Bwd Pkt Len Std', 'Bwd Seg Size Avg', 'Flow Byts/s', 'TotLen Bwd Pkts', 'Bwd IAT Min', 'Idle Max', 'Bwd PSH Flags'], 'Normal sample 1176': ['SYN Flag Cnt', 'TotLen Bwd Pkts', 'Idle Mean', 'URG Flag Cnt', 'Pkt Len Min', 'PSH Flag Cnt', 'Active Std', 'Tot Bwd Pkts', 'TotLen Fwd Pkts', 'Bwd Pkt Len Max'], 'Normal sample 1177': ['Pkt Len Min', 'Down/Up Ratio', 'Pkt Len Std', 'Pkt Size Avg', 'Pkt Len Max', 'PSH Flag Cnt', 'Fwd Pkt Len Mean', 'Flow Pkts/s', 'Pkt Len Mean', 'Active Min'], 'Normal sample 1178': ['Idle Min', 'Init Bwd Win Byts', 'Tot Bwd Pkts', 'Idle Mean', 'Flow IAT Min', 'Bwd IAT Min', 'Active Max', 'TotLen Fwd Pkts', 'TotLen Bwd Pkts', 'Fwd Pkt Len Min'], 'Normal sample 1179': ['ACK Flag Cnt', 'Bwd IAT Std', 'Bwd IAT Max', 'Bwd IAT Tot', 'Bwd PSH Flags', 'Pkt Len Var', 'Subflow Fwd Byts', 'Bwd URG Flags', 'Active Std', 'URG Flag Cnt'], 'Normal sample 1180': ['Idle Max', 'Init Bwd Win Byts', 'Idle Min', 'Idle Mean', 'TotLen Fwd Pkts', 'Fwd Act Data Pkts', 'Fwd IAT Mean', 'Bwd Pkt Len Max', 'Bwd Seg Size Avg', 'Subflow Fwd Byts'], 'Normal sample 1181': ['SYN Flag Cnt', 'Bwd Pkt Len Max', 'Bwd IAT Max', 'PSH Flag Cnt', 'Bwd Pkt Len Std', 'Bwd Pkt Len Mean', 'Fwd Pkt Len Min', 'Active Max', 'Bwd URG Flags', 'URG Flag Cnt'], 'Normal sample 1182': ['Init Bwd Win Byts', 'Idle Min', 'Tot Fwd Pkts', 'Flow Duration', 'Idle Mean', 'Fwd Pkts/s', 'Active Mean', 'Bwd Header Len', 'Bwd Pkt Len Mean', 'Idle Std'], 'Normal sample 1183': ['Bwd PSH Flags', 'Fwd Header Len', 'Pkt Len Min', 'Active Mean', 'Subflow Fwd Byts', 'Idle Min', 'Idle Max', 'Flow Byts/s', 'Flow Pkts/s', 'Bwd IAT Max'], 'Normal sample 1184': ['Fwd Pkt Len Min', 'Tot Bwd Pkts', 'TotLen Fwd Pkts', 'Bwd Pkt Len Max', 'Bwd Pkt Len Min', 'Flow Pkts/s', 'Flow IAT Mean', 'Flow IAT Std', 'Flow IAT Max', 'Flow IAT Min'], 'Normal sample 1185': ['Pkt Len Var', 'Bwd IAT Max', 'Idle Min', 'Bwd Pkt Len Std', 'Active Std', 'Flow IAT Min', 'Init Bwd Win Byts', 'Bwd IAT Tot', 'Idle Max', 'Flow Pkts/s'], 'Normal sample 1186': ['Bwd PSH Flags', 'Bwd Pkt Len Min', 'Bwd IAT Min', 'Idle Std', 'Bwd Seg Size Avg', 'Fwd Pkt Len Min', 'Pkt Len Min', 'Subflow Bwd Byts', 'Fwd IAT Tot', 'Active Max'], 'Normal sample 1187': ['Init Bwd Win Byts', 'Fwd IAT Tot', 'Fwd Pkt Len Max', 'Fwd Pkt Len Std', 'Idle Max', 'Idle Min', 'Flow Duration', 'Tot Fwd Pkts', 'Tot Bwd Pkts', 'Bwd Pkt Len Max'], 'Normal sample 1188': ['Bwd PSH Flags', 'Bwd Pkt Len Min', 'Pkt Len Min', 'Pkt Len Std', 'Flow IAT Std', 'Bwd IAT Tot', 'Fwd IAT Mean', 'Fwd Pkt Len Mean', 'Flow IAT Min', 'Fwd IAT Min'], 'Normal sample 1189': ['ACK Flag Cnt', 'Bwd IAT Max', 'Bwd IAT Std', 'Bwd IAT Tot', 'Idle Max', 'Flow IAT Max', 'Idle Mean', 'Subflow Fwd Byts', 'Idle Min', 'Bwd Pkt Len Max'], 'Normal sample 1190': ['ACK Flag Cnt', 'Bwd IAT Std', 'Bwd IAT Mean', 'Idle Mean', 'Flow IAT Max', 'Bwd IAT Max', 'Subflow Fwd Byts', 'Flow IAT Min', 'Tot Bwd Pkts', 'Fwd IAT Min'], 'Normal sample 1191': ['Init Bwd Win Byts', 'Bwd Pkt Len Mean', 'Bwd Pkt Len Std', 'TotLen Bwd Pkts', 'Subflow Fwd Pkts', 'Fwd IAT Std', 'Idle Max', 'Fwd IAT Mean', 'Tot Fwd Pkts', 'Fwd Pkts/s'], 'Normal sample 1192': ['Idle Max', 'Idle Min', 'Init Bwd Win Byts', 'Bwd Pkt Len Max', 'Fwd Header Len', 'Flow Byts/s', 'TotLen Fwd Pkts', 'Bwd Pkt Len Mean', 'Fwd Pkts/s', 'Tot Fwd Pkts'], 'Normal sample 1193': ['SYN Flag Cnt', 'Down/Up Ratio', 'Bwd Pkt Len Mean', 'Bwd Pkt Len Std', 'Bwd Seg Size Avg', 'Bwd Pkt Len Max', 'Pkt Len Min', 'TotLen Bwd Pkts', 'Fwd Pkt Len Min', 'Flow IAT Max'], 'Normal sample 1194': ['Bwd Pkt Len Std', 'Idle Min', 'Init Bwd Win Byts', 'Fwd Pkt Len Std', 'Idle Mean', 'Fwd Pkts/s', 'Idle Max', 'Active Std', 'Bwd IAT Mean', 'Active Mean'], 'Normal sample 1195': ['Bwd PSH Flags', 'Bwd Pkt Len Mean', 'Bwd Pkt Len Max', 'Fwd Act Data Pkts', 'Pkt Len Var', 'Bwd Pkt Len Std', 'Bwd Pkt Len Min', 'Active Mean', 'Fwd Header Len', 'Idle Mean'], 'Normal sample 1196': ['ACK Flag Cnt', 'Bwd IAT Std', 'Bwd IAT Max', 'Bwd IAT Tot', 'Bwd IAT Mean', 'Bwd PSH Flags', 'Bwd Header Len', 'Tot Bwd Pkts', 'Pkt Len Min', 'Fwd IAT Min'], 'Normal sample 1197': ['Init Bwd Win Byts', 'Bwd IAT Min', 'Bwd Header Len', 'Idle Mean', 'Active Min', 'Fwd Act Data Pkts', 'Bwd Pkt Len Mean', 'Fwd IAT Tot', 'Idle Max', 'Bwd Pkt Len Std'], 'Normal sample 1198': ['SYN Flag Cnt', 'Bwd Pkt Len Max', 'Bwd IAT Tot', 'Flow Byts/s', 'Fwd Pkt Len Min', 'TotLen Fwd Pkts', 'Pkt Len Var', 'Active Max', 'Idle Std', 'Bwd IAT Std'], 'Normal sample 1199': ['Pkt Len Min', 'Flow Duration', 'Fwd Pkts/s', 'Subflow Bwd Pkts', 'Tot Fwd Pkts', 'Tot Bwd Pkts', 'TotLen Fwd Pkts', 'Fwd Pkt Len Min', 'Bwd Pkt Len Max', 'Bwd Pkt Len Min'], 'Normal sample 1200': ['SYN Flag Cnt', 'Bwd Pkt Len Max', 'Bwd Pkt Len Std', 'Bwd Pkt Len Mean', 'Bwd IAT Std', 'Subflow Bwd Byts', 'PSH Flag Cnt', 'Bwd IAT Max', 'Idle Mean', 'URG Flag Cnt'], 'Normal sample 1201': ['Pkt Size Avg', 'Pkt Len Min', 'Flow Pkts/s', 'Pkt Len Max', 'Pkt Len Mean', 'Pkt Len Std', 'Fwd IAT Std', 'Fwd Pkt Len Mean', 'Active Std', 'Fwd Pkt Len Max'], 'Normal sample 1202': ['Pkt Len Mean', 'Pkt Len Min', 'Pkt Size Avg', 'Down/Up Ratio', 'Pkt Len Max', 'Flow Pkts/s', 'Fwd Pkt Len Max', 'Fwd Pkt Len Mean', 'Fwd IAT Tot', 'Bwd URG Flags'], 'Normal sample 1203': ['TotLen Bwd Pkts', 'Init Bwd Win Byts', 'Idle Min', 'Fwd Pkts/s', 'Idle Max', 'Fwd IAT Std', 'Flow IAT Std', 'Fwd IAT Max', 'Bwd Seg Size Avg', 'Tot Bwd Pkts'], 'Normal sample 1204': ['ACK Flag Cnt', 'Bwd Pkt Len Max', 'Flow Duration', 'Tot Bwd Pkts', 'TotLen Bwd Pkts', 'Bwd Pkt Len Min', 'Bwd Pkt Len Mean', 'Bwd Pkt Len Std', 'Flow IAT Mean', 'Flow IAT Std'], 'Normal sample 1205': ['SYN Flag Cnt', 'Bwd Pkt Len Max', 'Bwd IAT Max', 'Tot Bwd Pkts', 'TotLen Fwd Pkts', 'TotLen Bwd Pkts', 'Fwd Pkt Len Min', 'Fwd Pkt Len Mean', 'Fwd Pkt Len Std', 'Bwd Pkt Len Min'], 'Normal sample 1206': ['ACK Flag Cnt', 'Bwd IAT Tot', 'Bwd IAT Std', 'Bwd IAT Max', 'Fwd Act Data Pkts', 'Flow Duration', 'TotLen Bwd Pkts', 'Idle Std', 'Flow IAT Mean', 'Pkt Len Min'], 'Normal sample 1207': ['Pkt Len Min', 'Fwd IAT Std', 'PSH Flag Cnt', 'Fwd IAT Max', 'Init Bwd Win Byts', 'Pkt Len Var', 'Fwd Pkt Len Min', 'Flow Duration', 'Tot Bwd Pkts', 'TotLen Fwd Pkts'], 'Normal sample 1208': ['Init Bwd Win Byts', 'Idle Mean', 'Active Std', 'Subflow Fwd Byts', 'Idle Min', 'Bwd Pkt Len Max', 'Flow Duration', 'Tot Bwd Pkts', 'TotLen Fwd Pkts', 'TotLen Bwd Pkts'], 'Normal sample 1209': ['FIN Flag Cnt', 'Down/Up Ratio', 'Flow Pkts/s', 'Pkt Len Min', 'Pkt Len Std', 'Fwd IAT Mean', 'Pkt Len Max', 'Fwd Act Data Pkts', 'Tot Fwd Pkts', 'Bwd Pkt Len Std'], 'Normal sample 1210': ['Pkt Len Min', 'Pkt Size Avg', 'Down/Up Ratio', 'Pkt Len Max', 'Pkt Len Std', 'Pkt Len Mean', 'Flow Pkts/s', 'Fwd Seg Size Avg', 'Fwd Pkt Len Mean', 'Subflow Bwd Pkts'], 'Normal sample 1211': ['Idle Mean', 'Subflow Bwd Pkts', 'Bwd Seg Size Avg', 'TotLen Bwd Pkts', 'Tot Fwd Pkts', 'Flow Duration', 'Tot Bwd Pkts', 'Bwd Pkt Len Max', 'Bwd Pkt Len Mean', 'Flow Pkts/s'], 'Normal sample 1212': ['Idle Min', 'Init Bwd Win Byts', 'Fwd Act Data Pkts', 'Idle Mean', 'Subflow Bwd Pkts', 'Fwd Pkt Len Min', 'Bwd Pkt Len Mean', 'Active Std', 'Flow IAT Min', 'Bwd IAT Mean'], 'Normal sample 1213': ['Bwd Pkt Len Std', 'Subflow Fwd Pkts', 'Idle Max', 'Fwd IAT Tot', 'Flow Duration', 'Flow IAT Std', 'Active Std', 'Idle Min', 'Active Mean', 'Fwd Header Len'], 'Normal sample 1214': ['Init Bwd Win Byts', 'Bwd Seg Size Avg', 'Bwd Pkt Len Mean', 'Fwd Pkts/s', 'Idle Min', 'Bwd IAT Tot', 'Idle Mean', 'Fwd IAT Std', 'Tot Bwd Pkts', 'Bwd IAT Max'], 'Normal sample 1215': ['SYN Flag Cnt', 'Bwd IAT Std', 'Bwd IAT Max', 'Bwd IAT Tot', 'Idle Max', 'Idle Mean', 'Fwd Pkts/s', 'Bwd Pkt Len Min', 'Flow Pkts/s', 'Fwd Pkt Len Min'], 'Normal sample 1216': ['SYN Flag Cnt', 'Bwd Pkt Len Max', 'Bwd Pkt Len Mean', 'Bwd Pkt Len Std', 'Pkt Len Var', 'PSH Flag Cnt', 'Bwd PSH Flags', 'Fwd IAT Min', 'Tot Fwd Pkts', 'Bwd IAT Mean'], 'Normal sample 1217': ['SYN Flag Cnt', 'Active Min', 'Bwd IAT Max', 'Active Max', 'Idle Max', 'Active Mean', 'Idle Mean', 'Bwd IAT Std', 'Flow IAT Max', 'Bwd Pkt Len Mean'], 'Normal sample 1218': ['FIN Flag Cnt', 'Down/Up Ratio', 'Flow Pkts/s', 'Bwd Pkt Len Min', 'Pkt Len Min', 'Subflow Fwd Byts', 'Pkt Len Max', 'Flow Byts/s', 'Flow IAT Std', 'Bwd IAT Max'], 'Normal sample 1219': ['Idle Min', 'Init Bwd Win Byts', 'Idle Mean', 'Fwd IAT Min', 'Idle Max', 'Fwd IAT Mean', 'TotLen Bwd Pkts', 'Fwd Header Len', 'Bwd Seg Size Avg', 'Fwd Pkt Len Std'], 'Normal sample 1220': ['Init Bwd Win Byts', 'Fwd IAT Std', 'Idle Mean', 'Idle Min', 'Fwd Pkt Len Std', 'Pkt Len Var', 'Bwd Pkt Len Max', 'Subflow Bwd Byts', 'Fwd Header Len', 'Active Mean'], 'Normal sample 1221': ['Idle Mean', 'Idle Max', 'Idle Min', 'Init Bwd Win Byts', 'Fwd IAT Max', 'Bwd PSH Flags', 'Bwd Pkt Len Mean', 'TotLen Bwd Pkts', 'Fwd IAT Min', 'Tot Fwd Pkts'], 'Normal sample 1222': ['Active Min', 'Active Mean', 'Active Max', 'Bwd IAT Tot', 'Bwd PSH Flags', 'ACK Flag Cnt', 'Fwd IAT Min', 'Bwd Header Len', 'Bwd IAT Max', 'Idle Max'], 'Normal sample 1223': ['Bwd Pkt Len Max', 'SYN Flag Cnt', 'Tot Fwd Pkts', 'Tot Bwd Pkts', 'TotLen Fwd Pkts', 'TotLen Bwd Pkts', 'Fwd Pkt Len Min', 'Fwd Pkt Len Mean', 'Bwd Pkt Len Min', 'Bwd Pkt Len Mean'], 'Normal sample 1224': ['Bwd Pkt Len Max', 'Fwd IAT Tot', 'Bwd Pkt Len Std', 'Fwd IAT Std', 'Idle Min', 'Idle Mean', 'Subflow Fwd Byts', 'Idle Max', 'Pkt Len Var', 'Fwd Header Len'], 'Normal sample 1225': ['Tot Fwd Pkts', 'TotLen Fwd Pkts', 'Fwd Pkt Len Min', 'Bwd Pkt Len Max', 'Bwd Pkt Len Mean', 'Flow Pkts/s', 'Flow IAT Mean', 'Flow IAT Std', 'Flow IAT Min', 'Fwd IAT Tot'], 'Normal sample 1226': ['Idle Min', 'Idle Mean', 'Init Bwd Win Byts', 'Tot Bwd Pkts', 'Bwd Pkt Len Std', 'Active Mean', 'Bwd Header Len', 'Flow IAT Min', 'Fwd IAT Std', 'Active Max'], 'Normal sample 1227': ['Init Bwd Win Byts', 'Idle Mean', 'Idle Max', 'Bwd IAT Min', 'Fwd Header Len', 'Tot Bwd Pkts', 'TotLen Bwd Pkts', 'Fwd Pkt Len Max', 'Fwd Pkt Len Min', 'Fwd Pkt Len Std'], 'Normal sample 1228': ['SYN Flag Cnt', 'Bwd IAT Max', 'Bwd IAT Std', 'Bwd Pkt Len Max', 'Bwd Pkt Len Std', 'Tot Fwd Pkts', 'Tot Bwd Pkts', 'TotLen Fwd Pkts', 'TotLen Bwd Pkts', 'Fwd Pkt Len Min'], 'Normal sample 1229': ['Bwd IAT Tot', 'ACK Flag Cnt', 'Bwd IAT Max', 'Bwd IAT Std', 'Idle Max', 'Bwd IAT Mean', 'Flow IAT Mean', 'Idle Mean', 'Fwd Act Data Pkts', 'Pkt Len Min'], 'Normal sample 1230': ['SYN Flag Cnt', 'Bwd IAT Max', 'Bwd IAT Std', 'Bwd IAT Tot', 'Flow IAT Mean', 'Idle Max', 'PSH Flag Cnt', 'Bwd Pkt Len Min', 'Subflow Bwd Byts', 'Tot Fwd Pkts'], 'Normal sample 1231': ['Init Bwd Win Byts', 'Pkt Len Var', 'Fwd IAT Mean', 'Fwd IAT Tot', 'Idle Max', 'Flow Pkts/s', 'Bwd IAT Min', 'Bwd Pkt Len Std', 'Idle Mean', 'Idle Min'], 'Normal sample 1232': ['SYN Flag Cnt', 'Bwd Pkt Len Max', 'Bwd Pkt Len Std', 'Idle Max', 'URG Flag Cnt', 'Bwd IAT Std', 'Bwd PSH Flags', 'Active Std', 'Bwd Pkt Len Mean', 'Bwd Pkt Len Min'], 'Normal sample 1233': ['Flow Pkts/s', 'Pkt Len Std', 'Pkt Size Avg', 'Fwd Pkt Len Max', 'Pkt Len Min', 'Pkt Len Max', 'Pkt Len Mean', 'Idle Min', 'Fwd IAT Std', 'Fwd IAT Tot'], 'Normal sample 1234': ['Bwd IAT Std', 'Flow IAT Mean', 'Bwd IAT Tot', 'Flow IAT Std', 'Bwd IAT Mean', 'Init Bwd Win Byts', 'Bwd IAT Max', 'Fwd Pkt Len Mean', 'Bwd IAT Min', 'Flow IAT Min'], 'Normal sample 1235': ['Pkt Len Min', 'Pkt Len Max', 'Down/Up Ratio', 'Pkt Len Mean', 'PSH Flag Cnt', 'Pkt Size Avg', 'Pkt Len Std', 'Fwd Pkt Len Max', 'Fwd Pkt Len Std', 'Fwd Pkt Len Mean'], 'Normal sample 1236': ['SYN Flag Cnt', 'Bwd IAT Std', 'Bwd IAT Max', 'Flow IAT Mean', 'Bwd IAT Tot', 'Down/Up Ratio', 'Tot Fwd Pkts', 'Subflow Fwd Byts', 'PSH Flag Cnt', 'Flow IAT Min'], 'Normal sample 1237': ['Idle Min', 'Idle Mean', 'Bwd IAT Min', 'Bwd Pkt Len Mean', 'Bwd Header Len', 'Fwd Header Len', 'Bwd IAT Mean', 'Init Bwd Win Byts', 'Fwd IAT Std', 'Fwd Pkt Len Std'], 'Normal sample 1238': ['SYN Flag Cnt', 'Flow IAT Max', 'Bwd Pkt Len Std', 'Bwd Pkt Len Mean', 'Bwd Pkt Len Max', 'Fwd IAT Std', 'Bwd Seg Size Avg', 'Pkt Len Var', 'Flow IAT Std', 'Idle Min'], 'Normal sample 1239': ['Down/Up Ratio', 'Init Bwd Win Byts', 'Idle Max', 'Idle Min', 'Bwd Pkt Len Mean', 'Flow Duration', 'Idle Mean', 'Bwd IAT Mean', 'Tot Bwd Pkts', 'Bwd Pkt Len Max'], 'Normal sample 1240': ['Init Bwd Win Byts', 'Fwd Header Len', 'Subflow Fwd Pkts', 'Subflow Bwd Byts', 'Fwd Pkts/s', 'Idle Min', 'Idle Std', 'TotLen Bwd Pkts', 'Idle Max', 'Idle Mean'], 'Normal sample 1241': ['Active Mean', 'Init Bwd Win Byts', 'Bwd Pkt Len Max', 'Idle Min', 'Fwd Act Data Pkts', 'Active Min', 'Idle Max', 'Tot Bwd Pkts', 'Bwd IAT Tot', 'Fwd Pkt Len Std'], 'Normal sample 1242': ['Idle Mean', 'Idle Max', 'TotLen Fwd Pkts', 'Tot Bwd Pkts', 'Idle Min', 'Active Min', 'Subflow Fwd Pkts', 'Fwd Header Len', 'Active Std', 'Init Bwd Win Byts'], 'Normal sample 1243': ['SYN Flag Cnt', 'Bwd Pkt Len Max', 'Idle Std', 'Active Mean', 'Pkt Len Min', 'Subflow Fwd Byts', 'Down/Up Ratio', 'Bwd IAT Min', 'Fwd Pkt Len Min', 'Subflow Fwd Pkts'], 'Normal sample 1244': ['Bwd IAT Min', 'Init Bwd Win Byts', 'Idle Min', 'Pkt Len Var', 'Bwd Pkt Len Mean', 'Fwd IAT Std', 'Idle Mean', 'Tot Bwd Pkts', 'Fwd IAT Max', 'Active Std'], 'Normal sample 1245': ['SYN Flag Cnt', 'Bwd Pkt Len Max', 'Bwd IAT Std', 'TotLen Fwd Pkts', 'Flow IAT Min', 'Subflow Bwd Byts', 'Flow Byts/s', 'Tot Bwd Pkts', 'Fwd Pkt Len Min', 'Fwd Pkts/s'], 'Normal sample 1246': ['Idle Min', 'Idle Mean', 'Bwd Pkt Len Max', 'Idle Max', 'Active Min', 'Init Bwd Win Byts', 'Pkt Len Var', 'Bwd Pkt Len Std', 'Tot Bwd Pkts', 'Subflow Bwd Byts'], 'Normal sample 1247': ['Pkt Len Min', 'Down/Up Ratio', 'Pkt Len Std', 'Fwd Pkt Len Mean', 'Pkt Len Mean', 'Flow Pkts/s', 'Pkt Size Avg', 'Pkt Len Max', 'PSH Flag Cnt', 'Fwd Seg Size Avg'], 'Normal sample 1248': ['Flow IAT Min', 'Flow IAT Mean', 'ACK Flag Cnt', 'Pkt Size Avg', 'Pkt Len Std', 'Fwd Pkt Len Max', 'Fwd IAT Min', 'Pkt Len Mean', 'Fwd IAT Std', 'Tot Bwd Pkts'], 'Normal sample 1249': ['Tot Fwd Pkts', 'Bwd Seg Size Avg', 'Bwd IAT Mean', 'Bwd Pkt Len Max', 'Idle Min', 'Subflow Bwd Pkts', 'Fwd Pkt Len Std', 'Fwd Act Data Pkts', 'Init Bwd Win Byts', 'Bwd Header Len'], 'Normal sample 1250': ['Fwd IAT Mean', 'Bwd Pkt Len Max', 'Idle Min', 'TotLen Bwd Pkts', 'Init Bwd Win Byts', 'Fwd Pkts/s', 'Idle Max', 'Fwd Pkt Len Min', 'Fwd Act Data Pkts', 'Tot Bwd Pkts'], 'Normal sample 1251': ['Bwd Pkt Len Max', 'Bwd IAT Max', 'SYN Flag Cnt', 'Bwd IAT Tot', 'Fwd IAT Min', 'Bwd URG Flags', 'Flow Byts/s', 'Subflow Fwd Byts', 'Subflow Bwd Pkts', 'FIN Flag Cnt'], 'Normal sample 1252': ['Init Bwd Win Byts', 'TotLen Bwd Pkts', 'Fwd IAT Tot', 'Idle Max', 'Bwd Pkt Len Mean', 'Subflow Bwd Byts', 'Fwd Pkt Len Std', 'Pkt Len Var', 'Fwd Act Data Pkts', 'Fwd IAT Mean'], 'Normal sample 1253': ['Fwd Pkt Len Std', 'Init Bwd Win Byts', 'Idle Max', 'Bwd IAT Tot', 'Bwd Pkt Len Max', 'Fwd IAT Std', 'Idle Min', 'Flow IAT Max', 'TotLen Bwd Pkts', 'Fwd IAT Tot'], 'Normal sample 1254': ['Idle Mean', 'Init Bwd Win Byts', 'Idle Min', 'Subflow Fwd Byts', 'URG Flag Cnt', 'Bwd Pkt Len Std', 'Idle Max', 'Bwd Pkt Len Max', 'Flow Duration', 'Tot Fwd Pkts'], 'Normal sample 1255': ['Pkt Len Min', 'Down/Up Ratio', 'Pkt Len Mean', 'Pkt Len Max', 'Fwd Seg Size Avg', 'Flow Pkts/s', 'PSH Flag Cnt', 'Flow IAT Max', 'Bwd IAT Tot', 'Fwd Pkt Len Std'], 'Normal sample 1256': ['SYN Flag Cnt', 'Bwd Pkt Len Max', 'Bwd Pkt Len Std', 'Bwd Seg Size Avg', 'Bwd Pkt Len Mean', 'Down/Up Ratio', 'Bwd IAT Max', 'Bwd IAT Std', 'Pkt Len Var', 'Active Min'], 'Normal sample 1257': ['Bwd Pkt Len Std', 'Idle Max', 'Idle Mean', 'Fwd Pkts/s', 'Fwd Act Data Pkts', 'Fwd IAT Tot', 'Subflow Bwd Pkts', 'Bwd Header Len', 'Bwd Seg Size Avg', 'Flow IAT Max'], 'Normal sample 1258': ['SYN Flag Cnt', 'Bwd Pkt Len Max', 'Pkt Len Min', 'Subflow Fwd Byts', 'Bwd PSH Flags', 'Bwd Header Len', 'Flow Duration', 'Tot Fwd Pkts', 'TotLen Bwd Pkts', 'Fwd Pkt Len Min'], 'Normal sample 1259': ['Bwd PSH Flags', 'Pkt Len Min', 'Fwd IAT Max', 'Bwd Pkt Len Max', 'Idle Max', 'Fwd Act Data Pkts', 'Fwd IAT Tot', 'URG Flag Cnt', 'Tot Fwd Pkts', 'Tot Bwd Pkts'], 'Normal sample 1260': ['Init Bwd Win Byts', 'Bwd Pkt Len Std', 'Fwd IAT Tot', 'Bwd Pkt Len Max', 'Subflow Bwd Byts', 'Subflow Fwd Pkts', 'Idle Mean', 'Fwd IAT Max', 'Fwd Header Len', 'Bwd URG Flags'], 'Normal sample 1261': ['Bwd Pkt Len Max', 'Flow IAT Min', 'Idle Max', 'Bwd IAT Mean', 'Active Mean', 'Fwd Pkt Len Std', 'Subflow Fwd Pkts', 'Bwd Pkt Len Std', 'Init Bwd Win Byts', 'Idle Min'], 'Normal sample 1262': ['Bwd Seg Size Avg', 'Tot Fwd Pkts', 'TotLen Bwd Pkts', 'Idle Max', 'Active Std', 'Init Bwd Win Byts', 'Bwd Pkt Len Max', 'Fwd IAT Max', 'Fwd Header Len', 'Subflow Bwd Byts'], 'Normal sample 1263': ['SYN Flag Cnt', 'Bwd URG Flags', 'Fwd IAT Min', 'Active Min', 'Bwd IAT Max', 'Pkt Len Min', 'Fwd Pkt Len Min', 'Active Std', 'Flow IAT Min', 'Fwd Header Len'], 'Normal sample 1264': ['Init Bwd Win Byts', 'Idle Min', 'Idle Max', 'Bwd Pkt Len Mean', 'TotLen Fwd Pkts', 'Active Std', 'Flow Pkts/s', 'Bwd IAT Mean', 'Idle Mean', 'Bwd Seg Size Avg'], 'Normal sample 1265': ['Init Bwd Win Byts', 'Idle Mean', 'Bwd IAT Max', 'Fwd Pkt Len Std', 'Bwd Seg Size Avg', 'Active Std', 'Idle Std', 'Bwd IAT Mean', 'Fwd Pkts/s', 'Active Mean'], 'Normal sample 1266': ['Init Bwd Win Byts', 'Fwd IAT Std', 'Idle Min', 'Idle Mean', 'Idle Max', 'Idle Std', 'TotLen Fwd Pkts', 'Tot Bwd Pkts', 'Bwd Pkt Len Max', 'Flow Byts/s'], 'Normal sample 1267': ['Pkt Len Min', 'Down/Up Ratio', 'Flow Pkts/s', 'Fwd Seg Size Avg', 'Pkt Len Std', 'Pkt Len Mean', 'Fwd Pkt Len Min', 'Pkt Len Max', 'Fwd IAT Mean', 'Fwd Pkt Len Max'], 'Normal sample 1268': ['SYN Flag Cnt', 'Bwd Pkt Len Max', 'Flow Duration', 'Tot Bwd Pkts', 'TotLen Fwd Pkts', 'TotLen Bwd Pkts', 'Fwd Pkt Len Min', 'Fwd Pkt Len Mean', 'Bwd Pkt Len Min', 'Bwd Pkt Len Std'], 'Normal sample 1269': ['Init Bwd Win Byts', 'Down/Up Ratio', 'Bwd Pkt Len Max', 'Bwd Pkt Len Std', 'Idle Std', 'Bwd IAT Min', 'Idle Max', 'Flow IAT Std', 'Fwd Pkt Len Max', 'Bwd Pkt Len Mean'], 'Normal sample 1270': ['Bwd PSH Flags', 'Fwd IAT Min', 'Bwd IAT Std', 'Down/Up Ratio', 'Idle Max', 'ACK Flag Cnt', 'Flow IAT Mean', 'Fwd Act Data Pkts', 'Tot Bwd Pkts', 'Idle Mean'], 'Normal sample 1271': ['SYN Flag Cnt', 'Bwd IAT Max', 'Bwd IAT Std', 'Flow IAT Mean', 'Bwd IAT Tot', 'Pkt Len Var', 'Subflow Bwd Byts', 'Bwd URG Flags', 'Bwd Pkt Len Mean', 'Bwd Pkt Len Max'], 'Normal sample 1272': ['Fwd IAT Max', 'Fwd Pkt Len Min', 'Tot Fwd Pkts', 'Tot Bwd Pkts', 'TotLen Fwd Pkts', 'TotLen Bwd Pkts', 'Bwd Pkt Len Min', 'Bwd Pkt Len Mean', 'Bwd Pkt Len Std', 'Flow Pkts/s'], 'Normal sample 1273': ['ACK Flag Cnt', 'Bwd IAT Tot', 'Bwd IAT Std', 'Bwd IAT Max', 'Flow IAT Mean', 'Bwd Seg Size Avg', 'Flow IAT Std', 'Active Mean', 'Bwd IAT Mean', 'Bwd Pkt Len Mean'], 'Normal sample 1274': ['Init Bwd Win Byts', 'Idle Max', 'Pkt Len Var', 'Bwd IAT Max', 'Idle Mean', 'TotLen Bwd Pkts', 'Bwd IAT Mean', 'Bwd Pkt Len Max', 'Bwd Seg Size Avg', 'Idle Min'], 'Normal sample 1275': ['Idle Max', 'Init Bwd Win Byts', 'Active Min', 'Fwd Pkt Len Std', 'Pkt Len Var', 'Subflow Fwd Byts', 'Bwd Pkt Len Std', 'TotLen Fwd Pkts', 'Bwd IAT Min', 'Active Std'], 'Normal sample 1276': ['Idle Max', 'Fwd IAT Std', 'Init Bwd Win Byts', 'Bwd IAT Min', 'Subflow Fwd Pkts', 'Bwd IAT Max', 'Idle Min', 'Flow IAT Std', 'Bwd Seg Size Avg', 'Bwd Pkt Len Mean'], 'Normal sample 1277': ['SYN Flag Cnt', 'Bwd IAT Std', 'Idle Max', 'Bwd IAT Max', 'Idle Min', 'Flow Byts/s', 'Active Max', 'Fwd IAT Min', 'Idle Mean', 'Bwd Pkt Len Std'], 'Normal sample 1278': ['SYN Flag Cnt', 'Bwd Pkt Len Max', 'Bwd Pkt Len Std', 'Bwd Pkt Len Mean', 'Fwd IAT Mean', 'Idle Min', 'Bwd Seg Size Avg', 'Fwd IAT Min', 'Fwd Pkt Len Min', 'Bwd Pkt Len Min'], 'Normal sample 1279': ['Fwd IAT Max', 'Pkt Len Var', 'Idle Mean', 'Init Bwd Win Byts', 'Bwd Seg Size Avg', 'Bwd Pkt Len Max', 'TotLen Fwd Pkts', 'Bwd IAT Tot', 'Flow IAT Std', 'Subflow Bwd Pkts'], 'Normal sample 1280': ['Down/Up Ratio', 'Init Bwd Win Byts', 'Active Mean', 'Flow Duration', 'Bwd Pkt Len Std', 'Fwd Pkt Len Std', 'Fwd Pkt Len Max', 'Fwd IAT Tot', 'Active Std', 'Idle Min'], 'Normal sample 1281': ['Bwd Pkt Len Max', 'SYN Flag Cnt', 'Pkt Len Var', 'Bwd IAT Mean', 'FIN Flag Cnt', 'Bwd IAT Tot', 'Idle Min', 'Fwd IAT Mean', 'Tot Fwd Pkts', 'Tot Bwd Pkts'], 'Normal sample 1282': ['Bwd PSH Flags', 'Pkt Len Min', 'Bwd Header Len', 'Flow IAT Std', 'Bwd URG Flags', 'Fwd IAT Tot', 'Bwd Seg Size Avg', 'Flow Pkts/s', 'Idle Mean', 'Flow IAT Min'], 'Normal sample 1283': ['Init Bwd Win Byts', 'Idle Min', 'Flow Duration', 'Tot Fwd Pkts', 'TotLen Fwd Pkts', 'TotLen Bwd Pkts', 'Fwd Pkt Len Min', 'Fwd Pkt Len Std', 'Bwd Pkt Len Max', 'Bwd Pkt Len Mean'], 'Normal sample 1284': ['Init Bwd Win Byts', 'Down/Up Ratio', 'Bwd Pkt Len Max', 'Flow IAT Std', 'Idle Mean', 'Bwd Pkt Len Std', 'Flow IAT Max', 'Bwd Pkt Len Mean', 'Fwd Pkt Len Max', 'Fwd Pkt Len Min'], 'Normal sample 1285': ['Init Bwd Win Byts', 'Flow IAT Max', 'Idle Max', 'Idle Min', 'Bwd IAT Tot', 'Subflow Fwd Byts', 'Pkt Len Var', 'Fwd IAT Min', 'Bwd Header Len', 'Bwd IAT Mean'], 'Normal sample 1286': ['Init Bwd Win Byts', 'Flow IAT Min', 'Bwd Seg Size Avg', 'Fwd IAT Tot', 'Idle Min', 'Fwd Header Len', 'Active Max', 'Flow Duration', 'Tot Fwd Pkts', 'TotLen Fwd Pkts'], 'Normal sample 1287': ['Fwd Pkts/s', 'Fwd IAT Std', 'Idle Max', 'Fwd IAT Min', 'Idle Min', 'Flow IAT Mean', 'Idle Mean', 'Active Std', 'Tot Bwd Pkts', 'Subflow Fwd Byts'], 'Normal sample 1288': ['Fwd IAT Tot', 'Subflow Bwd Pkts', 'Idle Mean', 'Bwd IAT Tot', 'Idle Max', 'Subflow Fwd Pkts', 'Init Bwd Win Byts', 'Fwd Pkts/s', 'TotLen Bwd Pkts', 'Bwd IAT Max'], 'Normal sample 1289': ['ACK Flag Cnt', 'Bwd IAT Std', 'Bwd IAT Max', 'Bwd IAT Tot', 'Bwd PSH Flags', 'Down/Up Ratio', 'Flow IAT Mean', 'Bwd Pkt Len Mean', 'Bwd Pkt Len Min', 'Subflow Bwd Pkts'], 'Normal sample 1290': ['Bwd PSH Flags', 'Pkt Len Min', 'Pkt Len Max', 'Flow IAT Mean', 'Pkt Len Mean', 'Subflow Fwd Byts', 'Flow Pkts/s', 'Flow IAT Min', 'Fwd Pkt Len Mean', 'URG Flag Cnt'], 'Normal sample 1291': ['Init Bwd Win Byts', 'Idle Mean', 'Bwd Header Len', 'Flow Byts/s', 'Tot Bwd Pkts', 'Bwd Pkt Len Std', 'Bwd Pkt Len Max', 'Bwd IAT Tot', 'Active Std', 'Fwd IAT Tot'], 'Normal sample 1292': ['Init Bwd Win Byts', 'Idle Min', 'Idle Mean', 'Fwd IAT Max', 'Subflow Bwd Pkts', 'Bwd Pkt Len Max', 'Fwd IAT Min', 'Bwd Pkt Len Mean', 'Fwd IAT Tot', 'Fwd Pkts/s'], 'Normal sample 1293': ['Idle Max', 'Idle Mean', 'Fwd Act Data Pkts', 'Flow IAT Std', 'Init Bwd Win Byts', 'Subflow Bwd Pkts', 'Fwd IAT Std', 'Flow IAT Min', 'Bwd Pkt Len Std', 'Fwd IAT Tot'], 'Normal sample 1294': ['Bwd IAT Mean', 'Bwd IAT Max', 'Idle Min', 'Flow Duration', 'Fwd Pkt Len Max', 'Bwd Pkt Len Mean', 'Init Bwd Win Byts', 'Fwd Pkts/s', 'Bwd Pkt Len Std', 'Subflow Bwd Pkts'], 'Normal sample 1295': ['SYN Flag Cnt', 'Bwd Pkt Len Max', 'Bwd Pkt Len Std', 'Bwd IAT Std', 'Bwd IAT Max', 'Bwd Pkt Len Mean', 'Bwd Seg Size Avg', 'Down/Up Ratio', 'Flow IAT Min', 'Bwd Pkt Len Min'], 'Normal sample 1296': ['Bwd Seg Size Avg', 'Init Bwd Win Byts', 'Active Min', 'TotLen Fwd Pkts', 'Bwd IAT Mean', 'Bwd Header Len', 'Idle Max', 'Fwd Act Data Pkts', 'Idle Mean', 'Flow IAT Min'], 'Normal sample 1297': ['Init Bwd Win Byts', 'Fwd IAT Min', 'Bwd Seg Size Avg', 'Bwd IAT Max', 'Tot Bwd Pkts', 'Idle Max', 'Fwd Pkt Len Std', 'Fwd Pkts/s', 'Flow IAT Mean', 'Idle Min'], 'Normal sample 1298': ['SYN Flag Cnt', 'Bwd IAT Max', 'Bwd IAT Tot', 'Bwd IAT Std', 'Fwd Header Len', 'Down/Up Ratio', 'Idle Std', 'Fwd Act Data Pkts', 'Flow IAT Max', 'Flow IAT Mean'], 'Normal sample 1299': ['Pkt Len Min', 'Pkt Size Avg', 'Pkt Len Max', 'Pkt Len Std', 'Fwd Seg Size Avg', 'Pkt Len Mean', 'Fwd Pkt Len Mean', 'Flow Pkts/s', 'Fwd Pkt Len Std', 'Fwd Pkt Len Max'], 'Normal sample 1300': ['Init Bwd Win Byts', 'Bwd Pkt Len Mean', 'Tot Fwd Pkts', 'Fwd Pkt Len Min', 'Idle Mean', 'Active Mean', 'Fwd Pkt Len Std', 'Bwd Seg Size Avg', 'Fwd Pkts/s', 'PSH Flag Cnt'], 'Normal sample 1301': ['Init Bwd Win Byts', 'Fwd IAT Min', 'Active Max', 'Idle Max', 'Bwd IAT Mean', 'Bwd Pkt Len Max', 'Idle Mean', 'Bwd Header Len', 'Bwd Pkt Len Mean', 'Fwd IAT Max'], 'Normal sample 1302': ['Fwd Pkts/s', 'Fwd IAT Min', 'Idle Max', 'Bwd Pkt Len Mean', 'Idle Mean', 'Active Max', 'Idle Min', 'Init Bwd Win Byts', 'Active Std', 'Fwd IAT Tot'], 'Normal sample 1303': ['Init Bwd Win Byts', 'Bwd Pkt Len Max', 'Active Min', 'Idle Min', 'Bwd Pkt Len Std', 'Idle Mean', 'Subflow Fwd Byts', 'Fwd IAT Tot', 'Idle Max', 'Fwd Pkts/s'], 'Normal sample 1304': ['Idle Min', 'Init Bwd Win Byts', 'Flow IAT Min', 'Active Mean', 'Idle Max', 'Flow IAT Std', 'Idle Mean', 'Fwd Pkt Len Std', 'Flow IAT Max', 'Fwd Pkt Len Min'], 'Normal sample 1305': ['Bwd Pkt Len Std', 'Down/Up Ratio', 'Bwd Pkt Len Mean', 'Idle Mean', 'Init Bwd Win Byts', 'Active Min', 'Bwd Seg Size Avg', 'Bwd Pkt Len Max', 'Flow Duration', 'Idle Max'], 'Normal sample 1306': ['Init Bwd Win Byts', 'Idle Mean', 'Pkt Len Var', 'Subflow Fwd Byts', 'Idle Min', 'Fwd IAT Std', 'Fwd Pkt Len Min', 'Bwd Pkt Len Mean', 'Subflow Bwd Byts', 'Tot Fwd Pkts'], 'Normal sample 1307': ['Idle Max', 'Idle Min', 'Bwd Pkt Len Mean', 'Pkt Len Var', 'Init Bwd Win Byts', 'Bwd URG Flags', 'Tot Fwd Pkts', 'Tot Bwd Pkts', 'TotLen Fwd Pkts', 'Fwd Pkt Len Max'], 'Normal sample 1308': ['Flow Duration', 'Tot Bwd Pkts', 'TotLen Fwd Pkts', 'TotLen Bwd Pkts', 'Fwd Pkt Len Min', 'Bwd Pkt Len Max', 'Bwd Pkt Len Min', 'Bwd Pkt Len Mean', 'Flow Pkts/s', 'Flow IAT Std'], 'Normal sample 1309': ['SYN Flag Cnt', 'Bwd Pkt Len Max', 'Pkt Len Min', 'Flow IAT Std', 'Bwd IAT Max', 'PSH Flag Cnt', 'Fwd IAT Min', 'Fwd Pkts/s', 'Bwd Pkt Len Std', 'Active Mean'], 'Normal sample 1310': ['Pkt Len Min', 'Pkt Len Max', 'Down/Up Ratio', 'Flow Pkts/s', 'Fwd Pkt Len Max', 'Fwd Pkt Len Mean', 'PSH Flag Cnt', 'Pkt Len Std', 'Pkt Len Mean', 'Fwd Pkt Len Std'], 'Normal sample 1311': ['Bwd PSH Flags', 'Pkt Len Min', 'Flow Byts/s', 'Pkt Len Var', 'Bwd Seg Size Avg', 'Bwd IAT Tot', 'Fwd IAT Max', 'Bwd Pkt Len Mean', 'Bwd Pkt Len Max', 'Fwd IAT Min'], 'Normal sample 1312': ['SYN Flag Cnt', 'ACK Flag Cnt', 'Bwd Pkt Len Std', 'Flow IAT Min', 'Bwd Pkt Len Max', 'Bwd Pkt Len Mean', 'Fwd Pkt Len Mean', 'Active Std', 'Flow Byts/s', 'Fwd Header Len'], 'Normal sample 1313': ['Bwd Pkt Len Std', 'Init Bwd Win Byts', 'Subflow Fwd Byts', 'Fwd Pkt Len Std', 'Flow Pkts/s', 'Fwd IAT Min', 'URG Flag Cnt', 'Bwd IAT Mean', 'Bwd URG Flags', 'Subflow Fwd Pkts'], 'Normal sample 1314': ['Init Bwd Win Byts', 'Fwd Pkt Len Min', 'Bwd IAT Tot', 'Idle Mean', 'Idle Max', 'Active Min', 'TotLen Bwd Pkts', 'Bwd Pkt Len Max', 'Flow IAT Min', 'Active Mean'], 'Normal sample 1315': ['FIN Flag Cnt', 'Down/Up Ratio', 'Flow Pkts/s', 'Pkt Len Min', 'Pkt Len Max', 'Flow IAT Std', 'Pkt Size Avg', 'Subflow Fwd Pkts', 'Fwd IAT Min', 'Flow Byts/s'], 'Normal sample 1316': ['SYN Flag Cnt', 'Bwd IAT Max', 'Bwd IAT Std', 'Bwd IAT Tot', 'Bwd IAT Mean', 'Flow IAT Mean', 'TotLen Fwd Pkts', 'Idle Std', 'Flow IAT Max', 'Active Mean'], 'Normal sample 1317': ['SYN Flag Cnt', 'Bwd Pkt Len Max', 'PSH Flag Cnt', 'Idle Min', 'Bwd Pkt Len Std', 'Flow Pkts/s', 'Idle Max', 'Flow IAT Mean', 'Fwd Pkt Len Min', 'Active Min'], 'Normal sample 1318': ['Idle Min', 'Idle Mean', 'Init Bwd Win Byts', 'Fwd Header Len', 'Fwd Pkts/s', 'Idle Max', 'Subflow Bwd Byts', 'Bwd Seg Size Avg', 'Flow IAT Std', 'Bwd IAT Tot'], 'Normal sample 1319': ['SYN Flag Cnt', 'Bwd IAT Max', 'Bwd IAT Std', 'Idle Std', 'Subflow Bwd Byts', 'Active Std', 'Active Mean', 'Flow IAT Min', 'Tot Fwd Pkts', 'Pkt Len Min'], 'Normal sample 1320': ['SYN Flag Cnt', 'Bwd IAT Max', 'Bwd IAT Std', 'Bwd IAT Tot', 'Idle Max', 'Subflow Fwd Pkts', 'Tot Fwd Pkts', 'Tot Bwd Pkts', 'TotLen Bwd Pkts', 'Fwd Pkt Len Min'], 'Normal sample 1321': ['SYN Flag Cnt', 'Bwd Pkt Len Max', 'Bwd Pkt Len Mean', 'Bwd Seg Size Avg', 'Bwd Pkt Len Std', 'Flow IAT Std', 'Subflow Fwd Byts', 'Pkt Len Min', 'Active Min', 'Flow Duration'], 'Normal sample 1322': ['Bwd IAT Tot', 'ACK Flag Cnt', 'Bwd PSH Flags', 'Active Max', 'Bwd IAT Std', 'Bwd IAT Max', 'Idle Mean', 'Pkt Len Min', 'Bwd Pkt Len Max', 'Flow IAT Min'], 'Normal sample 1323': ['Flow IAT Min', 'Idle Mean', 'Fwd Pkt Len Min', 'Idle Max', 'Init Bwd Win Byts', 'Idle Min', 'Bwd Pkt Len Mean', 'Subflow Fwd Pkts', 'Bwd Seg Size Avg', 'Fwd Pkt Len Std'], 'Normal sample 1324': ['Init Bwd Win Byts', 'TotLen Bwd Pkts', 'Active Mean', 'Flow IAT Min', 'Fwd Pkts/s', 'Bwd Header Len', 'Fwd IAT Tot', 'Bwd IAT Mean', 'Idle Mean', 'Tot Fwd Pkts'], 'Normal sample 1325': ['Init Bwd Win Byts', 'Pkt Len Var', 'Tot Fwd Pkts', 'Tot Bwd Pkts', 'TotLen Bwd Pkts', 'Fwd Pkt Len Min', 'Fwd Pkt Len Std', 'Bwd Pkt Len Mean', 'Bwd Pkt Len Std', 'Flow Byts/s'], 'Normal sample 1326': ['Init Bwd Win Byts', 'Bwd Seg Size Avg', 'Bwd Pkt Len Std', 'Idle Min', 'Active Max', 'Fwd IAT Mean', 'Tot Fwd Pkts', 'Idle Mean', 'Active Min', 'Flow IAT Min'], 'Normal sample 1327': ['Init Bwd Win Byts', 'Active Min', 'Fwd IAT Mean', 'Idle Max', 'Idle Min', 'Subflow Bwd Pkts', 'Fwd Act Data Pkts', 'Pkt Len Var', 'Fwd Pkts/s', 'Fwd Pkt Len Min'], 'Normal sample 1328': ['ACK Flag Cnt', 'Bwd IAT Tot', 'Bwd IAT Max', 'Bwd IAT Std', 'Idle Mean', 'Bwd IAT Min', 'TotLen Fwd Pkts', 'Bwd IAT Mean', 'Idle Std', 'Flow IAT Min'], 'Normal sample 1329': ['Idle Mean', 'Bwd Seg Size Avg', 'Bwd Pkt Len Std', 'Bwd IAT Mean', 'Active Max', 'Flow IAT Std', 'Idle Max', 'TotLen Bwd Pkts', 'Init Bwd Win Byts', 'Active Min'], 'Normal sample 1330': ['Bwd Pkts/s', 'Fwd Pkts/s', 'Pkt Len Min', 'Subflow Bwd Byts', 'FIN Flag Cnt', 'Fwd Pkt Len Max', 'Bwd Pkt Len Min', 'Subflow Fwd Pkts', 'Pkt Len Max', 'Active Max'], 'Normal sample 1331': ['Active Std', 'Fwd IAT Std', 'Flow Duration', 'Tot Bwd Pkts', 'TotLen Bwd Pkts', 'Fwd Pkt Len Min', 'Bwd Pkt Len Max', 'Bwd Pkt Len Min', 'Flow Pkts/s', 'Flow IAT Min'], 'Normal sample 1332': ['SYN Flag Cnt', 'Bwd IAT Std', 'Bwd IAT Max', 'Idle Mean', 'Bwd IAT Tot', 'Idle Max', 'Bwd Pkt Len Min', 'Bwd URG Flags', 'Idle Min', 'Bwd IAT Mean'], 'Normal sample 1333': ['SYN Flag Cnt', 'Bwd IAT Max', 'Bwd Pkt Len Max', 'Bwd IAT Tot', 'Bwd Pkt Len Std', 'PSH Flag Cnt', 'Bwd IAT Std', 'Flow IAT Mean', 'Fwd Act Data Pkts', 'Fwd Pkts/s'], 'Normal sample 1334': ['SYN Flag Cnt', 'Bwd Pkt Len Max', 'Bwd Pkt Len Std', 'Idle Mean', 'Bwd Pkt Len Mean', 'Down/Up Ratio', 'Pkt Len Var', 'Bwd IAT Max', 'Idle Min', 'Subflow Bwd Byts'], 'Normal sample 1335': ['Idle Max', 'Init Bwd Win Byts', 'Tot Bwd Pkts', 'Tot Fwd Pkts', 'Idle Mean', 'Subflow Bwd Pkts', 'Bwd Pkt Len Mean', 'Flow IAT Std', 'Fwd Header Len', 'Idle Min'], 'Normal sample 1336': ['Pkt Len Min', 'Down/Up Ratio', 'Pkt Len Mean', 'Pkt Len Max', 'Flow Pkts/s', 'Bwd Pkt Len Min', 'Pkt Len Std', 'Fwd IAT Max', 'Fwd Pkt Len Mean', 'Pkt Size Avg'], 'Normal sample 1337': ['Init Bwd Win Byts', 'Fwd IAT Tot', 'Fwd Pkts/s', 'TotLen Fwd Pkts', 'Bwd Pkt Len Std', 'Bwd IAT Min', 'TotLen Bwd Pkts', 'Subflow Fwd Pkts', 'Idle Mean', 'Idle Min'], 'Normal sample 1338': ['Active Std', 'Bwd Pkt Len Max', 'Init Bwd Win Byts', 'Fwd Pkts/s', 'Idle Max', 'Bwd Header Len', 'Idle Mean', 'Flow Byts/s', 'Pkt Len Var', 'Subflow Bwd Byts'], 'Normal sample 1339': ['Bwd PSH Flags', 'Bwd Pkt Len Mean', 'URG Flag Cnt', 'Bwd Pkt Len Min', 'Bwd Seg Size Avg', 'Pkt Len Min', 'Flow IAT Min', 'Fwd IAT Min', 'Down/Up Ratio', 'Fwd Pkt Len Min'], 'Normal sample 1340': ['Init Bwd Win Byts', 'Idle Min', 'Fwd IAT Std', 'Subflow Bwd Pkts', 'Fwd Header Len', 'Idle Max', 'Bwd Pkt Len Max', 'Flow IAT Min', 'Flow Byts/s', 'Active Mean'], 'Normal sample 1341': ['FIN Flag Cnt', 'Down/Up Ratio', 'Pkt Len Min', 'Flow Pkts/s', 'Pkt Size Avg', 'Tot Bwd Pkts', 'Fwd Pkt Len Min', 'Fwd IAT Min', 'Idle Mean', 'Bwd Pkt Len Min'], 'Normal sample 1342': ['SYN Flag Cnt', 'Idle Max', 'Bwd IAT Std', 'Bwd IAT Max', 'Idle Mean', 'Bwd Pkt Len Max', 'Bwd IAT Mean', 'Bwd Pkt Len Min', 'Bwd IAT Tot', 'TotLen Bwd Pkts'], 'Normal sample 1343': ['FIN Flag Cnt', 'Flow Pkts/s', 'Down/Up Ratio', 'Pkt Len Min', 'Pkt Len Mean', 'Bwd Pkts/s', 'Pkt Size Avg', 'Bwd Pkt Len Min', 'Bwd Pkt Len Max', 'Bwd Pkt Len Mean'], 'Normal sample 1344': ['Flow Duration', 'Tot Bwd Pkts', 'TotLen Bwd Pkts', 'Fwd Pkt Len Min', 'Bwd Pkt Len Max', 'Bwd Pkt Len Mean', 'Flow Pkts/s', 'Flow IAT Mean', 'Flow IAT Std', 'Flow IAT Min'], 'Normal sample 1345': ['Init Bwd Win Byts', 'Fwd IAT Mean', 'Idle Max', 'Idle Mean', 'Bwd Pkt Len Std', 'Bwd Pkt Len Max', 'Fwd Pkts/s', 'Tot Bwd Pkts', 'Tot Fwd Pkts', 'Bwd URG Flags'], 'Normal sample 1346': ['Init Bwd Win Byts', 'Idle Mean', 'Active Min', 'Subflow Fwd Pkts', 'Bwd Pkt Len Std', 'Bwd Pkt Len Max', 'Pkt Len Var', 'Subflow Bwd Byts', 'Subflow Bwd Pkts', 'TotLen Bwd Pkts'], 'Normal sample 1347': ['SYN Flag Cnt', 'Bwd IAT Std', 'Bwd Pkt Len Max', 'Bwd IAT Tot', 'Bwd Pkt Len Min', 'Bwd Pkt Len Mean', 'Bwd IAT Max', 'Bwd Pkt Len Std', 'Active Mean', 'Bwd Seg Size Avg'], 'Normal sample 1348': ['SYN Flag Cnt', 'Bwd IAT Max', 'Bwd IAT Std', 'Bwd IAT Tot', 'Idle Std', 'Bwd IAT Min', 'Pkt Len Min', 'Fwd Pkt Len Min', 'Active Max', 'Flow IAT Min'], 'Normal sample 1349': ['Bwd PSH Flags', 'Bwd Pkt Len Std', 'Fwd IAT Tot', 'Pkt Len Var', 'Flow Duration', 'Down/Up Ratio', 'Bwd Pkt Len Mean', 'Tot Bwd Pkts', 'Fwd Pkts/s', 'Bwd URG Flags'], 'Normal sample 1350': ['Init Bwd Win Byts', 'Fwd IAT Max', 'Bwd Header Len', 'Idle Min', 'Flow Duration', 'Tot Fwd Pkts', 'Fwd Pkt Len Std', 'Tot Bwd Pkts', 'Flow Pkts/s', 'Bwd IAT Mean'], 'Normal sample 1351': ['Init Bwd Win Byts', 'Bwd Pkt Len Std', 'Idle Max', 'Fwd Header Len', 'Bwd Pkt Len Max', 'Flow IAT Max', 'Active Std', 'Idle Mean', 'Subflow Fwd Byts', 'Tot Fwd Pkts'], 'Normal sample 1352': ['Idle Min', 'Init Bwd Win Byts', 'Fwd Header Len', 'Fwd Pkt Len Min', 'Tot Bwd Pkts', 'Tot Fwd Pkts', 'Idle Max', 'Bwd URG Flags', 'Bwd Pkt Len Max', 'TotLen Fwd Pkts'], 'Normal sample 1353': ['Init Bwd Win Byts', 'Fwd IAT Min', 'Subflow Bwd Pkts', 'Bwd Seg Size Avg', 'Flow Duration', 'Tot Fwd Pkts', 'Tot Bwd Pkts', 'TotLen Fwd Pkts', 'TotLen Bwd Pkts', 'Fwd Pkt Len Std'], 'Normal sample 1354': ['ACK Flag Cnt', 'Bwd IAT Std', 'Bwd IAT Max', 'Bwd IAT Tot', 'Flow IAT Max', 'Bwd IAT Mean', 'Bwd PSH Flags', 'Flow IAT Mean', 'Active Max', 'Idle Mean'], 'Normal sample 1355': ['ACK Flag Cnt', 'Bwd IAT Max', 'Bwd IAT Tot', 'Flow IAT Max', 'Bwd IAT Std', 'Idle Max', 'Bwd PSH Flags', 'Idle Mean', 'Flow IAT Mean', 'Fwd IAT Min'], 'Normal sample 1356': ['Bwd IAT Tot', 'ACK Flag Cnt', 'Bwd PSH Flags', 'Idle Std', 'Bwd IAT Std', 'Idle Max', 'Bwd IAT Max', 'Fwd Pkt Len Max', 'Active Max', 'Fwd Pkts/s'], 'Normal sample 1357': ['Init Bwd Win Byts', 'Bwd Pkt Len Max', 'Bwd Pkt Len Mean', 'Idle Min', 'Active Std', 'TotLen Bwd Pkts', 'Fwd Pkt Len Std', 'Subflow Bwd Byts', 'Idle Max', 'Subflow Fwd Pkts'], 'Normal sample 1358': ['Pkt Len Min', 'Down/Up Ratio', 'Pkt Len Max', 'Pkt Len Std', 'Pkt Size Avg', 'Fwd Pkt Len Max', 'Fwd Seg Size Avg', 'Flow Pkts/s', 'Pkt Len Mean', 'Bwd Seg Size Avg'], 'Normal sample 1359': ['Active Mean', 'Fwd IAT Std', 'Bwd IAT Mean', 'Bwd Pkt Len Mean', 'Idle Mean', 'Bwd Seg Size Avg', 'Init Bwd Win Byts', 'Fwd IAT Tot', 'Flow IAT Std', 'Fwd Header Len'], 'Normal sample 1360': ['SYN Flag Cnt', 'Bwd IAT Max', 'Bwd IAT Std', 'Bwd IAT Tot', 'Pkt Len Min', 'Bwd Header Len', 'Subflow Fwd Byts', 'Subflow Bwd Pkts', 'Bwd IAT Mean', 'Subflow Bwd Byts'], 'Normal sample 1361': ['Bwd Pkt Len Std', 'Fwd IAT Min', 'Bwd Header Len', 'Init Bwd Win Byts', 'Idle Mean', 'Bwd Pkt Len Mean', 'Idle Max', 'Subflow Bwd Pkts', 'Fwd Pkt Len Min', 'Subflow Fwd Byts'], 'Normal sample 1362': ['Init Bwd Win Byts', 'Tot Bwd Pkts', 'Active Mean', 'Fwd IAT Min', 'Active Std', 'Bwd Pkt Len Max', 'Bwd Pkt Len Min', 'Bwd Pkt Len Mean', 'Flow IAT Mean', 'Fwd IAT Std'], 'Normal sample 1363': ['Bwd IAT Tot', 'Bwd PSH Flags', 'ACK Flag Cnt', 'Bwd IAT Std', 'Bwd IAT Max', 'Idle Max', 'Bwd Pkt Len Max', 'Active Max', 'Fwd Pkt Len Min', 'TotLen Fwd Pkts'], 'Normal sample 1364': ['Idle Mean', 'Bwd Pkt Len Std', 'TotLen Fwd Pkts', 'Flow Duration', 'Init Bwd Win Byts', 'Idle Max', 'Bwd Pkt Len Max', 'Pkt Len Var', 'Fwd Pkt Len Std', 'Fwd Act Data Pkts'], 'Normal sample 1365': ['Init Bwd Win Byts', 'TotLen Fwd Pkts', 'Fwd IAT Mean', 'Idle Min', 'Fwd IAT Std', 'Flow IAT Max', 'Bwd Pkt Len Max', 'Idle Mean', 'Idle Std', 'Idle Max'], 'Normal sample 1366': ['Bwd Pkt Len Mean', 'Flow IAT Max', 'Idle Min', 'Bwd Seg Size Avg', 'Init Bwd Win Byts', 'Fwd IAT Max', 'Bwd IAT Tot', 'Subflow Bwd Byts', 'Fwd Pkts/s', 'Subflow Fwd Byts'], 'Normal sample 1367': ['Subflow Bwd Pkts', 'Fwd Act Data Pkts', 'Idle Max', 'Subflow Fwd Byts', 'Fwd IAT Std', 'Flow IAT Min', 'Fwd Pkt Len Max', 'Fwd Pkt Len Std', 'Bwd Pkt Len Max', 'Bwd Pkt Len Std'], 'Normal sample 1368': ['Pkt Len Min', 'Down/Up Ratio', 'Pkt Len Max', 'Pkt Len Std', 'Flow Pkts/s', 'Fwd Seg Size Avg', 'Pkt Len Mean', 'Fwd Pkt Len Max', 'Fwd IAT Tot', 'Fwd IAT Std'], 'Normal sample 1369': ['Init Bwd Win Byts', 'Idle Mean', 'Idle Max', 'Active Mean', 'Bwd Seg Size Avg', 'Subflow Fwd Pkts', 'Active Min', 'TotLen Bwd Pkts', 'Active Max', 'Flow IAT Mean'], 'Normal sample 1370': ['Bwd PSH Flags', 'Bwd Pkt Len Min', 'Bwd Header Len', 'Bwd Pkt Len Mean', 'URG Flag Cnt', 'TotLen Fwd Pkts', 'Pkt Len Var', 'Bwd Seg Size Avg', 'Down/Up Ratio', 'Bwd IAT Tot'], 'Normal sample 1371': ['SYN Flag Cnt', 'Bwd Pkt Len Max', 'Bwd PSH Flags', 'Subflow Fwd Pkts', 'Flow IAT Mean', 'Tot Fwd Pkts', 'Tot Bwd Pkts', 'TotLen Fwd Pkts', 'Fwd Pkt Len Min', 'Fwd Pkt Len Mean'], 'Normal sample 1372': ['SYN Flag Cnt', 'Bwd Pkt Len Max', 'Bwd Pkt Len Mean', 'Bwd Seg Size Avg', 'Tot Bwd Pkts', 'Bwd Pkt Len Std', 'Bwd Header Len', 'Idle Min', 'Bwd IAT Tot', 'Pkt Len Var'], 'Normal sample 1373': ['Bwd IAT Tot', 'ACK Flag Cnt', 'Bwd PSH Flags', 'Bwd IAT Std', 'Bwd IAT Max', 'Idle Mean', 'Idle Min', 'Flow IAT Mean', 'Idle Std', 'Bwd Pkt Len Min'], 'Normal sample 1374': ['Idle Max', 'Subflow Fwd Byts', 'Fwd IAT Std', 'Flow IAT Min', 'Bwd Header Len', 'Idle Mean', 'Flow IAT Std', 'Fwd IAT Min', 'Bwd Pkt Len Mean', 'Init Bwd Win Byts'], 'Normal sample 1375': ['Fwd IAT Std', 'Fwd Act Data Pkts', 'TotLen Fwd Pkts', 'Subflow Fwd Byts', 'Bwd Pkt Len Mean', 'Flow IAT Min', 'Flow IAT Std', 'Subflow Bwd Byts', 'Active Std', 'Init Bwd Win Byts'], 'Normal sample 1376': ['TotLen Bwd Pkts', 'Fwd IAT Std', 'Pkt Len Var', 'Idle Min', 'Init Bwd Win Byts', 'Idle Max', 'Subflow Bwd Byts', 'Idle Std', 'Active Std', 'Subflow Fwd Byts'], 'Normal sample 1377': ['SYN Flag Cnt', 'Bwd Pkt Len Max', 'Bwd IAT Max', 'Bwd Pkt Len Std', 'Active Mean', 'Bwd IAT Tot', 'Pkt Len Min', 'PSH Flag Cnt', 'Subflow Bwd Byts', 'Fwd Act Data Pkts'], 'Normal sample 1378': ['Bwd Pkt Len Max', 'SYN Flag Cnt', 'Flow IAT Mean', 'TotLen Fwd Pkts', 'Active Max', 'Tot Fwd Pkts', 'Fwd IAT Mean', 'Fwd Pkts/s', 'Bwd PSH Flags', 'Bwd URG Flags'], 'Normal sample 1379': ['Flow Pkts/s', 'Bwd Pkts/s', 'Pkt Len Min', 'Down/Up Ratio', 'Init Bwd Win Byts', 'Bwd Pkt Len Min', 'Pkt Len Std', 'Idle Min', 'PSH Flag Cnt', 'Pkt Len Mean'], 'Normal sample 1380': ['Bwd IAT Tot', 'ACK Flag Cnt', 'Bwd IAT Max', 'Idle Mean', 'Bwd IAT Std', 'Bwd IAT Mean', 'Flow IAT Mean', 'Bwd PSH Flags', 'Idle Max', 'Subflow Bwd Pkts'], 'Normal sample 1381': ['Idle Max', 'Active Max', 'Tot Bwd Pkts', 'Fwd Act Data Pkts', 'Fwd IAT Mean', 'Idle Mean', 'Fwd IAT Min', 'Init Bwd Win Byts', 'Idle Std', 'Idle Min'], 'Normal sample 1382': ['SYN Flag Cnt', 'Bwd Pkt Len Max', 'Active Std', 'Pkt Len Min', 'FIN Flag Cnt', 'Pkt Len Var', 'Idle Min', 'TotLen Fwd Pkts', 'Flow IAT Std', 'Subflow Bwd Byts'], 'Normal sample 1383': ['Init Bwd Win Byts', 'Fwd Pkt Len Min', 'Active Mean', 'Flow IAT Std', 'Active Max', 'Fwd Header Len', 'Subflow Bwd Byts', 'Fwd IAT Max', 'TotLen Fwd Pkts', 'Flow Byts/s'], 'Normal sample 1384': ['Init Bwd Win Byts', 'Bwd Pkt Len Std', 'Flow Duration', 'Idle Max', 'Subflow Fwd Pkts', 'Flow IAT Std', 'Idle Min', 'Flow IAT Mean', 'Active Min', 'Bwd Header Len'], 'Normal sample 1385': ['Idle Min', 'Init Bwd Win Byts', 'Idle Mean', 'Active Max', 'Flow IAT Min', 'Flow Duration', 'TotLen Bwd Pkts', 'Fwd Pkt Len Mean', 'Fwd Pkt Len Std', 'Bwd Pkt Len Max'], 'Normal sample 1386': ['Subflow Fwd Byts', 'Bwd Seg Size Avg', 'Tot Fwd Pkts', 'Tot Bwd Pkts', 'Fwd Pkt Len Std', 'Bwd Pkt Len Mean', 'Bwd Pkt Len Std', 'Flow IAT Mean', 'Flow IAT Std', 'Flow IAT Max'], 'Normal sample 1387': ['Flow IAT Min', 'Fwd IAT Min', 'Init Bwd Win Byts', 'Down/Up Ratio', 'Subflow Bwd Byts', 'Pkt Len Max', 'Fwd Pkt Len Min', 'Pkt Size Avg', 'Idle Max', 'Tot Bwd Pkts'], 'Normal sample 1388': ['Bwd PSH Flags', 'Bwd IAT Std', 'Idle Mean', 'Fwd Pkt Len Min', 'Active Std', 'Pkt Len Var', 'Fwd IAT Min', 'Idle Max', 'Fwd Seg Size Avg', 'Subflow Bwd Pkts'], 'Normal sample 1389': ['Init Bwd Win Byts', 'TotLen Bwd Pkts', 'Fwd IAT Mean', 'Subflow Fwd Byts', 'Flow IAT Max', 'Subflow Bwd Pkts', 'Idle Min', 'Idle Mean', 'Subflow Fwd Pkts', 'Fwd Pkt Len Std'], 'Normal sample 1390': ['FIN Flag Cnt', 'Flow Pkts/s', 'Down/Up Ratio', 'Pkt Len Min', 'Pkt Len Max', 'TotLen Bwd Pkts', 'Bwd Pkt Len Min', 'Fwd Header Len', 'Fwd Act Data Pkts', 'Bwd Pkts/s'], 'Normal sample 1391': ['Bwd Pkt Len Max', 'Idle Max', 'Active Mean', 'Init Bwd Win Byts', 'Flow Byts/s', 'Bwd Pkt Len Std', 'Active Max', 'Flow IAT Min', 'Bwd Header Len', 'Pkt Len Var'], 'Normal sample 1392': ['ACK Flag Cnt', 'Bwd IAT Max', 'Bwd IAT Std', 'Idle Std', 'Bwd IAT Tot', 'TotLen Bwd Pkts', 'Idle Max', 'Idle Mean', 'Bwd PSH Flags', 'Flow IAT Max'], 'Normal sample 1393': ['Init Bwd Win Byts', 'Bwd Pkt Len Max', 'Idle Mean', 'Idle Max', 'Bwd IAT Mean', 'Pkt Len Var', 'Bwd Seg Size Avg', 'Subflow Fwd Pkts', 'Tot Fwd Pkts', 'Tot Bwd Pkts'], 'Normal sample 1394': ['Pkt Len Min', 'Pkt Len Std', 'Pkt Len Mean', 'Pkt Len Max', 'Pkt Size Avg', 'Flow Pkts/s', 'Fwd Pkt Len Std', 'Fwd Seg Size Avg', 'Idle Max', 'Idle Mean'], 'Normal sample 1395': ['Bwd IAT Max', 'ACK Flag Cnt', 'Idle Max', 'Bwd PSH Flags', 'Bwd IAT Std', 'Bwd IAT Tot', 'Idle Min', 'Idle Std', 'Idle Mean', 'Fwd IAT Min'], 'Normal sample 1396': ['SYN Flag Cnt', 'Bwd Pkt Len Max', 'Bwd PSH Flags', 'Idle Min', 'Fwd IAT Min', 'PSH Flag Cnt', 'Fwd Pkts/s', 'Flow IAT Min', 'Pkt Len Min', 'Flow Duration'], 'Normal sample 1397': ['SYN Flag Cnt', 'Bwd IAT Max', 'Bwd IAT Std', 'Bwd IAT Tot', 'Fwd Pkt Len Min', 'Bwd IAT Mean', 'Pkt Len Var', 'TotLen Fwd Pkts', 'Subflow Fwd Pkts', 'TotLen Bwd Pkts'], 'Normal sample 1398': ['Pkt Len Min', 'Pkt Len Max', 'Down/Up Ratio', 'Pkt Size Avg', 'Flow Pkts/s', 'Pkt Len Mean', 'Pkt Len Std', 'Fwd Pkt Len Max', 'Fwd Seg Size Avg', 'Fwd Pkt Len Std'], 'Normal sample 1399': ['Bwd Seg Size Avg', 'Subflow Fwd Pkts', 'Subflow Bwd Pkts', 'Active Max', 'Init Bwd Win Byts', 'Idle Min', 'Fwd IAT Mean', 'Tot Bwd Pkts', 'Subflow Bwd Byts', 'Bwd Pkt Len Max'], 'Normal sample 1400': ['Subflow Fwd Pkts', 'Tot Fwd Pkts', 'Tot Bwd Pkts', 'Bwd Pkt Len Max', 'Bwd Pkt Len Min', 'Bwd Pkt Len Mean', 'Bwd Pkt Len Std', 'Flow IAT Std', 'Flow IAT Max', 'Flow IAT Min'], 'Normal sample 1401': ['Pkt Len Max', 'Pkt Len Std', 'Pkt Len Min', 'Pkt Len Mean', 'Pkt Size Avg', 'Flow Pkts/s', 'Fwd Pkt Len Mean', 'PSH Flag Cnt', 'Fwd IAT Std', 'Flow IAT Std'], 'Normal sample 1402': ['Pkt Len Min', 'Tot Bwd Pkts', 'TotLen Bwd Pkts', 'Fwd Pkt Len Min', 'Flow Byts/s', 'Flow IAT Mean', 'Flow IAT Min', 'Fwd IAT Tot', 'Fwd IAT Mean', 'Fwd IAT Max'], 'Normal sample 1403': ['Init Bwd Win Byts', 'Fwd Header Len', 'Fwd IAT Min', 'Bwd Pkt Len Std', 'Tot Fwd Pkts', 'Bwd IAT Mean', 'Idle Mean', 'Bwd Seg Size Avg', 'Active Min', 'Bwd IAT Max'], 'Normal sample 1404': ['SYN Flag Cnt', 'Bwd IAT Max', 'Bwd IAT Std', 'Bwd Pkt Len Max', 'Fwd Act Data Pkts', 'Active Mean', 'Fwd Header Len', 'Tot Fwd Pkts', 'TotLen Fwd Pkts', 'TotLen Bwd Pkts'], 'Normal sample 1405': ['ACK Flag Cnt', 'Bwd IAT Max', 'Bwd IAT Tot', 'Idle Max', 'Bwd IAT Std', 'Flow IAT Max', 'Idle Min', 'Idle Std', 'Idle Mean', 'Bwd Pkt Len Min'], 'Normal sample 1406': ['Init Bwd Win Byts', 'Idle Min', 'Bwd Pkt Len Mean', 'Idle Max', 'Bwd Pkt Len Max', 'Fwd IAT Std', 'Flow IAT Max', 'Fwd IAT Mean', 'Flow IAT Min', 'Bwd Header Len'], 'Normal sample 1407': ['Idle Mean', 'Init Bwd Win Byts', 'Idle Std', 'Tot Fwd Pkts', 'Bwd IAT Min', 'Idle Max', 'Bwd IAT Tot', 'Bwd Pkt Len Std', 'Bwd Pkt Len Mean', 'Active Std'], 'Normal sample 1408': ['SYN Flag Cnt', 'Pkt Len Var', 'Bwd Pkt Len Std', 'ACK Flag Cnt', 'Fwd Header Len', 'Flow IAT Min', 'Idle Mean', 'Fwd IAT Mean', 'Fwd Pkts/s', 'Active Std'], 'Normal sample 1409': ['Idle Min', 'Init Bwd Win Byts', 'Idle Max', 'Idle Mean', 'Bwd IAT Max', 'Subflow Bwd Byts', 'Fwd Pkt Len Std', 'Bwd Pkt Len Mean', 'Subflow Fwd Byts', 'Fwd IAT Max'], 'Normal sample 1410': ['Idle Min', 'Bwd Pkt Len Mean', 'Flow Duration', 'Tot Fwd Pkts', 'Tot Bwd Pkts', 'TotLen Fwd Pkts', 'TotLen Bwd Pkts', 'Fwd Pkt Len Max', 'Fwd Pkt Len Std', 'Bwd Pkt Len Max'], 'Normal sample 1411': ['Init Bwd Win Byts', 'Subflow Bwd Pkts', 'Fwd Act Data Pkts', 'Flow Duration', 'Tot Fwd Pkts', 'Tot Bwd Pkts', 'TotLen Fwd Pkts', 'TotLen Bwd Pkts', 'Fwd Pkt Len Std', 'Bwd Pkt Len Max'], 'Normal sample 1412': ['Idle Max', 'Bwd Seg Size Avg', 'Init Bwd Win Byts', 'Bwd Pkt Len Std', 'Idle Mean', 'Fwd IAT Mean', 'Fwd IAT Std', 'Bwd Pkt Len Mean', 'Idle Min', 'TotLen Fwd Pkts'], 'Normal sample 1413': ['SYN Flag Cnt', 'Bwd IAT Tot', 'Bwd IAT Max', 'Bwd IAT Std', 'Active Mean', 'Tot Fwd Pkts', 'PSH Flag Cnt', 'Active Max', 'Pkt Len Var', 'Tot Bwd Pkts'], 'Normal sample 1414': ['Idle Max', 'Bwd Seg Size Avg', 'Subflow Bwd Pkts', 'TotLen Bwd Pkts', 'Flow Duration', 'Tot Fwd Pkts', 'TotLen Fwd Pkts', 'Fwd Pkt Len Min', 'Fwd Pkt Len Std', 'Bwd Pkt Len Max'], 'Normal sample 1415': ['ACK Flag Cnt', 'Flow IAT Mean', 'Subflow Bwd Pkts', 'Flow IAT Max', 'Flow IAT Std', 'Bwd Pkt Len Std', 'Flow IAT Min', 'URG Flag Cnt', 'Active Mean', 'TotLen Fwd Pkts'], 'Normal sample 1416': ['Fwd IAT Min', 'Pkt Len Var', 'Fwd Header Len', 'Bwd IAT Mean', 'Flow Duration', 'Tot Fwd Pkts', 'TotLen Bwd Pkts', 'Bwd Pkt Len Max', 'Bwd Pkt Len Mean', 'Flow Pkts/s'], 'Normal sample 1417': ['Active Max', 'Bwd Pkt Len Mean', 'Init Bwd Win Byts', 'Bwd IAT Min', 'Bwd Pkt Len Max', 'Idle Min', 'Active Std', 'Idle Mean', 'Pkt Len Var', 'Active Min'], 'Normal sample 1418': ['Tot Fwd Pkts', 'Tot Bwd Pkts', 'TotLen Fwd Pkts', 'TotLen Bwd Pkts', 'Fwd Pkt Len Min', 'Bwd Pkt Len Max', 'Bwd Pkt Len Min', 'Bwd Pkt Len Mean', 'Bwd Pkt Len Std', 'Flow IAT Std'], 'Normal sample 1419': ['Init Bwd Win Byts', 'Idle Std', 'Idle Mean', 'Bwd Pkt Len Mean', 'Fwd IAT Max', 'Flow IAT Std', 'Active Max', 'Bwd Seg Size Avg', 'Fwd Pkt Len Std', 'Flow Duration'], 'Normal sample 1420': ['SYN Flag Cnt', 'Bwd Pkt Len Max', 'Active Mean', 'Active Std', 'Bwd IAT Tot', 'FIN Flag Cnt', 'Tot Bwd Pkts', 'Subflow Bwd Pkts', 'Bwd IAT Std', 'Fwd Pkt Len Min'], 'Normal sample 1421': ['Idle Min', 'Init Bwd Win Byts', 'Bwd Seg Size Avg', 'Bwd Header Len', 'Tot Fwd Pkts', 'Subflow Bwd Byts', 'Idle Max', 'Idle Mean', 'Bwd Pkt Len Max', 'Active Std'], 'Normal sample 1422': ['Pkt Len Min', 'Pkt Len Max', 'Pkt Size Avg', 'Pkt Len Mean', 'Fwd Pkt Len Max', 'Flow IAT Min', 'Pkt Len Std', 'Fwd Pkt Len Mean', 'Tot Fwd Pkts', 'Fwd Pkt Len Std'], 'Normal sample 1423': ['Init Bwd Win Byts', 'Bwd Seg Size Avg', 'Fwd IAT Max', 'Bwd IAT Mean', 'Bwd Pkt Len Max', 'Bwd Pkt Len Mean', 'Fwd IAT Min', 'TotLen Fwd Pkts', 'Idle Min', 'Bwd Header Len'], 'Normal sample 1424': ['Idle Max', 'Init Bwd Win Byts', 'Active Mean', 'Subflow Fwd Pkts', 'Fwd IAT Std', 'Flow IAT Min', 'Idle Min', 'Tot Fwd Pkts', 'Fwd Pkt Len Max', 'Bwd Pkt Len Max'], 'Normal sample 1425': ['Flow Duration', 'Tot Fwd Pkts', 'Tot Bwd Pkts', 'TotLen Fwd Pkts', 'TotLen Bwd Pkts', 'Bwd Pkt Len Min', 'Bwd Pkt Len Mean', 'Bwd Pkt Len Std', 'Flow Byts/s', 'Flow IAT Std'], 'Normal sample 1426': ['Idle Mean', 'Init Bwd Win Byts', 'Fwd IAT Mean', 'Bwd Pkt Len Max', 'Bwd Pkt Len Std', 'Fwd IAT Tot', 'Tot Fwd Pkts', 'Bwd IAT Min', 'Flow Duration', 'Fwd Pkt Len Max'], 'Normal sample 1427': ['SYN Flag Cnt', 'Bwd IAT Max', 'Bwd IAT Std', 'Idle Max', 'Idle Mean', 'Bwd IAT Tot', 'Flow IAT Max', 'Bwd Header Len', 'Subflow Bwd Byts', 'Subflow Fwd Pkts'], 'Normal sample 1428': ['Pkt Len Min', 'Pkt Len Std', 'Down/Up Ratio', 'Pkt Len Max', 'Fwd Pkt Len Max', 'Fwd Pkt Len Mean', 'Flow Pkts/s', 'Pkt Size Avg', 'Pkt Len Mean', 'PSH Flag Cnt'], 'Normal sample 1429': ['Init Bwd Win Byts', 'Subflow Fwd Byts', 'Flow Byts/s', 'Fwd IAT Max', 'Bwd Pkt Len Max', 'Active Std', 'TotLen Fwd Pkts', 'Idle Std', 'Subflow Bwd Pkts', 'Fwd Pkts/s'], 'Normal sample 1430': ['SYN Flag Cnt', 'Bwd Pkt Len Max', 'TotLen Fwd Pkts', 'Flow IAT Min', 'Idle Mean', 'Fwd IAT Min', 'Active Std', 'Bwd Pkt Len Std', 'Idle Std', 'Active Mean'], 'Normal sample 1431': ['Subflow Bwd Pkts', 'Idle Max', 'Init Bwd Win Byts', 'Flow IAT Std', 'Idle Mean', 'Flow IAT Min', 'Subflow Fwd Byts', 'Bwd IAT Mean', 'Fwd IAT Mean', 'Active Max'], 'Normal sample 1432': ['SYN Flag Cnt', 'Fwd IAT Min', 'Idle Min', 'Subflow Fwd Pkts', 'Bwd IAT Std', 'Down/Up Ratio', 'Fwd Pkt Len Std', 'Fwd Seg Size Avg', 'Flow Byts/s', 'Fwd Pkts/s'], 'Normal sample 1433': ['Idle Max', 'Init Bwd Win Byts', 'Active Min', 'Bwd Pkt Len Mean', 'Bwd Seg Size Avg', 'TotLen Fwd Pkts', 'Bwd Pkt Len Std', 'Tot Fwd Pkts', 'Bwd Pkt Len Max', 'Fwd Pkts/s'], 'Normal sample 1434': ['Init Bwd Win Byts', 'Idle Min', 'Fwd IAT Max', 'Bwd Pkt Len Max', 'Fwd Act Data Pkts', 'Idle Mean', 'Bwd Pkt Len Mean', 'Fwd IAT Tot', 'Bwd Seg Size Avg', 'Flow IAT Std'], 'Normal sample 1435': ['Idle Max', 'Idle Mean', 'Init Bwd Win Byts', 'Idle Min', 'Bwd Seg Size Avg', 'Flow IAT Mean', 'Idle Std', 'Fwd IAT Min', 'Flow Duration', 'Tot Fwd Pkts'], 'Normal sample 1436': ['Init Bwd Win Byts', 'Subflow Bwd Byts', 'Active Mean', 'Bwd Pkt Len Std', 'Fwd IAT Mean', 'Active Min', 'Bwd Pkt Len Max', 'Fwd IAT Tot', 'Bwd Header Len', 'Pkt Len Var'], 'Normal sample 1437': ['SYN Flag Cnt', 'Bwd Pkt Len Max', 'Bwd Pkt Len Std', 'Subflow Bwd Pkts', 'Active Std', 'Bwd IAT Max', 'FIN Flag Cnt', 'Subflow Bwd Byts', 'TotLen Bwd Pkts', 'TotLen Fwd Pkts'], 'Normal sample 1438': ['ACK Flag Cnt', 'Bwd IAT Std', 'Idle Std', 'Bwd IAT Max', 'Flow IAT Max', 'Bwd PSH Flags', 'Fwd Header Len', 'Pkt Len Min', 'Flow IAT Mean', 'Flow IAT Std'], 'Normal sample 1439': ['SYN Flag Cnt', 'Bwd Pkt Len Max', 'Tot Fwd Pkts', 'TotLen Fwd Pkts', 'TotLen Bwd Pkts', 'Fwd Pkt Len Min', 'Bwd Pkt Len Min', 'Flow Byts/s', 'Flow Pkts/s', 'Flow IAT Mean'], 'Normal sample 1440': ['Init Bwd Win Byts', 'Bwd Pkt Len Max', 'Tot Fwd Pkts', 'Idle Min', 'Fwd IAT Tot', 'Fwd Act Data Pkts', 'Idle Mean', 'Active Mean', 'Fwd Pkt Len Min', 'Flow IAT Max'], 'Normal sample 1441': ['Init Bwd Win Byts', 'Fwd Seg Size Avg', 'Fwd Pkt Len Max', 'Bwd Pkt Len Max', 'Down/Up Ratio', 'Bwd IAT Min', 'Idle Min', 'Fwd Header Len', 'Bwd Pkt Len Mean', 'Tot Bwd Pkts'], 'Normal sample 1442': ['Init Bwd Win Byts', 'Flow Duration', 'TotLen Bwd Pkts', 'Fwd Pkt Len Min', 'Bwd Pkt Len Max', 'Bwd Pkt Len Min', 'Bwd Pkt Len Mean', 'Flow Pkts/s', 'Flow IAT Mean', 'Flow IAT Std'], 'Normal sample 1443': ['Idle Max', 'Init Bwd Win Byts', 'Flow IAT Std', 'Bwd IAT Tot', 'Idle Mean', 'Bwd Pkt Len Mean', 'Idle Min', 'TotLen Bwd Pkts', 'Bwd IAT Min', 'Tot Fwd Pkts'], 'Normal sample 1444': ['SYN Flag Cnt', 'Fwd IAT Min', 'Idle Max', 'Bwd Header Len', 'Fwd Pkt Len Max', 'Subflow Fwd Pkts', 'TotLen Fwd Pkts', 'Pkt Size Avg', 'Bwd Pkt Len Min', 'Pkt Len Max'], 'Normal sample 1445': ['Init Bwd Win Byts', 'Bwd Pkt Len Std', 'Fwd IAT Tot', 'Idle Mean', 'TotLen Bwd Pkts', 'Bwd Seg Size Avg', 'Fwd IAT Min', 'Idle Min', 'Idle Max', 'Fwd Act Data Pkts'], 'Normal sample 1446': ['Bwd IAT Std', 'ACK Flag Cnt', 'Bwd IAT Max', 'Pkt Len Min', 'Idle Min', 'Pkt Size Avg', 'Active Min', 'Bwd IAT Tot', 'Bwd PSH Flags', 'Flow IAT Mean'], 'Normal sample 1447': ['Idle Min', 'Init Bwd Win Byts', 'Bwd Header Len', 'TotLen Fwd Pkts', 'Tot Bwd Pkts', 'Fwd Header Len', 'Active Min', 'Fwd IAT Max', 'Pkt Len Var', 'Subflow Bwd Pkts'], 'Normal sample 1448': ['Bwd IAT Max', 'Flow IAT Max', 'Idle Max', 'Bwd IAT Tot', 'ACK Flag Cnt', 'Idle Min', 'Idle Mean', 'Fwd Header Len', 'Subflow Bwd Pkts', 'Idle Std'], 'Normal sample 1449': ['SYN Flag Cnt', 'Bwd Pkt Len Max', 'Bwd IAT Std', 'Active Std', 'Bwd IAT Max', 'Bwd IAT Tot', 'TotLen Fwd Pkts', 'Fwd Header Len', 'Fwd Pkts/s', 'Tot Fwd Pkts'], 'Normal sample 1450': ['Bwd PSH Flags', 'Down/Up Ratio', 'Flow IAT Std', 'Pkt Len Min', 'Pkt Len Var', 'Bwd Seg Size Avg', 'Fwd IAT Mean', 'Subflow Fwd Pkts', 'Bwd Pkt Len Std', 'Fwd IAT Max'], 'Normal sample 1451': ['Pkt Len Min', 'Down/Up Ratio', 'Fwd Pkt Len Max', 'Pkt Len Max', 'Pkt Size Avg', 'Flow Pkts/s', 'Fwd Pkt Len Mean', 'Pkt Len Std', 'Pkt Len Var', 'Bwd IAT Mean'], 'Normal sample 1452': ['Init Bwd Win Byts', 'Idle Std', 'Bwd Seg Size Avg', 'TotLen Fwd Pkts', 'Fwd Pkts/s', 'TotLen Bwd Pkts', 'Bwd IAT Tot', 'Idle Max', 'Idle Mean', 'Fwd Pkt Len Min'], 'Normal sample 1453': ['Init Bwd Win Byts', 'Flow Duration', 'Fwd IAT Mean', 'TotLen Bwd Pkts', 'Tot Bwd Pkts', 'TotLen Fwd Pkts', 'Fwd Pkt Len Min', 'Fwd Pkt Len Std', 'Bwd Pkt Len Max', 'Bwd Pkt Len Mean'], 'Normal sample 1454': ['Init Bwd Win Byts', 'Idle Min', 'Idle Max', 'Subflow Bwd Pkts', 'Idle Mean', 'Flow Byts/s', 'Subflow Fwd Byts', 'Bwd Seg Size Avg', 'Fwd IAT Std', 'Bwd Pkt Len Mean'], 'Normal sample 1455': ['Pkt Len Mean', 'Pkt Len Max', 'Pkt Size Avg', 'Pkt Len Min', 'Fwd Seg Size Avg', 'Subflow Fwd Pkts', 'Pkt Len Std', 'Flow Pkts/s', 'Fwd Pkt Len Mean', 'Fwd Pkt Len Max'], 'Normal sample 1456': ['Fwd Pkt Len Std', 'Fwd IAT Mean', 'Init Bwd Win Byts', 'Bwd Pkt Len Mean', 'Flow IAT Min', 'Idle Std', 'TotLen Bwd Pkts', 'Bwd Pkt Len Max', 'Fwd Act Data Pkts', 'Subflow Fwd Byts'], 'Normal sample 1457': ['Idle Max', 'Tot Fwd Pkts', 'Bwd Seg Size Avg', 'Fwd Pkts/s', 'Fwd IAT Std', 'Flow IAT Max', 'Fwd IAT Mean', 'Fwd Header Len', 'Init Bwd Win Byts', 'Bwd IAT Tot'], 'Normal sample 1458': ['Flow IAT Min', 'Init Bwd Win Byts', 'Idle Max', 'Active Std', 'Fwd Pkt Len Min', 'Idle Min', 'Bwd Seg Size Avg', 'Bwd Pkt Len Std', 'Active Min', 'Tot Fwd Pkts'], 'Normal sample 1459': ['Init Bwd Win Byts', 'Subflow Fwd Pkts', 'Idle Mean', 'Bwd Pkt Len Max', 'Bwd Header Len', 'Active Min', 'Idle Max', 'Bwd Pkt Len Mean', 'Fwd Pkt Len Std', 'Fwd IAT Max'], 'Normal sample 1460': ['Down/Up Ratio', 'Bwd Pkt Len Mean', 'Tot Bwd Pkts', 'Fwd IAT Std', 'Bwd Pkt Len Std', 'Idle Std', 'Bwd Seg Size Avg', 'Bwd IAT Min', 'Flow Byts/s', 'Fwd Pkt Len Mean'], 'Normal sample 1461': ['Init Bwd Win Byts', 'Down/Up Ratio', 'Bwd Pkt Len Max', 'Bwd Pkt Len Mean', 'Bwd Seg Size Avg', 'Bwd Pkt Len Std', 'Fwd Pkt Len Max', 'Fwd Pkt Len Std', 'Pkt Len Var', 'Idle Min'], 'Normal sample 1462': ['Pkt Size Avg', 'Pkt Len Std', 'Pkt Len Max', 'Pkt Len Min', 'Pkt Len Mean', 'Fwd Pkt Len Mean', 'Fwd Seg Size Avg', 'Flow Pkts/s', 'Fwd Pkt Len Max', 'Fwd IAT Min'], 'Normal sample 1463': ['Init Bwd Win Byts', 'Bwd Pkt Len Max', 'Idle Max', 'Fwd Header Len', 'Idle Min', 'Fwd IAT Std', 'Pkt Len Var', 'Bwd IAT Max', 'Tot Fwd Pkts', 'Subflow Bwd Pkts'], 'Normal sample 1464': ['Idle Min', 'Bwd Seg Size Avg', 'Active Min', 'Bwd Header Len', 'Bwd Pkt Len Std', 'Init Bwd Win Byts', 'Subflow Fwd Pkts', 'Idle Mean', 'Fwd Act Data Pkts', 'Idle Max'], 'Normal sample 1465': ['FIN Flag Cnt', 'Flow Pkts/s', 'Down/Up Ratio', 'Pkt Len Min', 'PSH Flag Cnt', 'Bwd Pkt Len Min', 'Pkt Size Avg', 'Pkt Len Std', 'Pkt Len Var', 'Idle Max'], 'Normal sample 1466': ['Bwd Pkt Len Max', 'Flow Duration', 'Tot Fwd Pkts', 'Tot Bwd Pkts', 'TotLen Fwd Pkts', 'TotLen Bwd Pkts', 'Fwd Pkt Len Min', 'Fwd Pkt Len Std', 'Bwd Pkt Len Std', 'Flow IAT Mean'], 'Normal sample 1467': ['Pkt Len Min', 'Fwd Pkts/s', 'Active Min', 'Init Bwd Win Byts', 'Bwd Pkt Len Min', 'Fwd PSH Flags', 'Fwd URG Flags', 'Bwd Header Len', 'Pkt Len Var', 'RST Flag Cnt'], 'Normal sample 1468': ['ACK Flag Cnt', 'Bwd IAT Max', 'Bwd IAT Std', 'Bwd IAT Tot', 'Idle Max', 'Bwd PSH Flags', 'Fwd Pkts/s', 'Idle Min', 'Idle Std', 'Idle Mean'], 'Normal sample 1469': ['ACK Flag Cnt', 'Bwd IAT Max', 'Bwd IAT Std', 'Bwd IAT Tot', 'Idle Max', 'Flow IAT Max', 'Idle Mean', 'Idle Min', 'Bwd PSH Flags', 'Bwd Header Len'], 'Normal sample 1470': ['Init Bwd Win Byts', 'Idle Min', 'Idle Max', 'Idle Mean', 'Bwd Pkt Len Std', 'Bwd Seg Size Avg', 'Flow IAT Std', 'Bwd Pkt Len Mean', 'Fwd Pkt Len Min', 'Subflow Fwd Byts'], 'Normal sample 1471': ['RST Flag Cnt', 'Pkt Len Min', 'Bwd Pkt Len Min', 'Idle Max', 'Pkt Size Avg', 'Idle Min', 'Pkt Len Std', 'Idle Mean', 'Flow Duration', 'Flow Pkts/s'], 'Normal sample 1472': ['Init Bwd Win Byts', 'TotLen Bwd Pkts', 'Fwd Pkts/s', 'Idle Min', 'Bwd Pkt Len Std', 'Bwd Pkt Len Max', 'Fwd IAT Mean', 'Bwd Seg Size Avg', 'Bwd IAT Min', 'Bwd Header Len'], 'Normal sample 1473': ['FIN Flag Cnt', 'Down/Up Ratio', 'Pkt Len Min', 'Flow Pkts/s', 'Fwd Pkt Len Mean', 'Pkt Size Avg', 'Idle Mean', 'PSH Flag Cnt', 'Pkt Len Max', 'Fwd Seg Size Avg'], 'Normal sample 1474': ['Tot Fwd Pkts', 'Bwd Seg Size Avg', 'Init Bwd Win Byts', 'Pkt Len Var', 'Active Min', 'Active Mean', 'Idle Mean', 'Subflow Fwd Pkts', 'Bwd Pkt Len Max', 'Idle Min'], 'Normal sample 1475': ['Bwd Seg Size Avg', 'Idle Mean', 'Fwd Act Data Pkts', 'Flow IAT Std', 'Flow IAT Min', 'Active Min', 'URG Flag Cnt', 'Fwd Pkt Len Std', 'Active Std', 'Fwd Pkts/s'], 'Normal sample 1476': ['ACK Flag Cnt', 'Bwd IAT Max', 'Bwd IAT Std', 'Bwd IAT Tot', 'Idle Max', 'Idle Mean', 'Bwd PSH Flags', 'Flow IAT Max', 'Bwd Pkt Len Std', 'Idle Min'], 'Normal sample 1477': ['Flow IAT Std', 'Init Bwd Win Byts', 'Tot Fwd Pkts', 'Fwd Pkts/s', 'Idle Max', 'Active Min', 'Flow IAT Min', 'Fwd Pkt Len Max', 'URG Flag Cnt', 'Bwd IAT Max'], 'Normal sample 1478': ['Pkt Len Min', 'Down/Up Ratio', 'Pkt Len Max', 'Pkt Size Avg', 'Fwd Pkt Len Std', 'Pkt Len Std', 'Flow Pkts/s', 'Pkt Len Mean', 'Idle Mean', 'Fwd Seg Size Avg'], 'Normal sample 1479': ['ACK Flag Cnt', 'Bwd IAT Std', 'Bwd IAT Tot', 'Bwd IAT Max', 'Bwd PSH Flags', 'Flow IAT Max', 'Flow IAT Mean', 'Pkt Len Min', 'Bwd Pkt Len Mean', 'FIN Flag Cnt'], 'Normal sample 1480': ['Init Bwd Win Byts', 'Idle Max', 'Fwd IAT Max', 'Idle Min', 'Idle Mean', 'Idle Std', 'Flow IAT Max', 'Bwd IAT Tot', 'Active Min', 'Fwd IAT Mean'], 'Normal sample 1481': ['SYN Flag Cnt', 'Bwd IAT Std', 'Pkt Len Mean', 'Idle Mean', 'Pkt Size Avg', 'Subflow Bwd Pkts', 'Bwd Seg Size Avg', 'Fwd Pkts/s', 'Bwd IAT Min', 'Active Std'], 'Normal sample 1482': ['Bwd Pkt Len Mean', 'Idle Std', 'Active Min', 'Init Bwd Win Byts', 'Subflow Fwd Byts', 'Fwd IAT Std', 'Fwd Act Data Pkts', 'Tot Fwd Pkts', 'Fwd Pkt Len Max', 'Idle Max'], 'Normal sample 1483': ['Init Bwd Win Byts', 'Subflow Fwd Pkts', 'Bwd Pkt Len Std', 'Fwd IAT Tot', 'Idle Max', 'Idle Mean', 'Fwd Pkt Len Min', 'Idle Min', 'Bwd Pkt Len Mean', 'Subflow Bwd Pkts'], 'Normal sample 1484': ['Bwd Seg Size Avg', 'Init Bwd Win Byts', 'Idle Max', 'Flow Duration', 'Idle Min', 'Flow IAT Std', 'Tot Fwd Pkts', 'TotLen Fwd Pkts', 'Bwd Pkt Len Max', 'Bwd Pkt Len Mean'], 'Normal sample 1485': ['Init Bwd Win Byts', 'Idle Mean', 'Bwd Pkt Len Max', 'Subflow Bwd Pkts', 'Active Min', 'Idle Min', 'Fwd Act Data Pkts', 'Fwd Pkts/s', 'Fwd IAT Std', 'Flow IAT Std'], 'Normal sample 1486': ['SYN Flag Cnt', 'Bwd IAT Std', 'Bwd IAT Max', 'Flow IAT Mean', 'Bwd Pkt Len Max', 'Bwd URG Flags', 'Pkt Len Var', 'Flow IAT Max', 'Idle Max', 'Active Max'], 'Normal sample 1487': ['Init Bwd Win Byts', 'Tot Bwd Pkts', 'Fwd IAT Std', 'Tot Fwd Pkts', 'TotLen Fwd Pkts', 'TotLen Bwd Pkts', 'Fwd Pkt Len Min', 'Bwd Pkt Len Max', 'Bwd Pkt Len Mean', 'Flow Pkts/s'], 'Normal sample 1488': ['Bwd Pkt Len Std', 'Bwd IAT Max', 'Idle Std', 'Idle Min', 'Fwd Pkt Len Std', 'Bwd Header Len', 'Init Bwd Win Byts', 'Fwd Pkt Len Min', 'Subflow Fwd Pkts', 'Active Min'], 'Normal sample 1489': ['Idle Mean', 'Init Bwd Win Byts', 'Idle Max', 'Bwd Pkt Len Max', 'Idle Min', 'Fwd Pkt Len Std', 'Bwd Pkt Len Std', 'Active Std', 'Bwd Seg Size Avg', 'Tot Fwd Pkts'], 'Normal sample 1490': ['Idle Mean', 'Fwd IAT Max', 'Bwd IAT Min', 'Idle Min', 'Active Min', 'Idle Max', 'Bwd Pkt Len Max', 'Init Bwd Win Byts', 'Fwd Pkt Len Min', 'Fwd IAT Tot'], 'Normal sample 1491': ['Init Bwd Win Byts', 'Idle Min', 'Bwd Pkt Len Std', 'Flow IAT Std', 'Fwd IAT Mean', 'Bwd IAT Tot', 'Subflow Fwd Byts', 'Subflow Bwd Pkts', 'TotLen Bwd Pkts', 'Active Mean'], 'Normal sample 1492': ['Fwd IAT Mean', 'Idle Max', 'Flow Duration', 'Subflow Fwd Byts', 'Idle Mean', 'Bwd Header Len', 'Flow IAT Std', 'Fwd Act Data Pkts', 'Idle Min', 'Bwd IAT Min'], 'Normal sample 1493': ['FIN Flag Cnt', 'Flow Pkts/s', 'Down/Up Ratio', 'Pkt Len Min', 'Pkt Len Mean', 'Bwd Pkt Len Min', 'Bwd Pkts/s', 'Idle Std', 'Pkt Size Avg', 'Pkt Len Std'], 'Normal sample 1494': ['SYN Flag Cnt', 'PSH Flag Cnt', 'Idle Mean', 'Subflow Fwd Byts', 'Fwd Pkt Len Mean', 'Pkt Len Max', 'Active Std', 'Subflow Fwd Pkts', 'Idle Max', 'Fwd Pkt Len Std'], 'Normal sample 1495': ['Init Bwd Win Byts', 'Fwd IAT Std', 'Flow IAT Min', 'Idle Min', 'Fwd Header Len', 'Idle Max', 'Bwd IAT Min', 'Tot Fwd Pkts', 'Tot Bwd Pkts', 'TotLen Bwd Pkts'], 'Normal sample 1496': ['Fwd IAT Max', 'Init Bwd Win Byts', 'Idle Max', 'Idle Mean', 'Bwd Pkt Len Mean', 'Flow IAT Max', 'Subflow Bwd Byts', 'Fwd IAT Tot', 'Flow Duration', 'Tot Fwd Pkts'], 'Normal sample 1497': ['Idle Max', 'Flow Duration', 'Pkt Len Var', 'Init Bwd Win Byts', 'Bwd Pkt Len Mean', 'Flow Byts/s', 'Flow IAT Min', 'Fwd Header Len', 'Fwd Pkt Len Std', 'Bwd Seg Size Avg'], 'Normal sample 1498': ['Idle Mean', 'Idle Max', 'Subflow Bwd Pkts', 'Bwd Pkt Len Max', 'Init Bwd Win Byts', 'Bwd IAT Tot', 'Pkt Len Var', 'Bwd Seg Size Avg', 'Fwd Act Data Pkts', 'Active Std'], 'Normal sample 1499': ['Pkt Len Min', 'Down/Up Ratio', 'Pkt Len Max', 'Pkt Size Avg', 'Pkt Len Std', 'Pkt Len Mean', 'PSH Flag Cnt', 'Flow Pkts/s', 'Fwd Pkt Len Max', 'Flow IAT Std']}\n"
          ]
        }
      ]
    },
    {
      "cell_type": "code",
      "source": [
        "len(data_dict)"
      ],
      "metadata": {
        "colab": {
          "base_uri": "https://localhost:8080/"
        },
        "id": "CDRmV6RRT6gS",
        "outputId": "8b4b0f47-fc71-4aaf-83c4-bf48e3773093"
      },
      "execution_count": 58,
      "outputs": [
        {
          "output_type": "execute_result",
          "data": {
            "text/plain": [
              "1500"
            ]
          },
          "metadata": {},
          "execution_count": 58
        }
      ]
    },
    {
      "cell_type": "markdown",
      "source": [
        "# New whitelist: 38 top features with over 10k freq each"
      ],
      "metadata": {
        "id": "JyjDe5Kxredo"
      }
    },
    {
      "cell_type": "code",
      "source": [
        "df = pd.DataFrame.from_dict(data_dict, orient='index', columns=['Feature 1', 'Feature 2', 'Feature 3', 'Feature 4', 'Feature 5', 'Feature 6', 'Feature 7', 'Feature 8', 'Feature 9', 'Feature 10'])"
      ],
      "metadata": {
        "id": "HeFSTFLZeh1N"
      },
      "execution_count": 59,
      "outputs": []
    },
    {
      "cell_type": "code",
      "source": [
        "df.info()"
      ],
      "metadata": {
        "colab": {
          "base_uri": "https://localhost:8080/"
        },
        "id": "St0fe9Aye6ml",
        "outputId": "087a1b70-e7b7-4a8f-d54b-4eec8ae6b65e"
      },
      "execution_count": 60,
      "outputs": [
        {
          "output_type": "stream",
          "name": "stdout",
          "text": [
            "<class 'pandas.core.frame.DataFrame'>\n",
            "Index: 1500 entries, Normal sample 0 to Normal sample 1499\n",
            "Data columns (total 10 columns):\n",
            " #   Column      Non-Null Count  Dtype \n",
            "---  ------      --------------  ----- \n",
            " 0   Feature 1   1500 non-null   object\n",
            " 1   Feature 2   1500 non-null   object\n",
            " 2   Feature 3   1500 non-null   object\n",
            " 3   Feature 4   1500 non-null   object\n",
            " 4   Feature 5   1500 non-null   object\n",
            " 5   Feature 6   1500 non-null   object\n",
            " 6   Feature 7   1500 non-null   object\n",
            " 7   Feature 8   1500 non-null   object\n",
            " 8   Feature 9   1500 non-null   object\n",
            " 9   Feature 10  1500 non-null   object\n",
            "dtypes: object(10)\n",
            "memory usage: 128.9+ KB\n"
          ]
        }
      ]
    },
    {
      "cell_type": "code",
      "source": [
        "df.head()"
      ],
      "metadata": {
        "colab": {
          "base_uri": "https://localhost:8080/",
          "height": 337
        },
        "id": "z0LoK7TwTTFN",
        "outputId": "308fe9f3-2021-42dc-c624-f6face0f83d8"
      },
      "execution_count": 61,
      "outputs": [
        {
          "output_type": "execute_result",
          "data": {
            "text/plain": [
              "                         Feature 1          Feature 2         Feature 3  \\\n",
              "Normal sample 0        Bwd IAT Max    Bwd Pkt Len Max      ACK Flag Cnt   \n",
              "Normal sample 1  Init Bwd Win Byts          Idle Mean        Active Min   \n",
              "Normal sample 2       Tot Bwd Pkts  Init Bwd Win Byts    Fwd Header Len   \n",
              "Normal sample 3  Init Bwd Win Byts         Active Max  Bwd Seg Size Avg   \n",
              "Normal sample 4       SYN Flag Cnt       ACK Flag Cnt   Bwd Pkt Len Std   \n",
              "\n",
              "                        Feature 4         Feature 5         Feature 6  \\\n",
              "Normal sample 0       Bwd IAT Tot    Bwd Header Len          Idle Max   \n",
              "Normal sample 1    Fwd Header Len       Pkt Len Var   TotLen Fwd Pkts   \n",
              "Normal sample 2  Subflow Bwd Pkts   Bwd Pkt Len Std  Subflow Fwd Pkts   \n",
              "Normal sample 3  Subflow Bwd Byts          Idle Min       Bwd IAT Tot   \n",
              "Normal sample 4       Active Mean  Bwd Pkt Len Mean        Fwd Pkts/s   \n",
              "\n",
              "                        Feature 7        Feature 8        Feature 9  \\\n",
              "Normal sample 0        Active Max     Flow IAT Max  TotLen Bwd Pkts   \n",
              "Normal sample 1     Flow Duration     Tot Bwd Pkts  TotLen Bwd Pkts   \n",
              "Normal sample 2        Active Min  Bwd Pkt Len Max      Pkt Len Var   \n",
              "Normal sample 3  Bwd Pkt Len Mean  Fwd Pkt Len Min   Fwd Header Len   \n",
              "Normal sample 4   TotLen Fwd Pkts     Flow IAT Min      Fwd IAT Tot   \n",
              "\n",
              "                       Feature 10  \n",
              "Normal sample 0          Idle Std  \n",
              "Normal sample 1  Bwd Pkt Len Mean  \n",
              "Normal sample 2       Active Mean  \n",
              "Normal sample 3         Idle Mean  \n",
              "Normal sample 4     Bwd URG Flags  "
            ],
            "text/html": [
              "\n",
              "  <div id=\"df-63bec4ff-b4d0-4491-a8ed-3a08082309a5\">\n",
              "    <div class=\"colab-df-container\">\n",
              "      <div>\n",
              "<style scoped>\n",
              "    .dataframe tbody tr th:only-of-type {\n",
              "        vertical-align: middle;\n",
              "    }\n",
              "\n",
              "    .dataframe tbody tr th {\n",
              "        vertical-align: top;\n",
              "    }\n",
              "\n",
              "    .dataframe thead th {\n",
              "        text-align: right;\n",
              "    }\n",
              "</style>\n",
              "<table border=\"1\" class=\"dataframe\">\n",
              "  <thead>\n",
              "    <tr style=\"text-align: right;\">\n",
              "      <th></th>\n",
              "      <th>Feature 1</th>\n",
              "      <th>Feature 2</th>\n",
              "      <th>Feature 3</th>\n",
              "      <th>Feature 4</th>\n",
              "      <th>Feature 5</th>\n",
              "      <th>Feature 6</th>\n",
              "      <th>Feature 7</th>\n",
              "      <th>Feature 8</th>\n",
              "      <th>Feature 9</th>\n",
              "      <th>Feature 10</th>\n",
              "    </tr>\n",
              "  </thead>\n",
              "  <tbody>\n",
              "    <tr>\n",
              "      <th>Normal sample 0</th>\n",
              "      <td>Bwd IAT Max</td>\n",
              "      <td>Bwd Pkt Len Max</td>\n",
              "      <td>ACK Flag Cnt</td>\n",
              "      <td>Bwd IAT Tot</td>\n",
              "      <td>Bwd Header Len</td>\n",
              "      <td>Idle Max</td>\n",
              "      <td>Active Max</td>\n",
              "      <td>Flow IAT Max</td>\n",
              "      <td>TotLen Bwd Pkts</td>\n",
              "      <td>Idle Std</td>\n",
              "    </tr>\n",
              "    <tr>\n",
              "      <th>Normal sample 1</th>\n",
              "      <td>Init Bwd Win Byts</td>\n",
              "      <td>Idle Mean</td>\n",
              "      <td>Active Min</td>\n",
              "      <td>Fwd Header Len</td>\n",
              "      <td>Pkt Len Var</td>\n",
              "      <td>TotLen Fwd Pkts</td>\n",
              "      <td>Flow Duration</td>\n",
              "      <td>Tot Bwd Pkts</td>\n",
              "      <td>TotLen Bwd Pkts</td>\n",
              "      <td>Bwd Pkt Len Mean</td>\n",
              "    </tr>\n",
              "    <tr>\n",
              "      <th>Normal sample 2</th>\n",
              "      <td>Tot Bwd Pkts</td>\n",
              "      <td>Init Bwd Win Byts</td>\n",
              "      <td>Fwd Header Len</td>\n",
              "      <td>Subflow Bwd Pkts</td>\n",
              "      <td>Bwd Pkt Len Std</td>\n",
              "      <td>Subflow Fwd Pkts</td>\n",
              "      <td>Active Min</td>\n",
              "      <td>Bwd Pkt Len Max</td>\n",
              "      <td>Pkt Len Var</td>\n",
              "      <td>Active Mean</td>\n",
              "    </tr>\n",
              "    <tr>\n",
              "      <th>Normal sample 3</th>\n",
              "      <td>Init Bwd Win Byts</td>\n",
              "      <td>Active Max</td>\n",
              "      <td>Bwd Seg Size Avg</td>\n",
              "      <td>Subflow Bwd Byts</td>\n",
              "      <td>Idle Min</td>\n",
              "      <td>Bwd IAT Tot</td>\n",
              "      <td>Bwd Pkt Len Mean</td>\n",
              "      <td>Fwd Pkt Len Min</td>\n",
              "      <td>Fwd Header Len</td>\n",
              "      <td>Idle Mean</td>\n",
              "    </tr>\n",
              "    <tr>\n",
              "      <th>Normal sample 4</th>\n",
              "      <td>SYN Flag Cnt</td>\n",
              "      <td>ACK Flag Cnt</td>\n",
              "      <td>Bwd Pkt Len Std</td>\n",
              "      <td>Active Mean</td>\n",
              "      <td>Bwd Pkt Len Mean</td>\n",
              "      <td>Fwd Pkts/s</td>\n",
              "      <td>TotLen Fwd Pkts</td>\n",
              "      <td>Flow IAT Min</td>\n",
              "      <td>Fwd IAT Tot</td>\n",
              "      <td>Bwd URG Flags</td>\n",
              "    </tr>\n",
              "  </tbody>\n",
              "</table>\n",
              "</div>\n",
              "      <button class=\"colab-df-convert\" onclick=\"convertToInteractive('df-63bec4ff-b4d0-4491-a8ed-3a08082309a5')\"\n",
              "              title=\"Convert this dataframe to an interactive table.\"\n",
              "              style=\"display:none;\">\n",
              "        \n",
              "  <svg xmlns=\"http://www.w3.org/2000/svg\" height=\"24px\"viewBox=\"0 0 24 24\"\n",
              "       width=\"24px\">\n",
              "    <path d=\"M0 0h24v24H0V0z\" fill=\"none\"/>\n",
              "    <path d=\"M18.56 5.44l.94 2.06.94-2.06 2.06-.94-2.06-.94-.94-2.06-.94 2.06-2.06.94zm-11 1L8.5 8.5l.94-2.06 2.06-.94-2.06-.94L8.5 2.5l-.94 2.06-2.06.94zm10 10l.94 2.06.94-2.06 2.06-.94-2.06-.94-.94-2.06-.94 2.06-2.06.94z\"/><path d=\"M17.41 7.96l-1.37-1.37c-.4-.4-.92-.59-1.43-.59-.52 0-1.04.2-1.43.59L10.3 9.45l-7.72 7.72c-.78.78-.78 2.05 0 2.83L4 21.41c.39.39.9.59 1.41.59.51 0 1.02-.2 1.41-.59l7.78-7.78 2.81-2.81c.8-.78.8-2.07 0-2.86zM5.41 20L4 18.59l7.72-7.72 1.47 1.35L5.41 20z\"/>\n",
              "  </svg>\n",
              "      </button>\n",
              "      \n",
              "  <style>\n",
              "    .colab-df-container {\n",
              "      display:flex;\n",
              "      flex-wrap:wrap;\n",
              "      gap: 12px;\n",
              "    }\n",
              "\n",
              "    .colab-df-convert {\n",
              "      background-color: #E8F0FE;\n",
              "      border: none;\n",
              "      border-radius: 50%;\n",
              "      cursor: pointer;\n",
              "      display: none;\n",
              "      fill: #1967D2;\n",
              "      height: 32px;\n",
              "      padding: 0 0 0 0;\n",
              "      width: 32px;\n",
              "    }\n",
              "\n",
              "    .colab-df-convert:hover {\n",
              "      background-color: #E2EBFA;\n",
              "      box-shadow: 0px 1px 2px rgba(60, 64, 67, 0.3), 0px 1px 3px 1px rgba(60, 64, 67, 0.15);\n",
              "      fill: #174EA6;\n",
              "    }\n",
              "\n",
              "    [theme=dark] .colab-df-convert {\n",
              "      background-color: #3B4455;\n",
              "      fill: #D2E3FC;\n",
              "    }\n",
              "\n",
              "    [theme=dark] .colab-df-convert:hover {\n",
              "      background-color: #434B5C;\n",
              "      box-shadow: 0px 1px 3px 1px rgba(0, 0, 0, 0.15);\n",
              "      filter: drop-shadow(0px 1px 2px rgba(0, 0, 0, 0.3));\n",
              "      fill: #FFFFFF;\n",
              "    }\n",
              "  </style>\n",
              "\n",
              "      <script>\n",
              "        const buttonEl =\n",
              "          document.querySelector('#df-63bec4ff-b4d0-4491-a8ed-3a08082309a5 button.colab-df-convert');\n",
              "        buttonEl.style.display =\n",
              "          google.colab.kernel.accessAllowed ? 'block' : 'none';\n",
              "\n",
              "        async function convertToInteractive(key) {\n",
              "          const element = document.querySelector('#df-63bec4ff-b4d0-4491-a8ed-3a08082309a5');\n",
              "          const dataTable =\n",
              "            await google.colab.kernel.invokeFunction('convertToInteractive',\n",
              "                                                     [key], {});\n",
              "          if (!dataTable) return;\n",
              "\n",
              "          const docLinkHtml = 'Like what you see? Visit the ' +\n",
              "            '<a target=\"_blank\" href=https://colab.research.google.com/notebooks/data_table.ipynb>data table notebook</a>'\n",
              "            + ' to learn more about interactive tables.';\n",
              "          element.innerHTML = '';\n",
              "          dataTable['output_type'] = 'display_data';\n",
              "          await google.colab.output.renderOutput(dataTable, element);\n",
              "          const docLink = document.createElement('div');\n",
              "          docLink.innerHTML = docLinkHtml;\n",
              "          element.appendChild(docLink);\n",
              "        }\n",
              "      </script>\n",
              "    </div>\n",
              "  </div>\n",
              "  "
            ]
          },
          "metadata": {},
          "execution_count": 61
        }
      ]
    },
    {
      "cell_type": "code",
      "source": [
        "df.to_csv('/content/drive/MyDrive/MLP_top10_of_each_normalfile.csv')"
      ],
      "metadata": {
        "id": "OgypaVUtfFHD"
      },
      "execution_count": 62,
      "outputs": []
    },
    {
      "cell_type": "code",
      "source": [
        "freq = {}\n",
        "for column in df.columns:\n",
        "  for feature in df[column]:\n",
        "    if feature in freq:\n",
        "      continue\n",
        "    else:\n",
        "      count = sum(df[column_2] == feature for column_2 in df.columns)\n",
        "      freq[feature] = count.sum()\n",
        "      print(freq[feature])"
      ],
      "metadata": {
        "colab": {
          "base_uri": "https://localhost:8080/"
        },
        "id": "LAINpgS9ikN8",
        "outputId": "a9ce363b-be22-48cc-f970-7235846894a1"
      },
      "execution_count": 63,
      "outputs": [
        {
          "output_type": "stream",
          "name": "stdout",
          "text": [
            "340\n",
            "684\n",
            "337\n",
            "293\n",
            "383\n",
            "462\n",
            "242\n",
            "147\n",
            "316\n",
            "535\n",
            "604\n",
            "76\n",
            "196\n",
            "248\n",
            "571\n",
            "169\n",
            "178\n",
            "103\n",
            "535\n",
            "181\n",
            "178\n",
            "162\n",
            "162\n",
            "32\n",
            "187\n",
            "159\n",
            "173\n",
            "4\n",
            "155\n",
            "206\n",
            "176\n",
            "358\n",
            "145\n",
            "444\n",
            "364\n",
            "182\n",
            "171\n",
            "181\n",
            "200\n",
            "268\n",
            "185\n",
            "253\n",
            "188\n",
            "219\n",
            "141\n",
            "201\n",
            "219\n",
            "181\n",
            "191\n",
            "273\n",
            "329\n",
            "169\n",
            "324\n",
            "144\n",
            "187\n",
            "198\n",
            "172\n",
            "183\n",
            "260\n",
            "143\n",
            "75\n",
            "110\n",
            "88\n",
            "52\n",
            "4\n",
            "4\n"
          ]
        }
      ]
    },
    {
      "cell_type": "code",
      "source": [
        "len(freq)"
      ],
      "metadata": {
        "colab": {
          "base_uri": "https://localhost:8080/"
        },
        "id": "7SNJ0BhvVZKd",
        "outputId": "7ebd1770-1303-48e5-9ecf-a3bcf156ef1a"
      },
      "execution_count": 64,
      "outputs": [
        {
          "output_type": "execute_result",
          "data": {
            "text/plain": [
              "66"
            ]
          },
          "metadata": {},
          "execution_count": 64
        }
      ]
    },
    {
      "cell_type": "code",
      "source": [
        "freq_df = pd.DataFrame(list(freq.items()), columns=['Feature', 'Frequency'])\n",
        "freq_df.head()"
      ],
      "metadata": {
        "colab": {
          "base_uri": "https://localhost:8080/",
          "height": 206
        },
        "id": "v_oz2bDBnGu7",
        "outputId": "ba43af62-cac8-4f45-8045-f00b6e507e24"
      },
      "execution_count": 65,
      "outputs": [
        {
          "output_type": "execute_result",
          "data": {
            "text/plain": [
              "             Feature  Frequency\n",
              "0        Bwd IAT Max        340\n",
              "1  Init Bwd Win Byts        684\n",
              "2       Tot Bwd Pkts        337\n",
              "3       SYN Flag Cnt        293\n",
              "4        Pkt Len Min        383"
            ],
            "text/html": [
              "\n",
              "  <div id=\"df-7c30ebf4-224a-451d-81b5-4112f997428f\">\n",
              "    <div class=\"colab-df-container\">\n",
              "      <div>\n",
              "<style scoped>\n",
              "    .dataframe tbody tr th:only-of-type {\n",
              "        vertical-align: middle;\n",
              "    }\n",
              "\n",
              "    .dataframe tbody tr th {\n",
              "        vertical-align: top;\n",
              "    }\n",
              "\n",
              "    .dataframe thead th {\n",
              "        text-align: right;\n",
              "    }\n",
              "</style>\n",
              "<table border=\"1\" class=\"dataframe\">\n",
              "  <thead>\n",
              "    <tr style=\"text-align: right;\">\n",
              "      <th></th>\n",
              "      <th>Feature</th>\n",
              "      <th>Frequency</th>\n",
              "    </tr>\n",
              "  </thead>\n",
              "  <tbody>\n",
              "    <tr>\n",
              "      <th>0</th>\n",
              "      <td>Bwd IAT Max</td>\n",
              "      <td>340</td>\n",
              "    </tr>\n",
              "    <tr>\n",
              "      <th>1</th>\n",
              "      <td>Init Bwd Win Byts</td>\n",
              "      <td>684</td>\n",
              "    </tr>\n",
              "    <tr>\n",
              "      <th>2</th>\n",
              "      <td>Tot Bwd Pkts</td>\n",
              "      <td>337</td>\n",
              "    </tr>\n",
              "    <tr>\n",
              "      <th>3</th>\n",
              "      <td>SYN Flag Cnt</td>\n",
              "      <td>293</td>\n",
              "    </tr>\n",
              "    <tr>\n",
              "      <th>4</th>\n",
              "      <td>Pkt Len Min</td>\n",
              "      <td>383</td>\n",
              "    </tr>\n",
              "  </tbody>\n",
              "</table>\n",
              "</div>\n",
              "      <button class=\"colab-df-convert\" onclick=\"convertToInteractive('df-7c30ebf4-224a-451d-81b5-4112f997428f')\"\n",
              "              title=\"Convert this dataframe to an interactive table.\"\n",
              "              style=\"display:none;\">\n",
              "        \n",
              "  <svg xmlns=\"http://www.w3.org/2000/svg\" height=\"24px\"viewBox=\"0 0 24 24\"\n",
              "       width=\"24px\">\n",
              "    <path d=\"M0 0h24v24H0V0z\" fill=\"none\"/>\n",
              "    <path d=\"M18.56 5.44l.94 2.06.94-2.06 2.06-.94-2.06-.94-.94-2.06-.94 2.06-2.06.94zm-11 1L8.5 8.5l.94-2.06 2.06-.94-2.06-.94L8.5 2.5l-.94 2.06-2.06.94zm10 10l.94 2.06.94-2.06 2.06-.94-2.06-.94-.94-2.06-.94 2.06-2.06.94z\"/><path d=\"M17.41 7.96l-1.37-1.37c-.4-.4-.92-.59-1.43-.59-.52 0-1.04.2-1.43.59L10.3 9.45l-7.72 7.72c-.78.78-.78 2.05 0 2.83L4 21.41c.39.39.9.59 1.41.59.51 0 1.02-.2 1.41-.59l7.78-7.78 2.81-2.81c.8-.78.8-2.07 0-2.86zM5.41 20L4 18.59l7.72-7.72 1.47 1.35L5.41 20z\"/>\n",
              "  </svg>\n",
              "      </button>\n",
              "      \n",
              "  <style>\n",
              "    .colab-df-container {\n",
              "      display:flex;\n",
              "      flex-wrap:wrap;\n",
              "      gap: 12px;\n",
              "    }\n",
              "\n",
              "    .colab-df-convert {\n",
              "      background-color: #E8F0FE;\n",
              "      border: none;\n",
              "      border-radius: 50%;\n",
              "      cursor: pointer;\n",
              "      display: none;\n",
              "      fill: #1967D2;\n",
              "      height: 32px;\n",
              "      padding: 0 0 0 0;\n",
              "      width: 32px;\n",
              "    }\n",
              "\n",
              "    .colab-df-convert:hover {\n",
              "      background-color: #E2EBFA;\n",
              "      box-shadow: 0px 1px 2px rgba(60, 64, 67, 0.3), 0px 1px 3px 1px rgba(60, 64, 67, 0.15);\n",
              "      fill: #174EA6;\n",
              "    }\n",
              "\n",
              "    [theme=dark] .colab-df-convert {\n",
              "      background-color: #3B4455;\n",
              "      fill: #D2E3FC;\n",
              "    }\n",
              "\n",
              "    [theme=dark] .colab-df-convert:hover {\n",
              "      background-color: #434B5C;\n",
              "      box-shadow: 0px 1px 3px 1px rgba(0, 0, 0, 0.15);\n",
              "      filter: drop-shadow(0px 1px 2px rgba(0, 0, 0, 0.3));\n",
              "      fill: #FFFFFF;\n",
              "    }\n",
              "  </style>\n",
              "\n",
              "      <script>\n",
              "        const buttonEl =\n",
              "          document.querySelector('#df-7c30ebf4-224a-451d-81b5-4112f997428f button.colab-df-convert');\n",
              "        buttonEl.style.display =\n",
              "          google.colab.kernel.accessAllowed ? 'block' : 'none';\n",
              "\n",
              "        async function convertToInteractive(key) {\n",
              "          const element = document.querySelector('#df-7c30ebf4-224a-451d-81b5-4112f997428f');\n",
              "          const dataTable =\n",
              "            await google.colab.kernel.invokeFunction('convertToInteractive',\n",
              "                                                     [key], {});\n",
              "          if (!dataTable) return;\n",
              "\n",
              "          const docLinkHtml = 'Like what you see? Visit the ' +\n",
              "            '<a target=\"_blank\" href=https://colab.research.google.com/notebooks/data_table.ipynb>data table notebook</a>'\n",
              "            + ' to learn more about interactive tables.';\n",
              "          element.innerHTML = '';\n",
              "          dataTable['output_type'] = 'display_data';\n",
              "          await google.colab.output.renderOutput(dataTable, element);\n",
              "          const docLink = document.createElement('div');\n",
              "          docLink.innerHTML = docLinkHtml;\n",
              "          element.appendChild(docLink);\n",
              "        }\n",
              "      </script>\n",
              "    </div>\n",
              "  </div>\n",
              "  "
            ]
          },
          "metadata": {},
          "execution_count": 65
        }
      ]
    },
    {
      "cell_type": "code",
      "source": [
        "freq_df.sort_values(by=['Frequency'], ascending=False, inplace=True)\n",
        "freq_df.info()"
      ],
      "metadata": {
        "colab": {
          "base_uri": "https://localhost:8080/"
        },
        "id": "add06FW7nZhH",
        "outputId": "cc2a6a26-6bec-431f-e1e6-c80f7542ba76"
      },
      "execution_count": 66,
      "outputs": [
        {
          "output_type": "stream",
          "name": "stdout",
          "text": [
            "<class 'pandas.core.frame.DataFrame'>\n",
            "Int64Index: 66 entries, 1 to 65\n",
            "Data columns (total 2 columns):\n",
            " #   Column     Non-Null Count  Dtype \n",
            "---  ------     --------------  ----- \n",
            " 0   Feature    66 non-null     object\n",
            " 1   Frequency  66 non-null     int64 \n",
            "dtypes: int64(1), object(1)\n",
            "memory usage: 1.5+ KB\n"
          ]
        }
      ]
    },
    {
      "cell_type": "code",
      "source": [
        "freq_df.head(24)"
      ],
      "metadata": {
        "colab": {
          "base_uri": "https://localhost:8080/",
          "height": 801
        },
        "id": "jLV5VBrguBWd",
        "outputId": "53ae39b4-d9e8-4d35-b934-7df741128b6d"
      },
      "execution_count": 67,
      "outputs": [
        {
          "output_type": "execute_result",
          "data": {
            "text/plain": [
              "              Feature  Frequency\n",
              "1   Init Bwd Win Byts        684\n",
              "10           Idle Max        604\n",
              "14    Bwd Pkt Len Max        571\n",
              "18          Idle Mean        535\n",
              "9            Idle Min        535\n",
              "5    Bwd Pkt Len Mean        462\n",
              "33    Bwd Pkt Len Std        444\n",
              "4         Pkt Len Min        383\n",
              "34       Tot Fwd Pkts        364\n",
              "31   Bwd Seg Size Avg        358\n",
              "0         Bwd IAT Max        340\n",
              "2        Tot Bwd Pkts        337\n",
              "50    TotLen Fwd Pkts        329\n",
              "52    TotLen Bwd Pkts        324\n",
              "8         Bwd IAT Tot        316\n",
              "3        SYN Flag Cnt        293\n",
              "49        Flow Pkts/s        273\n",
              "39        Bwd IAT Std        268\n",
              "58    Bwd Pkt Len Min        260\n",
              "41    Fwd Pkt Len Min        253\n",
              "13      Flow Duration        248\n",
              "6       Down/Up Ratio        242\n",
              "46       Flow IAT Min        219\n",
              "43    Fwd Pkt Len Std        219"
            ],
            "text/html": [
              "\n",
              "  <div id=\"df-7ae6c747-8eea-431e-bf2d-d39f97466607\">\n",
              "    <div class=\"colab-df-container\">\n",
              "      <div>\n",
              "<style scoped>\n",
              "    .dataframe tbody tr th:only-of-type {\n",
              "        vertical-align: middle;\n",
              "    }\n",
              "\n",
              "    .dataframe tbody tr th {\n",
              "        vertical-align: top;\n",
              "    }\n",
              "\n",
              "    .dataframe thead th {\n",
              "        text-align: right;\n",
              "    }\n",
              "</style>\n",
              "<table border=\"1\" class=\"dataframe\">\n",
              "  <thead>\n",
              "    <tr style=\"text-align: right;\">\n",
              "      <th></th>\n",
              "      <th>Feature</th>\n",
              "      <th>Frequency</th>\n",
              "    </tr>\n",
              "  </thead>\n",
              "  <tbody>\n",
              "    <tr>\n",
              "      <th>1</th>\n",
              "      <td>Init Bwd Win Byts</td>\n",
              "      <td>684</td>\n",
              "    </tr>\n",
              "    <tr>\n",
              "      <th>10</th>\n",
              "      <td>Idle Max</td>\n",
              "      <td>604</td>\n",
              "    </tr>\n",
              "    <tr>\n",
              "      <th>14</th>\n",
              "      <td>Bwd Pkt Len Max</td>\n",
              "      <td>571</td>\n",
              "    </tr>\n",
              "    <tr>\n",
              "      <th>18</th>\n",
              "      <td>Idle Mean</td>\n",
              "      <td>535</td>\n",
              "    </tr>\n",
              "    <tr>\n",
              "      <th>9</th>\n",
              "      <td>Idle Min</td>\n",
              "      <td>535</td>\n",
              "    </tr>\n",
              "    <tr>\n",
              "      <th>5</th>\n",
              "      <td>Bwd Pkt Len Mean</td>\n",
              "      <td>462</td>\n",
              "    </tr>\n",
              "    <tr>\n",
              "      <th>33</th>\n",
              "      <td>Bwd Pkt Len Std</td>\n",
              "      <td>444</td>\n",
              "    </tr>\n",
              "    <tr>\n",
              "      <th>4</th>\n",
              "      <td>Pkt Len Min</td>\n",
              "      <td>383</td>\n",
              "    </tr>\n",
              "    <tr>\n",
              "      <th>34</th>\n",
              "      <td>Tot Fwd Pkts</td>\n",
              "      <td>364</td>\n",
              "    </tr>\n",
              "    <tr>\n",
              "      <th>31</th>\n",
              "      <td>Bwd Seg Size Avg</td>\n",
              "      <td>358</td>\n",
              "    </tr>\n",
              "    <tr>\n",
              "      <th>0</th>\n",
              "      <td>Bwd IAT Max</td>\n",
              "      <td>340</td>\n",
              "    </tr>\n",
              "    <tr>\n",
              "      <th>2</th>\n",
              "      <td>Tot Bwd Pkts</td>\n",
              "      <td>337</td>\n",
              "    </tr>\n",
              "    <tr>\n",
              "      <th>50</th>\n",
              "      <td>TotLen Fwd Pkts</td>\n",
              "      <td>329</td>\n",
              "    </tr>\n",
              "    <tr>\n",
              "      <th>52</th>\n",
              "      <td>TotLen Bwd Pkts</td>\n",
              "      <td>324</td>\n",
              "    </tr>\n",
              "    <tr>\n",
              "      <th>8</th>\n",
              "      <td>Bwd IAT Tot</td>\n",
              "      <td>316</td>\n",
              "    </tr>\n",
              "    <tr>\n",
              "      <th>3</th>\n",
              "      <td>SYN Flag Cnt</td>\n",
              "      <td>293</td>\n",
              "    </tr>\n",
              "    <tr>\n",
              "      <th>49</th>\n",
              "      <td>Flow Pkts/s</td>\n",
              "      <td>273</td>\n",
              "    </tr>\n",
              "    <tr>\n",
              "      <th>39</th>\n",
              "      <td>Bwd IAT Std</td>\n",
              "      <td>268</td>\n",
              "    </tr>\n",
              "    <tr>\n",
              "      <th>58</th>\n",
              "      <td>Bwd Pkt Len Min</td>\n",
              "      <td>260</td>\n",
              "    </tr>\n",
              "    <tr>\n",
              "      <th>41</th>\n",
              "      <td>Fwd Pkt Len Min</td>\n",
              "      <td>253</td>\n",
              "    </tr>\n",
              "    <tr>\n",
              "      <th>13</th>\n",
              "      <td>Flow Duration</td>\n",
              "      <td>248</td>\n",
              "    </tr>\n",
              "    <tr>\n",
              "      <th>6</th>\n",
              "      <td>Down/Up Ratio</td>\n",
              "      <td>242</td>\n",
              "    </tr>\n",
              "    <tr>\n",
              "      <th>46</th>\n",
              "      <td>Flow IAT Min</td>\n",
              "      <td>219</td>\n",
              "    </tr>\n",
              "    <tr>\n",
              "      <th>43</th>\n",
              "      <td>Fwd Pkt Len Std</td>\n",
              "      <td>219</td>\n",
              "    </tr>\n",
              "  </tbody>\n",
              "</table>\n",
              "</div>\n",
              "      <button class=\"colab-df-convert\" onclick=\"convertToInteractive('df-7ae6c747-8eea-431e-bf2d-d39f97466607')\"\n",
              "              title=\"Convert this dataframe to an interactive table.\"\n",
              "              style=\"display:none;\">\n",
              "        \n",
              "  <svg xmlns=\"http://www.w3.org/2000/svg\" height=\"24px\"viewBox=\"0 0 24 24\"\n",
              "       width=\"24px\">\n",
              "    <path d=\"M0 0h24v24H0V0z\" fill=\"none\"/>\n",
              "    <path d=\"M18.56 5.44l.94 2.06.94-2.06 2.06-.94-2.06-.94-.94-2.06-.94 2.06-2.06.94zm-11 1L8.5 8.5l.94-2.06 2.06-.94-2.06-.94L8.5 2.5l-.94 2.06-2.06.94zm10 10l.94 2.06.94-2.06 2.06-.94-2.06-.94-.94-2.06-.94 2.06-2.06.94z\"/><path d=\"M17.41 7.96l-1.37-1.37c-.4-.4-.92-.59-1.43-.59-.52 0-1.04.2-1.43.59L10.3 9.45l-7.72 7.72c-.78.78-.78 2.05 0 2.83L4 21.41c.39.39.9.59 1.41.59.51 0 1.02-.2 1.41-.59l7.78-7.78 2.81-2.81c.8-.78.8-2.07 0-2.86zM5.41 20L4 18.59l7.72-7.72 1.47 1.35L5.41 20z\"/>\n",
              "  </svg>\n",
              "      </button>\n",
              "      \n",
              "  <style>\n",
              "    .colab-df-container {\n",
              "      display:flex;\n",
              "      flex-wrap:wrap;\n",
              "      gap: 12px;\n",
              "    }\n",
              "\n",
              "    .colab-df-convert {\n",
              "      background-color: #E8F0FE;\n",
              "      border: none;\n",
              "      border-radius: 50%;\n",
              "      cursor: pointer;\n",
              "      display: none;\n",
              "      fill: #1967D2;\n",
              "      height: 32px;\n",
              "      padding: 0 0 0 0;\n",
              "      width: 32px;\n",
              "    }\n",
              "\n",
              "    .colab-df-convert:hover {\n",
              "      background-color: #E2EBFA;\n",
              "      box-shadow: 0px 1px 2px rgba(60, 64, 67, 0.3), 0px 1px 3px 1px rgba(60, 64, 67, 0.15);\n",
              "      fill: #174EA6;\n",
              "    }\n",
              "\n",
              "    [theme=dark] .colab-df-convert {\n",
              "      background-color: #3B4455;\n",
              "      fill: #D2E3FC;\n",
              "    }\n",
              "\n",
              "    [theme=dark] .colab-df-convert:hover {\n",
              "      background-color: #434B5C;\n",
              "      box-shadow: 0px 1px 3px 1px rgba(0, 0, 0, 0.15);\n",
              "      filter: drop-shadow(0px 1px 2px rgba(0, 0, 0, 0.3));\n",
              "      fill: #FFFFFF;\n",
              "    }\n",
              "  </style>\n",
              "\n",
              "      <script>\n",
              "        const buttonEl =\n",
              "          document.querySelector('#df-7ae6c747-8eea-431e-bf2d-d39f97466607 button.colab-df-convert');\n",
              "        buttonEl.style.display =\n",
              "          google.colab.kernel.accessAllowed ? 'block' : 'none';\n",
              "\n",
              "        async function convertToInteractive(key) {\n",
              "          const element = document.querySelector('#df-7ae6c747-8eea-431e-bf2d-d39f97466607');\n",
              "          const dataTable =\n",
              "            await google.colab.kernel.invokeFunction('convertToInteractive',\n",
              "                                                     [key], {});\n",
              "          if (!dataTable) return;\n",
              "\n",
              "          const docLinkHtml = 'Like what you see? Visit the ' +\n",
              "            '<a target=\"_blank\" href=https://colab.research.google.com/notebooks/data_table.ipynb>data table notebook</a>'\n",
              "            + ' to learn more about interactive tables.';\n",
              "          element.innerHTML = '';\n",
              "          dataTable['output_type'] = 'display_data';\n",
              "          await google.colab.output.renderOutput(dataTable, element);\n",
              "          const docLink = document.createElement('div');\n",
              "          docLink.innerHTML = docLinkHtml;\n",
              "          element.appendChild(docLink);\n",
              "        }\n",
              "      </script>\n",
              "    </div>\n",
              "  </div>\n",
              "  "
            ]
          },
          "metadata": {},
          "execution_count": 67
        }
      ]
    },
    {
      "cell_type": "code",
      "source": [
        "freq_df[:38].to_csv('/content/drive/MyDrive/MLP_top24_InSDN.csv', index=False)"
      ],
      "metadata": {
        "id": "YU2TkWAjnl7s"
      },
      "execution_count": 68,
      "outputs": []
    },
    {
      "cell_type": "markdown",
      "source": [
        "# Detect normal samples"
      ],
      "metadata": {
        "id": "Csd7930IX6WM"
      }
    },
    {
      "cell_type": "code",
      "source": [
        "whitelist = freq_df.iloc[:, 0][:38].tolist()\n",
        "print(whitelist)"
      ],
      "metadata": {
        "colab": {
          "base_uri": "https://localhost:8080/"
        },
        "id": "RC9AnuTcv8ez",
        "outputId": "0ca24cb2-45dc-4247-f076-8d10fbd21cd7"
      },
      "execution_count": 69,
      "outputs": [
        {
          "output_type": "stream",
          "name": "stdout",
          "text": [
            "['Init Bwd Win Byts', 'Idle Max', 'Bwd Pkt Len Max', 'Idle Mean', 'Idle Min', 'Bwd Pkt Len Mean', 'Bwd Pkt Len Std', 'Pkt Len Min', 'Tot Fwd Pkts', 'Bwd Seg Size Avg', 'Bwd IAT Max', 'Tot Bwd Pkts', 'TotLen Fwd Pkts', 'TotLen Bwd Pkts', 'Bwd IAT Tot', 'SYN Flag Cnt', 'Flow Pkts/s', 'Bwd IAT Std', 'Bwd Pkt Len Min', 'Fwd Pkt Len Min', 'Flow Duration', 'Down/Up Ratio', 'Flow IAT Min', 'Fwd Pkt Len Std', 'Fwd Pkts/s', 'Active Min', 'Fwd IAT Std', 'Flow IAT Mean', 'Fwd IAT Mean', 'Bwd Header Len', 'Pkt Len Var', 'Active Mean', 'Fwd IAT Tot', 'Active Max', 'Idle Std', 'Active Std', 'Flow IAT Std', 'Subflow Bwd Pkts']\n"
          ]
        }
      ]
    },
    {
      "cell_type": "code",
      "source": [
        "alert = []\n",
        "\n",
        "# Iterate over each key-value pair in the data_dict\n",
        "for key, value in data_dict.items():\n",
        "    # Check if there are one feature is not in the whitelist\n",
        "    for string in value:\n",
        "      if string not in whitelist:\n",
        "        alert.append(key)\n",
        "        break\n",
        "\n",
        "# Print the alert dictionary\n",
        "print(\"Alert list length:\" + str(len(alert)))"
      ],
      "metadata": {
        "colab": {
          "base_uri": "https://localhost:8080/"
        },
        "id": "P-IQyZMYYLzp",
        "outputId": "1379d73b-60ed-4f19-c694-62172612f5ee"
      },
      "execution_count": 70,
      "outputs": [
        {
          "output_type": "stream",
          "name": "stdout",
          "text": [
            "Alert list length:1308\n"
          ]
        }
      ]
    },
    {
      "cell_type": "code",
      "source": [
        "whitelist = freq_df.iloc[:, 0][:24].tolist()\n",
        "print(whitelist)"
      ],
      "metadata": {
        "colab": {
          "base_uri": "https://localhost:8080/"
        },
        "id": "b9ZX1XMcYssx",
        "outputId": "c27f1369-2506-424d-f45b-b5ea21655f51"
      },
      "execution_count": 71,
      "outputs": [
        {
          "output_type": "stream",
          "name": "stdout",
          "text": [
            "['Init Bwd Win Byts', 'Idle Max', 'Bwd Pkt Len Max', 'Idle Mean', 'Idle Min', 'Bwd Pkt Len Mean', 'Bwd Pkt Len Std', 'Pkt Len Min', 'Tot Fwd Pkts', 'Bwd Seg Size Avg', 'Bwd IAT Max', 'Tot Bwd Pkts', 'TotLen Fwd Pkts', 'TotLen Bwd Pkts', 'Bwd IAT Tot', 'SYN Flag Cnt', 'Flow Pkts/s', 'Bwd IAT Std', 'Bwd Pkt Len Min', 'Fwd Pkt Len Min', 'Flow Duration', 'Down/Up Ratio', 'Flow IAT Min', 'Fwd Pkt Len Std']\n"
          ]
        }
      ]
    },
    {
      "cell_type": "code",
      "source": [
        "alert = []\n",
        "\n",
        "# Iterate over each key-value pair in the data_dict\n",
        "for key, value in data_dict.items():\n",
        "    # Check if there are one feature is not in the whitelist\n",
        "    for string in value:\n",
        "      if string not in whitelist:\n",
        "        alert.append(key)\n",
        "        break\n",
        "\n",
        "# Print the alert dictionary\n",
        "print(\"Alert list length:\" + str(len(alert)))"
      ],
      "metadata": {
        "colab": {
          "base_uri": "https://localhost:8080/"
        },
        "id": "DuQ1OUp6Yrgh",
        "outputId": "9d49fc25-de11-477d-d938-49efbd87c143"
      },
      "execution_count": 72,
      "outputs": [
        {
          "output_type": "stream",
          "name": "stdout",
          "text": [
            "Alert list length:1482\n"
          ]
        }
      ]
    },
    {
      "cell_type": "markdown",
      "source": [
        "## False positive of XAI on normal samples of trainset:\n",
        "top 38: 1308/1500\n",
        "\n",
        "top 24: 1482/1500"
      ],
      "metadata": {
        "id": "kykod9kUylxB"
      }
    }
  ],
  "metadata": {
    "colab": {
      "provenance": [],
      "collapsed_sections": [
        "JyjDe5Kxredo"
      ]
    },
    "kernelspec": {
      "display_name": "Python 3",
      "name": "python3"
    },
    "language_info": {
      "name": "python"
    },
    "widgets": {
      "application/vnd.jupyter.widget-state+json": {
        "b242e9718a7c4c3291f74e1003a42faf": {
          "model_module": "@jupyter-widgets/controls",
          "model_name": "HBoxModel",
          "model_module_version": "1.5.0",
          "state": {
            "_dom_classes": [],
            "_model_module": "@jupyter-widgets/controls",
            "_model_module_version": "1.5.0",
            "_model_name": "HBoxModel",
            "_view_count": null,
            "_view_module": "@jupyter-widgets/controls",
            "_view_module_version": "1.5.0",
            "_view_name": "HBoxView",
            "box_style": "",
            "children": [
              "IPY_MODEL_043be753688d4ae0bd85826dea13d520",
              "IPY_MODEL_7a6508d2873043889b8549d08f8d8476",
              "IPY_MODEL_c203832534a84281bb2f4b59149d89df"
            ],
            "layout": "IPY_MODEL_10259c9a5db947b2b0554c626522db2a"
          }
        },
        "043be753688d4ae0bd85826dea13d520": {
          "model_module": "@jupyter-widgets/controls",
          "model_name": "HTMLModel",
          "model_module_version": "1.5.0",
          "state": {
            "_dom_classes": [],
            "_model_module": "@jupyter-widgets/controls",
            "_model_module_version": "1.5.0",
            "_model_name": "HTMLModel",
            "_view_count": null,
            "_view_module": "@jupyter-widgets/controls",
            "_view_module_version": "1.5.0",
            "_view_name": "HTMLView",
            "description": "",
            "description_tooltip": null,
            "layout": "IPY_MODEL_0c36f517de454f1688757b42d3253a2e",
            "placeholder": "​",
            "style": "IPY_MODEL_39bf4bd200a84e588e42bc5751339c61",
            "value": "100%"
          }
        },
        "7a6508d2873043889b8549d08f8d8476": {
          "model_module": "@jupyter-widgets/controls",
          "model_name": "FloatProgressModel",
          "model_module_version": "1.5.0",
          "state": {
            "_dom_classes": [],
            "_model_module": "@jupyter-widgets/controls",
            "_model_module_version": "1.5.0",
            "_model_name": "FloatProgressModel",
            "_view_count": null,
            "_view_module": "@jupyter-widgets/controls",
            "_view_module_version": "1.5.0",
            "_view_name": "ProgressView",
            "bar_style": "success",
            "description": "",
            "description_tooltip": null,
            "layout": "IPY_MODEL_128be1bc391a4cc78cffb7f71e05ef80",
            "max": 1500,
            "min": 0,
            "orientation": "horizontal",
            "style": "IPY_MODEL_ed5fdb81e465484385dda5c03e9b7cf5",
            "value": 1500
          }
        },
        "c203832534a84281bb2f4b59149d89df": {
          "model_module": "@jupyter-widgets/controls",
          "model_name": "HTMLModel",
          "model_module_version": "1.5.0",
          "state": {
            "_dom_classes": [],
            "_model_module": "@jupyter-widgets/controls",
            "_model_module_version": "1.5.0",
            "_model_name": "HTMLModel",
            "_view_count": null,
            "_view_module": "@jupyter-widgets/controls",
            "_view_module_version": "1.5.0",
            "_view_name": "HTMLView",
            "description": "",
            "description_tooltip": null,
            "layout": "IPY_MODEL_4aa090aec301477a9bbb14ea5d36d5f8",
            "placeholder": "​",
            "style": "IPY_MODEL_1d1ffb175842456fbf8235cc1f5429b8",
            "value": " 1500/1500 [2:07:01&lt;00:00,  5.23s/it]"
          }
        },
        "10259c9a5db947b2b0554c626522db2a": {
          "model_module": "@jupyter-widgets/base",
          "model_name": "LayoutModel",
          "model_module_version": "1.2.0",
          "state": {
            "_model_module": "@jupyter-widgets/base",
            "_model_module_version": "1.2.0",
            "_model_name": "LayoutModel",
            "_view_count": null,
            "_view_module": "@jupyter-widgets/base",
            "_view_module_version": "1.2.0",
            "_view_name": "LayoutView",
            "align_content": null,
            "align_items": null,
            "align_self": null,
            "border": null,
            "bottom": null,
            "display": null,
            "flex": null,
            "flex_flow": null,
            "grid_area": null,
            "grid_auto_columns": null,
            "grid_auto_flow": null,
            "grid_auto_rows": null,
            "grid_column": null,
            "grid_gap": null,
            "grid_row": null,
            "grid_template_areas": null,
            "grid_template_columns": null,
            "grid_template_rows": null,
            "height": null,
            "justify_content": null,
            "justify_items": null,
            "left": null,
            "margin": null,
            "max_height": null,
            "max_width": null,
            "min_height": null,
            "min_width": null,
            "object_fit": null,
            "object_position": null,
            "order": null,
            "overflow": null,
            "overflow_x": null,
            "overflow_y": null,
            "padding": null,
            "right": null,
            "top": null,
            "visibility": null,
            "width": null
          }
        },
        "0c36f517de454f1688757b42d3253a2e": {
          "model_module": "@jupyter-widgets/base",
          "model_name": "LayoutModel",
          "model_module_version": "1.2.0",
          "state": {
            "_model_module": "@jupyter-widgets/base",
            "_model_module_version": "1.2.0",
            "_model_name": "LayoutModel",
            "_view_count": null,
            "_view_module": "@jupyter-widgets/base",
            "_view_module_version": "1.2.0",
            "_view_name": "LayoutView",
            "align_content": null,
            "align_items": null,
            "align_self": null,
            "border": null,
            "bottom": null,
            "display": null,
            "flex": null,
            "flex_flow": null,
            "grid_area": null,
            "grid_auto_columns": null,
            "grid_auto_flow": null,
            "grid_auto_rows": null,
            "grid_column": null,
            "grid_gap": null,
            "grid_row": null,
            "grid_template_areas": null,
            "grid_template_columns": null,
            "grid_template_rows": null,
            "height": null,
            "justify_content": null,
            "justify_items": null,
            "left": null,
            "margin": null,
            "max_height": null,
            "max_width": null,
            "min_height": null,
            "min_width": null,
            "object_fit": null,
            "object_position": null,
            "order": null,
            "overflow": null,
            "overflow_x": null,
            "overflow_y": null,
            "padding": null,
            "right": null,
            "top": null,
            "visibility": null,
            "width": null
          }
        },
        "39bf4bd200a84e588e42bc5751339c61": {
          "model_module": "@jupyter-widgets/controls",
          "model_name": "DescriptionStyleModel",
          "model_module_version": "1.5.0",
          "state": {
            "_model_module": "@jupyter-widgets/controls",
            "_model_module_version": "1.5.0",
            "_model_name": "DescriptionStyleModel",
            "_view_count": null,
            "_view_module": "@jupyter-widgets/base",
            "_view_module_version": "1.2.0",
            "_view_name": "StyleView",
            "description_width": ""
          }
        },
        "128be1bc391a4cc78cffb7f71e05ef80": {
          "model_module": "@jupyter-widgets/base",
          "model_name": "LayoutModel",
          "model_module_version": "1.2.0",
          "state": {
            "_model_module": "@jupyter-widgets/base",
            "_model_module_version": "1.2.0",
            "_model_name": "LayoutModel",
            "_view_count": null,
            "_view_module": "@jupyter-widgets/base",
            "_view_module_version": "1.2.0",
            "_view_name": "LayoutView",
            "align_content": null,
            "align_items": null,
            "align_self": null,
            "border": null,
            "bottom": null,
            "display": null,
            "flex": null,
            "flex_flow": null,
            "grid_area": null,
            "grid_auto_columns": null,
            "grid_auto_flow": null,
            "grid_auto_rows": null,
            "grid_column": null,
            "grid_gap": null,
            "grid_row": null,
            "grid_template_areas": null,
            "grid_template_columns": null,
            "grid_template_rows": null,
            "height": null,
            "justify_content": null,
            "justify_items": null,
            "left": null,
            "margin": null,
            "max_height": null,
            "max_width": null,
            "min_height": null,
            "min_width": null,
            "object_fit": null,
            "object_position": null,
            "order": null,
            "overflow": null,
            "overflow_x": null,
            "overflow_y": null,
            "padding": null,
            "right": null,
            "top": null,
            "visibility": null,
            "width": null
          }
        },
        "ed5fdb81e465484385dda5c03e9b7cf5": {
          "model_module": "@jupyter-widgets/controls",
          "model_name": "ProgressStyleModel",
          "model_module_version": "1.5.0",
          "state": {
            "_model_module": "@jupyter-widgets/controls",
            "_model_module_version": "1.5.0",
            "_model_name": "ProgressStyleModel",
            "_view_count": null,
            "_view_module": "@jupyter-widgets/base",
            "_view_module_version": "1.2.0",
            "_view_name": "StyleView",
            "bar_color": null,
            "description_width": ""
          }
        },
        "4aa090aec301477a9bbb14ea5d36d5f8": {
          "model_module": "@jupyter-widgets/base",
          "model_name": "LayoutModel",
          "model_module_version": "1.2.0",
          "state": {
            "_model_module": "@jupyter-widgets/base",
            "_model_module_version": "1.2.0",
            "_model_name": "LayoutModel",
            "_view_count": null,
            "_view_module": "@jupyter-widgets/base",
            "_view_module_version": "1.2.0",
            "_view_name": "LayoutView",
            "align_content": null,
            "align_items": null,
            "align_self": null,
            "border": null,
            "bottom": null,
            "display": null,
            "flex": null,
            "flex_flow": null,
            "grid_area": null,
            "grid_auto_columns": null,
            "grid_auto_flow": null,
            "grid_auto_rows": null,
            "grid_column": null,
            "grid_gap": null,
            "grid_row": null,
            "grid_template_areas": null,
            "grid_template_columns": null,
            "grid_template_rows": null,
            "height": null,
            "justify_content": null,
            "justify_items": null,
            "left": null,
            "margin": null,
            "max_height": null,
            "max_width": null,
            "min_height": null,
            "min_width": null,
            "object_fit": null,
            "object_position": null,
            "order": null,
            "overflow": null,
            "overflow_x": null,
            "overflow_y": null,
            "padding": null,
            "right": null,
            "top": null,
            "visibility": null,
            "width": null
          }
        },
        "1d1ffb175842456fbf8235cc1f5429b8": {
          "model_module": "@jupyter-widgets/controls",
          "model_name": "DescriptionStyleModel",
          "model_module_version": "1.5.0",
          "state": {
            "_model_module": "@jupyter-widgets/controls",
            "_model_module_version": "1.5.0",
            "_model_name": "DescriptionStyleModel",
            "_view_count": null,
            "_view_module": "@jupyter-widgets/base",
            "_view_module_version": "1.2.0",
            "_view_name": "StyleView",
            "description_width": ""
          }
        }
      }
    }
  },
  "nbformat": 4,
  "nbformat_minor": 0
}