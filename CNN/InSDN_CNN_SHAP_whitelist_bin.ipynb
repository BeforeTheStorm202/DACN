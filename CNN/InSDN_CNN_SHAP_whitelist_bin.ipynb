{
  "cells": [
    {
      "cell_type": "markdown",
      "metadata": {
        "id": "view-in-github",
        "colab_type": "text"
      },
      "source": [
        "<a href=\"https://colab.research.google.com/github/BeforeTheStorm202/DACN/blob/main/InSDN_CNN_SHAP_whitelist_bin.ipynb\" target=\"_parent\"><img src=\"https://colab.research.google.com/assets/colab-badge.svg\" alt=\"Open In Colab\"/></a>"
      ]
    },
    {
      "cell_type": "markdown",
      "metadata": {
        "id": "rJBJPRmCFqU7"
      },
      "source": [
        "# Import"
      ]
    },
    {
      "cell_type": "code",
      "execution_count": 1,
      "metadata": {
        "colab": {
          "base_uri": "https://localhost:8080/"
        },
        "id": "Ym8Pb2oREYUG",
        "outputId": "72c295a4-b755-44fd-a689-6e4402920889"
      },
      "outputs": [
        {
          "output_type": "stream",
          "name": "stdout",
          "text": [
            "Requirement already satisfied: shap in /usr/local/lib/python3.10/dist-packages (0.41.0)\n",
            "Requirement already satisfied: numpy in /usr/local/lib/python3.10/dist-packages (from shap) (1.22.4)\n",
            "Requirement already satisfied: scipy in /usr/local/lib/python3.10/dist-packages (from shap) (1.10.1)\n",
            "Requirement already satisfied: scikit-learn in /usr/local/lib/python3.10/dist-packages (from shap) (1.2.2)\n",
            "Requirement already satisfied: pandas in /usr/local/lib/python3.10/dist-packages (from shap) (1.5.3)\n",
            "Requirement already satisfied: tqdm>4.25.0 in /usr/local/lib/python3.10/dist-packages (from shap) (4.65.0)\n",
            "Requirement already satisfied: packaging>20.9 in /usr/local/lib/python3.10/dist-packages (from shap) (23.1)\n",
            "Requirement already satisfied: slicer==0.0.7 in /usr/local/lib/python3.10/dist-packages (from shap) (0.0.7)\n",
            "Requirement already satisfied: numba in /usr/local/lib/python3.10/dist-packages (from shap) (0.56.4)\n",
            "Requirement already satisfied: cloudpickle in /usr/local/lib/python3.10/dist-packages (from shap) (2.2.1)\n",
            "Requirement already satisfied: llvmlite<0.40,>=0.39.0dev0 in /usr/local/lib/python3.10/dist-packages (from numba->shap) (0.39.1)\n",
            "Requirement already satisfied: setuptools in /usr/local/lib/python3.10/dist-packages (from numba->shap) (67.7.2)\n",
            "Requirement already satisfied: python-dateutil>=2.8.1 in /usr/local/lib/python3.10/dist-packages (from pandas->shap) (2.8.2)\n",
            "Requirement already satisfied: pytz>=2020.1 in /usr/local/lib/python3.10/dist-packages (from pandas->shap) (2022.7.1)\n",
            "Requirement already satisfied: joblib>=1.1.1 in /usr/local/lib/python3.10/dist-packages (from scikit-learn->shap) (1.2.0)\n",
            "Requirement already satisfied: threadpoolctl>=2.0.0 in /usr/local/lib/python3.10/dist-packages (from scikit-learn->shap) (3.1.0)\n",
            "Requirement already satisfied: six>=1.5 in /usr/local/lib/python3.10/dist-packages (from python-dateutil>=2.8.1->pandas->shap) (1.16.0)\n"
          ]
        }
      ],
      "source": [
        "!pip install shap"
      ]
    },
    {
      "cell_type": "code",
      "execution_count": 2,
      "metadata": {
        "id": "9qxu7n9TFv21"
      },
      "outputs": [],
      "source": [
        "import shap\n",
        "import pandas as pd\n",
        "import tensorflow as tf\n",
        "from tensorflow import keras"
      ]
    },
    {
      "cell_type": "markdown",
      "metadata": {
        "id": "SDGzHf5TG6UT"
      },
      "source": [
        "# Load dataset & model"
      ]
    },
    {
      "cell_type": "code",
      "execution_count": 3,
      "metadata": {
        "colab": {
          "base_uri": "https://localhost:8080/"
        },
        "id": "a-B3scZ0lXpa",
        "outputId": "2a4c29e5-d154-4e3b-f7cf-d85d70f75a69"
      },
      "outputs": [
        {
          "output_type": "stream",
          "name": "stdout",
          "text": [
            "<class 'pandas.core.frame.DataFrame'>\n",
            "RangeIndex: 275111 entries, 0 to 275110\n",
            "Data columns (total 77 columns):\n",
            " #   Column             Non-Null Count   Dtype  \n",
            "---  ------             --------------   -----  \n",
            " 0   Flow Duration      275111 non-null  float64\n",
            " 1   Tot Fwd Pkts       275111 non-null  float64\n",
            " 2   Tot Bwd Pkts       275111 non-null  float64\n",
            " 3   TotLen Fwd Pkts    275111 non-null  float64\n",
            " 4   TotLen Bwd Pkts    275111 non-null  float64\n",
            " 5   Fwd Pkt Len Max    275111 non-null  float64\n",
            " 6   Fwd Pkt Len Min    275111 non-null  float64\n",
            " 7   Fwd Pkt Len Mean   275111 non-null  float64\n",
            " 8   Fwd Pkt Len Std    275111 non-null  float64\n",
            " 9   Bwd Pkt Len Max    275111 non-null  float64\n",
            " 10  Bwd Pkt Len Min    275111 non-null  float64\n",
            " 11  Bwd Pkt Len Mean   275111 non-null  float64\n",
            " 12  Bwd Pkt Len Std    275111 non-null  float64\n",
            " 13  Flow Byts/s        275111 non-null  float64\n",
            " 14  Flow Pkts/s        275111 non-null  float64\n",
            " 15  Flow IAT Mean      275111 non-null  float64\n",
            " 16  Flow IAT Std       275111 non-null  float64\n",
            " 17  Flow IAT Max       275111 non-null  float64\n",
            " 18  Flow IAT Min       275111 non-null  float64\n",
            " 19  Fwd IAT Tot        275111 non-null  float64\n",
            " 20  Fwd IAT Mean       275111 non-null  float64\n",
            " 21  Fwd IAT Std        275111 non-null  float64\n",
            " 22  Fwd IAT Max        275111 non-null  float64\n",
            " 23  Fwd IAT Min        275111 non-null  float64\n",
            " 24  Bwd IAT Tot        275111 non-null  float64\n",
            " 25  Bwd IAT Mean       275111 non-null  float64\n",
            " 26  Bwd IAT Std        275111 non-null  float64\n",
            " 27  Bwd IAT Max        275111 non-null  float64\n",
            " 28  Bwd IAT Min        275111 non-null  float64\n",
            " 29  Fwd PSH Flags      275111 non-null  float64\n",
            " 30  Bwd PSH Flags      275111 non-null  float64\n",
            " 31  Fwd URG Flags      275111 non-null  float64\n",
            " 32  Bwd URG Flags      275111 non-null  float64\n",
            " 33  Fwd Header Len     275111 non-null  float64\n",
            " 34  Bwd Header Len     275111 non-null  float64\n",
            " 35  Fwd Pkts/s         275111 non-null  float64\n",
            " 36  Bwd Pkts/s         275111 non-null  float64\n",
            " 37  Pkt Len Min        275111 non-null  float64\n",
            " 38  Pkt Len Max        275111 non-null  float64\n",
            " 39  Pkt Len Mean       275111 non-null  float64\n",
            " 40  Pkt Len Std        275111 non-null  float64\n",
            " 41  Pkt Len Var        275111 non-null  float64\n",
            " 42  FIN Flag Cnt       275111 non-null  float64\n",
            " 43  SYN Flag Cnt       275111 non-null  float64\n",
            " 44  RST Flag Cnt       275111 non-null  float64\n",
            " 45  PSH Flag Cnt       275111 non-null  float64\n",
            " 46  ACK Flag Cnt       275111 non-null  float64\n",
            " 47  URG Flag Cnt       275111 non-null  float64\n",
            " 48  CWE Flag Count     275111 non-null  float64\n",
            " 49  ECE Flag Cnt       275111 non-null  float64\n",
            " 50  Down/Up Ratio      275111 non-null  float64\n",
            " 51  Pkt Size Avg       275111 non-null  float64\n",
            " 52  Fwd Seg Size Avg   275111 non-null  float64\n",
            " 53  Bwd Seg Size Avg   275111 non-null  float64\n",
            " 54  Fwd Byts/b Avg     275111 non-null  float64\n",
            " 55  Fwd Pkts/b Avg     275111 non-null  float64\n",
            " 56  Fwd Blk Rate Avg   275111 non-null  float64\n",
            " 57  Bwd Byts/b Avg     275111 non-null  float64\n",
            " 58  Bwd Pkts/b Avg     275111 non-null  float64\n",
            " 59  Bwd Blk Rate Avg   275111 non-null  float64\n",
            " 60  Subflow Fwd Pkts   275111 non-null  float64\n",
            " 61  Subflow Fwd Byts   275111 non-null  float64\n",
            " 62  Subflow Bwd Pkts   275111 non-null  float64\n",
            " 63  Subflow Bwd Byts   275111 non-null  float64\n",
            " 64  Init Fwd Win Byts  275111 non-null  float64\n",
            " 65  Init Bwd Win Byts  275111 non-null  float64\n",
            " 66  Fwd Act Data Pkts  275111 non-null  float64\n",
            " 67  Fwd Seg Size Min   275111 non-null  float64\n",
            " 68  Active Mean        275111 non-null  float64\n",
            " 69  Active Std         275111 non-null  float64\n",
            " 70  Active Max         275111 non-null  float64\n",
            " 71  Active Min         275111 non-null  float64\n",
            " 72  Idle Mean          275111 non-null  float64\n",
            " 73  Idle Std           275111 non-null  float64\n",
            " 74  Idle Max           275111 non-null  float64\n",
            " 75  Idle Min           275111 non-null  float64\n",
            " 76  Label              275111 non-null  int64  \n",
            "dtypes: float64(76), int64(1)\n",
            "memory usage: 161.6 MB\n"
          ]
        }
      ],
      "source": [
        "df = pd.read_csv('/content/drive/MyDrive/DACN_XAI_Adv_defense/Dataset/insdn/binary/train.csv')\n",
        "df.info()"
      ]
    },
    {
      "cell_type": "code",
      "execution_count": 4,
      "metadata": {
        "id": "9BkutXYx8C2V"
      },
      "outputs": [],
      "source": [
        "model_cnn = tf.keras.models.load_model('/content/drive/MyDrive/DACN_XAI_Adv_defense/Dataset/insdn/insdn_cnn_bin.h5', compile=True)"
      ]
    },
    {
      "cell_type": "code",
      "execution_count": 5,
      "metadata": {
        "id": "8CQCgNzXysIE"
      },
      "outputs": [],
      "source": [
        "x_normal = df[df['Label'] == 0].reset_index(drop=True)"
      ]
    },
    {
      "cell_type": "code",
      "execution_count": 6,
      "metadata": {
        "colab": {
          "base_uri": "https://localhost:8080/"
        },
        "id": "xBfpy1cqzax6",
        "outputId": "9d3660d9-5477-438a-f0ff-e503e23be71d"
      },
      "outputs": [
        {
          "output_type": "stream",
          "name": "stdout",
          "text": [
            "<class 'pandas.core.frame.DataFrame'>\n",
            "RangeIndex: 54797 entries, 0 to 54796\n",
            "Data columns (total 77 columns):\n",
            " #   Column             Non-Null Count  Dtype  \n",
            "---  ------             --------------  -----  \n",
            " 0   Flow Duration      54797 non-null  float64\n",
            " 1   Tot Fwd Pkts       54797 non-null  float64\n",
            " 2   Tot Bwd Pkts       54797 non-null  float64\n",
            " 3   TotLen Fwd Pkts    54797 non-null  float64\n",
            " 4   TotLen Bwd Pkts    54797 non-null  float64\n",
            " 5   Fwd Pkt Len Max    54797 non-null  float64\n",
            " 6   Fwd Pkt Len Min    54797 non-null  float64\n",
            " 7   Fwd Pkt Len Mean   54797 non-null  float64\n",
            " 8   Fwd Pkt Len Std    54797 non-null  float64\n",
            " 9   Bwd Pkt Len Max    54797 non-null  float64\n",
            " 10  Bwd Pkt Len Min    54797 non-null  float64\n",
            " 11  Bwd Pkt Len Mean   54797 non-null  float64\n",
            " 12  Bwd Pkt Len Std    54797 non-null  float64\n",
            " 13  Flow Byts/s        54797 non-null  float64\n",
            " 14  Flow Pkts/s        54797 non-null  float64\n",
            " 15  Flow IAT Mean      54797 non-null  float64\n",
            " 16  Flow IAT Std       54797 non-null  float64\n",
            " 17  Flow IAT Max       54797 non-null  float64\n",
            " 18  Flow IAT Min       54797 non-null  float64\n",
            " 19  Fwd IAT Tot        54797 non-null  float64\n",
            " 20  Fwd IAT Mean       54797 non-null  float64\n",
            " 21  Fwd IAT Std        54797 non-null  float64\n",
            " 22  Fwd IAT Max        54797 non-null  float64\n",
            " 23  Fwd IAT Min        54797 non-null  float64\n",
            " 24  Bwd IAT Tot        54797 non-null  float64\n",
            " 25  Bwd IAT Mean       54797 non-null  float64\n",
            " 26  Bwd IAT Std        54797 non-null  float64\n",
            " 27  Bwd IAT Max        54797 non-null  float64\n",
            " 28  Bwd IAT Min        54797 non-null  float64\n",
            " 29  Fwd PSH Flags      54797 non-null  float64\n",
            " 30  Bwd PSH Flags      54797 non-null  float64\n",
            " 31  Fwd URG Flags      54797 non-null  float64\n",
            " 32  Bwd URG Flags      54797 non-null  float64\n",
            " 33  Fwd Header Len     54797 non-null  float64\n",
            " 34  Bwd Header Len     54797 non-null  float64\n",
            " 35  Fwd Pkts/s         54797 non-null  float64\n",
            " 36  Bwd Pkts/s         54797 non-null  float64\n",
            " 37  Pkt Len Min        54797 non-null  float64\n",
            " 38  Pkt Len Max        54797 non-null  float64\n",
            " 39  Pkt Len Mean       54797 non-null  float64\n",
            " 40  Pkt Len Std        54797 non-null  float64\n",
            " 41  Pkt Len Var        54797 non-null  float64\n",
            " 42  FIN Flag Cnt       54797 non-null  float64\n",
            " 43  SYN Flag Cnt       54797 non-null  float64\n",
            " 44  RST Flag Cnt       54797 non-null  float64\n",
            " 45  PSH Flag Cnt       54797 non-null  float64\n",
            " 46  ACK Flag Cnt       54797 non-null  float64\n",
            " 47  URG Flag Cnt       54797 non-null  float64\n",
            " 48  CWE Flag Count     54797 non-null  float64\n",
            " 49  ECE Flag Cnt       54797 non-null  float64\n",
            " 50  Down/Up Ratio      54797 non-null  float64\n",
            " 51  Pkt Size Avg       54797 non-null  float64\n",
            " 52  Fwd Seg Size Avg   54797 non-null  float64\n",
            " 53  Bwd Seg Size Avg   54797 non-null  float64\n",
            " 54  Fwd Byts/b Avg     54797 non-null  float64\n",
            " 55  Fwd Pkts/b Avg     54797 non-null  float64\n",
            " 56  Fwd Blk Rate Avg   54797 non-null  float64\n",
            " 57  Bwd Byts/b Avg     54797 non-null  float64\n",
            " 58  Bwd Pkts/b Avg     54797 non-null  float64\n",
            " 59  Bwd Blk Rate Avg   54797 non-null  float64\n",
            " 60  Subflow Fwd Pkts   54797 non-null  float64\n",
            " 61  Subflow Fwd Byts   54797 non-null  float64\n",
            " 62  Subflow Bwd Pkts   54797 non-null  float64\n",
            " 63  Subflow Bwd Byts   54797 non-null  float64\n",
            " 64  Init Fwd Win Byts  54797 non-null  float64\n",
            " 65  Init Bwd Win Byts  54797 non-null  float64\n",
            " 66  Fwd Act Data Pkts  54797 non-null  float64\n",
            " 67  Fwd Seg Size Min   54797 non-null  float64\n",
            " 68  Active Mean        54797 non-null  float64\n",
            " 69  Active Std         54797 non-null  float64\n",
            " 70  Active Max         54797 non-null  float64\n",
            " 71  Active Min         54797 non-null  float64\n",
            " 72  Idle Mean          54797 non-null  float64\n",
            " 73  Idle Std           54797 non-null  float64\n",
            " 74  Idle Max           54797 non-null  float64\n",
            " 75  Idle Min           54797 non-null  float64\n",
            " 76  Label              54797 non-null  int64  \n",
            "dtypes: float64(76), int64(1)\n",
            "memory usage: 32.2 MB\n"
          ]
        }
      ],
      "source": [
        "x_normal.info()"
      ]
    },
    {
      "cell_type": "code",
      "execution_count": 7,
      "metadata": {
        "colab": {
          "base_uri": "https://localhost:8080/"
        },
        "id": "mQLA0I-h0Dji",
        "outputId": "a4b230ac-d503-41f4-a3b9-2301bbf2522c"
      },
      "outputs": [
        {
          "output_type": "execute_result",
          "data": {
            "text/plain": [
              "0    54797\n",
              "Name: Label, dtype: int64"
            ]
          },
          "metadata": {},
          "execution_count": 7
        }
      ],
      "source": [
        "x_normal['Label'].value_counts()"
      ]
    },
    {
      "cell_type": "code",
      "source": [
        "df = df.drop(columns=['Label'])"
      ],
      "metadata": {
        "id": "3Wg8n_uhkW2c"
      },
      "execution_count": 8,
      "outputs": []
    },
    {
      "cell_type": "code",
      "execution_count": 9,
      "metadata": {
        "id": "nhDeX4S0zv7h"
      },
      "outputs": [],
      "source": [
        "x_normal = x_normal.drop(columns=['Label'])"
      ]
    },
    {
      "cell_type": "code",
      "source": [
        "feature_list = x_normal.columns"
      ],
      "metadata": {
        "id": "2nbvb3G4PTlN"
      },
      "execution_count": 10,
      "outputs": []
    },
    {
      "cell_type": "markdown",
      "metadata": {
        "id": "AT9S9DYm0H6q"
      },
      "source": [
        "# SHAP"
      ]
    },
    {
      "cell_type": "code",
      "execution_count": 11,
      "metadata": {
        "id": "Yrd_czRu0JGN"
      },
      "outputs": [],
      "source": [
        "explainer = shap.KernelExplainer(model_cnn, shap.sample(df, 100))"
      ]
    },
    {
      "cell_type": "code",
      "source": [
        "normal_150 = x_normal.head(150)"
      ],
      "metadata": {
        "id": "aZFunz6Xk9Cz"
      },
      "execution_count": 12,
      "outputs": []
    },
    {
      "cell_type": "markdown",
      "source": [
        "shap_values takes 1g30' to calculate"
      ],
      "metadata": {
        "id": "WDcpOKTKNS7S"
      }
    },
    {
      "cell_type": "code",
      "execution_count": 13,
      "metadata": {
        "id": "98Y0qFwm0aSS",
        "colab": {
          "base_uri": "https://localhost:8080/",
          "height": 49,
          "referenced_widgets": [
            "0756a55354874cb080122f9791747a04",
            "9ea26eabf282468f8568199106dd764e",
            "eb138c6181da4a7e89da99e1088e6758",
            "39891aa00fc84735b15edaf3959ba767",
            "db830aa01fb14db290a7e0382bb7255e",
            "319f9a84386b47d1bb105d2422adbc63",
            "35494d95a15c4b49bfb5f93e81482089",
            "69522826c632463da97f8579dd8ebec6",
            "5d6fa3bdc0514e3bb60f8e521cf41a68",
            "57b25c70c95846aa9f6c7332f84b1233",
            "8283accc1439453798149184e911d283"
          ]
        },
        "outputId": "1fd3c253-e85d-46b6-fc4d-c7dafc5fee82"
      },
      "outputs": [
        {
          "data": {
            "application/vnd.jupyter.widget-view+json": {
              "model_id": "0756a55354874cb080122f9791747a04",
              "version_major": 2,
              "version_minor": 0
            },
            "text/plain": [
              "  0%|          | 0/150 [00:00<?, ?it/s]"
            ]
          },
          "metadata": {},
          "output_type": "display_data"
        }
      ],
      "source": [
        "shap_values = explainer.shap_values(normal_150)"
      ]
    },
    {
      "cell_type": "code",
      "source": [
        "data_df = pd.DataFrame(shap_values[0])"
      ],
      "metadata": {
        "id": "0Xmzh4feCGka"
      },
      "execution_count": 14,
      "outputs": []
    },
    {
      "cell_type": "code",
      "source": [
        "len(shap_values)"
      ],
      "metadata": {
        "colab": {
          "base_uri": "https://localhost:8080/"
        },
        "id": "Ql8tFZp7d9Ao",
        "outputId": "db32c1c1-7407-49ed-c1f6-a76aa4ba0f96"
      },
      "execution_count": 20,
      "outputs": [
        {
          "output_type": "execute_result",
          "data": {
            "text/plain": [
              "1"
            ]
          },
          "metadata": {},
          "execution_count": 20
        }
      ]
    },
    {
      "cell_type": "code",
      "source": [
        "len(shap_values[0])"
      ],
      "metadata": {
        "colab": {
          "base_uri": "https://localhost:8080/"
        },
        "id": "MynzfmmmeEjv",
        "outputId": "88b99f18-ff7b-460a-ad24-624811efcf6a"
      },
      "execution_count": 21,
      "outputs": [
        {
          "output_type": "execute_result",
          "data": {
            "text/plain": [
              "150"
            ]
          },
          "metadata": {},
          "execution_count": 21
        }
      ]
    },
    {
      "cell_type": "code",
      "source": [
        "data_df.to_csv('/content/drive/MyDrive/DACN_XAI_Adv_defense/InSDN/CNN_HSJ/150_samples_[0].csv', index=False)"
      ],
      "metadata": {
        "id": "WlmxBElzCIu5"
      },
      "execution_count": 22,
      "outputs": []
    },
    {
      "cell_type": "code",
      "source": [
        "data_df.columns = feature_list\n",
        "data_df.head()"
      ],
      "metadata": {
        "colab": {
          "base_uri": "https://localhost:8080/",
          "height": 351
        },
        "id": "gWJJitNwObUj",
        "outputId": "270b6add-559b-44d8-e9ed-ee169b615b3a"
      },
      "execution_count": 16,
      "outputs": [
        {
          "output_type": "execute_result",
          "data": {
            "text/plain": [
              "   Flow Duration  Tot Fwd Pkts  Tot Bwd Pkts  TotLen Fwd Pkts  \\\n",
              "0      -0.000080           0.0           0.0              0.0   \n",
              "1       0.000025           0.0           0.0              0.0   \n",
              "2       0.000034           0.0           0.0              0.0   \n",
              "3       0.000028           0.0           0.0              0.0   \n",
              "4       0.000000           0.0           0.0              0.0   \n",
              "\n",
              "   TotLen Bwd Pkts  Fwd Pkt Len Max  Fwd Pkt Len Min  Fwd Pkt Len Mean  \\\n",
              "0              0.0        -0.000085         0.000000         -0.000091   \n",
              "1              0.0         0.000000         0.000000          0.000000   \n",
              "2              0.0         0.000000         0.000000          0.000000   \n",
              "3              0.0         0.000000         0.000004          0.000000   \n",
              "4              0.0         0.000000         0.000000          0.000000   \n",
              "\n",
              "   Fwd Pkt Len Std  Bwd Pkt Len Max  ...  Fwd Act Data Pkts  Fwd Seg Size Min  \\\n",
              "0         0.000000        -0.000376  ...          -0.000075               0.0   \n",
              "1         0.000006         0.000003  ...           0.000000               0.0   \n",
              "2         0.000000         0.000000  ...           0.000000               0.0   \n",
              "3         0.000005         0.000000  ...           0.000000               0.0   \n",
              "4         0.000000         0.000000  ...           0.000000               0.0   \n",
              "\n",
              "   Active Mean  Active Std  Active Max  Active Min  Idle Mean  Idle Std  \\\n",
              "0    -0.000185         0.0   -0.000381         0.0   0.000000 -0.000923   \n",
              "1     0.000000         0.0    0.000000         0.0   0.000017  0.000000   \n",
              "2     0.000000         0.0    0.000000         0.0   0.000016  0.000000   \n",
              "3     0.000000         0.0    0.000000         0.0   0.000010  0.000000   \n",
              "4     0.000000         0.0    0.000000         0.0   0.000000  0.000000   \n",
              "\n",
              "   Idle Max  Idle Min  \n",
              "0  0.000818  0.000000  \n",
              "1  0.000000  0.000056  \n",
              "2  0.000000  0.000046  \n",
              "3  0.000000  0.000059  \n",
              "4  0.000000  0.000000  \n",
              "\n",
              "[5 rows x 76 columns]"
            ],
            "text/html": [
              "\n",
              "  <div id=\"df-30a779e1-1761-4401-8300-3c1d0ef23532\">\n",
              "    <div class=\"colab-df-container\">\n",
              "      <div>\n",
              "<style scoped>\n",
              "    .dataframe tbody tr th:only-of-type {\n",
              "        vertical-align: middle;\n",
              "    }\n",
              "\n",
              "    .dataframe tbody tr th {\n",
              "        vertical-align: top;\n",
              "    }\n",
              "\n",
              "    .dataframe thead th {\n",
              "        text-align: right;\n",
              "    }\n",
              "</style>\n",
              "<table border=\"1\" class=\"dataframe\">\n",
              "  <thead>\n",
              "    <tr style=\"text-align: right;\">\n",
              "      <th></th>\n",
              "      <th>Flow Duration</th>\n",
              "      <th>Tot Fwd Pkts</th>\n",
              "      <th>Tot Bwd Pkts</th>\n",
              "      <th>TotLen Fwd Pkts</th>\n",
              "      <th>TotLen Bwd Pkts</th>\n",
              "      <th>Fwd Pkt Len Max</th>\n",
              "      <th>Fwd Pkt Len Min</th>\n",
              "      <th>Fwd Pkt Len Mean</th>\n",
              "      <th>Fwd Pkt Len Std</th>\n",
              "      <th>Bwd Pkt Len Max</th>\n",
              "      <th>...</th>\n",
              "      <th>Fwd Act Data Pkts</th>\n",
              "      <th>Fwd Seg Size Min</th>\n",
              "      <th>Active Mean</th>\n",
              "      <th>Active Std</th>\n",
              "      <th>Active Max</th>\n",
              "      <th>Active Min</th>\n",
              "      <th>Idle Mean</th>\n",
              "      <th>Idle Std</th>\n",
              "      <th>Idle Max</th>\n",
              "      <th>Idle Min</th>\n",
              "    </tr>\n",
              "  </thead>\n",
              "  <tbody>\n",
              "    <tr>\n",
              "      <th>0</th>\n",
              "      <td>-0.000080</td>\n",
              "      <td>0.0</td>\n",
              "      <td>0.0</td>\n",
              "      <td>0.0</td>\n",
              "      <td>0.0</td>\n",
              "      <td>-0.000085</td>\n",
              "      <td>0.000000</td>\n",
              "      <td>-0.000091</td>\n",
              "      <td>0.000000</td>\n",
              "      <td>-0.000376</td>\n",
              "      <td>...</td>\n",
              "      <td>-0.000075</td>\n",
              "      <td>0.0</td>\n",
              "      <td>-0.000185</td>\n",
              "      <td>0.0</td>\n",
              "      <td>-0.000381</td>\n",
              "      <td>0.0</td>\n",
              "      <td>0.000000</td>\n",
              "      <td>-0.000923</td>\n",
              "      <td>0.000818</td>\n",
              "      <td>0.000000</td>\n",
              "    </tr>\n",
              "    <tr>\n",
              "      <th>1</th>\n",
              "      <td>0.000025</td>\n",
              "      <td>0.0</td>\n",
              "      <td>0.0</td>\n",
              "      <td>0.0</td>\n",
              "      <td>0.0</td>\n",
              "      <td>0.000000</td>\n",
              "      <td>0.000000</td>\n",
              "      <td>0.000000</td>\n",
              "      <td>0.000006</td>\n",
              "      <td>0.000003</td>\n",
              "      <td>...</td>\n",
              "      <td>0.000000</td>\n",
              "      <td>0.0</td>\n",
              "      <td>0.000000</td>\n",
              "      <td>0.0</td>\n",
              "      <td>0.000000</td>\n",
              "      <td>0.0</td>\n",
              "      <td>0.000017</td>\n",
              "      <td>0.000000</td>\n",
              "      <td>0.000000</td>\n",
              "      <td>0.000056</td>\n",
              "    </tr>\n",
              "    <tr>\n",
              "      <th>2</th>\n",
              "      <td>0.000034</td>\n",
              "      <td>0.0</td>\n",
              "      <td>0.0</td>\n",
              "      <td>0.0</td>\n",
              "      <td>0.0</td>\n",
              "      <td>0.000000</td>\n",
              "      <td>0.000000</td>\n",
              "      <td>0.000000</td>\n",
              "      <td>0.000000</td>\n",
              "      <td>0.000000</td>\n",
              "      <td>...</td>\n",
              "      <td>0.000000</td>\n",
              "      <td>0.0</td>\n",
              "      <td>0.000000</td>\n",
              "      <td>0.0</td>\n",
              "      <td>0.000000</td>\n",
              "      <td>0.0</td>\n",
              "      <td>0.000016</td>\n",
              "      <td>0.000000</td>\n",
              "      <td>0.000000</td>\n",
              "      <td>0.000046</td>\n",
              "    </tr>\n",
              "    <tr>\n",
              "      <th>3</th>\n",
              "      <td>0.000028</td>\n",
              "      <td>0.0</td>\n",
              "      <td>0.0</td>\n",
              "      <td>0.0</td>\n",
              "      <td>0.0</td>\n",
              "      <td>0.000000</td>\n",
              "      <td>0.000004</td>\n",
              "      <td>0.000000</td>\n",
              "      <td>0.000005</td>\n",
              "      <td>0.000000</td>\n",
              "      <td>...</td>\n",
              "      <td>0.000000</td>\n",
              "      <td>0.0</td>\n",
              "      <td>0.000000</td>\n",
              "      <td>0.0</td>\n",
              "      <td>0.000000</td>\n",
              "      <td>0.0</td>\n",
              "      <td>0.000010</td>\n",
              "      <td>0.000000</td>\n",
              "      <td>0.000000</td>\n",
              "      <td>0.000059</td>\n",
              "    </tr>\n",
              "    <tr>\n",
              "      <th>4</th>\n",
              "      <td>0.000000</td>\n",
              "      <td>0.0</td>\n",
              "      <td>0.0</td>\n",
              "      <td>0.0</td>\n",
              "      <td>0.0</td>\n",
              "      <td>0.000000</td>\n",
              "      <td>0.000000</td>\n",
              "      <td>0.000000</td>\n",
              "      <td>0.000000</td>\n",
              "      <td>0.000000</td>\n",
              "      <td>...</td>\n",
              "      <td>0.000000</td>\n",
              "      <td>0.0</td>\n",
              "      <td>0.000000</td>\n",
              "      <td>0.0</td>\n",
              "      <td>0.000000</td>\n",
              "      <td>0.0</td>\n",
              "      <td>0.000000</td>\n",
              "      <td>0.000000</td>\n",
              "      <td>0.000000</td>\n",
              "      <td>0.000000</td>\n",
              "    </tr>\n",
              "  </tbody>\n",
              "</table>\n",
              "<p>5 rows × 76 columns</p>\n",
              "</div>\n",
              "      <button class=\"colab-df-convert\" onclick=\"convertToInteractive('df-30a779e1-1761-4401-8300-3c1d0ef23532')\"\n",
              "              title=\"Convert this dataframe to an interactive table.\"\n",
              "              style=\"display:none;\">\n",
              "        \n",
              "  <svg xmlns=\"http://www.w3.org/2000/svg\" height=\"24px\"viewBox=\"0 0 24 24\"\n",
              "       width=\"24px\">\n",
              "    <path d=\"M0 0h24v24H0V0z\" fill=\"none\"/>\n",
              "    <path d=\"M18.56 5.44l.94 2.06.94-2.06 2.06-.94-2.06-.94-.94-2.06-.94 2.06-2.06.94zm-11 1L8.5 8.5l.94-2.06 2.06-.94-2.06-.94L8.5 2.5l-.94 2.06-2.06.94zm10 10l.94 2.06.94-2.06 2.06-.94-2.06-.94-.94-2.06-.94 2.06-2.06.94z\"/><path d=\"M17.41 7.96l-1.37-1.37c-.4-.4-.92-.59-1.43-.59-.52 0-1.04.2-1.43.59L10.3 9.45l-7.72 7.72c-.78.78-.78 2.05 0 2.83L4 21.41c.39.39.9.59 1.41.59.51 0 1.02-.2 1.41-.59l7.78-7.78 2.81-2.81c.8-.78.8-2.07 0-2.86zM5.41 20L4 18.59l7.72-7.72 1.47 1.35L5.41 20z\"/>\n",
              "  </svg>\n",
              "      </button>\n",
              "      \n",
              "  <style>\n",
              "    .colab-df-container {\n",
              "      display:flex;\n",
              "      flex-wrap:wrap;\n",
              "      gap: 12px;\n",
              "    }\n",
              "\n",
              "    .colab-df-convert {\n",
              "      background-color: #E8F0FE;\n",
              "      border: none;\n",
              "      border-radius: 50%;\n",
              "      cursor: pointer;\n",
              "      display: none;\n",
              "      fill: #1967D2;\n",
              "      height: 32px;\n",
              "      padding: 0 0 0 0;\n",
              "      width: 32px;\n",
              "    }\n",
              "\n",
              "    .colab-df-convert:hover {\n",
              "      background-color: #E2EBFA;\n",
              "      box-shadow: 0px 1px 2px rgba(60, 64, 67, 0.3), 0px 1px 3px 1px rgba(60, 64, 67, 0.15);\n",
              "      fill: #174EA6;\n",
              "    }\n",
              "\n",
              "    [theme=dark] .colab-df-convert {\n",
              "      background-color: #3B4455;\n",
              "      fill: #D2E3FC;\n",
              "    }\n",
              "\n",
              "    [theme=dark] .colab-df-convert:hover {\n",
              "      background-color: #434B5C;\n",
              "      box-shadow: 0px 1px 3px 1px rgba(0, 0, 0, 0.15);\n",
              "      filter: drop-shadow(0px 1px 2px rgba(0, 0, 0, 0.3));\n",
              "      fill: #FFFFFF;\n",
              "    }\n",
              "  </style>\n",
              "\n",
              "      <script>\n",
              "        const buttonEl =\n",
              "          document.querySelector('#df-30a779e1-1761-4401-8300-3c1d0ef23532 button.colab-df-convert');\n",
              "        buttonEl.style.display =\n",
              "          google.colab.kernel.accessAllowed ? 'block' : 'none';\n",
              "\n",
              "        async function convertToInteractive(key) {\n",
              "          const element = document.querySelector('#df-30a779e1-1761-4401-8300-3c1d0ef23532');\n",
              "          const dataTable =\n",
              "            await google.colab.kernel.invokeFunction('convertToInteractive',\n",
              "                                                     [key], {});\n",
              "          if (!dataTable) return;\n",
              "\n",
              "          const docLinkHtml = 'Like what you see? Visit the ' +\n",
              "            '<a target=\"_blank\" href=https://colab.research.google.com/notebooks/data_table.ipynb>data table notebook</a>'\n",
              "            + ' to learn more about interactive tables.';\n",
              "          element.innerHTML = '';\n",
              "          dataTable['output_type'] = 'display_data';\n",
              "          await google.colab.output.renderOutput(dataTable, element);\n",
              "          const docLink = document.createElement('div');\n",
              "          docLink.innerHTML = docLinkHtml;\n",
              "          element.appendChild(docLink);\n",
              "        }\n",
              "      </script>\n",
              "    </div>\n",
              "  </div>\n",
              "  "
            ]
          },
          "metadata": {},
          "execution_count": 16
        }
      ]
    },
    {
      "cell_type": "code",
      "source": [
        "data_dict = {}\n",
        "for idx in range(0, 150):\n",
        "  # Select the desired row and get the top 10 values's column names\n",
        "  row_values = data_df.iloc[idx].nlargest(10).index.tolist()\n",
        "\n",
        "  # Create a dictionary and add the list with filename as the key\n",
        "  data_dict['Normal sample ' + str(idx)] = row_values"
      ],
      "metadata": {
        "id": "QIGzCfEdP75J"
      },
      "execution_count": 23,
      "outputs": []
    },
    {
      "cell_type": "code",
      "source": [
        "print(data_dict)"
      ],
      "metadata": {
        "colab": {
          "base_uri": "https://localhost:8080/"
        },
        "id": "PaG1SmFiS7U4",
        "outputId": "88b5c01c-b776-4fb3-fa02-dcbaf1692f8f"
      },
      "execution_count": 24,
      "outputs": [
        {
          "output_type": "stream",
          "name": "stdout",
          "text": [
            "{'Normal sample 0': ['FIN Flag Cnt', 'Idle Max', 'Bwd IAT Max', 'Pkt Len Max', 'Bwd Pkts/s', 'URG Flag Cnt', 'Fwd IAT Max', 'ACK Flag Cnt', 'SYN Flag Cnt', 'Bwd Seg Size Avg'], 'Normal sample 1': ['SYN Flag Cnt', 'ACK Flag Cnt', 'FIN Flag Cnt', 'Bwd Pkts/s', 'Bwd PSH Flags', 'PSH Flag Cnt', 'Init Bwd Win Byts', 'Down/Up Ratio', 'Flow Pkts/s', 'URG Flag Cnt'], 'Normal sample 2': ['SYN Flag Cnt', 'ACK Flag Cnt', 'FIN Flag Cnt', 'Bwd Pkts/s', 'Bwd PSH Flags', 'PSH Flag Cnt', 'Down/Up Ratio', 'Init Bwd Win Byts', 'URG Flag Cnt', 'Flow Pkts/s'], 'Normal sample 3': ['SYN Flag Cnt', 'ACK Flag Cnt', 'FIN Flag Cnt', 'Bwd Pkts/s', 'Bwd PSH Flags', 'PSH Flag Cnt', 'Init Bwd Win Byts', 'Down/Up Ratio', 'URG Flag Cnt', 'Flow Pkts/s'], 'Normal sample 4': ['FIN Flag Cnt', 'Bwd Pkts/s', 'ACK Flag Cnt', 'Bwd PSH Flags', 'PSH Flag Cnt', 'URG Flag Cnt', 'Bwd IAT Tot', 'Bwd URG Flags', 'Flow IAT Max', 'Flow Duration'], 'Normal sample 5': ['SYN Flag Cnt', 'ACK Flag Cnt', 'FIN Flag Cnt', 'Bwd Pkts/s', 'Bwd PSH Flags', 'Init Bwd Win Byts', 'PSH Flag Cnt', 'Down/Up Ratio', 'URG Flag Cnt', 'Flow Pkts/s'], 'Normal sample 6': ['SYN Flag Cnt', 'ACK Flag Cnt', 'FIN Flag Cnt', 'Bwd Pkts/s', 'Bwd PSH Flags', 'PSH Flag Cnt', 'Init Bwd Win Byts', 'URG Flag Cnt', 'Flow Pkts/s', 'Down/Up Ratio'], 'Normal sample 7': ['FIN Flag Cnt', 'Bwd Pkts/s', 'SYN Flag Cnt', 'Bwd PSH Flags', 'URG Flag Cnt', 'Bwd IAT Tot', 'Idle Min', 'Bwd IAT Max', 'Flow IAT Std', 'Flow Duration'], 'Normal sample 8': ['SYN Flag Cnt', 'ACK Flag Cnt', 'FIN Flag Cnt', 'Bwd Pkts/s', 'Bwd PSH Flags', 'Init Bwd Win Byts', 'PSH Flag Cnt', 'Down/Up Ratio', 'URG Flag Cnt', 'Flow Pkts/s'], 'Normal sample 9': ['FIN Flag Cnt', 'Bwd Pkts/s', 'SYN Flag Cnt', 'Bwd PSH Flags', 'URG Flag Cnt', 'Bwd IAT Tot', 'Bwd IAT Max', 'Idle Min', 'Flow IAT Std', 'Bwd URG Flags'], 'Normal sample 10': ['SYN Flag Cnt', 'ACK Flag Cnt', 'FIN Flag Cnt', 'Bwd Pkts/s', 'Bwd PSH Flags', 'Init Bwd Win Byts', 'PSH Flag Cnt', 'Down/Up Ratio', 'URG Flag Cnt', 'Flow Pkts/s'], 'Normal sample 11': ['SYN Flag Cnt', 'ACK Flag Cnt', 'FIN Flag Cnt', 'Bwd Pkts/s', 'Bwd PSH Flags', 'PSH Flag Cnt', 'Init Bwd Win Byts', 'Down/Up Ratio', 'Flow Pkts/s', 'URG Flag Cnt'], 'Normal sample 12': ['FIN Flag Cnt', 'Bwd IAT Max', 'Bwd Pkts/s', 'PSH Flag Cnt', 'Fwd IAT Max', 'Bwd PSH Flags', 'URG Flag Cnt', 'Bwd URG Flags', 'Bwd Pkt Len Max', 'Fwd Pkt Len Min'], 'Normal sample 13': ['FIN Flag Cnt', 'Bwd Pkts/s', 'Fwd IAT Max', 'Fwd IAT Mean', 'Idle Max', 'Flow Duration', 'URG Flag Cnt', 'SYN Flag Cnt', 'Bwd IAT Tot', 'Flow Pkts/s'], 'Normal sample 14': ['FIN Flag Cnt', 'SYN Flag Cnt', 'Bwd Pkts/s', 'Bwd IAT Max', 'Fwd IAT Max', 'URG Flag Cnt', 'Flow Pkts/s', 'Tot Bwd Pkts', 'TotLen Fwd Pkts', 'TotLen Bwd Pkts'], 'Normal sample 15': ['FIN Flag Cnt', 'Bwd Pkts/s', 'SYN Flag Cnt', 'Bwd PSH Flags', 'URG Flag Cnt', 'Bwd IAT Tot', 'Bwd IAT Max', 'Bwd URG Flags', 'Idle Min', 'Flow IAT Std'], 'Normal sample 16': ['SYN Flag Cnt', 'ACK Flag Cnt', 'FIN Flag Cnt', 'Bwd Pkts/s', 'Bwd PSH Flags', 'PSH Flag Cnt', 'Init Bwd Win Byts', 'Down/Up Ratio', 'URG Flag Cnt', 'Flow Pkts/s'], 'Normal sample 17': ['SYN Flag Cnt', 'ACK Flag Cnt', 'FIN Flag Cnt', 'Bwd Pkts/s', 'Bwd PSH Flags', 'PSH Flag Cnt', 'Down/Up Ratio', 'Init Bwd Win Byts', 'URG Flag Cnt', 'Flow Pkts/s'], 'Normal sample 18': ['SYN Flag Cnt', 'ACK Flag Cnt', 'FIN Flag Cnt', 'Bwd Pkts/s', 'Bwd PSH Flags', 'PSH Flag Cnt', 'Init Bwd Win Byts', 'Down/Up Ratio', 'URG Flag Cnt', 'Flow Pkts/s'], 'Normal sample 19': ['FIN Flag Cnt', 'Bwd IAT Max', 'Bwd Pkts/s', 'SYN Flag Cnt', 'Bwd Pkt Len Max', 'Fwd IAT Max', 'Idle Max', 'Flow Pkts/s', 'Active Min', 'URG Flag Cnt'], 'Normal sample 20': ['SYN Flag Cnt', 'ACK Flag Cnt', 'FIN Flag Cnt', 'Bwd Pkts/s', 'Bwd PSH Flags', 'PSH Flag Cnt', 'Init Bwd Win Byts', 'Down/Up Ratio', 'URG Flag Cnt', 'Flow Pkts/s'], 'Normal sample 21': ['SYN Flag Cnt', 'ACK Flag Cnt', 'FIN Flag Cnt', 'Bwd Pkts/s', 'Bwd PSH Flags', 'Init Bwd Win Byts', 'PSH Flag Cnt', 'Down/Up Ratio', 'URG Flag Cnt', 'Flow Pkts/s'], 'Normal sample 22': ['Bwd Pkts/s', 'SYN Flag Cnt', 'URG Flag Cnt', 'Bwd IAT Tot', 'Flow IAT Max', 'Flow Duration', 'Tot Fwd Pkts', 'Tot Bwd Pkts', 'TotLen Fwd Pkts', 'TotLen Bwd Pkts'], 'Normal sample 23': ['SYN Flag Cnt', 'ACK Flag Cnt', 'FIN Flag Cnt', 'Bwd Pkts/s', 'Bwd PSH Flags', 'PSH Flag Cnt', 'Init Bwd Win Byts', 'Flow Pkts/s', 'URG Flag Cnt', 'Down/Up Ratio'], 'Normal sample 24': ['Bwd Pkts/s', 'SYN Flag Cnt', 'URG Flag Cnt', 'Bwd PSH Flags', 'Bwd IAT Tot', 'Idle Min', 'PSH Flag Cnt', 'Bwd IAT Max', 'Flow IAT Std', 'Flow Duration'], 'Normal sample 25': ['SYN Flag Cnt', 'ACK Flag Cnt', 'FIN Flag Cnt', 'Bwd Pkts/s', 'Bwd PSH Flags', 'PSH Flag Cnt', 'Init Bwd Win Byts', 'Down/Up Ratio', 'URG Flag Cnt', 'Flow Pkts/s'], 'Normal sample 26': ['SYN Flag Cnt', 'FIN Flag Cnt', 'Bwd Pkts/s', 'Bwd PSH Flags', 'Init Bwd Win Byts', 'Down/Up Ratio', 'Bwd IAT Tot', 'URG Flag Cnt', 'PSH Flag Cnt', 'Flow Pkts/s'], 'Normal sample 27': ['SYN Flag Cnt', 'FIN Flag Cnt', 'Bwd Pkts/s', 'Bwd PSH Flags', 'Init Bwd Win Byts', 'Down/Up Ratio', 'Bwd IAT Tot', 'Flow Pkts/s', 'URG Flag Cnt', 'PSH Flag Cnt'], 'Normal sample 28': ['FIN Flag Cnt', 'Bwd Pkts/s', 'SYN Flag Cnt', 'Bwd Pkt Len Max', 'Init Bwd Win Byts', 'Bwd IAT Tot', 'Down/Up Ratio', 'URG Flag Cnt', 'Bwd URG Flags', 'Flow IAT Std'], 'Normal sample 29': ['FIN Flag Cnt', 'Bwd Pkts/s', 'SYN Flag Cnt', 'Bwd IAT Tot', 'Down/Up Ratio', 'URG Flag Cnt', 'Bwd URG Flags', 'Idle Min', 'Flow Duration', 'Tot Fwd Pkts'], 'Normal sample 30': ['SYN Flag Cnt', 'ACK Flag Cnt', 'FIN Flag Cnt', 'Bwd Pkts/s', 'Bwd PSH Flags', 'PSH Flag Cnt', 'Init Bwd Win Byts', 'Down/Up Ratio', 'URG Flag Cnt', 'Flow Pkts/s'], 'Normal sample 31': ['FIN Flag Cnt', 'Bwd Pkts/s', 'SYN Flag Cnt', 'Down/Up Ratio', 'URG Flag Cnt', 'Bwd URG Flags', 'Fwd IAT Max', 'Idle Mean', 'Idle Min', 'Bwd IAT Tot'], 'Normal sample 32': ['SYN Flag Cnt', 'ACK Flag Cnt', 'FIN Flag Cnt', 'Bwd Pkts/s', 'Bwd PSH Flags', 'PSH Flag Cnt', 'Init Bwd Win Byts', 'Flow Pkts/s', 'Down/Up Ratio', 'URG Flag Cnt'], 'Normal sample 33': ['FIN Flag Cnt', 'Bwd Pkts/s', 'Bwd Pkt Len Max', 'ACK Flag Cnt', 'Bwd PSH Flags', 'Bwd Pkt Len Mean', 'URG Flag Cnt', 'PSH Flag Cnt', 'Bwd URG Flags', 'Bwd IAT Tot'], 'Normal sample 34': ['Bwd Pkts/s', 'SYN Flag Cnt', 'URG Flag Cnt', 'Bwd PSH Flags', 'Bwd IAT Tot', 'Idle Min', 'PSH Flag Cnt', 'Bwd IAT Max', 'Bwd URG Flags', 'Flow Duration'], 'Normal sample 35': ['FIN Flag Cnt', 'Flow Duration', 'Bwd Pkts/s', 'ACK Flag Cnt', 'Bwd PSH Flags', 'Fwd IAT Max', 'Bwd Pkt Len Max', 'URG Flag Cnt', 'Bwd IAT Max', 'PSH Flag Cnt'], 'Normal sample 36': ['Bwd Pkt Len Max', 'FIN Flag Cnt', 'Bwd Pkts/s', 'Flow Duration', 'Bwd Pkt Len Mean', 'Bwd PSH Flags', 'Bwd IAT Max', 'URG Flag Cnt', 'PSH Flag Cnt', 'Pkt Len Mean'], 'Normal sample 37': ['SYN Flag Cnt', 'ACK Flag Cnt', 'FIN Flag Cnt', 'Bwd Pkts/s', 'Bwd PSH Flags', 'PSH Flag Cnt', 'Down/Up Ratio', 'URG Flag Cnt', 'Init Bwd Win Byts', 'Flow Pkts/s'], 'Normal sample 38': ['SYN Flag Cnt', 'ACK Flag Cnt', 'FIN Flag Cnt', 'Bwd Pkts/s', 'Bwd PSH Flags', 'PSH Flag Cnt', 'Init Bwd Win Byts', 'Down/Up Ratio', 'URG Flag Cnt', 'Flow Pkts/s'], 'Normal sample 39': ['SYN Flag Cnt', 'Down/Up Ratio', 'Bwd Pkts/s', 'Bwd IAT Tot', 'Init Bwd Win Byts', 'URG Flag Cnt', 'Idle Min', 'Flow IAT Std', 'Flow Duration', 'Tot Fwd Pkts'], 'Normal sample 40': ['SYN Flag Cnt', 'ACK Flag Cnt', 'FIN Flag Cnt', 'Bwd Pkts/s', 'Bwd PSH Flags', 'PSH Flag Cnt', 'Down/Up Ratio', 'Init Bwd Win Byts', 'URG Flag Cnt', 'Flow Pkts/s'], 'Normal sample 41': ['FIN Flag Cnt', 'Bwd Pkts/s', 'SYN Flag Cnt', 'Bwd IAT Tot', 'Down/Up Ratio', 'Bwd Pkt Len Max', 'Init Bwd Win Byts', 'URG Flag Cnt', 'Bwd URG Flags', 'Fwd Act Data Pkts'], 'Normal sample 42': ['FIN Flag Cnt', 'Bwd Pkts/s', 'SYN Flag Cnt', 'Bwd PSH Flags', 'URG Flag Cnt', 'Bwd IAT Tot', 'Bwd IAT Max', 'Idle Min', 'Flow IAT Std', 'Flow Duration'], 'Normal sample 43': ['FIN Flag Cnt', 'Bwd Pkts/s', 'Flow Duration', 'ACK Flag Cnt', 'Bwd PSH Flags', 'Fwd IAT Max', 'URG Flag Cnt', 'PSH Flag Cnt', 'Bwd IAT Max', 'Bwd URG Flags'], 'Normal sample 44': ['SYN Flag Cnt', 'ACK Flag Cnt', 'FIN Flag Cnt', 'Bwd Pkts/s', 'Bwd PSH Flags', 'PSH Flag Cnt', 'Init Bwd Win Byts', 'Down/Up Ratio', 'URG Flag Cnt', 'Flow Pkts/s'], 'Normal sample 45': ['SYN Flag Cnt', 'ACK Flag Cnt', 'FIN Flag Cnt', 'Bwd Pkts/s', 'Bwd PSH Flags', 'PSH Flag Cnt', 'Down/Up Ratio', 'Init Bwd Win Byts', 'Flow Pkts/s', 'URG Flag Cnt'], 'Normal sample 46': ['FIN Flag Cnt', 'Bwd Pkts/s', 'SYN Flag Cnt', 'Bwd PSH Flags', 'URG Flag Cnt', 'Bwd IAT Tot', 'Bwd IAT Max', 'Idle Min', 'Flow IAT Std', 'Flow Duration'], 'Normal sample 47': ['FIN Flag Cnt', 'Bwd Pkts/s', 'SYN Flag Cnt', 'Bwd PSH Flags', 'URG Flag Cnt', 'Bwd IAT Tot', 'Bwd IAT Max', 'Idle Min', 'Bwd URG Flags', 'PSH Flag Cnt'], 'Normal sample 48': ['SYN Flag Cnt', 'ACK Flag Cnt', 'FIN Flag Cnt', 'Bwd Pkts/s', 'Bwd PSH Flags', 'PSH Flag Cnt', 'Init Bwd Win Byts', 'URG Flag Cnt', 'Down/Up Ratio', 'Flow Pkts/s'], 'Normal sample 49': ['SYN Flag Cnt', 'ACK Flag Cnt', 'FIN Flag Cnt', 'Bwd Pkts/s', 'Bwd PSH Flags', 'Init Bwd Win Byts', 'PSH Flag Cnt', 'Down/Up Ratio', 'URG Flag Cnt', 'Flow Pkts/s'], 'Normal sample 50': ['SYN Flag Cnt', 'ACK Flag Cnt', 'FIN Flag Cnt', 'Bwd Pkts/s', 'Bwd PSH Flags', 'PSH Flag Cnt', 'Init Bwd Win Byts', 'URG Flag Cnt', 'Flow Pkts/s', 'Down/Up Ratio'], 'Normal sample 51': ['SYN Flag Cnt', 'ACK Flag Cnt', 'FIN Flag Cnt', 'Bwd Pkts/s', 'Bwd PSH Flags', 'PSH Flag Cnt', 'URG Flag Cnt', 'Init Bwd Win Byts', 'Down/Up Ratio', 'Bwd URG Flags'], 'Normal sample 52': ['SYN Flag Cnt', 'ACK Flag Cnt', 'FIN Flag Cnt', 'Bwd Pkts/s', 'Bwd PSH Flags', 'PSH Flag Cnt', 'Init Bwd Win Byts', 'Down/Up Ratio', 'Flow Pkts/s', 'URG Flag Cnt'], 'Normal sample 53': ['FIN Flag Cnt', 'Bwd Pkts/s', 'ACK Flag Cnt', 'Bwd PSH Flags', 'Bwd Pkt Len Max', 'URG Flag Cnt', 'Flow IAT Max', 'PSH Flag Cnt', 'Bwd Pkt Len Mean', 'Bwd IAT Tot'], 'Normal sample 54': ['SYN Flag Cnt', 'ACK Flag Cnt', 'FIN Flag Cnt', 'Bwd Pkts/s', 'Bwd PSH Flags', 'PSH Flag Cnt', 'Init Bwd Win Byts', 'Down/Up Ratio', 'URG Flag Cnt', 'Flow Pkts/s'], 'Normal sample 55': ['FIN Flag Cnt', 'Bwd Pkts/s', 'ACK Flag Cnt', 'Bwd PSH Flags', 'PSH Flag Cnt', 'URG Flag Cnt', 'Bwd IAT Tot', 'Bwd URG Flags', 'Fwd IAT Max', 'Flow Duration'], 'Normal sample 56': ['FIN Flag Cnt', 'SYN Flag Cnt', 'Bwd Pkts/s', 'Bwd PSH Flags', 'Init Bwd Win Byts', 'Down/Up Ratio', 'Bwd IAT Tot', 'PSH Flag Cnt', 'Flow Pkts/s', 'Bwd IAT Max'], 'Normal sample 57': ['FIN Flag Cnt', 'Bwd Pkts/s', 'SYN Flag Cnt', 'Bwd PSH Flags', 'URG Flag Cnt', 'Bwd IAT Tot', 'Down/Up Ratio', 'Bwd IAT Max', 'Idle Min', 'Flow IAT Std'], 'Normal sample 58': ['SYN Flag Cnt', 'ACK Flag Cnt', 'FIN Flag Cnt', 'Bwd Pkts/s', 'Bwd PSH Flags', 'PSH Flag Cnt', 'Down/Up Ratio', 'Init Bwd Win Byts', 'URG Flag Cnt', 'Flow Pkts/s'], 'Normal sample 59': ['Bwd Pkts/s', 'SYN Flag Cnt', 'Bwd PSH Flags', 'URG Flag Cnt', 'Bwd IAT Tot', 'Idle Min', 'PSH Flag Cnt', 'Bwd IAT Max', 'Flow IAT Max', 'Flow Duration'], 'Normal sample 60': ['SYN Flag Cnt', 'ACK Flag Cnt', 'FIN Flag Cnt', 'Bwd Pkts/s', 'Bwd PSH Flags', 'PSH Flag Cnt', 'Init Bwd Win Byts', 'URG Flag Cnt', 'Down/Up Ratio', 'Flow Pkts/s'], 'Normal sample 61': ['SYN Flag Cnt', 'ACK Flag Cnt', 'FIN Flag Cnt', 'Bwd Pkts/s', 'Bwd PSH Flags', 'PSH Flag Cnt', 'Down/Up Ratio', 'Init Bwd Win Byts', 'URG Flag Cnt', 'Flow Pkts/s'], 'Normal sample 62': ['FIN Flag Cnt', 'Bwd Pkts/s', 'ACK Flag Cnt', 'Bwd PSH Flags', 'URG Flag Cnt', 'PSH Flag Cnt', 'Bwd IAT Tot', 'Bwd URG Flags', 'Fwd IAT Max', 'Flow Duration'], 'Normal sample 63': ['FIN Flag Cnt', 'Bwd Pkts/s', 'ACK Flag Cnt', 'Bwd PSH Flags', 'URG Flag Cnt', 'PSH Flag Cnt', 'Bwd URG Flags', 'Bwd Pkt Len Max', 'Flow IAT Max', 'Flow Duration'], 'Normal sample 64': ['SYN Flag Cnt', 'ACK Flag Cnt', 'FIN Flag Cnt', 'Bwd Pkts/s', 'Bwd PSH Flags', 'PSH Flag Cnt', 'Down/Up Ratio', 'Init Bwd Win Byts', 'URG Flag Cnt', 'Flow Pkts/s'], 'Normal sample 65': ['SYN Flag Cnt', 'ACK Flag Cnt', 'FIN Flag Cnt', 'Bwd Pkts/s', 'Bwd PSH Flags', 'Down/Up Ratio', 'PSH Flag Cnt', 'Init Bwd Win Byts', 'URG Flag Cnt', 'Flow Pkts/s'], 'Normal sample 66': ['FIN Flag Cnt', 'Bwd Pkts/s', 'SYN Flag Cnt', 'Bwd IAT Tot', 'Down/Up Ratio', 'URG Flag Cnt', 'Bwd URG Flags', 'Flow Duration', 'Tot Fwd Pkts', 'Tot Bwd Pkts'], 'Normal sample 67': ['FIN Flag Cnt', 'Bwd Pkts/s', 'SYN Flag Cnt', 'URG Flag Cnt', 'Bwd IAT Tot', 'Down/Up Ratio', 'Bwd URG Flags', 'Flow Duration', 'Tot Fwd Pkts', 'Tot Bwd Pkts'], 'Normal sample 68': ['SYN Flag Cnt', 'ACK Flag Cnt', 'FIN Flag Cnt', 'Bwd Pkts/s', 'Bwd PSH Flags', 'PSH Flag Cnt', 'Init Bwd Win Byts', 'URG Flag Cnt', 'Flow Pkts/s', 'Down/Up Ratio'], 'Normal sample 69': ['SYN Flag Cnt', 'ACK Flag Cnt', 'FIN Flag Cnt', 'Bwd Pkts/s', 'Bwd PSH Flags', 'PSH Flag Cnt', 'Down/Up Ratio', 'URG Flag Cnt', 'Init Bwd Win Byts', 'Flow Pkts/s'], 'Normal sample 70': ['SYN Flag Cnt', 'ACK Flag Cnt', 'FIN Flag Cnt', 'Bwd Pkts/s', 'Bwd PSH Flags', 'Down/Up Ratio', 'PSH Flag Cnt', 'URG Flag Cnt', 'Init Bwd Win Byts', 'Flow Pkts/s'], 'Normal sample 71': ['SYN Flag Cnt', 'ACK Flag Cnt', 'FIN Flag Cnt', 'Bwd Pkts/s', 'Bwd PSH Flags', 'PSH Flag Cnt', 'Init Bwd Win Byts', 'URG Flag Cnt', 'Down/Up Ratio', 'Flow Pkts/s'], 'Normal sample 72': ['SYN Flag Cnt', 'ACK Flag Cnt', 'FIN Flag Cnt', 'Bwd Pkts/s', 'Bwd PSH Flags', 'Down/Up Ratio', 'PSH Flag Cnt', 'Init Bwd Win Byts', 'URG Flag Cnt', 'Flow Pkts/s'], 'Normal sample 73': ['FIN Flag Cnt', 'Bwd IAT Max', 'Bwd IAT Std', 'SYN Flag Cnt', 'Down/Up Ratio', 'Bwd Pkts/s', 'URG Flag Cnt', 'Fwd IAT Mean', 'Flow Pkts/s', 'Flow IAT Mean'], 'Normal sample 74': ['SYN Flag Cnt', 'ACK Flag Cnt', 'FIN Flag Cnt', 'Bwd Pkts/s', 'Bwd PSH Flags', 'Init Bwd Win Byts', 'PSH Flag Cnt', 'Down/Up Ratio', 'URG Flag Cnt', 'Flow Pkts/s'], 'Normal sample 75': ['SYN Flag Cnt', 'ACK Flag Cnt', 'FIN Flag Cnt', 'Bwd Pkts/s', 'Bwd PSH Flags', 'PSH Flag Cnt', 'Init Bwd Win Byts', 'Down/Up Ratio', 'URG Flag Cnt', 'Flow Pkts/s'], 'Normal sample 76': ['SYN Flag Cnt', 'ACK Flag Cnt', 'FIN Flag Cnt', 'Bwd Pkts/s', 'Bwd PSH Flags', 'PSH Flag Cnt', 'Init Bwd Win Byts', 'Flow Pkts/s', 'Down/Up Ratio', 'URG Flag Cnt'], 'Normal sample 77': ['FIN Flag Cnt', 'Flow Pkts/s', 'Bwd PSH Flags', 'SYN Flag Cnt', 'Down/Up Ratio', 'URG Flag Cnt', 'Idle Min', 'Bwd IAT Tot', 'Bwd URG Flags', 'PSH Flag Cnt'], 'Normal sample 78': ['FIN Flag Cnt', 'Bwd Pkts/s', 'SYN Flag Cnt', 'Fwd IAT Max', 'Flow Duration', 'Bwd IAT Max', 'Idle Max', 'Down/Up Ratio', 'URG Flag Cnt', 'Flow Pkts/s'], 'Normal sample 79': ['SYN Flag Cnt', 'ACK Flag Cnt', 'FIN Flag Cnt', 'Bwd Pkts/s', 'Bwd PSH Flags', 'PSH Flag Cnt', 'URG Flag Cnt', 'Init Bwd Win Byts', 'Down/Up Ratio', 'Bwd URG Flags'], 'Normal sample 80': ['FIN Flag Cnt', 'Bwd Pkts/s', 'SYN Flag Cnt', 'Bwd PSH Flags', 'Bwd IAT Tot', 'URG Flag Cnt', 'Down/Up Ratio', 'Bwd IAT Max', 'Bwd URG Flags', 'PSH Flag Cnt'], 'Normal sample 81': ['FIN Flag Cnt', 'Bwd Pkts/s', 'ACK Flag Cnt', 'Bwd PSH Flags', 'Bwd Pkt Len Max', 'Flow Duration', 'URG Flag Cnt', 'PSH Flag Cnt', 'Bwd IAT Max', 'Bwd Pkt Len Mean'], 'Normal sample 82': ['SYN Flag Cnt', 'ACK Flag Cnt', 'FIN Flag Cnt', 'Bwd Pkts/s', 'Bwd PSH Flags', 'PSH Flag Cnt', 'Init Bwd Win Byts', 'URG Flag Cnt', 'Flow Pkts/s', 'Down/Up Ratio'], 'Normal sample 83': ['FIN Flag Cnt', 'Bwd Pkts/s', 'SYN Flag Cnt', 'Bwd PSH Flags', 'URG Flag Cnt', 'Bwd IAT Tot', 'Down/Up Ratio', 'Idle Min', 'Bwd IAT Max', 'Bwd URG Flags'], 'Normal sample 84': ['SYN Flag Cnt', 'FIN Flag Cnt', 'Bwd Pkts/s', 'Bwd PSH Flags', 'ACK Flag Cnt', 'URG Flag Cnt', 'Bwd IAT Tot', 'Bwd URG Flags', 'PSH Flag Cnt', 'Idle Min'], 'Normal sample 85': ['FIN Flag Cnt', 'Bwd Pkts/s', 'SYN Flag Cnt', 'Bwd PSH Flags', 'Bwd IAT Tot', 'URG Flag Cnt', 'Bwd IAT Max', 'Flow IAT Std', 'Bwd URG Flags', 'Flow Duration'], 'Normal sample 86': ['SYN Flag Cnt', 'ACK Flag Cnt', 'FIN Flag Cnt', 'Bwd Pkts/s', 'Bwd PSH Flags', 'Down/Up Ratio', 'PSH Flag Cnt', 'Init Bwd Win Byts', 'URG Flag Cnt', 'Flow Pkts/s'], 'Normal sample 87': ['FIN Flag Cnt', 'Bwd Pkts/s', 'ACK Flag Cnt', 'Flow Duration', 'Bwd PSH Flags', 'Fwd IAT Max', 'URG Flag Cnt', 'Bwd IAT Max', 'PSH Flag Cnt', 'Bwd URG Flags'], 'Normal sample 88': ['Bwd Pkts/s', 'SYN Flag Cnt', 'Bwd PSH Flags', 'URG Flag Cnt', 'Bwd IAT Tot', 'PSH Flag Cnt', 'Idle Min', 'Bwd IAT Max', 'Flow IAT Max', 'Bwd IAT Std'], 'Normal sample 89': ['Bwd Pkt Len Max', 'FIN Flag Cnt', 'Bwd IAT Max', 'Bwd Pkts/s', 'Init Bwd Win Byts', 'URG Flag Cnt', 'PSH Flag Cnt', 'Down/Up Ratio', 'Bwd PSH Flags', 'Tot Fwd Pkts'], 'Normal sample 90': ['FIN Flag Cnt', 'Bwd Pkts/s', 'SYN Flag Cnt', 'Bwd PSH Flags', 'URG Flag Cnt', 'Bwd IAT Tot', 'Bwd IAT Max', 'Idle Min', 'Bwd URG Flags', 'Flow IAT Std'], 'Normal sample 91': ['FIN Flag Cnt', 'Bwd Pkts/s', 'Bwd Pkt Len Max', 'ACK Flag Cnt', 'Bwd Pkt Len Mean', 'Bwd PSH Flags', 'URG Flag Cnt', 'PSH Flag Cnt', 'Flow IAT Max', 'Bwd IAT Tot'], 'Normal sample 92': ['Bwd Pkts/s', 'SYN Flag Cnt', 'URG Flag Cnt', 'Bwd PSH Flags', 'Bwd IAT Tot', 'PSH Flag Cnt', 'Idle Min', 'Bwd IAT Max', 'Flow Duration', 'Tot Fwd Pkts'], 'Normal sample 93': ['FIN Flag Cnt', 'Bwd IAT Max', 'SYN Flag Cnt', 'Bwd Pkts/s', 'Fwd IAT Mean', 'Bwd IAT Std', 'Idle Max', 'Fwd Pkt Len Mean', 'URG Flag Cnt', 'Pkt Len Std'], 'Normal sample 94': ['FIN Flag Cnt', 'Bwd Pkts/s', 'Flow Duration', 'ACK Flag Cnt', 'Bwd PSH Flags', 'PSH Flag Cnt', 'Bwd Pkt Len Max', 'Fwd IAT Max', 'Bwd IAT Max', 'URG Flag Cnt'], 'Normal sample 95': ['SYN Flag Cnt', 'ACK Flag Cnt', 'FIN Flag Cnt', 'Bwd Pkts/s', 'Bwd PSH Flags', 'PSH Flag Cnt', 'URG Flag Cnt', 'Init Bwd Win Byts', 'Down/Up Ratio', 'Bwd URG Flags'], 'Normal sample 96': ['FIN Flag Cnt', 'Bwd Pkts/s', 'Bwd Pkt Len Mean', 'Pkt Len Mean', 'Flow Duration', 'PSH Flag Cnt', 'Bwd PSH Flags', 'Bwd URG Flags', 'URG Flag Cnt', 'Subflow Bwd Pkts'], 'Normal sample 97': ['SYN Flag Cnt', 'ACK Flag Cnt', 'FIN Flag Cnt', 'Bwd Pkts/s', 'Bwd PSH Flags', 'Down/Up Ratio', 'PSH Flag Cnt', 'Init Bwd Win Byts', 'URG Flag Cnt', 'Flow Pkts/s'], 'Normal sample 98': ['FIN Flag Cnt', 'Bwd IAT Max', 'Bwd Pkts/s', 'Bwd Pkt Len Max', 'URG Flag Cnt', 'Bwd PSH Flags', 'Fwd IAT Mean', 'Flow Pkts/s', 'Down/Up Ratio', 'Bwd Header Len'], 'Normal sample 99': ['SYN Flag Cnt', 'ACK Flag Cnt', 'FIN Flag Cnt', 'Bwd Pkts/s', 'Bwd PSH Flags', 'PSH Flag Cnt', 'Down/Up Ratio', 'Init Bwd Win Byts', 'URG Flag Cnt', 'Flow Pkts/s'], 'Normal sample 100': ['SYN Flag Cnt', 'ACK Flag Cnt', 'FIN Flag Cnt', 'Bwd Pkts/s', 'Bwd PSH Flags', 'PSH Flag Cnt', 'Down/Up Ratio', 'Init Bwd Win Byts', 'URG Flag Cnt', 'Flow Pkts/s'], 'Normal sample 101': ['SYN Flag Cnt', 'ACK Flag Cnt', 'FIN Flag Cnt', 'Bwd Pkts/s', 'PSH Flag Cnt', 'Bwd PSH Flags', 'URG Flag Cnt', 'Init Bwd Win Byts', 'Flow Pkts/s', 'Flow IAT Max'], 'Normal sample 102': ['SYN Flag Cnt', 'ACK Flag Cnt', 'FIN Flag Cnt', 'Bwd Pkts/s', 'Bwd PSH Flags', 'PSH Flag Cnt', 'Init Bwd Win Byts', 'URG Flag Cnt', 'Down/Up Ratio', 'Flow Pkts/s'], 'Normal sample 103': ['SYN Flag Cnt', 'ACK Flag Cnt', 'FIN Flag Cnt', 'Bwd Pkts/s', 'Bwd PSH Flags', 'PSH Flag Cnt', 'URG Flag Cnt', 'Down/Up Ratio', 'Init Bwd Win Byts', 'Flow Pkts/s'], 'Normal sample 104': ['SYN Flag Cnt', 'ACK Flag Cnt', 'FIN Flag Cnt', 'Bwd Pkts/s', 'Bwd PSH Flags', 'PSH Flag Cnt', 'Init Bwd Win Byts', 'URG Flag Cnt', 'Down/Up Ratio', 'Flow Pkts/s'], 'Normal sample 105': ['FIN Flag Cnt', 'Flow Duration', 'Bwd Pkts/s', 'Bwd Pkt Len Max', 'ACK Flag Cnt', 'Bwd PSH Flags', 'URG Flag Cnt', 'PSH Flag Cnt', 'Fwd IAT Max', 'Bwd IAT Max'], 'Normal sample 106': ['SYN Flag Cnt', 'ACK Flag Cnt', 'FIN Flag Cnt', 'Bwd Pkts/s', 'Bwd PSH Flags', 'Init Bwd Win Byts', 'PSH Flag Cnt', 'Down/Up Ratio', 'URG Flag Cnt', 'Flow Pkts/s'], 'Normal sample 107': ['FIN Flag Cnt', 'Bwd Pkts/s', 'SYN Flag Cnt', 'Bwd PSH Flags', 'URG Flag Cnt', 'Bwd IAT Tot', 'Bwd IAT Max', 'Idle Min', 'Bwd URG Flags', 'PSH Flag Cnt'], 'Normal sample 108': ['FIN Flag Cnt', 'Bwd Pkts/s', 'ACK Flag Cnt', 'Bwd PSH Flags', 'Bwd Pkt Len Max', 'URG Flag Cnt', 'PSH Flag Cnt', 'Bwd URG Flags', 'Bwd Pkt Len Mean', 'Flow Duration'], 'Normal sample 109': ['FIN Flag Cnt', 'Bwd IAT Max', 'Bwd Pkts/s', 'Fwd IAT Mean', 'TotLen Fwd Pkts', 'URG Flag Cnt', 'PSH Flag Cnt', 'Bwd PSH Flags', 'Bwd URG Flags', 'ACK Flag Cnt'], 'Normal sample 110': ['SYN Flag Cnt', 'ACK Flag Cnt', 'FIN Flag Cnt', 'Bwd Pkts/s', 'Bwd PSH Flags', 'PSH Flag Cnt', 'Down/Up Ratio', 'Init Bwd Win Byts', 'URG Flag Cnt', 'Flow Pkts/s'], 'Normal sample 111': ['SYN Flag Cnt', 'ACK Flag Cnt', 'FIN Flag Cnt', 'Bwd Pkts/s', 'Bwd PSH Flags', 'PSH Flag Cnt', 'Init Bwd Win Byts', 'Down/Up Ratio', 'URG Flag Cnt', 'Flow Pkts/s'], 'Normal sample 112': ['FIN Flag Cnt', 'Bwd Pkts/s', 'SYN Flag Cnt', 'Bwd PSH Flags', 'URG Flag Cnt', 'Bwd IAT Tot', 'Bwd IAT Max', 'Idle Min', 'Flow IAT Std', 'Flow Duration'], 'Normal sample 113': ['FIN Flag Cnt', 'Bwd Pkts/s', 'Bwd Pkt Len Max', 'ACK Flag Cnt', 'Bwd PSH Flags', 'Bwd Pkt Len Mean', 'PSH Flag Cnt', 'URG Flag Cnt', 'Bwd IAT Tot', 'Flow IAT Max'], 'Normal sample 114': ['FIN Flag Cnt', 'Fwd IAT Max', 'Bwd Pkts/s', 'Bwd IAT Max', 'PSH Flag Cnt', 'ACK Flag Cnt', 'Fwd IAT Mean', 'Bwd PSH Flags', 'Idle Mean', 'URG Flag Cnt'], 'Normal sample 115': ['ACK Flag Cnt', 'SYN Flag Cnt', 'FIN Flag Cnt', 'Bwd Pkts/s', 'Bwd PSH Flags', 'Flow Pkts/s', 'PSH Flag Cnt', 'Init Bwd Win Byts', 'URG Flag Cnt', 'Bwd URG Flags'], 'Normal sample 116': ['SYN Flag Cnt', 'ACK Flag Cnt', 'FIN Flag Cnt', 'Bwd Pkts/s', 'Bwd PSH Flags', 'PSH Flag Cnt', 'Init Bwd Win Byts', 'Down/Up Ratio', 'URG Flag Cnt', 'Flow Pkts/s'], 'Normal sample 117': ['SYN Flag Cnt', 'ACK Flag Cnt', 'FIN Flag Cnt', 'Bwd Pkts/s', 'Bwd PSH Flags', 'PSH Flag Cnt', 'Init Bwd Win Byts', 'URG Flag Cnt', 'Down/Up Ratio', 'Flow Pkts/s'], 'Normal sample 118': ['FIN Flag Cnt', 'Flow Duration', 'Bwd Pkts/s', 'ACK Flag Cnt', 'Bwd PSH Flags', 'URG Flag Cnt', 'PSH Flag Cnt', 'Fwd IAT Max', 'Bwd IAT Max', 'Idle Min'], 'Normal sample 119': ['FIN Flag Cnt', 'Flow Pkts/s', 'Bwd PSH Flags', 'SYN Flag Cnt', 'URG Flag Cnt', 'Bwd IAT Tot', 'Idle Min', 'Down/Up Ratio', 'PSH Flag Cnt', 'Bwd URG Flags'], 'Normal sample 120': ['SYN Flag Cnt', 'ACK Flag Cnt', 'FIN Flag Cnt', 'Bwd Pkts/s', 'Bwd PSH Flags', 'PSH Flag Cnt', 'Down/Up Ratio', 'Init Bwd Win Byts', 'URG Flag Cnt', 'Flow Pkts/s'], 'Normal sample 121': ['SYN Flag Cnt', 'ACK Flag Cnt', 'FIN Flag Cnt', 'Bwd Pkts/s', 'Bwd PSH Flags', 'PSH Flag Cnt', 'Down/Up Ratio', 'Init Bwd Win Byts', 'URG Flag Cnt', 'Flow Pkts/s'], 'Normal sample 122': ['SYN Flag Cnt', 'ACK Flag Cnt', 'FIN Flag Cnt', 'Bwd Pkts/s', 'Bwd PSH Flags', 'Init Bwd Win Byts', 'PSH Flag Cnt', 'Down/Up Ratio', 'URG Flag Cnt', 'Flow Pkts/s'], 'Normal sample 123': ['FIN Flag Cnt', 'SYN Flag Cnt', 'Bwd IAT Max', 'Bwd Pkts/s', 'Flow Pkts/s', 'Fwd IAT Mean', 'URG Flag Cnt', 'Bwd IAT Std', 'Bwd IAT Min', 'Bwd Pkt Len Std'], 'Normal sample 124': ['SYN Flag Cnt', 'ACK Flag Cnt', 'FIN Flag Cnt', 'Bwd Pkts/s', 'Bwd PSH Flags', 'PSH Flag Cnt', 'Down/Up Ratio', 'Init Bwd Win Byts', 'URG Flag Cnt', 'Flow Pkts/s'], 'Normal sample 125': ['SYN Flag Cnt', 'FIN Flag Cnt', 'Bwd Pkts/s', 'Bwd PSH Flags', 'Init Bwd Win Byts', 'Down/Up Ratio', 'Bwd IAT Tot', 'Flow Pkts/s', 'URG Flag Cnt', 'Fwd Seg Size Avg'], 'Normal sample 126': ['Bwd Pkts/s', 'SYN Flag Cnt', 'URG Flag Cnt', 'Bwd PSH Flags', 'Bwd IAT Tot', 'Idle Min', 'Bwd IAT Max', 'PSH Flag Cnt', 'Pkt Len Min', 'Bwd Seg Size Avg'], 'Normal sample 127': ['SYN Flag Cnt', 'ACK Flag Cnt', 'FIN Flag Cnt', 'Bwd Pkts/s', 'Bwd PSH Flags', 'PSH Flag Cnt', 'Init Bwd Win Byts', 'URG Flag Cnt', 'Flow Pkts/s', 'Down/Up Ratio'], 'Normal sample 128': ['FIN Flag Cnt', 'Bwd Pkts/s', 'SYN Flag Cnt', 'URG Flag Cnt', 'Bwd PSH Flags', 'Idle Mean', 'Flow Duration', 'Down/Up Ratio', 'Fwd IAT Mean', 'Fwd IAT Max'], 'Normal sample 129': ['SYN Flag Cnt', 'ACK Flag Cnt', 'FIN Flag Cnt', 'Bwd Pkts/s', 'Bwd PSH Flags', 'PSH Flag Cnt', 'Down/Up Ratio', 'URG Flag Cnt', 'Init Bwd Win Byts', 'Flow Pkts/s'], 'Normal sample 130': ['SYN Flag Cnt', 'ACK Flag Cnt', 'FIN Flag Cnt', 'Bwd Pkts/s', 'Bwd PSH Flags', 'PSH Flag Cnt', 'Init Bwd Win Byts', 'Flow Pkts/s', 'URG Flag Cnt', 'Down/Up Ratio'], 'Normal sample 131': ['FIN Flag Cnt', 'Bwd IAT Max', 'Fwd IAT Mean', 'Bwd Pkts/s', 'Bwd IAT Std', 'URG Flag Cnt', 'Idle Max', 'Flow IAT Mean', 'SYN Flag Cnt', 'Flow Duration'], 'Normal sample 132': ['SYN Flag Cnt', 'ACK Flag Cnt', 'FIN Flag Cnt', 'Bwd Pkts/s', 'Bwd PSH Flags', 'PSH Flag Cnt', 'URG Flag Cnt', 'Init Bwd Win Byts', 'Down/Up Ratio', 'Flow Pkts/s'], 'Normal sample 133': ['FIN Flag Cnt', 'Bwd IAT Max', 'Bwd Pkts/s', 'Fwd IAT Mean', 'Bwd PSH Flags', 'PSH Flag Cnt', 'Active Std', 'URG Flag Cnt', 'Active Mean', 'ACK Flag Cnt'], 'Normal sample 134': ['Bwd Pkts/s', 'SYN Flag Cnt', 'URG Flag Cnt', 'Bwd PSH Flags', 'Idle Min', 'Bwd IAT Tot', 'Bwd IAT Max', 'PSH Flag Cnt', 'Flow Duration', 'Tot Fwd Pkts'], 'Normal sample 135': ['FIN Flag Cnt', 'Bwd Pkts/s', 'ACK Flag Cnt', 'Bwd PSH Flags', 'Bwd Pkt Len Max', 'URG Flag Cnt', 'PSH Flag Cnt', 'Flow IAT Max', 'Bwd IAT Tot', 'Bwd URG Flags'], 'Normal sample 136': ['SYN Flag Cnt', 'ACK Flag Cnt', 'FIN Flag Cnt', 'Bwd Pkts/s', 'Bwd PSH Flags', 'PSH Flag Cnt', 'Down/Up Ratio', 'Init Bwd Win Byts', 'URG Flag Cnt', 'Flow Pkts/s'], 'Normal sample 137': ['FIN Flag Cnt', 'Bwd Pkts/s', 'SYN Flag Cnt', 'URG Flag Cnt', 'Bwd IAT Max', 'Flow Pkts/s', 'Bwd IAT Std', 'Pkt Len Std', 'Down/Up Ratio', 'Flow IAT Max'], 'Normal sample 138': ['SYN Flag Cnt', 'ACK Flag Cnt', 'FIN Flag Cnt', 'Bwd Pkts/s', 'Bwd PSH Flags', 'PSH Flag Cnt', 'Init Bwd Win Byts', 'Down/Up Ratio', 'URG Flag Cnt', 'Flow Pkts/s'], 'Normal sample 139': ['FIN Flag Cnt', 'Bwd Pkts/s', 'SYN Flag Cnt', 'Bwd IAT Tot', 'URG Flag Cnt', 'Bwd URG Flags', 'Down/Up Ratio', 'Flow Duration', 'Tot Fwd Pkts', 'Tot Bwd Pkts'], 'Normal sample 140': ['FIN Flag Cnt', 'Bwd Pkts/s', 'SYN Flag Cnt', 'Bwd PSH Flags', 'URG Flag Cnt', 'Bwd IAT Tot', 'Bwd IAT Max', 'Idle Min', 'Bwd URG Flags', 'Flow Duration'], 'Normal sample 141': ['SYN Flag Cnt', 'ACK Flag Cnt', 'FIN Flag Cnt', 'Bwd Pkts/s', 'Bwd PSH Flags', 'PSH Flag Cnt', 'Init Bwd Win Byts', 'Flow Pkts/s', 'URG Flag Cnt', 'Down/Up Ratio'], 'Normal sample 142': ['FIN Flag Cnt', 'Bwd Pkts/s', 'ACK Flag Cnt', 'Bwd Pkt Len Max', 'Bwd PSH Flags', 'URG Flag Cnt', 'Bwd Pkt Len Mean', 'PSH Flag Cnt', 'Down/Up Ratio', 'Bwd URG Flags'], 'Normal sample 143': ['SYN Flag Cnt', 'ACK Flag Cnt', 'FIN Flag Cnt', 'Bwd Pkts/s', 'Bwd PSH Flags', 'PSH Flag Cnt', 'URG Flag Cnt', 'Init Bwd Win Byts', 'Flow Pkts/s', 'Down/Up Ratio'], 'Normal sample 144': ['SYN Flag Cnt', 'ACK Flag Cnt', 'FIN Flag Cnt', 'Bwd Pkts/s', 'Bwd PSH Flags', 'PSH Flag Cnt', 'Down/Up Ratio', 'Init Bwd Win Byts', 'URG Flag Cnt', 'Flow Pkts/s'], 'Normal sample 145': ['FIN Flag Cnt', 'Bwd Pkts/s', 'ACK Flag Cnt', 'Bwd PSH Flags', 'Bwd Pkt Len Max', 'Flow Duration', 'PSH Flag Cnt', 'URG Flag Cnt', 'Bwd IAT Max', 'Bwd URG Flags'], 'Normal sample 146': ['SYN Flag Cnt', 'ACK Flag Cnt', 'FIN Flag Cnt', 'Bwd Pkts/s', 'Bwd PSH Flags', 'PSH Flag Cnt', 'Init Bwd Win Byts', 'URG Flag Cnt', 'Down/Up Ratio', 'Flow Pkts/s'], 'Normal sample 147': ['FIN Flag Cnt', 'Bwd Pkts/s', 'Bwd PSH Flags', 'SYN Flag Cnt', 'Bwd IAT Max', 'URG Flag Cnt', 'Fwd IAT Mean', 'Down/Up Ratio', 'Flow Pkts/s', 'Bwd URG Flags'], 'Normal sample 148': ['SYN Flag Cnt', 'ACK Flag Cnt', 'FIN Flag Cnt', 'Bwd Pkts/s', 'Bwd PSH Flags', 'PSH Flag Cnt', 'Init Bwd Win Byts', 'Down/Up Ratio', 'URG Flag Cnt', 'Flow Pkts/s'], 'Normal sample 149': ['SYN Flag Cnt', 'ACK Flag Cnt', 'FIN Flag Cnt', 'Bwd Pkts/s', 'Bwd PSH Flags', 'PSH Flag Cnt', 'Init Bwd Win Byts', 'URG Flag Cnt', 'Down/Up Ratio', 'Flow Pkts/s']}\n"
          ]
        }
      ]
    },
    {
      "cell_type": "code",
      "source": [
        "len(data_dict)"
      ],
      "metadata": {
        "colab": {
          "base_uri": "https://localhost:8080/"
        },
        "id": "CDRmV6RRT6gS",
        "outputId": "20935714-c09f-4106-91cc-433900ec70de"
      },
      "execution_count": 25,
      "outputs": [
        {
          "output_type": "execute_result",
          "data": {
            "text/plain": [
              "150"
            ]
          },
          "metadata": {},
          "execution_count": 25
        }
      ]
    },
    {
      "cell_type": "markdown",
      "source": [
        "# New whitelist: 38 top features with over 10k freq each"
      ],
      "metadata": {
        "id": "JyjDe5Kxredo"
      }
    },
    {
      "cell_type": "code",
      "source": [
        "df = pd.DataFrame.from_dict(data_dict, orient='index', columns=['Feature 1', 'Feature 2', 'Feature 3', 'Feature 4', 'Feature 5', 'Feature 6', 'Feature 7', 'Feature 8', 'Feature 9', 'Feature 10'])"
      ],
      "metadata": {
        "id": "HeFSTFLZeh1N"
      },
      "execution_count": 26,
      "outputs": []
    },
    {
      "cell_type": "code",
      "source": [
        "df.info()"
      ],
      "metadata": {
        "colab": {
          "base_uri": "https://localhost:8080/"
        },
        "id": "St0fe9Aye6ml",
        "outputId": "68578153-650c-4648-a1e2-8411bd5af016"
      },
      "execution_count": 27,
      "outputs": [
        {
          "output_type": "stream",
          "name": "stdout",
          "text": [
            "<class 'pandas.core.frame.DataFrame'>\n",
            "Index: 150 entries, Normal sample 0 to Normal sample 149\n",
            "Data columns (total 10 columns):\n",
            " #   Column      Non-Null Count  Dtype \n",
            "---  ------      --------------  ----- \n",
            " 0   Feature 1   150 non-null    object\n",
            " 1   Feature 2   150 non-null    object\n",
            " 2   Feature 3   150 non-null    object\n",
            " 3   Feature 4   150 non-null    object\n",
            " 4   Feature 5   150 non-null    object\n",
            " 5   Feature 6   150 non-null    object\n",
            " 6   Feature 7   150 non-null    object\n",
            " 7   Feature 8   150 non-null    object\n",
            " 8   Feature 9   150 non-null    object\n",
            " 9   Feature 10  150 non-null    object\n",
            "dtypes: object(10)\n",
            "memory usage: 12.9+ KB\n"
          ]
        }
      ]
    },
    {
      "cell_type": "code",
      "source": [
        "df.head()"
      ],
      "metadata": {
        "colab": {
          "base_uri": "https://localhost:8080/",
          "height": 478
        },
        "id": "z0LoK7TwTTFN",
        "outputId": "16cabb0f-c541-43eb-d7bf-7de6ad178f16"
      },
      "execution_count": 28,
      "outputs": [
        {
          "output_type": "execute_result",
          "data": {
            "text/plain": [
              "                    Feature 1     Feature 2     Feature 3      Feature 4  \\\n",
              "Normal sample 0  FIN Flag Cnt      Idle Max   Bwd IAT Max    Pkt Len Max   \n",
              "Normal sample 1  SYN Flag Cnt  ACK Flag Cnt  FIN Flag Cnt     Bwd Pkts/s   \n",
              "Normal sample 2  SYN Flag Cnt  ACK Flag Cnt  FIN Flag Cnt     Bwd Pkts/s   \n",
              "Normal sample 3  SYN Flag Cnt  ACK Flag Cnt  FIN Flag Cnt     Bwd Pkts/s   \n",
              "Normal sample 4  FIN Flag Cnt    Bwd Pkts/s  ACK Flag Cnt  Bwd PSH Flags   \n",
              "\n",
              "                     Feature 5     Feature 6          Feature 7  \\\n",
              "Normal sample 0     Bwd Pkts/s  URG Flag Cnt        Fwd IAT Max   \n",
              "Normal sample 1  Bwd PSH Flags  PSH Flag Cnt  Init Bwd Win Byts   \n",
              "Normal sample 2  Bwd PSH Flags  PSH Flag Cnt      Down/Up Ratio   \n",
              "Normal sample 3  Bwd PSH Flags  PSH Flag Cnt  Init Bwd Win Byts   \n",
              "Normal sample 4   PSH Flag Cnt  URG Flag Cnt        Bwd IAT Tot   \n",
              "\n",
              "                         Feature 8     Feature 9        Feature 10  \n",
              "Normal sample 0       ACK Flag Cnt  SYN Flag Cnt  Bwd Seg Size Avg  \n",
              "Normal sample 1      Down/Up Ratio   Flow Pkts/s      URG Flag Cnt  \n",
              "Normal sample 2  Init Bwd Win Byts  URG Flag Cnt       Flow Pkts/s  \n",
              "Normal sample 3      Down/Up Ratio  URG Flag Cnt       Flow Pkts/s  \n",
              "Normal sample 4      Bwd URG Flags  Flow IAT Max     Flow Duration  "
            ],
            "text/html": [
              "\n",
              "  <div id=\"df-df60c73b-61a9-4fe6-b6b0-97f6f9d9176e\">\n",
              "    <div class=\"colab-df-container\">\n",
              "      <div>\n",
              "<style scoped>\n",
              "    .dataframe tbody tr th:only-of-type {\n",
              "        vertical-align: middle;\n",
              "    }\n",
              "\n",
              "    .dataframe tbody tr th {\n",
              "        vertical-align: top;\n",
              "    }\n",
              "\n",
              "    .dataframe thead th {\n",
              "        text-align: right;\n",
              "    }\n",
              "</style>\n",
              "<table border=\"1\" class=\"dataframe\">\n",
              "  <thead>\n",
              "    <tr style=\"text-align: right;\">\n",
              "      <th></th>\n",
              "      <th>Feature 1</th>\n",
              "      <th>Feature 2</th>\n",
              "      <th>Feature 3</th>\n",
              "      <th>Feature 4</th>\n",
              "      <th>Feature 5</th>\n",
              "      <th>Feature 6</th>\n",
              "      <th>Feature 7</th>\n",
              "      <th>Feature 8</th>\n",
              "      <th>Feature 9</th>\n",
              "      <th>Feature 10</th>\n",
              "    </tr>\n",
              "  </thead>\n",
              "  <tbody>\n",
              "    <tr>\n",
              "      <th>Normal sample 0</th>\n",
              "      <td>FIN Flag Cnt</td>\n",
              "      <td>Idle Max</td>\n",
              "      <td>Bwd IAT Max</td>\n",
              "      <td>Pkt Len Max</td>\n",
              "      <td>Bwd Pkts/s</td>\n",
              "      <td>URG Flag Cnt</td>\n",
              "      <td>Fwd IAT Max</td>\n",
              "      <td>ACK Flag Cnt</td>\n",
              "      <td>SYN Flag Cnt</td>\n",
              "      <td>Bwd Seg Size Avg</td>\n",
              "    </tr>\n",
              "    <tr>\n",
              "      <th>Normal sample 1</th>\n",
              "      <td>SYN Flag Cnt</td>\n",
              "      <td>ACK Flag Cnt</td>\n",
              "      <td>FIN Flag Cnt</td>\n",
              "      <td>Bwd Pkts/s</td>\n",
              "      <td>Bwd PSH Flags</td>\n",
              "      <td>PSH Flag Cnt</td>\n",
              "      <td>Init Bwd Win Byts</td>\n",
              "      <td>Down/Up Ratio</td>\n",
              "      <td>Flow Pkts/s</td>\n",
              "      <td>URG Flag Cnt</td>\n",
              "    </tr>\n",
              "    <tr>\n",
              "      <th>Normal sample 2</th>\n",
              "      <td>SYN Flag Cnt</td>\n",
              "      <td>ACK Flag Cnt</td>\n",
              "      <td>FIN Flag Cnt</td>\n",
              "      <td>Bwd Pkts/s</td>\n",
              "      <td>Bwd PSH Flags</td>\n",
              "      <td>PSH Flag Cnt</td>\n",
              "      <td>Down/Up Ratio</td>\n",
              "      <td>Init Bwd Win Byts</td>\n",
              "      <td>URG Flag Cnt</td>\n",
              "      <td>Flow Pkts/s</td>\n",
              "    </tr>\n",
              "    <tr>\n",
              "      <th>Normal sample 3</th>\n",
              "      <td>SYN Flag Cnt</td>\n",
              "      <td>ACK Flag Cnt</td>\n",
              "      <td>FIN Flag Cnt</td>\n",
              "      <td>Bwd Pkts/s</td>\n",
              "      <td>Bwd PSH Flags</td>\n",
              "      <td>PSH Flag Cnt</td>\n",
              "      <td>Init Bwd Win Byts</td>\n",
              "      <td>Down/Up Ratio</td>\n",
              "      <td>URG Flag Cnt</td>\n",
              "      <td>Flow Pkts/s</td>\n",
              "    </tr>\n",
              "    <tr>\n",
              "      <th>Normal sample 4</th>\n",
              "      <td>FIN Flag Cnt</td>\n",
              "      <td>Bwd Pkts/s</td>\n",
              "      <td>ACK Flag Cnt</td>\n",
              "      <td>Bwd PSH Flags</td>\n",
              "      <td>PSH Flag Cnt</td>\n",
              "      <td>URG Flag Cnt</td>\n",
              "      <td>Bwd IAT Tot</td>\n",
              "      <td>Bwd URG Flags</td>\n",
              "      <td>Flow IAT Max</td>\n",
              "      <td>Flow Duration</td>\n",
              "    </tr>\n",
              "  </tbody>\n",
              "</table>\n",
              "</div>\n",
              "      <button class=\"colab-df-convert\" onclick=\"convertToInteractive('df-df60c73b-61a9-4fe6-b6b0-97f6f9d9176e')\"\n",
              "              title=\"Convert this dataframe to an interactive table.\"\n",
              "              style=\"display:none;\">\n",
              "        \n",
              "  <svg xmlns=\"http://www.w3.org/2000/svg\" height=\"24px\"viewBox=\"0 0 24 24\"\n",
              "       width=\"24px\">\n",
              "    <path d=\"M0 0h24v24H0V0z\" fill=\"none\"/>\n",
              "    <path d=\"M18.56 5.44l.94 2.06.94-2.06 2.06-.94-2.06-.94-.94-2.06-.94 2.06-2.06.94zm-11 1L8.5 8.5l.94-2.06 2.06-.94-2.06-.94L8.5 2.5l-.94 2.06-2.06.94zm10 10l.94 2.06.94-2.06 2.06-.94-2.06-.94-.94-2.06-.94 2.06-2.06.94z\"/><path d=\"M17.41 7.96l-1.37-1.37c-.4-.4-.92-.59-1.43-.59-.52 0-1.04.2-1.43.59L10.3 9.45l-7.72 7.72c-.78.78-.78 2.05 0 2.83L4 21.41c.39.39.9.59 1.41.59.51 0 1.02-.2 1.41-.59l7.78-7.78 2.81-2.81c.8-.78.8-2.07 0-2.86zM5.41 20L4 18.59l7.72-7.72 1.47 1.35L5.41 20z\"/>\n",
              "  </svg>\n",
              "      </button>\n",
              "      \n",
              "  <style>\n",
              "    .colab-df-container {\n",
              "      display:flex;\n",
              "      flex-wrap:wrap;\n",
              "      gap: 12px;\n",
              "    }\n",
              "\n",
              "    .colab-df-convert {\n",
              "      background-color: #E8F0FE;\n",
              "      border: none;\n",
              "      border-radius: 50%;\n",
              "      cursor: pointer;\n",
              "      display: none;\n",
              "      fill: #1967D2;\n",
              "      height: 32px;\n",
              "      padding: 0 0 0 0;\n",
              "      width: 32px;\n",
              "    }\n",
              "\n",
              "    .colab-df-convert:hover {\n",
              "      background-color: #E2EBFA;\n",
              "      box-shadow: 0px 1px 2px rgba(60, 64, 67, 0.3), 0px 1px 3px 1px rgba(60, 64, 67, 0.15);\n",
              "      fill: #174EA6;\n",
              "    }\n",
              "\n",
              "    [theme=dark] .colab-df-convert {\n",
              "      background-color: #3B4455;\n",
              "      fill: #D2E3FC;\n",
              "    }\n",
              "\n",
              "    [theme=dark] .colab-df-convert:hover {\n",
              "      background-color: #434B5C;\n",
              "      box-shadow: 0px 1px 3px 1px rgba(0, 0, 0, 0.15);\n",
              "      filter: drop-shadow(0px 1px 2px rgba(0, 0, 0, 0.3));\n",
              "      fill: #FFFFFF;\n",
              "    }\n",
              "  </style>\n",
              "\n",
              "      <script>\n",
              "        const buttonEl =\n",
              "          document.querySelector('#df-df60c73b-61a9-4fe6-b6b0-97f6f9d9176e button.colab-df-convert');\n",
              "        buttonEl.style.display =\n",
              "          google.colab.kernel.accessAllowed ? 'block' : 'none';\n",
              "\n",
              "        async function convertToInteractive(key) {\n",
              "          const element = document.querySelector('#df-df60c73b-61a9-4fe6-b6b0-97f6f9d9176e');\n",
              "          const dataTable =\n",
              "            await google.colab.kernel.invokeFunction('convertToInteractive',\n",
              "                                                     [key], {});\n",
              "          if (!dataTable) return;\n",
              "\n",
              "          const docLinkHtml = 'Like what you see? Visit the ' +\n",
              "            '<a target=\"_blank\" href=https://colab.research.google.com/notebooks/data_table.ipynb>data table notebook</a>'\n",
              "            + ' to learn more about interactive tables.';\n",
              "          element.innerHTML = '';\n",
              "          dataTable['output_type'] = 'display_data';\n",
              "          await google.colab.output.renderOutput(dataTable, element);\n",
              "          const docLink = document.createElement('div');\n",
              "          docLink.innerHTML = docLinkHtml;\n",
              "          element.appendChild(docLink);\n",
              "        }\n",
              "      </script>\n",
              "    </div>\n",
              "  </div>\n",
              "  "
            ]
          },
          "metadata": {},
          "execution_count": 28
        }
      ]
    },
    {
      "cell_type": "code",
      "source": [
        "df.to_csv('/content/drive/MyDrive/DACN_XAI_Adv_defense/InSDN/cnn_top10_of_each_normalfile.csv')"
      ],
      "metadata": {
        "id": "OgypaVUtfFHD"
      },
      "execution_count": 29,
      "outputs": []
    },
    {
      "cell_type": "code",
      "source": [
        "freq = {}\n",
        "for column in df.columns:\n",
        "  for feature in df[column]:\n",
        "    if feature in freq:\n",
        "      continue\n",
        "    else:\n",
        "      count = sum(df[column_2] == feature for column_2 in df.columns)\n",
        "      freq[feature] = count.sum()\n",
        "      print(freq[feature])"
      ],
      "metadata": {
        "colab": {
          "base_uri": "https://localhost:8080/"
        },
        "id": "LAINpgS9ikN8",
        "outputId": "b96f851f-5471-461c-d1f0-c8ce257862df"
      },
      "execution_count": 30,
      "outputs": [
        {
          "output_type": "stream",
          "name": "stdout",
          "text": [
            "141\n",
            "123\n",
            "148\n",
            "20\n",
            "98\n",
            "6\n",
            "47\n",
            "36\n",
            "97\n",
            "86\n",
            "17\n",
            "149\n",
            "131\n",
            "6\n",
            "9\n",
            "11\n",
            "1\n",
            "116\n",
            "46\n",
            "2\n",
            "11\n",
            "82\n",
            "3\n",
            "26\n",
            "39\n",
            "3\n",
            "9\n",
            "1\n",
            "5\n",
            "12\n",
            "1\n",
            "2\n",
            "2\n",
            "1\n",
            "1\n",
            "1\n",
            "1\n",
            "2\n",
            "1\n",
            "2\n",
            "1\n",
            "1\n",
            "1\n",
            "1\n",
            "1\n"
          ]
        }
      ]
    },
    {
      "cell_type": "code",
      "source": [
        "len(freq)"
      ],
      "metadata": {
        "colab": {
          "base_uri": "https://localhost:8080/"
        },
        "id": "7SNJ0BhvVZKd",
        "outputId": "83a6ab02-9d6a-4f11-c3ef-d9b36d82d9da"
      },
      "execution_count": 31,
      "outputs": [
        {
          "output_type": "execute_result",
          "data": {
            "text/plain": [
              "45"
            ]
          },
          "metadata": {},
          "execution_count": 31
        }
      ]
    },
    {
      "cell_type": "code",
      "source": [
        "freq_df = pd.DataFrame(list(freq.items()), columns=['Feature', 'Frequency'])\n",
        "freq_df.head()"
      ],
      "metadata": {
        "colab": {
          "base_uri": "https://localhost:8080/",
          "height": 206
        },
        "id": "v_oz2bDBnGu7",
        "outputId": "9dbcbae5-3cf9-4a80-fe04-5d59bd4c4db3"
      },
      "execution_count": 32,
      "outputs": [
        {
          "output_type": "execute_result",
          "data": {
            "text/plain": [
              "           Feature  Frequency\n",
              "0     FIN Flag Cnt        141\n",
              "1     SYN Flag Cnt        123\n",
              "2       Bwd Pkts/s        148\n",
              "3  Bwd Pkt Len Max         20\n",
              "4     ACK Flag Cnt         98"
            ],
            "text/html": [
              "\n",
              "  <div id=\"df-259d31da-eb8e-4f12-806e-525137e0a7d8\">\n",
              "    <div class=\"colab-df-container\">\n",
              "      <div>\n",
              "<style scoped>\n",
              "    .dataframe tbody tr th:only-of-type {\n",
              "        vertical-align: middle;\n",
              "    }\n",
              "\n",
              "    .dataframe tbody tr th {\n",
              "        vertical-align: top;\n",
              "    }\n",
              "\n",
              "    .dataframe thead th {\n",
              "        text-align: right;\n",
              "    }\n",
              "</style>\n",
              "<table border=\"1\" class=\"dataframe\">\n",
              "  <thead>\n",
              "    <tr style=\"text-align: right;\">\n",
              "      <th></th>\n",
              "      <th>Feature</th>\n",
              "      <th>Frequency</th>\n",
              "    </tr>\n",
              "  </thead>\n",
              "  <tbody>\n",
              "    <tr>\n",
              "      <th>0</th>\n",
              "      <td>FIN Flag Cnt</td>\n",
              "      <td>141</td>\n",
              "    </tr>\n",
              "    <tr>\n",
              "      <th>1</th>\n",
              "      <td>SYN Flag Cnt</td>\n",
              "      <td>123</td>\n",
              "    </tr>\n",
              "    <tr>\n",
              "      <th>2</th>\n",
              "      <td>Bwd Pkts/s</td>\n",
              "      <td>148</td>\n",
              "    </tr>\n",
              "    <tr>\n",
              "      <th>3</th>\n",
              "      <td>Bwd Pkt Len Max</td>\n",
              "      <td>20</td>\n",
              "    </tr>\n",
              "    <tr>\n",
              "      <th>4</th>\n",
              "      <td>ACK Flag Cnt</td>\n",
              "      <td>98</td>\n",
              "    </tr>\n",
              "  </tbody>\n",
              "</table>\n",
              "</div>\n",
              "      <button class=\"colab-df-convert\" onclick=\"convertToInteractive('df-259d31da-eb8e-4f12-806e-525137e0a7d8')\"\n",
              "              title=\"Convert this dataframe to an interactive table.\"\n",
              "              style=\"display:none;\">\n",
              "        \n",
              "  <svg xmlns=\"http://www.w3.org/2000/svg\" height=\"24px\"viewBox=\"0 0 24 24\"\n",
              "       width=\"24px\">\n",
              "    <path d=\"M0 0h24v24H0V0z\" fill=\"none\"/>\n",
              "    <path d=\"M18.56 5.44l.94 2.06.94-2.06 2.06-.94-2.06-.94-.94-2.06-.94 2.06-2.06.94zm-11 1L8.5 8.5l.94-2.06 2.06-.94-2.06-.94L8.5 2.5l-.94 2.06-2.06.94zm10 10l.94 2.06.94-2.06 2.06-.94-2.06-.94-.94-2.06-.94 2.06-2.06.94z\"/><path d=\"M17.41 7.96l-1.37-1.37c-.4-.4-.92-.59-1.43-.59-.52 0-1.04.2-1.43.59L10.3 9.45l-7.72 7.72c-.78.78-.78 2.05 0 2.83L4 21.41c.39.39.9.59 1.41.59.51 0 1.02-.2 1.41-.59l7.78-7.78 2.81-2.81c.8-.78.8-2.07 0-2.86zM5.41 20L4 18.59l7.72-7.72 1.47 1.35L5.41 20z\"/>\n",
              "  </svg>\n",
              "      </button>\n",
              "      \n",
              "  <style>\n",
              "    .colab-df-container {\n",
              "      display:flex;\n",
              "      flex-wrap:wrap;\n",
              "      gap: 12px;\n",
              "    }\n",
              "\n",
              "    .colab-df-convert {\n",
              "      background-color: #E8F0FE;\n",
              "      border: none;\n",
              "      border-radius: 50%;\n",
              "      cursor: pointer;\n",
              "      display: none;\n",
              "      fill: #1967D2;\n",
              "      height: 32px;\n",
              "      padding: 0 0 0 0;\n",
              "      width: 32px;\n",
              "    }\n",
              "\n",
              "    .colab-df-convert:hover {\n",
              "      background-color: #E2EBFA;\n",
              "      box-shadow: 0px 1px 2px rgba(60, 64, 67, 0.3), 0px 1px 3px 1px rgba(60, 64, 67, 0.15);\n",
              "      fill: #174EA6;\n",
              "    }\n",
              "\n",
              "    [theme=dark] .colab-df-convert {\n",
              "      background-color: #3B4455;\n",
              "      fill: #D2E3FC;\n",
              "    }\n",
              "\n",
              "    [theme=dark] .colab-df-convert:hover {\n",
              "      background-color: #434B5C;\n",
              "      box-shadow: 0px 1px 3px 1px rgba(0, 0, 0, 0.15);\n",
              "      filter: drop-shadow(0px 1px 2px rgba(0, 0, 0, 0.3));\n",
              "      fill: #FFFFFF;\n",
              "    }\n",
              "  </style>\n",
              "\n",
              "      <script>\n",
              "        const buttonEl =\n",
              "          document.querySelector('#df-259d31da-eb8e-4f12-806e-525137e0a7d8 button.colab-df-convert');\n",
              "        buttonEl.style.display =\n",
              "          google.colab.kernel.accessAllowed ? 'block' : 'none';\n",
              "\n",
              "        async function convertToInteractive(key) {\n",
              "          const element = document.querySelector('#df-259d31da-eb8e-4f12-806e-525137e0a7d8');\n",
              "          const dataTable =\n",
              "            await google.colab.kernel.invokeFunction('convertToInteractive',\n",
              "                                                     [key], {});\n",
              "          if (!dataTable) return;\n",
              "\n",
              "          const docLinkHtml = 'Like what you see? Visit the ' +\n",
              "            '<a target=\"_blank\" href=https://colab.research.google.com/notebooks/data_table.ipynb>data table notebook</a>'\n",
              "            + ' to learn more about interactive tables.';\n",
              "          element.innerHTML = '';\n",
              "          dataTable['output_type'] = 'display_data';\n",
              "          await google.colab.output.renderOutput(dataTable, element);\n",
              "          const docLink = document.createElement('div');\n",
              "          docLink.innerHTML = docLinkHtml;\n",
              "          element.appendChild(docLink);\n",
              "        }\n",
              "      </script>\n",
              "    </div>\n",
              "  </div>\n",
              "  "
            ]
          },
          "metadata": {},
          "execution_count": 32
        }
      ]
    },
    {
      "cell_type": "code",
      "source": [
        "freq_df.sort_values(by=['Frequency'], ascending=False, inplace=True)\n",
        "freq_df.info()"
      ],
      "metadata": {
        "colab": {
          "base_uri": "https://localhost:8080/"
        },
        "id": "add06FW7nZhH",
        "outputId": "98d34b93-ae1c-430b-ac08-edd4ae79d93d"
      },
      "execution_count": 33,
      "outputs": [
        {
          "output_type": "stream",
          "name": "stdout",
          "text": [
            "<class 'pandas.core.frame.DataFrame'>\n",
            "Int64Index: 45 entries, 11 to 44\n",
            "Data columns (total 2 columns):\n",
            " #   Column     Non-Null Count  Dtype \n",
            "---  ------     --------------  ----- \n",
            " 0   Feature    45 non-null     object\n",
            " 1   Frequency  45 non-null     int64 \n",
            "dtypes: int64(1), object(1)\n",
            "memory usage: 1.1+ KB\n"
          ]
        }
      ]
    },
    {
      "cell_type": "code",
      "source": [
        "freq_df.head(24)"
      ],
      "metadata": {
        "colab": {
          "base_uri": "https://localhost:8080/",
          "height": 802
        },
        "id": "jLV5VBrguBWd",
        "outputId": "192142c8-af4f-4313-f930-02f90201a7c4"
      },
      "execution_count": 34,
      "outputs": [
        {
          "output_type": "execute_result",
          "data": {
            "text/plain": [
              "              Feature  Frequency\n",
              "11       URG Flag Cnt        149\n",
              "2          Bwd Pkts/s        148\n",
              "0        FIN Flag Cnt        141\n",
              "12      Bwd PSH Flags        131\n",
              "1        SYN Flag Cnt        123\n",
              "17       PSH Flag Cnt        116\n",
              "4        ACK Flag Cnt         98\n",
              "8       Down/Up Ratio         97\n",
              "9         Flow Pkts/s         86\n",
              "21  Init Bwd Win Byts         82\n",
              "6         Bwd IAT Max         47\n",
              "18        Bwd IAT Tot         46\n",
              "24      Bwd URG Flags         39\n",
              "7       Flow Duration         36\n",
              "23           Idle Min         26\n",
              "3     Bwd Pkt Len Max         20\n",
              "10        Fwd IAT Max         17\n",
              "29       Flow IAT Std         12\n",
              "15       Fwd IAT Mean         11\n",
              "20       Flow IAT Max         11\n",
              "26       Tot Fwd Pkts          9\n",
              "14   Bwd Pkt Len Mean          9\n",
              "13        Bwd IAT Std          6\n",
              "5            Idle Max          6"
            ],
            "text/html": [
              "\n",
              "  <div id=\"df-470560d9-55dc-4719-a79c-20f4703067ed\">\n",
              "    <div class=\"colab-df-container\">\n",
              "      <div>\n",
              "<style scoped>\n",
              "    .dataframe tbody tr th:only-of-type {\n",
              "        vertical-align: middle;\n",
              "    }\n",
              "\n",
              "    .dataframe tbody tr th {\n",
              "        vertical-align: top;\n",
              "    }\n",
              "\n",
              "    .dataframe thead th {\n",
              "        text-align: right;\n",
              "    }\n",
              "</style>\n",
              "<table border=\"1\" class=\"dataframe\">\n",
              "  <thead>\n",
              "    <tr style=\"text-align: right;\">\n",
              "      <th></th>\n",
              "      <th>Feature</th>\n",
              "      <th>Frequency</th>\n",
              "    </tr>\n",
              "  </thead>\n",
              "  <tbody>\n",
              "    <tr>\n",
              "      <th>11</th>\n",
              "      <td>URG Flag Cnt</td>\n",
              "      <td>149</td>\n",
              "    </tr>\n",
              "    <tr>\n",
              "      <th>2</th>\n",
              "      <td>Bwd Pkts/s</td>\n",
              "      <td>148</td>\n",
              "    </tr>\n",
              "    <tr>\n",
              "      <th>0</th>\n",
              "      <td>FIN Flag Cnt</td>\n",
              "      <td>141</td>\n",
              "    </tr>\n",
              "    <tr>\n",
              "      <th>12</th>\n",
              "      <td>Bwd PSH Flags</td>\n",
              "      <td>131</td>\n",
              "    </tr>\n",
              "    <tr>\n",
              "      <th>1</th>\n",
              "      <td>SYN Flag Cnt</td>\n",
              "      <td>123</td>\n",
              "    </tr>\n",
              "    <tr>\n",
              "      <th>17</th>\n",
              "      <td>PSH Flag Cnt</td>\n",
              "      <td>116</td>\n",
              "    </tr>\n",
              "    <tr>\n",
              "      <th>4</th>\n",
              "      <td>ACK Flag Cnt</td>\n",
              "      <td>98</td>\n",
              "    </tr>\n",
              "    <tr>\n",
              "      <th>8</th>\n",
              "      <td>Down/Up Ratio</td>\n",
              "      <td>97</td>\n",
              "    </tr>\n",
              "    <tr>\n",
              "      <th>9</th>\n",
              "      <td>Flow Pkts/s</td>\n",
              "      <td>86</td>\n",
              "    </tr>\n",
              "    <tr>\n",
              "      <th>21</th>\n",
              "      <td>Init Bwd Win Byts</td>\n",
              "      <td>82</td>\n",
              "    </tr>\n",
              "    <tr>\n",
              "      <th>6</th>\n",
              "      <td>Bwd IAT Max</td>\n",
              "      <td>47</td>\n",
              "    </tr>\n",
              "    <tr>\n",
              "      <th>18</th>\n",
              "      <td>Bwd IAT Tot</td>\n",
              "      <td>46</td>\n",
              "    </tr>\n",
              "    <tr>\n",
              "      <th>24</th>\n",
              "      <td>Bwd URG Flags</td>\n",
              "      <td>39</td>\n",
              "    </tr>\n",
              "    <tr>\n",
              "      <th>7</th>\n",
              "      <td>Flow Duration</td>\n",
              "      <td>36</td>\n",
              "    </tr>\n",
              "    <tr>\n",
              "      <th>23</th>\n",
              "      <td>Idle Min</td>\n",
              "      <td>26</td>\n",
              "    </tr>\n",
              "    <tr>\n",
              "      <th>3</th>\n",
              "      <td>Bwd Pkt Len Max</td>\n",
              "      <td>20</td>\n",
              "    </tr>\n",
              "    <tr>\n",
              "      <th>10</th>\n",
              "      <td>Fwd IAT Max</td>\n",
              "      <td>17</td>\n",
              "    </tr>\n",
              "    <tr>\n",
              "      <th>29</th>\n",
              "      <td>Flow IAT Std</td>\n",
              "      <td>12</td>\n",
              "    </tr>\n",
              "    <tr>\n",
              "      <th>15</th>\n",
              "      <td>Fwd IAT Mean</td>\n",
              "      <td>11</td>\n",
              "    </tr>\n",
              "    <tr>\n",
              "      <th>20</th>\n",
              "      <td>Flow IAT Max</td>\n",
              "      <td>11</td>\n",
              "    </tr>\n",
              "    <tr>\n",
              "      <th>26</th>\n",
              "      <td>Tot Fwd Pkts</td>\n",
              "      <td>9</td>\n",
              "    </tr>\n",
              "    <tr>\n",
              "      <th>14</th>\n",
              "      <td>Bwd Pkt Len Mean</td>\n",
              "      <td>9</td>\n",
              "    </tr>\n",
              "    <tr>\n",
              "      <th>13</th>\n",
              "      <td>Bwd IAT Std</td>\n",
              "      <td>6</td>\n",
              "    </tr>\n",
              "    <tr>\n",
              "      <th>5</th>\n",
              "      <td>Idle Max</td>\n",
              "      <td>6</td>\n",
              "    </tr>\n",
              "  </tbody>\n",
              "</table>\n",
              "</div>\n",
              "      <button class=\"colab-df-convert\" onclick=\"convertToInteractive('df-470560d9-55dc-4719-a79c-20f4703067ed')\"\n",
              "              title=\"Convert this dataframe to an interactive table.\"\n",
              "              style=\"display:none;\">\n",
              "        \n",
              "  <svg xmlns=\"http://www.w3.org/2000/svg\" height=\"24px\"viewBox=\"0 0 24 24\"\n",
              "       width=\"24px\">\n",
              "    <path d=\"M0 0h24v24H0V0z\" fill=\"none\"/>\n",
              "    <path d=\"M18.56 5.44l.94 2.06.94-2.06 2.06-.94-2.06-.94-.94-2.06-.94 2.06-2.06.94zm-11 1L8.5 8.5l.94-2.06 2.06-.94-2.06-.94L8.5 2.5l-.94 2.06-2.06.94zm10 10l.94 2.06.94-2.06 2.06-.94-2.06-.94-.94-2.06-.94 2.06-2.06.94z\"/><path d=\"M17.41 7.96l-1.37-1.37c-.4-.4-.92-.59-1.43-.59-.52 0-1.04.2-1.43.59L10.3 9.45l-7.72 7.72c-.78.78-.78 2.05 0 2.83L4 21.41c.39.39.9.59 1.41.59.51 0 1.02-.2 1.41-.59l7.78-7.78 2.81-2.81c.8-.78.8-2.07 0-2.86zM5.41 20L4 18.59l7.72-7.72 1.47 1.35L5.41 20z\"/>\n",
              "  </svg>\n",
              "      </button>\n",
              "      \n",
              "  <style>\n",
              "    .colab-df-container {\n",
              "      display:flex;\n",
              "      flex-wrap:wrap;\n",
              "      gap: 12px;\n",
              "    }\n",
              "\n",
              "    .colab-df-convert {\n",
              "      background-color: #E8F0FE;\n",
              "      border: none;\n",
              "      border-radius: 50%;\n",
              "      cursor: pointer;\n",
              "      display: none;\n",
              "      fill: #1967D2;\n",
              "      height: 32px;\n",
              "      padding: 0 0 0 0;\n",
              "      width: 32px;\n",
              "    }\n",
              "\n",
              "    .colab-df-convert:hover {\n",
              "      background-color: #E2EBFA;\n",
              "      box-shadow: 0px 1px 2px rgba(60, 64, 67, 0.3), 0px 1px 3px 1px rgba(60, 64, 67, 0.15);\n",
              "      fill: #174EA6;\n",
              "    }\n",
              "\n",
              "    [theme=dark] .colab-df-convert {\n",
              "      background-color: #3B4455;\n",
              "      fill: #D2E3FC;\n",
              "    }\n",
              "\n",
              "    [theme=dark] .colab-df-convert:hover {\n",
              "      background-color: #434B5C;\n",
              "      box-shadow: 0px 1px 3px 1px rgba(0, 0, 0, 0.15);\n",
              "      filter: drop-shadow(0px 1px 2px rgba(0, 0, 0, 0.3));\n",
              "      fill: #FFFFFF;\n",
              "    }\n",
              "  </style>\n",
              "\n",
              "      <script>\n",
              "        const buttonEl =\n",
              "          document.querySelector('#df-470560d9-55dc-4719-a79c-20f4703067ed button.colab-df-convert');\n",
              "        buttonEl.style.display =\n",
              "          google.colab.kernel.accessAllowed ? 'block' : 'none';\n",
              "\n",
              "        async function convertToInteractive(key) {\n",
              "          const element = document.querySelector('#df-470560d9-55dc-4719-a79c-20f4703067ed');\n",
              "          const dataTable =\n",
              "            await google.colab.kernel.invokeFunction('convertToInteractive',\n",
              "                                                     [key], {});\n",
              "          if (!dataTable) return;\n",
              "\n",
              "          const docLinkHtml = 'Like what you see? Visit the ' +\n",
              "            '<a target=\"_blank\" href=https://colab.research.google.com/notebooks/data_table.ipynb>data table notebook</a>'\n",
              "            + ' to learn more about interactive tables.';\n",
              "          element.innerHTML = '';\n",
              "          dataTable['output_type'] = 'display_data';\n",
              "          await google.colab.output.renderOutput(dataTable, element);\n",
              "          const docLink = document.createElement('div');\n",
              "          docLink.innerHTML = docLinkHtml;\n",
              "          element.appendChild(docLink);\n",
              "        }\n",
              "      </script>\n",
              "    </div>\n",
              "  </div>\n",
              "  "
            ]
          },
          "metadata": {},
          "execution_count": 34
        }
      ]
    },
    {
      "cell_type": "code",
      "source": [
        "freq_df[:38].to_csv('/content/drive/MyDrive/DACN_XAI_Adv_defense/InSDN/cnn_top24_InSDN.csv', index=False)"
      ],
      "metadata": {
        "id": "YU2TkWAjnl7s"
      },
      "execution_count": 35,
      "outputs": []
    },
    {
      "cell_type": "markdown",
      "source": [
        "# Detect normal samples"
      ],
      "metadata": {
        "id": "Csd7930IX6WM"
      }
    },
    {
      "cell_type": "code",
      "source": [
        "whitelist = freq_df.iloc[:, 0][:38].tolist()\n",
        "print(whitelist)"
      ],
      "metadata": {
        "colab": {
          "base_uri": "https://localhost:8080/"
        },
        "id": "RC9AnuTcv8ez",
        "outputId": "b1b403fa-e8ed-457b-ff39-305039716b36"
      },
      "execution_count": 36,
      "outputs": [
        {
          "output_type": "stream",
          "name": "stdout",
          "text": [
            "['URG Flag Cnt', 'Bwd Pkts/s', 'FIN Flag Cnt', 'Bwd PSH Flags', 'SYN Flag Cnt', 'PSH Flag Cnt', 'ACK Flag Cnt', 'Down/Up Ratio', 'Flow Pkts/s', 'Init Bwd Win Byts', 'Bwd IAT Max', 'Bwd IAT Tot', 'Bwd URG Flags', 'Flow Duration', 'Idle Min', 'Bwd Pkt Len Max', 'Fwd IAT Max', 'Flow IAT Std', 'Fwd IAT Mean', 'Flow IAT Max', 'Tot Fwd Pkts', 'Bwd Pkt Len Mean', 'Bwd IAT Std', 'Idle Max', 'Tot Bwd Pkts', 'TotLen Fwd Pkts', 'Idle Mean', 'Bwd Seg Size Avg', 'Pkt Len Mean', 'Flow IAT Mean', 'Pkt Len Std', 'TotLen Bwd Pkts', 'Bwd Pkt Len Std', 'Bwd Header Len', 'Subflow Bwd Pkts', 'Fwd Act Data Pkts', 'Fwd Pkt Len Min', 'Pkt Len Min']\n"
          ]
        }
      ]
    },
    {
      "cell_type": "code",
      "source": [
        "alert = []\n",
        "\n",
        "# Iterate over each key-value pair in the data_dict\n",
        "for key, value in data_dict.items():\n",
        "    # Check if there are one feature is not in the whitelist\n",
        "    for string in value:\n",
        "      if string not in whitelist:\n",
        "        alert.append(key)\n",
        "        break\n",
        "\n",
        "# Print the alert dictionary\n",
        "print(\"Alert list length:\" + str(len(alert)))"
      ],
      "metadata": {
        "colab": {
          "base_uri": "https://localhost:8080/"
        },
        "id": "P-IQyZMYYLzp",
        "outputId": "506f86ea-1ad7-4f73-abcf-1e4036fd7d4c"
      },
      "execution_count": 37,
      "outputs": [
        {
          "output_type": "stream",
          "name": "stdout",
          "text": [
            "Alert list length:6\n"
          ]
        }
      ]
    },
    {
      "cell_type": "code",
      "source": [
        "whitelist = freq_df.iloc[:, 0][:24].tolist()\n",
        "print(whitelist)"
      ],
      "metadata": {
        "colab": {
          "base_uri": "https://localhost:8080/"
        },
        "id": "b9ZX1XMcYssx",
        "outputId": "f7f7bf9b-961a-4c0b-f85e-42266456effb"
      },
      "execution_count": 38,
      "outputs": [
        {
          "output_type": "stream",
          "name": "stdout",
          "text": [
            "['URG Flag Cnt', 'Bwd Pkts/s', 'FIN Flag Cnt', 'Bwd PSH Flags', 'SYN Flag Cnt', 'PSH Flag Cnt', 'ACK Flag Cnt', 'Down/Up Ratio', 'Flow Pkts/s', 'Init Bwd Win Byts', 'Bwd IAT Max', 'Bwd IAT Tot', 'Bwd URG Flags', 'Flow Duration', 'Idle Min', 'Bwd Pkt Len Max', 'Fwd IAT Max', 'Flow IAT Std', 'Fwd IAT Mean', 'Flow IAT Max', 'Tot Fwd Pkts', 'Bwd Pkt Len Mean', 'Bwd IAT Std', 'Idle Max']\n"
          ]
        }
      ]
    },
    {
      "cell_type": "code",
      "source": [
        "alert = []\n",
        "\n",
        "# Iterate over each key-value pair in the data_dict\n",
        "for key, value in data_dict.items():\n",
        "    # Check if there are one feature is not in the whitelist\n",
        "    for string in value:\n",
        "      if string not in whitelist:\n",
        "        alert.append(key)\n",
        "        break\n",
        "\n",
        "# Print the alert dictionary\n",
        "print(\"Alert list length:\" + str(len(alert)))"
      ],
      "metadata": {
        "colab": {
          "base_uri": "https://localhost:8080/"
        },
        "id": "DuQ1OUp6Yrgh",
        "outputId": "cf317af2-b032-49c0-8a7b-810c4956489a"
      },
      "execution_count": 39,
      "outputs": [
        {
          "output_type": "stream",
          "name": "stdout",
          "text": [
            "Alert list length:24\n"
          ]
        }
      ]
    },
    {
      "cell_type": "markdown",
      "source": [
        "## False positive of XAI on normal samples of trainset:\n",
        "top 38: 6/150\n",
        "\n",
        "top 24: 24/150"
      ],
      "metadata": {
        "id": "kykod9kUylxB"
      }
    }
  ],
  "metadata": {
    "colab": {
      "provenance": [],
      "collapsed_sections": [
        "mJ0p3tB5oxAq"
      ],
      "mount_file_id": "1V9vakz-dlyEmEl8IhH90HhjYa1Y4tIwc",
      "authorship_tag": "ABX9TyMr1Am8QWOZf2+Mj8pr8yBh",
      "include_colab_link": true
    },
    "kernelspec": {
      "display_name": "Python 3",
      "name": "python3"
    },
    "language_info": {
      "name": "python"
    },
    "widgets": {
      "application/vnd.jupyter.widget-state+json": {
        "0756a55354874cb080122f9791747a04": {
          "model_module": "@jupyter-widgets/controls",
          "model_name": "HBoxModel",
          "model_module_version": "1.5.0",
          "state": {
            "_dom_classes": [],
            "_model_module": "@jupyter-widgets/controls",
            "_model_module_version": "1.5.0",
            "_model_name": "HBoxModel",
            "_view_count": null,
            "_view_module": "@jupyter-widgets/controls",
            "_view_module_version": "1.5.0",
            "_view_name": "HBoxView",
            "box_style": "",
            "children": [
              "IPY_MODEL_9ea26eabf282468f8568199106dd764e",
              "IPY_MODEL_eb138c6181da4a7e89da99e1088e6758",
              "IPY_MODEL_39891aa00fc84735b15edaf3959ba767"
            ],
            "layout": "IPY_MODEL_db830aa01fb14db290a7e0382bb7255e"
          }
        },
        "9ea26eabf282468f8568199106dd764e": {
          "model_module": "@jupyter-widgets/controls",
          "model_name": "HTMLModel",
          "model_module_version": "1.5.0",
          "state": {
            "_dom_classes": [],
            "_model_module": "@jupyter-widgets/controls",
            "_model_module_version": "1.5.0",
            "_model_name": "HTMLModel",
            "_view_count": null,
            "_view_module": "@jupyter-widgets/controls",
            "_view_module_version": "1.5.0",
            "_view_name": "HTMLView",
            "description": "",
            "description_tooltip": null,
            "layout": "IPY_MODEL_319f9a84386b47d1bb105d2422adbc63",
            "placeholder": "​",
            "style": "IPY_MODEL_35494d95a15c4b49bfb5f93e81482089",
            "value": "100%"
          }
        },
        "eb138c6181da4a7e89da99e1088e6758": {
          "model_module": "@jupyter-widgets/controls",
          "model_name": "FloatProgressModel",
          "model_module_version": "1.5.0",
          "state": {
            "_dom_classes": [],
            "_model_module": "@jupyter-widgets/controls",
            "_model_module_version": "1.5.0",
            "_model_name": "FloatProgressModel",
            "_view_count": null,
            "_view_module": "@jupyter-widgets/controls",
            "_view_module_version": "1.5.0",
            "_view_name": "ProgressView",
            "bar_style": "success",
            "description": "",
            "description_tooltip": null,
            "layout": "IPY_MODEL_69522826c632463da97f8579dd8ebec6",
            "max": 150,
            "min": 0,
            "orientation": "horizontal",
            "style": "IPY_MODEL_5d6fa3bdc0514e3bb60f8e521cf41a68",
            "value": 150
          }
        },
        "39891aa00fc84735b15edaf3959ba767": {
          "model_module": "@jupyter-widgets/controls",
          "model_name": "HTMLModel",
          "model_module_version": "1.5.0",
          "state": {
            "_dom_classes": [],
            "_model_module": "@jupyter-widgets/controls",
            "_model_module_version": "1.5.0",
            "_model_name": "HTMLModel",
            "_view_count": null,
            "_view_module": "@jupyter-widgets/controls",
            "_view_module_version": "1.5.0",
            "_view_name": "HTMLView",
            "description": "",
            "description_tooltip": null,
            "layout": "IPY_MODEL_57b25c70c95846aa9f6c7332f84b1233",
            "placeholder": "​",
            "style": "IPY_MODEL_8283accc1439453798149184e911d283",
            "value": " 150/150 [1:16:02&lt;00:00, 30.65s/it]"
          }
        },
        "db830aa01fb14db290a7e0382bb7255e": {
          "model_module": "@jupyter-widgets/base",
          "model_name": "LayoutModel",
          "model_module_version": "1.2.0",
          "state": {
            "_model_module": "@jupyter-widgets/base",
            "_model_module_version": "1.2.0",
            "_model_name": "LayoutModel",
            "_view_count": null,
            "_view_module": "@jupyter-widgets/base",
            "_view_module_version": "1.2.0",
            "_view_name": "LayoutView",
            "align_content": null,
            "align_items": null,
            "align_self": null,
            "border": null,
            "bottom": null,
            "display": null,
            "flex": null,
            "flex_flow": null,
            "grid_area": null,
            "grid_auto_columns": null,
            "grid_auto_flow": null,
            "grid_auto_rows": null,
            "grid_column": null,
            "grid_gap": null,
            "grid_row": null,
            "grid_template_areas": null,
            "grid_template_columns": null,
            "grid_template_rows": null,
            "height": null,
            "justify_content": null,
            "justify_items": null,
            "left": null,
            "margin": null,
            "max_height": null,
            "max_width": null,
            "min_height": null,
            "min_width": null,
            "object_fit": null,
            "object_position": null,
            "order": null,
            "overflow": null,
            "overflow_x": null,
            "overflow_y": null,
            "padding": null,
            "right": null,
            "top": null,
            "visibility": null,
            "width": null
          }
        },
        "319f9a84386b47d1bb105d2422adbc63": {
          "model_module": "@jupyter-widgets/base",
          "model_name": "LayoutModel",
          "model_module_version": "1.2.0",
          "state": {
            "_model_module": "@jupyter-widgets/base",
            "_model_module_version": "1.2.0",
            "_model_name": "LayoutModel",
            "_view_count": null,
            "_view_module": "@jupyter-widgets/base",
            "_view_module_version": "1.2.0",
            "_view_name": "LayoutView",
            "align_content": null,
            "align_items": null,
            "align_self": null,
            "border": null,
            "bottom": null,
            "display": null,
            "flex": null,
            "flex_flow": null,
            "grid_area": null,
            "grid_auto_columns": null,
            "grid_auto_flow": null,
            "grid_auto_rows": null,
            "grid_column": null,
            "grid_gap": null,
            "grid_row": null,
            "grid_template_areas": null,
            "grid_template_columns": null,
            "grid_template_rows": null,
            "height": null,
            "justify_content": null,
            "justify_items": null,
            "left": null,
            "margin": null,
            "max_height": null,
            "max_width": null,
            "min_height": null,
            "min_width": null,
            "object_fit": null,
            "object_position": null,
            "order": null,
            "overflow": null,
            "overflow_x": null,
            "overflow_y": null,
            "padding": null,
            "right": null,
            "top": null,
            "visibility": null,
            "width": null
          }
        },
        "35494d95a15c4b49bfb5f93e81482089": {
          "model_module": "@jupyter-widgets/controls",
          "model_name": "DescriptionStyleModel",
          "model_module_version": "1.5.0",
          "state": {
            "_model_module": "@jupyter-widgets/controls",
            "_model_module_version": "1.5.0",
            "_model_name": "DescriptionStyleModel",
            "_view_count": null,
            "_view_module": "@jupyter-widgets/base",
            "_view_module_version": "1.2.0",
            "_view_name": "StyleView",
            "description_width": ""
          }
        },
        "69522826c632463da97f8579dd8ebec6": {
          "model_module": "@jupyter-widgets/base",
          "model_name": "LayoutModel",
          "model_module_version": "1.2.0",
          "state": {
            "_model_module": "@jupyter-widgets/base",
            "_model_module_version": "1.2.0",
            "_model_name": "LayoutModel",
            "_view_count": null,
            "_view_module": "@jupyter-widgets/base",
            "_view_module_version": "1.2.0",
            "_view_name": "LayoutView",
            "align_content": null,
            "align_items": null,
            "align_self": null,
            "border": null,
            "bottom": null,
            "display": null,
            "flex": null,
            "flex_flow": null,
            "grid_area": null,
            "grid_auto_columns": null,
            "grid_auto_flow": null,
            "grid_auto_rows": null,
            "grid_column": null,
            "grid_gap": null,
            "grid_row": null,
            "grid_template_areas": null,
            "grid_template_columns": null,
            "grid_template_rows": null,
            "height": null,
            "justify_content": null,
            "justify_items": null,
            "left": null,
            "margin": null,
            "max_height": null,
            "max_width": null,
            "min_height": null,
            "min_width": null,
            "object_fit": null,
            "object_position": null,
            "order": null,
            "overflow": null,
            "overflow_x": null,
            "overflow_y": null,
            "padding": null,
            "right": null,
            "top": null,
            "visibility": null,
            "width": null
          }
        },
        "5d6fa3bdc0514e3bb60f8e521cf41a68": {
          "model_module": "@jupyter-widgets/controls",
          "model_name": "ProgressStyleModel",
          "model_module_version": "1.5.0",
          "state": {
            "_model_module": "@jupyter-widgets/controls",
            "_model_module_version": "1.5.0",
            "_model_name": "ProgressStyleModel",
            "_view_count": null,
            "_view_module": "@jupyter-widgets/base",
            "_view_module_version": "1.2.0",
            "_view_name": "StyleView",
            "bar_color": null,
            "description_width": ""
          }
        },
        "57b25c70c95846aa9f6c7332f84b1233": {
          "model_module": "@jupyter-widgets/base",
          "model_name": "LayoutModel",
          "model_module_version": "1.2.0",
          "state": {
            "_model_module": "@jupyter-widgets/base",
            "_model_module_version": "1.2.0",
            "_model_name": "LayoutModel",
            "_view_count": null,
            "_view_module": "@jupyter-widgets/base",
            "_view_module_version": "1.2.0",
            "_view_name": "LayoutView",
            "align_content": null,
            "align_items": null,
            "align_self": null,
            "border": null,
            "bottom": null,
            "display": null,
            "flex": null,
            "flex_flow": null,
            "grid_area": null,
            "grid_auto_columns": null,
            "grid_auto_flow": null,
            "grid_auto_rows": null,
            "grid_column": null,
            "grid_gap": null,
            "grid_row": null,
            "grid_template_areas": null,
            "grid_template_columns": null,
            "grid_template_rows": null,
            "height": null,
            "justify_content": null,
            "justify_items": null,
            "left": null,
            "margin": null,
            "max_height": null,
            "max_width": null,
            "min_height": null,
            "min_width": null,
            "object_fit": null,
            "object_position": null,
            "order": null,
            "overflow": null,
            "overflow_x": null,
            "overflow_y": null,
            "padding": null,
            "right": null,
            "top": null,
            "visibility": null,
            "width": null
          }
        },
        "8283accc1439453798149184e911d283": {
          "model_module": "@jupyter-widgets/controls",
          "model_name": "DescriptionStyleModel",
          "model_module_version": "1.5.0",
          "state": {
            "_model_module": "@jupyter-widgets/controls",
            "_model_module_version": "1.5.0",
            "_model_name": "DescriptionStyleModel",
            "_view_count": null,
            "_view_module": "@jupyter-widgets/base",
            "_view_module_version": "1.2.0",
            "_view_name": "StyleView",
            "description_width": ""
          }
        }
      }
    }
  },
  "nbformat": 4,
  "nbformat_minor": 0
}