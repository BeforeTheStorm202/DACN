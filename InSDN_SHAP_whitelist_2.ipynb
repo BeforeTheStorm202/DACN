{
  "cells": [
    {
      "cell_type": "markdown",
      "metadata": {
        "id": "view-in-github",
        "colab_type": "text"
      },
      "source": [
        "<a href=\"https://colab.research.google.com/github/BeforeTheStorm202/DACN/blob/main/InSDN_SHAP_whitelist_2.ipynb\" target=\"_parent\"><img src=\"https://colab.research.google.com/assets/colab-badge.svg\" alt=\"Open In Colab\"/></a>"
      ]
    },
    {
      "cell_type": "markdown",
      "metadata": {
        "id": "rJBJPRmCFqU7"
      },
      "source": [
        "# Import"
      ]
    },
    {
      "cell_type": "code",
      "execution_count": 1,
      "metadata": {
        "colab": {
          "base_uri": "https://localhost:8080/"
        },
        "id": "Ym8Pb2oREYUG",
        "outputId": "9ac72ceb-76dd-486c-d978-e5ed2d24b239"
      },
      "outputs": [
        {
          "output_type": "stream",
          "name": "stdout",
          "text": [
            "Looking in indexes: https://pypi.org/simple, https://us-python.pkg.dev/colab-wheels/public/simple/\n",
            "Collecting shap\n",
            "  Downloading shap-0.41.0-cp310-cp310-manylinux_2_12_x86_64.manylinux2010_x86_64.whl (572 kB)\n",
            "\u001b[2K     \u001b[90m━━━━━━━━━━━━━━━━━━━━━━━━━━━━━━━━━━━━━━\u001b[0m \u001b[32m572.6/572.6 kB\u001b[0m \u001b[31m32.9 MB/s\u001b[0m eta \u001b[36m0:00:00\u001b[0m\n",
            "\u001b[?25hRequirement already satisfied: numpy in /usr/local/lib/python3.10/dist-packages (from shap) (1.22.4)\n",
            "Requirement already satisfied: scipy in /usr/local/lib/python3.10/dist-packages (from shap) (1.10.1)\n",
            "Requirement already satisfied: scikit-learn in /usr/local/lib/python3.10/dist-packages (from shap) (1.2.2)\n",
            "Requirement already satisfied: pandas in /usr/local/lib/python3.10/dist-packages (from shap) (1.5.3)\n",
            "Requirement already satisfied: tqdm>4.25.0 in /usr/local/lib/python3.10/dist-packages (from shap) (4.65.0)\n",
            "Requirement already satisfied: packaging>20.9 in /usr/local/lib/python3.10/dist-packages (from shap) (23.1)\n",
            "Collecting slicer==0.0.7 (from shap)\n",
            "  Downloading slicer-0.0.7-py3-none-any.whl (14 kB)\n",
            "Requirement already satisfied: numba in /usr/local/lib/python3.10/dist-packages (from shap) (0.56.4)\n",
            "Requirement already satisfied: cloudpickle in /usr/local/lib/python3.10/dist-packages (from shap) (2.2.1)\n",
            "Requirement already satisfied: llvmlite<0.40,>=0.39.0dev0 in /usr/local/lib/python3.10/dist-packages (from numba->shap) (0.39.1)\n",
            "Requirement already satisfied: setuptools in /usr/local/lib/python3.10/dist-packages (from numba->shap) (67.7.2)\n",
            "Requirement already satisfied: python-dateutil>=2.8.1 in /usr/local/lib/python3.10/dist-packages (from pandas->shap) (2.8.2)\n",
            "Requirement already satisfied: pytz>=2020.1 in /usr/local/lib/python3.10/dist-packages (from pandas->shap) (2022.7.1)\n",
            "Requirement already satisfied: joblib>=1.1.1 in /usr/local/lib/python3.10/dist-packages (from scikit-learn->shap) (1.2.0)\n",
            "Requirement already satisfied: threadpoolctl>=2.0.0 in /usr/local/lib/python3.10/dist-packages (from scikit-learn->shap) (3.1.0)\n",
            "Requirement already satisfied: six>=1.5 in /usr/local/lib/python3.10/dist-packages (from python-dateutil>=2.8.1->pandas->shap) (1.16.0)\n",
            "Installing collected packages: slicer, shap\n",
            "Successfully installed shap-0.41.0 slicer-0.0.7\n"
          ]
        }
      ],
      "source": [
        "!pip install shap"
      ]
    },
    {
      "cell_type": "code",
      "execution_count": 2,
      "metadata": {
        "id": "9qxu7n9TFv21"
      },
      "outputs": [],
      "source": [
        "import shap\n",
        "import pandas as pd\n",
        "import keras"
      ]
    },
    {
      "cell_type": "code",
      "execution_count": 3,
      "metadata": {
        "id": "V87prYJZGKKT"
      },
      "outputs": [],
      "source": [
        "# path to dataset & model\n",
        "train_path = '/content/drive/MyDrive/DACN_XAI_Adv_defense/Dataset/insdn/train.csv'\n",
        "test_path = '/content/drive/MyDrive/DACN_XAI_Adv_defense/Dataset/insdn/test.csv'\n",
        "#fnn_model = '/content/drive/MyDrive/DACN_XAI_Adv_defense/Dataset/insdn/insdn.h5'"
      ]
    },
    {
      "cell_type": "markdown",
      "metadata": {
        "id": "SDGzHf5TG6UT"
      },
      "source": [
        "# Load dataset & model"
      ]
    },
    {
      "cell_type": "code",
      "execution_count": 5,
      "metadata": {
        "colab": {
          "base_uri": "https://localhost:8080/",
          "height": 418
        },
        "id": "a-B3scZ0lXpa",
        "outputId": "2cf3c0a1-1d72-4f4a-efd7-b15d8e4ac645"
      },
      "outputs": [
        {
          "output_type": "execute_result",
          "data": {
            "text/plain": [
              "   Flow Duration  Tot Fwd Pkts  Tot Bwd Pkts  TotLen Fwd Pkts  \\\n",
              "0       0.000002           0.0  5.866135e-05              0.0   \n",
              "1       0.000001           0.0  8.603137e-10              0.0   \n",
              "2       0.000565           0.0  5.866135e-05              0.0   \n",
              "3       0.000001           0.0  8.603137e-10              0.0   \n",
              "4       0.000001           0.0  5.866135e-05              0.0   \n",
              "\n",
              "   TotLen Bwd Pkts  Fwd Pkt Len Max  Fwd Pkt Len Min  Fwd Pkt Len Mean  \\\n",
              "0              0.0              0.0              0.0               0.0   \n",
              "1              0.0              0.0              0.0               0.0   \n",
              "2              0.0              0.0              0.0               0.0   \n",
              "3              0.0              0.0              0.0               0.0   \n",
              "4              0.0              0.0              0.0               0.0   \n",
              "\n",
              "   Fwd Pkt Len Std  Bwd Pkt Len Max  ...  Fwd Seg Size Min  Active Mean  \\\n",
              "0              0.0              0.0  ...               0.0          0.0   \n",
              "1              0.0              0.0  ...               0.0          0.0   \n",
              "2              0.0              0.0  ...               0.0          0.0   \n",
              "3              0.0              0.0  ...               0.0          0.0   \n",
              "4              0.0              0.0  ...               0.0          0.0   \n",
              "\n",
              "   Active Std  Active Max  Active Min  Idle Mean  Idle Std  Idle Max  \\\n",
              "0         0.0         0.0         0.0        0.0       0.0       0.0   \n",
              "1         0.0         0.0         0.0        0.0       0.0       0.0   \n",
              "2         0.0         0.0         0.0        0.0       0.0       0.0   \n",
              "3         0.0         0.0         0.0        0.0       0.0       0.0   \n",
              "4         0.0         0.0         0.0        0.0       0.0       0.0   \n",
              "\n",
              "   Idle Min  Label  \n",
              "0       0.0      2  \n",
              "1       0.0      2  \n",
              "2       0.0      1  \n",
              "3       0.0      2  \n",
              "4       0.0      2  \n",
              "\n",
              "[5 rows x 77 columns]"
            ],
            "text/html": [
              "\n",
              "  <div id=\"df-dc64bbf7-fbfe-478c-b7e1-9fe172dd1844\">\n",
              "    <div class=\"colab-df-container\">\n",
              "      <div>\n",
              "<style scoped>\n",
              "    .dataframe tbody tr th:only-of-type {\n",
              "        vertical-align: middle;\n",
              "    }\n",
              "\n",
              "    .dataframe tbody tr th {\n",
              "        vertical-align: top;\n",
              "    }\n",
              "\n",
              "    .dataframe thead th {\n",
              "        text-align: right;\n",
              "    }\n",
              "</style>\n",
              "<table border=\"1\" class=\"dataframe\">\n",
              "  <thead>\n",
              "    <tr style=\"text-align: right;\">\n",
              "      <th></th>\n",
              "      <th>Flow Duration</th>\n",
              "      <th>Tot Fwd Pkts</th>\n",
              "      <th>Tot Bwd Pkts</th>\n",
              "      <th>TotLen Fwd Pkts</th>\n",
              "      <th>TotLen Bwd Pkts</th>\n",
              "      <th>Fwd Pkt Len Max</th>\n",
              "      <th>Fwd Pkt Len Min</th>\n",
              "      <th>Fwd Pkt Len Mean</th>\n",
              "      <th>Fwd Pkt Len Std</th>\n",
              "      <th>Bwd Pkt Len Max</th>\n",
              "      <th>...</th>\n",
              "      <th>Fwd Seg Size Min</th>\n",
              "      <th>Active Mean</th>\n",
              "      <th>Active Std</th>\n",
              "      <th>Active Max</th>\n",
              "      <th>Active Min</th>\n",
              "      <th>Idle Mean</th>\n",
              "      <th>Idle Std</th>\n",
              "      <th>Idle Max</th>\n",
              "      <th>Idle Min</th>\n",
              "      <th>Label</th>\n",
              "    </tr>\n",
              "  </thead>\n",
              "  <tbody>\n",
              "    <tr>\n",
              "      <th>0</th>\n",
              "      <td>0.000002</td>\n",
              "      <td>0.0</td>\n",
              "      <td>5.866135e-05</td>\n",
              "      <td>0.0</td>\n",
              "      <td>0.0</td>\n",
              "      <td>0.0</td>\n",
              "      <td>0.0</td>\n",
              "      <td>0.0</td>\n",
              "      <td>0.0</td>\n",
              "      <td>0.0</td>\n",
              "      <td>...</td>\n",
              "      <td>0.0</td>\n",
              "      <td>0.0</td>\n",
              "      <td>0.0</td>\n",
              "      <td>0.0</td>\n",
              "      <td>0.0</td>\n",
              "      <td>0.0</td>\n",
              "      <td>0.0</td>\n",
              "      <td>0.0</td>\n",
              "      <td>0.0</td>\n",
              "      <td>2</td>\n",
              "    </tr>\n",
              "    <tr>\n",
              "      <th>1</th>\n",
              "      <td>0.000001</td>\n",
              "      <td>0.0</td>\n",
              "      <td>8.603137e-10</td>\n",
              "      <td>0.0</td>\n",
              "      <td>0.0</td>\n",
              "      <td>0.0</td>\n",
              "      <td>0.0</td>\n",
              "      <td>0.0</td>\n",
              "      <td>0.0</td>\n",
              "      <td>0.0</td>\n",
              "      <td>...</td>\n",
              "      <td>0.0</td>\n",
              "      <td>0.0</td>\n",
              "      <td>0.0</td>\n",
              "      <td>0.0</td>\n",
              "      <td>0.0</td>\n",
              "      <td>0.0</td>\n",
              "      <td>0.0</td>\n",
              "      <td>0.0</td>\n",
              "      <td>0.0</td>\n",
              "      <td>2</td>\n",
              "    </tr>\n",
              "    <tr>\n",
              "      <th>2</th>\n",
              "      <td>0.000565</td>\n",
              "      <td>0.0</td>\n",
              "      <td>5.866135e-05</td>\n",
              "      <td>0.0</td>\n",
              "      <td>0.0</td>\n",
              "      <td>0.0</td>\n",
              "      <td>0.0</td>\n",
              "      <td>0.0</td>\n",
              "      <td>0.0</td>\n",
              "      <td>0.0</td>\n",
              "      <td>...</td>\n",
              "      <td>0.0</td>\n",
              "      <td>0.0</td>\n",
              "      <td>0.0</td>\n",
              "      <td>0.0</td>\n",
              "      <td>0.0</td>\n",
              "      <td>0.0</td>\n",
              "      <td>0.0</td>\n",
              "      <td>0.0</td>\n",
              "      <td>0.0</td>\n",
              "      <td>1</td>\n",
              "    </tr>\n",
              "    <tr>\n",
              "      <th>3</th>\n",
              "      <td>0.000001</td>\n",
              "      <td>0.0</td>\n",
              "      <td>8.603137e-10</td>\n",
              "      <td>0.0</td>\n",
              "      <td>0.0</td>\n",
              "      <td>0.0</td>\n",
              "      <td>0.0</td>\n",
              "      <td>0.0</td>\n",
              "      <td>0.0</td>\n",
              "      <td>0.0</td>\n",
              "      <td>...</td>\n",
              "      <td>0.0</td>\n",
              "      <td>0.0</td>\n",
              "      <td>0.0</td>\n",
              "      <td>0.0</td>\n",
              "      <td>0.0</td>\n",
              "      <td>0.0</td>\n",
              "      <td>0.0</td>\n",
              "      <td>0.0</td>\n",
              "      <td>0.0</td>\n",
              "      <td>2</td>\n",
              "    </tr>\n",
              "    <tr>\n",
              "      <th>4</th>\n",
              "      <td>0.000001</td>\n",
              "      <td>0.0</td>\n",
              "      <td>5.866135e-05</td>\n",
              "      <td>0.0</td>\n",
              "      <td>0.0</td>\n",
              "      <td>0.0</td>\n",
              "      <td>0.0</td>\n",
              "      <td>0.0</td>\n",
              "      <td>0.0</td>\n",
              "      <td>0.0</td>\n",
              "      <td>...</td>\n",
              "      <td>0.0</td>\n",
              "      <td>0.0</td>\n",
              "      <td>0.0</td>\n",
              "      <td>0.0</td>\n",
              "      <td>0.0</td>\n",
              "      <td>0.0</td>\n",
              "      <td>0.0</td>\n",
              "      <td>0.0</td>\n",
              "      <td>0.0</td>\n",
              "      <td>2</td>\n",
              "    </tr>\n",
              "  </tbody>\n",
              "</table>\n",
              "<p>5 rows × 77 columns</p>\n",
              "</div>\n",
              "      <button class=\"colab-df-convert\" onclick=\"convertToInteractive('df-dc64bbf7-fbfe-478c-b7e1-9fe172dd1844')\"\n",
              "              title=\"Convert this dataframe to an interactive table.\"\n",
              "              style=\"display:none;\">\n",
              "        \n",
              "  <svg xmlns=\"http://www.w3.org/2000/svg\" height=\"24px\"viewBox=\"0 0 24 24\"\n",
              "       width=\"24px\">\n",
              "    <path d=\"M0 0h24v24H0V0z\" fill=\"none\"/>\n",
              "    <path d=\"M18.56 5.44l.94 2.06.94-2.06 2.06-.94-2.06-.94-.94-2.06-.94 2.06-2.06.94zm-11 1L8.5 8.5l.94-2.06 2.06-.94-2.06-.94L8.5 2.5l-.94 2.06-2.06.94zm10 10l.94 2.06.94-2.06 2.06-.94-2.06-.94-.94-2.06-.94 2.06-2.06.94z\"/><path d=\"M17.41 7.96l-1.37-1.37c-.4-.4-.92-.59-1.43-.59-.52 0-1.04.2-1.43.59L10.3 9.45l-7.72 7.72c-.78.78-.78 2.05 0 2.83L4 21.41c.39.39.9.59 1.41.59.51 0 1.02-.2 1.41-.59l7.78-7.78 2.81-2.81c.8-.78.8-2.07 0-2.86zM5.41 20L4 18.59l7.72-7.72 1.47 1.35L5.41 20z\"/>\n",
              "  </svg>\n",
              "      </button>\n",
              "      \n",
              "  <style>\n",
              "    .colab-df-container {\n",
              "      display:flex;\n",
              "      flex-wrap:wrap;\n",
              "      gap: 12px;\n",
              "    }\n",
              "\n",
              "    .colab-df-convert {\n",
              "      background-color: #E8F0FE;\n",
              "      border: none;\n",
              "      border-radius: 50%;\n",
              "      cursor: pointer;\n",
              "      display: none;\n",
              "      fill: #1967D2;\n",
              "      height: 32px;\n",
              "      padding: 0 0 0 0;\n",
              "      width: 32px;\n",
              "    }\n",
              "\n",
              "    .colab-df-convert:hover {\n",
              "      background-color: #E2EBFA;\n",
              "      box-shadow: 0px 1px 2px rgba(60, 64, 67, 0.3), 0px 1px 3px 1px rgba(60, 64, 67, 0.15);\n",
              "      fill: #174EA6;\n",
              "    }\n",
              "\n",
              "    [theme=dark] .colab-df-convert {\n",
              "      background-color: #3B4455;\n",
              "      fill: #D2E3FC;\n",
              "    }\n",
              "\n",
              "    [theme=dark] .colab-df-convert:hover {\n",
              "      background-color: #434B5C;\n",
              "      box-shadow: 0px 1px 3px 1px rgba(0, 0, 0, 0.15);\n",
              "      filter: drop-shadow(0px 1px 2px rgba(0, 0, 0, 0.3));\n",
              "      fill: #FFFFFF;\n",
              "    }\n",
              "  </style>\n",
              "\n",
              "      <script>\n",
              "        const buttonEl =\n",
              "          document.querySelector('#df-dc64bbf7-fbfe-478c-b7e1-9fe172dd1844 button.colab-df-convert');\n",
              "        buttonEl.style.display =\n",
              "          google.colab.kernel.accessAllowed ? 'block' : 'none';\n",
              "\n",
              "        async function convertToInteractive(key) {\n",
              "          const element = document.querySelector('#df-dc64bbf7-fbfe-478c-b7e1-9fe172dd1844');\n",
              "          const dataTable =\n",
              "            await google.colab.kernel.invokeFunction('convertToInteractive',\n",
              "                                                     [key], {});\n",
              "          if (!dataTable) return;\n",
              "\n",
              "          const docLinkHtml = 'Like what you see? Visit the ' +\n",
              "            '<a target=\"_blank\" href=https://colab.research.google.com/notebooks/data_table.ipynb>data table notebook</a>'\n",
              "            + ' to learn more about interactive tables.';\n",
              "          element.innerHTML = '';\n",
              "          dataTable['output_type'] = 'display_data';\n",
              "          await google.colab.output.renderOutput(dataTable, element);\n",
              "          const docLink = document.createElement('div');\n",
              "          docLink.innerHTML = docLinkHtml;\n",
              "          element.appendChild(docLink);\n",
              "        }\n",
              "      </script>\n",
              "    </div>\n",
              "  </div>\n",
              "  "
            ]
          },
          "metadata": {},
          "execution_count": 5
        }
      ],
      "source": [
        "df_train = pd.read_csv(train_path)\n",
        "df_train.head(5)"
      ]
    },
    {
      "cell_type": "code",
      "execution_count": null,
      "metadata": {
        "colab": {
          "base_uri": "https://localhost:8080/"
        },
        "id": "XhSR6N3m1YBV",
        "outputId": "65b92d97-90cf-44d4-9578-389405835c6a"
      },
      "outputs": [
        {
          "name": "stdout",
          "output_type": "stream",
          "text": [
            "<class 'pandas.core.frame.DataFrame'>\n",
            "RangeIndex: 385156 entries, 0 to 385155\n",
            "Data columns (total 77 columns):\n",
            " #   Column             Non-Null Count   Dtype  \n",
            "---  ------             --------------   -----  \n",
            " 0   Flow Duration      385156 non-null  float64\n",
            " 1   Tot Fwd Pkts       385156 non-null  float64\n",
            " 2   Tot Bwd Pkts       385156 non-null  float64\n",
            " 3   TotLen Fwd Pkts    385156 non-null  float64\n",
            " 4   TotLen Bwd Pkts    385156 non-null  float64\n",
            " 5   Fwd Pkt Len Max    385156 non-null  float64\n",
            " 6   Fwd Pkt Len Min    385156 non-null  float64\n",
            " 7   Fwd Pkt Len Mean   385156 non-null  float64\n",
            " 8   Fwd Pkt Len Std    385156 non-null  float64\n",
            " 9   Bwd Pkt Len Max    385156 non-null  float64\n",
            " 10  Bwd Pkt Len Min    385156 non-null  float64\n",
            " 11  Bwd Pkt Len Mean   385156 non-null  float64\n",
            " 12  Bwd Pkt Len Std    385156 non-null  float64\n",
            " 13  Flow Byts/s        385156 non-null  float64\n",
            " 14  Flow Pkts/s        385156 non-null  float64\n",
            " 15  Flow IAT Mean      385156 non-null  float64\n",
            " 16  Flow IAT Std       385156 non-null  float64\n",
            " 17  Flow IAT Max       385156 non-null  float64\n",
            " 18  Flow IAT Min       385156 non-null  float64\n",
            " 19  Fwd IAT Tot        385156 non-null  float64\n",
            " 20  Fwd IAT Mean       385156 non-null  float64\n",
            " 21  Fwd IAT Std        385156 non-null  float64\n",
            " 22  Fwd IAT Max        385156 non-null  float64\n",
            " 23  Fwd IAT Min        385156 non-null  float64\n",
            " 24  Bwd IAT Tot        385156 non-null  float64\n",
            " 25  Bwd IAT Mean       385156 non-null  float64\n",
            " 26  Bwd IAT Std        385156 non-null  float64\n",
            " 27  Bwd IAT Max        385156 non-null  float64\n",
            " 28  Bwd IAT Min        385156 non-null  float64\n",
            " 29  Fwd PSH Flags      385156 non-null  float64\n",
            " 30  Bwd PSH Flags      385156 non-null  float64\n",
            " 31  Fwd URG Flags      385156 non-null  float64\n",
            " 32  Bwd URG Flags      385156 non-null  float64\n",
            " 33  Fwd Header Len     385156 non-null  float64\n",
            " 34  Bwd Header Len     385156 non-null  float64\n",
            " 35  Fwd Pkts/s         385156 non-null  float64\n",
            " 36  Bwd Pkts/s         385156 non-null  float64\n",
            " 37  Pkt Len Min        385156 non-null  float64\n",
            " 38  Pkt Len Max        385156 non-null  float64\n",
            " 39  Pkt Len Mean       385156 non-null  float64\n",
            " 40  Pkt Len Std        385156 non-null  float64\n",
            " 41  Pkt Len Var        385156 non-null  float64\n",
            " 42  FIN Flag Cnt       385156 non-null  float64\n",
            " 43  SYN Flag Cnt       385156 non-null  float64\n",
            " 44  RST Flag Cnt       385156 non-null  float64\n",
            " 45  PSH Flag Cnt       385156 non-null  float64\n",
            " 46  ACK Flag Cnt       385156 non-null  float64\n",
            " 47  URG Flag Cnt       385156 non-null  float64\n",
            " 48  CWE Flag Count     385156 non-null  float64\n",
            " 49  ECE Flag Cnt       385156 non-null  float64\n",
            " 50  Down/Up Ratio      385156 non-null  float64\n",
            " 51  Pkt Size Avg       385156 non-null  float64\n",
            " 52  Fwd Seg Size Avg   385156 non-null  float64\n",
            " 53  Bwd Seg Size Avg   385156 non-null  float64\n",
            " 54  Fwd Byts/b Avg     385156 non-null  float64\n",
            " 55  Fwd Pkts/b Avg     385156 non-null  float64\n",
            " 56  Fwd Blk Rate Avg   385156 non-null  float64\n",
            " 57  Bwd Byts/b Avg     385156 non-null  float64\n",
            " 58  Bwd Pkts/b Avg     385156 non-null  float64\n",
            " 59  Bwd Blk Rate Avg   385156 non-null  float64\n",
            " 60  Subflow Fwd Pkts   385156 non-null  float64\n",
            " 61  Subflow Fwd Byts   385156 non-null  float64\n",
            " 62  Subflow Bwd Pkts   385156 non-null  float64\n",
            " 63  Subflow Bwd Byts   385156 non-null  float64\n",
            " 64  Init Fwd Win Byts  385156 non-null  float64\n",
            " 65  Init Bwd Win Byts  385156 non-null  float64\n",
            " 66  Fwd Act Data Pkts  385156 non-null  float64\n",
            " 67  Fwd Seg Size Min   385156 non-null  float64\n",
            " 68  Active Mean        385156 non-null  float64\n",
            " 69  Active Std         385156 non-null  float64\n",
            " 70  Active Max         385156 non-null  float64\n",
            " 71  Active Min         385156 non-null  float64\n",
            " 72  Idle Mean          385156 non-null  float64\n",
            " 73  Idle Std           385156 non-null  float64\n",
            " 74  Idle Max           385156 non-null  float64\n",
            " 75  Idle Min           385156 non-null  float64\n",
            " 76  Label              385156 non-null  int64  \n",
            "dtypes: float64(76), int64(1)\n",
            "memory usage: 226.3 MB\n"
          ]
        }
      ],
      "source": [
        "df_train.info()"
      ]
    },
    {
      "cell_type": "code",
      "execution_count": null,
      "metadata": {
        "colab": {
          "base_uri": "https://localhost:8080/"
        },
        "id": "17NFnyK1b9KX",
        "outputId": "5e7da219-04d1-4b0d-c61d-ba2ea7c568bb"
      },
      "outputs": [
        {
          "data": {
            "text/plain": [
              "2    136743\n",
              "1    110033\n",
              "0     76592\n",
              "3     59774\n",
              "4      1574\n",
              "5       233\n",
              "6       187\n",
              "7        20\n",
              "Name: Label, dtype: int64"
            ]
          },
          "execution_count": 6,
          "metadata": {},
          "output_type": "execute_result"
        }
      ],
      "source": [
        "df_train['Label'].value_counts()"
      ]
    },
    {
      "cell_type": "code",
      "execution_count": null,
      "metadata": {
        "colab": {
          "base_uri": "https://localhost:8080/"
        },
        "id": "MSNXRN791wFx",
        "outputId": "336e42f6-77a9-4525-ceeb-9d81f6702482"
      },
      "outputs": [
        {
          "name": "stdout",
          "output_type": "stream",
          "text": [
            "<class 'pandas.core.series.Series'>\n",
            "RangeIndex: 385156 entries, 0 to 385155\n",
            "Series name: Label\n",
            "Non-Null Count   Dtype\n",
            "--------------   -----\n",
            "385156 non-null  int64\n",
            "dtypes: int64(1)\n",
            "memory usage: 2.9 MB\n"
          ]
        }
      ],
      "source": [
        "y_train = df_train.iloc[:, -1]\n",
        "y_train.info()"
      ]
    },
    {
      "cell_type": "code",
      "execution_count": null,
      "metadata": {
        "id": "I4JSv4K815Kg"
      },
      "outputs": [],
      "source": [
        "x_train = df_train.drop(columns=['Label'])"
      ]
    },
    {
      "cell_type": "code",
      "execution_count": null,
      "metadata": {
        "colab": {
          "base_uri": "https://localhost:8080/",
          "height": 351
        },
        "id": "J47ibFWtlmYS",
        "outputId": "a61ff767-38e5-42d3-fff1-43b7fb6990b0"
      },
      "outputs": [
        {
          "data": {
            "text/html": [
              "\n",
              "  <div id=\"df-e2b43190-02b9-4d2e-9424-0764847fb763\">\n",
              "    <div class=\"colab-df-container\">\n",
              "      <div>\n",
              "<style scoped>\n",
              "    .dataframe tbody tr th:only-of-type {\n",
              "        vertical-align: middle;\n",
              "    }\n",
              "\n",
              "    .dataframe tbody tr th {\n",
              "        vertical-align: top;\n",
              "    }\n",
              "\n",
              "    .dataframe thead th {\n",
              "        text-align: right;\n",
              "    }\n",
              "</style>\n",
              "<table border=\"1\" class=\"dataframe\">\n",
              "  <thead>\n",
              "    <tr style=\"text-align: right;\">\n",
              "      <th></th>\n",
              "      <th>Flow Duration</th>\n",
              "      <th>Tot Fwd Pkts</th>\n",
              "      <th>Tot Bwd Pkts</th>\n",
              "      <th>TotLen Fwd Pkts</th>\n",
              "      <th>TotLen Bwd Pkts</th>\n",
              "      <th>Fwd Pkt Len Max</th>\n",
              "      <th>Fwd Pkt Len Min</th>\n",
              "      <th>Fwd Pkt Len Mean</th>\n",
              "      <th>Fwd Pkt Len Std</th>\n",
              "      <th>Bwd Pkt Len Max</th>\n",
              "      <th>...</th>\n",
              "      <th>Fwd Seg Size Min</th>\n",
              "      <th>Active Mean</th>\n",
              "      <th>Active Std</th>\n",
              "      <th>Active Max</th>\n",
              "      <th>Active Min</th>\n",
              "      <th>Idle Mean</th>\n",
              "      <th>Idle Std</th>\n",
              "      <th>Idle Max</th>\n",
              "      <th>Idle Min</th>\n",
              "      <th>Label</th>\n",
              "    </tr>\n",
              "  </thead>\n",
              "  <tbody>\n",
              "    <tr>\n",
              "      <th>0</th>\n",
              "      <td>0.000340</td>\n",
              "      <td>0.000004</td>\n",
              "      <td>0.000117</td>\n",
              "      <td>9.493671e-07</td>\n",
              "      <td>2.803738e-07</td>\n",
              "      <td>0.000467</td>\n",
              "      <td>0.0</td>\n",
              "      <td>0.000234</td>\n",
              "      <td>0.000330</td>\n",
              "      <td>0.000467</td>\n",
              "      <td>...</td>\n",
              "      <td>0.0</td>\n",
              "      <td>0.000000</td>\n",
              "      <td>0.0</td>\n",
              "      <td>0.000000</td>\n",
              "      <td>0.000000</td>\n",
              "      <td>0.000000</td>\n",
              "      <td>0.0</td>\n",
              "      <td>0.000000</td>\n",
              "      <td>0.000000</td>\n",
              "      <td>1</td>\n",
              "    </tr>\n",
              "    <tr>\n",
              "      <th>1</th>\n",
              "      <td>0.000144</td>\n",
              "      <td>0.000002</td>\n",
              "      <td>0.000176</td>\n",
              "      <td>5.379747e-07</td>\n",
              "      <td>2.183178e-05</td>\n",
              "      <td>0.000265</td>\n",
              "      <td>0.0</td>\n",
              "      <td>0.000265</td>\n",
              "      <td>0.000265</td>\n",
              "      <td>0.022541</td>\n",
              "      <td>...</td>\n",
              "      <td>0.0</td>\n",
              "      <td>0.000000</td>\n",
              "      <td>0.0</td>\n",
              "      <td>0.000000</td>\n",
              "      <td>0.000000</td>\n",
              "      <td>0.000000</td>\n",
              "      <td>0.0</td>\n",
              "      <td>0.000000</td>\n",
              "      <td>0.000000</td>\n",
              "      <td>3</td>\n",
              "    </tr>\n",
              "    <tr>\n",
              "      <th>2</th>\n",
              "      <td>0.511838</td>\n",
              "      <td>0.000003</td>\n",
              "      <td>0.000205</td>\n",
              "      <td>9.493671e-07</td>\n",
              "      <td>2.803738e-07</td>\n",
              "      <td>0.000467</td>\n",
              "      <td>0.0</td>\n",
              "      <td>0.000311</td>\n",
              "      <td>0.000381</td>\n",
              "      <td>0.000467</td>\n",
              "      <td>...</td>\n",
              "      <td>0.0</td>\n",
              "      <td>0.000066</td>\n",
              "      <td>0.0</td>\n",
              "      <td>0.000066</td>\n",
              "      <td>0.000066</td>\n",
              "      <td>0.511667</td>\n",
              "      <td>0.0</td>\n",
              "      <td>0.511667</td>\n",
              "      <td>0.511667</td>\n",
              "      <td>1</td>\n",
              "    </tr>\n",
              "    <tr>\n",
              "      <th>3</th>\n",
              "      <td>0.001166</td>\n",
              "      <td>0.000015</td>\n",
              "      <td>0.000469</td>\n",
              "      <td>3.376582e-05</td>\n",
              "      <td>2.442710e-04</td>\n",
              "      <td>0.008048</td>\n",
              "      <td>0.0</td>\n",
              "      <td>0.002373</td>\n",
              "      <td>0.003903</td>\n",
              "      <td>0.060711</td>\n",
              "      <td>...</td>\n",
              "      <td>0.0</td>\n",
              "      <td>0.000000</td>\n",
              "      <td>0.0</td>\n",
              "      <td>0.000000</td>\n",
              "      <td>0.000000</td>\n",
              "      <td>0.000000</td>\n",
              "      <td>0.0</td>\n",
              "      <td>0.000000</td>\n",
              "      <td>0.000000</td>\n",
              "      <td>0</td>\n",
              "    </tr>\n",
              "    <tr>\n",
              "      <th>4</th>\n",
              "      <td>0.000001</td>\n",
              "      <td>0.000000</td>\n",
              "      <td>0.000059</td>\n",
              "      <td>0.000000e+00</td>\n",
              "      <td>0.000000e+00</td>\n",
              "      <td>0.000000</td>\n",
              "      <td>0.0</td>\n",
              "      <td>0.000000</td>\n",
              "      <td>0.000000</td>\n",
              "      <td>0.000000</td>\n",
              "      <td>...</td>\n",
              "      <td>0.0</td>\n",
              "      <td>0.000000</td>\n",
              "      <td>0.0</td>\n",
              "      <td>0.000000</td>\n",
              "      <td>0.000000</td>\n",
              "      <td>0.000000</td>\n",
              "      <td>0.0</td>\n",
              "      <td>0.000000</td>\n",
              "      <td>0.000000</td>\n",
              "      <td>2</td>\n",
              "    </tr>\n",
              "  </tbody>\n",
              "</table>\n",
              "<p>5 rows × 77 columns</p>\n",
              "</div>\n",
              "      <button class=\"colab-df-convert\" onclick=\"convertToInteractive('df-e2b43190-02b9-4d2e-9424-0764847fb763')\"\n",
              "              title=\"Convert this dataframe to an interactive table.\"\n",
              "              style=\"display:none;\">\n",
              "        \n",
              "  <svg xmlns=\"http://www.w3.org/2000/svg\" height=\"24px\"viewBox=\"0 0 24 24\"\n",
              "       width=\"24px\">\n",
              "    <path d=\"M0 0h24v24H0V0z\" fill=\"none\"/>\n",
              "    <path d=\"M18.56 5.44l.94 2.06.94-2.06 2.06-.94-2.06-.94-.94-2.06-.94 2.06-2.06.94zm-11 1L8.5 8.5l.94-2.06 2.06-.94-2.06-.94L8.5 2.5l-.94 2.06-2.06.94zm10 10l.94 2.06.94-2.06 2.06-.94-2.06-.94-.94-2.06-.94 2.06-2.06.94z\"/><path d=\"M17.41 7.96l-1.37-1.37c-.4-.4-.92-.59-1.43-.59-.52 0-1.04.2-1.43.59L10.3 9.45l-7.72 7.72c-.78.78-.78 2.05 0 2.83L4 21.41c.39.39.9.59 1.41.59.51 0 1.02-.2 1.41-.59l7.78-7.78 2.81-2.81c.8-.78.8-2.07 0-2.86zM5.41 20L4 18.59l7.72-7.72 1.47 1.35L5.41 20z\"/>\n",
              "  </svg>\n",
              "      </button>\n",
              "      \n",
              "  <style>\n",
              "    .colab-df-container {\n",
              "      display:flex;\n",
              "      flex-wrap:wrap;\n",
              "      gap: 12px;\n",
              "    }\n",
              "\n",
              "    .colab-df-convert {\n",
              "      background-color: #E8F0FE;\n",
              "      border: none;\n",
              "      border-radius: 50%;\n",
              "      cursor: pointer;\n",
              "      display: none;\n",
              "      fill: #1967D2;\n",
              "      height: 32px;\n",
              "      padding: 0 0 0 0;\n",
              "      width: 32px;\n",
              "    }\n",
              "\n",
              "    .colab-df-convert:hover {\n",
              "      background-color: #E2EBFA;\n",
              "      box-shadow: 0px 1px 2px rgba(60, 64, 67, 0.3), 0px 1px 3px 1px rgba(60, 64, 67, 0.15);\n",
              "      fill: #174EA6;\n",
              "    }\n",
              "\n",
              "    [theme=dark] .colab-df-convert {\n",
              "      background-color: #3B4455;\n",
              "      fill: #D2E3FC;\n",
              "    }\n",
              "\n",
              "    [theme=dark] .colab-df-convert:hover {\n",
              "      background-color: #434B5C;\n",
              "      box-shadow: 0px 1px 3px 1px rgba(0, 0, 0, 0.15);\n",
              "      filter: drop-shadow(0px 1px 2px rgba(0, 0, 0, 0.3));\n",
              "      fill: #FFFFFF;\n",
              "    }\n",
              "  </style>\n",
              "\n",
              "      <script>\n",
              "        const buttonEl =\n",
              "          document.querySelector('#df-e2b43190-02b9-4d2e-9424-0764847fb763 button.colab-df-convert');\n",
              "        buttonEl.style.display =\n",
              "          google.colab.kernel.accessAllowed ? 'block' : 'none';\n",
              "\n",
              "        async function convertToInteractive(key) {\n",
              "          const element = document.querySelector('#df-e2b43190-02b9-4d2e-9424-0764847fb763');\n",
              "          const dataTable =\n",
              "            await google.colab.kernel.invokeFunction('convertToInteractive',\n",
              "                                                     [key], {});\n",
              "          if (!dataTable) return;\n",
              "\n",
              "          const docLinkHtml = 'Like what you see? Visit the ' +\n",
              "            '<a target=\"_blank\" href=https://colab.research.google.com/notebooks/data_table.ipynb>data table notebook</a>'\n",
              "            + ' to learn more about interactive tables.';\n",
              "          element.innerHTML = '';\n",
              "          dataTable['output_type'] = 'display_data';\n",
              "          await google.colab.output.renderOutput(dataTable, element);\n",
              "          const docLink = document.createElement('div');\n",
              "          docLink.innerHTML = docLinkHtml;\n",
              "          element.appendChild(docLink);\n",
              "        }\n",
              "      </script>\n",
              "    </div>\n",
              "  </div>\n",
              "  "
            ],
            "text/plain": [
              "   Flow Duration  Tot Fwd Pkts  Tot Bwd Pkts  TotLen Fwd Pkts  \\\n",
              "0       0.000340      0.000004      0.000117     9.493671e-07   \n",
              "1       0.000144      0.000002      0.000176     5.379747e-07   \n",
              "2       0.511838      0.000003      0.000205     9.493671e-07   \n",
              "3       0.001166      0.000015      0.000469     3.376582e-05   \n",
              "4       0.000001      0.000000      0.000059     0.000000e+00   \n",
              "\n",
              "   TotLen Bwd Pkts  Fwd Pkt Len Max  Fwd Pkt Len Min  Fwd Pkt Len Mean  \\\n",
              "0     2.803738e-07         0.000467              0.0          0.000234   \n",
              "1     2.183178e-05         0.000265              0.0          0.000265   \n",
              "2     2.803738e-07         0.000467              0.0          0.000311   \n",
              "3     2.442710e-04         0.008048              0.0          0.002373   \n",
              "4     0.000000e+00         0.000000              0.0          0.000000   \n",
              "\n",
              "   Fwd Pkt Len Std  Bwd Pkt Len Max  ...  Fwd Seg Size Min  Active Mean  \\\n",
              "0         0.000330         0.000467  ...               0.0     0.000000   \n",
              "1         0.000265         0.022541  ...               0.0     0.000000   \n",
              "2         0.000381         0.000467  ...               0.0     0.000066   \n",
              "3         0.003903         0.060711  ...               0.0     0.000000   \n",
              "4         0.000000         0.000000  ...               0.0     0.000000   \n",
              "\n",
              "   Active Std  Active Max  Active Min  Idle Mean  Idle Std  Idle Max  \\\n",
              "0         0.0    0.000000    0.000000   0.000000       0.0  0.000000   \n",
              "1         0.0    0.000000    0.000000   0.000000       0.0  0.000000   \n",
              "2         0.0    0.000066    0.000066   0.511667       0.0  0.511667   \n",
              "3         0.0    0.000000    0.000000   0.000000       0.0  0.000000   \n",
              "4         0.0    0.000000    0.000000   0.000000       0.0  0.000000   \n",
              "\n",
              "   Idle Min  Label  \n",
              "0  0.000000      1  \n",
              "1  0.000000      3  \n",
              "2  0.511667      1  \n",
              "3  0.000000      0  \n",
              "4  0.000000      2  \n",
              "\n",
              "[5 rows x 77 columns]"
            ]
          },
          "execution_count": 7,
          "metadata": {},
          "output_type": "execute_result"
        }
      ],
      "source": [
        "df_test = pd.read_csv(test_path)\n",
        "df_test.head()"
      ]
    },
    {
      "cell_type": "code",
      "execution_count": null,
      "metadata": {
        "colab": {
          "base_uri": "https://localhost:8080/"
        },
        "id": "cKT2IEGS1bcd",
        "outputId": "885a6e79-f919-4a4d-c0c4-eb3fff63e144"
      },
      "outputs": [
        {
          "name": "stdout",
          "output_type": "stream",
          "text": [
            "<class 'pandas.core.series.Series'>\n",
            "RangeIndex: 96289 entries, 0 to 96288\n",
            "Series name: Label\n",
            "Non-Null Count  Dtype\n",
            "--------------  -----\n",
            "96289 non-null  int64\n",
            "dtypes: int64(1)\n",
            "memory usage: 752.4 KB\n"
          ]
        }
      ],
      "source": [
        "y_test = df_test.iloc[:, -1]\n",
        "y_test.info()"
      ]
    },
    {
      "cell_type": "code",
      "execution_count": null,
      "metadata": {
        "id": "ZLLfAR6G2H97"
      },
      "outputs": [],
      "source": [
        "x_test = df_test.drop(columns=['Label'])"
      ]
    },
    {
      "cell_type": "code",
      "execution_count": null,
      "metadata": {
        "id": "33xZYi3U2VCJ"
      },
      "outputs": [],
      "source": [
        "import gc\n",
        "del df_train, df_test"
      ]
    },
    {
      "cell_type": "code",
      "execution_count": null,
      "metadata": {
        "colab": {
          "base_uri": "https://localhost:8080/"
        },
        "id": "m7Eagnk12Z2w",
        "outputId": "759c8a63-22d5-4189-954f-6fb04d47d53e"
      },
      "outputs": [
        {
          "data": {
            "text/plain": [
              "0"
            ]
          },
          "execution_count": 11,
          "metadata": {},
          "output_type": "execute_result"
        }
      ],
      "source": [
        "gc.collect()"
      ]
    },
    {
      "cell_type": "code",
      "execution_count": null,
      "metadata": {
        "id": "8I3osd6FG9HM"
      },
      "outputs": [],
      "source": [
        "#model = keras.models.load_model(fnn_model, compile=True)\n",
        "#classifier = KerasClassifier(model=model_mlp, clip_values=(0, 1))"
      ]
    },
    {
      "cell_type": "markdown",
      "metadata": {
        "id": "r9kJirCjbeA0"
      },
      "source": [
        "# SMOTE"
      ]
    },
    {
      "cell_type": "code",
      "execution_count": null,
      "metadata": {
        "colab": {
          "base_uri": "https://localhost:8080/"
        },
        "id": "BrkuPOv_cc9-",
        "outputId": "a8bd776d-2496-4fa7-cc67-4454d803485d"
      },
      "outputs": [
        {
          "name": "stdout",
          "output_type": "stream",
          "text": [
            "Looking in indexes: https://pypi.org/simple, https://us-python.pkg.dev/colab-wheels/public/simple/\n",
            "Requirement already satisfied: imbalanced-learn in /usr/local/lib/python3.10/dist-packages (0.10.1)\n",
            "Requirement already satisfied: numpy>=1.17.3 in /usr/local/lib/python3.10/dist-packages (from imbalanced-learn) (1.22.4)\n",
            "Requirement already satisfied: scipy>=1.3.2 in /usr/local/lib/python3.10/dist-packages (from imbalanced-learn) (1.10.1)\n",
            "Requirement already satisfied: scikit-learn>=1.0.2 in /usr/local/lib/python3.10/dist-packages (from imbalanced-learn) (1.2.2)\n",
            "Requirement already satisfied: joblib>=1.1.1 in /usr/local/lib/python3.10/dist-packages (from imbalanced-learn) (1.2.0)\n",
            "Requirement already satisfied: threadpoolctl>=2.0.0 in /usr/local/lib/python3.10/dist-packages (from imbalanced-learn) (3.1.0)\n"
          ]
        }
      ],
      "source": [
        "!pip install imbalanced-learn\n",
        "#!pip install smote_variants"
      ]
    },
    {
      "cell_type": "code",
      "execution_count": null,
      "metadata": {
        "id": "mbnKrWkYbkBz"
      },
      "outputs": [],
      "source": [
        "from imblearn.over_sampling import SMOTE\n",
        "from imblearn.under_sampling import RandomUnderSampler\n",
        "from imblearn.pipeline import Pipeline"
      ]
    },
    {
      "cell_type": "code",
      "execution_count": null,
      "metadata": {
        "id": "QUnkES48bldU"
      },
      "outputs": [],
      "source": [
        "# only oversampling\n",
        "def oversample_data(x, y, oversample_fraction):\n",
        "    oversample = SMOTE(sampling_strategy=oversample_fraction)\n",
        "    return oversample.fit_resample(x, y)"
      ]
    },
    {
      "cell_type": "code",
      "execution_count": null,
      "metadata": {
        "id": "lEsVHHVObfQ7"
      },
      "outputs": [],
      "source": [
        "# ONLY FOR SMOTE MODEL\n",
        "strategy = {5:607, 6:593, 7:510} #  minority class to have 10 percent the number of examples of the majority class\n",
        "x_train_smote, y_train_smote = oversample_data(x_train, y_train, strategy)"
      ]
    },
    {
      "cell_type": "markdown",
      "metadata": {
        "id": "JyRkoBmz21tI"
      },
      "source": [
        "# Build detection model"
      ]
    },
    {
      "cell_type": "code",
      "execution_count": null,
      "metadata": {
        "id": "ujAOsWzp242f"
      },
      "outputs": [],
      "source": [
        "from sklearn.ensemble import RandomForestClassifier"
      ]
    },
    {
      "cell_type": "code",
      "execution_count": null,
      "metadata": {
        "id": "zl63AWTd3mpj"
      },
      "outputs": [],
      "source": [
        "model = RandomForestClassifier(n_estimators = 100, criterion = 'gini', random_state = 42)"
      ]
    },
    {
      "cell_type": "code",
      "execution_count": null,
      "metadata": {
        "colab": {
          "base_uri": "https://localhost:8080/",
          "height": 74
        },
        "id": "XeXKlAoN4wH4",
        "outputId": "c9745aae-31ae-452b-a356-107599cd1c40"
      },
      "outputs": [
        {
          "data": {
            "text/html": [
              "<style>#sk-container-id-1 {color: black;background-color: white;}#sk-container-id-1 pre{padding: 0;}#sk-container-id-1 div.sk-toggleable {background-color: white;}#sk-container-id-1 label.sk-toggleable__label {cursor: pointer;display: block;width: 100%;margin-bottom: 0;padding: 0.3em;box-sizing: border-box;text-align: center;}#sk-container-id-1 label.sk-toggleable__label-arrow:before {content: \"▸\";float: left;margin-right: 0.25em;color: #696969;}#sk-container-id-1 label.sk-toggleable__label-arrow:hover:before {color: black;}#sk-container-id-1 div.sk-estimator:hover label.sk-toggleable__label-arrow:before {color: black;}#sk-container-id-1 div.sk-toggleable__content {max-height: 0;max-width: 0;overflow: hidden;text-align: left;background-color: #f0f8ff;}#sk-container-id-1 div.sk-toggleable__content pre {margin: 0.2em;color: black;border-radius: 0.25em;background-color: #f0f8ff;}#sk-container-id-1 input.sk-toggleable__control:checked~div.sk-toggleable__content {max-height: 200px;max-width: 100%;overflow: auto;}#sk-container-id-1 input.sk-toggleable__control:checked~label.sk-toggleable__label-arrow:before {content: \"▾\";}#sk-container-id-1 div.sk-estimator input.sk-toggleable__control:checked~label.sk-toggleable__label {background-color: #d4ebff;}#sk-container-id-1 div.sk-label input.sk-toggleable__control:checked~label.sk-toggleable__label {background-color: #d4ebff;}#sk-container-id-1 input.sk-hidden--visually {border: 0;clip: rect(1px 1px 1px 1px);clip: rect(1px, 1px, 1px, 1px);height: 1px;margin: -1px;overflow: hidden;padding: 0;position: absolute;width: 1px;}#sk-container-id-1 div.sk-estimator {font-family: monospace;background-color: #f0f8ff;border: 1px dotted black;border-radius: 0.25em;box-sizing: border-box;margin-bottom: 0.5em;}#sk-container-id-1 div.sk-estimator:hover {background-color: #d4ebff;}#sk-container-id-1 div.sk-parallel-item::after {content: \"\";width: 100%;border-bottom: 1px solid gray;flex-grow: 1;}#sk-container-id-1 div.sk-label:hover label.sk-toggleable__label {background-color: #d4ebff;}#sk-container-id-1 div.sk-serial::before {content: \"\";position: absolute;border-left: 1px solid gray;box-sizing: border-box;top: 0;bottom: 0;left: 50%;z-index: 0;}#sk-container-id-1 div.sk-serial {display: flex;flex-direction: column;align-items: center;background-color: white;padding-right: 0.2em;padding-left: 0.2em;position: relative;}#sk-container-id-1 div.sk-item {position: relative;z-index: 1;}#sk-container-id-1 div.sk-parallel {display: flex;align-items: stretch;justify-content: center;background-color: white;position: relative;}#sk-container-id-1 div.sk-item::before, #sk-container-id-1 div.sk-parallel-item::before {content: \"\";position: absolute;border-left: 1px solid gray;box-sizing: border-box;top: 0;bottom: 0;left: 50%;z-index: -1;}#sk-container-id-1 div.sk-parallel-item {display: flex;flex-direction: column;z-index: 1;position: relative;background-color: white;}#sk-container-id-1 div.sk-parallel-item:first-child::after {align-self: flex-end;width: 50%;}#sk-container-id-1 div.sk-parallel-item:last-child::after {align-self: flex-start;width: 50%;}#sk-container-id-1 div.sk-parallel-item:only-child::after {width: 0;}#sk-container-id-1 div.sk-dashed-wrapped {border: 1px dashed gray;margin: 0 0.4em 0.5em 0.4em;box-sizing: border-box;padding-bottom: 0.4em;background-color: white;}#sk-container-id-1 div.sk-label label {font-family: monospace;font-weight: bold;display: inline-block;line-height: 1.2em;}#sk-container-id-1 div.sk-label-container {text-align: center;}#sk-container-id-1 div.sk-container {/* jupyter's `normalize.less` sets `[hidden] { display: none; }` but bootstrap.min.css set `[hidden] { display: none !important; }` so we also need the `!important` here to be able to override the default hidden behavior on the sphinx rendered scikit-learn.org. See: https://github.com/scikit-learn/scikit-learn/issues/21755 */display: inline-block !important;position: relative;}#sk-container-id-1 div.sk-text-repr-fallback {display: none;}</style><div id=\"sk-container-id-1\" class=\"sk-top-container\"><div class=\"sk-text-repr-fallback\"><pre>RandomForestClassifier(random_state=42)</pre><b>In a Jupyter environment, please rerun this cell to show the HTML representation or trust the notebook. <br />On GitHub, the HTML representation is unable to render, please try loading this page with nbviewer.org.</b></div><div class=\"sk-container\" hidden><div class=\"sk-item\"><div class=\"sk-estimator sk-toggleable\"><input class=\"sk-toggleable__control sk-hidden--visually\" id=\"sk-estimator-id-1\" type=\"checkbox\" checked><label for=\"sk-estimator-id-1\" class=\"sk-toggleable__label sk-toggleable__label-arrow\">RandomForestClassifier</label><div class=\"sk-toggleable__content\"><pre>RandomForestClassifier(random_state=42)</pre></div></div></div></div></div>"
            ],
            "text/plain": [
              "RandomForestClassifier(random_state=42)"
            ]
          },
          "execution_count": 21,
          "metadata": {},
          "output_type": "execute_result"
        }
      ],
      "source": [
        "model.fit(x_train, y_train)"
      ]
    },
    {
      "cell_type": "code",
      "execution_count": null,
      "metadata": {
        "id": "c4XSDfEPdS2i"
      },
      "outputs": [],
      "source": [
        "model2 = RandomForestClassifier(n_estimators = 100, criterion = 'gini', random_state = 42)"
      ]
    },
    {
      "cell_type": "code",
      "execution_count": null,
      "metadata": {
        "colab": {
          "base_uri": "https://localhost:8080/",
          "height": 74
        },
        "id": "fxhkPBAsdag3",
        "outputId": "969f9cf2-9c8d-46f8-f811-9f61850ae14f"
      },
      "outputs": [
        {
          "data": {
            "text/html": [
              "<style>#sk-container-id-2 {color: black;background-color: white;}#sk-container-id-2 pre{padding: 0;}#sk-container-id-2 div.sk-toggleable {background-color: white;}#sk-container-id-2 label.sk-toggleable__label {cursor: pointer;display: block;width: 100%;margin-bottom: 0;padding: 0.3em;box-sizing: border-box;text-align: center;}#sk-container-id-2 label.sk-toggleable__label-arrow:before {content: \"▸\";float: left;margin-right: 0.25em;color: #696969;}#sk-container-id-2 label.sk-toggleable__label-arrow:hover:before {color: black;}#sk-container-id-2 div.sk-estimator:hover label.sk-toggleable__label-arrow:before {color: black;}#sk-container-id-2 div.sk-toggleable__content {max-height: 0;max-width: 0;overflow: hidden;text-align: left;background-color: #f0f8ff;}#sk-container-id-2 div.sk-toggleable__content pre {margin: 0.2em;color: black;border-radius: 0.25em;background-color: #f0f8ff;}#sk-container-id-2 input.sk-toggleable__control:checked~div.sk-toggleable__content {max-height: 200px;max-width: 100%;overflow: auto;}#sk-container-id-2 input.sk-toggleable__control:checked~label.sk-toggleable__label-arrow:before {content: \"▾\";}#sk-container-id-2 div.sk-estimator input.sk-toggleable__control:checked~label.sk-toggleable__label {background-color: #d4ebff;}#sk-container-id-2 div.sk-label input.sk-toggleable__control:checked~label.sk-toggleable__label {background-color: #d4ebff;}#sk-container-id-2 input.sk-hidden--visually {border: 0;clip: rect(1px 1px 1px 1px);clip: rect(1px, 1px, 1px, 1px);height: 1px;margin: -1px;overflow: hidden;padding: 0;position: absolute;width: 1px;}#sk-container-id-2 div.sk-estimator {font-family: monospace;background-color: #f0f8ff;border: 1px dotted black;border-radius: 0.25em;box-sizing: border-box;margin-bottom: 0.5em;}#sk-container-id-2 div.sk-estimator:hover {background-color: #d4ebff;}#sk-container-id-2 div.sk-parallel-item::after {content: \"\";width: 100%;border-bottom: 1px solid gray;flex-grow: 1;}#sk-container-id-2 div.sk-label:hover label.sk-toggleable__label {background-color: #d4ebff;}#sk-container-id-2 div.sk-serial::before {content: \"\";position: absolute;border-left: 1px solid gray;box-sizing: border-box;top: 0;bottom: 0;left: 50%;z-index: 0;}#sk-container-id-2 div.sk-serial {display: flex;flex-direction: column;align-items: center;background-color: white;padding-right: 0.2em;padding-left: 0.2em;position: relative;}#sk-container-id-2 div.sk-item {position: relative;z-index: 1;}#sk-container-id-2 div.sk-parallel {display: flex;align-items: stretch;justify-content: center;background-color: white;position: relative;}#sk-container-id-2 div.sk-item::before, #sk-container-id-2 div.sk-parallel-item::before {content: \"\";position: absolute;border-left: 1px solid gray;box-sizing: border-box;top: 0;bottom: 0;left: 50%;z-index: -1;}#sk-container-id-2 div.sk-parallel-item {display: flex;flex-direction: column;z-index: 1;position: relative;background-color: white;}#sk-container-id-2 div.sk-parallel-item:first-child::after {align-self: flex-end;width: 50%;}#sk-container-id-2 div.sk-parallel-item:last-child::after {align-self: flex-start;width: 50%;}#sk-container-id-2 div.sk-parallel-item:only-child::after {width: 0;}#sk-container-id-2 div.sk-dashed-wrapped {border: 1px dashed gray;margin: 0 0.4em 0.5em 0.4em;box-sizing: border-box;padding-bottom: 0.4em;background-color: white;}#sk-container-id-2 div.sk-label label {font-family: monospace;font-weight: bold;display: inline-block;line-height: 1.2em;}#sk-container-id-2 div.sk-label-container {text-align: center;}#sk-container-id-2 div.sk-container {/* jupyter's `normalize.less` sets `[hidden] { display: none; }` but bootstrap.min.css set `[hidden] { display: none !important; }` so we also need the `!important` here to be able to override the default hidden behavior on the sphinx rendered scikit-learn.org. See: https://github.com/scikit-learn/scikit-learn/issues/21755 */display: inline-block !important;position: relative;}#sk-container-id-2 div.sk-text-repr-fallback {display: none;}</style><div id=\"sk-container-id-2\" class=\"sk-top-container\"><div class=\"sk-text-repr-fallback\"><pre>RandomForestClassifier(random_state=42)</pre><b>In a Jupyter environment, please rerun this cell to show the HTML representation or trust the notebook. <br />On GitHub, the HTML representation is unable to render, please try loading this page with nbviewer.org.</b></div><div class=\"sk-container\" hidden><div class=\"sk-item\"><div class=\"sk-estimator sk-toggleable\"><input class=\"sk-toggleable__control sk-hidden--visually\" id=\"sk-estimator-id-2\" type=\"checkbox\" checked><label for=\"sk-estimator-id-2\" class=\"sk-toggleable__label sk-toggleable__label-arrow\">RandomForestClassifier</label><div class=\"sk-toggleable__content\"><pre>RandomForestClassifier(random_state=42)</pre></div></div></div></div></div>"
            ],
            "text/plain": [
              "RandomForestClassifier(random_state=42)"
            ]
          },
          "execution_count": 27,
          "metadata": {},
          "output_type": "execute_result"
        }
      ],
      "source": [
        "model2.fit(x_train_smote, y_train_smote)"
      ]
    },
    {
      "cell_type": "code",
      "execution_count": null,
      "metadata": {
        "colab": {
          "base_uri": "https://localhost:8080/"
        },
        "id": "Va0hRz_F7Ouy",
        "outputId": "0327058e-e3c8-4517-a685-1e86e8f3a315"
      },
      "outputs": [
        {
          "data": {
            "text/plain": [
              "['/content/drive/MyDrive/DACN_XAI_Adv_defense/InSDN/random_forest_smote.joblib']"
            ]
          },
          "execution_count": 30,
          "metadata": {},
          "output_type": "execute_result"
        }
      ],
      "source": [
        "import joblib\n",
        "# save\n",
        "joblib.dump(model2, \"/content/drive/MyDrive/DACN_XAI_Adv_defense/InSDN/random_forest_smote.joblib\")"
      ]
    },
    {
      "cell_type": "markdown",
      "metadata": {
        "id": "AuusqnCM5XLJ"
      },
      "source": [
        "# Evaluation"
      ]
    },
    {
      "cell_type": "code",
      "execution_count": null,
      "metadata": {
        "id": "UoljaGDH5SES"
      },
      "outputs": [],
      "source": [
        "import seaborn as sns\n",
        "# Evaluation metrics\n",
        "from sklearn.metrics import accuracy_score, precision_score, recall_score, f1_score\n",
        "from sklearn.metrics import auc, roc_curve, roc_auc_score\n",
        "from sklearn.metrics import precision_recall_curve\n",
        "from sklearn.metrics import balanced_accuracy_score\n",
        "from sklearn.metrics import classification_report\n",
        "from sklearn.metrics import confusion_matrix"
      ]
    },
    {
      "cell_type": "code",
      "execution_count": null,
      "metadata": {
        "id": "RtkHql3Q5VYr"
      },
      "outputs": [],
      "source": [
        "def evaluation(y_test, y_pred):\n",
        "  print('Misclassified samples: %d' % (y_test != y_pred).sum())\n",
        "  result = confusion_matrix(y_test, y_pred, normalize='true')\n",
        "  print(\"Confusion Matrix:\")\n",
        "  print(result)\n",
        "  sns.heatmap(result, annot=True)\n",
        "  result1 = classification_report(y_test, y_pred)\n",
        "  print(\"Classification Report:\",)\n",
        "  print (result1)\n",
        "  result2 = 100* accuracy_score(y_test, y_pred)\n",
        "  print(\"Accuracy:\", result2)\n",
        "  result3 = precision_score(y_test, y_pred, average='macro')\n",
        "  print(\"Precision:\",result3)\n",
        "  result4 = recall_score(y_test, y_pred, average='macro')\n",
        "  print(\"Recall:\",result4)\n",
        "  result5 = f1_score(y_test, y_pred, average='macro')\n",
        "  print(\"F1:\",result5)\n",
        "  #result6 = roc_auc_score(y_test, y_pred, multi_class='ovo')\n",
        "  #print(\"AUC:\",result6)"
      ]
    },
    {
      "cell_type": "markdown",
      "metadata": {
        "id": "_-r2WTyJdhjQ"
      },
      "source": [
        "Without SMOTE"
      ]
    },
    {
      "cell_type": "code",
      "execution_count": null,
      "metadata": {
        "id": "DcdXFMGh4xa5"
      },
      "outputs": [],
      "source": [
        "y_pred = model.predict(x_test)"
      ]
    },
    {
      "cell_type": "code",
      "execution_count": null,
      "metadata": {
        "colab": {
          "base_uri": "https://localhost:8080/",
          "height": 1000
        },
        "id": "dqt9osw2cwwZ",
        "outputId": "8c0099db-70df-48cd-ef37-2bc8b1a400d5"
      },
      "outputs": [
        {
          "name": "stdout",
          "output_type": "stream",
          "text": [
            "Misclassified samples: 1401\n",
            "Confusion Matrix:\n",
            "[[9.94393797e-01 2.09577701e-04 1.46704391e-03 3.92958189e-03\n",
            "  0.00000000e+00 0.00000000e+00 0.00000000e+00 0.00000000e+00]\n",
            " [1.80818747e-04 9.65608274e-01 1.04513236e-02 2.35064371e-02\n",
            "  1.80818747e-04 3.61637495e-05 3.61637495e-05 0.00000000e+00]\n",
            " [8.78091614e-05 9.36631055e-04 9.98975560e-01 0.00000000e+00\n",
            "  0.00000000e+00 0.00000000e+00 0.00000000e+00 0.00000000e+00]\n",
            " [2.41837969e-03 5.44135429e-03 0.00000000e+00 9.92005912e-01\n",
            "  0.00000000e+00 1.34354427e-04 0.00000000e+00 0.00000000e+00]\n",
            " [0.00000000e+00 1.93548387e-01 0.00000000e+00 1.86104218e-01\n",
            "  6.17866005e-01 2.48138958e-03 0.00000000e+00 0.00000000e+00]\n",
            " [0.00000000e+00 2.32558140e-02 0.00000000e+00 2.79069767e-01\n",
            "  0.00000000e+00 6.97674419e-01 0.00000000e+00 0.00000000e+00]\n",
            " [0.00000000e+00 1.48936170e-01 0.00000000e+00 1.27659574e-01\n",
            "  8.51063830e-02 0.00000000e+00 6.38297872e-01 0.00000000e+00]\n",
            " [0.00000000e+00 2.85714286e-01 0.00000000e+00 4.28571429e-01\n",
            "  0.00000000e+00 0.00000000e+00 0.00000000e+00 2.85714286e-01]]\n",
            "Classification Report:\n",
            "              precision    recall  f1-score   support\n",
            "\n",
            "           0       1.00      0.99      1.00     19086\n",
            "           1       0.99      0.97      0.98     27652\n",
            "           2       0.99      1.00      0.99     34165\n",
            "           3       0.95      0.99      0.97     14886\n",
            "           4       0.97      0.62      0.75       403\n",
            "           5       0.88      0.70      0.78        43\n",
            "           6       0.97      0.64      0.77        47\n",
            "           7       1.00      0.29      0.44         7\n",
            "\n",
            "    accuracy                           0.99     96289\n",
            "   macro avg       0.97      0.77      0.84     96289\n",
            "weighted avg       0.99      0.99      0.99     96289\n",
            "\n",
            "Accuracy: 98.54500514077414\n",
            "Precision: 0.9679259731517385\n",
            "Recall: 0.7738170154707826\n",
            "F1: 0.8356466103461615\n"
          ]
        },
        {
          "data": {
            "image/png": "[encoded data removed]",
            "text/plain": [
              "<Figure size 640x480 with 2 Axes>"
            ]
          },
          "metadata": {},
          "output_type": "display_data"
        }
      ],
      "source": [
        "evaluation(y_test, y_pred)"
      ]
    },
    {
      "cell_type": "markdown",
      "metadata": {
        "id": "5Qt1PDX1dfb6"
      },
      "source": [
        "SMOTE"
      ]
    },
    {
      "cell_type": "code",
      "execution_count": null,
      "metadata": {
        "id": "VHUx593rdns6"
      },
      "outputs": [],
      "source": [
        "y_pred2 = model2.predict(x_test)"
      ]
    },
    {
      "cell_type": "code",
      "execution_count": null,
      "metadata": {
        "colab": {
          "base_uri": "https://localhost:8080/",
          "height": 1000
        },
        "id": "WymHzCdU5d0t",
        "outputId": "81093553-fec3-4d8e-b6e9-6b2fdae8e17e"
      },
      "outputs": [
        {
          "name": "stdout",
          "output_type": "stream",
          "text": [
            "Misclassified samples: 1396\n",
            "Confusion Matrix:\n",
            "[[9.94027036e-01 2.09577701e-04 1.78141046e-03 3.98197632e-03\n",
            "  0.00000000e+00 0.00000000e+00 0.00000000e+00 0.00000000e+00]\n",
            " [1.44654998e-04 9.65644438e-01 1.04874873e-02 2.35064371e-02\n",
            "  1.80818747e-04 3.61637495e-05 0.00000000e+00 0.00000000e+00]\n",
            " [8.78091614e-05 9.36631055e-04 9.98975560e-01 0.00000000e+00\n",
            "  0.00000000e+00 0.00000000e+00 0.00000000e+00 0.00000000e+00]\n",
            " [2.41837969e-03 5.23982265e-03 0.00000000e+00 9.92274620e-01\n",
            "  0.00000000e+00 6.71772135e-05 0.00000000e+00 0.00000000e+00]\n",
            " [0.00000000e+00 1.93548387e-01 0.00000000e+00 1.86104218e-01\n",
            "  6.15384615e-01 4.96277916e-03 0.00000000e+00 0.00000000e+00]\n",
            " [0.00000000e+00 0.00000000e+00 0.00000000e+00 2.79069767e-01\n",
            "  0.00000000e+00 7.20930233e-01 0.00000000e+00 0.00000000e+00]\n",
            " [0.00000000e+00 1.48936170e-01 0.00000000e+00 1.27659574e-01\n",
            "  0.00000000e+00 0.00000000e+00 7.23404255e-01 0.00000000e+00]\n",
            " [0.00000000e+00 2.85714286e-01 0.00000000e+00 0.00000000e+00\n",
            "  0.00000000e+00 0.00000000e+00 0.00000000e+00 7.14285714e-01]]\n",
            "Classification Report:\n",
            "              precision    recall  f1-score   support\n",
            "\n",
            "           0       1.00      0.99      1.00     19086\n",
            "           1       0.99      0.97      0.98     27652\n",
            "           2       0.99      1.00      0.99     34165\n",
            "           3       0.95      0.99      0.97     14886\n",
            "           4       0.98      0.62      0.76       403\n",
            "           5       0.89      0.72      0.79        43\n",
            "           6       1.00      0.72      0.84        47\n",
            "           7       1.00      0.71      0.83         7\n",
            "\n",
            "    accuracy                           0.99     96289\n",
            "   macro avg       0.97      0.84      0.90     96289\n",
            "weighted avg       0.99      0.99      0.99     96289\n",
            "\n",
            "Accuracy: 98.55019784191342\n",
            "Precision: 0.9742851579119776\n",
            "Recall: 0.840615808914815\n",
            "F1: 0.8953389258856741\n"
          ]
        },
        {
          "data": {
            "image/png": "[encoded data removed]",
            "text/plain": [
              "<Figure size 640x480 with 2 Axes>"
            ]
          },
          "metadata": {},
          "output_type": "display_data"
        }
      ],
      "source": [
        "evaluation(y_test, y_pred2)"
      ]
    },
    {
      "cell_type": "markdown",
      "metadata": {
        "id": "aZsP82Lw9LDn"
      },
      "source": [
        "## Random Grid Search"
      ]
    },
    {
      "cell_type": "code",
      "execution_count": null,
      "metadata": {
        "colab": {
          "base_uri": "https://localhost:8080/"
        },
        "id": "d9qJmV5K9OTR",
        "outputId": "9fbdf0af-6da3-4879-e006-6666741a16b0"
      },
      "outputs": [
        {
          "name": "stdout",
          "output_type": "stream",
          "text": [
            "{'n_estimators': [100, 144, 188, 233, 277, 322, 366, 411, 455, 500], 'max_features': ['auto', 'sqrt'], 'max_depth': [1, 3, 5, 7, 10, None], 'min_samples_split': [2, 5, 10], 'min_samples_leaf': [1, 2, 4]}\n"
          ]
        }
      ],
      "source": [
        "from sklearn.model_selection import RandomizedSearchCV\n",
        "import numpy as np\n",
        "\n",
        "# Number of trees in random forest\n",
        "n_estimators = [int(x) for x in np.linspace(start = 100, stop = 500, num = 10)]\n",
        "# Number of features to consider at every split\n",
        "max_features = ['auto', 'sqrt']\n",
        "# Maximum number of levels in tree\n",
        "max_depth = [int(x) for x in np.linspace(1, 10, num = 5)]\n",
        "max_depth.append(None)\n",
        "# Minimum number of samples required to split a node\n",
        "min_samples_split = [2, 5, 10]\n",
        "# Minimum number of samples required at each leaf node\n",
        "min_samples_leaf = [1, 2, 4]\n",
        "# Method of selecting samples for training each tree\n",
        "#bootstrap = [True, False]\n",
        "# Create the random grid\n",
        "random_grid = {'n_estimators': n_estimators,\n",
        "               'max_features': max_features,\n",
        "               'max_depth': max_depth,\n",
        "               'min_samples_split': min_samples_split,\n",
        "               'min_samples_leaf': min_samples_leaf}\n",
        "               #'bootstrap': bootstrap}\n",
        "print(random_grid)"
      ]
    },
    {
      "cell_type": "code",
      "execution_count": null,
      "metadata": {
        "colab": {
          "base_uri": "https://localhost:8080/"
        },
        "id": "npdGu0-w924W",
        "outputId": "58f2729e-3f7b-4947-d2d7-5a766d216546"
      },
      "outputs": [
        {
          "name": "stdout",
          "output_type": "stream",
          "text": [
            "Fitting 3 folds for each of 100 candidates, totalling 300 fits\n"
          ]
        }
      ],
      "source": [
        "rf = RandomForestClassifier()\n",
        "rf_random = RandomizedSearchCV(estimator = rf, param_distributions = random_grid, n_iter = 100, cv = 3, verbose=2, random_state=42, n_jobs = -1)\n",
        "# Fit the random search model\n",
        "rf_random.fit(x_train, y_train)"
      ]
    },
    {
      "cell_type": "code",
      "execution_count": null,
      "metadata": {
        "id": "bg0U-KzoHqTv"
      },
      "outputs": [],
      "source": [
        "rf_random.best_params_"
      ]
    },
    {
      "cell_type": "markdown",
      "metadata": {
        "id": "AT9S9DYm0H6q"
      },
      "source": [
        "# SHAP"
      ]
    },
    {
      "cell_type": "code",
      "execution_count": 4,
      "metadata": {
        "id": "9BkutXYx8C2V"
      },
      "outputs": [],
      "source": [
        "import joblib\n",
        "# load\n",
        "model = joblib.load(\"/content/drive/MyDrive/DACN_XAI_Adv_defense/InSDN/random_forest_smote.joblib\")"
      ]
    },
    {
      "cell_type": "code",
      "execution_count": 6,
      "metadata": {
        "id": "8CQCgNzXysIE"
      },
      "outputs": [],
      "source": [
        "x_normal = df_train[df_train['Label'] == 0].reset_index(drop=True)"
      ]
    },
    {
      "cell_type": "code",
      "execution_count": 7,
      "metadata": {
        "colab": {
          "base_uri": "https://localhost:8080/"
        },
        "id": "oQF_0SFR090E",
        "outputId": "fc5c5f55-caff-447a-ef4d-cf57cc93dffa"
      },
      "outputs": [
        {
          "output_type": "execute_result",
          "data": {
            "text/plain": [
              "0"
            ]
          },
          "metadata": {},
          "execution_count": 7
        }
      ],
      "source": [
        "import gc\n",
        "del df_train\n",
        "gc.collect()"
      ]
    },
    {
      "cell_type": "code",
      "execution_count": null,
      "metadata": {
        "colab": {
          "base_uri": "https://localhost:8080/"
        },
        "id": "xBfpy1cqzax6",
        "outputId": "77db732d-0608-474d-afab-5c9b91501926"
      },
      "outputs": [
        {
          "output_type": "stream",
          "name": "stdout",
          "text": [
            "<class 'pandas.core.frame.DataFrame'>\n",
            "RangeIndex: 76592 entries, 0 to 76591\n",
            "Data columns (total 77 columns):\n",
            " #   Column             Non-Null Count  Dtype  \n",
            "---  ------             --------------  -----  \n",
            " 0   Flow Duration      76592 non-null  float64\n",
            " 1   Tot Fwd Pkts       76592 non-null  float64\n",
            " 2   Tot Bwd Pkts       76592 non-null  float64\n",
            " 3   TotLen Fwd Pkts    76592 non-null  float64\n",
            " 4   TotLen Bwd Pkts    76592 non-null  float64\n",
            " 5   Fwd Pkt Len Max    76592 non-null  float64\n",
            " 6   Fwd Pkt Len Min    76592 non-null  float64\n",
            " 7   Fwd Pkt Len Mean   76592 non-null  float64\n",
            " 8   Fwd Pkt Len Std    76592 non-null  float64\n",
            " 9   Bwd Pkt Len Max    76592 non-null  float64\n",
            " 10  Bwd Pkt Len Min    76592 non-null  float64\n",
            " 11  Bwd Pkt Len Mean   76592 non-null  float64\n",
            " 12  Bwd Pkt Len Std    76592 non-null  float64\n",
            " 13  Flow Byts/s        76592 non-null  float64\n",
            " 14  Flow Pkts/s        76592 non-null  float64\n",
            " 15  Flow IAT Mean      76592 non-null  float64\n",
            " 16  Flow IAT Std       76592 non-null  float64\n",
            " 17  Flow IAT Max       76592 non-null  float64\n",
            " 18  Flow IAT Min       76592 non-null  float64\n",
            " 19  Fwd IAT Tot        76592 non-null  float64\n",
            " 20  Fwd IAT Mean       76592 non-null  float64\n",
            " 21  Fwd IAT Std        76592 non-null  float64\n",
            " 22  Fwd IAT Max        76592 non-null  float64\n",
            " 23  Fwd IAT Min        76592 non-null  float64\n",
            " 24  Bwd IAT Tot        76592 non-null  float64\n",
            " 25  Bwd IAT Mean       76592 non-null  float64\n",
            " 26  Bwd IAT Std        76592 non-null  float64\n",
            " 27  Bwd IAT Max        76592 non-null  float64\n",
            " 28  Bwd IAT Min        76592 non-null  float64\n",
            " 29  Fwd PSH Flags      76592 non-null  float64\n",
            " 30  Bwd PSH Flags      76592 non-null  float64\n",
            " 31  Fwd URG Flags      76592 non-null  float64\n",
            " 32  Bwd URG Flags      76592 non-null  float64\n",
            " 33  Fwd Header Len     76592 non-null  float64\n",
            " 34  Bwd Header Len     76592 non-null  float64\n",
            " 35  Fwd Pkts/s         76592 non-null  float64\n",
            " 36  Bwd Pkts/s         76592 non-null  float64\n",
            " 37  Pkt Len Min        76592 non-null  float64\n",
            " 38  Pkt Len Max        76592 non-null  float64\n",
            " 39  Pkt Len Mean       76592 non-null  float64\n",
            " 40  Pkt Len Std        76592 non-null  float64\n",
            " 41  Pkt Len Var        76592 non-null  float64\n",
            " 42  FIN Flag Cnt       76592 non-null  float64\n",
            " 43  SYN Flag Cnt       76592 non-null  float64\n",
            " 44  RST Flag Cnt       76592 non-null  float64\n",
            " 45  PSH Flag Cnt       76592 non-null  float64\n",
            " 46  ACK Flag Cnt       76592 non-null  float64\n",
            " 47  URG Flag Cnt       76592 non-null  float64\n",
            " 48  CWE Flag Count     76592 non-null  float64\n",
            " 49  ECE Flag Cnt       76592 non-null  float64\n",
            " 50  Down/Up Ratio      76592 non-null  float64\n",
            " 51  Pkt Size Avg       76592 non-null  float64\n",
            " 52  Fwd Seg Size Avg   76592 non-null  float64\n",
            " 53  Bwd Seg Size Avg   76592 non-null  float64\n",
            " 54  Fwd Byts/b Avg     76592 non-null  float64\n",
            " 55  Fwd Pkts/b Avg     76592 non-null  float64\n",
            " 56  Fwd Blk Rate Avg   76592 non-null  float64\n",
            " 57  Bwd Byts/b Avg     76592 non-null  float64\n",
            " 58  Bwd Pkts/b Avg     76592 non-null  float64\n",
            " 59  Bwd Blk Rate Avg   76592 non-null  float64\n",
            " 60  Subflow Fwd Pkts   76592 non-null  float64\n",
            " 61  Subflow Fwd Byts   76592 non-null  float64\n",
            " 62  Subflow Bwd Pkts   76592 non-null  float64\n",
            " 63  Subflow Bwd Byts   76592 non-null  float64\n",
            " 64  Init Fwd Win Byts  76592 non-null  float64\n",
            " 65  Init Bwd Win Byts  76592 non-null  float64\n",
            " 66  Fwd Act Data Pkts  76592 non-null  float64\n",
            " 67  Fwd Seg Size Min   76592 non-null  float64\n",
            " 68  Active Mean        76592 non-null  float64\n",
            " 69  Active Std         76592 non-null  float64\n",
            " 70  Active Max         76592 non-null  float64\n",
            " 71  Active Min         76592 non-null  float64\n",
            " 72  Idle Mean          76592 non-null  float64\n",
            " 73  Idle Std           76592 non-null  float64\n",
            " 74  Idle Max           76592 non-null  float64\n",
            " 75  Idle Min           76592 non-null  float64\n",
            " 76  Label              76592 non-null  int64  \n",
            "dtypes: float64(76), int64(1)\n",
            "memory usage: 45.0 MB\n"
          ]
        }
      ],
      "source": [
        "x_normal.info()"
      ]
    },
    {
      "cell_type": "code",
      "execution_count": null,
      "metadata": {
        "colab": {
          "base_uri": "https://localhost:8080/"
        },
        "id": "mQLA0I-h0Dji",
        "outputId": "523d1457-d84a-4067-a8a3-03df4731926e"
      },
      "outputs": [
        {
          "output_type": "execute_result",
          "data": {
            "text/plain": [
              "0    76592\n",
              "Name: Label, dtype: int64"
            ]
          },
          "metadata": {},
          "execution_count": 9
        }
      ],
      "source": [
        "x_normal['Label'].value_counts()"
      ]
    },
    {
      "cell_type": "code",
      "execution_count": 8,
      "metadata": {
        "colab": {
          "base_uri": "https://localhost:8080/"
        },
        "id": "v4FC3tpyz3gI",
        "outputId": "e5b42257-f89a-4611-afb3-ee24dedff445"
      },
      "outputs": [
        {
          "output_type": "stream",
          "name": "stdout",
          "text": [
            "<class 'pandas.core.series.Series'>\n",
            "RangeIndex: 76592 entries, 0 to 76591\n",
            "Series name: Label\n",
            "Non-Null Count  Dtype\n",
            "--------------  -----\n",
            "76592 non-null  int64\n",
            "dtypes: int64(1)\n",
            "memory usage: 598.5 KB\n"
          ]
        }
      ],
      "source": [
        "y_normal = x_normal.iloc[:, -1]\n",
        "y_normal.info()"
      ]
    },
    {
      "cell_type": "code",
      "execution_count": 9,
      "metadata": {
        "id": "nhDeX4S0zv7h"
      },
      "outputs": [],
      "source": [
        "x_normal = x_normal.drop(columns=['Label'])"
      ]
    },
    {
      "cell_type": "code",
      "execution_count": 10,
      "metadata": {
        "id": "Yrd_czRu0JGN"
      },
      "outputs": [],
      "source": [
        "explainer = shap.Explainer(model)"
      ]
    },
    {
      "cell_type": "code",
      "execution_count": 11,
      "metadata": {
        "id": "98Y0qFwm0aSS"
      },
      "outputs": [],
      "source": [
        "shap_values = explainer(x_normal)"
      ]
    },
    {
      "cell_type": "code",
      "source": [
        "shap_values.shape"
      ],
      "metadata": {
        "colab": {
          "base_uri": "https://localhost:8080/"
        },
        "id": "f0S_i7tzjnWK",
        "outputId": "df0ad8d5-efc8-4bb6-d398-017515bc992d"
      },
      "execution_count": 12,
      "outputs": [
        {
          "output_type": "execute_result",
          "data": {
            "text/plain": [
              "(76592, 76, 8)"
            ]
          },
          "metadata": {},
          "execution_count": 12
        }
      ]
    },
    {
      "cell_type": "markdown",
      "source": [
        "76592 = the number of normal samples used\n",
        "\n",
        "76 = the number of features\n",
        "\n",
        "8 = the number of classes that the RF model has learned"
      ],
      "metadata": {
        "id": "ewu9EHm5kLm3"
      }
    },
    {
      "cell_type": "code",
      "source": [
        "print(shap_values[0, 75, 0])"
      ],
      "metadata": {
        "colab": {
          "base_uri": "https://localhost:8080/"
        },
        "id": "y-2byr6rkqLn",
        "outputId": "e1fadcd3-0a1c-4a00-9ba6-7c654064bf90"
      },
      "execution_count": null,
      "outputs": [
        {
          "output_type": "stream",
          "name": "stdout",
          "text": [
            ".values =\n",
            "0.0009690594163614186\n",
            "\n",
            ".base_values =\n",
            "0.19813539979193948\n",
            "\n",
            ".data =\n",
            "0.0\n"
          ]
        }
      ]
    },
    {
      "cell_type": "code",
      "source": [
        "shap_values.values.shape"
      ],
      "metadata": {
        "colab": {
          "base_uri": "https://localhost:8080/"
        },
        "id": "a3kpPIOvldtx",
        "outputId": "f85dc233-dd6c-44df-d909-6498ee42d819"
      },
      "execution_count": null,
      "outputs": [
        {
          "output_type": "execute_result",
          "data": {
            "text/plain": [
              "(76592, 76, 8)"
            ]
          },
          "metadata": {},
          "execution_count": 40
        }
      ]
    },
    {
      "cell_type": "code",
      "source": [
        "shap_values.base_values.shape"
      ],
      "metadata": {
        "colab": {
          "base_uri": "https://localhost:8080/"
        },
        "id": "yZ_9u3NDl9Pu",
        "outputId": "c1c4cf6d-35f6-47d8-da4b-2aec8d82781c"
      },
      "execution_count": null,
      "outputs": [
        {
          "output_type": "execute_result",
          "data": {
            "text/plain": [
              "(76592, 8)"
            ]
          },
          "metadata": {},
          "execution_count": 41
        }
      ]
    },
    {
      "cell_type": "markdown",
      "source": [
        "## Local"
      ],
      "metadata": {
        "id": "x-qdoI_GozUc"
      }
    },
    {
      "cell_type": "code",
      "source": [
        "feature_list = x_normal.columns"
      ],
      "metadata": {
        "id": "gEvO0FmRh1tQ"
      },
      "execution_count": 14,
      "outputs": []
    },
    {
      "cell_type": "code",
      "source": [
        "exp = shap.Explanation(shap_values[:,:,0], shap_values.base_values[:,0], x_normal, feature_names=feature_list)\n",
        "idx = 7 # datapoint to explain"
      ],
      "metadata": {
        "id": "pzo4_YRPiwZ4"
      },
      "execution_count": 15,
      "outputs": []
    },
    {
      "cell_type": "code",
      "execution_count": 16,
      "metadata": {
        "id": "GvwKTOhofTtc",
        "colab": {
          "base_uri": "https://localhost:8080/",
          "height": 617
        },
        "outputId": "8e089222-8380-4f7f-9a48-e5fe692998d1"
      },
      "outputs": [
        {
          "output_type": "display_data",
          "data": {
            "text/plain": [
              "<Figure size 800x650 with 3 Axes>"
            ],
            "image/png": "[encoded data removed]"
          },
          "metadata": {}
        }
      ],
      "source": [
        "shap.plots.waterfall(exp[idx])"
      ]
    },
    {
      "cell_type": "markdown",
      "source": [
        "## Extract whitelist"
      ],
      "metadata": {
        "id": "qlS16YEGrVnW"
      }
    },
    {
      "cell_type": "code",
      "source": [
        "feature_importance = pd.DataFrame(list(zip(feature_list, sum(shap_values.values[:,:,0]))), columns=['features', 'importance'])"
      ],
      "metadata": {
        "id": "BDeRs1eNpY5J"
      },
      "execution_count": 27,
      "outputs": []
    },
    {
      "cell_type": "code",
      "source": [
        "feature_importance.head()"
      ],
      "metadata": {
        "colab": {
          "base_uri": "https://localhost:8080/",
          "height": 206
        },
        "id": "EFmqAifrp2S9",
        "outputId": "1c5ad4e3-a5a2-4966-b7f4-ce8d8311f111"
      },
      "execution_count": 28,
      "outputs": [
        {
          "output_type": "execute_result",
          "data": {
            "text/plain": [
              "          features   importance\n",
              "0    Flow Duration   188.754816\n",
              "1     Tot Fwd Pkts  1467.121326\n",
              "2     Tot Bwd Pkts   615.197928\n",
              "3  TotLen Fwd Pkts   261.473886\n",
              "4  TotLen Bwd Pkts   386.114768"
            ],
            "text/html": [
              "\n",
              "  <div id=\"df-2fa0dffa-c10e-4506-a9dd-61e20c4207be\">\n",
              "    <div class=\"colab-df-container\">\n",
              "      <div>\n",
              "<style scoped>\n",
              "    .dataframe tbody tr th:only-of-type {\n",
              "        vertical-align: middle;\n",
              "    }\n",
              "\n",
              "    .dataframe tbody tr th {\n",
              "        vertical-align: top;\n",
              "    }\n",
              "\n",
              "    .dataframe thead th {\n",
              "        text-align: right;\n",
              "    }\n",
              "</style>\n",
              "<table border=\"1\" class=\"dataframe\">\n",
              "  <thead>\n",
              "    <tr style=\"text-align: right;\">\n",
              "      <th></th>\n",
              "      <th>features</th>\n",
              "      <th>importance</th>\n",
              "    </tr>\n",
              "  </thead>\n",
              "  <tbody>\n",
              "    <tr>\n",
              "      <th>0</th>\n",
              "      <td>Flow Duration</td>\n",
              "      <td>188.754816</td>\n",
              "    </tr>\n",
              "    <tr>\n",
              "      <th>1</th>\n",
              "      <td>Tot Fwd Pkts</td>\n",
              "      <td>1467.121326</td>\n",
              "    </tr>\n",
              "    <tr>\n",
              "      <th>2</th>\n",
              "      <td>Tot Bwd Pkts</td>\n",
              "      <td>615.197928</td>\n",
              "    </tr>\n",
              "    <tr>\n",
              "      <th>3</th>\n",
              "      <td>TotLen Fwd Pkts</td>\n",
              "      <td>261.473886</td>\n",
              "    </tr>\n",
              "    <tr>\n",
              "      <th>4</th>\n",
              "      <td>TotLen Bwd Pkts</td>\n",
              "      <td>386.114768</td>\n",
              "    </tr>\n",
              "  </tbody>\n",
              "</table>\n",
              "</div>\n",
              "      <button class=\"colab-df-convert\" onclick=\"convertToInteractive('df-2fa0dffa-c10e-4506-a9dd-61e20c4207be')\"\n",
              "              title=\"Convert this dataframe to an interactive table.\"\n",
              "              style=\"display:none;\">\n",
              "        \n",
              "  <svg xmlns=\"http://www.w3.org/2000/svg\" height=\"24px\"viewBox=\"0 0 24 24\"\n",
              "       width=\"24px\">\n",
              "    <path d=\"M0 0h24v24H0V0z\" fill=\"none\"/>\n",
              "    <path d=\"M18.56 5.44l.94 2.06.94-2.06 2.06-.94-2.06-.94-.94-2.06-.94 2.06-2.06.94zm-11 1L8.5 8.5l.94-2.06 2.06-.94-2.06-.94L8.5 2.5l-.94 2.06-2.06.94zm10 10l.94 2.06.94-2.06 2.06-.94-2.06-.94-.94-2.06-.94 2.06-2.06.94z\"/><path d=\"M17.41 7.96l-1.37-1.37c-.4-.4-.92-.59-1.43-.59-.52 0-1.04.2-1.43.59L10.3 9.45l-7.72 7.72c-.78.78-.78 2.05 0 2.83L4 21.41c.39.39.9.59 1.41.59.51 0 1.02-.2 1.41-.59l7.78-7.78 2.81-2.81c.8-.78.8-2.07 0-2.86zM5.41 20L4 18.59l7.72-7.72 1.47 1.35L5.41 20z\"/>\n",
              "  </svg>\n",
              "      </button>\n",
              "      \n",
              "  <style>\n",
              "    .colab-df-container {\n",
              "      display:flex;\n",
              "      flex-wrap:wrap;\n",
              "      gap: 12px;\n",
              "    }\n",
              "\n",
              "    .colab-df-convert {\n",
              "      background-color: #E8F0FE;\n",
              "      border: none;\n",
              "      border-radius: 50%;\n",
              "      cursor: pointer;\n",
              "      display: none;\n",
              "      fill: #1967D2;\n",
              "      height: 32px;\n",
              "      padding: 0 0 0 0;\n",
              "      width: 32px;\n",
              "    }\n",
              "\n",
              "    .colab-df-convert:hover {\n",
              "      background-color: #E2EBFA;\n",
              "      box-shadow: 0px 1px 2px rgba(60, 64, 67, 0.3), 0px 1px 3px 1px rgba(60, 64, 67, 0.15);\n",
              "      fill: #174EA6;\n",
              "    }\n",
              "\n",
              "    [theme=dark] .colab-df-convert {\n",
              "      background-color: #3B4455;\n",
              "      fill: #D2E3FC;\n",
              "    }\n",
              "\n",
              "    [theme=dark] .colab-df-convert:hover {\n",
              "      background-color: #434B5C;\n",
              "      box-shadow: 0px 1px 3px 1px rgba(0, 0, 0, 0.15);\n",
              "      filter: drop-shadow(0px 1px 2px rgba(0, 0, 0, 0.3));\n",
              "      fill: #FFFFFF;\n",
              "    }\n",
              "  </style>\n",
              "\n",
              "      <script>\n",
              "        const buttonEl =\n",
              "          document.querySelector('#df-2fa0dffa-c10e-4506-a9dd-61e20c4207be button.colab-df-convert');\n",
              "        buttonEl.style.display =\n",
              "          google.colab.kernel.accessAllowed ? 'block' : 'none';\n",
              "\n",
              "        async function convertToInteractive(key) {\n",
              "          const element = document.querySelector('#df-2fa0dffa-c10e-4506-a9dd-61e20c4207be');\n",
              "          const dataTable =\n",
              "            await google.colab.kernel.invokeFunction('convertToInteractive',\n",
              "                                                     [key], {});\n",
              "          if (!dataTable) return;\n",
              "\n",
              "          const docLinkHtml = 'Like what you see? Visit the ' +\n",
              "            '<a target=\"_blank\" href=https://colab.research.google.com/notebooks/data_table.ipynb>data table notebook</a>'\n",
              "            + ' to learn more about interactive tables.';\n",
              "          element.innerHTML = '';\n",
              "          dataTable['output_type'] = 'display_data';\n",
              "          await google.colab.output.renderOutput(dataTable, element);\n",
              "          const docLink = document.createElement('div');\n",
              "          docLink.innerHTML = docLinkHtml;\n",
              "          element.appendChild(docLink);\n",
              "        }\n",
              "      </script>\n",
              "    </div>\n",
              "  </div>\n",
              "  "
            ]
          },
          "metadata": {},
          "execution_count": 28
        }
      ]
    },
    {
      "cell_type": "code",
      "source": [
        "feature_importance.info()"
      ],
      "metadata": {
        "colab": {
          "base_uri": "https://localhost:8080/"
        },
        "id": "RWKIy_ZltJs4",
        "outputId": "0efd4f4d-8b67-458f-8415-26664e91ce8b"
      },
      "execution_count": 29,
      "outputs": [
        {
          "output_type": "stream",
          "name": "stdout",
          "text": [
            "<class 'pandas.core.frame.DataFrame'>\n",
            "RangeIndex: 76 entries, 0 to 75\n",
            "Data columns (total 2 columns):\n",
            " #   Column      Non-Null Count  Dtype  \n",
            "---  ------      --------------  -----  \n",
            " 0   features    76 non-null     object \n",
            " 1   importance  76 non-null     float64\n",
            "dtypes: float64(1), object(1)\n",
            "memory usage: 1.3+ KB\n"
          ]
        }
      ]
    },
    {
      "cell_type": "code",
      "source": [
        "feature_importance.sort_values(by=['importance'], ascending=False, inplace=True)"
      ],
      "metadata": {
        "id": "UraaraqSpz7j"
      },
      "execution_count": 30,
      "outputs": []
    },
    {
      "cell_type": "code",
      "source": [
        "feature_importance.head(10)"
      ],
      "metadata": {
        "colab": {
          "base_uri": "https://localhost:8080/",
          "height": 363
        },
        "id": "29IMvtzxulRz",
        "outputId": "87c66751-3757-41df-a90e-1e4107d12bab"
      },
      "execution_count": 31,
      "outputs": [
        {
          "output_type": "execute_result",
          "data": {
            "text/plain": [
              "             features   importance\n",
              "65  Init Bwd Win Byts  7788.056630\n",
              "10    Bwd Pkt Len Min  5126.645987\n",
              "34     Bwd Header Len  3966.375658\n",
              "33     Fwd Header Len  2800.086223\n",
              "37        Pkt Len Min  2775.024720\n",
              "51       Pkt Size Avg  2626.940705\n",
              "50      Down/Up Ratio  2362.923693\n",
              "38        Pkt Len Max  2182.530043\n",
              "40        Pkt Len Std  2101.804624\n",
              "36         Bwd Pkts/s  1836.398389"
            ],
            "text/html": [
              "\n",
              "  <div id=\"df-a6cfe4a6-5f2a-423e-909c-752b8a818e85\">\n",
              "    <div class=\"colab-df-container\">\n",
              "      <div>\n",
              "<style scoped>\n",
              "    .dataframe tbody tr th:only-of-type {\n",
              "        vertical-align: middle;\n",
              "    }\n",
              "\n",
              "    .dataframe tbody tr th {\n",
              "        vertical-align: top;\n",
              "    }\n",
              "\n",
              "    .dataframe thead th {\n",
              "        text-align: right;\n",
              "    }\n",
              "</style>\n",
              "<table border=\"1\" class=\"dataframe\">\n",
              "  <thead>\n",
              "    <tr style=\"text-align: right;\">\n",
              "      <th></th>\n",
              "      <th>features</th>\n",
              "      <th>importance</th>\n",
              "    </tr>\n",
              "  </thead>\n",
              "  <tbody>\n",
              "    <tr>\n",
              "      <th>65</th>\n",
              "      <td>Init Bwd Win Byts</td>\n",
              "      <td>7788.056630</td>\n",
              "    </tr>\n",
              "    <tr>\n",
              "      <th>10</th>\n",
              "      <td>Bwd Pkt Len Min</td>\n",
              "      <td>5126.645987</td>\n",
              "    </tr>\n",
              "    <tr>\n",
              "      <th>34</th>\n",
              "      <td>Bwd Header Len</td>\n",
              "      <td>3966.375658</td>\n",
              "    </tr>\n",
              "    <tr>\n",
              "      <th>33</th>\n",
              "      <td>Fwd Header Len</td>\n",
              "      <td>2800.086223</td>\n",
              "    </tr>\n",
              "    <tr>\n",
              "      <th>37</th>\n",
              "      <td>Pkt Len Min</td>\n",
              "      <td>2775.024720</td>\n",
              "    </tr>\n",
              "    <tr>\n",
              "      <th>51</th>\n",
              "      <td>Pkt Size Avg</td>\n",
              "      <td>2626.940705</td>\n",
              "    </tr>\n",
              "    <tr>\n",
              "      <th>50</th>\n",
              "      <td>Down/Up Ratio</td>\n",
              "      <td>2362.923693</td>\n",
              "    </tr>\n",
              "    <tr>\n",
              "      <th>38</th>\n",
              "      <td>Pkt Len Max</td>\n",
              "      <td>2182.530043</td>\n",
              "    </tr>\n",
              "    <tr>\n",
              "      <th>40</th>\n",
              "      <td>Pkt Len Std</td>\n",
              "      <td>2101.804624</td>\n",
              "    </tr>\n",
              "    <tr>\n",
              "      <th>36</th>\n",
              "      <td>Bwd Pkts/s</td>\n",
              "      <td>1836.398389</td>\n",
              "    </tr>\n",
              "  </tbody>\n",
              "</table>\n",
              "</div>\n",
              "      <button class=\"colab-df-convert\" onclick=\"convertToInteractive('df-a6cfe4a6-5f2a-423e-909c-752b8a818e85')\"\n",
              "              title=\"Convert this dataframe to an interactive table.\"\n",
              "              style=\"display:none;\">\n",
              "        \n",
              "  <svg xmlns=\"http://www.w3.org/2000/svg\" height=\"24px\"viewBox=\"0 0 24 24\"\n",
              "       width=\"24px\">\n",
              "    <path d=\"M0 0h24v24H0V0z\" fill=\"none\"/>\n",
              "    <path d=\"M18.56 5.44l.94 2.06.94-2.06 2.06-.94-2.06-.94-.94-2.06-.94 2.06-2.06.94zm-11 1L8.5 8.5l.94-2.06 2.06-.94-2.06-.94L8.5 2.5l-.94 2.06-2.06.94zm10 10l.94 2.06.94-2.06 2.06-.94-2.06-.94-.94-2.06-.94 2.06-2.06.94z\"/><path d=\"M17.41 7.96l-1.37-1.37c-.4-.4-.92-.59-1.43-.59-.52 0-1.04.2-1.43.59L10.3 9.45l-7.72 7.72c-.78.78-.78 2.05 0 2.83L4 21.41c.39.39.9.59 1.41.59.51 0 1.02-.2 1.41-.59l7.78-7.78 2.81-2.81c.8-.78.8-2.07 0-2.86zM5.41 20L4 18.59l7.72-7.72 1.47 1.35L5.41 20z\"/>\n",
              "  </svg>\n",
              "      </button>\n",
              "      \n",
              "  <style>\n",
              "    .colab-df-container {\n",
              "      display:flex;\n",
              "      flex-wrap:wrap;\n",
              "      gap: 12px;\n",
              "    }\n",
              "\n",
              "    .colab-df-convert {\n",
              "      background-color: #E8F0FE;\n",
              "      border: none;\n",
              "      border-radius: 50%;\n",
              "      cursor: pointer;\n",
              "      display: none;\n",
              "      fill: #1967D2;\n",
              "      height: 32px;\n",
              "      padding: 0 0 0 0;\n",
              "      width: 32px;\n",
              "    }\n",
              "\n",
              "    .colab-df-convert:hover {\n",
              "      background-color: #E2EBFA;\n",
              "      box-shadow: 0px 1px 2px rgba(60, 64, 67, 0.3), 0px 1px 3px 1px rgba(60, 64, 67, 0.15);\n",
              "      fill: #174EA6;\n",
              "    }\n",
              "\n",
              "    [theme=dark] .colab-df-convert {\n",
              "      background-color: #3B4455;\n",
              "      fill: #D2E3FC;\n",
              "    }\n",
              "\n",
              "    [theme=dark] .colab-df-convert:hover {\n",
              "      background-color: #434B5C;\n",
              "      box-shadow: 0px 1px 3px 1px rgba(0, 0, 0, 0.15);\n",
              "      filter: drop-shadow(0px 1px 2px rgba(0, 0, 0, 0.3));\n",
              "      fill: #FFFFFF;\n",
              "    }\n",
              "  </style>\n",
              "\n",
              "      <script>\n",
              "        const buttonEl =\n",
              "          document.querySelector('#df-a6cfe4a6-5f2a-423e-909c-752b8a818e85 button.colab-df-convert');\n",
              "        buttonEl.style.display =\n",
              "          google.colab.kernel.accessAllowed ? 'block' : 'none';\n",
              "\n",
              "        async function convertToInteractive(key) {\n",
              "          const element = document.querySelector('#df-a6cfe4a6-5f2a-423e-909c-752b8a818e85');\n",
              "          const dataTable =\n",
              "            await google.colab.kernel.invokeFunction('convertToInteractive',\n",
              "                                                     [key], {});\n",
              "          if (!dataTable) return;\n",
              "\n",
              "          const docLinkHtml = 'Like what you see? Visit the ' +\n",
              "            '<a target=\"_blank\" href=https://colab.research.google.com/notebooks/data_table.ipynb>data table notebook</a>'\n",
              "            + ' to learn more about interactive tables.';\n",
              "          element.innerHTML = '';\n",
              "          dataTable['output_type'] = 'display_data';\n",
              "          await google.colab.output.renderOutput(dataTable, element);\n",
              "          const docLink = document.createElement('div');\n",
              "          docLink.innerHTML = docLinkHtml;\n",
              "          element.appendChild(docLink);\n",
              "        }\n",
              "      </script>\n",
              "    </div>\n",
              "  </div>\n",
              "  "
            ]
          },
          "metadata": {},
          "execution_count": 31
        }
      ]
    },
    {
      "cell_type": "markdown",
      "source": [
        "### Save top N feature to csv file: N = 20"
      ],
      "metadata": {
        "id": "Dc4vKZEvvidU"
      }
    },
    {
      "cell_type": "code",
      "source": [
        "# Convert column to list\n",
        "column_list = feature_importance['features'].tolist()[:40]\n",
        "print(column_list)"
      ],
      "metadata": {
        "colab": {
          "base_uri": "https://localhost:8080/"
        },
        "id": "dxrw6yDSviDg",
        "outputId": "2ad63a20-0d5d-4b4b-b575-52150eb1e862"
      },
      "execution_count": 37,
      "outputs": [
        {
          "output_type": "stream",
          "name": "stdout",
          "text": [
            "['Init Bwd Win Byts', 'Bwd Pkt Len Min', 'Bwd Header Len', 'Fwd Header Len', 'Pkt Len Min', 'Pkt Size Avg', 'Down/Up Ratio', 'Pkt Len Max', 'Pkt Len Std', 'Bwd Pkts/s', 'Pkt Len Mean', 'Bwd Seg Size Avg', 'Tot Fwd Pkts', 'Subflow Fwd Pkts', 'Bwd Pkt Len Max', 'Fwd Seg Size Avg', 'SYN Flag Cnt', 'Bwd Pkt Len Mean', 'Subflow Bwd Pkts', 'Fwd Pkt Len Min', 'Flow Pkts/s', 'Fwd Pkt Len Max', 'Fwd Pkt Len Mean', 'ACK Flag Cnt', 'FIN Flag Cnt', 'Tot Bwd Pkts', 'Subflow Bwd Byts', 'Pkt Len Var', 'Bwd Pkt Len Std', 'Fwd Pkts/s', 'Flow IAT Std', 'TotLen Bwd Pkts', 'Fwd Pkt Len Std', 'Flow Byts/s', 'Flow IAT Max', 'TotLen Fwd Pkts', 'Bwd IAT Min', 'Subflow Fwd Byts', 'Flow IAT Min', 'Flow Duration']\n"
          ]
        }
      ]
    },
    {
      "cell_type": "code",
      "source": [
        "# Save the list to a CSV file without index\n",
        "pd.DataFrame(column_list).to_csv('/content/drive/MyDrive/DACN_XAI_Adv_defense/InSDN/top40_insdn.csv', index=False)"
      ],
      "metadata": {
        "id": "AX30VtldwiCV"
      },
      "execution_count": 38,
      "outputs": []
    },
    {
      "cell_type": "markdown",
      "source": [
        "## Global"
      ],
      "metadata": {
        "id": "mJ0p3tB5oxAq"
      }
    },
    {
      "cell_type": "code",
      "source": [
        "shap.summary_plot(exp, x_normal, plot_type=\"bar\", feature_names=feature_list)"
      ],
      "metadata": {
        "colab": {
          "base_uri": "https://localhost:8080/",
          "height": 957
        },
        "id": "sq7Q4zQOja2M",
        "outputId": "cf8de7cc-32b0-4769-c2ee-9fe83c835b12"
      },
      "execution_count": null,
      "outputs": [
        {
          "output_type": "display_data",
          "data": {
            "text/plain": [
              "<Figure size 800x950 with 1 Axes>"
            ],
            "image/png": "[encoded data removed]"
          },
          "metadata": {}
        }
      ]
    },
    {
      "cell_type": "code",
      "source": [
        "shap.plots.beeswarm(exp)"
      ],
      "metadata": {
        "colab": {
          "base_uri": "https://localhost:8080/",
          "height": 531
        },
        "id": "Sur1loTaoT_K",
        "outputId": "ec3d4e64-0227-4d16-ae00-629a435fdc69"
      },
      "execution_count": null,
      "outputs": [
        {
          "output_type": "stream",
          "name": "stderr",
          "text": [
            "No data for colormapping provided via 'c'. Parameters 'vmin', 'vmax' will be ignored\n"
          ]
        },
        {
          "output_type": "display_data",
          "data": {
            "text/plain": [
              "<Figure size 800x550 with 2 Axes>"
            ],
            "image/png": "[encoded data removed]"
          },
          "metadata": {}
        }
      ]
    },
    {
      "cell_type": "markdown",
      "source": [
        "# Extract local feature for each adv sample"
      ],
      "metadata": {
        "id": "JwBapttUM7Du"
      }
    },
    {
      "cell_type": "code",
      "source": [
        "for idx in range(0, 76592):\n",
        "  # Create a DataFrame with the SHAP values and feature names\n",
        "  df_shap_values = pd.DataFrame({'SHAP Values': exp[idx].values}, index=feature_list)\n",
        "  df_shap_values.sort_values(by=['SHAP Values'], ascending=False, inplace=True)\n",
        "  df_shap_values.to_csv('/content/drive/MyDrive/DACN_XAI_Adv_defense/InSDN/Normal_local/SHAP_Samples_' + str(idx) + '.csv')\n",
        "  print('Extracted local importance feature of the ' + str(idx) + ' sample.')"
      ],
      "metadata": {
        "id": "a8Xe-PM9Ikwa"
      },
      "execution_count": null,
      "outputs": []
    },
    {
      "cell_type": "markdown",
      "source": [
        "# Detect normal samples"
      ],
      "metadata": {
        "id": "Csd7930IX6WM"
      }
    },
    {
      "cell_type": "code",
      "source": [
        "whitelist = freq_df.iloc[:, 0][:24].tolist()\n",
        "print(whitelist)"
      ],
      "metadata": {
        "colab": {
          "base_uri": "https://localhost:8080/"
        },
        "id": "RC9AnuTcv8ez",
        "outputId": "a0141922-c7a4-43e9-c72d-8e9d6ddfd28d"
      },
      "execution_count": 81,
      "outputs": [
        {
          "output_type": "stream",
          "name": "stdout",
          "text": [
            "['Bwd Header Len', 'Pkt Size Avg', 'Pkt Len Max', 'Fwd Header Len', 'Pkt Len Std', 'Pkt Len Mean', 'Bwd Pkt Len Min', 'Pkt Len Min', 'Bwd Seg Size Avg', 'Down/Up Ratio', 'Init Bwd Win Byts', 'Fwd Seg Size Avg', 'Bwd Pkts/s', 'Subflow Bwd Pkts', 'Flow Pkts/s', 'Subflow Fwd Pkts', 'Tot Fwd Pkts', 'SYN Flag Cnt', 'FIN Flag Cnt', 'ACK Flag Cnt', 'Bwd Pkt Len Max', 'Fwd Pkt Len Max', 'Tot Bwd Pkts', 'Fwd Pkt Len Min']\n"
          ]
        }
      ]
    },
    {
      "cell_type": "code",
      "source": [
        "whitelist = pd.read_csv('/content/drive/MyDrive/DACN_XAI_Adv_defense/InSDN/top24_InSDN.csv')\n",
        "whitelist = whitelist.iloc[:, 0][:24].tolist()\n",
        "print(whitelist)"
      ],
      "metadata": {
        "colab": {
          "base_uri": "https://localhost:8080/"
        },
        "id": "8-zCp7PyX83B",
        "outputId": "86d2c87c-4d7a-413f-ba6d-0853fc0e26ba"
      },
      "execution_count": 41,
      "outputs": [
        {
          "output_type": "stream",
          "name": "stdout",
          "text": [
            "['Init Bwd Win Byts', 'Bwd Pkt Len Min', 'Bwd Header Len', 'Fwd Header Len', 'Pkt Len Min', 'Pkt Size Avg', 'Down/Up Ratio', 'Pkt Len Max', 'Pkt Len Std', 'Bwd Pkts/s', 'Pkt Len Mean', 'Bwd Seg Size Avg', 'Tot Fwd Pkts', 'Subflow Fwd Pkts', 'Bwd Pkt Len Max', 'Fwd Seg Size Avg', 'SYN Flag Cnt', 'Bwd Pkt Len Mean', 'Subflow Bwd Pkts', 'Fwd Pkt Len Min', 'Flow Pkts/s', 'Fwd Pkt Len Max', 'Fwd Pkt Len Mean', 'ACK Flag Cnt', 'FIN Flag Cnt', 'Tot Bwd Pkts', 'Subflow Bwd Byts', 'Pkt Len Var', 'Bwd Pkt Len Std', 'Fwd Pkts/s', 'Flow IAT Std', 'TotLen Bwd Pkts', 'Fwd Pkt Len Std', 'Flow Byts/s', 'Flow IAT Max', 'TotLen Fwd Pkts', 'Bwd IAT Min', 'Subflow Fwd Byts', 'Flow IAT Min', 'Flow Duration']\n"
          ]
        }
      ]
    },
    {
      "cell_type": "code",
      "source": [
        "import os\n",
        "import pandas as pd\n",
        "\n",
        "# Specify the directory where the CSV files are located\n",
        "directory = '/content/drive/MyDrive/DACN_XAI_Adv_defense/InSDN/Normal_local/'\n",
        "\n",
        "# Create an empty dictionary to store the data\n",
        "data_dict = {}\n",
        "\n",
        "# Iterate over each file in the directory\n",
        "for filename in os.listdir(directory):\n",
        "    if filename.endswith('.csv'):  # Check if the file is a CSV file\n",
        "        file_path = os.path.join(directory, filename)\n",
        "\n",
        "        # Load the CSV file and extract the first column as a list\n",
        "        df = pd.read_csv(file_path)\n",
        "        first_column = df.iloc[:, 0][:10].tolist()\n",
        "\n",
        "        # Add the list to the dictionary with the file name as the key\n",
        "        data_dict[filename] = first_column\n",
        "\n",
        "# Print the first data dictionary\n",
        "for file_name, data_list in data_dict.items():\n",
        "    print(file_name, \":\", data_list)\n",
        "    break"
      ],
      "metadata": {
        "colab": {
          "base_uri": "https://localhost:8080/"
        },
        "id": "zn9nhoPSYJSh",
        "outputId": "40f66657-8526-4b48-b4ce-a756c999ce4f"
      },
      "execution_count": 66,
      "outputs": [
        {
          "output_type": "stream",
          "name": "stdout",
          "text": [
            "SHAP_Samples_0.csv : ['Bwd Pkt Len Min', 'Bwd Header Len', 'Pkt Size Avg', 'Fwd Header Len', 'Pkt Len Min', 'Pkt Len Std', 'Pkt Len Max', 'Pkt Len Mean', 'Fwd Seg Size Avg', 'Bwd Seg Size Avg']\n"
          ]
        }
      ]
    },
    {
      "cell_type": "code",
      "source": [
        "alert = []\n",
        "\n",
        "# Iterate over each key-value pair in the data_dict\n",
        "for key, value in data_dict.items():\n",
        "    # Check if there are one feature is not in the whitelist\n",
        "    for string in value:\n",
        "      if string not in whitelist:\n",
        "        alert.append(key)\n",
        "        break\n",
        "\n",
        "# Print the alert dictionary\n",
        "print(\"Alert list length:\" + str(len(alert)))"
      ],
      "metadata": {
        "colab": {
          "base_uri": "https://localhost:8080/"
        },
        "id": "P-IQyZMYYLzp",
        "outputId": "f3a0414e-6c0d-41c3-f696-847cc6120509"
      },
      "execution_count": 82,
      "outputs": [
        {
          "output_type": "stream",
          "name": "stdout",
          "text": [
            "Alert list length:22237\n"
          ]
        }
      ]
    },
    {
      "cell_type": "markdown",
      "source": [
        "## False positive of XAI on normal samples of trainset:\n",
        "top 38: 3974/76592\n",
        "\n",
        "top 24: 22237/76592"
      ],
      "metadata": {
        "id": "kykod9kUylxB"
      }
    },
    {
      "cell_type": "markdown",
      "source": [
        "# New whitelist: 38 top features with over 10k freq each"
      ],
      "metadata": {
        "id": "JyjDe5Kxredo"
      }
    },
    {
      "cell_type": "code",
      "source": [
        "df = pd.DataFrame(data_dict)"
      ],
      "metadata": {
        "id": "HeFSTFLZeh1N"
      },
      "execution_count": 70,
      "outputs": []
    },
    {
      "cell_type": "code",
      "source": [
        "df.info()"
      ],
      "metadata": {
        "colab": {
          "base_uri": "https://localhost:8080/"
        },
        "id": "St0fe9Aye6ml",
        "outputId": "bd39009a-553e-4e57-86e7-6eca9963fbd2"
      },
      "execution_count": 71,
      "outputs": [
        {
          "output_type": "stream",
          "name": "stdout",
          "text": [
            "<class 'pandas.core.frame.DataFrame'>\n",
            "RangeIndex: 10 entries, 0 to 9\n",
            "Columns: 76592 entries, SHAP_Samples_0.csv to SHAP_Samples_76591.csv\n",
            "dtypes: object(76592)\n",
            "memory usage: 5.8+ MB\n"
          ]
        }
      ]
    },
    {
      "cell_type": "code",
      "source": [
        "df.to_csv('/content/drive/MyDrive/DACN_XAI_Adv_defense/InSDN/top10_of_each_normalfile.csv', index=False)"
      ],
      "metadata": {
        "id": "OgypaVUtfFHD"
      },
      "execution_count": 72,
      "outputs": []
    },
    {
      "cell_type": "code",
      "source": [
        "df.head()"
      ],
      "metadata": {
        "colab": {
          "base_uri": "https://localhost:8080/",
          "height": 299
        },
        "id": "1iMN4YmKgBri",
        "outputId": "8d610434-23c0-47e4-d2b2-b811125995b6"
      },
      "execution_count": 26,
      "outputs": [
        {
          "output_type": "execute_result",
          "data": {
            "text/plain": [
              "  SHAP_Samples_0.csv SHAP_Samples_1.csv SHAP_Samples_2.csv SHAP_Samples_3.csv  \\\n",
              "0    Bwd Pkt Len Min  Init Bwd Win Byts    Bwd Pkt Len Min    Bwd Pkt Len Min   \n",
              "1     Bwd Header Len         Bwd Pkts/s        Pkt Len Min        Pkt Len Min   \n",
              "2       Pkt Size Avg        Flow Pkts/s    Fwd Pkt Len Min    Fwd Pkt Len Min   \n",
              "3     Fwd Header Len     Bwd Header Len      Down/Up Ratio         Bwd Pkts/s   \n",
              "4        Pkt Len Min   Subflow Bwd Pkts         Bwd Pkts/s      Down/Up Ratio   \n",
              "\n",
              "  SHAP_Samples_4.csv SHAP_Samples_5.csv SHAP_Samples_6.csv SHAP_Samples_7.csv  \\\n",
              "0    Bwd Pkt Len Min  Init Bwd Win Byts    Bwd Pkt Len Min     Fwd Header Len   \n",
              "1     Bwd Header Len         Bwd Pkts/s     Bwd Header Len        Pkt Len Max   \n",
              "2       Pkt Size Avg      Down/Up Ratio       Pkt Size Avg        Pkt Len Std   \n",
              "3     Fwd Header Len     Bwd Header Len     Fwd Header Len       Pkt Size Avg   \n",
              "4        Pkt Len Min        Flow Pkts/s        Pkt Len Min       Pkt Len Mean   \n",
              "\n",
              "  SHAP_Samples_8.csv SHAP_Samples_9.csv  ... SHAP_Samples_76582.csv  \\\n",
              "0       ACK Flag Cnt        Pkt Len Std  ...        Bwd Pkt Len Min   \n",
              "1         Bwd Pkts/s     Fwd Header Len  ...         Bwd Header Len   \n",
              "2        Flow Pkts/s       Pkt Size Avg  ...           Pkt Size Avg   \n",
              "3     Bwd Header Len        Pkt Len Max  ...            Pkt Len Min   \n",
              "4       FIN Flag Cnt     Bwd Header Len  ...         Fwd Header Len   \n",
              "\n",
              "  SHAP_Samples_76583.csv SHAP_Samples_76584.csv SHAP_Samples_76585.csv  \\\n",
              "0      Init Bwd Win Byts      Init Bwd Win Byts        Bwd Pkt Len Min   \n",
              "1         Bwd Header Len         Fwd Header Len         Bwd Header Len   \n",
              "2           ACK Flag Cnt           Pkt Size Avg           Pkt Size Avg   \n",
              "3             Bwd Pkts/s            Pkt Len Max            Pkt Len Min   \n",
              "4            Flow Pkts/s         Bwd Header Len         Fwd Header Len   \n",
              "\n",
              "  SHAP_Samples_76586.csv SHAP_Samples_76587.csv SHAP_Samples_76588.csv  \\\n",
              "0      Init Bwd Win Byts        Bwd Pkt Len Min      Init Bwd Win Byts   \n",
              "1         Fwd Header Len         Bwd Header Len            Pkt Len Max   \n",
              "2            Pkt Len Max           Pkt Size Avg           Pkt Size Avg   \n",
              "3           Pkt Size Avg            Pkt Len Min            Pkt Len Std   \n",
              "4            Pkt Len Std         Fwd Header Len           Tot Fwd Pkts   \n",
              "\n",
              "  SHAP_Samples_76589.csv SHAP_Samples_76590.csv SHAP_Samples_76591.csv  \n",
              "0        Bwd Pkt Len Min      Init Bwd Win Byts      Init Bwd Win Byts  \n",
              "1            Pkt Len Min          Down/Up Ratio           ACK Flag Cnt  \n",
              "2        Fwd Pkt Len Min             Bwd Pkts/s         Bwd Header Len  \n",
              "3          Down/Up Ratio           ACK Flag Cnt           FIN Flag Cnt  \n",
              "4             Bwd Pkts/s         Bwd Header Len            Flow Pkts/s  \n",
              "\n",
              "[5 rows x 76592 columns]"
            ],
            "text/html": [
              "\n",
              "  <div id=\"df-8c270696-0ed4-46a1-817d-84717223f3c9\">\n",
              "    <div class=\"colab-df-container\">\n",
              "      <div>\n",
              "<style scoped>\n",
              "    .dataframe tbody tr th:only-of-type {\n",
              "        vertical-align: middle;\n",
              "    }\n",
              "\n",
              "    .dataframe tbody tr th {\n",
              "        vertical-align: top;\n",
              "    }\n",
              "\n",
              "    .dataframe thead th {\n",
              "        text-align: right;\n",
              "    }\n",
              "</style>\n",
              "<table border=\"1\" class=\"dataframe\">\n",
              "  <thead>\n",
              "    <tr style=\"text-align: right;\">\n",
              "      <th></th>\n",
              "      <th>SHAP_Samples_0.csv</th>\n",
              "      <th>SHAP_Samples_1.csv</th>\n",
              "      <th>SHAP_Samples_2.csv</th>\n",
              "      <th>SHAP_Samples_3.csv</th>\n",
              "      <th>SHAP_Samples_4.csv</th>\n",
              "      <th>SHAP_Samples_5.csv</th>\n",
              "      <th>SHAP_Samples_6.csv</th>\n",
              "      <th>SHAP_Samples_7.csv</th>\n",
              "      <th>SHAP_Samples_8.csv</th>\n",
              "      <th>SHAP_Samples_9.csv</th>\n",
              "      <th>...</th>\n",
              "      <th>SHAP_Samples_76582.csv</th>\n",
              "      <th>SHAP_Samples_76583.csv</th>\n",
              "      <th>SHAP_Samples_76584.csv</th>\n",
              "      <th>SHAP_Samples_76585.csv</th>\n",
              "      <th>SHAP_Samples_76586.csv</th>\n",
              "      <th>SHAP_Samples_76587.csv</th>\n",
              "      <th>SHAP_Samples_76588.csv</th>\n",
              "      <th>SHAP_Samples_76589.csv</th>\n",
              "      <th>SHAP_Samples_76590.csv</th>\n",
              "      <th>SHAP_Samples_76591.csv</th>\n",
              "    </tr>\n",
              "  </thead>\n",
              "  <tbody>\n",
              "    <tr>\n",
              "      <th>0</th>\n",
              "      <td>Bwd Pkt Len Min</td>\n",
              "      <td>Init Bwd Win Byts</td>\n",
              "      <td>Bwd Pkt Len Min</td>\n",
              "      <td>Bwd Pkt Len Min</td>\n",
              "      <td>Bwd Pkt Len Min</td>\n",
              "      <td>Init Bwd Win Byts</td>\n",
              "      <td>Bwd Pkt Len Min</td>\n",
              "      <td>Fwd Header Len</td>\n",
              "      <td>ACK Flag Cnt</td>\n",
              "      <td>Pkt Len Std</td>\n",
              "      <td>...</td>\n",
              "      <td>Bwd Pkt Len Min</td>\n",
              "      <td>Init Bwd Win Byts</td>\n",
              "      <td>Init Bwd Win Byts</td>\n",
              "      <td>Bwd Pkt Len Min</td>\n",
              "      <td>Init Bwd Win Byts</td>\n",
              "      <td>Bwd Pkt Len Min</td>\n",
              "      <td>Init Bwd Win Byts</td>\n",
              "      <td>Bwd Pkt Len Min</td>\n",
              "      <td>Init Bwd Win Byts</td>\n",
              "      <td>Init Bwd Win Byts</td>\n",
              "    </tr>\n",
              "    <tr>\n",
              "      <th>1</th>\n",
              "      <td>Bwd Header Len</td>\n",
              "      <td>Bwd Pkts/s</td>\n",
              "      <td>Pkt Len Min</td>\n",
              "      <td>Pkt Len Min</td>\n",
              "      <td>Bwd Header Len</td>\n",
              "      <td>Bwd Pkts/s</td>\n",
              "      <td>Bwd Header Len</td>\n",
              "      <td>Pkt Len Max</td>\n",
              "      <td>Bwd Pkts/s</td>\n",
              "      <td>Fwd Header Len</td>\n",
              "      <td>...</td>\n",
              "      <td>Bwd Header Len</td>\n",
              "      <td>Bwd Header Len</td>\n",
              "      <td>Fwd Header Len</td>\n",
              "      <td>Bwd Header Len</td>\n",
              "      <td>Fwd Header Len</td>\n",
              "      <td>Bwd Header Len</td>\n",
              "      <td>Pkt Len Max</td>\n",
              "      <td>Pkt Len Min</td>\n",
              "      <td>Down/Up Ratio</td>\n",
              "      <td>ACK Flag Cnt</td>\n",
              "    </tr>\n",
              "    <tr>\n",
              "      <th>2</th>\n",
              "      <td>Pkt Size Avg</td>\n",
              "      <td>Flow Pkts/s</td>\n",
              "      <td>Fwd Pkt Len Min</td>\n",
              "      <td>Fwd Pkt Len Min</td>\n",
              "      <td>Pkt Size Avg</td>\n",
              "      <td>Down/Up Ratio</td>\n",
              "      <td>Pkt Size Avg</td>\n",
              "      <td>Pkt Len Std</td>\n",
              "      <td>Flow Pkts/s</td>\n",
              "      <td>Pkt Size Avg</td>\n",
              "      <td>...</td>\n",
              "      <td>Pkt Size Avg</td>\n",
              "      <td>ACK Flag Cnt</td>\n",
              "      <td>Pkt Size Avg</td>\n",
              "      <td>Pkt Size Avg</td>\n",
              "      <td>Pkt Len Max</td>\n",
              "      <td>Pkt Size Avg</td>\n",
              "      <td>Pkt Size Avg</td>\n",
              "      <td>Fwd Pkt Len Min</td>\n",
              "      <td>Bwd Pkts/s</td>\n",
              "      <td>Bwd Header Len</td>\n",
              "    </tr>\n",
              "    <tr>\n",
              "      <th>3</th>\n",
              "      <td>Fwd Header Len</td>\n",
              "      <td>Bwd Header Len</td>\n",
              "      <td>Down/Up Ratio</td>\n",
              "      <td>Bwd Pkts/s</td>\n",
              "      <td>Fwd Header Len</td>\n",
              "      <td>Bwd Header Len</td>\n",
              "      <td>Fwd Header Len</td>\n",
              "      <td>Pkt Size Avg</td>\n",
              "      <td>Bwd Header Len</td>\n",
              "      <td>Pkt Len Max</td>\n",
              "      <td>...</td>\n",
              "      <td>Pkt Len Min</td>\n",
              "      <td>Bwd Pkts/s</td>\n",
              "      <td>Pkt Len Max</td>\n",
              "      <td>Pkt Len Min</td>\n",
              "      <td>Pkt Size Avg</td>\n",
              "      <td>Pkt Len Min</td>\n",
              "      <td>Pkt Len Std</td>\n",
              "      <td>Down/Up Ratio</td>\n",
              "      <td>ACK Flag Cnt</td>\n",
              "      <td>FIN Flag Cnt</td>\n",
              "    </tr>\n",
              "    <tr>\n",
              "      <th>4</th>\n",
              "      <td>Pkt Len Min</td>\n",
              "      <td>Subflow Bwd Pkts</td>\n",
              "      <td>Bwd Pkts/s</td>\n",
              "      <td>Down/Up Ratio</td>\n",
              "      <td>Pkt Len Min</td>\n",
              "      <td>Flow Pkts/s</td>\n",
              "      <td>Pkt Len Min</td>\n",
              "      <td>Pkt Len Mean</td>\n",
              "      <td>FIN Flag Cnt</td>\n",
              "      <td>Bwd Header Len</td>\n",
              "      <td>...</td>\n",
              "      <td>Fwd Header Len</td>\n",
              "      <td>Flow Pkts/s</td>\n",
              "      <td>Bwd Header Len</td>\n",
              "      <td>Fwd Header Len</td>\n",
              "      <td>Pkt Len Std</td>\n",
              "      <td>Fwd Header Len</td>\n",
              "      <td>Tot Fwd Pkts</td>\n",
              "      <td>Bwd Pkts/s</td>\n",
              "      <td>Bwd Header Len</td>\n",
              "      <td>Flow Pkts/s</td>\n",
              "    </tr>\n",
              "  </tbody>\n",
              "</table>\n",
              "<p>5 rows × 76592 columns</p>\n",
              "</div>\n",
              "      <button class=\"colab-df-convert\" onclick=\"convertToInteractive('df-8c270696-0ed4-46a1-817d-84717223f3c9')\"\n",
              "              title=\"Convert this dataframe to an interactive table.\"\n",
              "              style=\"display:none;\">\n",
              "        \n",
              "  <svg xmlns=\"http://www.w3.org/2000/svg\" height=\"24px\"viewBox=\"0 0 24 24\"\n",
              "       width=\"24px\">\n",
              "    <path d=\"M0 0h24v24H0V0z\" fill=\"none\"/>\n",
              "    <path d=\"M18.56 5.44l.94 2.06.94-2.06 2.06-.94-2.06-.94-.94-2.06-.94 2.06-2.06.94zm-11 1L8.5 8.5l.94-2.06 2.06-.94-2.06-.94L8.5 2.5l-.94 2.06-2.06.94zm10 10l.94 2.06.94-2.06 2.06-.94-2.06-.94-.94-2.06-.94 2.06-2.06.94z\"/><path d=\"M17.41 7.96l-1.37-1.37c-.4-.4-.92-.59-1.43-.59-.52 0-1.04.2-1.43.59L10.3 9.45l-7.72 7.72c-.78.78-.78 2.05 0 2.83L4 21.41c.39.39.9.59 1.41.59.51 0 1.02-.2 1.41-.59l7.78-7.78 2.81-2.81c.8-.78.8-2.07 0-2.86zM5.41 20L4 18.59l7.72-7.72 1.47 1.35L5.41 20z\"/>\n",
              "  </svg>\n",
              "      </button>\n",
              "      \n",
              "  <style>\n",
              "    .colab-df-container {\n",
              "      display:flex;\n",
              "      flex-wrap:wrap;\n",
              "      gap: 12px;\n",
              "    }\n",
              "\n",
              "    .colab-df-convert {\n",
              "      background-color: #E8F0FE;\n",
              "      border: none;\n",
              "      border-radius: 50%;\n",
              "      cursor: pointer;\n",
              "      display: none;\n",
              "      fill: #1967D2;\n",
              "      height: 32px;\n",
              "      padding: 0 0 0 0;\n",
              "      width: 32px;\n",
              "    }\n",
              "\n",
              "    .colab-df-convert:hover {\n",
              "      background-color: #E2EBFA;\n",
              "      box-shadow: 0px 1px 2px rgba(60, 64, 67, 0.3), 0px 1px 3px 1px rgba(60, 64, 67, 0.15);\n",
              "      fill: #174EA6;\n",
              "    }\n",
              "\n",
              "    [theme=dark] .colab-df-convert {\n",
              "      background-color: #3B4455;\n",
              "      fill: #D2E3FC;\n",
              "    }\n",
              "\n",
              "    [theme=dark] .colab-df-convert:hover {\n",
              "      background-color: #434B5C;\n",
              "      box-shadow: 0px 1px 3px 1px rgba(0, 0, 0, 0.15);\n",
              "      filter: drop-shadow(0px 1px 2px rgba(0, 0, 0, 0.3));\n",
              "      fill: #FFFFFF;\n",
              "    }\n",
              "  </style>\n",
              "\n",
              "      <script>\n",
              "        const buttonEl =\n",
              "          document.querySelector('#df-8c270696-0ed4-46a1-817d-84717223f3c9 button.colab-df-convert');\n",
              "        buttonEl.style.display =\n",
              "          google.colab.kernel.accessAllowed ? 'block' : 'none';\n",
              "\n",
              "        async function convertToInteractive(key) {\n",
              "          const element = document.querySelector('#df-8c270696-0ed4-46a1-817d-84717223f3c9');\n",
              "          const dataTable =\n",
              "            await google.colab.kernel.invokeFunction('convertToInteractive',\n",
              "                                                     [key], {});\n",
              "          if (!dataTable) return;\n",
              "\n",
              "          const docLinkHtml = 'Like what you see? Visit the ' +\n",
              "            '<a target=\"_blank\" href=https://colab.research.google.com/notebooks/data_table.ipynb>data table notebook</a>'\n",
              "            + ' to learn more about interactive tables.';\n",
              "          element.innerHTML = '';\n",
              "          dataTable['output_type'] = 'display_data';\n",
              "          await google.colab.output.renderOutput(dataTable, element);\n",
              "          const docLink = document.createElement('div');\n",
              "          docLink.innerHTML = docLinkHtml;\n",
              "          element.appendChild(docLink);\n",
              "        }\n",
              "      </script>\n",
              "    </div>\n",
              "  </div>\n",
              "  "
            ]
          },
          "metadata": {},
          "execution_count": 26
        }
      ]
    },
    {
      "cell_type": "code",
      "source": [
        "freq = {}\n",
        "for column in df.columns:\n",
        "  for feature in df[column]:\n",
        "    if feature in freq:\n",
        "      continue\n",
        "    else:\n",
        "      count = sum(df[column_2] == feature for column_2 in df.columns)\n",
        "      freq[feature] = count.sum()\n",
        "      print(freq[feature])"
      ],
      "metadata": {
        "colab": {
          "base_uri": "https://localhost:8080/"
        },
        "id": "LAINpgS9ikN8",
        "outputId": "fa09514e-7df4-441b-85fc-f98fd6ddd06a"
      },
      "execution_count": 73,
      "outputs": [
        {
          "output_type": "stream",
          "name": "stdout",
          "text": [
            "39930\n",
            "60910\n",
            "48472\n",
            "47441\n",
            "38137\n",
            "46926\n",
            "48112\n",
            "42886\n",
            "28154\n",
            "37411\n",
            "34754\n",
            "27404\n",
            "24526\n",
            "27267\n",
            "13000\n",
            "16891\n",
            "4212\n",
            "2440\n",
            "10501\n",
            "36935\n",
            "15927\n",
            "14931\n",
            "6272\n",
            "14387\n",
            "22331\n",
            "15463\n",
            "1748\n",
            "208\n",
            "22413\n",
            "2826\n",
            "2109\n",
            "2143\n",
            "1683\n",
            "1658\n",
            "481\n",
            "624\n",
            "1301\n",
            "2223\n",
            "214\n",
            "117\n",
            "105\n",
            "14\n",
            "37\n",
            "54\n",
            "162\n",
            "102\n",
            "15\n",
            "43\n",
            "11\n",
            "6\n",
            "1\n",
            "1\n",
            "1\n"
          ]
        }
      ]
    },
    {
      "cell_type": "code",
      "source": [
        "freq_df = pd.DataFrame(list(freq.items()), columns=['Feature', 'Frequency'])\n",
        "freq_df.head()"
      ],
      "metadata": {
        "colab": {
          "base_uri": "https://localhost:8080/",
          "height": 206
        },
        "id": "v_oz2bDBnGu7",
        "outputId": "e5bd39fb-1276-49b0-9dfe-f201953e679d"
      },
      "execution_count": 75,
      "outputs": [
        {
          "output_type": "execute_result",
          "data": {
            "text/plain": [
              "           Feature  Frequency\n",
              "0  Bwd Pkt Len Min      39930\n",
              "1   Bwd Header Len      60910\n",
              "2     Pkt Size Avg      48472\n",
              "3   Fwd Header Len      47441\n",
              "4      Pkt Len Min      38137"
            ],
            "text/html": [
              "\n",
              "  <div id=\"df-4e5b73f7-2f0c-4506-b647-b60a7cf346ac\">\n",
              "    <div class=\"colab-df-container\">\n",
              "      <div>\n",
              "<style scoped>\n",
              "    .dataframe tbody tr th:only-of-type {\n",
              "        vertical-align: middle;\n",
              "    }\n",
              "\n",
              "    .dataframe tbody tr th {\n",
              "        vertical-align: top;\n",
              "    }\n",
              "\n",
              "    .dataframe thead th {\n",
              "        text-align: right;\n",
              "    }\n",
              "</style>\n",
              "<table border=\"1\" class=\"dataframe\">\n",
              "  <thead>\n",
              "    <tr style=\"text-align: right;\">\n",
              "      <th></th>\n",
              "      <th>Feature</th>\n",
              "      <th>Frequency</th>\n",
              "    </tr>\n",
              "  </thead>\n",
              "  <tbody>\n",
              "    <tr>\n",
              "      <th>0</th>\n",
              "      <td>Bwd Pkt Len Min</td>\n",
              "      <td>39930</td>\n",
              "    </tr>\n",
              "    <tr>\n",
              "      <th>1</th>\n",
              "      <td>Bwd Header Len</td>\n",
              "      <td>60910</td>\n",
              "    </tr>\n",
              "    <tr>\n",
              "      <th>2</th>\n",
              "      <td>Pkt Size Avg</td>\n",
              "      <td>48472</td>\n",
              "    </tr>\n",
              "    <tr>\n",
              "      <th>3</th>\n",
              "      <td>Fwd Header Len</td>\n",
              "      <td>47441</td>\n",
              "    </tr>\n",
              "    <tr>\n",
              "      <th>4</th>\n",
              "      <td>Pkt Len Min</td>\n",
              "      <td>38137</td>\n",
              "    </tr>\n",
              "  </tbody>\n",
              "</table>\n",
              "</div>\n",
              "      <button class=\"colab-df-convert\" onclick=\"convertToInteractive('df-4e5b73f7-2f0c-4506-b647-b60a7cf346ac')\"\n",
              "              title=\"Convert this dataframe to an interactive table.\"\n",
              "              style=\"display:none;\">\n",
              "        \n",
              "  <svg xmlns=\"http://www.w3.org/2000/svg\" height=\"24px\"viewBox=\"0 0 24 24\"\n",
              "       width=\"24px\">\n",
              "    <path d=\"M0 0h24v24H0V0z\" fill=\"none\"/>\n",
              "    <path d=\"M18.56 5.44l.94 2.06.94-2.06 2.06-.94-2.06-.94-.94-2.06-.94 2.06-2.06.94zm-11 1L8.5 8.5l.94-2.06 2.06-.94-2.06-.94L8.5 2.5l-.94 2.06-2.06.94zm10 10l.94 2.06.94-2.06 2.06-.94-2.06-.94-.94-2.06-.94 2.06-2.06.94z\"/><path d=\"M17.41 7.96l-1.37-1.37c-.4-.4-.92-.59-1.43-.59-.52 0-1.04.2-1.43.59L10.3 9.45l-7.72 7.72c-.78.78-.78 2.05 0 2.83L4 21.41c.39.39.9.59 1.41.59.51 0 1.02-.2 1.41-.59l7.78-7.78 2.81-2.81c.8-.78.8-2.07 0-2.86zM5.41 20L4 18.59l7.72-7.72 1.47 1.35L5.41 20z\"/>\n",
              "  </svg>\n",
              "      </button>\n",
              "      \n",
              "  <style>\n",
              "    .colab-df-container {\n",
              "      display:flex;\n",
              "      flex-wrap:wrap;\n",
              "      gap: 12px;\n",
              "    }\n",
              "\n",
              "    .colab-df-convert {\n",
              "      background-color: #E8F0FE;\n",
              "      border: none;\n",
              "      border-radius: 50%;\n",
              "      cursor: pointer;\n",
              "      display: none;\n",
              "      fill: #1967D2;\n",
              "      height: 32px;\n",
              "      padding: 0 0 0 0;\n",
              "      width: 32px;\n",
              "    }\n",
              "\n",
              "    .colab-df-convert:hover {\n",
              "      background-color: #E2EBFA;\n",
              "      box-shadow: 0px 1px 2px rgba(60, 64, 67, 0.3), 0px 1px 3px 1px rgba(60, 64, 67, 0.15);\n",
              "      fill: #174EA6;\n",
              "    }\n",
              "\n",
              "    [theme=dark] .colab-df-convert {\n",
              "      background-color: #3B4455;\n",
              "      fill: #D2E3FC;\n",
              "    }\n",
              "\n",
              "    [theme=dark] .colab-df-convert:hover {\n",
              "      background-color: #434B5C;\n",
              "      box-shadow: 0px 1px 3px 1px rgba(0, 0, 0, 0.15);\n",
              "      filter: drop-shadow(0px 1px 2px rgba(0, 0, 0, 0.3));\n",
              "      fill: #FFFFFF;\n",
              "    }\n",
              "  </style>\n",
              "\n",
              "      <script>\n",
              "        const buttonEl =\n",
              "          document.querySelector('#df-4e5b73f7-2f0c-4506-b647-b60a7cf346ac button.colab-df-convert');\n",
              "        buttonEl.style.display =\n",
              "          google.colab.kernel.accessAllowed ? 'block' : 'none';\n",
              "\n",
              "        async function convertToInteractive(key) {\n",
              "          const element = document.querySelector('#df-4e5b73f7-2f0c-4506-b647-b60a7cf346ac');\n",
              "          const dataTable =\n",
              "            await google.colab.kernel.invokeFunction('convertToInteractive',\n",
              "                                                     [key], {});\n",
              "          if (!dataTable) return;\n",
              "\n",
              "          const docLinkHtml = 'Like what you see? Visit the ' +\n",
              "            '<a target=\"_blank\" href=https://colab.research.google.com/notebooks/data_table.ipynb>data table notebook</a>'\n",
              "            + ' to learn more about interactive tables.';\n",
              "          element.innerHTML = '';\n",
              "          dataTable['output_type'] = 'display_data';\n",
              "          await google.colab.output.renderOutput(dataTable, element);\n",
              "          const docLink = document.createElement('div');\n",
              "          docLink.innerHTML = docLinkHtml;\n",
              "          element.appendChild(docLink);\n",
              "        }\n",
              "      </script>\n",
              "    </div>\n",
              "  </div>\n",
              "  "
            ]
          },
          "metadata": {},
          "execution_count": 75
        }
      ]
    },
    {
      "cell_type": "code",
      "source": [
        "freq_df.sort_values(by=['Frequency'], ascending=False, inplace=True)\n",
        "freq_df.info()"
      ],
      "metadata": {
        "colab": {
          "base_uri": "https://localhost:8080/"
        },
        "id": "add06FW7nZhH",
        "outputId": "280d9397-e266-4c85-d653-5423041ec852"
      },
      "execution_count": 76,
      "outputs": [
        {
          "output_type": "stream",
          "name": "stdout",
          "text": [
            "<class 'pandas.core.frame.DataFrame'>\n",
            "Int64Index: 53 entries, 1 to 52\n",
            "Data columns (total 2 columns):\n",
            " #   Column     Non-Null Count  Dtype \n",
            "---  ------     --------------  ----- \n",
            " 0   Feature    53 non-null     object\n",
            " 1   Frequency  53 non-null     int64 \n",
            "dtypes: int64(1), object(1)\n",
            "memory usage: 1.2+ KB\n"
          ]
        }
      ]
    },
    {
      "cell_type": "code",
      "source": [
        "freq_df.head(24)"
      ],
      "metadata": {
        "colab": {
          "base_uri": "https://localhost:8080/",
          "height": 802
        },
        "id": "jLV5VBrguBWd",
        "outputId": "3a1ec1ce-1c50-4be3-cc14-069e5c16cbcc"
      },
      "execution_count": 79,
      "outputs": [
        {
          "output_type": "execute_result",
          "data": {
            "text/plain": [
              "              Feature  Frequency\n",
              "1      Bwd Header Len      60910\n",
              "2        Pkt Size Avg      48472\n",
              "6         Pkt Len Max      48112\n",
              "3      Fwd Header Len      47441\n",
              "5         Pkt Len Std      46926\n",
              "7        Pkt Len Mean      42886\n",
              "0     Bwd Pkt Len Min      39930\n",
              "4         Pkt Len Min      38137\n",
              "9    Bwd Seg Size Avg      37411\n",
              "19      Down/Up Ratio      36935\n",
              "10  Init Bwd Win Byts      34754\n",
              "8    Fwd Seg Size Avg      28154\n",
              "11         Bwd Pkts/s      27404\n",
              "13   Subflow Bwd Pkts      27267\n",
              "12        Flow Pkts/s      24526\n",
              "28   Subflow Fwd Pkts      22413\n",
              "24       Tot Fwd Pkts      22331\n",
              "15       SYN Flag Cnt      16891\n",
              "20       FIN Flag Cnt      15927\n",
              "25       ACK Flag Cnt      15463\n",
              "21    Bwd Pkt Len Max      14931\n",
              "23    Fwd Pkt Len Max      14387\n",
              "14       Tot Bwd Pkts      13000\n",
              "18    Fwd Pkt Len Min      10501"
            ],
            "text/html": [
              "\n",
              "  <div id=\"df-b2ad6ea1-44bf-4b49-9d54-4e5a3b69be38\">\n",
              "    <div class=\"colab-df-container\">\n",
              "      <div>\n",
              "<style scoped>\n",
              "    .dataframe tbody tr th:only-of-type {\n",
              "        vertical-align: middle;\n",
              "    }\n",
              "\n",
              "    .dataframe tbody tr th {\n",
              "        vertical-align: top;\n",
              "    }\n",
              "\n",
              "    .dataframe thead th {\n",
              "        text-align: right;\n",
              "    }\n",
              "</style>\n",
              "<table border=\"1\" class=\"dataframe\">\n",
              "  <thead>\n",
              "    <tr style=\"text-align: right;\">\n",
              "      <th></th>\n",
              "      <th>Feature</th>\n",
              "      <th>Frequency</th>\n",
              "    </tr>\n",
              "  </thead>\n",
              "  <tbody>\n",
              "    <tr>\n",
              "      <th>1</th>\n",
              "      <td>Bwd Header Len</td>\n",
              "      <td>60910</td>\n",
              "    </tr>\n",
              "    <tr>\n",
              "      <th>2</th>\n",
              "      <td>Pkt Size Avg</td>\n",
              "      <td>48472</td>\n",
              "    </tr>\n",
              "    <tr>\n",
              "      <th>6</th>\n",
              "      <td>Pkt Len Max</td>\n",
              "      <td>48112</td>\n",
              "    </tr>\n",
              "    <tr>\n",
              "      <th>3</th>\n",
              "      <td>Fwd Header Len</td>\n",
              "      <td>47441</td>\n",
              "    </tr>\n",
              "    <tr>\n",
              "      <th>5</th>\n",
              "      <td>Pkt Len Std</td>\n",
              "      <td>46926</td>\n",
              "    </tr>\n",
              "    <tr>\n",
              "      <th>7</th>\n",
              "      <td>Pkt Len Mean</td>\n",
              "      <td>42886</td>\n",
              "    </tr>\n",
              "    <tr>\n",
              "      <th>0</th>\n",
              "      <td>Bwd Pkt Len Min</td>\n",
              "      <td>39930</td>\n",
              "    </tr>\n",
              "    <tr>\n",
              "      <th>4</th>\n",
              "      <td>Pkt Len Min</td>\n",
              "      <td>38137</td>\n",
              "    </tr>\n",
              "    <tr>\n",
              "      <th>9</th>\n",
              "      <td>Bwd Seg Size Avg</td>\n",
              "      <td>37411</td>\n",
              "    </tr>\n",
              "    <tr>\n",
              "      <th>19</th>\n",
              "      <td>Down/Up Ratio</td>\n",
              "      <td>36935</td>\n",
              "    </tr>\n",
              "    <tr>\n",
              "      <th>10</th>\n",
              "      <td>Init Bwd Win Byts</td>\n",
              "      <td>34754</td>\n",
              "    </tr>\n",
              "    <tr>\n",
              "      <th>8</th>\n",
              "      <td>Fwd Seg Size Avg</td>\n",
              "      <td>28154</td>\n",
              "    </tr>\n",
              "    <tr>\n",
              "      <th>11</th>\n",
              "      <td>Bwd Pkts/s</td>\n",
              "      <td>27404</td>\n",
              "    </tr>\n",
              "    <tr>\n",
              "      <th>13</th>\n",
              "      <td>Subflow Bwd Pkts</td>\n",
              "      <td>27267</td>\n",
              "    </tr>\n",
              "    <tr>\n",
              "      <th>12</th>\n",
              "      <td>Flow Pkts/s</td>\n",
              "      <td>24526</td>\n",
              "    </tr>\n",
              "    <tr>\n",
              "      <th>28</th>\n",
              "      <td>Subflow Fwd Pkts</td>\n",
              "      <td>22413</td>\n",
              "    </tr>\n",
              "    <tr>\n",
              "      <th>24</th>\n",
              "      <td>Tot Fwd Pkts</td>\n",
              "      <td>22331</td>\n",
              "    </tr>\n",
              "    <tr>\n",
              "      <th>15</th>\n",
              "      <td>SYN Flag Cnt</td>\n",
              "      <td>16891</td>\n",
              "    </tr>\n",
              "    <tr>\n",
              "      <th>20</th>\n",
              "      <td>FIN Flag Cnt</td>\n",
              "      <td>15927</td>\n",
              "    </tr>\n",
              "    <tr>\n",
              "      <th>25</th>\n",
              "      <td>ACK Flag Cnt</td>\n",
              "      <td>15463</td>\n",
              "    </tr>\n",
              "    <tr>\n",
              "      <th>21</th>\n",
              "      <td>Bwd Pkt Len Max</td>\n",
              "      <td>14931</td>\n",
              "    </tr>\n",
              "    <tr>\n",
              "      <th>23</th>\n",
              "      <td>Fwd Pkt Len Max</td>\n",
              "      <td>14387</td>\n",
              "    </tr>\n",
              "    <tr>\n",
              "      <th>14</th>\n",
              "      <td>Tot Bwd Pkts</td>\n",
              "      <td>13000</td>\n",
              "    </tr>\n",
              "    <tr>\n",
              "      <th>18</th>\n",
              "      <td>Fwd Pkt Len Min</td>\n",
              "      <td>10501</td>\n",
              "    </tr>\n",
              "  </tbody>\n",
              "</table>\n",
              "</div>\n",
              "      <button class=\"colab-df-convert\" onclick=\"convertToInteractive('df-b2ad6ea1-44bf-4b49-9d54-4e5a3b69be38')\"\n",
              "              title=\"Convert this dataframe to an interactive table.\"\n",
              "              style=\"display:none;\">\n",
              "        \n",
              "  <svg xmlns=\"http://www.w3.org/2000/svg\" height=\"24px\"viewBox=\"0 0 24 24\"\n",
              "       width=\"24px\">\n",
              "    <path d=\"M0 0h24v24H0V0z\" fill=\"none\"/>\n",
              "    <path d=\"M18.56 5.44l.94 2.06.94-2.06 2.06-.94-2.06-.94-.94-2.06-.94 2.06-2.06.94zm-11 1L8.5 8.5l.94-2.06 2.06-.94-2.06-.94L8.5 2.5l-.94 2.06-2.06.94zm10 10l.94 2.06.94-2.06 2.06-.94-2.06-.94-.94-2.06-.94 2.06-2.06.94z\"/><path d=\"M17.41 7.96l-1.37-1.37c-.4-.4-.92-.59-1.43-.59-.52 0-1.04.2-1.43.59L10.3 9.45l-7.72 7.72c-.78.78-.78 2.05 0 2.83L4 21.41c.39.39.9.59 1.41.59.51 0 1.02-.2 1.41-.59l7.78-7.78 2.81-2.81c.8-.78.8-2.07 0-2.86zM5.41 20L4 18.59l7.72-7.72 1.47 1.35L5.41 20z\"/>\n",
              "  </svg>\n",
              "      </button>\n",
              "      \n",
              "  <style>\n",
              "    .colab-df-container {\n",
              "      display:flex;\n",
              "      flex-wrap:wrap;\n",
              "      gap: 12px;\n",
              "    }\n",
              "\n",
              "    .colab-df-convert {\n",
              "      background-color: #E8F0FE;\n",
              "      border: none;\n",
              "      border-radius: 50%;\n",
              "      cursor: pointer;\n",
              "      display: none;\n",
              "      fill: #1967D2;\n",
              "      height: 32px;\n",
              "      padding: 0 0 0 0;\n",
              "      width: 32px;\n",
              "    }\n",
              "\n",
              "    .colab-df-convert:hover {\n",
              "      background-color: #E2EBFA;\n",
              "      box-shadow: 0px 1px 2px rgba(60, 64, 67, 0.3), 0px 1px 3px 1px rgba(60, 64, 67, 0.15);\n",
              "      fill: #174EA6;\n",
              "    }\n",
              "\n",
              "    [theme=dark] .colab-df-convert {\n",
              "      background-color: #3B4455;\n",
              "      fill: #D2E3FC;\n",
              "    }\n",
              "\n",
              "    [theme=dark] .colab-df-convert:hover {\n",
              "      background-color: #434B5C;\n",
              "      box-shadow: 0px 1px 3px 1px rgba(0, 0, 0, 0.15);\n",
              "      filter: drop-shadow(0px 1px 2px rgba(0, 0, 0, 0.3));\n",
              "      fill: #FFFFFF;\n",
              "    }\n",
              "  </style>\n",
              "\n",
              "      <script>\n",
              "        const buttonEl =\n",
              "          document.querySelector('#df-b2ad6ea1-44bf-4b49-9d54-4e5a3b69be38 button.colab-df-convert');\n",
              "        buttonEl.style.display =\n",
              "          google.colab.kernel.accessAllowed ? 'block' : 'none';\n",
              "\n",
              "        async function convertToInteractive(key) {\n",
              "          const element = document.querySelector('#df-b2ad6ea1-44bf-4b49-9d54-4e5a3b69be38');\n",
              "          const dataTable =\n",
              "            await google.colab.kernel.invokeFunction('convertToInteractive',\n",
              "                                                     [key], {});\n",
              "          if (!dataTable) return;\n",
              "\n",
              "          const docLinkHtml = 'Like what you see? Visit the ' +\n",
              "            '<a target=\"_blank\" href=https://colab.research.google.com/notebooks/data_table.ipynb>data table notebook</a>'\n",
              "            + ' to learn more about interactive tables.';\n",
              "          element.innerHTML = '';\n",
              "          dataTable['output_type'] = 'display_data';\n",
              "          await google.colab.output.renderOutput(dataTable, element);\n",
              "          const docLink = document.createElement('div');\n",
              "          docLink.innerHTML = docLinkHtml;\n",
              "          element.appendChild(docLink);\n",
              "        }\n",
              "      </script>\n",
              "    </div>\n",
              "  </div>\n",
              "  "
            ]
          },
          "metadata": {},
          "execution_count": 79
        }
      ]
    },
    {
      "cell_type": "code",
      "source": [
        "freq_df[:38].to_csv('/content/drive/MyDrive/DACN_XAI_Adv_defense/InSDN/top24_InSDN.csv', index=False)"
      ],
      "metadata": {
        "id": "YU2TkWAjnl7s"
      },
      "execution_count": 80,
      "outputs": []
    },
    {
      "cell_type": "code",
      "source": [
        "from google.colab import drive\n",
        "drive.mount('/content/drive', force_remount=True)"
      ],
      "metadata": {
        "colab": {
          "base_uri": "https://localhost:8080/"
        },
        "id": "uNlWYDVbvS7X",
        "outputId": "86fa19fc-06ea-4495-db92-69cf5b4aa5b4"
      },
      "execution_count": 62,
      "outputs": [
        {
          "output_type": "stream",
          "name": "stdout",
          "text": [
            "Mounted at /content/drive\n"
          ]
        }
      ]
    }
  ],
  "metadata": {
    "colab": {
      "provenance": [],
      "collapsed_sections": [
        "mJ0p3tB5oxAq"
      ],
      "mount_file_id": "1WHP8UhS9n4m6dVn_4j44amqg-1oUF7b7",
      "authorship_tag": "ABX9TyOVIEPhxUQBdWv7DHjg7hiD",
      "include_colab_link": true
    },
    "kernelspec": {
      "display_name": "Python 3",
      "name": "python3"
    },
    "language_info": {
      "name": "python"
    }
  },
  "nbformat": 4,
  "nbformat_minor": 0
}