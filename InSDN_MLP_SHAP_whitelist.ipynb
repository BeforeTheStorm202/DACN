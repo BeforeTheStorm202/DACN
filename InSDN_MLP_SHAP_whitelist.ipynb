{
  "cells": [
    {
      "cell_type": "markdown",
      "metadata": {
        "id": "view-in-github",
        "colab_type": "text"
      },
      "source": [
        "<a href=\"https://colab.research.google.com/github/BeforeTheStorm202/DACN/blob/main/InSDN_MLP_SHAP_whitelist.ipynb\" target=\"_parent\"><img src=\"https://colab.research.google.com/assets/colab-badge.svg\" alt=\"Open In Colab\"/></a>"
      ]
    },
    {
      "cell_type": "markdown",
      "metadata": {
        "id": "rJBJPRmCFqU7"
      },
      "source": [
        "# Import"
      ]
    },
    {
      "cell_type": "code",
      "execution_count": 1,
      "metadata": {
        "colab": {
          "base_uri": "https://localhost:8080/"
        },
        "id": "Ym8Pb2oREYUG",
        "outputId": "b4e3675d-8472-49ab-f450-38e3a820890e"
      },
      "outputs": [
        {
          "output_type": "stream",
          "name": "stdout",
          "text": [
            "Collecting shap\n",
            "  Downloading shap-0.41.0-cp310-cp310-manylinux_2_12_x86_64.manylinux2010_x86_64.whl (572 kB)\n",
            "\u001b[?25l     \u001b[90m━━━━━━━━━━━━━━━━━━━━━━━━━━━━━━━━━━━━━━━━\u001b[0m \u001b[32m0.0/572.6 kB\u001b[0m \u001b[31m?\u001b[0m eta \u001b[36m-:--:--\u001b[0m\r\u001b[2K     \u001b[91m━━━━━━━━━━━━━━━━━━━━━━━━━━━━━━━━━━━━━\u001b[0m\u001b[90m╺\u001b[0m \u001b[32m563.2/572.6 kB\u001b[0m \u001b[31m21.2 MB/s\u001b[0m eta \u001b[36m0:00:01\u001b[0m\r\u001b[2K     \u001b[90m━━━━━━━━━━━━━━━━━━━━━━━━━━━━━━━━━━━━━━\u001b[0m \u001b[32m572.6/572.6 kB\u001b[0m \u001b[31m15.6 MB/s\u001b[0m eta \u001b[36m0:00:00\u001b[0m\n",
            "\u001b[?25hRequirement already satisfied: numpy in /usr/local/lib/python3.10/dist-packages (from shap) (1.22.4)\n",
            "Requirement already satisfied: scipy in /usr/local/lib/python3.10/dist-packages (from shap) (1.10.1)\n",
            "Requirement already satisfied: scikit-learn in /usr/local/lib/python3.10/dist-packages (from shap) (1.2.2)\n",
            "Requirement already satisfied: pandas in /usr/local/lib/python3.10/dist-packages (from shap) (1.5.3)\n",
            "Requirement already satisfied: tqdm>4.25.0 in /usr/local/lib/python3.10/dist-packages (from shap) (4.65.0)\n",
            "Requirement already satisfied: packaging>20.9 in /usr/local/lib/python3.10/dist-packages (from shap) (23.1)\n",
            "Collecting slicer==0.0.7 (from shap)\n",
            "  Downloading slicer-0.0.7-py3-none-any.whl (14 kB)\n",
            "Requirement already satisfied: numba in /usr/local/lib/python3.10/dist-packages (from shap) (0.56.4)\n",
            "Requirement already satisfied: cloudpickle in /usr/local/lib/python3.10/dist-packages (from shap) (2.2.1)\n",
            "Requirement already satisfied: llvmlite<0.40,>=0.39.0dev0 in /usr/local/lib/python3.10/dist-packages (from numba->shap) (0.39.1)\n",
            "Requirement already satisfied: setuptools in /usr/local/lib/python3.10/dist-packages (from numba->shap) (67.7.2)\n",
            "Requirement already satisfied: python-dateutil>=2.8.1 in /usr/local/lib/python3.10/dist-packages (from pandas->shap) (2.8.2)\n",
            "Requirement already satisfied: pytz>=2020.1 in /usr/local/lib/python3.10/dist-packages (from pandas->shap) (2022.7.1)\n",
            "Requirement already satisfied: joblib>=1.1.1 in /usr/local/lib/python3.10/dist-packages (from scikit-learn->shap) (1.2.0)\n",
            "Requirement already satisfied: threadpoolctl>=2.0.0 in /usr/local/lib/python3.10/dist-packages (from scikit-learn->shap) (3.1.0)\n",
            "Requirement already satisfied: six>=1.5 in /usr/local/lib/python3.10/dist-packages (from python-dateutil>=2.8.1->pandas->shap) (1.16.0)\n",
            "Installing collected packages: slicer, shap\n",
            "Successfully installed shap-0.41.0 slicer-0.0.7\n"
          ]
        }
      ],
      "source": [
        "!pip install shap"
      ]
    },
    {
      "cell_type": "code",
      "execution_count": 2,
      "metadata": {
        "id": "9qxu7n9TFv21"
      },
      "outputs": [],
      "source": [
        "import shap\n",
        "import pandas as pd\n",
        "import tensorflow as tf\n",
        "from tensorflow import keras"
      ]
    },
    {
      "cell_type": "markdown",
      "metadata": {
        "id": "SDGzHf5TG6UT"
      },
      "source": [
        "# Load dataset & model"
      ]
    },
    {
      "cell_type": "code",
      "execution_count": 4,
      "metadata": {
        "colab": {
          "base_uri": "https://localhost:8080/"
        },
        "id": "a-B3scZ0lXpa",
        "outputId": "798e71e3-c74b-451f-8acb-a993ceaa5187"
      },
      "outputs": [
        {
          "output_type": "stream",
          "name": "stdout",
          "text": [
            "<class 'pandas.core.frame.DataFrame'>\n",
            "RangeIndex: 385156 entries, 0 to 385155\n",
            "Data columns (total 77 columns):\n",
            " #   Column             Non-Null Count   Dtype  \n",
            "---  ------             --------------   -----  \n",
            " 0   Flow Duration      385156 non-null  float64\n",
            " 1   Tot Fwd Pkts       385156 non-null  float64\n",
            " 2   Tot Bwd Pkts       385156 non-null  float64\n",
            " 3   TotLen Fwd Pkts    385156 non-null  float64\n",
            " 4   TotLen Bwd Pkts    385156 non-null  float64\n",
            " 5   Fwd Pkt Len Max    385156 non-null  float64\n",
            " 6   Fwd Pkt Len Min    385156 non-null  float64\n",
            " 7   Fwd Pkt Len Mean   385156 non-null  float64\n",
            " 8   Fwd Pkt Len Std    385156 non-null  float64\n",
            " 9   Bwd Pkt Len Max    385156 non-null  float64\n",
            " 10  Bwd Pkt Len Min    385156 non-null  float64\n",
            " 11  Bwd Pkt Len Mean   385156 non-null  float64\n",
            " 12  Bwd Pkt Len Std    385156 non-null  float64\n",
            " 13  Flow Byts/s        385156 non-null  float64\n",
            " 14  Flow Pkts/s        385156 non-null  float64\n",
            " 15  Flow IAT Mean      385156 non-null  float64\n",
            " 16  Flow IAT Std       385156 non-null  float64\n",
            " 17  Flow IAT Max       385156 non-null  float64\n",
            " 18  Flow IAT Min       385156 non-null  float64\n",
            " 19  Fwd IAT Tot        385156 non-null  float64\n",
            " 20  Fwd IAT Mean       385156 non-null  float64\n",
            " 21  Fwd IAT Std        385156 non-null  float64\n",
            " 22  Fwd IAT Max        385156 non-null  float64\n",
            " 23  Fwd IAT Min        385156 non-null  float64\n",
            " 24  Bwd IAT Tot        385156 non-null  float64\n",
            " 25  Bwd IAT Mean       385156 non-null  float64\n",
            " 26  Bwd IAT Std        385156 non-null  float64\n",
            " 27  Bwd IAT Max        385156 non-null  float64\n",
            " 28  Bwd IAT Min        385156 non-null  float64\n",
            " 29  Fwd PSH Flags      385156 non-null  float64\n",
            " 30  Bwd PSH Flags      385156 non-null  float64\n",
            " 31  Fwd URG Flags      385156 non-null  float64\n",
            " 32  Bwd URG Flags      385156 non-null  float64\n",
            " 33  Fwd Header Len     385156 non-null  float64\n",
            " 34  Bwd Header Len     385156 non-null  float64\n",
            " 35  Fwd Pkts/s         385156 non-null  float64\n",
            " 36  Bwd Pkts/s         385156 non-null  float64\n",
            " 37  Pkt Len Min        385156 non-null  float64\n",
            " 38  Pkt Len Max        385156 non-null  float64\n",
            " 39  Pkt Len Mean       385156 non-null  float64\n",
            " 40  Pkt Len Std        385156 non-null  float64\n",
            " 41  Pkt Len Var        385156 non-null  float64\n",
            " 42  FIN Flag Cnt       385156 non-null  float64\n",
            " 43  SYN Flag Cnt       385156 non-null  float64\n",
            " 44  RST Flag Cnt       385156 non-null  float64\n",
            " 45  PSH Flag Cnt       385156 non-null  float64\n",
            " 46  ACK Flag Cnt       385156 non-null  float64\n",
            " 47  URG Flag Cnt       385156 non-null  float64\n",
            " 48  CWE Flag Count     385156 non-null  float64\n",
            " 49  ECE Flag Cnt       385156 non-null  float64\n",
            " 50  Down/Up Ratio      385156 non-null  float64\n",
            " 51  Pkt Size Avg       385156 non-null  float64\n",
            " 52  Fwd Seg Size Avg   385156 non-null  float64\n",
            " 53  Bwd Seg Size Avg   385156 non-null  float64\n",
            " 54  Fwd Byts/b Avg     385156 non-null  float64\n",
            " 55  Fwd Pkts/b Avg     385156 non-null  float64\n",
            " 56  Fwd Blk Rate Avg   385156 non-null  float64\n",
            " 57  Bwd Byts/b Avg     385156 non-null  float64\n",
            " 58  Bwd Pkts/b Avg     385156 non-null  float64\n",
            " 59  Bwd Blk Rate Avg   385156 non-null  float64\n",
            " 60  Subflow Fwd Pkts   385156 non-null  float64\n",
            " 61  Subflow Fwd Byts   385156 non-null  float64\n",
            " 62  Subflow Bwd Pkts   385156 non-null  float64\n",
            " 63  Subflow Bwd Byts   385156 non-null  float64\n",
            " 64  Init Fwd Win Byts  385156 non-null  float64\n",
            " 65  Init Bwd Win Byts  385156 non-null  float64\n",
            " 66  Fwd Act Data Pkts  385156 non-null  float64\n",
            " 67  Fwd Seg Size Min   385156 non-null  float64\n",
            " 68  Active Mean        385156 non-null  float64\n",
            " 69  Active Std         385156 non-null  float64\n",
            " 70  Active Max         385156 non-null  float64\n",
            " 71  Active Min         385156 non-null  float64\n",
            " 72  Idle Mean          385156 non-null  float64\n",
            " 73  Idle Std           385156 non-null  float64\n",
            " 74  Idle Max           385156 non-null  float64\n",
            " 75  Idle Min           385156 non-null  float64\n",
            " 76  Label              385156 non-null  int64  \n",
            "dtypes: float64(76), int64(1)\n",
            "memory usage: 226.3 MB\n"
          ]
        }
      ],
      "source": [
        "df = pd.read_csv('/content/drive/MyDrive/DACN_XAI_Adv_defense/Dataset/insdn/multi/train.csv')\n",
        "df.info()"
      ]
    },
    {
      "cell_type": "code",
      "execution_count": 5,
      "metadata": {
        "id": "9BkutXYx8C2V"
      },
      "outputs": [],
      "source": [
        "model_mlp = tf.keras.models.load_model('/content/drive/MyDrive/DACN_XAI_Adv_defense/Dataset/insdn/insdn_mlp_multi.h5', compile=True)"
      ]
    },
    {
      "cell_type": "code",
      "execution_count": 6,
      "metadata": {
        "id": "8CQCgNzXysIE"
      },
      "outputs": [],
      "source": [
        "x_normal = df[df['Label'] == 0].reset_index(drop=True)"
      ]
    },
    {
      "cell_type": "code",
      "execution_count": 7,
      "metadata": {
        "colab": {
          "base_uri": "https://localhost:8080/"
        },
        "id": "xBfpy1cqzax6",
        "outputId": "6e5551c6-c026-4c68-8481-4a338737da44"
      },
      "outputs": [
        {
          "output_type": "stream",
          "name": "stdout",
          "text": [
            "<class 'pandas.core.frame.DataFrame'>\n",
            "RangeIndex: 76592 entries, 0 to 76591\n",
            "Data columns (total 77 columns):\n",
            " #   Column             Non-Null Count  Dtype  \n",
            "---  ------             --------------  -----  \n",
            " 0   Flow Duration      76592 non-null  float64\n",
            " 1   Tot Fwd Pkts       76592 non-null  float64\n",
            " 2   Tot Bwd Pkts       76592 non-null  float64\n",
            " 3   TotLen Fwd Pkts    76592 non-null  float64\n",
            " 4   TotLen Bwd Pkts    76592 non-null  float64\n",
            " 5   Fwd Pkt Len Max    76592 non-null  float64\n",
            " 6   Fwd Pkt Len Min    76592 non-null  float64\n",
            " 7   Fwd Pkt Len Mean   76592 non-null  float64\n",
            " 8   Fwd Pkt Len Std    76592 non-null  float64\n",
            " 9   Bwd Pkt Len Max    76592 non-null  float64\n",
            " 10  Bwd Pkt Len Min    76592 non-null  float64\n",
            " 11  Bwd Pkt Len Mean   76592 non-null  float64\n",
            " 12  Bwd Pkt Len Std    76592 non-null  float64\n",
            " 13  Flow Byts/s        76592 non-null  float64\n",
            " 14  Flow Pkts/s        76592 non-null  float64\n",
            " 15  Flow IAT Mean      76592 non-null  float64\n",
            " 16  Flow IAT Std       76592 non-null  float64\n",
            " 17  Flow IAT Max       76592 non-null  float64\n",
            " 18  Flow IAT Min       76592 non-null  float64\n",
            " 19  Fwd IAT Tot        76592 non-null  float64\n",
            " 20  Fwd IAT Mean       76592 non-null  float64\n",
            " 21  Fwd IAT Std        76592 non-null  float64\n",
            " 22  Fwd IAT Max        76592 non-null  float64\n",
            " 23  Fwd IAT Min        76592 non-null  float64\n",
            " 24  Bwd IAT Tot        76592 non-null  float64\n",
            " 25  Bwd IAT Mean       76592 non-null  float64\n",
            " 26  Bwd IAT Std        76592 non-null  float64\n",
            " 27  Bwd IAT Max        76592 non-null  float64\n",
            " 28  Bwd IAT Min        76592 non-null  float64\n",
            " 29  Fwd PSH Flags      76592 non-null  float64\n",
            " 30  Bwd PSH Flags      76592 non-null  float64\n",
            " 31  Fwd URG Flags      76592 non-null  float64\n",
            " 32  Bwd URG Flags      76592 non-null  float64\n",
            " 33  Fwd Header Len     76592 non-null  float64\n",
            " 34  Bwd Header Len     76592 non-null  float64\n",
            " 35  Fwd Pkts/s         76592 non-null  float64\n",
            " 36  Bwd Pkts/s         76592 non-null  float64\n",
            " 37  Pkt Len Min        76592 non-null  float64\n",
            " 38  Pkt Len Max        76592 non-null  float64\n",
            " 39  Pkt Len Mean       76592 non-null  float64\n",
            " 40  Pkt Len Std        76592 non-null  float64\n",
            " 41  Pkt Len Var        76592 non-null  float64\n",
            " 42  FIN Flag Cnt       76592 non-null  float64\n",
            " 43  SYN Flag Cnt       76592 non-null  float64\n",
            " 44  RST Flag Cnt       76592 non-null  float64\n",
            " 45  PSH Flag Cnt       76592 non-null  float64\n",
            " 46  ACK Flag Cnt       76592 non-null  float64\n",
            " 47  URG Flag Cnt       76592 non-null  float64\n",
            " 48  CWE Flag Count     76592 non-null  float64\n",
            " 49  ECE Flag Cnt       76592 non-null  float64\n",
            " 50  Down/Up Ratio      76592 non-null  float64\n",
            " 51  Pkt Size Avg       76592 non-null  float64\n",
            " 52  Fwd Seg Size Avg   76592 non-null  float64\n",
            " 53  Bwd Seg Size Avg   76592 non-null  float64\n",
            " 54  Fwd Byts/b Avg     76592 non-null  float64\n",
            " 55  Fwd Pkts/b Avg     76592 non-null  float64\n",
            " 56  Fwd Blk Rate Avg   76592 non-null  float64\n",
            " 57  Bwd Byts/b Avg     76592 non-null  float64\n",
            " 58  Bwd Pkts/b Avg     76592 non-null  float64\n",
            " 59  Bwd Blk Rate Avg   76592 non-null  float64\n",
            " 60  Subflow Fwd Pkts   76592 non-null  float64\n",
            " 61  Subflow Fwd Byts   76592 non-null  float64\n",
            " 62  Subflow Bwd Pkts   76592 non-null  float64\n",
            " 63  Subflow Bwd Byts   76592 non-null  float64\n",
            " 64  Init Fwd Win Byts  76592 non-null  float64\n",
            " 65  Init Bwd Win Byts  76592 non-null  float64\n",
            " 66  Fwd Act Data Pkts  76592 non-null  float64\n",
            " 67  Fwd Seg Size Min   76592 non-null  float64\n",
            " 68  Active Mean        76592 non-null  float64\n",
            " 69  Active Std         76592 non-null  float64\n",
            " 70  Active Max         76592 non-null  float64\n",
            " 71  Active Min         76592 non-null  float64\n",
            " 72  Idle Mean          76592 non-null  float64\n",
            " 73  Idle Std           76592 non-null  float64\n",
            " 74  Idle Max           76592 non-null  float64\n",
            " 75  Idle Min           76592 non-null  float64\n",
            " 76  Label              76592 non-null  int64  \n",
            "dtypes: float64(76), int64(1)\n",
            "memory usage: 45.0 MB\n"
          ]
        }
      ],
      "source": [
        "x_normal.info()"
      ]
    },
    {
      "cell_type": "code",
      "execution_count": 8,
      "metadata": {
        "colab": {
          "base_uri": "https://localhost:8080/"
        },
        "id": "mQLA0I-h0Dji",
        "outputId": "329a437c-9434-477e-d981-cd29c7047945"
      },
      "outputs": [
        {
          "output_type": "execute_result",
          "data": {
            "text/plain": [
              "0    76592\n",
              "Name: Label, dtype: int64"
            ]
          },
          "metadata": {},
          "execution_count": 8
        }
      ],
      "source": [
        "x_normal['Label'].value_counts()"
      ]
    },
    {
      "cell_type": "code",
      "source": [
        "df = df.drop(columns=['Label'])"
      ],
      "metadata": {
        "id": "3Wg8n_uhkW2c"
      },
      "execution_count": 9,
      "outputs": []
    },
    {
      "cell_type": "code",
      "execution_count": 10,
      "metadata": {
        "id": "nhDeX4S0zv7h"
      },
      "outputs": [],
      "source": [
        "x_normal = x_normal.drop(columns=['Label'])"
      ]
    },
    {
      "cell_type": "code",
      "source": [
        "feature_list = x_normal.columns"
      ],
      "metadata": {
        "id": "2nbvb3G4PTlN"
      },
      "execution_count": 38,
      "outputs": []
    },
    {
      "cell_type": "markdown",
      "metadata": {
        "id": "AT9S9DYm0H6q"
      },
      "source": [
        "# SHAP"
      ]
    },
    {
      "cell_type": "code",
      "execution_count": 11,
      "metadata": {
        "id": "Yrd_czRu0JGN"
      },
      "outputs": [],
      "source": [
        "explainer = shap.KernelExplainer(model_mlp, shap.sample(df, 100))"
      ]
    },
    {
      "cell_type": "code",
      "source": [
        "normal_1500 = x_normal.head(1500)"
      ],
      "metadata": {
        "id": "aZFunz6Xk9Cz"
      },
      "execution_count": 12,
      "outputs": []
    },
    {
      "cell_type": "code",
      "execution_count": 13,
      "metadata": {
        "id": "98Y0qFwm0aSS",
        "colab": {
          "base_uri": "https://localhost:8080/",
          "height": 49,
          "referenced_widgets": [
            "cf8d678b3809476f8b92175259285e1f",
            "98ad38694b944ff6a314ea18d9aa096e",
            "4d93e84b96bc45f7a29c5ee354aafde3",
            "45a5a26bec024eedac8ad22d79f15050",
            "d409268fea1d4ac1be8365cb97d3ed23",
            "e96171d41963468c86925e5c63c2d1fb",
            "751392814c6f436dab4716d427fc4c84",
            "269d37a605424fa4a120a572c3229b13",
            "c5393eb4cb8f48d0882852629b496785",
            "6912d72be3a34b9a95b74f22f88ce91f",
            "a859f44007884c71b2f67f042f0b266b"
          ]
        },
        "outputId": "5032c0a1-61ff-4a10-d438-ba7aa3a49531"
      },
      "outputs": [
        {
          "data": {
            "application/vnd.jupyter.widget-view+json": {
              "model_id": "cf8d678b3809476f8b92175259285e1f",
              "version_major": 2,
              "version_minor": 0
            },
            "text/plain": [
              "  0%|          | 0/1500 [00:00<?, ?it/s]"
            ]
          },
          "metadata": {},
          "output_type": "display_data"
        }
      ],
      "source": [
        "shap_values = explainer.shap_values(normal_1500)"
      ]
    },
    {
      "cell_type": "code",
      "source": [
        "data_df = pd.DataFrame(shap_values[0])"
      ],
      "metadata": {
        "id": "0Xmzh4feCGka"
      },
      "execution_count": 34,
      "outputs": []
    },
    {
      "cell_type": "code",
      "source": [
        "data_df.to_csv('/content/drive/MyDrive/DACN_XAI_Adv_defense/InSDN/MLP_HSJ/1500_samples_[0].csv', index=False)"
      ],
      "metadata": {
        "id": "WlmxBElzCIu5"
      },
      "execution_count": 35,
      "outputs": []
    },
    {
      "cell_type": "code",
      "source": [
        "data_df.columns = feature_list\n",
        "data_df.head()"
      ],
      "metadata": {
        "colab": {
          "base_uri": "https://localhost:8080/",
          "height": 351
        },
        "id": "gWJJitNwObUj",
        "outputId": "479c8b0c-79be-4375-9d45-294d09054d2e"
      },
      "execution_count": 39,
      "outputs": [
        {
          "output_type": "execute_result",
          "data": {
            "text/plain": [
              "   Flow Duration  Tot Fwd Pkts  Tot Bwd Pkts  TotLen Fwd Pkts  \\\n",
              "0       0.005324     -0.004967      0.004330         0.000879   \n",
              "1      -0.002830      0.005301     -0.001199         0.000000   \n",
              "2       0.003506      0.000000      0.000000         0.000000   \n",
              "3       0.000000      0.000000      0.000000         0.001801   \n",
              "4       0.009415      0.000000      0.000363         0.000000   \n",
              "\n",
              "   TotLen Bwd Pkts  Fwd Pkt Len Max  Fwd Pkt Len Min  Fwd Pkt Len Mean  \\\n",
              "0        -0.003071         0.001779         0.027115          0.019613   \n",
              "1        -0.001170        -0.001958        -0.001045         -0.002484   \n",
              "2         0.000000         0.000000         0.000000          0.000000   \n",
              "3         0.000000         0.000000         0.000000          0.000000   \n",
              "4         0.004775         0.007160         0.025359          0.021115   \n",
              "\n",
              "   Fwd Pkt Len Std  Bwd Pkt Len Max  ...  Fwd Act Data Pkts  Fwd Seg Size Min  \\\n",
              "0        -0.003975        -0.003574  ...           0.002282               0.0   \n",
              "1        -0.002926        -0.001644  ...           0.002617               0.0   \n",
              "2         0.000000         0.000000  ...           0.000000               0.0   \n",
              "3         0.000000         0.002624  ...           0.000000               0.0   \n",
              "4        -0.006812         0.002334  ...           0.000000               0.0   \n",
              "\n",
              "   Active Mean  Active Std  Active Max  Active Min  Idle Mean  Idle Std  \\\n",
              "0     0.002213   -0.002338   -0.006176    0.002351  -0.008196 -0.004187   \n",
              "1     0.000000    0.000000    0.000000    0.000993   0.003167 -0.002245   \n",
              "2     0.002892    0.000000    0.006891    0.000000   0.011819  0.000000   \n",
              "3     0.000000    0.002906    0.003095    0.000156   0.002264  0.000000   \n",
              "4     0.000000    0.000000   -0.007340    0.000000   0.000000  0.004586   \n",
              "\n",
              "   Idle Max  Idle Min  \n",
              "0  0.006137 -0.003489  \n",
              "1  0.000000 -0.002689  \n",
              "2  0.010661  0.000000  \n",
              "3  0.003021  0.000000  \n",
              "4  0.003858  0.000480  \n",
              "\n",
              "[5 rows x 76 columns]"
            ],
            "text/html": [
              "\n",
              "  <div id=\"df-01215c89-6206-4592-8156-6e5cb049dfb8\">\n",
              "    <div class=\"colab-df-container\">\n",
              "      <div>\n",
              "<style scoped>\n",
              "    .dataframe tbody tr th:only-of-type {\n",
              "        vertical-align: middle;\n",
              "    }\n",
              "\n",
              "    .dataframe tbody tr th {\n",
              "        vertical-align: top;\n",
              "    }\n",
              "\n",
              "    .dataframe thead th {\n",
              "        text-align: right;\n",
              "    }\n",
              "</style>\n",
              "<table border=\"1\" class=\"dataframe\">\n",
              "  <thead>\n",
              "    <tr style=\"text-align: right;\">\n",
              "      <th></th>\n",
              "      <th>Flow Duration</th>\n",
              "      <th>Tot Fwd Pkts</th>\n",
              "      <th>Tot Bwd Pkts</th>\n",
              "      <th>TotLen Fwd Pkts</th>\n",
              "      <th>TotLen Bwd Pkts</th>\n",
              "      <th>Fwd Pkt Len Max</th>\n",
              "      <th>Fwd Pkt Len Min</th>\n",
              "      <th>Fwd Pkt Len Mean</th>\n",
              "      <th>Fwd Pkt Len Std</th>\n",
              "      <th>Bwd Pkt Len Max</th>\n",
              "      <th>...</th>\n",
              "      <th>Fwd Act Data Pkts</th>\n",
              "      <th>Fwd Seg Size Min</th>\n",
              "      <th>Active Mean</th>\n",
              "      <th>Active Std</th>\n",
              "      <th>Active Max</th>\n",
              "      <th>Active Min</th>\n",
              "      <th>Idle Mean</th>\n",
              "      <th>Idle Std</th>\n",
              "      <th>Idle Max</th>\n",
              "      <th>Idle Min</th>\n",
              "    </tr>\n",
              "  </thead>\n",
              "  <tbody>\n",
              "    <tr>\n",
              "      <th>0</th>\n",
              "      <td>0.005324</td>\n",
              "      <td>-0.004967</td>\n",
              "      <td>0.004330</td>\n",
              "      <td>0.000879</td>\n",
              "      <td>-0.003071</td>\n",
              "      <td>0.001779</td>\n",
              "      <td>0.027115</td>\n",
              "      <td>0.019613</td>\n",
              "      <td>-0.003975</td>\n",
              "      <td>-0.003574</td>\n",
              "      <td>...</td>\n",
              "      <td>0.002282</td>\n",
              "      <td>0.0</td>\n",
              "      <td>0.002213</td>\n",
              "      <td>-0.002338</td>\n",
              "      <td>-0.006176</td>\n",
              "      <td>0.002351</td>\n",
              "      <td>-0.008196</td>\n",
              "      <td>-0.004187</td>\n",
              "      <td>0.006137</td>\n",
              "      <td>-0.003489</td>\n",
              "    </tr>\n",
              "    <tr>\n",
              "      <th>1</th>\n",
              "      <td>-0.002830</td>\n",
              "      <td>0.005301</td>\n",
              "      <td>-0.001199</td>\n",
              "      <td>0.000000</td>\n",
              "      <td>-0.001170</td>\n",
              "      <td>-0.001958</td>\n",
              "      <td>-0.001045</td>\n",
              "      <td>-0.002484</td>\n",
              "      <td>-0.002926</td>\n",
              "      <td>-0.001644</td>\n",
              "      <td>...</td>\n",
              "      <td>0.002617</td>\n",
              "      <td>0.0</td>\n",
              "      <td>0.000000</td>\n",
              "      <td>0.000000</td>\n",
              "      <td>0.000000</td>\n",
              "      <td>0.000993</td>\n",
              "      <td>0.003167</td>\n",
              "      <td>-0.002245</td>\n",
              "      <td>0.000000</td>\n",
              "      <td>-0.002689</td>\n",
              "    </tr>\n",
              "    <tr>\n",
              "      <th>2</th>\n",
              "      <td>0.003506</td>\n",
              "      <td>0.000000</td>\n",
              "      <td>0.000000</td>\n",
              "      <td>0.000000</td>\n",
              "      <td>0.000000</td>\n",
              "      <td>0.000000</td>\n",
              "      <td>0.000000</td>\n",
              "      <td>0.000000</td>\n",
              "      <td>0.000000</td>\n",
              "      <td>0.000000</td>\n",
              "      <td>...</td>\n",
              "      <td>0.000000</td>\n",
              "      <td>0.0</td>\n",
              "      <td>0.002892</td>\n",
              "      <td>0.000000</td>\n",
              "      <td>0.006891</td>\n",
              "      <td>0.000000</td>\n",
              "      <td>0.011819</td>\n",
              "      <td>0.000000</td>\n",
              "      <td>0.010661</td>\n",
              "      <td>0.000000</td>\n",
              "    </tr>\n",
              "    <tr>\n",
              "      <th>3</th>\n",
              "      <td>0.000000</td>\n",
              "      <td>0.000000</td>\n",
              "      <td>0.000000</td>\n",
              "      <td>0.001801</td>\n",
              "      <td>0.000000</td>\n",
              "      <td>0.000000</td>\n",
              "      <td>0.000000</td>\n",
              "      <td>0.000000</td>\n",
              "      <td>0.000000</td>\n",
              "      <td>0.002624</td>\n",
              "      <td>...</td>\n",
              "      <td>0.000000</td>\n",
              "      <td>0.0</td>\n",
              "      <td>0.000000</td>\n",
              "      <td>0.002906</td>\n",
              "      <td>0.003095</td>\n",
              "      <td>0.000156</td>\n",
              "      <td>0.002264</td>\n",
              "      <td>0.000000</td>\n",
              "      <td>0.003021</td>\n",
              "      <td>0.000000</td>\n",
              "    </tr>\n",
              "    <tr>\n",
              "      <th>4</th>\n",
              "      <td>0.009415</td>\n",
              "      <td>0.000000</td>\n",
              "      <td>0.000363</td>\n",
              "      <td>0.000000</td>\n",
              "      <td>0.004775</td>\n",
              "      <td>0.007160</td>\n",
              "      <td>0.025359</td>\n",
              "      <td>0.021115</td>\n",
              "      <td>-0.006812</td>\n",
              "      <td>0.002334</td>\n",
              "      <td>...</td>\n",
              "      <td>0.000000</td>\n",
              "      <td>0.0</td>\n",
              "      <td>0.000000</td>\n",
              "      <td>0.000000</td>\n",
              "      <td>-0.007340</td>\n",
              "      <td>0.000000</td>\n",
              "      <td>0.000000</td>\n",
              "      <td>0.004586</td>\n",
              "      <td>0.003858</td>\n",
              "      <td>0.000480</td>\n",
              "    </tr>\n",
              "  </tbody>\n",
              "</table>\n",
              "<p>5 rows × 76 columns</p>\n",
              "</div>\n",
              "      <button class=\"colab-df-convert\" onclick=\"convertToInteractive('df-01215c89-6206-4592-8156-6e5cb049dfb8')\"\n",
              "              title=\"Convert this dataframe to an interactive table.\"\n",
              "              style=\"display:none;\">\n",
              "        \n",
              "  <svg xmlns=\"http://www.w3.org/2000/svg\" height=\"24px\"viewBox=\"0 0 24 24\"\n",
              "       width=\"24px\">\n",
              "    <path d=\"M0 0h24v24H0V0z\" fill=\"none\"/>\n",
              "    <path d=\"M18.56 5.44l.94 2.06.94-2.06 2.06-.94-2.06-.94-.94-2.06-.94 2.06-2.06.94zm-11 1L8.5 8.5l.94-2.06 2.06-.94-2.06-.94L8.5 2.5l-.94 2.06-2.06.94zm10 10l.94 2.06.94-2.06 2.06-.94-2.06-.94-.94-2.06-.94 2.06-2.06.94z\"/><path d=\"M17.41 7.96l-1.37-1.37c-.4-.4-.92-.59-1.43-.59-.52 0-1.04.2-1.43.59L10.3 9.45l-7.72 7.72c-.78.78-.78 2.05 0 2.83L4 21.41c.39.39.9.59 1.41.59.51 0 1.02-.2 1.41-.59l7.78-7.78 2.81-2.81c.8-.78.8-2.07 0-2.86zM5.41 20L4 18.59l7.72-7.72 1.47 1.35L5.41 20z\"/>\n",
              "  </svg>\n",
              "      </button>\n",
              "      \n",
              "  <style>\n",
              "    .colab-df-container {\n",
              "      display:flex;\n",
              "      flex-wrap:wrap;\n",
              "      gap: 12px;\n",
              "    }\n",
              "\n",
              "    .colab-df-convert {\n",
              "      background-color: #E8F0FE;\n",
              "      border: none;\n",
              "      border-radius: 50%;\n",
              "      cursor: pointer;\n",
              "      display: none;\n",
              "      fill: #1967D2;\n",
              "      height: 32px;\n",
              "      padding: 0 0 0 0;\n",
              "      width: 32px;\n",
              "    }\n",
              "\n",
              "    .colab-df-convert:hover {\n",
              "      background-color: #E2EBFA;\n",
              "      box-shadow: 0px 1px 2px rgba(60, 64, 67, 0.3), 0px 1px 3px 1px rgba(60, 64, 67, 0.15);\n",
              "      fill: #174EA6;\n",
              "    }\n",
              "\n",
              "    [theme=dark] .colab-df-convert {\n",
              "      background-color: #3B4455;\n",
              "      fill: #D2E3FC;\n",
              "    }\n",
              "\n",
              "    [theme=dark] .colab-df-convert:hover {\n",
              "      background-color: #434B5C;\n",
              "      box-shadow: 0px 1px 3px 1px rgba(0, 0, 0, 0.15);\n",
              "      filter: drop-shadow(0px 1px 2px rgba(0, 0, 0, 0.3));\n",
              "      fill: #FFFFFF;\n",
              "    }\n",
              "  </style>\n",
              "\n",
              "      <script>\n",
              "        const buttonEl =\n",
              "          document.querySelector('#df-01215c89-6206-4592-8156-6e5cb049dfb8 button.colab-df-convert');\n",
              "        buttonEl.style.display =\n",
              "          google.colab.kernel.accessAllowed ? 'block' : 'none';\n",
              "\n",
              "        async function convertToInteractive(key) {\n",
              "          const element = document.querySelector('#df-01215c89-6206-4592-8156-6e5cb049dfb8');\n",
              "          const dataTable =\n",
              "            await google.colab.kernel.invokeFunction('convertToInteractive',\n",
              "                                                     [key], {});\n",
              "          if (!dataTable) return;\n",
              "\n",
              "          const docLinkHtml = 'Like what you see? Visit the ' +\n",
              "            '<a target=\"_blank\" href=https://colab.research.google.com/notebooks/data_table.ipynb>data table notebook</a>'\n",
              "            + ' to learn more about interactive tables.';\n",
              "          element.innerHTML = '';\n",
              "          dataTable['output_type'] = 'display_data';\n",
              "          await google.colab.output.renderOutput(dataTable, element);\n",
              "          const docLink = document.createElement('div');\n",
              "          docLink.innerHTML = docLinkHtml;\n",
              "          element.appendChild(docLink);\n",
              "        }\n",
              "      </script>\n",
              "    </div>\n",
              "  </div>\n",
              "  "
            ]
          },
          "metadata": {},
          "execution_count": 39
        }
      ]
    },
    {
      "cell_type": "code",
      "source": [
        "data_dict = {}\n",
        "for idx in range(0, 1500):\n",
        "  # Select the desired row and get the top 10 values's column names\n",
        "  row_values = data_df.iloc[idx].nlargest(10).index.tolist()\n",
        "\n",
        "  # Create a dictionary and add the list with filename as the key\n",
        "  data_dict['Normal sample ' + str(idx)] = row_values"
      ],
      "metadata": {
        "id": "QIGzCfEdP75J"
      },
      "execution_count": 55,
      "outputs": []
    },
    {
      "cell_type": "code",
      "source": [
        "print(data_dict)"
      ],
      "metadata": {
        "colab": {
          "base_uri": "https://localhost:8080/"
        },
        "id": "PaG1SmFiS7U4",
        "outputId": "cdaf9137-c4c0-41d0-8b3c-7cc39f86cd75"
      },
      "execution_count": 56,
      "outputs": [
        {
          "output_type": "stream",
          "name": "stdout",
          "text": [
            "{'Normal sample 0': ['SYN Flag Cnt', 'Init Fwd Win Byts', 'FIN Flag Cnt', 'Pkt Len Min', 'Pkt Size Avg', 'ACK Flag Cnt', 'Flow Pkts/s', 'Pkt Len Mean', 'Bwd Pkt Len Min', 'Pkt Len Max'], 'Normal sample 1': ['Init Fwd Win Byts', 'FIN Flag Cnt', 'Tot Fwd Pkts', 'Down/Up Ratio', 'Bwd IAT Tot', 'Bwd IAT Max', 'Idle Mean', 'Bwd IAT Std', 'Fwd Act Data Pkts', 'Pkt Len Std'], 'Normal sample 2': ['Down/Up Ratio', 'Init Fwd Win Byts', 'SYN Flag Cnt', 'ACK Flag Cnt', 'FIN Flag Cnt', 'Idle Mean', 'Idle Max', 'PSH Flag Cnt', 'Active Max', 'URG Flag Cnt'], 'Normal sample 3': ['Down/Up Ratio', 'Init Fwd Win Byts', 'SYN Flag Cnt', 'FIN Flag Cnt', 'ACK Flag Cnt', 'PSH Flag Cnt', 'Bwd Pkts/s', 'Flow IAT Max', 'Subflow Bwd Byts', 'Active Max'], 'Normal sample 4': ['SYN Flag Cnt', 'Init Fwd Win Byts', 'Pkt Size Avg', 'FIN Flag Cnt', 'Pkt Len Min', 'Pkt Len Mean', 'Bwd Pkt Len Min', 'ACK Flag Cnt', 'Pkt Len Max', 'Flow Pkts/s'], 'Normal sample 5': ['Down/Up Ratio', 'Init Fwd Win Byts', 'FIN Flag Cnt', 'Pkt Size Avg', 'Bwd Pkts/s', 'Fwd Header Len', 'Flow IAT Max', 'Fwd Pkts/s', 'Bwd Pkt Len Min', 'Bwd IAT Std'], 'Normal sample 6': ['SYN Flag Cnt', 'Init Fwd Win Byts', 'FIN Flag Cnt', 'Pkt Len Min', 'Pkt Len Max', 'ACK Flag Cnt', 'Pkt Size Avg', 'Flow Pkts/s', 'Bwd Pkt Len Min', 'Bwd Pkts/s'], 'Normal sample 7': ['Fwd Pkt Len Min', 'Fwd Pkt Len Max', 'Fwd Pkt Len Mean', 'Fwd Seg Size Avg', 'Pkt Len Max', 'SYN Flag Cnt', 'Pkt Len Mean', 'Pkt Size Avg', 'Fwd Pkt Len Std', 'Pkt Len Std'], 'Normal sample 8': ['SYN Flag Cnt', 'Down/Up Ratio', 'Init Fwd Win Byts', 'FIN Flag Cnt', 'Bwd IAT Std', 'URG Flag Cnt', 'Idle Max', 'Flow IAT Std', 'Tot Fwd Pkts', 'Bwd IAT Mean'], 'Normal sample 9': ['Pkt Size Avg', 'Pkt Len Mean', 'Flow Byts/s', 'Pkt Len Max', 'PSH Flag Cnt', 'ACK Flag Cnt', 'Active Mean', 'Fwd Pkt Len Max', 'SYN Flag Cnt', 'Subflow Bwd Pkts'], 'Normal sample 10': ['SYN Flag Cnt', 'Init Fwd Win Byts', 'FIN Flag Cnt', 'Pkt Size Avg', 'Pkt Len Min', 'Fwd Pkt Len Min', 'Bwd Pkt Len Min', 'ACK Flag Cnt', 'Pkt Len Mean', 'Flow Pkts/s'], 'Normal sample 11': ['Init Bwd Win Byts', 'Bwd Pkt Len Min', 'SYN Flag Cnt', 'Bwd Pkts/s', 'Flow Pkts/s', 'FIN Flag Cnt', 'Pkt Size Avg', 'Bwd IAT Std', 'Flow IAT Max', 'Down/Up Ratio'], 'Normal sample 12': ['SYN Flag Cnt', 'Init Fwd Win Byts', 'ACK Flag Cnt', 'FIN Flag Cnt', 'Pkt Size Avg', 'Pkt Len Min', 'Pkt Len Mean', 'Flow Pkts/s', 'Bwd Pkt Len Min', 'Pkt Len Max'], 'Normal sample 13': ['SYN Flag Cnt', 'ACK Flag Cnt', 'Init Fwd Win Byts', 'Down/Up Ratio', 'Idle Std', 'Idle Max', 'Active Min', 'Idle Mean', 'Flow Duration', 'Flow IAT Max'], 'Normal sample 14': ['Init Bwd Win Byts', 'Fwd IAT Tot', 'Fwd IAT Std', 'Bwd IAT Tot', 'Down/Up Ratio', 'Fwd Pkt Len Max', 'ACK Flag Cnt', 'Bwd Pkts/s', 'Pkt Size Avg', 'Fwd IAT Max'], 'Normal sample 15': ['Init Bwd Win Byts', 'Pkt Size Avg', 'Pkt Len Max', 'Down/Up Ratio', 'FIN Flag Cnt', 'Pkt Len Mean', 'Fwd Pkt Len Max', 'Fwd Seg Size Avg', 'Flow Pkts/s', 'Pkt Len Std'], 'Normal sample 16': ['SYN Flag Cnt', 'Init Fwd Win Byts', 'ACK Flag Cnt', 'FIN Flag Cnt', 'Flow Pkts/s', 'Pkt Len Min', 'Bwd Pkt Len Min', 'Pkt Size Avg', 'Pkt Len Mean', 'Bwd Pkts/s'], 'Normal sample 17': ['Init Bwd Win Byts', 'Fwd IAT Tot', 'SYN Flag Cnt', 'Fwd IAT Std', 'Bwd Pkts/s', 'Fwd Pkt Len Max', 'Fwd Pkt Len Mean', 'Down/Up Ratio', 'Fwd Seg Size Avg', 'FIN Flag Cnt'], 'Normal sample 18': ['SYN Flag Cnt', 'FIN Flag Cnt', 'Fwd Pkt Len Mean', 'Fwd Pkt Len Min', 'Fwd Seg Size Avg', 'Pkt Size Avg', 'Pkt Len Min', 'Bwd Pkt Len Min', 'Pkt Len Mean', 'Bwd Pkts/s'], 'Normal sample 19': ['Flow Byts/s', 'Pkt Size Avg', 'SYN Flag Cnt', 'Pkt Len Mean', 'Pkt Len Max', 'Down/Up Ratio', 'Fwd Pkt Len Mean', 'Fwd Pkt Len Std', 'Fwd Pkt Len Max', 'Fwd Seg Size Avg'], 'Normal sample 20': ['Init Bwd Win Byts', 'Pkt Len Max', 'Pkt Size Avg', 'Fwd Pkt Len Max', 'Pkt Len Mean', 'Down/Up Ratio', 'Fwd Pkt Len Std', 'Pkt Len Std', 'Flow IAT Max', 'Flow Pkts/s'], 'Normal sample 21': ['SYN Flag Cnt', 'Init Fwd Win Byts', 'FIN Flag Cnt', 'Pkt Len Min', 'Pkt Size Avg', 'Flow Pkts/s', 'Bwd Pkt Len Min', 'Pkt Len Max', 'Bwd Pkts/s', 'ACK Flag Cnt'], 'Normal sample 22': ['Init Bwd Win Byts', 'SYN Flag Cnt', 'Flow Pkts/s', 'Bwd Pkts/s', 'FIN Flag Cnt', 'Down/Up Ratio', 'Init Fwd Win Byts', 'Fwd Pkt Len Max', 'Fwd Seg Size Avg', 'Fwd Pkt Len Mean'], 'Normal sample 23': ['Init Bwd Win Byts', 'Bwd PSH Flags', 'Idle Max', 'Idle Min', 'Fwd IAT Tot', 'Fwd IAT Std', 'SYN Flag Cnt', 'PSH Flag Cnt', 'Init Fwd Win Byts', 'Idle Mean'], 'Normal sample 24': ['Pkt Len Max', 'Init Bwd Win Byts', 'Pkt Len Std', 'Fwd IAT Tot', 'Pkt Size Avg', 'Fwd IAT Max', 'Pkt Len Mean', 'Bwd IAT Tot', 'Flow Duration', 'Flow IAT Max'], 'Normal sample 25': ['Down/Up Ratio', 'Init Fwd Win Byts', 'SYN Flag Cnt', 'ACK Flag Cnt', 'FIN Flag Cnt', 'Bwd Pkts/s', 'Flow Duration', 'PSH Flag Cnt', 'Flow IAT Max', 'Fwd Act Data Pkts'], 'Normal sample 26': ['SYN Flag Cnt', 'Init Fwd Win Byts', 'ACK Flag Cnt', 'FIN Flag Cnt', 'Flow Pkts/s', 'Pkt Len Min', 'Bwd Pkts/s', 'Pkt Size Avg', 'Bwd Pkt Len Min', 'Pkt Len Mean'], 'Normal sample 27': ['SYN Flag Cnt', 'Init Fwd Win Byts', 'FIN Flag Cnt', 'Pkt Len Min', 'Pkt Size Avg', 'ACK Flag Cnt', 'Flow Pkts/s', 'Pkt Len Max', 'Bwd Pkt Len Min', 'Pkt Len Mean'], 'Normal sample 28': ['SYN Flag Cnt', 'Init Fwd Win Byts', 'FIN Flag Cnt', 'Pkt Len Min', 'Pkt Size Avg', 'ACK Flag Cnt', 'Flow Pkts/s', 'Bwd Pkt Len Min', 'Pkt Len Mean', 'Bwd Pkts/s'], 'Normal sample 29': ['Init Bwd Win Byts', 'SYN Flag Cnt', 'Down/Up Ratio', 'FIN Flag Cnt', 'Flow Pkts/s', 'Flow IAT Mean', 'Idle Min', 'Flow IAT Max', 'Flow Duration', 'Bwd IAT Std'], 'Normal sample 30': ['Down/Up Ratio', 'Init Fwd Win Byts', 'SYN Flag Cnt', 'ACK Flag Cnt', 'FIN Flag Cnt', 'Idle Max', 'Bwd Seg Size Avg', 'Flow Duration', 'Flow IAT Mean', 'PSH Flag Cnt'], 'Normal sample 31': ['Down/Up Ratio', 'Init Fwd Win Byts', 'SYN Flag Cnt', 'ACK Flag Cnt', 'FIN Flag Cnt', 'PSH Flag Cnt', 'Flow IAT Std', 'Active Max', 'Bwd Pkt Len Max', 'Bwd Pkts/s'], 'Normal sample 32': ['Init Bwd Win Byts', 'Bwd IAT Tot', 'Fwd Pkt Len Max', 'Fwd Pkt Len Std', 'Fwd Seg Size Avg', 'Fwd Pkt Len Min', 'Bwd IAT Max', 'Flow Pkts/s', 'Init Fwd Win Byts', 'Pkt Len Std'], 'Normal sample 33': ['SYN Flag Cnt', 'Init Fwd Win Byts', 'ACK Flag Cnt', 'FIN Flag Cnt', 'Flow Pkts/s', 'Bwd Pkts/s', 'Pkt Len Min', 'Bwd Pkt Len Min', 'Pkt Size Avg', 'Fwd Pkt Len Min'], 'Normal sample 34': ['Down/Up Ratio', 'Init Fwd Win Byts', 'SYN Flag Cnt', 'ACK Flag Cnt', 'FIN Flag Cnt', 'Bwd Pkts/s', 'Idle Mean', 'Bwd Seg Size Avg', 'Idle Max', 'Pkt Len Var'], 'Normal sample 35': ['SYN Flag Cnt', 'Pkt Size Avg', 'Bwd Pkt Len Min', 'Pkt Len Min', 'FIN Flag Cnt', 'Flow Pkts/s', 'Pkt Len Mean', 'Pkt Len Max', 'Pkt Len Std', 'Bwd Pkts/s'], 'Normal sample 36': ['SYN Flag Cnt', 'FIN Flag Cnt', 'Bwd Pkt Len Min', 'Pkt Size Avg', 'Pkt Len Min', 'Fwd Pkt Len Min', 'Pkt Len Mean', 'Fwd Seg Size Avg', 'Flow Pkts/s', 'Flow Byts/s'], 'Normal sample 37': ['SYN Flag Cnt', 'Init Fwd Win Byts', 'FIN Flag Cnt', 'Pkt Size Avg', 'Pkt Len Min', 'Flow Pkts/s', 'ACK Flag Cnt', 'Bwd Pkt Len Min', 'Pkt Len Max', 'Pkt Len Mean'], 'Normal sample 38': ['Init Bwd Win Byts', 'Pkt Len Mean', 'Fwd Pkt Len Std', 'Fwd Pkt Len Max', 'FIN Flag Cnt', 'Fwd Pkt Len Mean', 'Pkt Len Std', 'Down/Up Ratio', 'Bwd IAT Max', 'Pkt Size Avg'], 'Normal sample 39': ['Init Bwd Win Byts', 'Fwd IAT Tot', 'Fwd IAT Std', 'Fwd Pkt Len Std', 'Fwd Pkt Len Max', 'FIN Flag Cnt', 'Pkt Len Mean', 'Fwd IAT Max', 'Bwd Pkt Len Min', 'Flow IAT Max'], 'Normal sample 40': ['Down/Up Ratio', 'Init Fwd Win Byts', 'SYN Flag Cnt', 'ACK Flag Cnt', 'FIN Flag Cnt', 'Pkt Len Var', 'Flow Duration', 'Idle Mean', 'Bwd Seg Size Avg', 'Subflow Fwd Byts'], 'Normal sample 41': ['Init Bwd Win Byts', 'SYN Flag Cnt', 'Down/Up Ratio', 'Bwd Pkts/s', 'Flow Pkts/s', 'FIN Flag Cnt', 'Pkt Len Std', 'Init Fwd Win Byts', 'Pkt Size Avg', 'Subflow Fwd Pkts'], 'Normal sample 42': ['SYN Flag Cnt', 'Fwd Pkt Len Std', 'Fwd Pkt Len Mean', 'Fwd Pkt Len Max', 'Fwd Seg Size Avg', 'Pkt Size Avg', 'Pkt Len Mean', 'Pkt Len Max', 'Down/Up Ratio', 'Bwd Pkts/s'], 'Normal sample 43': ['Down/Up Ratio', 'Init Fwd Win Byts', 'SYN Flag Cnt', 'ACK Flag Cnt', 'FIN Flag Cnt', 'Bwd Pkts/s', 'PSH Flag Cnt', 'Bwd Header Len', 'Subflow Fwd Byts', 'Flow IAT Max'], 'Normal sample 44': ['Init Bwd Win Byts', 'SYN Flag Cnt', 'Flow Pkts/s', 'Bwd PSH Flags', 'Bwd Pkts/s', 'Pkt Size Avg', 'Flow IAT Max', 'Bwd IAT Min', 'Pkt Len Std', 'Active Min'], 'Normal sample 45': ['SYN Flag Cnt', 'Init Fwd Win Byts', 'FIN Flag Cnt', 'ACK Flag Cnt', 'Pkt Len Min', 'Flow Pkts/s', 'Pkt Len Max', 'Pkt Size Avg', 'Bwd Pkt Len Min', 'Pkt Len Mean'], 'Normal sample 46': ['SYN Flag Cnt', 'Init Fwd Win Byts', 'FIN Flag Cnt', 'Pkt Len Min', 'Pkt Size Avg', 'ACK Flag Cnt', 'Bwd Pkt Len Min', 'Pkt Len Max', 'Flow Pkts/s', 'Pkt Len Std'], 'Normal sample 47': ['Init Bwd Win Byts', 'Pkt Size Avg', 'Pkt Len Mean', 'Pkt Len Max', 'Fwd Pkt Len Max', 'FIN Flag Cnt', 'Fwd Pkt Len Std', 'Flow Duration', 'Bwd IAT Std', 'Pkt Len Std'], 'Normal sample 48': ['SYN Flag Cnt', 'Init Fwd Win Byts', 'FIN Flag Cnt', 'Pkt Size Avg', 'ACK Flag Cnt', 'Pkt Len Min', 'Flow Pkts/s', 'Pkt Len Max', 'Pkt Len Mean', 'Bwd Pkt Len Min'], 'Normal sample 49': ['SYN Flag Cnt', 'Init Fwd Win Byts', 'ACK Flag Cnt', 'FIN Flag Cnt', 'Flow Pkts/s', 'Pkt Len Min', 'Pkt Size Avg', 'Pkt Len Mean', 'Bwd Pkt Len Min', 'Bwd Pkts/s'], 'Normal sample 50': ['Init Bwd Win Byts', 'Fwd IAT Tot', 'Fwd Pkt Len Max', 'Bwd IAT Tot', 'Pkt Len Max', 'Fwd Pkt Len Std', 'Fwd IAT Max', 'ACK Flag Cnt', 'Flow IAT Max', 'Bwd Pkts/s'], 'Normal sample 51': ['Init Bwd Win Byts', 'Pkt Size Avg', 'Pkt Len Mean', 'Pkt Len Max', 'Fwd Pkt Len Max', 'Down/Up Ratio', 'Fwd Pkt Len Std', 'ACK Flag Cnt', 'Idle Max', 'Tot Bwd Pkts'], 'Normal sample 52': ['SYN Flag Cnt', 'Init Fwd Win Byts', 'ACK Flag Cnt', 'Bwd Pkts/s', 'FIN Flag Cnt', 'Pkt Len Mean', 'Flow Pkts/s', 'Pkt Size Avg', 'Pkt Len Min', 'Pkt Len Max'], 'Normal sample 53': ['SYN Flag Cnt', 'Init Fwd Win Byts', 'FIN Flag Cnt', 'Pkt Size Avg', 'Pkt Len Min', 'ACK Flag Cnt', 'Pkt Len Mean', 'Flow Pkts/s', 'Pkt Len Max', 'Bwd Pkt Len Min'], 'Normal sample 54': ['SYN Flag Cnt', 'Init Fwd Win Byts', 'FIN Flag Cnt', 'Pkt Size Avg', 'Pkt Len Min', 'ACK Flag Cnt', 'Flow Pkts/s', 'Pkt Len Mean', 'Bwd Pkts/s', 'Bwd Pkt Len Min'], 'Normal sample 55': ['Init Bwd Win Byts', 'SYN Flag Cnt', 'Fwd IAT Std', 'Fwd IAT Tot', 'Init Fwd Win Byts', 'Bwd Pkts/s', 'Bwd IAT Max', 'FIN Flag Cnt', 'Fwd Pkt Len Std', 'Bwd IAT Tot'], 'Normal sample 56': ['Fwd Pkt Len Min', 'SYN Flag Cnt', 'Fwd Pkt Len Mean', 'Fwd Pkt Len Max', 'Fwd Seg Size Avg', 'Fwd Pkt Len Std', 'Pkt Len Mean', 'Pkt Size Avg', 'Pkt Len Max', 'Bwd Pkts/s'], 'Normal sample 57': ['Init Bwd Win Byts', 'SYN Flag Cnt', 'Bwd Pkt Len Min', 'Down/Up Ratio', 'Pkt Size Avg', 'Pkt Len Mean', 'Bwd PSH Flags', 'Flow IAT Max', 'FIN Flag Cnt', 'Active Min'], 'Normal sample 58': ['Down/Up Ratio', 'Init Fwd Win Byts', 'FIN Flag Cnt', 'Bwd Pkts/s', 'Flow IAT Max', 'Flow Pkts/s', 'Bwd Pkt Len Std', 'Bwd Seg Size Avg', 'Idle Mean', 'Bwd URG Flags'], 'Normal sample 59': ['SYN Flag Cnt', 'Init Fwd Win Byts', 'ACK Flag Cnt', 'FIN Flag Cnt', 'Pkt Size Avg', 'Flow Pkts/s', 'Pkt Len Min', 'Pkt Len Mean', 'Bwd Pkt Len Min', 'Bwd Pkts/s'], 'Normal sample 60': ['Init Bwd Win Byts', 'Fwd IAT Tot', 'SYN Flag Cnt', 'Fwd Pkt Len Std', 'Fwd Pkt Len Max', 'Down/Up Ratio', 'Fwd Seg Size Avg', 'Pkt Len Max', 'Fwd Pkt Len Mean', 'Pkt Len Std'], 'Normal sample 61': ['Init Fwd Win Byts', 'FIN Flag Cnt', 'Down/Up Ratio', 'Bwd Seg Size Avg', 'Active Min', 'Fwd IAT Std', 'Bwd IAT Std', 'Tot Fwd Pkts', 'Pkt Len Min', 'TotLen Bwd Pkts'], 'Normal sample 62': ['Down/Up Ratio', 'Init Fwd Win Byts', 'SYN Flag Cnt', 'ACK Flag Cnt', 'FIN Flag Cnt', 'Bwd IAT Tot', 'Bwd Pkts/s', 'Active Mean', 'Idle Max', 'Idle Std'], 'Normal sample 63': ['Down/Up Ratio', 'Init Fwd Win Byts', 'SYN Flag Cnt', 'FIN Flag Cnt', 'ACK Flag Cnt', 'PSH Flag Cnt', 'Idle Mean', 'Flow IAT Max', 'Bwd Seg Size Avg', 'Bwd PSH Flags'], 'Normal sample 64': ['Down/Up Ratio', 'Bwd PSH Flags', 'Init Fwd Win Byts', 'ACK Flag Cnt', 'SYN Flag Cnt', 'Bwd Pkts/s', 'FIN Flag Cnt', 'PSH Flag Cnt', 'Bwd IAT Std', 'Flow IAT Std'], 'Normal sample 65': ['Init Bwd Win Byts', 'Fwd IAT Tot', 'Fwd Pkt Len Max', 'Fwd IAT Std', 'Pkt Len Max', 'Fwd Pkt Len Std', 'Fwd Seg Size Avg', 'Flow Duration', 'Fwd IAT Max', 'FIN Flag Cnt'], 'Normal sample 66': ['SYN Flag Cnt', 'Init Fwd Win Byts', 'FIN Flag Cnt', 'ACK Flag Cnt', 'Pkt Len Min', 'Pkt Size Avg', 'Bwd Pkt Len Min', 'Pkt Len Max', 'Flow Pkts/s', 'Pkt Len Mean'], 'Normal sample 67': ['SYN Flag Cnt', 'Down/Up Ratio', 'Init Fwd Win Byts', 'FIN Flag Cnt', 'Idle Std', 'Fwd IAT Tot', 'Subflow Fwd Byts', 'Fwd IAT Max', 'Flow IAT Std', 'Bwd IAT Std'], 'Normal sample 68': ['Init Bwd Win Byts', 'SYN Flag Cnt', 'ACK Flag Cnt', 'Idle Mean', 'URG Flag Cnt', 'Bwd IAT Max', 'Idle Min', 'Flow IAT Max', 'Bwd Pkt Len Std', 'Bwd Seg Size Avg'], 'Normal sample 69': ['Init Bwd Win Byts', 'Fwd IAT Tot', 'Bwd IAT Tot', 'Fwd Pkt Len Max', 'Down/Up Ratio', 'Pkt Len Std', 'Pkt Size Avg', 'Pkt Len Max', 'Fwd IAT Std', 'FIN Flag Cnt'], 'Normal sample 70': ['SYN Flag Cnt', 'Init Fwd Win Byts', 'FIN Flag Cnt', 'ACK Flag Cnt', 'Pkt Len Min', 'Flow Pkts/s', 'Pkt Size Avg', 'Bwd Pkts/s', 'Bwd Pkt Len Min', 'Pkt Len Max'], 'Normal sample 71': ['Init Bwd Win Byts', 'Fwd IAT Tot', 'Bwd PSH Flags', 'Fwd IAT Std', 'SYN Flag Cnt', 'Down/Up Ratio', 'FIN Flag Cnt', 'Pkt Len Mean', 'Bwd Pkts/s', 'Init Fwd Win Byts'], 'Normal sample 72': ['Down/Up Ratio', 'Init Fwd Win Byts', 'SYN Flag Cnt', 'FIN Flag Cnt', 'ACK Flag Cnt', 'Pkt Len Min', 'Flow Pkts/s', 'Bwd Pkt Len Min', 'PSH Flag Cnt', 'Flow IAT Mean'], 'Normal sample 73': ['SYN Flag Cnt', 'Fwd Pkt Len Std', 'Fwd Pkt Len Max', 'Fwd Pkt Len Mean', 'Fwd Seg Size Avg', 'Pkt Len Max', 'Bwd Pkts/s', 'Pkt Len Mean', 'Pkt Size Avg', 'FIN Flag Cnt'], 'Normal sample 74': ['SYN Flag Cnt', 'Init Fwd Win Byts', 'ACK Flag Cnt', 'FIN Flag Cnt', 'Pkt Size Avg', 'Pkt Len Min', 'Flow Pkts/s', 'Bwd Pkt Len Min', 'Pkt Len Mean', 'Pkt Len Max'], 'Normal sample 75': ['SYN Flag Cnt', 'Init Fwd Win Byts', 'ACK Flag Cnt', 'FIN Flag Cnt', 'Flow Pkts/s', 'Pkt Len Min', 'Pkt Size Avg', 'Bwd Pkts/s', 'Pkt Len Max', 'Bwd Pkt Len Min'], 'Normal sample 76': ['Down/Up Ratio', 'Bwd PSH Flags', 'Init Fwd Win Byts', 'ACK Flag Cnt', 'SYN Flag Cnt', 'Bwd Pkts/s', 'PSH Flag Cnt', 'FIN Flag Cnt', 'Flow Pkts/s', 'Idle Max'], 'Normal sample 77': ['SYN Flag Cnt', 'Init Fwd Win Byts', 'ACK Flag Cnt', 'FIN Flag Cnt', 'Flow Pkts/s', 'Bwd Pkts/s', 'Pkt Len Min', 'Bwd Pkt Len Min', 'Pkt Size Avg', 'Fwd Pkt Len Min'], 'Normal sample 78': ['Down/Up Ratio', 'Init Fwd Win Byts', 'SYN Flag Cnt', 'FIN Flag Cnt', 'Bwd Pkts/s', 'PSH Flag Cnt', 'Flow IAT Max', 'Bwd Seg Size Avg', 'URG Flag Cnt', 'Bwd IAT Std'], 'Normal sample 79': ['Init Bwd Win Byts', 'Pkt Size Avg', 'Pkt Len Max', 'Pkt Len Mean', 'Fwd IAT Tot', 'FIN Flag Cnt', 'Fwd Pkt Len Max', 'Fwd IAT Std', 'Pkt Len Std', 'Fwd Pkt Len Std'], 'Normal sample 80': ['Init Bwd Win Byts', 'Pkt Len Max', 'Pkt Size Avg', 'Pkt Len Mean', 'Pkt Len Std', 'Down/Up Ratio', 'Fwd IAT Max', 'Fwd IAT Tot', 'Bwd IAT Tot', 'Flow IAT Max'], 'Normal sample 81': ['Down/Up Ratio', 'Init Fwd Win Byts', 'SYN Flag Cnt', 'FIN Flag Cnt', 'ACK Flag Cnt', 'Bwd Pkts/s', 'Bwd IAT Min', 'Flow Duration', 'Subflow Bwd Pkts', 'Flow IAT Std'], 'Normal sample 82': ['SYN Flag Cnt', 'Init Fwd Win Byts', 'FIN Flag Cnt', 'Pkt Len Min', 'Pkt Size Avg', 'ACK Flag Cnt', 'Flow Pkts/s', 'Bwd Pkt Len Min', 'Pkt Len Mean', 'Pkt Len Std'], 'Normal sample 83': ['SYN Flag Cnt', 'FIN Flag Cnt', 'Pkt Len Min', 'Pkt Size Avg', 'Flow Byts/s', 'Bwd Pkt Len Min', 'Fwd Pkt Len Min', 'Pkt Len Mean', 'Fwd Seg Size Avg', 'Flow Pkts/s'], 'Normal sample 84': ['SYN Flag Cnt', 'Init Fwd Win Byts', 'ACK Flag Cnt', 'FIN Flag Cnt', 'Pkt Len Min', 'Flow Pkts/s', 'Bwd Pkts/s', 'Pkt Size Avg', 'Bwd Pkt Len Min', 'Pkt Len Max'], 'Normal sample 85': ['Init Bwd Win Byts', 'SYN Flag Cnt', 'Bwd PSH Flags', 'Bwd Pkts/s', 'Down/Up Ratio', 'Bwd Pkt Len Min', 'Flow Pkts/s', 'FIN Flag Cnt', 'Pkt Size Avg', 'Pkt Len Mean'], 'Normal sample 86': ['SYN Flag Cnt', 'Init Fwd Win Byts', 'FIN Flag Cnt', 'ACK Flag Cnt', 'Pkt Len Min', 'Pkt Len Max', 'Pkt Size Avg', 'Flow Pkts/s', 'Bwd Pkt Len Min', 'Pkt Len Mean'], 'Normal sample 87': ['Down/Up Ratio', 'Bwd PSH Flags', 'Init Fwd Win Byts', 'ACK Flag Cnt', 'SYN Flag Cnt', 'Bwd Pkts/s', 'FIN Flag Cnt', 'PSH Flag Cnt', 'Bwd Header Len', 'Fwd Pkts/s'], 'Normal sample 88': ['Fwd IAT Tot', 'SYN Flag Cnt', 'Down/Up Ratio', 'ACK Flag Cnt', 'Init Fwd Win Byts', 'Tot Bwd Pkts', 'Subflow Bwd Pkts', 'Fwd IAT Min', 'FIN Flag Cnt', 'Fwd IAT Max'], 'Normal sample 89': ['Init Bwd Win Byts', 'SYN Flag Cnt', 'ACK Flag Cnt', 'Bwd IAT Std', 'Flow IAT Max', 'Idle Min', 'Pkt Len Var', 'Flow IAT Std', 'Bwd IAT Max', 'Flow Pkts/s'], 'Normal sample 90': ['SYN Flag Cnt', 'Init Fwd Win Byts', 'ACK Flag Cnt', 'FIN Flag Cnt', 'Pkt Size Avg', 'Flow Pkts/s', 'Pkt Len Min', 'Bwd Pkt Len Min', 'Pkt Len Max', 'Bwd Pkts/s'], 'Normal sample 91': ['SYN Flag Cnt', 'Init Fwd Win Byts', 'FIN Flag Cnt', 'Pkt Size Avg', 'ACK Flag Cnt', 'Pkt Len Min', 'Flow Pkts/s', 'Pkt Len Mean', 'Bwd Pkt Len Min', 'Pkt Len Max'], 'Normal sample 92': ['SYN Flag Cnt', 'Init Fwd Win Byts', 'FIN Flag Cnt', 'Pkt Len Min', 'Pkt Size Avg', 'ACK Flag Cnt', 'Bwd Pkt Len Min', 'Flow Pkts/s', 'Pkt Len Mean', 'Pkt Len Max'], 'Normal sample 93': ['Init Fwd Win Byts', 'SYN Flag Cnt', 'ACK Flag Cnt', 'Down/Up Ratio', 'Active Max', 'Tot Bwd Pkts', 'Fwd Pkts/s', 'Subflow Fwd Pkts', 'Flow IAT Max', 'Bwd Pkt Len Max'], 'Normal sample 94': ['SYN Flag Cnt', 'Init Fwd Win Byts', 'FIN Flag Cnt', 'ACK Flag Cnt', 'Pkt Size Avg', 'Pkt Len Min', 'Pkt Len Max', 'Flow Pkts/s', 'Pkt Len Mean', 'Bwd Pkt Len Min'], 'Normal sample 95': ['SYN Flag Cnt', 'FIN Flag Cnt', 'Pkt Size Avg', 'Pkt Len Min', 'Bwd Pkt Len Min', 'Fwd Pkt Len Min', 'Flow Pkts/s', 'Pkt Len Mean', 'Fwd Pkt Len Mean', 'Bwd Pkts/s'], 'Normal sample 96': ['Init Bwd Win Byts', 'SYN Flag Cnt', 'ACK Flag Cnt', 'Flow IAT Max', 'Flow IAT Mean', 'Bwd IAT Max', 'Bwd Pkt Len Std', 'Bwd IAT Tot', 'Idle Max', 'Fwd Pkt Len Max'], 'Normal sample 97': ['Init Bwd Win Byts', 'SYN Flag Cnt', 'Down/Up Ratio', 'FIN Flag Cnt', 'Flow Pkts/s', 'Flow IAT Max', 'Fwd IAT Tot', 'Idle Mean', 'Idle Max', 'Bwd IAT Std'], 'Normal sample 98': ['SYN Flag Cnt', 'Init Fwd Win Byts', 'FIN Flag Cnt', 'ACK Flag Cnt', 'Pkt Len Min', 'Pkt Size Avg', 'Pkt Len Mean', 'Flow Pkts/s', 'Bwd Pkt Len Min', 'Bwd Pkts/s'], 'Normal sample 99': ['Down/Up Ratio', 'Bwd PSH Flags', 'Init Fwd Win Byts', 'ACK Flag Cnt', 'SYN Flag Cnt', 'Bwd Pkts/s', 'FIN Flag Cnt', 'PSH Flag Cnt', 'Flow Pkts/s', 'Bwd Pkt Len Std'], 'Normal sample 100': ['Init Bwd Win Byts', 'SYN Flag Cnt', 'Fwd IAT Tot', 'Down/Up Ratio', 'Fwd IAT Std', 'Fwd Pkt Len Max', 'Bwd IAT Tot', 'FIN Flag Cnt', 'Fwd IAT Max', 'Flow Pkts/s'], 'Normal sample 101': ['Down/Up Ratio', 'Init Fwd Win Byts', 'SYN Flag Cnt', 'ACK Flag Cnt', 'FIN Flag Cnt', 'Bwd Pkts/s', 'Idle Std', 'Flow IAT Std', 'PSH Flag Cnt', 'Fwd Pkt Len Min'], 'Normal sample 102': ['SYN Flag Cnt', 'Init Fwd Win Byts', 'FIN Flag Cnt', 'Pkt Size Avg', 'ACK Flag Cnt', 'Pkt Len Min', 'Flow Pkts/s', 'Pkt Len Mean', 'Bwd Pkt Len Min', 'Pkt Len Max'], 'Normal sample 103': ['Init Bwd Win Byts', 'Fwd IAT Tot', 'Down/Up Ratio', 'Fwd IAT Std', 'Pkt Len Max', 'ACK Flag Cnt', 'Fwd Pkt Len Max', 'Bwd IAT Tot', 'FIN Flag Cnt', 'Init Fwd Win Byts'], 'Normal sample 104': ['SYN Flag Cnt', 'FIN Flag Cnt', 'Pkt Len Min', 'Pkt Size Avg', 'Bwd Pkt Len Min', 'Init Fwd Win Byts', 'Flow Pkts/s', 'Pkt Len Mean', 'Fwd Pkt Len Min', 'Pkt Len Max'], 'Normal sample 105': ['Down/Up Ratio', 'Init Fwd Win Byts', 'FIN Flag Cnt', 'Flow Pkts/s', 'Bwd Pkt Len Std', 'Bwd Pkts/s', 'URG Flag Cnt', 'Bwd Seg Size Avg', 'Bwd IAT Tot', 'PSH Flag Cnt'], 'Normal sample 106': ['SYN Flag Cnt', 'FIN Flag Cnt', 'Flow Byts/s', 'Pkt Len Min', 'Pkt Size Avg', 'Bwd Pkt Len Min', 'Pkt Len Mean', 'Fwd Pkt Len Min', 'Fwd Seg Size Avg', 'Down/Up Ratio'], 'Normal sample 107': ['SYN Flag Cnt', 'Fwd Pkt Len Max', 'Fwd Pkt Len Mean', 'Fwd Pkt Len Std', 'Pkt Len Max', 'Fwd Seg Size Avg', 'Pkt Len Mean', 'Pkt Size Avg', 'Pkt Len Std', 'Bwd Pkts/s'], 'Normal sample 108': ['Init Bwd Win Byts', 'Fwd Pkt Len Max', 'Fwd Pkt Len Std', 'Pkt Len Mean', 'Bwd IAT Tot', 'FIN Flag Cnt', 'Pkt Len Std', 'Pkt Len Max', 'Pkt Size Avg', 'Fwd Pkt Len Mean'], 'Normal sample 109': ['Down/Up Ratio', 'Init Fwd Win Byts', 'SYN Flag Cnt', 'FIN Flag Cnt', 'ACK Flag Cnt', 'PSH Flag Cnt', 'Bwd Pkts/s', 'Idle Max', 'Idle Mean', 'Flow IAT Std'], 'Normal sample 110': ['Init Bwd Win Byts', 'Fwd IAT Tot', 'Fwd IAT Std', 'Bwd PSH Flags', 'SYN Flag Cnt', 'Down/Up Ratio', 'Bwd Pkts/s', 'Bwd IAT Tot', 'Pkt Len Var', 'Init Fwd Win Byts'], 'Normal sample 111': ['SYN Flag Cnt', 'Init Fwd Win Byts', 'ACK Flag Cnt', 'FIN Flag Cnt', 'Pkt Size Avg', 'Flow Pkts/s', 'Pkt Len Min', 'Pkt Len Mean', 'Bwd Pkts/s', 'Bwd Pkt Len Min'], 'Normal sample 112': ['Init Bwd Win Byts', 'Pkt Len Max', 'Pkt Len Mean', 'Fwd IAT Tot', 'Pkt Len Std', 'Pkt Size Avg', 'Down/Up Ratio', 'Fwd Pkt Len Max', 'Bwd Pkts/s', 'Subflow Bwd Pkts'], 'Normal sample 113': ['SYN Flag Cnt', 'FIN Flag Cnt', 'Pkt Size Avg', 'Bwd Pkt Len Min', 'Pkt Len Mean', 'Fwd Pkt Len Min', 'Pkt Len Min', 'Flow Pkts/s', 'Fwd Pkt Len Mean', 'Fwd Seg Size Avg'], 'Normal sample 114': ['Init Bwd Win Byts', 'Pkt Len Max', 'Fwd Pkt Len Max', 'Pkt Len Mean', 'Fwd IAT Tot', 'Pkt Len Std', 'Down/Up Ratio', 'ACK Flag Cnt', 'Pkt Size Avg', 'Fwd IAT Max'], 'Normal sample 115': ['SYN Flag Cnt', 'Init Fwd Win Byts', 'ACK Flag Cnt', 'FIN Flag Cnt', 'Pkt Len Min', 'Flow Pkts/s', 'Pkt Size Avg', 'Bwd Pkt Len Min', 'Bwd Pkts/s', 'Pkt Len Max'], 'Normal sample 116': ['SYN Flag Cnt', 'Init Fwd Win Byts', 'ACK Flag Cnt', 'FIN Flag Cnt', 'Flow Pkts/s', 'Pkt Len Min', 'Pkt Size Avg', 'Bwd Pkt Len Min', 'Bwd Pkts/s', 'Pkt Len Mean'], 'Normal sample 117': ['SYN Flag Cnt', 'Down/Up Ratio', 'Init Fwd Win Byts', 'FIN Flag Cnt', 'Bwd IAT Std', 'Subflow Fwd Byts', 'Idle Mean', 'Fwd IAT Mean', 'URG Flag Cnt', 'Flow Duration'], 'Normal sample 118': ['SYN Flag Cnt', 'Init Fwd Win Byts', 'FIN Flag Cnt', 'ACK Flag Cnt', 'Pkt Len Min', 'Pkt Size Avg', 'Pkt Len Mean', 'Flow Pkts/s', 'Bwd Pkt Len Min', 'Pkt Len Max'], 'Normal sample 119': ['Down/Up Ratio', 'Init Fwd Win Byts', 'SYN Flag Cnt', 'FIN Flag Cnt', 'ACK Flag Cnt', 'Bwd Pkts/s', 'Idle Max', 'Flow IAT Max', 'Bwd IAT Max', 'Fwd IAT Std'], 'Normal sample 120': ['Down/Up Ratio', 'Init Fwd Win Byts', 'SYN Flag Cnt', 'FIN Flag Cnt', 'ACK Flag Cnt', 'Flow IAT Std', 'Flow Duration', 'Pkt Len Var', 'Fwd Act Data Pkts', 'Idle Std'], 'Normal sample 121': ['SYN Flag Cnt', 'Flow Pkts/s', 'Bwd Pkts/s', 'Init Fwd Win Byts', 'Down/Up Ratio', 'FIN Flag Cnt', 'Fwd Pkt Len Max', 'Fwd Pkt Len Std', 'Pkt Len Max', 'Fwd Pkt Len Mean'], 'Normal sample 122': ['Down/Up Ratio', 'Init Fwd Win Byts', 'SYN Flag Cnt', 'FIN Flag Cnt', 'Bwd Pkts/s', 'Flow Pkts/s', 'Idle Max', 'PSH Flag Cnt', 'Bwd IAT Std', 'Flow IAT Std'], 'Normal sample 123': ['SYN Flag Cnt', 'Init Fwd Win Byts', 'FIN Flag Cnt', 'ACK Flag Cnt', 'Pkt Len Min', 'Flow Pkts/s', 'Pkt Size Avg', 'Bwd Pkt Len Min', 'Bwd Pkts/s', 'Pkt Len Mean'], 'Normal sample 124': ['Init Bwd Win Byts', 'Pkt Len Max', 'Fwd IAT Tot', 'Flow IAT Max', 'Pkt Len Mean', 'Fwd IAT Std', 'Fwd IAT Max', 'Pkt Size Avg', 'FIN Flag Cnt', 'Fwd Pkt Len Max'], 'Normal sample 125': ['SYN Flag Cnt', 'Init Fwd Win Byts', 'ACK Flag Cnt', 'Pkt Size Avg', 'FIN Flag Cnt', 'Pkt Len Min', 'Pkt Len Mean', 'Flow Pkts/s', 'Pkt Len Max', 'Bwd Pkt Len Min'], 'Normal sample 126': ['Init Bwd Win Byts', 'Fwd IAT Tot', 'SYN Flag Cnt', 'Down/Up Ratio', 'Fwd Pkt Len Max', 'Bwd IAT Mean', 'Fwd IAT Std', 'Bwd PSH Flags', 'Bwd Pkts/s', 'FIN Flag Cnt'], 'Normal sample 127': ['Init Bwd Win Byts', 'SYN Flag Cnt', 'FIN Flag Cnt', 'Flow Pkts/s', 'Idle Mean', 'Flow Duration', 'Bwd IAT Max', 'Down/Up Ratio', 'Bwd IAT Std', 'Fwd Header Len'], 'Normal sample 128': ['Init Bwd Win Byts', 'Fwd IAT Tot', 'Bwd PSH Flags', 'Fwd IAT Std', 'SYN Flag Cnt', 'Flow Pkts/s', 'Bwd Pkt Len Std', 'Bwd IAT Mean', 'Fwd IAT Mean', 'Fwd Pkt Len Mean'], 'Normal sample 129': ['SYN Flag Cnt', 'Init Fwd Win Byts', 'Down/Up Ratio', 'FIN Flag Cnt', 'Flow IAT Std', 'Flow IAT Mean', 'Bwd IAT Std', 'Fwd IAT Tot', 'URG Flag Cnt', 'Idle Max'], 'Normal sample 130': ['SYN Flag Cnt', 'Init Fwd Win Byts', 'ACK Flag Cnt', 'FIN Flag Cnt', 'Pkt Len Min', 'Pkt Size Avg', 'Flow Pkts/s', 'Bwd Pkt Len Min', 'Pkt Len Mean', 'Pkt Len Max'], 'Normal sample 131': ['Init Bwd Win Byts', 'Fwd Pkt Len Max', 'Fwd Pkt Len Std', 'Fwd Seg Size Avg', 'Pkt Len Max', 'Fwd Pkt Len Mean', 'Flow Pkts/s', 'Pkt Size Avg', 'Pkt Len Mean', 'FIN Flag Cnt'], 'Normal sample 132': ['Init Bwd Win Byts', 'Fwd IAT Std', 'Fwd IAT Tot', 'Bwd PSH Flags', 'SYN Flag Cnt', 'Down/Up Ratio', 'Bwd Pkts/s', 'FIN Flag Cnt', 'Fwd Seg Size Avg', 'Bwd IAT Tot'], 'Normal sample 133': ['Init Bwd Win Byts', 'Fwd Pkt Len Std', 'Fwd Seg Size Avg', 'Fwd Pkt Len Max', 'Bwd IAT Tot', 'Fwd Pkt Len Mean', 'Pkt Len Std', 'Bwd Pkts/s', 'Fwd IAT Std', 'FIN Flag Cnt'], 'Normal sample 134': ['Init Bwd Win Byts', 'Bwd PSH Flags', 'SYN Flag Cnt', 'PSH Flag Cnt', 'Init Fwd Win Byts', 'Down/Up Ratio', 'Flow Pkts/s', 'TotLen Bwd Pkts', 'Bwd IAT Std', 'Bwd Pkts/s'], 'Normal sample 135': ['SYN Flag Cnt', 'Init Fwd Win Byts', 'ACK Flag Cnt', 'FIN Flag Cnt', 'Pkt Len Min', 'Flow Pkts/s', 'Pkt Size Avg', 'Bwd Pkts/s', 'Bwd Pkt Len Min', 'Pkt Len Mean'], 'Normal sample 136': ['Down/Up Ratio', 'Init Fwd Win Byts', 'FIN Flag Cnt', 'Bwd Pkts/s', 'Bwd Pkt Len Min', 'Flow Pkts/s', 'Bwd Pkt Len Mean', 'Fwd Header Len', 'Tot Fwd Pkts', 'Active Min'], 'Normal sample 137': ['SYN Flag Cnt', 'Init Fwd Win Byts', 'FIN Flag Cnt', 'ACK Flag Cnt', 'Pkt Len Min', 'Flow Pkts/s', 'Pkt Len Max', 'Pkt Size Avg', 'Bwd Pkt Len Min', 'Pkt Len Mean'], 'Normal sample 138': ['SYN Flag Cnt', 'Init Fwd Win Byts', 'FIN Flag Cnt', 'ACK Flag Cnt', 'Flow Pkts/s', 'Pkt Len Min', 'Pkt Size Avg', 'Bwd Pkts/s', 'Pkt Len Max', 'Pkt Len Mean'], 'Normal sample 139': ['Init Bwd Win Byts', 'SYN Flag Cnt', 'Down/Up Ratio', 'Flow Pkts/s', 'FIN Flag Cnt', 'Flow IAT Max', 'Idle Min', 'Bwd Pkt Len Mean', 'Idle Mean', 'Bwd Pkt Len Std'], 'Normal sample 140': ['SYN Flag Cnt', 'Init Fwd Win Byts', 'FIN Flag Cnt', 'Pkt Len Min', 'Pkt Size Avg', 'Flow Pkts/s', 'Pkt Len Max', 'ACK Flag Cnt', 'Pkt Len Mean', 'Bwd Pkt Len Min'], 'Normal sample 141': ['Init Bwd Win Byts', 'Fwd IAT Tot', 'Fwd Pkt Len Max', 'Fwd Pkt Len Std', 'Fwd Pkt Len Mean', 'Pkt Len Max', 'ACK Flag Cnt', 'Pkt Size Avg', 'FIN Flag Cnt', 'Pkt Len Std'], 'Normal sample 142': ['SYN Flag Cnt', 'FIN Flag Cnt', 'Pkt Len Min', 'Init Fwd Win Byts', 'Pkt Size Avg', 'Bwd Pkt Len Min', 'Flow Pkts/s', 'Pkt Len Mean', 'Fwd Pkt Len Min', 'ACK Flag Cnt'], 'Normal sample 143': ['Init Bwd Win Byts', 'Fwd IAT Tot', 'Fwd IAT Std', 'Bwd PSH Flags', 'Down/Up Ratio', 'Init Fwd Win Byts', 'Bwd Pkts/s', 'SYN Flag Cnt', 'Tot Bwd Pkts', 'Pkt Len Mean'], 'Normal sample 144': ['SYN Flag Cnt', 'Init Fwd Win Byts', 'ACK Flag Cnt', 'FIN Flag Cnt', 'Pkt Len Min', 'Pkt Size Avg', 'Flow Pkts/s', 'Bwd Pkts/s', 'Bwd Pkt Len Min', 'Pkt Len Mean'], 'Normal sample 145': ['Init Bwd Win Byts', 'SYN Flag Cnt', 'Flow Pkts/s', 'Fwd Pkt Len Std', 'Fwd Pkt Len Mean', 'Init Fwd Win Byts', 'Fwd Seg Size Avg', 'Fwd Pkt Len Max', 'FIN Flag Cnt', 'Pkt Size Avg'], 'Normal sample 146': ['SYN Flag Cnt', 'Init Fwd Win Byts', 'ACK Flag Cnt', 'FIN Flag Cnt', 'Pkt Len Min', 'Flow Pkts/s', 'Bwd Pkts/s', 'Bwd Pkt Len Min', 'Pkt Size Avg', 'Pkt Len Mean'], 'Normal sample 147': ['Init Fwd Win Byts', 'FIN Flag Cnt', 'Down/Up Ratio', 'Flow IAT Std', 'Bwd Pkt Len Max', 'Bwd IAT Max', 'Subflow Fwd Byts', 'Fwd IAT Std', 'URG Flag Cnt', 'Pkt Len Std'], 'Normal sample 148': ['SYN Flag Cnt', 'Init Fwd Win Byts', 'FIN Flag Cnt', 'ACK Flag Cnt', 'Pkt Size Avg', 'Pkt Len Min', 'Flow Pkts/s', 'Bwd Pkt Len Min', 'Pkt Len Mean', 'Pkt Len Std'], 'Normal sample 149': ['SYN Flag Cnt', 'Init Fwd Win Byts', 'FIN Flag Cnt', 'Pkt Size Avg', 'ACK Flag Cnt', 'Pkt Len Min', 'Flow Pkts/s', 'Pkt Len Mean', 'Pkt Len Max', 'Bwd Pkts/s'], 'Normal sample 150': ['SYN Flag Cnt', 'Init Fwd Win Byts', 'FIN Flag Cnt', 'ACK Flag Cnt', 'Pkt Len Min', 'Pkt Size Avg', 'Flow Pkts/s', 'Bwd Pkts/s', 'Pkt Len Max', 'Bwd Pkt Len Min'], 'Normal sample 151': ['SYN Flag Cnt', 'Fwd Pkt Len Max', 'Fwd Pkt Len Mean', 'Fwd Pkt Len Std', 'Fwd Seg Size Avg', 'Pkt Len Mean', 'Pkt Size Avg', 'Pkt Len Max', 'Bwd Pkts/s', 'Pkt Len Std'], 'Normal sample 152': ['Init Bwd Win Byts', 'SYN Flag Cnt', 'Bwd IAT Tot', 'ACK Flag Cnt', 'Flow IAT Mean', 'Active Mean', 'Bwd IAT Max', 'Flow Pkts/s', 'Fwd IAT Std', 'Idle Max'], 'Normal sample 153': ['SYN Flag Cnt', 'FIN Flag Cnt', 'Flow Byts/s', 'Pkt Len Min', 'Fwd Pkt Len Min', 'Fwd Seg Size Avg', 'Fwd Pkt Len Mean', 'Pkt Size Avg', 'Bwd Pkt Len Min', 'Flow Pkts/s'], 'Normal sample 154': ['SYN Flag Cnt', 'FIN Flag Cnt', 'Pkt Len Min', 'Pkt Size Avg', 'Init Fwd Win Byts', 'Pkt Len Mean', 'Bwd Pkt Len Min', 'Flow Pkts/s', 'ACK Flag Cnt', 'Bwd Pkts/s'], 'Normal sample 155': ['Down/Up Ratio', 'Init Fwd Win Byts', 'SYN Flag Cnt', 'FIN Flag Cnt', 'ACK Flag Cnt', 'Bwd Pkt Len Max', 'Subflow Bwd Pkts', 'Flow IAT Max', 'Idle Std', 'Pkt Len Min'], 'Normal sample 156': ['SYN Flag Cnt', 'Init Fwd Win Byts', 'FIN Flag Cnt', 'Pkt Len Min', 'Pkt Size Avg', 'Bwd Pkt Len Min', 'Pkt Len Mean', 'ACK Flag Cnt', 'Flow Pkts/s', 'Bwd Pkts/s'], 'Normal sample 157': ['Down/Up Ratio', 'Init Fwd Win Byts', 'SYN Flag Cnt', 'ACK Flag Cnt', 'FIN Flag Cnt', 'Flow Duration', 'Flow IAT Std', 'Bwd Pkts/s', 'Fwd IAT Tot', 'Bwd URG Flags'], 'Normal sample 158': ['SYN Flag Cnt', 'ACK Flag Cnt', 'Init Fwd Win Byts', 'Down/Up Ratio', 'Fwd IAT Std', 'URG Flag Cnt', 'Flow Duration', 'TotLen Bwd Pkts', 'Active Std', 'Bwd Seg Size Avg'], 'Normal sample 159': ['Init Bwd Win Byts', 'Fwd IAT Tot', 'Pkt Len Max', 'Pkt Len Std', 'Fwd Pkt Len Max', 'ACK Flag Cnt', 'Init Fwd Win Byts', 'Fwd Pkt Len Std', 'Pkt Len Mean', 'Bwd Pkts/s'], 'Normal sample 160': ['Init Bwd Win Byts', 'SYN Flag Cnt', 'FIN Flag Cnt', 'Flow Pkts/s', 'Down/Up Ratio', 'Idle Max', 'Flow IAT Max', 'Bwd URG Flags', 'Idle Mean', 'Flow IAT Std'], 'Normal sample 161': ['SYN Flag Cnt', 'Init Fwd Win Byts', 'Down/Up Ratio', 'FIN Flag Cnt', 'Subflow Fwd Byts', 'Fwd Header Len', 'Flow IAT Std', 'Idle Max', 'Bwd IAT Max', 'Flow IAT Min'], 'Normal sample 162': ['SYN Flag Cnt', 'Init Fwd Win Byts', 'FIN Flag Cnt', 'Pkt Len Min', 'Pkt Size Avg', 'Flow Pkts/s', 'Bwd Pkt Len Min', 'ACK Flag Cnt', 'Pkt Len Mean', 'Pkt Len Max'], 'Normal sample 163': ['Init Bwd Win Byts', 'Bwd Pkt Len Min', 'SYN Flag Cnt', 'Bwd Pkts/s', 'Flow Pkts/s', 'FIN Flag Cnt', 'Pkt Len Mean', 'Flow IAT Min', 'Fwd IAT Tot', 'Fwd IAT Mean'], 'Normal sample 164': ['SYN Flag Cnt', 'Init Fwd Win Byts', 'ACK Flag Cnt', 'FIN Flag Cnt', 'Pkt Len Min', 'Flow Pkts/s', 'Pkt Size Avg', 'Bwd Pkt Len Min', 'Bwd Pkts/s', 'Pkt Len Max'], 'Normal sample 165': ['SYN Flag Cnt', 'Init Fwd Win Byts', 'FIN Flag Cnt', 'ACK Flag Cnt', 'Pkt Size Avg', 'Pkt Len Min', 'Flow Pkts/s', 'Pkt Len Mean', 'Pkt Len Max', 'Bwd Pkt Len Min'], 'Normal sample 166': ['Init Bwd Win Byts', 'SYN Flag Cnt', 'Bwd Pkts/s', 'Active Min', 'Flow Pkts/s', 'Bwd PSH Flags', 'Flow IAT Min', 'Fwd Seg Size Avg', 'TotLen Bwd Pkts', 'Idle Std'], 'Normal sample 167': ['Init Bwd Win Byts', 'Pkt Size Avg', 'Pkt Len Max', 'Pkt Len Mean', 'Fwd Pkt Len Max', 'Down/Up Ratio', 'Fwd IAT Tot', 'Flow IAT Max', 'Pkt Len Std', 'Fwd Seg Size Avg'], 'Normal sample 168': ['SYN Flag Cnt', 'Init Fwd Win Byts', 'FIN Flag Cnt', 'ACK Flag Cnt', 'Pkt Size Avg', 'Flow Pkts/s', 'Pkt Len Min', 'Pkt Len Mean', 'Bwd Pkt Len Min', 'Bwd Pkts/s'], 'Normal sample 169': ['Init Bwd Win Byts', 'Fwd IAT Std', 'Bwd PSH Flags', 'Down/Up Ratio', 'Bwd Pkts/s', 'Bwd IAT Tot', 'SYN Flag Cnt', 'Flow Pkts/s', 'Fwd IAT Tot', 'Bwd URG Flags'], 'Normal sample 170': ['SYN Flag Cnt', 'FIN Flag Cnt', 'Pkt Len Min', 'Pkt Size Avg', 'Bwd Pkt Len Min', 'Pkt Len Mean', 'Fwd Pkt Len Min', 'Flow Byts/s', 'Fwd Pkt Len Mean', 'Fwd Seg Size Avg'], 'Normal sample 171': ['SYN Flag Cnt', 'Init Fwd Win Byts', 'FIN Flag Cnt', 'ACK Flag Cnt', 'Pkt Size Avg', 'Pkt Len Min', 'Pkt Len Max', 'Pkt Len Mean', 'Bwd Pkt Len Min', 'Flow Pkts/s'], 'Normal sample 172': ['Init Bwd Win Byts', 'Pkt Len Max', 'Pkt Len Std', 'Pkt Size Avg', 'Fwd IAT Tot', 'Subflow Bwd Pkts', 'Pkt Len Mean', 'Bwd IAT Tot', 'Bwd Header Len', 'Bwd IAT Max'], 'Normal sample 173': ['Down/Up Ratio', 'Init Fwd Win Byts', 'SYN Flag Cnt', 'FIN Flag Cnt', 'ACK Flag Cnt', 'Flow IAT Max', 'Bwd Seg Size Avg', 'TotLen Fwd Pkts', 'Fwd Header Len', 'Active Max'], 'Normal sample 174': ['SYN Flag Cnt', 'Init Fwd Win Byts', 'FIN Flag Cnt', 'TotLen Fwd Pkts', 'Flow IAT Std', 'Bwd IAT Std', 'Fwd IAT Max', 'Bwd URG Flags', 'TotLen Bwd Pkts', 'Pkt Len Min'], 'Normal sample 175': ['SYN Flag Cnt', 'Bwd Pkts/s', 'Bwd PSH Flags', 'Fwd Pkts/s', 'Bwd IAT Std', 'Pkt Size Avg', 'Active Mean', 'Fwd IAT Mean', 'Active Max', 'Bwd Header Len'], 'Normal sample 176': ['SYN Flag Cnt', 'Init Fwd Win Byts', 'ACK Flag Cnt', 'FIN Flag Cnt', 'Pkt Size Avg', 'Pkt Len Min', 'Flow Pkts/s', 'Bwd Pkt Len Min', 'Pkt Len Max', 'Pkt Len Mean'], 'Normal sample 177': ['Down/Up Ratio', 'Init Fwd Win Byts', 'SYN Flag Cnt', 'FIN Flag Cnt', 'ACK Flag Cnt', 'Bwd Pkts/s', 'Flow Pkts/s', 'Flow IAT Std', 'Pkt Len Min', 'PSH Flag Cnt'], 'Normal sample 178': ['SYN Flag Cnt', 'Init Fwd Win Byts', 'FIN Flag Cnt', 'Pkt Len Min', 'Pkt Size Avg', 'ACK Flag Cnt', 'Flow Pkts/s', 'Bwd Pkt Len Min', 'Pkt Len Max', 'Pkt Len Mean'], 'Normal sample 179': ['SYN Flag Cnt', 'Init Fwd Win Byts', 'FIN Flag Cnt', 'Pkt Size Avg', 'Pkt Len Min', 'ACK Flag Cnt', 'Flow Pkts/s', 'Pkt Len Mean', 'Bwd Pkts/s', 'Bwd Pkt Len Min'], 'Normal sample 180': ['Down/Up Ratio', 'Init Fwd Win Byts', 'SYN Flag Cnt', 'ACK Flag Cnt', 'FIN Flag Cnt', 'Flow Duration', 'Flow IAT Max', 'Bwd Pkt Len Mean', 'PSH Flag Cnt', 'Flow IAT Std'], 'Normal sample 181': ['SYN Flag Cnt', 'Init Fwd Win Byts', 'FIN Flag Cnt', 'Pkt Size Avg', 'Pkt Len Mean', 'ACK Flag Cnt', 'Pkt Len Min', 'Pkt Len Max', 'Flow Pkts/s', 'Bwd Pkt Len Min'], 'Normal sample 182': ['SYN Flag Cnt', 'Init Fwd Win Byts', 'FIN Flag Cnt', 'ACK Flag Cnt', 'Pkt Len Min', 'Pkt Size Avg', 'Flow Pkts/s', 'Bwd Pkt Len Min', 'Bwd Pkts/s', 'Pkt Len Mean'], 'Normal sample 183': ['SYN Flag Cnt', 'FIN Flag Cnt', 'Pkt Len Min', 'Pkt Size Avg', 'Bwd Pkt Len Min', 'Fwd Pkt Len Min', 'Pkt Len Mean', 'Fwd Seg Size Avg', 'Fwd Pkt Len Mean', 'Flow Pkts/s'], 'Normal sample 184': ['SYN Flag Cnt', 'Init Fwd Win Byts', 'ACK Flag Cnt', 'Down/Up Ratio', 'Active Max', 'Bwd IAT Max', 'Flow IAT Std', 'TotLen Bwd Pkts', 'URG Flag Cnt', 'Pkt Len Std'], 'Normal sample 185': ['Init Bwd Win Byts', 'Pkt Len Mean', 'Pkt Size Avg', 'Pkt Len Max', 'Fwd Pkt Len Max', 'Fwd Pkt Len Std', 'Fwd Pkt Len Mean', 'Down/Up Ratio', 'Fwd Seg Size Avg', 'FIN Flag Cnt'], 'Normal sample 186': ['Down/Up Ratio', 'Bwd PSH Flags', 'Init Fwd Win Byts', 'ACK Flag Cnt', 'SYN Flag Cnt', 'Bwd Pkts/s', 'FIN Flag Cnt', 'PSH Flag Cnt', 'Flow Pkts/s', 'Fwd Act Data Pkts'], 'Normal sample 187': ['Down/Up Ratio', 'Init Fwd Win Byts', 'SYN Flag Cnt', 'ACK Flag Cnt', 'FIN Flag Cnt', 'Active Min', 'Flow Duration', 'Fwd IAT Mean', 'Flow IAT Min', 'Fwd IAT Min'], 'Normal sample 188': ['Init Bwd Win Byts', 'SYN Flag Cnt', 'Down/Up Ratio', 'Idle Max', 'Flow IAT Max', 'Bwd Pkts/s', 'Idle Min', 'Flow IAT Std', 'Bwd IAT Mean', 'PSH Flag Cnt'], 'Normal sample 189': ['Down/Up Ratio', 'Init Fwd Win Byts', 'SYN Flag Cnt', 'ACK Flag Cnt', 'FIN Flag Cnt', 'Flow Duration', 'Bwd Pkts/s', 'Idle Max', 'Pkt Len Var', 'Bwd Pkt Len Mean'], 'Normal sample 190': ['Down/Up Ratio', 'Init Fwd Win Byts', 'SYN Flag Cnt', 'FIN Flag Cnt', 'ACK Flag Cnt', 'Flow Duration', 'Idle Max', 'PSH Flag Cnt', 'Bwd Pkts/s', 'Flow IAT Mean'], 'Normal sample 191': ['Init Bwd Win Byts', 'SYN Flag Cnt', 'Down/Up Ratio', 'FIN Flag Cnt', 'Flow Pkts/s', 'Flow IAT Max', 'Idle Min', 'Bwd IAT Tot', 'Idle Max', 'Idle Std'], 'Normal sample 192': ['SYN Flag Cnt', 'FIN Flag Cnt', 'Pkt Size Avg', 'Pkt Len Min', 'Bwd Pkt Len Min', 'Fwd Pkt Len Min', 'Flow Byts/s', 'Fwd Pkt Len Mean', 'Fwd Seg Size Avg', 'Pkt Len Mean'], 'Normal sample 193': ['Init Bwd Win Byts', 'SYN Flag Cnt', 'FIN Flag Cnt', 'Flow Pkts/s', 'Bwd IAT Std', 'Down/Up Ratio', 'Flow IAT Max', 'Idle Max', 'Active Mean', 'Fwd IAT Mean'], 'Normal sample 194': ['Init Bwd Win Byts', 'SYN Flag Cnt', 'Flow Pkts/s', 'FIN Flag Cnt', 'Flow IAT Max', 'Bwd IAT Std', 'Bwd Pkt Len Mean', 'Idle Min', 'Idle Mean', 'Bwd IAT Max'], 'Normal sample 195': ['SYN Flag Cnt', 'Init Fwd Win Byts', 'FIN Flag Cnt', 'ACK Flag Cnt', 'Pkt Size Avg', 'Pkt Len Min', 'Flow Pkts/s', 'Pkt Len Mean', 'Pkt Len Max', 'Bwd Pkt Len Min'], 'Normal sample 196': ['Down/Up Ratio', 'Init Fwd Win Byts', 'SYN Flag Cnt', 'ACK Flag Cnt', 'FIN Flag Cnt', 'Bwd IAT Std', 'Bwd IAT Tot', 'PSH Flag Cnt', 'Bwd Pkts/s', 'Fwd IAT Max'], 'Normal sample 197': ['SYN Flag Cnt', 'Init Fwd Win Byts', 'ACK Flag Cnt', 'FIN Flag Cnt', 'Flow Pkts/s', 'Pkt Len Min', 'Bwd Pkts/s', 'Pkt Size Avg', 'Bwd Pkt Len Min', 'Pkt Len Mean'], 'Normal sample 198': ['Init Bwd Win Byts', 'Pkt Len Max', 'Pkt Size Avg', 'Pkt Len Mean', 'Fwd Pkt Len Max', 'Pkt Len Std', 'Fwd IAT Max', 'Fwd IAT Tot', 'Bwd IAT Max', 'Flow Pkts/s'], 'Normal sample 199': ['SYN Flag Cnt', 'Flow Pkts/s', 'Down/Up Ratio', 'Init Fwd Win Byts', 'FIN Flag Cnt', 'Bwd Pkts/s', 'Fwd Pkt Len Mean', 'Fwd Pkt Len Max', 'Fwd Pkt Len Std', 'Fwd Seg Size Avg'], 'Normal sample 200': ['Init Bwd Win Byts', 'SYN Flag Cnt', 'Idle Std', 'Bwd IAT Tot', 'Flow Pkts/s', 'ACK Flag Cnt', 'Bwd IAT Std', 'Pkt Len Var', 'Flow IAT Max', 'Bwd Header Len'], 'Normal sample 201': ['Init Bwd Win Byts', 'SYN Flag Cnt', 'FIN Flag Cnt', 'Flow Pkts/s', 'Flow IAT Max', 'Bwd IAT Std', 'Down/Up Ratio', 'Bwd IAT Tot', 'Idle Mean', 'Bwd IAT Max'], 'Normal sample 202': ['Down/Up Ratio', 'Bwd PSH Flags', 'Init Fwd Win Byts', 'ACK Flag Cnt', 'SYN Flag Cnt', 'Bwd Pkts/s', 'PSH Flag Cnt', 'FIN Flag Cnt', 'Flow Pkts/s', 'Bwd IAT Mean'], 'Normal sample 203': ['SYN Flag Cnt', 'Init Fwd Win Byts', 'FIN Flag Cnt', 'Pkt Len Min', 'Pkt Size Avg', 'ACK Flag Cnt', 'Bwd Pkt Len Min', 'Pkt Len Max', 'Flow Pkts/s', 'Bwd Pkts/s'], 'Normal sample 204': ['Down/Up Ratio', 'Init Fwd Win Byts', 'SYN Flag Cnt', 'FIN Flag Cnt', 'ACK Flag Cnt', 'Flow IAT Std', 'PSH Flag Cnt', 'Bwd IAT Tot', 'URG Flag Cnt', 'Fwd IAT Max'], 'Normal sample 205': ['SYN Flag Cnt', 'Init Fwd Win Byts', 'FIN Flag Cnt', 'Flow IAT Std', 'Fwd Seg Size Avg', 'Fwd IAT Std', 'Flow Duration', 'Tot Fwd Pkts', 'Tot Bwd Pkts', 'TotLen Fwd Pkts'], 'Normal sample 206': ['SYN Flag Cnt', 'Init Fwd Win Byts', 'FIN Flag Cnt', 'ACK Flag Cnt', 'Flow Pkts/s', 'Pkt Size Avg', 'Pkt Len Min', 'Bwd Pkt Len Min', 'Bwd Pkts/s', 'Pkt Len Mean'], 'Normal sample 207': ['SYN Flag Cnt', 'Init Fwd Win Byts', 'ACK Flag Cnt', 'FIN Flag Cnt', 'Pkt Size Avg', 'Pkt Len Min', 'Bwd Pkt Len Min', 'Pkt Len Mean', 'Flow Pkts/s', 'Pkt Len Max'], 'Normal sample 208': ['Init Bwd Win Byts', 'Bwd PSH Flags', 'PSH Flag Cnt', 'Idle Min', 'Fwd IAT Tot', 'SYN Flag Cnt', 'Idle Max', 'Fwd IAT Std', 'Bwd Pkts/s', 'Init Fwd Win Byts'], 'Normal sample 209': ['SYN Flag Cnt', 'FIN Flag Cnt', 'Pkt Len Min', 'Pkt Size Avg', 'Init Fwd Win Byts', 'Bwd Pkt Len Min', 'Flow Pkts/s', 'Pkt Len Max', 'Fwd Pkt Len Min', 'Pkt Len Mean'], 'Normal sample 210': ['Down/Up Ratio', 'Init Fwd Win Byts', 'SYN Flag Cnt', 'FIN Flag Cnt', 'ACK Flag Cnt', 'Idle Max', 'PSH Flag Cnt', 'Bwd Seg Size Avg', 'Flow Duration', 'Pkt Len Max'], 'Normal sample 211': ['Init Bwd Win Byts', 'Pkt Len Max', 'Pkt Size Avg', 'Fwd Header Len', 'Bwd IAT Tot', 'Subflow Fwd Byts', 'Flow Duration', 'Tot Bwd Pkts', 'Pkt Len Mean', 'Tot Fwd Pkts'], 'Normal sample 212': ['Init Bwd Win Byts', 'Pkt Size Avg', 'Pkt Len Max', 'Pkt Len Mean', 'Fwd Pkt Len Max', 'Fwd Pkt Len Std', 'ACK Flag Cnt', 'Fwd Seg Size Avg', 'Down/Up Ratio', 'Fwd IAT Std'], 'Normal sample 213': ['Down/Up Ratio', 'Init Fwd Win Byts', 'SYN Flag Cnt', 'ACK Flag Cnt', 'FIN Flag Cnt', 'Bwd Pkts/s', 'Flow Duration', 'Subflow Fwd Byts', 'Tot Fwd Pkts', 'Bwd Seg Size Avg'], 'Normal sample 214': ['SYN Flag Cnt', 'Init Fwd Win Byts', 'FIN Flag Cnt', 'Pkt Size Avg', 'Pkt Len Min', 'Pkt Len Mean', 'Bwd Pkt Len Min', 'Flow Pkts/s', 'ACK Flag Cnt', 'Pkt Len Max'], 'Normal sample 215': ['Down/Up Ratio', 'Init Fwd Win Byts', 'SYN Flag Cnt', 'FIN Flag Cnt', 'ACK Flag Cnt', 'Fwd Pkts/s', 'Bwd IAT Std', 'Flow IAT Mean', 'Bwd Pkts/s', 'Active Std'], 'Normal sample 216': ['SYN Flag Cnt', 'Init Fwd Win Byts', 'FIN Flag Cnt', 'Pkt Len Min', 'ACK Flag Cnt', 'Pkt Size Avg', 'Pkt Len Mean', 'Flow Pkts/s', 'Bwd Pkt Len Min', 'Pkt Len Max'], 'Normal sample 217': ['SYN Flag Cnt', 'Init Fwd Win Byts', 'FIN Flag Cnt', 'ACK Flag Cnt', 'Flow Pkts/s', 'Pkt Len Min', 'Pkt Size Avg', 'Bwd Pkts/s', 'Bwd Pkt Len Min', 'Pkt Len Mean'], 'Normal sample 218': ['SYN Flag Cnt', 'Init Fwd Win Byts', 'FIN Flag Cnt', 'Pkt Len Min', 'Pkt Size Avg', 'ACK Flag Cnt', 'Pkt Len Max', 'Flow Pkts/s', 'Bwd Pkt Len Min', 'Pkt Len Mean'], 'Normal sample 219': ['Init Bwd Win Byts', 'SYN Flag Cnt', 'Bwd Pkt Len Min', 'Down/Up Ratio', 'Flow Pkts/s', 'Pkt Size Avg', 'Bwd IAT Mean', 'FIN Flag Cnt', 'Fwd IAT Std', 'Bwd PSH Flags'], 'Normal sample 220': ['SYN Flag Cnt', 'Flow Byts/s', 'Fwd Pkt Len Std', 'Fwd Pkt Len Mean', 'Pkt Len Mean', 'Fwd Pkt Len Max', 'Pkt Size Avg', 'Pkt Len Max', 'Fwd Seg Size Avg', 'Bwd Pkts/s'], 'Normal sample 221': ['SYN Flag Cnt', 'Pkt Size Avg', 'Pkt Len Min', 'FIN Flag Cnt', 'Bwd Pkt Len Min', 'Flow Pkts/s', 'Pkt Len Mean', 'Pkt Len Max', 'Bwd Pkts/s', 'Pkt Len Std'], 'Normal sample 222': ['SYN Flag Cnt', 'Init Fwd Win Byts', 'FIN Flag Cnt', 'ACK Flag Cnt', 'Pkt Size Avg', 'Pkt Len Min', 'Pkt Len Max', 'Flow Pkts/s', 'Pkt Len Mean', 'Bwd Pkt Len Min'], 'Normal sample 223': ['Init Bwd Win Byts', 'Fwd IAT Tot', 'Fwd Pkt Len Max', 'Bwd PSH Flags', 'SYN Flag Cnt', 'Pkt Len Max', 'Fwd Pkt Len Std', 'Fwd Pkt Len Mean', 'Pkt Len Std', 'Down/Up Ratio'], 'Normal sample 224': ['Down/Up Ratio', 'Init Fwd Win Byts', 'FIN Flag Cnt', 'Flow Pkts/s', 'Bwd Pkts/s', 'Flow IAT Mean', 'Idle Max', 'Fwd Pkt Len Min', 'TotLen Bwd Pkts', 'Tot Bwd Pkts'], 'Normal sample 225': ['Init Bwd Win Byts', 'Pkt Size Avg', 'Pkt Len Max', 'Pkt Len Mean', 'Fwd Pkt Len Max', 'Down/Up Ratio', 'Fwd Pkt Len Std', 'Fwd Pkt Len Mean', 'Flow Pkts/s', 'Flow IAT Max'], 'Normal sample 226': ['SYN Flag Cnt', 'Init Fwd Win Byts', 'FIN Flag Cnt', 'Pkt Len Min', 'Pkt Size Avg', 'ACK Flag Cnt', 'Pkt Len Mean', 'Flow Pkts/s', 'Bwd Pkt Len Min', 'Fwd Pkt Len Min'], 'Normal sample 227': ['SYN Flag Cnt', 'Init Fwd Win Byts', 'ACK Flag Cnt', 'Flow Pkts/s', 'FIN Flag Cnt', 'Pkt Len Max', 'Pkt Len Min', 'Bwd Pkt Len Min', 'Bwd Pkts/s', 'Pkt Size Avg'], 'Normal sample 228': ['Down/Up Ratio', 'Init Fwd Win Byts', 'SYN Flag Cnt', 'FIN Flag Cnt', 'ACK Flag Cnt', 'Tot Bwd Pkts', 'Idle Mean', 'Bwd IAT Mean', 'Bwd IAT Std', 'Flow Duration'], 'Normal sample 229': ['SYN Flag Cnt', 'Init Fwd Win Byts', 'FIN Flag Cnt', 'ACK Flag Cnt', 'Pkt Len Min', 'Pkt Size Avg', 'Flow Pkts/s', 'Bwd Pkts/s', 'Bwd Pkt Len Min', 'Pkt Len Mean'], 'Normal sample 230': ['Down/Up Ratio', 'Init Fwd Win Byts', 'FIN Flag Cnt', 'Bwd Pkts/s', 'Flow IAT Max', 'Flow Pkts/s', 'Pkt Len Min', 'Bwd Pkt Len Mean', 'Bwd Pkt Len Min', 'Idle Min'], 'Normal sample 231': ['Down/Up Ratio', 'Init Fwd Win Byts', 'SYN Flag Cnt', 'FIN Flag Cnt', 'ACK Flag Cnt', 'PSH Flag Cnt', 'Bwd Pkt Len Min', 'Idle Max', 'Bwd Pkts/s', 'Bwd IAT Tot'], 'Normal sample 232': ['Down/Up Ratio', 'Init Fwd Win Byts', 'SYN Flag Cnt', 'FIN Flag Cnt', 'ACK Flag Cnt', 'Bwd Pkts/s', 'Flow Duration', 'Subflow Fwd Pkts', 'Idle Max', 'Idle Mean'], 'Normal sample 233': ['SYN Flag Cnt', 'FIN Flag Cnt', 'Pkt Size Avg', 'Pkt Len Min', 'Bwd Pkt Len Min', 'Pkt Len Mean', 'Init Fwd Win Byts', 'Flow Pkts/s', 'Pkt Len Max', 'Bwd Pkts/s'], 'Normal sample 234': ['Down/Up Ratio', 'Bwd PSH Flags', 'Init Fwd Win Byts', 'SYN Flag Cnt', 'PSH Flag Cnt', 'Bwd Pkts/s', 'ACK Flag Cnt', 'FIN Flag Cnt', 'Flow Pkts/s', 'TotLen Fwd Pkts'], 'Normal sample 235': ['Init Bwd Win Byts', 'Fwd IAT Tot', 'Fwd IAT Std', 'Fwd Pkt Len Max', 'FIN Flag Cnt', 'Fwd IAT Max', 'Pkt Len Mean', 'Flow Pkts/s', 'Fwd Pkt Len Std', 'Pkt Len Std'], 'Normal sample 236': ['Down/Up Ratio', 'Init Fwd Win Byts', 'SYN Flag Cnt', 'FIN Flag Cnt', 'ACK Flag Cnt', 'PSH Flag Cnt', 'Bwd Pkts/s', 'Subflow Bwd Byts', 'Bwd IAT Std', 'Flow IAT Max'], 'Normal sample 237': ['SYN Flag Cnt', 'Init Fwd Win Byts', 'ACK Flag Cnt', 'FIN Flag Cnt', 'Pkt Size Avg', 'Pkt Len Min', 'Flow Pkts/s', 'Pkt Len Mean', 'Bwd Pkt Len Min', 'Pkt Len Max'], 'Normal sample 238': ['Down/Up Ratio', 'Init Fwd Win Byts', 'SYN Flag Cnt', 'ACK Flag Cnt', 'FIN Flag Cnt', 'Bwd Pkts/s', 'Fwd Pkt Len Min', 'PSH Flag Cnt', 'TotLen Bwd Pkts', 'Fwd IAT Std'], 'Normal sample 239': ['SYN Flag Cnt', 'Pkt Size Avg', 'Bwd Pkt Len Min', 'FIN Flag Cnt', 'Pkt Len Min', 'Flow Pkts/s', 'Pkt Len Mean', 'Pkt Len Max', 'Bwd Pkts/s', 'Pkt Len Std'], 'Normal sample 240': ['Init Bwd Win Byts', 'SYN Flag Cnt', 'FIN Flag Cnt', 'Flow Pkts/s', 'Idle Mean', 'Flow IAT Max', 'Idle Max', 'URG Flag Cnt', 'Idle Min', 'Bwd Pkt Len Std'], 'Normal sample 241': ['Init Bwd Win Byts', 'Pkt Len Mean', 'Pkt Len Max', 'Pkt Size Avg', 'Fwd IAT Tot', 'Flow IAT Max', 'Flow Pkts/s', 'Fwd Seg Size Avg', 'Idle Max', 'Bwd Pkts/s'], 'Normal sample 242': ['Down/Up Ratio', 'Init Fwd Win Byts', 'FIN Flag Cnt', 'Bwd Pkts/s', 'Bwd IAT Std', 'PSH Flag Cnt', 'Bwd Pkt Len Mean', 'Fwd Act Data Pkts', 'Idle Max', 'Bwd Pkt Len Min'], 'Normal sample 243': ['Down/Up Ratio', 'Init Fwd Win Byts', 'SYN Flag Cnt', 'ACK Flag Cnt', 'FIN Flag Cnt', 'Flow IAT Max', 'Bwd Pkts/s', 'Idle Max', 'Flow IAT Std', 'Fwd IAT Tot'], 'Normal sample 244': ['Fwd Pkt Len Max', 'Fwd Pkt Len Std', 'Pkt Len Max', 'Fwd Pkt Len Mean', 'SYN Flag Cnt', 'Flow Byts/s', 'Fwd Seg Size Avg', 'Pkt Size Avg', 'Pkt Len Mean', 'Pkt Len Std'], 'Normal sample 245': ['SYN Flag Cnt', 'Down/Up Ratio', 'Init Fwd Win Byts', 'FIN Flag Cnt', 'Bwd IAT Std', 'Subflow Bwd Byts', 'Pkt Len Var', 'Subflow Fwd Byts', 'TotLen Fwd Pkts', 'URG Flag Cnt'], 'Normal sample 246': ['SYN Flag Cnt', 'Init Fwd Win Byts', 'ACK Flag Cnt', 'FIN Flag Cnt', 'Pkt Len Min', 'Flow Pkts/s', 'Bwd Pkts/s', 'Pkt Size Avg', 'Bwd Pkt Len Min', 'Pkt Len Mean'], 'Normal sample 247': ['SYN Flag Cnt', 'Init Fwd Win Byts', 'ACK Flag Cnt', 'FIN Flag Cnt', 'Pkt Len Min', 'Flow Pkts/s', 'Pkt Size Avg', 'Bwd Pkt Len Min', 'Bwd Pkts/s', 'Fwd Pkt Len Min'], 'Normal sample 248': ['SYN Flag Cnt', 'Init Fwd Win Byts', 'FIN Flag Cnt', 'Pkt Len Min', 'Pkt Size Avg', 'Bwd Pkt Len Min', 'Pkt Len Max', 'Pkt Len Mean', 'Flow Pkts/s', 'ACK Flag Cnt'], 'Normal sample 249': ['SYN Flag Cnt', 'Init Fwd Win Byts', 'FIN Flag Cnt', 'ACK Flag Cnt', 'Pkt Len Min', 'Pkt Size Avg', 'Flow Pkts/s', 'Pkt Len Max', 'Pkt Len Mean', 'Bwd Pkt Len Min'], 'Normal sample 250': ['Down/Up Ratio', 'Init Fwd Win Byts', 'FIN Flag Cnt', 'Flow IAT Max', 'Bwd Pkts/s', 'Idle Min', 'Idle Max', 'Fwd Pkt Len Std', 'Fwd Pkt Len Min', 'Bwd Header Len'], 'Normal sample 251': ['Init Bwd Win Byts', 'Pkt Size Avg', 'Fwd Pkt Len Mean', 'Pkt Len Mean', 'Fwd Pkt Len Max', 'Fwd Pkt Len Std', 'Fwd IAT Tot', 'Flow Duration', 'Flow Pkts/s', 'Pkt Len Max'], 'Normal sample 252': ['Init Bwd Win Byts', 'Fwd IAT Tot', 'Bwd PSH Flags', 'Fwd IAT Std', 'SYN Flag Cnt', 'Down/Up Ratio', 'Bwd Pkts/s', 'Bwd IAT Tot', 'Tot Bwd Pkts', 'Init Fwd Win Byts'], 'Normal sample 253': ['Down/Up Ratio', 'Init Fwd Win Byts', 'SYN Flag Cnt', 'ACK Flag Cnt', 'FIN Flag Cnt', 'Flow IAT Max', 'TotLen Bwd Pkts', 'Fwd Header Len', 'Flow IAT Std', 'Fwd IAT Min'], 'Normal sample 254': ['Init Bwd Win Byts', 'Fwd IAT Tot', 'Fwd IAT Std', 'Pkt Len Max', 'Bwd IAT Tot', 'Down/Up Ratio', 'Pkt Len Std', 'ACK Flag Cnt', 'FIN Flag Cnt', 'Pkt Size Avg'], 'Normal sample 255': ['Init Bwd Win Byts', 'Fwd IAT Tot', 'Fwd IAT Std', 'SYN Flag Cnt', 'Bwd PSH Flags', 'Down/Up Ratio', 'Bwd Pkts/s', 'Fwd Pkt Len Mean', 'Pkt Len Max', 'Idle Std'], 'Normal sample 256': ['Init Bwd Win Byts', 'SYN Flag Cnt', 'Bwd Pkt Len Min', 'Down/Up Ratio', 'Flow Pkts/s', 'Bwd Pkts/s', 'Bwd PSH Flags', 'Pkt Size Avg', 'FIN Flag Cnt', 'Pkt Len Mean'], 'Normal sample 257': ['Init Bwd Win Byts', 'Bwd Pkt Len Min', 'SYN Flag Cnt', 'Flow Pkts/s', 'Bwd Pkts/s', 'FIN Flag Cnt', 'Fwd Pkt Len Max', 'Pkt Size Avg', 'Fwd Pkt Len Mean', 'Active Mean'], 'Normal sample 258': ['Init Bwd Win Byts', 'Fwd IAT Tot', 'Fwd Pkt Len Max', 'Fwd IAT Std', 'Fwd Pkt Len Mean', 'Fwd Seg Size Avg', 'Fwd IAT Max', 'Fwd Pkt Len Std', 'Bwd Pkt Len Std', 'Flow IAT Max'], 'Normal sample 259': ['Init Bwd Win Byts', 'Pkt Len Max', 'Pkt Size Avg', 'Pkt Len Mean', 'Fwd Pkt Len Max', 'Down/Up Ratio', 'Flow Pkts/s', 'Fwd Pkt Len Mean', 'Fwd Pkt Len Std', 'Pkt Len Std'], 'Normal sample 260': ['Init Bwd Win Byts', 'Fwd IAT Tot', 'Bwd PSH Flags', 'SYN Flag Cnt', 'Bwd Pkts/s', 'Fwd IAT Std', 'Bwd Seg Size Avg', 'Down/Up Ratio', 'Pkt Size Avg', 'Fwd Pkt Len Mean'], 'Normal sample 261': ['Init Bwd Win Byts', 'Pkt Size Avg', 'Pkt Len Mean', 'Pkt Len Max', 'Fwd Pkt Len Max', 'Pkt Len Std', 'Fwd Pkt Len Std', 'Flow Duration', 'Bwd Pkts/s', 'Down/Up Ratio'], 'Normal sample 262': ['Init Bwd Win Byts', 'Fwd IAT Tot', 'SYN Flag Cnt', 'Bwd PSH Flags', 'Bwd IAT Tot', 'Bwd Pkts/s', 'Init Fwd Win Byts', 'Bwd Pkt Len Min', 'Bwd IAT Max', 'Down/Up Ratio'], 'Normal sample 263': ['Down/Up Ratio', 'Init Fwd Win Byts', 'SYN Flag Cnt', 'FIN Flag Cnt', 'ACK Flag Cnt', 'Bwd Pkts/s', 'Flow Duration', 'URG Flag Cnt', 'PSH Flag Cnt', 'Idle Max'], 'Normal sample 264': ['Down/Up Ratio', 'Init Fwd Win Byts', 'SYN Flag Cnt', 'ACK Flag Cnt', 'FIN Flag Cnt', 'Bwd Pkts/s', 'Bwd PSH Flags', 'PSH Flag Cnt', 'Active Max', 'Subflow Fwd Pkts'], 'Normal sample 265': ['SYN Flag Cnt', 'Init Fwd Win Byts', 'ACK Flag Cnt', 'FIN Flag Cnt', 'Pkt Len Min', 'Flow Pkts/s', 'Pkt Size Avg', 'Bwd Pkt Len Min', 'Pkt Len Max', 'Bwd Pkts/s'], 'Normal sample 266': ['SYN Flag Cnt', 'Flow Pkts/s', 'Bwd Pkts/s', 'FIN Flag Cnt', 'Pkt Size Avg', 'Bwd Pkt Len Min', 'Pkt Len Mean', 'Fwd Pkt Len Min', 'Down/Up Ratio', 'ACK Flag Cnt'], 'Normal sample 267': ['Init Bwd Win Byts', 'SYN Flag Cnt', 'FIN Flag Cnt', 'Flow Pkts/s', 'Flow Duration', 'Idle Max', 'Idle Mean', 'Fwd IAT Mean', 'Bwd IAT Std', 'Idle Min'], 'Normal sample 268': ['Init Bwd Win Byts', 'Pkt Len Max', 'Pkt Size Avg', 'Pkt Len Mean', 'Pkt Len Std', 'Fwd Pkt Len Max', 'Bwd IAT Max', 'Flow Pkts/s', 'Fwd Pkt Len Std', 'Fwd IAT Tot'], 'Normal sample 269': ['Down/Up Ratio', 'Init Fwd Win Byts', 'FIN Flag Cnt', 'Flow IAT Max', 'Bwd Pkts/s', 'PSH Flag Cnt', 'Bwd IAT Max', 'Flow Duration', 'URG Flag Cnt', 'Flow Pkts/s'], 'Normal sample 270': ['Init Bwd Win Byts', 'Fwd IAT Tot', 'Fwd IAT Std', 'Bwd IAT Tot', 'ACK Flag Cnt', 'Down/Up Ratio', 'Init Fwd Win Byts', 'Bwd Pkts/s', 'Fwd Pkt Len Max', 'Flow Pkts/s'], 'Normal sample 271': ['Down/Up Ratio', 'Init Fwd Win Byts', 'FIN Flag Cnt', 'Fwd Pkt Len Max', 'Bwd Pkts/s', 'URG Flag Cnt', 'Flow Duration', 'PSH Flag Cnt', 'Flow IAT Std', 'Active Min'], 'Normal sample 272': ['Init Bwd Win Byts', 'Fwd Pkt Len Std', 'Fwd IAT Tot', 'Fwd Seg Size Avg', 'Fwd Pkt Len Mean', 'Fwd Pkt Len Max', 'Pkt Len Mean', 'Idle Mean', 'Pkt Len Std', 'Pkt Size Avg'], 'Normal sample 273': ['SYN Flag Cnt', 'Init Fwd Win Byts', 'ACK Flag Cnt', 'FIN Flag Cnt', 'Pkt Len Min', 'Flow Pkts/s', 'Bwd Pkts/s', 'Pkt Size Avg', 'Bwd Pkt Len Min', 'Pkt Len Max'], 'Normal sample 274': ['SYN Flag Cnt', 'Init Fwd Win Byts', 'FIN Flag Cnt', 'Pkt Size Avg', 'Pkt Len Min', 'ACK Flag Cnt', 'Flow Pkts/s', 'Pkt Len Mean', 'Bwd Pkt Len Min', 'Pkt Len Max'], 'Normal sample 275': ['Init Bwd Win Byts', 'SYN Flag Cnt', 'Bwd Pkt Len Min', 'Down/Up Ratio', 'Flow Byts/s', 'Bwd IAT Tot', 'Pkt Size Avg', 'Bwd Pkt Len Std', 'Fwd Pkt Len Mean', 'Active Max'], 'Normal sample 276': ['Down/Up Ratio', 'Init Fwd Win Byts', 'SYN Flag Cnt', 'FIN Flag Cnt', 'Bwd Pkts/s', 'Fwd IAT Tot', 'Bwd IAT Std', 'Flow Pkts/s', 'Bwd Pkt Len Max', 'Idle Max'], 'Normal sample 277': ['SYN Flag Cnt', 'Pkt Size Avg', 'Pkt Len Min', 'FIN Flag Cnt', 'Bwd Pkt Len Min', 'Pkt Len Mean', 'Flow Pkts/s', 'Pkt Len Max', 'Bwd Pkts/s', 'Pkt Len Std'], 'Normal sample 278': ['Down/Up Ratio', 'Init Fwd Win Byts', 'FIN Flag Cnt', 'Bwd Pkts/s', 'Idle Max', 'Bwd IAT Std', 'Flow Pkts/s', 'Bwd Pkt Len Min', 'Bwd Pkt Len Std', 'Fwd IAT Tot'], 'Normal sample 279': ['Init Bwd Win Byts', 'SYN Flag Cnt', 'Bwd Pkts/s', 'Flow Pkts/s', 'Bwd PSH Flags', 'Down/Up Ratio', 'Init Fwd Win Byts', 'FIN Flag Cnt', 'URG Flag Cnt', 'Fwd IAT Max'], 'Normal sample 280': ['SYN Flag Cnt', 'Init Fwd Win Byts', 'FIN Flag Cnt', 'Pkt Len Min', 'Pkt Size Avg', 'Pkt Len Mean', 'Flow Pkts/s', 'ACK Flag Cnt', 'Pkt Len Max', 'Bwd Pkt Len Min'], 'Normal sample 281': ['SYN Flag Cnt', 'Init Fwd Win Byts', 'FIN Flag Cnt', 'Pkt Len Min', 'ACK Flag Cnt', 'Pkt Size Avg', 'Flow Pkts/s', 'Pkt Len Max', 'Bwd Pkt Len Min', 'Pkt Len Mean'], 'Normal sample 282': ['SYN Flag Cnt', 'FIN Flag Cnt', 'Init Fwd Win Byts', 'Pkt Len Min', 'Pkt Size Avg', 'ACK Flag Cnt', 'Bwd Pkt Len Min', 'Pkt Len Max', 'Pkt Len Mean', 'Flow Pkts/s'], 'Normal sample 283': ['Init Bwd Win Byts', 'SYN Flag Cnt', 'ACK Flag Cnt', 'Flow Pkts/s', 'Bwd IAT Std', 'Flow IAT Max', 'Flow IAT Min', 'Bwd URG Flags', 'Bwd Pkt Len Max', 'Active Max'], 'Normal sample 284': ['Down/Up Ratio', 'Init Fwd Win Byts', 'FIN Flag Cnt', 'Bwd Pkts/s', 'Flow Pkts/s', 'Fwd Pkt Len Min', 'Bwd Pkt Len Std', 'Bwd URG Flags', 'Flow IAT Max', 'Fwd IAT Tot'], 'Normal sample 285': ['Init Bwd Win Byts', 'Pkt Size Avg', 'Pkt Len Mean', 'Pkt Len Max', 'Fwd Pkt Len Max', 'FIN Flag Cnt', 'Fwd Pkt Len Std', 'ACK Flag Cnt', 'Down/Up Ratio', 'Tot Bwd Pkts'], 'Normal sample 286': ['Init Bwd Win Byts', 'Pkt Len Max', 'Pkt Len Mean', 'Pkt Size Avg', 'Pkt Len Std', 'Fwd IAT Max', 'Bwd IAT Max', 'Fwd IAT Tot', 'ACK Flag Cnt', 'Flow IAT Max'], 'Normal sample 287': ['Down/Up Ratio', 'Init Fwd Win Byts', 'SYN Flag Cnt', 'ACK Flag Cnt', 'FIN Flag Cnt', 'Subflow Bwd Pkts', 'Fwd IAT Min', 'Active Std', 'Fwd Act Data Pkts', 'Tot Fwd Pkts'], 'Normal sample 288': ['Init Bwd Win Byts', 'SYN Flag Cnt', 'FIN Flag Cnt', 'Flow Pkts/s', 'Flow IAT Max', 'Idle Mean', 'Down/Up Ratio', 'Bwd IAT Std', 'Flow Duration', 'Bwd IAT Max'], 'Normal sample 289': ['SYN Flag Cnt', 'Init Fwd Win Byts', 'ACK Flag Cnt', 'FIN Flag Cnt', 'Flow Pkts/s', 'Pkt Len Min', 'Pkt Size Avg', 'Bwd Pkts/s', 'Bwd Pkt Len Min', 'Pkt Len Mean'], 'Normal sample 290': ['Init Bwd Win Byts', 'Fwd Pkt Len Max', 'Flow Pkts/s', 'Fwd Seg Size Avg', 'Fwd Pkt Len Std', 'Fwd IAT Std', 'Pkt Size Avg', 'Fwd Pkt Len Mean', 'Bwd Pkts/s', 'Flow IAT Max'], 'Normal sample 291': ['Down/Up Ratio', 'Init Fwd Win Byts', 'SYN Flag Cnt', 'FIN Flag Cnt', 'ACK Flag Cnt', 'Bwd URG Flags', 'PSH Flag Cnt', 'Bwd Pkt Len Mean', 'Bwd Pkts/s', 'Fwd Header Len'], 'Normal sample 292': ['Down/Up Ratio', 'Init Fwd Win Byts', 'SYN Flag Cnt', 'ACK Flag Cnt', 'FIN Flag Cnt', 'Bwd Pkts/s', 'Bwd URG Flags', 'Bwd Pkt Len Std', 'Bwd Seg Size Avg', 'Bwd IAT Tot'], 'Normal sample 293': ['Down/Up Ratio', 'Init Fwd Win Byts', 'SYN Flag Cnt', 'ACK Flag Cnt', 'FIN Flag Cnt', 'Active Std', 'Bwd Pkts/s', 'TotLen Bwd Pkts', 'Fwd IAT Min', 'Flow Duration'], 'Normal sample 294': ['SYN Flag Cnt', 'Init Fwd Win Byts', 'ACK Flag Cnt', 'FIN Flag Cnt', 'Pkt Len Min', 'Flow Pkts/s', 'Pkt Size Avg', 'Pkt Len Mean', 'Bwd Pkts/s', 'Pkt Len Max'], 'Normal sample 295': ['SYN Flag Cnt', 'FIN Flag Cnt', 'Pkt Size Avg', 'Bwd Pkt Len Min', 'Pkt Len Min', 'Fwd Pkt Len Min', 'Pkt Len Mean', 'Flow Pkts/s', 'Fwd Seg Size Avg', 'Fwd Pkt Len Mean'], 'Normal sample 296': ['Init Bwd Win Byts', 'Fwd IAT Std', 'Fwd IAT Tot', 'Fwd Pkt Len Max', 'Pkt Len Max', 'Down/Up Ratio', 'Fwd Seg Size Avg', 'Fwd IAT Max', 'Fwd Pkt Len Mean', 'Bwd Pkts/s'], 'Normal sample 297': ['Init Bwd Win Byts', 'Fwd IAT Tot', 'Fwd Pkt Len Std', 'SYN Flag Cnt', 'Fwd Pkt Len Max', 'Fwd Seg Size Avg', 'Fwd Pkt Len Min', 'Pkt Len Max', 'Init Fwd Win Byts', 'Bwd PSH Flags'], 'Normal sample 298': ['Down/Up Ratio', 'Init Fwd Win Byts', 'SYN Flag Cnt', 'FIN Flag Cnt', 'ACK Flag Cnt', 'Pkt Len Min', 'Flow IAT Std', 'Bwd Pkts/s', 'Idle Mean', 'Fwd Act Data Pkts'], 'Normal sample 299': ['Init Bwd Win Byts', 'Fwd IAT Tot', 'Fwd IAT Std', 'Bwd PSH Flags', 'Down/Up Ratio', 'Bwd Pkts/s', 'SYN Flag Cnt', 'Init Fwd Win Byts', 'Bwd URG Flags', 'Bwd IAT Tot'], 'Normal sample 300': ['Down/Up Ratio', 'Init Fwd Win Byts', 'FIN Flag Cnt', 'Bwd IAT Tot', 'Bwd Pkts/s', 'Flow IAT Max', 'Pkt Len Min', 'Active Mean', 'PSH Flag Cnt', 'Fwd IAT Max'], 'Normal sample 301': ['SYN Flag Cnt', 'Init Fwd Win Byts', 'FIN Flag Cnt', 'Pkt Len Min', 'Pkt Size Avg', 'ACK Flag Cnt', 'Flow Pkts/s', 'Pkt Len Max', 'Pkt Len Mean', 'Bwd Pkt Len Min'], 'Normal sample 302': ['Init Bwd Win Byts', 'SYN Flag Cnt', 'Flow Pkts/s', 'Init Fwd Win Byts', 'Bwd Pkts/s', 'FIN Flag Cnt', 'Fwd Pkt Len Mean', 'Fwd Seg Size Avg', 'Fwd Pkt Len Max', 'Pkt Len Std'], 'Normal sample 303': ['SYN Flag Cnt', 'Init Fwd Win Byts', 'FIN Flag Cnt', 'Pkt Size Avg', 'ACK Flag Cnt', 'Flow Pkts/s', 'Pkt Len Min', 'Pkt Len Mean', 'Bwd Pkt Len Min', 'Pkt Len Max'], 'Normal sample 304': ['Init Bwd Win Byts', 'SYN Flag Cnt', 'ACK Flag Cnt', 'Bwd IAT Tot', 'Flow IAT Mean', 'Idle Max', 'Subflow Bwd Byts', 'Bwd IAT Max', 'TotLen Fwd Pkts', 'Fwd IAT Max'], 'Normal sample 305': ['SYN Flag Cnt', 'Init Fwd Win Byts', 'FIN Flag Cnt', 'Pkt Len Min', 'Pkt Size Avg', 'Bwd Pkt Len Min', 'Pkt Len Mean', 'ACK Flag Cnt', 'Flow Pkts/s', 'Pkt Len Max'], 'Normal sample 306': ['Down/Up Ratio', 'Init Fwd Win Byts', 'SYN Flag Cnt', 'FIN Flag Cnt', 'ACK Flag Cnt', 'Bwd Pkts/s', 'Flow IAT Max', 'Fwd IAT Mean', 'Flow Duration', 'Bwd IAT Std'], 'Normal sample 307': ['SYN Flag Cnt', 'Init Fwd Win Byts', 'FIN Flag Cnt', 'Pkt Size Avg', 'Pkt Len Min', 'ACK Flag Cnt', 'Flow Pkts/s', 'Pkt Len Mean', 'Bwd Pkt Len Min', 'Bwd Pkts/s'], 'Normal sample 308': ['Down/Up Ratio', 'Init Fwd Win Byts', 'SYN Flag Cnt', 'FIN Flag Cnt', 'ACK Flag Cnt', 'Bwd Pkts/s', 'Idle Mean', 'Idle Max', 'Flow Duration', 'Flow Byts/s'], 'Normal sample 309': ['Init Bwd Win Byts', 'Fwd Pkt Len Max', 'Fwd Pkt Len Std', 'Down/Up Ratio', 'FIN Flag Cnt', 'Fwd Pkt Len Mean', 'Fwd Seg Size Avg', 'Init Fwd Win Byts', 'Bwd IAT Tot', 'Bwd IAT Max'], 'Normal sample 310': ['Down/Up Ratio', 'Init Fwd Win Byts', 'FIN Flag Cnt', 'Bwd Pkts/s', 'Pkt Len Min', 'Idle Max', 'Fwd IAT Std', 'Flow Pkts/s', 'Bwd IAT Mean', 'Bwd IAT Std'], 'Normal sample 311': ['Down/Up Ratio', 'Init Fwd Win Byts', 'SYN Flag Cnt', 'FIN Flag Cnt', 'ACK Flag Cnt', 'Flow Pkts/s', 'Pkt Len Min', 'Flow Duration', 'Flow IAT Max', 'PSH Flag Cnt'], 'Normal sample 312': ['Init Bwd Win Byts', 'Bwd IAT Tot', 'Fwd IAT Tot', 'Pkt Len Std', 'Fwd Pkt Len Max', 'Fwd IAT Std', 'Down/Up Ratio', 'Pkt Len Max', 'Pkt Size Avg', 'Pkt Len Mean'], 'Normal sample 313': ['SYN Flag Cnt', 'Init Fwd Win Byts', 'FIN Flag Cnt', 'ACK Flag Cnt', 'Pkt Len Min', 'Flow Pkts/s', 'Pkt Size Avg', 'Bwd Pkt Len Min', 'Pkt Len Mean', 'Pkt Len Max'], 'Normal sample 314': ['Init Bwd Win Byts', 'SYN Flag Cnt', 'Bwd Pkt Len Min', 'Flow Pkts/s', 'Bwd Pkts/s', 'Pkt Len Mean', 'Fwd Seg Size Avg', 'Idle Min', 'Flow IAT Mean', 'FIN Flag Cnt'], 'Normal sample 315': ['SYN Flag Cnt', 'Init Fwd Win Byts', 'ACK Flag Cnt', 'FIN Flag Cnt', 'Pkt Len Min', 'Flow Pkts/s', 'Pkt Size Avg', 'Pkt Len Max', 'Bwd Pkt Len Min', 'Pkt Len Mean'], 'Normal sample 316': ['Down/Up Ratio', 'Init Fwd Win Byts', 'SYN Flag Cnt', 'FIN Flag Cnt', 'Bwd Pkts/s', 'Flow Pkts/s', 'Idle Max', 'Active Min', 'Bwd IAT Std', 'Tot Fwd Pkts'], 'Normal sample 317': ['SYN Flag Cnt', 'Flow Pkts/s', 'Bwd Pkts/s', 'Init Fwd Win Byts', 'Down/Up Ratio', 'FIN Flag Cnt', 'Fwd Pkt Len Max', 'Fwd Pkt Len Mean', 'Fwd Pkt Len Std', 'Pkt Len Max'], 'Normal sample 318': ['Down/Up Ratio', 'Init Fwd Win Byts', 'SYN Flag Cnt', 'ACK Flag Cnt', 'FIN Flag Cnt', 'TotLen Fwd Pkts', 'Bwd PSH Flags', 'Idle Max', 'PSH Flag Cnt', 'Flow Duration'], 'Normal sample 319': ['SYN Flag Cnt', 'Init Fwd Win Byts', 'FIN Flag Cnt', 'Pkt Len Min', 'Pkt Size Avg', 'ACK Flag Cnt', 'Pkt Len Max', 'Bwd Pkt Len Min', 'Pkt Len Mean', 'Flow Pkts/s'], 'Normal sample 320': ['Init Bwd Win Byts', 'SYN Flag Cnt', 'FIN Flag Cnt', 'Flow Pkts/s', 'Down/Up Ratio', 'Bwd IAT Std', 'Fwd Header Len', 'Flow IAT Max', 'Bwd Pkt Len Std', 'URG Flag Cnt'], 'Normal sample 321': ['SYN Flag Cnt', 'Init Fwd Win Byts', 'FIN Flag Cnt', 'Pkt Size Avg', 'ACK Flag Cnt', 'Pkt Len Min', 'Pkt Len Mean', 'Bwd Pkt Len Min', 'Flow Pkts/s', 'Pkt Len Max'], 'Normal sample 322': ['Init Bwd Win Byts', 'Fwd IAT Tot', 'Fwd IAT Std', 'Bwd IAT Tot', 'Fwd IAT Max', 'Bwd URG Flags', 'PSH Flag Cnt', 'Bwd IAT Max', 'FIN Flag Cnt', 'Flow Pkts/s'], 'Normal sample 323': ['SYN Flag Cnt', 'Flow Pkts/s', 'Pkt Size Avg', 'FIN Flag Cnt', 'Bwd Pkt Len Min', 'Pkt Len Min', 'Pkt Len Mean', 'Bwd Pkts/s', 'Pkt Len Max', 'Pkt Len Std'], 'Normal sample 324': ['Down/Up Ratio', 'Init Fwd Win Byts', 'SYN Flag Cnt', 'ACK Flag Cnt', 'FIN Flag Cnt', 'PSH Flag Cnt', 'Bwd Pkts/s', 'Pkt Len Min', 'Fwd Act Data Pkts', 'Idle Max'], 'Normal sample 325': ['SYN Flag Cnt', 'Init Fwd Win Byts', 'FIN Flag Cnt', 'ACK Flag Cnt', 'Pkt Size Avg', 'Pkt Len Max', 'Pkt Len Min', 'Bwd Pkt Len Min', 'Pkt Len Mean', 'Flow Pkts/s'], 'Normal sample 326': ['Init Bwd Win Byts', 'Fwd Pkt Len Max', 'SYN Flag Cnt', 'Bwd IAT Tot', 'Fwd Pkt Len Mean', 'Fwd Seg Size Avg', 'Fwd Pkt Len Std', 'Bwd PSH Flags', 'Down/Up Ratio', 'Pkt Size Avg'], 'Normal sample 327': ['Init Bwd Win Byts', 'SYN Flag Cnt', 'FIN Flag Cnt', 'Flow Pkts/s', 'Bwd IAT Max', 'Idle Mean', 'Flow IAT Max', 'Idle Max', 'Fwd Pkt Len Min', 'Idle Min'], 'Normal sample 328': ['Down/Up Ratio', 'Init Fwd Win Byts', 'SYN Flag Cnt', 'FIN Flag Cnt', 'ACK Flag Cnt', 'Flow IAT Std', 'Active Mean', 'Bwd Pkts/s', 'Bwd URG Flags', 'PSH Flag Cnt'], 'Normal sample 329': ['Init Bwd Win Byts', 'SYN Flag Cnt', 'Flow Pkts/s', 'FIN Flag Cnt', 'Bwd Pkts/s', 'Pkt Len Std', 'Fwd Header Len', 'Init Fwd Win Byts', 'TotLen Fwd Pkts', 'Pkt Size Avg'], 'Normal sample 330': ['SYN Flag Cnt', 'Init Fwd Win Byts', 'ACK Flag Cnt', 'FIN Flag Cnt', 'Pkt Len Min', 'Pkt Size Avg', 'Pkt Len Max', 'Bwd Pkt Len Min', 'Flow Pkts/s', 'Pkt Len Mean'], 'Normal sample 331': ['Down/Up Ratio', 'Init Fwd Win Byts', 'SYN Flag Cnt', 'ACK Flag Cnt', 'FIN Flag Cnt', 'Bwd Pkt Len Max', 'Bwd Pkts/s', 'Flow IAT Std', 'Fwd Pkts/s', 'URG Flag Cnt'], 'Normal sample 332': ['Init Bwd Win Byts', 'Pkt Size Avg', 'Fwd IAT Tot', 'Fwd IAT Std', 'Fwd IAT Max', 'Pkt Len Mean', 'Pkt Len Max', 'Flow IAT Max', 'FIN Flag Cnt', 'Fwd Pkt Len Max'], 'Normal sample 333': ['Down/Up Ratio', 'Init Fwd Win Byts', 'SYN Flag Cnt', 'FIN Flag Cnt', 'ACK Flag Cnt', 'Bwd Pkts/s', 'Fwd Act Data Pkts', 'Flow Duration', 'PSH Flag Cnt', 'URG Flag Cnt'], 'Normal sample 334': ['SYN Flag Cnt', 'Fwd Pkt Len Std', 'Flow Byts/s', 'Fwd Pkt Len Max', 'Fwd Pkt Len Mean', 'Pkt Len Max', 'Pkt Len Mean', 'Fwd Seg Size Avg', 'Pkt Size Avg', 'FIN Flag Cnt'], 'Normal sample 335': ['Down/Up Ratio', 'Bwd PSH Flags', 'Init Fwd Win Byts', 'ACK Flag Cnt', 'PSH Flag Cnt', 'Bwd Pkts/s', 'SYN Flag Cnt', 'FIN Flag Cnt', 'Flow Pkts/s', 'Pkt Len Mean'], 'Normal sample 336': ['Init Bwd Win Byts', 'Fwd Pkt Len Max', 'Pkt Len Max', 'Fwd Pkt Len Mean', 'Fwd Pkt Len Std', 'Fwd Seg Size Avg', 'Init Fwd Win Byts', 'Pkt Size Avg', 'Subflow Bwd Pkts', 'FIN Flag Cnt'], 'Normal sample 337': ['Init Bwd Win Byts', 'SYN Flag Cnt', 'Flow Pkts/s', 'Bwd Pkts/s', 'Fwd IAT Max', 'Init Fwd Win Byts', 'Fwd IAT Mean', 'Fwd IAT Min', 'Fwd IAT Tot', 'FIN Flag Cnt'], 'Normal sample 338': ['SYN Flag Cnt', 'Init Fwd Win Byts', 'FIN Flag Cnt', 'Pkt Len Min', 'Pkt Size Avg', 'Bwd Pkt Len Min', 'Flow Pkts/s', 'ACK Flag Cnt', 'Pkt Len Mean', 'Fwd Pkt Len Min'], 'Normal sample 339': ['Init Bwd Win Byts', 'Fwd IAT Tot', 'Fwd Pkt Len Max', 'Bwd PSH Flags', 'SYN Flag Cnt', 'Fwd Pkt Len Std', 'Fwd Pkt Len Mean', 'Down/Up Ratio', 'Init Fwd Win Byts', 'Fwd IAT Std'], 'Normal sample 340': ['SYN Flag Cnt', 'Init Fwd Win Byts', 'ACK Flag Cnt', 'FIN Flag Cnt', 'Pkt Len Min', 'Pkt Size Avg', 'Flow Pkts/s', 'Bwd Pkt Len Min', 'Bwd Pkts/s', 'Pkt Len Max'], 'Normal sample 341': ['SYN Flag Cnt', 'Init Fwd Win Byts', 'ACK Flag Cnt', 'FIN Flag Cnt', 'Flow Pkts/s', 'Pkt Len Min', 'Bwd Pkts/s', 'Bwd Pkt Len Min', 'Pkt Size Avg', 'Pkt Len Mean'], 'Normal sample 342': ['Init Bwd Win Byts', 'SYN Flag Cnt', 'Bwd IAT Max', 'Fwd IAT Std', 'Bwd IAT Tot', 'Flow IAT Mean', 'Fwd IAT Max', 'Bwd IAT Mean', 'ACK Flag Cnt', 'Flow IAT Max'], 'Normal sample 343': ['Down/Up Ratio', 'Init Fwd Win Byts', 'SYN Flag Cnt', 'FIN Flag Cnt', 'ACK Flag Cnt', 'Bwd Pkts/s', 'Flow IAT Std', 'Pkt Len Max', 'PSH Flag Cnt', 'Bwd IAT Max'], 'Normal sample 344': ['SYN Flag Cnt', 'FIN Flag Cnt', 'Pkt Size Avg', 'Pkt Len Min', 'Bwd Pkt Len Min', 'Pkt Len Mean', 'Fwd Pkt Len Min', 'Fwd Seg Size Avg', 'Down/Up Ratio', 'Flow Pkts/s'], 'Normal sample 345': ['Init Bwd Win Byts', 'Fwd IAT Tot', 'Fwd IAT Std', 'Bwd PSH Flags', 'SYN Flag Cnt', 'Bwd Pkts/s', 'Down/Up Ratio', 'Init Fwd Win Byts', 'Pkt Size Avg', 'Tot Fwd Pkts'], 'Normal sample 346': ['SYN Flag Cnt', 'Fwd Pkt Len Mean', 'Fwd Pkt Len Std', 'Fwd Seg Size Avg', 'Fwd Pkt Len Max', 'Pkt Len Max', 'Pkt Len Mean', 'Pkt Size Avg', 'Bwd Pkts/s', 'Init Fwd Win Byts'], 'Normal sample 347': ['Down/Up Ratio', 'Init Fwd Win Byts', 'SYN Flag Cnt', 'ACK Flag Cnt', 'FIN Flag Cnt', 'Bwd Pkts/s', 'Pkt Len Var', 'URG Flag Cnt', 'Bwd URG Flags', 'PSH Flag Cnt'], 'Normal sample 348': ['Init Bwd Win Byts', 'Pkt Size Avg', 'Pkt Len Max', 'Pkt Len Mean', 'Fwd Pkt Len Max', 'Down/Up Ratio', 'Flow IAT Max', 'Flow Pkts/s', 'Fwd Seg Size Avg', 'Pkt Len Std'], 'Normal sample 349': ['SYN Flag Cnt', 'Pkt Size Avg', 'FIN Flag Cnt', 'Pkt Len Min', 'Flow Pkts/s', 'Bwd Pkt Len Min', 'Pkt Len Mean', 'Bwd Pkts/s', 'Pkt Len Max', 'Pkt Len Std'], 'Normal sample 350': ['SYN Flag Cnt', 'Init Fwd Win Byts', 'FIN Flag Cnt', 'Pkt Len Min', 'Pkt Size Avg', 'Pkt Len Mean', 'ACK Flag Cnt', 'Bwd Pkt Len Min', 'Flow Pkts/s', 'Bwd Pkts/s'], 'Normal sample 351': ['SYN Flag Cnt', 'Init Fwd Win Byts', 'FIN Flag Cnt', 'Pkt Len Min', 'Pkt Size Avg', 'Flow Pkts/s', 'ACK Flag Cnt', 'Pkt Len Mean', 'Bwd Pkt Len Min', 'Bwd Pkts/s'], 'Normal sample 352': ['SYN Flag Cnt', 'Flow Pkts/s', 'FIN Flag Cnt', 'Pkt Size Avg', 'Pkt Len Min', 'Bwd Pkt Len Min', 'Pkt Len Mean', 'Pkt Len Max', 'Bwd Pkts/s', 'Pkt Len Std'], 'Normal sample 353': ['Init Fwd Win Byts', 'FIN Flag Cnt', 'URG Flag Cnt', 'Fwd IAT Tot', 'TotLen Bwd Pkts', 'Flow IAT Std', 'Flow Duration', 'Down/Up Ratio', 'Flow IAT Max', 'Fwd IAT Mean'], 'Normal sample 354': ['SYN Flag Cnt', 'Init Fwd Win Byts', 'FIN Flag Cnt', 'ACK Flag Cnt', 'Pkt Size Avg', 'Pkt Len Min', 'Flow Pkts/s', 'Bwd Pkt Len Min', 'Pkt Len Max', 'Pkt Len Mean'], 'Normal sample 355': ['Init Bwd Win Byts', 'SYN Flag Cnt', 'ACK Flag Cnt', 'Bwd IAT Mean', 'Fwd IAT Max', 'Subflow Fwd Byts', 'Bwd IAT Max', 'Flow Pkts/s', 'Bwd URG Flags', 'Flow IAT Mean'], 'Normal sample 356': ['Init Bwd Win Byts', 'Fwd IAT Tot', 'SYN Flag Cnt', 'Bwd PSH Flags', 'Fwd Pkt Len Max', 'Bwd Pkts/s', 'Fwd IAT Std', 'Down/Up Ratio', 'Init Fwd Win Byts', 'Idle Max'], 'Normal sample 357': ['SYN Flag Cnt', 'Init Fwd Win Byts', 'FIN Flag Cnt', 'Pkt Len Min', 'Pkt Size Avg', 'Flow Pkts/s', 'Pkt Len Max', 'ACK Flag Cnt', 'Bwd Pkt Len Min', 'Pkt Len Std'], 'Normal sample 358': ['Init Fwd Win Byts', 'FIN Flag Cnt', 'PSH Flag Cnt', 'Fwd IAT Tot', 'Tot Fwd Pkts', 'Tot Bwd Pkts', 'TotLen Fwd Pkts', 'Fwd Pkt Len Max', 'Fwd Pkt Len Mean', 'Bwd Pkt Len Max'], 'Normal sample 359': ['Init Bwd Win Byts', 'Fwd IAT Tot', 'Fwd IAT Std', 'Fwd Pkt Len Max', 'Pkt Len Max', 'Bwd IAT Tot', 'Fwd IAT Mean', 'ACK Flag Cnt', 'Down/Up Ratio', 'Pkt Len Mean'], 'Normal sample 360': ['Init Bwd Win Byts', 'SYN Flag Cnt', 'ACK Flag Cnt', 'Flow IAT Max', 'Fwd IAT Mean', 'Idle Max', 'Flow Byts/s', 'Fwd IAT Min', 'Flow Pkts/s', 'Bwd IAT Std'], 'Normal sample 361': ['SYN Flag Cnt', 'FIN Flag Cnt', 'Flow Byts/s', 'Pkt Size Avg', 'Bwd Pkt Len Min', 'Pkt Len Min', 'Pkt Len Mean', 'Fwd Pkt Len Min', 'Down/Up Ratio', 'Fwd Seg Size Avg'], 'Normal sample 362': ['Init Bwd Win Byts', 'SYN Flag Cnt', 'FIN Flag Cnt', 'Flow Pkts/s', 'Idle Max', 'Flow IAT Max', 'Flow Duration', 'Fwd Header Len', 'Active Max', 'Down/Up Ratio'], 'Normal sample 363': ['SYN Flag Cnt', 'Flow Pkts/s', 'Bwd Pkts/s', 'FIN Flag Cnt', 'ACK Flag Cnt', 'Bwd Pkt Len Min', 'Pkt Size Avg', 'Down/Up Ratio', 'Fwd Seg Size Avg', 'Fwd Pkt Len Min'], 'Normal sample 364': ['Init Bwd Win Byts', 'SYN Flag Cnt', 'Down/Up Ratio', 'Flow Pkts/s', 'Init Fwd Win Byts', 'FIN Flag Cnt', 'Pkt Len Max', 'Fwd Pkt Len Std', 'Bwd Pkts/s', 'Fwd Seg Size Avg'], 'Normal sample 365': ['SYN Flag Cnt', 'Init Fwd Win Byts', 'FIN Flag Cnt', 'ACK Flag Cnt', 'Pkt Size Avg', 'Pkt Len Min', 'Flow Pkts/s', 'Pkt Len Max', 'Bwd Pkt Len Min', 'Pkt Len Mean'], 'Normal sample 366': ['SYN Flag Cnt', 'FIN Flag Cnt', 'Pkt Len Min', 'Init Fwd Win Byts', 'Pkt Size Avg', 'Bwd Pkt Len Min', 'Pkt Len Mean', 'Flow Pkts/s', 'ACK Flag Cnt', 'Fwd Pkt Len Min'], 'Normal sample 367': ['Init Bwd Win Byts', 'SYN Flag Cnt', 'FIN Flag Cnt', 'Flow Pkts/s', 'Down/Up Ratio', 'Bwd Pkt Len Std', 'Bwd IAT Std', 'Idle Max', 'Idle Mean', 'Bwd IAT Tot'], 'Normal sample 368': ['Down/Up Ratio', 'Init Fwd Win Byts', 'SYN Flag Cnt', 'FIN Flag Cnt', 'Flow Pkts/s', 'Bwd Pkts/s', 'PSH Flag Cnt', 'Idle Max', 'Fwd IAT Tot', 'Fwd Pkts/s'], 'Normal sample 369': ['Down/Up Ratio', 'Init Fwd Win Byts', 'SYN Flag Cnt', 'ACK Flag Cnt', 'FIN Flag Cnt', 'PSH Flag Cnt', 'Flow IAT Max', 'URG Flag Cnt', 'Bwd URG Flags', 'Bwd IAT Min'], 'Normal sample 370': ['SYN Flag Cnt', 'Init Fwd Win Byts', 'FIN Flag Cnt', 'Pkt Size Avg', 'ACK Flag Cnt', 'Pkt Len Min', 'Flow Pkts/s', 'Pkt Len Max', 'Bwd Pkt Len Min', 'Pkt Len Mean'], 'Normal sample 371': ['Init Bwd Win Byts', 'Fwd IAT Tot', 'Bwd PSH Flags', 'Fwd IAT Std', 'SYN Flag Cnt', 'Down/Up Ratio', 'Bwd Pkts/s', 'Bwd IAT Tot', 'Init Fwd Win Byts', 'Flow Pkts/s'], 'Normal sample 372': ['Down/Up Ratio', 'Init Fwd Win Byts', 'FIN Flag Cnt', 'Bwd Pkts/s', 'Pkt Len Std', 'Active Max', 'PSH Flag Cnt', 'Bwd Pkt Len Min', 'URG Flag Cnt', 'Bwd IAT Max'], 'Normal sample 373': ['Init Bwd Win Byts', 'Fwd Pkt Len Max', 'Fwd IAT Tot', 'Fwd IAT Std', 'Fwd IAT Mean', 'FIN Flag Cnt', 'Flow Pkts/s', 'Fwd Pkt Len Std', 'Pkt Len Max', 'Pkt Size Avg'], 'Normal sample 374': ['Down/Up Ratio', 'Init Fwd Win Byts', 'SYN Flag Cnt', 'ACK Flag Cnt', 'FIN Flag Cnt', 'URG Flag Cnt', 'Bwd Pkts/s', 'Flow Duration', 'Bwd IAT Tot', 'Idle Max'], 'Normal sample 375': ['Down/Up Ratio', 'Init Fwd Win Byts', 'SYN Flag Cnt', 'FIN Flag Cnt', 'ACK Flag Cnt', 'Bwd Pkts/s', 'PSH Flag Cnt', 'Fwd IAT Tot', 'Bwd Pkt Len Mean', 'Flow Duration'], 'Normal sample 376': ['SYN Flag Cnt', 'FIN Flag Cnt', 'Pkt Len Min', 'Init Fwd Win Byts', 'Pkt Size Avg', 'Bwd Pkt Len Min', 'Pkt Len Mean', 'Flow Pkts/s', 'Pkt Len Max', 'Fwd Pkt Len Min'], 'Normal sample 377': ['Init Bwd Win Byts', 'Fwd IAT Tot', 'Pkt Size Avg', 'Bwd PSH Flags', 'Pkt Len Max', 'Pkt Len Std', 'Pkt Len Mean', 'Bwd IAT Mean', 'SYN Flag Cnt', 'Fwd Pkt Len Max'], 'Normal sample 378': ['Pkt Len Max', 'Init Bwd Win Byts', 'Pkt Len Mean', 'Pkt Size Avg', 'Fwd IAT Tot', 'Pkt Len Std', 'Fwd IAT Max', 'SYN Flag Cnt', 'Flow Duration', 'Flow IAT Max'], 'Normal sample 379': ['Init Bwd Win Byts', 'SYN Flag Cnt', 'Down/Up Ratio', 'FIN Flag Cnt', 'Flow Pkts/s', 'Flow IAT Std', 'Flow IAT Max', 'Active Mean', 'Idle Min', 'Flow IAT Mean'], 'Normal sample 380': ['Init Bwd Win Byts', 'SYN Flag Cnt', 'FIN Flag Cnt', 'Flow Pkts/s', 'Bwd IAT Max', 'Down/Up Ratio', 'Flow Duration', 'Flow IAT Max', 'Bwd IAT Mean', 'Bwd IAT Tot'], 'Normal sample 381': ['Down/Up Ratio', 'Init Fwd Win Byts', 'FIN Flag Cnt', 'Bwd Pkts/s', 'PSH Flag Cnt', 'Flow Duration', 'Pkt Size Avg', 'Flow IAT Std', 'Idle Min', 'Idle Max'], 'Normal sample 382': ['Down/Up Ratio', 'Init Fwd Win Byts', 'SYN Flag Cnt', 'FIN Flag Cnt', 'Bwd Pkts/s', 'Flow Pkts/s', 'Bwd IAT Std', 'Bwd Pkt Len Mean', 'Flow IAT Max', 'Idle Max'], 'Normal sample 383': ['Init Bwd Win Byts', 'SYN Flag Cnt', 'FIN Flag Cnt', 'Flow Pkts/s', 'Flow IAT Max', 'Bwd IAT Std', 'Down/Up Ratio', 'Bwd IAT Max', 'Idle Max', 'Fwd IAT Max'], 'Normal sample 384': ['Init Bwd Win Byts', 'Fwd IAT Tot', 'Pkt Len Max', 'Pkt Len Std', 'Down/Up Ratio', 'Fwd Pkt Len Max', 'FIN Flag Cnt', 'Fwd IAT Max', 'Bwd IAT Tot', 'Bwd IAT Std'], 'Normal sample 385': ['Idle Mean', 'SYN Flag Cnt', 'ACK Flag Cnt', 'Fwd IAT Tot', 'Pkt Len Min', 'Idle Max', 'Bwd Pkt Len Min', 'Fwd IAT Std', 'Idle Min', 'Fwd IAT Max'], 'Normal sample 386': ['Down/Up Ratio', 'Init Fwd Win Byts', 'SYN Flag Cnt', 'FIN Flag Cnt', 'Flow Pkts/s', 'Bwd Pkts/s', 'Flow IAT Max', 'PSH Flag Cnt', 'URG Flag Cnt', 'Fwd IAT Max'], 'Normal sample 387': ['Down/Up Ratio', 'Init Fwd Win Byts', 'SYN Flag Cnt', 'FIN Flag Cnt', 'ACK Flag Cnt', 'Fwd IAT Max', 'Bwd Pkts/s', 'PSH Flag Cnt', 'TotLen Bwd Pkts', 'Bwd IAT Min'], 'Normal sample 388': ['SYN Flag Cnt', 'Flow Pkts/s', 'Bwd Pkts/s', 'FIN Flag Cnt', 'Pkt Size Avg', 'Fwd Pkt Len Min', 'Pkt Len Mean', 'ACK Flag Cnt', 'Bwd Pkt Len Min', 'Down/Up Ratio'], 'Normal sample 389': ['Down/Up Ratio', 'Init Fwd Win Byts', 'SYN Flag Cnt', 'ACK Flag Cnt', 'FIN Flag Cnt', 'PSH Flag Cnt', 'Bwd Pkts/s', 'Bwd PSH Flags', 'Flow IAT Std', 'Bwd Pkt Len Mean'], 'Normal sample 390': ['PSH Flag Cnt', 'Down/Up Ratio', 'SYN Flag Cnt', 'Init Fwd Win Byts', 'ACK Flag Cnt', 'Bwd Pkts/s', 'FIN Flag Cnt', 'Bwd PSH Flags', 'Flow Pkts/s', 'Idle Max'], 'Normal sample 391': ['SYN Flag Cnt', 'Init Fwd Win Byts', 'FIN Flag Cnt', 'Pkt Len Min', 'Pkt Size Avg', 'Bwd Pkt Len Min', 'Flow Pkts/s', 'Pkt Len Mean', 'ACK Flag Cnt', 'Pkt Len Max'], 'Normal sample 392': ['SYN Flag Cnt', 'Init Fwd Win Byts', 'FIN Flag Cnt', 'ACK Flag Cnt', 'Pkt Len Min', 'Pkt Size Avg', 'Pkt Len Max', 'Flow Pkts/s', 'Bwd Pkts/s', 'Pkt Len Std'], 'Normal sample 393': ['SYN Flag Cnt', 'FIN Flag Cnt', 'Fwd Pkt Len Min', 'Fwd Seg Size Avg', 'Pkt Len Min', 'Fwd Pkt Len Mean', 'Pkt Size Avg', 'Bwd Pkt Len Min', 'Flow Pkts/s', 'Pkt Len Mean'], 'Normal sample 394': ['Down/Up Ratio', 'Init Fwd Win Byts', 'SYN Flag Cnt', 'ACK Flag Cnt', 'FIN Flag Cnt', 'Bwd Pkts/s', 'PSH Flag Cnt', 'Fwd Pkt Len Min', 'Fwd Seg Size Avg', 'Bwd Pkt Len Max'], 'Normal sample 395': ['Init Bwd Win Byts', 'SYN Flag Cnt', 'ACK Flag Cnt', 'Flow IAT Max', 'Bwd Pkt Len Mean', 'Idle Min', 'Tot Bwd Pkts', 'Idle Mean', 'Flow IAT Mean', 'Pkt Len Max'], 'Normal sample 396': ['Pkt Len Min', 'Init Fwd Win Byts', 'SYN Flag Cnt', 'Bwd Pkt Len Min', 'FIN Flag Cnt', 'ACK Flag Cnt', 'Bwd IAT Max', 'Fwd IAT Max', 'Flow IAT Max', 'Flow IAT Std'], 'Normal sample 397': ['SYN Flag Cnt', 'FIN Flag Cnt', 'Pkt Len Min', 'Pkt Size Avg', 'Init Fwd Win Byts', 'Bwd Pkt Len Min', 'Pkt Len Mean', 'Flow Pkts/s', 'Pkt Len Max', 'Fwd Pkt Len Min'], 'Normal sample 398': ['SYN Flag Cnt', 'Init Fwd Win Byts', 'FIN Flag Cnt', 'ACK Flag Cnt', 'Flow Pkts/s', 'Pkt Len Min', 'Bwd Pkts/s', 'Pkt Size Avg', 'Bwd Pkt Len Min', 'Pkt Len Mean'], 'Normal sample 399': ['Init Bwd Win Byts', 'Fwd Pkt Len Max', 'Fwd Pkt Len Std', 'Flow Pkts/s', 'Down/Up Ratio', 'Fwd Pkt Len Mean', 'Fwd Seg Size Avg', 'Pkt Len Max', 'Init Fwd Win Byts', 'Pkt Len Std'], 'Normal sample 400': ['Down/Up Ratio', 'Init Fwd Win Byts', 'SYN Flag Cnt', 'ACK Flag Cnt', 'FIN Flag Cnt', 'Bwd IAT Tot', 'Bwd PSH Flags', 'Fwd Header Len', 'Active Max', 'Bwd IAT Mean'], 'Normal sample 401': ['Down/Up Ratio', 'Init Fwd Win Byts', 'SYN Flag Cnt', 'ACK Flag Cnt', 'FIN Flag Cnt', 'Bwd Pkts/s', 'Active Min', 'PSH Flag Cnt', 'Flow IAT Std', 'Bwd Pkt Len Max'], 'Normal sample 402': ['Down/Up Ratio', 'Init Fwd Win Byts', 'SYN Flag Cnt', 'ACK Flag Cnt', 'FIN Flag Cnt', 'Bwd Pkts/s', 'Flow IAT Std', 'Bwd Seg Size Avg', 'Fwd IAT Std', 'URG Flag Cnt'], 'Normal sample 403': ['Init Bwd Win Byts', 'Fwd IAT Tot', 'SYN Flag Cnt', 'Bwd PSH Flags', 'Fwd IAT Std', 'Fwd Pkt Len Max', 'Down/Up Ratio', 'Fwd Pkt Len Mean', 'Pkt Len Max', 'Bwd Pkts/s'], 'Normal sample 404': ['SYN Flag Cnt', 'FIN Flag Cnt', 'Pkt Size Avg', 'Pkt Len Min', 'Bwd Pkt Len Min', 'Fwd Pkt Len Min', 'Pkt Len Mean', 'Flow Byts/s', 'Fwd Pkt Len Mean', 'Down/Up Ratio'], 'Normal sample 405': ['Init Bwd Win Byts', 'Fwd IAT Tot', 'Pkt Len Max', 'Bwd IAT Tot', 'Bwd Pkt Len Std', 'FIN Flag Cnt', 'Fwd Pkt Len Max', 'Down/Up Ratio', 'Bwd Pkts/s', 'Pkt Len Mean'], 'Normal sample 406': ['SYN Flag Cnt', 'Init Fwd Win Byts', 'ACK Flag Cnt', 'FIN Flag Cnt', 'Pkt Len Min', 'Flow Pkts/s', 'Bwd Pkts/s', 'Pkt Size Avg', 'Pkt Len Mean', 'Bwd Pkt Len Min'], 'Normal sample 407': ['SYN Flag Cnt', 'Pkt Len Min', 'FIN Flag Cnt', 'Fwd Pkt Len Min', 'Pkt Size Avg', 'Fwd Pkt Len Mean', 'Pkt Len Mean', 'Fwd Seg Size Avg', 'ACK Flag Cnt', 'Fwd IAT Tot'], 'Normal sample 408': ['Down/Up Ratio', 'Init Fwd Win Byts', 'SYN Flag Cnt', 'FIN Flag Cnt', 'ACK Flag Cnt', 'Bwd Seg Size Avg', 'Bwd Pkts/s', 'Bwd URG Flags', 'Flow IAT Max', 'Tot Fwd Pkts'], 'Normal sample 409': ['SYN Flag Cnt', 'Init Fwd Win Byts', 'ACK Flag Cnt', 'FIN Flag Cnt', 'Pkt Len Min', 'Flow Pkts/s', 'Pkt Size Avg', 'Pkt Len Max', 'Pkt Len Mean', 'Bwd Pkts/s'], 'Normal sample 410': ['SYN Flag Cnt', 'Init Fwd Win Byts', 'ACK Flag Cnt', 'FIN Flag Cnt', 'Pkt Len Min', 'Flow Pkts/s', 'Bwd Pkts/s', 'Bwd Pkt Len Min', 'Pkt Len Mean', 'Pkt Len Max'], 'Normal sample 411': ['Init Bwd Win Byts', 'SYN Flag Cnt', 'Flow Pkts/s', 'Bwd Pkts/s', 'FIN Flag Cnt', 'Down/Up Ratio', 'Init Fwd Win Byts', 'Fwd Seg Size Avg', 'Fwd Pkt Len Mean', 'Fwd Pkt Len Max'], 'Normal sample 412': ['Down/Up Ratio', 'Init Fwd Win Byts', 'SYN Flag Cnt', 'ACK Flag Cnt', 'FIN Flag Cnt', 'Bwd Pkts/s', 'Flow IAT Mean', 'Idle Max', 'Fwd Pkts/s', 'PSH Flag Cnt'], 'Normal sample 413': ['SYN Flag Cnt', 'Init Fwd Win Byts', 'FIN Flag Cnt', 'Pkt Len Min', 'Pkt Size Avg', 'ACK Flag Cnt', 'Flow Pkts/s', 'Bwd Pkt Len Min', 'Pkt Len Max', 'Pkt Len Mean'], 'Normal sample 414': ['Init Bwd Win Byts', 'Fwd Pkt Len Max', 'Fwd Pkt Len Mean', 'Pkt Len Mean', 'Fwd IAT Tot', 'Fwd Pkt Len Std', 'Fwd Seg Size Avg', 'Pkt Size Avg', 'Pkt Len Max', 'Bwd IAT Tot'], 'Normal sample 415': ['SYN Flag Cnt', 'FIN Flag Cnt', 'Flow Byts/s', 'Pkt Len Min', 'Pkt Size Avg', 'Bwd Pkt Len Min', 'Fwd Pkt Len Min', 'Pkt Len Mean', 'Fwd Seg Size Avg', 'Flow Pkts/s'], 'Normal sample 416': ['SYN Flag Cnt', 'Init Fwd Win Byts', 'FIN Flag Cnt', 'Pkt Len Min', 'Pkt Size Avg', 'Pkt Len Mean', 'Pkt Len Max', 'ACK Flag Cnt', 'Bwd Pkt Len Min', 'Flow Pkts/s'], 'Normal sample 417': ['Down/Up Ratio', 'Init Fwd Win Byts', 'SYN Flag Cnt', 'FIN Flag Cnt', 'ACK Flag Cnt', 'Idle Max', 'Flow IAT Max', 'Flow Duration', 'PSH Flag Cnt', 'Bwd IAT Max'], 'Normal sample 418': ['SYN Flag Cnt', 'Pkt Size Avg', 'FIN Flag Cnt', 'Bwd Pkt Len Min', 'Pkt Len Min', 'Flow Pkts/s', 'Pkt Len Mean', 'Bwd Pkts/s', 'Pkt Len Std', 'Pkt Len Max'], 'Normal sample 419': ['Init Bwd Win Byts', 'Fwd Pkt Len Max', 'Fwd Seg Size Avg', 'Flow Pkts/s', 'Pkt Len Max', 'Fwd Pkt Len Std', 'FIN Flag Cnt', 'Pkt Len Std', 'Down/Up Ratio', 'Flow IAT Min'], 'Normal sample 420': ['Down/Up Ratio', 'Init Fwd Win Byts', 'FIN Flag Cnt', 'Bwd Pkts/s', 'Bwd Pkt Len Mean', 'Bwd Pkt Len Min', 'Flow Pkts/s', 'Flow IAT Mean', 'Pkt Len Min', 'Flow IAT Std'], 'Normal sample 421': ['SYN Flag Cnt', 'Init Fwd Win Byts', 'FIN Flag Cnt', 'Pkt Len Min', 'Pkt Size Avg', 'ACK Flag Cnt', 'Bwd Pkt Len Min', 'Flow Pkts/s', 'Pkt Len Max', 'Pkt Len Mean'], 'Normal sample 422': ['SYN Flag Cnt', 'Init Fwd Win Byts', 'ACK Flag Cnt', 'FIN Flag Cnt', 'Flow Pkts/s', 'Bwd Pkts/s', 'Pkt Len Min', 'Bwd Pkt Len Min', 'Pkt Size Avg', 'Pkt Len Mean'], 'Normal sample 423': ['SYN Flag Cnt', 'Init Fwd Win Byts', 'FIN Flag Cnt', 'Pkt Size Avg', 'Pkt Len Mean', 'Pkt Len Min', 'ACK Flag Cnt', 'Flow Pkts/s', 'Bwd Pkt Len Min', 'Pkt Len Max'], 'Normal sample 424': ['Init Bwd Win Byts', 'SYN Flag Cnt', 'Bwd Pkt Len Min', 'Bwd Pkts/s', 'Flow Pkts/s', 'FIN Flag Cnt', 'Pkt Len Mean', 'Fwd Act Data Pkts', 'Flow Duration', 'Bwd Header Len'], 'Normal sample 425': ['SYN Flag Cnt', 'Init Fwd Win Byts', 'FIN Flag Cnt', 'ACK Flag Cnt', 'Pkt Len Min', 'Flow Pkts/s', 'Bwd Pkts/s', 'Bwd Pkt Len Min', 'Pkt Size Avg', 'Pkt Len Mean'], 'Normal sample 426': ['SYN Flag Cnt', 'FIN Flag Cnt', 'Pkt Size Avg', 'Bwd Pkt Len Min', 'Pkt Len Min', 'Fwd Pkt Len Min', 'Pkt Len Mean', 'Flow Byts/s', 'Flow Pkts/s', 'Fwd Pkt Len Mean'], 'Normal sample 427': ['SYN Flag Cnt', 'Init Fwd Win Byts', 'ACK Flag Cnt', 'FIN Flag Cnt', 'Pkt Len Min', 'Flow Pkts/s', 'Bwd Pkt Len Min', 'Bwd Pkts/s', 'Pkt Size Avg', 'Pkt Len Mean'], 'Normal sample 428': ['Init Bwd Win Byts', 'Fwd Pkt Len Max', 'Fwd IAT Std', 'Fwd IAT Tot', 'Fwd IAT Max', 'Fwd Pkt Len Std', 'Fwd IAT Mean', 'FIN Flag Cnt', 'Fwd Pkt Len Mean', 'Flow IAT Max'], 'Normal sample 429': ['Init Bwd Win Byts', 'SYN Flag Cnt', 'Flow IAT Max', 'Flow Duration', 'Bwd Pkt Len Mean', 'Idle Min', 'ACK Flag Cnt', 'URG Flag Cnt', 'Fwd Pkt Len Min', 'Active Max'], 'Normal sample 430': ['Init Bwd Win Byts', 'Fwd IAT Tot', 'Bwd PSH Flags', 'Fwd IAT Std', 'Down/Up Ratio', 'Bwd Pkts/s', 'Subflow Bwd Byts', 'Fwd Pkts/s', 'TotLen Bwd Pkts', 'Bwd IAT Min'], 'Normal sample 431': ['SYN Flag Cnt', 'Init Fwd Win Byts', 'ACK Flag Cnt', 'FIN Flag Cnt', 'Pkt Len Min', 'Flow Pkts/s', 'Pkt Size Avg', 'Bwd Pkt Len Min', 'Pkt Len Max', 'Bwd Pkts/s'], 'Normal sample 432': ['SYN Flag Cnt', 'Init Fwd Win Byts', 'FIN Flag Cnt', 'Pkt Size Avg', 'Pkt Len Min', 'ACK Flag Cnt', 'Pkt Len Mean', 'Flow Pkts/s', 'Bwd Pkt Len Min', 'Pkt Len Std'], 'Normal sample 433': ['SYN Flag Cnt', 'Init Fwd Win Byts', 'FIN Flag Cnt', 'Pkt Size Avg', 'Pkt Len Min', 'Flow Pkts/s', 'Pkt Len Mean', 'ACK Flag Cnt', 'Bwd Pkt Len Min', 'Bwd Pkts/s'], 'Normal sample 434': ['Down/Up Ratio', 'Init Fwd Win Byts', 'SYN Flag Cnt', 'FIN Flag Cnt', 'Pkt Len Min', 'ACK Flag Cnt', 'PSH Flag Cnt', 'Bwd Pkts/s', 'Flow IAT Std', 'Flow Pkts/s'], 'Normal sample 435': ['Init Bwd Win Byts', 'SYN Flag Cnt', 'FIN Flag Cnt', 'Flow Pkts/s', 'Down/Up Ratio', 'Flow IAT Max', 'Bwd IAT Std', 'Bwd Pkt Len Mean', 'Fwd Header Len', 'Idle Mean'], 'Normal sample 436': ['SYN Flag Cnt', 'Flow Pkts/s', 'Bwd Pkts/s', 'FIN Flag Cnt', 'Bwd Pkt Len Min', 'Pkt Size Avg', 'ACK Flag Cnt', 'Down/Up Ratio', 'Pkt Len Mean', 'Fwd Pkt Len Min'], 'Normal sample 437': ['Down/Up Ratio', 'Init Fwd Win Byts', 'SYN Flag Cnt', 'ACK Flag Cnt', 'FIN Flag Cnt', 'Idle Max', 'Bwd Pkts/s', 'PSH Flag Cnt', 'Flow IAT Mean', 'Bwd Pkt Len Max'], 'Normal sample 438': ['SYN Flag Cnt', 'Init Fwd Win Byts', 'FIN Flag Cnt', 'Pkt Len Min', 'Pkt Size Avg', 'ACK Flag Cnt', 'Flow Pkts/s', 'Pkt Len Max', 'Bwd Pkt Len Min', 'Pkt Len Mean'], 'Normal sample 439': ['Down/Up Ratio', 'Init Fwd Win Byts', 'SYN Flag Cnt', 'ACK Flag Cnt', 'FIN Flag Cnt', 'Bwd Pkts/s', 'Flow IAT Std', 'Bwd PSH Flags', 'Idle Max', 'PSH Flag Cnt'], 'Normal sample 440': ['Init Bwd Win Byts', 'SYN Flag Cnt', 'FIN Flag Cnt', 'Flow Pkts/s', 'Flow IAT Max', 'Idle Min', 'Down/Up Ratio', 'Bwd Pkt Len Mean', 'Idle Max', 'Flow IAT Std'], 'Normal sample 441': ['Down/Up Ratio', 'Init Fwd Win Byts', 'SYN Flag Cnt', 'ACK Flag Cnt', 'FIN Flag Cnt', 'PSH Flag Cnt', 'Bwd Pkts/s', 'Fwd IAT Max', 'Flow IAT Mean', 'URG Flag Cnt'], 'Normal sample 442': ['Init Bwd Win Byts', 'SYN Flag Cnt', 'FIN Flag Cnt', 'Flow Pkts/s', 'Flow IAT Max', 'Down/Up Ratio', 'Bwd IAT Max', 'Idle Mean', 'Fwd IAT Min', 'Flow IAT Std'], 'Normal sample 443': ['Down/Up Ratio', 'Init Fwd Win Byts', 'SYN Flag Cnt', 'FIN Flag Cnt', 'ACK Flag Cnt', 'Bwd Pkt Len Max', 'PSH Flag Cnt', 'Tot Bwd Pkts', 'Flow IAT Mean', 'Flow IAT Std'], 'Normal sample 444': ['SYN Flag Cnt', 'Init Fwd Win Byts', 'ACK Flag Cnt', 'FIN Flag Cnt', 'Pkt Len Min', 'Flow Pkts/s', 'Bwd Pkts/s', 'Pkt Size Avg', 'Bwd Pkt Len Min', 'Pkt Len Max'], 'Normal sample 445': ['SYN Flag Cnt', 'FIN Flag Cnt', 'Pkt Size Avg', 'Bwd Pkt Len Min', 'Pkt Len Min', 'Flow Byts/s', 'Pkt Len Mean', 'Fwd Pkt Len Min', 'Flow Pkts/s', 'Fwd Pkt Len Mean'], 'Normal sample 446': ['Init Bwd Win Byts', 'Fwd IAT Tot', 'Fwd Pkt Len Max', 'SYN Flag Cnt', 'FIN Flag Cnt', 'Bwd Header Len', 'Fwd Pkt Len Mean', 'Fwd Pkt Len Std', 'Bwd PSH Flags', 'Idle Mean'], 'Normal sample 447': ['SYN Flag Cnt', 'Init Fwd Win Byts', 'ACK Flag Cnt', 'FIN Flag Cnt', 'Pkt Len Min', 'Flow Pkts/s', 'Pkt Size Avg', 'Bwd Pkts/s', 'Pkt Len Mean', 'Pkt Len Max'], 'Normal sample 448': ['Init Bwd Win Byts', 'Pkt Size Avg', 'Pkt Len Mean', 'Pkt Len Max', 'Fwd Pkt Len Max', 'Fwd Pkt Len Std', 'Bwd IAT Max', 'Bwd IAT Tot', 'Down/Up Ratio', 'Flow Pkts/s'], 'Normal sample 449': ['Init Fwd Win Byts', 'FIN Flag Cnt', 'Flow IAT Mean', 'Down/Up Ratio', 'Idle Std', 'Bwd IAT Max', 'Flow IAT Max', 'Bwd IAT Mean', 'Subflow Fwd Byts', 'URG Flag Cnt'], 'Normal sample 450': ['SYN Flag Cnt', 'Init Fwd Win Byts', 'FIN Flag Cnt', 'Pkt Size Avg', 'ACK Flag Cnt', 'Pkt Len Min', 'Flow Pkts/s', 'Bwd Pkt Len Min', 'Pkt Len Max', 'Pkt Len Mean'], 'Normal sample 451': ['Init Bwd Win Byts', 'Pkt Len Std', 'Pkt Size Avg', 'Fwd IAT Tot', 'Bwd PSH Flags', 'Down/Up Ratio', 'SYN Flag Cnt', 'Pkt Len Mean', 'Pkt Len Max', 'Fwd IAT Std'], 'Normal sample 452': ['SYN Flag Cnt', 'Down/Up Ratio', 'Init Fwd Win Byts', 'FIN Flag Cnt', 'Idle Max', 'URG Flag Cnt', 'Fwd Pkts/s', 'Bwd IAT Std', 'Flow IAT Std', 'Subflow Fwd Byts'], 'Normal sample 453': ['Init Bwd Win Byts', 'Pkt Size Avg', 'Pkt Len Mean', 'Pkt Len Max', 'Fwd Pkt Len Max', 'Down/Up Ratio', 'FIN Flag Cnt', 'Bwd IAT Max', 'Flow Pkts/s', 'Fwd Pkt Len Std'], 'Normal sample 454': ['Init Bwd Win Byts', 'SYN Flag Cnt', 'Down/Up Ratio', 'Flow Pkts/s', 'FIN Flag Cnt', 'Flow IAT Max', 'Bwd IAT Std', 'URG Flag Cnt', 'Idle Mean', 'Fwd Pkts/s'], 'Normal sample 455': ['Down/Up Ratio', 'Init Fwd Win Byts', 'SYN Flag Cnt', 'FIN Flag Cnt', 'Bwd Pkts/s', 'PSH Flag Cnt', 'Flow Pkts/s', 'Bwd IAT Std', 'Bwd Seg Size Avg', 'URG Flag Cnt'], 'Normal sample 456': ['Init Bwd Win Byts', 'Fwd IAT Std', 'Pkt Len Max', 'Fwd IAT Tot', 'Fwd Pkt Len Max', 'Bwd IAT Std', 'FIN Flag Cnt', 'Fwd Pkt Len Std', 'Pkt Size Avg', 'Pkt Len Mean'], 'Normal sample 457': ['SYN Flag Cnt', 'Init Fwd Win Byts', 'ACK Flag Cnt', 'Flow Pkts/s', 'FIN Flag Cnt', 'Pkt Len Min', 'Bwd Pkts/s', 'Pkt Size Avg', 'Bwd Pkt Len Min', 'Pkt Len Max'], 'Normal sample 458': ['Init Bwd Win Byts', 'SYN Flag Cnt', 'Pkt Size Avg', 'Pkt Len Mean', 'Pkt Len Max', 'FIN Flag Cnt', 'Flow Pkts/s', 'Fwd Pkt Len Std', 'Pkt Len Std', 'Bwd Pkts/s'], 'Normal sample 459': ['Down/Up Ratio', 'SYN Flag Cnt', 'Flow Pkts/s', 'Init Fwd Win Byts', 'FIN Flag Cnt', 'Fwd Pkt Len Max', 'Fwd Pkt Len Mean', 'Fwd Pkt Len Std', 'Fwd Seg Size Avg', 'Pkt Len Max'], 'Normal sample 460': ['SYN Flag Cnt', 'Init Fwd Win Byts', 'ACK Flag Cnt', 'Pkt Size Avg', 'FIN Flag Cnt', 'Pkt Len Min', 'Bwd Pkt Len Min', 'Pkt Len Mean', 'Flow Pkts/s', 'Pkt Len Max'], 'Normal sample 461': ['Fwd IAT Tot', 'ACK Flag Cnt', 'Fwd IAT Max', 'Bwd IAT Tot', 'Fwd IAT Std', 'Bwd Pkts/s', 'Bwd IAT Mean', 'Subflow Fwd Byts', 'TotLen Fwd Pkts', 'Fwd Header Len'], 'Normal sample 462': ['Init Bwd Win Byts', 'Pkt Len Max', 'Down/Up Ratio', 'Fwd IAT Tot', 'Pkt Len Std', 'Fwd Pkt Len Max', 'Pkt Size Avg', 'Pkt Len Mean', 'Fwd Pkt Len Std', 'Bwd Pkts/s'], 'Normal sample 463': ['SYN Flag Cnt', 'Init Fwd Win Byts', 'FIN Flag Cnt', 'Pkt Len Min', 'Pkt Size Avg', 'Flow Pkts/s', 'ACK Flag Cnt', 'Pkt Len Max', 'Bwd Pkt Len Min', 'Pkt Len Mean'], 'Normal sample 464': ['Down/Up Ratio', 'Bwd PSH Flags', 'Init Fwd Win Byts', 'SYN Flag Cnt', 'ACK Flag Cnt', 'Bwd Pkts/s', 'PSH Flag Cnt', 'FIN Flag Cnt', 'Pkt Size Avg', 'Fwd Pkt Len Min'], 'Normal sample 465': ['Down/Up Ratio', 'Init Fwd Win Byts', 'SYN Flag Cnt', 'FIN Flag Cnt', 'ACK Flag Cnt', 'Flow IAT Std', 'Flow Pkts/s', 'Tot Bwd Pkts', 'PSH Flag Cnt', 'Flow Duration'], 'Normal sample 466': ['Fwd Pkt Len Max', 'SYN Flag Cnt', 'Fwd Pkt Len Mean', 'Fwd Pkt Len Std', 'Fwd Seg Size Avg', 'Pkt Len Max', 'Pkt Len Mean', 'Pkt Size Avg', 'Pkt Len Std', 'Flow Byts/s'], 'Normal sample 467': ['SYN Flag Cnt', 'Flow Pkts/s', 'Down/Up Ratio', 'Init Fwd Win Byts', 'Fwd Pkt Len Max', 'FIN Flag Cnt', 'Fwd Pkt Len Std', 'Fwd Seg Size Avg', 'Pkt Len Max', 'Fwd Pkt Len Mean'], 'Normal sample 468': ['Init Bwd Win Byts', 'Fwd IAT Tot', 'Pkt Len Max', 'Fwd Pkt Len Max', 'Pkt Size Avg', 'Bwd Pkts/s', 'Fwd IAT Std', 'Bwd IAT Max', 'Flow Pkts/s', 'Flow IAT Max'], 'Normal sample 469': ['SYN Flag Cnt', 'Init Fwd Win Byts', 'ACK Flag Cnt', 'Down/Up Ratio', 'Active Max', 'Fwd IAT Mean', 'Pkt Len Var', 'Fwd Pkts/s', 'URG Flag Cnt', 'Flow IAT Std'], 'Normal sample 470': ['Init Bwd Win Byts', 'SYN Flag Cnt', 'ACK Flag Cnt', 'Bwd IAT Tot', 'Flow Pkts/s', 'Idle Mean', 'Flow IAT Max', 'Idle Max', 'Bwd IAT Max', 'Bwd IAT Std'], 'Normal sample 471': ['Init Bwd Win Byts', 'SYN Flag Cnt', 'FIN Flag Cnt', 'Flow Pkts/s', 'Bwd IAT Std', 'Flow IAT Max', 'Flow Duration', 'Down/Up Ratio', 'Tot Fwd Pkts', 'Fwd Pkts/s'], 'Normal sample 472': ['Init Bwd Win Byts', 'SYN Flag Cnt', 'ACK Flag Cnt', 'Bwd IAT Tot', 'Flow Pkts/s', 'Idle Max', 'URG Flag Cnt', 'Flow Duration', 'Flow IAT Mean', 'Fwd Pkts/s'], 'Normal sample 473': ['Init Fwd Win Byts', 'FIN Flag Cnt', 'Fwd Header Len', 'Bwd IAT Max', 'Fwd IAT Std', 'Bwd IAT Tot', 'Fwd IAT Min', 'Down/Up Ratio', 'Idle Max', 'Fwd IAT Tot'], 'Normal sample 474': ['Init Bwd Win Byts', 'Pkt Len Max', 'Pkt Len Mean', 'Pkt Size Avg', 'Flow Pkts/s', 'Down/Up Ratio', 'Fwd Pkt Len Max', 'Fwd IAT Max', 'Flow Byts/s', 'Bwd IAT Tot'], 'Normal sample 475': ['Init Bwd Win Byts', 'Fwd IAT Tot', 'Fwd Pkt Len Std', 'SYN Flag Cnt', 'Tot Bwd Pkts', 'Fwd Pkt Len Mean', 'Bwd IAT Tot', 'Fwd Pkt Len Max', 'Bwd Header Len', 'Bwd Pkts/s'], 'Normal sample 476': ['SYN Flag Cnt', 'Init Fwd Win Byts', 'FIN Flag Cnt', 'Bwd IAT Max', 'Tot Bwd Pkts', 'Flow IAT Mean', 'Bwd IAT Std', 'Bwd IAT Min', 'Flow IAT Std', 'Fwd IAT Max'], 'Normal sample 477': ['Init Bwd Win Byts', 'SYN Flag Cnt', 'FIN Flag Cnt', 'Flow Pkts/s', 'Idle Mean', 'Bwd Pkts/s', 'Idle Min', 'Idle Max', 'Flow IAT Std', 'Flow Duration'], 'Normal sample 478': ['PSH Flag Cnt', 'SYN Flag Cnt', 'Down/Up Ratio', 'Init Fwd Win Byts', 'ACK Flag Cnt', 'Bwd Pkts/s', 'FIN Flag Cnt', 'Bwd PSH Flags', 'Fwd IAT Min', 'Flow Pkts/s'], 'Normal sample 479': ['SYN Flag Cnt', 'Init Fwd Win Byts', 'ACK Flag Cnt', 'Pkt Len Min', 'FIN Flag Cnt', 'Flow Pkts/s', 'Pkt Size Avg', 'Pkt Len Max', 'Bwd Pkt Len Min', 'Pkt Len Mean'], 'Normal sample 480': ['Init Fwd Win Byts', 'FIN Flag Cnt', 'Down/Up Ratio', 'Subflow Fwd Byts', 'Bwd Pkt Len Min', 'Fwd IAT Mean', 'Flow IAT Max', 'Active Mean', 'Fwd IAT Tot', 'Idle Max'], 'Normal sample 481': ['SYN Flag Cnt', 'Init Fwd Win Byts', 'FIN Flag Cnt', 'ACK Flag Cnt', 'Pkt Size Avg', 'Pkt Len Min', 'Flow Pkts/s', 'Pkt Len Mean', 'Pkt Len Max', 'Bwd Pkt Len Min'], 'Normal sample 482': ['Init Bwd Win Byts', 'Fwd IAT Tot', 'Fwd Pkt Len Max', 'Fwd Pkt Len Std', 'Fwd IAT Max', 'Down/Up Ratio', 'Idle Mean', 'Pkt Len Max', 'Fwd Pkt Len Mean', 'Fwd Seg Size Avg'], 'Normal sample 483': ['SYN Flag Cnt', 'Pkt Size Avg', 'Bwd Pkt Len Min', 'Pkt Len Min', 'FIN Flag Cnt', 'Flow Pkts/s', 'Pkt Len Mean', 'Pkt Len Max', 'Bwd Pkts/s', 'Pkt Len Std'], 'Normal sample 484': ['Init Bwd Win Byts', 'Fwd IAT Tot', 'Fwd IAT Std', 'Down/Up Ratio', 'ACK Flag Cnt', 'Bwd IAT Tot', 'Bwd Pkts/s', 'Flow Pkts/s', 'Pkt Len Max', 'Pkt Size Avg'], 'Normal sample 485': ['SYN Flag Cnt', 'Flow Pkts/s', 'Bwd Pkts/s', 'Init Fwd Win Byts', 'Down/Up Ratio', 'FIN Flag Cnt', 'Fwd Pkt Len Max', 'Pkt Len Max', 'Fwd Pkt Len Std', 'Fwd Pkt Len Mean'], 'Normal sample 486': ['Init Bwd Win Byts', 'Fwd IAT Tot', 'Fwd Pkt Len Max', 'Fwd IAT Max', 'Fwd IAT Std', 'Fwd IAT Mean', 'Pkt Len Max', 'Pkt Len Std', 'Flow Pkts/s', 'Flow IAT Max'], 'Normal sample 487': ['SYN Flag Cnt', 'Init Fwd Win Byts', 'FIN Flag Cnt', 'Pkt Len Mean', 'Pkt Size Avg', 'Pkt Len Max', 'Pkt Len Min', 'ACK Flag Cnt', 'Flow Pkts/s', 'Bwd Pkt Len Min'], 'Normal sample 488': ['Init Bwd Win Byts', 'Fwd IAT Tot', 'Fwd IAT Std', 'Fwd Pkt Len Std', 'Fwd Pkt Len Max', 'Pkt Len Max', 'FIN Flag Cnt', 'Fwd IAT Mean', 'Idle Min', 'Pkt Size Avg'], 'Normal sample 489': ['SYN Flag Cnt', 'Init Fwd Win Byts', 'FIN Flag Cnt', 'Pkt Size Avg', 'ACK Flag Cnt', 'Pkt Len Min', 'Pkt Len Max', 'Flow Pkts/s', 'Bwd Pkt Len Min', 'Pkt Len Mean'], 'Normal sample 490': ['Down/Up Ratio', 'Bwd PSH Flags', 'Init Fwd Win Byts', 'ACK Flag Cnt', 'SYN Flag Cnt', 'Bwd Pkts/s', 'PSH Flag Cnt', 'FIN Flag Cnt', 'URG Flag Cnt', 'Flow Pkts/s'], 'Normal sample 491': ['Init Bwd Win Byts', 'SYN Flag Cnt', 'Flow Pkts/s', 'Bwd Pkts/s', 'FIN Flag Cnt', 'Pkt Len Max', 'Fwd Pkt Len Std', 'Init Fwd Win Byts', 'Idle Max', 'Active Mean'], 'Normal sample 492': ['Down/Up Ratio', 'Init Fwd Win Byts', 'SYN Flag Cnt', 'ACK Flag Cnt', 'FIN Flag Cnt', 'Active Min', 'Flow IAT Max', 'PSH Flag Cnt', 'Bwd Pkts/s', 'Flow Duration'], 'Normal sample 493': ['SYN Flag Cnt', 'Init Fwd Win Byts', 'FIN Flag Cnt', 'ACK Flag Cnt', 'Pkt Len Min', 'Flow Pkts/s', 'Pkt Size Avg', 'Pkt Len Mean', 'Bwd Pkt Len Min', 'Pkt Len Max'], 'Normal sample 494': ['Init Bwd Win Byts', 'Fwd IAT Tot', 'Fwd Pkt Len Max', 'Fwd Pkt Len Std', 'Pkt Len Max', 'Fwd Pkt Len Mean', 'Fwd Seg Size Avg', 'Down/Up Ratio', 'Fwd IAT Max', 'Bwd Pkts/s'], 'Normal sample 495': ['SYN Flag Cnt', 'Init Fwd Win Byts', 'ACK Flag Cnt', 'FIN Flag Cnt', 'Pkt Len Min', 'Pkt Size Avg', 'Flow Pkts/s', 'Bwd Pkt Len Min', 'Pkt Len Max', 'Pkt Len Mean'], 'Normal sample 496': ['SYN Flag Cnt', 'FIN Flag Cnt', 'Pkt Size Avg', 'Pkt Len Min', 'Bwd Pkt Len Min', 'Fwd Pkt Len Min', 'Flow Byts/s', 'Pkt Len Mean', 'Fwd Pkt Len Mean', 'Down/Up Ratio'], 'Normal sample 497': ['SYN Flag Cnt', 'FIN Flag Cnt', 'Init Fwd Win Byts', 'Bwd Pkts/s', 'Pkt Size Avg', 'ACK Flag Cnt', 'Pkt Len Min', 'Pkt Len Mean', 'Pkt Len Std', 'Bwd Pkt Len Min'], 'Normal sample 498': ['SYN Flag Cnt', 'Init Fwd Win Byts', 'FIN Flag Cnt', 'Pkt Len Min', 'Pkt Size Avg', 'Pkt Len Max', 'Pkt Len Mean', 'Bwd Pkt Len Min', 'Flow Pkts/s', 'ACK Flag Cnt'], 'Normal sample 499': ['SYN Flag Cnt', 'Init Fwd Win Byts', 'FIN Flag Cnt', 'Pkt Len Min', 'Pkt Size Avg', 'ACK Flag Cnt', 'Pkt Len Mean', 'Flow Pkts/s', 'Bwd Pkt Len Min', 'Pkt Len Max'], 'Normal sample 500': ['Down/Up Ratio', 'Bwd PSH Flags', 'Init Fwd Win Byts', 'SYN Flag Cnt', 'ACK Flag Cnt', 'Bwd Pkts/s', 'PSH Flag Cnt', 'FIN Flag Cnt', 'Active Mean', 'Flow Pkts/s'], 'Normal sample 501': ['Down/Up Ratio', 'Init Fwd Win Byts', 'FIN Flag Cnt', 'Pkt Len Min', 'Flow IAT Max', 'Bwd Pkt Len Min', 'Bwd PSH Flags', 'Bwd Pkts/s', 'Idle Max', 'Bwd IAT Tot'], 'Normal sample 502': ['SYN Flag Cnt', 'FIN Flag Cnt', 'Pkt Size Avg', 'Bwd Pkt Len Min', 'Pkt Len Min', 'Fwd Pkt Len Min', 'Fwd Seg Size Avg', 'Pkt Len Mean', 'Fwd Pkt Len Mean', 'Flow Pkts/s'], 'Normal sample 503': ['SYN Flag Cnt', 'FIN Flag Cnt', 'Pkt Size Avg', 'Flow Byts/s', 'Bwd Pkt Len Min', 'Pkt Len Min', 'Down/Up Ratio', 'Pkt Len Mean', 'Fwd Pkt Len Min', 'Fwd Seg Size Avg'], 'Normal sample 504': ['Down/Up Ratio', 'Init Fwd Win Byts', 'FIN Flag Cnt', 'Bwd Pkts/s', 'Bwd Pkt Len Mean', 'Flow Pkts/s', 'Bwd IAT Std', 'Fwd Act Data Pkts', 'Subflow Bwd Pkts', 'Flow IAT Std'], 'Normal sample 505': ['SYN Flag Cnt', 'Init Fwd Win Byts', 'FIN Flag Cnt', 'ACK Flag Cnt', 'Pkt Size Avg', 'Pkt Len Min', 'Pkt Len Max', 'Flow Pkts/s', 'Bwd Pkt Len Min', 'Bwd Pkts/s'], 'Normal sample 506': ['SYN Flag Cnt', 'Init Fwd Win Byts', 'FIN Flag Cnt', 'Pkt Size Avg', 'ACK Flag Cnt', 'Pkt Len Min', 'Flow Pkts/s', 'Pkt Len Mean', 'Bwd Pkt Len Min', 'Pkt Len Max'], 'Normal sample 507': ['Init Bwd Win Byts', 'SYN Flag Cnt', 'FIN Flag Cnt', 'Flow Pkts/s', 'Bwd IAT Std', 'Bwd IAT Max', 'Flow IAT Max', 'Down/Up Ratio', 'Bwd IAT Tot', 'Flow IAT Std'], 'Normal sample 508': ['Down/Up Ratio', 'Init Fwd Win Byts', 'SYN Flag Cnt', 'FIN Flag Cnt', 'ACK Flag Cnt', 'Bwd Pkt Len Min', 'PSH Flag Cnt', 'Flow IAT Max', 'Bwd Pkts/s', 'Active Mean'], 'Normal sample 509': ['Init Bwd Win Byts', 'SYN Flag Cnt', 'Down/Up Ratio', 'FIN Flag Cnt', 'Idle Min', 'Idle Mean', 'Flow Pkts/s', 'Flow IAT Max', 'Tot Fwd Pkts', 'Active Mean'], 'Normal sample 510': ['SYN Flag Cnt', 'Init Fwd Win Byts', 'FIN Flag Cnt', 'Pkt Size Avg', 'ACK Flag Cnt', 'Pkt Len Min', 'Pkt Len Mean', 'Flow Pkts/s', 'Bwd Pkt Len Min', 'Bwd Pkts/s'], 'Normal sample 511': ['Init Bwd Win Byts', 'SYN Flag Cnt', 'Flow IAT Max', 'Idle Mean', 'Flow IAT Std', 'Pkt Len Std', 'ACK Flag Cnt', 'Flow Pkts/s', 'Pkt Len Var', 'Bwd IAT Tot'], 'Normal sample 512': ['SYN Flag Cnt', 'Init Fwd Win Byts', 'FIN Flag Cnt', 'Pkt Size Avg', 'ACK Flag Cnt', 'Pkt Len Min', 'Flow Pkts/s', 'Bwd Pkt Len Min', 'Pkt Len Mean', 'Bwd Pkts/s'], 'Normal sample 513': ['Down/Up Ratio', 'Init Fwd Win Byts', 'SYN Flag Cnt', 'ACK Flag Cnt', 'FIN Flag Cnt', 'Flow IAT Max', 'Bwd Pkts/s', 'Active Min', 'Active Max', 'Fwd IAT Min'], 'Normal sample 514': ['Init Bwd Win Byts', 'SYN Flag Cnt', 'Flow IAT Max', 'Flow Pkts/s', 'Down/Up Ratio', 'Bwd Pkts/s', 'Flow Duration', 'FIN Flag Cnt', 'Pkt Len Var', 'Idle Max'], 'Normal sample 515': ['Down/Up Ratio', 'Init Fwd Win Byts', 'SYN Flag Cnt', 'ACK Flag Cnt', 'FIN Flag Cnt', 'PSH Flag Cnt', 'Active Min', 'Fwd Pkt Len Min', 'Fwd IAT Mean', 'Bwd Seg Size Avg'], 'Normal sample 516': ['SYN Flag Cnt', 'FIN Flag Cnt', 'Pkt Size Avg', 'Pkt Len Min', 'Bwd Pkt Len Min', 'Fwd Pkt Len Min', 'Pkt Len Mean', 'Flow Byts/s', 'ACK Flag Cnt', 'Fwd Pkt Len Mean'], 'Normal sample 517': ['Init Bwd Win Byts', 'SYN Flag Cnt', 'Down/Up Ratio', 'Flow Pkts/s', 'FIN Flag Cnt', 'Flow IAT Max', 'Idle Min', 'Flow IAT Mean', 'Idle Max', 'Flow Duration'], 'Normal sample 518': ['Down/Up Ratio', 'Bwd PSH Flags', 'Init Fwd Win Byts', 'ACK Flag Cnt', 'SYN Flag Cnt', 'Bwd Pkts/s', 'FIN Flag Cnt', 'PSH Flag Cnt', 'Bwd Pkt Len Std', 'Flow Pkts/s'], 'Normal sample 519': ['Init Bwd Win Byts', 'Pkt Len Max', 'Fwd IAT Tot', 'Pkt Size Avg', 'Pkt Len Mean', 'Pkt Len Std', 'Bwd Pkts/s', 'Bwd IAT Std', 'Down/Up Ratio', 'Fwd Pkt Len Max'], 'Normal sample 520': ['SYN Flag Cnt', 'Init Fwd Win Byts', 'FIN Flag Cnt', 'ACK Flag Cnt', 'Pkt Len Min', 'Pkt Size Avg', 'Flow Pkts/s', 'Pkt Len Max', 'Bwd Pkt Len Min', 'Pkt Len Mean'], 'Normal sample 521': ['Init Bwd Win Byts', 'Fwd IAT Std', 'Bwd PSH Flags', 'Fwd IAT Tot', 'Down/Up Ratio', 'SYN Flag Cnt', 'Bwd IAT Tot', 'Bwd Pkts/s', 'Init Fwd Win Byts', 'PSH Flag Cnt'], 'Normal sample 522': ['Init Bwd Win Byts', 'Fwd IAT Tot', 'Fwd IAT Std', 'Fwd IAT Max', 'Fwd Pkt Len Max', 'Fwd Pkt Len Mean', 'Flow IAT Max', 'Fwd Pkt Len Std', 'Pkt Len Std', 'Idle Mean'], 'Normal sample 523': ['Down/Up Ratio', 'Bwd PSH Flags', 'Init Fwd Win Byts', 'ACK Flag Cnt', 'SYN Flag Cnt', 'Bwd Pkts/s', 'FIN Flag Cnt', 'PSH Flag Cnt', 'Bwd Seg Size Avg', 'Flow Pkts/s'], 'Normal sample 524': ['Down/Up Ratio', 'Init Fwd Win Byts', 'SYN Flag Cnt', 'FIN Flag Cnt', 'Bwd Pkts/s', 'Flow Pkts/s', 'Fwd IAT Tot', 'Idle Max', 'PSH Flag Cnt', 'Bwd Pkt Len Mean'], 'Normal sample 525': ['SYN Flag Cnt', 'Pkt Len Min', 'FIN Flag Cnt', 'Pkt Size Avg', 'Bwd Pkt Len Min', 'Flow Pkts/s', 'Pkt Len Max', 'Init Fwd Win Byts', 'Fwd Pkt Len Min', 'Pkt Len Mean'], 'Normal sample 526': ['Down/Up Ratio', 'Init Fwd Win Byts', 'SYN Flag Cnt', 'ACK Flag Cnt', 'FIN Flag Cnt', 'Flow Duration', 'PSH Flag Cnt', 'Pkt Len Var', 'Idle Mean', 'Subflow Fwd Byts'], 'Normal sample 527': ['SYN Flag Cnt', 'FIN Flag Cnt', 'Pkt Size Avg', 'Pkt Len Min', 'Bwd Pkt Len Min', 'Fwd Pkt Len Min', 'Flow Byts/s', 'Pkt Len Mean', 'Fwd Pkt Len Mean', 'Down/Up Ratio'], 'Normal sample 528': ['Down/Up Ratio', 'Init Fwd Win Byts', 'SYN Flag Cnt', 'ACK Flag Cnt', 'FIN Flag Cnt', 'Flow IAT Max', 'Bwd Pkts/s', 'Bwd IAT Tot', 'Flow Duration', 'Bwd Pkt Len Min'], 'Normal sample 529': ['SYN Flag Cnt', 'Init Fwd Win Byts', 'ACK Flag Cnt', 'FIN Flag Cnt', 'Flow Pkts/s', 'Pkt Len Min', 'Pkt Size Avg', 'Bwd Pkts/s', 'Bwd Pkt Len Min', 'Pkt Len Max'], 'Normal sample 530': ['SYN Flag Cnt', 'Init Fwd Win Byts', 'FIN Flag Cnt', 'Pkt Size Avg', 'Pkt Len Min', 'Pkt Len Mean', 'Bwd Pkt Len Min', 'Flow Pkts/s', 'Pkt Len Max', 'Fwd Pkt Len Min'], 'Normal sample 531': ['SYN Flag Cnt', 'Init Fwd Win Byts', 'FIN Flag Cnt', 'Pkt Size Avg', 'Pkt Len Min', 'ACK Flag Cnt', 'Bwd Pkt Len Min', 'Pkt Len Mean', 'Flow Pkts/s', 'Pkt Len Std'], 'Normal sample 532': ['Down/Up Ratio', 'Init Fwd Win Byts', 'SYN Flag Cnt', 'ACK Flag Cnt', 'FIN Flag Cnt', 'Bwd Pkts/s', 'Bwd IAT Tot', 'Subflow Fwd Pkts', 'Fwd IAT Min', 'Fwd IAT Std'], 'Normal sample 533': ['SYN Flag Cnt', 'Init Fwd Win Byts', 'ACK Flag Cnt', 'FIN Flag Cnt', 'Pkt Len Min', 'Flow Pkts/s', 'Pkt Size Avg', 'Bwd Pkts/s', 'Bwd Pkt Len Min', 'Pkt Len Mean'], 'Normal sample 534': ['SYN Flag Cnt', 'Init Fwd Win Byts', 'FIN Flag Cnt', 'Pkt Len Min', 'Pkt Size Avg', 'ACK Flag Cnt', 'Flow Pkts/s', 'Bwd Pkt Len Min', 'Pkt Len Mean', 'Pkt Len Max'], 'Normal sample 535': ['Fwd Pkt Len Std', 'Fwd Pkt Len Max', 'Fwd Pkt Len Mean', 'Pkt Len Max', 'Pkt Len Mean', 'Fwd Seg Size Avg', 'Pkt Size Avg', 'Pkt Len Std', 'SYN Flag Cnt', 'Idle Max'], 'Normal sample 536': ['Init Bwd Win Byts', 'Pkt Len Max', 'Pkt Size Avg', 'Fwd Pkt Len Max', 'Fwd IAT Tot', 'Pkt Len Mean', 'FIN Flag Cnt', 'Bwd IAT Tot', 'Pkt Len Std', 'Down/Up Ratio'], 'Normal sample 537': ['SYN Flag Cnt', 'Flow Pkts/s', 'Bwd Pkts/s', 'Init Fwd Win Byts', 'Down/Up Ratio', 'FIN Flag Cnt', 'Fwd Pkt Len Max', 'Fwd Pkt Len Std', 'Pkt Len Max', 'Flow Duration'], 'Normal sample 538': ['Down/Up Ratio', 'Init Fwd Win Byts', 'FIN Flag Cnt', 'Bwd Pkts/s', 'Bwd Pkt Len Min', 'Idle Max', 'Flow Pkts/s', 'Bwd Pkt Len Std', 'Fwd Pkt Len Min', 'URG Flag Cnt'], 'Normal sample 539': ['Init Bwd Win Byts', 'SYN Flag Cnt', 'FIN Flag Cnt', 'Flow Pkts/s', 'Down/Up Ratio', 'Idle Min', 'Bwd Pkt Len Std', 'Bwd IAT Std', 'Idle Max', 'Idle Mean'], 'Normal sample 540': ['SYN Flag Cnt', 'Fwd IAT Tot', 'ACK Flag Cnt', 'FIN Flag Cnt', 'Bwd Pkts/s', 'Flow Pkts/s', 'Fwd IAT Max', 'Pkt Len Min', 'Fwd IAT Std', 'Fwd Pkt Len Min'], 'Normal sample 541': ['Down/Up Ratio', 'Init Fwd Win Byts', 'SYN Flag Cnt', 'FIN Flag Cnt', 'ACK Flag Cnt', 'Flow IAT Min', 'Bwd PSH Flags', 'TotLen Bwd Pkts', 'Idle Mean', 'Active Min'], 'Normal sample 542': ['SYN Flag Cnt', 'Init Fwd Win Byts', 'FIN Flag Cnt', 'ACK Flag Cnt', 'Flow Pkts/s', 'Pkt Len Min', 'Pkt Size Avg', 'Bwd Pkts/s', 'Bwd Pkt Len Min', 'Pkt Len Mean'], 'Normal sample 543': ['SYN Flag Cnt', 'Init Fwd Win Byts', 'FIN Flag Cnt', 'Pkt Len Min', 'Pkt Size Avg', 'Pkt Len Mean', 'ACK Flag Cnt', 'Bwd Pkt Len Min', 'Flow Pkts/s', 'Pkt Len Max'], 'Normal sample 544': ['SYN Flag Cnt', 'Init Fwd Win Byts', 'ACK Flag Cnt', 'FIN Flag Cnt', 'Pkt Len Min', 'Pkt Size Avg', 'Flow Pkts/s', 'Bwd Pkt Len Min', 'Pkt Len Max', 'Pkt Len Mean'], 'Normal sample 545': ['Init Bwd Win Byts', 'SYN Flag Cnt', 'FIN Flag Cnt', 'Flow Pkts/s', 'Flow IAT Max', 'Flow IAT Mean', 'Idle Min', 'Bwd IAT Std', 'Bwd Pkts/s', 'Fwd Header Len'], 'Normal sample 546': ['SYN Flag Cnt', 'Init Fwd Win Byts', 'FIN Flag Cnt', 'Pkt Len Min', 'Pkt Size Avg', 'Bwd Pkt Len Min', 'Bwd Pkts/s', 'Flow Pkts/s', 'Pkt Len Max', 'Pkt Len Mean'], 'Normal sample 547': ['Init Bwd Win Byts', 'Fwd IAT Tot', 'Fwd Pkt Len Mean', 'Pkt Len Mean', 'Fwd Seg Size Avg', 'Down/Up Ratio', 'Fwd IAT Max', 'Fwd Pkt Len Max', 'Pkt Len Max', 'Idle Mean'], 'Normal sample 548': ['Down/Up Ratio', 'Init Fwd Win Byts', 'FIN Flag Cnt', 'Bwd Pkts/s', 'Bwd Seg Size Avg', 'Flow Pkts/s', 'PSH Flag Cnt', 'Flow IAT Max', 'Fwd Pkt Len Min', 'ACK Flag Cnt'], 'Normal sample 549': ['SYN Flag Cnt', 'Init Fwd Win Byts', 'ACK Flag Cnt', 'FIN Flag Cnt', 'Pkt Len Min', 'Flow Pkts/s', 'Bwd Pkts/s', 'Pkt Size Avg', 'Pkt Len Mean', 'Bwd Pkt Len Min'], 'Normal sample 550': ['SYN Flag Cnt', 'Init Fwd Win Byts', 'FIN Flag Cnt', 'Pkt Size Avg', 'Pkt Len Min', 'ACK Flag Cnt', 'Flow Pkts/s', 'Pkt Len Mean', 'Bwd Pkt Len Min', 'Pkt Len Std'], 'Normal sample 551': ['SYN Flag Cnt', 'Init Fwd Win Byts', 'FIN Flag Cnt', 'Pkt Len Min', 'Pkt Size Avg', 'ACK Flag Cnt', 'Pkt Len Mean', 'Flow Pkts/s', 'Bwd Pkt Len Min', 'Pkt Len Max'], 'Normal sample 552': ['Init Bwd Win Byts', 'SYN Flag Cnt', 'Down/Up Ratio', 'FIN Flag Cnt', 'PSH Flag Cnt', 'Idle Mean', 'Flow Pkts/s', 'Bwd IAT Max', 'Idle Min', 'Flow IAT Max'], 'Normal sample 553': ['SYN Flag Cnt', 'Init Fwd Win Byts', 'FIN Flag Cnt', 'Pkt Len Min', 'Pkt Size Avg', 'ACK Flag Cnt', 'Flow Pkts/s', 'Bwd Pkt Len Min', 'Pkt Len Mean', 'Pkt Len Max'], 'Normal sample 554': ['Fwd IAT Std', 'SYN Flag Cnt', 'ACK Flag Cnt', 'Pkt Len Min', 'Fwd IAT Tot', 'Init Fwd Win Byts', 'Fwd IAT Max', 'FIN Flag Cnt', 'Bwd Pkts/s', 'Down/Up Ratio'], 'Normal sample 555': ['SYN Flag Cnt', 'Init Fwd Win Byts', 'FIN Flag Cnt', 'Pkt Size Avg', 'Pkt Len Min', 'Bwd Pkt Len Min', 'ACK Flag Cnt', 'Pkt Len Max', 'Flow Pkts/s', 'Pkt Len Mean'], 'Normal sample 556': ['Init Bwd Win Byts', 'Pkt Size Avg', 'Pkt Len Mean', 'Fwd Pkt Len Max', 'Pkt Len Max', 'Down/Up Ratio', 'FIN Flag Cnt', 'Flow Pkts/s', 'Pkt Len Std', 'Fwd Pkt Len Std'], 'Normal sample 557': ['SYN Flag Cnt', 'Init Fwd Win Byts', 'ACK Flag Cnt', 'FIN Flag Cnt', 'Pkt Size Avg', 'Bwd Pkt Len Min', 'Pkt Len Min', 'Flow Pkts/s', 'Bwd Pkts/s', 'Fwd Pkt Len Min'], 'Normal sample 558': ['SYN Flag Cnt', 'Init Fwd Win Byts', 'ACK Flag Cnt', 'FIN Flag Cnt', 'Pkt Len Min', 'Pkt Size Avg', 'Bwd Pkt Len Min', 'Pkt Len Max', 'Flow Pkts/s', 'Pkt Len Mean'], 'Normal sample 559': ['Init Bwd Win Byts', 'Bwd IAT Tot', 'Bwd IAT Max', 'Flow Pkts/s', 'Bwd Pkts/s', 'Init Fwd Win Byts', 'Bwd IAT Mean', 'ACK Flag Cnt', 'FIN Flag Cnt', 'Flow IAT Max'], 'Normal sample 560': ['Down/Up Ratio', 'Bwd PSH Flags', 'ACK Flag Cnt', 'Init Fwd Win Byts', 'Bwd Pkts/s', 'SYN Flag Cnt', 'PSH Flag Cnt', 'FIN Flag Cnt', 'Flow Pkts/s', 'Fwd IAT Min'], 'Normal sample 561': ['Init Bwd Win Byts', 'SYN Flag Cnt', 'Idle Mean', 'Flow IAT Max', 'Flow IAT Std', 'Bwd Pkt Len Min', 'Bwd IAT Tot', 'Idle Min', 'Bwd IAT Mean', 'Active Mean'], 'Normal sample 562': ['Down/Up Ratio', 'Init Fwd Win Byts', 'FIN Flag Cnt', 'Bwd Pkts/s', 'Bwd Pkt Len Min', 'Flow IAT Std', 'Fwd Header Len', 'Idle Max', 'Fwd Pkt Len Min', 'Subflow Bwd Pkts'], 'Normal sample 563': ['SYN Flag Cnt', 'Init Fwd Win Byts', 'FIN Flag Cnt', 'ACK Flag Cnt', 'Pkt Len Min', 'Flow Pkts/s', 'Pkt Len Max', 'Bwd Pkt Len Min', 'Pkt Size Avg', 'Bwd Pkts/s'], 'Normal sample 564': ['Init Bwd Win Byts', 'Fwd Pkt Len Max', 'FIN Flag Cnt', 'Fwd IAT Tot', 'Flow Pkts/s', 'Fwd IAT Std', 'Pkt Len Max', 'Fwd Pkt Len Std', 'Fwd IAT Mean', 'URG Flag Cnt'], 'Normal sample 565': ['SYN Flag Cnt', 'Init Fwd Win Byts', 'FIN Flag Cnt', 'Pkt Size Avg', 'Pkt Len Min', 'Pkt Len Mean', 'Flow Pkts/s', 'Bwd Pkt Len Min', 'Fwd Pkt Len Min', 'ACK Flag Cnt'], 'Normal sample 566': ['Down/Up Ratio', 'Init Fwd Win Byts', 'SYN Flag Cnt', 'ACK Flag Cnt', 'FIN Flag Cnt', 'PSH Flag Cnt', 'Bwd URG Flags', 'Flow IAT Std', 'Bwd Pkts/s', 'Active Min'], 'Normal sample 567': ['SYN Flag Cnt', 'Init Fwd Win Byts', 'FIN Flag Cnt', 'Pkt Size Avg', 'ACK Flag Cnt', 'Pkt Len Min', 'Flow Pkts/s', 'Pkt Len Mean', 'Bwd Pkt Len Min', 'Pkt Len Std'], 'Normal sample 568': ['SYN Flag Cnt', 'Init Fwd Win Byts', 'ACK Flag Cnt', 'FIN Flag Cnt', 'Bwd Pkts/s', 'Pkt Size Avg', 'Pkt Len Mean', 'Pkt Len Max', 'Flow Pkts/s', 'Bwd IAT Tot'], 'Normal sample 569': ['SYN Flag Cnt', 'FIN Flag Cnt', 'Pkt Len Min', 'Flow Byts/s', 'Bwd Pkt Len Min', 'Pkt Size Avg', 'Fwd Pkt Len Min', 'Pkt Len Mean', 'Fwd Pkt Len Mean', 'Fwd Seg Size Avg'], 'Normal sample 570': ['SYN Flag Cnt', 'Init Fwd Win Byts', 'FIN Flag Cnt', 'Pkt Size Avg', 'Pkt Len Min', 'Pkt Len Mean', 'ACK Flag Cnt', 'Flow Pkts/s', 'Pkt Len Max', 'Bwd Pkt Len Min'], 'Normal sample 571': ['SYN Flag Cnt', 'FIN Flag Cnt', 'Pkt Size Avg', 'Pkt Len Min', 'Bwd Pkt Len Min', 'Fwd Pkt Len Min', 'Pkt Len Mean', 'Fwd Pkt Len Mean', 'Flow Pkts/s', 'Fwd Seg Size Avg'], 'Normal sample 572': ['SYN Flag Cnt', 'Init Fwd Win Byts', 'FIN Flag Cnt', 'ACK Flag Cnt', 'Pkt Size Avg', 'Flow Pkts/s', 'Pkt Len Min', 'Bwd Pkts/s', 'Pkt Len Mean', 'Bwd Pkt Len Min'], 'Normal sample 573': ['Down/Up Ratio', 'Init Fwd Win Byts', 'SYN Flag Cnt', 'FIN Flag Cnt', 'ACK Flag Cnt', 'Bwd Pkts/s', 'PSH Flag Cnt', 'Fwd Pkt Len Std', 'Bwd PSH Flags', 'Bwd IAT Max'], 'Normal sample 574': ['Down/Up Ratio', 'Init Fwd Win Byts', 'SYN Flag Cnt', 'FIN Flag Cnt', 'ACK Flag Cnt', 'Bwd Pkts/s', 'Flow Duration', 'PSH Flag Cnt', 'Bwd Pkt Len Mean', 'Active Max'], 'Normal sample 575': ['Fwd Pkt Len Max', 'Fwd Pkt Len Std', 'Fwd Pkt Len Mean', 'Pkt Len Max', 'Flow Byts/s', 'Fwd Seg Size Avg', 'Pkt Len Mean', 'Pkt Size Avg', 'SYN Flag Cnt', 'Pkt Len Std'], 'Normal sample 576': ['Down/Up Ratio', 'Init Fwd Win Byts', 'SYN Flag Cnt', 'ACK Flag Cnt', 'FIN Flag Cnt', 'Fwd IAT Std', 'Bwd Pkts/s', 'Pkt Len Min', 'Flow IAT Max', 'Active Max'], 'Normal sample 577': ['Init Bwd Win Byts', 'SYN Flag Cnt', 'Down/Up Ratio', 'Flow Pkts/s', 'FIN Flag Cnt', 'URG Flag Cnt', 'Flow IAT Max', 'Idle Max', 'Idle Mean', 'Bwd IAT Tot'], 'Normal sample 578': ['Init Bwd Win Byts', 'Fwd IAT Tot', 'Fwd IAT Std', 'Bwd IAT Tot', 'Down/Up Ratio', 'Pkt Size Avg', 'Pkt Len Max', 'Fwd Pkts/s', 'Fwd IAT Max', 'Bwd Pkt Len Mean'], 'Normal sample 579': ['Init Bwd Win Byts', 'Pkt Size Avg', 'Pkt Len Max', 'Pkt Len Mean', 'Fwd Pkt Len Max', 'Fwd Pkt Len Std', 'Flow Pkts/s', 'Down/Up Ratio', 'Subflow Bwd Pkts', 'Flow Duration'], 'Normal sample 580': ['Down/Up Ratio', 'Init Fwd Win Byts', 'SYN Flag Cnt', 'FIN Flag Cnt', 'ACK Flag Cnt', 'Active Mean', 'Idle Max', 'URG Flag Cnt', 'Fwd IAT Mean', 'Flow IAT Max'], 'Normal sample 581': ['Down/Up Ratio', 'Init Fwd Win Byts', 'SYN Flag Cnt', 'FIN Flag Cnt', 'ACK Flag Cnt', 'Bwd Pkts/s', 'PSH Flag Cnt', 'Flow Duration', 'Bwd IAT Tot', 'Idle Std'], 'Normal sample 582': ['Down/Up Ratio', 'Init Fwd Win Byts', 'SYN Flag Cnt', 'ACK Flag Cnt', 'FIN Flag Cnt', 'Fwd IAT Min', 'PSH Flag Cnt', 'Flow Duration', 'URG Flag Cnt', 'Subflow Fwd Pkts'], 'Normal sample 583': ['Init Bwd Win Byts', 'Fwd IAT Tot', 'Fwd IAT Std', 'Fwd Pkt Len Mean', 'FIN Flag Cnt', 'Fwd Pkt Len Std', 'Fwd Pkt Len Max', 'Fwd IAT Max', 'Idle Min', 'Flow Pkts/s'], 'Normal sample 584': ['SYN Flag Cnt', 'FIN Flag Cnt', 'ACK Flag Cnt', 'Bwd Pkts/s', 'Fwd IAT Tot', 'Fwd IAT Std', 'Pkt Size Avg', 'Bwd IAT Tot', 'Bwd IAT Max', 'Flow Pkts/s'], 'Normal sample 585': ['SYN Flag Cnt', 'Init Fwd Win Byts', 'FIN Flag Cnt', 'Pkt Size Avg', 'ACK Flag Cnt', 'Flow Pkts/s', 'Pkt Len Min', 'Pkt Len Mean', 'Bwd Pkt Len Min', 'Pkt Len Max'], 'Normal sample 586': ['SYN Flag Cnt', 'FIN Flag Cnt', 'Pkt Len Min', 'Pkt Size Avg', 'Init Fwd Win Byts', 'Bwd Pkt Len Min', 'Pkt Len Mean', 'ACK Flag Cnt', 'Fwd Pkt Len Min', 'Flow Pkts/s'], 'Normal sample 587': ['Init Bwd Win Byts', 'Fwd Pkt Len Max', 'Down/Up Ratio', 'Fwd IAT Tot', 'Fwd Pkt Len Mean', 'Bwd IAT Tot', 'Fwd Seg Size Avg', 'Fwd Pkt Len Std', 'ACK Flag Cnt', 'FIN Flag Cnt'], 'Normal sample 588': ['Init Bwd Win Byts', 'Fwd IAT Tot', 'Fwd IAT Std', 'Fwd Pkt Len Max', 'Bwd IAT Max', 'Bwd IAT Mean', 'URG Flag Cnt', 'FIN Flag Cnt', 'Init Fwd Win Byts', 'ACK Flag Cnt'], 'Normal sample 589': ['SYN Flag Cnt', 'Init Fwd Win Byts', 'FIN Flag Cnt', 'Pkt Size Avg', 'ACK Flag Cnt', 'Pkt Len Min', 'Pkt Len Mean', 'Bwd Pkt Len Min', 'Flow Pkts/s', 'Pkt Len Max'], 'Normal sample 590': ['Init Bwd Win Byts', 'Pkt Len Mean', 'Pkt Len Max', 'Pkt Size Avg', 'Fwd IAT Tot', 'Bwd IAT Max', 'Fwd IAT Max', 'FIN Flag Cnt', 'Fwd Pkt Len Max', 'ACK Flag Cnt'], 'Normal sample 591': ['SYN Flag Cnt', 'Down/Up Ratio', 'Init Fwd Win Byts', 'FIN Flag Cnt', 'Flow IAT Std', 'Idle Std', 'Idle Mean', 'Bwd URG Flags', 'Active Std', 'Active Min'], 'Normal sample 592': ['Down/Up Ratio', 'Init Fwd Win Byts', 'SYN Flag Cnt', 'FIN Flag Cnt', 'ACK Flag Cnt', 'Bwd Pkts/s', 'Bwd IAT Tot', 'PSH Flag Cnt', 'Flow Duration', 'Flow IAT Max'], 'Normal sample 593': ['Init Bwd Win Byts', 'Pkt Len Mean', 'Pkt Size Avg', 'Pkt Len Max', 'Fwd Pkt Len Max', 'Fwd Pkt Len Std', 'FIN Flag Cnt', 'Down/Up Ratio', 'Subflow Fwd Pkts', 'TotLen Bwd Pkts'], 'Normal sample 594': ['Init Fwd Win Byts', 'FIN Flag Cnt', 'Fwd IAT Mean', 'Bwd IAT Std', 'Flow IAT Std', 'Subflow Fwd Pkts', 'Down/Up Ratio', 'URG Flag Cnt', 'Active Std', 'Flow IAT Mean'], 'Normal sample 595': ['Down/Up Ratio', 'Init Fwd Win Byts', 'FIN Flag Cnt', 'Bwd Pkts/s', 'Pkt Len Min', 'Fwd IAT Max', 'Fwd Pkt Len Max', 'URG Flag Cnt', 'Flow Pkts/s', 'Bwd Seg Size Avg'], 'Normal sample 596': ['Init Bwd Win Byts', 'Fwd IAT Tot', 'Bwd Pkts/s', 'Fwd Pkt Len Std', 'Flow IAT Max', 'Pkt Len Std', 'Fwd IAT Std', 'Fwd Seg Size Avg', 'Flow Pkts/s', 'Fwd Pkt Len Max'], 'Normal sample 597': ['SYN Flag Cnt', 'Init Fwd Win Byts', 'ACK Flag Cnt', 'FIN Flag Cnt', 'Flow Pkts/s', 'Pkt Len Min', 'Bwd Pkt Len Min', 'Pkt Size Avg', 'Bwd Pkts/s', 'Pkt Len Max'], 'Normal sample 598': ['Down/Up Ratio', 'Init Fwd Win Byts', 'FIN Flag Cnt', 'Bwd Pkts/s', 'Bwd Pkt Len Mean', 'Fwd Header Len', 'PSH Flag Cnt', 'Bwd Pkt Len Min', 'Fwd IAT Tot', 'Flow IAT Std'], 'Normal sample 599': ['SYN Flag Cnt', 'FIN Flag Cnt', 'Flow Byts/s', 'Pkt Size Avg', 'Bwd Pkt Len Min', 'Pkt Len Min', 'Fwd Pkt Len Min', 'Fwd Pkt Len Mean', 'Fwd Seg Size Avg', 'Flow Pkts/s'], 'Normal sample 600': ['Init Bwd Win Byts', 'SYN Flag Cnt', 'Flow Pkts/s', 'Init Fwd Win Byts', 'Fwd IAT Max', 'Fwd IAT Mean', 'Bwd Pkts/s', 'FIN Flag Cnt', 'Fwd IAT Tot', 'Flow IAT Max'], 'Normal sample 601': ['Down/Up Ratio', 'Bwd PSH Flags', 'Init Fwd Win Byts', 'ACK Flag Cnt', 'SYN Flag Cnt', 'Bwd Pkts/s', 'PSH Flag Cnt', 'FIN Flag Cnt', 'Pkt Len Max', 'Active Min'], 'Normal sample 602': ['SYN Flag Cnt', 'Pkt Size Avg', 'FIN Flag Cnt', 'Pkt Len Min', 'Flow Pkts/s', 'Bwd Pkt Len Min', 'Pkt Len Mean', 'Pkt Len Max', 'Bwd Pkts/s', 'Pkt Len Std'], 'Normal sample 603': ['Init Bwd Win Byts', 'Fwd IAT Tot', 'Fwd Pkt Len Max', 'Fwd Pkt Len Std', 'Fwd IAT Std', 'FIN Flag Cnt', 'Pkt Len Max', 'Fwd IAT Mean', 'ACK Flag Cnt', 'Pkt Len Std'], 'Normal sample 604': ['Init Bwd Win Byts', 'SYN Flag Cnt', 'Bwd IAT Max', 'Flow IAT Std', 'Idle Mean', 'Subflow Fwd Pkts', 'ACK Flag Cnt', 'Fwd IAT Tot', 'Flow IAT Max', 'Flow Duration'], 'Normal sample 605': ['Init Bwd Win Byts', 'SYN Flag Cnt', 'FIN Flag Cnt', 'Flow Pkts/s', 'Down/Up Ratio', 'Idle Min', 'Idle Mean', 'Idle Max', 'Tot Fwd Pkts', 'Flow IAT Max'], 'Normal sample 606': ['SYN Flag Cnt', 'Init Fwd Win Byts', 'FIN Flag Cnt', 'ACK Flag Cnt', 'Pkt Len Min', 'Pkt Size Avg', 'Flow Pkts/s', 'Bwd Pkt Len Min', 'Pkt Len Mean', 'Bwd Pkts/s'], 'Normal sample 607': ['Down/Up Ratio', 'Init Fwd Win Byts', 'SYN Flag Cnt', 'ACK Flag Cnt', 'FIN Flag Cnt', 'Bwd Pkt Len Min', 'Bwd Pkts/s', 'Subflow Fwd Pkts', 'PSH Flag Cnt', 'Fwd IAT Min'], 'Normal sample 608': ['SYN Flag Cnt', 'FIN Flag Cnt', 'Init Fwd Win Byts', 'Pkt Size Avg', 'Pkt Len Min', 'Pkt Len Mean', 'Bwd Pkt Len Min', 'Flow Pkts/s', 'Pkt Len Max', 'Pkt Len Std'], 'Normal sample 609': ['Init Bwd Win Byts', 'Pkt Len Max', 'Pkt Size Avg', 'Fwd IAT Tot', 'Pkt Len Mean', 'Pkt Len Std', 'Down/Up Ratio', 'Fwd IAT Max', 'Flow IAT Max', 'Bwd IAT Std'], 'Normal sample 610': ['SYN Flag Cnt', 'Init Fwd Win Byts', 'Pkt Size Avg', 'FIN Flag Cnt', 'ACK Flag Cnt', 'Pkt Len Min', 'Flow Pkts/s', 'Pkt Len Mean', 'Bwd Pkt Len Min', 'Bwd Pkts/s'], 'Normal sample 611': ['Down/Up Ratio', 'Bwd PSH Flags', 'Init Fwd Win Byts', 'ACK Flag Cnt', 'PSH Flag Cnt', 'SYN Flag Cnt', 'Bwd Pkts/s', 'FIN Flag Cnt', 'Fwd Pkt Len Std', 'Pkt Len Mean'], 'Normal sample 612': ['Down/Up Ratio', 'Init Fwd Win Byts', 'SYN Flag Cnt', 'ACK Flag Cnt', 'FIN Flag Cnt', 'Bwd Pkts/s', 'Bwd IAT Min', 'Flow Duration', 'Idle Max', 'Bwd Pkt Len Std'], 'Normal sample 613': ['Down/Up Ratio', 'Init Fwd Win Byts', 'SYN Flag Cnt', 'FIN Flag Cnt', 'ACK Flag Cnt', 'Bwd Pkts/s', 'Flow Duration', 'Flow IAT Min', 'Fwd Pkt Len Min', 'Idle Max'], 'Normal sample 614': ['SYN Flag Cnt', 'Init Fwd Win Byts', 'ACK Flag Cnt', 'FIN Flag Cnt', 'Pkt Len Min', 'Flow Pkts/s', 'Pkt Len Mean', 'Bwd Pkt Len Min', 'Pkt Size Avg', 'Bwd Pkts/s'], 'Normal sample 615': ['Init Bwd Win Byts', 'Pkt Len Max', 'Pkt Len Mean', 'Pkt Size Avg', 'Pkt Len Std', 'Fwd IAT Max', 'Down/Up Ratio', 'Bwd Pkts/s', 'Fwd IAT Tot', 'Fwd Pkt Len Max'], 'Normal sample 616': ['Down/Up Ratio', 'Init Fwd Win Byts', 'SYN Flag Cnt', 'ACK Flag Cnt', 'FIN Flag Cnt', 'Bwd Pkts/s', 'Bwd PSH Flags', 'PSH Flag Cnt', 'Bwd IAT Max', 'Bwd URG Flags'], 'Normal sample 617': ['SYN Flag Cnt', 'Pkt Size Avg', 'Bwd Pkt Len Min', 'Pkt Len Min', 'FIN Flag Cnt', 'Pkt Len Mean', 'Flow Pkts/s', 'Pkt Len Max', 'Pkt Len Std', 'Bwd Pkts/s'], 'Normal sample 618': ['Down/Up Ratio', 'Init Fwd Win Byts', 'SYN Flag Cnt', 'FIN Flag Cnt', 'ACK Flag Cnt', 'PSH Flag Cnt', 'Pkt Len Min', 'Fwd Act Data Pkts', 'Fwd IAT Mean', 'Active Std'], 'Normal sample 619': ['Down/Up Ratio', 'Bwd PSH Flags', 'Init Fwd Win Byts', 'ACK Flag Cnt', 'SYN Flag Cnt', 'Bwd Pkts/s', 'PSH Flag Cnt', 'FIN Flag Cnt', 'Fwd IAT Mean', 'Idle Max'], 'Normal sample 620': ['SYN Flag Cnt', 'Down/Up Ratio', 'Init Fwd Win Byts', 'FIN Flag Cnt', 'Bwd IAT Std', 'Fwd IAT Max', 'Idle Max', 'Fwd IAT Mean', 'Subflow Fwd Pkts', 'Subflow Fwd Byts'], 'Normal sample 621': ['PSH Flag Cnt', 'SYN Flag Cnt', 'Down/Up Ratio', 'ACK Flag Cnt', 'Init Fwd Win Byts', 'Bwd PSH Flags', 'Bwd Pkts/s', 'FIN Flag Cnt', 'Flow Pkts/s', 'Flow IAT Mean'], 'Normal sample 622': ['Init Bwd Win Byts', 'SYN Flag Cnt', 'Flow Pkts/s', 'FIN Flag Cnt', 'Flow IAT Max', 'Down/Up Ratio', 'Bwd IAT Std', 'Idle Min', 'Idle Mean', 'Bwd Seg Size Avg'], 'Normal sample 623': ['SYN Flag Cnt', 'Init Fwd Win Byts', 'Down/Up Ratio', 'FIN Flag Cnt', 'Subflow Fwd Byts', 'Bwd IAT Std', 'Fwd IAT Min', 'Active Min', 'Flow IAT Mean', 'Idle Mean'], 'Normal sample 624': ['Init Bwd Win Byts', 'Fwd IAT Tot', 'Fwd IAT Std', 'Bwd PSH Flags', 'Pkt Len Mean', 'SYN Flag Cnt', 'Bwd IAT Mean', 'Pkt Size Avg', 'Bwd Pkts/s', 'Down/Up Ratio'], 'Normal sample 625': ['Init Bwd Win Byts', 'Fwd IAT Tot', 'Bwd PSH Flags', 'Down/Up Ratio', 'Fwd IAT Std', 'Bwd Pkts/s', 'SYN Flag Cnt', 'Active Max', 'Flow IAT Min', 'Pkt Len Var'], 'Normal sample 626': ['SYN Flag Cnt', 'Init Fwd Win Byts', 'FIN Flag Cnt', 'ACK Flag Cnt', 'Pkt Len Min', 'Pkt Size Avg', 'Flow Pkts/s', 'Pkt Len Mean', 'Bwd Pkt Len Min', 'Pkt Len Max'], 'Normal sample 627': ['Init Bwd Win Byts', 'Pkt Len Max', 'Pkt Size Avg', 'Pkt Len Mean', 'Down/Up Ratio', 'Flow Pkts/s', 'Fwd Pkt Len Mean', 'Pkt Len Std', 'FIN Flag Cnt', 'Fwd Seg Size Avg'], 'Normal sample 628': ['Init Bwd Win Byts', 'SYN Flag Cnt', 'Down/Up Ratio', 'FIN Flag Cnt', 'Bwd Pkts/s', 'Flow Pkts/s', 'Pkt Size Avg', 'TotLen Fwd Pkts', 'Pkt Len Mean', 'Bwd PSH Flags'], 'Normal sample 629': ['Init Bwd Win Byts', 'Fwd IAT Tot', 'Pkt Len Max', 'Down/Up Ratio', 'Pkt Len Std', 'Bwd IAT Tot', 'Pkt Size Avg', 'FIN Flag Cnt', 'Fwd IAT Std', 'Flow Pkts/s'], 'Normal sample 630': ['Init Bwd Win Byts', 'SYN Flag Cnt', 'Down/Up Ratio', 'Flow Pkts/s', 'Flow IAT Max', 'FIN Flag Cnt', 'Idle Min', 'Idle Max', 'Flow Duration', 'Idle Mean'], 'Normal sample 631': ['Init Bwd Win Byts', 'Fwd IAT Tot', 'Pkt Len Max', 'Fwd Pkt Len Max', 'Bwd IAT Mean', 'Bwd IAT Max', 'Pkt Len Std', 'Pkt Len Mean', 'Bwd Pkt Len Std', 'Fwd Header Len'], 'Normal sample 632': ['Init Bwd Win Byts', 'Fwd IAT Tot', 'Bwd IAT Tot', 'Bwd IAT Max', 'Fwd IAT Max', 'Bwd IAT Mean', 'Fwd IAT Mean', 'Idle Max', 'FIN Flag Cnt', 'Fwd IAT Min'], 'Normal sample 633': ['SYN Flag Cnt', 'Init Fwd Win Byts', 'Pkt Size Avg', 'FIN Flag Cnt', 'Pkt Len Min', 'ACK Flag Cnt', 'Flow Pkts/s', 'Pkt Len Mean', 'Bwd Pkt Len Min', 'Pkt Len Max'], 'Normal sample 634': ['SYN Flag Cnt', 'Init Fwd Win Byts', 'Pkt Size Avg', 'FIN Flag Cnt', 'ACK Flag Cnt', 'Pkt Len Min', 'Flow Pkts/s', 'Bwd Pkt Len Min', 'Pkt Len Mean', 'Pkt Len Max'], 'Normal sample 635': ['SYN Flag Cnt', 'Init Fwd Win Byts', 'FIN Flag Cnt', 'Pkt Len Min', 'ACK Flag Cnt', 'Pkt Size Avg', 'Flow Pkts/s', 'Bwd Pkt Len Min', 'Pkt Len Max', 'Pkt Len Mean'], 'Normal sample 636': ['SYN Flag Cnt', 'Init Fwd Win Byts', 'ACK Flag Cnt', 'FIN Flag Cnt', 'Pkt Len Min', 'Flow Pkts/s', 'Pkt Size Avg', 'Bwd Pkts/s', 'Pkt Len Mean', 'Bwd Pkt Len Min'], 'Normal sample 637': ['Fwd Pkt Len Max', 'SYN Flag Cnt', 'Fwd Pkt Len Std', 'Fwd Pkt Len Mean', 'Pkt Len Mean', 'Fwd Seg Size Avg', 'Pkt Len Max', 'Pkt Size Avg', 'Pkt Len Std', 'Down/Up Ratio'], 'Normal sample 638': ['SYN Flag Cnt', 'Init Fwd Win Byts', 'FIN Flag Cnt', 'ACK Flag Cnt', 'Pkt Size Avg', 'Pkt Len Min', 'Flow Pkts/s', 'Pkt Len Max', 'Pkt Len Mean', 'Bwd Pkts/s'], 'Normal sample 639': ['Init Bwd Win Byts', 'SYN Flag Cnt', 'Flow IAT Max', 'Idle Max', 'Bwd IAT Max', 'Bwd Pkt Len Max', 'Subflow Bwd Pkts', 'Bwd Pkt Len Std', 'Active Max', 'Bwd IAT Std'], 'Normal sample 640': ['Init Bwd Win Byts', 'SYN Flag Cnt', 'Bwd Pkts/s', 'Down/Up Ratio', 'Flow Pkts/s', 'FIN Flag Cnt', 'Flow Duration', 'Fwd IAT Tot', 'Pkt Len Mean', 'Fwd Pkt Len Std'], 'Normal sample 641': ['Down/Up Ratio', 'Init Fwd Win Byts', 'SYN Flag Cnt', 'ACK Flag Cnt', 'FIN Flag Cnt', 'PSH Flag Cnt', 'Idle Max', 'Bwd Pkts/s', 'Flow IAT Std', 'Fwd IAT Mean'], 'Normal sample 642': ['SYN Flag Cnt', 'Init Fwd Win Byts', 'FIN Flag Cnt', 'Pkt Size Avg', 'Pkt Len Min', 'Pkt Len Mean', 'ACK Flag Cnt', 'Flow Pkts/s', 'Bwd Pkt Len Min', 'Pkt Len Max'], 'Normal sample 643': ['SYN Flag Cnt', 'Init Fwd Win Byts', 'FIN Flag Cnt', 'Pkt Size Avg', 'ACK Flag Cnt', 'Pkt Len Min', 'Pkt Len Mean', 'Flow Pkts/s', 'Bwd Pkt Len Min', 'Pkt Len Max'], 'Normal sample 644': ['Init Bwd Win Byts', 'Flow Pkts/s', 'Pkt Size Avg', 'Down/Up Ratio', 'Pkt Len Mean', 'Fwd Pkt Len Max', 'Fwd Pkt Len Std', 'Pkt Len Max', 'FIN Flag Cnt', 'Fwd IAT Tot'], 'Normal sample 645': ['Down/Up Ratio', 'Init Fwd Win Byts', 'SYN Flag Cnt', 'ACK Flag Cnt', 'FIN Flag Cnt', 'Bwd Pkts/s', 'PSH Flag Cnt', 'Bwd URG Flags', 'Active Max', 'Fwd Pkts/s'], 'Normal sample 646': ['Down/Up Ratio', 'Bwd PSH Flags', 'ACK Flag Cnt', 'Init Fwd Win Byts', 'SYN Flag Cnt', 'PSH Flag Cnt', 'Bwd Pkts/s', 'FIN Flag Cnt', 'Fwd Pkt Len Mean', 'Flow Pkts/s'], 'Normal sample 647': ['SYN Flag Cnt', 'Pkt Len Min', 'FIN Flag Cnt', 'Pkt Size Avg', 'Bwd Pkt Len Min', 'Init Fwd Win Byts', 'Flow Pkts/s', 'Pkt Len Mean', 'Pkt Len Max', 'Fwd Pkt Len Min'], 'Normal sample 648': ['Init Bwd Win Byts', 'Fwd IAT Tot', 'Pkt Len Max', 'Fwd Pkt Len Max', 'Bwd Pkts/s', 'ACK Flag Cnt', 'Flow Pkts/s', 'Pkt Len Std', 'Idle Mean', 'Pkt Size Avg'], 'Normal sample 649': ['Down/Up Ratio', 'Init Fwd Win Byts', 'FIN Flag Cnt', 'Flow Pkts/s', 'Bwd Pkts/s', 'Bwd Pkt Len Min', 'Flow IAT Max', 'Bwd URG Flags', 'Bwd Pkt Len Max', 'Fwd IAT Tot'], 'Normal sample 650': ['Down/Up Ratio', 'Init Fwd Win Byts', 'SYN Flag Cnt', 'FIN Flag Cnt', 'ACK Flag Cnt', 'Subflow Fwd Byts', 'Pkt Len Min', 'Bwd Pkt Len Std', 'Bwd Pkts/s', 'Flow Duration'], 'Normal sample 651': ['Init Bwd Win Byts', 'Fwd IAT Tot', 'Pkt Len Max', 'Fwd Pkt Len Max', 'Bwd IAT Tot', 'Pkt Len Std', 'Fwd IAT Std', 'FIN Flag Cnt', 'Pkt Size Avg', 'Pkt Len Mean'], 'Normal sample 652': ['Down/Up Ratio', 'SYN Flag Cnt', 'Pkt Size Avg', 'Pkt Len Max', 'Pkt Len Mean', 'Flow Byts/s', 'Pkt Len Std', 'Bwd PSH Flags', 'Init Fwd Win Byts', 'Flow Pkts/s'], 'Normal sample 653': ['Down/Up Ratio', 'Init Fwd Win Byts', 'FIN Flag Cnt', 'Flow Pkts/s', 'Fwd IAT Max', 'Bwd Pkts/s', 'Pkt Len Min', 'Idle Mean', 'Fwd IAT Mean', 'Idle Max'], 'Normal sample 654': ['Init Bwd Win Byts', 'SYN Flag Cnt', 'FIN Flag Cnt', 'Flow Pkts/s', 'Down/Up Ratio', 'Idle Max', 'Idle Min', 'Bwd Pkts/s', 'Flow IAT Mean', 'Idle Mean'], 'Normal sample 655': ['SYN Flag Cnt', 'Init Fwd Win Byts', 'FIN Flag Cnt', 'ACK Flag Cnt', 'Pkt Len Min', 'Flow Pkts/s', 'Pkt Size Avg', 'Bwd Pkt Len Min', 'Pkt Len Max', 'Bwd Pkts/s'], 'Normal sample 656': ['SYN Flag Cnt', 'Init Fwd Win Byts', 'FIN Flag Cnt', 'Pkt Size Avg', 'ACK Flag Cnt', 'Pkt Len Min', 'Pkt Len Mean', 'Flow Pkts/s', 'Pkt Len Max', 'Bwd Pkt Len Min'], 'Normal sample 657': ['SYN Flag Cnt', 'Down/Up Ratio', 'Init Fwd Win Byts', 'FIN Flag Cnt', 'Idle Mean', 'Flow IAT Mean', 'Flow IAT Std', 'Flow Byts/s', 'URG Flag Cnt', 'Fwd Pkts/s'], 'Normal sample 658': ['Init Bwd Win Byts', 'Fwd Pkt Len Max', 'Pkt Len Max', 'Fwd IAT Tot', 'Pkt Size Avg', 'Fwd IAT Max', 'Fwd Seg Size Avg', 'Fwd Pkt Len Mean', 'Fwd Pkt Len Std', 'ACK Flag Cnt'], 'Normal sample 659': ['SYN Flag Cnt', 'Init Fwd Win Byts', 'FIN Flag Cnt', 'Bwd IAT Std', 'Idle Std', 'PSH Flag Cnt', 'Bwd IAT Max', 'Fwd Pkts/s', 'Subflow Bwd Pkts', 'Flow Duration'], 'Normal sample 660': ['SYN Flag Cnt', 'Init Fwd Win Byts', 'FIN Flag Cnt', 'ACK Flag Cnt', 'Pkt Size Avg', 'Flow Pkts/s', 'Pkt Len Min', 'Bwd Pkts/s', 'Bwd Pkt Len Min', 'Pkt Len Mean'], 'Normal sample 661': ['SYN Flag Cnt', 'FIN Flag Cnt', 'Pkt Size Avg', 'Bwd Pkt Len Min', 'Pkt Len Min', 'Fwd Pkt Len Min', 'Fwd Seg Size Avg', 'Pkt Len Mean', 'Fwd Pkt Len Mean', 'Flow Pkts/s'], 'Normal sample 662': ['SYN Flag Cnt', 'FIN Flag Cnt', 'Pkt Len Min', 'Pkt Size Avg', 'Bwd Pkt Len Min', 'Init Fwd Win Byts', 'Pkt Len Mean', 'Flow Pkts/s', 'Bwd Pkts/s', 'Fwd Pkt Len Min'], 'Normal sample 663': ['Init Bwd Win Byts', 'SYN Flag Cnt', 'Bwd Pkt Len Min', 'Down/Up Ratio', 'Bwd PSH Flags', 'Pkt Size Avg', 'Pkt Len Mean', 'FIN Flag Cnt', 'Flow Pkts/s', 'Bwd URG Flags'], 'Normal sample 664': ['Init Bwd Win Byts', 'SYN Flag Cnt', 'FIN Flag Cnt', 'Flow Pkts/s', 'Flow IAT Max', 'Bwd IAT Std', 'Idle Max', 'Idle Mean', 'Down/Up Ratio', 'Bwd Seg Size Avg'], 'Normal sample 665': ['Init Bwd Win Byts', 'Fwd IAT Tot', 'Bwd PSH Flags', 'Down/Up Ratio', 'Fwd IAT Std', 'Bwd Pkts/s', 'SYN Flag Cnt', 'Init Fwd Win Byts', 'Bwd Pkt Len Max', 'Pkt Len Min'], 'Normal sample 666': ['Down/Up Ratio', 'Init Fwd Win Byts', 'SYN Flag Cnt', 'FIN Flag Cnt', 'ACK Flag Cnt', 'PSH Flag Cnt', 'Bwd Pkts/s', 'Idle Max', 'Idle Mean', 'Pkt Len Min'], 'Normal sample 667': ['Down/Up Ratio', 'Init Fwd Win Byts', 'SYN Flag Cnt', 'FIN Flag Cnt', 'Bwd Pkts/s', 'PSH Flag Cnt', 'Flow Pkts/s', 'Idle Max', 'Bwd IAT Std', 'Flow IAT Max'], 'Normal sample 668': ['Init Bwd Win Byts', 'SYN Flag Cnt', 'Bwd Pkt Len Min', 'Bwd Pkts/s', 'Flow Pkts/s', 'Pkt Size Avg', 'FIN Flag Cnt', 'Pkt Len Mean', 'Pkt Len Var', 'Fwd Pkt Len Std'], 'Normal sample 669': ['Down/Up Ratio', 'Init Fwd Win Byts', 'FIN Flag Cnt', 'Bwd Pkts/s', 'Bwd Pkt Len Min', 'Bwd IAT Tot', 'Fwd IAT Mean', 'Fwd IAT Tot', 'Subflow Fwd Pkts', 'PSH Flag Cnt'], 'Normal sample 670': ['Init Bwd Win Byts', 'Fwd Pkt Len Max', 'Fwd IAT Std', 'Fwd Pkt Len Std', 'Fwd IAT Tot', 'Fwd Seg Size Avg', 'Pkt Len Std', 'Idle Min', 'Fwd IAT Max', 'Fwd Pkt Len Mean'], 'Normal sample 671': ['Init Bwd Win Byts', 'Pkt Len Max', 'Pkt Size Avg', 'Pkt Len Mean', 'Down/Up Ratio', 'Fwd Pkt Len Max', 'Flow Pkts/s', 'Fwd Seg Size Avg', 'Fwd Pkt Len Mean', 'Bwd Seg Size Avg'], 'Normal sample 672': ['Init Bwd Win Byts', 'SYN Flag Cnt', 'FIN Flag Cnt', 'Flow Pkts/s', 'Bwd IAT Std', 'Down/Up Ratio', 'Flow IAT Max', 'Idle Mean', 'Fwd Header Len', 'Idle Max'], 'Normal sample 673': ['SYN Flag Cnt', 'Init Fwd Win Byts', 'FIN Flag Cnt', 'Pkt Len Min', 'Pkt Size Avg', 'Flow Pkts/s', 'Bwd Pkt Len Min', 'Pkt Len Max', 'Pkt Len Mean', 'Fwd Pkt Len Min'], 'Normal sample 674': ['Down/Up Ratio', 'Bwd PSH Flags', 'Init Fwd Win Byts', 'ACK Flag Cnt', 'SYN Flag Cnt', 'Bwd Pkts/s', 'PSH Flag Cnt', 'FIN Flag Cnt', 'Flow Pkts/s', 'Flow IAT Max'], 'Normal sample 675': ['Init Bwd Win Byts', 'Pkt Len Max', 'Pkt Size Avg', 'Pkt Len Mean', 'Fwd Pkt Len Max', 'Pkt Len Std', 'Down/Up Ratio', 'Flow Pkts/s', 'Fwd IAT Max', 'FIN Flag Cnt'], 'Normal sample 676': ['Down/Up Ratio', 'Init Fwd Win Byts', 'SYN Flag Cnt', 'FIN Flag Cnt', 'ACK Flag Cnt', 'Bwd Pkts/s', 'Bwd PSH Flags', 'PSH Flag Cnt', 'Fwd IAT Std', 'Flow IAT Max'], 'Normal sample 677': ['Down/Up Ratio', 'Init Fwd Win Byts', 'SYN Flag Cnt', 'FIN Flag Cnt', 'ACK Flag Cnt', 'PSH Flag Cnt', 'Flow IAT Max', 'Bwd Pkts/s', 'Fwd IAT Min', 'Pkt Len Var'], 'Normal sample 678': ['SYN Flag Cnt', 'Init Fwd Win Byts', 'FIN Flag Cnt', 'Pkt Size Avg', 'ACK Flag Cnt', 'Pkt Len Min', 'Bwd Pkt Len Min', 'Pkt Len Mean', 'Pkt Len Max', 'Flow Pkts/s'], 'Normal sample 679': ['Init Bwd Win Byts', 'Pkt Len Max', 'Pkt Len Mean', 'Fwd IAT Tot', 'Pkt Size Avg', 'Pkt Len Std', 'Bwd Pkts/s', 'Down/Up Ratio', 'Fwd Pkt Len Max', 'Bwd Header Len'], 'Normal sample 680': ['Init Bwd Win Byts', 'Pkt Size Avg', 'Pkt Len Max', 'Pkt Len Mean', 'Fwd Pkt Len Max', 'Flow Pkts/s', 'Flow Duration', 'Fwd IAT Tot', 'Fwd Seg Size Avg', 'Fwd Pkt Len Std'], 'Normal sample 681': ['SYN Flag Cnt', 'Init Fwd Win Byts', 'FIN Flag Cnt', 'Pkt Len Min', 'Pkt Size Avg', 'ACK Flag Cnt', 'Pkt Len Max', 'Pkt Len Mean', 'Flow Pkts/s', 'Bwd Pkt Len Min'], 'Normal sample 682': ['SYN Flag Cnt', 'Init Fwd Win Byts', 'FIN Flag Cnt', 'Pkt Size Avg', 'Pkt Len Min', 'Flow Pkts/s', 'Pkt Len Mean', 'Bwd Pkt Len Min', 'ACK Flag Cnt', 'Pkt Len Max'], 'Normal sample 683': ['Init Fwd Win Byts', 'FIN Flag Cnt', 'Down/Up Ratio', 'Flow IAT Mean', 'Fwd Header Len', 'Idle Mean', 'Active Min', 'Bwd IAT Max', 'Bwd Pkt Len Std', 'Fwd IAT Mean'], 'Normal sample 684': ['SYN Flag Cnt', 'Init Fwd Win Byts', 'ACK Flag Cnt', 'FIN Flag Cnt', 'Pkt Len Min', 'Flow Pkts/s', 'Pkt Size Avg', 'Bwd Pkts/s', 'Pkt Len Mean', 'Bwd Pkt Len Min'], 'Normal sample 685': ['SYN Flag Cnt', 'Init Fwd Win Byts', 'FIN Flag Cnt', 'Pkt Len Min', 'Pkt Size Avg', 'ACK Flag Cnt', 'Flow Pkts/s', 'Pkt Len Mean', 'Pkt Len Max', 'Bwd Pkt Len Min'], 'Normal sample 686': ['Down/Up Ratio', 'Bwd PSH Flags', 'Init Fwd Win Byts', 'ACK Flag Cnt', 'SYN Flag Cnt', 'Bwd Pkts/s', 'FIN Flag Cnt', 'PSH Flag Cnt', 'Idle Max', 'Flow Pkts/s'], 'Normal sample 687': ['Init Bwd Win Byts', 'SYN Flag Cnt', 'ACK Flag Cnt', 'Idle Mean', 'Idle Max', 'Flow IAT Std', 'Flow IAT Mean', 'Idle Min', 'TotLen Fwd Pkts', 'Bwd IAT Std'], 'Normal sample 688': ['SYN Flag Cnt', 'Init Fwd Win Byts', 'FIN Flag Cnt', 'Pkt Size Avg', 'Pkt Len Min', 'Flow Pkts/s', 'ACK Flag Cnt', 'Pkt Len Max', 'Bwd Pkt Len Min', 'Pkt Len Mean'], 'Normal sample 689': ['SYN Flag Cnt', 'Init Fwd Win Byts', 'FIN Flag Cnt', 'Bwd IAT Max', 'Flow Byts/s', 'Tot Fwd Pkts', 'Fwd IAT Max', 'Bwd IAT Std', 'Bwd IAT Mean', 'Subflow Bwd Byts'], 'Normal sample 690': ['Down/Up Ratio', 'Init Fwd Win Byts', 'SYN Flag Cnt', 'ACK Flag Cnt', 'FIN Flag Cnt', 'PSH Flag Cnt', 'Bwd PSH Flags', 'Idle Max', 'Idle Mean', 'TotLen Bwd Pkts'], 'Normal sample 691': ['SYN Flag Cnt', 'Pkt Len Min', 'FIN Flag Cnt', 'Pkt Size Avg', 'Init Fwd Win Byts', 'Bwd Pkt Len Min', 'Pkt Len Mean', 'Pkt Len Max', 'Flow Pkts/s', 'ACK Flag Cnt'], 'Normal sample 692': ['Init Bwd Win Byts', 'Pkt Len Max', 'Pkt Size Avg', 'Pkt Len Mean', 'Fwd Pkt Len Max', 'Bwd Header Len', 'Flow Pkts/s', 'Fwd Header Len', 'Tot Bwd Pkts', 'Pkt Len Std'], 'Normal sample 693': ['Init Bwd Win Byts', 'SYN Flag Cnt', 'FIN Flag Cnt', 'Flow Pkts/s', 'Down/Up Ratio', 'Flow IAT Max', 'Bwd IAT Std', 'Flow IAT Std', 'Idle Max', 'Idle Mean'], 'Normal sample 694': ['Init Bwd Win Byts', 'Fwd IAT Tot', 'SYN Flag Cnt', 'Fwd Pkt Len Max', 'Pkt Len Mean', 'Fwd Pkt Len Mean', 'Fwd Pkt Len Std', 'Bwd URG Flags', 'Init Fwd Win Byts', 'Pkt Size Avg'], 'Normal sample 695': ['SYN Flag Cnt', 'Init Fwd Win Byts', 'ACK Flag Cnt', 'FIN Flag Cnt', 'Pkt Len Min', 'Flow Pkts/s', 'Pkt Size Avg', 'Bwd Pkts/s', 'Bwd Pkt Len Min', 'Pkt Len Mean'], 'Normal sample 696': ['SYN Flag Cnt', 'Init Fwd Win Byts', 'FIN Flag Cnt', 'ACK Flag Cnt', 'Pkt Len Min', 'Flow Pkts/s', 'Pkt Size Avg', 'Pkt Len Mean', 'Pkt Len Max', 'Bwd Pkt Len Min'], 'Normal sample 697': ['Init Bwd Win Byts', 'Pkt Len Max', 'Down/Up Ratio', 'Pkt Size Avg', 'Fwd IAT Tot', 'Bwd PSH Flags', 'Pkt Len Mean', 'Bwd IAT Tot', 'Fwd IAT Std', 'SYN Flag Cnt'], 'Normal sample 698': ['Init Bwd Win Byts', 'Fwd IAT Tot', 'Pkt Len Max', 'Bwd IAT Tot', 'Pkt Size Avg', 'Fwd IAT Mean', 'Pkt Len Mean', 'Flow IAT Max', 'Fwd IAT Std', 'ACK Flag Cnt'], 'Normal sample 699': ['Down/Up Ratio', 'Init Fwd Win Byts', 'FIN Flag Cnt', 'Flow IAT Max', 'Bwd Pkts/s', 'Flow Pkts/s', 'PSH Flag Cnt', 'Pkt Size Avg', 'Fwd Pkt Len Min', 'Bwd IAT Mean'], 'Normal sample 700': ['SYN Flag Cnt', 'Init Fwd Win Byts', 'ACK Flag Cnt', 'FIN Flag Cnt', 'Pkt Size Avg', 'Flow Pkts/s', 'Pkt Len Min', 'Bwd Pkts/s', 'Bwd Pkt Len Min', 'Pkt Len Max'], 'Normal sample 701': ['SYN Flag Cnt', 'FIN Flag Cnt', 'Init Fwd Win Byts', 'Pkt Len Min', 'Pkt Size Avg', 'Bwd Pkt Len Min', 'ACK Flag Cnt', 'Pkt Len Mean', 'Flow Pkts/s', 'Fwd Pkt Len Min'], 'Normal sample 702': ['SYN Flag Cnt', 'Init Fwd Win Byts', 'FIN Flag Cnt', 'ACK Flag Cnt', 'Pkt Size Avg', 'Pkt Len Min', 'Flow Pkts/s', 'Bwd Pkt Len Min', 'Pkt Len Max', 'Pkt Len Mean'], 'Normal sample 703': ['Down/Up Ratio', 'Init Fwd Win Byts', 'SYN Flag Cnt', 'ACK Flag Cnt', 'FIN Flag Cnt', 'Idle Max', 'Bwd IAT Std', 'Flow Duration', 'Flow IAT Max', 'Flow IAT Std'], 'Normal sample 704': ['SYN Flag Cnt', 'Init Fwd Win Byts', 'ACK Flag Cnt', 'FIN Flag Cnt', 'Pkt Len Min', 'Flow Pkts/s', 'Pkt Size Avg', 'Bwd Pkts/s', 'Bwd Pkt Len Min', 'Pkt Len Mean'], 'Normal sample 705': ['Init Bwd Win Byts', 'SYN Flag Cnt', 'Fwd Pkt Len Min', 'Flow Pkts/s', 'Down/Up Ratio', 'Fwd Seg Size Avg', 'Fwd Pkt Len Mean', 'FIN Flag Cnt', 'Fwd Pkt Len Max', 'Init Fwd Win Byts'], 'Normal sample 706': ['Down/Up Ratio', 'Init Fwd Win Byts', 'SYN Flag Cnt', 'FIN Flag Cnt', 'ACK Flag Cnt', 'Flow Duration', 'Bwd Pkts/s', 'Bwd IAT Std', 'Flow IAT Max', 'Fwd Pkt Len Min'], 'Normal sample 707': ['Init Bwd Win Byts', 'Fwd IAT Tot', 'SYN Flag Cnt', 'Bwd Pkt Len Min', 'Fwd IAT Std', 'Bwd PSH Flags', 'Pkt Len Max', 'Pkt Size Avg', 'Down/Up Ratio', 'Pkt Len Mean'], 'Normal sample 708': ['Init Bwd Win Byts', 'SYN Flag Cnt', 'Down/Up Ratio', 'Flow Pkts/s', 'FIN Flag Cnt', 'Idle Max', 'Flow Duration', 'Subflow Fwd Pkts', 'PSH Flag Cnt', 'Bwd IAT Max'], 'Normal sample 709': ['SYN Flag Cnt', 'Init Fwd Win Byts', 'FIN Flag Cnt', 'Pkt Size Avg', 'ACK Flag Cnt', 'Flow Pkts/s', 'Pkt Len Min', 'Pkt Len Mean', 'Pkt Len Max', 'Bwd Pkts/s'], 'Normal sample 710': ['SYN Flag Cnt', 'Init Fwd Win Byts', 'FIN Flag Cnt', 'Pkt Size Avg', 'ACK Flag Cnt', 'Pkt Len Min', 'Bwd Pkt Len Min', 'Flow Pkts/s', 'Pkt Len Mean', 'Pkt Len Max'], 'Normal sample 711': ['Init Bwd Win Byts', 'SYN Flag Cnt', 'Flow Pkts/s', 'FIN Flag Cnt', 'Flow IAT Max', 'Down/Up Ratio', 'Idle Mean', 'Idle Max', 'TotLen Bwd Pkts', 'Flow Duration'], 'Normal sample 712': ['Init Bwd Win Byts', 'SYN Flag Cnt', 'Bwd Pkt Len Min', 'Down/Up Ratio', 'Pkt Len Mean', 'Pkt Size Avg', 'Pkt Len Max', 'FIN Flag Cnt', 'Bwd URG Flags', 'Flow Byts/s'], 'Normal sample 713': ['Down/Up Ratio', 'Init Fwd Win Byts', 'SYN Flag Cnt', 'FIN Flag Cnt', 'Flow Pkts/s', 'Bwd Pkts/s', 'Flow IAT Std', 'Idle Max', 'Bwd IAT Std', 'Bwd Pkt Len Mean'], 'Normal sample 714': ['SYN Flag Cnt', 'Down/Up Ratio', 'Flow Pkts/s', 'Init Fwd Win Byts', 'FIN Flag Cnt', 'Fwd Pkt Len Mean', 'Fwd Pkt Len Std', 'Fwd Pkt Len Max', 'Fwd Seg Size Avg', 'Pkt Len Max'], 'Normal sample 715': ['SYN Flag Cnt', 'Init Fwd Win Byts', 'FIN Flag Cnt', 'Subflow Bwd Byts', 'Pkt Len Min', 'Fwd IAT Min', 'Flow IAT Std', 'Flow Duration', 'Tot Fwd Pkts', 'Tot Bwd Pkts'], 'Normal sample 716': ['Init Fwd Win Byts', 'FIN Flag Cnt', 'Fwd Pkt Len Std', 'Fwd Header Len', 'Idle Max', 'TotLen Bwd Pkts', 'Active Min', 'Down/Up Ratio', 'Flow IAT Min', 'Subflow Bwd Byts'], 'Normal sample 717': ['Init Bwd Win Byts', 'Pkt Len Max', 'Bwd Header Len', 'Bwd IAT Tot', 'Fwd IAT Tot', 'Pkt Size Avg', 'Pkt Len Std', 'Pkt Len Mean', 'Tot Bwd Pkts', 'Fwd IAT Min'], 'Normal sample 718': ['Down/Up Ratio', 'Init Fwd Win Byts', 'SYN Flag Cnt', 'FIN Flag Cnt', 'ACK Flag Cnt', 'Flow Duration', 'Bwd URG Flags', 'Bwd IAT Tot', 'Idle Mean', 'Pkt Len Min'], 'Normal sample 719': ['SYN Flag Cnt', 'FIN Flag Cnt', 'Pkt Size Avg', 'Pkt Len Min', 'Bwd Pkt Len Min', 'Pkt Len Mean', 'Fwd Pkt Len Min', 'Fwd Pkt Len Mean', 'Fwd Seg Size Avg', 'Flow Pkts/s'], 'Normal sample 720': ['Down/Up Ratio', 'Init Fwd Win Byts', 'SYN Flag Cnt', 'ACK Flag Cnt', 'FIN Flag Cnt', 'Idle Max', 'Flow Duration', 'Subflow Fwd Pkts', 'Bwd Pkt Len Mean', 'Bwd Pkts/s'], 'Normal sample 721': ['Down/Up Ratio', 'Init Fwd Win Byts', 'SYN Flag Cnt', 'ACK Flag Cnt', 'FIN Flag Cnt', 'Bwd IAT Max', 'Fwd IAT Std', 'Bwd Pkts/s', 'Flow IAT Max', 'TotLen Bwd Pkts'], 'Normal sample 722': ['SYN Flag Cnt', 'Init Fwd Win Byts', 'ACK Flag Cnt', 'FIN Flag Cnt', 'Flow Pkts/s', 'Pkt Len Min', 'Bwd Pkts/s', 'Pkt Size Avg', 'Bwd Pkt Len Min', 'Pkt Len Mean'], 'Normal sample 723': ['Init Bwd Win Byts', 'SYN Flag Cnt', 'FIN Flag Cnt', 'Flow Pkts/s', 'Down/Up Ratio', 'Fwd Header Len', 'Flow IAT Max', 'Bwd IAT Std', 'Idle Mean', 'Active Min'], 'Normal sample 724': ['SYN Flag Cnt', 'Init Fwd Win Byts', 'Down/Up Ratio', 'FIN Flag Cnt', 'Bwd IAT Std', 'Subflow Fwd Pkts', 'Idle Max', 'Fwd Pkts/s', 'Subflow Bwd Pkts', 'Fwd IAT Mean'], 'Normal sample 725': ['SYN Flag Cnt', 'Init Fwd Win Byts', 'ACK Flag Cnt', 'FIN Flag Cnt', 'Flow Pkts/s', 'Pkt Len Min', 'Bwd Pkts/s', 'Pkt Size Avg', 'Bwd Pkt Len Min', 'Pkt Len Mean'], 'Normal sample 726': ['Init Bwd Win Byts', 'SYN Flag Cnt', 'Bwd Pkt Len Min', 'Flow Pkts/s', 'Down/Up Ratio', 'Bwd Pkts/s', 'Bwd PSH Flags', 'FIN Flag Cnt', 'Pkt Size Avg', 'Init Fwd Win Byts'], 'Normal sample 727': ['Down/Up Ratio', 'Init Fwd Win Byts', 'SYN Flag Cnt', 'FIN Flag Cnt', 'ACK Flag Cnt', 'Flow IAT Max', 'Flow Pkts/s', 'Idle Max', 'PSH Flag Cnt', 'Bwd Pkts/s'], 'Normal sample 728': ['Down/Up Ratio', 'Init Fwd Win Byts', 'FIN Flag Cnt', 'Bwd Pkts/s', 'Flow IAT Max', 'Bwd Pkt Len Min', 'Bwd Seg Size Avg', 'Bwd Pkt Len Std', 'Pkt Len Min', 'Bwd Pkt Len Mean'], 'Normal sample 729': ['SYN Flag Cnt', 'Init Fwd Win Byts', 'FIN Flag Cnt', 'Pkt Len Min', 'Pkt Size Avg', 'Pkt Len Mean', 'ACK Flag Cnt', 'Flow Pkts/s', 'Bwd Pkt Len Min', 'Fwd Pkt Len Min'], 'Normal sample 730': ['Init Bwd Win Byts', 'SYN Flag Cnt', 'ACK Flag Cnt', 'Pkt Len Std', 'Flow IAT Mean', 'Bwd IAT Max', 'Bwd IAT Std', 'Bwd IAT Tot', 'PSH Flag Cnt', 'Subflow Fwd Byts'], 'Normal sample 731': ['Init Bwd Win Byts', 'Pkt Len Max', 'Pkt Size Avg', 'Pkt Len Mean', 'Fwd Pkt Len Max', 'Flow Pkts/s', 'Down/Up Ratio', 'Fwd IAT Max', 'Bwd Header Len', 'Fwd IAT Tot'], 'Normal sample 732': ['Init Fwd Win Byts', 'FIN Flag Cnt', 'Bwd IAT Std', 'Down/Up Ratio', 'Fwd Header Len', 'Flow Duration', 'Tot Bwd Pkts', 'TotLen Fwd Pkts', 'TotLen Bwd Pkts', 'Fwd Pkt Len Mean'], 'Normal sample 733': ['SYN Flag Cnt', 'Pkt Len Min', 'FIN Flag Cnt', 'Fwd Seg Size Avg', 'Pkt Size Avg', 'Fwd Pkt Len Mean', 'Fwd Pkt Len Min', 'Bwd Pkts/s', 'Fwd IAT Tot', 'ACK Flag Cnt'], 'Normal sample 734': ['Init Bwd Win Byts', 'SYN Flag Cnt', 'Down/Up Ratio', 'Bwd Pkts/s', 'Flow Pkts/s', 'Bwd PSH Flags', 'Pkt Len Mean', 'Pkt Size Avg', 'FIN Flag Cnt', 'Pkt Len Max'], 'Normal sample 735': ['SYN Flag Cnt', 'Init Fwd Win Byts', 'ACK Flag Cnt', 'FIN Flag Cnt', 'Pkt Size Avg', 'Pkt Len Min', 'Flow Pkts/s', 'Bwd Pkt Len Min', 'Bwd Pkts/s', 'Pkt Len Mean'], 'Normal sample 736': ['SYN Flag Cnt', 'Init Fwd Win Byts', 'FIN Flag Cnt', 'ACK Flag Cnt', 'Pkt Size Avg', 'Flow Pkts/s', 'Pkt Len Min', 'Bwd Pkts/s', 'Bwd Pkt Len Min', 'Pkt Len Max'], 'Normal sample 737': ['Down/Up Ratio', 'Bwd PSH Flags', 'Init Fwd Win Byts', 'ACK Flag Cnt', 'SYN Flag Cnt', 'PSH Flag Cnt', 'Bwd Pkts/s', 'FIN Flag Cnt', 'Flow Pkts/s', 'Bwd Pkt Len Std'], 'Normal sample 738': ['SYN Flag Cnt', 'Pkt Len Min', 'FIN Flag Cnt', 'Pkt Size Avg', 'Bwd Pkt Len Min', 'Init Fwd Win Byts', 'Pkt Len Mean', 'Flow Pkts/s', 'ACK Flag Cnt', 'Fwd Pkt Len Min'], 'Normal sample 739': ['SYN Flag Cnt', 'Init Fwd Win Byts', 'FIN Flag Cnt', 'Pkt Size Avg', 'Pkt Len Min', 'Pkt Len Mean', 'Bwd Pkt Len Min', 'Flow Pkts/s', 'ACK Flag Cnt', 'Pkt Len Std'], 'Normal sample 740': ['SYN Flag Cnt', 'Init Fwd Win Byts', 'FIN Flag Cnt', 'ACK Flag Cnt', 'Flow Pkts/s', 'Pkt Len Min', 'Bwd Pkt Len Min', 'Pkt Size Avg', 'Bwd Pkts/s', 'Pkt Len Max'], 'Normal sample 741': ['Init Bwd Win Byts', 'SYN Flag Cnt', 'Flow Pkts/s', 'FIN Flag Cnt', 'Bwd IAT Max', 'Bwd IAT Tot', 'Bwd IAT Mean', 'Down/Up Ratio', 'Flow IAT Max', 'Flow Duration'], 'Normal sample 742': ['SYN Flag Cnt', 'Init Fwd Win Byts', 'FIN Flag Cnt', 'Pkt Len Min', 'Pkt Size Avg', 'Bwd Pkt Len Min', 'Flow Pkts/s', 'Pkt Len Mean', 'ACK Flag Cnt', 'Pkt Len Max'], 'Normal sample 743': ['Init Bwd Win Byts', 'SYN Flag Cnt', 'Bwd IAT Tot', 'Bwd IAT Std', 'Fwd IAT Tot', 'Bwd Pkts/s', 'Fwd IAT Max', 'Bwd PSH Flags', 'Bwd IAT Max', 'Pkt Size Avg'], 'Normal sample 744': ['Down/Up Ratio', 'Init Fwd Win Byts', 'FIN Flag Cnt', 'Idle Mean', 'Bwd Pkts/s', 'Bwd Pkt Len Mean', 'Flow Pkts/s', 'Bwd Pkt Len Min', 'Idle Max', 'Flow IAT Std'], 'Normal sample 745': ['Init Bwd Win Byts', 'SYN Flag Cnt', 'FIN Flag Cnt', 'Flow Pkts/s', 'Idle Mean', 'Idle Min', 'Active Mean', 'Flow Duration', 'Down/Up Ratio', 'Flow IAT Max'], 'Normal sample 746': ['Init Bwd Win Byts', 'Pkt Size Avg', 'Pkt Len Max', 'Pkt Len Mean', 'Fwd Pkt Len Max', 'Down/Up Ratio', 'Flow Pkts/s', 'Bwd Header Len', 'Flow Duration', 'ACK Flag Cnt'], 'Normal sample 747': ['SYN Flag Cnt', 'Init Fwd Win Byts', 'Pkt Size Avg', 'FIN Flag Cnt', 'Pkt Len Min', 'ACK Flag Cnt', 'Flow Pkts/s', 'Pkt Len Mean', 'Pkt Len Max', 'Bwd Pkt Len Min'], 'Normal sample 748': ['SYN Flag Cnt', 'Init Fwd Win Byts', 'FIN Flag Cnt', 'Pkt Len Min', 'Pkt Size Avg', 'Pkt Len Max', 'ACK Flag Cnt', 'Pkt Len Mean', 'Flow Pkts/s', 'Bwd Pkt Len Min'], 'Normal sample 749': ['SYN Flag Cnt', 'Init Fwd Win Byts', 'FIN Flag Cnt', 'Pkt Size Avg', 'Pkt Len Min', 'ACK Flag Cnt', 'Flow Pkts/s', 'Pkt Len Mean', 'Bwd Pkts/s', 'Bwd Pkt Len Min'], 'Normal sample 750': ['SYN Flag Cnt', 'FIN Flag Cnt', 'Pkt Len Min', 'Pkt Size Avg', 'Bwd Pkt Len Min', 'Fwd Pkt Len Min', 'Flow Byts/s', 'Pkt Len Mean', 'Fwd Pkt Len Mean', 'ACK Flag Cnt'], 'Normal sample 751': ['SYN Flag Cnt', 'Init Fwd Win Byts', 'ACK Flag Cnt', 'Down/Up Ratio', 'Bwd Pkt Len Std', 'TotLen Fwd Pkts', 'Fwd IAT Std', 'Bwd IAT Min', 'Flow Duration', 'Tot Fwd Pkts'], 'Normal sample 752': ['Init Bwd Win Byts', 'Fwd IAT Tot', 'Fwd Pkt Len Max', 'Fwd IAT Std', 'Fwd IAT Max', 'Fwd Pkt Len Std', 'Flow Pkts/s', 'FIN Flag Cnt', 'Pkt Len Max', 'Fwd Seg Size Avg'], 'Normal sample 753': ['SYN Flag Cnt', 'Init Fwd Win Byts', 'ACK Flag Cnt', 'FIN Flag Cnt', 'Pkt Len Min', 'Pkt Size Avg', 'Flow Pkts/s', 'Pkt Len Mean', 'Bwd Pkt Len Min', 'Pkt Len Max'], 'Normal sample 754': ['Down/Up Ratio', 'Init Fwd Win Byts', 'FIN Flag Cnt', 'Bwd Pkts/s', 'Flow IAT Max', 'Bwd Pkt Len Min', 'ACK Flag Cnt', 'Fwd Header Len', 'Flow Pkts/s', 'Flow Duration'], 'Normal sample 755': ['Init Bwd Win Byts', 'SYN Flag Cnt', 'FIN Flag Cnt', 'Flow Pkts/s', 'Bwd Pkts/s', 'Down/Up Ratio', 'Bwd IAT Std', 'Bwd IAT Max', 'Idle Mean', 'Idle Max'], 'Normal sample 756': ['SYN Flag Cnt', 'Init Fwd Win Byts', 'ACK Flag Cnt', 'FIN Flag Cnt', 'Pkt Len Min', 'Flow Pkts/s', 'Pkt Size Avg', 'Bwd Pkt Len Min', 'Bwd Pkts/s', 'Pkt Len Max'], 'Normal sample 757': ['Init Bwd Win Byts', 'SYN Flag Cnt', 'Down/Up Ratio', 'Flow Pkts/s', 'FIN Flag Cnt', 'Flow IAT Max', 'Idle Max', 'Idle Mean', 'Bwd IAT Max', 'Idle Min'], 'Normal sample 758': ['Down/Up Ratio', 'Bwd PSH Flags', 'Init Fwd Win Byts', 'SYN Flag Cnt', 'ACK Flag Cnt', 'Bwd Pkts/s', 'PSH Flag Cnt', 'FIN Flag Cnt', 'Flow Duration', 'Flow Pkts/s'], 'Normal sample 759': ['Init Bwd Win Byts', 'SYN Flag Cnt', 'FIN Flag Cnt', 'Flow Pkts/s', 'Down/Up Ratio', 'Bwd Pkts/s', 'Bwd IAT Max', 'Bwd IAT Std', 'Active Mean', 'Bwd Pkt Len Max'], 'Normal sample 760': ['Down/Up Ratio', 'Init Fwd Win Byts', 'SYN Flag Cnt', 'FIN Flag Cnt', 'ACK Flag Cnt', 'Flow IAT Std', 'Bwd Pkt Len Max', 'Bwd Pkts/s', 'Bwd Pkt Len Std', 'Bwd IAT Std'], 'Normal sample 761': ['Init Bwd Win Byts', 'Fwd IAT Tot', 'Pkt Len Mean', 'Bwd IAT Tot', 'Fwd IAT Std', 'Pkt Size Avg', 'Pkt Len Max', 'Pkt Len Std', 'Bwd Header Len', 'Fwd Pkt Len Max'], 'Normal sample 762': ['Down/Up Ratio', 'Init Fwd Win Byts', 'FIN Flag Cnt', 'Bwd Pkts/s', 'Bwd Pkt Len Min', 'Idle Max', 'Flow Duration', 'Flow IAT Mean', 'Fwd Pkt Len Min', 'Idle Min'], 'Normal sample 763': ['SYN Flag Cnt', 'Init Fwd Win Byts', 'FIN Flag Cnt', 'Pkt Size Avg', 'ACK Flag Cnt', 'Pkt Len Min', 'Flow Pkts/s', 'Pkt Len Mean', 'Bwd Pkt Len Min', 'Pkt Len Max'], 'Normal sample 764': ['SYN Flag Cnt', 'Init Fwd Win Byts', 'FIN Flag Cnt', 'ACK Flag Cnt', 'Pkt Len Min', 'Pkt Size Avg', 'Bwd Pkt Len Min', 'Flow Pkts/s', 'Pkt Len Mean', 'Pkt Len Max'], 'Normal sample 765': ['SYN Flag Cnt', 'Init Fwd Win Byts', 'Pkt Len Min', 'FIN Flag Cnt', 'Pkt Size Avg', 'Bwd Pkt Len Min', 'Flow Pkts/s', 'Pkt Len Mean', 'ACK Flag Cnt', 'Bwd Pkts/s'], 'Normal sample 766': ['Init Bwd Win Byts', 'Fwd IAT Tot', 'SYN Flag Cnt', 'Fwd Pkt Len Max', 'Init Fwd Win Byts', 'Fwd IAT Std', 'Bwd Pkts/s', 'Fwd Pkt Len Std', 'TotLen Bwd Pkts', 'Fwd Seg Size Avg'], 'Normal sample 767': ['SYN Flag Cnt', 'Pkt Len Min', 'FIN Flag Cnt', 'Fwd Pkt Len Mean', 'Fwd Pkt Len Min', 'Pkt Len Mean', 'Fwd Seg Size Avg', 'Pkt Size Avg', 'Fwd IAT Tot', 'Flow Pkts/s'], 'Normal sample 768': ['SYN Flag Cnt', 'Pkt Size Avg', 'Flow Pkts/s', 'FIN Flag Cnt', 'Pkt Len Min', 'Bwd Pkt Len Min', 'Pkt Len Mean', 'Bwd Pkts/s', 'Pkt Len Max', 'Pkt Len Std'], 'Normal sample 769': ['SYN Flag Cnt', 'Init Fwd Win Byts', 'FIN Flag Cnt', 'Bwd IAT Std', 'Bwd IAT Max', 'Fwd IAT Max', 'Flow IAT Std', 'Subflow Fwd Byts', 'Tot Fwd Pkts', 'Subflow Bwd Byts'], 'Normal sample 770': ['SYN Flag Cnt', 'Init Fwd Win Byts', 'FIN Flag Cnt', 'Pkt Len Min', 'Pkt Size Avg', 'ACK Flag Cnt', 'Bwd Pkt Len Min', 'Pkt Len Mean', 'Pkt Len Max', 'Flow Pkts/s'], 'Normal sample 771': ['Down/Up Ratio', 'Init Fwd Win Byts', 'FIN Flag Cnt', 'Flow Pkts/s', 'Bwd Pkts/s', 'Bwd Pkt Len Std', 'Fwd IAT Max', 'Bwd IAT Tot', 'Tot Bwd Pkts', 'Active Max'], 'Normal sample 772': ['Init Bwd Win Byts', 'SYN Flag Cnt', 'Bwd Pkt Len Min', 'Down/Up Ratio', 'FIN Flag Cnt', 'Pkt Size Avg', 'Flow Pkts/s', 'Fwd Pkt Len Mean', 'TotLen Fwd Pkts', 'Flow IAT Max'], 'Normal sample 773': ['SYN Flag Cnt', 'FIN Flag Cnt', 'Pkt Size Avg', 'Pkt Len Min', 'Pkt Len Mean', 'Bwd Pkt Len Min', 'Fwd Seg Size Avg', 'Fwd Pkt Len Min', 'Flow Pkts/s', 'Bwd Pkts/s'], 'Normal sample 774': ['SYN Flag Cnt', 'Init Fwd Win Byts', 'FIN Flag Cnt', 'Pkt Size Avg', 'Pkt Len Min', 'ACK Flag Cnt', 'Flow Pkts/s', 'Pkt Len Mean', 'Bwd Pkts/s', 'Bwd Pkt Len Min'], 'Normal sample 775': ['SYN Flag Cnt', 'Init Fwd Win Byts', 'FIN Flag Cnt', 'ACK Flag Cnt', 'Pkt Len Min', 'Flow Pkts/s', 'Pkt Len Mean', 'Pkt Size Avg', 'Bwd Pkts/s', 'Bwd Pkt Len Min'], 'Normal sample 776': ['Init Bwd Win Byts', 'SYN Flag Cnt', 'Bwd Pkt Len Min', 'Down/Up Ratio', 'Flow Pkts/s', 'Bwd PSH Flags', 'Bwd Pkts/s', 'FIN Flag Cnt', 'Pkt Len Mean', 'Pkt Size Avg'], 'Normal sample 777': ['SYN Flag Cnt', 'Init Fwd Win Byts', 'ACK Flag Cnt', 'FIN Flag Cnt', 'Pkt Len Min', 'Flow Pkts/s', 'Pkt Size Avg', 'Bwd Pkt Len Min', 'Pkt Len Max', 'Bwd Pkts/s'], 'Normal sample 778': ['Down/Up Ratio', 'Bwd PSH Flags', 'ACK Flag Cnt', 'Init Fwd Win Byts', 'SYN Flag Cnt', 'PSH Flag Cnt', 'Bwd Pkts/s', 'FIN Flag Cnt', 'Bwd IAT Mean', 'Flow IAT Std'], 'Normal sample 779': ['Init Bwd Win Byts', 'Pkt Len Mean', 'Pkt Size Avg', 'Fwd Pkt Len Max', 'Pkt Len Max', 'Fwd Pkt Len Std', 'FIN Flag Cnt', 'Flow Pkts/s', 'Down/Up Ratio', 'Fwd Pkt Len Min'], 'Normal sample 780': ['Init Bwd Win Byts', 'SYN Flag Cnt', 'Down/Up Ratio', 'Flow Pkts/s', 'FIN Flag Cnt', 'Idle Min', 'Flow IAT Max', 'Idle Mean', 'PSH Flag Cnt', 'Idle Max'], 'Normal sample 781': ['SYN Flag Cnt', 'Init Fwd Win Byts', 'ACK Flag Cnt', 'FIN Flag Cnt', 'Pkt Len Min', 'Pkt Size Avg', 'Flow Pkts/s', 'Bwd Pkts/s', 'Bwd Pkt Len Min', 'Pkt Len Max'], 'Normal sample 782': ['Down/Up Ratio', 'Init Fwd Win Byts', 'SYN Flag Cnt', 'FIN Flag Cnt', 'ACK Flag Cnt', 'TotLen Fwd Pkts', 'Flow Duration', 'Flow IAT Max', 'Flow IAT Std', 'Subflow Fwd Pkts'], 'Normal sample 783': ['SYN Flag Cnt', 'Init Fwd Win Byts', 'FIN Flag Cnt', 'ACK Flag Cnt', 'Pkt Len Min', 'Flow Pkts/s', 'Pkt Size Avg', 'Pkt Len Max', 'Bwd Pkts/s', 'Pkt Len Mean'], 'Normal sample 784': ['SYN Flag Cnt', 'Init Fwd Win Byts', 'FIN Flag Cnt', 'Pkt Size Avg', 'Pkt Len Min', 'ACK Flag Cnt', 'Flow Pkts/s', 'Pkt Len Mean', 'Bwd Pkt Len Min', 'Fwd Pkt Len Min'], 'Normal sample 785': ['SYN Flag Cnt', 'Init Fwd Win Byts', 'FIN Flag Cnt', 'ACK Flag Cnt', 'Pkt Size Avg', 'Flow Pkts/s', 'Pkt Len Mean', 'Pkt Len Max', 'Pkt Len Min', 'Bwd Pkts/s'], 'Normal sample 786': ['Init Bwd Win Byts', 'SYN Flag Cnt', 'Idle Max', 'Flow IAT Max', 'Active Min', 'ACK Flag Cnt', 'Flow IAT Min', 'Bwd Pkt Len Min', 'Idle Min', 'Bwd Pkt Len Std'], 'Normal sample 787': ['Down/Up Ratio', 'Init Fwd Win Byts', 'SYN Flag Cnt', 'FIN Flag Cnt', 'Bwd Pkts/s', 'Flow Pkts/s', 'Idle Max', 'PSH Flag Cnt', 'Active Std', 'Flow IAT Std'], 'Normal sample 788': ['Init Bwd Win Byts', 'SYN Flag Cnt', 'Flow Pkts/s', 'FIN Flag Cnt', 'Bwd Pkts/s', 'Bwd IAT Std', 'Flow IAT Max', 'Bwd IAT Tot', 'Idle Min', 'Tot Fwd Pkts'], 'Normal sample 789': ['SYN Flag Cnt', 'Init Fwd Win Byts', 'FIN Flag Cnt', 'Pkt Size Avg', 'Flow Pkts/s', 'ACK Flag Cnt', 'Pkt Len Min', 'Pkt Len Mean', 'Pkt Len Max', 'Bwd Pkt Len Min'], 'Normal sample 790': ['Init Fwd Win Byts', 'FIN Flag Cnt', 'Down/Up Ratio', 'Active Mean', 'Bwd URG Flags', 'Pkt Len Std', 'Bwd IAT Max', 'Pkt Len Min', 'Flow IAT Max', 'Pkt Len Var'], 'Normal sample 791': ['Down/Up Ratio', 'Init Fwd Win Byts', 'SYN Flag Cnt', 'FIN Flag Cnt', 'Bwd Pkts/s', 'Flow Pkts/s', 'Idle Max', 'Flow IAT Std', 'Bwd IAT Std', 'PSH Flag Cnt'], 'Normal sample 792': ['Init Bwd Win Byts', 'Fwd IAT Tot', 'Fwd IAT Max', 'Fwd IAT Std', 'Fwd Pkt Len Max', 'Bwd Pkts/s', 'Flow Pkts/s', 'FIN Flag Cnt', 'Fwd IAT Mean', 'Pkt Len Max'], 'Normal sample 793': ['Down/Up Ratio', 'Init Fwd Win Byts', 'SYN Flag Cnt', 'ACK Flag Cnt', 'FIN Flag Cnt', 'Idle Max', 'PSH Flag Cnt', 'Bwd Pkts/s', 'Flow IAT Mean', 'Flow Duration'], 'Normal sample 794': ['Init Bwd Win Byts', 'Pkt Len Max', 'Pkt Size Avg', 'Pkt Len Mean', 'Fwd IAT Tot', 'Pkt Len Std', 'Fwd Pkt Len Max', 'Bwd IAT Tot', 'Fwd IAT Max', 'Bwd IAT Max'], 'Normal sample 795': ['Down/Up Ratio', 'Init Fwd Win Byts', 'SYN Flag Cnt', 'ACK Flag Cnt', 'FIN Flag Cnt', 'Idle Max', 'Flow Duration', 'Fwd Pkt Len Min', 'Bwd Pkts/s', 'Flow IAT Max'], 'Normal sample 796': ['Init Bwd Win Byts', 'SYN Flag Cnt', 'Idle Mean', 'Flow IAT Max', 'Flow IAT Std', 'Bwd IAT Mean', 'Fwd IAT Mean', 'Idle Max', 'Bwd IAT Max', 'ACK Flag Cnt'], 'Normal sample 797': ['SYN Flag Cnt', 'FIN Flag Cnt', 'Pkt Size Avg', 'Bwd Pkt Len Min', 'Fwd Pkt Len Min', 'Pkt Len Mean', 'Pkt Len Min', 'Flow Pkts/s', 'Fwd Seg Size Avg', 'Bwd Pkts/s'], 'Normal sample 798': ['Init Bwd Win Byts', 'Pkt Len Mean', 'Pkt Size Avg', 'Pkt Len Max', 'Fwd Pkt Len Std', 'Pkt Len Std', 'FIN Flag Cnt', 'Flow Pkts/s', 'Down/Up Ratio', 'Fwd Pkt Len Max'], 'Normal sample 799': ['Init Bwd Win Byts', 'Pkt Size Avg', 'Pkt Len Max', 'Pkt Len Mean', 'Pkt Len Std', 'Down/Up Ratio', 'Fwd Pkt Len Max', 'FIN Flag Cnt', 'Fwd Pkt Len Std', 'Fwd Pkt Len Mean'], 'Normal sample 800': ['Down/Up Ratio', 'Init Fwd Win Byts', 'SYN Flag Cnt', 'FIN Flag Cnt', 'Bwd Pkts/s', 'Flow Pkts/s', 'Idle Max', 'Flow IAT Max', 'Subflow Fwd Pkts', 'Bwd Seg Size Avg'], 'Normal sample 801': ['SYN Flag Cnt', 'Init Fwd Win Byts', 'FIN Flag Cnt', 'ACK Flag Cnt', 'Pkt Len Min', 'Flow Pkts/s', 'Pkt Size Avg', 'Bwd Pkt Len Min', 'Pkt Len Mean', 'Bwd Pkts/s'], 'Normal sample 802': ['Init Bwd Win Byts', 'Fwd IAT Tot', 'Fwd IAT Std', 'Down/Up Ratio', 'Bwd PSH Flags', 'Pkt Len Max', 'SYN Flag Cnt', 'Idle Std', 'Init Fwd Win Byts', 'Pkt Len Mean'], 'Normal sample 803': ['Down/Up Ratio', 'Init Fwd Win Byts', 'SYN Flag Cnt', 'FIN Flag Cnt', 'ACK Flag Cnt', 'Flow Duration', 'Flow IAT Min', 'Flow IAT Max', 'Bwd Pkts/s', 'Fwd Act Data Pkts'], 'Normal sample 804': ['SYN Flag Cnt', 'Init Fwd Win Byts', 'FIN Flag Cnt', 'Pkt Size Avg', 'ACK Flag Cnt', 'Pkt Len Min', 'Pkt Len Mean', 'Bwd Pkt Len Min', 'Flow Pkts/s', 'Pkt Len Max'], 'Normal sample 805': ['Down/Up Ratio', 'Bwd PSH Flags', 'ACK Flag Cnt', 'Init Fwd Win Byts', 'SYN Flag Cnt', 'Bwd Pkts/s', 'PSH Flag Cnt', 'FIN Flag Cnt', 'Flow Pkts/s', 'Bwd Pkt Len Std'], 'Normal sample 806': ['SYN Flag Cnt', 'Init Fwd Win Byts', 'ACK Flag Cnt', 'FIN Flag Cnt', 'Flow Pkts/s', 'Pkt Len Min', 'Pkt Size Avg', 'Pkt Len Mean', 'Bwd Pkt Len Min', 'Bwd Pkts/s'], 'Normal sample 807': ['SYN Flag Cnt', 'Init Fwd Win Byts', 'ACK Flag Cnt', 'FIN Flag Cnt', 'Pkt Len Min', 'Pkt Size Avg', 'Flow Pkts/s', 'Bwd Pkts/s', 'Bwd Pkt Len Min', 'Pkt Len Mean'], 'Normal sample 808': ['Init Bwd Win Byts', 'Fwd IAT Tot', 'Pkt Len Mean', 'Pkt Len Max', 'Bwd PSH Flags', 'Pkt Len Std', 'Pkt Size Avg', 'Fwd IAT Std', 'Fwd Pkt Len Max', 'Down/Up Ratio'], 'Normal sample 809': ['SYN Flag Cnt', 'Init Fwd Win Byts', 'ACK Flag Cnt', 'Bwd Pkts/s', 'FIN Flag Cnt', 'Pkt Size Avg', 'Flow Pkts/s', 'Pkt Len Mean', 'Bwd IAT Tot', 'Pkt Len Min'], 'Normal sample 810': ['Down/Up Ratio', 'Init Fwd Win Byts', 'SYN Flag Cnt', 'ACK Flag Cnt', 'FIN Flag Cnt', 'Fwd Pkt Len Min', 'Flow IAT Max', 'Bwd IAT Max', 'Fwd IAT Max', 'Bwd IAT Std'], 'Normal sample 811': ['SYN Flag Cnt', 'Init Fwd Win Byts', 'ACK Flag Cnt', 'FIN Flag Cnt', 'Flow Pkts/s', 'Pkt Len Min', 'Pkt Size Avg', 'Bwd Pkts/s', 'Bwd Pkt Len Min', 'Pkt Len Max'], 'Normal sample 812': ['SYN Flag Cnt', 'Init Fwd Win Byts', 'FIN Flag Cnt', 'ACK Flag Cnt', 'Pkt Size Avg', 'Pkt Len Min', 'Bwd Pkt Len Min', 'Flow Pkts/s', 'Pkt Len Max', 'Pkt Len Mean'], 'Normal sample 813': ['Init Bwd Win Byts', 'Pkt Len Mean', 'Pkt Size Avg', 'Pkt Len Max', 'Flow Pkts/s', 'Fwd Pkt Len Max', 'Fwd Pkt Len Mean', 'Fwd Pkt Len Std', 'Flow IAT Max', 'Bwd IAT Mean'], 'Normal sample 814': ['Init Bwd Win Byts', 'Fwd IAT Tot', 'Fwd Pkt Len Max', 'Fwd IAT Std', 'Fwd IAT Max', 'Fwd IAT Mean', 'Fwd Seg Size Avg', 'Idle Min', 'FIN Flag Cnt', 'Pkt Len Std'], 'Normal sample 815': ['Init Bwd Win Byts', 'SYN Flag Cnt', 'Down/Up Ratio', 'FIN Flag Cnt', 'Flow Pkts/s', 'Idle Max', 'Flow IAT Max', 'Bwd IAT Max', 'Bwd IAT Std', 'Bwd IAT Tot'], 'Normal sample 816': ['Down/Up Ratio', 'Init Fwd Win Byts', 'SYN Flag Cnt', 'FIN Flag Cnt', 'Bwd Pkts/s', 'Bwd IAT Std', 'Idle Mean', 'Flow Pkts/s', 'PSH Flag Cnt', 'Flow IAT Std'], 'Normal sample 817': ['Down/Up Ratio', 'Init Fwd Win Byts', 'SYN Flag Cnt', 'FIN Flag Cnt', 'PSH Flag Cnt', 'ACK Flag Cnt', 'Bwd Pkts/s', 'Active Min', 'Pkt Len Min', 'Flow IAT Std'], 'Normal sample 818': ['SYN Flag Cnt', 'Init Fwd Win Byts', 'FIN Flag Cnt', 'Pkt Size Avg', 'Flow Pkts/s', 'Pkt Len Min', 'ACK Flag Cnt', 'Bwd Pkt Len Min', 'Pkt Len Max', 'Pkt Len Mean'], 'Normal sample 819': ['SYN Flag Cnt', 'Init Fwd Win Byts', 'Pkt Len Min', 'FIN Flag Cnt', 'ACK Flag Cnt', 'Pkt Size Avg', 'Flow Pkts/s', 'Bwd Pkt Len Min', 'Pkt Len Mean', 'Pkt Len Max'], 'Normal sample 820': ['SYN Flag Cnt', 'Init Fwd Win Byts', 'FIN Flag Cnt', 'Pkt Size Avg', 'Flow Pkts/s', 'Pkt Len Min', 'ACK Flag Cnt', 'Bwd Pkt Len Min', 'Bwd Pkts/s', 'Pkt Len Mean'], 'Normal sample 821': ['Init Bwd Win Byts', 'SYN Flag Cnt', 'ACK Flag Cnt', 'Flow Pkts/s', 'Flow IAT Std', 'Flow IAT Max', 'Fwd IAT Min', 'Active Std', 'Idle Max', 'Idle Mean'], 'Normal sample 822': ['SYN Flag Cnt', 'Init Fwd Win Byts', 'FIN Flag Cnt', 'Pkt Len Min', 'ACK Flag Cnt', 'Flow Pkts/s', 'Pkt Size Avg', 'Bwd Pkt Len Min', 'Pkt Len Mean', 'Pkt Len Max'], 'Normal sample 823': ['Init Bwd Win Byts', 'Fwd IAT Tot', 'Fwd IAT Std', 'Bwd PSH Flags', 'Down/Up Ratio', 'SYN Flag Cnt', 'Bwd Pkts/s', 'Bwd Pkt Len Mean', 'Init Fwd Win Byts', 'Bwd Pkt Len Std'], 'Normal sample 824': ['Down/Up Ratio', 'Init Fwd Win Byts', 'FIN Flag Cnt', 'Bwd Pkts/s', 'Fwd Seg Size Avg', 'Pkt Len Min', 'Idle Min', 'Active Std', 'Bwd IAT Std', 'Bwd Pkt Len Min'], 'Normal sample 825': ['Down/Up Ratio', 'Init Fwd Win Byts', 'SYN Flag Cnt', 'ACK Flag Cnt', 'FIN Flag Cnt', 'Bwd Pkts/s', 'Bwd IAT Max', 'Bwd Header Len', 'Subflow Fwd Byts', 'PSH Flag Cnt'], 'Normal sample 826': ['Init Bwd Win Byts', 'Bwd PSH Flags', 'Fwd IAT Tot', 'SYN Flag Cnt', 'Fwd Pkt Len Max', 'Down/Up Ratio', 'Fwd IAT Std', 'Fwd Seg Size Avg', 'Bwd Pkts/s', 'Fwd Pkt Len Min'], 'Normal sample 827': ['SYN Flag Cnt', 'Init Fwd Win Byts', 'FIN Flag Cnt', 'Pkt Size Avg', 'ACK Flag Cnt', 'Pkt Len Max', 'Pkt Len Min', 'Pkt Len Mean', 'Flow Pkts/s', 'Bwd Pkt Len Min'], 'Normal sample 828': ['Down/Up Ratio', 'Init Fwd Win Byts', 'SYN Flag Cnt', 'ACK Flag Cnt', 'FIN Flag Cnt', 'PSH Flag Cnt', 'TotLen Fwd Pkts', 'Flow IAT Std', 'Bwd Pkts/s', 'Flow Duration'], 'Normal sample 829': ['SYN Flag Cnt', 'Init Fwd Win Byts', 'ACK Flag Cnt', 'Pkt Size Avg', 'FIN Flag Cnt', 'Pkt Len Min', 'Pkt Len Mean', 'Flow Pkts/s', 'Bwd Pkt Len Min', 'Pkt Len Max'], 'Normal sample 830': ['SYN Flag Cnt', 'Init Fwd Win Byts', 'FIN Flag Cnt', 'ACK Flag Cnt', 'Pkt Len Min', 'Flow Pkts/s', 'Pkt Size Avg', 'Bwd Pkt Len Min', 'Bwd Pkts/s', 'Pkt Len Max'], 'Normal sample 831': ['SYN Flag Cnt', 'Init Fwd Win Byts', 'FIN Flag Cnt', 'Pkt Len Min', 'ACK Flag Cnt', 'Pkt Size Avg', 'Bwd Pkt Len Min', 'Pkt Len Max', 'Flow Pkts/s', 'Pkt Len Mean'], 'Normal sample 832': ['Down/Up Ratio', 'Bwd PSH Flags', 'Init Fwd Win Byts', 'ACK Flag Cnt', 'SYN Flag Cnt', 'PSH Flag Cnt', 'FIN Flag Cnt', 'Bwd Pkts/s', 'Pkt Len Std', 'Flow IAT Max'], 'Normal sample 833': ['Init Bwd Win Byts', 'Bwd Pkt Len Min', 'SYN Flag Cnt', 'Bwd Pkts/s', 'Flow Pkts/s', 'FIN Flag Cnt', 'TotLen Bwd Pkts', 'Pkt Size Avg', 'Init Fwd Win Byts', 'Down/Up Ratio'], 'Normal sample 834': ['Init Bwd Win Byts', 'Fwd IAT Tot', 'Fwd Pkt Len Max', 'Fwd IAT Max', 'Fwd IAT Std', 'Flow Pkts/s', 'Pkt Len Max', 'Fwd Pkt Len Std', 'Fwd Seg Size Avg', 'Idle Min'], 'Normal sample 835': ['SYN Flag Cnt', 'Init Fwd Win Byts', 'FIN Flag Cnt', 'Pkt Size Avg', 'Pkt Len Min', 'Pkt Len Mean', 'Flow Pkts/s', 'Bwd Pkt Len Min', 'ACK Flag Cnt', 'Pkt Len Max'], 'Normal sample 836': ['SYN Flag Cnt', 'Init Fwd Win Byts', 'FIN Flag Cnt', 'ACK Flag Cnt', 'Pkt Len Min', 'Flow Pkts/s', 'Pkt Len Max', 'Bwd Pkt Len Min', 'Pkt Size Avg', 'Bwd Pkts/s'], 'Normal sample 837': ['SYN Flag Cnt', 'Init Fwd Win Byts', 'ACK Flag Cnt', 'FIN Flag Cnt', 'Flow Pkts/s', 'Pkt Len Min', 'Pkt Size Avg', 'Pkt Len Mean', 'Bwd Pkt Len Min', 'Pkt Len Max'], 'Normal sample 838': ['Init Bwd Win Byts', 'Pkt Len Max', 'Fwd IAT Tot', 'Bwd IAT Tot', 'Pkt Len Std', 'Down/Up Ratio', 'Pkt Size Avg', 'Fwd IAT Std', 'Pkt Len Mean', 'Bwd Pkts/s'], 'Normal sample 839': ['Init Bwd Win Byts', 'SYN Flag Cnt', 'Fwd IAT Std', 'Flow Pkts/s', 'Flow IAT Max', 'Fwd IAT Tot', 'Down/Up Ratio', 'Init Fwd Win Byts', 'Bwd IAT Max', 'Bwd Pkts/s'], 'Normal sample 840': ['SYN Flag Cnt', 'Init Fwd Win Byts', 'FIN Flag Cnt', 'Down/Up Ratio', 'Bwd IAT Std', 'Flow IAT Min', 'Flow IAT Mean', 'URG Flag Cnt', 'Bwd IAT Max', 'Subflow Fwd Pkts'], 'Normal sample 841': ['SYN Flag Cnt', 'Init Fwd Win Byts', 'ACK Flag Cnt', 'FIN Flag Cnt', 'Flow Pkts/s', 'Pkt Len Min', 'Pkt Size Avg', 'Bwd Pkts/s', 'Bwd Pkt Len Min', 'Pkt Len Max'], 'Normal sample 842': ['Init Bwd Win Byts', 'SYN Flag Cnt', 'Down/Up Ratio', 'FIN Flag Cnt', 'Flow Pkts/s', 'Idle Max', 'Flow IAT Max', 'Idle Min', 'Idle Mean', 'PSH Flag Cnt'], 'Normal sample 843': ['SYN Flag Cnt', 'Init Fwd Win Byts', 'ACK Flag Cnt', 'FIN Flag Cnt', 'Pkt Len Min', 'Flow Pkts/s', 'Pkt Size Avg', 'Bwd Pkt Len Min', 'Pkt Len Max', 'Bwd Pkts/s'], 'Normal sample 844': ['SYN Flag Cnt', 'Init Fwd Win Byts', 'FIN Flag Cnt', 'ACK Flag Cnt', 'Pkt Len Min', 'Pkt Size Avg', 'Pkt Len Max', 'Bwd Pkt Len Min', 'Pkt Len Mean', 'Flow Pkts/s'], 'Normal sample 845': ['SYN Flag Cnt', 'Init Fwd Win Byts', 'ACK Flag Cnt', 'FIN Flag Cnt', 'Flow Pkts/s', 'Bwd Pkt Len Min', 'Pkt Len Min', 'Pkt Size Avg', 'Pkt Len Max', 'Pkt Len Mean'], 'Normal sample 846': ['SYN Flag Cnt', 'Init Fwd Win Byts', 'ACK Flag Cnt', 'FIN Flag Cnt', 'Pkt Len Min', 'Flow Pkts/s', 'Pkt Size Avg', 'Pkt Len Max', 'Bwd Pkt Len Min', 'Bwd Pkts/s'], 'Normal sample 847': ['Init Bwd Win Byts', 'SYN Flag Cnt', 'Flow Duration', 'Flow Pkts/s', 'Bwd Pkts/s', 'Idle Min', 'Subflow Fwd Byts', 'FIN Flag Cnt', 'Flow IAT Max', 'Init Fwd Win Byts'], 'Normal sample 848': ['SYN Flag Cnt', 'Init Fwd Win Byts', 'FIN Flag Cnt', 'Pkt Size Avg', 'ACK Flag Cnt', 'Pkt Len Max', 'Pkt Len Min', 'Bwd Pkt Len Min', 'Flow Pkts/s', 'Pkt Len Mean'], 'Normal sample 849': ['SYN Flag Cnt', 'Init Fwd Win Byts', 'FIN Flag Cnt', 'ACK Flag Cnt', 'Pkt Size Avg', 'Flow Pkts/s', 'Pkt Len Min', 'Bwd Pkt Len Min', 'Pkt Len Mean', 'Bwd Pkts/s'], 'Normal sample 850': ['SYN Flag Cnt', 'Init Fwd Win Byts', 'FIN Flag Cnt', 'ACK Flag Cnt', 'Flow Pkts/s', 'Pkt Len Min', 'Pkt Size Avg', 'Bwd Pkt Len Min', 'Bwd Pkts/s', 'Fwd Pkt Len Min'], 'Normal sample 851': ['SYN Flag Cnt', 'Init Fwd Win Byts', 'FIN Flag Cnt', 'ACK Flag Cnt', 'Pkt Len Min', 'Pkt Size Avg', 'Flow Pkts/s', 'Bwd Pkt Len Min', 'Pkt Len Mean', 'Pkt Len Max'], 'Normal sample 852': ['SYN Flag Cnt', 'Init Fwd Win Byts', 'ACK Flag Cnt', 'FIN Flag Cnt', 'Pkt Len Min', 'Flow Pkts/s', 'Bwd Pkts/s', 'Bwd Pkt Len Min', 'Pkt Size Avg', 'Pkt Len Max'], 'Normal sample 853': ['Init Bwd Win Byts', 'SYN Flag Cnt', 'FIN Flag Cnt', 'Flow Pkts/s', 'Down/Up Ratio', 'Idle Max', 'Idle Min', 'Bwd IAT Std', 'Idle Mean', 'Flow IAT Max'], 'Normal sample 854': ['Init Bwd Win Byts', 'Fwd IAT Tot', 'Fwd Pkt Len Max', 'Pkt Len Max', 'Pkt Len Std', 'Fwd Pkt Len Std', 'Pkt Size Avg', 'Pkt Len Mean', 'Fwd Pkt Len Mean', 'FIN Flag Cnt'], 'Normal sample 855': ['Init Bwd Win Byts', 'Pkt Len Max', 'Fwd IAT Tot', 'Fwd IAT Std', 'Bwd IAT Tot', 'Fwd IAT Max', 'Pkt Len Std', 'Down/Up Ratio', 'ACK Flag Cnt', 'Pkt Len Mean'], 'Normal sample 856': ['Init Bwd Win Byts', 'Fwd Pkt Len Max', 'Fwd IAT Tot', 'Bwd Pkts/s', 'Fwd Pkt Len Std', 'Fwd IAT Std', 'Fwd Pkt Len Mean', 'FIN Flag Cnt', 'Bwd IAT Tot', 'Pkt Size Avg'], 'Normal sample 857': ['Down/Up Ratio', 'Init Fwd Win Byts', 'SYN Flag Cnt', 'FIN Flag Cnt', 'ACK Flag Cnt', 'Fwd IAT Min', 'Flow IAT Std', 'Active Min', 'Flow IAT Max', 'Fwd IAT Max'], 'Normal sample 858': ['SYN Flag Cnt', 'Init Fwd Win Byts', 'FIN Flag Cnt', 'ACK Flag Cnt', 'Pkt Size Avg', 'Pkt Len Min', 'Flow Pkts/s', 'Bwd Pkt Len Min', 'Pkt Len Mean', 'Pkt Len Max'], 'Normal sample 859': ['Down/Up Ratio', 'Init Fwd Win Byts', 'SYN Flag Cnt', 'FIN Flag Cnt', 'ACK Flag Cnt', 'PSH Flag Cnt', 'Bwd IAT Tot', 'Bwd Pkt Len Max', 'Fwd IAT Std', 'Fwd IAT Tot'], 'Normal sample 860': ['Down/Up Ratio', 'Init Fwd Win Byts', 'SYN Flag Cnt', 'ACK Flag Cnt', 'FIN Flag Cnt', 'Flow IAT Max', 'Bwd Pkts/s', 'Active Mean', 'Bwd Pkt Len Min', 'Fwd Pkts/s'], 'Normal sample 861': ['Down/Up Ratio', 'Init Fwd Win Byts', 'SYN Flag Cnt', 'ACK Flag Cnt', 'FIN Flag Cnt', 'Flow IAT Max', 'PSH Flag Cnt', 'Bwd IAT Tot', 'Idle Min', 'TotLen Bwd Pkts'], 'Normal sample 862': ['Init Bwd Win Byts', 'SYN Flag Cnt', 'FIN Flag Cnt', 'Flow Pkts/s', 'Down/Up Ratio', 'Flow IAT Max', 'Idle Mean', 'Idle Max', 'Tot Fwd Pkts', 'URG Flag Cnt'], 'Normal sample 863': ['SYN Flag Cnt', 'FIN Flag Cnt', 'Pkt Size Avg', 'Pkt Len Min', 'Bwd Pkt Len Min', 'Fwd Pkt Len Min', 'Pkt Len Mean', 'Flow Pkts/s', 'Bwd Pkts/s', 'Fwd Seg Size Avg'], 'Normal sample 864': ['SYN Flag Cnt', 'Init Fwd Win Byts', 'FIN Flag Cnt', 'Pkt Len Min', 'ACK Flag Cnt', 'Pkt Size Avg', 'Flow Pkts/s', 'Pkt Len Max', 'Pkt Len Mean', 'Bwd Pkt Len Min'], 'Normal sample 865': ['SYN Flag Cnt', 'Flow Byts/s', 'FIN Flag Cnt', 'Pkt Len Min', 'Pkt Size Avg', 'Fwd Pkt Len Min', 'Bwd Pkt Len Min', 'Pkt Len Mean', 'Fwd Pkt Len Mean', 'ACK Flag Cnt'], 'Normal sample 866': ['Init Bwd Win Byts', 'Fwd IAT Tot', 'SYN Flag Cnt', 'Bwd Pkts/s', 'Fwd Pkt Len Max', 'Pkt Len Max', 'Init Fwd Win Byts', 'Pkt Size Avg', 'Fwd IAT Std', 'Flow IAT Min'], 'Normal sample 867': ['Down/Up Ratio', 'Init Fwd Win Byts', 'SYN Flag Cnt', 'FIN Flag Cnt', 'Bwd Pkts/s', 'Flow Pkts/s', 'Idle Max', 'Flow IAT Max', 'Bwd Pkt Len Max', 'PSH Flag Cnt'], 'Normal sample 868': ['Down/Up Ratio', 'Bwd PSH Flags', 'Init Fwd Win Byts', 'SYN Flag Cnt', 'ACK Flag Cnt', 'Bwd Pkts/s', 'PSH Flag Cnt', 'FIN Flag Cnt', 'Flow Pkts/s', 'Fwd Seg Size Avg'], 'Normal sample 869': ['Down/Up Ratio', 'Bwd PSH Flags', 'Init Fwd Win Byts', 'ACK Flag Cnt', 'Bwd Pkts/s', 'SYN Flag Cnt', 'FIN Flag Cnt', 'PSH Flag Cnt', 'Flow Pkts/s', 'Bwd IAT Tot'], 'Normal sample 870': ['Init Bwd Win Byts', 'SYN Flag Cnt', 'FIN Flag Cnt', 'Flow Pkts/s', 'Down/Up Ratio', 'Bwd IAT Max', 'Idle Max', 'Flow Duration', 'Idle Mean', 'Bwd Pkt Len Std'], 'Normal sample 871': ['SYN Flag Cnt', 'Flow Pkts/s', 'Bwd Pkt Len Min', 'FIN Flag Cnt', 'Pkt Size Avg', 'Pkt Len Min', 'Pkt Len Mean', 'Bwd Pkts/s', 'Pkt Len Std', 'Pkt Len Max'], 'Normal sample 872': ['SYN Flag Cnt', 'FIN Flag Cnt', 'Pkt Len Min', 'Fwd Pkt Len Mean', 'Fwd Pkt Len Min', 'Pkt Size Avg', 'Fwd Seg Size Avg', 'Pkt Len Mean', 'Bwd Pkt Len Min', 'Flow Pkts/s'], 'Normal sample 873': ['Init Bwd Win Byts', 'SYN Flag Cnt', 'Bwd Pkts/s', 'Down/Up Ratio', 'Flow Pkts/s', 'FIN Flag Cnt', 'Pkt Size Avg', 'Bwd Pkt Len Std', 'Pkt Len Mean', 'Fwd IAT Tot'], 'Normal sample 874': ['Down/Up Ratio', 'Init Fwd Win Byts', 'SYN Flag Cnt', 'FIN Flag Cnt', 'ACK Flag Cnt', 'PSH Flag Cnt', 'Flow Duration', 'Fwd IAT Std', 'Idle Max', 'Flow IAT Max'], 'Normal sample 875': ['Init Bwd Win Byts', 'Bwd Pkt Len Min', 'SYN Flag Cnt', 'Bwd Pkts/s', 'Flow Pkts/s', 'Pkt Size Avg', 'FIN Flag Cnt', 'Bwd Pkt Len Max', 'Pkt Len Mean', 'URG Flag Cnt'], 'Normal sample 876': ['Init Bwd Win Byts', 'Fwd IAT Tot', 'Pkt Len Max', 'Pkt Len Mean', 'FIN Flag Cnt', 'Pkt Len Std', 'Fwd Pkt Len Max', 'Fwd IAT Std', 'Flow Pkts/s', 'Flow Duration'], 'Normal sample 877': ['SYN Flag Cnt', 'Fwd Pkt Len Std', 'Fwd Pkt Len Mean', 'Fwd Pkt Len Max', 'Fwd Seg Size Avg', 'Pkt Len Mean', 'Pkt Size Avg', 'Pkt Len Max', 'Bwd Pkts/s', 'Init Fwd Win Byts'], 'Normal sample 878': ['Down/Up Ratio', 'Bwd PSH Flags', 'Init Fwd Win Byts', 'ACK Flag Cnt', 'Bwd Pkts/s', 'SYN Flag Cnt', 'PSH Flag Cnt', 'FIN Flag Cnt', 'Flow Pkts/s', 'URG Flag Cnt'], 'Normal sample 879': ['SYN Flag Cnt', 'Init Fwd Win Byts', 'ACK Flag Cnt', 'FIN Flag Cnt', 'Flow Pkts/s', 'Pkt Len Min', 'Pkt Size Avg', 'Pkt Len Max', 'Bwd Pkt Len Min', 'Bwd Pkts/s'], 'Normal sample 880': ['Down/Up Ratio', 'Init Fwd Win Byts', 'SYN Flag Cnt', 'FIN Flag Cnt', 'ACK Flag Cnt', 'Bwd Pkts/s', 'Flow Duration', 'Bwd IAT Min', 'Flow IAT Max', 'Idle Max'], 'Normal sample 881': ['Init Bwd Win Byts', 'SYN Flag Cnt', 'ACK Flag Cnt', 'Flow IAT Min', 'Flow Pkts/s', 'Bwd Pkt Len Min', 'Fwd IAT Min', 'Fwd Act Data Pkts', 'Bwd IAT Max', 'Active Mean'], 'Normal sample 882': ['Init Bwd Win Byts', 'Pkt Size Avg', 'Pkt Len Max', 'Pkt Len Mean', 'Fwd Pkt Len Max', 'Down/Up Ratio', 'Pkt Len Std', 'FIN Flag Cnt', 'Flow Pkts/s', 'Idle Mean'], 'Normal sample 883': ['Down/Up Ratio', 'Init Fwd Win Byts', 'FIN Flag Cnt', 'Pkt Len Min', 'Bwd Pkts/s', 'Bwd IAT Tot', 'Flow IAT Mean', 'Flow IAT Max', 'Bwd Pkt Len Min', 'Idle Mean'], 'Normal sample 884': ['Init Bwd Win Byts', 'Fwd IAT Tot', 'Fwd Pkt Len Max', 'Fwd Pkt Len Std', 'Fwd IAT Max', 'Pkt Len Max', 'Pkt Len Mean', 'Down/Up Ratio', 'Fwd Pkt Len Mean', 'Pkt Size Avg'], 'Normal sample 885': ['Down/Up Ratio', 'Init Fwd Win Byts', 'FIN Flag Cnt', 'Bwd Pkts/s', 'Fwd Pkt Len Min', 'Bwd Pkt Len Min', 'ACK Flag Cnt', 'Pkt Len Min', 'Idle Std', 'Idle Min'], 'Normal sample 886': ['SYN Flag Cnt', 'Init Fwd Win Byts', 'FIN Flag Cnt', 'ACK Flag Cnt', 'Pkt Len Min', 'Pkt Size Avg', 'Pkt Len Max', 'Flow Pkts/s', 'Bwd Pkt Len Min', 'Pkt Len Mean'], 'Normal sample 887': ['SYN Flag Cnt', 'Init Fwd Win Byts', 'FIN Flag Cnt', 'Pkt Len Min', 'Pkt Size Avg', 'ACK Flag Cnt', 'Pkt Len Max', 'Bwd Pkt Len Min', 'Pkt Len Mean', 'Fwd Pkt Len Min'], 'Normal sample 888': ['Down/Up Ratio', 'Init Fwd Win Byts', 'SYN Flag Cnt', 'ACK Flag Cnt', 'FIN Flag Cnt', 'Flow IAT Std', 'TotLen Bwd Pkts', 'Fwd IAT Std', 'Flow Duration', 'Fwd IAT Max'], 'Normal sample 889': ['Init Bwd Win Byts', 'SYN Flag Cnt', 'Down/Up Ratio', 'Flow Pkts/s', 'FIN Flag Cnt', 'Flow IAT Max', 'Idle Max', 'Bwd IAT Std', 'Idle Mean', 'Bwd Pkts/s'], 'Normal sample 890': ['Down/Up Ratio', 'Init Fwd Win Byts', 'FIN Flag Cnt', 'Bwd Pkts/s', 'Bwd Pkt Len Min', 'Fwd Pkt Len Min', 'Flow IAT Max', 'PSH Flag Cnt', 'Fwd IAT Mean', 'Bwd IAT Std'], 'Normal sample 891': ['Init Bwd Win Byts', 'SYN Flag Cnt', 'Bwd Pkt Len Min', 'Bwd PSH Flags', 'Flow Pkts/s', 'Bwd Pkts/s', 'Down/Up Ratio', 'FIN Flag Cnt', 'Bwd Pkt Len Mean', 'Flow IAT Max'], 'Normal sample 892': ['SYN Flag Cnt', 'Init Fwd Win Byts', 'ACK Flag Cnt', 'FIN Flag Cnt', 'Flow Pkts/s', 'Pkt Size Avg', 'Pkt Len Min', 'Bwd Pkts/s', 'Bwd Pkt Len Min', 'Pkt Len Max'], 'Normal sample 893': ['Down/Up Ratio', 'Init Fwd Win Byts', 'SYN Flag Cnt', 'FIN Flag Cnt', 'Bwd Pkts/s', 'PSH Flag Cnt', 'Flow Pkts/s', 'Fwd IAT Tot', 'Bwd Pkt Len Mean', 'Flow Duration'], 'Normal sample 894': ['Init Bwd Win Byts', 'SYN Flag Cnt', 'FIN Flag Cnt', 'Flow Pkts/s', 'Flow IAT Max', 'Down/Up Ratio', 'Idle Mean', 'Bwd IAT Max', 'Bwd Pkt Len Mean', 'Idle Min'], 'Normal sample 895': ['Init Bwd Win Byts', 'Fwd IAT Tot', 'Fwd IAT Std', 'Fwd Pkt Len Max', 'Flow IAT Max', 'Fwd IAT Max', 'Idle Min', 'Fwd Seg Size Avg', 'FIN Flag Cnt', 'Pkt Len Max'], 'Normal sample 896': ['SYN Flag Cnt', 'Init Fwd Win Byts', 'FIN Flag Cnt', 'Pkt Size Avg', 'Pkt Len Min', 'Pkt Len Mean', 'Bwd Pkt Len Min', 'Pkt Len Max', 'ACK Flag Cnt', 'Flow Pkts/s'], 'Normal sample 897': ['Down/Up Ratio', 'Init Fwd Win Byts', 'SYN Flag Cnt', 'FIN Flag Cnt', 'ACK Flag Cnt', 'Bwd IAT Tot', 'Bwd PSH Flags', 'Idle Mean', 'Pkt Len Std', 'Active Std'], 'Normal sample 898': ['SYN Flag Cnt', 'Init Fwd Win Byts', 'FIN Flag Cnt', 'ACK Flag Cnt', 'Pkt Len Min', 'Pkt Size Avg', 'Flow Pkts/s', 'Pkt Len Max', 'Bwd Pkt Len Min', 'Pkt Len Mean'], 'Normal sample 899': ['Init Fwd Win Byts', 'SYN Flag Cnt', 'ACK Flag Cnt', 'Down/Up Ratio', 'Fwd IAT Max', 'TotLen Bwd Pkts', 'Flow IAT Max', 'Bwd Pkt Len Mean', 'Active Max', 'Fwd IAT Min'], 'Normal sample 900': ['SYN Flag Cnt', 'Init Fwd Win Byts', 'FIN Flag Cnt', 'Pkt Len Min', 'ACK Flag Cnt', 'Pkt Size Avg', 'Bwd Pkt Len Min', 'Pkt Len Mean', 'Flow Pkts/s', 'Pkt Len Max'], 'Normal sample 901': ['SYN Flag Cnt', 'Init Fwd Win Byts', 'FIN Flag Cnt', 'Pkt Len Min', 'ACK Flag Cnt', 'Pkt Size Avg', 'Pkt Len Mean', 'Flow Pkts/s', 'Pkt Len Max', 'Bwd Pkt Len Min'], 'Normal sample 902': ['SYN Flag Cnt', 'Init Fwd Win Byts', 'FIN Flag Cnt', 'Down/Up Ratio', 'URG Flag Cnt', 'Fwd IAT Max', 'Flow IAT Std', 'Bwd IAT Std', 'Subflow Bwd Byts', 'Flow IAT Min'], 'Normal sample 903': ['Init Bwd Win Byts', 'SYN Flag Cnt', 'ACK Flag Cnt', 'Idle Max', 'Bwd IAT Tot', 'Bwd IAT Std', 'Subflow Fwd Byts', 'Bwd IAT Max', 'Flow IAT Std', 'Bwd Seg Size Avg'], 'Normal sample 904': ['Down/Up Ratio', 'Init Fwd Win Byts', 'FIN Flag Cnt', 'Bwd Pkts/s', 'Pkt Len Min', 'Flow IAT Max', 'Idle Min', 'Flow Pkts/s', 'Active Min', 'Bwd IAT Tot'], 'Normal sample 905': ['Down/Up Ratio', 'Init Fwd Win Byts', 'SYN Flag Cnt', 'ACK Flag Cnt', 'FIN Flag Cnt', 'Bwd Pkts/s', 'Flow IAT Std', 'Idle Mean', 'Tot Fwd Pkts', 'Bwd Pkt Len Std'], 'Normal sample 906': ['Down/Up Ratio', 'Init Fwd Win Byts', 'SYN Flag Cnt', 'FIN Flag Cnt', 'Bwd Pkts/s', 'Flow Pkts/s', 'Bwd IAT Std', 'Flow IAT Max', 'PSH Flag Cnt', 'Idle Max'], 'Normal sample 907': ['Init Bwd Win Byts', 'Fwd IAT Std', 'Fwd IAT Tot', 'Bwd IAT Tot', 'Pkt Len Max', 'Down/Up Ratio', 'ACK Flag Cnt', 'Pkt Len Std', 'Fwd Pkt Len Max', 'Pkt Size Avg'], 'Normal sample 908': ['SYN Flag Cnt', 'Init Fwd Win Byts', 'FIN Flag Cnt', 'Pkt Size Avg', 'Pkt Len Min', 'ACK Flag Cnt', 'Bwd Pkt Len Min', 'Flow Pkts/s', 'Pkt Len Max', 'Pkt Len Mean'], 'Normal sample 909': ['SYN Flag Cnt', 'Init Fwd Win Byts', 'ACK Flag Cnt', 'FIN Flag Cnt', 'Flow Pkts/s', 'Pkt Len Min', 'Pkt Size Avg', 'Bwd Pkts/s', 'Pkt Len Mean', 'Bwd Pkt Len Min'], 'Normal sample 910': ['Down/Up Ratio', 'Init Fwd Win Byts', 'FIN Flag Cnt', 'Bwd Pkts/s', 'Active Max', 'Flow IAT Max', 'Bwd IAT Mean', 'Bwd Pkt Len Mean', 'Fwd IAT Mean', 'PSH Flag Cnt'], 'Normal sample 911': ['SYN Flag Cnt', 'Init Fwd Win Byts', 'FIN Flag Cnt', 'ACK Flag Cnt', 'Pkt Size Avg', 'Pkt Len Max', 'Flow Pkts/s', 'Pkt Len Min', 'Bwd Pkt Len Min', 'Pkt Len Mean'], 'Normal sample 912': ['Init Bwd Win Byts', 'Flow Byts/s', 'SYN Flag Cnt', 'Fwd Pkt Len Min', 'Fwd Seg Size Avg', 'Down/Up Ratio', 'Fwd Pkt Len Mean', 'Pkt Size Avg', 'Pkt Len Mean', 'Bwd Pkts/s'], 'Normal sample 913': ['Init Bwd Win Byts', 'Fwd Pkt Len Max', 'Fwd Pkt Len Std', 'Down/Up Ratio', 'FIN Flag Cnt', 'Fwd Pkt Len Mean', 'Fwd Seg Size Avg', 'Pkt Len Max', 'Pkt Len Std', 'Flow Pkts/s'], 'Normal sample 914': ['SYN Flag Cnt', 'Init Fwd Win Byts', 'FIN Flag Cnt', 'Pkt Size Avg', 'Pkt Len Min', 'Flow Pkts/s', 'Pkt Len Max', 'Pkt Len Mean', 'ACK Flag Cnt', 'Bwd Pkt Len Min'], 'Normal sample 915': ['Down/Up Ratio', 'Init Fwd Win Byts', 'FIN Flag Cnt', 'Bwd Pkts/s', 'Bwd IAT Std', 'Flow IAT Max', 'Fwd IAT Tot', 'Flow IAT Std', 'Pkt Len Var', 'Flow Duration'], 'Normal sample 916': ['SYN Flag Cnt', 'Init Fwd Win Byts', 'FIN Flag Cnt', 'Pkt Size Avg', 'ACK Flag Cnt', 'Pkt Len Min', 'Flow Pkts/s', 'Bwd Pkt Len Min', 'Pkt Len Mean', 'Pkt Len Max'], 'Normal sample 917': ['SYN Flag Cnt', 'Init Fwd Win Byts', 'FIN Flag Cnt', 'ACK Flag Cnt', 'Pkt Len Min', 'Flow Pkts/s', 'Pkt Size Avg', 'Pkt Len Max', 'Bwd Pkt Len Min', 'Bwd Pkts/s'], 'Normal sample 918': ['Down/Up Ratio', 'Init Fwd Win Byts', 'SYN Flag Cnt', 'FIN Flag Cnt', 'ACK Flag Cnt', 'Flow IAT Std', 'Idle Max', 'PSH Flag Cnt', 'Bwd Pkts/s', 'Bwd URG Flags'], 'Normal sample 919': ['Pkt Len Max', 'Init Bwd Win Byts', 'Subflow Bwd Pkts', 'Pkt Len Mean', 'Bwd Header Len', 'Tot Bwd Pkts', 'Pkt Size Avg', 'Fwd Header Len', 'Flow IAT Min', 'Tot Fwd Pkts'], 'Normal sample 920': ['SYN Flag Cnt', 'Init Fwd Win Byts', 'FIN Flag Cnt', 'Pkt Len Min', 'ACK Flag Cnt', 'Pkt Size Avg', 'Bwd Pkt Len Min', 'Pkt Len Max', 'Flow Pkts/s', 'Pkt Len Mean'], 'Normal sample 921': ['SYN Flag Cnt', 'Init Fwd Win Byts', 'Down/Up Ratio', 'FIN Flag Cnt', 'Active Mean', 'Idle Max', 'Fwd IAT Tot', 'Flow IAT Mean', 'Active Max', 'Flow Duration'], 'Normal sample 922': ['Init Bwd Win Byts', 'SYN Flag Cnt', 'Fwd IAT Std', 'Bwd Pkts/s', 'Fwd IAT Max', 'Fwd IAT Tot', 'Init Fwd Win Byts', 'Bwd IAT Tot', 'FIN Flag Cnt', 'Bwd IAT Max'], 'Normal sample 923': ['Down/Up Ratio', 'Init Fwd Win Byts', 'FIN Flag Cnt', 'Bwd Pkts/s', 'Bwd Pkt Len Std', 'Idle Max', 'Tot Bwd Pkts', 'Idle Mean', 'PSH Flag Cnt', 'Idle Min'], 'Normal sample 924': ['SYN Flag Cnt', 'Init Fwd Win Byts', 'FIN Flag Cnt', 'Pkt Size Avg', 'Pkt Len Min', 'ACK Flag Cnt', 'Pkt Len Mean', 'Flow Pkts/s', 'Bwd Pkt Len Min', 'Pkt Len Max'], 'Normal sample 925': ['Init Bwd Win Byts', 'SYN Flag Cnt', 'Flow Pkts/s', 'Bwd Pkts/s', 'Down/Up Ratio', 'Fwd Seg Size Avg', 'Init Fwd Win Byts', 'Fwd Pkt Len Max', 'Fwd IAT Tot', 'Pkt Len Max'], 'Normal sample 926': ['Init Bwd Win Byts', 'Fwd IAT Tot', 'Fwd IAT Std', 'Down/Up Ratio', 'Bwd IAT Tot', 'Bwd Pkts/s', 'Pkt Len Max', 'Bwd IAT Std', 'Fwd IAT Max', 'FIN Flag Cnt'], 'Normal sample 927': ['SYN Flag Cnt', 'Init Fwd Win Byts', 'FIN Flag Cnt', 'Pkt Size Avg', 'ACK Flag Cnt', 'Pkt Len Min', 'Flow Pkts/s', 'Pkt Len Mean', 'Bwd Pkt Len Min', 'Pkt Len Max'], 'Normal sample 928': ['Init Bwd Win Byts', 'SYN Flag Cnt', 'Bwd Pkt Len Min', 'Bwd Pkts/s', 'Flow Pkts/s', 'FIN Flag Cnt', 'Pkt Len Std', 'Down/Up Ratio', 'Pkt Len Mean', 'Bwd Seg Size Avg'], 'Normal sample 929': ['SYN Flag Cnt', 'Init Fwd Win Byts', 'FIN Flag Cnt', 'ACK Flag Cnt', 'Pkt Size Avg', 'Pkt Len Min', 'Pkt Len Mean', 'Flow Pkts/s', 'Bwd Pkt Len Min', 'Pkt Len Max'], 'Normal sample 930': ['SYN Flag Cnt', 'Fwd Pkt Len Max', 'Fwd Pkt Len Mean', 'Fwd Pkt Len Std', 'Pkt Len Max', 'Fwd Seg Size Avg', 'Pkt Size Avg', 'Pkt Len Mean', 'Bwd Pkts/s', 'Pkt Len Std'], 'Normal sample 931': ['Down/Up Ratio', 'Init Fwd Win Byts', 'SYN Flag Cnt', 'FIN Flag Cnt', 'Bwd Pkts/s', 'Flow Pkts/s', 'PSH Flag Cnt', 'Bwd Pkt Len Std', 'Bwd Pkt Len Mean', 'Fwd IAT Max'], 'Normal sample 932': ['Init Bwd Win Byts', 'Fwd IAT Tot', 'SYN Flag Cnt', 'Down/Up Ratio', 'Flow Pkts/s', 'Fwd IAT Std', 'Bwd IAT Max', 'FIN Flag Cnt', 'Bwd IAT Mean', 'Fwd IAT Max'], 'Normal sample 933': ['SYN Flag Cnt', 'Init Fwd Win Byts', 'FIN Flag Cnt', 'Pkt Len Min', 'Pkt Size Avg', 'Bwd Pkt Len Min', 'Flow Pkts/s', 'Pkt Len Mean', 'Bwd Pkts/s', 'ACK Flag Cnt'], 'Normal sample 934': ['Down/Up Ratio', 'Bwd PSH Flags', 'Init Fwd Win Byts', 'ACK Flag Cnt', 'SYN Flag Cnt', 'Bwd Pkts/s', 'FIN Flag Cnt', 'PSH Flag Cnt', 'Flow Pkts/s', 'Flow Duration'], 'Normal sample 935': ['Down/Up Ratio', 'Init Fwd Win Byts', 'SYN Flag Cnt', 'ACK Flag Cnt', 'FIN Flag Cnt', 'Bwd Pkts/s', 'Bwd PSH Flags', 'Idle Mean', 'TotLen Bwd Pkts', 'Subflow Fwd Byts'], 'Normal sample 936': ['SYN Flag Cnt', 'Init Fwd Win Byts', 'FIN Flag Cnt', 'Fwd IAT Max', 'Bwd IAT Min', 'Tot Fwd Pkts', 'Flow IAT Mean', 'Active Std', 'Flow IAT Std', 'Idle Std'], 'Normal sample 937': ['SYN Flag Cnt', 'Init Fwd Win Byts', 'FIN Flag Cnt', 'Pkt Size Avg', 'Pkt Len Min', 'Pkt Len Max', 'Pkt Len Mean', 'Flow Pkts/s', 'ACK Flag Cnt', 'Bwd Pkt Len Min'], 'Normal sample 938': ['Init Bwd Win Byts', 'SYN Flag Cnt', 'Bwd Pkt Len Min', 'Bwd Pkts/s', 'Flow Pkts/s', 'FIN Flag Cnt', 'Fwd IAT Std', 'Pkt Size Avg', 'Pkt Len Mean', 'Active Mean'], 'Normal sample 939': ['Init Bwd Win Byts', 'SYN Flag Cnt', 'Down/Up Ratio', 'Flow Pkts/s', 'FIN Flag Cnt', 'Flow IAT Max', 'Bwd IAT Max', 'Idle Min', 'PSH Flag Cnt', 'Active Min'], 'Normal sample 940': ['SYN Flag Cnt', 'Init Fwd Win Byts', 'FIN Flag Cnt', 'ACK Flag Cnt', 'Pkt Size Avg', 'Pkt Len Min', 'Pkt Len Mean', 'Flow Pkts/s', 'Bwd Pkt Len Min', 'Pkt Len Max'], 'Normal sample 941': ['SYN Flag Cnt', 'Init Fwd Win Byts', 'ACK Flag Cnt', 'FIN Flag Cnt', 'Flow Pkts/s', 'Pkt Len Min', 'Pkt Size Avg', 'Bwd Pkts/s', 'Bwd Pkt Len Min', 'Pkt Len Max'], 'Normal sample 942': ['Down/Up Ratio', 'Init Fwd Win Byts', 'SYN Flag Cnt', 'FIN Flag Cnt', 'ACK Flag Cnt', 'Bwd Pkts/s', 'Bwd IAT Tot', 'URG Flag Cnt', 'Flow IAT Mean', 'Flow IAT Std'], 'Normal sample 943': ['SYN Flag Cnt', 'Init Fwd Win Byts', 'FIN Flag Cnt', 'Pkt Size Avg', 'Pkt Len Min', 'ACK Flag Cnt', 'Flow Pkts/s', 'Pkt Len Mean', 'Bwd Pkt Len Min', 'Bwd Pkts/s'], 'Normal sample 944': ['Init Bwd Win Byts', 'Fwd IAT Std', 'SYN Flag Cnt', 'Bwd Pkts/s', 'FIN Flag Cnt', 'Fwd IAT Tot', 'Bwd IAT Tot', 'Flow Pkts/s', 'Fwd IAT Max', 'Bwd IAT Max'], 'Normal sample 945': ['SYN Flag Cnt', 'FIN Flag Cnt', 'Init Fwd Win Byts', 'Pkt Size Avg', 'Pkt Len Min', 'Pkt Len Mean', 'Bwd Pkt Len Min', 'Flow Pkts/s', 'ACK Flag Cnt', 'Pkt Len Max'], 'Normal sample 946': ['Init Bwd Win Byts', 'Bwd IAT Tot', 'Fwd Pkt Len Std', 'Pkt Len Max', 'Pkt Len Mean', 'Fwd Pkt Len Max', 'Pkt Len Std', 'Fwd Pkt Len Mean', 'Pkt Size Avg', 'Fwd Seg Size Avg'], 'Normal sample 947': ['SYN Flag Cnt', 'Flow Pkts/s', 'Bwd Pkts/s', 'Init Fwd Win Byts', 'Down/Up Ratio', 'FIN Flag Cnt', 'Fwd Pkt Len Max', 'Fwd Pkt Len Std', 'Pkt Len Max', 'Flow Duration'], 'Normal sample 948': ['SYN Flag Cnt', 'Init Fwd Win Byts', 'FIN Flag Cnt', 'Flow Pkts/s', 'ACK Flag Cnt', 'Pkt Len Min', 'Pkt Size Avg', 'Bwd Pkts/s', 'Bwd Pkt Len Min', 'Pkt Len Mean'], 'Normal sample 949': ['SYN Flag Cnt', 'Init Fwd Win Byts', 'ACK Flag Cnt', 'FIN Flag Cnt', 'Flow Pkts/s', 'Bwd Pkts/s', 'Pkt Len Min', 'Bwd Pkt Len Min', 'Pkt Size Avg', 'Pkt Len Mean'], 'Normal sample 950': ['Init Bwd Win Byts', 'Fwd Pkt Len Max', 'Fwd IAT Tot', 'Fwd IAT Std', 'Fwd IAT Max', 'Fwd Pkt Len Std', 'Pkt Len Max', 'FIN Flag Cnt', 'Fwd Seg Size Avg', 'Fwd IAT Mean'], 'Normal sample 951': ['Init Bwd Win Byts', 'Pkt Len Max', 'Fwd IAT Tot', 'Bwd IAT Tot', 'Pkt Len Std', 'Fwd IAT Std', 'Pkt Size Avg', 'Init Fwd Win Byts', 'Pkt Len Mean', 'Down/Up Ratio'], 'Normal sample 952': ['SYN Flag Cnt', 'Init Fwd Win Byts', 'ACK Flag Cnt', 'FIN Flag Cnt', 'Pkt Len Min', 'Flow Pkts/s', 'Bwd Pkts/s', 'Bwd Pkt Len Min', 'Pkt Len Mean', 'Pkt Size Avg'], 'Normal sample 953': ['SYN Flag Cnt', 'Init Fwd Win Byts', 'Down/Up Ratio', 'FIN Flag Cnt', 'Bwd IAT Std', 'Subflow Bwd Byts', 'Idle Mean', 'Idle Max', 'Flow IAT Std', 'Fwd IAT Tot'], 'Normal sample 954': ['Init Bwd Win Byts', 'Pkt Len Max', 'Pkt Size Avg', 'Pkt Len Mean', 'Bwd Header Len', 'Bwd IAT Max', 'Flow Duration', 'Fwd IAT Tot', 'Bwd IAT Tot', 'Tot Bwd Pkts'], 'Normal sample 955': ['Down/Up Ratio', 'Init Fwd Win Byts', 'SYN Flag Cnt', 'FIN Flag Cnt', 'ACK Flag Cnt', 'Bwd IAT Tot', 'Pkt Len Min', 'Bwd Pkt Len Min', 'Idle Max', 'PSH Flag Cnt'], 'Normal sample 956': ['SYN Flag Cnt', 'Fwd Pkt Len Max', 'Fwd Pkt Len Std', 'Fwd Pkt Len Mean', 'Pkt Len Max', 'Fwd Seg Size Avg', 'Pkt Size Avg', 'Pkt Len Mean', 'Pkt Len Std', 'Flow Byts/s'], 'Normal sample 957': ['SYN Flag Cnt', 'FIN Flag Cnt', 'Pkt Len Min', 'Pkt Size Avg', 'Bwd Pkt Len Min', 'Init Fwd Win Byts', 'Pkt Len Mean', 'Fwd Pkt Len Min', 'ACK Flag Cnt', 'Pkt Len Max'], 'Normal sample 958': ['Down/Up Ratio', 'Init Fwd Win Byts', 'FIN Flag Cnt', 'Bwd Pkts/s', 'Flow IAT Max', 'Bwd Pkt Len Min', 'Flow IAT Mean', 'Bwd Pkt Len Std', 'Pkt Len Min', 'ACK Flag Cnt'], 'Normal sample 959': ['SYN Flag Cnt', 'Init Fwd Win Byts', 'FIN Flag Cnt', 'Bwd IAT Std', 'Flow IAT Std', 'Pkt Len Var', 'URG Flag Cnt', 'Fwd IAT Std', 'Fwd IAT Min', 'Subflow Fwd Byts'], 'Normal sample 960': ['Down/Up Ratio', 'Init Fwd Win Byts', 'SYN Flag Cnt', 'FIN Flag Cnt', 'Bwd Pkts/s', 'Flow Pkts/s', 'Idle Max', 'Flow IAT Max', 'Active Std', 'PSH Flag Cnt'], 'Normal sample 961': ['Init Bwd Win Byts', 'SYN Flag Cnt', 'Flow Pkts/s', 'Bwd Pkts/s', 'Init Fwd Win Byts', 'Fwd IAT Max', 'Fwd IAT Std', 'FIN Flag Cnt', 'Flow IAT Max', 'Fwd IAT Tot'], 'Normal sample 962': ['Down/Up Ratio', 'Init Fwd Win Byts', 'SYN Flag Cnt', 'FIN Flag Cnt', 'ACK Flag Cnt', 'PSH Flag Cnt', 'Bwd Pkt Len Min', 'Flow IAT Mean', 'Bwd PSH Flags', 'Fwd Seg Size Avg'], 'Normal sample 963': ['SYN Flag Cnt', 'Init Fwd Win Byts', 'ACK Flag Cnt', 'Down/Up Ratio', 'Flow Byts/s', 'Fwd IAT Mean', 'Idle Max', 'Fwd Pkt Len Min', 'Flow IAT Max', 'Flow IAT Mean'], 'Normal sample 964': ['SYN Flag Cnt', 'FIN Flag Cnt', 'Init Fwd Win Byts', 'Pkt Len Min', 'Pkt Size Avg', 'Flow Pkts/s', 'Bwd Pkt Len Min', 'Pkt Len Mean', 'Pkt Len Max', 'ACK Flag Cnt'], 'Normal sample 965': ['Down/Up Ratio', 'Init Fwd Win Byts', 'SYN Flag Cnt', 'FIN Flag Cnt', 'ACK Flag Cnt', 'Fwd Seg Size Avg', 'Bwd Pkts/s', 'Bwd IAT Tot', 'Flow IAT Min', 'Active Min'], 'Normal sample 966': ['Init Bwd Win Byts', 'SYN Flag Cnt', 'FIN Flag Cnt', 'Flow Pkts/s', 'Flow IAT Std', 'Idle Max', 'Flow IAT Max', 'Tot Fwd Pkts', 'Down/Up Ratio', 'Bwd IAT Tot'], 'Normal sample 967': ['SYN Flag Cnt', 'Init Fwd Win Byts', 'ACK Flag Cnt', 'FIN Flag Cnt', 'Flow Pkts/s', 'Pkt Size Avg', 'Pkt Len Min', 'Bwd Pkts/s', 'Bwd Pkt Len Min', 'Pkt Len Mean'], 'Normal sample 968': ['SYN Flag Cnt', 'Init Fwd Win Byts', 'ACK Flag Cnt', 'FIN Flag Cnt', 'Pkt Len Min', 'Flow Pkts/s', 'Pkt Size Avg', 'Bwd Pkts/s', 'Bwd Pkt Len Min', 'Pkt Len Mean'], 'Normal sample 969': ['SYN Flag Cnt', 'Init Fwd Win Byts', 'FIN Flag Cnt', 'ACK Flag Cnt', 'Pkt Len Min', 'Pkt Size Avg', 'Flow Pkts/s', 'Bwd Pkt Len Min', 'Pkt Len Max', 'Bwd Pkts/s'], 'Normal sample 970': ['Down/Up Ratio', 'Init Fwd Win Byts', 'SYN Flag Cnt', 'FIN Flag Cnt', 'ACK Flag Cnt', 'Idle Max', 'Bwd Pkts/s', 'Flow IAT Max', 'PSH Flag Cnt', 'Active Std'], 'Normal sample 971': ['Init Bwd Win Byts', 'SYN Flag Cnt', 'Down/Up Ratio', 'Flow Pkts/s', 'FIN Flag Cnt', 'Idle Max', 'Flow IAT Max', 'Idle Min', 'URG Flag Cnt', 'Bwd URG Flags'], 'Normal sample 972': ['SYN Flag Cnt', 'Init Fwd Win Byts', 'FIN Flag Cnt', 'Pkt Len Min', 'Pkt Size Avg', 'Bwd Pkt Len Min', 'ACK Flag Cnt', 'Pkt Len Max', 'Flow Pkts/s', 'Pkt Len Mean'], 'Normal sample 973': ['SYN Flag Cnt', 'Init Fwd Win Byts', 'ACK Flag Cnt', 'FIN Flag Cnt', 'Flow Pkts/s', 'Pkt Len Min', 'Bwd Pkts/s', 'Bwd Pkt Len Min', 'Pkt Size Avg', 'Pkt Len Mean'], 'Normal sample 974': ['Init Bwd Win Byts', 'Fwd IAT Tot', 'Pkt Len Max', 'Fwd Pkt Len Max', 'Pkt Size Avg', 'Pkt Len Mean', 'Pkt Len Std', 'Fwd Pkt Len Std', 'Fwd Seg Size Avg', 'Down/Up Ratio'], 'Normal sample 975': ['Down/Up Ratio', 'Init Fwd Win Byts', 'SYN Flag Cnt', 'FIN Flag Cnt', 'ACK Flag Cnt', 'Bwd Pkts/s', 'Idle Std', 'Bwd IAT Tot', 'Bwd Pkt Len Min', 'Flow Duration'], 'Normal sample 976': ['Init Bwd Win Byts', 'SYN Flag Cnt', 'Fwd IAT Std', 'Bwd IAT Tot', 'Fwd IAT Tot', 'Flow Pkts/s', 'Pkt Len Std', 'Bwd Pkts/s', 'Bwd IAT Mean', 'URG Flag Cnt'], 'Normal sample 977': ['Down/Up Ratio', 'Init Fwd Win Byts', 'SYN Flag Cnt', 'ACK Flag Cnt', 'FIN Flag Cnt', 'PSH Flag Cnt', 'Flow IAT Max', 'Idle Mean', 'Pkt Len Min', 'Tot Bwd Pkts'], 'Normal sample 978': ['SYN Flag Cnt', 'Down/Up Ratio', 'Init Fwd Win Byts', 'FIN Flag Cnt', 'URG Flag Cnt', 'Flow IAT Std', 'Fwd Header Len', 'Bwd Pkt Len Max', 'TotLen Bwd Pkts', 'Fwd Pkt Len Max'], 'Normal sample 979': ['Init Bwd Win Byts', 'SYN Flag Cnt', 'Flow Pkts/s', 'Bwd Pkts/s', 'FIN Flag Cnt', 'Pkt Size Avg', 'Init Fwd Win Byts', 'Fwd Pkt Len Max', 'Fwd Pkt Len Std', 'Flow Duration'], 'Normal sample 980': ['Down/Up Ratio', 'Init Fwd Win Byts', 'SYN Flag Cnt', 'ACK Flag Cnt', 'FIN Flag Cnt', 'PSH Flag Cnt', 'Bwd Pkts/s', 'Flow IAT Max', 'Fwd IAT Max', 'Fwd Pkt Len Mean'], 'Normal sample 981': ['Down/Up Ratio', 'Init Fwd Win Byts', 'SYN Flag Cnt', 'FIN Flag Cnt', 'ACK Flag Cnt', 'Bwd IAT Tot', 'Bwd IAT Max', 'Subflow Bwd Byts', 'URG Flag Cnt', 'Subflow Fwd Byts'], 'Normal sample 982': ['Init Bwd Win Byts', 'Pkt Len Max', 'Pkt Len Mean', 'Pkt Len Std', 'Fwd IAT Tot', 'Pkt Size Avg', 'Down/Up Ratio', 'Fwd Pkt Len Max', 'Bwd IAT Tot', 'Fwd IAT Std'], 'Normal sample 983': ['Down/Up Ratio', 'Init Fwd Win Byts', 'FIN Flag Cnt', 'Bwd Pkts/s', 'Bwd IAT Std', 'Fwd Pkt Len Min', 'Bwd Pkt Len Min', 'Flow Pkts/s', 'PSH Flag Cnt', 'Bwd Seg Size Avg'], 'Normal sample 984': ['Down/Up Ratio', 'Init Fwd Win Byts', 'SYN Flag Cnt', 'ACK Flag Cnt', 'FIN Flag Cnt', 'PSH Flag Cnt', 'Flow IAT Max', 'Flow Duration', 'Bwd Pkt Len Min', 'Bwd IAT Std'], 'Normal sample 985': ['Init Bwd Win Byts', 'Fwd IAT Tot', 'Fwd Pkt Len Max', 'Fwd IAT Std', 'Fwd IAT Max', 'Flow IAT Max', 'FIN Flag Cnt', 'Idle Min', 'Fwd Pkt Len Mean', 'Fwd IAT Mean'], 'Normal sample 986': ['Init Bwd Win Byts', 'Fwd IAT Tot', 'Fwd IAT Std', 'Down/Up Ratio', 'Fwd Pkt Len Max', 'Bwd IAT Tot', 'FIN Flag Cnt', 'Fwd IAT Mean', 'Bwd Pkts/s', 'ACK Flag Cnt'], 'Normal sample 987': ['Init Bwd Win Byts', 'Fwd IAT Std', 'Fwd IAT Tot', 'Down/Up Ratio', 'Pkt Len Max', 'Bwd IAT Tot', 'ACK Flag Cnt', 'Init Fwd Win Byts', 'Bwd Pkts/s', 'Pkt Len Mean'], 'Normal sample 988': ['Init Bwd Win Byts', 'Fwd IAT Tot', 'Fwd Pkt Len Max', 'Bwd PSH Flags', 'Pkt Len Max', 'Fwd Pkt Len Std', 'Fwd Seg Size Avg', 'SYN Flag Cnt', 'Bwd Pkts/s', 'Fwd IAT Std'], 'Normal sample 989': ['Down/Up Ratio', 'Init Fwd Win Byts', 'SYN Flag Cnt', 'FIN Flag Cnt', 'Flow Pkts/s', 'Bwd Pkts/s', 'Flow IAT Std', 'Bwd IAT Std', 'Idle Max', 'Bwd Seg Size Avg'], 'Normal sample 990': ['Init Bwd Win Byts', 'Pkt Len Max', 'Pkt Len Std', 'Pkt Size Avg', 'Pkt Len Mean', 'Fwd IAT Tot', 'Flow Duration', 'Bwd IAT Tot', 'Fwd Pkt Len Max', 'Fwd IAT Max'], 'Normal sample 991': ['Init Bwd Win Byts', 'SYN Flag Cnt', 'Down/Up Ratio', 'Flow Pkts/s', 'FIN Flag Cnt', 'Idle Mean', 'Idle Min', 'Bwd Pkts/s', 'Pkt Len Var', 'Bwd IAT Std'], 'Normal sample 992': ['SYN Flag Cnt', 'Init Fwd Win Byts', 'FIN Flag Cnt', 'Pkt Size Avg', 'ACK Flag Cnt', 'Pkt Len Min', 'Flow Pkts/s', 'Pkt Len Mean', 'Bwd Pkt Len Min', 'Pkt Len Max'], 'Normal sample 993': ['Down/Up Ratio', 'Bwd PSH Flags', 'Init Fwd Win Byts', 'ACK Flag Cnt', 'Bwd Pkts/s', 'SYN Flag Cnt', 'PSH Flag Cnt', 'FIN Flag Cnt', 'Flow Pkts/s', 'Subflow Fwd Pkts'], 'Normal sample 994': ['SYN Flag Cnt', 'FIN Flag Cnt', 'Pkt Len Min', 'Pkt Size Avg', 'Fwd Pkt Len Min', 'Pkt Len Mean', 'Bwd Pkt Len Min', 'Fwd Pkt Len Mean', 'Fwd Seg Size Avg', 'ACK Flag Cnt'], 'Normal sample 995': ['SYN Flag Cnt', 'Fwd Pkt Len Std', 'Fwd Pkt Len Max', 'Fwd Pkt Len Mean', 'Pkt Size Avg', 'Pkt Len Max', 'Pkt Len Mean', 'Fwd Seg Size Avg', 'Bwd Pkts/s', 'Pkt Len Std'], 'Normal sample 996': ['Down/Up Ratio', 'Init Fwd Win Byts', 'SYN Flag Cnt', 'FIN Flag Cnt', 'Flow Pkts/s', 'Bwd Pkts/s', 'Bwd Pkt Len Mean', 'Subflow Fwd Byts', 'Flow IAT Max', 'Idle Max'], 'Normal sample 997': ['Init Bwd Win Byts', 'SYN Flag Cnt', 'ACK Flag Cnt', 'Flow IAT Max', 'Idle Max', 'Bwd IAT Mean', 'Flow IAT Std', 'Pkt Len Mean', 'Active Min', 'Bwd IAT Tot'], 'Normal sample 998': ['Init Bwd Win Byts', 'Pkt Size Avg', 'Pkt Len Mean', 'Pkt Len Max', 'Fwd Pkt Len Max', 'Flow Pkts/s', 'FIN Flag Cnt', 'Fwd Pkt Len Std', 'Pkt Len Std', 'Bwd IAT Std'], 'Normal sample 999': ['SYN Flag Cnt', 'Init Fwd Win Byts', 'FIN Flag Cnt', 'ACK Flag Cnt', 'Pkt Size Avg', 'Pkt Len Min', 'Flow Pkts/s', 'Pkt Len Mean', 'Pkt Len Max', 'Pkt Len Std'], 'Normal sample 1000': ['SYN Flag Cnt', 'Init Fwd Win Byts', 'ACK Flag Cnt', 'FIN Flag Cnt', 'Pkt Len Min', 'Flow Pkts/s', 'Bwd Pkts/s', 'Pkt Size Avg', 'Bwd Pkt Len Min', 'Pkt Len Mean'], 'Normal sample 1001': ['SYN Flag Cnt', 'Init Fwd Win Byts', 'FIN Flag Cnt', 'ACK Flag Cnt', 'Pkt Len Min', 'Pkt Size Avg', 'Flow Pkts/s', 'Pkt Len Mean', 'Bwd Pkt Len Min', 'Pkt Len Max'], 'Normal sample 1002': ['Init Bwd Win Byts', 'Fwd IAT Std', 'Fwd IAT Tot', 'Bwd Pkts/s', 'Down/Up Ratio', 'Fwd Pkt Len Mean', 'ACK Flag Cnt', 'Fwd IAT Max', 'Init Fwd Win Byts', 'Bwd IAT Tot'], 'Normal sample 1003': ['Init Bwd Win Byts', 'Pkt Size Avg', 'Pkt Len Max', 'Pkt Len Mean', 'Fwd Pkt Len Max', 'Flow Pkts/s', 'Fwd Pkt Len Std', 'Down/Up Ratio', 'Pkt Len Std', 'Bwd IAT Tot'], 'Normal sample 1004': ['SYN Flag Cnt', 'Init Fwd Win Byts', 'ACK Flag Cnt', 'FIN Flag Cnt', 'Pkt Len Min', 'Flow Pkts/s', 'Bwd Pkt Len Min', 'Pkt Size Avg', 'Bwd Pkts/s', 'Pkt Len Mean'], 'Normal sample 1005': ['Down/Up Ratio', 'Init Fwd Win Byts', 'SYN Flag Cnt', 'FIN Flag Cnt', 'ACK Flag Cnt', 'Flow IAT Max', 'Idle Mean', 'Bwd Pkts/s', 'Pkt Len Min', 'Active Min'], 'Normal sample 1006': ['Down/Up Ratio', 'Init Fwd Win Byts', 'SYN Flag Cnt', 'FIN Flag Cnt', 'ACK Flag Cnt', 'Flow IAT Max', 'PSH Flag Cnt', 'Bwd IAT Tot', 'Bwd Seg Size Avg', 'TotLen Fwd Pkts'], 'Normal sample 1007': ['Init Bwd Win Byts', 'Pkt Len Max', 'Pkt Size Avg', 'Pkt Len Mean', 'Fwd IAT Tot', 'Fwd IAT Max', 'Fwd Pkt Len Max', 'Bwd IAT Max', 'FIN Flag Cnt', 'Fwd IAT Std'], 'Normal sample 1008': ['SYN Flag Cnt', 'Init Fwd Win Byts', 'ACK Flag Cnt', 'FIN Flag Cnt', 'Pkt Len Min', 'Flow Pkts/s', 'Pkt Size Avg', 'Bwd Pkt Len Min', 'Pkt Len Mean', 'Bwd Pkts/s'], 'Normal sample 1009': ['Init Bwd Win Byts', 'Fwd Pkt Len Max', 'Pkt Len Mean', 'Fwd Pkt Len Mean', 'Fwd Pkt Len Std', 'Pkt Size Avg', 'FIN Flag Cnt', 'Pkt Len Max', 'Fwd Seg Size Avg', 'Down/Up Ratio'], 'Normal sample 1010': ['SYN Flag Cnt', 'Init Fwd Win Byts', 'ACK Flag Cnt', 'FIN Flag Cnt', 'Flow Pkts/s', 'Bwd Pkts/s', 'Pkt Len Min', 'Pkt Size Avg', 'Pkt Len Mean', 'Pkt Len Max'], 'Normal sample 1011': ['Init Bwd Win Byts', 'SYN Flag Cnt', 'Down/Up Ratio', 'Flow Pkts/s', 'FIN Flag Cnt', 'Idle Max', 'Flow Duration', 'Flow IAT Max', 'Flow IAT Mean', 'Bwd IAT Std'], 'Normal sample 1012': ['Down/Up Ratio', 'Bwd PSH Flags', 'Init Fwd Win Byts', 'SYN Flag Cnt', 'ACK Flag Cnt', 'Bwd Pkts/s', 'FIN Flag Cnt', 'PSH Flag Cnt', 'Bwd Pkt Len Mean', 'Active Std'], 'Normal sample 1013': ['SYN Flag Cnt', 'Init Fwd Win Byts', 'ACK Flag Cnt', 'FIN Flag Cnt', 'Pkt Len Min', 'Flow Pkts/s', 'Bwd Pkt Len Min', 'Pkt Size Avg', 'Bwd Pkts/s', 'Pkt Len Mean'], 'Normal sample 1014': ['Down/Up Ratio', 'Init Fwd Win Byts', 'SYN Flag Cnt', 'FIN Flag Cnt', 'ACK Flag Cnt', 'Flow Duration', 'Bwd Pkts/s', 'Bwd IAT Max', 'Flow IAT Mean', 'Fwd Act Data Pkts'], 'Normal sample 1015': ['SYN Flag Cnt', 'FIN Flag Cnt', 'Pkt Len Min', 'Pkt Size Avg', 'Init Fwd Win Byts', 'Bwd Pkt Len Min', 'Pkt Len Mean', 'Flow Pkts/s', 'ACK Flag Cnt', 'Fwd Pkt Len Min'], 'Normal sample 1016': ['Init Bwd Win Byts', 'Fwd Pkt Len Max', 'Fwd Seg Size Avg', 'Pkt Len Mean', 'Fwd Pkt Len Mean', 'Pkt Len Std', 'ACK Flag Cnt', 'URG Flag Cnt', 'Fwd IAT Tot', 'Idle Mean'], 'Normal sample 1017': ['Init Bwd Win Byts', 'SYN Flag Cnt', 'ACK Flag Cnt', 'Bwd IAT Max', 'Flow IAT Mean', 'Flow IAT Max', 'Idle Mean', 'Flow IAT Std', 'URG Flag Cnt', 'Bwd Pkt Len Mean'], 'Normal sample 1018': ['SYN Flag Cnt', 'Fwd Pkt Len Max', 'Flow Byts/s', 'Fwd Pkt Len Mean', 'Fwd Pkt Len Std', 'Pkt Len Max', 'Pkt Len Mean', 'Fwd Seg Size Avg', 'Pkt Size Avg', 'Pkt Len Std'], 'Normal sample 1019': ['SYN Flag Cnt', 'Init Fwd Win Byts', 'ACK Flag Cnt', 'FIN Flag Cnt', 'Flow Pkts/s', 'Pkt Len Min', 'Bwd Pkt Len Min', 'Bwd Pkts/s', 'Pkt Size Avg', 'Pkt Len Mean'], 'Normal sample 1020': ['Down/Up Ratio', 'Init Fwd Win Byts', 'FIN Flag Cnt', 'Bwd Pkts/s', 'Fwd Pkt Len Min', 'Flow Pkts/s', 'Bwd IAT Std', 'TotLen Bwd Pkts', 'Fwd Act Data Pkts', 'PSH Flag Cnt'], 'Normal sample 1021': ['Init Bwd Win Byts', 'Bwd IAT Tot', 'Bwd PSH Flags', 'Pkt Len Mean', 'SYN Flag Cnt', 'Fwd Pkt Len Mean', 'Fwd Pkt Len Max', 'Pkt Len Max', 'Fwd Pkt Len Std', 'Tot Bwd Pkts'], 'Normal sample 1022': ['SYN Flag Cnt', 'Init Fwd Win Byts', 'FIN Flag Cnt', 'ACK Flag Cnt', 'Pkt Size Avg', 'Flow Pkts/s', 'Pkt Len Min', 'Bwd Pkt Len Min', 'Bwd Pkts/s', 'Pkt Len Mean'], 'Normal sample 1023': ['SYN Flag Cnt', 'Init Fwd Win Byts', 'FIN Flag Cnt', 'Pkt Size Avg', 'ACK Flag Cnt', 'Pkt Len Min', 'Flow Pkts/s', 'Pkt Len Max', 'Bwd Pkt Len Min', 'Pkt Len Mean'], 'Normal sample 1024': ['Down/Up Ratio', 'Init Fwd Win Byts', 'SYN Flag Cnt', 'FIN Flag Cnt', 'Bwd Pkts/s', 'Flow Pkts/s', 'PSH Flag Cnt', 'Active Max', 'Subflow Fwd Pkts', 'Bwd Pkt Len Mean'], 'Normal sample 1025': ['SYN Flag Cnt', 'Pkt Size Avg', 'Bwd Pkt Len Min', 'FIN Flag Cnt', 'Pkt Len Min', 'Flow Pkts/s', 'Pkt Len Mean', 'Pkt Len Max', 'Bwd Pkts/s', 'Pkt Len Std'], 'Normal sample 1026': ['Init Bwd Win Byts', 'SYN Flag Cnt', 'Down/Up Ratio', 'FIN Flag Cnt', 'Flow Pkts/s', 'Flow IAT Max', 'Idle Min', 'Bwd IAT Max', 'Bwd IAT Std', 'Flow Duration'], 'Normal sample 1027': ['Down/Up Ratio', 'Init Fwd Win Byts', 'FIN Flag Cnt', 'Bwd Pkts/s', 'Flow IAT Max', 'Flow Pkts/s', 'Bwd IAT Tot', 'Fwd Pkt Len Min', 'PSH Flag Cnt', 'Flow Duration'], 'Normal sample 1028': ['Down/Up Ratio', 'Init Fwd Win Byts', 'FIN Flag Cnt', 'Bwd Pkts/s', 'Idle Min', 'Bwd IAT Max', 'Pkt Len Min', 'Flow IAT Max', 'TotLen Fwd Pkts', 'Flow Pkts/s'], 'Normal sample 1029': ['Init Bwd Win Byts', 'Fwd IAT Tot', 'Fwd IAT Std', 'Fwd IAT Max', 'Fwd Pkt Len Max', 'Fwd IAT Mean', 'Flow IAT Max', 'FIN Flag Cnt', 'Pkt Len Max', 'Bwd Pkts/s'], 'Normal sample 1030': ['PSH Flag Cnt', 'Down/Up Ratio', 'SYN Flag Cnt', 'Bwd PSH Flags', 'Pkt Len Var', 'Init Fwd Win Byts', 'Flow IAT Max', 'Bwd Header Len', 'Bwd Pkts/s', 'Flow Pkts/s'], 'Normal sample 1031': ['SYN Flag Cnt', 'FIN Flag Cnt', 'Pkt Len Min', 'Pkt Size Avg', 'Init Fwd Win Byts', 'Pkt Len Max', 'Bwd Pkt Len Min', 'Pkt Len Mean', 'Flow Pkts/s', 'Fwd Pkt Len Min'], 'Normal sample 1032': ['SYN Flag Cnt', 'Init Fwd Win Byts', 'FIN Flag Cnt', 'Pkt Size Avg', 'Pkt Len Min', 'Flow Pkts/s', 'ACK Flag Cnt', 'Pkt Len Mean', 'Bwd Pkt Len Min', 'Pkt Len Max'], 'Normal sample 1033': ['Down/Up Ratio', 'Init Fwd Win Byts', 'SYN Flag Cnt', 'FIN Flag Cnt', 'ACK Flag Cnt', 'Bwd Pkts/s', 'PSH Flag Cnt', 'Subflow Fwd Pkts', 'Fwd IAT Min', 'Bwd IAT Min'], 'Normal sample 1034': ['SYN Flag Cnt', 'Init Fwd Win Byts', 'FIN Flag Cnt', 'ACK Flag Cnt', 'Pkt Len Min', 'Pkt Size Avg', 'Flow Pkts/s', 'Pkt Len Max', 'Bwd Pkt Len Min', 'Bwd Pkts/s'], 'Normal sample 1035': ['Down/Up Ratio', 'Init Fwd Win Byts', 'FIN Flag Cnt', 'Bwd Pkts/s', 'Bwd Pkt Len Std', 'Idle Std', 'Bwd IAT Tot', 'Flow IAT Max', 'Fwd Pkt Len Std', 'Active Max'], 'Normal sample 1036': ['Init Bwd Win Byts', 'Fwd Pkt Len Max', 'Fwd Pkt Len Std', 'Fwd Seg Size Avg', 'Pkt Len Max', 'FIN Flag Cnt', 'Down/Up Ratio', 'Fwd Pkt Len Mean', 'Pkt Size Avg', 'TotLen Fwd Pkts'], 'Normal sample 1037': ['Init Bwd Win Byts', 'Pkt Len Max', 'Pkt Size Avg', 'Pkt Len Mean', 'Fwd Pkt Len Max', 'Flow Pkts/s', 'Pkt Len Std', 'Bwd IAT Max', 'Flow IAT Max', 'Bwd Header Len'], 'Normal sample 1038': ['SYN Flag Cnt', 'Pkt Size Avg', 'FIN Flag Cnt', 'Bwd Pkt Len Min', 'Pkt Len Min', 'Flow Pkts/s', 'Pkt Len Mean', 'Pkt Len Max', 'Bwd Pkts/s', 'Pkt Len Std'], 'Normal sample 1039': ['Init Bwd Win Byts', 'Pkt Len Max', 'Fwd Pkt Len Max', 'Pkt Len Mean', 'Fwd Pkt Len Std', 'ACK Flag Cnt', 'Fwd Seg Size Avg', 'Pkt Size Avg', 'FIN Flag Cnt', 'Bwd IAT Tot'], 'Normal sample 1040': ['Init Bwd Win Byts', 'Fwd IAT Std', 'Fwd IAT Tot', 'Bwd IAT Tot', 'Down/Up Ratio', 'Fwd IAT Max', 'Pkt Len Max', 'Bwd Pkts/s', 'FIN Flag Cnt', 'Init Fwd Win Byts'], 'Normal sample 1041': ['SYN Flag Cnt', 'Flow Byts/s', 'FIN Flag Cnt', 'Pkt Len Min', 'Pkt Size Avg', 'Bwd Pkt Len Min', 'Fwd Pkt Len Min', 'Down/Up Ratio', 'Pkt Len Mean', 'ACK Flag Cnt'], 'Normal sample 1042': ['Init Bwd Win Byts', 'Fwd IAT Tot', 'Fwd Seg Size Avg', 'SYN Flag Cnt', 'Bwd IAT Tot', 'Fwd Pkt Len Max', 'Fwd Pkt Len Mean', 'Fwd Pkt Len Std', 'Pkt Len Max', 'Pkt Size Avg'], 'Normal sample 1043': ['Init Bwd Win Byts', 'SYN Flag Cnt', 'Down/Up Ratio', 'Flow Pkts/s', 'Flow IAT Max', 'FIN Flag Cnt', 'Flow Duration', 'Idle Min', 'Active Mean', 'Flow IAT Std'], 'Normal sample 1044': ['Init Bwd Win Byts', 'Fwd IAT Tot', 'Bwd PSH Flags', 'Down/Up Ratio', 'SYN Flag Cnt', 'Fwd IAT Std', 'Fwd Pkt Len Max', 'Fwd Seg Size Avg', 'Tot Bwd Pkts', 'Bwd Pkts/s'], 'Normal sample 1045': ['Init Bwd Win Byts', 'Pkt Len Max', 'Fwd IAT Tot', 'Pkt Size Avg', 'Pkt Len Mean', 'Down/Up Ratio', 'Fwd Pkt Len Max', 'Pkt Len Std', 'Fwd IAT Max', 'Bwd Pkts/s'], 'Normal sample 1046': ['SYN Flag Cnt', 'Init Fwd Win Byts', 'ACK Flag Cnt', 'FIN Flag Cnt', 'Flow Pkts/s', 'Pkt Len Min', 'Bwd Pkts/s', 'Pkt Size Avg', 'Bwd Pkt Len Min', 'Pkt Len Max'], 'Normal sample 1047': ['SYN Flag Cnt', 'Init Fwd Win Byts', 'FIN Flag Cnt', 'ACK Flag Cnt', 'Pkt Len Min', 'Pkt Size Avg', 'Flow Pkts/s', 'Bwd Pkts/s', 'Pkt Len Mean', 'Bwd Pkt Len Min'], 'Normal sample 1048': ['Init Bwd Win Byts', 'Fwd IAT Tot', 'FIN Flag Cnt', 'Fwd Pkt Len Max', 'Pkt Len Max', 'Fwd IAT Max', 'Fwd IAT Std', 'Fwd Pkt Len Std', 'Flow IAT Max', 'Fwd Act Data Pkts'], 'Normal sample 1049': ['Down/Up Ratio', 'Init Fwd Win Byts', 'FIN Flag Cnt', 'Bwd Pkts/s', 'Idle Max', 'Bwd Pkt Len Min', 'Pkt Len Mean', 'Flow IAT Max', 'PSH Flag Cnt', 'Active Mean'], 'Normal sample 1050': ['SYN Flag Cnt', 'Init Fwd Win Byts', 'ACK Flag Cnt', 'FIN Flag Cnt', 'Flow Pkts/s', 'Pkt Len Min', 'Pkt Size Avg', 'Bwd Pkts/s', 'Pkt Len Max', 'Bwd Pkt Len Min'], 'Normal sample 1051': ['SYN Flag Cnt', 'Init Fwd Win Byts', 'FIN Flag Cnt', 'Pkt Size Avg', 'ACK Flag Cnt', 'Pkt Len Min', 'Flow Pkts/s', 'Pkt Len Mean', 'Bwd Pkt Len Min', 'Pkt Len Max'], 'Normal sample 1052': ['Init Bwd Win Byts', 'SYN Flag Cnt', 'Down/Up Ratio', 'FIN Flag Cnt', 'Flow Pkts/s', 'Flow IAT Max', 'Bwd IAT Std', 'Idle Mean', 'Subflow Fwd Pkts', 'Active Mean'], 'Normal sample 1053': ['Down/Up Ratio', 'Bwd PSH Flags', 'Init Fwd Win Byts', 'ACK Flag Cnt', 'SYN Flag Cnt', 'Bwd Pkts/s', 'PSH Flag Cnt', 'FIN Flag Cnt', 'Fwd IAT Std', 'Flow IAT Max'], 'Normal sample 1054': ['SYN Flag Cnt', 'Init Fwd Win Byts', 'FIN Flag Cnt', 'Pkt Len Min', 'ACK Flag Cnt', 'Flow Pkts/s', 'Pkt Size Avg', 'Bwd Pkts/s', 'Pkt Len Mean', 'Bwd Pkt Len Min'], 'Normal sample 1055': ['Init Bwd Win Byts', 'Pkt Len Max', 'Fwd IAT Tot', 'Fwd Pkt Len Max', 'Pkt Len Std', 'ACK Flag Cnt', 'Fwd IAT Std', 'Flow IAT Max', 'Idle Mean', 'Bwd IAT Tot'], 'Normal sample 1056': ['Down/Up Ratio', 'Bwd PSH Flags', 'Init Fwd Win Byts', 'ACK Flag Cnt', 'SYN Flag Cnt', 'PSH Flag Cnt', 'Bwd Pkts/s', 'FIN Flag Cnt', 'Bwd IAT Tot', 'Flow Pkts/s'], 'Normal sample 1057': ['Down/Up Ratio', 'Init Fwd Win Byts', 'SYN Flag Cnt', 'ACK Flag Cnt', 'FIN Flag Cnt', 'Bwd Pkts/s', 'PSH Flag Cnt', 'Fwd IAT Std', 'Flow Duration', 'URG Flag Cnt'], 'Normal sample 1058': ['Init Bwd Win Byts', 'Fwd IAT Tot', 'Fwd Pkt Len Max', 'Fwd IAT Std', 'Fwd IAT Max', 'FIN Flag Cnt', 'Fwd IAT Mean', 'Pkt Len Max', 'Flow Pkts/s', 'Flow IAT Max'], 'Normal sample 1059': ['SYN Flag Cnt', 'Fwd Pkt Len Max', 'Fwd Pkt Len Std', 'Fwd Pkt Len Mean', 'Pkt Len Max', 'Pkt Len Mean', 'Fwd Seg Size Avg', 'Pkt Size Avg', 'Bwd Pkts/s', 'FIN Flag Cnt'], 'Normal sample 1060': ['SYN Flag Cnt', 'Init Fwd Win Byts', 'ACK Flag Cnt', 'FIN Flag Cnt', 'Pkt Len Min', 'Flow Pkts/s', 'Pkt Size Avg', 'Bwd Pkt Len Min', 'Pkt Len Max', 'Bwd Pkts/s'], 'Normal sample 1061': ['Down/Up Ratio', 'Init Fwd Win Byts', 'SYN Flag Cnt', 'FIN Flag Cnt', 'ACK Flag Cnt', 'Bwd PSH Flags', 'Flow IAT Min', 'Flow IAT Mean', 'Flow Duration', 'Bwd Pkts/s'], 'Normal sample 1062': ['SYN Flag Cnt', 'Init Fwd Win Byts', 'Flow Pkts/s', 'FIN Flag Cnt', 'Fwd Pkt Len Max', 'Bwd Pkts/s', 'Fwd Pkt Len Std', 'Fwd Pkt Len Mean', 'Fwd Seg Size Avg', 'Pkt Len Max'], 'Normal sample 1063': ['Down/Up Ratio', 'Init Fwd Win Byts', 'SYN Flag Cnt', 'ACK Flag Cnt', 'FIN Flag Cnt', 'Bwd Pkts/s', 'TotLen Bwd Pkts', 'Bwd IAT Std', 'Idle Max', 'Bwd IAT Tot'], 'Normal sample 1064': ['SYN Flag Cnt', 'Fwd Pkt Len Max', 'Fwd Pkt Len Std', 'Fwd Pkt Len Mean', 'Pkt Len Max', 'Pkt Len Mean', 'Pkt Size Avg', 'Fwd Seg Size Avg', 'Bwd Pkts/s', 'Down/Up Ratio'], 'Normal sample 1065': ['Init Bwd Win Byts', 'SYN Flag Cnt', 'Flow Pkts/s', 'FIN Flag Cnt', 'Flow IAT Max', 'Bwd Pkts/s', 'Bwd IAT Std', 'Pkt Size Avg', 'Fwd Pkt Len Mean', 'Idle Mean'], 'Normal sample 1066': ['Down/Up Ratio', 'Init Fwd Win Byts', 'SYN Flag Cnt', 'ACK Flag Cnt', 'FIN Flag Cnt', 'Flow Duration', 'Subflow Fwd Byts', 'Flow IAT Std', 'Bwd IAT Tot', 'Bwd Pkts/s'], 'Normal sample 1067': ['Down/Up Ratio', 'Bwd PSH Flags', 'Init Fwd Win Byts', 'ACK Flag Cnt', 'SYN Flag Cnt', 'Bwd Pkts/s', 'FIN Flag Cnt', 'PSH Flag Cnt', 'Flow Pkts/s', 'URG Flag Cnt'], 'Normal sample 1068': ['SYN Flag Cnt', 'Fwd Pkt Len Max', 'Fwd Pkt Len Mean', 'Fwd Pkt Len Std', 'Fwd Seg Size Avg', 'Pkt Len Mean', 'Pkt Len Max', 'Pkt Size Avg', 'Flow Byts/s', 'Pkt Len Std'], 'Normal sample 1069': ['Down/Up Ratio', 'Init Fwd Win Byts', 'FIN Flag Cnt', 'Bwd Pkts/s', 'Flow Pkts/s', 'Bwd Pkt Len Min', 'Subflow Bwd Byts', 'Fwd Pkt Len Min', 'Flow Duration', 'Pkt Len Mean'], 'Normal sample 1070': ['SYN Flag Cnt', 'Fwd Pkt Len Std', 'Fwd Pkt Len Max', 'Fwd Pkt Len Mean', 'Pkt Len Mean', 'Fwd Seg Size Avg', 'Pkt Size Avg', 'Pkt Len Max', 'Bwd Pkts/s', 'Pkt Len Std'], 'Normal sample 1071': ['SYN Flag Cnt', 'Init Fwd Win Byts', 'FIN Flag Cnt', 'Pkt Size Avg', 'Flow Pkts/s', 'ACK Flag Cnt', 'Pkt Len Min', 'Bwd Pkt Len Min', 'Pkt Len Mean', 'Pkt Len Max'], 'Normal sample 1072': ['Init Bwd Win Byts', 'Pkt Size Avg', 'Pkt Len Max', 'Pkt Len Mean', 'Fwd Pkt Len Max', 'Down/Up Ratio', 'Fwd Pkt Len Std', 'Flow Pkts/s', 'Bwd IAT Tot', 'Bwd Header Len'], 'Normal sample 1073': ['SYN Flag Cnt', 'Init Fwd Win Byts', 'FIN Flag Cnt', 'ACK Flag Cnt', 'Pkt Len Min', 'Flow Pkts/s', 'Bwd Pkts/s', 'Pkt Size Avg', 'Bwd Pkt Len Min', 'Fwd Pkt Len Min'], 'Normal sample 1074': ['Down/Up Ratio', 'Init Fwd Win Byts', 'SYN Flag Cnt', 'FIN Flag Cnt', 'Bwd Pkts/s', 'Flow Pkts/s', 'PSH Flag Cnt', 'Subflow Fwd Byts', 'Bwd IAT Tot', 'Idle Mean'], 'Normal sample 1075': ['Down/Up Ratio', 'Init Fwd Win Byts', 'SYN Flag Cnt', 'FIN Flag Cnt', 'ACK Flag Cnt', 'Bwd Pkts/s', 'PSH Flag Cnt', 'Idle Max', 'Subflow Bwd Pkts', 'Flow Duration'], 'Normal sample 1076': ['SYN Flag Cnt', 'Init Fwd Win Byts', 'FIN Flag Cnt', 'TotLen Bwd Pkts', 'Flow IAT Std', 'TotLen Fwd Pkts', 'PSH Flag Cnt', 'Fwd IAT Min', 'Fwd IAT Tot', 'Bwd IAT Max'], 'Normal sample 1077': ['Down/Up Ratio', 'Init Fwd Win Byts', 'FIN Flag Cnt', 'Bwd Pkts/s', 'Bwd IAT Max', 'PSH Flag Cnt', 'Flow IAT Max', 'Pkt Len Min', 'Flow IAT Min', 'Flow IAT Std'], 'Normal sample 1078': ['SYN Flag Cnt', 'Init Fwd Win Byts', 'FIN Flag Cnt', 'Pkt Size Avg', 'ACK Flag Cnt', 'Pkt Len Max', 'Flow Pkts/s', 'Pkt Len Mean', 'Pkt Len Min', 'Bwd Pkt Len Min'], 'Normal sample 1079': ['SYN Flag Cnt', 'FIN Flag Cnt', 'Bwd Pkts/s', 'ACK Flag Cnt', 'Fwd IAT Tot', 'Fwd IAT Std', 'Pkt Len Min', 'Bwd IAT Tot', 'Bwd Pkt Len Min', 'Flow Pkts/s'], 'Normal sample 1080': ['Down/Up Ratio', 'Init Fwd Win Byts', 'SYN Flag Cnt', 'FIN Flag Cnt', 'ACK Flag Cnt', 'Bwd Pkts/s', 'Idle Mean', 'URG Flag Cnt', 'Active Mean', 'Pkt Len Min'], 'Normal sample 1081': ['SYN Flag Cnt', 'Flow Pkts/s', 'Pkt Size Avg', 'FIN Flag Cnt', 'Bwd Pkt Len Min', 'Pkt Len Min', 'Pkt Len Mean', 'Bwd Pkts/s', 'Pkt Len Max', 'Pkt Len Std'], 'Normal sample 1082': ['Down/Up Ratio', 'Init Fwd Win Byts', 'SYN Flag Cnt', 'FIN Flag Cnt', 'ACK Flag Cnt', 'Bwd Pkts/s', 'Tot Fwd Pkts', 'PSH Flag Cnt', 'Fwd Act Data Pkts', 'Fwd IAT Tot'], 'Normal sample 1083': ['Init Bwd Win Byts', 'SYN Flag Cnt', 'FIN Flag Cnt', 'Flow Pkts/s', 'Flow IAT Max', 'Down/Up Ratio', 'Bwd IAT Max', 'Bwd IAT Mean', 'Flow IAT Std', 'Fwd Act Data Pkts'], 'Normal sample 1084': ['Down/Up Ratio', 'Init Fwd Win Byts', 'SYN Flag Cnt', 'ACK Flag Cnt', 'FIN Flag Cnt', 'Fwd IAT Mean', 'Bwd Pkts/s', 'Fwd IAT Min', 'Fwd Header Len', 'TotLen Fwd Pkts'], 'Normal sample 1085': ['Init Bwd Win Byts', 'SYN Flag Cnt', 'FIN Flag Cnt', 'Flow Pkts/s', 'Down/Up Ratio', 'Idle Mean', 'Flow IAT Std', 'Bwd Pkts/s', 'Flow IAT Mean', 'Flow Duration'], 'Normal sample 1086': ['Down/Up Ratio', 'Init Fwd Win Byts', 'FIN Flag Cnt', 'Bwd Pkts/s', 'Bwd Pkt Len Min', 'Flow Duration', 'Flow IAT Max', 'Flow IAT Min', 'TotLen Fwd Pkts', 'Bwd Pkt Len Std'], 'Normal sample 1087': ['Init Bwd Win Byts', 'SYN Flag Cnt', 'Down/Up Ratio', 'Flow Pkts/s', 'Flow IAT Max', 'FIN Flag Cnt', 'Idle Max', 'Idle Min', 'Idle Mean', 'URG Flag Cnt'], 'Normal sample 1088': ['Init Bwd Win Byts', 'SYN Flag Cnt', 'FIN Flag Cnt', 'Flow IAT Max', 'Flow Pkts/s', 'Down/Up Ratio', 'Idle Max', 'Fwd Header Len', 'Idle Mean', 'Flow IAT Std'], 'Normal sample 1089': ['Down/Up Ratio', 'Init Fwd Win Byts', 'SYN Flag Cnt', 'ACK Flag Cnt', 'FIN Flag Cnt', 'PSH Flag Cnt', 'Bwd IAT Tot', 'Bwd IAT Std', 'Fwd IAT Max', 'Fwd Pkts/s'], 'Normal sample 1090': ['Down/Up Ratio', 'Init Fwd Win Byts', 'SYN Flag Cnt', 'ACK Flag Cnt', 'FIN Flag Cnt', 'Bwd IAT Tot', 'Bwd Pkts/s', 'PSH Flag Cnt', 'Fwd IAT Min', 'Flow IAT Std'], 'Normal sample 1091': ['Init Bwd Win Byts', 'Pkt Len Max', 'Fwd IAT Tot', 'Bwd IAT Tot', 'Pkt Len Mean', 'Down/Up Ratio', 'Pkt Len Std', 'Pkt Size Avg', 'Fwd Pkt Len Max', 'FIN Flag Cnt'], 'Normal sample 1092': ['SYN Flag Cnt', 'Init Fwd Win Byts', 'FIN Flag Cnt', 'Pkt Len Min', 'ACK Flag Cnt', 'Flow Pkts/s', 'Pkt Size Avg', 'Pkt Len Max', 'Bwd Pkt Len Min', 'Pkt Len Mean'], 'Normal sample 1093': ['Down/Up Ratio', 'Init Fwd Win Byts', 'FIN Flag Cnt', 'Bwd Pkts/s', 'Fwd Pkt Len Min', 'URG Flag Cnt', 'Flow Duration', 'Fwd Pkts/s', 'Bwd IAT Std', 'ACK Flag Cnt'], 'Normal sample 1094': ['SYN Flag Cnt', 'Flow Byts/s', 'FIN Flag Cnt', 'Pkt Len Min', 'Pkt Size Avg', 'Bwd Pkt Len Min', 'Fwd Pkt Len Min', 'Down/Up Ratio', 'Pkt Len Mean', 'Fwd Pkt Len Mean'], 'Normal sample 1095': ['Fwd Pkt Len Min', 'SYN Flag Cnt', 'Fwd Pkt Len Mean', 'Fwd Seg Size Avg', 'Fwd Pkt Len Max', 'Pkt Size Avg', 'Pkt Len Mean', 'Pkt Len Max', 'FIN Flag Cnt', 'Pkt Len Std'], 'Normal sample 1096': ['Down/Up Ratio', 'Init Fwd Win Byts', 'SYN Flag Cnt', 'FIN Flag Cnt', 'ACK Flag Cnt', 'Bwd IAT Tot', 'Bwd Pkts/s', 'PSH Flag Cnt', 'Bwd IAT Max', 'Flow Pkts/s'], 'Normal sample 1097': ['Down/Up Ratio', 'Init Fwd Win Byts', 'SYN Flag Cnt', 'FIN Flag Cnt', 'ACK Flag Cnt', 'Flow IAT Std', 'Flow Duration', 'Fwd IAT Max', 'Fwd Header Len', 'Bwd IAT Max'], 'Normal sample 1098': ['Down/Up Ratio', 'Init Fwd Win Byts', 'FIN Flag Cnt', 'Bwd Pkts/s', 'Bwd Pkt Len Mean', 'Bwd Pkt Len Min', 'Flow Pkts/s', 'Idle Std', 'TotLen Bwd Pkts', 'TotLen Fwd Pkts'], 'Normal sample 1099': ['Down/Up Ratio', 'Init Fwd Win Byts', 'FIN Flag Cnt', 'Bwd Pkts/s', 'Pkt Len Mean', 'URG Flag Cnt', 'Pkt Len Min', 'Bwd Pkt Len Mean', 'Fwd Act Data Pkts', 'Idle Mean'], 'Normal sample 1100': ['Init Fwd Win Byts', 'FIN Flag Cnt', 'Fwd IAT Mean', 'Down/Up Ratio', 'Flow IAT Std', 'Fwd Pkts/s', 'Fwd Header Len', 'Bwd IAT Max', 'Flow IAT Max', 'Bwd IAT Min'], 'Normal sample 1101': ['SYN Flag Cnt', 'Fwd Pkt Len Max', 'Fwd Pkt Len Mean', 'Pkt Len Max', 'Fwd Pkt Len Std', 'Pkt Size Avg', 'Fwd Seg Size Avg', 'Pkt Len Mean', 'Bwd Pkts/s', 'Pkt Len Std'], 'Normal sample 1102': ['Down/Up Ratio', 'Init Fwd Win Byts', 'SYN Flag Cnt', 'FIN Flag Cnt', 'ACK Flag Cnt', 'Idle Mean', 'Bwd Pkts/s', 'Fwd Header Len', 'Bwd IAT Tot', 'Bwd IAT Mean'], 'Normal sample 1103': ['SYN Flag Cnt', 'Init Fwd Win Byts', 'ACK Flag Cnt', 'FIN Flag Cnt', 'Bwd Pkts/s', 'Pkt Len Max', 'Pkt Size Avg', 'Pkt Len Std', 'Pkt Len Min', 'Pkt Len Mean'], 'Normal sample 1104': ['SYN Flag Cnt', 'Init Fwd Win Byts', 'ACK Flag Cnt', 'FIN Flag Cnt', 'Flow Pkts/s', 'Pkt Len Min', 'Pkt Size Avg', 'Bwd Pkts/s', 'Pkt Len Mean', 'Bwd Pkt Len Min'], 'Normal sample 1105': ['Init Bwd Win Byts', 'Pkt Len Max', 'Pkt Len Mean', 'Pkt Len Std', 'Pkt Size Avg', 'Down/Up Ratio', 'Bwd IAT Tot', 'Fwd IAT Tot', 'Flow IAT Max', 'Bwd Pkts/s'], 'Normal sample 1106': ['Init Bwd Win Byts', 'Pkt Len Max', 'Pkt Size Avg', 'Pkt Len Mean', 'Pkt Len Std', 'Fwd Pkt Len Max', 'Flow Pkts/s', 'Tot Bwd Pkts', 'Flow Duration', 'Subflow Fwd Pkts'], 'Normal sample 1107': ['Init Bwd Win Byts', 'SYN Flag Cnt', 'Fwd Pkt Len Max', 'Pkt Size Avg', 'Fwd Pkt Len Std', 'Down/Up Ratio', 'Fwd IAT Tot', 'Fwd Pkt Len Mean', 'Bwd Pkts/s', 'Pkt Len Mean'], 'Normal sample 1108': ['SYN Flag Cnt', 'Init Fwd Win Byts', 'FIN Flag Cnt', 'Pkt Len Min', 'Pkt Size Avg', 'Flow Pkts/s', 'ACK Flag Cnt', 'Pkt Len Mean', 'Bwd Pkt Len Min', 'Bwd Pkts/s'], 'Normal sample 1109': ['Down/Up Ratio', 'Init Fwd Win Byts', 'SYN Flag Cnt', 'FIN Flag Cnt', 'Bwd Pkts/s', 'PSH Flag Cnt', 'ACK Flag Cnt', 'Bwd IAT Max', 'Bwd IAT Std', 'Flow Pkts/s'], 'Normal sample 1110': ['Init Bwd Win Byts', 'Pkt Len Max', 'Pkt Len Mean', 'Pkt Len Std', 'Pkt Size Avg', 'Down/Up Ratio', 'Fwd IAT Tot', 'Fwd IAT Max', 'Fwd Pkt Len Std', 'Flow Duration'], 'Normal sample 1111': ['Down/Up Ratio', 'Bwd PSH Flags', 'ACK Flag Cnt', 'Init Fwd Win Byts', 'Bwd Pkts/s', 'SYN Flag Cnt', 'FIN Flag Cnt', 'PSH Flag Cnt', 'Flow Pkts/s', 'Fwd Pkt Len Min'], 'Normal sample 1112': ['Init Bwd Win Byts', 'SYN Flag Cnt', 'Flow Pkts/s', 'Bwd Pkts/s', 'Fwd Pkt Len Std', 'FIN Flag Cnt', 'Fwd Seg Size Avg', 'Fwd Pkt Len Max', 'Pkt Len Std', 'Pkt Size Avg'], 'Normal sample 1113': ['SYN Flag Cnt', 'Init Fwd Win Byts', 'ACK Flag Cnt', 'FIN Flag Cnt', 'Pkt Len Min', 'Flow Pkts/s', 'Pkt Size Avg', 'Bwd Pkts/s', 'Bwd Pkt Len Min', 'Pkt Len Max'], 'Normal sample 1114': ['SYN Flag Cnt', 'Flow Pkts/s', 'Pkt Size Avg', 'FIN Flag Cnt', 'Pkt Len Min', 'Bwd Pkt Len Min', 'Pkt Len Mean', 'Bwd Pkts/s', 'Pkt Len Max', 'Pkt Len Std'], 'Normal sample 1115': ['SYN Flag Cnt', 'Init Fwd Win Byts', 'ACK Flag Cnt', 'FIN Flag Cnt', 'Pkt Len Min', 'Flow Pkts/s', 'Pkt Size Avg', 'Bwd Pkts/s', 'Pkt Len Mean', 'Bwd Pkt Len Min'], 'Normal sample 1116': ['Init Bwd Win Byts', 'Fwd IAT Tot', 'SYN Flag Cnt', 'Fwd Pkt Len Max', 'Fwd IAT Std', 'Down/Up Ratio', 'Fwd Pkt Len Mean', 'Idle Min', 'Fwd Pkt Len Std', 'Bwd Pkts/s'], 'Normal sample 1117': ['Down/Up Ratio', 'Init Fwd Win Byts', 'SYN Flag Cnt', 'FIN Flag Cnt', 'Flow Pkts/s', 'Bwd Pkts/s', 'Flow IAT Std', 'Fwd IAT Min', 'Idle Max', 'Subflow Bwd Pkts'], 'Normal sample 1118': ['SYN Flag Cnt', 'Pkt Size Avg', 'Flow Pkts/s', 'FIN Flag Cnt', 'Pkt Len Min', 'Bwd Pkt Len Min', 'Pkt Len Mean', 'Pkt Len Max', 'Bwd Pkts/s', 'Pkt Len Std'], 'Normal sample 1119': ['SYN Flag Cnt', 'Init Fwd Win Byts', 'FIN Flag Cnt', 'Pkt Len Min', 'ACK Flag Cnt', 'Pkt Size Avg', 'Flow Pkts/s', 'Pkt Len Max', 'Bwd Pkt Len Min', 'Pkt Len Std'], 'Normal sample 1120': ['SYN Flag Cnt', 'ACK Flag Cnt', 'Init Fwd Win Byts', 'Down/Up Ratio', 'Bwd IAT Std', 'Idle Max', 'Fwd Header Len', 'Fwd IAT Max', 'Fwd IAT Min', 'Bwd IAT Min'], 'Normal sample 1121': ['SYN Flag Cnt', 'Init Fwd Win Byts', 'FIN Flag Cnt', 'Pkt Size Avg', 'ACK Flag Cnt', 'Pkt Len Min', 'Flow Pkts/s', 'Pkt Len Mean', 'Bwd Pkt Len Min', 'Pkt Len Max'], 'Normal sample 1122': ['Down/Up Ratio', 'Init Fwd Win Byts', 'FIN Flag Cnt', 'Bwd Pkts/s', 'Flow Pkts/s', 'Pkt Len Min', 'Fwd Pkt Len Min', 'Tot Bwd Pkts', 'Active Max', 'Flow Duration'], 'Normal sample 1123': ['SYN Flag Cnt', 'Init Fwd Win Byts', 'Down/Up Ratio', 'FIN Flag Cnt', 'Bwd IAT Std', 'Flow IAT Std', 'Active Min', 'Tot Fwd Pkts', 'Flow Duration', 'Fwd Act Data Pkts'], 'Normal sample 1124': ['Init Bwd Win Byts', 'Fwd IAT Tot', 'Bwd PSH Flags', 'SYN Flag Cnt', 'Bwd Pkts/s', 'FIN Flag Cnt', 'Fwd IAT Std', 'Down/Up Ratio', 'Fwd Pkt Len Max', 'Flow Pkts/s'], 'Normal sample 1125': ['Down/Up Ratio', 'Bwd PSH Flags', 'ACK Flag Cnt', 'Init Fwd Win Byts', 'SYN Flag Cnt', 'Bwd Pkts/s', 'PSH Flag Cnt', 'FIN Flag Cnt', 'Flow IAT Mean', 'Subflow Bwd Byts'], 'Normal sample 1126': ['Init Bwd Win Byts', 'Pkt Len Max', 'Pkt Size Avg', 'Pkt Len Mean', 'Fwd Pkt Len Max', 'Flow Pkts/s', 'Flow IAT Max', 'Down/Up Ratio', 'PSH Flag Cnt', 'Fwd IAT Std'], 'Normal sample 1127': ['Down/Up Ratio', 'Bwd PSH Flags', 'Init Fwd Win Byts', 'ACK Flag Cnt', 'SYN Flag Cnt', 'Bwd Pkts/s', 'PSH Flag Cnt', 'FIN Flag Cnt', 'Flow Pkts/s', 'Bwd IAT Tot'], 'Normal sample 1128': ['Init Bwd Win Byts', 'SYN Flag Cnt', 'Flow Pkts/s', 'FIN Flag Cnt', 'Flow IAT Max', 'Down/Up Ratio', 'Idle Max', 'Idle Mean', 'Bwd IAT Std', 'TotLen Bwd Pkts'], 'Normal sample 1129': ['SYN Flag Cnt', 'Init Fwd Win Byts', 'FIN Flag Cnt', 'Pkt Size Avg', 'Pkt Len Min', 'ACK Flag Cnt', 'Flow Pkts/s', 'Pkt Len Mean', 'Bwd Pkt Len Min', 'Pkt Len Max'], 'Normal sample 1130': ['SYN Flag Cnt', 'Init Fwd Win Byts', 'ACK Flag Cnt', 'FIN Flag Cnt', 'Pkt Len Min', 'Flow Pkts/s', 'Pkt Size Avg', 'Bwd Pkts/s', 'Bwd Pkt Len Min', 'Pkt Len Max'], 'Normal sample 1131': ['Init Bwd Win Byts', 'SYN Flag Cnt', 'FIN Flag Cnt', 'Flow Pkts/s', 'Bwd IAT Std', 'Down/Up Ratio', 'Idle Mean', 'Flow IAT Min', 'Subflow Bwd Pkts', 'Flow IAT Max'], 'Normal sample 1132': ['SYN Flag Cnt', 'Init Fwd Win Byts', 'FIN Flag Cnt', 'ACK Flag Cnt', 'Pkt Len Min', 'Flow Pkts/s', 'Pkt Size Avg', 'Bwd Pkt Len Min', 'Bwd Pkts/s', 'Pkt Len Mean'], 'Normal sample 1133': ['SYN Flag Cnt', 'Init Fwd Win Byts', 'ACK Flag Cnt', 'FIN Flag Cnt', 'Pkt Len Min', 'Pkt Size Avg', 'Pkt Len Max', 'Flow Pkts/s', 'Bwd Pkt Len Min', 'Pkt Len Std'], 'Normal sample 1134': ['SYN Flag Cnt', 'Init Fwd Win Byts', 'FIN Flag Cnt', 'Pkt Size Avg', 'Pkt Len Min', 'ACK Flag Cnt', 'Flow Pkts/s', 'Pkt Len Mean', 'Pkt Len Max', 'Bwd Pkt Len Min'], 'Normal sample 1135': ['Down/Up Ratio', 'Init Fwd Win Byts', 'SYN Flag Cnt', 'ACK Flag Cnt', 'FIN Flag Cnt', 'Bwd PSH Flags', 'Bwd Pkts/s', 'Active Min', 'Flow IAT Max', 'PSH Flag Cnt'], 'Normal sample 1136': ['SYN Flag Cnt', 'Init Fwd Win Byts', 'FIN Flag Cnt', 'Pkt Size Avg', 'Pkt Len Min', 'Flow Pkts/s', 'Pkt Len Mean', 'ACK Flag Cnt', 'Bwd Pkt Len Min', 'Pkt Len Std'], 'Normal sample 1137': ['Init Bwd Win Byts', 'SYN Flag Cnt', 'FIN Flag Cnt', 'Flow Pkts/s', 'Down/Up Ratio', 'Idle Mean', 'Idle Min', 'Fwd IAT Mean', 'Flow IAT Max', 'Bwd IAT Std'], 'Normal sample 1138': ['SYN Flag Cnt', 'FIN Flag Cnt', 'Bwd Pkts/s', 'Fwd IAT Std', 'ACK Flag Cnt', 'Fwd IAT Tot', 'Flow Pkts/s', 'Pkt Len Mean', 'Pkt Size Avg', 'Bwd IAT Max'], 'Normal sample 1139': ['Down/Up Ratio', 'Init Fwd Win Byts', 'SYN Flag Cnt', 'FIN Flag Cnt', 'ACK Flag Cnt', 'Pkt Len Min', 'Flow Pkts/s', 'Flow Duration', 'PSH Flag Cnt', 'Flow IAT Std'], 'Normal sample 1140': ['Init Bwd Win Byts', 'Pkt Size Avg', 'Pkt Len Mean', 'Pkt Len Max', 'Fwd Pkt Len Max', 'Fwd Pkt Len Std', 'Down/Up Ratio', 'Idle Min', 'PSH Flag Cnt', 'Flow Pkts/s'], 'Normal sample 1141': ['Init Bwd Win Byts', 'SYN Flag Cnt', 'Bwd Pkt Len Min', 'Down/Up Ratio', 'Pkt Size Avg', 'Subflow Bwd Byts', 'Flow Byts/s', 'Pkt Len Std', 'Fwd IAT Mean', 'Active Max'], 'Normal sample 1142': ['SYN Flag Cnt', 'Init Fwd Win Byts', 'ACK Flag Cnt', 'FIN Flag Cnt', 'Pkt Len Min', 'Flow Pkts/s', 'Pkt Size Avg', 'Pkt Len Max', 'Bwd Pkt Len Min', 'Pkt Len Mean'], 'Normal sample 1143': ['SYN Flag Cnt', 'Flow Byts/s', 'Init Fwd Win Byts', 'Fwd Pkt Len Std', 'Fwd Seg Size Avg', 'Fwd Pkt Len Mean', 'Bwd Pkts/s', 'Fwd Pkt Len Max', 'Down/Up Ratio', 'Pkt Size Avg'], 'Normal sample 1144': ['SYN Flag Cnt', 'Init Fwd Win Byts', 'ACK Flag Cnt', 'FIN Flag Cnt', 'Pkt Len Min', 'Flow Pkts/s', 'Bwd Pkt Len Min', 'Pkt Size Avg', 'Bwd Pkts/s', 'Pkt Len Mean'], 'Normal sample 1145': ['SYN Flag Cnt', 'FIN Flag Cnt', 'Pkt Size Avg', 'Bwd Pkt Len Min', 'Pkt Len Min', 'Pkt Len Mean', 'Fwd Pkt Len Min', 'Flow Pkts/s', 'Fwd Seg Size Avg', 'Fwd Pkt Len Mean'], 'Normal sample 1146': ['Init Fwd Win Byts', 'FIN Flag Cnt', 'Bwd Header Len', 'Idle Mean', 'Bwd IAT Min', 'Fwd IAT Max', 'Bwd IAT Max', 'Subflow Bwd Pkts', 'Bwd IAT Std', 'Down/Up Ratio'], 'Normal sample 1147': ['Down/Up Ratio', 'Init Fwd Win Byts', 'SYN Flag Cnt', 'ACK Flag Cnt', 'FIN Flag Cnt', 'PSH Flag Cnt', 'Flow IAT Max', 'Fwd Pkts/s', 'URG Flag Cnt', 'Active Mean'], 'Normal sample 1148': ['Init Bwd Win Byts', 'SYN Flag Cnt', 'Bwd Pkts/s', 'Down/Up Ratio', 'Flow IAT Max', 'Idle Max', 'PSH Flag Cnt', 'Flow IAT Std', 'Bwd Seg Size Avg', 'FIN Flag Cnt'], 'Normal sample 1149': ['SYN Flag Cnt', 'Init Fwd Win Byts', 'FIN Flag Cnt', 'ACK Flag Cnt', 'Pkt Len Min', 'Pkt Size Avg', 'Flow Pkts/s', 'Pkt Len Max', 'Bwd Pkts/s', 'Bwd Pkt Len Min'], 'Normal sample 1150': ['SYN Flag Cnt', 'Init Fwd Win Byts', 'Fwd Pkt Len Max', 'Fwd Pkt Len Mean', 'Fwd Pkt Len Std', 'Bwd Pkts/s', 'Fwd Seg Size Avg', 'Pkt Size Avg', 'Pkt Len Max', 'FIN Flag Cnt'], 'Normal sample 1151': ['Down/Up Ratio', 'Init Fwd Win Byts', 'SYN Flag Cnt', 'FIN Flag Cnt', 'ACK Flag Cnt', 'Bwd Pkts/s', 'Flow Pkts/s', 'Fwd Act Data Pkts', 'Idle Max', 'Bwd Pkt Len Min'], 'Normal sample 1152': ['SYN Flag Cnt', 'Init Fwd Win Byts', 'ACK Flag Cnt', 'FIN Flag Cnt', 'Flow Pkts/s', 'Pkt Len Min', 'Pkt Size Avg', 'Bwd Pkts/s', 'Bwd Pkt Len Min', 'Pkt Len Mean'], 'Normal sample 1153': ['SYN Flag Cnt', 'Fwd Pkt Len Std', 'Pkt Len Mean', 'Fwd Pkt Len Max', 'Fwd Pkt Len Mean', 'Pkt Size Avg', 'Fwd Seg Size Avg', 'Pkt Len Max', 'Pkt Len Std', 'Down/Up Ratio'], 'Normal sample 1154': ['SYN Flag Cnt', 'Fwd Pkt Len Max', 'Fwd Pkt Len Std', 'Pkt Len Max', 'Fwd Pkt Len Mean', 'Pkt Size Avg', 'Pkt Len Mean', 'Fwd Seg Size Avg', 'Bwd Pkts/s', 'FIN Flag Cnt'], 'Normal sample 1155': ['Init Bwd Win Byts', 'Fwd IAT Std', 'Fwd IAT Tot', 'Pkt Len Mean', 'Fwd IAT Max', 'Pkt Len Std', 'Fwd Pkt Len Max', 'Bwd Pkts/s', 'ACK Flag Cnt', 'Pkt Len Max'], 'Normal sample 1156': ['Init Bwd Win Byts', 'Fwd IAT Tot', 'Fwd IAT Std', 'Down/Up Ratio', 'Bwd Pkts/s', 'Fwd Pkt Len Max', 'Bwd IAT Tot', 'ACK Flag Cnt', 'Flow Pkts/s', 'FIN Flag Cnt'], 'Normal sample 1157': ['Init Bwd Win Byts', 'SYN Flag Cnt', 'Idle Min', 'ACK Flag Cnt', 'Idle Mean', 'Flow Pkts/s', 'Bwd Pkt Len Std', 'Flow IAT Max', 'Active Min', 'Idle Max'], 'Normal sample 1158': ['SYN Flag Cnt', 'FIN Flag Cnt', 'Pkt Size Avg', 'Bwd Pkt Len Min', 'Pkt Len Min', 'Fwd Pkt Len Min', 'Pkt Len Mean', 'Flow Byts/s', 'Fwd Seg Size Avg', 'Fwd Pkt Len Mean'], 'Normal sample 1159': ['Init Bwd Win Byts', 'SYN Flag Cnt', 'FIN Flag Cnt', 'Flow Pkts/s', 'Flow IAT Max', 'Fwd Header Len', 'Bwd IAT Max', 'Down/Up Ratio', 'Fwd IAT Min', 'Idle Mean'], 'Normal sample 1160': ['Init Bwd Win Byts', 'Fwd IAT Tot', 'Down/Up Ratio', 'Fwd Pkt Len Max', 'Bwd IAT Tot', 'Bwd Pkts/s', 'ACK Flag Cnt', 'Init Fwd Win Byts', 'Fwd Pkt Len Mean', 'Fwd IAT Std'], 'Normal sample 1161': ['SYN Flag Cnt', 'FIN Flag Cnt', 'Fwd Pkt Len Mean', 'Fwd Pkt Len Min', 'Flow Byts/s', 'Fwd Seg Size Avg', 'Pkt Len Min', 'Bwd Pkt Len Min', 'Pkt Size Avg', 'Fwd Pkt Len Max'], 'Normal sample 1162': ['Init Bwd Win Byts', 'FIN Flag Cnt', 'Pkt Len Max', 'Pkt Size Avg', 'Flow Pkts/s', 'Fwd Pkt Len Max', 'Flow IAT Max', 'Fwd Pkt Len Std', 'Bwd IAT Tot', 'Pkt Len Mean'], 'Normal sample 1163': ['SYN Flag Cnt', 'Pkt Len Min', 'FIN Flag Cnt', 'Pkt Size Avg', 'Init Fwd Win Byts', 'Bwd Pkt Len Min', 'Pkt Len Mean', 'Pkt Len Max', 'ACK Flag Cnt', 'Fwd Pkt Len Min'], 'Normal sample 1164': ['Init Fwd Win Byts', 'FIN Flag Cnt', 'Down/Up Ratio', 'Fwd Act Data Pkts', 'Flow Duration', 'Subflow Fwd Byts', 'Tot Bwd Pkts', 'TotLen Fwd Pkts', 'TotLen Bwd Pkts', 'Fwd Pkt Len Max'], 'Normal sample 1165': ['Init Bwd Win Byts', 'Fwd IAT Tot', 'Fwd IAT Std', 'Down/Up Ratio', 'Bwd IAT Tot', 'Init Fwd Win Byts', 'Pkt Len Std', 'Bwd Pkts/s', 'Pkt Len Mean', 'ACK Flag Cnt'], 'Normal sample 1166': ['SYN Flag Cnt', 'Init Fwd Win Byts', 'ACK Flag Cnt', 'FIN Flag Cnt', 'Flow Pkts/s', 'Pkt Size Avg', 'Pkt Len Min', 'Bwd Pkts/s', 'Bwd Pkt Len Min', 'Pkt Len Mean'], 'Normal sample 1167': ['Init Bwd Win Byts', 'Pkt Size Avg', 'Pkt Len Max', 'Pkt Len Mean', 'Fwd Pkt Len Max', 'FIN Flag Cnt', 'Flow Pkts/s', 'Fwd Seg Size Avg', 'Fwd Pkt Len Mean', 'Fwd IAT Tot'], 'Normal sample 1168': ['SYN Flag Cnt', 'Init Fwd Win Byts', 'FIN Flag Cnt', 'Pkt Size Avg', 'ACK Flag Cnt', 'Flow Pkts/s', 'Pkt Len Min', 'Pkt Len Mean', 'Bwd Pkt Len Min', 'Bwd Pkts/s'], 'Normal sample 1169': ['Init Bwd Win Byts', 'Pkt Len Max', 'Flow Pkts/s', 'Down/Up Ratio', 'Pkt Size Avg', 'Pkt Len Mean', 'Idle Max', 'Pkt Len Std', 'Tot Bwd Pkts', 'Fwd IAT Tot'], 'Normal sample 1170': ['Init Bwd Win Byts', 'Fwd IAT Tot', 'Bwd PSH Flags', 'Fwd IAT Std', 'Bwd Pkts/s', 'Down/Up Ratio', 'SYN Flag Cnt', 'Init Fwd Win Byts', 'Bwd IAT Mean', 'Bwd IAT Max'], 'Normal sample 1171': ['SYN Flag Cnt', 'Init Fwd Win Byts', 'FIN Flag Cnt', 'Pkt Len Min', 'Pkt Size Avg', 'Bwd Pkt Len Min', 'Flow Pkts/s', 'Pkt Len Mean', 'ACK Flag Cnt', 'Bwd Pkts/s'], 'Normal sample 1172': ['Init Bwd Win Byts', 'Fwd Pkt Len Std', 'Bwd IAT Tot', 'FIN Flag Cnt', 'Fwd Seg Size Avg', 'Fwd Pkt Len Max', 'Fwd Pkt Len Mean', 'Pkt Len Max', 'Bwd Pkts/s', 'Bwd Pkt Len Std'], 'Normal sample 1173': ['Init Bwd Win Byts', 'Pkt Size Avg', 'Pkt Len Max', 'Pkt Len Mean', 'Fwd Pkt Len Max', 'Down/Up Ratio', 'Flow Pkts/s', 'Pkt Len Std', 'Bwd IAT Max', 'Bwd IAT Mean'], 'Normal sample 1174': ['Init Bwd Win Byts', 'SYN Flag Cnt', 'FIN Flag Cnt', 'Flow Pkts/s', 'Bwd IAT Std', 'Flow IAT Max', 'Bwd IAT Max', 'Idle Max', 'Subflow Bwd Pkts', 'Flow Duration'], 'Normal sample 1175': ['Init Bwd Win Byts', 'SYN Flag Cnt', 'FIN Flag Cnt', 'Flow Pkts/s', 'Idle Min', 'Flow IAT Mean', 'Idle Mean', 'Flow Duration', 'Flow IAT Max', 'Bwd IAT Min'], 'Normal sample 1176': ['Init Bwd Win Byts', 'Fwd Pkt Len Max', 'Fwd IAT Tot', 'Bwd PSH Flags', 'SYN Flag Cnt', 'Pkt Len Max', 'Fwd Seg Size Avg', 'Fwd Pkt Len Mean', 'Idle Mean', 'Pkt Len Mean'], 'Normal sample 1177': ['SYN Flag Cnt', 'Flow Byts/s', 'Fwd Pkt Len Mean', 'Fwd Pkt Len Max', 'Down/Up Ratio', 'Fwd Pkt Len Std', 'Init Fwd Win Byts', 'Fwd Seg Size Avg', 'Pkt Len Max', 'Pkt Size Avg'], 'Normal sample 1178': ['SYN Flag Cnt', 'Pkt Size Avg', 'Bwd Pkt Len Min', 'FIN Flag Cnt', 'Pkt Len Min', 'Flow Pkts/s', 'Pkt Len Mean', 'Pkt Len Max', 'Pkt Len Std', 'Bwd Pkts/s'], 'Normal sample 1179': ['Down/Up Ratio', 'Init Fwd Win Byts', 'SYN Flag Cnt', 'ACK Flag Cnt', 'FIN Flag Cnt', 'TotLen Fwd Pkts', 'Pkt Len Min', 'Bwd Pkt Len Mean', 'Fwd IAT Std', 'Bwd Pkts/s'], 'Normal sample 1180': ['SYN Flag Cnt', 'Fwd IAT Std', 'ACK Flag Cnt', 'Fwd IAT Tot', 'Pkt Len Min', 'Bwd Pkts/s', 'Init Fwd Win Byts', 'Down/Up Ratio', 'Fwd IAT Max', 'FIN Flag Cnt'], 'Normal sample 1181': ['Init Bwd Win Byts', 'SYN Flag Cnt', 'Bwd Pkts/s', 'Down/Up Ratio', 'Flow Pkts/s', 'Bwd PSH Flags', 'FIN Flag Cnt', 'Pkt Len Mean', 'Init Fwd Win Byts', 'Active Max'], 'Normal sample 1182': ['Down/Up Ratio', 'Init Fwd Win Byts', 'FIN Flag Cnt', 'Bwd Pkts/s', 'Bwd Pkt Len Min', 'Bwd Pkt Len Std', 'PSH Flag Cnt', 'Flow IAT Max', 'Pkt Len Mean', 'Active Min'], 'Normal sample 1183': ['Init Bwd Win Byts', 'SYN Flag Cnt', 'Fwd IAT Std', 'Fwd IAT Tot', 'Bwd IAT Max', 'Bwd IAT Tot', 'Bwd Pkts/s', 'Fwd IAT Max', 'Init Fwd Win Byts', 'Flow Pkts/s'], 'Normal sample 1184': ['SYN Flag Cnt', 'Fwd Pkt Len Std', 'Fwd Pkt Len Max', 'Fwd Pkt Len Mean', 'Pkt Len Max', 'Pkt Size Avg', 'Pkt Len Mean', 'Fwd Seg Size Avg', 'Bwd Pkts/s', 'Init Fwd Win Byts'], 'Normal sample 1185': ['Init Bwd Win Byts', 'Pkt Len Max', 'Pkt Size Avg', 'Pkt Len Mean', 'Fwd Pkt Len Std', 'FIN Flag Cnt', 'Fwd Pkt Len Max', 'Flow Pkts/s', 'Bwd IAT Tot', 'Flow IAT Mean'], 'Normal sample 1186': ['SYN Flag Cnt', 'Init Fwd Win Byts', 'ACK Flag Cnt', 'Down/Up Ratio', 'Flow IAT Max', 'Flow Duration', 'Tot Fwd Pkts', 'Tot Bwd Pkts', 'TotLen Fwd Pkts', 'TotLen Bwd Pkts'], 'Normal sample 1187': ['Init Bwd Win Byts', 'Pkt Size Avg', 'Pkt Len Max', 'Flow Pkts/s', 'Down/Up Ratio', 'Pkt Len Mean', 'Fwd Pkt Len Mean', 'Fwd Pkt Len Max', 'FIN Flag Cnt', 'Bwd IAT Tot'], 'Normal sample 1188': ['Down/Up Ratio', 'Bwd PSH Flags', 'Init Fwd Win Byts', 'ACK Flag Cnt', 'SYN Flag Cnt', 'FIN Flag Cnt', 'Bwd Pkts/s', 'PSH Flag Cnt', 'Flow Pkts/s', 'Flow IAT Max'], 'Normal sample 1189': ['Init Bwd Win Byts', 'Fwd Pkt Len Std', 'Pkt Len Max', 'Fwd Pkt Len Mean', 'Pkt Size Avg', 'Fwd Pkt Len Max', 'Pkt Len Mean', 'Fwd Seg Size Avg', 'Bwd IAT Tot', 'FIN Flag Cnt'], 'Normal sample 1190': ['Down/Up Ratio', 'Bwd PSH Flags', 'Init Fwd Win Byts', 'SYN Flag Cnt', 'ACK Flag Cnt', 'Bwd Pkts/s', 'FIN Flag Cnt', 'PSH Flag Cnt', 'Flow Pkts/s', 'Active Max'], 'Normal sample 1191': ['Down/Up Ratio', 'Init Fwd Win Byts', 'SYN Flag Cnt', 'FIN Flag Cnt', 'ACK Flag Cnt', 'Active Mean', 'URG Flag Cnt', 'Fwd Pkts/s', 'Bwd Pkts/s', 'Flow Duration'], 'Normal sample 1192': ['Init Bwd Win Byts', 'SYN Flag Cnt', 'ACK Flag Cnt', 'Flow IAT Max', 'Idle Mean', 'Bwd IAT Max', 'Fwd IAT Min', 'Idle Max', 'Fwd Act Data Pkts', 'Fwd IAT Std'], 'Normal sample 1193': ['Init Bwd Win Byts', 'Pkt Len Max', 'Pkt Len Std', 'Fwd IAT Tot', 'Bwd IAT Tot', 'Pkt Len Mean', 'Pkt Size Avg', 'Down/Up Ratio', 'Fwd IAT Std', 'ACK Flag Cnt'], 'Normal sample 1194': ['Down/Up Ratio', 'Init Fwd Win Byts', 'SYN Flag Cnt', 'ACK Flag Cnt', 'FIN Flag Cnt', 'PSH Flag Cnt', 'Bwd Pkt Len Mean', 'Fwd IAT Std', 'Bwd IAT Std', 'Flow IAT Std'], 'Normal sample 1195': ['Down/Up Ratio', 'Init Fwd Win Byts', 'FIN Flag Cnt', 'Flow IAT Std', 'Flow IAT Max', 'Fwd Header Len', 'Flow Pkts/s', 'Flow Duration', 'Bwd Pkts/s', 'Pkt Len Min'], 'Normal sample 1196': ['SYN Flag Cnt', 'Pkt Len Min', 'FIN Flag Cnt', 'Fwd Pkt Len Min', 'Fwd Pkt Len Mean', 'Pkt Size Avg', 'Pkt Len Mean', 'Fwd Seg Size Avg', 'Flow Pkts/s', 'Fwd IAT Tot'], 'Normal sample 1197': ['SYN Flag Cnt', 'Init Fwd Win Byts', 'FIN Flag Cnt', 'Pkt Len Min', 'ACK Flag Cnt', 'Flow Pkts/s', 'Pkt Size Avg', 'Bwd Pkt Len Min', 'Bwd Pkts/s', 'Pkt Len Mean'], 'Normal sample 1198': ['SYN Flag Cnt', 'FIN Flag Cnt', 'Fwd Pkt Len Mean', 'Fwd Pkt Len Min', 'Pkt Len Min', 'Fwd Seg Size Avg', 'Flow Byts/s', 'Pkt Size Avg', 'Flow Pkts/s', 'Down/Up Ratio'], 'Normal sample 1199': ['Init Bwd Win Byts', 'Fwd IAT Tot', 'SYN Flag Cnt', 'Bwd IAT Max', 'Fwd IAT Std', 'Bwd IAT Mean', 'Down/Up Ratio', 'Bwd PSH Flags', 'Pkt Len Max', 'Init Fwd Win Byts'], 'Normal sample 1200': ['SYN Flag Cnt', 'Init Fwd Win Byts', 'ACK Flag Cnt', 'FIN Flag Cnt', 'Flow Pkts/s', 'Pkt Len Min', 'Pkt Size Avg', 'Pkt Len Mean', 'Bwd Pkts/s', 'Bwd Pkt Len Min'], 'Normal sample 1201': ['Init Bwd Win Byts', 'SYN Flag Cnt', 'Flow Pkts/s', 'FIN Flag Cnt', 'Down/Up Ratio', 'Flow IAT Max', 'Flow IAT Mean', 'Fwd IAT Max', 'Idle Max', 'Fwd IAT Mean'], 'Normal sample 1202': ['SYN Flag Cnt', 'Fwd Pkt Len Std', 'Fwd Pkt Len Mean', 'Fwd Pkt Len Max', 'Pkt Len Mean', 'Pkt Size Avg', 'Pkt Len Max', 'Fwd Seg Size Avg', 'Bwd Pkts/s', 'Init Fwd Win Byts'], 'Normal sample 1203': ['Down/Up Ratio', 'Bwd PSH Flags', 'Init Fwd Win Byts', 'ACK Flag Cnt', 'SYN Flag Cnt', 'Bwd Pkts/s', 'FIN Flag Cnt', 'PSH Flag Cnt', 'Flow Pkts/s', 'Pkt Len Mean'], 'Normal sample 1204': ['Down/Up Ratio', 'Init Fwd Win Byts', 'SYN Flag Cnt', 'ACK Flag Cnt', 'FIN Flag Cnt', 'Bwd Pkts/s', 'Flow Duration', 'Pkt Len Min', 'Bwd Seg Size Avg', 'Bwd IAT Tot'], 'Normal sample 1205': ['Init Bwd Win Byts', 'Pkt Len Max', 'Pkt Size Avg', 'Pkt Len Mean', 'FIN Flag Cnt', 'Flow Duration', 'Fwd Pkt Len Max', 'Flow Pkts/s', 'Fwd Pkt Len Mean', 'ACK Flag Cnt'], 'Normal sample 1206': ['Down/Up Ratio', 'Init Fwd Win Byts', 'SYN Flag Cnt', 'ACK Flag Cnt', 'FIN Flag Cnt', 'PSH Flag Cnt', 'Idle Max', 'Bwd Pkts/s', 'Bwd URG Flags', 'Fwd IAT Std'], 'Normal sample 1207': ['SYN Flag Cnt', 'Init Fwd Win Byts', 'FIN Flag Cnt', 'Pkt Size Avg', 'ACK Flag Cnt', 'Flow Pkts/s', 'Pkt Len Min', 'Pkt Len Mean', 'Bwd Pkt Len Min', 'Pkt Len Max'], 'Normal sample 1208': ['SYN Flag Cnt', 'Init Fwd Win Byts', 'ACK Flag Cnt', 'FIN Flag Cnt', 'Pkt Size Avg', 'Pkt Len Min', 'Flow Pkts/s', 'Bwd Pkt Len Min', 'Pkt Len Mean', 'Pkt Len Max'], 'Normal sample 1209': ['Init Bwd Win Byts', 'SYN Flag Cnt', 'ACK Flag Cnt', 'Idle Min', 'Bwd IAT Max', 'Bwd Pkt Len Std', 'URG Flag Cnt', 'Bwd Pkt Len Max', 'Bwd URG Flags', 'Bwd Pkt Len Mean'], 'Normal sample 1210': ['Down/Up Ratio', 'Init Fwd Win Byts', 'SYN Flag Cnt', 'ACK Flag Cnt', 'FIN Flag Cnt', 'Idle Mean', 'PSH Flag Cnt', 'Flow IAT Std', 'Bwd Pkts/s', 'Bwd URG Flags'], 'Normal sample 1211': ['SYN Flag Cnt', 'Pkt Len Min', 'FIN Flag Cnt', 'Pkt Size Avg', 'Init Fwd Win Byts', 'Bwd Pkt Len Min', 'Flow Pkts/s', 'Fwd Pkt Len Min', 'Pkt Len Max', 'Bwd Pkts/s'], 'Normal sample 1212': ['SYN Flag Cnt', 'Pkt Size Avg', 'FIN Flag Cnt', 'Pkt Len Min', 'Init Fwd Win Byts', 'Bwd Pkt Len Min', 'Pkt Len Mean', 'Pkt Len Max', 'ACK Flag Cnt', 'Flow Pkts/s'], 'Normal sample 1213': ['Down/Up Ratio', 'Init Fwd Win Byts', 'SYN Flag Cnt', 'FIN Flag Cnt', 'ACK Flag Cnt', 'Bwd IAT Min', 'Bwd IAT Max', 'Bwd Pkts/s', 'PSH Flag Cnt', 'Bwd Pkt Len Mean'], 'Normal sample 1214': ['SYN Flag Cnt', 'Fwd Pkt Len Mean', 'Fwd Pkt Len Max', 'Fwd Pkt Len Std', 'Bwd Pkts/s', 'Flow Byts/s', 'Pkt Len Mean', 'Pkt Size Avg', 'Fwd Seg Size Avg', 'Pkt Len Max'], 'Normal sample 1215': ['Init Bwd Win Byts', 'Pkt Len Max', 'Fwd IAT Tot', 'Fwd IAT Std', 'FIN Flag Cnt', 'Bwd Pkts/s', 'Fwd IAT Max', 'Pkt Size Avg', 'ACK Flag Cnt', 'Fwd IAT Mean'], 'Normal sample 1216': ['SYN Flag Cnt', 'Flow Pkts/s', 'Bwd Pkts/s', 'Init Fwd Win Byts', 'Down/Up Ratio', 'FIN Flag Cnt', 'Fwd Pkt Len Std', 'Fwd Pkt Len Max', 'Pkt Len Max', 'Fwd Seg Size Avg'], 'Normal sample 1217': ['SYN Flag Cnt', 'Init Fwd Win Byts', 'FIN Flag Cnt', 'ACK Flag Cnt', 'Pkt Size Avg', 'Bwd Pkt Len Min', 'Flow Pkts/s', 'Pkt Len Min', 'Pkt Len Mean', 'Pkt Len Max'], 'Normal sample 1218': ['SYN Flag Cnt', 'Flow Pkts/s', 'Bwd Pkts/s', 'Init Fwd Win Byts', 'Down/Up Ratio', 'FIN Flag Cnt', 'Fwd Pkt Len Max', 'Fwd Seg Size Avg', 'Pkt Len Max', 'Fwd Pkt Len Mean'], 'Normal sample 1219': ['SYN Flag Cnt', 'Init Fwd Win Byts', 'ACK Flag Cnt', 'Down/Up Ratio', 'Fwd Header Len', 'Fwd IAT Min', 'URG Flag Cnt', 'Subflow Bwd Pkts', 'Fwd Act Data Pkts', 'Fwd IAT Max'], 'Normal sample 1220': ['Down/Up Ratio', 'Init Fwd Win Byts', 'SYN Flag Cnt', 'ACK Flag Cnt', 'FIN Flag Cnt', 'Bwd Pkts/s', 'PSH Flag Cnt', 'Bwd IAT Max', 'Idle Mean', 'Idle Max'], 'Normal sample 1221': ['SYN Flag Cnt', 'Init Fwd Win Byts', 'FIN Flag Cnt', 'ACK Flag Cnt', 'Pkt Len Min', 'Pkt Size Avg', 'Flow Pkts/s', 'Bwd Pkts/s', 'Bwd Pkt Len Min', 'Pkt Len Mean'], 'Normal sample 1222': ['SYN Flag Cnt', 'Init Fwd Win Byts', 'ACK Flag Cnt', 'Down/Up Ratio', 'Idle Max', 'Flow IAT Max', 'Flow IAT Mean', 'Fwd Pkt Len Max', 'Fwd IAT Tot', 'TotLen Fwd Pkts'], 'Normal sample 1223': ['SYN Flag Cnt', 'FIN Flag Cnt', 'Flow Byts/s', 'Pkt Size Avg', 'Pkt Len Min', 'Bwd Pkt Len Min', 'ACK Flag Cnt', 'Fwd Pkt Len Min', 'Pkt Len Mean', 'Fwd Pkt Len Mean'], 'Normal sample 1224': ['SYN Flag Cnt', 'Init Fwd Win Byts', 'ACK Flag Cnt', 'FIN Flag Cnt', 'Flow Pkts/s', 'Pkt Len Min', 'Pkt Len Max', 'Pkt Size Avg', 'Bwd Pkts/s', 'Pkt Len Mean'], 'Normal sample 1225': ['SYN Flag Cnt', 'Fwd Pkt Len Max', 'Fwd Pkt Len Mean', 'Pkt Len Max', 'Pkt Size Avg', 'Pkt Len Mean', 'Fwd Pkt Len Std', 'Fwd Seg Size Avg', 'Bwd Pkts/s', 'Flow Byts/s'], 'Normal sample 1226': ['SYN Flag Cnt', 'ACK Flag Cnt', 'Init Fwd Win Byts', 'Down/Up Ratio', 'Active Mean', 'Active Min', 'Idle Max', 'Bwd IAT Std', 'Bwd Pkt Len Std', 'Flow Duration'], 'Normal sample 1227': ['SYN Flag Cnt', 'Init Fwd Win Byts', 'ACK Flag Cnt', 'FIN Flag Cnt', 'Flow Pkts/s', 'Pkt Len Min', 'Bwd Pkt Len Min', 'Pkt Len Max', 'Pkt Size Avg', 'Bwd Pkts/s'], 'Normal sample 1228': ['SYN Flag Cnt', 'Init Fwd Win Byts', 'ACK Flag Cnt', 'FIN Flag Cnt', 'Pkt Len Min', 'Pkt Size Avg', 'Flow Pkts/s', 'Bwd Pkt Len Min', 'Pkt Len Mean', 'Pkt Len Max'], 'Normal sample 1229': ['Init Bwd Win Byts', 'Fwd Pkt Len Max', 'Fwd IAT Tot', 'Fwd Pkt Len Std', 'Fwd Pkt Len Mean', 'Down/Up Ratio', 'Bwd IAT Tot', 'Pkt Len Max', 'Pkt Len Mean', 'Pkt Len Std'], 'Normal sample 1230': ['SYN Flag Cnt', 'Init Fwd Win Byts', 'FIN Flag Cnt', 'Pkt Size Avg', 'Pkt Len Min', 'ACK Flag Cnt', 'Pkt Len Max', 'Flow Pkts/s', 'Pkt Len Mean', 'Bwd Pkt Len Min'], 'Normal sample 1231': ['Down/Up Ratio', 'Init Fwd Win Byts', 'FIN Flag Cnt', 'Bwd Pkts/s', 'Fwd Pkt Len Min', 'Active Std', 'Idle Max', 'Flow IAT Std', 'Pkt Size Avg', 'Flow Pkts/s'], 'Normal sample 1232': ['Init Bwd Win Byts', 'SYN Flag Cnt', 'Flow Pkts/s', 'Bwd PSH Flags', 'Bwd Pkt Len Max', 'Fwd Pkt Len Std', 'Flow IAT Mean', 'Bwd Pkts/s', 'Bwd Pkt Len Mean', 'Flow Duration'], 'Normal sample 1233': ['SYN Flag Cnt', 'Init Fwd Win Byts', 'FIN Flag Cnt', 'ACK Flag Cnt', 'Pkt Size Avg', 'Bwd Pkt Len Min', 'Flow Pkts/s', 'Pkt Len Min', 'Pkt Len Mean', 'Pkt Len Max'], 'Normal sample 1234': ['Init Bwd Win Byts', 'SYN Flag Cnt', 'Bwd Pkts/s', 'Down/Up Ratio', 'Bwd PSH Flags', 'Flow Pkts/s', 'FIN Flag Cnt', 'PSH Flag Cnt', 'Pkt Size Avg', 'Pkt Len Mean'], 'Normal sample 1235': ['SYN Flag Cnt', 'FIN Flag Cnt', 'Pkt Size Avg', 'Bwd Pkt Len Min', 'Pkt Len Min', 'Pkt Len Mean', 'Fwd Pkt Len Min', 'Flow Pkts/s', 'Fwd Pkt Len Mean', 'Fwd Seg Size Avg'], 'Normal sample 1236': ['SYN Flag Cnt', 'Pkt Size Avg', 'FIN Flag Cnt', 'Flow Pkts/s', 'Pkt Len Mean', 'Pkt Len Max', 'Pkt Len Std', 'Bwd Pkt Len Min', 'Pkt Len Min', 'Bwd Pkts/s'], 'Normal sample 1237': ['SYN Flag Cnt', 'FIN Flag Cnt', 'Pkt Len Min', 'Pkt Size Avg', 'Init Fwd Win Byts', 'Bwd Pkt Len Min', 'Flow Pkts/s', 'Pkt Len Mean', 'Fwd Pkt Len Min', 'ACK Flag Cnt'], 'Normal sample 1238': ['Down/Up Ratio', 'Init Fwd Win Byts', 'SYN Flag Cnt', 'ACK Flag Cnt', 'FIN Flag Cnt', 'Bwd Pkts/s', 'PSH Flag Cnt', 'Pkt Len Min', 'Pkt Len Var', 'Fwd IAT Std'], 'Normal sample 1239': ['SYN Flag Cnt', 'Down/Up Ratio', 'Flow Pkts/s', 'Subflow Bwd Pkts', 'Flow IAT Mean', 'TotLen Fwd Pkts', 'Bwd Header Len', 'Bwd Pkt Len Mean', 'Bwd Pkt Len Min', 'Idle Max'], 'Normal sample 1240': ['Init Fwd Win Byts', 'FIN Flag Cnt', 'Down/Up Ratio', 'Tot Fwd Pkts', 'Subflow Fwd Pkts', 'URG Flag Cnt', 'Bwd IAT Mean', 'Active Min', 'Bwd IAT Std', 'Fwd IAT Mean'], 'Normal sample 1241': ['Down/Up Ratio', 'Init Fwd Win Byts', 'SYN Flag Cnt', 'ACK Flag Cnt', 'FIN Flag Cnt', 'Flow IAT Std', 'Bwd Pkt Len Max', 'PSH Flag Cnt', 'URG Flag Cnt', 'Idle Mean'], 'Normal sample 1242': ['Init Bwd Win Byts', 'Pkt Len Max', 'Pkt Size Avg', 'Pkt Len Mean', 'Fwd IAT Tot', 'Down/Up Ratio', 'Pkt Len Std', 'Fwd Pkt Len Max', 'Bwd Header Len', 'FIN Flag Cnt'], 'Normal sample 1243': ['Down/Up Ratio', 'Init Fwd Win Byts', 'SYN Flag Cnt', 'ACK Flag Cnt', 'FIN Flag Cnt', 'PSH Flag Cnt', 'Active Mean', 'Bwd Pkt Len Min', 'Pkt Len Min', 'Bwd IAT Min'], 'Normal sample 1244': ['Init Bwd Win Byts', 'Fwd IAT Tot', 'Bwd PSH Flags', 'Fwd IAT Std', 'SYN Flag Cnt', 'Bwd Pkts/s', 'Init Fwd Win Byts', 'Fwd Header Len', 'Pkt Len Max', 'Fwd Pkt Len Max'], 'Normal sample 1245': ['Down/Up Ratio', 'Init Fwd Win Byts', 'SYN Flag Cnt', 'FIN Flag Cnt', 'Bwd Pkts/s', 'Flow Pkts/s', 'Idle Max', 'Subflow Fwd Pkts', 'PSH Flag Cnt', 'Fwd IAT Tot'], 'Normal sample 1246': ['SYN Flag Cnt', 'Init Fwd Win Byts', 'ACK Flag Cnt', 'FIN Flag Cnt', 'Pkt Size Avg', 'Pkt Len Min', 'Flow Pkts/s', 'Bwd Pkt Len Min', 'Pkt Len Mean', 'Bwd Pkts/s'], 'Normal sample 1247': ['SYN Flag Cnt', 'FIN Flag Cnt', 'Init Fwd Win Byts', 'Fwd Pkts/s', 'Fwd Act Data Pkts', 'Bwd IAT Std', 'Flow IAT Std', 'TotLen Fwd Pkts', 'Fwd IAT Std', 'Bwd Pkt Len Max'], 'Normal sample 1248': ['Down/Up Ratio', 'Init Fwd Win Byts', 'SYN Flag Cnt', 'FIN Flag Cnt', 'ACK Flag Cnt', 'Bwd IAT Tot', 'Bwd Pkts/s', 'Bwd PSH Flags', 'Pkt Len Var', 'Flow IAT Mean'], 'Normal sample 1249': ['Down/Up Ratio', 'Init Fwd Win Byts', 'FIN Flag Cnt', 'Bwd Pkts/s', 'Pkt Len Min', 'Idle Mean', 'Flow IAT Max', 'PSH Flag Cnt', 'Flow Duration', 'Bwd URG Flags'], 'Normal sample 1250': ['SYN Flag Cnt', 'Down/Up Ratio', 'Init Fwd Win Byts', 'FIN Flag Cnt', 'Idle Max', 'Bwd IAT Std', 'Fwd Pkts/s', 'Fwd IAT Min', 'Fwd Header Len', 'Subflow Bwd Byts'], 'Normal sample 1251': ['SYN Flag Cnt', 'Pkt Len Min', 'FIN Flag Cnt', 'Pkt Size Avg', 'Init Fwd Win Byts', 'Bwd Pkt Len Min', 'Pkt Len Max', 'Pkt Len Mean', 'Flow Pkts/s', 'Fwd Pkt Len Min'], 'Normal sample 1252': ['Init Bwd Win Byts', 'Fwd IAT Tot', 'SYN Flag Cnt', 'Fwd Pkt Len Max', 'Init Fwd Win Byts', 'Fwd IAT Std', 'Active Mean', 'Fwd IAT Mean', 'Fwd Pkt Len Std', 'Subflow Fwd Pkts'], 'Normal sample 1253': ['SYN Flag Cnt', 'Init Fwd Win Byts', 'FIN Flag Cnt', 'ACK Flag Cnt', 'Pkt Size Avg', 'Pkt Len Min', 'Flow Pkts/s', 'Bwd Pkt Len Min', 'Bwd Pkts/s', 'Pkt Len Mean'], 'Normal sample 1254': ['Pkt Len Min', 'Init Fwd Win Byts', 'SYN Flag Cnt', 'Bwd Pkt Len Min', 'FIN Flag Cnt', 'ACK Flag Cnt', 'Bwd IAT Tot', 'Idle Mean', 'Bwd PSH Flags', 'Subflow Fwd Pkts'], 'Normal sample 1255': ['SYN Flag Cnt', 'Init Fwd Win Byts', 'ACK Flag Cnt', 'FIN Flag Cnt', 'Flow Pkts/s', 'Pkt Len Min', 'Pkt Size Avg', 'Bwd Pkts/s', 'Bwd Pkt Len Min', 'Pkt Len Mean'], 'Normal sample 1256': ['SYN Flag Cnt', 'Init Fwd Win Byts', 'FIN Flag Cnt', 'ACK Flag Cnt', 'Pkt Size Avg', 'Pkt Len Min', 'Flow Pkts/s', 'Bwd Pkt Len Min', 'Pkt Len Max', 'Pkt Len Mean'], 'Normal sample 1257': ['SYN Flag Cnt', 'Init Fwd Win Byts', 'FIN Flag Cnt', 'Active Min', 'URG Flag Cnt', 'Bwd Header Len', 'Flow Duration', 'Subflow Fwd Pkts', 'Fwd IAT Max', 'Idle Max'], 'Normal sample 1258': ['Down/Up Ratio', 'Init Fwd Win Byts', 'SYN Flag Cnt', 'ACK Flag Cnt', 'FIN Flag Cnt', 'Bwd Pkts/s', 'PSH Flag Cnt', 'Fwd Pkt Len Min', 'Subflow Bwd Byts', 'Subflow Fwd Pkts'], 'Normal sample 1259': ['Init Bwd Win Byts', 'Fwd Pkt Len Max', 'Fwd Seg Size Avg', 'Fwd Pkt Len Std', 'Fwd Pkt Len Mean', 'Flow Pkts/s', 'Init Fwd Win Byts', 'FIN Flag Cnt', 'Pkt Len Max', 'Pkt Len Mean'], 'Normal sample 1260': ['SYN Flag Cnt', 'Init Fwd Win Byts', 'ACK Flag Cnt', 'FIN Flag Cnt', 'Flow Pkts/s', 'Bwd Pkts/s', 'Pkt Len Min', 'Bwd Pkt Len Min', 'Pkt Len Mean', 'Pkt Size Avg'], 'Normal sample 1261': ['Down/Up Ratio', 'Init Fwd Win Byts', 'SYN Flag Cnt', 'FIN Flag Cnt', 'ACK Flag Cnt', 'PSH Flag Cnt', 'Bwd Pkts/s', 'Subflow Bwd Pkts', 'Idle Mean', 'Idle Max'], 'Normal sample 1262': ['Init Bwd Win Byts', 'SYN Flag Cnt', 'Bwd PSH Flags', 'Bwd Pkts/s', 'Bwd Pkt Len Min', 'Down/Up Ratio', 'Flow Pkts/s', 'FIN Flag Cnt', 'Pkt Size Avg', 'Idle Min'], 'Normal sample 1263': ['Init Bwd Win Byts', 'Bwd IAT Tot', 'Fwd Seg Size Avg', 'Bwd IAT Max', 'ACK Flag Cnt', 'Fwd Pkt Len Max', 'Pkt Size Avg', 'FIN Flag Cnt', 'Fwd IAT Std', 'Fwd IAT Max'], 'Normal sample 1264': ['SYN Flag Cnt', 'FIN Flag Cnt', 'Pkt Len Min', 'Pkt Size Avg', 'Bwd Pkt Len Min', 'Fwd Pkt Len Min', 'Pkt Len Mean', 'Fwd Pkt Len Mean', 'Flow Pkts/s', 'Fwd Seg Size Avg'], 'Normal sample 1265': ['SYN Flag Cnt', 'FIN Flag Cnt', 'Pkt Len Min', 'Fwd Pkt Len Mean', 'Flow Byts/s', 'Fwd Pkt Len Min', 'Pkt Size Avg', 'Fwd Seg Size Avg', 'Bwd Pkt Len Min', 'Pkt Len Mean'], 'Normal sample 1266': ['SYN Flag Cnt', 'Pkt Len Min', 'FIN Flag Cnt', 'Init Fwd Win Byts', 'Pkt Size Avg', 'Bwd Pkt Len Min', 'Flow Pkts/s', 'Fwd Pkt Len Min', 'Bwd Pkts/s', 'Pkt Len Mean'], 'Normal sample 1267': ['Init Bwd Win Byts', 'Fwd IAT Tot', 'Fwd IAT Std', 'ACK Flag Cnt', 'Pkt Len Max', 'Down/Up Ratio', 'Bwd IAT Tot', 'Bwd Pkts/s', 'Fwd IAT Max', 'Init Fwd Win Byts'], 'Normal sample 1268': ['Down/Up Ratio', 'Init Fwd Win Byts', 'SYN Flag Cnt', 'ACK Flag Cnt', 'FIN Flag Cnt', 'PSH Flag Cnt', 'Pkt Len Var', 'Flow IAT Max', 'Flow Duration', 'Idle Max'], 'Normal sample 1269': ['Init Bwd Win Byts', 'SYN Flag Cnt', 'FIN Flag Cnt', 'Flow Pkts/s', 'Flow IAT Max', 'Bwd IAT Std', 'Flow IAT Mean', 'Idle Max', 'Bwd IAT Max', 'Bwd Pkt Len Std'], 'Normal sample 1270': ['Init Fwd Win Byts', 'FIN Flag Cnt', 'Active Std', 'Down/Up Ratio', 'Fwd Pkt Len Max', 'Tot Fwd Pkts', 'Bwd IAT Std', 'Active Mean', 'URG Flag Cnt', 'Fwd Header Len'], 'Normal sample 1271': ['SYN Flag Cnt', 'Init Fwd Win Byts', 'FIN Flag Cnt', 'Pkt Size Avg', 'ACK Flag Cnt', 'Pkt Len Min', 'Flow Pkts/s', 'Bwd Pkts/s', 'Bwd Pkt Len Min', 'Pkt Len Mean'], 'Normal sample 1272': ['Init Bwd Win Byts', 'SYN Flag Cnt', 'Flow Pkts/s', 'Down/Up Ratio', 'Fwd Pkt Len Mean', 'FIN Flag Cnt', 'Fwd Seg Size Avg', 'Fwd Pkt Len Std', 'Fwd Pkt Len Max', 'Init Fwd Win Byts'], 'Normal sample 1273': ['Init Bwd Win Byts', 'SYN Flag Cnt', 'FIN Flag Cnt', 'Flow Pkts/s', 'Flow IAT Max', 'Idle Min', 'Idle Max', 'Bwd IAT Std', 'Bwd IAT Mean', 'Flow IAT Std'], 'Normal sample 1274': ['SYN Flag Cnt', 'Init Fwd Win Byts', 'ACK Flag Cnt', 'FIN Flag Cnt', 'Pkt Len Min', 'Pkt Size Avg', 'Flow Pkts/s', 'Pkt Len Mean', 'Bwd Pkts/s', 'Bwd Pkt Len Min'], 'Normal sample 1275': ['Init Bwd Win Byts', 'Flow Pkts/s', 'Bwd IAT Tot', 'Bwd IAT Max', 'Bwd IAT Mean', 'Bwd Pkts/s', 'Init Fwd Win Byts', 'ACK Flag Cnt', 'FIN Flag Cnt', 'Fwd Pkt Len Std'], 'Normal sample 1276': ['SYN Flag Cnt', 'Init Fwd Win Byts', 'ACK Flag Cnt', 'FIN Flag Cnt', 'Pkt Len Min', 'Pkt Size Avg', 'Flow Pkts/s', 'Bwd Pkt Len Min', 'Bwd Pkts/s', 'Pkt Len Max'], 'Normal sample 1277': ['SYN Flag Cnt', 'Init Fwd Win Byts', 'FIN Flag Cnt', 'ACK Flag Cnt', 'Pkt Len Min', 'Pkt Size Avg', 'Bwd Pkt Len Min', 'Flow Pkts/s', 'Bwd Pkts/s', 'Fwd Pkt Len Min'], 'Normal sample 1278': ['Down/Up Ratio', 'Init Fwd Win Byts', 'FIN Flag Cnt', 'Pkt Len Min', 'Bwd Pkts/s', 'Fwd Header Len', 'Flow Pkts/s', 'Flow IAT Max', 'Bwd IAT Std', 'Flow Duration'], 'Normal sample 1279': ['Init Bwd Win Byts', 'SYN Flag Cnt', 'Down/Up Ratio', 'Flow Pkts/s', 'Bwd Pkts/s', 'Init Fwd Win Byts', 'Pkt Size Avg', 'Fwd Pkt Len Std', 'Bwd PSH Flags', 'Active Max'], 'Normal sample 1280': ['SYN Flag Cnt', 'Pkt Len Min', 'FIN Flag Cnt', 'Pkt Size Avg', 'Init Fwd Win Byts', 'Bwd Pkt Len Min', 'Flow Pkts/s', 'Pkt Len Mean', 'Fwd Pkt Len Min', 'Bwd Pkts/s'], 'Normal sample 1281': ['SYN Flag Cnt', 'Init Fwd Win Byts', 'FIN Flag Cnt', 'Pkt Size Avg', 'Pkt Len Min', 'ACK Flag Cnt', 'Flow Pkts/s', 'Pkt Len Max', 'Bwd Pkt Len Min', 'Pkt Len Mean'], 'Normal sample 1282': ['SYN Flag Cnt', 'Init Fwd Win Byts', 'FIN Flag Cnt', 'ACK Flag Cnt', 'Pkt Len Min', 'Flow Pkts/s', 'Pkt Size Avg', 'Bwd Pkts/s', 'Bwd Pkt Len Min', 'Pkt Len Max'], 'Normal sample 1283': ['SYN Flag Cnt', 'Init Fwd Win Byts', 'FIN Flag Cnt', 'Pkt Size Avg', 'Pkt Len Min', 'ACK Flag Cnt', 'Flow Pkts/s', 'Bwd Pkt Len Min', 'Pkt Len Mean', 'Pkt Len Std'], 'Normal sample 1284': ['Init Bwd Win Byts', 'Fwd IAT Tot', 'Fwd IAT Max', 'Fwd IAT Std', 'ACK Flag Cnt', 'Init Fwd Win Byts', 'Active Std', 'FIN Flag Cnt', 'Bwd Pkts/s', 'Fwd IAT Mean'], 'Normal sample 1285': ['Down/Up Ratio', 'Init Fwd Win Byts', 'SYN Flag Cnt', 'ACK Flag Cnt', 'FIN Flag Cnt', 'Bwd IAT Max', 'Flow Duration', 'Fwd Pkt Len Mean', 'Flow IAT Std', 'Bwd Pkts/s'], 'Normal sample 1286': ['SYN Flag Cnt', 'Init Fwd Win Byts', 'Flow Pkts/s', 'Bwd IAT Tot', 'Fwd IAT Mean', 'Fwd IAT Min', 'Flow Duration', 'Fwd IAT Tot', 'Fwd IAT Max', 'Subflow Bwd Byts'], 'Normal sample 1287': ['SYN Flag Cnt', 'Down/Up Ratio', 'FIN Flag Cnt', 'Init Fwd Win Byts', 'Bwd IAT Std', 'Bwd URG Flags', 'Flow IAT Std', 'Tot Fwd Pkts', 'TotLen Fwd Pkts', 'TotLen Bwd Pkts'], 'Normal sample 1288': ['Down/Up Ratio', 'Init Fwd Win Byts', 'FIN Flag Cnt', 'Flow Pkts/s', 'Bwd IAT Std', 'Bwd Pkts/s', 'Fwd Pkt Len Mean', 'Subflow Bwd Byts', 'Bwd Pkt Len Mean', 'Bwd IAT Tot'], 'Normal sample 1289': ['Down/Up Ratio', 'Init Fwd Win Byts', 'FIN Flag Cnt', 'Subflow Bwd Byts', 'Flow IAT Std', 'Flow IAT Max', 'Bwd Pkts/s', 'Subflow Fwd Byts', 'Fwd IAT Tot', 'Fwd Pkt Len Min'], 'Normal sample 1290': ['Init Bwd Win Byts', 'Fwd IAT Tot', 'Pkt Len Max', 'Flow Pkts/s', 'Fwd Pkt Len Std', 'Fwd Pkt Len Max', 'Pkt Size Avg', 'Bwd IAT Tot', 'FIN Flag Cnt', 'Bwd Pkts/s'], 'Normal sample 1291': ['SYN Flag Cnt', 'Init Fwd Win Byts', 'FIN Flag Cnt', 'ACK Flag Cnt', 'Pkt Len Min', 'Pkt Size Avg', 'Bwd Pkt Len Min', 'Flow Pkts/s', 'Pkt Len Mean', 'Bwd Pkts/s'], 'Normal sample 1292': ['SYN Flag Cnt', 'Init Fwd Win Byts', 'FIN Flag Cnt', 'ACK Flag Cnt', 'Pkt Len Min', 'Pkt Size Avg', 'Pkt Len Max', 'Flow Pkts/s', 'Bwd Pkt Len Min', 'Pkt Len Mean'], 'Normal sample 1293': ['Init Bwd Win Byts', 'Fwd Pkt Len Max', 'Fwd Pkt Len Std', 'Pkt Len Max', 'Fwd Pkt Len Mean', 'Pkt Len Mean', 'Fwd Seg Size Avg', 'Pkt Size Avg', 'Fwd IAT Tot', 'Flow Pkts/s'], 'Normal sample 1294': ['SYN Flag Cnt', 'Pkt Size Avg', 'FIN Flag Cnt', 'Bwd Pkt Len Min', 'Pkt Len Min', 'Flow Pkts/s', 'Pkt Len Mean', 'Pkt Len Max', 'Pkt Len Std', 'Bwd Pkts/s'], 'Normal sample 1295': ['SYN Flag Cnt', 'Pkt Len Min', 'FIN Flag Cnt', 'Pkt Size Avg', 'ACK Flag Cnt', 'Pkt Len Mean', 'Fwd Pkt Len Min', 'Flow Pkts/s', 'Fwd Pkt Len Mean', 'Bwd Pkt Len Min'], 'Normal sample 1296': ['Down/Up Ratio', 'Init Fwd Win Byts', 'SYN Flag Cnt', 'FIN Flag Cnt', 'ACK Flag Cnt', 'Idle Max', 'PSH Flag Cnt', 'Idle Mean', 'Bwd Pkt Len Std', 'Bwd IAT Std'], 'Normal sample 1297': ['SYN Flag Cnt', 'Init Fwd Win Byts', 'FIN Flag Cnt', 'ACK Flag Cnt', 'Pkt Size Avg', 'Pkt Len Min', 'Bwd Pkt Len Min', 'Pkt Len Mean', 'Flow Pkts/s', 'Pkt Len Max'], 'Normal sample 1298': ['Down/Up Ratio', 'Init Fwd Win Byts', 'SYN Flag Cnt', 'ACK Flag Cnt', 'FIN Flag Cnt', 'Pkt Len Min', 'Bwd Pkts/s', 'Bwd IAT Tot', 'TotLen Fwd Pkts', 'Flow IAT Max'], 'Normal sample 1299': ['SYN Flag Cnt', 'Init Fwd Win Byts', 'ACK Flag Cnt', 'FIN Flag Cnt', 'Pkt Len Min', 'Flow Pkts/s', 'Bwd Pkts/s', 'Pkt Size Avg', 'Pkt Len Max', 'Pkt Len Mean'], 'Normal sample 1300': ['Init Fwd Win Byts', 'FIN Flag Cnt', 'Bwd IAT Std', 'Idle Max', 'Fwd IAT Std', 'Fwd IAT Mean', 'Bwd IAT Max', 'Active Mean', 'Fwd IAT Tot', 'Bwd Pkt Len Min'], 'Normal sample 1301': ['Fwd IAT Tot', 'SYN Flag Cnt', 'ACK Flag Cnt', 'Fwd IAT Min', 'Init Fwd Win Byts', 'Fwd IAT Mean', 'Flow Pkts/s', 'Fwd IAT Max', 'Bwd Pkts/s', 'FIN Flag Cnt'], 'Normal sample 1302': ['SYN Flag Cnt', 'Init Fwd Win Byts', 'FIN Flag Cnt', 'ACK Flag Cnt', 'Pkt Len Min', 'Pkt Size Avg', 'Flow Pkts/s', 'Pkt Len Mean', 'Bwd Pkt Len Min', 'Pkt Len Max'], 'Normal sample 1303': ['SYN Flag Cnt', 'Init Fwd Win Byts', 'FIN Flag Cnt', 'ACK Flag Cnt', 'Flow Pkts/s', 'Pkt Size Avg', 'Pkt Len Min', 'Pkt Len Max', 'Bwd Pkt Len Min', 'Pkt Len Mean'], 'Normal sample 1304': ['Down/Up Ratio', 'Init Fwd Win Byts', 'SYN Flag Cnt', 'FIN Flag Cnt', 'Bwd Pkts/s', 'PSH Flag Cnt', 'Flow Pkts/s', 'Bwd IAT Std', 'Flow IAT Max', 'Idle Max'], 'Normal sample 1305': ['Down/Up Ratio', 'Init Fwd Win Byts', 'SYN Flag Cnt', 'ACK Flag Cnt', 'FIN Flag Cnt', 'Bwd Pkts/s', 'PSH Flag Cnt', 'Bwd IAT Min', 'Flow Duration', 'URG Flag Cnt'], 'Normal sample 1306': ['SYN Flag Cnt', 'Init Fwd Win Byts', 'FIN Flag Cnt', 'Pkt Len Min', 'ACK Flag Cnt', 'Pkt Size Avg', 'Flow Pkts/s', 'Pkt Len Max', 'Bwd Pkt Len Min', 'Pkt Len Std'], 'Normal sample 1307': ['Down/Up Ratio', 'Bwd PSH Flags', 'Init Fwd Win Byts', 'ACK Flag Cnt', 'SYN Flag Cnt', 'Bwd Pkts/s', 'PSH Flag Cnt', 'FIN Flag Cnt', 'Flow Pkts/s', 'Subflow Fwd Pkts'], 'Normal sample 1308': ['SYN Flag Cnt', 'FIN Flag Cnt', 'Pkt Len Min', 'Init Fwd Win Byts', 'Pkt Size Avg', 'Pkt Len Mean', 'Bwd Pkt Len Min', 'Pkt Len Max', 'Flow Pkts/s', 'Bwd Pkts/s'], 'Normal sample 1309': ['Init Fwd Win Byts', 'FIN Flag Cnt', 'Down/Up Ratio', 'Active Std', 'Bwd IAT Tot', 'Flow IAT Max', 'URG Flag Cnt', 'Fwd IAT Tot', 'Bwd PSH Flags', 'Bwd Header Len'], 'Normal sample 1310': ['Down/Up Ratio', 'Init Fwd Win Byts', 'SYN Flag Cnt', 'ACK Flag Cnt', 'FIN Flag Cnt', 'Flow Duration', 'Flow IAT Max', 'Fwd Act Data Pkts', 'Bwd Pkt Len Max', 'Bwd URG Flags'], 'Normal sample 1311': ['SYN Flag Cnt', 'Fwd Pkt Len Max', 'Fwd Pkt Len Mean', 'Fwd Pkt Len Std', 'Pkt Size Avg', 'Pkt Len Max', 'Pkt Len Mean', 'Fwd Seg Size Avg', 'Bwd Pkts/s', 'Pkt Len Std'], 'Normal sample 1312': ['SYN Flag Cnt', 'Fwd Pkt Len Max', 'Fwd Pkt Len Mean', 'Fwd Pkt Len Std', 'Pkt Len Mean', 'Pkt Len Max', 'Fwd Seg Size Avg', 'Pkt Size Avg', 'Bwd Pkts/s', 'Down/Up Ratio'], 'Normal sample 1313': ['Down/Up Ratio', 'Init Fwd Win Byts', 'SYN Flag Cnt', 'ACK Flag Cnt', 'FIN Flag Cnt', 'Bwd Pkts/s', 'Subflow Fwd Byts', 'Flow IAT Std', 'Bwd IAT Tot', 'Flow Byts/s'], 'Normal sample 1314': ['SYN Flag Cnt', 'Init Fwd Win Byts', 'ACK Flag Cnt', 'FIN Flag Cnt', 'Flow Pkts/s', 'Pkt Len Min', 'Pkt Size Avg', 'Bwd Pkts/s', 'Pkt Len Mean', 'Bwd Pkt Len Min'], 'Normal sample 1315': ['SYN Flag Cnt', 'Init Fwd Win Byts', 'FIN Flag Cnt', 'Pkt Size Avg', 'Pkt Len Min', 'ACK Flag Cnt', 'Pkt Len Max', 'Flow Pkts/s', 'Bwd Pkt Len Min', 'Pkt Len Mean'], 'Normal sample 1316': ['SYN Flag Cnt', 'Init Fwd Win Byts', 'FIN Flag Cnt', 'Pkt Size Avg', 'Pkt Len Min', 'ACK Flag Cnt', 'Flow Pkts/s', 'Pkt Len Mean', 'Pkt Len Max', 'Bwd Pkt Len Min'], 'Normal sample 1317': ['SYN Flag Cnt', 'Init Fwd Win Byts', 'FIN Flag Cnt', 'Pkt Size Avg', 'ACK Flag Cnt', 'Pkt Len Min', 'Flow Pkts/s', 'Bwd Pkt Len Min', 'Pkt Len Mean', 'Pkt Len Max'], 'Normal sample 1318': ['Down/Up Ratio', 'Init Fwd Win Byts', 'FIN Flag Cnt', 'Bwd Pkts/s', 'ACK Flag Cnt', 'Bwd IAT Std', 'PSH Flag Cnt', 'Bwd IAT Max', 'Flow IAT Std', 'Pkt Len Min'], 'Normal sample 1319': ['Init Bwd Win Byts', 'Pkt Len Max', 'Pkt Len Mean', 'Fwd IAT Tot', 'Pkt Size Avg', 'Fwd Pkt Len Max', 'Pkt Len Std', 'Down/Up Ratio', 'Fwd IAT Std', 'Fwd Header Len'], 'Normal sample 1320': ['SYN Flag Cnt', 'Init Fwd Win Byts', 'Down/Up Ratio', 'FIN Flag Cnt', 'Bwd IAT Std', 'Active Mean', 'Fwd IAT Tot', 'Bwd IAT Min', 'Idle Max', 'Flow IAT Mean'], 'Normal sample 1321': ['SYN Flag Cnt', 'Pkt Len Min', 'FIN Flag Cnt', 'Init Fwd Win Byts', 'Pkt Size Avg', 'Bwd Pkt Len Min', 'Pkt Len Mean', 'Flow Pkts/s', 'ACK Flag Cnt', 'Fwd Pkt Len Min'], 'Normal sample 1322': ['SYN Flag Cnt', 'Init Fwd Win Byts', 'Pkt Size Avg', 'FIN Flag Cnt', 'Pkt Len Min', 'Flow Pkts/s', 'Bwd Pkt Len Min', 'Pkt Len Mean', 'Pkt Len Max', 'ACK Flag Cnt'], 'Normal sample 1323': ['Down/Up Ratio', 'Init Fwd Win Byts', 'FIN Flag Cnt', 'Bwd Pkts/s', 'Flow Pkts/s', 'Flow IAT Max', 'Bwd PSH Flags', 'Tot Fwd Pkts', 'Fwd IAT Tot', 'Bwd IAT Max'], 'Normal sample 1324': ['SYN Flag Cnt', 'Pkt Len Min', 'FIN Flag Cnt', 'Init Fwd Win Byts', 'Pkt Size Avg', 'Bwd Pkt Len Min', 'Fwd Pkt Len Min', 'Flow Pkts/s', 'ACK Flag Cnt', 'Pkt Len Mean'], 'Normal sample 1325': ['Init Bwd Win Byts', 'SYN Flag Cnt', 'Bwd Pkts/s', 'Down/Up Ratio', 'FIN Flag Cnt', 'Flow Pkts/s', 'Fwd Pkt Len Mean', 'Bwd PSH Flags', 'Flow Duration', 'Pkt Len Mean'], 'Normal sample 1326': ['SYN Flag Cnt', 'Init Fwd Win Byts', 'FIN Flag Cnt', 'ACK Flag Cnt', 'Flow Pkts/s', 'Pkt Len Min', 'Pkt Size Avg', 'Bwd Pkt Len Min', 'Bwd Pkts/s', 'Fwd Pkt Len Min'], 'Normal sample 1327': ['Init Bwd Win Byts', 'Fwd Pkt Len Max', 'Fwd Pkt Len Std', 'Fwd Pkt Len Mean', 'Fwd IAT Tot', 'Pkt Size Avg', 'Fwd Seg Size Avg', 'Idle Mean', 'Fwd IAT Max', 'Fwd IAT Std'], 'Normal sample 1328': ['Down/Up Ratio', 'Init Fwd Win Byts', 'SYN Flag Cnt', 'FIN Flag Cnt', 'ACK Flag Cnt', 'Flow IAT Std', 'Bwd Pkt Len Max', 'Bwd Pkts/s', 'Idle Max', 'Idle Std'], 'Normal sample 1329': ['SYN Flag Cnt', 'Init Fwd Win Byts', 'FIN Flag Cnt', 'ACK Flag Cnt', 'Pkt Size Avg', 'Pkt Len Min', 'Pkt Len Mean', 'Flow Pkts/s', 'Bwd Pkt Len Min', 'Pkt Len Max'], 'Normal sample 1330': ['SYN Flag Cnt', 'Init Fwd Win Byts', 'FIN Flag Cnt', 'Pkt Size Avg', 'ACK Flag Cnt', 'Pkt Len Min', 'Flow Pkts/s', 'Pkt Len Mean', 'Pkt Len Max', 'Bwd Pkt Len Min'], 'Normal sample 1331': ['Pkt Len Max', 'Init Bwd Win Byts', 'Pkt Len Std', 'Bwd Header Len', 'Pkt Len Mean', 'Pkt Size Avg', 'Fwd IAT Tot', 'Bwd IAT Tot', 'Tot Bwd Pkts', 'Bwd IAT Max'], 'Normal sample 1332': ['Down/Up Ratio', 'Init Fwd Win Byts', 'SYN Flag Cnt', 'ACK Flag Cnt', 'FIN Flag Cnt', 'Bwd Pkts/s', 'Flow IAT Mean', 'Fwd Pkt Len Min', 'Bwd URG Flags', 'URG Flag Cnt'], 'Normal sample 1333': ['Init Bwd Win Byts', 'Fwd IAT Tot', 'Fwd IAT Std', 'Bwd PSH Flags', 'Down/Up Ratio', 'SYN Flag Cnt', 'Bwd Pkts/s', 'Flow IAT Min', 'Fwd Pkt Len Std', 'Pkt Len Max'], 'Normal sample 1334': ['SYN Flag Cnt', 'Init Fwd Win Byts', 'FIN Flag Cnt', 'Pkt Size Avg', 'Pkt Len Min', 'ACK Flag Cnt', 'Pkt Len Max', 'Flow Pkts/s', 'Pkt Len Mean', 'Bwd Pkt Len Min'], 'Normal sample 1335': ['SYN Flag Cnt', 'Init Fwd Win Byts', 'FIN Flag Cnt', 'Pkt Size Avg', 'ACK Flag Cnt', 'Pkt Len Min', 'Pkt Len Mean', 'Flow Pkts/s', 'Bwd Pkt Len Min', 'Pkt Len Max'], 'Normal sample 1336': ['Down/Up Ratio', 'Init Fwd Win Byts', 'FIN Flag Cnt', 'Bwd Pkts/s', 'Flow IAT Max', 'Idle Std', 'Flow Duration', 'Pkt Len Mean', 'Bwd PSH Flags', 'Idle Max'], 'Normal sample 1337': ['SYN Flag Cnt', 'Init Fwd Win Byts', 'FIN Flag Cnt', 'ACK Flag Cnt', 'Pkt Size Avg', 'Pkt Len Min', 'Pkt Len Mean', 'Flow Pkts/s', 'Bwd Pkt Len Min', 'Pkt Len Max'], 'Normal sample 1338': ['Pkt Len Min', 'Init Fwd Win Byts', 'SYN Flag Cnt', 'Bwd Pkt Len Min', 'FIN Flag Cnt', 'ACK Flag Cnt', 'Down/Up Ratio', 'Flow IAT Mean', 'Idle Mean', 'Flow IAT Std'], 'Normal sample 1339': ['Down/Up Ratio', 'Bwd PSH Flags', 'ACK Flag Cnt', 'Init Fwd Win Byts', 'PSH Flag Cnt', 'Bwd Pkts/s', 'SYN Flag Cnt', 'FIN Flag Cnt', 'Flow Pkts/s', 'Fwd Pkt Len Min'], 'Normal sample 1340': ['Init Bwd Win Byts', 'SYN Flag Cnt', 'Bwd Pkt Len Min', 'Down/Up Ratio', 'Bwd PSH Flags', 'Bwd Pkts/s', 'FIN Flag Cnt', 'Bwd Header Len', 'Pkt Len Mean', 'Flow Duration'], 'Normal sample 1341': ['SYN Flag Cnt', 'Init Fwd Win Byts', 'FIN Flag Cnt', 'Pkt Size Avg', 'Pkt Len Min', 'Pkt Len Mean', 'ACK Flag Cnt', 'Flow Pkts/s', 'Bwd Pkts/s', 'Bwd Pkt Len Min'], 'Normal sample 1342': ['SYN Flag Cnt', 'Init Fwd Win Byts', 'ACK Flag Cnt', 'FIN Flag Cnt', 'Flow Pkts/s', 'Pkt Len Min', 'Pkt Size Avg', 'Bwd Pkt Len Min', 'Bwd Pkts/s', 'Pkt Len Max'], 'Normal sample 1343': ['Init Bwd Win Byts', 'Fwd IAT Tot', 'SYN Flag Cnt', 'Fwd IAT Std', 'Init Fwd Win Byts', 'Pkt Len Max', 'Down/Up Ratio', 'Fwd Pkt Len Max', 'Pkt Len Std', 'Fwd Pkt Len Std'], 'Normal sample 1344': ['Init Bwd Win Byts', 'SYN Flag Cnt', 'Down/Up Ratio', 'Flow Pkts/s', 'FIN Flag Cnt', 'Idle Mean', 'Flow IAT Mean', 'Idle Max', 'PSH Flag Cnt', 'Flow Duration'], 'Normal sample 1345': ['SYN Flag Cnt', 'Init Fwd Win Byts', 'Down/Up Ratio', 'FIN Flag Cnt', 'Flow IAT Std', 'Bwd IAT Std', 'Idle Mean', 'Fwd IAT Mean', 'Active Min', 'Tot Fwd Pkts'], 'Normal sample 1346': ['Down/Up Ratio', 'Init Fwd Win Byts', 'SYN Flag Cnt', 'FIN Flag Cnt', 'Bwd Pkts/s', 'Flow IAT Max', 'PSH Flag Cnt', 'Fwd IAT Tot', 'Bwd IAT Std', 'Idle Max'], 'Normal sample 1347': ['SYN Flag Cnt', 'Init Fwd Win Byts', 'FIN Flag Cnt', 'ACK Flag Cnt', 'Pkt Size Avg', 'Pkt Len Min', 'Flow Pkts/s', 'Pkt Len Mean', 'Bwd Pkt Len Min', 'Bwd Pkts/s'], 'Normal sample 1348': ['Init Bwd Win Byts', 'Pkt Len Max', 'Pkt Len Std', 'Pkt Size Avg', 'Fwd IAT Tot', 'Fwd IAT Max', 'Pkt Len Mean', 'Down/Up Ratio', 'Fwd Pkt Len Max', 'Bwd Pkts/s'], 'Normal sample 1349': ['SYN Flag Cnt', 'Flow Pkts/s', 'Bwd Pkts/s', 'Init Fwd Win Byts', 'Down/Up Ratio', 'FIN Flag Cnt', 'Fwd Pkt Len Max', 'Fwd Pkt Len Std', 'Fwd Pkt Len Mean', 'Pkt Len Max'], 'Normal sample 1350': ['Init Bwd Win Byts', 'Fwd Pkt Len Max', 'Fwd IAT Tot', 'Fwd Seg Size Avg', 'Down/Up Ratio', 'Pkt Len Max', 'Idle Mean', 'FIN Flag Cnt', 'Fwd IAT Max', 'Pkt Len Std'], 'Normal sample 1351': ['Down/Up Ratio', 'Init Fwd Win Byts', 'SYN Flag Cnt', 'FIN Flag Cnt', 'ACK Flag Cnt', 'Bwd Pkts/s', 'Pkt Len Min', 'PSH Flag Cnt', 'Flow Pkts/s', 'Bwd URG Flags'], 'Normal sample 1352': ['SYN Flag Cnt', 'Init Fwd Win Byts', 'FIN Flag Cnt', 'ACK Flag Cnt', 'Pkt Len Min', 'Flow Pkts/s', 'Pkt Size Avg', 'Bwd Pkts/s', 'Bwd Pkt Len Min', 'Pkt Len Mean'], 'Normal sample 1353': ['Init Bwd Win Byts', 'Fwd IAT Tot', 'SYN Flag Cnt', 'Bwd PSH Flags', 'Down/Up Ratio', 'Bwd Pkt Len Min', 'Bwd Pkts/s', 'Init Fwd Win Byts', 'Bwd IAT Tot', 'Fwd IAT Max'], 'Normal sample 1354': ['SYN Flag Cnt', 'Fwd Pkt Len Mean', 'Fwd Pkt Len Max', 'Fwd Pkt Len Std', 'Pkt Len Mean', 'Pkt Size Avg', 'Fwd Seg Size Avg', 'Bwd Pkts/s', 'Pkt Len Max', 'FIN Flag Cnt'], 'Normal sample 1355': ['SYN Flag Cnt', 'Init Fwd Win Byts', 'FIN Flag Cnt', 'Pkt Size Avg', 'Pkt Len Min', 'Bwd Pkt Len Min', 'Flow Pkts/s', 'Pkt Len Mean', 'ACK Flag Cnt', 'Pkt Len Max'], 'Normal sample 1356': ['Init Bwd Win Byts', 'Fwd IAT Tot', 'Fwd Pkt Len Max', 'Fwd Pkt Len Std', 'Fwd Seg Size Avg', 'Pkt Len Max', 'Down/Up Ratio', 'Bwd IAT Tot', 'Pkt Size Avg', 'Pkt Len Std'], 'Normal sample 1357': ['Init Bwd Win Byts', 'SYN Flag Cnt', 'Flow Pkts/s', 'Bwd Pkts/s', 'Init Fwd Win Byts', 'Pkt Len Max', 'Fwd Pkt Len Mean', 'Fwd Pkt Len Max', 'Fwd Pkt Len Std', 'Down/Up Ratio'], 'Normal sample 1358': ['SYN Flag Cnt', 'Pkt Size Avg', 'Pkt Len Min', 'FIN Flag Cnt', 'Flow Pkts/s', 'Bwd Pkt Len Min', 'Pkt Len Mean', 'Pkt Len Max', 'Bwd Pkts/s', 'Pkt Len Std'], 'Normal sample 1359': ['Down/Up Ratio', 'Init Fwd Win Byts', 'SYN Flag Cnt', 'FIN Flag Cnt', 'ACK Flag Cnt', 'Flow IAT Max', 'Bwd IAT Tot', 'PSH Flag Cnt', 'Bwd Pkt Len Max', 'Bwd Pkt Len Mean'], 'Normal sample 1360': ['Init Bwd Win Byts', 'SYN Flag Cnt', 'Down/Up Ratio', 'Flow Pkts/s', 'Bwd Pkts/s', 'Pkt Size Avg', 'FIN Flag Cnt', 'Pkt Len Std', 'Pkt Len Mean', 'Bwd IAT Std'], 'Normal sample 1361': ['Init Bwd Win Byts', 'SYN Flag Cnt', 'Init Fwd Win Byts', 'Down/Up Ratio', 'Bwd Pkts/s', 'Flow Pkts/s', 'Fwd Pkt Len Mean', 'FIN Flag Cnt', 'Fwd Pkt Len Std', 'Pkt Size Avg'], 'Normal sample 1362': ['SYN Flag Cnt', 'Fwd Pkt Len Max', 'Fwd Pkt Len Std', 'Pkt Len Max', 'Fwd Pkt Len Mean', 'Fwd Seg Size Avg', 'Pkt Len Mean', 'Pkt Size Avg', 'Pkt Len Std', 'Down/Up Ratio'], 'Normal sample 1363': ['SYN Flag Cnt', 'FIN Flag Cnt', 'Pkt Len Min', 'Pkt Size Avg', 'Bwd Pkt Len Min', 'Init Fwd Win Byts', 'Pkt Len Mean', 'ACK Flag Cnt', 'Flow Pkts/s', 'Bwd Pkts/s'], 'Normal sample 1364': ['SYN Flag Cnt', 'Flow Pkts/s', 'Down/Up Ratio', 'Init Fwd Win Byts', 'FIN Flag Cnt', 'Fwd Seg Size Avg', 'Fwd Pkt Len Std', 'Fwd Pkt Len Max', 'Bwd Pkts/s', 'Fwd Pkt Len Mean'], 'Normal sample 1365': ['SYN Flag Cnt', 'Init Fwd Win Byts', 'ACK Flag Cnt', 'FIN Flag Cnt', 'Flow Pkts/s', 'Pkt Len Min', 'Bwd Pkt Len Min', 'Bwd Pkts/s', 'Pkt Len Max', 'Pkt Len Mean'], 'Normal sample 1366': ['Init Bwd Win Byts', 'SYN Flag Cnt', 'Down/Up Ratio', 'Flow Pkts/s', 'FIN Flag Cnt', 'Idle Mean', 'Flow IAT Max', 'Bwd IAT Max', 'PSH Flag Cnt', 'URG Flag Cnt'], 'Normal sample 1367': ['Down/Up Ratio', 'Init Fwd Win Byts', 'SYN Flag Cnt', 'FIN Flag Cnt', 'ACK Flag Cnt', 'Bwd IAT Max', 'Bwd Pkts/s', 'Bwd PSH Flags', 'Active Min', 'Flow IAT Std'], 'Normal sample 1368': ['SYN Flag Cnt', 'Init Fwd Win Byts', 'ACK Flag Cnt', 'FIN Flag Cnt', 'Pkt Len Min', 'Flow Pkts/s', 'Pkt Size Avg', 'Bwd Pkts/s', 'Bwd Pkt Len Min', 'Pkt Len Max'], 'Normal sample 1369': ['SYN Flag Cnt', 'Init Fwd Win Byts', 'FIN Flag Cnt', 'Pkt Size Avg', 'ACK Flag Cnt', 'Pkt Len Min', 'Flow Pkts/s', 'Bwd Pkt Len Min', 'Pkt Len Mean', 'Pkt Len Max'], 'Normal sample 1370': ['Init Bwd Win Byts', 'SYN Flag Cnt', 'Bwd Pkts/s', 'Flow Pkts/s', 'Fwd IAT Min', 'FIN Flag Cnt', 'Fwd IAT Mean', 'Down/Up Ratio', 'Flow IAT Std', 'Fwd IAT Max'], 'Normal sample 1371': ['Init Bwd Win Byts', 'Fwd IAT Tot', 'Pkt Len Max', 'Down/Up Ratio', 'Pkt Size Avg', 'Fwd Pkt Len Std', 'Pkt Len Mean', 'Pkt Len Std', 'Idle Mean', 'Fwd Seg Size Avg'], 'Normal sample 1372': ['Down/Up Ratio', 'Init Fwd Win Byts', 'SYN Flag Cnt', 'ACK Flag Cnt', 'FIN Flag Cnt', 'PSH Flag Cnt', 'Bwd Pkts/s', 'Pkt Len Min', 'Bwd IAT Tot', 'Fwd IAT Tot'], 'Normal sample 1373': ['Init Fwd Win Byts', 'FIN Flag Cnt', 'Down/Up Ratio', 'Flow IAT Mean', 'Bwd Pkt Len Min', 'Bwd IAT Max', 'Tot Bwd Pkts', 'Subflow Fwd Pkts', 'Bwd IAT Mean', 'Fwd Pkt Len Max'], 'Normal sample 1374': ['SYN Flag Cnt', 'Flow Pkts/s', 'Bwd Pkts/s', 'FIN Flag Cnt', 'Bwd Pkt Len Min', 'Pkt Size Avg', 'ACK Flag Cnt', 'Down/Up Ratio', 'Pkt Len Mean', 'Fwd Pkt Len Min'], 'Normal sample 1375': ['Fwd Pkt Len Max', 'Pkt Len Max', 'Flow Byts/s', 'Fwd Pkt Len Mean', 'Fwd Pkt Len Std', 'Fwd Seg Size Avg', 'Pkt Size Avg', 'SYN Flag Cnt', 'Pkt Len Mean', 'Pkt Len Std'], 'Normal sample 1376': ['Down/Up Ratio', 'Bwd PSH Flags', 'Init Fwd Win Byts', 'ACK Flag Cnt', 'SYN Flag Cnt', 'Bwd Pkts/s', 'PSH Flag Cnt', 'FIN Flag Cnt', 'Bwd IAT Tot', 'Subflow Fwd Byts'], 'Normal sample 1377': ['SYN Flag Cnt', 'Down/Up Ratio', 'FIN Flag Cnt', 'Init Fwd Win Byts', 'Bwd IAT Std', 'Flow Duration', 'Tot Fwd Pkts', 'Tot Bwd Pkts', 'TotLen Fwd Pkts', 'TotLen Bwd Pkts'], 'Normal sample 1378': ['Init Bwd Win Byts', 'Bwd IAT Tot', 'Flow Pkts/s', 'Bwd IAT Mean', 'FIN Flag Cnt', 'Bwd IAT Max', 'Init Fwd Win Byts', 'ACK Flag Cnt', 'Bwd Pkts/s', 'Subflow Bwd Byts'], 'Normal sample 1379': ['SYN Flag Cnt', 'Init Fwd Win Byts', 'FIN Flag Cnt', 'Pkt Size Avg', 'ACK Flag Cnt', 'Pkt Len Min', 'Flow Pkts/s', 'Pkt Len Mean', 'Pkt Len Max', 'Bwd Pkts/s'], 'Normal sample 1380': ['Down/Up Ratio', 'Init Fwd Win Byts', 'FIN Flag Cnt', 'Fwd Pkt Len Min', 'Bwd IAT Std', 'Bwd Pkts/s', 'Idle Min', 'Flow Pkts/s', 'Fwd IAT Tot', 'Active Max'], 'Normal sample 1381': ['SYN Flag Cnt', 'Init Fwd Win Byts', 'FIN Flag Cnt', 'ACK Flag Cnt', 'Pkt Len Min', 'Pkt Size Avg', 'Flow Pkts/s', 'Bwd Pkt Len Min', 'Pkt Len Max', 'Pkt Len Mean'], 'Normal sample 1382': ['SYN Flag Cnt', 'FIN Flag Cnt', 'Pkt Len Min', 'Pkt Size Avg', 'Fwd Pkt Len Min', 'Fwd Seg Size Avg', 'Pkt Len Mean', 'Bwd Pkt Len Min', 'Fwd Pkt Len Max', 'ACK Flag Cnt'], 'Normal sample 1383': ['SYN Flag Cnt', 'Init Fwd Win Byts', 'ACK Flag Cnt', 'FIN Flag Cnt', 'Pkt Len Min', 'Pkt Size Avg', 'Flow Pkts/s', 'Bwd Pkts/s', 'Pkt Len Mean', 'Bwd Pkt Len Min'], 'Normal sample 1384': ['Down/Up Ratio', 'Init Fwd Win Byts', 'SYN Flag Cnt', 'FIN Flag Cnt', 'Flow Pkts/s', 'Bwd Pkts/s', 'PSH Flag Cnt', 'Flow IAT Max', 'Bwd IAT Std', 'Fwd Pkts/s'], 'Normal sample 1385': ['Init Bwd Win Byts', 'SYN Flag Cnt', 'Flow Pkts/s', 'Bwd Pkts/s', 'Fwd Seg Size Avg', 'FIN Flag Cnt', 'Init Fwd Win Byts', 'Flow IAT Std', 'Fwd Pkt Len Std', 'Fwd Pkt Len Max'], 'Normal sample 1386': ['Down/Up Ratio', 'Init Fwd Win Byts', 'SYN Flag Cnt', 'ACK Flag Cnt', 'FIN Flag Cnt', 'Bwd Pkts/s', 'PSH Flag Cnt', 'Flow Duration', 'Flow IAT Mean', 'Bwd IAT Min'], 'Normal sample 1387': ['Init Bwd Win Byts', 'Pkt Size Avg', 'Pkt Len Max', 'Pkt Len Mean', 'Fwd Pkt Len Max', 'Down/Up Ratio', 'Fwd Seg Size Avg', 'Fwd Pkt Len Std', 'Pkt Len Std', 'FIN Flag Cnt'], 'Normal sample 1388': ['SYN Flag Cnt', 'Init Fwd Win Byts', 'FIN Flag Cnt', 'Pkt Size Avg', 'ACK Flag Cnt', 'Pkt Len Min', 'Flow Pkts/s', 'Pkt Len Mean', 'Pkt Len Max', 'Bwd Pkt Len Min'], 'Normal sample 1389': ['Init Bwd Win Byts', 'SYN Flag Cnt', 'Down/Up Ratio', 'Flow Pkts/s', 'Fwd Pkt Len Std', 'Fwd Pkt Len Mean', 'Pkt Len Max', 'Fwd Seg Size Avg', 'Fwd Pkt Len Max', 'Pkt Len Mean'], 'Normal sample 1390': ['SYN Flag Cnt', 'Flow Pkts/s', 'Down/Up Ratio', 'Init Fwd Win Byts', 'FIN Flag Cnt', 'Bwd Pkts/s', 'Fwd Seg Size Avg', 'Fwd Pkt Len Std', 'Fwd Pkt Len Mean', 'Fwd Pkt Len Max'], 'Normal sample 1391': ['SYN Flag Cnt', 'Init Fwd Win Byts', 'Pkt Size Avg', 'FIN Flag Cnt', 'ACK Flag Cnt', 'Pkt Len Mean', 'Pkt Len Min', 'Flow Pkts/s', 'Pkt Len Max', 'Pkt Len Std'], 'Normal sample 1392': ['Init Bwd Win Byts', 'Fwd IAT Std', 'Fwd IAT Tot', 'Pkt Len Max', 'Bwd IAT Tot', 'Bwd Pkts/s', 'Fwd IAT Max', 'Down/Up Ratio', 'Pkt Len Mean', 'ACK Flag Cnt'], 'Normal sample 1393': ['SYN Flag Cnt', 'Init Fwd Win Byts', 'FIN Flag Cnt', 'Pkt Size Avg', 'Pkt Len Min', 'ACK Flag Cnt', 'Flow Pkts/s', 'Pkt Len Max', 'Bwd Pkt Len Min', 'Pkt Len Mean'], 'Normal sample 1394': ['Init Bwd Win Byts', 'Pkt Len Max', 'Pkt Size Avg', 'Pkt Len Mean', 'Fwd Pkt Len Std', 'Fwd Pkt Len Max', 'Pkt Len Std', 'Flow Pkts/s', 'Down/Up Ratio', 'Fwd Pkt Len Mean'], 'Normal sample 1395': ['Init Bwd Win Byts', 'SYN Flag Cnt', 'Down/Up Ratio', 'Flow Pkts/s', 'FIN Flag Cnt', 'Flow IAT Max', 'Idle Max', 'Bwd IAT Std', 'Flow IAT Std', 'Bwd Pkt Len Mean'], 'Normal sample 1396': ['SYN Flag Cnt', 'Init Fwd Win Byts', 'ACK Flag Cnt', 'FIN Flag Cnt', 'Pkt Len Min', 'Flow Pkts/s', 'Pkt Size Avg', 'Bwd Pkts/s', 'Bwd Pkt Len Min', 'Pkt Len Mean'], 'Normal sample 1397': ['SYN Flag Cnt', 'Init Fwd Win Byts', 'FIN Flag Cnt', 'Flow IAT Std', 'Bwd IAT Max', 'Bwd IAT Tot', 'Active Std', 'Idle Std', 'ACK Flag Cnt', 'Fwd Pkt Len Mean'], 'Normal sample 1398': ['Init Bwd Win Byts', 'SYN Flag Cnt', 'Fwd IAT Std', 'Flow Pkts/s', 'Bwd IAT Tot', 'Bwd Pkts/s', 'Fwd IAT Tot', 'Init Fwd Win Byts', 'Bwd Pkt Len Mean', 'Pkt Len Var'], 'Normal sample 1399': ['Down/Up Ratio', 'Init Fwd Win Byts', 'SYN Flag Cnt', 'ACK Flag Cnt', 'FIN Flag Cnt', 'PSH Flag Cnt', 'Bwd Pkts/s', 'Fwd Pkt Len Min', 'Bwd IAT Max', 'Fwd Pkt Len Max'], 'Normal sample 1400': ['SYN Flag Cnt', 'Init Fwd Win Byts', 'FIN Flag Cnt', 'Pkt Size Avg', 'ACK Flag Cnt', 'Pkt Len Max', 'Pkt Len Min', 'Flow Pkts/s', 'Bwd Pkt Len Min', 'Pkt Len Mean'], 'Normal sample 1401': ['SYN Flag Cnt', 'Init Fwd Win Byts', 'FIN Flag Cnt', 'ACK Flag Cnt', 'Pkt Len Min', 'Flow Pkts/s', 'Pkt Size Avg', 'Pkt Len Max', 'Bwd Pkt Len Min', 'Pkt Len Std'], 'Normal sample 1402': ['SYN Flag Cnt', 'Bwd Pkt Len Min', 'FIN Flag Cnt', 'Flow Byts/s', 'Pkt Len Min', 'Pkt Size Avg', 'Pkt Len Mean', 'Fwd Pkt Len Min', 'Fwd Pkt Len Mean', 'Pkt Len Std'], 'Normal sample 1403': ['Init Bwd Win Byts', 'Fwd IAT Std', 'Fwd IAT Tot', 'Pkt Len Max', 'Down/Up Ratio', 'ACK Flag Cnt', 'Init Fwd Win Byts', 'Bwd Pkts/s', 'Fwd IAT Max', 'Bwd IAT Tot'], 'Normal sample 1404': ['SYN Flag Cnt', 'Init Fwd Win Byts', 'FIN Flag Cnt', 'Pkt Size Avg', 'ACK Flag Cnt', 'Pkt Len Min', 'Pkt Len Max', 'Flow Pkts/s', 'Pkt Len Mean', 'Bwd Pkt Len Min'], 'Normal sample 1405': ['Init Bwd Win Byts', 'SYN Flag Cnt', 'Bwd PSH Flags', 'Bwd Pkts/s', 'Down/Up Ratio', 'Flow Pkts/s', 'Pkt Size Avg', 'Pkt Len Mean', 'Bwd Pkt Len Mean', 'Fwd Act Data Pkts'], 'Normal sample 1406': ['Down/Up Ratio', 'Init Fwd Win Byts', 'SYN Flag Cnt', 'FIN Flag Cnt', 'ACK Flag Cnt', 'PSH Flag Cnt', 'Pkt Len Min', 'Bwd IAT Std', 'Bwd PSH Flags', 'Fwd Act Data Pkts'], 'Normal sample 1407': ['Down/Up Ratio', 'Bwd PSH Flags', 'Init Fwd Win Byts', 'SYN Flag Cnt', 'ACK Flag Cnt', 'Bwd Pkts/s', 'FIN Flag Cnt', 'PSH Flag Cnt', 'Flow Duration', 'Flow Pkts/s'], 'Normal sample 1408': ['SYN Flag Cnt', 'Init Fwd Win Byts', 'ACK Flag Cnt', 'FIN Flag Cnt', 'Pkt Len Min', 'Pkt Size Avg', 'Flow Pkts/s', 'Pkt Len Max', 'Bwd Pkts/s', 'Pkt Len Mean'], 'Normal sample 1409': ['Init Bwd Win Byts', 'Bwd IAT Tot', 'Init Fwd Win Byts', 'Fwd Pkt Len Max', 'Bwd IAT Max', 'FIN Flag Cnt', 'Flow Pkts/s', 'Pkt Len Max', 'Down/Up Ratio', 'Fwd Pkt Len Std'], 'Normal sample 1410': ['Init Bwd Win Byts', 'Fwd IAT Tot', 'Pkt Len Max', 'Pkt Size Avg', 'Flow IAT Max', 'FIN Flag Cnt', 'Fwd Pkt Len Max', 'Bwd IAT Tot', 'Flow Pkts/s', 'Bwd Header Len'], 'Normal sample 1411': ['Down/Up Ratio', 'Init Fwd Win Byts', 'SYN Flag Cnt', 'FIN Flag Cnt', 'ACK Flag Cnt', 'Bwd Pkts/s', 'Bwd IAT Std', 'Bwd Pkt Len Min', 'Pkt Len Min', 'PSH Flag Cnt'], 'Normal sample 1412': ['Init Bwd Win Byts', 'Fwd Pkt Len Max', 'Pkt Len Max', 'Fwd IAT Tot', 'Pkt Len Std', 'SYN Flag Cnt', 'Fwd Pkt Len Std', 'Down/Up Ratio', 'Pkt Size Avg', 'Bwd PSH Flags'], 'Normal sample 1413': ['Down/Up Ratio', 'Init Fwd Win Byts', 'SYN Flag Cnt', 'FIN Flag Cnt', 'ACK Flag Cnt', 'Idle Mean', 'Bwd Pkt Len Max', 'Bwd IAT Max', 'Fwd IAT Mean', 'Flow Duration'], 'Normal sample 1414': ['Init Bwd Win Byts', 'Fwd IAT Tot', 'Pkt Len Max', 'Fwd IAT Std', 'Down/Up Ratio', 'Init Fwd Win Byts', 'Bwd Pkts/s', 'ACK Flag Cnt', 'FIN Flag Cnt', 'Fwd Pkt Len Max'], 'Normal sample 1415': ['Down/Up Ratio', 'Init Fwd Win Byts', 'SYN Flag Cnt', 'FIN Flag Cnt', 'ACK Flag Cnt', 'Subflow Bwd Byts', 'Fwd IAT Max', 'Bwd Pkt Len Min', 'PSH Flag Cnt', 'Flow IAT Std'], 'Normal sample 1416': ['SYN Flag Cnt', 'Init Fwd Win Byts', 'FIN Flag Cnt', 'Pkt Len Min', 'Pkt Size Avg', 'Pkt Len Mean', 'ACK Flag Cnt', 'Bwd Pkt Len Min', 'Flow Pkts/s', 'Pkt Len Max'], 'Normal sample 1417': ['SYN Flag Cnt', 'Init Fwd Win Byts', 'FIN Flag Cnt', 'ACK Flag Cnt', 'Pkt Size Avg', 'Pkt Len Min', 'Flow Pkts/s', 'Pkt Len Mean', 'Bwd Pkt Len Min', 'Pkt Len Std'], 'Normal sample 1418': ['Init Bwd Win Byts', 'Pkt Len Max', 'Bwd IAT Tot', 'Pkt Size Avg', 'Pkt Len Mean', 'Fwd IAT Tot', 'Bwd IAT Std', 'Fwd IAT Max', 'FIN Flag Cnt', 'Flow IAT Max'], 'Normal sample 1419': ['Init Bwd Win Byts', 'Pkt Size Avg', 'Pkt Len Mean', 'Pkt Len Max', 'Fwd Pkt Len Std', 'Fwd Pkt Len Max', 'Down/Up Ratio', 'Flow Pkts/s', 'Pkt Len Std', 'FIN Flag Cnt'], 'Normal sample 1420': ['SYN Flag Cnt', 'Init Fwd Win Byts', 'FIN Flag Cnt', 'Pkt Len Min', 'ACK Flag Cnt', 'Flow Pkts/s', 'Pkt Size Avg', 'Bwd Pkts/s', 'Bwd Pkt Len Min', 'Pkt Len Mean'], 'Normal sample 1421': ['Init Bwd Win Byts', 'SYN Flag Cnt', 'Down/Up Ratio', 'Flow Pkts/s', 'FIN Flag Cnt', 'Bwd Pkts/s', 'Flow IAT Max', 'Bwd IAT Std', 'PSH Flag Cnt', 'Bwd IAT Max'], 'Normal sample 1422': ['SYN Flag Cnt', 'Fwd Pkt Len Max', 'Fwd Pkt Len Mean', 'Fwd Pkt Len Std', 'Pkt Len Max', 'Fwd Seg Size Avg', 'Pkt Len Mean', 'Pkt Size Avg', 'Bwd Pkts/s', 'Pkt Len Std'], 'Normal sample 1423': ['Init Bwd Win Byts', 'SYN Flag Cnt', 'Flow Pkts/s', 'Bwd Pkts/s', 'FIN Flag Cnt', 'Pkt Len Std', 'Fwd Pkt Len Max', 'Fwd Act Data Pkts', 'Flow Duration', 'Flow IAT Max'], 'Normal sample 1424': ['Init Bwd Win Byts', 'SYN Flag Cnt', 'FIN Flag Cnt', 'Flow Pkts/s', 'Down/Up Ratio', 'Bwd IAT Std', 'Bwd Pkt Len Mean', 'Idle Min', 'Flow IAT Max', 'Idle Max'], 'Normal sample 1425': ['Init Bwd Win Byts', 'Fwd IAT Tot', 'Down/Up Ratio', 'Fwd IAT Std', 'Bwd IAT Tot', 'Bwd Pkts/s', 'Init Fwd Win Byts', 'FIN Flag Cnt', 'Fwd IAT Mean', 'Pkt Len Max'], 'Normal sample 1426': ['Init Bwd Win Byts', 'SYN Flag Cnt', 'Bwd Pkt Len Min', 'Flow Byts/s', 'Flow IAT Max', 'URG Flag Cnt', 'Fwd Pkt Len Std', 'Flow Duration', 'Pkt Size Avg', 'Fwd IAT Mean'], 'Normal sample 1427': ['SYN Flag Cnt', 'Init Fwd Win Byts', 'FIN Flag Cnt', 'ACK Flag Cnt', 'Pkt Size Avg', 'Flow Pkts/s', 'Pkt Len Min', 'Pkt Len Mean', 'Bwd Pkt Len Min', 'Bwd Pkts/s'], 'Normal sample 1428': ['Down/Up Ratio', 'Init Fwd Win Byts', 'SYN Flag Cnt', 'ACK Flag Cnt', 'FIN Flag Cnt', 'PSH Flag Cnt', 'Flow IAT Max', 'TotLen Bwd Pkts', 'Bwd Pkts/s', 'Active Min'], 'Normal sample 1429': ['SYN Flag Cnt', 'Init Fwd Win Byts', 'FIN Flag Cnt', 'ACK Flag Cnt', 'Pkt Len Min', 'Flow Pkts/s', 'Bwd Pkt Len Min', 'Pkt Len Max', 'Bwd Pkts/s', 'Pkt Size Avg'], 'Normal sample 1430': ['Init Bwd Win Byts', 'SYN Flag Cnt', 'Flow Pkts/s', 'FIN Flag Cnt', 'Flow IAT Max', 'Flow IAT Std', 'Idle Max', 'Bwd IAT Std', 'Down/Up Ratio', 'Idle Mean'], 'Normal sample 1431': ['SYN Flag Cnt', 'Init Fwd Win Byts', 'FIN Flag Cnt', 'ACK Flag Cnt', 'Pkt Len Min', 'Flow Pkts/s', 'Pkt Size Avg', 'Bwd Pkts/s', 'Pkt Len Max', 'Pkt Len Mean'], 'Normal sample 1432': ['SYN Flag Cnt', 'Init Fwd Win Byts', 'FIN Flag Cnt', 'Pkt Size Avg', 'Pkt Len Min', 'ACK Flag Cnt', 'Flow Pkts/s', 'Pkt Len Mean', 'Pkt Len Max', 'Bwd Pkt Len Min'], 'Normal sample 1433': ['Down/Up Ratio', 'Init Fwd Win Byts', 'SYN Flag Cnt', 'FIN Flag Cnt', 'ACK Flag Cnt', 'PSH Flag Cnt', 'Bwd Pkts/s', 'Pkt Len Std', 'Idle Max', 'Bwd IAT Max'], 'Normal sample 1434': ['SYN Flag Cnt', 'FIN Flag Cnt', 'Pkt Size Avg', 'Bwd Pkt Len Min', 'Pkt Len Min', 'Pkt Len Mean', 'Fwd Seg Size Avg', 'Fwd Pkt Len Mean', 'Fwd Pkt Len Min', 'Flow Pkts/s'], 'Normal sample 1435': ['SYN Flag Cnt', 'Init Fwd Win Byts', 'FIN Flag Cnt', 'Pkt Len Max', 'Pkt Size Avg', 'Pkt Len Min', 'ACK Flag Cnt', 'Pkt Len Mean', 'Flow Pkts/s', 'Bwd Pkt Len Min'], 'Normal sample 1436': ['SYN Flag Cnt', 'Init Fwd Win Byts', 'ACK Flag Cnt', 'FIN Flag Cnt', 'Flow Pkts/s', 'Pkt Len Min', 'Pkt Size Avg', 'Pkt Len Mean', 'Bwd Pkt Len Min', 'Bwd Pkts/s'], 'Normal sample 1437': ['Down/Up Ratio', 'Init Fwd Win Byts', 'SYN Flag Cnt', 'ACK Flag Cnt', 'FIN Flag Cnt', 'Bwd PSH Flags', 'Bwd Pkt Len Min', 'Flow IAT Std', 'Bwd IAT Mean', 'Idle Std'], 'Normal sample 1438': ['Init Bwd Win Byts', 'Bwd PSH Flags', 'Fwd IAT Std', 'Down/Up Ratio', 'Fwd IAT Tot', 'Bwd Pkts/s', 'SYN Flag Cnt', 'Fwd Pkts/s', 'PSH Flag Cnt', 'Bwd Pkt Len Max'], 'Normal sample 1439': ['Init Bwd Win Byts', 'Bwd PSH Flags', 'SYN Flag Cnt', 'Fwd IAT Tot', 'Fwd IAT Std', 'Down/Up Ratio', 'Pkt Len Max', 'Fwd Pkt Len Max', 'Fwd Pkt Len Std', 'Fwd Seg Size Avg'], 'Normal sample 1440': ['SYN Flag Cnt', 'Init Fwd Win Byts', 'ACK Flag Cnt', 'FIN Flag Cnt', 'Bwd Pkts/s', 'Pkt Size Avg', 'Pkt Len Mean', 'Pkt Len Max', 'Pkt Len Min', 'Pkt Len Std'], 'Normal sample 1441': ['SYN Flag Cnt', 'Init Fwd Win Byts', 'FIN Flag Cnt', 'Pkt Size Avg', 'Pkt Len Min', 'ACK Flag Cnt', 'Flow Pkts/s', 'Pkt Len Mean', 'Pkt Len Max', 'Bwd Pkt Len Min'], 'Normal sample 1442': ['Down/Up Ratio', 'Init Fwd Win Byts', 'SYN Flag Cnt', 'FIN Flag Cnt', 'Flow Pkts/s', 'Bwd IAT Std', 'Bwd Pkts/s', 'Flow IAT Std', 'PSH Flag Cnt', 'Fwd Pkts/s'], 'Normal sample 1443': ['Init Bwd Win Byts', 'SYN Flag Cnt', 'Down/Up Ratio', 'FIN Flag Cnt', 'Flow Pkts/s', 'PSH Flag Cnt', 'URG Flag Cnt', 'Bwd IAT Std', 'Idle Max', 'Flow IAT Max'], 'Normal sample 1444': ['Init Bwd Win Byts', 'Fwd IAT Tot', 'Fwd Pkt Len Std', 'Down/Up Ratio', 'Fwd Seg Size Avg', 'Fwd Pkt Len Max', 'Bwd Pkts/s', 'Pkt Len Mean', 'Pkt Size Avg', 'Fwd Pkt Len Mean'], 'Normal sample 1445': ['Down/Up Ratio', 'Init Fwd Win Byts', 'SYN Flag Cnt', 'FIN Flag Cnt', 'Bwd Pkts/s', 'PSH Flag Cnt', 'Bwd IAT Tot', 'Bwd URG Flags', 'Bwd IAT Max', 'Idle Max'], 'Normal sample 1446': ['Down/Up Ratio', 'Init Fwd Win Byts', 'SYN Flag Cnt', 'FIN Flag Cnt', 'ACK Flag Cnt', 'Bwd Pkts/s', 'Pkt Len Min', 'PSH Flag Cnt', 'Flow Duration', 'Flow IAT Std'], 'Normal sample 1447': ['SYN Flag Cnt', 'FIN Flag Cnt', 'Pkt Size Avg', 'Pkt Len Min', 'Fwd Pkt Len Min', 'Bwd Pkt Len Min', 'Fwd Pkt Len Mean', 'Pkt Len Mean', 'Fwd Seg Size Avg', 'Flow Pkts/s'], 'Normal sample 1448': ['Down/Up Ratio', 'Bwd PSH Flags', 'Init Fwd Win Byts', 'ACK Flag Cnt', 'Bwd Pkts/s', 'SYN Flag Cnt', 'PSH Flag Cnt', 'FIN Flag Cnt', 'Pkt Len Var', 'Flow Pkts/s'], 'Normal sample 1449': ['Down/Up Ratio', 'Bwd PSH Flags', 'ACK Flag Cnt', 'Init Fwd Win Byts', 'SYN Flag Cnt', 'Bwd Pkts/s', 'PSH Flag Cnt', 'FIN Flag Cnt', 'Flow Pkts/s', 'Fwd Pkt Len Mean'], 'Normal sample 1450': ['Init Bwd Win Byts', 'Fwd Pkt Len Max', 'Pkt Len Max', 'Fwd Pkt Len Mean', 'Fwd Seg Size Avg', 'FIN Flag Cnt', 'Fwd Pkt Len Std', 'Down/Up Ratio', 'Init Fwd Win Byts', 'Flow Pkts/s'], 'Normal sample 1451': ['Down/Up Ratio', 'Init Fwd Win Byts', 'FIN Flag Cnt', 'Bwd Pkts/s', 'Flow Pkts/s', 'Fwd Pkt Len Min', 'Bwd Pkt Len Min', 'Idle Max', 'Subflow Fwd Byts', 'Idle Min'], 'Normal sample 1452': ['SYN Flag Cnt', 'Init Fwd Win Byts', 'FIN Flag Cnt', 'ACK Flag Cnt', 'Bwd Pkts/s', 'Pkt Len Min', 'Flow Pkts/s', 'Pkt Size Avg', 'Bwd Pkt Len Min', 'Pkt Len Mean'], 'Normal sample 1453': ['Down/Up Ratio', 'Init Fwd Win Byts', 'SYN Flag Cnt', 'FIN Flag Cnt', 'ACK Flag Cnt', 'Fwd IAT Tot', 'Active Std', 'Bwd URG Flags', 'Flow IAT Std', 'Bwd Pkts/s'], 'Normal sample 1454': ['SYN Flag Cnt', 'Init Fwd Win Byts', 'ACK Flag Cnt', 'FIN Flag Cnt', 'Flow Pkts/s', 'Pkt Len Min', 'Pkt Size Avg', 'Bwd Pkts/s', 'Bwd Pkt Len Min', 'Pkt Len Max'], 'Normal sample 1455': ['SYN Flag Cnt', 'Init Fwd Win Byts', 'ACK Flag Cnt', 'FIN Flag Cnt', 'Flow Pkts/s', 'Pkt Len Min', 'Pkt Size Avg', 'Pkt Len Max', 'Bwd Pkt Len Min', 'Bwd Pkts/s'], 'Normal sample 1456': ['Init Bwd Win Byts', 'Fwd Pkt Len Max', 'Pkt Len Mean', 'Fwd Pkt Len Mean', 'Fwd IAT Tot', 'Pkt Size Avg', 'Fwd Seg Size Avg', 'Bwd IAT Tot', 'Pkt Len Max', 'FIN Flag Cnt'], 'Normal sample 1457': ['Down/Up Ratio', 'Init Fwd Win Byts', 'FIN Flag Cnt', 'Bwd Pkts/s', 'Fwd Pkt Len Min', 'Fwd Pkt Len Std', 'Flow Pkts/s', 'Fwd IAT Mean', 'Flow IAT Max', 'Flow IAT Std'], 'Normal sample 1458': ['Init Bwd Win Byts', 'SYN Flag Cnt', 'Bwd IAT Max', 'Fwd IAT Std', 'Fwd Pkt Len Mean', 'Fwd IAT Tot', 'Flow Pkts/s', 'Idle Min', 'Down/Up Ratio', 'Bwd IAT Tot'], 'Normal sample 1459': ['SYN Flag Cnt', 'Init Fwd Win Byts', 'FIN Flag Cnt', 'ACK Flag Cnt', 'Pkt Len Min', 'Flow Pkts/s', 'Pkt Size Avg', 'Bwd Pkts/s', 'Pkt Len Max', 'Bwd Pkt Len Min'], 'Normal sample 1460': ['SYN Flag Cnt', 'Init Fwd Win Byts', 'FIN Flag Cnt', 'Pkt Size Avg', 'ACK Flag Cnt', 'Pkt Len Min', 'Flow Pkts/s', 'Bwd Pkt Len Min', 'Pkt Len Max', 'Pkt Len Mean'], 'Normal sample 1461': ['Down/Up Ratio', 'Init Fwd Win Byts', 'SYN Flag Cnt', 'ACK Flag Cnt', 'FIN Flag Cnt', 'Flow IAT Std', 'Bwd Pkt Len Mean', 'PSH Flag Cnt', 'Bwd Pkts/s', 'URG Flag Cnt'], 'Normal sample 1462': ['SYN Flag Cnt', 'Init Fwd Win Byts', 'FIN Flag Cnt', 'ACK Flag Cnt', 'Pkt Size Avg', 'Pkt Len Min', 'Flow Pkts/s', 'Pkt Len Max', 'Pkt Len Mean', 'Bwd Pkts/s'], 'Normal sample 1463': ['Init Bwd Win Byts', 'Fwd IAT Tot', 'Fwd Pkt Len Max', 'Down/Up Ratio', 'Fwd Pkt Len Std', 'Pkt Size Avg', 'Fwd Pkt Len Mean', 'Pkt Len Max', 'Idle Mean', 'Fwd IAT Max'], 'Normal sample 1464': ['Down/Up Ratio', 'Init Fwd Win Byts', 'FIN Flag Cnt', 'Bwd Pkts/s', 'Pkt Len Min', 'Bwd Seg Size Avg', 'Tot Fwd Pkts', 'ACK Flag Cnt', 'Flow IAT Max', 'Bwd IAT Max'], 'Normal sample 1465': ['SYN Flag Cnt', 'Init Fwd Win Byts', 'FIN Flag Cnt', 'Pkt Len Min', 'ACK Flag Cnt', 'Flow Pkts/s', 'Pkt Size Avg', 'Pkt Len Mean', 'Pkt Len Max', 'Bwd Pkts/s'], 'Normal sample 1466': ['SYN Flag Cnt', 'Init Fwd Win Byts', 'FIN Flag Cnt', 'Pkt Size Avg', 'Pkt Len Min', 'Pkt Len Max', 'ACK Flag Cnt', 'Bwd Pkt Len Min', 'Pkt Len Mean', 'Flow Pkts/s'], 'Normal sample 1467': ['Init Bwd Win Byts', 'Fwd IAT Tot', 'SYN Flag Cnt', 'Bwd Pkts/s', 'Bwd PSH Flags', 'Down/Up Ratio', 'Fwd IAT Std', 'Fwd Seg Size Avg', 'Fwd Act Data Pkts', 'Bwd IAT Max'], 'Normal sample 1468': ['Init Bwd Win Byts', 'Fwd IAT Tot', 'Fwd IAT Std', 'Down/Up Ratio', 'Bwd Pkts/s', 'ACK Flag Cnt', 'Fwd Pkt Len Max', 'FIN Flag Cnt', 'Pkt Len Max', 'Bwd IAT Tot'], 'Normal sample 1469': ['Init Bwd Win Byts', 'Down/Up Ratio', 'Flow Pkts/s', 'ACK Flag Cnt', 'SYN Flag Cnt', 'Flow IAT Mean', 'URG Flag Cnt', 'Tot Fwd Pkts', 'Fwd Pkt Len Std', 'Flow Byts/s'], 'Normal sample 1470': ['Down/Up Ratio', 'Init Fwd Win Byts', 'SYN Flag Cnt', 'FIN Flag Cnt', 'Bwd Pkts/s', 'PSH Flag Cnt', 'Subflow Fwd Pkts', 'Bwd IAT Std', 'Idle Max', 'Fwd Header Len'], 'Normal sample 1471': ['Down/Up Ratio', 'Init Fwd Win Byts', 'SYN Flag Cnt', 'ACK Flag Cnt', 'FIN Flag Cnt', 'Bwd Pkts/s', 'Idle Max', 'Flow IAT Mean', 'Active Max', 'Bwd Pkt Len Min'], 'Normal sample 1472': ['SYN Flag Cnt', 'FIN Flag Cnt', 'Pkt Len Min', 'Pkt Size Avg', 'Init Fwd Win Byts', 'Bwd Pkt Len Min', 'Flow Pkts/s', 'Pkt Len Mean', 'Fwd Pkt Len Min', 'Pkt Len Max'], 'Normal sample 1473': ['SYN Flag Cnt', 'Init Fwd Win Byts', 'ACK Flag Cnt', 'FIN Flag Cnt', 'Pkt Len Min', 'Flow Pkts/s', 'Pkt Len Max', 'Bwd Pkts/s', 'Pkt Size Avg', 'Bwd Pkt Len Min'], 'Normal sample 1474': ['Init Bwd Win Byts', 'Fwd IAT Tot', 'SYN Flag Cnt', 'Bwd PSH Flags', 'Fwd Pkt Len Max', 'Fwd IAT Std', 'Bwd IAT Mean', 'Bwd Pkts/s', 'Fwd Pkt Len Mean', 'Down/Up Ratio'], 'Normal sample 1475': ['Init Bwd Win Byts', 'Fwd IAT Tot', 'Fwd IAT Std', 'SYN Flag Cnt', 'Bwd Pkts/s', 'Pkt Len Max', 'Bwd PSH Flags', 'Fwd Seg Size Avg', 'Fwd Pkt Len Mean', 'Init Fwd Win Byts'], 'Normal sample 1476': ['SYN Flag Cnt', 'Init Fwd Win Byts', 'FIN Flag Cnt', 'ACK Flag Cnt', 'Pkt Len Min', 'Flow Pkts/s', 'Pkt Size Avg', 'Bwd Pkts/s', 'Bwd Pkt Len Min', 'Pkt Len Mean'], 'Normal sample 1477': ['Down/Up Ratio', 'Init Fwd Win Byts', 'SYN Flag Cnt', 'FIN Flag Cnt', 'ACK Flag Cnt', 'Flow IAT Max', 'Bwd Pkts/s', 'PSH Flag Cnt', 'Flow IAT Std', 'Flow Duration'], 'Normal sample 1478': ['SYN Flag Cnt', 'Down/Up Ratio', 'Flow Pkts/s', 'Init Fwd Win Byts', 'FIN Flag Cnt', 'Fwd Seg Size Avg', 'Fwd Pkt Len Std', 'Fwd Pkt Len Mean', 'Fwd Pkt Len Max', 'Bwd Pkts/s'], 'Normal sample 1479': ['Init Bwd Win Byts', 'Fwd Pkt Len Max', 'Fwd IAT Tot', 'Fwd IAT Std', 'Down/Up Ratio', 'Pkt Len Max', 'Fwd Pkt Len Std', 'Flow Pkts/s', 'Init Fwd Win Byts', 'Bwd IAT Tot'], 'Normal sample 1480': ['SYN Flag Cnt', 'Init Fwd Win Byts', 'FIN Flag Cnt', 'ACK Flag Cnt', 'Pkt Len Min', 'Pkt Size Avg', 'Bwd Pkts/s', 'Flow Pkts/s', 'Pkt Len Max', 'Pkt Len Mean'], 'Normal sample 1481': ['SYN Flag Cnt', 'Init Fwd Win Byts', 'FIN Flag Cnt', 'ACK Flag Cnt', 'Pkt Len Min', 'Pkt Size Avg', 'Flow Pkts/s', 'Bwd Pkts/s', 'Bwd Pkt Len Min', 'Pkt Len Mean'], 'Normal sample 1482': ['Init Bwd Win Byts', 'Bwd PSH Flags', 'Idle Max', 'PSH Flag Cnt', 'Bwd Pkts/s', 'Fwd IAT Tot', 'Idle Min', 'SYN Flag Cnt', 'FIN Flag Cnt', 'Fwd Pkt Len Mean'], 'Normal sample 1483': ['Down/Up Ratio', 'Init Fwd Win Byts', 'SYN Flag Cnt', 'ACK Flag Cnt', 'FIN Flag Cnt', 'Flow Duration', 'Flow IAT Std', 'TotLen Bwd Pkts', 'Active Min', 'Flow IAT Max'], 'Normal sample 1484': ['SYN Flag Cnt', 'Init Fwd Win Byts', 'FIN Flag Cnt', 'ACK Flag Cnt', 'Flow Pkts/s', 'Pkt Len Min', 'Pkt Size Avg', 'Pkt Len Max', 'Bwd Pkt Len Min', 'Pkt Len Std'], 'Normal sample 1485': ['Init Bwd Win Byts', 'Fwd Pkt Len Max', 'FIN Flag Cnt', 'Fwd Pkt Len Std', 'Down/Up Ratio', 'Fwd Pkt Len Mean', 'Pkt Len Mean', 'Flow Pkts/s', 'Pkt Size Avg', 'Fwd Seg Size Avg'], 'Normal sample 1486': ['Down/Up Ratio', 'Init Fwd Win Byts', 'FIN Flag Cnt', 'Bwd Pkts/s', 'TotLen Fwd Pkts', 'Bwd PSH Flags', 'Pkt Len Min', 'TotLen Bwd Pkts', 'Flow Pkts/s', 'Pkt Size Avg'], 'Normal sample 1487': ['Init Bwd Win Byts', 'SYN Flag Cnt', 'ACK Flag Cnt', 'Bwd IAT Tot', 'Active Mean', 'Fwd Pkt Len Std', 'Idle Mean', 'Bwd IAT Std', 'Idle Min', 'Bwd Header Len'], 'Normal sample 1488': ['Down/Up Ratio', 'Bwd PSH Flags', 'ACK Flag Cnt', 'Init Fwd Win Byts', 'Bwd Pkts/s', 'PSH Flag Cnt', 'SYN Flag Cnt', 'FIN Flag Cnt', 'Pkt Len Var', 'Tot Fwd Pkts'], 'Normal sample 1489': ['SYN Flag Cnt', 'Init Fwd Win Byts', 'FIN Flag Cnt', 'ACK Flag Cnt', 'Pkt Size Avg', 'Flow Pkts/s', 'Pkt Len Mean', 'Pkt Len Min', 'Bwd Pkts/s', 'Bwd Pkt Len Min'], 'Normal sample 1490': ['Down/Up Ratio', 'Init Fwd Win Byts', 'SYN Flag Cnt', 'ACK Flag Cnt', 'FIN Flag Cnt', 'Bwd Pkts/s', 'Fwd Pkt Len Mean', 'Idle Std', 'Pkt Len Min', 'Idle Mean'], 'Normal sample 1491': ['SYN Flag Cnt', 'Init Fwd Win Byts', 'FIN Flag Cnt', 'Pkt Size Avg', 'Pkt Len Min', 'Flow Pkts/s', 'Bwd Pkt Len Min', 'Pkt Len Mean', 'ACK Flag Cnt', 'Bwd Pkts/s'], 'Normal sample 1492': ['Init Bwd Win Byts', 'Pkt Len Max', 'Fwd IAT Tot', 'Pkt Len Std', 'Pkt Len Mean', 'SYN Flag Cnt', 'Pkt Size Avg', 'Bwd PSH Flags', 'Down/Up Ratio', 'Bwd Pkts/s'], 'Normal sample 1493': ['SYN Flag Cnt', 'Init Fwd Win Byts', 'FIN Flag Cnt', 'ACK Flag Cnt', 'Pkt Len Min', 'Pkt Size Avg', 'Flow Pkts/s', 'Bwd Pkt Len Min', 'Bwd Pkts/s', 'Pkt Len Mean'], 'Normal sample 1494': ['SYN Flag Cnt', 'Init Fwd Win Byts', 'FIN Flag Cnt', 'ACK Flag Cnt', 'Pkt Len Min', 'Pkt Size Avg', 'Pkt Len Mean', 'Pkt Len Max', 'Flow Pkts/s', 'Bwd Pkt Len Min'], 'Normal sample 1495': ['Init Bwd Win Byts', 'Fwd IAT Tot', 'Pkt Len Max', 'Bwd IAT Tot', 'Pkt Len Std', 'Pkt Size Avg', 'Pkt Len Mean', 'Fwd IAT Std', 'Down/Up Ratio', 'ACK Flag Cnt'], 'Normal sample 1496': ['Init Bwd Win Byts', 'Pkt Len Max', 'Fwd IAT Tot', 'Fwd IAT Mean', 'Fwd Pkt Len Std', 'Fwd Pkt Len Max', 'Fwd IAT Std', 'Fwd IAT Max', 'Flow Pkts/s', 'FIN Flag Cnt'], 'Normal sample 1497': ['Init Bwd Win Byts', 'SYN Flag Cnt', 'ACK Flag Cnt', 'Fwd Pkt Len Std', 'Bwd IAT Std', 'Fwd Header Len', 'URG Flag Cnt', 'Idle Mean', 'Bwd IAT Max', 'Idle Min'], 'Normal sample 1498': ['SYN Flag Cnt', 'Init Fwd Win Byts', 'FIN Flag Cnt', 'Pkt Size Avg', 'ACK Flag Cnt', 'Flow Pkts/s', 'Pkt Len Mean', 'Pkt Len Min', 'Bwd Pkt Len Min', 'Bwd Pkts/s'], 'Normal sample 1499': ['SYN Flag Cnt', 'Init Fwd Win Byts', 'ACK Flag Cnt', 'FIN Flag Cnt', 'Flow Pkts/s', 'Pkt Len Min', 'Pkt Size Avg', 'Bwd Pkts/s', 'Bwd Pkt Len Min', 'Pkt Len Mean']}\n"
          ]
        }
      ]
    },
    {
      "cell_type": "code",
      "source": [
        "len(data_dict)"
      ],
      "metadata": {
        "colab": {
          "base_uri": "https://localhost:8080/"
        },
        "id": "CDRmV6RRT6gS",
        "outputId": "cea78ed5-961f-4e5c-fb03-6abe7b348bf5"
      },
      "execution_count": 57,
      "outputs": [
        {
          "output_type": "execute_result",
          "data": {
            "text/plain": [
              "1500"
            ]
          },
          "metadata": {},
          "execution_count": 57
        }
      ]
    },
    {
      "cell_type": "markdown",
      "source": [
        "# Extract local feature for each adv sample"
      ],
      "metadata": {
        "id": "JwBapttUM7Du"
      }
    },
    {
      "cell_type": "code",
      "source": [
        "for idx in range(0, 76592):\n",
        "  # Create a DataFrame with the SHAP values and feature names\n",
        "  df_shap_values = pd.DataFrame({'SHAP Values': exp[idx].values}, index=feature_list)\n",
        "  df_shap_values.sort_values(by=['SHAP Values'], ascending=False, inplace=True)\n",
        "  df_shap_values.to_csv('/content/drive/MyDrive/DACN_XAI_Adv_defense/InSDN/Normal_local/SHAP_Samples_' + str(idx) + '.csv')\n",
        "  print('Extracted local importance feature of the ' + str(idx) + ' sample.')"
      ],
      "metadata": {
        "id": "a8Xe-PM9Ikwa"
      },
      "execution_count": null,
      "outputs": []
    },
    {
      "cell_type": "markdown",
      "source": [
        "# Detect normal samples"
      ],
      "metadata": {
        "id": "Csd7930IX6WM"
      }
    },
    {
      "cell_type": "code",
      "source": [
        "whitelist = freq_df.iloc[:, 0][:38].tolist()\n",
        "print(whitelist)"
      ],
      "metadata": {
        "colab": {
          "base_uri": "https://localhost:8080/"
        },
        "id": "RC9AnuTcv8ez",
        "outputId": "ab5d7e2a-0a80-476e-e321-35bb0a04c60a"
      },
      "execution_count": 72,
      "outputs": [
        {
          "output_type": "stream",
          "name": "stdout",
          "text": [
            "['FIN Flag Cnt', 'SYN Flag Cnt', 'Init Fwd Win Byts', 'Flow Pkts/s', 'ACK Flag Cnt', 'Pkt Size Avg', 'Bwd Pkts/s', 'Down/Up Ratio', 'Pkt Len Mean', 'Pkt Len Min', 'Bwd Pkt Len Min', 'Pkt Len Max', 'Init Bwd Win Byts', 'Fwd Pkt Len Max', 'Fwd IAT Tot', 'Flow IAT Max', 'PSH Flag Cnt', 'Fwd Pkt Len Std', 'Fwd Pkt Len Mean', 'Pkt Len Std', 'Bwd IAT Tot', 'Idle Max', 'Fwd Seg Size Avg', 'Fwd IAT Std', 'Bwd PSH Flags', 'Flow Duration', 'Bwd IAT Std', 'Fwd Pkt Len Min', 'Flow IAT Std', 'Bwd IAT Max', 'Idle Mean', 'Fwd IAT Max', 'URG Flag Cnt', 'Idle Min', 'Flow IAT Mean', 'Fwd IAT Mean', 'Flow Byts/s', 'Bwd Pkt Len Mean']\n"
          ]
        }
      ]
    },
    {
      "cell_type": "code",
      "source": [
        "alert = []\n",
        "\n",
        "# Iterate over each key-value pair in the data_dict\n",
        "for key, value in data_dict.items():\n",
        "    # Check if there are one feature is not in the whitelist\n",
        "    for string in value:\n",
        "      if string not in whitelist:\n",
        "        alert.append(key)\n",
        "        break\n",
        "\n",
        "# Print the alert dictionary\n",
        "print(\"Alert list length:\" + str(len(alert)))"
      ],
      "metadata": {
        "colab": {
          "base_uri": "https://localhost:8080/"
        },
        "id": "P-IQyZMYYLzp",
        "outputId": "1a6ccf3e-157a-4bfc-9f3f-99465e961177"
      },
      "execution_count": 73,
      "outputs": [
        {
          "output_type": "stream",
          "name": "stdout",
          "text": [
            "Alert list length:511\n"
          ]
        }
      ]
    },
    {
      "cell_type": "code",
      "source": [
        "whitelist = freq_df.iloc[:, 0][:24].tolist()\n",
        "print(whitelist)"
      ],
      "metadata": {
        "colab": {
          "base_uri": "https://localhost:8080/"
        },
        "id": "b9ZX1XMcYssx",
        "outputId": "760b0517-71d8-4bcb-87a1-0242708863d1"
      },
      "execution_count": 74,
      "outputs": [
        {
          "output_type": "stream",
          "name": "stdout",
          "text": [
            "['FIN Flag Cnt', 'SYN Flag Cnt', 'Init Fwd Win Byts', 'Flow Pkts/s', 'ACK Flag Cnt', 'Pkt Size Avg', 'Bwd Pkts/s', 'Down/Up Ratio', 'Pkt Len Mean', 'Pkt Len Min', 'Bwd Pkt Len Min', 'Pkt Len Max', 'Init Bwd Win Byts', 'Fwd Pkt Len Max', 'Fwd IAT Tot', 'Flow IAT Max', 'PSH Flag Cnt', 'Fwd Pkt Len Std', 'Fwd Pkt Len Mean', 'Pkt Len Std', 'Bwd IAT Tot', 'Idle Max', 'Fwd Seg Size Avg', 'Fwd IAT Std']\n"
          ]
        }
      ]
    },
    {
      "cell_type": "code",
      "source": [
        "alert = []\n",
        "\n",
        "# Iterate over each key-value pair in the data_dict\n",
        "for key, value in data_dict.items():\n",
        "    # Check if there are one feature is not in the whitelist\n",
        "    for string in value:\n",
        "      if string not in whitelist:\n",
        "        alert.append(key)\n",
        "        break\n",
        "\n",
        "# Print the alert dictionary\n",
        "print(\"Alert list length:\" + str(len(alert)))"
      ],
      "metadata": {
        "colab": {
          "base_uri": "https://localhost:8080/"
        },
        "id": "DuQ1OUp6Yrgh",
        "outputId": "aaff1dd6-2a0f-41c5-9fe0-8fbd654e0171"
      },
      "execution_count": 75,
      "outputs": [
        {
          "output_type": "stream",
          "name": "stdout",
          "text": [
            "Alert list length:936\n"
          ]
        }
      ]
    },
    {
      "cell_type": "markdown",
      "source": [
        "## False positive of XAI on normal samples of trainset:\n",
        "top 38: 511/1500\n",
        "\n",
        "top 24: 936/1500"
      ],
      "metadata": {
        "id": "kykod9kUylxB"
      }
    },
    {
      "cell_type": "markdown",
      "source": [
        "# New whitelist: 38 top features with over 10k freq each"
      ],
      "metadata": {
        "id": "JyjDe5Kxredo"
      }
    },
    {
      "cell_type": "code",
      "source": [
        "df = pd.DataFrame.from_dict(data_dict, orient='index', columns=['Feature 1', 'Feature 2', 'Feature 3', 'Feature 4', 'Feature 5', 'Feature 6', 'Feature 7', 'Feature 8', 'Feature 9', 'Feature 10'])"
      ],
      "metadata": {
        "id": "HeFSTFLZeh1N"
      },
      "execution_count": 58,
      "outputs": []
    },
    {
      "cell_type": "code",
      "source": [
        "df.info()"
      ],
      "metadata": {
        "colab": {
          "base_uri": "https://localhost:8080/"
        },
        "id": "St0fe9Aye6ml",
        "outputId": "c5e7a767-1047-4778-d3c7-783b002f3c8d"
      },
      "execution_count": 59,
      "outputs": [
        {
          "output_type": "stream",
          "name": "stdout",
          "text": [
            "<class 'pandas.core.frame.DataFrame'>\n",
            "Index: 1500 entries, Normal sample 0 to Normal sample 1499\n",
            "Data columns (total 10 columns):\n",
            " #   Column      Non-Null Count  Dtype \n",
            "---  ------      --------------  ----- \n",
            " 0   Feature 1   1500 non-null   object\n",
            " 1   Feature 2   1500 non-null   object\n",
            " 2   Feature 3   1500 non-null   object\n",
            " 3   Feature 4   1500 non-null   object\n",
            " 4   Feature 5   1500 non-null   object\n",
            " 5   Feature 6   1500 non-null   object\n",
            " 6   Feature 7   1500 non-null   object\n",
            " 7   Feature 8   1500 non-null   object\n",
            " 8   Feature 9   1500 non-null   object\n",
            " 9   Feature 10  1500 non-null   object\n",
            "dtypes: object(10)\n",
            "memory usage: 128.9+ KB\n"
          ]
        }
      ]
    },
    {
      "cell_type": "code",
      "source": [
        "df.head()"
      ],
      "metadata": {
        "colab": {
          "base_uri": "https://localhost:8080/",
          "height": 354
        },
        "id": "z0LoK7TwTTFN",
        "outputId": "f71e81ee-34ca-4c4d-a2db-b86e58999154"
      },
      "execution_count": 60,
      "outputs": [
        {
          "output_type": "execute_result",
          "data": {
            "text/plain": [
              "                         Feature 1          Feature 2     Feature 3  \\\n",
              "Normal sample 0       SYN Flag Cnt  Init Fwd Win Byts  FIN Flag Cnt   \n",
              "Normal sample 1  Init Fwd Win Byts       FIN Flag Cnt  Tot Fwd Pkts   \n",
              "Normal sample 2      Down/Up Ratio  Init Fwd Win Byts  SYN Flag Cnt   \n",
              "Normal sample 3      Down/Up Ratio  Init Fwd Win Byts  SYN Flag Cnt   \n",
              "Normal sample 4       SYN Flag Cnt  Init Fwd Win Byts  Pkt Size Avg   \n",
              "\n",
              "                     Feature 4     Feature 5     Feature 6        Feature 7  \\\n",
              "Normal sample 0    Pkt Len Min  Pkt Size Avg  ACK Flag Cnt      Flow Pkts/s   \n",
              "Normal sample 1  Down/Up Ratio   Bwd IAT Tot   Bwd IAT Max        Idle Mean   \n",
              "Normal sample 2   ACK Flag Cnt  FIN Flag Cnt     Idle Mean         Idle Max   \n",
              "Normal sample 3   FIN Flag Cnt  ACK Flag Cnt  PSH Flag Cnt       Bwd Pkts/s   \n",
              "Normal sample 4   FIN Flag Cnt   Pkt Len Min  Pkt Len Mean  Bwd Pkt Len Min   \n",
              "\n",
              "                    Feature 8          Feature 9    Feature 10  \n",
              "Normal sample 0  Pkt Len Mean    Bwd Pkt Len Min   Pkt Len Max  \n",
              "Normal sample 1   Bwd IAT Std  Fwd Act Data Pkts   Pkt Len Std  \n",
              "Normal sample 2  PSH Flag Cnt         Active Max  URG Flag Cnt  \n",
              "Normal sample 3  Flow IAT Max   Subflow Bwd Byts    Active Max  \n",
              "Normal sample 4  ACK Flag Cnt        Pkt Len Max   Flow Pkts/s  "
            ],
            "text/html": [
              "\n",
              "  <div id=\"df-1fac9edd-d2c1-4b9e-9344-b24cb35aeb86\">\n",
              "    <div class=\"colab-df-container\">\n",
              "      <div>\n",
              "<style scoped>\n",
              "    .dataframe tbody tr th:only-of-type {\n",
              "        vertical-align: middle;\n",
              "    }\n",
              "\n",
              "    .dataframe tbody tr th {\n",
              "        vertical-align: top;\n",
              "    }\n",
              "\n",
              "    .dataframe thead th {\n",
              "        text-align: right;\n",
              "    }\n",
              "</style>\n",
              "<table border=\"1\" class=\"dataframe\">\n",
              "  <thead>\n",
              "    <tr style=\"text-align: right;\">\n",
              "      <th></th>\n",
              "      <th>Feature 1</th>\n",
              "      <th>Feature 2</th>\n",
              "      <th>Feature 3</th>\n",
              "      <th>Feature 4</th>\n",
              "      <th>Feature 5</th>\n",
              "      <th>Feature 6</th>\n",
              "      <th>Feature 7</th>\n",
              "      <th>Feature 8</th>\n",
              "      <th>Feature 9</th>\n",
              "      <th>Feature 10</th>\n",
              "    </tr>\n",
              "  </thead>\n",
              "  <tbody>\n",
              "    <tr>\n",
              "      <th>Normal sample 0</th>\n",
              "      <td>SYN Flag Cnt</td>\n",
              "      <td>Init Fwd Win Byts</td>\n",
              "      <td>FIN Flag Cnt</td>\n",
              "      <td>Pkt Len Min</td>\n",
              "      <td>Pkt Size Avg</td>\n",
              "      <td>ACK Flag Cnt</td>\n",
              "      <td>Flow Pkts/s</td>\n",
              "      <td>Pkt Len Mean</td>\n",
              "      <td>Bwd Pkt Len Min</td>\n",
              "      <td>Pkt Len Max</td>\n",
              "    </tr>\n",
              "    <tr>\n",
              "      <th>Normal sample 1</th>\n",
              "      <td>Init Fwd Win Byts</td>\n",
              "      <td>FIN Flag Cnt</td>\n",
              "      <td>Tot Fwd Pkts</td>\n",
              "      <td>Down/Up Ratio</td>\n",
              "      <td>Bwd IAT Tot</td>\n",
              "      <td>Bwd IAT Max</td>\n",
              "      <td>Idle Mean</td>\n",
              "      <td>Bwd IAT Std</td>\n",
              "      <td>Fwd Act Data Pkts</td>\n",
              "      <td>Pkt Len Std</td>\n",
              "    </tr>\n",
              "    <tr>\n",
              "      <th>Normal sample 2</th>\n",
              "      <td>Down/Up Ratio</td>\n",
              "      <td>Init Fwd Win Byts</td>\n",
              "      <td>SYN Flag Cnt</td>\n",
              "      <td>ACK Flag Cnt</td>\n",
              "      <td>FIN Flag Cnt</td>\n",
              "      <td>Idle Mean</td>\n",
              "      <td>Idle Max</td>\n",
              "      <td>PSH Flag Cnt</td>\n",
              "      <td>Active Max</td>\n",
              "      <td>URG Flag Cnt</td>\n",
              "    </tr>\n",
              "    <tr>\n",
              "      <th>Normal sample 3</th>\n",
              "      <td>Down/Up Ratio</td>\n",
              "      <td>Init Fwd Win Byts</td>\n",
              "      <td>SYN Flag Cnt</td>\n",
              "      <td>FIN Flag Cnt</td>\n",
              "      <td>ACK Flag Cnt</td>\n",
              "      <td>PSH Flag Cnt</td>\n",
              "      <td>Bwd Pkts/s</td>\n",
              "      <td>Flow IAT Max</td>\n",
              "      <td>Subflow Bwd Byts</td>\n",
              "      <td>Active Max</td>\n",
              "    </tr>\n",
              "    <tr>\n",
              "      <th>Normal sample 4</th>\n",
              "      <td>SYN Flag Cnt</td>\n",
              "      <td>Init Fwd Win Byts</td>\n",
              "      <td>Pkt Size Avg</td>\n",
              "      <td>FIN Flag Cnt</td>\n",
              "      <td>Pkt Len Min</td>\n",
              "      <td>Pkt Len Mean</td>\n",
              "      <td>Bwd Pkt Len Min</td>\n",
              "      <td>ACK Flag Cnt</td>\n",
              "      <td>Pkt Len Max</td>\n",
              "      <td>Flow Pkts/s</td>\n",
              "    </tr>\n",
              "  </tbody>\n",
              "</table>\n",
              "</div>\n",
              "      <button class=\"colab-df-convert\" onclick=\"convertToInteractive('df-1fac9edd-d2c1-4b9e-9344-b24cb35aeb86')\"\n",
              "              title=\"Convert this dataframe to an interactive table.\"\n",
              "              style=\"display:none;\">\n",
              "        \n",
              "  <svg xmlns=\"http://www.w3.org/2000/svg\" height=\"24px\"viewBox=\"0 0 24 24\"\n",
              "       width=\"24px\">\n",
              "    <path d=\"M0 0h24v24H0V0z\" fill=\"none\"/>\n",
              "    <path d=\"M18.56 5.44l.94 2.06.94-2.06 2.06-.94-2.06-.94-.94-2.06-.94 2.06-2.06.94zm-11 1L8.5 8.5l.94-2.06 2.06-.94-2.06-.94L8.5 2.5l-.94 2.06-2.06.94zm10 10l.94 2.06.94-2.06 2.06-.94-2.06-.94-.94-2.06-.94 2.06-2.06.94z\"/><path d=\"M17.41 7.96l-1.37-1.37c-.4-.4-.92-.59-1.43-.59-.52 0-1.04.2-1.43.59L10.3 9.45l-7.72 7.72c-.78.78-.78 2.05 0 2.83L4 21.41c.39.39.9.59 1.41.59.51 0 1.02-.2 1.41-.59l7.78-7.78 2.81-2.81c.8-.78.8-2.07 0-2.86zM5.41 20L4 18.59l7.72-7.72 1.47 1.35L5.41 20z\"/>\n",
              "  </svg>\n",
              "      </button>\n",
              "      \n",
              "  <style>\n",
              "    .colab-df-container {\n",
              "      display:flex;\n",
              "      flex-wrap:wrap;\n",
              "      gap: 12px;\n",
              "    }\n",
              "\n",
              "    .colab-df-convert {\n",
              "      background-color: #E8F0FE;\n",
              "      border: none;\n",
              "      border-radius: 50%;\n",
              "      cursor: pointer;\n",
              "      display: none;\n",
              "      fill: #1967D2;\n",
              "      height: 32px;\n",
              "      padding: 0 0 0 0;\n",
              "      width: 32px;\n",
              "    }\n",
              "\n",
              "    .colab-df-convert:hover {\n",
              "      background-color: #E2EBFA;\n",
              "      box-shadow: 0px 1px 2px rgba(60, 64, 67, 0.3), 0px 1px 3px 1px rgba(60, 64, 67, 0.15);\n",
              "      fill: #174EA6;\n",
              "    }\n",
              "\n",
              "    [theme=dark] .colab-df-convert {\n",
              "      background-color: #3B4455;\n",
              "      fill: #D2E3FC;\n",
              "    }\n",
              "\n",
              "    [theme=dark] .colab-df-convert:hover {\n",
              "      background-color: #434B5C;\n",
              "      box-shadow: 0px 1px 3px 1px rgba(0, 0, 0, 0.15);\n",
              "      filter: drop-shadow(0px 1px 2px rgba(0, 0, 0, 0.3));\n",
              "      fill: #FFFFFF;\n",
              "    }\n",
              "  </style>\n",
              "\n",
              "      <script>\n",
              "        const buttonEl =\n",
              "          document.querySelector('#df-1fac9edd-d2c1-4b9e-9344-b24cb35aeb86 button.colab-df-convert');\n",
              "        buttonEl.style.display =\n",
              "          google.colab.kernel.accessAllowed ? 'block' : 'none';\n",
              "\n",
              "        async function convertToInteractive(key) {\n",
              "          const element = document.querySelector('#df-1fac9edd-d2c1-4b9e-9344-b24cb35aeb86');\n",
              "          const dataTable =\n",
              "            await google.colab.kernel.invokeFunction('convertToInteractive',\n",
              "                                                     [key], {});\n",
              "          if (!dataTable) return;\n",
              "\n",
              "          const docLinkHtml = 'Like what you see? Visit the ' +\n",
              "            '<a target=\"_blank\" href=https://colab.research.google.com/notebooks/data_table.ipynb>data table notebook</a>'\n",
              "            + ' to learn more about interactive tables.';\n",
              "          element.innerHTML = '';\n",
              "          dataTable['output_type'] = 'display_data';\n",
              "          await google.colab.output.renderOutput(dataTable, element);\n",
              "          const docLink = document.createElement('div');\n",
              "          docLink.innerHTML = docLinkHtml;\n",
              "          element.appendChild(docLink);\n",
              "        }\n",
              "      </script>\n",
              "    </div>\n",
              "  </div>\n",
              "  "
            ]
          },
          "metadata": {},
          "execution_count": 60
        }
      ]
    },
    {
      "cell_type": "code",
      "source": [
        "df.to_csv('/content/drive/MyDrive/DACN_XAI_Adv_defense/InSDN/MLP_top10_of_each_normalfile.csv')"
      ],
      "metadata": {
        "id": "OgypaVUtfFHD"
      },
      "execution_count": 61,
      "outputs": []
    },
    {
      "cell_type": "code",
      "source": [
        "freq = {}\n",
        "for column in df.columns:\n",
        "  for feature in df[column]:\n",
        "    if feature in freq:\n",
        "      continue\n",
        "    else:\n",
        "      count = sum(df[column_2] == feature for column_2 in df.columns)\n",
        "      freq[feature] = count.sum()\n",
        "      print(freq[feature])"
      ],
      "metadata": {
        "colab": {
          "base_uri": "https://localhost:8080/"
        },
        "id": "LAINpgS9ikN8",
        "outputId": "d088f04d-eebb-45d4-bccd-2aff0efb417b"
      },
      "execution_count": 62,
      "outputs": [
        {
          "output_type": "stream",
          "name": "stdout",
          "text": [
            "1196\n",
            "986\n",
            "732\n",
            "148\n",
            "767\n",
            "473\n",
            "56\n",
            "582\n",
            "275\n",
            "283\n",
            "131\n",
            "238\n",
            "588\n",
            "197\n",
            "180\n",
            "1223\n",
            "667\n",
            "584\n",
            "808\n",
            "156\n",
            "188\n",
            "884\n",
            "752\n",
            "197\n",
            "193\n",
            "37\n",
            "188\n",
            "182\n",
            "25\n",
            "132\n",
            "81\n",
            "260\n",
            "65\n",
            "123\n",
            "44\n",
            "64\n",
            "30\n",
            "153\n",
            "156\n",
            "23\n",
            "77\n",
            "21\n",
            "35\n",
            "136\n",
            "40\n",
            "34\n",
            "30\n",
            "43\n",
            "34\n",
            "22\n",
            "36\n",
            "23\n",
            "39\n",
            "31\n",
            "38\n",
            "34\n",
            "47\n",
            "30\n",
            "51\n",
            "35\n",
            "38\n",
            "20\n",
            "27\n",
            "32\n"
          ]
        }
      ]
    },
    {
      "cell_type": "code",
      "source": [
        "len(freq)"
      ],
      "metadata": {
        "colab": {
          "base_uri": "https://localhost:8080/"
        },
        "id": "7SNJ0BhvVZKd",
        "outputId": "c1096af3-25d0-4745-9c82-15117bb1581b"
      },
      "execution_count": 67,
      "outputs": [
        {
          "output_type": "execute_result",
          "data": {
            "text/plain": [
              "64"
            ]
          },
          "metadata": {},
          "execution_count": 67
        }
      ]
    },
    {
      "cell_type": "code",
      "source": [
        "freq_df = pd.DataFrame(list(freq.items()), columns=['Feature', 'Frequency'])\n",
        "freq_df.head()"
      ],
      "metadata": {
        "colab": {
          "base_uri": "https://localhost:8080/",
          "height": 206
        },
        "id": "v_oz2bDBnGu7",
        "outputId": "352d1bd8-fe4c-4166-f376-64c5a0471e12"
      },
      "execution_count": 63,
      "outputs": [
        {
          "output_type": "execute_result",
          "data": {
            "text/plain": [
              "             Feature  Frequency\n",
              "0       SYN Flag Cnt       1196\n",
              "1  Init Fwd Win Byts        986\n",
              "2      Down/Up Ratio        732\n",
              "3    Fwd Pkt Len Min        148\n",
              "4       Pkt Size Avg        767"
            ],
            "text/html": [
              "\n",
              "  <div id=\"df-5928cc17-e24f-4614-92b9-4b5c348d81b4\">\n",
              "    <div class=\"colab-df-container\">\n",
              "      <div>\n",
              "<style scoped>\n",
              "    .dataframe tbody tr th:only-of-type {\n",
              "        vertical-align: middle;\n",
              "    }\n",
              "\n",
              "    .dataframe tbody tr th {\n",
              "        vertical-align: top;\n",
              "    }\n",
              "\n",
              "    .dataframe thead th {\n",
              "        text-align: right;\n",
              "    }\n",
              "</style>\n",
              "<table border=\"1\" class=\"dataframe\">\n",
              "  <thead>\n",
              "    <tr style=\"text-align: right;\">\n",
              "      <th></th>\n",
              "      <th>Feature</th>\n",
              "      <th>Frequency</th>\n",
              "    </tr>\n",
              "  </thead>\n",
              "  <tbody>\n",
              "    <tr>\n",
              "      <th>0</th>\n",
              "      <td>SYN Flag Cnt</td>\n",
              "      <td>1196</td>\n",
              "    </tr>\n",
              "    <tr>\n",
              "      <th>1</th>\n",
              "      <td>Init Fwd Win Byts</td>\n",
              "      <td>986</td>\n",
              "    </tr>\n",
              "    <tr>\n",
              "      <th>2</th>\n",
              "      <td>Down/Up Ratio</td>\n",
              "      <td>732</td>\n",
              "    </tr>\n",
              "    <tr>\n",
              "      <th>3</th>\n",
              "      <td>Fwd Pkt Len Min</td>\n",
              "      <td>148</td>\n",
              "    </tr>\n",
              "    <tr>\n",
              "      <th>4</th>\n",
              "      <td>Pkt Size Avg</td>\n",
              "      <td>767</td>\n",
              "    </tr>\n",
              "  </tbody>\n",
              "</table>\n",
              "</div>\n",
              "      <button class=\"colab-df-convert\" onclick=\"convertToInteractive('df-5928cc17-e24f-4614-92b9-4b5c348d81b4')\"\n",
              "              title=\"Convert this dataframe to an interactive table.\"\n",
              "              style=\"display:none;\">\n",
              "        \n",
              "  <svg xmlns=\"http://www.w3.org/2000/svg\" height=\"24px\"viewBox=\"0 0 24 24\"\n",
              "       width=\"24px\">\n",
              "    <path d=\"M0 0h24v24H0V0z\" fill=\"none\"/>\n",
              "    <path d=\"M18.56 5.44l.94 2.06.94-2.06 2.06-.94-2.06-.94-.94-2.06-.94 2.06-2.06.94zm-11 1L8.5 8.5l.94-2.06 2.06-.94-2.06-.94L8.5 2.5l-.94 2.06-2.06.94zm10 10l.94 2.06.94-2.06 2.06-.94-2.06-.94-.94-2.06-.94 2.06-2.06.94z\"/><path d=\"M17.41 7.96l-1.37-1.37c-.4-.4-.92-.59-1.43-.59-.52 0-1.04.2-1.43.59L10.3 9.45l-7.72 7.72c-.78.78-.78 2.05 0 2.83L4 21.41c.39.39.9.59 1.41.59.51 0 1.02-.2 1.41-.59l7.78-7.78 2.81-2.81c.8-.78.8-2.07 0-2.86zM5.41 20L4 18.59l7.72-7.72 1.47 1.35L5.41 20z\"/>\n",
              "  </svg>\n",
              "      </button>\n",
              "      \n",
              "  <style>\n",
              "    .colab-df-container {\n",
              "      display:flex;\n",
              "      flex-wrap:wrap;\n",
              "      gap: 12px;\n",
              "    }\n",
              "\n",
              "    .colab-df-convert {\n",
              "      background-color: #E8F0FE;\n",
              "      border: none;\n",
              "      border-radius: 50%;\n",
              "      cursor: pointer;\n",
              "      display: none;\n",
              "      fill: #1967D2;\n",
              "      height: 32px;\n",
              "      padding: 0 0 0 0;\n",
              "      width: 32px;\n",
              "    }\n",
              "\n",
              "    .colab-df-convert:hover {\n",
              "      background-color: #E2EBFA;\n",
              "      box-shadow: 0px 1px 2px rgba(60, 64, 67, 0.3), 0px 1px 3px 1px rgba(60, 64, 67, 0.15);\n",
              "      fill: #174EA6;\n",
              "    }\n",
              "\n",
              "    [theme=dark] .colab-df-convert {\n",
              "      background-color: #3B4455;\n",
              "      fill: #D2E3FC;\n",
              "    }\n",
              "\n",
              "    [theme=dark] .colab-df-convert:hover {\n",
              "      background-color: #434B5C;\n",
              "      box-shadow: 0px 1px 3px 1px rgba(0, 0, 0, 0.15);\n",
              "      filter: drop-shadow(0px 1px 2px rgba(0, 0, 0, 0.3));\n",
              "      fill: #FFFFFF;\n",
              "    }\n",
              "  </style>\n",
              "\n",
              "      <script>\n",
              "        const buttonEl =\n",
              "          document.querySelector('#df-5928cc17-e24f-4614-92b9-4b5c348d81b4 button.colab-df-convert');\n",
              "        buttonEl.style.display =\n",
              "          google.colab.kernel.accessAllowed ? 'block' : 'none';\n",
              "\n",
              "        async function convertToInteractive(key) {\n",
              "          const element = document.querySelector('#df-5928cc17-e24f-4614-92b9-4b5c348d81b4');\n",
              "          const dataTable =\n",
              "            await google.colab.kernel.invokeFunction('convertToInteractive',\n",
              "                                                     [key], {});\n",
              "          if (!dataTable) return;\n",
              "\n",
              "          const docLinkHtml = 'Like what you see? Visit the ' +\n",
              "            '<a target=\"_blank\" href=https://colab.research.google.com/notebooks/data_table.ipynb>data table notebook</a>'\n",
              "            + ' to learn more about interactive tables.';\n",
              "          element.innerHTML = '';\n",
              "          dataTable['output_type'] = 'display_data';\n",
              "          await google.colab.output.renderOutput(dataTable, element);\n",
              "          const docLink = document.createElement('div');\n",
              "          docLink.innerHTML = docLinkHtml;\n",
              "          element.appendChild(docLink);\n",
              "        }\n",
              "      </script>\n",
              "    </div>\n",
              "  </div>\n",
              "  "
            ]
          },
          "metadata": {},
          "execution_count": 63
        }
      ]
    },
    {
      "cell_type": "code",
      "source": [
        "freq_df.sort_values(by=['Frequency'], ascending=False, inplace=True)\n",
        "freq_df.info()"
      ],
      "metadata": {
        "colab": {
          "base_uri": "https://localhost:8080/"
        },
        "id": "add06FW7nZhH",
        "outputId": "2ac7c056-7a1a-4977-b7bb-5a86573790ea"
      },
      "execution_count": 64,
      "outputs": [
        {
          "output_type": "stream",
          "name": "stdout",
          "text": [
            "<class 'pandas.core.frame.DataFrame'>\n",
            "Int64Index: 64 entries, 15 to 61\n",
            "Data columns (total 2 columns):\n",
            " #   Column     Non-Null Count  Dtype \n",
            "---  ------     --------------  ----- \n",
            " 0   Feature    64 non-null     object\n",
            " 1   Frequency  64 non-null     int64 \n",
            "dtypes: int64(1), object(1)\n",
            "memory usage: 1.5+ KB\n"
          ]
        }
      ]
    },
    {
      "cell_type": "code",
      "source": [
        "freq_df.head(24)"
      ],
      "metadata": {
        "colab": {
          "base_uri": "https://localhost:8080/",
          "height": 802
        },
        "id": "jLV5VBrguBWd",
        "outputId": "bb434f3a-7834-479b-d039-ab356f5cceca"
      },
      "execution_count": 65,
      "outputs": [
        {
          "output_type": "execute_result",
          "data": {
            "text/plain": [
              "              Feature  Frequency\n",
              "15       FIN Flag Cnt       1223\n",
              "0        SYN Flag Cnt       1196\n",
              "1   Init Fwd Win Byts        986\n",
              "21        Flow Pkts/s        884\n",
              "18       ACK Flag Cnt        808\n",
              "4        Pkt Size Avg        767\n",
              "22         Bwd Pkts/s        752\n",
              "2       Down/Up Ratio        732\n",
              "16       Pkt Len Mean        667\n",
              "12        Pkt Len Min        588\n",
              "17    Bwd Pkt Len Min        584\n",
              "7         Pkt Len Max        582\n",
              "5   Init Bwd Win Byts        473\n",
              "9     Fwd Pkt Len Max        283\n",
              "8         Fwd IAT Tot        275\n",
              "31       Flow IAT Max        260\n",
              "11       PSH Flag Cnt        238\n",
              "13    Fwd Pkt Len Std        197\n",
              "23   Fwd Pkt Len Mean        197\n",
              "24        Pkt Len Std        193\n",
              "20        Bwd IAT Tot        188\n",
              "26           Idle Max        188\n",
              "27   Fwd Seg Size Avg        182\n",
              "14        Fwd IAT Std        180"
            ],
            "text/html": [
              "\n",
              "  <div id=\"df-d44e4af1-6b0c-456c-b3ee-fccc8e53ae8e\">\n",
              "    <div class=\"colab-df-container\">\n",
              "      <div>\n",
              "<style scoped>\n",
              "    .dataframe tbody tr th:only-of-type {\n",
              "        vertical-align: middle;\n",
              "    }\n",
              "\n",
              "    .dataframe tbody tr th {\n",
              "        vertical-align: top;\n",
              "    }\n",
              "\n",
              "    .dataframe thead th {\n",
              "        text-align: right;\n",
              "    }\n",
              "</style>\n",
              "<table border=\"1\" class=\"dataframe\">\n",
              "  <thead>\n",
              "    <tr style=\"text-align: right;\">\n",
              "      <th></th>\n",
              "      <th>Feature</th>\n",
              "      <th>Frequency</th>\n",
              "    </tr>\n",
              "  </thead>\n",
              "  <tbody>\n",
              "    <tr>\n",
              "      <th>15</th>\n",
              "      <td>FIN Flag Cnt</td>\n",
              "      <td>1223</td>\n",
              "    </tr>\n",
              "    <tr>\n",
              "      <th>0</th>\n",
              "      <td>SYN Flag Cnt</td>\n",
              "      <td>1196</td>\n",
              "    </tr>\n",
              "    <tr>\n",
              "      <th>1</th>\n",
              "      <td>Init Fwd Win Byts</td>\n",
              "      <td>986</td>\n",
              "    </tr>\n",
              "    <tr>\n",
              "      <th>21</th>\n",
              "      <td>Flow Pkts/s</td>\n",
              "      <td>884</td>\n",
              "    </tr>\n",
              "    <tr>\n",
              "      <th>18</th>\n",
              "      <td>ACK Flag Cnt</td>\n",
              "      <td>808</td>\n",
              "    </tr>\n",
              "    <tr>\n",
              "      <th>4</th>\n",
              "      <td>Pkt Size Avg</td>\n",
              "      <td>767</td>\n",
              "    </tr>\n",
              "    <tr>\n",
              "      <th>22</th>\n",
              "      <td>Bwd Pkts/s</td>\n",
              "      <td>752</td>\n",
              "    </tr>\n",
              "    <tr>\n",
              "      <th>2</th>\n",
              "      <td>Down/Up Ratio</td>\n",
              "      <td>732</td>\n",
              "    </tr>\n",
              "    <tr>\n",
              "      <th>16</th>\n",
              "      <td>Pkt Len Mean</td>\n",
              "      <td>667</td>\n",
              "    </tr>\n",
              "    <tr>\n",
              "      <th>12</th>\n",
              "      <td>Pkt Len Min</td>\n",
              "      <td>588</td>\n",
              "    </tr>\n",
              "    <tr>\n",
              "      <th>17</th>\n",
              "      <td>Bwd Pkt Len Min</td>\n",
              "      <td>584</td>\n",
              "    </tr>\n",
              "    <tr>\n",
              "      <th>7</th>\n",
              "      <td>Pkt Len Max</td>\n",
              "      <td>582</td>\n",
              "    </tr>\n",
              "    <tr>\n",
              "      <th>5</th>\n",
              "      <td>Init Bwd Win Byts</td>\n",
              "      <td>473</td>\n",
              "    </tr>\n",
              "    <tr>\n",
              "      <th>9</th>\n",
              "      <td>Fwd Pkt Len Max</td>\n",
              "      <td>283</td>\n",
              "    </tr>\n",
              "    <tr>\n",
              "      <th>8</th>\n",
              "      <td>Fwd IAT Tot</td>\n",
              "      <td>275</td>\n",
              "    </tr>\n",
              "    <tr>\n",
              "      <th>31</th>\n",
              "      <td>Flow IAT Max</td>\n",
              "      <td>260</td>\n",
              "    </tr>\n",
              "    <tr>\n",
              "      <th>11</th>\n",
              "      <td>PSH Flag Cnt</td>\n",
              "      <td>238</td>\n",
              "    </tr>\n",
              "    <tr>\n",
              "      <th>13</th>\n",
              "      <td>Fwd Pkt Len Std</td>\n",
              "      <td>197</td>\n",
              "    </tr>\n",
              "    <tr>\n",
              "      <th>23</th>\n",
              "      <td>Fwd Pkt Len Mean</td>\n",
              "      <td>197</td>\n",
              "    </tr>\n",
              "    <tr>\n",
              "      <th>24</th>\n",
              "      <td>Pkt Len Std</td>\n",
              "      <td>193</td>\n",
              "    </tr>\n",
              "    <tr>\n",
              "      <th>20</th>\n",
              "      <td>Bwd IAT Tot</td>\n",
              "      <td>188</td>\n",
              "    </tr>\n",
              "    <tr>\n",
              "      <th>26</th>\n",
              "      <td>Idle Max</td>\n",
              "      <td>188</td>\n",
              "    </tr>\n",
              "    <tr>\n",
              "      <th>27</th>\n",
              "      <td>Fwd Seg Size Avg</td>\n",
              "      <td>182</td>\n",
              "    </tr>\n",
              "    <tr>\n",
              "      <th>14</th>\n",
              "      <td>Fwd IAT Std</td>\n",
              "      <td>180</td>\n",
              "    </tr>\n",
              "  </tbody>\n",
              "</table>\n",
              "</div>\n",
              "      <button class=\"colab-df-convert\" onclick=\"convertToInteractive('df-d44e4af1-6b0c-456c-b3ee-fccc8e53ae8e')\"\n",
              "              title=\"Convert this dataframe to an interactive table.\"\n",
              "              style=\"display:none;\">\n",
              "        \n",
              "  <svg xmlns=\"http://www.w3.org/2000/svg\" height=\"24px\"viewBox=\"0 0 24 24\"\n",
              "       width=\"24px\">\n",
              "    <path d=\"M0 0h24v24H0V0z\" fill=\"none\"/>\n",
              "    <path d=\"M18.56 5.44l.94 2.06.94-2.06 2.06-.94-2.06-.94-.94-2.06-.94 2.06-2.06.94zm-11 1L8.5 8.5l.94-2.06 2.06-.94-2.06-.94L8.5 2.5l-.94 2.06-2.06.94zm10 10l.94 2.06.94-2.06 2.06-.94-2.06-.94-.94-2.06-.94 2.06-2.06.94z\"/><path d=\"M17.41 7.96l-1.37-1.37c-.4-.4-.92-.59-1.43-.59-.52 0-1.04.2-1.43.59L10.3 9.45l-7.72 7.72c-.78.78-.78 2.05 0 2.83L4 21.41c.39.39.9.59 1.41.59.51 0 1.02-.2 1.41-.59l7.78-7.78 2.81-2.81c.8-.78.8-2.07 0-2.86zM5.41 20L4 18.59l7.72-7.72 1.47 1.35L5.41 20z\"/>\n",
              "  </svg>\n",
              "      </button>\n",
              "      \n",
              "  <style>\n",
              "    .colab-df-container {\n",
              "      display:flex;\n",
              "      flex-wrap:wrap;\n",
              "      gap: 12px;\n",
              "    }\n",
              "\n",
              "    .colab-df-convert {\n",
              "      background-color: #E8F0FE;\n",
              "      border: none;\n",
              "      border-radius: 50%;\n",
              "      cursor: pointer;\n",
              "      display: none;\n",
              "      fill: #1967D2;\n",
              "      height: 32px;\n",
              "      padding: 0 0 0 0;\n",
              "      width: 32px;\n",
              "    }\n",
              "\n",
              "    .colab-df-convert:hover {\n",
              "      background-color: #E2EBFA;\n",
              "      box-shadow: 0px 1px 2px rgba(60, 64, 67, 0.3), 0px 1px 3px 1px rgba(60, 64, 67, 0.15);\n",
              "      fill: #174EA6;\n",
              "    }\n",
              "\n",
              "    [theme=dark] .colab-df-convert {\n",
              "      background-color: #3B4455;\n",
              "      fill: #D2E3FC;\n",
              "    }\n",
              "\n",
              "    [theme=dark] .colab-df-convert:hover {\n",
              "      background-color: #434B5C;\n",
              "      box-shadow: 0px 1px 3px 1px rgba(0, 0, 0, 0.15);\n",
              "      filter: drop-shadow(0px 1px 2px rgba(0, 0, 0, 0.3));\n",
              "      fill: #FFFFFF;\n",
              "    }\n",
              "  </style>\n",
              "\n",
              "      <script>\n",
              "        const buttonEl =\n",
              "          document.querySelector('#df-d44e4af1-6b0c-456c-b3ee-fccc8e53ae8e button.colab-df-convert');\n",
              "        buttonEl.style.display =\n",
              "          google.colab.kernel.accessAllowed ? 'block' : 'none';\n",
              "\n",
              "        async function convertToInteractive(key) {\n",
              "          const element = document.querySelector('#df-d44e4af1-6b0c-456c-b3ee-fccc8e53ae8e');\n",
              "          const dataTable =\n",
              "            await google.colab.kernel.invokeFunction('convertToInteractive',\n",
              "                                                     [key], {});\n",
              "          if (!dataTable) return;\n",
              "\n",
              "          const docLinkHtml = 'Like what you see? Visit the ' +\n",
              "            '<a target=\"_blank\" href=https://colab.research.google.com/notebooks/data_table.ipynb>data table notebook</a>'\n",
              "            + ' to learn more about interactive tables.';\n",
              "          element.innerHTML = '';\n",
              "          dataTable['output_type'] = 'display_data';\n",
              "          await google.colab.output.renderOutput(dataTable, element);\n",
              "          const docLink = document.createElement('div');\n",
              "          docLink.innerHTML = docLinkHtml;\n",
              "          element.appendChild(docLink);\n",
              "        }\n",
              "      </script>\n",
              "    </div>\n",
              "  </div>\n",
              "  "
            ]
          },
          "metadata": {},
          "execution_count": 65
        }
      ]
    },
    {
      "cell_type": "code",
      "source": [
        "freq_df[:38].to_csv('/content/drive/MyDrive/DACN_XAI_Adv_defense/InSDN/MLP_top24_InSDN.csv', index=False)"
      ],
      "metadata": {
        "id": "YU2TkWAjnl7s"
      },
      "execution_count": 66,
      "outputs": []
    }
  ],
  "metadata": {
    "colab": {
      "provenance": [],
      "collapsed_sections": [
        "mJ0p3tB5oxAq"
      ],
      "toc_visible": true,
      "mount_file_id": "1NYT0gEobjiLX4MyDrcM6BFbgYic1iUl-",
      "authorship_tag": "ABX9TyPl6FHbiK3hWTDwRcIHzO/4",
      "include_colab_link": true
    },
    "kernelspec": {
      "display_name": "Python 3",
      "name": "python3"
    },
    "language_info": {
      "name": "python"
    },
    "widgets": {
      "application/vnd.jupyter.widget-state+json": {
        "cf8d678b3809476f8b92175259285e1f": {
          "model_module": "@jupyter-widgets/controls",
          "model_name": "HBoxModel",
          "model_module_version": "1.5.0",
          "state": {
            "_dom_classes": [],
            "_model_module": "@jupyter-widgets/controls",
            "_model_module_version": "1.5.0",
            "_model_name": "HBoxModel",
            "_view_count": null,
            "_view_module": "@jupyter-widgets/controls",
            "_view_module_version": "1.5.0",
            "_view_name": "HBoxView",
            "box_style": "",
            "children": [
              "IPY_MODEL_98ad38694b944ff6a314ea18d9aa096e",
              "IPY_MODEL_4d93e84b96bc45f7a29c5ee354aafde3",
              "IPY_MODEL_45a5a26bec024eedac8ad22d79f15050"
            ],
            "layout": "IPY_MODEL_d409268fea1d4ac1be8365cb97d3ed23"
          }
        },
        "98ad38694b944ff6a314ea18d9aa096e": {
          "model_module": "@jupyter-widgets/controls",
          "model_name": "HTMLModel",
          "model_module_version": "1.5.0",
          "state": {
            "_dom_classes": [],
            "_model_module": "@jupyter-widgets/controls",
            "_model_module_version": "1.5.0",
            "_model_name": "HTMLModel",
            "_view_count": null,
            "_view_module": "@jupyter-widgets/controls",
            "_view_module_version": "1.5.0",
            "_view_name": "HTMLView",
            "description": "",
            "description_tooltip": null,
            "layout": "IPY_MODEL_e96171d41963468c86925e5c63c2d1fb",
            "placeholder": "​",
            "style": "IPY_MODEL_751392814c6f436dab4716d427fc4c84",
            "value": "100%"
          }
        },
        "4d93e84b96bc45f7a29c5ee354aafde3": {
          "model_module": "@jupyter-widgets/controls",
          "model_name": "FloatProgressModel",
          "model_module_version": "1.5.0",
          "state": {
            "_dom_classes": [],
            "_model_module": "@jupyter-widgets/controls",
            "_model_module_version": "1.5.0",
            "_model_name": "FloatProgressModel",
            "_view_count": null,
            "_view_module": "@jupyter-widgets/controls",
            "_view_module_version": "1.5.0",
            "_view_name": "ProgressView",
            "bar_style": "success",
            "description": "",
            "description_tooltip": null,
            "layout": "IPY_MODEL_269d37a605424fa4a120a572c3229b13",
            "max": 1500,
            "min": 0,
            "orientation": "horizontal",
            "style": "IPY_MODEL_c5393eb4cb8f48d0882852629b496785",
            "value": 1500
          }
        },
        "45a5a26bec024eedac8ad22d79f15050": {
          "model_module": "@jupyter-widgets/controls",
          "model_name": "HTMLModel",
          "model_module_version": "1.5.0",
          "state": {
            "_dom_classes": [],
            "_model_module": "@jupyter-widgets/controls",
            "_model_module_version": "1.5.0",
            "_model_name": "HTMLModel",
            "_view_count": null,
            "_view_module": "@jupyter-widgets/controls",
            "_view_module_version": "1.5.0",
            "_view_name": "HTMLView",
            "description": "",
            "description_tooltip": null,
            "layout": "IPY_MODEL_6912d72be3a34b9a95b74f22f88ce91f",
            "placeholder": "​",
            "style": "IPY_MODEL_a859f44007884c71b2f67f042f0b266b",
            "value": " 1500/1500 [2:54:47&lt;00:00,  6.61s/it]"
          }
        },
        "d409268fea1d4ac1be8365cb97d3ed23": {
          "model_module": "@jupyter-widgets/base",
          "model_name": "LayoutModel",
          "model_module_version": "1.2.0",
          "state": {
            "_model_module": "@jupyter-widgets/base",
            "_model_module_version": "1.2.0",
            "_model_name": "LayoutModel",
            "_view_count": null,
            "_view_module": "@jupyter-widgets/base",
            "_view_module_version": "1.2.0",
            "_view_name": "LayoutView",
            "align_content": null,
            "align_items": null,
            "align_self": null,
            "border": null,
            "bottom": null,
            "display": null,
            "flex": null,
            "flex_flow": null,
            "grid_area": null,
            "grid_auto_columns": null,
            "grid_auto_flow": null,
            "grid_auto_rows": null,
            "grid_column": null,
            "grid_gap": null,
            "grid_row": null,
            "grid_template_areas": null,
            "grid_template_columns": null,
            "grid_template_rows": null,
            "height": null,
            "justify_content": null,
            "justify_items": null,
            "left": null,
            "margin": null,
            "max_height": null,
            "max_width": null,
            "min_height": null,
            "min_width": null,
            "object_fit": null,
            "object_position": null,
            "order": null,
            "overflow": null,
            "overflow_x": null,
            "overflow_y": null,
            "padding": null,
            "right": null,
            "top": null,
            "visibility": null,
            "width": null
          }
        },
        "e96171d41963468c86925e5c63c2d1fb": {
          "model_module": "@jupyter-widgets/base",
          "model_name": "LayoutModel",
          "model_module_version": "1.2.0",
          "state": {
            "_model_module": "@jupyter-widgets/base",
            "_model_module_version": "1.2.0",
            "_model_name": "LayoutModel",
            "_view_count": null,
            "_view_module": "@jupyter-widgets/base",
            "_view_module_version": "1.2.0",
            "_view_name": "LayoutView",
            "align_content": null,
            "align_items": null,
            "align_self": null,
            "border": null,
            "bottom": null,
            "display": null,
            "flex": null,
            "flex_flow": null,
            "grid_area": null,
            "grid_auto_columns": null,
            "grid_auto_flow": null,
            "grid_auto_rows": null,
            "grid_column": null,
            "grid_gap": null,
            "grid_row": null,
            "grid_template_areas": null,
            "grid_template_columns": null,
            "grid_template_rows": null,
            "height": null,
            "justify_content": null,
            "justify_items": null,
            "left": null,
            "margin": null,
            "max_height": null,
            "max_width": null,
            "min_height": null,
            "min_width": null,
            "object_fit": null,
            "object_position": null,
            "order": null,
            "overflow": null,
            "overflow_x": null,
            "overflow_y": null,
            "padding": null,
            "right": null,
            "top": null,
            "visibility": null,
            "width": null
          }
        },
        "751392814c6f436dab4716d427fc4c84": {
          "model_module": "@jupyter-widgets/controls",
          "model_name": "DescriptionStyleModel",
          "model_module_version": "1.5.0",
          "state": {
            "_model_module": "@jupyter-widgets/controls",
            "_model_module_version": "1.5.0",
            "_model_name": "DescriptionStyleModel",
            "_view_count": null,
            "_view_module": "@jupyter-widgets/base",
            "_view_module_version": "1.2.0",
            "_view_name": "StyleView",
            "description_width": ""
          }
        },
        "269d37a605424fa4a120a572c3229b13": {
          "model_module": "@jupyter-widgets/base",
          "model_name": "LayoutModel",
          "model_module_version": "1.2.0",
          "state": {
            "_model_module": "@jupyter-widgets/base",
            "_model_module_version": "1.2.0",
            "_model_name": "LayoutModel",
            "_view_count": null,
            "_view_module": "@jupyter-widgets/base",
            "_view_module_version": "1.2.0",
            "_view_name": "LayoutView",
            "align_content": null,
            "align_items": null,
            "align_self": null,
            "border": null,
            "bottom": null,
            "display": null,
            "flex": null,
            "flex_flow": null,
            "grid_area": null,
            "grid_auto_columns": null,
            "grid_auto_flow": null,
            "grid_auto_rows": null,
            "grid_column": null,
            "grid_gap": null,
            "grid_row": null,
            "grid_template_areas": null,
            "grid_template_columns": null,
            "grid_template_rows": null,
            "height": null,
            "justify_content": null,
            "justify_items": null,
            "left": null,
            "margin": null,
            "max_height": null,
            "max_width": null,
            "min_height": null,
            "min_width": null,
            "object_fit": null,
            "object_position": null,
            "order": null,
            "overflow": null,
            "overflow_x": null,
            "overflow_y": null,
            "padding": null,
            "right": null,
            "top": null,
            "visibility": null,
            "width": null
          }
        },
        "c5393eb4cb8f48d0882852629b496785": {
          "model_module": "@jupyter-widgets/controls",
          "model_name": "ProgressStyleModel",
          "model_module_version": "1.5.0",
          "state": {
            "_model_module": "@jupyter-widgets/controls",
            "_model_module_version": "1.5.0",
            "_model_name": "ProgressStyleModel",
            "_view_count": null,
            "_view_module": "@jupyter-widgets/base",
            "_view_module_version": "1.2.0",
            "_view_name": "StyleView",
            "bar_color": null,
            "description_width": ""
          }
        },
        "6912d72be3a34b9a95b74f22f88ce91f": {
          "model_module": "@jupyter-widgets/base",
          "model_name": "LayoutModel",
          "model_module_version": "1.2.0",
          "state": {
            "_model_module": "@jupyter-widgets/base",
            "_model_module_version": "1.2.0",
            "_model_name": "LayoutModel",
            "_view_count": null,
            "_view_module": "@jupyter-widgets/base",
            "_view_module_version": "1.2.0",
            "_view_name": "LayoutView",
            "align_content": null,
            "align_items": null,
            "align_self": null,
            "border": null,
            "bottom": null,
            "display": null,
            "flex": null,
            "flex_flow": null,
            "grid_area": null,
            "grid_auto_columns": null,
            "grid_auto_flow": null,
            "grid_auto_rows": null,
            "grid_column": null,
            "grid_gap": null,
            "grid_row": null,
            "grid_template_areas": null,
            "grid_template_columns": null,
            "grid_template_rows": null,
            "height": null,
            "justify_content": null,
            "justify_items": null,
            "left": null,
            "margin": null,
            "max_height": null,
            "max_width": null,
            "min_height": null,
            "min_width": null,
            "object_fit": null,
            "object_position": null,
            "order": null,
            "overflow": null,
            "overflow_x": null,
            "overflow_y": null,
            "padding": null,
            "right": null,
            "top": null,
            "visibility": null,
            "width": null
          }
        },
        "a859f44007884c71b2f67f042f0b266b": {
          "model_module": "@jupyter-widgets/controls",
          "model_name": "DescriptionStyleModel",
          "model_module_version": "1.5.0",
          "state": {
            "_model_module": "@jupyter-widgets/controls",
            "_model_module_version": "1.5.0",
            "_model_name": "DescriptionStyleModel",
            "_view_count": null,
            "_view_module": "@jupyter-widgets/base",
            "_view_module_version": "1.2.0",
            "_view_name": "StyleView",
            "description_width": ""
          }
        }
      }
    }
  },
  "nbformat": 4,
  "nbformat_minor": 0
}