{
  "nbformat": 4,
  "nbformat_minor": 0,
  "metadata": {
    "colab": {
      "provenance": []
    },
    "kernelspec": {
      "name": "python3",
      "display_name": "Python 3"
    },
    "language_info": {
      "name": "python"
    },
    "widgets": {
      "application/vnd.jupyter.widget-state+json": {
        "47019d55df314281ad8e4cb54fafde39": {
          "model_module": "@jupyter-widgets/controls",
          "model_name": "HBoxModel",
          "model_module_version": "1.5.0",
          "state": {
            "_dom_classes": [],
            "_model_module": "@jupyter-widgets/controls",
            "_model_module_version": "1.5.0",
            "_model_name": "HBoxModel",
            "_view_count": null,
            "_view_module": "@jupyter-widgets/controls",
            "_view_module_version": "1.5.0",
            "_view_name": "HBoxView",
            "box_style": "",
            "children": [
              "IPY_MODEL_7e54eb4a63904f4e957f0d81a5b013a1",
              "IPY_MODEL_8e38fa70dd234ee187087221fc96a289",
              "IPY_MODEL_7203a124ec7c42f680ebf4f4367bb74b"
            ],
            "layout": "IPY_MODEL_8730ca3e15f94d82abd24aa0dce8db7b"
          }
        },
        "7e54eb4a63904f4e957f0d81a5b013a1": {
          "model_module": "@jupyter-widgets/controls",
          "model_name": "HTMLModel",
          "model_module_version": "1.5.0",
          "state": {
            "_dom_classes": [],
            "_model_module": "@jupyter-widgets/controls",
            "_model_module_version": "1.5.0",
            "_model_name": "HTMLModel",
            "_view_count": null,
            "_view_module": "@jupyter-widgets/controls",
            "_view_module_version": "1.5.0",
            "_view_name": "HTMLView",
            "description": "",
            "description_tooltip": null,
            "layout": "IPY_MODEL_9d77f35505294bf389b01ee9c43f2d03",
            "placeholder": "​",
            "style": "IPY_MODEL_e54ab7bfaebb4598a874c8fb18b52fb9",
            "value": "100%"
          }
        },
        "8e38fa70dd234ee187087221fc96a289": {
          "model_module": "@jupyter-widgets/controls",
          "model_name": "FloatProgressModel",
          "model_module_version": "1.5.0",
          "state": {
            "_dom_classes": [],
            "_model_module": "@jupyter-widgets/controls",
            "_model_module_version": "1.5.0",
            "_model_name": "FloatProgressModel",
            "_view_count": null,
            "_view_module": "@jupyter-widgets/controls",
            "_view_module_version": "1.5.0",
            "_view_name": "ProgressView",
            "bar_style": "success",
            "description": "",
            "description_tooltip": null,
            "layout": "IPY_MODEL_073cc1879c684ca2a26dc4917065d33a",
            "max": 1000,
            "min": 0,
            "orientation": "horizontal",
            "style": "IPY_MODEL_229e28504a9149caa1c73d568171683b",
            "value": 1000
          }
        },
        "7203a124ec7c42f680ebf4f4367bb74b": {
          "model_module": "@jupyter-widgets/controls",
          "model_name": "HTMLModel",
          "model_module_version": "1.5.0",
          "state": {
            "_dom_classes": [],
            "_model_module": "@jupyter-widgets/controls",
            "_model_module_version": "1.5.0",
            "_model_name": "HTMLModel",
            "_view_count": null,
            "_view_module": "@jupyter-widgets/controls",
            "_view_module_version": "1.5.0",
            "_view_name": "HTMLView",
            "description": "",
            "description_tooltip": null,
            "layout": "IPY_MODEL_40c461131ba9460e9215925dd0c07498",
            "placeholder": "​",
            "style": "IPY_MODEL_077c8e8c169a4f1bb5d7684a9471362d",
            "value": " 1000/1000 [1:16:47&lt;00:00,  4.42s/it]"
          }
        },
        "8730ca3e15f94d82abd24aa0dce8db7b": {
          "model_module": "@jupyter-widgets/base",
          "model_name": "LayoutModel",
          "model_module_version": "1.2.0",
          "state": {
            "_model_module": "@jupyter-widgets/base",
            "_model_module_version": "1.2.0",
            "_model_name": "LayoutModel",
            "_view_count": null,
            "_view_module": "@jupyter-widgets/base",
            "_view_module_version": "1.2.0",
            "_view_name": "LayoutView",
            "align_content": null,
            "align_items": null,
            "align_self": null,
            "border": null,
            "bottom": null,
            "display": null,
            "flex": null,
            "flex_flow": null,
            "grid_area": null,
            "grid_auto_columns": null,
            "grid_auto_flow": null,
            "grid_auto_rows": null,
            "grid_column": null,
            "grid_gap": null,
            "grid_row": null,
            "grid_template_areas": null,
            "grid_template_columns": null,
            "grid_template_rows": null,
            "height": null,
            "justify_content": null,
            "justify_items": null,
            "left": null,
            "margin": null,
            "max_height": null,
            "max_width": null,
            "min_height": null,
            "min_width": null,
            "object_fit": null,
            "object_position": null,
            "order": null,
            "overflow": null,
            "overflow_x": null,
            "overflow_y": null,
            "padding": null,
            "right": null,
            "top": null,
            "visibility": null,
            "width": null
          }
        },
        "9d77f35505294bf389b01ee9c43f2d03": {
          "model_module": "@jupyter-widgets/base",
          "model_name": "LayoutModel",
          "model_module_version": "1.2.0",
          "state": {
            "_model_module": "@jupyter-widgets/base",
            "_model_module_version": "1.2.0",
            "_model_name": "LayoutModel",
            "_view_count": null,
            "_view_module": "@jupyter-widgets/base",
            "_view_module_version": "1.2.0",
            "_view_name": "LayoutView",
            "align_content": null,
            "align_items": null,
            "align_self": null,
            "border": null,
            "bottom": null,
            "display": null,
            "flex": null,
            "flex_flow": null,
            "grid_area": null,
            "grid_auto_columns": null,
            "grid_auto_flow": null,
            "grid_auto_rows": null,
            "grid_column": null,
            "grid_gap": null,
            "grid_row": null,
            "grid_template_areas": null,
            "grid_template_columns": null,
            "grid_template_rows": null,
            "height": null,
            "justify_content": null,
            "justify_items": null,
            "left": null,
            "margin": null,
            "max_height": null,
            "max_width": null,
            "min_height": null,
            "min_width": null,
            "object_fit": null,
            "object_position": null,
            "order": null,
            "overflow": null,
            "overflow_x": null,
            "overflow_y": null,
            "padding": null,
            "right": null,
            "top": null,
            "visibility": null,
            "width": null
          }
        },
        "e54ab7bfaebb4598a874c8fb18b52fb9": {
          "model_module": "@jupyter-widgets/controls",
          "model_name": "DescriptionStyleModel",
          "model_module_version": "1.5.0",
          "state": {
            "_model_module": "@jupyter-widgets/controls",
            "_model_module_version": "1.5.0",
            "_model_name": "DescriptionStyleModel",
            "_view_count": null,
            "_view_module": "@jupyter-widgets/base",
            "_view_module_version": "1.2.0",
            "_view_name": "StyleView",
            "description_width": ""
          }
        },
        "073cc1879c684ca2a26dc4917065d33a": {
          "model_module": "@jupyter-widgets/base",
          "model_name": "LayoutModel",
          "model_module_version": "1.2.0",
          "state": {
            "_model_module": "@jupyter-widgets/base",
            "_model_module_version": "1.2.0",
            "_model_name": "LayoutModel",
            "_view_count": null,
            "_view_module": "@jupyter-widgets/base",
            "_view_module_version": "1.2.0",
            "_view_name": "LayoutView",
            "align_content": null,
            "align_items": null,
            "align_self": null,
            "border": null,
            "bottom": null,
            "display": null,
            "flex": null,
            "flex_flow": null,
            "grid_area": null,
            "grid_auto_columns": null,
            "grid_auto_flow": null,
            "grid_auto_rows": null,
            "grid_column": null,
            "grid_gap": null,
            "grid_row": null,
            "grid_template_areas": null,
            "grid_template_columns": null,
            "grid_template_rows": null,
            "height": null,
            "justify_content": null,
            "justify_items": null,
            "left": null,
            "margin": null,
            "max_height": null,
            "max_width": null,
            "min_height": null,
            "min_width": null,
            "object_fit": null,
            "object_position": null,
            "order": null,
            "overflow": null,
            "overflow_x": null,
            "overflow_y": null,
            "padding": null,
            "right": null,
            "top": null,
            "visibility": null,
            "width": null
          }
        },
        "229e28504a9149caa1c73d568171683b": {
          "model_module": "@jupyter-widgets/controls",
          "model_name": "ProgressStyleModel",
          "model_module_version": "1.5.0",
          "state": {
            "_model_module": "@jupyter-widgets/controls",
            "_model_module_version": "1.5.0",
            "_model_name": "ProgressStyleModel",
            "_view_count": null,
            "_view_module": "@jupyter-widgets/base",
            "_view_module_version": "1.2.0",
            "_view_name": "StyleView",
            "bar_color": null,
            "description_width": ""
          }
        },
        "40c461131ba9460e9215925dd0c07498": {
          "model_module": "@jupyter-widgets/base",
          "model_name": "LayoutModel",
          "model_module_version": "1.2.0",
          "state": {
            "_model_module": "@jupyter-widgets/base",
            "_model_module_version": "1.2.0",
            "_model_name": "LayoutModel",
            "_view_count": null,
            "_view_module": "@jupyter-widgets/base",
            "_view_module_version": "1.2.0",
            "_view_name": "LayoutView",
            "align_content": null,
            "align_items": null,
            "align_self": null,
            "border": null,
            "bottom": null,
            "display": null,
            "flex": null,
            "flex_flow": null,
            "grid_area": null,
            "grid_auto_columns": null,
            "grid_auto_flow": null,
            "grid_auto_rows": null,
            "grid_column": null,
            "grid_gap": null,
            "grid_row": null,
            "grid_template_areas": null,
            "grid_template_columns": null,
            "grid_template_rows": null,
            "height": null,
            "justify_content": null,
            "justify_items": null,
            "left": null,
            "margin": null,
            "max_height": null,
            "max_width": null,
            "min_height": null,
            "min_width": null,
            "object_fit": null,
            "object_position": null,
            "order": null,
            "overflow": null,
            "overflow_x": null,
            "overflow_y": null,
            "padding": null,
            "right": null,
            "top": null,
            "visibility": null,
            "width": null
          }
        },
        "077c8e8c169a4f1bb5d7684a9471362d": {
          "model_module": "@jupyter-widgets/controls",
          "model_name": "DescriptionStyleModel",
          "model_module_version": "1.5.0",
          "state": {
            "_model_module": "@jupyter-widgets/controls",
            "_model_module_version": "1.5.0",
            "_model_name": "DescriptionStyleModel",
            "_view_count": null,
            "_view_module": "@jupyter-widgets/base",
            "_view_module_version": "1.2.0",
            "_view_name": "StyleView",
            "description_width": ""
          }
        }
      }
    }
  },
  "cells": [
    {
      "cell_type": "markdown",
      "source": [
        "# Import"
      ],
      "metadata": {
        "id": "O0lPv_8LykMw"
      }
    },
    {
      "cell_type": "code",
      "source": [
        "from google.colab import drive\n",
        "drive.mount('/content/drive', force_remount=True)"
      ],
      "metadata": {
        "colab": {
          "base_uri": "https://localhost:8080/"
        },
        "id": "8efEEenXOnJi",
        "outputId": "a3ae0ba4-3d24-4835-c266-396b91b29351"
      },
      "execution_count": 1,
      "outputs": [
        {
          "output_type": "stream",
          "name": "stdout",
          "text": [
            "Mounted at /content/drive\n"
          ]
        }
      ]
    },
    {
      "cell_type": "code",
      "source": [
        "import warnings\n",
        "warnings.filterwarnings('ignore')"
      ],
      "metadata": {
        "id": "No3-0KGj_Kic"
      },
      "execution_count": null,
      "outputs": []
    },
    {
      "cell_type": "code",
      "execution_count": 2,
      "metadata": {
        "id": "bBcPmYOsyREp",
        "colab": {
          "base_uri": "https://localhost:8080/"
        },
        "outputId": "c2ee6d78-6ba7-4d9a-ecaf-ca839f170295"
      },
      "outputs": [
        {
          "output_type": "stream",
          "name": "stdout",
          "text": [
            "Collecting shap\n",
            "  Downloading shap-0.42.0-cp310-cp310-manylinux_2_12_x86_64.manylinux2010_x86_64.manylinux_2_17_x86_64.manylinux2014_x86_64.whl (547 kB)\n",
            "\u001b[?25l     \u001b[90m━━━━━━━━━━━━━━━━━━━━━━━━━━━━━━━━━━━━━━━━\u001b[0m \u001b[32m0.0/547.1 kB\u001b[0m \u001b[31m?\u001b[0m eta \u001b[36m-:--:--\u001b[0m\r\u001b[2K     \u001b[91m━━━━━━━━━━━━━━━━━━━━━━━━━━━━━━━━━━━━━\u001b[0m\u001b[91m╸\u001b[0m \u001b[32m542.7/547.1 kB\u001b[0m \u001b[31m19.5 MB/s\u001b[0m eta \u001b[36m0:00:01\u001b[0m\r\u001b[2K     \u001b[90m━━━━━━━━━━━━━━━━━━━━━━━━━━━━━━━━━━━━━━\u001b[0m \u001b[32m547.1/547.1 kB\u001b[0m \u001b[31m13.6 MB/s\u001b[0m eta \u001b[36m0:00:00\u001b[0m\n",
            "\u001b[?25hRequirement already satisfied: numpy in /usr/local/lib/python3.10/dist-packages (from shap) (1.22.4)\n",
            "Requirement already satisfied: scipy in /usr/local/lib/python3.10/dist-packages (from shap) (1.10.1)\n",
            "Requirement already satisfied: scikit-learn in /usr/local/lib/python3.10/dist-packages (from shap) (1.2.2)\n",
            "Requirement already satisfied: pandas in /usr/local/lib/python3.10/dist-packages (from shap) (1.5.3)\n",
            "Requirement already satisfied: tqdm>=4.27.0 in /usr/local/lib/python3.10/dist-packages (from shap) (4.65.0)\n",
            "Requirement already satisfied: packaging>20.9 in /usr/local/lib/python3.10/dist-packages (from shap) (23.1)\n",
            "Collecting slicer==0.0.7 (from shap)\n",
            "  Downloading slicer-0.0.7-py3-none-any.whl (14 kB)\n",
            "Requirement already satisfied: numba in /usr/local/lib/python3.10/dist-packages (from shap) (0.56.4)\n",
            "Requirement already satisfied: cloudpickle in /usr/local/lib/python3.10/dist-packages (from shap) (2.2.1)\n",
            "Requirement already satisfied: llvmlite<0.40,>=0.39.0dev0 in /usr/local/lib/python3.10/dist-packages (from numba->shap) (0.39.1)\n",
            "Requirement already satisfied: setuptools in /usr/local/lib/python3.10/dist-packages (from numba->shap) (67.7.2)\n",
            "Requirement already satisfied: python-dateutil>=2.8.1 in /usr/local/lib/python3.10/dist-packages (from pandas->shap) (2.8.2)\n",
            "Requirement already satisfied: pytz>=2020.1 in /usr/local/lib/python3.10/dist-packages (from pandas->shap) (2022.7.1)\n",
            "Requirement already satisfied: joblib>=1.1.1 in /usr/local/lib/python3.10/dist-packages (from scikit-learn->shap) (1.2.0)\n",
            "Requirement already satisfied: threadpoolctl>=2.0.0 in /usr/local/lib/python3.10/dist-packages (from scikit-learn->shap) (3.1.0)\n",
            "Requirement already satisfied: six>=1.5 in /usr/local/lib/python3.10/dist-packages (from python-dateutil>=2.8.1->pandas->shap) (1.16.0)\n",
            "Installing collected packages: slicer, shap\n",
            "Successfully installed shap-0.42.0 slicer-0.0.7\n"
          ]
        }
      ],
      "source": [
        "!pip install shap"
      ]
    },
    {
      "cell_type": "code",
      "source": [
        "import shap\n",
        "import pandas as pd\n",
        "import tensorflow as tf\n",
        "from tensorflow import keras"
      ],
      "metadata": {
        "id": "yisYwS6Mymik",
        "colab": {
          "base_uri": "https://localhost:8080/"
        },
        "outputId": "24e4a202-064f-43fa-d7b4-f09fc2597b38"
      },
      "execution_count": 3,
      "outputs": [
        {
          "output_type": "stream",
          "name": "stderr",
          "text": [
            "Using `tqdm.autonotebook.tqdm` in notebook mode. Use `tqdm.tqdm` instead to force console mode (e.g. in jupyter console)\n"
          ]
        }
      ]
    },
    {
      "cell_type": "markdown",
      "source": [
        "# Load trainset"
      ],
      "metadata": {
        "id": "Bz9tx1gdBGK4"
      }
    },
    {
      "cell_type": "code",
      "source": [
        "df = pd.read_csv('/content/drive/MyDrive/Dataset/insdn/binary/train.csv')\n",
        "df.info()"
      ],
      "metadata": {
        "colab": {
          "base_uri": "https://localhost:8080/"
        },
        "id": "joOnVrMbBIgT",
        "outputId": "1fd9b738-d680-47c7-f524-ab4265a11581"
      },
      "execution_count": 4,
      "outputs": [
        {
          "output_type": "stream",
          "name": "stdout",
          "text": [
            "<class 'pandas.core.frame.DataFrame'>\n",
            "RangeIndex: 275111 entries, 0 to 275110\n",
            "Data columns (total 77 columns):\n",
            " #   Column             Non-Null Count   Dtype  \n",
            "---  ------             --------------   -----  \n",
            " 0   Flow Duration      275111 non-null  float64\n",
            " 1   Tot Fwd Pkts       275111 non-null  float64\n",
            " 2   Tot Bwd Pkts       275111 non-null  float64\n",
            " 3   TotLen Fwd Pkts    275111 non-null  float64\n",
            " 4   TotLen Bwd Pkts    275111 non-null  float64\n",
            " 5   Fwd Pkt Len Max    275111 non-null  float64\n",
            " 6   Fwd Pkt Len Min    275111 non-null  float64\n",
            " 7   Fwd Pkt Len Mean   275111 non-null  float64\n",
            " 8   Fwd Pkt Len Std    275111 non-null  float64\n",
            " 9   Bwd Pkt Len Max    275111 non-null  float64\n",
            " 10  Bwd Pkt Len Min    275111 non-null  float64\n",
            " 11  Bwd Pkt Len Mean   275111 non-null  float64\n",
            " 12  Bwd Pkt Len Std    275111 non-null  float64\n",
            " 13  Flow Byts/s        275111 non-null  float64\n",
            " 14  Flow Pkts/s        275111 non-null  float64\n",
            " 15  Flow IAT Mean      275111 non-null  float64\n",
            " 16  Flow IAT Std       275111 non-null  float64\n",
            " 17  Flow IAT Max       275111 non-null  float64\n",
            " 18  Flow IAT Min       275111 non-null  float64\n",
            " 19  Fwd IAT Tot        275111 non-null  float64\n",
            " 20  Fwd IAT Mean       275111 non-null  float64\n",
            " 21  Fwd IAT Std        275111 non-null  float64\n",
            " 22  Fwd IAT Max        275111 non-null  float64\n",
            " 23  Fwd IAT Min        275111 non-null  float64\n",
            " 24  Bwd IAT Tot        275111 non-null  float64\n",
            " 25  Bwd IAT Mean       275111 non-null  float64\n",
            " 26  Bwd IAT Std        275111 non-null  float64\n",
            " 27  Bwd IAT Max        275111 non-null  float64\n",
            " 28  Bwd IAT Min        275111 non-null  float64\n",
            " 29  Fwd PSH Flags      275111 non-null  float64\n",
            " 30  Bwd PSH Flags      275111 non-null  float64\n",
            " 31  Fwd URG Flags      275111 non-null  float64\n",
            " 32  Bwd URG Flags      275111 non-null  float64\n",
            " 33  Fwd Header Len     275111 non-null  float64\n",
            " 34  Bwd Header Len     275111 non-null  float64\n",
            " 35  Fwd Pkts/s         275111 non-null  float64\n",
            " 36  Bwd Pkts/s         275111 non-null  float64\n",
            " 37  Pkt Len Min        275111 non-null  float64\n",
            " 38  Pkt Len Max        275111 non-null  float64\n",
            " 39  Pkt Len Mean       275111 non-null  float64\n",
            " 40  Pkt Len Std        275111 non-null  float64\n",
            " 41  Pkt Len Var        275111 non-null  float64\n",
            " 42  FIN Flag Cnt       275111 non-null  float64\n",
            " 43  SYN Flag Cnt       275111 non-null  float64\n",
            " 44  RST Flag Cnt       275111 non-null  float64\n",
            " 45  PSH Flag Cnt       275111 non-null  float64\n",
            " 46  ACK Flag Cnt       275111 non-null  float64\n",
            " 47  URG Flag Cnt       275111 non-null  float64\n",
            " 48  CWE Flag Count     275111 non-null  float64\n",
            " 49  ECE Flag Cnt       275111 non-null  float64\n",
            " 50  Down/Up Ratio      275111 non-null  float64\n",
            " 51  Pkt Size Avg       275111 non-null  float64\n",
            " 52  Fwd Seg Size Avg   275111 non-null  float64\n",
            " 53  Bwd Seg Size Avg   275111 non-null  float64\n",
            " 54  Fwd Byts/b Avg     275111 non-null  float64\n",
            " 55  Fwd Pkts/b Avg     275111 non-null  float64\n",
            " 56  Fwd Blk Rate Avg   275111 non-null  float64\n",
            " 57  Bwd Byts/b Avg     275111 non-null  float64\n",
            " 58  Bwd Pkts/b Avg     275111 non-null  float64\n",
            " 59  Bwd Blk Rate Avg   275111 non-null  float64\n",
            " 60  Subflow Fwd Pkts   275111 non-null  float64\n",
            " 61  Subflow Fwd Byts   275111 non-null  float64\n",
            " 62  Subflow Bwd Pkts   275111 non-null  float64\n",
            " 63  Subflow Bwd Byts   275111 non-null  float64\n",
            " 64  Init Fwd Win Byts  275111 non-null  float64\n",
            " 65  Init Bwd Win Byts  275111 non-null  float64\n",
            " 66  Fwd Act Data Pkts  275111 non-null  float64\n",
            " 67  Fwd Seg Size Min   275111 non-null  float64\n",
            " 68  Active Mean        275111 non-null  float64\n",
            " 69  Active Std         275111 non-null  float64\n",
            " 70  Active Max         275111 non-null  float64\n",
            " 71  Active Min         275111 non-null  float64\n",
            " 72  Idle Mean          275111 non-null  float64\n",
            " 73  Idle Std           275111 non-null  float64\n",
            " 74  Idle Max           275111 non-null  float64\n",
            " 75  Idle Min           275111 non-null  float64\n",
            " 76  Label              275111 non-null  int64  \n",
            "dtypes: float64(76), int64(1)\n",
            "memory usage: 161.6 MB\n"
          ]
        }
      ]
    },
    {
      "cell_type": "code",
      "source": [
        "df = df.drop(columns=['Label'])\n",
        "df.info()"
      ],
      "metadata": {
        "colab": {
          "base_uri": "https://localhost:8080/"
        },
        "id": "mYgl1-XQBYwR",
        "outputId": "1ef147f6-53bd-434e-9e53-e22dd7bbd627"
      },
      "execution_count": 5,
      "outputs": [
        {
          "output_type": "stream",
          "name": "stdout",
          "text": [
            "<class 'pandas.core.frame.DataFrame'>\n",
            "RangeIndex: 275111 entries, 0 to 275110\n",
            "Data columns (total 76 columns):\n",
            " #   Column             Non-Null Count   Dtype  \n",
            "---  ------             --------------   -----  \n",
            " 0   Flow Duration      275111 non-null  float64\n",
            " 1   Tot Fwd Pkts       275111 non-null  float64\n",
            " 2   Tot Bwd Pkts       275111 non-null  float64\n",
            " 3   TotLen Fwd Pkts    275111 non-null  float64\n",
            " 4   TotLen Bwd Pkts    275111 non-null  float64\n",
            " 5   Fwd Pkt Len Max    275111 non-null  float64\n",
            " 6   Fwd Pkt Len Min    275111 non-null  float64\n",
            " 7   Fwd Pkt Len Mean   275111 non-null  float64\n",
            " 8   Fwd Pkt Len Std    275111 non-null  float64\n",
            " 9   Bwd Pkt Len Max    275111 non-null  float64\n",
            " 10  Bwd Pkt Len Min    275111 non-null  float64\n",
            " 11  Bwd Pkt Len Mean   275111 non-null  float64\n",
            " 12  Bwd Pkt Len Std    275111 non-null  float64\n",
            " 13  Flow Byts/s        275111 non-null  float64\n",
            " 14  Flow Pkts/s        275111 non-null  float64\n",
            " 15  Flow IAT Mean      275111 non-null  float64\n",
            " 16  Flow IAT Std       275111 non-null  float64\n",
            " 17  Flow IAT Max       275111 non-null  float64\n",
            " 18  Flow IAT Min       275111 non-null  float64\n",
            " 19  Fwd IAT Tot        275111 non-null  float64\n",
            " 20  Fwd IAT Mean       275111 non-null  float64\n",
            " 21  Fwd IAT Std        275111 non-null  float64\n",
            " 22  Fwd IAT Max        275111 non-null  float64\n",
            " 23  Fwd IAT Min        275111 non-null  float64\n",
            " 24  Bwd IAT Tot        275111 non-null  float64\n",
            " 25  Bwd IAT Mean       275111 non-null  float64\n",
            " 26  Bwd IAT Std        275111 non-null  float64\n",
            " 27  Bwd IAT Max        275111 non-null  float64\n",
            " 28  Bwd IAT Min        275111 non-null  float64\n",
            " 29  Fwd PSH Flags      275111 non-null  float64\n",
            " 30  Bwd PSH Flags      275111 non-null  float64\n",
            " 31  Fwd URG Flags      275111 non-null  float64\n",
            " 32  Bwd URG Flags      275111 non-null  float64\n",
            " 33  Fwd Header Len     275111 non-null  float64\n",
            " 34  Bwd Header Len     275111 non-null  float64\n",
            " 35  Fwd Pkts/s         275111 non-null  float64\n",
            " 36  Bwd Pkts/s         275111 non-null  float64\n",
            " 37  Pkt Len Min        275111 non-null  float64\n",
            " 38  Pkt Len Max        275111 non-null  float64\n",
            " 39  Pkt Len Mean       275111 non-null  float64\n",
            " 40  Pkt Len Std        275111 non-null  float64\n",
            " 41  Pkt Len Var        275111 non-null  float64\n",
            " 42  FIN Flag Cnt       275111 non-null  float64\n",
            " 43  SYN Flag Cnt       275111 non-null  float64\n",
            " 44  RST Flag Cnt       275111 non-null  float64\n",
            " 45  PSH Flag Cnt       275111 non-null  float64\n",
            " 46  ACK Flag Cnt       275111 non-null  float64\n",
            " 47  URG Flag Cnt       275111 non-null  float64\n",
            " 48  CWE Flag Count     275111 non-null  float64\n",
            " 49  ECE Flag Cnt       275111 non-null  float64\n",
            " 50  Down/Up Ratio      275111 non-null  float64\n",
            " 51  Pkt Size Avg       275111 non-null  float64\n",
            " 52  Fwd Seg Size Avg   275111 non-null  float64\n",
            " 53  Bwd Seg Size Avg   275111 non-null  float64\n",
            " 54  Fwd Byts/b Avg     275111 non-null  float64\n",
            " 55  Fwd Pkts/b Avg     275111 non-null  float64\n",
            " 56  Fwd Blk Rate Avg   275111 non-null  float64\n",
            " 57  Bwd Byts/b Avg     275111 non-null  float64\n",
            " 58  Bwd Pkts/b Avg     275111 non-null  float64\n",
            " 59  Bwd Blk Rate Avg   275111 non-null  float64\n",
            " 60  Subflow Fwd Pkts   275111 non-null  float64\n",
            " 61  Subflow Fwd Byts   275111 non-null  float64\n",
            " 62  Subflow Bwd Pkts   275111 non-null  float64\n",
            " 63  Subflow Bwd Byts   275111 non-null  float64\n",
            " 64  Init Fwd Win Byts  275111 non-null  float64\n",
            " 65  Init Bwd Win Byts  275111 non-null  float64\n",
            " 66  Fwd Act Data Pkts  275111 non-null  float64\n",
            " 67  Fwd Seg Size Min   275111 non-null  float64\n",
            " 68  Active Mean        275111 non-null  float64\n",
            " 69  Active Std         275111 non-null  float64\n",
            " 70  Active Max         275111 non-null  float64\n",
            " 71  Active Min         275111 non-null  float64\n",
            " 72  Idle Mean          275111 non-null  float64\n",
            " 73  Idle Std           275111 non-null  float64\n",
            " 74  Idle Max           275111 non-null  float64\n",
            " 75  Idle Min           275111 non-null  float64\n",
            "dtypes: float64(76)\n",
            "memory usage: 159.5 MB\n"
          ]
        }
      ]
    },
    {
      "cell_type": "markdown",
      "source": [
        "# Load adv samples"
      ],
      "metadata": {
        "id": "kFirQ2Tyz28E"
      }
    },
    {
      "cell_type": "code",
      "source": [
        "feature_list = ['Flow Duration', 'Tot Fwd Pkts', 'Tot Bwd Pkts', 'TotLen Fwd Pkts',\n",
        "       'TotLen Bwd Pkts', 'Fwd Pkt Len Max', 'Fwd Pkt Len Min',\n",
        "       'Fwd Pkt Len Mean', 'Fwd Pkt Len Std', 'Bwd Pkt Len Max',\n",
        "       'Bwd Pkt Len Min', 'Bwd Pkt Len Mean', 'Bwd Pkt Len Std', 'Flow Byts/s',\n",
        "       'Flow Pkts/s', 'Flow IAT Mean', 'Flow IAT Std', 'Flow IAT Max',\n",
        "       'Flow IAT Min', 'Fwd IAT Tot', 'Fwd IAT Mean', 'Fwd IAT Std',\n",
        "       'Fwd IAT Max', 'Fwd IAT Min', 'Bwd IAT Tot', 'Bwd IAT Mean',\n",
        "       'Bwd IAT Std', 'Bwd IAT Max', 'Bwd IAT Min', 'Fwd PSH Flags',\n",
        "       'Bwd PSH Flags', 'Fwd URG Flags', 'Bwd URG Flags', 'Fwd Header Len',\n",
        "       'Bwd Header Len', 'Fwd Pkts/s', 'Bwd Pkts/s', 'Pkt Len Min',\n",
        "       'Pkt Len Max', 'Pkt Len Mean', 'Pkt Len Std', 'Pkt Len Var',\n",
        "       'FIN Flag Cnt', 'SYN Flag Cnt', 'RST Flag Cnt', 'PSH Flag Cnt',\n",
        "       'ACK Flag Cnt', 'URG Flag Cnt', 'CWE Flag Count', 'ECE Flag Cnt',\n",
        "       'Down/Up Ratio', 'Pkt Size Avg', 'Fwd Seg Size Avg', 'Bwd Seg Size Avg',\n",
        "       'Fwd Byts/b Avg', 'Fwd Pkts/b Avg', 'Fwd Blk Rate Avg',\n",
        "       'Bwd Byts/b Avg', 'Bwd Pkts/b Avg', 'Bwd Blk Rate Avg',\n",
        "       'Subflow Fwd Pkts', 'Subflow Fwd Byts', 'Subflow Bwd Pkts',\n",
        "       'Subflow Bwd Byts', 'Init Fwd Win Byts', 'Init Bwd Win Byts',\n",
        "       'Fwd Act Data Pkts', 'Fwd Seg Size Min', 'Active Mean', 'Active Std',\n",
        "       'Active Max', 'Active Min', 'Idle Mean', 'Idle Std', 'Idle Max',\n",
        "       'Idle Min']"
      ],
      "metadata": {
        "id": "uoVlCtWr1F-F"
      },
      "execution_count": 6,
      "outputs": []
    },
    {
      "cell_type": "code",
      "source": [
        "fgsm_path = '/content/drive/MyDrive/Dataset/insdn/adv/24_feature/fgm/fgm_mlp_bin_feature.csv'\n",
        "#fgsm_label_path = '/content/drive/MyDrive/DACN_XAI_Adv_defense/Dataset/insdn/adv/fgsm/adv_fgsm_target.csv'"
      ],
      "metadata": {
        "id": "f29J4Es-z5lJ"
      },
      "execution_count": 7,
      "outputs": []
    },
    {
      "cell_type": "code",
      "source": [
        "fgsm_df = pd.read_csv(fgsm_path)"
      ],
      "metadata": {
        "id": "I8txn6aG0EIJ"
      },
      "execution_count": 8,
      "outputs": []
    },
    {
      "cell_type": "code",
      "source": [
        "fgsm_df.columns = feature_list\n",
        "fgsm_df.info()"
      ],
      "metadata": {
        "colab": {
          "base_uri": "https://localhost:8080/"
        },
        "id": "dcF6Wl5Y0LY2",
        "outputId": "5ec441d3-590e-4fd8-e21d-14b2395b147f"
      },
      "execution_count": 9,
      "outputs": [
        {
          "output_type": "stream",
          "name": "stdout",
          "text": [
            "<class 'pandas.core.frame.DataFrame'>\n",
            "RangeIndex: 55151 entries, 0 to 55150\n",
            "Data columns (total 76 columns):\n",
            " #   Column             Non-Null Count  Dtype  \n",
            "---  ------             --------------  -----  \n",
            " 0   Flow Duration      55151 non-null  float64\n",
            " 1   Tot Fwd Pkts       55151 non-null  float64\n",
            " 2   Tot Bwd Pkts       55151 non-null  float64\n",
            " 3   TotLen Fwd Pkts    55151 non-null  float64\n",
            " 4   TotLen Bwd Pkts    55151 non-null  float64\n",
            " 5   Fwd Pkt Len Max    55151 non-null  float64\n",
            " 6   Fwd Pkt Len Min    55151 non-null  float64\n",
            " 7   Fwd Pkt Len Mean   55151 non-null  float64\n",
            " 8   Fwd Pkt Len Std    55151 non-null  float64\n",
            " 9   Bwd Pkt Len Max    55151 non-null  float64\n",
            " 10  Bwd Pkt Len Min    55151 non-null  float64\n",
            " 11  Bwd Pkt Len Mean   55151 non-null  float64\n",
            " 12  Bwd Pkt Len Std    55151 non-null  float64\n",
            " 13  Flow Byts/s        55151 non-null  float64\n",
            " 14  Flow Pkts/s        55151 non-null  float64\n",
            " 15  Flow IAT Mean      55151 non-null  float64\n",
            " 16  Flow IAT Std       55151 non-null  float64\n",
            " 17  Flow IAT Max       55151 non-null  float64\n",
            " 18  Flow IAT Min       55151 non-null  float64\n",
            " 19  Fwd IAT Tot        55151 non-null  float64\n",
            " 20  Fwd IAT Mean       55151 non-null  float64\n",
            " 21  Fwd IAT Std        55151 non-null  float64\n",
            " 22  Fwd IAT Max        55151 non-null  float64\n",
            " 23  Fwd IAT Min        55151 non-null  float64\n",
            " 24  Bwd IAT Tot        55151 non-null  float64\n",
            " 25  Bwd IAT Mean       55151 non-null  float64\n",
            " 26  Bwd IAT Std        55151 non-null  float64\n",
            " 27  Bwd IAT Max        55151 non-null  float64\n",
            " 28  Bwd IAT Min        55151 non-null  float64\n",
            " 29  Fwd PSH Flags      55151 non-null  float64\n",
            " 30  Bwd PSH Flags      55151 non-null  float64\n",
            " 31  Fwd URG Flags      55151 non-null  float64\n",
            " 32  Bwd URG Flags      55151 non-null  float64\n",
            " 33  Fwd Header Len     55151 non-null  float64\n",
            " 34  Bwd Header Len     55151 non-null  float64\n",
            " 35  Fwd Pkts/s         55151 non-null  float64\n",
            " 36  Bwd Pkts/s         55151 non-null  float64\n",
            " 37  Pkt Len Min        55151 non-null  float64\n",
            " 38  Pkt Len Max        55151 non-null  float64\n",
            " 39  Pkt Len Mean       55151 non-null  float64\n",
            " 40  Pkt Len Std        55151 non-null  float64\n",
            " 41  Pkt Len Var        55151 non-null  float64\n",
            " 42  FIN Flag Cnt       55151 non-null  float64\n",
            " 43  SYN Flag Cnt       55151 non-null  float64\n",
            " 44  RST Flag Cnt       55151 non-null  float64\n",
            " 45  PSH Flag Cnt       55151 non-null  float64\n",
            " 46  ACK Flag Cnt       55151 non-null  float64\n",
            " 47  URG Flag Cnt       55151 non-null  float64\n",
            " 48  CWE Flag Count     55151 non-null  float64\n",
            " 49  ECE Flag Cnt       55151 non-null  float64\n",
            " 50  Down/Up Ratio      55151 non-null  float64\n",
            " 51  Pkt Size Avg       55151 non-null  float64\n",
            " 52  Fwd Seg Size Avg   55151 non-null  float64\n",
            " 53  Bwd Seg Size Avg   55151 non-null  float64\n",
            " 54  Fwd Byts/b Avg     55151 non-null  float64\n",
            " 55  Fwd Pkts/b Avg     55151 non-null  float64\n",
            " 56  Fwd Blk Rate Avg   55151 non-null  float64\n",
            " 57  Bwd Byts/b Avg     55151 non-null  float64\n",
            " 58  Bwd Pkts/b Avg     55151 non-null  float64\n",
            " 59  Bwd Blk Rate Avg   55151 non-null  float64\n",
            " 60  Subflow Fwd Pkts   55151 non-null  float64\n",
            " 61  Subflow Fwd Byts   55151 non-null  float64\n",
            " 62  Subflow Bwd Pkts   55151 non-null  float64\n",
            " 63  Subflow Bwd Byts   55151 non-null  float64\n",
            " 64  Init Fwd Win Byts  55151 non-null  float64\n",
            " 65  Init Bwd Win Byts  55151 non-null  float64\n",
            " 66  Fwd Act Data Pkts  55151 non-null  float64\n",
            " 67  Fwd Seg Size Min   55151 non-null  float64\n",
            " 68  Active Mean        55151 non-null  float64\n",
            " 69  Active Std         55151 non-null  float64\n",
            " 70  Active Max         55151 non-null  float64\n",
            " 71  Active Min         55151 non-null  float64\n",
            " 72  Idle Mean          55151 non-null  float64\n",
            " 73  Idle Std           55151 non-null  float64\n",
            " 74  Idle Max           55151 non-null  float64\n",
            " 75  Idle Min           55151 non-null  float64\n",
            "dtypes: float64(76)\n",
            "memory usage: 32.0 MB\n"
          ]
        }
      ]
    },
    {
      "cell_type": "code",
      "source": [
        "#fgsm_label = pd.read_csv(fgsm_label_path)\n",
        "#fgsm_label.info()"
      ],
      "metadata": {
        "id": "PVO-9Dh_1C5T"
      },
      "execution_count": null,
      "outputs": []
    },
    {
      "cell_type": "markdown",
      "source": [
        "# Load DL-based IDS model"
      ],
      "metadata": {
        "id": "g33N-zPby6kB"
      }
    },
    {
      "cell_type": "code",
      "source": [
        "model_mlp = tf.keras.models.load_model('/content/drive/MyDrive/Dataset/insdn/insdn_mlp_bin.h5', compile=True)"
      ],
      "metadata": {
        "id": "ZWIDESvCy2b5"
      },
      "execution_count": 10,
      "outputs": []
    },
    {
      "cell_type": "markdown",
      "source": [
        "# SHAP"
      ],
      "metadata": {
        "id": "RFRvMWrd4QoD"
      }
    },
    {
      "cell_type": "code",
      "source": [
        "explainer = shap.KernelExplainer(model_mlp, shap.sample(df, 100))"
      ],
      "metadata": {
        "id": "4505XjQu4K_g"
      },
      "execution_count": 11,
      "outputs": []
    },
    {
      "cell_type": "code",
      "source": [
        "fgsm_1000 = fgsm_df.head(1000)"
      ],
      "metadata": {
        "id": "biTLBwQsdMKd"
      },
      "execution_count": 12,
      "outputs": []
    },
    {
      "cell_type": "code",
      "source": [
        "shap_values = explainer.shap_values(fgsm_1000)"
      ],
      "metadata": {
        "id": "2kwEY6jC4Z-l",
        "colab": {
          "base_uri": "https://localhost:8080/",
          "height": 49,
          "referenced_widgets": [
            "47019d55df314281ad8e4cb54fafde39",
            "7e54eb4a63904f4e957f0d81a5b013a1",
            "8e38fa70dd234ee187087221fc96a289",
            "7203a124ec7c42f680ebf4f4367bb74b",
            "8730ca3e15f94d82abd24aa0dce8db7b",
            "9d77f35505294bf389b01ee9c43f2d03",
            "e54ab7bfaebb4598a874c8fb18b52fb9",
            "073cc1879c684ca2a26dc4917065d33a",
            "229e28504a9149caa1c73d568171683b",
            "40c461131ba9460e9215925dd0c07498",
            "077c8e8c169a4f1bb5d7684a9471362d"
          ]
        },
        "outputId": "93da7373-1016-4ffb-fdcb-7562a13c41f8"
      },
      "execution_count": 13,
      "outputs": [
        {
          "output_type": "display_data",
          "data": {
            "text/plain": [
              "  0%|          | 0/1000 [00:00<?, ?it/s]"
            ],
            "application/vnd.jupyter.widget-view+json": {
              "version_major": 2,
              "version_minor": 0,
              "model_id": "47019d55df314281ad8e4cb54fafde39"
            }
          },
          "metadata": {}
        }
      ]
    },
    {
      "cell_type": "code",
      "source": [
        "data_df = pd.DataFrame(shap_values[0])"
      ],
      "metadata": {
        "id": "48h2syinBBb8"
      },
      "execution_count": 14,
      "outputs": []
    },
    {
      "cell_type": "code",
      "source": [
        "data_df.head()"
      ],
      "metadata": {
        "colab": {
          "base_uri": "https://localhost:8080/",
          "height": 299
        },
        "id": "GaPyNdSzBLa5",
        "outputId": "74696859-60af-4a66-f428-a57770933e5c"
      },
      "execution_count": 16,
      "outputs": [
        {
          "output_type": "execute_result",
          "data": {
            "text/plain": [
              "         0        1         2         3         4    5         6         7   \\\n",
              "0  0.000000  0.00000  0.005206  0.011182  0.007525  0.0  0.004171 -0.008295   \n",
              "1  0.000000  0.00000  0.000000 -0.009904  0.000000  0.0  0.000000  0.000000   \n",
              "2  0.013691  0.00000  0.000000  0.005674  0.004469  0.0  0.017167  0.000000   \n",
              "3 -0.004843  0.00373  0.004319  0.000000 -0.007645  0.0  0.009867  0.000000   \n",
              "4 -0.068196  0.00000  0.003978 -0.010479 -0.005654  0.0 -0.005390 -0.005511   \n",
              "\n",
              "         8         9   ...        66   67        68        69        70  \\\n",
              "0  0.000000 -0.011595  ... -0.011714  0.0  0.000000  0.000000  0.018712   \n",
              "1  0.000000  0.000000  ...  0.000000  0.0  0.000000  0.000000  0.000000   \n",
              "2 -0.003568  0.000000  ... -0.007757  0.0  0.000000 -0.007466 -0.009319   \n",
              "3  0.003960  0.004352  ...  0.000000  0.0  0.000000  0.000000 -0.007572   \n",
              "4  0.000000  0.003899  ... -0.004918  0.0  0.098404 -0.218128  0.070281   \n",
              "\n",
              "         71        72        73        74        75  \n",
              "0 -0.008680  0.013444 -0.009724  0.002248  0.003200  \n",
              "1  0.000000 -0.041337  0.000000 -0.027067 -0.064104  \n",
              "2  0.000000 -0.047403  0.000000 -0.036143 -0.041568  \n",
              "3  0.006459 -0.053761 -0.012276 -0.037872 -0.052935  \n",
              "4  0.008154 -0.183210 -0.007772 -0.171425 -0.141032  \n",
              "\n",
              "[5 rows x 76 columns]"
            ],
            "text/html": [
              "\n",
              "  <div id=\"df-5b0d0bdf-3667-47c9-97d5-1737ffe3d184\">\n",
              "    <div class=\"colab-df-container\">\n",
              "      <div>\n",
              "<style scoped>\n",
              "    .dataframe tbody tr th:only-of-type {\n",
              "        vertical-align: middle;\n",
              "    }\n",
              "\n",
              "    .dataframe tbody tr th {\n",
              "        vertical-align: top;\n",
              "    }\n",
              "\n",
              "    .dataframe thead th {\n",
              "        text-align: right;\n",
              "    }\n",
              "</style>\n",
              "<table border=\"1\" class=\"dataframe\">\n",
              "  <thead>\n",
              "    <tr style=\"text-align: right;\">\n",
              "      <th></th>\n",
              "      <th>0</th>\n",
              "      <th>1</th>\n",
              "      <th>2</th>\n",
              "      <th>3</th>\n",
              "      <th>4</th>\n",
              "      <th>5</th>\n",
              "      <th>6</th>\n",
              "      <th>7</th>\n",
              "      <th>8</th>\n",
              "      <th>9</th>\n",
              "      <th>...</th>\n",
              "      <th>66</th>\n",
              "      <th>67</th>\n",
              "      <th>68</th>\n",
              "      <th>69</th>\n",
              "      <th>70</th>\n",
              "      <th>71</th>\n",
              "      <th>72</th>\n",
              "      <th>73</th>\n",
              "      <th>74</th>\n",
              "      <th>75</th>\n",
              "    </tr>\n",
              "  </thead>\n",
              "  <tbody>\n",
              "    <tr>\n",
              "      <th>0</th>\n",
              "      <td>0.000000</td>\n",
              "      <td>0.00000</td>\n",
              "      <td>0.005206</td>\n",
              "      <td>0.011182</td>\n",
              "      <td>0.007525</td>\n",
              "      <td>0.0</td>\n",
              "      <td>0.004171</td>\n",
              "      <td>-0.008295</td>\n",
              "      <td>0.000000</td>\n",
              "      <td>-0.011595</td>\n",
              "      <td>...</td>\n",
              "      <td>-0.011714</td>\n",
              "      <td>0.0</td>\n",
              "      <td>0.000000</td>\n",
              "      <td>0.000000</td>\n",
              "      <td>0.018712</td>\n",
              "      <td>-0.008680</td>\n",
              "      <td>0.013444</td>\n",
              "      <td>-0.009724</td>\n",
              "      <td>0.002248</td>\n",
              "      <td>0.003200</td>\n",
              "    </tr>\n",
              "    <tr>\n",
              "      <th>1</th>\n",
              "      <td>0.000000</td>\n",
              "      <td>0.00000</td>\n",
              "      <td>0.000000</td>\n",
              "      <td>-0.009904</td>\n",
              "      <td>0.000000</td>\n",
              "      <td>0.0</td>\n",
              "      <td>0.000000</td>\n",
              "      <td>0.000000</td>\n",
              "      <td>0.000000</td>\n",
              "      <td>0.000000</td>\n",
              "      <td>...</td>\n",
              "      <td>0.000000</td>\n",
              "      <td>0.0</td>\n",
              "      <td>0.000000</td>\n",
              "      <td>0.000000</td>\n",
              "      <td>0.000000</td>\n",
              "      <td>0.000000</td>\n",
              "      <td>-0.041337</td>\n",
              "      <td>0.000000</td>\n",
              "      <td>-0.027067</td>\n",
              "      <td>-0.064104</td>\n",
              "    </tr>\n",
              "    <tr>\n",
              "      <th>2</th>\n",
              "      <td>0.013691</td>\n",
              "      <td>0.00000</td>\n",
              "      <td>0.000000</td>\n",
              "      <td>0.005674</td>\n",
              "      <td>0.004469</td>\n",
              "      <td>0.0</td>\n",
              "      <td>0.017167</td>\n",
              "      <td>0.000000</td>\n",
              "      <td>-0.003568</td>\n",
              "      <td>0.000000</td>\n",
              "      <td>...</td>\n",
              "      <td>-0.007757</td>\n",
              "      <td>0.0</td>\n",
              "      <td>0.000000</td>\n",
              "      <td>-0.007466</td>\n",
              "      <td>-0.009319</td>\n",
              "      <td>0.000000</td>\n",
              "      <td>-0.047403</td>\n",
              "      <td>0.000000</td>\n",
              "      <td>-0.036143</td>\n",
              "      <td>-0.041568</td>\n",
              "    </tr>\n",
              "    <tr>\n",
              "      <th>3</th>\n",
              "      <td>-0.004843</td>\n",
              "      <td>0.00373</td>\n",
              "      <td>0.004319</td>\n",
              "      <td>0.000000</td>\n",
              "      <td>-0.007645</td>\n",
              "      <td>0.0</td>\n",
              "      <td>0.009867</td>\n",
              "      <td>0.000000</td>\n",
              "      <td>0.003960</td>\n",
              "      <td>0.004352</td>\n",
              "      <td>...</td>\n",
              "      <td>0.000000</td>\n",
              "      <td>0.0</td>\n",
              "      <td>0.000000</td>\n",
              "      <td>0.000000</td>\n",
              "      <td>-0.007572</td>\n",
              "      <td>0.006459</td>\n",
              "      <td>-0.053761</td>\n",
              "      <td>-0.012276</td>\n",
              "      <td>-0.037872</td>\n",
              "      <td>-0.052935</td>\n",
              "    </tr>\n",
              "    <tr>\n",
              "      <th>4</th>\n",
              "      <td>-0.068196</td>\n",
              "      <td>0.00000</td>\n",
              "      <td>0.003978</td>\n",
              "      <td>-0.010479</td>\n",
              "      <td>-0.005654</td>\n",
              "      <td>0.0</td>\n",
              "      <td>-0.005390</td>\n",
              "      <td>-0.005511</td>\n",
              "      <td>0.000000</td>\n",
              "      <td>0.003899</td>\n",
              "      <td>...</td>\n",
              "      <td>-0.004918</td>\n",
              "      <td>0.0</td>\n",
              "      <td>0.098404</td>\n",
              "      <td>-0.218128</td>\n",
              "      <td>0.070281</td>\n",
              "      <td>0.008154</td>\n",
              "      <td>-0.183210</td>\n",
              "      <td>-0.007772</td>\n",
              "      <td>-0.171425</td>\n",
              "      <td>-0.141032</td>\n",
              "    </tr>\n",
              "  </tbody>\n",
              "</table>\n",
              "<p>5 rows × 76 columns</p>\n",
              "</div>\n",
              "      <button class=\"colab-df-convert\" onclick=\"convertToInteractive('df-5b0d0bdf-3667-47c9-97d5-1737ffe3d184')\"\n",
              "              title=\"Convert this dataframe to an interactive table.\"\n",
              "              style=\"display:none;\">\n",
              "        \n",
              "  <svg xmlns=\"http://www.w3.org/2000/svg\" height=\"24px\"viewBox=\"0 0 24 24\"\n",
              "       width=\"24px\">\n",
              "    <path d=\"M0 0h24v24H0V0z\" fill=\"none\"/>\n",
              "    <path d=\"M18.56 5.44l.94 2.06.94-2.06 2.06-.94-2.06-.94-.94-2.06-.94 2.06-2.06.94zm-11 1L8.5 8.5l.94-2.06 2.06-.94-2.06-.94L8.5 2.5l-.94 2.06-2.06.94zm10 10l.94 2.06.94-2.06 2.06-.94-2.06-.94-.94-2.06-.94 2.06-2.06.94z\"/><path d=\"M17.41 7.96l-1.37-1.37c-.4-.4-.92-.59-1.43-.59-.52 0-1.04.2-1.43.59L10.3 9.45l-7.72 7.72c-.78.78-.78 2.05 0 2.83L4 21.41c.39.39.9.59 1.41.59.51 0 1.02-.2 1.41-.59l7.78-7.78 2.81-2.81c.8-.78.8-2.07 0-2.86zM5.41 20L4 18.59l7.72-7.72 1.47 1.35L5.41 20z\"/>\n",
              "  </svg>\n",
              "      </button>\n",
              "      \n",
              "  <style>\n",
              "    .colab-df-container {\n",
              "      display:flex;\n",
              "      flex-wrap:wrap;\n",
              "      gap: 12px;\n",
              "    }\n",
              "\n",
              "    .colab-df-convert {\n",
              "      background-color: #E8F0FE;\n",
              "      border: none;\n",
              "      border-radius: 50%;\n",
              "      cursor: pointer;\n",
              "      display: none;\n",
              "      fill: #1967D2;\n",
              "      height: 32px;\n",
              "      padding: 0 0 0 0;\n",
              "      width: 32px;\n",
              "    }\n",
              "\n",
              "    .colab-df-convert:hover {\n",
              "      background-color: #E2EBFA;\n",
              "      box-shadow: 0px 1px 2px rgba(60, 64, 67, 0.3), 0px 1px 3px 1px rgba(60, 64, 67, 0.15);\n",
              "      fill: #174EA6;\n",
              "    }\n",
              "\n",
              "    [theme=dark] .colab-df-convert {\n",
              "      background-color: #3B4455;\n",
              "      fill: #D2E3FC;\n",
              "    }\n",
              "\n",
              "    [theme=dark] .colab-df-convert:hover {\n",
              "      background-color: #434B5C;\n",
              "      box-shadow: 0px 1px 3px 1px rgba(0, 0, 0, 0.15);\n",
              "      filter: drop-shadow(0px 1px 2px rgba(0, 0, 0, 0.3));\n",
              "      fill: #FFFFFF;\n",
              "    }\n",
              "  </style>\n",
              "\n",
              "      <script>\n",
              "        const buttonEl =\n",
              "          document.querySelector('#df-5b0d0bdf-3667-47c9-97d5-1737ffe3d184 button.colab-df-convert');\n",
              "        buttonEl.style.display =\n",
              "          google.colab.kernel.accessAllowed ? 'block' : 'none';\n",
              "\n",
              "        async function convertToInteractive(key) {\n",
              "          const element = document.querySelector('#df-5b0d0bdf-3667-47c9-97d5-1737ffe3d184');\n",
              "          const dataTable =\n",
              "            await google.colab.kernel.invokeFunction('convertToInteractive',\n",
              "                                                     [key], {});\n",
              "          if (!dataTable) return;\n",
              "\n",
              "          const docLinkHtml = 'Like what you see? Visit the ' +\n",
              "            '<a target=\"_blank\" href=https://colab.research.google.com/notebooks/data_table.ipynb>data table notebook</a>'\n",
              "            + ' to learn more about interactive tables.';\n",
              "          element.innerHTML = '';\n",
              "          dataTable['output_type'] = 'display_data';\n",
              "          await google.colab.output.renderOutput(dataTable, element);\n",
              "          const docLink = document.createElement('div');\n",
              "          docLink.innerHTML = docLinkHtml;\n",
              "          element.appendChild(docLink);\n",
              "        }\n",
              "      </script>\n",
              "    </div>\n",
              "  </div>\n",
              "  "
            ]
          },
          "metadata": {},
          "execution_count": 16
        }
      ]
    },
    {
      "cell_type": "code",
      "source": [
        "data_df.to_csv('/content/drive/MyDrive/1000_samples_bin_[0].csv', index=False)"
      ],
      "metadata": {
        "id": "mbDTuofCBeGJ"
      },
      "execution_count": 29,
      "outputs": []
    },
    {
      "cell_type": "code",
      "source": [
        "data_df.columns = feature_list\n",
        "data_df.head()"
      ],
      "metadata": {
        "colab": {
          "base_uri": "https://localhost:8080/",
          "height": 351
        },
        "id": "Kh8NM9hmM99Y",
        "outputId": "a977dce1-8c30-41b8-d497-e67bb185d558"
      },
      "execution_count": 17,
      "outputs": [
        {
          "output_type": "execute_result",
          "data": {
            "text/plain": [
              "   Flow Duration  Tot Fwd Pkts  Tot Bwd Pkts  TotLen Fwd Pkts  \\\n",
              "0       0.000000       0.00000      0.005206         0.011182   \n",
              "1       0.000000       0.00000      0.000000        -0.009904   \n",
              "2       0.013691       0.00000      0.000000         0.005674   \n",
              "3      -0.004843       0.00373      0.004319         0.000000   \n",
              "4      -0.068196       0.00000      0.003978        -0.010479   \n",
              "\n",
              "   TotLen Bwd Pkts  Fwd Pkt Len Max  Fwd Pkt Len Min  Fwd Pkt Len Mean  \\\n",
              "0         0.007525              0.0         0.004171         -0.008295   \n",
              "1         0.000000              0.0         0.000000          0.000000   \n",
              "2         0.004469              0.0         0.017167          0.000000   \n",
              "3        -0.007645              0.0         0.009867          0.000000   \n",
              "4        -0.005654              0.0        -0.005390         -0.005511   \n",
              "\n",
              "   Fwd Pkt Len Std  Bwd Pkt Len Max  ...  Fwd Act Data Pkts  Fwd Seg Size Min  \\\n",
              "0         0.000000        -0.011595  ...          -0.011714               0.0   \n",
              "1         0.000000         0.000000  ...           0.000000               0.0   \n",
              "2        -0.003568         0.000000  ...          -0.007757               0.0   \n",
              "3         0.003960         0.004352  ...           0.000000               0.0   \n",
              "4         0.000000         0.003899  ...          -0.004918               0.0   \n",
              "\n",
              "   Active Mean  Active Std  Active Max  Active Min  Idle Mean  Idle Std  \\\n",
              "0     0.000000    0.000000    0.018712   -0.008680   0.013444 -0.009724   \n",
              "1     0.000000    0.000000    0.000000    0.000000  -0.041337  0.000000   \n",
              "2     0.000000   -0.007466   -0.009319    0.000000  -0.047403  0.000000   \n",
              "3     0.000000    0.000000   -0.007572    0.006459  -0.053761 -0.012276   \n",
              "4     0.098404   -0.218128    0.070281    0.008154  -0.183210 -0.007772   \n",
              "\n",
              "   Idle Max  Idle Min  \n",
              "0  0.002248  0.003200  \n",
              "1 -0.027067 -0.064104  \n",
              "2 -0.036143 -0.041568  \n",
              "3 -0.037872 -0.052935  \n",
              "4 -0.171425 -0.141032  \n",
              "\n",
              "[5 rows x 76 columns]"
            ],
            "text/html": [
              "\n",
              "  <div id=\"df-d1b6d32f-1921-4ae7-a9a1-a9f126e42aae\">\n",
              "    <div class=\"colab-df-container\">\n",
              "      <div>\n",
              "<style scoped>\n",
              "    .dataframe tbody tr th:only-of-type {\n",
              "        vertical-align: middle;\n",
              "    }\n",
              "\n",
              "    .dataframe tbody tr th {\n",
              "        vertical-align: top;\n",
              "    }\n",
              "\n",
              "    .dataframe thead th {\n",
              "        text-align: right;\n",
              "    }\n",
              "</style>\n",
              "<table border=\"1\" class=\"dataframe\">\n",
              "  <thead>\n",
              "    <tr style=\"text-align: right;\">\n",
              "      <th></th>\n",
              "      <th>Flow Duration</th>\n",
              "      <th>Tot Fwd Pkts</th>\n",
              "      <th>Tot Bwd Pkts</th>\n",
              "      <th>TotLen Fwd Pkts</th>\n",
              "      <th>TotLen Bwd Pkts</th>\n",
              "      <th>Fwd Pkt Len Max</th>\n",
              "      <th>Fwd Pkt Len Min</th>\n",
              "      <th>Fwd Pkt Len Mean</th>\n",
              "      <th>Fwd Pkt Len Std</th>\n",
              "      <th>Bwd Pkt Len Max</th>\n",
              "      <th>...</th>\n",
              "      <th>Fwd Act Data Pkts</th>\n",
              "      <th>Fwd Seg Size Min</th>\n",
              "      <th>Active Mean</th>\n",
              "      <th>Active Std</th>\n",
              "      <th>Active Max</th>\n",
              "      <th>Active Min</th>\n",
              "      <th>Idle Mean</th>\n",
              "      <th>Idle Std</th>\n",
              "      <th>Idle Max</th>\n",
              "      <th>Idle Min</th>\n",
              "    </tr>\n",
              "  </thead>\n",
              "  <tbody>\n",
              "    <tr>\n",
              "      <th>0</th>\n",
              "      <td>0.000000</td>\n",
              "      <td>0.00000</td>\n",
              "      <td>0.005206</td>\n",
              "      <td>0.011182</td>\n",
              "      <td>0.007525</td>\n",
              "      <td>0.0</td>\n",
              "      <td>0.004171</td>\n",
              "      <td>-0.008295</td>\n",
              "      <td>0.000000</td>\n",
              "      <td>-0.011595</td>\n",
              "      <td>...</td>\n",
              "      <td>-0.011714</td>\n",
              "      <td>0.0</td>\n",
              "      <td>0.000000</td>\n",
              "      <td>0.000000</td>\n",
              "      <td>0.018712</td>\n",
              "      <td>-0.008680</td>\n",
              "      <td>0.013444</td>\n",
              "      <td>-0.009724</td>\n",
              "      <td>0.002248</td>\n",
              "      <td>0.003200</td>\n",
              "    </tr>\n",
              "    <tr>\n",
              "      <th>1</th>\n",
              "      <td>0.000000</td>\n",
              "      <td>0.00000</td>\n",
              "      <td>0.000000</td>\n",
              "      <td>-0.009904</td>\n",
              "      <td>0.000000</td>\n",
              "      <td>0.0</td>\n",
              "      <td>0.000000</td>\n",
              "      <td>0.000000</td>\n",
              "      <td>0.000000</td>\n",
              "      <td>0.000000</td>\n",
              "      <td>...</td>\n",
              "      <td>0.000000</td>\n",
              "      <td>0.0</td>\n",
              "      <td>0.000000</td>\n",
              "      <td>0.000000</td>\n",
              "      <td>0.000000</td>\n",
              "      <td>0.000000</td>\n",
              "      <td>-0.041337</td>\n",
              "      <td>0.000000</td>\n",
              "      <td>-0.027067</td>\n",
              "      <td>-0.064104</td>\n",
              "    </tr>\n",
              "    <tr>\n",
              "      <th>2</th>\n",
              "      <td>0.013691</td>\n",
              "      <td>0.00000</td>\n",
              "      <td>0.000000</td>\n",
              "      <td>0.005674</td>\n",
              "      <td>0.004469</td>\n",
              "      <td>0.0</td>\n",
              "      <td>0.017167</td>\n",
              "      <td>0.000000</td>\n",
              "      <td>-0.003568</td>\n",
              "      <td>0.000000</td>\n",
              "      <td>...</td>\n",
              "      <td>-0.007757</td>\n",
              "      <td>0.0</td>\n",
              "      <td>0.000000</td>\n",
              "      <td>-0.007466</td>\n",
              "      <td>-0.009319</td>\n",
              "      <td>0.000000</td>\n",
              "      <td>-0.047403</td>\n",
              "      <td>0.000000</td>\n",
              "      <td>-0.036143</td>\n",
              "      <td>-0.041568</td>\n",
              "    </tr>\n",
              "    <tr>\n",
              "      <th>3</th>\n",
              "      <td>-0.004843</td>\n",
              "      <td>0.00373</td>\n",
              "      <td>0.004319</td>\n",
              "      <td>0.000000</td>\n",
              "      <td>-0.007645</td>\n",
              "      <td>0.0</td>\n",
              "      <td>0.009867</td>\n",
              "      <td>0.000000</td>\n",
              "      <td>0.003960</td>\n",
              "      <td>0.004352</td>\n",
              "      <td>...</td>\n",
              "      <td>0.000000</td>\n",
              "      <td>0.0</td>\n",
              "      <td>0.000000</td>\n",
              "      <td>0.000000</td>\n",
              "      <td>-0.007572</td>\n",
              "      <td>0.006459</td>\n",
              "      <td>-0.053761</td>\n",
              "      <td>-0.012276</td>\n",
              "      <td>-0.037872</td>\n",
              "      <td>-0.052935</td>\n",
              "    </tr>\n",
              "    <tr>\n",
              "      <th>4</th>\n",
              "      <td>-0.068196</td>\n",
              "      <td>0.00000</td>\n",
              "      <td>0.003978</td>\n",
              "      <td>-0.010479</td>\n",
              "      <td>-0.005654</td>\n",
              "      <td>0.0</td>\n",
              "      <td>-0.005390</td>\n",
              "      <td>-0.005511</td>\n",
              "      <td>0.000000</td>\n",
              "      <td>0.003899</td>\n",
              "      <td>...</td>\n",
              "      <td>-0.004918</td>\n",
              "      <td>0.0</td>\n",
              "      <td>0.098404</td>\n",
              "      <td>-0.218128</td>\n",
              "      <td>0.070281</td>\n",
              "      <td>0.008154</td>\n",
              "      <td>-0.183210</td>\n",
              "      <td>-0.007772</td>\n",
              "      <td>-0.171425</td>\n",
              "      <td>-0.141032</td>\n",
              "    </tr>\n",
              "  </tbody>\n",
              "</table>\n",
              "<p>5 rows × 76 columns</p>\n",
              "</div>\n",
              "      <button class=\"colab-df-convert\" onclick=\"convertToInteractive('df-d1b6d32f-1921-4ae7-a9a1-a9f126e42aae')\"\n",
              "              title=\"Convert this dataframe to an interactive table.\"\n",
              "              style=\"display:none;\">\n",
              "        \n",
              "  <svg xmlns=\"http://www.w3.org/2000/svg\" height=\"24px\"viewBox=\"0 0 24 24\"\n",
              "       width=\"24px\">\n",
              "    <path d=\"M0 0h24v24H0V0z\" fill=\"none\"/>\n",
              "    <path d=\"M18.56 5.44l.94 2.06.94-2.06 2.06-.94-2.06-.94-.94-2.06-.94 2.06-2.06.94zm-11 1L8.5 8.5l.94-2.06 2.06-.94-2.06-.94L8.5 2.5l-.94 2.06-2.06.94zm10 10l.94 2.06.94-2.06 2.06-.94-2.06-.94-.94-2.06-.94 2.06-2.06.94z\"/><path d=\"M17.41 7.96l-1.37-1.37c-.4-.4-.92-.59-1.43-.59-.52 0-1.04.2-1.43.59L10.3 9.45l-7.72 7.72c-.78.78-.78 2.05 0 2.83L4 21.41c.39.39.9.59 1.41.59.51 0 1.02-.2 1.41-.59l7.78-7.78 2.81-2.81c.8-.78.8-2.07 0-2.86zM5.41 20L4 18.59l7.72-7.72 1.47 1.35L5.41 20z\"/>\n",
              "  </svg>\n",
              "      </button>\n",
              "      \n",
              "  <style>\n",
              "    .colab-df-container {\n",
              "      display:flex;\n",
              "      flex-wrap:wrap;\n",
              "      gap: 12px;\n",
              "    }\n",
              "\n",
              "    .colab-df-convert {\n",
              "      background-color: #E8F0FE;\n",
              "      border: none;\n",
              "      border-radius: 50%;\n",
              "      cursor: pointer;\n",
              "      display: none;\n",
              "      fill: #1967D2;\n",
              "      height: 32px;\n",
              "      padding: 0 0 0 0;\n",
              "      width: 32px;\n",
              "    }\n",
              "\n",
              "    .colab-df-convert:hover {\n",
              "      background-color: #E2EBFA;\n",
              "      box-shadow: 0px 1px 2px rgba(60, 64, 67, 0.3), 0px 1px 3px 1px rgba(60, 64, 67, 0.15);\n",
              "      fill: #174EA6;\n",
              "    }\n",
              "\n",
              "    [theme=dark] .colab-df-convert {\n",
              "      background-color: #3B4455;\n",
              "      fill: #D2E3FC;\n",
              "    }\n",
              "\n",
              "    [theme=dark] .colab-df-convert:hover {\n",
              "      background-color: #434B5C;\n",
              "      box-shadow: 0px 1px 3px 1px rgba(0, 0, 0, 0.15);\n",
              "      filter: drop-shadow(0px 1px 2px rgba(0, 0, 0, 0.3));\n",
              "      fill: #FFFFFF;\n",
              "    }\n",
              "  </style>\n",
              "\n",
              "      <script>\n",
              "        const buttonEl =\n",
              "          document.querySelector('#df-d1b6d32f-1921-4ae7-a9a1-a9f126e42aae button.colab-df-convert');\n",
              "        buttonEl.style.display =\n",
              "          google.colab.kernel.accessAllowed ? 'block' : 'none';\n",
              "\n",
              "        async function convertToInteractive(key) {\n",
              "          const element = document.querySelector('#df-d1b6d32f-1921-4ae7-a9a1-a9f126e42aae');\n",
              "          const dataTable =\n",
              "            await google.colab.kernel.invokeFunction('convertToInteractive',\n",
              "                                                     [key], {});\n",
              "          if (!dataTable) return;\n",
              "\n",
              "          const docLinkHtml = 'Like what you see? Visit the ' +\n",
              "            '<a target=\"_blank\" href=https://colab.research.google.com/notebooks/data_table.ipynb>data table notebook</a>'\n",
              "            + ' to learn more about interactive tables.';\n",
              "          element.innerHTML = '';\n",
              "          dataTable['output_type'] = 'display_data';\n",
              "          await google.colab.output.renderOutput(dataTable, element);\n",
              "          const docLink = document.createElement('div');\n",
              "          docLink.innerHTML = docLinkHtml;\n",
              "          element.appendChild(docLink);\n",
              "        }\n",
              "      </script>\n",
              "    </div>\n",
              "  </div>\n",
              "  "
            ]
          },
          "metadata": {},
          "execution_count": 17
        }
      ]
    },
    {
      "cell_type": "code",
      "source": [
        "data_dict = {}\n",
        "for idx in range(0, 1000):\n",
        "  # Select the desired row and get the top 10 values's column names\n",
        "  row_values = data_df.iloc[idx].nlargest(10).index.tolist()\n",
        "\n",
        "  # Create a dictionary and add the list with filename as the key\n",
        "  data_dict['Adv sample ' + str(idx)] = row_values"
      ],
      "metadata": {
        "id": "y9KCFvHdP5UO"
      },
      "execution_count": 18,
      "outputs": []
    },
    {
      "cell_type": "code",
      "source": [
        "print(data_dict)"
      ],
      "metadata": {
        "colab": {
          "base_uri": "https://localhost:8080/"
        },
        "id": "SAhM-kXtRLoW",
        "outputId": "a89dcc17-9977-48fe-bb87-edec641a5e20"
      },
      "execution_count": 19,
      "outputs": [
        {
          "output_type": "stream",
          "name": "stdout",
          "text": [
            "{'Adv sample 0': ['Bwd IAT Min', 'Bwd IAT Max', 'Bwd IAT Mean', 'Init Bwd Win Byts', 'Fwd Pkts/b Avg', 'Pkt Len Mean', 'Pkt Len Min', 'Down/Up Ratio', 'Fwd IAT Mean', 'Pkt Len Std'], 'Adv sample 1': ['SYN Flag Cnt', 'Bwd IAT Mean', 'Fwd IAT Min', 'Bwd IAT Max', 'Init Bwd Win Byts', 'Fwd Byts/b Avg', 'Bwd Pkts/s', 'Bwd IAT Tot', 'Fwd IAT Mean', 'Bwd Seg Size Avg'], 'Adv sample 2': ['SYN Flag Cnt', 'Bwd IAT Mean', 'Fwd IAT Min', 'Init Bwd Win Byts', 'Bwd IAT Max', 'Bwd Pkts/b Avg', 'Fwd Byts/b Avg', 'Bwd Pkts/s', 'Fwd Seg Size Avg', 'Fwd Pkt Len Min'], 'Adv sample 3': ['SYN Flag Cnt', 'Bwd IAT Mean', 'Fwd IAT Min', 'Init Bwd Win Byts', 'Bwd IAT Max', 'Fwd Byts/b Avg', 'Pkt Len Min', 'Flow Byts/s', 'URG Flag Cnt', 'Down/Up Ratio'], 'Adv sample 4': ['ACK Flag Cnt', 'Active Mean', 'Active Max', 'Init Bwd Win Byts', 'Flow IAT Std', 'Flow Pkts/s', 'Pkt Len Min', 'Flow IAT Min', 'Flow IAT Mean', 'Fwd IAT Max'], 'Adv sample 5': ['Bwd IAT Mean', 'Bwd IAT Min', 'Fwd Pkts/b Avg', 'Init Bwd Win Byts', 'Fwd Blk Rate Avg', 'Pkt Len Min', 'Pkt Len Mean', 'Bwd Pkt Len Min', 'Bwd Pkt Len Mean', 'Fwd Pkts/s'], 'Adv sample 6': ['ACK Flag Cnt', 'Bwd IAT Min', 'Bwd IAT Mean', 'Bwd IAT Max', 'Init Bwd Win Byts', 'Bwd Pkts/s', 'Down/Up Ratio', 'Pkt Len Mean', 'Pkt Len Min', 'Bwd URG Flags'], 'Adv sample 7': ['Bwd IAT Min', 'Bwd IAT Mean', 'Bwd IAT Max', 'Init Bwd Win Byts', 'Bwd Pkts/s', 'Flow Pkts/s', 'Fwd Blk Rate Avg', 'Fwd Pkts/b Avg', 'Idle Max', 'Down/Up Ratio'], 'Adv sample 8': ['ACK Flag Cnt', 'Idle Std', 'Init Bwd Win Byts', 'Down/Up Ratio', 'Bwd IAT Tot', 'Bwd Pkts/b Avg', 'Bwd Pkt Len Min', 'Pkt Len Min', 'Pkt Size Avg', 'Pkt Len Mean'], 'Adv sample 9': ['SYN Flag Cnt', 'Fwd IAT Min', 'Bwd IAT Mean', 'Init Bwd Win Byts', 'Bwd IAT Max', 'Fwd Byts/b Avg', 'Tot Bwd Pkts', 'TotLen Fwd Pkts', 'Flow IAT Max', 'Fwd IAT Mean'], 'Adv sample 10': ['ACK Flag Cnt', 'Active Mean', 'Active Max', 'Flow IAT Std', 'Flow IAT Mean', 'Init Bwd Win Byts', 'Fwd Pkt Len Max', 'Bwd Pkt Len Max', 'Fwd Pkt Len Min', 'Bwd IAT Max'], 'Adv sample 11': ['Bwd IAT Min', 'Bwd IAT Mean', 'Bwd IAT Max', 'Fwd Pkts/b Avg', 'Fwd Blk Rate Avg', 'Bwd Pkts/s', 'Init Bwd Win Byts', 'Down/Up Ratio', 'Pkt Len Var', 'Pkt Len Min'], 'Adv sample 12': ['ACK Flag Cnt', 'Active Mean', 'Flow IAT Std', 'Active Max', 'Init Bwd Win Byts', 'Flow IAT Mean', 'Pkt Len Min', 'Flow Pkts/s', 'TotLen Fwd Pkts', 'Fwd Pkt Len Min'], 'Adv sample 13': ['Bwd IAT Min', 'Bwd IAT Mean', 'Bwd IAT Max', 'Init Bwd Win Byts', 'Bwd Pkts/s', 'Fwd Pkts/b Avg', 'Flow Pkts/s', 'Pkt Len Std', 'Pkt Len Min', 'Down/Up Ratio'], 'Adv sample 14': ['SYN Flag Cnt', 'Bwd IAT Mean', 'Fwd IAT Min', 'Init Bwd Win Byts', 'Bwd IAT Tot', 'Bwd Pkts/b Avg', 'Fwd Byts/b Avg', 'Bwd IAT Max', 'Bwd Pkts/s', 'Flow Pkts/s'], 'Adv sample 15': ['Bwd IAT Min', 'Bwd IAT Mean', 'Idle Max', 'Fwd Pkts/b Avg', 'Init Bwd Win Byts', 'Down/Up Ratio', 'Pkt Len Min', 'Fwd Pkt Len Max', 'Bwd Pkt Len Min', 'Subflow Bwd Byts'], 'Adv sample 16': ['Bwd IAT Min', 'Bwd IAT Mean', 'Bwd IAT Max', 'Init Bwd Win Byts', 'Bwd Pkts/s', 'Fwd Pkts/b Avg', 'Flow IAT Mean', 'Pkt Len Min', 'Down/Up Ratio', 'Idle Max'], 'Adv sample 17': ['SYN Flag Cnt', 'Bwd IAT Mean', 'Fwd IAT Min', 'Init Bwd Win Byts', 'Fwd Byts/b Avg', 'Bwd Pkts/b Avg', 'Bwd PSH Flags', 'Flow IAT Max', 'Tot Fwd Pkts', 'Tot Bwd Pkts'], 'Adv sample 18': ['ACK Flag Cnt', 'Idle Std', 'Init Bwd Win Byts', 'Down/Up Ratio', 'Bwd IAT Tot', 'Pkt Len Min', 'Flow Duration', 'Bwd Pkts/b Avg', 'Fwd IAT Max', 'Bwd Byts/b Avg'], 'Adv sample 19': ['ACK Flag Cnt', 'Bwd IAT Mean', 'Bwd IAT Min', 'Bwd IAT Max', 'Init Bwd Win Byts', 'Bwd Pkts/s', 'Fwd IAT Mean', 'Subflow Bwd Byts', 'Flow Pkts/s', 'Subflow Bwd Pkts'], 'Adv sample 20': ['Bwd IAT Mean', 'Bwd IAT Min', 'Fwd Pkts/b Avg', 'Init Bwd Win Byts', 'Down/Up Ratio', 'Fwd Blk Rate Avg', 'Pkt Size Avg', 'Active Max', 'Pkt Len Max', 'Fwd Header Len'], 'Adv sample 21': ['SYN Flag Cnt', 'Bwd IAT Mean', 'Fwd IAT Min', 'Init Bwd Win Byts', 'Bwd IAT Max', 'Bwd Pkts/b Avg', 'Bwd Pkts/s', 'Subflow Fwd Pkts', 'Fwd Byts/b Avg', 'Bwd URG Flags'], 'Adv sample 22': ['Bwd IAT Mean', 'Bwd IAT Min', 'Init Bwd Win Byts', 'Fwd Pkts/b Avg', 'Fwd Blk Rate Avg', 'Down/Up Ratio', 'Bwd URG Flags', 'Pkt Len Std', 'Pkt Size Avg', 'Subflow Fwd Pkts'], 'Adv sample 23': ['Bwd IAT Min', 'Bwd IAT Max', 'Bwd IAT Mean', 'Init Bwd Win Byts', 'Fwd Pkts/b Avg', 'Fwd IAT Mean', 'Pkt Len Min', 'Flow Pkts/s', 'Bwd Pkts/s', 'PSH Flag Cnt'], 'Adv sample 24': ['Idle Std', 'ACK Flag Cnt', 'Bwd Byts/b Avg', 'Init Bwd Win Byts', 'Pkt Len Min', 'Fwd Pkts/s', 'Idle Min', 'Bwd Pkts/b Avg', 'Tot Fwd Pkts', 'Subflow Fwd Pkts'], 'Adv sample 25': ['SYN Flag Cnt', 'Bwd IAT Mean', 'Fwd IAT Min', 'Bwd IAT Max', 'Bwd Pkt Len Min', 'Init Bwd Win Byts', 'Bwd IAT Tot', 'Fwd Pkt Len Max', 'Fwd Byts/b Avg', 'Fwd IAT Mean'], 'Adv sample 26': ['Bwd IAT Min', 'Bwd IAT Mean', 'Bwd IAT Max', 'Bwd Pkts/s', 'Init Bwd Win Byts', 'Fwd Pkts/b Avg', 'Down/Up Ratio', 'Subflow Bwd Pkts', 'Flow Pkts/s', 'Pkt Len Std'], 'Adv sample 27': ['Bwd IAT Mean', 'Bwd IAT Min', 'Init Bwd Win Byts', 'Fwd Pkts/b Avg', 'Down/Up Ratio', 'Fwd Blk Rate Avg', 'Pkt Len Min', 'Tot Fwd Pkts', 'Pkt Len Std', 'Bwd Pkt Len Min'], 'Adv sample 28': ['URG Flag Cnt', 'FIN Flag Cnt', 'Bwd URG Flags', 'Fwd IAT Mean', 'Idle Min', 'Down/Up Ratio', 'Init Bwd Win Byts', 'PSH Flag Cnt', 'Pkt Len Std', 'Pkt Len Min'], 'Adv sample 29': ['Bwd Pkts/s', 'Fwd IAT Min', 'Pkt Len Max', 'Init Bwd Win Byts', 'Bwd IAT Min', 'Subflow Bwd Pkts', 'Pkt Size Avg', 'Down/Up Ratio', 'Bwd Pkt Len Mean', 'Bwd Byts/b Avg'], 'Adv sample 30': ['ACK Flag Cnt', 'Fwd IAT Mean', 'Bwd IAT Min', 'Idle Max', 'Init Bwd Win Byts', 'Tot Fwd Pkts', 'Bwd Pkt Len Min', 'Bwd Header Len', 'Pkt Len Var', 'Tot Bwd Pkts'], 'Adv sample 31': ['Bwd IAT Min', 'Bwd IAT Mean', 'Init Bwd Win Byts', 'Fwd Pkts/b Avg', 'Fwd IAT Mean', 'Flow Pkts/s', 'Fwd Blk Rate Avg', 'Pkt Len Min', 'Down/Up Ratio', 'Active Mean'], 'Adv sample 32': ['SYN Flag Cnt', 'Bwd IAT Mean', 'Fwd IAT Min', 'Init Bwd Win Byts', 'Bwd IAT Max', 'Bwd IAT Tot', 'Fwd Byts/b Avg', 'Bwd Pkt Len Min', 'Fwd IAT Mean', 'Bwd IAT Std'], 'Adv sample 33': ['Bwd IAT Min', 'Bwd IAT Mean', 'Bwd IAT Max', 'Init Bwd Win Byts', 'Bwd Pkts/s', 'Pkt Len Min', 'Fwd Blk Rate Avg', 'Fwd Pkts/b Avg', 'Down/Up Ratio', 'Flow Pkts/s'], 'Adv sample 34': ['Bwd IAT Min', 'Bwd IAT Mean', 'Bwd IAT Max', 'Init Bwd Win Byts', 'Bwd Pkts/s', 'Fwd Pkts/b Avg', 'Down/Up Ratio', 'Idle Max', 'Pkt Len Min', 'Pkt Len Mean'], 'Adv sample 35': ['SYN Flag Cnt', 'Bwd IAT Mean', 'Fwd Byts/b Avg', 'Fwd IAT Min', 'Bwd Pkts/b Avg', 'TotLen Fwd Pkts', 'Init Bwd Win Byts', 'Flow Duration', 'Subflow Fwd Pkts', 'Bwd Header Len'], 'Adv sample 36': ['Bwd IAT Mean', 'Bwd IAT Min', 'Fwd Pkts/b Avg', 'Down/Up Ratio', 'Init Bwd Win Byts', 'Fwd Blk Rate Avg', 'Pkt Len Min', 'Pkt Len Mean', 'Active Min', 'Bwd Pkt Len Max'], 'Adv sample 37': ['Bwd IAT Min', 'Bwd IAT Mean', 'Bwd IAT Max', 'Init Bwd Win Byts', 'Bwd Pkts/s', 'Fwd Pkts/b Avg', 'Pkt Len Min', 'Idle Max', 'Bwd Pkt Len Min', 'Down/Up Ratio'], 'Adv sample 38': ['ACK Flag Cnt', 'Idle Std', 'Init Bwd Win Byts', 'Pkt Len Min', 'Bwd IAT Tot', 'Down/Up Ratio', 'Bwd Byts/b Avg', 'Bwd Pkts/b Avg', 'Idle Mean', 'Fwd Pkt Len Min'], 'Adv sample 39': ['Bwd IAT Min', 'Bwd IAT Mean', 'Bwd IAT Max', 'Init Bwd Win Byts', 'Fwd Pkts/b Avg', 'Bwd Pkts/s', 'Down/Up Ratio', 'Tot Fwd Pkts', 'Flow Duration', 'Fwd Header Len'], 'Adv sample 40': ['Bwd IAT Min', 'Bwd IAT Mean', 'Fwd Pkts/b Avg', 'Init Bwd Win Byts', 'Fwd Blk Rate Avg', 'Pkt Len Min', 'Down/Up Ratio', 'Fwd IAT Mean', 'Pkt Len Mean', 'Fwd Pkt Len Max'], 'Adv sample 41': ['Bwd IAT Min', 'Bwd IAT Mean', 'Init Bwd Win Byts', 'Fwd Pkts/b Avg', 'Fwd Blk Rate Avg', 'Flow Pkts/s', 'Fwd IAT Mean', 'Bwd Pkt Len Max', 'Down/Up Ratio', 'Pkt Len Min'], 'Adv sample 42': ['ACK Flag Cnt', 'Bwd IAT Min', 'Fwd IAT Mean', 'Idle Max', 'Init Bwd Win Byts', 'Active Max', 'Fwd Pkt Len Max', 'Flow Pkts/s', 'Bwd Seg Size Avg', 'Pkt Len Std'], 'Adv sample 43': ['SYN Flag Cnt', 'Active Max', 'Flow Byts/s', 'Init Bwd Win Byts', 'Flow IAT Mean', 'Bwd IAT Mean', 'TotLen Bwd Pkts', 'Bwd Pkt Len Std', 'FIN Flag Cnt', 'Active Min'], 'Adv sample 44': ['Bwd IAT Mean', 'Bwd IAT Min', 'Fwd Blk Rate Avg', 'Fwd Pkts/b Avg', 'Down/Up Ratio', 'Init Bwd Win Byts', 'Pkt Len Std', 'Pkt Len Var', 'TotLen Fwd Pkts', 'Bwd PSH Flags'], 'Adv sample 45': ['Bwd IAT Min', 'Bwd IAT Mean', 'Bwd IAT Max', 'Init Bwd Win Byts', 'Fwd Pkts/b Avg', 'Bwd Pkts/s', 'Down/Up Ratio', 'Fwd Header Len', 'Bwd Pkt Len Min', 'Flow Pkts/s'], 'Adv sample 46': ['Bwd IAT Min', 'Bwd IAT Mean', 'Bwd IAT Max', 'Init Bwd Win Byts', 'Fwd Pkts/b Avg', 'Down/Up Ratio', 'Idle Std', 'Bwd Pkts/s', 'Fwd IAT Mean', 'Pkt Len Min'], 'Adv sample 47': ['Bwd IAT Min', 'Bwd IAT Mean', 'Bwd IAT Max', 'Bwd Pkts/s', 'Init Bwd Win Byts', 'Fwd Pkts/b Avg', 'Bwd Pkt Len Mean', 'Down/Up Ratio', 'Bwd Pkt Len Min', 'Fwd Blk Rate Avg'], 'Adv sample 48': ['SYN Flag Cnt', 'Bwd IAT Mean', 'Fwd IAT Min', 'Fwd Byts/b Avg', 'Init Bwd Win Byts', 'Fwd Pkts/b Avg', 'URG Flag Cnt', 'Flow IAT Max', 'Subflow Fwd Pkts', 'TotLen Fwd Pkts'], 'Adv sample 49': ['Bwd IAT Min', 'Bwd IAT Mean', 'Bwd IAT Max', 'Fwd Pkts/b Avg', 'Bwd Pkts/s', 'Fwd Blk Rate Avg', 'Init Bwd Win Byts', 'Flow Duration', 'Flow Pkts/s', 'Pkt Len Min'], 'Adv sample 50': ['ACK Flag Cnt', 'Bwd IAT Min', 'Bwd IAT Mean', 'Bwd IAT Max', 'Bwd Pkts/s', 'Flow Pkts/s', 'Init Bwd Win Byts', 'Fwd IAT Mean', 'Fwd Pkts/b Avg', 'Fwd Pkt Len Std'], 'Adv sample 51': ['ACK Flag Cnt', 'Active Mean', 'Active Max', 'Flow IAT Std', 'Init Bwd Win Byts', 'Flow IAT Mean', 'Flow Pkts/s', 'Pkt Len Min', 'Fwd Pkt Len Max', 'Bwd Pkt Len Mean'], 'Adv sample 52': ['Bwd IAT Mean', 'Bwd IAT Min', 'Down/Up Ratio', 'Fwd Pkts/b Avg', 'Init Bwd Win Byts', 'Fwd Blk Rate Avg', 'Pkt Len Min', 'Pkt Len Std', 'Active Min', 'Bwd PSH Flags'], 'Adv sample 53': ['SYN Flag Cnt', 'Bwd IAT Mean', 'Fwd IAT Min', 'Fwd Byts/b Avg', 'Bwd Pkts/b Avg', 'Init Bwd Win Byts', 'Bwd Pkt Len Min', 'Bwd IAT Min', 'Fwd Act Data Pkts', 'Active Max'], 'Adv sample 54': ['ACK Flag Cnt', 'Active Mean', 'Flow IAT Std', 'Active Max', 'Init Bwd Win Byts', 'Flow IAT Mean', 'Bwd Pkt Len Max', 'Bwd Pkt Len Mean', 'Fwd Seg Size Avg', 'Fwd Pkt Len Max'], 'Adv sample 55': ['ACK Flag Cnt', 'Bwd IAT Min', 'Bwd IAT Mean', 'Bwd IAT Max', 'Init Bwd Win Byts', 'Bwd Pkts/s', 'Flow Pkts/s', 'Fwd Pkts/b Avg', 'Fwd IAT Mean', 'Bwd Pkt Len Min'], 'Adv sample 56': ['Bwd IAT Min', 'Bwd IAT Mean', 'Init Bwd Win Byts', 'Fwd IAT Mean', 'Fwd Blk Rate Avg', 'Fwd Pkts/b Avg', 'Pkt Len Min', 'Down/Up Ratio', 'Flow Pkts/s', 'Bwd IAT Max'], 'Adv sample 57': ['Bwd IAT Min', 'Bwd IAT Max', 'Bwd IAT Mean', 'Init Bwd Win Byts', 'Fwd Pkts/b Avg', 'Down/Up Ratio', 'Bwd Pkts/s', 'PSH Flag Cnt', 'Fwd IAT Mean', 'Pkt Size Avg'], 'Adv sample 58': ['Bwd IAT Min', 'Bwd IAT Mean', 'Bwd IAT Max', 'Init Bwd Win Byts', 'Bwd Pkts/s', 'Flow Pkts/s', 'Pkt Len Min', 'Fwd Pkts/b Avg', 'Fwd Blk Rate Avg', 'Bwd Pkt Len Mean'], 'Adv sample 59': ['ACK Flag Cnt', 'Idle Std', 'Init Bwd Win Byts', 'Bwd IAT Tot', 'Down/Up Ratio', 'Bwd Pkts/b Avg', 'Pkt Len Min', 'Bwd Byts/b Avg', 'Pkt Len Max', 'Flow Duration'], 'Adv sample 60': ['ACK Flag Cnt', 'Idle Std', 'Init Bwd Win Byts', 'Down/Up Ratio', 'Bwd Pkts/b Avg', 'Pkt Len Min', 'Bwd IAT Tot', 'Bwd Byts/b Avg', 'Idle Mean', 'Flow IAT Std'], 'Adv sample 61': ['ACK Flag Cnt', 'Bwd IAT Min', 'Bwd IAT Mean', 'Bwd IAT Max', 'Bwd Pkts/s', 'Init Bwd Win Byts', 'Flow Pkts/s', 'Fwd Pkts/b Avg', 'Fwd Pkt Len Min', 'Pkt Len Min'], 'Adv sample 62': ['Bwd IAT Min', 'Bwd IAT Mean', 'Fwd Pkts/b Avg', 'Init Bwd Win Byts', 'Fwd IAT Mean', 'Down/Up Ratio', 'Fwd Blk Rate Avg', 'Flow Pkts/s', 'Pkt Len Min', 'Pkt Len Max'], 'Adv sample 63': ['Bwd Pkts/s', 'Fwd IAT Min', 'Init Bwd Win Byts', 'Bwd IAT Tot', 'Flow IAT Mean', 'Pkt Len Min', 'TotLen Bwd Pkts', 'Idle Mean', 'Subflow Fwd Byts', 'Down/Up Ratio'], 'Adv sample 64': ['Bwd Pkts/s', 'Fwd IAT Min', 'Init Bwd Win Byts', 'Pkt Len Max', 'Fwd Seg Size Avg', 'Idle Mean', 'Pkt Len Mean', 'Tot Fwd Pkts', 'Flow IAT Min', 'Bwd Pkt Len Min'], 'Adv sample 65': ['Bwd Pkts/s', 'Fwd IAT Min', 'Init Bwd Win Byts', 'Pkt Len Max', 'Flow IAT Min', 'Pkt Len Min', 'Pkt Size Avg', 'TotLen Bwd Pkts', 'Subflow Bwd Pkts', 'Down/Up Ratio'], 'Adv sample 66': ['ACK Flag Cnt', 'Bwd IAT Min', 'Bwd IAT Mean', 'Bwd IAT Max', 'Init Bwd Win Byts', 'Bwd Pkts/s', 'Flow Pkts/s', 'Fwd IAT Mean', 'Fwd Pkts/b Avg', 'Bwd Pkt Len Min'], 'Adv sample 67': ['Bwd IAT Min', 'Bwd IAT Max', 'Bwd IAT Mean', 'Fwd Pkts/b Avg', 'Init Bwd Win Byts', 'Pkt Len Min', 'Bwd Pkts/s', 'Fwd Pkt Len Std', 'Fwd IAT Mean', 'Active Max'], 'Adv sample 68': ['ACK Flag Cnt', 'Idle Std', 'Init Bwd Win Byts', 'Down/Up Ratio', 'Pkt Len Min', 'Bwd IAT Tot', 'Bwd Pkts/b Avg', 'Bwd Pkt Len Min', 'Fwd Pkt Len Min', 'Bwd Seg Size Avg'], 'Adv sample 69': ['SYN Flag Cnt', 'Bwd IAT Mean', 'Fwd Byts/b Avg', 'Fwd IAT Min', 'Bwd IAT Max', 'Init Bwd Win Byts', 'Fwd Pkts/b Avg', 'Bwd Header Len', 'Flow Byts/s', 'Bwd IAT Std'], 'Adv sample 70': ['SYN Flag Cnt', 'Bwd IAT Mean', 'Fwd IAT Min', 'Fwd Byts/b Avg', 'Init Bwd Win Byts', 'Pkt Len Min', 'Bwd Pkts/b Avg', 'Flow IAT Mean', 'Flow Duration', 'Active Mean'], 'Adv sample 71': ['Bwd IAT Min', 'Bwd IAT Max', 'Bwd IAT Mean', 'Init Bwd Win Byts', 'Bwd Pkts/s', 'Fwd Pkts/b Avg', 'Pkt Len Min', 'Down/Up Ratio', 'Flow IAT Mean', 'Fwd Blk Rate Avg'], 'Adv sample 72': ['ACK Flag Cnt', 'Flow IAT Std', 'Flow IAT Mean', 'Down/Up Ratio', 'Init Bwd Win Byts', 'Bwd IAT Std', 'Subflow Bwd Byts', 'Bwd Pkt Len Mean', 'Active Max', 'Tot Fwd Pkts'], 'Adv sample 73': ['Bwd IAT Min', 'Bwd IAT Mean', 'Init Bwd Win Byts', 'Fwd Pkts/b Avg', 'Fwd Blk Rate Avg', 'Pkt Len Min', 'Fwd IAT Mean', 'Bwd Pkt Len Max', 'Down/Up Ratio', 'Flow Pkts/s'], 'Adv sample 74': ['ACK Flag Cnt', 'Active Mean', 'Active Max', 'Flow IAT Std', 'Flow IAT Mean', 'Init Bwd Win Byts', 'Pkt Len Min', 'Bwd Pkts/s', 'Bwd Pkt Len Min', 'Active Min'], 'Adv sample 75': ['ACK Flag Cnt', 'Idle Std', 'Init Bwd Win Byts', 'Down/Up Ratio', 'Bwd IAT Tot', 'Bwd Pkts/b Avg', 'Bwd Byts/b Avg', 'Pkt Len Min', 'Active Min', 'Subflow Fwd Pkts'], 'Adv sample 76': ['ACK Flag Cnt', 'Bwd IAT Min', 'Bwd IAT Mean', 'Bwd IAT Max', 'Bwd Pkts/s', 'Init Bwd Win Byts', 'Fwd IAT Mean', 'Flow Pkts/s', 'Pkt Size Avg', 'Fwd Pkts/b Avg'], 'Adv sample 77': ['SYN Flag Cnt', 'Bwd IAT Mean', 'Fwd IAT Min', 'Init Bwd Win Byts', 'Bwd IAT Max', 'Fwd Byts/b Avg', 'Bwd Pkts/s', 'Pkt Len Min', 'Fwd IAT Mean', 'Bwd IAT Tot'], 'Adv sample 78': ['Bwd IAT Min', 'Bwd IAT Mean', 'Bwd IAT Max', 'Init Bwd Win Byts', 'Fwd Pkts/b Avg', 'Down/Up Ratio', 'Fwd Pkt Len Mean', 'Bwd PSH Flags', 'Pkt Len Std', 'Bwd Seg Size Avg'], 'Adv sample 79': ['Idle Std', 'ACK Flag Cnt', 'Pkt Len Min', 'Init Bwd Win Byts', 'Bwd Byts/b Avg', 'Idle Min', 'Bwd Pkts/b Avg', 'Tot Fwd Pkts', 'Idle Max', 'Bwd Pkt Len Max'], 'Adv sample 80': ['Bwd IAT Min', 'Bwd IAT Mean', 'Bwd IAT Max', 'Init Bwd Win Byts', 'Bwd Pkts/s', 'Fwd Pkts/b Avg', 'Fwd IAT Mean', 'Down/Up Ratio', 'Subflow Bwd Byts', 'Flow Pkts/s'], 'Adv sample 81': ['ACK Flag Cnt', 'Active Mean', 'Active Max', 'Flow IAT Std', 'Init Bwd Win Byts', 'Flow IAT Mean', 'Fwd Seg Size Avg', 'Bwd Pkt Len Std', 'Bwd Pkt Len Max', 'Pkt Len Max'], 'Adv sample 82': ['Bwd IAT Min', 'Bwd IAT Mean', 'Init Bwd Win Byts', 'Fwd Pkts/b Avg', 'Fwd IAT Mean', 'Down/Up Ratio', 'Fwd Blk Rate Avg', 'Bwd Pkt Len Min', 'Flow Pkts/s', 'Flow Byts/s'], 'Adv sample 83': ['Bwd IAT Min', 'Bwd IAT Mean', 'Bwd IAT Max', 'Init Bwd Win Byts', 'Fwd Pkts/b Avg', 'Bwd Pkts/s', 'Flow Pkts/s', 'Idle Std', 'Pkt Len Min', 'Pkt Len Max'], 'Adv sample 84': ['ACK Flag Cnt', 'Idle Std', 'Init Bwd Win Byts', 'Pkt Len Min', 'Bwd Pkts/b Avg', 'Bwd Byts/b Avg', 'Down/Up Ratio', 'Bwd IAT Tot', 'Pkt Len Mean', 'Bwd Pkt Len Min'], 'Adv sample 85': ['ACK Flag Cnt', 'Fwd IAT Mean', 'Bwd IAT Min', 'Idle Max', 'Init Bwd Win Byts', 'Subflow Fwd Byts', 'Subflow Bwd Byts', 'Bwd Pkt Len Std', 'Pkt Size Avg', 'Bwd IAT Max'], 'Adv sample 86': ['ACK Flag Cnt', 'Bwd IAT Min', 'Bwd IAT Mean', 'Bwd IAT Max', 'Bwd Pkts/s', 'Init Bwd Win Byts', 'Flow Pkts/s', 'Fwd IAT Mean', 'Fwd Pkts/b Avg', 'Fwd Pkt Len Min'], 'Adv sample 87': ['SYN Flag Cnt', 'Bwd IAT Mean', 'Init Bwd Win Byts', 'Fwd IAT Min', 'Bwd IAT Max', 'Fwd Byts/b Avg', 'Pkt Len Min', 'Fwd IAT Mean', 'TotLen Fwd Pkts', 'Bwd Pkt Len Max'], 'Adv sample 88': ['Bwd Pkts/s', 'Fwd IAT Min', 'Init Bwd Win Byts', 'Down/Up Ratio', 'Fwd Pkt Len Std', 'Bwd PSH Flags', 'PSH Flag Cnt', 'Pkt Len Std', 'Bwd Pkt Len Max', 'Idle Min'], 'Adv sample 89': ['ACK Flag Cnt', 'Active Mean', 'Active Max', 'Flow IAT Std', 'Flow IAT Mean', 'Init Bwd Win Byts', 'Bwd Pkt Len Min', 'PSH Flag Cnt', 'Bwd Pkt Len Mean', 'Pkt Len Std'], 'Adv sample 90': ['SYN Flag Cnt', 'Bwd IAT Mean', 'Fwd IAT Min', 'Fwd Byts/b Avg', 'Bwd Pkts/b Avg', 'Flow IAT Min', 'Fwd Pkts/b Avg', 'Init Bwd Win Byts', 'Pkt Len Var', 'Flow IAT Mean'], 'Adv sample 91': ['Bwd IAT Min', 'Bwd IAT Mean', 'Bwd IAT Max', 'Init Bwd Win Byts', 'Fwd Pkts/b Avg', 'Down/Up Ratio', 'Pkt Len Min', 'Fwd Blk Rate Avg', 'Pkt Len Mean', 'Bwd Pkt Len Mean'], 'Adv sample 92': ['ACK Flag Cnt', 'Active Mean', 'Active Max', 'Flow IAT Std', 'Init Bwd Win Byts', 'Flow IAT Mean', 'URG Flag Cnt', 'Pkt Len Min', 'Bwd Pkt Len Max', 'Fwd Pkts/s'], 'Adv sample 93': ['Bwd IAT Min', 'Bwd IAT Mean', 'Bwd IAT Max', 'Init Bwd Win Byts', 'Fwd Pkts/b Avg', 'Pkt Len Min', 'Down/Up Ratio', 'Fwd IAT Mean', 'Pkt Len Std', 'Bwd Pkt Len Min'], 'Adv sample 94': ['SYN Flag Cnt', 'Bwd IAT Tot', 'Flow IAT Mean', 'Init Bwd Win Byts', 'Pkt Len Min', 'Pkt Len Std', 'Bwd Pkt Len Min', 'Tot Bwd Pkts', 'Subflow Bwd Pkts', 'Pkt Len Mean'], 'Adv sample 95': ['Bwd Pkts/s', 'Fwd IAT Min', 'Init Bwd Win Byts', 'Pkt Len Std', 'Bwd Pkt Len Max', 'Down/Up Ratio', 'Fwd Pkt Len Mean', 'Subflow Fwd Pkts', 'Pkt Size Avg', 'Flow Duration'], 'Adv sample 96': ['Bwd IAT Min', 'Bwd IAT Mean', 'Bwd IAT Max', 'Init Bwd Win Byts', 'Bwd Pkts/s', 'Flow Pkts/s', 'Fwd Blk Rate Avg', 'Fwd Pkts/b Avg', 'Pkt Len Min', 'Bwd Pkt Len Mean'], 'Adv sample 97': ['ACK Flag Cnt', 'Bwd IAT Mean', 'Bwd IAT Min', 'Bwd IAT Max', 'Bwd Pkts/s', 'Init Bwd Win Byts', 'Fwd IAT Mean', 'Flow Pkts/s', 'Fwd Pkt Len Std', 'Down/Up Ratio'], 'Adv sample 98': ['Bwd IAT Min', 'Bwd IAT Max', 'Bwd IAT Mean', 'Init Bwd Win Byts', 'Fwd Pkts/b Avg', 'Bwd Pkts/s', 'Flow Byts/s', 'Bwd Pkt Len Min', 'Down/Up Ratio', 'Idle Min'], 'Adv sample 99': ['Bwd IAT Min', 'Bwd IAT Mean', 'Init Bwd Win Byts', 'Fwd Pkts/b Avg', 'Fwd Blk Rate Avg', 'Bwd Pkt Len Std', 'Pkt Size Avg', 'Fwd Act Data Pkts', 'Bwd Pkt Len Min', 'Flow IAT Max'], 'Adv sample 100': ['ACK Flag Cnt', 'Idle Std', 'Init Bwd Win Byts', 'Bwd Pkts/b Avg', 'Bwd IAT Tot', 'Down/Up Ratio', 'Pkt Len Min', 'Pkt Len Max', 'Fwd IAT Max', 'Bwd Byts/b Avg'], 'Adv sample 101': ['Bwd IAT Min', 'Bwd IAT Max', 'Bwd IAT Mean', 'Init Bwd Win Byts', 'Bwd Pkts/s', 'Down/Up Ratio', 'Tot Bwd Pkts', 'Fwd IAT Min', 'Fwd Pkts/b Avg', 'Pkt Len Min'], 'Adv sample 102': ['ACK Flag Cnt', 'Bwd IAT Min', 'Bwd IAT Mean', 'Bwd IAT Max', 'Init Bwd Win Byts', 'Bwd Pkts/s', 'Fwd IAT Mean', 'Fwd Pkts/b Avg', 'Pkt Len Std', 'Flow Pkts/s'], 'Adv sample 103': ['Bwd Pkts/s', 'Fwd IAT Min', 'Subflow Fwd Byts', 'Bwd Pkt Len Mean', 'Init Bwd Win Byts', 'Flow Duration', 'Pkt Len Var', 'PSH Flag Cnt', 'URG Flag Cnt', 'Tot Fwd Pkts'], 'Adv sample 104': ['SYN Flag Cnt', 'Bwd IAT Mean', 'Fwd IAT Min', 'Fwd Byts/b Avg', 'Subflow Bwd Byts', 'Fwd IAT Mean', 'Flow Pkts/s', 'Bwd IAT Max', 'Init Bwd Win Byts', 'Idle Std'], 'Adv sample 105': ['SYN Flag Cnt', 'Bwd IAT Mean', 'Fwd IAT Min', 'Fwd Byts/b Avg', 'Bwd IAT Max', 'Init Bwd Win Byts', 'Down/Up Ratio', 'Idle Std', 'Bwd Pkt Len Max', 'Pkt Len Var'], 'Adv sample 106': ['ACK Flag Cnt', 'Bwd IAT Min', 'Bwd IAT Mean', 'Bwd IAT Max', 'Init Bwd Win Byts', 'Bwd Pkts/s', 'Flow Pkts/s', 'Fwd IAT Mean', 'Pkt Len Max', 'Fwd Pkts/b Avg'], 'Adv sample 107': ['Bwd IAT Min', 'Bwd IAT Mean', 'Bwd IAT Max', 'Bwd Pkts/s', 'Init Bwd Win Byts', 'Flow Pkts/s', 'Fwd Blk Rate Avg', 'TotLen Fwd Pkts', 'Fwd Pkts/b Avg', 'Bwd Pkt Len Std'], 'Adv sample 108': ['ACK Flag Cnt', 'Bwd IAT Max', 'Bwd IAT Mean', 'Bwd IAT Min', 'Init Bwd Win Byts', 'Bwd Pkts/s', 'Flow Pkts/s', 'Active Mean', 'Fwd Pkts/b Avg', 'Bwd IAT Std'], 'Adv sample 109': ['ACK Flag Cnt', 'Bwd IAT Min', 'Bwd IAT Max', 'Bwd IAT Mean', 'Bwd Pkts/s', 'Init Bwd Win Byts', 'Fwd IAT Mean', 'Flow Pkts/s', 'Fwd Pkts/b Avg', 'Bwd Pkt Len Max'], 'Adv sample 110': ['Idle Std', 'ACK Flag Cnt', 'Init Bwd Win Byts', 'Bwd Byts/b Avg', 'Pkt Len Min', 'Fwd IAT Mean', 'Flow Duration', 'Bwd Pkts/b Avg', 'Bwd Header Len', 'Idle Max'], 'Adv sample 111': ['Bwd IAT Min', 'Bwd IAT Mean', 'Bwd IAT Max', 'Fwd Pkts/b Avg', 'Fwd Blk Rate Avg', 'Init Bwd Win Byts', 'Flow Pkts/s', 'Bwd Pkts/s', 'Down/Up Ratio', 'Pkt Len Min'], 'Adv sample 112': ['SYN Flag Cnt', 'Bwd IAT Mean', 'Fwd IAT Min', 'Fwd Byts/b Avg', 'Bwd IAT Max', 'Bwd Pkt Len Std', 'Init Bwd Win Byts', 'Tot Bwd Pkts', 'Bwd Seg Size Avg', 'Fwd IAT Mean'], 'Adv sample 113': ['ACK Flag Cnt', 'Bwd IAT Min', 'Bwd IAT Mean', 'Bwd IAT Max', 'Init Bwd Win Byts', 'Bwd Pkts/s', 'Fwd IAT Mean', 'Fwd Pkts/b Avg', 'Flow Pkts/s', 'Down/Up Ratio'], 'Adv sample 114': ['Bwd IAT Min', 'Bwd IAT Mean', 'Bwd IAT Max', 'Fwd Pkts/b Avg', 'Bwd Pkts/s', 'Fwd Blk Rate Avg', 'Init Bwd Win Byts', 'Flow Pkts/s', 'Down/Up Ratio', 'Pkt Len Min'], 'Adv sample 115': ['Bwd IAT Min', 'Bwd IAT Mean', 'Bwd IAT Max', 'Bwd Pkts/s', 'Init Bwd Win Byts', 'Fwd Blk Rate Avg', 'Active Std', 'Bwd Pkt Len Max', 'Fwd Pkts/b Avg', 'Flow Pkts/s'], 'Adv sample 116': ['Bwd IAT Mean', 'Bwd IAT Min', 'Fwd Pkts/b Avg', 'Init Bwd Win Byts', 'Fwd Blk Rate Avg', 'Pkt Len Min', 'Down/Up Ratio', 'Bwd Seg Size Avg', 'Fwd Pkt Len Max', 'Pkt Len Std'], 'Adv sample 117': ['ACK Flag Cnt', 'Bwd IAT Mean', 'Bwd IAT Min', 'Bwd IAT Max', 'Init Bwd Win Byts', 'Flow Pkts/s', 'Bwd Pkts/s', 'Fwd IAT Mean', 'Pkt Len Std', 'Down/Up Ratio'], 'Adv sample 118': ['Bwd IAT Min', 'Bwd IAT Mean', 'Bwd IAT Max', 'Bwd Pkts/s', 'Init Bwd Win Byts', 'Fwd Pkts/b Avg', 'Pkt Len Min', 'Active Max', 'TotLen Fwd Pkts', 'Down/Up Ratio'], 'Adv sample 119': ['Bwd Pkts/s', 'Fwd IAT Min', 'Pkt Len Std', 'Down/Up Ratio', 'Init Bwd Win Byts', 'Subflow Bwd Byts', 'Flow Duration', 'Tot Fwd Pkts', 'Tot Bwd Pkts', 'TotLen Fwd Pkts'], 'Adv sample 120': ['ACK Flag Cnt', 'Bwd IAT Min', 'Bwd IAT Mean', 'Bwd IAT Max', 'Init Bwd Win Byts', 'Bwd Pkts/s', 'Flow Pkts/s', 'Fwd IAT Mean', 'Flow IAT Max', 'Fwd Pkts/b Avg'], 'Adv sample 121': ['ACK Flag Cnt', 'Active Mean', 'Flow IAT Std', 'Active Max', 'Init Bwd Win Byts', 'Flow IAT Mean', 'Pkt Len Std', 'Flow Pkts/s', 'Bwd Pkt Len Mean', 'Fwd Pkt Len Min'], 'Adv sample 122': ['SYN Flag Cnt', 'Bwd IAT Mean', 'Fwd IAT Min', 'Fwd Byts/b Avg', 'Active Min', 'Init Bwd Win Byts', 'Bwd Pkts/b Avg', 'Fwd Pkt Len Mean', 'TotLen Fwd Pkts', 'Active Mean'], 'Adv sample 123': ['SYN Flag Cnt', 'Bwd IAT Mean', 'Fwd IAT Min', 'Init Bwd Win Byts', 'Fwd Byts/b Avg', 'Bwd IAT Max', 'Bwd Pkts/s', 'Fwd IAT Mean', 'Bwd Header Len', 'Bwd IAT Std'], 'Adv sample 124': ['ACK Flag Cnt', 'Active Mean', 'Flow IAT Std', 'Active Max', 'Init Bwd Win Byts', 'Bwd Seg Size Avg', 'Bwd Header Len', 'Fwd IAT Max', 'Flow IAT Mean', 'Bwd PSH Flags'], 'Adv sample 125': ['Bwd IAT Mean', 'Bwd IAT Min', 'Init Bwd Win Byts', 'Fwd Pkts/b Avg', 'Down/Up Ratio', 'Fwd Blk Rate Avg', 'Pkt Len Min', 'Bwd Pkt Len Std', 'Idle Min', 'Pkt Size Avg'], 'Adv sample 126': ['Bwd IAT Mean', 'Bwd IAT Min', 'Bwd Pkt Len Min', 'Fwd Pkts/b Avg', 'Pkt Len Mean', 'Down/Up Ratio', 'Init Bwd Win Byts', 'Fwd Blk Rate Avg', 'Idle Min', 'Pkt Len Min'], 'Adv sample 127': ['Bwd Pkts/s', 'Init Bwd Win Byts', 'Fwd IAT Min', 'Down/Up Ratio', 'Pkt Size Avg', 'Subflow Fwd Byts', 'Bwd Pkt Len Max', 'Flow Duration', 'Tot Fwd Pkts', 'Tot Bwd Pkts'], 'Adv sample 128': ['SYN Flag Cnt', 'Bwd IAT Mean', 'Fwd IAT Min', 'Init Bwd Win Byts', 'Bwd IAT Max', 'Fwd Byts/b Avg', 'Bwd Pkts/s', 'TotLen Fwd Pkts', 'Pkt Len Mean', 'Bwd IAT Tot'], 'Adv sample 129': ['Bwd IAT Min', 'Bwd IAT Mean', 'Bwd IAT Max', 'Bwd Pkts/s', 'Init Bwd Win Byts', 'Fwd Blk Rate Avg', 'Pkt Len Min', 'Fwd Pkts/b Avg', 'Down/Up Ratio', 'Subflow Bwd Pkts'], 'Adv sample 130': ['Bwd IAT Min', 'Bwd IAT Mean', 'Bwd IAT Max', 'Init Bwd Win Byts', 'Fwd Pkts/b Avg', 'Pkt Len Min', 'Fwd IAT Min', 'Fwd Blk Rate Avg', 'Bwd Pkts/s', 'Fwd Pkt Len Mean'], 'Adv sample 131': ['Bwd IAT Min', 'Bwd IAT Mean', 'Bwd IAT Max', 'Init Bwd Win Byts', 'Bwd Pkts/s', 'Fwd Pkts/b Avg', 'Down/Up Ratio', 'Fwd Blk Rate Avg', 'Pkt Len Min', 'Flow Pkts/s'], 'Adv sample 132': ['Bwd IAT Min', 'Bwd IAT Max', 'Bwd IAT Mean', 'Init Bwd Win Byts', 'Fwd Pkts/b Avg', 'Down/Up Ratio', 'Bwd Pkts/s', 'Pkt Len Min', 'Fwd IAT Mean', 'Pkt Size Avg'], 'Adv sample 133': ['Bwd IAT Min', 'Bwd IAT Mean', 'Bwd IAT Max', 'Init Bwd Win Byts', 'Bwd Pkts/s', 'Fwd Pkts/b Avg', 'Bwd Pkt Len Min', 'Flow Pkts/s', 'Idle Std', 'Pkt Len Min'], 'Adv sample 134': ['SYN Flag Cnt', 'Bwd IAT Mean', 'Fwd IAT Min', 'Fwd Byts/b Avg', 'Init Bwd Win Byts', 'Fwd Header Len', 'Subflow Bwd Byts', 'Fwd Act Data Pkts', 'Pkt Len Min', 'Flow IAT Mean'], 'Adv sample 135': ['Bwd IAT Min', 'Bwd IAT Mean', 'Bwd IAT Max', 'Init Bwd Win Byts', 'Bwd Pkts/s', 'Flow Pkts/s', 'Pkt Len Min', 'Active Mean', 'Fwd Pkts/b Avg', 'Bwd IAT Std'], 'Adv sample 136': ['SYN Flag Cnt', 'Bwd IAT Mean', 'Fwd IAT Min', 'Bwd IAT Max', 'Init Bwd Win Byts', 'Fwd Byts/b Avg', 'Fwd Pkt Len Min', 'Down/Up Ratio', 'Flow IAT Max', 'Bwd Seg Size Avg'], 'Adv sample 137': ['URG Flag Cnt', 'FIN Flag Cnt', 'Bwd URG Flags', 'Idle Min', 'Fwd IAT Mean', 'Init Bwd Win Byts', 'Bwd Pkt Len Max', 'Pkt Len Min', 'Down/Up Ratio', 'Pkt Len Std'], 'Adv sample 138': ['ACK Flag Cnt', 'Active Mean', 'Active Max', 'Flow IAT Std', 'Flow IAT Mean', 'Init Bwd Win Byts', 'Pkt Len Mean', 'Idle Mean', 'TotLen Bwd Pkts', 'URG Flag Cnt'], 'Adv sample 139': ['Bwd IAT Min', 'Bwd IAT Mean', 'Init Bwd Win Byts', 'Fwd IAT Mean', 'Fwd Pkts/b Avg', 'Down/Up Ratio', 'Fwd Blk Rate Avg', 'Pkt Len Min', 'Idle Max', 'Flow Pkts/s'], 'Adv sample 140': ['Idle Std', 'ACK Flag Cnt', 'Bwd Byts/b Avg', 'Init Bwd Win Byts', 'Pkt Len Min', 'Bwd Pkts/b Avg', 'Subflow Bwd Pkts', 'PSH Flag Cnt', 'Fwd IAT Max', 'Fwd IAT Tot'], 'Adv sample 141': ['SYN Flag Cnt', 'Bwd IAT Mean', 'Fwd IAT Min', 'Fwd Byts/b Avg', 'Fwd Pkts/b Avg', 'Init Bwd Win Byts', 'Fwd IAT Mean', 'Pkt Len Min', 'Bwd Pkt Len Min', 'Down/Up Ratio'], 'Adv sample 142': ['SYN Flag Cnt', 'Bwd IAT Mean', 'Fwd IAT Min', 'Fwd Byts/b Avg', 'Flow IAT Std', 'Fwd Blk Rate Avg', 'Fwd Header Len', 'Bwd Pkts/b Avg', 'Init Bwd Win Byts', 'Bwd Pkt Len Min'], 'Adv sample 143': ['Bwd Pkts/s', 'Fwd IAT Min', 'Init Bwd Win Byts', 'Bwd Pkt Len Max', 'Pkt Len Min', 'Pkt Len Std', 'Subflow Fwd Byts', 'Idle Min', 'Idle Max', 'Bwd Pkt Len Mean'], 'Adv sample 144': ['Bwd IAT Min', 'ACK Flag Cnt', 'Fwd IAT Mean', 'Idle Max', 'Init Bwd Win Byts', 'Tot Bwd Pkts', 'Fwd Seg Size Avg', 'Bwd Pkts/s', 'Fwd Header Len', 'Bwd Header Len'], 'Adv sample 145': ['ACK Flag Cnt', 'Bwd IAT Min', 'Bwd IAT Mean', 'Bwd IAT Max', 'Bwd Pkts/s', 'Init Bwd Win Byts', 'Fwd IAT Mean', 'Flow Pkts/s', 'Bwd Pkt Len Max', 'Fwd Pkts/s'], 'Adv sample 146': ['Bwd IAT Min', 'Bwd IAT Mean', 'Bwd IAT Max', 'Bwd Pkts/s', 'Init Bwd Win Byts', 'Fwd Pkts/b Avg', 'Fwd Blk Rate Avg', 'Flow Pkts/s', 'Flow Byts/s', 'Down/Up Ratio'], 'Adv sample 147': ['SYN Flag Cnt', 'Bwd IAT Mean', 'Fwd IAT Min', 'Fwd Byts/b Avg', 'Init Bwd Win Byts', 'Fwd Act Data Pkts', 'Fwd Pkts/b Avg', 'Bwd IAT Max', 'Fwd Pkts/s', 'Pkt Len Max'], 'Adv sample 148': ['SYN Flag Cnt', 'Bwd IAT Mean', 'Fwd IAT Min', 'Fwd Byts/b Avg', 'Init Bwd Win Byts', 'Fwd Pkts/b Avg', 'Pkt Len Std', 'Bwd IAT Max', 'Bwd Pkt Len Mean', 'Bwd Pkt Len Std'], 'Adv sample 149': ['Bwd IAT Min', 'Bwd IAT Mean', 'Bwd IAT Max', 'Init Bwd Win Byts', 'Bwd Pkts/s', 'Fwd Pkts/b Avg', 'Down/Up Ratio', 'Pkt Len Min', 'Fwd Blk Rate Avg', 'Pkt Size Avg'], 'Adv sample 150': ['ACK Flag Cnt', 'Bwd IAT Min', 'Fwd IAT Mean', 'Idle Max', 'Bwd Pkt Len Mean', 'Pkt Len Min', 'Tot Fwd Pkts', 'Pkt Len Var', 'Flow Pkts/s', 'Init Bwd Win Byts'], 'Adv sample 151': ['Idle Std', 'ACK Flag Cnt', 'Init Bwd Win Byts', 'Bwd Byts/b Avg', 'Pkt Len Min', 'Pkt Len Mean', 'Flow Duration', 'Flow IAT Max', 'Pkt Size Avg', 'Flow IAT Mean'], 'Adv sample 152': ['SYN Flag Cnt', 'Bwd IAT Mean', 'Fwd IAT Min', 'Fwd Byts/b Avg', 'Init Bwd Win Byts', 'Fwd Pkts/b Avg', 'Pkt Len Std', 'Bwd IAT Max', 'Bwd Pkt Len Min', 'Fwd Pkt Len Min'], 'Adv sample 153': ['SYN Flag Cnt', 'Bwd IAT Mean', 'Fwd IAT Min', 'Init Bwd Win Byts', 'Bwd IAT Max', 'Fwd Byts/b Avg', 'Bwd Pkts/s', 'Bwd IAT Tot', 'Bwd Pkt Len Min', 'Pkt Len Min'], 'Adv sample 154': ['Bwd Pkts/s', 'Fwd IAT Min', 'Init Bwd Win Byts', 'Pkt Len Min', 'Flow IAT Max', 'Down/Up Ratio', 'Fwd Pkt Len Mean', 'Tot Bwd Pkts', 'Fwd Pkt Len Max', 'Bwd IAT Tot'], 'Adv sample 155': ['SYN Flag Cnt', 'Bwd IAT Mean', 'Fwd IAT Min', 'Init Bwd Win Byts', 'Bwd IAT Max', 'Fwd Byts/b Avg', 'Pkt Len Var', 'Fwd Pkts/b Avg', 'Pkt Len Std', 'Bwd IAT Tot'], 'Adv sample 156': ['ACK Flag Cnt', 'Active Mean', 'Active Max', 'Init Bwd Win Byts', 'Pkt Len Min', 'Flow IAT Std', 'Flow IAT Mean', 'Bwd IAT Min', 'Flow Pkts/s', 'Bwd IAT Mean'], 'Adv sample 157': ['ACK Flag Cnt', 'Bwd IAT Min', 'Bwd IAT Mean', 'Bwd IAT Max', 'Init Bwd Win Byts', 'Bwd Pkts/s', 'Flow Pkts/s', 'Fwd Pkts/b Avg', 'Fwd IAT Mean', 'Fwd Act Data Pkts'], 'Adv sample 158': ['SYN Flag Cnt', 'Bwd IAT Mean', 'Fwd IAT Min', 'Init Bwd Win Byts', 'Bwd IAT Max', 'Pkt Len Min', 'Bwd Pkts/b Avg', 'Fwd Byts/b Avg', 'Bwd Pkts/s', 'Bwd IAT Tot'], 'Adv sample 159': ['ACK Flag Cnt', 'Bwd IAT Min', 'Bwd IAT Mean', 'Bwd IAT Max', 'Init Bwd Win Byts', 'Bwd Pkts/s', 'Flow Pkts/s', 'Fwd Pkts/b Avg', 'Fwd IAT Mean', 'Flow Duration'], 'Adv sample 160': ['Bwd IAT Min', 'Bwd IAT Mean', 'Bwd IAT Max', 'Init Bwd Win Byts', 'Bwd Pkts/s', 'Fwd Pkts/b Avg', 'Pkt Len Max', 'Fwd Pkt Len Mean', 'Down/Up Ratio', 'Pkt Len Min'], 'Adv sample 161': ['Bwd Pkts/s', 'Fwd IAT Min', 'Bwd IAT Tot', 'Bwd IAT Min', 'Init Bwd Win Byts', 'Subflow Bwd Pkts', 'Bwd Pkt Len Min', 'Flow Byts/s', 'Bwd Seg Size Avg', 'Down/Up Ratio'], 'Adv sample 162': ['Bwd IAT Min', 'Bwd IAT Mean', 'Bwd IAT Max', 'Init Bwd Win Byts', 'Bwd Pkts/s', 'Fwd Blk Rate Avg', 'Fwd Pkts/b Avg', 'Flow Pkts/s', 'Pkt Len Min', 'Down/Up Ratio'], 'Adv sample 163': ['ACK Flag Cnt', 'Bwd IAT Min', 'Bwd IAT Mean', 'Bwd IAT Max', 'Bwd Pkts/s', 'Init Bwd Win Byts', 'Pkt Len Min', 'Pkt Len Var', 'Flow Pkts/s', 'Fwd Pkts/b Avg'], 'Adv sample 164': ['Bwd IAT Min', 'Bwd IAT Mean', 'Bwd IAT Max', 'Fwd Pkts/b Avg', 'Fwd Blk Rate Avg', 'Init Bwd Win Byts', 'Flow Pkts/s', 'Pkt Len Std', 'Bwd Pkts/s', 'Down/Up Ratio'], 'Adv sample 165': ['Bwd Pkts/s', 'Fwd IAT Min', 'Bwd Pkt Len Min', 'Init Bwd Win Byts', 'Subflow Bwd Pkts', 'Fwd Pkts/b Avg', 'Flow Duration', 'Fwd Seg Size Avg', 'Tot Fwd Pkts', 'Tot Bwd Pkts'], 'Adv sample 166': ['Bwd Pkts/s', 'Fwd IAT Min', 'Init Bwd Win Byts', 'Pkt Len Mean', 'Bwd Pkt Len Mean', 'Idle Min', 'Tot Fwd Pkts', 'Down/Up Ratio', 'Pkt Len Std', 'Bwd URG Flags'], 'Adv sample 167': ['ACK Flag Cnt', 'Bwd IAT Min', 'Bwd IAT Mean', 'Bwd IAT Max', 'Bwd Pkts/s', 'Init Bwd Win Byts', 'Flow Pkts/s', 'Fwd Pkts/b Avg', 'Fwd IAT Mean', 'Down/Up Ratio'], 'Adv sample 168': ['ACK Flag Cnt', 'Idle Std', 'Init Bwd Win Byts', 'Down/Up Ratio', 'Pkt Len Min', 'Bwd Byts/b Avg', 'Bwd Pkts/b Avg', 'Bwd IAT Tot', 'Subflow Fwd Pkts', 'Pkt Size Avg'], 'Adv sample 169': ['Bwd IAT Min', 'Bwd IAT Max', 'ACK Flag Cnt', 'Bwd IAT Mean', 'Init Bwd Win Byts', 'Bwd Pkts/s', 'Fwd IAT Mean', 'Fwd Pkts/b Avg', 'Bwd PSH Flags', 'Bwd Pkt Len Mean'], 'Adv sample 170': ['ACK Flag Cnt', 'Bwd IAT Min', 'Bwd IAT Mean', 'Bwd IAT Max', 'Init Bwd Win Byts', 'Bwd Pkts/s', 'Flow Pkts/s', 'Fwd IAT Mean', 'Bwd Pkt Len Min', 'Pkt Len Min'], 'Adv sample 171': ['Bwd IAT Min', 'Bwd IAT Max', 'ACK Flag Cnt', 'Bwd IAT Mean', 'Init Bwd Win Byts', 'Bwd Pkts/s', 'Fwd Pkts/b Avg', 'Fwd IAT Mean', 'Active Mean', 'Pkt Len Var'], 'Adv sample 172': ['ACK Flag Cnt', 'Idle Std', 'Init Bwd Win Byts', 'Down/Up Ratio', 'Bwd IAT Tot', 'Bwd Pkts/b Avg', 'Pkt Len Min', 'Bwd Byts/b Avg', 'Fwd Pkt Len Min', 'Fwd IAT Max'], 'Adv sample 173': ['ACK Flag Cnt', 'Bwd IAT Min', 'Bwd IAT Mean', 'Bwd IAT Max', 'Init Bwd Win Byts', 'Fwd IAT Mean', 'Bwd Pkts/s', 'Fwd Pkts/b Avg', 'Pkt Len Min', 'Flow Pkts/s'], 'Adv sample 174': ['Bwd IAT Min', 'Bwd IAT Mean', 'Bwd IAT Max', 'Fwd Pkts/b Avg', 'Init Bwd Win Byts', 'Bwd Pkts/s', 'Pkt Len Min', 'Down/Up Ratio', 'Flow Byts/s', 'Fwd Seg Size Avg'], 'Adv sample 175': ['SYN Flag Cnt', 'Bwd IAT Mean', 'Fwd IAT Min', 'Init Bwd Win Byts', 'Bwd IAT Max', 'Bwd Pkts/b Avg', 'Bwd IAT Tot', 'Down/Up Ratio', 'Bwd Pkts/s', 'Fwd Byts/b Avg'], 'Adv sample 176': ['URG Flag Cnt', 'FIN Flag Cnt', 'Bwd URG Flags', 'Fwd IAT Mean', 'Idle Min', 'Down/Up Ratio', 'Init Bwd Win Byts', 'Pkt Len Min', 'Fwd Act Data Pkts', 'Bwd Pkt Len Max'], 'Adv sample 177': ['SYN Flag Cnt', 'Bwd IAT Mean', 'Fwd IAT Min', 'Bwd IAT Max', 'Fwd Byts/b Avg', 'Bwd IAT Tot', 'Subflow Bwd Byts', 'Init Bwd Win Byts', 'Down/Up Ratio', 'Flow IAT Std'], 'Adv sample 178': ['Bwd IAT Mean', 'Bwd IAT Min', 'Init Bwd Win Byts', 'Fwd Pkts/b Avg', 'Down/Up Ratio', 'Fwd Pkt Len Std', 'Active Std', 'Fwd Blk Rate Avg', 'Bwd PSH Flags', 'Pkt Len Min'], 'Adv sample 179': ['SYN Flag Cnt', 'Bwd IAT Mean', 'Fwd IAT Min', 'Bwd IAT Max', 'Init Bwd Win Byts', 'Fwd Byts/b Avg', 'Pkt Len Min', 'Subflow Bwd Byts', 'Pkt Len Max', 'Bwd Pkts/s'], 'Adv sample 180': ['Bwd IAT Min', 'Bwd IAT Mean', 'Init Bwd Win Byts', 'Fwd Pkts/b Avg', 'Fwd IAT Mean', 'Fwd Blk Rate Avg', 'Flow Pkts/s', 'Pkt Len Min', 'Down/Up Ratio', 'Bwd Pkt Len Max'], 'Adv sample 181': ['Bwd Pkts/s', 'Fwd IAT Min', 'Subflow Fwd Pkts', 'Bwd IAT Min', 'Idle Mean', 'Init Bwd Win Byts', 'Pkt Len Min', 'Bwd Pkt Len Mean', 'Pkt Len Max', 'Pkt Len Mean'], 'Adv sample 182': ['Bwd IAT Mean', 'Bwd IAT Min', 'Fwd Pkts/b Avg', 'Down/Up Ratio', 'Fwd Blk Rate Avg', 'Init Bwd Win Byts', 'Pkt Size Avg', 'Pkt Len Min', 'Bwd Header Len', 'Tot Fwd Pkts'], 'Adv sample 183': ['ACK Flag Cnt', 'Active Mean', 'Active Max', 'Flow IAT Std', 'Flow IAT Mean', 'Init Bwd Win Byts', 'Fwd Seg Size Avg', 'Bwd Seg Size Avg', 'Pkt Size Avg', 'Fwd Act Data Pkts'], 'Adv sample 184': ['Bwd IAT Min', 'Bwd IAT Mean', 'Bwd IAT Max', 'Bwd Pkts/s', 'Init Bwd Win Byts', 'Fwd Blk Rate Avg', 'Pkt Len Min', 'Fwd Pkts/b Avg', 'Down/Up Ratio', 'Bwd PSH Flags'], 'Adv sample 185': ['Bwd IAT Min', 'Bwd IAT Mean', 'Init Bwd Win Byts', 'Fwd Pkts/b Avg', 'Fwd Blk Rate Avg', 'Fwd IAT Mean', 'Pkt Len Min', 'Down/Up Ratio', 'Fwd Act Data Pkts', 'Pkt Size Avg'], 'Adv sample 186': ['Bwd IAT Min', 'Bwd IAT Max', 'Bwd IAT Mean', 'Init Bwd Win Byts', 'Fwd Pkts/b Avg', 'Pkt Len Min', 'Bwd Pkt Len Min', 'Fwd IAT Mean', 'Bwd Pkts/s', 'TotLen Fwd Pkts'], 'Adv sample 187': ['Bwd IAT Min', 'Bwd IAT Mean', 'Bwd IAT Max', 'Init Bwd Win Byts', 'Bwd Pkts/s', 'Pkt Len Min', 'Fwd Pkts/b Avg', 'Flow Pkts/s', 'Fwd Pkt Len Max', 'Down/Up Ratio'], 'Adv sample 188': ['SYN Flag Cnt', 'Bwd IAT Mean', 'Fwd IAT Min', 'Fwd Byts/b Avg', 'Bwd IAT Max', 'Init Bwd Win Byts', 'Bwd IAT Tot', 'Fwd Pkt Len Mean', 'Pkt Len Min', 'Fwd Pkts/s'], 'Adv sample 189': ['SYN Flag Cnt', 'Bwd IAT Mean', 'Fwd IAT Min', 'Bwd IAT Max', 'Bwd IAT Min', 'Fwd Byts/b Avg', 'Pkt Len Min', 'Init Bwd Win Byts', 'Bwd Header Len', 'Fwd Pkts/s'], 'Adv sample 190': ['Bwd Pkts/s', 'Fwd IAT Min', 'Down/Up Ratio', 'Init Bwd Win Byts', 'Bwd Seg Size Avg', 'Bwd PSH Flags', 'Pkt Size Avg', 'Fwd Header Len', 'Bwd IAT Std', 'Flow Duration'], 'Adv sample 191': ['ACK Flag Cnt', 'Flow IAT Mean', 'Init Bwd Win Byts', 'Idle Max', 'TotLen Bwd Pkts', 'Bwd Pkt Len Mean', 'Bwd Pkt Len Min', 'Pkt Len Min', 'Pkt Len Max', 'Flow IAT Min'], 'Adv sample 192': ['Bwd IAT Mean', 'Bwd IAT Min', 'Init Bwd Win Byts', 'Fwd Pkts/b Avg', 'Fwd Blk Rate Avg', 'Idle Std', 'Down/Up Ratio', 'Pkt Len Min', 'Idle Max', 'Fwd Pkt Len Max'], 'Adv sample 193': ['Bwd IAT Min', 'Bwd IAT Mean', 'Bwd IAT Max', 'Init Bwd Win Byts', 'Bwd Pkts/s', 'Fwd Pkts/b Avg', 'Fwd Blk Rate Avg', 'Flow Pkts/s', 'Down/Up Ratio', 'Pkt Len Min'], 'Adv sample 194': ['ACK Flag Cnt', 'Active Min', 'Fwd IAT Min', 'Fwd IAT Mean', 'Flow IAT Std', 'Active Max', 'Bwd Pkt Len Mean', 'Fwd Byts/b Avg', 'Init Bwd Win Byts', 'Pkt Len Min'], 'Adv sample 195': ['Bwd IAT Min', 'Bwd IAT Max', 'Bwd IAT Mean', 'Init Bwd Win Byts', 'Fwd Pkts/b Avg', 'Flow Pkts/s', 'Down/Up Ratio', 'Pkt Len Min', 'Pkt Size Avg', 'Idle Std'], 'Adv sample 196': ['Bwd IAT Min', 'Bwd IAT Mean', 'Bwd IAT Max', 'Init Bwd Win Byts', 'Pkt Len Min', 'Fwd Pkts/b Avg', 'Down/Up Ratio', 'Bwd Pkts/s', 'TotLen Bwd Pkts', 'Fwd IAT Mean'], 'Adv sample 197': ['SYN Flag Cnt', 'Bwd IAT Mean', 'Fwd IAT Min', 'Fwd Byts/b Avg', 'Init Bwd Win Byts', 'Fwd Pkts/b Avg', 'Subflow Bwd Pkts', 'Fwd Pkt Len Min', 'Pkt Len Max', 'Bwd IAT Max'], 'Adv sample 198': ['ACK Flag Cnt', 'Active Mean', 'Active Max', 'Init Bwd Win Byts', 'Flow IAT Std', 'Flow IAT Mean', 'Flow Pkts/s', 'Idle Mean', 'Pkt Size Avg', 'Bwd Seg Size Avg'], 'Adv sample 199': ['Bwd Pkts/s', 'Init Bwd Win Byts', 'Fwd IAT Min', 'Fwd Pkt Len Max', 'Bwd Seg Size Avg', 'Bwd IAT Min', 'Pkt Len Mean', 'Flow Duration', 'Tot Fwd Pkts', 'Tot Bwd Pkts'], 'Adv sample 200': ['Bwd Pkts/s', 'Fwd IAT Min', 'Init Bwd Win Byts', 'Flow IAT Min', 'Pkt Len Var', 'Flow Duration', 'Tot Fwd Pkts', 'Tot Bwd Pkts', 'TotLen Fwd Pkts', 'Fwd Pkt Len Max'], 'Adv sample 201': ['Bwd IAT Min', 'Bwd IAT Mean', 'Bwd IAT Max', 'Init Bwd Win Byts', 'Pkt Len Min', 'Fwd Pkts/b Avg', 'Bwd Pkts/s', 'Pkt Len Max', 'Flow Pkts/s', 'Flow IAT Mean'], 'Adv sample 202': ['SYN Flag Cnt', 'Bwd IAT Mean', 'Fwd IAT Min', 'Init Bwd Win Byts', 'Bwd IAT Max', 'Fwd Pkts/b Avg', 'Bwd IAT Tot', 'Fwd Byts/b Avg', 'Bwd Pkts/b Avg', 'Bwd IAT Std'], 'Adv sample 203': ['ACK Flag Cnt', 'Idle Std', 'Init Bwd Win Byts', 'Down/Up Ratio', 'Bwd IAT Tot', 'Pkt Len Min', 'Bwd Pkts/b Avg', 'Bwd Pkt Len Min', 'Bwd IAT Min', 'Bwd Byts/b Avg'], 'Adv sample 204': ['Bwd IAT Mean', 'Bwd IAT Min', 'Fwd Pkts/b Avg', 'Pkt Len Min', 'Down/Up Ratio', 'Init Bwd Win Byts', 'Fwd Blk Rate Avg', 'Pkt Len Max', 'Bwd Pkt Len Min', 'Idle Min'], 'Adv sample 205': ['Bwd IAT Min', 'Bwd IAT Mean', 'Idle Max', 'Init Bwd Win Byts', 'Fwd Pkts/b Avg', 'Pkt Len Min', 'Down/Up Ratio', 'Pkt Len Mean', 'Bwd URG Flags', 'Active Std'], 'Adv sample 206': ['Bwd IAT Min', 'Bwd IAT Mean', 'Fwd Pkts/b Avg', 'Init Bwd Win Byts', 'Fwd IAT Mean', 'Flow Pkts/s', 'Pkt Len Min', 'Idle Min', 'Fwd Blk Rate Avg', 'Down/Up Ratio'], 'Adv sample 207': ['SYN Flag Cnt', 'Bwd IAT Mean', 'Fwd IAT Min', 'Init Bwd Win Byts', 'Bwd IAT Max', 'Fwd Byts/b Avg', 'Tot Bwd Pkts', 'Active Mean', 'Active Std', 'Fwd Pkt Len Std'], 'Adv sample 208': ['Bwd IAT Min', 'Bwd IAT Mean', 'Bwd IAT Max', 'Init Bwd Win Byts', 'Bwd Pkts/s', 'Flow Pkts/s', 'Fwd Pkts/b Avg', 'Bwd IAT Std', 'PSH Flag Cnt', 'Pkt Len Var'], 'Adv sample 209': ['SYN Flag Cnt', 'Bwd IAT Mean', 'Fwd IAT Min', 'Init Bwd Win Byts', 'Bwd IAT Max', 'Fwd Byts/b Avg', 'Bwd Pkts/s', 'Pkt Len Min', 'Idle Std', 'Bwd IAT Tot'], 'Adv sample 210': ['Bwd Pkts/s', 'Fwd IAT Min', 'Init Bwd Win Byts', 'Down/Up Ratio', 'Subflow Fwd Byts', 'Bwd Header Len', 'Bwd IAT Max', 'Fwd Seg Size Avg', 'Bwd Pkt Len Mean', 'Tot Fwd Pkts'], 'Adv sample 211': ['SYN Flag Cnt', 'Bwd IAT Std', 'Bwd IAT Min', 'Bwd IAT Max', 'Bwd IAT Mean', 'Flow IAT Mean', 'Bwd Seg Size Avg', 'Flow IAT Min', 'Idle Max', 'Flow Pkts/s'], 'Adv sample 212': ['Bwd Pkts/s', 'Fwd IAT Min', 'Init Bwd Win Byts', 'Idle Std', 'Idle Mean', 'Bwd Pkt Len Mean', 'Pkt Len Var', 'Flow Byts/s', 'TotLen Fwd Pkts', 'Down/Up Ratio'], 'Adv sample 213': ['Bwd IAT Mean', 'Bwd IAT Min', 'Init Bwd Win Byts', 'Fwd Pkts/b Avg', 'Down/Up Ratio', 'Bwd Header Len', 'Fwd IAT Min', 'Pkt Len Min', 'Fwd Blk Rate Avg', 'Pkt Size Avg'], 'Adv sample 214': ['ACK Flag Cnt', 'Idle Std', 'Init Bwd Win Byts', 'Pkt Len Min', 'Down/Up Ratio', 'Bwd Pkts/b Avg', 'Bwd IAT Tot', 'Bwd Byts/b Avg', 'Idle Max', 'Pkt Size Avg'], 'Adv sample 215': ['SYN Flag Cnt', 'Bwd IAT Mean', 'Fwd IAT Min', 'Init Bwd Win Byts', 'Bwd IAT Max', 'Fwd Byts/b Avg', 'Bwd IAT Tot', 'Bwd Pkts/s', 'Bwd Pkts/b Avg', 'Fwd IAT Mean'], 'Adv sample 216': ['Bwd IAT Min', 'Bwd IAT Mean', 'Bwd IAT Max', 'Init Bwd Win Byts', 'Fwd Pkts/b Avg', 'Pkt Len Min', 'Pkt Len Max', 'Fwd IAT Mean', 'Bwd URG Flags', 'Bwd Pkt Len Std'], 'Adv sample 217': ['URG Flag Cnt', 'FIN Flag Cnt', 'Idle Min', 'Fwd IAT Mean', 'Bwd URG Flags', 'Init Bwd Win Byts', 'Fwd IAT Min', 'Bwd Pkt Len Min', 'Pkt Len Max', 'Bwd IAT Min'], 'Adv sample 218': ['Bwd IAT Mean', 'Bwd IAT Min', 'Init Bwd Win Byts', 'Fwd Pkts/b Avg', 'Down/Up Ratio', 'Fwd Blk Rate Avg', 'Pkt Len Min', 'Subflow Fwd Byts', 'Fwd Pkt Len Std', 'Pkt Len Mean'], 'Adv sample 219': ['Idle Std', 'ACK Flag Cnt', 'Bwd Byts/b Avg', 'Init Bwd Win Byts', 'Pkt Len Min', 'Idle Min', 'Bwd Pkts/b Avg', 'Fwd IAT Mean', 'Flow IAT Min', 'Flow IAT Max'], 'Adv sample 220': ['Bwd IAT Min', 'Bwd IAT Mean', 'Bwd IAT Max', 'Init Bwd Win Byts', 'Bwd Pkts/s', 'Fwd Pkts/b Avg', 'Pkt Len Min', 'Fwd IAT Min', 'Fwd Act Data Pkts', 'Pkt Size Avg'], 'Adv sample 221': ['Bwd IAT Min', 'Bwd IAT Mean', 'Bwd IAT Max', 'Init Bwd Win Byts', 'Fwd IAT Mean', 'Fwd Pkts/b Avg', 'Bwd Pkts/s', 'Flow Pkts/s', 'Pkt Len Min', 'Fwd Pkts/s'], 'Adv sample 222': ['Bwd IAT Mean', 'Bwd IAT Min', 'Init Bwd Win Byts', 'Fwd Pkts/b Avg', 'Fwd Blk Rate Avg', 'Down/Up Ratio', 'Pkt Len Min', 'Active Std', 'Flow IAT Std', 'Pkt Size Avg'], 'Adv sample 223': ['Bwd IAT Mean', 'Bwd IAT Min', 'Fwd Pkts/b Avg', 'Init Bwd Win Byts', 'Down/Up Ratio', 'Pkt Len Min', 'Idle Min', 'Bwd Pkt Len Max', 'Subflow Fwd Pkts', 'Fwd Blk Rate Avg'], 'Adv sample 224': ['SYN Flag Cnt', 'Fwd Byts/b Avg', 'Init Bwd Win Byts', 'Bwd Header Len', 'Flow IAT Mean', 'Subflow Bwd Pkts', 'Fwd Pkts/s', 'Active Max', 'Fwd Blk Rate Avg', 'Bwd Pkts/b Avg'], 'Adv sample 225': ['SYN Flag Cnt', 'Bwd IAT Mean', 'Fwd IAT Min', 'Fwd Byts/b Avg', 'Init Bwd Win Byts', 'Bwd Pkts/b Avg', 'Fwd IAT Mean', 'Bwd URG Flags', 'Fwd Pkts/s', 'Pkt Len Min'], 'Adv sample 226': ['Bwd IAT Min', 'Bwd IAT Mean', 'Bwd IAT Max', 'Init Bwd Win Byts', 'Fwd Pkts/b Avg', 'Fwd IAT Mean', 'Pkt Len Min', 'Bwd Pkts/s', 'Flow Pkts/s', 'Active Std'], 'Adv sample 227': ['Bwd IAT Min', 'Bwd IAT Mean', 'Bwd IAT Max', 'Init Bwd Win Byts', 'Bwd Pkts/s', 'Fwd Pkts/b Avg', 'Down/Up Ratio', 'Pkt Len Mean', 'Tot Bwd Pkts', 'Bwd PSH Flags'], 'Adv sample 228': ['Bwd Pkts/s', 'Fwd IAT Min', 'Pkt Size Avg', 'Init Bwd Win Byts', 'Fwd Pkts/b Avg', 'Pkt Len Max', 'Bwd IAT Min', 'Fwd Seg Size Avg', 'Idle Max', 'Bwd IAT Tot'], 'Adv sample 229': ['Bwd IAT Min', 'Bwd IAT Mean', 'Init Bwd Win Byts', 'Fwd Pkts/b Avg', 'Fwd IAT Mean', 'Pkt Len Min', 'Fwd Blk Rate Avg', 'Flow Pkts/s', 'Down/Up Ratio', 'Bwd Seg Size Avg'], 'Adv sample 230': ['Bwd IAT Min', 'Bwd IAT Mean', 'Bwd IAT Max', 'Init Bwd Win Byts', 'Fwd Pkts/b Avg', 'Bwd Pkts/s', 'Down/Up Ratio', 'Fwd Blk Rate Avg', 'Fwd Pkt Len Min', 'Bwd Pkt Len Max'], 'Adv sample 231': ['ACK Flag Cnt', 'Active Mean', 'Flow IAT Std', 'Active Max', 'Init Bwd Win Byts', 'Flow IAT Mean', 'Pkt Len Mean', 'Pkt Len Std', 'Bwd Pkt Len Std', 'Bwd Pkt Len Max'], 'Adv sample 232': ['Bwd IAT Min', 'Bwd IAT Mean', 'Init Bwd Win Byts', 'Fwd Pkts/b Avg', 'Fwd IAT Mean', 'Fwd Blk Rate Avg', 'Pkt Len Min', 'PSH Flag Cnt', 'Pkt Len Max', 'Flow Pkts/s'], 'Adv sample 233': ['Bwd IAT Min', 'Bwd IAT Mean', 'Init Bwd Win Byts', 'Fwd IAT Mean', 'Fwd Pkts/b Avg', 'Fwd Blk Rate Avg', 'Pkt Len Min', 'Flow Pkts/s', 'Down/Up Ratio', 'Bwd Pkt Len Min'], 'Adv sample 234': ['Idle Std', 'ACK Flag Cnt', 'Init Bwd Win Byts', 'Bwd Byts/b Avg', 'Pkt Len Min', 'Flow Duration', 'Bwd Pkts/b Avg', 'Idle Min', 'Bwd Seg Size Avg', 'Fwd Pkt Len Mean'], 'Adv sample 235': ['Bwd Pkts/s', 'Fwd IAT Min', 'Init Bwd Win Byts', 'Idle Mean', 'Pkt Len Min', 'Bwd PSH Flags', 'Down/Up Ratio', 'Subflow Fwd Pkts', 'Bwd Seg Size Avg', 'Flow IAT Min'], 'Adv sample 236': ['SYN Flag Cnt', 'Bwd IAT Mean', 'Fwd IAT Min', 'Fwd Byts/b Avg', 'Init Bwd Win Byts', 'Down/Up Ratio', 'Pkt Len Min', 'Bwd Header Len', 'Fwd IAT Mean', 'Pkt Len Max'], 'Adv sample 237': ['Bwd IAT Min', 'Bwd IAT Mean', 'Bwd IAT Max', 'Init Bwd Win Byts', 'Fwd Pkts/b Avg', 'Pkt Len Min', 'Subflow Fwd Byts', 'Down/Up Ratio', 'Tot Bwd Pkts', 'Fwd IAT Mean'], 'Adv sample 238': ['Idle Std', 'ACK Flag Cnt', 'Bwd Byts/b Avg', 'Init Bwd Win Byts', 'Pkt Len Min', 'Idle Min', 'Active Max', 'Fwd Pkts/s', 'Bwd Pkts/b Avg', 'Flow Duration'], 'Adv sample 239': ['SYN Flag Cnt', 'Bwd IAT Mean', 'Fwd IAT Min', 'Init Bwd Win Byts', 'Fwd Byts/b Avg', 'Bwd Pkts/b Avg', 'Bwd Header Len', 'Bwd Pkt Len Mean', 'Bwd PSH Flags', 'TotLen Bwd Pkts'], 'Adv sample 240': ['SYN Flag Cnt', 'Bwd IAT Mean', 'Fwd IAT Min', 'Fwd Byts/b Avg', 'Bwd Pkts/b Avg', 'Init Bwd Win Byts', 'Flow Byts/s', 'Pkt Len Min', 'Fwd Pkt Len Max', 'Flow Pkts/s'], 'Adv sample 241': ['Bwd IAT Min', 'Bwd IAT Mean', 'Bwd IAT Max', 'Init Bwd Win Byts', 'Fwd Pkts/b Avg', 'Pkt Len Min', 'Bwd Pkts/s', 'Fwd IAT Mean', 'Flow Pkts/s', 'Pkt Len Mean'], 'Adv sample 242': ['SYN Flag Cnt', 'Bwd IAT Mean', 'Fwd IAT Min', 'Fwd Byts/b Avg', 'Init Bwd Win Byts', 'Fwd Pkt Len Min', 'Bwd Pkts/b Avg', 'Active Mean', 'Pkt Len Min', 'Flow IAT Max'], 'Adv sample 243': ['Bwd Pkts/s', 'Init Bwd Win Byts', 'Fwd IAT Min', 'Pkt Len Mean', 'Idle Max', 'Pkt Size Avg', 'Flow Duration', 'Flow IAT Mean', 'Down/Up Ratio', 'Subflow Fwd Pkts'], 'Adv sample 244': ['Bwd IAT Min', 'Bwd IAT Mean', 'Fwd Pkts/b Avg', 'Fwd IAT Mean', 'Init Bwd Win Byts', 'Pkt Len Min', 'Fwd Blk Rate Avg', 'Down/Up Ratio', 'Idle Min', 'Subflow Bwd Pkts'], 'Adv sample 245': ['Bwd IAT Min', 'Bwd IAT Mean', 'Init Bwd Win Byts', 'Fwd Pkts/b Avg', 'Down/Up Ratio', 'Fwd Blk Rate Avg', 'Fwd Pkts/s', 'Pkt Len Min', 'Bwd Header Len', 'Bwd Pkt Len Min'], 'Adv sample 246': ['Bwd IAT Mean', 'Bwd IAT Min', 'Fwd Pkts/b Avg', 'Init Bwd Win Byts', 'Fwd Blk Rate Avg', 'Down/Up Ratio', 'TotLen Fwd Pkts', 'Fwd Pkt Len Min', 'Pkt Len Min', 'Pkt Size Avg'], 'Adv sample 247': ['Bwd IAT Min', 'Bwd IAT Mean', 'Bwd IAT Max', 'Init Bwd Win Byts', 'Fwd Pkts/b Avg', 'Bwd Pkts/s', 'Flow Pkts/s', 'Pkt Len Min', 'Bwd URG Flags', 'Fwd Blk Rate Avg'], 'Adv sample 248': ['Bwd IAT Mean', 'Bwd IAT Min', 'Init Bwd Win Byts', 'Fwd Pkts/b Avg', 'Pkt Len Min', 'Down/Up Ratio', 'Fwd Blk Rate Avg', 'Flow IAT Min', 'PSH Flag Cnt', 'Subflow Bwd Byts'], 'Adv sample 249': ['Bwd IAT Mean', 'Bwd IAT Min', 'Fwd Pkts/b Avg', 'Init Bwd Win Byts', 'Active Max', 'Fwd Blk Rate Avg', 'Down/Up Ratio', 'TotLen Fwd Pkts', 'Pkt Len Min', 'Fwd Seg Size Avg'], 'Adv sample 250': ['Bwd IAT Min', 'Bwd IAT Mean', 'Bwd IAT Max', 'Init Bwd Win Byts', 'Bwd Pkts/s', 'Flow Pkts/s', 'Fwd Pkts/b Avg', 'Down/Up Ratio', 'Bwd Pkt Len Min', 'Pkt Len Min'], 'Adv sample 251': ['SYN Flag Cnt', 'Bwd IAT Mean', 'Fwd IAT Min', 'Fwd Byts/b Avg', 'Bwd IAT Max', 'Fwd IAT Mean', 'Bwd IAT Tot', 'Bwd Header Len', 'Pkt Len Min', 'Init Bwd Win Byts'], 'Adv sample 252': ['ACK Flag Cnt', 'Fwd IAT Mean', 'Bwd IAT Min', 'Idle Max', 'Init Bwd Win Byts', 'Fwd Header Len', 'Fwd Pkt Len Max', 'Bwd URG Flags', 'Subflow Bwd Byts', 'Pkt Size Avg'], 'Adv sample 253': ['ACK Flag Cnt', 'Bwd IAT Min', 'Bwd IAT Max', 'Bwd IAT Mean', 'Init Bwd Win Byts', 'Bwd Pkts/s', 'Flow Pkts/s', 'Fwd IAT Mean', 'Subflow Bwd Byts', 'Fwd Pkts/b Avg'], 'Adv sample 254': ['Bwd IAT Min', 'Bwd IAT Mean', 'Bwd IAT Max', 'Init Bwd Win Byts', 'Bwd Pkts/s', 'Fwd Pkts/b Avg', 'Fwd Blk Rate Avg', 'Flow Pkts/s', 'Pkt Len Max', 'Pkt Len Min'], 'Adv sample 255': ['Bwd IAT Min', 'Bwd IAT Max', 'Bwd IAT Mean', 'Init Bwd Win Byts', 'Fwd Pkts/b Avg', 'Pkt Len Min', 'Down/Up Ratio', 'Bwd Pkts/s', 'Idle Min', 'Bwd Seg Size Avg'], 'Adv sample 256': ['Bwd IAT Min', 'Bwd IAT Mean', 'Bwd IAT Max', 'Init Bwd Win Byts', 'Fwd IAT Mean', 'Fwd Pkts/b Avg', 'Down/Up Ratio', 'Bwd Pkt Len Min', 'Pkt Len Min', 'Subflow Bwd Byts'], 'Adv sample 257': ['ACK Flag Cnt', 'Active Mean', 'Active Max', 'Flow IAT Std', 'Init Bwd Win Byts', 'Flow IAT Mean', 'Pkt Len Var', 'Pkt Len Max', 'Pkt Len Min', 'Subflow Bwd Pkts'], 'Adv sample 258': ['Bwd IAT Min', 'Bwd IAT Mean', 'Bwd IAT Max', 'Bwd Pkts/s', 'Init Bwd Win Byts', 'Fwd Pkts/b Avg', 'Pkt Len Min', 'Bwd Header Len', 'Pkt Size Avg', 'Down/Up Ratio'], 'Adv sample 259': ['ACK Flag Cnt', 'Fwd IAT Min', 'Flow IAT Std', 'Flow IAT Mean', 'Bwd IAT Std', 'Bwd Pkts/b Avg', 'Fwd Byts/b Avg', 'Init Bwd Win Byts', 'Fwd Pkt Len Mean', 'Fwd IAT Mean'], 'Adv sample 260': ['Bwd IAT Min', 'Bwd IAT Mean', 'Init Bwd Win Byts', 'Fwd Pkts/b Avg', 'Fwd Blk Rate Avg', 'Flow Pkts/s', 'Down/Up Ratio', 'Pkt Size Avg', 'Bwd URG Flags', 'Pkt Len Min'], 'Adv sample 261': ['Bwd IAT Min', 'Bwd IAT Mean', 'Bwd IAT Max', 'Bwd Pkts/s', 'Init Bwd Win Byts', 'Fwd Pkts/b Avg', 'Flow Pkts/s', 'Pkt Len Min', 'Flow IAT Mean', 'Fwd Pkt Len Mean'], 'Adv sample 262': ['ACK Flag Cnt', 'Idle Std', 'Init Bwd Win Byts', 'Bwd Byts/b Avg', 'Flow IAT Max', 'Flow Duration', 'Idle Min', 'Bwd Pkts/b Avg', 'Fwd Pkt Len Min', 'Bwd Pkt Len Min'], 'Adv sample 263': ['Idle Std', 'ACK Flag Cnt', 'Init Bwd Win Byts', 'Bwd Byts/b Avg', 'Pkt Len Min', 'Bwd Pkts/b Avg', 'URG Flag Cnt', 'Tot Fwd Pkts', 'Bwd Seg Size Avg', 'Pkt Len Mean'], 'Adv sample 264': ['ACK Flag Cnt', 'Bwd IAT Min', 'Fwd IAT Mean', 'Idle Max', 'Pkt Len Std', 'Init Bwd Win Byts', 'Idle Std', 'Bwd Pkt Len Std', 'Pkt Len Max', 'Bwd Pkt Len Max'], 'Adv sample 265': ['ACK Flag Cnt', 'Idle Std', 'Init Bwd Win Byts', 'Bwd IAT Tot', 'Down/Up Ratio', 'Bwd Pkts/b Avg', 'Pkt Len Min', 'Bwd Pkt Len Min', 'Fwd Seg Size Avg', 'Bwd Seg Size Avg'], 'Adv sample 266': ['ACK Flag Cnt', 'Bwd IAT Min', 'Bwd IAT Mean', 'Bwd IAT Max', 'Bwd Pkts/s', 'Init Bwd Win Byts', 'Flow Pkts/s', 'Fwd IAT Mean', 'Fwd Pkts/b Avg', 'Pkt Len Min'], 'Adv sample 267': ['SYN Flag Cnt', 'Bwd IAT Mean', 'Fwd IAT Min', 'Fwd Byts/b Avg', 'Init Bwd Win Byts', 'Fwd IAT Mean', 'Active Mean', 'Bwd URG Flags', 'Bwd IAT Std', 'Flow Byts/s'], 'Adv sample 268': ['Bwd IAT Min', 'Bwd IAT Max', 'Bwd IAT Mean', 'Fwd Pkts/b Avg', 'Init Bwd Win Byts', 'Down/Up Ratio', 'Bwd Pkts/s', 'Pkt Size Avg', 'Bwd Pkt Len Min', 'Idle Min'], 'Adv sample 269': ['Bwd IAT Min', 'Bwd IAT Mean', 'Bwd IAT Max', 'Bwd Pkts/s', 'Init Bwd Win Byts', 'Flow Pkts/s', 'Fwd Pkts/b Avg', 'Flow IAT Min', 'Pkt Len Max', 'Bwd Pkt Len Mean'], 'Adv sample 270': ['ACK Flag Cnt', 'Bwd IAT Min', 'Bwd IAT Mean', 'Bwd IAT Max', 'Flow Pkts/s', 'Bwd Pkts/s', 'Init Bwd Win Byts', 'Fwd Pkts/b Avg', 'Fwd IAT Mean', 'TotLen Fwd Pkts'], 'Adv sample 271': ['URG Flag Cnt', 'FIN Flag Cnt', 'Bwd URG Flags', 'Idle Min', 'Fwd IAT Mean', 'Init Bwd Win Byts', 'Down/Up Ratio', 'Pkt Len Min', 'Pkt Size Avg', 'Tot Bwd Pkts'], 'Adv sample 272': ['Bwd IAT Min', 'Bwd IAT Mean', 'Bwd IAT Max', 'Init Bwd Win Byts', 'Down/Up Ratio', 'Fwd Pkts/b Avg', 'Bwd Pkts/s', 'Bwd Header Len', 'Bwd Pkt Len Mean', 'Flow Pkts/s'], 'Adv sample 273': ['ACK Flag Cnt', 'Idle Std', 'Init Bwd Win Byts', 'Bwd Pkts/b Avg', 'Down/Up Ratio', 'Bwd IAT Tot', 'Pkt Len Min', 'Fwd Act Data Pkts', 'TotLen Fwd Pkts', 'Flow IAT Min'], 'Adv sample 274': ['Bwd Pkts/s', 'Fwd IAT Min', 'Subflow Fwd Pkts', 'Idle Max', 'Flow IAT Std', 'TotLen Bwd Pkts', 'Active Max', 'Subflow Fwd Byts', 'Fwd Act Data Pkts', 'Bwd Header Len'], 'Adv sample 275': ['SYN Flag Cnt', 'Bwd IAT Mean', 'Fwd IAT Min', 'Fwd Byts/b Avg', 'Init Bwd Win Byts', 'Bwd Pkts/b Avg', 'Fwd Pkt Len Min', 'Flow Byts/s', 'PSH Flag Cnt', 'Fwd Act Data Pkts'], 'Adv sample 276': ['SYN Flag Cnt', 'Bwd IAT Mean', 'Fwd IAT Min', 'Init Bwd Win Byts', 'Bwd IAT Max', 'Fwd Byts/b Avg', 'Bwd Pkts/s', 'Bwd IAT Tot', 'Idle Std', 'Fwd IAT Mean'], 'Adv sample 277': ['ACK Flag Cnt', 'Bwd IAT Min', 'Bwd IAT Mean', 'Bwd IAT Max', 'Bwd Pkts/s', 'Init Bwd Win Byts', 'Flow Pkts/s', 'Fwd IAT Mean', 'Pkt Size Avg', 'Pkt Len Min'], 'Adv sample 278': ['SYN Flag Cnt', 'Bwd IAT Mean', 'Fwd IAT Min', 'Fwd Byts/b Avg', 'Fwd IAT Mean', 'Fwd Pkts/b Avg', 'Down/Up Ratio', 'Bwd IAT Max', 'Init Bwd Win Byts', 'Bwd IAT Tot'], 'Adv sample 279': ['Bwd IAT Min', 'Bwd IAT Max', 'Bwd IAT Mean', 'Fwd Pkts/b Avg', 'Init Bwd Win Byts', 'Pkt Len Min', 'Down/Up Ratio', 'Fwd Blk Rate Avg', 'Pkt Size Avg', 'Bwd IAT Std'], 'Adv sample 280': ['SYN Flag Cnt', 'Bwd IAT Min', 'Bwd IAT Std', 'Bwd IAT Mean', 'Bwd IAT Max', 'Flow IAT Min', 'Bwd PSH Flags', 'Down/Up Ratio', 'Pkt Len Var', 'Fwd Pkt Len Mean'], 'Adv sample 281': ['Bwd IAT Min', 'Bwd IAT Mean', 'Init Bwd Win Byts', 'Fwd Blk Rate Avg', 'Fwd Pkts/b Avg', 'Down/Up Ratio', 'Pkt Len Min', 'Fwd IAT Mean', 'Fwd Pkt Len Min', 'Flow Pkts/s'], 'Adv sample 282': ['Bwd IAT Mean', 'Bwd IAT Min', 'Fwd Pkts/b Avg', 'Init Bwd Win Byts', 'Down/Up Ratio', 'Pkt Len Min', 'Fwd Blk Rate Avg', 'Pkt Len Std', 'Bwd Pkt Len Min', 'Bwd PSH Flags'], 'Adv sample 283': ['Bwd IAT Mean', 'Bwd IAT Min', 'Init Bwd Win Byts', 'Fwd Blk Rate Avg', 'Fwd Pkts/b Avg', 'Down/Up Ratio', 'Bwd PSH Flags', 'Flow Duration', 'Pkt Len Mean', 'Active Std'], 'Adv sample 284': ['Bwd IAT Min', 'Bwd IAT Mean', 'Bwd IAT Max', 'Init Bwd Win Byts', 'Fwd Pkts/b Avg', 'Bwd Pkts/s', 'Fwd IAT Mean', 'Fwd Pkts/s', 'Down/Up Ratio', 'Fwd Header Len'], 'Adv sample 285': ['Bwd IAT Min', 'Bwd IAT Mean', 'Fwd Blk Rate Avg', 'Fwd Pkts/b Avg', 'Init Bwd Win Byts', 'Fwd IAT Mean', 'Flow Pkts/s', 'Down/Up Ratio', 'Bwd Pkt Len Mean', 'Pkt Len Min'], 'Adv sample 286': ['Bwd IAT Min', 'Bwd IAT Max', 'Bwd IAT Mean', 'Fwd Pkts/b Avg', 'Init Bwd Win Byts', 'Down/Up Ratio', 'Pkt Len Min', 'Fwd Pkt Len Mean', 'Flow IAT Std', 'Pkt Len Mean'], 'Adv sample 287': ['SYN Flag Cnt', 'Bwd IAT Mean', 'Init Bwd Win Byts', 'Fwd IAT Min', 'Fwd Byts/b Avg', 'Bwd IAT Max', 'Bwd Pkts/s', 'Bwd IAT Tot', 'Pkt Len Min', 'Bwd IAT Std'], 'Adv sample 288': ['Bwd Pkts/s', 'Fwd IAT Min', 'Init Bwd Win Byts', 'Bwd Pkt Len Max', 'Tot Bwd Pkts', 'Idle Min', 'Pkt Size Avg', 'Subflow Bwd Pkts', 'Down/Up Ratio', 'URG Flag Cnt'], 'Adv sample 289': ['URG Flag Cnt', 'FIN Flag Cnt', 'Bwd URG Flags', 'Fwd IAT Mean', 'Idle Min', 'Init Bwd Win Byts', 'Pkt Len Min', 'Down/Up Ratio', 'Active Mean', 'Subflow Fwd Pkts'], 'Adv sample 290': ['ACK Flag Cnt', 'Bwd IAT Min', 'Bwd IAT Mean', 'Bwd IAT Max', 'Bwd Pkts/s', 'Init Bwd Win Byts', 'Flow Pkts/s', 'Fwd IAT Mean', 'Fwd Pkt Len Mean', 'Idle Mean'], 'Adv sample 291': ['ACK Flag Cnt', 'Bwd IAT Mean', 'Bwd IAT Min', 'Bwd IAT Max', 'Bwd Pkts/s', 'Init Bwd Win Byts', 'Flow Pkts/s', 'Down/Up Ratio', 'Pkt Len Min', 'Fwd IAT Mean'], 'Adv sample 292': ['SYN Flag Cnt', 'Bwd IAT Mean', 'Fwd IAT Min', 'Init Bwd Win Byts', 'Bwd Pkts/s', 'Bwd IAT Max', 'Fwd Byts/b Avg', 'Pkt Len Min', 'Fwd IAT Mean', 'Bwd IAT Tot'], 'Adv sample 293': ['SYN Flag Cnt', 'Bwd IAT Mean', 'Fwd Byts/b Avg', 'Fwd IAT Min', 'Bwd IAT Max', 'Fwd Pkts/b Avg', 'Bwd Pkt Len Min', 'Fwd Header Len', 'Init Bwd Win Byts', 'Subflow Bwd Byts'], 'Adv sample 294': ['ACK Flag Cnt', 'Bwd IAT Min', 'Fwd IAT Mean', 'Idle Max', 'Flow IAT Mean', 'Fwd Pkts/s', 'Bwd Pkt Len Std', 'Init Bwd Win Byts', 'Flow Duration', 'Flow Pkts/s'], 'Adv sample 295': ['Bwd IAT Min', 'Bwd IAT Max', 'Bwd IAT Mean', 'Fwd Pkts/b Avg', 'Init Bwd Win Byts', 'Bwd Pkts/s', 'Pkt Len Mean', 'Pkt Len Min', 'Bwd Pkt Len Std', 'Fwd IAT Min'], 'Adv sample 296': ['ACK Flag Cnt', 'Bwd IAT Min', 'Bwd IAT Mean', 'Bwd IAT Max', 'Bwd Pkts/s', 'Init Bwd Win Byts', 'Flow Pkts/s', 'Fwd IAT Mean', 'Fwd Pkts/b Avg', 'Pkt Size Avg'], 'Adv sample 297': ['Bwd IAT Min', 'Bwd IAT Mean', 'Bwd IAT Max', 'Init Bwd Win Byts', 'Fwd Pkts/b Avg', 'Down/Up Ratio', 'Bwd Pkts/s', 'Pkt Len Min', 'Fwd IAT Mean', 'URG Flag Cnt'], 'Adv sample 298': ['ACK Flag Cnt', 'Active Min', 'Fwd IAT Min', 'Fwd IAT Mean', 'Flow IAT Std', 'Active Max', 'Fwd Byts/b Avg', 'Init Bwd Win Byts', 'Bwd Pkt Len Min', 'Flow IAT Mean'], 'Adv sample 299': ['Bwd IAT Min', 'Bwd IAT Max', 'Bwd IAT Mean', 'Init Bwd Win Byts', 'Fwd Pkts/b Avg', 'Pkt Len Min', 'PSH Flag Cnt', 'Down/Up Ratio', 'Bwd Seg Size Avg', 'Fwd Pkt Len Max'], 'Adv sample 300': ['SYN Flag Cnt', 'Bwd IAT Mean', 'Fwd IAT Min', 'Fwd Byts/b Avg', 'Bwd IAT Max', 'Init Bwd Win Byts', 'Pkt Len Mean', 'Pkt Len Max', 'Bwd IAT Tot', 'Fwd IAT Mean'], 'Adv sample 301': ['SYN Flag Cnt', 'Bwd IAT Mean', 'Fwd IAT Min', 'Fwd Byts/b Avg', 'Init Bwd Win Byts', 'Subflow Fwd Pkts', 'Pkt Len Min', 'Down/Up Ratio', 'Bwd Pkt Len Min', 'Fwd Act Data Pkts'], 'Adv sample 302': ['Idle Std', 'ACK Flag Cnt', 'Bwd Byts/b Avg', 'Init Bwd Win Byts', 'Pkt Len Min', 'Idle Min', 'Flow IAT Std', 'Flow IAT Min', 'Bwd Pkt Len Min', 'Pkt Len Mean'], 'Adv sample 303': ['ACK Flag Cnt', 'Bwd IAT Min', 'Bwd IAT Mean', 'Bwd IAT Max', 'Bwd Pkts/s', 'Init Bwd Win Byts', 'Flow Pkts/s', 'Fwd IAT Mean', 'Idle Min', 'Pkt Len Mean'], 'Adv sample 304': ['Idle Std', 'ACK Flag Cnt', 'Bwd Byts/b Avg', 'Init Bwd Win Byts', 'Pkt Len Min', 'Flow IAT Max', 'Active Max', 'Bwd Pkt Len Min', 'Pkt Len Max', 'Fwd IAT Max'], 'Adv sample 305': ['ACK Flag Cnt', 'Bwd IAT Min', 'Bwd IAT Mean', 'Bwd IAT Max', 'Flow Pkts/s', 'Bwd Pkts/s', 'Init Bwd Win Byts', 'Fwd Pkts/b Avg', 'Tot Bwd Pkts', 'Subflow Bwd Pkts'], 'Adv sample 306': ['Bwd IAT Min', 'ACK Flag Cnt', 'Bwd IAT Mean', 'Bwd IAT Max', 'Init Bwd Win Byts', 'Fwd Pkts/b Avg', 'Bwd Pkts/s', 'Fwd IAT Mean', 'Tot Bwd Pkts', 'Fwd Seg Size Avg'], 'Adv sample 307': ['Bwd IAT Min', 'Bwd IAT Mean', 'Bwd IAT Max', 'Init Bwd Win Byts', 'Fwd Pkts/b Avg', 'Pkt Len Min', 'Down/Up Ratio', 'Bwd Pkts/s', 'Fwd IAT Mean', 'Pkt Size Avg'], 'Adv sample 308': ['Bwd Pkts/s', 'Init Bwd Win Byts', 'Fwd IAT Min', 'Pkt Size Avg', 'Idle Std', 'Flow IAT Mean', 'Bwd IAT Mean', 'Bwd Pkt Len Max', 'Pkt Len Min', 'Bwd Seg Size Avg'], 'Adv sample 309': ['Bwd IAT Min', 'Bwd IAT Mean', 'Bwd IAT Max', 'Bwd Pkts/s', 'Init Bwd Win Byts', 'Fwd Pkts/b Avg', 'Flow Pkts/s', 'Down/Up Ratio', 'Pkt Len Max', 'Fwd Blk Rate Avg'], 'Adv sample 310': ['Bwd IAT Min', 'Bwd IAT Max', 'Bwd IAT Mean', 'Init Bwd Win Byts', 'Fwd Pkts/b Avg', 'Down/Up Ratio', 'Bwd PSH Flags', 'Pkt Len Min', 'Idle Min', 'Pkt Size Avg'], 'Adv sample 311': ['SYN Flag Cnt', 'Bwd IAT Mean', 'Fwd IAT Min', 'Fwd Byts/b Avg', 'Init Bwd Win Byts', 'Pkt Len Min', 'Subflow Bwd Pkts', 'Bwd IAT Max', 'Tot Fwd Pkts', 'Flow Pkts/s'], 'Adv sample 312': ['Bwd IAT Min', 'Bwd IAT Mean', 'Bwd IAT Max', 'Fwd Pkts/b Avg', 'Init Bwd Win Byts', 'Bwd Pkts/s', 'Down/Up Ratio', 'Active Min', 'Pkt Len Min', 'Pkt Size Avg'], 'Adv sample 313': ['SYN Flag Cnt', 'Bwd IAT Mean', 'Fwd IAT Min', 'Fwd Byts/b Avg', 'Bwd URG Flags', 'Pkt Len Min', 'Pkt Len Var', 'Fwd Pkts/b Avg', 'Init Bwd Win Byts', 'Fwd IAT Mean'], 'Adv sample 314': ['ACK Flag Cnt', 'Idle Std', 'Init Bwd Win Byts', 'Down/Up Ratio', 'Bwd Byts/b Avg', 'Pkt Len Min', 'Bwd IAT Tot', 'Bwd Pkts/b Avg', 'Subflow Bwd Pkts', 'Bwd Pkt Len Min'], 'Adv sample 315': ['SYN Flag Cnt', 'Bwd IAT Mean', 'Fwd IAT Min', 'Fwd Byts/b Avg', 'Fwd IAT Mean', 'Pkt Len Mean', 'Fwd Pkts/b Avg', 'Bwd IAT Tot', 'Bwd Pkt Len Mean', 'Bwd IAT Min'], 'Adv sample 316': ['ACK Flag Cnt', 'Active Mean', 'Flow IAT Std', 'Active Max', 'Flow IAT Mean', 'Init Bwd Win Byts', 'Pkt Len Min', 'Tot Bwd Pkts', 'Fwd IAT Min', 'PSH Flag Cnt'], 'Adv sample 317': ['Bwd IAT Min', 'Bwd IAT Mean', 'Fwd Pkts/b Avg', 'Init Bwd Win Byts', 'Fwd IAT Mean', 'Fwd Blk Rate Avg', 'Pkt Len Min', 'Subflow Bwd Pkts', 'Fwd Seg Size Avg', 'Idle Max'], 'Adv sample 318': ['Bwd IAT Min', 'Bwd IAT Max', 'Bwd IAT Mean', 'Init Bwd Win Byts', 'Bwd Pkts/s', 'Fwd Pkts/b Avg', 'Bwd Pkt Len Min', 'Pkt Len Min', 'Pkt Len Mean', 'Down/Up Ratio'], 'Adv sample 319': ['Bwd IAT Min', 'Bwd IAT Mean', 'Bwd IAT Max', 'Down/Up Ratio', 'Init Bwd Win Byts', 'Fwd Pkts/b Avg', 'Bwd Pkts/s', 'Pkt Len Min', 'Pkt Len Std', 'Flow Pkts/s'], 'Adv sample 320': ['Bwd IAT Min', 'Bwd IAT Mean', 'Init Bwd Win Byts', 'Fwd Pkts/b Avg', 'Fwd IAT Mean', 'Flow Pkts/s', 'Fwd Blk Rate Avg', 'Pkt Len Min', 'Down/Up Ratio', 'Bwd Seg Size Avg'], 'Adv sample 321': ['Bwd IAT Min', 'Bwd IAT Mean', 'Bwd IAT Max', 'Init Bwd Win Byts', 'Bwd Pkts/s', 'Fwd Pkts/b Avg', 'Down/Up Ratio', 'Pkt Len Min', 'Bwd Pkt Len Mean', 'Bwd URG Flags'], 'Adv sample 322': ['Bwd IAT Min', 'Bwd IAT Mean', 'Bwd IAT Max', 'Bwd Pkts/s', 'Init Bwd Win Byts', 'Pkt Size Avg', 'Pkt Len Min', 'Fwd Pkts/b Avg', 'Bwd IAT Std', 'Flow IAT Std'], 'Adv sample 323': ['Bwd IAT Min', 'Bwd IAT Mean', 'Bwd IAT Max', 'Init Bwd Win Byts', 'Bwd Pkts/s', 'Flow Pkts/s', 'Pkt Len Min', 'Fwd Pkts/b Avg', 'Fwd Blk Rate Avg', 'Bwd Pkt Len Mean'], 'Adv sample 324': ['Bwd IAT Min', 'Bwd IAT Mean', 'Bwd IAT Max', 'Bwd Pkts/s', 'Init Bwd Win Byts', 'Fwd Blk Rate Avg', 'Pkt Len Min', 'Pkt Len Std', 'Down/Up Ratio', 'Fwd Pkts/b Avg'], 'Adv sample 325': ['ACK Flag Cnt', 'Bwd IAT Min', 'Bwd IAT Mean', 'Bwd IAT Max', 'Bwd Pkts/s', 'Fwd IAT Mean', 'Init Bwd Win Byts', 'Flow Pkts/s', 'Fwd Pkts/b Avg', 'Down/Up Ratio'], 'Adv sample 326': ['ACK Flag Cnt', 'Idle Std', 'Init Bwd Win Byts', 'Down/Up Ratio', 'Bwd Pkts/b Avg', 'Bwd IAT Tot', 'Pkt Len Min', 'Bwd Byts/b Avg', 'Bwd Pkt Len Mean', 'Bwd Pkt Len Min'], 'Adv sample 327': ['Bwd IAT Min', 'Bwd IAT Max', 'Bwd IAT Mean', 'Init Bwd Win Byts', 'Fwd Pkts/b Avg', 'Bwd Pkts/s', 'Bwd Pkt Len Min', 'Fwd IAT Mean', 'Pkt Len Max', 'Down/Up Ratio'], 'Adv sample 328': ['SYN Flag Cnt', 'Bwd IAT Mean', 'Fwd IAT Min', 'Bwd IAT Max', 'Fwd Byts/b Avg', 'Init Bwd Win Byts', 'Fwd IAT Mean', 'Bwd IAT Tot', 'Bwd Header Len', 'Tot Fwd Pkts'], 'Adv sample 329': ['Bwd Pkts/s', 'Fwd IAT Min', 'Init Bwd Win Byts', 'Flow Duration', 'Flow IAT Mean', 'Fwd Pkt Len Mean', 'PSH Flag Cnt', 'Bwd IAT Mean', 'Bwd Pkt Len Std', 'Bwd Header Len'], 'Adv sample 330': ['SYN Flag Cnt', 'Bwd IAT Mean', 'Init Bwd Win Byts', 'Fwd IAT Min', 'Bwd IAT Max', 'Fwd Byts/b Avg', 'Bwd Pkts/b Avg', 'Bwd Pkts/s', 'Bwd IAT Tot', 'Bwd Pkt Len Mean'], 'Adv sample 331': ['SYN Flag Cnt', 'Bwd IAT Mean', 'Fwd IAT Min', 'Init Bwd Win Byts', 'Bwd IAT Max', 'Bwd Pkts/s', 'Fwd Byts/b Avg', 'Pkt Len Min', 'Fwd Pkt Len Min', 'Flow Pkts/s'], 'Adv sample 332': ['ACK Flag Cnt', 'Fwd IAT Min', 'Flow IAT Std', 'Init Bwd Win Byts', 'Bwd IAT Std', 'Active Max', 'Fwd Byts/b Avg', 'Bwd IAT Max', 'Flow IAT Mean', 'Tot Fwd Pkts'], 'Adv sample 333': ['SYN Flag Cnt', 'Bwd IAT Mean', 'Fwd IAT Min', 'Init Bwd Win Byts', 'Fwd Byts/b Avg', 'Bwd IAT Max', 'Bwd Pkts/s', 'Bwd Header Len', 'Pkt Len Min', 'Flow IAT Max'], 'Adv sample 334': ['SYN Flag Cnt', 'Bwd IAT Mean', 'Fwd IAT Min', 'Bwd IAT Max', 'Init Bwd Win Byts', 'Bwd Pkts/b Avg', 'Bwd Pkts/s', 'Pkt Len Min', 'Fwd Byts/b Avg', 'Fwd IAT Mean'], 'Adv sample 335': ['Bwd IAT Min', 'Bwd IAT Mean', 'Init Bwd Win Byts', 'Down/Up Ratio', 'Fwd Pkts/b Avg', 'Fwd IAT Mean', 'Fwd Blk Rate Avg', 'Flow Pkts/s', 'Pkt Len Min', 'Subflow Bwd Byts'], 'Adv sample 336': ['ACK Flag Cnt', 'Fwd IAT Min', 'Flow IAT Std', 'Bwd Pkt Len Min', 'Active Max', 'Bwd IAT Std', 'Pkt Len Min', 'Bwd Pkts/b Avg', 'Fwd IAT Mean', 'Fwd Byts/b Avg'], 'Adv sample 337': ['ACK Flag Cnt', 'Active Mean', 'Active Max', 'Flow IAT Std', 'Flow IAT Mean', 'Init Bwd Win Byts', 'Pkt Len Mean', 'Bwd Seg Size Avg', 'Fwd Pkt Len Max', 'Subflow Fwd Byts'], 'Adv sample 338': ['Bwd IAT Min', 'Bwd IAT Mean', 'Bwd IAT Max', 'Init Bwd Win Byts', 'Bwd Pkts/s', 'Fwd Pkts/b Avg', 'Bwd Pkt Len Min', 'Pkt Len Min', 'Bwd Seg Size Avg', 'Fwd Pkt Len Min'], 'Adv sample 339': ['Bwd IAT Min', 'Bwd IAT Mean', 'Bwd IAT Max', 'Fwd Pkts/b Avg', 'Init Bwd Win Byts', 'Bwd Pkt Len Min', 'Down/Up Ratio', 'Fwd IAT Mean', 'Bwd Pkts/s', 'TotLen Fwd Pkts'], 'Adv sample 340': ['SYN Flag Cnt', 'Bwd IAT Mean', 'Fwd IAT Min', 'Init Bwd Win Byts', 'Bwd IAT Max', 'Bwd Pkts/s', 'Fwd Byts/b Avg', 'Bwd IAT Tot', 'Bwd Pkts/b Avg', 'Flow Pkts/s'], 'Adv sample 341': ['ACK Flag Cnt', 'Bwd IAT Min', 'Bwd IAT Mean', 'Bwd IAT Max', 'Init Bwd Win Byts', 'Bwd Pkts/s', 'Flow Pkts/s', 'Fwd IAT Mean', 'Fwd Pkts/b Avg', 'Flow Duration'], 'Adv sample 342': ['ACK Flag Cnt', 'Bwd IAT Min', 'Bwd IAT Mean', 'Bwd IAT Max', 'Init Bwd Win Byts', 'Bwd Pkts/s', 'Flow Pkts/s', 'Pkt Len Min', 'Fwd IAT Mean', 'Bwd Header Len'], 'Adv sample 343': ['Bwd IAT Min', 'Bwd IAT Mean', 'Fwd Pkts/b Avg', 'Init Bwd Win Byts', 'Fwd IAT Mean', 'Fwd Blk Rate Avg', 'Pkt Len Min', 'Down/Up Ratio', 'Fwd Act Data Pkts', 'Flow Pkts/s'], 'Adv sample 344': ['Bwd IAT Min', 'Bwd IAT Mean', 'Bwd IAT Max', 'Init Bwd Win Byts', 'Bwd Pkts/s', 'Down/Up Ratio', 'Flow Pkts/s', 'Fwd Pkts/b Avg', 'Fwd IAT Mean', 'Bwd Pkt Len Min'], 'Adv sample 345': ['Bwd IAT Min', 'Bwd IAT Mean', 'Bwd IAT Max', 'Init Bwd Win Byts', 'Fwd Pkts/b Avg', 'Fwd Blk Rate Avg', 'Bwd Seg Size Avg', 'Pkt Len Min', 'Down/Up Ratio', 'Bwd Pkts/s'], 'Adv sample 346': ['SYN Flag Cnt', 'Bwd IAT Mean', 'Fwd IAT Min', 'Bwd IAT Max', 'Init Bwd Win Byts', 'Bwd Pkts/s', 'Bwd Pkts/b Avg', 'Fwd Act Data Pkts', 'Fwd IAT Mean', 'Fwd Byts/b Avg'], 'Adv sample 347': ['Bwd IAT Mean', 'ACK Flag Cnt', 'Bwd IAT Min', 'Init Bwd Win Byts', 'Bwd IAT Tot', 'Fwd IAT Mean', 'Fwd Pkt Len Mean', 'Bwd Pkt Len Mean', 'Bwd URG Flags', 'Fwd Pkt Len Std'], 'Adv sample 348': ['Bwd IAT Min', 'Bwd IAT Mean', 'Bwd IAT Max', 'Fwd Pkts/b Avg', 'Init Bwd Win Byts', 'Down/Up Ratio', 'Bwd Pkts/s', 'Fwd IAT Min', 'Idle Max', 'Pkt Len Min'], 'Adv sample 349': ['Bwd Pkts/s', 'Fwd IAT Min', 'Down/Up Ratio', 'Subflow Bwd Byts', 'Bwd Pkt Len Min', 'Bwd PSH Flags', 'Init Bwd Win Byts', 'Idle Mean', 'Flow Duration', 'Tot Fwd Pkts'], 'Adv sample 350': ['Bwd IAT Mean', 'Bwd IAT Min', 'Init Bwd Win Byts', 'Fwd Pkts/b Avg', 'Down/Up Ratio', 'Pkt Len Min', 'Fwd Header Len', 'Fwd Blk Rate Avg', 'Bwd IAT Max', 'Bwd Pkt Len Max'], 'Adv sample 351': ['SYN Flag Cnt', 'Bwd IAT Mean', 'Fwd IAT Min', 'Fwd Byts/b Avg', 'Bwd Pkts/b Avg', 'Init Bwd Win Byts', 'Bwd IAT Std', 'Flow Pkts/s', 'Fwd Pkts/b Avg', 'Bwd IAT Min'], 'Adv sample 352': ['SYN Flag Cnt', 'Fwd IAT Min', 'Bwd IAT Mean', 'Fwd Byts/b Avg', 'Init Bwd Win Byts', 'Fwd Pkts/b Avg', 'Bwd IAT Tot', 'Bwd Pkt Len Min', 'Fwd IAT Mean', 'Pkt Len Mean'], 'Adv sample 353': ['ACK Flag Cnt', 'Active Mean', 'Active Max', 'Flow IAT Std', 'Flow IAT Mean', 'Fwd IAT Max', 'Init Bwd Win Byts', 'Pkt Len Min', 'Bwd URG Flags', 'Idle Mean'], 'Adv sample 354': ['SYN Flag Cnt', 'Bwd IAT Mean', 'Fwd IAT Min', 'Fwd Byts/b Avg', 'Bwd IAT Max', 'Fwd IAT Mean', 'Idle Std', 'Bwd Pkt Len Max', 'Flow Byts/s', 'Init Bwd Win Byts'], 'Adv sample 355': ['SYN Flag Cnt', 'Bwd IAT Mean', 'Fwd IAT Min', 'Fwd Byts/b Avg', 'Subflow Bwd Byts', 'Bwd Pkts/b Avg', 'Fwd Pkt Len Min', 'Flow Byts/s', 'Bwd Header Len', 'Fwd Pkts/b Avg'], 'Adv sample 356': ['Bwd IAT Min', 'Bwd IAT Mean', 'Bwd IAT Max', 'Init Bwd Win Byts', 'Fwd Pkts/b Avg', 'Bwd Header Len', 'Pkt Len Min', 'Subflow Fwd Pkts', 'Active Std', 'Pkt Len Max'], 'Adv sample 357': ['Bwd IAT Min', 'Bwd IAT Mean', 'Bwd IAT Max', 'Init Bwd Win Byts', 'Pkt Len Min', 'Pkt Size Avg', 'Fwd Pkts/b Avg', 'Subflow Bwd Byts', 'Fwd Blk Rate Avg', 'Down/Up Ratio'], 'Adv sample 358': ['ACK Flag Cnt', 'Active Mean', 'Active Max', 'Flow IAT Std', 'Init Bwd Win Byts', 'Flow IAT Mean', 'Fwd Act Data Pkts', 'Bwd PSH Flags', 'Subflow Bwd Byts', 'Flow Pkts/s'], 'Adv sample 359': ['SYN Flag Cnt', 'Fwd IAT Min', 'Fwd IAT Mean', 'Fwd Byts/b Avg', 'Init Bwd Win Byts', 'Bwd Pkts/s', 'Flow Pkts/s', 'Fwd Pkts/b Avg', 'Bwd Pkt Len Min', 'Flow Duration'], 'Adv sample 360': ['Bwd IAT Min', 'Bwd IAT Mean', 'Init Bwd Win Byts', 'Fwd Pkts/b Avg', 'Fwd Blk Rate Avg', 'Fwd IAT Mean', 'Pkt Len Min', 'Flow Pkts/s', 'Flow IAT Min', 'Subflow Bwd Pkts'], 'Adv sample 361': ['ACK Flag Cnt', 'Idle Std', 'Init Bwd Win Byts', 'Pkt Len Min', 'Bwd IAT Tot', 'Down/Up Ratio', 'Bwd Byts/b Avg', 'Bwd Pkts/b Avg', 'Bwd Pkt Len Min', 'Bwd IAT Min'], 'Adv sample 362': ['SYN Flag Cnt', 'Bwd IAT Mean', 'Fwd IAT Min', 'Init Bwd Win Byts', 'Bwd IAT Max', 'Bwd Pkts/s', 'Fwd Byts/b Avg', 'Bwd Pkts/b Avg', 'Pkt Len Min', 'Fwd Pkt Len Max'], 'Adv sample 363': ['ACK Flag Cnt', 'Idle Std', 'Init Bwd Win Byts', 'Down/Up Ratio', 'Pkt Len Min', 'Bwd IAT Tot', 'Bwd Pkt Len Min', 'Bwd Pkts/b Avg', 'Bwd Byts/b Avg', 'Fwd Pkt Len Mean'], 'Adv sample 364': ['ACK Flag Cnt', 'Active Mean', 'Active Max', 'Flow IAT Std', 'Pkt Len Min', 'Init Bwd Win Byts', 'Pkt Len Max', 'Fwd Act Data Pkts', 'Flow IAT Mean', 'Bwd Pkt Len Max'], 'Adv sample 365': ['Bwd Pkts/s', 'Fwd IAT Min', 'Bwd Pkt Len Mean', 'Bwd PSH Flags', 'TotLen Fwd Pkts', 'Init Bwd Win Byts', 'Pkt Len Min', 'PSH Flag Cnt', 'Pkt Size Avg', 'Subflow Bwd Byts'], 'Adv sample 366': ['SYN Flag Cnt', 'Bwd IAT Mean', 'Fwd IAT Min', 'Fwd Byts/b Avg', 'Bwd Pkts/b Avg', 'Init Bwd Win Byts', 'Flow Duration', 'Fwd Pkts/s', 'TotLen Bwd Pkts', 'Flow IAT Min'], 'Adv sample 367': ['URG Flag Cnt', 'FIN Flag Cnt', 'Idle Min', 'Bwd URG Flags', 'Fwd IAT Mean', 'Down/Up Ratio', 'Init Bwd Win Byts', 'Fwd Header Len', 'Subflow Bwd Pkts', 'Active Max'], 'Adv sample 368': ['SYN Flag Cnt', 'Bwd IAT Mean', 'Fwd IAT Min', 'Init Bwd Win Byts', 'Bwd IAT Max', 'Fwd Byts/b Avg', 'Bwd Pkts/s', 'Bwd Pkts/b Avg', 'Pkt Len Mean', 'Fwd IAT Mean'], 'Adv sample 369': ['ACK Flag Cnt', 'Active Mean', 'Flow IAT Std', 'Active Max', 'Flow IAT Mean', 'Init Bwd Win Byts', 'Bwd IAT Max', 'PSH Flag Cnt', 'Bwd Pkts/s', 'Bwd Pkt Len Max'], 'Adv sample 370': ['Bwd IAT Min', 'Bwd IAT Mean', 'Fwd Pkts/b Avg', 'Fwd IAT Mean', 'Init Bwd Win Byts', 'Flow Pkts/s', 'Pkt Len Min', 'Fwd Blk Rate Avg', 'Down/Up Ratio', 'Bwd Pkt Len Min'], 'Adv sample 371': ['Bwd Pkts/s', 'Fwd IAT Min', 'Init Bwd Win Byts', 'Fwd Pkt Len Mean', 'Pkt Len Max', 'Bwd Pkt Len Std', 'Idle Mean', 'Tot Fwd Pkts', 'Bwd IAT Min', 'Bwd Pkt Len Mean'], 'Adv sample 372': ['Bwd IAT Mean', 'Bwd IAT Min', 'Fwd Pkts/b Avg', 'Fwd Blk Rate Avg', 'Init Bwd Win Byts', 'Pkt Len Min', 'Down/Up Ratio', 'Pkt Len Mean', 'Pkt Len Max', 'Fwd Pkt Len Max'], 'Adv sample 373': ['Bwd IAT Min', 'Bwd IAT Mean', 'Fwd Blk Rate Avg', 'Init Bwd Win Byts', 'Fwd IAT Mean', 'Fwd Pkts/b Avg', 'Pkt Len Min', 'Down/Up Ratio', 'Flow Pkts/s', 'Pkt Len Std'], 'Adv sample 374': ['Bwd IAT Min', 'Bwd IAT Mean', 'Init Bwd Win Byts', 'Fwd Pkts/b Avg', 'Fwd Blk Rate Avg', 'Pkt Len Min', 'Fwd IAT Mean', 'Down/Up Ratio', 'Flow Pkts/s', 'Bwd Pkt Len Max'], 'Adv sample 375': ['Bwd IAT Min', 'Bwd IAT Mean', 'Init Bwd Win Byts', 'Fwd Pkts/b Avg', 'Fwd Blk Rate Avg', 'Fwd IAT Mean', 'Down/Up Ratio', 'Flow Pkts/s', 'Pkt Len Min', 'Pkt Len Mean'], 'Adv sample 376': ['Bwd IAT Min', 'Bwd IAT Mean', 'Bwd IAT Max', 'Bwd Pkts/s', 'Fwd Pkts/b Avg', 'Init Bwd Win Byts', 'Pkt Len Max', 'Bwd Pkt Len Min', 'Pkt Len Min', 'Subflow Bwd Byts'], 'Adv sample 377': ['Bwd IAT Min', 'Bwd IAT Mean', 'Bwd IAT Max', 'Bwd Pkts/s', 'Init Bwd Win Byts', 'Pkt Len Min', 'Fwd Blk Rate Avg', 'Flow Pkts/s', 'Fwd Pkts/b Avg', 'Fwd Pkt Len Min'], 'Adv sample 378': ['Bwd IAT Min', 'Bwd IAT Mean', 'Bwd IAT Max', 'Fwd Pkts/b Avg', 'Init Bwd Win Byts', 'Bwd Pkts/s', 'Pkt Len Min', 'Flow Pkts/s', 'Subflow Fwd Byts', 'Bwd Pkt Len Mean'], 'Adv sample 379': ['SYN Flag Cnt', 'Bwd IAT Mean', 'Fwd IAT Min', 'Fwd Byts/b Avg', 'Init Bwd Win Byts', 'Bwd IAT Max', 'Fwd Pkts/b Avg', 'Fwd Pkts/s', 'Fwd Header Len', 'Bwd IAT Std'], 'Adv sample 380': ['Bwd IAT Min', 'Bwd IAT Mean', 'Fwd Blk Rate Avg', 'Fwd IAT Mean', 'Fwd Pkts/b Avg', 'Init Bwd Win Byts', 'Down/Up Ratio', 'Pkt Len Min', 'Bwd PSH Flags', 'Flow Pkts/s'], 'Adv sample 381': ['Bwd Pkts/s', 'Fwd IAT Min', 'Init Bwd Win Byts', 'Idle Max', 'Idle Std', 'Bwd URG Flags', 'Bwd IAT Mean', 'Subflow Bwd Pkts', 'Fwd Pkt Len Min', 'Flow Duration'], 'Adv sample 382': ['ACK Flag Cnt', 'Active Mean', 'Flow IAT Std', 'Active Max', 'Init Bwd Win Byts', 'Flow IAT Mean', 'Bwd Pkt Len Max', 'Flow Byts/s', 'Active Min', 'Subflow Fwd Pkts'], 'Adv sample 383': ['SYN Flag Cnt', 'Bwd IAT Mean', 'Fwd IAT Min', 'Init Bwd Win Byts', 'Bwd IAT Max', 'Fwd Byts/b Avg', 'Bwd Pkts/b Avg', 'Bwd Pkts/s', 'Fwd IAT Mean', 'Bwd IAT Tot'], 'Adv sample 384': ['SYN Flag Cnt', 'Bwd IAT Mean', 'Fwd IAT Min', 'Init Bwd Win Byts', 'Bwd IAT Max', 'Fwd Byts/b Avg', 'Bwd Pkts/s', 'Bwd Pkts/b Avg', 'Pkt Len Min', 'Bwd Pkt Len Std'], 'Adv sample 385': ['Bwd IAT Min', 'Bwd IAT Mean', 'Bwd IAT Max', 'Init Bwd Win Byts', 'Bwd Pkts/s', 'Fwd Pkts/b Avg', 'Down/Up Ratio', 'Fwd IAT Mean', 'Active Min', 'Pkt Len Min'], 'Adv sample 386': ['ACK Flag Cnt', 'Bwd IAT Min', 'Fwd IAT Mean', 'Idle Max', 'Init Bwd Win Byts', 'Bwd Pkts/s', 'Pkt Len Std', 'Fwd Pkt Len Max', 'Bwd Seg Size Avg', 'Fwd Pkt Len Std'], 'Adv sample 387': ['SYN Flag Cnt', 'Bwd IAT Mean', 'Fwd IAT Min', 'Init Bwd Win Byts', 'Bwd IAT Max', 'Fwd Byts/b Avg', 'Bwd Pkts/s', 'Bwd Pkts/b Avg', 'Bwd Pkt Len Min', 'Pkt Len Max'], 'Adv sample 388': ['ACK Flag Cnt', 'Active Mean', 'Active Max', 'Init Bwd Win Byts', 'Bwd Pkt Len Mean', 'Flow IAT Std', 'Flow IAT Mean', 'Pkt Len Mean', 'Fwd Act Data Pkts', 'Tot Fwd Pkts'], 'Adv sample 389': ['Bwd Pkts/s', 'Fwd IAT Min', 'Pkt Size Avg', 'Init Bwd Win Byts', 'Bwd Pkt Len Min', 'Pkt Len Min', 'Idle Min', 'Active Mean', 'Subflow Bwd Pkts', 'Subflow Bwd Byts'], 'Adv sample 390': ['ACK Flag Cnt', 'Active Mean', 'Active Max', 'Flow IAT Mean', 'Flow IAT Std', 'Init Bwd Win Byts', 'Fwd Seg Size Avg', 'Bwd IAT Min', 'Fwd IAT Mean', 'Subflow Bwd Pkts'], 'Adv sample 391': ['Bwd Pkts/s', 'Init Bwd Win Byts', 'Fwd IAT Min', 'Pkt Len Max', 'Subflow Bwd Byts', 'Down/Up Ratio', 'Pkt Size Avg', 'Flow Duration', 'Tot Fwd Pkts', 'Tot Bwd Pkts'], 'Adv sample 392': ['SYN Flag Cnt', 'Bwd IAT Mean', 'Fwd IAT Min', 'Init Bwd Win Byts', 'Bwd IAT Max', 'Bwd Pkts/b Avg', 'Fwd Byts/b Avg', 'URG Flag Cnt', 'Bwd Pkt Len Min', 'Bwd Pkts/s'], 'Adv sample 393': ['SYN Flag Cnt', 'Bwd IAT Mean', 'Fwd IAT Min', 'Fwd Byts/b Avg', 'Init Bwd Win Byts', 'Bwd Pkts/b Avg', 'Fwd Pkts/b Avg', 'Flow Duration', 'Active Max', 'Fwd Seg Size Avg'], 'Adv sample 394': ['Bwd IAT Min', 'Bwd IAT Mean', 'Init Bwd Win Byts', 'Fwd Pkts/b Avg', 'Fwd Blk Rate Avg', 'Fwd IAT Mean', 'Down/Up Ratio', 'Fwd Pkt Len Min', 'Flow Pkts/s', 'Tot Fwd Pkts'], 'Adv sample 395': ['ACK Flag Cnt', 'Idle Std', 'Init Bwd Win Byts', 'Down/Up Ratio', 'Pkt Len Min', 'Bwd Pkts/b Avg', 'Bwd IAT Tot', 'Bwd Byts/b Avg', 'Bwd PSH Flags', 'Active Max'], 'Adv sample 396': ['Bwd IAT Mean', 'Bwd IAT Min', 'Down/Up Ratio', 'Fwd Pkts/b Avg', 'Pkt Len Min', 'Fwd Blk Rate Avg', 'Fwd Seg Size Avg', 'Init Bwd Win Byts', 'Bwd Pkt Len Min', 'Fwd Pkt Len Std'], 'Adv sample 397': ['SYN Flag Cnt', 'Bwd IAT Mean', 'Fwd IAT Min', 'Bwd IAT Max', 'Bwd IAT Tot', 'Fwd Byts/b Avg', 'Fwd Pkt Len Min', 'Pkt Len Mean', 'Bwd Header Len', 'Init Bwd Win Byts'], 'Adv sample 398': ['SYN Flag Cnt', 'Bwd IAT Mean', 'Fwd IAT Min', 'Fwd Byts/b Avg', 'Init Bwd Win Byts', 'Bwd Pkts/b Avg', 'Fwd Pkts/b Avg', 'Pkt Len Min', 'Subflow Bwd Pkts', 'Fwd IAT Mean'], 'Adv sample 399': ['Bwd Pkts/s', 'Fwd IAT Min', 'Pkt Len Max', 'Subflow Fwd Byts', 'Init Bwd Win Byts', 'Fwd Pkt Len Std', 'Bwd Header Len', 'Pkt Len Std', 'Flow Duration', 'Tot Fwd Pkts'], 'Adv sample 400': ['Bwd IAT Min', 'Bwd IAT Mean', 'Fwd Pkts/b Avg', 'Init Bwd Win Byts', 'Fwd IAT Mean', 'Down/Up Ratio', 'Pkt Len Min', 'Fwd Blk Rate Avg', 'Flow Pkts/s', 'Subflow Bwd Byts'], 'Adv sample 401': ['SYN Flag Cnt', 'Bwd IAT Mean', 'Init Bwd Win Byts', 'Fwd IAT Min', 'Bwd IAT Max', 'Fwd Byts/b Avg', 'Bwd IAT Tot', 'Bwd Pkts/s', 'Fwd Pkt Len Std', 'Bwd Pkt Len Mean'], 'Adv sample 402': ['Bwd IAT Min', 'Bwd IAT Mean', 'Bwd IAT Max', 'Init Bwd Win Byts', 'Bwd Pkts/s', 'Fwd Pkts/b Avg', 'Bwd Pkt Len Mean', 'Subflow Fwd Byts', 'Subflow Bwd Pkts', 'Idle Min'], 'Adv sample 403': ['Bwd IAT Min', 'Bwd IAT Mean', 'Init Bwd Win Byts', 'Fwd Pkts/b Avg', 'Fwd Blk Rate Avg', 'Fwd IAT Mean', 'Flow Pkts/s', 'Pkt Len Min', 'Down/Up Ratio', 'Bwd Pkt Len Min'], 'Adv sample 404': ['Bwd Pkts/s', 'Fwd IAT Min', 'Init Bwd Win Byts', 'Bwd Header Len', 'Down/Up Ratio', 'Pkt Len Min', 'Pkt Len Std', 'Pkt Len Mean', 'Pkt Size Avg', 'Subflow Fwd Pkts'], 'Adv sample 405': ['SYN Flag Cnt', 'Fwd IAT Mean', 'Fwd IAT Min', 'Fwd Byts/b Avg', 'Bwd Pkts/s', 'Flow Pkts/s', 'Init Bwd Win Byts', 'Pkt Len Min', 'URG Flag Cnt', 'Fwd Pkts/b Avg'], 'Adv sample 406': ['ACK Flag Cnt', 'Active Mean', 'Active Max', 'Flow IAT Std', 'Flow IAT Mean', 'Init Bwd Win Byts', 'Pkt Len Min', 'Bwd Pkt Len Min', 'Pkt Len Mean', 'Subflow Bwd Pkts'], 'Adv sample 407': ['ACK Flag Cnt', 'Idle Std', 'Init Bwd Win Byts', 'Bwd IAT Tot', 'Down/Up Ratio', 'Pkt Len Min', 'Bwd Pkts/b Avg', 'Bwd Pkt Len Min', 'Bwd Byts/b Avg', 'Pkt Len Mean'], 'Adv sample 408': ['SYN Flag Cnt', 'Bwd IAT Mean', 'Init Bwd Win Byts', 'Fwd IAT Min', 'Bwd IAT Max', 'Fwd Byts/b Avg', 'Bwd Pkts/s', 'URG Flag Cnt', 'Idle Std', 'Bwd Pkt Len Max'], 'Adv sample 409': ['Bwd IAT Min', 'Bwd IAT Max', 'Bwd IAT Mean', 'Init Bwd Win Byts', 'Bwd Pkts/s', 'Pkt Len Min', 'Idle Min', 'Fwd Blk Rate Avg', 'Fwd Pkts/b Avg', 'Bwd URG Flags'], 'Adv sample 410': ['Bwd IAT Min', 'Bwd IAT Mean', 'Bwd IAT Max', 'Init Bwd Win Byts', 'Fwd Pkts/b Avg', 'Bwd Pkts/s', 'URG Flag Cnt', 'Down/Up Ratio', 'Pkt Len Var', 'Bwd Pkt Len Min'], 'Adv sample 411': ['SYN Flag Cnt', 'Bwd IAT Mean', 'Fwd IAT Min', 'Init Bwd Win Byts', 'Bwd IAT Max', 'Bwd Pkts/b Avg', 'Fwd Byts/b Avg', 'Pkt Len Max', 'Down/Up Ratio', 'Pkt Len Min'], 'Adv sample 412': ['SYN Flag Cnt', 'Bwd IAT Mean', 'Fwd IAT Min', 'Init Bwd Win Byts', 'Bwd IAT Max', 'Fwd Byts/b Avg', 'Bwd Pkts/s', 'Bwd IAT Tot', 'TotLen Bwd Pkts', 'Flow IAT Std'], 'Adv sample 413': ['Bwd IAT Std', 'Fwd IAT Min', 'Init Bwd Win Byts', 'Bwd Seg Size Avg', 'Active Min', 'Bwd PSH Flags', 'Bwd Pkts/b Avg', 'Bwd Pkt Len Mean', 'Flow IAT Std', 'Bwd IAT Min'], 'Adv sample 414': ['SYN Flag Cnt', 'Bwd IAT Mean', 'Fwd IAT Min', 'Bwd IAT Max', 'Init Bwd Win Byts', 'Fwd Byts/b Avg', 'Bwd IAT Tot', 'Bwd Pkts/s', 'Subflow Bwd Byts', 'Pkt Len Min'], 'Adv sample 415': ['ACK Flag Cnt', 'Active Mean', 'Active Max', 'Flow IAT Std', 'Flow IAT Mean', 'Bwd Pkt Len Max', 'Pkt Len Mean', 'Init Bwd Win Byts', 'Bwd PSH Flags', 'Fwd Pkt Len Max'], 'Adv sample 416': ['SYN Flag Cnt', 'Bwd IAT Mean', 'Fwd IAT Min', 'Fwd Byts/b Avg', 'Bwd IAT Max', 'Init Bwd Win Byts', 'Fwd IAT Mean', 'Subflow Bwd Pkts', 'Down/Up Ratio', 'Bwd Pkt Len Mean'], 'Adv sample 417': ['Bwd Pkts/s', 'Fwd IAT Min', 'Fwd Pkt Len Std', 'Flow IAT Max', 'Init Bwd Win Byts', 'Fwd Act Data Pkts', 'Bwd Pkt Len Min', 'Idle Min', 'Bwd Pkt Len Mean', 'Flow Duration'], 'Adv sample 418': ['Bwd IAT Min', 'Bwd IAT Mean', 'Bwd IAT Max', 'Fwd Pkts/b Avg', 'Init Bwd Win Byts', 'Down/Up Ratio', 'Pkt Len Min', 'Bwd Pkt Len Std', 'Bwd Pkts/s', 'Fwd Pkt Len Std'], 'Adv sample 419': ['Bwd IAT Tot', 'SYN Flag Cnt', 'Bwd Byts/b Avg', 'Init Bwd Win Byts', 'Bwd Pkts/b Avg', 'Pkt Len Min', 'Flow IAT Mean', 'FIN Flag Cnt', 'Active Mean', 'Fwd IAT Tot'], 'Adv sample 420': ['ACK Flag Cnt', 'Idle Std', 'Init Bwd Win Byts', 'Down/Up Ratio', 'Bwd Pkts/b Avg', 'Bwd IAT Tot', 'Bwd Byts/b Avg', 'Pkt Len Min', 'Flow Duration', 'Pkt Len Std'], 'Adv sample 421': ['Bwd Pkts/s', 'Fwd IAT Min', 'Idle Mean', 'Init Bwd Win Byts', 'Pkt Len Mean', 'TotLen Fwd Pkts', 'Tot Bwd Pkts', 'Fwd Pkt Len Std', 'Down/Up Ratio', 'Flow Duration'], 'Adv sample 422': ['SYN Flag Cnt', 'Bwd IAT Mean', 'Fwd IAT Min', 'Fwd Byts/b Avg', 'Fwd Pkt Len Min', 'Fwd Pkt Len Mean', 'Bwd Pkt Len Min', 'Init Bwd Win Byts', 'Subflow Fwd Pkts', 'Bwd IAT Max'], 'Adv sample 423': ['SYN Flag Cnt', 'Bwd IAT Mean', 'Fwd IAT Min', 'Bwd IAT Max', 'Fwd IAT Mean', 'Fwd Byts/b Avg', 'Init Bwd Win Byts', 'Pkt Len Min', 'Fwd Pkts/b Avg', 'Bwd Pkt Len Max'], 'Adv sample 424': ['SYN Flag Cnt', 'Bwd IAT Mean', 'Fwd IAT Min', 'Fwd Byts/b Avg', 'Bwd Pkt Len Max', 'Fwd Pkts/b Avg', 'Subflow Bwd Byts', 'TotLen Bwd Pkts', 'FIN Flag Cnt', 'Init Bwd Win Byts'], 'Adv sample 425': ['Bwd IAT Min', 'Bwd IAT Mean', 'Init Bwd Win Byts', 'Fwd Pkts/b Avg', 'Fwd IAT Mean', 'Flow Pkts/s', 'Pkt Len Min', 'Fwd Blk Rate Avg', 'Bwd Pkt Len Std', 'Bwd Header Len'], 'Adv sample 426': ['Bwd IAT Min', 'Bwd IAT Mean', 'Bwd IAT Max', 'Init Bwd Win Byts', 'Fwd Pkts/b Avg', 'Bwd Pkt Len Min', 'Bwd Pkts/s', 'Down/Up Ratio', 'Flow IAT Min', 'Flow Pkts/s'], 'Adv sample 427': ['ACK Flag Cnt', 'Bwd IAT Min', 'Bwd IAT Mean', 'Bwd IAT Max', 'Init Bwd Win Byts', 'Bwd Pkts/s', 'Fwd IAT Mean', 'Bwd Pkt Len Min', 'Flow Pkts/s', 'Fwd Pkts/b Avg'], 'Adv sample 428': ['ACK Flag Cnt', 'Bwd IAT Mean', 'Bwd IAT Min', 'Bwd IAT Max', 'Init Bwd Win Byts', 'Bwd Pkts/s', 'Flow Pkts/s', 'Fwd Pkts/b Avg', 'Fwd IAT Mean', 'Pkt Len Min'], 'Adv sample 429': ['URG Flag Cnt', 'FIN Flag Cnt', 'Fwd IAT Mean', 'Bwd URG Flags', 'Idle Min', 'Init Bwd Win Byts', 'Pkt Len Min', 'Fwd Act Data Pkts', 'PSH Flag Cnt', 'Down/Up Ratio'], 'Adv sample 430': ['Bwd IAT Min', 'Bwd IAT Mean', 'Bwd IAT Max', 'Init Bwd Win Byts', 'Bwd Pkts/s', 'Fwd Blk Rate Avg', 'Pkt Len Std', 'Pkt Len Min', 'Fwd Pkts/b Avg', 'Flow Pkts/s'], 'Adv sample 431': ['Bwd IAT Min', 'Bwd IAT Mean', 'Fwd Pkts/b Avg', 'Init Bwd Win Byts', 'Fwd IAT Mean', 'Down/Up Ratio', 'Fwd Blk Rate Avg', 'Pkt Len Min', 'Flow IAT Mean', 'Idle Max'], 'Adv sample 432': ['SYN Flag Cnt', 'Bwd IAT Mean', 'Fwd IAT Min', 'Init Bwd Win Byts', 'Fwd Byts/b Avg', 'Bwd Pkts/b Avg', 'Subflow Bwd Byts', 'Bwd Pkt Len Min', 'Pkt Len Min', 'Subflow Fwd Byts'], 'Adv sample 433': ['ACK Flag Cnt', 'Idle Std', 'Init Bwd Win Byts', 'Down/Up Ratio', 'Bwd IAT Tot', 'Pkt Len Min', 'Bwd Pkt Len Min', 'Bwd Pkts/b Avg', 'Pkt Len Std', 'Pkt Size Avg'], 'Adv sample 434': ['Bwd IAT Mean', 'Bwd IAT Min', 'Init Bwd Win Byts', 'Fwd Pkts/b Avg', 'Down/Up Ratio', 'Bwd Pkt Len Std', 'Pkt Len Min', 'Fwd Blk Rate Avg', 'Pkt Len Std', 'Pkt Size Avg'], 'Adv sample 435': ['ACK Flag Cnt', 'Bwd IAT Min', 'Bwd IAT Mean', 'Bwd IAT Max', 'Init Bwd Win Byts', 'Bwd Pkts/s', 'Fwd Pkts/b Avg', 'Flow Pkts/s', 'Fwd IAT Mean', 'Pkt Size Avg'], 'Adv sample 436': ['SYN Flag Cnt', 'Fwd IAT Min', 'Fwd IAT Mean', 'Fwd Byts/b Avg', 'Fwd Pkts/b Avg', 'Fwd IAT Std', 'Flow Pkts/s', 'Init Bwd Win Byts', 'Bwd Pkts/s', 'Pkt Len Min'], 'Adv sample 437': ['Bwd IAT Min', 'Bwd IAT Mean', 'Fwd Pkts/b Avg', 'Fwd Blk Rate Avg', 'Init Bwd Win Byts', 'Fwd IAT Mean', 'Flow Pkts/s', 'Down/Up Ratio', 'Pkt Len Min', 'Bwd Pkt Len Std'], 'Adv sample 438': ['SYN Flag Cnt', 'Bwd IAT Mean', 'Fwd IAT Min', 'Bwd IAT Max', 'Fwd Byts/b Avg', 'Fwd IAT Mean', 'Pkt Len Std', 'Init Bwd Win Byts', 'Pkt Len Min', 'TotLen Bwd Pkts'], 'Adv sample 439': ['Bwd IAT Mean', 'Bwd IAT Min', 'Fwd Pkts/b Avg', 'Init Bwd Win Byts', 'Pkt Len Min', 'Bwd Pkt Len Max', 'Bwd PSH Flags', 'Idle Min', 'Fwd Blk Rate Avg', 'TotLen Bwd Pkts'], 'Adv sample 440': ['Bwd IAT Min', 'Bwd IAT Mean', 'Init Bwd Win Byts', 'Fwd Pkts/b Avg', 'Flow Pkts/s', 'Fwd Blk Rate Avg', 'Pkt Len Min', 'Fwd IAT Mean', 'Down/Up Ratio', 'Bwd Pkts/s'], 'Adv sample 441': ['Bwd Pkts/s', 'Init Bwd Win Byts', 'Fwd IAT Min', 'Idle Std', 'Fwd Header Len', 'Flow Duration', 'Tot Fwd Pkts', 'TotLen Fwd Pkts', 'TotLen Bwd Pkts', 'Fwd Pkt Len Max'], 'Adv sample 442': ['ACK Flag Cnt', 'Active Mean', 'Active Max', 'Flow IAT Std', 'Init Bwd Win Byts', 'TotLen Bwd Pkts', 'Pkt Len Min', 'Flow IAT Mean', 'Tot Bwd Pkts', 'Bwd Pkt Len Min'], 'Adv sample 443': ['Bwd IAT Mean', 'Bwd IAT Min', 'Bwd IAT Max', 'Bwd IAT Tot', 'Fwd Byts/b Avg', 'Active Min', 'Active Mean', 'Init Bwd Win Byts', 'Bwd Pkts/b Avg', 'Bwd Pkt Len Max'], 'Adv sample 444': ['ACK Flag Cnt', 'Active Mean', 'Active Max', 'Flow IAT Std', 'Init Bwd Win Byts', 'Flow IAT Mean', 'TotLen Fwd Pkts', 'Pkt Len Max', 'Pkt Len Min', 'Fwd IAT Max'], 'Adv sample 445': ['ACK Flag Cnt', 'Bwd IAT Min', 'Fwd IAT Mean', 'Idle Max', 'Init Bwd Win Byts', 'Fwd Pkt Len Std', 'Pkt Len Mean', 'Active Min', 'Pkt Len Std', 'Pkt Len Min'], 'Adv sample 446': ['ACK Flag Cnt', 'Bwd IAT Mean', 'Bwd IAT Min', 'Bwd IAT Max', 'Bwd Pkts/s', 'Init Bwd Win Byts', 'Fwd IAT Mean', 'Flow Pkts/s', 'Pkt Len Min', 'Fwd IAT Min'], 'Adv sample 447': ['Bwd IAT Max', 'Bwd IAT Min', 'Bwd IAT Mean', 'ACK Flag Cnt', 'Init Bwd Win Byts', 'Bwd Pkts/s', 'Fwd IAT Mean', 'Subflow Bwd Byts', 'Bwd Pkt Len Min', 'Fwd Pkts/b Avg'], 'Adv sample 448': ['ACK Flag Cnt', 'Bwd IAT Min', 'Bwd IAT Mean', 'Bwd IAT Max', 'Bwd Pkts/s', 'Init Bwd Win Byts', 'Flow Pkts/s', 'Fwd Pkts/b Avg', 'Subflow Fwd Byts', 'Pkt Len Max'], 'Adv sample 449': ['Bwd IAT Min', 'Bwd IAT Mean', 'Fwd Pkts/b Avg', 'Fwd IAT Mean', 'Init Bwd Win Byts', 'Down/Up Ratio', 'Pkt Len Min', 'Flow IAT Max', 'Fwd Act Data Pkts', 'Fwd Pkt Len Min'], 'Adv sample 450': ['ACK Flag Cnt', 'Bwd IAT Min', 'Bwd IAT Mean', 'Bwd IAT Max', 'Bwd Pkts/s', 'Init Bwd Win Byts', 'Flow Pkts/s', 'Down/Up Ratio', 'Fwd IAT Mean', 'Fwd Pkt Len Min'], 'Adv sample 451': ['Bwd IAT Min', 'Bwd IAT Mean', 'Fwd IAT Mean', 'Fwd Pkts/b Avg', 'Init Bwd Win Byts', 'Pkt Len Min', 'Flow Duration', 'Down/Up Ratio', 'Bwd Pkt Len Min', 'PSH Flag Cnt'], 'Adv sample 452': ['SYN Flag Cnt', 'Bwd IAT Mean', 'Fwd IAT Min', 'Bwd IAT Max', 'Init Bwd Win Byts', 'Fwd Byts/b Avg', 'Bwd Pkts/b Avg', 'Bwd Pkt Len Min', 'Pkt Len Min', 'Fwd IAT Mean'], 'Adv sample 453': ['Bwd IAT Min', 'Bwd IAT Mean', 'Bwd IAT Max', 'Bwd Pkts/s', 'Init Bwd Win Byts', 'Down/Up Ratio', 'Fwd Pkts/b Avg', 'Fwd Blk Rate Avg', 'Flow Pkts/s', 'Pkt Len Min'], 'Adv sample 454': ['Bwd IAT Min', 'Bwd IAT Mean', 'Bwd IAT Max', 'Init Bwd Win Byts', 'Bwd Pkts/s', 'Fwd Pkts/b Avg', 'Fwd Blk Rate Avg', 'Fwd Act Data Pkts', 'Flow Pkts/s', 'Fwd IAT Mean'], 'Adv sample 455': ['Bwd IAT Mean', 'Bwd IAT Min', 'Fwd Pkts/b Avg', 'Init Bwd Win Byts', 'Pkt Len Min', 'TotLen Bwd Pkts', 'Pkt Len Max', 'Tot Fwd Pkts', 'Down/Up Ratio', 'Bwd Pkt Len Mean'], 'Adv sample 456': ['Bwd IAT Min', 'Bwd IAT Mean', 'Bwd IAT Max', 'Init Bwd Win Byts', 'Fwd Pkts/b Avg', 'Bwd Pkts/s', 'Flow Pkts/s', 'Bwd Pkt Len Max', 'Flow IAT Max', 'Bwd Pkt Len Min'], 'Adv sample 457': ['ACK Flag Cnt', 'Idle Std', 'Init Bwd Win Byts', 'Bwd IAT Tot', 'Pkt Len Min', 'Down/Up Ratio', 'Bwd Pkts/b Avg', 'Bwd Byts/b Avg', 'Flow IAT Std', 'Pkt Len Max'], 'Adv sample 458': ['Bwd IAT Min', 'Bwd IAT Mean', 'Bwd IAT Max', 'Init Bwd Win Byts', 'Fwd Pkts/b Avg', 'Pkt Len Min', 'Flow Pkts/s', 'Bwd PSH Flags', 'Bwd Pkts/s', 'Pkt Size Avg'], 'Adv sample 459': ['Bwd IAT Min', 'Bwd IAT Mean', 'Fwd Pkts/b Avg', 'Init Bwd Win Byts', 'Fwd IAT Mean', 'Fwd Blk Rate Avg', 'Flow Pkts/s', 'Bwd Pkt Len Min', 'Pkt Len Min', 'Down/Up Ratio'], 'Adv sample 460': ['Idle Std', 'ACK Flag Cnt', 'Bwd Byts/b Avg', 'Init Bwd Win Byts', 'Pkt Len Min', 'Flow IAT Std', 'Idle Min', 'Fwd IAT Max', 'Idle Max', 'Bwd Header Len'], 'Adv sample 461': ['Bwd Pkts/s', 'Fwd IAT Min', 'Down/Up Ratio', 'Init Bwd Win Byts', 'Subflow Fwd Byts', 'TotLen Fwd Pkts', 'Pkt Len Min', 'Pkt Len Std', 'Active Min', 'Pkt Size Avg'], 'Adv sample 462': ['ACK Flag Cnt', 'Bwd IAT Min', 'Bwd IAT Mean', 'Bwd IAT Max', 'Bwd Pkts/s', 'Init Bwd Win Byts', 'Fwd IAT Mean', 'Flow Pkts/s', 'Flow Duration', 'Fwd Pkts/b Avg'], 'Adv sample 463': ['ACK Flag Cnt', 'Active Mean', 'Active Max', 'Flow IAT Std', 'Flow IAT Mean', 'Init Bwd Win Byts', 'Pkt Len Min', 'Bwd Pkt Len Max', 'Pkt Size Avg', 'Subflow Bwd Byts'], 'Adv sample 464': ['SYN Flag Cnt', 'Bwd IAT Mean', 'Fwd IAT Min', 'Init Bwd Win Byts', 'Bwd IAT Max', 'Bwd Pkt Len Min', 'Bwd Pkts/s', 'Fwd Byts/b Avg', 'Bwd Pkts/b Avg', 'Bwd URG Flags'], 'Adv sample 465': ['SYN Flag Cnt', 'Bwd IAT Mean', 'Fwd IAT Min', 'Fwd Byts/b Avg', 'Bwd IAT Max', 'Pkt Len Min', 'Pkt Len Var', 'Bwd Pkt Len Min', 'Bwd IAT Tot', 'Bwd Pkt Len Mean'], 'Adv sample 466': ['Bwd IAT Min', 'ACK Flag Cnt', 'Bwd IAT Max', 'Bwd IAT Mean', 'Init Bwd Win Byts', 'Bwd Pkts/s', 'Fwd IAT Mean', 'Bwd Pkt Len Mean', 'Flow IAT Std', 'Idle Std'], 'Adv sample 467': ['ACK Flag Cnt', 'Bwd IAT Min', 'Bwd IAT Mean', 'Bwd IAT Max', 'Init Bwd Win Byts', 'Bwd Pkts/s', 'Flow Pkts/s', 'Pkt Len Mean', 'Fwd Pkts/b Avg', 'Fwd IAT Mean'], 'Adv sample 468': ['Bwd Pkts/s', 'Fwd IAT Min', 'Init Bwd Win Byts', 'Down/Up Ratio', 'Pkt Len Mean', 'Tot Fwd Pkts', 'Pkt Size Avg', 'TotLen Bwd Pkts', 'Subflow Fwd Pkts', 'Bwd Pkt Len Max'], 'Adv sample 469': ['SYN Flag Cnt', 'Bwd IAT Mean', 'Fwd IAT Min', 'Fwd Byts/b Avg', 'Pkt Len Var', 'Tot Bwd Pkts', 'Bwd Pkts/b Avg', 'URG Flag Cnt', 'Flow IAT Std', 'Bwd Pkts/s'], 'Adv sample 470': ['ACK Flag Cnt', 'Bwd IAT Min', 'Bwd IAT Mean', 'Bwd IAT Max', 'Init Bwd Win Byts', 'Bwd Pkts/s', 'Fwd IAT Mean', 'Fwd Pkts/b Avg', 'Flow Pkts/s', 'Fwd Act Data Pkts'], 'Adv sample 471': ['SYN Flag Cnt', 'Bwd IAT Mean', 'Fwd IAT Min', 'Fwd Byts/b Avg', 'Init Bwd Win Byts', 'Bwd Pkts/b Avg', 'Flow Byts/s', 'Flow IAT Mean', 'Flow Duration', 'Bwd Header Len'], 'Adv sample 472': ['Bwd IAT Min', 'Bwd IAT Mean', 'Bwd IAT Max', 'Fwd Pkts/b Avg', 'Bwd Pkts/s', 'Fwd Blk Rate Avg', 'Flow Pkts/s', 'Init Bwd Win Byts', 'Down/Up Ratio', 'Pkt Len Min'], 'Adv sample 473': ['Bwd IAT Min', 'Bwd IAT Mean', 'Bwd IAT Max', 'Bwd Pkts/s', 'Init Bwd Win Byts', 'Fwd Pkts/b Avg', 'Bwd Pkt Len Min', 'Bwd IAT Std', 'Fwd Blk Rate Avg', 'Active Mean'], 'Adv sample 474': ['SYN Flag Cnt', 'Fwd IAT Min', 'Fwd IAT Mean', 'Init Bwd Win Byts', 'Fwd Byts/b Avg', 'Flow Pkts/s', 'Bwd Pkts/s', 'Pkt Len Min', 'Bwd Header Len', 'Active Min'], 'Adv sample 475': ['ACK Flag Cnt', 'Active Mean', 'Active Max', 'Flow IAT Std', 'Flow IAT Mean', 'Bwd Pkt Len Min', 'Init Bwd Win Byts', 'Fwd Pkt Len Max', 'Flow Pkts/s', 'Pkt Len Mean'], 'Adv sample 476': ['Bwd Pkts/s', 'Fwd IAT Min', 'Init Bwd Win Byts', 'Pkt Len Min', 'Active Mean', 'Fwd Header Len', 'Bwd Header Len', 'Fwd Pkts/b Avg', 'Down/Up Ratio', 'Tot Bwd Pkts'], 'Adv sample 477': ['ACK Flag Cnt', 'Bwd IAT Min', 'Bwd IAT Mean', 'Bwd IAT Max', 'Bwd Pkts/s', 'Init Bwd Win Byts', 'Flow Pkts/s', 'Fwd IAT Mean', 'Fwd Pkt Len Mean', 'Fwd Pkts/b Avg'], 'Adv sample 478': ['Bwd IAT Min', 'Bwd IAT Mean', 'Bwd IAT Max', 'Init Bwd Win Byts', 'Fwd Pkts/b Avg', 'Bwd Pkts/s', 'Pkt Len Min', 'Down/Up Ratio', 'Fwd Pkt Len Mean', 'Fwd Seg Size Avg'], 'Adv sample 479': ['ACK Flag Cnt', 'Idle Std', 'Init Bwd Win Byts', 'Bwd Pkts/b Avg', 'Bwd IAT Tot', 'Down/Up Ratio', 'Pkt Len Min', 'Bwd Byts/b Avg', 'Subflow Bwd Byts', 'Pkt Size Avg'], 'Adv sample 480': ['ACK Flag Cnt', 'Idle Std', 'Init Bwd Win Byts', 'Down/Up Ratio', 'Pkt Len Min', 'Bwd IAT Tot', 'Bwd Byts/b Avg', 'Bwd Pkts/b Avg', 'Flow IAT Max', 'Bwd IAT Min'], 'Adv sample 481': ['ACK Flag Cnt', 'Bwd IAT Min', 'Bwd IAT Mean', 'Bwd IAT Max', 'Bwd Pkts/s', 'Fwd IAT Mean', 'Flow Pkts/s', 'Init Bwd Win Byts', 'Pkt Len Min', 'Bwd Pkt Len Std'], 'Adv sample 482': ['ACK Flag Cnt', 'Bwd IAT Min', 'Bwd IAT Mean', 'Bwd IAT Max', 'Bwd Pkts/s', 'Init Bwd Win Byts', 'Fwd IAT Mean', 'Flow Pkts/s', 'Fwd Pkts/b Avg', 'Pkt Len Mean'], 'Adv sample 483': ['SYN Flag Cnt', 'Bwd IAT Mean', 'Fwd IAT Min', 'Fwd Byts/b Avg', 'Bwd IAT Max', 'Init Bwd Win Byts', 'Pkt Len Max', 'Bwd IAT Tot', 'Fwd IAT Mean', 'Bwd Pkt Len Min'], 'Adv sample 484': ['Bwd IAT Min', 'Bwd IAT Mean', 'Bwd IAT Max', 'Bwd Pkts/s', 'Init Bwd Win Byts', 'Fwd Pkts/b Avg', 'Down/Up Ratio', 'Bwd Pkt Len Min', 'Fwd Blk Rate Avg', 'Flow Pkts/s'], 'Adv sample 485': ['SYN Flag Cnt', 'Bwd IAT Mean', 'Fwd IAT Min', 'Bwd IAT Max', 'Init Bwd Win Byts', 'Bwd Pkts/s', 'Fwd Byts/b Avg', 'Subflow Fwd Pkts', 'Bwd IAT Tot', 'Pkt Len Min'], 'Adv sample 486': ['Bwd IAT Mean', 'Bwd IAT Min', 'Init Bwd Win Byts', 'Down/Up Ratio', 'Fwd Pkts/b Avg', 'Pkt Len Min', 'Fwd Blk Rate Avg', 'Fwd Pkt Len Max', 'Active Min', 'Fwd Pkt Len Min'], 'Adv sample 487': ['Bwd IAT Min', 'Bwd IAT Mean', 'Bwd IAT Max', 'Init Bwd Win Byts', 'Bwd Pkts/s', 'Pkt Len Min', 'Fwd Pkts/b Avg', 'Flow Pkts/s', 'Tot Bwd Pkts', 'Down/Up Ratio'], 'Adv sample 488': ['Bwd IAT Min', 'Bwd IAT Mean', 'Bwd IAT Max', 'Init Bwd Win Byts', 'Fwd Pkts/b Avg', 'Bwd Pkts/s', 'Pkt Len Min', 'Down/Up Ratio', 'Fwd IAT Mean', 'Flow IAT Std'], 'Adv sample 489': ['Bwd IAT Min', 'Bwd IAT Mean', 'Bwd IAT Max', 'Init Bwd Win Byts', 'Fwd Pkts/b Avg', 'Pkt Len Min', 'Tot Bwd Pkts', 'Idle Std', 'Idle Min', 'Down/Up Ratio'], 'Adv sample 490': ['Bwd IAT Min', 'Bwd IAT Mean', 'Bwd IAT Max', 'Init Bwd Win Byts', 'Fwd Pkts/b Avg', 'Bwd Pkts/s', 'Idle Mean', 'Flow Pkts/s', 'Tot Bwd Pkts', 'Pkt Len Min'], 'Adv sample 491': ['Bwd Pkts/s', 'Fwd IAT Min', 'Tot Fwd Pkts', 'Init Bwd Win Byts', 'Fwd Pkt Len Max', 'Bwd IAT Min', 'Fwd Pkts/b Avg', 'Bwd IAT Tot', 'Flow Duration', 'Tot Bwd Pkts'], 'Adv sample 492': ['Bwd IAT Min', 'Bwd IAT Mean', 'Bwd IAT Max', 'Init Bwd Win Byts', 'Fwd Pkts/b Avg', 'Bwd Pkts/s', 'Pkt Len Min', 'Down/Up Ratio', 'Bwd Pkt Len Std', 'Bwd Pkt Len Min'], 'Adv sample 493': ['SYN Flag Cnt', 'Fwd IAT Min', 'Fwd IAT Mean', 'Bwd Pkts/s', 'Init Bwd Win Byts', 'Fwd Byts/b Avg', 'Flow Pkts/s', 'Bwd Pkts/b Avg', 'Pkt Len Min', 'Active Min'], 'Adv sample 494': ['Bwd IAT Min', 'Bwd IAT Mean', 'Bwd IAT Max', 'Init Bwd Win Byts', 'Fwd Pkts/b Avg', 'Down/Up Ratio', 'Flow Pkts/s', 'Bwd Pkts/s', 'Pkt Size Avg', 'Pkt Len Min'], 'Adv sample 495': ['Bwd IAT Min', 'Bwd IAT Mean', 'Bwd IAT Max', 'Bwd Pkts/s', 'Init Bwd Win Byts', 'Down/Up Ratio', 'Active Max', 'Fwd Pkts/b Avg', 'URG Flag Cnt', 'Bwd Seg Size Avg'], 'Adv sample 496': ['SYN Flag Cnt', 'Bwd IAT Mean', 'Fwd IAT Min', 'Init Bwd Win Byts', 'Bwd IAT Max', 'Bwd Pkts/s', 'Fwd Byts/b Avg', 'Flow IAT Max', 'Fwd IAT Mean', 'Pkt Len Min'], 'Adv sample 497': ['SYN Flag Cnt', 'Bwd IAT Mean', 'Fwd IAT Min', 'Init Bwd Win Byts', 'Bwd IAT Max', 'Bwd Pkts/b Avg', 'Fwd Byts/b Avg', 'Down/Up Ratio', 'Bwd IAT Tot', 'Tot Fwd Pkts'], 'Adv sample 498': ['SYN Flag Cnt', 'Bwd IAT Mean', 'Fwd IAT Min', 'Init Bwd Win Byts', 'Bwd IAT Max', 'Fwd Byts/b Avg', 'Bwd Pkts/s', 'Bwd Pkts/b Avg', 'Bwd IAT Tot', 'TotLen Bwd Pkts'], 'Adv sample 499': ['SYN Flag Cnt', 'Bwd IAT Mean', 'Fwd IAT Min', 'Bwd IAT Max', 'Init Bwd Win Byts', 'Fwd IAT Mean', 'Fwd Byts/b Avg', 'Bwd Pkts/b Avg', 'Bwd IAT Tot', 'Pkt Len Min'], 'Adv sample 500': ['Bwd IAT Min', 'Bwd IAT Mean', 'Bwd IAT Max', 'Bwd Pkts/s', 'Init Bwd Win Byts', 'Flow Pkts/s', 'Pkt Len Min', 'Fwd Pkts/b Avg', 'Fwd Blk Rate Avg', 'Active Std'], 'Adv sample 501': ['SYN Flag Cnt', 'Bwd IAT Mean', 'Fwd IAT Min', 'Init Bwd Win Byts', 'Bwd IAT Max', 'Bwd IAT Tot', 'Bwd Pkts/s', 'Bwd Pkts/b Avg', 'Fwd Byts/b Avg', 'Fwd Pkt Len Mean'], 'Adv sample 502': ['Bwd IAT Min', 'Bwd IAT Mean', 'Init Bwd Win Byts', 'Fwd Pkts/b Avg', 'Fwd IAT Mean', 'Fwd Blk Rate Avg', 'Pkt Len Min', 'Bwd Pkt Len Min', 'Down/Up Ratio', 'Flow Pkts/s'], 'Adv sample 503': ['SYN Flag Cnt', 'Bwd IAT Min', 'Fwd Blk Rate Avg', 'Flow Pkts/s', 'Flow IAT Mean', 'Bwd Pkts/s', 'Pkt Len Min', 'Fwd Byts/b Avg', 'Idle Max', 'Pkt Len Std'], 'Adv sample 504': ['Bwd Pkts/s', 'Fwd IAT Min', 'Init Bwd Win Byts', 'Flow IAT Max', 'Bwd Pkt Len Min', 'Tot Fwd Pkts', 'URG Flag Cnt', 'Pkt Size Avg', 'Fwd Header Len', 'Bwd IAT Max'], 'Adv sample 505': ['Bwd IAT Min', 'Bwd IAT Mean', 'Bwd IAT Max', 'Init Bwd Win Byts', 'Bwd Pkts/s', 'Pkt Len Min', 'Down/Up Ratio', 'Flow Pkts/s', 'Fwd Pkts/b Avg', 'Idle Min'], 'Adv sample 506': ['ACK Flag Cnt', 'Idle Std', 'Init Bwd Win Byts', 'Bwd IAT Tot', 'Bwd Pkts/b Avg', 'Down/Up Ratio', 'Pkt Len Min', 'Bwd Byts/b Avg', 'Fwd IAT Mean', 'Flow IAT Max'], 'Adv sample 507': ['Bwd Pkts/s', 'Fwd IAT Min', 'Bwd PSH Flags', 'Init Bwd Win Byts', 'Subflow Fwd Pkts', 'Tot Bwd Pkts', 'Flow Byts/s', 'Pkt Len Min', 'Pkt Len Max', 'Down/Up Ratio'], 'Adv sample 508': ['SYN Flag Cnt', 'Bwd IAT Mean', 'Fwd IAT Min', 'Fwd Byts/b Avg', 'Pkt Len Var', 'Init Bwd Win Byts', 'Tot Fwd Pkts', 'Flow Pkts/s', 'Active Min', 'Fwd IAT Mean'], 'Adv sample 509': ['SYN Flag Cnt', 'Bwd IAT Mean', 'Fwd IAT Min', 'Bwd IAT Max', 'Init Bwd Win Byts', 'Fwd Byts/b Avg', 'Pkt Len Max', 'Subflow Fwd Pkts', 'Subflow Fwd Byts', 'Flow Pkts/s'], 'Adv sample 510': ['ACK Flag Cnt', 'Idle Std', 'Init Bwd Win Byts', 'Down/Up Ratio', 'Bwd IAT Tot', 'Pkt Len Min', 'Bwd Pkts/b Avg', 'Flow IAT Std', 'Bwd Byts/b Avg', 'Pkt Len Std'], 'Adv sample 511': ['SYN Flag Cnt', 'Bwd IAT Mean', 'Fwd IAT Min', 'Init Bwd Win Byts', 'Bwd IAT Max', 'Fwd Byts/b Avg', 'Bwd Pkts/s', 'Fwd IAT Mean', 'Bwd IAT Tot', 'Pkt Len Min'], 'Adv sample 512': ['Idle Std', 'ACK Flag Cnt', 'Init Bwd Win Byts', 'Bwd Byts/b Avg', 'Pkt Len Min', 'Bwd Pkts/b Avg', 'Flow IAT Max', 'Bwd IAT Mean', 'Bwd Pkt Len Min', 'Pkt Len Mean'], 'Adv sample 513': ['SYN Flag Cnt', 'Bwd IAT Mean', 'Fwd IAT Min', 'Fwd Byts/b Avg', 'Fwd Act Data Pkts', 'Fwd Pkt Len Min', 'Flow IAT Max', 'Bwd Pkt Len Std', 'Active Mean', 'Bwd PSH Flags'], 'Adv sample 514': ['SYN Flag Cnt', 'Bwd IAT Mean', 'Fwd IAT Min', 'Bwd IAT Max', 'Init Bwd Win Byts', 'Bwd Pkts/s', 'Bwd Pkts/b Avg', 'Fwd Byts/b Avg', 'Bwd IAT Tot', 'Fwd Pkt Len Std'], 'Adv sample 515': ['Bwd IAT Min', 'Bwd IAT Mean', 'Bwd IAT Max', 'Init Bwd Win Byts', 'Fwd Pkts/b Avg', 'Fwd IAT Mean', 'Bwd Pkts/s', 'Down/Up Ratio', 'Flow Pkts/s', 'Pkt Len Std'], 'Adv sample 516': ['Bwd IAT Min', 'ACK Flag Cnt', 'Bwd IAT Mean', 'Bwd IAT Max', 'Init Bwd Win Byts', 'Fwd Pkt Len Mean', 'Fwd IAT Mean', 'Bwd Pkts/s', 'Down/Up Ratio', 'Bwd Pkt Len Min'], 'Adv sample 517': ['Bwd IAT Mean', 'Bwd IAT Min', 'Fwd Pkts/b Avg', 'Down/Up Ratio', 'Init Bwd Win Byts', 'Bwd Pkt Len Min', 'Fwd Blk Rate Avg', 'Pkt Len Min', 'Pkt Len Std', 'Bwd Pkt Len Mean'], 'Adv sample 518': ['SYN Flag Cnt', 'Bwd IAT Mean', 'Fwd IAT Min', 'Fwd Byts/b Avg', 'Init Bwd Win Byts', 'URG Flag Cnt', 'Fwd Pkts/b Avg', 'Flow IAT Max', 'TotLen Fwd Pkts', 'Flow Pkts/s'], 'Adv sample 519': ['SYN Flag Cnt', 'Bwd IAT Mean', 'Fwd IAT Min', 'Fwd Byts/b Avg', 'Bwd Pkt Len Min', 'Init Bwd Win Byts', 'Bwd PSH Flags', 'Bwd IAT Std', 'Flow IAT Max', 'Fwd Pkts/b Avg'], 'Adv sample 520': ['SYN Flag Cnt', 'Bwd IAT Mean', 'Fwd IAT Min', 'Init Bwd Win Byts', 'Fwd Byts/b Avg', 'Bwd IAT Max', 'Pkt Len Min', 'Active Std', 'Bwd IAT Tot', 'Pkt Len Mean'], 'Adv sample 521': ['ACK Flag Cnt', 'Active Mean', 'Flow IAT Std', 'Active Max', 'Flow IAT Mean', 'Init Bwd Win Byts', 'Fwd Seg Size Avg', 'Fwd Pkt Len Max', 'Flow IAT Min', 'Pkt Size Avg'], 'Adv sample 522': ['Bwd IAT Min', 'Bwd IAT Max', 'Bwd IAT Mean', 'Init Bwd Win Byts', 'Bwd Pkts/s', 'Fwd Pkts/b Avg', 'Pkt Len Min', 'Flow Byts/s', 'Down/Up Ratio', 'Fwd Blk Rate Avg'], 'Adv sample 523': ['Bwd IAT Min', 'Bwd IAT Mean', 'Bwd IAT Max', 'Init Bwd Win Byts', 'Fwd Pkts/b Avg', 'Bwd Pkts/s', 'Down/Up Ratio', 'Pkt Len Min', 'Fwd Pkt Len Max', 'Subflow Bwd Pkts'], 'Adv sample 524': ['Bwd IAT Min', 'Bwd IAT Mean', 'Bwd IAT Max', 'Init Bwd Win Byts', 'Fwd Pkts/b Avg', 'Pkt Len Min', 'Flow Pkts/s', 'Bwd URG Flags', 'Down/Up Ratio', 'Fwd Header Len'], 'Adv sample 525': ['ACK Flag Cnt', 'Active Mean', 'Active Max', 'Flow IAT Std', 'Flow IAT Mean', 'Init Bwd Win Byts', 'Pkt Size Avg', 'Bwd Pkt Len Max', 'Tot Bwd Pkts', 'Fwd IAT Min'], 'Adv sample 526': ['Bwd IAT Min', 'ACK Flag Cnt', 'Bwd IAT Max', 'Bwd IAT Mean', 'Init Bwd Win Byts', 'Flow Pkts/s', 'Idle Min', 'Fwd Pkts/b Avg', 'Idle Max', 'Pkt Len Min'], 'Adv sample 527': ['SYN Flag Cnt', 'Bwd IAT Mean', 'Fwd IAT Min', 'Init Bwd Win Byts', 'Bwd IAT Max', 'Flow IAT Max', 'Fwd Byts/b Avg', 'Down/Up Ratio', 'Bwd Pkt Len Min', 'Bwd Pkts/s'], 'Adv sample 528': ['SYN Flag Cnt', 'Bwd IAT Mean', 'Fwd IAT Min', 'Fwd Byts/b Avg', 'Init Bwd Win Byts', 'Bwd Pkts/s', 'Pkt Len Min', 'Subflow Bwd Pkts', 'Flow Pkts/s', 'Bwd Pkt Len Std'], 'Adv sample 529': ['Bwd Pkts/s', 'Init Bwd Win Byts', 'Fwd IAT Min', 'Down/Up Ratio', 'Pkt Len Mean', 'Pkt Len Min', 'Pkt Len Std', 'Fwd Pkt Len Max', 'Active Min', 'TotLen Bwd Pkts'], 'Adv sample 530': ['SYN Flag Cnt', 'Fwd IAT Min', 'Bwd IAT Mean', 'Init Bwd Win Byts', 'Fwd Byts/b Avg', 'Fwd Pkts/b Avg', 'Fwd IAT Mean', 'Active Min', 'Active Mean', 'Down/Up Ratio'], 'Adv sample 531': ['Fwd IAT Min', 'Bwd Pkts/s', 'Init Bwd Win Byts', 'Bwd Seg Size Avg', 'Idle Max', 'Bwd Pkt Len Max', 'Pkt Len Mean', 'Active Mean', 'Flow Duration', 'Tot Fwd Pkts'], 'Adv sample 532': ['Bwd IAT Min', 'Bwd IAT Mean', 'Bwd IAT Max', 'Init Bwd Win Byts', 'Bwd Pkts/s', 'Fwd Pkts/b Avg', 'Fwd Blk Rate Avg', 'Down/Up Ratio', 'Pkt Len Min', 'Fwd IAT Mean'], 'Adv sample 533': ['ACK Flag Cnt', 'Bwd IAT Min', 'Bwd IAT Mean', 'Bwd IAT Max', 'Bwd Pkts/s', 'Init Bwd Win Byts', 'Fwd IAT Mean', 'Flow Pkts/s', 'Flow IAT Std', 'Fwd Pkts/b Avg'], 'Adv sample 534': ['SYN Flag Cnt', 'Bwd IAT Mean', 'Fwd IAT Min', 'Fwd Byts/b Avg', 'Fwd Act Data Pkts', 'Fwd Pkts/b Avg', 'Init Bwd Win Byts', 'Flow Pkts/s', 'Pkt Len Min', 'Flow Byts/s'], 'Adv sample 535': ['Bwd IAT Min', 'Bwd IAT Mean', 'Init Bwd Win Byts', 'Fwd Blk Rate Avg', 'Fwd Pkts/b Avg', 'Fwd IAT Mean', 'Down/Up Ratio', 'Pkt Len Min', 'Bwd Pkt Len Min', 'Fwd Pkt Len Max'], 'Adv sample 536': ['SYN Flag Cnt', 'Bwd IAT Mean', 'Fwd IAT Min', 'Init Bwd Win Byts', 'Fwd Byts/b Avg', 'Bwd IAT Max', 'Bwd Pkts/s', 'Pkt Size Avg', 'Bwd IAT Tot', 'TotLen Fwd Pkts'], 'Adv sample 537': ['ACK Flag Cnt', 'Active Mean', 'Active Max', 'Flow IAT Std', 'Flow IAT Mean', 'Init Bwd Win Byts', 'Bwd Header Len', 'Bwd Pkt Len Std', 'Tot Fwd Pkts', 'Pkt Len Mean'], 'Adv sample 538': ['SYN Flag Cnt', 'Bwd IAT Mean', 'Fwd IAT Min', 'Init Bwd Win Byts', 'Bwd IAT Max', 'Fwd Byts/b Avg', 'Bwd Pkts/s', 'Pkt Len Min', 'Bwd Pkts/b Avg', 'Fwd IAT Mean'], 'Adv sample 539': ['SYN Flag Cnt', 'Bwd IAT Mean', 'Fwd IAT Min', 'Bwd IAT Max', 'Init Bwd Win Byts', 'Bwd Pkts/s', 'Fwd Byts/b Avg', 'Fwd IAT Mean', 'Bwd IAT Tot', 'Pkt Len Min'], 'Adv sample 540': ['Bwd IAT Min', 'Bwd IAT Mean', 'Bwd IAT Max', 'Init Bwd Win Byts', 'Fwd Pkts/b Avg', 'Bwd Pkt Len Max', 'Fwd IAT Mean', 'Pkt Len Max', 'Down/Up Ratio', 'Fwd Seg Size Avg'], 'Adv sample 541': ['Bwd IAT Min', 'Bwd IAT Mean', 'Init Bwd Win Byts', 'Fwd Pkts/b Avg', 'Pkt Size Avg', 'Fwd Blk Rate Avg', 'Bwd Pkt Len Max', 'Down/Up Ratio', 'Pkt Len Max', 'Fwd Pkt Len Mean'], 'Adv sample 542': ['Bwd IAT Min', 'Bwd IAT Mean', 'Bwd IAT Max', 'Fwd Pkts/b Avg', 'Init Bwd Win Byts', 'Bwd Pkts/s', 'Pkt Len Min', 'Down/Up Ratio', 'Fwd IAT Mean', 'Subflow Bwd Pkts'], 'Adv sample 543': ['Bwd IAT Min', 'Bwd IAT Mean', 'Bwd IAT Max', 'Init Bwd Win Byts', 'Bwd Pkts/s', 'Pkt Len Min', 'Fwd Pkts/b Avg', 'Flow Pkts/s', 'Fwd Blk Rate Avg', 'Fwd IAT Mean'], 'Adv sample 544': ['ACK Flag Cnt', 'Bwd IAT Min', 'Bwd IAT Mean', 'Bwd IAT Max', 'Init Bwd Win Byts', 'Bwd Pkts/s', 'Flow Pkts/s', 'Fwd IAT Mean', 'Fwd Pkts/b Avg', 'Idle Std'], 'Adv sample 545': ['SYN Flag Cnt', 'Bwd IAT Mean', 'Fwd IAT Min', 'Fwd Byts/b Avg', 'Bwd IAT Max', 'Init Bwd Win Byts', 'Bwd IAT Tot', 'Bwd Pkts/b Avg', 'Bwd Pkts/s', 'Fwd IAT Mean'], 'Adv sample 546': ['Bwd IAT Min', 'Bwd IAT Mean', 'Bwd IAT Max', 'Bwd Pkts/s', 'Init Bwd Win Byts', 'Fwd Pkts/b Avg', 'Pkt Len Mean', 'Pkt Len Min', 'Bwd Pkt Len Min', 'Active Max'], 'Adv sample 547': ['Bwd IAT Min', 'Bwd IAT Mean', 'Fwd Pkts/b Avg', 'Fwd IAT Mean', 'Pkt Len Min', 'Init Bwd Win Byts', 'Down/Up Ratio', 'Flow Pkts/s', 'Idle Max', 'Subflow Fwd Pkts'], 'Adv sample 548': ['Bwd IAT Mean', 'Bwd IAT Min', 'Fwd Pkts/b Avg', 'Init Bwd Win Byts', 'Down/Up Ratio', 'Fwd Blk Rate Avg', 'URG Flag Cnt', 'Flow Byts/s', 'Idle Min', 'Pkt Len Min'], 'Adv sample 549': ['Bwd IAT Mean', 'Bwd IAT Min', 'Fwd Pkts/b Avg', 'Init Bwd Win Byts', 'Down/Up Ratio', 'Pkt Len Min', 'Bwd PSH Flags', 'Fwd Blk Rate Avg', 'Pkt Len Max', 'Idle Std'], 'Adv sample 550': ['ACK Flag Cnt', 'Active Mean', 'Active Max', 'Flow IAT Std', 'Flow IAT Mean', 'Init Bwd Win Byts', 'Bwd PSH Flags', 'PSH Flag Cnt', 'Pkt Size Avg', 'Flow Pkts/s'], 'Adv sample 551': ['ACK Flag Cnt', 'Active Mean', 'Active Max', 'Flow IAT Std', 'Flow IAT Mean', 'Init Bwd Win Byts', 'Tot Fwd Pkts', 'Bwd Pkt Len Std', 'Tot Bwd Pkts', 'Fwd Seg Size Avg'], 'Adv sample 552': ['Bwd IAT Min', 'Bwd IAT Mean', 'Init Bwd Win Byts', 'Fwd Pkts/b Avg', 'Pkt Len Min', 'Fwd Blk Rate Avg', 'Fwd IAT Mean', 'PSH Flag Cnt', 'Down/Up Ratio', 'Bwd Pkt Len Min'], 'Adv sample 553': ['Bwd Pkts/s', 'Fwd IAT Min', 'Init Bwd Win Byts', 'Pkt Size Avg', 'Fwd Seg Size Avg', 'Fwd Act Data Pkts', 'Pkt Len Max', 'Idle Min', 'Bwd IAT Min', 'Fwd Header Len'], 'Adv sample 554': ['Bwd IAT Min', 'Bwd IAT Mean', 'Init Bwd Win Byts', 'Fwd Pkts/b Avg', 'Fwd Blk Rate Avg', 'Fwd IAT Mean', 'Down/Up Ratio', 'Flow Pkts/s', 'Pkt Len Std', 'Pkt Len Min'], 'Adv sample 555': ['Bwd IAT Min', 'Bwd IAT Mean', 'Bwd IAT Max', 'Init Bwd Win Byts', 'Bwd Pkts/s', 'Fwd Pkts/b Avg', 'Down/Up Ratio', 'Pkt Len Min', 'Pkt Len Mean', 'Bwd Pkt Len Std'], 'Adv sample 556': ['ACK Flag Cnt', 'Bwd IAT Mean', 'Bwd IAT Min', 'Bwd IAT Max', 'Bwd Pkts/s', 'Init Bwd Win Byts', 'Flow Pkts/s', 'Bwd Seg Size Avg', 'Flow Duration', 'Bwd Pkt Len Max'], 'Adv sample 557': ['ACK Flag Cnt', 'Bwd IAT Min', 'Bwd IAT Mean', 'Bwd IAT Max', 'Init Bwd Win Byts', 'Bwd Pkts/s', 'Flow Pkts/s', 'Fwd Pkts/b Avg', 'Bwd Header Len', 'Down/Up Ratio'], 'Adv sample 558': ['ACK Flag Cnt', 'Bwd IAT Min', 'Bwd IAT Mean', 'Bwd IAT Max', 'Init Bwd Win Byts', 'Bwd Pkts/s', 'Flow Pkts/s', 'Fwd IAT Mean', 'Fwd Pkts/b Avg', 'Pkt Size Avg'], 'Adv sample 559': ['ACK Flag Cnt', 'Bwd IAT Min', 'Bwd IAT Mean', 'Bwd IAT Max', 'Bwd Pkts/s', 'Init Bwd Win Byts', 'Fwd Pkts/b Avg', 'Flow Pkts/s', 'Fwd IAT Mean', 'Pkt Len Max'], 'Adv sample 560': ['SYN Flag Cnt', 'Bwd IAT Mean', 'Fwd IAT Min', 'Bwd IAT Max', 'Init Bwd Win Byts', 'Bwd Pkts/b Avg', 'Pkt Len Min', 'Fwd Byts/b Avg', 'Fwd Pkt Len Mean', 'Bwd Pkts/s'], 'Adv sample 561': ['ACK Flag Cnt', 'Bwd IAT Min', 'Fwd IAT Mean', 'Idle Max', 'Init Bwd Win Byts', 'Tot Fwd Pkts', 'Bwd Header Len', 'Bwd Pkt Len Std', 'Bwd IAT Max', 'Flow IAT Mean'], 'Adv sample 562': ['Bwd Pkts/s', 'Fwd IAT Min', 'Init Bwd Win Byts', 'Fwd Pkt Len Std', 'Pkt Len Mean', 'Fwd Pkt Len Min', 'Pkt Len Std', 'Tot Fwd Pkts', 'Tot Bwd Pkts', 'TotLen Bwd Pkts'], 'Adv sample 563': ['Bwd IAT Min', 'Bwd IAT Mean', 'Bwd IAT Max', 'Init Bwd Win Byts', 'Fwd Pkts/b Avg', 'Fwd IAT Mean', 'Bwd URG Flags', 'Idle Mean', 'Pkt Len Min', 'Down/Up Ratio'], 'Adv sample 564': ['ACK Flag Cnt', 'Idle Std', 'Init Bwd Win Byts', 'Bwd IAT Tot', 'Bwd Pkts/b Avg', 'Down/Up Ratio', 'Bwd Byts/b Avg', 'Pkt Len Min', 'Pkt Len Mean', 'Flow Duration'], 'Adv sample 565': ['Bwd IAT Std', 'Fwd IAT Min', 'Init Bwd Win Byts', 'Down/Up Ratio', 'Fwd Pkt Len Std', 'Bwd IAT Tot', 'Idle Mean', 'Fwd Act Data Pkts', 'Pkt Len Max', 'TotLen Fwd Pkts'], 'Adv sample 566': ['SYN Flag Cnt', 'Bwd IAT Mean', 'Fwd IAT Min', 'Init Bwd Win Byts', 'Bwd IAT Max', 'Bwd Pkts/b Avg', 'Fwd Byts/b Avg', 'Bwd IAT Tot', 'Pkt Len Min', 'Subflow Fwd Byts'], 'Adv sample 567': ['SYN Flag Cnt', 'Bwd IAT Mean', 'Fwd IAT Min', 'Init Bwd Win Byts', 'Fwd Byts/b Avg', 'Bwd Pkt Len Min', 'Fwd Pkt Len Min', 'Bwd Pkts/b Avg', 'Fwd Pkts/b Avg', 'Tot Fwd Pkts'], 'Adv sample 568': ['ACK Flag Cnt', 'Active Mean', 'Flow IAT Std', 'Active Max', 'Flow IAT Mean', 'Bwd Seg Size Avg', 'Init Bwd Win Byts', 'Fwd IAT Max', 'Flow Pkts/s', 'Pkt Len Min'], 'Adv sample 569': ['SYN Flag Cnt', 'Fwd IAT Min', 'Bwd IAT Mean', 'Init Bwd Win Byts', 'Bwd IAT Max', 'Fwd Byts/b Avg', 'Bwd Pkts/s', 'Fwd Pkts/b Avg', 'Bwd IAT Tot', 'Subflow Bwd Byts'], 'Adv sample 570': ['SYN Flag Cnt', 'Bwd IAT Mean', 'Fwd IAT Min', 'Init Bwd Win Byts', 'Fwd Byts/b Avg', 'Bwd IAT Max', 'Bwd Pkts/s', 'Fwd IAT Mean', 'Fwd Seg Size Avg', 'Bwd IAT Std'], 'Adv sample 571': ['ACK Flag Cnt', 'Active Mean', 'Active Max', 'Flow IAT Std', 'Flow IAT Mean', 'Fwd Pkt Len Std', 'Init Bwd Win Byts', 'Pkt Len Min', 'Active Min', 'Subflow Bwd Byts'], 'Adv sample 572': ['Bwd IAT Mean', 'Bwd IAT Min', 'Init Bwd Win Byts', 'Fwd Pkts/b Avg', 'Fwd Blk Rate Avg', 'Pkt Len Min', 'Down/Up Ratio', 'Fwd Pkt Len Max', 'Pkt Len Std', 'Active Min'], 'Adv sample 573': ['SYN Flag Cnt', 'Bwd IAT Mean', 'Fwd IAT Min', 'Fwd Byts/b Avg', 'Init Bwd Win Byts', 'Bwd IAT Max', 'Fwd Pkts/b Avg', 'Tot Fwd Pkts', 'Down/Up Ratio', 'Bwd IAT Tot'], 'Adv sample 574': ['Bwd IAT Min', 'Bwd IAT Mean', 'Bwd IAT Max', 'Bwd Pkts/s', 'Init Bwd Win Byts', 'Fwd Pkts/b Avg', 'Pkt Len Min', 'Flow Pkts/s', 'Down/Up Ratio', 'Active Mean'], 'Adv sample 575': ['Bwd IAT Min', 'Bwd IAT Mean', 'Fwd Pkts/b Avg', 'Init Bwd Win Byts', 'Flow Pkts/s', 'Fwd Blk Rate Avg', 'Down/Up Ratio', 'Fwd IAT Mean', 'Pkt Len Min', 'Bwd Seg Size Avg'], 'Adv sample 576': ['ACK Flag Cnt', 'Bwd IAT Min', 'Bwd IAT Mean', 'Bwd IAT Max', 'Init Bwd Win Byts', 'Bwd Pkts/s', 'Fwd Pkts/b Avg', 'Fwd IAT Mean', 'Flow Pkts/s', 'Bwd Pkt Len Min'], 'Adv sample 577': ['SYN Flag Cnt', 'Bwd IAT Mean', 'Fwd IAT Min', 'Init Bwd Win Byts', 'Bwd IAT Max', 'Bwd Pkts/b Avg', 'Fwd Byts/b Avg', 'Fwd IAT Mean', 'Down/Up Ratio', 'Bwd IAT Tot'], 'Adv sample 578': ['ACK Flag Cnt', 'Idle Std', 'Init Bwd Win Byts', 'Pkt Len Min', 'Down/Up Ratio', 'Bwd IAT Tot', 'Bwd Pkts/b Avg', 'Bwd Byts/b Avg', 'Pkt Len Mean', 'Fwd Pkt Len Std'], 'Adv sample 579': ['ACK Flag Cnt', 'Bwd IAT Mean', 'Bwd IAT Min', 'Bwd IAT Max', 'Bwd Pkts/s', 'Init Bwd Win Byts', 'Fwd IAT Mean', 'Pkt Len Min', 'Fwd IAT Min', 'Subflow Fwd Byts'], 'Adv sample 580': ['Bwd IAT Min', 'Bwd IAT Mean', 'Fwd Pkts/b Avg', 'Init Bwd Win Byts', 'Fwd IAT Mean', 'Pkt Len Min', 'Fwd Blk Rate Avg', 'Down/Up Ratio', 'Flow Pkts/s', 'Pkt Len Std'], 'Adv sample 581': ['Bwd IAT Min', 'Bwd IAT Mean', 'Bwd IAT Max', 'Init Bwd Win Byts', 'Fwd Pkts/b Avg', 'Bwd Pkts/s', 'Pkt Len Min', 'Tot Fwd Pkts', 'Bwd Pkt Len Mean', 'Bwd Pkt Len Min'], 'Adv sample 582': ['SYN Flag Cnt', 'Bwd IAT Mean', 'Fwd IAT Min', 'Init Bwd Win Byts', 'Bwd IAT Max', 'Fwd Byts/b Avg', 'Bwd Pkts/s', 'Fwd IAT Mean', 'Pkt Len Min', 'Bwd Pkt Len Std'], 'Adv sample 583': ['ACK Flag Cnt', 'Active Mean', 'Active Max', 'Init Bwd Win Byts', 'Fwd Pkt Len Mean', 'Pkt Len Min', 'Bwd PSH Flags', 'Tot Bwd Pkts', 'Bwd Header Len', 'Flow IAT Std'], 'Adv sample 584': ['Bwd IAT Min', 'Bwd IAT Mean', 'Bwd IAT Max', 'Bwd Pkts/s', 'Init Bwd Win Byts', 'Fwd Pkts/b Avg', 'Pkt Len Min', 'Flow Pkts/s', 'Bwd Header Len', 'Down/Up Ratio'], 'Adv sample 585': ['ACK Flag Cnt', 'Idle Std', 'Init Bwd Win Byts', 'Down/Up Ratio', 'Bwd IAT Tot', 'Pkt Len Min', 'Bwd Byts/b Avg', 'Bwd Pkts/b Avg', 'Bwd Pkt Len Mean', 'Fwd IAT Std'], 'Adv sample 586': ['ACK Flag Cnt', 'Active Mean', 'Active Max', 'Flow IAT Std', 'Flow IAT Mean', 'Pkt Len Min', 'Pkt Len Max', 'Init Bwd Win Byts', 'TotLen Fwd Pkts', 'Tot Bwd Pkts'], 'Adv sample 587': ['ACK Flag Cnt', 'Active Mean', 'Active Max', 'Flow IAT Std', 'Init Bwd Win Byts', 'Flow IAT Mean', 'Pkt Len Var', 'Pkt Len Mean', 'Bwd Header Len', 'Fwd IAT Max'], 'Adv sample 588': ['SYN Flag Cnt', 'Bwd IAT Mean', 'Fwd IAT Min', 'Bwd IAT Max', 'Init Bwd Win Byts', 'Fwd Byts/b Avg', 'Pkt Len Min', 'Bwd Pkt Len Max', 'Pkt Len Max', 'Fwd Pkts/b Avg'], 'Adv sample 589': ['SYN Flag Cnt', 'Bwd IAT Mean', 'Init Bwd Win Byts', 'Fwd IAT Min', 'Bwd IAT Max', 'Bwd Pkts/b Avg', 'Bwd IAT Tot', 'Fwd Byts/b Avg', 'Bwd Seg Size Avg', 'Pkt Len Max'], 'Adv sample 590': ['SYN Flag Cnt', 'Bwd IAT Mean', 'Fwd IAT Min', 'Fwd Byts/b Avg', 'Pkt Len Min', 'Fwd IAT Mean', 'Bwd Pkts/b Avg', 'Fwd Header Len', 'TotLen Fwd Pkts', 'Fwd Pkts/b Avg'], 'Adv sample 591': ['SYN Flag Cnt', 'Bwd IAT Mean', 'Fwd IAT Min', 'Fwd Byts/b Avg', 'Init Bwd Win Byts', 'Tot Bwd Pkts', 'Bwd Pkt Len Min', 'Bwd URG Flags', 'Flow Pkts/s', 'Bwd IAT Max'], 'Adv sample 592': ['SYN Flag Cnt', 'Bwd IAT Mean', 'Fwd IAT Min', 'Init Bwd Win Byts', 'Bwd IAT Max', 'Bwd IAT Tot', 'Fwd Byts/b Avg', 'Pkt Len Min', 'Bwd Pkts/s', 'Subflow Bwd Byts'], 'Adv sample 593': ['SYN Flag Cnt', 'Bwd IAT Mean', 'Fwd IAT Min', 'Fwd Byts/b Avg', 'Init Bwd Win Byts', 'Fwd Pkts/b Avg', 'Fwd IAT Mean', 'Pkt Len Std', 'Bwd IAT Max', 'Down/Up Ratio'], 'Adv sample 594': ['Bwd IAT Min', 'Bwd IAT Mean', 'Bwd IAT Max', 'Init Bwd Win Byts', 'Bwd Pkts/s', 'Flow Pkts/s', 'Fwd Pkts/b Avg', 'Bwd Pkt Len Min', 'Pkt Len Min', 'URG Flag Cnt'], 'Adv sample 595': ['SYN Flag Cnt', 'Bwd IAT Mean', 'Fwd IAT Min', 'Init Bwd Win Byts', 'Bwd IAT Max', 'Bwd Pkts/b Avg', 'Bwd IAT Tot', 'Fwd Byts/b Avg', 'Bwd Pkts/s', 'Fwd Seg Size Avg'], 'Adv sample 596': ['ACK Flag Cnt', 'Bwd IAT Mean', 'Bwd IAT Min', 'Bwd IAT Max', 'Bwd Pkts/s', 'Init Bwd Win Byts', 'Flow Pkts/s', 'Fwd Pkts/b Avg', 'Fwd IAT Mean', 'Pkt Len Min'], 'Adv sample 597': ['Bwd IAT Min', 'Bwd IAT Mean', 'Fwd IAT Mean', 'Fwd Pkts/b Avg', 'Flow Pkts/s', 'Init Bwd Win Byts', 'Down/Up Ratio', 'Bwd PSH Flags', 'Bwd Seg Size Avg', 'Idle Max'], 'Adv sample 598': ['Bwd IAT Min', 'Bwd IAT Mean', 'Bwd IAT Max', 'Fwd Pkts/b Avg', 'Bwd Pkts/s', 'Fwd Blk Rate Avg', 'Init Bwd Win Byts', 'Flow Pkts/s', 'Bwd Pkt Len Max', 'Bwd PSH Flags'], 'Adv sample 599': ['URG Flag Cnt', 'FIN Flag Cnt', 'Fwd IAT Mean', 'Bwd URG Flags', 'Idle Min', 'Down/Up Ratio', 'Init Bwd Win Byts', 'Pkt Len Min', 'Fwd Header Len', 'Bwd Pkt Len Min'], 'Adv sample 600': ['ACK Flag Cnt', 'Active Mean', 'Active Max', 'Flow IAT Std', 'Init Bwd Win Byts', 'Flow IAT Mean', 'Pkt Len Std', 'Pkt Len Min', 'Bwd IAT Min', 'TotLen Fwd Pkts'], 'Adv sample 601': ['Bwd IAT Min', 'Bwd IAT Mean', 'Bwd IAT Max', 'Init Bwd Win Byts', 'Bwd Pkts/s', 'Fwd Pkts/b Avg', 'Pkt Len Min', 'Bwd URG Flags', 'Down/Up Ratio', 'Flow Pkts/s'], 'Adv sample 602': ['Bwd Pkts/s', 'Fwd IAT Min', 'Init Bwd Win Byts', 'Fwd Header Len', 'TotLen Fwd Pkts', 'Bwd Pkt Len Std', 'Bwd URG Flags', 'Pkt Len Min', 'Pkt Len Mean', 'Bwd Header Len'], 'Adv sample 603': ['SYN Flag Cnt', 'Bwd IAT Mean', 'Fwd IAT Min', 'Fwd Byts/b Avg', 'Bwd IAT Max', 'Init Bwd Win Byts', 'Bwd IAT Tot', 'Bwd IAT Std', 'Fwd Pkt Len Min', 'Subflow Fwd Byts'], 'Adv sample 604': ['Bwd IAT Mean', 'Bwd IAT Min', 'Init Bwd Win Byts', 'Fwd Pkts/b Avg', 'Down/Up Ratio', 'Idle Std', 'Bwd Pkt Len Min', 'Pkt Len Min', 'Fwd Blk Rate Avg', 'Idle Mean'], 'Adv sample 605': ['Bwd IAT Min', 'Bwd IAT Mean', 'Bwd IAT Max', 'Init Bwd Win Byts', 'Fwd Pkts/b Avg', 'Flow IAT Min', 'Pkt Len Min', 'Bwd Pkts/s', 'Down/Up Ratio', 'Flow Pkts/s'], 'Adv sample 606': ['SYN Flag Cnt', 'Fwd IAT Min', 'Bwd Pkts/s', 'Fwd Byts/b Avg', 'Init Bwd Win Byts', 'Fwd IAT Mean', 'Flow Pkts/s', 'Down/Up Ratio', 'Active Mean', 'Tot Fwd Pkts'], 'Adv sample 607': ['SYN Flag Cnt', 'Bwd IAT Mean', 'Fwd IAT Min', 'Fwd Byts/b Avg', 'Fwd Pkts/b Avg', 'Fwd IAT Mean', 'Init Bwd Win Byts', 'Bwd Pkt Len Mean', 'Bwd IAT Max', 'Bwd Pkt Len Max'], 'Adv sample 608': ['Bwd IAT Min', 'Bwd IAT Mean', 'Bwd IAT Max', 'Init Bwd Win Byts', 'Bwd Pkts/s', 'Flow Pkts/s', 'Pkt Len Min', 'Fwd Pkts/b Avg', 'Fwd Blk Rate Avg', 'Bwd Pkt Len Min'], 'Adv sample 609': ['SYN Flag Cnt', 'Bwd IAT Mean', 'Fwd IAT Min', 'Init Bwd Win Byts', 'Bwd IAT Max', 'Bwd Pkts/b Avg', 'Bwd Pkts/s', 'Pkt Len Min', 'Fwd Byts/b Avg', 'Pkt Len Std'], 'Adv sample 610': ['Bwd IAT Min', 'Bwd IAT Mean', 'Bwd IAT Max', 'Init Bwd Win Byts', 'Fwd Pkts/b Avg', 'Pkt Len Min', 'Down/Up Ratio', 'Bwd Pkts/s', 'Pkt Len Mean', 'Fwd Pkt Len Max'], 'Adv sample 611': ['SYN Flag Cnt', 'Bwd IAT Mean', 'Fwd IAT Min', 'Init Bwd Win Byts', 'Bwd IAT Max', 'Bwd Pkts/s', 'Fwd Byts/b Avg', 'Fwd IAT Mean', 'Pkt Len Min', 'Active Std'], 'Adv sample 612': ['Bwd IAT Min', 'Bwd IAT Mean', 'Bwd IAT Max', 'Init Bwd Win Byts', 'Fwd Pkts/b Avg', 'Down/Up Ratio', 'Bwd Pkts/s', 'Pkt Len Min', 'Pkt Size Avg', 'Bwd Pkt Len Min'], 'Adv sample 613': ['Bwd IAT Min', 'Bwd IAT Mean', 'Bwd IAT Max', 'Init Bwd Win Byts', 'Fwd Pkts/b Avg', 'Pkt Len Min', 'Down/Up Ratio', 'Tot Fwd Pkts', 'Fwd Pkt Len Mean', 'Pkt Len Mean'], 'Adv sample 614': ['Bwd Pkts/s', 'Fwd IAT Min', 'Init Bwd Win Byts', 'Down/Up Ratio', 'Bwd Seg Size Avg', 'Tot Fwd Pkts', 'Subflow Bwd Pkts', 'Tot Bwd Pkts', 'Flow Duration', 'TotLen Fwd Pkts'], 'Adv sample 615': ['Bwd IAT Min', 'Bwd IAT Mean', 'Bwd IAT Max', 'Init Bwd Win Byts', 'Fwd Pkts/b Avg', 'Bwd Pkts/s', 'Down/Up Ratio', 'Flow Pkts/s', 'Fwd IAT Mean', 'Idle Mean'], 'Adv sample 616': ['SYN Flag Cnt', 'Bwd IAT Mean', 'Fwd IAT Min', 'Fwd Byts/b Avg', 'Fwd Pkts/b Avg', 'Init Bwd Win Byts', 'Fwd IAT Mean', 'Bwd IAT Max', 'Bwd IAT Tot', 'Pkt Len Min'], 'Adv sample 617': ['Bwd IAT Mean', 'Bwd IAT Min', 'Fwd Pkts/b Avg', 'Fwd Blk Rate Avg', 'Init Bwd Win Byts', 'Pkt Len Min', 'Down/Up Ratio', 'Tot Fwd Pkts', 'Bwd Pkt Len Min', 'Subflow Bwd Pkts'], 'Adv sample 618': ['ACK Flag Cnt', 'Active Mean', 'Active Max', 'Flow IAT Std', 'Init Bwd Win Byts', 'Subflow Fwd Byts', 'Flow IAT Mean', 'Fwd Header Len', 'Bwd Pkt Len Mean', 'Bwd Pkt Len Min'], 'Adv sample 619': ['Bwd IAT Min', 'Bwd IAT Mean', 'Bwd IAT Max', 'Init Bwd Win Byts', 'Fwd Pkts/b Avg', 'Down/Up Ratio', 'Pkt Len Min', 'Fwd Blk Rate Avg', 'Idle Min', 'Flow Pkts/s'], 'Adv sample 620': ['Bwd IAT Min', 'Bwd IAT Mean', 'Fwd Pkts/b Avg', 'Fwd Blk Rate Avg', 'Init Bwd Win Byts', 'Pkt Len Min', 'Fwd IAT Mean', 'Down/Up Ratio', 'Pkt Size Avg', 'Bwd Pkt Len Max'], 'Adv sample 621': ['Bwd IAT Min', 'Bwd IAT Mean', 'Bwd IAT Max', 'Init Bwd Win Byts', 'Fwd Pkts/b Avg', 'Bwd Pkts/s', 'Down/Up Ratio', 'Pkt Len Min', 'Fwd IAT Mean', 'Pkt Size Avg'], 'Adv sample 622': ['SYN Flag Cnt', 'Bwd IAT Mean', 'Fwd IAT Min', 'Fwd Byts/b Avg', 'Init Bwd Win Byts', 'Bwd Pkts/b Avg', 'Bwd URG Flags', 'Subflow Fwd Byts', 'Fwd IAT Mean', 'Fwd Pkt Len Std'], 'Adv sample 623': ['ACK Flag Cnt', 'Bwd IAT Min', 'Bwd IAT Mean', 'Bwd IAT Max', 'Bwd Pkts/s', 'Init Bwd Win Byts', 'Fwd IAT Mean', 'Flow Pkts/s', 'Down/Up Ratio', 'Fwd IAT Min'], 'Adv sample 624': ['Bwd IAT Min', 'Bwd IAT Mean', 'Bwd IAT Max', 'Init Bwd Win Byts', 'Bwd Pkts/s', 'Fwd Pkts/b Avg', 'Fwd IAT Mean', 'Pkt Len Min', 'Fwd Act Data Pkts', 'Down/Up Ratio'], 'Adv sample 625': ['ACK Flag Cnt', 'Idle Std', 'Init Bwd Win Byts', 'Pkt Len Min', 'Bwd Pkts/b Avg', 'Down/Up Ratio', 'Bwd IAT Tot', 'Idle Mean', 'Bwd Byts/b Avg', 'Bwd Pkt Len Mean'], 'Adv sample 626': ['Bwd IAT Min', 'Bwd IAT Mean', 'Init Bwd Win Byts', 'Fwd IAT Mean', 'Down/Up Ratio', 'Fwd Pkts/b Avg', 'Fwd Blk Rate Avg', 'Pkt Len Mean', 'Pkt Len Min', 'URG Flag Cnt'], 'Adv sample 627': ['FIN Flag Cnt', 'URG Flag Cnt', 'Bwd URG Flags', 'Fwd IAT Mean', 'Idle Min', 'Init Bwd Win Byts', 'Down/Up Ratio', 'Bwd IAT Std', 'Pkt Size Avg', 'Pkt Len Min'], 'Adv sample 628': ['Bwd IAT Min', 'Bwd IAT Mean', 'Bwd IAT Max', 'Init Bwd Win Byts', 'Fwd Pkts/b Avg', 'Pkt Len Min', 'Bwd Pkts/s', 'Flow Pkts/s', 'Bwd Pkt Len Min', 'Down/Up Ratio'], 'Adv sample 629': ['SYN Flag Cnt', 'Bwd IAT Mean', 'Fwd IAT Min', 'Fwd Byts/b Avg', 'Fwd IAT Mean', 'Pkt Size Avg', 'Bwd PSH Flags', 'Flow Duration', 'Fwd Seg Size Avg', 'Bwd Seg Size Avg'], 'Adv sample 630': ['Bwd IAT Mean', 'Bwd IAT Min', 'Init Bwd Win Byts', 'Fwd Pkts/b Avg', 'Down/Up Ratio', 'Bwd Seg Size Avg', 'Fwd Blk Rate Avg', 'TotLen Bwd Pkts', 'Pkt Size Avg', 'Idle Min'], 'Adv sample 631': ['SYN Flag Cnt', 'Bwd IAT Mean', 'Fwd Byts/b Avg', 'Fwd IAT Min', 'Bwd Pkts/b Avg', 'Init Bwd Win Byts', 'Fwd IAT Mean', 'Idle Std', 'Pkt Len Min', 'Subflow Bwd Pkts'], 'Adv sample 632': ['Bwd Pkts/s', 'Fwd IAT Min', 'Init Bwd Win Byts', 'Fwd Act Data Pkts', 'Fwd Pkt Len Min', 'Flow Duration', 'Pkt Len Mean', 'Bwd Pkt Len Mean', 'Bwd URG Flags', 'Fwd Pkt Len Mean'], 'Adv sample 633': ['ACK Flag Cnt', 'Bwd IAT Min', 'Fwd IAT Mean', 'Idle Max', 'Pkt Len Std', 'Pkt Len Min', 'Init Bwd Win Byts', 'Pkt Len Max', 'Fwd Pkt Len Mean', 'Tot Bwd Pkts'], 'Adv sample 634': ['Bwd IAT Mean', 'Bwd IAT Min', 'Init Bwd Win Byts', 'Fwd Pkts/b Avg', 'Down/Up Ratio', 'Fwd Blk Rate Avg', 'Active Max', 'Idle Mean', 'Fwd Pkt Len Mean', 'Pkt Len Max'], 'Adv sample 635': ['ACK Flag Cnt', 'Idle Std', 'Init Bwd Win Byts', 'Bwd IAT Tot', 'Bwd Pkts/b Avg', 'Pkt Len Min', 'Down/Up Ratio', 'Subflow Fwd Byts', 'Bwd Byts/b Avg', 'Pkt Len Max'], 'Adv sample 636': ['SYN Flag Cnt', 'Bwd IAT Mean', 'Fwd IAT Min', 'Fwd Byts/b Avg', 'Init Bwd Win Byts', 'Fwd Header Len', 'Bwd Pkts/b Avg', 'URG Flag Cnt', 'Tot Bwd Pkts', 'Flow Duration'], 'Adv sample 637': ['SYN Flag Cnt', 'Bwd IAT Mean', 'Fwd IAT Min', 'Init Bwd Win Byts', 'Fwd Byts/b Avg', 'Bwd IAT Max', 'Bwd Pkts/s', 'Bwd IAT Std', 'Bwd Pkts/b Avg', 'Pkt Size Avg'], 'Adv sample 638': ['Bwd IAT Min', 'Bwd IAT Mean', 'Bwd IAT Max', 'Init Bwd Win Byts', 'Fwd Pkts/b Avg', 'Bwd Pkts/s', 'Pkt Len Max', 'Pkt Len Min', 'Bwd Pkt Len Mean', 'Down/Up Ratio'], 'Adv sample 639': ['Bwd IAT Mean', 'Bwd IAT Min', 'Init Bwd Win Byts', 'Fwd Blk Rate Avg', 'Down/Up Ratio', 'Pkt Len Min', 'Fwd Pkts/b Avg', 'Bwd Pkt Len Min', 'Pkt Len Mean', 'Active Max'], 'Adv sample 640': ['ACK Flag Cnt', 'Bwd IAT Min', 'Fwd IAT Mean', 'Idle Max', 'Flow Pkts/s', 'Fwd Pkt Len Min', 'Flow Duration', 'Flow IAT Mean', 'Pkt Len Min', 'Init Bwd Win Byts'], 'Adv sample 641': ['SYN Flag Cnt', 'Bwd IAT Mean', 'Fwd IAT Min', 'Init Bwd Win Byts', 'Bwd IAT Max', 'Bwd Pkts/s', 'Fwd Byts/b Avg', 'Subflow Fwd Pkts', 'Bwd IAT Tot', 'Bwd PSH Flags'], 'Adv sample 642': ['SYN Flag Cnt', 'Bwd IAT Mean', 'Fwd IAT Min', 'Fwd Byts/b Avg', 'Fwd Act Data Pkts', 'Bwd IAT Max', 'Init Bwd Win Byts', 'Flow IAT Min', 'Subflow Bwd Pkts', 'Tot Bwd Pkts'], 'Adv sample 643': ['SYN Flag Cnt', 'Fwd IAT Min', 'Bwd IAT Mean', 'Fwd Byts/b Avg', 'Fwd Pkts/b Avg', 'Pkt Len Mean', 'Init Bwd Win Byts', 'Bwd IAT Tot', 'Bwd Pkt Len Max', 'Bwd IAT Min'], 'Adv sample 644': ['Bwd IAT Mean', 'Bwd IAT Min', 'Init Bwd Win Byts', 'Down/Up Ratio', 'Fwd Pkts/b Avg', 'Pkt Len Min', 'Pkt Size Avg', 'Active Mean', 'Fwd IAT Min', 'Tot Fwd Pkts'], 'Adv sample 645': ['SYN Flag Cnt', 'Bwd IAT Mean', 'Fwd IAT Min', 'Init Bwd Win Byts', 'Fwd Byts/b Avg', 'Bwd IAT Max', 'Pkt Len Min', 'Fwd IAT Mean', 'Bwd Pkt Len Min', 'Bwd IAT Tot'], 'Adv sample 646': ['SYN Flag Cnt', 'Fwd IAT Min', 'Bwd IAT Mean', 'Fwd Byts/b Avg', 'Init Bwd Win Byts', 'Fwd Pkts/b Avg', 'Bwd IAT Max', 'Down/Up Ratio', 'Bwd IAT Tot', 'Pkt Len Max'], 'Adv sample 647': ['SYN Flag Cnt', 'Bwd IAT Mean', 'Fwd IAT Min', 'Bwd IAT Max', 'Fwd Byts/b Avg', 'Init Bwd Win Byts', 'Fwd IAT Mean', 'Bwd IAT Std', 'Bwd Seg Size Avg', 'Flow Byts/s'], 'Adv sample 648': ['SYN Flag Cnt', 'Bwd IAT Mean', 'Fwd IAT Min', 'Bwd IAT Max', 'Init Bwd Win Byts', 'Bwd IAT Tot', 'Bwd Pkts/b Avg', 'Bwd Pkt Len Min', 'Fwd Byts/b Avg', 'Pkt Len Min'], 'Adv sample 649': ['ACK Flag Cnt', 'Active Mean', 'Flow IAT Std', 'Active Max', 'Flow IAT Mean', 'Init Bwd Win Byts', 'PSH Flag Cnt', 'Idle Mean', 'Bwd Header Len', 'Fwd Header Len'], 'Adv sample 650': ['SYN Flag Cnt', 'Bwd IAT Mean', 'Fwd IAT Min', 'Fwd Byts/b Avg', 'Bwd IAT Max', 'Fwd IAT Mean', 'Init Bwd Win Byts', 'Bwd Pkt Len Std', 'Bwd IAT Tot', 'Pkt Len Min'], 'Adv sample 651': ['ACK Flag Cnt', 'Idle Std', 'Init Bwd Win Byts', 'Bwd IAT Tot', 'Down/Up Ratio', 'Pkt Len Min', 'Bwd Byts/b Avg', 'Bwd Pkts/b Avg', 'Bwd IAT Min', 'Flow Duration'], 'Adv sample 652': ['ACK Flag Cnt', 'Idle Std', 'Init Bwd Win Byts', 'Down/Up Ratio', 'Bwd IAT Tot', 'Bwd Pkts/b Avg', 'Pkt Len Min', 'Bwd PSH Flags', 'Bwd Byts/b Avg', 'Bwd Pkt Len Min'], 'Adv sample 653': ['SYN Flag Cnt', 'Bwd IAT Mean', 'Fwd IAT Min', 'Init Bwd Win Byts', 'Bwd IAT Max', 'Pkt Len Min', 'Bwd Pkts/s', 'Fwd Byts/b Avg', 'Pkt Len Std', 'Bwd Pkts/b Avg'], 'Adv sample 654': ['SYN Flag Cnt', 'Bwd IAT Mean', 'Fwd IAT Min', 'Bwd Pkts/s', 'Fwd Byts/b Avg', 'Fwd IAT Mean', 'Flow Pkts/s', 'Init Bwd Win Byts', 'Fwd Pkts/b Avg', 'Bwd URG Flags'], 'Adv sample 655': ['ACK Flag Cnt', 'Bwd IAT Min', 'Bwd IAT Mean', 'Bwd IAT Max', 'Init Bwd Win Byts', 'Bwd Pkts/s', 'Fwd IAT Mean', 'Fwd Pkts/b Avg', 'Flow Pkts/s', 'Pkt Size Avg'], 'Adv sample 656': ['Bwd IAT Min', 'Bwd IAT Mean', 'Bwd IAT Max', 'Init Bwd Win Byts', 'Down/Up Ratio', 'Bwd Pkts/s', 'Idle Max', 'Fwd Pkts/b Avg', 'Flow Pkts/s', 'Pkt Len Min'], 'Adv sample 657': ['ACK Flag Cnt', 'Bwd IAT Min', 'Bwd IAT Mean', 'Bwd IAT Max', 'Init Bwd Win Byts', 'Bwd Pkts/s', 'Fwd IAT Mean', 'Pkt Len Min', 'Flow Byts/s', 'Flow Pkts/s'], 'Adv sample 658': ['Bwd IAT Min', 'Bwd IAT Mean', 'Bwd IAT Max', 'Init Bwd Win Byts', 'Fwd Pkts/b Avg', 'Down/Up Ratio', 'Bwd Pkt Len Min', 'Bwd Pkts/s', 'Fwd Blk Rate Avg', 'Idle Max'], 'Adv sample 659': ['SYN Flag Cnt', 'Bwd IAT Mean', 'Fwd IAT Min', 'Init Bwd Win Byts', 'Fwd Byts/b Avg', 'Flow Pkts/s', 'Bwd Pkts/s', 'Fwd IAT Mean', 'Bwd Pkts/b Avg', 'Pkt Len Min'], 'Adv sample 660': ['ACK Flag Cnt', 'Active Mean', 'Active Max', 'Flow IAT Std', 'Init Bwd Win Byts', 'Pkt Len Min', 'Flow IAT Mean', 'Bwd Pkt Len Max', 'Subflow Fwd Byts', 'Flow Pkts/s'], 'Adv sample 661': ['Bwd IAT Min', 'Bwd IAT Mean', 'Bwd IAT Max', 'Init Bwd Win Byts', 'Fwd Pkts/b Avg', 'Bwd Pkts/s', 'Pkt Len Min', 'Flow IAT Max', 'Fwd Blk Rate Avg', 'Pkt Len Mean'], 'Adv sample 662': ['ACK Flag Cnt', 'Bwd IAT Mean', 'Bwd IAT Min', 'Bwd IAT Max', 'Init Bwd Win Byts', 'Bwd Pkts/s', 'Flow Pkts/s', 'Pkt Len Min', 'Fwd Pkts/b Avg', 'Fwd Pkt Len Max'], 'Adv sample 663': ['SYN Flag Cnt', 'Bwd IAT Mean', 'Fwd IAT Min', 'Fwd Byts/b Avg', 'Bwd Pkts/b Avg', 'Fwd Pkt Len Max', 'Pkt Len Var', 'Flow IAT Mean', 'Active Mean', 'Bwd PSH Flags'], 'Adv sample 664': ['ACK Flag Cnt', 'Idle Std', 'Init Bwd Win Byts', 'Down/Up Ratio', 'Bwd IAT Tot', 'Pkt Len Min', 'Bwd Pkt Len Min', 'Bwd Byts/b Avg', 'Bwd Pkts/b Avg', 'Pkt Len Max'], 'Adv sample 665': ['Bwd IAT Min', 'Bwd IAT Mean', 'Fwd Pkts/b Avg', 'Init Bwd Win Byts', 'Fwd IAT Mean', 'Fwd Blk Rate Avg', 'Flow Pkts/s', 'Pkt Len Mean', 'Fwd Pkts/s', 'Pkt Len Min'], 'Adv sample 666': ['ACK Flag Cnt', 'Flow IAT Mean', 'Fwd IAT Mean', 'Active Max', 'Bwd IAT Min', 'Flow IAT Std', 'Flow IAT Max', 'Bwd IAT Max', 'Fwd Pkt Len Std', 'Pkt Size Avg'], 'Adv sample 667': ['ACK Flag Cnt', 'Active Mean', 'Flow IAT Std', 'Active Max', 'Bwd Pkt Len Min', 'Fwd Act Data Pkts', 'PSH Flag Cnt', 'Init Bwd Win Byts', 'Subflow Bwd Pkts', 'Fwd IAT Min'], 'Adv sample 668': ['Bwd IAT Min', 'Bwd IAT Mean', 'Init Bwd Win Byts', 'Fwd Pkts/b Avg', 'Fwd Blk Rate Avg', 'Flow Pkts/s', 'Pkt Len Min', 'Fwd IAT Mean', 'Active Mean', 'Down/Up Ratio'], 'Adv sample 669': ['ACK Flag Cnt', 'Idle Std', 'Init Bwd Win Byts', 'Down/Up Ratio', 'Pkt Len Min', 'Bwd Pkts/b Avg', 'Bwd IAT Tot', 'Flow Duration', 'Flow IAT Std', 'Flow IAT Max'], 'Adv sample 670': ['Bwd IAT Min', 'Bwd IAT Mean', 'Bwd IAT Max', 'Init Bwd Win Byts', 'Bwd Pkts/s', 'Fwd Pkts/b Avg', 'Fwd Blk Rate Avg', 'Flow IAT Max', 'Pkt Len Min', 'Down/Up Ratio'], 'Adv sample 671': ['Bwd IAT Min', 'Bwd IAT Mean', 'Bwd IAT Max', 'Bwd Pkts/s', 'Init Bwd Win Byts', 'Fwd Pkts/b Avg', 'Flow Pkts/s', 'Down/Up Ratio', 'Bwd Pkt Len Min', 'Pkt Len Min'], 'Adv sample 672': ['Bwd IAT Min', 'Bwd IAT Mean', 'Bwd IAT Max', 'Bwd Pkts/s', 'Init Bwd Win Byts', 'Fwd Pkts/b Avg', 'Pkt Len Min', 'Fwd IAT Mean', 'Idle Mean', 'Down/Up Ratio'], 'Adv sample 673': ['ACK Flag Cnt', 'Bwd IAT Mean', 'Bwd IAT Min', 'Bwd IAT Max', 'Bwd Pkts/s', 'Init Bwd Win Byts', 'Fwd IAT Mean', 'Fwd Seg Size Avg', 'Flow Pkts/s', 'Fwd Pkts/b Avg'], 'Adv sample 674': ['Bwd IAT Min', 'ACK Flag Cnt', 'Flow Pkts/s', 'Bwd Pkts/s', 'Flow IAT Mean', 'Fwd IAT Mean', 'Pkt Len Min', 'TotLen Bwd Pkts', 'Init Bwd Win Byts', 'Flow Byts/s'], 'Adv sample 675': ['Bwd IAT Min', 'Bwd IAT Mean', 'Init Bwd Win Byts', 'Fwd Pkts/b Avg', 'Fwd IAT Mean', 'Fwd Blk Rate Avg', 'Down/Up Ratio', 'Pkt Len Min', 'Bwd Pkt Len Std', 'Idle Mean'], 'Adv sample 676': ['Bwd IAT Min', 'Bwd IAT Max', 'Bwd IAT Mean', 'Bwd Pkts/s', 'Init Bwd Win Byts', 'Fwd Pkts/b Avg', 'Flow Pkts/s', 'Down/Up Ratio', 'Bwd Pkt Len Min', 'Flow IAT Max'], 'Adv sample 677': ['Bwd IAT Min', 'Bwd IAT Mean', 'Bwd IAT Max', 'Init Bwd Win Byts', 'Bwd Pkts/s', 'Fwd Pkts/b Avg', 'Fwd Blk Rate Avg', 'Pkt Len Min', 'Down/Up Ratio', 'Flow Pkts/s'], 'Adv sample 678': ['SYN Flag Cnt', 'Fwd IAT Min', 'Fwd IAT Mean', 'Init Bwd Win Byts', 'Fwd Byts/b Avg', 'Bwd Pkts/s', 'Bwd Pkts/b Avg', 'Flow Pkts/s', 'Bwd Pkt Len Min', 'Pkt Len Min'], 'Adv sample 679': ['Bwd IAT Min', 'Bwd IAT Mean', 'Init Bwd Win Byts', 'Fwd IAT Mean', 'Fwd Pkts/b Avg', 'Fwd Blk Rate Avg', 'Flow Pkts/s', 'Down/Up Ratio', 'Pkt Len Min', 'Pkt Size Avg'], 'Adv sample 680': ['ACK Flag Cnt', 'Bwd IAT Mean', 'Bwd IAT Min', 'Bwd IAT Max', 'Bwd Pkts/s', 'Init Bwd Win Byts', 'Fwd IAT Mean', 'Flow Pkts/s', 'Fwd Pkts/b Avg', 'Pkt Len Min'], 'Adv sample 681': ['URG Flag Cnt', 'FIN Flag Cnt', 'Fwd IAT Mean', 'Bwd URG Flags', 'Init Bwd Win Byts', 'Idle Min', 'Down/Up Ratio', 'Bwd Pkt Len Std', 'Fwd Pkt Len Std', 'Pkt Len Std'], 'Adv sample 682': ['Bwd Pkts/s', 'Fwd IAT Min', 'Down/Up Ratio', 'Flow Duration', 'Init Bwd Win Byts', 'Pkt Len Min', 'Subflow Fwd Pkts', 'Subflow Bwd Pkts', 'Pkt Len Var', 'Active Max'], 'Adv sample 683': ['SYN Flag Cnt', 'Bwd IAT Mean', 'Fwd IAT Min', 'Fwd Byts/b Avg', 'Fwd Pkts/b Avg', 'Init Bwd Win Byts', 'Fwd IAT Mean', 'Bwd IAT Max', 'Bwd Pkt Len Mean', 'Down/Up Ratio'], 'Adv sample 684': ['Idle Std', 'ACK Flag Cnt', 'Init Bwd Win Byts', 'Bwd Byts/b Avg', 'Pkt Len Min', 'Idle Min', 'Flow Duration', 'Bwd Pkt Len Mean', 'Bwd Pkt Len Min', 'Fwd IAT Std'], 'Adv sample 685': ['SYN Flag Cnt', 'Bwd IAT Mean', 'Fwd IAT Min', 'Bwd IAT Max', 'Init Bwd Win Byts', 'Bwd Pkts/b Avg', 'Fwd Byts/b Avg', 'Bwd Pkts/s', 'Down/Up Ratio', 'Pkt Len Min'], 'Adv sample 686': ['ACK Flag Cnt', 'Idle Std', 'Init Bwd Win Byts', 'Bwd IAT Tot', 'Down/Up Ratio', 'Bwd Pkts/b Avg', 'Pkt Len Min', 'Bwd Byts/b Avg', 'Subflow Fwd Byts', 'Pkt Len Max'], 'Adv sample 687': ['Bwd IAT Min', 'Bwd IAT Mean', 'Init Bwd Win Byts', 'Fwd Pkts/b Avg', 'Fwd IAT Mean', 'Fwd Blk Rate Avg', 'Pkt Len Min', 'Down/Up Ratio', 'Bwd Pkts/s', 'Bwd Pkt Len Min'], 'Adv sample 688': ['Bwd IAT Min', 'Bwd IAT Mean', 'Init Bwd Win Byts', 'Fwd Pkts/b Avg', 'Fwd Blk Rate Avg', 'Pkt Len Min', 'Down/Up Ratio', 'Active Mean', 'Idle Std', 'Tot Bwd Pkts'], 'Adv sample 689': ['Bwd IAT Min', 'Bwd IAT Mean', 'Fwd Blk Rate Avg', 'Init Bwd Win Byts', 'Pkt Len Min', 'Fwd Pkts/b Avg', 'Fwd IAT Mean', 'Down/Up Ratio', 'Flow Pkts/s', 'Bwd Pkt Len Min'], 'Adv sample 690': ['Bwd Pkts/s', 'Fwd IAT Min', 'Init Bwd Win Byts', 'Bwd Pkt Len Min', 'Pkt Len Var', 'Down/Up Ratio', 'FIN Flag Cnt', 'Flow Duration', 'Tot Fwd Pkts', 'Tot Bwd Pkts'], 'Adv sample 691': ['SYN Flag Cnt', 'Bwd IAT Mean', 'Fwd IAT Min', 'Fwd Byts/b Avg', 'Init Bwd Win Byts', 'Bwd Pkt Len Min', 'Pkt Len Min', 'Idle Std', 'Subflow Bwd Pkts', 'Flow Pkts/s'], 'Adv sample 692': ['Bwd IAT Min', 'Bwd IAT Mean', 'Bwd IAT Max', 'Fwd Pkts/b Avg', 'Init Bwd Win Byts', 'Pkt Len Min', 'Bwd Pkts/s', 'Tot Fwd Pkts', 'Down/Up Ratio', 'Bwd Pkt Len Std'], 'Adv sample 693': ['ACK Flag Cnt', 'Bwd IAT Min', 'Bwd IAT Mean', 'Bwd IAT Max', 'Bwd Pkts/s', 'Init Bwd Win Byts', 'Flow Pkts/s', 'Fwd IAT Mean', 'Pkt Len Min', 'Fwd Pkts/b Avg'], 'Adv sample 694': ['Bwd IAT Min', 'Bwd IAT Mean', 'Bwd IAT Max', 'Init Bwd Win Byts', 'Bwd Pkts/s', 'Fwd Pkts/b Avg', 'Fwd Blk Rate Avg', 'Flow Pkts/s', 'Pkt Size Avg', 'Pkt Len Std'], 'Adv sample 695': ['Bwd IAT Mean', 'Bwd IAT Min', 'Init Bwd Win Byts', 'Down/Up Ratio', 'Fwd Pkts/b Avg', 'Pkt Len Min', 'Subflow Bwd Pkts', 'Bwd Pkt Len Mean', 'Bwd PSH Flags', 'Fwd Blk Rate Avg'], 'Adv sample 696': ['ACK Flag Cnt', 'Bwd IAT Min', 'Bwd IAT Mean', 'Bwd IAT Max', 'Init Bwd Win Byts', 'Bwd Pkts/s', 'Fwd IAT Mean', 'Pkt Len Max', 'TotLen Bwd Pkts', 'Flow Pkts/s'], 'Adv sample 697': ['SYN Flag Cnt', 'Bwd IAT Mean', 'Fwd IAT Min', 'Bwd IAT Max', 'Init Bwd Win Byts', 'Fwd Byts/b Avg', 'Bwd Pkts/b Avg', 'Bwd Pkts/s', 'Pkt Len Min', 'Bwd IAT Tot'], 'Adv sample 698': ['Bwd Pkts/s', 'Fwd IAT Min', 'Init Bwd Win Byts', 'Flow Duration', 'Tot Fwd Pkts', 'Tot Bwd Pkts', 'TotLen Fwd Pkts', 'TotLen Bwd Pkts', 'Fwd Pkt Len Max', 'Fwd Pkt Len Min'], 'Adv sample 699': ['ACK Flag Cnt', 'Idle Std', 'Init Bwd Win Byts', 'Down/Up Ratio', 'Bwd Pkts/b Avg', 'Bwd IAT Tot', 'Pkt Len Min', 'Bwd Byts/b Avg', 'Idle Min', 'Subflow Bwd Pkts'], 'Adv sample 700': ['SYN Flag Cnt', 'Bwd IAT Mean', 'Fwd IAT Min', 'Fwd Byts/b Avg', 'Fwd Pkts/b Avg', 'Bwd Pkts/b Avg', 'Bwd IAT Max', 'Fwd IAT Mean', 'Init Bwd Win Byts', 'Flow Pkts/s'], 'Adv sample 701': ['ACK Flag Cnt', 'Bwd IAT Min', 'Bwd IAT Max', 'Bwd IAT Mean', 'Bwd Pkts/s', 'Init Bwd Win Byts', 'Flow Pkts/s', 'Pkt Len Min', 'Fwd Pkts/b Avg', 'Fwd IAT Mean'], 'Adv sample 702': ['ACK Flag Cnt', 'Bwd IAT Min', 'Bwd IAT Max', 'Bwd IAT Mean', 'Init Bwd Win Byts', 'Bwd Pkts/s', 'Flow Pkts/s', 'Active Min', 'Subflow Fwd Byts', 'Pkt Size Avg'], 'Adv sample 703': ['Bwd IAT Min', 'Bwd IAT Mean', 'Bwd IAT Max', 'Init Bwd Win Byts', 'Fwd Pkts/b Avg', 'Bwd Pkt Len Min', 'Pkt Size Avg', 'Pkt Len Min', 'Bwd Pkts/s', 'Active Std'], 'Adv sample 704': ['ACK Flag Cnt', 'Bwd IAT Min', 'Bwd IAT Max', 'Bwd IAT Mean', 'Bwd Pkts/s', 'Init Bwd Win Byts', 'Flow Pkts/s', 'Fwd IAT Mean', 'Fwd Pkts/b Avg', 'Flow Byts/s'], 'Adv sample 705': ['Bwd IAT Min', 'Bwd IAT Mean', 'Init Bwd Win Byts', 'Fwd Pkts/b Avg', 'Fwd IAT Mean', 'Pkt Len Min', 'Fwd Blk Rate Avg', 'Flow Pkts/s', 'TotLen Fwd Pkts', 'Down/Up Ratio'], 'Adv sample 706': ['ACK Flag Cnt', 'Bwd IAT Min', 'Bwd IAT Mean', 'Bwd IAT Max', 'Bwd Pkts/s', 'Init Bwd Win Byts', 'Flow Pkts/s', 'Fwd IAT Mean', 'Fwd Pkt Len Min', 'Fwd Pkts/b Avg'], 'Adv sample 707': ['Bwd Pkts/s', 'Fwd IAT Min', 'Init Bwd Win Byts', 'Bwd Pkt Len Max', 'Pkt Len Mean', 'Fwd Seg Size Avg', 'Flow Duration', 'Tot Fwd Pkts', 'Tot Bwd Pkts', 'TotLen Bwd Pkts'], 'Adv sample 708': ['SYN Flag Cnt', 'Bwd IAT Mean', 'Fwd IAT Min', 'Init Bwd Win Byts', 'Bwd IAT Max', 'Fwd Byts/b Avg', 'Bwd Pkts/s', 'Pkt Len Min', 'Bwd IAT Tot', 'Tot Fwd Pkts'], 'Adv sample 709': ['Bwd IAT Min', 'Bwd IAT Mean', 'Bwd IAT Max', 'Bwd Pkts/s', 'Init Bwd Win Byts', 'Pkt Len Min', 'Fwd Pkts/b Avg', 'Subflow Bwd Byts', 'Fwd Blk Rate Avg', 'Flow IAT Max'], 'Adv sample 710': ['Bwd IAT Min', 'Bwd IAT Mean', 'Bwd IAT Max', 'Init Bwd Win Byts', 'Fwd Pkts/b Avg', 'Fwd IAT Mean', 'Pkt Len Min', 'Active Std', 'Active Max', 'Idle Min'], 'Adv sample 711': ['ACK Flag Cnt', 'Idle Std', 'Init Bwd Win Byts', 'Down/Up Ratio', 'Bwd Pkts/b Avg', 'Pkt Len Min', 'Bwd Byts/b Avg', 'Bwd IAT Tot', 'Flow IAT Std', 'Active Mean'], 'Adv sample 712': ['ACK Flag Cnt', 'Bwd IAT Mean', 'Bwd IAT Min', 'Bwd IAT Max', 'Bwd Pkts/s', 'Fwd IAT Mean', 'Init Bwd Win Byts', 'Flow Pkts/s', 'Tot Bwd Pkts', 'Down/Up Ratio'], 'Adv sample 713': ['SYN Flag Cnt', 'Bwd IAT Mean', 'Fwd IAT Min', 'Fwd Byts/b Avg', 'Fwd Pkts/b Avg', 'Init Bwd Win Byts', 'Fwd IAT Mean', 'Bwd IAT Max', 'Pkt Len Std', 'Bwd Pkt Len Min'], 'Adv sample 714': ['Bwd Pkts/s', 'Init Bwd Win Byts', 'Fwd IAT Min', 'Bwd Pkt Len Std', 'Pkt Len Mean', 'Fwd Seg Size Avg', 'Bwd IAT Min', 'Tot Fwd Pkts', 'Tot Bwd Pkts', 'TotLen Fwd Pkts'], 'Adv sample 715': ['Bwd IAT Min', 'Bwd IAT Mean', 'Fwd Pkts/b Avg', 'Fwd IAT Mean', 'Init Bwd Win Byts', 'Fwd Blk Rate Avg', 'Down/Up Ratio', 'Pkt Len Min', 'Flow Pkts/s', 'Active Mean'], 'Adv sample 716': ['Bwd IAT Min', 'Bwd IAT Mean', 'Init Bwd Win Byts', 'Fwd Pkts/b Avg', 'Fwd IAT Mean', 'Flow Pkts/s', 'Fwd Blk Rate Avg', 'Idle Min', 'Fwd Pkt Len Max', 'Tot Bwd Pkts'], 'Adv sample 717': ['Bwd IAT Min', 'Bwd IAT Mean', 'Bwd IAT Max', 'Init Bwd Win Byts', 'Bwd Pkts/s', 'Fwd Pkts/b Avg', 'Pkt Len Min', 'Down/Up Ratio', 'Idle Max', 'Fwd Blk Rate Avg'], 'Adv sample 718': ['ACK Flag Cnt', 'Bwd IAT Min', 'Bwd IAT Mean', 'Bwd IAT Max', 'Init Bwd Win Byts', 'Bwd Pkts/s', 'Fwd IAT Mean', 'Fwd Pkts/b Avg', 'Flow Pkts/s', 'Bwd Seg Size Avg'], 'Adv sample 719': ['Bwd Pkts/s', 'Fwd IAT Min', 'Fwd Seg Size Avg', 'Init Bwd Win Byts', 'Active Mean', 'Bwd Pkt Len Min', 'Down/Up Ratio', 'Flow Duration', 'Tot Fwd Pkts', 'Tot Bwd Pkts'], 'Adv sample 720': ['Bwd Pkts/s', 'Init Bwd Win Byts', 'Fwd IAT Min', 'Down/Up Ratio', 'Pkt Size Avg', 'Flow Duration', 'Flow IAT Max', 'Fwd Header Len', 'TotLen Fwd Pkts', 'Bwd IAT Min'], 'Adv sample 721': ['Bwd IAT Min', 'Bwd IAT Mean', 'Bwd IAT Max', 'Init Bwd Win Byts', 'Fwd Pkts/b Avg', 'Bwd Pkts/s', 'Fwd IAT Mean', 'Pkt Len Min', 'Bwd Pkt Len Std', 'Pkt Size Avg'], 'Adv sample 722': ['Bwd IAT Mean', 'ACK Flag Cnt', 'Fwd IAT Mean', 'Bwd IAT Min', 'Init Bwd Win Byts', 'Pkt Len Min', 'Flow Pkts/s', 'Fwd Pkt Len Min', 'Flow IAT Mean', 'Pkt Len Mean'], 'Adv sample 723': ['URG Flag Cnt', 'FIN Flag Cnt', 'Fwd IAT Mean', 'Idle Min', 'Bwd URG Flags', 'Init Bwd Win Byts', 'Fwd Pkts/s', 'Flow Duration', 'Down/Up Ratio', 'Fwd Blk Rate Avg'], 'Adv sample 724': ['Bwd IAT Min', 'Bwd IAT Mean', 'Bwd IAT Max', 'Init Bwd Win Byts', 'Flow Pkts/s', 'Fwd Pkts/b Avg', 'Bwd Pkts/s', 'Pkt Len Min', 'Fwd IAT Mean', 'PSH Flag Cnt'], 'Adv sample 725': ['Bwd IAT Min', 'Bwd IAT Mean', 'Fwd Pkts/b Avg', 'Fwd IAT Mean', 'Fwd Blk Rate Avg', 'Init Bwd Win Byts', 'Flow Pkts/s', 'Down/Up Ratio', 'Bwd Pkts/s', 'Pkt Len Min'], 'Adv sample 726': ['Bwd IAT Min', 'Bwd IAT Mean', 'Bwd IAT Max', 'Init Bwd Win Byts', 'Fwd Pkts/b Avg', 'Bwd Pkts/s', 'Flow Pkts/s', 'Down/Up Ratio', 'Fwd Act Data Pkts', 'Pkt Len Min'], 'Adv sample 727': ['SYN Flag Cnt', 'Bwd IAT Mean', 'Fwd IAT Min', 'Init Bwd Win Byts', 'Bwd IAT Max', 'Fwd Byts/b Avg', 'Fwd IAT Mean', 'Bwd IAT Tot', 'Subflow Fwd Pkts', 'Bwd Pkts/b Avg'], 'Adv sample 728': ['ACK Flag Cnt', 'Bwd IAT Mean', 'Bwd IAT Min', 'Bwd IAT Max', 'Bwd Pkts/s', 'Init Bwd Win Byts', 'Fwd IAT Mean', 'Flow Pkts/s', 'Fwd Pkt Len Std', 'Pkt Len Min'], 'Adv sample 729': ['ACK Flag Cnt', 'Active Max', 'Init Bwd Win Byts', 'Flow IAT Std', 'Flow IAT Mean', 'FIN Flag Cnt', 'Subflow Bwd Byts', 'Fwd Pkt Len Max', 'TotLen Fwd Pkts', 'Fwd Pkt Len Min'], 'Adv sample 730': ['ACK Flag Cnt', 'Active Mean', 'Active Max', 'Flow IAT Std', 'Flow IAT Mean', 'Init Bwd Win Byts', 'PSH Flag Cnt', 'TotLen Fwd Pkts', 'Bwd Header Len', 'Flow Pkts/s'], 'Adv sample 731': ['SYN Flag Cnt', 'Bwd IAT Mean', 'Init Bwd Win Byts', 'Fwd IAT Min', 'Bwd IAT Max', 'Fwd Byts/b Avg', 'Bwd Pkts/s', 'Pkt Len Min', 'Bwd IAT Tot', 'Fwd Pkt Len Mean'], 'Adv sample 732': ['Bwd Pkts/s', 'Fwd IAT Min', 'Init Bwd Win Byts', 'Down/Up Ratio', 'Flow Duration', 'Tot Bwd Pkts', 'TotLen Fwd Pkts', 'TotLen Bwd Pkts', 'Fwd Pkt Len Max', 'Fwd Pkt Len Min'], 'Adv sample 733': ['Bwd IAT Min', 'Bwd IAT Mean', 'Bwd IAT Max', 'Init Bwd Win Byts', 'Fwd Pkts/b Avg', 'Down/Up Ratio', 'Pkt Len Min', 'Bwd Pkts/s', 'Fwd Pkt Len Min', 'Fwd Header Len'], 'Adv sample 734': ['ACK Flag Cnt', 'Bwd IAT Min', 'Bwd IAT Mean', 'Bwd IAT Max', 'Bwd Pkts/s', 'Init Bwd Win Byts', 'Flow Pkts/s', 'Fwd IAT Mean', 'Fwd Pkts/b Avg', 'Pkt Len Max'], 'Adv sample 735': ['ACK Flag Cnt', 'Active Mean', 'Active Max', 'Flow IAT Std', 'Flow IAT Mean', 'Bwd URG Flags', 'Init Bwd Win Byts', 'Fwd Act Data Pkts', 'Flow Pkts/s', 'Active Min'], 'Adv sample 736': ['ACK Flag Cnt', 'Active Mean', 'Active Max', 'Flow IAT Std', 'Flow IAT Mean', 'Init Bwd Win Byts', 'Bwd IAT Min', 'Bwd Pkt Len Min', 'Pkt Len Max', 'Tot Bwd Pkts'], 'Adv sample 737': ['Bwd IAT Min', 'Bwd IAT Mean', 'Bwd IAT Max', 'Init Bwd Win Byts', 'Bwd Pkts/s', 'Flow Pkts/s', 'Pkt Len Var', 'Pkt Len Min', 'Fwd Pkts/b Avg', 'Bwd Pkt Len Min'], 'Adv sample 738': ['SYN Flag Cnt', 'Bwd IAT Mean', 'Fwd IAT Min', 'Init Bwd Win Byts', 'Bwd Pkts/b Avg', 'Bwd IAT Max', 'Fwd Byts/b Avg', 'Pkt Len Min', 'Tot Fwd Pkts', 'Bwd IAT Tot'], 'Adv sample 739': ['SYN Flag Cnt', 'Fwd IAT Min', 'Fwd IAT Mean', 'Bwd Pkts/s', 'Init Bwd Win Byts', 'Fwd Byts/b Avg', 'Flow Pkts/s', 'Bwd Pkts/b Avg', 'Bwd IAT Mean', 'Active Max'], 'Adv sample 740': ['Bwd IAT Min', 'Bwd IAT Mean', 'Bwd IAT Max', 'Init Bwd Win Byts', 'Fwd Pkts/b Avg', 'Down/Up Ratio', 'Bwd Pkts/s', 'Idle Mean', 'Pkt Len Min', 'Pkt Size Avg'], 'Adv sample 741': ['ACK Flag Cnt', 'Bwd IAT Min', 'Fwd IAT Mean', 'Idle Max', 'Fwd Seg Size Avg', 'Init Bwd Win Byts', 'Pkt Len Min', 'Fwd Pkts/s', 'Bwd URG Flags', 'Bwd Header Len'], 'Adv sample 742': ['Bwd IAT Min', 'Bwd IAT Mean', 'Bwd IAT Max', 'Init Bwd Win Byts', 'Bwd Pkts/s', 'Fwd Blk Rate Avg', 'Fwd Pkts/b Avg', 'Down/Up Ratio', 'Pkt Len Min', 'Flow Pkts/s'], 'Adv sample 743': ['ACK Flag Cnt', 'Idle Std', 'Init Bwd Win Byts', 'Down/Up Ratio', 'Pkt Len Min', 'Bwd Byts/b Avg', 'Bwd IAT Tot', 'Bwd Pkts/b Avg', 'Flow Duration', 'Fwd Pkt Len Std'], 'Adv sample 744': ['SYN Flag Cnt', 'Bwd IAT Mean', 'Fwd IAT Min', 'Fwd Byts/b Avg', 'Bwd Pkts/b Avg', 'Init Bwd Win Byts', 'Flow Pkts/s', 'Subflow Bwd Pkts', 'Bwd IAT Max', 'Flow Byts/s'], 'Adv sample 745': ['ACK Flag Cnt', 'Active Mean', 'Active Max', 'Flow IAT Std', 'Flow IAT Mean', 'Init Bwd Win Byts', 'Fwd IAT Min', 'TotLen Bwd Pkts', 'Pkt Len Min', 'Bwd Pkt Len Min'], 'Adv sample 746': ['ACK Flag Cnt', 'Init Bwd Win Byts', 'Flow IAT Mean', 'Pkt Len Min', 'Idle Max', 'Bwd Byts/b Avg', 'Subflow Fwd Pkts', 'Pkt Len Std', 'Idle Mean', 'Active Max'], 'Adv sample 747': ['Bwd Pkts/s', 'Fwd IAT Min', 'Init Bwd Win Byts', 'Fwd Pkts/s', 'Fwd Pkt Len Max', 'TotLen Fwd Pkts', 'Subflow Bwd Pkts', 'Flow Byts/s', 'Bwd Seg Size Avg', 'Bwd IAT Tot'], 'Adv sample 748': ['SYN Flag Cnt', 'Bwd IAT Mean', 'Fwd IAT Min', 'Fwd Byts/b Avg', 'Fwd IAT Mean', 'Init Bwd Win Byts', 'Down/Up Ratio', 'Fwd Pkt Len Std', 'Tot Bwd Pkts', 'Pkt Len Min'], 'Adv sample 749': ['ACK Flag Cnt', 'Active Mean', 'Flow IAT Std', 'Active Max', 'Flow IAT Mean', 'Init Bwd Win Byts', 'TotLen Bwd Pkts', 'Subflow Bwd Pkts', 'Pkt Len Min', 'Bwd Pkt Len Max'], 'Adv sample 750': ['SYN Flag Cnt', 'Bwd IAT Mean', 'Fwd IAT Min', 'Init Bwd Win Byts', 'Bwd IAT Max', 'Pkt Len Min', 'Bwd Pkts/b Avg', 'Bwd Pkt Len Std', 'Fwd Byts/b Avg', 'Fwd Pkts/b Avg'], 'Adv sample 751': ['ACK Flag Cnt', 'Idle Std', 'Init Bwd Win Byts', 'Down/Up Ratio', 'Bwd IAT Tot', 'Pkt Len Min', 'Bwd Pkt Len Min', 'Pkt Size Avg', 'Fwd Pkt Len Max', 'Fwd IAT Tot'], 'Adv sample 752': ['Bwd Pkts/s', 'Fwd IAT Min', 'Init Bwd Win Byts', 'Bwd IAT Mean', 'Subflow Fwd Byts', 'Pkt Len Min', 'Idle Mean', 'Pkt Len Max', 'Pkt Len Std', 'Tot Bwd Pkts'], 'Adv sample 753': ['Bwd IAT Min', 'Bwd IAT Mean', 'Fwd Pkts/b Avg', 'Init Bwd Win Byts', 'Fwd Blk Rate Avg', 'Down/Up Ratio', 'Idle Mean', 'Subflow Bwd Byts', 'Idle Min', 'Flow IAT Max'], 'Adv sample 754': ['SYN Flag Cnt', 'Bwd IAT Mean', 'Fwd IAT Min', 'Fwd Byts/b Avg', 'Bwd Pkts/b Avg', 'Init Bwd Win Byts', 'Pkt Len Min', 'Bwd PSH Flags', 'Flow IAT Max', 'Tot Fwd Pkts'], 'Adv sample 755': ['Bwd IAT Min', 'Bwd IAT Mean', 'Init Bwd Win Byts', 'Fwd Pkts/b Avg', 'Down/Up Ratio', 'Fwd IAT Mean', 'Pkt Len Min', 'Fwd Blk Rate Avg', 'Active Mean', 'Flow Pkts/s'], 'Adv sample 756': ['Bwd IAT Min', 'Bwd IAT Mean', 'ACK Flag Cnt', 'Bwd IAT Max', 'Init Bwd Win Byts', 'Bwd Pkts/s', 'Down/Up Ratio', 'Fwd IAT Mean', 'Pkt Len Min', 'Idle Std'], 'Adv sample 757': ['ACK Flag Cnt', 'Bwd IAT Min', 'Fwd IAT Mean', 'Idle Max', 'Init Bwd Win Byts', 'Pkt Len Mean', 'Fwd Act Data Pkts', 'Flow Duration', 'Flow IAT Std', 'Pkt Len Std'], 'Adv sample 758': ['Bwd IAT Min', 'Bwd IAT Mean', 'ACK Flag Cnt', 'Bwd IAT Max', 'Init Bwd Win Byts', 'Bwd Pkts/s', 'Fwd IAT Mean', 'Fwd Pkts/b Avg', 'Idle Std', 'Flow Pkts/s'], 'Adv sample 759': ['SYN Flag Cnt', 'Bwd IAT Mean', 'Fwd IAT Min', 'Fwd Byts/b Avg', 'Fwd Pkts/b Avg', 'Fwd IAT Mean', 'Bwd Pkt Len Mean', 'Bwd IAT Tot', 'Bwd Pkt Len Std', 'Fwd Pkt Len Min'], 'Adv sample 760': ['ACK Flag Cnt', 'Bwd IAT Mean', 'Bwd IAT Max', 'Bwd IAT Min', 'Init Bwd Win Byts', 'Bwd Pkts/s', 'Flow Pkts/s', 'Fwd IAT Mean', 'Fwd Pkts/b Avg', 'Fwd Pkt Len Mean'], 'Adv sample 761': ['ACK Flag Cnt', 'Bwd IAT Min', 'Bwd IAT Mean', 'Bwd IAT Max', 'Bwd Pkts/s', 'Init Bwd Win Byts', 'Fwd Pkts/b Avg', 'Flow Pkts/s', 'Pkt Len Std', 'Idle Std'], 'Adv sample 762': ['Bwd IAT Min', 'Bwd IAT Mean', 'Fwd IAT Mean', 'Init Bwd Win Byts', 'Fwd Blk Rate Avg', 'Fwd Pkts/b Avg', 'Down/Up Ratio', 'Flow Pkts/s', 'Fwd Pkts/s', 'Fwd Pkt Len Std'], 'Adv sample 763': ['Bwd IAT Min', 'Bwd IAT Mean', 'Init Bwd Win Byts', 'Fwd Pkts/b Avg', 'Down/Up Ratio', 'Pkt Len Min', 'Fwd Blk Rate Avg', 'Bwd Pkt Len Min', 'Fwd IAT Mean', 'Flow Pkts/s'], 'Adv sample 764': ['ACK Flag Cnt', 'Bwd IAT Min', 'Bwd IAT Mean', 'Bwd IAT Max', 'Init Bwd Win Byts', 'Bwd Pkts/s', 'Flow Pkts/s', 'Flow IAT Max', 'Fwd IAT Mean', 'Bwd Pkt Len Min'], 'Adv sample 765': ['Bwd IAT Mean', 'Bwd IAT Min', 'Fwd Pkts/b Avg', 'Init Bwd Win Byts', 'Pkt Len Min', 'Down/Up Ratio', 'Fwd Blk Rate Avg', 'Pkt Size Avg', 'Idle Std', 'Bwd Pkt Len Min'], 'Adv sample 766': ['ACK Flag Cnt', 'Active Mean', 'Flow IAT Std', 'Active Max', 'Flow IAT Mean', 'Init Bwd Win Byts', 'Bwd IAT Mean', 'Pkt Len Mean', 'Pkt Len Min', 'Fwd IAT Min'], 'Adv sample 767': ['Bwd IAT Min', 'Bwd IAT Mean', 'Bwd IAT Max', 'Init Bwd Win Byts', 'Fwd Pkts/b Avg', 'Down/Up Ratio', 'Pkt Len Min', 'Bwd Pkts/s', 'Bwd PSH Flags', 'Bwd Pkt Len Min'], 'Adv sample 768': ['Bwd IAT Min', 'Bwd IAT Mean', 'Bwd IAT Max', 'Init Bwd Win Byts', 'Bwd Pkts/s', 'Fwd Pkts/b Avg', 'Bwd Pkt Len Min', 'Flow Pkts/s', 'Pkt Len Min', 'Bwd Seg Size Avg'], 'Adv sample 769': ['Bwd IAT Min', 'Bwd IAT Mean', 'Bwd IAT Max', 'Init Bwd Win Byts', 'Bwd Pkts/s', 'Fwd Pkts/b Avg', 'Bwd Pkt Len Std', 'Flow Pkts/s', 'Bwd PSH Flags', 'Pkt Len Min'], 'Adv sample 770': ['Bwd Pkts/s', 'Fwd IAT Min', 'Init Bwd Win Byts', 'Pkt Len Var', 'Active Max', 'Fwd Pkt Len Mean', 'Bwd Seg Size Avg', 'Bwd IAT Min', 'Pkt Len Min', 'Idle Max'], 'Adv sample 771': ['Idle Std', 'ACK Flag Cnt', 'Init Bwd Win Byts', 'Bwd Byts/b Avg', 'Pkt Len Min', 'Fwd IAT Tot', 'Flow Duration', 'Bwd Pkts/b Avg', 'Pkt Size Avg', 'Pkt Len Mean'], 'Adv sample 772': ['Bwd IAT Min', 'Bwd IAT Mean', 'Bwd IAT Max', 'Fwd Pkts/b Avg', 'Init Bwd Win Byts', 'Bwd Pkts/s', 'Down/Up Ratio', 'Flow Pkts/s', 'Fwd Blk Rate Avg', 'Pkt Len Min'], 'Adv sample 773': ['ACK Flag Cnt', 'Bwd IAT Mean', 'Bwd IAT Max', 'Init Bwd Win Byts', 'Idle Std', 'Bwd IAT Tot', 'Pkt Len Min', 'Bwd Byts/b Avg', 'Bwd Pkt Len Min', 'Fwd Pkt Len Mean'], 'Adv sample 774': ['Bwd IAT Min', 'Bwd IAT Max', 'Bwd IAT Mean', 'Init Bwd Win Byts', 'Bwd Pkts/s', 'Fwd Pkts/b Avg', 'Flow Pkts/s', 'Down/Up Ratio', 'Bwd Pkt Len Mean', 'URG Flag Cnt'], 'Adv sample 775': ['Bwd IAT Std', 'Fwd IAT Min', 'Bwd Pkts/b Avg', 'Init Bwd Win Byts', 'Bwd IAT Max', 'Tot Bwd Pkts', 'Bwd IAT Tot', 'Pkt Len Min', 'URG Flag Cnt', 'Fwd Header Len'], 'Adv sample 776': ['Bwd IAT Min', 'Bwd IAT Mean', 'Fwd Pkts/b Avg', 'Fwd IAT Mean', 'Init Bwd Win Byts', 'Pkt Len Min', 'Down/Up Ratio', 'Flow Pkts/s', 'PSH Flag Cnt', 'Bwd Pkt Len Mean'], 'Adv sample 777': ['SYN Flag Cnt', 'Bwd IAT Mean', 'Fwd Byts/b Avg', 'Fwd IAT Min', 'Bwd Pkts/b Avg', 'Fwd IAT Mean', 'Fwd Act Data Pkts', 'Init Bwd Win Byts', 'Subflow Fwd Pkts', 'Pkt Len Min'], 'Adv sample 778': ['ACK Flag Cnt', 'Bwd IAT Min', 'Bwd IAT Mean', 'Bwd IAT Max', 'Init Bwd Win Byts', 'Bwd Pkts/s', 'Flow Pkts/s', 'Fwd Pkts/b Avg', 'Pkt Len Min', 'Bwd Pkt Len Max'], 'Adv sample 779': ['Bwd IAT Min', 'ACK Flag Cnt', 'Bwd IAT Max', 'Bwd IAT Mean', 'Init Bwd Win Byts', 'Bwd Pkts/s', 'Subflow Fwd Byts', 'Fwd IAT Mean', 'Down/Up Ratio', 'Pkt Len Min'], 'Adv sample 780': ['Bwd IAT Min', 'Bwd IAT Mean', 'Init Bwd Win Byts', 'Fwd Pkts/b Avg', 'Fwd IAT Mean', 'Fwd Blk Rate Avg', 'Pkt Len Mean', 'Flow Pkts/s', 'Down/Up Ratio', 'Bwd Seg Size Avg'], 'Adv sample 781': ['SYN Flag Cnt', 'Bwd IAT Mean', 'Fwd IAT Min', 'Init Bwd Win Byts', 'Bwd IAT Max', 'Bwd Pkts/b Avg', 'Pkt Size Avg', 'Fwd Byts/b Avg', 'Flow Pkts/s', 'Bwd Pkts/s'], 'Adv sample 782': ['SYN Flag Cnt', 'Bwd IAT Mean', 'Fwd IAT Min', 'Init Bwd Win Byts', 'Bwd Pkts/b Avg', 'Bwd IAT Tot', 'Fwd Byts/b Avg', 'Bwd IAT Max', 'Fwd IAT Mean', 'Bwd IAT Min'], 'Adv sample 783': ['Bwd IAT Min', 'Bwd IAT Mean', 'Bwd IAT Max', 'Init Bwd Win Byts', 'Bwd Pkts/s', 'Down/Up Ratio', 'Active Mean', 'Fwd Blk Rate Avg', 'Flow Byts/s', 'Pkt Len Std'], 'Adv sample 784': ['Bwd IAT Mean', 'Bwd IAT Min', 'Init Bwd Win Byts', 'Fwd Pkts/b Avg', 'Down/Up Ratio', 'Fwd Blk Rate Avg', 'Fwd Pkt Len Std', 'Bwd Pkt Len Max', 'Fwd Pkt Len Mean', 'Flow Byts/s'], 'Adv sample 785': ['ACK Flag Cnt', 'Active Mean', 'Active Max', 'Flow IAT Std', 'Init Bwd Win Byts', 'Flow IAT Mean', 'Bwd Pkt Len Min', 'Bwd PSH Flags', 'Bwd URG Flags', 'Bwd IAT Max'], 'Adv sample 786': ['SYN Flag Cnt', 'Bwd IAT Mean', 'Fwd IAT Min', 'Init Bwd Win Byts', 'Bwd IAT Max', 'Fwd Byts/b Avg', 'Bwd Pkts/b Avg', 'Bwd Pkts/s', 'Bwd Pkt Len Std', 'Active Min'], 'Adv sample 787': ['SYN Flag Cnt', 'Bwd IAT Mean', 'Fwd IAT Min', 'Fwd Byts/b Avg', 'Fwd Pkts/b Avg', 'Init Bwd Win Byts', 'Pkt Len Min', 'Pkt Len Max', 'Bwd IAT Tot', 'Fwd IAT Mean'], 'Adv sample 788': ['Bwd IAT Min', 'Bwd IAT Mean', 'Idle Max', 'Fwd Pkts/b Avg', 'Init Bwd Win Byts', 'Down/Up Ratio', 'Pkt Len Max', 'Fwd Blk Rate Avg', 'Fwd Pkt Len Min', 'Pkt Len Min'], 'Adv sample 789': ['ACK Flag Cnt', 'Bwd IAT Min', 'Bwd IAT Mean', 'Bwd IAT Max', 'Bwd Pkts/s', 'Init Bwd Win Byts', 'Fwd IAT Mean', 'Bwd URG Flags', 'Pkt Len Mean', 'Flow Pkts/s'], 'Adv sample 790': ['ACK Flag Cnt', 'Active Mean', 'Active Max', 'Flow IAT Std', 'Flow IAT Mean', 'Init Bwd Win Byts', 'Idle Mean', 'Active Min', 'Fwd IAT Mean', 'Pkt Len Min'], 'Adv sample 791': ['SYN Flag Cnt', 'Bwd IAT Mean', 'Fwd IAT Min', 'Bwd Pkts/s', 'Init Bwd Win Byts', 'Bwd IAT Max', 'Fwd Byts/b Avg', 'Bwd Pkts/b Avg', 'TotLen Bwd Pkts', 'Down/Up Ratio'], 'Adv sample 792': ['ACK Flag Cnt', 'Bwd IAT Min', 'Bwd IAT Mean', 'Bwd IAT Max', 'Init Bwd Win Byts', 'Bwd Pkts/s', 'Fwd IAT Mean', 'Fwd Pkts/b Avg', 'Bwd Pkt Len Min', 'Bwd Seg Size Avg'], 'Adv sample 793': ['Bwd IAT Min', 'Bwd IAT Mean', 'Bwd IAT Max', 'Init Bwd Win Byts', 'Bwd Pkts/s', 'Fwd Pkts/b Avg', 'Pkt Len Min', 'PSH Flag Cnt', 'Fwd Blk Rate Avg', 'Bwd IAT Std'], 'Adv sample 794': ['ACK Flag Cnt', 'Bwd IAT Mean', 'Bwd IAT Min', 'Bwd IAT Max', 'Init Bwd Win Byts', 'Bwd Pkts/s', 'Flow Pkts/s', 'Flow Byts/s', 'Fwd IAT Mean', 'Down/Up Ratio'], 'Adv sample 795': ['SYN Flag Cnt', 'Bwd IAT Mean', 'Fwd IAT Min', 'Bwd IAT Max', 'Fwd Byts/b Avg', 'Init Bwd Win Byts', 'Pkt Len Min', 'TotLen Fwd Pkts', 'Fwd Seg Size Avg', 'Flow IAT Min'], 'Adv sample 796': ['Bwd Pkts/s', 'Fwd IAT Min', 'Init Bwd Win Byts', 'Pkt Len Min', 'Pkt Len Mean', 'Fwd Pkt Len Std', 'Bwd IAT Mean', 'Idle Max', 'PSH Flag Cnt', 'Subflow Bwd Pkts'], 'Adv sample 797': ['SYN Flag Cnt', 'Bwd IAT Mean', 'Fwd IAT Min', 'Fwd Byts/b Avg', 'Fwd Pkts/b Avg', 'Init Bwd Win Byts', 'Fwd IAT Mean', 'TotLen Bwd Pkts', 'Pkt Len Min', 'Active Min'], 'Adv sample 798': ['SYN Flag Cnt', 'Bwd IAT Mean', 'Fwd IAT Min', 'Init Bwd Win Byts', 'Bwd IAT Max', 'Fwd Byts/b Avg', 'Bwd Pkts/s', 'Bwd IAT Tot', 'Bwd PSH Flags', 'Subflow Fwd Pkts'], 'Adv sample 799': ['Bwd IAT Min', 'Bwd IAT Mean', 'Fwd Pkts/b Avg', 'Init Bwd Win Byts', 'Fwd IAT Mean', 'Fwd Blk Rate Avg', 'Pkt Len Min', 'Idle Mean', 'Idle Max', 'Flow Pkts/s'], 'Adv sample 800': ['Bwd IAT Min', 'Bwd IAT Mean', 'Bwd IAT Max', 'Fwd Pkts/b Avg', 'Init Bwd Win Byts', 'Pkt Len Min', 'Bwd Pkt Len Min', 'Flow IAT Std', 'Bwd Pkts/s', 'Idle Max'], 'Adv sample 801': ['SYN Flag Cnt', 'Bwd IAT Mean', 'Fwd IAT Min', 'Fwd Byts/b Avg', 'Bwd Pkts/b Avg', 'Init Bwd Win Byts', 'URG Flag Cnt', 'Subflow Fwd Pkts', 'Flow IAT Mean', 'Fwd Pkts/b Avg'], 'Adv sample 802': ['Bwd IAT Min', 'Bwd IAT Mean', 'Fwd Pkts/b Avg', 'Init Bwd Win Byts', 'Pkt Len Std', 'Down/Up Ratio', 'Pkt Len Mean', 'Idle Min', 'Fwd Blk Rate Avg', 'Bwd Pkt Len Max'], 'Adv sample 803': ['Bwd IAT Min', 'Bwd IAT Mean', 'Bwd IAT Max', 'Init Bwd Win Byts', 'Fwd Pkts/b Avg', 'Pkt Len Min', 'Down/Up Ratio', 'Bwd Pkt Len Min', 'Flow IAT Mean', 'Idle Mean'], 'Adv sample 804': ['Bwd IAT Min', 'Bwd IAT Mean', 'Bwd IAT Max', 'Bwd Pkts/s', 'Init Bwd Win Byts', 'Fwd Pkts/b Avg', 'Pkt Len Min', 'Pkt Size Avg', 'Flow Pkts/s', 'Bwd Pkt Len Mean'], 'Adv sample 805': ['Bwd IAT Min', 'Bwd IAT Mean', 'Bwd IAT Max', 'Init Bwd Win Byts', 'Bwd Pkts/s', 'Fwd Pkts/b Avg', 'Pkt Len Min', 'TotLen Fwd Pkts', 'Pkt Size Avg', 'Bwd Pkt Len Max'], 'Adv sample 806': ['SYN Flag Cnt', 'Bwd IAT Mean', 'Fwd IAT Min', 'Init Bwd Win Byts', 'Bwd IAT Max', 'Fwd Byts/b Avg', 'Bwd IAT Tot', 'Bwd Pkts/b Avg', 'Flow Byts/s', 'Bwd IAT Std'], 'Adv sample 807': ['ACK Flag Cnt', 'Bwd IAT Max', 'Bwd IAT Mean', 'Bwd IAT Min', 'Bwd Pkts/s', 'Fwd Pkts/b Avg', 'Init Bwd Win Byts', 'Flow Pkts/s', 'Fwd IAT Mean', 'Down/Up Ratio'], 'Adv sample 808': ['Bwd IAT Min', 'Bwd IAT Mean', 'Bwd IAT Max', 'Init Bwd Win Byts', 'Bwd Pkts/s', 'Pkt Len Min', 'Fwd Pkts/b Avg', 'Fwd Pkt Len Std', 'Down/Up Ratio', 'Flow Byts/s'], 'Adv sample 809': ['Bwd IAT Min', 'Bwd IAT Max', 'Bwd IAT Mean', 'Bwd Pkts/s', 'Init Bwd Win Byts', 'Fwd Pkts/b Avg', 'Pkt Len Min', 'Down/Up Ratio', 'Bwd Header Len', 'TotLen Bwd Pkts'], 'Adv sample 810': ['Bwd IAT Min', 'Bwd IAT Max', 'Bwd IAT Mean', 'Init Bwd Win Byts', 'Fwd Pkts/b Avg', 'Down/Up Ratio', 'Bwd PSH Flags', 'Bwd Pkts/s', 'Pkt Len Min', 'Fwd IAT Mean'], 'Adv sample 811': ['Bwd IAT Min', 'Bwd IAT Mean', 'Bwd IAT Max', 'Fwd Pkts/b Avg', 'Fwd Blk Rate Avg', 'Bwd Pkts/s', 'Init Bwd Win Byts', 'Down/Up Ratio', 'Flow Pkts/s', 'Fwd Pkt Len Std'], 'Adv sample 812': ['ACK Flag Cnt', 'Bwd IAT Min', 'Fwd IAT Mean', 'Idle Max', 'Init Bwd Win Byts', 'Bwd Pkt Len Max', 'Pkt Len Min', 'Pkt Size Avg', 'Idle Min', 'URG Flag Cnt'], 'Adv sample 813': ['Bwd IAT Min', 'Bwd IAT Mean', 'Bwd IAT Max', 'Init Bwd Win Byts', 'Bwd Pkts/s', 'Fwd Pkts/b Avg', 'Down/Up Ratio', 'Flow Pkts/s', 'Fwd IAT Min', 'Fwd Pkt Len Max'], 'Adv sample 814': ['Bwd IAT Min', 'Bwd IAT Mean', 'Fwd IAT Mean', 'Init Bwd Win Byts', 'Fwd Blk Rate Avg', 'Fwd Pkts/b Avg', 'Flow Pkts/s', 'Bwd Header Len', 'Down/Up Ratio', 'PSH Flag Cnt'], 'Adv sample 815': ['SYN Flag Cnt', 'Bwd IAT Mean', 'Fwd IAT Min', 'Bwd IAT Max', 'Init Bwd Win Byts', 'Bwd Pkts/b Avg', 'Fwd Byts/b Avg', 'Pkt Len Min', 'Bwd IAT Min', 'Fwd Pkts/b Avg'], 'Adv sample 816': ['Bwd IAT Mean', 'Bwd IAT Min', 'Init Bwd Win Byts', 'Fwd Pkts/b Avg', 'Pkt Len Min', 'Fwd Blk Rate Avg', 'Pkt Len Std', 'Pkt Len Mean', 'Bwd Pkt Len Max', 'Subflow Bwd Byts'], 'Adv sample 817': ['ACK Flag Cnt', 'Bwd IAT Min', 'Bwd IAT Mean', 'Bwd IAT Max', 'Init Bwd Win Byts', 'Bwd Pkts/s', 'Flow Pkts/s', 'Pkt Len Min', 'Fwd IAT Mean', 'Active Mean'], 'Adv sample 818': ['SYN Flag Cnt', 'Bwd IAT Mean', 'Fwd IAT Min', 'Init Bwd Win Byts', 'Bwd Pkts/b Avg', 'Fwd Byts/b Avg', 'Fwd IAT Mean', 'Pkt Len Min', 'Bwd Pkt Len Min', 'Bwd IAT Min'], 'Adv sample 819': ['Bwd IAT Min', 'Bwd IAT Mean', 'Init Bwd Win Byts', 'Flow Pkts/s', 'Fwd Blk Rate Avg', 'Fwd Pkts/b Avg', 'Pkt Len Min', 'Fwd IAT Mean', 'Down/Up Ratio', 'Fwd Act Data Pkts'], 'Adv sample 820': ['Bwd IAT Min', 'Bwd IAT Mean', 'Bwd IAT Max', 'Bwd Pkts/s', 'Init Bwd Win Byts', 'Fwd Pkts/b Avg', 'Bwd URG Flags', 'Pkt Len Mean', 'Pkt Len Min', 'Fwd Pkts/s'], 'Adv sample 821': ['SYN Flag Cnt', 'Bwd IAT Mean', 'Fwd IAT Min', 'Bwd IAT Max', 'Fwd Byts/b Avg', 'Fwd Pkt Len Mean', 'Init Bwd Win Byts', 'Bwd IAT Tot', 'Down/Up Ratio', 'Pkt Len Min'], 'Adv sample 822': ['Bwd IAT Min', 'Bwd IAT Mean', 'Bwd IAT Max', 'Fwd Pkts/b Avg', 'Bwd Pkts/s', 'Fwd Blk Rate Avg', 'Flow Pkts/s', 'Down/Up Ratio', 'Init Bwd Win Byts', 'Fwd Seg Size Avg'], 'Adv sample 823': ['ACK Flag Cnt', 'Active Mean', 'Active Max', 'Flow IAT Std', 'Init Bwd Win Byts', 'PSH Flag Cnt', 'Flow IAT Mean', 'Pkt Len Min', 'Pkt Len Max', 'Pkt Len Mean'], 'Adv sample 824': ['ACK Flag Cnt', 'Active Mean', 'Active Max', 'Flow IAT Std', 'Flow IAT Mean', 'Init Bwd Win Byts', 'Pkt Len Min', 'Subflow Fwd Byts', 'Fwd Pkts/s', 'Subflow Bwd Byts'], 'Adv sample 825': ['ACK Flag Cnt', 'Bwd IAT Min', 'Bwd IAT Mean', 'Bwd IAT Max', 'Bwd Pkts/s', 'Flow Pkts/s', 'Idle Mean', 'Fwd IAT Mean', 'Fwd Pkts/s', 'Pkt Len Std'], 'Adv sample 826': ['SYN Flag Cnt', 'Bwd IAT Mean', 'Fwd IAT Min', 'Init Bwd Win Byts', 'Bwd IAT Max', 'Fwd Byts/b Avg', 'Bwd IAT Tot', 'Bwd Pkts/b Avg', 'Fwd IAT Mean', 'Subflow Bwd Pkts'], 'Adv sample 827': ['Bwd IAT Min', 'ACK Flag Cnt', 'Bwd IAT Max', 'Bwd IAT Mean', 'Init Bwd Win Byts', 'Fwd IAT Mean', 'Fwd Pkts/b Avg', 'Bwd Pkts/s', 'Bwd Pkt Len Std', 'Active Std'], 'Adv sample 828': ['Bwd Pkts/s', 'Fwd IAT Min', 'Tot Bwd Pkts', 'Subflow Fwd Pkts', 'Idle Min', 'Fwd Pkts/s', 'Flow Duration', 'TotLen Fwd Pkts', 'TotLen Bwd Pkts', 'Fwd Pkt Len Max'], 'Adv sample 829': ['ACK Flag Cnt', 'Bwd IAT Min', 'Bwd IAT Mean', 'Bwd IAT Max', 'Init Bwd Win Byts', 'Bwd Pkts/s', 'Pkt Len Min', 'Flow Pkts/s', 'Fwd IAT Mean', 'Tot Fwd Pkts'], 'Adv sample 830': ['Bwd IAT Min', 'Bwd IAT Mean', 'Bwd IAT Max', 'Init Bwd Win Byts', 'Bwd Pkts/s', 'Pkt Len Min', 'Flow Pkts/s', 'Bwd Pkt Len Min', 'Fwd Pkts/b Avg', 'Idle Mean'], 'Adv sample 831': ['Bwd Pkts/s', 'Fwd IAT Min', 'Init Bwd Win Byts', 'Down/Up Ratio', 'Flow Byts/s', 'PSH Flag Cnt', 'Pkt Len Mean', 'Fwd Seg Size Avg', 'Bwd PSH Flags', 'Fwd Header Len'], 'Adv sample 832': ['Bwd Pkts/s', 'Fwd IAT Min', 'Init Bwd Win Byts', 'Bwd Pkt Len Mean', 'Idle Min', 'Down/Up Ratio', 'Flow IAT Min', 'Flow Duration', 'Tot Fwd Pkts', 'Tot Bwd Pkts'], 'Adv sample 833': ['ACK Flag Cnt', 'Bwd IAT Min', 'Bwd IAT Max', 'Bwd IAT Mean', 'Init Bwd Win Byts', 'Bwd Pkts/s', 'Fwd IAT Mean', 'Flow Pkts/s', 'Pkt Size Avg', 'Tot Bwd Pkts'], 'Adv sample 834': ['SYN Flag Cnt', 'Bwd IAT Mean', 'Fwd IAT Min', 'Init Bwd Win Byts', 'Bwd Pkts/b Avg', 'Tot Fwd Pkts', 'Fwd Byts/b Avg', 'Fwd Pkts/s', 'Bwd IAT Min', 'Flow IAT Std'], 'Adv sample 835': ['Bwd IAT Min', 'Bwd IAT Mean', 'Bwd IAT Max', 'Init Bwd Win Byts', 'Fwd Pkts/b Avg', 'Down/Up Ratio', 'Pkt Len Min', 'Bwd Pkts/s', 'Active Std', 'Flow Pkts/s'], 'Adv sample 836': ['Bwd IAT Min', 'ACK Flag Cnt', 'Fwd IAT Mean', 'Idle Max', 'Init Bwd Win Byts', 'Bwd Pkt Len Mean', 'Pkt Size Avg', 'Idle Min', 'Tot Bwd Pkts', 'Bwd URG Flags'], 'Adv sample 837': ['SYN Flag Cnt', 'Bwd IAT Mean', 'Fwd IAT Min', 'Bwd IAT Max', 'Fwd Byts/b Avg', 'Fwd IAT Mean', 'Flow Byts/s', 'Subflow Fwd Pkts', 'Init Bwd Win Byts', 'Pkt Len Min'], 'Adv sample 838': ['Bwd IAT Mean', 'Bwd IAT Min', 'Init Bwd Win Byts', 'Fwd Pkts/b Avg', 'Pkt Len Min', 'Fwd Blk Rate Avg', 'Flow IAT Std', 'Down/Up Ratio', 'Pkt Len Mean', 'Flow IAT Max'], 'Adv sample 839': ['ACK Flag Cnt', 'Bwd IAT Min', 'Bwd IAT Mean', 'Bwd IAT Max', 'Bwd Pkts/s', 'Init Bwd Win Byts', 'Flow Pkts/s', 'Fwd IAT Mean', 'Pkt Len Min', 'Fwd Pkt Len Std'], 'Adv sample 840': ['ACK Flag Cnt', 'Active Mean', 'Active Max', 'Init Bwd Win Byts', 'Flow IAT Std', 'Pkt Len Std', 'Flow IAT Mean', 'Bwd Pkt Len Min', 'Flow Pkts/s', 'Fwd Pkt Len Min'], 'Adv sample 841': ['Bwd IAT Min', 'Bwd IAT Mean', 'Bwd IAT Max', 'Init Bwd Win Byts', 'Bwd Pkts/s', 'Fwd Pkts/b Avg', 'Idle Min', 'Down/Up Ratio', 'Fwd Pkt Len Std', 'Pkt Len Min'], 'Adv sample 842': ['SYN Flag Cnt', 'Fwd IAT Min', 'Bwd IAT Mean', 'Fwd Byts/b Avg', 'Bwd IAT Max', 'Init Bwd Win Byts', 'Pkt Len Min', 'Fwd IAT Mean', 'Fwd Act Data Pkts', 'Bwd IAT Tot'], 'Adv sample 843': ['ACK Flag Cnt', 'Bwd IAT Min', 'Bwd IAT Mean', 'Bwd IAT Max', 'Bwd Pkts/s', 'Init Bwd Win Byts', 'Fwd IAT Mean', 'Flow Pkts/s', 'Pkt Len Min', 'Fwd Header Len'], 'Adv sample 844': ['Bwd IAT Min', 'Bwd IAT Mean', 'Bwd IAT Max', 'Fwd Pkts/b Avg', 'Fwd Blk Rate Avg', 'Flow Pkts/s', 'Init Bwd Win Byts', 'Bwd Pkts/s', 'Pkt Len Min', 'Fwd Header Len'], 'Adv sample 845': ['ACK Flag Cnt', 'Fwd IAT Min', 'Bwd IAT Std', 'Flow IAT Std', 'Init Bwd Win Byts', 'Active Max', 'Fwd Pkt Len Min', 'Bwd Pkt Len Min', 'TotLen Bwd Pkts', 'Tot Bwd Pkts'], 'Adv sample 846': ['Bwd IAT Mean', 'Bwd IAT Min', 'Fwd Blk Rate Avg', 'Down/Up Ratio', 'Fwd Pkts/b Avg', 'Init Bwd Win Byts', 'Pkt Len Min', 'Fwd Header Len', 'Fwd Pkt Len Mean', 'Flow Byts/s'], 'Adv sample 847': ['Bwd IAT Min', 'Bwd IAT Mean', 'Bwd IAT Max', 'Fwd Pkts/b Avg', 'Fwd Blk Rate Avg', 'Flow Pkts/s', 'Bwd Pkts/s', 'Down/Up Ratio', 'Pkt Len Min', 'Init Bwd Win Byts'], 'Adv sample 848': ['SYN Flag Cnt', 'Bwd IAT Mean', 'Fwd IAT Min', 'Init Bwd Win Byts', 'Bwd Pkts/s', 'Fwd Byts/b Avg', 'Fwd IAT Mean', 'Bwd PSH Flags', 'Flow Pkts/s', 'Bwd Pkt Len Min'], 'Adv sample 849': ['SYN Flag Cnt', 'Bwd IAT Mean', 'Fwd IAT Min', 'Bwd IAT Max', 'Fwd Byts/b Avg', 'Pkt Len Min', 'Pkt Len Var', 'Bwd IAT Tot', 'Init Bwd Win Byts', 'Fwd Seg Size Avg'], 'Adv sample 850': ['Bwd IAT Mean', 'Bwd IAT Min', 'Fwd Pkts/b Avg', 'Init Bwd Win Byts', 'Bwd Pkt Len Min', 'Fwd Pkt Len Mean', 'Down/Up Ratio', 'Idle Mean', 'Pkt Len Mean', 'PSH Flag Cnt'], 'Adv sample 851': ['Bwd IAT Min', 'Bwd IAT Mean', 'Init Bwd Win Byts', 'Fwd IAT Mean', 'Fwd Pkts/b Avg', 'Flow Pkts/s', 'Fwd Blk Rate Avg', 'Pkt Len Min', 'Bwd Pkt Len Min', 'Down/Up Ratio'], 'Adv sample 852': ['ACK Flag Cnt', 'Idle Std', 'Init Bwd Win Byts', 'Down/Up Ratio', 'Pkt Len Min', 'Bwd Byts/b Avg', 'Bwd IAT Tot', 'Bwd Pkts/b Avg', 'Bwd Pkt Len Min', 'Flow Duration'], 'Adv sample 853': ['Bwd Pkts/s', 'Fwd IAT Min', 'Init Bwd Win Byts', 'Pkt Len Var', 'Pkt Len Std', 'Down/Up Ratio', 'Fwd Pkt Len Std', 'Bwd Seg Size Avg', 'Flow Duration', 'Fwd Seg Size Avg'], 'Adv sample 854': ['ACK Flag Cnt', 'Bwd IAT Min', 'Bwd IAT Mean', 'Bwd IAT Max', 'Bwd Pkts/s', 'Init Bwd Win Byts', 'Fwd IAT Mean', 'Flow Pkts/s', 'Fwd Pkts/b Avg', 'Fwd Pkt Len Mean'], 'Adv sample 855': ['SYN Flag Cnt', 'Bwd IAT Mean', 'Fwd IAT Min', 'Init Bwd Win Byts', 'Bwd IAT Max', 'Fwd Byts/b Avg', 'Bwd Pkt Len Mean', 'Pkt Len Min', 'Bwd IAT Tot', 'Bwd Pkts/s'], 'Adv sample 856': ['ACK Flag Cnt', 'Bwd IAT Min', 'Bwd IAT Mean', 'Bwd IAT Max', 'Init Bwd Win Byts', 'Bwd Pkts/s', 'Flow Pkts/s', 'Fwd Pkts/b Avg', 'Pkt Len Min', 'Fwd IAT Mean'], 'Adv sample 857': ['ACK Flag Cnt', 'Bwd IAT Min', 'Fwd IAT Mean', 'Idle Max', 'Fwd Pkt Len Min', 'Bwd Pkts/s', 'Init Bwd Win Byts', 'Flow Byts/s', 'Fwd Pkt Len Mean', 'Bwd Pkt Len Max'], 'Adv sample 858': ['SYN Flag Cnt', 'Bwd IAT Mean', 'Fwd IAT Min', 'Bwd IAT Max', 'Init Bwd Win Byts', 'Fwd Byts/b Avg', 'Bwd IAT Tot', 'Bwd Pkts/s', 'Fwd IAT Mean', 'Active Std'], 'Adv sample 859': ['Bwd IAT Min', 'Bwd IAT Mean', 'Bwd IAT Max', 'Init Bwd Win Byts', 'Fwd Pkts/b Avg', 'Bwd Pkts/s', 'Flow Pkts/s', 'Flow Byts/s', 'Down/Up Ratio', 'Idle Max'], 'Adv sample 860': ['ACK Flag Cnt', 'Active Mean', 'Active Max', 'Flow IAT Std', 'Flow IAT Mean', 'Init Bwd Win Byts', 'Pkt Len Min', 'Bwd Pkt Len Std', 'Bwd Seg Size Avg', 'Fwd IAT Min'], 'Adv sample 861': ['Bwd IAT Min', 'Bwd IAT Mean', 'Fwd Pkts/b Avg', 'Init Bwd Win Byts', 'Fwd Blk Rate Avg', 'Down/Up Ratio', 'Active Std', 'Flow Duration', 'Idle Mean', 'Bwd Pkt Len Min'], 'Adv sample 862': ['Bwd Pkts/s', 'Fwd IAT Min', 'Idle Mean', 'Init Bwd Win Byts', 'Bwd Pkt Len Std', 'Subflow Fwd Pkts', 'Active Mean', 'Bwd Header Len', 'TotLen Fwd Pkts', 'Active Min'], 'Adv sample 863': ['ACK Flag Cnt', 'Bwd IAT Mean', 'Bwd IAT Min', 'Bwd IAT Max', 'Init Bwd Win Byts', 'Bwd Pkts/s', 'Flow Pkts/s', 'Fwd Pkts/b Avg', 'Down/Up Ratio', 'Fwd IAT Mean'], 'Adv sample 864': ['Bwd IAT Min', 'Bwd IAT Mean', 'Bwd IAT Max', 'Bwd Pkts/s', 'Init Bwd Win Byts', 'Fwd Pkts/b Avg', 'Pkt Len Min', 'Flow Pkts/s', 'Idle Max', 'Bwd Pkt Len Min'], 'Adv sample 865': ['Bwd IAT Min', 'Bwd IAT Mean', 'Bwd IAT Max', 'Init Bwd Win Byts', 'Fwd Pkts/b Avg', 'Bwd Seg Size Avg', 'Down/Up Ratio', 'Pkt Len Min', 'Bwd Pkts/s', 'Subflow Fwd Pkts'], 'Adv sample 866': ['Bwd IAT Mean', 'Bwd IAT Min', 'Init Bwd Win Byts', 'Fwd Pkts/b Avg', 'Pkt Len Min', 'Pkt Len Max', 'Fwd Blk Rate Avg', 'Pkt Len Std', 'Down/Up Ratio', 'Pkt Size Avg'], 'Adv sample 867': ['Bwd Pkts/s', 'Init Bwd Win Byts', 'Fwd IAT Min', 'PSH Flag Cnt', 'Bwd IAT Max', 'Idle Std', 'Fwd Header Len', 'FIN Flag Cnt', 'Bwd Seg Size Avg', 'Flow Duration'], 'Adv sample 868': ['Bwd Pkts/s', 'Fwd IAT Min', 'Pkt Len Std', 'Init Bwd Win Byts', 'Flow IAT Mean', 'Subflow Bwd Byts', 'Pkt Len Max', 'Flow Duration', 'Tot Fwd Pkts', 'Tot Bwd Pkts'], 'Adv sample 869': ['Bwd IAT Min', 'Bwd IAT Mean', 'Bwd IAT Max', 'Fwd Pkts/b Avg', 'Init Bwd Win Byts', 'Bwd Pkts/s', 'Down/Up Ratio', 'Pkt Len Min', 'Fwd IAT Mean', 'Pkt Size Avg'], 'Adv sample 870': ['ACK Flag Cnt', 'Bwd IAT Min', 'Bwd IAT Mean', 'Bwd IAT Max', 'Init Bwd Win Byts', 'Bwd Pkts/s', 'Flow Pkts/s', 'Fwd IAT Mean', 'Flow Duration', 'Bwd Seg Size Avg'], 'Adv sample 871': ['SYN Flag Cnt', 'Bwd IAT Mean', 'Fwd IAT Min', 'Init Bwd Win Byts', 'Bwd IAT Max', 'Fwd Byts/b Avg', 'Fwd IAT Mean', 'Bwd Pkts/b Avg', 'Pkt Len Min', 'Bwd Pkt Len Max'], 'Adv sample 872': ['SYN Flag Cnt', 'Bwd IAT Mean', 'Fwd IAT Min', 'Init Bwd Win Byts', 'Fwd Byts/b Avg', 'Bwd Pkts/b Avg', 'Fwd IAT Mean', 'Subflow Bwd Byts', 'Fwd Header Len', 'Bwd URG Flags'], 'Adv sample 873': ['ACK Flag Cnt', 'Bwd IAT Min', 'Bwd IAT Max', 'Bwd IAT Mean', 'Init Bwd Win Byts', 'Bwd Pkts/s', 'Flow Pkts/s', 'Fwd IAT Mean', 'Flow IAT Min', 'Fwd Pkts/b Avg'], 'Adv sample 874': ['ACK Flag Cnt', 'Bwd IAT Min', 'Bwd IAT Mean', 'Bwd IAT Max', 'Init Bwd Win Byts', 'Bwd Pkts/s', 'Flow Pkts/s', 'Fwd IAT Mean', 'Down/Up Ratio', 'Pkt Len Std'], 'Adv sample 875': ['SYN Flag Cnt', 'Bwd IAT Mean', 'Init Bwd Win Byts', 'Fwd IAT Min', 'Bwd IAT Max', 'Bwd Pkts/s', 'Fwd Byts/b Avg', 'Pkt Len Min', 'Bwd Pkts/b Avg', 'Bwd IAT Tot'], 'Adv sample 876': ['SYN Flag Cnt', 'Bwd IAT Mean', 'Fwd IAT Min', 'Init Bwd Win Byts', 'Bwd IAT Max', 'Fwd Byts/b Avg', 'Bwd IAT Tot', 'Bwd Pkts/s', 'Fwd IAT Mean', 'Bwd Pkt Len Min'], 'Adv sample 877': ['SYN Flag Cnt', 'Bwd IAT Mean', 'Fwd IAT Min', 'Init Bwd Win Byts', 'Fwd IAT Mean', 'Fwd Byts/b Avg', 'Flow Pkts/s', 'Bwd Pkts/s', 'Bwd Pkts/b Avg', 'Pkt Len Min'], 'Adv sample 878': ['URG Flag Cnt', 'FIN Flag Cnt', 'Bwd URG Flags', 'Idle Min', 'Fwd IAT Mean', 'Idle Max', 'Init Bwd Win Byts', 'Down/Up Ratio', 'Pkt Size Avg', 'Subflow Bwd Pkts'], 'Adv sample 879': ['Bwd IAT Min', 'Bwd IAT Mean', 'Bwd IAT Max', 'Bwd Pkts/s', 'Init Bwd Win Byts', 'Fwd Pkts/b Avg', 'Pkt Len Min', 'Down/Up Ratio', 'Fwd Blk Rate Avg', 'Flow Pkts/s'], 'Adv sample 880': ['SYN Flag Cnt', 'Bwd IAT Mean', 'Fwd IAT Min', 'Bwd IAT Max', 'Fwd Byts/b Avg', 'Pkt Len Std', 'Init Bwd Win Byts', 'Subflow Bwd Pkts', 'Bwd Header Len', 'Fwd Seg Size Avg'], 'Adv sample 881': ['Bwd IAT Min', 'Bwd IAT Mean', 'Init Bwd Win Byts', 'Fwd Pkts/b Avg', 'Pkt Len Min', 'Fwd IAT Mean', 'Down/Up Ratio', 'Idle Min', 'Pkt Len Max', 'Fwd Pkt Len Mean'], 'Adv sample 882': ['Bwd IAT Min', 'Bwd IAT Max', 'Bwd IAT Mean', 'Fwd Pkts/b Avg', 'Init Bwd Win Byts', 'Pkt Len Min', 'Pkt Len Max', 'Fwd IAT Mean', 'Down/Up Ratio', 'Subflow Fwd Byts'], 'Adv sample 883': ['ACK Flag Cnt', 'Bwd IAT Min', 'Bwd IAT Max', 'Bwd IAT Mean', 'Init Bwd Win Byts', 'Bwd Pkts/s', 'Flow Pkts/s', 'Fwd IAT Mean', 'Fwd Pkts/b Avg', 'Flow Byts/s'], 'Adv sample 884': ['ACK Flag Cnt', 'Bwd IAT Min', 'Fwd IAT Mean', 'Idle Max', 'Bwd Header Len', 'Bwd Pkts/s', 'Pkt Len Std', 'Fwd Act Data Pkts', 'Bwd Pkt Len Min', 'Idle Min'], 'Adv sample 885': ['SYN Flag Cnt', 'Bwd IAT Mean', 'Fwd IAT Min', 'Fwd Byts/b Avg', 'Fwd Pkts/b Avg', 'Init Bwd Win Byts', 'Pkt Len Std', 'Bwd IAT Max', 'Bwd Pkt Len Mean', 'Bwd Seg Size Avg'], 'Adv sample 886': ['Bwd IAT Min', 'Bwd IAT Mean', 'Fwd Pkts/b Avg', 'Fwd IAT Mean', 'Init Bwd Win Byts', 'Pkt Len Min', 'Fwd Blk Rate Avg', 'Down/Up Ratio', 'Flow Pkts/s', 'Bwd URG Flags'], 'Adv sample 887': ['ACK Flag Cnt', 'Idle Std', 'Init Bwd Win Byts', 'Down/Up Ratio', 'Bwd Byts/b Avg', 'Bwd IAT Tot', 'Pkt Len Min', 'Bwd Pkts/b Avg', 'Bwd PSH Flags', 'Idle Max'], 'Adv sample 888': ['SYN Flag Cnt', 'Bwd IAT Mean', 'Fwd IAT Min', 'Fwd Byts/b Avg', 'Init Bwd Win Byts', 'Pkt Len Min', 'Flow IAT Min', 'Bwd IAT Max', 'Flow Byts/s', 'Flow Duration'], 'Adv sample 889': ['SYN Flag Cnt', 'Fwd IAT Mean', 'Fwd IAT Min', 'Fwd Byts/b Avg', 'Init Bwd Win Byts', 'Bwd Pkts/s', 'Fwd Pkts/b Avg', 'Bwd IAT Std', 'Flow Pkts/s', 'Fwd IAT Std'], 'Adv sample 890': ['SYN Flag Cnt', 'Bwd IAT Mean', 'Init Bwd Win Byts', 'Bwd Pkts/b Avg', 'Fwd Byts/b Avg', 'Fwd IAT Min', 'Flow IAT Max', 'Fwd Pkts/s', 'Flow Byts/s', 'Bwd Pkt Len Min'], 'Adv sample 891': ['Bwd IAT Mean', 'Bwd IAT Min', 'Init Bwd Win Byts', 'Fwd Pkts/b Avg', 'Fwd Blk Rate Avg', 'Bwd Pkt Len Min', 'Pkt Len Mean', 'Down/Up Ratio', 'Bwd Seg Size Avg', 'Bwd Pkt Len Mean'], 'Adv sample 892': ['ACK Flag Cnt', 'Bwd IAT Min', 'Bwd IAT Mean', 'Bwd IAT Max', 'Init Bwd Win Byts', 'Bwd Pkts/s', 'Pkt Len Min', 'Fwd IAT Mean', 'Flow Pkts/s', 'Pkt Len Mean'], 'Adv sample 893': ['Bwd IAT Min', 'Bwd IAT Mean', 'Bwd IAT Max', 'Init Bwd Win Byts', 'Fwd Blk Rate Avg', 'Pkt Len Min', 'Bwd Pkts/s', 'Down/Up Ratio', 'Fwd Pkts/b Avg', 'Bwd Pkt Len Std'], 'Adv sample 894': ['Bwd IAT Min', 'Bwd IAT Mean', 'Bwd IAT Max', 'Init Bwd Win Byts', 'Pkt Len Min', 'Bwd Pkts/s', 'Fwd IAT Mean', 'Fwd Pkts/b Avg', 'Down/Up Ratio', 'Flow Pkts/s'], 'Adv sample 895': ['ACK Flag Cnt', 'Bwd IAT Min', 'Bwd IAT Mean', 'Bwd IAT Max', 'Bwd Pkts/s', 'Init Bwd Win Byts', 'Fwd IAT Mean', 'Flow Pkts/s', 'Active Max', 'Fwd Pkts/b Avg'], 'Adv sample 896': ['Idle Std', 'ACK Flag Cnt', 'Bwd Byts/b Avg', 'Init Bwd Win Byts', 'Pkt Len Min', 'Flow IAT Std', 'Idle Min', 'Pkt Len Var', 'Bwd Pkt Len Min', 'Fwd Seg Size Avg'], 'Adv sample 897': ['Bwd IAT Mean', 'Bwd IAT Min', 'Init Bwd Win Byts', 'Fwd Pkts/b Avg', 'Pkt Len Min', 'Fwd Blk Rate Avg', 'Fwd Pkt Len Std', 'Down/Up Ratio', 'TotLen Bwd Pkts', 'Flow Duration'], 'Adv sample 898': ['Bwd IAT Std', 'Fwd IAT Min', 'Fwd Header Len', 'Idle Min', 'Init Bwd Win Byts', 'Pkt Len Max', 'Subflow Fwd Byts', 'Down/Up Ratio', 'Bwd Pkt Len Max', 'Active Min'], 'Adv sample 899': ['Bwd IAT Min', 'Bwd IAT Mean', 'Fwd IAT Mean', 'Fwd Pkts/b Avg', 'Init Bwd Win Byts', 'Fwd Blk Rate Avg', 'Down/Up Ratio', 'Flow Pkts/s', 'Active Mean', 'Subflow Bwd Pkts'], 'Adv sample 900': ['ACK Flag Cnt', 'Idle Std', 'Init Bwd Win Byts', 'Down/Up Ratio', 'Pkt Len Min', 'Bwd Pkts/b Avg', 'Bwd IAT Tot', 'Bwd Byts/b Avg', 'Pkt Size Avg', 'Active Max'], 'Adv sample 901': ['SYN Flag Cnt', 'Bwd IAT Mean', 'Fwd IAT Min', 'Fwd Byts/b Avg', 'Init Bwd Win Byts', 'Fwd Pkts/b Avg', 'Bwd IAT Tot', 'Pkt Len Mean', 'Bwd IAT Max', 'Tot Bwd Pkts'], 'Adv sample 902': ['Idle Std', 'ACK Flag Cnt', 'Init Bwd Win Byts', 'Pkt Len Min', 'Bwd Byts/b Avg', 'Pkt Size Avg', 'Subflow Bwd Pkts', 'Flow IAT Max', 'Fwd Pkts/s', 'Idle Mean'], 'Adv sample 903': ['Bwd IAT Min', 'ACK Flag Cnt', 'Bwd IAT Mean', 'Bwd IAT Max', 'Init Bwd Win Byts', 'Bwd Pkt Len Min', 'Fwd IAT Mean', 'Bwd Pkts/s', 'Bwd Pkt Len Mean', 'Fwd Pkts/b Avg'], 'Adv sample 904': ['SYN Flag Cnt', 'Bwd IAT Mean', 'Fwd IAT Min', 'Fwd Byts/b Avg', 'Pkt Len Min', 'Active Max', 'Init Bwd Win Byts', 'Bwd IAT Max', 'Bwd Header Len', 'Bwd Pkts/s'], 'Adv sample 905': ['Bwd IAT Min', 'Bwd IAT Mean', 'Bwd IAT Max', 'Init Bwd Win Byts', 'Bwd Pkts/s', 'Fwd Pkts/b Avg', 'PSH Flag Cnt', 'Pkt Len Min', 'Idle Min', 'TotLen Bwd Pkts'], 'Adv sample 906': ['URG Flag Cnt', 'FIN Flag Cnt', 'Fwd IAT Mean', 'Bwd URG Flags', 'Idle Min', 'Down/Up Ratio', 'Fwd Seg Size Avg', 'Fwd Pkt Len Max', 'PSH Flag Cnt', 'Init Bwd Win Byts'], 'Adv sample 907': ['SYN Flag Cnt', 'Bwd IAT Mean', 'Fwd IAT Min', 'Fwd Byts/b Avg', 'Fwd Pkts/b Avg', 'Init Bwd Win Byts', 'Down/Up Ratio', 'Bwd IAT Tot', 'Pkt Len Min', 'Fwd IAT Mean'], 'Adv sample 908': ['Bwd IAT Min', 'Bwd IAT Mean', 'Bwd IAT Max', 'Init Bwd Win Byts', 'Bwd Pkts/s', 'Bwd Pkt Len Max', 'Down/Up Ratio', 'Flow Pkts/s', 'Fwd IAT Mean', 'Flow Byts/s'], 'Adv sample 909': ['ACK Flag Cnt', 'Bwd IAT Min', 'Bwd IAT Mean', 'Bwd IAT Max', 'Bwd Pkts/s', 'Flow Pkts/s', 'Init Bwd Win Byts', 'Fwd IAT Mean', 'Down/Up Ratio', 'Pkt Len Min'], 'Adv sample 910': ['ACK Flag Cnt', 'Fwd IAT Mean', 'Bwd IAT Min', 'Idle Max', 'Flow Pkts/s', 'Fwd IAT Min', 'Fwd Act Data Pkts', 'Subflow Bwd Pkts', 'Init Bwd Win Byts', 'Pkt Len Mean'], 'Adv sample 911': ['SYN Flag Cnt', 'Fwd IAT Min', 'Fwd IAT Mean', 'Init Bwd Win Byts', 'Bwd Pkts/s', 'Fwd Byts/b Avg', 'Flow Pkts/s', 'Pkt Len Min', 'Bwd Pkts/b Avg', 'Bwd Pkt Len Min'], 'Adv sample 912': ['Bwd IAT Min', 'Bwd IAT Max', 'Bwd IAT Mean', 'Init Bwd Win Byts', 'Fwd Pkts/b Avg', 'Idle Min', 'Down/Up Ratio', 'Fwd Seg Size Avg', 'Flow Byts/s', 'Pkt Len Var'], 'Adv sample 913': ['Bwd IAT Mean', 'Bwd IAT Min', 'Fwd Pkts/b Avg', 'Init Bwd Win Byts', 'Down/Up Ratio', 'Fwd Blk Rate Avg', 'Bwd Pkt Len Min', 'Fwd IAT Min', 'Pkt Len Min', 'Pkt Len Max'], 'Adv sample 914': ['Bwd IAT Min', 'Bwd IAT Max', 'Bwd IAT Mean', 'Fwd Pkts/b Avg', 'Fwd Blk Rate Avg', 'Bwd Pkts/s', 'Down/Up Ratio', 'Pkt Len Min', 'Init Bwd Win Byts', 'Flow Pkts/s'], 'Adv sample 915': ['Bwd IAT Min', 'Bwd IAT Mean', 'Bwd IAT Max', 'Init Bwd Win Byts', 'Bwd Pkts/s', 'Pkt Len Min', 'Fwd Pkts/b Avg', 'Down/Up Ratio', 'Fwd Pkt Len Min', 'Fwd IAT Mean'], 'Adv sample 916': ['SYN Flag Cnt', 'Bwd IAT Mean', 'Fwd IAT Min', 'Init Bwd Win Byts', 'Bwd IAT Max', 'Fwd Byts/b Avg', 'TotLen Bwd Pkts', 'Bwd Pkts/s', 'Pkt Len Min', 'Fwd Act Data Pkts'], 'Adv sample 917': ['Bwd Pkts/s', 'Init Bwd Win Byts', 'Fwd IAT Min', 'Down/Up Ratio', 'Flow Duration', 'Tot Fwd Pkts', 'Tot Bwd Pkts', 'TotLen Fwd Pkts', 'TotLen Bwd Pkts', 'Fwd Pkt Len Max'], 'Adv sample 918': ['Bwd IAT Min', 'Bwd IAT Mean', 'Bwd IAT Max', 'Fwd Pkts/b Avg', 'Init Bwd Win Byts', 'Bwd Pkts/s', 'Bwd IAT Std', 'Down/Up Ratio', 'Idle Min', 'Fwd Pkt Len Mean'], 'Adv sample 919': ['ACK Flag Cnt', 'Active Mean', 'Active Max', 'Flow IAT Std', 'Pkt Len Mean', 'Init Bwd Win Byts', 'Flow IAT Mean', 'Pkt Len Min', 'Bwd Pkt Len Std', 'Fwd Pkt Len Min'], 'Adv sample 920': ['Bwd IAT Min', 'Bwd IAT Mean', 'Bwd IAT Max', 'Init Bwd Win Byts', 'Fwd Pkts/b Avg', 'Bwd Pkts/s', 'Pkt Len Min', 'Idle Min', 'Idle Max', 'Down/Up Ratio'], 'Adv sample 921': ['SYN Flag Cnt', 'Bwd IAT Mean', 'Fwd IAT Min', 'Init Bwd Win Byts', 'Bwd IAT Max', 'Fwd Byts/b Avg', 'Bwd Pkts/s', 'Bwd Pkts/b Avg', 'Pkt Len Max', 'Pkt Len Min'], 'Adv sample 922': ['Bwd IAT Mean', 'Bwd IAT Min', 'Fwd Pkts/b Avg', 'Init Bwd Win Byts', 'Fwd Blk Rate Avg', 'Fwd Pkt Len Min', 'Down/Up Ratio', 'Idle Min', 'Subflow Fwd Pkts', 'Flow Byts/s'], 'Adv sample 923': ['ACK Flag Cnt', 'Bwd IAT Min', 'Bwd IAT Mean', 'Bwd IAT Max', 'Bwd Pkts/s', 'Init Bwd Win Byts', 'Flow Pkts/s', 'Subflow Bwd Pkts', 'Bwd PSH Flags', 'Fwd Pkts/b Avg'], 'Adv sample 924': ['Bwd Pkts/s', 'Fwd IAT Min', 'Init Bwd Win Byts', 'Down/Up Ratio', 'Pkt Len Mean', 'Bwd Pkt Len Mean', 'Subflow Fwd Byts', 'Bwd Seg Size Avg', 'Fwd Pkt Len Mean', 'Fwd Pkt Len Std'], 'Adv sample 925': ['Bwd IAT Min', 'Bwd IAT Mean', 'Bwd IAT Max', 'Init Bwd Win Byts', 'Fwd Pkts/b Avg', 'Down/Up Ratio', 'Pkt Size Avg', 'Flow Pkts/s', 'Bwd Pkts/s', 'Bwd Pkt Len Max'], 'Adv sample 926': ['Bwd IAT Min', 'Bwd IAT Mean', 'Bwd IAT Max', 'Init Bwd Win Byts', 'Bwd Pkts/s', 'Fwd Pkts/b Avg', 'Pkt Len Mean', 'Bwd Pkt Len Mean', 'Flow Pkts/s', 'Idle Max'], 'Adv sample 927': ['SYN Flag Cnt', 'Fwd IAT Min', 'Fwd IAT Mean', 'Init Bwd Win Byts', 'Fwd Byts/b Avg', 'Bwd Pkts/s', 'Flow Pkts/s', 'Bwd Pkts/b Avg', 'Fwd Pkts/b Avg', 'Bwd Pkt Len Min'], 'Adv sample 928': ['ACK Flag Cnt', 'Bwd IAT Min', 'Bwd IAT Mean', 'Bwd IAT Max', 'Init Bwd Win Byts', 'Bwd Pkts/s', 'Flow Pkts/s', 'Fwd IAT Mean', 'Fwd Pkts/b Avg', 'Fwd Header Len'], 'Adv sample 929': ['SYN Flag Cnt', 'Bwd IAT Mean', 'Fwd IAT Min', 'Fwd Byts/b Avg', 'Init Bwd Win Byts', 'Bwd IAT Min', 'Fwd IAT Mean', 'Tot Bwd Pkts', 'Pkt Len Min', 'TotLen Bwd Pkts'], 'Adv sample 930': ['Bwd IAT Min', 'Bwd IAT Mean', 'Bwd IAT Max', 'Bwd Pkts/s', 'Init Bwd Win Byts', 'Fwd Pkts/b Avg', 'Flow Pkts/s', 'Fwd Blk Rate Avg', 'Idle Mean', 'Fwd Pkts/s'], 'Adv sample 931': ['Bwd IAT Min', 'Bwd IAT Mean', 'Bwd IAT Max', 'Init Bwd Win Byts', 'Fwd Pkts/b Avg', 'Fwd IAT Mean', 'Idle Max', 'Down/Up Ratio', 'Pkt Size Avg', 'Idle Min'], 'Adv sample 932': ['Bwd IAT Mean', 'Bwd IAT Min', 'Fwd Pkts/b Avg', 'Init Bwd Win Byts', 'Fwd Blk Rate Avg', 'Down/Up Ratio', 'Pkt Len Max', 'Bwd Pkt Len Max', 'Active Std', 'Fwd Pkt Len Mean'], 'Adv sample 933': ['SYN Flag Cnt', 'Bwd IAT Mean', 'Fwd IAT Min', 'Fwd Byts/b Avg', 'Init Bwd Win Byts', 'Bwd Pkts/b Avg', 'Subflow Fwd Pkts', 'TotLen Bwd Pkts', 'Fwd Pkts/b Avg', 'Bwd IAT Min'], 'Adv sample 934': ['Bwd IAT Min', 'Bwd IAT Mean', 'Fwd Pkts/b Avg', 'Fwd IAT Mean', 'Init Bwd Win Byts', 'Down/Up Ratio', 'Pkt Size Avg', 'Fwd IAT Min', 'Idle Max', 'Pkt Len Std'], 'Adv sample 935': ['ACK Flag Cnt', 'Active Mean', 'Active Max', 'Init Bwd Win Byts', 'Flow IAT Mean', 'Bwd Pkt Len Std', 'Flow IAT Std', 'Fwd Pkts/s', 'TotLen Bwd Pkts', 'Pkt Len Min'], 'Adv sample 936': ['ACK Flag Cnt', 'Bwd IAT Min', 'Bwd IAT Mean', 'Bwd IAT Max', 'Init Bwd Win Byts', 'Bwd Pkts/s', 'Flow Pkts/s', 'Fwd Pkts/b Avg', 'Fwd Seg Size Avg', 'PSH Flag Cnt'], 'Adv sample 937': ['Bwd IAT Min', 'Bwd IAT Max', 'ACK Flag Cnt', 'Bwd IAT Mean', 'Init Bwd Win Byts', 'Fwd Pkts/b Avg', 'Fwd IAT Mean', 'Bwd Pkts/s', 'Pkt Len Mean', 'Idle Std'], 'Adv sample 938': ['SYN Flag Cnt', 'Bwd IAT Mean', 'Fwd IAT Min', 'Init Bwd Win Byts', 'Bwd IAT Max', 'Fwd Byts/b Avg', 'Flow Pkts/s', 'Bwd Pkts/s', 'Bwd Pkts/b Avg', 'Pkt Len Min'], 'Adv sample 939': ['ACK Flag Cnt', 'Idle Std', 'Init Bwd Win Byts', 'Down/Up Ratio', 'Bwd IAT Tot', 'Pkt Len Min', 'Bwd Byts/b Avg', 'Bwd Pkts/b Avg', 'TotLen Fwd Pkts', 'Fwd IAT Tot'], 'Adv sample 940': ['SYN Flag Cnt', 'Bwd IAT Mean', 'Fwd IAT Min', 'Init Bwd Win Byts', 'Bwd IAT Max', 'Fwd Byts/b Avg', 'Bwd Pkts/b Avg', 'Pkt Len Min', 'Bwd Pkts/s', 'Bwd IAT Tot'], 'Adv sample 941': ['Bwd IAT Min', 'Bwd IAT Mean', 'Init Bwd Win Byts', 'Fwd Pkts/b Avg', 'Fwd IAT Mean', 'Flow Pkts/s', 'Fwd Blk Rate Avg', 'Down/Up Ratio', 'Tot Fwd Pkts', 'Subflow Fwd Pkts'], 'Adv sample 942': ['Bwd IAT Min', 'Bwd IAT Mean', 'Fwd Pkts/b Avg', 'Init Bwd Win Byts', 'Fwd Blk Rate Avg', 'Fwd IAT Mean', 'Pkt Len Min', 'Idle Min', 'Fwd Pkt Len Max', 'Active Mean'], 'Adv sample 943': ['SYN Flag Cnt', 'Bwd IAT Mean', 'Fwd Byts/b Avg', 'Fwd IAT Min', 'Init Bwd Win Byts', 'Fwd Pkts/b Avg', 'Bwd IAT Max', 'Fwd IAT Mean', 'Bwd Pkts/s', 'TotLen Fwd Pkts'], 'Adv sample 944': ['SYN Flag Cnt', 'Bwd IAT Mean', 'Fwd IAT Min', 'Fwd Byts/b Avg', 'Bwd IAT Max', 'Fwd Pkts/s', 'Init Bwd Win Byts', 'Fwd Act Data Pkts', 'Bwd Header Len', 'Bwd IAT Tot'], 'Adv sample 945': ['SYN Flag Cnt', 'Bwd IAT Mean', 'Fwd IAT Min', 'Fwd Byts/b Avg', 'Fwd Pkts/b Avg', 'Fwd IAT Mean', 'Init Bwd Win Byts', 'Pkt Len Min', 'Bwd IAT Max', 'Fwd Pkt Len Min'], 'Adv sample 946': ['ACK Flag Cnt', 'Bwd IAT Min', 'Bwd IAT Mean', 'Bwd IAT Max', 'Init Bwd Win Byts', 'Bwd Pkts/s', 'Fwd Pkts/b Avg', 'Fwd IAT Mean', 'Flow Pkts/s', 'Idle Std'], 'Adv sample 947': ['ACK Flag Cnt', 'Active Mean', 'Flow IAT Std', 'Active Max', 'Flow IAT Mean', 'Init Bwd Win Byts', 'Flow Pkts/s', 'Tot Bwd Pkts', 'Bwd Pkts/s', 'TotLen Fwd Pkts'], 'Adv sample 948': ['SYN Flag Cnt', 'Bwd IAT Mean', 'Fwd IAT Min', 'Fwd Byts/b Avg', 'Init Bwd Win Byts', 'Fwd Pkts/b Avg', 'Fwd Pkt Len Max', 'Pkt Len Mean', 'Down/Up Ratio', 'Bwd Pkt Len Std'], 'Adv sample 949': ['Bwd IAT Mean', 'ACK Flag Cnt', 'Fwd IAT Mean', 'Bwd IAT Min', 'Init Bwd Win Byts', 'Active Min', 'Pkt Len Min', 'Fwd Seg Size Avg', 'Fwd Pkt Len Max', 'Subflow Fwd Pkts'], 'Adv sample 950': ['Bwd Pkts/s', 'Fwd IAT Min', 'Init Bwd Win Byts', 'Pkt Len Max', 'Pkt Size Avg', 'Fwd Pkt Len Max', 'Fwd Pkt Len Std', 'Bwd IAT Tot', 'Subflow Fwd Pkts', 'Idle Max'], 'Adv sample 951': ['ACK Flag Cnt', 'Idle Std', 'Init Bwd Win Byts', 'Down/Up Ratio', 'Pkt Len Min', 'Bwd Pkts/b Avg', 'Bwd IAT Tot', 'Bwd Byts/b Avg', 'Pkt Len Max', 'Flow IAT Max'], 'Adv sample 952': ['SYN Flag Cnt', 'Bwd IAT Mean', 'Fwd IAT Min', 'Init Bwd Win Byts', 'Bwd IAT Max', 'Fwd Byts/b Avg', 'Pkt Len Min', 'Bwd Pkts/b Avg', 'Bwd Pkts/s', 'Bwd IAT Tot'], 'Adv sample 953': ['Bwd IAT Min', 'Bwd IAT Mean', 'Fwd Pkts/b Avg', 'Fwd IAT Mean', 'Init Bwd Win Byts', 'Down/Up Ratio', 'Pkt Len Min', 'Idle Min', 'Fwd Pkt Len Mean', 'Fwd Pkt Len Std'], 'Adv sample 954': ['SYN Flag Cnt', 'Fwd IAT Min', 'Fwd IAT Mean', 'Init Bwd Win Byts', 'Bwd Pkts/s', 'Flow Pkts/s', 'Fwd Byts/b Avg', 'Bwd Pkts/b Avg', 'Down/Up Ratio', 'Fwd Pkts/b Avg'], 'Adv sample 955': ['SYN Flag Cnt', 'Bwd IAT Mean', 'Fwd IAT Min', 'Fwd Byts/b Avg', 'Init Bwd Win Byts', 'Fwd IAT Mean', 'Bwd IAT Min', 'Pkt Len Min', 'Fwd Pkts/b Avg', 'Bwd IAT Max'], 'Adv sample 956': ['Bwd IAT Min', 'Bwd IAT Mean', 'Bwd IAT Max', 'Init Bwd Win Byts', 'Bwd Pkts/s', 'Flow Pkts/s', 'Fwd Pkts/b Avg', 'Pkt Len Min', 'Down/Up Ratio', 'Fwd Blk Rate Avg'], 'Adv sample 957': ['SYN Flag Cnt', 'Bwd IAT Mean', 'Fwd IAT Min', 'Bwd IAT Max', 'Fwd Byts/b Avg', 'Pkt Len Max', 'Init Bwd Win Byts', 'Bwd IAT Tot', 'Down/Up Ratio', 'Bwd Pkt Len Mean'], 'Adv sample 958': ['ACK Flag Cnt', 'Bwd IAT Mean', 'Bwd IAT Min', 'Bwd IAT Max', 'Bwd Pkts/s', 'Init Bwd Win Byts', 'Fwd Pkts/b Avg', 'Fwd Pkt Len Std', 'Fwd Header Len', 'Flow Pkts/s'], 'Adv sample 959': ['Bwd IAT Min', 'Bwd IAT Mean', 'Init Bwd Win Byts', 'Fwd Pkts/b Avg', 'Fwd IAT Mean', 'Pkt Len Min', 'Fwd Blk Rate Avg', 'Flow Pkts/s', 'Fwd Pkt Len Min', 'Down/Up Ratio'], 'Adv sample 960': ['Bwd IAT Mean', 'Bwd IAT Min', 'Fwd Pkts/b Avg', 'Init Bwd Win Byts', 'Bwd Pkt Len Std', 'Pkt Len Min', 'TotLen Bwd Pkts', 'Flow Byts/s', 'Idle Std', 'Fwd Pkt Len Min'], 'Adv sample 961': ['ACK Flag Cnt', 'Idle Std', 'Init Bwd Win Byts', 'Bwd Byts/b Avg', 'Bwd IAT Tot', 'Down/Up Ratio', 'Pkt Len Min', 'Bwd Pkts/b Avg', 'Bwd Pkt Len Min', 'Active Min'], 'Adv sample 962': ['Bwd IAT Min', 'Bwd IAT Mean', 'Init Bwd Win Byts', 'Fwd Pkts/b Avg', 'Fwd IAT Mean', 'Fwd Blk Rate Avg', 'Flow Pkts/s', 'Pkt Len Min', 'Idle Min', 'Down/Up Ratio'], 'Adv sample 963': ['ACK Flag Cnt', 'Flow IAT Mean', 'Init Bwd Win Byts', 'Idle Min', 'Pkt Len Min', 'Idle Max', 'Bwd Pkt Len Std', 'Fwd IAT Mean', 'Bwd IAT Min', 'Flow IAT Max'], 'Adv sample 964': ['URG Flag Cnt', 'FIN Flag Cnt', 'Bwd URG Flags', 'Fwd IAT Mean', 'Idle Min', 'Init Bwd Win Byts', 'Down/Up Ratio', 'Fwd Pkt Len Max', 'Bwd Pkt Len Min', 'Pkt Len Max'], 'Adv sample 965': ['Idle Std', 'ACK Flag Cnt', 'Bwd Byts/b Avg', 'Pkt Len Min', 'Init Bwd Win Byts', 'Fwd Pkts/s', 'Tot Fwd Pkts', 'Flow IAT Max', 'Bwd Pkt Len Min', 'PSH Flag Cnt'], 'Adv sample 966': ['ACK Flag Cnt', 'Active Mean', 'Active Max', 'Flow IAT Std', 'Flow IAT Mean', 'Pkt Len Mean', 'Init Bwd Win Byts', 'Flow Pkts/s', 'TotLen Bwd Pkts', 'Bwd Pkt Len Min'], 'Adv sample 967': ['Bwd IAT Min', 'Bwd IAT Mean', 'Bwd IAT Max', 'Bwd Pkts/s', 'Init Bwd Win Byts', 'Fwd Pkts/b Avg', 'Flow Pkts/s', 'Fwd Blk Rate Avg', 'Pkt Len Min', 'Down/Up Ratio'], 'Adv sample 968': ['Bwd IAT Min', 'Bwd IAT Mean', 'Bwd IAT Max', 'Bwd Pkts/s', 'Init Bwd Win Byts', 'Pkt Len Min', 'Fwd Pkts/b Avg', 'Flow Pkts/s', 'Down/Up Ratio', 'Fwd Pkt Len Max'], 'Adv sample 969': ['SYN Flag Cnt', 'Bwd IAT Mean', 'Fwd IAT Min', 'Init Bwd Win Byts', 'Bwd IAT Max', 'Pkt Len Min', 'Fwd Byts/b Avg', 'Fwd IAT Mean', 'Bwd Pkts/s', 'Bwd IAT Tot'], 'Adv sample 970': ['Bwd IAT Min', 'Bwd IAT Mean', 'Fwd Pkts/b Avg', 'Init Bwd Win Byts', 'Fwd IAT Mean', 'Down/Up Ratio', 'Flow Pkts/s', 'Pkt Len Min', 'Fwd Blk Rate Avg', 'Subflow Bwd Byts'], 'Adv sample 971': ['ACK Flag Cnt', 'Bwd IAT Min', 'Bwd IAT Mean', 'Bwd IAT Max', 'Bwd Pkts/s', 'Init Bwd Win Byts', 'Fwd IAT Mean', 'Flow Pkts/s', 'Idle Std', 'Fwd Pkts/b Avg'], 'Adv sample 972': ['Bwd Pkts/s', 'Fwd IAT Min', 'Init Bwd Win Byts', 'Down/Up Ratio', 'Pkt Len Mean', 'Pkt Len Min', 'Bwd Pkt Len Mean', 'Idle Mean', 'Bwd Seg Size Avg', 'Bwd URG Flags'], 'Adv sample 973': ['SYN Flag Cnt', 'Bwd IAT Mean', 'Fwd IAT Min', 'Bwd IAT Max', 'Init Bwd Win Byts', 'Bwd Pkts/b Avg', 'Fwd Byts/b Avg', 'Pkt Len Min', 'Bwd IAT Tot', 'Fwd Pkts/b Avg'], 'Adv sample 974': ['Bwd IAT Min', 'Bwd IAT Mean', 'Bwd IAT Max', 'Init Bwd Win Byts', 'Fwd Pkts/b Avg', 'Bwd Pkt Len Min', 'Pkt Len Min', 'Idle Mean', 'Flow Byts/s', 'Idle Min'], 'Adv sample 975': ['SYN Flag Cnt', 'Bwd IAT Mean', 'Fwd IAT Min', 'Init Bwd Win Byts', 'Bwd Pkts/b Avg', 'Bwd IAT Max', 'Fwd Byts/b Avg', 'Bwd Pkts/s', 'Bwd Pkt Len Min', 'Active Max'], 'Adv sample 976': ['SYN Flag Cnt', 'Bwd IAT Mean', 'Fwd IAT Min', 'Fwd Byts/b Avg', 'Init Bwd Win Byts', 'Subflow Bwd Pkts', 'Bwd IAT Max', 'TotLen Bwd Pkts', 'Fwd Act Data Pkts', 'Fwd Pkts/b Avg'], 'Adv sample 977': ['SYN Flag Cnt', 'Fwd IAT Min', 'Fwd IAT Mean', 'Fwd Byts/b Avg', 'Init Bwd Win Byts', 'Flow Pkts/s', 'Bwd Pkts/s', 'Pkt Len Min', 'Fwd Pkts/b Avg', 'Bwd PSH Flags'], 'Adv sample 978': ['SYN Flag Cnt', 'Bwd IAT Mean', 'Fwd IAT Min', 'Init Bwd Win Byts', 'Fwd Byts/b Avg', 'Bwd IAT Min', 'Pkt Size Avg', 'Bwd Header Len', 'Fwd Pkt Len Max', 'Bwd Pkt Len Min'], 'Adv sample 979': ['Bwd Pkts/s', 'Fwd IAT Min', 'Init Bwd Win Byts', 'Idle Mean', 'Tot Fwd Pkts', 'Flow IAT Std', 'Subflow Fwd Pkts', 'Fwd Seg Size Avg', 'Flow Duration', 'Tot Bwd Pkts'], 'Adv sample 980': ['Bwd Pkts/s', 'Fwd IAT Min', 'Init Bwd Win Byts', 'Bwd Pkt Len Mean', 'Idle Mean', 'Bwd URG Flags', 'Fwd Pkt Len Std', 'Flow Duration', 'Flow IAT Max', 'Bwd IAT Min'], 'Adv sample 981': ['Bwd IAT Min', 'Bwd IAT Mean', 'Bwd IAT Max', 'Init Bwd Win Byts', 'Bwd Pkts/s', 'Fwd Pkts/b Avg', 'Fwd IAT Mean', 'Bwd Pkt Len Mean', 'Pkt Len Mean', 'Pkt Len Min'], 'Adv sample 982': ['Idle Std', 'ACK Flag Cnt', 'Init Bwd Win Byts', 'Pkt Len Min', 'Bwd Byts/b Avg', 'Bwd Pkt Len Max', 'Idle Max', 'Fwd IAT Max', 'Active Min', 'Fwd IAT Mean'], 'Adv sample 983': ['ACK Flag Cnt', 'Idle Std', 'Init Bwd Win Byts', 'Down/Up Ratio', 'Pkt Len Min', 'Bwd Pkts/b Avg', 'Bwd IAT Tot', 'Flow Duration', 'Bwd Byts/b Avg', 'Bwd Pkt Len Std'], 'Adv sample 984': ['URG Flag Cnt', 'FIN Flag Cnt', 'Idle Min', 'Bwd URG Flags', 'Fwd IAT Mean', 'Fwd Pkt Len Mean', 'Down/Up Ratio', 'Init Bwd Win Byts', 'Bwd Pkt Len Max', 'Fwd Pkt Len Std'], 'Adv sample 985': ['Bwd IAT Mean', 'Bwd IAT Min', 'Init Bwd Win Byts', 'Fwd Pkts/b Avg', 'Pkt Size Avg', 'Down/Up Ratio', 'Fwd Blk Rate Avg', 'Fwd Pkt Len Min', 'Bwd Pkt Len Min', 'Fwd Pkt Len Max'], 'Adv sample 986': ['Bwd IAT Min', 'Bwd IAT Mean', 'Bwd IAT Max', 'Init Bwd Win Byts', 'Down/Up Ratio', 'Pkt Len Min', 'Fwd Pkts/b Avg', 'Pkt Len Std', 'Bwd Pkt Len Min', 'Bwd Pkts/s'], 'Adv sample 987': ['ACK Flag Cnt', 'Active Mean', 'Flow IAT Std', 'Active Max', 'Flow IAT Mean', 'Init Bwd Win Byts', 'Tot Bwd Pkts', 'PSH Flag Cnt', 'Bwd PSH Flags', 'Fwd IAT Mean'], 'Adv sample 988': ['ACK Flag Cnt', 'Bwd IAT Min', 'Bwd IAT Mean', 'Bwd IAT Max', 'Init Bwd Win Byts', 'Bwd Pkts/s', 'Flow Pkts/s', 'Fwd IAT Mean', 'PSH Flag Cnt', 'Bwd Header Len'], 'Adv sample 989': ['ACK Flag Cnt', 'Bwd IAT Min', 'Fwd IAT Mean', 'Idle Max', 'Pkt Len Mean', 'Bwd Pkt Len Min', 'Fwd Act Data Pkts', 'Pkt Size Avg', 'Init Bwd Win Byts', 'Active Mean'], 'Adv sample 990': ['ACK Flag Cnt', 'Idle Std', 'Init Bwd Win Byts', 'Down/Up Ratio', 'Bwd IAT Tot', 'Pkt Len Min', 'Bwd Byts/b Avg', 'Flow Duration', 'Bwd Pkts/b Avg', 'Bwd Pkt Len Min'], 'Adv sample 991': ['Idle Std', 'ACK Flag Cnt', 'Bwd Byts/b Avg', 'Init Bwd Win Byts', 'Pkt Len Min', 'Bwd Pkts/b Avg', 'Bwd IAT Tot', 'Flow IAT Mean', 'Bwd PSH Flags', 'Bwd Pkt Len Min'], 'Adv sample 992': ['Bwd IAT Mean', 'Bwd IAT Min', 'Init Bwd Win Byts', 'Fwd Pkts/b Avg', 'Fwd Blk Rate Avg', 'Down/Up Ratio', 'Idle Mean', 'Active Mean', 'Subflow Fwd Pkts', 'Pkt Len Max'], 'Adv sample 993': ['ACK Flag Cnt', 'Idle Std', 'Init Bwd Win Byts', 'Bwd IAT Tot', 'Pkt Len Min', 'Down/Up Ratio', 'Bwd Pkts/b Avg', 'Bwd Byts/b Avg', 'Flow Duration', 'Fwd Pkt Len Max'], 'Adv sample 994': ['Bwd IAT Min', 'Bwd IAT Mean', 'Bwd IAT Max', 'Init Bwd Win Byts', 'Fwd Pkts/b Avg', 'Bwd Pkts/s', 'Active Std', 'Bwd Pkt Len Min', 'Flow Pkts/s', 'Pkt Len Min'], 'Adv sample 995': ['Bwd IAT Min', 'Bwd IAT Mean', 'Bwd IAT Max', 'Init Bwd Win Byts', 'Bwd Pkts/s', 'Fwd Pkts/b Avg', 'Pkt Len Min', 'Flow Pkts/s', 'Fwd Blk Rate Avg', 'Down/Up Ratio'], 'Adv sample 996': ['Bwd IAT Min', 'Bwd IAT Mean', 'Init Bwd Win Byts', 'Fwd Pkts/b Avg', 'Fwd Blk Rate Avg', 'Fwd IAT Mean', 'Flow Pkts/s', 'Bwd Pkt Len Min', 'Down/Up Ratio', 'Bwd Pkt Len Max'], 'Adv sample 997': ['SYN Flag Cnt', 'Fwd IAT Min', 'Fwd IAT Mean', 'Init Bwd Win Byts', 'Fwd Byts/b Avg', 'Bwd Pkts/s', 'Flow Pkts/s', 'Fwd Pkts/b Avg', 'Bwd Pkt Len Min', 'Pkt Len Min'], 'Adv sample 998': ['Bwd IAT Min', 'Bwd IAT Mean', 'Bwd IAT Max', 'Pkt Len Min', 'Fwd Pkts/b Avg', 'Init Bwd Win Byts', 'Fwd IAT Mean', 'Bwd Pkts/s', 'Fwd Pkts/s', 'Pkt Size Avg'], 'Adv sample 999': ['ACK Flag Cnt', 'Bwd IAT Min', 'Bwd IAT Mean', 'Bwd IAT Max', 'Init Bwd Win Byts', 'Bwd Pkts/s', 'Fwd IAT Mean', 'Flow Pkts/s', 'Fwd Pkts/b Avg', 'Active Min']}\n"
          ]
        }
      ]
    },
    {
      "cell_type": "code",
      "source": [
        "len(shap_values[0])"
      ],
      "metadata": {
        "colab": {
          "base_uri": "https://localhost:8080/"
        },
        "id": "YdyTABeHYa2k",
        "outputId": "f35b3101-660a-43a3-d035-2e04d7da7176"
      },
      "execution_count": 20,
      "outputs": [
        {
          "output_type": "execute_result",
          "data": {
            "text/plain": [
              "1000"
            ]
          },
          "metadata": {},
          "execution_count": 20
        }
      ]
    },
    {
      "cell_type": "code",
      "source": [
        "len(data_dict)"
      ],
      "metadata": {
        "colab": {
          "base_uri": "https://localhost:8080/"
        },
        "id": "rUB23r63Tjug",
        "outputId": "1cc75278-1ff7-4eeb-f69a-d53acda05fd9"
      },
      "execution_count": 21,
      "outputs": [
        {
          "output_type": "execute_result",
          "data": {
            "text/plain": [
              "1000"
            ]
          },
          "metadata": {},
          "execution_count": 21
        }
      ]
    },
    {
      "cell_type": "markdown",
      "source": [
        "# Detection phase"
      ],
      "metadata": {
        "id": "E8tWQQDtNIJk"
      }
    },
    {
      "cell_type": "code",
      "source": [
        "import os\n",
        "import pandas as pd"
      ],
      "metadata": {
        "id": "mmslrdn7z7Zf"
      },
      "execution_count": 22,
      "outputs": []
    },
    {
      "cell_type": "code",
      "source": [
        "whitelist_df = pd.read_csv('/content/drive/MyDrive/InSDN/MLP_top24_InSDN_bin.csv')\n",
        "whitelist_df.head(24)"
      ],
      "metadata": {
        "colab": {
          "base_uri": "https://localhost:8080/",
          "height": 801
        },
        "id": "aQJa-f1GPxvz",
        "outputId": "b6430371-bc1a-4e8e-ac51-eff65c00f851"
      },
      "execution_count": 23,
      "outputs": [
        {
          "output_type": "execute_result",
          "data": {
            "text/plain": [
              "              Feature  Frequency\n",
              "0   Init Bwd Win Byts        684\n",
              "1            Idle Max        604\n",
              "2     Bwd Pkt Len Max        571\n",
              "3           Idle Mean        535\n",
              "4            Idle Min        535\n",
              "5    Bwd Pkt Len Mean        462\n",
              "6     Bwd Pkt Len Std        444\n",
              "7         Pkt Len Min        383\n",
              "8        Tot Fwd Pkts        364\n",
              "9    Bwd Seg Size Avg        358\n",
              "10        Bwd IAT Max        340\n",
              "11       Tot Bwd Pkts        337\n",
              "12    TotLen Fwd Pkts        329\n",
              "13    TotLen Bwd Pkts        324\n",
              "14        Bwd IAT Tot        316\n",
              "15       SYN Flag Cnt        293\n",
              "16        Flow Pkts/s        273\n",
              "17        Bwd IAT Std        268\n",
              "18    Bwd Pkt Len Min        260\n",
              "19    Fwd Pkt Len Min        253\n",
              "20      Flow Duration        248\n",
              "21      Down/Up Ratio        242\n",
              "22       Flow IAT Min        219\n",
              "23    Fwd Pkt Len Std        219"
            ],
            "text/html": [
              "\n",
              "  <div id=\"df-3509369a-0df4-468d-addf-b2b5068bb6a4\">\n",
              "    <div class=\"colab-df-container\">\n",
              "      <div>\n",
              "<style scoped>\n",
              "    .dataframe tbody tr th:only-of-type {\n",
              "        vertical-align: middle;\n",
              "    }\n",
              "\n",
              "    .dataframe tbody tr th {\n",
              "        vertical-align: top;\n",
              "    }\n",
              "\n",
              "    .dataframe thead th {\n",
              "        text-align: right;\n",
              "    }\n",
              "</style>\n",
              "<table border=\"1\" class=\"dataframe\">\n",
              "  <thead>\n",
              "    <tr style=\"text-align: right;\">\n",
              "      <th></th>\n",
              "      <th>Feature</th>\n",
              "      <th>Frequency</th>\n",
              "    </tr>\n",
              "  </thead>\n",
              "  <tbody>\n",
              "    <tr>\n",
              "      <th>0</th>\n",
              "      <td>Init Bwd Win Byts</td>\n",
              "      <td>684</td>\n",
              "    </tr>\n",
              "    <tr>\n",
              "      <th>1</th>\n",
              "      <td>Idle Max</td>\n",
              "      <td>604</td>\n",
              "    </tr>\n",
              "    <tr>\n",
              "      <th>2</th>\n",
              "      <td>Bwd Pkt Len Max</td>\n",
              "      <td>571</td>\n",
              "    </tr>\n",
              "    <tr>\n",
              "      <th>3</th>\n",
              "      <td>Idle Mean</td>\n",
              "      <td>535</td>\n",
              "    </tr>\n",
              "    <tr>\n",
              "      <th>4</th>\n",
              "      <td>Idle Min</td>\n",
              "      <td>535</td>\n",
              "    </tr>\n",
              "    <tr>\n",
              "      <th>5</th>\n",
              "      <td>Bwd Pkt Len Mean</td>\n",
              "      <td>462</td>\n",
              "    </tr>\n",
              "    <tr>\n",
              "      <th>6</th>\n",
              "      <td>Bwd Pkt Len Std</td>\n",
              "      <td>444</td>\n",
              "    </tr>\n",
              "    <tr>\n",
              "      <th>7</th>\n",
              "      <td>Pkt Len Min</td>\n",
              "      <td>383</td>\n",
              "    </tr>\n",
              "    <tr>\n",
              "      <th>8</th>\n",
              "      <td>Tot Fwd Pkts</td>\n",
              "      <td>364</td>\n",
              "    </tr>\n",
              "    <tr>\n",
              "      <th>9</th>\n",
              "      <td>Bwd Seg Size Avg</td>\n",
              "      <td>358</td>\n",
              "    </tr>\n",
              "    <tr>\n",
              "      <th>10</th>\n",
              "      <td>Bwd IAT Max</td>\n",
              "      <td>340</td>\n",
              "    </tr>\n",
              "    <tr>\n",
              "      <th>11</th>\n",
              "      <td>Tot Bwd Pkts</td>\n",
              "      <td>337</td>\n",
              "    </tr>\n",
              "    <tr>\n",
              "      <th>12</th>\n",
              "      <td>TotLen Fwd Pkts</td>\n",
              "      <td>329</td>\n",
              "    </tr>\n",
              "    <tr>\n",
              "      <th>13</th>\n",
              "      <td>TotLen Bwd Pkts</td>\n",
              "      <td>324</td>\n",
              "    </tr>\n",
              "    <tr>\n",
              "      <th>14</th>\n",
              "      <td>Bwd IAT Tot</td>\n",
              "      <td>316</td>\n",
              "    </tr>\n",
              "    <tr>\n",
              "      <th>15</th>\n",
              "      <td>SYN Flag Cnt</td>\n",
              "      <td>293</td>\n",
              "    </tr>\n",
              "    <tr>\n",
              "      <th>16</th>\n",
              "      <td>Flow Pkts/s</td>\n",
              "      <td>273</td>\n",
              "    </tr>\n",
              "    <tr>\n",
              "      <th>17</th>\n",
              "      <td>Bwd IAT Std</td>\n",
              "      <td>268</td>\n",
              "    </tr>\n",
              "    <tr>\n",
              "      <th>18</th>\n",
              "      <td>Bwd Pkt Len Min</td>\n",
              "      <td>260</td>\n",
              "    </tr>\n",
              "    <tr>\n",
              "      <th>19</th>\n",
              "      <td>Fwd Pkt Len Min</td>\n",
              "      <td>253</td>\n",
              "    </tr>\n",
              "    <tr>\n",
              "      <th>20</th>\n",
              "      <td>Flow Duration</td>\n",
              "      <td>248</td>\n",
              "    </tr>\n",
              "    <tr>\n",
              "      <th>21</th>\n",
              "      <td>Down/Up Ratio</td>\n",
              "      <td>242</td>\n",
              "    </tr>\n",
              "    <tr>\n",
              "      <th>22</th>\n",
              "      <td>Flow IAT Min</td>\n",
              "      <td>219</td>\n",
              "    </tr>\n",
              "    <tr>\n",
              "      <th>23</th>\n",
              "      <td>Fwd Pkt Len Std</td>\n",
              "      <td>219</td>\n",
              "    </tr>\n",
              "  </tbody>\n",
              "</table>\n",
              "</div>\n",
              "      <button class=\"colab-df-convert\" onclick=\"convertToInteractive('df-3509369a-0df4-468d-addf-b2b5068bb6a4')\"\n",
              "              title=\"Convert this dataframe to an interactive table.\"\n",
              "              style=\"display:none;\">\n",
              "        \n",
              "  <svg xmlns=\"http://www.w3.org/2000/svg\" height=\"24px\"viewBox=\"0 0 24 24\"\n",
              "       width=\"24px\">\n",
              "    <path d=\"M0 0h24v24H0V0z\" fill=\"none\"/>\n",
              "    <path d=\"M18.56 5.44l.94 2.06.94-2.06 2.06-.94-2.06-.94-.94-2.06-.94 2.06-2.06.94zm-11 1L8.5 8.5l.94-2.06 2.06-.94-2.06-.94L8.5 2.5l-.94 2.06-2.06.94zm10 10l.94 2.06.94-2.06 2.06-.94-2.06-.94-.94-2.06-.94 2.06-2.06.94z\"/><path d=\"M17.41 7.96l-1.37-1.37c-.4-.4-.92-.59-1.43-.59-.52 0-1.04.2-1.43.59L10.3 9.45l-7.72 7.72c-.78.78-.78 2.05 0 2.83L4 21.41c.39.39.9.59 1.41.59.51 0 1.02-.2 1.41-.59l7.78-7.78 2.81-2.81c.8-.78.8-2.07 0-2.86zM5.41 20L4 18.59l7.72-7.72 1.47 1.35L5.41 20z\"/>\n",
              "  </svg>\n",
              "      </button>\n",
              "      \n",
              "  <style>\n",
              "    .colab-df-container {\n",
              "      display:flex;\n",
              "      flex-wrap:wrap;\n",
              "      gap: 12px;\n",
              "    }\n",
              "\n",
              "    .colab-df-convert {\n",
              "      background-color: #E8F0FE;\n",
              "      border: none;\n",
              "      border-radius: 50%;\n",
              "      cursor: pointer;\n",
              "      display: none;\n",
              "      fill: #1967D2;\n",
              "      height: 32px;\n",
              "      padding: 0 0 0 0;\n",
              "      width: 32px;\n",
              "    }\n",
              "\n",
              "    .colab-df-convert:hover {\n",
              "      background-color: #E2EBFA;\n",
              "      box-shadow: 0px 1px 2px rgba(60, 64, 67, 0.3), 0px 1px 3px 1px rgba(60, 64, 67, 0.15);\n",
              "      fill: #174EA6;\n",
              "    }\n",
              "\n",
              "    [theme=dark] .colab-df-convert {\n",
              "      background-color: #3B4455;\n",
              "      fill: #D2E3FC;\n",
              "    }\n",
              "\n",
              "    [theme=dark] .colab-df-convert:hover {\n",
              "      background-color: #434B5C;\n",
              "      box-shadow: 0px 1px 3px 1px rgba(0, 0, 0, 0.15);\n",
              "      filter: drop-shadow(0px 1px 2px rgba(0, 0, 0, 0.3));\n",
              "      fill: #FFFFFF;\n",
              "    }\n",
              "  </style>\n",
              "\n",
              "      <script>\n",
              "        const buttonEl =\n",
              "          document.querySelector('#df-3509369a-0df4-468d-addf-b2b5068bb6a4 button.colab-df-convert');\n",
              "        buttonEl.style.display =\n",
              "          google.colab.kernel.accessAllowed ? 'block' : 'none';\n",
              "\n",
              "        async function convertToInteractive(key) {\n",
              "          const element = document.querySelector('#df-3509369a-0df4-468d-addf-b2b5068bb6a4');\n",
              "          const dataTable =\n",
              "            await google.colab.kernel.invokeFunction('convertToInteractive',\n",
              "                                                     [key], {});\n",
              "          if (!dataTable) return;\n",
              "\n",
              "          const docLinkHtml = 'Like what you see? Visit the ' +\n",
              "            '<a target=\"_blank\" href=https://colab.research.google.com/notebooks/data_table.ipynb>data table notebook</a>'\n",
              "            + ' to learn more about interactive tables.';\n",
              "          element.innerHTML = '';\n",
              "          dataTable['output_type'] = 'display_data';\n",
              "          await google.colab.output.renderOutput(dataTable, element);\n",
              "          const docLink = document.createElement('div');\n",
              "          docLink.innerHTML = docLinkHtml;\n",
              "          element.appendChild(docLink);\n",
              "        }\n",
              "      </script>\n",
              "    </div>\n",
              "  </div>\n",
              "  "
            ]
          },
          "metadata": {},
          "execution_count": 23
        }
      ]
    },
    {
      "cell_type": "markdown",
      "source": [
        "## Detection rate (top 24) = 1000/1000"
      ],
      "metadata": {
        "id": "PkqSAZakWXM8"
      }
    },
    {
      "cell_type": "code",
      "source": [
        "whitelist = whitelist_df.iloc[:, 0][:24].tolist()\n",
        "print(whitelist)"
      ],
      "metadata": {
        "colab": {
          "base_uri": "https://localhost:8080/"
        },
        "id": "hiA70yr9QStE",
        "outputId": "804257f6-8b32-4e88-9b33-ede1069a7493"
      },
      "execution_count": 24,
      "outputs": [
        {
          "output_type": "stream",
          "name": "stdout",
          "text": [
            "['Init Bwd Win Byts', 'Idle Max', 'Bwd Pkt Len Max', 'Idle Mean', 'Idle Min', 'Bwd Pkt Len Mean', 'Bwd Pkt Len Std', 'Pkt Len Min', 'Tot Fwd Pkts', 'Bwd Seg Size Avg', 'Bwd IAT Max', 'Tot Bwd Pkts', 'TotLen Fwd Pkts', 'TotLen Bwd Pkts', 'Bwd IAT Tot', 'SYN Flag Cnt', 'Flow Pkts/s', 'Bwd IAT Std', 'Bwd Pkt Len Min', 'Fwd Pkt Len Min', 'Flow Duration', 'Down/Up Ratio', 'Flow IAT Min', 'Fwd Pkt Len Std']\n"
          ]
        }
      ]
    },
    {
      "cell_type": "code",
      "source": [
        "alert = []\n",
        "\n",
        "# Iterate over each key-value pair in the data_dict\n",
        "for key, value in data_dict.items():\n",
        "    # Check if there are one feature is not in the whitelist\n",
        "    for string in value:\n",
        "      if string not in whitelist:\n",
        "        alert.append(key)\n",
        "        break\n",
        "\n",
        "# Print the alert dictionary\n",
        "print(\"Alert list length:\" + str(len(alert)))"
      ],
      "metadata": {
        "colab": {
          "base_uri": "https://localhost:8080/"
        },
        "id": "GWIJRBYkUwhx",
        "outputId": "75199d0f-7df2-48c7-a111-652e69ed1426"
      },
      "execution_count": 25,
      "outputs": [
        {
          "output_type": "stream",
          "name": "stdout",
          "text": [
            "Alert list length:1000\n"
          ]
        }
      ]
    },
    {
      "cell_type": "markdown",
      "source": [
        "## Detection rate (top 38) = 895/1000"
      ],
      "metadata": {
        "id": "NddVIE7MU9m-"
      }
    },
    {
      "cell_type": "code",
      "source": [
        "whitelist2 = whitelist_df.iloc[:, 0][:38].tolist()\n",
        "print(whitelist2)"
      ],
      "metadata": {
        "colab": {
          "base_uri": "https://localhost:8080/"
        },
        "id": "QTKqfqrEWMLV",
        "outputId": "bb89b681-0b4d-460e-8b93-03666d9cd840"
      },
      "execution_count": 26,
      "outputs": [
        {
          "output_type": "stream",
          "name": "stdout",
          "text": [
            "['Init Bwd Win Byts', 'Idle Max', 'Bwd Pkt Len Max', 'Idle Mean', 'Idle Min', 'Bwd Pkt Len Mean', 'Bwd Pkt Len Std', 'Pkt Len Min', 'Tot Fwd Pkts', 'Bwd Seg Size Avg', 'Bwd IAT Max', 'Tot Bwd Pkts', 'TotLen Fwd Pkts', 'TotLen Bwd Pkts', 'Bwd IAT Tot', 'SYN Flag Cnt', 'Flow Pkts/s', 'Bwd IAT Std', 'Bwd Pkt Len Min', 'Fwd Pkt Len Min', 'Flow Duration', 'Down/Up Ratio', 'Flow IAT Min', 'Fwd Pkt Len Std', 'Fwd Pkts/s', 'Active Min', 'Fwd IAT Std', 'Flow IAT Mean', 'Fwd IAT Mean', 'Bwd Header Len', 'Pkt Len Var', 'Active Mean', 'Fwd IAT Tot', 'Active Max', 'Idle Std', 'Active Std', 'Flow IAT Std', 'Subflow Bwd Pkts']\n"
          ]
        }
      ]
    },
    {
      "cell_type": "code",
      "source": [
        "alert2 = []\n",
        "\n",
        "# Iterate over each key-value pair in the data_dict\n",
        "for key, value in data_dict.items():\n",
        "    # Check if there are one feature is not in the whitelist\n",
        "    for string in value:\n",
        "      if string not in whitelist2:\n",
        "        alert2.append(key)\n",
        "        break\n",
        "\n",
        "# Print the alert dictionary\n",
        "print(\"Alert list length:\" + str(len(alert2)))"
      ],
      "metadata": {
        "colab": {
          "base_uri": "https://localhost:8080/"
        },
        "id": "p_i5J0kxVyCx",
        "outputId": "0e4e077c-ac5e-4f5e-b796-4fec5ad8de25"
      },
      "execution_count": 27,
      "outputs": [
        {
          "output_type": "stream",
          "name": "stdout",
          "text": [
            "Alert list length:1000\n"
          ]
        }
      ]
    }
  ]
}