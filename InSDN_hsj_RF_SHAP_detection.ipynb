{
  "cells": [
    {
      "cell_type": "markdown",
      "metadata": {
        "id": "view-in-github",
        "colab_type": "text"
      },
      "source": [
        "<a href=\"https://colab.research.google.com/github/BeforeTheStorm202/DACN/blob/main/InSDN_hsj_RF_SHAP_detection.ipynb\" target=\"_parent\"><img src=\"https://colab.research.google.com/assets/colab-badge.svg\" alt=\"Open In Colab\"/></a>"
      ]
    },
    {
      "cell_type": "markdown",
      "metadata": {
        "id": "O0lPv_8LykMw"
      },
      "source": [
        "# Import"
      ]
    },
    {
      "cell_type": "code",
      "execution_count": 5,
      "metadata": {
        "id": "bBcPmYOsyREp",
        "colab": {
          "base_uri": "https://localhost:8080/"
        },
        "outputId": "ddaa111d-0e9e-4e2f-feb9-5fd627ed405a"
      },
      "outputs": [
        {
          "output_type": "stream",
          "name": "stdout",
          "text": [
            "Collecting shap\n",
            "  Downloading shap-0.41.0-cp310-cp310-manylinux_2_12_x86_64.manylinux2010_x86_64.whl (572 kB)\n",
            "\u001b[?25l     \u001b[90m━━━━━━━━━━━━━━━━━━━━━━━━━━━━━━━━━━━━━━━━\u001b[0m \u001b[32m0.0/572.6 kB\u001b[0m \u001b[31m?\u001b[0m eta \u001b[36m-:--:--\u001b[0m\r\u001b[2K     \u001b[91m━━━━━━━━━━━━━━━━━\u001b[0m\u001b[90m╺\u001b[0m\u001b[90m━━━━━━━━━━━━━━━━━━━━━\u001b[0m \u001b[32m256.0/572.6 kB\u001b[0m \u001b[31m7.4 MB/s\u001b[0m eta \u001b[36m0:00:01\u001b[0m\r\u001b[2K     \u001b[90m━━━━━━━━━━━━━━━━━━━━━━━━━━━━━━━━━━━━━━━\u001b[0m \u001b[32m572.6/572.6 kB\u001b[0m \u001b[31m9.0 MB/s\u001b[0m eta \u001b[36m0:00:00\u001b[0m\n",
            "\u001b[?25hRequirement already satisfied: numpy in /usr/local/lib/python3.10/dist-packages (from shap) (1.22.4)\n",
            "Requirement already satisfied: scipy in /usr/local/lib/python3.10/dist-packages (from shap) (1.10.1)\n",
            "Requirement already satisfied: scikit-learn in /usr/local/lib/python3.10/dist-packages (from shap) (1.2.2)\n",
            "Requirement already satisfied: pandas in /usr/local/lib/python3.10/dist-packages (from shap) (1.5.3)\n",
            "Requirement already satisfied: tqdm>4.25.0 in /usr/local/lib/python3.10/dist-packages (from shap) (4.65.0)\n",
            "Requirement already satisfied: packaging>20.9 in /usr/local/lib/python3.10/dist-packages (from shap) (23.1)\n",
            "Collecting slicer==0.0.7 (from shap)\n",
            "  Downloading slicer-0.0.7-py3-none-any.whl (14 kB)\n",
            "Requirement already satisfied: numba in /usr/local/lib/python3.10/dist-packages (from shap) (0.56.4)\n",
            "Requirement already satisfied: cloudpickle in /usr/local/lib/python3.10/dist-packages (from shap) (2.2.1)\n",
            "Requirement already satisfied: llvmlite<0.40,>=0.39.0dev0 in /usr/local/lib/python3.10/dist-packages (from numba->shap) (0.39.1)\n",
            "Requirement already satisfied: setuptools in /usr/local/lib/python3.10/dist-packages (from numba->shap) (67.7.2)\n",
            "Requirement already satisfied: python-dateutil>=2.8.1 in /usr/local/lib/python3.10/dist-packages (from pandas->shap) (2.8.2)\n",
            "Requirement already satisfied: pytz>=2020.1 in /usr/local/lib/python3.10/dist-packages (from pandas->shap) (2022.7.1)\n",
            "Requirement already satisfied: joblib>=1.1.1 in /usr/local/lib/python3.10/dist-packages (from scikit-learn->shap) (1.2.0)\n",
            "Requirement already satisfied: threadpoolctl>=2.0.0 in /usr/local/lib/python3.10/dist-packages (from scikit-learn->shap) (3.1.0)\n",
            "Requirement already satisfied: six>=1.5 in /usr/local/lib/python3.10/dist-packages (from python-dateutil>=2.8.1->pandas->shap) (1.16.0)\n",
            "Installing collected packages: slicer, shap\n",
            "Successfully installed shap-0.41.0 slicer-0.0.7\n"
          ]
        }
      ],
      "source": [
        "!pip install shap"
      ]
    },
    {
      "cell_type": "code",
      "execution_count": 6,
      "metadata": {
        "id": "yisYwS6Mymik"
      },
      "outputs": [],
      "source": [
        "import shap\n",
        "import pandas as pd\n",
        "import seaborn as sns\n",
        "\n",
        "# Evaluation metrics\n",
        "from sklearn.metrics import accuracy_score, precision_score, recall_score, f1_score\n",
        "from sklearn.metrics import auc, roc_curve, roc_auc_score\n",
        "from sklearn.metrics import precision_recall_curve\n",
        "from sklearn.metrics import balanced_accuracy_score\n",
        "from sklearn.metrics import classification_report\n",
        "from sklearn.metrics import confusion_matrix"
      ]
    },
    {
      "cell_type": "code",
      "execution_count": null,
      "metadata": {
        "id": "xV-A28_rzwCq"
      },
      "outputs": [],
      "source": [
        "def evaluation(y_test, y_pred):\n",
        "  print('Misclassified samples: %d' % (y_test != y_pred).sum())\n",
        "  result = confusion_matrix(y_test, y_pred)\n",
        "  print(\"Confusion Matrix:\")\n",
        "  print(result)\n",
        "  sns.heatmap(result, annot=True)\n",
        "  result1 = classification_report(y_test, y_pred)\n",
        "  print(\"Classification Report:\",)\n",
        "  print (result1)\n",
        "  result2 = 100* accuracy_score(y_test, y_pred)\n",
        "  print(\"Accuracy:\", result2)\n",
        "  result3 = precision_score(y_test, y_pred, average='macro')\n",
        "  print(\"Precision:\",result3)\n",
        "  result4 = recall_score(y_test, y_pred, average='macro')\n",
        "  print(\"Recall:\",result4)\n",
        "  result5 = f1_score(y_test, y_pred, average='macro')\n",
        "  print(\"F1:\",result5)\n",
        "  #result6 = roc_auc_score(y_test, y_pred, multi_class='ovo')\n",
        "  #print(\"AUC:\",result6)"
      ]
    },
    {
      "cell_type": "markdown",
      "metadata": {
        "id": "kFirQ2Tyz28E"
      },
      "source": [
        "# Load adv samples"
      ]
    },
    {
      "cell_type": "code",
      "source": [
        "feature_list = ['Flow Duration', 'Tot Fwd Pkts', 'Tot Bwd Pkts', 'TotLen Fwd Pkts',\n",
        "       'TotLen Bwd Pkts', 'Fwd Pkt Len Max', 'Fwd Pkt Len Min',\n",
        "       'Fwd Pkt Len Mean', 'Fwd Pkt Len Std', 'Bwd Pkt Len Max',\n",
        "       'Bwd Pkt Len Min', 'Bwd Pkt Len Mean', 'Bwd Pkt Len Std', 'Flow Byts/s',\n",
        "       'Flow Pkts/s', 'Flow IAT Mean', 'Flow IAT Std', 'Flow IAT Max',\n",
        "       'Flow IAT Min', 'Fwd IAT Tot', 'Fwd IAT Mean', 'Fwd IAT Std',\n",
        "       'Fwd IAT Max', 'Fwd IAT Min', 'Bwd IAT Tot', 'Bwd IAT Mean',\n",
        "       'Bwd IAT Std', 'Bwd IAT Max', 'Bwd IAT Min', 'Fwd PSH Flags',\n",
        "       'Bwd PSH Flags', 'Fwd URG Flags', 'Bwd URG Flags', 'Fwd Header Len',\n",
        "       'Bwd Header Len', 'Fwd Pkts/s', 'Bwd Pkts/s', 'Pkt Len Min',\n",
        "       'Pkt Len Max', 'Pkt Len Mean', 'Pkt Len Std', 'Pkt Len Var',\n",
        "       'FIN Flag Cnt', 'SYN Flag Cnt', 'RST Flag Cnt', 'PSH Flag Cnt',\n",
        "       'ACK Flag Cnt', 'URG Flag Cnt', 'CWE Flag Count', 'ECE Flag Cnt',\n",
        "       'Down/Up Ratio', 'Pkt Size Avg', 'Fwd Seg Size Avg', 'Bwd Seg Size Avg',\n",
        "       'Fwd Byts/b Avg', 'Fwd Pkts/b Avg', 'Fwd Blk Rate Avg',\n",
        "       'Bwd Byts/b Avg', 'Bwd Pkts/b Avg', 'Bwd Blk Rate Avg',\n",
        "       'Subflow Fwd Pkts', 'Subflow Fwd Byts', 'Subflow Bwd Pkts',\n",
        "       'Subflow Bwd Byts', 'Init Fwd Win Byts', 'Init Bwd Win Byts',\n",
        "       'Fwd Act Data Pkts', 'Fwd Seg Size Min', 'Active Mean', 'Active Std',\n",
        "       'Active Max', 'Active Min', 'Idle Mean', 'Idle Std', 'Idle Max',\n",
        "       'Idle Min']"
      ],
      "metadata": {
        "id": "kzlS8X6ZF1WY"
      },
      "execution_count": 9,
      "outputs": []
    },
    {
      "cell_type": "code",
      "execution_count": 12,
      "metadata": {
        "id": "f29J4Es-z5lJ"
      },
      "outputs": [],
      "source": [
        "hsj_path = '/content/drive/MyDrive/DACN_XAI_Adv_defense/Dataset/insdn/adv/hsj/adv_hsj_target.csv'\n",
        "#hsj_label_path = '/content/drive/MyDrive/DACN_XAI_Adv_defense/Dataset/insdn/adv/hsj/label_hsj_target.csv'"
      ]
    },
    {
      "cell_type": "code",
      "execution_count": 13,
      "metadata": {
        "id": "I8txn6aG0EIJ"
      },
      "outputs": [],
      "source": [
        "hsj_df = pd.read_csv(hsj_path)"
      ]
    },
    {
      "cell_type": "code",
      "execution_count": 14,
      "metadata": {
        "colab": {
          "base_uri": "https://localhost:8080/"
        },
        "id": "dcF6Wl5Y0LY2",
        "outputId": "f80e30ca-0fa4-421a-fb08-38521aa59c7a"
      },
      "outputs": [
        {
          "output_type": "stream",
          "name": "stdout",
          "text": [
            "<class 'pandas.core.frame.DataFrame'>\n",
            "RangeIndex: 77203 entries, 0 to 77202\n",
            "Data columns (total 76 columns):\n",
            " #   Column             Non-Null Count  Dtype  \n",
            "---  ------             --------------  -----  \n",
            " 0   Flow Duration      77203 non-null  float64\n",
            " 1   Tot Fwd Pkts       77203 non-null  float64\n",
            " 2   Tot Bwd Pkts       77203 non-null  float64\n",
            " 3   TotLen Fwd Pkts    77203 non-null  float64\n",
            " 4   TotLen Bwd Pkts    77203 non-null  float64\n",
            " 5   Fwd Pkt Len Max    77203 non-null  float64\n",
            " 6   Fwd Pkt Len Min    77203 non-null  float64\n",
            " 7   Fwd Pkt Len Mean   77203 non-null  float64\n",
            " 8   Fwd Pkt Len Std    77203 non-null  float64\n",
            " 9   Bwd Pkt Len Max    77203 non-null  float64\n",
            " 10  Bwd Pkt Len Min    77203 non-null  float64\n",
            " 11  Bwd Pkt Len Mean   77203 non-null  float64\n",
            " 12  Bwd Pkt Len Std    77203 non-null  float64\n",
            " 13  Flow Byts/s        77203 non-null  float64\n",
            " 14  Flow Pkts/s        77203 non-null  float64\n",
            " 15  Flow IAT Mean      77203 non-null  float64\n",
            " 16  Flow IAT Std       77203 non-null  float64\n",
            " 17  Flow IAT Max       77203 non-null  float64\n",
            " 18  Flow IAT Min       77203 non-null  float64\n",
            " 19  Fwd IAT Tot        77203 non-null  float64\n",
            " 20  Fwd IAT Mean       77203 non-null  float64\n",
            " 21  Fwd IAT Std        77203 non-null  float64\n",
            " 22  Fwd IAT Max        77203 non-null  float64\n",
            " 23  Fwd IAT Min        77203 non-null  float64\n",
            " 24  Bwd IAT Tot        77203 non-null  float64\n",
            " 25  Bwd IAT Mean       77203 non-null  float64\n",
            " 26  Bwd IAT Std        77203 non-null  float64\n",
            " 27  Bwd IAT Max        77203 non-null  float64\n",
            " 28  Bwd IAT Min        77203 non-null  float64\n",
            " 29  Fwd PSH Flags      77203 non-null  float64\n",
            " 30  Bwd PSH Flags      77203 non-null  float64\n",
            " 31  Fwd URG Flags      77203 non-null  float64\n",
            " 32  Bwd URG Flags      77203 non-null  float64\n",
            " 33  Fwd Header Len     77203 non-null  float64\n",
            " 34  Bwd Header Len     77203 non-null  float64\n",
            " 35  Fwd Pkts/s         77203 non-null  float64\n",
            " 36  Bwd Pkts/s         77203 non-null  float64\n",
            " 37  Pkt Len Min        77203 non-null  float64\n",
            " 38  Pkt Len Max        77203 non-null  float64\n",
            " 39  Pkt Len Mean       77203 non-null  float64\n",
            " 40  Pkt Len Std        77203 non-null  float64\n",
            " 41  Pkt Len Var        77203 non-null  float64\n",
            " 42  FIN Flag Cnt       77203 non-null  float64\n",
            " 43  SYN Flag Cnt       77203 non-null  float64\n",
            " 44  RST Flag Cnt       77203 non-null  float64\n",
            " 45  PSH Flag Cnt       77203 non-null  float64\n",
            " 46  ACK Flag Cnt       77203 non-null  float64\n",
            " 47  URG Flag Cnt       77203 non-null  float64\n",
            " 48  CWE Flag Count     77203 non-null  float64\n",
            " 49  ECE Flag Cnt       77203 non-null  float64\n",
            " 50  Down/Up Ratio      77203 non-null  float64\n",
            " 51  Pkt Size Avg       77203 non-null  float64\n",
            " 52  Fwd Seg Size Avg   77203 non-null  float64\n",
            " 53  Bwd Seg Size Avg   77203 non-null  float64\n",
            " 54  Fwd Byts/b Avg     77203 non-null  float64\n",
            " 55  Fwd Pkts/b Avg     77203 non-null  float64\n",
            " 56  Fwd Blk Rate Avg   77203 non-null  float64\n",
            " 57  Bwd Byts/b Avg     77203 non-null  float64\n",
            " 58  Bwd Pkts/b Avg     77203 non-null  float64\n",
            " 59  Bwd Blk Rate Avg   77203 non-null  float64\n",
            " 60  Subflow Fwd Pkts   77203 non-null  float64\n",
            " 61  Subflow Fwd Byts   77203 non-null  float64\n",
            " 62  Subflow Bwd Pkts   77203 non-null  float64\n",
            " 63  Subflow Bwd Byts   77203 non-null  float64\n",
            " 64  Init Fwd Win Byts  77203 non-null  float64\n",
            " 65  Init Bwd Win Byts  77203 non-null  float64\n",
            " 66  Fwd Act Data Pkts  77203 non-null  float64\n",
            " 67  Fwd Seg Size Min   77203 non-null  float64\n",
            " 68  Active Mean        77203 non-null  float64\n",
            " 69  Active Std         77203 non-null  float64\n",
            " 70  Active Max         77203 non-null  float64\n",
            " 71  Active Min         77203 non-null  float64\n",
            " 72  Idle Mean          77203 non-null  float64\n",
            " 73  Idle Std           77203 non-null  float64\n",
            " 74  Idle Max           77203 non-null  float64\n",
            " 75  Idle Min           77203 non-null  float64\n",
            "dtypes: float64(76)\n",
            "memory usage: 44.8 MB\n"
          ]
        }
      ],
      "source": [
        "hsj_df.columns = feature_list\n",
        "hsj_df.info()"
      ]
    },
    {
      "cell_type": "code",
      "execution_count": null,
      "metadata": {
        "id": "PVO-9Dh_1C5T"
      },
      "outputs": [],
      "source": [
        "#hsj_label = pd.read_csv(hsj_label_path)\n",
        "#hsj_label.info()"
      ]
    },
    {
      "cell_type": "markdown",
      "metadata": {
        "id": "g33N-zPby6kB"
      },
      "source": [
        "# Load ML-based IDS model"
      ]
    },
    {
      "cell_type": "code",
      "execution_count": 15,
      "metadata": {
        "id": "ZWIDESvCy2b5"
      },
      "outputs": [],
      "source": [
        "import joblib\n",
        "# load\n",
        "model = joblib.load(\"/content/drive/MyDrive/DACN_XAI_Adv_defense/InSDN/random_forest_smote.joblib\")"
      ]
    },
    {
      "cell_type": "code",
      "execution_count": null,
      "metadata": {
        "id": "87qdnk9KzAjv"
      },
      "outputs": [],
      "source": [
        "y_pred = model.predict(hsj_df)"
      ]
    },
    {
      "cell_type": "code",
      "execution_count": null,
      "metadata": {
        "colab": {
          "base_uri": "https://localhost:8080/"
        },
        "id": "1PdJOsqy2ewh",
        "outputId": "e5f7ec5e-1aa1-429f-a27c-01d4e9444bcf"
      },
      "outputs": [
        {
          "name": "stdout",
          "output_type": "stream",
          "text": [
            "<class 'numpy.ndarray'>\n"
          ]
        }
      ],
      "source": [
        "print(type(y_pred))"
      ]
    },
    {
      "cell_type": "code",
      "execution_count": null,
      "metadata": {
        "colab": {
          "base_uri": "https://localhost:8080/"
        },
        "id": "RfRGt1Pz11ti",
        "outputId": "a61e4168-da4f-4b0c-b38e-30d80bcb94d7"
      },
      "outputs": [
        {
          "data": {
            "text/plain": [
              "(77203,)"
            ]
          },
          "execution_count": 17,
          "metadata": {},
          "output_type": "execute_result"
        }
      ],
      "source": [
        "y_pred.shape"
      ]
    },
    {
      "cell_type": "code",
      "execution_count": null,
      "metadata": {
        "colab": {
          "base_uri": "https://localhost:8080/",
          "height": 1000
        },
        "id": "mXCy4asw1ouo",
        "outputId": "bb010755-2f7a-4122-9bda-1dae5bf515e3"
      },
      "outputs": [
        {
          "name": "stdout",
          "output_type": "stream",
          "text": [
            "Misclassified samples: 5954592501\n",
            "Confusion Matrix:\n",
            "[[    0     0     0     0     0     0     0     0]\n",
            " [27573     1     1    62     0     0     0    15]\n",
            " [33959     6     2   158     0     0     0    40]\n",
            " [14751     1     0   134     0     0     0     0]\n",
            " [  398     1     0     4     0     0     0     0]\n",
            " [   42     0     0     1     0     0     0     0]\n",
            " [   46     0     0     1     0     0     0     0]\n",
            " [    7     0     0     0     0     0     0     0]]\n"
          ]
        },
        {
          "name": "stderr",
          "output_type": "stream",
          "text": [
            "Precision and F-score are ill-defined and being set to 0.0 in labels with no predicted samples. Use `zero_division` parameter to control this behavior.\n",
            "Recall and F-score are ill-defined and being set to 0.0 in labels with no true samples. Use `zero_division` parameter to control this behavior.\n",
            "Precision and F-score are ill-defined and being set to 0.0 in labels with no predicted samples. Use `zero_division` parameter to control this behavior.\n",
            "Recall and F-score are ill-defined and being set to 0.0 in labels with no true samples. Use `zero_division` parameter to control this behavior.\n",
            "Precision and F-score are ill-defined and being set to 0.0 in labels with no predicted samples. Use `zero_division` parameter to control this behavior.\n",
            "Recall and F-score are ill-defined and being set to 0.0 in labels with no true samples. Use `zero_division` parameter to control this behavior.\n",
            "Precision is ill-defined and being set to 0.0 in labels with no predicted samples. Use `zero_division` parameter to control this behavior.\n",
            "Recall is ill-defined and being set to 0.0 in labels with no true samples. Use `zero_division` parameter to control this behavior.\n"
          ]
        },
        {
          "name": "stdout",
          "output_type": "stream",
          "text": [
            "Classification Report:\n",
            "              precision    recall  f1-score   support\n",
            "\n",
            "           0       0.00      0.00      0.00         0\n",
            "           1       0.11      0.00      0.00     27652\n",
            "           2       0.67      0.00      0.00     34165\n",
            "           3       0.37      0.01      0.02     14886\n",
            "           4       0.00      0.00      0.00       403\n",
            "           5       0.00      0.00      0.00        43\n",
            "           6       0.00      0.00      0.00        47\n",
            "           7       0.00      0.00      0.00         7\n",
            "\n",
            "    accuracy                           0.00     77203\n",
            "   macro avg       0.14      0.00      0.00     77203\n",
            "weighted avg       0.41      0.00      0.00     77203\n",
            "\n",
            "Accuracy: 0.17745424400606194\n",
            "Precision: 0.14375\n",
            "Recall: 0.0011370562247445752\n",
            "F1: 0.0022209692228522837\n"
          ]
        },
        {
          "data": {
            "image/png": "[encoded data removed]",
            "text/plain": [
              "<Figure size 640x480 with 2 Axes>"
            ]
          },
          "metadata": {},
          "output_type": "display_data"
        }
      ],
      "source": [
        "evaluation(hsj_label.values, y_pred)"
      ]
    },
    {
      "cell_type": "markdown",
      "metadata": {
        "id": "e3fD9CIIOiI9"
      },
      "source": [
        "Correctly classified:\n",
        "\n",
        "Class 1: 1\n",
        "\n",
        "Class 2: 2\n",
        "\n",
        "CLass 3: 134"
      ]
    },
    {
      "cell_type": "markdown",
      "metadata": {
        "id": "RFRvMWrd4QoD"
      },
      "source": [
        "# SHAP"
      ]
    },
    {
      "cell_type": "code",
      "execution_count": 16,
      "metadata": {
        "id": "4505XjQu4K_g"
      },
      "outputs": [],
      "source": [
        "explainer = shap.Explainer(model)"
      ]
    },
    {
      "cell_type": "code",
      "execution_count": 17,
      "metadata": {
        "id": "2kwEY6jC4Z-l"
      },
      "outputs": [],
      "source": [
        "shap_values = explainer(hsj_df)"
      ]
    },
    {
      "cell_type": "code",
      "execution_count": 18,
      "metadata": {
        "id": "zCNBafHwBrdR"
      },
      "outputs": [],
      "source": [
        "exp = shap.Explanation(shap_values[:,:,0], shap_values.base_values[:,0], hsj_df, feature_names=feature_list)"
      ]
    },
    {
      "cell_type": "code",
      "execution_count": 19,
      "metadata": {
        "id": "EAcclHvEBw7a"
      },
      "outputs": [],
      "source": [
        "idx = 10"
      ]
    },
    {
      "cell_type": "code",
      "source": [
        "# Create a DataFrame with the SHAP values and feature names\n",
        "df_shap_values = pd.DataFrame({'SHAP Values': exp[idx].values}, index=feature_list)\n",
        "df_shap_values.sort_values(by=['SHAP Values'], ascending=False, inplace=True)\n",
        "first_column = df_shap_values.iloc[:, 0][:10].tolist()"
      ],
      "metadata": {
        "id": "NE1YDOpPZ8sI"
      },
      "execution_count": 31,
      "outputs": []
    },
    {
      "cell_type": "code",
      "source": [
        "df_shap_values.head()"
      ],
      "metadata": {
        "colab": {
          "base_uri": "https://localhost:8080/",
          "height": 206
        },
        "id": "vQh8ARZlaO9F",
        "outputId": "af512e46-0725-444a-e325-72a06b0479eb"
      },
      "execution_count": 33,
      "outputs": [
        {
          "output_type": "execute_result",
          "data": {
            "text/plain": [
              "                 SHAP Values\n",
              "Pkt Len Max         0.048683\n",
              "Tot Fwd Pkts        0.045758\n",
              "Bwd Pkt Len Min     0.040044\n",
              "Down/Up Ratio       0.037412\n",
              "Pkt Len Std         0.036316"
            ],
            "text/html": [
              "\n",
              "  <div id=\"df-6a9876d5-fe8f-4676-a384-9e99899de30b\">\n",
              "    <div class=\"colab-df-container\">\n",
              "      <div>\n",
              "<style scoped>\n",
              "    .dataframe tbody tr th:only-of-type {\n",
              "        vertical-align: middle;\n",
              "    }\n",
              "\n",
              "    .dataframe tbody tr th {\n",
              "        vertical-align: top;\n",
              "    }\n",
              "\n",
              "    .dataframe thead th {\n",
              "        text-align: right;\n",
              "    }\n",
              "</style>\n",
              "<table border=\"1\" class=\"dataframe\">\n",
              "  <thead>\n",
              "    <tr style=\"text-align: right;\">\n",
              "      <th></th>\n",
              "      <th>SHAP Values</th>\n",
              "    </tr>\n",
              "  </thead>\n",
              "  <tbody>\n",
              "    <tr>\n",
              "      <th>Pkt Len Max</th>\n",
              "      <td>0.048683</td>\n",
              "    </tr>\n",
              "    <tr>\n",
              "      <th>Tot Fwd Pkts</th>\n",
              "      <td>0.045758</td>\n",
              "    </tr>\n",
              "    <tr>\n",
              "      <th>Bwd Pkt Len Min</th>\n",
              "      <td>0.040044</td>\n",
              "    </tr>\n",
              "    <tr>\n",
              "      <th>Down/Up Ratio</th>\n",
              "      <td>0.037412</td>\n",
              "    </tr>\n",
              "    <tr>\n",
              "      <th>Pkt Len Std</th>\n",
              "      <td>0.036316</td>\n",
              "    </tr>\n",
              "  </tbody>\n",
              "</table>\n",
              "</div>\n",
              "      <button class=\"colab-df-convert\" onclick=\"convertToInteractive('df-6a9876d5-fe8f-4676-a384-9e99899de30b')\"\n",
              "              title=\"Convert this dataframe to an interactive table.\"\n",
              "              style=\"display:none;\">\n",
              "        \n",
              "  <svg xmlns=\"http://www.w3.org/2000/svg\" height=\"24px\"viewBox=\"0 0 24 24\"\n",
              "       width=\"24px\">\n",
              "    <path d=\"M0 0h24v24H0V0z\" fill=\"none\"/>\n",
              "    <path d=\"M18.56 5.44l.94 2.06.94-2.06 2.06-.94-2.06-.94-.94-2.06-.94 2.06-2.06.94zm-11 1L8.5 8.5l.94-2.06 2.06-.94-2.06-.94L8.5 2.5l-.94 2.06-2.06.94zm10 10l.94 2.06.94-2.06 2.06-.94-2.06-.94-.94-2.06-.94 2.06-2.06.94z\"/><path d=\"M17.41 7.96l-1.37-1.37c-.4-.4-.92-.59-1.43-.59-.52 0-1.04.2-1.43.59L10.3 9.45l-7.72 7.72c-.78.78-.78 2.05 0 2.83L4 21.41c.39.39.9.59 1.41.59.51 0 1.02-.2 1.41-.59l7.78-7.78 2.81-2.81c.8-.78.8-2.07 0-2.86zM5.41 20L4 18.59l7.72-7.72 1.47 1.35L5.41 20z\"/>\n",
              "  </svg>\n",
              "      </button>\n",
              "      \n",
              "  <style>\n",
              "    .colab-df-container {\n",
              "      display:flex;\n",
              "      flex-wrap:wrap;\n",
              "      gap: 12px;\n",
              "    }\n",
              "\n",
              "    .colab-df-convert {\n",
              "      background-color: #E8F0FE;\n",
              "      border: none;\n",
              "      border-radius: 50%;\n",
              "      cursor: pointer;\n",
              "      display: none;\n",
              "      fill: #1967D2;\n",
              "      height: 32px;\n",
              "      padding: 0 0 0 0;\n",
              "      width: 32px;\n",
              "    }\n",
              "\n",
              "    .colab-df-convert:hover {\n",
              "      background-color: #E2EBFA;\n",
              "      box-shadow: 0px 1px 2px rgba(60, 64, 67, 0.3), 0px 1px 3px 1px rgba(60, 64, 67, 0.15);\n",
              "      fill: #174EA6;\n",
              "    }\n",
              "\n",
              "    [theme=dark] .colab-df-convert {\n",
              "      background-color: #3B4455;\n",
              "      fill: #D2E3FC;\n",
              "    }\n",
              "\n",
              "    [theme=dark] .colab-df-convert:hover {\n",
              "      background-color: #434B5C;\n",
              "      box-shadow: 0px 1px 3px 1px rgba(0, 0, 0, 0.15);\n",
              "      filter: drop-shadow(0px 1px 2px rgba(0, 0, 0, 0.3));\n",
              "      fill: #FFFFFF;\n",
              "    }\n",
              "  </style>\n",
              "\n",
              "      <script>\n",
              "        const buttonEl =\n",
              "          document.querySelector('#df-6a9876d5-fe8f-4676-a384-9e99899de30b button.colab-df-convert');\n",
              "        buttonEl.style.display =\n",
              "          google.colab.kernel.accessAllowed ? 'block' : 'none';\n",
              "\n",
              "        async function convertToInteractive(key) {\n",
              "          const element = document.querySelector('#df-6a9876d5-fe8f-4676-a384-9e99899de30b');\n",
              "          const dataTable =\n",
              "            await google.colab.kernel.invokeFunction('convertToInteractive',\n",
              "                                                     [key], {});\n",
              "          if (!dataTable) return;\n",
              "\n",
              "          const docLinkHtml = 'Like what you see? Visit the ' +\n",
              "            '<a target=\"_blank\" href=https://colab.research.google.com/notebooks/data_table.ipynb>data table notebook</a>'\n",
              "            + ' to learn more about interactive tables.';\n",
              "          element.innerHTML = '';\n",
              "          dataTable['output_type'] = 'display_data';\n",
              "          await google.colab.output.renderOutput(dataTable, element);\n",
              "          const docLink = document.createElement('div');\n",
              "          docLink.innerHTML = docLinkHtml;\n",
              "          element.appendChild(docLink);\n",
              "        }\n",
              "      </script>\n",
              "    </div>\n",
              "  </div>\n",
              "  "
            ]
          },
          "metadata": {},
          "execution_count": 33
        }
      ]
    },
    {
      "cell_type": "code",
      "source": [
        "# Get the index as a list\n",
        "index_list = df_shap_values.index[:10].tolist()\n",
        "\n",
        "print(index_list)\n"
      ],
      "metadata": {
        "colab": {
          "base_uri": "https://localhost:8080/"
        },
        "id": "8wuZZxmEawP2",
        "outputId": "b7a6d50a-68f9-4b51-8bcc-3c47fc817234"
      },
      "execution_count": 35,
      "outputs": [
        {
          "output_type": "stream",
          "name": "stdout",
          "text": [
            "['Pkt Len Max', 'Tot Fwd Pkts', 'Bwd Pkt Len Min', 'Down/Up Ratio', 'Pkt Len Std', 'Fwd Pkt Len Max', 'Pkt Size Avg', 'Subflow Fwd Pkts', 'Fwd Seg Size Avg', 'Pkt Len Mean']\n"
          ]
        }
      ]
    },
    {
      "cell_type": "code",
      "source": [
        "print(first_column)"
      ],
      "metadata": {
        "colab": {
          "base_uri": "https://localhost:8080/"
        },
        "id": "7RmZTvh_aBYI",
        "outputId": "76cbe847-8601-42ae-df3a-56f7cf1bd1e0"
      },
      "execution_count": 32,
      "outputs": [
        {
          "output_type": "stream",
          "name": "stdout",
          "text": [
            "[0.04868297441191783, 0.045758079359959174, 0.04004350012021061, 0.03741163075109429, 0.0363160502746057, 0.03555477478264314, 0.028017716752110396, 0.024722255521116905, 0.023401958814670394, 0.022274832623317784]\n"
          ]
        }
      ]
    },
    {
      "cell_type": "code",
      "execution_count": 20,
      "metadata": {
        "colab": {
          "base_uri": "https://localhost:8080/"
        },
        "id": "U0L1xtuY75D5",
        "outputId": "6de38d54-f7e0-4645-c311-65de3b74f651"
      },
      "outputs": [
        {
          "output_type": "stream",
          "name": "stdout",
          "text": [
            "[ 2.08390507e-03  2.46151096e-02  4.38037370e-03 -1.28588728e-02\n",
            "  9.47276519e-03  1.76803730e-02  9.16390469e-03  5.77994625e-03\n",
            "  4.28428112e-03  1.29221821e-02  5.69500810e-02 -1.16020978e-02\n",
            " -2.35755503e-03  3.04335605e-03 -4.19920773e-03 -1.52781374e-03\n",
            "  2.33637816e-03 -1.62349035e-04  4.22299307e-03 -2.94622414e-03\n",
            " -4.65766539e-04 -4.23937752e-03  6.08522391e-04  1.60257989e-04\n",
            " -1.87614456e-03 -6.50907465e-03  1.96771226e-03 -1.53032526e-03\n",
            "  3.67149579e-03  0.00000000e+00  3.75033007e-03  0.00000000e+00\n",
            "  3.57498392e-04 -2.45264149e-02 -4.17064089e-02 -2.68631884e-03\n",
            " -2.36142592e-03  2.20371346e-02  1.77194930e-02  2.62641386e-02\n",
            "  3.04062994e-02  9.94675528e-03  4.47581639e-03  9.93661430e-03\n",
            "  2.86298676e-04  9.74988827e-03  6.93673218e-03  5.35670383e-04\n",
            "  0.00000000e+00  0.00000000e+00  8.16078735e-03  3.18620977e-02\n",
            "  8.10684443e-03  4.61701642e-03  0.00000000e+00  0.00000000e+00\n",
            "  0.00000000e+00  0.00000000e+00  0.00000000e+00  0.00000000e+00\n",
            " -1.11558102e-03  5.35783506e-03  7.30941918e-03  7.06626455e-03\n",
            " -1.95308287e-03 -4.39130053e-02  5.56398668e-03  0.00000000e+00\n",
            "  3.32007262e-03  9.01318585e-04 -1.01492114e-03  1.14008534e-03\n",
            " -9.63130692e-05  1.11513778e-03  4.47399338e-04  7.98309008e-04]\n"
          ]
        }
      ],
      "source": [
        "print(exp[idx].values)"
      ]
    },
    {
      "cell_type": "code",
      "execution_count": 21,
      "metadata": {
        "colab": {
          "base_uri": "https://localhost:8080/",
          "height": 1000
        },
        "id": "4h2V56tMJ7FI",
        "outputId": "426ad093-ebbb-4316-f575-b614a657726a"
      },
      "outputs": [
        {
          "output_type": "display_data",
          "data": {
            "text/plain": [
              "<Figure size 800x1150 with 3 Axes>"
            ],
            "image/png": "[encoded data removed]"
          },
          "metadata": {}
        }
      ],
      "source": [
        "shap.plots.waterfall(exp[idx], max_display=20)"
      ]
    },
    {
      "cell_type": "code",
      "execution_count": 22,
      "metadata": {
        "colab": {
          "base_uri": "https://localhost:8080/"
        },
        "id": "6Yc7WlFzQJ6f",
        "outputId": "c54b6029-9c5e-404d-a1cd-ca6f530c4635"
      },
      "outputs": [
        {
          "output_type": "execute_result",
          "data": {
            "text/plain": [
              "(8,)"
            ]
          },
          "metadata": {},
          "execution_count": 22
        }
      ],
      "source": [
        "explainer.expected_value.shape"
      ]
    },
    {
      "cell_type": "code",
      "execution_count": 23,
      "metadata": {
        "colab": {
          "base_uri": "https://localhost:8080/"
        },
        "id": "ECepKRKARBXj",
        "outputId": "2971032e-e9cb-464c-8468-913976edcd19"
      },
      "outputs": [
        {
          "output_type": "stream",
          "name": "stdout",
          "text": [
            "[0.1981354  0.28483611 0.35395455 0.15458753 0.00407478 0.00155968\n",
            " 0.0015264  0.00132556]\n"
          ]
        }
      ],
      "source": [
        "print(explainer.expected_value)"
      ]
    },
    {
      "cell_type": "code",
      "execution_count": 24,
      "metadata": {
        "colab": {
          "base_uri": "https://localhost:8080/"
        },
        "id": "wG3Oz6jGLuEO",
        "outputId": "63bc18f0-795b-49a2-a55b-1b59784541fa"
      },
      "outputs": [
        {
          "output_type": "execute_result",
          "data": {
            "text/plain": [
              "(77203, 76, 8)"
            ]
          },
          "metadata": {},
          "execution_count": 24
        }
      ],
      "source": [
        "shap_values.shape"
      ]
    },
    {
      "cell_type": "code",
      "execution_count": 25,
      "metadata": {
        "colab": {
          "base_uri": "https://localhost:8080/"
        },
        "id": "61p3eHFQLyRO",
        "outputId": "772b26f7-1b9a-42bd-b4e1-7c3243553505"
      },
      "outputs": [
        {
          "output_type": "execute_result",
          "data": {
            "text/plain": [
              "(77203, 76, 8)"
            ]
          },
          "metadata": {},
          "execution_count": 25
        }
      ],
      "source": [
        "shap_values.values.shape"
      ]
    },
    {
      "cell_type": "code",
      "execution_count": 26,
      "metadata": {
        "colab": {
          "base_uri": "https://localhost:8080/"
        },
        "id": "cAu0rvRoL0Kv",
        "outputId": "ab40f36e-df6e-4a38-c1f0-bd2d0041db45"
      },
      "outputs": [
        {
          "output_type": "execute_result",
          "data": {
            "text/plain": [
              "(77203, 8)"
            ]
          },
          "metadata": {},
          "execution_count": 26
        }
      ],
      "source": [
        "shap_values.base_values.shape"
      ]
    },
    {
      "cell_type": "markdown",
      "metadata": {
        "id": "JwBapttUM7Du"
      },
      "source": [
        "# Extract local feature for each adv sample (50000 in total)"
      ]
    },
    {
      "cell_type": "code",
      "execution_count": null,
      "metadata": {
        "id": "a8Xe-PM9Ikwa"
      },
      "outputs": [],
      "source": [
        "for idx in range(0, 50000):\n",
        "  # Create a DataFrame with the SHAP values and feature names\n",
        "  df_shap_values = pd.DataFrame({'SHAP Values': exp[idx].values}, index=feature_list)\n",
        "  df_shap_values.sort_values(by=['SHAP Values'], ascending=False, inplace=True)\n",
        "  df_shap_values.to_csv('/content/drive/MyDrive/DACN_XAI_Adv_defense/InSDN/Result/SHAP_ADVSamples_' + str(idx) + '.csv')\n",
        "  print('Extracted local importance feature of the ' + str(idx) + 'adv sample.')"
      ]
    },
    {
      "cell_type": "markdown",
      "metadata": {
        "id": "E8tWQQDtNIJk"
      },
      "source": [
        "# Detection phase"
      ]
    },
    {
      "cell_type": "code",
      "execution_count": null,
      "metadata": {
        "id": "mmslrdn7z7Zf"
      },
      "outputs": [],
      "source": [
        "import os\n",
        "import pandas as pd"
      ]
    },
    {
      "cell_type": "code",
      "execution_count": null,
      "metadata": {
        "colab": {
          "base_uri": "https://localhost:8080/",
          "height": 802
        },
        "id": "aQJa-f1GPxvz",
        "outputId": "3614ff2a-7d61-46e2-85db-c777ff1b0067"
      },
      "outputs": [
        {
          "data": {
            "text/html": [
              "\n",
              "  <div id=\"df-af71d993-06f7-4c7f-b698-06ac642d4d08\">\n",
              "    <div class=\"colab-df-container\">\n",
              "      <div>\n",
              "<style scoped>\n",
              "    .dataframe tbody tr th:only-of-type {\n",
              "        vertical-align: middle;\n",
              "    }\n",
              "\n",
              "    .dataframe tbody tr th {\n",
              "        vertical-align: top;\n",
              "    }\n",
              "\n",
              "    .dataframe thead th {\n",
              "        text-align: right;\n",
              "    }\n",
              "</style>\n",
              "<table border=\"1\" class=\"dataframe\">\n",
              "  <thead>\n",
              "    <tr style=\"text-align: right;\">\n",
              "      <th></th>\n",
              "      <th>Feature</th>\n",
              "      <th>Frequency</th>\n",
              "    </tr>\n",
              "  </thead>\n",
              "  <tbody>\n",
              "    <tr>\n",
              "      <th>0</th>\n",
              "      <td>Bwd Header Len</td>\n",
              "      <td>60910</td>\n",
              "    </tr>\n",
              "    <tr>\n",
              "      <th>1</th>\n",
              "      <td>Pkt Size Avg</td>\n",
              "      <td>48472</td>\n",
              "    </tr>\n",
              "    <tr>\n",
              "      <th>2</th>\n",
              "      <td>Pkt Len Max</td>\n",
              "      <td>48112</td>\n",
              "    </tr>\n",
              "    <tr>\n",
              "      <th>3</th>\n",
              "      <td>Fwd Header Len</td>\n",
              "      <td>47441</td>\n",
              "    </tr>\n",
              "    <tr>\n",
              "      <th>4</th>\n",
              "      <td>Pkt Len Std</td>\n",
              "      <td>46926</td>\n",
              "    </tr>\n",
              "    <tr>\n",
              "      <th>5</th>\n",
              "      <td>Pkt Len Mean</td>\n",
              "      <td>42886</td>\n",
              "    </tr>\n",
              "    <tr>\n",
              "      <th>6</th>\n",
              "      <td>Bwd Pkt Len Min</td>\n",
              "      <td>39930</td>\n",
              "    </tr>\n",
              "    <tr>\n",
              "      <th>7</th>\n",
              "      <td>Pkt Len Min</td>\n",
              "      <td>38137</td>\n",
              "    </tr>\n",
              "    <tr>\n",
              "      <th>8</th>\n",
              "      <td>Bwd Seg Size Avg</td>\n",
              "      <td>37411</td>\n",
              "    </tr>\n",
              "    <tr>\n",
              "      <th>9</th>\n",
              "      <td>Down/Up Ratio</td>\n",
              "      <td>36935</td>\n",
              "    </tr>\n",
              "    <tr>\n",
              "      <th>10</th>\n",
              "      <td>Init Bwd Win Byts</td>\n",
              "      <td>34754</td>\n",
              "    </tr>\n",
              "    <tr>\n",
              "      <th>11</th>\n",
              "      <td>Fwd Seg Size Avg</td>\n",
              "      <td>28154</td>\n",
              "    </tr>\n",
              "    <tr>\n",
              "      <th>12</th>\n",
              "      <td>Bwd Pkts/s</td>\n",
              "      <td>27404</td>\n",
              "    </tr>\n",
              "    <tr>\n",
              "      <th>13</th>\n",
              "      <td>Subflow Bwd Pkts</td>\n",
              "      <td>27267</td>\n",
              "    </tr>\n",
              "    <tr>\n",
              "      <th>14</th>\n",
              "      <td>Flow Pkts/s</td>\n",
              "      <td>24526</td>\n",
              "    </tr>\n",
              "    <tr>\n",
              "      <th>15</th>\n",
              "      <td>Subflow Fwd Pkts</td>\n",
              "      <td>22413</td>\n",
              "    </tr>\n",
              "    <tr>\n",
              "      <th>16</th>\n",
              "      <td>Tot Fwd Pkts</td>\n",
              "      <td>22331</td>\n",
              "    </tr>\n",
              "    <tr>\n",
              "      <th>17</th>\n",
              "      <td>SYN Flag Cnt</td>\n",
              "      <td>16891</td>\n",
              "    </tr>\n",
              "    <tr>\n",
              "      <th>18</th>\n",
              "      <td>FIN Flag Cnt</td>\n",
              "      <td>15927</td>\n",
              "    </tr>\n",
              "    <tr>\n",
              "      <th>19</th>\n",
              "      <td>ACK Flag Cnt</td>\n",
              "      <td>15463</td>\n",
              "    </tr>\n",
              "    <tr>\n",
              "      <th>20</th>\n",
              "      <td>Bwd Pkt Len Max</td>\n",
              "      <td>14931</td>\n",
              "    </tr>\n",
              "    <tr>\n",
              "      <th>21</th>\n",
              "      <td>Fwd Pkt Len Max</td>\n",
              "      <td>14387</td>\n",
              "    </tr>\n",
              "    <tr>\n",
              "      <th>22</th>\n",
              "      <td>Tot Bwd Pkts</td>\n",
              "      <td>13000</td>\n",
              "    </tr>\n",
              "    <tr>\n",
              "      <th>23</th>\n",
              "      <td>Fwd Pkt Len Min</td>\n",
              "      <td>10501</td>\n",
              "    </tr>\n",
              "  </tbody>\n",
              "</table>\n",
              "</div>\n",
              "      <button class=\"colab-df-convert\" onclick=\"convertToInteractive('df-af71d993-06f7-4c7f-b698-06ac642d4d08')\"\n",
              "              title=\"Convert this dataframe to an interactive table.\"\n",
              "              style=\"display:none;\">\n",
              "        \n",
              "  <svg xmlns=\"http://www.w3.org/2000/svg\" height=\"24px\"viewBox=\"0 0 24 24\"\n",
              "       width=\"24px\">\n",
              "    <path d=\"M0 0h24v24H0V0z\" fill=\"none\"/>\n",
              "    <path d=\"M18.56 5.44l.94 2.06.94-2.06 2.06-.94-2.06-.94-.94-2.06-.94 2.06-2.06.94zm-11 1L8.5 8.5l.94-2.06 2.06-.94-2.06-.94L8.5 2.5l-.94 2.06-2.06.94zm10 10l.94 2.06.94-2.06 2.06-.94-2.06-.94-.94-2.06-.94 2.06-2.06.94z\"/><path d=\"M17.41 7.96l-1.37-1.37c-.4-.4-.92-.59-1.43-.59-.52 0-1.04.2-1.43.59L10.3 9.45l-7.72 7.72c-.78.78-.78 2.05 0 2.83L4 21.41c.39.39.9.59 1.41.59.51 0 1.02-.2 1.41-.59l7.78-7.78 2.81-2.81c.8-.78.8-2.07 0-2.86zM5.41 20L4 18.59l7.72-7.72 1.47 1.35L5.41 20z\"/>\n",
              "  </svg>\n",
              "      </button>\n",
              "      \n",
              "  <style>\n",
              "    .colab-df-container {\n",
              "      display:flex;\n",
              "      flex-wrap:wrap;\n",
              "      gap: 12px;\n",
              "    }\n",
              "\n",
              "    .colab-df-convert {\n",
              "      background-color: #E8F0FE;\n",
              "      border: none;\n",
              "      border-radius: 50%;\n",
              "      cursor: pointer;\n",
              "      display: none;\n",
              "      fill: #1967D2;\n",
              "      height: 32px;\n",
              "      padding: 0 0 0 0;\n",
              "      width: 32px;\n",
              "    }\n",
              "\n",
              "    .colab-df-convert:hover {\n",
              "      background-color: #E2EBFA;\n",
              "      box-shadow: 0px 1px 2px rgba(60, 64, 67, 0.3), 0px 1px 3px 1px rgba(60, 64, 67, 0.15);\n",
              "      fill: #174EA6;\n",
              "    }\n",
              "\n",
              "    [theme=dark] .colab-df-convert {\n",
              "      background-color: #3B4455;\n",
              "      fill: #D2E3FC;\n",
              "    }\n",
              "\n",
              "    [theme=dark] .colab-df-convert:hover {\n",
              "      background-color: #434B5C;\n",
              "      box-shadow: 0px 1px 3px 1px rgba(0, 0, 0, 0.15);\n",
              "      filter: drop-shadow(0px 1px 2px rgba(0, 0, 0, 0.3));\n",
              "      fill: #FFFFFF;\n",
              "    }\n",
              "  </style>\n",
              "\n",
              "      <script>\n",
              "        const buttonEl =\n",
              "          document.querySelector('#df-af71d993-06f7-4c7f-b698-06ac642d4d08 button.colab-df-convert');\n",
              "        buttonEl.style.display =\n",
              "          google.colab.kernel.accessAllowed ? 'block' : 'none';\n",
              "\n",
              "        async function convertToInteractive(key) {\n",
              "          const element = document.querySelector('#df-af71d993-06f7-4c7f-b698-06ac642d4d08');\n",
              "          const dataTable =\n",
              "            await google.colab.kernel.invokeFunction('convertToInteractive',\n",
              "                                                     [key], {});\n",
              "          if (!dataTable) return;\n",
              "\n",
              "          const docLinkHtml = 'Like what you see? Visit the ' +\n",
              "            '<a target=\"_blank\" href=https://colab.research.google.com/notebooks/data_table.ipynb>data table notebook</a>'\n",
              "            + ' to learn more about interactive tables.';\n",
              "          element.innerHTML = '';\n",
              "          dataTable['output_type'] = 'display_data';\n",
              "          await google.colab.output.renderOutput(dataTable, element);\n",
              "          const docLink = document.createElement('div');\n",
              "          docLink.innerHTML = docLinkHtml;\n",
              "          element.appendChild(docLink);\n",
              "        }\n",
              "      </script>\n",
              "    </div>\n",
              "  </div>\n",
              "  "
            ],
            "text/plain": [
              "              Feature  Frequency\n",
              "0      Bwd Header Len      60910\n",
              "1        Pkt Size Avg      48472\n",
              "2         Pkt Len Max      48112\n",
              "3      Fwd Header Len      47441\n",
              "4         Pkt Len Std      46926\n",
              "5        Pkt Len Mean      42886\n",
              "6     Bwd Pkt Len Min      39930\n",
              "7         Pkt Len Min      38137\n",
              "8    Bwd Seg Size Avg      37411\n",
              "9       Down/Up Ratio      36935\n",
              "10  Init Bwd Win Byts      34754\n",
              "11   Fwd Seg Size Avg      28154\n",
              "12         Bwd Pkts/s      27404\n",
              "13   Subflow Bwd Pkts      27267\n",
              "14        Flow Pkts/s      24526\n",
              "15   Subflow Fwd Pkts      22413\n",
              "16       Tot Fwd Pkts      22331\n",
              "17       SYN Flag Cnt      16891\n",
              "18       FIN Flag Cnt      15927\n",
              "19       ACK Flag Cnt      15463\n",
              "20    Bwd Pkt Len Max      14931\n",
              "21    Fwd Pkt Len Max      14387\n",
              "22       Tot Bwd Pkts      13000\n",
              "23    Fwd Pkt Len Min      10501"
            ]
          },
          "execution_count": 2,
          "metadata": {},
          "output_type": "execute_result"
        }
      ],
      "source": [
        "whitelist_df = pd.read_csv('/content/drive/MyDrive/DACN_XAI_Adv_defense/InSDN/top24_InSDN.csv')\n",
        "whitelist_df.head(24)"
      ]
    },
    {
      "cell_type": "markdown",
      "metadata": {
        "id": "d6MwJRkjqg0n"
      },
      "source": [
        "##Detection rate (top 24) = 38594/50000"
      ]
    },
    {
      "cell_type": "code",
      "execution_count": null,
      "metadata": {
        "colab": {
          "base_uri": "https://localhost:8080/"
        },
        "id": "hiA70yr9QStE",
        "outputId": "4d2f843e-0e53-454c-9529-17a5982509b0"
      },
      "outputs": [
        {
          "name": "stdout",
          "output_type": "stream",
          "text": [
            "['Bwd Header Len', 'Pkt Size Avg', 'Pkt Len Max', 'Fwd Header Len', 'Pkt Len Std', 'Pkt Len Mean', 'Bwd Pkt Len Min', 'Pkt Len Min', 'Bwd Seg Size Avg', 'Down/Up Ratio', 'Init Bwd Win Byts', 'Fwd Seg Size Avg', 'Bwd Pkts/s', 'Subflow Bwd Pkts', 'Flow Pkts/s', 'Subflow Fwd Pkts', 'Tot Fwd Pkts', 'SYN Flag Cnt', 'FIN Flag Cnt', 'ACK Flag Cnt', 'Bwd Pkt Len Max', 'Fwd Pkt Len Max', 'Tot Bwd Pkts', 'Fwd Pkt Len Min']\n"
          ]
        }
      ],
      "source": [
        "whitelist = whitelist_df.iloc[:, 0][:24].tolist()\n",
        "print(whitelist)"
      ]
    },
    {
      "cell_type": "code",
      "execution_count": null,
      "metadata": {
        "id": "NKTZ5iVWNLlT"
      },
      "outputs": [],
      "source": [
        "# Create an empty dictionary to store the data\n",
        "data_dict = {}\n",
        "\n",
        "for idx in range(0, 50000):\n",
        "  # Create a DataFrame with the SHAP values and feature names\n",
        "  df_shap_values = pd.DataFrame({'SHAP Values': exp[idx].values}, index=feature_list)\n",
        "  df_shap_values.sort_values(by=['SHAP Values'], ascending=False, inplace=True)\n",
        "  index_list = df_shap_values.index[:10].tolist()\n",
        "\n",
        "  # Add the list to the dictionary with the file name as the key\n",
        "  data_dict['SHAP_ADVSamples_' + str(idx)] = index_list\n",
        "  print('Extracted local importance feature of the ' + str(idx) + ' adv sample into dict.')"
      ]
    },
    {
      "cell_type": "code",
      "source": [
        "# Print an item of data dictionary\n",
        "for file_name, data_list in data_dict.items():\n",
        "    print(file_name, \":\", data_list)\n",
        "    break"
      ],
      "metadata": {
        "colab": {
          "base_uri": "https://localhost:8080/"
        },
        "id": "N_-Jw80VXYM_",
        "outputId": "93f515fe-77a4-4fe1-c9a3-ddac85c8c125"
      },
      "execution_count": 43,
      "outputs": [
        {
          "output_type": "stream",
          "name": "stdout",
          "text": [
            "SHAP_ADVSamples_0 : ['Pkt Len Max', 'Tot Fwd Pkts', 'Bwd Pkt Len Min', 'Down/Up Ratio', 'Pkt Len Std', 'Fwd Pkt Len Max', 'Pkt Size Avg', 'Subflow Fwd Pkts', 'Fwd Seg Size Avg', 'Pkt Len Mean']\n"
          ]
        }
      ]
    },
    {
      "cell_type": "code",
      "execution_count": 44,
      "metadata": {
        "colab": {
          "base_uri": "https://localhost:8080/"
        },
        "id": "AthCWRxsNjRf",
        "outputId": "5c8e2f73-8c62-450a-bfe6-21a0dd2f6782"
      },
      "outputs": [
        {
          "output_type": "stream",
          "name": "stdout",
          "text": [
            "Alert list length:38594\n"
          ]
        }
      ],
      "source": [
        "alert = []\n",
        "\n",
        "# Iterate over each key-value pair in the data_dict\n",
        "for key, value in data_dict.items():\n",
        "    # Check if there are one feature is not in the whitelist\n",
        "    for string in value:\n",
        "      if string not in whitelist:\n",
        "        alert.append(key)\n",
        "        break\n",
        "\n",
        "# Print the alert dictionary\n",
        "print(\"Alert list length:\" + str(len(alert)))"
      ]
    },
    {
      "cell_type": "markdown",
      "metadata": {
        "id": "NddVIE7MU9m-"
      },
      "source": [
        "##Detection rate (top 38) = 29667/50000"
      ]
    },
    {
      "cell_type": "code",
      "execution_count": 45,
      "metadata": {
        "colab": {
          "base_uri": "https://localhost:8080/"
        },
        "id": "glV2JgwuqRKu",
        "outputId": "501290a0-4969-4857-ef98-2944167406dd"
      },
      "outputs": [
        {
          "output_type": "stream",
          "name": "stdout",
          "text": [
            "['Bwd Header Len', 'Pkt Size Avg', 'Pkt Len Max', 'Fwd Header Len', 'Pkt Len Std', 'Pkt Len Mean', 'Bwd Pkt Len Min', 'Pkt Len Min', 'Bwd Seg Size Avg', 'Down/Up Ratio', 'Init Bwd Win Byts', 'Fwd Seg Size Avg', 'Bwd Pkts/s', 'Subflow Bwd Pkts', 'Flow Pkts/s', 'Subflow Fwd Pkts', 'Tot Fwd Pkts', 'SYN Flag Cnt', 'FIN Flag Cnt', 'ACK Flag Cnt', 'Bwd Pkt Len Max', 'Fwd Pkt Len Max', 'Tot Bwd Pkts', 'Fwd Pkt Len Min', 'Bwd Pkt Len Mean', 'Bwd IAT Mean', 'Fwd Pkt Len Mean', 'Init Fwd Win Byts', 'Fwd Pkts/s', 'Flow IAT Min', 'Bwd PSH Flags', 'Bwd IAT Max', 'Bwd IAT Min', 'PSH Flag Cnt', 'Flow IAT Std', 'Flow Duration', 'Flow IAT Max', 'Bwd Pkt Len Std']\n"
          ]
        }
      ],
      "source": [
        "whitelist2 = whitelist_df.iloc[:, 0][:38].tolist()\n",
        "print(whitelist2)"
      ]
    },
    {
      "cell_type": "code",
      "execution_count": 46,
      "metadata": {
        "colab": {
          "base_uri": "https://localhost:8080/"
        },
        "id": "YV0xGfwEqawF",
        "outputId": "01139a5e-878a-476a-9df4-4c866a1d4f92"
      },
      "outputs": [
        {
          "output_type": "stream",
          "name": "stdout",
          "text": [
            "Alert list length:29667\n"
          ]
        }
      ],
      "source": [
        "alert2 = []\n",
        "\n",
        "# Iterate over each key-value pair in the data_dict\n",
        "for key, value in data_dict.items():\n",
        "    # Check if there are one feature is not in the whitelist\n",
        "    for string in value:\n",
        "      if string not in whitelist2:\n",
        "        alert2.append(key)\n",
        "        break\n",
        "\n",
        "# Print the alert dictionary\n",
        "print(\"Alert list length:\" + str(len(alert2)))"
      ]
    }
  ],
  "metadata": {
    "colab": {
      "toc_visible": true,
      "provenance": [],
      "mount_file_id": "1P6qHmutDc_Vhd0z9laCKRB9RChrxio3h",
      "authorship_tag": "ABX9TyNB4zlQV1CqrFi6ibKCGihw",
      "include_colab_link": true
    },
    "kernelspec": {
      "display_name": "Python 3",
      "name": "python3"
    },
    "language_info": {
      "name": "python"
    }
  },
  "nbformat": 4,
  "nbformat_minor": 0
}