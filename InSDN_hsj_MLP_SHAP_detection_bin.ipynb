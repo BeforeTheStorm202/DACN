{
  "nbformat": 4,
  "nbformat_minor": 0,
  "metadata": {
    "colab": {
      "provenance": [],
      "mount_file_id": "1AgpK6wEzTHBaNGu-iKusABpV7Dsy4CrQ",
      "authorship_tag": "ABX9TyMO/Kx++JZVK7Gt8IOz5K+k",
      "include_colab_link": true
    },
    "kernelspec": {
      "name": "python3",
      "display_name": "Python 3"
    },
    "language_info": {
      "name": "python"
    },
    "widgets": {
      "application/vnd.jupyter.widget-state+json": {
        "e92afb2238fc4eceb5591d8ac2d8abfe": {
          "model_module": "@jupyter-widgets/controls",
          "model_name": "HBoxModel",
          "model_module_version": "1.5.0",
          "state": {
            "_dom_classes": [],
            "_model_module": "@jupyter-widgets/controls",
            "_model_module_version": "1.5.0",
            "_model_name": "HBoxModel",
            "_view_count": null,
            "_view_module": "@jupyter-widgets/controls",
            "_view_module_version": "1.5.0",
            "_view_name": "HBoxView",
            "box_style": "",
            "children": [
              "IPY_MODEL_f0b9c66e6ddc4afda99206db425d6ea4",
              "IPY_MODEL_3785b1b93ab149039c90e4776ffc680d",
              "IPY_MODEL_08c460a157ce4a3dac4a25202849a010"
            ],
            "layout": "IPY_MODEL_04e20d7c6dbb44cc85b9de5f015233c8"
          }
        },
        "f0b9c66e6ddc4afda99206db425d6ea4": {
          "model_module": "@jupyter-widgets/controls",
          "model_name": "HTMLModel",
          "model_module_version": "1.5.0",
          "state": {
            "_dom_classes": [],
            "_model_module": "@jupyter-widgets/controls",
            "_model_module_version": "1.5.0",
            "_model_name": "HTMLModel",
            "_view_count": null,
            "_view_module": "@jupyter-widgets/controls",
            "_view_module_version": "1.5.0",
            "_view_name": "HTMLView",
            "description": "",
            "description_tooltip": null,
            "layout": "IPY_MODEL_4c835591b7164106b3880df8fe7a6d84",
            "placeholder": "​",
            "style": "IPY_MODEL_a4bd7f356e394abfaa59758a7151683f",
            "value": "100%"
          }
        },
        "3785b1b93ab149039c90e4776ffc680d": {
          "model_module": "@jupyter-widgets/controls",
          "model_name": "FloatProgressModel",
          "model_module_version": "1.5.0",
          "state": {
            "_dom_classes": [],
            "_model_module": "@jupyter-widgets/controls",
            "_model_module_version": "1.5.0",
            "_model_name": "FloatProgressModel",
            "_view_count": null,
            "_view_module": "@jupyter-widgets/controls",
            "_view_module_version": "1.5.0",
            "_view_name": "ProgressView",
            "bar_style": "success",
            "description": "",
            "description_tooltip": null,
            "layout": "IPY_MODEL_176973bca8024507bd6e4bc8b1292a4e",
            "max": 1000,
            "min": 0,
            "orientation": "horizontal",
            "style": "IPY_MODEL_f58cc925129f4ad8ae1ac57f5576b4fc",
            "value": 1000
          }
        },
        "08c460a157ce4a3dac4a25202849a010": {
          "model_module": "@jupyter-widgets/controls",
          "model_name": "HTMLModel",
          "model_module_version": "1.5.0",
          "state": {
            "_dom_classes": [],
            "_model_module": "@jupyter-widgets/controls",
            "_model_module_version": "1.5.0",
            "_model_name": "HTMLModel",
            "_view_count": null,
            "_view_module": "@jupyter-widgets/controls",
            "_view_module_version": "1.5.0",
            "_view_name": "HTMLView",
            "description": "",
            "description_tooltip": null,
            "layout": "IPY_MODEL_6998a808527e4c46ab9277e553041f1a",
            "placeholder": "​",
            "style": "IPY_MODEL_36608f6bf6694d1b831224f696df2e82",
            "value": " 1000/1000 [55:22&lt;00:00,  3.12s/it]"
          }
        },
        "04e20d7c6dbb44cc85b9de5f015233c8": {
          "model_module": "@jupyter-widgets/base",
          "model_name": "LayoutModel",
          "model_module_version": "1.2.0",
          "state": {
            "_model_module": "@jupyter-widgets/base",
            "_model_module_version": "1.2.0",
            "_model_name": "LayoutModel",
            "_view_count": null,
            "_view_module": "@jupyter-widgets/base",
            "_view_module_version": "1.2.0",
            "_view_name": "LayoutView",
            "align_content": null,
            "align_items": null,
            "align_self": null,
            "border": null,
            "bottom": null,
            "display": null,
            "flex": null,
            "flex_flow": null,
            "grid_area": null,
            "grid_auto_columns": null,
            "grid_auto_flow": null,
            "grid_auto_rows": null,
            "grid_column": null,
            "grid_gap": null,
            "grid_row": null,
            "grid_template_areas": null,
            "grid_template_columns": null,
            "grid_template_rows": null,
            "height": null,
            "justify_content": null,
            "justify_items": null,
            "left": null,
            "margin": null,
            "max_height": null,
            "max_width": null,
            "min_height": null,
            "min_width": null,
            "object_fit": null,
            "object_position": null,
            "order": null,
            "overflow": null,
            "overflow_x": null,
            "overflow_y": null,
            "padding": null,
            "right": null,
            "top": null,
            "visibility": null,
            "width": null
          }
        },
        "4c835591b7164106b3880df8fe7a6d84": {
          "model_module": "@jupyter-widgets/base",
          "model_name": "LayoutModel",
          "model_module_version": "1.2.0",
          "state": {
            "_model_module": "@jupyter-widgets/base",
            "_model_module_version": "1.2.0",
            "_model_name": "LayoutModel",
            "_view_count": null,
            "_view_module": "@jupyter-widgets/base",
            "_view_module_version": "1.2.0",
            "_view_name": "LayoutView",
            "align_content": null,
            "align_items": null,
            "align_self": null,
            "border": null,
            "bottom": null,
            "display": null,
            "flex": null,
            "flex_flow": null,
            "grid_area": null,
            "grid_auto_columns": null,
            "grid_auto_flow": null,
            "grid_auto_rows": null,
            "grid_column": null,
            "grid_gap": null,
            "grid_row": null,
            "grid_template_areas": null,
            "grid_template_columns": null,
            "grid_template_rows": null,
            "height": null,
            "justify_content": null,
            "justify_items": null,
            "left": null,
            "margin": null,
            "max_height": null,
            "max_width": null,
            "min_height": null,
            "min_width": null,
            "object_fit": null,
            "object_position": null,
            "order": null,
            "overflow": null,
            "overflow_x": null,
            "overflow_y": null,
            "padding": null,
            "right": null,
            "top": null,
            "visibility": null,
            "width": null
          }
        },
        "a4bd7f356e394abfaa59758a7151683f": {
          "model_module": "@jupyter-widgets/controls",
          "model_name": "DescriptionStyleModel",
          "model_module_version": "1.5.0",
          "state": {
            "_model_module": "@jupyter-widgets/controls",
            "_model_module_version": "1.5.0",
            "_model_name": "DescriptionStyleModel",
            "_view_count": null,
            "_view_module": "@jupyter-widgets/base",
            "_view_module_version": "1.2.0",
            "_view_name": "StyleView",
            "description_width": ""
          }
        },
        "176973bca8024507bd6e4bc8b1292a4e": {
          "model_module": "@jupyter-widgets/base",
          "model_name": "LayoutModel",
          "model_module_version": "1.2.0",
          "state": {
            "_model_module": "@jupyter-widgets/base",
            "_model_module_version": "1.2.0",
            "_model_name": "LayoutModel",
            "_view_count": null,
            "_view_module": "@jupyter-widgets/base",
            "_view_module_version": "1.2.0",
            "_view_name": "LayoutView",
            "align_content": null,
            "align_items": null,
            "align_self": null,
            "border": null,
            "bottom": null,
            "display": null,
            "flex": null,
            "flex_flow": null,
            "grid_area": null,
            "grid_auto_columns": null,
            "grid_auto_flow": null,
            "grid_auto_rows": null,
            "grid_column": null,
            "grid_gap": null,
            "grid_row": null,
            "grid_template_areas": null,
            "grid_template_columns": null,
            "grid_template_rows": null,
            "height": null,
            "justify_content": null,
            "justify_items": null,
            "left": null,
            "margin": null,
            "max_height": null,
            "max_width": null,
            "min_height": null,
            "min_width": null,
            "object_fit": null,
            "object_position": null,
            "order": null,
            "overflow": null,
            "overflow_x": null,
            "overflow_y": null,
            "padding": null,
            "right": null,
            "top": null,
            "visibility": null,
            "width": null
          }
        },
        "f58cc925129f4ad8ae1ac57f5576b4fc": {
          "model_module": "@jupyter-widgets/controls",
          "model_name": "ProgressStyleModel",
          "model_module_version": "1.5.0",
          "state": {
            "_model_module": "@jupyter-widgets/controls",
            "_model_module_version": "1.5.0",
            "_model_name": "ProgressStyleModel",
            "_view_count": null,
            "_view_module": "@jupyter-widgets/base",
            "_view_module_version": "1.2.0",
            "_view_name": "StyleView",
            "bar_color": null,
            "description_width": ""
          }
        },
        "6998a808527e4c46ab9277e553041f1a": {
          "model_module": "@jupyter-widgets/base",
          "model_name": "LayoutModel",
          "model_module_version": "1.2.0",
          "state": {
            "_model_module": "@jupyter-widgets/base",
            "_model_module_version": "1.2.0",
            "_model_name": "LayoutModel",
            "_view_count": null,
            "_view_module": "@jupyter-widgets/base",
            "_view_module_version": "1.2.0",
            "_view_name": "LayoutView",
            "align_content": null,
            "align_items": null,
            "align_self": null,
            "border": null,
            "bottom": null,
            "display": null,
            "flex": null,
            "flex_flow": null,
            "grid_area": null,
            "grid_auto_columns": null,
            "grid_auto_flow": null,
            "grid_auto_rows": null,
            "grid_column": null,
            "grid_gap": null,
            "grid_row": null,
            "grid_template_areas": null,
            "grid_template_columns": null,
            "grid_template_rows": null,
            "height": null,
            "justify_content": null,
            "justify_items": null,
            "left": null,
            "margin": null,
            "max_height": null,
            "max_width": null,
            "min_height": null,
            "min_width": null,
            "object_fit": null,
            "object_position": null,
            "order": null,
            "overflow": null,
            "overflow_x": null,
            "overflow_y": null,
            "padding": null,
            "right": null,
            "top": null,
            "visibility": null,
            "width": null
          }
        },
        "36608f6bf6694d1b831224f696df2e82": {
          "model_module": "@jupyter-widgets/controls",
          "model_name": "DescriptionStyleModel",
          "model_module_version": "1.5.0",
          "state": {
            "_model_module": "@jupyter-widgets/controls",
            "_model_module_version": "1.5.0",
            "_model_name": "DescriptionStyleModel",
            "_view_count": null,
            "_view_module": "@jupyter-widgets/base",
            "_view_module_version": "1.2.0",
            "_view_name": "StyleView",
            "description_width": ""
          }
        }
      }
    }
  },
  "cells": [
    {
      "cell_type": "markdown",
      "metadata": {
        "id": "view-in-github",
        "colab_type": "text"
      },
      "source": [
        "<a href=\"https://colab.research.google.com/github/BeforeTheStorm202/DACN/blob/main/InSDN_hsj_MLP_SHAP_detection_bin.ipynb\" target=\"_parent\"><img src=\"https://colab.research.google.com/assets/colab-badge.svg\" alt=\"Open In Colab\"/></a>"
      ]
    },
    {
      "cell_type": "markdown",
      "source": [
        "# Import"
      ],
      "metadata": {
        "id": "O0lPv_8LykMw"
      }
    },
    {
      "cell_type": "code",
      "source": [
        "from google.colab import drive\n",
        "drive.mount('/content/drive', force_remount=True)"
      ],
      "metadata": {
        "colab": {
          "base_uri": "https://localhost:8080/"
        },
        "id": "8efEEenXOnJi",
        "outputId": "08320a85-467c-4e5c-8cc1-11cdd2eadbf7"
      },
      "execution_count": null,
      "outputs": [
        {
          "output_type": "stream",
          "name": "stdout",
          "text": [
            "Mounted at /content/drive\n"
          ]
        }
      ]
    },
    {
      "cell_type": "code",
      "source": [
        "import warnings\n",
        "warnings.filterwarnings('ignore')"
      ],
      "metadata": {
        "id": "No3-0KGj_Kic"
      },
      "execution_count": null,
      "outputs": []
    },
    {
      "cell_type": "code",
      "execution_count": 1,
      "metadata": {
        "id": "bBcPmYOsyREp",
        "colab": {
          "base_uri": "https://localhost:8080/"
        },
        "outputId": "246ccdde-4adc-4bfd-bb33-dfe6280b8074"
      },
      "outputs": [
        {
          "output_type": "stream",
          "name": "stdout",
          "text": [
            "Collecting shap\n",
            "  Downloading shap-0.42.0-cp310-cp310-manylinux_2_12_x86_64.manylinux2010_x86_64.manylinux_2_17_x86_64.manylinux2014_x86_64.whl (547 kB)\n",
            "\u001b[?25l     \u001b[90m━━━━━━━━━━━━━━━━━━━━━━━━━━━━━━━━━━━━━━━━\u001b[0m \u001b[32m0.0/547.1 kB\u001b[0m \u001b[31m?\u001b[0m eta \u001b[36m-:--:--\u001b[0m\r\u001b[2K     \u001b[90m━━━━━━━━━━━━━━━━━━━━━━━━━━━━━━━━━━━━━━\u001b[0m \u001b[32m547.1/547.1 kB\u001b[0m \u001b[31m29.1 MB/s\u001b[0m eta \u001b[36m0:00:00\u001b[0m\n",
            "\u001b[?25hRequirement already satisfied: numpy in /usr/local/lib/python3.10/dist-packages (from shap) (1.22.4)\n",
            "Requirement already satisfied: scipy in /usr/local/lib/python3.10/dist-packages (from shap) (1.10.1)\n",
            "Requirement already satisfied: scikit-learn in /usr/local/lib/python3.10/dist-packages (from shap) (1.2.2)\n",
            "Requirement already satisfied: pandas in /usr/local/lib/python3.10/dist-packages (from shap) (1.5.3)\n",
            "Requirement already satisfied: tqdm>=4.27.0 in /usr/local/lib/python3.10/dist-packages (from shap) (4.65.0)\n",
            "Requirement already satisfied: packaging>20.9 in /usr/local/lib/python3.10/dist-packages (from shap) (23.1)\n",
            "Collecting slicer==0.0.7 (from shap)\n",
            "  Downloading slicer-0.0.7-py3-none-any.whl (14 kB)\n",
            "Requirement already satisfied: numba in /usr/local/lib/python3.10/dist-packages (from shap) (0.56.4)\n",
            "Requirement already satisfied: cloudpickle in /usr/local/lib/python3.10/dist-packages (from shap) (2.2.1)\n",
            "Requirement already satisfied: llvmlite<0.40,>=0.39.0dev0 in /usr/local/lib/python3.10/dist-packages (from numba->shap) (0.39.1)\n",
            "Requirement already satisfied: setuptools in /usr/local/lib/python3.10/dist-packages (from numba->shap) (67.7.2)\n",
            "Requirement already satisfied: python-dateutil>=2.8.1 in /usr/local/lib/python3.10/dist-packages (from pandas->shap) (2.8.2)\n",
            "Requirement already satisfied: pytz>=2020.1 in /usr/local/lib/python3.10/dist-packages (from pandas->shap) (2022.7.1)\n",
            "Requirement already satisfied: joblib>=1.1.1 in /usr/local/lib/python3.10/dist-packages (from scikit-learn->shap) (1.2.0)\n",
            "Requirement already satisfied: threadpoolctl>=2.0.0 in /usr/local/lib/python3.10/dist-packages (from scikit-learn->shap) (3.1.0)\n",
            "Requirement already satisfied: six>=1.5 in /usr/local/lib/python3.10/dist-packages (from python-dateutil>=2.8.1->pandas->shap) (1.16.0)\n",
            "Installing collected packages: slicer, shap\n",
            "Successfully installed shap-0.42.0 slicer-0.0.7\n"
          ]
        }
      ],
      "source": [
        "!pip install shap"
      ]
    },
    {
      "cell_type": "code",
      "source": [
        "import shap\n",
        "import pandas as pd\n",
        "import tensorflow as tf\n",
        "from tensorflow import keras"
      ],
      "metadata": {
        "id": "yisYwS6Mymik",
        "colab": {
          "base_uri": "https://localhost:8080/"
        },
        "outputId": "1486e94b-3b81-4360-f698-625546c2f302"
      },
      "execution_count": 2,
      "outputs": [
        {
          "output_type": "stream",
          "name": "stderr",
          "text": [
            "Using `tqdm.autonotebook.tqdm` in notebook mode. Use `tqdm.tqdm` instead to force console mode (e.g. in jupyter console)\n"
          ]
        }
      ]
    },
    {
      "cell_type": "markdown",
      "source": [
        "# Load trainset"
      ],
      "metadata": {
        "id": "Bz9tx1gdBGK4"
      }
    },
    {
      "cell_type": "code",
      "source": [
        "df = pd.read_csv('/content/drive/MyDrive/DACN_XAI_Adv_defense/Dataset/insdn/binary/train.csv')\n",
        "df.info()"
      ],
      "metadata": {
        "colab": {
          "base_uri": "https://localhost:8080/"
        },
        "id": "joOnVrMbBIgT",
        "outputId": "823fb978-430c-4a20-907e-eb5f1292d048"
      },
      "execution_count": 3,
      "outputs": [
        {
          "output_type": "stream",
          "name": "stdout",
          "text": [
            "<class 'pandas.core.frame.DataFrame'>\n",
            "RangeIndex: 275111 entries, 0 to 275110\n",
            "Data columns (total 77 columns):\n",
            " #   Column             Non-Null Count   Dtype  \n",
            "---  ------             --------------   -----  \n",
            " 0   Flow Duration      275111 non-null  float64\n",
            " 1   Tot Fwd Pkts       275111 non-null  float64\n",
            " 2   Tot Bwd Pkts       275111 non-null  float64\n",
            " 3   TotLen Fwd Pkts    275111 non-null  float64\n",
            " 4   TotLen Bwd Pkts    275111 non-null  float64\n",
            " 5   Fwd Pkt Len Max    275111 non-null  float64\n",
            " 6   Fwd Pkt Len Min    275111 non-null  float64\n",
            " 7   Fwd Pkt Len Mean   275111 non-null  float64\n",
            " 8   Fwd Pkt Len Std    275111 non-null  float64\n",
            " 9   Bwd Pkt Len Max    275111 non-null  float64\n",
            " 10  Bwd Pkt Len Min    275111 non-null  float64\n",
            " 11  Bwd Pkt Len Mean   275111 non-null  float64\n",
            " 12  Bwd Pkt Len Std    275111 non-null  float64\n",
            " 13  Flow Byts/s        275111 non-null  float64\n",
            " 14  Flow Pkts/s        275111 non-null  float64\n",
            " 15  Flow IAT Mean      275111 non-null  float64\n",
            " 16  Flow IAT Std       275111 non-null  float64\n",
            " 17  Flow IAT Max       275111 non-null  float64\n",
            " 18  Flow IAT Min       275111 non-null  float64\n",
            " 19  Fwd IAT Tot        275111 non-null  float64\n",
            " 20  Fwd IAT Mean       275111 non-null  float64\n",
            " 21  Fwd IAT Std        275111 non-null  float64\n",
            " 22  Fwd IAT Max        275111 non-null  float64\n",
            " 23  Fwd IAT Min        275111 non-null  float64\n",
            " 24  Bwd IAT Tot        275111 non-null  float64\n",
            " 25  Bwd IAT Mean       275111 non-null  float64\n",
            " 26  Bwd IAT Std        275111 non-null  float64\n",
            " 27  Bwd IAT Max        275111 non-null  float64\n",
            " 28  Bwd IAT Min        275111 non-null  float64\n",
            " 29  Fwd PSH Flags      275111 non-null  float64\n",
            " 30  Bwd PSH Flags      275111 non-null  float64\n",
            " 31  Fwd URG Flags      275111 non-null  float64\n",
            " 32  Bwd URG Flags      275111 non-null  float64\n",
            " 33  Fwd Header Len     275111 non-null  float64\n",
            " 34  Bwd Header Len     275111 non-null  float64\n",
            " 35  Fwd Pkts/s         275111 non-null  float64\n",
            " 36  Bwd Pkts/s         275111 non-null  float64\n",
            " 37  Pkt Len Min        275111 non-null  float64\n",
            " 38  Pkt Len Max        275111 non-null  float64\n",
            " 39  Pkt Len Mean       275111 non-null  float64\n",
            " 40  Pkt Len Std        275111 non-null  float64\n",
            " 41  Pkt Len Var        275111 non-null  float64\n",
            " 42  FIN Flag Cnt       275111 non-null  float64\n",
            " 43  SYN Flag Cnt       275111 non-null  float64\n",
            " 44  RST Flag Cnt       275111 non-null  float64\n",
            " 45  PSH Flag Cnt       275111 non-null  float64\n",
            " 46  ACK Flag Cnt       275111 non-null  float64\n",
            " 47  URG Flag Cnt       275111 non-null  float64\n",
            " 48  CWE Flag Count     275111 non-null  float64\n",
            " 49  ECE Flag Cnt       275111 non-null  float64\n",
            " 50  Down/Up Ratio      275111 non-null  float64\n",
            " 51  Pkt Size Avg       275111 non-null  float64\n",
            " 52  Fwd Seg Size Avg   275111 non-null  float64\n",
            " 53  Bwd Seg Size Avg   275111 non-null  float64\n",
            " 54  Fwd Byts/b Avg     275111 non-null  float64\n",
            " 55  Fwd Pkts/b Avg     275111 non-null  float64\n",
            " 56  Fwd Blk Rate Avg   275111 non-null  float64\n",
            " 57  Bwd Byts/b Avg     275111 non-null  float64\n",
            " 58  Bwd Pkts/b Avg     275111 non-null  float64\n",
            " 59  Bwd Blk Rate Avg   275111 non-null  float64\n",
            " 60  Subflow Fwd Pkts   275111 non-null  float64\n",
            " 61  Subflow Fwd Byts   275111 non-null  float64\n",
            " 62  Subflow Bwd Pkts   275111 non-null  float64\n",
            " 63  Subflow Bwd Byts   275111 non-null  float64\n",
            " 64  Init Fwd Win Byts  275111 non-null  float64\n",
            " 65  Init Bwd Win Byts  275111 non-null  float64\n",
            " 66  Fwd Act Data Pkts  275111 non-null  float64\n",
            " 67  Fwd Seg Size Min   275111 non-null  float64\n",
            " 68  Active Mean        275111 non-null  float64\n",
            " 69  Active Std         275111 non-null  float64\n",
            " 70  Active Max         275111 non-null  float64\n",
            " 71  Active Min         275111 non-null  float64\n",
            " 72  Idle Mean          275111 non-null  float64\n",
            " 73  Idle Std           275111 non-null  float64\n",
            " 74  Idle Max           275111 non-null  float64\n",
            " 75  Idle Min           275111 non-null  float64\n",
            " 76  Label              275111 non-null  int64  \n",
            "dtypes: float64(76), int64(1)\n",
            "memory usage: 161.6 MB\n"
          ]
        }
      ]
    },
    {
      "cell_type": "code",
      "source": [
        "df = df.drop(columns=['Label'])\n",
        "df.info()"
      ],
      "metadata": {
        "colab": {
          "base_uri": "https://localhost:8080/"
        },
        "id": "mYgl1-XQBYwR",
        "outputId": "6c731f0d-c7ed-4389-a355-e7f5f6863c9c"
      },
      "execution_count": 4,
      "outputs": [
        {
          "output_type": "stream",
          "name": "stdout",
          "text": [
            "<class 'pandas.core.frame.DataFrame'>\n",
            "RangeIndex: 275111 entries, 0 to 275110\n",
            "Data columns (total 76 columns):\n",
            " #   Column             Non-Null Count   Dtype  \n",
            "---  ------             --------------   -----  \n",
            " 0   Flow Duration      275111 non-null  float64\n",
            " 1   Tot Fwd Pkts       275111 non-null  float64\n",
            " 2   Tot Bwd Pkts       275111 non-null  float64\n",
            " 3   TotLen Fwd Pkts    275111 non-null  float64\n",
            " 4   TotLen Bwd Pkts    275111 non-null  float64\n",
            " 5   Fwd Pkt Len Max    275111 non-null  float64\n",
            " 6   Fwd Pkt Len Min    275111 non-null  float64\n",
            " 7   Fwd Pkt Len Mean   275111 non-null  float64\n",
            " 8   Fwd Pkt Len Std    275111 non-null  float64\n",
            " 9   Bwd Pkt Len Max    275111 non-null  float64\n",
            " 10  Bwd Pkt Len Min    275111 non-null  float64\n",
            " 11  Bwd Pkt Len Mean   275111 non-null  float64\n",
            " 12  Bwd Pkt Len Std    275111 non-null  float64\n",
            " 13  Flow Byts/s        275111 non-null  float64\n",
            " 14  Flow Pkts/s        275111 non-null  float64\n",
            " 15  Flow IAT Mean      275111 non-null  float64\n",
            " 16  Flow IAT Std       275111 non-null  float64\n",
            " 17  Flow IAT Max       275111 non-null  float64\n",
            " 18  Flow IAT Min       275111 non-null  float64\n",
            " 19  Fwd IAT Tot        275111 non-null  float64\n",
            " 20  Fwd IAT Mean       275111 non-null  float64\n",
            " 21  Fwd IAT Std        275111 non-null  float64\n",
            " 22  Fwd IAT Max        275111 non-null  float64\n",
            " 23  Fwd IAT Min        275111 non-null  float64\n",
            " 24  Bwd IAT Tot        275111 non-null  float64\n",
            " 25  Bwd IAT Mean       275111 non-null  float64\n",
            " 26  Bwd IAT Std        275111 non-null  float64\n",
            " 27  Bwd IAT Max        275111 non-null  float64\n",
            " 28  Bwd IAT Min        275111 non-null  float64\n",
            " 29  Fwd PSH Flags      275111 non-null  float64\n",
            " 30  Bwd PSH Flags      275111 non-null  float64\n",
            " 31  Fwd URG Flags      275111 non-null  float64\n",
            " 32  Bwd URG Flags      275111 non-null  float64\n",
            " 33  Fwd Header Len     275111 non-null  float64\n",
            " 34  Bwd Header Len     275111 non-null  float64\n",
            " 35  Fwd Pkts/s         275111 non-null  float64\n",
            " 36  Bwd Pkts/s         275111 non-null  float64\n",
            " 37  Pkt Len Min        275111 non-null  float64\n",
            " 38  Pkt Len Max        275111 non-null  float64\n",
            " 39  Pkt Len Mean       275111 non-null  float64\n",
            " 40  Pkt Len Std        275111 non-null  float64\n",
            " 41  Pkt Len Var        275111 non-null  float64\n",
            " 42  FIN Flag Cnt       275111 non-null  float64\n",
            " 43  SYN Flag Cnt       275111 non-null  float64\n",
            " 44  RST Flag Cnt       275111 non-null  float64\n",
            " 45  PSH Flag Cnt       275111 non-null  float64\n",
            " 46  ACK Flag Cnt       275111 non-null  float64\n",
            " 47  URG Flag Cnt       275111 non-null  float64\n",
            " 48  CWE Flag Count     275111 non-null  float64\n",
            " 49  ECE Flag Cnt       275111 non-null  float64\n",
            " 50  Down/Up Ratio      275111 non-null  float64\n",
            " 51  Pkt Size Avg       275111 non-null  float64\n",
            " 52  Fwd Seg Size Avg   275111 non-null  float64\n",
            " 53  Bwd Seg Size Avg   275111 non-null  float64\n",
            " 54  Fwd Byts/b Avg     275111 non-null  float64\n",
            " 55  Fwd Pkts/b Avg     275111 non-null  float64\n",
            " 56  Fwd Blk Rate Avg   275111 non-null  float64\n",
            " 57  Bwd Byts/b Avg     275111 non-null  float64\n",
            " 58  Bwd Pkts/b Avg     275111 non-null  float64\n",
            " 59  Bwd Blk Rate Avg   275111 non-null  float64\n",
            " 60  Subflow Fwd Pkts   275111 non-null  float64\n",
            " 61  Subflow Fwd Byts   275111 non-null  float64\n",
            " 62  Subflow Bwd Pkts   275111 non-null  float64\n",
            " 63  Subflow Bwd Byts   275111 non-null  float64\n",
            " 64  Init Fwd Win Byts  275111 non-null  float64\n",
            " 65  Init Bwd Win Byts  275111 non-null  float64\n",
            " 66  Fwd Act Data Pkts  275111 non-null  float64\n",
            " 67  Fwd Seg Size Min   275111 non-null  float64\n",
            " 68  Active Mean        275111 non-null  float64\n",
            " 69  Active Std         275111 non-null  float64\n",
            " 70  Active Max         275111 non-null  float64\n",
            " 71  Active Min         275111 non-null  float64\n",
            " 72  Idle Mean          275111 non-null  float64\n",
            " 73  Idle Std           275111 non-null  float64\n",
            " 74  Idle Max           275111 non-null  float64\n",
            " 75  Idle Min           275111 non-null  float64\n",
            "dtypes: float64(76)\n",
            "memory usage: 159.5 MB\n"
          ]
        }
      ]
    },
    {
      "cell_type": "markdown",
      "source": [
        "# Load adv samples"
      ],
      "metadata": {
        "id": "kFirQ2Tyz28E"
      }
    },
    {
      "cell_type": "code",
      "source": [
        "feature_list = ['Flow Duration', 'Tot Fwd Pkts', 'Tot Bwd Pkts', 'TotLen Fwd Pkts',\n",
        "       'TotLen Bwd Pkts', 'Fwd Pkt Len Max', 'Fwd Pkt Len Min',\n",
        "       'Fwd Pkt Len Mean', 'Fwd Pkt Len Std', 'Bwd Pkt Len Max',\n",
        "       'Bwd Pkt Len Min', 'Bwd Pkt Len Mean', 'Bwd Pkt Len Std', 'Flow Byts/s',\n",
        "       'Flow Pkts/s', 'Flow IAT Mean', 'Flow IAT Std', 'Flow IAT Max',\n",
        "       'Flow IAT Min', 'Fwd IAT Tot', 'Fwd IAT Mean', 'Fwd IAT Std',\n",
        "       'Fwd IAT Max', 'Fwd IAT Min', 'Bwd IAT Tot', 'Bwd IAT Mean',\n",
        "       'Bwd IAT Std', 'Bwd IAT Max', 'Bwd IAT Min', 'Fwd PSH Flags',\n",
        "       'Bwd PSH Flags', 'Fwd URG Flags', 'Bwd URG Flags', 'Fwd Header Len',\n",
        "       'Bwd Header Len', 'Fwd Pkts/s', 'Bwd Pkts/s', 'Pkt Len Min',\n",
        "       'Pkt Len Max', 'Pkt Len Mean', 'Pkt Len Std', 'Pkt Len Var',\n",
        "       'FIN Flag Cnt', 'SYN Flag Cnt', 'RST Flag Cnt', 'PSH Flag Cnt',\n",
        "       'ACK Flag Cnt', 'URG Flag Cnt', 'CWE Flag Count', 'ECE Flag Cnt',\n",
        "       'Down/Up Ratio', 'Pkt Size Avg', 'Fwd Seg Size Avg', 'Bwd Seg Size Avg',\n",
        "       'Fwd Byts/b Avg', 'Fwd Pkts/b Avg', 'Fwd Blk Rate Avg',\n",
        "       'Bwd Byts/b Avg', 'Bwd Pkts/b Avg', 'Bwd Blk Rate Avg',\n",
        "       'Subflow Fwd Pkts', 'Subflow Fwd Byts', 'Subflow Bwd Pkts',\n",
        "       'Subflow Bwd Byts', 'Init Fwd Win Byts', 'Init Bwd Win Byts',\n",
        "       'Fwd Act Data Pkts', 'Fwd Seg Size Min', 'Active Mean', 'Active Std',\n",
        "       'Active Max', 'Active Min', 'Idle Mean', 'Idle Std', 'Idle Max',\n",
        "       'Idle Min']"
      ],
      "metadata": {
        "id": "uoVlCtWr1F-F"
      },
      "execution_count": 15,
      "outputs": []
    },
    {
      "cell_type": "code",
      "source": [
        "hsj_path = '/content/drive/MyDrive/DACN_XAI_Adv_defense/Dataset/insdn/adv/24_feature/hsj/hsj_bin_feature'"
      ],
      "metadata": {
        "id": "f29J4Es-z5lJ"
      },
      "execution_count": 5,
      "outputs": []
    },
    {
      "cell_type": "code",
      "source": [
        "hsj_df = pd.read_csv(hsj_path)"
      ],
      "metadata": {
        "id": "I8txn6aG0EIJ"
      },
      "execution_count": 6,
      "outputs": []
    },
    {
      "cell_type": "code",
      "source": [
        "#hsj_df.columns = feature_list\n",
        "hsj_df.info()"
      ],
      "metadata": {
        "colab": {
          "base_uri": "https://localhost:8080/"
        },
        "id": "dcF6Wl5Y0LY2",
        "outputId": "8148e279-4c73-46d8-e58e-1bcfb5cca150"
      },
      "execution_count": 7,
      "outputs": [
        {
          "output_type": "stream",
          "name": "stdout",
          "text": [
            "<class 'pandas.core.frame.DataFrame'>\n",
            "RangeIndex: 55151 entries, 0 to 55150\n",
            "Data columns (total 76 columns):\n",
            " #   Column             Non-Null Count  Dtype  \n",
            "---  ------             --------------  -----  \n",
            " 0   Flow Duration      55151 non-null  float64\n",
            " 1   Tot Fwd Pkts       55151 non-null  float64\n",
            " 2   Tot Bwd Pkts       55151 non-null  float64\n",
            " 3   TotLen Fwd Pkts    55151 non-null  float64\n",
            " 4   TotLen Bwd Pkts    55151 non-null  float64\n",
            " 5   Fwd Pkt Len Max    55151 non-null  float64\n",
            " 6   Fwd Pkt Len Min    55151 non-null  float64\n",
            " 7   Fwd Pkt Len Mean   55151 non-null  float64\n",
            " 8   Fwd Pkt Len Std    55151 non-null  float64\n",
            " 9   Bwd Pkt Len Max    55151 non-null  float64\n",
            " 10  Bwd Pkt Len Min    55151 non-null  float64\n",
            " 11  Bwd Pkt Len Mean   55151 non-null  float64\n",
            " 12  Bwd Pkt Len Std    55151 non-null  float64\n",
            " 13  Flow Byts/s        55151 non-null  float64\n",
            " 14  Flow Pkts/s        55151 non-null  float64\n",
            " 15  Flow IAT Mean      55151 non-null  float64\n",
            " 16  Flow IAT Std       55151 non-null  float64\n",
            " 17  Flow IAT Max       55151 non-null  float64\n",
            " 18  Flow IAT Min       55151 non-null  float64\n",
            " 19  Fwd IAT Tot        55151 non-null  float64\n",
            " 20  Fwd IAT Mean       55151 non-null  float64\n",
            " 21  Fwd IAT Std        55151 non-null  float64\n",
            " 22  Fwd IAT Max        55151 non-null  float64\n",
            " 23  Fwd IAT Min        55151 non-null  float64\n",
            " 24  Bwd IAT Tot        55151 non-null  float64\n",
            " 25  Bwd IAT Mean       55151 non-null  float64\n",
            " 26  Bwd IAT Std        55151 non-null  float64\n",
            " 27  Bwd IAT Max        55151 non-null  float64\n",
            " 28  Bwd IAT Min        55151 non-null  float64\n",
            " 29  Fwd PSH Flags      55151 non-null  float64\n",
            " 30  Bwd PSH Flags      55151 non-null  float64\n",
            " 31  Fwd URG Flags      55151 non-null  float64\n",
            " 32  Bwd URG Flags      55151 non-null  float64\n",
            " 33  Fwd Header Len     55151 non-null  float64\n",
            " 34  Bwd Header Len     55151 non-null  float64\n",
            " 35  Fwd Pkts/s         55151 non-null  float64\n",
            " 36  Bwd Pkts/s         55151 non-null  float64\n",
            " 37  Pkt Len Min        55151 non-null  float64\n",
            " 38  Pkt Len Max        55151 non-null  float64\n",
            " 39  Pkt Len Mean       55151 non-null  float64\n",
            " 40  Pkt Len Std        55151 non-null  float64\n",
            " 41  Pkt Len Var        55151 non-null  float64\n",
            " 42  FIN Flag Cnt       55151 non-null  float64\n",
            " 43  SYN Flag Cnt       55151 non-null  float64\n",
            " 44  RST Flag Cnt       55151 non-null  float64\n",
            " 45  PSH Flag Cnt       55151 non-null  float64\n",
            " 46  ACK Flag Cnt       55151 non-null  float64\n",
            " 47  URG Flag Cnt       55151 non-null  float64\n",
            " 48  CWE Flag Count     55151 non-null  float64\n",
            " 49  ECE Flag Cnt       55151 non-null  float64\n",
            " 50  Down/Up Ratio      55151 non-null  float64\n",
            " 51  Pkt Size Avg       55151 non-null  float64\n",
            " 52  Fwd Seg Size Avg   55151 non-null  float64\n",
            " 53  Bwd Seg Size Avg   55151 non-null  float64\n",
            " 54  Fwd Byts/b Avg     55151 non-null  float64\n",
            " 55  Fwd Pkts/b Avg     55151 non-null  float64\n",
            " 56  Fwd Blk Rate Avg   55151 non-null  float64\n",
            " 57  Bwd Byts/b Avg     55151 non-null  float64\n",
            " 58  Bwd Pkts/b Avg     55151 non-null  float64\n",
            " 59  Bwd Blk Rate Avg   55151 non-null  float64\n",
            " 60  Subflow Fwd Pkts   55151 non-null  float64\n",
            " 61  Subflow Fwd Byts   55151 non-null  float64\n",
            " 62  Subflow Bwd Pkts   55151 non-null  float64\n",
            " 63  Subflow Bwd Byts   55151 non-null  float64\n",
            " 64  Init Fwd Win Byts  55151 non-null  float64\n",
            " 65  Init Bwd Win Byts  55151 non-null  float64\n",
            " 66  Fwd Act Data Pkts  55151 non-null  float64\n",
            " 67  Fwd Seg Size Min   55151 non-null  float64\n",
            " 68  Active Mean        55151 non-null  float64\n",
            " 69  Active Std         55151 non-null  float64\n",
            " 70  Active Max         55151 non-null  float64\n",
            " 71  Active Min         55151 non-null  float64\n",
            " 72  Idle Mean          55151 non-null  float64\n",
            " 73  Idle Std           55151 non-null  float64\n",
            " 74  Idle Max           55151 non-null  float64\n",
            " 75  Idle Min           55151 non-null  float64\n",
            "dtypes: float64(76)\n",
            "memory usage: 32.0 MB\n"
          ]
        }
      ]
    },
    {
      "cell_type": "markdown",
      "source": [
        "# Load DL-based IDS model"
      ],
      "metadata": {
        "id": "g33N-zPby6kB"
      }
    },
    {
      "cell_type": "code",
      "source": [
        "model_mlp = tf.keras.models.load_model('/content/drive/MyDrive/DACN_XAI_Adv_defense/Dataset/insdn/insdn_mlp_bin.h5', compile=True)"
      ],
      "metadata": {
        "id": "ZWIDESvCy2b5"
      },
      "execution_count": 8,
      "outputs": []
    },
    {
      "cell_type": "markdown",
      "source": [
        "# SHAP"
      ],
      "metadata": {
        "id": "RFRvMWrd4QoD"
      }
    },
    {
      "cell_type": "code",
      "source": [
        "explainer = shap.KernelExplainer(model_mlp, shap.sample(df, 100))"
      ],
      "metadata": {
        "id": "4505XjQu4K_g"
      },
      "execution_count": 9,
      "outputs": []
    },
    {
      "cell_type": "code",
      "source": [
        "hsj_1000 = hsj_df.head(1000)"
      ],
      "metadata": {
        "id": "biTLBwQsdMKd"
      },
      "execution_count": 10,
      "outputs": []
    },
    {
      "cell_type": "code",
      "source": [
        "shap_values = explainer.shap_values(hsj_1000)"
      ],
      "metadata": {
        "id": "2kwEY6jC4Z-l",
        "colab": {
          "base_uri": "https://localhost:8080/",
          "height": 49,
          "referenced_widgets": [
            "e92afb2238fc4eceb5591d8ac2d8abfe",
            "f0b9c66e6ddc4afda99206db425d6ea4",
            "3785b1b93ab149039c90e4776ffc680d",
            "08c460a157ce4a3dac4a25202849a010",
            "04e20d7c6dbb44cc85b9de5f015233c8",
            "4c835591b7164106b3880df8fe7a6d84",
            "a4bd7f356e394abfaa59758a7151683f",
            "176973bca8024507bd6e4bc8b1292a4e",
            "f58cc925129f4ad8ae1ac57f5576b4fc",
            "6998a808527e4c46ab9277e553041f1a",
            "36608f6bf6694d1b831224f696df2e82"
          ]
        },
        "outputId": "4085ba3d-bf45-4081-f1b5-ac296188963e"
      },
      "execution_count": 11,
      "outputs": [
        {
          "data": {
            "application/vnd.jupyter.widget-view+json": {
              "model_id": "e92afb2238fc4eceb5591d8ac2d8abfe",
              "version_major": 2,
              "version_minor": 0
            },
            "text/plain": [
              "  0%|          | 0/1000 [00:00<?, ?it/s]"
            ]
          },
          "metadata": {},
          "output_type": "display_data"
        }
      ]
    },
    {
      "cell_type": "code",
      "source": [
        "print(shap_values[0])"
      ],
      "metadata": {
        "colab": {
          "base_uri": "https://localhost:8080/"
        },
        "id": "gHb6Mmvi47qA",
        "outputId": "3094a358-8f00-4557-efc4-e0ef8d341615"
      },
      "execution_count": 12,
      "outputs": [
        {
          "output_type": "stream",
          "name": "stdout",
          "text": [
            "[[ 0.0125374  -0.00219166 -0.00195191 ...  0.          0.00210421\n",
            "   0.00251801]\n",
            " [ 0.00097669  0.00116165  0.00194681 ... -0.00340335  0.00372628\n",
            "   0.00790232]\n",
            " [ 0.00132904 -0.00076516  0.00055625 ... -0.00169805  0.00448393\n",
            "   0.00769213]\n",
            " ...\n",
            " [ 0.          0.          0.         ...  0.          0.\n",
            "   0.        ]\n",
            " [ 0.01198052  0.          0.00130985 ...  0.00109538  0.00330921\n",
            "   0.00213014]\n",
            " [ 0.          0.00804155  0.00470512 ...  0.         -0.00500601\n",
            "   0.00702134]]\n"
          ]
        }
      ]
    },
    {
      "cell_type": "code",
      "source": [
        "len(shap_values[0])"
      ],
      "metadata": {
        "colab": {
          "base_uri": "https://localhost:8080/"
        },
        "id": "9FEigbOEYqJr",
        "outputId": "82333897-f489-49da-8afc-5c198a867470"
      },
      "execution_count": 19,
      "outputs": [
        {
          "output_type": "execute_result",
          "data": {
            "text/plain": [
              "1000"
            ]
          },
          "metadata": {},
          "execution_count": 19
        }
      ]
    },
    {
      "cell_type": "code",
      "source": [
        "type(shap_values[0])"
      ],
      "metadata": {
        "colab": {
          "base_uri": "https://localhost:8080/"
        },
        "id": "eM8brh0aAvkW",
        "outputId": "224cac00-de9c-47cf-b5e5-36c309e5fbb1"
      },
      "execution_count": 20,
      "outputs": [
        {
          "output_type": "execute_result",
          "data": {
            "text/plain": [
              "numpy.ndarray"
            ]
          },
          "metadata": {},
          "execution_count": 20
        }
      ]
    },
    {
      "cell_type": "code",
      "source": [
        "data_df = pd.DataFrame(shap_values[0])"
      ],
      "metadata": {
        "id": "48h2syinBBb8"
      },
      "execution_count": 13,
      "outputs": []
    },
    {
      "cell_type": "code",
      "source": [
        "data_df.head()"
      ],
      "metadata": {
        "colab": {
          "base_uri": "https://localhost:8080/",
          "height": 299
        },
        "id": "GaPyNdSzBLa5",
        "outputId": "4bab1e2f-bb6f-4c3a-daba-0434b0ec0410"
      },
      "execution_count": 14,
      "outputs": [
        {
          "output_type": "execute_result",
          "data": {
            "text/plain": [
              "         0         1         2         3         4         5         6   \\\n",
              "0  0.012537 -0.002192 -0.001952  0.000000 -0.001711  0.001505  0.000000   \n",
              "1  0.000977  0.001162  0.001947  0.000000  0.000000 -0.008805  0.001960   \n",
              "2  0.001329 -0.000765  0.000556 -0.001869 -0.002247  0.001566 -0.001187   \n",
              "3  0.001954  0.001417  0.000000 -0.001036  0.000000  0.001055  0.001067   \n",
              "4 -0.037823  0.000000  0.000000  0.000000  0.000000 -0.006701  0.000000   \n",
              "\n",
              "         7         8         9   ...        66   67        68        69  \\\n",
              "0  0.000000  0.003705  0.000000  ...  0.001721  0.0  0.000000  0.002317   \n",
              "1 -0.003474 -0.010789 -0.001890  ...  0.000000  0.0  0.001372  0.000000   \n",
              "2  0.000640  0.002260  0.000429  ...  0.001153  0.0  0.000000  0.000420   \n",
              "3  0.000932 -0.001585  0.000000  ...  0.000000  0.0  0.000918 -0.001564   \n",
              "4  0.000000 -0.008090  0.000000  ...  0.000000  0.0  0.000000  0.000000   \n",
              "\n",
              "         70        71        72        73        74        75  \n",
              "0  0.001216 -0.001856  0.005987  0.000000  0.002104  0.002518  \n",
              "1  0.001718  0.000000  0.002460 -0.003403  0.003726  0.007902  \n",
              "2 -0.002892  0.000483  0.001800 -0.001698  0.004484  0.007692  \n",
              "3  0.001391  0.000469  0.005257  0.001424  0.005302  0.007083  \n",
              "4  0.000000  0.000000 -0.047501  0.000000 -0.067582 -0.045446  \n",
              "\n",
              "[5 rows x 76 columns]"
            ],
            "text/html": [
              "\n",
              "  <div id=\"df-8224eec0-6ce7-43d6-8ddd-ec5e579e33e2\">\n",
              "    <div class=\"colab-df-container\">\n",
              "      <div>\n",
              "<style scoped>\n",
              "    .dataframe tbody tr th:only-of-type {\n",
              "        vertical-align: middle;\n",
              "    }\n",
              "\n",
              "    .dataframe tbody tr th {\n",
              "        vertical-align: top;\n",
              "    }\n",
              "\n",
              "    .dataframe thead th {\n",
              "        text-align: right;\n",
              "    }\n",
              "</style>\n",
              "<table border=\"1\" class=\"dataframe\">\n",
              "  <thead>\n",
              "    <tr style=\"text-align: right;\">\n",
              "      <th></th>\n",
              "      <th>0</th>\n",
              "      <th>1</th>\n",
              "      <th>2</th>\n",
              "      <th>3</th>\n",
              "      <th>4</th>\n",
              "      <th>5</th>\n",
              "      <th>6</th>\n",
              "      <th>7</th>\n",
              "      <th>8</th>\n",
              "      <th>9</th>\n",
              "      <th>...</th>\n",
              "      <th>66</th>\n",
              "      <th>67</th>\n",
              "      <th>68</th>\n",
              "      <th>69</th>\n",
              "      <th>70</th>\n",
              "      <th>71</th>\n",
              "      <th>72</th>\n",
              "      <th>73</th>\n",
              "      <th>74</th>\n",
              "      <th>75</th>\n",
              "    </tr>\n",
              "  </thead>\n",
              "  <tbody>\n",
              "    <tr>\n",
              "      <th>0</th>\n",
              "      <td>0.012537</td>\n",
              "      <td>-0.002192</td>\n",
              "      <td>-0.001952</td>\n",
              "      <td>0.000000</td>\n",
              "      <td>-0.001711</td>\n",
              "      <td>0.001505</td>\n",
              "      <td>0.000000</td>\n",
              "      <td>0.000000</td>\n",
              "      <td>0.003705</td>\n",
              "      <td>0.000000</td>\n",
              "      <td>...</td>\n",
              "      <td>0.001721</td>\n",
              "      <td>0.0</td>\n",
              "      <td>0.000000</td>\n",
              "      <td>0.002317</td>\n",
              "      <td>0.001216</td>\n",
              "      <td>-0.001856</td>\n",
              "      <td>0.005987</td>\n",
              "      <td>0.000000</td>\n",
              "      <td>0.002104</td>\n",
              "      <td>0.002518</td>\n",
              "    </tr>\n",
              "    <tr>\n",
              "      <th>1</th>\n",
              "      <td>0.000977</td>\n",
              "      <td>0.001162</td>\n",
              "      <td>0.001947</td>\n",
              "      <td>0.000000</td>\n",
              "      <td>0.000000</td>\n",
              "      <td>-0.008805</td>\n",
              "      <td>0.001960</td>\n",
              "      <td>-0.003474</td>\n",
              "      <td>-0.010789</td>\n",
              "      <td>-0.001890</td>\n",
              "      <td>...</td>\n",
              "      <td>0.000000</td>\n",
              "      <td>0.0</td>\n",
              "      <td>0.001372</td>\n",
              "      <td>0.000000</td>\n",
              "      <td>0.001718</td>\n",
              "      <td>0.000000</td>\n",
              "      <td>0.002460</td>\n",
              "      <td>-0.003403</td>\n",
              "      <td>0.003726</td>\n",
              "      <td>0.007902</td>\n",
              "    </tr>\n",
              "    <tr>\n",
              "      <th>2</th>\n",
              "      <td>0.001329</td>\n",
              "      <td>-0.000765</td>\n",
              "      <td>0.000556</td>\n",
              "      <td>-0.001869</td>\n",
              "      <td>-0.002247</td>\n",
              "      <td>0.001566</td>\n",
              "      <td>-0.001187</td>\n",
              "      <td>0.000640</td>\n",
              "      <td>0.002260</td>\n",
              "      <td>0.000429</td>\n",
              "      <td>...</td>\n",
              "      <td>0.001153</td>\n",
              "      <td>0.0</td>\n",
              "      <td>0.000000</td>\n",
              "      <td>0.000420</td>\n",
              "      <td>-0.002892</td>\n",
              "      <td>0.000483</td>\n",
              "      <td>0.001800</td>\n",
              "      <td>-0.001698</td>\n",
              "      <td>0.004484</td>\n",
              "      <td>0.007692</td>\n",
              "    </tr>\n",
              "    <tr>\n",
              "      <th>3</th>\n",
              "      <td>0.001954</td>\n",
              "      <td>0.001417</td>\n",
              "      <td>0.000000</td>\n",
              "      <td>-0.001036</td>\n",
              "      <td>0.000000</td>\n",
              "      <td>0.001055</td>\n",
              "      <td>0.001067</td>\n",
              "      <td>0.000932</td>\n",
              "      <td>-0.001585</td>\n",
              "      <td>0.000000</td>\n",
              "      <td>...</td>\n",
              "      <td>0.000000</td>\n",
              "      <td>0.0</td>\n",
              "      <td>0.000918</td>\n",
              "      <td>-0.001564</td>\n",
              "      <td>0.001391</td>\n",
              "      <td>0.000469</td>\n",
              "      <td>0.005257</td>\n",
              "      <td>0.001424</td>\n",
              "      <td>0.005302</td>\n",
              "      <td>0.007083</td>\n",
              "    </tr>\n",
              "    <tr>\n",
              "      <th>4</th>\n",
              "      <td>-0.037823</td>\n",
              "      <td>0.000000</td>\n",
              "      <td>0.000000</td>\n",
              "      <td>0.000000</td>\n",
              "      <td>0.000000</td>\n",
              "      <td>-0.006701</td>\n",
              "      <td>0.000000</td>\n",
              "      <td>0.000000</td>\n",
              "      <td>-0.008090</td>\n",
              "      <td>0.000000</td>\n",
              "      <td>...</td>\n",
              "      <td>0.000000</td>\n",
              "      <td>0.0</td>\n",
              "      <td>0.000000</td>\n",
              "      <td>0.000000</td>\n",
              "      <td>0.000000</td>\n",
              "      <td>0.000000</td>\n",
              "      <td>-0.047501</td>\n",
              "      <td>0.000000</td>\n",
              "      <td>-0.067582</td>\n",
              "      <td>-0.045446</td>\n",
              "    </tr>\n",
              "  </tbody>\n",
              "</table>\n",
              "<p>5 rows × 76 columns</p>\n",
              "</div>\n",
              "      <button class=\"colab-df-convert\" onclick=\"convertToInteractive('df-8224eec0-6ce7-43d6-8ddd-ec5e579e33e2')\"\n",
              "              title=\"Convert this dataframe to an interactive table.\"\n",
              "              style=\"display:none;\">\n",
              "        \n",
              "  <svg xmlns=\"http://www.w3.org/2000/svg\" height=\"24px\"viewBox=\"0 0 24 24\"\n",
              "       width=\"24px\">\n",
              "    <path d=\"M0 0h24v24H0V0z\" fill=\"none\"/>\n",
              "    <path d=\"M18.56 5.44l.94 2.06.94-2.06 2.06-.94-2.06-.94-.94-2.06-.94 2.06-2.06.94zm-11 1L8.5 8.5l.94-2.06 2.06-.94-2.06-.94L8.5 2.5l-.94 2.06-2.06.94zm10 10l.94 2.06.94-2.06 2.06-.94-2.06-.94-.94-2.06-.94 2.06-2.06.94z\"/><path d=\"M17.41 7.96l-1.37-1.37c-.4-.4-.92-.59-1.43-.59-.52 0-1.04.2-1.43.59L10.3 9.45l-7.72 7.72c-.78.78-.78 2.05 0 2.83L4 21.41c.39.39.9.59 1.41.59.51 0 1.02-.2 1.41-.59l7.78-7.78 2.81-2.81c.8-.78.8-2.07 0-2.86zM5.41 20L4 18.59l7.72-7.72 1.47 1.35L5.41 20z\"/>\n",
              "  </svg>\n",
              "      </button>\n",
              "      \n",
              "  <style>\n",
              "    .colab-df-container {\n",
              "      display:flex;\n",
              "      flex-wrap:wrap;\n",
              "      gap: 12px;\n",
              "    }\n",
              "\n",
              "    .colab-df-convert {\n",
              "      background-color: #E8F0FE;\n",
              "      border: none;\n",
              "      border-radius: 50%;\n",
              "      cursor: pointer;\n",
              "      display: none;\n",
              "      fill: #1967D2;\n",
              "      height: 32px;\n",
              "      padding: 0 0 0 0;\n",
              "      width: 32px;\n",
              "    }\n",
              "\n",
              "    .colab-df-convert:hover {\n",
              "      background-color: #E2EBFA;\n",
              "      box-shadow: 0px 1px 2px rgba(60, 64, 67, 0.3), 0px 1px 3px 1px rgba(60, 64, 67, 0.15);\n",
              "      fill: #174EA6;\n",
              "    }\n",
              "\n",
              "    [theme=dark] .colab-df-convert {\n",
              "      background-color: #3B4455;\n",
              "      fill: #D2E3FC;\n",
              "    }\n",
              "\n",
              "    [theme=dark] .colab-df-convert:hover {\n",
              "      background-color: #434B5C;\n",
              "      box-shadow: 0px 1px 3px 1px rgba(0, 0, 0, 0.15);\n",
              "      filter: drop-shadow(0px 1px 2px rgba(0, 0, 0, 0.3));\n",
              "      fill: #FFFFFF;\n",
              "    }\n",
              "  </style>\n",
              "\n",
              "      <script>\n",
              "        const buttonEl =\n",
              "          document.querySelector('#df-8224eec0-6ce7-43d6-8ddd-ec5e579e33e2 button.colab-df-convert');\n",
              "        buttonEl.style.display =\n",
              "          google.colab.kernel.accessAllowed ? 'block' : 'none';\n",
              "\n",
              "        async function convertToInteractive(key) {\n",
              "          const element = document.querySelector('#df-8224eec0-6ce7-43d6-8ddd-ec5e579e33e2');\n",
              "          const dataTable =\n",
              "            await google.colab.kernel.invokeFunction('convertToInteractive',\n",
              "                                                     [key], {});\n",
              "          if (!dataTable) return;\n",
              "\n",
              "          const docLinkHtml = 'Like what you see? Visit the ' +\n",
              "            '<a target=\"_blank\" href=https://colab.research.google.com/notebooks/data_table.ipynb>data table notebook</a>'\n",
              "            + ' to learn more about interactive tables.';\n",
              "          element.innerHTML = '';\n",
              "          dataTable['output_type'] = 'display_data';\n",
              "          await google.colab.output.renderOutput(dataTable, element);\n",
              "          const docLink = document.createElement('div');\n",
              "          docLink.innerHTML = docLinkHtml;\n",
              "          element.appendChild(docLink);\n",
              "        }\n",
              "      </script>\n",
              "    </div>\n",
              "  </div>\n",
              "  "
            ]
          },
          "metadata": {},
          "execution_count": 14
        }
      ]
    },
    {
      "cell_type": "code",
      "source": [
        "data_df.to_csv('/content/drive/MyDrive/DACN_XAI_Adv_defense/InSDN/MLP_HSJ/1000_samples_[0]_bin.csv', index=False)"
      ],
      "metadata": {
        "id": "mbDTuofCBeGJ"
      },
      "execution_count": 16,
      "outputs": []
    },
    {
      "cell_type": "code",
      "source": [
        "data_df.columns = feature_list\n",
        "data_df.head()"
      ],
      "metadata": {
        "colab": {
          "base_uri": "https://localhost:8080/",
          "height": 351
        },
        "id": "Kh8NM9hmM99Y",
        "outputId": "c00e5090-c847-48c2-8238-41bb371a9cc1"
      },
      "execution_count": 21,
      "outputs": [
        {
          "output_type": "execute_result",
          "data": {
            "text/plain": [
              "   Flow Duration  Tot Fwd Pkts  Tot Bwd Pkts  TotLen Fwd Pkts  \\\n",
              "0       0.012537     -0.002192     -0.001952         0.000000   \n",
              "1       0.000977      0.001162      0.001947         0.000000   \n",
              "2       0.001329     -0.000765      0.000556        -0.001869   \n",
              "3       0.001954      0.001417      0.000000        -0.001036   \n",
              "4      -0.037823      0.000000      0.000000         0.000000   \n",
              "\n",
              "   TotLen Bwd Pkts  Fwd Pkt Len Max  Fwd Pkt Len Min  Fwd Pkt Len Mean  \\\n",
              "0        -0.001711         0.001505         0.000000          0.000000   \n",
              "1         0.000000        -0.008805         0.001960         -0.003474   \n",
              "2        -0.002247         0.001566        -0.001187          0.000640   \n",
              "3         0.000000         0.001055         0.001067          0.000932   \n",
              "4         0.000000        -0.006701         0.000000          0.000000   \n",
              "\n",
              "   Fwd Pkt Len Std  Bwd Pkt Len Max  ...  Fwd Act Data Pkts  Fwd Seg Size Min  \\\n",
              "0         0.003705         0.000000  ...           0.001721               0.0   \n",
              "1        -0.010789        -0.001890  ...           0.000000               0.0   \n",
              "2         0.002260         0.000429  ...           0.001153               0.0   \n",
              "3        -0.001585         0.000000  ...           0.000000               0.0   \n",
              "4        -0.008090         0.000000  ...           0.000000               0.0   \n",
              "\n",
              "   Active Mean  Active Std  Active Max  Active Min  Idle Mean  Idle Std  \\\n",
              "0     0.000000    0.002317    0.001216   -0.001856   0.005987  0.000000   \n",
              "1     0.001372    0.000000    0.001718    0.000000   0.002460 -0.003403   \n",
              "2     0.000000    0.000420   -0.002892    0.000483   0.001800 -0.001698   \n",
              "3     0.000918   -0.001564    0.001391    0.000469   0.005257  0.001424   \n",
              "4     0.000000    0.000000    0.000000    0.000000  -0.047501  0.000000   \n",
              "\n",
              "   Idle Max  Idle Min  \n",
              "0  0.002104  0.002518  \n",
              "1  0.003726  0.007902  \n",
              "2  0.004484  0.007692  \n",
              "3  0.005302  0.007083  \n",
              "4 -0.067582 -0.045446  \n",
              "\n",
              "[5 rows x 76 columns]"
            ],
            "text/html": [
              "\n",
              "  <div id=\"df-09b5470d-39d5-4311-bfe6-8b53e7c36e5a\">\n",
              "    <div class=\"colab-df-container\">\n",
              "      <div>\n",
              "<style scoped>\n",
              "    .dataframe tbody tr th:only-of-type {\n",
              "        vertical-align: middle;\n",
              "    }\n",
              "\n",
              "    .dataframe tbody tr th {\n",
              "        vertical-align: top;\n",
              "    }\n",
              "\n",
              "    .dataframe thead th {\n",
              "        text-align: right;\n",
              "    }\n",
              "</style>\n",
              "<table border=\"1\" class=\"dataframe\">\n",
              "  <thead>\n",
              "    <tr style=\"text-align: right;\">\n",
              "      <th></th>\n",
              "      <th>Flow Duration</th>\n",
              "      <th>Tot Fwd Pkts</th>\n",
              "      <th>Tot Bwd Pkts</th>\n",
              "      <th>TotLen Fwd Pkts</th>\n",
              "      <th>TotLen Bwd Pkts</th>\n",
              "      <th>Fwd Pkt Len Max</th>\n",
              "      <th>Fwd Pkt Len Min</th>\n",
              "      <th>Fwd Pkt Len Mean</th>\n",
              "      <th>Fwd Pkt Len Std</th>\n",
              "      <th>Bwd Pkt Len Max</th>\n",
              "      <th>...</th>\n",
              "      <th>Fwd Act Data Pkts</th>\n",
              "      <th>Fwd Seg Size Min</th>\n",
              "      <th>Active Mean</th>\n",
              "      <th>Active Std</th>\n",
              "      <th>Active Max</th>\n",
              "      <th>Active Min</th>\n",
              "      <th>Idle Mean</th>\n",
              "      <th>Idle Std</th>\n",
              "      <th>Idle Max</th>\n",
              "      <th>Idle Min</th>\n",
              "    </tr>\n",
              "  </thead>\n",
              "  <tbody>\n",
              "    <tr>\n",
              "      <th>0</th>\n",
              "      <td>0.012537</td>\n",
              "      <td>-0.002192</td>\n",
              "      <td>-0.001952</td>\n",
              "      <td>0.000000</td>\n",
              "      <td>-0.001711</td>\n",
              "      <td>0.001505</td>\n",
              "      <td>0.000000</td>\n",
              "      <td>0.000000</td>\n",
              "      <td>0.003705</td>\n",
              "      <td>0.000000</td>\n",
              "      <td>...</td>\n",
              "      <td>0.001721</td>\n",
              "      <td>0.0</td>\n",
              "      <td>0.000000</td>\n",
              "      <td>0.002317</td>\n",
              "      <td>0.001216</td>\n",
              "      <td>-0.001856</td>\n",
              "      <td>0.005987</td>\n",
              "      <td>0.000000</td>\n",
              "      <td>0.002104</td>\n",
              "      <td>0.002518</td>\n",
              "    </tr>\n",
              "    <tr>\n",
              "      <th>1</th>\n",
              "      <td>0.000977</td>\n",
              "      <td>0.001162</td>\n",
              "      <td>0.001947</td>\n",
              "      <td>0.000000</td>\n",
              "      <td>0.000000</td>\n",
              "      <td>-0.008805</td>\n",
              "      <td>0.001960</td>\n",
              "      <td>-0.003474</td>\n",
              "      <td>-0.010789</td>\n",
              "      <td>-0.001890</td>\n",
              "      <td>...</td>\n",
              "      <td>0.000000</td>\n",
              "      <td>0.0</td>\n",
              "      <td>0.001372</td>\n",
              "      <td>0.000000</td>\n",
              "      <td>0.001718</td>\n",
              "      <td>0.000000</td>\n",
              "      <td>0.002460</td>\n",
              "      <td>-0.003403</td>\n",
              "      <td>0.003726</td>\n",
              "      <td>0.007902</td>\n",
              "    </tr>\n",
              "    <tr>\n",
              "      <th>2</th>\n",
              "      <td>0.001329</td>\n",
              "      <td>-0.000765</td>\n",
              "      <td>0.000556</td>\n",
              "      <td>-0.001869</td>\n",
              "      <td>-0.002247</td>\n",
              "      <td>0.001566</td>\n",
              "      <td>-0.001187</td>\n",
              "      <td>0.000640</td>\n",
              "      <td>0.002260</td>\n",
              "      <td>0.000429</td>\n",
              "      <td>...</td>\n",
              "      <td>0.001153</td>\n",
              "      <td>0.0</td>\n",
              "      <td>0.000000</td>\n",
              "      <td>0.000420</td>\n",
              "      <td>-0.002892</td>\n",
              "      <td>0.000483</td>\n",
              "      <td>0.001800</td>\n",
              "      <td>-0.001698</td>\n",
              "      <td>0.004484</td>\n",
              "      <td>0.007692</td>\n",
              "    </tr>\n",
              "    <tr>\n",
              "      <th>3</th>\n",
              "      <td>0.001954</td>\n",
              "      <td>0.001417</td>\n",
              "      <td>0.000000</td>\n",
              "      <td>-0.001036</td>\n",
              "      <td>0.000000</td>\n",
              "      <td>0.001055</td>\n",
              "      <td>0.001067</td>\n",
              "      <td>0.000932</td>\n",
              "      <td>-0.001585</td>\n",
              "      <td>0.000000</td>\n",
              "      <td>...</td>\n",
              "      <td>0.000000</td>\n",
              "      <td>0.0</td>\n",
              "      <td>0.000918</td>\n",
              "      <td>-0.001564</td>\n",
              "      <td>0.001391</td>\n",
              "      <td>0.000469</td>\n",
              "      <td>0.005257</td>\n",
              "      <td>0.001424</td>\n",
              "      <td>0.005302</td>\n",
              "      <td>0.007083</td>\n",
              "    </tr>\n",
              "    <tr>\n",
              "      <th>4</th>\n",
              "      <td>-0.037823</td>\n",
              "      <td>0.000000</td>\n",
              "      <td>0.000000</td>\n",
              "      <td>0.000000</td>\n",
              "      <td>0.000000</td>\n",
              "      <td>-0.006701</td>\n",
              "      <td>0.000000</td>\n",
              "      <td>0.000000</td>\n",
              "      <td>-0.008090</td>\n",
              "      <td>0.000000</td>\n",
              "      <td>...</td>\n",
              "      <td>0.000000</td>\n",
              "      <td>0.0</td>\n",
              "      <td>0.000000</td>\n",
              "      <td>0.000000</td>\n",
              "      <td>0.000000</td>\n",
              "      <td>0.000000</td>\n",
              "      <td>-0.047501</td>\n",
              "      <td>0.000000</td>\n",
              "      <td>-0.067582</td>\n",
              "      <td>-0.045446</td>\n",
              "    </tr>\n",
              "  </tbody>\n",
              "</table>\n",
              "<p>5 rows × 76 columns</p>\n",
              "</div>\n",
              "      <button class=\"colab-df-convert\" onclick=\"convertToInteractive('df-09b5470d-39d5-4311-bfe6-8b53e7c36e5a')\"\n",
              "              title=\"Convert this dataframe to an interactive table.\"\n",
              "              style=\"display:none;\">\n",
              "        \n",
              "  <svg xmlns=\"http://www.w3.org/2000/svg\" height=\"24px\"viewBox=\"0 0 24 24\"\n",
              "       width=\"24px\">\n",
              "    <path d=\"M0 0h24v24H0V0z\" fill=\"none\"/>\n",
              "    <path d=\"M18.56 5.44l.94 2.06.94-2.06 2.06-.94-2.06-.94-.94-2.06-.94 2.06-2.06.94zm-11 1L8.5 8.5l.94-2.06 2.06-.94-2.06-.94L8.5 2.5l-.94 2.06-2.06.94zm10 10l.94 2.06.94-2.06 2.06-.94-2.06-.94-.94-2.06-.94 2.06-2.06.94z\"/><path d=\"M17.41 7.96l-1.37-1.37c-.4-.4-.92-.59-1.43-.59-.52 0-1.04.2-1.43.59L10.3 9.45l-7.72 7.72c-.78.78-.78 2.05 0 2.83L4 21.41c.39.39.9.59 1.41.59.51 0 1.02-.2 1.41-.59l7.78-7.78 2.81-2.81c.8-.78.8-2.07 0-2.86zM5.41 20L4 18.59l7.72-7.72 1.47 1.35L5.41 20z\"/>\n",
              "  </svg>\n",
              "      </button>\n",
              "      \n",
              "  <style>\n",
              "    .colab-df-container {\n",
              "      display:flex;\n",
              "      flex-wrap:wrap;\n",
              "      gap: 12px;\n",
              "    }\n",
              "\n",
              "    .colab-df-convert {\n",
              "      background-color: #E8F0FE;\n",
              "      border: none;\n",
              "      border-radius: 50%;\n",
              "      cursor: pointer;\n",
              "      display: none;\n",
              "      fill: #1967D2;\n",
              "      height: 32px;\n",
              "      padding: 0 0 0 0;\n",
              "      width: 32px;\n",
              "    }\n",
              "\n",
              "    .colab-df-convert:hover {\n",
              "      background-color: #E2EBFA;\n",
              "      box-shadow: 0px 1px 2px rgba(60, 64, 67, 0.3), 0px 1px 3px 1px rgba(60, 64, 67, 0.15);\n",
              "      fill: #174EA6;\n",
              "    }\n",
              "\n",
              "    [theme=dark] .colab-df-convert {\n",
              "      background-color: #3B4455;\n",
              "      fill: #D2E3FC;\n",
              "    }\n",
              "\n",
              "    [theme=dark] .colab-df-convert:hover {\n",
              "      background-color: #434B5C;\n",
              "      box-shadow: 0px 1px 3px 1px rgba(0, 0, 0, 0.15);\n",
              "      filter: drop-shadow(0px 1px 2px rgba(0, 0, 0, 0.3));\n",
              "      fill: #FFFFFF;\n",
              "    }\n",
              "  </style>\n",
              "\n",
              "      <script>\n",
              "        const buttonEl =\n",
              "          document.querySelector('#df-09b5470d-39d5-4311-bfe6-8b53e7c36e5a button.colab-df-convert');\n",
              "        buttonEl.style.display =\n",
              "          google.colab.kernel.accessAllowed ? 'block' : 'none';\n",
              "\n",
              "        async function convertToInteractive(key) {\n",
              "          const element = document.querySelector('#df-09b5470d-39d5-4311-bfe6-8b53e7c36e5a');\n",
              "          const dataTable =\n",
              "            await google.colab.kernel.invokeFunction('convertToInteractive',\n",
              "                                                     [key], {});\n",
              "          if (!dataTable) return;\n",
              "\n",
              "          const docLinkHtml = 'Like what you see? Visit the ' +\n",
              "            '<a target=\"_blank\" href=https://colab.research.google.com/notebooks/data_table.ipynb>data table notebook</a>'\n",
              "            + ' to learn more about interactive tables.';\n",
              "          element.innerHTML = '';\n",
              "          dataTable['output_type'] = 'display_data';\n",
              "          await google.colab.output.renderOutput(dataTable, element);\n",
              "          const docLink = document.createElement('div');\n",
              "          docLink.innerHTML = docLinkHtml;\n",
              "          element.appendChild(docLink);\n",
              "        }\n",
              "      </script>\n",
              "    </div>\n",
              "  </div>\n",
              "  "
            ]
          },
          "metadata": {},
          "execution_count": 21
        }
      ]
    },
    {
      "cell_type": "code",
      "source": [
        "data_dict = {}\n",
        "for idx in range(0, 1000):\n",
        "  # Select the desired row and get the top 10 values's column names\n",
        "  row_values = data_df.iloc[idx].nlargest(10).index.tolist()\n",
        "\n",
        "  # Create a dictionary and add the list with filename as the key\n",
        "  data_dict['Adv sample ' + str(idx)] = row_values"
      ],
      "metadata": {
        "id": "y9KCFvHdP5UO"
      },
      "execution_count": 22,
      "outputs": []
    },
    {
      "cell_type": "code",
      "source": [
        "print(data_dict)"
      ],
      "metadata": {
        "colab": {
          "base_uri": "https://localhost:8080/"
        },
        "id": "SAhM-kXtRLoW",
        "outputId": "37da7d5d-7a63-43ec-e30a-33e60b4e1bd0"
      },
      "execution_count": 23,
      "outputs": [
        {
          "output_type": "stream",
          "name": "stdout",
          "text": [
            "{'Adv sample 0': ['Pkt Len Min', 'Init Bwd Win Byts', 'Down/Up Ratio', 'Flow Duration', 'Bwd Pkt Len Min', 'Flow IAT Max', 'Fwd IAT Max', 'Flow IAT Std', 'Pkt Len Std', 'Pkt Len Max'], 'Adv sample 1': ['SYN Flag Cnt', 'Init Bwd Win Byts', 'Pkt Len Min', 'Idle Min', 'Bwd Pkt Len Min', 'Idle Max', 'Flow IAT Max', 'Fwd IAT Tot', 'Fwd IAT Max', 'Fwd Pkts/s'], 'Adv sample 2': ['SYN Flag Cnt', 'Init Bwd Win Byts', 'Pkt Len Min', 'Bwd Pkt Len Min', 'Idle Min', 'Down/Up Ratio', 'Flow IAT Max', 'Idle Max', 'Pkt Len Std', 'Fwd IAT Tot'], 'Adv sample 3': ['SYN Flag Cnt', 'Init Bwd Win Byts', 'Pkt Len Min', 'Down/Up Ratio', 'Idle Min', 'Bwd Pkt Len Min', 'Idle Max', 'Idle Mean', 'Pkt Len Std', 'Pkt Len Mean'], 'Adv sample 4': ['ACK Flag Cnt', 'Bwd IAT Std', 'Init Bwd Win Byts', 'Bwd IAT Max', 'Bwd IAT Tot', 'Flow IAT Mean', 'Pkt Len Min', 'Fwd IAT Mean', 'Bwd URG Flags', 'Bwd IAT Min'], 'Adv sample 5': ['Bwd Pkts/s', 'Init Bwd Win Byts', 'Pkt Len Min', 'Down/Up Ratio', 'Bwd Pkt Len Min', 'Flow IAT Std', 'Idle Min', 'Pkt Size Avg', 'Idle Max', 'Bwd Header Len'], 'Adv sample 6': ['Init Bwd Win Byts', 'Pkt Len Min', 'Pkt Len Max', 'Pkt Len Mean', 'Pkt Len Std', 'Pkt Size Avg', 'Fwd Pkt Len Mean', 'Fwd Seg Size Avg', 'Fwd Pkt Len Std', 'Fwd IAT Tot'], 'Adv sample 7': ['Pkt Len Min', 'Down/Up Ratio', 'Init Bwd Win Byts', 'Flow Duration', 'Flow IAT Max', 'Bwd Pkt Len Min', 'Bwd Pkts/s', 'Fwd IAT Max', 'Fwd IAT Tot', 'Pkt Size Avg'], 'Adv sample 8': ['FIN Flag Cnt', 'Flow Pkts/s', 'Init Bwd Win Byts', 'Pkt Len Min', 'Down/Up Ratio', 'Bwd Pkts/s', 'Pkt Len Mean', 'Pkt Size Avg', 'Bwd Pkt Len Min', 'Idle Max'], 'Adv sample 9': ['SYN Flag Cnt', 'Init Bwd Win Byts', 'Pkt Len Min', 'Down/Up Ratio', 'FIN Flag Cnt', 'Bwd Pkts/s', 'Bwd Pkt Len Min', 'ACK Flag Cnt', 'Idle Mean', 'Fwd IAT Max'], 'Adv sample 10': ['ACK Flag Cnt', 'Bwd IAT Std', 'Init Bwd Win Byts', 'Bwd IAT Tot', 'Bwd IAT Max', 'Pkt Len Min', 'Bwd IAT Mean', 'Flow IAT Mean', 'Fwd Pkt Len Min', 'Active Min'], 'Adv sample 11': ['Pkt Len Min', 'Down/Up Ratio', 'Init Bwd Win Byts', 'Flow Duration', 'Bwd Pkt Len Min', 'Fwd IAT Max', 'Flow IAT Max', 'Pkt Size Avg', 'Fwd IAT Std', 'Pkt Len Max'], 'Adv sample 12': ['ACK Flag Cnt', 'Bwd IAT Std', 'Init Bwd Win Byts', 'Bwd IAT Tot', 'Bwd IAT Max', 'Bwd Pkt Len Min', 'Fwd IAT Std', 'Flow IAT Mean', 'Pkt Size Avg', 'Pkt Len Min'], 'Adv sample 13': ['Pkt Len Min', 'Init Bwd Win Byts', 'Down/Up Ratio', 'Flow Duration', 'Bwd Pkts/s', 'Flow IAT Max', 'Bwd Pkt Len Min', 'Flow IAT Std', 'Fwd IAT Std', 'Pkt Len Max'], 'Adv sample 14': ['SYN Flag Cnt', 'Init Bwd Win Byts', 'Pkt Len Min', 'Bwd Pkt Len Min', 'Down/Up Ratio', 'Flow IAT Max', 'Idle Min', 'Idle Max', 'Idle Mean', 'Pkt Len Max'], 'Adv sample 15': ['Pkt Len Min', 'Init Bwd Win Byts', 'Bwd Pkts/s', 'Down/Up Ratio', 'Bwd Pkt Len Min', 'FIN Flag Cnt', 'Flow IAT Max', 'Pkt Len Mean', 'Flow IAT Std', 'Flow Duration'], 'Adv sample 16': ['Pkt Len Min', 'Init Bwd Win Byts', 'Down/Up Ratio', 'Flow Duration', 'Bwd Pkts/s', 'Flow IAT Std', 'Fwd IAT Max', 'Pkt Size Avg', 'Bwd Pkt Len Min', 'Pkt Len Std'], 'Adv sample 17': ['SYN Flag Cnt', 'Init Bwd Win Byts', 'Bwd Pkt Len Max', 'Bwd Pkt Len Std', 'Idle Mean', 'Bwd Pkt Len Mean', 'Active Min', 'Fwd IAT Max', 'Bwd Seg Size Avg', 'Pkt Len Min'], 'Adv sample 18': ['FIN Flag Cnt', 'Flow Pkts/s', 'Init Bwd Win Byts', 'Pkt Len Min', 'Down/Up Ratio', 'Bwd Pkts/s', 'Bwd Pkt Len Min', 'Pkt Size Avg', 'Pkt Len Max', 'Pkt Len Std'], 'Adv sample 19': ['Init Bwd Win Byts', 'Pkt Len Min', 'Pkt Len Mean', 'Pkt Len Max', 'Pkt Size Avg', 'Fwd Pkt Len Mean', 'Fwd Seg Size Avg', 'Flow Pkts/s', 'Pkt Len Std', 'Fwd Pkt Len Max'], 'Adv sample 20': ['Bwd Pkts/s', 'Init Bwd Win Byts', 'Pkt Len Min', 'Down/Up Ratio', 'Bwd Pkt Len Min', 'Flow Duration', 'Idle Mean', 'Subflow Bwd Byts', 'Flow IAT Std', 'Idle Min'], 'Adv sample 21': ['SYN Flag Cnt', 'Init Bwd Win Byts', 'Pkt Len Min', 'Idle Mean', 'Idle Max', 'Idle Min', 'ACK Flag Cnt', 'Fwd Pkts/s', 'Fwd IAT Max', 'Tot Bwd Pkts'], 'Adv sample 22': ['Bwd Pkts/s', 'Init Bwd Win Byts', 'Down/Up Ratio', 'Pkt Len Min', 'Bwd Pkt Len Min', 'Pkt Len Mean', 'Fwd Seg Size Avg', 'Flow IAT Std', 'Idle Min', 'Fwd Pkt Len Max'], 'Adv sample 23': ['Pkt Len Min', 'Down/Up Ratio', 'Init Bwd Win Byts', 'Flow Duration', 'Flow IAT Max', 'Flow IAT Std', 'Pkt Len Std', 'Pkt Len Max', 'Bwd Pkt Len Min', 'Fwd Pkt Len Max'], 'Adv sample 24': ['FIN Flag Cnt', 'Flow Pkts/s', 'Init Bwd Win Byts', 'Pkt Len Min', 'Down/Up Ratio', 'Bwd Seg Size Avg', 'Tot Bwd Pkts', 'Bwd URG Flags', 'Fwd Pkts/s', 'Flow Byts/s'], 'Adv sample 25': ['SYN Flag Cnt', 'Init Bwd Win Byts', 'Pkt Len Min', 'FIN Flag Cnt', 'Down/Up Ratio', 'Bwd Pkt Len Min', 'Bwd Pkts/s', 'ACK Flag Cnt', 'Flow IAT Max', 'Pkt Size Avg'], 'Adv sample 26': ['Pkt Len Min', 'Init Bwd Win Byts', 'Down/Up Ratio', 'Flow Duration', 'Bwd Pkts/s', 'Flow IAT Max', 'Fwd IAT Std', 'Bwd Pkt Len Min', 'Flow IAT Std', 'Pkt Len Std'], 'Adv sample 27': ['Bwd Pkts/s', 'Init Bwd Win Byts', 'Pkt Len Min', 'Down/Up Ratio', 'Bwd Pkt Len Min', 'Idle Min', 'Flow Duration', 'Flow IAT Max', 'Active Max', 'Bwd Pkt Len Max'], 'Adv sample 28': ['Init Bwd Win Byts', 'URG Flag Cnt', 'FIN Flag Cnt', 'Bwd PSH Flags', 'Down/Up Ratio', 'Bwd URG Flags', 'Pkt Len Min', 'Idle Max', 'Pkt Len Max', 'Pkt Len Std'], 'Adv sample 29': ['Bwd Pkts/s', 'Init Bwd Win Byts', 'Down/Up Ratio', 'Pkt Len Min', 'Bwd Pkt Len Min', 'Pkt Size Avg', 'Pkt Len Var', 'Fwd Pkt Len Min', 'Tot Fwd Pkts', 'Fwd Pkt Len Max'], 'Adv sample 30': ['Bwd PSH Flags', 'Init Bwd Win Byts', 'Pkt Len Min', 'Down/Up Ratio', 'Pkt Size Avg', 'ACK Flag Cnt', 'Pkt Len Max', 'Pkt Len Std', 'Bwd Seg Size Avg', 'Pkt Len Mean'], 'Adv sample 31': ['Pkt Len Min', 'Init Bwd Win Byts', 'Down/Up Ratio', 'Flow Duration', 'Pkt Len Max', 'Flow IAT Max', 'Bwd Pkt Len Min', 'Flow IAT Std', 'Fwd IAT Max', 'Pkt Len Mean'], 'Adv sample 32': ['SYN Flag Cnt', 'Init Bwd Win Byts', 'Pkt Len Min', 'Idle Min', 'Down/Up Ratio', 'Bwd Pkt Len Min', 'Idle Max', 'Pkt Len Mean', 'Pkt Len Max', 'PSH Flag Cnt'], 'Adv sample 33': ['Pkt Len Min', 'Down/Up Ratio', 'Init Bwd Win Byts', 'Flow IAT Max', 'Flow Duration', 'Fwd IAT Max', 'Bwd Pkt Len Min', 'Fwd IAT Tot', 'Fwd Pkt Len Max', 'Pkt Len Mean'], 'Adv sample 34': ['Pkt Len Min', 'Init Bwd Win Byts', 'Down/Up Ratio', 'Flow Duration', 'Flow IAT Max', 'Bwd Pkts/s', 'Fwd IAT Max', 'Bwd Pkt Len Min', 'Pkt Len Max', 'Fwd IAT Tot'], 'Adv sample 35': ['SYN Flag Cnt', 'Init Bwd Win Byts', 'Idle Max', 'Bwd Pkt Len Mean', 'Flow Duration', 'Tot Fwd Pkts', 'Tot Bwd Pkts', 'TotLen Fwd Pkts', 'TotLen Bwd Pkts', 'Fwd Pkt Len Min'], 'Adv sample 36': ['Bwd Pkts/s', 'Init Bwd Win Byts', 'Pkt Len Min', 'Down/Up Ratio', 'Bwd Pkt Len Min', 'Pkt Size Avg', 'Fwd Act Data Pkts', 'Fwd IAT Max', 'Idle Min', 'Pkt Len Max'], 'Adv sample 37': ['Pkt Len Min', 'Init Bwd Win Byts', 'Down/Up Ratio', 'Flow Duration', 'Bwd Pkts/s', 'Flow IAT Std', 'Flow IAT Max', 'Fwd IAT Max', 'Fwd Pkt Len Max', 'Fwd IAT Tot'], 'Adv sample 38': ['Flow Pkts/s', 'FIN Flag Cnt', 'Init Bwd Win Byts', 'Down/Up Ratio', 'Pkt Len Min', 'Bwd Pkts/s', 'Pkt Len Mean', 'Bwd Pkt Len Min', 'Fwd IAT Tot', 'Idle Std'], 'Adv sample 39': ['Pkt Len Min', 'Init Bwd Win Byts', 'Down/Up Ratio', 'Flow Duration', 'Bwd Pkts/s', 'Bwd Pkt Len Min', 'Flow IAT Max', 'Fwd IAT Max', 'Flow IAT Std', 'Pkt Len Max'], 'Adv sample 40': ['Pkt Len Min', 'Init Bwd Win Byts', 'Down/Up Ratio', 'Flow Duration', 'Flow IAT Max', 'Bwd Pkt Len Min', 'Flow IAT Std', 'Fwd IAT Max', 'Flow Pkts/s', 'Bwd Pkts/s'], 'Adv sample 41': ['Pkt Len Min', 'Init Bwd Win Byts', 'Down/Up Ratio', 'Flow Duration', 'Flow IAT Max', 'Flow IAT Std', 'Bwd Pkt Len Min', 'FIN Flag Cnt', 'Fwd IAT Std', 'Pkt Len Max'], 'Adv sample 42': ['Bwd PSH Flags', 'Init Bwd Win Byts', 'Down/Up Ratio', 'Pkt Len Min', 'Pkt Len Max', 'Pkt Len Mean', 'ACK Flag Cnt', 'Pkt Size Avg', 'Fwd IAT Tot', 'Pkt Len Std'], 'Adv sample 43': ['SYN Flag Cnt', 'Init Bwd Win Byts', 'Bwd IAT Max', 'Idle Std', 'Bwd IAT Std', 'Bwd IAT Tot', 'Flow IAT Mean', 'TotLen Fwd Pkts', 'Active Max', 'Idle Min'], 'Adv sample 44': ['Bwd Pkts/s', 'Init Bwd Win Byts', 'Pkt Len Min', 'Down/Up Ratio', 'Bwd Pkt Len Min', 'Fwd IAT Tot', 'Idle Mean', 'Fwd Pkt Len Min', 'Idle Min', 'Fwd Pkt Len Std'], 'Adv sample 45': ['Pkt Len Min', 'Init Bwd Win Byts', 'Down/Up Ratio', 'Bwd Pkt Len Min', 'Flow Duration', 'Flow IAT Std', 'Pkt Len Max', 'Flow IAT Max', 'Pkt Len Std', 'Fwd Pkt Len Max'], 'Adv sample 46': ['Pkt Len Min', 'Init Bwd Win Byts', 'Down/Up Ratio', 'Flow Duration', 'Flow IAT Max', 'FIN Flag Cnt', 'Flow IAT Std', 'Bwd Pkt Len Min', 'Pkt Len Mean', 'Flow Pkts/s'], 'Adv sample 47': ['Pkt Len Min', 'Init Bwd Win Byts', 'Down/Up Ratio', 'Flow Duration', 'Bwd Pkt Len Min', 'Bwd Pkts/s', 'Pkt Len Mean', 'Fwd IAT Max', 'Flow IAT Max', 'PSH Flag Cnt'], 'Adv sample 48': ['SYN Flag Cnt', 'Init Bwd Win Byts', 'ACK Flag Cnt', 'Idle Max', 'Bwd Pkt Len Max', 'Idle Min', 'Pkt Len Min', 'TotLen Fwd Pkts', 'Bwd IAT Min', 'Subflow Fwd Byts'], 'Adv sample 49': ['Pkt Len Min', 'Down/Up Ratio', 'Init Bwd Win Byts', 'Flow Duration', 'Bwd Pkt Len Min', 'Flow IAT Max', 'Pkt Len Max', 'Pkt Len Std', 'Pkt Len Mean', 'Pkt Size Avg'], 'Adv sample 50': ['Init Bwd Win Byts', 'Pkt Len Min', 'Pkt Len Max', 'Pkt Len Std', 'Pkt Len Mean', 'Pkt Size Avg', 'Fwd Pkt Len Std', 'Fwd Pkt Len Mean', 'Fwd Seg Size Avg', 'Fwd Pkt Len Max'], 'Adv sample 51': ['ACK Flag Cnt', 'Bwd IAT Std', 'Init Bwd Win Byts', 'Bwd IAT Max', 'Bwd IAT Tot', 'Flow IAT Mean', 'Pkt Len Min', 'Bwd Header Len', 'Flow Pkts/s', 'Bwd Pkt Len Min'], 'Adv sample 52': ['Bwd Pkts/s', 'Pkt Len Min', 'Init Bwd Win Byts', 'Down/Up Ratio', 'Bwd Pkt Len Min', 'FIN Flag Cnt', 'Flow Duration', 'Pkt Len Std', 'Idle Min', 'Idle Mean'], 'Adv sample 53': ['SYN Flag Cnt', 'Init Bwd Win Byts', 'Flow IAT Max', 'Bwd Pkt Len Std', 'Idle Max', 'Bwd Pkt Len Max', 'Fwd IAT Min', 'Tot Fwd Pkts', 'Tot Bwd Pkts', 'TotLen Fwd Pkts'], 'Adv sample 54': ['ACK Flag Cnt', 'Bwd IAT Std', 'Init Bwd Win Byts', 'Bwd IAT Tot', 'Bwd IAT Max', 'Flow IAT Mean', 'Bwd Pkt Len Min', 'Pkt Len Min', 'Bwd Seg Size Avg', 'Bwd Pkt Len Std'], 'Adv sample 55': ['Init Bwd Win Byts', 'Pkt Len Mean', 'Pkt Len Std', 'Pkt Len Min', 'Pkt Len Max', 'Flow Pkts/s', 'Pkt Size Avg', 'Fwd Pkt Len Mean', 'Fwd Seg Size Avg', 'Fwd Pkt Len Max'], 'Adv sample 56': ['Pkt Len Min', 'Init Bwd Win Byts', 'Down/Up Ratio', 'Flow Duration', 'Flow IAT Std', 'Flow IAT Max', 'PSH Flag Cnt', 'Bwd Pkt Len Min', 'Bwd Pkts/s', 'FIN Flag Cnt'], 'Adv sample 57': ['Pkt Len Min', 'Init Bwd Win Byts', 'Down/Up Ratio', 'Flow Duration', 'Flow IAT Std', 'Pkt Len Max', 'Bwd Pkt Len Min', 'Flow IAT Max', 'Fwd IAT Max', 'FIN Flag Cnt'], 'Adv sample 58': ['Pkt Len Min', 'Down/Up Ratio', 'Init Bwd Win Byts', 'Flow Duration', 'Flow IAT Max', 'Bwd Pkts/s', 'Flow IAT Std', 'Bwd Pkt Len Min', 'Pkt Len Max', 'Fwd IAT Tot'], 'Adv sample 59': ['FIN Flag Cnt', 'Flow Pkts/s', 'Init Bwd Win Byts', 'Pkt Len Min', 'Bwd Pkts/s', 'Down/Up Ratio', 'Bwd Pkt Len Min', 'Pkt Size Avg', 'Pkt Len Std', 'Pkt Len Mean'], 'Adv sample 60': ['FIN Flag Cnt', 'Flow Pkts/s', 'Init Bwd Win Byts', 'Bwd Pkts/s', 'Pkt Len Min', 'Down/Up Ratio', 'Pkt Len Max', 'Bwd Pkt Len Min', 'Pkt Size Avg', 'Pkt Len Mean'], 'Adv sample 61': ['Init Bwd Win Byts', 'Pkt Len Min', 'Pkt Size Avg', 'Pkt Len Std', 'Pkt Len Mean', 'Pkt Len Max', 'Fwd Seg Size Avg', 'Fwd Pkt Len Std', 'Fwd Pkt Len Max', 'Fwd Pkt Len Mean'], 'Adv sample 62': ['Pkt Len Min', 'Init Bwd Win Byts', 'Down/Up Ratio', 'Bwd Pkt Len Min', 'Flow Duration', 'Pkt Len Mean', 'Pkt Size Avg', 'Fwd IAT Max', 'FIN Flag Cnt', 'Flow IAT Std'], 'Adv sample 63': ['Bwd Pkts/s', 'Init Bwd Win Byts', 'Down/Up Ratio', 'Pkt Len Min', 'Bwd Pkt Len Min', 'Flow IAT Max', 'Flow IAT Std', 'Bwd IAT Min', 'Flow Duration', 'Fwd Pkt Len Max'], 'Adv sample 64': ['Bwd Pkts/s', 'Init Bwd Win Byts', 'Pkt Len Min', 'Down/Up Ratio', 'Bwd Pkt Len Min', 'Bwd IAT Mean', 'FIN Flag Cnt', 'Pkt Len Max', 'Subflow Fwd Byts', 'Fwd Pkt Len Max'], 'Adv sample 65': ['Bwd Pkts/s', 'Init Bwd Win Byts', 'Down/Up Ratio', 'Pkt Len Min', 'Bwd Pkt Len Min', 'URG Flag Cnt', 'Pkt Size Avg', 'FIN Flag Cnt', 'Pkt Len Max', 'Bwd Seg Size Avg'], 'Adv sample 66': ['Init Bwd Win Byts', 'Pkt Len Min', 'Pkt Len Mean', 'Pkt Len Std', 'Pkt Size Avg', 'Pkt Len Max', 'Fwd Seg Size Avg', 'Fwd Pkt Len Max', 'Fwd Pkt Len Mean', 'Flow Duration'], 'Adv sample 67': ['Pkt Len Min', 'Init Bwd Win Byts', 'Down/Up Ratio', 'Flow Duration', 'Flow IAT Std', 'Flow IAT Max', 'Bwd Pkt Len Min', 'Bwd Pkts/s', 'Fwd IAT Max', 'Pkt Len Max'], 'Adv sample 68': ['FIN Flag Cnt', 'Flow Pkts/s', 'Init Bwd Win Byts', 'Bwd Pkts/s', 'Pkt Len Min', 'Down/Up Ratio', 'Pkt Len Max', 'Bwd Pkt Len Min', 'Pkt Len Mean', 'Subflow Fwd Pkts'], 'Adv sample 69': ['SYN Flag Cnt', 'Init Bwd Win Byts', 'ACK Flag Cnt', 'Bwd Seg Size Avg', 'Active Std', 'Fwd IAT Tot', 'Flow Duration', 'Idle Min', 'Bwd Pkt Len Mean', 'PSH Flag Cnt'], 'Adv sample 70': ['SYN Flag Cnt', 'Init Bwd Win Byts', 'Bwd Pkt Len Max', 'Bwd Pkt Len Min', 'Fwd IAT Std', 'Flow IAT Max', 'Idle Max', 'Flow IAT Min', 'Bwd Pkt Len Std', 'Active Std'], 'Adv sample 71': ['Pkt Len Min', 'Init Bwd Win Byts', 'Down/Up Ratio', 'Flow Duration', 'Flow IAT Max', 'Fwd IAT Max', 'Bwd Pkt Len Min', 'Bwd Pkts/s', 'Flow IAT Std', 'Pkt Len Max'], 'Adv sample 72': ['ACK Flag Cnt', 'Bwd IAT Std', 'Bwd IAT Tot', 'Init Bwd Win Byts', 'Flow IAT Mean', 'Down/Up Ratio', 'Bwd IAT Max', 'Pkt Len Min', 'Bwd IAT Mean', 'Subflow Bwd Pkts'], 'Adv sample 73': ['Pkt Len Min', 'Init Bwd Win Byts', 'Down/Up Ratio', 'Flow Duration', 'Bwd Pkt Len Min', 'Flow IAT Std', 'Fwd IAT Tot', 'Pkt Len Mean', 'FIN Flag Cnt', 'Idle Max'], 'Adv sample 74': ['ACK Flag Cnt', 'Bwd IAT Std', 'Init Bwd Win Byts', 'Bwd IAT Tot', 'Bwd IAT Max', 'Pkt Len Min', 'Flow IAT Mean', 'Bwd Pkt Len Min', 'Fwd IAT Std', 'Fwd IAT Mean'], 'Adv sample 75': ['FIN Flag Cnt', 'Flow Pkts/s', 'Init Bwd Win Byts', 'Pkt Len Min', 'Bwd Pkts/s', 'Down/Up Ratio', 'Bwd Pkt Len Min', 'Pkt Size Avg', 'Pkt Len Mean', 'Fwd Pkt Len Mean'], 'Adv sample 76': ['Pkt Len Max', 'Pkt Len Mean', 'Init Bwd Win Byts', 'Pkt Len Min', 'Pkt Len Std', 'Pkt Size Avg', 'Flow Pkts/s', 'Fwd Pkt Len Mean', 'Fwd Pkt Len Std', 'Fwd Pkt Len Max'], 'Adv sample 77': ['SYN Flag Cnt', 'Init Bwd Win Byts', 'Pkt Len Min', 'Idle Max', 'Bwd Pkt Len Min', 'Idle Min', 'Idle Mean', 'Bwd Header Len', 'Flow IAT Max', 'ACK Flag Cnt'], 'Adv sample 78': ['Pkt Len Min', 'Init Bwd Win Byts', 'Down/Up Ratio', 'Flow Duration', 'Flow IAT Max', 'Flow IAT Std', 'Fwd IAT Std', 'Fwd IAT Max', 'Pkt Len Std', 'PSH Flag Cnt'], 'Adv sample 79': ['FIN Flag Cnt', 'Flow Pkts/s', 'Init Bwd Win Byts', 'Down/Up Ratio', 'Pkt Len Min', 'TotLen Bwd Pkts', 'Flow Duration', 'Tot Fwd Pkts', 'Tot Bwd Pkts', 'TotLen Fwd Pkts'], 'Adv sample 80': ['Pkt Len Min', 'Init Bwd Win Byts', 'Down/Up Ratio', 'Flow Duration', 'Flow IAT Std', 'Bwd Pkt Len Min', 'Flow IAT Max', 'Pkt Len Max', 'Fwd IAT Max', 'Pkt Len Std'], 'Adv sample 81': ['ACK Flag Cnt', 'Bwd IAT Std', 'Init Bwd Win Byts', 'Bwd IAT Tot', 'Bwd IAT Max', 'Flow IAT Mean', 'Pkt Len Std', 'Bwd Pkt Len Min', 'Pkt Len Min', 'Bwd Pkt Len Mean'], 'Adv sample 82': ['Pkt Len Min', 'Init Bwd Win Byts', 'Down/Up Ratio', 'Flow Duration', 'Bwd Pkt Len Min', 'Flow IAT Std', 'Flow IAT Max', 'Pkt Len Std', 'Flow Pkts/s', 'Fwd IAT Max'], 'Adv sample 83': ['Pkt Len Min', 'Init Bwd Win Byts', 'Down/Up Ratio', 'Flow Duration', 'Flow IAT Std', 'Flow IAT Max', 'Fwd IAT Max', 'Bwd Pkts/s', 'Bwd Pkt Len Min', 'Pkt Len Std'], 'Adv sample 84': ['Flow Pkts/s', 'FIN Flag Cnt', 'Init Bwd Win Byts', 'Pkt Len Min', 'Bwd Pkts/s', 'Down/Up Ratio', 'Pkt Len Max', 'Active Mean', 'Bwd Pkt Len Min', 'Pkt Len Mean'], 'Adv sample 85': ['Bwd PSH Flags', 'Init Bwd Win Byts', 'Down/Up Ratio', 'Pkt Len Min', 'ACK Flag Cnt', 'Pkt Len Std', 'Pkt Len Max', 'Pkt Size Avg', 'Pkt Len Mean', 'Fwd Pkt Len Std'], 'Adv sample 86': ['Init Bwd Win Byts', 'Pkt Len Min', 'Pkt Size Avg', 'Pkt Len Std', 'Pkt Len Max', 'Pkt Len Mean', 'Fwd Pkt Len Max', 'Flow Pkts/s', 'Fwd Seg Size Avg', 'Fwd IAT Tot'], 'Adv sample 87': ['SYN Flag Cnt', 'Init Bwd Win Byts', 'Pkt Len Min', 'Bwd Pkt Len Min', 'Idle Min', 'Idle Max', 'PSH Flag Cnt', 'ACK Flag Cnt', 'Idle Mean', 'Bwd IAT Min'], 'Adv sample 88': ['Bwd Pkts/s', 'Init Bwd Win Byts', 'Down/Up Ratio', 'Pkt Len Min', 'Bwd Pkt Len Min', 'Flow Duration', 'Idle Min', 'Pkt Len Std', 'Fwd IAT Max', 'Pkt Len Mean'], 'Adv sample 89': ['ACK Flag Cnt', 'Bwd IAT Std', 'Init Bwd Win Byts', 'Bwd IAT Tot', 'Bwd IAT Max', 'Flow IAT Mean', 'Pkt Size Avg', 'Pkt Len Min', 'Bwd Pkt Len Min', 'Fwd Act Data Pkts'], 'Adv sample 90': ['SYN Flag Cnt', 'Init Bwd Win Byts', 'Idle Max', 'Bwd Pkt Len Max', 'Fwd Pkt Len Std', 'Flow IAT Std', 'Idle Std', 'Fwd Pkt Len Min', 'Active Min', 'Idle Min'], 'Adv sample 91': ['Pkt Len Min', 'Init Bwd Win Byts', 'Down/Up Ratio', 'Flow Duration', 'FIN Flag Cnt', 'Flow IAT Std', 'Flow IAT Max', 'Bwd Pkt Len Min', 'Fwd IAT Max', 'Flow Pkts/s'], 'Adv sample 92': ['ACK Flag Cnt', 'Bwd IAT Std', 'Init Bwd Win Byts', 'Bwd IAT Max', 'Bwd IAT Tot', 'Fwd Pkt Len Min', 'Pkt Len Min', 'Flow IAT Min', 'Flow IAT Mean', 'Bwd Pkt Len Mean'], 'Adv sample 93': ['Pkt Len Min', 'Init Bwd Win Byts', 'Down/Up Ratio', 'Flow Duration', 'Bwd Pkts/s', 'Bwd Pkt Len Min', 'Flow IAT Std', 'Pkt Size Avg', 'Pkt Len Max', 'Fwd IAT Max'], 'Adv sample 94': ['SYN Flag Cnt', 'Init Bwd Win Byts', 'Bwd IAT Tot', 'Bwd IAT Mean', 'Bwd IAT Std', 'Idle Mean', 'Flow IAT Max', 'Active Max', 'Flow IAT Mean', 'Bwd Seg Size Avg'], 'Adv sample 95': ['Bwd Pkts/s', 'Init Bwd Win Byts', 'Down/Up Ratio', 'Pkt Len Min', 'Bwd Pkt Len Min', 'Flow Duration', 'Pkt Len Std', 'Idle Max', 'Pkt Size Avg', 'Bwd IAT Min'], 'Adv sample 96': ['Pkt Len Min', 'Init Bwd Win Byts', 'Down/Up Ratio', 'Flow Duration', 'Bwd Pkt Len Min', 'Fwd IAT Max', 'Bwd Pkts/s', 'Flow IAT Max', 'Fwd IAT Tot', 'Flow IAT Std'], 'Adv sample 97': ['Init Bwd Win Byts', 'Pkt Len Min', 'Pkt Size Avg', 'Pkt Len Std', 'Pkt Len Max', 'Pkt Len Mean', 'Fwd Pkt Len Mean', 'Fwd Pkt Len Max', 'Fwd Seg Size Avg', 'Fwd Pkt Len Std'], 'Adv sample 98': ['Pkt Len Min', 'Init Bwd Win Byts', 'Down/Up Ratio', 'Flow Duration', 'Flow IAT Std', 'Bwd Pkts/s', 'Bwd Pkt Len Min', 'Pkt Len Max', 'Pkt Len Mean', 'Flow IAT Max'], 'Adv sample 99': ['Bwd Pkts/s', 'Init Bwd Win Byts', 'Pkt Len Min', 'Down/Up Ratio', 'Bwd Pkt Len Min', 'Flow Duration', 'FIN Flag Cnt', 'Pkt Len Max', 'Flow IAT Max', 'Flow IAT Std'], 'Adv sample 100': ['FIN Flag Cnt', 'Flow Pkts/s', 'Init Bwd Win Byts', 'Bwd Pkts/s', 'Pkt Len Min', 'Down/Up Ratio', 'Pkt Size Avg', 'Pkt Len Max', 'Bwd Pkt Len Min', 'Pkt Len Mean'], 'Adv sample 101': ['Pkt Len Min', 'Init Bwd Win Byts', 'Down/Up Ratio', 'Flow Duration', 'Flow IAT Max', 'Fwd IAT Max', 'Bwd Pkt Len Min', 'Pkt Len Max', 'Pkt Size Avg', 'Bwd Pkts/s'], 'Adv sample 102': ['Init Bwd Win Byts', 'Pkt Len Min', 'Pkt Len Std', 'Pkt Len Mean', 'Pkt Size Avg', 'Pkt Len Max', 'Fwd Seg Size Avg', 'Fwd Pkt Len Max', 'Fwd Pkt Len Mean', 'Fwd IAT Tot'], 'Adv sample 103': ['Bwd Pkts/s', 'Init Bwd Win Byts', 'Pkt Len Min', 'Down/Up Ratio', 'Bwd Pkt Len Min', 'Fwd Seg Size Avg', 'Fwd IAT Std', 'Fwd Header Len', 'Pkt Len Max', 'Flow IAT Max'], 'Adv sample 104': ['SYN Flag Cnt', 'Init Bwd Win Byts', 'ACK Flag Cnt', 'Idle Mean', 'Idle Max', 'Fwd IAT Mean', 'Tot Fwd Pkts', 'Tot Bwd Pkts', 'TotLen Fwd Pkts', 'TotLen Bwd Pkts'], 'Adv sample 105': ['SYN Flag Cnt', 'Init Bwd Win Byts', 'Pkt Len Min', 'Down/Up Ratio', 'FIN Flag Cnt', 'Bwd Pkt Len Min', 'Flow IAT Max', 'Pkt Size Avg', 'Idle Min', 'Flow Duration'], 'Adv sample 106': ['Init Bwd Win Byts', 'Pkt Len Min', 'Pkt Len Mean', 'Pkt Len Max', 'Flow Pkts/s', 'Pkt Len Std', 'Pkt Size Avg', 'Fwd Pkt Len Mean', 'Fwd Pkt Len Max', 'Fwd Seg Size Avg'], 'Adv sample 107': ['Pkt Len Min', 'Down/Up Ratio', 'Init Bwd Win Byts', 'Flow IAT Max', 'Bwd Pkt Len Min', 'Flow Duration', 'Fwd IAT Max', 'Fwd IAT Tot', 'Pkt Len Max', 'Fwd IAT Std'], 'Adv sample 108': ['Init Bwd Win Byts', 'Pkt Len Min', 'Pkt Size Avg', 'Pkt Len Std', 'Pkt Len Max', 'Pkt Len Mean', 'Fwd Seg Size Avg', 'Flow Pkts/s', 'Fwd Pkt Len Max', 'Bwd IAT Min'], 'Adv sample 109': ['Init Bwd Win Byts', 'Pkt Len Min', 'Pkt Len Max', 'Pkt Len Mean', 'Pkt Len Std', 'Pkt Size Avg', 'Fwd Pkt Len Mean', 'Flow Pkts/s', 'Fwd Seg Size Avg', 'Fwd Pkt Len Max'], 'Adv sample 110': ['FIN Flag Cnt', 'Flow Pkts/s', 'Init Bwd Win Byts', 'Pkt Len Min', 'Down/Up Ratio', 'Active Max', 'Bwd Header Len', 'Tot Bwd Pkts', 'Flow IAT Min', 'Bwd Pkt Len Std'], 'Adv sample 111': ['Pkt Len Min', 'Down/Up Ratio', 'Init Bwd Win Byts', 'Bwd Pkt Len Min', 'Flow Duration', 'Flow IAT Max', 'Pkt Len Mean', 'Pkt Len Max', 'Pkt Size Avg', 'Pkt Len Std'], 'Adv sample 112': ['SYN Flag Cnt', 'Init Bwd Win Byts', 'Pkt Len Min', 'Down/Up Ratio', 'Idle Min', 'Bwd Pkt Len Min', 'FIN Flag Cnt', 'Flow IAT Max', 'Fwd Act Data Pkts', 'Flow Duration'], 'Adv sample 113': ['Init Bwd Win Byts', 'Pkt Len Min', 'Pkt Len Max', 'Pkt Size Avg', 'Pkt Len Mean', 'Pkt Len Std', 'Fwd Seg Size Avg', 'Flow Pkts/s', 'Fwd Pkt Len Max', 'Fwd Pkt Len Mean'], 'Adv sample 114': ['Pkt Len Min', 'Down/Up Ratio', 'Init Bwd Win Byts', 'Flow Duration', 'Bwd Pkt Len Min', 'Flow IAT Max', 'Pkt Len Max', 'Fwd IAT Max', 'Pkt Len Std', 'Fwd Pkt Len Mean'], 'Adv sample 115': ['Pkt Len Min', 'Down/Up Ratio', 'Init Bwd Win Byts', 'Flow Duration', 'Bwd Pkt Len Min', 'Flow IAT Max', 'Flow IAT Std', 'Pkt Len Max', 'Flow Pkts/s', 'Pkt Size Avg'], 'Adv sample 116': ['Bwd Pkts/s', 'Init Bwd Win Byts', 'Down/Up Ratio', 'Pkt Len Min', 'Bwd Pkt Len Min', 'Pkt Size Avg', 'Flow Duration', 'Active Min', 'Fwd Pkt Len Mean', 'Idle Min'], 'Adv sample 117': ['Init Bwd Win Byts', 'Pkt Len Min', 'Pkt Len Std', 'Pkt Len Max', 'Pkt Size Avg', 'Pkt Len Mean', 'Fwd Seg Size Avg', 'Flow Pkts/s', 'Fwd Pkt Len Mean', 'Fwd Pkt Len Std'], 'Adv sample 118': ['Pkt Len Min', 'Down/Up Ratio', 'Init Bwd Win Byts', 'Flow Duration', 'Flow IAT Max', 'Bwd Pkt Len Min', 'Pkt Len Max', 'Pkt Size Avg', 'Fwd IAT Max', 'Pkt Len Std'], 'Adv sample 119': ['Bwd Pkts/s', 'Init Bwd Win Byts', 'Down/Up Ratio', 'Pkt Len Min', 'Bwd Pkt Len Min', 'Idle Mean', 'FIN Flag Cnt', 'Pkt Size Avg', 'Idle Min', 'Fwd IAT Tot'], 'Adv sample 120': ['Init Bwd Win Byts', 'Pkt Len Min', 'Pkt Len Max', 'Pkt Len Mean', 'Pkt Len Std', 'Pkt Size Avg', 'Fwd Seg Size Avg', 'Flow Pkts/s', 'Fwd Pkt Len Max', 'Fwd Pkt Len Mean'], 'Adv sample 121': ['ACK Flag Cnt', 'Bwd IAT Std', 'Init Bwd Win Byts', 'Bwd IAT Tot', 'Bwd IAT Max', 'Pkt Len Mean', 'Fwd Pkts/s', 'Tot Fwd Pkts', 'Active Min', 'Flow IAT Mean'], 'Adv sample 122': ['SYN Flag Cnt', 'Init Bwd Win Byts', 'Fwd IAT Tot', 'Idle Mean', 'Subflow Bwd Byts', 'Idle Max', 'Bwd Pkt Len Max', 'Bwd Pkt Len Std', 'Fwd Header Len', 'Flow IAT Std'], 'Adv sample 123': ['SYN Flag Cnt', 'Init Bwd Win Byts', 'Pkt Len Min', 'Bwd IAT Min', 'Bwd Pkt Len Min', 'Idle Min', 'Idle Mean', 'Idle Max', 'TotLen Bwd Pkts', 'Bwd Header Len'], 'Adv sample 124': ['ACK Flag Cnt', 'Bwd IAT Std', 'Init Bwd Win Byts', 'Bwd IAT Max', 'Bwd IAT Tot', 'Flow IAT Mean', 'Pkt Len Std', 'Flow IAT Min', 'Pkt Len Min', 'Fwd Pkt Len Mean'], 'Adv sample 125': ['Bwd Pkts/s', 'Init Bwd Win Byts', 'Pkt Len Min', 'Down/Up Ratio', 'Pkt Len Mean', 'Bwd Pkt Len Min', 'Flow IAT Max', 'Idle Mean', 'Pkt Len Std', 'Flow Duration'], 'Adv sample 126': ['Bwd Pkts/s', 'Init Bwd Win Byts', 'Pkt Len Min', 'Down/Up Ratio', 'Bwd Pkt Len Min', 'Fwd IAT Max', 'Bwd Header Len', 'Fwd IAT Tot', 'Flow IAT Max', 'Pkt Len Std'], 'Adv sample 127': ['Bwd Pkts/s', 'Init Bwd Win Byts', 'Pkt Len Min', 'Down/Up Ratio', 'Bwd Pkt Len Min', 'Flow IAT Max', 'Idle Std', 'Fwd IAT Max', 'TotLen Fwd Pkts', 'Fwd Act Data Pkts'], 'Adv sample 128': ['SYN Flag Cnt', 'Init Bwd Win Byts', 'Pkt Len Min', 'Idle Min', 'Idle Max', 'Bwd Pkt Len Min', 'Subflow Bwd Pkts', 'Flow IAT Max', 'Fwd IAT Tot', 'Active Min'], 'Adv sample 129': ['Pkt Len Min', 'Down/Up Ratio', 'Init Bwd Win Byts', 'Flow IAT Max', 'Bwd Pkt Len Min', 'Flow Duration', 'Fwd IAT Max', 'Pkt Len Max', 'Fwd Pkt Len Max', 'Pkt Size Avg'], 'Adv sample 130': ['Pkt Len Min', 'Init Bwd Win Byts', 'Down/Up Ratio', 'Flow Duration', 'Flow IAT Std', 'Flow IAT Max', 'Bwd Pkt Len Min', 'Fwd IAT Tot', 'FIN Flag Cnt', 'Pkt Len Mean'], 'Adv sample 131': ['Pkt Len Min', 'Init Bwd Win Byts', 'Down/Up Ratio', 'Flow Duration', 'Flow IAT Max', 'Pkt Len Max', 'Bwd Pkts/s', 'Pkt Size Avg', 'Bwd Pkt Len Min', 'Flow IAT Std'], 'Adv sample 132': ['Pkt Len Min', 'Init Bwd Win Byts', 'Down/Up Ratio', 'Flow Duration', 'Bwd Pkt Len Min', 'Flow IAT Max', 'Flow IAT Std', 'Fwd IAT Max', 'FIN Flag Cnt', 'Pkt Size Avg'], 'Adv sample 133': ['Pkt Len Min', 'Down/Up Ratio', 'Init Bwd Win Byts', 'Bwd Pkts/s', 'Flow Duration', 'Bwd Pkt Len Min', 'Flow IAT Std', 'Fwd IAT Max', 'Flow IAT Max', 'Fwd IAT Tot'], 'Adv sample 134': ['SYN Flag Cnt', 'Init Bwd Win Byts', 'ACK Flag Cnt', 'Active Max', 'Idle Mean', 'Bwd Pkt Len Min', 'Idle Max', 'PSH Flag Cnt', 'Active Min', 'Flow Duration'], 'Adv sample 135': ['Pkt Len Min', 'Down/Up Ratio', 'Init Bwd Win Byts', 'Flow Duration', 'Bwd Pkt Len Min', 'Fwd IAT Max', 'Flow IAT Max', 'Fwd IAT Tot', 'Flow Pkts/s', 'Fwd IAT Std'], 'Adv sample 136': ['SYN Flag Cnt', 'Init Bwd Win Byts', 'Pkt Len Min', 'FIN Flag Cnt', 'Down/Up Ratio', 'Bwd Pkt Len Min', 'Flow IAT Max', 'Idle Min', 'Idle Mean', 'Fwd IAT Tot'], 'Adv sample 137': ['Init Bwd Win Byts', 'URG Flag Cnt', 'FIN Flag Cnt', 'Bwd URG Flags', 'Bwd PSH Flags', 'Down/Up Ratio', 'Pkt Len Min', 'Bwd Pkt Len Min', 'Tot Bwd Pkts', 'Pkt Len Mean'], 'Adv sample 138': ['ACK Flag Cnt', 'Bwd IAT Std', 'Init Bwd Win Byts', 'Bwd IAT Tot', 'Bwd IAT Max', 'Pkt Len Min', 'Fwd Pkt Len Max', 'Flow IAT Mean', 'TotLen Bwd Pkts', 'Pkt Len Var'], 'Adv sample 139': ['Pkt Len Min', 'Init Bwd Win Byts', 'Down/Up Ratio', 'Flow Duration', 'Flow IAT Max', 'Bwd Pkt Len Min', 'Flow IAT Std', 'Pkt Len Max', 'Flow Pkts/s', 'Fwd IAT Tot'], 'Adv sample 140': ['FIN Flag Cnt', 'Flow Pkts/s', 'Init Bwd Win Byts', 'Pkt Len Min', 'Bwd Pkt Len Mean', 'Bwd Pkt Len Min', 'Down/Up Ratio', 'TotLen Fwd Pkts', 'Idle Max', 'Bwd Header Len'], 'Adv sample 141': ['SYN Flag Cnt', 'Init Bwd Win Byts', 'Pkt Len Min', 'Down/Up Ratio', 'Bwd Pkt Len Min', 'Idle Min', 'Flow Duration', 'Idle Max', 'Fwd Seg Size Avg', 'Subflow Bwd Byts'], 'Adv sample 142': ['SYN Flag Cnt', 'Init Bwd Win Byts', 'Bwd Pkt Len Mean', 'Pkt Len Min', 'Bwd Pkt Len Max', 'Flow IAT Max', 'PSH Flag Cnt', 'Idle Mean', 'Fwd IAT Mean', 'Tot Bwd Pkts'], 'Adv sample 143': ['Bwd Pkts/s', 'Init Bwd Win Byts', 'Pkt Len Min', 'Down/Up Ratio', 'Bwd Pkt Len Min', 'Fwd Seg Size Avg', 'Idle Mean', 'Idle Max', 'Pkt Size Avg', 'Fwd IAT Tot'], 'Adv sample 144': ['Bwd PSH Flags', 'Init Bwd Win Byts', 'Pkt Len Min', 'ACK Flag Cnt', 'Down/Up Ratio', 'Pkt Len Mean', 'Pkt Len Max', 'Pkt Len Std', 'Pkt Size Avg', 'Bwd Pkt Len Mean'], 'Adv sample 145': ['Init Bwd Win Byts', 'Pkt Len Max', 'Pkt Len Min', 'Pkt Size Avg', 'Pkt Len Std', 'Pkt Len Mean', 'Fwd Pkt Len Max', 'Fwd Seg Size Avg', 'Flow Pkts/s', 'Fwd Pkt Len Mean'], 'Adv sample 146': ['Pkt Len Min', 'Down/Up Ratio', 'Init Bwd Win Byts', 'Flow Duration', 'Flow IAT Max', 'Bwd Pkt Len Min', 'Flow Pkts/s', 'Fwd IAT Max', 'Pkt Len Max', 'Bwd Pkts/s'], 'Adv sample 147': ['SYN Flag Cnt', 'Init Bwd Win Byts', 'ACK Flag Cnt', 'Bwd Pkt Len Std', 'Bwd Pkt Len Max', 'Idle Min', 'Flow Duration', 'Idle Max', 'Subflow Fwd Byts', 'Idle Mean'], 'Adv sample 148': ['SYN Flag Cnt', 'Init Bwd Win Byts', 'Pkt Len Min', 'Down/Up Ratio', 'Idle Min', 'Bwd Pkt Len Min', 'Flow IAT Max', 'FIN Flag Cnt', 'Flow Duration', 'PSH Flag Cnt'], 'Adv sample 149': ['Pkt Len Min', 'Init Bwd Win Byts', 'Down/Up Ratio', 'Flow Duration', 'Flow IAT Std', 'Fwd IAT Max', 'Bwd Pkt Len Min', 'Flow IAT Max', 'PSH Flag Cnt', 'FIN Flag Cnt'], 'Adv sample 150': ['Bwd PSH Flags', 'Init Bwd Win Byts', 'Pkt Len Min', 'Down/Up Ratio', 'ACK Flag Cnt', 'Pkt Len Mean', 'Pkt Len Max', 'Pkt Len Std', 'Pkt Size Avg', 'Fwd Pkt Len Mean'], 'Adv sample 151': ['FIN Flag Cnt', 'Flow Pkts/s', 'Init Bwd Win Byts', 'Pkt Len Min', 'Down/Up Ratio', 'Bwd PSH Flags', 'Fwd IAT Tot', 'Active Max', 'Tot Fwd Pkts', 'Bwd Pkt Len Mean'], 'Adv sample 152': ['SYN Flag Cnt', 'Init Bwd Win Byts', 'Pkt Len Min', 'Down/Up Ratio', 'Idle Min', 'Idle Max', 'Idle Mean', 'Pkt Len Mean', 'Flow IAT Max', 'PSH Flag Cnt'], 'Adv sample 153': ['SYN Flag Cnt', 'Init Bwd Win Byts', 'Idle Max', 'Pkt Len Min', 'Bwd Pkt Len Min', 'Flow IAT Max', 'Idle Min', 'Flow Byts/s', 'Idle Mean', 'Fwd IAT Min'], 'Adv sample 154': ['Bwd Pkts/s', 'Init Bwd Win Byts', 'Down/Up Ratio', 'Pkt Len Min', 'Bwd Pkt Len Min', 'Flow Duration', 'Idle Min', 'Fwd IAT Tot', 'Active Min', 'Idle Max'], 'Adv sample 155': ['SYN Flag Cnt', 'Init Bwd Win Byts', 'Pkt Len Min', 'Bwd Pkt Len Min', 'ACK Flag Cnt', 'Idle Max', 'Idle Min', 'Idle Mean', 'Fwd Pkt Len Min', 'Fwd IAT Min'], 'Adv sample 156': ['ACK Flag Cnt', 'Bwd IAT Std', 'Init Bwd Win Byts', 'Bwd IAT Tot', 'Bwd IAT Max', 'URG Flag Cnt', 'Flow IAT Min', 'Pkt Size Avg', 'Flow IAT Mean', 'Pkt Len Min'], 'Adv sample 157': ['Init Bwd Win Byts', 'Pkt Len Min', 'Pkt Len Std', 'Pkt Len Max', 'Pkt Len Mean', 'Pkt Size Avg', 'Fwd Pkt Len Mean', 'Fwd Pkt Len Max', 'Fwd Seg Size Avg', 'Flow Pkts/s'], 'Adv sample 158': ['SYN Flag Cnt', 'Init Bwd Win Byts', 'Pkt Len Min', 'Down/Up Ratio', 'Bwd Pkt Len Min', 'Idle Min', 'PSH Flag Cnt', 'Idle Max', 'Flow Pkts/s', 'Pkt Len Max'], 'Adv sample 159': ['Pkt Len Min', 'Init Bwd Win Byts', 'Pkt Len Mean', 'Pkt Size Avg', 'Pkt Len Max', 'Flow Pkts/s', 'Pkt Len Std', 'Fwd Pkt Len Mean', 'Fwd Pkt Len Max', 'Fwd Seg Size Avg'], 'Adv sample 160': ['Pkt Len Min', 'Down/Up Ratio', 'Init Bwd Win Byts', 'Bwd Pkt Len Min', 'Flow Duration', 'Flow IAT Max', 'Pkt Len Max', 'Fwd IAT Max', 'Fwd IAT Tot', 'Pkt Size Avg'], 'Adv sample 161': ['Bwd Pkts/s', 'Init Bwd Win Byts', 'Down/Up Ratio', 'Pkt Len Min', 'Bwd Pkt Len Min', 'Idle Max', 'Fwd IAT Max', 'Fwd IAT Tot', 'Idle Min', 'Pkt Size Avg'], 'Adv sample 162': ['Pkt Len Min', 'Down/Up Ratio', 'Init Bwd Win Byts', 'Bwd Pkt Len Min', 'Flow Duration', 'Flow IAT Max', 'Fwd IAT Max', 'Pkt Len Max', 'Fwd IAT Std', 'Flow IAT Std'], 'Adv sample 163': ['Init Bwd Win Byts', 'Pkt Len Min', 'Flow Pkts/s', 'Pkt Len Std', 'Pkt Len Max', 'Pkt Len Mean', 'Pkt Size Avg', 'Fwd Pkt Len Mean', 'Fwd Pkt Len Max', 'PSH Flag Cnt'], 'Adv sample 164': ['Pkt Len Min', 'Init Bwd Win Byts', 'Down/Up Ratio', 'Bwd Pkt Len Min', 'Flow Duration', 'Flow IAT Max', 'Pkt Size Avg', 'Pkt Len Max', 'Fwd IAT Std', 'Fwd Pkt Len Max'], 'Adv sample 165': ['Bwd Pkts/s', 'Init Bwd Win Byts', 'Down/Up Ratio', 'Pkt Len Min', 'Bwd Pkt Len Min', 'Flow Byts/s', 'FIN Flag Cnt', 'Subflow Bwd Pkts', 'Flow IAT Std', 'Idle Min'], 'Adv sample 166': ['Bwd Pkts/s', 'Init Bwd Win Byts', 'Pkt Len Min', 'Down/Up Ratio', 'Bwd Pkt Len Min', 'Fwd Seg Size Avg', 'Subflow Fwd Byts', 'Tot Bwd Pkts', 'Bwd IAT Min', 'Tot Fwd Pkts'], 'Adv sample 167': ['Init Bwd Win Byts', 'Pkt Len Mean', 'Pkt Len Min', 'Pkt Len Std', 'Flow Pkts/s', 'Pkt Size Avg', 'Pkt Len Max', 'Fwd Pkt Len Max', 'Fwd Pkt Len Mean', 'Fwd Seg Size Avg'], 'Adv sample 168': ['FIN Flag Cnt', 'Flow Pkts/s', 'Init Bwd Win Byts', 'Pkt Len Min', 'Bwd Pkts/s', 'Down/Up Ratio', 'Pkt Len Std', 'Pkt Len Max', 'Pkt Size Avg', 'Bwd Pkt Len Min'], 'Adv sample 169': ['Init Bwd Win Byts', 'Pkt Len Min', 'Pkt Size Avg', 'Pkt Len Mean', 'Pkt Len Max', 'Fwd Pkt Len Max', 'Fwd Seg Size Avg', 'Fwd Pkt Len Mean', 'Down/Up Ratio', 'Fwd Pkt Len Std'], 'Adv sample 170': ['Init Bwd Win Byts', 'Pkt Len Max', 'Pkt Len Min', 'Pkt Len Mean', 'Pkt Len Std', 'Pkt Size Avg', 'Flow Pkts/s', 'Fwd Pkt Len Max', 'Fwd Seg Size Avg', 'Fwd Pkt Len Mean'], 'Adv sample 171': ['Init Bwd Win Byts', 'Pkt Len Min', 'Pkt Len Std', 'Pkt Size Avg', 'Pkt Len Max', 'Pkt Len Mean', 'Flow Pkts/s', 'Fwd Pkt Len Mean', 'Fwd Seg Size Avg', 'Down/Up Ratio'], 'Adv sample 172': ['FIN Flag Cnt', 'Flow Pkts/s', 'Init Bwd Win Byts', 'Pkt Len Min', 'Bwd Pkts/s', 'Down/Up Ratio', 'Bwd Pkt Len Min', 'Pkt Size Avg', 'Pkt Len Max', 'Pkt Len Std'], 'Adv sample 173': ['Init Bwd Win Byts', 'Pkt Len Min', 'Pkt Len Max', 'Pkt Len Std', 'Pkt Len Mean', 'Pkt Size Avg', 'Fwd Pkt Len Max', 'Flow Pkts/s', 'Fwd Seg Size Avg', 'Fwd Pkt Len Mean'], 'Adv sample 174': ['Pkt Len Min', 'Init Bwd Win Byts', 'Down/Up Ratio', 'Bwd Pkts/s', 'Flow Duration', 'Flow IAT Max', 'Bwd Pkt Len Min', 'Flow IAT Std', 'Flow Pkts/s', 'Pkt Len Mean'], 'Adv sample 175': ['SYN Flag Cnt', 'Init Bwd Win Byts', 'Pkt Len Min', 'Down/Up Ratio', 'Bwd Pkt Len Min', 'Idle Min', 'Pkt Len Max', 'Flow IAT Max', 'Pkt Len Mean', 'Idle Mean'], 'Adv sample 176': ['Init Bwd Win Byts', 'URG Flag Cnt', 'FIN Flag Cnt', 'Down/Up Ratio', 'Bwd URG Flags', 'Bwd PSH Flags', 'Pkt Len Min', 'Bwd Pkt Len Std', 'Pkt Len Std', 'Fwd Header Len'], 'Adv sample 177': ['SYN Flag Cnt', 'Init Bwd Win Byts', 'Pkt Len Min', 'FIN Flag Cnt', 'Down/Up Ratio', 'Bwd Pkt Len Min', 'Flow IAT Max', 'Flow Duration', 'Idle Mean', 'ACK Flag Cnt'], 'Adv sample 178': ['Bwd Pkts/s', 'Init Bwd Win Byts', 'Pkt Len Min', 'Down/Up Ratio', 'Bwd Pkt Len Min', 'Idle Mean', 'Flow IAT Std', 'Idle Min', 'Fwd IAT Std', 'Fwd IAT Tot'], 'Adv sample 179': ['SYN Flag Cnt', 'Init Bwd Win Byts', 'Pkt Len Min', 'Idle Max', 'Idle Mean', 'Idle Min', 'Bwd Pkt Len Min', 'Active Min', 'Flow IAT Max', 'Bwd IAT Min'], 'Adv sample 180': ['Pkt Len Min', 'Init Bwd Win Byts', 'Down/Up Ratio', 'Flow IAT Std', 'FIN Flag Cnt', 'Bwd Pkt Len Min', 'Flow Duration', 'Flow IAT Max', 'Bwd Pkts/s', 'Pkt Len Mean'], 'Adv sample 181': ['Bwd Pkts/s', 'Init Bwd Win Byts', 'Pkt Len Min', 'Down/Up Ratio', 'Bwd Pkt Len Min', 'Idle Mean', 'Fwd IAT Max', 'Idle Min', 'Fwd Seg Size Avg', 'Fwd IAT Tot'], 'Adv sample 182': ['Bwd Pkts/s', 'Init Bwd Win Byts', 'Pkt Len Min', 'Down/Up Ratio', 'Bwd Pkt Len Min', 'Idle Mean', 'Flow IAT Std', 'Flow IAT Max', 'Pkt Len Mean', 'Idle Min'], 'Adv sample 183': ['ACK Flag Cnt', 'Init Bwd Win Byts', 'Bwd IAT Std', 'Bwd IAT Tot', 'Bwd IAT Max', 'Flow IAT Mean', 'Pkt Len Min', 'Fwd IAT Min', 'Bwd Pkt Len Min', 'Bwd PSH Flags'], 'Adv sample 184': ['Pkt Len Min', 'Down/Up Ratio', 'Init Bwd Win Byts', 'Flow Duration', 'Bwd Pkt Len Min', 'Flow IAT Std', 'Bwd Pkts/s', 'Pkt Len Max', 'Flow IAT Max', 'Fwd IAT Max'], 'Adv sample 185': ['Pkt Len Min', 'Init Bwd Win Byts', 'Down/Up Ratio', 'Flow Duration', 'Bwd Pkt Len Min', 'Flow IAT Max', 'Flow Pkts/s', 'Flow IAT Std', 'FIN Flag Cnt', 'Pkt Size Avg'], 'Adv sample 186': ['Pkt Len Min', 'Init Bwd Win Byts', 'Down/Up Ratio', 'Flow Duration', 'Bwd Pkt Len Min', 'Fwd IAT Max', 'Flow IAT Max', 'Pkt Len Std', 'Flow IAT Std', 'Pkt Len Mean'], 'Adv sample 187': ['Pkt Len Min', 'Init Bwd Win Byts', 'Down/Up Ratio', 'Flow Duration', 'Flow IAT Std', 'Bwd Pkts/s', 'Bwd Pkt Len Min', 'Fwd IAT Max', 'Flow IAT Max', 'Flow Pkts/s'], 'Adv sample 188': ['SYN Flag Cnt', 'Init Bwd Win Byts', 'Pkt Len Min', 'Bwd Pkts/s', 'Down/Up Ratio', 'FIN Flag Cnt', 'Pkt Len Mean', 'Bwd Pkt Len Min', 'Flow IAT Max', 'Idle Mean'], 'Adv sample 189': ['SYN Flag Cnt', 'Init Bwd Win Byts', 'Pkt Len Min', 'Bwd Pkt Len Min', 'FIN Flag Cnt', 'Down/Up Ratio', 'Idle Min', 'Flow IAT Max', 'Idle Max', 'Flow Duration'], 'Adv sample 190': ['Bwd Pkts/s', 'Init Bwd Win Byts', 'Down/Up Ratio', 'Pkt Len Min', 'Bwd Pkt Len Min', 'FIN Flag Cnt', 'Fwd IAT Max', 'Pkt Size Avg', 'Fwd Pkts/s', 'Flow Duration'], 'Adv sample 191': ['ACK Flag Cnt', 'Bwd PSH Flags', 'Init Bwd Win Byts', 'Fwd IAT Min', 'Bwd IAT Std', 'Flow IAT Mean', 'Bwd IAT Mean', 'Bwd IAT Max', 'Idle Min', 'Pkt Len Max'], 'Adv sample 192': ['Bwd Pkts/s', 'Init Bwd Win Byts', 'Pkt Len Min', 'Down/Up Ratio', 'Flow Duration', 'Bwd Pkt Len Min', 'Idle Min', 'Idle Mean', 'FIN Flag Cnt', 'Flow IAT Max'], 'Adv sample 193': ['Pkt Len Min', 'Init Bwd Win Byts', 'Down/Up Ratio', 'Flow Duration', 'Flow IAT Max', 'Bwd Pkt Len Min', 'Flow IAT Std', 'Fwd IAT Max', 'Bwd Pkts/s', 'Fwd IAT Tot'], 'Adv sample 194': ['ACK Flag Cnt', 'Bwd IAT Std', 'Bwd IAT Tot', 'Bwd IAT Max', 'Init Bwd Win Byts', 'Flow IAT Mean', 'Pkt Len Min', 'Fwd IAT Tot', 'Subflow Bwd Pkts', 'Bwd PSH Flags'], 'Adv sample 195': ['Pkt Len Min', 'Init Bwd Win Byts', 'Down/Up Ratio', 'Flow Duration', 'Bwd Pkt Len Min', 'Flow IAT Std', 'Flow IAT Max', 'Bwd Pkts/s', 'Fwd IAT Max', 'Idle Min'], 'Adv sample 196': ['Pkt Len Min', 'Init Bwd Win Byts', 'Down/Up Ratio', 'Flow Duration', 'Flow IAT Std', 'Bwd Pkt Len Min', 'Bwd Pkts/s', 'Fwd IAT Max', 'Flow IAT Max', 'Idle Min'], 'Adv sample 197': ['SYN Flag Cnt', 'Init Bwd Win Byts', 'Pkt Len Min', 'Down/Up Ratio', 'Flow IAT Max', 'FIN Flag Cnt', 'Bwd Pkt Len Min', 'Flow Duration', 'Idle Min', 'Fwd IAT Std'], 'Adv sample 198': ['ACK Flag Cnt', 'Bwd IAT Std', 'Init Bwd Win Byts', 'Bwd IAT Max', 'Bwd IAT Tot', 'Pkt Len Min', 'Fwd Seg Size Avg', 'Bwd Pkt Len Min', 'Flow IAT Mean', 'Pkt Len Mean'], 'Adv sample 199': ['Bwd Pkts/s', 'Init Bwd Win Byts', 'Down/Up Ratio', 'Pkt Len Min', 'Bwd Pkt Len Min', 'Pkt Len Std', 'Bwd Pkt Len Mean', 'Pkt Size Avg', 'Flow IAT Mean', 'Fwd Pkt Len Max'], 'Adv sample 200': ['Bwd Pkts/s', 'Init Bwd Win Byts', 'Pkt Len Min', 'Down/Up Ratio', 'Bwd Pkt Len Min', 'Flow IAT Max', 'Pkt Len Max', 'Pkt Len Mean', 'Pkt Len Std', 'Bwd IAT Min'], 'Adv sample 201': ['Pkt Len Min', 'Init Bwd Win Byts', 'Down/Up Ratio', 'Flow Duration', 'Flow IAT Std', 'Flow IAT Max', 'Pkt Len Max', 'Fwd IAT Max', 'Pkt Len Std', 'Pkt Size Avg'], 'Adv sample 202': ['SYN Flag Cnt', 'Init Bwd Win Byts', 'Pkt Len Min', 'Down/Up Ratio', 'Bwd Pkt Len Min', 'Idle Min', 'Flow IAT Max', 'Fwd IAT Max', 'Pkt Len Mean', 'Idle Max'], 'Adv sample 203': ['FIN Flag Cnt', 'Flow Pkts/s', 'Init Bwd Win Byts', 'Pkt Len Min', 'Bwd Pkts/s', 'Down/Up Ratio', 'Pkt Len Std', 'Bwd IAT Min', 'Pkt Len Mean', 'Pkt Len Max'], 'Adv sample 204': ['Bwd Pkts/s', 'Init Bwd Win Byts', 'Down/Up Ratio', 'Pkt Len Min', 'Bwd Pkt Len Min', 'Flow Duration', 'Fwd IAT Max', 'Flow IAT Max', 'Flow IAT Std', 'Bwd URG Flags'], 'Adv sample 205': ['Pkt Len Min', 'Init Bwd Win Byts', 'Bwd Pkts/s', 'Down/Up Ratio', 'Bwd Pkt Len Min', 'FIN Flag Cnt', 'Flow IAT Std', 'Pkt Len Std', 'Fwd IAT Max', 'Pkt Len Max'], 'Adv sample 206': ['Pkt Len Min', 'Init Bwd Win Byts', 'Down/Up Ratio', 'Flow Duration', 'FIN Flag Cnt', 'Bwd Pkt Len Min', 'Pkt Len Max', 'Flow IAT Std', 'Flow Pkts/s', 'Fwd IAT Std'], 'Adv sample 207': ['SYN Flag Cnt', 'Init Bwd Win Byts', 'Pkt Len Min', 'Bwd Pkt Len Min', 'Idle Min', 'ACK Flag Cnt', 'PSH Flag Cnt', 'Idle Max', 'Bwd IAT Min', 'Tot Bwd Pkts'], 'Adv sample 208': ['Pkt Len Min', 'Init Bwd Win Byts', 'Down/Up Ratio', 'Flow Duration', 'Flow IAT Max', 'Bwd Pkt Len Min', 'Pkt Len Std', 'Bwd Pkts/s', 'Fwd IAT Std', 'Fwd IAT Tot'], 'Adv sample 209': ['SYN Flag Cnt', 'Init Bwd Win Byts', 'Pkt Len Min', 'Bwd Pkt Len Min', 'Idle Mean', 'Idle Min', 'Idle Max', 'Flow IAT Max', 'Fwd IAT Tot', 'Fwd IAT Std'], 'Adv sample 210': ['Bwd Pkts/s', 'Init Bwd Win Byts', 'Down/Up Ratio', 'Pkt Len Min', 'Bwd Pkt Len Min', 'Pkt Size Avg', 'Pkt Len Std', 'Flow IAT Max', 'Fwd Seg Size Avg', 'PSH Flag Cnt'], 'Adv sample 211': ['SYN Flag Cnt', 'Flow IAT Mean', 'Active Min', 'Down/Up Ratio', 'Active Mean', 'Active Max', 'Idle Max', 'Flow IAT Max', 'Bwd Pkt Len Min', 'Idle Std'], 'Adv sample 212': ['Bwd Pkts/s', 'Init Bwd Win Byts', 'Down/Up Ratio', 'Pkt Len Min', 'Bwd Pkt Len Min', 'Flow IAT Max', 'Fwd Pkts/s', 'Fwd IAT Max', 'Fwd IAT Tot', 'Pkt Len Mean'], 'Adv sample 213': ['Bwd Pkts/s', 'Init Bwd Win Byts', 'Pkt Len Min', 'Down/Up Ratio', 'Bwd Pkt Len Min', 'Pkt Len Max', 'Fwd Pkts/s', 'Fwd Header Len', 'Flow IAT Std', 'FIN Flag Cnt'], 'Adv sample 214': ['FIN Flag Cnt', 'Flow Pkts/s', 'Init Bwd Win Byts', 'Pkt Len Min', 'Bwd Pkts/s', 'Down/Up Ratio', 'Pkt Size Avg', 'Bwd Pkt Len Min', 'Pkt Len Max', 'Bwd IAT Min'], 'Adv sample 215': ['SYN Flag Cnt', 'Init Bwd Win Byts', 'Pkt Len Min', 'Down/Up Ratio', 'Bwd Pkt Len Min', 'Idle Max', 'Idle Min', 'Pkt Len Std', 'Flow Duration', 'PSH Flag Cnt'], 'Adv sample 216': ['Pkt Len Min', 'Init Bwd Win Byts', 'Down/Up Ratio', 'Flow Duration', 'Bwd Pkt Len Min', 'Flow IAT Std', 'Flow IAT Max', 'Pkt Size Avg', 'Pkt Len Max', 'Fwd IAT Tot'], 'Adv sample 217': ['Init Bwd Win Byts', 'URG Flag Cnt', 'Down/Up Ratio', 'FIN Flag Cnt', 'Bwd URG Flags', 'Bwd PSH Flags', 'Pkt Len Min', 'Pkt Len Mean', 'Flow Byts/s', 'Fwd Pkt Len Min'], 'Adv sample 218': ['Bwd Pkts/s', 'Init Bwd Win Byts', 'Down/Up Ratio', 'Pkt Len Min', 'Bwd Pkt Len Min', 'Idle Min', 'PSH Flag Cnt', 'Pkt Len Max', 'Idle Mean', 'Pkt Size Avg'], 'Adv sample 219': ['FIN Flag Cnt', 'Flow Pkts/s', 'Init Bwd Win Byts', 'Down/Up Ratio', 'Pkt Len Min', 'Flow Byts/s', 'Bwd Pkt Len Min', 'Flow IAT Std', 'Bwd Seg Size Avg', 'Idle Min'], 'Adv sample 220': ['Pkt Len Min', 'Init Bwd Win Byts', 'Down/Up Ratio', 'Flow Duration', 'Bwd Pkts/s', 'Flow IAT Max', 'Pkt Len Mean', 'Pkt Size Avg', 'Fwd IAT Tot', 'Idle Min'], 'Adv sample 221': ['Pkt Len Min', 'Init Bwd Win Byts', 'Down/Up Ratio', 'Bwd Pkts/s', 'Flow Duration', 'Flow IAT Max', 'Bwd Pkt Len Min', 'Flow IAT Std', 'Pkt Len Max', 'Flow Pkts/s'], 'Adv sample 222': ['Bwd Pkts/s', 'Init Bwd Win Byts', 'Pkt Len Min', 'Down/Up Ratio', 'Bwd Pkt Len Min', 'Pkt Size Avg', 'Pkt Len Max', 'Flow IAT Max', 'Pkt Len Std', 'FIN Flag Cnt'], 'Adv sample 223': ['Bwd Pkts/s', 'Init Bwd Win Byts', 'Pkt Len Min', 'Down/Up Ratio', 'Bwd Pkt Len Min', 'Flow IAT Max', 'Fwd IAT Std', 'PSH Flag Cnt', 'Fwd IAT Max', 'Idle Mean'], 'Adv sample 224': ['SYN Flag Cnt', 'Bwd IAT Std', 'Bwd IAT Max', 'Init Bwd Win Byts', 'Active Min', 'Active Mean', 'Bwd IAT Tot', 'Idle Std', 'Fwd Pkt Len Min', 'Bwd IAT Mean'], 'Adv sample 225': ['SYN Flag Cnt', 'Init Bwd Win Byts', 'Idle Min', 'Bwd Seg Size Avg', 'Bwd Pkt Len Std', 'Idle Mean', 'Bwd Pkt Len Mean', 'Bwd Pkt Len Max', 'Pkt Len Min', 'Flow Duration'], 'Adv sample 226': ['Pkt Len Min', 'Init Bwd Win Byts', 'Down/Up Ratio', 'Flow Duration', 'Flow IAT Std', 'Bwd Pkt Len Min', 'Flow IAT Max', 'Fwd IAT Max', 'Bwd Pkts/s', 'Pkt Len Max'], 'Adv sample 227': ['Pkt Len Min', 'Init Bwd Win Byts', 'Down/Up Ratio', 'Flow Duration', 'Flow IAT Max', 'Bwd Pkt Len Min', 'Pkt Len Max', 'Bwd Pkts/s', 'Pkt Size Avg', 'Fwd IAT Max'], 'Adv sample 228': ['Bwd Pkts/s', 'Init Bwd Win Byts', 'Pkt Len Min', 'Down/Up Ratio', 'Bwd Pkt Len Min', 'Idle Std', 'Idle Min', 'Fwd Header Len', 'Subflow Bwd Byts', 'Idle Max'], 'Adv sample 229': ['Pkt Len Min', 'Init Bwd Win Byts', 'Down/Up Ratio', 'Flow Duration', 'Flow IAT Std', 'PSH Flag Cnt', 'Pkt Len Max', 'FIN Flag Cnt', 'Flow IAT Max', 'Bwd Pkt Len Min'], 'Adv sample 230': ['Pkt Len Min', 'Init Bwd Win Byts', 'Down/Up Ratio', 'Flow Duration', 'Flow IAT Max', 'Bwd Pkt Len Min', 'Flow Pkts/s', 'Pkt Len Max', 'Flow IAT Std', 'FIN Flag Cnt'], 'Adv sample 231': ['ACK Flag Cnt', 'Bwd IAT Std', 'Init Bwd Win Byts', 'Bwd IAT Tot', 'Bwd IAT Max', 'Pkt Len Min', 'Bwd Seg Size Avg', 'Active Std', 'Flow IAT Mean', 'Bwd Pkt Len Min'], 'Adv sample 232': ['Pkt Len Min', 'Init Bwd Win Byts', 'Down/Up Ratio', 'Flow Duration', 'Flow IAT Std', 'Bwd Pkt Len Min', 'Pkt Size Avg', 'Bwd Pkts/s', 'FIN Flag Cnt', 'Idle Min'], 'Adv sample 233': ['Pkt Len Min', 'Init Bwd Win Byts', 'Down/Up Ratio', 'Flow Duration', 'Fwd IAT Max', 'Flow IAT Std', 'Bwd Pkt Len Min', 'Flow Pkts/s', 'FIN Flag Cnt', 'Pkt Len Max'], 'Adv sample 234': ['FIN Flag Cnt', 'Flow Pkts/s', 'Init Bwd Win Byts', 'Pkt Len Min', 'Down/Up Ratio', 'Bwd PSH Flags', 'Bwd Pkt Len Min', 'Bwd Pkt Len Mean', 'Idle Std', 'Active Min'], 'Adv sample 235': ['Bwd Pkts/s', 'Init Bwd Win Byts', 'Down/Up Ratio', 'Pkt Len Min', 'Bwd Pkt Len Min', 'Pkt Len Mean', 'Pkt Len Max', 'Fwd Seg Size Avg', 'PSH Flag Cnt', 'Flow IAT Std'], 'Adv sample 236': ['SYN Flag Cnt', 'Init Bwd Win Byts', 'Pkt Len Min', 'Down/Up Ratio', 'FIN Flag Cnt', 'Idle Min', 'Bwd Pkt Len Min', 'Flow IAT Max', 'Idle Max', 'Pkt Len Max'], 'Adv sample 237': ['Pkt Len Min', 'Init Bwd Win Byts', 'Down/Up Ratio', 'Flow Duration', 'Bwd Pkt Len Min', 'Flow IAT Std', 'Pkt Len Max', 'Fwd IAT Tot', 'Flow IAT Max', 'Fwd Pkt Len Std'], 'Adv sample 238': ['FIN Flag Cnt', 'Flow Pkts/s', 'Init Bwd Win Byts', 'Down/Up Ratio', 'Pkt Len Min', 'Bwd Pkt Len Max', 'Bwd PSH Flags', 'Bwd Pkt Len Mean', 'Subflow Bwd Pkts', 'Bwd Pkt Len Min'], 'Adv sample 239': ['SYN Flag Cnt', 'Init Bwd Win Byts', 'PSH Flag Cnt', 'Idle Min', 'Bwd Pkt Len Std', 'Idle Max', 'Active Max', 'Pkt Len Min', 'Subflow Fwd Pkts', 'Fwd IAT Std'], 'Adv sample 240': ['SYN Flag Cnt', 'Init Bwd Win Byts', 'Idle Min', 'Bwd Pkt Len Max', 'Bwd Seg Size Avg', 'Bwd Pkt Len Mean', 'Flow IAT Max', 'Idle Max', 'PSH Flag Cnt', 'Fwd IAT Tot'], 'Adv sample 241': ['Pkt Len Min', 'Init Bwd Win Byts', 'Down/Up Ratio', 'Flow Duration', 'Bwd Pkts/s', 'Flow IAT Max', 'Fwd IAT Max', 'Bwd Pkt Len Min', 'Pkt Len Mean', 'Pkt Len Max'], 'Adv sample 242': ['SYN Flag Cnt', 'Init Bwd Win Byts', 'Tot Bwd Pkts', 'Idle Max', 'Bwd Pkt Len Std', 'Bwd Pkt Len Max', 'Pkt Len Min', 'Fwd Pkts/s', 'Flow Duration', 'Tot Fwd Pkts'], 'Adv sample 243': ['Bwd Pkts/s', 'Init Bwd Win Byts', 'Pkt Len Min', 'Down/Up Ratio', 'Bwd Pkt Len Min', 'Pkt Size Avg', 'Flow Duration', 'Fwd Pkt Len Min', 'Pkt Len Var', 'Active Std'], 'Adv sample 244': ['Pkt Len Min', 'Init Bwd Win Byts', 'Down/Up Ratio', 'Flow Duration', 'Bwd Pkt Len Min', 'Flow IAT Std', 'FIN Flag Cnt', 'Fwd IAT Max', 'PSH Flag Cnt', 'Flow Pkts/s'], 'Adv sample 245': ['Bwd Pkts/s', 'Init Bwd Win Byts', 'Pkt Len Min', 'Down/Up Ratio', 'Bwd Pkt Len Min', 'Fwd Pkt Len Min', 'PSH Flag Cnt', 'Pkt Size Avg', 'Fwd Act Data Pkts', 'Fwd IAT Std'], 'Adv sample 246': ['Bwd Pkts/s', 'Init Bwd Win Byts', 'Pkt Len Min', 'Down/Up Ratio', 'Bwd Pkt Len Min', 'Idle Min', 'Pkt Len Mean', 'Flow IAT Max', 'Pkt Len Max', 'Pkt Len Std'], 'Adv sample 247': ['Pkt Len Min', 'Init Bwd Win Byts', 'Down/Up Ratio', 'Bwd Pkts/s', 'Flow Duration', 'Bwd Pkt Len Min', 'Flow IAT Max', 'Flow IAT Std', 'Pkt Len Max', 'Fwd IAT Std'], 'Adv sample 248': ['Bwd Pkts/s', 'Init Bwd Win Byts', 'Pkt Len Min', 'Down/Up Ratio', 'Bwd Pkt Len Min', 'Fwd Pkt Len Max', 'FIN Flag Cnt', 'Flow IAT Max', 'Flow Duration', 'Flow IAT Std'], 'Adv sample 249': ['Bwd Pkts/s', 'Init Bwd Win Byts', 'Pkt Len Min', 'Down/Up Ratio', 'Idle Mean', 'Bwd Pkt Len Min', 'Flow Duration', 'Fwd IAT Tot', 'Pkt Len Max', 'Fwd Seg Size Avg'], 'Adv sample 250': ['Pkt Len Min', 'Init Bwd Win Byts', 'Down/Up Ratio', 'Flow Duration', 'Flow IAT Std', 'Bwd Pkts/s', 'Pkt Len Max', 'Bwd Pkt Len Min', 'Flow Pkts/s', 'Pkt Len Std'], 'Adv sample 251': ['SYN Flag Cnt', 'Init Bwd Win Byts', 'Pkt Len Min', 'Down/Up Ratio', 'FIN Flag Cnt', 'Bwd Pkt Len Min', 'ACK Flag Cnt', 'Flow IAT Max', 'Idle Min', 'Fwd IAT Tot'], 'Adv sample 252': ['Bwd PSH Flags', 'Init Bwd Win Byts', 'Pkt Len Min', 'ACK Flag Cnt', 'Down/Up Ratio', 'Pkt Len Max', 'Pkt Len Mean', 'Pkt Len Std', 'Pkt Size Avg', 'Fwd Pkt Len Max'], 'Adv sample 253': ['Init Bwd Win Byts', 'Pkt Len Min', 'Pkt Size Avg', 'Pkt Len Max', 'Pkt Len Std', 'Pkt Len Mean', 'Fwd Pkt Len Max', 'Flow Pkts/s', 'Fwd Seg Size Avg', 'Fwd Pkt Len Std'], 'Adv sample 254': ['Pkt Len Min', 'Down/Up Ratio', 'Init Bwd Win Byts', 'Bwd Pkt Len Min', 'Pkt Len Max', 'Flow Duration', 'Flow IAT Max', 'Fwd Pkt Len Mean', 'Pkt Len Std', 'Fwd IAT Std'], 'Adv sample 255': ['Pkt Len Min', 'Init Bwd Win Byts', 'Down/Up Ratio', 'Flow Duration', 'Flow IAT Max', 'Flow IAT Std', 'Bwd Pkts/s', 'Fwd IAT Max', 'Bwd Pkt Len Min', 'Pkt Size Avg'], 'Adv sample 256': ['Pkt Len Min', 'Init Bwd Win Byts', 'Down/Up Ratio', 'Flow Duration', 'Bwd Pkt Len Min', 'Flow IAT Std', 'Pkt Size Avg', 'Fwd IAT Max', 'FIN Flag Cnt', 'Flow Pkts/s'], 'Adv sample 257': ['ACK Flag Cnt', 'Bwd IAT Std', 'Init Bwd Win Byts', 'Bwd IAT Tot', 'Bwd IAT Max', 'Pkt Len Min', 'Pkt Len Std', 'Flow IAT Mean', 'Bwd Header Len', 'Fwd Act Data Pkts'], 'Adv sample 258': ['Pkt Len Min', 'Init Bwd Win Byts', 'Down/Up Ratio', 'Flow Duration', 'Bwd Pkts/s', 'Flow IAT Std', 'Bwd Pkt Len Min', 'Flow IAT Max', 'Fwd IAT Max', 'Fwd IAT Tot'], 'Adv sample 259': ['ACK Flag Cnt', 'Bwd IAT Std', 'Bwd IAT Max', 'Init Bwd Win Byts', 'Bwd IAT Tot', 'Bwd IAT Mean', 'Flow IAT Mean', 'Down/Up Ratio', 'Pkt Len Min', 'FIN Flag Cnt'], 'Adv sample 260': ['Pkt Len Min', 'Init Bwd Win Byts', 'Down/Up Ratio', 'Flow Duration', 'Bwd Pkt Len Min', 'FIN Flag Cnt', 'Flow IAT Max', 'Flow IAT Std', 'Pkt Len Mean', 'Fwd IAT Max'], 'Adv sample 261': ['Pkt Len Min', 'Init Bwd Win Byts', 'Down/Up Ratio', 'Flow Duration', 'Flow IAT Max', 'Bwd Pkt Len Min', 'Fwd IAT Max', 'Fwd IAT Tot', 'Pkt Len Mean', 'Flow Pkts/s'], 'Adv sample 262': ['FIN Flag Cnt', 'Flow Pkts/s', 'Init Bwd Win Byts', 'Down/Up Ratio', 'Pkt Len Min', 'Active Max', 'Bwd PSH Flags', 'Bwd Pkt Len Max', 'Bwd IAT Min', 'Idle Min'], 'Adv sample 263': ['FIN Flag Cnt', 'Init Bwd Win Byts', 'Flow Pkts/s', 'Down/Up Ratio', 'Pkt Len Min', 'Fwd IAT Mean', 'Pkt Len Mean', 'Tot Fwd Pkts', 'Tot Bwd Pkts', 'TotLen Fwd Pkts'], 'Adv sample 264': ['Bwd PSH Flags', 'Init Bwd Win Byts', 'Pkt Len Min', 'Down/Up Ratio', 'ACK Flag Cnt', 'Pkt Len Max', 'Pkt Size Avg', 'Pkt Len Mean', 'Fwd Seg Size Avg', 'Bwd Pkt Len Mean'], 'Adv sample 265': ['FIN Flag Cnt', 'Flow Pkts/s', 'Init Bwd Win Byts', 'Bwd Pkts/s', 'Pkt Len Min', 'Down/Up Ratio', 'Pkt Size Avg', 'Bwd Pkt Len Min', 'Idle Max', 'Pkt Len Max'], 'Adv sample 266': ['Init Bwd Win Byts', 'Pkt Len Max', 'Pkt Len Min', 'Pkt Len Mean', 'Pkt Len Std', 'Pkt Size Avg', 'Fwd Pkt Len Std', 'Flow Pkts/s', 'Fwd Pkt Len Mean', 'Fwd Seg Size Avg'], 'Adv sample 267': ['SYN Flag Cnt', 'Init Bwd Win Byts', 'ACK Flag Cnt', 'Subflow Bwd Pkts', 'Pkt Len Min', 'Subflow Fwd Pkts', 'Flow Duration', 'TotLen Fwd Pkts', 'TotLen Bwd Pkts', 'Fwd Pkt Len Min'], 'Adv sample 268': ['Pkt Len Min', 'Init Bwd Win Byts', 'Down/Up Ratio', 'Flow Duration', 'Flow IAT Max', 'Bwd Pkt Len Min', 'Pkt Len Mean', 'Pkt Len Max', 'Pkt Size Avg', 'Bwd Pkts/s'], 'Adv sample 269': ['Pkt Len Min', 'Down/Up Ratio', 'Init Bwd Win Byts', 'Bwd Pkt Len Min', 'Flow IAT Max', 'Pkt Size Avg', 'Flow Duration', 'Pkt Len Mean', 'Pkt Len Max', 'Fwd Pkt Len Max'], 'Adv sample 270': ['Init Bwd Win Byts', 'Pkt Len Min', 'Pkt Len Max', 'Pkt Len Mean', 'Pkt Len Std', 'Pkt Size Avg', 'Fwd Pkt Len Mean', 'Flow Pkts/s', 'Fwd Seg Size Avg', 'Fwd Pkt Len Max'], 'Adv sample 271': ['Init Bwd Win Byts', 'URG Flag Cnt', 'FIN Flag Cnt', 'Bwd URG Flags', 'Bwd PSH Flags', 'Down/Up Ratio', 'Pkt Len Min', 'Active Mean', 'Bwd Pkt Len Min', 'Bwd Seg Size Avg'], 'Adv sample 272': ['Pkt Len Min', 'Init Bwd Win Byts', 'Down/Up Ratio', 'Flow Duration', 'Flow IAT Std', 'Pkt Len Max', 'Bwd Pkt Len Min', 'Flow IAT Max', 'Fwd IAT Max', 'Bwd Pkts/s'], 'Adv sample 273': ['FIN Flag Cnt', 'Flow Pkts/s', 'Init Bwd Win Byts', 'Pkt Len Min', 'Down/Up Ratio', 'Bwd Pkts/s', 'Bwd Pkt Len Min', 'Pkt Len Max', 'Pkt Len Mean', 'Pkt Len Std'], 'Adv sample 274': ['Bwd Pkts/s', 'Init Bwd Win Byts', 'Down/Up Ratio', 'Pkt Len Min', 'Bwd Pkt Len Min', 'Idle Mean', 'Pkt Len Std', 'Tot Bwd Pkts', 'Pkt Len Max', 'Fwd IAT Tot'], 'Adv sample 275': ['SYN Flag Cnt', 'Init Bwd Win Byts', 'Bwd Pkt Len Max', 'Bwd Pkt Len Std', 'Idle Max', 'Bwd Pkt Len Mean', 'Bwd Pkt Len Min', 'Flow Duration', 'Tot Fwd Pkts', 'Pkt Len Var'], 'Adv sample 276': ['SYN Flag Cnt', 'Init Bwd Win Byts', 'Pkt Len Min', 'Idle Min', 'Bwd Pkt Len Min', 'Idle Max', 'Idle Mean', 'Bwd Pkt Len Mean', 'Flow IAT Max', 'Tot Bwd Pkts'], 'Adv sample 277': ['Init Bwd Win Byts', 'Pkt Len Min', 'Pkt Len Mean', 'Pkt Size Avg', 'Pkt Len Std', 'Pkt Len Max', 'Flow Pkts/s', 'Fwd Pkt Len Mean', 'Fwd Header Len', 'Fwd IAT Tot'], 'Adv sample 278': ['SYN Flag Cnt', 'Init Bwd Win Byts', 'Pkt Len Min', 'Down/Up Ratio', 'Flow IAT Max', 'Flow Duration', 'PSH Flag Cnt', 'FIN Flag Cnt', 'Idle Min', 'Bwd Pkt Len Min'], 'Adv sample 279': ['Pkt Len Min', 'Init Bwd Win Byts', 'Down/Up Ratio', 'Flow Duration', 'Flow IAT Std', 'Fwd IAT Max', 'Flow IAT Max', 'Bwd Pkt Len Min', 'Idle Mean', 'PSH Flag Cnt'], 'Adv sample 280': ['SYN Flag Cnt', 'Active Min', 'Active Max', 'Active Mean', 'Flow IAT Mean', 'TotLen Bwd Pkts', 'Down/Up Ratio', 'Idle Std', 'Idle Max', 'PSH Flag Cnt'], 'Adv sample 281': ['Pkt Len Min', 'Init Bwd Win Byts', 'Down/Up Ratio', 'Flow Duration', 'Bwd Pkt Len Min', 'Flow IAT Std', 'Flow Pkts/s', 'Flow IAT Max', 'FIN Flag Cnt', 'Pkt Size Avg'], 'Adv sample 282': ['Bwd Pkts/s', 'Init Bwd Win Byts', 'Pkt Len Min', 'Down/Up Ratio', 'Bwd Pkt Len Min', 'Flow Duration', 'Fwd Header Len', 'Idle Mean', 'Fwd IAT Std', 'Bwd IAT Min'], 'Adv sample 283': ['Bwd Pkts/s', 'Init Bwd Win Byts', 'Pkt Len Min', 'Down/Up Ratio', 'Bwd Pkt Len Min', 'Idle Min', 'Flow Duration', 'Flow IAT Max', 'Idle Mean', 'FIN Flag Cnt'], 'Adv sample 284': ['Pkt Len Min', 'Init Bwd Win Byts', 'Down/Up Ratio', 'Flow Duration', 'Bwd Pkts/s', 'Flow IAT Max', 'Flow IAT Std', 'Pkt Len Mean', 'Bwd Pkt Len Min', 'Fwd IAT Max'], 'Adv sample 285': ['Pkt Len Min', 'Init Bwd Win Byts', 'Down/Up Ratio', 'Flow Duration', 'Fwd IAT Max', 'Flow IAT Std', 'FIN Flag Cnt', 'Bwd Pkt Len Min', 'Fwd IAT Tot', 'PSH Flag Cnt'], 'Adv sample 286': ['Pkt Len Min', 'Init Bwd Win Byts', 'Down/Up Ratio', 'Flow IAT Max', 'Flow Duration', 'Bwd Pkt Len Min', 'Flow IAT Std', 'Fwd IAT Max', 'Pkt Size Avg', 'Pkt Len Std'], 'Adv sample 287': ['SYN Flag Cnt', 'Init Bwd Win Byts', 'Pkt Len Min', 'Bwd Pkt Len Min', 'Idle Min', 'Flow IAT Max', 'Bwd IAT Min', 'Active Mean', 'Idle Mean', 'Flow Pkts/s'], 'Adv sample 288': ['Bwd Pkts/s', 'Init Bwd Win Byts', 'Down/Up Ratio', 'Pkt Len Min', 'Bwd Pkt Len Min', 'Pkt Len Max', 'Bwd IAT Min', 'Idle Max', 'Fwd Pkt Len Min', 'Pkt Size Avg'], 'Adv sample 289': ['Init Bwd Win Byts', 'URG Flag Cnt', 'Bwd URG Flags', 'Down/Up Ratio', 'FIN Flag Cnt', 'Bwd PSH Flags', 'Pkt Len Min', 'Flow Byts/s', 'Pkt Len Mean', 'Subflow Fwd Byts'], 'Adv sample 290': ['Pkt Len Min', 'Init Bwd Win Byts', 'Pkt Len Max', 'Pkt Len Mean', 'Flow Pkts/s', 'Pkt Len Std', 'Pkt Size Avg', 'Fwd Pkt Len Mean', 'Fwd Seg Size Avg', 'Fwd Pkt Len Std'], 'Adv sample 291': ['Init Bwd Win Byts', 'Pkt Len Min', 'Pkt Len Max', 'Pkt Size Avg', 'Pkt Len Mean', 'Pkt Len Std', 'Fwd Pkt Len Mean', 'Fwd Seg Size Avg', 'Flow Pkts/s', 'Fwd Pkt Len Max'], 'Adv sample 292': ['SYN Flag Cnt', 'Init Bwd Win Byts', 'Pkt Len Min', 'Idle Min', 'Flow IAT Max', 'Bwd Pkt Len Min', 'Bwd IAT Min', 'Tot Bwd Pkts', 'Idle Mean', 'Idle Max'], 'Adv sample 293': ['SYN Flag Cnt', 'Init Bwd Win Byts', 'ACK Flag Cnt', 'Pkt Len Min', 'Tot Bwd Pkts', 'Subflow Fwd Pkts', 'Bwd Pkt Len Mean', 'Fwd IAT Std', 'Flow IAT Max', 'Flow Duration'], 'Adv sample 294': ['Bwd PSH Flags', 'Init Bwd Win Byts', 'Pkt Len Min', 'Down/Up Ratio', 'ACK Flag Cnt', 'Pkt Len Max', 'Pkt Len Mean', 'Pkt Len Std', 'Pkt Size Avg', 'Bwd IAT Min'], 'Adv sample 295': ['Pkt Len Min', 'Init Bwd Win Byts', 'Down/Up Ratio', 'Flow Duration', 'Bwd Pkts/s', 'Bwd Pkt Len Min', 'Flow Pkts/s', 'Flow IAT Std', 'Fwd IAT Max', 'Flow IAT Max'], 'Adv sample 296': ['Init Bwd Win Byts', 'Pkt Len Min', 'Pkt Len Mean', 'Pkt Len Max', 'Pkt Size Avg', 'Flow Pkts/s', 'Pkt Len Std', 'Fwd Pkt Len Mean', 'Fwd Seg Size Avg', 'Fwd Pkt Len Std'], 'Adv sample 297': ['Pkt Len Min', 'Init Bwd Win Byts', 'Down/Up Ratio', 'Flow Duration', 'Flow IAT Std', 'Pkt Len Max', 'Flow IAT Max', 'Bwd Pkts/s', 'Pkt Len Std', 'Fwd IAT Max'], 'Adv sample 298': ['ACK Flag Cnt', 'Bwd IAT Std', 'Init Bwd Win Byts', 'Bwd IAT Tot', 'Bwd IAT Max', 'Flow IAT Mean', 'Bwd IAT Mean', 'Pkt Len Min', 'Bwd Pkt Len Std', 'URG Flag Cnt'], 'Adv sample 299': ['Pkt Len Min', 'Init Bwd Win Byts', 'Down/Up Ratio', 'Flow Duration', 'Bwd Pkt Len Min', 'Flow IAT Max', 'Flow IAT Std', 'Pkt Len Max', 'Fwd IAT Max', 'Flow Pkts/s'], 'Adv sample 300': ['SYN Flag Cnt', 'Init Bwd Win Byts', 'Pkt Len Min', 'FIN Flag Cnt', 'Down/Up Ratio', 'Idle Min', 'Bwd Pkt Len Min', 'Fwd IAT Max', 'Idle Max', 'Flow Duration'], 'Adv sample 301': ['SYN Flag Cnt', 'Init Bwd Win Byts', 'Pkt Len Min', 'Down/Up Ratio', 'Bwd Pkt Len Min', 'FIN Flag Cnt', 'Pkt Size Avg', 'Flow IAT Max', 'Idle Min', 'Bwd Header Len'], 'Adv sample 302': ['FIN Flag Cnt', 'Flow Pkts/s', 'Init Bwd Win Byts', 'Down/Up Ratio', 'Pkt Len Min', 'Pkt Size Avg', 'PSH Flag Cnt', 'Bwd IAT Mean', 'Bwd Pkt Len Max', 'Active Min'], 'Adv sample 303': ['Pkt Len Mean', 'Init Bwd Win Byts', 'Pkt Len Min', 'Pkt Len Max', 'Pkt Size Avg', 'Pkt Len Std', 'Flow Pkts/s', 'Fwd Seg Size Avg', 'Fwd Pkt Len Mean', 'Fwd Pkt Len Max'], 'Adv sample 304': ['FIN Flag Cnt', 'Flow Pkts/s', 'Init Bwd Win Byts', 'Pkt Len Min', 'Down/Up Ratio', 'Flow IAT Mean', 'Bwd Pkt Len Min', 'Pkt Size Avg', 'Flow Duration', 'Tot Fwd Pkts'], 'Adv sample 305': ['Init Bwd Win Byts', 'Pkt Len Min', 'Pkt Len Max', 'Pkt Len Std', 'Pkt Size Avg', 'Pkt Len Mean', 'Flow Pkts/s', 'Fwd Pkt Len Mean', 'Fwd Seg Size Avg', 'Fwd Pkt Len Std'], 'Adv sample 306': ['Init Bwd Win Byts', 'Pkt Len Min', 'Pkt Size Avg', 'Pkt Len Std', 'Pkt Len Mean', 'Pkt Len Max', 'Fwd Seg Size Avg', 'Fwd Pkt Len Mean', 'Fwd Pkt Len Max', 'Fwd IAT Std'], 'Adv sample 307': ['Pkt Len Min', 'Init Bwd Win Byts', 'Down/Up Ratio', 'Flow Duration', 'Bwd Pkt Len Min', 'Flow IAT Max', 'Fwd IAT Max', 'Bwd Pkts/s', 'Pkt Len Max', 'Pkt Len Std'], 'Adv sample 308': ['Bwd Pkts/s', 'Init Bwd Win Byts', 'Pkt Len Min', 'Down/Up Ratio', 'Bwd Pkt Len Min', 'Flow IAT Max', 'Pkt Len Mean', 'Flow Duration', 'Pkt Len Max', 'Bwd IAT Mean'], 'Adv sample 309': ['Pkt Len Min', 'Down/Up Ratio', 'Init Bwd Win Byts', 'Bwd Pkt Len Min', 'Flow Duration', 'Pkt Len Max', 'Fwd IAT Tot', 'Flow IAT Max', 'Fwd Pkt Len Max', 'Pkt Len Std'], 'Adv sample 310': ['Pkt Len Min', 'Init Bwd Win Byts', 'Down/Up Ratio', 'Flow Duration', 'Flow IAT Std', 'Flow IAT Max', 'Pkt Len Mean', 'Pkt Len Max', 'Fwd IAT Max', 'Bwd Pkt Len Min'], 'Adv sample 311': ['SYN Flag Cnt', 'Init Bwd Win Byts', 'Idle Min', 'Flow Duration', 'Tot Fwd Pkts', 'Tot Bwd Pkts', 'TotLen Fwd Pkts', 'Fwd Pkt Len Min', 'Bwd Pkt Len Max', 'Bwd Pkt Len Min'], 'Adv sample 312': ['Pkt Len Min', 'Init Bwd Win Byts', 'Down/Up Ratio', 'Flow Duration', 'Bwd Pkt Len Min', 'Flow IAT Std', 'Flow IAT Max', 'FIN Flag Cnt', 'Bwd Pkts/s', 'Pkt Len Max'], 'Adv sample 313': ['SYN Flag Cnt', 'Init Bwd Win Byts', 'ACK Flag Cnt', 'Idle Mean', 'Bwd Pkt Len Std', 'Tot Fwd Pkts', 'Flow IAT Max', 'Fwd IAT Tot', 'Subflow Fwd Byts', 'URG Flag Cnt'], 'Adv sample 314': ['FIN Flag Cnt', 'Flow Pkts/s', 'Init Bwd Win Byts', 'Bwd Pkts/s', 'Pkt Len Min', 'Down/Up Ratio', 'Pkt Len Std', 'Bwd Pkt Len Min', 'Subflow Bwd Pkts', 'Pkt Len Max'], 'Adv sample 315': ['SYN Flag Cnt', 'Init Bwd Win Byts', 'Pkt Len Min', 'Idle Min', 'FIN Flag Cnt', 'Down/Up Ratio', 'Flow IAT Max', 'Flow Duration', 'Pkt Len Mean', 'Bwd Pkt Len Min'], 'Adv sample 316': ['ACK Flag Cnt', 'Bwd IAT Std', 'Init Bwd Win Byts', 'Bwd IAT Tot', 'Bwd IAT Max', 'Flow IAT Mean', 'Bwd Pkt Len Min', 'Pkt Len Min', 'Fwd IAT Tot', 'Fwd IAT Min'], 'Adv sample 317': ['Pkt Len Min', 'Init Bwd Win Byts', 'Down/Up Ratio', 'Flow Duration', 'Bwd Pkts/s', 'Bwd Pkt Len Min', 'Pkt Len Std', 'FIN Flag Cnt', 'Flow IAT Std', 'Fwd IAT Max'], 'Adv sample 318': ['Pkt Len Min', 'Init Bwd Win Byts', 'Down/Up Ratio', 'Flow Duration', 'Bwd Pkts/s', 'PSH Flag Cnt', 'Bwd Pkt Len Min', 'Flow IAT Std', 'Fwd IAT Max', 'Pkt Len Max'], 'Adv sample 319': ['Pkt Len Min', 'Init Bwd Win Byts', 'Down/Up Ratio', 'Flow Duration', 'Pkt Size Avg', 'Flow IAT Max', 'Flow IAT Std', 'Fwd IAT Max', 'Bwd Pkt Len Min', 'Pkt Len Mean'], 'Adv sample 320': ['Pkt Len Min', 'Init Bwd Win Byts', 'Down/Up Ratio', 'Flow Duration', 'Bwd Pkt Len Min', 'Flow IAT Max', 'Fwd IAT Max', 'Flow IAT Std', 'Pkt Len Max', 'Flow Pkts/s'], 'Adv sample 321': ['Pkt Len Min', 'Init Bwd Win Byts', 'Down/Up Ratio', 'Flow Duration', 'Bwd Pkts/s', 'Flow IAT Max', 'Fwd IAT Max', 'Bwd Pkt Len Min', 'Flow IAT Std', 'Pkt Size Avg'], 'Adv sample 322': ['Pkt Len Min', 'Init Bwd Win Byts', 'Down/Up Ratio', 'Bwd Pkts/s', 'Flow Duration', 'Flow IAT Max', 'Pkt Len Max', 'Bwd Pkt Len Min', 'Fwd IAT Max', 'Pkt Size Avg'], 'Adv sample 323': ['Pkt Len Min', 'Init Bwd Win Byts', 'Down/Up Ratio', 'Bwd Pkts/s', 'Flow Duration', 'Pkt Len Max', 'Flow IAT Std', 'Fwd IAT Max', 'Bwd Pkt Len Min', 'Flow IAT Max'], 'Adv sample 324': ['Pkt Len Min', 'Down/Up Ratio', 'Init Bwd Win Byts', 'Flow Duration', 'Flow IAT Max', 'Bwd Pkt Len Min', 'Pkt Len Std', 'Fwd IAT Max', 'Flow Pkts/s', 'Fwd IAT Std'], 'Adv sample 325': ['Init Bwd Win Byts', 'Pkt Len Min', 'Pkt Len Mean', 'Pkt Len Std', 'Pkt Size Avg', 'Pkt Len Max', 'Fwd Seg Size Avg', 'Flow Pkts/s', 'Fwd Pkt Len Mean', 'Fwd Pkt Len Max'], 'Adv sample 326': ['FIN Flag Cnt', 'Init Bwd Win Byts', 'Flow Pkts/s', 'Bwd Pkts/s', 'Down/Up Ratio', 'Pkt Len Min', 'Bwd Pkt Len Min', 'Pkt Len Std', 'Pkt Len Max', 'Pkt Len Mean'], 'Adv sample 327': ['Pkt Len Min', 'Init Bwd Win Byts', 'Down/Up Ratio', 'Flow Duration', 'Flow IAT Max', 'Flow IAT Std', 'Bwd Pkt Len Min', 'Pkt Len Std', 'Pkt Len Mean', 'Pkt Len Max'], 'Adv sample 328': ['SYN Flag Cnt', 'Init Bwd Win Byts', 'Pkt Len Min', 'FIN Flag Cnt', 'Down/Up Ratio', 'Bwd Pkt Len Min', 'Flow IAT Max', 'ACK Flag Cnt', 'TotLen Bwd Pkts', 'Fwd IAT Min'], 'Adv sample 329': ['Bwd Pkts/s', 'Init Bwd Win Byts', 'Pkt Len Min', 'Down/Up Ratio', 'Bwd Pkt Len Min', 'Idle Min', 'Fwd IAT Max', 'Bwd IAT Min', 'Pkt Len Mean', 'Fwd Pkt Len Max'], 'Adv sample 330': ['SYN Flag Cnt', 'Init Bwd Win Byts', 'Pkt Len Min', 'Bwd Pkt Len Min', 'Idle Min', 'Idle Max', 'Active Min', 'Flow Duration', 'Bwd Pkt Len Std', 'ACK Flag Cnt'], 'Adv sample 331': ['SYN Flag Cnt', 'Init Bwd Win Byts', 'Pkt Len Min', 'Bwd Pkt Len Min', 'Idle Max', 'Idle Mean', 'Idle Min', 'Flow IAT Max', 'Fwd Act Data Pkts', 'ACK Flag Cnt'], 'Adv sample 332': ['ACK Flag Cnt', 'Bwd IAT Std', 'Init Bwd Win Byts', 'Bwd IAT Max', 'Bwd IAT Tot', 'Bwd IAT Mean', 'PSH Flag Cnt', 'Fwd IAT Tot', 'Flow Byts/s', 'Bwd Pkt Len Max'], 'Adv sample 333': ['SYN Flag Cnt', 'Init Bwd Win Byts', 'Bwd Pkt Len Min', 'Pkt Len Min', 'Idle Mean', 'Idle Min', 'Idle Max', 'Flow Duration', 'Bwd Pkt Len Max', 'Fwd Pkts/s'], 'Adv sample 334': ['SYN Flag Cnt', 'Init Bwd Win Byts', 'Pkt Len Min', 'Bwd Pkt Len Min', 'Idle Max', 'Down/Up Ratio', 'Idle Min', 'Pkt Len Max', 'Idle Mean', 'Fwd IAT Mean'], 'Adv sample 335': ['Pkt Len Min', 'Init Bwd Win Byts', 'Down/Up Ratio', 'Flow Duration', 'Fwd IAT Max', 'Flow IAT Max', 'Bwd Pkt Len Min', 'Pkt Len Std', 'Pkt Len Mean', 'Pkt Len Max'], 'Adv sample 336': ['ACK Flag Cnt', 'Bwd IAT Std', 'Bwd IAT Tot', 'Bwd IAT Max', 'Init Bwd Win Byts', 'Flow IAT Mean', 'Bwd IAT Mean', 'TotLen Bwd Pkts', 'Bwd URG Flags', 'Pkt Len Min'], 'Adv sample 337': ['ACK Flag Cnt', 'Bwd IAT Std', 'Init Bwd Win Byts', 'Bwd IAT Max', 'Bwd IAT Tot', 'Pkt Len Min', 'Flow IAT Mean', 'Pkt Size Avg', 'Bwd IAT Mean', 'Bwd Pkt Len Min'], 'Adv sample 338': ['Pkt Len Min', 'Init Bwd Win Byts', 'Down/Up Ratio', 'Flow Duration', 'Bwd Pkts/s', 'Flow IAT Max', 'Flow IAT Std', 'Fwd IAT Std', 'Fwd IAT Max', 'Fwd IAT Tot'], 'Adv sample 339': ['Pkt Len Min', 'Init Bwd Win Byts', 'Down/Up Ratio', 'Flow Duration', 'Flow IAT Max', 'Fwd IAT Max', 'Fwd IAT Tot', 'Pkt Size Avg', 'Pkt Len Std', 'Bwd Pkt Len Min'], 'Adv sample 340': ['SYN Flag Cnt', 'Init Bwd Win Byts', 'Pkt Len Min', 'Bwd Pkt Len Min', 'ACK Flag Cnt', 'PSH Flag Cnt', 'Idle Mean', 'Idle Max', 'Idle Min', 'Tot Bwd Pkts'], 'Adv sample 341': ['Init Bwd Win Byts', 'Pkt Len Min', 'Flow Pkts/s', 'Pkt Len Mean', 'Pkt Len Max', 'Pkt Len Std', 'Pkt Size Avg', 'Fwd Seg Size Avg', 'Fwd Pkt Len Mean', 'Fwd Pkt Len Max'], 'Adv sample 342': ['Init Bwd Win Byts', 'Pkt Len Min', 'Pkt Len Std', 'Pkt Size Avg', 'Pkt Len Mean', 'Pkt Len Max', 'Flow Pkts/s', 'Fwd Pkt Len Mean', 'Fwd Seg Size Avg', 'Fwd Pkt Len Std'], 'Adv sample 343': ['Pkt Len Min', 'Init Bwd Win Byts', 'Down/Up Ratio', 'Flow Duration', 'FIN Flag Cnt', 'Bwd Pkt Len Min', 'Flow IAT Max', 'Flow IAT Std', 'Pkt Len Max', 'Fwd IAT Tot'], 'Adv sample 344': ['Pkt Len Min', 'Init Bwd Win Byts', 'Down/Up Ratio', 'Flow Duration', 'Bwd Pkts/s', 'Flow IAT Max', 'Flow IAT Std', 'Fwd IAT Std', 'Pkt Len Max', 'Pkt Len Std'], 'Adv sample 345': ['Pkt Len Min', 'Init Bwd Win Byts', 'Down/Up Ratio', 'Flow Duration', 'FIN Flag Cnt', 'Flow IAT Std', 'Pkt Len Max', 'Fwd IAT Max', 'Flow IAT Max', 'Bwd Pkt Len Min'], 'Adv sample 346': ['SYN Flag Cnt', 'Init Bwd Win Byts', 'Pkt Len Min', 'Bwd Pkt Len Min', 'Down/Up Ratio', 'Flow Duration', 'Idle Max', 'Flow IAT Max', 'Pkt Size Avg', 'Idle Min'], 'Adv sample 347': ['Bwd PSH Flags', 'Init Bwd Win Byts', 'Pkt Len Min', 'Bwd Pkt Len Min', 'Pkt Len Max', 'Fwd Pkt Len Mean', 'Idle Max', 'Fwd Pkt Len Max', 'Fwd Pkt Len Std', 'Flow Duration'], 'Adv sample 348': ['Pkt Len Min', 'Init Bwd Win Byts', 'Down/Up Ratio', 'Flow Duration', 'Flow IAT Max', 'FIN Flag Cnt', 'Pkt Size Avg', 'Bwd Pkt Len Min', 'Pkt Len Max', 'Fwd Pkt Len Max'], 'Adv sample 349': ['Bwd Pkts/s', 'Init Bwd Win Byts', 'Pkt Len Min', 'Down/Up Ratio', 'Bwd Pkt Len Min', 'Fwd Pkt Len Min', 'Pkt Size Avg', 'Bwd IAT Min', 'Fwd IAT Tot', 'Fwd Seg Size Avg'], 'Adv sample 350': ['Bwd Pkts/s', 'Init Bwd Win Byts', 'Pkt Len Min', 'Down/Up Ratio', 'Bwd Pkt Len Min', 'Pkt Len Std', 'FIN Flag Cnt', 'Flow Duration', 'Flow IAT Max', 'Fwd IAT Tot'], 'Adv sample 351': ['SYN Flag Cnt', 'Init Bwd Win Byts', 'Idle Min', 'Idle Mean', 'Bwd Pkt Len Max', 'Fwd IAT Max', 'Fwd Seg Size Avg', 'Bwd Seg Size Avg', 'Fwd IAT Mean', 'Fwd Pkt Len Min'], 'Adv sample 352': ['SYN Flag Cnt', 'Init Bwd Win Byts', 'Pkt Len Min', 'Idle Min', 'Down/Up Ratio', 'Bwd Pkt Len Min', 'Flow Duration', 'Flow IAT Max', 'Idle Max', 'Idle Mean'], 'Adv sample 353': ['ACK Flag Cnt', 'Bwd IAT Std', 'Init Bwd Win Byts', 'Bwd IAT Max', 'Bwd IAT Tot', 'Pkt Len Min', 'Flow IAT Mean', 'Bwd Pkt Len Min', 'Tot Bwd Pkts', 'Active Max'], 'Adv sample 354': ['SYN Flag Cnt', 'Init Bwd Win Byts', 'Pkt Len Min', 'Down/Up Ratio', 'Bwd Pkt Len Min', 'FIN Flag Cnt', 'Idle Min', 'Idle Max', 'Fwd IAT Max', 'Pkt Len Max'], 'Adv sample 355': ['SYN Flag Cnt', 'Init Bwd Win Byts', 'Bwd Pkt Len Max', 'Idle Mean', 'Bwd Pkt Len Mean', 'Flow Duration', 'Tot Fwd Pkts', 'Tot Bwd Pkts', 'TotLen Fwd Pkts', 'TotLen Bwd Pkts'], 'Adv sample 356': ['Pkt Len Min', 'Init Bwd Win Byts', 'Down/Up Ratio', 'Flow Duration', 'Pkt Len Std', 'PSH Flag Cnt', 'Flow IAT Max', 'Flow IAT Std', 'Fwd IAT Max', 'Bwd Pkt Len Min'], 'Adv sample 357': ['Pkt Len Min', 'Init Bwd Win Byts', 'Down/Up Ratio', 'Flow Duration', 'Bwd Pkt Len Min', 'Pkt Len Max', 'Flow IAT Max', 'FIN Flag Cnt', 'Flow IAT Std', 'Pkt Len Std'], 'Adv sample 358': ['ACK Flag Cnt', 'Bwd IAT Std', 'Init Bwd Win Byts', 'Bwd IAT Tot', 'Bwd IAT Max', 'Flow IAT Mean', 'Pkt Len Min', 'Pkt Len Var', 'Active Min', 'Bwd IAT Mean'], 'Adv sample 359': ['SYN Flag Cnt', 'Init Bwd Win Byts', 'Bwd Pkt Len Max', 'Bwd Pkt Len Std', 'Idle Max', 'Bwd Seg Size Avg', 'Bwd Pkt Len Mean', 'Idle Min', 'Subflow Bwd Pkts', 'Flow IAT Min'], 'Adv sample 360': ['Pkt Len Min', 'Init Bwd Win Byts', 'Down/Up Ratio', 'Flow Duration', 'Bwd Pkt Len Min', 'FIN Flag Cnt', 'Pkt Size Avg', 'Fwd IAT Max', 'Flow IAT Max', 'Pkt Len Max'], 'Adv sample 361': ['FIN Flag Cnt', 'Flow Pkts/s', 'Init Bwd Win Byts', 'Bwd Pkts/s', 'Pkt Len Min', 'Down/Up Ratio', 'Pkt Len Std', 'Bwd IAT Min', 'PSH Flag Cnt', 'Pkt Len Mean'], 'Adv sample 362': ['SYN Flag Cnt', 'Init Bwd Win Byts', 'Pkt Len Min', 'Bwd Pkt Len Min', 'Idle Max', 'Idle Mean', 'Tot Bwd Pkts', 'Bwd Pkt Len Max', 'Bwd IAT Min', 'Idle Min'], 'Adv sample 363': ['FIN Flag Cnt', 'Flow Pkts/s', 'Init Bwd Win Byts', 'Pkt Len Min', 'Bwd Pkts/s', 'Down/Up Ratio', 'Bwd Pkt Len Min', 'Pkt Size Avg', 'Pkt Len Mean', 'Pkt Len Std'], 'Adv sample 364': ['ACK Flag Cnt', 'Bwd IAT Std', 'Init Bwd Win Byts', 'Bwd IAT Tot', 'Bwd IAT Max', 'Flow IAT Mean', 'Bwd Pkt Len Max', 'TotLen Fwd Pkts', 'Subflow Fwd Byts', 'Bwd Pkt Len Min'], 'Adv sample 365': ['Bwd Pkts/s', 'Init Bwd Win Byts', 'Down/Up Ratio', 'Pkt Len Min', 'Bwd Pkt Len Min', 'FIN Flag Cnt', 'Pkt Len Mean', 'Idle Min', 'Pkt Size Avg', 'Fwd Header Len'], 'Adv sample 366': ['SYN Flag Cnt', 'Init Bwd Win Byts', 'Subflow Fwd Pkts', 'Idle Min', 'TotLen Bwd Pkts', 'Subflow Fwd Byts', 'Bwd Seg Size Avg', 'Bwd Pkt Len Max', 'Idle Max', 'Subflow Bwd Pkts'], 'Adv sample 367': ['Init Bwd Win Byts', 'URG Flag Cnt', 'FIN Flag Cnt', 'Bwd URG Flags', 'Pkt Len Min', 'Bwd PSH Flags', 'Down/Up Ratio', 'Bwd Pkt Len Mean', 'Bwd Pkt Len Min', 'Bwd Seg Size Avg'], 'Adv sample 368': ['SYN Flag Cnt', 'Init Bwd Win Byts', 'Pkt Len Min', 'Bwd Pkt Len Min', 'Idle Min', 'Down/Up Ratio', 'Flow IAT Max', 'Flow Duration', 'Idle Max', 'Active Max'], 'Adv sample 369': ['ACK Flag Cnt', 'Bwd IAT Std', 'Init Bwd Win Byts', 'Bwd IAT Tot', 'Bwd IAT Max', 'Pkt Len Min', 'Flow IAT Mean', 'Fwd Pkt Len Min', 'PSH Flag Cnt', 'Subflow Fwd Pkts'], 'Adv sample 370': ['Pkt Len Min', 'Init Bwd Win Byts', 'Down/Up Ratio', 'Flow Duration', 'Bwd Pkt Len Min', 'Flow IAT Std', 'FIN Flag Cnt', 'Flow IAT Max', 'Fwd IAT Max', 'Bwd Pkts/s'], 'Adv sample 371': ['Bwd Pkts/s', 'Init Bwd Win Byts', 'Pkt Len Min', 'Down/Up Ratio', 'Pkt Len Max', 'Fwd IAT Tot', 'Bwd Pkt Len Min', 'Bwd URG Flags', 'Pkt Len Mean', 'Pkt Len Std'], 'Adv sample 372': ['Bwd Pkts/s', 'Init Bwd Win Byts', 'Down/Up Ratio', 'Pkt Len Min', 'Bwd Pkt Len Min', 'Flow Duration', 'Pkt Len Mean', 'Pkt Size Avg', 'Idle Mean', 'FIN Flag Cnt'], 'Adv sample 373': ['Pkt Len Min', 'Down/Up Ratio', 'Init Bwd Win Byts', 'Flow IAT Std', 'Flow Duration', 'Bwd Pkt Len Min', 'Fwd IAT Max', 'Flow IAT Max', 'FIN Flag Cnt', 'Flow Pkts/s'], 'Adv sample 374': ['Pkt Len Min', 'Init Bwd Win Byts', 'Down/Up Ratio', 'Flow Duration', 'FIN Flag Cnt', 'Flow IAT Std', 'Bwd Pkt Len Min', 'Flow IAT Max', 'Fwd IAT Max', 'Pkt Len Std'], 'Adv sample 375': ['Pkt Len Min', 'Init Bwd Win Byts', 'Down/Up Ratio', 'Flow Duration', 'Bwd Pkt Len Min', 'Fwd IAT Max', 'FIN Flag Cnt', 'Flow IAT Std', 'Pkt Size Avg', 'Flow IAT Max'], 'Adv sample 376': ['Pkt Len Min', 'Init Bwd Win Byts', 'Down/Up Ratio', 'Flow Duration', 'Bwd Pkts/s', 'Flow IAT Std', 'Fwd IAT Tot', 'Flow IAT Max', 'Bwd Pkt Len Min', 'Flow Pkts/s'], 'Adv sample 377': ['Pkt Len Min', 'Down/Up Ratio', 'Init Bwd Win Byts', 'Bwd Pkt Len Min', 'Flow Duration', 'Pkt Len Max', 'Flow IAT Max', 'Fwd IAT Max', 'Fwd Pkt Len Max', 'Fwd Pkt Len Mean'], 'Adv sample 378': ['Pkt Len Min', 'Init Bwd Win Byts', 'Down/Up Ratio', 'Flow Duration', 'Bwd Pkts/s', 'Bwd Pkt Len Min', 'Flow IAT Std', 'Fwd IAT Max', 'Flow IAT Max', 'PSH Flag Cnt'], 'Adv sample 379': ['SYN Flag Cnt', 'Init Bwd Win Byts', 'Pkt Len Min', 'FIN Flag Cnt', 'Down/Up Ratio', 'Idle Min', 'Bwd Pkt Len Min', 'Pkt Len Max', 'Fwd Seg Size Avg', 'ACK Flag Cnt'], 'Adv sample 380': ['Pkt Len Min', 'Init Bwd Win Byts', 'Down/Up Ratio', 'Flow Duration', 'Bwd Pkt Len Min', 'Flow IAT Std', 'Fwd IAT Max', 'Flow IAT Max', 'Pkt Size Avg', 'Pkt Len Std'], 'Adv sample 381': ['Bwd Pkts/s', 'Init Bwd Win Byts', 'Pkt Len Min', 'Down/Up Ratio', 'Bwd Pkt Len Min', 'Flow Duration', 'Pkt Size Avg', 'Subflow Fwd Pkts', 'Pkt Len Max', 'Fwd Pkts/s'], 'Adv sample 382': ['ACK Flag Cnt', 'Bwd IAT Std', 'Init Bwd Win Byts', 'Bwd IAT Tot', 'Bwd IAT Max', 'Flow IAT Mean', 'Pkt Len Min', 'Bwd IAT Min', 'Active Min', 'Bwd Pkt Len Min'], 'Adv sample 383': ['SYN Flag Cnt', 'Init Bwd Win Byts', 'Pkt Len Min', 'Bwd Pkt Len Min', 'Idle Max', 'Down/Up Ratio', 'Idle Min', 'Flow Pkts/s', 'Flow IAT Max', 'Pkt Len Std'], 'Adv sample 384': ['SYN Flag Cnt', 'Init Bwd Win Byts', 'Pkt Len Min', 'Down/Up Ratio', 'Bwd Pkt Len Min', 'Idle Max', 'Idle Min', 'Idle Mean', 'Fwd IAT Std', 'Pkt Len Max'], 'Adv sample 385': ['Pkt Len Min', 'Init Bwd Win Byts', 'Down/Up Ratio', 'Bwd Pkts/s', 'Flow Duration', 'Flow IAT Max', 'Bwd Pkt Len Min', 'Pkt Len Max', 'Flow IAT Std', 'Fwd Pkt Len Max'], 'Adv sample 386': ['Bwd PSH Flags', 'Init Bwd Win Byts', 'Pkt Len Min', 'Down/Up Ratio', 'Pkt Len Mean', 'Pkt Len Max', 'ACK Flag Cnt', 'Pkt Len Std', 'Pkt Size Avg', 'Fwd Pkt Len Max'], 'Adv sample 387': ['SYN Flag Cnt', 'Init Bwd Win Byts', 'Pkt Len Min', 'Bwd Pkt Len Min', 'Down/Up Ratio', 'Pkt Len Mean', 'Idle Min', 'Flow IAT Max', 'Fwd IAT Max', 'Idle Max'], 'Adv sample 388': ['ACK Flag Cnt', 'Bwd IAT Std', 'Init Bwd Win Byts', 'Bwd IAT Tot', 'Bwd IAT Max', 'Pkt Len Min', 'Flow IAT Mean', 'Pkt Len Mean', 'Bwd Pkt Len Std', 'Fwd IAT Max'], 'Adv sample 389': ['Bwd Pkts/s', 'Init Bwd Win Byts', 'Pkt Len Min', 'Down/Up Ratio', 'Bwd Pkt Len Min', 'Pkt Size Avg', 'Pkt Len Mean', 'FIN Flag Cnt', 'Idle Min', 'Idle Max'], 'Adv sample 390': ['ACK Flag Cnt', 'Bwd IAT Std', 'Init Bwd Win Byts', 'Bwd IAT Tot', 'Bwd IAT Max', 'Flow IAT Mean', 'Pkt Len Min', 'Bwd Pkt Len Min', 'TotLen Bwd Pkts', 'Bwd Pkt Len Std'], 'Adv sample 391': ['Bwd Pkts/s', 'Init Bwd Win Byts', 'Pkt Len Min', 'Down/Up Ratio', 'Bwd Pkt Len Min', 'Flow IAT Std', 'Fwd Pkt Len Std', 'Fwd IAT Tot', 'Bwd Pkt Len Mean', 'Fwd Pkt Len Max'], 'Adv sample 392': ['SYN Flag Cnt', 'Init Bwd Win Byts', 'Pkt Len Min', 'Idle Min', 'Bwd Pkt Len Min', 'Down/Up Ratio', 'Idle Max', 'Pkt Size Avg', 'Flow Pkts/s', 'Idle Mean'], 'Adv sample 393': ['SYN Flag Cnt', 'Init Bwd Win Byts', 'Idle Min', 'Idle Mean', 'Pkt Len Var', 'Tot Bwd Pkts', 'Bwd Pkt Len Mean', 'Fwd Seg Size Avg', 'Fwd IAT Tot', 'Fwd IAT Std'], 'Adv sample 394': ['Pkt Len Min', 'Init Bwd Win Byts', 'Down/Up Ratio', 'Flow IAT Max', 'Flow Duration', 'Flow IAT Std', 'Flow Pkts/s', 'Bwd Pkt Len Min', 'Pkt Len Max', 'Pkt Size Avg'], 'Adv sample 395': ['FIN Flag Cnt', 'Flow Pkts/s', 'Init Bwd Win Byts', 'Pkt Len Min', 'Bwd Pkts/s', 'Down/Up Ratio', 'Bwd Pkt Len Min', 'Fwd Pkt Len Mean', 'Pkt Size Avg', 'Pkt Len Mean'], 'Adv sample 396': ['Bwd Pkts/s', 'Init Bwd Win Byts', 'Pkt Len Min', 'Down/Up Ratio', 'Bwd Pkt Len Min', 'Flow IAT Max', 'Tot Fwd Pkts', 'Idle Min', 'Fwd Header Len', 'Fwd Pkt Len Max'], 'Adv sample 397': ['SYN Flag Cnt', 'Init Bwd Win Byts', 'Pkt Len Min', 'FIN Flag Cnt', 'Down/Up Ratio', 'Idle Min', 'Flow IAT Max', 'Bwd Pkt Len Min', 'ACK Flag Cnt', 'Flow IAT Std'], 'Adv sample 398': ['SYN Flag Cnt', 'Init Bwd Win Byts', 'Bwd Pkt Len Mean', 'Idle Mean', 'Bwd Seg Size Avg', 'Idle Min', 'Pkt Len Var', 'Bwd Pkt Len Std', 'Flow Duration', 'Bwd Pkt Len Min'], 'Adv sample 399': ['Bwd Pkts/s', 'Init Bwd Win Byts', 'Pkt Len Min', 'Down/Up Ratio', 'Bwd Pkt Len Min', 'Fwd IAT Tot', 'Idle Min', 'Tot Fwd Pkts', 'Pkt Size Avg', 'Fwd Seg Size Avg'], 'Adv sample 400': ['Pkt Len Min', 'Init Bwd Win Byts', 'Down/Up Ratio', 'Flow Duration', 'Bwd Pkt Len Min', 'Fwd IAT Max', 'Flow IAT Std', 'FIN Flag Cnt', 'Pkt Len Max', 'Flow Pkts/s'], 'Adv sample 401': ['SYN Flag Cnt', 'Init Bwd Win Byts', 'Pkt Len Min', 'Bwd Pkt Len Min', 'Idle Min', 'Idle Max', 'Idle Mean', 'Flow Duration', 'ACK Flag Cnt', 'Pkt Size Avg'], 'Adv sample 402': ['Pkt Len Min', 'Init Bwd Win Byts', 'Down/Up Ratio', 'Flow Duration', 'Flow IAT Max', 'Fwd IAT Max', 'Flow IAT Std', 'Pkt Len Std', 'Pkt Len Max', 'Bwd Pkts/s'], 'Adv sample 403': ['Pkt Len Min', 'Init Bwd Win Byts', 'Down/Up Ratio', 'Flow Duration', 'Bwd Pkt Len Min', 'Flow IAT Std', 'Flow IAT Max', 'FIN Flag Cnt', 'Flow Pkts/s', 'Pkt Size Avg'], 'Adv sample 404': ['Bwd Pkts/s', 'Init Bwd Win Byts', 'Pkt Len Min', 'Down/Up Ratio', 'Bwd Pkt Len Min', 'Pkt Len Mean', 'Pkt Len Std', 'Flow IAT Std', 'Fwd Seg Size Avg', 'Subflow Bwd Byts'], 'Adv sample 405': ['SYN Flag Cnt', 'Init Bwd Win Byts', 'Bwd Pkt Len Max', 'Bwd Pkt Len Std', 'Bwd Seg Size Avg', 'Idle Min', 'Fwd Pkts/s', 'Active Std', 'Subflow Fwd Pkts', 'Flow Duration'], 'Adv sample 406': ['ACK Flag Cnt', 'Bwd IAT Std', 'Init Bwd Win Byts', 'Bwd IAT Max', 'Bwd IAT Tot', 'Pkt Len Min', 'Flow IAT Mean', 'Bwd Pkt Len Mean', 'Fwd IAT Tot', 'Tot Fwd Pkts'], 'Adv sample 407': ['FIN Flag Cnt', 'Flow Pkts/s', 'Init Bwd Win Byts', 'Bwd Pkts/s', 'Pkt Len Min', 'Down/Up Ratio', 'Pkt Size Avg', 'Bwd Pkt Len Min', 'Subflow Bwd Byts', 'Pkt Len Mean'], 'Adv sample 408': ['SYN Flag Cnt', 'Init Bwd Win Byts', 'Pkt Len Min', 'Idle Max', 'Bwd Pkt Len Min', 'Idle Min', 'ACK Flag Cnt', 'Idle Mean', 'Bwd Pkt Len Max', 'Fwd Pkts/s'], 'Adv sample 409': ['Pkt Len Min', 'Init Bwd Win Byts', 'Down/Up Ratio', 'Flow Duration', 'Bwd Pkt Len Min', 'Flow IAT Max', 'Flow IAT Std', 'Bwd Pkts/s', 'Fwd IAT Tot', 'Fwd IAT Max'], 'Adv sample 410': ['Pkt Len Min', 'Init Bwd Win Byts', 'Down/Up Ratio', 'Flow Duration', 'Flow IAT Std', 'Bwd Pkt Len Min', 'Flow IAT Max', 'Pkt Len Max', 'FIN Flag Cnt', 'Fwd IAT Max'], 'Adv sample 411': ['SYN Flag Cnt', 'Init Bwd Win Byts', 'Pkt Len Min', 'Bwd Pkt Len Min', 'Down/Up Ratio', 'Idle Min', 'Pkt Len Max', 'Pkt Len Std', 'Flow IAT Max', 'Idle Mean'], 'Adv sample 412': ['SYN Flag Cnt', 'Init Bwd Win Byts', 'Pkt Len Min', 'ACK Flag Cnt', 'Bwd Pkt Len Min', 'Idle Min', 'Idle Max', 'Fwd IAT Max', 'Idle Mean', 'Bwd Pkt Len Std'], 'Adv sample 413': ['FIN Flag Cnt', 'Init Bwd Win Byts', 'Down/Up Ratio', 'Pkt Len Min', 'Bwd Pkt Len Min', 'Flow Duration', 'Pkt Len Mean', 'Idle Min', 'Pkt Len Std', 'Idle Mean'], 'Adv sample 414': ['SYN Flag Cnt', 'Init Bwd Win Byts', 'Pkt Len Min', 'Down/Up Ratio', 'Idle Min', 'Idle Max', 'Flow IAT Max', 'Bwd Pkt Len Min', 'Pkt Len Mean', 'Pkt Len Max'], 'Adv sample 415': ['ACK Flag Cnt', 'Bwd IAT Std', 'Init Bwd Win Byts', 'Bwd IAT Tot', 'Bwd IAT Max', 'Subflow Fwd Pkts', 'Pkt Len Min', 'Flow IAT Mean', 'Bwd Pkt Len Std', 'Bwd Pkt Len Max'], 'Adv sample 416': ['SYN Flag Cnt', 'Init Bwd Win Byts', 'Pkt Len Min', 'FIN Flag Cnt', 'Flow IAT Max', 'Down/Up Ratio', 'Idle Mean', 'Bwd Pkt Len Min', 'Fwd IAT Max', 'Idle Min'], 'Adv sample 417': ['Bwd Pkts/s', 'Init Bwd Win Byts', 'Down/Up Ratio', 'Pkt Len Min', 'Bwd Pkt Len Min', 'Fwd Pkt Len Std', 'PSH Flag Cnt', 'Pkt Len Mean', 'Fwd Pkt Len Mean', 'Fwd IAT Tot'], 'Adv sample 418': ['Pkt Len Min', 'Init Bwd Win Byts', 'Down/Up Ratio', 'Flow Duration', 'Flow IAT Std', 'Flow IAT Max', 'Fwd IAT Max', 'Bwd Pkt Len Min', 'Bwd Pkts/s', 'Pkt Size Avg'], 'Adv sample 419': ['SYN Flag Cnt', 'Bwd IAT Std', 'Init Bwd Win Byts', 'Bwd IAT Max', 'Flow IAT Mean', 'Active Max', 'Pkt Len Min', 'Flow IAT Max', 'Bwd Pkt Len Min', 'Pkt Len Std'], 'Adv sample 420': ['FIN Flag Cnt', 'Flow Pkts/s', 'Init Bwd Win Byts', 'Pkt Len Min', 'Bwd Pkts/s', 'Down/Up Ratio', 'Pkt Len Mean', 'Pkt Len Max', 'Pkt Len Std', 'Bwd Pkt Len Min'], 'Adv sample 421': ['Bwd Pkts/s', 'Init Bwd Win Byts', 'Down/Up Ratio', 'Pkt Len Min', 'Bwd Pkt Len Min', 'Bwd Seg Size Avg', 'Tot Bwd Pkts', 'Pkt Len Max', 'Flow Duration', 'Idle Min'], 'Adv sample 422': ['SYN Flag Cnt', 'Init Bwd Win Byts', 'ACK Flag Cnt', 'Idle Max', 'Bwd IAT Mean', 'Idle Min', 'Idle Mean', 'Active Min', 'Flow IAT Min', 'Fwd Pkt Len Min'], 'Adv sample 423': ['SYN Flag Cnt', 'Init Bwd Win Byts', 'Pkt Len Min', 'Down/Up Ratio', 'FIN Flag Cnt', 'Idle Max', 'Idle Min', 'Fwd IAT Std', 'Bwd Pkt Len Min', 'Active Max'], 'Adv sample 424': ['SYN Flag Cnt', 'Init Bwd Win Byts', 'Pkt Len Min', 'Down/Up Ratio', 'FIN Flag Cnt', 'Idle Max', 'Bwd Pkt Len Min', 'Flow Duration', 'Idle Min', 'Idle Mean'], 'Adv sample 425': ['Pkt Len Min', 'Init Bwd Win Byts', 'Down/Up Ratio', 'Flow Duration', 'Bwd Pkt Len Min', 'Flow IAT Std', 'Flow IAT Max', 'Pkt Len Mean', 'Pkt Len Max', 'Fwd Seg Size Avg'], 'Adv sample 426': ['Pkt Len Min', 'Init Bwd Win Byts', 'Down/Up Ratio', 'Flow Duration', 'Flow IAT Std', 'Fwd IAT Max', 'Flow IAT Max', 'FIN Flag Cnt', 'Bwd Pkt Len Min', 'Flow Pkts/s'], 'Adv sample 427': ['Init Bwd Win Byts', 'Pkt Len Min', 'Pkt Len Mean', 'Pkt Len Max', 'Pkt Size Avg', 'Pkt Len Std', 'Fwd Seg Size Avg', 'Fwd Pkt Len Max', 'Fwd Pkt Len Mean', 'Flow Pkts/s'], 'Adv sample 428': ['Init Bwd Win Byts', 'Pkt Len Min', 'Pkt Len Max', 'Pkt Size Avg', 'Pkt Len Std', 'Pkt Len Mean', 'Fwd Pkt Len Mean', 'Fwd Seg Size Avg', 'Flow Pkts/s', 'Fwd Pkt Len Std'], 'Adv sample 429': ['Init Bwd Win Byts', 'URG Flag Cnt', 'FIN Flag Cnt', 'Down/Up Ratio', 'Bwd URG Flags', 'Bwd PSH Flags', 'Pkt Len Min', 'Fwd Pkt Len Mean', 'Pkt Len Max', 'Pkt Len Var'], 'Adv sample 430': ['Pkt Len Min', 'Down/Up Ratio', 'Init Bwd Win Byts', 'Flow Duration', 'Bwd Pkts/s', 'Flow IAT Max', 'Bwd Pkt Len Min', 'Fwd IAT Max', 'Flow IAT Std', 'Flow Pkts/s'], 'Adv sample 431': ['Pkt Len Min', 'Init Bwd Win Byts', 'Down/Up Ratio', 'Flow Duration', 'Flow IAT Std', 'Flow IAT Max', 'Bwd Pkt Len Min', 'Fwd IAT Tot', 'Bwd Pkts/s', 'Pkt Len Mean'], 'Adv sample 432': ['SYN Flag Cnt', 'Init Bwd Win Byts', 'Bwd Pkt Len Max', 'Bwd Pkt Len Mean', 'Idle Max', 'Bwd Pkt Len Std', 'Bwd Pkt Len Min', 'Idle Min', 'Subflow Fwd Byts', 'Flow IAT Max'], 'Adv sample 433': ['FIN Flag Cnt', 'Flow Pkts/s', 'Init Bwd Win Byts', 'Pkt Len Min', 'Bwd Pkts/s', 'Down/Up Ratio', 'Pkt Len Std', 'Pkt Len Mean', 'Pkt Size Avg', 'Pkt Len Max'], 'Adv sample 434': ['Bwd Pkts/s', 'Init Bwd Win Byts', 'Pkt Len Min', 'Down/Up Ratio', 'Bwd Pkt Len Min', 'Subflow Fwd Pkts', 'Fwd IAT Max', 'Fwd Pkt Len Min', 'Flow IAT Std', 'Pkt Len Max'], 'Adv sample 435': ['Init Bwd Win Byts', 'Pkt Len Min', 'Pkt Size Avg', 'Pkt Len Mean', 'Pkt Len Std', 'Pkt Len Max', 'Flow Pkts/s', 'Fwd Pkt Len Max', 'Fwd Pkt Len Mean', 'Fwd Seg Size Avg'], 'Adv sample 436': ['SYN Flag Cnt', 'Init Bwd Win Byts', 'Idle Min', 'Idle Max', 'Pkt Len Min', 'Bwd Pkt Len Max', 'Bwd IAT Min', 'Bwd Pkt Len Std', 'Idle Mean', 'Bwd Pkt Len Min'], 'Adv sample 437': ['Pkt Len Min', 'Init Bwd Win Byts', 'Down/Up Ratio', 'Flow IAT Std', 'Flow Duration', 'FIN Flag Cnt', 'Flow IAT Max', 'Flow Pkts/s', 'Bwd Pkt Len Min', 'Fwd IAT Max'], 'Adv sample 438': ['SYN Flag Cnt', 'Init Bwd Win Byts', 'Pkt Len Min', 'Down/Up Ratio', 'FIN Flag Cnt', 'Bwd Pkts/s', 'Bwd Pkt Len Min', 'Flow Duration', 'Idle Min', 'Fwd IAT Max'], 'Adv sample 439': ['Bwd Pkts/s', 'Init Bwd Win Byts', 'Down/Up Ratio', 'Pkt Len Min', 'Bwd Pkt Len Min', 'Idle Max', 'Pkt Len Max', 'Pkt Size Avg', 'Fwd IAT Std', 'Flow IAT Min'], 'Adv sample 440': ['Pkt Len Min', 'Init Bwd Win Byts', 'Down/Up Ratio', 'Bwd Pkt Len Min', 'Flow Duration', 'Flow Pkts/s', 'Flow IAT Max', 'Flow IAT Std', 'Fwd IAT Max', 'FIN Flag Cnt'], 'Adv sample 441': ['Bwd Pkts/s', 'Init Bwd Win Byts', 'Down/Up Ratio', 'Pkt Len Min', 'Bwd Pkt Len Min', 'Idle Mean', 'Pkt Len Std', 'Fwd Pkt Len Std', 'Bwd Seg Size Avg', 'Flow Duration'], 'Adv sample 442': ['ACK Flag Cnt', 'Bwd IAT Std', 'Bwd IAT Max', 'Init Bwd Win Byts', 'Bwd IAT Tot', 'Pkt Len Min', 'Flow IAT Mean', 'Bwd Pkt Len Min', 'Bwd PSH Flags', 'Fwd Seg Size Avg'], 'Adv sample 443': ['Active Min', 'Active Mean', 'Active Max', 'Init Bwd Win Byts', 'Bwd IAT Std', 'Idle Max', 'Idle Mean', 'Bwd Pkt Len Max', 'Active Std', 'Pkt Len Max'], 'Adv sample 444': ['ACK Flag Cnt', 'Bwd IAT Std', 'Init Bwd Win Byts', 'Bwd IAT Tot', 'Bwd IAT Max', 'Bwd Pkt Len Min', 'Pkt Len Min', 'Flow IAT Mean', 'Fwd Pkt Len Std', 'Fwd IAT Max'], 'Adv sample 445': ['Bwd PSH Flags', 'Init Bwd Win Byts', 'Pkt Len Min', 'Down/Up Ratio', 'Pkt Len Max', 'ACK Flag Cnt', 'Pkt Len Std', 'Pkt Size Avg', 'Pkt Len Mean', 'Bwd Seg Size Avg'], 'Adv sample 446': ['Init Bwd Win Byts', 'Pkt Size Avg', 'Pkt Len Min', 'Pkt Len Std', 'Flow Pkts/s', 'Pkt Len Max', 'Pkt Len Mean', 'Fwd Pkt Len Max', 'Fwd Pkt Len Mean', 'Fwd Seg Size Avg'], 'Adv sample 447': ['Init Bwd Win Byts', 'Pkt Len Min', 'Pkt Len Std', 'Pkt Len Mean', 'Pkt Len Max', 'Pkt Size Avg', 'Fwd Pkt Len Mean', 'Fwd Pkt Len Max', 'Fwd IAT Std', 'Fwd Pkt Len Std'], 'Adv sample 448': ['Init Bwd Win Byts', 'Pkt Len Max', 'Pkt Len Min', 'Pkt Size Avg', 'Pkt Len Mean', 'Pkt Len Std', 'Fwd Pkt Len Max', 'Fwd Seg Size Avg', 'Down/Up Ratio', 'Fwd Pkt Len Mean'], 'Adv sample 449': ['Pkt Len Min', 'Init Bwd Win Byts', 'Down/Up Ratio', 'Bwd Pkts/s', 'Bwd Pkt Len Min', 'Flow Duration', 'Fwd Pkt Len Max', 'FIN Flag Cnt', 'Idle Min', 'Pkt Len Mean'], 'Adv sample 450': ['Init Bwd Win Byts', 'Pkt Len Min', 'Pkt Len Max', 'Pkt Size Avg', 'Pkt Len Mean', 'Pkt Len Std', 'Flow Pkts/s', 'Fwd Pkt Len Max', 'Fwd Pkt Len Mean', 'Fwd Seg Size Avg'], 'Adv sample 451': ['Pkt Len Min', 'Init Bwd Win Byts', 'Down/Up Ratio', 'Bwd Pkt Len Min', 'Flow Duration', 'Bwd Pkts/s', 'Flow IAT Std', 'FIN Flag Cnt', 'Fwd IAT Std', 'Flow IAT Max'], 'Adv sample 452': ['SYN Flag Cnt', 'Init Bwd Win Byts', 'Pkt Len Min', 'Down/Up Ratio', 'Bwd Pkt Len Min', 'Pkt Len Std', 'Flow IAT Max', 'Idle Min', 'Fwd IAT Max', 'Fwd Pkt Len Min'], 'Adv sample 453': ['Pkt Len Min', 'Down/Up Ratio', 'Init Bwd Win Byts', 'Flow Duration', 'Flow IAT Max', 'Bwd Pkt Len Min', 'Pkt Size Avg', 'Fwd IAT Max', 'Pkt Len Max', 'Fwd Pkt Len Max'], 'Adv sample 454': ['Pkt Len Min', 'Init Bwd Win Byts', 'Down/Up Ratio', 'Flow Duration', 'Flow IAT Max', 'Fwd IAT Max', 'Pkt Len Mean', 'Bwd Pkts/s', 'Flow IAT Std', 'Fwd IAT Tot'], 'Adv sample 455': ['Bwd Pkts/s', 'Init Bwd Win Byts', 'Pkt Len Min', 'Down/Up Ratio', 'Bwd Pkt Len Min', 'Bwd Seg Size Avg', 'Pkt Len Mean', 'Idle Min', 'Flow Duration', 'Pkt Size Avg'], 'Adv sample 456': ['Pkt Len Min', 'Init Bwd Win Byts', 'Down/Up Ratio', 'Flow Duration', 'Bwd Pkts/s', 'Flow IAT Std', 'Bwd Pkt Len Min', 'Flow IAT Max', 'Fwd IAT Max', 'Pkt Size Avg'], 'Adv sample 457': ['FIN Flag Cnt', 'Flow Pkts/s', 'Init Bwd Win Byts', 'Pkt Len Min', 'Bwd Pkts/s', 'Down/Up Ratio', 'Pkt Len Mean', 'Pkt Len Std', 'Pkt Len Max', 'Fwd IAT Max'], 'Adv sample 458': ['Pkt Len Min', 'Init Bwd Win Byts', 'Down/Up Ratio', 'Flow Duration', 'Bwd Pkt Len Min', 'Flow IAT Max', 'Fwd IAT Max', 'Flow IAT Std', 'Pkt Len Max', 'FIN Flag Cnt'], 'Adv sample 459': ['Pkt Len Min', 'Init Bwd Win Byts', 'Down/Up Ratio', 'Flow Duration', 'Bwd Pkt Len Min', 'Flow IAT Std', 'Pkt Len Mean', 'Flow IAT Max', 'Bwd Pkts/s', 'FIN Flag Cnt'], 'Adv sample 460': ['FIN Flag Cnt', 'Flow Pkts/s', 'Init Bwd Win Byts', 'Down/Up Ratio', 'Pkt Len Min', 'Bwd Pkt Len Min', 'Subflow Fwd Pkts', 'TotLen Bwd Pkts', 'Bwd PSH Flags', 'Bwd Pkt Len Mean'], 'Adv sample 461': ['Bwd Pkts/s', 'Init Bwd Win Byts', 'Down/Up Ratio', 'Pkt Len Min', 'Bwd Pkt Len Min', 'Flow Duration', 'Flow IAT Std', 'FIN Flag Cnt', 'Idle Mean', 'Active Min'], 'Adv sample 462': ['Init Bwd Win Byts', 'Pkt Len Std', 'Pkt Len Min', 'Pkt Len Mean', 'Pkt Len Max', 'Pkt Size Avg', 'Flow Pkts/s', 'Fwd Seg Size Avg', 'Fwd Pkt Len Mean', 'Fwd Pkt Len Max'], 'Adv sample 463': ['ACK Flag Cnt', 'Bwd IAT Std', 'Init Bwd Win Byts', 'Bwd IAT Max', 'Bwd IAT Tot', 'Flow IAT Mean', 'Pkt Len Min', 'Fwd Pkt Len Max', 'Bwd IAT Mean', 'Flow Pkts/s'], 'Adv sample 464': ['SYN Flag Cnt', 'Init Bwd Win Byts', 'Pkt Len Min', 'Idle Max', 'Idle Min', 'Bwd Pkt Len Min', 'Idle Mean', 'ACK Flag Cnt', 'Fwd Pkt Len Min', 'Pkt Len Mean'], 'Adv sample 465': ['SYN Flag Cnt', 'Init Bwd Win Byts', 'Pkt Len Min', 'FIN Flag Cnt', 'Bwd Pkt Len Min', 'Down/Up Ratio', 'Idle Mean', 'Idle Min', 'Idle Max', 'Fwd IAT Std'], 'Adv sample 466': ['Init Bwd Win Byts', 'Pkt Len Min', 'Pkt Len Mean', 'Pkt Size Avg', 'Pkt Len Max', 'Pkt Len Std', 'Down/Up Ratio', 'Bwd IAT Min', 'Fwd Seg Size Avg', 'Fwd Pkt Len Mean'], 'Adv sample 467': ['Init Bwd Win Byts', 'Pkt Len Min', 'Pkt Len Mean', 'Pkt Len Std', 'Pkt Len Max', 'Pkt Size Avg', 'Flow Pkts/s', 'Fwd Seg Size Avg', 'Fwd Pkt Len Mean', 'Fwd Pkt Len Max'], 'Adv sample 468': ['Bwd Pkts/s', 'Init Bwd Win Byts', 'Pkt Len Min', 'Down/Up Ratio', 'Bwd Pkt Len Min', 'FIN Flag Cnt', 'Flow IAT Max', 'Pkt Len Mean', 'Idle Min', 'Flow Duration'], 'Adv sample 469': ['SYN Flag Cnt', 'Init Bwd Win Byts', 'Bwd Pkt Len Max', 'Idle Max', 'Idle Mean', 'Tot Fwd Pkts', 'Tot Bwd Pkts', 'Fwd Pkt Len Min', 'Bwd Pkt Len Min', 'Bwd Pkt Len Mean'], 'Adv sample 470': ['Init Bwd Win Byts', 'Pkt Len Min', 'Pkt Len Std', 'Pkt Len Max', 'Pkt Len Mean', 'Pkt Size Avg', 'Fwd Seg Size Avg', 'Fwd Pkt Len Mean', 'Fwd Pkt Len Std', 'Fwd Pkt Len Max'], 'Adv sample 471': ['SYN Flag Cnt', 'Init Bwd Win Byts', 'Bwd Pkt Len Min', 'Idle Min', 'Bwd Pkt Len Max', 'Flow Duration', 'Tot Fwd Pkts', 'Tot Bwd Pkts', 'TotLen Fwd Pkts', 'TotLen Bwd Pkts'], 'Adv sample 472': ['Pkt Len Min', 'Down/Up Ratio', 'Init Bwd Win Byts', 'Bwd Pkt Len Min', 'Flow IAT Max', 'Pkt Len Max', 'Flow Duration', 'Pkt Size Avg', 'Pkt Len Mean', 'Pkt Len Std'], 'Adv sample 473': ['Pkt Len Min', 'Init Bwd Win Byts', 'Down/Up Ratio', 'Flow Duration', 'Bwd Pkts/s', 'Fwd IAT Max', 'Pkt Len Max', 'Bwd Pkt Len Min', 'Flow Pkts/s', 'Fwd IAT Std'], 'Adv sample 474': ['SYN Flag Cnt', 'Init Bwd Win Byts', 'Bwd Pkt Len Max', 'Idle Min', 'Bwd Pkt Len Min', 'Fwd Pkt Len Max', 'Fwd Pkt Len Mean', 'Bwd Seg Size Avg', 'Bwd Pkt Len Mean', 'Subflow Fwd Pkts'], 'Adv sample 475': ['ACK Flag Cnt', 'Bwd IAT Std', 'Init Bwd Win Byts', 'Bwd IAT Max', 'Bwd IAT Tot', 'Pkt Len Min', 'Flow IAT Mean', 'Subflow Bwd Pkts', 'Subflow Bwd Byts', 'Bwd Pkt Len Min'], 'Adv sample 476': ['Bwd Pkts/s', 'Init Bwd Win Byts', 'Down/Up Ratio', 'Pkt Len Min', 'Bwd Pkt Len Min', 'Pkt Len Max', 'Flow Duration', 'Fwd IAT Mean', 'Fwd Seg Size Avg', 'Fwd IAT Max'], 'Adv sample 477': ['Init Bwd Win Byts', 'Pkt Len Min', 'Pkt Len Mean', 'Pkt Len Max', 'Pkt Len Std', 'Pkt Size Avg', 'Fwd Seg Size Avg', 'Fwd Pkt Len Mean', 'Flow Pkts/s', 'Fwd Pkt Len Std'], 'Adv sample 478': ['Pkt Len Min', 'Init Bwd Win Byts', 'Down/Up Ratio', 'Flow Duration', 'Flow IAT Std', 'Bwd Pkt Len Min', 'Flow IAT Max', 'Pkt Len Mean', 'Fwd IAT Tot', 'FIN Flag Cnt'], 'Adv sample 479': ['FIN Flag Cnt', 'Flow Pkts/s', 'Init Bwd Win Byts', 'Pkt Len Min', 'Bwd Pkts/s', 'Down/Up Ratio', 'Pkt Len Mean', 'Bwd Pkt Len Min', 'Bwd PSH Flags', 'Pkt Size Avg'], 'Adv sample 480': ['Flow Pkts/s', 'FIN Flag Cnt', 'Init Bwd Win Byts', 'Pkt Len Min', 'Bwd Pkts/s', 'Down/Up Ratio', 'Pkt Len Mean', 'Bwd Pkt Len Min', 'Pkt Size Avg', 'PSH Flag Cnt'], 'Adv sample 481': ['Init Bwd Win Byts', 'Pkt Len Min', 'Pkt Len Max', 'Pkt Len Mean', 'Pkt Len Std', 'Pkt Size Avg', 'Fwd Seg Size Avg', 'Fwd Pkt Len Std', 'Fwd Pkt Len Max', 'Fwd Pkt Len Mean'], 'Adv sample 482': ['Init Bwd Win Byts', 'Pkt Len Min', 'Pkt Len Std', 'Pkt Len Max', 'Pkt Size Avg', 'Pkt Len Mean', 'Fwd Pkt Len Max', 'Fwd Pkt Len Mean', 'Fwd Pkt Len Std', 'Flow Pkts/s'], 'Adv sample 483': ['SYN Flag Cnt', 'Init Bwd Win Byts', 'Pkt Len Min', 'FIN Flag Cnt', 'Down/Up Ratio', 'Bwd Pkt Len Min', 'Fwd IAT Tot', 'Flow IAT Max', 'Flow Duration', 'Pkt Size Avg'], 'Adv sample 484': ['Pkt Len Min', 'Down/Up Ratio', 'Init Bwd Win Byts', 'Flow Duration', 'Flow IAT Max', 'Bwd Pkt Len Min', 'Pkt Size Avg', 'Fwd IAT Tot', 'Flow IAT Std', 'Fwd IAT Std'], 'Adv sample 485': ['SYN Flag Cnt', 'Init Bwd Win Byts', 'Pkt Len Min', 'Bwd Pkt Len Min', 'Idle Max', 'Idle Mean', 'Idle Min', 'Fwd IAT Tot', 'Fwd IAT Min', 'TotLen Bwd Pkts'], 'Adv sample 486': ['Bwd Pkts/s', 'Init Bwd Win Byts', 'Pkt Len Min', 'Down/Up Ratio', 'Bwd Pkt Len Min', 'Fwd IAT Max', 'Flow Duration', 'Fwd IAT Tot', 'Flow IAT Std', 'Pkt Len Std'], 'Adv sample 487': ['Pkt Len Min', 'Init Bwd Win Byts', 'Down/Up Ratio', 'Flow Duration', 'Flow IAT Std', 'Flow IAT Max', 'Bwd Pkts/s', 'Bwd Pkt Len Min', 'Pkt Len Max', 'Fwd IAT Max'], 'Adv sample 488': ['Pkt Len Min', 'Init Bwd Win Byts', 'Down/Up Ratio', 'Flow Duration', 'Bwd Pkt Len Min', 'Bwd Pkts/s', 'Flow IAT Std', 'Flow IAT Max', 'PSH Flag Cnt', 'Fwd IAT Max'], 'Adv sample 489': ['Pkt Len Min', 'Init Bwd Win Byts', 'Down/Up Ratio', 'Flow Duration', 'Flow IAT Std', 'Bwd Pkt Len Min', 'PSH Flag Cnt', 'Flow IAT Max', 'Idle Max', 'Fwd Seg Size Avg'], 'Adv sample 490': ['Pkt Len Min', 'Init Bwd Win Byts', 'Down/Up Ratio', 'Flow Duration', 'Flow IAT Std', 'Bwd Pkt Len Min', 'Idle Mean', 'Bwd Pkts/s', 'Fwd IAT Max', 'Pkt Len Mean'], 'Adv sample 491': ['Bwd Pkts/s', 'Init Bwd Win Byts', 'Down/Up Ratio', 'Pkt Len Min', 'Bwd Pkt Len Min', 'Pkt Len Std', 'Flow Duration', 'TotLen Bwd Pkts', 'Fwd IAT Max', 'Fwd Pkt Len Mean'], 'Adv sample 492': ['Pkt Len Min', 'Init Bwd Win Byts', 'Down/Up Ratio', 'Flow Duration', 'Fwd IAT Max', 'Flow IAT Std', 'Pkt Size Avg', 'PSH Flag Cnt', 'Bwd Pkt Len Min', 'FIN Flag Cnt'], 'Adv sample 493': ['SYN Flag Cnt', 'Init Bwd Win Byts', 'Bwd Pkt Len Max', 'Bwd Pkt Len Std', 'Bwd Pkt Len Mean', 'Bwd Seg Size Avg', 'Down/Up Ratio', 'Bwd Pkt Len Min', 'ACK Flag Cnt', 'Pkt Len Min'], 'Adv sample 494': ['Pkt Len Min', 'Init Bwd Win Byts', 'Down/Up Ratio', 'Flow Duration', 'Pkt Size Avg', 'Bwd Pkt Len Min', 'Bwd Pkts/s', 'Flow IAT Max', 'Flow IAT Std', 'Fwd IAT Max'], 'Adv sample 495': ['Pkt Len Min', 'Init Bwd Win Byts', 'Down/Up Ratio', 'Bwd Pkt Len Min', 'Flow Duration', 'Pkt Len Max', 'Pkt Len Std', 'Flow IAT Max', 'Fwd IAT Max', 'Fwd Pkt Len Max'], 'Adv sample 496': ['SYN Flag Cnt', 'Init Bwd Win Byts', 'Pkt Len Min', 'Idle Min', 'Fwd IAT Max', 'Bwd Pkt Len Min', 'Idle Max', 'ACK Flag Cnt', 'Fwd IAT Std', 'Flow IAT Max'], 'Adv sample 497': ['SYN Flag Cnt', 'Init Bwd Win Byts', 'Pkt Len Min', 'Bwd Pkt Len Min', 'Idle Min', 'Down/Up Ratio', 'Fwd Seg Size Avg', 'Idle Max', 'Flow IAT Max', 'Pkt Len Std'], 'Adv sample 498': ['SYN Flag Cnt', 'Init Bwd Win Byts', 'Pkt Len Min', 'Down/Up Ratio', 'Idle Min', 'Bwd Pkt Len Min', 'Idle Mean', 'Pkt Len Mean', 'Fwd Seg Size Avg', 'Fwd Pkt Len Mean'], 'Adv sample 499': ['SYN Flag Cnt', 'Init Bwd Win Byts', 'Pkt Len Min', 'Down/Up Ratio', 'Bwd Pkt Len Min', 'Idle Min', 'Idle Max', 'Flow Duration', 'Flow IAT Max', 'Idle Mean'], 'Adv sample 500': ['Pkt Len Min', 'Init Bwd Win Byts', 'Down/Up Ratio', 'Bwd Pkt Len Min', 'Flow Duration', 'Flow IAT Max', 'Pkt Len Max', 'Pkt Len Std', 'Pkt Size Avg', 'Fwd IAT Std'], 'Adv sample 501': ['SYN Flag Cnt', 'Init Bwd Win Byts', 'Pkt Len Min', 'Bwd Pkt Len Min', 'Idle Min', 'Down/Up Ratio', 'Pkt Len Mean', 'Idle Max', 'Idle Mean', 'Bwd URG Flags'], 'Adv sample 502': ['Pkt Len Min', 'Init Bwd Win Byts', 'Down/Up Ratio', 'Flow Duration', 'Flow IAT Std', 'Flow Pkts/s', 'Bwd Pkt Len Min', 'Flow IAT Max', 'Fwd IAT Tot', 'Pkt Len Mean'], 'Adv sample 503': ['SYN Flag Cnt', 'Init Bwd Win Byts', 'Bwd IAT Std', 'Pkt Len Min', 'Active Max', 'Active Mean', 'Active Min', 'Bwd IAT Max', 'Flow IAT Mean', 'FIN Flag Cnt'], 'Adv sample 504': ['Bwd Pkts/s', 'Init Bwd Win Byts', 'Pkt Len Min', 'Down/Up Ratio', 'Bwd Pkt Len Min', 'Flow IAT Std', 'Flow IAT Max', 'Pkt Len Std', 'Fwd Pkt Len Mean', 'Bwd Pkt Len Mean'], 'Adv sample 505': ['Pkt Len Min', 'Init Bwd Win Byts', 'Down/Up Ratio', 'Flow Duration', 'Bwd Pkts/s', 'Bwd Pkt Len Min', 'Flow IAT Std', 'Flow IAT Max', 'PSH Flag Cnt', 'Fwd IAT Max'], 'Adv sample 506': ['FIN Flag Cnt', 'Init Bwd Win Byts', 'Flow Pkts/s', 'Pkt Len Min', 'Down/Up Ratio', 'Bwd Pkts/s', 'Pkt Len Mean', 'Pkt Len Max', 'Pkt Len Std', 'Bwd Pkt Len Min'], 'Adv sample 507': ['Bwd Pkts/s', 'Init Bwd Win Byts', 'Pkt Len Min', 'Down/Up Ratio', 'Bwd Pkt Len Min', 'Pkt Size Avg', 'Pkt Len Mean', 'Idle Min', 'Flow Duration', 'Fwd IAT Max'], 'Adv sample 508': ['SYN Flag Cnt', 'Init Bwd Win Byts', 'Bwd Pkt Len Std', 'Idle Min', 'Fwd Pkt Len Min', 'Subflow Bwd Byts', 'Bwd Pkt Len Min', 'Idle Max', 'Pkt Len Min', 'Subflow Fwd Byts'], 'Adv sample 509': ['SYN Flag Cnt', 'Init Bwd Win Byts', 'Pkt Len Min', 'Idle Min', 'Fwd IAT Max', 'Bwd Pkt Len Min', 'ACK Flag Cnt', 'Idle Max', 'Fwd IAT Tot', 'Flow Duration'], 'Adv sample 510': ['FIN Flag Cnt', 'Flow Pkts/s', 'Init Bwd Win Byts', 'Pkt Len Min', 'Bwd Pkts/s', 'Down/Up Ratio', 'Pkt Len Std', 'Pkt Size Avg', 'Fwd Seg Size Avg', 'Fwd IAT Max'], 'Adv sample 511': ['SYN Flag Cnt', 'Init Bwd Win Byts', 'Pkt Len Min', 'Bwd Pkt Len Min', 'Idle Min', 'Down/Up Ratio', 'Flow Pkts/s', 'Idle Max', 'Fwd IAT Max', 'PSH Flag Cnt'], 'Adv sample 512': ['FIN Flag Cnt', 'Flow Pkts/s', 'Init Bwd Win Byts', 'Pkt Len Min', 'Down/Up Ratio', 'Bwd PSH Flags', 'Subflow Bwd Pkts', 'Bwd Pkt Len Max', 'Fwd IAT Mean', 'Bwd Seg Size Avg'], 'Adv sample 513': ['SYN Flag Cnt', 'Init Bwd Win Byts', 'ACK Flag Cnt', 'Idle Mean', 'Bwd IAT Mean', 'Bwd Seg Size Avg', 'Fwd IAT Std', 'Fwd Header Len', 'Subflow Bwd Byts', 'Bwd Header Len'], 'Adv sample 514': ['SYN Flag Cnt', 'Init Bwd Win Byts', 'ACK Flag Cnt', 'Pkt Len Min', 'Idle Min', 'Idle Max', 'Bwd Pkt Len Min', 'Bwd Pkt Len Std', 'Bwd Header Len', 'Pkt Len Var'], 'Adv sample 515': ['Pkt Len Min', 'Init Bwd Win Byts', 'Down/Up Ratio', 'Flow Duration', 'Flow IAT Max', 'Bwd Pkts/s', 'Bwd Pkt Len Min', 'Pkt Len Mean', 'PSH Flag Cnt', 'Fwd IAT Max'], 'Adv sample 516': ['Init Bwd Win Byts', 'Pkt Len Min', 'Pkt Len Std', 'Down/Up Ratio', 'Pkt Len Mean', 'Fwd Pkt Len Mean', 'Pkt Len Max', 'Fwd Seg Size Avg', 'Pkt Size Avg', 'Fwd IAT Tot'], 'Adv sample 517': ['Bwd Pkts/s', 'Init Bwd Win Byts', 'Pkt Len Min', 'Down/Up Ratio', 'Bwd Pkt Len Min', 'Flow IAT Max', 'Fwd IAT Max', 'Fwd Pkt Len Max', 'Pkt Len Max', 'Fwd IAT Std'], 'Adv sample 518': ['SYN Flag Cnt', 'Init Bwd Win Byts', 'ACK Flag Cnt', 'Idle Min', 'Bwd Pkt Len Std', 'Idle Max', 'Flow Duration', 'Tot Bwd Pkts', 'TotLen Bwd Pkts', 'Fwd Pkt Len Min'], 'Adv sample 519': ['SYN Flag Cnt', 'Init Bwd Win Byts', 'Pkt Len Min', 'FIN Flag Cnt', 'Down/Up Ratio', 'Bwd Pkt Len Min', 'Idle Max', 'Flow Duration', 'Idle Min', 'Flow IAT Max'], 'Adv sample 520': ['SYN Flag Cnt', 'Init Bwd Win Byts', 'Idle Max', 'Bwd Pkt Len Min', 'Pkt Len Min', 'Idle Min', 'Idle Mean', 'Fwd IAT Std', 'Flow Pkts/s', 'Bwd Pkt Len Max'], 'Adv sample 521': ['ACK Flag Cnt', 'Bwd IAT Std', 'Init Bwd Win Byts', 'Bwd IAT Tot', 'Bwd IAT Max', 'Pkt Len Min', 'Flow IAT Mean', 'Pkt Len Max', 'Fwd IAT Max', 'Tot Bwd Pkts'], 'Adv sample 522': ['Pkt Len Min', 'Init Bwd Win Byts', 'Down/Up Ratio', 'Flow Duration', 'Bwd Pkts/s', 'Flow IAT Max', 'Bwd Pkt Len Min', 'Fwd IAT Max', 'Pkt Len Max', 'Flow IAT Std'], 'Adv sample 523': ['Pkt Len Min', 'Init Bwd Win Byts', 'Down/Up Ratio', 'Flow Duration', 'Fwd IAT Max', 'Flow IAT Max', 'Flow IAT Std', 'FIN Flag Cnt', 'Pkt Len Std', 'Fwd IAT Tot'], 'Adv sample 524': ['Pkt Len Min', 'Init Bwd Win Byts', 'Down/Up Ratio', 'Flow Duration', 'Flow IAT Max', 'Fwd IAT Max', 'Bwd Pkt Len Min', 'Flow IAT Std', 'Bwd Pkts/s', 'Pkt Len Max'], 'Adv sample 525': ['ACK Flag Cnt', 'Bwd IAT Std', 'Bwd IAT Tot', 'Init Bwd Win Byts', 'Bwd IAT Max', 'Pkt Len Min', 'Idle Std', 'Bwd Pkt Len Min', 'Flow IAT Mean', 'Subflow Fwd Byts'], 'Adv sample 526': ['Init Bwd Win Byts', 'Pkt Len Min', 'Pkt Size Avg', 'Pkt Len Std', 'Pkt Len Max', 'Pkt Len Mean', 'Fwd Pkt Len Mean', 'Fwd Seg Size Avg', 'Bwd IAT Min', 'Fwd IAT Std'], 'Adv sample 527': ['SYN Flag Cnt', 'Init Bwd Win Byts', 'Pkt Len Min', 'Bwd Pkt Len Min', 'Idle Min', 'Down/Up Ratio', 'Fwd Seg Size Avg', 'Flow Duration', 'Fwd IAT Max', 'Flow IAT Max'], 'Adv sample 528': ['SYN Flag Cnt', 'Init Bwd Win Byts', 'ACK Flag Cnt', 'Idle Min', 'Bwd Pkt Len Mean', 'Idle Max', 'Idle Mean', 'Bwd Pkt Len Min', 'Flow Duration', 'Tot Bwd Pkts'], 'Adv sample 529': ['Bwd Pkts/s', 'Init Bwd Win Byts', 'Pkt Len Min', 'Down/Up Ratio', 'Bwd Pkt Len Min', 'Fwd IAT Mean', 'Fwd Pkt Len Min', 'Fwd Header Len', 'Fwd IAT Min', 'Pkt Len Mean'], 'Adv sample 530': ['SYN Flag Cnt', 'Init Bwd Win Byts', 'Pkt Len Min', 'FIN Flag Cnt', 'Down/Up Ratio', 'Flow IAT Max', 'Idle Min', 'Bwd Pkt Len Min', 'Idle Mean', 'Active Max'], 'Adv sample 531': ['Bwd Pkts/s', 'Init Bwd Win Byts', 'Pkt Len Min', 'Down/Up Ratio', 'Bwd Pkt Len Min', 'Fwd IAT Mean', 'Fwd Pkt Len Mean', 'Idle Max', 'Bwd Pkt Len Mean', 'Pkt Len Mean'], 'Adv sample 532': ['Pkt Len Min', 'Init Bwd Win Byts', 'Down/Up Ratio', 'Flow Duration', 'Bwd Pkts/s', 'Flow IAT Max', 'Bwd Pkt Len Min', 'Fwd IAT Tot', 'Flow IAT Std', 'Fwd IAT Max'], 'Adv sample 533': ['Init Bwd Win Byts', 'Pkt Len Min', 'Pkt Len Max', 'Pkt Size Avg', 'Pkt Len Mean', 'Pkt Len Std', 'Fwd Pkt Len Std', 'Fwd Seg Size Avg', 'Fwd Pkt Len Max', 'Fwd IAT Tot'], 'Adv sample 534': ['SYN Flag Cnt', 'Init Bwd Win Byts', 'ACK Flag Cnt', 'Idle Min', 'Idle Max', 'Bwd Pkt Len Std', 'Pkt Len Min', 'Bwd Pkt Len Min', 'Idle Mean', 'Flow IAT Max'], 'Adv sample 535': ['Pkt Len Min', 'Init Bwd Win Byts', 'Down/Up Ratio', 'Flow Duration', 'Bwd Pkt Len Min', 'Bwd Pkts/s', 'Flow IAT Max', 'Flow Pkts/s', 'Pkt Len Std', 'Idle Mean'], 'Adv sample 536': ['SYN Flag Cnt', 'Init Bwd Win Byts', 'Pkt Len Min', 'Idle Max', 'Bwd Pkt Len Min', 'Idle Min', 'Flow IAT Max', 'ACK Flag Cnt', 'Fwd IAT Max', 'Flow Pkts/s'], 'Adv sample 537': ['ACK Flag Cnt', 'Bwd IAT Std', 'Init Bwd Win Byts', 'Bwd IAT Max', 'Bwd IAT Tot', 'Flow IAT Mean', 'Fwd Seg Size Avg', 'Pkt Len Min', 'Fwd Pkt Len Mean', 'Fwd IAT Tot'], 'Adv sample 538': ['SYN Flag Cnt', 'Init Bwd Win Byts', 'Pkt Len Min', 'Idle Min', 'Pkt Len Max', 'Bwd Pkt Len Min', 'Down/Up Ratio', 'Pkt Len Mean', 'Flow IAT Max', 'Idle Mean'], 'Adv sample 539': ['SYN Flag Cnt', 'Init Bwd Win Byts', 'Pkt Len Min', 'Idle Min', 'Idle Max', 'Bwd Pkt Len Min', 'Fwd IAT Tot', 'Fwd IAT Min', 'Flow IAT Max', 'Idle Mean'], 'Adv sample 540': ['Pkt Len Min', 'Init Bwd Win Byts', 'Down/Up Ratio', 'Flow Duration', 'Flow IAT Max', 'Bwd Pkt Len Min', 'Flow IAT Std', 'Pkt Len Mean', 'Pkt Len Max', 'Idle Min'], 'Adv sample 541': ['Bwd Pkts/s', 'Pkt Len Min', 'Init Bwd Win Byts', 'Down/Up Ratio', 'Bwd Pkt Len Min', 'FIN Flag Cnt', 'Idle Min', 'Pkt Len Mean', 'Flow Duration', 'Idle Mean'], 'Adv sample 542': ['Pkt Len Min', 'Init Bwd Win Byts', 'Down/Up Ratio', 'Flow Duration', 'Fwd IAT Max', 'Flow IAT Max', 'Bwd Pkts/s', 'Flow IAT Std', 'Bwd Pkt Len Min', 'Pkt Size Avg'], 'Adv sample 543': ['Pkt Len Min', 'Init Bwd Win Byts', 'Down/Up Ratio', 'Flow Duration', 'Bwd Pkts/s', 'Flow IAT Std', 'Fwd IAT Max', 'Flow IAT Max', 'PSH Flag Cnt', 'Flow Pkts/s'], 'Adv sample 544': ['Init Bwd Win Byts', 'Pkt Len Min', 'Pkt Len Mean', 'Pkt Len Std', 'Pkt Len Max', 'Pkt Size Avg', 'Fwd Pkt Len Max', 'Fwd Seg Size Avg', 'Flow Pkts/s', 'Fwd Pkt Len Mean'], 'Adv sample 545': ['SYN Flag Cnt', 'Init Bwd Win Byts', 'Idle Min', 'Pkt Len Min', 'Flow IAT Max', 'Bwd Pkt Len Min', 'Bwd Pkt Len Mean', 'Idle Mean', 'Idle Max', 'Fwd IAT Std'], 'Adv sample 546': ['Pkt Len Min', 'Init Bwd Win Byts', 'Down/Up Ratio', 'Flow IAT Max', 'Flow Duration', 'Bwd Pkts/s', 'Bwd Pkt Len Min', 'Pkt Len Max', 'Fwd IAT Tot', 'Pkt Len Mean'], 'Adv sample 547': ['Pkt Len Min', 'Init Bwd Win Byts', 'Down/Up Ratio', 'Flow Duration', 'Bwd Pkt Len Min', 'Flow IAT Std', 'Fwd IAT Max', 'Flow Pkts/s', 'FIN Flag Cnt', 'Flow IAT Max'], 'Adv sample 548': ['Bwd Pkts/s', 'Init Bwd Win Byts', 'Pkt Len Min', 'Down/Up Ratio', 'Bwd Pkt Len Min', 'Idle Max', 'Flow IAT Max', 'Fwd Pkt Len Mean', 'Fwd Pkt Len Min', 'Subflow Fwd Pkts'], 'Adv sample 549': ['Bwd Pkts/s', 'Pkt Len Min', 'Init Bwd Win Byts', 'Down/Up Ratio', 'Bwd Pkt Len Min', 'Flow Duration', 'Fwd IAT Max', 'Pkt Len Var', 'Idle Min', 'Fwd Pkt Len Min'], 'Adv sample 550': ['ACK Flag Cnt', 'Bwd IAT Std', 'Init Bwd Win Byts', 'Bwd IAT Max', 'Bwd IAT Tot', 'Flow IAT Mean', 'Pkt Len Min', 'Bwd Pkt Len Min', 'Fwd Pkts/s', 'Bwd Header Len'], 'Adv sample 551': ['ACK Flag Cnt', 'Bwd IAT Std', 'Init Bwd Win Byts', 'Bwd IAT Max', 'Bwd IAT Tot', 'Pkt Len Min', 'Bwd Pkt Len Mean', 'Bwd IAT Mean', 'Subflow Fwd Pkts', 'Bwd Pkt Len Min'], 'Adv sample 552': ['Pkt Len Min', 'Init Bwd Win Byts', 'Down/Up Ratio', 'Flow Duration', 'Flow IAT Std', 'FIN Flag Cnt', 'Bwd Pkt Len Min', 'Flow IAT Max', 'Fwd IAT Max', 'Pkt Len Max'], 'Adv sample 553': ['Bwd Pkts/s', 'Init Bwd Win Byts', 'Down/Up Ratio', 'Pkt Len Min', 'Bwd Pkt Len Min', 'Idle Min', 'Flow IAT Max', 'Pkt Size Avg', 'Subflow Bwd Pkts', 'Fwd IAT Std'], 'Adv sample 554': ['Pkt Len Min', 'Init Bwd Win Byts', 'Down/Up Ratio', 'Flow Duration', 'Flow IAT Std', 'Bwd Pkt Len Min', 'Flow IAT Max', 'Pkt Len Max', 'Pkt Len Mean', 'Flow Pkts/s'], 'Adv sample 555': ['Pkt Len Min', 'Init Bwd Win Byts', 'Down/Up Ratio', 'Flow Duration', 'Bwd Pkts/s', 'Flow IAT Std', 'Bwd Pkt Len Min', 'Flow IAT Max', 'PSH Flag Cnt', 'Pkt Len Mean'], 'Adv sample 556': ['Init Bwd Win Byts', 'Pkt Len Min', 'Pkt Len Std', 'Pkt Size Avg', 'Pkt Len Max', 'Flow Pkts/s', 'Pkt Len Mean', 'Fwd Pkt Len Mean', 'Fwd Seg Size Avg', 'Fwd Pkt Len Max'], 'Adv sample 557': ['Init Bwd Win Byts', 'Pkt Len Min', 'Pkt Len Max', 'Pkt Size Avg', 'Pkt Len Std', 'Pkt Len Mean', 'Fwd Pkt Len Max', 'Fwd Seg Size Avg', 'Flow Pkts/s', 'Fwd Pkt Len Mean'], 'Adv sample 558': ['Pkt Len Min', 'Init Bwd Win Byts', 'Pkt Len Mean', 'Pkt Len Max', 'Pkt Size Avg', 'Flow Pkts/s', 'Pkt Len Std', 'Fwd Pkt Len Mean', 'Fwd Seg Size Avg', 'Fwd Pkt Len Std'], 'Adv sample 559': ['Init Bwd Win Byts', 'Pkt Len Min', 'Pkt Len Max', 'Pkt Len Std', 'Pkt Len Mean', 'Pkt Size Avg', 'Fwd Pkt Len Max', 'Fwd Pkt Len Std', 'Down/Up Ratio', 'Flow Pkts/s'], 'Adv sample 560': ['SYN Flag Cnt', 'Init Bwd Win Byts', 'Pkt Len Min', 'Down/Up Ratio', 'Bwd Pkt Len Min', 'Idle Min', 'Idle Mean', 'Pkt Len Max', 'Active Mean', 'PSH Flag Cnt'], 'Adv sample 561': ['Bwd PSH Flags', 'Init Bwd Win Byts', 'Pkt Len Min', 'ACK Flag Cnt', 'Pkt Len Max', 'Down/Up Ratio', 'Pkt Size Avg', 'Pkt Len Mean', 'Pkt Len Std', 'Fwd Pkt Len Std'], 'Adv sample 562': ['Bwd Pkts/s', 'Init Bwd Win Byts', 'Pkt Len Min', 'Down/Up Ratio', 'Bwd Pkt Len Min', 'Pkt Len Mean', 'Flow Duration', 'Bwd IAT Min', 'Fwd IAT Tot', 'Subflow Bwd Pkts'], 'Adv sample 563': ['Pkt Len Min', 'Init Bwd Win Byts', 'Down/Up Ratio', 'Flow Duration', 'Flow IAT Std', 'FIN Flag Cnt', 'Bwd Pkt Len Min', 'Flow IAT Max', 'Pkt Len Max', 'Flow Pkts/s'], 'Adv sample 564': ['FIN Flag Cnt', 'Flow Pkts/s', 'Init Bwd Win Byts', 'Bwd Pkts/s', 'Pkt Len Min', 'Down/Up Ratio', 'Pkt Size Avg', 'Pkt Len Max', 'Pkt Len Mean', 'Bwd Pkt Len Min'], 'Adv sample 565': ['FIN Flag Cnt', 'Init Bwd Win Byts', 'Down/Up Ratio', 'Pkt Len Min', 'Bwd Pkt Len Min', 'Idle Max', 'Idle Min', 'Pkt Len Max', 'Pkt Size Avg', 'Flow Pkts/s'], 'Adv sample 566': ['SYN Flag Cnt', 'Init Bwd Win Byts', 'Pkt Len Min', 'Idle Min', 'Bwd Pkt Len Min', 'Down/Up Ratio', 'Pkt Len Max', 'Idle Max', 'Fwd Pkt Len Mean', 'Pkt Len Std'], 'Adv sample 567': ['SYN Flag Cnt', 'Init Bwd Win Byts', 'Idle Mean', 'Bwd Pkt Len Std', 'Idle Min', 'Bwd Seg Size Avg', 'Flow Duration', 'Tot Fwd Pkts', 'Tot Bwd Pkts', 'Bwd Pkt Len Max'], 'Adv sample 568': ['ACK Flag Cnt', 'Bwd IAT Std', 'Init Bwd Win Byts', 'Bwd IAT Tot', 'Bwd IAT Max', 'Flow IAT Mean', 'Pkt Len Min', 'Pkt Len Mean', 'Pkt Len Std', 'Pkt Len Var'], 'Adv sample 569': ['SYN Flag Cnt', 'Init Bwd Win Byts', 'Pkt Len Min', 'Bwd Pkt Len Min', 'Idle Min', 'Down/Up Ratio', 'Idle Mean', 'Pkt Len Mean', 'PSH Flag Cnt', 'Pkt Len Max'], 'Adv sample 570': ['SYN Flag Cnt', 'Init Bwd Win Byts', 'Pkt Len Min', 'Idle Min', 'Idle Max', 'Bwd Pkt Len Min', 'Idle Mean', 'Subflow Bwd Pkts', 'Fwd IAT Std', 'Pkt Len Var'], 'Adv sample 571': ['ACK Flag Cnt', 'Bwd IAT Std', 'Init Bwd Win Byts', 'Bwd IAT Tot', 'Bwd IAT Max', 'Flow IAT Mean', 'Bwd IAT Mean', 'Fwd IAT Std', 'Fwd Pkt Len Min', 'Flow IAT Min'], 'Adv sample 572': ['Bwd Pkts/s', 'Init Bwd Win Byts', 'Pkt Len Min', 'Down/Up Ratio', 'Flow Duration', 'Bwd Pkt Len Min', 'Pkt Len Max', 'Flow IAT Std', 'Fwd Pkt Len Max', 'Pkt Len Std'], 'Adv sample 573': ['SYN Flag Cnt', 'Init Bwd Win Byts', 'Pkt Len Min', 'FIN Flag Cnt', 'Down/Up Ratio', 'Bwd Pkt Len Min', 'Flow IAT Max', 'Fwd IAT Max', 'Idle Mean', 'ACK Flag Cnt'], 'Adv sample 574': ['Pkt Len Min', 'Init Bwd Win Byts', 'Down/Up Ratio', 'Flow Duration', 'Bwd Pkts/s', 'Flow IAT Max', 'Bwd Pkt Len Min', 'Pkt Len Mean', 'Fwd IAT Std', 'Idle Min'], 'Adv sample 575': ['Pkt Len Min', 'Init Bwd Win Byts', 'Down/Up Ratio', 'Flow Duration', 'Flow IAT Max', 'Bwd Pkt Len Min', 'FIN Flag Cnt', 'Fwd IAT Max', 'Pkt Len Mean', 'PSH Flag Cnt'], 'Adv sample 576': ['Init Bwd Win Byts', 'Pkt Len Min', 'Pkt Len Std', 'Pkt Size Avg', 'Pkt Len Max', 'Pkt Len Mean', 'Fwd Pkt Len Max', 'Flow Pkts/s', 'Fwd Seg Size Avg', 'Fwd Pkt Len Std'], 'Adv sample 577': ['SYN Flag Cnt', 'Init Bwd Win Byts', 'Pkt Len Min', 'Down/Up Ratio', 'Bwd Pkt Len Min', 'Idle Min', 'Pkt Len Max', 'Idle Max', 'Pkt Len Mean', 'Idle Mean'], 'Adv sample 578': ['FIN Flag Cnt', 'Flow Pkts/s', 'Init Bwd Win Byts', 'Pkt Len Min', 'Bwd Pkts/s', 'Down/Up Ratio', 'Pkt Len Max', 'Pkt Size Avg', 'Bwd Pkt Len Min', 'Pkt Len Std'], 'Adv sample 579': ['Init Bwd Win Byts', 'Pkt Len Min', 'Pkt Len Mean', 'Pkt Len Std', 'Pkt Size Avg', 'Pkt Len Max', 'Flow Pkts/s', 'Fwd Seg Size Avg', 'Fwd Pkt Len Mean', 'Fwd Pkt Len Std'], 'Adv sample 580': ['Pkt Len Min', 'Init Bwd Win Byts', 'Down/Up Ratio', 'Flow Duration', 'FIN Flag Cnt', 'Flow IAT Max', 'Flow IAT Std', 'Bwd Pkt Len Min', 'Pkt Size Avg', 'Fwd IAT Max'], 'Adv sample 581': ['Pkt Len Min', 'Init Bwd Win Byts', 'Down/Up Ratio', 'Flow Duration', 'Bwd Pkt Len Min', 'Fwd IAT Max', 'Bwd Pkts/s', 'Flow IAT Std', 'Pkt Len Max', 'Flow IAT Max'], 'Adv sample 582': ['SYN Flag Cnt', 'Init Bwd Win Byts', 'Pkt Len Min', 'Idle Min', 'Idle Max', 'Bwd Pkt Len Min', 'Flow Pkts/s', 'Fwd Pkt Len Min', 'Flow IAT Max', 'Idle Mean'], 'Adv sample 583': ['ACK Flag Cnt', 'Bwd IAT Std', 'Init Bwd Win Byts', 'Bwd IAT Tot', 'Bwd IAT Max', 'Flow IAT Mean', 'Bwd PSH Flags', 'Flow Byts/s', 'Pkt Len Min', 'Bwd Pkt Len Mean'], 'Adv sample 584': ['Pkt Len Min', 'Init Bwd Win Byts', 'Down/Up Ratio', 'Flow Duration', 'Flow IAT Max', 'Pkt Len Max', 'Bwd Pkt Len Min', 'Fwd IAT Max', 'Fwd IAT Std', 'Pkt Len Mean'], 'Adv sample 585': ['FIN Flag Cnt', 'Flow Pkts/s', 'Init Bwd Win Byts', 'Bwd Pkts/s', 'Pkt Len Min', 'Down/Up Ratio', 'Pkt Len Mean', 'Pkt Size Avg', 'Pkt Len Std', 'Bwd IAT Min'], 'Adv sample 586': ['ACK Flag Cnt', 'Bwd IAT Std', 'Init Bwd Win Byts', 'Bwd IAT Max', 'Bwd IAT Tot', 'Flow IAT Mean', 'Active Max', 'Bwd Pkt Len Min', 'Pkt Size Avg', 'Pkt Len Min'], 'Adv sample 587': ['ACK Flag Cnt', 'Bwd IAT Std', 'Init Bwd Win Byts', 'Bwd IAT Max', 'Bwd IAT Tot', 'Pkt Len Min', 'Active Std', 'Pkt Len Std', 'Bwd IAT Min', 'Pkt Len Mean'], 'Adv sample 588': ['SYN Flag Cnt', 'Init Bwd Win Byts', 'Pkt Len Min', 'FIN Flag Cnt', 'Flow IAT Max', 'Down/Up Ratio', 'Idle Min', 'Bwd Pkt Len Min', 'Fwd IAT Max', 'Idle Mean'], 'Adv sample 589': ['SYN Flag Cnt', 'Init Bwd Win Byts', 'Pkt Len Min', 'Idle Min', 'Down/Up Ratio', 'Fwd Pkt Len Max', 'Bwd Pkt Len Min', 'Flow Pkts/s', 'Pkt Len Mean', 'Pkt Len Max'], 'Adv sample 590': ['SYN Flag Cnt', 'Init Bwd Win Byts', 'Fwd IAT Tot', 'Pkt Len Min', 'Bwd Pkt Len Max', 'Bwd Pkt Len Std', 'Flow IAT Max', 'Flow IAT Min', 'Flow Duration', 'Tot Fwd Pkts'], 'Adv sample 591': ['SYN Flag Cnt', 'Init Bwd Win Byts', 'ACK Flag Cnt', 'Bwd Pkt Len Std', 'Bwd Pkt Len Min', 'Flow IAT Std', 'Idle Max', 'Pkt Len Min', 'Idle Mean', 'Bwd PSH Flags'], 'Adv sample 592': ['SYN Flag Cnt', 'Init Bwd Win Byts', 'Pkt Len Min', 'Down/Up Ratio', 'Idle Min', 'Bwd Pkt Len Min', 'Idle Mean', 'Fwd Pkt Len Max', 'Flow Duration', 'Flow Pkts/s'], 'Adv sample 593': ['SYN Flag Cnt', 'Init Bwd Win Byts', 'Pkt Len Min', 'Down/Up Ratio', 'Bwd Pkt Len Min', 'Idle Min', 'Idle Max', 'Flow IAT Max', 'Idle Mean', 'Fwd IAT Max'], 'Adv sample 594': ['Pkt Len Min', 'Down/Up Ratio', 'Init Bwd Win Byts', 'Flow Duration', 'Bwd Pkt Len Min', 'Flow IAT Max', 'Fwd IAT Max', 'Bwd Pkts/s', 'Flow IAT Std', 'Pkt Len Max'], 'Adv sample 595': ['SYN Flag Cnt', 'Init Bwd Win Byts', 'Pkt Len Min', 'Bwd Pkt Len Min', 'Down/Up Ratio', 'Idle Mean', 'Idle Min', 'Idle Max', 'Pkt Len Max', 'PSH Flag Cnt'], 'Adv sample 596': ['Init Bwd Win Byts', 'Pkt Len Min', 'Pkt Size Avg', 'Pkt Len Max', 'Pkt Len Std', 'Pkt Len Mean', 'Fwd Pkt Len Mean', 'Flow Pkts/s', 'Fwd Seg Size Avg', 'Fwd Pkt Len Max'], 'Adv sample 597': ['Pkt Len Min', 'Init Bwd Win Byts', 'Down/Up Ratio', 'Flow Duration', 'Bwd Pkt Len Min', 'Flow IAT Max', 'Flow IAT Std', 'Fwd IAT Tot', 'FIN Flag Cnt', 'Fwd IAT Max'], 'Adv sample 598': ['Pkt Len Min', 'Down/Up Ratio', 'Init Bwd Win Byts', 'Flow Duration', 'Bwd Pkt Len Min', 'Flow IAT Max', 'Pkt Size Avg', 'Fwd IAT Max', 'Fwd Seg Size Avg', 'Fwd IAT Std'], 'Adv sample 599': ['Init Bwd Win Byts', 'URG Flag Cnt', 'FIN Flag Cnt', 'Down/Up Ratio', 'Bwd PSH Flags', 'Pkt Len Min', 'Bwd URG Flags', 'Flow IAT Max', 'Bwd Pkt Len Min', 'Idle Mean'], 'Adv sample 600': ['ACK Flag Cnt', 'Bwd IAT Std', 'Init Bwd Win Byts', 'Bwd IAT Tot', 'Bwd IAT Max', 'Bwd Pkt Len Min', 'Bwd IAT Min', 'Flow IAT Mean', 'Fwd IAT Std', 'Active Max'], 'Adv sample 601': ['Pkt Len Min', 'Init Bwd Win Byts', 'Down/Up Ratio', 'Flow Duration', 'Bwd Pkts/s', 'Flow IAT Std', 'Bwd Pkt Len Min', 'Pkt Len Max', 'Flow IAT Max', 'Idle Min'], 'Adv sample 602': ['Bwd Pkts/s', 'Init Bwd Win Byts', 'Pkt Len Min', 'Down/Up Ratio', 'Bwd Pkt Len Min', 'Flow IAT Std', 'Pkt Len Std', 'PSH Flag Cnt', 'Active Std', 'Bwd PSH Flags'], 'Adv sample 603': ['SYN Flag Cnt', 'Init Bwd Win Byts', 'ACK Flag Cnt', 'Idle Min', 'Fwd IAT Min', 'Flow IAT Max', 'Bwd Pkt Len Max', 'URG Flag Cnt', 'Pkt Len Var', 'Bwd Pkt Len Mean'], 'Adv sample 604': ['Bwd Pkts/s', 'Init Bwd Win Byts', 'Pkt Len Min', 'Down/Up Ratio', 'Flow Duration', 'Bwd Pkt Len Min', 'Flow IAT Std', 'Pkt Len Mean', 'Fwd IAT Max', 'Pkt Len Std'], 'Adv sample 605': ['Pkt Len Min', 'Init Bwd Win Byts', 'Down/Up Ratio', 'Flow Duration', 'Fwd IAT Max', 'Flow IAT Std', 'Pkt Len Max', 'Flow IAT Max', 'Bwd Pkts/s', 'Bwd Pkt Len Min'], 'Adv sample 606': ['SYN Flag Cnt', 'Init Bwd Win Byts', 'Bwd IAT Std', 'Bwd IAT Max', 'Bwd Pkt Len Max', 'Bwd Pkt Len Std', 'Bwd Pkt Len Mean', 'Bwd Seg Size Avg', 'Bwd Pkt Len Min', 'Idle Max'], 'Adv sample 607': ['SYN Flag Cnt', 'Init Bwd Win Byts', 'Pkt Len Min', 'Down/Up Ratio', 'Idle Min', 'Flow IAT Max', 'PSH Flag Cnt', 'Fwd IAT Tot', 'Idle Max', 'Pkt Len Std'], 'Adv sample 608': ['Pkt Len Min', 'Init Bwd Win Byts', 'Down/Up Ratio', 'Flow Duration', 'Flow IAT Std', 'Bwd Pkts/s', 'Flow IAT Max', 'Fwd IAT Max', 'Fwd IAT Tot', 'Pkt Len Max'], 'Adv sample 609': ['SYN Flag Cnt', 'Init Bwd Win Byts', 'Pkt Len Min', 'Idle Max', 'Idle Min', 'Bwd Pkt Len Min', 'Idle Mean', 'ACK Flag Cnt', 'PSH Flag Cnt', 'Flow Pkts/s'], 'Adv sample 610': ['Pkt Len Min', 'Init Bwd Win Byts', 'Down/Up Ratio', 'Flow Duration', 'Flow IAT Max', 'Flow IAT Std', 'Bwd Pkt Len Min', 'Pkt Len Max', 'Pkt Len Std', 'Fwd IAT Max'], 'Adv sample 611': ['SYN Flag Cnt', 'Init Bwd Win Byts', 'Pkt Len Min', 'Idle Min', 'Idle Max', 'Bwd Pkt Len Min', 'Idle Mean', 'Flow IAT Max', 'Fwd Pkts/s', 'PSH Flag Cnt'], 'Adv sample 612': ['Pkt Len Min', 'Init Bwd Win Byts', 'Down/Up Ratio', 'Flow Duration', 'Fwd IAT Max', 'Flow IAT Std', 'Flow IAT Max', 'Pkt Len Max', 'Bwd Pkt Len Min', 'Fwd Pkt Len Max'], 'Adv sample 613': ['Pkt Len Min', 'Init Bwd Win Byts', 'Down/Up Ratio', 'Flow Duration', 'Flow IAT Max', 'Fwd IAT Max', 'FIN Flag Cnt', 'PSH Flag Cnt', 'Bwd Pkt Len Min', 'Flow IAT Std'], 'Adv sample 614': ['Bwd Pkts/s', 'Init Bwd Win Byts', 'Down/Up Ratio', 'Pkt Len Min', 'Bwd Pkt Len Min', 'Flow IAT Max', 'Flow Duration', 'Bwd Seg Size Avg', 'PSH Flag Cnt', 'Pkt Len Max'], 'Adv sample 615': ['Pkt Len Min', 'Init Bwd Win Byts', 'Down/Up Ratio', 'Flow Duration', 'Flow IAT Max', 'Bwd Pkts/s', 'Flow IAT Std', 'Pkt Len Max', 'Bwd Pkt Len Min', 'Fwd IAT Max'], 'Adv sample 616': ['SYN Flag Cnt', 'Init Bwd Win Byts', 'Pkt Len Min', 'Down/Up Ratio', 'Idle Min', 'PSH Flag Cnt', 'Bwd Pkt Len Min', 'Flow IAT Max', 'Flow Pkts/s', 'Idle Max'], 'Adv sample 617': ['Bwd Pkts/s', 'Pkt Len Min', 'Init Bwd Win Byts', 'Down/Up Ratio', 'Bwd Pkt Len Min', 'Idle Mean', 'Flow IAT Max', 'Fwd Pkt Len Max', 'Pkt Size Avg', 'Fwd IAT Tot'], 'Adv sample 618': ['ACK Flag Cnt', 'Bwd IAT Std', 'Init Bwd Win Byts', 'Bwd IAT Max', 'Bwd IAT Tot', 'Flow IAT Mean', 'Pkt Len Min', 'Fwd Header Len', 'Subflow Fwd Pkts', 'Bwd IAT Min'], 'Adv sample 619': ['Pkt Len Min', 'Init Bwd Win Byts', 'Down/Up Ratio', 'Flow Duration', 'Flow IAT Max', 'Flow IAT Std', 'Bwd Pkt Len Min', 'FIN Flag Cnt', 'Flow Pkts/s', 'Pkt Size Avg'], 'Adv sample 620': ['Pkt Len Min', 'Init Bwd Win Byts', 'Down/Up Ratio', 'Flow Duration', 'Flow IAT Max', 'Flow IAT Std', 'Pkt Size Avg', 'Bwd Pkt Len Min', 'Fwd IAT Max', 'Pkt Len Max'], 'Adv sample 621': ['Pkt Len Min', 'Init Bwd Win Byts', 'Down/Up Ratio', 'Flow Duration', 'Flow IAT Max', 'Flow IAT Std', 'Bwd Pkt Len Min', 'PSH Flag Cnt', 'Bwd Pkts/s', 'Fwd IAT Max'], 'Adv sample 622': ['SYN Flag Cnt', 'Init Bwd Win Byts', 'Bwd Pkt Len Max', 'Flow IAT Max', 'Bwd Pkt Len Std', 'Idle Min', 'Fwd IAT Mean', 'Idle Mean', 'Fwd IAT Tot', 'Bwd IAT Mean'], 'Adv sample 623': ['Init Bwd Win Byts', 'Pkt Len Max', 'Pkt Len Min', 'Pkt Len Mean', 'Pkt Len Std', 'Pkt Size Avg', 'Flow Pkts/s', 'Fwd Pkt Len Mean', 'Fwd Seg Size Avg', 'Fwd Pkt Len Max'], 'Adv sample 624': ['Pkt Len Min', 'Init Bwd Win Byts', 'Down/Up Ratio', 'Flow Duration', 'Bwd Pkt Len Min', 'Flow IAT Max', 'Flow IAT Std', 'Pkt Size Avg', 'PSH Flag Cnt', 'Fwd IAT Max'], 'Adv sample 625': ['FIN Flag Cnt', 'Init Bwd Win Byts', 'Flow Pkts/s', 'Bwd Pkts/s', 'Pkt Len Min', 'Down/Up Ratio', 'Pkt Size Avg', 'Pkt Len Mean', 'Bwd Pkt Len Min', 'Pkt Len Std'], 'Adv sample 626': ['Pkt Len Min', 'Init Bwd Win Byts', 'Down/Up Ratio', 'Flow Duration', 'FIN Flag Cnt', 'Flow Pkts/s', 'Flow IAT Std', 'Flow IAT Max', 'Fwd IAT Max', 'Bwd Pkt Len Min'], 'Adv sample 627': ['Init Bwd Win Byts', 'URG Flag Cnt', 'Down/Up Ratio', 'FIN Flag Cnt', 'Bwd PSH Flags', 'Bwd URG Flags', 'Pkt Len Min', 'Flow Pkts/s', 'Active Max', 'Pkt Size Avg'], 'Adv sample 628': ['Pkt Len Min', 'Down/Up Ratio', 'Init Bwd Win Byts', 'Flow Duration', 'Bwd Pkt Len Min', 'Pkt Size Avg', 'Flow IAT Max', 'Pkt Len Std', 'Flow IAT Std', 'FIN Flag Cnt'], 'Adv sample 629': ['SYN Flag Cnt', 'Init Bwd Win Byts', 'Pkt Len Min', 'Down/Up Ratio', 'Idle Min', 'Bwd Pkt Len Min', 'FIN Flag Cnt', 'Idle Max', 'Flow IAT Max', 'Idle Mean'], 'Adv sample 630': ['Bwd Pkts/s', 'Init Bwd Win Byts', 'Pkt Len Min', 'Down/Up Ratio', 'Bwd Pkt Len Min', 'FIN Flag Cnt', 'Fwd Pkt Len Max', 'Fwd IAT Tot', 'Flow IAT Max', 'Fwd IAT Max'], 'Adv sample 631': ['SYN Flag Cnt', 'Init Bwd Win Byts', 'Fwd Pkt Len Std', 'Bwd IAT Tot', 'Bwd Pkt Len Max', 'Flow Duration', 'Tot Fwd Pkts', 'Tot Bwd Pkts', 'TotLen Fwd Pkts', 'TotLen Bwd Pkts'], 'Adv sample 632': ['Bwd Pkts/s', 'Init Bwd Win Byts', 'Pkt Len Min', 'Down/Up Ratio', 'Bwd Pkt Len Min', 'Flow IAT Max', 'Fwd IAT Tot', 'Fwd Seg Size Avg', 'Fwd IAT Max', 'Fwd Act Data Pkts'], 'Adv sample 633': ['Bwd PSH Flags', 'Init Bwd Win Byts', 'Down/Up Ratio', 'Pkt Len Min', 'Pkt Len Max', 'ACK Flag Cnt', 'Pkt Len Std', 'Pkt Len Mean', 'Pkt Size Avg', 'Fwd IAT Tot'], 'Adv sample 634': ['Bwd Pkts/s', 'Init Bwd Win Byts', 'Down/Up Ratio', 'Pkt Len Min', 'Bwd Pkt Len Min', 'Fwd Pkt Len Min', 'FIN Flag Cnt', 'Pkt Len Max', 'Bwd IAT Min', 'Fwd IAT Std'], 'Adv sample 635': ['FIN Flag Cnt', 'Flow Pkts/s', 'Init Bwd Win Byts', 'Pkt Len Min', 'Bwd Pkts/s', 'Down/Up Ratio', 'Bwd Pkt Len Min', 'Pkt Len Mean', 'Subflow Fwd Byts', 'PSH Flag Cnt'], 'Adv sample 636': ['SYN Flag Cnt', 'Init Bwd Win Byts', 'Bwd Seg Size Avg', 'Idle Max', 'Bwd Pkt Len Std', 'Fwd IAT Max', 'Pkt Len Min', 'Active Min', 'Idle Mean', 'Flow Duration'], 'Adv sample 637': ['SYN Flag Cnt', 'Init Bwd Win Byts', 'Pkt Len Min', 'Idle Max', 'Idle Min', 'Bwd Pkt Len Min', 'Idle Mean', 'Subflow Fwd Pkts', 'Fwd IAT Tot', 'Flow Pkts/s'], 'Adv sample 638': ['Pkt Len Min', 'Init Bwd Win Byts', 'Down/Up Ratio', 'Flow Duration', 'Flow IAT Max', 'Bwd Pkt Len Min', 'Fwd IAT Max', 'Flow IAT Std', 'FIN Flag Cnt', 'Flow Pkts/s'], 'Adv sample 639': ['Bwd Pkts/s', 'Init Bwd Win Byts', 'Down/Up Ratio', 'Pkt Len Min', 'Bwd Pkt Len Min', 'Flow IAT Max', 'PSH Flag Cnt', 'Flow Duration', 'Idle Mean', 'Fwd Pkt Len Max'], 'Adv sample 640': ['Bwd PSH Flags', 'Init Bwd Win Byts', 'Down/Up Ratio', 'Pkt Len Min', 'Pkt Len Max', 'ACK Flag Cnt', 'Pkt Len Std', 'Pkt Len Mean', 'Pkt Size Avg', 'Bwd Pkt Len Std'], 'Adv sample 641': ['SYN Flag Cnt', 'Init Bwd Win Byts', 'Pkt Len Min', 'Idle Max', 'Bwd Pkt Len Min', 'Idle Min', 'Flow IAT Max', 'Fwd IAT Max', 'Flow Duration', 'Idle Mean'], 'Adv sample 642': ['SYN Flag Cnt', 'Init Bwd Win Byts', 'ACK Flag Cnt', 'Tot Fwd Pkts', 'Pkt Len Min', 'Bwd Pkt Len Std', 'Bwd Pkt Len Mean', 'Flow Duration', 'Tot Bwd Pkts', 'TotLen Fwd Pkts'], 'Adv sample 643': ['SYN Flag Cnt', 'Init Bwd Win Byts', 'Pkt Len Min', 'Down/Up Ratio', 'FIN Flag Cnt', 'Flow IAT Max', 'PSH Flag Cnt', 'Idle Min', 'Bwd Pkt Len Min', 'Fwd IAT Tot'], 'Adv sample 644': ['Bwd Pkts/s', 'Init Bwd Win Byts', 'Down/Up Ratio', 'Pkt Len Min', 'Bwd Pkt Len Min', 'Fwd IAT Max', 'Flow Duration', 'Pkt Len Mean', 'Fwd Act Data Pkts', 'Idle Min'], 'Adv sample 645': ['SYN Flag Cnt', 'Init Bwd Win Byts', 'Pkt Len Min', 'Idle Min', 'Idle Max', 'Bwd Pkt Len Min', 'Bwd IAT Mean', 'ACK Flag Cnt', 'Idle Mean', 'Active Mean'], 'Adv sample 646': ['SYN Flag Cnt', 'Init Bwd Win Byts', 'Pkt Len Min', 'FIN Flag Cnt', 'Down/Up Ratio', 'Bwd Pkt Len Min', 'ACK Flag Cnt', 'Idle Min', 'Flow Duration', 'Flow IAT Max'], 'Adv sample 647': ['SYN Flag Cnt', 'Init Bwd Win Byts', 'Pkt Len Min', 'Down/Up Ratio', 'FIN Flag Cnt', 'Bwd Pkt Len Min', 'Flow IAT Max', 'Idle Min', 'ACK Flag Cnt', 'Idle Mean'], 'Adv sample 648': ['SYN Flag Cnt', 'Init Bwd Win Byts', 'Pkt Len Min', 'Bwd Pkt Len Min', 'Pkt Len Mean', 'Down/Up Ratio', 'Idle Max', 'Fwd Pkt Len Max', 'Idle Min', 'Flow Duration'], 'Adv sample 649': ['ACK Flag Cnt', 'Bwd IAT Std', 'Init Bwd Win Byts', 'Bwd IAT Max', 'Bwd IAT Tot', 'Flow IAT Mean', 'Pkt Len Min', 'TotLen Fwd Pkts', 'Pkt Len Var', 'Fwd Pkt Len Min'], 'Adv sample 650': ['SYN Flag Cnt', 'Init Bwd Win Byts', 'Pkt Len Min', 'FIN Flag Cnt', 'Bwd Pkt Len Min', 'Down/Up Ratio', 'Flow IAT Max', 'Fwd Pkt Len Mean', 'Flow Duration', 'Subflow Fwd Byts'], 'Adv sample 651': ['FIN Flag Cnt', 'Flow Pkts/s', 'Init Bwd Win Byts', 'Pkt Len Min', 'Bwd Pkts/s', 'Down/Up Ratio', 'Pkt Len Mean', 'Pkt Len Std', 'Fwd Pkt Len Max', 'Bwd Pkt Len Min'], 'Adv sample 652': ['Flow Pkts/s', 'Init Bwd Win Byts', 'FIN Flag Cnt', 'Bwd Pkts/s', 'Pkt Len Min', 'Down/Up Ratio', 'Pkt Len Std', 'Pkt Len Mean', 'Bwd IAT Min', 'Flow Byts/s'], 'Adv sample 653': ['SYN Flag Cnt', 'Init Bwd Win Byts', 'Pkt Len Min', 'Bwd Pkt Len Min', 'Down/Up Ratio', 'Idle Min', 'Flow IAT Max', 'Bwd Seg Size Avg', 'Pkt Len Max', 'Fwd Pkt Len Max'], 'Adv sample 654': ['SYN Flag Cnt', 'Init Bwd Win Byts', 'Bwd Pkt Len Max', 'Idle Min', 'Bwd Seg Size Avg', 'Bwd PSH Flags', 'Idle Std', 'Fwd Pkts/s', 'Subflow Bwd Pkts', 'Bwd Pkt Len Std'], 'Adv sample 655': ['Init Bwd Win Byts', 'Pkt Len Min', 'Pkt Len Max', 'Pkt Size Avg', 'Pkt Len Mean', 'Pkt Len Std', 'Fwd Pkt Len Max', 'Fwd Pkt Len Std', 'Fwd Pkt Len Mean', 'Fwd Seg Size Avg'], 'Adv sample 656': ['Pkt Len Min', 'Init Bwd Win Byts', 'Down/Up Ratio', 'Flow Duration', 'Flow IAT Max', 'Bwd Pkt Len Min', 'Bwd Pkts/s', 'Flow IAT Std', 'Fwd IAT Max', 'Pkt Size Avg'], 'Adv sample 657': ['Init Bwd Win Byts', 'Pkt Len Min', 'Pkt Size Avg', 'Pkt Len Max', 'Pkt Len Mean', 'Flow Pkts/s', 'Pkt Len Std', 'Fwd Seg Size Avg', 'Fwd Pkt Len Mean', 'Fwd Pkt Len Max'], 'Adv sample 658': ['Pkt Len Min', 'Init Bwd Win Byts', 'Down/Up Ratio', 'Flow Duration', 'Flow IAT Max', 'FIN Flag Cnt', 'Flow IAT Std', 'Bwd Pkt Len Min', 'Pkt Len Max', 'Pkt Size Avg'], 'Adv sample 659': ['SYN Flag Cnt', 'Init Bwd Win Byts', 'Bwd Pkt Len Max', 'Bwd Pkt Len Std', 'Flow Duration', 'Tot Fwd Pkts', 'Tot Bwd Pkts', 'TotLen Fwd Pkts', 'TotLen Bwd Pkts', 'Bwd Pkt Len Min'], 'Adv sample 660': ['ACK Flag Cnt', 'Bwd IAT Std', 'Bwd IAT Max', 'Init Bwd Win Byts', 'Bwd IAT Tot', 'Flow IAT Mean', 'Pkt Len Min', 'Bwd Pkt Len Min', 'Bwd IAT Mean', 'Pkt Size Avg'], 'Adv sample 661': ['Pkt Len Min', 'Init Bwd Win Byts', 'Down/Up Ratio', 'Flow Duration', 'Bwd Pkts/s', 'Flow IAT Max', 'Pkt Len Max', 'Pkt Size Avg', 'Fwd IAT Max', 'Fwd IAT Tot'], 'Adv sample 662': ['Pkt Len Min', 'Init Bwd Win Byts', 'Pkt Size Avg', 'Pkt Len Mean', 'Pkt Len Std', 'Flow Pkts/s', 'Pkt Len Max', 'Fwd Seg Size Avg', 'Fwd Pkt Len Max', 'Fwd Pkt Len Mean'], 'Adv sample 663': ['SYN Flag Cnt', 'Init Bwd Win Byts', 'Idle Mean', 'Idle Max', 'Active Min', 'Flow Duration', 'Tot Fwd Pkts', 'Tot Bwd Pkts', 'TotLen Fwd Pkts', 'Fwd Pkt Len Max'], 'Adv sample 664': ['Flow Pkts/s', 'Init Bwd Win Byts', 'FIN Flag Cnt', 'Pkt Len Min', 'Bwd Pkts/s', 'Down/Up Ratio', 'Pkt Len Std', 'Bwd Pkt Len Min', 'Pkt Len Mean', 'Pkt Size Avg'], 'Adv sample 665': ['Pkt Len Min', 'Init Bwd Win Byts', 'Down/Up Ratio', 'Flow Duration', 'Bwd Pkt Len Min', 'Flow IAT Max', 'Flow Pkts/s', 'Flow IAT Std', 'Pkt Len Max', 'Idle Min'], 'Adv sample 666': ['Bwd IAT Std', 'ACK Flag Cnt', 'Bwd IAT Max', 'Flow IAT Mean', 'Bwd IAT Tot', 'Bwd Pkt Len Mean', 'Pkt Len Min', 'Pkt Len Std', 'Fwd IAT Max', 'Bwd Seg Size Avg'], 'Adv sample 667': ['ACK Flag Cnt', 'Bwd IAT Std', 'Bwd IAT Tot', 'Init Bwd Win Byts', 'Bwd IAT Max', 'Pkt Size Avg', 'Flow IAT Mean', 'Pkt Len Std', 'Pkt Len Min', 'URG Flag Cnt'], 'Adv sample 668': ['Pkt Len Min', 'Init Bwd Win Byts', 'Down/Up Ratio', 'Flow Duration', 'Flow IAT Std', 'Bwd Pkt Len Min', 'Flow Pkts/s', 'Pkt Len Mean', 'Pkt Size Avg', 'Pkt Len Max'], 'Adv sample 669': ['FIN Flag Cnt', 'Flow Pkts/s', 'Init Bwd Win Byts', 'Pkt Len Min', 'Down/Up Ratio', 'Bwd Pkts/s', 'Bwd Pkt Len Min', 'Pkt Len Mean', 'Pkt Size Avg', 'URG Flag Cnt'], 'Adv sample 670': ['Pkt Len Min', 'Init Bwd Win Byts', 'Down/Up Ratio', 'Flow Duration', 'Bwd Pkts/s', 'Flow IAT Max', 'Bwd Pkt Len Min', 'Flow IAT Std', 'Fwd IAT Max', 'Pkt Len Std'], 'Adv sample 671': ['Pkt Len Min', 'Init Bwd Win Byts', 'Down/Up Ratio', 'Flow Duration', 'Bwd Pkts/s', 'Flow IAT Std', 'Flow IAT Max', 'Pkt Size Avg', 'Bwd Pkt Len Min', 'PSH Flag Cnt'], 'Adv sample 672': ['Pkt Len Min', 'Init Bwd Win Byts', 'Down/Up Ratio', 'Flow Duration', 'Flow IAT Max', 'Bwd Pkts/s', 'Fwd IAT Max', 'Pkt Len Max', 'Pkt Len Mean', 'Flow Pkts/s'], 'Adv sample 673': ['Init Bwd Win Byts', 'Pkt Len Min', 'Pkt Len Max', 'Pkt Len Std', 'Pkt Len Mean', 'Pkt Size Avg', 'Fwd Seg Size Avg', 'Fwd Pkt Len Mean', 'Flow Pkts/s', 'Fwd Pkt Len Max'], 'Adv sample 674': ['Fwd IAT Min', 'ACK Flag Cnt', 'Down/Up Ratio', 'Init Bwd Win Byts', 'Bwd IAT Max', 'Pkt Len Min', 'Bwd IAT Tot', 'Pkt Len Std', 'Pkt Len Max', 'Bwd IAT Mean'], 'Adv sample 675': ['Pkt Len Min', 'Init Bwd Win Byts', 'Down/Up Ratio', 'Flow Duration', 'Flow IAT Max', 'Bwd Pkt Len Min', 'Flow IAT Std', 'FIN Flag Cnt', 'Pkt Len Mean', 'Idle Mean'], 'Adv sample 676': ['Pkt Len Min', 'Down/Up Ratio', 'Init Bwd Win Byts', 'Flow IAT Max', 'Flow Duration', 'Bwd Pkt Len Min', 'Flow IAT Std', 'Pkt Len Std', 'Pkt Len Max', 'Fwd IAT Tot'], 'Adv sample 677': ['Pkt Len Min', 'Down/Up Ratio', 'Init Bwd Win Byts', 'Flow Duration', 'Flow IAT Max', 'Bwd Pkt Len Min', 'Bwd Pkts/s', 'Flow IAT Std', 'Flow Pkts/s', 'Fwd IAT Tot'], 'Adv sample 678': ['SYN Flag Cnt', 'Init Bwd Win Byts', 'Bwd Pkt Len Std', 'Bwd Pkt Len Max', 'Bwd Pkt Len Mean', 'ACK Flag Cnt', 'Bwd Seg Size Avg', 'Active Mean', 'Idle Min', 'Tot Fwd Pkts'], 'Adv sample 679': ['Pkt Len Min', 'Init Bwd Win Byts', 'Down/Up Ratio', 'Flow Duration', 'Bwd Pkt Len Min', 'Flow IAT Std', 'Flow IAT Max', 'Fwd IAT Max', 'Fwd Pkt Len Std', 'FIN Flag Cnt'], 'Adv sample 680': ['Init Bwd Win Byts', 'Pkt Len Min', 'Pkt Len Max', 'Pkt Len Std', 'Pkt Size Avg', 'Pkt Len Mean', 'Fwd Pkt Len Max', 'Fwd Pkt Len Std', 'Flow Pkts/s', 'Fwd Seg Size Avg'], 'Adv sample 681': ['Init Bwd Win Byts', 'URG Flag Cnt', 'FIN Flag Cnt', 'Down/Up Ratio', 'Pkt Len Min', 'Bwd PSH Flags', 'Bwd URG Flags', 'Pkt Len Std', 'Pkt Len Max', 'Idle Min'], 'Adv sample 682': ['Bwd Pkts/s', 'Init Bwd Win Byts', 'Pkt Len Min', 'Down/Up Ratio', 'Bwd Pkt Len Min', 'FIN Flag Cnt', 'Pkt Len Mean', 'Flow IAT Max', 'Pkt Len Max', 'PSH Flag Cnt'], 'Adv sample 683': ['SYN Flag Cnt', 'Init Bwd Win Byts', 'Pkt Len Min', 'Down/Up Ratio', 'Idle Min', 'Bwd Pkt Len Min', 'Flow IAT Max', 'Pkt Len Mean', 'Bwd Pkt Len Std', 'Pkt Len Std'], 'Adv sample 684': ['FIN Flag Cnt', 'Flow Pkts/s', 'Init Bwd Win Byts', 'Pkt Len Min', 'Down/Up Ratio', 'Fwd IAT Min', 'Flow IAT Max', 'Bwd PSH Flags', 'Bwd IAT Std', 'Flow Duration'], 'Adv sample 685': ['SYN Flag Cnt', 'Init Bwd Win Byts', 'Pkt Len Min', 'Down/Up Ratio', 'Bwd Pkt Len Min', 'Idle Min', 'Idle Mean', 'Flow IAT Max', 'Fwd Pkts/s', 'Idle Max'], 'Adv sample 686': ['FIN Flag Cnt', 'Flow Pkts/s', 'Init Bwd Win Byts', 'Bwd Pkts/s', 'Pkt Len Min', 'Down/Up Ratio', 'Pkt Len Max', 'Pkt Size Avg', 'Pkt Len Std', 'Pkt Len Mean'], 'Adv sample 687': ['Pkt Len Min', 'Init Bwd Win Byts', 'Down/Up Ratio', 'Flow Duration', 'Flow IAT Max', 'FIN Flag Cnt', 'Idle Min', 'Bwd Pkt Len Min', 'Flow IAT Std', 'Fwd IAT Max'], 'Adv sample 688': ['Bwd Pkts/s', 'Init Bwd Win Byts', 'Pkt Len Min', 'Down/Up Ratio', 'Bwd Pkt Len Min', 'Idle Min', 'Flow Duration', 'Idle Max', 'Fwd IAT Max', 'Flow IAT Max'], 'Adv sample 689': ['Pkt Len Min', 'Init Bwd Win Byts', 'Down/Up Ratio', 'Flow Duration', 'Bwd Pkt Len Min', 'Flow IAT Std', 'Flow IAT Max', 'Pkt Len Max', 'Fwd IAT Max', 'FIN Flag Cnt'], 'Adv sample 690': ['Bwd Pkts/s', 'Init Bwd Win Byts', 'Pkt Len Min', 'Down/Up Ratio', 'Bwd Pkt Len Min', 'Flow Duration', 'Active Max', 'Pkt Len Mean', 'Fwd IAT Std', 'Bwd IAT Min'], 'Adv sample 691': ['SYN Flag Cnt', 'Init Bwd Win Byts', 'Bwd Pkt Len Max', 'Idle Min', 'Bwd Pkt Len Std', 'Flow Duration', 'Tot Fwd Pkts', 'Tot Bwd Pkts', 'TotLen Fwd Pkts', 'TotLen Bwd Pkts'], 'Adv sample 692': ['Pkt Len Min', 'Init Bwd Win Byts', 'Down/Up Ratio', 'Flow Duration', 'Flow IAT Max', 'Fwd IAT Max', 'Flow IAT Std', 'Bwd Pkts/s', 'Pkt Len Std', 'Fwd IAT Std'], 'Adv sample 693': ['Init Bwd Win Byts', 'Pkt Len Min', 'Pkt Size Avg', 'Pkt Len Mean', 'Pkt Len Max', 'Pkt Len Std', 'Flow Pkts/s', 'Fwd Pkt Len Std', 'Fwd Pkt Len Mean', 'Fwd Seg Size Avg'], 'Adv sample 694': ['Pkt Len Min', 'Init Bwd Win Byts', 'Down/Up Ratio', 'Flow Duration', 'Bwd Pkts/s', 'Flow IAT Std', 'Bwd Pkt Len Min', 'Pkt Len Mean', 'Fwd IAT Max', 'Pkt Len Max'], 'Adv sample 695': ['Bwd Pkts/s', 'Init Bwd Win Byts', 'Down/Up Ratio', 'Pkt Len Min', 'Bwd Pkt Len Min', 'Idle Min', 'Flow Duration', 'Fwd Pkt Len Std', 'Pkt Len Std', 'Flow IAT Std'], 'Adv sample 696': ['Init Bwd Win Byts', 'Pkt Size Avg', 'Pkt Len Max', 'Pkt Len Min', 'Pkt Len Std', 'Pkt Len Mean', 'Fwd Seg Size Avg', 'Fwd Pkt Len Max', 'Fwd Pkt Len Std', 'Flow Pkts/s'], 'Adv sample 697': ['SYN Flag Cnt', 'Init Bwd Win Byts', 'Idle Max', 'Pkt Len Min', 'Idle Min', 'Fwd IAT Tot', 'Flow Pkts/s', 'Bwd Pkt Len Min', 'Idle Mean', 'Flow IAT Max'], 'Adv sample 698': ['Bwd Pkts/s', 'Init Bwd Win Byts', 'Down/Up Ratio', 'Pkt Len Min', 'Bwd Pkt Len Min', 'Fwd IAT Tot', 'Flow IAT Max', 'Active Std', 'Idle Mean', 'Pkt Size Avg'], 'Adv sample 699': ['FIN Flag Cnt', 'Flow Pkts/s', 'Init Bwd Win Byts', 'Pkt Len Min', 'Bwd Pkts/s', 'Down/Up Ratio', 'Bwd Pkt Len Min', 'Fwd Seg Size Avg', 'Pkt Len Mean', 'Pkt Len Var'], 'Adv sample 700': ['SYN Flag Cnt', 'Init Bwd Win Byts', 'ACK Flag Cnt', 'Pkt Len Min', 'Idle Min', 'Fwd Pkt Len Min', 'Bwd Pkt Len Max', 'Flow Duration', 'Tot Bwd Pkts', 'TotLen Fwd Pkts'], 'Adv sample 701': ['Init Bwd Win Byts', 'Pkt Len Min', 'Pkt Len Max', 'Pkt Size Avg', 'Pkt Len Std', 'Pkt Len Mean', 'Fwd Pkt Len Mean', 'Fwd Seg Size Avg', 'Fwd Pkt Len Max', 'Bwd IAT Min'], 'Adv sample 702': ['Init Bwd Win Byts', 'Pkt Len Max', 'Pkt Len Mean', 'Pkt Len Min', 'Pkt Len Std', 'Pkt Size Avg', 'Flow Pkts/s', 'Fwd Pkt Len Mean', 'Fwd Pkt Len Max', 'Fwd Seg Size Avg'], 'Adv sample 703': ['Pkt Len Min', 'Init Bwd Win Byts', 'Down/Up Ratio', 'Flow Duration', 'Bwd Pkt Len Min', 'Pkt Len Mean', 'Flow Pkts/s', 'Bwd Pkts/s', 'Flow IAT Std', 'Pkt Len Max'], 'Adv sample 704': ['Init Bwd Win Byts', 'Pkt Len Min', 'Pkt Len Mean', 'Pkt Len Std', 'Pkt Len Max', 'Pkt Size Avg', 'Flow Pkts/s', 'Fwd Seg Size Avg', 'Fwd Pkt Len Max', 'Fwd Pkt Len Mean'], 'Adv sample 705': ['Pkt Len Min', 'Init Bwd Win Byts', 'Down/Up Ratio', 'Flow Duration', 'Bwd Pkt Len Min', 'FIN Flag Cnt', 'Flow IAT Std', 'Idle Min', 'Flow IAT Max', 'Pkt Len Max'], 'Adv sample 706': ['Pkt Len Mean', 'Pkt Len Max', 'Pkt Len Min', 'Init Bwd Win Byts', 'Pkt Len Std', 'Pkt Size Avg', 'Flow Pkts/s', 'Fwd Seg Size Avg', 'Fwd Pkt Len Mean', 'Fwd Pkt Len Max'], 'Adv sample 707': ['Bwd Pkts/s', 'Init Bwd Win Byts', 'Pkt Len Min', 'Down/Up Ratio', 'Bwd Pkt Len Min', 'Fwd Header Len', 'Fwd Act Data Pkts', 'Fwd IAT Tot', 'Fwd IAT Max', 'Bwd Seg Size Avg'], 'Adv sample 708': ['SYN Flag Cnt', 'Init Bwd Win Byts', 'Pkt Len Min', 'Idle Min', 'Bwd Pkt Len Min', 'Idle Max', 'Idle Mean', 'Fwd IAT Std', 'Fwd Pkt Len Min', 'Tot Fwd Pkts'], 'Adv sample 709': ['Pkt Len Min', 'Down/Up Ratio', 'Init Bwd Win Byts', 'Bwd Pkt Len Min', 'Flow Duration', 'Flow IAT Max', 'Fwd IAT Max', 'Pkt Len Max', 'Pkt Size Avg', 'Fwd IAT Tot'], 'Adv sample 710': ['Pkt Len Min', 'Init Bwd Win Byts', 'Down/Up Ratio', 'Flow Duration', 'Flow IAT Max', 'Flow IAT Std', 'Fwd IAT Max', 'Bwd Pkt Len Min', 'Idle Min', 'FIN Flag Cnt'], 'Adv sample 711': ['Flow Pkts/s', 'FIN Flag Cnt', 'Init Bwd Win Byts', 'Bwd Pkts/s', 'Pkt Len Min', 'Bwd Pkt Len Min', 'Down/Up Ratio', 'Pkt Len Mean', 'Pkt Size Avg', 'Bwd PSH Flags'], 'Adv sample 712': ['Init Bwd Win Byts', 'Pkt Len Min', 'Pkt Len Std', 'Pkt Len Max', 'Pkt Len Mean', 'Pkt Size Avg', 'Fwd Pkt Len Max', 'Fwd Seg Size Avg', 'Flow Pkts/s', 'Fwd Pkt Len Mean'], 'Adv sample 713': ['SYN Flag Cnt', 'Init Bwd Win Byts', 'Pkt Len Min', 'Down/Up Ratio', 'Bwd Pkt Len Min', 'Idle Min', 'Idle Max', 'Flow IAT Max', 'Idle Mean', 'Fwd Pkt Len Max'], 'Adv sample 714': ['Bwd Pkts/s', 'Init Bwd Win Byts', 'Pkt Len Min', 'Down/Up Ratio', 'Bwd Pkt Len Min', 'Flow IAT Std', 'Pkt Len Max', 'Flow Duration', 'Pkt Len Var', 'Pkt Size Avg'], 'Adv sample 715': ['Pkt Len Min', 'Init Bwd Win Byts', 'Down/Up Ratio', 'Bwd Pkt Len Min', 'Flow Duration', 'FIN Flag Cnt', 'Flow IAT Std', 'Flow IAT Max', 'Pkt Len Std', 'Fwd IAT Max'], 'Adv sample 716': ['Pkt Len Min', 'Init Bwd Win Byts', 'Down/Up Ratio', 'Flow Duration', 'Bwd Pkt Len Min', 'Flow IAT Std', 'Fwd IAT Tot', 'Flow IAT Max', 'Fwd IAT Max', 'FIN Flag Cnt'], 'Adv sample 717': ['Pkt Len Min', 'Down/Up Ratio', 'Init Bwd Win Byts', 'Flow Duration', 'Bwd Pkt Len Min', 'Fwd IAT Tot', 'Flow IAT Max', 'Flow Pkts/s', 'Pkt Len Max', 'Fwd IAT Max'], 'Adv sample 718': ['Init Bwd Win Byts', 'Pkt Size Avg', 'Pkt Len Max', 'Pkt Len Min', 'Pkt Len Std', 'Pkt Len Mean', 'Fwd Pkt Len Mean', 'Flow Pkts/s', 'Fwd Pkt Len Std', 'Fwd Seg Size Avg'], 'Adv sample 719': ['Bwd Pkts/s', 'Init Bwd Win Byts', 'Pkt Len Min', 'Down/Up Ratio', 'Bwd Pkt Len Min', 'FIN Flag Cnt', 'Flow Byts/s', 'Idle Mean', 'Pkt Size Avg', 'Fwd Pkt Len Mean'], 'Adv sample 720': ['Bwd Pkts/s', 'Init Bwd Win Byts', 'Down/Up Ratio', 'Pkt Len Min', 'Bwd Pkt Len Min', 'Pkt Len Max', 'Idle Max', 'Active Max', 'Flow IAT Std', 'Flow IAT Max'], 'Adv sample 721': ['Pkt Len Min', 'Init Bwd Win Byts', 'Down/Up Ratio', 'Flow Duration', 'Bwd Pkts/s', 'Flow IAT Max', 'PSH Flag Cnt', 'Fwd IAT Max', 'Flow IAT Std', 'Pkt Len Mean'], 'Adv sample 722': ['Bwd PSH Flags', 'Init Bwd Win Byts', 'Pkt Len Min', 'Bwd Pkt Len Min', 'Fwd IAT Tot', 'Bwd IAT Min', 'Fwd Pkt Len Max', 'Fwd Pkt Len Mean', 'Bwd Seg Size Avg', 'ACK Flag Cnt'], 'Adv sample 723': ['Init Bwd Win Byts', 'URG Flag Cnt', 'FIN Flag Cnt', 'Down/Up Ratio', 'Bwd PSH Flags', 'Pkt Len Min', 'Bwd URG Flags', 'Bwd IAT Min', 'Pkt Len Std', 'Bwd Pkt Len Min'], 'Adv sample 724': ['Pkt Len Min', 'Init Bwd Win Byts', 'Down/Up Ratio', 'Flow Duration', 'Bwd Pkts/s', 'Flow IAT Std', 'Bwd Pkt Len Min', 'Pkt Len Mean', 'FIN Flag Cnt', 'Fwd IAT Tot'], 'Adv sample 725': ['Pkt Len Min', 'Init Bwd Win Byts', 'Down/Up Ratio', 'Flow Duration', 'Flow IAT Max', 'Bwd Pkt Len Min', 'Flow IAT Std', 'Fwd IAT Max', 'Fwd Pkt Len Max', 'FIN Flag Cnt'], 'Adv sample 726': ['Pkt Len Min', 'Init Bwd Win Byts', 'Down/Up Ratio', 'Flow Duration', 'Bwd Pkts/s', 'Bwd Pkt Len Min', 'PSH Flag Cnt', 'Fwd IAT Max', 'Flow IAT Max', 'Pkt Size Avg'], 'Adv sample 727': ['SYN Flag Cnt', 'Init Bwd Win Byts', 'Pkt Len Min', 'Bwd Pkt Len Min', 'Idle Min', 'Flow IAT Max', 'Bwd IAT Min', 'Idle Max', 'Idle Mean', 'Tot Bwd Pkts'], 'Adv sample 728': ['Init Bwd Win Byts', 'Pkt Len Max', 'Pkt Len Min', 'Pkt Len Mean', 'Pkt Size Avg', 'Pkt Len Std', 'Fwd Seg Size Avg', 'Fwd Pkt Len Mean', 'Fwd Pkt Len Max', 'Fwd Pkt Len Std'], 'Adv sample 729': ['ACK Flag Cnt', 'Bwd IAT Std', 'Init Bwd Win Byts', 'Bwd IAT Max', 'Bwd IAT Tot', 'Flow IAT Mean', 'Bwd PSH Flags', 'Pkt Len Min', 'Fwd Pkt Len Min', 'TotLen Fwd Pkts'], 'Adv sample 730': ['ACK Flag Cnt', 'Bwd IAT Std', 'Init Bwd Win Byts', 'Bwd IAT Tot', 'Bwd IAT Max', 'Flow IAT Mean', 'Bwd Pkt Len Mean', 'Pkt Len Min', 'Pkt Len Mean', 'Bwd PSH Flags'], 'Adv sample 731': ['SYN Flag Cnt', 'Init Bwd Win Byts', 'Pkt Len Min', 'Idle Min', 'Bwd Pkt Len Min', 'Idle Max', 'Idle Mean', 'Down/Up Ratio', 'Fwd IAT Tot', 'Flow Duration'], 'Adv sample 732': ['Bwd Pkts/s', 'Init Bwd Win Byts', 'Pkt Len Min', 'Down/Up Ratio', 'Bwd Pkt Len Min', 'Pkt Len Max', 'PSH Flag Cnt', 'Bwd IAT Min', 'Flow Byts/s', 'Fwd Pkt Len Mean'], 'Adv sample 733': ['Pkt Len Min', 'Init Bwd Win Byts', 'Down/Up Ratio', 'Flow Duration', 'Bwd Pkt Len Min', 'Flow IAT Std', 'Bwd Pkts/s', 'Flow IAT Max', 'Pkt Len Max', 'Fwd IAT Max'], 'Adv sample 734': ['Init Bwd Win Byts', 'Pkt Len Mean', 'Pkt Len Min', 'Pkt Len Max', 'Pkt Size Avg', 'Flow Pkts/s', 'Pkt Len Std', 'Fwd Seg Size Avg', 'Fwd Pkt Len Mean', 'Fwd Pkt Len Max'], 'Adv sample 735': ['ACK Flag Cnt', 'Bwd IAT Std', 'Init Bwd Win Byts', 'Bwd IAT Max', 'Bwd IAT Tot', 'Flow IAT Mean', 'Pkt Len Min', 'Bwd Pkt Len Mean', 'Pkt Size Avg', 'Subflow Bwd Byts'], 'Adv sample 736': ['ACK Flag Cnt', 'Bwd IAT Std', 'Init Bwd Win Byts', 'Bwd IAT Tot', 'Bwd IAT Max', 'Pkt Len Min', 'Idle Std', 'Subflow Bwd Byts', 'Tot Bwd Pkts', 'Active Min'], 'Adv sample 737': ['Pkt Len Min', 'Down/Up Ratio', 'Init Bwd Win Byts', 'Flow Duration', 'Bwd Pkt Len Min', 'Pkt Len Max', 'Flow IAT Std', 'Flow IAT Max', 'Pkt Size Avg', 'PSH Flag Cnt'], 'Adv sample 738': ['SYN Flag Cnt', 'Init Bwd Win Byts', 'Pkt Len Min', 'Idle Min', 'Down/Up Ratio', 'PSH Flag Cnt', 'Bwd Pkt Len Min', 'Idle Max', 'Flow IAT Max', 'Fwd Pkt Len Mean'], 'Adv sample 739': ['SYN Flag Cnt', 'Init Bwd Win Byts', 'Bwd Pkt Len Max', 'Bwd Pkt Len Std', 'Bwd Pkt Len Mean', 'Bwd Seg Size Avg', 'Bwd IAT Std', 'Idle Min', 'Idle Max', 'Idle Mean'], 'Adv sample 740': ['Pkt Len Min', 'Init Bwd Win Byts', 'Down/Up Ratio', 'Flow Duration', 'Bwd Pkt Len Min', 'Fwd IAT Tot', 'Flow IAT Std', 'Pkt Len Mean', 'Flow IAT Max', 'Bwd Pkts/s'], 'Adv sample 741': ['Bwd PSH Flags', 'Init Bwd Win Byts', 'Pkt Len Min', 'Down/Up Ratio', 'ACK Flag Cnt', 'Pkt Len Max', 'Pkt Len Mean', 'Pkt Len Std', 'Bwd Header Len', 'Bwd Seg Size Avg'], 'Adv sample 742': ['Pkt Len Min', 'Init Bwd Win Byts', 'Down/Up Ratio', 'Flow Duration', 'Bwd Pkt Len Min', 'Flow IAT Max', 'Fwd IAT Max', 'Fwd IAT Std', 'Pkt Len Mean', 'Pkt Len Max'], 'Adv sample 743': ['FIN Flag Cnt', 'Flow Pkts/s', 'Init Bwd Win Byts', 'Bwd Pkts/s', 'Pkt Len Min', 'Down/Up Ratio', 'Pkt Size Avg', 'Pkt Len Mean', 'Pkt Len Std', 'Bwd Seg Size Avg'], 'Adv sample 744': ['SYN Flag Cnt', 'Init Bwd Win Byts', 'Idle Max', 'Idle Mean', 'Fwd Pkt Len Min', 'Idle Min', 'Bwd Pkt Len Std', 'Tot Bwd Pkts', 'Flow Duration', 'Tot Fwd Pkts'], 'Adv sample 745': ['ACK Flag Cnt', 'Bwd IAT Std', 'Init Bwd Win Byts', 'Bwd IAT Tot', 'Bwd IAT Max', 'Pkt Len Min', 'Flow IAT Mean', 'Bwd Seg Size Avg', 'Bwd Pkt Len Mean', 'Active Min'], 'Adv sample 746': ['ACK Flag Cnt', 'Bwd PSH Flags', 'Init Bwd Win Byts', 'Bwd IAT Std', 'Fwd IAT Min', 'Bwd IAT Max', 'Flow IAT Mean', 'Pkt Len Max', 'Bwd IAT Mean', 'Idle Mean'], 'Adv sample 747': ['Bwd Pkts/s', 'Init Bwd Win Byts', 'Down/Up Ratio', 'Pkt Len Min', 'Bwd Pkt Len Min', 'Subflow Fwd Pkts', 'Pkt Len Max', 'FIN Flag Cnt', 'Pkt Len Std', 'Flow Duration'], 'Adv sample 748': ['SYN Flag Cnt', 'Init Bwd Win Byts', 'Pkt Len Min', 'FIN Flag Cnt', 'Idle Min', 'Down/Up Ratio', 'Pkt Size Avg', 'Flow IAT Max', 'Idle Max', 'Pkt Len Max'], 'Adv sample 749': ['ACK Flag Cnt', 'Bwd IAT Std', 'Bwd IAT Max', 'Init Bwd Win Byts', 'Bwd IAT Tot', 'Flow IAT Mean', 'Pkt Len Min', 'Fwd Pkts/s', 'URG Flag Cnt', 'Bwd Pkt Len Std'], 'Adv sample 750': ['SYN Flag Cnt', 'Init Bwd Win Byts', 'Pkt Len Min', 'Bwd Pkt Len Min', 'Down/Up Ratio', 'Idle Min', 'Idle Max', 'Flow IAT Max', 'Fwd Pkt Len Mean', 'Pkt Len Max'], 'Adv sample 751': ['FIN Flag Cnt', 'Flow Pkts/s', 'Init Bwd Win Byts', 'Bwd Pkts/s', 'Down/Up Ratio', 'Pkt Len Min', 'Pkt Len Std', 'Pkt Len Max', 'Fwd IAT Tot', 'Bwd Pkt Len Min'], 'Adv sample 752': ['Bwd Pkts/s', 'Init Bwd Win Byts', 'Down/Up Ratio', 'Pkt Len Min', 'Bwd Pkt Len Min', 'FIN Flag Cnt', 'Bwd Header Len', 'Fwd Seg Size Avg', 'Idle Max', 'Fwd IAT Std'], 'Adv sample 753': ['Bwd Pkts/s', 'Pkt Len Min', 'Down/Up Ratio', 'Init Bwd Win Byts', 'Bwd Pkt Len Min', 'Flow Duration', 'Pkt Size Avg', 'Pkt Len Mean', 'Flow IAT Std', 'Fwd Pkt Len Mean'], 'Adv sample 754': ['SYN Flag Cnt', 'Init Bwd Win Byts', 'Idle Min', 'Flow Duration', 'Tot Fwd Pkts', 'TotLen Bwd Pkts', 'Fwd Pkt Len Min', 'Bwd Pkt Len Max', 'Bwd Pkt Len Min', 'Bwd Pkt Len Mean'], 'Adv sample 755': ['Pkt Len Min', 'Init Bwd Win Byts', 'Down/Up Ratio', 'Flow Duration', 'Flow IAT Std', 'Pkt Len Max', 'Flow IAT Max', 'Bwd Pkt Len Min', 'PSH Flag Cnt', 'Pkt Len Mean'], 'Adv sample 756': ['Init Bwd Win Byts', 'Pkt Len Min', 'Pkt Len Mean', 'Pkt Len Std', 'Pkt Size Avg', 'Pkt Len Max', 'Fwd Pkt Len Mean', 'Down/Up Ratio', 'Fwd Pkt Len Max', 'Flow Pkts/s'], 'Adv sample 757': ['Bwd PSH Flags', 'Init Bwd Win Byts', 'Pkt Len Min', 'Down/Up Ratio', 'ACK Flag Cnt', 'Pkt Len Max', 'Pkt Len Mean', 'Pkt Size Avg', 'Pkt Len Std', 'Fwd Pkt Len Mean'], 'Adv sample 758': ['Init Bwd Win Byts', 'Pkt Len Min', 'Pkt Len Max', 'Pkt Len Std', 'Pkt Len Mean', 'Pkt Size Avg', 'Fwd Pkt Len Max', 'Fwd Pkt Len Mean', 'Fwd Seg Size Avg', 'Flow Pkts/s'], 'Adv sample 759': ['SYN Flag Cnt', 'Init Bwd Win Byts', 'Pkt Len Min', 'Down/Up Ratio', 'FIN Flag Cnt', 'Flow IAT Max', 'Idle Min', 'Idle Mean', 'Flow Duration', 'Bwd Pkt Len Min'], 'Adv sample 760': ['Init Bwd Win Byts', 'Pkt Len Mean', 'Pkt Len Min', 'Pkt Len Max', 'Flow Pkts/s', 'Pkt Len Std', 'Pkt Size Avg', 'Fwd Seg Size Avg', 'Fwd Pkt Len Mean', 'Fwd Pkt Len Max'], 'Adv sample 761': ['Init Bwd Win Byts', 'Pkt Len Min', 'Pkt Len Max', 'Pkt Len Std', 'Pkt Size Avg', 'Pkt Len Mean', 'Fwd Pkt Len Mean', 'Flow Pkts/s', 'Fwd Pkt Len Std', 'Fwd Pkt Len Max'], 'Adv sample 762': ['Pkt Len Min', 'Init Bwd Win Byts', 'Down/Up Ratio', 'Flow Duration', 'Flow IAT Std', 'Bwd Pkt Len Min', 'PSH Flag Cnt', 'Fwd IAT Tot', 'Pkt Size Avg', 'Fwd IAT Max'], 'Adv sample 763': ['Pkt Len Min', 'Init Bwd Win Byts', 'Down/Up Ratio', 'Flow Duration', 'Flow IAT Std', 'FIN Flag Cnt', 'Flow IAT Max', 'Bwd Pkt Len Min', 'Pkt Size Avg', 'Pkt Len Max'], 'Adv sample 764': ['Init Bwd Win Byts', 'Pkt Len Min', 'Pkt Len Max', 'Pkt Len Std', 'Pkt Size Avg', 'Pkt Len Mean', 'Flow Pkts/s', 'Fwd Pkt Len Mean', 'Fwd Seg Size Avg', 'Fwd Pkt Len Std'], 'Adv sample 765': ['Bwd Pkts/s', 'Init Bwd Win Byts', 'Pkt Len Min', 'Down/Up Ratio', 'Bwd Pkt Len Min', 'Flow Duration', 'Fwd IAT Tot', 'FIN Flag Cnt', 'Pkt Len Std', 'Flow IAT Max'], 'Adv sample 766': ['ACK Flag Cnt', 'Bwd IAT Std', 'Init Bwd Win Byts', 'Bwd IAT Max', 'Bwd IAT Tot', 'Pkt Len Min', 'Flow IAT Mean', 'Fwd Pkt Len Min', 'Fwd IAT Mean', 'Bwd Pkt Len Std'], 'Adv sample 767': ['Pkt Len Min', 'Init Bwd Win Byts', 'Down/Up Ratio', 'Flow Duration', 'Flow IAT Std', 'Flow IAT Max', 'PSH Flag Cnt', 'Fwd IAT Max', 'Bwd Pkts/s', 'Bwd Pkt Len Min'], 'Adv sample 768': ['Pkt Len Min', 'Init Bwd Win Byts', 'Down/Up Ratio', 'Flow Duration', 'Bwd Pkts/s', 'Flow IAT Std', 'Bwd Pkt Len Min', 'Pkt Len Max', 'Pkt Size Avg', 'Flow IAT Max'], 'Adv sample 769': ['Pkt Len Min', 'Down/Up Ratio', 'Init Bwd Win Byts', 'Flow Duration', 'Bwd Pkts/s', 'Pkt Size Avg', 'PSH Flag Cnt', 'Fwd IAT Max', 'Flow IAT Std', 'Fwd IAT Tot'], 'Adv sample 770': ['Bwd Pkts/s', 'Init Bwd Win Byts', 'Pkt Len Min', 'Down/Up Ratio', 'Bwd Pkt Len Min', 'Pkt Len Mean', 'PSH Flag Cnt', 'Active Std', 'Fwd Seg Size Avg', 'Fwd IAT Max'], 'Adv sample 771': ['FIN Flag Cnt', 'Flow Pkts/s', 'Init Bwd Win Byts', 'Down/Up Ratio', 'Pkt Len Min', 'Bwd PSH Flags', 'URG Flag Cnt', 'Bwd IAT Min', 'Bwd Header Len', 'Bwd Pkt Len Min'], 'Adv sample 772': ['Pkt Len Min', 'Down/Up Ratio', 'Init Bwd Win Byts', 'Bwd Pkt Len Min', 'Pkt Len Max', 'Flow Duration', 'Flow IAT Max', 'Fwd Pkt Len Mean', 'Pkt Len Mean', 'Pkt Size Avg'], 'Adv sample 773': ['FIN Flag Cnt', 'Flow Pkts/s', 'Init Bwd Win Byts', 'Down/Up Ratio', 'Pkt Len Min', 'Bwd IAT Std', 'Pkt Size Avg', 'Fwd IAT Max', 'Bwd Pkt Len Std', 'Pkt Len Var'], 'Adv sample 774': ['Pkt Len Min', 'Init Bwd Win Byts', 'Down/Up Ratio', 'Flow Duration', 'Bwd Pkt Len Min', 'Flow IAT Std', 'Bwd Pkts/s', 'Flow IAT Max', 'Fwd IAT Max', 'Fwd IAT Tot'], 'Adv sample 775': ['FIN Flag Cnt', 'Init Bwd Win Byts', 'Down/Up Ratio', 'Pkt Len Min', 'Bwd Pkt Len Min', 'Idle Mean', 'Flow IAT Max', 'Idle Max', 'Pkt Len Std', 'Fwd IAT Tot'], 'Adv sample 776': ['Pkt Len Min', 'Init Bwd Win Byts', 'Down/Up Ratio', 'Flow IAT Std', 'Bwd Pkt Len Min', 'Flow Duration', 'Bwd Pkts/s', 'Flow IAT Max', 'FIN Flag Cnt', 'Pkt Len Std'], 'Adv sample 777': ['SYN Flag Cnt', 'Init Bwd Win Byts', 'Bwd Pkt Len Max', 'Bwd Pkt Len Std', 'Bwd Pkt Len Min', 'Idle Mean', 'Pkt Len Min', 'Flow IAT Max', 'Bwd Seg Size Avg', 'Bwd IAT Tot'], 'Adv sample 778': ['Init Bwd Win Byts', 'Pkt Len Min', 'Pkt Len Max', 'Pkt Size Avg', 'Flow Pkts/s', 'Pkt Len Std', 'Pkt Len Mean', 'Fwd Pkt Len Mean', 'Fwd Seg Size Avg', 'Fwd Pkt Len Max'], 'Adv sample 779': ['Init Bwd Win Byts', 'Pkt Len Min', 'Pkt Len Mean', 'Pkt Size Avg', 'Pkt Len Max', 'Fwd Seg Size Avg', 'Down/Up Ratio', 'Fwd Pkt Len Mean', 'Pkt Len Std', 'Fwd Pkt Len Max'], 'Adv sample 780': ['Pkt Len Min', 'Init Bwd Win Byts', 'Down/Up Ratio', 'Flow Duration', 'Bwd Pkt Len Min', 'Flow IAT Max', 'FIN Flag Cnt', 'Pkt Len Std', 'PSH Flag Cnt', 'Flow IAT Std'], 'Adv sample 781': ['SYN Flag Cnt', 'Init Bwd Win Byts', 'Pkt Len Min', 'Bwd Pkt Len Min', 'Down/Up Ratio', 'Idle Max', 'Idle Min', 'Flow IAT Max', 'Pkt Len Max', 'Fwd IAT Tot'], 'Adv sample 782': ['SYN Flag Cnt', 'Init Bwd Win Byts', 'Pkt Len Min', 'Down/Up Ratio', 'Bwd Pkt Len Min', 'Idle Min', 'Idle Mean', 'Flow IAT Max', 'Idle Max', 'PSH Flag Cnt'], 'Adv sample 783': ['Pkt Len Min', 'Init Bwd Win Byts', 'Down/Up Ratio', 'Flow Duration', 'Flow Pkts/s', 'Flow IAT Std', 'Pkt Len Std', 'Bwd Pkts/s', 'Bwd Pkt Len Min', 'Flow IAT Max'], 'Adv sample 784': ['Bwd Pkts/s', 'Down/Up Ratio', 'Init Bwd Win Byts', 'Pkt Len Min', 'Bwd Pkt Len Min', 'Flow Duration', 'Fwd IAT Tot', 'Idle Mean', 'Fwd IAT Max', 'Fwd Pkt Len Max'], 'Adv sample 785': ['ACK Flag Cnt', 'Bwd IAT Std', 'Init Bwd Win Byts', 'Bwd IAT Tot', 'Bwd IAT Max', 'Flow IAT Mean', 'Pkt Len Min', 'Active Std', 'Fwd Header Len', 'Subflow Fwd Byts'], 'Adv sample 786': ['SYN Flag Cnt', 'Init Bwd Win Byts', 'Pkt Len Min', 'Bwd Pkt Len Min', 'Down/Up Ratio', 'Idle Min', 'Flow IAT Max', 'Active Mean', 'Pkt Len Max', 'Pkt Len Mean'], 'Adv sample 787': ['SYN Flag Cnt', 'Init Bwd Win Byts', 'Pkt Len Min', 'Idle Min', 'Idle Max', 'Down/Up Ratio', 'Bwd Pkt Len Min', 'Idle Mean', 'Flow IAT Max', 'Pkt Len Max'], 'Adv sample 788': ['Pkt Len Min', 'Init Bwd Win Byts', 'Bwd Pkts/s', 'Down/Up Ratio', 'Bwd Pkt Len Min', 'Flow IAT Std', 'Flow Duration', 'FIN Flag Cnt', 'Pkt Size Avg', 'Flow IAT Max'], 'Adv sample 789': ['Init Bwd Win Byts', 'Pkt Len Max', 'Pkt Size Avg', 'Pkt Len Min', 'Flow Pkts/s', 'Pkt Len Mean', 'Pkt Len Std', 'Fwd Seg Size Avg', 'Fwd Pkt Len Max', 'Fwd Pkt Len Mean'], 'Adv sample 790': ['ACK Flag Cnt', 'Bwd IAT Std', 'Bwd IAT Max', 'Bwd IAT Tot', 'Init Bwd Win Byts', 'Pkt Len Min', 'Flow IAT Mean', 'Flow Byts/s', 'Fwd IAT Tot', 'Bwd Pkt Len Min'], 'Adv sample 791': ['SYN Flag Cnt', 'Init Bwd Win Byts', 'Pkt Len Min', 'Down/Up Ratio', 'Flow IAT Max', 'Bwd Pkt Len Min', 'Idle Min', 'Pkt Len Mean', 'Flow Duration', 'Idle Max'], 'Adv sample 792': ['Init Bwd Win Byts', 'Pkt Len Min', 'Pkt Len Mean', 'Pkt Size Avg', 'Pkt Len Max', 'Pkt Len Std', 'Fwd Pkt Len Mean', 'Fwd Seg Size Avg', 'Flow Pkts/s', 'Down/Up Ratio'], 'Adv sample 793': ['Pkt Len Min', 'Init Bwd Win Byts', 'Down/Up Ratio', 'Flow Duration', 'Bwd Pkts/s', 'Flow IAT Std', 'Flow IAT Max', 'Fwd IAT Max', 'Bwd Pkt Len Min', 'Flow Pkts/s'], 'Adv sample 794': ['Init Bwd Win Byts', 'Pkt Len Min', 'Pkt Len Std', 'Pkt Len Mean', 'Pkt Len Max', 'Pkt Size Avg', 'Fwd Seg Size Avg', 'Fwd Pkt Len Max', 'Flow Pkts/s', 'Fwd Pkt Len Std'], 'Adv sample 795': ['SYN Flag Cnt', 'Init Bwd Win Byts', 'Pkt Len Min', 'FIN Flag Cnt', 'Bwd Pkts/s', 'Flow IAT Max', 'Bwd Pkt Len Min', 'Down/Up Ratio', 'Pkt Len Max', 'Idle Max'], 'Adv sample 796': ['Bwd Pkts/s', 'Init Bwd Win Byts', 'Pkt Len Min', 'Down/Up Ratio', 'Bwd Pkt Len Min', 'Fwd Header Len', 'Fwd Pkt Len Min', 'Flow IAT Max', 'Idle Mean', 'Idle Max'], 'Adv sample 797': ['SYN Flag Cnt', 'Init Bwd Win Byts', 'Pkt Len Min', 'FIN Flag Cnt', 'Down/Up Ratio', 'Bwd Pkt Len Min', 'Idle Min', 'Idle Mean', 'Fwd IAT Max', 'Pkt Len Std'], 'Adv sample 798': ['SYN Flag Cnt', 'Init Bwd Win Byts', 'Pkt Len Min', 'Down/Up Ratio', 'Bwd Pkt Len Min', 'Idle Min', 'Pkt Size Avg', 'Idle Max', 'Fwd IAT Std', 'Idle Mean'], 'Adv sample 799': ['Pkt Len Min', 'Init Bwd Win Byts', 'Down/Up Ratio', 'Flow Duration', 'Bwd Pkt Len Min', 'FIN Flag Cnt', 'Flow IAT Std', 'Pkt Len Std', 'Pkt Size Avg', 'Flow Pkts/s'], 'Adv sample 800': ['Pkt Len Min', 'Init Bwd Win Byts', 'Down/Up Ratio', 'Flow Duration', 'Flow IAT Max', 'Bwd Pkt Len Min', 'Flow IAT Std', 'Bwd Pkts/s', 'Pkt Len Mean', 'Pkt Len Max'], 'Adv sample 801': ['SYN Flag Cnt', 'Init Bwd Win Byts', 'Bwd Pkt Len Max', 'Idle Max', 'Tot Fwd Pkts', 'Bwd PSH Flags', 'PSH Flag Cnt', 'Subflow Bwd Byts', 'Bwd Pkt Len Mean', 'Bwd Pkt Len Min'], 'Adv sample 802': ['Bwd Pkts/s', 'Init Bwd Win Byts', 'Pkt Len Min', 'Down/Up Ratio', 'Bwd Pkt Len Min', 'Flow Duration', 'Pkt Len Mean', 'Fwd Pkt Len Max', 'Fwd Seg Size Avg', 'Subflow Bwd Byts'], 'Adv sample 803': ['Pkt Len Min', 'Init Bwd Win Byts', 'Down/Up Ratio', 'Flow Duration', 'Flow IAT Max', 'Flow IAT Std', 'Bwd Pkt Len Min', 'Pkt Len Max', 'Fwd IAT Max', 'Bwd Pkts/s'], 'Adv sample 804': ['Pkt Len Min', 'Down/Up Ratio', 'Init Bwd Win Byts', 'Bwd Pkt Len Min', 'Flow Duration', 'Pkt Len Max', 'Pkt Len Std', 'Flow IAT Max', 'Fwd IAT Tot', 'Fwd Pkt Len Mean'], 'Adv sample 805': ['Pkt Len Min', 'Init Bwd Win Byts', 'Down/Up Ratio', 'Bwd Pkts/s', 'Flow Duration', 'Flow IAT Max', 'Pkt Len Mean', 'Bwd Pkt Len Min', 'Fwd IAT Tot', 'Flow IAT Std'], 'Adv sample 806': ['SYN Flag Cnt', 'Init Bwd Win Byts', 'Pkt Len Min', 'Idle Max', 'Idle Min', 'Bwd Pkt Len Min', 'ACK Flag Cnt', 'Idle Mean', 'PSH Flag Cnt', 'Bwd Pkt Len Mean'], 'Adv sample 807': ['Init Bwd Win Byts', 'Pkt Len Min', 'Pkt Len Max', 'Pkt Size Avg', 'Pkt Len Mean', 'Pkt Len Std', 'Fwd Pkt Len Max', 'Fwd Seg Size Avg', 'Fwd Pkt Len Mean', 'Bwd IAT Min'], 'Adv sample 808': ['Pkt Len Min', 'Init Bwd Win Byts', 'Down/Up Ratio', 'Flow Duration', 'Bwd Pkts/s', 'Flow IAT Std', 'Bwd Pkt Len Min', 'Flow IAT Max', 'Fwd IAT Max', 'Pkt Len Std'], 'Adv sample 809': ['Pkt Len Min', 'Init Bwd Win Byts', 'Down/Up Ratio', 'Flow Duration', 'Flow IAT Std', 'Bwd Pkt Len Min', 'Flow IAT Max', 'Pkt Len Std', 'Pkt Size Avg', 'Bwd Pkts/s'], 'Adv sample 810': ['Pkt Len Min', 'Init Bwd Win Byts', 'Down/Up Ratio', 'Flow Duration', 'Flow IAT Std', 'Bwd Pkt Len Min', 'Pkt Len Std', 'Flow IAT Max', 'Bwd Pkts/s', 'Idle Mean'], 'Adv sample 811': ['Pkt Len Min', 'Down/Up Ratio', 'Init Bwd Win Byts', 'Bwd Pkt Len Min', 'Flow IAT Max', 'Flow Duration', 'Pkt Len Max', 'Pkt Len Std', 'Fwd IAT Max', 'Pkt Len Mean'], 'Adv sample 812': ['Bwd PSH Flags', 'Init Bwd Win Byts', 'Pkt Len Min', 'Down/Up Ratio', 'Pkt Len Max', 'ACK Flag Cnt', 'Pkt Len Std', 'Pkt Len Mean', 'Pkt Size Avg', 'Fwd Pkt Len Std'], 'Adv sample 813': ['Pkt Len Min', 'Init Bwd Win Byts', 'Down/Up Ratio', 'Flow Duration', 'Bwd Pkt Len Min', 'Fwd IAT Max', 'Bwd Pkts/s', 'Pkt Len Mean', 'Pkt Len Max', 'PSH Flag Cnt'], 'Adv sample 814': ['Pkt Len Min', 'Init Bwd Win Byts', 'Down/Up Ratio', 'Flow Duration', 'Flow IAT Std', 'Bwd Pkt Len Min', 'FIN Flag Cnt', 'PSH Flag Cnt', 'Flow IAT Max', 'Pkt Len Mean'], 'Adv sample 815': ['SYN Flag Cnt', 'Init Bwd Win Byts', 'Pkt Len Min', 'Idle Max', 'Pkt Len Max', 'Bwd Pkt Len Min', 'Down/Up Ratio', 'Flow IAT Max', 'Fwd IAT Tot', 'Idle Min'], 'Adv sample 816': ['Bwd Pkts/s', 'Init Bwd Win Byts', 'Pkt Len Min', 'Down/Up Ratio', 'Bwd Pkt Len Min', 'Idle Mean', 'Pkt Size Avg', 'Flow IAT Mean', 'FIN Flag Cnt', 'Pkt Len Max'], 'Adv sample 817': ['Init Bwd Win Byts', 'Pkt Len Max', 'Pkt Len Min', 'Pkt Len Mean', 'Pkt Size Avg', 'Pkt Len Std', 'Flow Pkts/s', 'Fwd Pkt Len Mean', 'Fwd Seg Size Avg', 'Fwd Pkt Len Std'], 'Adv sample 818': ['SYN Flag Cnt', 'Init Bwd Win Byts', 'Idle Mean', 'Pkt Len Min', 'Bwd Pkt Len Mean', 'Fwd IAT Max', 'Idle Min', 'Fwd IAT Tot', 'Active Std', 'Fwd IAT Mean'], 'Adv sample 819': ['Pkt Len Min', 'Init Bwd Win Byts', 'Down/Up Ratio', 'Flow Duration', 'Bwd Pkt Len Min', 'Flow IAT Std', 'FIN Flag Cnt', 'Pkt Len Mean', 'Fwd IAT Max', 'Fwd IAT Std'], 'Adv sample 820': ['Pkt Len Min', 'Init Bwd Win Byts', 'Down/Up Ratio', 'Flow Duration', 'Bwd Pkts/s', 'Bwd Pkt Len Min', 'Fwd Pkt Len Max', 'Idle Mean', 'Fwd IAT Tot', 'Flow IAT Std'], 'Adv sample 821': ['SYN Flag Cnt', 'Init Bwd Win Byts', 'Pkt Len Min', 'FIN Flag Cnt', 'Down/Up Ratio', 'Bwd Pkt Len Min', 'Idle Min', 'Fwd IAT Max', 'Flow IAT Max', 'Bwd Pkt Len Mean'], 'Adv sample 822': ['Pkt Len Min', 'Down/Up Ratio', 'Init Bwd Win Byts', 'Bwd Pkt Len Min', 'Flow Duration', 'Flow IAT Max', 'Pkt Len Max', 'Pkt Size Avg', 'Pkt Len Mean', 'Fwd IAT Max'], 'Adv sample 823': ['ACK Flag Cnt', 'Bwd IAT Std', 'Init Bwd Win Byts', 'Bwd IAT Tot', 'Bwd IAT Max', 'Flow IAT Mean', 'Pkt Len Min', 'Bwd Pkt Len Max', 'Bwd Pkt Len Min', 'PSH Flag Cnt'], 'Adv sample 824': ['ACK Flag Cnt', 'Bwd IAT Std', 'Init Bwd Win Byts', 'Bwd IAT Tot', 'Bwd IAT Max', 'Flow IAT Mean', 'Pkt Len Min', 'PSH Flag Cnt', 'Subflow Bwd Pkts', 'Flow Byts/s'], 'Adv sample 825': ['Init Bwd Win Byts', 'Pkt Len Min', 'Pkt Size Avg', 'Pkt Len Std', 'Pkt Len Mean', 'Pkt Len Max', 'Flow Pkts/s', 'Fwd Pkt Len Mean', 'Fwd Seg Size Avg', 'Fwd Pkt Len Std'], 'Adv sample 826': ['SYN Flag Cnt', 'Init Bwd Win Byts', 'Pkt Len Min', 'Down/Up Ratio', 'Idle Min', 'Bwd Pkt Len Min', 'Flow IAT Max', 'Pkt Len Mean', 'Idle Max', 'Flow Pkts/s'], 'Adv sample 827': ['Init Bwd Win Byts', 'Pkt Len Min', 'Pkt Len Std', 'Pkt Len Max', 'Down/Up Ratio', 'Fwd Pkt Len Mean', 'Pkt Len Mean', 'Fwd IAT Std', 'Flow IAT Std', 'Pkt Size Avg'], 'Adv sample 828': ['Bwd Pkts/s', 'Init Bwd Win Byts', 'Pkt Len Min', 'Down/Up Ratio', 'Bwd Pkt Len Min', 'Pkt Len Mean', 'Idle Min', 'Fwd Header Len', 'Idle Mean', 'Fwd Pkt Len Min'], 'Adv sample 829': ['Init Bwd Win Byts', 'Pkt Len Min', 'Pkt Size Avg', 'Pkt Len Max', 'Pkt Len Mean', 'Flow Pkts/s', 'Pkt Len Std', 'Fwd Pkt Len Mean', 'Fwd Pkt Len Max', 'Fwd Seg Size Avg'], 'Adv sample 830': ['Pkt Len Min', 'Init Bwd Win Byts', 'Down/Up Ratio', 'Flow Duration', 'Flow IAT Max', 'Fwd IAT Max', 'Bwd Pkt Len Min', 'Bwd Pkts/s', 'Flow IAT Std', 'PSH Flag Cnt'], 'Adv sample 831': ['Bwd Pkts/s', 'Init Bwd Win Byts', 'Down/Up Ratio', 'Pkt Len Min', 'Bwd Pkt Len Min', 'Pkt Len Mean', 'Fwd Pkt Len Min', 'Fwd IAT Tot', 'Bwd Pkt Len Std', 'Pkt Size Avg'], 'Adv sample 832': ['Bwd Pkts/s', 'Init Bwd Win Byts', 'Pkt Len Min', 'Down/Up Ratio', 'Bwd Pkt Len Min', 'Idle Min', 'Tot Fwd Pkts', 'Fwd Pkt Len Std', 'Bwd URG Flags', 'Fwd IAT Tot'], 'Adv sample 833': ['Init Bwd Win Byts', 'Pkt Len Std', 'Pkt Len Max', 'Pkt Size Avg', 'Pkt Len Min', 'Flow Pkts/s', 'Fwd Pkt Len Mean', 'Pkt Len Mean', 'Fwd Pkt Len Max', 'Fwd Seg Size Avg'], 'Adv sample 834': ['SYN Flag Cnt', 'Init Bwd Win Byts', 'Idle Min', 'Bwd Pkt Len Max', 'Fwd IAT Tot', 'Idle Max', 'PSH Flag Cnt', 'Bwd Pkt Len Std', 'Fwd Pkt Len Mean', 'Flow IAT Max'], 'Adv sample 835': ['Pkt Len Min', 'Init Bwd Win Byts', 'Down/Up Ratio', 'Bwd Pkts/s', 'Flow Duration', 'Bwd Pkt Len Min', 'Flow IAT Std', 'Pkt Len Std', 'Flow IAT Max', 'PSH Flag Cnt'], 'Adv sample 836': ['Bwd PSH Flags', 'Init Bwd Win Byts', 'Pkt Len Min', 'ACK Flag Cnt', 'Down/Up Ratio', 'Pkt Size Avg', 'Pkt Len Max', 'Fwd Pkt Len Max', 'Pkt Len Std', 'Fwd Pkt Len Std'], 'Adv sample 837': ['SYN Flag Cnt', 'Init Bwd Win Byts', 'Pkt Len Min', 'FIN Flag Cnt', 'Flow IAT Max', 'Down/Up Ratio', 'Idle Min', 'Bwd Pkt Len Min', 'Idle Max', 'Flow Duration'], 'Adv sample 838': ['Bwd Pkts/s', 'Init Bwd Win Byts', 'Pkt Len Min', 'Down/Up Ratio', 'Bwd Pkt Len Min', 'Pkt Len Std', 'Pkt Size Avg', 'Bwd Pkt Len Std', 'Flow Byts/s', 'Pkt Len Max'], 'Adv sample 839': ['Init Bwd Win Byts', 'Pkt Len Min', 'Pkt Size Avg', 'Pkt Len Max', 'Pkt Len Mean', 'Pkt Len Std', 'Fwd Pkt Len Max', 'Fwd Seg Size Avg', 'Flow Pkts/s', 'Fwd Pkt Len Std'], 'Adv sample 840': ['ACK Flag Cnt', 'Bwd IAT Std', 'Init Bwd Win Byts', 'Bwd IAT Max', 'Bwd IAT Tot', 'Flow IAT Mean', 'Pkt Len Min', 'Fwd Pkt Len Min', 'Pkt Len Var', 'Bwd Pkt Len Min'], 'Adv sample 841': ['Pkt Len Min', 'Init Bwd Win Byts', 'Down/Up Ratio', 'Bwd Pkts/s', 'Flow Duration', 'Flow IAT Max', 'Flow IAT Std', 'Bwd Pkt Len Min', 'Pkt Len Max', 'Fwd IAT Max'], 'Adv sample 842': ['SYN Flag Cnt', 'Init Bwd Win Byts', 'Pkt Len Min', 'FIN Flag Cnt', 'Down/Up Ratio', 'Bwd Pkt Len Min', 'Flow IAT Max', 'Flow Duration', 'Pkt Len Max', 'Idle Mean'], 'Adv sample 843': ['Init Bwd Win Byts', 'Pkt Len Min', 'Pkt Len Max', 'Pkt Size Avg', 'Pkt Len Mean', 'Pkt Len Std', 'Flow Pkts/s', 'Fwd Pkt Len Max', 'Fwd Seg Size Avg', 'Fwd IAT Tot'], 'Adv sample 844': ['Pkt Len Min', 'Down/Up Ratio', 'Init Bwd Win Byts', 'Bwd Pkt Len Min', 'Flow IAT Max', 'Flow Duration', 'Pkt Len Max', 'Pkt Len Std', 'Fwd IAT Max', 'Fwd Pkt Len Max'], 'Adv sample 845': ['ACK Flag Cnt', 'Bwd IAT Std', 'Bwd IAT Tot', 'Bwd IAT Max', 'Init Bwd Win Byts', 'Flow IAT Mean', 'Down/Up Ratio', 'Bwd IAT Mean', 'Pkt Len Min', 'Subflow Bwd Pkts'], 'Adv sample 846': ['Bwd Pkts/s', 'Init Bwd Win Byts', 'Pkt Len Min', 'Down/Up Ratio', 'Bwd Pkt Len Min', 'Pkt Len Max', 'Fwd IAT Min', 'Pkt Size Avg', 'Flow IAT Max', 'Idle Mean'], 'Adv sample 847': ['Pkt Len Min', 'Down/Up Ratio', 'Init Bwd Win Byts', 'Bwd Pkt Len Min', 'Pkt Len Max', 'Flow Duration', 'Flow IAT Max', 'Pkt Size Avg', 'Pkt Len Std', 'Pkt Len Mean'], 'Adv sample 848': ['SYN Flag Cnt', 'Init Bwd Win Byts', 'Bwd Pkt Len Max', 'Flow IAT Mean', 'Idle Max', 'Bwd Pkt Len Std', 'Active Mean', 'Fwd IAT Std', 'TotLen Bwd Pkts', 'Flow Duration'], 'Adv sample 849': ['SYN Flag Cnt', 'Init Bwd Win Byts', 'Pkt Len Min', 'FIN Flag Cnt', 'Down/Up Ratio', 'Bwd Pkt Len Min', 'Bwd Pkts/s', 'ACK Flag Cnt', 'Idle Max', 'Flow IAT Max'], 'Adv sample 850': ['Bwd Pkts/s', 'Init Bwd Win Byts', 'Pkt Len Min', 'Down/Up Ratio', 'Bwd Pkt Len Min', 'Pkt Len Mean', 'Flow IAT Max', 'Fwd IAT Std', 'Flow Duration', 'Pkt Size Avg'], 'Adv sample 851': ['Pkt Len Min', 'Init Bwd Win Byts', 'Down/Up Ratio', 'Bwd Pkt Len Min', 'Flow Duration', 'Flow IAT Max', 'FIN Flag Cnt', 'Pkt Len Max', 'Flow IAT Std', 'Fwd IAT Max'], 'Adv sample 852': ['FIN Flag Cnt', 'Init Bwd Win Byts', 'Flow Pkts/s', 'Pkt Len Min', 'Down/Up Ratio', 'Bwd Pkts/s', 'Bwd Pkt Len Min', 'Pkt Len Mean', 'Pkt Size Avg', 'Pkt Len Max'], 'Adv sample 853': ['Bwd Pkts/s', 'Init Bwd Win Byts', 'Down/Up Ratio', 'Pkt Len Min', 'Bwd Pkt Len Min', 'Fwd IAT Max', 'Idle Max', 'Idle Mean', 'Pkt Len Max', 'Pkt Size Avg'], 'Adv sample 854': ['Init Bwd Win Byts', 'Pkt Len Min', 'Pkt Size Avg', 'Pkt Len Max', 'Pkt Len Std', 'Pkt Len Mean', 'Fwd Seg Size Avg', 'Fwd Pkt Len Max', 'Fwd Pkt Len Mean', 'Flow Pkts/s'], 'Adv sample 855': ['SYN Flag Cnt', 'Init Bwd Win Byts', 'Pkt Len Min', 'Down/Up Ratio', 'Bwd Pkt Len Min', 'Idle Max', 'Idle Mean', 'Idle Min', 'Flow IAT Max', 'Pkt Size Avg'], 'Adv sample 856': ['Init Bwd Win Byts', 'Pkt Len Min', 'Pkt Len Std', 'Pkt Len Mean', 'Pkt Len Max', 'Flow Pkts/s', 'Pkt Size Avg', 'Fwd Seg Size Avg', 'Fwd Pkt Len Mean', 'Fwd Pkt Len Max'], 'Adv sample 857': ['Bwd PSH Flags', 'Init Bwd Win Byts', 'Down/Up Ratio', 'ACK Flag Cnt', 'Pkt Len Min', 'Pkt Len Max', 'Pkt Len Mean', 'Pkt Len Std', 'Pkt Size Avg', 'FIN Flag Cnt'], 'Adv sample 858': ['SYN Flag Cnt', 'Init Bwd Win Byts', 'Pkt Len Min', 'Idle Min', 'Idle Max', 'Bwd Pkt Len Min', 'Tot Fwd Pkts', 'Idle Mean', 'TotLen Fwd Pkts', 'Fwd IAT Max'], 'Adv sample 859': ['Pkt Len Min', 'Init Bwd Win Byts', 'Down/Up Ratio', 'Flow Duration', 'Flow IAT Std', 'Pkt Len Mean', 'Bwd Pkts/s', 'Bwd Pkt Len Min', 'Pkt Size Avg', 'Pkt Len Max'], 'Adv sample 860': ['ACK Flag Cnt', 'Bwd IAT Std', 'Init Bwd Win Byts', 'Bwd IAT Tot', 'Bwd IAT Max', 'Flow IAT Mean', 'Pkt Len Min', 'Idle Std', 'Bwd Pkt Len Min', 'Fwd Pkt Len Min'], 'Adv sample 861': ['Bwd Pkts/s', 'Init Bwd Win Byts', 'Pkt Len Min', 'Down/Up Ratio', 'Bwd Pkt Len Min', 'Flow Duration', 'Flow IAT Std', 'Fwd Pkt Len Std', 'Flow IAT Max', 'Pkt Len Max'], 'Adv sample 862': ['Bwd Pkts/s', 'Init Bwd Win Byts', 'Down/Up Ratio', 'Pkt Len Min', 'Bwd Pkt Len Min', 'Pkt Len Mean', 'FIN Flag Cnt', 'Fwd Seg Size Avg', 'Fwd Pkt Len Max', 'Fwd Header Len'], 'Adv sample 863': ['Init Bwd Win Byts', 'Pkt Len Min', 'Pkt Len Max', 'Pkt Len Std', 'Pkt Len Mean', 'Pkt Size Avg', 'Flow Pkts/s', 'Fwd Pkt Len Std', 'Fwd Pkt Len Mean', 'Fwd Pkt Len Max'], 'Adv sample 864': ['Pkt Len Min', 'Down/Up Ratio', 'Init Bwd Win Byts', 'Flow Duration', 'Bwd Pkt Len Min', 'Flow IAT Max', 'Fwd IAT Max', 'Fwd IAT Std', 'Bwd Pkts/s', 'Pkt Len Mean'], 'Adv sample 865': ['Pkt Len Min', 'Init Bwd Win Byts', 'Down/Up Ratio', 'Flow Duration', 'Flow IAT Max', 'Flow IAT Std', 'Bwd Pkt Len Min', 'Fwd IAT Max', 'Pkt Len Max', 'FIN Flag Cnt'], 'Adv sample 866': ['Bwd Pkts/s', 'Init Bwd Win Byts', 'Pkt Len Min', 'Down/Up Ratio', 'Bwd Pkt Len Min', 'Flow Duration', 'FIN Flag Cnt', 'Pkt Len Mean', 'Subflow Bwd Pkts', 'Idle Max'], 'Adv sample 867': ['Bwd Pkts/s', 'Init Bwd Win Byts', 'Down/Up Ratio', 'Pkt Len Min', 'Bwd Pkt Len Min', 'Fwd IAT Tot', 'Bwd Header Len', 'Pkt Len Mean', 'Active Min', 'Bwd URG Flags'], 'Adv sample 868': ['Bwd Pkts/s', 'Init Bwd Win Byts', 'Down/Up Ratio', 'Pkt Len Min', 'Bwd Pkt Len Min', 'Pkt Len Mean', 'Pkt Size Avg', 'Pkt Len Max', 'Pkt Len Std', 'TotLen Bwd Pkts'], 'Adv sample 869': ['Pkt Len Min', 'Init Bwd Win Byts', 'Down/Up Ratio', 'Flow Duration', 'Flow IAT Max', 'Bwd Pkt Len Min', 'Flow IAT Std', 'FIN Flag Cnt', 'PSH Flag Cnt', 'Pkt Size Avg'], 'Adv sample 870': ['Pkt Len Min', 'Init Bwd Win Byts', 'Flow Pkts/s', 'Pkt Len Mean', 'Pkt Len Max', 'Pkt Size Avg', 'Pkt Len Std', 'Fwd Pkt Len Max', 'Fwd Seg Size Avg', 'Fwd Pkt Len Std'], 'Adv sample 871': ['SYN Flag Cnt', 'Init Bwd Win Byts', 'Pkt Len Min', 'Bwd Pkt Len Min', 'Idle Min', 'Down/Up Ratio', 'Flow IAT Max', 'Idle Max', 'Pkt Len Mean', 'Pkt Size Avg'], 'Adv sample 872': ['SYN Flag Cnt', 'Init Bwd Win Byts', 'Idle Min', 'Tot Bwd Pkts', 'Flow Duration', 'Tot Fwd Pkts', 'TotLen Fwd Pkts', 'TotLen Bwd Pkts', 'Fwd Pkt Len Min', 'Bwd Pkt Len Max'], 'Adv sample 873': ['Pkt Len Std', 'Init Bwd Win Byts', 'Pkt Len Min', 'Pkt Len Max', 'Pkt Len Mean', 'Flow Pkts/s', 'Pkt Size Avg', 'Fwd Pkt Len Mean', 'Fwd Pkt Len Max', 'Fwd Pkt Len Std'], 'Adv sample 874': ['Init Bwd Win Byts', 'Pkt Len Mean', 'Pkt Len Max', 'Pkt Len Min', 'Pkt Len Std', 'Flow Pkts/s', 'Pkt Size Avg', 'Fwd Seg Size Avg', 'Fwd Pkt Len Mean', 'Fwd Pkt Len Max'], 'Adv sample 875': ['SYN Flag Cnt', 'Init Bwd Win Byts', 'Pkt Len Min', 'Idle Min', 'Bwd Pkt Len Min', 'ACK Flag Cnt', 'Idle Max', 'Bwd Header Len', 'Bwd Pkt Len Mean', 'PSH Flag Cnt'], 'Adv sample 876': ['SYN Flag Cnt', 'Init Bwd Win Byts', 'Pkt Len Min', 'Bwd Pkt Len Min', 'Idle Max', 'Idle Min', 'Bwd IAT Min', 'Bwd Pkt Len Mean', 'ACK Flag Cnt', 'Idle Mean'], 'Adv sample 877': ['SYN Flag Cnt', 'Init Bwd Win Byts', 'Bwd Pkt Len Mean', 'Subflow Bwd Pkts', 'Flow IAT Max', 'Flow Duration', 'Tot Fwd Pkts', 'Tot Bwd Pkts', 'TotLen Fwd Pkts', 'TotLen Bwd Pkts'], 'Adv sample 878': ['Init Bwd Win Byts', 'URG Flag Cnt', 'FIN Flag Cnt', 'Down/Up Ratio', 'Bwd PSH Flags', 'Bwd URG Flags', 'Pkt Len Min', 'Flow IAT Max', 'Pkt Len Mean', 'Idle Mean'], 'Adv sample 879': ['Pkt Len Min', 'Down/Up Ratio', 'Init Bwd Win Byts', 'Flow IAT Max', 'Flow Duration', 'Bwd Pkt Len Min', 'Fwd IAT Max', 'Flow IAT Std', 'Pkt Size Avg', 'Pkt Len Std'], 'Adv sample 880': ['SYN Flag Cnt', 'Init Bwd Win Byts', 'Pkt Len Min', 'FIN Flag Cnt', 'Down/Up Ratio', 'Flow IAT Max', 'Idle Min', 'Idle Mean', 'Bwd Pkt Len Min', 'Pkt Size Avg'], 'Adv sample 881': ['Pkt Len Min', 'Init Bwd Win Byts', 'Down/Up Ratio', 'Flow Duration', 'Flow IAT Std', 'FIN Flag Cnt', 'Fwd IAT Max', 'Pkt Size Avg', 'Bwd Pkts/s', 'Flow IAT Max'], 'Adv sample 882': ['Pkt Len Min', 'Init Bwd Win Byts', 'Down/Up Ratio', 'Flow Duration', 'Flow IAT Max', 'Bwd Pkt Len Min', 'Flow IAT Std', 'Fwd IAT Max', 'Pkt Len Std', 'Fwd Seg Size Avg'], 'Adv sample 883': ['Init Bwd Win Byts', 'Pkt Len Min', 'Pkt Len Max', 'Pkt Len Std', 'Pkt Len Mean', 'Pkt Size Avg', 'Fwd Pkt Len Mean', 'Fwd Pkt Len Max', 'Fwd Pkt Len Std', 'Fwd Seg Size Avg'], 'Adv sample 884': ['Bwd PSH Flags', 'Init Bwd Win Byts', 'Down/Up Ratio', 'Pkt Len Min', 'ACK Flag Cnt', 'Pkt Len Max', 'Pkt Size Avg', 'Fwd Pkt Len Max', 'Pkt Len Std', 'Bwd Pkt Len Max'], 'Adv sample 885': ['SYN Flag Cnt', 'Init Bwd Win Byts', 'Pkt Len Min', 'Down/Up Ratio', 'FIN Flag Cnt', 'Bwd Pkt Len Min', 'PSH Flag Cnt', 'Idle Max', 'Flow IAT Max', 'Pkt Len Max'], 'Adv sample 886': ['Pkt Len Min', 'Init Bwd Win Byts', 'Down/Up Ratio', 'Flow Duration', 'Flow Pkts/s', 'Bwd Pkt Len Min', 'Pkt Size Avg', 'FIN Flag Cnt', 'Pkt Len Mean', 'Idle Min'], 'Adv sample 887': ['FIN Flag Cnt', 'Flow Pkts/s', 'Init Bwd Win Byts', 'Pkt Len Min', 'Bwd Pkts/s', 'Down/Up Ratio', 'Bwd Pkt Len Min', 'Pkt Size Avg', 'Pkt Len Mean', 'Bwd IAT Min'], 'Adv sample 888': ['SYN Flag Cnt', 'Init Bwd Win Byts', 'ACK Flag Cnt', 'Tot Bwd Pkts', 'Bwd Pkt Len Min', 'Fwd Act Data Pkts', 'Flow IAT Max', 'Fwd IAT Tot', 'Tot Fwd Pkts', 'TotLen Fwd Pkts'], 'Adv sample 889': ['SYN Flag Cnt', 'Init Bwd Win Byts', 'Bwd Seg Size Avg', 'Bwd Pkt Len Max', 'Flow IAT Max', 'Bwd Pkt Len Std', 'Subflow Bwd Pkts', 'Bwd Pkt Len Mean', 'Flow IAT Mean', 'Bwd IAT Max'], 'Adv sample 890': ['SYN Flag Cnt', 'Init Bwd Win Byts', 'Flow IAT Max', 'Idle Min', 'Fwd IAT Mean', 'Active Min', 'Bwd Pkt Len Max', 'Pkt Len Min', 'Idle Mean', 'Idle Max'], 'Adv sample 891': ['Bwd Pkts/s', 'Init Bwd Win Byts', 'Down/Up Ratio', 'Pkt Len Min', 'Bwd Pkt Len Min', 'Fwd Header Len', 'Tot Bwd Pkts', 'Idle Mean', 'Fwd Pkt Len Min', 'Subflow Bwd Pkts'], 'Adv sample 892': ['Init Bwd Win Byts', 'Pkt Len Mean', 'Pkt Len Min', 'Pkt Len Max', 'Pkt Size Avg', 'Pkt Len Std', 'Flow Pkts/s', 'Fwd Pkt Len Mean', 'Fwd Seg Size Avg', 'Fwd Pkt Len Max'], 'Adv sample 893': ['Pkt Len Min', 'Down/Up Ratio', 'Init Bwd Win Byts', 'Bwd Pkts/s', 'Flow Duration', 'Fwd IAT Max', 'Flow IAT Max', 'Bwd Pkt Len Min', 'Pkt Len Std', 'Pkt Size Avg'], 'Adv sample 894': ['Pkt Len Min', 'Init Bwd Win Byts', 'Down/Up Ratio', 'Flow Duration', 'Bwd Pkts/s', 'Flow IAT Max', 'Flow IAT Std', 'Fwd IAT Max', 'Pkt Len Max', 'PSH Flag Cnt'], 'Adv sample 895': ['Init Bwd Win Byts', 'Pkt Len Min', 'Pkt Len Std', 'Pkt Len Mean', 'Pkt Len Max', 'Pkt Size Avg', 'Fwd Pkt Len Max', 'Fwd Seg Size Avg', 'Flow Pkts/s', 'Fwd Pkt Len Std'], 'Adv sample 896': ['FIN Flag Cnt', 'Flow Pkts/s', 'Init Bwd Win Byts', 'Pkt Len Min', 'Down/Up Ratio', 'Subflow Bwd Pkts', 'Idle Min', 'Bwd Pkt Len Min', 'Bwd Pkt Len Std', 'TotLen Fwd Pkts'], 'Adv sample 897': ['Bwd Pkts/s', 'Init Bwd Win Byts', 'Pkt Len Min', 'Down/Up Ratio', 'Flow Duration', 'Bwd Pkt Len Min', 'FIN Flag Cnt', 'Fwd IAT Tot', 'Bwd Pkt Len Std', 'Pkt Len Mean'], 'Adv sample 898': ['FIN Flag Cnt', 'Init Bwd Win Byts', 'Pkt Len Min', 'Down/Up Ratio', 'Bwd Pkt Len Min', 'Idle Mean', 'Pkt Size Avg', 'Flow IAT Max', 'Pkt Len Std', 'Fwd IAT Tot'], 'Adv sample 899': ['Pkt Len Min', 'Init Bwd Win Byts', 'Down/Up Ratio', 'Flow Duration', 'Flow IAT Max', 'Flow IAT Std', 'FIN Flag Cnt', 'Bwd Pkt Len Min', 'Pkt Len Max', 'Fwd IAT Max'], 'Adv sample 900': ['FIN Flag Cnt', 'Flow Pkts/s', 'Init Bwd Win Byts', 'Pkt Len Min', 'Bwd Pkts/s', 'Down/Up Ratio', 'Pkt Len Max', 'Bwd Pkt Len Min', 'Pkt Len Std', 'Pkt Size Avg'], 'Adv sample 901': ['SYN Flag Cnt', 'Init Bwd Win Byts', 'Pkt Len Min', 'Down/Up Ratio', 'FIN Flag Cnt', 'Idle Min', 'Bwd Pkt Len Min', 'Fwd Pkt Len Max', 'Flow Duration', 'Flow IAT Max'], 'Adv sample 902': ['FIN Flag Cnt', 'Flow Pkts/s', 'Init Bwd Win Byts', 'Pkt Len Min', 'Bwd Header Len', 'Down/Up Ratio', 'Bwd IAT Std', 'Bwd URG Flags', 'PSH Flag Cnt', 'Bwd Pkt Len Min'], 'Adv sample 903': ['Init Bwd Win Byts', 'Pkt Len Min', 'Pkt Len Std', 'Pkt Size Avg', 'Fwd Pkt Len Max', 'Pkt Len Max', 'Fwd Seg Size Avg', 'Down/Up Ratio', 'Fwd Pkt Len Mean', 'Pkt Len Mean'], 'Adv sample 904': ['SYN Flag Cnt', 'Init Bwd Win Byts', 'ACK Flag Cnt', 'Bwd Pkt Len Mean', 'Idle Max', 'Fwd IAT Tot', 'Flow IAT Mean', 'Active Mean', 'Bwd Pkt Len Max', 'Flow Duration'], 'Adv sample 905': ['Pkt Len Min', 'Init Bwd Win Byts', 'Down/Up Ratio', 'Flow Duration', 'Flow IAT Std', 'Bwd Pkt Len Min', 'Flow IAT Max', 'Fwd IAT Max', 'Pkt Len Max', 'Flow Pkts/s'], 'Adv sample 906': ['Init Bwd Win Byts', 'URG Flag Cnt', 'Down/Up Ratio', 'FIN Flag Cnt', 'Bwd PSH Flags', 'Pkt Len Min', 'Bwd URG Flags', 'Idle Mean', 'Bwd Pkt Len Min', 'Pkt Len Mean'], 'Adv sample 907': ['SYN Flag Cnt', 'Init Bwd Win Byts', 'Pkt Len Min', 'Down/Up Ratio', 'Idle Mean', 'Idle Min', 'Idle Max', 'Pkt Size Avg', 'Bwd Pkt Len Min', 'Fwd Seg Size Avg'], 'Adv sample 908': ['Pkt Len Min', 'Init Bwd Win Byts', 'Down/Up Ratio', 'Flow Duration', 'Flow IAT Max', 'Bwd Pkts/s', 'Flow Pkts/s', 'Bwd Pkt Len Min', 'Flow IAT Std', 'Pkt Len Mean'], 'Adv sample 909': ['Init Bwd Win Byts', 'Pkt Len Min', 'Pkt Len Std', 'Pkt Size Avg', 'Pkt Len Max', 'Pkt Len Mean', 'Flow Pkts/s', 'Fwd Pkt Len Mean', 'Fwd Seg Size Avg', 'Fwd Pkt Len Std'], 'Adv sample 910': ['Bwd PSH Flags', 'Init Bwd Win Byts', 'Pkt Len Min', 'Down/Up Ratio', 'Pkt Len Max', 'ACK Flag Cnt', 'Pkt Size Avg', 'Pkt Len Std', 'Pkt Len Mean', 'Fwd Pkt Len Max'], 'Adv sample 911': ['SYN Flag Cnt', 'Init Bwd Win Byts', 'Bwd Pkt Len Max', 'Bwd Pkt Len Std', 'Idle Mean', 'Idle Min', 'Idle Max', 'Subflow Fwd Pkts', 'Subflow Fwd Byts', 'Pkt Len Min'], 'Adv sample 912': ['Pkt Len Min', 'Init Bwd Win Byts', 'Down/Up Ratio', 'Flow Duration', 'Flow IAT Std', 'Bwd Pkt Len Min', 'Flow IAT Max', 'Fwd IAT Max', 'Flow Pkts/s', 'PSH Flag Cnt'], 'Adv sample 913': ['Bwd Pkts/s', 'Init Bwd Win Byts', 'Pkt Len Min', 'Down/Up Ratio', 'Bwd Pkt Len Min', 'Pkt Len Mean', 'Flow Duration', 'Fwd IAT Std', 'Fwd Pkt Len Max', 'Active Max'], 'Adv sample 914': ['Pkt Len Min', 'Down/Up Ratio', 'Init Bwd Win Byts', 'Bwd Pkt Len Min', 'Flow Duration', 'Pkt Len Std', 'Pkt Len Max', 'Fwd IAT Max', 'Flow IAT Max', 'Fwd Pkt Len Max'], 'Adv sample 915': ['Pkt Len Min', 'Init Bwd Win Byts', 'Down/Up Ratio', 'Flow Duration', 'Bwd Pkts/s', 'Flow IAT Max', 'Flow IAT Std', 'Bwd Pkt Len Min', 'Fwd Pkt Len Mean', 'Pkt Len Mean'], 'Adv sample 916': ['SYN Flag Cnt', 'Init Bwd Win Byts', 'Pkt Len Min', 'Bwd Pkt Len Min', 'Idle Max', 'Idle Min', 'Tot Bwd Pkts', 'TotLen Fwd Pkts', 'Idle Mean', 'Fwd IAT Mean'], 'Adv sample 917': ['Bwd Pkts/s', 'Init Bwd Win Byts', 'Pkt Len Min', 'Down/Up Ratio', 'Bwd Pkt Len Min', 'Fwd Pkt Len Std', 'Pkt Len Mean', 'Idle Min', 'Active Std', 'Fwd IAT Std'], 'Adv sample 918': ['Pkt Len Min', 'Init Bwd Win Byts', 'Down/Up Ratio', 'Flow Duration', 'Flow IAT Max', 'Bwd Pkt Len Min', 'FIN Flag Cnt', 'Flow IAT Std', 'Pkt Len Mean', 'Pkt Size Avg'], 'Adv sample 919': ['ACK Flag Cnt', 'Bwd IAT Std', 'Init Bwd Win Byts', 'Bwd IAT Tot', 'Bwd IAT Max', 'Flow IAT Mean', 'Bwd Seg Size Avg', 'Active Mean', 'Flow Byts/s', 'Pkt Len Min'], 'Adv sample 920': ['Pkt Len Min', 'Init Bwd Win Byts', 'Down/Up Ratio', 'Flow Duration', 'Flow IAT Max', 'Flow IAT Std', 'Bwd Pkt Len Min', 'Pkt Len Mean', 'Fwd IAT Max', 'Bwd Pkts/s'], 'Adv sample 921': ['SYN Flag Cnt', 'Init Bwd Win Byts', 'Pkt Len Min', 'Down/Up Ratio', 'Bwd Pkt Len Min', 'Idle Min', 'Idle Max', 'Idle Mean', 'Flow Duration', 'Pkt Len Max'], 'Adv sample 922': ['Bwd Pkts/s', 'Pkt Len Min', 'Init Bwd Win Byts', 'Down/Up Ratio', 'Bwd Pkt Len Min', 'Fwd Pkt Len Mean', 'Flow IAT Max', 'Fwd Pkt Len Max', 'Pkt Len Mean', 'Fwd IAT Tot'], 'Adv sample 923': ['Init Bwd Win Byts', 'Pkt Len Min', 'Pkt Len Max', 'Pkt Len Mean', 'Pkt Size Avg', 'Pkt Len Std', 'Fwd Seg Size Avg', 'Fwd Pkt Len Max', 'Fwd Pkt Len Std', 'Fwd Pkt Len Mean'], 'Adv sample 924': ['Bwd Pkts/s', 'Init Bwd Win Byts', 'Pkt Len Min', 'Down/Up Ratio', 'Bwd Pkt Len Min', 'FIN Flag Cnt', 'Pkt Len Mean', 'Fwd Pkts/s', 'Pkt Len Var', 'Bwd Pkt Len Mean'], 'Adv sample 925': ['Pkt Len Min', 'Init Bwd Win Byts', 'Down/Up Ratio', 'Flow Duration', 'Bwd Pkt Len Min', 'Flow IAT Max', 'Flow IAT Std', 'Bwd Pkts/s', 'Pkt Len Std', 'Pkt Len Max'], 'Adv sample 926': ['Pkt Len Min', 'Init Bwd Win Byts', 'Down/Up Ratio', 'Flow Duration', 'Bwd Pkts/s', 'Flow IAT Max', 'Fwd IAT Tot', 'Bwd Pkt Len Min', 'PSH Flag Cnt', 'Pkt Len Mean'], 'Adv sample 927': ['SYN Flag Cnt', 'Init Bwd Win Byts', 'Bwd Pkt Len Max', 'Bwd Pkt Len Std', 'Idle Max', 'Bwd IAT Std', 'Bwd Pkt Len Mean', 'Bwd Pkt Len Min', 'Subflow Bwd Pkts', 'Bwd Seg Size Avg'], 'Adv sample 928': ['Init Bwd Win Byts', 'Pkt Len Min', 'Pkt Len Max', 'Pkt Len Std', 'Pkt Size Avg', 'Pkt Len Mean', 'Flow Pkts/s', 'Fwd Seg Size Avg', 'Fwd Pkt Len Std', 'Down/Up Ratio'], 'Adv sample 929': ['SYN Flag Cnt', 'Init Bwd Win Byts', 'Idle Min', 'Bwd Pkt Len Max', 'Fwd IAT Mean', 'Fwd Pkt Len Min', 'Bwd IAT Min', 'Pkt Len Min', 'Idle Mean', 'Bwd Pkt Len Std'], 'Adv sample 930': ['Pkt Len Min', 'Down/Up Ratio', 'Init Bwd Win Byts', 'Flow Duration', 'Bwd Pkts/s', 'Fwd IAT Max', 'Pkt Len Max', 'Flow IAT Max', 'Bwd Pkt Len Min', 'Pkt Len Mean'], 'Adv sample 931': ['Pkt Len Min', 'Init Bwd Win Byts', 'Down/Up Ratio', 'Flow Duration', 'Flow IAT Std', 'Bwd Pkt Len Min', 'Flow IAT Max', 'FIN Flag Cnt', 'Pkt Len Max', 'Pkt Len Mean'], 'Adv sample 932': ['Bwd Pkts/s', 'Init Bwd Win Byts', 'Pkt Len Min', 'Down/Up Ratio', 'Bwd Pkt Len Min', 'Flow IAT Max', 'Flow Duration', 'Pkt Size Avg', 'Fwd IAT Mean', 'Flow IAT Std'], 'Adv sample 933': ['SYN Flag Cnt', 'Init Bwd Win Byts', 'Idle Min', 'Bwd Pkt Len Mean', 'Active Min', 'Idle Max', 'PSH Flag Cnt', 'Pkt Len Min', 'Idle Std', 'Bwd Pkt Len Max'], 'Adv sample 934': ['Pkt Len Min', 'Init Bwd Win Byts', 'Down/Up Ratio', 'Bwd Pkts/s', 'Bwd Pkt Len Min', 'Flow Duration', 'Idle Mean', 'FIN Flag Cnt', 'Flow IAT Std', 'Flow IAT Max'], 'Adv sample 935': ['ACK Flag Cnt', 'Bwd IAT Std', 'Init Bwd Win Byts', 'Bwd IAT Tot', 'Bwd IAT Max', 'Bwd Pkt Len Min', 'Pkt Len Min', 'Flow IAT Mean', 'Pkt Len Var', 'Bwd Pkt Len Max'], 'Adv sample 936': ['Init Bwd Win Byts', 'Pkt Len Min', 'Pkt Size Avg', 'Pkt Len Mean', 'Pkt Len Max', 'Pkt Len Std', 'Flow Pkts/s', 'Fwd Seg Size Avg', 'Fwd Pkt Len Max', 'Fwd Pkt Len Mean'], 'Adv sample 937': ['Init Bwd Win Byts', 'Pkt Len Min', 'Pkt Len Mean', 'Pkt Size Avg', 'Pkt Len Max', 'Pkt Len Std', 'Fwd Pkt Len Max', 'Fwd IAT Tot', 'Down/Up Ratio', 'Fwd IAT Max'], 'Adv sample 938': ['SYN Flag Cnt', 'Init Bwd Win Byts', 'Pkt Len Min', 'Bwd Pkt Len Min', 'Idle Max', 'ACK Flag Cnt', 'Idle Min', 'Subflow Fwd Pkts', 'Flow IAT Max', 'Bwd Pkt Len Std'], 'Adv sample 939': ['Flow Pkts/s', 'FIN Flag Cnt', 'Init Bwd Win Byts', 'Bwd Pkts/s', 'Pkt Len Min', 'Down/Up Ratio', 'Pkt Size Avg', 'Pkt Len Std', 'Pkt Len Max', 'Pkt Len Mean'], 'Adv sample 940': ['SYN Flag Cnt', 'Init Bwd Win Byts', 'Pkt Len Min', 'ACK Flag Cnt', 'Idle Min', 'Idle Max', 'Bwd Pkt Len Min', 'Flow IAT Max', 'Bwd Header Len', 'Bwd URG Flags'], 'Adv sample 941': ['Pkt Len Min', 'Init Bwd Win Byts', 'Down/Up Ratio', 'Flow Duration', 'Flow IAT Max', 'Flow IAT Std', 'FIN Flag Cnt', 'Pkt Len Std', 'Idle Mean', 'Flow Pkts/s'], 'Adv sample 942': ['Pkt Len Min', 'Init Bwd Win Byts', 'Down/Up Ratio', 'Flow Duration', 'FIN Flag Cnt', 'Flow IAT Max', 'Bwd Pkt Len Min', 'Fwd IAT Max', 'Flow IAT Std', 'Pkt Len Std'], 'Adv sample 943': ['SYN Flag Cnt', 'Init Bwd Win Byts', 'ACK Flag Cnt', 'Idle Min', 'Bwd Pkt Len Max', 'Bwd Pkt Len Min', 'Idle Max', 'Fwd IAT Tot', 'Bwd Pkt Len Mean', 'Bwd Pkt Len Std'], 'Adv sample 944': ['SYN Flag Cnt', 'Init Bwd Win Byts', 'Pkt Len Min', 'FIN Flag Cnt', 'Down/Up Ratio', 'Idle Min', 'Bwd Pkt Len Min', 'Flow Duration', 'Fwd IAT Tot', 'Flow IAT Max'], 'Adv sample 945': ['SYN Flag Cnt', 'Init Bwd Win Byts', 'Pkt Len Min', 'Idle Min', 'Down/Up Ratio', 'Bwd Pkt Len Min', 'Idle Max', 'Idle Mean', 'Flow IAT Max', 'PSH Flag Cnt'], 'Adv sample 946': ['Init Bwd Win Byts', 'Pkt Len Max', 'Pkt Len Std', 'Pkt Len Min', 'Pkt Len Mean', 'Pkt Size Avg', 'Flow Pkts/s', 'Fwd Seg Size Avg', 'Fwd Pkt Len Mean', 'Fwd Pkt Len Std'], 'Adv sample 947': ['ACK Flag Cnt', 'Bwd IAT Std', 'Init Bwd Win Byts', 'Bwd IAT Max', 'Bwd IAT Tot', 'Flow IAT Mean', 'Pkt Len Min', 'Pkt Len Mean', 'PSH Flag Cnt', 'Bwd Header Len'], 'Adv sample 948': ['SYN Flag Cnt', 'Init Bwd Win Byts', 'Pkt Len Min', 'Down/Up Ratio', 'Idle Min', 'FIN Flag Cnt', 'Bwd Pkt Len Min', 'Pkt Size Avg', 'Flow IAT Max', 'Idle Mean'], 'Adv sample 949': ['Bwd PSH Flags', 'Init Bwd Win Byts', 'Pkt Len Min', 'Bwd Pkt Len Min', 'Bwd Pkt Len Max', 'Bwd Pkt Len Mean', 'Fwd Pkt Len Std', 'ACK Flag Cnt', 'Fwd IAT Tot', 'Bwd IAT Min'], 'Adv sample 950': ['Bwd Pkts/s', 'Init Bwd Win Byts', 'Pkt Len Min', 'Down/Up Ratio', 'Bwd Pkt Len Min', 'Pkt Len Std', 'Pkt Size Avg', 'FIN Flag Cnt', 'Fwd IAT Tot', 'Tot Fwd Pkts'], 'Adv sample 951': ['FIN Flag Cnt', 'Flow Pkts/s', 'Init Bwd Win Byts', 'Pkt Len Min', 'Bwd Pkts/s', 'Down/Up Ratio', 'Pkt Len Std', 'Bwd Pkt Len Min', 'Pkt Len Mean', 'Fwd Pkt Len Max'], 'Adv sample 952': ['SYN Flag Cnt', 'Init Bwd Win Byts', 'Pkt Len Min', 'Idle Max', 'Idle Min', 'Idle Mean', 'Bwd Pkt Len Min', 'Bwd IAT Min', 'Flow IAT Max', 'ACK Flag Cnt'], 'Adv sample 953': ['Pkt Len Min', 'Init Bwd Win Byts', 'Down/Up Ratio', 'Bwd Pkts/s', 'Bwd Pkt Len Min', 'Flow Duration', 'FIN Flag Cnt', 'Pkt Len Std', 'Flow IAT Max', 'Flow IAT Std'], 'Adv sample 954': ['SYN Flag Cnt', 'Init Bwd Win Byts', 'Bwd Pkt Len Max', 'Bwd Pkt Len Std', 'Bwd Pkt Len Mean', 'Pkt Len Min', 'Bwd Seg Size Avg', 'Bwd IAT Std', 'Bwd IAT Max', 'Down/Up Ratio'], 'Adv sample 955': ['SYN Flag Cnt', 'Init Bwd Win Byts', 'Pkt Len Min', 'Down/Up Ratio', 'FIN Flag Cnt', 'Bwd Pkt Len Min', 'Flow IAT Max', 'Idle Min', 'Pkt Len Max', 'Idle Mean'], 'Adv sample 956': ['Pkt Len Min', 'Down/Up Ratio', 'Init Bwd Win Byts', 'Flow Duration', 'Bwd Pkt Len Min', 'Flow IAT Max', 'Fwd IAT Tot', 'Flow Pkts/s', 'Fwd IAT Std', 'Fwd IAT Max'], 'Adv sample 957': ['SYN Flag Cnt', 'Init Bwd Win Byts', 'Pkt Len Min', 'FIN Flag Cnt', 'Down/Up Ratio', 'Bwd Pkt Len Min', 'Fwd IAT Max', 'Idle Min', 'Idle Max', 'Flow IAT Max'], 'Adv sample 958': ['Init Bwd Win Byts', 'Pkt Len Min', 'Pkt Len Max', 'Pkt Len Std', 'Pkt Size Avg', 'Pkt Len Mean', 'Flow Pkts/s', 'Fwd Pkt Len Mean', 'Fwd Pkt Len Max', 'Fwd Seg Size Avg'], 'Adv sample 959': ['Pkt Len Min', 'Init Bwd Win Byts', 'Down/Up Ratio', 'Flow Duration', 'Flow IAT Std', 'Bwd Pkt Len Min', 'Fwd IAT Max', 'Flow IAT Max', 'Flow Pkts/s', 'Pkt Len Max'], 'Adv sample 960': ['Bwd Pkts/s', 'Init Bwd Win Byts', 'Pkt Len Min', 'Down/Up Ratio', 'Bwd Pkt Len Min', 'Flow IAT Std', 'Pkt Len Mean', 'Flow IAT Max', 'Subflow Bwd Byts', 'Fwd Pkt Len Min'], 'Adv sample 961': ['FIN Flag Cnt', 'Flow Pkts/s', 'Init Bwd Win Byts', 'Pkt Len Min', 'Bwd Pkts/s', 'Down/Up Ratio', 'Bwd Pkt Len Min', 'Pkt Len Max', 'Fwd Pkt Len Std', 'Fwd Seg Size Avg'], 'Adv sample 962': ['Pkt Len Min', 'Init Bwd Win Byts', 'Down/Up Ratio', 'Flow Duration', 'Bwd Pkt Len Min', 'Bwd Pkts/s', 'FIN Flag Cnt', 'Fwd Pkt Len Max', 'Idle Max', 'Flow IAT Std'], 'Adv sample 963': ['ACK Flag Cnt', 'Init Bwd Win Byts', 'Bwd PSH Flags', 'Bwd IAT Std', 'Flow IAT Mean', 'Fwd IAT Min', 'Bwd IAT Mean', 'Bwd IAT Max', 'Bwd IAT Tot', 'Idle Max'], 'Adv sample 964': ['Init Bwd Win Byts', 'URG Flag Cnt', 'FIN Flag Cnt', 'Down/Up Ratio', 'Bwd URG Flags', 'Bwd PSH Flags', 'Pkt Len Min', 'Bwd Pkt Len Min', 'Bwd Header Len', 'Idle Max'], 'Adv sample 965': ['FIN Flag Cnt', 'Flow Pkts/s', 'Init Bwd Win Byts', 'Down/Up Ratio', 'Pkt Len Min', 'Bwd Seg Size Avg', 'Subflow Fwd Byts', 'TotLen Bwd Pkts', 'Pkt Len Mean', 'Bwd IAT Min'], 'Adv sample 966': ['ACK Flag Cnt', 'Bwd IAT Std', 'Init Bwd Win Byts', 'Bwd IAT Tot', 'Bwd IAT Max', 'Flow IAT Mean', 'Pkt Len Min', 'Active Mean', 'Tot Fwd Pkts', 'Flow Pkts/s'], 'Adv sample 967': ['Pkt Len Min', 'Init Bwd Win Byts', 'Down/Up Ratio', 'Flow Duration', 'Bwd Pkt Len Min', 'Flow IAT Max', 'Fwd IAT Max', 'Pkt Len Max', 'PSH Flag Cnt', 'Fwd IAT Tot'], 'Adv sample 968': ['Pkt Len Min', 'Init Bwd Win Byts', 'Down/Up Ratio', 'Flow Duration', 'Flow IAT Max', 'Fwd IAT Max', 'Bwd Pkt Len Min', 'Pkt Size Avg', 'Fwd IAT Tot', 'PSH Flag Cnt'], 'Adv sample 969': ['SYN Flag Cnt', 'Init Bwd Win Byts', 'Pkt Len Min', 'Idle Max', 'Flow Byts/s', 'Idle Mean', 'Bwd Pkt Len Min', 'Bwd Pkt Len Std', 'Idle Min', 'ACK Flag Cnt'], 'Adv sample 970': ['Pkt Len Min', 'Init Bwd Win Byts', 'Down/Up Ratio', 'Flow Duration', 'Bwd Pkt Len Min', 'Flow IAT Max', 'Flow IAT Std', 'FIN Flag Cnt', 'Fwd IAT Max', 'Pkt Len Max'], 'Adv sample 971': ['Init Bwd Win Byts', 'Pkt Len Max', 'Pkt Len Mean', 'Pkt Len Min', 'Pkt Len Std', 'Flow Pkts/s', 'Pkt Size Avg', 'Fwd Seg Size Avg', 'Fwd Pkt Len Mean', 'Fwd Pkt Len Std'], 'Adv sample 972': ['Bwd Pkts/s', 'Init Bwd Win Byts', 'Pkt Len Min', 'Down/Up Ratio', 'Bwd Pkt Len Min', 'Idle Mean', 'Fwd Pkt Len Std', 'Active Std', 'Idle Min', 'Flow IAT Max'], 'Adv sample 973': ['SYN Flag Cnt', 'Init Bwd Win Byts', 'Pkt Len Min', 'Idle Min', 'Bwd Pkt Len Min', 'Down/Up Ratio', 'Idle Mean', 'Pkt Len Max', 'Pkt Len Mean', 'Flow IAT Max'], 'Adv sample 974': ['Pkt Len Min', 'Init Bwd Win Byts', 'Down/Up Ratio', 'Flow Duration', 'Flow IAT Max', 'Fwd IAT Max', 'Pkt Len Max', 'Flow IAT Std', 'Pkt Len Mean', 'Bwd Pkt Len Min'], 'Adv sample 975': ['SYN Flag Cnt', 'Init Bwd Win Byts', 'Pkt Len Min', 'Bwd Pkt Len Min', 'Idle Min', 'Pkt Len Mean', 'Idle Max', 'Down/Up Ratio', 'Bwd IAT Min', 'PSH Flag Cnt'], 'Adv sample 976': ['SYN Flag Cnt', 'Init Bwd Win Byts', 'Pkt Len Min', 'Down/Up Ratio', 'FIN Flag Cnt', 'Bwd Pkt Len Min', 'Flow Duration', 'Idle Min', 'ACK Flag Cnt', 'Fwd IAT Tot'], 'Adv sample 977': ['SYN Flag Cnt', 'Init Bwd Win Byts', 'Bwd Pkt Len Std', 'Bwd Pkt Len Max', 'Idle Min', 'TotLen Bwd Pkts', 'Bwd Seg Size Avg', 'Bwd Pkt Len Mean', 'Idle Mean', 'Fwd Pkt Len Min'], 'Adv sample 978': ['SYN Flag Cnt', 'Init Bwd Win Byts', 'Pkt Len Min', 'FIN Flag Cnt', 'Down/Up Ratio', 'Idle Min', 'Idle Max', 'Flow IAT Max', 'Bwd Seg Size Avg', 'Bwd Pkt Len Min'], 'Adv sample 979': ['Bwd Pkts/s', 'Init Bwd Win Byts', 'Pkt Len Min', 'Down/Up Ratio', 'Bwd Pkt Len Min', 'Pkt Len Mean', 'Flow IAT Max', 'Pkt Len Max', 'Fwd IAT Max', 'Idle Min'], 'Adv sample 980': ['Bwd Pkts/s', 'Init Bwd Win Byts', 'Down/Up Ratio', 'Pkt Len Min', 'Bwd Pkt Len Min', 'Flow Duration', 'Flow IAT Mean', 'Idle Min', 'Pkt Size Avg', 'Active Mean'], 'Adv sample 981': ['Pkt Len Min', 'Init Bwd Win Byts', 'Down/Up Ratio', 'Flow Duration', 'Flow IAT Std', 'Flow IAT Max', 'Bwd Pkts/s', 'Bwd Pkt Len Min', 'Fwd IAT Max', 'Pkt Len Max'], 'Adv sample 982': ['FIN Flag Cnt', 'Flow Pkts/s', 'Init Bwd Win Byts', 'Down/Up Ratio', 'Pkt Len Min', 'Fwd IAT Tot', 'Bwd IAT Min', 'Bwd Pkt Len Std', 'TotLen Fwd Pkts', 'Bwd Pkt Len Max'], 'Adv sample 983': ['FIN Flag Cnt', 'Flow Pkts/s', 'Init Bwd Win Byts', 'Pkt Len Min', 'Down/Up Ratio', 'Bwd Pkts/s', 'Pkt Size Avg', 'Pkt Len Mean', 'Bwd Header Len', 'Fwd IAT Tot'], 'Adv sample 984': ['Init Bwd Win Byts', 'URG Flag Cnt', 'FIN Flag Cnt', 'Bwd URG Flags', 'Down/Up Ratio', 'Bwd PSH Flags', 'Pkt Len Min', 'Pkt Len Max', 'Bwd Pkt Len Min', 'Fwd IAT Max'], 'Adv sample 985': ['Bwd Pkts/s', 'Init Bwd Win Byts', 'Pkt Len Min', 'Down/Up Ratio', 'Bwd Pkt Len Min', 'Idle Min', 'Fwd IAT Max', 'Pkt Len Mean', 'Fwd Pkt Len Min', 'Fwd IAT Tot'], 'Adv sample 986': ['Pkt Len Min', 'Init Bwd Win Byts', 'Down/Up Ratio', 'Flow Duration', 'Flow IAT Std', 'Pkt Len Max', 'Bwd Pkt Len Min', 'FIN Flag Cnt', 'Flow IAT Max', 'Pkt Len Std'], 'Adv sample 987': ['ACK Flag Cnt', 'Bwd IAT Std', 'Init Bwd Win Byts', 'Bwd IAT Tot', 'Bwd IAT Max', 'Flow IAT Mean', 'Bwd Pkt Len Min', 'Pkt Len Min', 'Subflow Fwd Byts', 'Flow Pkts/s'], 'Adv sample 988': ['Init Bwd Win Byts', 'Pkt Size Avg', 'Pkt Len Min', 'Pkt Len Mean', 'Pkt Len Std', 'Pkt Len Max', 'Fwd Seg Size Avg', 'Flow Pkts/s', 'Fwd Pkt Len Mean', 'Fwd Pkt Len Max'], 'Adv sample 989': ['Bwd PSH Flags', 'Init Bwd Win Byts', 'Down/Up Ratio', 'Pkt Len Min', 'ACK Flag Cnt', 'Pkt Len Std', 'Pkt Len Max', 'Pkt Len Mean', 'Pkt Size Avg', 'Fwd IAT Tot'], 'Adv sample 990': ['FIN Flag Cnt', 'Flow Pkts/s', 'Init Bwd Win Byts', 'Bwd Pkts/s', 'Pkt Len Min', 'Down/Up Ratio', 'Bwd Pkt Len Min', 'Pkt Len Mean', 'Fwd IAT Tot', 'Fwd Pkt Len Mean'], 'Adv sample 991': ['FIN Flag Cnt', 'Flow Pkts/s', 'Init Bwd Win Byts', 'Pkt Len Min', 'Down/Up Ratio', 'Bwd PSH Flags', 'Subflow Fwd Byts', 'Idle Max', 'Flow Duration', 'TotLen Fwd Pkts'], 'Adv sample 992': ['Bwd Pkts/s', 'Init Bwd Win Byts', 'Down/Up Ratio', 'Pkt Len Min', 'Pkt Size Avg', 'Bwd Pkt Len Min', 'Fwd IAT Tot', 'Pkt Len Mean', 'Subflow Bwd Byts', 'Flow IAT Max'], 'Adv sample 993': ['FIN Flag Cnt', 'Flow Pkts/s', 'Init Bwd Win Byts', 'Pkt Len Min', 'Bwd Pkts/s', 'Down/Up Ratio', 'Bwd Pkt Len Min', 'Pkt Len Max', 'Pkt Size Avg', 'Idle Max'], 'Adv sample 994': ['Pkt Len Min', 'Init Bwd Win Byts', 'Down/Up Ratio', 'Flow Duration', 'Bwd Pkt Len Min', 'Fwd IAT Max', 'Flow IAT Max', 'Flow IAT Std', 'Pkt Len Mean', 'PSH Flag Cnt'], 'Adv sample 995': ['Pkt Len Min', 'Init Bwd Win Byts', 'Down/Up Ratio', 'Flow Duration', 'Flow IAT Max', 'Bwd Pkts/s', 'Bwd Pkt Len Min', 'Flow IAT Std', 'Flow Pkts/s', 'Fwd IAT Max'], 'Adv sample 996': ['Pkt Len Min', 'Init Bwd Win Byts', 'Down/Up Ratio', 'Flow Duration', 'Pkt Len Std', 'Fwd IAT Max', 'Flow IAT Max', 'FIN Flag Cnt', 'Bwd Pkt Len Min', 'Fwd Pkt Len Max'], 'Adv sample 997': ['SYN Flag Cnt', 'Init Bwd Win Byts', 'Bwd Pkt Len Max', 'Bwd Seg Size Avg', 'Pkt Len Min', 'Idle Mean', 'Bwd Pkt Len Mean', 'Bwd IAT Min', 'Bwd Pkt Len Min', 'Active Std'], 'Adv sample 998': ['Pkt Len Min', 'Init Bwd Win Byts', 'Down/Up Ratio', 'Flow Duration', 'Bwd Pkt Len Min', 'Pkt Len Mean', 'Flow IAT Std', 'PSH Flag Cnt', 'Pkt Size Avg', 'Idle Mean'], 'Adv sample 999': ['Init Bwd Win Byts', 'Pkt Len Min', 'Pkt Len Mean', 'Pkt Len Max', 'Pkt Size Avg', 'Pkt Len Std', 'Flow Pkts/s', 'Fwd Pkt Len Max', 'Fwd Seg Size Avg', 'Fwd Pkt Len Mean']}\n"
          ]
        }
      ]
    },
    {
      "cell_type": "code",
      "source": [
        "len(shap_values[0])"
      ],
      "metadata": {
        "colab": {
          "base_uri": "https://localhost:8080/"
        },
        "id": "YdyTABeHYa2k",
        "outputId": "ee714dd0-54f3-4f3d-8bde-c4f7782d1d6b"
      },
      "execution_count": 24,
      "outputs": [
        {
          "output_type": "execute_result",
          "data": {
            "text/plain": [
              "1000"
            ]
          },
          "metadata": {},
          "execution_count": 24
        }
      ]
    },
    {
      "cell_type": "code",
      "source": [
        "len(data_dict)"
      ],
      "metadata": {
        "colab": {
          "base_uri": "https://localhost:8080/"
        },
        "id": "rUB23r63Tjug",
        "outputId": "9f293861-0294-44ca-e7ff-c0018967676b"
      },
      "execution_count": 25,
      "outputs": [
        {
          "output_type": "execute_result",
          "data": {
            "text/plain": [
              "1000"
            ]
          },
          "metadata": {},
          "execution_count": 25
        }
      ]
    },
    {
      "cell_type": "markdown",
      "source": [
        "# Detection phase"
      ],
      "metadata": {
        "id": "E8tWQQDtNIJk"
      }
    },
    {
      "cell_type": "code",
      "source": [
        "import os\n",
        "import pandas as pd"
      ],
      "metadata": {
        "id": "mmslrdn7z7Zf"
      },
      "execution_count": 26,
      "outputs": []
    },
    {
      "cell_type": "code",
      "source": [
        "whitelist_df = pd.read_csv('/content/drive/MyDrive/DACN_XAI_Adv_defense/InSDN/MLP_top24_InSDN_bin.csv')\n",
        "whitelist_df.head(24)"
      ],
      "metadata": {
        "colab": {
          "base_uri": "https://localhost:8080/",
          "height": 802
        },
        "id": "aQJa-f1GPxvz",
        "outputId": "0f6a878a-c74b-4898-ce29-ca60bca4e863"
      },
      "execution_count": 27,
      "outputs": [
        {
          "output_type": "execute_result",
          "data": {
            "text/plain": [
              "              Feature  Frequency\n",
              "0   Init Bwd Win Byts        684\n",
              "1            Idle Max        604\n",
              "2     Bwd Pkt Len Max        571\n",
              "3           Idle Mean        535\n",
              "4            Idle Min        535\n",
              "5    Bwd Pkt Len Mean        462\n",
              "6     Bwd Pkt Len Std        444\n",
              "7         Pkt Len Min        383\n",
              "8        Tot Fwd Pkts        364\n",
              "9    Bwd Seg Size Avg        358\n",
              "10        Bwd IAT Max        340\n",
              "11       Tot Bwd Pkts        337\n",
              "12    TotLen Fwd Pkts        329\n",
              "13    TotLen Bwd Pkts        324\n",
              "14        Bwd IAT Tot        316\n",
              "15       SYN Flag Cnt        293\n",
              "16        Flow Pkts/s        273\n",
              "17        Bwd IAT Std        268\n",
              "18    Bwd Pkt Len Min        260\n",
              "19    Fwd Pkt Len Min        253\n",
              "20      Flow Duration        248\n",
              "21      Down/Up Ratio        242\n",
              "22       Flow IAT Min        219\n",
              "23    Fwd Pkt Len Std        219"
            ],
            "text/html": [
              "\n",
              "  <div id=\"df-f394ea88-f645-48aa-afe4-cc243f3376a9\">\n",
              "    <div class=\"colab-df-container\">\n",
              "      <div>\n",
              "<style scoped>\n",
              "    .dataframe tbody tr th:only-of-type {\n",
              "        vertical-align: middle;\n",
              "    }\n",
              "\n",
              "    .dataframe tbody tr th {\n",
              "        vertical-align: top;\n",
              "    }\n",
              "\n",
              "    .dataframe thead th {\n",
              "        text-align: right;\n",
              "    }\n",
              "</style>\n",
              "<table border=\"1\" class=\"dataframe\">\n",
              "  <thead>\n",
              "    <tr style=\"text-align: right;\">\n",
              "      <th></th>\n",
              "      <th>Feature</th>\n",
              "      <th>Frequency</th>\n",
              "    </tr>\n",
              "  </thead>\n",
              "  <tbody>\n",
              "    <tr>\n",
              "      <th>0</th>\n",
              "      <td>Init Bwd Win Byts</td>\n",
              "      <td>684</td>\n",
              "    </tr>\n",
              "    <tr>\n",
              "      <th>1</th>\n",
              "      <td>Idle Max</td>\n",
              "      <td>604</td>\n",
              "    </tr>\n",
              "    <tr>\n",
              "      <th>2</th>\n",
              "      <td>Bwd Pkt Len Max</td>\n",
              "      <td>571</td>\n",
              "    </tr>\n",
              "    <tr>\n",
              "      <th>3</th>\n",
              "      <td>Idle Mean</td>\n",
              "      <td>535</td>\n",
              "    </tr>\n",
              "    <tr>\n",
              "      <th>4</th>\n",
              "      <td>Idle Min</td>\n",
              "      <td>535</td>\n",
              "    </tr>\n",
              "    <tr>\n",
              "      <th>5</th>\n",
              "      <td>Bwd Pkt Len Mean</td>\n",
              "      <td>462</td>\n",
              "    </tr>\n",
              "    <tr>\n",
              "      <th>6</th>\n",
              "      <td>Bwd Pkt Len Std</td>\n",
              "      <td>444</td>\n",
              "    </tr>\n",
              "    <tr>\n",
              "      <th>7</th>\n",
              "      <td>Pkt Len Min</td>\n",
              "      <td>383</td>\n",
              "    </tr>\n",
              "    <tr>\n",
              "      <th>8</th>\n",
              "      <td>Tot Fwd Pkts</td>\n",
              "      <td>364</td>\n",
              "    </tr>\n",
              "    <tr>\n",
              "      <th>9</th>\n",
              "      <td>Bwd Seg Size Avg</td>\n",
              "      <td>358</td>\n",
              "    </tr>\n",
              "    <tr>\n",
              "      <th>10</th>\n",
              "      <td>Bwd IAT Max</td>\n",
              "      <td>340</td>\n",
              "    </tr>\n",
              "    <tr>\n",
              "      <th>11</th>\n",
              "      <td>Tot Bwd Pkts</td>\n",
              "      <td>337</td>\n",
              "    </tr>\n",
              "    <tr>\n",
              "      <th>12</th>\n",
              "      <td>TotLen Fwd Pkts</td>\n",
              "      <td>329</td>\n",
              "    </tr>\n",
              "    <tr>\n",
              "      <th>13</th>\n",
              "      <td>TotLen Bwd Pkts</td>\n",
              "      <td>324</td>\n",
              "    </tr>\n",
              "    <tr>\n",
              "      <th>14</th>\n",
              "      <td>Bwd IAT Tot</td>\n",
              "      <td>316</td>\n",
              "    </tr>\n",
              "    <tr>\n",
              "      <th>15</th>\n",
              "      <td>SYN Flag Cnt</td>\n",
              "      <td>293</td>\n",
              "    </tr>\n",
              "    <tr>\n",
              "      <th>16</th>\n",
              "      <td>Flow Pkts/s</td>\n",
              "      <td>273</td>\n",
              "    </tr>\n",
              "    <tr>\n",
              "      <th>17</th>\n",
              "      <td>Bwd IAT Std</td>\n",
              "      <td>268</td>\n",
              "    </tr>\n",
              "    <tr>\n",
              "      <th>18</th>\n",
              "      <td>Bwd Pkt Len Min</td>\n",
              "      <td>260</td>\n",
              "    </tr>\n",
              "    <tr>\n",
              "      <th>19</th>\n",
              "      <td>Fwd Pkt Len Min</td>\n",
              "      <td>253</td>\n",
              "    </tr>\n",
              "    <tr>\n",
              "      <th>20</th>\n",
              "      <td>Flow Duration</td>\n",
              "      <td>248</td>\n",
              "    </tr>\n",
              "    <tr>\n",
              "      <th>21</th>\n",
              "      <td>Down/Up Ratio</td>\n",
              "      <td>242</td>\n",
              "    </tr>\n",
              "    <tr>\n",
              "      <th>22</th>\n",
              "      <td>Flow IAT Min</td>\n",
              "      <td>219</td>\n",
              "    </tr>\n",
              "    <tr>\n",
              "      <th>23</th>\n",
              "      <td>Fwd Pkt Len Std</td>\n",
              "      <td>219</td>\n",
              "    </tr>\n",
              "  </tbody>\n",
              "</table>\n",
              "</div>\n",
              "      <button class=\"colab-df-convert\" onclick=\"convertToInteractive('df-f394ea88-f645-48aa-afe4-cc243f3376a9')\"\n",
              "              title=\"Convert this dataframe to an interactive table.\"\n",
              "              style=\"display:none;\">\n",
              "        \n",
              "  <svg xmlns=\"http://www.w3.org/2000/svg\" height=\"24px\"viewBox=\"0 0 24 24\"\n",
              "       width=\"24px\">\n",
              "    <path d=\"M0 0h24v24H0V0z\" fill=\"none\"/>\n",
              "    <path d=\"M18.56 5.44l.94 2.06.94-2.06 2.06-.94-2.06-.94-.94-2.06-.94 2.06-2.06.94zm-11 1L8.5 8.5l.94-2.06 2.06-.94-2.06-.94L8.5 2.5l-.94 2.06-2.06.94zm10 10l.94 2.06.94-2.06 2.06-.94-2.06-.94-.94-2.06-.94 2.06-2.06.94z\"/><path d=\"M17.41 7.96l-1.37-1.37c-.4-.4-.92-.59-1.43-.59-.52 0-1.04.2-1.43.59L10.3 9.45l-7.72 7.72c-.78.78-.78 2.05 0 2.83L4 21.41c.39.39.9.59 1.41.59.51 0 1.02-.2 1.41-.59l7.78-7.78 2.81-2.81c.8-.78.8-2.07 0-2.86zM5.41 20L4 18.59l7.72-7.72 1.47 1.35L5.41 20z\"/>\n",
              "  </svg>\n",
              "      </button>\n",
              "      \n",
              "  <style>\n",
              "    .colab-df-container {\n",
              "      display:flex;\n",
              "      flex-wrap:wrap;\n",
              "      gap: 12px;\n",
              "    }\n",
              "\n",
              "    .colab-df-convert {\n",
              "      background-color: #E8F0FE;\n",
              "      border: none;\n",
              "      border-radius: 50%;\n",
              "      cursor: pointer;\n",
              "      display: none;\n",
              "      fill: #1967D2;\n",
              "      height: 32px;\n",
              "      padding: 0 0 0 0;\n",
              "      width: 32px;\n",
              "    }\n",
              "\n",
              "    .colab-df-convert:hover {\n",
              "      background-color: #E2EBFA;\n",
              "      box-shadow: 0px 1px 2px rgba(60, 64, 67, 0.3), 0px 1px 3px 1px rgba(60, 64, 67, 0.15);\n",
              "      fill: #174EA6;\n",
              "    }\n",
              "\n",
              "    [theme=dark] .colab-df-convert {\n",
              "      background-color: #3B4455;\n",
              "      fill: #D2E3FC;\n",
              "    }\n",
              "\n",
              "    [theme=dark] .colab-df-convert:hover {\n",
              "      background-color: #434B5C;\n",
              "      box-shadow: 0px 1px 3px 1px rgba(0, 0, 0, 0.15);\n",
              "      filter: drop-shadow(0px 1px 2px rgba(0, 0, 0, 0.3));\n",
              "      fill: #FFFFFF;\n",
              "    }\n",
              "  </style>\n",
              "\n",
              "      <script>\n",
              "        const buttonEl =\n",
              "          document.querySelector('#df-f394ea88-f645-48aa-afe4-cc243f3376a9 button.colab-df-convert');\n",
              "        buttonEl.style.display =\n",
              "          google.colab.kernel.accessAllowed ? 'block' : 'none';\n",
              "\n",
              "        async function convertToInteractive(key) {\n",
              "          const element = document.querySelector('#df-f394ea88-f645-48aa-afe4-cc243f3376a9');\n",
              "          const dataTable =\n",
              "            await google.colab.kernel.invokeFunction('convertToInteractive',\n",
              "                                                     [key], {});\n",
              "          if (!dataTable) return;\n",
              "\n",
              "          const docLinkHtml = 'Like what you see? Visit the ' +\n",
              "            '<a target=\"_blank\" href=https://colab.research.google.com/notebooks/data_table.ipynb>data table notebook</a>'\n",
              "            + ' to learn more about interactive tables.';\n",
              "          element.innerHTML = '';\n",
              "          dataTable['output_type'] = 'display_data';\n",
              "          await google.colab.output.renderOutput(dataTable, element);\n",
              "          const docLink = document.createElement('div');\n",
              "          docLink.innerHTML = docLinkHtml;\n",
              "          element.appendChild(docLink);\n",
              "        }\n",
              "      </script>\n",
              "    </div>\n",
              "  </div>\n",
              "  "
            ]
          },
          "metadata": {},
          "execution_count": 27
        }
      ]
    },
    {
      "cell_type": "markdown",
      "source": [
        "## Detection rate (top 24) = 969/1000"
      ],
      "metadata": {
        "id": "PkqSAZakWXM8"
      }
    },
    {
      "cell_type": "code",
      "source": [
        "whitelist = whitelist_df.iloc[:, 0][:24].tolist()\n",
        "print(whitelist)"
      ],
      "metadata": {
        "colab": {
          "base_uri": "https://localhost:8080/"
        },
        "id": "hiA70yr9QStE",
        "outputId": "a696fbbf-06cb-449f-b6cf-dd65a8d5cf27"
      },
      "execution_count": 28,
      "outputs": [
        {
          "output_type": "stream",
          "name": "stdout",
          "text": [
            "['Init Bwd Win Byts', 'Idle Max', 'Bwd Pkt Len Max', 'Idle Mean', 'Idle Min', 'Bwd Pkt Len Mean', 'Bwd Pkt Len Std', 'Pkt Len Min', 'Tot Fwd Pkts', 'Bwd Seg Size Avg', 'Bwd IAT Max', 'Tot Bwd Pkts', 'TotLen Fwd Pkts', 'TotLen Bwd Pkts', 'Bwd IAT Tot', 'SYN Flag Cnt', 'Flow Pkts/s', 'Bwd IAT Std', 'Bwd Pkt Len Min', 'Fwd Pkt Len Min', 'Flow Duration', 'Down/Up Ratio', 'Flow IAT Min', 'Fwd Pkt Len Std']\n"
          ]
        }
      ]
    },
    {
      "cell_type": "code",
      "source": [
        "alert = []\n",
        "\n",
        "# Iterate over each key-value pair in the data_dict\n",
        "for key, value in data_dict.items():\n",
        "    # Check if there are one feature is not in the whitelist\n",
        "    for string in value:\n",
        "      if string not in whitelist:\n",
        "        alert.append(key)\n",
        "        break\n",
        "\n",
        "# Print the alert dictionary\n",
        "print(\"Alert list length:\" + str(len(alert)))"
      ],
      "metadata": {
        "colab": {
          "base_uri": "https://localhost:8080/"
        },
        "id": "GWIJRBYkUwhx",
        "outputId": "b7068beb-d0b0-4766-bce4-8af5328c76b9"
      },
      "execution_count": 29,
      "outputs": [
        {
          "output_type": "stream",
          "name": "stdout",
          "text": [
            "Alert list length:983\n"
          ]
        }
      ]
    },
    {
      "cell_type": "markdown",
      "source": [
        "## Detection rate (top 38) = 783/1000"
      ],
      "metadata": {
        "id": "NddVIE7MU9m-"
      }
    },
    {
      "cell_type": "code",
      "source": [
        "whitelist2 = whitelist_df.iloc[:, 0][:38].tolist()\n",
        "print(whitelist2)"
      ],
      "metadata": {
        "colab": {
          "base_uri": "https://localhost:8080/"
        },
        "id": "QTKqfqrEWMLV",
        "outputId": "b231efb5-6ecd-4534-c99b-26ff40755e7b"
      },
      "execution_count": 30,
      "outputs": [
        {
          "output_type": "stream",
          "name": "stdout",
          "text": [
            "['Init Bwd Win Byts', 'Idle Max', 'Bwd Pkt Len Max', 'Idle Mean', 'Idle Min', 'Bwd Pkt Len Mean', 'Bwd Pkt Len Std', 'Pkt Len Min', 'Tot Fwd Pkts', 'Bwd Seg Size Avg', 'Bwd IAT Max', 'Tot Bwd Pkts', 'TotLen Fwd Pkts', 'TotLen Bwd Pkts', 'Bwd IAT Tot', 'SYN Flag Cnt', 'Flow Pkts/s', 'Bwd IAT Std', 'Bwd Pkt Len Min', 'Fwd Pkt Len Min', 'Flow Duration', 'Down/Up Ratio', 'Flow IAT Min', 'Fwd Pkt Len Std', 'Fwd Pkts/s', 'Active Min', 'Fwd IAT Std', 'Flow IAT Mean', 'Fwd IAT Mean', 'Bwd Header Len', 'Pkt Len Var', 'Active Mean', 'Fwd IAT Tot', 'Active Max', 'Idle Std', 'Active Std', 'Flow IAT Std', 'Subflow Bwd Pkts']\n"
          ]
        }
      ]
    },
    {
      "cell_type": "code",
      "source": [
        "alert2 = []\n",
        "\n",
        "# Iterate over each key-value pair in the data_dict\n",
        "for key, value in data_dict.items():\n",
        "    # Check if there are one feature is not in the whitelist\n",
        "    for string in value:\n",
        "      if string not in whitelist2:\n",
        "        alert2.append(key)\n",
        "        break\n",
        "\n",
        "# Print the alert dictionary\n",
        "print(\"Alert list length:\" + str(len(alert2)))"
      ],
      "metadata": {
        "colab": {
          "base_uri": "https://localhost:8080/"
        },
        "id": "p_i5J0kxVyCx",
        "outputId": "639fbc55-ceb4-4de4-92b8-74ffd24bab72"
      },
      "execution_count": 31,
      "outputs": [
        {
          "output_type": "stream",
          "name": "stdout",
          "text": [
            "Alert list length:969\n"
          ]
        }
      ]
    }
  ]
}