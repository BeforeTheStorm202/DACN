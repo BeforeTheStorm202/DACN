{
  "nbformat": 4,
  "nbformat_minor": 0,
  "metadata": {
    "colab": {
      "provenance": [],
      "mount_file_id": "1JWTqT3mMM2HfrfewKQMDqPdL4yjXikj9",
      "authorship_tag": "ABX9TyOHLhAT+584Lk4yQ7sYsf1j",
      "include_colab_link": true
    },
    "kernelspec": {
      "name": "python3",
      "display_name": "Python 3"
    },
    "language_info": {
      "name": "python"
    },
    "widgets": {
      "application/vnd.jupyter.widget-state+json": {
        "ee242d7310384643a0dd4fd62b9f6acd": {
          "model_module": "@jupyter-widgets/controls",
          "model_name": "HBoxModel",
          "model_module_version": "1.5.0",
          "state": {
            "_dom_classes": [],
            "_model_module": "@jupyter-widgets/controls",
            "_model_module_version": "1.5.0",
            "_model_name": "HBoxModel",
            "_view_count": null,
            "_view_module": "@jupyter-widgets/controls",
            "_view_module_version": "1.5.0",
            "_view_name": "HBoxView",
            "box_style": "",
            "children": [
              "IPY_MODEL_6a25826b5d7843e48ca612af77edb0c0",
              "IPY_MODEL_9b5e37a7e44e4721915b347cb88cade8",
              "IPY_MODEL_9ac52341cf174405893d8a32113d3fa7"
            ],
            "layout": "IPY_MODEL_a9a687eb78dd45b28bf5ec551069ccad"
          }
        },
        "6a25826b5d7843e48ca612af77edb0c0": {
          "model_module": "@jupyter-widgets/controls",
          "model_name": "HTMLModel",
          "model_module_version": "1.5.0",
          "state": {
            "_dom_classes": [],
            "_model_module": "@jupyter-widgets/controls",
            "_model_module_version": "1.5.0",
            "_model_name": "HTMLModel",
            "_view_count": null,
            "_view_module": "@jupyter-widgets/controls",
            "_view_module_version": "1.5.0",
            "_view_name": "HTMLView",
            "description": "",
            "description_tooltip": null,
            "layout": "IPY_MODEL_7127264a01164f8097255df37488e857",
            "placeholder": "​",
            "style": "IPY_MODEL_dfa6138900cd46f58fc8bdecb5322141",
            "value": "100%"
          }
        },
        "9b5e37a7e44e4721915b347cb88cade8": {
          "model_module": "@jupyter-widgets/controls",
          "model_name": "FloatProgressModel",
          "model_module_version": "1.5.0",
          "state": {
            "_dom_classes": [],
            "_model_module": "@jupyter-widgets/controls",
            "_model_module_version": "1.5.0",
            "_model_name": "FloatProgressModel",
            "_view_count": null,
            "_view_module": "@jupyter-widgets/controls",
            "_view_module_version": "1.5.0",
            "_view_name": "ProgressView",
            "bar_style": "success",
            "description": "",
            "description_tooltip": null,
            "layout": "IPY_MODEL_ec784be615a7477b982cc7c5ca4abd97",
            "max": 100,
            "min": 0,
            "orientation": "horizontal",
            "style": "IPY_MODEL_3c6879ae66fe42de9dac2adaf8bb5363",
            "value": 100
          }
        },
        "9ac52341cf174405893d8a32113d3fa7": {
          "model_module": "@jupyter-widgets/controls",
          "model_name": "HTMLModel",
          "model_module_version": "1.5.0",
          "state": {
            "_dom_classes": [],
            "_model_module": "@jupyter-widgets/controls",
            "_model_module_version": "1.5.0",
            "_model_name": "HTMLModel",
            "_view_count": null,
            "_view_module": "@jupyter-widgets/controls",
            "_view_module_version": "1.5.0",
            "_view_name": "HTMLView",
            "description": "",
            "description_tooltip": null,
            "layout": "IPY_MODEL_67d2b03dcada43dfbcf5339fc3056ad4",
            "placeholder": "​",
            "style": "IPY_MODEL_0e8feb451c0a4af6a505aacddcf35756",
            "value": " 100/100 [55:27&lt;00:00, 31.71s/it]"
          }
        },
        "a9a687eb78dd45b28bf5ec551069ccad": {
          "model_module": "@jupyter-widgets/base",
          "model_name": "LayoutModel",
          "model_module_version": "1.2.0",
          "state": {
            "_model_module": "@jupyter-widgets/base",
            "_model_module_version": "1.2.0",
            "_model_name": "LayoutModel",
            "_view_count": null,
            "_view_module": "@jupyter-widgets/base",
            "_view_module_version": "1.2.0",
            "_view_name": "LayoutView",
            "align_content": null,
            "align_items": null,
            "align_self": null,
            "border": null,
            "bottom": null,
            "display": null,
            "flex": null,
            "flex_flow": null,
            "grid_area": null,
            "grid_auto_columns": null,
            "grid_auto_flow": null,
            "grid_auto_rows": null,
            "grid_column": null,
            "grid_gap": null,
            "grid_row": null,
            "grid_template_areas": null,
            "grid_template_columns": null,
            "grid_template_rows": null,
            "height": null,
            "justify_content": null,
            "justify_items": null,
            "left": null,
            "margin": null,
            "max_height": null,
            "max_width": null,
            "min_height": null,
            "min_width": null,
            "object_fit": null,
            "object_position": null,
            "order": null,
            "overflow": null,
            "overflow_x": null,
            "overflow_y": null,
            "padding": null,
            "right": null,
            "top": null,
            "visibility": null,
            "width": null
          }
        },
        "7127264a01164f8097255df37488e857": {
          "model_module": "@jupyter-widgets/base",
          "model_name": "LayoutModel",
          "model_module_version": "1.2.0",
          "state": {
            "_model_module": "@jupyter-widgets/base",
            "_model_module_version": "1.2.0",
            "_model_name": "LayoutModel",
            "_view_count": null,
            "_view_module": "@jupyter-widgets/base",
            "_view_module_version": "1.2.0",
            "_view_name": "LayoutView",
            "align_content": null,
            "align_items": null,
            "align_self": null,
            "border": null,
            "bottom": null,
            "display": null,
            "flex": null,
            "flex_flow": null,
            "grid_area": null,
            "grid_auto_columns": null,
            "grid_auto_flow": null,
            "grid_auto_rows": null,
            "grid_column": null,
            "grid_gap": null,
            "grid_row": null,
            "grid_template_areas": null,
            "grid_template_columns": null,
            "grid_template_rows": null,
            "height": null,
            "justify_content": null,
            "justify_items": null,
            "left": null,
            "margin": null,
            "max_height": null,
            "max_width": null,
            "min_height": null,
            "min_width": null,
            "object_fit": null,
            "object_position": null,
            "order": null,
            "overflow": null,
            "overflow_x": null,
            "overflow_y": null,
            "padding": null,
            "right": null,
            "top": null,
            "visibility": null,
            "width": null
          }
        },
        "dfa6138900cd46f58fc8bdecb5322141": {
          "model_module": "@jupyter-widgets/controls",
          "model_name": "DescriptionStyleModel",
          "model_module_version": "1.5.0",
          "state": {
            "_model_module": "@jupyter-widgets/controls",
            "_model_module_version": "1.5.0",
            "_model_name": "DescriptionStyleModel",
            "_view_count": null,
            "_view_module": "@jupyter-widgets/base",
            "_view_module_version": "1.2.0",
            "_view_name": "StyleView",
            "description_width": ""
          }
        },
        "ec784be615a7477b982cc7c5ca4abd97": {
          "model_module": "@jupyter-widgets/base",
          "model_name": "LayoutModel",
          "model_module_version": "1.2.0",
          "state": {
            "_model_module": "@jupyter-widgets/base",
            "_model_module_version": "1.2.0",
            "_model_name": "LayoutModel",
            "_view_count": null,
            "_view_module": "@jupyter-widgets/base",
            "_view_module_version": "1.2.0",
            "_view_name": "LayoutView",
            "align_content": null,
            "align_items": null,
            "align_self": null,
            "border": null,
            "bottom": null,
            "display": null,
            "flex": null,
            "flex_flow": null,
            "grid_area": null,
            "grid_auto_columns": null,
            "grid_auto_flow": null,
            "grid_auto_rows": null,
            "grid_column": null,
            "grid_gap": null,
            "grid_row": null,
            "grid_template_areas": null,
            "grid_template_columns": null,
            "grid_template_rows": null,
            "height": null,
            "justify_content": null,
            "justify_items": null,
            "left": null,
            "margin": null,
            "max_height": null,
            "max_width": null,
            "min_height": null,
            "min_width": null,
            "object_fit": null,
            "object_position": null,
            "order": null,
            "overflow": null,
            "overflow_x": null,
            "overflow_y": null,
            "padding": null,
            "right": null,
            "top": null,
            "visibility": null,
            "width": null
          }
        },
        "3c6879ae66fe42de9dac2adaf8bb5363": {
          "model_module": "@jupyter-widgets/controls",
          "model_name": "ProgressStyleModel",
          "model_module_version": "1.5.0",
          "state": {
            "_model_module": "@jupyter-widgets/controls",
            "_model_module_version": "1.5.0",
            "_model_name": "ProgressStyleModel",
            "_view_count": null,
            "_view_module": "@jupyter-widgets/base",
            "_view_module_version": "1.2.0",
            "_view_name": "StyleView",
            "bar_color": null,
            "description_width": ""
          }
        },
        "67d2b03dcada43dfbcf5339fc3056ad4": {
          "model_module": "@jupyter-widgets/base",
          "model_name": "LayoutModel",
          "model_module_version": "1.2.0",
          "state": {
            "_model_module": "@jupyter-widgets/base",
            "_model_module_version": "1.2.0",
            "_model_name": "LayoutModel",
            "_view_count": null,
            "_view_module": "@jupyter-widgets/base",
            "_view_module_version": "1.2.0",
            "_view_name": "LayoutView",
            "align_content": null,
            "align_items": null,
            "align_self": null,
            "border": null,
            "bottom": null,
            "display": null,
            "flex": null,
            "flex_flow": null,
            "grid_area": null,
            "grid_auto_columns": null,
            "grid_auto_flow": null,
            "grid_auto_rows": null,
            "grid_column": null,
            "grid_gap": null,
            "grid_row": null,
            "grid_template_areas": null,
            "grid_template_columns": null,
            "grid_template_rows": null,
            "height": null,
            "justify_content": null,
            "justify_items": null,
            "left": null,
            "margin": null,
            "max_height": null,
            "max_width": null,
            "min_height": null,
            "min_width": null,
            "object_fit": null,
            "object_position": null,
            "order": null,
            "overflow": null,
            "overflow_x": null,
            "overflow_y": null,
            "padding": null,
            "right": null,
            "top": null,
            "visibility": null,
            "width": null
          }
        },
        "0e8feb451c0a4af6a505aacddcf35756": {
          "model_module": "@jupyter-widgets/controls",
          "model_name": "DescriptionStyleModel",
          "model_module_version": "1.5.0",
          "state": {
            "_model_module": "@jupyter-widgets/controls",
            "_model_module_version": "1.5.0",
            "_model_name": "DescriptionStyleModel",
            "_view_count": null,
            "_view_module": "@jupyter-widgets/base",
            "_view_module_version": "1.2.0",
            "_view_name": "StyleView",
            "description_width": ""
          }
        }
      }
    }
  },
  "cells": [
    {
      "cell_type": "markdown",
      "metadata": {
        "id": "view-in-github",
        "colab_type": "text"
      },
      "source": [
        "<a href=\"https://colab.research.google.com/github/BeforeTheStorm202/DACN/blob/main/InSDN_CNN_hsj_SHAP_detection_bin.ipynb\" target=\"_parent\"><img src=\"https://colab.research.google.com/assets/colab-badge.svg\" alt=\"Open In Colab\"/></a>"
      ]
    },
    {
      "cell_type": "markdown",
      "source": [
        "# Import"
      ],
      "metadata": {
        "id": "O0lPv_8LykMw"
      }
    },
    {
      "cell_type": "code",
      "source": [
        "from google.colab import drive\n",
        "drive.mount('/content/drive', force_remount=True)"
      ],
      "metadata": {
        "colab": {
          "base_uri": "https://localhost:8080/"
        },
        "id": "8efEEenXOnJi",
        "outputId": "08320a85-467c-4e5c-8cc1-11cdd2eadbf7"
      },
      "execution_count": null,
      "outputs": [
        {
          "output_type": "stream",
          "name": "stdout",
          "text": [
            "Mounted at /content/drive\n"
          ]
        }
      ]
    },
    {
      "cell_type": "code",
      "execution_count": 1,
      "metadata": {
        "id": "bBcPmYOsyREp",
        "colab": {
          "base_uri": "https://localhost:8080/"
        },
        "outputId": "2d948f5e-e5bc-4387-e5f6-d5a576c951c7"
      },
      "outputs": [
        {
          "output_type": "stream",
          "name": "stdout",
          "text": [
            "Collecting shap\n",
            "  Downloading shap-0.42.0-cp310-cp310-manylinux_2_12_x86_64.manylinux2010_x86_64.manylinux_2_17_x86_64.manylinux2014_x86_64.whl (547 kB)\n",
            "\u001b[?25l     \u001b[90m━━━━━━━━━━━━━━━━━━━━━━━━━━━━━━━━━━━━━━━━\u001b[0m \u001b[32m0.0/547.1 kB\u001b[0m \u001b[31m?\u001b[0m eta \u001b[36m-:--:--\u001b[0m\r\u001b[2K     \u001b[91m━━━━━━━━━━━━━━━━━━━━━\u001b[0m\u001b[91m╸\u001b[0m\u001b[90m━━━━━━━━━━━━━━━━━\u001b[0m \u001b[32m307.2/547.1 kB\u001b[0m \u001b[31m9.1 MB/s\u001b[0m eta \u001b[36m0:00:01\u001b[0m\r\u001b[2K     \u001b[90m━━━━━━━━━━━━━━━━━━━━━━━━━━━━━━━━━━━━━━\u001b[0m \u001b[32m547.1/547.1 kB\u001b[0m \u001b[31m10.0 MB/s\u001b[0m eta \u001b[36m0:00:00\u001b[0m\n",
            "\u001b[?25hRequirement already satisfied: numpy in /usr/local/lib/python3.10/dist-packages (from shap) (1.22.4)\n",
            "Requirement already satisfied: scipy in /usr/local/lib/python3.10/dist-packages (from shap) (1.10.1)\n",
            "Requirement already satisfied: scikit-learn in /usr/local/lib/python3.10/dist-packages (from shap) (1.2.2)\n",
            "Requirement already satisfied: pandas in /usr/local/lib/python3.10/dist-packages (from shap) (1.5.3)\n",
            "Requirement already satisfied: tqdm>=4.27.0 in /usr/local/lib/python3.10/dist-packages (from shap) (4.65.0)\n",
            "Requirement already satisfied: packaging>20.9 in /usr/local/lib/python3.10/dist-packages (from shap) (23.1)\n",
            "Collecting slicer==0.0.7 (from shap)\n",
            "  Downloading slicer-0.0.7-py3-none-any.whl (14 kB)\n",
            "Requirement already satisfied: numba in /usr/local/lib/python3.10/dist-packages (from shap) (0.56.4)\n",
            "Requirement already satisfied: cloudpickle in /usr/local/lib/python3.10/dist-packages (from shap) (2.2.1)\n",
            "Requirement already satisfied: llvmlite<0.40,>=0.39.0dev0 in /usr/local/lib/python3.10/dist-packages (from numba->shap) (0.39.1)\n",
            "Requirement already satisfied: setuptools in /usr/local/lib/python3.10/dist-packages (from numba->shap) (67.7.2)\n",
            "Requirement already satisfied: python-dateutil>=2.8.1 in /usr/local/lib/python3.10/dist-packages (from pandas->shap) (2.8.2)\n",
            "Requirement already satisfied: pytz>=2020.1 in /usr/local/lib/python3.10/dist-packages (from pandas->shap) (2022.7.1)\n",
            "Requirement already satisfied: joblib>=1.1.1 in /usr/local/lib/python3.10/dist-packages (from scikit-learn->shap) (1.2.0)\n",
            "Requirement already satisfied: threadpoolctl>=2.0.0 in /usr/local/lib/python3.10/dist-packages (from scikit-learn->shap) (3.1.0)\n",
            "Requirement already satisfied: six>=1.5 in /usr/local/lib/python3.10/dist-packages (from python-dateutil>=2.8.1->pandas->shap) (1.16.0)\n",
            "Installing collected packages: slicer, shap\n",
            "Successfully installed shap-0.42.0 slicer-0.0.7\n"
          ]
        }
      ],
      "source": [
        "!pip install shap"
      ]
    },
    {
      "cell_type": "code",
      "source": [
        "import shap\n",
        "import pandas as pd\n",
        "import tensorflow as tf\n",
        "from tensorflow import keras"
      ],
      "metadata": {
        "id": "yisYwS6Mymik",
        "colab": {
          "base_uri": "https://localhost:8080/"
        },
        "outputId": "004a11cd-a6dd-4233-b2bc-034dd7114144"
      },
      "execution_count": 2,
      "outputs": [
        {
          "output_type": "stream",
          "name": "stderr",
          "text": [
            "Using `tqdm.autonotebook.tqdm` in notebook mode. Use `tqdm.tqdm` instead to force console mode (e.g. in jupyter console)\n"
          ]
        }
      ]
    },
    {
      "cell_type": "markdown",
      "source": [
        "# Load trainset"
      ],
      "metadata": {
        "id": "Bz9tx1gdBGK4"
      }
    },
    {
      "cell_type": "code",
      "source": [
        "df = pd.read_csv('/content/drive/MyDrive/DACN_XAI_Adv_defense/Dataset/insdn/binary/train.csv')\n",
        "df.info()"
      ],
      "metadata": {
        "colab": {
          "base_uri": "https://localhost:8080/"
        },
        "id": "joOnVrMbBIgT",
        "outputId": "c6791c25-dc24-46d3-d72d-fe2719f6eb17"
      },
      "execution_count": 3,
      "outputs": [
        {
          "output_type": "stream",
          "name": "stdout",
          "text": [
            "<class 'pandas.core.frame.DataFrame'>\n",
            "RangeIndex: 275111 entries, 0 to 275110\n",
            "Data columns (total 77 columns):\n",
            " #   Column             Non-Null Count   Dtype  \n",
            "---  ------             --------------   -----  \n",
            " 0   Flow Duration      275111 non-null  float64\n",
            " 1   Tot Fwd Pkts       275111 non-null  float64\n",
            " 2   Tot Bwd Pkts       275111 non-null  float64\n",
            " 3   TotLen Fwd Pkts    275111 non-null  float64\n",
            " 4   TotLen Bwd Pkts    275111 non-null  float64\n",
            " 5   Fwd Pkt Len Max    275111 non-null  float64\n",
            " 6   Fwd Pkt Len Min    275111 non-null  float64\n",
            " 7   Fwd Pkt Len Mean   275111 non-null  float64\n",
            " 8   Fwd Pkt Len Std    275111 non-null  float64\n",
            " 9   Bwd Pkt Len Max    275111 non-null  float64\n",
            " 10  Bwd Pkt Len Min    275111 non-null  float64\n",
            " 11  Bwd Pkt Len Mean   275111 non-null  float64\n",
            " 12  Bwd Pkt Len Std    275111 non-null  float64\n",
            " 13  Flow Byts/s        275111 non-null  float64\n",
            " 14  Flow Pkts/s        275111 non-null  float64\n",
            " 15  Flow IAT Mean      275111 non-null  float64\n",
            " 16  Flow IAT Std       275111 non-null  float64\n",
            " 17  Flow IAT Max       275111 non-null  float64\n",
            " 18  Flow IAT Min       275111 non-null  float64\n",
            " 19  Fwd IAT Tot        275111 non-null  float64\n",
            " 20  Fwd IAT Mean       275111 non-null  float64\n",
            " 21  Fwd IAT Std        275111 non-null  float64\n",
            " 22  Fwd IAT Max        275111 non-null  float64\n",
            " 23  Fwd IAT Min        275111 non-null  float64\n",
            " 24  Bwd IAT Tot        275111 non-null  float64\n",
            " 25  Bwd IAT Mean       275111 non-null  float64\n",
            " 26  Bwd IAT Std        275111 non-null  float64\n",
            " 27  Bwd IAT Max        275111 non-null  float64\n",
            " 28  Bwd IAT Min        275111 non-null  float64\n",
            " 29  Fwd PSH Flags      275111 non-null  float64\n",
            " 30  Bwd PSH Flags      275111 non-null  float64\n",
            " 31  Fwd URG Flags      275111 non-null  float64\n",
            " 32  Bwd URG Flags      275111 non-null  float64\n",
            " 33  Fwd Header Len     275111 non-null  float64\n",
            " 34  Bwd Header Len     275111 non-null  float64\n",
            " 35  Fwd Pkts/s         275111 non-null  float64\n",
            " 36  Bwd Pkts/s         275111 non-null  float64\n",
            " 37  Pkt Len Min        275111 non-null  float64\n",
            " 38  Pkt Len Max        275111 non-null  float64\n",
            " 39  Pkt Len Mean       275111 non-null  float64\n",
            " 40  Pkt Len Std        275111 non-null  float64\n",
            " 41  Pkt Len Var        275111 non-null  float64\n",
            " 42  FIN Flag Cnt       275111 non-null  float64\n",
            " 43  SYN Flag Cnt       275111 non-null  float64\n",
            " 44  RST Flag Cnt       275111 non-null  float64\n",
            " 45  PSH Flag Cnt       275111 non-null  float64\n",
            " 46  ACK Flag Cnt       275111 non-null  float64\n",
            " 47  URG Flag Cnt       275111 non-null  float64\n",
            " 48  CWE Flag Count     275111 non-null  float64\n",
            " 49  ECE Flag Cnt       275111 non-null  float64\n",
            " 50  Down/Up Ratio      275111 non-null  float64\n",
            " 51  Pkt Size Avg       275111 non-null  float64\n",
            " 52  Fwd Seg Size Avg   275111 non-null  float64\n",
            " 53  Bwd Seg Size Avg   275111 non-null  float64\n",
            " 54  Fwd Byts/b Avg     275111 non-null  float64\n",
            " 55  Fwd Pkts/b Avg     275111 non-null  float64\n",
            " 56  Fwd Blk Rate Avg   275111 non-null  float64\n",
            " 57  Bwd Byts/b Avg     275111 non-null  float64\n",
            " 58  Bwd Pkts/b Avg     275111 non-null  float64\n",
            " 59  Bwd Blk Rate Avg   275111 non-null  float64\n",
            " 60  Subflow Fwd Pkts   275111 non-null  float64\n",
            " 61  Subflow Fwd Byts   275111 non-null  float64\n",
            " 62  Subflow Bwd Pkts   275111 non-null  float64\n",
            " 63  Subflow Bwd Byts   275111 non-null  float64\n",
            " 64  Init Fwd Win Byts  275111 non-null  float64\n",
            " 65  Init Bwd Win Byts  275111 non-null  float64\n",
            " 66  Fwd Act Data Pkts  275111 non-null  float64\n",
            " 67  Fwd Seg Size Min   275111 non-null  float64\n",
            " 68  Active Mean        275111 non-null  float64\n",
            " 69  Active Std         275111 non-null  float64\n",
            " 70  Active Max         275111 non-null  float64\n",
            " 71  Active Min         275111 non-null  float64\n",
            " 72  Idle Mean          275111 non-null  float64\n",
            " 73  Idle Std           275111 non-null  float64\n",
            " 74  Idle Max           275111 non-null  float64\n",
            " 75  Idle Min           275111 non-null  float64\n",
            " 76  Label              275111 non-null  int64  \n",
            "dtypes: float64(76), int64(1)\n",
            "memory usage: 161.6 MB\n"
          ]
        }
      ]
    },
    {
      "cell_type": "code",
      "source": [
        "df = df.drop(columns=['Label'])\n",
        "df.info()"
      ],
      "metadata": {
        "colab": {
          "base_uri": "https://localhost:8080/"
        },
        "id": "mYgl1-XQBYwR",
        "outputId": "a52e5dec-a3ef-4d4f-de0d-170c743afa9d"
      },
      "execution_count": 4,
      "outputs": [
        {
          "output_type": "stream",
          "name": "stdout",
          "text": [
            "<class 'pandas.core.frame.DataFrame'>\n",
            "RangeIndex: 275111 entries, 0 to 275110\n",
            "Data columns (total 76 columns):\n",
            " #   Column             Non-Null Count   Dtype  \n",
            "---  ------             --------------   -----  \n",
            " 0   Flow Duration      275111 non-null  float64\n",
            " 1   Tot Fwd Pkts       275111 non-null  float64\n",
            " 2   Tot Bwd Pkts       275111 non-null  float64\n",
            " 3   TotLen Fwd Pkts    275111 non-null  float64\n",
            " 4   TotLen Bwd Pkts    275111 non-null  float64\n",
            " 5   Fwd Pkt Len Max    275111 non-null  float64\n",
            " 6   Fwd Pkt Len Min    275111 non-null  float64\n",
            " 7   Fwd Pkt Len Mean   275111 non-null  float64\n",
            " 8   Fwd Pkt Len Std    275111 non-null  float64\n",
            " 9   Bwd Pkt Len Max    275111 non-null  float64\n",
            " 10  Bwd Pkt Len Min    275111 non-null  float64\n",
            " 11  Bwd Pkt Len Mean   275111 non-null  float64\n",
            " 12  Bwd Pkt Len Std    275111 non-null  float64\n",
            " 13  Flow Byts/s        275111 non-null  float64\n",
            " 14  Flow Pkts/s        275111 non-null  float64\n",
            " 15  Flow IAT Mean      275111 non-null  float64\n",
            " 16  Flow IAT Std       275111 non-null  float64\n",
            " 17  Flow IAT Max       275111 non-null  float64\n",
            " 18  Flow IAT Min       275111 non-null  float64\n",
            " 19  Fwd IAT Tot        275111 non-null  float64\n",
            " 20  Fwd IAT Mean       275111 non-null  float64\n",
            " 21  Fwd IAT Std        275111 non-null  float64\n",
            " 22  Fwd IAT Max        275111 non-null  float64\n",
            " 23  Fwd IAT Min        275111 non-null  float64\n",
            " 24  Bwd IAT Tot        275111 non-null  float64\n",
            " 25  Bwd IAT Mean       275111 non-null  float64\n",
            " 26  Bwd IAT Std        275111 non-null  float64\n",
            " 27  Bwd IAT Max        275111 non-null  float64\n",
            " 28  Bwd IAT Min        275111 non-null  float64\n",
            " 29  Fwd PSH Flags      275111 non-null  float64\n",
            " 30  Bwd PSH Flags      275111 non-null  float64\n",
            " 31  Fwd URG Flags      275111 non-null  float64\n",
            " 32  Bwd URG Flags      275111 non-null  float64\n",
            " 33  Fwd Header Len     275111 non-null  float64\n",
            " 34  Bwd Header Len     275111 non-null  float64\n",
            " 35  Fwd Pkts/s         275111 non-null  float64\n",
            " 36  Bwd Pkts/s         275111 non-null  float64\n",
            " 37  Pkt Len Min        275111 non-null  float64\n",
            " 38  Pkt Len Max        275111 non-null  float64\n",
            " 39  Pkt Len Mean       275111 non-null  float64\n",
            " 40  Pkt Len Std        275111 non-null  float64\n",
            " 41  Pkt Len Var        275111 non-null  float64\n",
            " 42  FIN Flag Cnt       275111 non-null  float64\n",
            " 43  SYN Flag Cnt       275111 non-null  float64\n",
            " 44  RST Flag Cnt       275111 non-null  float64\n",
            " 45  PSH Flag Cnt       275111 non-null  float64\n",
            " 46  ACK Flag Cnt       275111 non-null  float64\n",
            " 47  URG Flag Cnt       275111 non-null  float64\n",
            " 48  CWE Flag Count     275111 non-null  float64\n",
            " 49  ECE Flag Cnt       275111 non-null  float64\n",
            " 50  Down/Up Ratio      275111 non-null  float64\n",
            " 51  Pkt Size Avg       275111 non-null  float64\n",
            " 52  Fwd Seg Size Avg   275111 non-null  float64\n",
            " 53  Bwd Seg Size Avg   275111 non-null  float64\n",
            " 54  Fwd Byts/b Avg     275111 non-null  float64\n",
            " 55  Fwd Pkts/b Avg     275111 non-null  float64\n",
            " 56  Fwd Blk Rate Avg   275111 non-null  float64\n",
            " 57  Bwd Byts/b Avg     275111 non-null  float64\n",
            " 58  Bwd Pkts/b Avg     275111 non-null  float64\n",
            " 59  Bwd Blk Rate Avg   275111 non-null  float64\n",
            " 60  Subflow Fwd Pkts   275111 non-null  float64\n",
            " 61  Subflow Fwd Byts   275111 non-null  float64\n",
            " 62  Subflow Bwd Pkts   275111 non-null  float64\n",
            " 63  Subflow Bwd Byts   275111 non-null  float64\n",
            " 64  Init Fwd Win Byts  275111 non-null  float64\n",
            " 65  Init Bwd Win Byts  275111 non-null  float64\n",
            " 66  Fwd Act Data Pkts  275111 non-null  float64\n",
            " 67  Fwd Seg Size Min   275111 non-null  float64\n",
            " 68  Active Mean        275111 non-null  float64\n",
            " 69  Active Std         275111 non-null  float64\n",
            " 70  Active Max         275111 non-null  float64\n",
            " 71  Active Min         275111 non-null  float64\n",
            " 72  Idle Mean          275111 non-null  float64\n",
            " 73  Idle Std           275111 non-null  float64\n",
            " 74  Idle Max           275111 non-null  float64\n",
            " 75  Idle Min           275111 non-null  float64\n",
            "dtypes: float64(76)\n",
            "memory usage: 159.5 MB\n"
          ]
        }
      ]
    },
    {
      "cell_type": "markdown",
      "source": [
        "# Load adv samples"
      ],
      "metadata": {
        "id": "kFirQ2Tyz28E"
      }
    },
    {
      "cell_type": "code",
      "source": [
        "hsj_path = '/content/drive/MyDrive/DACN_XAI_Adv_defense/Dataset/insdn/adv/24_feature/hsj/hsj_cnn_bin_feature_10000'"
      ],
      "metadata": {
        "id": "f29J4Es-z5lJ"
      },
      "execution_count": 5,
      "outputs": []
    },
    {
      "cell_type": "code",
      "source": [
        "hsj_df = pd.read_csv(hsj_path)"
      ],
      "metadata": {
        "id": "I8txn6aG0EIJ"
      },
      "execution_count": 6,
      "outputs": []
    },
    {
      "cell_type": "code",
      "source": [
        "hsj_df.info()"
      ],
      "metadata": {
        "colab": {
          "base_uri": "https://localhost:8080/"
        },
        "id": "dcF6Wl5Y0LY2",
        "outputId": "b0b52031-655a-44a1-d7c6-703dc685cced"
      },
      "execution_count": 7,
      "outputs": [
        {
          "output_type": "stream",
          "name": "stdout",
          "text": [
            "<class 'pandas.core.frame.DataFrame'>\n",
            "RangeIndex: 10000 entries, 0 to 9999\n",
            "Data columns (total 76 columns):\n",
            " #   Column             Non-Null Count  Dtype  \n",
            "---  ------             --------------  -----  \n",
            " 0   Flow Duration      10000 non-null  float64\n",
            " 1   Tot Fwd Pkts       10000 non-null  float64\n",
            " 2   Tot Bwd Pkts       10000 non-null  float64\n",
            " 3   TotLen Fwd Pkts    10000 non-null  float64\n",
            " 4   TotLen Bwd Pkts    10000 non-null  float64\n",
            " 5   Fwd Pkt Len Max    10000 non-null  float64\n",
            " 6   Fwd Pkt Len Min    10000 non-null  float64\n",
            " 7   Fwd Pkt Len Mean   10000 non-null  float64\n",
            " 8   Fwd Pkt Len Std    10000 non-null  float64\n",
            " 9   Bwd Pkt Len Max    10000 non-null  float64\n",
            " 10  Bwd Pkt Len Min    10000 non-null  float64\n",
            " 11  Bwd Pkt Len Mean   10000 non-null  float64\n",
            " 12  Bwd Pkt Len Std    10000 non-null  float64\n",
            " 13  Flow Byts/s        10000 non-null  float64\n",
            " 14  Flow Pkts/s        10000 non-null  float64\n",
            " 15  Flow IAT Mean      10000 non-null  float64\n",
            " 16  Flow IAT Std       10000 non-null  float64\n",
            " 17  Flow IAT Max       10000 non-null  float64\n",
            " 18  Flow IAT Min       10000 non-null  float64\n",
            " 19  Fwd IAT Tot        10000 non-null  float64\n",
            " 20  Fwd IAT Mean       10000 non-null  float64\n",
            " 21  Fwd IAT Std        10000 non-null  float64\n",
            " 22  Fwd IAT Max        10000 non-null  float64\n",
            " 23  Fwd IAT Min        10000 non-null  float64\n",
            " 24  Bwd IAT Tot        10000 non-null  float64\n",
            " 25  Bwd IAT Mean       10000 non-null  float64\n",
            " 26  Bwd IAT Std        10000 non-null  float64\n",
            " 27  Bwd IAT Max        10000 non-null  float64\n",
            " 28  Bwd IAT Min        10000 non-null  float64\n",
            " 29  Fwd PSH Flags      10000 non-null  float64\n",
            " 30  Bwd PSH Flags      10000 non-null  float64\n",
            " 31  Fwd URG Flags      10000 non-null  float64\n",
            " 32  Bwd URG Flags      10000 non-null  float64\n",
            " 33  Fwd Header Len     10000 non-null  float64\n",
            " 34  Bwd Header Len     10000 non-null  float64\n",
            " 35  Fwd Pkts/s         10000 non-null  float64\n",
            " 36  Bwd Pkts/s         10000 non-null  float64\n",
            " 37  Pkt Len Min        10000 non-null  float64\n",
            " 38  Pkt Len Max        10000 non-null  float64\n",
            " 39  Pkt Len Mean       10000 non-null  float64\n",
            " 40  Pkt Len Std        10000 non-null  float64\n",
            " 41  Pkt Len Var        10000 non-null  float64\n",
            " 42  FIN Flag Cnt       10000 non-null  float64\n",
            " 43  SYN Flag Cnt       10000 non-null  float64\n",
            " 44  RST Flag Cnt       10000 non-null  float64\n",
            " 45  PSH Flag Cnt       10000 non-null  float64\n",
            " 46  ACK Flag Cnt       10000 non-null  float64\n",
            " 47  URG Flag Cnt       10000 non-null  float64\n",
            " 48  CWE Flag Count     10000 non-null  float64\n",
            " 49  ECE Flag Cnt       10000 non-null  float64\n",
            " 50  Down/Up Ratio      10000 non-null  float64\n",
            " 51  Pkt Size Avg       10000 non-null  float64\n",
            " 52  Fwd Seg Size Avg   10000 non-null  float64\n",
            " 53  Bwd Seg Size Avg   10000 non-null  float64\n",
            " 54  Fwd Byts/b Avg     10000 non-null  float64\n",
            " 55  Fwd Pkts/b Avg     10000 non-null  float64\n",
            " 56  Fwd Blk Rate Avg   10000 non-null  float64\n",
            " 57  Bwd Byts/b Avg     10000 non-null  float64\n",
            " 58  Bwd Pkts/b Avg     10000 non-null  float64\n",
            " 59  Bwd Blk Rate Avg   10000 non-null  float64\n",
            " 60  Subflow Fwd Pkts   10000 non-null  float64\n",
            " 61  Subflow Fwd Byts   10000 non-null  float64\n",
            " 62  Subflow Bwd Pkts   10000 non-null  float64\n",
            " 63  Subflow Bwd Byts   10000 non-null  float64\n",
            " 64  Init Fwd Win Byts  10000 non-null  float64\n",
            " 65  Init Bwd Win Byts  10000 non-null  float64\n",
            " 66  Fwd Act Data Pkts  10000 non-null  float64\n",
            " 67  Fwd Seg Size Min   10000 non-null  float64\n",
            " 68  Active Mean        10000 non-null  float64\n",
            " 69  Active Std         10000 non-null  float64\n",
            " 70  Active Max         10000 non-null  float64\n",
            " 71  Active Min         10000 non-null  float64\n",
            " 72  Idle Mean          10000 non-null  float64\n",
            " 73  Idle Std           10000 non-null  float64\n",
            " 74  Idle Max           10000 non-null  float64\n",
            " 75  Idle Min           10000 non-null  float64\n",
            "dtypes: float64(76)\n",
            "memory usage: 5.8 MB\n"
          ]
        }
      ]
    },
    {
      "cell_type": "markdown",
      "source": [
        "# Load DL-based IDS model"
      ],
      "metadata": {
        "id": "g33N-zPby6kB"
      }
    },
    {
      "cell_type": "code",
      "source": [
        "model_cnn = tf.keras.models.load_model('/content/drive/MyDrive/DACN_XAI_Adv_defense/Dataset/insdn/insdn_cnn_bin.h5', compile=True)"
      ],
      "metadata": {
        "id": "ZWIDESvCy2b5"
      },
      "execution_count": 8,
      "outputs": []
    },
    {
      "cell_type": "markdown",
      "source": [
        "# SHAP"
      ],
      "metadata": {
        "id": "RFRvMWrd4QoD"
      }
    },
    {
      "cell_type": "code",
      "source": [
        "explainer = shap.KernelExplainer(model_cnn, shap.sample(df, 100, random_state=42))"
      ],
      "metadata": {
        "id": "4505XjQu4K_g"
      },
      "execution_count": 9,
      "outputs": []
    },
    {
      "cell_type": "code",
      "source": [
        "hsj_100 = hsj_df.head(100)"
      ],
      "metadata": {
        "id": "biTLBwQsdMKd"
      },
      "execution_count": 10,
      "outputs": []
    },
    {
      "cell_type": "markdown",
      "source": [
        "42m ~ 1g"
      ],
      "metadata": {
        "id": "lDnGCqFKVvmD"
      }
    },
    {
      "cell_type": "code",
      "source": [
        "shap_values = explainer.shap_values(hsj_100)"
      ],
      "metadata": {
        "id": "2kwEY6jC4Z-l",
        "colab": {
          "base_uri": "https://localhost:8080/",
          "height": 49,
          "referenced_widgets": [
            "ee242d7310384643a0dd4fd62b9f6acd",
            "6a25826b5d7843e48ca612af77edb0c0",
            "9b5e37a7e44e4721915b347cb88cade8",
            "9ac52341cf174405893d8a32113d3fa7",
            "a9a687eb78dd45b28bf5ec551069ccad",
            "7127264a01164f8097255df37488e857",
            "dfa6138900cd46f58fc8bdecb5322141",
            "ec784be615a7477b982cc7c5ca4abd97",
            "3c6879ae66fe42de9dac2adaf8bb5363",
            "67d2b03dcada43dfbcf5339fc3056ad4",
            "0e8feb451c0a4af6a505aacddcf35756"
          ]
        },
        "outputId": "150b9332-1735-4b15-e67b-81ac60d68f19"
      },
      "execution_count": 11,
      "outputs": [
        {
          "output_type": "display_data",
          "data": {
            "text/plain": [
              "  0%|          | 0/100 [00:00<?, ?it/s]"
            ],
            "application/vnd.jupyter.widget-view+json": {
              "version_major": 2,
              "version_minor": 0,
              "model_id": "ee242d7310384643a0dd4fd62b9f6acd"
            }
          },
          "metadata": {}
        }
      ]
    },
    {
      "cell_type": "code",
      "source": [
        "len(shap_values)"
      ],
      "metadata": {
        "colab": {
          "base_uri": "https://localhost:8080/"
        },
        "id": "gHb6Mmvi47qA",
        "outputId": "32bafd4f-ab99-4360-cc92-f4f69f1b9470"
      },
      "execution_count": null,
      "outputs": [
        {
          "output_type": "execute_result",
          "data": {
            "text/plain": [
              "1"
            ]
          },
          "metadata": {},
          "execution_count": 12
        }
      ]
    },
    {
      "cell_type": "code",
      "source": [
        "type(shap_values[0])"
      ],
      "metadata": {
        "colab": {
          "base_uri": "https://localhost:8080/"
        },
        "id": "e6T9D3H-ahWh",
        "outputId": "10aa8cdf-94e4-4110-a05e-ee04cdd2be04"
      },
      "execution_count": null,
      "outputs": [
        {
          "output_type": "execute_result",
          "data": {
            "text/plain": [
              "numpy.ndarray"
            ]
          },
          "metadata": {},
          "execution_count": 14
        }
      ]
    },
    {
      "cell_type": "code",
      "source": [
        "len(shap_values[0])"
      ],
      "metadata": {
        "colab": {
          "base_uri": "https://localhost:8080/"
        },
        "id": "zjHiwP7KaZ62",
        "outputId": "173b182e-7799-4265-d9d4-4618da3f47ef"
      },
      "execution_count": 12,
      "outputs": [
        {
          "output_type": "execute_result",
          "data": {
            "text/plain": [
              "100"
            ]
          },
          "metadata": {},
          "execution_count": 12
        }
      ]
    },
    {
      "cell_type": "code",
      "source": [
        "shap_values[0].shape"
      ],
      "metadata": {
        "colab": {
          "base_uri": "https://localhost:8080/"
        },
        "id": "eM8brh0aAvkW",
        "outputId": "79635356-b5de-467f-b869-425ef99d8fd9"
      },
      "execution_count": 13,
      "outputs": [
        {
          "output_type": "execute_result",
          "data": {
            "text/plain": [
              "(100, 76)"
            ]
          },
          "metadata": {},
          "execution_count": 13
        }
      ]
    },
    {
      "cell_type": "code",
      "source": [
        "data_df = pd.DataFrame(shap_values[0])"
      ],
      "metadata": {
        "id": "48h2syinBBb8"
      },
      "execution_count": 14,
      "outputs": []
    },
    {
      "cell_type": "code",
      "source": [
        "data_df.head()"
      ],
      "metadata": {
        "colab": {
          "base_uri": "https://localhost:8080/",
          "height": 299
        },
        "id": "GaPyNdSzBLa5",
        "outputId": "b8ca21cb-c102-4099-bf5f-a9c93376ab69"
      },
      "execution_count": 15,
      "outputs": [
        {
          "output_type": "execute_result",
          "data": {
            "text/plain": [
              "         0         1         2    3    4         5    6         7         8   \\\n",
              "0  0.000060  0.000000  0.000000  0.0  0.0  0.000003  0.0  0.000003  0.000000   \n",
              "1  0.000000  0.000000  0.000000  0.0  0.0  0.000000  0.0  0.000000  0.000000   \n",
              "2  0.000000  0.000000  0.000000  0.0  0.0  0.000000  0.0  0.000013  0.000000   \n",
              "3  0.000000  0.000000  0.000000  0.0  0.0  0.000000  0.0  0.000000  0.000000   \n",
              "4 -0.000158 -0.000028  0.000066  0.0  0.0  0.000000  0.0 -0.000035 -0.000038   \n",
              "\n",
              "         9   ...        66   67        68   69        70        71        72  \\\n",
              "0  0.000000  ...  0.000000  0.0  0.000003  0.0  0.000001  0.000007  0.000014   \n",
              "1  0.000000  ...  0.000003  0.0  0.000000  0.0  0.000011  0.000006  0.000006   \n",
              "2  0.000000  ...  0.000000  0.0  0.000000  0.0  0.000000  0.000000  0.000000   \n",
              "3  0.000000  ...  0.000000  0.0  0.000000  0.0  0.000009  0.000000  0.000000   \n",
              "4 -0.000028  ... -0.000049  0.0  0.000000  0.0  0.000000  0.000000 -0.000256   \n",
              "\n",
              "         73        74        75  \n",
              "0  0.000012  0.000000  0.000062  \n",
              "1  0.000000  0.000000  0.000000  \n",
              "2  0.000000  0.000000  0.000000  \n",
              "3  0.000000  0.000000  0.000000  \n",
              "4  0.000115  0.000589 -0.000469  \n",
              "\n",
              "[5 rows x 76 columns]"
            ],
            "text/html": [
              "\n",
              "  <div id=\"df-817088ab-da7a-4bdf-9c30-a9f14f3f391c\">\n",
              "    <div class=\"colab-df-container\">\n",
              "      <div>\n",
              "<style scoped>\n",
              "    .dataframe tbody tr th:only-of-type {\n",
              "        vertical-align: middle;\n",
              "    }\n",
              "\n",
              "    .dataframe tbody tr th {\n",
              "        vertical-align: top;\n",
              "    }\n",
              "\n",
              "    .dataframe thead th {\n",
              "        text-align: right;\n",
              "    }\n",
              "</style>\n",
              "<table border=\"1\" class=\"dataframe\">\n",
              "  <thead>\n",
              "    <tr style=\"text-align: right;\">\n",
              "      <th></th>\n",
              "      <th>0</th>\n",
              "      <th>1</th>\n",
              "      <th>2</th>\n",
              "      <th>3</th>\n",
              "      <th>4</th>\n",
              "      <th>5</th>\n",
              "      <th>6</th>\n",
              "      <th>7</th>\n",
              "      <th>8</th>\n",
              "      <th>9</th>\n",
              "      <th>...</th>\n",
              "      <th>66</th>\n",
              "      <th>67</th>\n",
              "      <th>68</th>\n",
              "      <th>69</th>\n",
              "      <th>70</th>\n",
              "      <th>71</th>\n",
              "      <th>72</th>\n",
              "      <th>73</th>\n",
              "      <th>74</th>\n",
              "      <th>75</th>\n",
              "    </tr>\n",
              "  </thead>\n",
              "  <tbody>\n",
              "    <tr>\n",
              "      <th>0</th>\n",
              "      <td>0.000060</td>\n",
              "      <td>0.000000</td>\n",
              "      <td>0.000000</td>\n",
              "      <td>0.0</td>\n",
              "      <td>0.0</td>\n",
              "      <td>0.000003</td>\n",
              "      <td>0.0</td>\n",
              "      <td>0.000003</td>\n",
              "      <td>0.000000</td>\n",
              "      <td>0.000000</td>\n",
              "      <td>...</td>\n",
              "      <td>0.000000</td>\n",
              "      <td>0.0</td>\n",
              "      <td>0.000003</td>\n",
              "      <td>0.0</td>\n",
              "      <td>0.000001</td>\n",
              "      <td>0.000007</td>\n",
              "      <td>0.000014</td>\n",
              "      <td>0.000012</td>\n",
              "      <td>0.000000</td>\n",
              "      <td>0.000062</td>\n",
              "    </tr>\n",
              "    <tr>\n",
              "      <th>1</th>\n",
              "      <td>0.000000</td>\n",
              "      <td>0.000000</td>\n",
              "      <td>0.000000</td>\n",
              "      <td>0.0</td>\n",
              "      <td>0.0</td>\n",
              "      <td>0.000000</td>\n",
              "      <td>0.0</td>\n",
              "      <td>0.000000</td>\n",
              "      <td>0.000000</td>\n",
              "      <td>0.000000</td>\n",
              "      <td>...</td>\n",
              "      <td>0.000003</td>\n",
              "      <td>0.0</td>\n",
              "      <td>0.000000</td>\n",
              "      <td>0.0</td>\n",
              "      <td>0.000011</td>\n",
              "      <td>0.000006</td>\n",
              "      <td>0.000006</td>\n",
              "      <td>0.000000</td>\n",
              "      <td>0.000000</td>\n",
              "      <td>0.000000</td>\n",
              "    </tr>\n",
              "    <tr>\n",
              "      <th>2</th>\n",
              "      <td>0.000000</td>\n",
              "      <td>0.000000</td>\n",
              "      <td>0.000000</td>\n",
              "      <td>0.0</td>\n",
              "      <td>0.0</td>\n",
              "      <td>0.000000</td>\n",
              "      <td>0.0</td>\n",
              "      <td>0.000013</td>\n",
              "      <td>0.000000</td>\n",
              "      <td>0.000000</td>\n",
              "      <td>...</td>\n",
              "      <td>0.000000</td>\n",
              "      <td>0.0</td>\n",
              "      <td>0.000000</td>\n",
              "      <td>0.0</td>\n",
              "      <td>0.000000</td>\n",
              "      <td>0.000000</td>\n",
              "      <td>0.000000</td>\n",
              "      <td>0.000000</td>\n",
              "      <td>0.000000</td>\n",
              "      <td>0.000000</td>\n",
              "    </tr>\n",
              "    <tr>\n",
              "      <th>3</th>\n",
              "      <td>0.000000</td>\n",
              "      <td>0.000000</td>\n",
              "      <td>0.000000</td>\n",
              "      <td>0.0</td>\n",
              "      <td>0.0</td>\n",
              "      <td>0.000000</td>\n",
              "      <td>0.0</td>\n",
              "      <td>0.000000</td>\n",
              "      <td>0.000000</td>\n",
              "      <td>0.000000</td>\n",
              "      <td>...</td>\n",
              "      <td>0.000000</td>\n",
              "      <td>0.0</td>\n",
              "      <td>0.000000</td>\n",
              "      <td>0.0</td>\n",
              "      <td>0.000009</td>\n",
              "      <td>0.000000</td>\n",
              "      <td>0.000000</td>\n",
              "      <td>0.000000</td>\n",
              "      <td>0.000000</td>\n",
              "      <td>0.000000</td>\n",
              "    </tr>\n",
              "    <tr>\n",
              "      <th>4</th>\n",
              "      <td>-0.000158</td>\n",
              "      <td>-0.000028</td>\n",
              "      <td>0.000066</td>\n",
              "      <td>0.0</td>\n",
              "      <td>0.0</td>\n",
              "      <td>0.000000</td>\n",
              "      <td>0.0</td>\n",
              "      <td>-0.000035</td>\n",
              "      <td>-0.000038</td>\n",
              "      <td>-0.000028</td>\n",
              "      <td>...</td>\n",
              "      <td>-0.000049</td>\n",
              "      <td>0.0</td>\n",
              "      <td>0.000000</td>\n",
              "      <td>0.0</td>\n",
              "      <td>0.000000</td>\n",
              "      <td>0.000000</td>\n",
              "      <td>-0.000256</td>\n",
              "      <td>0.000115</td>\n",
              "      <td>0.000589</td>\n",
              "      <td>-0.000469</td>\n",
              "    </tr>\n",
              "  </tbody>\n",
              "</table>\n",
              "<p>5 rows × 76 columns</p>\n",
              "</div>\n",
              "      <button class=\"colab-df-convert\" onclick=\"convertToInteractive('df-817088ab-da7a-4bdf-9c30-a9f14f3f391c')\"\n",
              "              title=\"Convert this dataframe to an interactive table.\"\n",
              "              style=\"display:none;\">\n",
              "        \n",
              "  <svg xmlns=\"http://www.w3.org/2000/svg\" height=\"24px\"viewBox=\"0 0 24 24\"\n",
              "       width=\"24px\">\n",
              "    <path d=\"M0 0h24v24H0V0z\" fill=\"none\"/>\n",
              "    <path d=\"M18.56 5.44l.94 2.06.94-2.06 2.06-.94-2.06-.94-.94-2.06-.94 2.06-2.06.94zm-11 1L8.5 8.5l.94-2.06 2.06-.94-2.06-.94L8.5 2.5l-.94 2.06-2.06.94zm10 10l.94 2.06.94-2.06 2.06-.94-2.06-.94-.94-2.06-.94 2.06-2.06.94z\"/><path d=\"M17.41 7.96l-1.37-1.37c-.4-.4-.92-.59-1.43-.59-.52 0-1.04.2-1.43.59L10.3 9.45l-7.72 7.72c-.78.78-.78 2.05 0 2.83L4 21.41c.39.39.9.59 1.41.59.51 0 1.02-.2 1.41-.59l7.78-7.78 2.81-2.81c.8-.78.8-2.07 0-2.86zM5.41 20L4 18.59l7.72-7.72 1.47 1.35L5.41 20z\"/>\n",
              "  </svg>\n",
              "      </button>\n",
              "      \n",
              "  <style>\n",
              "    .colab-df-container {\n",
              "      display:flex;\n",
              "      flex-wrap:wrap;\n",
              "      gap: 12px;\n",
              "    }\n",
              "\n",
              "    .colab-df-convert {\n",
              "      background-color: #E8F0FE;\n",
              "      border: none;\n",
              "      border-radius: 50%;\n",
              "      cursor: pointer;\n",
              "      display: none;\n",
              "      fill: #1967D2;\n",
              "      height: 32px;\n",
              "      padding: 0 0 0 0;\n",
              "      width: 32px;\n",
              "    }\n",
              "\n",
              "    .colab-df-convert:hover {\n",
              "      background-color: #E2EBFA;\n",
              "      box-shadow: 0px 1px 2px rgba(60, 64, 67, 0.3), 0px 1px 3px 1px rgba(60, 64, 67, 0.15);\n",
              "      fill: #174EA6;\n",
              "    }\n",
              "\n",
              "    [theme=dark] .colab-df-convert {\n",
              "      background-color: #3B4455;\n",
              "      fill: #D2E3FC;\n",
              "    }\n",
              "\n",
              "    [theme=dark] .colab-df-convert:hover {\n",
              "      background-color: #434B5C;\n",
              "      box-shadow: 0px 1px 3px 1px rgba(0, 0, 0, 0.15);\n",
              "      filter: drop-shadow(0px 1px 2px rgba(0, 0, 0, 0.3));\n",
              "      fill: #FFFFFF;\n",
              "    }\n",
              "  </style>\n",
              "\n",
              "      <script>\n",
              "        const buttonEl =\n",
              "          document.querySelector('#df-817088ab-da7a-4bdf-9c30-a9f14f3f391c button.colab-df-convert');\n",
              "        buttonEl.style.display =\n",
              "          google.colab.kernel.accessAllowed ? 'block' : 'none';\n",
              "\n",
              "        async function convertToInteractive(key) {\n",
              "          const element = document.querySelector('#df-817088ab-da7a-4bdf-9c30-a9f14f3f391c');\n",
              "          const dataTable =\n",
              "            await google.colab.kernel.invokeFunction('convertToInteractive',\n",
              "                                                     [key], {});\n",
              "          if (!dataTable) return;\n",
              "\n",
              "          const docLinkHtml = 'Like what you see? Visit the ' +\n",
              "            '<a target=\"_blank\" href=https://colab.research.google.com/notebooks/data_table.ipynb>data table notebook</a>'\n",
              "            + ' to learn more about interactive tables.';\n",
              "          element.innerHTML = '';\n",
              "          dataTable['output_type'] = 'display_data';\n",
              "          await google.colab.output.renderOutput(dataTable, element);\n",
              "          const docLink = document.createElement('div');\n",
              "          docLink.innerHTML = docLinkHtml;\n",
              "          element.appendChild(docLink);\n",
              "        }\n",
              "      </script>\n",
              "    </div>\n",
              "  </div>\n",
              "  "
            ]
          },
          "metadata": {},
          "execution_count": 15
        }
      ]
    },
    {
      "cell_type": "code",
      "source": [
        "data_df.columns = df.columns\n",
        "data_df.info()"
      ],
      "metadata": {
        "colab": {
          "base_uri": "https://localhost:8080/"
        },
        "id": "xLQ6lI2yb5jp",
        "outputId": "bec2f325-8336-4650-e107-f1bee843d324"
      },
      "execution_count": 16,
      "outputs": [
        {
          "output_type": "stream",
          "name": "stdout",
          "text": [
            "<class 'pandas.core.frame.DataFrame'>\n",
            "RangeIndex: 100 entries, 0 to 99\n",
            "Data columns (total 76 columns):\n",
            " #   Column             Non-Null Count  Dtype  \n",
            "---  ------             --------------  -----  \n",
            " 0   Flow Duration      100 non-null    float64\n",
            " 1   Tot Fwd Pkts       100 non-null    float64\n",
            " 2   Tot Bwd Pkts       100 non-null    float64\n",
            " 3   TotLen Fwd Pkts    100 non-null    float64\n",
            " 4   TotLen Bwd Pkts    100 non-null    float64\n",
            " 5   Fwd Pkt Len Max    100 non-null    float64\n",
            " 6   Fwd Pkt Len Min    100 non-null    float64\n",
            " 7   Fwd Pkt Len Mean   100 non-null    float64\n",
            " 8   Fwd Pkt Len Std    100 non-null    float64\n",
            " 9   Bwd Pkt Len Max    100 non-null    float64\n",
            " 10  Bwd Pkt Len Min    100 non-null    float64\n",
            " 11  Bwd Pkt Len Mean   100 non-null    float64\n",
            " 12  Bwd Pkt Len Std    100 non-null    float64\n",
            " 13  Flow Byts/s        100 non-null    float64\n",
            " 14  Flow Pkts/s        100 non-null    float64\n",
            " 15  Flow IAT Mean      100 non-null    float64\n",
            " 16  Flow IAT Std       100 non-null    float64\n",
            " 17  Flow IAT Max       100 non-null    float64\n",
            " 18  Flow IAT Min       100 non-null    float64\n",
            " 19  Fwd IAT Tot        100 non-null    float64\n",
            " 20  Fwd IAT Mean       100 non-null    float64\n",
            " 21  Fwd IAT Std        100 non-null    float64\n",
            " 22  Fwd IAT Max        100 non-null    float64\n",
            " 23  Fwd IAT Min        100 non-null    float64\n",
            " 24  Bwd IAT Tot        100 non-null    float64\n",
            " 25  Bwd IAT Mean       100 non-null    float64\n",
            " 26  Bwd IAT Std        100 non-null    float64\n",
            " 27  Bwd IAT Max        100 non-null    float64\n",
            " 28  Bwd IAT Min        100 non-null    float64\n",
            " 29  Fwd PSH Flags      100 non-null    float64\n",
            " 30  Bwd PSH Flags      100 non-null    float64\n",
            " 31  Fwd URG Flags      100 non-null    float64\n",
            " 32  Bwd URG Flags      100 non-null    float64\n",
            " 33  Fwd Header Len     100 non-null    float64\n",
            " 34  Bwd Header Len     100 non-null    float64\n",
            " 35  Fwd Pkts/s         100 non-null    float64\n",
            " 36  Bwd Pkts/s         100 non-null    float64\n",
            " 37  Pkt Len Min        100 non-null    float64\n",
            " 38  Pkt Len Max        100 non-null    float64\n",
            " 39  Pkt Len Mean       100 non-null    float64\n",
            " 40  Pkt Len Std        100 non-null    float64\n",
            " 41  Pkt Len Var        100 non-null    float64\n",
            " 42  FIN Flag Cnt       100 non-null    float64\n",
            " 43  SYN Flag Cnt       100 non-null    float64\n",
            " 44  RST Flag Cnt       100 non-null    float64\n",
            " 45  PSH Flag Cnt       100 non-null    float64\n",
            " 46  ACK Flag Cnt       100 non-null    float64\n",
            " 47  URG Flag Cnt       100 non-null    float64\n",
            " 48  CWE Flag Count     100 non-null    float64\n",
            " 49  ECE Flag Cnt       100 non-null    float64\n",
            " 50  Down/Up Ratio      100 non-null    float64\n",
            " 51  Pkt Size Avg       100 non-null    float64\n",
            " 52  Fwd Seg Size Avg   100 non-null    float64\n",
            " 53  Bwd Seg Size Avg   100 non-null    float64\n",
            " 54  Fwd Byts/b Avg     100 non-null    float64\n",
            " 55  Fwd Pkts/b Avg     100 non-null    float64\n",
            " 56  Fwd Blk Rate Avg   100 non-null    float64\n",
            " 57  Bwd Byts/b Avg     100 non-null    float64\n",
            " 58  Bwd Pkts/b Avg     100 non-null    float64\n",
            " 59  Bwd Blk Rate Avg   100 non-null    float64\n",
            " 60  Subflow Fwd Pkts   100 non-null    float64\n",
            " 61  Subflow Fwd Byts   100 non-null    float64\n",
            " 62  Subflow Bwd Pkts   100 non-null    float64\n",
            " 63  Subflow Bwd Byts   100 non-null    float64\n",
            " 64  Init Fwd Win Byts  100 non-null    float64\n",
            " 65  Init Bwd Win Byts  100 non-null    float64\n",
            " 66  Fwd Act Data Pkts  100 non-null    float64\n",
            " 67  Fwd Seg Size Min   100 non-null    float64\n",
            " 68  Active Mean        100 non-null    float64\n",
            " 69  Active Std         100 non-null    float64\n",
            " 70  Active Max         100 non-null    float64\n",
            " 71  Active Min         100 non-null    float64\n",
            " 72  Idle Mean          100 non-null    float64\n",
            " 73  Idle Std           100 non-null    float64\n",
            " 74  Idle Max           100 non-null    float64\n",
            " 75  Idle Min           100 non-null    float64\n",
            "dtypes: float64(76)\n",
            "memory usage: 59.5 KB\n"
          ]
        }
      ]
    },
    {
      "cell_type": "code",
      "source": [
        "data_df.to_csv('/content/drive/MyDrive/DACN_XAI_Adv_defense/InSDN/CNN_HSJ/hsj_100_samples_[0]_v2.csv', index=False)"
      ],
      "metadata": {
        "id": "mbDTuofCBeGJ"
      },
      "execution_count": 17,
      "outputs": []
    },
    {
      "cell_type": "code",
      "source": [
        "data_df.head()"
      ],
      "metadata": {
        "colab": {
          "base_uri": "https://localhost:8080/",
          "height": 351
        },
        "id": "Kh8NM9hmM99Y",
        "outputId": "bf7621a1-f76a-4d41-b868-0761b5bb059b"
      },
      "execution_count": 18,
      "outputs": [
        {
          "output_type": "execute_result",
          "data": {
            "text/plain": [
              "   Flow Duration  Tot Fwd Pkts  Tot Bwd Pkts  TotLen Fwd Pkts  \\\n",
              "0       0.000060      0.000000      0.000000              0.0   \n",
              "1       0.000000      0.000000      0.000000              0.0   \n",
              "2       0.000000      0.000000      0.000000              0.0   \n",
              "3       0.000000      0.000000      0.000000              0.0   \n",
              "4      -0.000158     -0.000028      0.000066              0.0   \n",
              "\n",
              "   TotLen Bwd Pkts  Fwd Pkt Len Max  Fwd Pkt Len Min  Fwd Pkt Len Mean  \\\n",
              "0              0.0         0.000003              0.0          0.000003   \n",
              "1              0.0         0.000000              0.0          0.000000   \n",
              "2              0.0         0.000000              0.0          0.000013   \n",
              "3              0.0         0.000000              0.0          0.000000   \n",
              "4              0.0         0.000000              0.0         -0.000035   \n",
              "\n",
              "   Fwd Pkt Len Std  Bwd Pkt Len Max  ...  Fwd Act Data Pkts  Fwd Seg Size Min  \\\n",
              "0         0.000000         0.000000  ...           0.000000               0.0   \n",
              "1         0.000000         0.000000  ...           0.000003               0.0   \n",
              "2         0.000000         0.000000  ...           0.000000               0.0   \n",
              "3         0.000000         0.000000  ...           0.000000               0.0   \n",
              "4        -0.000038        -0.000028  ...          -0.000049               0.0   \n",
              "\n",
              "   Active Mean  Active Std  Active Max  Active Min  Idle Mean  Idle Std  \\\n",
              "0     0.000003         0.0    0.000001    0.000007   0.000014  0.000012   \n",
              "1     0.000000         0.0    0.000011    0.000006   0.000006  0.000000   \n",
              "2     0.000000         0.0    0.000000    0.000000   0.000000  0.000000   \n",
              "3     0.000000         0.0    0.000009    0.000000   0.000000  0.000000   \n",
              "4     0.000000         0.0    0.000000    0.000000  -0.000256  0.000115   \n",
              "\n",
              "   Idle Max  Idle Min  \n",
              "0  0.000000  0.000062  \n",
              "1  0.000000  0.000000  \n",
              "2  0.000000  0.000000  \n",
              "3  0.000000  0.000000  \n",
              "4  0.000589 -0.000469  \n",
              "\n",
              "[5 rows x 76 columns]"
            ],
            "text/html": [
              "\n",
              "  <div id=\"df-108ba026-fdf1-4b1c-971f-2604e49c10e0\">\n",
              "    <div class=\"colab-df-container\">\n",
              "      <div>\n",
              "<style scoped>\n",
              "    .dataframe tbody tr th:only-of-type {\n",
              "        vertical-align: middle;\n",
              "    }\n",
              "\n",
              "    .dataframe tbody tr th {\n",
              "        vertical-align: top;\n",
              "    }\n",
              "\n",
              "    .dataframe thead th {\n",
              "        text-align: right;\n",
              "    }\n",
              "</style>\n",
              "<table border=\"1\" class=\"dataframe\">\n",
              "  <thead>\n",
              "    <tr style=\"text-align: right;\">\n",
              "      <th></th>\n",
              "      <th>Flow Duration</th>\n",
              "      <th>Tot Fwd Pkts</th>\n",
              "      <th>Tot Bwd Pkts</th>\n",
              "      <th>TotLen Fwd Pkts</th>\n",
              "      <th>TotLen Bwd Pkts</th>\n",
              "      <th>Fwd Pkt Len Max</th>\n",
              "      <th>Fwd Pkt Len Min</th>\n",
              "      <th>Fwd Pkt Len Mean</th>\n",
              "      <th>Fwd Pkt Len Std</th>\n",
              "      <th>Bwd Pkt Len Max</th>\n",
              "      <th>...</th>\n",
              "      <th>Fwd Act Data Pkts</th>\n",
              "      <th>Fwd Seg Size Min</th>\n",
              "      <th>Active Mean</th>\n",
              "      <th>Active Std</th>\n",
              "      <th>Active Max</th>\n",
              "      <th>Active Min</th>\n",
              "      <th>Idle Mean</th>\n",
              "      <th>Idle Std</th>\n",
              "      <th>Idle Max</th>\n",
              "      <th>Idle Min</th>\n",
              "    </tr>\n",
              "  </thead>\n",
              "  <tbody>\n",
              "    <tr>\n",
              "      <th>0</th>\n",
              "      <td>0.000060</td>\n",
              "      <td>0.000000</td>\n",
              "      <td>0.000000</td>\n",
              "      <td>0.0</td>\n",
              "      <td>0.0</td>\n",
              "      <td>0.000003</td>\n",
              "      <td>0.0</td>\n",
              "      <td>0.000003</td>\n",
              "      <td>0.000000</td>\n",
              "      <td>0.000000</td>\n",
              "      <td>...</td>\n",
              "      <td>0.000000</td>\n",
              "      <td>0.0</td>\n",
              "      <td>0.000003</td>\n",
              "      <td>0.0</td>\n",
              "      <td>0.000001</td>\n",
              "      <td>0.000007</td>\n",
              "      <td>0.000014</td>\n",
              "      <td>0.000012</td>\n",
              "      <td>0.000000</td>\n",
              "      <td>0.000062</td>\n",
              "    </tr>\n",
              "    <tr>\n",
              "      <th>1</th>\n",
              "      <td>0.000000</td>\n",
              "      <td>0.000000</td>\n",
              "      <td>0.000000</td>\n",
              "      <td>0.0</td>\n",
              "      <td>0.0</td>\n",
              "      <td>0.000000</td>\n",
              "      <td>0.0</td>\n",
              "      <td>0.000000</td>\n",
              "      <td>0.000000</td>\n",
              "      <td>0.000000</td>\n",
              "      <td>...</td>\n",
              "      <td>0.000003</td>\n",
              "      <td>0.0</td>\n",
              "      <td>0.000000</td>\n",
              "      <td>0.0</td>\n",
              "      <td>0.000011</td>\n",
              "      <td>0.000006</td>\n",
              "      <td>0.000006</td>\n",
              "      <td>0.000000</td>\n",
              "      <td>0.000000</td>\n",
              "      <td>0.000000</td>\n",
              "    </tr>\n",
              "    <tr>\n",
              "      <th>2</th>\n",
              "      <td>0.000000</td>\n",
              "      <td>0.000000</td>\n",
              "      <td>0.000000</td>\n",
              "      <td>0.0</td>\n",
              "      <td>0.0</td>\n",
              "      <td>0.000000</td>\n",
              "      <td>0.0</td>\n",
              "      <td>0.000013</td>\n",
              "      <td>0.000000</td>\n",
              "      <td>0.000000</td>\n",
              "      <td>...</td>\n",
              "      <td>0.000000</td>\n",
              "      <td>0.0</td>\n",
              "      <td>0.000000</td>\n",
              "      <td>0.0</td>\n",
              "      <td>0.000000</td>\n",
              "      <td>0.000000</td>\n",
              "      <td>0.000000</td>\n",
              "      <td>0.000000</td>\n",
              "      <td>0.000000</td>\n",
              "      <td>0.000000</td>\n",
              "    </tr>\n",
              "    <tr>\n",
              "      <th>3</th>\n",
              "      <td>0.000000</td>\n",
              "      <td>0.000000</td>\n",
              "      <td>0.000000</td>\n",
              "      <td>0.0</td>\n",
              "      <td>0.0</td>\n",
              "      <td>0.000000</td>\n",
              "      <td>0.0</td>\n",
              "      <td>0.000000</td>\n",
              "      <td>0.000000</td>\n",
              "      <td>0.000000</td>\n",
              "      <td>...</td>\n",
              "      <td>0.000000</td>\n",
              "      <td>0.0</td>\n",
              "      <td>0.000000</td>\n",
              "      <td>0.0</td>\n",
              "      <td>0.000009</td>\n",
              "      <td>0.000000</td>\n",
              "      <td>0.000000</td>\n",
              "      <td>0.000000</td>\n",
              "      <td>0.000000</td>\n",
              "      <td>0.000000</td>\n",
              "    </tr>\n",
              "    <tr>\n",
              "      <th>4</th>\n",
              "      <td>-0.000158</td>\n",
              "      <td>-0.000028</td>\n",
              "      <td>0.000066</td>\n",
              "      <td>0.0</td>\n",
              "      <td>0.0</td>\n",
              "      <td>0.000000</td>\n",
              "      <td>0.0</td>\n",
              "      <td>-0.000035</td>\n",
              "      <td>-0.000038</td>\n",
              "      <td>-0.000028</td>\n",
              "      <td>...</td>\n",
              "      <td>-0.000049</td>\n",
              "      <td>0.0</td>\n",
              "      <td>0.000000</td>\n",
              "      <td>0.0</td>\n",
              "      <td>0.000000</td>\n",
              "      <td>0.000000</td>\n",
              "      <td>-0.000256</td>\n",
              "      <td>0.000115</td>\n",
              "      <td>0.000589</td>\n",
              "      <td>-0.000469</td>\n",
              "    </tr>\n",
              "  </tbody>\n",
              "</table>\n",
              "<p>5 rows × 76 columns</p>\n",
              "</div>\n",
              "      <button class=\"colab-df-convert\" onclick=\"convertToInteractive('df-108ba026-fdf1-4b1c-971f-2604e49c10e0')\"\n",
              "              title=\"Convert this dataframe to an interactive table.\"\n",
              "              style=\"display:none;\">\n",
              "        \n",
              "  <svg xmlns=\"http://www.w3.org/2000/svg\" height=\"24px\"viewBox=\"0 0 24 24\"\n",
              "       width=\"24px\">\n",
              "    <path d=\"M0 0h24v24H0V0z\" fill=\"none\"/>\n",
              "    <path d=\"M18.56 5.44l.94 2.06.94-2.06 2.06-.94-2.06-.94-.94-2.06-.94 2.06-2.06.94zm-11 1L8.5 8.5l.94-2.06 2.06-.94-2.06-.94L8.5 2.5l-.94 2.06-2.06.94zm10 10l.94 2.06.94-2.06 2.06-.94-2.06-.94-.94-2.06-.94 2.06-2.06.94z\"/><path d=\"M17.41 7.96l-1.37-1.37c-.4-.4-.92-.59-1.43-.59-.52 0-1.04.2-1.43.59L10.3 9.45l-7.72 7.72c-.78.78-.78 2.05 0 2.83L4 21.41c.39.39.9.59 1.41.59.51 0 1.02-.2 1.41-.59l7.78-7.78 2.81-2.81c.8-.78.8-2.07 0-2.86zM5.41 20L4 18.59l7.72-7.72 1.47 1.35L5.41 20z\"/>\n",
              "  </svg>\n",
              "      </button>\n",
              "      \n",
              "  <style>\n",
              "    .colab-df-container {\n",
              "      display:flex;\n",
              "      flex-wrap:wrap;\n",
              "      gap: 12px;\n",
              "    }\n",
              "\n",
              "    .colab-df-convert {\n",
              "      background-color: #E8F0FE;\n",
              "      border: none;\n",
              "      border-radius: 50%;\n",
              "      cursor: pointer;\n",
              "      display: none;\n",
              "      fill: #1967D2;\n",
              "      height: 32px;\n",
              "      padding: 0 0 0 0;\n",
              "      width: 32px;\n",
              "    }\n",
              "\n",
              "    .colab-df-convert:hover {\n",
              "      background-color: #E2EBFA;\n",
              "      box-shadow: 0px 1px 2px rgba(60, 64, 67, 0.3), 0px 1px 3px 1px rgba(60, 64, 67, 0.15);\n",
              "      fill: #174EA6;\n",
              "    }\n",
              "\n",
              "    [theme=dark] .colab-df-convert {\n",
              "      background-color: #3B4455;\n",
              "      fill: #D2E3FC;\n",
              "    }\n",
              "\n",
              "    [theme=dark] .colab-df-convert:hover {\n",
              "      background-color: #434B5C;\n",
              "      box-shadow: 0px 1px 3px 1px rgba(0, 0, 0, 0.15);\n",
              "      filter: drop-shadow(0px 1px 2px rgba(0, 0, 0, 0.3));\n",
              "      fill: #FFFFFF;\n",
              "    }\n",
              "  </style>\n",
              "\n",
              "      <script>\n",
              "        const buttonEl =\n",
              "          document.querySelector('#df-108ba026-fdf1-4b1c-971f-2604e49c10e0 button.colab-df-convert');\n",
              "        buttonEl.style.display =\n",
              "          google.colab.kernel.accessAllowed ? 'block' : 'none';\n",
              "\n",
              "        async function convertToInteractive(key) {\n",
              "          const element = document.querySelector('#df-108ba026-fdf1-4b1c-971f-2604e49c10e0');\n",
              "          const dataTable =\n",
              "            await google.colab.kernel.invokeFunction('convertToInteractive',\n",
              "                                                     [key], {});\n",
              "          if (!dataTable) return;\n",
              "\n",
              "          const docLinkHtml = 'Like what you see? Visit the ' +\n",
              "            '<a target=\"_blank\" href=https://colab.research.google.com/notebooks/data_table.ipynb>data table notebook</a>'\n",
              "            + ' to learn more about interactive tables.';\n",
              "          element.innerHTML = '';\n",
              "          dataTable['output_type'] = 'display_data';\n",
              "          await google.colab.output.renderOutput(dataTable, element);\n",
              "          const docLink = document.createElement('div');\n",
              "          docLink.innerHTML = docLinkHtml;\n",
              "          element.appendChild(docLink);\n",
              "        }\n",
              "      </script>\n",
              "    </div>\n",
              "  </div>\n",
              "  "
            ]
          },
          "metadata": {},
          "execution_count": 18
        }
      ]
    },
    {
      "cell_type": "code",
      "source": [
        "data_dict = {}\n",
        "for idx in range(0, 100):\n",
        "  # Select the desired row and get the top 10 values's column names\n",
        "  row_values = data_df.iloc[idx].nlargest(10).index.tolist()\n",
        "\n",
        "  # Create a dictionary and add the list with filename as the key\n",
        "  data_dict['Adv sample ' + str(idx)] = row_values"
      ],
      "metadata": {
        "id": "y9KCFvHdP5UO"
      },
      "execution_count": 19,
      "outputs": []
    },
    {
      "cell_type": "code",
      "source": [
        "print(data_dict)"
      ],
      "metadata": {
        "colab": {
          "base_uri": "https://localhost:8080/"
        },
        "id": "SAhM-kXtRLoW",
        "outputId": "7cae2b2f-40be-46ba-88ec-fb305ed28fb0"
      },
      "execution_count": 20,
      "outputs": [
        {
          "output_type": "stream",
          "name": "stdout",
          "text": [
            "{'Adv sample 0': ['SYN Flag Cnt', 'Bwd Pkts/s', 'ACK Flag Cnt', 'FIN Flag Cnt', 'Flow Pkts/s', 'Bwd PSH Flags', 'Init Bwd Win Byts', 'Fwd IAT Tot', 'Flow IAT Max', 'Bwd IAT Tot'], 'Adv sample 1': ['Bwd Pkts/s', 'FIN Flag Cnt', 'ACK Flag Cnt', 'Flow Pkts/s', 'Bwd PSH Flags', 'Fwd IAT Tot', 'Init Bwd Win Byts', 'Bwd IAT Tot', 'Flow IAT Max', 'Down/Up Ratio'], 'Adv sample 2': ['Bwd Pkts/s', 'FIN Flag Cnt', 'ACK Flag Cnt', 'Bwd PSH Flags', 'Flow Pkts/s', 'Fwd IAT Tot', 'Flow IAT Max', 'Bwd IAT Tot', 'Init Bwd Win Byts', 'PSH Flag Cnt'], 'Adv sample 3': ['Bwd Pkts/s', 'FIN Flag Cnt', 'ACK Flag Cnt', 'Flow Pkts/s', 'Bwd PSH Flags', 'Fwd IAT Tot', 'Init Bwd Win Byts', 'Bwd IAT Tot', 'Flow IAT Max', 'PSH Flag Cnt'], 'Adv sample 4': ['Down/Up Ratio', 'Bwd Pkts/s', 'Idle Max', 'SYN Flag Cnt', 'Fwd IAT Tot', 'Flow Pkts/s', 'Init Bwd Win Byts', 'Bwd PSH Flags', 'Idle Std', 'Subflow Fwd Byts'], 'Adv sample 5': ['SYN Flag Cnt', 'ACK Flag Cnt', 'FIN Flag Cnt', 'Bwd PSH Flags', 'Fwd IAT Tot', 'Init Bwd Win Byts', 'Flow IAT Max', 'Bwd IAT Tot', 'Flow Duration', 'PSH Flag Cnt'], 'Adv sample 6': ['Bwd Pkts/s', 'SYN Flag Cnt', 'FIN Flag Cnt', 'Flow Pkts/s', 'Bwd PSH Flags', 'Init Bwd Win Byts', 'Bwd IAT Tot', 'Fwd IAT Tot', 'Flow IAT Max', 'Bwd IAT Max'], 'Adv sample 7': ['SYN Flag Cnt', 'Bwd Pkts/s', 'ACK Flag Cnt', 'FIN Flag Cnt', 'Flow Pkts/s', 'Bwd PSH Flags', 'Init Bwd Win Byts', 'Fwd IAT Tot', 'Flow IAT Max', 'Bwd IAT Tot'], 'Adv sample 8': ['Bwd Pkts/s', 'SYN Flag Cnt', 'Init Bwd Win Byts', 'Bwd PSH Flags', 'Fwd IAT Tot', 'Bwd IAT Tot', 'Bwd IAT Max', 'Flow IAT Max', 'Idle Min', 'Bwd IAT Std'], 'Adv sample 9': ['FIN Flag Cnt', 'ACK Flag Cnt', 'Flow Pkts/s', 'Bwd PSH Flags', 'Fwd IAT Tot', 'Flow IAT Max', 'Bwd IAT Tot', 'Init Bwd Win Byts', 'Flow IAT Std', 'PSH Flag Cnt'], 'Adv sample 10': ['Down/Up Ratio', 'Bwd Pkts/s', 'Idle Max', 'SYN Flag Cnt', 'Fwd IAT Tot', 'Init Bwd Win Byts', 'Flow Pkts/s', 'Bwd PSH Flags', 'Fwd IAT Std', 'Bwd Pkt Len Std'], 'Adv sample 11': ['SYN Flag Cnt', 'Bwd Pkts/s', 'ACK Flag Cnt', 'FIN Flag Cnt', 'Flow Pkts/s', 'Bwd PSH Flags', 'Init Bwd Win Byts', 'Fwd IAT Tot', 'Flow IAT Max', 'Bwd IAT Tot'], 'Adv sample 12': ['Down/Up Ratio', 'Bwd Pkts/s', 'Idle Max', 'SYN Flag Cnt', 'Init Bwd Win Byts', 'Flow Pkts/s', 'Bwd PSH Flags', 'Fwd IAT Tot', 'Flow IAT Mean', 'Bwd Seg Size Avg'], 'Adv sample 13': ['SYN Flag Cnt', 'Bwd Pkts/s', 'ACK Flag Cnt', 'FIN Flag Cnt', 'Flow Pkts/s', 'Bwd PSH Flags', 'Init Bwd Win Byts', 'Fwd IAT Tot', 'Flow IAT Max', 'Bwd IAT Tot'], 'Adv sample 14': ['Bwd Pkts/s', 'FIN Flag Cnt', 'ACK Flag Cnt', 'Flow Pkts/s', 'Init Bwd Win Byts', 'Fwd IAT Tot', 'Bwd PSH Flags', 'Bwd IAT Tot', 'Flow IAT Max', 'PSH Flag Cnt'], 'Adv sample 15': ['SYN Flag Cnt', 'ACK Flag Cnt', 'FIN Flag Cnt', 'Bwd PSH Flags', 'Init Bwd Win Byts', 'Flow Pkts/s', 'Fwd IAT Tot', 'Flow IAT Max', 'Bwd IAT Tot', 'PSH Flag Cnt'], 'Adv sample 16': ['SYN Flag Cnt', 'Bwd Pkts/s', 'ACK Flag Cnt', 'FIN Flag Cnt', 'Flow Pkts/s', 'Bwd PSH Flags', 'Init Bwd Win Byts', 'Fwd IAT Tot', 'Flow IAT Max', 'Bwd IAT Tot'], 'Adv sample 17': ['Bwd Pkts/s', 'FIN Flag Cnt', 'ACK Flag Cnt', 'Fwd IAT Tot', 'Bwd PSH Flags', 'Init Bwd Win Byts', 'Bwd IAT Tot', 'Flow Pkts/s', 'Flow IAT Max', 'PSH Flag Cnt'], 'Adv sample 18': ['Bwd Pkts/s', 'SYN Flag Cnt', 'Init Bwd Win Byts', 'Bwd PSH Flags', 'Fwd IAT Tot', 'Bwd IAT Tot', 'PSH Flag Cnt', 'Flow IAT Max', 'Idle Min', 'Bwd IAT Max'], 'Adv sample 19': ['Bwd Pkts/s', 'SYN Flag Cnt', 'FIN Flag Cnt', 'Flow Pkts/s', 'Bwd PSH Flags', 'Init Bwd Win Byts', 'Bwd IAT Tot', 'Fwd IAT Tot', 'Flow IAT Max', 'Bwd IAT Max'], 'Adv sample 20': ['SYN Flag Cnt', 'ACK Flag Cnt', 'FIN Flag Cnt', 'Bwd PSH Flags', 'Fwd IAT Tot', 'Init Bwd Win Byts', 'Flow IAT Max', 'Bwd IAT Tot', 'Flow Duration', 'Flow IAT Std'], 'Adv sample 21': ['Bwd Pkts/s', 'FIN Flag Cnt', 'ACK Flag Cnt', 'Bwd PSH Flags', 'Fwd IAT Tot', 'Flow Pkts/s', 'Bwd IAT Tot', 'Init Bwd Win Byts', 'Flow IAT Max', 'Down/Up Ratio'], 'Adv sample 22': ['SYN Flag Cnt', 'ACK Flag Cnt', 'FIN Flag Cnt', 'Bwd PSH Flags', 'Fwd IAT Tot', 'Init Bwd Win Byts', 'Flow IAT Max', 'Flow Duration', 'Bwd IAT Tot', 'PSH Flag Cnt'], 'Adv sample 23': ['SYN Flag Cnt', 'Bwd Pkts/s', 'ACK Flag Cnt', 'FIN Flag Cnt', 'Flow Pkts/s', 'Bwd PSH Flags', 'Init Bwd Win Byts', 'Fwd IAT Tot', 'Flow IAT Max', 'Bwd IAT Tot'], 'Adv sample 24': ['Bwd Pkts/s', 'Down/Up Ratio', 'SYN Flag Cnt', 'Init Bwd Win Byts', 'Fwd IAT Tot', 'Bwd PSH Flags', 'Bwd IAT Tot', 'Flow IAT Max', 'Bwd IAT Max', 'PSH Flag Cnt'], 'Adv sample 25': ['FIN Flag Cnt', 'ACK Flag Cnt', 'Flow Pkts/s', 'Bwd Pkts/s', 'Bwd PSH Flags', 'Fwd IAT Tot', 'Flow IAT Max', 'Bwd IAT Tot', 'Init Bwd Win Byts', 'PSH Flag Cnt'], 'Adv sample 26': ['SYN Flag Cnt', 'Bwd Pkts/s', 'ACK Flag Cnt', 'FIN Flag Cnt', 'Flow Pkts/s', 'Bwd PSH Flags', 'Init Bwd Win Byts', 'Fwd IAT Tot', 'Flow IAT Max', 'Bwd IAT Tot'], 'Adv sample 27': ['SYN Flag Cnt', 'ACK Flag Cnt', 'FIN Flag Cnt', 'Bwd PSH Flags', 'Fwd IAT Tot', 'Init Bwd Win Byts', 'Flow IAT Max', 'Bwd IAT Tot', 'Flow Duration', 'Flow IAT Std'], 'Adv sample 28': ['Bwd Pkts/s', 'Init Bwd Win Byts', 'SYN Flag Cnt', 'ACK Flag Cnt', 'Idle Min', 'Fwd IAT Tot', 'Bwd IAT Max', 'Flow IAT Max', 'Idle Std', 'Flow IAT Min'], 'Adv sample 29': ['ACK Flag Cnt', 'SYN Flag Cnt', 'FIN Flag Cnt', 'Bwd PSH Flags', 'Fwd IAT Tot', 'Flow IAT Max', 'Init Bwd Win Byts', 'Flow Duration', 'PSH Flag Cnt', 'Idle Mean'], 'Adv sample 30': ['Bwd Pkts/s', 'SYN Flag Cnt', 'FIN Flag Cnt', 'Down/Up Ratio', 'Bwd IAT Tot', 'Init Bwd Win Byts', 'Fwd IAT Tot', 'Flow IAT Max', 'Flow Byts/s', 'Flow IAT Std'], 'Adv sample 31': ['SYN Flag Cnt', 'Bwd Pkts/s', 'ACK Flag Cnt', 'FIN Flag Cnt', 'Flow Pkts/s', 'Bwd PSH Flags', 'Init Bwd Win Byts', 'Fwd IAT Tot', 'Flow IAT Max', 'Bwd IAT Tot'], 'Adv sample 32': ['Bwd Pkts/s', 'FIN Flag Cnt', 'ACK Flag Cnt', 'Flow Pkts/s', 'Bwd PSH Flags', 'Fwd IAT Tot', 'Flow IAT Max', 'Init Bwd Win Byts', 'Bwd IAT Tot', 'PSH Flag Cnt'], 'Adv sample 33': ['SYN Flag Cnt', 'Bwd Pkts/s', 'ACK Flag Cnt', 'FIN Flag Cnt', 'Flow Pkts/s', 'Bwd PSH Flags', 'Init Bwd Win Byts', 'Fwd IAT Tot', 'Flow IAT Max', 'Bwd IAT Tot'], 'Adv sample 34': ['SYN Flag Cnt', 'Bwd Pkts/s', 'ACK Flag Cnt', 'FIN Flag Cnt', 'Flow Pkts/s', 'Bwd PSH Flags', 'Init Bwd Win Byts', 'Fwd IAT Tot', 'Flow IAT Max', 'Bwd IAT Tot'], 'Adv sample 35': ['Bwd Pkts/s', 'FIN Flag Cnt', 'ACK Flag Cnt', 'Bwd IAT Tot', 'Bwd PSH Flags', 'Fwd IAT Tot', 'Init Bwd Win Byts', 'Flow Pkts/s', 'Flow IAT Max', 'PSH Flag Cnt'], 'Adv sample 36': ['SYN Flag Cnt', 'ACK Flag Cnt', 'FIN Flag Cnt', 'Bwd PSH Flags', 'Fwd IAT Tot', 'Init Bwd Win Byts', 'Flow IAT Max', 'Bwd IAT Tot', 'Flow Duration', 'PSH Flag Cnt'], 'Adv sample 37': ['SYN Flag Cnt', 'Bwd Pkts/s', 'ACK Flag Cnt', 'FIN Flag Cnt', 'Flow Pkts/s', 'Bwd PSH Flags', 'Init Bwd Win Byts', 'Fwd IAT Tot', 'Flow IAT Max', 'Bwd IAT Tot'], 'Adv sample 38': ['Bwd Pkts/s', 'SYN Flag Cnt', 'Init Bwd Win Byts', 'Bwd PSH Flags', 'Fwd IAT Tot', 'Bwd IAT Tot', 'Bwd IAT Max', 'Flow IAT Max', 'PSH Flag Cnt', 'Bwd IAT Std'], 'Adv sample 39': ['SYN Flag Cnt', 'Bwd Pkts/s', 'ACK Flag Cnt', 'FIN Flag Cnt', 'Flow Pkts/s', 'Bwd PSH Flags', 'Init Bwd Win Byts', 'Fwd IAT Tot', 'Flow IAT Max', 'Bwd IAT Tot'], 'Adv sample 40': ['SYN Flag Cnt', 'Bwd Pkts/s', 'ACK Flag Cnt', 'FIN Flag Cnt', 'Flow Pkts/s', 'Bwd PSH Flags', 'Init Bwd Win Byts', 'Fwd IAT Tot', 'Flow IAT Max', 'Bwd IAT Tot'], 'Adv sample 41': ['SYN Flag Cnt', 'Bwd Pkts/s', 'ACK Flag Cnt', 'FIN Flag Cnt', 'Flow Pkts/s', 'Bwd PSH Flags', 'Init Bwd Win Byts', 'Fwd IAT Tot', 'Flow IAT Max', 'Bwd IAT Tot'], 'Adv sample 42': ['Bwd Pkts/s', 'SYN Flag Cnt', 'FIN Flag Cnt', 'Down/Up Ratio', 'Bwd IAT Tot', 'Flow IAT Max', 'Init Bwd Win Byts', 'Fwd IAT Tot', 'Flow Pkts/s', 'Idle Min'], 'Adv sample 43': ['Bwd Pkts/s', 'FIN Flag Cnt', 'Flow Pkts/s', 'Bwd IAT Max', 'Down/Up Ratio', 'PSH Flag Cnt', 'Fwd IAT Mean', 'Bwd PSH Flags', 'Fwd Header Len', 'Pkt Len Max'], 'Adv sample 44': ['SYN Flag Cnt', 'ACK Flag Cnt', 'FIN Flag Cnt', 'Bwd PSH Flags', 'Fwd IAT Tot', 'Init Bwd Win Byts', 'Flow IAT Max', 'Bwd IAT Tot', 'Flow Duration', 'Flow IAT Std'], 'Adv sample 45': ['SYN Flag Cnt', 'Bwd Pkts/s', 'ACK Flag Cnt', 'FIN Flag Cnt', 'Flow Pkts/s', 'Bwd PSH Flags', 'Init Bwd Win Byts', 'Fwd IAT Tot', 'Flow IAT Max', 'Bwd IAT Tot'], 'Adv sample 46': ['SYN Flag Cnt', 'Bwd Pkts/s', 'ACK Flag Cnt', 'FIN Flag Cnt', 'Flow Pkts/s', 'Bwd PSH Flags', 'Init Bwd Win Byts', 'Fwd IAT Tot', 'Flow IAT Max', 'Bwd IAT Tot'], 'Adv sample 47': ['SYN Flag Cnt', 'Bwd Pkts/s', 'ACK Flag Cnt', 'FIN Flag Cnt', 'Flow Pkts/s', 'Bwd PSH Flags', 'Init Bwd Win Byts', 'Fwd IAT Tot', 'Flow IAT Max', 'Bwd IAT Tot'], 'Adv sample 48': ['Bwd Pkts/s', 'FIN Flag Cnt', 'ACK Flag Cnt', 'Bwd IAT Tot', 'Flow Pkts/s', 'Bwd PSH Flags', 'Fwd IAT Tot', 'Init Bwd Win Byts', 'Flow IAT Max', 'Down/Up Ratio'], 'Adv sample 49': ['SYN Flag Cnt', 'Bwd Pkts/s', 'ACK Flag Cnt', 'FIN Flag Cnt', 'Flow Pkts/s', 'Bwd PSH Flags', 'Init Bwd Win Byts', 'Fwd IAT Tot', 'Flow IAT Max', 'Bwd IAT Tot'], 'Adv sample 50': ['Bwd Pkts/s', 'SYN Flag Cnt', 'FIN Flag Cnt', 'Flow Pkts/s', 'Bwd PSH Flags', 'Init Bwd Win Byts', 'Bwd IAT Tot', 'Fwd IAT Tot', 'Flow IAT Max', 'Bwd IAT Max'], 'Adv sample 51': ['Down/Up Ratio', 'Idle Max', 'Bwd Pkts/s', 'SYN Flag Cnt', 'Bwd PSH Flags', 'Init Bwd Win Byts', 'Fwd IAT Tot', 'Flow Pkts/s', 'PSH Flag Cnt', 'Flow IAT Mean'], 'Adv sample 52': ['SYN Flag Cnt', 'ACK Flag Cnt', 'FIN Flag Cnt', 'Bwd PSH Flags', 'Init Bwd Win Byts', 'Fwd IAT Tot', 'Flow IAT Max', 'Bwd IAT Tot', 'Flow Duration', 'PSH Flag Cnt'], 'Adv sample 53': ['Bwd Pkts/s', 'FIN Flag Cnt', 'ACK Flag Cnt', 'Bwd PSH Flags', 'Fwd IAT Tot', 'Bwd IAT Tot', 'Init Bwd Win Byts', 'Flow IAT Max', 'Flow Pkts/s', 'PSH Flag Cnt'], 'Adv sample 54': ['Down/Up Ratio', 'Idle Max', 'Bwd Pkts/s', 'SYN Flag Cnt', 'Fwd IAT Tot', 'Flow Pkts/s', 'Init Bwd Win Byts', 'Bwd PSH Flags', 'Subflow Bwd Pkts', 'Fwd Seg Size Avg'], 'Adv sample 55': ['Bwd Pkts/s', 'SYN Flag Cnt', 'FIN Flag Cnt', 'Flow Pkts/s', 'Bwd PSH Flags', 'Init Bwd Win Byts', 'Bwd IAT Tot', 'Fwd IAT Tot', 'Flow IAT Max', 'Bwd IAT Max'], 'Adv sample 56': ['SYN Flag Cnt', 'Bwd Pkts/s', 'ACK Flag Cnt', 'FIN Flag Cnt', 'Flow Pkts/s', 'Bwd PSH Flags', 'Init Bwd Win Byts', 'Fwd IAT Tot', 'Flow IAT Max', 'Bwd IAT Tot'], 'Adv sample 57': ['SYN Flag Cnt', 'Bwd Pkts/s', 'ACK Flag Cnt', 'FIN Flag Cnt', 'Flow Pkts/s', 'Bwd PSH Flags', 'Init Bwd Win Byts', 'Fwd IAT Tot', 'Flow IAT Max', 'Bwd IAT Tot'], 'Adv sample 58': ['SYN Flag Cnt', 'Bwd Pkts/s', 'ACK Flag Cnt', 'FIN Flag Cnt', 'Flow Pkts/s', 'Bwd PSH Flags', 'Init Bwd Win Byts', 'Fwd IAT Tot', 'Flow IAT Max', 'Bwd IAT Tot'], 'Adv sample 59': ['Bwd Pkts/s', 'SYN Flag Cnt', 'Init Bwd Win Byts', 'Bwd PSH Flags', 'Bwd IAT Tot', 'Fwd IAT Tot', 'Flow IAT Max', 'Bwd IAT Max', 'Bwd IAT Std', 'Idle Min'], 'Adv sample 60': ['Bwd Pkts/s', 'SYN Flag Cnt', 'Init Bwd Win Byts', 'Bwd PSH Flags', 'Fwd IAT Tot', 'Bwd IAT Tot', 'Bwd IAT Max', 'Flow IAT Max', 'Bwd IAT Std', 'TotLen Fwd Pkts'], 'Adv sample 61': ['Bwd Pkts/s', 'SYN Flag Cnt', 'FIN Flag Cnt', 'Flow Pkts/s', 'Bwd PSH Flags', 'Init Bwd Win Byts', 'Bwd IAT Tot', 'Fwd IAT Tot', 'Flow IAT Max', 'Bwd IAT Max'], 'Adv sample 62': ['SYN Flag Cnt', 'ACK Flag Cnt', 'Bwd Pkts/s', 'FIN Flag Cnt', 'Flow Pkts/s', 'Bwd PSH Flags', 'Init Bwd Win Byts', 'Fwd IAT Tot', 'Flow IAT Max', 'Bwd IAT Tot'], 'Adv sample 63': ['ACK Flag Cnt', 'SYN Flag Cnt', 'FIN Flag Cnt', 'Bwd PSH Flags', 'Fwd IAT Tot', 'Flow IAT Max', 'Init Bwd Win Byts', 'Flow IAT Std', 'PSH Flag Cnt', 'Flow Duration'], 'Adv sample 64': ['ACK Flag Cnt', 'SYN Flag Cnt', 'FIN Flag Cnt', 'Bwd PSH Flags', 'Fwd IAT Tot', 'Flow IAT Max', 'Init Bwd Win Byts', 'Flow IAT Std', 'Flow Duration', 'Idle Min'], 'Adv sample 65': ['ACK Flag Cnt', 'SYN Flag Cnt', 'FIN Flag Cnt', 'Bwd PSH Flags', 'Fwd IAT Tot', 'Flow IAT Max', 'Init Bwd Win Byts', 'Flow IAT Std', 'Flow Duration', 'PSH Flag Cnt'], 'Adv sample 66': ['Bwd Pkts/s', 'SYN Flag Cnt', 'FIN Flag Cnt', 'Flow Pkts/s', 'Bwd PSH Flags', 'Init Bwd Win Byts', 'Bwd IAT Tot', 'Fwd IAT Tot', 'Flow IAT Max', 'Bwd IAT Max'], 'Adv sample 67': ['SYN Flag Cnt', 'Bwd Pkts/s', 'ACK Flag Cnt', 'FIN Flag Cnt', 'Flow Pkts/s', 'Bwd PSH Flags', 'Init Bwd Win Byts', 'Fwd IAT Tot', 'Flow IAT Max', 'Bwd IAT Tot'], 'Adv sample 68': ['Bwd Pkts/s', 'SYN Flag Cnt', 'Init Bwd Win Byts', 'Fwd IAT Tot', 'Bwd PSH Flags', 'Bwd IAT Tot', 'Bwd IAT Max', 'Flow IAT Max', 'Bwd IAT Std', 'PSH Flag Cnt'], 'Adv sample 69': ['Bwd Pkts/s', 'FIN Flag Cnt', 'ACK Flag Cnt', 'Bwd PSH Flags', 'Flow Pkts/s', 'Bwd IAT Tot', 'Fwd IAT Tot', 'Init Bwd Win Byts', 'Flow IAT Max', 'Down/Up Ratio'], 'Adv sample 70': ['Bwd Pkts/s', 'FIN Flag Cnt', 'ACK Flag Cnt', 'Bwd PSH Flags', 'Bwd IAT Tot', 'Fwd IAT Tot', 'Init Bwd Win Byts', 'Flow Pkts/s', 'Flow IAT Max', 'PSH Flag Cnt'], 'Adv sample 71': ['SYN Flag Cnt', 'Bwd Pkts/s', 'ACK Flag Cnt', 'FIN Flag Cnt', 'Flow Pkts/s', 'Bwd PSH Flags', 'Init Bwd Win Byts', 'Fwd IAT Tot', 'Flow IAT Max', 'Bwd IAT Tot'], 'Adv sample 72': ['Down/Up Ratio', 'Bwd Pkts/s', 'Bwd IAT Max', 'Flow Pkts/s', 'SYN Flag Cnt', 'FIN Flag Cnt', 'Flow IAT Mean', 'Init Bwd Win Byts', 'Bwd PSH Flags', 'PSH Flag Cnt'], 'Adv sample 73': ['SYN Flag Cnt', 'Bwd Pkts/s', 'ACK Flag Cnt', 'FIN Flag Cnt', 'Flow Pkts/s', 'Bwd PSH Flags', 'Init Bwd Win Byts', 'Fwd IAT Tot', 'Flow IAT Max', 'Bwd IAT Tot'], 'Adv sample 74': ['Down/Up Ratio', 'Bwd Pkts/s', 'Idle Max', 'SYN Flag Cnt', 'Fwd IAT Tot', 'Init Bwd Win Byts', 'Flow Pkts/s', 'Pkt Len Max', 'Bwd Pkt Len Mean', 'Flow IAT Mean'], 'Adv sample 75': ['Bwd Pkts/s', 'SYN Flag Cnt', 'Init Bwd Win Byts', 'Bwd PSH Flags', 'Fwd IAT Tot', 'Bwd IAT Tot', 'Bwd IAT Max', 'PSH Flag Cnt', 'Bwd IAT Std', 'Flow IAT Max'], 'Adv sample 76': ['Bwd Pkts/s', 'SYN Flag Cnt', 'FIN Flag Cnt', 'Flow Pkts/s', 'Bwd PSH Flags', 'Init Bwd Win Byts', 'Bwd IAT Tot', 'Fwd IAT Tot', 'Flow IAT Max', 'Bwd IAT Max'], 'Adv sample 77': ['Bwd Pkts/s', 'FIN Flag Cnt', 'ACK Flag Cnt', 'Flow Pkts/s', 'Bwd PSH Flags', 'Bwd IAT Tot', 'Fwd IAT Tot', 'Init Bwd Win Byts', 'Flow IAT Max', 'Down/Up Ratio'], 'Adv sample 78': ['SYN Flag Cnt', 'Bwd Pkts/s', 'ACK Flag Cnt', 'FIN Flag Cnt', 'Flow Pkts/s', 'Bwd PSH Flags', 'Init Bwd Win Byts', 'Fwd IAT Tot', 'Flow IAT Max', 'Bwd IAT Tot'], 'Adv sample 79': ['Bwd Pkts/s', 'Down/Up Ratio', 'SYN Flag Cnt', 'Init Bwd Win Byts', 'Bwd PSH Flags', 'Fwd IAT Tot', 'Bwd IAT Tot', 'Bwd IAT Max', 'PSH Flag Cnt', 'Bwd IAT Std'], 'Adv sample 80': ['SYN Flag Cnt', 'Bwd Pkts/s', 'ACK Flag Cnt', 'FIN Flag Cnt', 'Flow Pkts/s', 'Bwd PSH Flags', 'Init Bwd Win Byts', 'Fwd IAT Tot', 'Flow IAT Max', 'Bwd IAT Tot'], 'Adv sample 81': ['Down/Up Ratio', 'Bwd Pkts/s', 'Idle Max', 'SYN Flag Cnt', 'Flow Pkts/s', 'Fwd IAT Tot', 'Bwd PSH Flags', 'Init Bwd Win Byts', 'Flow IAT Mean', 'Idle Std'], 'Adv sample 82': ['SYN Flag Cnt', 'ACK Flag Cnt', 'Bwd Pkts/s', 'FIN Flag Cnt', 'Flow Pkts/s', 'Bwd PSH Flags', 'Init Bwd Win Byts', 'Fwd IAT Tot', 'Flow IAT Max', 'Bwd IAT Tot'], 'Adv sample 83': ['SYN Flag Cnt', 'Bwd Pkts/s', 'ACK Flag Cnt', 'FIN Flag Cnt', 'Flow Pkts/s', 'Bwd PSH Flags', 'Init Bwd Win Byts', 'Fwd IAT Tot', 'Flow IAT Max', 'Bwd IAT Tot'], 'Adv sample 84': ['Bwd Pkts/s', 'SYN Flag Cnt', 'Init Bwd Win Byts', 'Bwd PSH Flags', 'Fwd IAT Tot', 'Bwd IAT Tot', 'Bwd IAT Std', 'Bwd IAT Max', 'PSH Flag Cnt', 'Flow IAT Max'], 'Adv sample 85': ['Bwd Pkts/s', 'SYN Flag Cnt', 'FIN Flag Cnt', 'Down/Up Ratio', 'Bwd IAT Tot', 'Init Bwd Win Byts', 'Flow IAT Max', 'Fwd IAT Tot', 'Flow IAT Std', 'Bwd Pkt Len Min'], 'Adv sample 86': ['Bwd Pkts/s', 'SYN Flag Cnt', 'FIN Flag Cnt', 'Flow Pkts/s', 'Bwd PSH Flags', 'Init Bwd Win Byts', 'Bwd IAT Tot', 'Fwd IAT Tot', 'Flow IAT Max', 'Bwd IAT Max'], 'Adv sample 87': ['Bwd Pkts/s', 'FIN Flag Cnt', 'ACK Flag Cnt', 'Flow Pkts/s', 'Bwd PSH Flags', 'Fwd IAT Tot', 'Init Bwd Win Byts', 'Bwd IAT Tot', 'Flow IAT Max', 'Down/Up Ratio'], 'Adv sample 88': ['ACK Flag Cnt', 'SYN Flag Cnt', 'FIN Flag Cnt', 'Bwd PSH Flags', 'Fwd IAT Tot', 'Flow IAT Max', 'Init Bwd Win Byts', 'Flow IAT Std', 'Flow Duration', 'Idle Mean'], 'Adv sample 89': ['Down/Up Ratio', 'Bwd Pkts/s', 'Idle Max', 'SYN Flag Cnt', 'Fwd IAT Tot', 'Flow Pkts/s', 'Init Bwd Win Byts', 'Flow IAT Mean', 'Bwd PSH Flags', 'Active Std'], 'Adv sample 90': ['Bwd Pkts/s', 'FIN Flag Cnt', 'ACK Flag Cnt', 'Bwd PSH Flags', 'Fwd IAT Tot', 'Bwd IAT Tot', 'Init Bwd Win Byts', 'Flow Pkts/s', 'Flow IAT Max', 'PSH Flag Cnt'], 'Adv sample 91': ['SYN Flag Cnt', 'Bwd Pkts/s', 'ACK Flag Cnt', 'FIN Flag Cnt', 'Flow Pkts/s', 'Bwd PSH Flags', 'Init Bwd Win Byts', 'Fwd IAT Tot', 'Flow IAT Max', 'Bwd IAT Tot'], 'Adv sample 92': ['Down/Up Ratio', 'Bwd Pkts/s', 'Idle Max', 'SYN Flag Cnt', 'Init Bwd Win Byts', 'Flow Pkts/s', 'Fwd IAT Tot', 'Bwd PSH Flags', 'Idle Std', 'Bwd Seg Size Avg'], 'Adv sample 93': ['SYN Flag Cnt', 'Bwd Pkts/s', 'ACK Flag Cnt', 'FIN Flag Cnt', 'Flow Pkts/s', 'Bwd PSH Flags', 'Init Bwd Win Byts', 'Fwd IAT Tot', 'Flow IAT Max', 'Bwd IAT Tot'], 'Adv sample 94': ['Bwd Pkts/s', 'FIN Flag Cnt', 'Fwd IAT Mean', 'Flow Pkts/s', 'Bwd PSH Flags', 'Bwd IAT Max', 'Down/Up Ratio', 'PSH Flag Cnt', 'Idle Std', 'Bwd Seg Size Avg'], 'Adv sample 95': ['ACK Flag Cnt', 'SYN Flag Cnt', 'FIN Flag Cnt', 'Bwd PSH Flags', 'Fwd IAT Tot', 'Flow IAT Max', 'Init Bwd Win Byts', 'Flow IAT Std', 'Flow Duration', 'Idle Min'], 'Adv sample 96': ['SYN Flag Cnt', 'Bwd Pkts/s', 'ACK Flag Cnt', 'FIN Flag Cnt', 'Flow Pkts/s', 'Bwd PSH Flags', 'Init Bwd Win Byts', 'Fwd IAT Tot', 'Flow IAT Max', 'Bwd IAT Tot'], 'Adv sample 97': ['Bwd Pkts/s', 'SYN Flag Cnt', 'FIN Flag Cnt', 'Flow Pkts/s', 'Bwd PSH Flags', 'Init Bwd Win Byts', 'Bwd IAT Tot', 'Fwd IAT Tot', 'Flow IAT Max', 'Bwd IAT Max'], 'Adv sample 98': ['SYN Flag Cnt', 'Bwd Pkts/s', 'ACK Flag Cnt', 'FIN Flag Cnt', 'Flow Pkts/s', 'Bwd PSH Flags', 'Init Bwd Win Byts', 'Fwd IAT Tot', 'Flow IAT Max', 'Bwd IAT Tot'], 'Adv sample 99': ['SYN Flag Cnt', 'ACK Flag Cnt', 'FIN Flag Cnt', 'Bwd PSH Flags', 'Init Bwd Win Byts', 'Fwd IAT Tot', 'Flow IAT Max', 'Bwd IAT Tot', 'Flow IAT Std', 'Flow Duration']}\n"
          ]
        }
      ]
    },
    {
      "cell_type": "code",
      "source": [
        "len(shap_values[0])"
      ],
      "metadata": {
        "colab": {
          "base_uri": "https://localhost:8080/"
        },
        "id": "YdyTABeHYa2k",
        "outputId": "14da76a7-2920-41c6-eb3d-42835a188384"
      },
      "execution_count": 21,
      "outputs": [
        {
          "output_type": "execute_result",
          "data": {
            "text/plain": [
              "100"
            ]
          },
          "metadata": {},
          "execution_count": 21
        }
      ]
    },
    {
      "cell_type": "code",
      "source": [
        "len(data_dict)"
      ],
      "metadata": {
        "colab": {
          "base_uri": "https://localhost:8080/"
        },
        "id": "rUB23r63Tjug",
        "outputId": "ba72b5e6-6695-4e5b-e3a8-13effb7213f7"
      },
      "execution_count": 22,
      "outputs": [
        {
          "output_type": "execute_result",
          "data": {
            "text/plain": [
              "100"
            ]
          },
          "metadata": {},
          "execution_count": 22
        }
      ]
    },
    {
      "cell_type": "markdown",
      "source": [
        "# Detection phase"
      ],
      "metadata": {
        "id": "E8tWQQDtNIJk"
      }
    },
    {
      "cell_type": "code",
      "source": [
        "import os\n",
        "import pandas as pd"
      ],
      "metadata": {
        "id": "mmslrdn7z7Zf"
      },
      "execution_count": 23,
      "outputs": []
    },
    {
      "cell_type": "code",
      "source": [
        "whitelist_df = pd.read_csv('/content/drive/MyDrive/DACN_XAI_Adv_defense/InSDN/cnn_top24_InSDN.csv')\n",
        "whitelist_df.head(24)"
      ],
      "metadata": {
        "colab": {
          "base_uri": "https://localhost:8080/",
          "height": 802
        },
        "id": "6QIy3lhBztpU",
        "outputId": "38b79dfd-858c-4d08-c657-286592b8a45d"
      },
      "execution_count": 40,
      "outputs": [
        {
          "output_type": "execute_result",
          "data": {
            "text/plain": [
              "              Feature  Frequency\n",
              "0        URG Flag Cnt        149\n",
              "1          Bwd Pkts/s        148\n",
              "2        FIN Flag Cnt        141\n",
              "3       Bwd PSH Flags        131\n",
              "4        SYN Flag Cnt        123\n",
              "5        PSH Flag Cnt        116\n",
              "6        ACK Flag Cnt         98\n",
              "7       Down/Up Ratio         97\n",
              "8         Flow Pkts/s         86\n",
              "9   Init Bwd Win Byts         82\n",
              "10        Bwd IAT Max         47\n",
              "11        Bwd IAT Tot         46\n",
              "12      Bwd URG Flags         39\n",
              "13      Flow Duration         36\n",
              "14           Idle Min         26\n",
              "15    Bwd Pkt Len Max         20\n",
              "16        Fwd IAT Max         17\n",
              "17       Flow IAT Std         12\n",
              "18       Fwd IAT Mean         11\n",
              "19       Flow IAT Max         11\n",
              "20       Tot Fwd Pkts          9\n",
              "21   Bwd Pkt Len Mean          9\n",
              "22        Bwd IAT Std          6\n",
              "23           Idle Max          6"
            ],
            "text/html": [
              "\n",
              "  <div id=\"df-17a6678b-d606-41e4-84d2-89aae1e31a69\">\n",
              "    <div class=\"colab-df-container\">\n",
              "      <div>\n",
              "<style scoped>\n",
              "    .dataframe tbody tr th:only-of-type {\n",
              "        vertical-align: middle;\n",
              "    }\n",
              "\n",
              "    .dataframe tbody tr th {\n",
              "        vertical-align: top;\n",
              "    }\n",
              "\n",
              "    .dataframe thead th {\n",
              "        text-align: right;\n",
              "    }\n",
              "</style>\n",
              "<table border=\"1\" class=\"dataframe\">\n",
              "  <thead>\n",
              "    <tr style=\"text-align: right;\">\n",
              "      <th></th>\n",
              "      <th>Feature</th>\n",
              "      <th>Frequency</th>\n",
              "    </tr>\n",
              "  </thead>\n",
              "  <tbody>\n",
              "    <tr>\n",
              "      <th>0</th>\n",
              "      <td>URG Flag Cnt</td>\n",
              "      <td>149</td>\n",
              "    </tr>\n",
              "    <tr>\n",
              "      <th>1</th>\n",
              "      <td>Bwd Pkts/s</td>\n",
              "      <td>148</td>\n",
              "    </tr>\n",
              "    <tr>\n",
              "      <th>2</th>\n",
              "      <td>FIN Flag Cnt</td>\n",
              "      <td>141</td>\n",
              "    </tr>\n",
              "    <tr>\n",
              "      <th>3</th>\n",
              "      <td>Bwd PSH Flags</td>\n",
              "      <td>131</td>\n",
              "    </tr>\n",
              "    <tr>\n",
              "      <th>4</th>\n",
              "      <td>SYN Flag Cnt</td>\n",
              "      <td>123</td>\n",
              "    </tr>\n",
              "    <tr>\n",
              "      <th>5</th>\n",
              "      <td>PSH Flag Cnt</td>\n",
              "      <td>116</td>\n",
              "    </tr>\n",
              "    <tr>\n",
              "      <th>6</th>\n",
              "      <td>ACK Flag Cnt</td>\n",
              "      <td>98</td>\n",
              "    </tr>\n",
              "    <tr>\n",
              "      <th>7</th>\n",
              "      <td>Down/Up Ratio</td>\n",
              "      <td>97</td>\n",
              "    </tr>\n",
              "    <tr>\n",
              "      <th>8</th>\n",
              "      <td>Flow Pkts/s</td>\n",
              "      <td>86</td>\n",
              "    </tr>\n",
              "    <tr>\n",
              "      <th>9</th>\n",
              "      <td>Init Bwd Win Byts</td>\n",
              "      <td>82</td>\n",
              "    </tr>\n",
              "    <tr>\n",
              "      <th>10</th>\n",
              "      <td>Bwd IAT Max</td>\n",
              "      <td>47</td>\n",
              "    </tr>\n",
              "    <tr>\n",
              "      <th>11</th>\n",
              "      <td>Bwd IAT Tot</td>\n",
              "      <td>46</td>\n",
              "    </tr>\n",
              "    <tr>\n",
              "      <th>12</th>\n",
              "      <td>Bwd URG Flags</td>\n",
              "      <td>39</td>\n",
              "    </tr>\n",
              "    <tr>\n",
              "      <th>13</th>\n",
              "      <td>Flow Duration</td>\n",
              "      <td>36</td>\n",
              "    </tr>\n",
              "    <tr>\n",
              "      <th>14</th>\n",
              "      <td>Idle Min</td>\n",
              "      <td>26</td>\n",
              "    </tr>\n",
              "    <tr>\n",
              "      <th>15</th>\n",
              "      <td>Bwd Pkt Len Max</td>\n",
              "      <td>20</td>\n",
              "    </tr>\n",
              "    <tr>\n",
              "      <th>16</th>\n",
              "      <td>Fwd IAT Max</td>\n",
              "      <td>17</td>\n",
              "    </tr>\n",
              "    <tr>\n",
              "      <th>17</th>\n",
              "      <td>Flow IAT Std</td>\n",
              "      <td>12</td>\n",
              "    </tr>\n",
              "    <tr>\n",
              "      <th>18</th>\n",
              "      <td>Fwd IAT Mean</td>\n",
              "      <td>11</td>\n",
              "    </tr>\n",
              "    <tr>\n",
              "      <th>19</th>\n",
              "      <td>Flow IAT Max</td>\n",
              "      <td>11</td>\n",
              "    </tr>\n",
              "    <tr>\n",
              "      <th>20</th>\n",
              "      <td>Tot Fwd Pkts</td>\n",
              "      <td>9</td>\n",
              "    </tr>\n",
              "    <tr>\n",
              "      <th>21</th>\n",
              "      <td>Bwd Pkt Len Mean</td>\n",
              "      <td>9</td>\n",
              "    </tr>\n",
              "    <tr>\n",
              "      <th>22</th>\n",
              "      <td>Bwd IAT Std</td>\n",
              "      <td>6</td>\n",
              "    </tr>\n",
              "    <tr>\n",
              "      <th>23</th>\n",
              "      <td>Idle Max</td>\n",
              "      <td>6</td>\n",
              "    </tr>\n",
              "  </tbody>\n",
              "</table>\n",
              "</div>\n",
              "      <button class=\"colab-df-convert\" onclick=\"convertToInteractive('df-17a6678b-d606-41e4-84d2-89aae1e31a69')\"\n",
              "              title=\"Convert this dataframe to an interactive table.\"\n",
              "              style=\"display:none;\">\n",
              "        \n",
              "  <svg xmlns=\"http://www.w3.org/2000/svg\" height=\"24px\"viewBox=\"0 0 24 24\"\n",
              "       width=\"24px\">\n",
              "    <path d=\"M0 0h24v24H0V0z\" fill=\"none\"/>\n",
              "    <path d=\"M18.56 5.44l.94 2.06.94-2.06 2.06-.94-2.06-.94-.94-2.06-.94 2.06-2.06.94zm-11 1L8.5 8.5l.94-2.06 2.06-.94-2.06-.94L8.5 2.5l-.94 2.06-2.06.94zm10 10l.94 2.06.94-2.06 2.06-.94-2.06-.94-.94-2.06-.94 2.06-2.06.94z\"/><path d=\"M17.41 7.96l-1.37-1.37c-.4-.4-.92-.59-1.43-.59-.52 0-1.04.2-1.43.59L10.3 9.45l-7.72 7.72c-.78.78-.78 2.05 0 2.83L4 21.41c.39.39.9.59 1.41.59.51 0 1.02-.2 1.41-.59l7.78-7.78 2.81-2.81c.8-.78.8-2.07 0-2.86zM5.41 20L4 18.59l7.72-7.72 1.47 1.35L5.41 20z\"/>\n",
              "  </svg>\n",
              "      </button>\n",
              "      \n",
              "  <style>\n",
              "    .colab-df-container {\n",
              "      display:flex;\n",
              "      flex-wrap:wrap;\n",
              "      gap: 12px;\n",
              "    }\n",
              "\n",
              "    .colab-df-convert {\n",
              "      background-color: #E8F0FE;\n",
              "      border: none;\n",
              "      border-radius: 50%;\n",
              "      cursor: pointer;\n",
              "      display: none;\n",
              "      fill: #1967D2;\n",
              "      height: 32px;\n",
              "      padding: 0 0 0 0;\n",
              "      width: 32px;\n",
              "    }\n",
              "\n",
              "    .colab-df-convert:hover {\n",
              "      background-color: #E2EBFA;\n",
              "      box-shadow: 0px 1px 2px rgba(60, 64, 67, 0.3), 0px 1px 3px 1px rgba(60, 64, 67, 0.15);\n",
              "      fill: #174EA6;\n",
              "    }\n",
              "\n",
              "    [theme=dark] .colab-df-convert {\n",
              "      background-color: #3B4455;\n",
              "      fill: #D2E3FC;\n",
              "    }\n",
              "\n",
              "    [theme=dark] .colab-df-convert:hover {\n",
              "      background-color: #434B5C;\n",
              "      box-shadow: 0px 1px 3px 1px rgba(0, 0, 0, 0.15);\n",
              "      filter: drop-shadow(0px 1px 2px rgba(0, 0, 0, 0.3));\n",
              "      fill: #FFFFFF;\n",
              "    }\n",
              "  </style>\n",
              "\n",
              "      <script>\n",
              "        const buttonEl =\n",
              "          document.querySelector('#df-17a6678b-d606-41e4-84d2-89aae1e31a69 button.colab-df-convert');\n",
              "        buttonEl.style.display =\n",
              "          google.colab.kernel.accessAllowed ? 'block' : 'none';\n",
              "\n",
              "        async function convertToInteractive(key) {\n",
              "          const element = document.querySelector('#df-17a6678b-d606-41e4-84d2-89aae1e31a69');\n",
              "          const dataTable =\n",
              "            await google.colab.kernel.invokeFunction('convertToInteractive',\n",
              "                                                     [key], {});\n",
              "          if (!dataTable) return;\n",
              "\n",
              "          const docLinkHtml = 'Like what you see? Visit the ' +\n",
              "            '<a target=\"_blank\" href=https://colab.research.google.com/notebooks/data_table.ipynb>data table notebook</a>'\n",
              "            + ' to learn more about interactive tables.';\n",
              "          element.innerHTML = '';\n",
              "          dataTable['output_type'] = 'display_data';\n",
              "          await google.colab.output.renderOutput(dataTable, element);\n",
              "          const docLink = document.createElement('div');\n",
              "          docLink.innerHTML = docLinkHtml;\n",
              "          element.appendChild(docLink);\n",
              "        }\n",
              "      </script>\n",
              "    </div>\n",
              "  </div>\n",
              "  "
            ]
          },
          "metadata": {},
          "execution_count": 40
        }
      ]
    },
    {
      "cell_type": "markdown",
      "source": [
        "## Detection rate (top 24) = 100/100"
      ],
      "metadata": {
        "id": "PkqSAZakWXM8"
      }
    },
    {
      "cell_type": "code",
      "source": [
        "whitelist = whitelist_df.iloc[:, 0][:24].tolist()\n",
        "print(whitelist)"
      ],
      "metadata": {
        "colab": {
          "base_uri": "https://localhost:8080/"
        },
        "id": "hiA70yr9QStE",
        "outputId": "cbfcc562-44ea-4e04-8fa3-a655861fde12"
      },
      "execution_count": 41,
      "outputs": [
        {
          "output_type": "stream",
          "name": "stdout",
          "text": [
            "['URG Flag Cnt', 'Bwd Pkts/s', 'FIN Flag Cnt', 'Bwd PSH Flags', 'SYN Flag Cnt', 'PSH Flag Cnt', 'ACK Flag Cnt', 'Down/Up Ratio', 'Flow Pkts/s', 'Init Bwd Win Byts', 'Bwd IAT Max', 'Bwd IAT Tot', 'Bwd URG Flags', 'Flow Duration', 'Idle Min', 'Bwd Pkt Len Max', 'Fwd IAT Max', 'Flow IAT Std', 'Fwd IAT Mean', 'Flow IAT Max', 'Tot Fwd Pkts', 'Bwd Pkt Len Mean', 'Bwd IAT Std', 'Idle Max']\n"
          ]
        }
      ]
    },
    {
      "cell_type": "code",
      "source": [
        "alert = []\n",
        "\n",
        "# Iterate over each key-value pair in the data_dict\n",
        "for key, value in data_dict.items():\n",
        "    # Check if there are one feature is not in the whitelist\n",
        "    for string in value:\n",
        "      if string not in whitelist:\n",
        "        alert.append(key)\n",
        "        break\n",
        "\n",
        "# Print the alert dictionary\n",
        "print(\"Alert list length:\" + str(len(alert)))"
      ],
      "metadata": {
        "colab": {
          "base_uri": "https://localhost:8080/"
        },
        "id": "GWIJRBYkUwhx",
        "outputId": "cd8229d0-57a3-4829-d520-58648ed8d13f"
      },
      "execution_count": 42,
      "outputs": [
        {
          "output_type": "stream",
          "name": "stdout",
          "text": [
            "Alert list length:100\n"
          ]
        }
      ]
    },
    {
      "cell_type": "markdown",
      "source": [
        "## Detection rate (top 38) = 99/100"
      ],
      "metadata": {
        "id": "NddVIE7MU9m-"
      }
    },
    {
      "cell_type": "code",
      "source": [
        "whitelist2 = whitelist_df.iloc[:, 0][:38].tolist()\n",
        "print(whitelist2)"
      ],
      "metadata": {
        "colab": {
          "base_uri": "https://localhost:8080/"
        },
        "id": "QTKqfqrEWMLV",
        "outputId": "9598ba80-c7ed-4e85-acf3-1f80776349da"
      },
      "execution_count": 43,
      "outputs": [
        {
          "output_type": "stream",
          "name": "stdout",
          "text": [
            "['URG Flag Cnt', 'Bwd Pkts/s', 'FIN Flag Cnt', 'Bwd PSH Flags', 'SYN Flag Cnt', 'PSH Flag Cnt', 'ACK Flag Cnt', 'Down/Up Ratio', 'Flow Pkts/s', 'Init Bwd Win Byts', 'Bwd IAT Max', 'Bwd IAT Tot', 'Bwd URG Flags', 'Flow Duration', 'Idle Min', 'Bwd Pkt Len Max', 'Fwd IAT Max', 'Flow IAT Std', 'Fwd IAT Mean', 'Flow IAT Max', 'Tot Fwd Pkts', 'Bwd Pkt Len Mean', 'Bwd IAT Std', 'Idle Max', 'Tot Bwd Pkts', 'TotLen Fwd Pkts', 'Idle Mean', 'Bwd Seg Size Avg', 'Pkt Len Mean', 'Flow IAT Mean', 'Pkt Len Std', 'TotLen Bwd Pkts', 'Bwd Pkt Len Std', 'Bwd Header Len', 'Subflow Bwd Pkts', 'Fwd Act Data Pkts', 'Fwd Pkt Len Min', 'Pkt Len Min']\n"
          ]
        }
      ]
    },
    {
      "cell_type": "code",
      "source": [
        "alert2 = []\n",
        "\n",
        "# Iterate over each key-value pair in the data_dict\n",
        "for key, value in data_dict.items():\n",
        "    # Check if there are one feature is not in the whitelist\n",
        "    for string in value:\n",
        "      if string not in whitelist2:\n",
        "        alert2.append(key)\n",
        "        break\n",
        "\n",
        "# Print the alert dictionary\n",
        "print(\"Alert list length:\" + str(len(alert2)))"
      ],
      "metadata": {
        "colab": {
          "base_uri": "https://localhost:8080/"
        },
        "id": "p_i5J0kxVyCx",
        "outputId": "c8e8ad0f-dffa-42ad-e9f3-5082ca6b4a83"
      },
      "execution_count": 44,
      "outputs": [
        {
          "output_type": "stream",
          "name": "stdout",
          "text": [
            "Alert list length:99\n"
          ]
        }
      ]
    }
  ]
}