{
  "nbformat": 4,
  "nbformat_minor": 0,
  "metadata": {
    "colab": {
      "provenance": []
    },
    "kernelspec": {
      "name": "python3",
      "display_name": "Python 3"
    },
    "language_info": {
      "name": "python"
    },
    "widgets": {
      "application/vnd.jupyter.widget-state+json": {
        "35352c4daa324d9682c4f8200abdb1ab": {
          "model_module": "@jupyter-widgets/controls",
          "model_name": "HBoxModel",
          "model_module_version": "1.5.0",
          "state": {
            "_dom_classes": [],
            "_model_module": "@jupyter-widgets/controls",
            "_model_module_version": "1.5.0",
            "_model_name": "HBoxModel",
            "_view_count": null,
            "_view_module": "@jupyter-widgets/controls",
            "_view_module_version": "1.5.0",
            "_view_name": "HBoxView",
            "box_style": "",
            "children": [
              "IPY_MODEL_6845f12b851f4b4e90159697cf35e311",
              "IPY_MODEL_61203b51a7104614b77974aea652f566",
              "IPY_MODEL_e445559ef88648e28ef330f4a8f33075"
            ],
            "layout": "IPY_MODEL_0dc7249475e34c6eae478dd3c3b1edf1"
          }
        },
        "6845f12b851f4b4e90159697cf35e311": {
          "model_module": "@jupyter-widgets/controls",
          "model_name": "HTMLModel",
          "model_module_version": "1.5.0",
          "state": {
            "_dom_classes": [],
            "_model_module": "@jupyter-widgets/controls",
            "_model_module_version": "1.5.0",
            "_model_name": "HTMLModel",
            "_view_count": null,
            "_view_module": "@jupyter-widgets/controls",
            "_view_module_version": "1.5.0",
            "_view_name": "HTMLView",
            "description": "",
            "description_tooltip": null,
            "layout": "IPY_MODEL_e4077feb5aa54f13a195d971205fea0b",
            "placeholder": "​",
            "style": "IPY_MODEL_e243b462aadd4ec689e60c84ff2d62da",
            "value": "100%"
          }
        },
        "61203b51a7104614b77974aea652f566": {
          "model_module": "@jupyter-widgets/controls",
          "model_name": "FloatProgressModel",
          "model_module_version": "1.5.0",
          "state": {
            "_dom_classes": [],
            "_model_module": "@jupyter-widgets/controls",
            "_model_module_version": "1.5.0",
            "_model_name": "FloatProgressModel",
            "_view_count": null,
            "_view_module": "@jupyter-widgets/controls",
            "_view_module_version": "1.5.0",
            "_view_name": "ProgressView",
            "bar_style": "success",
            "description": "",
            "description_tooltip": null,
            "layout": "IPY_MODEL_431d110660c64f5b93be6105c448b5d2",
            "max": 1000,
            "min": 0,
            "orientation": "horizontal",
            "style": "IPY_MODEL_cafe5a7d10fe4d4c81f07e99a0efb33f",
            "value": 1000
          }
        },
        "e445559ef88648e28ef330f4a8f33075": {
          "model_module": "@jupyter-widgets/controls",
          "model_name": "HTMLModel",
          "model_module_version": "1.5.0",
          "state": {
            "_dom_classes": [],
            "_model_module": "@jupyter-widgets/controls",
            "_model_module_version": "1.5.0",
            "_model_name": "HTMLModel",
            "_view_count": null,
            "_view_module": "@jupyter-widgets/controls",
            "_view_module_version": "1.5.0",
            "_view_name": "HTMLView",
            "description": "",
            "description_tooltip": null,
            "layout": "IPY_MODEL_487d8a4671544f4e8245a99d0fc8bd8a",
            "placeholder": "​",
            "style": "IPY_MODEL_f10dadde2f3342ae815de3b1bb77a52e",
            "value": " 1000/1000 [1:16:30&lt;00:00,  6.35s/it]"
          }
        },
        "0dc7249475e34c6eae478dd3c3b1edf1": {
          "model_module": "@jupyter-widgets/base",
          "model_name": "LayoutModel",
          "model_module_version": "1.2.0",
          "state": {
            "_model_module": "@jupyter-widgets/base",
            "_model_module_version": "1.2.0",
            "_model_name": "LayoutModel",
            "_view_count": null,
            "_view_module": "@jupyter-widgets/base",
            "_view_module_version": "1.2.0",
            "_view_name": "LayoutView",
            "align_content": null,
            "align_items": null,
            "align_self": null,
            "border": null,
            "bottom": null,
            "display": null,
            "flex": null,
            "flex_flow": null,
            "grid_area": null,
            "grid_auto_columns": null,
            "grid_auto_flow": null,
            "grid_auto_rows": null,
            "grid_column": null,
            "grid_gap": null,
            "grid_row": null,
            "grid_template_areas": null,
            "grid_template_columns": null,
            "grid_template_rows": null,
            "height": null,
            "justify_content": null,
            "justify_items": null,
            "left": null,
            "margin": null,
            "max_height": null,
            "max_width": null,
            "min_height": null,
            "min_width": null,
            "object_fit": null,
            "object_position": null,
            "order": null,
            "overflow": null,
            "overflow_x": null,
            "overflow_y": null,
            "padding": null,
            "right": null,
            "top": null,
            "visibility": null,
            "width": null
          }
        },
        "e4077feb5aa54f13a195d971205fea0b": {
          "model_module": "@jupyter-widgets/base",
          "model_name": "LayoutModel",
          "model_module_version": "1.2.0",
          "state": {
            "_model_module": "@jupyter-widgets/base",
            "_model_module_version": "1.2.0",
            "_model_name": "LayoutModel",
            "_view_count": null,
            "_view_module": "@jupyter-widgets/base",
            "_view_module_version": "1.2.0",
            "_view_name": "LayoutView",
            "align_content": null,
            "align_items": null,
            "align_self": null,
            "border": null,
            "bottom": null,
            "display": null,
            "flex": null,
            "flex_flow": null,
            "grid_area": null,
            "grid_auto_columns": null,
            "grid_auto_flow": null,
            "grid_auto_rows": null,
            "grid_column": null,
            "grid_gap": null,
            "grid_row": null,
            "grid_template_areas": null,
            "grid_template_columns": null,
            "grid_template_rows": null,
            "height": null,
            "justify_content": null,
            "justify_items": null,
            "left": null,
            "margin": null,
            "max_height": null,
            "max_width": null,
            "min_height": null,
            "min_width": null,
            "object_fit": null,
            "object_position": null,
            "order": null,
            "overflow": null,
            "overflow_x": null,
            "overflow_y": null,
            "padding": null,
            "right": null,
            "top": null,
            "visibility": null,
            "width": null
          }
        },
        "e243b462aadd4ec689e60c84ff2d62da": {
          "model_module": "@jupyter-widgets/controls",
          "model_name": "DescriptionStyleModel",
          "model_module_version": "1.5.0",
          "state": {
            "_model_module": "@jupyter-widgets/controls",
            "_model_module_version": "1.5.0",
            "_model_name": "DescriptionStyleModel",
            "_view_count": null,
            "_view_module": "@jupyter-widgets/base",
            "_view_module_version": "1.2.0",
            "_view_name": "StyleView",
            "description_width": ""
          }
        },
        "431d110660c64f5b93be6105c448b5d2": {
          "model_module": "@jupyter-widgets/base",
          "model_name": "LayoutModel",
          "model_module_version": "1.2.0",
          "state": {
            "_model_module": "@jupyter-widgets/base",
            "_model_module_version": "1.2.0",
            "_model_name": "LayoutModel",
            "_view_count": null,
            "_view_module": "@jupyter-widgets/base",
            "_view_module_version": "1.2.0",
            "_view_name": "LayoutView",
            "align_content": null,
            "align_items": null,
            "align_self": null,
            "border": null,
            "bottom": null,
            "display": null,
            "flex": null,
            "flex_flow": null,
            "grid_area": null,
            "grid_auto_columns": null,
            "grid_auto_flow": null,
            "grid_auto_rows": null,
            "grid_column": null,
            "grid_gap": null,
            "grid_row": null,
            "grid_template_areas": null,
            "grid_template_columns": null,
            "grid_template_rows": null,
            "height": null,
            "justify_content": null,
            "justify_items": null,
            "left": null,
            "margin": null,
            "max_height": null,
            "max_width": null,
            "min_height": null,
            "min_width": null,
            "object_fit": null,
            "object_position": null,
            "order": null,
            "overflow": null,
            "overflow_x": null,
            "overflow_y": null,
            "padding": null,
            "right": null,
            "top": null,
            "visibility": null,
            "width": null
          }
        },
        "cafe5a7d10fe4d4c81f07e99a0efb33f": {
          "model_module": "@jupyter-widgets/controls",
          "model_name": "ProgressStyleModel",
          "model_module_version": "1.5.0",
          "state": {
            "_model_module": "@jupyter-widgets/controls",
            "_model_module_version": "1.5.0",
            "_model_name": "ProgressStyleModel",
            "_view_count": null,
            "_view_module": "@jupyter-widgets/base",
            "_view_module_version": "1.2.0",
            "_view_name": "StyleView",
            "bar_color": null,
            "description_width": ""
          }
        },
        "487d8a4671544f4e8245a99d0fc8bd8a": {
          "model_module": "@jupyter-widgets/base",
          "model_name": "LayoutModel",
          "model_module_version": "1.2.0",
          "state": {
            "_model_module": "@jupyter-widgets/base",
            "_model_module_version": "1.2.0",
            "_model_name": "LayoutModel",
            "_view_count": null,
            "_view_module": "@jupyter-widgets/base",
            "_view_module_version": "1.2.0",
            "_view_name": "LayoutView",
            "align_content": null,
            "align_items": null,
            "align_self": null,
            "border": null,
            "bottom": null,
            "display": null,
            "flex": null,
            "flex_flow": null,
            "grid_area": null,
            "grid_auto_columns": null,
            "grid_auto_flow": null,
            "grid_auto_rows": null,
            "grid_column": null,
            "grid_gap": null,
            "grid_row": null,
            "grid_template_areas": null,
            "grid_template_columns": null,
            "grid_template_rows": null,
            "height": null,
            "justify_content": null,
            "justify_items": null,
            "left": null,
            "margin": null,
            "max_height": null,
            "max_width": null,
            "min_height": null,
            "min_width": null,
            "object_fit": null,
            "object_position": null,
            "order": null,
            "overflow": null,
            "overflow_x": null,
            "overflow_y": null,
            "padding": null,
            "right": null,
            "top": null,
            "visibility": null,
            "width": null
          }
        },
        "f10dadde2f3342ae815de3b1bb77a52e": {
          "model_module": "@jupyter-widgets/controls",
          "model_name": "DescriptionStyleModel",
          "model_module_version": "1.5.0",
          "state": {
            "_model_module": "@jupyter-widgets/controls",
            "_model_module_version": "1.5.0",
            "_model_name": "DescriptionStyleModel",
            "_view_count": null,
            "_view_module": "@jupyter-widgets/base",
            "_view_module_version": "1.2.0",
            "_view_name": "StyleView",
            "description_width": ""
          }
        }
      }
    }
  },
  "cells": [
    {
      "cell_type": "markdown",
      "source": [
        "# Import"
      ],
      "metadata": {
        "id": "O0lPv_8LykMw"
      }
    },
    {
      "cell_type": "code",
      "source": [
        "from google.colab import drive\n",
        "drive.mount('/content/drive')"
      ],
      "metadata": {
        "colab": {
          "base_uri": "https://localhost:8080/"
        },
        "id": "Mo2YHa2KsH4H",
        "outputId": "febed798-b458-4d73-b42c-5a2713067998"
      },
      "execution_count": 1,
      "outputs": [
        {
          "output_type": "stream",
          "name": "stdout",
          "text": [
            "Mounted at /content/drive\n"
          ]
        }
      ]
    },
    {
      "cell_type": "code",
      "execution_count": 2,
      "metadata": {
        "id": "bBcPmYOsyREp",
        "colab": {
          "base_uri": "https://localhost:8080/"
        },
        "outputId": "969a37e7-ffa9-4120-aa95-232660287981"
      },
      "outputs": [
        {
          "output_type": "stream",
          "name": "stdout",
          "text": [
            "Collecting shap\n",
            "  Downloading shap-0.42.0-cp310-cp310-manylinux_2_12_x86_64.manylinux2010_x86_64.manylinux_2_17_x86_64.manylinux2014_x86_64.whl (547 kB)\n",
            "\u001b[?25l     \u001b[90m━━━━━━━━━━━━━━━━━━━━━━━━━━━━━━━━━━━━━━━━\u001b[0m \u001b[32m0.0/547.1 kB\u001b[0m \u001b[31m?\u001b[0m eta \u001b[36m-:--:--\u001b[0m\r\u001b[2K     \u001b[91m━━━━━━━━━━━━━━━━━━━━━━━━━━━━━━━━━━━━━\u001b[0m\u001b[91m╸\u001b[0m \u001b[32m542.7/547.1 kB\u001b[0m \u001b[31m17.8 MB/s\u001b[0m eta \u001b[36m0:00:01\u001b[0m\r\u001b[2K     \u001b[90m━━━━━━━━━━━━━━━━━━━━━━━━━━━━━━━━━━━━━━\u001b[0m \u001b[32m547.1/547.1 kB\u001b[0m \u001b[31m12.9 MB/s\u001b[0m eta \u001b[36m0:00:00\u001b[0m\n",
            "\u001b[?25hRequirement already satisfied: numpy in /usr/local/lib/python3.10/dist-packages (from shap) (1.22.4)\n",
            "Requirement already satisfied: scipy in /usr/local/lib/python3.10/dist-packages (from shap) (1.10.1)\n",
            "Requirement already satisfied: scikit-learn in /usr/local/lib/python3.10/dist-packages (from shap) (1.2.2)\n",
            "Requirement already satisfied: pandas in /usr/local/lib/python3.10/dist-packages (from shap) (1.5.3)\n",
            "Requirement already satisfied: tqdm>=4.27.0 in /usr/local/lib/python3.10/dist-packages (from shap) (4.65.0)\n",
            "Requirement already satisfied: packaging>20.9 in /usr/local/lib/python3.10/dist-packages (from shap) (23.1)\n",
            "Collecting slicer==0.0.7 (from shap)\n",
            "  Downloading slicer-0.0.7-py3-none-any.whl (14 kB)\n",
            "Requirement already satisfied: numba in /usr/local/lib/python3.10/dist-packages (from shap) (0.56.4)\n",
            "Requirement already satisfied: cloudpickle in /usr/local/lib/python3.10/dist-packages (from shap) (2.2.1)\n",
            "Requirement already satisfied: llvmlite<0.40,>=0.39.0dev0 in /usr/local/lib/python3.10/dist-packages (from numba->shap) (0.39.1)\n",
            "Requirement already satisfied: setuptools in /usr/local/lib/python3.10/dist-packages (from numba->shap) (67.7.2)\n",
            "Requirement already satisfied: python-dateutil>=2.8.1 in /usr/local/lib/python3.10/dist-packages (from pandas->shap) (2.8.2)\n",
            "Requirement already satisfied: pytz>=2020.1 in /usr/local/lib/python3.10/dist-packages (from pandas->shap) (2022.7.1)\n",
            "Requirement already satisfied: joblib>=1.1.1 in /usr/local/lib/python3.10/dist-packages (from scikit-learn->shap) (1.2.0)\n",
            "Requirement already satisfied: threadpoolctl>=2.0.0 in /usr/local/lib/python3.10/dist-packages (from scikit-learn->shap) (3.1.0)\n",
            "Requirement already satisfied: six>=1.5 in /usr/local/lib/python3.10/dist-packages (from python-dateutil>=2.8.1->pandas->shap) (1.16.0)\n",
            "Installing collected packages: slicer, shap\n",
            "Successfully installed shap-0.42.0 slicer-0.0.7\n"
          ]
        }
      ],
      "source": [
        "!pip install shap"
      ]
    },
    {
      "cell_type": "code",
      "source": [
        "import shap\n",
        "import pandas as pd\n",
        "import tensorflow as tf\n",
        "from tensorflow import keras"
      ],
      "metadata": {
        "id": "yisYwS6Mymik",
        "colab": {
          "base_uri": "https://localhost:8080/"
        },
        "outputId": "b9804c8f-a74e-45f0-b9a0-61556a8c4353"
      },
      "execution_count": 3,
      "outputs": [
        {
          "output_type": "stream",
          "name": "stderr",
          "text": [
            "Using `tqdm.autonotebook.tqdm` in notebook mode. Use `tqdm.tqdm` instead to force console mode (e.g. in jupyter console)\n"
          ]
        }
      ]
    },
    {
      "cell_type": "markdown",
      "source": [
        "# Load trainset"
      ],
      "metadata": {
        "id": "Bz9tx1gdBGK4"
      }
    },
    {
      "cell_type": "code",
      "source": [
        "df = pd.read_csv('/content/drive/MyDrive/Dataset/insdn/binary/train.csv')\n",
        "df.info()"
      ],
      "metadata": {
        "colab": {
          "base_uri": "https://localhost:8080/"
        },
        "id": "joOnVrMbBIgT",
        "outputId": "4a696faf-d6ec-4b43-e87b-c2d1007cc0c6"
      },
      "execution_count": 4,
      "outputs": [
        {
          "output_type": "stream",
          "name": "stdout",
          "text": [
            "<class 'pandas.core.frame.DataFrame'>\n",
            "RangeIndex: 275111 entries, 0 to 275110\n",
            "Data columns (total 77 columns):\n",
            " #   Column             Non-Null Count   Dtype  \n",
            "---  ------             --------------   -----  \n",
            " 0   Flow Duration      275111 non-null  float64\n",
            " 1   Tot Fwd Pkts       275111 non-null  float64\n",
            " 2   Tot Bwd Pkts       275111 non-null  float64\n",
            " 3   TotLen Fwd Pkts    275111 non-null  float64\n",
            " 4   TotLen Bwd Pkts    275111 non-null  float64\n",
            " 5   Fwd Pkt Len Max    275111 non-null  float64\n",
            " 6   Fwd Pkt Len Min    275111 non-null  float64\n",
            " 7   Fwd Pkt Len Mean   275111 non-null  float64\n",
            " 8   Fwd Pkt Len Std    275111 non-null  float64\n",
            " 9   Bwd Pkt Len Max    275111 non-null  float64\n",
            " 10  Bwd Pkt Len Min    275111 non-null  float64\n",
            " 11  Bwd Pkt Len Mean   275111 non-null  float64\n",
            " 12  Bwd Pkt Len Std    275111 non-null  float64\n",
            " 13  Flow Byts/s        275111 non-null  float64\n",
            " 14  Flow Pkts/s        275111 non-null  float64\n",
            " 15  Flow IAT Mean      275111 non-null  float64\n",
            " 16  Flow IAT Std       275111 non-null  float64\n",
            " 17  Flow IAT Max       275111 non-null  float64\n",
            " 18  Flow IAT Min       275111 non-null  float64\n",
            " 19  Fwd IAT Tot        275111 non-null  float64\n",
            " 20  Fwd IAT Mean       275111 non-null  float64\n",
            " 21  Fwd IAT Std        275111 non-null  float64\n",
            " 22  Fwd IAT Max        275111 non-null  float64\n",
            " 23  Fwd IAT Min        275111 non-null  float64\n",
            " 24  Bwd IAT Tot        275111 non-null  float64\n",
            " 25  Bwd IAT Mean       275111 non-null  float64\n",
            " 26  Bwd IAT Std        275111 non-null  float64\n",
            " 27  Bwd IAT Max        275111 non-null  float64\n",
            " 28  Bwd IAT Min        275111 non-null  float64\n",
            " 29  Fwd PSH Flags      275111 non-null  float64\n",
            " 30  Bwd PSH Flags      275111 non-null  float64\n",
            " 31  Fwd URG Flags      275111 non-null  float64\n",
            " 32  Bwd URG Flags      275111 non-null  float64\n",
            " 33  Fwd Header Len     275111 non-null  float64\n",
            " 34  Bwd Header Len     275111 non-null  float64\n",
            " 35  Fwd Pkts/s         275111 non-null  float64\n",
            " 36  Bwd Pkts/s         275111 non-null  float64\n",
            " 37  Pkt Len Min        275111 non-null  float64\n",
            " 38  Pkt Len Max        275111 non-null  float64\n",
            " 39  Pkt Len Mean       275111 non-null  float64\n",
            " 40  Pkt Len Std        275111 non-null  float64\n",
            " 41  Pkt Len Var        275111 non-null  float64\n",
            " 42  FIN Flag Cnt       275111 non-null  float64\n",
            " 43  SYN Flag Cnt       275111 non-null  float64\n",
            " 44  RST Flag Cnt       275111 non-null  float64\n",
            " 45  PSH Flag Cnt       275111 non-null  float64\n",
            " 46  ACK Flag Cnt       275111 non-null  float64\n",
            " 47  URG Flag Cnt       275111 non-null  float64\n",
            " 48  CWE Flag Count     275111 non-null  float64\n",
            " 49  ECE Flag Cnt       275111 non-null  float64\n",
            " 50  Down/Up Ratio      275111 non-null  float64\n",
            " 51  Pkt Size Avg       275111 non-null  float64\n",
            " 52  Fwd Seg Size Avg   275111 non-null  float64\n",
            " 53  Bwd Seg Size Avg   275111 non-null  float64\n",
            " 54  Fwd Byts/b Avg     275111 non-null  float64\n",
            " 55  Fwd Pkts/b Avg     275111 non-null  float64\n",
            " 56  Fwd Blk Rate Avg   275111 non-null  float64\n",
            " 57  Bwd Byts/b Avg     275111 non-null  float64\n",
            " 58  Bwd Pkts/b Avg     275111 non-null  float64\n",
            " 59  Bwd Blk Rate Avg   275111 non-null  float64\n",
            " 60  Subflow Fwd Pkts   275111 non-null  float64\n",
            " 61  Subflow Fwd Byts   275111 non-null  float64\n",
            " 62  Subflow Bwd Pkts   275111 non-null  float64\n",
            " 63  Subflow Bwd Byts   275111 non-null  float64\n",
            " 64  Init Fwd Win Byts  275111 non-null  float64\n",
            " 65  Init Bwd Win Byts  275111 non-null  float64\n",
            " 66  Fwd Act Data Pkts  275111 non-null  float64\n",
            " 67  Fwd Seg Size Min   275111 non-null  float64\n",
            " 68  Active Mean        275111 non-null  float64\n",
            " 69  Active Std         275111 non-null  float64\n",
            " 70  Active Max         275111 non-null  float64\n",
            " 71  Active Min         275111 non-null  float64\n",
            " 72  Idle Mean          275111 non-null  float64\n",
            " 73  Idle Std           275111 non-null  float64\n",
            " 74  Idle Max           275111 non-null  float64\n",
            " 75  Idle Min           275111 non-null  float64\n",
            " 76  Label              275111 non-null  int64  \n",
            "dtypes: float64(76), int64(1)\n",
            "memory usage: 161.6 MB\n"
          ]
        }
      ]
    },
    {
      "cell_type": "code",
      "source": [
        "df = df.drop(columns=['Label'])\n",
        "df.info()"
      ],
      "metadata": {
        "colab": {
          "base_uri": "https://localhost:8080/"
        },
        "id": "mYgl1-XQBYwR",
        "outputId": "6149d8fe-6759-436f-9883-93524dc8bd51"
      },
      "execution_count": 5,
      "outputs": [
        {
          "output_type": "stream",
          "name": "stdout",
          "text": [
            "<class 'pandas.core.frame.DataFrame'>\n",
            "RangeIndex: 275111 entries, 0 to 275110\n",
            "Data columns (total 76 columns):\n",
            " #   Column             Non-Null Count   Dtype  \n",
            "---  ------             --------------   -----  \n",
            " 0   Flow Duration      275111 non-null  float64\n",
            " 1   Tot Fwd Pkts       275111 non-null  float64\n",
            " 2   Tot Bwd Pkts       275111 non-null  float64\n",
            " 3   TotLen Fwd Pkts    275111 non-null  float64\n",
            " 4   TotLen Bwd Pkts    275111 non-null  float64\n",
            " 5   Fwd Pkt Len Max    275111 non-null  float64\n",
            " 6   Fwd Pkt Len Min    275111 non-null  float64\n",
            " 7   Fwd Pkt Len Mean   275111 non-null  float64\n",
            " 8   Fwd Pkt Len Std    275111 non-null  float64\n",
            " 9   Bwd Pkt Len Max    275111 non-null  float64\n",
            " 10  Bwd Pkt Len Min    275111 non-null  float64\n",
            " 11  Bwd Pkt Len Mean   275111 non-null  float64\n",
            " 12  Bwd Pkt Len Std    275111 non-null  float64\n",
            " 13  Flow Byts/s        275111 non-null  float64\n",
            " 14  Flow Pkts/s        275111 non-null  float64\n",
            " 15  Flow IAT Mean      275111 non-null  float64\n",
            " 16  Flow IAT Std       275111 non-null  float64\n",
            " 17  Flow IAT Max       275111 non-null  float64\n",
            " 18  Flow IAT Min       275111 non-null  float64\n",
            " 19  Fwd IAT Tot        275111 non-null  float64\n",
            " 20  Fwd IAT Mean       275111 non-null  float64\n",
            " 21  Fwd IAT Std        275111 non-null  float64\n",
            " 22  Fwd IAT Max        275111 non-null  float64\n",
            " 23  Fwd IAT Min        275111 non-null  float64\n",
            " 24  Bwd IAT Tot        275111 non-null  float64\n",
            " 25  Bwd IAT Mean       275111 non-null  float64\n",
            " 26  Bwd IAT Std        275111 non-null  float64\n",
            " 27  Bwd IAT Max        275111 non-null  float64\n",
            " 28  Bwd IAT Min        275111 non-null  float64\n",
            " 29  Fwd PSH Flags      275111 non-null  float64\n",
            " 30  Bwd PSH Flags      275111 non-null  float64\n",
            " 31  Fwd URG Flags      275111 non-null  float64\n",
            " 32  Bwd URG Flags      275111 non-null  float64\n",
            " 33  Fwd Header Len     275111 non-null  float64\n",
            " 34  Bwd Header Len     275111 non-null  float64\n",
            " 35  Fwd Pkts/s         275111 non-null  float64\n",
            " 36  Bwd Pkts/s         275111 non-null  float64\n",
            " 37  Pkt Len Min        275111 non-null  float64\n",
            " 38  Pkt Len Max        275111 non-null  float64\n",
            " 39  Pkt Len Mean       275111 non-null  float64\n",
            " 40  Pkt Len Std        275111 non-null  float64\n",
            " 41  Pkt Len Var        275111 non-null  float64\n",
            " 42  FIN Flag Cnt       275111 non-null  float64\n",
            " 43  SYN Flag Cnt       275111 non-null  float64\n",
            " 44  RST Flag Cnt       275111 non-null  float64\n",
            " 45  PSH Flag Cnt       275111 non-null  float64\n",
            " 46  ACK Flag Cnt       275111 non-null  float64\n",
            " 47  URG Flag Cnt       275111 non-null  float64\n",
            " 48  CWE Flag Count     275111 non-null  float64\n",
            " 49  ECE Flag Cnt       275111 non-null  float64\n",
            " 50  Down/Up Ratio      275111 non-null  float64\n",
            " 51  Pkt Size Avg       275111 non-null  float64\n",
            " 52  Fwd Seg Size Avg   275111 non-null  float64\n",
            " 53  Bwd Seg Size Avg   275111 non-null  float64\n",
            " 54  Fwd Byts/b Avg     275111 non-null  float64\n",
            " 55  Fwd Pkts/b Avg     275111 non-null  float64\n",
            " 56  Fwd Blk Rate Avg   275111 non-null  float64\n",
            " 57  Bwd Byts/b Avg     275111 non-null  float64\n",
            " 58  Bwd Pkts/b Avg     275111 non-null  float64\n",
            " 59  Bwd Blk Rate Avg   275111 non-null  float64\n",
            " 60  Subflow Fwd Pkts   275111 non-null  float64\n",
            " 61  Subflow Fwd Byts   275111 non-null  float64\n",
            " 62  Subflow Bwd Pkts   275111 non-null  float64\n",
            " 63  Subflow Bwd Byts   275111 non-null  float64\n",
            " 64  Init Fwd Win Byts  275111 non-null  float64\n",
            " 65  Init Bwd Win Byts  275111 non-null  float64\n",
            " 66  Fwd Act Data Pkts  275111 non-null  float64\n",
            " 67  Fwd Seg Size Min   275111 non-null  float64\n",
            " 68  Active Mean        275111 non-null  float64\n",
            " 69  Active Std         275111 non-null  float64\n",
            " 70  Active Max         275111 non-null  float64\n",
            " 71  Active Min         275111 non-null  float64\n",
            " 72  Idle Mean          275111 non-null  float64\n",
            " 73  Idle Std           275111 non-null  float64\n",
            " 74  Idle Max           275111 non-null  float64\n",
            " 75  Idle Min           275111 non-null  float64\n",
            "dtypes: float64(76)\n",
            "memory usage: 159.5 MB\n"
          ]
        }
      ]
    },
    {
      "cell_type": "markdown",
      "source": [
        "# Load adv samples"
      ],
      "metadata": {
        "id": "kFirQ2Tyz28E"
      }
    },
    {
      "cell_type": "code",
      "source": [
        "feature_list = ['Flow Duration', 'Tot Fwd Pkts', 'Tot Bwd Pkts', 'TotLen Fwd Pkts',\n",
        "       'TotLen Bwd Pkts', 'Fwd Pkt Len Max', 'Fwd Pkt Len Min',\n",
        "       'Fwd Pkt Len Mean', 'Fwd Pkt Len Std', 'Bwd Pkt Len Max',\n",
        "       'Bwd Pkt Len Min', 'Bwd Pkt Len Mean', 'Bwd Pkt Len Std', 'Flow Byts/s',\n",
        "       'Flow Pkts/s', 'Flow IAT Mean', 'Flow IAT Std', 'Flow IAT Max',\n",
        "       'Flow IAT Min', 'Fwd IAT Tot', 'Fwd IAT Mean', 'Fwd IAT Std',\n",
        "       'Fwd IAT Max', 'Fwd IAT Min', 'Bwd IAT Tot', 'Bwd IAT Mean',\n",
        "       'Bwd IAT Std', 'Bwd IAT Max', 'Bwd IAT Min', 'Fwd PSH Flags',\n",
        "       'Bwd PSH Flags', 'Fwd URG Flags', 'Bwd URG Flags', 'Fwd Header Len',\n",
        "       'Bwd Header Len', 'Fwd Pkts/s', 'Bwd Pkts/s', 'Pkt Len Min',\n",
        "       'Pkt Len Max', 'Pkt Len Mean', 'Pkt Len Std', 'Pkt Len Var',\n",
        "       'FIN Flag Cnt', 'SYN Flag Cnt', 'RST Flag Cnt', 'PSH Flag Cnt',\n",
        "       'ACK Flag Cnt', 'URG Flag Cnt', 'CWE Flag Count', 'ECE Flag Cnt',\n",
        "       'Down/Up Ratio', 'Pkt Size Avg', 'Fwd Seg Size Avg', 'Bwd Seg Size Avg',\n",
        "       'Fwd Byts/b Avg', 'Fwd Pkts/b Avg', 'Fwd Blk Rate Avg',\n",
        "       'Bwd Byts/b Avg', 'Bwd Pkts/b Avg', 'Bwd Blk Rate Avg',\n",
        "       'Subflow Fwd Pkts', 'Subflow Fwd Byts', 'Subflow Bwd Pkts',\n",
        "       'Subflow Bwd Byts', 'Init Fwd Win Byts', 'Init Bwd Win Byts',\n",
        "       'Fwd Act Data Pkts', 'Fwd Seg Size Min', 'Active Mean', 'Active Std',\n",
        "       'Active Max', 'Active Min', 'Idle Mean', 'Idle Std', 'Idle Max',\n",
        "       'Idle Min']"
      ],
      "metadata": {
        "id": "uoVlCtWr1F-F"
      },
      "execution_count": 6,
      "outputs": []
    },
    {
      "cell_type": "code",
      "source": [
        "hsj_path = '/content/drive/MyDrive/Dataset/insdn/adv/24_feature/hsj/hsj_bin_feature'"
      ],
      "metadata": {
        "id": "f29J4Es-z5lJ"
      },
      "execution_count": 7,
      "outputs": []
    },
    {
      "cell_type": "code",
      "source": [
        "hsj_df = pd.read_csv(hsj_path)"
      ],
      "metadata": {
        "id": "I8txn6aG0EIJ"
      },
      "execution_count": 8,
      "outputs": []
    },
    {
      "cell_type": "code",
      "source": [
        "#hsj_df.columns = feature_list\n",
        "hsj_df.info()"
      ],
      "metadata": {
        "colab": {
          "base_uri": "https://localhost:8080/"
        },
        "id": "dcF6Wl5Y0LY2",
        "outputId": "0be199ff-dbec-4ac0-e543-705e5db929de"
      },
      "execution_count": 9,
      "outputs": [
        {
          "output_type": "stream",
          "name": "stdout",
          "text": [
            "<class 'pandas.core.frame.DataFrame'>\n",
            "RangeIndex: 55151 entries, 0 to 55150\n",
            "Data columns (total 76 columns):\n",
            " #   Column             Non-Null Count  Dtype  \n",
            "---  ------             --------------  -----  \n",
            " 0   Flow Duration      55151 non-null  float64\n",
            " 1   Tot Fwd Pkts       55151 non-null  float64\n",
            " 2   Tot Bwd Pkts       55151 non-null  float64\n",
            " 3   TotLen Fwd Pkts    55151 non-null  float64\n",
            " 4   TotLen Bwd Pkts    55151 non-null  float64\n",
            " 5   Fwd Pkt Len Max    55151 non-null  float64\n",
            " 6   Fwd Pkt Len Min    55151 non-null  float64\n",
            " 7   Fwd Pkt Len Mean   55151 non-null  float64\n",
            " 8   Fwd Pkt Len Std    55151 non-null  float64\n",
            " 9   Bwd Pkt Len Max    55151 non-null  float64\n",
            " 10  Bwd Pkt Len Min    55151 non-null  float64\n",
            " 11  Bwd Pkt Len Mean   55151 non-null  float64\n",
            " 12  Bwd Pkt Len Std    55151 non-null  float64\n",
            " 13  Flow Byts/s        55151 non-null  float64\n",
            " 14  Flow Pkts/s        55151 non-null  float64\n",
            " 15  Flow IAT Mean      55151 non-null  float64\n",
            " 16  Flow IAT Std       55151 non-null  float64\n",
            " 17  Flow IAT Max       55151 non-null  float64\n",
            " 18  Flow IAT Min       55151 non-null  float64\n",
            " 19  Fwd IAT Tot        55151 non-null  float64\n",
            " 20  Fwd IAT Mean       55151 non-null  float64\n",
            " 21  Fwd IAT Std        55151 non-null  float64\n",
            " 22  Fwd IAT Max        55151 non-null  float64\n",
            " 23  Fwd IAT Min        55151 non-null  float64\n",
            " 24  Bwd IAT Tot        55151 non-null  float64\n",
            " 25  Bwd IAT Mean       55151 non-null  float64\n",
            " 26  Bwd IAT Std        55151 non-null  float64\n",
            " 27  Bwd IAT Max        55151 non-null  float64\n",
            " 28  Bwd IAT Min        55151 non-null  float64\n",
            " 29  Fwd PSH Flags      55151 non-null  float64\n",
            " 30  Bwd PSH Flags      55151 non-null  float64\n",
            " 31  Fwd URG Flags      55151 non-null  float64\n",
            " 32  Bwd URG Flags      55151 non-null  float64\n",
            " 33  Fwd Header Len     55151 non-null  float64\n",
            " 34  Bwd Header Len     55151 non-null  float64\n",
            " 35  Fwd Pkts/s         55151 non-null  float64\n",
            " 36  Bwd Pkts/s         55151 non-null  float64\n",
            " 37  Pkt Len Min        55151 non-null  float64\n",
            " 38  Pkt Len Max        55151 non-null  float64\n",
            " 39  Pkt Len Mean       55151 non-null  float64\n",
            " 40  Pkt Len Std        55151 non-null  float64\n",
            " 41  Pkt Len Var        55151 non-null  float64\n",
            " 42  FIN Flag Cnt       55151 non-null  float64\n",
            " 43  SYN Flag Cnt       55151 non-null  float64\n",
            " 44  RST Flag Cnt       55151 non-null  float64\n",
            " 45  PSH Flag Cnt       55151 non-null  float64\n",
            " 46  ACK Flag Cnt       55151 non-null  float64\n",
            " 47  URG Flag Cnt       55151 non-null  float64\n",
            " 48  CWE Flag Count     55151 non-null  float64\n",
            " 49  ECE Flag Cnt       55151 non-null  float64\n",
            " 50  Down/Up Ratio      55151 non-null  float64\n",
            " 51  Pkt Size Avg       55151 non-null  float64\n",
            " 52  Fwd Seg Size Avg   55151 non-null  float64\n",
            " 53  Bwd Seg Size Avg   55151 non-null  float64\n",
            " 54  Fwd Byts/b Avg     55151 non-null  float64\n",
            " 55  Fwd Pkts/b Avg     55151 non-null  float64\n",
            " 56  Fwd Blk Rate Avg   55151 non-null  float64\n",
            " 57  Bwd Byts/b Avg     55151 non-null  float64\n",
            " 58  Bwd Pkts/b Avg     55151 non-null  float64\n",
            " 59  Bwd Blk Rate Avg   55151 non-null  float64\n",
            " 60  Subflow Fwd Pkts   55151 non-null  float64\n",
            " 61  Subflow Fwd Byts   55151 non-null  float64\n",
            " 62  Subflow Bwd Pkts   55151 non-null  float64\n",
            " 63  Subflow Bwd Byts   55151 non-null  float64\n",
            " 64  Init Fwd Win Byts  55151 non-null  float64\n",
            " 65  Init Bwd Win Byts  55151 non-null  float64\n",
            " 66  Fwd Act Data Pkts  55151 non-null  float64\n",
            " 67  Fwd Seg Size Min   55151 non-null  float64\n",
            " 68  Active Mean        55151 non-null  float64\n",
            " 69  Active Std         55151 non-null  float64\n",
            " 70  Active Max         55151 non-null  float64\n",
            " 71  Active Min         55151 non-null  float64\n",
            " 72  Idle Mean          55151 non-null  float64\n",
            " 73  Idle Std           55151 non-null  float64\n",
            " 74  Idle Max           55151 non-null  float64\n",
            " 75  Idle Min           55151 non-null  float64\n",
            "dtypes: float64(76)\n",
            "memory usage: 32.0 MB\n"
          ]
        }
      ]
    },
    {
      "cell_type": "markdown",
      "source": [
        "# Load DL-based IDS model"
      ],
      "metadata": {
        "id": "g33N-zPby6kB"
      }
    },
    {
      "cell_type": "code",
      "source": [
        "model_mlp = tf.keras.models.load_model('/content/drive/MyDrive/Dataset/insdn/insdn_mlp_bin.h5', compile=True)"
      ],
      "metadata": {
        "id": "ZWIDESvCy2b5"
      },
      "execution_count": 10,
      "outputs": []
    },
    {
      "cell_type": "markdown",
      "source": [
        "# SHAP"
      ],
      "metadata": {
        "id": "RFRvMWrd4QoD"
      }
    },
    {
      "cell_type": "code",
      "source": [
        "explainer = shap.KernelExplainer(model_mlp, shap.sample(df, 100, random_state = 42))"
      ],
      "metadata": {
        "id": "4505XjQu4K_g"
      },
      "execution_count": 11,
      "outputs": []
    },
    {
      "cell_type": "code",
      "source": [
        "hsj_1000 = hsj_df.head(1000)"
      ],
      "metadata": {
        "id": "biTLBwQsdMKd"
      },
      "execution_count": 12,
      "outputs": []
    },
    {
      "cell_type": "code",
      "source": [
        "shap_values = explainer.shap_values(hsj_1000)"
      ],
      "metadata": {
        "id": "2kwEY6jC4Z-l",
        "colab": {
          "base_uri": "https://localhost:8080/",
          "height": 49,
          "referenced_widgets": [
            "35352c4daa324d9682c4f8200abdb1ab",
            "6845f12b851f4b4e90159697cf35e311",
            "61203b51a7104614b77974aea652f566",
            "e445559ef88648e28ef330f4a8f33075",
            "0dc7249475e34c6eae478dd3c3b1edf1",
            "e4077feb5aa54f13a195d971205fea0b",
            "e243b462aadd4ec689e60c84ff2d62da",
            "431d110660c64f5b93be6105c448b5d2",
            "cafe5a7d10fe4d4c81f07e99a0efb33f",
            "487d8a4671544f4e8245a99d0fc8bd8a",
            "f10dadde2f3342ae815de3b1bb77a52e"
          ]
        },
        "outputId": "7612fa0c-34c1-41fb-cfe8-fb5a4457d8a4"
      },
      "execution_count": 13,
      "outputs": [
        {
          "output_type": "display_data",
          "data": {
            "text/plain": [
              "  0%|          | 0/1000 [00:00<?, ?it/s]"
            ],
            "application/vnd.jupyter.widget-view+json": {
              "version_major": 2,
              "version_minor": 0,
              "model_id": "35352c4daa324d9682c4f8200abdb1ab"
            }
          },
          "metadata": {}
        }
      ]
    },
    {
      "cell_type": "code",
      "source": [
        "print(shap_values[0])"
      ],
      "metadata": {
        "colab": {
          "base_uri": "https://localhost:8080/"
        },
        "id": "gHb6Mmvi47qA",
        "outputId": "8da1165d-0d4b-4625-dc8e-0e4fcf417b03"
      },
      "execution_count": 14,
      "outputs": [
        {
          "output_type": "stream",
          "name": "stdout",
          "text": [
            "[[ 0.01241914  0.00067478  0.00230754 ... -0.00230382  0.00363369\n",
            "   0.00222544]\n",
            " [ 0.          0.00200102 -0.00139842 ... -0.00281277  0.00416309\n",
            "   0.00723277]\n",
            " [ 0.0016717  -0.001468    0.         ... -0.00120473  0.00401349\n",
            "   0.00616336]\n",
            " ...\n",
            " [ 0.          0.00766265  0.         ...  0.          0.00963323\n",
            "   0.00912605]\n",
            " [ 0.01315727  0.00214782 -0.00225441 ...  0.          0.00320638\n",
            "   0.00330733]\n",
            " [ 0.00569689 -0.00263478 -0.00418095 ...  0.0047994   0.\n",
            "   0.        ]]\n"
          ]
        }
      ]
    },
    {
      "cell_type": "code",
      "source": [
        "len(shap_values[0])"
      ],
      "metadata": {
        "colab": {
          "base_uri": "https://localhost:8080/"
        },
        "id": "9FEigbOEYqJr",
        "outputId": "a90370bd-92df-43d2-a269-b9292bbbcb77"
      },
      "execution_count": 15,
      "outputs": [
        {
          "output_type": "execute_result",
          "data": {
            "text/plain": [
              "1000"
            ]
          },
          "metadata": {},
          "execution_count": 15
        }
      ]
    },
    {
      "cell_type": "code",
      "source": [
        "type(shap_values[0])"
      ],
      "metadata": {
        "colab": {
          "base_uri": "https://localhost:8080/"
        },
        "id": "eM8brh0aAvkW",
        "outputId": "46c7b7a5-09e4-41ab-aa7e-0ad995503f8d"
      },
      "execution_count": 16,
      "outputs": [
        {
          "output_type": "execute_result",
          "data": {
            "text/plain": [
              "numpy.ndarray"
            ]
          },
          "metadata": {},
          "execution_count": 16
        }
      ]
    },
    {
      "cell_type": "code",
      "source": [
        "data_df = pd.DataFrame(shap_values[0])"
      ],
      "metadata": {
        "id": "48h2syinBBb8"
      },
      "execution_count": 17,
      "outputs": []
    },
    {
      "cell_type": "code",
      "source": [
        "data_df.head()"
      ],
      "metadata": {
        "colab": {
          "base_uri": "https://localhost:8080/",
          "height": 299
        },
        "id": "GaPyNdSzBLa5",
        "outputId": "fad72ae4-9afa-40e7-fde5-d71db1d35c60"
      },
      "execution_count": 18,
      "outputs": [
        {
          "output_type": "execute_result",
          "data": {
            "text/plain": [
              "         0         1         2         3         4         5         6   \\\n",
              "0  0.012419  0.000675  0.002308  0.000000  0.000000  0.004645  0.001602   \n",
              "1  0.000000  0.002001 -0.001398  0.000000  0.000000 -0.005961 -0.001486   \n",
              "2  0.001672 -0.001468  0.000000  0.000930 -0.000634  0.001029  0.000000   \n",
              "3  0.000395  0.000639  0.000000  0.001228  0.000000  0.002199  0.000000   \n",
              "4 -0.037205 -0.004587  0.000000  0.000000  0.009399  0.000000  0.000000   \n",
              "\n",
              "         7         8         9   ...        66   67        68        69  \\\n",
              "0  0.004087  0.004573 -0.001706  ...  0.000000  0.0  0.000000  0.000000   \n",
              "1 -0.003461 -0.008009  0.002688  ... -0.001194  0.0  0.000000  0.001071   \n",
              "2  0.000331  0.002229  0.001307  ...  0.000000  0.0 -0.001061  0.000000   \n",
              "3  0.002428  0.001229  0.000789  ...  0.000000  0.0 -0.001513 -0.000564   \n",
              "4  0.005916  0.000000  0.016184  ... -0.006656  0.0  0.000000  0.006625   \n",
              "\n",
              "         70        71        72        73        74        75  \n",
              "0  0.000000 -0.001494  0.002422 -0.002304  0.003634  0.002225  \n",
              "1 -0.001793 -0.001264  0.005498 -0.002813  0.004163  0.007233  \n",
              "2  0.000394 -0.000916  0.001920 -0.001205  0.004013  0.006163  \n",
              "3 -0.000194  0.000000  0.002652  0.000000  0.004844  0.005502  \n",
              "4  0.000000  0.000000 -0.042873  0.000000 -0.058399 -0.055738  \n",
              "\n",
              "[5 rows x 76 columns]"
            ],
            "text/html": [
              "\n",
              "  <div id=\"df-23dd5223-c855-45ec-8bda-e5317f2abc1a\">\n",
              "    <div class=\"colab-df-container\">\n",
              "      <div>\n",
              "<style scoped>\n",
              "    .dataframe tbody tr th:only-of-type {\n",
              "        vertical-align: middle;\n",
              "    }\n",
              "\n",
              "    .dataframe tbody tr th {\n",
              "        vertical-align: top;\n",
              "    }\n",
              "\n",
              "    .dataframe thead th {\n",
              "        text-align: right;\n",
              "    }\n",
              "</style>\n",
              "<table border=\"1\" class=\"dataframe\">\n",
              "  <thead>\n",
              "    <tr style=\"text-align: right;\">\n",
              "      <th></th>\n",
              "      <th>0</th>\n",
              "      <th>1</th>\n",
              "      <th>2</th>\n",
              "      <th>3</th>\n",
              "      <th>4</th>\n",
              "      <th>5</th>\n",
              "      <th>6</th>\n",
              "      <th>7</th>\n",
              "      <th>8</th>\n",
              "      <th>9</th>\n",
              "      <th>...</th>\n",
              "      <th>66</th>\n",
              "      <th>67</th>\n",
              "      <th>68</th>\n",
              "      <th>69</th>\n",
              "      <th>70</th>\n",
              "      <th>71</th>\n",
              "      <th>72</th>\n",
              "      <th>73</th>\n",
              "      <th>74</th>\n",
              "      <th>75</th>\n",
              "    </tr>\n",
              "  </thead>\n",
              "  <tbody>\n",
              "    <tr>\n",
              "      <th>0</th>\n",
              "      <td>0.012419</td>\n",
              "      <td>0.000675</td>\n",
              "      <td>0.002308</td>\n",
              "      <td>0.000000</td>\n",
              "      <td>0.000000</td>\n",
              "      <td>0.004645</td>\n",
              "      <td>0.001602</td>\n",
              "      <td>0.004087</td>\n",
              "      <td>0.004573</td>\n",
              "      <td>-0.001706</td>\n",
              "      <td>...</td>\n",
              "      <td>0.000000</td>\n",
              "      <td>0.0</td>\n",
              "      <td>0.000000</td>\n",
              "      <td>0.000000</td>\n",
              "      <td>0.000000</td>\n",
              "      <td>-0.001494</td>\n",
              "      <td>0.002422</td>\n",
              "      <td>-0.002304</td>\n",
              "      <td>0.003634</td>\n",
              "      <td>0.002225</td>\n",
              "    </tr>\n",
              "    <tr>\n",
              "      <th>1</th>\n",
              "      <td>0.000000</td>\n",
              "      <td>0.002001</td>\n",
              "      <td>-0.001398</td>\n",
              "      <td>0.000000</td>\n",
              "      <td>0.000000</td>\n",
              "      <td>-0.005961</td>\n",
              "      <td>-0.001486</td>\n",
              "      <td>-0.003461</td>\n",
              "      <td>-0.008009</td>\n",
              "      <td>0.002688</td>\n",
              "      <td>...</td>\n",
              "      <td>-0.001194</td>\n",
              "      <td>0.0</td>\n",
              "      <td>0.000000</td>\n",
              "      <td>0.001071</td>\n",
              "      <td>-0.001793</td>\n",
              "      <td>-0.001264</td>\n",
              "      <td>0.005498</td>\n",
              "      <td>-0.002813</td>\n",
              "      <td>0.004163</td>\n",
              "      <td>0.007233</td>\n",
              "    </tr>\n",
              "    <tr>\n",
              "      <th>2</th>\n",
              "      <td>0.001672</td>\n",
              "      <td>-0.001468</td>\n",
              "      <td>0.000000</td>\n",
              "      <td>0.000930</td>\n",
              "      <td>-0.000634</td>\n",
              "      <td>0.001029</td>\n",
              "      <td>0.000000</td>\n",
              "      <td>0.000331</td>\n",
              "      <td>0.002229</td>\n",
              "      <td>0.001307</td>\n",
              "      <td>...</td>\n",
              "      <td>0.000000</td>\n",
              "      <td>0.0</td>\n",
              "      <td>-0.001061</td>\n",
              "      <td>0.000000</td>\n",
              "      <td>0.000394</td>\n",
              "      <td>-0.000916</td>\n",
              "      <td>0.001920</td>\n",
              "      <td>-0.001205</td>\n",
              "      <td>0.004013</td>\n",
              "      <td>0.006163</td>\n",
              "    </tr>\n",
              "    <tr>\n",
              "      <th>3</th>\n",
              "      <td>0.000395</td>\n",
              "      <td>0.000639</td>\n",
              "      <td>0.000000</td>\n",
              "      <td>0.001228</td>\n",
              "      <td>0.000000</td>\n",
              "      <td>0.002199</td>\n",
              "      <td>0.000000</td>\n",
              "      <td>0.002428</td>\n",
              "      <td>0.001229</td>\n",
              "      <td>0.000789</td>\n",
              "      <td>...</td>\n",
              "      <td>0.000000</td>\n",
              "      <td>0.0</td>\n",
              "      <td>-0.001513</td>\n",
              "      <td>-0.000564</td>\n",
              "      <td>-0.000194</td>\n",
              "      <td>0.000000</td>\n",
              "      <td>0.002652</td>\n",
              "      <td>0.000000</td>\n",
              "      <td>0.004844</td>\n",
              "      <td>0.005502</td>\n",
              "    </tr>\n",
              "    <tr>\n",
              "      <th>4</th>\n",
              "      <td>-0.037205</td>\n",
              "      <td>-0.004587</td>\n",
              "      <td>0.000000</td>\n",
              "      <td>0.000000</td>\n",
              "      <td>0.009399</td>\n",
              "      <td>0.000000</td>\n",
              "      <td>0.000000</td>\n",
              "      <td>0.005916</td>\n",
              "      <td>0.000000</td>\n",
              "      <td>0.016184</td>\n",
              "      <td>...</td>\n",
              "      <td>-0.006656</td>\n",
              "      <td>0.0</td>\n",
              "      <td>0.000000</td>\n",
              "      <td>0.006625</td>\n",
              "      <td>0.000000</td>\n",
              "      <td>0.000000</td>\n",
              "      <td>-0.042873</td>\n",
              "      <td>0.000000</td>\n",
              "      <td>-0.058399</td>\n",
              "      <td>-0.055738</td>\n",
              "    </tr>\n",
              "  </tbody>\n",
              "</table>\n",
              "<p>5 rows × 76 columns</p>\n",
              "</div>\n",
              "      <button class=\"colab-df-convert\" onclick=\"convertToInteractive('df-23dd5223-c855-45ec-8bda-e5317f2abc1a')\"\n",
              "              title=\"Convert this dataframe to an interactive table.\"\n",
              "              style=\"display:none;\">\n",
              "        \n",
              "  <svg xmlns=\"http://www.w3.org/2000/svg\" height=\"24px\"viewBox=\"0 0 24 24\"\n",
              "       width=\"24px\">\n",
              "    <path d=\"M0 0h24v24H0V0z\" fill=\"none\"/>\n",
              "    <path d=\"M18.56 5.44l.94 2.06.94-2.06 2.06-.94-2.06-.94-.94-2.06-.94 2.06-2.06.94zm-11 1L8.5 8.5l.94-2.06 2.06-.94-2.06-.94L8.5 2.5l-.94 2.06-2.06.94zm10 10l.94 2.06.94-2.06 2.06-.94-2.06-.94-.94-2.06-.94 2.06-2.06.94z\"/><path d=\"M17.41 7.96l-1.37-1.37c-.4-.4-.92-.59-1.43-.59-.52 0-1.04.2-1.43.59L10.3 9.45l-7.72 7.72c-.78.78-.78 2.05 0 2.83L4 21.41c.39.39.9.59 1.41.59.51 0 1.02-.2 1.41-.59l7.78-7.78 2.81-2.81c.8-.78.8-2.07 0-2.86zM5.41 20L4 18.59l7.72-7.72 1.47 1.35L5.41 20z\"/>\n",
              "  </svg>\n",
              "      </button>\n",
              "      \n",
              "  <style>\n",
              "    .colab-df-container {\n",
              "      display:flex;\n",
              "      flex-wrap:wrap;\n",
              "      gap: 12px;\n",
              "    }\n",
              "\n",
              "    .colab-df-convert {\n",
              "      background-color: #E8F0FE;\n",
              "      border: none;\n",
              "      border-radius: 50%;\n",
              "      cursor: pointer;\n",
              "      display: none;\n",
              "      fill: #1967D2;\n",
              "      height: 32px;\n",
              "      padding: 0 0 0 0;\n",
              "      width: 32px;\n",
              "    }\n",
              "\n",
              "    .colab-df-convert:hover {\n",
              "      background-color: #E2EBFA;\n",
              "      box-shadow: 0px 1px 2px rgba(60, 64, 67, 0.3), 0px 1px 3px 1px rgba(60, 64, 67, 0.15);\n",
              "      fill: #174EA6;\n",
              "    }\n",
              "\n",
              "    [theme=dark] .colab-df-convert {\n",
              "      background-color: #3B4455;\n",
              "      fill: #D2E3FC;\n",
              "    }\n",
              "\n",
              "    [theme=dark] .colab-df-convert:hover {\n",
              "      background-color: #434B5C;\n",
              "      box-shadow: 0px 1px 3px 1px rgba(0, 0, 0, 0.15);\n",
              "      filter: drop-shadow(0px 1px 2px rgba(0, 0, 0, 0.3));\n",
              "      fill: #FFFFFF;\n",
              "    }\n",
              "  </style>\n",
              "\n",
              "      <script>\n",
              "        const buttonEl =\n",
              "          document.querySelector('#df-23dd5223-c855-45ec-8bda-e5317f2abc1a button.colab-df-convert');\n",
              "        buttonEl.style.display =\n",
              "          google.colab.kernel.accessAllowed ? 'block' : 'none';\n",
              "\n",
              "        async function convertToInteractive(key) {\n",
              "          const element = document.querySelector('#df-23dd5223-c855-45ec-8bda-e5317f2abc1a');\n",
              "          const dataTable =\n",
              "            await google.colab.kernel.invokeFunction('convertToInteractive',\n",
              "                                                     [key], {});\n",
              "          if (!dataTable) return;\n",
              "\n",
              "          const docLinkHtml = 'Like what you see? Visit the ' +\n",
              "            '<a target=\"_blank\" href=https://colab.research.google.com/notebooks/data_table.ipynb>data table notebook</a>'\n",
              "            + ' to learn more about interactive tables.';\n",
              "          element.innerHTML = '';\n",
              "          dataTable['output_type'] = 'display_data';\n",
              "          await google.colab.output.renderOutput(dataTable, element);\n",
              "          const docLink = document.createElement('div');\n",
              "          docLink.innerHTML = docLinkHtml;\n",
              "          element.appendChild(docLink);\n",
              "        }\n",
              "      </script>\n",
              "    </div>\n",
              "  </div>\n",
              "  "
            ]
          },
          "metadata": {},
          "execution_count": 18
        }
      ]
    },
    {
      "cell_type": "code",
      "source": [
        "data_df.to_csv('/content/drive/MyDrive/DACN_XAI_Adv_defense/InSDN/MLP_HSJ/1000_samples_[0]_bin.csv', index=False)"
      ],
      "metadata": {
        "id": "mbDTuofCBeGJ"
      },
      "execution_count": null,
      "outputs": []
    },
    {
      "cell_type": "code",
      "source": [
        "data_df.columns = feature_list\n",
        "data_df.head()"
      ],
      "metadata": {
        "colab": {
          "base_uri": "https://localhost:8080/",
          "height": 351
        },
        "id": "Kh8NM9hmM99Y",
        "outputId": "29a89a0e-af3f-406e-e400-bc36a91cde74"
      },
      "execution_count": 19,
      "outputs": [
        {
          "output_type": "execute_result",
          "data": {
            "text/plain": [
              "   Flow Duration  Tot Fwd Pkts  Tot Bwd Pkts  TotLen Fwd Pkts  \\\n",
              "0       0.012419      0.000675      0.002308         0.000000   \n",
              "1       0.000000      0.002001     -0.001398         0.000000   \n",
              "2       0.001672     -0.001468      0.000000         0.000930   \n",
              "3       0.000395      0.000639      0.000000         0.001228   \n",
              "4      -0.037205     -0.004587      0.000000         0.000000   \n",
              "\n",
              "   TotLen Bwd Pkts  Fwd Pkt Len Max  Fwd Pkt Len Min  Fwd Pkt Len Mean  \\\n",
              "0         0.000000         0.004645         0.001602          0.004087   \n",
              "1         0.000000        -0.005961        -0.001486         -0.003461   \n",
              "2        -0.000634         0.001029         0.000000          0.000331   \n",
              "3         0.000000         0.002199         0.000000          0.002428   \n",
              "4         0.009399         0.000000         0.000000          0.005916   \n",
              "\n",
              "   Fwd Pkt Len Std  Bwd Pkt Len Max  ...  Fwd Act Data Pkts  Fwd Seg Size Min  \\\n",
              "0         0.004573        -0.001706  ...           0.000000               0.0   \n",
              "1        -0.008009         0.002688  ...          -0.001194               0.0   \n",
              "2         0.002229         0.001307  ...           0.000000               0.0   \n",
              "3         0.001229         0.000789  ...           0.000000               0.0   \n",
              "4         0.000000         0.016184  ...          -0.006656               0.0   \n",
              "\n",
              "   Active Mean  Active Std  Active Max  Active Min  Idle Mean  Idle Std  \\\n",
              "0     0.000000    0.000000    0.000000   -0.001494   0.002422 -0.002304   \n",
              "1     0.000000    0.001071   -0.001793   -0.001264   0.005498 -0.002813   \n",
              "2    -0.001061    0.000000    0.000394   -0.000916   0.001920 -0.001205   \n",
              "3    -0.001513   -0.000564   -0.000194    0.000000   0.002652  0.000000   \n",
              "4     0.000000    0.006625    0.000000    0.000000  -0.042873  0.000000   \n",
              "\n",
              "   Idle Max  Idle Min  \n",
              "0  0.003634  0.002225  \n",
              "1  0.004163  0.007233  \n",
              "2  0.004013  0.006163  \n",
              "3  0.004844  0.005502  \n",
              "4 -0.058399 -0.055738  \n",
              "\n",
              "[5 rows x 76 columns]"
            ],
            "text/html": [
              "\n",
              "  <div id=\"df-0f41be58-467f-40e2-9c3b-7f3dd01dce28\">\n",
              "    <div class=\"colab-df-container\">\n",
              "      <div>\n",
              "<style scoped>\n",
              "    .dataframe tbody tr th:only-of-type {\n",
              "        vertical-align: middle;\n",
              "    }\n",
              "\n",
              "    .dataframe tbody tr th {\n",
              "        vertical-align: top;\n",
              "    }\n",
              "\n",
              "    .dataframe thead th {\n",
              "        text-align: right;\n",
              "    }\n",
              "</style>\n",
              "<table border=\"1\" class=\"dataframe\">\n",
              "  <thead>\n",
              "    <tr style=\"text-align: right;\">\n",
              "      <th></th>\n",
              "      <th>Flow Duration</th>\n",
              "      <th>Tot Fwd Pkts</th>\n",
              "      <th>Tot Bwd Pkts</th>\n",
              "      <th>TotLen Fwd Pkts</th>\n",
              "      <th>TotLen Bwd Pkts</th>\n",
              "      <th>Fwd Pkt Len Max</th>\n",
              "      <th>Fwd Pkt Len Min</th>\n",
              "      <th>Fwd Pkt Len Mean</th>\n",
              "      <th>Fwd Pkt Len Std</th>\n",
              "      <th>Bwd Pkt Len Max</th>\n",
              "      <th>...</th>\n",
              "      <th>Fwd Act Data Pkts</th>\n",
              "      <th>Fwd Seg Size Min</th>\n",
              "      <th>Active Mean</th>\n",
              "      <th>Active Std</th>\n",
              "      <th>Active Max</th>\n",
              "      <th>Active Min</th>\n",
              "      <th>Idle Mean</th>\n",
              "      <th>Idle Std</th>\n",
              "      <th>Idle Max</th>\n",
              "      <th>Idle Min</th>\n",
              "    </tr>\n",
              "  </thead>\n",
              "  <tbody>\n",
              "    <tr>\n",
              "      <th>0</th>\n",
              "      <td>0.012419</td>\n",
              "      <td>0.000675</td>\n",
              "      <td>0.002308</td>\n",
              "      <td>0.000000</td>\n",
              "      <td>0.000000</td>\n",
              "      <td>0.004645</td>\n",
              "      <td>0.001602</td>\n",
              "      <td>0.004087</td>\n",
              "      <td>0.004573</td>\n",
              "      <td>-0.001706</td>\n",
              "      <td>...</td>\n",
              "      <td>0.000000</td>\n",
              "      <td>0.0</td>\n",
              "      <td>0.000000</td>\n",
              "      <td>0.000000</td>\n",
              "      <td>0.000000</td>\n",
              "      <td>-0.001494</td>\n",
              "      <td>0.002422</td>\n",
              "      <td>-0.002304</td>\n",
              "      <td>0.003634</td>\n",
              "      <td>0.002225</td>\n",
              "    </tr>\n",
              "    <tr>\n",
              "      <th>1</th>\n",
              "      <td>0.000000</td>\n",
              "      <td>0.002001</td>\n",
              "      <td>-0.001398</td>\n",
              "      <td>0.000000</td>\n",
              "      <td>0.000000</td>\n",
              "      <td>-0.005961</td>\n",
              "      <td>-0.001486</td>\n",
              "      <td>-0.003461</td>\n",
              "      <td>-0.008009</td>\n",
              "      <td>0.002688</td>\n",
              "      <td>...</td>\n",
              "      <td>-0.001194</td>\n",
              "      <td>0.0</td>\n",
              "      <td>0.000000</td>\n",
              "      <td>0.001071</td>\n",
              "      <td>-0.001793</td>\n",
              "      <td>-0.001264</td>\n",
              "      <td>0.005498</td>\n",
              "      <td>-0.002813</td>\n",
              "      <td>0.004163</td>\n",
              "      <td>0.007233</td>\n",
              "    </tr>\n",
              "    <tr>\n",
              "      <th>2</th>\n",
              "      <td>0.001672</td>\n",
              "      <td>-0.001468</td>\n",
              "      <td>0.000000</td>\n",
              "      <td>0.000930</td>\n",
              "      <td>-0.000634</td>\n",
              "      <td>0.001029</td>\n",
              "      <td>0.000000</td>\n",
              "      <td>0.000331</td>\n",
              "      <td>0.002229</td>\n",
              "      <td>0.001307</td>\n",
              "      <td>...</td>\n",
              "      <td>0.000000</td>\n",
              "      <td>0.0</td>\n",
              "      <td>-0.001061</td>\n",
              "      <td>0.000000</td>\n",
              "      <td>0.000394</td>\n",
              "      <td>-0.000916</td>\n",
              "      <td>0.001920</td>\n",
              "      <td>-0.001205</td>\n",
              "      <td>0.004013</td>\n",
              "      <td>0.006163</td>\n",
              "    </tr>\n",
              "    <tr>\n",
              "      <th>3</th>\n",
              "      <td>0.000395</td>\n",
              "      <td>0.000639</td>\n",
              "      <td>0.000000</td>\n",
              "      <td>0.001228</td>\n",
              "      <td>0.000000</td>\n",
              "      <td>0.002199</td>\n",
              "      <td>0.000000</td>\n",
              "      <td>0.002428</td>\n",
              "      <td>0.001229</td>\n",
              "      <td>0.000789</td>\n",
              "      <td>...</td>\n",
              "      <td>0.000000</td>\n",
              "      <td>0.0</td>\n",
              "      <td>-0.001513</td>\n",
              "      <td>-0.000564</td>\n",
              "      <td>-0.000194</td>\n",
              "      <td>0.000000</td>\n",
              "      <td>0.002652</td>\n",
              "      <td>0.000000</td>\n",
              "      <td>0.004844</td>\n",
              "      <td>0.005502</td>\n",
              "    </tr>\n",
              "    <tr>\n",
              "      <th>4</th>\n",
              "      <td>-0.037205</td>\n",
              "      <td>-0.004587</td>\n",
              "      <td>0.000000</td>\n",
              "      <td>0.000000</td>\n",
              "      <td>0.009399</td>\n",
              "      <td>0.000000</td>\n",
              "      <td>0.000000</td>\n",
              "      <td>0.005916</td>\n",
              "      <td>0.000000</td>\n",
              "      <td>0.016184</td>\n",
              "      <td>...</td>\n",
              "      <td>-0.006656</td>\n",
              "      <td>0.0</td>\n",
              "      <td>0.000000</td>\n",
              "      <td>0.006625</td>\n",
              "      <td>0.000000</td>\n",
              "      <td>0.000000</td>\n",
              "      <td>-0.042873</td>\n",
              "      <td>0.000000</td>\n",
              "      <td>-0.058399</td>\n",
              "      <td>-0.055738</td>\n",
              "    </tr>\n",
              "  </tbody>\n",
              "</table>\n",
              "<p>5 rows × 76 columns</p>\n",
              "</div>\n",
              "      <button class=\"colab-df-convert\" onclick=\"convertToInteractive('df-0f41be58-467f-40e2-9c3b-7f3dd01dce28')\"\n",
              "              title=\"Convert this dataframe to an interactive table.\"\n",
              "              style=\"display:none;\">\n",
              "        \n",
              "  <svg xmlns=\"http://www.w3.org/2000/svg\" height=\"24px\"viewBox=\"0 0 24 24\"\n",
              "       width=\"24px\">\n",
              "    <path d=\"M0 0h24v24H0V0z\" fill=\"none\"/>\n",
              "    <path d=\"M18.56 5.44l.94 2.06.94-2.06 2.06-.94-2.06-.94-.94-2.06-.94 2.06-2.06.94zm-11 1L8.5 8.5l.94-2.06 2.06-.94-2.06-.94L8.5 2.5l-.94 2.06-2.06.94zm10 10l.94 2.06.94-2.06 2.06-.94-2.06-.94-.94-2.06-.94 2.06-2.06.94z\"/><path d=\"M17.41 7.96l-1.37-1.37c-.4-.4-.92-.59-1.43-.59-.52 0-1.04.2-1.43.59L10.3 9.45l-7.72 7.72c-.78.78-.78 2.05 0 2.83L4 21.41c.39.39.9.59 1.41.59.51 0 1.02-.2 1.41-.59l7.78-7.78 2.81-2.81c.8-.78.8-2.07 0-2.86zM5.41 20L4 18.59l7.72-7.72 1.47 1.35L5.41 20z\"/>\n",
              "  </svg>\n",
              "      </button>\n",
              "      \n",
              "  <style>\n",
              "    .colab-df-container {\n",
              "      display:flex;\n",
              "      flex-wrap:wrap;\n",
              "      gap: 12px;\n",
              "    }\n",
              "\n",
              "    .colab-df-convert {\n",
              "      background-color: #E8F0FE;\n",
              "      border: none;\n",
              "      border-radius: 50%;\n",
              "      cursor: pointer;\n",
              "      display: none;\n",
              "      fill: #1967D2;\n",
              "      height: 32px;\n",
              "      padding: 0 0 0 0;\n",
              "      width: 32px;\n",
              "    }\n",
              "\n",
              "    .colab-df-convert:hover {\n",
              "      background-color: #E2EBFA;\n",
              "      box-shadow: 0px 1px 2px rgba(60, 64, 67, 0.3), 0px 1px 3px 1px rgba(60, 64, 67, 0.15);\n",
              "      fill: #174EA6;\n",
              "    }\n",
              "\n",
              "    [theme=dark] .colab-df-convert {\n",
              "      background-color: #3B4455;\n",
              "      fill: #D2E3FC;\n",
              "    }\n",
              "\n",
              "    [theme=dark] .colab-df-convert:hover {\n",
              "      background-color: #434B5C;\n",
              "      box-shadow: 0px 1px 3px 1px rgba(0, 0, 0, 0.15);\n",
              "      filter: drop-shadow(0px 1px 2px rgba(0, 0, 0, 0.3));\n",
              "      fill: #FFFFFF;\n",
              "    }\n",
              "  </style>\n",
              "\n",
              "      <script>\n",
              "        const buttonEl =\n",
              "          document.querySelector('#df-0f41be58-467f-40e2-9c3b-7f3dd01dce28 button.colab-df-convert');\n",
              "        buttonEl.style.display =\n",
              "          google.colab.kernel.accessAllowed ? 'block' : 'none';\n",
              "\n",
              "        async function convertToInteractive(key) {\n",
              "          const element = document.querySelector('#df-0f41be58-467f-40e2-9c3b-7f3dd01dce28');\n",
              "          const dataTable =\n",
              "            await google.colab.kernel.invokeFunction('convertToInteractive',\n",
              "                                                     [key], {});\n",
              "          if (!dataTable) return;\n",
              "\n",
              "          const docLinkHtml = 'Like what you see? Visit the ' +\n",
              "            '<a target=\"_blank\" href=https://colab.research.google.com/notebooks/data_table.ipynb>data table notebook</a>'\n",
              "            + ' to learn more about interactive tables.';\n",
              "          element.innerHTML = '';\n",
              "          dataTable['output_type'] = 'display_data';\n",
              "          await google.colab.output.renderOutput(dataTable, element);\n",
              "          const docLink = document.createElement('div');\n",
              "          docLink.innerHTML = docLinkHtml;\n",
              "          element.appendChild(docLink);\n",
              "        }\n",
              "      </script>\n",
              "    </div>\n",
              "  </div>\n",
              "  "
            ]
          },
          "metadata": {},
          "execution_count": 19
        }
      ]
    },
    {
      "cell_type": "code",
      "source": [
        "data_dict = {}\n",
        "for idx in range(0, 1000):\n",
        "  # Select the desired row and get the top 10 values's column names\n",
        "  row_values = data_df.iloc[idx].nlargest(10).index.tolist()\n",
        "\n",
        "  # Create a dictionary and add the list with filename as the key\n",
        "  data_dict['Adv sample ' + str(idx)] = row_values"
      ],
      "metadata": {
        "id": "y9KCFvHdP5UO"
      },
      "execution_count": 20,
      "outputs": []
    },
    {
      "cell_type": "code",
      "source": [
        "print(data_dict)"
      ],
      "metadata": {
        "colab": {
          "base_uri": "https://localhost:8080/"
        },
        "id": "SAhM-kXtRLoW",
        "outputId": "035370cd-b336-4c75-cff6-8c4c808f8774"
      },
      "execution_count": 21,
      "outputs": [
        {
          "output_type": "stream",
          "name": "stdout",
          "text": [
            "{'Adv sample 0': ['Init Bwd Win Byts', 'Down/Up Ratio', 'Pkt Len Min', 'Flow Duration', 'Fwd IAT Max', 'Flow IAT Std', 'Pkt Len Max', 'Pkt Len Std', 'Flow IAT Max', 'Pkt Size Avg'], 'Adv sample 1': ['SYN Flag Cnt', 'Init Bwd Win Byts', 'Idle Min', 'Idle Mean', 'Idle Max', 'Flow Pkts/s', 'Bwd Pkt Len Std', 'Pkt Len Min', 'Fwd IAT Max', 'Bwd Pkt Len Max'], 'Adv sample 2': ['Init Bwd Win Byts', 'SYN Flag Cnt', 'Pkt Len Min', 'Idle Min', 'Flow IAT Max', 'Idle Max', 'Bwd Pkt Len Min', 'Pkt Size Avg', 'Pkt Len Std', 'Pkt Len Max'], 'Adv sample 3': ['Init Bwd Win Byts', 'SYN Flag Cnt', 'Pkt Len Min', 'Idle Min', 'Idle Max', 'Pkt Len Max', 'Flow IAT Max', 'Bwd Pkt Len Min', 'Fwd IAT Max', 'Idle Mean'], 'Adv sample 4': ['ACK Flag Cnt', 'Bwd IAT Std', 'Init Bwd Win Byts', 'Bwd IAT Tot', 'Bwd IAT Max', 'Bwd Pkt Len Max', 'Flow IAT Mean', 'TotLen Bwd Pkts', 'Pkt Len Var', 'Pkt Len Min'], 'Adv sample 5': ['Bwd Pkts/s', 'Init Bwd Win Byts', 'Down/Up Ratio', 'Pkt Len Min', 'Flow Duration', 'Fwd IAT Max', 'Pkt Len Max', 'Fwd Pkt Len Max', 'Flow IAT Max', 'Pkt Len Std'], 'Adv sample 6': ['Init Bwd Win Byts', 'Pkt Len Mean', 'Pkt Size Avg', 'Pkt Len Std', 'Pkt Len Max', 'Down/Up Ratio', 'Fwd Pkt Len Max', 'Pkt Len Min', 'Fwd Pkt Len Mean', 'Fwd Pkt Len Std'], 'Adv sample 7': ['Init Bwd Win Byts', 'Down/Up Ratio', 'Pkt Len Min', 'Flow Duration', 'Pkt Len Max', 'Fwd IAT Max', 'Fwd IAT Std', 'Pkt Len Std', 'Flow IAT Max', 'Pkt Size Avg'], 'Adv sample 8': ['Init Bwd Win Byts', 'Flow Pkts/s', 'FIN Flag Cnt', 'Bwd Pkts/s', 'Down/Up Ratio', 'Pkt Size Avg', 'Pkt Len Max', 'Pkt Len Min', 'Pkt Len Std', 'Pkt Len Mean'], 'Adv sample 9': ['Init Bwd Win Byts', 'SYN Flag Cnt', 'FIN Flag Cnt', 'Pkt Len Min', 'Flow IAT Max', 'ACK Flag Cnt', 'Flow Duration', 'Fwd IAT Max', 'Down/Up Ratio', 'Bwd Pkt Len Min'], 'Adv sample 10': ['ACK Flag Cnt', 'Bwd IAT Std', 'Init Bwd Win Byts', 'Bwd IAT Tot', 'Bwd IAT Max', 'Fwd Pkts/s', 'Fwd Seg Size Avg', 'Flow IAT Mean', 'Fwd Pkt Len Max', 'Bwd IAT Mean'], 'Adv sample 11': ['Init Bwd Win Byts', 'Down/Up Ratio', 'Pkt Len Min', 'Pkt Len Std', 'Flow IAT Max', 'Fwd IAT Max', 'Pkt Len Max', 'Fwd IAT Tot', 'Fwd Pkt Len Mean', 'Fwd Seg Size Avg'], 'Adv sample 12': ['ACK Flag Cnt', 'Bwd IAT Std', 'Init Bwd Win Byts', 'Bwd IAT Max', 'Bwd IAT Tot', 'Flow IAT Mean', 'Fwd IAT Std', 'Fwd IAT Mean', 'PSH Flag Cnt', 'Pkt Len Mean'], 'Adv sample 13': ['Init Bwd Win Byts', 'Down/Up Ratio', 'Pkt Len Min', 'Flow Duration', 'Fwd IAT Max', 'Pkt Len Std', 'Bwd Pkts/s', 'Flow IAT Max', 'Flow Pkts/s', 'Pkt Len Max'], 'Adv sample 14': ['Init Bwd Win Byts', 'SYN Flag Cnt', 'Pkt Len Min', 'Idle Min', 'Flow IAT Max', 'Idle Max', 'Fwd IAT Max', 'Pkt Len Mean', 'Down/Up Ratio', 'Pkt Len Max'], 'Adv sample 15': ['Init Bwd Win Byts', 'Bwd Pkts/s', 'Down/Up Ratio', 'Pkt Len Min', 'Flow Duration', 'FIN Flag Cnt', 'Pkt Len Mean', 'Pkt Len Max', 'Idle Mean', 'Idle Min'], 'Adv sample 16': ['Init Bwd Win Byts', 'Down/Up Ratio', 'Pkt Len Min', 'Flow Duration', 'Pkt Len Max', 'Fwd IAT Max', 'Flow IAT Max', 'Fwd Pkt Len Max', 'Flow IAT Std', 'Pkt Size Avg'], 'Adv sample 17': ['SYN Flag Cnt', 'Init Bwd Win Byts', 'PSH Flag Cnt', 'Idle Min', 'Active Std', 'Bwd Pkt Len Max', 'Bwd Pkt Len Std', 'Idle Max', 'Idle Mean', 'Fwd IAT Max'], 'Adv sample 18': ['Flow Pkts/s', 'Init Bwd Win Byts', 'FIN Flag Cnt', 'Down/Up Ratio', 'Bwd Pkts/s', 'Pkt Len Min', 'Bwd Pkt Len Min', 'Pkt Len Max', 'Pkt Size Avg', 'Subflow Fwd Pkts'], 'Adv sample 19': ['Init Bwd Win Byts', 'Pkt Len Mean', 'Pkt Len Std', 'Pkt Len Max', 'Pkt Size Avg', 'Fwd Pkt Len Std', 'Flow Pkts/s', 'Fwd Pkt Len Mean', 'Fwd Pkt Len Max', 'Pkt Len Min'], 'Adv sample 20': ['Bwd Pkts/s', 'Init Bwd Win Byts', 'Down/Up Ratio', 'Pkt Len Min', 'Flow Duration', 'Fwd IAT Max', 'Pkt Len Max', 'Flow IAT Max', 'Fwd IAT Std', 'Fwd Seg Size Avg'], 'Adv sample 21': ['SYN Flag Cnt', 'Init Bwd Win Byts', 'Idle Min', 'Bwd Pkt Len Min', 'ACK Flag Cnt', 'Flow IAT Max', 'Idle Mean', 'Idle Max', 'Bwd Pkt Len Max', 'Bwd Header Len'], 'Adv sample 22': ['Bwd Pkts/s', 'Init Bwd Win Byts', 'Down/Up Ratio', 'Pkt Len Min', 'Flow Duration', 'Fwd IAT Max', 'Bwd Pkt Len Min', 'Subflow Bwd Pkts', 'TotLen Fwd Pkts', 'Pkt Len Max'], 'Adv sample 23': ['Init Bwd Win Byts', 'Down/Up Ratio', 'Pkt Len Min', 'Flow Duration', 'Flow IAT Std', 'Fwd IAT Std', 'Fwd IAT Max', 'Flow IAT Max', 'Pkt Len Mean', 'Pkt Len Max'], 'Adv sample 24': ['FIN Flag Cnt', 'Flow Pkts/s', 'Init Bwd Win Byts', 'Down/Up Ratio', 'Bwd Pkt Len Mean', 'Fwd IAT Tot', 'Bwd PSH Flags', 'Pkt Len Min', 'Pkt Size Avg', 'Fwd IAT Max'], 'Adv sample 25': ['Init Bwd Win Byts', 'SYN Flag Cnt', 'FIN Flag Cnt', 'Pkt Len Min', 'Fwd IAT Max', 'Flow IAT Max', 'Idle Min', 'ACK Flag Cnt', 'Down/Up Ratio', 'Flow Duration'], 'Adv sample 26': ['Init Bwd Win Byts', 'Down/Up Ratio', 'Pkt Len Min', 'Flow Duration', 'Fwd IAT Max', 'Flow IAT Std', 'Pkt Len Max', 'Flow IAT Max', 'Pkt Len Std', 'Pkt Len Mean'], 'Adv sample 27': ['Bwd Pkts/s', 'Init Bwd Win Byts', 'Down/Up Ratio', 'Pkt Len Min', 'Pkt Len Std', 'Fwd IAT Max', 'Bwd Pkt Len Min', 'Pkt Len Max', 'Fwd Seg Size Avg', 'TotLen Fwd Pkts'], 'Adv sample 28': ['Init Bwd Win Byts', 'URG Flag Cnt', 'FIN Flag Cnt', 'Down/Up Ratio', 'Bwd URG Flags', 'Bwd PSH Flags', 'Flow IAT Std', 'Pkt Len Mean', 'Pkt Len Min', 'Idle Mean'], 'Adv sample 29': ['Bwd Pkts/s', 'Init Bwd Win Byts', 'Down/Up Ratio', 'Pkt Len Min', 'Flow Duration', 'Fwd IAT Max', 'Active Std', 'Flow IAT Mean', 'Flow IAT Max', 'Bwd Pkt Len Std'], 'Adv sample 30': ['Bwd PSH Flags', 'Init Bwd Win Byts', 'Down/Up Ratio', 'Pkt Len Max', 'ACK Flag Cnt', 'Pkt Len Std', 'Pkt Len Mean', 'Pkt Size Avg', 'Fwd IAT Tot', 'Fwd Pkt Len Max'], 'Adv sample 31': ['Init Bwd Win Byts', 'Down/Up Ratio', 'Pkt Len Min', 'Flow Duration', 'Flow IAT Max', 'Flow IAT Std', 'Fwd IAT Max', 'Pkt Len Max', 'Pkt Len Std', 'Pkt Len Mean'], 'Adv sample 32': ['Init Bwd Win Byts', 'SYN Flag Cnt', 'Pkt Len Min', 'Idle Min', 'Idle Max', 'Pkt Len Max', 'Idle Mean', 'Flow IAT Max', 'Fwd IAT Max', 'Fwd Pkt Len Mean'], 'Adv sample 33': ['Init Bwd Win Byts', 'Down/Up Ratio', 'Pkt Len Min', 'Flow Duration', 'Flow IAT Max', 'Flow IAT Std', 'Fwd IAT Max', 'Pkt Len Max', 'Pkt Len Mean', 'Flow Pkts/s'], 'Adv sample 34': ['Init Bwd Win Byts', 'Down/Up Ratio', 'Pkt Len Min', 'Flow Duration', 'Fwd IAT Max', 'Flow IAT Max', 'Pkt Len Max', 'Pkt Len Std', 'Pkt Len Mean', 'Flow IAT Std'], 'Adv sample 35': ['SYN Flag Cnt', 'Init Bwd Win Byts', 'Bwd Pkt Len Std', 'Idle Max', 'Tot Bwd Pkts', 'Idle Min', 'Bwd Pkt Len Max', 'Flow Duration', 'Tot Fwd Pkts', 'TotLen Bwd Pkts'], 'Adv sample 36': ['Bwd Pkts/s', 'Init Bwd Win Byts', 'Down/Up Ratio', 'Pkt Len Min', 'Flow Duration', 'Fwd IAT Max', 'Pkt Size Avg', 'Flow IAT Std', 'Fwd Pkt Len Std', 'Pkt Len Max'], 'Adv sample 37': ['Init Bwd Win Byts', 'Down/Up Ratio', 'Pkt Len Min', 'Flow Duration', 'Fwd IAT Max', 'Pkt Len Std', 'Flow IAT Std', 'Pkt Len Max', 'Flow IAT Max', 'Fwd IAT Std'], 'Adv sample 38': ['Flow Pkts/s', 'Init Bwd Win Byts', 'FIN Flag Cnt', 'Bwd Pkts/s', 'Down/Up Ratio', 'Pkt Len Std', 'Pkt Len Mean', 'Fwd Pkt Len Std', 'Pkt Len Max', 'Pkt Len Min'], 'Adv sample 39': ['Init Bwd Win Byts', 'Down/Up Ratio', 'Pkt Len Min', 'Flow Duration', 'Flow IAT Std', 'Pkt Len Max', 'Fwd IAT Max', 'Flow IAT Max', 'Pkt Len Std', 'Fwd IAT Std'], 'Adv sample 40': ['Init Bwd Win Byts', 'Down/Up Ratio', 'Pkt Len Min', 'Flow Duration', 'Fwd IAT Max', 'Flow IAT Std', 'Flow IAT Max', 'Pkt Len Std', 'Pkt Len Max', 'Pkt Size Avg'], 'Adv sample 41': ['Init Bwd Win Byts', 'Down/Up Ratio', 'Pkt Len Min', 'Flow Duration', 'Flow IAT Max', 'Fwd IAT Max', 'Pkt Size Avg', 'PSH Flag Cnt', 'Flow IAT Std', 'Pkt Len Max'], 'Adv sample 42': ['Bwd PSH Flags', 'Init Bwd Win Byts', 'Down/Up Ratio', 'Pkt Len Max', 'ACK Flag Cnt', 'Pkt Size Avg', 'Pkt Len Mean', 'Pkt Len Std', 'Pkt Len Min', 'Fwd Pkt Len Max'], 'Adv sample 43': ['SYN Flag Cnt', 'Init Bwd Win Byts', 'Bwd IAT Max', 'Idle Std', 'Bwd IAT Std', 'Flow IAT Mean', 'Bwd IAT Tot', 'Active Max', 'Fwd Seg Size Avg', 'Flow IAT Max'], 'Adv sample 44': ['Bwd Pkts/s', 'Init Bwd Win Byts', 'Down/Up Ratio', 'Pkt Len Min', 'Flow Duration', 'Fwd IAT Max', 'Flow IAT Max', 'Fwd Pkt Len Mean', 'Idle Min', 'Pkt Len Mean'], 'Adv sample 45': ['Init Bwd Win Byts', 'Down/Up Ratio', 'Pkt Len Min', 'Flow Duration', 'Fwd IAT Max', 'Flow IAT Std', 'Pkt Len Max', 'Pkt Len Mean', 'Flow IAT Max', 'Pkt Size Avg'], 'Adv sample 46': ['Init Bwd Win Byts', 'Down/Up Ratio', 'Pkt Len Min', 'Flow Duration', 'Fwd IAT Max', 'Flow IAT Max', 'Flow IAT Std', 'Pkt Len Max', 'Pkt Len Mean', 'Pkt Len Std'], 'Adv sample 47': ['Init Bwd Win Byts', 'Down/Up Ratio', 'Pkt Len Min', 'Flow Duration', 'Fwd IAT Max', 'Flow IAT Max', 'Pkt Len Max', 'Flow IAT Std', 'Fwd Pkt Len Max', 'Fwd IAT Tot'], 'Adv sample 48': ['SYN Flag Cnt', 'Init Bwd Win Byts', 'ACK Flag Cnt', 'Idle Max', 'Idle Mean', 'Fwd IAT Mean', 'Fwd IAT Max', 'Bwd Pkt Len Mean', 'TotLen Fwd Pkts', 'Tot Bwd Pkts'], 'Adv sample 49': ['Init Bwd Win Byts', 'Down/Up Ratio', 'Pkt Len Min', 'Pkt Len Max', 'Flow Duration', 'Fwd IAT Max', 'Flow IAT Max', 'Pkt Len Std', 'Fwd Pkt Len Mean', 'Fwd Pkt Len Std'], 'Adv sample 50': ['Init Bwd Win Byts', 'Pkt Len Mean', 'Pkt Len Max', 'Pkt Len Std', 'Pkt Size Avg', 'Down/Up Ratio', 'Pkt Len Min', 'Fwd Pkt Len Max', 'Flow Pkts/s', 'Fwd Seg Size Avg'], 'Adv sample 51': ['ACK Flag Cnt', 'Bwd IAT Std', 'Init Bwd Win Byts', 'Bwd IAT Tot', 'Bwd IAT Max', 'Flow IAT Mean', 'Fwd IAT Std', 'Pkt Len Mean', 'Pkt Len Max', 'Pkt Len Std'], 'Adv sample 52': ['Bwd Pkts/s', 'Init Bwd Win Byts', 'Down/Up Ratio', 'Pkt Len Min', 'Bwd Pkt Len Min', 'Fwd IAT Max', 'Idle Mean', 'FIN Flag Cnt', 'Flow Duration', 'Fwd IAT Tot'], 'Adv sample 53': ['SYN Flag Cnt', 'Init Bwd Win Byts', 'Idle Min', 'Bwd Pkt Len Std', 'Idle Max', 'Fwd IAT Min', 'Tot Fwd Pkts', 'Tot Bwd Pkts', 'TotLen Fwd Pkts', 'TotLen Bwd Pkts'], 'Adv sample 54': ['ACK Flag Cnt', 'Bwd IAT Std', 'Init Bwd Win Byts', 'Bwd IAT Max', 'Bwd IAT Tot', 'Flow IAT Mean', 'Fwd IAT Max', 'Pkt Len Min', 'Fwd IAT Mean', 'Tot Fwd Pkts'], 'Adv sample 55': ['Init Bwd Win Byts', 'Pkt Len Std', 'Pkt Size Avg', 'Pkt Len Max', 'Flow Pkts/s', 'Fwd Pkt Len Max', 'Pkt Len Mean', 'Fwd Pkt Len Mean', 'Fwd Seg Size Avg', 'Fwd Pkt Len Std'], 'Adv sample 56': ['Init Bwd Win Byts', 'Down/Up Ratio', 'Pkt Len Min', 'Flow Duration', 'Fwd IAT Max', 'Flow IAT Std', 'Pkt Len Max', 'Pkt Size Avg', 'FIN Flag Cnt', 'Flow IAT Max'], 'Adv sample 57': ['Init Bwd Win Byts', 'Down/Up Ratio', 'Pkt Len Min', 'Flow Duration', 'Pkt Len Std', 'Fwd IAT Max', 'Flow IAT Max', 'Flow IAT Std', 'Pkt Len Max', 'Pkt Len Mean'], 'Adv sample 58': ['Init Bwd Win Byts', 'Down/Up Ratio', 'Pkt Len Min', 'Flow Duration', 'Fwd IAT Max', 'Flow IAT Max', 'Pkt Len Max', 'Pkt Len Std', 'Fwd IAT Std', 'Flow Pkts/s'], 'Adv sample 59': ['Init Bwd Win Byts', 'Flow Pkts/s', 'FIN Flag Cnt', 'Down/Up Ratio', 'Bwd Pkts/s', 'Pkt Len Mean', 'Pkt Len Std', 'Pkt Len Min', 'Pkt Size Avg', 'Pkt Len Max'], 'Adv sample 60': ['Init Bwd Win Byts', 'Flow Pkts/s', 'FIN Flag Cnt', 'Down/Up Ratio', 'Bwd Pkts/s', 'Pkt Size Avg', 'Pkt Len Min', 'Pkt Len Std', 'Pkt Len Max', 'Pkt Len Mean'], 'Adv sample 61': ['Init Bwd Win Byts', 'Pkt Len Mean', 'Pkt Len Max', 'Pkt Len Std', 'Pkt Size Avg', 'Fwd Pkt Len Max', 'Down/Up Ratio', 'Pkt Len Min', 'Fwd Pkt Len Std', 'Flow Pkts/s'], 'Adv sample 62': ['Init Bwd Win Byts', 'Down/Up Ratio', 'Pkt Len Min', 'Flow Duration', 'Fwd IAT Max', 'Pkt Len Max', 'Flow IAT Std', 'FIN Flag Cnt', 'Pkt Len Std', 'Flow IAT Max'], 'Adv sample 63': ['Bwd Pkts/s', 'Init Bwd Win Byts', 'Down/Up Ratio', 'Flow Duration', 'Fwd IAT Max', 'Pkt Len Min', 'Pkt Len Mean', 'Fwd Seg Size Avg', 'Bwd Pkt Len Min', 'Pkt Size Avg'], 'Adv sample 64': ['Bwd Pkts/s', 'Init Bwd Win Byts', 'Down/Up Ratio', 'Pkt Len Min', 'Bwd Pkt Len Min', 'Pkt Len Max', 'Fwd Pkt Len Std', 'Fwd IAT Tot', 'Fwd Seg Size Avg', 'Pkt Len Std'], 'Adv sample 65': ['Bwd Pkts/s', 'Init Bwd Win Byts', 'Down/Up Ratio', 'Pkt Len Min', 'Bwd Pkt Len Min', 'Pkt Len Max', 'FIN Flag Cnt', 'TotLen Bwd Pkts', 'Pkt Len Mean', 'Fwd Pkt Len Max'], 'Adv sample 66': ['Init Bwd Win Byts', 'Pkt Len Std', 'Pkt Len Max', 'Pkt Size Avg', 'Pkt Len Mean', 'Fwd Pkt Len Max', 'Pkt Len Min', 'Flow Pkts/s', 'Fwd Seg Size Avg', 'Down/Up Ratio'], 'Adv sample 67': ['Init Bwd Win Byts', 'Down/Up Ratio', 'Pkt Len Min', 'Flow Duration', 'Pkt Len Mean', 'Fwd IAT Max', 'Pkt Len Std', 'Pkt Size Avg', 'Flow IAT Std', 'Fwd Pkt Len Max'], 'Adv sample 68': ['Init Bwd Win Byts', 'Flow Pkts/s', 'FIN Flag Cnt', 'Bwd Pkts/s', 'Down/Up Ratio', 'Pkt Len Max', 'Idle Max', 'Pkt Len Min', 'Pkt Size Avg', 'Fwd Pkt Len Std'], 'Adv sample 69': ['SYN Flag Cnt', 'Init Bwd Win Byts', 'ACK Flag Cnt', 'Idle Min', 'Flow IAT Max', 'Flow Duration', 'Bwd IAT Mean', 'Tot Bwd Pkts', 'TotLen Fwd Pkts', 'TotLen Bwd Pkts'], 'Adv sample 70': ['SYN Flag Cnt', 'Init Bwd Win Byts', 'Idle Min', 'Bwd Pkt Len Max', 'Flow Byts/s', 'Flow Duration', 'Tot Bwd Pkts', 'TotLen Fwd Pkts', 'TotLen Bwd Pkts', 'Fwd Pkt Len Min'], 'Adv sample 71': ['Init Bwd Win Byts', 'Down/Up Ratio', 'Pkt Len Min', 'Flow Duration', 'Fwd IAT Max', 'Pkt Len Max', 'Flow IAT Max', 'Flow IAT Std', 'Pkt Len Mean', 'PSH Flag Cnt'], 'Adv sample 72': ['ACK Flag Cnt', 'Bwd IAT Std', 'Init Bwd Win Byts', 'Bwd IAT Tot', 'Flow IAT Mean', 'Down/Up Ratio', 'Bwd IAT Max', 'Bwd IAT Mean', 'Subflow Fwd Pkts', 'Bwd IAT Min'], 'Adv sample 73': ['Init Bwd Win Byts', 'Down/Up Ratio', 'Pkt Len Min', 'Flow Duration', 'Fwd IAT Max', 'Flow IAT Std', 'Pkt Len Std', 'Fwd Pkt Len Mean', 'Flow IAT Max', 'Pkt Len Max'], 'Adv sample 74': ['ACK Flag Cnt', 'Bwd IAT Std', 'Init Bwd Win Byts', 'Bwd IAT Tot', 'Bwd IAT Max', 'Flow IAT Mean', 'Fwd Pkt Len Min', 'Pkt Len Std', 'Bwd Pkt Len Mean', 'Active Min'], 'Adv sample 75': ['Init Bwd Win Byts', 'Flow Pkts/s', 'FIN Flag Cnt', 'Bwd Pkts/s', 'Down/Up Ratio', 'Pkt Len Mean', 'Fwd Pkt Len Max', 'Pkt Len Min', 'Fwd Pkt Len Std', 'Pkt Len Std'], 'Adv sample 76': ['Init Bwd Win Byts', 'Pkt Len Max', 'Pkt Len Std', 'Pkt Len Mean', 'Fwd Pkt Len Mean', 'Pkt Size Avg', 'Fwd Pkt Len Max', 'Flow Pkts/s', 'Fwd Pkt Len Std', 'Fwd Seg Size Avg'], 'Adv sample 77': ['SYN Flag Cnt', 'Init Bwd Win Byts', 'Idle Min', 'Idle Max', 'Flow Pkts/s', 'ACK Flag Cnt', 'Subflow Fwd Pkts', 'Fwd IAT Std', 'Bwd Pkt Len Min', 'Bwd IAT Min'], 'Adv sample 78': ['Init Bwd Win Byts', 'Down/Up Ratio', 'Pkt Len Min', 'Flow Duration', 'Fwd IAT Max', 'Pkt Len Std', 'Pkt Len Max', 'Flow IAT Max', 'Pkt Size Avg', 'Flow IAT Std'], 'Adv sample 79': ['FIN Flag Cnt', 'Flow Pkts/s', 'Init Bwd Win Byts', 'TotLen Fwd Pkts', 'Flow Byts/s', 'Pkt Len Min', 'Down/Up Ratio', 'Bwd Seg Size Avg', 'Bwd IAT Mean', 'Bwd Pkt Len Std'], 'Adv sample 80': ['Init Bwd Win Byts', 'Down/Up Ratio', 'Pkt Len Min', 'Flow Duration', 'Fwd IAT Max', 'Pkt Len Max', 'Flow IAT Std', 'Flow IAT Max', 'PSH Flag Cnt', 'Pkt Len Std'], 'Adv sample 81': ['ACK Flag Cnt', 'Bwd IAT Std', 'Init Bwd Win Byts', 'Bwd IAT Tot', 'Bwd IAT Max', 'Flow IAT Mean', 'Subflow Bwd Pkts', 'Fwd IAT Max', 'Subflow Fwd Pkts', 'Tot Fwd Pkts'], 'Adv sample 82': ['Init Bwd Win Byts', 'Down/Up Ratio', 'Pkt Len Min', 'Flow Duration', 'Fwd IAT Max', 'FIN Flag Cnt', 'Flow IAT Max', 'Pkt Len Max', 'Pkt Len Std', 'Flow IAT Std'], 'Adv sample 83': ['Init Bwd Win Byts', 'Down/Up Ratio', 'Pkt Len Min', 'Flow Duration', 'Flow IAT Std', 'Fwd IAT Max', 'Pkt Len Max', 'Pkt Len Std', 'Pkt Len Mean', 'Flow IAT Max'], 'Adv sample 84': ['Flow Pkts/s', 'Init Bwd Win Byts', 'FIN Flag Cnt', 'Bwd Pkts/s', 'Down/Up Ratio', 'Pkt Len Min', 'Pkt Size Avg', 'Pkt Len Max', 'Fwd Pkt Len Max', 'Fwd Pkt Len Std'], 'Adv sample 85': ['Bwd PSH Flags', 'Init Bwd Win Byts', 'Down/Up Ratio', 'Pkt Len Max', 'ACK Flag Cnt', 'Pkt Len Mean', 'Pkt Len Std', 'Pkt Size Avg', 'Fwd Pkt Len Max', 'Fwd IAT Tot'], 'Adv sample 86': ['Init Bwd Win Byts', 'Pkt Len Max', 'Pkt Len Mean', 'Fwd Pkt Len Max', 'Pkt Len Std', 'Fwd Pkt Len Std', 'Pkt Len Min', 'Pkt Size Avg', 'Down/Up Ratio', 'Fwd Pkt Len Mean'], 'Adv sample 87': ['SYN Flag Cnt', 'Init Bwd Win Byts', 'Idle Min', 'Idle Max', 'ACK Flag Cnt', 'Fwd IAT Tot', 'Bwd Pkt Len Min', 'Idle Mean', 'Fwd IAT Max', 'Pkt Len Min'], 'Adv sample 88': ['Bwd Pkts/s', 'Init Bwd Win Byts', 'Down/Up Ratio', 'Pkt Len Min', 'Bwd Pkt Len Min', 'Pkt Len Max', 'Flow Duration', 'Fwd IAT Max', 'Pkt Len Mean', 'Pkt Len Std'], 'Adv sample 89': ['ACK Flag Cnt', 'Bwd IAT Std', 'Init Bwd Win Byts', 'Bwd IAT Max', 'Bwd IAT Tot', 'Subflow Bwd Pkts', 'Fwd IAT Max', 'Bwd IAT Mean', 'Flow IAT Mean', 'Fwd IAT Tot'], 'Adv sample 90': ['SYN Flag Cnt', 'Init Bwd Win Byts', 'Idle Mean', 'Idle Min', 'Flow Duration', 'Tot Fwd Pkts', 'Tot Bwd Pkts', 'TotLen Fwd Pkts', 'Fwd Pkt Len Min', 'Fwd Pkt Len Mean'], 'Adv sample 91': ['Init Bwd Win Byts', 'Down/Up Ratio', 'Pkt Len Min', 'Flow Duration', 'Pkt Len Max', 'Flow IAT Std', 'Fwd IAT Max', 'PSH Flag Cnt', 'Fwd IAT Std', 'Flow IAT Max'], 'Adv sample 92': ['ACK Flag Cnt', 'Bwd IAT Std', 'Init Bwd Win Byts', 'Bwd IAT Max', 'Bwd IAT Tot', 'Flow IAT Mean', 'Fwd IAT Std', 'Bwd Pkt Len Mean', 'Bwd Seg Size Avg', 'Pkt Len Min'], 'Adv sample 93': ['Init Bwd Win Byts', 'Down/Up Ratio', 'Pkt Len Min', 'Flow Duration', 'Fwd IAT Max', 'Flow IAT Max', 'Pkt Len Max', 'Flow IAT Std', 'Pkt Size Avg', 'Pkt Len Std'], 'Adv sample 94': ['SYN Flag Cnt', 'Init Bwd Win Byts', 'Bwd IAT Tot', 'Bwd IAT Std', 'Bwd IAT Max', 'Flow IAT Mean', 'Idle Max', 'Idle Min', 'Bwd Header Len', 'Bwd Pkt Len Mean'], 'Adv sample 95': ['Bwd Pkts/s', 'Init Bwd Win Byts', 'Down/Up Ratio', 'Bwd Pkt Len Min', 'Pkt Len Min', 'Pkt Len Mean', 'Idle Min', 'Bwd Pkt Len Std', 'Pkt Len Std', 'Fwd IAT Max'], 'Adv sample 96': ['Init Bwd Win Byts', 'Down/Up Ratio', 'Pkt Len Min', 'Flow Duration', 'Flow IAT Max', 'Fwd IAT Max', 'Pkt Len Max', 'Pkt Len Std', 'PSH Flag Cnt', 'Fwd IAT Std'], 'Adv sample 97': ['Init Bwd Win Byts', 'Pkt Len Std', 'Pkt Len Max', 'Pkt Size Avg', 'Pkt Len Mean', 'Down/Up Ratio', 'Fwd Pkt Len Max', 'Fwd Pkt Len Mean', 'Fwd Pkt Len Std', 'Fwd Seg Size Avg'], 'Adv sample 98': ['Init Bwd Win Byts', 'Down/Up Ratio', 'Pkt Len Min', 'Flow Duration', 'Flow IAT Max', 'Fwd IAT Max', 'Pkt Len Max', 'Pkt Size Avg', 'Flow Pkts/s', 'Flow IAT Std'], 'Adv sample 99': ['Init Bwd Win Byts', 'Bwd Pkts/s', 'Down/Up Ratio', 'Pkt Len Min', 'Flow Duration', 'Flow IAT Std', 'Fwd Pkt Len Max', 'Bwd Pkt Len Min', 'Fwd IAT Std', 'Fwd IAT Max'], 'Adv sample 100': ['Init Bwd Win Byts', 'Flow Pkts/s', 'FIN Flag Cnt', 'Bwd Pkts/s', 'Down/Up Ratio', 'Pkt Len Max', 'Pkt Len Mean', 'Pkt Len Std', 'Fwd Seg Size Avg', 'Subflow Bwd Pkts'], 'Adv sample 101': ['Init Bwd Win Byts', 'Down/Up Ratio', 'Pkt Len Min', 'Flow Duration', 'Fwd IAT Max', 'Pkt Len Std', 'Pkt Len Max', 'Flow IAT Std', 'Flow IAT Max', 'Pkt Len Mean'], 'Adv sample 102': ['Init Bwd Win Byts', 'Pkt Len Max', 'Pkt Len Mean', 'Pkt Len Std', 'Fwd Pkt Len Mean', 'Down/Up Ratio', 'Pkt Size Avg', 'Fwd Pkt Len Max', 'Fwd IAT Tot', 'Fwd Seg Size Avg'], 'Adv sample 103': ['Bwd Pkts/s', 'Init Bwd Win Byts', 'Down/Up Ratio', 'Pkt Len Min', 'Pkt Len Mean', 'Pkt Len Max', 'Bwd Pkt Len Min', 'Pkt Size Avg', 'Fwd Seg Size Avg', 'Fwd IAT Max'], 'Adv sample 104': ['SYN Flag Cnt', 'Init Bwd Win Byts', 'ACK Flag Cnt', 'Idle Mean', 'Idle Min', 'Bwd Pkt Len Max', 'TotLen Bwd Pkts', 'Flow Byts/s', 'Flow Duration', 'Tot Fwd Pkts'], 'Adv sample 105': ['Init Bwd Win Byts', 'SYN Flag Cnt', 'FIN Flag Cnt', 'Pkt Len Min', 'Idle Min', 'Flow IAT Max', 'Flow Duration', 'ACK Flag Cnt', 'Fwd IAT Max', 'Idle Mean'], 'Adv sample 106': ['Init Bwd Win Byts', 'Pkt Len Max', 'Pkt Len Mean', 'Pkt Size Avg', 'Fwd Seg Size Avg', 'Fwd Pkt Len Mean', 'Pkt Len Std', 'Fwd Pkt Len Max', 'Flow Pkts/s', 'Fwd Pkt Len Std'], 'Adv sample 107': ['Init Bwd Win Byts', 'Down/Up Ratio', 'Pkt Len Min', 'Flow Duration', 'Fwd IAT Max', 'Pkt Len Std', 'Fwd IAT Std', 'Flow IAT Max', 'Pkt Len Max', 'Fwd Pkt Len Max'], 'Adv sample 108': ['Init Bwd Win Byts', 'Pkt Len Max', 'Pkt Len Std', 'Pkt Size Avg', 'Fwd Pkt Len Max', 'Pkt Len Mean', 'Fwd Seg Size Avg', 'Fwd Pkt Len Mean', 'Pkt Len Min', 'PSH Flag Cnt'], 'Adv sample 109': ['Init Bwd Win Byts', 'Pkt Len Max', 'Pkt Len Mean', 'Pkt Len Std', 'Fwd Pkt Len Max', 'Pkt Size Avg', 'Down/Up Ratio', 'Fwd Seg Size Avg', 'Pkt Len Min', 'Fwd Pkt Len Std'], 'Adv sample 110': ['FIN Flag Cnt', 'Flow Pkts/s', 'Init Bwd Win Byts', 'Down/Up Ratio', 'Bwd Header Len', 'Tot Fwd Pkts', 'Tot Bwd Pkts', 'TotLen Fwd Pkts', 'TotLen Bwd Pkts', 'Fwd Pkt Len Min'], 'Adv sample 111': ['Init Bwd Win Byts', 'Down/Up Ratio', 'Pkt Len Min', 'Pkt Len Max', 'Fwd Pkt Len Max', 'Fwd IAT Max', 'Flow Duration', 'Pkt Len Std', 'Pkt Len Mean', 'Flow IAT Max'], 'Adv sample 112': ['Init Bwd Win Byts', 'SYN Flag Cnt', 'Pkt Len Min', 'FIN Flag Cnt', 'Fwd IAT Max', 'ACK Flag Cnt', 'Idle Min', 'Idle Max', 'Flow IAT Max', 'Down/Up Ratio'], 'Adv sample 113': ['Init Bwd Win Byts', 'Pkt Len Std', 'Pkt Len Max', 'Pkt Len Mean', 'Pkt Size Avg', 'Fwd Pkt Len Max', 'Flow Pkts/s', 'Fwd Pkt Len Std', 'Fwd Pkt Len Mean', 'Fwd Seg Size Avg'], 'Adv sample 114': ['Down/Up Ratio', 'Init Bwd Win Byts', 'Pkt Len Min', 'Pkt Len Max', 'Pkt Len Std', 'Flow IAT Max', 'Fwd Pkt Len Max', 'Flow Duration', 'Fwd IAT Max', 'Fwd IAT Std'], 'Adv sample 115': ['Init Bwd Win Byts', 'Down/Up Ratio', 'Pkt Len Min', 'Flow Duration', 'Fwd IAT Max', 'Pkt Len Std', 'Pkt Len Max', 'Fwd IAT Std', 'Pkt Len Mean', 'PSH Flag Cnt'], 'Adv sample 116': ['Bwd Pkts/s', 'Init Bwd Win Byts', 'Down/Up Ratio', 'Pkt Len Min', 'Flow Duration', 'Fwd IAT Max', 'Fwd Pkt Len Std', 'Pkt Len Std', 'Flow IAT Std', 'Flow IAT Max'], 'Adv sample 117': ['Init Bwd Win Byts', 'Pkt Len Max', 'Pkt Size Avg', 'Fwd Pkt Len Mean', 'Pkt Len Std', 'Fwd Pkt Len Max', 'Pkt Len Mean', 'Pkt Len Min', 'Fwd Seg Size Avg', 'Fwd Pkt Len Std'], 'Adv sample 118': ['Down/Up Ratio', 'Init Bwd Win Byts', 'Pkt Len Min', 'Flow Duration', 'Fwd IAT Max', 'Flow IAT Max', 'Pkt Size Avg', 'Fwd IAT Std', 'Pkt Len Std', 'Fwd Pkt Len Max'], 'Adv sample 119': ['Bwd Pkts/s', 'Init Bwd Win Byts', 'Down/Up Ratio', 'Bwd Pkt Len Min', 'Pkt Len Min', 'Pkt Len Max', 'Fwd IAT Max', 'Flow Duration', 'Bwd IAT Min', 'TotLen Bwd Pkts'], 'Adv sample 120': ['Init Bwd Win Byts', 'Pkt Len Std', 'Pkt Len Max', 'Pkt Size Avg', 'Pkt Len Mean', 'Fwd Seg Size Avg', 'Flow Pkts/s', 'Fwd Pkt Len Max', 'Down/Up Ratio', 'Fwd Pkt Len Std'], 'Adv sample 121': ['ACK Flag Cnt', 'Bwd IAT Std', 'Init Bwd Win Byts', 'Bwd IAT Tot', 'Bwd IAT Max', 'Bwd IAT Mean', 'Idle Std', 'Subflow Bwd Pkts', 'Fwd Pkt Len Std', 'Fwd IAT Tot'], 'Adv sample 122': ['SYN Flag Cnt', 'Init Bwd Win Byts', 'Idle Mean', 'Flow Duration', 'Tot Fwd Pkts', 'Tot Bwd Pkts', 'TotLen Fwd Pkts', 'TotLen Bwd Pkts', 'Fwd Pkt Len Max', 'Fwd Pkt Len Min'], 'Adv sample 123': ['SYN Flag Cnt', 'Init Bwd Win Byts', 'Idle Mean', 'Fwd IAT Max', 'Idle Min', 'Pkt Len Min', 'Fwd IAT Std', 'Idle Max', 'ACK Flag Cnt', 'Bwd Pkt Len Std'], 'Adv sample 124': ['ACK Flag Cnt', 'Bwd IAT Std', 'Init Bwd Win Byts', 'Bwd IAT Max', 'Bwd IAT Tot', 'Flow IAT Mean', 'Idle Std', 'Pkt Len Mean', 'Subflow Fwd Pkts', 'Subflow Bwd Byts'], 'Adv sample 125': ['Init Bwd Win Byts', 'Bwd Pkts/s', 'Down/Up Ratio', 'Pkt Len Min', 'Flow Duration', 'Idle Mean', 'Idle Min', 'Fwd Pkt Len Std', 'Bwd Pkt Len Min', 'Flow IAT Max'], 'Adv sample 126': ['Bwd Pkts/s', 'Init Bwd Win Byts', 'Down/Up Ratio', 'Pkt Len Min', 'Fwd IAT Std', 'Fwd IAT Max', 'Bwd Pkt Len Min', 'Pkt Len Max', 'Idle Mean', 'Flow Duration'], 'Adv sample 127': ['Bwd Pkts/s', 'Init Bwd Win Byts', 'Down/Up Ratio', 'Pkt Len Min', 'Bwd Pkt Len Min', 'Pkt Len Std', 'Bwd Pkt Len Max', 'Fwd IAT Tot', 'Pkt Len Max', 'Fwd IAT Max'], 'Adv sample 128': ['SYN Flag Cnt', 'Init Bwd Win Byts', 'Idle Min', 'ACK Flag Cnt', 'Bwd Pkt Len Min', 'Idle Mean', 'Pkt Len Min', 'Idle Max', 'Flow Duration', 'PSH Flag Cnt'], 'Adv sample 129': ['Init Bwd Win Byts', 'Down/Up Ratio', 'Pkt Len Min', 'Fwd IAT Max', 'Flow IAT Max', 'Flow Duration', 'Pkt Len Std', 'Pkt Len Max', 'Fwd IAT Std', 'Pkt Len Mean'], 'Adv sample 130': ['Init Bwd Win Byts', 'Down/Up Ratio', 'Pkt Len Min', 'Flow Duration', 'Fwd IAT Max', 'Flow IAT Max', 'Flow IAT Std', 'Pkt Len Max', 'Fwd IAT Std', 'Pkt Len Std'], 'Adv sample 131': ['Init Bwd Win Byts', 'Down/Up Ratio', 'Pkt Len Min', 'Flow Duration', 'Fwd IAT Max', 'Pkt Len Max', 'Flow IAT Max', 'Pkt Len Std', 'Flow Pkts/s', 'Fwd IAT Std'], 'Adv sample 132': ['Init Bwd Win Byts', 'Down/Up Ratio', 'Pkt Len Min', 'Flow Duration', 'Fwd IAT Max', 'Flow IAT Max', 'Fwd IAT Std', 'Pkt Len Std', 'Flow IAT Std', 'Fwd Seg Size Avg'], 'Adv sample 133': ['Init Bwd Win Byts', 'Down/Up Ratio', 'Pkt Len Min', 'Flow Duration', 'Fwd IAT Max', 'Flow IAT Max', 'Pkt Len Max', 'Pkt Len Std', 'Fwd Pkt Len Max', 'Fwd Pkt Len Mean'], 'Adv sample 134': ['SYN Flag Cnt', 'Init Bwd Win Byts', 'ACK Flag Cnt', 'Bwd IAT Mean', 'Bwd Pkt Len Min', 'Idle Min', 'Fwd IAT Max', 'TotLen Fwd Pkts', 'TotLen Bwd Pkts', 'Fwd Pkt Len Min'], 'Adv sample 135': ['Init Bwd Win Byts', 'Down/Up Ratio', 'Pkt Len Min', 'Flow Duration', 'Pkt Len Max', 'Flow IAT Max', 'Fwd IAT Max', 'Pkt Len Std', 'Flow Pkts/s', 'Fwd IAT Std'], 'Adv sample 136': ['Init Bwd Win Byts', 'SYN Flag Cnt', 'FIN Flag Cnt', 'Pkt Len Min', 'Down/Up Ratio', 'ACK Flag Cnt', 'Fwd IAT Max', 'Flow IAT Max', 'Idle Min', 'Flow Duration'], 'Adv sample 137': ['Init Bwd Win Byts', 'URG Flag Cnt', 'FIN Flag Cnt', 'Bwd URG Flags', 'Down/Up Ratio', 'Bwd PSH Flags', 'Flow Duration', 'Pkt Len Max', 'Pkt Len Std', 'Subflow Fwd Byts'], 'Adv sample 138': ['ACK Flag Cnt', 'Bwd IAT Std', 'Init Bwd Win Byts', 'Bwd IAT Tot', 'Bwd IAT Max', 'Flow IAT Mean', 'Bwd IAT Mean', 'Bwd Pkt Len Min', 'Bwd Seg Size Avg', 'Pkt Size Avg'], 'Adv sample 139': ['Init Bwd Win Byts', 'Down/Up Ratio', 'Pkt Len Min', 'Flow Duration', 'Pkt Len Std', 'FIN Flag Cnt', 'Flow IAT Std', 'Fwd IAT Max', 'Fwd IAT Std', 'Pkt Len Max'], 'Adv sample 140': ['FIN Flag Cnt', 'Flow Pkts/s', 'Init Bwd Win Byts', 'Down/Up Ratio', 'Bwd Pkt Len Std', 'Bwd Header Len', 'Bwd Pkt Len Min', 'Bwd Pkt Len Mean', 'Fwd IAT Tot', 'Bwd PSH Flags'], 'Adv sample 141': ['Init Bwd Win Byts', 'SYN Flag Cnt', 'Pkt Len Min', 'Idle Min', 'Flow IAT Max', 'Idle Mean', 'Idle Max', 'Fwd IAT Max', 'Flow Pkts/s', 'Down/Up Ratio'], 'Adv sample 142': ['SYN Flag Cnt', 'Init Bwd Win Byts', 'Fwd IAT Tot', 'Idle Min', 'Active Std', 'Fwd IAT Min', 'Bwd Seg Size Avg', 'Flow Byts/s', 'Bwd Pkt Len Std', 'Fwd Header Len'], 'Adv sample 143': ['Bwd Pkts/s', 'Init Bwd Win Byts', 'Down/Up Ratio', 'Pkt Len Min', 'Flow Duration', 'Idle Max', 'Fwd Pkt Len Max', 'Fwd IAT Max', 'Pkt Len Std', 'Flow IAT Max'], 'Adv sample 144': ['Bwd PSH Flags', 'Init Bwd Win Byts', 'Down/Up Ratio', 'Pkt Len Max', 'ACK Flag Cnt', 'Pkt Len Std', 'Pkt Size Avg', 'Fwd Pkt Len Max', 'Fwd IAT Std', 'Pkt Len Min'], 'Adv sample 145': ['Init Bwd Win Byts', 'Pkt Len Mean', 'Pkt Len Max', 'Pkt Len Std', 'Pkt Size Avg', 'Fwd Pkt Len Mean', 'Fwd Pkt Len Std', 'Pkt Len Min', 'Fwd Seg Size Avg', 'Down/Up Ratio'], 'Adv sample 146': ['Init Bwd Win Byts', 'Down/Up Ratio', 'Pkt Len Min', 'Flow Duration', 'Flow IAT Max', 'Fwd IAT Max', 'Pkt Len Max', 'Pkt Len Std', 'Flow Pkts/s', 'Pkt Len Mean'], 'Adv sample 147': ['SYN Flag Cnt', 'Init Bwd Win Byts', 'ACK Flag Cnt', 'Bwd Pkt Len Max', 'Fwd Pkt Len Min', 'Idle Min', 'Bwd Pkt Len Std', 'Fwd IAT Min', 'Idle Std', 'Bwd IAT Min'], 'Adv sample 148': ['Init Bwd Win Byts', 'SYN Flag Cnt', 'Pkt Len Min', 'Idle Min', 'Pkt Len Max', 'Fwd IAT Max', 'Flow IAT Max', 'Down/Up Ratio', 'Idle Max', 'Flow Duration'], 'Adv sample 149': ['Init Bwd Win Byts', 'Down/Up Ratio', 'Pkt Len Min', 'Flow Duration', 'Fwd IAT Max', 'Flow IAT Std', 'Flow Pkts/s', 'Fwd IAT Std', 'Flow IAT Max', 'Pkt Len Mean'], 'Adv sample 150': ['Bwd PSH Flags', 'Init Bwd Win Byts', 'Down/Up Ratio', 'Pkt Len Max', 'ACK Flag Cnt', 'Pkt Len Std', 'Pkt Len Mean', 'Pkt Len Min', 'Pkt Size Avg', 'Fwd Pkt Len Max'], 'Adv sample 151': ['FIN Flag Cnt', 'Flow Pkts/s', 'Init Bwd Win Byts', 'Down/Up Ratio', 'Bwd Seg Size Avg', 'Bwd Pkt Len Std', 'Active Std', 'Pkt Len Min', 'Tot Bwd Pkts', 'TotLen Fwd Pkts'], 'Adv sample 152': ['Init Bwd Win Byts', 'SYN Flag Cnt', 'Pkt Len Min', 'Idle Min', 'Fwd IAT Max', 'Flow IAT Max', 'PSH Flag Cnt', 'FIN Flag Cnt', 'Pkt Len Max', 'Idle Max'], 'Adv sample 153': ['SYN Flag Cnt', 'Init Bwd Win Byts', 'ACK Flag Cnt', 'Idle Max', 'Idle Min', 'Bwd Seg Size Avg', 'Flow Pkts/s', 'Bwd Pkt Len Mean', 'Idle Mean', 'Fwd IAT Max'], 'Adv sample 154': ['Bwd Pkts/s', 'Init Bwd Win Byts', 'Down/Up Ratio', 'Pkt Len Min', 'Fwd IAT Tot', 'Pkt Len Mean', 'Flow IAT Max', 'Pkt Size Avg', 'Subflow Fwd Pkts', 'Bwd Pkt Len Min'], 'Adv sample 155': ['SYN Flag Cnt', 'Init Bwd Win Byts', 'Idle Mean', 'Idle Min', 'Idle Max', 'Bwd Pkt Len Min', 'Subflow Fwd Byts', 'PSH Flag Cnt', 'Fwd IAT Max', 'Tot Bwd Pkts'], 'Adv sample 156': ['ACK Flag Cnt', 'Init Bwd Win Byts', 'Bwd IAT Std', 'Bwd IAT Tot', 'Bwd IAT Max', 'Pkt Len Min', 'Fwd Seg Size Avg', 'Flow IAT Mean', 'Idle Std', 'TotLen Bwd Pkts'], 'Adv sample 157': ['Init Bwd Win Byts', 'Pkt Len Max', 'Pkt Len Std', 'Pkt Len Mean', 'Fwd Pkt Len Mean', 'Pkt Size Avg', 'Fwd Pkt Len Max', 'Fwd Seg Size Avg', 'Down/Up Ratio', 'Fwd Pkt Len Std'], 'Adv sample 158': ['Init Bwd Win Byts', 'SYN Flag Cnt', 'Pkt Len Min', 'Idle Min', 'Idle Max', 'Idle Mean', 'Down/Up Ratio', 'Pkt Len Mean', 'PSH Flag Cnt', 'Fwd IAT Max'], 'Adv sample 159': ['Init Bwd Win Byts', 'Pkt Len Mean', 'Pkt Len Max', 'Fwd Pkt Len Max', 'Fwd Pkt Len Mean', 'Pkt Len Std', 'Pkt Size Avg', 'Fwd Pkt Len Std', 'Pkt Len Min', 'Fwd Seg Size Avg'], 'Adv sample 160': ['Down/Up Ratio', 'Init Bwd Win Byts', 'Pkt Len Min', 'Flow Duration', 'Pkt Len Max', 'Fwd IAT Max', 'Pkt Len Mean', 'Pkt Len Std', 'Flow IAT Max', 'Flow Pkts/s'], 'Adv sample 161': ['Bwd Pkts/s', 'Init Bwd Win Byts', 'Down/Up Ratio', 'Pkt Len Min', 'Fwd IAT Max', 'Pkt Size Avg', 'Pkt Len Max', 'Flow Duration', 'Fwd Pkt Len Std', 'Flow Byts/s'], 'Adv sample 162': ['Init Bwd Win Byts', 'Down/Up Ratio', 'Pkt Len Min', 'Pkt Len Max', 'Flow Duration', 'Fwd IAT Max', 'Pkt Len Std', 'Flow IAT Std', 'Flow IAT Max', 'Pkt Size Avg'], 'Adv sample 163': ['Init Bwd Win Byts', 'Pkt Len Std', 'Pkt Len Max', 'Pkt Len Mean', 'Pkt Size Avg', 'Fwd Pkt Len Std', 'Fwd Pkt Len Max', 'Fwd Pkt Len Mean', 'Fwd Seg Size Avg', 'Flow Pkts/s'], 'Adv sample 164': ['Down/Up Ratio', 'Init Bwd Win Byts', 'Pkt Len Min', 'Pkt Len Max', 'Pkt Len Std', 'Fwd IAT Max', 'Flow Duration', 'Fwd Pkt Len Max', 'Pkt Len Mean', 'Fwd Pkt Len Std'], 'Adv sample 165': ['Bwd Pkts/s', 'Init Bwd Win Byts', 'Down/Up Ratio', 'Pkt Len Min', 'Idle Mean', 'Bwd Pkt Len Min', 'Flow Duration', 'Fwd Pkt Len Std', 'Flow IAT Mean', 'Pkt Len Max'], 'Adv sample 166': ['Bwd Pkts/s', 'Init Bwd Win Byts', 'Down/Up Ratio', 'Pkt Len Min', 'Idle Min', 'Fwd Seg Size Avg', 'Flow IAT Std', 'Tot Fwd Pkts', 'Subflow Bwd Pkts', 'Flow Duration'], 'Adv sample 167': ['Init Bwd Win Byts', 'Pkt Len Max', 'Fwd Pkt Len Mean', 'Pkt Size Avg', 'Pkt Len Mean', 'Pkt Len Std', 'Fwd Pkt Len Max', 'Flow Pkts/s', 'Fwd Seg Size Avg', 'Fwd Pkt Len Std'], 'Adv sample 168': ['Init Bwd Win Byts', 'Flow Pkts/s', 'FIN Flag Cnt', 'Bwd Pkts/s', 'Down/Up Ratio', 'Pkt Len Min', 'Pkt Len Std', 'Fwd Pkt Len Mean', 'Pkt Len Max', 'Pkt Len Mean'], 'Adv sample 169': ['Init Bwd Win Byts', 'Fwd Pkt Len Std', 'Pkt Len Mean', 'Pkt Len Max', 'Fwd Pkt Len Mean', 'Pkt Len Min', 'Fwd Pkt Len Max', 'Fwd Seg Size Avg', 'Pkt Size Avg', 'Down/Up Ratio'], 'Adv sample 170': ['Init Bwd Win Byts', 'Pkt Len Max', 'Pkt Len Mean', 'Pkt Len Std', 'Flow Pkts/s', 'Fwd Seg Size Avg', 'Pkt Size Avg', 'Fwd Pkt Len Max', 'Fwd Pkt Len Std', 'Down/Up Ratio'], 'Adv sample 171': ['Init Bwd Win Byts', 'Pkt Len Max', 'Pkt Len Std', 'Pkt Size Avg', 'Fwd Pkt Len Std', 'Fwd Pkt Len Max', 'Pkt Len Mean', 'Down/Up Ratio', 'Pkt Len Min', 'Fwd Seg Size Avg'], 'Adv sample 172': ['Flow Pkts/s', 'Init Bwd Win Byts', 'FIN Flag Cnt', 'Bwd Pkts/s', 'Down/Up Ratio', 'Pkt Len Max', 'Pkt Len Std', 'Pkt Size Avg', 'Pkt Len Min', 'Fwd IAT Max'], 'Adv sample 173': ['Init Bwd Win Byts', 'Pkt Len Max', 'Pkt Len Std', 'Fwd Pkt Len Max', 'Pkt Size Avg', 'Fwd Seg Size Avg', 'Pkt Len Min', 'Fwd Pkt Len Mean', 'Pkt Len Mean', 'Down/Up Ratio'], 'Adv sample 174': ['Init Bwd Win Byts', 'Down/Up Ratio', 'Pkt Len Min', 'Flow Duration', 'Fwd IAT Max', 'Flow IAT Std', 'Flow IAT Max', 'Pkt Len Std', 'Pkt Len Max', 'Fwd Pkt Len Max'], 'Adv sample 175': ['Init Bwd Win Byts', 'SYN Flag Cnt', 'Pkt Len Min', 'Idle Min', 'Idle Mean', 'Idle Max', 'Down/Up Ratio', 'Flow IAT Max', 'Flow Pkts/s', 'Fwd Pkt Len Max'], 'Adv sample 176': ['Init Bwd Win Byts', 'URG Flag Cnt', 'FIN Flag Cnt', 'Bwd URG Flags', 'Down/Up Ratio', 'Bwd PSH Flags', 'Flow Duration', 'Pkt Size Avg', 'Pkt Len Mean', 'Subflow Fwd Byts'], 'Adv sample 177': ['Init Bwd Win Byts', 'SYN Flag Cnt', 'FIN Flag Cnt', 'Fwd IAT Max', 'Pkt Len Min', 'Flow IAT Max', 'Pkt Len Mean', 'Idle Min', 'ACK Flag Cnt', 'Flow Duration'], 'Adv sample 178': ['Bwd Pkts/s', 'Init Bwd Win Byts', 'Down/Up Ratio', 'Pkt Len Min', 'Flow Duration', 'Fwd IAT Max', 'Idle Min', 'Idle Mean', 'Bwd Pkt Len Min', 'Pkt Len Std'], 'Adv sample 179': ['SYN Flag Cnt', 'Init Bwd Win Byts', 'Idle Max', 'Pkt Len Min', 'Idle Mean', 'Idle Min', 'ACK Flag Cnt', 'Flow Pkts/s', 'Fwd IAT Max', 'TotLen Bwd Pkts'], 'Adv sample 180': ['Init Bwd Win Byts', 'Down/Up Ratio', 'Pkt Len Min', 'Flow Duration', 'Pkt Len Std', 'Fwd IAT Max', 'Flow IAT Std', 'FIN Flag Cnt', 'Flow IAT Max', 'PSH Flag Cnt'], 'Adv sample 181': ['Bwd Pkts/s', 'Init Bwd Win Byts', 'Down/Up Ratio', 'Pkt Len Min', 'Pkt Len Std', 'Pkt Len Max', 'Fwd IAT Max', 'Pkt Len Mean', 'Pkt Size Avg', 'Flow IAT Std'], 'Adv sample 182': ['Bwd Pkts/s', 'Init Bwd Win Byts', 'Down/Up Ratio', 'Pkt Len Min', 'Flow Duration', 'Pkt Len Mean', 'Bwd Pkt Len Min', 'Fwd IAT Max', 'Pkt Size Avg', 'Fwd Pkt Len Mean'], 'Adv sample 183': ['ACK Flag Cnt', 'Bwd IAT Std', 'Init Bwd Win Byts', 'Bwd IAT Max', 'Bwd IAT Tot', 'Flow IAT Mean', 'Pkt Size Avg', 'TotLen Fwd Pkts', 'Bwd Pkt Len Mean', 'Bwd IAT Mean'], 'Adv sample 184': ['Init Bwd Win Byts', 'Down/Up Ratio', 'Pkt Len Min', 'Flow Duration', 'Pkt Len Max', 'Fwd IAT Max', 'Flow IAT Max', 'Pkt Len Mean', 'Fwd Pkt Len Max', 'Flow Pkts/s'], 'Adv sample 185': ['Init Bwd Win Byts', 'Down/Up Ratio', 'Pkt Len Min', 'Flow Duration', 'Fwd IAT Max', 'Pkt Len Max', 'Flow Pkts/s', 'Flow IAT Std', 'Pkt Len Std', 'Pkt Size Avg'], 'Adv sample 186': ['Init Bwd Win Byts', 'Down/Up Ratio', 'Pkt Len Min', 'Flow Duration', 'Fwd IAT Max', 'Flow IAT Std', 'Flow IAT Max', 'Pkt Size Avg', 'Pkt Len Max', 'Pkt Len Std'], 'Adv sample 187': ['Init Bwd Win Byts', 'Down/Up Ratio', 'Pkt Len Min', 'Flow Duration', 'Fwd IAT Max', 'Pkt Len Max', 'Fwd IAT Std', 'Pkt Len Std', 'Flow IAT Std', 'Flow IAT Max'], 'Adv sample 188': ['Init Bwd Win Byts', 'SYN Flag Cnt', 'FIN Flag Cnt', 'Down/Up Ratio', 'Pkt Len Min', 'Bwd Pkts/s', 'Idle Min', 'Idle Mean', 'Flow Duration', 'Bwd Pkt Len Min'], 'Adv sample 189': ['Init Bwd Win Byts', 'SYN Flag Cnt', 'Pkt Len Min', 'FIN Flag Cnt', 'Flow IAT Max', 'Idle Min', 'Fwd IAT Max', 'ACK Flag Cnt', 'Flow Duration', 'Fwd Pkt Len Max'], 'Adv sample 190': ['Bwd Pkts/s', 'Init Bwd Win Byts', 'Down/Up Ratio', 'Pkt Len Std', 'Pkt Len Min', 'Fwd IAT Max', 'Bwd Pkt Len Min', 'Idle Min', 'Fwd IAT Tot', 'Pkt Len Max'], 'Adv sample 191': ['ACK Flag Cnt', 'Bwd PSH Flags', 'Init Bwd Win Byts', 'Bwd IAT Std', 'Fwd IAT Min', 'Bwd IAT Max', 'Flow IAT Mean', 'Bwd IAT Mean', 'Bwd IAT Tot', 'Pkt Size Avg'], 'Adv sample 192': ['Init Bwd Win Byts', 'Bwd Pkts/s', 'Down/Up Ratio', 'Pkt Len Min', 'Flow Duration', 'Pkt Len Mean', 'Pkt Len Max', 'Fwd IAT Max', 'Fwd Pkt Len Std', 'Flow IAT Max'], 'Adv sample 193': ['Init Bwd Win Byts', 'Down/Up Ratio', 'Pkt Len Min', 'Flow Duration', 'Fwd IAT Max', 'Flow IAT Max', 'Pkt Len Std', 'Pkt Len Max', 'Pkt Len Mean', 'Pkt Size Avg'], 'Adv sample 194': ['ACK Flag Cnt', 'Bwd IAT Std', 'Bwd IAT Tot', 'Bwd IAT Max', 'Init Bwd Win Byts', 'Bwd IAT Mean', 'Flow IAT Mean', 'Fwd Header Len', 'Bwd IAT Min', 'Active Max'], 'Adv sample 195': ['Init Bwd Win Byts', 'Down/Up Ratio', 'Pkt Len Min', 'Flow Duration', 'Fwd IAT Max', 'Flow IAT Std', 'Flow IAT Max', 'Pkt Len Max', 'Pkt Len Mean', 'Pkt Len Std'], 'Adv sample 196': ['Init Bwd Win Byts', 'Down/Up Ratio', 'Pkt Len Min', 'Flow Duration', 'Pkt Len Max', 'Fwd IAT Max', 'Flow IAT Max', 'Flow IAT Std', 'Pkt Len Std', 'Fwd Pkt Len Std'], 'Adv sample 197': ['Init Bwd Win Byts', 'SYN Flag Cnt', 'Pkt Len Min', 'Idle Min', 'FIN Flag Cnt', 'Flow Duration', 'Flow IAT Max', 'Fwd IAT Max', 'ACK Flag Cnt', 'Pkt Len Max'], 'Adv sample 198': ['ACK Flag Cnt', 'Bwd IAT Std', 'Init Bwd Win Byts', 'Bwd IAT Max', 'Bwd IAT Tot', 'Flow IAT Mean', 'Pkt Len Std', 'Bwd Pkt Len Min', 'Pkt Size Avg', 'Bwd Pkt Len Std'], 'Adv sample 199': ['Bwd Pkts/s', 'Init Bwd Win Byts', 'Down/Up Ratio', 'Pkt Len Min', 'Pkt Len Std', 'Fwd Pkt Len Max', 'Pkt Len Max', 'Fwd Act Data Pkts', 'Fwd IAT Std', 'FIN Flag Cnt'], 'Adv sample 200': ['Bwd Pkts/s', 'Init Bwd Win Byts', 'Down/Up Ratio', 'Pkt Len Min', 'Bwd Pkt Len Min', 'Flow Duration', 'Fwd IAT Max', 'Fwd IAT Std', 'Pkt Len Std', 'Tot Fwd Pkts'], 'Adv sample 201': ['Init Bwd Win Byts', 'Down/Up Ratio', 'Pkt Len Min', 'Flow Duration', 'Pkt Len Std', 'Flow IAT Std', 'Fwd IAT Max', 'Flow IAT Max', 'Pkt Len Max', 'Fwd Pkt Len Std'], 'Adv sample 202': ['Init Bwd Win Byts', 'SYN Flag Cnt', 'Idle Min', 'Pkt Len Min', 'Flow Pkts/s', 'Idle Max', 'Idle Mean', 'PSH Flag Cnt', 'Pkt Len Max', 'Fwd Pkt Len Max'], 'Adv sample 203': ['Init Bwd Win Byts', 'Flow Pkts/s', 'FIN Flag Cnt', 'Down/Up Ratio', 'Bwd Pkts/s', 'Pkt Len Min', 'Pkt Len Max', 'Pkt Size Avg', 'Fwd Pkt Len Mean', 'Fwd IAT Mean'], 'Adv sample 204': ['Bwd Pkts/s', 'Init Bwd Win Byts', 'Down/Up Ratio', 'Pkt Len Min', 'Pkt Len Max', 'Pkt Len Mean', 'Flow Duration', 'Fwd IAT Min', 'Flow IAT Max', 'Fwd IAT Tot'], 'Adv sample 205': ['Init Bwd Win Byts', 'Bwd Pkts/s', 'Down/Up Ratio', 'Pkt Len Min', 'Flow Duration', 'Fwd IAT Max', 'Pkt Size Avg', 'Pkt Len Std', 'Bwd Pkt Len Min', 'Idle Mean'], 'Adv sample 206': ['Init Bwd Win Byts', 'Down/Up Ratio', 'Pkt Len Min', 'Flow Duration', 'Pkt Len Max', 'Flow IAT Std', 'Fwd IAT Max', 'Pkt Len Mean', 'Pkt Len Std', 'Flow IAT Max'], 'Adv sample 207': ['SYN Flag Cnt', 'Init Bwd Win Byts', 'Idle Min', 'Idle Max', 'Idle Mean', 'Flow Pkts/s', 'Pkt Len Min', 'Fwd IAT Std', 'Bwd IAT Min', 'ACK Flag Cnt'], 'Adv sample 208': ['Init Bwd Win Byts', 'Down/Up Ratio', 'Pkt Len Min', 'Flow Duration', 'Flow IAT Max', 'Fwd IAT Max', 'Fwd IAT Std', 'Pkt Len Max', 'Fwd IAT Tot', 'PSH Flag Cnt'], 'Adv sample 209': ['SYN Flag Cnt', 'Init Bwd Win Byts', 'Idle Min', 'Pkt Len Min', 'Bwd Pkt Len Min', 'Flow Pkts/s', 'ACK Flag Cnt', 'Idle Max', 'Bwd Header Len', 'Flow Duration'], 'Adv sample 210': ['Bwd Pkts/s', 'Init Bwd Win Byts', 'Down/Up Ratio', 'Flow IAT Max', 'Pkt Len Max', 'Fwd IAT Max', 'Flow Duration', 'Pkt Len Min', 'Fwd IAT Tot', 'Bwd Pkt Len Min'], 'Adv sample 211': ['SYN Flag Cnt', 'Flow IAT Mean', 'Idle Std', 'Active Min', 'Active Max', 'Bwd IAT Tot', 'Active Mean', 'Idle Max', 'Flow IAT Max', 'Idle Min'], 'Adv sample 212': ['Bwd Pkts/s', 'Init Bwd Win Byts', 'Down/Up Ratio', 'Pkt Len Min', 'PSH Flag Cnt', 'Pkt Len Max', 'Pkt Len Std', 'Bwd Pkt Len Min', 'Pkt Len Mean', 'Fwd IAT Std'], 'Adv sample 213': ['Bwd Pkts/s', 'Init Bwd Win Byts', 'Down/Up Ratio', 'Pkt Len Min', 'Bwd Pkt Len Min', 'Flow Duration', 'Pkt Len Std', 'Fwd IAT Max', 'Fwd Pkt Len Max', 'Fwd Pkt Len Std'], 'Adv sample 214': ['Init Bwd Win Byts', 'Flow Pkts/s', 'FIN Flag Cnt', 'Down/Up Ratio', 'Bwd Pkts/s', 'Pkt Len Std', 'Pkt Len Mean', 'Fwd Pkt Len Mean', 'Pkt Len Max', 'Bwd Pkt Len Min'], 'Adv sample 215': ['Init Bwd Win Byts', 'SYN Flag Cnt', 'Pkt Len Min', 'Idle Min', 'Flow Pkts/s', 'Pkt Len Mean', 'Idle Max', 'Pkt Len Max', 'Pkt Len Std', 'Idle Mean'], 'Adv sample 216': ['Init Bwd Win Byts', 'Down/Up Ratio', 'Pkt Len Min', 'Flow Duration', 'Flow IAT Std', 'Fwd IAT Max', 'Flow IAT Max', 'Pkt Size Avg', 'Fwd IAT Std', 'Pkt Len Max'], 'Adv sample 217': ['Init Bwd Win Byts', 'URG Flag Cnt', 'FIN Flag Cnt', 'Down/Up Ratio', 'Bwd URG Flags', 'Bwd PSH Flags', 'Pkt Len Min', 'Fwd Seg Size Avg', 'Bwd Pkt Len Std', 'Pkt Len Mean'], 'Adv sample 218': ['Init Bwd Win Byts', 'Bwd Pkts/s', 'Down/Up Ratio', 'Pkt Len Min', 'Fwd IAT Max', 'Flow Duration', 'Pkt Len Std', 'Pkt Len Max', 'Bwd Pkt Len Min', 'Idle Mean'], 'Adv sample 219': ['FIN Flag Cnt', 'Flow Pkts/s', 'Init Bwd Win Byts', 'Down/Up Ratio', 'PSH Flag Cnt', 'Subflow Bwd Pkts', 'Flow Duration', 'Tot Fwd Pkts', 'Tot Bwd Pkts', 'TotLen Fwd Pkts'], 'Adv sample 220': ['Init Bwd Win Byts', 'Down/Up Ratio', 'Pkt Len Min', 'Flow Duration', 'Fwd IAT Max', 'Fwd IAT Std', 'Pkt Len Max', 'Flow IAT Max', 'Bwd Pkts/s', 'Fwd Pkt Len Max'], 'Adv sample 221': ['Init Bwd Win Byts', 'Down/Up Ratio', 'Pkt Len Min', 'Flow Duration', 'Fwd IAT Max', 'Pkt Len Max', 'Fwd IAT Std', 'Flow IAT Std', 'Pkt Len Std', 'Flow IAT Max'], 'Adv sample 222': ['Bwd Pkts/s', 'Init Bwd Win Byts', 'Down/Up Ratio', 'Pkt Len Min', 'Bwd Pkt Len Min', 'Flow Duration', 'Fwd IAT Max', 'Pkt Len Max', 'Flow IAT Std', 'Fwd Pkt Len Std'], 'Adv sample 223': ['Bwd Pkts/s', 'Init Bwd Win Byts', 'Down/Up Ratio', 'Pkt Len Min', 'Fwd IAT Max', 'Flow Duration', 'Fwd IAT Tot', 'Bwd Pkt Len Min', 'Flow IAT Min', 'PSH Flag Cnt'], 'Adv sample 224': ['SYN Flag Cnt', 'Bwd IAT Std', 'Bwd IAT Max', 'Init Bwd Win Byts', 'Idle Std', 'Bwd IAT Mean', 'Bwd IAT Tot', 'Flow IAT Mean', 'Active Min', 'Active Max'], 'Adv sample 225': ['SYN Flag Cnt', 'Init Bwd Win Byts', 'Subflow Bwd Byts', 'Idle Mean', 'PSH Flag Cnt', 'Bwd Pkt Len Max', 'Flow Duration', 'Tot Fwd Pkts', 'Tot Bwd Pkts', 'TotLen Fwd Pkts'], 'Adv sample 226': ['Init Bwd Win Byts', 'Down/Up Ratio', 'Pkt Len Min', 'Flow Duration', 'Fwd IAT Max', 'Pkt Len Max', 'Pkt Len Mean', 'Pkt Len Std', 'Fwd IAT Std', 'Flow IAT Std'], 'Adv sample 227': ['Init Bwd Win Byts', 'Down/Up Ratio', 'Pkt Len Min', 'Flow Duration', 'Flow IAT Max', 'Fwd IAT Max', 'Pkt Len Max', 'Flow Pkts/s', 'Pkt Len Std', 'Flow IAT Std'], 'Adv sample 228': ['Bwd Pkts/s', 'Init Bwd Win Byts', 'Down/Up Ratio', 'Pkt Len Min', 'Idle Min', 'Fwd IAT Max', 'Pkt Size Avg', 'Pkt Len Mean', 'Flow IAT Max', 'Pkt Len Std'], 'Adv sample 229': ['Init Bwd Win Byts', 'Down/Up Ratio', 'Pkt Len Min', 'Flow Duration', 'Fwd IAT Max', 'Flow IAT Std', 'FIN Flag Cnt', 'Fwd Seg Size Avg', 'Pkt Len Max', 'Flow IAT Max'], 'Adv sample 230': ['Init Bwd Win Byts', 'Down/Up Ratio', 'Pkt Len Min', 'Flow Duration', 'Fwd IAT Max', 'Flow IAT Std', 'Pkt Len Max', 'Flow IAT Max', 'Fwd IAT Std', 'Fwd IAT Tot'], 'Adv sample 231': ['ACK Flag Cnt', 'Bwd IAT Std', 'Init Bwd Win Byts', 'Bwd IAT Tot', 'Bwd IAT Max', 'Fwd IAT Std', 'Flow IAT Mean', 'Bwd Seg Size Avg', 'Pkt Len Max', 'Subflow Bwd Pkts'], 'Adv sample 232': ['Init Bwd Win Byts', 'Down/Up Ratio', 'Pkt Len Min', 'Flow Duration', 'Fwd IAT Max', 'Pkt Len Max', 'Flow IAT Std', 'FIN Flag Cnt', 'Pkt Len Std', 'PSH Flag Cnt'], 'Adv sample 233': ['Init Bwd Win Byts', 'Down/Up Ratio', 'Pkt Len Min', 'Flow Duration', 'Fwd IAT Max', 'Pkt Len Max', 'Pkt Len Std', 'Flow IAT Std', 'Flow IAT Max', 'Pkt Len Mean'], 'Adv sample 234': ['FIN Flag Cnt', 'Flow Pkts/s', 'Init Bwd Win Byts', 'Down/Up Ratio', 'TotLen Fwd Pkts', 'Tot Fwd Pkts', 'Bwd Pkt Len Std', 'Bwd Pkt Len Max', 'Bwd Pkt Len Mean', 'Fwd Act Data Pkts'], 'Adv sample 235': ['Bwd Pkts/s', 'Init Bwd Win Byts', 'Down/Up Ratio', 'Pkt Len Min', 'Flow Duration', 'Pkt Len Std', 'Bwd Pkt Len Min', 'Fwd IAT Max', 'Idle Min', 'Fwd Seg Size Avg'], 'Adv sample 236': ['Init Bwd Win Byts', 'SYN Flag Cnt', 'Pkt Len Min', 'Idle Min', 'FIN Flag Cnt', 'Idle Mean', 'Fwd IAT Max', 'Flow IAT Max', 'Down/Up Ratio', 'Idle Max'], 'Adv sample 237': ['Init Bwd Win Byts', 'Down/Up Ratio', 'Pkt Len Min', 'Flow Duration', 'Fwd IAT Max', 'Pkt Len Std', 'PSH Flag Cnt', 'Fwd Pkt Len Std', 'Pkt Len Max', 'Pkt Size Avg'], 'Adv sample 238': ['FIN Flag Cnt', 'Init Bwd Win Byts', 'Flow Pkts/s', 'Down/Up Ratio', 'Bwd IAT Max', 'Idle Max', 'Pkt Len Min', 'Active Max', 'Tot Bwd Pkts', 'Bwd Pkt Len Max'], 'Adv sample 239': ['SYN Flag Cnt', 'Init Bwd Win Byts', 'Bwd Pkt Len Max', 'Flow Duration', 'Tot Fwd Pkts', 'Tot Bwd Pkts', 'TotLen Fwd Pkts', 'TotLen Bwd Pkts', 'Fwd Pkt Len Min', 'Bwd Pkt Len Min'], 'Adv sample 240': ['SYN Flag Cnt', 'Init Bwd Win Byts', 'Idle Max', 'Fwd IAT Mean', 'Tot Bwd Pkts', 'Bwd Header Len', 'Fwd IAT Std', 'Pkt Len Var', 'Bwd Pkt Len Std', 'Fwd Pkt Len Min'], 'Adv sample 241': ['Init Bwd Win Byts', 'Down/Up Ratio', 'Pkt Len Min', 'Flow Duration', 'Fwd IAT Max', 'Pkt Len Max', 'Flow IAT Max', 'Flow IAT Std', 'Pkt Size Avg', 'Pkt Len Std'], 'Adv sample 242': ['SYN Flag Cnt', 'Init Bwd Win Byts', 'Fwd IAT Max', 'Subflow Bwd Byts', 'Flow Duration', 'Tot Fwd Pkts', 'TotLen Fwd Pkts', 'TotLen Bwd Pkts', 'Fwd Pkt Len Min', 'Bwd Pkt Len Max'], 'Adv sample 243': ['Bwd Pkts/s', 'Init Bwd Win Byts', 'Down/Up Ratio', 'Pkt Len Mean', 'Pkt Len Min', 'Pkt Len Max', 'Bwd Pkt Len Min', 'Fwd IAT Std', 'Pkt Len Std', 'Fwd Seg Size Avg'], 'Adv sample 244': ['Init Bwd Win Byts', 'Down/Up Ratio', 'Pkt Len Min', 'Flow Duration', 'Fwd IAT Max', 'Pkt Len Max', 'Flow IAT Std', 'Fwd IAT Std', 'PSH Flag Cnt', 'Pkt Size Avg'], 'Adv sample 245': ['Bwd Pkts/s', 'Init Bwd Win Byts', 'Down/Up Ratio', 'Pkt Len Min', 'Flow Duration', 'Bwd Pkt Len Min', 'Flow IAT Max', 'Pkt Len Mean', 'Pkt Len Max', 'Fwd Act Data Pkts'], 'Adv sample 246': ['Bwd Pkts/s', 'Init Bwd Win Byts', 'Down/Up Ratio', 'Pkt Len Min', 'Fwd IAT Max', 'Flow Duration', 'Pkt Len Std', 'Idle Mean', 'Idle Max', 'PSH Flag Cnt'], 'Adv sample 247': ['Init Bwd Win Byts', 'Down/Up Ratio', 'Pkt Len Min', 'Flow Duration', 'Fwd IAT Max', 'Pkt Len Max', 'Pkt Len Std', 'Fwd IAT Std', 'Flow IAT Max', 'Pkt Len Mean'], 'Adv sample 248': ['Bwd Pkts/s', 'Init Bwd Win Byts', 'Down/Up Ratio', 'Pkt Len Min', 'Flow Duration', 'Bwd Pkt Len Min', 'Pkt Len Max', 'Idle Min', 'Fwd IAT Max', 'Fwd IAT Std'], 'Adv sample 249': ['Bwd Pkts/s', 'Init Bwd Win Byts', 'Down/Up Ratio', 'Pkt Len Min', 'Pkt Size Avg', 'Fwd IAT Max', 'Flow Duration', 'Pkt Len Mean', 'Fwd IAT Std', 'Pkt Len Max'], 'Adv sample 250': ['Init Bwd Win Byts', 'Down/Up Ratio', 'Pkt Len Min', 'Flow Duration', 'Fwd IAT Max', 'Flow IAT Max', 'Flow Pkts/s', 'Pkt Len Max', 'PSH Flag Cnt', 'Flow IAT Std'], 'Adv sample 251': ['Init Bwd Win Byts', 'SYN Flag Cnt', 'FIN Flag Cnt', 'Pkt Len Min', 'Fwd IAT Max', 'Flow IAT Max', 'Flow Duration', 'ACK Flag Cnt', 'Idle Mean', 'Idle Max'], 'Adv sample 252': ['Bwd PSH Flags', 'Init Bwd Win Byts', 'Down/Up Ratio', 'Pkt Len Max', 'ACK Flag Cnt', 'Pkt Len Std', 'Pkt Len Mean', 'Pkt Size Avg', 'Fwd Pkt Len Max', 'Fwd IAT Tot'], 'Adv sample 253': ['Init Bwd Win Byts', 'Pkt Len Std', 'Pkt Len Max', 'Pkt Size Avg', 'Pkt Len Mean', 'Fwd Pkt Len Max', 'Fwd Seg Size Avg', 'Down/Up Ratio', 'Flow Pkts/s', 'Fwd Pkt Len Mean'], 'Adv sample 254': ['Down/Up Ratio', 'Init Bwd Win Byts', 'Pkt Len Min', 'Pkt Len Max', 'Flow Duration', 'Pkt Len Std', 'Fwd IAT Max', 'Fwd Pkt Len Max', 'Fwd Seg Size Avg', 'Flow IAT Std'], 'Adv sample 255': ['Init Bwd Win Byts', 'Down/Up Ratio', 'Pkt Len Min', 'Flow Duration', 'Fwd IAT Max', 'Pkt Len Std', 'Pkt Len Max', 'PSH Flag Cnt', 'Flow IAT Max', 'Flow IAT Std'], 'Adv sample 256': ['Init Bwd Win Byts', 'Down/Up Ratio', 'Pkt Len Min', 'Flow Duration', 'Pkt Len Max', 'Pkt Len Std', 'Pkt Len Mean', 'Flow IAT Max', 'Fwd IAT Max', 'Flow IAT Std'], 'Adv sample 257': ['ACK Flag Cnt', 'Bwd IAT Std', 'Init Bwd Win Byts', 'Bwd IAT Tot', 'Bwd IAT Max', 'Flow IAT Mean', 'Bwd IAT Mean', 'Bwd Seg Size Avg', 'Fwd IAT Min', 'Active Min'], 'Adv sample 258': ['Init Bwd Win Byts', 'Down/Up Ratio', 'Pkt Len Min', 'Flow Duration', 'Fwd IAT Max', 'Pkt Len Max', 'Flow IAT Max', 'Pkt Len Std', 'Flow IAT Std', 'Fwd IAT Tot'], 'Adv sample 259': ['ACK Flag Cnt', 'Bwd IAT Std', 'Bwd IAT Tot', 'Bwd IAT Max', 'Init Bwd Win Byts', 'Flow IAT Mean', 'Bwd IAT Mean', 'Fwd IAT Mean', 'Tot Fwd Pkts', 'Tot Bwd Pkts'], 'Adv sample 260': ['Init Bwd Win Byts', 'Down/Up Ratio', 'Pkt Len Min', 'Flow Duration', 'Fwd IAT Max', 'Pkt Len Max', 'Flow IAT Std', 'Pkt Len Std', 'Flow IAT Max', 'FIN Flag Cnt'], 'Adv sample 261': ['Down/Up Ratio', 'Init Bwd Win Byts', 'Pkt Len Min', 'Flow Duration', 'Fwd IAT Max', 'Flow IAT Max', 'Pkt Len Max', 'Pkt Len Std', 'Flow Pkts/s', 'Fwd IAT Std'], 'Adv sample 262': ['FIN Flag Cnt', 'Flow Pkts/s', 'Init Bwd Win Byts', 'Down/Up Ratio', 'Pkt Len Min', 'Fwd Pkts/s', 'Subflow Fwd Pkts', 'Flow Duration', 'Tot Bwd Pkts', 'Fwd Pkt Len Min'], 'Adv sample 263': ['FIN Flag Cnt', 'Flow Pkts/s', 'Init Bwd Win Byts', 'Pkt Len Min', 'Down/Up Ratio', 'Fwd IAT Tot', 'Subflow Bwd Pkts', 'Idle Mean', 'Tot Fwd Pkts', 'Tot Bwd Pkts'], 'Adv sample 264': ['Bwd PSH Flags', 'Init Bwd Win Byts', 'Down/Up Ratio', 'Pkt Len Max', 'ACK Flag Cnt', 'Pkt Len Mean', 'Pkt Len Std', 'Pkt Size Avg', 'Pkt Len Min', 'Fwd Pkt Len Std'], 'Adv sample 265': ['Init Bwd Win Byts', 'Flow Pkts/s', 'FIN Flag Cnt', 'Bwd Pkts/s', 'Down/Up Ratio', 'Pkt Len Std', 'Pkt Len Min', 'Pkt Size Avg', 'Pkt Len Max', 'Fwd Pkt Len Max'], 'Adv sample 266': ['Init Bwd Win Byts', 'Pkt Len Max', 'Pkt Len Std', 'Pkt Size Avg', 'Pkt Len Mean', 'Fwd Pkt Len Mean', 'Fwd Pkt Len Max', 'Pkt Len Min', 'Fwd Pkt Len Std', 'Down/Up Ratio'], 'Adv sample 267': ['SYN Flag Cnt', 'Init Bwd Win Byts', 'Idle Max', 'ACK Flag Cnt', 'Idle Min', 'Idle Mean', 'Bwd Pkt Len Max', 'Flow IAT Mean', 'Flow IAT Max', 'Pkt Len Var'], 'Adv sample 268': ['Init Bwd Win Byts', 'Down/Up Ratio', 'Pkt Len Min', 'Flow Duration', 'Fwd IAT Max', 'Flow IAT Std', 'Pkt Len Max', 'Pkt Len Std', 'Flow IAT Max', 'Idle Mean'], 'Adv sample 269': ['Down/Up Ratio', 'Init Bwd Win Byts', 'Pkt Len Min', 'Pkt Len Max', 'Fwd Pkt Len Max', 'Flow Duration', 'Pkt Len Std', 'Fwd IAT Max', 'Pkt Len Mean', 'Fwd Pkt Len Mean'], 'Adv sample 270': ['Init Bwd Win Byts', 'Pkt Len Max', 'Pkt Len Std', 'Fwd Pkt Len Max', 'Pkt Size Avg', 'Pkt Len Mean', 'Down/Up Ratio', 'Flow Pkts/s', 'Fwd Seg Size Avg', 'Pkt Len Min'], 'Adv sample 271': ['Init Bwd Win Byts', 'URG Flag Cnt', 'FIN Flag Cnt', 'Down/Up Ratio', 'Bwd URG Flags', 'Bwd PSH Flags', 'Pkt Size Avg', 'Fwd IAT Tot', 'Idle Mean', 'Pkt Len Std'], 'Adv sample 272': ['Init Bwd Win Byts', 'Down/Up Ratio', 'Pkt Len Min', 'Flow Duration', 'Flow IAT Std', 'Fwd IAT Max', 'Pkt Len Max', 'Pkt Len Std', 'Pkt Len Mean', 'Pkt Size Avg'], 'Adv sample 273': ['Init Bwd Win Byts', 'Flow Pkts/s', 'FIN Flag Cnt', 'Bwd Pkts/s', 'Down/Up Ratio', 'Pkt Size Avg', 'Fwd IAT Tot', 'Subflow Bwd Byts', 'Bwd Pkt Len Min', 'Pkt Len Std'], 'Adv sample 274': ['Bwd Pkts/s', 'Init Bwd Win Byts', 'Down/Up Ratio', 'Pkt Len Min', 'Flow Duration', 'Bwd Pkt Len Min', 'Pkt Len Max', 'Pkt Len Std', 'Fwd IAT Max', 'Fwd Pkt Len Mean'], 'Adv sample 275': ['SYN Flag Cnt', 'Init Bwd Win Byts', 'Fwd IAT Max', 'Bwd Pkt Len Std', 'Bwd Pkt Len Max', 'Flow IAT Max', 'Idle Mean', 'TotLen Fwd Pkts', 'Active Max', 'Fwd IAT Tot'], 'Adv sample 276': ['SYN Flag Cnt', 'Init Bwd Win Byts', 'Idle Min', 'Pkt Len Min', 'Idle Max', 'ACK Flag Cnt', 'Idle Mean', 'Bwd Pkt Len Std', 'Fwd IAT Max', 'Bwd Pkt Len Mean'], 'Adv sample 277': ['Init Bwd Win Byts', 'Pkt Len Max', 'Pkt Len Std', 'Pkt Len Mean', 'Pkt Size Avg', 'Fwd Pkt Len Mean', 'Flow Pkts/s', 'Fwd Seg Size Avg', 'Fwd Pkt Len Std', 'Fwd Pkt Len Max'], 'Adv sample 278': ['Init Bwd Win Byts', 'SYN Flag Cnt', 'Pkt Len Min', 'Idle Min', 'Idle Mean', 'Fwd Pkt Len Max', 'Pkt Len Std', 'Flow IAT Max', 'Pkt Len Max', 'Fwd IAT Max'], 'Adv sample 279': ['Init Bwd Win Byts', 'Down/Up Ratio', 'Pkt Len Min', 'Flow Duration', 'Flow IAT Std', 'Fwd IAT Max', 'Pkt Len Max', 'PSH Flag Cnt', 'Flow IAT Max', 'Fwd Pkt Len Max'], 'Adv sample 280': ['SYN Flag Cnt', 'Active Min', 'Flow IAT Mean', 'Active Mean', 'Active Max', 'Flow IAT Max', 'Down/Up Ratio', 'Bwd Seg Size Avg', 'Idle Std', 'Idle Max'], 'Adv sample 281': ['Init Bwd Win Byts', 'Down/Up Ratio', 'Pkt Len Min', 'Flow Duration', 'Pkt Len Max', 'Pkt Len Std', 'Flow IAT Max', 'Pkt Len Mean', 'Flow IAT Std', 'Fwd IAT Max'], 'Adv sample 282': ['Bwd Pkts/s', 'Init Bwd Win Byts', 'Down/Up Ratio', 'Pkt Len Min', 'Pkt Len Max', 'Flow Duration', 'Pkt Size Avg', 'Bwd Pkt Len Min', 'Fwd IAT Std', 'Fwd Pkt Len Std'], 'Adv sample 283': ['Bwd Pkts/s', 'Init Bwd Win Byts', 'Down/Up Ratio', 'Pkt Len Min', 'Pkt Len Max', 'Bwd Pkt Len Min', 'Idle Min', 'Flow Duration', 'Fwd Seg Size Avg', 'Idle Mean'], 'Adv sample 284': ['Init Bwd Win Byts', 'Down/Up Ratio', 'Pkt Len Min', 'Flow Duration', 'Fwd IAT Max', 'Flow IAT Std', 'Pkt Len Max', 'Flow IAT Max', 'Fwd Pkt Len Std', 'Pkt Size Avg'], 'Adv sample 285': ['Init Bwd Win Byts', 'Down/Up Ratio', 'Pkt Len Min', 'Flow Duration', 'Flow IAT Std', 'Flow IAT Max', 'Pkt Len Max', 'Fwd IAT Max', 'Pkt Len Std', 'PSH Flag Cnt'], 'Adv sample 286': ['Init Bwd Win Byts', 'Down/Up Ratio', 'Pkt Len Min', 'Flow Duration', 'Flow IAT Std', 'Fwd IAT Max', 'Pkt Len Max', 'Fwd Pkt Len Max', 'Pkt Len Mean', 'Flow IAT Max'], 'Adv sample 287': ['SYN Flag Cnt', 'Init Bwd Win Byts', 'Idle Mean', 'Idle Max', 'Idle Min', 'Pkt Len Min', 'Bwd Pkt Len Min', 'Flow Pkts/s', 'TotLen Fwd Pkts', 'Bwd Seg Size Avg'], 'Adv sample 288': ['Bwd Pkts/s', 'Init Bwd Win Byts', 'Down/Up Ratio', 'Pkt Len Min', 'Pkt Len Std', 'Fwd IAT Tot', 'Fwd IAT Mean', 'Flow Duration', 'Pkt Len Max', 'Fwd Pkt Len Mean'], 'Adv sample 289': ['Init Bwd Win Byts', 'URG Flag Cnt', 'FIN Flag Cnt', 'Down/Up Ratio', 'Bwd URG Flags', 'Bwd PSH Flags', 'Pkt Len Std', 'Idle Mean', 'Bwd Seg Size Avg', 'Fwd Pkt Len Max'], 'Adv sample 290': ['Init Bwd Win Byts', 'Pkt Len Std', 'Pkt Len Max', 'Pkt Len Mean', 'Pkt Size Avg', 'Fwd Pkt Len Max', 'Fwd Pkt Len Mean', 'Fwd Seg Size Avg', 'Fwd Pkt Len Std', 'Flow Pkts/s'], 'Adv sample 291': ['Init Bwd Win Byts', 'Pkt Len Max', 'Pkt Len Std', 'Pkt Size Avg', 'Pkt Len Mean', 'Down/Up Ratio', 'Pkt Len Min', 'Fwd Pkt Len Max', 'Fwd Pkt Len Std', 'Fwd Pkt Len Mean'], 'Adv sample 292': ['SYN Flag Cnt', 'Init Bwd Win Byts', 'Idle Max', 'Idle Min', 'Idle Mean', 'ACK Flag Cnt', 'Pkt Len Min', 'Bwd Pkt Len Max', 'Flow IAT Max', 'Fwd IAT Max'], 'Adv sample 293': ['SYN Flag Cnt', 'Init Bwd Win Byts', 'ACK Flag Cnt', 'Idle Max', 'Idle Min', 'Pkt Len Var', 'Bwd Pkt Len Std', 'Bwd Seg Size Avg', 'Fwd IAT Max', 'Active Std'], 'Adv sample 294': ['Bwd PSH Flags', 'Init Bwd Win Byts', 'Down/Up Ratio', 'Pkt Len Max', 'Pkt Len Std', 'ACK Flag Cnt', 'Pkt Size Avg', 'Pkt Len Mean', 'Fwd Pkt Len Max', 'Fwd Act Data Pkts'], 'Adv sample 295': ['Init Bwd Win Byts', 'Down/Up Ratio', 'Pkt Len Min', 'Flow Duration', 'Fwd IAT Max', 'Flow IAT Std', 'Pkt Len Max', 'Flow IAT Max', 'Pkt Len Std', 'Fwd IAT Std'], 'Adv sample 296': ['Init Bwd Win Byts', 'Pkt Len Std', 'Pkt Len Max', 'Pkt Len Mean', 'Fwd Pkt Len Max', 'Flow Pkts/s', 'Fwd Seg Size Avg', 'Pkt Size Avg', 'Fwd Pkt Len Mean', 'Fwd Pkt Len Std'], 'Adv sample 297': ['Init Bwd Win Byts', 'Down/Up Ratio', 'Pkt Len Min', 'Flow Duration', 'Flow IAT Std', 'Fwd IAT Max', 'Pkt Len Max', 'Fwd IAT Std', 'Flow IAT Max', 'Fwd Pkt Len Std'], 'Adv sample 298': ['ACK Flag Cnt', 'Bwd IAT Std', 'Init Bwd Win Byts', 'Bwd IAT Max', 'Bwd IAT Tot', 'Bwd IAT Mean', 'Flow IAT Mean', 'Tot Fwd Pkts', 'Tot Bwd Pkts', 'TotLen Fwd Pkts'], 'Adv sample 299': ['Init Bwd Win Byts', 'Down/Up Ratio', 'Pkt Len Min', 'Flow Duration', 'Fwd IAT Max', 'Pkt Len Std', 'Flow IAT Std', 'Pkt Len Max', 'Flow IAT Max', 'Fwd Seg Size Avg'], 'Adv sample 300': ['Init Bwd Win Byts', 'SYN Flag Cnt', 'FIN Flag Cnt', 'Pkt Len Min', 'ACK Flag Cnt', 'Flow IAT Max', 'Down/Up Ratio', 'Idle Min', 'Flow Duration', 'Fwd IAT Max'], 'Adv sample 301': ['Init Bwd Win Byts', 'SYN Flag Cnt', 'Pkt Len Min', 'Fwd IAT Max', 'Idle Min', 'PSH Flag Cnt', 'FIN Flag Cnt', 'Flow Duration', 'Idle Max', 'Idle Mean'], 'Adv sample 302': ['FIN Flag Cnt', 'Flow Pkts/s', 'Init Bwd Win Byts', 'Down/Up Ratio', 'Bwd Pkt Len Min', 'Subflow Fwd Byts', 'Pkt Len Min', 'Bwd PSH Flags', 'Subflow Bwd Pkts', 'Fwd IAT Std'], 'Adv sample 303': ['Init Bwd Win Byts', 'Pkt Len Max', 'Pkt Size Avg', 'Pkt Len Std', 'Fwd Pkt Len Std', 'Fwd Pkt Len Max', 'Flow Pkts/s', 'Fwd Seg Size Avg', 'Pkt Len Mean', 'Fwd Pkt Len Mean'], 'Adv sample 304': ['FIN Flag Cnt', 'Flow Pkts/s', 'Init Bwd Win Byts', 'Down/Up Ratio', 'Bwd Pkt Len Max', 'Bwd Header Len', 'Fwd IAT Mean', 'Bwd PSH Flags', 'Flow Byts/s', 'Fwd IAT Max'], 'Adv sample 305': ['Init Bwd Win Byts', 'Pkt Len Max', 'Pkt Size Avg', 'Pkt Len Std', 'Fwd Pkt Len Max', 'Pkt Len Mean', 'Pkt Len Min', 'Flow Pkts/s', 'Fwd Seg Size Avg', 'Fwd IAT Tot'], 'Adv sample 306': ['Init Bwd Win Byts', 'Pkt Len Max', 'Pkt Len Mean', 'Pkt Len Std', 'Down/Up Ratio', 'Pkt Size Avg', 'Fwd Pkt Len Max', 'Pkt Len Min', 'Fwd Pkt Len Std', 'Fwd Pkt Len Mean'], 'Adv sample 307': ['Init Bwd Win Byts', 'Down/Up Ratio', 'Pkt Len Min', 'Flow Duration', 'Pkt Len Max', 'Flow IAT Std', 'Fwd IAT Max', 'PSH Flag Cnt', 'Pkt Len Std', 'Fwd Pkt Len Max'], 'Adv sample 308': ['Bwd Pkts/s', 'Init Bwd Win Byts', 'Down/Up Ratio', 'Pkt Len Min', 'Flow Duration', 'Fwd IAT Tot', 'Fwd Pkt Len Mean', 'Idle Mean', 'Bwd Pkt Len Min', 'Fwd Pkt Len Std'], 'Adv sample 309': ['Init Bwd Win Byts', 'Down/Up Ratio', 'Pkt Len Min', 'Pkt Len Max', 'Fwd IAT Max', 'Flow Duration', 'Pkt Len Mean', 'Pkt Len Std', 'Flow IAT Max', 'Fwd Pkt Len Max'], 'Adv sample 310': ['Init Bwd Win Byts', 'Down/Up Ratio', 'Pkt Len Min', 'Flow Duration', 'Fwd IAT Max', 'Pkt Len Max', 'Pkt Len Std', 'Flow IAT Max', 'Flow IAT Std', 'Pkt Len Mean'], 'Adv sample 311': ['SYN Flag Cnt', 'Init Bwd Win Byts', 'Fwd IAT Tot', 'Flow Duration', 'Idle Max', 'Bwd Seg Size Avg', 'Idle Mean', 'Flow IAT Max', 'Idle Min', 'Bwd Pkt Len Max'], 'Adv sample 312': ['Init Bwd Win Byts', 'Down/Up Ratio', 'Pkt Len Min', 'Flow Duration', 'Fwd IAT Max', 'Pkt Len Std', 'Pkt Len Max', 'Flow IAT Max', 'Flow IAT Std', 'Fwd IAT Std'], 'Adv sample 313': ['SYN Flag Cnt', 'Init Bwd Win Byts', 'Idle Min', 'ACK Flag Cnt', 'Idle Max', 'Bwd Pkt Len Std', 'Flow IAT Min', 'Idle Mean', 'Fwd IAT Max', 'Active Max'], 'Adv sample 314': ['Init Bwd Win Byts', 'Flow Pkts/s', 'FIN Flag Cnt', 'Bwd Pkts/s', 'Down/Up Ratio', 'Pkt Len Min', 'Pkt Len Max', 'Pkt Len Std', 'Fwd IAT Max', 'Fwd IAT Tot'], 'Adv sample 315': ['Init Bwd Win Byts', 'SYN Flag Cnt', 'Pkt Len Min', 'FIN Flag Cnt', 'Idle Min', 'Idle Max', 'Flow IAT Max', 'Flow Duration', 'Fwd IAT Max', 'Pkt Len Std'], 'Adv sample 316': ['ACK Flag Cnt', 'Bwd IAT Std', 'Init Bwd Win Byts', 'Bwd IAT Tot', 'Bwd IAT Max', 'Fwd IAT Tot', 'Flow IAT Mean', 'Bwd PSH Flags', 'Tot Bwd Pkts', 'Subflow Bwd Pkts'], 'Adv sample 317': ['Init Bwd Win Byts', 'Down/Up Ratio', 'Pkt Len Min', 'Flow Duration', 'Fwd IAT Max', 'Flow IAT Std', 'Pkt Len Mean', 'Pkt Len Std', 'Bwd Pkts/s', 'FIN Flag Cnt'], 'Adv sample 318': ['Init Bwd Win Byts', 'Down/Up Ratio', 'Pkt Len Min', 'Flow Duration', 'Flow IAT Max', 'Fwd IAT Max', 'Flow IAT Std', 'Pkt Len Max', 'PSH Flag Cnt', 'Fwd Pkt Len Std'], 'Adv sample 319': ['Init Bwd Win Byts', 'Down/Up Ratio', 'Pkt Len Min', 'Flow Duration', 'Flow IAT Std', 'Pkt Len Max', 'Fwd IAT Max', 'Flow IAT Max', 'Fwd Seg Size Avg', 'Fwd Pkt Len Max'], 'Adv sample 320': ['Init Bwd Win Byts', 'Down/Up Ratio', 'Pkt Len Min', 'Flow Duration', 'Fwd IAT Max', 'Flow IAT Std', 'Pkt Len Max', 'FIN Flag Cnt', 'Flow IAT Max', 'Fwd IAT Std'], 'Adv sample 321': ['Init Bwd Win Byts', 'Down/Up Ratio', 'Pkt Len Min', 'Flow Duration', 'Fwd IAT Max', 'Pkt Len Std', 'Pkt Len Max', 'Flow IAT Max', 'Fwd IAT Std', 'Pkt Len Mean'], 'Adv sample 322': ['Init Bwd Win Byts', 'Down/Up Ratio', 'Pkt Len Min', 'Flow Duration', 'Fwd IAT Max', 'Flow IAT Max', 'Pkt Len Max', 'Flow IAT Std', 'Pkt Size Avg', 'Flow Pkts/s'], 'Adv sample 323': ['Init Bwd Win Byts', 'Down/Up Ratio', 'Pkt Len Min', 'Flow Duration', 'Fwd IAT Max', 'Flow IAT Std', 'Flow IAT Max', 'Pkt Len Max', 'Pkt Len Std', 'Fwd IAT Std'], 'Adv sample 324': ['Down/Up Ratio', 'Init Bwd Win Byts', 'Pkt Len Min', 'Flow Duration', 'Pkt Len Max', 'Fwd IAT Max', 'Flow IAT Max', 'Pkt Len Std', 'Flow Pkts/s', 'Fwd IAT Std'], 'Adv sample 325': ['Init Bwd Win Byts', 'Pkt Len Mean', 'Pkt Len Std', 'Pkt Size Avg', 'Pkt Len Max', 'Fwd Pkt Len Mean', 'Fwd Pkt Len Max', 'Pkt Len Min', 'Fwd Pkt Len Std', 'Down/Up Ratio'], 'Adv sample 326': ['Init Bwd Win Byts', 'Flow Pkts/s', 'FIN Flag Cnt', 'Bwd Pkts/s', 'Down/Up Ratio', 'Pkt Len Max', 'Pkt Size Avg', 'Pkt Len Min', 'Fwd Seg Size Avg', 'Pkt Len Mean'], 'Adv sample 327': ['Init Bwd Win Byts', 'Down/Up Ratio', 'Pkt Len Min', 'Flow Duration', 'Fwd IAT Max', 'Flow IAT Max', 'Flow IAT Std', 'Pkt Len Max', 'Pkt Len Std', 'Fwd IAT Tot'], 'Adv sample 328': ['Init Bwd Win Byts', 'SYN Flag Cnt', 'Pkt Len Min', 'FIN Flag Cnt', 'Fwd IAT Max', 'Flow IAT Max', 'Idle Min', 'ACK Flag Cnt', 'Down/Up Ratio', 'Pkt Len Mean'], 'Adv sample 329': ['Bwd Pkts/s', 'Init Bwd Win Byts', 'Down/Up Ratio', 'Pkt Len Min', 'Fwd IAT Tot', 'Idle Min', 'Flow Duration', 'Fwd Pkt Len Std', 'Fwd IAT Min', 'Pkt Len Std'], 'Adv sample 330': ['SYN Flag Cnt', 'Init Bwd Win Byts', 'Idle Min', 'Idle Max', 'Pkt Len Min', 'PSH Flag Cnt', 'ACK Flag Cnt', 'Idle Mean', 'Flow IAT Max', 'Bwd Pkt Len Min'], 'Adv sample 331': ['SYN Flag Cnt', 'Init Bwd Win Byts', 'Idle Min', 'Idle Max', 'Idle Mean', 'Pkt Len Min', 'Flow IAT Max', 'Flow Pkts/s', 'Bwd Header Len', 'Flow Duration'], 'Adv sample 332': ['ACK Flag Cnt', 'Bwd IAT Std', 'Bwd IAT Tot', 'Init Bwd Win Byts', 'Bwd IAT Max', 'Active Std', 'Flow IAT Mean', 'Fwd Pkts/s', 'Subflow Bwd Byts', 'Bwd PSH Flags'], 'Adv sample 333': ['SYN Flag Cnt', 'Init Bwd Win Byts', 'Idle Min', 'Idle Max', 'Flow Duration', 'Pkt Len Min', 'Flow IAT Min', 'Fwd IAT Max', 'Flow Pkts/s', 'PSH Flag Cnt'], 'Adv sample 334': ['Init Bwd Win Byts', 'SYN Flag Cnt', 'Pkt Len Min', 'Idle Min', 'Idle Max', 'Fwd IAT Max', 'Pkt Len Max', 'Pkt Len Std', 'Flow IAT Max', 'Down/Up Ratio'], 'Adv sample 335': ['Init Bwd Win Byts', 'Down/Up Ratio', 'Pkt Len Min', 'Flow Duration', 'Fwd IAT Max', 'Pkt Size Avg', 'Pkt Len Std', 'Flow IAT Max', 'Flow IAT Std', 'Pkt Len Max'], 'Adv sample 336': ['ACK Flag Cnt', 'Bwd IAT Std', 'Bwd IAT Tot', 'Init Bwd Win Byts', 'Bwd IAT Max', 'Bwd IAT Mean', 'Flow IAT Mean', 'Fwd Header Len', 'Flow Byts/s', 'Down/Up Ratio'], 'Adv sample 337': ['ACK Flag Cnt', 'Bwd IAT Std', 'Init Bwd Win Byts', 'Bwd IAT Max', 'Bwd IAT Tot', 'Bwd Pkt Len Min', 'Pkt Len Min', 'Subflow Fwd Byts', 'Flow IAT Mean', 'Bwd PSH Flags'], 'Adv sample 338': ['Init Bwd Win Byts', 'Down/Up Ratio', 'Pkt Len Min', 'Flow Duration', 'Fwd IAT Max', 'Flow IAT Std', 'Pkt Len Mean', 'Pkt Len Max', 'Flow IAT Max', 'Bwd Pkts/s'], 'Adv sample 339': ['Init Bwd Win Byts', 'Down/Up Ratio', 'Pkt Len Min', 'Flow Duration', 'Pkt Len Max', 'Flow IAT Std', 'Fwd IAT Max', 'Pkt Len Std', 'Flow IAT Max', 'PSH Flag Cnt'], 'Adv sample 340': ['SYN Flag Cnt', 'Init Bwd Win Byts', 'Idle Min', 'Idle Max', 'ACK Flag Cnt', 'Flow IAT Max', 'Fwd IAT Std', 'Fwd IAT Min', 'Pkt Len Var', 'Tot Fwd Pkts'], 'Adv sample 341': ['Init Bwd Win Byts', 'Pkt Len Std', 'Pkt Len Max', 'Fwd Pkt Len Max', 'Pkt Len Mean', 'Flow Pkts/s', 'Fwd Pkt Len Std', 'Fwd Seg Size Avg', 'Pkt Size Avg', 'Fwd Pkt Len Mean'], 'Adv sample 342': ['Init Bwd Win Byts', 'Pkt Len Mean', 'Pkt Len Max', 'Fwd Pkt Len Max', 'Pkt Len Std', 'Pkt Size Avg', 'Fwd Pkt Len Std', 'Fwd Pkt Len Mean', 'Fwd Seg Size Avg', 'Pkt Len Min'], 'Adv sample 343': ['Init Bwd Win Byts', 'Down/Up Ratio', 'Pkt Len Min', 'Flow Duration', 'Pkt Len Max', 'Fwd IAT Max', 'Flow IAT Std', 'Fwd IAT Std', 'Flow IAT Max', 'Fwd Pkt Len Max'], 'Adv sample 344': ['Init Bwd Win Byts', 'Down/Up Ratio', 'Pkt Len Min', 'Flow Duration', 'Fwd IAT Max', 'Pkt Len Max', 'Flow IAT Max', 'Bwd Pkts/s', 'Pkt Len Std', 'Flow IAT Std'], 'Adv sample 345': ['Init Bwd Win Byts', 'Down/Up Ratio', 'Pkt Len Min', 'Flow Duration', 'Pkt Len Mean', 'Flow IAT Max', 'Fwd IAT Max', 'Pkt Len Max', 'PSH Flag Cnt', 'Flow IAT Std'], 'Adv sample 346': ['Init Bwd Win Byts', 'SYN Flag Cnt', 'Pkt Len Min', 'Idle Min', 'Idle Mean', 'Pkt Size Avg', 'Fwd IAT Max', 'Flow Pkts/s', 'Flow IAT Max', 'Pkt Len Max'], 'Adv sample 347': ['Bwd PSH Flags', 'Init Bwd Win Byts', 'Pkt Len Max', 'Fwd IAT Tot', 'Bwd Pkt Len Min', 'Bwd Pkt Len Mean', 'Tot Fwd Pkts', 'Fwd IAT Max', 'Pkt Len Std', 'Fwd Pkt Len Max'], 'Adv sample 348': ['Init Bwd Win Byts', 'Down/Up Ratio', 'Pkt Len Min', 'Flow Duration', 'Fwd IAT Max', 'Pkt Len Max', 'Pkt Len Std', 'Flow IAT Std', 'Flow IAT Max', 'Fwd Pkt Len Max'], 'Adv sample 349': ['Bwd Pkts/s', 'Init Bwd Win Byts', 'Down/Up Ratio', 'Pkt Len Min', 'Fwd Seg Size Avg', 'Pkt Size Avg', 'Fwd Pkt Len Max', 'Flow IAT Max', 'Fwd Pkt Len Mean', 'Pkt Len Mean'], 'Adv sample 350': ['Bwd Pkts/s', 'Init Bwd Win Byts', 'Down/Up Ratio', 'Pkt Len Min', 'Bwd Pkt Len Min', 'Fwd IAT Max', 'Pkt Len Max', 'Fwd Pkt Len Std', 'Flow IAT Max', 'Fwd Pkt Len Max'], 'Adv sample 351': ['SYN Flag Cnt', 'Init Bwd Win Byts', 'Flow IAT Max', 'Fwd Header Len', 'PSH Flag Cnt', 'Active Mean', 'Fwd Pkt Len Min', 'Flow Duration', 'Bwd Pkt Len Min', 'Bwd Pkt Len Std'], 'Adv sample 352': ['Init Bwd Win Byts', 'SYN Flag Cnt', 'Pkt Len Min', 'Idle Min', 'Idle Mean', 'Fwd IAT Max', 'Flow IAT Max', 'Idle Max', 'Fwd Pkt Len Max', 'Pkt Len Max'], 'Adv sample 353': ['ACK Flag Cnt', 'Bwd IAT Std', 'Init Bwd Win Byts', 'Bwd IAT Tot', 'Bwd IAT Max', 'Flow IAT Mean', 'Pkt Len Mean', 'Fwd IAT Mean', 'Pkt Size Avg', 'Bwd Pkt Len Std'], 'Adv sample 354': ['Init Bwd Win Byts', 'SYN Flag Cnt', 'FIN Flag Cnt', 'Pkt Len Min', 'Flow IAT Max', 'ACK Flag Cnt', 'PSH Flag Cnt', 'Flow Duration', 'Fwd IAT Max', 'Idle Min'], 'Adv sample 355': ['SYN Flag Cnt', 'Init Bwd Win Byts', 'Bwd Pkt Len Max', 'PSH Flag Cnt', 'Flow Duration', 'Tot Fwd Pkts', 'Tot Bwd Pkts', 'TotLen Fwd Pkts', 'TotLen Bwd Pkts', 'Fwd Pkt Len Min'], 'Adv sample 356': ['Init Bwd Win Byts', 'Down/Up Ratio', 'Pkt Len Min', 'Flow Duration', 'Fwd IAT Max', 'Flow IAT Std', 'Pkt Len Std', 'Flow IAT Max', 'Pkt Len Mean', 'Pkt Len Max'], 'Adv sample 357': ['Init Bwd Win Byts', 'Down/Up Ratio', 'Pkt Len Min', 'Flow Duration', 'Flow IAT Std', 'Fwd IAT Max', 'Pkt Len Max', 'Fwd IAT Std', 'Pkt Len Std', 'PSH Flag Cnt'], 'Adv sample 358': ['ACK Flag Cnt', 'Bwd IAT Std', 'Init Bwd Win Byts', 'Bwd IAT Max', 'Bwd IAT Tot', 'Flow IAT Mean', 'Fwd IAT Mean', 'Pkt Len Std', 'Bwd Seg Size Avg', 'Pkt Len Min'], 'Adv sample 359': ['SYN Flag Cnt', 'Init Bwd Win Byts', 'Bwd Pkt Len Max', 'Active Std', 'Bwd Pkt Len Std', 'Idle Mean', 'Bwd Pkt Len Mean', 'ACK Flag Cnt', 'Pkt Len Var', 'Bwd Header Len'], 'Adv sample 360': ['Init Bwd Win Byts', 'Down/Up Ratio', 'Pkt Len Min', 'Flow Duration', 'Fwd IAT Max', 'FIN Flag Cnt', 'Pkt Len Max', 'Flow IAT Std', 'Pkt Len Std', 'Bwd Pkt Len Min'], 'Adv sample 361': ['Init Bwd Win Byts', 'Flow Pkts/s', 'FIN Flag Cnt', 'Down/Up Ratio', 'Bwd Pkts/s', 'Pkt Len Min', 'Pkt Size Avg', 'Pkt Len Std', 'Pkt Len Max', 'Pkt Len Mean'], 'Adv sample 362': ['SYN Flag Cnt', 'Init Bwd Win Byts', 'Idle Max', 'ACK Flag Cnt', 'Idle Mean', 'Idle Min', 'Bwd Pkt Len Max', 'Bwd Pkt Len Min', 'Flow IAT Max', 'Subflow Fwd Pkts'], 'Adv sample 363': ['Init Bwd Win Byts', 'Flow Pkts/s', 'FIN Flag Cnt', 'Bwd Pkts/s', 'Down/Up Ratio', 'Pkt Len Min', 'Bwd Seg Size Avg', 'Pkt Len Std', 'Fwd Pkt Len Max', 'Pkt Len Mean'], 'Adv sample 364': ['ACK Flag Cnt', 'Bwd IAT Std', 'Init Bwd Win Byts', 'Bwd IAT Max', 'Bwd IAT Tot', 'Pkt Len Min', 'Flow IAT Mean', 'Fwd IAT Mean', 'Pkt Len Mean', 'Fwd Header Len'], 'Adv sample 365': ['Bwd Pkts/s', 'Init Bwd Win Byts', 'Down/Up Ratio', 'Pkt Len Min', 'Bwd Pkt Len Min', 'Pkt Len Mean', 'Fwd Pkt Len Std', 'Fwd IAT Max', 'Pkt Len Std', 'Active Min'], 'Adv sample 366': ['SYN Flag Cnt', 'Init Bwd Win Byts', 'Bwd Pkt Len Std', 'Fwd IAT Max', 'Flow IAT Min', 'Idle Mean', 'Idle Min', 'Bwd Pkt Len Max', 'Fwd IAT Std', 'Fwd IAT Tot'], 'Adv sample 367': ['Init Bwd Win Byts', 'URG Flag Cnt', 'FIN Flag Cnt', 'Down/Up Ratio', 'Bwd URG Flags', 'Bwd PSH Flags', 'Fwd IAT Tot', 'Pkt Len Min', 'Flow Duration', 'Flow IAT Std'], 'Adv sample 368': ['Init Bwd Win Byts', 'SYN Flag Cnt', 'Idle Min', 'Pkt Len Min', 'Idle Max', 'Bwd Pkt Len Min', 'Idle Mean', 'Pkt Len Std', 'Flow Duration', 'Pkt Len Mean'], 'Adv sample 369': ['ACK Flag Cnt', 'Bwd IAT Std', 'Init Bwd Win Byts', 'Bwd IAT Tot', 'Bwd IAT Max', 'Flow IAT Mean', 'Bwd IAT Mean', 'Fwd IAT Std', 'Bwd Pkt Len Std', 'Fwd Header Len'], 'Adv sample 370': ['Init Bwd Win Byts', 'Down/Up Ratio', 'Pkt Len Min', 'Flow Duration', 'Fwd IAT Max', 'Pkt Len Max', 'Pkt Len Std', 'Flow IAT Std', 'Flow IAT Max', 'Pkt Len Mean'], 'Adv sample 371': ['Bwd Pkts/s', 'Init Bwd Win Byts', 'Down/Up Ratio', 'Pkt Len Min', 'Bwd Pkt Len Min', 'Pkt Len Mean', 'Pkt Len Std', 'Flow Duration', 'Pkt Len Max', 'Fwd IAT Tot'], 'Adv sample 372': ['Init Bwd Win Byts', 'Bwd Pkts/s', 'Down/Up Ratio', 'Pkt Len Min', 'Flow Duration', 'Pkt Len Std', 'Pkt Len Mean', 'Fwd IAT Max', 'Fwd Pkt Len Max', 'Idle Min'], 'Adv sample 373': ['Init Bwd Win Byts', 'Down/Up Ratio', 'Pkt Len Min', 'Flow Duration', 'Fwd IAT Max', 'Pkt Len Std', 'Flow IAT Max', 'Pkt Len Max', 'Pkt Size Avg', 'Fwd Pkt Len Max'], 'Adv sample 374': ['Init Bwd Win Byts', 'Down/Up Ratio', 'Pkt Len Min', 'Flow Duration', 'Fwd IAT Max', 'Pkt Len Max', 'Pkt Len Std', 'Flow IAT Max', 'Flow IAT Std', 'Pkt Len Mean'], 'Adv sample 375': ['Init Bwd Win Byts', 'Down/Up Ratio', 'Pkt Len Min', 'Flow Duration', 'Flow IAT Std', 'Fwd IAT Max', 'Pkt Len Max', 'Pkt Len Std', 'Fwd IAT Std', 'Flow IAT Max'], 'Adv sample 376': ['Init Bwd Win Byts', 'Down/Up Ratio', 'Pkt Len Min', 'Flow Duration', 'Fwd IAT Max', 'Pkt Len Max', 'Flow IAT Max', 'Fwd IAT Std', 'Pkt Len Std', 'Fwd Pkt Len Max'], 'Adv sample 377': ['Init Bwd Win Byts', 'Down/Up Ratio', 'Pkt Len Min', 'Pkt Len Max', 'Flow IAT Max', 'Fwd IAT Max', 'Pkt Len Std', 'Flow Duration', 'Fwd Pkt Len Std', 'Pkt Len Mean'], 'Adv sample 378': ['Init Bwd Win Byts', 'Down/Up Ratio', 'Pkt Len Min', 'Flow Duration', 'Fwd IAT Max', 'Pkt Len Std', 'Bwd Pkts/s', 'Pkt Len Max', 'Fwd Pkt Len Max', 'Flow IAT Std'], 'Adv sample 379': ['Init Bwd Win Byts', 'SYN Flag Cnt', 'Pkt Len Min', 'FIN Flag Cnt', 'Flow IAT Max', 'Down/Up Ratio', 'Fwd IAT Max', 'Flow Duration', 'ACK Flag Cnt', 'Idle Min'], 'Adv sample 380': ['Init Bwd Win Byts', 'Down/Up Ratio', 'Pkt Len Min', 'Flow Duration', 'Pkt Len Max', 'Fwd IAT Max', 'Flow IAT Std', 'Flow IAT Max', 'FIN Flag Cnt', 'Fwd IAT Std'], 'Adv sample 381': ['Bwd Pkts/s', 'Init Bwd Win Byts', 'Down/Up Ratio', 'Flow Duration', 'Pkt Len Std', 'Fwd IAT Max', 'Pkt Len Max', 'Fwd Pkt Len Mean', 'Flow IAT Std', 'Idle Max'], 'Adv sample 382': ['ACK Flag Cnt', 'Bwd IAT Std', 'Init Bwd Win Byts', 'Bwd IAT Max', 'Bwd IAT Tot', 'Flow IAT Mean', 'Fwd IAT Tot', 'Fwd Act Data Pkts', 'Bwd PSH Flags', 'Fwd IAT Std'], 'Adv sample 383': ['Init Bwd Win Byts', 'SYN Flag Cnt', 'Pkt Len Min', 'Idle Min', 'Fwd IAT Max', 'Idle Max', 'Pkt Len Max', 'Fwd Pkt Len Max', 'Flow IAT Max', 'Bwd Pkt Len Min'], 'Adv sample 384': ['Init Bwd Win Byts', 'SYN Flag Cnt', 'Pkt Len Min', 'Idle Min', 'Flow IAT Max', 'Idle Max', 'Pkt Len Std', 'Fwd Pkt Len Max', 'Idle Mean', 'PSH Flag Cnt'], 'Adv sample 385': ['Init Bwd Win Byts', 'Down/Up Ratio', 'Pkt Len Min', 'Flow Duration', 'Fwd IAT Max', 'Flow IAT Max', 'Pkt Len Std', 'Pkt Len Max', 'Bwd Pkts/s', 'PSH Flag Cnt'], 'Adv sample 386': ['Bwd PSH Flags', 'Init Bwd Win Byts', 'Down/Up Ratio', 'Pkt Len Max', 'ACK Flag Cnt', 'Pkt Len Mean', 'Pkt Len Std', 'Fwd IAT Tot', 'Pkt Len Min', 'Fwd Pkt Len Max'], 'Adv sample 387': ['Init Bwd Win Byts', 'SYN Flag Cnt', 'Idle Min', 'Pkt Len Min', 'Idle Mean', 'Idle Max', 'Pkt Len Max', 'Bwd Pkt Len Min', 'Down/Up Ratio', 'Flow IAT Max'], 'Adv sample 388': ['ACK Flag Cnt', 'Bwd IAT Std', 'Init Bwd Win Byts', 'Bwd IAT Tot', 'Bwd IAT Max', 'Pkt Len Max', 'Fwd Pkts/s', 'Bwd IAT Mean', 'Flow IAT Mean', 'Pkt Len Min'], 'Adv sample 389': ['Bwd Pkts/s', 'Init Bwd Win Byts', 'Down/Up Ratio', 'Pkt Len Min', 'Fwd Pkt Len Max', 'Fwd IAT Max', 'Flow Duration', 'Subflow Bwd Byts', 'Fwd Pkt Len Std', 'FIN Flag Cnt'], 'Adv sample 390': ['ACK Flag Cnt', 'Bwd IAT Std', 'Init Bwd Win Byts', 'Bwd IAT Tot', 'Bwd IAT Max', 'Flow IAT Mean', 'Pkt Len Min', 'Flow IAT Min', 'Fwd Seg Size Avg', 'Bwd Pkt Len Std'], 'Adv sample 391': ['Bwd Pkts/s', 'Init Bwd Win Byts', 'Down/Up Ratio', 'Pkt Len Min', 'FIN Flag Cnt', 'Flow Duration', 'Pkt Len Max', 'Pkt Len Mean', 'Bwd Pkt Len Min', 'Pkt Size Avg'], 'Adv sample 392': ['Init Bwd Win Byts', 'SYN Flag Cnt', 'Pkt Len Min', 'Idle Min', 'Flow IAT Max', 'Bwd Pkt Len Min', 'Pkt Len Mean', 'Fwd Pkt Len Mean', 'Idle Mean', 'Pkt Size Avg'], 'Adv sample 393': ['SYN Flag Cnt', 'Init Bwd Win Byts', 'Fwd Seg Size Avg', 'Flow Duration', 'Tot Fwd Pkts', 'Tot Bwd Pkts', 'TotLen Fwd Pkts', 'TotLen Bwd Pkts', 'Fwd Pkt Len Max', 'Fwd Pkt Len Min'], 'Adv sample 394': ['Init Bwd Win Byts', 'Down/Up Ratio', 'Pkt Len Min', 'Flow Duration', 'Fwd IAT Max', 'Fwd IAT Std', 'Pkt Len Std', 'FIN Flag Cnt', 'Flow IAT Std', 'Pkt Len Max'], 'Adv sample 395': ['Init Bwd Win Byts', 'Flow Pkts/s', 'FIN Flag Cnt', 'Bwd Pkts/s', 'Down/Up Ratio', 'Pkt Len Min', 'Pkt Len Mean', 'Fwd Pkt Len Max', 'Pkt Len Max', 'Fwd Header Len'], 'Adv sample 396': ['Init Bwd Win Byts', 'Bwd Pkts/s', 'Down/Up Ratio', 'Pkt Len Min', 'Flow Duration', 'Fwd IAT Max', 'Idle Max', 'Tot Bwd Pkts', 'Flow IAT Max', 'Pkt Size Avg'], 'Adv sample 397': ['Init Bwd Win Byts', 'SYN Flag Cnt', 'FIN Flag Cnt', 'Pkt Len Min', 'Flow Duration', 'Down/Up Ratio', 'Fwd IAT Max', 'ACK Flag Cnt', 'Flow IAT Max', 'Idle Min'], 'Adv sample 398': ['SYN Flag Cnt', 'Init Bwd Win Byts', 'Fwd IAT Tot', 'Fwd IAT Max', 'Flow Duration', 'Fwd Header Len', 'Idle Min', 'Bwd Seg Size Avg', 'Bwd Pkt Len Std', 'Tot Fwd Pkts'], 'Adv sample 399': ['Bwd Pkts/s', 'Init Bwd Win Byts', 'Down/Up Ratio', 'Pkt Len Min', 'FIN Flag Cnt', 'Fwd IAT Tot', 'Bwd Pkt Len Min', 'Pkt Len Max', 'Fwd IAT Max', 'Pkt Len Std'], 'Adv sample 400': ['Init Bwd Win Byts', 'Down/Up Ratio', 'Pkt Len Min', 'Flow Duration', 'Fwd IAT Max', 'Flow IAT Max', 'Pkt Len Max', 'Flow IAT Std', 'Pkt Len Std', 'Fwd Pkt Len Std'], 'Adv sample 401': ['SYN Flag Cnt', 'Init Bwd Win Byts', 'Idle Min', 'Pkt Len Min', 'Fwd IAT Max', 'Flow IAT Max', 'Flow Pkts/s', 'Bwd Pkt Len Min', 'Idle Mean', 'ACK Flag Cnt'], 'Adv sample 402': ['Init Bwd Win Byts', 'Down/Up Ratio', 'Pkt Len Min', 'Flow Duration', 'Fwd IAT Max', 'Pkt Len Std', 'Pkt Len Max', 'Flow IAT Max', 'Fwd IAT Std', 'Fwd Pkt Len Max'], 'Adv sample 403': ['Init Bwd Win Byts', 'Down/Up Ratio', 'Pkt Len Min', 'Flow Duration', 'Flow IAT Max', 'Flow IAT Std', 'Fwd IAT Max', 'Pkt Len Max', 'Pkt Len Std', 'Fwd IAT Mean'], 'Adv sample 404': ['Bwd Pkts/s', 'Init Bwd Win Byts', 'Down/Up Ratio', 'Pkt Len Min', 'Bwd Pkt Len Min', 'Idle Mean', 'Fwd IAT Std', 'Flow Duration', 'Fwd IAT Max', 'Pkt Len Mean'], 'Adv sample 405': ['SYN Flag Cnt', 'Init Bwd Win Byts', 'Bwd Pkt Len Max', 'Bwd Pkt Len Std', 'Flow Duration', 'Bwd Pkt Len Mean', 'Idle Max', 'Bwd Seg Size Avg', 'Idle Min', 'Bwd IAT Min'], 'Adv sample 406': ['ACK Flag Cnt', 'Bwd IAT Std', 'Bwd IAT Tot', 'Init Bwd Win Byts', 'Bwd IAT Max', 'Flow IAT Mean', 'Pkt Size Avg', 'Tot Fwd Pkts', 'Fwd IAT Mean', 'PSH Flag Cnt'], 'Adv sample 407': ['Flow Pkts/s', 'Init Bwd Win Byts', 'FIN Flag Cnt', 'Bwd Pkts/s', 'Down/Up Ratio', 'Pkt Len Std', 'Pkt Len Min', 'Pkt Len Mean', 'Fwd Seg Size Avg', 'Fwd Pkt Len Max'], 'Adv sample 408': ['SYN Flag Cnt', 'Init Bwd Win Byts', 'Idle Max', 'Idle Min', 'Pkt Len Min', 'Flow IAT Max', 'Bwd Header Len', 'Idle Mean', 'Fwd IAT Tot', 'Fwd IAT Max'], 'Adv sample 409': ['Init Bwd Win Byts', 'Down/Up Ratio', 'Pkt Len Min', 'Flow Duration', 'Fwd IAT Max', 'Pkt Len Std', 'Pkt Len Max', 'Flow IAT Max', 'Pkt Len Mean', 'Flow Pkts/s'], 'Adv sample 410': ['Init Bwd Win Byts', 'Down/Up Ratio', 'Pkt Len Min', 'Flow Duration', 'Fwd IAT Max', 'Flow IAT Std', 'Pkt Len Max', 'Pkt Len Mean', 'Pkt Len Std', 'Flow IAT Max'], 'Adv sample 411': ['Init Bwd Win Byts', 'SYN Flag Cnt', 'Pkt Len Min', 'Idle Min', 'Fwd IAT Max', 'Idle Max', 'Pkt Len Max', 'Flow IAT Max', 'Bwd Pkt Len Min', 'Pkt Len Std'], 'Adv sample 412': ['SYN Flag Cnt', 'Init Bwd Win Byts', 'Idle Min', 'Idle Max', 'ACK Flag Cnt', 'Pkt Len Min', 'Fwd IAT Max', 'Fwd IAT Std', 'Flow IAT Max', 'Idle Mean'], 'Adv sample 413': ['Init Bwd Win Byts', 'FIN Flag Cnt', 'Down/Up Ratio', 'Pkt Len Min', 'Pkt Size Avg', 'Pkt Len Max', 'Flow IAT Max', 'Pkt Len Mean', 'Flow Duration', 'Bwd Pkt Len Min'], 'Adv sample 414': ['Init Bwd Win Byts', 'SYN Flag Cnt', 'Pkt Len Min', 'Idle Min', 'Flow IAT Max', 'Idle Max', 'Idle Mean', 'Pkt Len Std', 'Fwd IAT Max', 'Pkt Len Max'], 'Adv sample 415': ['ACK Flag Cnt', 'Bwd IAT Std', 'Init Bwd Win Byts', 'Bwd IAT Max', 'Bwd IAT Tot', 'Flow IAT Mean', 'Pkt Len Min', 'Fwd IAT Mean', 'Subflow Bwd Pkts', 'Bwd Pkt Len Mean'], 'Adv sample 416': ['Init Bwd Win Byts', 'SYN Flag Cnt', 'Pkt Len Min', 'FIN Flag Cnt', 'Fwd IAT Max', 'Flow IAT Max', 'Bwd Pkt Len Min', 'Pkt Len Mean', 'Down/Up Ratio', 'Idle Max'], 'Adv sample 417': ['Bwd Pkts/s', 'Init Bwd Win Byts', 'Down/Up Ratio', 'Pkt Len Max', 'Flow Duration', 'Pkt Len Min', 'FIN Flag Cnt', 'Fwd IAT Tot', 'Fwd Pkt Len Min', 'Idle Min'], 'Adv sample 418': ['Init Bwd Win Byts', 'Down/Up Ratio', 'Pkt Len Min', 'Flow Duration', 'Fwd IAT Max', 'Flow IAT Std', 'Flow IAT Max', 'Pkt Len Max', 'Pkt Len Std', 'Pkt Len Mean'], 'Adv sample 419': ['SYN Flag Cnt', 'Init Bwd Win Byts', 'Bwd IAT Std', 'Bwd IAT Max', 'Flow IAT Mean', 'Pkt Len Std', 'Pkt Len Mean', 'Bwd Seg Size Avg', 'Bwd IAT Mean', 'Idle Mean'], 'Adv sample 420': ['Init Bwd Win Byts', 'Flow Pkts/s', 'FIN Flag Cnt', 'Bwd Pkts/s', 'Down/Up Ratio', 'Pkt Len Min', 'Pkt Len Std', 'Pkt Len Max', 'Fwd Header Len', 'Fwd Pkt Len Std'], 'Adv sample 421': ['Bwd Pkts/s', 'Init Bwd Win Byts', 'Down/Up Ratio', 'Pkt Len Min', 'Pkt Len Std', 'Bwd Pkt Len Min', 'Pkt Size Avg', 'Flow Duration', 'Pkt Len Max', 'Fwd IAT Tot'], 'Adv sample 422': ['SYN Flag Cnt', 'Init Bwd Win Byts', 'Idle Mean', 'ACK Flag Cnt', 'Fwd IAT Max', 'Idle Max', 'Fwd Header Len', 'Flow Duration', 'Tot Bwd Pkts', 'TotLen Fwd Pkts'], 'Adv sample 423': ['Init Bwd Win Byts', 'SYN Flag Cnt', 'Pkt Len Min', 'FIN Flag Cnt', 'ACK Flag Cnt', 'Idle Min', 'Flow IAT Max', 'Pkt Len Std', 'PSH Flag Cnt', 'Flow Duration'], 'Adv sample 424': ['Init Bwd Win Byts', 'SYN Flag Cnt', 'Pkt Len Min', 'Idle Max', 'FIN Flag Cnt', 'Flow IAT Max', 'Idle Min', 'Fwd IAT Max', 'Pkt Len Max', 'Down/Up Ratio'], 'Adv sample 425': ['Init Bwd Win Byts', 'Down/Up Ratio', 'Pkt Len Min', 'Flow Duration', 'Flow IAT Std', 'Flow Pkts/s', 'Flow IAT Max', 'Pkt Len Max', 'Fwd IAT Max', 'Pkt Len Std'], 'Adv sample 426': ['Init Bwd Win Byts', 'Down/Up Ratio', 'Pkt Len Min', 'Flow Duration', 'Fwd IAT Max', 'Flow IAT Std', 'Fwd IAT Std', 'Pkt Len Mean', 'Flow IAT Max', 'Pkt Len Std'], 'Adv sample 427': ['Init Bwd Win Byts', 'Pkt Len Max', 'Fwd Pkt Len Std', 'Pkt Len Mean', 'Pkt Size Avg', 'Pkt Len Std', 'Pkt Len Min', 'Fwd Pkt Len Max', 'Down/Up Ratio', 'Fwd Seg Size Avg'], 'Adv sample 428': ['Init Bwd Win Byts', 'Pkt Len Std', 'Pkt Size Avg', 'Pkt Len Mean', 'Pkt Len Max', 'Pkt Len Min', 'Fwd Pkt Len Max', 'Fwd Pkt Len Mean', 'Down/Up Ratio', 'Fwd Pkt Len Std'], 'Adv sample 429': ['Init Bwd Win Byts', 'URG Flag Cnt', 'FIN Flag Cnt', 'Down/Up Ratio', 'Bwd URG Flags', 'Bwd PSH Flags', 'Pkt Len Min', 'Flow Duration', 'Pkt Len Max', 'Fwd IAT Tot'], 'Adv sample 430': ['Init Bwd Win Byts', 'Down/Up Ratio', 'Pkt Len Min', 'Flow Duration', 'Pkt Len Max', 'Flow IAT Max', 'Fwd IAT Max', 'Pkt Len Std', 'Flow IAT Std', 'Pkt Len Mean'], 'Adv sample 431': ['Init Bwd Win Byts', 'Down/Up Ratio', 'Pkt Len Min', 'Flow Duration', 'Fwd IAT Max', 'Flow IAT Std', 'Pkt Size Avg', 'Pkt Len Std', 'Pkt Len Mean', 'Pkt Len Max'], 'Adv sample 432': ['SYN Flag Cnt', 'Init Bwd Win Byts', 'Bwd IAT Mean', 'Flow Duration', 'Bwd Pkt Len Std', 'Bwd Pkt Len Max', 'Bwd Pkt Len Mean', 'Fwd Act Data Pkts', 'Idle Max', 'Bwd Seg Size Avg'], 'Adv sample 433': ['Init Bwd Win Byts', 'Flow Pkts/s', 'FIN Flag Cnt', 'Bwd Pkts/s', 'Down/Up Ratio', 'Pkt Len Std', 'Fwd IAT Tot', 'Pkt Size Avg', 'Pkt Len Min', 'Fwd Pkt Len Max'], 'Adv sample 434': ['Bwd Pkts/s', 'Init Bwd Win Byts', 'Down/Up Ratio', 'Pkt Len Min', 'Pkt Len Std', 'Bwd Pkt Len Min', 'Fwd IAT Max', 'Flow Duration', 'Subflow Fwd Pkts', 'Pkt Len Mean'], 'Adv sample 435': ['Init Bwd Win Byts', 'Pkt Len Std', 'Pkt Len Max', 'Fwd Pkt Len Max', 'Flow Pkts/s', 'Pkt Size Avg', 'Fwd Pkt Len Mean', 'Pkt Len Mean', 'Fwd Pkt Len Std', 'Pkt Len Min'], 'Adv sample 436': ['SYN Flag Cnt', 'Init Bwd Win Byts', 'Bwd Pkt Len Max', 'Fwd IAT Tot', 'Bwd Pkt Len Std', 'Bwd Pkt Len Mean', 'Bwd Pkt Len Min', 'Idle Mean', 'PSH Flag Cnt', 'Flow IAT Max'], 'Adv sample 437': ['Init Bwd Win Byts', 'Down/Up Ratio', 'Pkt Len Min', 'Flow Duration', 'Fwd IAT Max', 'Flow IAT Max', 'Pkt Len Mean', 'PSH Flag Cnt', 'FIN Flag Cnt', 'Flow IAT Std'], 'Adv sample 438': ['Init Bwd Win Byts', 'SYN Flag Cnt', 'Pkt Len Min', 'FIN Flag Cnt', 'Flow IAT Max', 'Down/Up Ratio', 'ACK Flag Cnt', 'Fwd IAT Max', 'Bwd Pkts/s', 'Idle Min'], 'Adv sample 439': ['Bwd Pkts/s', 'Init Bwd Win Byts', 'Down/Up Ratio', 'Pkt Len Min', 'Flow Duration', 'Pkt Len Mean', 'Pkt Len Std', 'Pkt Len Max', 'Bwd Pkt Len Min', 'Idle Mean'], 'Adv sample 440': ['Init Bwd Win Byts', 'Down/Up Ratio', 'Pkt Len Min', 'Flow Duration', 'Fwd IAT Max', 'Flow IAT Std', 'Flow IAT Max', 'Fwd IAT Std', 'Pkt Len Max', 'Pkt Len Std'], 'Adv sample 441': ['Bwd Pkts/s', 'Init Bwd Win Byts', 'Down/Up Ratio', 'Pkt Len Min', 'Fwd Seg Size Avg', 'Fwd Pkt Len Max', 'Pkt Len Max', 'Fwd IAT Max', 'Bwd IAT Mean', 'Flow IAT Max'], 'Adv sample 442': ['ACK Flag Cnt', 'Bwd IAT Std', 'Init Bwd Win Byts', 'Bwd IAT Max', 'Bwd IAT Tot', 'Bwd IAT Mean', 'Pkt Len Min', 'Flow IAT Mean', 'Bwd PSH Flags', 'Pkt Len Max'], 'Adv sample 443': ['Active Min', 'Active Mean', 'Active Max', 'Init Bwd Win Byts', 'Bwd IAT Std', 'Pkt Len Max', 'Bwd IAT Max', 'Idle Min', 'Fwd Pkt Len Std', 'Bwd IAT Tot'], 'Adv sample 444': ['ACK Flag Cnt', 'Bwd IAT Std', 'Init Bwd Win Byts', 'Bwd IAT Max', 'Bwd IAT Tot', 'Flow IAT Mean', 'Bwd Pkt Len Min', 'Fwd IAT Tot', 'Fwd IAT Std', 'Flow IAT Min'], 'Adv sample 445': ['Bwd PSH Flags', 'Init Bwd Win Byts', 'Pkt Len Max', 'Down/Up Ratio', 'Pkt Len Std', 'ACK Flag Cnt', 'Pkt Len Mean', 'Pkt Size Avg', 'Pkt Len Min', 'Bwd Pkt Len Std'], 'Adv sample 446': ['Init Bwd Win Byts', 'Pkt Len Max', 'Pkt Len Std', 'Pkt Size Avg', 'Fwd Seg Size Avg', 'Fwd Pkt Len Std', 'Fwd Pkt Len Max', 'Fwd Pkt Len Mean', 'Pkt Len Mean', 'Flow Pkts/s'], 'Adv sample 447': ['Init Bwd Win Byts', 'Pkt Len Max', 'Down/Up Ratio', 'Pkt Len Mean', 'Pkt Size Avg', 'Fwd Pkt Len Mean', 'Fwd Pkt Len Max', 'Pkt Len Min', 'Pkt Len Std', 'Fwd Seg Size Avg'], 'Adv sample 448': ['Init Bwd Win Byts', 'Pkt Len Std', 'Pkt Len Mean', 'Pkt Len Max', 'Pkt Size Avg', 'Fwd Pkt Len Mean', 'Fwd Seg Size Avg', 'Pkt Len Min', 'Fwd Pkt Len Max', 'Fwd Pkt Len Std'], 'Adv sample 449': ['Init Bwd Win Byts', 'Down/Up Ratio', 'Pkt Len Min', 'Bwd Pkts/s', 'Flow Duration', 'Pkt Len Max', 'FIN Flag Cnt', 'Fwd IAT Max', 'Pkt Size Avg', 'Bwd Pkt Len Min'], 'Adv sample 450': ['Init Bwd Win Byts', 'Pkt Len Std', 'Pkt Len Max', 'Fwd Pkt Len Max', 'Pkt Size Avg', 'Pkt Len Mean', 'Fwd Pkt Len Std', 'Flow Pkts/s', 'Pkt Len Min', 'Down/Up Ratio'], 'Adv sample 451': ['Init Bwd Win Byts', 'Down/Up Ratio', 'Pkt Len Min', 'Flow Duration', 'Fwd IAT Max', 'Pkt Len Std', 'FIN Flag Cnt', 'Flow IAT Std', 'Pkt Len Max', 'Flow IAT Max'], 'Adv sample 452': ['Init Bwd Win Byts', 'SYN Flag Cnt', 'Pkt Len Min', 'Idle Min', 'Idle Max', 'Pkt Len Max', 'Flow IAT Max', 'Down/Up Ratio', 'Fwd IAT Max', 'Idle Mean'], 'Adv sample 453': ['Init Bwd Win Byts', 'Down/Up Ratio', 'Pkt Len Min', 'Flow Duration', 'Fwd IAT Max', 'Flow IAT Max', 'Pkt Len Std', 'Flow Pkts/s', 'Pkt Len Mean', 'Pkt Len Max'], 'Adv sample 454': ['Init Bwd Win Byts', 'Down/Up Ratio', 'Pkt Len Min', 'Flow Duration', 'Fwd IAT Max', 'Flow IAT Max', 'Pkt Len Max', 'Fwd IAT Tot', 'Pkt Len Std', 'Pkt Len Mean'], 'Adv sample 455': ['Bwd Pkts/s', 'Init Bwd Win Byts', 'Down/Up Ratio', 'Pkt Len Min', 'Fwd IAT Max', 'Flow Duration', 'Bwd Pkt Len Min', 'Pkt Len Max', 'Idle Mean', 'Fwd Pkt Len Max'], 'Adv sample 456': ['Init Bwd Win Byts', 'Down/Up Ratio', 'Pkt Len Min', 'Flow Duration', 'Pkt Len Std', 'Fwd IAT Max', 'Pkt Len Mean', 'Flow IAT Std', 'Pkt Len Max', 'Pkt Size Avg'], 'Adv sample 457': ['Init Bwd Win Byts', 'Flow Pkts/s', 'FIN Flag Cnt', 'Bwd Pkts/s', 'Down/Up Ratio', 'Pkt Len Max', 'Pkt Len Min', 'Pkt Len Mean', 'Pkt Len Std', 'Pkt Size Avg'], 'Adv sample 458': ['Init Bwd Win Byts', 'Down/Up Ratio', 'Pkt Len Min', 'Flow Duration', 'Fwd IAT Max', 'Pkt Len Std', 'Flow IAT Std', 'Pkt Len Max', 'Flow IAT Max', 'Pkt Size Avg'], 'Adv sample 459': ['Init Bwd Win Byts', 'Down/Up Ratio', 'Pkt Len Min', 'Flow Duration', 'Fwd IAT Max', 'FIN Flag Cnt', 'Pkt Len Max', 'Flow IAT Std', 'PSH Flag Cnt', 'Flow IAT Max'], 'Adv sample 460': ['FIN Flag Cnt', 'Flow Pkts/s', 'Init Bwd Win Byts', 'Down/Up Ratio', 'Tot Fwd Pkts', 'Pkt Size Avg', 'Bwd Header Len', 'Idle Mean', 'Bwd Seg Size Avg', 'Idle Std'], 'Adv sample 461': ['Bwd Pkts/s', 'Init Bwd Win Byts', 'Down/Up Ratio', 'Pkt Len Min', 'Fwd IAT Max', 'Subflow Bwd Pkts', 'Fwd IAT Tot', 'Fwd Pkt Len Max', 'Tot Fwd Pkts', 'Bwd Pkt Len Min'], 'Adv sample 462': ['Init Bwd Win Byts', 'Pkt Len Mean', 'Pkt Len Std', 'Pkt Len Max', 'Fwd Pkt Len Mean', 'Fwd Pkt Len Std', 'Fwd Pkt Len Max', 'Flow Pkts/s', 'Fwd Seg Size Avg', 'Pkt Size Avg'], 'Adv sample 463': ['ACK Flag Cnt', 'Bwd IAT Std', 'Init Bwd Win Byts', 'Bwd IAT Tot', 'Bwd IAT Max', 'Pkt Len Max', 'Bwd Pkt Len Std', 'Bwd Seg Size Avg', 'Fwd Seg Size Avg', 'Fwd IAT Tot'], 'Adv sample 464': ['SYN Flag Cnt', 'Init Bwd Win Byts', 'Idle Min', 'ACK Flag Cnt', 'PSH Flag Cnt', 'Idle Max', 'Flow Duration', 'Tot Fwd Pkts', 'Tot Bwd Pkts', 'TotLen Fwd Pkts'], 'Adv sample 465': ['Init Bwd Win Byts', 'SYN Flag Cnt', 'FIN Flag Cnt', 'Pkt Len Min', 'ACK Flag Cnt', 'Flow IAT Max', 'Fwd IAT Max', 'Down/Up Ratio', 'Idle Max', 'Idle Mean'], 'Adv sample 466': ['Init Bwd Win Byts', 'Pkt Len Std', 'Pkt Len Mean', 'Down/Up Ratio', 'Pkt Size Avg', 'Pkt Len Min', 'Pkt Len Max', 'Fwd Pkt Len Max', 'Fwd Pkt Len Mean', 'Fwd Pkt Len Std'], 'Adv sample 467': ['Init Bwd Win Byts', 'Pkt Len Std', 'Pkt Len Mean', 'Pkt Len Max', 'Pkt Size Avg', 'Fwd Pkt Len Mean', 'Fwd Pkt Len Max', 'Flow Pkts/s', 'Fwd Pkt Len Std', 'Fwd Seg Size Avg'], 'Adv sample 468': ['Bwd Pkts/s', 'Init Bwd Win Byts', 'Down/Up Ratio', 'Fwd IAT Max', 'Pkt Len Min', 'Fwd IAT Tot', 'Flow Duration', 'Pkt Len Mean', 'Fwd Pkt Len Max', 'Idle Min'], 'Adv sample 469': ['SYN Flag Cnt', 'Init Bwd Win Byts', 'Bwd Pkt Len Std', 'Bwd Pkt Len Mean', 'Bwd Pkt Len Max', 'Idle Max', 'Fwd IAT Mean', 'Flow Duration', 'Tot Fwd Pkts', 'Tot Bwd Pkts'], 'Adv sample 470': ['Init Bwd Win Byts', 'Pkt Len Std', 'Pkt Len Mean', 'Pkt Len Max', 'Fwd Pkt Len Max', 'Pkt Size Avg', 'Fwd Pkt Len Mean', 'Pkt Len Min', 'Down/Up Ratio', 'Fwd Pkt Len Std'], 'Adv sample 471': ['SYN Flag Cnt', 'Init Bwd Win Byts', 'Bwd Pkt Len Mean', 'Bwd Seg Size Avg', 'Idle Max', 'Bwd Pkt Len Std', 'Idle Mean', 'Fwd IAT Min', 'Fwd IAT Max', 'Active Max'], 'Adv sample 472': ['Init Bwd Win Byts', 'Down/Up Ratio', 'Pkt Len Min', 'Flow Duration', 'Flow IAT Max', 'Pkt Len Max', 'Fwd IAT Tot', 'Fwd Seg Size Avg', 'Pkt Len Std', 'Fwd IAT Max'], 'Adv sample 473': ['Init Bwd Win Byts', 'Down/Up Ratio', 'Pkt Len Min', 'Flow Duration', 'Fwd IAT Max', 'Pkt Len Max', 'Flow IAT Std', 'Flow IAT Max', 'Pkt Len Std', 'Bwd Pkts/s'], 'Adv sample 474': ['SYN Flag Cnt', 'Init Bwd Win Byts', 'Bwd Pkt Len Max', 'Fwd IAT Max', 'Fwd IAT Std', 'Fwd Pkt Len Mean', 'Idle Max', 'Bwd Pkt Len Min', 'Bwd Pkt Len Std', 'Flow Duration'], 'Adv sample 475': ['ACK Flag Cnt', 'Bwd IAT Std', 'Init Bwd Win Byts', 'Bwd IAT Max', 'Bwd IAT Tot', 'Flow IAT Mean', 'Pkt Len Std', 'Bwd IAT Mean', 'Bwd IAT Min', 'Active Min'], 'Adv sample 476': ['Bwd Pkts/s', 'Init Bwd Win Byts', 'Down/Up Ratio', 'Pkt Size Avg', 'Flow Duration', 'Fwd IAT Tot', 'Pkt Len Min', 'Fwd IAT Std', 'Bwd Pkt Len Min', 'Fwd IAT Max'], 'Adv sample 477': ['Init Bwd Win Byts', 'Pkt Len Std', 'Pkt Len Max', 'Pkt Size Avg', 'Pkt Len Mean', 'Fwd Pkt Len Max', 'Pkt Len Min', 'Fwd Pkt Len Std', 'Fwd Pkt Len Mean', 'Fwd Seg Size Avg'], 'Adv sample 478': ['Init Bwd Win Byts', 'Down/Up Ratio', 'Pkt Len Min', 'Flow Duration', 'Fwd IAT Max', 'Pkt Len Max', 'Flow IAT Max', 'Pkt Len Std', 'Flow IAT Std', 'Pkt Size Avg'], 'Adv sample 479': ['Init Bwd Win Byts', 'Flow Pkts/s', 'FIN Flag Cnt', 'Bwd Pkts/s', 'Down/Up Ratio', 'Pkt Len Std', 'Pkt Len Max', 'Pkt Len Min', 'Pkt Size Avg', 'Subflow Bwd Byts'], 'Adv sample 480': ['Init Bwd Win Byts', 'Flow Pkts/s', 'FIN Flag Cnt', 'Down/Up Ratio', 'Bwd Pkts/s', 'Pkt Len Std', 'Pkt Len Max', 'Pkt Len Mean', 'Pkt Size Avg', 'Fwd IAT Max'], 'Adv sample 481': ['Init Bwd Win Byts', 'Pkt Len Max', 'Pkt Len Std', 'Pkt Len Mean', 'Pkt Len Min', 'Pkt Size Avg', 'Fwd Pkt Len Max', 'Fwd Pkt Len Mean', 'Fwd Seg Size Avg', 'Flow Pkts/s'], 'Adv sample 482': ['Init Bwd Win Byts', 'Pkt Len Max', 'Pkt Len Std', 'Pkt Size Avg', 'Fwd Pkt Len Mean', 'Pkt Len Mean', 'Fwd Pkt Len Std', 'Flow Pkts/s', 'Pkt Len Min', 'Fwd Pkt Len Max'], 'Adv sample 483': ['Init Bwd Win Byts', 'SYN Flag Cnt', 'FIN Flag Cnt', 'Pkt Len Min', 'Flow IAT Max', 'Fwd IAT Max', 'Idle Min', 'Down/Up Ratio', 'Idle Max', 'Flow Duration'], 'Adv sample 484': ['Down/Up Ratio', 'Init Bwd Win Byts', 'Pkt Len Min', 'Flow Duration', 'Pkt Len Max', 'Flow IAT Max', 'Pkt Len Std', 'Fwd IAT Std', 'Fwd IAT Max', 'Pkt Len Mean'], 'Adv sample 485': ['SYN Flag Cnt', 'Init Bwd Win Byts', 'Idle Min', 'Fwd IAT Max', 'Idle Max', 'Flow Pkts/s', 'Idle Mean', 'Bwd Header Len', 'Fwd IAT Min', 'Flow IAT Max'], 'Adv sample 486': ['Bwd Pkts/s', 'Init Bwd Win Byts', 'Down/Up Ratio', 'Pkt Len Min', 'Flow Duration', 'Idle Mean', 'Bwd Pkt Len Min', 'Fwd IAT Max', 'Fwd Pkt Len Std', 'Idle Max'], 'Adv sample 487': ['Init Bwd Win Byts', 'Down/Up Ratio', 'Pkt Len Min', 'Flow Duration', 'Fwd IAT Max', 'Pkt Len Max', 'Pkt Size Avg', 'Flow IAT Max', 'Pkt Len Std', 'Pkt Len Mean'], 'Adv sample 488': ['Init Bwd Win Byts', 'Down/Up Ratio', 'Pkt Len Min', 'Flow Duration', 'Pkt Len Max', 'Fwd IAT Max', 'Flow IAT Std', 'Pkt Len Std', 'Bwd Pkts/s', 'Flow IAT Max'], 'Adv sample 489': ['Init Bwd Win Byts', 'Down/Up Ratio', 'Pkt Len Min', 'Fwd IAT Max', 'Flow Duration', 'Pkt Len Max', 'Flow IAT Std', 'Pkt Len Std', 'Pkt Size Avg', 'Idle Min'], 'Adv sample 490': ['Init Bwd Win Byts', 'Down/Up Ratio', 'Pkt Len Min', 'Flow Duration', 'Fwd IAT Max', 'Flow IAT Std', 'Pkt Len Std', 'Pkt Len Max', 'Fwd IAT Std', 'Flow IAT Max'], 'Adv sample 491': ['Bwd Pkts/s', 'Init Bwd Win Byts', 'Down/Up Ratio', 'Pkt Len Min', 'Flow Duration', 'Pkt Len Max', 'Fwd IAT Max', 'Flow IAT Max', 'Fwd Act Data Pkts', 'Pkt Len Std'], 'Adv sample 492': ['Init Bwd Win Byts', 'Down/Up Ratio', 'Pkt Len Min', 'Flow Duration', 'Fwd IAT Max', 'Pkt Len Max', 'Pkt Len Std', 'Pkt Size Avg', 'Flow IAT Std', 'PSH Flag Cnt'], 'Adv sample 493': ['SYN Flag Cnt', 'Init Bwd Win Byts', 'Bwd Pkt Len Max', 'Bwd Pkt Len Std', 'Bwd Seg Size Avg', 'Idle Min', 'Active Mean', 'Bwd Pkt Len Mean', 'Bwd IAT Std', 'ACK Flag Cnt'], 'Adv sample 494': ['Init Bwd Win Byts', 'Down/Up Ratio', 'Pkt Len Min', 'Flow Duration', 'Pkt Len Max', 'Fwd IAT Max', 'Flow IAT Max', 'Pkt Len Mean', 'Flow IAT Std', 'PSH Flag Cnt'], 'Adv sample 495': ['Init Bwd Win Byts', 'Down/Up Ratio', 'Pkt Len Min', 'Fwd IAT Max', 'Flow Duration', 'Pkt Len Max', 'Fwd Pkt Len Max', 'Flow IAT Max', 'Pkt Len Std', 'Fwd IAT Std'], 'Adv sample 496': ['SYN Flag Cnt', 'Init Bwd Win Byts', 'Pkt Len Min', 'ACK Flag Cnt', 'Idle Max', 'Fwd IAT Std', 'Idle Min', 'Bwd Pkt Len Mean', 'Bwd Pkt Len Std', 'Flow IAT Max'], 'Adv sample 497': ['Init Bwd Win Byts', 'SYN Flag Cnt', 'Pkt Len Min', 'Idle Min', 'Idle Max', 'Idle Mean', 'Fwd IAT Max', 'Pkt Len Mean', 'Pkt Len Max', 'Flow IAT Max'], 'Adv sample 498': ['Init Bwd Win Byts', 'SYN Flag Cnt', 'Pkt Len Min', 'Idle Min', 'Idle Max', 'Down/Up Ratio', 'Idle Mean', 'Pkt Len Std', 'Pkt Len Max', 'Fwd IAT Max'], 'Adv sample 499': ['Init Bwd Win Byts', 'SYN Flag Cnt', 'Pkt Len Min', 'Idle Min', 'Idle Max', 'Bwd Pkt Len Min', 'Fwd IAT Max', 'Fwd Pkt Len Max', 'Idle Mean', 'Flow Duration'], 'Adv sample 500': ['Init Bwd Win Byts', 'Down/Up Ratio', 'Pkt Len Min', 'Pkt Len Std', 'Fwd IAT Max', 'Fwd Pkt Len Mean', 'Flow IAT Max', 'Fwd Pkt Len Max', 'Fwd Seg Size Avg', 'Pkt Len Max'], 'Adv sample 501': ['Init Bwd Win Byts', 'SYN Flag Cnt', 'Pkt Len Min', 'Idle Min', 'Idle Max', 'Flow IAT Max', 'Flow Pkts/s', 'Bwd Pkt Len Min', 'Flow Duration', 'Idle Mean'], 'Adv sample 502': ['Init Bwd Win Byts', 'Down/Up Ratio', 'Pkt Len Min', 'Flow Duration', 'Fwd IAT Max', 'Pkt Len Max', 'Fwd IAT Std', 'Flow IAT Std', 'Pkt Size Avg', 'FIN Flag Cnt'], 'Adv sample 503': ['Init Bwd Win Byts', 'SYN Flag Cnt', 'Bwd IAT Std', 'Active Max', 'Bwd IAT Max', 'Idle Std', 'Active Min', 'Active Mean', 'Flow IAT Mean', 'Down/Up Ratio'], 'Adv sample 504': ['Bwd Pkts/s', 'Init Bwd Win Byts', 'Down/Up Ratio', 'Pkt Len Min', 'Pkt Len Max', 'Fwd IAT Max', 'Fwd Pkt Len Std', 'Flow IAT Std', 'Fwd Pkt Len Max', 'Fwd IAT Tot'], 'Adv sample 505': ['Init Bwd Win Byts', 'Down/Up Ratio', 'Pkt Len Min', 'Flow Duration', 'Fwd IAT Max', 'Flow IAT Std', 'Flow IAT Max', 'Bwd Pkts/s', 'Pkt Len Max', 'PSH Flag Cnt'], 'Adv sample 506': ['Init Bwd Win Byts', 'Flow Pkts/s', 'FIN Flag Cnt', 'Bwd Pkts/s', 'Down/Up Ratio', 'Pkt Len Min', 'Pkt Len Std', 'Pkt Len Max', 'Pkt Len Mean', 'Fwd Pkt Len Std'], 'Adv sample 507': ['Bwd Pkts/s', 'Init Bwd Win Byts', 'Down/Up Ratio', 'Pkt Len Min', 'Pkt Len Mean', 'Bwd Pkt Len Min', 'Pkt Len Max', 'FIN Flag Cnt', 'Pkt Len Std', 'Idle Mean'], 'Adv sample 508': ['SYN Flag Cnt', 'Init Bwd Win Byts', 'Bwd PSH Flags', 'Tot Fwd Pkts', 'Bwd Pkt Len Max', 'Idle Mean', 'Bwd Pkt Len Std', 'Flow IAT Mean', 'Flow Duration', 'Tot Bwd Pkts'], 'Adv sample 509': ['SYN Flag Cnt', 'Init Bwd Win Byts', 'Idle Min', 'Idle Mean', 'Fwd IAT Max', 'Fwd IAT Std', 'Flow Duration', 'ACK Flag Cnt', 'Idle Max', 'Bwd Pkt Len Max'], 'Adv sample 510': ['Init Bwd Win Byts', 'Flow Pkts/s', 'FIN Flag Cnt', 'Bwd Pkts/s', 'Down/Up Ratio', 'Pkt Len Max', 'Pkt Len Std', 'Pkt Len Min', 'Fwd Seg Size Avg', 'Fwd Pkt Len Mean'], 'Adv sample 511': ['Init Bwd Win Byts', 'SYN Flag Cnt', 'Pkt Len Min', 'Idle Max', 'Bwd Pkt Len Min', 'Idle Min', 'Idle Mean', 'Fwd IAT Max', 'Flow IAT Max', 'PSH Flag Cnt'], 'Adv sample 512': ['FIN Flag Cnt', 'Flow Pkts/s', 'Init Bwd Win Byts', 'Bwd PSH Flags', 'Bwd Pkt Len Mean', 'TotLen Bwd Pkts', 'Bwd IAT Min', 'Down/Up Ratio', 'Idle Std', 'Tot Bwd Pkts'], 'Adv sample 513': ['SYN Flag Cnt', 'Init Bwd Win Byts', 'ACK Flag Cnt', 'Idle Max', 'Fwd Pkts/s', 'Idle Min', 'Bwd Pkt Len Mean', 'Fwd Act Data Pkts', 'Bwd Pkt Len Std', 'Flow Duration'], 'Adv sample 514': ['SYN Flag Cnt', 'Init Bwd Win Byts', 'Idle Min', 'Pkt Len Min', 'Subflow Fwd Pkts', 'ACK Flag Cnt', 'Idle Max', 'Idle Mean', 'TotLen Bwd Pkts', 'PSH Flag Cnt'], 'Adv sample 515': ['Init Bwd Win Byts', 'Down/Up Ratio', 'Pkt Len Min', 'Flow Duration', 'Pkt Len Std', 'Flow IAT Std', 'Flow IAT Max', 'Fwd IAT Max', 'Pkt Len Max', 'Pkt Len Mean'], 'Adv sample 516': ['Init Bwd Win Byts', 'Pkt Len Max', 'Down/Up Ratio', 'Fwd IAT Std', 'Fwd Pkt Len Max', 'Pkt Len Mean', 'Fwd IAT Tot', 'Pkt Len Std', 'Pkt Size Avg', 'Fwd Pkt Len Mean'], 'Adv sample 517': ['Init Bwd Win Byts', 'Bwd Pkts/s', 'Down/Up Ratio', 'Pkt Len Min', 'Flow Duration', 'Bwd Pkt Len Min', 'Pkt Size Avg', 'Pkt Len Mean', 'Idle Mean', 'Idle Min'], 'Adv sample 518': ['SYN Flag Cnt', 'Init Bwd Win Byts', 'ACK Flag Cnt', 'Bwd Pkt Len Std', 'Bwd Pkt Len Max', 'Idle Max', 'Fwd IAT Max', 'Idle Mean', 'Idle Min', 'Pkt Len Min'], 'Adv sample 519': ['Init Bwd Win Byts', 'SYN Flag Cnt', 'Pkt Len Min', 'FIN Flag Cnt', 'Fwd IAT Max', 'Idle Min', 'Idle Mean', 'Flow IAT Max', 'Idle Max', 'Fwd IAT Std'], 'Adv sample 520': ['SYN Flag Cnt', 'Init Bwd Win Byts', 'Idle Min', 'ACK Flag Cnt', 'Fwd IAT Max', 'Idle Mean', 'Pkt Len Min', 'Idle Max', 'Fwd IAT Std', 'PSH Flag Cnt'], 'Adv sample 521': ['ACK Flag Cnt', 'Bwd IAT Std', 'Init Bwd Win Byts', 'Bwd IAT Tot', 'Bwd IAT Max', 'Flow IAT Mean', 'Bwd Pkt Len Mean', 'Tot Fwd Pkts', 'Bwd PSH Flags', 'Bwd Header Len'], 'Adv sample 522': ['Init Bwd Win Byts', 'Down/Up Ratio', 'Pkt Len Min', 'Flow Duration', 'Flow IAT Max', 'Flow IAT Std', 'Fwd IAT Max', 'Pkt Len Max', 'Pkt Len Std', 'Fwd IAT Std'], 'Adv sample 523': ['Init Bwd Win Byts', 'Down/Up Ratio', 'Pkt Len Min', 'Flow Duration', 'Fwd IAT Max', 'Flow IAT Std', 'Flow IAT Max', 'Pkt Len Std', 'Flow Pkts/s', 'Fwd Pkt Len Max'], 'Adv sample 524': ['Init Bwd Win Byts', 'Down/Up Ratio', 'Pkt Len Min', 'Flow Duration', 'Fwd IAT Max', 'Pkt Len Max', 'Flow Pkts/s', 'Flow IAT Std', 'Pkt Size Avg', 'PSH Flag Cnt'], 'Adv sample 525': ['ACK Flag Cnt', 'Bwd IAT Std', 'Init Bwd Win Byts', 'Bwd IAT Tot', 'Bwd IAT Max', 'Pkt Len Std', 'Flow IAT Mean', 'Fwd Pkt Len Max', 'Pkt Len Max', 'Pkt Len Min'], 'Adv sample 526': ['Init Bwd Win Byts', 'Pkt Size Avg', 'Pkt Len Max', 'Pkt Len Std', 'Fwd Pkt Len Std', 'Fwd Seg Size Avg', 'Down/Up Ratio', 'Pkt Len Mean', 'Pkt Len Min', 'Fwd Pkt Len Mean'], 'Adv sample 527': ['Init Bwd Win Byts', 'SYN Flag Cnt', 'Idle Min', 'Pkt Len Min', 'Bwd Pkt Len Min', 'Pkt Len Std', 'Idle Mean', 'Fwd IAT Max', 'Idle Max', 'Flow Duration'], 'Adv sample 528': ['SYN Flag Cnt', 'Init Bwd Win Byts', 'Idle Max', 'ACK Flag Cnt', 'Bwd Pkt Len Max', 'Bwd Pkt Len Std', 'Flow Duration', 'Tot Fwd Pkts', 'Tot Bwd Pkts', 'TotLen Fwd Pkts'], 'Adv sample 529': ['Bwd Pkts/s', 'Init Bwd Win Byts', 'Down/Up Ratio', 'Fwd Pkt Len Max', 'Idle Max', 'Pkt Len Min', 'Flow Duration', 'Flow IAT Std', 'Idle Min', 'Bwd Pkt Len Min'], 'Adv sample 530': ['Init Bwd Win Byts', 'SYN Flag Cnt', 'Pkt Len Min', 'FIN Flag Cnt', 'Fwd IAT Max', 'Idle Min', 'Flow IAT Max', 'Idle Mean', 'Pkt Len Mean', 'Flow Duration'], 'Adv sample 531': ['Bwd Pkts/s', 'Init Bwd Win Byts', 'Down/Up Ratio', 'Pkt Len Min', 'Pkt Size Avg', 'Fwd IAT Max', 'Pkt Len Mean', 'Pkt Len Max', 'Fwd IAT Mean', 'Pkt Len Std'], 'Adv sample 532': ['Init Bwd Win Byts', 'Down/Up Ratio', 'Pkt Len Min', 'Flow Duration', 'Fwd IAT Max', 'Flow IAT Max', 'Bwd Pkts/s', 'Flow IAT Std', 'Pkt Len Std', 'Pkt Len Max'], 'Adv sample 533': ['Init Bwd Win Byts', 'Pkt Len Std', 'Pkt Len Max', 'Fwd Pkt Len Mean', 'Pkt Size Avg', 'Down/Up Ratio', 'Fwd Pkt Len Std', 'Fwd Seg Size Avg', 'Pkt Len Mean', 'Pkt Len Min'], 'Adv sample 534': ['SYN Flag Cnt', 'Init Bwd Win Byts', 'ACK Flag Cnt', 'Flow Duration', 'Fwd IAT Std', 'Bwd Pkt Len Min', 'Fwd IAT Min', 'Tot Bwd Pkts', 'Idle Max', 'Bwd Seg Size Avg'], 'Adv sample 535': ['Init Bwd Win Byts', 'Down/Up Ratio', 'Pkt Len Min', 'Flow Duration', 'Fwd IAT Max', 'Flow IAT Std', 'Pkt Len Max', 'Flow IAT Max', 'PSH Flag Cnt', 'FIN Flag Cnt'], 'Adv sample 536': ['SYN Flag Cnt', 'Init Bwd Win Byts', 'Idle Max', 'Idle Min', 'Pkt Len Min', 'Flow Pkts/s', 'Idle Mean', 'Bwd Pkt Len Min', 'PSH Flag Cnt', 'Fwd IAT Max'], 'Adv sample 537': ['ACK Flag Cnt', 'Bwd IAT Std', 'Init Bwd Win Byts', 'Bwd IAT Tot', 'Bwd IAT Max', 'Flow IAT Mean', 'Active Mean', 'Fwd IAT Tot', 'Subflow Fwd Byts', 'Subflow Bwd Pkts'], 'Adv sample 538': ['Init Bwd Win Byts', 'SYN Flag Cnt', 'Pkt Len Min', 'Idle Min', 'Pkt Len Mean', 'Pkt Len Max', 'Pkt Size Avg', 'Idle Max', 'Flow IAT Max', 'Pkt Len Std'], 'Adv sample 539': ['SYN Flag Cnt', 'Init Bwd Win Byts', 'Idle Min', 'Idle Mean', 'Bwd Pkt Len Mean', 'Idle Max', 'Bwd Header Len', 'Flow Pkts/s', 'ACK Flag Cnt', 'Fwd IAT Max'], 'Adv sample 540': ['Init Bwd Win Byts', 'Down/Up Ratio', 'Pkt Len Min', 'Flow Duration', 'Flow IAT Max', 'Flow IAT Std', 'Pkt Len Max', 'Pkt Len Std', 'Fwd IAT Max', 'Pkt Size Avg'], 'Adv sample 541': ['Init Bwd Win Byts', 'Bwd Pkts/s', 'Down/Up Ratio', 'Pkt Len Min', 'Flow Duration', 'Fwd IAT Max', 'FIN Flag Cnt', 'Fwd Pkt Len Mean', 'Idle Min', 'Pkt Len Std'], 'Adv sample 542': ['Init Bwd Win Byts', 'Down/Up Ratio', 'Pkt Len Min', 'Flow Duration', 'Fwd IAT Max', 'Flow IAT Max', 'Pkt Len Max', 'Flow IAT Std', 'Fwd Pkt Len Std', 'Pkt Len Std'], 'Adv sample 543': ['Init Bwd Win Byts', 'Down/Up Ratio', 'Pkt Len Min', 'Flow Duration', 'Flow IAT Max', 'Fwd IAT Max', 'Pkt Len Std', 'Pkt Len Max', 'Pkt Len Mean', 'Fwd IAT Tot'], 'Adv sample 544': ['Init Bwd Win Byts', 'Pkt Len Max', 'Pkt Size Avg', 'Pkt Len Mean', 'Pkt Len Std', 'Fwd Pkt Len Max', 'Fwd Pkt Len Mean', 'Fwd Pkt Len Std', 'Flow Pkts/s', 'Pkt Len Min'], 'Adv sample 545': ['SYN Flag Cnt', 'Init Bwd Win Byts', 'Idle Max', 'Fwd IAT Max', 'Pkt Len Min', 'Idle Mean', 'Idle Min', 'ACK Flag Cnt', 'Bwd Pkt Len Mean', 'Bwd Pkt Len Min'], 'Adv sample 546': ['Init Bwd Win Byts', 'Down/Up Ratio', 'Pkt Len Min', 'Flow Duration', 'Fwd IAT Max', 'Flow IAT Max', 'Pkt Len Std', 'Pkt Len Max', 'Bwd Pkts/s', 'Flow Pkts/s'], 'Adv sample 547': ['Init Bwd Win Byts', 'Down/Up Ratio', 'Pkt Len Min', 'Flow Duration', 'Fwd IAT Max', 'Pkt Len Std', 'Flow IAT Max', 'Pkt Len Max', 'FIN Flag Cnt', 'Flow IAT Std'], 'Adv sample 548': ['Bwd Pkts/s', 'Init Bwd Win Byts', 'Down/Up Ratio', 'Pkt Len Min', 'Fwd IAT Max', 'FIN Flag Cnt', 'Fwd Pkt Len Max', 'Flow Duration', 'Fwd Pkt Len Mean', 'Pkt Len Mean'], 'Adv sample 549': ['Bwd Pkts/s', 'Init Bwd Win Byts', 'Down/Up Ratio', 'Pkt Len Min', 'Flow IAT Max', 'Flow Duration', 'Fwd Seg Size Avg', 'Pkt Len Max', 'Idle Min', 'Idle Mean'], 'Adv sample 550': ['ACK Flag Cnt', 'Bwd IAT Std', 'Init Bwd Win Byts', 'Bwd IAT Tot', 'Bwd IAT Max', 'Flow IAT Mean', 'Pkt Len Std', 'Bwd Pkt Len Max', 'Pkt Len Min', 'Pkt Len Mean'], 'Adv sample 551': ['ACK Flag Cnt', 'Bwd IAT Std', 'Init Bwd Win Byts', 'Bwd IAT Max', 'Bwd IAT Tot', 'Flow IAT Mean', 'Bwd Pkt Len Std', 'Pkt Len Min', 'Fwd IAT Std', 'Bwd IAT Min'], 'Adv sample 552': ['Init Bwd Win Byts', 'Down/Up Ratio', 'Pkt Len Min', 'Flow Duration', 'Fwd IAT Max', 'Flow IAT Std', 'FIN Flag Cnt', 'Fwd Pkt Len Max', 'Flow IAT Max', 'Fwd IAT Std'], 'Adv sample 553': ['Bwd Pkts/s', 'Init Bwd Win Byts', 'Down/Up Ratio', 'Idle Min', 'Bwd Pkt Len Min', 'Pkt Len Min', 'Flow Duration', 'Pkt Len Max', 'Fwd IAT Max', 'Idle Mean'], 'Adv sample 554': ['Init Bwd Win Byts', 'Down/Up Ratio', 'Pkt Len Min', 'Flow Duration', 'Fwd IAT Max', 'Flow IAT Max', 'Flow IAT Std', 'Pkt Size Avg', 'Pkt Len Std', 'Pkt Len Mean'], 'Adv sample 555': ['Init Bwd Win Byts', 'Down/Up Ratio', 'Pkt Len Min', 'Flow Duration', 'Fwd IAT Max', 'Flow IAT Max', 'Flow IAT Std', 'Fwd IAT Std', 'Fwd IAT Tot', 'Pkt Len Max'], 'Adv sample 556': ['Init Bwd Win Byts', 'Pkt Size Avg', 'Pkt Len Mean', 'Pkt Len Max', 'Pkt Len Std', 'Fwd Pkt Len Max', 'Flow Pkts/s', 'Pkt Len Min', 'Fwd Pkt Len Mean', 'Fwd Pkt Len Std'], 'Adv sample 557': ['Init Bwd Win Byts', 'Pkt Len Std', 'Pkt Len Mean', 'Pkt Size Avg', 'Fwd Pkt Len Max', 'Pkt Len Max', 'Fwd Pkt Len Std', 'Pkt Len Min', 'Down/Up Ratio', 'Fwd Seg Size Avg'], 'Adv sample 558': ['Init Bwd Win Byts', 'Pkt Len Mean', 'Pkt Size Avg', 'Pkt Len Max', 'Pkt Len Std', 'Flow Pkts/s', 'Fwd Pkt Len Std', 'Fwd Seg Size Avg', 'Fwd Pkt Len Mean', 'Fwd Pkt Len Max'], 'Adv sample 559': ['Init Bwd Win Byts', 'Pkt Len Std', 'Pkt Len Mean', 'Pkt Len Max', 'Fwd Seg Size Avg', 'Pkt Size Avg', 'Fwd Pkt Len Std', 'Fwd Pkt Len Mean', 'Pkt Len Min', 'Flow Pkts/s'], 'Adv sample 560': ['Init Bwd Win Byts', 'SYN Flag Cnt', 'Pkt Len Min', 'Idle Min', 'Bwd Pkt Len Min', 'Idle Mean', 'Pkt Len Max', 'Idle Max', 'Flow IAT Max', 'Flow Pkts/s'], 'Adv sample 561': ['Bwd PSH Flags', 'Init Bwd Win Byts', 'Down/Up Ratio', 'Pkt Len Max', 'Pkt Len Mean', 'Pkt Len Std', 'Fwd Pkt Len Max', 'Pkt Size Avg', 'ACK Flag Cnt', 'Bwd Seg Size Avg'], 'Adv sample 562': ['Bwd Pkts/s', 'Init Bwd Win Byts', 'Down/Up Ratio', 'Pkt Len Min', 'Bwd Pkt Len Min', 'Flow Duration', 'Pkt Len Max', 'Idle Min', 'FIN Flag Cnt', 'Fwd Pkt Len Max'], 'Adv sample 563': ['Init Bwd Win Byts', 'Down/Up Ratio', 'Pkt Len Min', 'Flow Duration', 'Pkt Len Max', 'Flow IAT Max', 'Fwd IAT Max', 'Flow IAT Std', 'Pkt Size Avg', 'Pkt Len Std'], 'Adv sample 564': ['Init Bwd Win Byts', 'Flow Pkts/s', 'FIN Flag Cnt', 'Bwd Pkts/s', 'Down/Up Ratio', 'Pkt Len Min', 'Pkt Len Mean', 'Pkt Size Avg', 'Pkt Len Std', 'Pkt Len Max'], 'Adv sample 565': ['Init Bwd Win Byts', 'FIN Flag Cnt', 'Down/Up Ratio', 'Pkt Len Max', 'Pkt Len Min', 'Pkt Len Std', 'Idle Min', 'Pkt Size Avg', 'Flow Duration', 'Idle Max'], 'Adv sample 566': ['Init Bwd Win Byts', 'SYN Flag Cnt', 'Idle Min', 'Pkt Len Min', 'Bwd Pkt Len Min', 'Pkt Len Std', 'Idle Max', 'Fwd IAT Max', 'Idle Mean', 'Down/Up Ratio'], 'Adv sample 567': ['SYN Flag Cnt', 'Init Bwd Win Byts', 'Bwd PSH Flags', 'Fwd IAT Tot', 'Bwd Pkt Len Max', 'Idle Min', 'Idle Std', 'Fwd IAT Max', 'Subflow Bwd Byts', 'Bwd Seg Size Avg'], 'Adv sample 568': ['ACK Flag Cnt', 'Bwd IAT Std', 'Init Bwd Win Byts', 'Bwd IAT Max', 'Bwd IAT Tot', 'Flow IAT Mean', 'Bwd IAT Mean', 'Fwd IAT Min', 'Pkt Len Mean', 'Flow IAT Min'], 'Adv sample 569': ['Init Bwd Win Byts', 'SYN Flag Cnt', 'Pkt Len Min', 'Idle Min', 'Idle Max', 'Flow IAT Max', 'Idle Mean', 'Pkt Size Avg', 'Flow Pkts/s', 'Pkt Len Std'], 'Adv sample 570': ['SYN Flag Cnt', 'Init Bwd Win Byts', 'Idle Min', 'Idle Max', 'Pkt Len Min', 'Bwd Pkt Len Min', 'Fwd IAT Max', 'ACK Flag Cnt', 'Flow Pkts/s', 'Idle Mean'], 'Adv sample 571': ['ACK Flag Cnt', 'Bwd IAT Std', 'Init Bwd Win Byts', 'Bwd IAT Tot', 'Bwd IAT Max', 'Active Min', 'Pkt Len Min', 'Bwd IAT Min', 'PSH Flag Cnt', 'Bwd Pkt Len Min'], 'Adv sample 572': ['Init Bwd Win Byts', 'Bwd Pkts/s', 'Down/Up Ratio', 'Pkt Len Min', 'Flow Duration', 'Pkt Len Std', 'Bwd Pkt Len Min', 'Fwd IAT Max', 'Flow IAT Max', 'Pkt Len Max'], 'Adv sample 573': ['Init Bwd Win Byts', 'SYN Flag Cnt', 'Pkt Len Min', 'FIN Flag Cnt', 'ACK Flag Cnt', 'Down/Up Ratio', 'Flow IAT Max', 'Flow Duration', 'Fwd IAT Max', 'PSH Flag Cnt'], 'Adv sample 574': ['Init Bwd Win Byts', 'Down/Up Ratio', 'Pkt Len Min', 'Flow Duration', 'Fwd IAT Max', 'Flow IAT Max', 'Pkt Len Std', 'Flow Pkts/s', 'Pkt Len Max', 'Bwd Pkts/s'], 'Adv sample 575': ['Init Bwd Win Byts', 'Down/Up Ratio', 'Pkt Len Min', 'Flow Duration', 'Flow IAT Std', 'Fwd IAT Max', 'Flow IAT Max', 'Fwd IAT Std', 'Pkt Len Std', 'Fwd Pkt Len Max'], 'Adv sample 576': ['Init Bwd Win Byts', 'Pkt Len Std', 'Pkt Len Max', 'Pkt Size Avg', 'Pkt Len Mean', 'Fwd Pkt Len Max', 'Down/Up Ratio', 'Pkt Len Min', 'Fwd Pkt Len Mean', 'Fwd Pkt Len Std'], 'Adv sample 577': ['Init Bwd Win Byts', 'SYN Flag Cnt', 'Idle Min', 'Pkt Len Min', 'Flow IAT Max', 'Idle Max', 'Down/Up Ratio', 'Idle Mean', 'Pkt Len Max', 'Fwd IAT Max'], 'Adv sample 578': ['Flow Pkts/s', 'Init Bwd Win Byts', 'FIN Flag Cnt', 'Bwd Pkts/s', 'Down/Up Ratio', 'Pkt Len Mean', 'Pkt Size Avg', 'Pkt Len Min', 'Pkt Len Max', 'Pkt Len Std'], 'Adv sample 579': ['Init Bwd Win Byts', 'Pkt Len Max', 'Pkt Size Avg', 'Fwd Seg Size Avg', 'Pkt Len Mean', 'Fwd Pkt Len Max', 'Pkt Len Std', 'Pkt Len Min', 'Flow Pkts/s', 'Down/Up Ratio'], 'Adv sample 580': ['Init Bwd Win Byts', 'Down/Up Ratio', 'Pkt Len Min', 'Flow Duration', 'Pkt Len Max', 'Flow IAT Max', 'Flow IAT Std', 'Fwd Pkt Len Max', 'Fwd IAT Max', 'Pkt Len Std'], 'Adv sample 581': ['Init Bwd Win Byts', 'Down/Up Ratio', 'Pkt Len Min', 'Flow Duration', 'Fwd IAT Max', 'Flow IAT Max', 'Flow IAT Std', 'Pkt Len Std', 'Pkt Len Max', 'Pkt Size Avg'], 'Adv sample 582': ['SYN Flag Cnt', 'Init Bwd Win Byts', 'Idle Max', 'ACK Flag Cnt', 'Idle Min', 'Flow Pkts/s', 'Pkt Len Min', 'Idle Mean', 'Bwd Pkt Len Min', 'Subflow Bwd Pkts'], 'Adv sample 583': ['ACK Flag Cnt', 'Bwd IAT Std', 'Init Bwd Win Byts', 'Bwd IAT Max', 'Bwd IAT Tot', 'Pkt Len Min', 'Pkt Len Mean', 'Bwd IAT Min', 'Flow IAT Mean', 'Fwd Pkt Len Max'], 'Adv sample 584': ['Init Bwd Win Byts', 'Down/Up Ratio', 'Pkt Len Min', 'Fwd IAT Std', 'Flow IAT Max', 'Flow Duration', 'Fwd IAT Max', 'Pkt Len Std', 'Pkt Len Max', 'Flow IAT Std'], 'Adv sample 585': ['Init Bwd Win Byts', 'Flow Pkts/s', 'FIN Flag Cnt', 'Bwd Pkts/s', 'Down/Up Ratio', 'Pkt Len Max', 'Pkt Size Avg', 'Pkt Len Min', 'Pkt Len Std', 'Pkt Len Mean'], 'Adv sample 586': ['ACK Flag Cnt', 'Bwd IAT Std', 'Init Bwd Win Byts', 'Bwd IAT Max', 'Bwd IAT Tot', 'Flow IAT Mean', 'Pkt Len Mean', 'Bwd IAT Min', 'Bwd Pkt Len Mean', 'Bwd Pkt Len Min'], 'Adv sample 587': ['ACK Flag Cnt', 'Bwd IAT Std', 'Init Bwd Win Byts', 'Bwd IAT Max', 'Bwd IAT Tot', 'Flow IAT Mean', 'Bwd Pkt Len Min', 'Pkt Len Min', 'TotLen Fwd Pkts', 'Pkt Len Mean'], 'Adv sample 588': ['Init Bwd Win Byts', 'SYN Flag Cnt', 'Pkt Len Min', 'FIN Flag Cnt', 'ACK Flag Cnt', 'Flow IAT Max', 'Fwd IAT Max', 'Down/Up Ratio', 'Idle Min', 'Fwd Pkt Len Mean'], 'Adv sample 589': ['Init Bwd Win Byts', 'SYN Flag Cnt', 'Pkt Len Min', 'Idle Min', 'Idle Max', 'Pkt Len Max', 'Flow IAT Max', 'Bwd Pkt Len Min', 'Pkt Len Std', 'Fwd IAT Std'], 'Adv sample 590': ['SYN Flag Cnt', 'Init Bwd Win Byts', 'Bwd Pkt Len Max', 'Subflow Fwd Byts', 'Idle Mean', 'Bwd Seg Size Avg', 'Idle Max', 'Bwd Header Len', 'Active Max', 'Fwd IAT Std'], 'Adv sample 591': ['SYN Flag Cnt', 'Init Bwd Win Byts', 'ACK Flag Cnt', 'Idle Mean', 'Idle Min', 'Bwd Pkt Len Max', 'Bwd Pkt Len Min', 'Bwd Pkt Len Mean', 'Idle Max', 'Flow IAT Min'], 'Adv sample 592': ['Init Bwd Win Byts', 'SYN Flag Cnt', 'Pkt Len Min', 'Idle Min', 'Fwd Pkt Len Max', 'Pkt Len Max', 'Fwd IAT Max', 'Flow IAT Max', 'Flow Pkts/s', 'Idle Max'], 'Adv sample 593': ['Init Bwd Win Byts', 'SYN Flag Cnt', 'Pkt Len Min', 'Idle Min', 'Flow IAT Max', 'Idle Max', 'PSH Flag Cnt', 'Idle Mean', 'Pkt Len Max', 'Fwd IAT Max'], 'Adv sample 594': ['Init Bwd Win Byts', 'Down/Up Ratio', 'Pkt Len Min', 'Flow Duration', 'Flow IAT Max', 'Fwd IAT Max', 'Flow Pkts/s', 'Pkt Len Std', 'Pkt Len Max', 'Fwd IAT Tot'], 'Adv sample 595': ['Init Bwd Win Byts', 'SYN Flag Cnt', 'Pkt Len Min', 'Idle Min', 'Idle Mean', 'Idle Max', 'Flow Pkts/s', 'Pkt Len Std', 'Pkt Len Max', 'Flow IAT Max'], 'Adv sample 596': ['Init Bwd Win Byts', 'Pkt Len Std', 'Pkt Len Max', 'Pkt Len Mean', 'Pkt Size Avg', 'Fwd Pkt Len Std', 'Fwd Seg Size Avg', 'Pkt Len Min', 'Flow Pkts/s', 'Fwd Pkt Len Max'], 'Adv sample 597': ['Init Bwd Win Byts', 'Down/Up Ratio', 'Pkt Len Min', 'Flow Duration', 'Pkt Len Std', 'FIN Flag Cnt', 'Pkt Len Max', 'Pkt Len Mean', 'Fwd IAT Std', 'Flow IAT Std'], 'Adv sample 598': ['Init Bwd Win Byts', 'Down/Up Ratio', 'Pkt Len Min', 'Flow Duration', 'Flow IAT Max', 'Pkt Len Max', 'Fwd IAT Max', 'Fwd Pkt Len Max', 'Fwd Pkt Len Std', 'Fwd IAT Std'], 'Adv sample 599': ['Init Bwd Win Byts', 'URG Flag Cnt', 'FIN Flag Cnt', 'Down/Up Ratio', 'Bwd PSH Flags', 'Bwd URG Flags', 'Fwd IAT Tot', 'Pkt Len Min', 'Bwd Seg Size Avg', 'Pkt Len Mean'], 'Adv sample 600': ['ACK Flag Cnt', 'Bwd IAT Std', 'Init Bwd Win Byts', 'Bwd IAT Tot', 'Bwd IAT Max', 'Flow IAT Mean', 'Pkt Size Avg', 'Active Std', 'Fwd Seg Size Avg', 'Bwd IAT Min'], 'Adv sample 601': ['Init Bwd Win Byts', 'Down/Up Ratio', 'Pkt Len Min', 'Flow Duration', 'Fwd IAT Max', 'Pkt Len Max', 'Flow IAT Max', 'Bwd Pkts/s', 'Fwd IAT Std', 'Pkt Size Avg'], 'Adv sample 602': ['Bwd Pkts/s', 'Init Bwd Win Byts', 'Down/Up Ratio', 'Pkt Len Min', 'Flow IAT Max', 'Fwd IAT Std', 'Pkt Size Avg', 'Bwd Pkt Len Min', 'Flow Duration', 'TotLen Fwd Pkts'], 'Adv sample 603': ['SYN Flag Cnt', 'Init Bwd Win Byts', 'ACK Flag Cnt', 'Idle Max', 'Bwd Pkt Len Max', 'Idle Min', 'Pkt Len Min', 'Bwd Pkt Len Std', 'PSH Flag Cnt', 'Bwd Seg Size Avg'], 'Adv sample 604': ['Bwd Pkts/s', 'Init Bwd Win Byts', 'Down/Up Ratio', 'Pkt Len Min', 'Flow Duration', 'Bwd Pkt Len Min', 'Fwd IAT Max', 'Idle Mean', 'Fwd Pkt Len Max', 'Active Std'], 'Adv sample 605': ['Init Bwd Win Byts', 'Down/Up Ratio', 'Pkt Len Min', 'Flow Duration', 'Fwd IAT Max', 'Flow IAT Std', 'Pkt Len Max', 'Pkt Len Std', 'Flow IAT Max', 'Fwd Pkt Len Max'], 'Adv sample 606': ['SYN Flag Cnt', 'Init Bwd Win Byts', 'Bwd Pkt Len Std', 'Bwd IAT Std', 'Bwd Pkt Len Max', 'Bwd IAT Max', 'Bwd Pkt Len Mean', 'PSH Flag Cnt', 'Bwd IAT Tot', 'Pkt Len Min'], 'Adv sample 607': ['Init Bwd Win Byts', 'SYN Flag Cnt', 'Pkt Len Min', 'Idle Min', 'Fwd IAT Max', 'Down/Up Ratio', 'Bwd Pkt Len Min', 'Fwd Pkt Len Max', 'Pkt Len Mean', 'Flow IAT Max'], 'Adv sample 608': ['Init Bwd Win Byts', 'Down/Up Ratio', 'Pkt Len Min', 'Flow Duration', 'Fwd IAT Max', 'Pkt Len Max', 'Flow IAT Std', 'Pkt Len Mean', 'Pkt Len Std', 'Bwd Pkts/s'], 'Adv sample 609': ['SYN Flag Cnt', 'Init Bwd Win Byts', 'Idle Min', 'Pkt Len Min', 'Pkt Size Avg', 'Idle Mean', 'Flow IAT Max', 'Idle Max', 'Flow Duration', 'Bwd Pkt Len Min'], 'Adv sample 610': ['Init Bwd Win Byts', 'Down/Up Ratio', 'Pkt Len Min', 'Flow Duration', 'Fwd IAT Max', 'Flow IAT Max', 'Pkt Len Max', 'Pkt Len Mean', 'Pkt Len Std', 'Fwd IAT Std'], 'Adv sample 611': ['SYN Flag Cnt', 'Init Bwd Win Byts', 'Idle Max', 'Bwd Pkt Len Max', 'Pkt Len Min', 'Idle Min', 'Fwd IAT Std', 'Fwd IAT Max', 'Bwd Pkt Len Std', 'Flow Pkts/s'], 'Adv sample 612': ['Init Bwd Win Byts', 'Down/Up Ratio', 'Pkt Len Min', 'Flow Duration', 'Fwd IAT Max', 'Flow IAT Std', 'Pkt Len Max', 'Flow IAT Max', 'Fwd Pkt Len Max', 'Pkt Len Std'], 'Adv sample 613': ['Init Bwd Win Byts', 'Down/Up Ratio', 'Pkt Len Min', 'Flow Duration', 'Flow IAT Max', 'Pkt Len Max', 'Fwd IAT Max', 'Pkt Len Std', 'PSH Flag Cnt', 'Fwd Pkt Len Max'], 'Adv sample 614': ['Bwd Pkts/s', 'Init Bwd Win Byts', 'Down/Up Ratio', 'Pkt Len Min', 'Pkt Len Std', 'Fwd Pkt Len Mean', 'Flow Duration', 'Fwd Seg Size Avg', 'Fwd IAT Tot', 'Bwd Pkt Len Min'], 'Adv sample 615': ['Init Bwd Win Byts', 'Down/Up Ratio', 'Pkt Len Min', 'Flow Duration', 'Fwd IAT Max', 'Flow IAT Std', 'Flow IAT Max', 'Pkt Len Std', 'Pkt Len Max', 'PSH Flag Cnt'], 'Adv sample 616': ['Init Bwd Win Byts', 'SYN Flag Cnt', 'Pkt Len Min', 'Fwd IAT Max', 'Idle Min', 'Flow IAT Max', 'Idle Mean', 'Idle Max', 'PSH Flag Cnt', 'Down/Up Ratio'], 'Adv sample 617': ['Bwd Pkts/s', 'Init Bwd Win Byts', 'Down/Up Ratio', 'Pkt Len Min', 'Idle Min', 'Flow Duration', 'Bwd Pkt Len Min', 'Pkt Len Max', 'Idle Max', 'Fwd IAT Max'], 'Adv sample 618': ['ACK Flag Cnt', 'Bwd IAT Std', 'Init Bwd Win Byts', 'Bwd IAT Tot', 'Bwd IAT Max', 'Flow IAT Mean', 'Pkt Len Min', 'Flow IAT Min', 'Fwd IAT Std', 'Subflow Bwd Byts'], 'Adv sample 619': ['Init Bwd Win Byts', 'Down/Up Ratio', 'Pkt Len Min', 'Flow Duration', 'Fwd IAT Max', 'Flow IAT Max', 'Pkt Size Avg', 'Pkt Len Max', 'Fwd IAT Std', 'FIN Flag Cnt'], 'Adv sample 620': ['Init Bwd Win Byts', 'Down/Up Ratio', 'Pkt Len Min', 'Flow Duration', 'Pkt Len Max', 'Fwd IAT Max', 'Flow IAT Std', 'Flow IAT Max', 'Pkt Len Std', 'Fwd Seg Size Avg'], 'Adv sample 621': ['Init Bwd Win Byts', 'Down/Up Ratio', 'Pkt Len Min', 'Flow Duration', 'Flow IAT Std', 'Fwd IAT Max', 'Pkt Len Std', 'Pkt Len Max', 'Fwd Pkt Len Std', 'Pkt Size Avg'], 'Adv sample 622': ['SYN Flag Cnt', 'Init Bwd Win Byts', 'Pkt Len Min', 'Bwd Pkt Len Max', 'Bwd Pkt Len Mean', 'Active Std', 'Fwd Pkt Len Max', 'Tot Fwd Pkts', 'Fwd IAT Max', 'Flow IAT Max'], 'Adv sample 623': ['Init Bwd Win Byts', 'Pkt Len Mean', 'Pkt Len Max', 'Pkt Len Std', 'Fwd Pkt Len Max', 'Fwd Seg Size Avg', 'Pkt Len Min', 'Pkt Size Avg', 'Fwd Pkt Len Std', 'Down/Up Ratio'], 'Adv sample 624': ['Init Bwd Win Byts', 'Down/Up Ratio', 'Pkt Len Min', 'Flow Duration', 'Fwd IAT Max', 'Flow IAT Std', 'Pkt Len Std', 'Flow IAT Max', 'Pkt Size Avg', 'Pkt Len Max'], 'Adv sample 625': ['Init Bwd Win Byts', 'Flow Pkts/s', 'FIN Flag Cnt', 'Bwd Pkts/s', 'Down/Up Ratio', 'Pkt Len Min', 'Pkt Size Avg', 'Pkt Len Max', 'Pkt Len Mean', 'Pkt Len Std'], 'Adv sample 626': ['Init Bwd Win Byts', 'Down/Up Ratio', 'Pkt Len Min', 'Flow Duration', 'Flow IAT Max', 'Flow IAT Std', 'Pkt Len Max', 'Fwd IAT Max', 'Pkt Len Std', 'Idle Mean'], 'Adv sample 627': ['Init Bwd Win Byts', 'URG Flag Cnt', 'FIN Flag Cnt', 'Down/Up Ratio', 'Bwd URG Flags', 'Bwd PSH Flags', 'TotLen Bwd Pkts', 'Flow IAT Std', 'Fwd IAT Tot', 'Pkt Len Std'], 'Adv sample 628': ['Init Bwd Win Byts', 'Down/Up Ratio', 'Pkt Len Min', 'Flow Duration', 'Pkt Len Max', 'Fwd IAT Max', 'Pkt Len Std', 'Flow IAT Max', 'Pkt Len Mean', 'Flow IAT Std'], 'Adv sample 629': ['Init Bwd Win Byts', 'SYN Flag Cnt', 'Pkt Len Min', 'Flow IAT Max', 'Fwd IAT Max', 'FIN Flag Cnt', 'Idle Min', 'Idle Max', 'Flow Duration', 'PSH Flag Cnt'], 'Adv sample 630': ['Bwd Pkts/s', 'Init Bwd Win Byts', 'Down/Up Ratio', 'Pkt Len Min', 'Flow Duration', 'Idle Min', 'Pkt Len Max', 'Flow IAT Std', 'Fwd IAT Max', 'Fwd IAT Std'], 'Adv sample 631': ['SYN Flag Cnt', 'Init Bwd Win Byts', 'Bwd Seg Size Avg', 'Bwd Pkt Len Min', 'Idle Min', 'Idle Max', 'Subflow Bwd Pkts', 'Fwd IAT Std', 'Bwd Pkt Len Max', 'Tot Fwd Pkts'], 'Adv sample 632': ['Bwd Pkts/s', 'Init Bwd Win Byts', 'Down/Up Ratio', 'Bwd Pkt Len Min', 'Fwd Pkt Len Max', 'Pkt Len Min', 'Flow Duration', 'Fwd IAT Max', 'Idle Min', 'Pkt Len Std'], 'Adv sample 633': ['Bwd PSH Flags', 'Init Bwd Win Byts', 'Down/Up Ratio', 'Pkt Len Max', 'Pkt Len Std', 'ACK Flag Cnt', 'Pkt Len Mean', 'Pkt Size Avg', 'Pkt Len Min', 'Fwd IAT Tot'], 'Adv sample 634': ['Bwd Pkts/s', 'Init Bwd Win Byts', 'Down/Up Ratio', 'Pkt Len Min', 'Flow Duration', 'Fwd Pkt Len Max', 'Idle Min', 'Bwd Pkt Len Min', 'Flow IAT Std', 'Pkt Len Mean'], 'Adv sample 635': ['Flow Pkts/s', 'Init Bwd Win Byts', 'FIN Flag Cnt', 'Bwd Pkts/s', 'Pkt Len Mean', 'Down/Up Ratio', 'Bwd Pkt Len Min', 'Fwd Pkt Len Max', 'Pkt Len Min', 'Pkt Size Avg'], 'Adv sample 636': ['SYN Flag Cnt', 'Init Bwd Win Byts', 'Bwd Pkt Len Max', 'Idle Max', 'Flow Duration', 'Tot Bwd Pkts', 'TotLen Fwd Pkts', 'TotLen Bwd Pkts', 'Fwd Pkt Len Min', 'Bwd Pkt Len Min'], 'Adv sample 637': ['SYN Flag Cnt', 'Init Bwd Win Byts', 'Idle Max', 'Pkt Len Min', 'Idle Min', 'ACK Flag Cnt', 'Idle Mean', 'Fwd IAT Std', 'Fwd IAT Max', 'Flow IAT Max'], 'Adv sample 638': ['Init Bwd Win Byts', 'Down/Up Ratio', 'Pkt Len Min', 'Flow Duration', 'Fwd IAT Max', 'Pkt Len Max', 'Fwd IAT Std', 'Flow IAT Std', 'Flow IAT Max', 'PSH Flag Cnt'], 'Adv sample 639': ['Bwd Pkts/s', 'Init Bwd Win Byts', 'Down/Up Ratio', 'Pkt Len Min', 'Flow Duration', 'Pkt Len Mean', 'Pkt Len Max', 'Pkt Len Std', 'Flow IAT Max', 'Idle Mean'], 'Adv sample 640': ['Bwd PSH Flags', 'Init Bwd Win Byts', 'Down/Up Ratio', 'Pkt Len Max', 'Pkt Len Std', 'ACK Flag Cnt', 'Pkt Size Avg', 'Pkt Len Mean', 'Fwd IAT Tot', 'Fwd IAT Std'], 'Adv sample 641': ['SYN Flag Cnt', 'Init Bwd Win Byts', 'Idle Max', 'Idle Min', 'Idle Mean', 'Bwd Pkt Len Min', 'ACK Flag Cnt', 'Flow IAT Max', 'Tot Bwd Pkts', 'Fwd IAT Max'], 'Adv sample 642': ['SYN Flag Cnt', 'Init Bwd Win Byts', 'ACK Flag Cnt', 'Idle Max', 'Flow Duration', 'Tot Fwd Pkts', 'Tot Bwd Pkts', 'TotLen Fwd Pkts', 'TotLen Bwd Pkts', 'Fwd Pkt Len Min'], 'Adv sample 643': ['Init Bwd Win Byts', 'SYN Flag Cnt', 'FIN Flag Cnt', 'Pkt Len Min', 'Idle Min', 'Flow IAT Max', 'Fwd IAT Max', 'ACK Flag Cnt', 'Down/Up Ratio', 'Flow Duration'], 'Adv sample 644': ['Bwd Pkts/s', 'Init Bwd Win Byts', 'Down/Up Ratio', 'Pkt Len Min', 'Flow Duration', 'ACK Flag Cnt', 'Pkt Len Max', 'Fwd IAT Max', 'Flow IAT Max', 'Pkt Len Std'], 'Adv sample 645': ['SYN Flag Cnt', 'Init Bwd Win Byts', 'Idle Mean', 'Idle Min', 'ACK Flag Cnt', 'Pkt Len Min', 'Bwd Pkt Len Min', 'Idle Max', 'Flow Duration', 'Fwd IAT Std'], 'Adv sample 646': ['Init Bwd Win Byts', 'SYN Flag Cnt', 'FIN Flag Cnt', 'Pkt Len Min', 'Flow IAT Max', 'Flow Duration', 'Idle Min', 'Down/Up Ratio', 'ACK Flag Cnt', 'Fwd IAT Max'], 'Adv sample 647': ['Init Bwd Win Byts', 'SYN Flag Cnt', 'Pkt Len Min', 'FIN Flag Cnt', 'Flow Duration', 'Flow IAT Max', 'ACK Flag Cnt', 'Down/Up Ratio', 'Idle Mean', 'Idle Min'], 'Adv sample 648': ['Init Bwd Win Byts', 'SYN Flag Cnt', 'Pkt Len Min', 'Idle Min', 'Fwd IAT Max', 'Pkt Len Max', 'Idle Max', 'Idle Mean', 'Flow IAT Max', 'Pkt Len Mean'], 'Adv sample 649': ['ACK Flag Cnt', 'Bwd IAT Std', 'Init Bwd Win Byts', 'Bwd IAT Max', 'Bwd IAT Tot', 'Fwd Pkt Len Min', 'Flow IAT Mean', 'Fwd IAT Max', 'PSH Flag Cnt', 'Bwd Pkt Len Mean'], 'Adv sample 650': ['Init Bwd Win Byts', 'SYN Flag Cnt', 'FIN Flag Cnt', 'Pkt Len Min', 'Flow IAT Max', 'ACK Flag Cnt', 'Idle Min', 'Idle Mean', 'Fwd IAT Max', 'Flow Duration'], 'Adv sample 651': ['Init Bwd Win Byts', 'Flow Pkts/s', 'FIN Flag Cnt', 'Bwd Pkts/s', 'Down/Up Ratio', 'Pkt Len Mean', 'Pkt Len Min', 'Pkt Len Max', 'Flow Duration', 'Idle Max'], 'Adv sample 652': ['Flow Pkts/s', 'Init Bwd Win Byts', 'FIN Flag Cnt', 'Bwd Pkts/s', 'Down/Up Ratio', 'Pkt Len Min', 'Pkt Len Mean', 'Pkt Size Avg', 'Fwd IAT Tot', 'Bwd Seg Size Avg'], 'Adv sample 653': ['Init Bwd Win Byts', 'SYN Flag Cnt', 'Pkt Len Min', 'Idle Min', 'Fwd IAT Max', 'Flow IAT Max', 'Idle Mean', 'Bwd Pkt Len Min', 'Flow Pkts/s', 'Idle Max'], 'Adv sample 654': ['SYN Flag Cnt', 'Init Bwd Win Byts', 'Bwd Pkt Len Std', 'Bwd Pkt Len Max', 'Fwd Act Data Pkts', 'Flow Byts/s', 'TotLen Bwd Pkts', 'Fwd IAT Std', 'Flow IAT Max', 'Idle Mean'], 'Adv sample 655': ['Init Bwd Win Byts', 'Pkt Len Max', 'Pkt Len Std', 'Pkt Len Mean', 'Pkt Size Avg', 'Fwd Pkt Len Std', 'Fwd Seg Size Avg', 'Fwd Pkt Len Max', 'Fwd Pkt Len Mean', 'Down/Up Ratio'], 'Adv sample 656': ['Init Bwd Win Byts', 'Down/Up Ratio', 'Pkt Len Min', 'Flow Duration', 'Fwd IAT Max', 'Pkt Len Std', 'Pkt Len Max', 'Flow IAT Std', 'Fwd Pkt Len Mean', 'Pkt Size Avg'], 'Adv sample 657': ['Init Bwd Win Byts', 'Pkt Len Max', 'Pkt Len Std', 'Fwd Pkt Len Max', 'Fwd Pkt Len Std', 'Pkt Size Avg', 'Pkt Len Mean', 'Flow Pkts/s', 'Fwd Pkt Len Mean', 'Pkt Len Min'], 'Adv sample 658': ['Init Bwd Win Byts', 'Down/Up Ratio', 'Pkt Len Min', 'Flow Duration', 'Fwd IAT Max', 'Flow IAT Max', 'Pkt Len Max', 'Fwd Pkt Len Mean', 'Pkt Size Avg', 'Flow IAT Std'], 'Adv sample 659': ['SYN Flag Cnt', 'Init Bwd Win Byts', 'Idle Min', 'Subflow Bwd Byts', 'Tot Bwd Pkts', 'Fwd IAT Std', 'TotLen Fwd Pkts', 'Flow Duration', 'Tot Fwd Pkts', 'TotLen Bwd Pkts'], 'Adv sample 660': ['ACK Flag Cnt', 'Bwd IAT Std', 'Init Bwd Win Byts', 'Bwd IAT Tot', 'Bwd IAT Max', 'Flow IAT Mean', 'Pkt Len Min', 'Pkt Size Avg', 'Bwd Pkt Len Min', 'Fwd IAT Std'], 'Adv sample 661': ['Init Bwd Win Byts', 'Down/Up Ratio', 'Pkt Len Min', 'Flow Duration', 'Fwd IAT Max', 'Pkt Len Max', 'Flow IAT Max', 'Flow IAT Std', 'Pkt Len Mean', 'Pkt Size Avg'], 'Adv sample 662': ['Init Bwd Win Byts', 'Pkt Len Max', 'Pkt Len Std', 'Pkt Size Avg', 'Pkt Len Mean', 'Fwd Pkt Len Max', 'Fwd Seg Size Avg', 'Fwd Pkt Len Std', 'Fwd Pkt Len Mean', 'Flow Pkts/s'], 'Adv sample 663': ['SYN Flag Cnt', 'Init Bwd Win Byts', 'Bwd Pkt Len Max', 'Bwd Seg Size Avg', 'Fwd IAT Tot', 'Active Std', 'Flow IAT Max', 'Flow Duration', 'Tot Fwd Pkts', 'Tot Bwd Pkts'], 'Adv sample 664': ['Init Bwd Win Byts', 'Flow Pkts/s', 'FIN Flag Cnt', 'Down/Up Ratio', 'Bwd Pkts/s', 'Pkt Len Min', 'Pkt Len Max', 'Pkt Size Avg', 'Pkt Len Std', 'Fwd Pkt Len Std'], 'Adv sample 665': ['Init Bwd Win Byts', 'Down/Up Ratio', 'Pkt Len Min', 'Flow Duration', 'Fwd IAT Max', 'Pkt Len Max', 'FIN Flag Cnt', 'Pkt Size Avg', 'Flow IAT Std', 'Pkt Len Std'], 'Adv sample 666': ['Bwd IAT Std', 'ACK Flag Cnt', 'Bwd IAT Max', 'Flow IAT Mean', 'Bwd IAT Tot', 'Down/Up Ratio', 'FIN Flag Cnt', 'Bwd Header Len', 'Active Mean', 'Flow Byts/s'], 'Adv sample 667': ['ACK Flag Cnt', 'Bwd IAT Std', 'Init Bwd Win Byts', 'Bwd IAT Tot', 'Bwd IAT Max', 'Bwd Pkt Len Min', 'Flow IAT Mean', 'Pkt Len Max', 'Bwd IAT Mean', 'Fwd IAT Std'], 'Adv sample 668': ['Init Bwd Win Byts', 'Down/Up Ratio', 'Pkt Len Min', 'Flow Duration', 'Fwd IAT Max', 'Flow IAT Std', 'Pkt Size Avg', 'Pkt Len Max', 'Pkt Len Std', 'Flow IAT Max'], 'Adv sample 669': ['Init Bwd Win Byts', 'Flow Pkts/s', 'FIN Flag Cnt', 'Down/Up Ratio', 'Bwd Pkts/s', 'Pkt Len Max', 'Pkt Len Mean', 'Pkt Len Min', 'Pkt Len Std', 'Fwd IAT Tot'], 'Adv sample 670': ['Init Bwd Win Byts', 'Down/Up Ratio', 'Pkt Len Min', 'Flow Duration', 'Fwd IAT Max', 'Flow IAT Max', 'Flow IAT Std', 'Pkt Len Max', 'Pkt Len Std', 'Bwd Pkts/s'], 'Adv sample 671': ['Init Bwd Win Byts', 'Down/Up Ratio', 'Pkt Len Min', 'Flow Duration', 'Bwd Pkts/s', 'Fwd IAT Max', 'Flow IAT Max', 'Flow IAT Std', 'Pkt Len Std', 'Pkt Len Max'], 'Adv sample 672': ['Init Bwd Win Byts', 'Down/Up Ratio', 'Pkt Len Min', 'Flow Duration', 'Flow IAT Max', 'Pkt Len Max', 'Fwd IAT Max', 'Flow IAT Std', 'Fwd IAT Std', 'Flow Pkts/s'], 'Adv sample 673': ['Init Bwd Win Byts', 'Pkt Len Std', 'Pkt Len Max', 'Pkt Len Mean', 'Pkt Size Avg', 'Fwd Seg Size Avg', 'Fwd Pkt Len Max', 'Pkt Len Min', 'Fwd Pkt Len Std', 'Fwd Pkt Len Mean'], 'Adv sample 674': ['ACK Flag Cnt', 'Fwd IAT Min', 'Down/Up Ratio', 'Init Bwd Win Byts', 'Bwd IAT Max', 'Bwd IAT Mean', 'Pkt Len Mean', 'Bwd IAT Tot', 'Flow Pkts/s', 'Flow IAT Mean'], 'Adv sample 675': ['Init Bwd Win Byts', 'Down/Up Ratio', 'Pkt Len Min', 'Flow Duration', 'Fwd IAT Max', 'Flow IAT Std', 'Pkt Len Mean', 'Pkt Len Std', 'FIN Flag Cnt', 'Pkt Len Max'], 'Adv sample 676': ['Init Bwd Win Byts', 'Down/Up Ratio', 'Pkt Len Min', 'Flow Duration', 'Fwd IAT Max', 'Pkt Len Std', 'Flow IAT Max', 'Pkt Len Max', 'Pkt Len Mean', 'Fwd IAT Std'], 'Adv sample 677': ['Init Bwd Win Byts', 'Down/Up Ratio', 'Pkt Len Min', 'Fwd IAT Max', 'Flow Duration', 'Pkt Len Max', 'Fwd IAT Std', 'Pkt Len Std', 'Fwd IAT Tot', 'Flow IAT Std'], 'Adv sample 678': ['SYN Flag Cnt', 'Init Bwd Win Byts', 'Bwd Pkt Len Std', 'Bwd Pkt Len Max', 'Bwd Seg Size Avg', 'Idle Min', 'Bwd IAT Std', 'Active Mean', 'Subflow Bwd Pkts', 'Idle Mean'], 'Adv sample 679': ['Init Bwd Win Byts', 'Down/Up Ratio', 'Pkt Len Min', 'Flow Duration', 'Fwd IAT Max', 'Pkt Len Std', 'Flow IAT Std', 'Pkt Len Max', 'Flow IAT Max', 'Bwd Pkt Len Min'], 'Adv sample 680': ['Init Bwd Win Byts', 'Pkt Len Max', 'Pkt Len Std', 'Pkt Len Mean', 'Pkt Size Avg', 'Pkt Len Min', 'Down/Up Ratio', 'Fwd Pkt Len Max', 'Fwd Pkt Len Std', 'Fwd Pkt Len Mean'], 'Adv sample 681': ['Init Bwd Win Byts', 'URG Flag Cnt', 'FIN Flag Cnt', 'Down/Up Ratio', 'Bwd URG Flags', 'Bwd PSH Flags', 'Pkt Len Min', 'Pkt Len Std', 'Fwd Pkt Len Min', 'Pkt Len Max'], 'Adv sample 682': ['Bwd Pkts/s', 'Init Bwd Win Byts', 'Down/Up Ratio', 'Pkt Len Min', 'Pkt Len Mean', 'Bwd Pkt Len Min', 'Fwd Pkt Len Max', 'Pkt Len Max', 'Fwd IAT Tot', 'Pkt Len Std'], 'Adv sample 683': ['Init Bwd Win Byts', 'SYN Flag Cnt', 'Pkt Len Min', 'Idle Min', 'Idle Max', 'Flow IAT Max', 'Pkt Len Max', 'Fwd IAT Max', 'Idle Mean', 'Pkt Len Mean'], 'Adv sample 684': ['FIN Flag Cnt', 'Flow Pkts/s', 'Init Bwd Win Byts', 'Down/Up Ratio', 'Idle Min', 'Active Max', 'Fwd IAT Mean', 'Subflow Bwd Byts', 'Bwd PSH Flags', 'Pkt Len Min'], 'Adv sample 685': ['Init Bwd Win Byts', 'SYN Flag Cnt', 'Pkt Len Min', 'Idle Min', 'Flow IAT Max', 'Idle Max', 'Idle Mean', 'Pkt Len Max', 'Flow Pkts/s', 'Bwd Pkt Len Min'], 'Adv sample 686': ['Init Bwd Win Byts', 'Flow Pkts/s', 'FIN Flag Cnt', 'Bwd Pkts/s', 'Down/Up Ratio', 'Pkt Len Max', 'Fwd Pkt Len Std', 'Pkt Len Mean', 'Pkt Len Min', 'Flow Duration'], 'Adv sample 687': ['Init Bwd Win Byts', 'Down/Up Ratio', 'Pkt Len Min', 'Flow Duration', 'Pkt Len Max', 'Flow IAT Max', 'Pkt Len Std', 'Flow IAT Std', 'Fwd IAT Max', 'Pkt Len Mean'], 'Adv sample 688': ['Init Bwd Win Byts', 'Bwd Pkts/s', 'Down/Up Ratio', 'Pkt Len Min', 'Flow Duration', 'Pkt Len Max', 'FIN Flag Cnt', 'Pkt Len Std', 'Idle Min', 'Flow Byts/s'], 'Adv sample 689': ['Init Bwd Win Byts', 'Down/Up Ratio', 'Pkt Len Min', 'Flow Duration', 'Flow IAT Std', 'Fwd IAT Max', 'FIN Flag Cnt', 'Pkt Len Max', 'PSH Flag Cnt', 'Pkt Len Mean'], 'Adv sample 690': ['Bwd Pkts/s', 'Init Bwd Win Byts', 'Down/Up Ratio', 'Pkt Len Min', 'Pkt Len Max', 'Flow Duration', 'TotLen Bwd Pkts', 'Fwd IAT Max', 'Bwd Seg Size Avg', 'Subflow Bwd Pkts'], 'Adv sample 691': ['SYN Flag Cnt', 'Init Bwd Win Byts', 'Fwd IAT Tot', 'Bwd Pkt Len Max', 'Bwd Pkt Len Mean', 'Idle Mean', 'Flow Duration', 'Fwd IAT Std', 'Bwd Pkt Len Std', 'Idle Min'], 'Adv sample 692': ['Init Bwd Win Byts', 'Down/Up Ratio', 'Pkt Len Min', 'Flow Duration', 'Fwd IAT Max', 'Flow IAT Max', 'Pkt Len Max', 'Fwd Pkt Len Max', 'Fwd IAT Std', 'Flow IAT Std'], 'Adv sample 693': ['Init Bwd Win Byts', 'Pkt Len Std', 'Pkt Len Mean', 'Pkt Len Max', 'Pkt Size Avg', 'Fwd Pkt Len Std', 'Flow Pkts/s', 'Fwd Seg Size Avg', 'Pkt Len Min', 'Down/Up Ratio'], 'Adv sample 694': ['Init Bwd Win Byts', 'Down/Up Ratio', 'Pkt Len Min', 'Flow Duration', 'Fwd IAT Max', 'Pkt Len Max', 'Pkt Len Std', 'Flow IAT Max', 'Fwd IAT Std', 'Flow Pkts/s'], 'Adv sample 695': ['Bwd Pkts/s', 'Init Bwd Win Byts', 'Down/Up Ratio', 'Pkt Len Min', 'Flow Duration', 'Flow IAT Mean', 'Fwd IAT Tot', 'Fwd Pkt Len Std', 'ACK Flag Cnt', 'Fwd Seg Size Avg'], 'Adv sample 696': ['Init Bwd Win Byts', 'Pkt Len Mean', 'Pkt Len Std', 'Down/Up Ratio', 'Pkt Len Max', 'Pkt Size Avg', 'Fwd Seg Size Avg', 'Fwd Pkt Len Std', 'Fwd Pkt Len Mean', 'Pkt Len Min'], 'Adv sample 697': ['SYN Flag Cnt', 'Init Bwd Win Byts', 'Idle Max', 'Idle Mean', 'Idle Min', 'Bwd Pkt Len Std', 'ACK Flag Cnt', 'Bwd Header Len', 'Bwd Pkt Len Mean', 'Bwd Pkt Len Max'], 'Adv sample 698': ['Bwd Pkts/s', 'Init Bwd Win Byts', 'Down/Up Ratio', 'Pkt Len Min', 'Fwd IAT Std', 'Pkt Len Max', 'Fwd IAT Max', 'Pkt Len Std', 'Fwd IAT Tot', 'Active Std'], 'Adv sample 699': ['Init Bwd Win Byts', 'Flow Pkts/s', 'FIN Flag Cnt', 'Down/Up Ratio', 'Bwd Pkts/s', 'Fwd IAT Tot', 'Pkt Len Min', 'Fwd Pkt Len Max', 'Pkt Len Max', 'Pkt Size Avg'], 'Adv sample 700': ['SYN Flag Cnt', 'Init Bwd Win Byts', 'ACK Flag Cnt', 'Bwd Pkt Len Std', 'Fwd Pkts/s', 'Pkt Len Min', 'Idle Min', 'Bwd IAT Mean', 'Flow Byts/s', 'Idle Mean'], 'Adv sample 701': ['Init Bwd Win Byts', 'Pkt Len Std', 'Pkt Len Max', 'Pkt Size Avg', 'Pkt Len Mean', 'Fwd Pkt Len Max', 'Fwd Pkt Len Mean', 'Flow Pkts/s', 'Down/Up Ratio', 'Fwd Pkt Len Std'], 'Adv sample 702': ['Init Bwd Win Byts', 'Pkt Len Max', 'Pkt Len Mean', 'Pkt Len Std', 'Pkt Size Avg', 'Fwd Seg Size Avg', 'Fwd Pkt Len Mean', 'Fwd Pkt Len Std', 'Fwd Pkt Len Max', 'Down/Up Ratio'], 'Adv sample 703': ['Init Bwd Win Byts', 'Down/Up Ratio', 'Pkt Len Min', 'Flow Duration', 'Fwd IAT Max', 'Pkt Len Std', 'Pkt Len Mean', 'Pkt Len Max', 'Fwd IAT Std', 'FIN Flag Cnt'], 'Adv sample 704': ['Init Bwd Win Byts', 'Pkt Len Max', 'Pkt Len Std', 'Pkt Size Avg', 'Pkt Len Mean', 'Fwd Pkt Len Std', 'Flow Pkts/s', 'Fwd Pkt Len Max', 'Fwd Pkt Len Mean', 'Fwd Seg Size Avg'], 'Adv sample 705': ['Init Bwd Win Byts', 'Down/Up Ratio', 'Pkt Len Min', 'Flow Duration', 'Fwd IAT Max', 'Flow IAT Std', 'Pkt Len Std', 'Pkt Len Max', 'Flow IAT Max', 'PSH Flag Cnt'], 'Adv sample 706': ['Init Bwd Win Byts', 'Pkt Len Max', 'Pkt Len Std', 'Pkt Len Mean', 'Pkt Size Avg', 'Fwd Pkt Len Std', 'Fwd Pkt Len Max', 'Flow Pkts/s', 'Fwd Pkt Len Mean', 'Pkt Len Min'], 'Adv sample 707': ['Bwd Pkts/s', 'Init Bwd Win Byts', 'Down/Up Ratio', 'Pkt Len Min', 'Pkt Len Max', 'Fwd IAT Tot', 'Flow IAT Max', 'Flow Duration', 'Bwd Pkt Len Min', 'Idle Max'], 'Adv sample 708': ['SYN Flag Cnt', 'Init Bwd Win Byts', 'Idle Min', 'Idle Max', 'Pkt Len Min', 'Fwd IAT Tot', 'Idle Mean', 'ACK Flag Cnt', 'Flow Duration', 'Bwd Pkt Len Min'], 'Adv sample 709': ['Init Bwd Win Byts', 'Down/Up Ratio', 'Pkt Len Min', 'Flow Duration', 'Pkt Len Max', 'Flow IAT Max', 'Fwd IAT Max', 'Fwd Seg Size Avg', 'Flow IAT Std', 'Pkt Len Mean'], 'Adv sample 710': ['Init Bwd Win Byts', 'Down/Up Ratio', 'Pkt Len Min', 'Flow Duration', 'Fwd IAT Max', 'Pkt Len Max', 'Flow IAT Std', 'Pkt Len Std', 'Fwd Pkt Len Mean', 'Fwd Pkt Len Max'], 'Adv sample 711': ['Init Bwd Win Byts', 'Flow Pkts/s', 'FIN Flag Cnt', 'Bwd Pkts/s', 'Down/Up Ratio', 'Pkt Len Min', 'Pkt Len Max', 'Pkt Len Mean', 'Pkt Len Std', 'Fwd Pkt Len Max'], 'Adv sample 712': ['Init Bwd Win Byts', 'Pkt Len Std', 'Pkt Len Max', 'Pkt Size Avg', 'Pkt Len Mean', 'Fwd Pkt Len Max', 'Down/Up Ratio', 'Pkt Len Min', 'Fwd Seg Size Avg', 'Flow Pkts/s'], 'Adv sample 713': ['Init Bwd Win Byts', 'SYN Flag Cnt', 'Pkt Len Min', 'Idle Min', 'Pkt Len Max', 'Flow IAT Max', 'Idle Mean', 'Fwd IAT Max', 'Idle Max', 'Down/Up Ratio'], 'Adv sample 714': ['Bwd Pkts/s', 'Init Bwd Win Byts', 'Down/Up Ratio', 'Pkt Len Min', 'Idle Min', 'Pkt Size Avg', 'Fwd IAT Std', 'Fwd Pkt Len Mean', 'Flow Duration', 'Fwd IAT Max'], 'Adv sample 715': ['Init Bwd Win Byts', 'Down/Up Ratio', 'Pkt Len Min', 'Flow Duration', 'Flow IAT Std', 'Flow IAT Max', 'FIN Flag Cnt', 'Fwd IAT Max', 'Pkt Len Std', 'Pkt Len Max'], 'Adv sample 716': ['Init Bwd Win Byts', 'Down/Up Ratio', 'Pkt Len Min', 'Flow Duration', 'Pkt Len Std', 'Flow IAT Std', 'Fwd IAT Max', 'Flow IAT Max', 'Pkt Len Mean', 'Pkt Size Avg'], 'Adv sample 717': ['Init Bwd Win Byts', 'Down/Up Ratio', 'Pkt Len Min', 'Flow Duration', 'Fwd IAT Max', 'Pkt Len Max', 'Fwd Pkt Len Max', 'Flow IAT Max', 'Pkt Len Mean', 'Pkt Len Std'], 'Adv sample 718': ['Init Bwd Win Byts', 'Pkt Len Max', 'Pkt Len Std', 'Flow Pkts/s', 'Pkt Size Avg', 'Pkt Len Mean', 'Fwd Pkt Len Max', 'Fwd Seg Size Avg', 'Fwd Pkt Len Mean', 'Fwd Pkt Len Std'], 'Adv sample 719': ['Bwd Pkts/s', 'Init Bwd Win Byts', 'Down/Up Ratio', 'Pkt Len Min', 'Bwd Pkt Len Min', 'Pkt Len Max', 'Idle Min', 'Pkt Size Avg', 'Fwd IAT Max', 'Fwd IAT Std'], 'Adv sample 720': ['Bwd Pkts/s', 'Init Bwd Win Byts', 'Down/Up Ratio', 'Pkt Len Min', 'Pkt Len Max', 'Bwd Pkt Len Min', 'Flow IAT Max', 'Fwd Pkt Len Mean', 'Flow Duration', 'Pkt Len Std'], 'Adv sample 721': ['Init Bwd Win Byts', 'Down/Up Ratio', 'Pkt Len Min', 'Flow Duration', 'Fwd IAT Max', 'Pkt Len Max', 'Fwd IAT Std', 'Flow IAT Max', 'Pkt Len Mean', 'Flow IAT Std'], 'Adv sample 722': ['Bwd PSH Flags', 'Init Bwd Win Byts', 'Pkt Len Max', 'Bwd Pkt Len Min', 'Pkt Len Std', 'Fwd Pkt Len Max', 'Bwd Pkt Len Std', 'Fwd Seg Size Avg', 'TotLen Fwd Pkts', 'Bwd Pkt Len Mean'], 'Adv sample 723': ['Init Bwd Win Byts', 'URG Flag Cnt', 'Down/Up Ratio', 'FIN Flag Cnt', 'Bwd URG Flags', 'Bwd PSH Flags', 'Pkt Len Min', 'Pkt Len Std', 'Tot Bwd Pkts', 'Idle Std'], 'Adv sample 724': ['Init Bwd Win Byts', 'Down/Up Ratio', 'Pkt Len Min', 'Flow Duration', 'Fwd IAT Max', 'Pkt Len Max', 'Flow IAT Std', 'Fwd IAT Std', 'Pkt Len Std', 'Pkt Size Avg'], 'Adv sample 725': ['Init Bwd Win Byts', 'Down/Up Ratio', 'Pkt Len Min', 'Flow Duration', 'Flow IAT Std', 'Fwd IAT Max', 'FIN Flag Cnt', 'Flow Pkts/s', 'Fwd Pkt Len Max', 'Pkt Len Std'], 'Adv sample 726': ['Init Bwd Win Byts', 'Down/Up Ratio', 'Pkt Len Min', 'Flow Duration', 'Fwd IAT Max', 'Pkt Len Max', 'Flow IAT Max', 'Flow IAT Std', 'Pkt Len Std', 'Pkt Len Mean'], 'Adv sample 727': ['SYN Flag Cnt', 'Init Bwd Win Byts', 'Idle Min', 'Idle Mean', 'Flow Duration', 'Idle Max', 'Bwd IAT Mean', 'ACK Flag Cnt', 'Bwd Header Len', 'Flow Pkts/s'], 'Adv sample 728': ['Init Bwd Win Byts', 'Pkt Len Std', 'Pkt Size Avg', 'Pkt Len Max', 'Fwd Pkt Len Std', 'Pkt Len Mean', 'Down/Up Ratio', 'Fwd Seg Size Avg', 'Fwd Pkt Len Mean', 'Pkt Len Min'], 'Adv sample 729': ['ACK Flag Cnt', 'Bwd IAT Std', 'Init Bwd Win Byts', 'Bwd IAT Max', 'Bwd IAT Tot', 'Flow IAT Mean', 'Bwd Pkt Len Std', 'Fwd Seg Size Avg', 'Fwd IAT Max', 'Flow Byts/s'], 'Adv sample 730': ['ACK Flag Cnt', 'Bwd IAT Std', 'Init Bwd Win Byts', 'Bwd IAT Max', 'Bwd IAT Tot', 'Flow IAT Mean', 'Fwd Pkt Len Std', 'Bwd Pkt Len Mean', 'TotLen Bwd Pkts', 'Fwd Pkts/s'], 'Adv sample 731': ['Init Bwd Win Byts', 'SYN Flag Cnt', 'Pkt Len Min', 'Idle Min', 'Idle Max', 'Idle Mean', 'Flow IAT Max', 'PSH Flag Cnt', 'Bwd Pkt Len Min', 'Pkt Len Max'], 'Adv sample 732': ['Bwd Pkts/s', 'Init Bwd Win Byts', 'Down/Up Ratio', 'Pkt Len Min', 'Pkt Len Std', 'Flow Duration', 'Pkt Len Max', 'Pkt Size Avg', 'Fwd Act Data Pkts', 'Tot Fwd Pkts'], 'Adv sample 733': ['Init Bwd Win Byts', 'Down/Up Ratio', 'Pkt Len Min', 'Flow Duration', 'Fwd IAT Max', 'Pkt Len Std', 'Flow IAT Std', 'Pkt Len Max', 'Pkt Len Mean', 'Fwd IAT Std'], 'Adv sample 734': ['Init Bwd Win Byts', 'Pkt Len Std', 'Pkt Len Max', 'Pkt Size Avg', 'Fwd Pkt Len Mean', 'Flow Pkts/s', 'Fwd Pkt Len Max', 'Fwd Pkt Len Std', 'Pkt Len Min', 'Fwd Seg Size Avg'], 'Adv sample 735': ['ACK Flag Cnt', 'Bwd IAT Std', 'Init Bwd Win Byts', 'Bwd IAT Tot', 'Bwd IAT Max', 'Flow IAT Mean', 'Flow Pkts/s', 'Pkt Size Avg', 'Subflow Bwd Byts', 'Bwd Pkt Len Min'], 'Adv sample 736': ['ACK Flag Cnt', 'Bwd IAT Std', 'Init Bwd Win Byts', 'Bwd IAT Tot', 'Bwd IAT Max', 'Flow IAT Mean', 'Pkt Size Avg', 'Fwd IAT Tot', 'Fwd Pkt Len Min', 'Subflow Fwd Byts'], 'Adv sample 737': ['Down/Up Ratio', 'Init Bwd Win Byts', 'Pkt Len Min', 'Flow Duration', 'Fwd IAT Max', 'Pkt Len Max', 'Flow IAT Max', 'Pkt Len Std', 'Fwd Pkt Len Mean', 'Flow Pkts/s'], 'Adv sample 738': ['Init Bwd Win Byts', 'SYN Flag Cnt', 'Pkt Len Min', 'Idle Min', 'Bwd Pkt Len Min', 'Idle Mean', 'Flow IAT Max', 'Pkt Size Avg', 'Down/Up Ratio', 'Pkt Len Std'], 'Adv sample 739': ['SYN Flag Cnt', 'Init Bwd Win Byts', 'Bwd Pkt Len Max', 'Bwd Pkt Len Std', 'Bwd Pkt Len Mean', 'Bwd Seg Size Avg', 'Bwd IAT Std', 'ACK Flag Cnt', 'Idle Min', 'Idle Max'], 'Adv sample 740': ['Init Bwd Win Byts', 'Down/Up Ratio', 'Pkt Len Min', 'Flow Duration', 'Pkt Len Std', 'Pkt Len Max', 'Flow IAT Std', 'Fwd IAT Max', 'Flow IAT Max', 'Flow Pkts/s'], 'Adv sample 741': ['Bwd PSH Flags', 'Init Bwd Win Byts', 'Down/Up Ratio', 'Pkt Len Max', 'ACK Flag Cnt', 'Pkt Len Std', 'Pkt Size Avg', 'Pkt Len Mean', 'Fwd IAT Tot', 'Fwd Pkt Len Max'], 'Adv sample 742': ['Init Bwd Win Byts', 'Down/Up Ratio', 'Pkt Len Min', 'Fwd IAT Max', 'Flow IAT Std', 'Flow Duration', 'Flow IAT Max', 'Pkt Len Std', 'Fwd IAT Std', 'Fwd Pkt Len Std'], 'Adv sample 743': ['Init Bwd Win Byts', 'Flow Pkts/s', 'FIN Flag Cnt', 'Bwd Pkts/s', 'Down/Up Ratio', 'Pkt Len Min', 'Pkt Size Avg', 'Pkt Len Mean', 'Fwd Seg Size Avg', 'Bwd Header Len'], 'Adv sample 744': ['SYN Flag Cnt', 'Init Bwd Win Byts', 'Bwd IAT Mean', 'PSH Flag Cnt', 'TotLen Fwd Pkts', 'Bwd Pkt Len Std', 'Fwd Act Data Pkts', 'Fwd IAT Std', 'Idle Min', 'Fwd IAT Tot'], 'Adv sample 745': ['ACK Flag Cnt', 'Bwd IAT Std', 'Init Bwd Win Byts', 'Bwd IAT Tot', 'Bwd IAT Max', 'Flow IAT Mean', 'Subflow Bwd Byts', 'Bwd Pkt Len Max', 'Fwd Act Data Pkts', 'Subflow Bwd Pkts'], 'Adv sample 746': ['ACK Flag Cnt', 'Init Bwd Win Byts', 'Bwd PSH Flags', 'Bwd IAT Std', 'Fwd IAT Min', 'Flow IAT Mean', 'Pkt Len Std', 'Bwd IAT Max', 'TotLen Fwd Pkts', 'Pkt Len Max'], 'Adv sample 747': ['Bwd Pkts/s', 'Init Bwd Win Byts', 'Down/Up Ratio', 'Pkt Len Min', 'Bwd Pkt Len Min', 'Pkt Size Avg', 'Pkt Len Var', 'Idle Mean', 'Fwd Pkt Len Std', 'Bwd Pkt Len Mean'], 'Adv sample 748': ['Init Bwd Win Byts', 'SYN Flag Cnt', 'Pkt Len Min', 'FIN Flag Cnt', 'Idle Min', 'Fwd IAT Max', 'Flow IAT Max', 'Down/Up Ratio', 'Idle Mean', 'Idle Max'], 'Adv sample 749': ['ACK Flag Cnt', 'Bwd IAT Std', 'Init Bwd Win Byts', 'Bwd IAT Max', 'Bwd IAT Tot', 'Bwd IAT Mean', 'Tot Fwd Pkts', 'Tot Bwd Pkts', 'TotLen Fwd Pkts', 'TotLen Bwd Pkts'], 'Adv sample 750': ['Init Bwd Win Byts', 'SYN Flag Cnt', 'Pkt Len Min', 'Idle Min', 'Flow IAT Max', 'Subflow Fwd Byts', 'Idle Max', 'Fwd IAT Max', 'Pkt Len Max', 'Flow Pkts/s'], 'Adv sample 751': ['Init Bwd Win Byts', 'Flow Pkts/s', 'FIN Flag Cnt', 'Bwd Pkts/s', 'Down/Up Ratio', 'Pkt Len Std', 'Pkt Len Min', 'Pkt Len Max', 'Fwd Pkt Len Std', 'Subflow Bwd Byts'], 'Adv sample 752': ['Bwd Pkts/s', 'Init Bwd Win Byts', 'Down/Up Ratio', 'Bwd Pkt Len Min', 'Flow Duration', 'Flow IAT Std', 'Pkt Len Min', 'Fwd IAT Max', 'Fwd Pkt Len Max', 'Active Mean'], 'Adv sample 753': ['Init Bwd Win Byts', 'Bwd Pkts/s', 'Down/Up Ratio', 'Pkt Len Min', 'Flow Duration', 'Bwd Pkt Len Min', 'Pkt Len Mean', 'FIN Flag Cnt', 'Fwd IAT Max', 'Pkt Size Avg'], 'Adv sample 754': ['SYN Flag Cnt', 'Init Bwd Win Byts', 'Bwd Pkt Len Max', 'Fwd IAT Tot', 'Flow Duration', 'Tot Bwd Pkts', 'TotLen Fwd Pkts', 'TotLen Bwd Pkts', 'Bwd Pkt Len Min', 'Bwd Pkt Len Mean'], 'Adv sample 755': ['Init Bwd Win Byts', 'Down/Up Ratio', 'Pkt Len Min', 'Flow Duration', 'Flow IAT Max', 'Pkt Len Std', 'Fwd IAT Max', 'Pkt Size Avg', 'Pkt Len Max', 'Idle Mean'], 'Adv sample 756': ['Init Bwd Win Byts', 'Pkt Len Max', 'Down/Up Ratio', 'Pkt Size Avg', 'Pkt Len Mean', 'Pkt Len Std', 'Fwd Seg Size Avg', 'Fwd Pkt Len Max', 'Fwd Pkt Len Std', 'Flow Pkts/s'], 'Adv sample 757': ['Bwd PSH Flags', 'Init Bwd Win Byts', 'Down/Up Ratio', 'Pkt Len Max', 'ACK Flag Cnt', 'Pkt Len Std', 'Fwd Pkt Len Max', 'Pkt Size Avg', 'Pkt Len Mean', 'Bwd Pkt Len Max'], 'Adv sample 758': ['Init Bwd Win Byts', 'Pkt Size Avg', 'Pkt Len Std', 'Pkt Len Max', 'Pkt Len Mean', 'Down/Up Ratio', 'Fwd Seg Size Avg', 'Fwd Pkt Len Std', 'Pkt Len Min', 'Fwd Pkt Len Mean'], 'Adv sample 759': ['Init Bwd Win Byts', 'SYN Flag Cnt', 'Pkt Len Min', 'FIN Flag Cnt', 'Idle Min', 'Flow Duration', 'Idle Max', 'Flow IAT Max', 'Fwd IAT Max', 'Idle Mean'], 'Adv sample 760': ['Init Bwd Win Byts', 'Pkt Len Max', 'Pkt Len Std', 'Pkt Len Mean', 'Pkt Size Avg', 'Fwd Pkt Len Std', 'Fwd Pkt Len Mean', 'Fwd Pkt Len Max', 'Flow Pkts/s', 'Pkt Len Min'], 'Adv sample 761': ['Init Bwd Win Byts', 'Pkt Len Std', 'Pkt Len Max', 'Pkt Len Mean', 'Pkt Size Avg', 'Fwd Pkt Len Max', 'Fwd Pkt Len Std', 'Down/Up Ratio', 'Flow Pkts/s', 'Fwd Pkt Len Mean'], 'Adv sample 762': ['Init Bwd Win Byts', 'Down/Up Ratio', 'Pkt Len Min', 'Flow Duration', 'Flow IAT Max', 'Fwd IAT Max', 'Pkt Len Max', 'Flow IAT Std', 'Pkt Len Std', 'Pkt Len Mean'], 'Adv sample 763': ['Init Bwd Win Byts', 'Down/Up Ratio', 'Pkt Len Min', 'Flow Duration', 'Flow IAT Max', 'Pkt Len Std', 'Flow IAT Std', 'Fwd IAT Max', 'Pkt Len Max', 'Pkt Len Mean'], 'Adv sample 764': ['Init Bwd Win Byts', 'Pkt Len Std', 'Pkt Len Max', 'Fwd Pkt Len Max', 'Fwd Seg Size Avg', 'Pkt Len Mean', 'Fwd Pkt Len Mean', 'Pkt Size Avg', 'Pkt Len Min', 'Flow Pkts/s'], 'Adv sample 765': ['Init Bwd Win Byts', 'Bwd Pkts/s', 'Down/Up Ratio', 'Pkt Len Min', 'Bwd Pkt Len Min', 'Flow Duration', 'Pkt Len Std', 'Fwd IAT Max', 'Pkt Len Max', 'Fwd Pkt Len Max'], 'Adv sample 766': ['ACK Flag Cnt', 'Bwd IAT Std', 'Init Bwd Win Byts', 'Bwd IAT Tot', 'Bwd IAT Max', 'Flow IAT Mean', 'Fwd IAT Std', 'Flow IAT Min', 'Fwd Pkt Len Mean', 'Bwd Pkt Len Min'], 'Adv sample 767': ['Init Bwd Win Byts', 'Down/Up Ratio', 'Pkt Len Min', 'Flow Duration', 'Flow IAT Std', 'Flow IAT Max', 'Fwd IAT Max', 'Pkt Len Max', 'Pkt Len Std', 'Fwd IAT Std'], 'Adv sample 768': ['Init Bwd Win Byts', 'Down/Up Ratio', 'Pkt Len Min', 'Flow Duration', 'Fwd IAT Max', 'Pkt Len Max', 'Flow IAT Max', 'Flow IAT Std', 'Fwd Pkt Len Max', 'Pkt Len Std'], 'Adv sample 769': ['Init Bwd Win Byts', 'Down/Up Ratio', 'Pkt Len Min', 'Flow Duration', 'Fwd IAT Max', 'Pkt Len Max', 'Pkt Len Std', 'Flow IAT Max', 'Bwd Pkts/s', 'Flow IAT Std'], 'Adv sample 770': ['Bwd Pkts/s', 'Init Bwd Win Byts', 'Down/Up Ratio', 'Pkt Len Min', 'Flow Duration', 'Pkt Len Max', 'Pkt Len Mean', 'Fwd IAT Max', 'Fwd Header Len', 'Fwd Seg Size Avg'], 'Adv sample 771': ['FIN Flag Cnt', 'Flow Pkts/s', 'Init Bwd Win Byts', 'Down/Up Ratio', 'Bwd Seg Size Avg', 'Pkt Len Min', 'Bwd IAT Std', 'Subflow Bwd Pkts', 'Subflow Fwd Pkts', 'TotLen Bwd Pkts'], 'Adv sample 772': ['Init Bwd Win Byts', 'Down/Up Ratio', 'Pkt Len Min', 'Flow Duration', 'Pkt Len Std', 'Pkt Len Max', 'Flow IAT Max', 'Fwd IAT Max', 'Fwd Pkt Len Max', 'Pkt Len Mean'], 'Adv sample 773': ['FIN Flag Cnt', 'Flow Pkts/s', 'Init Bwd Win Byts', 'Bwd IAT Std', 'Down/Up Ratio', 'Pkt Len Min', 'Tot Fwd Pkts', 'Bwd Header Len', 'Idle Min', 'Bwd Pkt Len Max'], 'Adv sample 774': ['Init Bwd Win Byts', 'Down/Up Ratio', 'Pkt Len Min', 'Flow Duration', 'Fwd IAT Max', 'Pkt Len Max', 'Flow IAT Std', 'Fwd Pkt Len Max', 'Pkt Len Std', 'Flow IAT Max'], 'Adv sample 775': ['Init Bwd Win Byts', 'FIN Flag Cnt', 'Down/Up Ratio', 'Pkt Len Min', 'Bwd Pkt Len Min', 'Idle Max', 'Pkt Len Max', 'Idle Mean', 'Pkt Size Avg', 'Flow Duration'], 'Adv sample 776': ['Init Bwd Win Byts', 'Down/Up Ratio', 'Pkt Len Min', 'Flow Duration', 'Fwd IAT Max', 'Flow IAT Std', 'FIN Flag Cnt', 'Pkt Len Max', 'Bwd Pkts/s', 'Pkt Len Std'], 'Adv sample 777': ['SYN Flag Cnt', 'Init Bwd Win Byts', 'Bwd Pkt Len Max', 'Bwd Pkt Len Std', 'Bwd Seg Size Avg', 'Idle Min', 'Active Max', 'Fwd Pkts/s', 'PSH Flag Cnt', 'Fwd IAT Tot'], 'Adv sample 778': ['Init Bwd Win Byts', 'Pkt Len Max', 'Pkt Size Avg', 'Fwd Pkt Len Std', 'Fwd Pkt Len Max', 'Fwd Pkt Len Mean', 'Pkt Len Std', 'Pkt Len Mean', 'Pkt Len Min', 'Flow Pkts/s'], 'Adv sample 779': ['Init Bwd Win Byts', 'Pkt Len Max', 'Pkt Len Std', 'Pkt Len Mean', 'Down/Up Ratio', 'Fwd Seg Size Avg', 'Fwd Pkt Len Std', 'Pkt Size Avg', 'Fwd Pkt Len Max', 'Fwd IAT Std'], 'Adv sample 780': ['Init Bwd Win Byts', 'Down/Up Ratio', 'Pkt Len Min', 'Flow Duration', 'Fwd IAT Max', 'Flow IAT Std', 'Pkt Len Max', 'Pkt Len Std', 'PSH Flag Cnt', 'Pkt Size Avg'], 'Adv sample 781': ['Init Bwd Win Byts', 'SYN Flag Cnt', 'Pkt Len Min', 'Idle Max', 'Idle Min', 'Pkt Len Max', 'Pkt Len Mean', 'PSH Flag Cnt', 'Flow IAT Max', 'Bwd Pkt Len Min'], 'Adv sample 782': ['Init Bwd Win Byts', 'SYN Flag Cnt', 'Pkt Len Min', 'Idle Min', 'Flow IAT Max', 'Pkt Len Std', 'Idle Mean', 'Fwd IAT Max', 'Pkt Len Mean', 'Bwd Pkt Len Min'], 'Adv sample 783': ['Init Bwd Win Byts', 'Down/Up Ratio', 'Pkt Len Min', 'Flow Duration', 'Fwd IAT Max', 'Flow IAT Max', 'Pkt Len Max', 'Flow Pkts/s', 'Flow IAT Std', 'Pkt Size Avg'], 'Adv sample 784': ['Bwd Pkts/s', 'Init Bwd Win Byts', 'Down/Up Ratio', 'Pkt Len Min', 'Flow Duration', 'Fwd IAT Max', 'Fwd IAT Min', 'Fwd Pkt Len Max', 'Flow IAT Max', 'TotLen Fwd Pkts'], 'Adv sample 785': ['ACK Flag Cnt', 'Bwd IAT Std', 'Init Bwd Win Byts', 'Bwd IAT Tot', 'Bwd IAT Max', 'Tot Fwd Pkts', 'Flow IAT Mean', 'Fwd Act Data Pkts', 'Bwd IAT Min', 'Fwd IAT Std'], 'Adv sample 786': ['Init Bwd Win Byts', 'SYN Flag Cnt', 'Pkt Len Min', 'Idle Min', 'Flow IAT Max', 'Idle Max', 'Flow Pkts/s', 'Idle Mean', 'Fwd IAT Max', 'Pkt Size Avg'], 'Adv sample 787': ['Init Bwd Win Byts', 'SYN Flag Cnt', 'Pkt Len Min', 'Idle Min', 'Fwd IAT Max', 'Flow Duration', 'Flow IAT Max', 'Idle Max', 'Idle Mean', 'Pkt Len Std'], 'Adv sample 788': ['Init Bwd Win Byts', 'Bwd Pkts/s', 'Down/Up Ratio', 'Pkt Len Min', 'Flow Duration', 'FIN Flag Cnt', 'Fwd IAT Max', 'Bwd Pkt Len Min', 'Pkt Len Mean', 'Idle Min'], 'Adv sample 789': ['Init Bwd Win Byts', 'Pkt Len Max', 'Pkt Len Std', 'Pkt Size Avg', 'Pkt Len Mean', 'Fwd Pkt Len Mean', 'Fwd Pkt Len Max', 'Flow Pkts/s', 'Fwd Seg Size Avg', 'Fwd Pkt Len Std'], 'Adv sample 790': ['ACK Flag Cnt', 'Bwd IAT Std', 'Init Bwd Win Byts', 'Bwd IAT Tot', 'Bwd IAT Max', 'Bwd Pkt Len Min', 'Flow IAT Mean', 'Bwd Pkt Len Std', 'Tot Fwd Pkts', 'Fwd IAT Std'], 'Adv sample 791': ['Init Bwd Win Byts', 'SYN Flag Cnt', 'Pkt Len Min', 'Idle Min', 'Idle Mean', 'Idle Max', 'Pkt Len Max', 'Flow IAT Max', 'Fwd IAT Max', 'Pkt Size Avg'], 'Adv sample 792': ['Init Bwd Win Byts', 'Pkt Len Std', 'Pkt Len Max', 'Pkt Len Mean', 'Pkt Size Avg', 'Down/Up Ratio', 'Fwd Pkt Len Max', 'Fwd Pkt Len Std', 'Fwd Pkt Len Mean', 'Pkt Len Min'], 'Adv sample 793': ['Init Bwd Win Byts', 'Down/Up Ratio', 'Pkt Len Min', 'Flow Duration', 'Fwd IAT Max', 'Pkt Len Std', 'Pkt Len Max', 'Fwd IAT Std', 'Flow IAT Max', 'Fwd Pkt Len Max'], 'Adv sample 794': ['Init Bwd Win Byts', 'Pkt Len Mean', 'Pkt Len Max', 'Pkt Len Std', 'Pkt Size Avg', 'Fwd Pkt Len Max', 'Fwd Pkt Len Std', 'Flow Pkts/s', 'Fwd Seg Size Avg', 'Pkt Len Min'], 'Adv sample 795': ['Init Bwd Win Byts', 'SYN Flag Cnt', 'FIN Flag Cnt', 'Pkt Len Min', 'Down/Up Ratio', 'Idle Mean', 'Flow Duration', 'Flow IAT Max', 'ACK Flag Cnt', 'Fwd IAT Max'], 'Adv sample 796': ['Bwd Pkts/s', 'Init Bwd Win Byts', 'Down/Up Ratio', 'Pkt Len Min', 'Pkt Len Max', 'Bwd Pkt Len Std', 'Idle Mean', 'Fwd Pkt Len Std', 'Flow Duration', 'Flow Byts/s'], 'Adv sample 797': ['Init Bwd Win Byts', 'SYN Flag Cnt', 'Pkt Len Min', 'FIN Flag Cnt', 'Fwd IAT Max', 'Idle Min', 'Idle Mean', 'Pkt Len Std', 'Flow Duration', 'Down/Up Ratio'], 'Adv sample 798': ['Init Bwd Win Byts', 'SYN Flag Cnt', 'Pkt Len Min', 'Idle Min', 'Bwd Pkt Len Min', 'Idle Max', 'Flow IAT Max', 'Pkt Len Std', 'Fwd IAT Std', 'Pkt Len Max'], 'Adv sample 799': ['Init Bwd Win Byts', 'Down/Up Ratio', 'Pkt Len Min', 'Flow Duration', 'Fwd IAT Max', 'Flow IAT Std', 'Pkt Len Max', 'Flow IAT Max', 'Fwd IAT Std', 'Fwd Pkt Len Std'], 'Adv sample 800': ['Init Bwd Win Byts', 'Down/Up Ratio', 'Pkt Len Min', 'Flow Duration', 'Fwd IAT Max', 'Flow IAT Std', 'Pkt Len Max', 'Fwd IAT Std', 'Pkt Len Std', 'Pkt Len Mean'], 'Adv sample 801': ['SYN Flag Cnt', 'Init Bwd Win Byts', 'Fwd IAT Max', 'Idle Min', 'Bwd Seg Size Avg', 'PSH Flag Cnt', 'Idle Max', 'Bwd Pkt Len Mean', 'Flow Duration', 'Fwd IAT Std'], 'Adv sample 802': ['Bwd Pkts/s', 'Init Bwd Win Byts', 'Down/Up Ratio', 'Pkt Len Min', 'Flow Duration', 'Fwd IAT Max', 'Pkt Len Std', 'Pkt Len Mean', 'Idle Min', 'Bwd Pkt Len Min'], 'Adv sample 803': ['Init Bwd Win Byts', 'Down/Up Ratio', 'Pkt Len Min', 'Flow Duration', 'Fwd IAT Max', 'Flow IAT Max', 'Pkt Len Std', 'Flow IAT Std', 'Fwd IAT Std', 'Pkt Size Avg'], 'Adv sample 804': ['Down/Up Ratio', 'Init Bwd Win Byts', 'Pkt Len Min', 'Pkt Len Max', 'Flow Duration', 'Flow IAT Max', 'Pkt Len Std', 'Fwd IAT Tot', 'Pkt Len Mean', 'Fwd Pkt Len Max'], 'Adv sample 805': ['Init Bwd Win Byts', 'Down/Up Ratio', 'Pkt Len Min', 'Flow Duration', 'Fwd IAT Max', 'Pkt Len Max', 'Pkt Len Mean', 'Flow IAT Max', 'Fwd IAT Std', 'Fwd IAT Tot'], 'Adv sample 806': ['SYN Flag Cnt', 'Init Bwd Win Byts', 'Idle Min', 'Bwd Header Len', 'Idle Max', 'Flow IAT Min', 'Bwd Pkt Len Max', 'Pkt Len Min', 'ACK Flag Cnt', 'Idle Mean'], 'Adv sample 807': ['Init Bwd Win Byts', 'Pkt Len Max', 'Pkt Len Std', 'Pkt Size Avg', 'Fwd Pkt Len Max', 'Fwd Pkt Len Std', 'Pkt Len Mean', 'Pkt Len Min', 'Fwd Pkt Len Mean', 'Fwd Seg Size Avg'], 'Adv sample 808': ['Init Bwd Win Byts', 'Down/Up Ratio', 'Pkt Len Min', 'Flow Duration', 'Fwd IAT Max', 'Pkt Len Max', 'Flow IAT Std', 'Flow IAT Max', 'Pkt Len Std', 'Bwd Pkts/s'], 'Adv sample 809': ['Init Bwd Win Byts', 'Down/Up Ratio', 'Pkt Len Min', 'Flow Duration', 'Flow IAT Std', 'Fwd IAT Max', 'Pkt Len Max', 'Flow IAT Max', 'Pkt Len Std', 'Fwd Pkt Len Max'], 'Adv sample 810': ['Init Bwd Win Byts', 'Down/Up Ratio', 'Pkt Len Min', 'Flow Duration', 'Flow IAT Std', 'Fwd IAT Max', 'Pkt Len Max', 'Pkt Len Std', 'Fwd Pkt Len Max', 'Fwd Pkt Len Std'], 'Adv sample 811': ['Init Bwd Win Byts', 'Down/Up Ratio', 'Pkt Len Min', 'Fwd Pkt Len Max', 'Flow Duration', 'Pkt Len Max', 'Pkt Len Std', 'Fwd IAT Std', 'Flow IAT Max', 'Fwd IAT Max'], 'Adv sample 812': ['Bwd PSH Flags', 'Init Bwd Win Byts', 'Down/Up Ratio', 'Pkt Len Max', 'ACK Flag Cnt', 'Fwd Pkt Len Max', 'Pkt Len Std', 'Pkt Len Mean', 'Pkt Size Avg', 'Pkt Len Min'], 'Adv sample 813': ['Init Bwd Win Byts', 'Down/Up Ratio', 'Pkt Len Min', 'Flow Duration', 'Pkt Len Max', 'Flow Pkts/s', 'Fwd IAT Max', 'Pkt Len Std', 'Fwd IAT Std', 'Flow IAT Std'], 'Adv sample 814': ['Init Bwd Win Byts', 'Down/Up Ratio', 'Pkt Len Min', 'Flow Duration', 'Fwd IAT Max', 'Flow IAT Std', 'Pkt Len Max', 'Bwd Pkt Len Min', 'PSH Flag Cnt', 'Pkt Len Std'], 'Adv sample 815': ['Init Bwd Win Byts', 'SYN Flag Cnt', 'Pkt Len Min', 'Idle Min', 'Pkt Len Max', 'Idle Max', 'Fwd IAT Max', 'Flow IAT Max', 'Flow Pkts/s', 'Down/Up Ratio'], 'Adv sample 816': ['Bwd Pkts/s', 'Init Bwd Win Byts', 'Down/Up Ratio', 'Pkt Len Min', 'Flow Duration', 'Fwd Pkt Len Max', 'Pkt Len Max', 'Fwd IAT Max', 'Bwd Pkt Len Min', 'Flow IAT Std'], 'Adv sample 817': ['Init Bwd Win Byts', 'Pkt Len Mean', 'Pkt Len Max', 'Fwd Pkt Len Max', 'Pkt Len Std', 'Flow Pkts/s', 'Fwd Pkt Len Std', 'Pkt Size Avg', 'Pkt Len Min', 'Fwd Pkt Len Mean'], 'Adv sample 818': ['SYN Flag Cnt', 'Init Bwd Win Byts', 'Bwd Pkt Len Min', 'Subflow Bwd Pkts', 'TotLen Fwd Pkts', 'Bwd Header Len', 'Idle Min', 'Flow Duration', 'Fwd IAT Tot', 'Bwd Pkt Len Max'], 'Adv sample 819': ['Init Bwd Win Byts', 'Down/Up Ratio', 'Pkt Len Min', 'Flow Duration', 'Pkt Len Std', 'Fwd IAT Max', 'Flow IAT Std', 'Pkt Len Max', 'Flow IAT Max', 'Fwd Pkt Len Max'], 'Adv sample 820': ['Init Bwd Win Byts', 'Down/Up Ratio', 'Pkt Len Min', 'Flow Duration', 'Fwd IAT Max', 'Flow IAT Std', 'Pkt Len Std', 'Pkt Len Max', 'Flow IAT Max', 'Fwd IAT Tot'], 'Adv sample 821': ['Init Bwd Win Byts', 'SYN Flag Cnt', 'Pkt Len Min', 'FIN Flag Cnt', 'Idle Min', 'Flow Duration', 'Flow IAT Max', 'ACK Flag Cnt', 'Down/Up Ratio', 'Fwd IAT Max'], 'Adv sample 822': ['Init Bwd Win Byts', 'Down/Up Ratio', 'Pkt Len Min', 'Flow Duration', 'Pkt Len Max', 'Flow IAT Max', 'Fwd IAT Max', 'Fwd Pkt Len Max', 'Pkt Len Std', 'Fwd Pkt Len Std'], 'Adv sample 823': ['ACK Flag Cnt', 'Bwd IAT Std', 'Init Bwd Win Byts', 'Bwd IAT Tot', 'Bwd IAT Max', 'Bwd IAT Mean', 'Flow IAT Mean', 'Tot Fwd Pkts', 'Pkt Len Var', 'Pkt Len Mean'], 'Adv sample 824': ['ACK Flag Cnt', 'Bwd IAT Std', 'Init Bwd Win Byts', 'Bwd IAT Tot', 'Bwd IAT Max', 'Idle Std', 'Flow IAT Mean', 'Fwd Pkt Len Std', 'Fwd Pkt Len Mean', 'Active Min'], 'Adv sample 825': ['Init Bwd Win Byts', 'Pkt Len Mean', 'Pkt Len Std', 'Pkt Size Avg', 'Pkt Len Max', 'Fwd Pkt Len Mean', 'Fwd Pkt Len Std', 'Fwd Pkt Len Max', 'Flow Pkts/s', 'Fwd Seg Size Avg'], 'Adv sample 826': ['Init Bwd Win Byts', 'SYN Flag Cnt', 'Pkt Len Min', 'Idle Min', 'Idle Mean', 'Down/Up Ratio', 'Bwd Pkt Len Min', 'Pkt Len Std', 'Flow IAT Max', 'Pkt Len Mean'], 'Adv sample 827': ['Init Bwd Win Byts', 'Fwd Pkt Len Mean', 'Pkt Len Min', 'Down/Up Ratio', 'Fwd Seg Size Avg', 'Fwd Pkt Len Max', 'Fwd Pkt Len Std', 'Pkt Len Std', 'Pkt Len Max', 'Pkt Len Mean'], 'Adv sample 828': ['Bwd Pkts/s', 'Init Bwd Win Byts', 'Down/Up Ratio', 'Pkt Len Min', 'Bwd Pkt Len Min', 'Flow Duration', 'Fwd Act Data Pkts', 'Fwd IAT Max', 'Pkt Len Max', 'Fwd IAT Tot'], 'Adv sample 829': ['Init Bwd Win Byts', 'Pkt Len Mean', 'Pkt Len Std', 'Pkt Len Max', 'Pkt Size Avg', 'Fwd Pkt Len Max', 'Fwd Pkt Len Std', 'Fwd Seg Size Avg', 'Fwd Pkt Len Mean', 'Flow Pkts/s'], 'Adv sample 830': ['Init Bwd Win Byts', 'Down/Up Ratio', 'Pkt Len Min', 'Flow Duration', 'Fwd IAT Max', 'Flow IAT Max', 'Pkt Len Mean', 'Pkt Len Max', 'Pkt Size Avg', 'PSH Flag Cnt'], 'Adv sample 831': ['Bwd Pkts/s', 'Init Bwd Win Byts', 'Down/Up Ratio', 'Pkt Len Min', 'Fwd IAT Max', 'Pkt Len Max', 'Pkt Size Avg', 'Bwd Pkt Len Min', 'Idle Min', 'Active Std'], 'Adv sample 832': ['Bwd Pkts/s', 'Init Bwd Win Byts', 'Down/Up Ratio', 'Pkt Len Min', 'Pkt Len Max', 'Fwd Pkt Len Mean', 'Flow IAT Max', 'Flow Duration', 'Pkt Len Mean', 'Idle Max'], 'Adv sample 833': ['Init Bwd Win Byts', 'Pkt Len Std', 'Pkt Size Avg', 'Fwd Pkt Len Std', 'Pkt Len Mean', 'Pkt Len Max', 'Fwd Seg Size Avg', 'Flow Pkts/s', 'Fwd Pkt Len Max', 'Fwd Pkt Len Mean'], 'Adv sample 834': ['SYN Flag Cnt', 'Init Bwd Win Byts', 'Idle Max', 'Bwd Pkt Len Max', 'Idle Min', 'Bwd PSH Flags', 'Idle Mean', 'Fwd IAT Tot', 'TotLen Fwd Pkts', 'Bwd Pkt Len Std'], 'Adv sample 835': ['Init Bwd Win Byts', 'Down/Up Ratio', 'Pkt Len Min', 'Flow Duration', 'Fwd IAT Max', 'Pkt Len Max', 'Flow IAT Max', 'Flow IAT Std', 'Fwd IAT Std', 'Pkt Len Std'], 'Adv sample 836': ['Bwd PSH Flags', 'Init Bwd Win Byts', 'Down/Up Ratio', 'Pkt Len Max', 'Pkt Len Std', 'Pkt Len Min', 'ACK Flag Cnt', 'Fwd Pkt Len Std', 'Pkt Len Mean', 'Fwd Seg Size Avg'], 'Adv sample 837': ['Init Bwd Win Byts', 'SYN Flag Cnt', 'FIN Flag Cnt', 'Pkt Len Min', 'Idle Mean', 'Fwd IAT Max', 'Down/Up Ratio', 'Idle Min', 'ACK Flag Cnt', 'Flow Duration'], 'Adv sample 838': ['Bwd Pkts/s', 'Init Bwd Win Byts', 'Down/Up Ratio', 'Pkt Len Min', 'Fwd IAT Max', 'Pkt Len Max', 'Flow Duration', 'Flow IAT Std', 'Pkt Size Avg', 'PSH Flag Cnt'], 'Adv sample 839': ['Init Bwd Win Byts', 'Pkt Len Max', 'Pkt Len Mean', 'Pkt Len Std', 'Fwd Pkt Len Mean', 'Fwd Pkt Len Max', 'Fwd Pkt Len Std', 'Pkt Size Avg', 'Fwd Seg Size Avg', 'Down/Up Ratio'], 'Adv sample 840': ['ACK Flag Cnt', 'Bwd IAT Std', 'Init Bwd Win Byts', 'Bwd IAT Max', 'Bwd IAT Tot', 'Active Std', 'Bwd IAT Mean', 'Bwd Pkt Len Min', 'Pkt Len Mean', 'Pkt Size Avg'], 'Adv sample 841': ['Init Bwd Win Byts', 'Down/Up Ratio', 'Pkt Len Min', 'Flow Duration', 'Flow IAT Max', 'Fwd IAT Max', 'Bwd Pkts/s', 'Flow IAT Std', 'Pkt Len Max', 'Pkt Len Mean'], 'Adv sample 842': ['Init Bwd Win Byts', 'SYN Flag Cnt', 'FIN Flag Cnt', 'Pkt Len Min', 'Flow IAT Max', 'Idle Min', 'Fwd IAT Max', 'Flow Duration', 'Down/Up Ratio', 'Idle Max'], 'Adv sample 843': ['Init Bwd Win Byts', 'Pkt Len Max', 'Pkt Size Avg', 'Pkt Len Mean', 'Pkt Len Std', 'Fwd Pkt Len Max', 'Pkt Len Min', 'Fwd Seg Size Avg', 'Fwd Pkt Len Std', 'Flow Pkts/s'], 'Adv sample 844': ['Init Bwd Win Byts', 'Down/Up Ratio', 'Pkt Len Min', 'Flow Duration', 'Flow IAT Max', 'Pkt Len Std', 'Fwd Pkt Len Max', 'Pkt Len Mean', 'Fwd IAT Max', 'Pkt Len Max'], 'Adv sample 845': ['ACK Flag Cnt', 'Bwd IAT Std', 'Bwd IAT Tot', 'Bwd IAT Max', 'Init Bwd Win Byts', 'Bwd IAT Mean', 'Flow IAT Mean', 'Bwd Pkt Len Max', 'Pkt Len Min', 'Subflow Bwd Byts'], 'Adv sample 846': ['Bwd Pkts/s', 'Init Bwd Win Byts', 'Down/Up Ratio', 'Pkt Len Min', 'Flow Duration', 'Idle Min', 'Pkt Len Mean', 'Fwd IAT Std', 'Bwd Pkt Len Mean', 'Fwd IAT Max'], 'Adv sample 847': ['Init Bwd Win Byts', 'Down/Up Ratio', 'Pkt Len Min', 'Flow Duration', 'Pkt Len Max', 'Fwd Pkt Len Max', 'Pkt Len Std', 'Fwd Pkt Len Std', 'Fwd IAT Max', 'Fwd IAT Std'], 'Adv sample 848': ['SYN Flag Cnt', 'Init Bwd Win Byts', 'Bwd Pkt Len Max', 'Bwd Seg Size Avg', 'Bwd Pkt Len Mean', 'Subflow Fwd Pkts', 'Fwd Pkt Len Min', 'Subflow Bwd Byts', 'Flow IAT Min', 'Active Min'], 'Adv sample 849': ['Init Bwd Win Byts', 'SYN Flag Cnt', 'FIN Flag Cnt', 'Pkt Len Min', 'Down/Up Ratio', 'Flow IAT Max', 'Idle Min', 'Flow Duration', 'ACK Flag Cnt', 'Fwd IAT Max'], 'Adv sample 850': ['Bwd Pkts/s', 'Init Bwd Win Byts', 'Down/Up Ratio', 'Pkt Len Min', 'Flow Duration', 'Fwd IAT Max', 'Pkt Size Avg', 'Bwd Header Len', 'Bwd Pkt Len Min', 'Idle Min'], 'Adv sample 851': ['Init Bwd Win Byts', 'Down/Up Ratio', 'Pkt Len Min', 'Flow Duration', 'Flow IAT Max', 'Fwd IAT Max', 'Flow IAT Std', 'Pkt Len Std', 'Pkt Size Avg', 'Pkt Len Max'], 'Adv sample 852': ['Init Bwd Win Byts', 'Flow Pkts/s', 'FIN Flag Cnt', 'Bwd Pkts/s', 'Down/Up Ratio', 'Pkt Len Std', 'Pkt Len Min', 'Pkt Len Mean', 'Bwd Pkt Len Min', 'Fwd Pkt Len Max'], 'Adv sample 853': ['Bwd Pkts/s', 'Init Bwd Win Byts', 'Down/Up Ratio', 'Pkt Len Min', 'Flow Duration', 'Pkt Len Max', 'Bwd Pkt Len Min', 'Pkt Len Std', 'Idle Max', 'Fwd IAT Max'], 'Adv sample 854': ['Init Bwd Win Byts', 'Pkt Len Std', 'Pkt Len Max', 'Pkt Len Mean', 'Fwd Pkt Len Max', 'Pkt Size Avg', 'Fwd Pkt Len Std', 'Down/Up Ratio', 'Fwd Seg Size Avg', 'Flow Pkts/s'], 'Adv sample 855': ['Init Bwd Win Byts', 'SYN Flag Cnt', 'Pkt Len Min', 'Idle Min', 'Idle Mean', 'Fwd IAT Std', 'Flow IAT Max', 'Bwd Pkt Len Min', 'Pkt Len Max', 'Flow Duration'], 'Adv sample 856': ['Init Bwd Win Byts', 'Pkt Size Avg', 'Pkt Len Mean', 'Pkt Len Max', 'Flow Pkts/s', 'Pkt Len Std', 'Fwd Pkt Len Std', 'Fwd Pkt Len Mean', 'Fwd Pkt Len Max', 'Fwd Seg Size Avg'], 'Adv sample 857': ['Bwd PSH Flags', 'Init Bwd Win Byts', 'Down/Up Ratio', 'Pkt Len Max', 'ACK Flag Cnt', 'Pkt Len Std', 'Pkt Size Avg', 'Pkt Len Mean', 'Fwd IAT Std', 'Fwd Pkt Len Max'], 'Adv sample 858': ['SYN Flag Cnt', 'Init Bwd Win Byts', 'Idle Min', 'Idle Max', 'Bwd Pkt Len Min', 'Flow Duration', 'PSH Flag Cnt', 'Fwd IAT Max', 'Flow Pkts/s', 'Bwd IAT Mean'], 'Adv sample 859': ['Init Bwd Win Byts', 'Down/Up Ratio', 'Pkt Len Min', 'Flow Duration', 'Fwd IAT Max', 'Flow IAT Max', 'Fwd IAT Tot', 'Pkt Len Max', 'Pkt Len Mean', 'Pkt Len Std'], 'Adv sample 860': ['ACK Flag Cnt', 'Bwd IAT Std', 'Init Bwd Win Byts', 'Bwd IAT Max', 'Bwd IAT Tot', 'Flow IAT Mean', 'Fwd Pkt Len Min', 'Tot Bwd Pkts', 'Fwd Seg Size Avg', 'Bwd Pkt Len Max'], 'Adv sample 861': ['Init Bwd Win Byts', 'Bwd Pkts/s', 'Down/Up Ratio', 'Pkt Len Min', 'Fwd IAT Max', 'Flow Duration', 'FIN Flag Cnt', 'Idle Min', 'Pkt Size Avg', 'Pkt Len Max'], 'Adv sample 862': ['Bwd Pkts/s', 'Init Bwd Win Byts', 'Down/Up Ratio', 'Pkt Len Min', 'Pkt Len Std', 'Flow Duration', 'FIN Flag Cnt', 'Fwd IAT Max', 'Idle Mean', 'Idle Max'], 'Adv sample 863': ['Init Bwd Win Byts', 'Pkt Len Max', 'Pkt Len Std', 'Pkt Size Avg', 'Pkt Len Mean', 'Fwd Seg Size Avg', 'Fwd Pkt Len Max', 'Fwd Pkt Len Std', 'Down/Up Ratio', 'Flow Pkts/s'], 'Adv sample 864': ['Init Bwd Win Byts', 'Down/Up Ratio', 'Pkt Len Min', 'Flow Duration', 'Fwd IAT Max', 'Flow IAT Max', 'Flow IAT Std', 'Fwd IAT Std', 'Bwd Pkt Len Min', 'Pkt Len Max'], 'Adv sample 865': ['Init Bwd Win Byts', 'Down/Up Ratio', 'Pkt Len Min', 'Flow Duration', 'Fwd IAT Max', 'Flow IAT Std', 'Pkt Len Max', 'Bwd Pkt Len Min', 'Pkt Len Std', 'PSH Flag Cnt'], 'Adv sample 866': ['Bwd Pkts/s', 'Init Bwd Win Byts', 'Down/Up Ratio', 'Pkt Len Min', 'Flow Duration', 'Fwd IAT Max', 'Fwd Pkt Len Max', 'FIN Flag Cnt', 'Idle Min', 'Pkt Size Avg'], 'Adv sample 867': ['Bwd Pkts/s', 'Init Bwd Win Byts', 'Down/Up Ratio', 'Bwd Pkt Len Min', 'Fwd IAT Max', 'Pkt Len Min', 'Pkt Len Mean', 'Fwd IAT Min', 'Fwd Pkt Len Std', 'Pkt Len Std'], 'Adv sample 868': ['Bwd Pkts/s', 'Init Bwd Win Byts', 'Down/Up Ratio', 'Pkt Len Min', 'Flow Duration', 'Fwd Pkt Len Mean', 'Pkt Len Max', 'Idle Mean', 'Pkt Size Avg', 'Idle Min'], 'Adv sample 869': ['Init Bwd Win Byts', 'Down/Up Ratio', 'Pkt Len Min', 'Flow Duration', 'Fwd IAT Max', 'Flow IAT Std', 'Fwd IAT Std', 'Flow IAT Max', 'Pkt Len Max', 'Pkt Len Mean'], 'Adv sample 870': ['Init Bwd Win Byts', 'Pkt Len Std', 'Pkt Len Max', 'Pkt Size Avg', 'Pkt Len Mean', 'Fwd Pkt Len Mean', 'Fwd Seg Size Avg', 'Fwd Pkt Len Max', 'Fwd Pkt Len Std', 'Pkt Len Min'], 'Adv sample 871': ['Init Bwd Win Byts', 'SYN Flag Cnt', 'Pkt Len Min', 'Idle Mean', 'Flow Duration', 'Idle Min', 'Idle Max', 'Pkt Len Max', 'Pkt Len Std', 'Fwd IAT Max'], 'Adv sample 872': ['SYN Flag Cnt', 'Init Bwd Win Byts', 'Idle Mean', 'Fwd Pkt Len Min', 'Subflow Bwd Byts', 'Pkt Len Var', 'Bwd Pkt Len Std', 'Bwd Pkt Len Max', 'Flow Duration', 'Tot Fwd Pkts'], 'Adv sample 873': ['Init Bwd Win Byts', 'Pkt Len Max', 'Pkt Len Std', 'Pkt Size Avg', 'Pkt Len Mean', 'Fwd Pkt Len Max', 'Fwd Seg Size Avg', 'Fwd Pkt Len Mean', 'Flow Pkts/s', 'Pkt Len Min'], 'Adv sample 874': ['Init Bwd Win Byts', 'Pkt Len Max', 'Pkt Len Mean', 'Pkt Len Std', 'Pkt Size Avg', 'Fwd Pkt Len Max', 'Fwd Seg Size Avg', 'Flow Pkts/s', 'Fwd Pkt Len Std', 'Pkt Len Min'], 'Adv sample 875': ['SYN Flag Cnt', 'Init Bwd Win Byts', 'ACK Flag Cnt', 'Idle Min', 'Flow IAT Min', 'Bwd Pkt Len Mean', 'Bwd Header Len', 'Pkt Len Min', 'Bwd Pkt Len Min', 'Fwd IAT Std'], 'Adv sample 876': ['SYN Flag Cnt', 'Init Bwd Win Byts', 'Idle Min', 'Bwd Pkt Len Min', 'Bwd Seg Size Avg', 'Fwd IAT Max', 'ACK Flag Cnt', 'Flow IAT Max', 'Active Std', 'Bwd Header Len'], 'Adv sample 877': ['SYN Flag Cnt', 'Init Bwd Win Byts', 'Idle Max', 'Bwd Pkt Len Max', 'Idle Mean', 'Flow Duration', 'Idle Min', 'Subflow Bwd Pkts', 'Fwd IAT Tot', 'Tot Fwd Pkts'], 'Adv sample 878': ['Init Bwd Win Byts', 'URG Flag Cnt', 'FIN Flag Cnt', 'Bwd URG Flags', 'Down/Up Ratio', 'Bwd PSH Flags', 'Tot Fwd Pkts', 'Flow Duration', 'Fwd Pkt Len Max', 'Flow Byts/s'], 'Adv sample 879': ['Init Bwd Win Byts', 'Down/Up Ratio', 'Pkt Len Min', 'Flow Duration', 'Fwd IAT Max', 'Pkt Len Mean', 'Flow IAT Std', 'Pkt Len Std', 'Flow IAT Max', 'Pkt Len Max'], 'Adv sample 880': ['Init Bwd Win Byts', 'SYN Flag Cnt', 'FIN Flag Cnt', 'Pkt Len Min', 'ACK Flag Cnt', 'Idle Min', 'Fwd IAT Max', 'Flow IAT Max', 'Idle Mean', 'Down/Up Ratio'], 'Adv sample 881': ['Init Bwd Win Byts', 'Down/Up Ratio', 'Pkt Len Min', 'Flow Duration', 'Pkt Len Max', 'Fwd IAT Max', 'FIN Flag Cnt', 'Pkt Len Mean', 'Flow IAT Std', 'Flow IAT Max'], 'Adv sample 882': ['Init Bwd Win Byts', 'Down/Up Ratio', 'Pkt Len Min', 'Flow Duration', 'Fwd IAT Max', 'Flow IAT Std', 'Pkt Len Std', 'Fwd IAT Std', 'Pkt Len Max', 'Flow IAT Max'], 'Adv sample 883': ['Init Bwd Win Byts', 'Pkt Len Max', 'Pkt Len Std', 'Pkt Len Mean', 'Pkt Size Avg', 'Pkt Len Min', 'Fwd Pkt Len Std', 'Fwd Pkt Len Mean', 'Fwd Seg Size Avg', 'Down/Up Ratio'], 'Adv sample 884': ['Bwd PSH Flags', 'Init Bwd Win Byts', 'Down/Up Ratio', 'Pkt Len Max', 'ACK Flag Cnt', 'Pkt Size Avg', 'Pkt Len Std', 'Pkt Len Mean', 'Bwd Pkt Len Std', 'Pkt Len Min'], 'Adv sample 885': ['Init Bwd Win Byts', 'SYN Flag Cnt', 'Pkt Len Min', 'Idle Min', 'Idle Mean', 'Pkt Len Max', 'Fwd IAT Max', 'Flow IAT Max', 'Down/Up Ratio', 'Pkt Len Mean'], 'Adv sample 886': ['Init Bwd Win Byts', 'Down/Up Ratio', 'Pkt Len Min', 'Flow Duration', 'Flow IAT Std', 'FIN Flag Cnt', 'Fwd IAT Max', 'Pkt Len Max', 'Flow Pkts/s', 'Pkt Len Std'], 'Adv sample 887': ['Init Bwd Win Byts', 'Flow Pkts/s', 'FIN Flag Cnt', 'Bwd Pkts/s', 'Down/Up Ratio', 'Pkt Len Min', 'Pkt Len Max', 'Pkt Len Mean', 'Pkt Len Std', 'Pkt Size Avg'], 'Adv sample 888': ['SYN Flag Cnt', 'Init Bwd Win Byts', 'ACK Flag Cnt', 'Bwd Pkt Len Std', 'Fwd Pkts/s', 'Bwd Pkt Len Max', 'Idle Mean', 'Idle Min', 'TotLen Fwd Pkts', 'Subflow Fwd Byts'], 'Adv sample 889': ['SYN Flag Cnt', 'Init Bwd Win Byts', 'Bwd Pkt Len Max', 'Idle Max', 'Subflow Bwd Byts', 'Bwd Pkt Len Mean', 'Flow IAT Min', 'Bwd Seg Size Avg', 'Idle Mean', 'Bwd Pkt Len Std'], 'Adv sample 890': ['SYN Flag Cnt', 'Init Bwd Win Byts', 'Idle Max', 'Bwd Pkt Len Std', 'Flow Duration', 'Tot Fwd Pkts', 'Tot Bwd Pkts', 'TotLen Fwd Pkts', 'TotLen Bwd Pkts', 'Fwd Pkt Len Min'], 'Adv sample 891': ['Bwd Pkts/s', 'Init Bwd Win Byts', 'Down/Up Ratio', 'Pkt Len Min', 'Flow Duration', 'Bwd Pkt Len Min', 'Fwd IAT Max', 'Pkt Len Mean', 'Pkt Size Avg', 'Pkt Len Std'], 'Adv sample 892': ['Init Bwd Win Byts', 'Pkt Len Std', 'Pkt Size Avg', 'Fwd Pkt Len Max', 'Fwd Seg Size Avg', 'Pkt Len Max', 'Pkt Len Mean', 'Fwd Pkt Len Std', 'Flow Pkts/s', 'Fwd Pkt Len Mean'], 'Adv sample 893': ['Init Bwd Win Byts', 'Down/Up Ratio', 'Pkt Len Min', 'Flow Duration', 'Fwd IAT Max', 'Flow IAT Max', 'Bwd Pkts/s', 'Pkt Size Avg', 'Fwd IAT Std', 'Flow Pkts/s'], 'Adv sample 894': ['Init Bwd Win Byts', 'Down/Up Ratio', 'Pkt Len Min', 'Flow Duration', 'Flow IAT Std', 'Pkt Len Max', 'Fwd IAT Max', 'Pkt Len Std', 'Fwd IAT Std', 'Flow IAT Max'], 'Adv sample 895': ['Init Bwd Win Byts', 'Pkt Len Max', 'Pkt Len Std', 'Pkt Size Avg', 'Pkt Len Mean', 'Fwd Pkt Len Std', 'Pkt Len Min', 'Down/Up Ratio', 'Fwd Pkt Len Max', 'Fwd Seg Size Avg'], 'Adv sample 896': ['FIN Flag Cnt', 'Flow Pkts/s', 'Init Bwd Win Byts', 'Down/Up Ratio', 'Pkt Len Min', 'Fwd IAT Tot', 'Flow IAT Mean', 'Bwd Pkt Len Mean', 'Flow Duration', 'Fwd IAT Std'], 'Adv sample 897': ['Bwd Pkts/s', 'Init Bwd Win Byts', 'Down/Up Ratio', 'Pkt Len Min', 'Fwd IAT Std', 'Fwd IAT Max', 'Flow Duration', 'Bwd Pkt Len Min', 'Pkt Len Max', 'Pkt Len Mean'], 'Adv sample 898': ['Init Bwd Win Byts', 'FIN Flag Cnt', 'Down/Up Ratio', 'Pkt Len Min', 'Flow Duration', 'Bwd Pkt Len Min', 'Pkt Size Avg', 'Flow IAT Max', 'Idle Max', 'Idle Mean'], 'Adv sample 899': ['Init Bwd Win Byts', 'Down/Up Ratio', 'Pkt Len Min', 'Flow Duration', 'Fwd IAT Max', 'Pkt Len Max', 'FIN Flag Cnt', 'Flow IAT Std', 'Flow IAT Max', 'Fwd Pkt Len Max'], 'Adv sample 900': ['Init Bwd Win Byts', 'Flow Pkts/s', 'FIN Flag Cnt', 'Bwd Pkts/s', 'Down/Up Ratio', 'Pkt Len Max', 'Pkt Len Min', 'Pkt Len Std', 'Pkt Len Mean', 'Fwd Pkt Len Max'], 'Adv sample 901': ['Init Bwd Win Byts', 'SYN Flag Cnt', 'Pkt Len Min', 'FIN Flag Cnt', 'Fwd IAT Max', 'Idle Mean', 'Pkt Len Max', 'Idle Max', 'Flow Duration', 'Flow IAT Max'], 'Adv sample 902': ['FIN Flag Cnt', 'Flow Pkts/s', 'Init Bwd Win Byts', 'Down/Up Ratio', 'Tot Bwd Pkts', 'Pkt Len Min', 'Bwd Seg Size Avg', 'Flow IAT Mean', 'Bwd Header Len', 'Idle Mean'], 'Adv sample 903': ['Init Bwd Win Byts', 'Down/Up Ratio', 'Pkt Len Max', 'Pkt Len Std', 'Fwd Pkt Len Mean', 'Pkt Len Min', 'Pkt Len Mean', 'Fwd Seg Size Avg', 'Fwd Pkt Len Max', 'Fwd Pkt Len Std'], 'Adv sample 904': ['SYN Flag Cnt', 'Init Bwd Win Byts', 'ACK Flag Cnt', 'Idle Max', 'Idle Min', 'Bwd Pkt Len Std', 'PSH Flag Cnt', 'Fwd IAT Max', 'Active Min', 'Bwd Pkt Len Min'], 'Adv sample 905': ['Init Bwd Win Byts', 'Down/Up Ratio', 'Pkt Len Min', 'Flow Duration', 'Pkt Len Max', 'Flow IAT Std', 'Flow IAT Max', 'Fwd IAT Max', 'Pkt Len Mean', 'FIN Flag Cnt'], 'Adv sample 906': ['Init Bwd Win Byts', 'URG Flag Cnt', 'FIN Flag Cnt', 'Down/Up Ratio', 'Bwd URG Flags', 'Bwd PSH Flags', 'Pkt Size Avg', 'Bwd Pkt Len Max', 'Pkt Len Max', 'Pkt Len Std'], 'Adv sample 907': ['Init Bwd Win Byts', 'SYN Flag Cnt', 'Pkt Len Min', 'Idle Max', 'Fwd IAT Max', 'Idle Min', 'Flow Duration', 'Pkt Len Max', 'Flow IAT Max', 'Down/Up Ratio'], 'Adv sample 908': ['Init Bwd Win Byts', 'Down/Up Ratio', 'Pkt Len Min', 'Flow Duration', 'Fwd IAT Max', 'Pkt Len Max', 'Flow IAT Max', 'Bwd Pkts/s', 'Flow IAT Std', 'Pkt Len Std'], 'Adv sample 909': ['Init Bwd Win Byts', 'Pkt Len Max', 'Pkt Size Avg', 'Flow Pkts/s', 'Pkt Len Mean', 'Fwd Pkt Len Max', 'Fwd Seg Size Avg', 'Pkt Len Min', 'Pkt Len Std', 'Fwd Pkt Len Std'], 'Adv sample 910': ['Bwd PSH Flags', 'Init Bwd Win Byts', 'Down/Up Ratio', 'Pkt Len Max', 'Pkt Len Std', 'Pkt Len Mean', 'ACK Flag Cnt', 'Fwd IAT Tot', 'Pkt Size Avg', 'Fwd Pkt Len Max'], 'Adv sample 911': ['SYN Flag Cnt', 'Init Bwd Win Byts', 'Bwd Pkt Len Max', 'Bwd Pkt Len Std', 'Bwd Pkt Len Mean', 'Bwd Seg Size Avg', 'Idle Max', 'Tot Bwd Pkts', 'Active Mean', 'Active Std'], 'Adv sample 912': ['Init Bwd Win Byts', 'Down/Up Ratio', 'Pkt Len Min', 'Flow Duration', 'Fwd IAT Max', 'Pkt Len Std', 'Flow IAT Std', 'Flow IAT Max', 'Pkt Size Avg', 'Pkt Len Mean'], 'Adv sample 913': ['Bwd Pkts/s', 'Init Bwd Win Byts', 'Down/Up Ratio', 'Pkt Len Min', 'Flow Duration', 'Bwd Pkt Len Min', 'Idle Min', 'TotLen Fwd Pkts', 'Flow IAT Max', 'Flow IAT Std'], 'Adv sample 914': ['Down/Up Ratio', 'Init Bwd Win Byts', 'Pkt Len Min', 'Flow Duration', 'Fwd IAT Max', 'Pkt Len Std', 'Pkt Len Mean', 'Pkt Len Max', 'Fwd Pkt Len Max', 'Fwd Pkt Len Mean'], 'Adv sample 915': ['Init Bwd Win Byts', 'Down/Up Ratio', 'Pkt Len Min', 'Flow Duration', 'Flow IAT Std', 'Fwd IAT Max', 'Flow IAT Max', 'Pkt Len Std', 'PSH Flag Cnt', 'Fwd IAT Std'], 'Adv sample 916': ['SYN Flag Cnt', 'Init Bwd Win Byts', 'Idle Min', 'ACK Flag Cnt', 'Bwd Pkt Len Max', 'Idle Max', 'Bwd Pkt Len Min', 'Idle Mean', 'Fwd IAT Max', 'Flow Pkts/s'], 'Adv sample 917': ['Bwd Pkts/s', 'Init Bwd Win Byts', 'Down/Up Ratio', 'Pkt Len Min', 'Pkt Len Std', 'Flow Duration', 'Pkt Len Max', 'Fwd Pkt Len Std', 'Pkt Size Avg', 'Fwd IAT Max'], 'Adv sample 918': ['Init Bwd Win Byts', 'Down/Up Ratio', 'Pkt Len Min', 'Flow Duration', 'Fwd IAT Max', 'Flow IAT Std', 'Pkt Len Std', 'Flow IAT Max', 'Fwd IAT Std', 'Pkt Len Max'], 'Adv sample 919': ['ACK Flag Cnt', 'Bwd IAT Std', 'Init Bwd Win Byts', 'Bwd IAT Tot', 'Bwd IAT Max', 'Flow IAT Mean', 'Flow Pkts/s', 'Subflow Bwd Byts', 'Fwd IAT Mean', 'Bwd PSH Flags'], 'Adv sample 920': ['Init Bwd Win Byts', 'Down/Up Ratio', 'Pkt Len Min', 'Flow Duration', 'Fwd IAT Max', 'Flow IAT Max', 'Pkt Len Max', 'Fwd IAT Std', 'Pkt Len Std', 'Pkt Len Mean'], 'Adv sample 921': ['Init Bwd Win Byts', 'SYN Flag Cnt', 'Idle Min', 'Pkt Len Min', 'Pkt Len Max', 'Fwd IAT Max', 'Idle Max', 'Idle Mean', 'Down/Up Ratio', 'PSH Flag Cnt'], 'Adv sample 922': ['Bwd Pkts/s', 'Init Bwd Win Byts', 'Down/Up Ratio', 'Pkt Len Min', 'Fwd Pkt Len Max', 'Pkt Len Std', 'Bwd Pkt Len Min', 'Flow Duration', 'Idle Max', 'Fwd IAT Max'], 'Adv sample 923': ['Init Bwd Win Byts', 'Pkt Len Mean', 'Pkt Len Max', 'Pkt Len Std', 'Pkt Size Avg', 'Fwd Pkt Len Max', 'Fwd Pkt Len Std', 'Down/Up Ratio', 'Flow Pkts/s', 'Fwd Seg Size Avg'], 'Adv sample 924': ['Bwd Pkts/s', 'Init Bwd Win Byts', 'Down/Up Ratio', 'Pkt Len Min', 'Flow Duration', 'Bwd Pkt Len Min', 'Fwd Pkt Len Max', 'Pkt Size Avg', 'Fwd Pkt Len Mean', 'Flow IAT Std'], 'Adv sample 925': ['Init Bwd Win Byts', 'Down/Up Ratio', 'Pkt Len Min', 'Flow Duration', 'Fwd IAT Max', 'Flow IAT Std', 'Flow IAT Max', 'Pkt Len Max', 'Pkt Len Std', 'Pkt Len Mean'], 'Adv sample 926': ['Init Bwd Win Byts', 'Down/Up Ratio', 'Pkt Len Min', 'Flow Duration', 'Fwd IAT Max', 'Flow IAT Max', 'Pkt Len Max', 'Pkt Len Std', 'Flow IAT Std', 'Pkt Size Avg'], 'Adv sample 927': ['SYN Flag Cnt', 'Init Bwd Win Byts', 'Bwd Seg Size Avg', 'Bwd Pkt Len Max', 'Bwd Pkt Len Std', 'Bwd Pkt Len Mean', 'Idle Mean', 'Bwd IAT Max', 'Idle Min', 'Bwd IAT Std'], 'Adv sample 928': ['Init Bwd Win Byts', 'Pkt Len Std', 'Pkt Len Max', 'Pkt Size Avg', 'Pkt Len Mean', 'Down/Up Ratio', 'Fwd Seg Size Avg', 'Flow Pkts/s', 'Fwd Pkt Len Max', 'Fwd Pkt Len Std'], 'Adv sample 929': ['SYN Flag Cnt', 'Init Bwd Win Byts', 'Bwd Pkt Len Std', 'Bwd Pkt Len Mean', 'Bwd Header Len', 'Fwd Pkt Len Min', 'TotLen Fwd Pkts', 'TotLen Bwd Pkts', 'Bwd Pkt Len Max', 'Bwd Pkt Len Min'], 'Adv sample 930': ['Init Bwd Win Byts', 'Down/Up Ratio', 'Pkt Len Min', 'Flow Duration', 'Fwd IAT Max', 'Pkt Len Max', 'Pkt Len Std', 'Fwd IAT Std', 'Flow IAT Max', 'Pkt Len Mean'], 'Adv sample 931': ['Init Bwd Win Byts', 'Down/Up Ratio', 'Pkt Len Min', 'Flow Duration', 'Pkt Len Max', 'Fwd IAT Max', 'Flow IAT Std', 'Fwd IAT Std', 'Flow IAT Max', 'Fwd Pkt Len Max'], 'Adv sample 932': ['Bwd Pkts/s', 'Init Bwd Win Byts', 'Down/Up Ratio', 'Pkt Len Min', 'Fwd IAT Max', 'Flow Duration', 'Pkt Len Mean', 'Pkt Len Std', 'Pkt Size Avg', 'Fwd IAT Std'], 'Adv sample 933': ['SYN Flag Cnt', 'Init Bwd Win Byts', 'Bwd PSH Flags', 'Bwd Pkt Len Std', 'Tot Fwd Pkts', 'Bwd Pkt Len Mean', 'Fwd Pkt Len Min', 'TotLen Bwd Pkts', 'Fwd Pkt Len Mean', 'Idle Min'], 'Adv sample 934': ['Init Bwd Win Byts', 'Down/Up Ratio', 'Bwd Pkts/s', 'Pkt Len Min', 'Flow Duration', 'FIN Flag Cnt', 'Pkt Len Max', 'Fwd Pkt Len Max', 'Fwd IAT Max', 'Pkt Size Avg'], 'Adv sample 935': ['ACK Flag Cnt', 'Init Bwd Win Byts', 'Bwd IAT Std', 'Bwd IAT Max', 'Bwd IAT Tot', 'Flow IAT Mean', 'Bwd Pkt Len Min', 'Tot Bwd Pkts', 'Fwd IAT Tot', 'TotLen Fwd Pkts'], 'Adv sample 936': ['Init Bwd Win Byts', 'Pkt Len Std', 'Pkt Len Max', 'Pkt Len Mean', 'Pkt Size Avg', 'Fwd Pkt Len Max', 'Down/Up Ratio', 'Fwd Pkt Len Std', 'Fwd Seg Size Avg', 'Fwd Pkt Len Mean'], 'Adv sample 937': ['Init Bwd Win Byts', 'Pkt Len Max', 'Pkt Size Avg', 'Pkt Len Std', 'Fwd Pkt Len Mean', 'Pkt Len Min', 'Fwd Seg Size Avg', 'Fwd Pkt Len Max', 'Down/Up Ratio', 'Fwd Pkt Len Std'], 'Adv sample 938': ['SYN Flag Cnt', 'Init Bwd Win Byts', 'Idle Min', 'Idle Max', 'Idle Mean', 'Bwd Seg Size Avg', 'ACK Flag Cnt', 'Bwd Pkt Len Min', 'Bwd Pkt Len Std', 'Pkt Len Min'], 'Adv sample 939': ['Init Bwd Win Byts', 'Flow Pkts/s', 'FIN Flag Cnt', 'Down/Up Ratio', 'Bwd Pkts/s', 'Pkt Len Min', 'Pkt Len Mean', 'Fwd Pkt Len Max', 'Pkt Len Std', 'Pkt Len Max'], 'Adv sample 940': ['SYN Flag Cnt', 'Init Bwd Win Byts', 'Idle Max', 'ACK Flag Cnt', 'Pkt Len Min', 'Idle Min', 'Subflow Fwd Pkts', 'Bwd Pkt Len Min', 'Idle Mean', 'Fwd Pkt Len Min'], 'Adv sample 941': ['Init Bwd Win Byts', 'Down/Up Ratio', 'Pkt Len Min', 'Flow Duration', 'Pkt Len Std', 'Fwd IAT Max', 'Pkt Len Max', 'Flow IAT Std', 'PSH Flag Cnt', 'Flow IAT Max'], 'Adv sample 942': ['Init Bwd Win Byts', 'Down/Up Ratio', 'Pkt Len Min', 'Flow Duration', 'Fwd IAT Max', 'Flow IAT Std', 'Pkt Len Max', 'Pkt Len Std', 'Flow IAT Max', 'FIN Flag Cnt'], 'Adv sample 943': ['SYN Flag Cnt', 'Init Bwd Win Byts', 'ACK Flag Cnt', 'Bwd Seg Size Avg', 'Fwd Pkt Len Min', 'Idle Mean', 'Idle Max', 'Fwd IAT Min', 'Flow Duration', 'Tot Fwd Pkts'], 'Adv sample 944': ['Init Bwd Win Byts', 'SYN Flag Cnt', 'FIN Flag Cnt', 'Pkt Len Min', 'ACK Flag Cnt', 'Flow IAT Max', 'Flow Duration', 'Fwd IAT Max', 'Down/Up Ratio', 'Pkt Len Max'], 'Adv sample 945': ['Init Bwd Win Byts', 'SYN Flag Cnt', 'Pkt Len Min', 'Fwd IAT Max', 'Flow IAT Max', 'Idle Min', 'Down/Up Ratio', 'PSH Flag Cnt', 'Idle Mean', 'Pkt Len Max'], 'Adv sample 946': ['Init Bwd Win Byts', 'Pkt Len Mean', 'Pkt Len Max', 'Pkt Len Std', 'Flow Pkts/s', 'Pkt Size Avg', 'Fwd Pkt Len Std', 'Fwd Pkt Len Mean', 'Fwd Pkt Len Max', 'Fwd Seg Size Avg'], 'Adv sample 947': ['ACK Flag Cnt', 'Bwd IAT Std', 'Init Bwd Win Byts', 'Bwd IAT Tot', 'Bwd IAT Max', 'Flow IAT Mean', 'Pkt Size Avg', 'Bwd Pkt Len Max', 'Bwd IAT Mean', 'Pkt Len Var'], 'Adv sample 948': ['Init Bwd Win Byts', 'SYN Flag Cnt', 'Pkt Len Min', 'FIN Flag Cnt', 'Idle Min', 'Fwd IAT Max', 'Flow IAT Max', 'Flow Duration', 'PSH Flag Cnt', 'ACK Flag Cnt'], 'Adv sample 949': ['Bwd PSH Flags', 'Init Bwd Win Byts', 'Bwd Pkt Len Min', 'Fwd Pkt Len Max', 'Down/Up Ratio', 'Pkt Len Max', 'Pkt Len Min', 'Fwd Pkt Len Mean', 'Pkt Len Std', 'Fwd IAT Tot'], 'Adv sample 950': ['Bwd Pkts/s', 'Init Bwd Win Byts', 'Down/Up Ratio', 'Pkt Len Min', 'Fwd IAT Std', 'Pkt Len Max', 'Flow Duration', 'Pkt Len Std', 'Bwd Pkt Len Min', 'Bwd Pkt Len Std'], 'Adv sample 951': ['Init Bwd Win Byts', 'Flow Pkts/s', 'FIN Flag Cnt', 'Bwd Pkts/s', 'Down/Up Ratio', 'Bwd IAT Tot', 'Pkt Len Std', 'Pkt Len Max', 'Fwd Seg Size Avg', 'Fwd Pkt Len Max'], 'Adv sample 952': ['SYN Flag Cnt', 'Init Bwd Win Byts', 'Idle Mean', 'Pkt Len Min', 'Idle Min', 'Idle Max', 'Bwd Seg Size Avg', 'ACK Flag Cnt', 'Fwd Pkt Len Min', 'Subflow Fwd Pkts'], 'Adv sample 953': ['Init Bwd Win Byts', 'Down/Up Ratio', 'Pkt Len Min', 'Bwd Pkts/s', 'Flow Duration', 'Pkt Len Max', 'Fwd IAT Max', 'Pkt Len Std', 'Flow IAT Max', 'Bwd Pkt Len Min'], 'Adv sample 954': ['SYN Flag Cnt', 'Init Bwd Win Byts', 'Bwd Pkt Len Max', 'Bwd Pkt Len Std', 'Bwd Seg Size Avg', 'Bwd IAT Tot', 'Bwd IAT Std', 'Bwd Pkt Len Mean', 'PSH Flag Cnt', 'ACK Flag Cnt'], 'Adv sample 955': ['Init Bwd Win Byts', 'SYN Flag Cnt', 'Pkt Len Min', 'Idle Min', 'FIN Flag Cnt', 'Fwd IAT Max', 'Flow IAT Max', 'Flow Duration', 'ACK Flag Cnt', 'Idle Max'], 'Adv sample 956': ['Init Bwd Win Byts', 'Down/Up Ratio', 'Pkt Len Min', 'Flow Duration', 'Fwd IAT Max', 'Flow IAT Max', 'Pkt Len Max', 'Pkt Len Mean', 'Fwd IAT Std', 'Pkt Len Std'], 'Adv sample 957': ['Init Bwd Win Byts', 'SYN Flag Cnt', 'Pkt Len Min', 'FIN Flag Cnt', 'ACK Flag Cnt', 'Fwd IAT Max', 'Flow IAT Max', 'Down/Up Ratio', 'Flow Duration', 'Pkt Len Mean'], 'Adv sample 958': ['Init Bwd Win Byts', 'Pkt Len Std', 'Pkt Len Mean', 'Pkt Len Max', 'Pkt Size Avg', 'Fwd Seg Size Avg', 'Fwd Pkt Len Mean', 'Flow Pkts/s', 'Fwd Pkt Len Max', 'Pkt Len Min'], 'Adv sample 959': ['Init Bwd Win Byts', 'Down/Up Ratio', 'Pkt Len Min', 'Flow Duration', 'Fwd IAT Max', 'Flow IAT Max', 'Flow IAT Std', 'Pkt Len Max', 'Pkt Len Std', 'Pkt Len Mean'], 'Adv sample 960': ['Init Bwd Win Byts', 'Bwd Pkts/s', 'Down/Up Ratio', 'Pkt Len Min', 'Fwd IAT Max', 'Fwd IAT Tot', 'Bwd Pkt Len Min', 'Flow Duration', 'Fwd IAT Std', 'Idle Min'], 'Adv sample 961': ['Init Bwd Win Byts', 'Flow Pkts/s', 'FIN Flag Cnt', 'Bwd Pkts/s', 'Down/Up Ratio', 'Pkt Len Std', 'Pkt Len Max', 'Pkt Size Avg', 'Pkt Len Mean', 'Pkt Len Min'], 'Adv sample 962': ['Init Bwd Win Byts', 'Down/Up Ratio', 'Pkt Len Min', 'Flow Duration', 'Flow IAT Std', 'Pkt Len Std', 'Pkt Len Max', 'Pkt Len Mean', 'Fwd IAT Max', 'Flow IAT Max'], 'Adv sample 963': ['Init Bwd Win Byts', 'ACK Flag Cnt', 'Bwd PSH Flags', 'Fwd IAT Min', 'Bwd IAT Std', 'Pkt Len Max', 'Bwd IAT Tot', 'Bwd IAT Max', 'Flow IAT Mean', 'Bwd IAT Mean'], 'Adv sample 964': ['Init Bwd Win Byts', 'URG Flag Cnt', 'FIN Flag Cnt', 'Bwd URG Flags', 'Down/Up Ratio', 'Bwd PSH Flags', 'Pkt Len Std', 'Pkt Len Max', 'Flow Byts/s', 'Flow Duration'], 'Adv sample 965': ['FIN Flag Cnt', 'Flow Pkts/s', 'Init Bwd Win Byts', 'Down/Up Ratio', 'Flow Byts/s', 'Pkt Len Min', 'Flow IAT Std', 'Pkt Size Avg', 'Fwd IAT Min', 'Bwd Header Len'], 'Adv sample 966': ['ACK Flag Cnt', 'Bwd IAT Std', 'Init Bwd Win Byts', 'Bwd IAT Max', 'Bwd IAT Tot', 'Flow IAT Mean', 'Fwd Pkt Len Min', 'Bwd Pkt Len Mean', 'Pkt Len Std', 'Fwd Header Len'], 'Adv sample 967': ['Init Bwd Win Byts', 'Down/Up Ratio', 'Pkt Len Min', 'Flow Duration', 'Flow IAT Max', 'Pkt Len Max', 'Fwd IAT Max', 'Pkt Len Std', 'Fwd Seg Size Avg', 'Fwd IAT Std'], 'Adv sample 968': ['Init Bwd Win Byts', 'Down/Up Ratio', 'Pkt Len Min', 'Flow Duration', 'Fwd IAT Max', 'Pkt Len Max', 'Flow IAT Max', 'Pkt Len Std', 'Flow IAT Std', 'Fwd IAT Std'], 'Adv sample 969': ['SYN Flag Cnt', 'Init Bwd Win Byts', 'ACK Flag Cnt', 'Idle Min', 'Idle Max', 'Idle Mean', 'Bwd Pkt Len Std', 'Pkt Len Min', 'Flow IAT Max', 'Fwd IAT Max'], 'Adv sample 970': ['Init Bwd Win Byts', 'Down/Up Ratio', 'Pkt Len Min', 'Flow Duration', 'Fwd IAT Max', 'Pkt Len Mean', 'Flow IAT Std', 'Pkt Len Max', 'Flow IAT Max', 'Pkt Size Avg'], 'Adv sample 971': ['Init Bwd Win Byts', 'Pkt Len Mean', 'Pkt Len Max', 'Pkt Len Std', 'Fwd Pkt Len Max', 'Fwd Seg Size Avg', 'Pkt Size Avg', 'Fwd Pkt Len Std', 'Fwd Pkt Len Mean', 'Flow Pkts/s'], 'Adv sample 972': ['Bwd Pkts/s', 'Init Bwd Win Byts', 'Down/Up Ratio', 'Fwd IAT Max', 'Pkt Len Std', 'Bwd Pkt Len Min', 'Fwd Pkt Len Std', 'Pkt Len Min', 'Fwd Pkt Len Mean', 'Flow Duration'], 'Adv sample 973': ['Init Bwd Win Byts', 'SYN Flag Cnt', 'Pkt Len Min', 'Idle Min', 'Pkt Len Std', 'Idle Max', 'Flow Pkts/s', 'Pkt Len Max', 'Pkt Len Mean', 'Flow Byts/s'], 'Adv sample 974': ['Init Bwd Win Byts', 'Down/Up Ratio', 'Pkt Len Min', 'Flow Duration', 'Fwd IAT Max', 'Pkt Len Max', 'Flow IAT Std', 'Fwd IAT Std', 'Flow IAT Max', 'Pkt Len Std'], 'Adv sample 975': ['Init Bwd Win Byts', 'SYN Flag Cnt', 'Idle Min', 'Pkt Len Min', 'Fwd IAT Max', 'Flow Pkts/s', 'Pkt Len Mean', 'Bwd Pkt Len Min', 'Fwd IAT Std', 'Pkt Len Max'], 'Adv sample 976': ['Init Bwd Win Byts', 'SYN Flag Cnt', 'FIN Flag Cnt', 'Pkt Len Min', 'Fwd IAT Max', 'Idle Min', 'Flow IAT Max', 'Idle Mean', 'Pkt Len Max', 'Idle Max'], 'Adv sample 977': ['SYN Flag Cnt', 'Init Bwd Win Byts', 'Flow IAT Max', 'Bwd Pkt Len Std', 'Bwd Pkt Len Max', 'Idle Min', 'Bwd Seg Size Avg', 'Flow Byts/s', 'Bwd Pkt Len Mean', 'Idle Mean'], 'Adv sample 978': ['Init Bwd Win Byts', 'SYN Flag Cnt', 'Pkt Len Min', 'FIN Flag Cnt', 'Fwd IAT Max', 'Idle Min', 'Pkt Len Mean', 'Down/Up Ratio', 'Flow IAT Max', 'Flow Duration'], 'Adv sample 979': ['Bwd Pkts/s', 'Init Bwd Win Byts', 'Down/Up Ratio', 'Pkt Len Min', 'Bwd Pkt Len Min', 'Subflow Bwd Byts', 'Fwd Pkt Len Max', 'Pkt Len Std', 'Pkt Size Avg', 'Flow Duration'], 'Adv sample 980': ['Bwd Pkts/s', 'Init Bwd Win Byts', 'Down/Up Ratio', 'Fwd IAT Max', 'Pkt Len Mean', 'Pkt Len Min', 'Bwd Pkt Len Min', 'Flow IAT Max', 'Fwd IAT Tot', 'Idle Max'], 'Adv sample 981': ['Init Bwd Win Byts', 'Down/Up Ratio', 'Pkt Len Min', 'Flow Duration', 'Fwd IAT Max', 'Flow IAT Std', 'Flow IAT Max', 'Fwd IAT Std', 'Pkt Len Max', 'PSH Flag Cnt'], 'Adv sample 982': ['FIN Flag Cnt', 'Flow Pkts/s', 'Init Bwd Win Byts', 'Down/Up Ratio', 'Active Std', 'Pkt Len Min', 'Idle Mean', 'Active Min', 'Pkt Size Avg', 'Fwd IAT Tot'], 'Adv sample 983': ['Init Bwd Win Byts', 'Flow Pkts/s', 'FIN Flag Cnt', 'Bwd Pkts/s', 'Down/Up Ratio', 'Pkt Len Min', 'Pkt Len Std', 'Bwd Pkt Len Min', 'Pkt Len Max', 'Pkt Size Avg'], 'Adv sample 984': ['Init Bwd Win Byts', 'URG Flag Cnt', 'FIN Flag Cnt', 'Down/Up Ratio', 'Bwd URG Flags', 'Bwd PSH Flags', 'Pkt Len Max', 'Flow Duration', 'Pkt Len Min', 'Fwd IAT Max'], 'Adv sample 985': ['Bwd Pkts/s', 'Init Bwd Win Byts', 'Down/Up Ratio', 'Pkt Len Min', 'Flow Duration', 'Bwd Pkt Len Min', 'Pkt Len Max', 'Idle Max', 'Fwd Pkt Len Std', 'Fwd IAT Max'], 'Adv sample 986': ['Init Bwd Win Byts', 'Down/Up Ratio', 'Pkt Len Min', 'Flow Duration', 'Fwd IAT Max', 'Flow IAT Std', 'Pkt Len Std', 'Flow IAT Max', 'Pkt Len Mean', 'Pkt Len Max'], 'Adv sample 987': ['ACK Flag Cnt', 'Bwd IAT Std', 'Init Bwd Win Byts', 'Bwd IAT Max', 'Bwd IAT Tot', 'Flow IAT Mean', 'Pkt Len Var', 'Fwd Header Len', 'Active Max', 'Pkt Len Max'], 'Adv sample 988': ['Init Bwd Win Byts', 'Pkt Len Max', 'Pkt Len Std', 'Pkt Len Mean', 'Pkt Size Avg', 'Flow Pkts/s', 'Fwd Seg Size Avg', 'Fwd Pkt Len Max', 'Fwd Pkt Len Std', 'Fwd Pkt Len Mean'], 'Adv sample 989': ['Bwd PSH Flags', 'Init Bwd Win Byts', 'Down/Up Ratio', 'Pkt Len Max', 'Pkt Len Std', 'ACK Flag Cnt', 'Pkt Size Avg', 'Pkt Len Mean', 'Fwd Pkt Len Max', 'Bwd Pkt Len Max'], 'Adv sample 990': ['Flow Pkts/s', 'Init Bwd Win Byts', 'FIN Flag Cnt', 'Bwd Pkts/s', 'Down/Up Ratio', 'Pkt Len Mean', 'Pkt Len Max', 'Pkt Len Min', 'Fwd Pkt Len Max', 'Pkt Size Avg'], 'Adv sample 991': ['FIN Flag Cnt', 'Flow Pkts/s', 'Init Bwd Win Byts', 'Down/Up Ratio', 'Bwd PSH Flags', 'Pkt Len Var', 'Bwd Seg Size Avg', 'Subflow Bwd Pkts', 'Bwd IAT Min', 'Bwd Pkt Len Mean'], 'Adv sample 992': ['Init Bwd Win Byts', 'Bwd Pkts/s', 'Down/Up Ratio', 'Pkt Len Min', 'Flow Duration', 'Idle Mean', 'Fwd IAT Std', 'Pkt Len Max', 'Fwd IAT Max', 'TotLen Fwd Pkts'], 'Adv sample 993': ['Init Bwd Win Byts', 'Flow Pkts/s', 'FIN Flag Cnt', 'Bwd Pkts/s', 'Down/Up Ratio', 'Pkt Len Min', 'Pkt Len Mean', 'Pkt Len Std', 'Active Max', 'Pkt Size Avg'], 'Adv sample 994': ['Init Bwd Win Byts', 'Down/Up Ratio', 'Pkt Len Min', 'Flow Duration', 'Fwd IAT Max', 'Flow IAT Std', 'Pkt Len Std', 'Fwd Pkt Len Max', 'Pkt Size Avg', 'Pkt Len Max'], 'Adv sample 995': ['Init Bwd Win Byts', 'Down/Up Ratio', 'Pkt Len Min', 'Flow Duration', 'Fwd IAT Max', 'Pkt Len Max', 'Fwd IAT Std', 'Flow IAT Std', 'Flow IAT Max', 'Pkt Size Avg'], 'Adv sample 996': ['Init Bwd Win Byts', 'Down/Up Ratio', 'Pkt Len Min', 'Flow Duration', 'Pkt Len Mean', 'Flow IAT Std', 'Pkt Len Max', 'FIN Flag Cnt', 'Pkt Len Std', 'Flow IAT Max'], 'Adv sample 997': ['SYN Flag Cnt', 'Init Bwd Win Byts', 'Bwd Pkt Len Max', 'Bwd Seg Size Avg', 'Idle Max', 'Fwd IAT Tot', 'Idle Min', 'Tot Fwd Pkts', 'Idle Mean', 'Bwd Pkt Len Mean'], 'Adv sample 998': ['Init Bwd Win Byts', 'Down/Up Ratio', 'Pkt Len Min', 'Flow Duration', 'Fwd IAT Max', 'Pkt Len Std', 'Fwd Pkt Len Max', 'Flow IAT Max', 'Pkt Len Max', 'Flow IAT Std'], 'Adv sample 999': ['Init Bwd Win Byts', 'Pkt Size Avg', 'Pkt Len Mean', 'Pkt Len Max', 'Pkt Len Std', 'Fwd Pkt Len Std', 'Fwd Pkt Len Max', 'Fwd Seg Size Avg', 'Flow Pkts/s', 'Down/Up Ratio']}\n"
          ]
        }
      ]
    },
    {
      "cell_type": "code",
      "source": [
        "len(shap_values[0])"
      ],
      "metadata": {
        "colab": {
          "base_uri": "https://localhost:8080/"
        },
        "id": "YdyTABeHYa2k",
        "outputId": "d45b1bf9-836a-47b0-892c-25e0698d8487"
      },
      "execution_count": 22,
      "outputs": [
        {
          "output_type": "execute_result",
          "data": {
            "text/plain": [
              "1000"
            ]
          },
          "metadata": {},
          "execution_count": 22
        }
      ]
    },
    {
      "cell_type": "code",
      "source": [
        "len(data_dict)"
      ],
      "metadata": {
        "colab": {
          "base_uri": "https://localhost:8080/"
        },
        "id": "rUB23r63Tjug",
        "outputId": "d2fc77ab-f924-49dc-da57-65eda82025b8"
      },
      "execution_count": 23,
      "outputs": [
        {
          "output_type": "execute_result",
          "data": {
            "text/plain": [
              "1000"
            ]
          },
          "metadata": {},
          "execution_count": 23
        }
      ]
    },
    {
      "cell_type": "markdown",
      "source": [
        "# Detection phase"
      ],
      "metadata": {
        "id": "E8tWQQDtNIJk"
      }
    },
    {
      "cell_type": "code",
      "source": [
        "import os\n",
        "import pandas as pd"
      ],
      "metadata": {
        "id": "mmslrdn7z7Zf"
      },
      "execution_count": 24,
      "outputs": []
    },
    {
      "cell_type": "code",
      "source": [
        "whitelist_df = pd.read_csv('/content/drive/MyDrive/MLP_top24_InSDN.csv')\n",
        "whitelist_df.head(24)"
      ],
      "metadata": {
        "colab": {
          "base_uri": "https://localhost:8080/",
          "height": 801
        },
        "id": "aQJa-f1GPxvz",
        "outputId": "73a4b97c-b08b-4223-eefd-f00e23ed2657"
      },
      "execution_count": 30,
      "outputs": [
        {
          "output_type": "execute_result",
          "data": {
            "text/plain": [
              "              Feature  Frequency\n",
              "0   Init Bwd Win Byts        786\n",
              "1            Idle Max        546\n",
              "2     Bwd Pkt Len Max        531\n",
              "3           Idle Mean        449\n",
              "4        Tot Fwd Pkts        432\n",
              "5            Idle Min        413\n",
              "6     Bwd Pkt Len Std        399\n",
              "7        Tot Bwd Pkts        395\n",
              "8    Bwd Pkt Len Mean        382\n",
              "9     TotLen Fwd Pkts        373\n",
              "10    TotLen Bwd Pkts        372\n",
              "11        Bwd IAT Max        364\n",
              "12        Bwd IAT Tot        341\n",
              "13        Fwd IAT Max        323\n",
              "14   Bwd Seg Size Avg        308\n",
              "15        Pkt Len Min        296\n",
              "16       SYN Flag Cnt        293\n",
              "17      Flow Duration        276\n",
              "18    Fwd Pkt Len Std        275\n",
              "19        Fwd IAT Tot        273\n",
              "20        Bwd IAT Std        273\n",
              "21        Flow Pkts/s        265\n",
              "22      Down/Up Ratio        245\n",
              "23        Fwd IAT Std        231"
            ],
            "text/html": [
              "\n",
              "  <div id=\"df-69341ee4-469c-4487-9cda-5bdc388384ef\">\n",
              "    <div class=\"colab-df-container\">\n",
              "      <div>\n",
              "<style scoped>\n",
              "    .dataframe tbody tr th:only-of-type {\n",
              "        vertical-align: middle;\n",
              "    }\n",
              "\n",
              "    .dataframe tbody tr th {\n",
              "        vertical-align: top;\n",
              "    }\n",
              "\n",
              "    .dataframe thead th {\n",
              "        text-align: right;\n",
              "    }\n",
              "</style>\n",
              "<table border=\"1\" class=\"dataframe\">\n",
              "  <thead>\n",
              "    <tr style=\"text-align: right;\">\n",
              "      <th></th>\n",
              "      <th>Feature</th>\n",
              "      <th>Frequency</th>\n",
              "    </tr>\n",
              "  </thead>\n",
              "  <tbody>\n",
              "    <tr>\n",
              "      <th>0</th>\n",
              "      <td>Init Bwd Win Byts</td>\n",
              "      <td>786</td>\n",
              "    </tr>\n",
              "    <tr>\n",
              "      <th>1</th>\n",
              "      <td>Idle Max</td>\n",
              "      <td>546</td>\n",
              "    </tr>\n",
              "    <tr>\n",
              "      <th>2</th>\n",
              "      <td>Bwd Pkt Len Max</td>\n",
              "      <td>531</td>\n",
              "    </tr>\n",
              "    <tr>\n",
              "      <th>3</th>\n",
              "      <td>Idle Mean</td>\n",
              "      <td>449</td>\n",
              "    </tr>\n",
              "    <tr>\n",
              "      <th>4</th>\n",
              "      <td>Tot Fwd Pkts</td>\n",
              "      <td>432</td>\n",
              "    </tr>\n",
              "    <tr>\n",
              "      <th>5</th>\n",
              "      <td>Idle Min</td>\n",
              "      <td>413</td>\n",
              "    </tr>\n",
              "    <tr>\n",
              "      <th>6</th>\n",
              "      <td>Bwd Pkt Len Std</td>\n",
              "      <td>399</td>\n",
              "    </tr>\n",
              "    <tr>\n",
              "      <th>7</th>\n",
              "      <td>Tot Bwd Pkts</td>\n",
              "      <td>395</td>\n",
              "    </tr>\n",
              "    <tr>\n",
              "      <th>8</th>\n",
              "      <td>Bwd Pkt Len Mean</td>\n",
              "      <td>382</td>\n",
              "    </tr>\n",
              "    <tr>\n",
              "      <th>9</th>\n",
              "      <td>TotLen Fwd Pkts</td>\n",
              "      <td>373</td>\n",
              "    </tr>\n",
              "    <tr>\n",
              "      <th>10</th>\n",
              "      <td>TotLen Bwd Pkts</td>\n",
              "      <td>372</td>\n",
              "    </tr>\n",
              "    <tr>\n",
              "      <th>11</th>\n",
              "      <td>Bwd IAT Max</td>\n",
              "      <td>364</td>\n",
              "    </tr>\n",
              "    <tr>\n",
              "      <th>12</th>\n",
              "      <td>Bwd IAT Tot</td>\n",
              "      <td>341</td>\n",
              "    </tr>\n",
              "    <tr>\n",
              "      <th>13</th>\n",
              "      <td>Fwd IAT Max</td>\n",
              "      <td>323</td>\n",
              "    </tr>\n",
              "    <tr>\n",
              "      <th>14</th>\n",
              "      <td>Bwd Seg Size Avg</td>\n",
              "      <td>308</td>\n",
              "    </tr>\n",
              "    <tr>\n",
              "      <th>15</th>\n",
              "      <td>Pkt Len Min</td>\n",
              "      <td>296</td>\n",
              "    </tr>\n",
              "    <tr>\n",
              "      <th>16</th>\n",
              "      <td>SYN Flag Cnt</td>\n",
              "      <td>293</td>\n",
              "    </tr>\n",
              "    <tr>\n",
              "      <th>17</th>\n",
              "      <td>Flow Duration</td>\n",
              "      <td>276</td>\n",
              "    </tr>\n",
              "    <tr>\n",
              "      <th>18</th>\n",
              "      <td>Fwd Pkt Len Std</td>\n",
              "      <td>275</td>\n",
              "    </tr>\n",
              "    <tr>\n",
              "      <th>19</th>\n",
              "      <td>Fwd IAT Tot</td>\n",
              "      <td>273</td>\n",
              "    </tr>\n",
              "    <tr>\n",
              "      <th>20</th>\n",
              "      <td>Bwd IAT Std</td>\n",
              "      <td>273</td>\n",
              "    </tr>\n",
              "    <tr>\n",
              "      <th>21</th>\n",
              "      <td>Flow Pkts/s</td>\n",
              "      <td>265</td>\n",
              "    </tr>\n",
              "    <tr>\n",
              "      <th>22</th>\n",
              "      <td>Down/Up Ratio</td>\n",
              "      <td>245</td>\n",
              "    </tr>\n",
              "    <tr>\n",
              "      <th>23</th>\n",
              "      <td>Fwd IAT Std</td>\n",
              "      <td>231</td>\n",
              "    </tr>\n",
              "  </tbody>\n",
              "</table>\n",
              "</div>\n",
              "      <button class=\"colab-df-convert\" onclick=\"convertToInteractive('df-69341ee4-469c-4487-9cda-5bdc388384ef')\"\n",
              "              title=\"Convert this dataframe to an interactive table.\"\n",
              "              style=\"display:none;\">\n",
              "        \n",
              "  <svg xmlns=\"http://www.w3.org/2000/svg\" height=\"24px\"viewBox=\"0 0 24 24\"\n",
              "       width=\"24px\">\n",
              "    <path d=\"M0 0h24v24H0V0z\" fill=\"none\"/>\n",
              "    <path d=\"M18.56 5.44l.94 2.06.94-2.06 2.06-.94-2.06-.94-.94-2.06-.94 2.06-2.06.94zm-11 1L8.5 8.5l.94-2.06 2.06-.94-2.06-.94L8.5 2.5l-.94 2.06-2.06.94zm10 10l.94 2.06.94-2.06 2.06-.94-2.06-.94-.94-2.06-.94 2.06-2.06.94z\"/><path d=\"M17.41 7.96l-1.37-1.37c-.4-.4-.92-.59-1.43-.59-.52 0-1.04.2-1.43.59L10.3 9.45l-7.72 7.72c-.78.78-.78 2.05 0 2.83L4 21.41c.39.39.9.59 1.41.59.51 0 1.02-.2 1.41-.59l7.78-7.78 2.81-2.81c.8-.78.8-2.07 0-2.86zM5.41 20L4 18.59l7.72-7.72 1.47 1.35L5.41 20z\"/>\n",
              "  </svg>\n",
              "      </button>\n",
              "      \n",
              "  <style>\n",
              "    .colab-df-container {\n",
              "      display:flex;\n",
              "      flex-wrap:wrap;\n",
              "      gap: 12px;\n",
              "    }\n",
              "\n",
              "    .colab-df-convert {\n",
              "      background-color: #E8F0FE;\n",
              "      border: none;\n",
              "      border-radius: 50%;\n",
              "      cursor: pointer;\n",
              "      display: none;\n",
              "      fill: #1967D2;\n",
              "      height: 32px;\n",
              "      padding: 0 0 0 0;\n",
              "      width: 32px;\n",
              "    }\n",
              "\n",
              "    .colab-df-convert:hover {\n",
              "      background-color: #E2EBFA;\n",
              "      box-shadow: 0px 1px 2px rgba(60, 64, 67, 0.3), 0px 1px 3px 1px rgba(60, 64, 67, 0.15);\n",
              "      fill: #174EA6;\n",
              "    }\n",
              "\n",
              "    [theme=dark] .colab-df-convert {\n",
              "      background-color: #3B4455;\n",
              "      fill: #D2E3FC;\n",
              "    }\n",
              "\n",
              "    [theme=dark] .colab-df-convert:hover {\n",
              "      background-color: #434B5C;\n",
              "      box-shadow: 0px 1px 3px 1px rgba(0, 0, 0, 0.15);\n",
              "      filter: drop-shadow(0px 1px 2px rgba(0, 0, 0, 0.3));\n",
              "      fill: #FFFFFF;\n",
              "    }\n",
              "  </style>\n",
              "\n",
              "      <script>\n",
              "        const buttonEl =\n",
              "          document.querySelector('#df-69341ee4-469c-4487-9cda-5bdc388384ef button.colab-df-convert');\n",
              "        buttonEl.style.display =\n",
              "          google.colab.kernel.accessAllowed ? 'block' : 'none';\n",
              "\n",
              "        async function convertToInteractive(key) {\n",
              "          const element = document.querySelector('#df-69341ee4-469c-4487-9cda-5bdc388384ef');\n",
              "          const dataTable =\n",
              "            await google.colab.kernel.invokeFunction('convertToInteractive',\n",
              "                                                     [key], {});\n",
              "          if (!dataTable) return;\n",
              "\n",
              "          const docLinkHtml = 'Like what you see? Visit the ' +\n",
              "            '<a target=\"_blank\" href=https://colab.research.google.com/notebooks/data_table.ipynb>data table notebook</a>'\n",
              "            + ' to learn more about interactive tables.';\n",
              "          element.innerHTML = '';\n",
              "          dataTable['output_type'] = 'display_data';\n",
              "          await google.colab.output.renderOutput(dataTable, element);\n",
              "          const docLink = document.createElement('div');\n",
              "          docLink.innerHTML = docLinkHtml;\n",
              "          element.appendChild(docLink);\n",
              "        }\n",
              "      </script>\n",
              "    </div>\n",
              "  </div>\n",
              "  "
            ]
          },
          "metadata": {},
          "execution_count": 30
        }
      ]
    },
    {
      "cell_type": "markdown",
      "source": [
        "## Detection rate (top 51) = 956/1000"
      ],
      "metadata": {
        "id": "PkqSAZakWXM8"
      }
    },
    {
      "cell_type": "code",
      "source": [
        "whitelist = whitelist_df.iloc[:, 0][:51].tolist()\n",
        "print(whitelist)"
      ],
      "metadata": {
        "colab": {
          "base_uri": "https://localhost:8080/"
        },
        "id": "hiA70yr9QStE",
        "outputId": "9e753745-bbb0-40a5-abfa-1351a1626851"
      },
      "execution_count": 37,
      "outputs": [
        {
          "output_type": "stream",
          "name": "stdout",
          "text": [
            "['Init Bwd Win Byts', 'Idle Max', 'Bwd Pkt Len Max', 'Idle Mean', 'Tot Fwd Pkts', 'Idle Min', 'Bwd Pkt Len Std', 'Tot Bwd Pkts', 'Bwd Pkt Len Mean', 'TotLen Fwd Pkts', 'TotLen Bwd Pkts', 'Bwd IAT Max', 'Bwd IAT Tot', 'Fwd IAT Max', 'Bwd Seg Size Avg', 'Pkt Len Min', 'SYN Flag Cnt', 'Flow Duration', 'Fwd Pkt Len Std', 'Fwd IAT Tot', 'Bwd IAT Std', 'Flow Pkts/s', 'Down/Up Ratio', 'Fwd IAT Std', 'Fwd Pkt Len Min', 'Fwd Pkt Len Max', 'Subflow Bwd Pkts', 'Bwd Pkt Len Min', 'Flow IAT Mean', 'Flow IAT Min', 'Fwd IAT Min', 'Bwd IAT Mean', 'Bwd IAT Min', 'Bwd Header Len', 'Subflow Bwd Byts', 'Subflow Fwd Byts', 'Fwd Header Len', 'Bwd PSH Flags', 'Idle Std', 'Fwd Pkts/s', 'Fwd Act Data Pkts', 'Pkt Len Max', 'Fwd IAT Mean', 'Active Max', 'Active Std', 'Pkt Len Std', 'Pkt Len Var', 'Subflow Fwd Pkts', 'Flow Byts/s', 'Pkt Size Avg', 'Active Mean']\n"
          ]
        }
      ]
    },
    {
      "cell_type": "code",
      "source": [
        "alert = []\n",
        "\n",
        "# Iterate over each key-value pair in the data_dict\n",
        "for key, value in data_dict.items():\n",
        "    # Check if there are one feature is not in the whitelist\n",
        "    for string in value:\n",
        "      if string not in whitelist:\n",
        "        alert.append(key)\n",
        "        break\n",
        "\n",
        "# Print the alert dictionary\n",
        "print(\"Alert list length:\" + str(len(alert)))"
      ],
      "metadata": {
        "colab": {
          "base_uri": "https://localhost:8080/"
        },
        "id": "GWIJRBYkUwhx",
        "outputId": "1de1b9fa-0ee6-4be6-b17f-3c1d1111834a"
      },
      "execution_count": 38,
      "outputs": [
        {
          "output_type": "stream",
          "name": "stdout",
          "text": [
            "Alert list length:956\n"
          ]
        }
      ]
    },
    {
      "cell_type": "markdown",
      "source": [
        "## Detection rate (top 59) = 345/1000\n",
        "\n"
      ],
      "metadata": {
        "id": "NddVIE7MU9m-"
      }
    },
    {
      "cell_type": "code",
      "source": [
        "whitelist2 = whitelist_df.iloc[:, 0][:59].tolist()\n",
        "print(whitelist2)"
      ],
      "metadata": {
        "colab": {
          "base_uri": "https://localhost:8080/"
        },
        "id": "QTKqfqrEWMLV",
        "outputId": "4c92c2df-67fc-45df-cab8-583fb878f556"
      },
      "execution_count": 33,
      "outputs": [
        {
          "output_type": "stream",
          "name": "stdout",
          "text": [
            "['Init Bwd Win Byts', 'Idle Max', 'Bwd Pkt Len Max', 'Idle Mean', 'Tot Fwd Pkts', 'Idle Min', 'Bwd Pkt Len Std', 'Tot Bwd Pkts', 'Bwd Pkt Len Mean', 'TotLen Fwd Pkts', 'TotLen Bwd Pkts', 'Bwd IAT Max', 'Bwd IAT Tot', 'Fwd IAT Max', 'Bwd Seg Size Avg', 'Pkt Len Min', 'SYN Flag Cnt', 'Flow Duration', 'Fwd Pkt Len Std', 'Fwd IAT Tot', 'Bwd IAT Std', 'Flow Pkts/s', 'Down/Up Ratio', 'Fwd IAT Std', 'Fwd Pkt Len Min', 'Fwd Pkt Len Max', 'Subflow Bwd Pkts', 'Bwd Pkt Len Min', 'Flow IAT Mean', 'Flow IAT Min', 'Fwd IAT Min', 'Bwd IAT Mean', 'Bwd IAT Min', 'Bwd Header Len', 'Subflow Bwd Byts', 'Subflow Fwd Byts', 'Fwd Header Len', 'Bwd PSH Flags', 'Idle Std', 'Fwd Pkts/s', 'Fwd Act Data Pkts', 'Pkt Len Max', 'Fwd IAT Mean', 'Active Max', 'Active Std', 'Pkt Len Std', 'Pkt Len Var', 'Subflow Fwd Pkts', 'Flow Byts/s', 'Pkt Size Avg', 'Active Mean', 'ACK Flag Cnt', 'Flow IAT Max', 'Active Min', 'Pkt Len Mean', 'Fwd Pkt Len Mean', 'Flow IAT Std', 'Fwd Seg Size Avg', 'PSH Flag Cnt']\n"
          ]
        }
      ]
    },
    {
      "cell_type": "code",
      "source": [
        "alert2 = []\n",
        "\n",
        "# Iterate over each key-value pair in the data_dict\n",
        "for key, value in data_dict.items():\n",
        "    # Check if there are one feature is not in the whitelist\n",
        "    for string in value:\n",
        "      if string not in whitelist2:\n",
        "        alert2.append(key)\n",
        "        break\n",
        "\n",
        "# Print the alert dictionary\n",
        "print(\"Alert list length:\" + str(len(alert2)))"
      ],
      "metadata": {
        "colab": {
          "base_uri": "https://localhost:8080/"
        },
        "id": "p_i5J0kxVyCx",
        "outputId": "64b0a787-e651-4960-b2c4-0c23a8caa86f"
      },
      "execution_count": 34,
      "outputs": [
        {
          "output_type": "stream",
          "name": "stdout",
          "text": [
            "Alert list length:345\n"
          ]
        }
      ]
    }
  ]
}