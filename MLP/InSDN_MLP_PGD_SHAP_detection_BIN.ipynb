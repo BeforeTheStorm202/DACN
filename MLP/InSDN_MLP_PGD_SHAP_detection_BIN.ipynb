{
  "nbformat": 4,
  "nbformat_minor": 0,
  "metadata": {
    "colab": {
      "provenance": []
    },
    "kernelspec": {
      "name": "python3",
      "display_name": "Python 3"
    },
    "language_info": {
      "name": "python"
    },
    "widgets": {
      "application/vnd.jupyter.widget-state+json": {
        "ad894fa6c74a4761b46c0e43b00036f4": {
          "model_module": "@jupyter-widgets/controls",
          "model_name": "HBoxModel",
          "model_module_version": "1.5.0",
          "state": {
            "_dom_classes": [],
            "_model_module": "@jupyter-widgets/controls",
            "_model_module_version": "1.5.0",
            "_model_name": "HBoxModel",
            "_view_count": null,
            "_view_module": "@jupyter-widgets/controls",
            "_view_module_version": "1.5.0",
            "_view_name": "HBoxView",
            "box_style": "",
            "children": [
              "IPY_MODEL_ccf34caab0e145b0a7b77d0c1f296bd9",
              "IPY_MODEL_973ecb3e065140168f54cd5dcc7fa458",
              "IPY_MODEL_50dc51e8876047838f53d988a04d23cf"
            ],
            "layout": "IPY_MODEL_8e307c333c5941b1bf7b9044e6a86846"
          }
        },
        "ccf34caab0e145b0a7b77d0c1f296bd9": {
          "model_module": "@jupyter-widgets/controls",
          "model_name": "HTMLModel",
          "model_module_version": "1.5.0",
          "state": {
            "_dom_classes": [],
            "_model_module": "@jupyter-widgets/controls",
            "_model_module_version": "1.5.0",
            "_model_name": "HTMLModel",
            "_view_count": null,
            "_view_module": "@jupyter-widgets/controls",
            "_view_module_version": "1.5.0",
            "_view_name": "HTMLView",
            "description": "",
            "description_tooltip": null,
            "layout": "IPY_MODEL_b5620951e30b4883b1758ae9ea92fe4f",
            "placeholder": "​",
            "style": "IPY_MODEL_8c0c1fe3858a469c84eb4cfb91b43425",
            "value": "100%"
          }
        },
        "973ecb3e065140168f54cd5dcc7fa458": {
          "model_module": "@jupyter-widgets/controls",
          "model_name": "FloatProgressModel",
          "model_module_version": "1.5.0",
          "state": {
            "_dom_classes": [],
            "_model_module": "@jupyter-widgets/controls",
            "_model_module_version": "1.5.0",
            "_model_name": "FloatProgressModel",
            "_view_count": null,
            "_view_module": "@jupyter-widgets/controls",
            "_view_module_version": "1.5.0",
            "_view_name": "ProgressView",
            "bar_style": "success",
            "description": "",
            "description_tooltip": null,
            "layout": "IPY_MODEL_08c2b823cdf445d29910161680c13052",
            "max": 1000,
            "min": 0,
            "orientation": "horizontal",
            "style": "IPY_MODEL_d1b41ebbe74f497f8c8f3ac66e1f7415",
            "value": 1000
          }
        },
        "50dc51e8876047838f53d988a04d23cf": {
          "model_module": "@jupyter-widgets/controls",
          "model_name": "HTMLModel",
          "model_module_version": "1.5.0",
          "state": {
            "_dom_classes": [],
            "_model_module": "@jupyter-widgets/controls",
            "_model_module_version": "1.5.0",
            "_model_name": "HTMLModel",
            "_view_count": null,
            "_view_module": "@jupyter-widgets/controls",
            "_view_module_version": "1.5.0",
            "_view_name": "HTMLView",
            "description": "",
            "description_tooltip": null,
            "layout": "IPY_MODEL_782af0970a6c466e9e6e79bb4fb5ae88",
            "placeholder": "​",
            "style": "IPY_MODEL_712116bf9eb743ddabd2a87dd88589ba",
            "value": " 1000/1000 [1:19:51&lt;00:00,  4.98s/it]"
          }
        },
        "8e307c333c5941b1bf7b9044e6a86846": {
          "model_module": "@jupyter-widgets/base",
          "model_name": "LayoutModel",
          "model_module_version": "1.2.0",
          "state": {
            "_model_module": "@jupyter-widgets/base",
            "_model_module_version": "1.2.0",
            "_model_name": "LayoutModel",
            "_view_count": null,
            "_view_module": "@jupyter-widgets/base",
            "_view_module_version": "1.2.0",
            "_view_name": "LayoutView",
            "align_content": null,
            "align_items": null,
            "align_self": null,
            "border": null,
            "bottom": null,
            "display": null,
            "flex": null,
            "flex_flow": null,
            "grid_area": null,
            "grid_auto_columns": null,
            "grid_auto_flow": null,
            "grid_auto_rows": null,
            "grid_column": null,
            "grid_gap": null,
            "grid_row": null,
            "grid_template_areas": null,
            "grid_template_columns": null,
            "grid_template_rows": null,
            "height": null,
            "justify_content": null,
            "justify_items": null,
            "left": null,
            "margin": null,
            "max_height": null,
            "max_width": null,
            "min_height": null,
            "min_width": null,
            "object_fit": null,
            "object_position": null,
            "order": null,
            "overflow": null,
            "overflow_x": null,
            "overflow_y": null,
            "padding": null,
            "right": null,
            "top": null,
            "visibility": null,
            "width": null
          }
        },
        "b5620951e30b4883b1758ae9ea92fe4f": {
          "model_module": "@jupyter-widgets/base",
          "model_name": "LayoutModel",
          "model_module_version": "1.2.0",
          "state": {
            "_model_module": "@jupyter-widgets/base",
            "_model_module_version": "1.2.0",
            "_model_name": "LayoutModel",
            "_view_count": null,
            "_view_module": "@jupyter-widgets/base",
            "_view_module_version": "1.2.0",
            "_view_name": "LayoutView",
            "align_content": null,
            "align_items": null,
            "align_self": null,
            "border": null,
            "bottom": null,
            "display": null,
            "flex": null,
            "flex_flow": null,
            "grid_area": null,
            "grid_auto_columns": null,
            "grid_auto_flow": null,
            "grid_auto_rows": null,
            "grid_column": null,
            "grid_gap": null,
            "grid_row": null,
            "grid_template_areas": null,
            "grid_template_columns": null,
            "grid_template_rows": null,
            "height": null,
            "justify_content": null,
            "justify_items": null,
            "left": null,
            "margin": null,
            "max_height": null,
            "max_width": null,
            "min_height": null,
            "min_width": null,
            "object_fit": null,
            "object_position": null,
            "order": null,
            "overflow": null,
            "overflow_x": null,
            "overflow_y": null,
            "padding": null,
            "right": null,
            "top": null,
            "visibility": null,
            "width": null
          }
        },
        "8c0c1fe3858a469c84eb4cfb91b43425": {
          "model_module": "@jupyter-widgets/controls",
          "model_name": "DescriptionStyleModel",
          "model_module_version": "1.5.0",
          "state": {
            "_model_module": "@jupyter-widgets/controls",
            "_model_module_version": "1.5.0",
            "_model_name": "DescriptionStyleModel",
            "_view_count": null,
            "_view_module": "@jupyter-widgets/base",
            "_view_module_version": "1.2.0",
            "_view_name": "StyleView",
            "description_width": ""
          }
        },
        "08c2b823cdf445d29910161680c13052": {
          "model_module": "@jupyter-widgets/base",
          "model_name": "LayoutModel",
          "model_module_version": "1.2.0",
          "state": {
            "_model_module": "@jupyter-widgets/base",
            "_model_module_version": "1.2.0",
            "_model_name": "LayoutModel",
            "_view_count": null,
            "_view_module": "@jupyter-widgets/base",
            "_view_module_version": "1.2.0",
            "_view_name": "LayoutView",
            "align_content": null,
            "align_items": null,
            "align_self": null,
            "border": null,
            "bottom": null,
            "display": null,
            "flex": null,
            "flex_flow": null,
            "grid_area": null,
            "grid_auto_columns": null,
            "grid_auto_flow": null,
            "grid_auto_rows": null,
            "grid_column": null,
            "grid_gap": null,
            "grid_row": null,
            "grid_template_areas": null,
            "grid_template_columns": null,
            "grid_template_rows": null,
            "height": null,
            "justify_content": null,
            "justify_items": null,
            "left": null,
            "margin": null,
            "max_height": null,
            "max_width": null,
            "min_height": null,
            "min_width": null,
            "object_fit": null,
            "object_position": null,
            "order": null,
            "overflow": null,
            "overflow_x": null,
            "overflow_y": null,
            "padding": null,
            "right": null,
            "top": null,
            "visibility": null,
            "width": null
          }
        },
        "d1b41ebbe74f497f8c8f3ac66e1f7415": {
          "model_module": "@jupyter-widgets/controls",
          "model_name": "ProgressStyleModel",
          "model_module_version": "1.5.0",
          "state": {
            "_model_module": "@jupyter-widgets/controls",
            "_model_module_version": "1.5.0",
            "_model_name": "ProgressStyleModel",
            "_view_count": null,
            "_view_module": "@jupyter-widgets/base",
            "_view_module_version": "1.2.0",
            "_view_name": "StyleView",
            "bar_color": null,
            "description_width": ""
          }
        },
        "782af0970a6c466e9e6e79bb4fb5ae88": {
          "model_module": "@jupyter-widgets/base",
          "model_name": "LayoutModel",
          "model_module_version": "1.2.0",
          "state": {
            "_model_module": "@jupyter-widgets/base",
            "_model_module_version": "1.2.0",
            "_model_name": "LayoutModel",
            "_view_count": null,
            "_view_module": "@jupyter-widgets/base",
            "_view_module_version": "1.2.0",
            "_view_name": "LayoutView",
            "align_content": null,
            "align_items": null,
            "align_self": null,
            "border": null,
            "bottom": null,
            "display": null,
            "flex": null,
            "flex_flow": null,
            "grid_area": null,
            "grid_auto_columns": null,
            "grid_auto_flow": null,
            "grid_auto_rows": null,
            "grid_column": null,
            "grid_gap": null,
            "grid_row": null,
            "grid_template_areas": null,
            "grid_template_columns": null,
            "grid_template_rows": null,
            "height": null,
            "justify_content": null,
            "justify_items": null,
            "left": null,
            "margin": null,
            "max_height": null,
            "max_width": null,
            "min_height": null,
            "min_width": null,
            "object_fit": null,
            "object_position": null,
            "order": null,
            "overflow": null,
            "overflow_x": null,
            "overflow_y": null,
            "padding": null,
            "right": null,
            "top": null,
            "visibility": null,
            "width": null
          }
        },
        "712116bf9eb743ddabd2a87dd88589ba": {
          "model_module": "@jupyter-widgets/controls",
          "model_name": "DescriptionStyleModel",
          "model_module_version": "1.5.0",
          "state": {
            "_model_module": "@jupyter-widgets/controls",
            "_model_module_version": "1.5.0",
            "_model_name": "DescriptionStyleModel",
            "_view_count": null,
            "_view_module": "@jupyter-widgets/base",
            "_view_module_version": "1.2.0",
            "_view_name": "StyleView",
            "description_width": ""
          }
        }
      }
    }
  },
  "cells": [
    {
      "cell_type": "markdown",
      "source": [
        "# Import"
      ],
      "metadata": {
        "id": "O0lPv_8LykMw"
      }
    },
    {
      "cell_type": "code",
      "source": [
        "from google.colab import drive\n",
        "drive.mount('/content/drive')"
      ],
      "metadata": {
        "colab": {
          "base_uri": "https://localhost:8080/"
        },
        "id": "_UKCBSmOSBsC",
        "outputId": "6d81de9c-efda-4268-96b2-7c1060bfdf85"
      },
      "execution_count": 40,
      "outputs": [
        {
          "output_type": "stream",
          "name": "stdout",
          "text": [
            "Drive already mounted at /content/drive; to attempt to forcibly remount, call drive.mount(\"/content/drive\", force_remount=True).\n"
          ]
        }
      ]
    },
    {
      "cell_type": "code",
      "source": [
        "import warnings\n",
        "warnings.filterwarnings('ignore')"
      ],
      "metadata": {
        "id": "No3-0KGj_Kic"
      },
      "execution_count": null,
      "outputs": []
    },
    {
      "cell_type": "code",
      "execution_count": 41,
      "metadata": {
        "id": "bBcPmYOsyREp",
        "colab": {
          "base_uri": "https://localhost:8080/"
        },
        "outputId": "75dd7d00-e4ee-445a-9aa4-be59aee653f7"
      },
      "outputs": [
        {
          "output_type": "stream",
          "name": "stdout",
          "text": [
            "Requirement already satisfied: shap in /usr/local/lib/python3.10/dist-packages (0.42.0)\n",
            "Requirement already satisfied: numpy in /usr/local/lib/python3.10/dist-packages (from shap) (1.22.4)\n",
            "Requirement already satisfied: scipy in /usr/local/lib/python3.10/dist-packages (from shap) (1.10.1)\n",
            "Requirement already satisfied: scikit-learn in /usr/local/lib/python3.10/dist-packages (from shap) (1.2.2)\n",
            "Requirement already satisfied: pandas in /usr/local/lib/python3.10/dist-packages (from shap) (1.5.3)\n",
            "Requirement already satisfied: tqdm>=4.27.0 in /usr/local/lib/python3.10/dist-packages (from shap) (4.65.0)\n",
            "Requirement already satisfied: packaging>20.9 in /usr/local/lib/python3.10/dist-packages (from shap) (23.1)\n",
            "Requirement already satisfied: slicer==0.0.7 in /usr/local/lib/python3.10/dist-packages (from shap) (0.0.7)\n",
            "Requirement already satisfied: numba in /usr/local/lib/python3.10/dist-packages (from shap) (0.56.4)\n",
            "Requirement already satisfied: cloudpickle in /usr/local/lib/python3.10/dist-packages (from shap) (2.2.1)\n",
            "Requirement already satisfied: llvmlite<0.40,>=0.39.0dev0 in /usr/local/lib/python3.10/dist-packages (from numba->shap) (0.39.1)\n",
            "Requirement already satisfied: setuptools in /usr/local/lib/python3.10/dist-packages (from numba->shap) (67.7.2)\n",
            "Requirement already satisfied: python-dateutil>=2.8.1 in /usr/local/lib/python3.10/dist-packages (from pandas->shap) (2.8.2)\n",
            "Requirement already satisfied: pytz>=2020.1 in /usr/local/lib/python3.10/dist-packages (from pandas->shap) (2022.7.1)\n",
            "Requirement already satisfied: joblib>=1.1.1 in /usr/local/lib/python3.10/dist-packages (from scikit-learn->shap) (1.2.0)\n",
            "Requirement already satisfied: threadpoolctl>=2.0.0 in /usr/local/lib/python3.10/dist-packages (from scikit-learn->shap) (3.1.0)\n",
            "Requirement already satisfied: six>=1.5 in /usr/local/lib/python3.10/dist-packages (from python-dateutil>=2.8.1->pandas->shap) (1.16.0)\n"
          ]
        }
      ],
      "source": [
        "!pip install shap"
      ]
    },
    {
      "cell_type": "code",
      "source": [
        "import shap\n",
        "import pandas as pd\n",
        "import tensorflow as tf\n",
        "from tensorflow import keras"
      ],
      "metadata": {
        "id": "yisYwS6Mymik"
      },
      "execution_count": 42,
      "outputs": []
    },
    {
      "cell_type": "markdown",
      "source": [
        "# Load trainset"
      ],
      "metadata": {
        "id": "Bz9tx1gdBGK4"
      }
    },
    {
      "cell_type": "code",
      "source": [
        "df = pd.read_csv('/content/drive/MyDrive/Dataset/insdn/binary/train.csv')\n",
        "df.info()"
      ],
      "metadata": {
        "colab": {
          "base_uri": "https://localhost:8080/"
        },
        "id": "joOnVrMbBIgT",
        "outputId": "c0cda2fc-d2ef-4bfc-9e97-f2444a0d3fe4"
      },
      "execution_count": 43,
      "outputs": [
        {
          "output_type": "stream",
          "name": "stdout",
          "text": [
            "<class 'pandas.core.frame.DataFrame'>\n",
            "RangeIndex: 275111 entries, 0 to 275110\n",
            "Data columns (total 77 columns):\n",
            " #   Column             Non-Null Count   Dtype  \n",
            "---  ------             --------------   -----  \n",
            " 0   Flow Duration      275111 non-null  float64\n",
            " 1   Tot Fwd Pkts       275111 non-null  float64\n",
            " 2   Tot Bwd Pkts       275111 non-null  float64\n",
            " 3   TotLen Fwd Pkts    275111 non-null  float64\n",
            " 4   TotLen Bwd Pkts    275111 non-null  float64\n",
            " 5   Fwd Pkt Len Max    275111 non-null  float64\n",
            " 6   Fwd Pkt Len Min    275111 non-null  float64\n",
            " 7   Fwd Pkt Len Mean   275111 non-null  float64\n",
            " 8   Fwd Pkt Len Std    275111 non-null  float64\n",
            " 9   Bwd Pkt Len Max    275111 non-null  float64\n",
            " 10  Bwd Pkt Len Min    275111 non-null  float64\n",
            " 11  Bwd Pkt Len Mean   275111 non-null  float64\n",
            " 12  Bwd Pkt Len Std    275111 non-null  float64\n",
            " 13  Flow Byts/s        275111 non-null  float64\n",
            " 14  Flow Pkts/s        275111 non-null  float64\n",
            " 15  Flow IAT Mean      275111 non-null  float64\n",
            " 16  Flow IAT Std       275111 non-null  float64\n",
            " 17  Flow IAT Max       275111 non-null  float64\n",
            " 18  Flow IAT Min       275111 non-null  float64\n",
            " 19  Fwd IAT Tot        275111 non-null  float64\n",
            " 20  Fwd IAT Mean       275111 non-null  float64\n",
            " 21  Fwd IAT Std        275111 non-null  float64\n",
            " 22  Fwd IAT Max        275111 non-null  float64\n",
            " 23  Fwd IAT Min        275111 non-null  float64\n",
            " 24  Bwd IAT Tot        275111 non-null  float64\n",
            " 25  Bwd IAT Mean       275111 non-null  float64\n",
            " 26  Bwd IAT Std        275111 non-null  float64\n",
            " 27  Bwd IAT Max        275111 non-null  float64\n",
            " 28  Bwd IAT Min        275111 non-null  float64\n",
            " 29  Fwd PSH Flags      275111 non-null  float64\n",
            " 30  Bwd PSH Flags      275111 non-null  float64\n",
            " 31  Fwd URG Flags      275111 non-null  float64\n",
            " 32  Bwd URG Flags      275111 non-null  float64\n",
            " 33  Fwd Header Len     275111 non-null  float64\n",
            " 34  Bwd Header Len     275111 non-null  float64\n",
            " 35  Fwd Pkts/s         275111 non-null  float64\n",
            " 36  Bwd Pkts/s         275111 non-null  float64\n",
            " 37  Pkt Len Min        275111 non-null  float64\n",
            " 38  Pkt Len Max        275111 non-null  float64\n",
            " 39  Pkt Len Mean       275111 non-null  float64\n",
            " 40  Pkt Len Std        275111 non-null  float64\n",
            " 41  Pkt Len Var        275111 non-null  float64\n",
            " 42  FIN Flag Cnt       275111 non-null  float64\n",
            " 43  SYN Flag Cnt       275111 non-null  float64\n",
            " 44  RST Flag Cnt       275111 non-null  float64\n",
            " 45  PSH Flag Cnt       275111 non-null  float64\n",
            " 46  ACK Flag Cnt       275111 non-null  float64\n",
            " 47  URG Flag Cnt       275111 non-null  float64\n",
            " 48  CWE Flag Count     275111 non-null  float64\n",
            " 49  ECE Flag Cnt       275111 non-null  float64\n",
            " 50  Down/Up Ratio      275111 non-null  float64\n",
            " 51  Pkt Size Avg       275111 non-null  float64\n",
            " 52  Fwd Seg Size Avg   275111 non-null  float64\n",
            " 53  Bwd Seg Size Avg   275111 non-null  float64\n",
            " 54  Fwd Byts/b Avg     275111 non-null  float64\n",
            " 55  Fwd Pkts/b Avg     275111 non-null  float64\n",
            " 56  Fwd Blk Rate Avg   275111 non-null  float64\n",
            " 57  Bwd Byts/b Avg     275111 non-null  float64\n",
            " 58  Bwd Pkts/b Avg     275111 non-null  float64\n",
            " 59  Bwd Blk Rate Avg   275111 non-null  float64\n",
            " 60  Subflow Fwd Pkts   275111 non-null  float64\n",
            " 61  Subflow Fwd Byts   275111 non-null  float64\n",
            " 62  Subflow Bwd Pkts   275111 non-null  float64\n",
            " 63  Subflow Bwd Byts   275111 non-null  float64\n",
            " 64  Init Fwd Win Byts  275111 non-null  float64\n",
            " 65  Init Bwd Win Byts  275111 non-null  float64\n",
            " 66  Fwd Act Data Pkts  275111 non-null  float64\n",
            " 67  Fwd Seg Size Min   275111 non-null  float64\n",
            " 68  Active Mean        275111 non-null  float64\n",
            " 69  Active Std         275111 non-null  float64\n",
            " 70  Active Max         275111 non-null  float64\n",
            " 71  Active Min         275111 non-null  float64\n",
            " 72  Idle Mean          275111 non-null  float64\n",
            " 73  Idle Std           275111 non-null  float64\n",
            " 74  Idle Max           275111 non-null  float64\n",
            " 75  Idle Min           275111 non-null  float64\n",
            " 76  Label              275111 non-null  int64  \n",
            "dtypes: float64(76), int64(1)\n",
            "memory usage: 161.6 MB\n"
          ]
        }
      ]
    },
    {
      "cell_type": "code",
      "source": [
        "df = df.drop(columns=['Label'])\n",
        "df.info()"
      ],
      "metadata": {
        "colab": {
          "base_uri": "https://localhost:8080/"
        },
        "id": "mYgl1-XQBYwR",
        "outputId": "1ddf6280-3fa8-4247-90f2-a14e28dc707a"
      },
      "execution_count": 44,
      "outputs": [
        {
          "output_type": "stream",
          "name": "stdout",
          "text": [
            "<class 'pandas.core.frame.DataFrame'>\n",
            "RangeIndex: 275111 entries, 0 to 275110\n",
            "Data columns (total 76 columns):\n",
            " #   Column             Non-Null Count   Dtype  \n",
            "---  ------             --------------   -----  \n",
            " 0   Flow Duration      275111 non-null  float64\n",
            " 1   Tot Fwd Pkts       275111 non-null  float64\n",
            " 2   Tot Bwd Pkts       275111 non-null  float64\n",
            " 3   TotLen Fwd Pkts    275111 non-null  float64\n",
            " 4   TotLen Bwd Pkts    275111 non-null  float64\n",
            " 5   Fwd Pkt Len Max    275111 non-null  float64\n",
            " 6   Fwd Pkt Len Min    275111 non-null  float64\n",
            " 7   Fwd Pkt Len Mean   275111 non-null  float64\n",
            " 8   Fwd Pkt Len Std    275111 non-null  float64\n",
            " 9   Bwd Pkt Len Max    275111 non-null  float64\n",
            " 10  Bwd Pkt Len Min    275111 non-null  float64\n",
            " 11  Bwd Pkt Len Mean   275111 non-null  float64\n",
            " 12  Bwd Pkt Len Std    275111 non-null  float64\n",
            " 13  Flow Byts/s        275111 non-null  float64\n",
            " 14  Flow Pkts/s        275111 non-null  float64\n",
            " 15  Flow IAT Mean      275111 non-null  float64\n",
            " 16  Flow IAT Std       275111 non-null  float64\n",
            " 17  Flow IAT Max       275111 non-null  float64\n",
            " 18  Flow IAT Min       275111 non-null  float64\n",
            " 19  Fwd IAT Tot        275111 non-null  float64\n",
            " 20  Fwd IAT Mean       275111 non-null  float64\n",
            " 21  Fwd IAT Std        275111 non-null  float64\n",
            " 22  Fwd IAT Max        275111 non-null  float64\n",
            " 23  Fwd IAT Min        275111 non-null  float64\n",
            " 24  Bwd IAT Tot        275111 non-null  float64\n",
            " 25  Bwd IAT Mean       275111 non-null  float64\n",
            " 26  Bwd IAT Std        275111 non-null  float64\n",
            " 27  Bwd IAT Max        275111 non-null  float64\n",
            " 28  Bwd IAT Min        275111 non-null  float64\n",
            " 29  Fwd PSH Flags      275111 non-null  float64\n",
            " 30  Bwd PSH Flags      275111 non-null  float64\n",
            " 31  Fwd URG Flags      275111 non-null  float64\n",
            " 32  Bwd URG Flags      275111 non-null  float64\n",
            " 33  Fwd Header Len     275111 non-null  float64\n",
            " 34  Bwd Header Len     275111 non-null  float64\n",
            " 35  Fwd Pkts/s         275111 non-null  float64\n",
            " 36  Bwd Pkts/s         275111 non-null  float64\n",
            " 37  Pkt Len Min        275111 non-null  float64\n",
            " 38  Pkt Len Max        275111 non-null  float64\n",
            " 39  Pkt Len Mean       275111 non-null  float64\n",
            " 40  Pkt Len Std        275111 non-null  float64\n",
            " 41  Pkt Len Var        275111 non-null  float64\n",
            " 42  FIN Flag Cnt       275111 non-null  float64\n",
            " 43  SYN Flag Cnt       275111 non-null  float64\n",
            " 44  RST Flag Cnt       275111 non-null  float64\n",
            " 45  PSH Flag Cnt       275111 non-null  float64\n",
            " 46  ACK Flag Cnt       275111 non-null  float64\n",
            " 47  URG Flag Cnt       275111 non-null  float64\n",
            " 48  CWE Flag Count     275111 non-null  float64\n",
            " 49  ECE Flag Cnt       275111 non-null  float64\n",
            " 50  Down/Up Ratio      275111 non-null  float64\n",
            " 51  Pkt Size Avg       275111 non-null  float64\n",
            " 52  Fwd Seg Size Avg   275111 non-null  float64\n",
            " 53  Bwd Seg Size Avg   275111 non-null  float64\n",
            " 54  Fwd Byts/b Avg     275111 non-null  float64\n",
            " 55  Fwd Pkts/b Avg     275111 non-null  float64\n",
            " 56  Fwd Blk Rate Avg   275111 non-null  float64\n",
            " 57  Bwd Byts/b Avg     275111 non-null  float64\n",
            " 58  Bwd Pkts/b Avg     275111 non-null  float64\n",
            " 59  Bwd Blk Rate Avg   275111 non-null  float64\n",
            " 60  Subflow Fwd Pkts   275111 non-null  float64\n",
            " 61  Subflow Fwd Byts   275111 non-null  float64\n",
            " 62  Subflow Bwd Pkts   275111 non-null  float64\n",
            " 63  Subflow Bwd Byts   275111 non-null  float64\n",
            " 64  Init Fwd Win Byts  275111 non-null  float64\n",
            " 65  Init Bwd Win Byts  275111 non-null  float64\n",
            " 66  Fwd Act Data Pkts  275111 non-null  float64\n",
            " 67  Fwd Seg Size Min   275111 non-null  float64\n",
            " 68  Active Mean        275111 non-null  float64\n",
            " 69  Active Std         275111 non-null  float64\n",
            " 70  Active Max         275111 non-null  float64\n",
            " 71  Active Min         275111 non-null  float64\n",
            " 72  Idle Mean          275111 non-null  float64\n",
            " 73  Idle Std           275111 non-null  float64\n",
            " 74  Idle Max           275111 non-null  float64\n",
            " 75  Idle Min           275111 non-null  float64\n",
            "dtypes: float64(76)\n",
            "memory usage: 159.5 MB\n"
          ]
        }
      ]
    },
    {
      "cell_type": "markdown",
      "source": [
        "# Load adv samples"
      ],
      "metadata": {
        "id": "kFirQ2Tyz28E"
      }
    },
    {
      "cell_type": "code",
      "source": [
        "feature_list = ['Flow Duration', 'Tot Fwd Pkts', 'Tot Bwd Pkts', 'TotLen Fwd Pkts',\n",
        "       'TotLen Bwd Pkts', 'Fwd Pkt Len Max', 'Fwd Pkt Len Min',\n",
        "       'Fwd Pkt Len Mean', 'Fwd Pkt Len Std', 'Bwd Pkt Len Max',\n",
        "       'Bwd Pkt Len Min', 'Bwd Pkt Len Mean', 'Bwd Pkt Len Std', 'Flow Byts/s',\n",
        "       'Flow Pkts/s', 'Flow IAT Mean', 'Flow IAT Std', 'Flow IAT Max',\n",
        "       'Flow IAT Min', 'Fwd IAT Tot', 'Fwd IAT Mean', 'Fwd IAT Std',\n",
        "       'Fwd IAT Max', 'Fwd IAT Min', 'Bwd IAT Tot', 'Bwd IAT Mean',\n",
        "       'Bwd IAT Std', 'Bwd IAT Max', 'Bwd IAT Min', 'Fwd PSH Flags',\n",
        "       'Bwd PSH Flags', 'Fwd URG Flags', 'Bwd URG Flags', 'Fwd Header Len',\n",
        "       'Bwd Header Len', 'Fwd Pkts/s', 'Bwd Pkts/s', 'Pkt Len Min',\n",
        "       'Pkt Len Max', 'Pkt Len Mean', 'Pkt Len Std', 'Pkt Len Var',\n",
        "       'FIN Flag Cnt', 'SYN Flag Cnt', 'RST Flag Cnt', 'PSH Flag Cnt',\n",
        "       'ACK Flag Cnt', 'URG Flag Cnt', 'CWE Flag Count', 'ECE Flag Cnt',\n",
        "       'Down/Up Ratio', 'Pkt Size Avg', 'Fwd Seg Size Avg', 'Bwd Seg Size Avg',\n",
        "       'Fwd Byts/b Avg', 'Fwd Pkts/b Avg', 'Fwd Blk Rate Avg',\n",
        "       'Bwd Byts/b Avg', 'Bwd Pkts/b Avg', 'Bwd Blk Rate Avg',\n",
        "       'Subflow Fwd Pkts', 'Subflow Fwd Byts', 'Subflow Bwd Pkts',\n",
        "       'Subflow Bwd Byts', 'Init Fwd Win Byts', 'Init Bwd Win Byts',\n",
        "       'Fwd Act Data Pkts', 'Fwd Seg Size Min', 'Active Mean', 'Active Std',\n",
        "       'Active Max', 'Active Min', 'Idle Mean', 'Idle Std', 'Idle Max',\n",
        "       'Idle Min']"
      ],
      "metadata": {
        "id": "uoVlCtWr1F-F"
      },
      "execution_count": 45,
      "outputs": []
    },
    {
      "cell_type": "code",
      "source": [
        "pgd_path = '/content/drive/MyDrive/Dataset/insdn/adv/24_feature/pgd/pgd_mlp_bin_feature'\n",
        "#pgd_label_path = '/content/drive/MyDrive/DACN_XAI_Adv_defense/Dataset/insdn/adv/pgd/adv_pgd_target.csv'"
      ],
      "metadata": {
        "id": "f29J4Es-z5lJ"
      },
      "execution_count": 46,
      "outputs": []
    },
    {
      "cell_type": "code",
      "source": [
        "pgd_df = pd.read_csv(pgd_path)"
      ],
      "metadata": {
        "id": "I8txn6aG0EIJ"
      },
      "execution_count": 47,
      "outputs": []
    },
    {
      "cell_type": "code",
      "source": [
        "pgd_df.columns = feature_list\n",
        "pgd_df.info()"
      ],
      "metadata": {
        "colab": {
          "base_uri": "https://localhost:8080/"
        },
        "id": "dcF6Wl5Y0LY2",
        "outputId": "421a7fc9-79a9-4a84-bcd9-8b3731235c02"
      },
      "execution_count": 48,
      "outputs": [
        {
          "output_type": "stream",
          "name": "stdout",
          "text": [
            "<class 'pandas.core.frame.DataFrame'>\n",
            "RangeIndex: 55151 entries, 0 to 55150\n",
            "Data columns (total 76 columns):\n",
            " #   Column             Non-Null Count  Dtype  \n",
            "---  ------             --------------  -----  \n",
            " 0   Flow Duration      55151 non-null  float64\n",
            " 1   Tot Fwd Pkts       55151 non-null  float64\n",
            " 2   Tot Bwd Pkts       55151 non-null  float64\n",
            " 3   TotLen Fwd Pkts    55151 non-null  float64\n",
            " 4   TotLen Bwd Pkts    55151 non-null  float64\n",
            " 5   Fwd Pkt Len Max    55151 non-null  float64\n",
            " 6   Fwd Pkt Len Min    55151 non-null  float64\n",
            " 7   Fwd Pkt Len Mean   55151 non-null  float64\n",
            " 8   Fwd Pkt Len Std    55151 non-null  float64\n",
            " 9   Bwd Pkt Len Max    55151 non-null  float64\n",
            " 10  Bwd Pkt Len Min    55151 non-null  float64\n",
            " 11  Bwd Pkt Len Mean   55151 non-null  float64\n",
            " 12  Bwd Pkt Len Std    55151 non-null  float64\n",
            " 13  Flow Byts/s        55151 non-null  float64\n",
            " 14  Flow Pkts/s        55151 non-null  float64\n",
            " 15  Flow IAT Mean      55151 non-null  float64\n",
            " 16  Flow IAT Std       55151 non-null  float64\n",
            " 17  Flow IAT Max       55151 non-null  float64\n",
            " 18  Flow IAT Min       55151 non-null  float64\n",
            " 19  Fwd IAT Tot        55151 non-null  float64\n",
            " 20  Fwd IAT Mean       55151 non-null  float64\n",
            " 21  Fwd IAT Std        55151 non-null  float64\n",
            " 22  Fwd IAT Max        55151 non-null  float64\n",
            " 23  Fwd IAT Min        55151 non-null  float64\n",
            " 24  Bwd IAT Tot        55151 non-null  float64\n",
            " 25  Bwd IAT Mean       55151 non-null  float64\n",
            " 26  Bwd IAT Std        55151 non-null  float64\n",
            " 27  Bwd IAT Max        55151 non-null  float64\n",
            " 28  Bwd IAT Min        55151 non-null  float64\n",
            " 29  Fwd PSH Flags      55151 non-null  float64\n",
            " 30  Bwd PSH Flags      55151 non-null  float64\n",
            " 31  Fwd URG Flags      55151 non-null  float64\n",
            " 32  Bwd URG Flags      55151 non-null  float64\n",
            " 33  Fwd Header Len     55151 non-null  float64\n",
            " 34  Bwd Header Len     55151 non-null  float64\n",
            " 35  Fwd Pkts/s         55151 non-null  float64\n",
            " 36  Bwd Pkts/s         55151 non-null  float64\n",
            " 37  Pkt Len Min        55151 non-null  float64\n",
            " 38  Pkt Len Max        55151 non-null  float64\n",
            " 39  Pkt Len Mean       55151 non-null  float64\n",
            " 40  Pkt Len Std        55151 non-null  float64\n",
            " 41  Pkt Len Var        55151 non-null  float64\n",
            " 42  FIN Flag Cnt       55151 non-null  float64\n",
            " 43  SYN Flag Cnt       55151 non-null  float64\n",
            " 44  RST Flag Cnt       55151 non-null  float64\n",
            " 45  PSH Flag Cnt       55151 non-null  float64\n",
            " 46  ACK Flag Cnt       55151 non-null  float64\n",
            " 47  URG Flag Cnt       55151 non-null  float64\n",
            " 48  CWE Flag Count     55151 non-null  float64\n",
            " 49  ECE Flag Cnt       55151 non-null  float64\n",
            " 50  Down/Up Ratio      55151 non-null  float64\n",
            " 51  Pkt Size Avg       55151 non-null  float64\n",
            " 52  Fwd Seg Size Avg   55151 non-null  float64\n",
            " 53  Bwd Seg Size Avg   55151 non-null  float64\n",
            " 54  Fwd Byts/b Avg     55151 non-null  float64\n",
            " 55  Fwd Pkts/b Avg     55151 non-null  float64\n",
            " 56  Fwd Blk Rate Avg   55151 non-null  float64\n",
            " 57  Bwd Byts/b Avg     55151 non-null  float64\n",
            " 58  Bwd Pkts/b Avg     55151 non-null  float64\n",
            " 59  Bwd Blk Rate Avg   55151 non-null  float64\n",
            " 60  Subflow Fwd Pkts   55151 non-null  float64\n",
            " 61  Subflow Fwd Byts   55151 non-null  float64\n",
            " 62  Subflow Bwd Pkts   55151 non-null  float64\n",
            " 63  Subflow Bwd Byts   55151 non-null  float64\n",
            " 64  Init Fwd Win Byts  55151 non-null  float64\n",
            " 65  Init Bwd Win Byts  55151 non-null  float64\n",
            " 66  Fwd Act Data Pkts  55151 non-null  float64\n",
            " 67  Fwd Seg Size Min   55151 non-null  float64\n",
            " 68  Active Mean        55151 non-null  float64\n",
            " 69  Active Std         55151 non-null  float64\n",
            " 70  Active Max         55151 non-null  float64\n",
            " 71  Active Min         55151 non-null  float64\n",
            " 72  Idle Mean          55151 non-null  float64\n",
            " 73  Idle Std           55151 non-null  float64\n",
            " 74  Idle Max           55151 non-null  float64\n",
            " 75  Idle Min           55151 non-null  float64\n",
            "dtypes: float64(76)\n",
            "memory usage: 32.0 MB\n"
          ]
        }
      ]
    },
    {
      "cell_type": "code",
      "source": [
        "#pgd_label = pd.read_csv(pgd_label_path)\n",
        "#pgd_label.info()"
      ],
      "metadata": {
        "id": "PVO-9Dh_1C5T"
      },
      "execution_count": null,
      "outputs": []
    },
    {
      "cell_type": "markdown",
      "source": [
        "# Load DL-based IDS model"
      ],
      "metadata": {
        "id": "g33N-zPby6kB"
      }
    },
    {
      "cell_type": "code",
      "source": [
        "model_mlp = tf.keras.models.load_model('/content/drive/MyDrive/Dataset/insdn/insdn_mlp_bin.h5', compile=True)"
      ],
      "metadata": {
        "id": "ZWIDESvCy2b5"
      },
      "execution_count": 50,
      "outputs": []
    },
    {
      "cell_type": "markdown",
      "source": [
        "# SHAP"
      ],
      "metadata": {
        "id": "RFRvMWrd4QoD"
      }
    },
    {
      "cell_type": "code",
      "source": [
        "explainer = shap.KernelExplainer(model_mlp, shap.sample(df, 100, random_state = 42))"
      ],
      "metadata": {
        "id": "4505XjQu4K_g"
      },
      "execution_count": 51,
      "outputs": []
    },
    {
      "cell_type": "code",
      "source": [
        "pgd_1000 = pgd_df.head(1000)"
      ],
      "metadata": {
        "id": "biTLBwQsdMKd"
      },
      "execution_count": 52,
      "outputs": []
    },
    {
      "cell_type": "code",
      "source": [
        "shap_values = explainer.shap_values(pgd_1000)"
      ],
      "metadata": {
        "id": "2kwEY6jC4Z-l",
        "colab": {
          "base_uri": "https://localhost:8080/",
          "height": 49,
          "referenced_widgets": [
            "ad894fa6c74a4761b46c0e43b00036f4",
            "ccf34caab0e145b0a7b77d0c1f296bd9",
            "973ecb3e065140168f54cd5dcc7fa458",
            "50dc51e8876047838f53d988a04d23cf",
            "8e307c333c5941b1bf7b9044e6a86846",
            "b5620951e30b4883b1758ae9ea92fe4f",
            "8c0c1fe3858a469c84eb4cfb91b43425",
            "08c2b823cdf445d29910161680c13052",
            "d1b41ebbe74f497f8c8f3ac66e1f7415",
            "782af0970a6c466e9e6e79bb4fb5ae88",
            "712116bf9eb743ddabd2a87dd88589ba"
          ]
        },
        "outputId": "44b2cea4-b3ef-43f4-a94a-c4b0822658e6"
      },
      "execution_count": 53,
      "outputs": [
        {
          "output_type": "display_data",
          "data": {
            "text/plain": [
              "  0%|          | 0/1000 [00:00<?, ?it/s]"
            ],
            "application/vnd.jupyter.widget-view+json": {
              "version_major": 2,
              "version_minor": 0,
              "model_id": "ad894fa6c74a4761b46c0e43b00036f4"
            }
          },
          "metadata": {}
        }
      ]
    },
    {
      "cell_type": "code",
      "source": [
        "print(shap_values[0])"
      ],
      "metadata": {
        "colab": {
          "base_uri": "https://localhost:8080/"
        },
        "id": "gHb6Mmvi47qA",
        "outputId": "403affec-51fe-4c6a-d605-0d7e19474a3b"
      },
      "execution_count": 54,
      "outputs": [
        {
          "output_type": "stream",
          "name": "stdout",
          "text": [
            "[[ 0.01482897 -0.00586572  0.         ...  0.02295556  0.00714035\n",
            "   0.01116408]\n",
            " [ 0.          0.00557543  0.         ...  0.02118775  0.00593652\n",
            "   0.0047586 ]\n",
            " [ 0.01687225  0.          0.00445177 ...  0.02799979 -0.00465082\n",
            "  -0.02073587]\n",
            " ...\n",
            " [-0.00972969 -0.0016667   0.         ...  0.02772486 -0.05179911\n",
            "   0.00861159]\n",
            " [ 0.          0.          0.00315754 ...  0.02522257  0.\n",
            "   0.0044491 ]\n",
            " [ 0.         -0.01013362  0.01009805 ...  0.01486628 -0.00968522\n",
            "   0.00845402]]\n"
          ]
        }
      ]
    },
    {
      "cell_type": "code",
      "source": [
        "type(shap_values[0])"
      ],
      "metadata": {
        "colab": {
          "base_uri": "https://localhost:8080/"
        },
        "id": "eM8brh0aAvkW",
        "outputId": "3a586809-414e-414a-b9eb-86c687b212c8"
      },
      "execution_count": 55,
      "outputs": [
        {
          "output_type": "execute_result",
          "data": {
            "text/plain": [
              "numpy.ndarray"
            ]
          },
          "metadata": {},
          "execution_count": 55
        }
      ]
    },
    {
      "cell_type": "code",
      "source": [
        "data_df = pd.DataFrame(shap_values[0])"
      ],
      "metadata": {
        "id": "48h2syinBBb8"
      },
      "execution_count": 56,
      "outputs": []
    },
    {
      "cell_type": "code",
      "source": [
        "data_df.head()"
      ],
      "metadata": {
        "colab": {
          "base_uri": "https://localhost:8080/",
          "height": 299
        },
        "id": "GaPyNdSzBLa5",
        "outputId": "f685f3cf-4052-4d65-8b3b-ef92f56fb697"
      },
      "execution_count": 57,
      "outputs": [
        {
          "output_type": "execute_result",
          "data": {
            "text/plain": [
              "         0         1         2         3         4         5         6   \\\n",
              "0  0.014829 -0.005866  0.000000 -0.002392 -0.001471  0.000000  0.000000   \n",
              "1  0.000000  0.005575  0.000000  0.000000  0.000000  0.000000  0.000000   \n",
              "2  0.016872  0.000000  0.004452  0.000000  0.000000 -0.004960  0.017292   \n",
              "3  0.000000  0.000000  0.000000  0.000000  0.000000  0.000000  0.000000   \n",
              "4 -0.068915 -0.004119  0.000000  0.000000 -0.005837  0.005555  0.000000   \n",
              "\n",
              "         7         8         9   ...        66   67        68        69  \\\n",
              "0 -0.002094  0.014182 -0.001089  ...  0.001928  0.0  0.044965 -0.015693   \n",
              "1  0.000000  0.000000  0.005402  ...  0.000000  0.0  0.012395 -0.066325   \n",
              "2  0.006042  0.000000  0.007244  ...  0.003034  0.0 -0.004542 -0.076643   \n",
              "3  0.000000  0.000000  0.000000  ...  0.005602  0.0  0.022988 -0.035345   \n",
              "4 -0.010807  0.000000  0.019594  ...  0.011318  0.0  0.031593 -0.276743   \n",
              "\n",
              "         70        71        72        73        74        75  \n",
              "0  0.012960  0.056173  0.002285  0.022956  0.007140  0.011164  \n",
              "1  0.041687  0.028643 -0.019982  0.021188  0.005937  0.004759  \n",
              "2  0.007084  0.042095 -0.004078  0.028000 -0.004651 -0.020736  \n",
              "3  0.033660  0.055772  0.005243  0.015661 -0.020803 -0.016848  \n",
              "4  0.063275  0.076507 -0.160167 -0.002763 -0.140512 -0.197688  \n",
              "\n",
              "[5 rows x 76 columns]"
            ],
            "text/html": [
              "\n",
              "  <div id=\"df-bca6ba25-b1b4-4a08-8e2a-3b1d77a2b53e\">\n",
              "    <div class=\"colab-df-container\">\n",
              "      <div>\n",
              "<style scoped>\n",
              "    .dataframe tbody tr th:only-of-type {\n",
              "        vertical-align: middle;\n",
              "    }\n",
              "\n",
              "    .dataframe tbody tr th {\n",
              "        vertical-align: top;\n",
              "    }\n",
              "\n",
              "    .dataframe thead th {\n",
              "        text-align: right;\n",
              "    }\n",
              "</style>\n",
              "<table border=\"1\" class=\"dataframe\">\n",
              "  <thead>\n",
              "    <tr style=\"text-align: right;\">\n",
              "      <th></th>\n",
              "      <th>0</th>\n",
              "      <th>1</th>\n",
              "      <th>2</th>\n",
              "      <th>3</th>\n",
              "      <th>4</th>\n",
              "      <th>5</th>\n",
              "      <th>6</th>\n",
              "      <th>7</th>\n",
              "      <th>8</th>\n",
              "      <th>9</th>\n",
              "      <th>...</th>\n",
              "      <th>66</th>\n",
              "      <th>67</th>\n",
              "      <th>68</th>\n",
              "      <th>69</th>\n",
              "      <th>70</th>\n",
              "      <th>71</th>\n",
              "      <th>72</th>\n",
              "      <th>73</th>\n",
              "      <th>74</th>\n",
              "      <th>75</th>\n",
              "    </tr>\n",
              "  </thead>\n",
              "  <tbody>\n",
              "    <tr>\n",
              "      <th>0</th>\n",
              "      <td>0.014829</td>\n",
              "      <td>-0.005866</td>\n",
              "      <td>0.000000</td>\n",
              "      <td>-0.002392</td>\n",
              "      <td>-0.001471</td>\n",
              "      <td>0.000000</td>\n",
              "      <td>0.000000</td>\n",
              "      <td>-0.002094</td>\n",
              "      <td>0.014182</td>\n",
              "      <td>-0.001089</td>\n",
              "      <td>...</td>\n",
              "      <td>0.001928</td>\n",
              "      <td>0.0</td>\n",
              "      <td>0.044965</td>\n",
              "      <td>-0.015693</td>\n",
              "      <td>0.012960</td>\n",
              "      <td>0.056173</td>\n",
              "      <td>0.002285</td>\n",
              "      <td>0.022956</td>\n",
              "      <td>0.007140</td>\n",
              "      <td>0.011164</td>\n",
              "    </tr>\n",
              "    <tr>\n",
              "      <th>1</th>\n",
              "      <td>0.000000</td>\n",
              "      <td>0.005575</td>\n",
              "      <td>0.000000</td>\n",
              "      <td>0.000000</td>\n",
              "      <td>0.000000</td>\n",
              "      <td>0.000000</td>\n",
              "      <td>0.000000</td>\n",
              "      <td>0.000000</td>\n",
              "      <td>0.000000</td>\n",
              "      <td>0.005402</td>\n",
              "      <td>...</td>\n",
              "      <td>0.000000</td>\n",
              "      <td>0.0</td>\n",
              "      <td>0.012395</td>\n",
              "      <td>-0.066325</td>\n",
              "      <td>0.041687</td>\n",
              "      <td>0.028643</td>\n",
              "      <td>-0.019982</td>\n",
              "      <td>0.021188</td>\n",
              "      <td>0.005937</td>\n",
              "      <td>0.004759</td>\n",
              "    </tr>\n",
              "    <tr>\n",
              "      <th>2</th>\n",
              "      <td>0.016872</td>\n",
              "      <td>0.000000</td>\n",
              "      <td>0.004452</td>\n",
              "      <td>0.000000</td>\n",
              "      <td>0.000000</td>\n",
              "      <td>-0.004960</td>\n",
              "      <td>0.017292</td>\n",
              "      <td>0.006042</td>\n",
              "      <td>0.000000</td>\n",
              "      <td>0.007244</td>\n",
              "      <td>...</td>\n",
              "      <td>0.003034</td>\n",
              "      <td>0.0</td>\n",
              "      <td>-0.004542</td>\n",
              "      <td>-0.076643</td>\n",
              "      <td>0.007084</td>\n",
              "      <td>0.042095</td>\n",
              "      <td>-0.004078</td>\n",
              "      <td>0.028000</td>\n",
              "      <td>-0.004651</td>\n",
              "      <td>-0.020736</td>\n",
              "    </tr>\n",
              "    <tr>\n",
              "      <th>3</th>\n",
              "      <td>0.000000</td>\n",
              "      <td>0.000000</td>\n",
              "      <td>0.000000</td>\n",
              "      <td>0.000000</td>\n",
              "      <td>0.000000</td>\n",
              "      <td>0.000000</td>\n",
              "      <td>0.000000</td>\n",
              "      <td>0.000000</td>\n",
              "      <td>0.000000</td>\n",
              "      <td>0.000000</td>\n",
              "      <td>...</td>\n",
              "      <td>0.005602</td>\n",
              "      <td>0.0</td>\n",
              "      <td>0.022988</td>\n",
              "      <td>-0.035345</td>\n",
              "      <td>0.033660</td>\n",
              "      <td>0.055772</td>\n",
              "      <td>0.005243</td>\n",
              "      <td>0.015661</td>\n",
              "      <td>-0.020803</td>\n",
              "      <td>-0.016848</td>\n",
              "    </tr>\n",
              "    <tr>\n",
              "      <th>4</th>\n",
              "      <td>-0.068915</td>\n",
              "      <td>-0.004119</td>\n",
              "      <td>0.000000</td>\n",
              "      <td>0.000000</td>\n",
              "      <td>-0.005837</td>\n",
              "      <td>0.005555</td>\n",
              "      <td>0.000000</td>\n",
              "      <td>-0.010807</td>\n",
              "      <td>0.000000</td>\n",
              "      <td>0.019594</td>\n",
              "      <td>...</td>\n",
              "      <td>0.011318</td>\n",
              "      <td>0.0</td>\n",
              "      <td>0.031593</td>\n",
              "      <td>-0.276743</td>\n",
              "      <td>0.063275</td>\n",
              "      <td>0.076507</td>\n",
              "      <td>-0.160167</td>\n",
              "      <td>-0.002763</td>\n",
              "      <td>-0.140512</td>\n",
              "      <td>-0.197688</td>\n",
              "    </tr>\n",
              "  </tbody>\n",
              "</table>\n",
              "<p>5 rows × 76 columns</p>\n",
              "</div>\n",
              "      <button class=\"colab-df-convert\" onclick=\"convertToInteractive('df-bca6ba25-b1b4-4a08-8e2a-3b1d77a2b53e')\"\n",
              "              title=\"Convert this dataframe to an interactive table.\"\n",
              "              style=\"display:none;\">\n",
              "        \n",
              "  <svg xmlns=\"http://www.w3.org/2000/svg\" height=\"24px\"viewBox=\"0 0 24 24\"\n",
              "       width=\"24px\">\n",
              "    <path d=\"M0 0h24v24H0V0z\" fill=\"none\"/>\n",
              "    <path d=\"M18.56 5.44l.94 2.06.94-2.06 2.06-.94-2.06-.94-.94-2.06-.94 2.06-2.06.94zm-11 1L8.5 8.5l.94-2.06 2.06-.94-2.06-.94L8.5 2.5l-.94 2.06-2.06.94zm10 10l.94 2.06.94-2.06 2.06-.94-2.06-.94-.94-2.06-.94 2.06-2.06.94z\"/><path d=\"M17.41 7.96l-1.37-1.37c-.4-.4-.92-.59-1.43-.59-.52 0-1.04.2-1.43.59L10.3 9.45l-7.72 7.72c-.78.78-.78 2.05 0 2.83L4 21.41c.39.39.9.59 1.41.59.51 0 1.02-.2 1.41-.59l7.78-7.78 2.81-2.81c.8-.78.8-2.07 0-2.86zM5.41 20L4 18.59l7.72-7.72 1.47 1.35L5.41 20z\"/>\n",
              "  </svg>\n",
              "      </button>\n",
              "      \n",
              "  <style>\n",
              "    .colab-df-container {\n",
              "      display:flex;\n",
              "      flex-wrap:wrap;\n",
              "      gap: 12px;\n",
              "    }\n",
              "\n",
              "    .colab-df-convert {\n",
              "      background-color: #E8F0FE;\n",
              "      border: none;\n",
              "      border-radius: 50%;\n",
              "      cursor: pointer;\n",
              "      display: none;\n",
              "      fill: #1967D2;\n",
              "      height: 32px;\n",
              "      padding: 0 0 0 0;\n",
              "      width: 32px;\n",
              "    }\n",
              "\n",
              "    .colab-df-convert:hover {\n",
              "      background-color: #E2EBFA;\n",
              "      box-shadow: 0px 1px 2px rgba(60, 64, 67, 0.3), 0px 1px 3px 1px rgba(60, 64, 67, 0.15);\n",
              "      fill: #174EA6;\n",
              "    }\n",
              "\n",
              "    [theme=dark] .colab-df-convert {\n",
              "      background-color: #3B4455;\n",
              "      fill: #D2E3FC;\n",
              "    }\n",
              "\n",
              "    [theme=dark] .colab-df-convert:hover {\n",
              "      background-color: #434B5C;\n",
              "      box-shadow: 0px 1px 3px 1px rgba(0, 0, 0, 0.15);\n",
              "      filter: drop-shadow(0px 1px 2px rgba(0, 0, 0, 0.3));\n",
              "      fill: #FFFFFF;\n",
              "    }\n",
              "  </style>\n",
              "\n",
              "      <script>\n",
              "        const buttonEl =\n",
              "          document.querySelector('#df-bca6ba25-b1b4-4a08-8e2a-3b1d77a2b53e button.colab-df-convert');\n",
              "        buttonEl.style.display =\n",
              "          google.colab.kernel.accessAllowed ? 'block' : 'none';\n",
              "\n",
              "        async function convertToInteractive(key) {\n",
              "          const element = document.querySelector('#df-bca6ba25-b1b4-4a08-8e2a-3b1d77a2b53e');\n",
              "          const dataTable =\n",
              "            await google.colab.kernel.invokeFunction('convertToInteractive',\n",
              "                                                     [key], {});\n",
              "          if (!dataTable) return;\n",
              "\n",
              "          const docLinkHtml = 'Like what you see? Visit the ' +\n",
              "            '<a target=\"_blank\" href=https://colab.research.google.com/notebooks/data_table.ipynb>data table notebook</a>'\n",
              "            + ' to learn more about interactive tables.';\n",
              "          element.innerHTML = '';\n",
              "          dataTable['output_type'] = 'display_data';\n",
              "          await google.colab.output.renderOutput(dataTable, element);\n",
              "          const docLink = document.createElement('div');\n",
              "          docLink.innerHTML = docLinkHtml;\n",
              "          element.appendChild(docLink);\n",
              "        }\n",
              "      </script>\n",
              "    </div>\n",
              "  </div>\n",
              "  "
            ]
          },
          "metadata": {},
          "execution_count": 57
        }
      ]
    },
    {
      "cell_type": "code",
      "source": [
        "data_df.to_csv('/content/drive/MyDrive/DACN_XAI_Adv_defense/InSDN/MLP_pgd/1000_samples_[0].csv', index=False)"
      ],
      "metadata": {
        "id": "mbDTuofCBeGJ"
      },
      "execution_count": null,
      "outputs": []
    },
    {
      "cell_type": "code",
      "source": [
        "data_df.columns = feature_list\n",
        "data_df.head()"
      ],
      "metadata": {
        "colab": {
          "base_uri": "https://localhost:8080/",
          "height": 351
        },
        "id": "Kh8NM9hmM99Y",
        "outputId": "225ef3b1-f9e6-42dd-8a3f-2989574adbee"
      },
      "execution_count": 58,
      "outputs": [
        {
          "output_type": "execute_result",
          "data": {
            "text/plain": [
              "   Flow Duration  Tot Fwd Pkts  Tot Bwd Pkts  TotLen Fwd Pkts  \\\n",
              "0       0.014829     -0.005866      0.000000        -0.002392   \n",
              "1       0.000000      0.005575      0.000000         0.000000   \n",
              "2       0.016872      0.000000      0.004452         0.000000   \n",
              "3       0.000000      0.000000      0.000000         0.000000   \n",
              "4      -0.068915     -0.004119      0.000000         0.000000   \n",
              "\n",
              "   TotLen Bwd Pkts  Fwd Pkt Len Max  Fwd Pkt Len Min  Fwd Pkt Len Mean  \\\n",
              "0        -0.001471         0.000000         0.000000         -0.002094   \n",
              "1         0.000000         0.000000         0.000000          0.000000   \n",
              "2         0.000000        -0.004960         0.017292          0.006042   \n",
              "3         0.000000         0.000000         0.000000          0.000000   \n",
              "4        -0.005837         0.005555         0.000000         -0.010807   \n",
              "\n",
              "   Fwd Pkt Len Std  Bwd Pkt Len Max  ...  Fwd Act Data Pkts  Fwd Seg Size Min  \\\n",
              "0         0.014182        -0.001089  ...           0.001928               0.0   \n",
              "1         0.000000         0.005402  ...           0.000000               0.0   \n",
              "2         0.000000         0.007244  ...           0.003034               0.0   \n",
              "3         0.000000         0.000000  ...           0.005602               0.0   \n",
              "4         0.000000         0.019594  ...           0.011318               0.0   \n",
              "\n",
              "   Active Mean  Active Std  Active Max  Active Min  Idle Mean  Idle Std  \\\n",
              "0     0.044965   -0.015693    0.012960    0.056173   0.002285  0.022956   \n",
              "1     0.012395   -0.066325    0.041687    0.028643  -0.019982  0.021188   \n",
              "2    -0.004542   -0.076643    0.007084    0.042095  -0.004078  0.028000   \n",
              "3     0.022988   -0.035345    0.033660    0.055772   0.005243  0.015661   \n",
              "4     0.031593   -0.276743    0.063275    0.076507  -0.160167 -0.002763   \n",
              "\n",
              "   Idle Max  Idle Min  \n",
              "0  0.007140  0.011164  \n",
              "1  0.005937  0.004759  \n",
              "2 -0.004651 -0.020736  \n",
              "3 -0.020803 -0.016848  \n",
              "4 -0.140512 -0.197688  \n",
              "\n",
              "[5 rows x 76 columns]"
            ],
            "text/html": [
              "\n",
              "  <div id=\"df-3101d680-cd9c-4726-8a6c-f8539e41488f\">\n",
              "    <div class=\"colab-df-container\">\n",
              "      <div>\n",
              "<style scoped>\n",
              "    .dataframe tbody tr th:only-of-type {\n",
              "        vertical-align: middle;\n",
              "    }\n",
              "\n",
              "    .dataframe tbody tr th {\n",
              "        vertical-align: top;\n",
              "    }\n",
              "\n",
              "    .dataframe thead th {\n",
              "        text-align: right;\n",
              "    }\n",
              "</style>\n",
              "<table border=\"1\" class=\"dataframe\">\n",
              "  <thead>\n",
              "    <tr style=\"text-align: right;\">\n",
              "      <th></th>\n",
              "      <th>Flow Duration</th>\n",
              "      <th>Tot Fwd Pkts</th>\n",
              "      <th>Tot Bwd Pkts</th>\n",
              "      <th>TotLen Fwd Pkts</th>\n",
              "      <th>TotLen Bwd Pkts</th>\n",
              "      <th>Fwd Pkt Len Max</th>\n",
              "      <th>Fwd Pkt Len Min</th>\n",
              "      <th>Fwd Pkt Len Mean</th>\n",
              "      <th>Fwd Pkt Len Std</th>\n",
              "      <th>Bwd Pkt Len Max</th>\n",
              "      <th>...</th>\n",
              "      <th>Fwd Act Data Pkts</th>\n",
              "      <th>Fwd Seg Size Min</th>\n",
              "      <th>Active Mean</th>\n",
              "      <th>Active Std</th>\n",
              "      <th>Active Max</th>\n",
              "      <th>Active Min</th>\n",
              "      <th>Idle Mean</th>\n",
              "      <th>Idle Std</th>\n",
              "      <th>Idle Max</th>\n",
              "      <th>Idle Min</th>\n",
              "    </tr>\n",
              "  </thead>\n",
              "  <tbody>\n",
              "    <tr>\n",
              "      <th>0</th>\n",
              "      <td>0.014829</td>\n",
              "      <td>-0.005866</td>\n",
              "      <td>0.000000</td>\n",
              "      <td>-0.002392</td>\n",
              "      <td>-0.001471</td>\n",
              "      <td>0.000000</td>\n",
              "      <td>0.000000</td>\n",
              "      <td>-0.002094</td>\n",
              "      <td>0.014182</td>\n",
              "      <td>-0.001089</td>\n",
              "      <td>...</td>\n",
              "      <td>0.001928</td>\n",
              "      <td>0.0</td>\n",
              "      <td>0.044965</td>\n",
              "      <td>-0.015693</td>\n",
              "      <td>0.012960</td>\n",
              "      <td>0.056173</td>\n",
              "      <td>0.002285</td>\n",
              "      <td>0.022956</td>\n",
              "      <td>0.007140</td>\n",
              "      <td>0.011164</td>\n",
              "    </tr>\n",
              "    <tr>\n",
              "      <th>1</th>\n",
              "      <td>0.000000</td>\n",
              "      <td>0.005575</td>\n",
              "      <td>0.000000</td>\n",
              "      <td>0.000000</td>\n",
              "      <td>0.000000</td>\n",
              "      <td>0.000000</td>\n",
              "      <td>0.000000</td>\n",
              "      <td>0.000000</td>\n",
              "      <td>0.000000</td>\n",
              "      <td>0.005402</td>\n",
              "      <td>...</td>\n",
              "      <td>0.000000</td>\n",
              "      <td>0.0</td>\n",
              "      <td>0.012395</td>\n",
              "      <td>-0.066325</td>\n",
              "      <td>0.041687</td>\n",
              "      <td>0.028643</td>\n",
              "      <td>-0.019982</td>\n",
              "      <td>0.021188</td>\n",
              "      <td>0.005937</td>\n",
              "      <td>0.004759</td>\n",
              "    </tr>\n",
              "    <tr>\n",
              "      <th>2</th>\n",
              "      <td>0.016872</td>\n",
              "      <td>0.000000</td>\n",
              "      <td>0.004452</td>\n",
              "      <td>0.000000</td>\n",
              "      <td>0.000000</td>\n",
              "      <td>-0.004960</td>\n",
              "      <td>0.017292</td>\n",
              "      <td>0.006042</td>\n",
              "      <td>0.000000</td>\n",
              "      <td>0.007244</td>\n",
              "      <td>...</td>\n",
              "      <td>0.003034</td>\n",
              "      <td>0.0</td>\n",
              "      <td>-0.004542</td>\n",
              "      <td>-0.076643</td>\n",
              "      <td>0.007084</td>\n",
              "      <td>0.042095</td>\n",
              "      <td>-0.004078</td>\n",
              "      <td>0.028000</td>\n",
              "      <td>-0.004651</td>\n",
              "      <td>-0.020736</td>\n",
              "    </tr>\n",
              "    <tr>\n",
              "      <th>3</th>\n",
              "      <td>0.000000</td>\n",
              "      <td>0.000000</td>\n",
              "      <td>0.000000</td>\n",
              "      <td>0.000000</td>\n",
              "      <td>0.000000</td>\n",
              "      <td>0.000000</td>\n",
              "      <td>0.000000</td>\n",
              "      <td>0.000000</td>\n",
              "      <td>0.000000</td>\n",
              "      <td>0.000000</td>\n",
              "      <td>...</td>\n",
              "      <td>0.005602</td>\n",
              "      <td>0.0</td>\n",
              "      <td>0.022988</td>\n",
              "      <td>-0.035345</td>\n",
              "      <td>0.033660</td>\n",
              "      <td>0.055772</td>\n",
              "      <td>0.005243</td>\n",
              "      <td>0.015661</td>\n",
              "      <td>-0.020803</td>\n",
              "      <td>-0.016848</td>\n",
              "    </tr>\n",
              "    <tr>\n",
              "      <th>4</th>\n",
              "      <td>-0.068915</td>\n",
              "      <td>-0.004119</td>\n",
              "      <td>0.000000</td>\n",
              "      <td>0.000000</td>\n",
              "      <td>-0.005837</td>\n",
              "      <td>0.005555</td>\n",
              "      <td>0.000000</td>\n",
              "      <td>-0.010807</td>\n",
              "      <td>0.000000</td>\n",
              "      <td>0.019594</td>\n",
              "      <td>...</td>\n",
              "      <td>0.011318</td>\n",
              "      <td>0.0</td>\n",
              "      <td>0.031593</td>\n",
              "      <td>-0.276743</td>\n",
              "      <td>0.063275</td>\n",
              "      <td>0.076507</td>\n",
              "      <td>-0.160167</td>\n",
              "      <td>-0.002763</td>\n",
              "      <td>-0.140512</td>\n",
              "      <td>-0.197688</td>\n",
              "    </tr>\n",
              "  </tbody>\n",
              "</table>\n",
              "<p>5 rows × 76 columns</p>\n",
              "</div>\n",
              "      <button class=\"colab-df-convert\" onclick=\"convertToInteractive('df-3101d680-cd9c-4726-8a6c-f8539e41488f')\"\n",
              "              title=\"Convert this dataframe to an interactive table.\"\n",
              "              style=\"display:none;\">\n",
              "        \n",
              "  <svg xmlns=\"http://www.w3.org/2000/svg\" height=\"24px\"viewBox=\"0 0 24 24\"\n",
              "       width=\"24px\">\n",
              "    <path d=\"M0 0h24v24H0V0z\" fill=\"none\"/>\n",
              "    <path d=\"M18.56 5.44l.94 2.06.94-2.06 2.06-.94-2.06-.94-.94-2.06-.94 2.06-2.06.94zm-11 1L8.5 8.5l.94-2.06 2.06-.94-2.06-.94L8.5 2.5l-.94 2.06-2.06.94zm10 10l.94 2.06.94-2.06 2.06-.94-2.06-.94-.94-2.06-.94 2.06-2.06.94z\"/><path d=\"M17.41 7.96l-1.37-1.37c-.4-.4-.92-.59-1.43-.59-.52 0-1.04.2-1.43.59L10.3 9.45l-7.72 7.72c-.78.78-.78 2.05 0 2.83L4 21.41c.39.39.9.59 1.41.59.51 0 1.02-.2 1.41-.59l7.78-7.78 2.81-2.81c.8-.78.8-2.07 0-2.86zM5.41 20L4 18.59l7.72-7.72 1.47 1.35L5.41 20z\"/>\n",
              "  </svg>\n",
              "      </button>\n",
              "      \n",
              "  <style>\n",
              "    .colab-df-container {\n",
              "      display:flex;\n",
              "      flex-wrap:wrap;\n",
              "      gap: 12px;\n",
              "    }\n",
              "\n",
              "    .colab-df-convert {\n",
              "      background-color: #E8F0FE;\n",
              "      border: none;\n",
              "      border-radius: 50%;\n",
              "      cursor: pointer;\n",
              "      display: none;\n",
              "      fill: #1967D2;\n",
              "      height: 32px;\n",
              "      padding: 0 0 0 0;\n",
              "      width: 32px;\n",
              "    }\n",
              "\n",
              "    .colab-df-convert:hover {\n",
              "      background-color: #E2EBFA;\n",
              "      box-shadow: 0px 1px 2px rgba(60, 64, 67, 0.3), 0px 1px 3px 1px rgba(60, 64, 67, 0.15);\n",
              "      fill: #174EA6;\n",
              "    }\n",
              "\n",
              "    [theme=dark] .colab-df-convert {\n",
              "      background-color: #3B4455;\n",
              "      fill: #D2E3FC;\n",
              "    }\n",
              "\n",
              "    [theme=dark] .colab-df-convert:hover {\n",
              "      background-color: #434B5C;\n",
              "      box-shadow: 0px 1px 3px 1px rgba(0, 0, 0, 0.15);\n",
              "      filter: drop-shadow(0px 1px 2px rgba(0, 0, 0, 0.3));\n",
              "      fill: #FFFFFF;\n",
              "    }\n",
              "  </style>\n",
              "\n",
              "      <script>\n",
              "        const buttonEl =\n",
              "          document.querySelector('#df-3101d680-cd9c-4726-8a6c-f8539e41488f button.colab-df-convert');\n",
              "        buttonEl.style.display =\n",
              "          google.colab.kernel.accessAllowed ? 'block' : 'none';\n",
              "\n",
              "        async function convertToInteractive(key) {\n",
              "          const element = document.querySelector('#df-3101d680-cd9c-4726-8a6c-f8539e41488f');\n",
              "          const dataTable =\n",
              "            await google.colab.kernel.invokeFunction('convertToInteractive',\n",
              "                                                     [key], {});\n",
              "          if (!dataTable) return;\n",
              "\n",
              "          const docLinkHtml = 'Like what you see? Visit the ' +\n",
              "            '<a target=\"_blank\" href=https://colab.research.google.com/notebooks/data_table.ipynb>data table notebook</a>'\n",
              "            + ' to learn more about interactive tables.';\n",
              "          element.innerHTML = '';\n",
              "          dataTable['output_type'] = 'display_data';\n",
              "          await google.colab.output.renderOutput(dataTable, element);\n",
              "          const docLink = document.createElement('div');\n",
              "          docLink.innerHTML = docLinkHtml;\n",
              "          element.appendChild(docLink);\n",
              "        }\n",
              "      </script>\n",
              "    </div>\n",
              "  </div>\n",
              "  "
            ]
          },
          "metadata": {},
          "execution_count": 58
        }
      ]
    },
    {
      "cell_type": "code",
      "source": [
        "data_dict = {}\n",
        "for idx in range(0, 1000):\n",
        "  # Select the desired row and get the top 10 values's column names\n",
        "  row_values = data_df.iloc[idx].nlargest(10).index.tolist()\n",
        "\n",
        "  # Create a dictionary and add the list with filename as the key\n",
        "  data_dict['Adv sample ' + str(idx)] = row_values"
      ],
      "metadata": {
        "id": "y9KCFvHdP5UO"
      },
      "execution_count": 59,
      "outputs": []
    },
    {
      "cell_type": "code",
      "source": [
        "print(data_dict)"
      ],
      "metadata": {
        "colab": {
          "base_uri": "https://localhost:8080/"
        },
        "id": "SAhM-kXtRLoW",
        "outputId": "27057e86-281f-45c0-f20b-19de949b5939"
      },
      "execution_count": 60,
      "outputs": [
        {
          "output_type": "stream",
          "name": "stdout",
          "text": [
            "{'Adv sample 0': ['Active Min', 'Init Bwd Win Byts', 'Active Mean', 'Bwd IAT Min', 'Idle Std', 'Bwd IAT Std', 'Bwd IAT Mean', 'Down/Up Ratio', 'Flow Duration', 'Fwd Pkt Len Std'], 'Adv sample 1': ['SYN Flag Cnt', 'Init Bwd Win Byts', 'Bwd IAT Min', 'Active Max', 'Fwd IAT Min', 'Active Min', 'Bwd IAT Std', 'Idle Std', 'Bwd IAT Max', 'Active Mean'], 'Adv sample 2': ['SYN Flag Cnt', 'Init Bwd Win Byts', 'Active Min', 'Bwd IAT Mean', 'Fwd IAT Min', 'Idle Std', 'Fwd Byts/b Avg', 'Bwd IAT Std', 'Bwd IAT Min', 'Bwd IAT Max'], 'Adv sample 3': ['SYN Flag Cnt', 'Active Min', 'Init Bwd Win Byts', 'Fwd IAT Min', 'Bwd IAT Mean', 'Active Max', 'Bwd IAT Max', 'Active Mean', 'Idle Std', 'Bwd IAT Std'], 'Adv sample 4': ['ACK Flag Cnt', 'Bwd IAT Std', 'Active Min', 'Active Max', 'Init Bwd Win Byts', 'Fwd IAT Min', 'Active Mean', 'Flow IAT Mean', 'Fwd Byts/b Avg', 'Bwd Pkt Len Max'], 'Adv sample 5': ['Active Mean', 'Bwd IAT Max', 'Bwd IAT Mean', 'Init Bwd Win Byts', 'Fwd IAT Min', 'Idle Max', 'Fwd Pkt Len Std', 'Pkt Len Var', 'Fwd Blk Rate Avg', 'Pkt Size Avg'], 'Adv sample 6': ['ACK Flag Cnt', 'Active Max', 'Active Mean', 'Bwd IAT Std', 'Active Min', 'Bwd IAT Tot', 'Init Bwd Win Byts', 'Idle Std', 'Down/Up Ratio', 'Idle Max'], 'Adv sample 7': ['Bwd IAT Min', 'Active Min', 'Active Mean', 'Init Bwd Win Byts', 'Bwd IAT Mean', 'Bwd IAT Max', 'Active Max', 'Pkt Len Min', 'Down/Up Ratio', 'Flow IAT Max'], 'Adv sample 8': ['ACK Flag Cnt', 'Active Max', 'Init Bwd Win Byts', 'Active Min', 'Bwd IAT Std', 'Fwd Byts/b Avg', 'Bwd Pkts/b Avg', 'Bwd Pkt Len Std', 'Tot Bwd Pkts', 'Flow Byts/s'], 'Adv sample 9': ['Active Min', 'SYN Flag Cnt', 'Down/Up Ratio', 'Init Bwd Win Byts', 'Bwd Pkt Len Max', 'Bwd IAT Tot', 'Pkt Len Std', 'Tot Fwd Pkts', 'Fwd Pkt Len Max', 'Pkt Len Max'], 'Adv sample 10': ['ACK Flag Cnt', 'Bwd IAT Tot', 'Init Bwd Win Byts', 'Bwd IAT Min', 'Flow IAT Mean', 'Bwd IAT Std', 'Flow Pkts/s', 'Flow IAT Std', 'Bwd IAT Max', 'Active Mean'], 'Adv sample 11': ['Bwd IAT Mean', 'Init Bwd Win Byts', 'Bwd IAT Std', 'Bwd IAT Max', 'Fwd Byts/b Avg', 'Tot Fwd Pkts', 'Active Max', 'Down/Up Ratio', 'Bwd IAT Tot', 'Pkt Len Var'], 'Adv sample 12': ['ACK Flag Cnt', 'Active Max', 'Active Mean', 'Init Bwd Win Byts', 'Flow IAT Std', 'Flow IAT Mean', 'Bwd IAT Tot', 'Bwd IAT Mean', 'Flow IAT Min', 'Subflow Fwd Pkts'], 'Adv sample 13': ['Bwd IAT Min', 'Init Bwd Win Byts', 'Active Min', 'Active Mean', 'Active Max', 'Bwd IAT Max', 'Bwd IAT Std', 'Fwd Byts/b Avg', 'Subflow Fwd Byts', 'Idle Std'], 'Adv sample 14': ['SYN Flag Cnt', 'Fwd Byts/b Avg', 'Init Bwd Win Byts', 'Pkt Len Max', 'Pkt Len Std', 'Bwd Pkt Len Mean', 'Subflow Bwd Byts', 'Pkt Len Mean', 'PSH Flag Cnt', 'Fwd Pkt Len Max'], 'Adv sample 15': ['Active Min', 'Bwd IAT Mean', 'Bwd IAT Min', 'Init Bwd Win Byts', 'Idle Std', 'Bwd IAT Std', 'Active Mean', 'Fwd IAT Min', 'Active Max', 'Fwd Byts/b Avg'], 'Adv sample 16': ['Active Min', 'Bwd IAT Min', 'Init Bwd Win Byts', 'Active Mean', 'Active Max', 'Bwd IAT Std', 'Bwd IAT Mean', 'Bwd IAT Max', 'Idle Min', 'Pkt Len Max'], 'Adv sample 17': ['SYN Flag Cnt', 'Idle Std', 'Init Bwd Win Byts', 'Active Mean', 'Active Max', 'Active Min', 'Bwd IAT Std', 'Bwd IAT Min', 'Bwd IAT Max', 'Idle Max'], 'Adv sample 18': ['ACK Flag Cnt', 'Bwd IAT Tot', 'Init Bwd Win Byts', 'Fwd IAT Min', 'Tot Bwd Pkts', 'Flow Pkts/s', 'Fwd Byts/b Avg', 'Active Max', 'Bwd Seg Size Avg', 'Bwd IAT Std'], 'Adv sample 19': ['ACK Flag Cnt', 'Init Bwd Win Byts', 'Bwd IAT Std', 'Pkt Size Avg', 'Down/Up Ratio', 'Active Min', 'Bwd Pkt Len Max', 'Fwd Pkt Len Max', 'Flow Duration', 'Bwd Pkt Len Std'], 'Adv sample 20': ['Active Mean', 'Bwd IAT Max', 'Bwd IAT Tot', 'Bwd IAT Mean', 'Down/Up Ratio', 'Fwd IAT Min', 'Bwd Pkts/s', 'Init Bwd Win Byts', 'Fwd Blk Rate Avg', 'Pkt Len Mean'], 'Adv sample 21': ['SYN Flag Cnt', 'Idle Std', 'Active Max', 'Init Bwd Win Byts', 'Bwd IAT Mean', 'Active Min', 'Bwd IAT Max', 'Active Mean', 'Pkt Len Max', 'Fwd IAT Min'], 'Adv sample 22': ['Active Mean', 'Init Bwd Win Byts', 'Bwd IAT Max', 'Bwd IAT Mean', 'Active Min', 'Active Max', 'Down/Up Ratio', 'Bwd IAT Tot', 'Pkt Len Mean', 'Bwd Pkt Len Max'], 'Adv sample 23': ['Bwd IAT Std', 'Bwd IAT Mean', 'Fwd Byts/b Avg', 'Idle Std', 'Init Bwd Win Byts', 'Bwd Pkts/b Avg', 'Pkt Len Mean', 'Pkt Len Max', 'Pkt Len Min', 'Pkt Size Avg'], 'Adv sample 24': ['ACK Flag Cnt', 'Active Max', 'Bwd IAT Tot', 'Init Bwd Win Byts', 'Bwd Pkt Len Min', 'Pkt Len Min', 'Bwd IAT Min', 'Pkt Len Max', 'Fwd Byts/b Avg', 'Fwd Header Len'], 'Adv sample 25': ['SYN Flag Cnt', 'Active Min', 'Bwd IAT Std', 'Init Bwd Win Byts', 'Bwd IAT Mean', 'Idle Std', 'Bwd Pkt Len Min', 'Bwd Header Len', 'Bwd IAT Tot', 'Down/Up Ratio'], 'Adv sample 26': ['Bwd IAT Min', 'Active Min', 'Fwd Byts/b Avg', 'Active Mean', 'Init Bwd Win Byts', 'Active Max', 'Bwd IAT Max', 'Bwd IAT Mean', 'Idle Min', 'Down/Up Ratio'], 'Adv sample 27': ['Active Mean', 'Active Min', 'Bwd IAT Mean', 'Bwd IAT Max', 'Bwd IAT Min', 'Fwd IAT Min', 'Init Bwd Win Byts', 'Fwd Blk Rate Avg', 'Subflow Bwd Pkts', 'Bwd Pkts/b Avg'], 'Adv sample 28': ['URG Flag Cnt', 'Fwd IAT Min', 'Active Max', 'Bwd URG Flags', 'FIN Flag Cnt', 'Idle Min', 'Down/Up Ratio', 'Bwd IAT Tot', 'Bwd Pkt Len Mean', 'Init Bwd Win Byts'], 'Adv sample 29': ['Bwd Pkts/s', 'Flow Pkts/s', 'Bwd IAT Mean', 'Init Bwd Win Byts', 'Flow Duration', 'Fwd Byts/b Avg', 'Fwd IAT Min', 'Down/Up Ratio', 'Pkt Len Min', 'Flow IAT Max'], 'Adv sample 30': ['ACK Flag Cnt', 'Bwd IAT Min', 'Fwd IAT Min', 'Active Max', 'Init Bwd Win Byts', 'Bwd IAT Max', 'Active Min', 'Active Mean', 'Bwd IAT Std', 'Idle Std'], 'Adv sample 31': ['Bwd IAT Min', 'Active Max', 'Active Min', 'Init Bwd Win Byts', 'Fwd IAT Min', 'Bwd IAT Tot', 'Bwd IAT Max', 'Bwd IAT Std', 'Down/Up Ratio', 'Pkt Len Min'], 'Adv sample 32': ['SYN Flag Cnt', 'Active Mean', 'Init Bwd Win Byts', 'Active Min', 'Bwd IAT Max', 'Fwd Byts/b Avg', 'Bwd IAT Std', 'Bwd IAT Min', 'Bwd IAT Mean', 'Idle Std'], 'Adv sample 33': ['Active Mean', 'Bwd IAT Min', 'Init Bwd Win Byts', 'Bwd IAT Mean', 'Active Min', 'Bwd IAT Max', 'Active Max', 'Idle Std', 'Flow IAT Max', 'Down/Up Ratio'], 'Adv sample 34': ['Init Bwd Win Byts', 'Bwd IAT Std', 'Active Max', 'Bwd IAT Mean', 'Active Min', 'Down/Up Ratio', 'Bwd IAT Max', 'Active Mean', 'Bwd IAT Tot', 'Idle Max'], 'Adv sample 35': ['SYN Flag Cnt', 'Active Mean', 'Bwd IAT Mean', 'Idle Std', 'Init Bwd Win Byts', 'Bwd IAT Std', 'Fwd Byts/b Avg', 'Fwd Blk Rate Avg', 'Bwd Pkts/b Avg', 'Fwd IAT Min'], 'Adv sample 36': ['Active Mean', 'Bwd IAT Mean', 'Bwd IAT Tot', 'Init Bwd Win Byts', 'Bwd IAT Min', 'Bwd IAT Max', 'Bwd Pkts/b Avg', 'Fwd Blk Rate Avg', 'Bwd Pkts/s', 'Down/Up Ratio'], 'Adv sample 37': ['Active Min', 'Init Bwd Win Byts', 'Bwd IAT Mean', 'Active Mean', 'Bwd IAT Min', 'Bwd IAT Tot', 'Down/Up Ratio', 'Active Max', 'Bwd IAT Max', 'Idle Std'], 'Adv sample 38': ['ACK Flag Cnt', 'Active Max', 'Init Bwd Win Byts', 'Bwd IAT Max', 'Down/Up Ratio', 'Bwd IAT Tot', 'Bwd IAT Mean', 'Bwd IAT Min', 'Active Mean', 'Idle Std'], 'Adv sample 39': ['Bwd IAT Mean', 'Active Min', 'Init Bwd Win Byts', 'Active Mean', 'Bwd IAT Std', 'Active Max', 'Bwd Pkts/b Avg', 'Fwd IAT Min', 'Idle Std', 'Pkt Len Std'], 'Adv sample 40': ['Bwd IAT Min', 'Init Bwd Win Byts', 'Bwd IAT Std', 'Idle Std', 'Active Min', 'Active Max', 'Pkt Len Min', 'Active Mean', 'Down/Up Ratio', 'Bwd IAT Mean'], 'Adv sample 41': ['Bwd IAT Mean', 'Active Min', 'Bwd IAT Min', 'Bwd IAT Max', 'Init Bwd Win Byts', 'Fwd Byts/b Avg', 'Idle Max', 'Fwd Blk Rate Avg', 'Fwd IAT Min', 'Down/Up Ratio'], 'Adv sample 42': ['ACK Flag Cnt', 'Active Min', 'Active Max', 'Init Bwd Win Byts', 'Bwd IAT Min', 'Tot Fwd Pkts', 'Bwd Pkt Len Max', 'Pkt Len Std', 'Pkt Len Min', 'Pkt Size Avg'], 'Adv sample 43': ['SYN Flag Cnt', 'Idle Std', 'Init Bwd Win Byts', 'Bwd IAT Tot', 'Active Mean', 'Flow IAT Mean', 'Active Max', 'Fwd Header Len', 'Bwd IAT Max', 'Bwd IAT Mean'], 'Adv sample 44': ['Bwd IAT Max', 'Bwd IAT Mean', 'Active Mean', 'Bwd IAT Min', 'Active Max', 'Bwd IAT Tot', 'Active Min', 'Init Bwd Win Byts', 'Down/Up Ratio', 'Pkt Len Std'], 'Adv sample 45': ['Idle Std', 'Init Bwd Win Byts', 'Active Min', 'Bwd IAT Mean', 'Active Mean', 'Active Max', 'Bwd Pkts/b Avg', 'Idle Max', 'Down/Up Ratio', 'Fwd Byts/b Avg'], 'Adv sample 46': ['Active Max', 'Bwd IAT Min', 'Init Bwd Win Byts', 'Idle Min', 'Bwd IAT Max', 'Idle Max', 'Fwd Pkt Len Max', 'Fwd Byts/b Avg', 'Pkt Len Max', 'Fwd IAT Min'], 'Adv sample 47': ['Bwd IAT Mean', 'Fwd Byts/b Avg', 'Active Max', 'Bwd Pkts/b Avg', 'Fwd IAT Min', 'Init Bwd Win Byts', 'Idle Std', 'Bwd Pkt Len Std', 'Fwd IAT Mean', 'Pkt Len Min'], 'Adv sample 48': ['SYN Flag Cnt', 'Active Mean', 'Bwd Byts/b Avg', 'Init Bwd Win Byts', 'Fwd Byts/b Avg', 'Bwd Pkt Len Std', 'Bwd Pkt Len Max', 'Pkt Len Min', 'Bwd Pkt Len Min', 'Fwd IAT Max'], 'Adv sample 49': ['Bwd IAT Min', 'Active Max', 'Active Min', 'Active Mean', 'Fwd IAT Min', 'Init Bwd Win Byts', 'Bwd IAT Max', 'Bwd IAT Mean', 'Idle Std', 'Down/Up Ratio'], 'Adv sample 50': ['ACK Flag Cnt', 'Active Mean', 'Active Max', 'Init Bwd Win Byts', 'Active Min', 'Bwd IAT Std', 'Bwd IAT Mean', 'Bwd Pkt Len Std', 'Fwd IAT Min', 'Pkt Len Max'], 'Adv sample 51': ['ACK Flag Cnt', 'Bwd IAT Std', 'Active Mean', 'Bwd IAT Min', 'Init Bwd Win Byts', 'Bwd IAT Tot', 'Bwd IAT Mean', 'Fwd Byts/b Avg', 'Flow Pkts/s', 'Flow IAT Mean'], 'Adv sample 52': ['Bwd Pkts/s', 'Fwd Byts/b Avg', 'Init Bwd Win Byts', 'Fwd Blk Rate Avg', 'Down/Up Ratio', 'Bwd IAT Min', 'Fwd Pkt Len Std', 'Pkt Len Max', 'Fwd IAT Min', 'Bwd Header Len'], 'Adv sample 53': ['SYN Flag Cnt', 'Init Bwd Win Byts', 'Active Max', 'Active Min', 'Active Mean', 'Idle Std', 'Fwd IAT Min', 'Bwd IAT Max', 'Bwd Pkts/b Avg', 'Fwd Byts/b Avg'], 'Adv sample 54': ['ACK Flag Cnt', 'Bwd IAT Max', 'Init Bwd Win Byts', 'Active Mean', 'Bwd IAT Tot', 'Bwd IAT Std', 'Bwd IAT Min', 'Active Max', 'Flow IAT Mean', 'Pkt Size Avg'], 'Adv sample 55': ['ACK Flag Cnt', 'Active Max', 'Init Bwd Win Byts', 'Fwd IAT Min', 'Active Mean', 'Bwd IAT Std', 'Active Min', 'Bwd IAT Max', 'Bwd IAT Mean', 'Idle Std'], 'Adv sample 56': ['Bwd IAT Std', 'Active Mean', 'Active Min', 'Bwd IAT Min', 'Init Bwd Win Byts', 'Idle Std', 'Active Max', 'Bwd IAT Max', 'Bwd IAT Mean', 'Fwd IAT Min'], 'Adv sample 57': ['Active Min', 'Active Mean', 'Bwd IAT Std', 'Init Bwd Win Byts', 'Fwd IAT Min', 'Idle Std', 'Active Max', 'Bwd IAT Mean', 'Bwd IAT Min', 'Down/Up Ratio'], 'Adv sample 58': ['Active Max', 'Init Bwd Win Byts', 'Idle Min', 'Idle Max', 'Bwd IAT Min', 'Bwd IAT Tot', 'Flow IAT Max', 'Bwd Seg Size Avg', 'Pkt Size Avg', 'Bwd Pkt Len Min'], 'Adv sample 59': ['ACK Flag Cnt', 'FIN Flag Cnt', 'Init Bwd Win Byts', 'Active Min', 'Active Max', 'Bwd IAT Min', 'Flow Pkts/s', 'Fwd IAT Min', 'Active Mean', 'Bwd IAT Max'], 'Adv sample 60': ['ACK Flag Cnt', 'Init Bwd Win Byts', 'FIN Flag Cnt', 'Active Min', 'Bwd IAT Std', 'Active Max', 'Fwd IAT Min', 'Down/Up Ratio', 'Bwd IAT Max', 'Bwd IAT Tot'], 'Adv sample 61': ['ACK Flag Cnt', 'Idle Min', 'Idle Max', 'Down/Up Ratio', 'Fwd Pkts/b Avg', 'Active Max', 'Init Bwd Win Byts', 'Pkt Len Mean', 'Tot Bwd Pkts', 'Pkt Len Max'], 'Adv sample 62': ['Active Min', 'Idle Max', 'Down/Up Ratio', 'Bwd IAT Tot', 'Init Bwd Win Byts', 'Bwd IAT Max', 'Idle Min', 'Active Max', 'Active Mean', 'Bwd IAT Min'], 'Adv sample 63': ['Active Min', 'Active Mean', 'Active Max', 'Fwd IAT Min', 'Bwd IAT Mean', 'Bwd Pkts/s', 'Init Bwd Win Byts', 'Idle Max', 'Idle Min', 'Idle Std'], 'Adv sample 64': ['Bwd Pkts/s', 'Bwd IAT Mean', 'Bwd IAT Tot', 'Fwd IAT Min', 'Down/Up Ratio', 'Active Mean', 'Flow Pkts/s', 'Init Bwd Win Byts', 'Pkt Len Std', 'Bwd IAT Max'], 'Adv sample 65': ['Bwd Pkts/s', 'Bwd IAT Mean', 'Active Mean', 'Bwd IAT Tot', 'Flow Pkts/s', 'Init Bwd Win Byts', 'Idle Max', 'Fwd IAT Min', 'Bwd IAT Max', 'Down/Up Ratio'], 'Adv sample 66': ['ACK Flag Cnt', 'Active Mean', 'Fwd IAT Min', 'Active Max', 'Init Bwd Win Byts', 'Fwd Blk Rate Avg', 'Active Min', 'Fwd IAT Mean', 'Idle Min', 'Bwd IAT Tot'], 'Adv sample 67': ['Active Min', 'Init Bwd Win Byts', 'Bwd IAT Mean', 'Active Mean', 'Bwd IAT Min', 'Active Max', 'Fwd Byts/b Avg', 'Bwd IAT Std', 'Idle Std', 'Bwd IAT Max'], 'Adv sample 68': ['ACK Flag Cnt', 'Active Min', 'Active Max', 'Bwd IAT Std', 'Idle Std', 'Init Bwd Win Byts', 'Bwd IAT Max', 'Down/Up Ratio', 'Bwd IAT Tot', 'Fwd Act Data Pkts'], 'Adv sample 69': ['SYN Flag Cnt', 'Active Max', 'Bwd IAT Mean', 'Init Bwd Win Byts', 'Idle Std', 'Bwd Pkts/b Avg', 'Fwd Blk Rate Avg', 'Bwd Seg Size Avg', 'Fwd Byts/b Avg', 'Bwd Pkt Len Min'], 'Adv sample 70': ['SYN Flag Cnt', 'Bwd IAT Mean', 'Active Min', 'Active Mean', 'Bwd IAT Min', 'Init Bwd Win Byts', 'Bwd Pkts/b Avg', 'Fwd Byts/b Avg', 'Idle Std', 'Bwd Header Len'], 'Adv sample 71': ['Active Mean', 'Fwd Byts/b Avg', 'Bwd IAT Tot', 'Bwd IAT Mean', 'Bwd Pkts/b Avg', 'Init Bwd Win Byts', 'Fwd Blk Rate Avg', 'Pkt Len Min', 'Down/Up Ratio', 'Bwd Pkt Len Mean'], 'Adv sample 72': ['ACK Flag Cnt', 'Active Mean', 'Down/Up Ratio', 'Flow IAT Std', 'Active Min', 'Flow IAT Mean', 'Active Max', 'Idle Std', 'Init Bwd Win Byts', 'FIN Flag Cnt'], 'Adv sample 73': ['Bwd IAT Min', 'Active Min', 'Fwd Byts/b Avg', 'Bwd IAT Mean', 'Init Bwd Win Byts', 'Idle Max', 'Bwd Pkts/b Avg', 'Fwd IAT Min', 'Subflow Bwd Byts', 'Idle Min'], 'Adv sample 74': ['ACK Flag Cnt', 'Bwd IAT Std', 'Bwd IAT Tot', 'Bwd IAT Max', 'Init Bwd Win Byts', 'Active Min', 'Active Mean', 'Flow IAT Mean', 'Fwd Pkt Len Min', 'Pkt Size Avg'], 'Adv sample 75': ['ACK Flag Cnt', 'FIN Flag Cnt', 'Init Bwd Win Byts', 'Bwd IAT Std', 'Bwd IAT Max', 'Active Mean', 'Bwd IAT Min', 'Active Min', 'Bwd IAT Tot', 'Down/Up Ratio'], 'Adv sample 76': ['ACK Flag Cnt', 'Bwd IAT Tot', 'Idle Std', 'Bwd Byts/b Avg', 'Down/Up Ratio', 'Idle Max', 'Init Bwd Win Byts', 'Idle Min', 'Idle Mean', 'Fwd Pkt Len Std'], 'Adv sample 77': ['SYN Flag Cnt', 'Bwd IAT Mean', 'Init Bwd Win Byts', 'Active Min', 'Idle Std', 'Bwd IAT Std', 'Fwd IAT Min', 'Fwd Byts/b Avg', 'Fwd Pkt Len Mean', 'Bwd IAT Max'], 'Adv sample 78': ['Active Min', 'Init Bwd Win Byts', 'Bwd IAT Min', 'Active Mean', 'Bwd IAT Mean', 'Bwd IAT Max', 'Active Max', 'Flow Duration', 'Pkt Len Std', 'Down/Up Ratio'], 'Adv sample 79': ['ACK Flag Cnt', 'FIN Flag Cnt', 'Init Bwd Win Byts', 'Bwd IAT Std', 'Fwd Byts/b Avg', 'Bwd IAT Min', 'Flow Pkts/s', 'Bwd IAT Mean', 'Pkt Size Avg', 'Tot Fwd Pkts'], 'Adv sample 80': ['Init Bwd Win Byts', 'Fwd IAT Min', 'Active Min', 'Down/Up Ratio', 'Bwd IAT Std', 'Idle Std', 'Active Mean', 'Active Max', 'Pkt Len Max', 'Fwd IAT Std'], 'Adv sample 81': ['ACK Flag Cnt', 'Init Bwd Win Byts', 'Bwd IAT Std', 'Bwd IAT Tot', 'Bwd IAT Max', 'Active Max', 'FIN Flag Cnt', 'Flow IAT Mean', 'Flow Pkts/s', 'Flow IAT Min'], 'Adv sample 82': ['Bwd IAT Mean', 'Init Bwd Win Byts', 'Active Max', 'Fwd Byts/b Avg', 'Bwd IAT Max', 'Fwd IAT Min', 'Pkt Len Min', 'Down/Up Ratio', 'Subflow Bwd Byts', 'Pkt Len Mean'], 'Adv sample 83': ['Init Bwd Win Byts', 'Fwd IAT Min', 'Bwd IAT Std', 'Bwd IAT Mean', 'Active Min', 'Active Mean', 'Idle Max', 'Down/Up Ratio', 'Active Max', 'Idle Std'], 'Adv sample 84': ['ACK Flag Cnt', 'FIN Flag Cnt', 'Active Max', 'Fwd Byts/b Avg', 'Fwd IAT Min', 'Init Bwd Win Byts', 'Down/Up Ratio', 'Bwd Pkt Len Mean', 'Flow Duration', 'Subflow Bwd Byts'], 'Adv sample 85': ['ACK Flag Cnt', 'Bwd IAT Tot', 'Active Min', 'Active Max', 'Idle Max', 'Init Bwd Win Byts', 'Idle Min', 'Idle Std', 'Pkt Len Std', 'Pkt Len Min'], 'Adv sample 86': ['ACK Flag Cnt', 'Bwd IAT Max', 'Active Min', 'Fwd Pkt Len Mean', 'Pkt Len Max', 'TotLen Bwd Pkts', 'Fwd Byts/b Avg', 'Idle Min', 'Init Bwd Win Byts', 'Fwd IAT Mean'], 'Adv sample 87': ['SYN Flag Cnt', 'Init Bwd Win Byts', 'Bwd IAT Mean', 'Active Min', 'Bwd IAT Std', 'Active Mean', 'Bwd IAT Max', 'Fwd IAT Min', 'Bwd Pkt Len Max', 'Bwd Pkts/b Avg'], 'Adv sample 88': ['Bwd IAT Mean', 'Bwd Pkts/s', 'Bwd IAT Min', 'Init Bwd Win Byts', 'Fwd IAT Min', 'Bwd Pkts/b Avg', 'TotLen Fwd Pkts', 'Fwd Byts/b Avg', 'Fwd Pkt Len Max', 'Fwd Seg Size Avg'], 'Adv sample 89': ['ACK Flag Cnt', 'Bwd IAT Max', 'Bwd IAT Min', 'Bwd IAT Tot', 'Init Bwd Win Byts', 'Bwd IAT Mean', 'Active Mean', 'Flow IAT Mean', 'FIN Flag Cnt', 'Flow Pkts/s'], 'Adv sample 90': ['SYN Flag Cnt', 'Init Bwd Win Byts', 'Active Min', 'Bwd IAT Mean', 'Active Mean', 'Active Max', 'Fwd IAT Min', 'Bwd IAT Std', 'Fwd Byts/b Avg', 'Bwd IAT Min'], 'Adv sample 91': ['Bwd IAT Mean', 'Idle Std', 'Bwd IAT Min', 'Init Bwd Win Byts', 'Fwd Byts/b Avg', 'Bwd Pkts/b Avg', 'Pkt Len Mean', 'Active Min', 'Bwd IAT Tot', 'Flow IAT Max'], 'Adv sample 92': ['ACK Flag Cnt', 'Bwd IAT Std', 'Init Bwd Win Byts', 'Bwd IAT Max', 'Bwd IAT Mean', 'Idle Std', 'FIN Flag Cnt', 'PSH Flag Cnt', 'Bwd Header Len', 'Active Max'], 'Adv sample 93': ['Active Min', 'Active Mean', 'Bwd IAT Mean', 'Idle Std', 'Fwd Byts/b Avg', 'Fwd IAT Mean', 'Init Bwd Win Byts', 'Bwd IAT Min', 'Bwd Pkt Len Min', 'Pkt Len Mean'], 'Adv sample 94': ['SYN Flag Cnt', 'Active Mean', 'Flow IAT Mean', 'Init Bwd Win Byts', 'Active Max', 'Flow Duration', 'Bwd Pkt Len Mean', 'Fwd Pkts/s', 'Fwd Blk Rate Avg', 'Bwd IAT Min'], 'Adv sample 95': ['Bwd Pkts/s', 'Active Min', 'Flow Pkts/s', 'Bwd IAT Mean', 'Bwd IAT Tot', 'Bwd IAT Max', 'Init Bwd Win Byts', 'Bwd IAT Std', 'Idle Max', 'Active Max'], 'Adv sample 96': ['Bwd IAT Min', 'Active Mean', 'Active Max', 'Bwd IAT Mean', 'Init Bwd Win Byts', 'Down/Up Ratio', 'Fwd Byts/b Avg', 'Bwd Seg Size Avg', 'Tot Bwd Pkts', 'Pkt Len Min'], 'Adv sample 97': ['ACK Flag Cnt', 'Active Mean', 'Init Bwd Win Byts', 'Active Max', 'Active Min', 'Idle Std', 'Bwd IAT Std', 'Bwd IAT Tot', 'Fwd IAT Min', 'Fwd Byts/b Avg'], 'Adv sample 98': ['Active Min', 'Active Mean', 'Idle Min', 'Active Max', 'Idle Max', 'Init Bwd Win Byts', 'Bwd IAT Tot', 'Bwd IAT Min', 'Down/Up Ratio', 'Fwd Pkt Len Mean'], 'Adv sample 99': ['Bwd IAT Mean', 'Active Min', 'Fwd IAT Min', 'Active Mean', 'Bwd IAT Std', 'Bwd IAT Max', 'Init Bwd Win Byts', 'Idle Std', 'Idle Max', 'Active Max'], 'Adv sample 100': ['ACK Flag Cnt', 'Fwd Byts/b Avg', 'Fwd IAT Min', 'Init Bwd Win Byts', 'Pkt Len Std', 'Fwd IAT Mean', 'Fwd Seg Size Avg', 'Flow IAT Max', 'Bwd IAT Min', 'Fwd Pkt Len Max'], 'Adv sample 101': ['Active Max', 'Init Bwd Win Byts', 'Active Min', 'Active Mean', 'Bwd IAT Mean', 'Bwd Pkts/b Avg', 'Idle Std', 'Fwd IAT Min', 'Fwd Byts/b Avg', 'Pkt Len Min'], 'Adv sample 102': ['Idle Std', 'Init Bwd Win Byts', 'Active Min', 'ACK Flag Cnt', 'Bwd IAT Std', 'Down/Up Ratio', 'Fwd IAT Min', 'Idle Max', 'Active Mean', 'Bwd Pkt Len Max'], 'Adv sample 103': ['Bwd Pkts/s', 'Bwd IAT Mean', 'Active Mean', 'Active Min', 'Bwd IAT Max', 'Init Bwd Win Byts', 'Bwd IAT Min', 'Flow Pkts/s', 'Active Max', 'Idle Max'], 'Adv sample 104': ['SYN Flag Cnt', 'Bwd IAT Min', 'Init Bwd Win Byts', 'Active Min', 'Bwd IAT Mean', 'Fwd IAT Min', 'Fwd Pkts/b Avg', 'Flow Pkts/s', 'Fwd Header Len', 'PSH Flag Cnt'], 'Adv sample 105': ['SYN Flag Cnt', 'Idle Std', 'Bwd IAT Min', 'Fwd Byts/b Avg', 'Init Bwd Win Byts', 'Bwd IAT Mean', 'Down/Up Ratio', 'Bwd Pkt Len Mean', 'PSH Flag Cnt', 'Subflow Bwd Byts'], 'Adv sample 106': ['ACK Flag Cnt', 'Active Max', 'Idle Max', 'Init Bwd Win Byts', 'Idle Min', 'Flow Duration', 'Idle Mean', 'Down/Up Ratio', 'Bwd IAT Tot', 'Pkt Len Min'], 'Adv sample 107': ['Bwd IAT Mean', 'Active Mean', 'Active Min', 'Bwd IAT Min', 'Fwd Byts/b Avg', 'Bwd IAT Max', 'Bwd Pkts/b Avg', 'Idle Min', 'Init Bwd Win Byts', 'Idle Std'], 'Adv sample 108': ['ACK Flag Cnt', 'Fwd Blk Rate Avg', 'Bwd IAT Tot', 'Idle Min', 'Init Bwd Win Byts', 'Active Max', 'Fwd IAT Min', 'Down/Up Ratio', 'Fwd Pkts/s', 'PSH Flag Cnt'], 'Adv sample 109': ['ACK Flag Cnt', 'Active Mean', 'Active Max', 'Fwd Byts/b Avg', 'Init Bwd Win Byts', 'Bwd IAT Std', 'Fwd IAT Min', 'Pkt Len Min', 'Pkt Size Avg', 'Idle Std'], 'Adv sample 110': ['ACK Flag Cnt', 'Bwd IAT Min', 'Active Max', 'Bwd IAT Std', 'Active Mean', 'Init Bwd Win Byts', 'Active Min', 'Bwd IAT Mean', 'Bwd IAT Max', 'Fwd IAT Min'], 'Adv sample 111': ['Active Max', 'Bwd IAT Max', 'Bwd Pkts/b Avg', 'Fwd Byts/b Avg', 'Bwd IAT Tot', 'Init Bwd Win Byts', 'Fwd IAT Min', 'Pkt Len Std', 'Down/Up Ratio', 'Pkt Size Avg'], 'Adv sample 112': ['SYN Flag Cnt', 'Active Min', 'Init Bwd Win Byts', 'Bwd IAT Std', 'Active Mean', 'Bwd IAT Mean', 'Idle Std', 'Bwd IAT Max', 'Bwd IAT Min', 'Fwd IAT Min'], 'Adv sample 113': ['ACK Flag Cnt', 'Init Bwd Win Byts', 'Active Min', 'Bwd IAT Max', 'Active Mean', 'Flow Pkts/s', 'Bwd IAT Min', 'Bwd IAT Std', 'Fwd Byts/b Avg', 'Idle Min'], 'Adv sample 114': ['Idle Std', 'Fwd IAT Min', 'Bwd IAT Std', 'Active Max', 'Init Bwd Win Byts', 'Idle Max', 'Bwd Pkts/b Avg', 'Down/Up Ratio', 'Bwd IAT Mean', 'TotLen Fwd Pkts'], 'Adv sample 115': ['Bwd IAT Mean', 'Bwd Pkts/b Avg', 'Fwd IAT Min', 'Active Mean', 'Active Min', 'Fwd Byts/b Avg', 'Init Bwd Win Byts', 'Bwd IAT Min', 'Bwd IAT Tot', 'Pkt Len Min'], 'Adv sample 116': ['Active Min', 'Active Mean', 'Bwd IAT Mean', 'Init Bwd Win Byts', 'Bwd IAT Tot', 'Bwd IAT Max', 'Flow Pkts/s', 'Active Max', 'Fwd IAT Min', 'Bwd Pkt Len Std'], 'Adv sample 117': ['Active Max', 'ACK Flag Cnt', 'Active Mean', 'Idle Min', 'Idle Max', 'Bwd IAT Tot', 'Bwd IAT Mean', 'Init Bwd Win Byts', 'Fwd Byts/b Avg', 'Subflow Fwd Byts'], 'Adv sample 118': ['Bwd IAT Min', 'Active Max', 'Active Mean', 'Init Bwd Win Byts', 'Active Min', 'Fwd Blk Rate Avg', 'Bwd PSH Flags', 'Bwd IAT Max', 'Flow IAT Max', 'Subflow Bwd Byts'], 'Adv sample 119': ['Active Min', 'Bwd Pkts/s', 'Flow Pkts/s', 'Bwd IAT Max', 'Bwd IAT Min', 'Init Bwd Win Byts', 'Bwd IAT Mean', 'Down/Up Ratio', 'Bwd IAT Std', 'Flow IAT Min'], 'Adv sample 120': ['ACK Flag Cnt', 'Bwd IAT Min', 'Active Max', 'Fwd IAT Min', 'Init Bwd Win Byts', 'Bwd Pkts/b Avg', 'Bwd IAT Tot', 'Bwd Header Len', 'Subflow Bwd Pkts', 'Subflow Bwd Byts'], 'Adv sample 121': ['ACK Flag Cnt', 'Active Mean', 'Bwd IAT Tot', 'Bwd IAT Std', 'Bwd IAT Max', 'Active Min', 'Init Bwd Win Byts', 'Bwd Pkt Len Std', 'Active Max', 'Pkt Len Mean'], 'Adv sample 122': ['SYN Flag Cnt', 'Bwd IAT Min', 'Active Mean', 'Fwd Byts/b Avg', 'Init Bwd Win Byts', 'Fwd IAT Min', 'Idle Std', 'Subflow Fwd Pkts', 'Fwd Pkt Len Std', 'Fwd Pkt Len Mean'], 'Adv sample 123': ['SYN Flag Cnt', 'Bwd IAT Mean', 'Bwd Pkts/b Avg', 'Idle Std', 'Init Bwd Win Byts', 'Fwd Byts/b Avg', 'Bwd IAT Min', 'Fwd IAT Min', 'Pkt Len Mean', 'Bwd Pkt Len Min'], 'Adv sample 124': ['ACK Flag Cnt', 'Bwd IAT Std', 'Bwd IAT Max', 'Flow IAT Mean', 'Fwd Pkt Len Std', 'Init Bwd Win Byts', 'Flow IAT Std', 'Bwd PSH Flags', 'Active Mean', 'Subflow Fwd Pkts'], 'Adv sample 125': ['Active Mean', 'Fwd IAT Min', 'Bwd IAT Mean', 'Bwd IAT Max', 'Init Bwd Win Byts', 'Fwd Seg Size Avg', 'Bwd IAT Tot', 'Pkt Len Max', 'Fwd Blk Rate Avg', 'Flow IAT Min'], 'Adv sample 126': ['Active Mean', 'Bwd IAT Max', 'Bwd IAT Mean', 'Active Max', 'Bwd IAT Tot', 'Init Bwd Win Byts', 'Fwd IAT Min', 'Pkt Len Mean', 'Fwd Blk Rate Avg', 'Bwd Pkt Len Max'], 'Adv sample 127': ['Bwd Pkts/s', 'Flow Pkts/s', 'Bwd IAT Mean', 'Bwd IAT Max', 'Init Bwd Win Byts', 'Active Min', 'Bwd IAT Std', 'Bwd IAT Tot', 'Active Mean', 'Active Max'], 'Adv sample 128': ['SYN Flag Cnt', 'Active Min', 'Active Mean', 'Init Bwd Win Byts', 'Active Max', 'Fwd Byts/b Avg', 'Idle Std', 'Bwd IAT Min', 'Bwd IAT Mean', 'Pkt Size Avg'], 'Adv sample 129': ['Init Bwd Win Byts', 'Bwd IAT Min', 'Bwd IAT Mean', 'Bwd IAT Tot', 'Fwd Pkts/b Avg', 'Fwd IAT Min', 'Pkt Len Mean', 'Down/Up Ratio', 'Bwd Pkts/b Avg', 'Pkt Len Max'], 'Adv sample 130': ['Active Mean', 'Init Bwd Win Byts', 'Active Min', 'Active Max', 'Down/Up Ratio', 'Idle Min', 'Idle Max', 'Flow Duration', 'Bwd IAT Std', 'Pkt Len Max'], 'Adv sample 131': ['Bwd Pkts/b Avg', 'Active Min', 'Bwd IAT Mean', 'Init Bwd Win Byts', 'Active Mean', 'Fwd Byts/b Avg', 'Active Max', 'Fwd IAT Min', 'Pkt Len Min', 'Pkt Len Std'], 'Adv sample 132': ['Active Max', 'Bwd IAT Min', 'Active Min', 'Init Bwd Win Byts', 'Active Mean', 'Fwd IAT Min', 'Idle Min', 'Subflow Fwd Pkts', 'Bwd Seg Size Avg', 'Bwd IAT Max'], 'Adv sample 133': ['Bwd IAT Std', 'Fwd Byts/b Avg', 'Bwd IAT Max', 'Bwd IAT Min', 'Bwd Pkts/b Avg', 'Fwd IAT Min', 'Init Bwd Win Byts', 'Bwd Pkt Len Max', 'Bwd Header Len', 'Pkt Len Min'], 'Adv sample 134': ['SYN Flag Cnt', 'Init Bwd Win Byts', 'Bwd IAT Mean', 'Active Max', 'Bwd IAT Std', 'Active Mean', 'Fwd IAT Min', 'Fwd Byts/b Avg', 'Bwd IAT Min', 'Active Min'], 'Adv sample 135': ['Bwd IAT Std', 'Bwd IAT Min', 'Bwd IAT Mean', 'Fwd Byts/b Avg', 'Bwd IAT Max', 'Init Bwd Win Byts', 'Active Min', 'Idle Std', 'Bwd Seg Size Avg', 'Fwd Pkt Len Min'], 'Adv sample 136': ['SYN Flag Cnt', 'Bwd IAT Mean', 'Idle Std', 'Active Min', 'Init Bwd Win Byts', 'Active Mean', 'Bwd IAT Std', 'Bwd IAT Min', 'Pkt Size Avg', 'Bwd IAT Tot'], 'Adv sample 137': ['URG Flag Cnt', 'Bwd URG Flags', 'Bwd IAT Std', 'PSH Flag Cnt', 'FIN Flag Cnt', 'Init Bwd Win Byts', 'Fwd Byts/b Avg', 'Pkt Size Avg', 'Bwd IAT Max', 'Bwd Pkt Len Max'], 'Adv sample 138': ['ACK Flag Cnt', 'Bwd IAT Std', 'Active Mean', 'Init Bwd Win Byts', 'Flow IAT Mean', 'Active Max', 'Bwd IAT Min', 'Fwd IAT Mean', 'Bwd IAT Max', 'Fwd Pkt Len Mean'], 'Adv sample 139': ['Active Mean', 'Init Bwd Win Byts', 'Active Min', 'Bwd Pkts/b Avg', 'Bwd IAT Mean', 'Bwd IAT Min', 'Active Max', 'Idle Std', 'Pkt Len Min', 'Pkt Len Max'], 'Adv sample 140': ['Active Mean', 'ACK Flag Cnt', 'Active Min', 'Active Max', 'Init Bwd Win Byts', 'Fwd IAT Min', 'Bwd IAT Std', 'Idle Std', 'Pkt Len Std', 'Bwd Pkt Len Min'], 'Adv sample 141': ['SYN Flag Cnt', 'Init Bwd Win Byts', 'Bwd IAT Tot', 'Bwd Pkts/b Avg', 'Down/Up Ratio', 'Fwd Pkts/s', 'Bwd Header Len', 'Fwd Pkt Len Max', 'Active Mean', 'Fwd Pkt Len Min'], 'Adv sample 142': ['SYN Flag Cnt', 'Idle Std', 'Bwd IAT Min', 'Init Bwd Win Byts', 'Active Min', 'Active Mean', 'Active Max', 'Fwd Byts/b Avg', 'Bwd IAT Mean', 'Idle Max'], 'Adv sample 143': ['Bwd Pkts/s', 'Bwd IAT Mean', 'Fwd IAT Min', 'Init Bwd Win Byts', 'Active Mean', 'Idle Max', 'Fwd Pkt Len Max', 'Flow Pkts/s', 'Bwd Seg Size Avg', 'Idle Std'], 'Adv sample 144': ['ACK Flag Cnt', 'Active Mean', 'Active Min', 'Flow Byts/s', 'Init Bwd Win Byts', 'Fwd IAT Tot', 'Fwd IAT Mean', 'Pkt Len Var', 'Fwd Pkt Len Min', 'Fwd Blk Rate Avg'], 'Adv sample 145': ['Active Min', 'Active Mean', 'ACK Flag Cnt', 'Init Bwd Win Byts', 'Active Max', 'Bwd IAT Std', 'Idle Std', 'Bwd IAT Max', 'Down/Up Ratio', 'Bwd IAT Mean'], 'Adv sample 146': ['Active Max', 'Bwd IAT Max', 'Idle Std', 'Bwd IAT Std', 'Fwd Byts/b Avg', 'Init Bwd Win Byts', 'Bwd IAT Min', 'Fwd IAT Min', 'Bwd IAT Tot', 'Pkt Len Std'], 'Adv sample 147': ['SYN Flag Cnt', 'Bwd IAT Std', 'Active Max', 'Init Bwd Win Byts', 'Bwd IAT Mean', 'Active Mean', 'Active Min', 'Bwd IAT Max', 'Idle Std', 'Pkt Len Min'], 'Adv sample 148': ['SYN Flag Cnt', 'Active Mean', 'Bwd Pkts/b Avg', 'Init Bwd Win Byts', 'Bwd IAT Mean', 'Fwd Blk Rate Avg', 'Fwd IAT Mean', 'Pkt Len Min', 'Bwd Seg Size Avg', 'Down/Up Ratio'], 'Adv sample 149': ['Active Min', 'Bwd IAT Mean', 'Active Mean', 'Active Max', 'Fwd Byts/b Avg', 'Init Bwd Win Byts', 'Down/Up Ratio', 'Fwd Seg Size Avg', 'Pkt Len Min', 'Fwd Blk Rate Avg'], 'Adv sample 150': ['ACK Flag Cnt', 'Fwd IAT Min', 'Init Bwd Win Byts', 'Bwd IAT Std', 'Fwd Byts/b Avg', 'Active Min', 'Bwd PSH Flags', 'Bwd IAT Mean', 'Active Max', 'Bwd IAT Max'], 'Adv sample 151': ['ACK Flag Cnt', 'Active Max', 'Fwd IAT Min', 'Fwd Byts/b Avg', 'Init Bwd Win Byts', 'FIN Flag Cnt', 'Pkt Len Mean', 'Pkt Size Avg', 'Flow Pkts/s', 'Fwd Pkts/s'], 'Adv sample 152': ['SYN Flag Cnt', 'Bwd IAT Mean', 'Idle Std', 'Bwd IAT Max', 'Fwd IAT Mean', 'Init Bwd Win Byts', 'Bwd Pkts/b Avg', 'Fwd IAT Min', 'Down/Up Ratio', 'Subflow Fwd Byts'], 'Adv sample 153': ['SYN Flag Cnt', 'Init Bwd Win Byts', 'Fwd Byts/b Avg', 'Bwd Byts/b Avg', 'Bwd Pkts/b Avg', 'Idle Std', 'Pkt Len Std', 'Fwd Act Data Pkts', 'Bwd Pkt Len Min', 'Bwd Pkt Len Max'], 'Adv sample 154': ['Active Min', 'Flow Pkts/s', 'Bwd Pkts/s', 'Bwd IAT Std', 'Init Bwd Win Byts', 'Bwd IAT Max', 'Active Mean', 'Bwd IAT Mean', 'Fwd IAT Min', 'Down/Up Ratio'], 'Adv sample 155': ['SYN Flag Cnt', 'Bwd IAT Mean', 'Idle Std', 'Bwd Pkts/b Avg', 'Active Max', 'Init Bwd Win Byts', 'Fwd IAT Min', 'Fwd Blk Rate Avg', 'Fwd Byts/b Avg', 'Subflow Fwd Pkts'], 'Adv sample 156': ['ACK Flag Cnt', 'Bwd IAT Max', 'Bwd IAT Tot', 'Init Bwd Win Byts', 'Flow IAT Mean', 'Bwd Pkts/b Avg', 'Active Min', 'Flow Pkts/s', 'Flow IAT Std', 'Pkt Len Min'], 'Adv sample 157': ['ACK Flag Cnt', 'Active Max', 'Fwd Byts/b Avg', 'Fwd IAT Min', 'Init Bwd Win Byts', 'Active Mean', 'Bwd IAT Tot', 'Fwd Header Len', 'Pkt Len Min', 'Flow IAT Min'], 'Adv sample 158': ['SYN Flag Cnt', 'Bwd IAT Min', 'Active Mean', 'Bwd IAT Std', 'Init Bwd Win Byts', 'Idle Std', 'Flow Byts/s', 'Fwd Pkt Len Min', 'Bwd Pkt Len Max', 'Bwd IAT Mean'], 'Adv sample 159': ['ACK Flag Cnt', 'Active Max', 'Idle Std', 'Active Mean', 'Idle Max', 'Init Bwd Win Byts', 'Idle Min', 'Down/Up Ratio', 'Bwd Byts/b Avg', 'PSH Flag Cnt'], 'Adv sample 160': ['Active Max', 'Bwd IAT Mean', 'Fwd Byts/b Avg', 'Init Bwd Win Byts', 'Idle Min', 'Bwd IAT Min', 'Bwd Pkt Len Max', 'Bwd Pkt Len Std', 'Bwd IAT Tot', 'Flow IAT Mean'], 'Adv sample 161': ['Bwd IAT Mean', 'Active Mean', 'Bwd Pkts/s', 'Flow Pkts/s', 'Active Min', 'Bwd IAT Tot', 'Init Bwd Win Byts', 'Fwd IAT Min', 'Bwd IAT Std', 'Bwd IAT Max'], 'Adv sample 162': ['Bwd IAT Mean', 'Active Mean', 'Fwd Byts/b Avg', 'Bwd IAT Tot', 'Idle Std', 'Init Bwd Win Byts', 'Pkt Len Var', 'Bwd Seg Size Avg', 'Pkt Size Avg', 'Pkt Len Min'], 'Adv sample 163': ['ACK Flag Cnt', 'Active Mean', 'Fwd IAT Min', 'Init Bwd Win Byts', 'Fwd Blk Rate Avg', 'Active Max', 'TotLen Fwd Pkts', 'Bwd Pkt Len Std', 'Bwd Pkt Len Mean', 'Tot Fwd Pkts'], 'Adv sample 164': ['Bwd IAT Min', 'Active Mean', 'Active Max', 'Fwd Byts/b Avg', 'Active Min', 'Init Bwd Win Byts', 'Bwd IAT Mean', 'Flow IAT Max', 'Flow Duration', 'Fwd IAT Min'], 'Adv sample 165': ['Bwd Pkts/s', 'Flow Pkts/s', 'Bwd IAT Mean', 'Init Bwd Win Byts', 'Bwd IAT Tot', 'Bwd IAT Max', 'Active Mean', 'Bwd IAT Std', 'Down/Up Ratio', 'Idle Std'], 'Adv sample 166': ['Bwd Pkts/s', 'Active Mean', 'Init Bwd Win Byts', 'Pkt Len Max', 'Fwd IAT Min', 'Bwd Pkt Len Mean', 'Pkt Size Avg', 'Flow Pkts/s', 'Pkt Len Mean', 'Subflow Fwd Byts'], 'Adv sample 167': ['ACK Flag Cnt', 'Active Mean', 'Init Bwd Win Byts', 'Active Min', 'Fwd Byts/b Avg', 'Bwd IAT Std', 'Bwd IAT Max', 'Bwd IAT Mean', 'Idle Min', 'Bwd IAT Min'], 'Adv sample 168': ['ACK Flag Cnt', 'FIN Flag Cnt', 'Init Bwd Win Byts', 'Active Mean', 'Bwd IAT Std', 'Active Min', 'Fwd IAT Min', 'Down/Up Ratio', 'Bwd IAT Min', 'Bwd IAT Max'], 'Adv sample 169': ['Active Max', 'ACK Flag Cnt', 'Down/Up Ratio', 'Init Bwd Win Byts', 'Idle Std', 'Pkt Len Min', 'FIN Flag Cnt', 'Fwd Pkts/s', 'Fwd Act Data Pkts', 'Fwd IAT Tot'], 'Adv sample 170': ['ACK Flag Cnt', 'Active Max', 'Init Bwd Win Byts', 'Active Mean', 'Fwd IAT Min', 'Active Min', 'Idle Std', 'Bwd IAT Std', 'Down/Up Ratio', 'Bwd IAT Mean'], 'Adv sample 171': ['ACK Flag Cnt', 'Bwd IAT Max', 'Init Bwd Win Byts', 'Active Max', 'Fwd IAT Min', 'Fwd Pkt Len Mean', 'Bwd Pkt Len Mean', 'Subflow Fwd Byts', 'Pkt Len Min', 'Down/Up Ratio'], 'Adv sample 172': ['FIN Flag Cnt', 'ACK Flag Cnt', 'Init Bwd Win Byts', 'Active Max', 'Active Min', 'Fwd Seg Size Avg', 'Bwd IAT Std', 'Active Mean', 'Flow IAT Min', 'TotLen Fwd Pkts'], 'Adv sample 173': ['ACK Flag Cnt', 'Active Max', 'Init Bwd Win Byts', 'Fwd IAT Min', 'Bwd IAT Std', 'Active Min', 'Active Mean', 'Bwd IAT Max', 'Bwd IAT Tot', 'Bwd IAT Min'], 'Adv sample 174': ['Bwd IAT Mean', 'Bwd IAT Min', 'Active Mean', 'Init Bwd Win Byts', 'Active Min', 'Idle Min', 'Fwd Blk Rate Avg', 'Down/Up Ratio', 'Fwd Pkt Len Std', 'Pkt Size Avg'], 'Adv sample 175': ['SYN Flag Cnt', 'Init Bwd Win Byts', 'Bwd Pkts/b Avg', 'Flow IAT Max', 'Fwd Pkt Len Min', 'Pkt Len Mean', 'Pkt Size Avg', 'Down/Up Ratio', 'Fwd Pkt Len Mean', 'Fwd Byts/b Avg'], 'Adv sample 176': ['URG Flag Cnt', 'Bwd URG Flags', 'Init Bwd Win Byts', 'Down/Up Ratio', 'FIN Flag Cnt', 'Bwd IAT Std', 'Active Min', 'Bwd IAT Mean', 'Active Mean', 'Idle Std'], 'Adv sample 177': ['SYN Flag Cnt', 'Bwd IAT Max', 'Bwd IAT Mean', 'Init Bwd Win Byts', 'Bwd IAT Tot', 'Bwd IAT Min', 'Down/Up Ratio', 'Active Max', 'Pkt Len Mean', 'Flow IAT Max'], 'Adv sample 178': ['Active Mean', 'Fwd IAT Min', 'Active Max', 'Bwd IAT Mean', 'Init Bwd Win Byts', 'Bwd IAT Tot', 'Bwd IAT Max', 'Fwd Blk Rate Avg', 'Down/Up Ratio', 'Fwd Pkt Len Mean'], 'Adv sample 179': ['SYN Flag Cnt', 'Init Bwd Win Byts', 'Active Min', 'Bwd IAT Min', 'Fwd IAT Min', 'Bwd IAT Max', 'Idle Std', 'Bwd IAT Std', 'Active Mean', 'Fwd Byts/b Avg'], 'Adv sample 180': ['Active Mean', 'Init Bwd Win Byts', 'Active Min', 'Bwd IAT Mean', 'Active Max', 'Bwd IAT Std', 'Fwd IAT Min', 'Bwd Pkt Len Min', 'Down/Up Ratio', 'Idle Std'], 'Adv sample 181': ['Bwd Pkts/s', 'Bwd IAT Mean', 'Bwd IAT Tot', 'Flow Pkts/s', 'Active Min', 'Init Bwd Win Byts', 'Down/Up Ratio', 'Active Mean', 'Bwd IAT Max', 'Flow Byts/s'], 'Adv sample 182': ['Bwd IAT Mean', 'Bwd IAT Std', 'Active Mean', 'Fwd IAT Min', 'Init Bwd Win Byts', 'Bwd Pkts/b Avg', 'Fwd Byts/b Avg', 'Pkt Len Min', 'Fwd Pkt Len Std', 'Pkt Len Mean'], 'Adv sample 183': ['ACK Flag Cnt', 'Bwd IAT Tot', 'Bwd IAT Std', 'Init Bwd Win Byts', 'Flow IAT Std', 'Active Mean', 'Fwd IAT Min', 'Bwd IAT Max', 'Flow Pkts/s', 'Bwd IAT Min'], 'Adv sample 184': ['Fwd IAT Min', 'Active Max', 'Init Bwd Win Byts', 'Idle Max', 'Fwd Byts/b Avg', 'Down/Up Ratio', 'Pkt Len Std', 'Bwd IAT Tot', 'Bwd Pkt Len Std', 'Active Min'], 'Adv sample 185': ['Active Mean', 'Bwd IAT Mean', 'Init Bwd Win Byts', 'Bwd IAT Tot', 'Fwd Blk Rate Avg', 'Down/Up Ratio', 'Pkt Len Mean', 'Pkt Len Var', 'Pkt Size Avg', 'Bwd Pkt Len Std'], 'Adv sample 186': ['Bwd IAT Min', 'Bwd IAT Std', 'Init Bwd Win Byts', 'Fwd Byts/b Avg', 'Idle Min', 'Idle Max', 'Bwd Pkts/b Avg', 'Fwd Pkt Len Std', 'Bwd Pkt Len Mean', 'Idle Std'], 'Adv sample 187': ['Bwd IAT Min', 'Active Mean', 'Active Max', 'Init Bwd Win Byts', 'Fwd Byts/b Avg', 'Pkt Len Max', 'Idle Min', 'Idle Max', 'Down/Up Ratio', 'Fwd Pkt Len Mean'], 'Adv sample 188': ['SYN Flag Cnt', 'Active Min', 'Bwd IAT Mean', 'Bwd IAT Std', 'Init Bwd Win Byts', 'Active Mean', 'Active Max', 'Idle Std', 'Fwd Byts/b Avg', 'Fwd IAT Min'], 'Adv sample 189': ['SYN Flag Cnt', 'Active Mean', 'Bwd IAT Std', 'Init Bwd Win Byts', 'Fwd Byts/b Avg', 'Bwd IAT Mean', 'Pkt Len Max', 'Idle Std', 'Flow IAT Min', 'Fwd Pkts/s'], 'Adv sample 190': ['Bwd Pkts/s', 'Flow Pkts/s', 'Bwd IAT Min', 'Bwd IAT Mean', 'Init Bwd Win Byts', 'Active Mean', 'Bwd IAT Tot', 'Active Min', 'Down/Up Ratio', 'Bwd IAT Std'], 'Adv sample 191': ['ACK Flag Cnt', 'Active Min', 'Init Bwd Win Byts', 'Active Mean', 'Fwd IAT Min', 'Bwd PSH Flags', 'Flow IAT Mean', 'Bwd IAT Std', 'Active Max', 'Bwd Pkts/b Avg'], 'Adv sample 192': ['Active Min', 'Bwd IAT Std', 'Active Max', 'Bwd IAT Mean', 'Init Bwd Win Byts', 'Fwd IAT Min', 'Active Mean', 'Idle Std', 'Bwd IAT Max', 'Idle Max'], 'Adv sample 193': ['Init Bwd Win Byts', 'Bwd IAT Std', 'Active Min', 'Active Max', 'Active Mean', 'Bwd IAT Max', 'Bwd IAT Mean', 'Bwd IAT Min', 'Fwd Byts/b Avg', 'Idle Std'], 'Adv sample 194': ['ACK Flag Cnt', 'Bwd IAT Std', 'Bwd IAT Tot', 'Init Bwd Win Byts', 'Fwd IAT Min', 'Bwd IAT Max', 'Active Mean', 'Bwd IAT Mean', 'Idle Std', 'Flow IAT Mean'], 'Adv sample 195': ['Bwd IAT Min', 'Active Mean', 'Active Max', 'Bwd IAT Mean', 'Init Bwd Win Byts', 'Active Min', 'Fwd IAT Min', 'Bwd IAT Max', 'Down/Up Ratio', 'Fwd Pkts/s'], 'Adv sample 196': ['Active Min', 'Active Mean', 'Bwd IAT Min', 'Init Bwd Win Byts', 'Bwd IAT Max', 'Active Max', 'Fwd Byts/b Avg', 'Pkt Len Mean', 'Bwd Seg Size Avg', 'Idle Mean'], 'Adv sample 197': ['SYN Flag Cnt', 'Bwd IAT Std', 'Bwd IAT Min', 'Active Max', 'Fwd IAT Min', 'Init Bwd Win Byts', 'Bwd IAT Mean', 'Idle Std', 'Active Min', 'Bwd Pkt Len Max'], 'Adv sample 198': ['ACK Flag Cnt', 'Bwd IAT Max', 'Init Bwd Win Byts', 'Flow IAT Std', 'Bwd IAT Std', 'Active Max', 'Flow IAT Mean', 'Active Mean', 'Bwd IAT Tot', 'Pkt Len Min'], 'Adv sample 199': ['Bwd Pkts/s', 'Bwd IAT Max', 'Bwd IAT Mean', 'Flow Pkts/s', 'Init Bwd Win Byts', 'Active Mean', 'Bwd IAT Tot', 'Active Min', 'Bwd IAT Std', 'Active Max'], 'Adv sample 200': ['Bwd Pkts/s', 'Flow Pkts/s', 'Bwd IAT Std', 'Init Bwd Win Byts', 'Down/Up Ratio', 'Flow IAT Max', 'Bwd Header Len', 'Bwd IAT Min', 'Bwd IAT Max', 'Pkt Len Std'], 'Adv sample 201': ['Active Mean', 'Active Max', 'Bwd IAT Min', 'Init Bwd Win Byts', 'Bwd IAT Std', 'Bwd IAT Mean', 'Active Min', 'Bwd IAT Tot', 'Bwd IAT Max', 'Fwd Byts/b Avg'], 'Adv sample 202': ['SYN Flag Cnt', 'Init Bwd Win Byts', 'Active Min', 'Active Max', 'Active Mean', 'Bwd IAT Std', 'Bwd Pkts/b Avg', 'Fwd IAT Min', 'Bwd IAT Min', 'Bwd IAT Max'], 'Adv sample 203': ['ACK Flag Cnt', 'Active Max', 'Bwd IAT Tot', 'Down/Up Ratio', 'Init Bwd Win Byts', 'Idle Std', 'Bwd IAT Min', 'Fwd Byts/b Avg', 'Flow Byts/s', 'Tot Fwd Pkts'], 'Adv sample 204': ['Bwd IAT Max', 'Bwd IAT Mean', 'Init Bwd Win Byts', 'Idle Max', 'Active Min', 'Subflow Bwd Byts', 'Fwd Byts/b Avg', 'Pkt Len Mean', 'Flow Byts/s', 'Bwd Byts/b Avg'], 'Adv sample 205': ['Active Max', 'Active Min', 'Init Bwd Win Byts', 'Active Mean', 'Bwd IAT Max', 'Bwd IAT Tot', 'Bwd IAT Std', 'Bwd IAT Mean', 'Fwd Byts/b Avg', 'Down/Up Ratio'], 'Adv sample 206': ['Bwd IAT Min', 'Bwd IAT Mean', 'Init Bwd Win Byts', 'Active Min', 'Fwd Byts/b Avg', 'Fwd IAT Mean', 'Active Max', 'Active Mean', 'Bwd IAT Std', 'Bwd Pkts/b Avg'], 'Adv sample 207': ['SYN Flag Cnt', 'Init Bwd Win Byts', 'Bwd IAT Std', 'Active Max', 'Idle Std', 'Bwd IAT Max', 'Flow IAT Max', 'Bwd IAT Mean', 'Bwd Pkts/b Avg', 'Pkt Len Min'], 'Adv sample 208': ['Active Mean', 'Init Bwd Win Byts', 'Active Min', 'Active Max', 'Fwd Byts/b Avg', 'Bwd Pkts/b Avg', 'Bwd IAT Mean', 'Bwd IAT Max', 'Pkt Size Avg', 'Pkt Len Max'], 'Adv sample 209': ['SYN Flag Cnt', 'Active Min', 'Bwd IAT Mean', 'Active Mean', 'Init Bwd Win Byts', 'Active Max', 'Bwd Pkts/b Avg', 'Idle Std', 'Fwd IAT Min', 'Pkt Len Max'], 'Adv sample 210': ['Bwd Pkts/s', 'Bwd IAT Max', 'Flow Pkts/s', 'Idle Std', 'Idle Max', 'Init Bwd Win Byts', 'Idle Min', 'Down/Up Ratio', 'Fwd Byts/b Avg', 'Active Max'], 'Adv sample 211': ['SYN Flag Cnt', 'Active Min', 'Idle Std', 'Flow IAT Mean', 'Bwd IAT Mean', 'Bwd IAT Std', 'Fwd IAT Min', 'Down/Up Ratio', 'Active Mean', 'Active Max'], 'Adv sample 212': ['Active Mean', 'Bwd Pkts/s', 'Flow Pkts/s', 'Active Max', 'Bwd IAT Max', 'Init Bwd Win Byts', 'Fwd IAT Min', 'Bwd IAT Mean', 'Bwd IAT Tot', 'Bwd IAT Std'], 'Adv sample 213': ['Active Mean', 'Bwd IAT Max', 'Init Bwd Win Byts', 'Bwd IAT Mean', 'Active Min', 'Active Max', 'Bwd IAT Tot', 'Fwd IAT Min', 'Pkt Len Mean', 'Flow IAT Std'], 'Adv sample 214': ['ACK Flag Cnt', 'Active Max', 'Init Bwd Win Byts', 'Fwd IAT Min', 'Fwd Seg Size Avg', 'Fwd Pkts/s', 'FIN Flag Cnt', 'Down/Up Ratio', 'Flow IAT Max', 'Pkt Len Std'], 'Adv sample 215': ['SYN Flag Cnt', 'Active Mean', 'Active Max', 'Init Bwd Win Byts', 'Bwd IAT Min', 'Idle Std', 'Fwd Pkt Len Std', 'Fwd Pkt Len Max', 'Fwd Byts/b Avg', 'Down/Up Ratio'], 'Adv sample 216': ['Fwd Byts/b Avg', 'Bwd Pkts/b Avg', 'Bwd IAT Mean', 'Init Bwd Win Byts', 'Active Min', 'Pkt Len Max', 'Bwd Pkt Len Max', 'Idle Max', 'Fwd IAT Min', 'Fwd Pkts/b Avg'], 'Adv sample 217': ['URG Flag Cnt', 'Bwd URG Flags', 'Init Bwd Win Byts', 'Active Max', 'Bwd IAT Min', 'FIN Flag Cnt', 'Active Min', 'Bwd IAT Mean', 'Bwd IAT Tot', 'Down/Up Ratio'], 'Adv sample 218': ['Active Mean', 'Bwd Pkts/s', 'Bwd IAT Max', 'Bwd IAT Tot', 'Fwd Blk Rate Avg', 'Init Bwd Win Byts', 'Flow Pkts/s', 'Bwd IAT Mean', 'Down/Up Ratio', 'Bwd IAT Std'], 'Adv sample 219': ['ACK Flag Cnt', 'FIN Flag Cnt', 'Active Max', 'Init Bwd Win Byts', 'Fwd Seg Size Avg', 'Fwd Header Len', 'Subflow Fwd Byts', 'Fwd Byts/b Avg', 'Pkt Size Avg', 'Flow Pkts/s'], 'Adv sample 220': ['Active Min', 'Idle Std', 'Idle Max', 'Active Mean', 'Init Bwd Win Byts', 'Down/Up Ratio', 'Bwd Blk Rate Avg', 'Bwd Byts/b Avg', 'Bwd IAT Max', 'Bwd IAT Min'], 'Adv sample 221': ['Bwd IAT Min', 'Active Min', 'Bwd IAT Mean', 'Init Bwd Win Byts', 'Active Mean', 'Fwd Byts/b Avg', 'Active Max', 'Bwd Pkts/b Avg', 'Bwd IAT Tot', 'Down/Up Ratio'], 'Adv sample 222': ['Active Mean', 'Active Min', 'Bwd IAT Mean', 'Active Max', 'Idle Std', 'Init Bwd Win Byts', 'Fwd IAT Min', 'Idle Max', 'Bwd IAT Min', 'Bwd Pkts/b Avg'], 'Adv sample 223': ['Active Mean', 'Bwd IAT Mean', 'Active Min', 'Init Bwd Win Byts', 'Bwd IAT Max', 'Bwd IAT Tot', 'Fwd IAT Min', 'Active Max', 'Down/Up Ratio', 'Flow Duration'], 'Adv sample 224': ['SYN Flag Cnt', 'Active Mean', 'Bwd IAT Min', 'Bwd IAT Max', 'Active Max', 'Init Bwd Win Byts', 'Flow IAT Mean', 'Bwd Pkts/b Avg', 'Fwd Blk Rate Avg', 'Bwd Pkt Len Max'], 'Adv sample 225': ['SYN Flag Cnt', 'Active Min', 'Bwd IAT Mean', 'Init Bwd Win Byts', 'Bwd IAT Min', 'Active Mean', 'Bwd IAT Std', 'Fwd Byts/b Avg', 'Idle Std', 'Bwd Pkts/b Avg'], 'Adv sample 226': ['Bwd IAT Max', 'Bwd IAT Mean', 'Active Max', 'Active Mean', 'Init Bwd Win Byts', 'Pkt Size Avg', 'Bwd IAT Tot', 'Subflow Bwd Byts', 'Bwd Pkts/b Avg', 'Pkt Len Std'], 'Adv sample 227': ['Bwd IAT Min', 'Fwd Byts/b Avg', 'Bwd IAT Mean', 'Active Min', 'Active Mean', 'Active Max', 'Init Bwd Win Byts', 'Fwd IAT Min', 'Bwd IAT Max', 'Pkt Len Min'], 'Adv sample 228': ['Bwd IAT Std', 'Bwd Pkts/s', 'Fwd IAT Min', 'Init Bwd Win Byts', 'Fwd Byts/b Avg', 'Flow Pkts/s', 'Flow Duration', 'Tot Fwd Pkts', 'Idle Min', 'TotLen Fwd Pkts'], 'Adv sample 229': ['Active Max', 'Bwd IAT Mean', 'Fwd Byts/b Avg', 'Bwd IAT Max', 'Init Bwd Win Byts', 'Idle Max', 'Fwd IAT Min', 'Bwd Pkts/b Avg', 'Pkt Len Min', 'Bwd IAT Tot'], 'Adv sample 230': ['Bwd IAT Min', 'Active Max', 'Fwd Byts/b Avg', 'Init Bwd Win Byts', 'Bwd IAT Mean', 'Active Mean', 'Fwd Pkts/b Avg', 'Bwd IAT Std', 'Fwd IAT Min', 'Flow IAT Max'], 'Adv sample 231': ['ACK Flag Cnt', 'Init Bwd Win Byts', 'Bwd IAT Min', 'Bwd IAT Max', 'Idle Std', 'Bwd IAT Tot', 'Bwd IAT Mean', 'Bwd IAT Std', 'Active Max', 'Fwd Pkts/s'], 'Adv sample 232': ['Bwd IAT Max', 'Idle Max', 'Init Bwd Win Byts', 'Fwd Byts/b Avg', 'Bwd Pkts/b Avg', 'Down/Up Ratio', 'Bwd Blk Rate Avg', 'Bwd Pkt Len Min', 'Bwd IAT Tot', 'Pkt Len Min'], 'Adv sample 233': ['Active Min', 'Active Mean', 'Active Max', 'Init Bwd Win Byts', 'Bwd IAT Mean', 'Bwd Pkts/b Avg', 'Idle Std', 'Pkt Len Max', 'Subflow Fwd Pkts', 'Fwd Byts/b Avg'], 'Adv sample 234': ['ACK Flag Cnt', 'Active Min', 'Active Mean', 'Active Max', 'Pkt Len Min', 'Init Bwd Win Byts', 'Fwd IAT Min', 'Bwd Pkt Len Min', 'Flow IAT Mean', 'Fwd Pkts/s'], 'Adv sample 235': ['Bwd Pkts/s', 'Bwd IAT Mean', 'Bwd IAT Std', 'Bwd IAT Max', 'Bwd IAT Tot', 'Idle Max', 'Down/Up Ratio', 'Flow Pkts/s', 'Pkt Len Std', 'Idle Mean'], 'Adv sample 236': ['SYN Flag Cnt', 'Active Min', 'Init Bwd Win Byts', 'Bwd IAT Mean', 'Active Max', 'Bwd IAT Min', 'Active Mean', 'Fwd IAT Min', 'Bwd IAT Std', 'Flow IAT Max'], 'Adv sample 237': ['Active Min', 'Active Mean', 'Bwd IAT Mean', 'Init Bwd Win Byts', 'Bwd Pkts/b Avg', 'Fwd Byts/b Avg', 'Idle Max', 'Pkt Len Max', 'Bwd IAT Max', 'Down/Up Ratio'], 'Adv sample 238': ['ACK Flag Cnt', 'FIN Flag Cnt', 'Flow Pkts/s', 'Init Bwd Win Byts', 'Active Max', 'Bwd IAT Min', 'Bwd IAT Std', 'Bwd IAT Mean', 'Fwd Byts/b Avg', 'Bwd Pkt Len Max'], 'Adv sample 239': ['SYN Flag Cnt', 'Bwd IAT Min', 'Init Bwd Win Byts', 'Active Min', 'Active Mean', 'Bwd IAT Std', 'Bwd IAT Max', 'Active Max', 'Fwd Byts/b Avg', 'Flow Pkts/s'], 'Adv sample 240': ['SYN Flag Cnt', 'Bwd IAT Min', 'Init Bwd Win Byts', 'Active Max', 'Fwd Byts/b Avg', 'Active Min', 'Idle Std', 'Active Mean', 'Bwd IAT Std', 'Fwd IAT Min'], 'Adv sample 241': ['Bwd IAT Min', 'Fwd Byts/b Avg', 'Active Mean', 'Active Max', 'Init Bwd Win Byts', 'Bwd IAT Mean', 'Bwd Pkts/b Avg', 'Pkt Len Min', 'Idle Min', 'Fwd IAT Min'], 'Adv sample 242': ['SYN Flag Cnt', 'Bwd IAT Min', 'Idle Std', 'Bwd IAT Mean', 'Active Min', 'Active Max', 'Init Bwd Win Byts', 'Fwd Byts/b Avg', 'Fwd IAT Min', 'FIN Flag Cnt'], 'Adv sample 243': ['Bwd Pkts/s', 'Bwd IAT Mean', 'Flow Pkts/s', 'Init Bwd Win Byts', 'Active Min', 'Down/Up Ratio', 'Idle Std', 'Active Mean', 'Active Max', 'Bwd IAT Std'], 'Adv sample 244': ['Init Bwd Win Byts', 'Bwd IAT Std', 'Idle Std', 'Bwd IAT Min', 'Active Min', 'Active Mean', 'Down/Up Ratio', 'Fwd Byts/b Avg', 'Fwd IAT Min', 'Idle Max'], 'Adv sample 245': ['Active Mean', 'Bwd IAT Mean', 'Bwd IAT Std', 'Init Bwd Win Byts', 'Fwd IAT Min', 'Bwd IAT Min', 'Bwd Pkts/b Avg', 'Pkt Len Min', 'Tot Bwd Pkts', 'Idle Std'], 'Adv sample 246': ['Bwd IAT Mean', 'Active Mean', 'Bwd IAT Tot', 'Init Bwd Win Byts', 'Active Min', 'Bwd IAT Min', 'Active Max', 'Bwd IAT Std', 'Bwd IAT Max', 'Down/Up Ratio'], 'Adv sample 247': ['Fwd Byts/b Avg', 'Active Min', 'Active Mean', 'Bwd Pkts/b Avg', 'Idle Min', 'Init Bwd Win Byts', 'Fwd IAT Min', 'Bwd IAT Max', 'Bwd IAT Mean', 'Pkt Len Mean'], 'Adv sample 248': ['Bwd IAT Std', 'Active Mean', 'Active Min', 'Idle Std', 'Init Bwd Win Byts', 'Bwd IAT Min', 'Active Max', 'Idle Max', 'Down/Up Ratio', 'Fwd IAT Min'], 'Adv sample 249': ['Bwd Pkts/s', 'Init Bwd Win Byts', 'Down/Up Ratio', 'Active Max', 'Active Min', 'Idle Max', 'Active Mean', 'Bwd IAT Std', 'Flow Pkts/s', 'Bwd IAT Max'], 'Adv sample 250': ['Bwd IAT Std', 'Active Max', 'Fwd IAT Min', 'Init Bwd Win Byts', 'Fwd Byts/b Avg', 'Bwd Pkt Len Std', 'Fwd Pkt Len Max', 'Fwd Pkt Len Mean', 'Idle Max', 'FIN Flag Cnt'], 'Adv sample 251': ['SYN Flag Cnt', 'Bwd IAT Min', 'Init Bwd Win Byts', 'Bwd IAT Mean', 'Active Max', 'Active Mean', 'Bwd IAT Max', 'Active Min', 'Bwd IAT Std', 'Fwd Blk Rate Avg'], 'Adv sample 252': ['ACK Flag Cnt', 'Init Bwd Win Byts', 'Fwd Byts/b Avg', 'Idle Max', 'Idle Min', 'Pkt Len Mean', 'Pkt Len Std', 'Pkt Len Max', 'Fwd Pkts/b Avg', 'Bwd Pkt Len Min'], 'Adv sample 253': ['ACK Flag Cnt', 'Init Bwd Win Byts', 'Active Min', 'Bwd IAT Std', 'Idle Min', 'Bwd IAT Min', 'Fwd IAT Mean', 'Bwd IAT Max', 'Fwd Byts/b Avg', 'Bwd IAT Mean'], 'Adv sample 254': ['Active Min', 'Active Mean', 'Bwd IAT Mean', 'Bwd IAT Tot', 'Init Bwd Win Byts', 'Bwd IAT Min', 'Bwd IAT Max', 'Fwd Byts/b Avg', 'Down/Up Ratio', 'Flow IAT Max'], 'Adv sample 255': ['Init Bwd Win Byts', 'Bwd IAT Std', 'Down/Up Ratio', 'Bwd IAT Max', 'Active Min', 'Bwd IAT Min', 'Idle Std', 'Active Mean', 'Bwd IAT Tot', 'Idle Max'], 'Adv sample 256': ['Active Max', 'Init Bwd Win Byts', 'Bwd IAT Std', 'Active Mean', 'Bwd IAT Max', 'Bwd IAT Min', 'Down/Up Ratio', 'Active Min', 'Bwd IAT Mean', 'Fwd Byts/b Avg'], 'Adv sample 257': ['ACK Flag Cnt', 'Bwd IAT Max', 'Bwd IAT Tot', 'Bwd IAT Std', 'Active Min', 'Active Mean', 'Init Bwd Win Byts', 'Flow IAT Mean', 'Bwd IAT Mean', 'Bwd Header Len'], 'Adv sample 258': ['Idle Std', 'Bwd Pkts/b Avg', 'Init Bwd Win Byts', 'Bwd IAT Tot', 'Bwd IAT Mean', 'Bwd IAT Min', 'Bwd Pkt Len Min', 'Subflow Bwd Pkts', 'Down/Up Ratio', 'Fwd IAT Std'], 'Adv sample 259': ['ACK Flag Cnt', 'Bwd IAT Std', 'Bwd IAT Max', 'Active Mean', 'Init Bwd Win Byts', 'Bwd IAT Mean', 'Bwd IAT Tot', 'Active Max', 'Flow IAT Mean', 'Tot Bwd Pkts'], 'Adv sample 260': ['Bwd IAT Mean', 'Idle Std', 'Active Max', 'Init Bwd Win Byts', 'Bwd IAT Std', 'Fwd Byts/b Avg', 'Bwd IAT Tot', 'Bwd IAT Max', 'Bwd IAT Min', 'Pkt Len Min'], 'Adv sample 261': ['Fwd IAT Min', 'Bwd IAT Mean', 'Active Min', 'Active Mean', 'Fwd Byts/b Avg', 'Active Max', 'Init Bwd Win Byts', 'Bwd IAT Std', 'Bwd IAT Tot', 'Pkt Len Min'], 'Adv sample 262': ['ACK Flag Cnt', 'Active Max', 'Fwd IAT Mean', 'Init Bwd Win Byts', 'Fwd Byts/b Avg', 'Flow Pkts/s', 'FIN Flag Cnt', 'Bwd Pkt Len Mean', 'Bwd Pkt Len Std', 'Subflow Bwd Pkts'], 'Adv sample 263': ['Active Mean', 'ACK Flag Cnt', 'Init Bwd Win Byts', 'Active Max', 'FIN Flag Cnt', 'Flow Pkts/s', 'Bwd IAT Max', 'Active Min', 'Fwd IAT Min', 'Bwd IAT Min'], 'Adv sample 264': ['ACK Flag Cnt', 'Active Max', 'Idle Std', 'Bwd PSH Flags', 'Init Bwd Win Byts', 'Bwd IAT Tot', 'Pkt Len Max', 'Bwd IAT Max', 'Fwd Pkt Len Mean', 'Pkt Len Std'], 'Adv sample 265': ['ACK Flag Cnt', 'Active Min', 'Active Max', 'Init Bwd Win Byts', 'Bwd IAT Std', 'Down/Up Ratio', 'Idle Std', 'Active Mean', 'Bwd IAT Tot', 'Flow Duration'], 'Adv sample 266': ['ACK Flag Cnt', 'Active Max', 'Init Bwd Win Byts', 'Idle Std', 'Fwd IAT Min', 'Bwd IAT Mean', 'Bwd IAT Max', 'Fwd Pkt Len Max', 'Active Mean', 'Idle Mean'], 'Adv sample 267': ['SYN Flag Cnt', 'Bwd IAT Min', 'Init Bwd Win Byts', 'Fwd Byts/b Avg', 'Fwd Pkts/b Avg', 'Tot Bwd Pkts', 'Flow IAT Max', 'Subflow Bwd Pkts', 'Bwd Pkt Len Std', 'Pkt Len Min'], 'Adv sample 268': ['Active Mean', 'Bwd IAT Mean', 'Bwd IAT Min', 'Fwd Byts/b Avg', 'Bwd IAT Std', 'Init Bwd Win Byts', 'Fwd IAT Min', 'Bwd Pkts/b Avg', 'Pkt Len Min', 'Bwd IAT Max'], 'Adv sample 269': ['Bwd IAT Mean', 'Active Min', 'Fwd Byts/b Avg', 'Init Bwd Win Byts', 'Active Max', 'Bwd Pkts/b Avg', 'Subflow Fwd Pkts', 'Fwd IAT Min', 'Idle Max', 'Bwd Pkt Len Max'], 'Adv sample 270': ['ACK Flag Cnt', 'Init Bwd Win Byts', 'Bwd IAT Max', 'Bwd IAT Tot', 'Bwd IAT Std', 'Fwd IAT Min', 'Active Min', 'Bwd IAT Mean', 'Bwd IAT Min', 'Subflow Fwd Byts'], 'Adv sample 271': ['URG Flag Cnt', 'Bwd URG Flags', 'PSH Flag Cnt', 'Init Bwd Win Byts', 'Bwd IAT Mean', 'Bwd IAT Tot', 'Fwd IAT Min', 'Bwd PSH Flags', 'Pkt Size Avg', 'Subflow Bwd Pkts'], 'Adv sample 272': ['Active Mean', 'Init Bwd Win Byts', 'Active Max', 'Bwd IAT Min', 'Bwd IAT Mean', 'Bwd Pkts/b Avg', 'Active Min', 'Bwd IAT Std', 'Fwd IAT Min', 'Pkt Len Std'], 'Adv sample 273': ['ACK Flag Cnt', 'FIN Flag Cnt', 'Init Bwd Win Byts', 'Flow Pkts/s', 'Bwd IAT Max', 'Bwd IAT Tot', 'Active Mean', 'Bwd IAT Min', 'Pkt Len Min', 'Subflow Fwd Pkts'], 'Adv sample 274': ['Bwd Pkts/s', 'Active Mean', 'Bwd IAT Mean', 'Flow Pkts/s', 'Init Bwd Win Byts', 'Active Min', 'Bwd IAT Std', 'Bwd IAT Tot', 'Down/Up Ratio', 'Idle Std'], 'Adv sample 275': ['SYN Flag Cnt', 'Bwd IAT Min', 'Active Mean', 'Active Max', 'Init Bwd Win Byts', 'Bwd IAT Std', 'Fwd Byts/b Avg', 'Active Min', 'Bwd IAT Max', 'Bwd Pkt Len Min'], 'Adv sample 276': ['SYN Flag Cnt', 'Active Max', 'Fwd IAT Min', 'Bwd Pkts/b Avg', 'Init Bwd Win Byts', 'Fwd Blk Rate Avg', 'Pkt Len Min', 'Pkt Len Std', 'Pkt Size Avg', 'Fwd Byts/b Avg'], 'Adv sample 277': ['Init Bwd Win Byts', 'Active Max', 'ACK Flag Cnt', 'Active Mean', 'Active Min', 'Idle Std', 'Bwd IAT Max', 'Bwd IAT Mean', 'Fwd IAT Min', 'Bwd IAT Std'], 'Adv sample 278': ['SYN Flag Cnt', 'Active Mean', 'Bwd IAT Min', 'Init Bwd Win Byts', 'Fwd Byts/b Avg', 'Active Min', 'Active Max', 'Fwd Blk Rate Avg', 'Bwd IAT Mean', 'Pkt Len Mean'], 'Adv sample 279': ['Idle Std', 'Init Bwd Win Byts', 'Bwd IAT Min', 'Idle Max', 'Bwd IAT Tot', 'Down/Up Ratio', 'Bwd Pkt Len Mean', 'Flow IAT Std', 'Bwd Pkts/b Avg', 'Pkt Len Std'], 'Adv sample 280': ['Active Min', 'SYN Flag Cnt', 'Active Max', 'Active Mean', 'Fwd IAT Mean', 'Bwd IAT Tot', 'Flow IAT Mean', 'Idle Std', 'Idle Max', 'Fwd IAT Min'], 'Adv sample 281': ['Active Min', 'Bwd IAT Std', 'Bwd IAT Min', 'Bwd IAT Max', 'Init Bwd Win Byts', 'Flow Duration', 'Down/Up Ratio', 'Flow IAT Max', 'Pkt Len Std', 'Subflow Fwd Byts'], 'Adv sample 282': ['Active Mean', 'Bwd IAT Mean', 'Bwd IAT Tot', 'Init Bwd Win Byts', 'Fwd IAT Min', 'Bwd IAT Max', 'Fwd Blk Rate Avg', 'Fwd Pkt Len Std', 'Down/Up Ratio', 'Pkt Len Min'], 'Adv sample 283': ['Active Mean', 'Bwd IAT Mean', 'Fwd IAT Min', 'Bwd IAT Tot', 'Init Bwd Win Byts', 'Fwd Blk Rate Avg', 'Down/Up Ratio', 'Bwd IAT Max', 'Subflow Fwd Byts', 'Pkt Len Min'], 'Adv sample 284': ['Active Max', 'Init Bwd Win Byts', 'Active Min', 'Idle Max', 'Bwd IAT Std', 'Down/Up Ratio', 'Active Mean', 'Idle Min', 'Bwd IAT Mean', 'Idle Mean'], 'Adv sample 285': ['Bwd IAT Max', 'Init Bwd Win Byts', 'Idle Max', 'Down/Up Ratio', 'Bwd IAT Std', 'Fwd Byts/b Avg', 'Idle Min', 'Bwd IAT Tot', 'Pkt Size Avg', 'Pkt Len Mean'], 'Adv sample 286': ['Active Min', 'Bwd IAT Mean', 'Init Bwd Win Byts', 'Pkt Len Min', 'Subflow Bwd Byts', 'Subflow Bwd Pkts', 'Fwd Blk Rate Avg', 'Down/Up Ratio', 'Active Mean', 'Bwd IAT Max'], 'Adv sample 287': ['SYN Flag Cnt', 'Idle Std', 'Init Bwd Win Byts', 'Active Min', 'Active Mean', 'Active Max', 'Bwd IAT Std', 'Bwd IAT Mean', 'Bwd IAT Tot', 'Bwd Pkts/b Avg'], 'Adv sample 288': ['Active Min', 'Active Max', 'Flow Pkts/s', 'Active Mean', 'Bwd Pkts/s', 'Init Bwd Win Byts', 'Bwd IAT Max', 'Bwd IAT Mean', 'Fwd IAT Min', 'Bwd IAT Min'], 'Adv sample 289': ['URG Flag Cnt', 'Bwd URG Flags', 'Fwd IAT Min', 'Init Bwd Win Byts', 'Bwd IAT Std', 'Down/Up Ratio', 'Idle Max', 'Fwd Byts/b Avg', 'PSH Flag Cnt', 'Idle Std'], 'Adv sample 290': ['ACK Flag Cnt', 'Active Mean', 'Init Bwd Win Byts', 'Active Min', 'Fwd IAT Min', 'Bwd IAT Std', 'Bwd IAT Max', 'Fwd Byts/b Avg', 'Flow Duration', 'Active Max'], 'Adv sample 291': ['ACK Flag Cnt', 'Init Bwd Win Byts', 'Active Max', 'Bwd IAT Std', 'Fwd IAT Min', 'Bwd IAT Mean', 'Bwd IAT Min', 'Down/Up Ratio', 'Tot Fwd Pkts', 'Fwd Pkt Len Max'], 'Adv sample 292': ['SYN Flag Cnt', 'Active Min', 'Active Mean', 'Active Max', 'Init Bwd Win Byts', 'Fwd Byts/b Avg', 'Idle Std', 'Bwd IAT Min', 'Fwd IAT Min', 'Bwd IAT Mean'], 'Adv sample 293': ['SYN Flag Cnt', 'Bwd IAT Min', 'Active Mean', 'Active Max', 'Init Bwd Win Byts', 'Fwd Byts/b Avg', 'Flow Pkts/s', 'Fwd IAT Min', 'Fwd Act Data Pkts', 'Pkt Len Var'], 'Adv sample 294': ['ACK Flag Cnt', 'Fwd IAT Min', 'Active Max', 'Init Bwd Win Byts', 'Bwd IAT Std', 'Bwd PSH Flags', 'Bwd IAT Max', 'Active Min', 'Active Mean', 'Pkt Len Max'], 'Adv sample 295': ['Active Mean', 'Active Min', 'Init Bwd Win Byts', 'Bwd IAT Mean', 'Active Max', 'Bwd Pkts/b Avg', 'Down/Up Ratio', 'Bwd IAT Max', 'Fwd Byts/b Avg', 'Bwd Pkt Len Mean'], 'Adv sample 296': ['ACK Flag Cnt', 'Init Bwd Win Byts', 'Bwd IAT Std', 'Bwd IAT Max', 'Fwd IAT Min', 'Active Max', 'Idle Std', 'Bwd Pkt Len Max', 'Bwd IAT Min', 'Fwd Pkt Len Min'], 'Adv sample 297': ['Active Min', 'Active Mean', 'Bwd IAT Mean', 'Init Bwd Win Byts', 'Idle Min', 'Fwd Blk Rate Avg', 'Idle Max', 'Down/Up Ratio', 'Pkt Len Min', 'Idle Std'], 'Adv sample 298': ['ACK Flag Cnt', 'Bwd IAT Max', 'Active Mean', 'Flow IAT Mean', 'Bwd IAT Tot', 'Flow IAT Std', 'Init Bwd Win Byts', 'Fwd IAT Min', 'Active Max', 'Bwd IAT Mean'], 'Adv sample 299': ['Bwd IAT Min', 'Active Min', 'Idle Min', 'Fwd Pkts/b Avg', 'Fwd Byts/b Avg', 'Init Bwd Win Byts', 'Down/Up Ratio', 'Idle Mean', 'Tot Bwd Pkts', 'Fwd Seg Size Avg'], 'Adv sample 300': ['SYN Flag Cnt', 'Active Min', 'Bwd IAT Min', 'Fwd IAT Mean', 'Active Mean', 'Bwd IAT Mean', 'Init Bwd Win Byts', 'Bwd IAT Std', 'Idle Std', 'Pkt Len Min'], 'Adv sample 301': ['SYN Flag Cnt', 'Active Mean', 'Init Bwd Win Byts', 'Bwd IAT Min', 'Idle Std', 'Active Min', 'Bwd IAT Std', 'Active Max', 'Bwd IAT Max', 'Idle Max'], 'Adv sample 302': ['ACK Flag Cnt', 'Active Min', 'Bwd IAT Std', 'Init Bwd Win Byts', 'Bwd Pkts/b Avg', 'Pkt Len Min', 'Pkt Len Std', 'Flow Byts/s', 'Bwd Pkt Len Mean', 'TotLen Fwd Pkts'], 'Adv sample 303': ['Active Max', 'Init Bwd Win Byts', 'Active Mean', 'Idle Std', 'Down/Up Ratio', 'Pkt Len Std', 'Idle Min', 'Pkt Len Min', 'Flow Byts/s', 'ACK Flag Cnt'], 'Adv sample 304': ['ACK Flag Cnt', 'FIN Flag Cnt', 'Init Bwd Win Byts', 'Fwd IAT Min', 'Active Min', 'Flow Pkts/s', 'Bwd IAT Max', 'Active Mean', 'Fwd Byts/b Avg', 'Bwd IAT Std'], 'Adv sample 305': ['ACK Flag Cnt', 'Idle Max', 'Init Bwd Win Byts', 'Fwd IAT Min', 'Bwd Pkts/b Avg', 'Fwd Byts/b Avg', 'Bwd Pkt Len Min', 'Flow IAT Min', 'Down/Up Ratio', 'Pkt Len Mean'], 'Adv sample 306': ['ACK Flag Cnt', 'Active Max', 'Init Bwd Win Byts', 'Fwd Blk Rate Avg', 'Fwd Pkt Len Max', 'Fwd Byts/b Avg', 'Bwd Seg Size Avg', 'Idle Max', 'Pkt Len Mean', 'Pkt Len Var'], 'Adv sample 307': ['Active Mean', 'Bwd IAT Mean', 'Init Bwd Win Byts', 'Active Min', 'Active Max', 'Fwd IAT Min', 'Fwd Byts/b Avg', 'Bwd IAT Min', 'TotLen Bwd Pkts', 'Bwd Pkts/b Avg'], 'Adv sample 308': ['Active Mean', 'Flow Pkts/s', 'Fwd IAT Min', 'Active Min', 'Bwd Pkts/s', 'Init Bwd Win Byts', 'Bwd IAT Max', 'Bwd IAT Mean', 'Down/Up Ratio', 'Pkt Len Max'], 'Adv sample 309': ['Bwd IAT Min', 'Active Max', 'Init Bwd Win Byts', 'Bwd IAT Max', 'Bwd IAT Mean', 'Active Min', 'Fwd Byts/b Avg', 'Bwd IAT Std', 'Active Mean', 'Down/Up Ratio'], 'Adv sample 310': ['Bwd IAT Max', 'Active Max', 'Bwd IAT Std', 'Bwd IAT Min', 'Bwd IAT Mean', 'Init Bwd Win Byts', 'Active Min', 'Fwd Byts/b Avg', 'Active Mean', 'Bwd Pkts/b Avg'], 'Adv sample 311': ['SYN Flag Cnt', 'Init Bwd Win Byts', 'Active Max', 'Active Min', 'Active Mean', 'Bwd IAT Mean', 'Bwd IAT Min', 'Fwd IAT Min', 'Idle Std', 'Bwd IAT Std'], 'Adv sample 312': ['Active Mean', 'Bwd IAT Min', 'Bwd IAT Mean', 'Init Bwd Win Byts', 'Fwd Byts/b Avg', 'Active Min', 'Bwd IAT Max', 'Fwd IAT Min', 'Active Max', 'Bwd IAT Tot'], 'Adv sample 313': ['SYN Flag Cnt', 'Active Min', 'Active Mean', 'Active Max', 'Bwd IAT Std', 'Init Bwd Win Byts', 'Idle Std', 'Bwd IAT Tot', 'Bwd IAT Max', 'Bwd IAT Min'], 'Adv sample 314': ['ACK Flag Cnt', 'Fwd IAT Min', 'FIN Flag Cnt', 'Active Max', 'Init Bwd Win Byts', 'Bwd Pkt Len Mean', 'Fwd Byts/b Avg', 'Flow Pkts/s', 'Bwd Header Len', 'Fwd Pkt Len Mean'], 'Adv sample 315': ['SYN Flag Cnt', 'Active Mean', 'Fwd IAT Mean', 'Active Min', 'Init Bwd Win Byts', 'Bwd IAT Std', 'Idle Std', 'Pkt Len Min', 'Fwd IAT Min', 'Bwd IAT Mean'], 'Adv sample 316': ['ACK Flag Cnt', 'Bwd IAT Min', 'Bwd IAT Std', 'Init Bwd Win Byts', 'Bwd IAT Max', 'Active Mean', 'Flow Pkts/s', 'Flow IAT Mean', 'Bwd IAT Tot', 'Active Max'], 'Adv sample 317': ['Bwd IAT Mean', 'Bwd IAT Tot', 'Init Bwd Win Byts', 'Fwd Byts/b Avg', 'Fwd Blk Rate Avg', 'Down/Up Ratio', 'Pkt Len Mean', 'Flow IAT Min', 'Pkt Size Avg', 'Bwd Seg Size Avg'], 'Adv sample 318': ['Active Mean', 'Bwd IAT Min', 'Active Max', 'Init Bwd Win Byts', 'Active Min', 'Bwd IAT Max', 'Fwd Byts/b Avg', 'Bwd IAT Std', 'Down/Up Ratio', 'Bwd Seg Size Avg'], 'Adv sample 319': ['Active Min', 'Active Mean', 'Bwd IAT Mean', 'Bwd IAT Min', 'Active Max', 'Fwd IAT Min', 'Init Bwd Win Byts', 'Bwd Pkt Len Mean', 'Flow IAT Max', 'Flow Byts/s'], 'Adv sample 320': ['Bwd IAT Min', 'Active Max', 'Fwd Byts/b Avg', 'Bwd IAT Mean', 'Init Bwd Win Byts', 'Down/Up Ratio', 'Bwd Header Len', 'Pkt Len Mean', 'Active Mean', 'Fwd IAT Min'], 'Adv sample 321': ['Active Min', 'Bwd IAT Min', 'Active Max', 'Init Bwd Win Byts', 'Fwd Byts/b Avg', 'Pkt Len Mean', 'Bwd Pkt Len Min', 'Fwd Seg Size Avg', 'Bwd IAT Max', 'Pkt Len Min'], 'Adv sample 322': ['Active Mean', 'Bwd IAT Min', 'Bwd IAT Mean', 'Fwd Byts/b Avg', 'Idle Min', 'Fwd IAT Min', 'Active Max', 'Idle Max', 'Init Bwd Win Byts', 'Bwd Pkts/b Avg'], 'Adv sample 323': ['Active Mean', 'Bwd IAT Min', 'Bwd IAT Mean', 'Fwd IAT Min', 'Bwd IAT Std', 'Active Max', 'Init Bwd Win Byts', 'Idle Std', 'Pkt Len Std', 'Flow Duration'], 'Adv sample 324': ['Active Mean', 'Bwd Pkts/b Avg', 'Bwd IAT Mean', 'Init Bwd Win Byts', 'Active Min', 'Bwd IAT Std', 'Active Max', 'Fwd Byts/b Avg', 'Idle Std', 'Pkt Len Std'], 'Adv sample 325': ['ACK Flag Cnt', 'Init Bwd Win Byts', 'Active Min', 'Fwd IAT Min', 'Bwd IAT Std', 'Bwd IAT Tot', 'Bwd IAT Mean', 'Pkt Len Max', 'Fwd Byts/b Avg', 'Bwd Pkt Len Min'], 'Adv sample 326': ['ACK Flag Cnt', 'Fwd IAT Min', 'Active Max', 'Init Bwd Win Byts', 'Pkt Len Max', 'FIN Flag Cnt', 'Subflow Bwd Pkts', 'Subflow Bwd Byts', 'Down/Up Ratio', 'PSH Flag Cnt'], 'Adv sample 327': ['Active Min', 'Init Bwd Win Byts', 'Bwd IAT Mean', 'Bwd Pkts/b Avg', 'Pkt Size Avg', 'Flow Duration', 'Fwd Byts/b Avg', 'TotLen Bwd Pkts', 'Pkt Len Min', 'Bwd IAT Max'], 'Adv sample 328': ['SYN Flag Cnt', 'Bwd IAT Std', 'Active Min', 'Init Bwd Win Byts', 'Active Mean', 'Bwd IAT Min', 'Idle Std', 'Fwd IAT Min', 'Fwd Blk Rate Avg', 'Fwd Header Len'], 'Adv sample 329': ['Bwd IAT Mean', 'Bwd Pkts/s', 'Flow Pkts/s', 'Bwd IAT Tot', 'Active Mean', 'Active Min', 'Init Bwd Win Byts', 'Active Max', 'Fwd IAT Min', 'Down/Up Ratio'], 'Adv sample 330': ['SYN Flag Cnt', 'Bwd IAT Min', 'Init Bwd Win Byts', 'Active Min', 'Idle Std', 'Bwd IAT Mean', 'Fwd IAT Min', 'Fwd Byts/b Avg', 'Pkt Len Std', 'Flow Pkts/s'], 'Adv sample 331': ['SYN Flag Cnt', 'Init Bwd Win Byts', 'Fwd IAT Min', 'Bwd IAT Mean', 'Fwd Byts/b Avg', 'Active Min', 'Idle Std', 'Bwd Pkts/b Avg', 'Bwd IAT Std', 'Bwd IAT Min'], 'Adv sample 332': ['ACK Flag Cnt', 'Bwd IAT Std', 'Init Bwd Win Byts', 'Bwd IAT Tot', 'Flow IAT Mean', 'Bwd IAT Max', 'Active Max', 'Active Min', 'Idle Std', 'Tot Fwd Pkts'], 'Adv sample 333': ['SYN Flag Cnt', 'Active Mean', 'Active Min', 'Active Max', 'Init Bwd Win Byts', 'Bwd IAT Max', 'Fwd IAT Min', 'Idle Std', 'Pkt Size Avg', 'Pkt Len Mean'], 'Adv sample 334': ['SYN Flag Cnt', 'Active Min', 'Init Bwd Win Byts', 'Bwd IAT Min', 'Fwd IAT Min', 'Active Mean', 'Bwd IAT Std', 'Active Max', 'Fwd Byts/b Avg', 'Idle Std'], 'Adv sample 335': ['Active Min', 'Idle Max', 'Bwd IAT Min', 'Init Bwd Win Byts', 'Bwd IAT Tot', 'Down/Up Ratio', 'Fwd Byts/b Avg', 'Fwd Blk Rate Avg', 'Bwd Pkt Len Min', 'Pkt Len Min'], 'Adv sample 336': ['ACK Flag Cnt', 'Init Bwd Win Byts', 'Bwd IAT Std', 'Bwd IAT Mean', 'Bwd IAT Max', 'Active Min', 'Bwd IAT Min', 'Flow IAT Mean', 'Active Max', 'Bwd IAT Tot'], 'Adv sample 337': ['ACK Flag Cnt', 'Bwd IAT Max', 'Init Bwd Win Byts', 'Bwd IAT Tot', 'Active Mean', 'Active Max', 'Fwd Byts/b Avg', 'Flow IAT Mean', 'Subflow Bwd Pkts', 'Active Min'], 'Adv sample 338': ['Bwd IAT Mean', 'Active Mean', 'Active Max', 'Init Bwd Win Byts', 'Fwd IAT Min', 'Bwd IAT Std', 'Bwd IAT Min', 'Fwd Byts/b Avg', 'Fwd Blk Rate Avg', 'Bwd Pkts/b Avg'], 'Adv sample 339': ['Bwd IAT Mean', 'Bwd IAT Std', 'Fwd Byts/b Avg', 'Init Bwd Win Byts', 'Pkt Len Mean', 'Bwd Seg Size Avg', 'Pkt Len Min', 'Idle Max', 'Subflow Fwd Byts', 'Down/Up Ratio'], 'Adv sample 340': ['SYN Flag Cnt', 'Init Bwd Win Byts', 'Idle Std', 'Active Min', 'Active Mean', 'Bwd IAT Std', 'Bwd IAT Min', 'Bwd IAT Max', 'Bwd IAT Mean', 'Fwd Byts/b Avg'], 'Adv sample 341': ['ACK Flag Cnt', 'Init Bwd Win Byts', 'Bwd IAT Std', 'Active Mean', 'Bwd IAT Mean', 'Bwd IAT Max', 'Active Min', 'Active Max', 'Pkt Len Min', 'Subflow Fwd Pkts'], 'Adv sample 342': ['ACK Flag Cnt', 'Active Mean', 'Init Bwd Win Byts', 'Bwd IAT Mean', 'PSH Flag Cnt', 'Active Max', 'Tot Bwd Pkts', 'Fwd IAT Min', 'Fwd Act Data Pkts', 'Bwd Pkt Len Std'], 'Adv sample 343': ['Bwd IAT Min', 'Init Bwd Win Byts', 'Active Max', 'Bwd IAT Max', 'Bwd IAT Mean', 'Active Min', 'Down/Up Ratio', 'Fwd Byts/b Avg', 'Idle Max', 'Active Mean'], 'Adv sample 344': ['Bwd IAT Max', 'Bwd IAT Mean', 'Init Bwd Win Byts', 'Bwd IAT Tot', 'Fwd Byts/b Avg', 'Idle Std', 'Down/Up Ratio', 'Active Mean', 'Bwd Seg Size Avg', 'Fwd Pkt Len Mean'], 'Adv sample 345': ['Active Mean', 'Active Min', 'Active Max', 'Init Bwd Win Byts', 'Bwd IAT Min', 'Bwd IAT Std', 'Fwd IAT Min', 'Bwd IAT Mean', 'Down/Up Ratio', 'Bwd Pkts/b Avg'], 'Adv sample 346': ['SYN Flag Cnt', 'Bwd IAT Min', 'Init Bwd Win Byts', 'Active Min', 'Bwd IAT Std', 'Idle Std', 'Active Mean', 'Bwd IAT Mean', 'Bwd IAT Max', 'Bwd Pkts/b Avg'], 'Adv sample 347': ['ACK Flag Cnt', 'Bwd IAT Std', 'Active Max', 'Init Bwd Win Byts', 'Fwd IAT Min', 'Active Min', 'Bwd PSH Flags', 'Active Mean', 'Bwd IAT Max', 'Bwd IAT Mean'], 'Adv sample 348': ['Bwd IAT Mean', 'Fwd IAT Min', 'Fwd Byts/b Avg', 'Init Bwd Win Byts', 'Idle Std', 'Bwd IAT Min', 'Bwd Pkts/b Avg', 'Pkt Len Mean', 'Idle Max', 'Pkt Size Avg'], 'Adv sample 349': ['Bwd Pkts/s', 'Fwd IAT Min', 'Active Mean', 'Bwd IAT Max', 'Active Max', 'Idle Mean', 'Init Bwd Win Byts', 'Down/Up Ratio', 'Subflow Bwd Pkts', 'PSH Flag Cnt'], 'Adv sample 350': ['Active Min', 'Active Mean', 'Bwd IAT Mean', 'Active Max', 'Fwd Blk Rate Avg', 'Init Bwd Win Byts', 'Bwd Pkt Len Min', 'Bwd Pkts/s', 'Bwd IAT Std', 'Bwd IAT Max'], 'Adv sample 351': ['SYN Flag Cnt', 'Idle Std', 'Active Max', 'Active Min', 'Bwd IAT Min', 'Active Mean', 'Init Bwd Win Byts', 'Bwd IAT Mean', 'Fwd Byts/b Avg', 'Fwd IAT Min'], 'Adv sample 352': ['SYN Flag Cnt', 'Init Bwd Win Byts', 'Active Min', 'Bwd IAT Mean', 'Bwd IAT Min', 'Fwd IAT Mean', 'Bwd IAT Std', 'Active Max', 'Idle Std', 'Fwd Byts/b Avg'], 'Adv sample 353': ['ACK Flag Cnt', 'Flow IAT Std', 'Init Bwd Win Byts', 'Flow IAT Mean', 'Flow Pkts/s', 'Fwd Byts/b Avg', 'Bwd Pkt Len Std', 'Fwd IAT Mean', 'Active Max', 'Bwd Pkt Len Mean'], 'Adv sample 354': ['SYN Flag Cnt', 'Bwd IAT Mean', 'Init Bwd Win Byts', 'Idle Std', 'Fwd Blk Rate Avg', 'Pkt Len Max', 'Bwd Pkt Len Min', 'Bwd Seg Size Avg', 'Pkt Len Mean', 'Pkt Size Avg'], 'Adv sample 355': ['SYN Flag Cnt', 'Active Max', 'Init Bwd Win Byts', 'Active Mean', 'Idle Std', 'Bwd IAT Std', 'Bwd IAT Mean', 'Active Min', 'Fwd Byts/b Avg', 'Bwd IAT Min'], 'Adv sample 356': ['Active Max', 'Bwd IAT Std', 'Init Bwd Win Byts', 'Active Min', 'Bwd IAT Mean', 'Fwd Byts/b Avg', 'Down/Up Ratio', 'Active Mean', 'Bwd Pkts/b Avg', 'Pkt Len Max'], 'Adv sample 357': ['Active Max', 'Init Bwd Win Byts', 'Active Min', 'Active Mean', 'Down/Up Ratio', 'Bwd IAT Std', 'Idle Std', 'Pkt Len Min', 'Fwd Pkt Len Max', 'Idle Max'], 'Adv sample 358': ['ACK Flag Cnt', 'Bwd IAT Std', 'Active Mean', 'Active Min', 'Bwd IAT Tot', 'Init Bwd Win Byts', 'Active Max', 'Bwd IAT Max', 'Idle Std', 'Flow IAT Mean'], 'Adv sample 359': ['SYN Flag Cnt', 'Bwd IAT Mean', 'Idle Std', 'Init Bwd Win Byts', 'Fwd Byts/b Avg', 'Bwd Pkts/b Avg', 'Pkt Len Min', 'Subflow Bwd Pkts', 'Active Max', 'TotLen Fwd Pkts'], 'Adv sample 360': ['Active Min', 'Active Mean', 'Init Bwd Win Byts', 'Bwd IAT Mean', 'Active Max', 'Bwd IAT Std', 'Bwd Pkts/b Avg', 'Down/Up Ratio', 'Bwd IAT Tot', 'Idle Max'], 'Adv sample 361': ['ACK Flag Cnt', 'Active Max', 'Init Bwd Win Byts', 'FIN Flag Cnt', 'Down/Up Ratio', 'Fwd IAT Min', 'Bwd Pkt Len Max', 'Flow Duration', 'Subflow Bwd Byts', 'Bwd Pkt Len Min'], 'Adv sample 362': ['SYN Flag Cnt', 'Init Bwd Win Byts', 'Active Max', 'Fwd Byts/b Avg', 'Bwd IAT Mean', 'Bwd IAT Min', 'Fwd Pkt Len Mean', 'Bwd Pkts/b Avg', 'Bwd Pkt Len Std', 'Tot Bwd Pkts'], 'Adv sample 363': ['ACK Flag Cnt', 'FIN Flag Cnt', 'Init Bwd Win Byts', 'Flow Pkts/s', 'Active Mean', 'Active Min', 'Bwd IAT Min', 'Bwd IAT Max', 'Fwd Pkts/b Avg', 'Bwd Seg Size Avg'], 'Adv sample 364': ['ACK Flag Cnt', 'Active Mean', 'Active Min', 'Bwd IAT Min', 'Flow IAT Std', 'Bwd IAT Max', 'Active Max', 'Init Bwd Win Byts', 'Pkt Len Max', 'Flow Pkts/s'], 'Adv sample 365': ['Bwd Pkts/s', 'Bwd IAT Max', 'Flow Pkts/s', 'Bwd IAT Mean', 'Idle Max', 'Init Bwd Win Byts', 'Active Min', 'Bwd IAT Tot', 'Down/Up Ratio', 'Idle Min'], 'Adv sample 366': ['SYN Flag Cnt', 'Init Bwd Win Byts', 'Idle Std', 'Active Min', 'Active Mean', 'Fwd Byts/b Avg', 'Active Max', 'Bwd IAT Std', 'Fwd IAT Mean', 'Bwd IAT Max'], 'Adv sample 367': ['URG Flag Cnt', 'Bwd URG Flags', 'Bwd IAT Max', 'Idle Std', 'Fwd IAT Min', 'PSH Flag Cnt', 'FIN Flag Cnt', 'Init Bwd Win Byts', 'Down/Up Ratio', 'Pkt Len Mean'], 'Adv sample 368': ['SYN Flag Cnt', 'Bwd IAT Mean', 'Fwd IAT Min', 'Init Bwd Win Byts', 'Fwd Blk Rate Avg', 'Bwd Pkts/b Avg', 'Idle Std', 'Pkt Len Std', 'Pkt Len Max', 'Pkt Size Avg'], 'Adv sample 369': ['ACK Flag Cnt', 'Bwd IAT Tot', 'Bwd IAT Max', 'Bwd IAT Std', 'Init Bwd Win Byts', 'Flow IAT Std', 'Bwd Pkt Len Mean', 'Bwd Seg Size Avg', 'TotLen Bwd Pkts', 'Fwd IAT Min'], 'Adv sample 370': ['Bwd IAT Min', 'Bwd IAT Mean', 'Active Min', 'Active Max', 'Init Bwd Win Byts', 'Active Mean', 'Fwd Byts/b Avg', 'Bwd IAT Max', 'Fwd IAT Min', 'Tot Bwd Pkts'], 'Adv sample 371': ['Bwd Pkts/s', 'Bwd IAT Mean', 'Bwd IAT Min', 'Fwd IAT Min', 'Init Bwd Win Byts', 'Flow Pkts/s', 'Bwd Pkt Len Min', 'Pkt Size Avg', 'TotLen Bwd Pkts', 'Idle Max'], 'Adv sample 372': ['Init Bwd Win Byts', 'Bwd Pkts/s', 'Bwd IAT Mean', 'Bwd IAT Std', 'Active Mean', 'Active Min', 'Active Max', 'Bwd IAT Max', 'Down/Up Ratio', 'Idle Max'], 'Adv sample 373': ['Active Mean', 'Bwd IAT Std', 'Active Min', 'Bwd IAT Mean', 'Init Bwd Win Byts', 'Bwd IAT Min', 'Active Max', 'Fwd Byts/b Avg', 'Idle Min', 'Down/Up Ratio'], 'Adv sample 374': ['Active Mean', 'Active Min', 'Active Max', 'Init Bwd Win Byts', 'Bwd IAT Mean', 'Bwd IAT Max', 'Idle Max', 'Idle Min', 'Flow Duration', 'Idle Std'], 'Adv sample 375': ['Init Bwd Win Byts', 'Bwd Pkts/b Avg', 'Idle Std', 'Active Mean', 'Active Min', 'Bwd IAT Std', 'Bwd IAT Mean', 'Active Max', 'Fwd Byts/b Avg', 'Down/Up Ratio'], 'Adv sample 376': ['Fwd IAT Min', 'Active Max', 'Active Min', 'Idle Std', 'Bwd IAT Mean', 'Bwd IAT Tot', 'Active Mean', 'Init Bwd Win Byts', 'Fwd Byts/b Avg', 'Bwd IAT Std'], 'Adv sample 377': ['Bwd IAT Min', 'Active Min', 'Bwd IAT Max', 'Bwd IAT Tot', 'Active Mean', 'Active Max', 'Init Bwd Win Byts', 'Bwd IAT Mean', 'Fwd Pkt Len Std', 'Pkt Len Min'], 'Adv sample 378': ['Bwd IAT Mean', 'Bwd Pkts/b Avg', 'Fwd IAT Min', 'Init Bwd Win Byts', 'Fwd Blk Rate Avg', 'Pkt Len Mean', 'Subflow Bwd Byts', 'Pkt Size Avg', 'Bwd Pkt Len Mean', 'PSH Flag Cnt'], 'Adv sample 379': ['SYN Flag Cnt', 'Active Max', 'Init Bwd Win Byts', 'Down/Up Ratio', 'Fwd Pkt Len Mean', 'Subflow Bwd Byts', 'Pkt Len Max', 'TotLen Fwd Pkts', 'Fwd Header Len', 'Fwd IAT Min'], 'Adv sample 380': ['Bwd IAT Mean', 'Bwd IAT Min', 'Fwd Pkts/b Avg', 'Active Min', 'Bwd IAT Tot', 'Fwd Blk Rate Avg', 'Bwd Pkts/b Avg', 'Init Bwd Win Byts', 'Active Max', 'Pkt Len Max'], 'Adv sample 381': ['Active Min', 'Flow Pkts/s', 'Bwd Pkts/s', 'Bwd IAT Mean', 'Bwd IAT Max', 'Init Bwd Win Byts', 'Fwd IAT Min', 'Idle Std', 'Down/Up Ratio', 'Active Mean'], 'Adv sample 382': ['ACK Flag Cnt', 'Bwd IAT Min', 'Flow IAT Std', 'Init Bwd Win Byts', 'Bwd IAT Tot', 'Fwd Byts/b Avg', 'Fwd IAT Min', 'Flow IAT Mean', 'Pkt Len Mean', 'Bwd Pkt Len Std'], 'Adv sample 383': ['SYN Flag Cnt', 'Init Bwd Win Byts', 'Fwd Byts/b Avg', 'Active Mean', 'Bwd IAT Std', 'Active Max', 'Idle Max', 'Bwd IAT Mean', 'Bwd IAT Min', 'Idle Std'], 'Adv sample 384': ['SYN Flag Cnt', 'Init Bwd Win Byts', 'Active Min', 'Fwd IAT Mean', 'Bwd IAT Std', 'Fwd Byts/b Avg', 'Active Mean', 'Active Max', 'Bwd IAT Max', 'Fwd IAT Min'], 'Adv sample 385': ['Active Min', 'Bwd IAT Tot', 'Init Bwd Win Byts', 'Down/Up Ratio', 'Bwd IAT Std', 'Bwd IAT Mean', 'Active Mean', 'Active Max', 'Bwd IAT Max', 'Idle Max'], 'Adv sample 386': ['ACK Flag Cnt', 'Bwd IAT Max', 'Init Bwd Win Byts', 'Bwd IAT Tot', 'Fwd Act Data Pkts', 'Fwd Seg Size Avg', 'Tot Fwd Pkts', 'Pkt Len Mean', 'Active Mean', 'Pkt Len Std'], 'Adv sample 387': ['SYN Flag Cnt', 'Init Bwd Win Byts', 'Active Max', 'Active Min', 'Fwd IAT Mean', 'Active Mean', 'Bwd IAT Max', 'Bwd IAT Std', 'Pkt Size Avg', 'Fwd IAT Min'], 'Adv sample 388': ['ACK Flag Cnt', 'Active Mean', 'Active Max', 'Init Bwd Win Byts', 'Flow IAT Mean', 'Active Min', 'Bwd IAT Min', 'Tot Fwd Pkts', 'Pkt Len Std', 'Flow IAT Min'], 'Adv sample 389': ['Bwd Pkts/s', 'Flow Pkts/s', 'Bwd IAT Min', 'Bwd IAT Std', 'Bwd IAT Mean', 'Init Bwd Win Byts', 'Active Min', 'Down/Up Ratio', 'Active Max', 'Bwd IAT Max'], 'Adv sample 390': ['ACK Flag Cnt', 'Bwd IAT Min', 'Init Bwd Win Byts', 'Bwd IAT Std', 'Bwd IAT Tot', 'Fwd Byts/b Avg', 'Flow Pkts/s', 'Flow IAT Std', 'Bwd IAT Max', 'Flow IAT Mean'], 'Adv sample 391': ['Active Mean', 'Bwd Pkts/s', 'Bwd IAT Mean', 'Bwd IAT Min', 'Init Bwd Win Byts', 'Flow Pkts/s', 'Active Max', 'Idle Std', 'Down/Up Ratio', 'Fwd IAT Min'], 'Adv sample 392': ['SYN Flag Cnt', 'Fwd Byts/b Avg', 'Init Bwd Win Byts', 'Bwd Pkt Len Max', 'Fwd Pkt Len Max', 'Tot Fwd Pkts', 'Pkt Len Min', 'Fwd Pkt Len Mean', 'Bwd Pkt Len Mean', 'Pkt Size Avg'], 'Adv sample 393': ['SYN Flag Cnt', 'Active Mean', 'Active Max', 'Fwd IAT Min', 'Fwd Byts/b Avg', 'Init Bwd Win Byts', 'Fwd Pkt Len Max', 'Bwd Byts/b Avg', 'TotLen Bwd Pkts', 'Bwd IAT Std'], 'Adv sample 394': ['Active Mean', 'Fwd IAT Min', 'Init Bwd Win Byts', 'Fwd Byts/b Avg', 'Bwd Pkts/b Avg', 'Bwd IAT Mean', 'Idle Max', 'Idle Mean', 'Pkt Len Min', 'Tot Fwd Pkts'], 'Adv sample 395': ['ACK Flag Cnt', 'Active Max', 'Init Bwd Win Byts', 'Flow Pkts/s', 'Fwd IAT Min', 'Bwd IAT Std', 'FIN Flag Cnt', 'Active Min', 'Active Mean', 'Bwd IAT Max'], 'Adv sample 396': ['Active Min', 'Bwd IAT Std', 'Init Bwd Win Byts', 'Bwd IAT Mean', 'Fwd IAT Min', 'Active Mean', 'Pkt Len Std', 'Active Max', 'Fwd Byts/b Avg', 'Pkt Len Max'], 'Adv sample 397': ['SYN Flag Cnt', 'Active Min', 'Active Max', 'Bwd IAT Std', 'Init Bwd Win Byts', 'Active Mean', 'Idle Std', 'Fwd IAT Min', 'Fwd Byts/b Avg', 'Pkt Len Std'], 'Adv sample 398': ['SYN Flag Cnt', 'Active Max', 'Bwd IAT Mean', 'Bwd IAT Max', 'Init Bwd Win Byts', 'Idle Std', 'Bwd Pkts/b Avg', 'Fwd Byts/b Avg', 'Active Min', 'Fwd Blk Rate Avg'], 'Adv sample 399': ['Bwd Pkts/s', 'Flow Pkts/s', 'Bwd IAT Max', 'Init Bwd Win Byts', 'Down/Up Ratio', 'Active Min', 'Bwd IAT Mean', 'Bwd IAT Std', 'Active Mean', 'Bwd IAT Min'], 'Adv sample 400': ['Bwd IAT Std', 'Init Bwd Win Byts', 'Active Max', 'Active Mean', 'Idle Std', 'Bwd IAT Min', 'Bwd IAT Max', 'Active Min', 'Fwd Byts/b Avg', 'Idle Min'], 'Adv sample 401': ['SYN Flag Cnt', 'Active Min', 'Init Bwd Win Byts', 'Active Max', 'Bwd IAT Std', 'Bwd IAT Mean', 'Fwd IAT Min', 'Active Mean', 'Fwd Byts/b Avg', 'Fwd IAT Mean'], 'Adv sample 402': ['Bwd IAT Min', 'Active Mean', 'Init Bwd Win Byts', 'Active Min', 'Bwd IAT Mean', 'Active Max', 'Fwd Byts/b Avg', 'Fwd IAT Min', 'Idle Mean', 'Bwd Pkts/b Avg'], 'Adv sample 403': ['Active Min', 'Bwd IAT Mean', 'Active Mean', 'Bwd IAT Tot', 'Init Bwd Win Byts', 'Bwd IAT Max', 'Active Max', 'Bwd Pkts/b Avg', 'Pkt Len Mean', 'Down/Up Ratio'], 'Adv sample 404': ['Bwd Pkts/s', 'Active Min', 'Bwd IAT Mean', 'Flow Pkts/s', 'Idle Std', 'Active Mean', 'Active Max', 'Fwd Blk Rate Avg', 'Fwd IAT Min', 'Flow IAT Max'], 'Adv sample 405': ['SYN Flag Cnt', 'Bwd IAT Mean', 'Active Min', 'Bwd IAT Min', 'Init Bwd Win Byts', 'Active Mean', 'Fwd Byts/b Avg', 'Idle Std', 'Bwd Pkts/b Avg', 'Fwd Blk Rate Avg'], 'Adv sample 406': ['ACK Flag Cnt', 'Bwd IAT Max', 'Active Min', 'Active Max', 'Init Bwd Win Byts', 'Fwd Pkt Len Mean', 'Subflow Bwd Byts', 'Fwd Pkt Len Std', 'Flow Pkts/s', 'Bwd IAT Min'], 'Adv sample 407': ['ACK Flag Cnt', 'FIN Flag Cnt', 'Active Mean', 'Bwd IAT Mean', 'Init Bwd Win Byts', 'Fwd IAT Min', 'Fwd IAT Mean', 'Fwd Byts/b Avg', 'Flow Pkts/s', 'Pkt Len Min'], 'Adv sample 408': ['SYN Flag Cnt', 'Active Min', 'Bwd IAT Mean', 'Active Mean', 'Bwd IAT Tot', 'Init Bwd Win Byts', 'Bwd IAT Min', 'Bwd Pkts/b Avg', 'Fwd IAT Min', 'Flow IAT Max'], 'Adv sample 409': ['Active Min', 'Init Bwd Win Byts', 'Bwd IAT Min', 'Active Mean', 'Bwd IAT Max', 'Fwd Byts/b Avg', 'Fwd Blk Rate Avg', 'Bwd IAT Std', 'Fwd Act Data Pkts', 'Bwd Pkts/b Avg'], 'Adv sample 410': ['Active Mean', 'Bwd IAT Mean', 'Active Min', 'Init Bwd Win Byts', 'Fwd Byts/b Avg', 'Bwd Pkts/b Avg', 'Active Max', 'Pkt Len Mean', 'Idle Mean', 'Pkt Size Avg'], 'Adv sample 411': ['SYN Flag Cnt', 'Active Mean', 'Fwd IAT Min', 'Active Max', 'Init Bwd Win Byts', 'Bwd IAT Min', 'Idle Std', 'Bwd IAT Max', 'Fwd Byts/b Avg', 'Bwd Pkts/b Avg'], 'Adv sample 412': ['SYN Flag Cnt', 'Bwd IAT Min', 'Init Bwd Win Byts', 'Bwd IAT Tot', 'Flow IAT Max', 'Fwd Pkt Len Mean', 'Subflow Fwd Pkts', 'Tot Bwd Pkts', 'Bwd Pkt Len Std', 'Pkt Len Min'], 'Adv sample 413': ['Active Mean', 'FIN Flag Cnt', 'Bwd IAT Max', 'Init Bwd Win Byts', 'Down/Up Ratio', 'Bwd IAT Tot', 'Bwd IAT Std', 'Fwd Act Data Pkts', 'Idle Std', 'Bwd IAT Min'], 'Adv sample 414': ['Init Bwd Win Byts', 'SYN Flag Cnt', 'Bwd IAT Std', 'Active Min', 'Active Max', 'Active Mean', 'Down/Up Ratio', 'Bwd IAT Tot', 'Pkt Len Min', 'Fwd IAT Max'], 'Adv sample 415': ['ACK Flag Cnt', 'Active Mean', 'Flow IAT Std', 'Flow IAT Mean', 'Active Min', 'Init Bwd Win Byts', 'Active Max', 'Pkt Len Max', 'Bwd Pkt Len Mean', 'Bwd Pkt Len Min'], 'Adv sample 416': ['SYN Flag Cnt', 'Bwd Pkts/b Avg', 'Init Bwd Win Byts', 'Idle Max', 'Fwd Byts/b Avg', 'Bwd IAT Min', 'Bwd IAT Mean', 'Bwd Seg Size Avg', 'Pkt Len Std', 'Fwd Seg Size Avg'], 'Adv sample 417': ['Bwd Pkts/s', 'Bwd IAT Mean', 'Active Mean', 'Init Bwd Win Byts', 'Flow Pkts/s', 'Fwd IAT Min', 'Idle Max', 'Fwd Blk Rate Avg', 'Down/Up Ratio', 'Flow Duration'], 'Adv sample 418': ['Bwd IAT Min', 'Active Mean', 'Active Max', 'Init Bwd Win Byts', 'Active Min', 'Bwd IAT Max', 'Fwd Byts/b Avg', 'Bwd IAT Mean', 'Bwd IAT Tot', 'Fwd Pkt Len Max'], 'Adv sample 419': ['SYN Flag Cnt', 'Init Bwd Win Byts', 'Active Min', 'Bwd IAT Max', 'Fwd IAT Min', 'Bwd IAT Std', 'Flow IAT Max', 'Flow IAT Mean', 'Bwd IAT Tot', 'Fwd Act Data Pkts'], 'Adv sample 420': ['ACK Flag Cnt', 'FIN Flag Cnt', 'Active Mean', 'Init Bwd Win Byts', 'Active Max', 'Fwd Byts/b Avg', 'Down/Up Ratio', 'Active Min', 'Fwd IAT Min', 'Pkt Size Avg'], 'Adv sample 421': ['Bwd Pkts/s', 'Flow Pkts/s', 'Active Min', 'Active Max', 'Bwd IAT Max', 'Init Bwd Win Byts', 'Bwd IAT Mean', 'Bwd IAT Tot', 'Fwd IAT Min', 'Down/Up Ratio'], 'Adv sample 422': ['SYN Flag Cnt', 'Init Bwd Win Byts', 'Idle Std', 'Fwd Byts/b Avg', 'TotLen Bwd Pkts', 'Subflow Fwd Byts', 'Fwd IAT Min', 'Bwd IAT Min', 'Bwd Header Len', 'Fwd Blk Rate Avg'], 'Adv sample 423': ['SYN Flag Cnt', 'Active Min', 'Active Mean', 'Init Bwd Win Byts', 'Bwd IAT Mean', 'Fwd Byts/b Avg', 'Flow IAT Max', 'Bwd Header Len', 'Pkt Len Mean', 'Pkt Len Min'], 'Adv sample 424': ['SYN Flag Cnt', 'Idle Std', 'Init Bwd Win Byts', 'Bwd Byts/b Avg', 'Fwd Byts/b Avg', 'Pkt Len Max', 'Tot Bwd Pkts', 'Subflow Bwd Byts', 'Down/Up Ratio', 'Flow IAT Max'], 'Adv sample 425': ['Active Mean', 'Bwd IAT Mean', 'Fwd Byts/b Avg', 'Init Bwd Win Byts', 'Idle Max', 'Bwd Pkts/b Avg', 'Idle Min', 'Flow IAT Max', 'Idle Std', 'Pkt Size Avg'], 'Adv sample 426': ['Bwd IAT Mean', 'Init Bwd Win Byts', 'Active Max', 'Bwd IAT Min', 'Down/Up Ratio', 'Fwd Blk Rate Avg', 'Idle Max', 'Pkt Len Std', 'Pkt Len Mean', 'Fwd Pkt Len Mean'], 'Adv sample 427': ['ACK Flag Cnt', 'Active Max', 'Active Min', 'Fwd Pkt Len Mean', 'Bwd IAT Std', 'Init Bwd Win Byts', 'Bwd IAT Mean', 'Fwd IAT Min', 'Pkt Len Mean', 'Active Mean'], 'Adv sample 428': ['ACK Flag Cnt', 'Active Mean', 'Fwd IAT Min', 'Init Bwd Win Byts', 'Bwd Pkt Len Mean', 'Fwd Byts/b Avg', 'Active Max', 'Tot Fwd Pkts', 'Flow IAT Mean', 'Bwd Pkt Len Std'], 'Adv sample 429': ['URG Flag Cnt', 'Bwd URG Flags', 'Active Mean', 'Down/Up Ratio', 'Init Bwd Win Byts', 'Bwd IAT Mean', 'Active Max', 'PSH Flag Cnt', 'Bwd IAT Tot', 'FIN Flag Cnt'], 'Adv sample 430': ['Bwd IAT Min', 'Active Min', 'Fwd Byts/b Avg', 'Init Bwd Win Byts', 'Active Mean', 'Bwd IAT Mean', 'Bwd IAT Max', 'Fwd IAT Min', 'Bwd Pkt Len Mean', 'Down/Up Ratio'], 'Adv sample 431': ['Active Mean', 'Bwd IAT Min', 'Fwd Byts/b Avg', 'Idle Min', 'Fwd IAT Min', 'Bwd Seg Size Avg', 'Init Bwd Win Byts', 'Bwd Pkts/b Avg', 'Bwd Pkt Len Mean', 'Pkt Len Min'], 'Adv sample 432': ['SYN Flag Cnt', 'Bwd IAT Std', 'Bwd IAT Mean', 'Idle Std', 'Init Bwd Win Byts', 'Bwd IAT Min', 'Subflow Bwd Byts', 'Bwd Pkt Len Min', 'Bwd Header Len', 'Pkt Len Var'], 'Adv sample 433': ['ACK Flag Cnt', 'Fwd IAT Mean', 'FIN Flag Cnt', 'Init Bwd Win Byts', 'Active Mean', 'Active Min', 'Bwd IAT Min', 'Flow Byts/s', 'Down/Up Ratio', 'Fwd Byts/b Avg'], 'Adv sample 434': ['Active Mean', 'Bwd IAT Mean', 'Bwd IAT Max', 'Bwd IAT Tot', 'Fwd IAT Min', 'Init Bwd Win Byts', 'Pkt Len Max', 'Fwd Blk Rate Avg', 'Down/Up Ratio', 'Idle Std'], 'Adv sample 435': ['ACK Flag Cnt', 'Fwd IAT Min', 'Init Bwd Win Byts', 'Active Max', 'Idle Min', 'Fwd IAT Mean', 'Fwd Pkt Len Std', 'Flow Pkts/s', 'Fwd Byts/b Avg', 'Pkt Size Avg'], 'Adv sample 436': ['SYN Flag Cnt', 'Bwd IAT Mean', 'Bwd IAT Min', 'Init Bwd Win Byts', 'Flow Pkts/s', 'Fwd Byts/b Avg', 'Fwd IAT Mean', 'Flow IAT Min', 'Pkt Len Min', 'Bwd Pkts/s'], 'Adv sample 437': ['Bwd IAT Min', 'Init Bwd Win Byts', 'Bwd IAT Tot', 'Bwd IAT Mean', 'Active Min', 'Down/Up Ratio', 'Active Max', 'Bwd IAT Std', 'Active Mean', 'Bwd IAT Max'], 'Adv sample 438': ['SYN Flag Cnt', 'Active Min', 'Bwd IAT Min', 'Bwd IAT Mean', 'Init Bwd Win Byts', 'Down/Up Ratio', 'Bwd IAT Tot', 'Idle Std', 'TotLen Fwd Pkts', 'Subflow Bwd Pkts'], 'Adv sample 439': ['Bwd IAT Mean', 'Active Mean', 'Bwd IAT Max', 'Init Bwd Win Byts', 'Active Max', 'Idle Mean', 'Idle Std', 'Flow Duration', 'Fwd IAT Min', 'Pkt Size Avg'], 'Adv sample 440': ['Idle Std', 'Active Mean', 'Init Bwd Win Byts', 'Active Max', 'Active Min', 'Bwd IAT Std', 'Fwd Byts/b Avg', 'Flow IAT Max', 'Bwd IAT Mean', 'Bwd Pkts/b Avg'], 'Adv sample 441': ['Bwd Pkts/s', 'Flow Pkts/s', 'Bwd IAT Mean', 'Bwd IAT Std', 'Init Bwd Win Byts', 'Bwd IAT Max', 'Bwd IAT Tot', 'Down/Up Ratio', 'Idle Std', 'Bwd IAT Min'], 'Adv sample 442': ['ACK Flag Cnt', 'Bwd IAT Tot', 'Bwd IAT Max', 'Bwd IAT Std', 'Init Bwd Win Byts', 'Bwd IAT Min', 'Active Min', 'Flow IAT Mean', 'Bwd IAT Mean', 'Active Max'], 'Adv sample 443': ['Active Min', 'Active Mean', 'Bwd IAT Min', 'Active Max', 'Init Bwd Win Byts', 'Fwd IAT Min', 'Bwd IAT Max', 'Bwd IAT Std', 'Bwd IAT Mean', 'Idle Max'], 'Adv sample 444': ['ACK Flag Cnt', 'Bwd IAT Tot', 'Init Bwd Win Byts', 'Flow IAT Std', 'Active Mean', 'Flow IAT Mean', 'Bwd IAT Max', 'Bwd IAT Min', 'Active Min', 'Subflow Fwd Pkts'], 'Adv sample 445': ['ACK Flag Cnt', 'Init Bwd Win Byts', 'Bwd IAT Std', 'Active Min', 'Fwd IAT Min', 'Active Mean', 'Bwd IAT Max', 'Bwd PSH Flags', 'Bwd Pkt Len Mean', 'Active Max'], 'Adv sample 446': ['ACK Flag Cnt', 'Active Max', 'Init Bwd Win Byts', 'Bwd IAT Tot', 'Fwd Byts/b Avg', 'Fwd IAT Min', 'Pkt Len Mean', 'Fwd Pkt Len Mean', 'Flow Byts/s', 'Flow IAT Max'], 'Adv sample 447': ['ACK Flag Cnt', 'Init Bwd Win Byts', 'Bwd IAT Max', 'Bwd IAT Mean', 'Fwd Byts/b Avg', 'Down/Up Ratio', 'Pkt Size Avg', 'Fwd IAT Mean', 'Flow Pkts/s', 'Pkt Len Mean'], 'Adv sample 448': ['ACK Flag Cnt', 'Active Min', 'Init Bwd Win Byts', 'Active Max', 'Fwd IAT Min', 'Bwd IAT Std', 'Fwd Pkts/s', 'Active Mean', 'TotLen Bwd Pkts', 'Bwd IAT Max'], 'Adv sample 449': ['Active Max', 'Bwd IAT Mean', 'Active Min', 'Fwd Byts/b Avg', 'Idle Min', 'Bwd IAT Min', 'Bwd IAT Max', 'Init Bwd Win Byts', 'Fwd IAT Min', 'Fwd Act Data Pkts'], 'Adv sample 450': ['ACK Flag Cnt', 'Active Max', 'Active Mean', 'Init Bwd Win Byts', 'Idle Std', 'Bwd IAT Tot', 'Bwd IAT Std', 'Active Min', 'Down/Up Ratio', 'Bwd IAT Max'], 'Adv sample 451': ['Bwd IAT Mean', 'Fwd IAT Min', 'Fwd Byts/b Avg', 'Bwd Pkts/b Avg', 'Init Bwd Win Byts', 'Active Mean', 'Idle Std', 'Pkt Len Std', 'Pkt Size Avg', 'Pkt Len Max'], 'Adv sample 452': ['SYN Flag Cnt', 'Idle Std', 'Bwd IAT Min', 'Init Bwd Win Byts', 'Fwd Byts/b Avg', 'Fwd IAT Min', 'Bwd IAT Tot', 'Subflow Bwd Byts', 'Flow IAT Mean', 'Fwd Pkt Len Mean'], 'Adv sample 453': ['Active Min', 'Bwd IAT Min', 'Bwd IAT Mean', 'Active Mean', 'Bwd IAT Max', 'Init Bwd Win Byts', 'Bwd IAT Tot', 'Down/Up Ratio', 'Fwd Pkt Len Mean', 'Fwd Byts/b Avg'], 'Adv sample 454': ['Bwd IAT Mean', 'Bwd IAT Min', 'Init Bwd Win Byts', 'Active Min', 'Bwd IAT Std', 'Active Mean', 'Fwd Byts/b Avg', 'Active Max', 'Bwd Pkts/b Avg', 'Bwd IAT Max'], 'Adv sample 455': ['Bwd IAT Std', 'Active Max', 'Bwd IAT Mean', 'Active Min', 'Fwd Byts/b Avg', 'Active Mean', 'Bwd IAT Max', 'Flow Pkts/s', 'Init Bwd Win Byts', 'Bwd Pkts/s'], 'Adv sample 456': ['Bwd IAT Max', 'Active Max', 'Active Mean', 'Fwd Byts/b Avg', 'Init Bwd Win Byts', 'Fwd Pkts/s', 'Bwd IAT Tot', 'Subflow Fwd Byts', 'Fwd Seg Size Avg', 'Pkt Len Mean'], 'Adv sample 457': ['ACK Flag Cnt', 'FIN Flag Cnt', 'Init Bwd Win Byts', 'Active Max', 'Bwd IAT Tot', 'Flow Pkts/s', 'Pkt Len Max', 'Fwd IAT Min', 'Subflow Bwd Pkts', 'Pkt Len Mean'], 'Adv sample 458': ['Bwd IAT Mean', 'Active Mean', 'Init Bwd Win Byts', 'Active Min', 'Active Max', 'Idle Std', 'Bwd IAT Std', 'Fwd IAT Min', 'Bwd IAT Tot', 'Bwd Pkts/b Avg'], 'Adv sample 459': ['Bwd IAT Mean', 'Active Min', 'Active Mean', 'Active Max', 'Init Bwd Win Byts', 'Bwd Pkts/b Avg', 'Bwd IAT Max', 'Flow IAT Std', 'Bwd IAT Std', 'Pkt Len Mean'], 'Adv sample 460': ['ACK Flag Cnt', 'Active Mean', 'Active Max', 'Init Bwd Win Byts', 'Fwd IAT Min', 'Active Min', 'FIN Flag Cnt', 'Flow Pkts/s', 'Bwd IAT Max', 'Pkt Len Var'], 'Adv sample 461': ['Bwd Pkts/s', 'Bwd IAT Std', 'Flow Pkts/s', 'Bwd IAT Max', 'Active Mean', 'Init Bwd Win Byts', 'Bwd IAT Mean', 'Active Min', 'Down/Up Ratio', 'Bwd IAT Min'], 'Adv sample 462': ['ACK Flag Cnt', 'Fwd IAT Min', 'Init Bwd Win Byts', 'Idle Mean', 'Idle Min', 'Active Max', 'Fwd IAT Mean', 'Fwd Byts/b Avg', 'Fwd Pkt Len Mean', 'Fwd Pkts/s'], 'Adv sample 463': ['ACK Flag Cnt', 'Bwd IAT Std', 'Bwd IAT Tot', 'Init Bwd Win Byts', 'Fwd Pkt Len Std', 'Active Min', 'Flow IAT Mean', 'Bwd Pkt Len Max', 'Fwd Pkt Len Mean', 'Pkt Len Mean'], 'Adv sample 464': ['SYN Flag Cnt', 'Idle Std', 'Fwd Blk Rate Avg', 'Init Bwd Win Byts', 'Bwd Pkts/b Avg', 'Active Max', 'Fwd Byts/b Avg', 'Bwd Pkt Len Std', 'Pkt Len Min', 'Pkt Len Max'], 'Adv sample 465': ['SYN Flag Cnt', 'Active Min', 'Fwd IAT Mean', 'Active Mean', 'Init Bwd Win Byts', 'Bwd IAT Mean', 'Fwd Byts/b Avg', 'Idle Std', 'Bwd IAT Min', 'Bwd IAT Std'], 'Adv sample 466': ['Active Mean', 'ACK Flag Cnt', 'Active Min', 'Init Bwd Win Byts', 'Idle Std', 'Bwd IAT Mean', 'Bwd IAT Std', 'Fwd IAT Min', 'Active Max', 'Fwd Pkts/s'], 'Adv sample 467': ['ACK Flag Cnt', 'Init Bwd Win Byts', 'Active Min', 'Bwd IAT Std', 'Bwd IAT Max', 'Fwd IAT Min', 'Bwd IAT Mean', 'Bwd IAT Tot', 'Idle Std', 'Down/Up Ratio'], 'Adv sample 468': ['Bwd IAT Mean', 'Bwd Pkts/s', 'Fwd IAT Min', 'Init Bwd Win Byts', 'Bwd IAT Min', 'Pkt Len Mean', 'Fwd Header Len', 'Flow Byts/s', 'Bwd Pkt Len Min', 'Subflow Bwd Byts'], 'Adv sample 469': ['SYN Flag Cnt', 'Bwd IAT Mean', 'Active Mean', 'Bwd IAT Max', 'Active Max', 'Init Bwd Win Byts', 'Idle Std', 'Pkt Len Var', 'TotLen Bwd Pkts', 'Bwd Pkts/b Avg'], 'Adv sample 470': ['ACK Flag Cnt', 'Active Max', 'Idle Std', 'Init Bwd Win Byts', 'Fwd IAT Min', 'Active Min', 'Active Mean', 'Bwd IAT Tot', 'Pkt Len Min', 'Fwd Header Len'], 'Adv sample 471': ['SYN Flag Cnt', 'Bwd IAT Std', 'Idle Std', 'Fwd Byts/b Avg', 'Init Bwd Win Byts', 'Fwd Pkts/s', 'Bwd Byts/b Avg', 'Active Max', 'Active Mean', 'TotLen Bwd Pkts'], 'Adv sample 472': ['Active Mean', 'Active Max', 'Bwd IAT Mean', 'Active Min', 'Fwd IAT Min', 'Fwd Byts/b Avg', 'Init Bwd Win Byts', 'Bwd IAT Min', 'Bwd Pkts/b Avg', 'Idle Mean'], 'Adv sample 473': ['Active Min', 'Init Bwd Win Byts', 'Active Mean', 'Bwd IAT Std', 'Active Max', 'Bwd IAT Min', 'Bwd IAT Max', 'Idle Std', 'Fwd IAT Min', 'Pkt Len Min'], 'Adv sample 474': ['SYN Flag Cnt', 'Active Mean', 'Active Max', 'Init Bwd Win Byts', 'Idle Std', 'Bwd IAT Min', 'Fwd Byts/b Avg', 'TotLen Bwd Pkts', 'Bwd Pkts/b Avg', 'Fwd Pkt Len Max'], 'Adv sample 475': ['ACK Flag Cnt', 'Bwd IAT Std', 'Init Bwd Win Byts', 'Bwd IAT Tot', 'Bwd IAT Max', 'Bwd IAT Mean', 'Idle Std', 'Bwd IAT Min', 'Active Max', 'Bwd Pkt Len Std'], 'Adv sample 476': ['Active Mean', 'Bwd Pkts/s', 'Bwd IAT Mean', 'Active Max', 'Init Bwd Win Byts', 'Flow Pkts/s', 'Bwd IAT Std', 'Active Min', 'Bwd IAT Max', 'Bwd IAT Min'], 'Adv sample 477': ['ACK Flag Cnt', 'Active Mean', 'Init Bwd Win Byts', 'Bwd Seg Size Avg', 'Fwd Pkt Len Std', 'Fwd IAT Min', 'Bwd IAT Min', 'Bwd IAT Tot', 'Pkt Len Max', 'Active Max'], 'Adv sample 478': ['Bwd IAT Std', 'Active Max', 'Bwd IAT Min', 'Idle Std', 'Fwd IAT Min', 'Fwd Byts/b Avg', 'Init Bwd Win Byts', 'Bwd IAT Tot', 'Bwd Seg Size Avg', 'Active Mean'], 'Adv sample 479': ['ACK Flag Cnt', 'Active Max', 'Active Min', 'Active Mean', 'Init Bwd Win Byts', 'Bwd IAT Std', 'Down/Up Ratio', 'Fwd Pkts/s', 'Pkt Len Max', 'PSH Flag Cnt'], 'Adv sample 480': ['ACK Flag Cnt', 'Init Bwd Win Byts', 'Bwd IAT Tot', 'Active Min', 'Fwd IAT Min', 'Active Mean', 'Bwd Seg Size Avg', 'Active Max', 'Pkt Size Avg', 'Fwd Byts/b Avg'], 'Adv sample 481': ['Active Max', 'ACK Flag Cnt', 'Active Min', 'Idle Std', 'Init Bwd Win Byts', 'Bwd IAT Max', 'Fwd IAT Min', 'Active Mean', 'Bwd IAT Std', 'Flow IAT Mean'], 'Adv sample 482': ['ACK Flag Cnt', 'Init Bwd Win Byts', 'Active Mean', 'Active Max', 'Bwd IAT Mean', 'Fwd IAT Min', 'Bwd IAT Max', 'Bwd IAT Std', 'Active Min', 'Subflow Fwd Pkts'], 'Adv sample 483': ['SYN Flag Cnt', 'Fwd IAT Min', 'Bwd IAT Min', 'Active Mean', 'Init Bwd Win Byts', 'Bwd Pkts/b Avg', 'Bwd Byts/b Avg', 'Bwd IAT Max', 'Pkt Len Max', 'Bwd Pkt Len Min'], 'Adv sample 484': ['Active Mean', 'Active Max', 'Fwd Byts/b Avg', 'Bwd IAT Mean', 'Bwd IAT Min', 'Init Bwd Win Byts', 'Pkt Len Max', 'Bwd Pkt Len Mean', 'Fwd IAT Min', 'Bwd IAT Max'], 'Adv sample 485': ['SYN Flag Cnt', 'Init Bwd Win Byts', 'Active Min', 'Active Mean', 'Bwd IAT Max', 'Bwd IAT Std', 'Active Max', 'Fwd IAT Min', 'Fwd Blk Rate Avg', 'Bwd IAT Min'], 'Adv sample 486': ['Bwd Pkts/s', 'Bwd IAT Min', 'Bwd IAT Tot', 'Active Min', 'Down/Up Ratio', 'Flow Pkts/s', 'Init Bwd Win Byts', 'Active Mean', 'Bwd IAT Max', 'Idle Max'], 'Adv sample 487': ['Bwd IAT Tot', 'Init Bwd Win Byts', 'Idle Max', 'Down/Up Ratio', 'Subflow Fwd Byts', 'Fwd IAT Mean', 'Fwd Blk Rate Avg', 'Pkt Len Mean', 'Fwd Byts/b Avg', 'Bwd Pkt Len Min'], 'Adv sample 488': ['Init Bwd Win Byts', 'Active Min', 'Bwd IAT Std', 'Active Max', 'Bwd IAT Mean', 'Active Mean', 'Bwd IAT Tot', 'Fwd IAT Min', 'Bwd IAT Max', 'Pkt Len Min'], 'Adv sample 489': ['Bwd IAT Min', 'Bwd IAT Max', 'Idle Std', 'Fwd Byts/b Avg', 'Init Bwd Win Byts', 'Down/Up Ratio', 'Bwd IAT Mean', 'Pkt Len Min', 'Pkt Len Mean', 'PSH Flag Cnt'], 'Adv sample 490': ['Bwd IAT Min', 'Active Mean', 'Active Min', 'Bwd IAT Tot', 'Init Bwd Win Byts', 'Active Max', 'Fwd Byts/b Avg', 'Fwd IAT Min', 'Bwd IAT Mean', 'Bwd IAT Max'], 'Adv sample 491': ['Bwd Pkts/s', 'Bwd IAT Mean', 'Init Bwd Win Byts', 'Flow Pkts/s', 'Pkt Len Max', 'Down/Up Ratio', 'Fwd IAT Min', 'Idle Max', 'Pkt Len Mean', 'TotLen Fwd Pkts'], 'Adv sample 492': ['Bwd IAT Mean', 'Bwd IAT Min', 'Init Bwd Win Byts', 'Fwd Byts/b Avg', 'Flow IAT Max', 'Pkt Len Min', 'Fwd Header Len', 'Flow Duration', 'Bwd Pkt Len Mean', 'Subflow Fwd Pkts'], 'Adv sample 493': ['SYN Flag Cnt', 'Active Mean', 'Bwd IAT Max', 'Init Bwd Win Byts', 'Bwd IAT Mean', 'Down/Up Ratio', 'Flow Byts/s', 'Fwd Pkts/s', 'Fwd Pkt Len Min', 'Subflow Fwd Pkts'], 'Adv sample 494': ['Init Bwd Win Byts', 'Active Min', 'Bwd IAT Min', 'Active Mean', 'Bwd IAT Std', 'Bwd IAT Mean', 'Bwd IAT Max', 'Fwd Byts/b Avg', 'Idle Std', 'Tot Fwd Pkts'], 'Adv sample 495': ['Init Bwd Win Byts', 'Bwd IAT Std', 'Active Min', 'Down/Up Ratio', 'Pkt Len Min', 'Active Mean', 'Flow IAT Max', 'Fwd IAT Tot', 'Bwd IAT Max', 'Fwd Byts/b Avg'], 'Adv sample 496': ['SYN Flag Cnt', 'Init Bwd Win Byts', 'Active Max', 'Bwd IAT Std', 'Bwd IAT Mean', 'Bwd IAT Min', 'Active Min', 'Active Mean', 'Idle Std', 'Flow Byts/s'], 'Adv sample 497': ['SYN Flag Cnt', 'Fwd Blk Rate Avg', 'Init Bwd Win Byts', 'Fwd IAT Min', 'Pkt Size Avg', 'Pkt Len Max', 'Fwd Byts/b Avg', 'Bwd Pkts/b Avg', 'Bwd Pkt Len Mean', 'Bwd Pkt Len Min'], 'Adv sample 498': ['SYN Flag Cnt', 'Bwd IAT Max', 'Idle Std', 'Init Bwd Win Byts', 'Down/Up Ratio', 'Bwd Pkts/b Avg', 'Subflow Fwd Pkts', 'Pkt Size Avg', 'Flow IAT Max', 'Pkt Len Min'], 'Adv sample 499': ['SYN Flag Cnt', 'Active Mean', 'Bwd IAT Min', 'Init Bwd Win Byts', 'Active Max', 'Bwd IAT Std', 'Active Min', 'Idle Std', 'Pkt Len Mean', 'Bwd IAT Max'], 'Adv sample 500': ['Bwd IAT Min', 'Init Bwd Win Byts', 'Active Min', 'Active Max', 'Active Mean', 'Bwd IAT Mean', 'Fwd Byts/b Avg', 'Pkt Len Min', 'Idle Max', 'Bwd Pkt Len Mean'], 'Adv sample 501': ['SYN Flag Cnt', 'Init Bwd Win Byts', 'Fwd Byts/b Avg', 'Bwd IAT Tot', 'Bwd Byts/b Avg', 'Idle Std', 'Pkt Len Max', 'Pkt Len Min', 'Pkt Len Std', 'Flow Byts/s'], 'Adv sample 502': ['Active Min', 'Bwd IAT Max', 'Bwd IAT Mean', 'Active Mean', 'Init Bwd Win Byts', 'Bwd IAT Tot', 'Fwd Byts/b Avg', 'Fwd Seg Size Avg', 'Bwd Seg Size Avg', 'Bwd Pkt Len Max'], 'Adv sample 503': ['SYN Flag Cnt', 'Active Max', 'Active Mean', 'Bwd IAT Min', 'Active Min', 'Bwd IAT Std', 'Init Bwd Win Byts', 'Flow IAT Mean', 'Fwd IAT Min', 'Fwd IAT Max'], 'Adv sample 504': ['Active Mean', 'Bwd IAT Std', 'Init Bwd Win Byts', 'Bwd Pkts/s', 'Active Max', 'Bwd IAT Mean', 'Idle Std', 'Fwd IAT Min', 'Active Min', 'Down/Up Ratio'], 'Adv sample 505': ['Bwd IAT Max', 'Active Min', 'Active Mean', 'Fwd Byts/b Avg', 'Bwd IAT Min', 'Active Max', 'Init Bwd Win Byts', 'Bwd IAT Mean', 'Bwd IAT Tot', 'Pkt Len Std'], 'Adv sample 506': ['ACK Flag Cnt', 'Init Bwd Win Byts', 'Bwd IAT Std', 'Flow Pkts/s', 'FIN Flag Cnt', 'Active Max', 'Fwd IAT Min', 'Active Mean', 'Fwd Byts/b Avg', 'Bwd IAT Mean'], 'Adv sample 507': ['Active Mean', 'Bwd Pkts/s', 'Bwd IAT Mean', 'Bwd IAT Std', 'Flow Pkts/s', 'Init Bwd Win Byts', 'Bwd IAT Tot', 'Bwd IAT Max', 'Active Min', 'Active Max'], 'Adv sample 508': ['SYN Flag Cnt', 'Active Max', 'Init Bwd Win Byts', 'Bwd IAT Mean', 'Active Mean', 'Active Min', 'Bwd IAT Std', 'Bwd IAT Min', 'Bwd IAT Max', 'Bwd IAT Tot'], 'Adv sample 509': ['SYN Flag Cnt', 'Init Bwd Win Byts', 'Idle Std', 'Bwd IAT Mean', 'Active Min', 'Bwd IAT Std', 'Fwd IAT Min', 'Bwd Pkts/b Avg', 'Bwd IAT Tot', 'Pkt Len Std'], 'Adv sample 510': ['ACK Flag Cnt', 'Active Min', 'Bwd IAT Std', 'Init Bwd Win Byts', 'Active Max', 'Active Mean', 'Idle Std', 'Down/Up Ratio', 'Fwd IAT Min', 'Bwd IAT Max'], 'Adv sample 511': ['SYN Flag Cnt', 'Idle Std', 'Init Bwd Win Byts', 'Fwd IAT Min', 'Pkt Len Max', 'Bwd Pkts/b Avg', 'Active Min', 'Subflow Fwd Byts', 'Fwd Blk Rate Avg', 'Subflow Bwd Byts'], 'Adv sample 512': ['Bwd IAT Std', 'ACK Flag Cnt', 'Active Max', 'Idle Std', 'Bwd IAT Tot', 'Init Bwd Win Byts', 'Idle Min', 'Bwd IAT Mean', 'Flow Duration', 'Fwd IAT Max'], 'Adv sample 513': ['SYN Flag Cnt', 'Active Mean', 'Bwd IAT Min', 'Active Max', 'Init Bwd Win Byts', 'Bwd IAT Mean', 'Fwd Byts/b Avg', 'Bwd Pkt Len Min', 'Idle Std', 'TotLen Bwd Pkts'], 'Adv sample 514': ['SYN Flag Cnt', 'Bwd IAT Min', 'Init Bwd Win Byts', 'Bwd IAT Mean', 'Pkt Len Std', 'Fwd Byts/b Avg', 'Flow IAT Mean', 'Pkt Len Min', 'Pkt Size Avg', 'Flow IAT Min'], 'Adv sample 515': ['Active Min', 'Active Mean', 'Bwd IAT Min', 'Init Bwd Win Byts', 'Bwd IAT Mean', 'Bwd Pkts/b Avg', 'Fwd Byts/b Avg', 'Idle Min', 'Bwd Pkt Len Max', 'Fwd Pkt Len Min'], 'Adv sample 516': ['ACK Flag Cnt', 'Active Mean', 'Fwd IAT Min', 'Idle Std', 'Bwd IAT Std', 'Init Bwd Win Byts', 'Active Min', 'Idle Max', 'Active Max', 'Down/Up Ratio'], 'Adv sample 517': ['Active Min', 'Bwd IAT Mean', 'Init Bwd Win Byts', 'Active Mean', 'Active Max', 'Bwd IAT Max', 'Fwd Byts/b Avg', 'Bwd IAT Std', 'Fwd IAT Min', 'Bwd IAT Min'], 'Adv sample 518': ['SYN Flag Cnt', 'Idle Std', 'Active Max', 'Init Bwd Win Byts', 'Bwd IAT Std', 'Fwd Byts/b Avg', 'Fwd Blk Rate Avg', 'Bwd Pkts/b Avg', 'Fwd IAT Min', 'Fwd Act Data Pkts'], 'Adv sample 519': ['SYN Flag Cnt', 'Bwd IAT Mean', 'Init Bwd Win Byts', 'Active Min', 'Bwd IAT Min', 'Active Mean', 'Active Max', 'Bwd IAT Std', 'Idle Std', 'Fwd Blk Rate Avg'], 'Adv sample 520': ['SYN Flag Cnt', 'Active Min', 'Init Bwd Win Byts', 'Active Mean', 'Active Max', 'Idle Std', 'Bwd IAT Mean', 'Fwd IAT Mean', 'Idle Mean', 'Fwd IAT Min'], 'Adv sample 521': ['ACK Flag Cnt', 'Init Bwd Win Byts', 'Bwd IAT Std', 'Flow Pkts/s', 'Active Max', 'FIN Flag Cnt', 'Flow IAT Std', 'Fwd IAT Min', 'Bwd IAT Max', 'Flow IAT Mean'], 'Adv sample 522': ['Active Min', 'Active Mean', 'Init Bwd Win Byts', 'Bwd IAT Mean', 'Active Max', 'Fwd Byts/b Avg', 'Pkt Size Avg', 'Pkt Len Std', 'Fwd Blk Rate Avg', 'Bwd IAT Min'], 'Adv sample 523': ['Active Min', 'Bwd IAT Std', 'Active Max', 'Init Bwd Win Byts', 'Bwd IAT Min', 'Bwd IAT Max', 'Fwd Byts/b Avg', 'Fwd IAT Min', 'Down/Up Ratio', 'Bwd Pkts/b Avg'], 'Adv sample 524': ['Active Mean', 'Active Min', 'Active Max', 'Init Bwd Win Byts', 'Bwd IAT Mean', 'Bwd IAT Std', 'Idle Std', 'Bwd Pkts/b Avg', 'Down/Up Ratio', 'Fwd IAT Min'], 'Adv sample 525': ['ACK Flag Cnt', 'Bwd IAT Max', 'Active Mean', 'Init Bwd Win Byts', 'Bwd IAT Tot', 'Active Max', 'Bwd IAT Std', 'Flow Pkts/s', 'Bwd IAT Min', 'Flow IAT Mean'], 'Adv sample 526': ['ACK Flag Cnt', 'Fwd IAT Min', 'Active Max', 'Fwd Byts/b Avg', 'Bwd IAT Tot', 'Init Bwd Win Byts', 'Bwd Pkts/b Avg', 'Bwd Pkt Len Mean', 'Pkt Len Mean', 'Tot Bwd Pkts'], 'Adv sample 527': ['SYN Flag Cnt', 'Init Bwd Win Byts', 'Active Max', 'Bwd IAT Min', 'Active Min', 'Bwd IAT Std', 'Fwd IAT Min', 'Active Mean', 'Idle Std', 'Bwd IAT Mean'], 'Adv sample 528': ['SYN Flag Cnt', 'Bwd IAT Mean', 'Idle Std', 'Fwd IAT Min', 'Fwd Byts/b Avg', 'Init Bwd Win Byts', 'Bwd Pkts/b Avg', 'Flow Byts/s', 'Active Max', 'FIN Flag Cnt'], 'Adv sample 529': ['Active Max', 'Bwd Pkts/s', 'Active Min', 'Init Bwd Win Byts', 'Bwd IAT Min', 'Fwd IAT Min', 'Pkt Len Mean', 'Down/Up Ratio', 'Active Mean', 'Pkt Len Std'], 'Adv sample 530': ['SYN Flag Cnt', 'Bwd IAT Mean', 'Init Bwd Win Byts', 'Bwd IAT Min', 'Fwd Pkts/b Avg', 'Bwd Pkts/b Avg', 'Bwd IAT Max', 'Fwd IAT Min', 'Active Max', 'Fwd Byts/b Avg'], 'Adv sample 531': ['Bwd Pkts/s', 'Bwd IAT Mean', 'Fwd IAT Min', 'Init Bwd Win Byts', 'Flow Pkts/s', 'Down/Up Ratio', 'Bwd IAT Tot', 'Flow IAT Max', 'Idle Max', 'Pkt Len Std'], 'Adv sample 532': ['Bwd IAT Min', 'Active Mean', 'Active Min', 'Bwd IAT Max', 'Bwd Pkts/b Avg', 'Init Bwd Win Byts', 'Fwd Byts/b Avg', 'Idle Mean', 'Pkt Len Min', 'Bwd IAT Tot'], 'Adv sample 533': ['ACK Flag Cnt', 'Init Bwd Win Byts', 'Active Min', 'Fwd IAT Mean', 'Bwd IAT Mean', 'Fwd IAT Min', 'Bwd IAT Max', 'Bwd IAT Std', 'Fwd Pkt Len Max', 'Down/Up Ratio'], 'Adv sample 534': ['SYN Flag Cnt', 'Bwd IAT Mean', 'Init Bwd Win Byts', 'Active Min', 'Idle Std', 'Active Mean', 'Active Max', 'Bwd IAT Min', 'Bwd Pkt Len Max', 'Bwd Seg Size Avg'], 'Adv sample 535': ['Bwd IAT Min', 'Bwd IAT Mean', 'Init Bwd Win Byts', 'Active Min', 'Active Mean', 'Idle Std', 'Fwd Byts/b Avg', 'Active Max', 'Down/Up Ratio', 'Pkt Len Min'], 'Adv sample 536': ['SYN Flag Cnt', 'Idle Std', 'Active Max', 'Init Bwd Win Byts', 'Fwd Blk Rate Avg', 'Fwd Byts/b Avg', 'Pkt Len Mean', 'Bwd Pkts/b Avg', 'Flow IAT Max', 'Bwd IAT Mean'], 'Adv sample 537': ['ACK Flag Cnt', 'Bwd IAT Std', 'Init Bwd Win Byts', 'Flow IAT Mean', 'Bwd IAT Tot', 'Fwd IAT Min', 'TotLen Bwd Pkts', 'Bwd Header Len', 'Fwd Byts/b Avg', 'Active Max'], 'Adv sample 538': ['Init Bwd Win Byts', 'SYN Flag Cnt', 'Active Max', 'Active Min', 'Active Mean', 'Bwd IAT Std', 'Idle Std', 'Down/Up Ratio', 'Pkt Len Min', 'FIN Flag Cnt'], 'Adv sample 539': ['SYN Flag Cnt', 'Bwd IAT Min', 'Fwd Byts/b Avg', 'Fwd IAT Min', 'Init Bwd Win Byts', 'Bwd Pkts/b Avg', 'Idle Std', 'Fwd IAT Mean', 'Pkt Len Max', 'Pkt Len Mean'], 'Adv sample 540': ['Bwd IAT Mean', 'Active Min', 'Bwd IAT Min', 'Fwd Byts/b Avg', 'Init Bwd Win Byts', 'Active Mean', 'Fwd Blk Rate Avg', 'Bwd IAT Max', 'Pkt Len Std', 'Pkt Len Min'], 'Adv sample 541': ['Bwd IAT Mean', 'Active Mean', 'Fwd Blk Rate Avg', 'Bwd IAT Tot', 'Init Bwd Win Byts', 'Down/Up Ratio', 'Pkt Len Std', 'Idle Max', 'Bwd Seg Size Avg', 'Bwd Pkt Len Max'], 'Adv sample 542': ['Bwd IAT Min', 'Active Mean', 'Init Bwd Win Byts', 'Active Min', 'Fwd Byts/b Avg', 'Active Max', 'Down/Up Ratio', 'Bwd IAT Std', 'Bwd IAT Max', 'Pkt Len Min'], 'Adv sample 543': ['Active Mean', 'Bwd IAT Min', 'Bwd IAT Mean', 'Init Bwd Win Byts', 'Active Min', 'Fwd Byts/b Avg', 'Active Max', 'Bwd Pkts/b Avg', 'Pkt Len Max', 'Bwd Pkt Len Std'], 'Adv sample 544': ['ACK Flag Cnt', 'Active Min', 'Init Bwd Win Byts', 'Fwd IAT Mean', 'Fwd IAT Min', 'Fwd Byts/b Avg', 'Bwd IAT Std', 'Active Mean', 'Bwd IAT Min', 'Bwd IAT Max'], 'Adv sample 545': ['SYN Flag Cnt', 'Bwd IAT Min', 'Init Bwd Win Byts', 'Fwd Byts/b Avg', 'Bwd Seg Size Avg', 'TotLen Bwd Pkts', 'Bwd IAT Tot', 'Fwd Pkt Len Mean', 'Subflow Fwd Pkts', 'Fwd IAT Min'], 'Adv sample 546': ['Active Max', 'Init Bwd Win Byts', 'Active Min', 'Bwd IAT Mean', 'Bwd Pkts/b Avg', 'Active Mean', 'Fwd IAT Min', 'Idle Std', 'Pkt Len Max', 'Fwd Byts/b Avg'], 'Adv sample 547': ['Active Mean', 'Bwd IAT Mean', 'Init Bwd Win Byts', 'Active Min', 'Active Max', 'Bwd Pkts/b Avg', 'Pkt Len Min', 'Idle Std', 'Fwd IAT Min', 'Bwd IAT Std'], 'Adv sample 548': ['Active Mean', 'Active Max', 'Bwd IAT Max', 'Bwd IAT Mean', 'Init Bwd Win Byts', 'Down/Up Ratio', 'Bwd IAT Tot', 'Bwd IAT Min', 'Idle Max', 'Fwd Blk Rate Avg'], 'Adv sample 549': ['Active Mean', 'Bwd IAT Mean', 'Fwd Blk Rate Avg', 'Bwd Pkts/s', 'Init Bwd Win Byts', 'Bwd IAT Tot', 'Idle Min', 'Down/Up Ratio', 'Fwd Pkt Len Mean', 'Pkt Len Max'], 'Adv sample 550': ['ACK Flag Cnt', 'Bwd IAT Max', 'Bwd IAT Std', 'Init Bwd Win Byts', 'Bwd IAT Min', 'Flow IAT Std', 'Flow IAT Mean', 'Bwd IAT Tot', 'Flow Byts/s', 'Active Max'], 'Adv sample 551': ['ACK Flag Cnt', 'Bwd IAT Std', 'Bwd IAT Max', 'Init Bwd Win Byts', 'Bwd IAT Tot', 'Active Max', 'Idle Std', 'Active Min', 'Flow IAT Mean', 'Pkt Len Std'], 'Adv sample 552': ['Bwd IAT Min', 'Bwd IAT Std', 'Idle Std', 'Init Bwd Win Byts', 'Fwd Byts/b Avg', 'Bwd Pkts/b Avg', 'Down/Up Ratio', 'Bwd Seg Size Avg', 'Bwd IAT Tot', 'Subflow Fwd Byts'], 'Adv sample 553': ['Bwd Pkts/s', 'Bwd IAT Mean', 'Bwd IAT Tot', 'Flow Pkts/s', 'Init Bwd Win Byts', 'Active Mean', 'Bwd IAT Max', 'Active Min', 'Bwd IAT Std', 'Idle Std'], 'Adv sample 554': ['Bwd IAT Mean', 'Active Min', 'Bwd IAT Min', 'Idle Std', 'Bwd IAT Tot', 'Active Mean', 'Init Bwd Win Byts', 'Bwd Pkts/b Avg', 'Fwd Blk Rate Avg', 'Down/Up Ratio'], 'Adv sample 555': ['Bwd IAT Min', 'Init Bwd Win Byts', 'Active Min', 'Bwd IAT Std', 'Down/Up Ratio', 'Bwd IAT Mean', 'Fwd Byts/b Avg', 'Bwd IAT Max', 'Active Mean', 'Active Max'], 'Adv sample 556': ['ACK Flag Cnt', 'Fwd IAT Mean', 'Init Bwd Win Byts', 'Fwd Blk Rate Avg', 'Fwd IAT Min', 'Flow Pkts/s', 'Idle Min', 'Pkt Size Avg', 'Pkt Len Min', 'Flow IAT Min'], 'Adv sample 557': ['ACK Flag Cnt', 'Active Min', 'Active Max', 'Active Mean', 'Init Bwd Win Byts', 'Bwd IAT Max', 'Bwd IAT Mean', 'Fwd Pkts/s', 'Pkt Len Min', 'Bwd Pkt Len Std'], 'Adv sample 558': ['ACK Flag Cnt', 'Bwd IAT Std', 'Init Bwd Win Byts', 'Bwd IAT Max', 'Active Min', 'Bwd IAT Mean', 'Fwd IAT Min', 'Pkt Len Min', 'Active Max', 'Pkt Len Std'], 'Adv sample 559': ['ACK Flag Cnt', 'Active Max', 'Idle Std', 'Idle Max', 'Down/Up Ratio', 'Init Bwd Win Byts', 'Idle Min', 'Bwd Byts/b Avg', 'Pkt Len Max', 'Bwd IAT Tot'], 'Adv sample 560': ['SYN Flag Cnt', 'Active Mean', 'Active Max', 'Init Bwd Win Byts', 'Bwd IAT Std', 'Active Min', 'Bwd IAT Min', 'Idle Std', 'Down/Up Ratio', 'Pkt Len Std'], 'Adv sample 561': ['Fwd IAT Min', 'ACK Flag Cnt', 'Active Mean', 'Init Bwd Win Byts', 'Bwd PSH Flags', 'Active Min', 'Bwd IAT Mean', 'Active Max', 'Subflow Bwd Byts', 'Pkt Len Mean'], 'Adv sample 562': ['Bwd Pkts/s', 'Flow Pkts/s', 'Bwd IAT Mean', 'Init Bwd Win Byts', 'Active Min', 'Active Mean', 'Bwd IAT Min', 'Bwd IAT Std', 'Active Max', 'Idle Std'], 'Adv sample 563': ['Init Bwd Win Byts', 'Active Min', 'Bwd Pkts/b Avg', 'Active Mean', 'Idle Std', 'Bwd IAT Mean', 'Bwd IAT Std', 'Active Max', 'Fwd Byts/b Avg', 'Pkt Len Max'], 'Adv sample 564': ['ACK Flag Cnt', 'FIN Flag Cnt', 'Init Bwd Win Byts', 'Fwd Byts/b Avg', 'Active Min', 'Bwd IAT Min', 'Flow Pkts/s', 'Fwd IAT Min', 'Active Mean', 'Idle Max'], 'Adv sample 565': ['FIN Flag Cnt', 'Bwd IAT Mean', 'Active Min', 'Bwd IAT Max', 'Bwd IAT Min', 'Init Bwd Win Byts', 'Down/Up Ratio', 'Active Mean', 'Bwd Pkts/b Avg', 'Active Max'], 'Adv sample 566': ['SYN Flag Cnt', 'Fwd Byts/b Avg', 'Init Bwd Win Byts', 'Bwd Pkt Len Mean', 'Bwd Seg Size Avg', 'Bwd Pkt Len Std', 'Pkt Size Avg', 'Pkt Len Std', 'Fwd Pkt Len Std', 'Fwd Pkt Len Mean'], 'Adv sample 567': ['SYN Flag Cnt', 'Init Bwd Win Byts', 'Bwd IAT Std', 'Bwd IAT Min', 'Idle Std', 'Active Min', 'Active Mean', 'Fwd Byts/b Avg', 'Bwd IAT Mean', 'Bwd IAT Max'], 'Adv sample 568': ['ACK Flag Cnt', 'Bwd IAT Max', 'Bwd IAT Min', 'Bwd IAT Tot', 'Active Mean', 'Init Bwd Win Byts', 'Fwd Pkt Len Min', 'Flow IAT Mean', 'TotLen Bwd Pkts', 'Bwd Pkt Len Mean'], 'Adv sample 569': ['SYN Flag Cnt', 'Init Bwd Win Byts', 'Idle Std', 'Active Mean', 'Active Min', 'Bwd IAT Std', 'Fwd IAT Min', 'Active Max', 'Bwd IAT Tot', 'Bwd IAT Mean'], 'Adv sample 570': ['SYN Flag Cnt', 'Init Bwd Win Byts', 'Active Min', 'Bwd IAT Min', 'Fwd IAT Min', 'Bwd IAT Mean', 'Bwd IAT Std', 'Active Mean', 'Fwd Byts/b Avg', 'Pkt Size Avg'], 'Adv sample 571': ['ACK Flag Cnt', 'Bwd IAT Max', 'Active Mean', 'Bwd IAT Tot', 'Init Bwd Win Byts', 'Active Max', 'Bwd IAT Std', 'Active Min', 'Flow IAT Mean', 'Bwd Seg Size Avg'], 'Adv sample 572': ['Active Min', 'Init Bwd Win Byts', 'Bwd Pkts/s', 'Active Max', 'Active Mean', 'Down/Up Ratio', 'Bwd IAT Max', 'Bwd IAT Mean', 'Bwd IAT Std', 'Bwd IAT Tot'], 'Adv sample 573': ['SYN Flag Cnt', 'Idle Std', 'Fwd Byts/b Avg', 'Init Bwd Win Byts', 'Bwd IAT Mean', 'Bwd Byts/b Avg', 'Idle Max', 'Bwd Pkt Len Std', 'FIN Flag Cnt', 'Bwd Pkt Len Mean'], 'Adv sample 574': ['Bwd IAT Mean', 'Bwd IAT Max', 'Bwd IAT Min', 'Fwd Byts/b Avg', 'Init Bwd Win Byts', 'Tot Fwd Pkts', 'Fwd IAT Min', 'Bwd Pkt Len Mean', 'Bwd IAT Tot', 'Down/Up Ratio'], 'Adv sample 575': ['Bwd IAT Min', 'Bwd IAT Mean', 'Bwd IAT Tot', 'Init Bwd Win Byts', 'Bwd Pkts/b Avg', 'Down/Up Ratio', 'Idle Std', 'PSH Flag Cnt', 'Fwd Blk Rate Avg', 'Flow IAT Max'], 'Adv sample 576': ['ACK Flag Cnt', 'Active Max', 'Bwd IAT Tot', 'Pkt Len Min', 'Init Bwd Win Byts', 'Fwd Seg Size Avg', 'Fwd IAT Min', 'Fwd Pkt Len Max', 'Fwd Header Len', 'Pkt Len Max'], 'Adv sample 577': ['SYN Flag Cnt', 'Fwd Byts/b Avg', 'Idle Std', 'Init Bwd Win Byts', 'Fwd Act Data Pkts', 'Bwd Seg Size Avg', 'Pkt Len Std', 'Bwd Pkt Len Mean', 'Pkt Len Max', 'Flow Duration'], 'Adv sample 578': ['ACK Flag Cnt', 'Active Max', 'Init Bwd Win Byts', 'Fwd IAT Min', 'FIN Flag Cnt', 'Active Mean', 'Fwd Byts/b Avg', 'Bwd IAT Max', 'Active Min', 'Bwd IAT Min'], 'Adv sample 579': ['ACK Flag Cnt', 'Bwd Pkts/b Avg', 'Fwd IAT Min', 'Active Max', 'Pkt Len Min', 'Init Bwd Win Byts', 'Fwd IAT Mean', 'Pkt Len Mean', 'Fwd Byts/b Avg', 'Flow Byts/s'], 'Adv sample 580': ['Active Min', 'Bwd IAT Mean', 'Active Mean', 'Bwd IAT Tot', 'Bwd IAT Max', 'Init Bwd Win Byts', 'Fwd IAT Min', 'Active Max', 'Bwd Pkts/b Avg', 'Down/Up Ratio'], 'Adv sample 581': ['Bwd IAT Mean', 'Active Max', 'Bwd IAT Max', 'Active Mean', 'Init Bwd Win Byts', 'Fwd Byts/b Avg', 'Bwd IAT Min', 'Fwd IAT Min', 'Bwd Pkts/b Avg', 'Flow Byts/s'], 'Adv sample 582': ['SYN Flag Cnt', 'Init Bwd Win Byts', 'Active Min', 'Active Mean', 'Fwd IAT Min', 'Fwd Byts/b Avg', 'Bwd IAT Max', 'Bwd IAT Min', 'Bwd Pkts/b Avg', 'Idle Std'], 'Adv sample 583': ['ACK Flag Cnt', 'Active Mean', 'Bwd IAT Std', 'Active Max', 'Bwd IAT Max', 'Init Bwd Win Byts', 'Fwd IAT Min', 'Flow Pkts/s', 'Bwd IAT Tot', 'Active Min'], 'Adv sample 584': ['Active Mean', 'Active Min', 'Init Bwd Win Byts', 'Active Max', 'Bwd IAT Max', 'Bwd IAT Mean', 'Bwd IAT Min', 'Fwd Byts/b Avg', 'Bwd Pkts/b Avg', 'Fwd Header Len'], 'Adv sample 585': ['ACK Flag Cnt', 'FIN Flag Cnt', 'Active Max', 'Bwd IAT Min', 'Init Bwd Win Byts', 'Flow Pkts/s', 'Fwd Byts/b Avg', 'Fwd IAT Min', 'Bwd Seg Size Avg', 'Bwd Pkt Len Max'], 'Adv sample 586': ['ACK Flag Cnt', 'Bwd IAT Std', 'Active Min', 'Bwd IAT Max', 'Flow IAT Mean', 'Init Bwd Win Byts', 'Fwd IAT Min', 'Flow Byts/s', 'Flow IAT Min', 'Bwd IAT Mean'], 'Adv sample 587': ['ACK Flag Cnt', 'Bwd IAT Std', 'Bwd IAT Max', 'Init Bwd Win Byts', 'Active Min', 'Active Mean', 'Bwd IAT Tot', 'Active Max', 'Flow IAT Mean', 'Bwd IAT Mean'], 'Adv sample 588': ['SYN Flag Cnt', 'Active Mean', 'Bwd IAT Mean', 'Bwd IAT Min', 'Init Bwd Win Byts', 'Active Min', 'Idle Std', 'Bwd IAT Max', 'Fwd Pkt Len Mean', 'Bwd Pkt Len Mean'], 'Adv sample 589': ['SYN Flag Cnt', 'Init Bwd Win Byts', 'Bwd IAT Min', 'Active Mean', 'Bwd IAT Mean', 'Active Max', 'Active Min', 'Fwd IAT Min', 'Idle Std', 'Bwd IAT Max'], 'Adv sample 590': ['SYN Flag Cnt', 'Bwd IAT Mean', 'Bwd IAT Min', 'Idle Std', 'Init Bwd Win Byts', 'Active Min', 'Bwd Pkts/b Avg', 'Active Mean', 'Fwd Byts/b Avg', 'Fwd IAT Min'], 'Adv sample 591': ['SYN Flag Cnt', 'Fwd IAT Mean', 'Idle Std', 'Active Max', 'Fwd Byts/b Avg', 'Init Bwd Win Byts', 'Bwd IAT Max', 'Fwd IAT Min', 'Active Mean', 'Fwd Blk Rate Avg'], 'Adv sample 592': ['SYN Flag Cnt', 'Bwd IAT Mean', 'Idle Std', 'Bwd Pkts/b Avg', 'Init Bwd Win Byts', 'Fwd IAT Min', 'Fwd Blk Rate Avg', 'Fwd IAT Mean', 'Fwd Byts/b Avg', 'Fwd Pkt Len Mean'], 'Adv sample 593': ['SYN Flag Cnt', 'Init Bwd Win Byts', 'Active Min', 'Bwd IAT Std', 'Active Mean', 'Fwd Byts/b Avg', 'Active Max', 'Idle Max', 'Idle Std', 'Bwd IAT Mean'], 'Adv sample 594': ['Active Min', 'Init Bwd Win Byts', 'Active Mean', 'Active Max', 'Fwd Byts/b Avg', 'Bwd IAT Mean', 'Bwd IAT Max', 'Fwd Blk Rate Avg', 'Idle Min', 'Bwd IAT Tot'], 'Adv sample 595': ['SYN Flag Cnt', 'Idle Std', 'Init Bwd Win Byts', 'Fwd IAT Min', 'Active Max', 'Bwd Pkts/b Avg', 'Bwd IAT Mean', 'Fwd Byts/b Avg', 'Bwd Pkt Len Std', 'Fwd Blk Rate Avg'], 'Adv sample 596': ['Idle Std', 'Active Max', 'Init Bwd Win Byts', 'Down/Up Ratio', 'FIN Flag Cnt', 'Bwd Blk Rate Avg', 'Pkt Len Min', 'Pkt Len Std', 'TotLen Fwd Pkts', 'ACK Flag Cnt'], 'Adv sample 597': ['Bwd IAT Mean', 'Bwd IAT Min', 'Active Min', 'Bwd IAT Tot', 'Active Mean', 'Init Bwd Win Byts', 'Fwd Byts/b Avg', 'Bwd IAT Std', 'Bwd IAT Max', 'Down/Up Ratio'], 'Adv sample 598': ['Bwd IAT Mean', 'Bwd IAT Min', 'Idle Min', 'Active Max', 'Fwd Byts/b Avg', 'Idle Max', 'Init Bwd Win Byts', 'Down/Up Ratio', 'Bwd Pkts/b Avg', 'Fwd Pkts/b Avg'], 'Adv sample 599': ['URG Flag Cnt', 'Active Min', 'Active Mean', 'Bwd URG Flags', 'Init Bwd Win Byts', 'Fwd IAT Min', 'Pkt Len Max', 'Bwd IAT Mean', 'Bwd IAT Max', 'PSH Flag Cnt'], 'Adv sample 600': ['ACK Flag Cnt', 'Bwd IAT Tot', 'Bwd IAT Std', 'Active Mean', 'Active Max', 'Active Min', 'Init Bwd Win Byts', 'Bwd IAT Max', 'Bwd Pkt Len Max', 'Bwd IAT Min'], 'Adv sample 601': ['Active Mean', 'Fwd Byts/b Avg', 'Active Min', 'Fwd IAT Min', 'Bwd IAT Max', 'Init Bwd Win Byts', 'Active Max', 'Bwd IAT Min', 'Bwd IAT Mean', 'Idle Mean'], 'Adv sample 602': ['Active Mean', 'Bwd Pkts/s', 'Bwd IAT Mean', 'Flow Pkts/s', 'Init Bwd Win Byts', 'Bwd IAT Std', 'Bwd IAT Max', 'Fwd Blk Rate Avg', 'Bwd IAT Min', 'Tot Bwd Pkts'], 'Adv sample 603': ['SYN Flag Cnt', 'Init Bwd Win Byts', 'Bwd IAT Std', 'Active Min', 'Bwd IAT Tot', 'Active Mean', 'Bwd IAT Max', 'Active Max', 'Pkt Len Min', 'Fwd IAT Max'], 'Adv sample 604': ['Bwd IAT Mean', 'Active Min', 'Init Bwd Win Byts', 'Bwd Pkts/b Avg', 'Active Mean', 'Bwd IAT Tot', 'Bwd IAT Max', 'Bwd Pkts/s', 'Down/Up Ratio', 'Idle Max'], 'Adv sample 605': ['Bwd IAT Mean', 'Bwd IAT Min', 'Active Min', 'Init Bwd Win Byts', 'Active Mean', 'Active Max', 'Bwd Pkts/b Avg', 'Idle Min', 'Down/Up Ratio', 'Subflow Bwd Byts'], 'Adv sample 606': ['SYN Flag Cnt', 'Bwd IAT Max', 'Bwd IAT Std', 'Active Max', 'Idle Std', 'Bwd IAT Mean', 'Init Bwd Win Byts', 'Down/Up Ratio', 'Bwd Pkt Len Max', 'TotLen Fwd Pkts'], 'Adv sample 607': ['SYN Flag Cnt', 'Idle Std', 'Fwd IAT Mean', 'Init Bwd Win Byts', 'Fwd Blk Rate Avg', 'Fwd Byts/b Avg', 'Fwd Seg Size Avg', 'Fwd Pkt Len Max', 'Pkt Len Std', 'Pkt Len Max'], 'Adv sample 608': ['Active Max', 'Bwd IAT Min', 'Fwd IAT Min', 'Fwd Byts/b Avg', 'Init Bwd Win Byts', 'Bwd IAT Max', 'Bwd IAT Std', 'Bwd IAT Mean', 'Bwd Pkts/b Avg', 'Flow IAT Mean'], 'Adv sample 609': ['SYN Flag Cnt', 'Bwd IAT Mean', 'Active Mean', 'Bwd Pkts/b Avg', 'Active Max', 'Fwd Byts/b Avg', 'Init Bwd Win Byts', 'Fwd Blk Rate Avg', 'Idle Std', 'Pkt Len Min'], 'Adv sample 610': ['Active Max', 'Active Min', 'Active Mean', 'Init Bwd Win Byts', 'Bwd IAT Min', 'Bwd IAT Max', 'Down/Up Ratio', 'Bwd IAT Mean', 'Pkt Len Min', 'Idle Min'], 'Adv sample 611': ['SYN Flag Cnt', 'Init Bwd Win Byts', 'Active Min', 'Idle Std', 'Fwd IAT Min', 'Active Mean', 'Bwd Pkts/b Avg', 'Bwd IAT Mean', 'Fwd Blk Rate Avg', 'Idle Max'], 'Adv sample 612': ['Bwd IAT Min', 'Active Max', 'Active Min', 'Active Mean', 'Fwd Byts/b Avg', 'Idle Max', 'Fwd IAT Min', 'Init Bwd Win Byts', 'Bwd IAT Max', 'Bwd IAT Mean'], 'Adv sample 613': ['Active Min', 'Active Max', 'Bwd IAT Mean', 'Init Bwd Win Byts', 'Bwd IAT Min', 'Bwd Pkts/b Avg', 'Bwd IAT Max', 'Active Mean', 'Pkt Len Max', 'Fwd IAT Min'], 'Adv sample 614': ['Bwd Pkts/s', 'Active Mean', 'Bwd IAT Mean', 'Init Bwd Win Byts', 'Idle Max', 'Flow IAT Mean', 'Flow Pkts/s', 'Fwd IAT Min', 'Fwd Pkt Len Std', 'Bwd IAT Max'], 'Adv sample 615': ['Bwd IAT Min', 'Active Min', 'Active Mean', 'Idle Min', 'Bwd IAT Mean', 'Init Bwd Win Byts', 'Idle Max', 'Down/Up Ratio', 'Fwd Blk Rate Avg', 'Subflow Bwd Byts'], 'Adv sample 616': ['SYN Flag Cnt', 'Idle Std', 'Bwd IAT Mean', 'Bwd Pkts/b Avg', 'Fwd Byts/b Avg', 'Init Bwd Win Byts', 'Fwd IAT Mean', 'Fwd IAT Min', 'Active Mean', 'Fwd Seg Size Avg'], 'Adv sample 617': ['Active Min', 'Active Mean', 'Init Bwd Win Byts', 'Bwd IAT Mean', 'Active Max', 'Bwd IAT Max', 'Idle Std', 'Flow IAT Max', 'Bwd IAT Std', 'Down/Up Ratio'], 'Adv sample 618': ['ACK Flag Cnt', 'Bwd IAT Min', 'Active Mean', 'Fwd Byts/b Avg', 'Active Max', 'Bwd IAT Max', 'Bwd IAT Std', 'Init Bwd Win Byts', 'Bwd IAT Tot', 'Flow IAT Mean'], 'Adv sample 619': ['Bwd IAT Min', 'Bwd IAT Mean', 'Init Bwd Win Byts', 'Fwd Byts/b Avg', 'Bwd IAT Tot', 'Pkt Len Min', 'Pkt Len Std', 'Bwd Pkt Len Std', 'Pkt Len Var', 'Flow IAT Min'], 'Adv sample 620': ['Init Bwd Win Byts', 'Idle Std', 'Active Mean', 'Active Min', 'Bwd IAT Mean', 'Bwd IAT Std', 'Bwd IAT Min', 'Active Max', 'Bwd IAT Max', 'Pkt Len Max'], 'Adv sample 621': ['Bwd IAT Min', 'Init Bwd Win Byts', 'Active Min', 'Bwd IAT Mean', 'Active Mean', 'Fwd Byts/b Avg', 'Active Max', 'Fwd Pkts/b Avg', 'Bwd IAT Std', 'Pkt Len Mean'], 'Adv sample 622': ['SYN Flag Cnt', 'Bwd IAT Mean', 'Init Bwd Win Byts', 'Active Min', 'Bwd IAT Std', 'Fwd IAT Min', 'Bwd IAT Min', 'Bwd Pkts/s', 'Idle Std', 'Fwd Byts/b Avg'], 'Adv sample 623': ['ACK Flag Cnt', 'Active Max', 'Active Mean', 'Fwd IAT Mean', 'Tot Bwd Pkts', 'Fwd Byts/b Avg', 'Idle Std', 'Fwd IAT Min', 'Bwd Pkt Len Std', 'Fwd Blk Rate Avg'], 'Adv sample 624': ['Bwd IAT Std', 'Init Bwd Win Byts', 'Fwd Byts/b Avg', 'Fwd Blk Rate Avg', 'Fwd IAT Min', 'Down/Up Ratio', 'Flow Duration', 'Flow IAT Max', 'Fwd Act Data Pkts', 'Fwd Pkt Len Max'], 'Adv sample 625': ['Idle Std', 'Bwd IAT Tot', 'Down/Up Ratio', 'Idle Max', 'Active Max', 'Init Bwd Win Byts', 'ACK Flag Cnt', 'Pkt Len Mean', 'Fwd IAT Min', 'Fwd IAT Max'], 'Adv sample 626': ['Active Min', 'Bwd IAT Mean', 'Bwd IAT Min', 'Init Bwd Win Byts', 'PSH Flag Cnt', 'Flow Duration', 'Bwd Seg Size Avg', 'Flow IAT Std', 'Bwd Pkt Len Min', 'Flow IAT Max'], 'Adv sample 627': ['URG Flag Cnt', 'Bwd URG Flags', 'Active Min', 'Active Max', 'Init Bwd Win Byts', 'FIN Flag Cnt', 'Fwd Byts/b Avg', 'Down/Up Ratio', 'Bwd PSH Flags', 'Fwd IAT Min'], 'Adv sample 628': ['Active Max', 'Bwd IAT Min', 'Bwd IAT Mean', 'Idle Min', 'Init Bwd Win Byts', 'Bwd Pkt Len Mean', 'Down/Up Ratio', 'Fwd Byts/b Avg', 'Idle Max', 'Pkt Size Avg'], 'Adv sample 629': ['SYN Flag Cnt', 'Init Bwd Win Byts', 'Active Min', 'Active Mean', 'Active Max', 'Bwd IAT Mean', 'Idle Std', 'Bwd IAT Std', 'Bwd Pkt Len Min', 'Flow IAT Min'], 'Adv sample 630': ['Active Min', 'Active Mean', 'Bwd IAT Max', 'Bwd IAT Mean', 'Bwd IAT Tot', 'Init Bwd Win Byts', 'Fwd Blk Rate Avg', 'Fwd IAT Min', 'Down/Up Ratio', 'Flow IAT Max'], 'Adv sample 631': ['SYN Flag Cnt', 'Bwd IAT Std', 'Init Bwd Win Byts', 'Idle Std', 'Active Mean', 'Active Min', 'Active Max', 'Bwd Pkts/b Avg', 'Fwd Byts/b Avg', 'Bwd IAT Mean'], 'Adv sample 632': ['Active Mean', 'Bwd Pkts/s', 'Bwd IAT Mean', 'Bwd IAT Std', 'Bwd IAT Max', 'Flow Pkts/s', 'Fwd IAT Min', 'Init Bwd Win Byts', 'Pkt Len Mean', 'Idle Max'], 'Adv sample 633': ['ACK Flag Cnt', 'Bwd IAT Std', 'Active Max', 'Init Bwd Win Byts', 'Active Min', 'Fwd IAT Min', 'Bwd IAT Max', 'Idle Std', 'Active Mean', 'Bwd IAT Min'], 'Adv sample 634': ['Bwd IAT Mean', 'Bwd IAT Tot', 'Active Mean', 'Init Bwd Win Byts', 'Bwd IAT Std', 'Idle Std', 'Down/Up Ratio', 'Bwd IAT Max', 'Fwd IAT Min', 'Bwd Pkt Len Std'], 'Adv sample 635': ['ACK Flag Cnt', 'Init Bwd Win Byts', 'FIN Flag Cnt', 'Fwd IAT Min', 'Active Mean', 'Fwd Byts/b Avg', 'Bwd IAT Std', 'Bwd Seg Size Avg', 'Active Min', 'Bwd IAT Tot'], 'Adv sample 636': ['SYN Flag Cnt', 'Active Min', 'Bwd IAT Min', 'Init Bwd Win Byts', 'Bwd IAT Mean', 'Fwd Pkts/s', 'Fwd Byts/b Avg', 'Active Max', 'Bwd IAT Max', 'Fwd IAT Min'], 'Adv sample 637': ['SYN Flag Cnt', 'Bwd IAT Mean', 'Init Bwd Win Byts', 'Fwd IAT Min', 'Active Mean', 'Active Min', 'Bwd IAT Std', 'Idle Std', 'Active Max', 'Bwd Pkts/b Avg'], 'Adv sample 638': ['Bwd IAT Mean', 'Bwd IAT Min', 'Bwd IAT Tot', 'Init Bwd Win Byts', 'Fwd Byts/b Avg', 'Fwd Blk Rate Avg', 'Bwd IAT Std', 'Fwd IAT Max', 'Down/Up Ratio', 'Fwd Pkt Len Mean'], 'Adv sample 639': ['Active Mean', 'Bwd IAT Max', 'Init Bwd Win Byts', 'Bwd IAT Mean', 'Bwd IAT Tot', 'Bwd Pkts/s', 'Active Max', 'Active Min', 'Pkt Len Max', 'Down/Up Ratio'], 'Adv sample 640': ['ACK Flag Cnt', 'Bwd IAT Max', 'Active Min', 'Init Bwd Win Byts', 'Bwd IAT Tot', 'Bwd PSH Flags', 'Pkt Len Min', 'Bwd Pkt Len Std', 'Fwd Pkt Len Std', 'Pkt Len Max'], 'Adv sample 641': ['SYN Flag Cnt', 'Active Min', 'Active Mean', 'Init Bwd Win Byts', 'Active Max', 'Bwd IAT Std', 'Fwd IAT Min', 'Idle Std', 'Pkt Len Min', 'Bwd IAT Mean'], 'Adv sample 642': ['SYN Flag Cnt', 'Bwd IAT Min', 'Bwd IAT Mean', 'Bwd Byts/b Avg', 'Bwd IAT Tot', 'Init Bwd Win Byts', 'Bwd Pkts/b Avg', 'Fwd Byts/b Avg', 'Subflow Fwd Pkts', 'Pkt Len Var'], 'Adv sample 643': ['Bwd IAT Min', 'SYN Flag Cnt', 'Init Bwd Win Byts', 'Bwd IAT Tot', 'Down/Up Ratio', 'Bwd Pkts/b Avg', 'Pkt Len Mean', 'Bwd Seg Size Avg', 'Subflow Bwd Byts', 'Fwd Byts/b Avg'], 'Adv sample 644': ['Active Mean', 'Active Min', 'Active Max', 'Bwd IAT Mean', 'Bwd IAT Min', 'Init Bwd Win Byts', 'Down/Up Ratio', 'Fwd Blk Rate Avg', 'Pkt Len Mean', 'Fwd IAT Min'], 'Adv sample 645': ['SYN Flag Cnt', 'Bwd IAT Mean', 'Idle Std', 'Fwd IAT Min', 'Init Bwd Win Byts', 'Active Max', 'Fwd Byts/b Avg', 'Fwd Blk Rate Avg', 'Pkt Len Std', 'Pkt Len Min'], 'Adv sample 646': ['SYN Flag Cnt', 'Active Min', 'Active Max', 'Active Mean', 'Init Bwd Win Byts', 'Down/Up Ratio', 'Idle Max', 'Bwd IAT Mean', 'Fwd Pkt Len Mean', 'Bwd IAT Min'], 'Adv sample 647': ['SYN Flag Cnt', 'Active Max', 'Idle Std', 'Fwd Byts/b Avg', 'Init Bwd Win Byts', 'Flow IAT Min', 'Pkt Len Min', 'Fwd IAT Mean', 'Subflow Bwd Byts', 'Bwd Pkt Len Min'], 'Adv sample 648': ['SYN Flag Cnt', 'Bwd IAT Min', 'Init Bwd Win Byts', 'Active Max', 'Fwd Byts/b Avg', 'Idle Std', 'Bwd Pkt Len Mean', 'TotLen Fwd Pkts', 'Pkt Len Std', 'Pkt Len Max'], 'Adv sample 649': ['ACK Flag Cnt', 'Active Mean', 'Bwd IAT Max', 'Active Max', 'Bwd IAT Std', 'Init Bwd Win Byts', 'Active Min', 'Bwd IAT Tot', 'Flow IAT Mean', 'Bwd Pkts/b Avg'], 'Adv sample 650': ['SYN Flag Cnt', 'Active Min', 'Bwd IAT Mean', 'Active Max', 'Active Mean', 'Init Bwd Win Byts', 'Fwd Byts/b Avg', 'Fwd Blk Rate Avg', 'Idle Std', 'Pkt Len Max'], 'Adv sample 651': ['ACK Flag Cnt', 'Active Max', 'Init Bwd Win Byts', 'Active Min', 'Bwd IAT Std', 'Bwd IAT Max', 'Pkt Len Var', 'Pkt Len Min', 'Fwd Byts/b Avg', 'Subflow Bwd Byts'], 'Adv sample 652': ['ACK Flag Cnt', 'FIN Flag Cnt', 'Bwd IAT Min', 'Init Bwd Win Byts', 'Fwd Byts/b Avg', 'Down/Up Ratio', 'Bwd Pkts/b Avg', 'Active Max', 'Bwd Pkt Len Mean', 'Flow Pkts/s'], 'Adv sample 653': ['SYN Flag Cnt', 'Init Bwd Win Byts', 'Active Mean', 'Active Min', 'Fwd IAT Min', 'Bwd IAT Std', 'Bwd IAT Max', 'Pkt Len Std', 'Bwd IAT Min', 'Fwd Byts/b Avg'], 'Adv sample 654': ['SYN Flag Cnt', 'Active Mean', 'Bwd IAT Min', 'Init Bwd Win Byts', 'Active Max', 'Active Min', 'Idle Std', 'Bwd IAT Std', 'Bwd IAT Max', 'Bwd IAT Mean'], 'Adv sample 655': ['ACK Flag Cnt', 'Active Max', 'Init Bwd Win Byts', 'Idle Std', 'Active Min', 'Active Mean', 'Fwd Byts/b Avg', 'Fwd IAT Min', 'Down/Up Ratio', 'Pkt Len Max'], 'Adv sample 656': ['Bwd IAT Min', 'Active Max', 'Init Bwd Win Byts', 'Idle Std', 'Bwd IAT Max', 'Active Min', 'Active Mean', 'Bwd IAT Std', 'Down/Up Ratio', 'Pkt Len Max'], 'Adv sample 657': ['ACK Flag Cnt', 'Active Max', 'Fwd IAT Mean', 'Init Bwd Win Byts', 'Fwd Header Len', 'Bwd Seg Size Avg', 'Idle Min', 'Tot Bwd Pkts', 'Down/Up Ratio', 'Flow Duration'], 'Adv sample 658': ['Active Max', 'Bwd IAT Mean', 'Active Mean', 'Fwd Byts/b Avg', 'Init Bwd Win Byts', 'Bwd IAT Max', 'Bwd IAT Min', 'Pkt Len Mean', 'Bwd Pkt Len Std', 'Pkt Size Avg'], 'Adv sample 659': ['SYN Flag Cnt', 'Active Mean', 'Bwd IAT Mean', 'Fwd IAT Min', 'Bwd Pkts/b Avg', 'Idle Std', 'Fwd Byts/b Avg', 'Init Bwd Win Byts', 'Flow Pkts/s', 'Pkt Len Min'], 'Adv sample 660': ['ACK Flag Cnt', 'Init Bwd Win Byts', 'Bwd IAT Std', 'Bwd IAT Min', 'Bwd IAT Max', 'Active Mean', 'Bwd IAT Mean', 'Active Min', 'Flow IAT Mean', 'Bwd IAT Tot'], 'Adv sample 661': ['Active Max', 'Bwd IAT Min', 'Idle Min', 'Fwd Byts/b Avg', 'Init Bwd Win Byts', 'Pkt Len Std', 'Pkt Len Mean', 'Fwd Pkts/b Avg', 'Down/Up Ratio', 'Idle Max'], 'Adv sample 662': ['ACK Flag Cnt', 'Fwd Byts/b Avg', 'Fwd IAT Min', 'Init Bwd Win Byts', 'Active Max', 'Idle Mean', 'Bwd Pkts/b Avg', 'Down/Up Ratio', 'Pkt Len Max', 'Pkt Len Min'], 'Adv sample 663': ['SYN Flag Cnt', 'Bwd IAT Mean', 'Idle Std', 'Fwd Blk Rate Avg', 'Fwd IAT Mean', 'Bwd Pkts/b Avg', 'Bwd IAT Std', 'Init Bwd Win Byts', 'Fwd Byts/b Avg', 'Pkt Len Min'], 'Adv sample 664': ['ACK Flag Cnt', 'Active Max', 'FIN Flag Cnt', 'Fwd IAT Mean', 'Init Bwd Win Byts', 'Fwd Byts/b Avg', 'Pkt Len Std', 'Tot Bwd Pkts', 'Fwd Pkts/s', 'Flow IAT Mean'], 'Adv sample 665': ['Active Min', 'Active Mean', 'Init Bwd Win Byts', 'Bwd IAT Min', 'Bwd IAT Mean', 'Idle Std', 'Fwd Byts/b Avg', 'Bwd Pkts/b Avg', 'Active Max', 'Bwd IAT Max'], 'Adv sample 666': ['Bwd IAT Max', 'ACK Flag Cnt', 'Bwd IAT Std', 'Bwd IAT Tot', 'Flow IAT Mean', 'Active Max', 'Active Mean', 'Bwd IAT Mean', 'Fwd IAT Min', 'PSH Flag Cnt'], 'Adv sample 667': ['ACK Flag Cnt', 'Bwd IAT Max', 'Active Mean', 'Active Max', 'Bwd IAT Min', 'Init Bwd Win Byts', 'Fwd Header Len', 'Fwd Byts/b Avg', 'Flow IAT Mean', 'Fwd IAT Std'], 'Adv sample 668': ['Active Mean', 'Active Max', 'Fwd IAT Min', 'Init Bwd Win Byts', 'Bwd IAT Min', 'Active Min', 'Bwd IAT Mean', 'Fwd Byts/b Avg', 'Bwd IAT Std', 'Bwd IAT Max'], 'Adv sample 669': ['ACK Flag Cnt', 'Fwd IAT Mean', 'FIN Flag Cnt', 'Fwd Byts/b Avg', 'Init Bwd Win Byts', 'Active Max', 'Tot Fwd Pkts', 'Pkt Size Avg', 'Bwd Pkt Len Max', 'Down/Up Ratio'], 'Adv sample 670': ['Active Max', 'Fwd Byts/b Avg', 'Bwd IAT Mean', 'Bwd Pkts/b Avg', 'Init Bwd Win Byts', 'Fwd IAT Min', 'Subflow Bwd Pkts', 'Pkt Len Min', 'Pkt Len Std', 'Fwd Blk Rate Avg'], 'Adv sample 671': ['Active Min', 'Active Mean', 'Init Bwd Win Byts', 'Bwd IAT Max', 'Bwd Pkts/b Avg', 'Fwd IAT Min', 'Bwd IAT Mean', 'Active Max', 'Bwd IAT Std', 'Pkt Len Max'], 'Adv sample 672': ['Bwd IAT Min', 'Fwd Byts/b Avg', 'Init Bwd Win Byts', 'Idle Max', 'Idle Min', 'Fwd IAT Min', 'Active Mean', 'Fwd Pkts/b Avg', 'Pkt Len Max', 'Bwd Pkt Len Max'], 'Adv sample 673': ['ACK Flag Cnt', 'Idle Std', 'Active Max', 'Bwd Byts/b Avg', 'Idle Min', 'Init Bwd Win Byts', 'Bwd IAT Tot', 'Down/Up Ratio', 'Idle Max', 'Pkt Size Avg'], 'Adv sample 674': ['ACK Flag Cnt', 'Active Max', 'Bwd IAT Min', 'Init Bwd Win Byts', 'Bwd IAT Std', 'Bwd IAT Mean', 'Active Min', 'Active Mean', 'Fwd Byts/b Avg', 'Pkt Len Std'], 'Adv sample 675': ['Bwd IAT Min', 'Bwd IAT Std', 'Init Bwd Win Byts', 'Idle Std', 'Fwd IAT Min', 'Active Mean', 'Active Min', 'Active Max', 'Down/Up Ratio', 'Fwd Byts/b Avg'], 'Adv sample 676': ['Bwd IAT Min', 'Bwd IAT Max', 'Active Mean', 'Init Bwd Win Byts', 'Fwd Byts/b Avg', 'Bwd Pkts/b Avg', 'Active Min', 'Active Max', 'Bwd IAT Mean', 'Pkt Len Min'], 'Adv sample 677': ['Bwd IAT Min', 'Active Max', 'Bwd IAT Max', 'Fwd Byts/b Avg', 'Bwd IAT Tot', 'Active Min', 'Init Bwd Win Byts', 'Active Mean', 'Fwd IAT Min', 'Bwd IAT Mean'], 'Adv sample 678': ['SYN Flag Cnt', 'Active Mean', 'Bwd IAT Min', 'Bwd IAT Std', 'Init Bwd Win Byts', 'Active Min', 'Bwd IAT Mean', 'Fwd Byts/b Avg', 'Pkt Len Min', 'Bwd IAT Tot'], 'Adv sample 679': ['Active Max', 'Active Mean', 'Active Min', 'Init Bwd Win Byts', 'Bwd IAT Mean', 'Fwd IAT Min', 'Fwd Byts/b Avg', 'Bwd Pkts/b Avg', 'Pkt Len Max', 'Bwd IAT Tot'], 'Adv sample 680': ['ACK Flag Cnt', 'Active Max', 'Active Mean', 'Init Bwd Win Byts', 'Bwd IAT Mean', 'Fwd IAT Min', 'Bwd IAT Min', 'TotLen Fwd Pkts', 'Bwd IAT Std', 'Flow IAT Max'], 'Adv sample 681': ['URG Flag Cnt', 'Bwd URG Flags', 'FIN Flag Cnt', 'Bwd IAT Std', 'Init Bwd Win Byts', 'Down/Up Ratio', 'Pkt Len Mean', 'Bwd IAT Tot', 'Flow IAT Max', 'Bwd Pkt Len Std'], 'Adv sample 682': ['Bwd Pkts/s', 'Bwd IAT Mean', 'Bwd IAT Tot', 'Init Bwd Win Byts', 'Fwd IAT Min', 'Bwd IAT Max', 'Idle Max', 'Flow Pkts/s', 'Fwd Pkt Len Mean', 'Bwd Pkt Len Mean'], 'Adv sample 683': ['SYN Flag Cnt', 'Init Bwd Win Byts', 'Active Max', 'Fwd Byts/b Avg', 'Bwd IAT Mean', 'Pkt Size Avg', 'Down/Up Ratio', 'Active Mean', 'Bwd IAT Min', 'Fwd Header Len'], 'Adv sample 684': ['ACK Flag Cnt', 'Active Max', 'Fwd IAT Min', 'Init Bwd Win Byts', 'FIN Flag Cnt', 'Pkt Len Max', 'Active Min', 'Pkt Len Std', 'Bwd Pkt Len Min', 'Tot Fwd Pkts'], 'Adv sample 685': ['SYN Flag Cnt', 'Active Max', 'Bwd IAT Std', 'Bwd IAT Max', 'Active Mean', 'Bwd Pkts/b Avg', 'Bwd IAT Min', 'Init Bwd Win Byts', 'Fwd Pkt Len Mean', 'Pkt Len Std'], 'Adv sample 686': ['ACK Flag Cnt', 'Active Max', 'FIN Flag Cnt', 'Fwd IAT Min', 'Init Bwd Win Byts', 'Pkt Len Std', 'Fwd Pkt Len Std', 'Subflow Fwd Byts', 'Idle Min', 'Pkt Len Min'], 'Adv sample 687': ['Bwd IAT Std', 'Active Min', 'Bwd IAT Min', 'Init Bwd Win Byts', 'Fwd Byts/b Avg', 'Down/Up Ratio', 'Idle Std', 'Fwd Pkt Len Std', 'Pkt Size Avg', 'Subflow Fwd Byts'], 'Adv sample 688': ['Active Mean', 'Bwd IAT Mean', 'Init Bwd Win Byts', 'Fwd Blk Rate Avg', 'Idle Std', 'Bwd IAT Tot', 'Pkt Size Avg', 'Down/Up Ratio', 'Fwd Header Len', 'Bwd Pkts/b Avg'], 'Adv sample 689': ['Idle Std', 'Active Min', 'Active Mean', 'Bwd IAT Mean', 'Init Bwd Win Byts', 'Fwd Byts/b Avg', 'Bwd IAT Min', 'Bwd IAT Std', 'Bwd IAT Max', 'Down/Up Ratio'], 'Adv sample 690': ['Bwd Pkts/s', 'Flow Pkts/s', 'Bwd IAT Mean', 'Bwd IAT Tot', 'Init Bwd Win Byts', 'Down/Up Ratio', 'Pkt Len Std', 'Fwd Byts/b Avg', 'Flow IAT Std', 'Flow IAT Mean'], 'Adv sample 691': ['SYN Flag Cnt', 'Bwd IAT Mean', 'Idle Std', 'Active Max', 'Init Bwd Win Byts', 'Bwd Pkts/b Avg', 'Fwd Byts/b Avg', 'Fwd IAT Min', 'Pkt Len Min', 'Fwd Pkts/s'], 'Adv sample 692': ['Active Min', 'Active Mean', 'Bwd IAT Min', 'Bwd IAT Mean', 'Init Bwd Win Byts', 'Bwd IAT Max', 'Down/Up Ratio', 'Fwd Pkts/s', 'Pkt Len Max', 'Pkt Len Std'], 'Adv sample 693': ['ACK Flag Cnt', 'Active Max', 'Active Mean', 'Idle Std', 'Fwd IAT Min', 'Init Bwd Win Byts', 'Bwd IAT Min', 'Bwd IAT Max', 'Bwd IAT Mean', 'Fwd Blk Rate Avg'], 'Adv sample 694': ['Bwd IAT Mean', 'Active Mean', 'Init Bwd Win Byts', 'Active Max', 'Bwd IAT Tot', 'Fwd Byts/b Avg', 'Fwd Blk Rate Avg', 'Bwd Pkts/b Avg', 'Pkt Size Avg', 'Flow IAT Min'], 'Adv sample 695': ['Active Min', 'Bwd IAT Std', 'Active Mean', 'Bwd IAT Mean', 'Init Bwd Win Byts', 'Bwd IAT Tot', 'Fwd Blk Rate Avg', 'Pkt Len Max', 'Idle Min', 'Active Max'], 'Adv sample 696': ['ACK Flag Cnt', 'Active Max', 'Bwd Byts/b Avg', 'Idle Max', 'Idle Min', 'Down/Up Ratio', 'Init Bwd Win Byts', 'Bwd IAT Tot', 'Idle Std', 'FIN Flag Cnt'], 'Adv sample 697': ['SYN Flag Cnt', 'Init Bwd Win Byts', 'Active Min', 'Active Mean', 'Fwd IAT Min', 'Bwd IAT Mean', 'Bwd IAT Std', 'Fwd Blk Rate Avg', 'Bwd IAT Max', 'Bwd IAT Min'], 'Adv sample 698': ['Bwd Pkts/s', 'Flow Pkts/s', 'Bwd IAT Mean', 'Bwd IAT Tot', 'Bwd IAT Max', 'Init Bwd Win Byts', 'Active Min', 'Down/Up Ratio', 'Bwd IAT Std', 'Active Mean'], 'Adv sample 699': ['ACK Flag Cnt', 'Active Max', 'FIN Flag Cnt', 'Fwd Byts/b Avg', 'Init Bwd Win Byts', 'Bwd Seg Size Avg', 'Subflow Bwd Pkts', 'Flow Pkts/s', 'Pkt Len Max', 'Flow IAT Min'], 'Adv sample 700': ['SYN Flag Cnt', 'Init Bwd Win Byts', 'Active Min', 'Active Mean', 'Fwd IAT Min', 'Active Max', 'Bwd IAT Max', 'Idle Std', 'Pkt Len Min', 'Fwd Byts/b Avg'], 'Adv sample 701': ['ACK Flag Cnt', 'Active Min', 'Active Max', 'Init Bwd Win Byts', 'Down/Up Ratio', 'Fwd IAT Min', 'Idle Std', 'Bwd IAT Min', 'Active Mean', 'Pkt Len Max'], 'Adv sample 702': ['ACK Flag Cnt', 'Active Mean', 'Active Max', 'Init Bwd Win Byts', 'Fwd IAT Min', 'Fwd Pkt Len Mean', 'Bwd IAT Mean', 'Subflow Fwd Byts', 'Down/Up Ratio', 'Bwd IAT Tot'], 'Adv sample 703': ['Active Mean', 'Init Bwd Win Byts', 'Active Max', 'Active Min', 'Bwd IAT Mean', 'Idle Std', 'Fwd IAT Min', 'Fwd Byts/b Avg', 'Bwd IAT Std', 'Bwd Pkts/b Avg'], 'Adv sample 704': ['Active Mean', 'Active Max', 'ACK Flag Cnt', 'Fwd IAT Min', 'Init Bwd Win Byts', 'Idle Std', 'Active Min', 'Fwd Byts/b Avg', 'Down/Up Ratio', 'Bwd IAT Std'], 'Adv sample 705': ['Init Bwd Win Byts', 'Bwd IAT Min', 'Bwd IAT Mean', 'Active Min', 'Bwd IAT Tot', 'Down/Up Ratio', 'Bwd IAT Std', 'Active Mean', 'Active Max', 'Idle Max'], 'Adv sample 706': ['Init Bwd Win Byts', 'Active Max', 'Down/Up Ratio', 'Idle Std', 'FIN Flag Cnt', 'Pkt Len Min', 'Pkt Len Std', 'Bwd Blk Rate Avg', 'Fwd Seg Size Avg', 'Pkt Len Max'], 'Adv sample 707': ['Bwd Pkts/s', 'Bwd IAT Mean', 'Bwd IAT Tot', 'Init Bwd Win Byts', 'Idle Max', 'Bwd IAT Max', 'Bwd Pkts/b Avg', 'Flow Pkts/s', 'Bwd IAT Min', 'Down/Up Ratio'], 'Adv sample 708': ['SYN Flag Cnt', 'Active Mean', 'Fwd Byts/b Avg', 'Fwd IAT Min', 'Bwd IAT Mean', 'Active Max', 'Idle Std', 'Init Bwd Win Byts', 'Bwd Pkts/b Avg', 'Pkt Len Std'], 'Adv sample 709': ['Bwd IAT Min', 'Fwd Byts/b Avg', 'Init Bwd Win Byts', 'Bwd IAT Max', 'Active Max', 'Fwd IAT Min', 'Bwd Pkts/b Avg', 'Bwd Pkt Len Std', 'Down/Up Ratio', 'Fwd Blk Rate Avg'], 'Adv sample 710': ['Active Mean', 'Init Bwd Win Byts', 'Active Min', 'Bwd IAT Mean', 'Active Max', 'Bwd IAT Tot', 'Bwd IAT Min', 'Bwd Pkts/b Avg', 'Bwd IAT Std', 'Fwd IAT Min'], 'Adv sample 711': ['ACK Flag Cnt', 'FIN Flag Cnt', 'Fwd IAT Mean', 'Bwd IAT Min', 'Bwd IAT Mean', 'Init Bwd Win Byts', 'Flow Pkts/s', 'Fwd Byts/b Avg', 'Bwd PSH Flags', 'Pkt Len Min'], 'Adv sample 712': ['Active Max', 'ACK Flag Cnt', 'Active Mean', 'Init Bwd Win Byts', 'Bwd IAT Std', 'Active Min', 'Bwd IAT Tot', 'Idle Std', 'Down/Up Ratio', 'Bwd IAT Max'], 'Adv sample 713': ['SYN Flag Cnt', 'Init Bwd Win Byts', 'Fwd IAT Mean', 'Bwd IAT Min', 'Active Min', 'Active Mean', 'Idle Std', 'Bwd IAT Std', 'Active Max', 'Fwd Byts/b Avg'], 'Adv sample 714': ['Bwd Pkts/s', 'Flow Pkts/s', 'Bwd IAT Min', 'Bwd IAT Max', 'Init Bwd Win Byts', 'Down/Up Ratio', 'Bwd IAT Tot', 'Fwd IAT Min', 'Pkt Size Avg', 'Bwd PSH Flags'], 'Adv sample 715': ['Active Min', 'Down/Up Ratio', 'Bwd IAT Min', 'Init Bwd Win Byts', 'Active Max', 'Bwd IAT Tot', 'Idle Max', 'Active Mean', 'Fwd Blk Rate Avg', 'Bwd IAT Max'], 'Adv sample 716': ['Active Min', 'Active Mean', 'Active Max', 'Fwd IAT Min', 'Fwd Byts/b Avg', 'Init Bwd Win Byts', 'Idle Std', 'Idle Max', 'Pkt Len Max', 'Bwd Pkts/b Avg'], 'Adv sample 717': ['Active Min', 'Bwd IAT Min', 'Active Max', 'Init Bwd Win Byts', 'Bwd IAT Std', 'Active Mean', 'Fwd IAT Min', 'Bwd IAT Max', 'Idle Std', 'Subflow Fwd Pkts'], 'Adv sample 718': ['ACK Flag Cnt', 'Active Max', 'Fwd IAT Min', 'Init Bwd Win Byts', 'Bwd IAT Tot', 'Idle Std', 'Pkt Len Max', 'Fwd Pkt Len Min', 'Bwd IAT Mean', 'Pkt Len Var'], 'Adv sample 719': ['Bwd Pkts/s', 'Bwd IAT Max', 'Active Mean', 'Init Bwd Win Byts', 'Flow Pkts/s', 'Bwd IAT Std', 'Bwd IAT Min', 'Bwd IAT Mean', 'Active Min', 'Bwd IAT Tot'], 'Adv sample 720': ['Active Mean', 'Bwd Pkts/s', 'Bwd IAT Mean', 'Active Max', 'Fwd IAT Min', 'Init Bwd Win Byts', 'Bwd IAT Max', 'Flow Pkts/s', 'Bwd IAT Tot', 'Bwd Seg Size Avg'], 'Adv sample 721': ['Active Max', 'Active Mean', 'Bwd IAT Min', 'Init Bwd Win Byts', 'Bwd IAT Mean', 'Bwd IAT Max', 'Flow Byts/s', 'Fwd Blk Rate Avg', 'Fwd Byts/b Avg', 'Pkt Len Mean'], 'Adv sample 722': ['ACK Flag Cnt', 'Active Mean', 'Fwd IAT Min', 'Active Max', 'Idle Min', 'Idle Std', 'Init Bwd Win Byts', 'Pkt Len Min', 'Tot Fwd Pkts', 'Pkt Len Max'], 'Adv sample 723': ['URG Flag Cnt', 'Bwd URG Flags', 'Active Max', 'Init Bwd Win Byts', 'Idle Std', 'Bwd IAT Mean', 'PSH Flag Cnt', 'Bwd IAT Max', 'Down/Up Ratio', 'Subflow Fwd Byts'], 'Adv sample 724': ['Active Max', 'Active Mean', 'Init Bwd Win Byts', 'Bwd IAT Mean', 'Down/Up Ratio', 'Idle Max', 'Fwd Byts/b Avg', 'Bwd IAT Max', 'Bwd IAT Tot', 'Pkt Len Min'], 'Adv sample 725': ['Active Min', 'Init Bwd Win Byts', 'Bwd IAT Mean', 'Bwd IAT Min', 'Active Max', 'Idle Max', 'Down/Up Ratio', 'Active Mean', 'Bwd IAT Max', 'Fwd Blk Rate Avg'], 'Adv sample 726': ['Active Max', 'Bwd IAT Mean', 'Active Min', 'Init Bwd Win Byts', 'Bwd IAT Tot', 'Active Mean', 'Bwd IAT Max', 'Down/Up Ratio', 'Bwd IAT Min', 'Pkt Len Min'], 'Adv sample 727': ['SYN Flag Cnt', 'Fwd Byts/b Avg', 'Init Bwd Win Byts', 'Bwd Byts/b Avg', 'TotLen Bwd Pkts', 'Bwd Header Len', 'Flow IAT Max', 'Bwd Seg Size Avg', 'Bwd Pkt Len Min', 'Tot Bwd Pkts'], 'Adv sample 728': ['ACK Flag Cnt', 'Active Mean', 'Active Min', 'Active Max', 'Idle Std', 'Bwd IAT Max', 'Bwd IAT Mean', 'Init Bwd Win Byts', 'Bwd IAT Std', 'Fwd IAT Min'], 'Adv sample 729': ['ACK Flag Cnt', 'Bwd IAT Max', 'Active Mean', 'Init Bwd Win Byts', 'Active Max', 'Flow IAT Std', 'Fwd Pkts/s', 'FIN Flag Cnt', 'Bwd Pkt Len Max', 'Fwd Blk Rate Avg'], 'Adv sample 730': ['ACK Flag Cnt', 'Bwd IAT Std', 'Flow IAT Mean', 'Init Bwd Win Byts', 'Flow IAT Std', 'Active Min', 'Bwd IAT Mean', 'Bwd IAT Tot', 'Active Mean', 'Fwd Byts/b Avg'], 'Adv sample 731': ['SYN Flag Cnt', 'Init Bwd Win Byts', 'Active Min', 'Bwd IAT Min', 'Active Mean', 'Bwd IAT Mean', 'Fwd IAT Min', 'Active Max', 'Flow Byts/s', 'Flow Pkts/s'], 'Adv sample 732': ['Bwd Pkts/s', 'Bwd IAT Mean', 'Idle Max', 'Flow Pkts/s', 'Init Bwd Win Byts', 'Down/Up Ratio', 'Bwd IAT Max', 'Bwd IAT Tot', 'Pkt Len Mean', 'Bwd IAT Min'], 'Adv sample 733': ['Bwd IAT Mean', 'Bwd IAT Min', 'Bwd IAT Max', 'Init Bwd Win Byts', 'Active Mean', 'Active Min', 'Fwd Byts/b Avg', 'Active Max', 'Pkt Len Min', 'Down/Up Ratio'], 'Adv sample 734': ['ACK Flag Cnt', 'Init Bwd Win Byts', 'Fwd IAT Min', 'Active Min', 'Bwd Pkts/s', 'Bwd IAT Max', 'Fwd Blk Rate Avg', 'Active Mean', 'Flow Pkts/s', 'Fwd Byts/b Avg'], 'Adv sample 735': ['ACK Flag Cnt', 'Bwd IAT Max', 'Bwd IAT Mean', 'Init Bwd Win Byts', 'Bwd IAT Tot', 'Bwd IAT Std', 'Active Mean', 'Flow IAT Mean', 'Bwd Pkts/b Avg', 'Flow Pkts/s'], 'Adv sample 736': ['ACK Flag Cnt', 'Bwd IAT Min', 'Active Mean', 'Bwd IAT Max', 'Bwd IAT Tot', 'Active Min', 'Init Bwd Win Byts', 'Fwd IAT Mean', 'Flow Pkts/s', 'Active Max'], 'Adv sample 737': ['Active Min', 'Init Bwd Win Byts', 'Fwd Byts/b Avg', 'Bwd IAT Min', 'Idle Min', 'Active Mean', 'Bwd IAT Mean', 'Idle Max', 'Down/Up Ratio', 'Pkt Len Max'], 'Adv sample 738': ['SYN Flag Cnt', 'Idle Std', 'Active Max', 'Init Bwd Win Byts', 'Bwd Pkts/b Avg', 'Fwd IAT Min', 'Pkt Len Std', 'Bwd Seg Size Avg', 'Fwd Blk Rate Avg', 'Flow IAT Std'], 'Adv sample 739': ['SYN Flag Cnt', 'Active Mean', 'Active Min', 'Fwd Byts/b Avg', 'Bwd Pkts/b Avg', 'Init Bwd Win Byts', 'Bwd IAT Mean', 'Bwd IAT Min', 'Idle Std', 'Fwd IAT Min'], 'Adv sample 740': ['Bwd IAT Min', 'Active Min', 'Active Mean', 'Init Bwd Win Byts', 'Fwd IAT Min', 'Down/Up Ratio', 'Pkt Len Mean', 'Subflow Fwd Byts', 'Fwd Seg Size Avg', 'Fwd Pkt Len Max'], 'Adv sample 741': ['ACK Flag Cnt', 'Init Bwd Win Byts', 'Fwd IAT Min', 'Bwd IAT Mean', 'Bwd IAT Max', 'Active Min', 'Bwd IAT Std', 'Active Mean', 'Active Max', 'Pkt Len Max'], 'Adv sample 742': ['Bwd IAT Mean', 'Active Min', 'Fwd Byts/b Avg', 'Active Mean', 'Init Bwd Win Byts', 'Bwd IAT Min', 'Active Max', 'Bwd IAT Max', 'Bwd IAT Tot', 'Idle Mean'], 'Adv sample 743': ['ACK Flag Cnt', 'Active Max', 'Init Bwd Win Byts', 'FIN Flag Cnt', 'TotLen Fwd Pkts', 'Pkt Len Mean', 'Fwd IAT Min', 'Active Min', 'Down/Up Ratio', 'Fwd Blk Rate Avg'], 'Adv sample 744': ['SYN Flag Cnt', 'Active Max', 'Fwd IAT Mean', 'Idle Std', 'Init Bwd Win Byts', 'Bwd IAT Mean', 'Fwd Byts/b Avg', 'Fwd Blk Rate Avg', 'Bwd Pkts/b Avg', 'Bwd IAT Min'], 'Adv sample 745': ['ACK Flag Cnt', 'Bwd IAT Min', 'Active Mean', 'Bwd IAT Std', 'Bwd IAT Tot', 'Active Max', 'Init Bwd Win Byts', 'Active Min', 'Pkt Len Min', 'Flow IAT Mean'], 'Adv sample 746': ['ACK Flag Cnt', 'Active Max', 'Flow IAT Mean', 'Bwd IAT Std', 'Fwd IAT Min', 'Fwd IAT Mean', 'Idle Mean', 'Flow IAT Max', 'Idle Std', 'Pkt Len Mean'], 'Adv sample 747': ['Bwd Pkts/s', 'Flow Pkts/s', 'Bwd IAT Mean', 'Bwd IAT Max', 'Down/Up Ratio', 'Init Bwd Win Byts', 'Active Min', 'Bwd IAT Tot', 'Active Max', 'Active Mean'], 'Adv sample 748': ['SYN Flag Cnt', 'Active Min', 'Fwd Byts/b Avg', 'Bwd IAT Min', 'Init Bwd Win Byts', 'Idle Std', 'Bwd IAT Mean', 'Fwd Blk Rate Avg', 'Flow IAT Max', 'Pkt Size Avg'], 'Adv sample 749': ['ACK Flag Cnt', 'Bwd IAT Tot', 'Init Bwd Win Byts', 'Flow IAT Std', 'Fwd Byts/b Avg', 'Bwd IAT Std', 'Flow Pkts/s', 'Flow IAT Mean', 'Bwd IAT Mean', 'Bwd IAT Max'], 'Adv sample 750': ['SYN Flag Cnt', 'Bwd Pkts/b Avg', 'Fwd IAT Min', 'Bwd IAT Std', 'Init Bwd Win Byts', 'Fwd Blk Rate Avg', 'Fwd IAT Mean', 'Fwd Byts/b Avg', 'Pkt Len Std', 'Bwd Pkt Len Std'], 'Adv sample 751': ['ACK Flag Cnt', 'Active Max', 'Init Bwd Win Byts', 'Fwd IAT Min', 'Active Mean', 'FIN Flag Cnt', 'Active Min', 'Bwd IAT Std', 'Flow Pkts/s', 'Bwd IAT Max'], 'Adv sample 752': ['Bwd Pkts/s', 'Idle Std', 'Active Max', 'Bwd IAT Mean', 'Flow Pkts/s', 'Init Bwd Win Byts', 'Active Mean', 'Bwd IAT Max', 'Fwd IAT Min', 'Down/Up Ratio'], 'Adv sample 753': ['Active Mean', 'Bwd IAT Mean', 'Bwd IAT Max', 'Init Bwd Win Byts', 'Fwd Blk Rate Avg', 'Bwd IAT Tot', 'Pkt Len Std', 'Down/Up Ratio', 'Fwd Pkt Len Std', 'Fwd IAT Min'], 'Adv sample 754': ['SYN Flag Cnt', 'Bwd IAT Min', 'Init Bwd Win Byts', 'Active Mean', 'Idle Std', 'Active Min', 'Fwd IAT Min', 'Active Max', 'Tot Bwd Pkts', 'Bwd IAT Std'], 'Adv sample 755': ['Bwd IAT Min', 'Active Min', 'Init Bwd Win Byts', 'Bwd IAT Std', 'Active Max', 'Active Mean', 'Down/Up Ratio', 'Fwd Pkts/s', 'Idle Max', 'Fwd IAT Mean'], 'Adv sample 756': ['ACK Flag Cnt', 'Bwd IAT Tot', 'Fwd IAT Min', 'Init Bwd Win Byts', 'Down/Up Ratio', 'Pkt Len Min', 'Fwd Blk Rate Avg', 'Pkt Len Max', 'Pkt Len Std', 'Active Max'], 'Adv sample 757': ['ACK Flag Cnt', 'Active Max', 'Idle Min', 'Init Bwd Win Byts', 'Bwd IAT Max', 'Idle Max', 'Pkt Len Std', 'Bwd IAT Min', 'Bwd Pkt Len Mean', 'Idle Std'], 'Adv sample 758': ['ACK Flag Cnt', 'Bwd IAT Max', 'Idle Min', 'Active Max', 'Fwd Act Data Pkts', 'Init Bwd Win Byts', 'Active Mean', 'Fwd IAT Max', 'Fwd Pkt Len Max', 'Flow Duration'], 'Adv sample 759': ['SYN Flag Cnt', 'Bwd IAT Min', 'Idle Std', 'Active Mean', 'Active Max', 'Fwd Byts/b Avg', 'Init Bwd Win Byts', 'Bwd Header Len', 'Bwd IAT Std', 'Fwd Seg Size Avg'], 'Adv sample 760': ['ACK Flag Cnt', 'Active Max', 'Init Bwd Win Byts', 'Fwd IAT Mean', 'Fwd IAT Min', 'Tot Fwd Pkts', 'Fwd Seg Size Avg', 'Pkt Size Avg', 'Bwd Pkt Len Std', 'Subflow Bwd Pkts'], 'Adv sample 761': ['ACK Flag Cnt', 'Active Max', 'Idle Max', 'Idle Min', 'Bwd IAT Tot', 'Init Bwd Win Byts', 'Fwd Byts/b Avg', 'Idle Mean', 'Active Min', 'Fwd Pkt Len Max'], 'Adv sample 762': ['Active Min', 'Bwd IAT Mean', 'Fwd IAT Min', 'Init Bwd Win Byts', 'Fwd Byts/b Avg', 'Active Mean', 'Bwd IAT Min', 'Active Max', 'Bwd IAT Std', 'Idle Std'], 'Adv sample 763': ['Active Min', 'Fwd IAT Min', 'Idle Std', 'Fwd Byts/b Avg', 'Bwd Pkts/b Avg', 'Init Bwd Win Byts', 'Pkt Size Avg', 'Bwd Pkt Len Min', 'Bwd IAT Mean', 'Down/Up Ratio'], 'Adv sample 764': ['ACK Flag Cnt', 'Init Bwd Win Byts', 'Active Max', 'Fwd IAT Min', 'Active Min', 'Bwd IAT Std', 'Active Mean', 'Bwd IAT Mean', 'Fwd Blk Rate Avg', 'Bwd IAT Min'], 'Adv sample 765': ['Init Bwd Win Byts', 'Active Min', 'Active Max', 'Bwd Pkts/s', 'Flow Pkts/s', 'Down/Up Ratio', 'Bwd IAT Mean', 'Bwd IAT Std', 'Idle Max', 'Bwd IAT Max'], 'Adv sample 766': ['ACK Flag Cnt', 'Active Mean', 'Init Bwd Win Byts', 'Bwd IAT Std', 'Bwd IAT Max', 'Bwd IAT Min', 'Idle Std', 'Flow Pkts/s', 'Fwd IAT Min', 'Active Max'], 'Adv sample 767': ['Active Min', 'Fwd Byts/b Avg', 'Active Max', 'Active Mean', 'Init Bwd Win Byts', 'Fwd IAT Min', 'Bwd IAT Std', 'Pkt Len Max', 'Down/Up Ratio', 'Pkt Size Avg'], 'Adv sample 768': ['Active Min', 'Bwd IAT Min', 'Bwd IAT Mean', 'Init Bwd Win Byts', 'Fwd Byts/b Avg', 'Active Mean', 'Fwd Blk Rate Avg', 'Fwd IAT Min', 'Pkt Len Mean', 'Fwd Seg Size Avg'], 'Adv sample 769': ['Bwd IAT Min', 'Fwd Byts/b Avg', 'Idle Std', 'Init Bwd Win Byts', 'Bwd Pkts/b Avg', 'Pkt Len Mean', 'Fwd Pkt Len Max', 'Pkt Len Std', 'Pkt Len Max', 'Pkt Len Min'], 'Adv sample 770': ['Active Mean', 'Bwd Pkts/s', 'Flow Pkts/s', 'Active Max', 'Bwd IAT Mean', 'Active Min', 'Bwd IAT Std', 'Fwd IAT Min', 'Down/Up Ratio', 'Fwd Act Data Pkts'], 'Adv sample 771': ['ACK Flag Cnt', 'Active Mean', 'Active Max', 'Bwd IAT Max', 'Init Bwd Win Byts', 'Fwd Byts/b Avg', 'Bwd Header Len', 'Pkt Len Std', 'Fwd Blk Rate Avg', 'Pkt Len Mean'], 'Adv sample 772': ['Fwd Byts/b Avg', 'Active Min', 'Init Bwd Win Byts', 'Bwd IAT Max', 'Bwd IAT Mean', 'Active Mean', 'Fwd IAT Min', 'Bwd Pkts/b Avg', 'Flow IAT Min', 'Pkt Len Min'], 'Adv sample 773': ['ACK Flag Cnt', 'Init Bwd Win Byts', 'FIN Flag Cnt', 'Bwd IAT Std', 'Active Max', 'Bwd IAT Min', 'Flow Pkts/s', 'Active Mean', 'Active Min', 'Fwd Byts/b Avg'], 'Adv sample 774': ['Active Min', 'Fwd Byts/b Avg', 'Bwd IAT Max', 'Init Bwd Win Byts', 'Idle Max', 'Idle Min', 'Pkt Len Std', 'Pkt Len Mean', 'Fwd IAT Min', 'Flow IAT Max'], 'Adv sample 775': ['Active Min', 'Active Max', 'Bwd IAT Min', 'Init Bwd Win Byts', 'Bwd IAT Max', 'Down/Up Ratio', 'Active Mean', 'TotLen Bwd Pkts', 'Subflow Bwd Byts', 'Tot Bwd Pkts'], 'Adv sample 776': ['Bwd IAT Max', 'Init Bwd Win Byts', 'Bwd IAT Mean', 'Bwd IAT Std', 'Fwd Byts/b Avg', 'Pkt Len Std', 'Bwd Pkt Len Std', 'Down/Up Ratio', 'Pkt Len Min', 'Active Max'], 'Adv sample 777': ['SYN Flag Cnt', 'Bwd IAT Mean', 'Active Mean', 'Fwd Byts/b Avg', 'Active Max', 'Init Bwd Win Byts', 'Bwd Pkts/b Avg', 'Flow Byts/s', 'Flow Pkts/s', 'Subflow Bwd Byts'], 'Adv sample 778': ['ACK Flag Cnt', 'Idle Std', 'Bwd IAT Tot', 'Active Mean', 'Init Bwd Win Byts', 'Down/Up Ratio', 'Active Max', 'Flow Duration', 'Fwd IAT Max', 'Subflow Fwd Pkts'], 'Adv sample 779': ['ACK Flag Cnt', 'Bwd IAT Min', 'Active Min', 'Init Bwd Win Byts', 'Bwd IAT Std', 'Bwd IAT Max', 'Bwd IAT Mean', 'Fwd IAT Mean', 'Pkt Len Mean', 'Fwd IAT Min'], 'Adv sample 780': ['Active Min', 'Bwd IAT Min', 'Fwd Byts/b Avg', 'Bwd IAT Mean', 'Init Bwd Win Byts', 'Bwd IAT Max', 'Bwd Pkts/b Avg', 'Fwd IAT Min', 'Bwd IAT Tot', 'Down/Up Ratio'], 'Adv sample 781': ['SYN Flag Cnt', 'Init Bwd Win Byts', 'Active Mean', 'Active Max', 'Active Min', 'Idle Std', 'Bwd IAT Mean', 'Fwd IAT Min', 'Fwd Byts/b Avg', 'Bwd IAT Std'], 'Adv sample 782': ['SYN Flag Cnt', 'Init Bwd Win Byts', 'Active Mean', 'Active Max', 'Active Min', 'Idle Std', 'Fwd IAT Mean', 'Fwd IAT Min', 'Bwd IAT Std', 'Bwd IAT Mean'], 'Adv sample 783': ['Active Max', 'Init Bwd Win Byts', 'Bwd Pkts/b Avg', 'Active Mean', 'Bwd IAT Std', 'Active Min', 'Fwd Byts/b Avg', 'Idle Std', 'Bwd IAT Max', 'Pkt Len Std'], 'Adv sample 784': ['Active Mean', 'Bwd IAT Mean', 'Active Min', 'Init Bwd Win Byts', 'Idle Std', 'Fwd IAT Min', 'Bwd IAT Max', 'Flow IAT Max', 'Pkt Len Min', 'Bwd Seg Size Avg'], 'Adv sample 785': ['ACK Flag Cnt', 'Init Bwd Win Byts', 'Bwd IAT Max', 'Active Mean', 'Bwd IAT Mean', 'Active Max', 'Bwd IAT Std', 'Flow IAT Mean', 'Flow IAT Std', 'Bwd IAT Min'], 'Adv sample 786': ['SYN Flag Cnt', 'Fwd Byts/b Avg', 'Init Bwd Win Byts', 'Bwd IAT Tot', 'Subflow Bwd Byts', 'Pkt Len Max', 'Bwd Seg Size Avg', 'Fwd Pkt Len Max', 'Pkt Size Avg', 'Fwd Pkt Len Std'], 'Adv sample 787': ['SYN Flag Cnt', 'Fwd Byts/b Avg', 'Init Bwd Win Byts', 'Pkt Len Std', 'Flow IAT Max', 'Bwd Pkts/b Avg', 'Pkt Len Mean', 'Fwd Blk Rate Avg', 'Fwd Pkt Len Max', 'Bwd Pkt Len Mean'], 'Adv sample 788': ['Active Mean', 'Bwd IAT Mean', 'Init Bwd Win Byts', 'Active Min', 'Bwd IAT Min', 'Bwd IAT Std', 'Active Max', 'Bwd IAT Tot', 'Flow IAT Max', 'Fwd IAT Min'], 'Adv sample 789': ['ACK Flag Cnt', 'Active Max', 'Bwd IAT Tot', 'Bwd IAT Max', 'Bwd IAT Mean', 'Active Mean', 'Idle Min', 'Init Bwd Win Byts', 'Down/Up Ratio', 'Pkt Len Max'], 'Adv sample 790': ['ACK Flag Cnt', 'Bwd IAT Std', 'Bwd IAT Max', 'Init Bwd Win Byts', 'Active Min', 'Flow IAT Mean', 'Subflow Bwd Pkts', 'Active Mean', 'Pkt Len Max', 'Active Max'], 'Adv sample 791': ['SYN Flag Cnt', 'Init Bwd Win Byts', 'Fwd Byts/b Avg', 'Fwd IAT Min', 'Pkt Len Max', 'Pkt Len Mean', 'Pkt Size Avg', 'Flow IAT Max', 'Bwd PSH Flags', 'Fwd Pkts/s'], 'Adv sample 792': ['ACK Flag Cnt', 'Active Max', 'Init Bwd Win Byts', 'Fwd IAT Min', 'Fwd Byts/b Avg', 'Active Min', 'Active Mean', 'Bwd IAT Mean', 'Down/Up Ratio', 'Bwd IAT Min'], 'Adv sample 793': ['Active Min', 'Init Bwd Win Byts', 'Active Mean', 'Active Max', 'Bwd IAT Std', 'Bwd IAT Mean', 'Bwd IAT Min', 'Fwd Byts/b Avg', 'Fwd IAT Min', 'Idle Std'], 'Adv sample 794': ['ACK Flag Cnt', 'Bwd IAT Min', 'Fwd Blk Rate Avg', 'Idle Max', 'Idle Min', 'Subflow Bwd Byts', 'Active Mean', 'Init Bwd Win Byts', 'Fwd Pkt Len Std', 'Active Max'], 'Adv sample 795': ['SYN Flag Cnt', 'Active Min', 'Active Mean', 'Bwd IAT Std', 'Init Bwd Win Byts', 'Bwd IAT Mean', 'Idle Mean', 'Bwd IAT Min', 'Active Max', 'Down/Up Ratio'], 'Adv sample 796': ['Bwd Pkts/s', 'Bwd IAT Min', 'Flow Pkts/s', 'Active Min', 'Bwd IAT Mean', 'Active Mean', 'Bwd IAT Tot', 'Init Bwd Win Byts', 'Down/Up Ratio', 'Bwd IAT Max'], 'Adv sample 797': ['SYN Flag Cnt', 'Active Min', 'Bwd IAT Std', 'Bwd IAT Mean', 'Fwd Byts/b Avg', 'Init Bwd Win Byts', 'Fwd IAT Min', 'Bwd IAT Min', 'Idle Std', 'Fwd Pkts/b Avg'], 'Adv sample 798': ['SYN Flag Cnt', 'Init Bwd Win Byts', 'Bwd IAT Mean', 'Bwd IAT Min', 'Bwd Pkts/b Avg', 'Bwd IAT Max', 'Pkt Len Max', 'Bwd Seg Size Avg', 'Bwd Pkt Len Mean', 'Fwd Pkt Len Mean'], 'Adv sample 799': ['Bwd IAT Mean', 'Idle Std', 'Bwd IAT Min', 'Init Bwd Win Byts', 'Active Mean', 'Active Min', 'Fwd Byts/b Avg', 'Bwd IAT Max', 'Bwd IAT Std', 'Active Max'], 'Adv sample 800': ['Bwd IAT Mean', 'Init Bwd Win Byts', 'Idle Max', 'Fwd Blk Rate Avg', 'Bwd IAT Tot', 'TotLen Bwd Pkts', 'Pkt Len Max', 'Down/Up Ratio', 'Pkt Size Avg', 'Pkt Len Std'], 'Adv sample 801': ['SYN Flag Cnt', 'Active Mean', 'Bwd IAT Min', 'Active Max', 'Init Bwd Win Byts', 'Bwd IAT Std', 'Active Min', 'Fwd Byts/b Avg', 'Bwd IAT Max', 'Bwd IAT Mean'], 'Adv sample 802': ['Active Mean', 'Bwd IAT Tot', 'Bwd Pkts/s', 'Bwd IAT Max', 'Active Min', 'Bwd IAT Mean', 'Init Bwd Win Byts', 'Down/Up Ratio', 'Fwd Blk Rate Avg', 'Flow Pkts/s'], 'Adv sample 803': ['Fwd Byts/b Avg', 'Bwd Pkts/b Avg', 'Fwd Blk Rate Avg', 'Bwd IAT Mean', 'Init Bwd Win Byts', 'Fwd Pkts/b Avg', 'Pkt Len Std', 'TotLen Bwd Pkts', 'Flow Byts/s', 'Tot Bwd Pkts'], 'Adv sample 804': ['Bwd IAT Min', 'Bwd IAT Tot', 'Bwd IAT Mean', 'Init Bwd Win Byts', 'Active Min', 'Bwd IAT Max', 'Active Max', 'Active Mean', 'Down/Up Ratio', 'Fwd Byts/b Avg'], 'Adv sample 805': ['Fwd Byts/b Avg', 'Active Max', 'Idle Max', 'Fwd IAT Min', 'Init Bwd Win Byts', 'Idle Min', 'Bwd Pkt Len Min', 'Pkt Len Max', 'Bwd IAT Min', 'Bwd Pkt Len Mean'], 'Adv sample 806': ['SYN Flag Cnt', 'Fwd Byts/b Avg', 'Init Bwd Win Byts', 'Pkt Len Mean', 'Bwd Pkt Len Std', 'Pkt Len Std', 'Pkt Size Avg', 'Pkt Len Max', 'Fwd Seg Size Avg', 'Flow IAT Min'], 'Adv sample 807': ['ACK Flag Cnt', 'Fwd IAT Min', 'Idle Min', 'Down/Up Ratio', 'Idle Mean', 'Bwd Pkts/b Avg', 'Fwd Byts/b Avg', 'TotLen Bwd Pkts', 'Init Bwd Win Byts', 'Bwd Pkt Len Max'], 'Adv sample 808': ['Bwd IAT Mean', 'Fwd IAT Min', 'Fwd Byts/b Avg', 'Active Mean', 'Active Min', 'Bwd Pkts/b Avg', 'Bwd IAT Tot', 'Init Bwd Win Byts', 'Active Max', 'Idle Max'], 'Adv sample 809': ['Bwd IAT Mean', 'Idle Std', 'Init Bwd Win Byts', 'Active Max', 'Active Min', 'Active Mean', 'Bwd Pkts/b Avg', 'Bwd IAT Min', 'Fwd Byts/b Avg', 'Bwd IAT Tot'], 'Adv sample 810': ['Bwd IAT Mean', 'Active Mean', 'Active Min', 'Init Bwd Win Byts', 'Fwd Byts/b Avg', 'Fwd Blk Rate Avg', 'Bwd Pkts/b Avg', 'Bwd Pkt Len Min', 'Bwd IAT Max', 'Bwd Header Len'], 'Adv sample 811': ['Active Mean', 'Active Max', 'Bwd IAT Min', 'Init Bwd Win Byts', 'Active Min', 'Bwd IAT Std', 'Bwd IAT Mean', 'Pkt Len Min', 'Fwd IAT Min', 'Down/Up Ratio'], 'Adv sample 812': ['ACK Flag Cnt', 'Active Max', 'Init Bwd Win Byts', 'Active Mean', 'Bwd IAT Std', 'Active Min', 'Bwd IAT Mean', 'Bwd IAT Max', 'Bwd IAT Tot', 'Fwd Blk Rate Avg'], 'Adv sample 813': ['Active Max', 'Init Bwd Win Byts', 'Bwd IAT Min', 'Active Min', 'Bwd IAT Mean', 'Fwd Byts/b Avg', 'Active Mean', 'Bwd Pkts/b Avg', 'Idle Max', 'Down/Up Ratio'], 'Adv sample 814': ['Active Max', 'Bwd IAT Mean', 'Bwd Pkts/b Avg', 'Init Bwd Win Byts', 'Active Min', 'Active Mean', 'Fwd Byts/b Avg', 'Bwd IAT Min', 'Idle Min', 'Flow Duration'], 'Adv sample 815': ['SYN Flag Cnt', 'Init Bwd Win Byts', 'Bwd IAT Tot', 'Fwd Byts/b Avg', 'Bwd Byts/b Avg', 'Pkt Size Avg', 'Bwd Pkt Len Std', 'Bwd Pkt Len Max', 'Bwd Header Len', 'Subflow Fwd Pkts'], 'Adv sample 816': ['Bwd IAT Mean', 'Bwd IAT Tot', 'Bwd Pkts/s', 'Init Bwd Win Byts', 'Idle Max', 'Down/Up Ratio', 'Fwd Blk Rate Avg', 'Bwd Pkts/b Avg', 'Pkt Len Mean', 'Fwd Seg Size Avg'], 'Adv sample 817': ['ACK Flag Cnt', 'Init Bwd Win Byts', 'Active Min', 'Fwd IAT Mean', 'Bwd IAT Max', 'Bwd IAT Std', 'Fwd IAT Min', 'Bwd IAT Min', 'Pkt Len Std', 'Fwd Byts/b Avg'], 'Adv sample 818': ['SYN Flag Cnt', 'Bwd IAT Min', 'Active Max', 'Bwd IAT Mean', 'Fwd Byts/b Avg', 'Idle Std', 'Bwd Pkts/b Avg', 'Init Bwd Win Byts', 'Tot Bwd Pkts', 'PSH Flag Cnt'], 'Adv sample 819': ['Active Min', 'Bwd IAT Max', 'Bwd IAT Std', 'Active Max', 'Active Mean', 'Init Bwd Win Byts', 'Bwd IAT Tot', 'Bwd IAT Mean', 'Down/Up Ratio', 'Idle Max'], 'Adv sample 820': ['Active Min', 'Bwd IAT Std', 'Bwd IAT Min', 'Active Mean', 'Init Bwd Win Byts', 'Idle Min', 'Bwd Pkts/b Avg', 'Down/Up Ratio', 'Pkt Len Min', 'Bwd IAT Max'], 'Adv sample 821': ['SYN Flag Cnt', 'Active Min', 'Init Bwd Win Byts', 'Bwd IAT Mean', 'Bwd IAT Std', 'Idle Std', 'Fwd IAT Min', 'Pkt Len Std', 'Bwd IAT Max', 'Bwd IAT Min'], 'Adv sample 822': ['Active Min', 'Fwd Byts/b Avg', 'Init Bwd Win Byts', 'Active Max', 'Active Mean', 'Fwd IAT Min', 'Bwd IAT Min', 'Bwd IAT Mean', 'Pkt Len Std', 'Pkt Size Avg'], 'Adv sample 823': ['ACK Flag Cnt', 'Init Bwd Win Byts', 'Bwd IAT Max', 'Bwd IAT Tot', 'Flow IAT Std', 'Bwd IAT Min', 'Fwd IAT Min', 'Flow IAT Mean', 'Active Max', 'Bwd IAT Std'], 'Adv sample 824': ['ACK Flag Cnt', 'Bwd IAT Std', 'Init Bwd Win Byts', 'Bwd IAT Tot', 'Bwd IAT Max', 'Bwd IAT Min', 'Flow Pkts/s', 'Flow IAT Std', 'Flow IAT Mean', 'FIN Flag Cnt'], 'Adv sample 825': ['ACK Flag Cnt', 'Init Bwd Win Byts', 'Fwd IAT Min', 'Active Max', 'Flow IAT Mean', 'Fwd Pkt Len Std', 'TotLen Fwd Pkts', 'Down/Up Ratio', 'Fwd Byts/b Avg', 'Fwd Pkt Len Min'], 'Adv sample 826': ['SYN Flag Cnt', 'Active Min', 'Init Bwd Win Byts', 'Bwd IAT Min', 'Bwd IAT Max', 'Active Max', 'Active Mean', 'Bwd IAT Std', 'Fwd IAT Min', 'Idle Std'], 'Adv sample 827': ['ACK Flag Cnt', 'Active Min', 'Init Bwd Win Byts', 'Fwd IAT Min', 'Bwd IAT Std', 'Fwd Blk Rate Avg', 'Bwd IAT Max', 'Fwd Byts/b Avg', 'Bwd IAT Mean', 'Subflow Bwd Byts'], 'Adv sample 828': ['Bwd Pkts/s', 'Bwd IAT Mean', 'Idle Max', 'Flow Pkts/s', 'Fwd IAT Min', 'Active Mean', 'Fwd Byts/b Avg', 'Bwd IAT Tot', 'Bwd Pkt Len Min', 'Init Bwd Win Byts'], 'Adv sample 829': ['ACK Flag Cnt', 'Bwd IAT Tot', 'Active Max', 'Idle Std', 'Idle Max', 'Init Bwd Win Byts', 'Down/Up Ratio', 'Idle Min', 'Bwd Byts/b Avg', 'Pkt Len Min'], 'Adv sample 830': ['Active Max', 'Init Bwd Win Byts', 'Active Min', 'Bwd IAT Min', 'Bwd IAT Max', 'Active Mean', 'Bwd IAT Std', 'Fwd Byts/b Avg', 'Fwd IAT Min', 'Bwd Pkts/b Avg'], 'Adv sample 831': ['Active Mean', 'Bwd IAT Mean', 'Bwd Pkts/s', 'Bwd IAT Max', 'Fwd IAT Min', 'Init Bwd Win Byts', 'Bwd IAT Tot', 'Pkt Len Std', 'Bwd IAT Min', 'Bwd Pkt Len Std'], 'Adv sample 832': ['Bwd Pkts/s', 'Active Mean', 'Bwd IAT Max', 'Flow Pkts/s', 'Init Bwd Win Byts', 'Bwd IAT Mean', 'Fwd IAT Min', 'Bwd Pkt Len Std', 'Pkt Len Mean', 'Down/Up Ratio'], 'Adv sample 833': ['ACK Flag Cnt', 'Init Bwd Win Byts', 'Bwd IAT Min', 'Active Mean', 'Active Min', 'Fwd Byts/b Avg', 'Bwd IAT Std', 'Fwd IAT Min', 'Bwd IAT Max', 'Bwd IAT Mean'], 'Adv sample 834': ['SYN Flag Cnt', 'Bwd IAT Mean', 'Bwd Pkts/b Avg', 'Bwd IAT Min', 'Fwd Byts/b Avg', 'Active Max', 'Idle Std', 'Init Bwd Win Byts', 'Fwd IAT Min', 'Flow IAT Min'], 'Adv sample 835': ['Idle Std', 'Init Bwd Win Byts', 'Active Min', 'Active Mean', 'Bwd IAT Max', 'Fwd Byts/b Avg', 'Bwd IAT Mean', 'Bwd Pkts/b Avg', 'Down/Up Ratio', 'Bwd IAT Std'], 'Adv sample 836': ['ACK Flag Cnt', 'Active Min', 'Init Bwd Win Byts', 'Fwd IAT Min', 'Bwd IAT Std', 'Bwd IAT Max', 'Bwd PSH Flags', 'Bwd IAT Tot', 'Active Max', 'Active Mean'], 'Adv sample 837': ['SYN Flag Cnt', 'Bwd IAT Std', 'Active Max', 'Bwd IAT Min', 'Init Bwd Win Byts', 'Fwd Byts/b Avg', 'Fwd Pkt Len Mean', 'Bwd Pkt Len Mean', 'Flow IAT Min', 'Fwd Pkt Len Max'], 'Adv sample 838': ['Bwd IAT Mean', 'Bwd IAT Tot', 'Fwd Blk Rate Avg', 'Bwd IAT Min', 'Bwd IAT Max', 'Init Bwd Win Byts', 'Active Max', 'Down/Up Ratio', 'Fwd Pkts/b Avg', 'Idle Max'], 'Adv sample 839': ['ACK Flag Cnt', 'Init Bwd Win Byts', 'Fwd IAT Mean', 'Bwd IAT Tot', 'TotLen Bwd Pkts', 'Pkt Len Mean', 'Bwd Seg Size Avg', 'Pkt Size Avg', 'Bwd Pkt Len Max', 'Fwd Pkt Len Std'], 'Adv sample 840': ['ACK Flag Cnt', 'Bwd IAT Max', 'Init Bwd Win Byts', 'Active Max', 'Bwd IAT Std', 'Active Min', 'Flow IAT Mean', 'Bwd IAT Min', 'TotLen Fwd Pkts', 'Active Mean'], 'Adv sample 841': ['Active Min', 'Bwd IAT Mean', 'Bwd IAT Min', 'Init Bwd Win Byts', 'Pkt Len Std', 'Pkt Len Mean', 'Flow IAT Max', 'Down/Up Ratio', 'Flow Byts/s', 'Pkt Len Max'], 'Adv sample 842': ['SYN Flag Cnt', 'Init Bwd Win Byts', 'Active Mean', 'Active Min', 'Idle Std', 'Bwd IAT Mean', 'Active Max', 'Fwd IAT Min', 'Bwd IAT Std', 'Bwd Pkts/b Avg'], 'Adv sample 843': ['ACK Flag Cnt', 'Fwd IAT Min', 'Init Bwd Win Byts', 'Active Max', 'Idle Min', 'Bwd IAT Tot', 'Idle Mean', 'Fwd Byts/b Avg', 'Down/Up Ratio', 'Flow Pkts/s'], 'Adv sample 844': ['Active Min', 'Bwd IAT Min', 'Init Bwd Win Byts', 'Bwd IAT Tot', 'Active Mean', 'Down/Up Ratio', 'Bwd IAT Std', 'Active Max', 'Bwd IAT Max', 'Flow IAT Max'], 'Adv sample 845': ['ACK Flag Cnt', 'Bwd IAT Tot', 'Bwd IAT Std', 'Fwd IAT Min', 'Active Mean', 'Bwd IAT Mean', 'Flow IAT Mean', 'Init Bwd Win Byts', 'Flow IAT Std', 'Bwd IAT Max'], 'Adv sample 846': ['Active Mean', 'Bwd IAT Mean', 'Bwd IAT Min', 'Init Bwd Win Byts', 'Bwd IAT Tot', 'Pkt Len Max', 'Fwd Blk Rate Avg', 'Fwd Seg Size Avg', 'Pkt Len Var', 'Bwd Header Len'], 'Adv sample 847': ['Fwd Byts/b Avg', 'Bwd IAT Mean', 'Bwd Pkts/b Avg', 'Bwd IAT Min', 'Init Bwd Win Byts', 'Idle Min', 'Fwd Blk Rate Avg', 'Fwd IAT Min', 'Tot Bwd Pkts', 'Subflow Fwd Byts'], 'Adv sample 848': ['SYN Flag Cnt', 'Active Min', 'Bwd IAT Min', 'Init Bwd Win Byts', 'Idle Std', 'Active Mean', 'Bwd IAT Mean', 'Fwd Byts/b Avg', 'Idle Max', 'Idle Mean'], 'Adv sample 849': ['SYN Flag Cnt', 'Active Min', 'Bwd IAT Min', 'Active Mean', 'Init Bwd Win Byts', 'Active Max', 'Idle Max', 'Bwd IAT Max', 'Down/Up Ratio', 'Flow Byts/s'], 'Adv sample 850': ['Active Min', 'Bwd IAT Mean', 'Bwd IAT Max', 'Bwd Pkts/s', 'Bwd IAT Tot', 'Init Bwd Win Byts', 'Down/Up Ratio', 'Bwd IAT Std', 'Active Max', 'Pkt Len Mean'], 'Adv sample 851': ['Bwd IAT Min', 'Bwd IAT Mean', 'Init Bwd Win Byts', 'Active Mean', 'Fwd Byts/b Avg', 'Fwd Blk Rate Avg', 'Active Min', 'Flow IAT Std', 'Bwd Pkts/b Avg', 'Subflow Bwd Byts'], 'Adv sample 852': ['ACK Flag Cnt', 'Active Max', 'Init Bwd Win Byts', 'Fwd Byts/b Avg', 'Fwd IAT Min', 'FIN Flag Cnt', 'Bwd IAT Max', 'Flow IAT Mean', 'Fwd Pkt Len Min', 'Bwd Seg Size Avg'], 'Adv sample 853': ['Bwd Pkts/s', 'Bwd IAT Mean', 'Flow Pkts/s', 'Init Bwd Win Byts', 'Idle Max', 'Fwd Pkt Len Max', 'Pkt Len Std', 'Down/Up Ratio', 'Fwd IAT Min', 'Pkt Len Min'], 'Adv sample 854': ['Active Mean', 'Init Bwd Win Byts', 'Idle Std', 'Active Max', 'ACK Flag Cnt', 'Active Min', 'Bwd IAT Std', 'Bwd IAT Tot', 'Bwd IAT Max', 'Pkt Len Mean'], 'Adv sample 855': ['SYN Flag Cnt', 'Active Max', 'Init Bwd Win Byts', 'Bwd IAT Min', 'Idle Std', 'Bwd Pkts/b Avg', 'Pkt Len Mean', 'Pkt Size Avg', 'Bwd IAT Mean', 'Fwd Blk Rate Avg'], 'Adv sample 856': ['ACK Flag Cnt', 'Active Max', 'Idle Std', 'Init Bwd Win Byts', 'Bwd IAT Std', 'Fwd IAT Min', 'Active Mean', 'Active Min', 'Idle Max', 'Down/Up Ratio'], 'Adv sample 857': ['ACK Flag Cnt', 'Bwd IAT Std', 'Bwd IAT Max', 'Fwd IAT Min', 'Active Max', 'Init Bwd Win Byts', 'Pkt Size Avg', 'Flow IAT Max', 'TotLen Fwd Pkts', 'FIN Flag Cnt'], 'Adv sample 858': ['SYN Flag Cnt', 'Active Max', 'Bwd Pkts/b Avg', 'Fwd IAT Min', 'Idle Std', 'Init Bwd Win Byts', 'Fwd Blk Rate Avg', 'Fwd Byts/b Avg', 'Pkt Len Max', 'Pkt Len Mean'], 'Adv sample 859': ['Bwd IAT Min', 'Init Bwd Win Byts', 'Active Min', 'Bwd IAT Std', 'Fwd Byts/b Avg', 'Active Mean', 'Bwd IAT Max', 'Idle Min', 'Active Max', 'Bwd IAT Mean'], 'Adv sample 860': ['ACK Flag Cnt', 'Bwd IAT Max', 'Init Bwd Win Byts', 'Active Max', 'Bwd IAT Min', 'Bwd IAT Mean', 'Fwd Pkt Len Mean', 'Flow Pkts/s', 'Bwd IAT Std', 'TotLen Bwd Pkts'], 'Adv sample 861': ['Active Mean', 'Bwd IAT Max', 'Init Bwd Win Byts', 'Active Min', 'Bwd IAT Std', 'Active Max', 'Bwd IAT Mean', 'Bwd IAT Tot', 'Down/Up Ratio', 'Fwd Byts/b Avg'], 'Adv sample 862': ['Bwd Pkts/s', 'Init Bwd Win Byts', 'Flow Pkts/s', 'Bwd IAT Std', 'Bwd IAT Mean', 'Active Mean', 'Bwd IAT Tot', 'Active Min', 'Fwd IAT Min', 'Active Max'], 'Adv sample 863': ['ACK Flag Cnt', 'Active Min', 'Init Bwd Win Byts', 'Fwd IAT Min', 'Flow Pkts/s', 'Fwd Byts/b Avg', 'Active Max', 'Fwd IAT Mean', 'Active Mean', 'Bwd IAT Min'], 'Adv sample 864': ['Fwd Byts/b Avg', 'Bwd Pkts/b Avg', 'Init Bwd Win Byts', 'Bwd IAT Mean', 'Fwd IAT Min', 'Idle Std', 'Pkt Size Avg', 'Pkt Len Std', 'Bwd IAT Min', 'Fwd Blk Rate Avg'], 'Adv sample 865': ['Bwd IAT Mean', 'Active Max', 'Init Bwd Win Byts', 'Fwd Byts/b Avg', 'Fwd Blk Rate Avg', 'Pkt Len Min', 'Bwd Pkt Len Mean', 'Fwd IAT Min', 'Bwd IAT Tot', 'Pkt Len Mean'], 'Adv sample 866': ['Active Mean', 'Bwd IAT Mean', 'Fwd IAT Min', 'Init Bwd Win Byts', 'Active Max', 'Bwd IAT Min', 'Active Min', 'Idle Max', 'Bwd IAT Max', 'Down/Up Ratio'], 'Adv sample 867': ['Bwd Pkts/s', 'Init Bwd Win Byts', 'Flow Pkts/s', 'Bwd IAT Tot', 'Active Min', 'Bwd IAT Mean', 'Bwd IAT Std', 'Active Mean', 'Active Max', 'Fwd IAT Min'], 'Adv sample 868': ['Bwd Pkts/s', 'Flow Pkts/s', 'Bwd IAT Mean', 'Active Mean', 'Bwd IAT Max', 'Idle Max', 'Init Bwd Win Byts', 'Fwd Byts/b Avg', 'Bwd Pkt Len Max', 'Down/Up Ratio'], 'Adv sample 869': ['Bwd IAT Min', 'Active Min', 'Init Bwd Win Byts', 'Fwd Byts/b Avg', 'Active Mean', 'Idle Min', 'Bwd IAT Mean', 'Bwd IAT Max', 'Down/Up Ratio', 'Pkt Len Std'], 'Adv sample 870': ['ACK Flag Cnt', 'Init Bwd Win Byts', 'Active Max', 'Idle Std', 'Bwd IAT Std', 'Active Min', 'Bwd IAT Tot', 'Active Mean', 'Bwd IAT Max', 'Down/Up Ratio'], 'Adv sample 871': ['SYN Flag Cnt', 'Init Bwd Win Byts', 'Idle Std', 'Active Min', 'Fwd IAT Mean', 'Active Max', 'Active Mean', 'Bwd IAT Min', 'Bwd IAT Std', 'Fwd Byts/b Avg'], 'Adv sample 872': ['SYN Flag Cnt', 'Bwd IAT Mean', 'Idle Std', 'Active Min', 'Bwd IAT Min', 'Active Mean', 'Init Bwd Win Byts', 'Fwd Byts/b Avg', 'Bwd Pkts/b Avg', 'Pkt Len Var'], 'Adv sample 873': ['ACK Flag Cnt', 'Active Max', 'Bwd IAT Mean', 'Bwd IAT Std', 'Fwd IAT Min', 'Init Bwd Win Byts', 'Bwd IAT Max', 'Bwd IAT Tot', 'Pkt Len Mean', 'TotLen Fwd Pkts'], 'Adv sample 874': ['ACK Flag Cnt', 'Init Bwd Win Byts', 'Bwd IAT Mean', 'Active Mean', 'Active Min', 'Bwd IAT Max', 'Active Max', 'Fwd Blk Rate Avg', 'Bwd IAT Std', 'Idle Min'], 'Adv sample 875': ['SYN Flag Cnt', 'Active Mean', 'Bwd IAT Mean', 'Init Bwd Win Byts', 'Active Min', 'Bwd IAT Std', 'Fwd IAT Min', 'Bwd IAT Min', 'Active Max', 'Pkt Len Std'], 'Adv sample 876': ['SYN Flag Cnt', 'Active Max', 'Init Bwd Win Byts', 'Fwd IAT Min', 'Fwd Byts/b Avg', 'Active Min', 'Pkt Len Std', 'Pkt Len Mean', 'Pkt Len Min', 'Bwd Seg Size Avg'], 'Adv sample 877': ['SYN Flag Cnt', 'Active Min', 'Bwd IAT Mean', 'Init Bwd Win Byts', 'Bwd Pkts/b Avg', 'Bwd IAT Max', 'Flow IAT Max', 'Flow IAT Min', 'Subflow Fwd Pkts', 'Tot Fwd Pkts'], 'Adv sample 878': ['URG Flag Cnt', 'Bwd URG Flags', 'FIN Flag Cnt', 'Init Bwd Win Byts', 'Down/Up Ratio', 'Bwd IAT Std', 'Pkt Len Max', 'Pkt Size Avg', 'Active Max', 'Bwd IAT Tot'], 'Adv sample 879': ['Fwd Byts/b Avg', 'Bwd IAT Min', 'Init Bwd Win Byts', 'Bwd IAT Mean', 'Active Mean', 'Fwd IAT Min', 'Active Min', 'Pkt Size Avg', 'Pkt Len Std', 'Pkt Len Mean'], 'Adv sample 880': ['SYN Flag Cnt', 'Active Min', 'Bwd IAT Mean', 'Active Mean', 'Active Max', 'Init Bwd Win Byts', 'Idle Std', 'Down/Up Ratio', 'Tot Fwd Pkts', 'Pkt Len Min'], 'Adv sample 881': ['Bwd IAT Min', 'Active Mean', 'Down/Up Ratio', 'Idle Max', 'Idle Min', 'Init Bwd Win Byts', 'Active Min', 'Bwd IAT Tot', 'Bwd IAT Max', 'Active Max'], 'Adv sample 882': ['Active Max', 'Init Bwd Win Byts', 'Bwd IAT Mean', 'Active Mean', 'Active Min', 'Bwd IAT Max', 'Bwd IAT Std', 'Pkt Len Max', 'Active Std', 'Flow IAT Max'], 'Adv sample 883': ['ACK Flag Cnt', 'Active Max', 'Fwd IAT Min', 'Init Bwd Win Byts', 'Tot Fwd Pkts', 'Bwd Pkts/b Avg', 'Pkt Len Max', 'Fwd Seg Size Avg', 'Tot Bwd Pkts', 'Subflow Fwd Pkts'], 'Adv sample 884': ['Active Max', 'Init Bwd Win Byts', 'ACK Flag Cnt', 'Bwd IAT Min', 'Bwd IAT Std', 'Fwd IAT Min', 'Active Min', 'Active Mean', 'Bwd PSH Flags', 'Pkt Len Mean'], 'Adv sample 885': ['SYN Flag Cnt', 'Bwd IAT Max', 'Init Bwd Win Byts', 'Bwd Pkts/b Avg', 'Bwd IAT Tot', 'Down/Up Ratio', 'Fwd IAT Min', 'Pkt Len Min', 'Pkt Len Mean', 'Bwd Pkt Len Mean'], 'Adv sample 886': ['Bwd IAT Std', 'Init Bwd Win Byts', 'Active Mean', 'Bwd IAT Mean', 'Active Min', 'Active Max', 'Bwd IAT Max', 'Pkt Len Min', 'Down/Up Ratio', 'Bwd Pkts/s'], 'Adv sample 887': ['ACK Flag Cnt', 'FIN Flag Cnt', 'Init Bwd Win Byts', 'Active Min', 'Fwd Byts/b Avg', 'Bwd IAT Max', 'Fwd IAT Min', 'Flow IAT Max', 'Bwd IAT Mean', 'Bwd IAT Std'], 'Adv sample 888': ['SYN Flag Cnt', 'Bwd IAT Mean', 'Bwd IAT Min', 'Fwd Byts/b Avg', 'Init Bwd Win Byts', 'Fwd Pkts/b Avg', 'Flow Pkts/s', 'Fwd IAT Min', 'Pkt Len Min', 'Fwd Pkts/s'], 'Adv sample 889': ['SYN Flag Cnt', 'Idle Std', 'Bwd IAT Min', 'Init Bwd Win Byts', 'Active Min', 'Bwd IAT Mean', 'Fwd Byts/b Avg', 'Active Mean', 'Active Max', 'Bwd IAT Std'], 'Adv sample 890': ['SYN Flag Cnt', 'Active Mean', 'Bwd IAT Mean', 'Active Min', 'Active Max', 'Bwd IAT Min', 'Init Bwd Win Byts', 'Bwd Pkts/b Avg', 'Fwd Byts/b Avg', 'Flow IAT Max'], 'Adv sample 891': ['Bwd IAT Max', 'Bwd IAT Mean', 'Init Bwd Win Byts', 'Bwd IAT Min', 'Active Mean', 'Fwd Blk Rate Avg', 'Bwd IAT Tot', 'TotLen Bwd Pkts', 'Active Max', 'Flow IAT Mean'], 'Adv sample 892': ['ACK Flag Cnt', 'Init Bwd Win Byts', 'Active Min', 'Fwd IAT Min', 'Bwd IAT Std', 'Flow Pkts/s', 'Bwd IAT Mean', 'Fwd Blk Rate Avg', 'Bwd IAT Max', 'Bwd Pkt Len Max'], 'Adv sample 893': ['Bwd IAT Mean', 'Fwd Byts/b Avg', 'Bwd IAT Min', 'Init Bwd Win Byts', 'Fwd IAT Min', 'Pkt Len Max', 'Pkt Len Std', 'Bwd Seg Size Avg', 'Pkt Size Avg', 'Bwd Pkt Len Max'], 'Adv sample 894': ['Active Min', 'Bwd IAT Mean', 'Active Mean', 'Init Bwd Win Byts', 'Fwd Byts/b Avg', 'Bwd Pkts/b Avg', 'Fwd Blk Rate Avg', 'Pkt Size Avg', 'Pkt Len Max', 'Bwd Pkt Len Std'], 'Adv sample 895': ['ACK Flag Cnt', 'Active Max', 'Fwd IAT Min', 'Init Bwd Win Byts', 'Active Mean', 'Fwd Byts/b Avg', 'Down/Up Ratio', 'PSH Flag Cnt', 'Flow IAT Mean', 'Pkt Len Min'], 'Adv sample 896': ['ACK Flag Cnt', 'FIN Flag Cnt', 'Bwd IAT Tot', 'Init Bwd Win Byts', 'Active Max', 'Bwd Header Len', 'Flow Pkts/s', 'Pkt Len Std', 'Fwd Pkts/s', 'Subflow Fwd Byts'], 'Adv sample 897': ['Active Mean', 'Bwd IAT Mean', 'Bwd IAT Max', 'Init Bwd Win Byts', 'Fwd Blk Rate Avg', 'Down/Up Ratio', 'Fwd Act Data Pkts', 'Subflow Bwd Byts', 'Idle Max', 'Bwd Pkt Len Max'], 'Adv sample 898': ['Active Min', 'Active Mean', 'Active Max', 'Bwd IAT Min', 'Init Bwd Win Byts', 'Bwd Pkts/b Avg', 'Down/Up Ratio', 'Flow Byts/s', 'Subflow Fwd Byts', 'Fwd Pkt Len Std'], 'Adv sample 899': ['Active Min', 'Active Mean', 'Bwd IAT Mean', 'Bwd IAT Std', 'Init Bwd Win Byts', 'Bwd IAT Min', 'Active Max', 'Bwd IAT Max', 'Fwd Byts/b Avg', 'Down/Up Ratio'], 'Adv sample 900': ['ACK Flag Cnt', 'FIN Flag Cnt', 'Init Bwd Win Byts', 'Active Min', 'Active Max', 'Fwd Byts/b Avg', 'Active Mean', 'Bwd IAT Std', 'Bwd IAT Tot', 'Bwd IAT Min'], 'Adv sample 901': ['SYN Flag Cnt', 'Bwd IAT Min', 'Active Max', 'Init Bwd Win Byts', 'Active Mean', 'Fwd Byts/b Avg', 'Bwd IAT Mean', 'Pkt Len Mean', 'Fwd Blk Rate Avg', 'Bwd Pkts/b Avg'], 'Adv sample 902': ['ACK Flag Cnt', 'Active Mean', 'Fwd Byts/b Avg', 'Active Max', 'Fwd IAT Min', 'Init Bwd Win Byts', 'Fwd IAT Mean', 'Flow Pkts/s', 'Fwd Pkt Len Std', 'FIN Flag Cnt'], 'Adv sample 903': ['ACK Flag Cnt', 'Active Max', 'Fwd IAT Min', 'Fwd IAT Mean', 'Fwd Byts/b Avg', 'Pkt Size Avg', 'Init Bwd Win Byts', 'Down/Up Ratio', 'Pkt Len Max', 'Flow IAT Max'], 'Adv sample 904': ['SYN Flag Cnt', 'Active Max', 'Idle Std', 'Init Bwd Win Byts', 'Bwd IAT Max', 'Bwd IAT Min', 'Fwd Byts/b Avg', 'Bwd Pkts/b Avg', 'Flow IAT Std', 'Pkt Len Min'], 'Adv sample 905': ['Bwd IAT Mean', 'Init Bwd Win Byts', 'Fwd Byts/b Avg', 'Active Mean', 'Fwd IAT Min', 'Bwd IAT Tot', 'Bwd Pkts/b Avg', 'Tot Bwd Pkts', 'Pkt Len Std', 'Pkt Size Avg'], 'Adv sample 906': ['URG Flag Cnt', 'Bwd URG Flags', 'Active Max', 'Fwd Byts/b Avg', 'PSH Flag Cnt', 'Init Bwd Win Byts', 'Down/Up Ratio', 'Bwd PSH Flags', 'Idle Std', 'Active Min'], 'Adv sample 907': ['SYN Flag Cnt', 'Bwd IAT Max', 'Bwd IAT Std', 'Init Bwd Win Byts', 'Down/Up Ratio', 'Active Max', 'Bwd Pkts/b Avg', 'Bwd IAT Tot', 'Bwd Seg Size Avg', 'Pkt Len Mean'], 'Adv sample 908': ['Bwd IAT Min', 'Bwd IAT Mean', 'Fwd Pkts/b Avg', 'Fwd Byts/b Avg', 'Init Bwd Win Byts', 'Down/Up Ratio', 'Bwd IAT Tot', 'Pkt Len Mean', 'Flow IAT Max', 'Subflow Fwd Pkts'], 'Adv sample 909': ['ACK Flag Cnt', 'Fwd IAT Min', 'Init Bwd Win Byts', 'Active Mean', 'Active Max', 'Bwd IAT Tot', 'Bwd IAT Mean', 'Fwd Byts/b Avg', 'Bwd Pkts/b Avg', 'Idle Max'], 'Adv sample 910': ['ACK Flag Cnt', 'Fwd IAT Min', 'Bwd IAT Mean', 'Init Bwd Win Byts', 'Active Min', 'Bwd IAT Std', 'Active Mean', 'Bwd Pkts/b Avg', 'Active Max', 'Bwd IAT Max'], 'Adv sample 911': ['SYN Flag Cnt', 'Bwd IAT Std', 'Bwd IAT Min', 'Init Bwd Win Byts', 'Bwd IAT Max', 'Active Min', 'Active Mean', 'Active Max', 'Bwd IAT Mean', 'Fwd Pkt Len Min'], 'Adv sample 912': ['Active Min', 'Idle Min', 'Active Max', 'Active Mean', 'Init Bwd Win Byts', 'Fwd Byts/b Avg', 'Fwd IAT Min', 'Pkt Len Mean', 'Flow Byts/s', 'Pkt Size Avg'], 'Adv sample 913': ['Active Mean', 'Bwd IAT Mean', 'Bwd IAT Max', 'Bwd IAT Tot', 'Init Bwd Win Byts', 'Flow Byts/s', 'Fwd Blk Rate Avg', 'Fwd Header Len', 'Subflow Fwd Pkts', 'Down/Up Ratio'], 'Adv sample 914': ['Bwd IAT Max', 'Active Max', 'Init Bwd Win Byts', 'Fwd IAT Mean', 'Active Min', 'Bwd IAT Min', 'Active Mean', 'Fwd IAT Min', 'Bwd IAT Mean', 'Fwd Blk Rate Avg'], 'Adv sample 915': ['Init Bwd Win Byts', 'Active Max', 'Bwd IAT Mean', 'Bwd IAT Std', 'Active Min', 'Idle Std', 'Active Mean', 'Flow IAT Max', 'Pkt Len Mean', 'Fwd IAT Min'], 'Adv sample 916': ['SYN Flag Cnt', 'Active Max', 'Init Bwd Win Byts', 'Active Min', 'Idle Std', 'Fwd IAT Min', 'Active Mean', 'Bwd Pkts/b Avg', 'Bwd IAT Min', 'Bwd Pkt Len Max'], 'Adv sample 917': ['Active Mean', 'Bwd Pkts/s', 'Bwd IAT Max', 'Flow Pkts/s', 'Bwd IAT Mean', 'Active Max', 'Fwd IAT Min', 'Down/Up Ratio', 'Bwd IAT Tot', 'Init Bwd Win Byts'], 'Adv sample 918': ['Bwd IAT Min', 'Bwd IAT Max', 'Init Bwd Win Byts', 'Fwd IAT Min', 'Bwd IAT Mean', 'Bwd IAT Std', 'Active Min', 'Fwd Byts/b Avg', 'Active Mean', 'Idle Min'], 'Adv sample 919': ['ACK Flag Cnt', 'Bwd IAT Std', 'Bwd IAT Max', 'Init Bwd Win Byts', 'Active Mean', 'Fwd Byts/b Avg', 'Flow IAT Mean', 'Fwd Seg Size Avg', 'FIN Flag Cnt', 'Active Max'], 'Adv sample 920': ['Bwd IAT Max', 'Init Bwd Win Byts', 'Fwd IAT Min', 'Bwd IAT Min', 'Bwd IAT Tot', 'Bwd Pkts/b Avg', 'Fwd Byts/b Avg', 'Idle Max', 'Down/Up Ratio', 'Pkt Len Min'], 'Adv sample 921': ['SYN Flag Cnt', 'Active Mean', 'Init Bwd Win Byts', 'Active Min', 'Bwd IAT Min', 'Active Max', 'Idle Std', 'Bwd IAT Std', 'Fwd IAT Min', 'Bwd IAT Mean'], 'Adv sample 922': ['Active Mean', 'Active Max', 'Bwd IAT Max', 'Bwd IAT Mean', 'Init Bwd Win Byts', 'Bwd IAT Tot', 'Active Min', 'Pkt Len Std', 'Down/Up Ratio', 'Fwd IAT Min'], 'Adv sample 923': ['ACK Flag Cnt', 'Active Max', 'Init Bwd Win Byts', 'Idle Max', 'Fwd Byts/b Avg', 'Idle Min', 'Pkt Len Mean', 'Pkt Len Std', 'Fwd IAT Min', 'Fwd Seg Size Avg'], 'Adv sample 924': ['Bwd Pkts/s', 'Bwd IAT Mean', 'Bwd IAT Max', 'Active Mean', 'Flow Pkts/s', 'Init Bwd Win Byts', 'Bwd IAT Std', 'Bwd IAT Tot', 'Bwd IAT Min', 'Active Min'], 'Adv sample 925': ['Bwd IAT Tot', 'Down/Up Ratio', 'Init Bwd Win Byts', 'Idle Max', 'Fwd Byts/b Avg', 'Bwd IAT Max', 'Fwd Pkt Len Std', 'Bwd IAT Mean', 'TotLen Bwd Pkts', 'Pkt Len Max'], 'Adv sample 926': ['Bwd IAT Mean', 'Init Bwd Win Byts', 'Active Min', 'Idle Std', 'Active Mean', 'Active Max', 'Fwd Byts/b Avg', 'Idle Max', 'Bwd Pkts/b Avg', 'Down/Up Ratio'], 'Adv sample 927': ['SYN Flag Cnt', 'Init Bwd Win Byts', 'Idle Std', 'Active Min', 'Active Mean', 'Fwd IAT Min', 'Bwd IAT Std', 'Active Max', 'Bwd IAT Min', 'Flow IAT Min'], 'Adv sample 928': ['ACK Flag Cnt', 'Idle Min', 'Init Bwd Win Byts', 'Fwd IAT Min', 'Active Max', 'Idle Mean', 'Fwd Blk Rate Avg', 'Idle Max', 'Fwd Seg Size Avg', 'Flow Duration'], 'Adv sample 929': ['SYN Flag Cnt', 'Idle Std', 'Bwd IAT Min', 'Init Bwd Win Byts', 'Bwd IAT Std', 'Active Min', 'Active Mean', 'Active Max', 'Fwd Byts/b Avg', 'Fwd IAT Mean'], 'Adv sample 930': ['Active Mean', 'Bwd IAT Min', 'Init Bwd Win Byts', 'Fwd Byts/b Avg', 'Bwd IAT Max', 'Fwd IAT Min', 'Active Min', 'Bwd IAT Mean', 'Active Max', 'Pkt Size Avg'], 'Adv sample 931': ['Bwd IAT Mean', 'Fwd IAT Min', 'Active Min', 'Init Bwd Win Byts', 'Fwd Byts/b Avg', 'Active Max', 'Bwd IAT Max', 'Active Mean', 'Pkt Len Max', 'Down/Up Ratio'], 'Adv sample 932': ['Active Min', 'Bwd IAT Mean', 'Active Max', 'Fwd Blk Rate Avg', 'Init Bwd Win Byts', 'Active Mean', 'Bwd Pkts/s', 'Bwd IAT Tot', 'Fwd IAT Min', 'Idle Max'], 'Adv sample 933': ['SYN Flag Cnt', 'Active Min', 'Active Mean', 'Idle Std', 'Active Max', 'Init Bwd Win Byts', 'Fwd Byts/b Avg', 'Bwd IAT Min', 'Bwd IAT Mean', 'Bwd Pkts/b Avg'], 'Adv sample 934': ['Active Max', 'Bwd IAT Mean', 'Fwd Byts/b Avg', 'Active Min', 'Init Bwd Win Byts', 'Bwd IAT Max', 'Flow IAT Max', 'Pkt Len Std', 'Pkt Size Avg', 'Idle Min'], 'Adv sample 935': ['ACK Flag Cnt', 'Bwd IAT Std', 'Active Mean', 'Bwd IAT Tot', 'Active Max', 'Active Min', 'Init Bwd Win Byts', 'Bwd IAT Max', 'Flow IAT Mean', 'Idle Std'], 'Adv sample 936': ['ACK Flag Cnt', 'Bwd IAT Min', 'Fwd IAT Min', 'Init Bwd Win Byts', 'Idle Max', 'Flow Pkts/s', 'Active Max', 'Pkt Len Var', 'Fwd Pkts/s', 'Flow Byts/s'], 'Adv sample 937': ['Active Max', 'Idle Std', 'ACK Flag Cnt', 'Idle Max', 'Down/Up Ratio', 'Init Bwd Win Byts', 'Fwd Pkts/s', 'Idle Min', 'Fwd Seg Size Avg', 'Pkt Len Mean'], 'Adv sample 938': ['SYN Flag Cnt', 'Bwd IAT Min', 'Active Min', 'Init Bwd Win Byts', 'Fwd IAT Min', 'Bwd IAT Max', 'Fwd Blk Rate Avg', 'Fwd Byts/b Avg', 'Fwd IAT Mean', 'Subflow Fwd Byts'], 'Adv sample 939': ['ACK Flag Cnt', 'FIN Flag Cnt', 'Init Bwd Win Byts', 'Bwd IAT Min', 'Active Mean', 'Active Min', 'Flow Pkts/s', 'Bwd IAT Max', 'Flow Duration', 'Down/Up Ratio'], 'Adv sample 940': ['SYN Flag Cnt', 'Init Bwd Win Byts', 'Bwd IAT Min', 'Active Mean', 'Fwd IAT Min', 'Bwd IAT Std', 'Active Min', 'Active Max', 'Fwd Byts/b Avg', 'Fwd IAT Mean'], 'Adv sample 941': ['Bwd IAT Mean', 'Bwd IAT Min', 'Active Mean', 'Active Max', 'Init Bwd Win Byts', 'Fwd Byts/b Avg', 'Subflow Fwd Pkts', 'Flow Byts/s', 'Bwd Seg Size Avg', 'Fwd Pkt Len Std'], 'Adv sample 942': ['Active Mean', 'Active Min', 'Init Bwd Win Byts', 'Bwd IAT Mean', 'Bwd IAT Max', 'Active Max', 'Bwd IAT Std', 'Idle Max', 'Pkt Len Mean', 'Down/Up Ratio'], 'Adv sample 943': ['SYN Flag Cnt', 'Active Max', 'Init Bwd Win Byts', 'Bwd IAT Std', 'Idle Std', 'Active Min', 'Fwd Byts/b Avg', 'Active Mean', 'Fwd IAT Min', 'Bwd IAT Min'], 'Adv sample 944': ['SYN Flag Cnt', 'Bwd IAT Min', 'Init Bwd Win Byts', 'Idle Std', 'Subflow Fwd Pkts', 'Bwd IAT Mean', 'Bwd Pkts/b Avg', 'Bwd IAT Max', 'Pkt Len Min', 'Bwd Seg Size Avg'], 'Adv sample 945': ['SYN Flag Cnt', 'Init Bwd Win Byts', 'Fwd Byts/b Avg', 'Fwd Blk Rate Avg', 'Fwd IAT Min', 'Bwd Pkts/b Avg', 'Pkt Len Mean', 'Down/Up Ratio', 'Pkt Len Std', 'FIN Flag Cnt'], 'Adv sample 946': ['ACK Flag Cnt', 'Fwd IAT Min', 'Bwd Pkts/b Avg', 'Init Bwd Win Byts', 'Fwd Blk Rate Avg', 'Active Max', 'Fwd Byts/b Avg', 'Bwd IAT Mean', 'Bwd Pkt Len Min', 'Subflow Bwd Pkts'], 'Adv sample 947': ['ACK Flag Cnt', 'Bwd IAT Max', 'Bwd IAT Tot', 'Flow IAT Std', 'Init Bwd Win Byts', 'Flow IAT Mean', 'Flow Pkts/s', 'Bwd IAT Std', 'Fwd IAT Min', 'Fwd Pkt Len Min'], 'Adv sample 948': ['SYN Flag Cnt', 'Active Mean', 'Init Bwd Win Byts', 'Bwd IAT Mean', 'Active Max', 'Active Min', 'Idle Std', 'Bwd IAT Std', 'Fwd Pkt Len Min', 'Idle Max'], 'Adv sample 949': ['ACK Flag Cnt', 'Bwd IAT Std', 'Active Min', 'Init Bwd Win Byts', 'Bwd PSH Flags', 'Fwd Byts/b Avg', 'Bwd IAT Tot', 'Active Mean', 'Bwd IAT Max', 'Active Max'], 'Adv sample 950': ['Bwd Pkts/s', 'Active Mean', 'Bwd IAT Mean', 'Active Max', 'Bwd IAT Max', 'Bwd IAT Min', 'Flow Pkts/s', 'Init Bwd Win Byts', 'Down/Up Ratio', 'Pkt Len Std'], 'Adv sample 951': ['ACK Flag Cnt', 'Active Mean', 'Init Bwd Win Byts', 'Active Min', 'FIN Flag Cnt', 'Fwd IAT Min', 'Bwd IAT Std', 'Active Max', 'Bwd IAT Min', 'Pkt Len Mean'], 'Adv sample 952': ['SYN Flag Cnt', 'Bwd IAT Min', 'Active Min', 'Fwd Byts/b Avg', 'Init Bwd Win Byts', 'Active Mean', 'Active Max', 'Idle Std', 'Fwd IAT Min', 'Bwd IAT Mean'], 'Adv sample 953': ['Active Max', 'Bwd IAT Min', 'Active Min', 'Init Bwd Win Byts', 'Bwd IAT Std', 'Active Mean', 'Bwd IAT Mean', 'Idle Max', 'Down/Up Ratio', 'Idle Min'], 'Adv sample 954': ['SYN Flag Cnt', 'Active Mean', 'Bwd IAT Mean', 'Bwd Pkts/b Avg', 'Init Bwd Win Byts', 'Tot Bwd Pkts', 'Down/Up Ratio', 'Active Max', 'TotLen Bwd Pkts', 'Tot Fwd Pkts'], 'Adv sample 955': ['SYN Flag Cnt', 'Init Bwd Win Byts', 'Bwd IAT Min', 'Idle Std', 'Active Min', 'Bwd IAT Std', 'Fwd IAT Mean', 'Fwd Byts/b Avg', 'Bwd IAT Mean', 'Bwd Pkts/b Avg'], 'Adv sample 956': ['Init Bwd Win Byts', 'Bwd IAT Std', 'Bwd IAT Mean', 'Active Mean', 'Active Min', 'Bwd Pkts/b Avg', 'Idle Std', 'Active Max', 'Fwd Byts/b Avg', 'Pkt Len Std'], 'Adv sample 957': ['SYN Flag Cnt', 'Bwd IAT Mean', 'Init Bwd Win Byts', 'Bwd IAT Max', 'Active Min', 'Idle Std', 'Active Mean', 'Fwd IAT Min', 'Bwd Pkts/b Avg', 'Bwd IAT Std'], 'Adv sample 958': ['Active Min', 'ACK Flag Cnt', 'Active Mean', 'Active Max', 'Init Bwd Win Byts', 'Idle Std', 'Bwd IAT Std', 'Bwd IAT Max', 'Idle Min', 'Fwd Byts/b Avg'], 'Adv sample 959': ['Active Min', 'Active Mean', 'Fwd IAT Min', 'Init Bwd Win Byts', 'Idle Std', 'Bwd IAT Mean', 'Bwd Pkts/b Avg', 'Active Max', 'Pkt Len Max', 'Fwd Byts/b Avg'], 'Adv sample 960': ['Bwd IAT Min', 'Active Min', 'Bwd IAT Std', 'Bwd IAT Mean', 'Init Bwd Win Byts', 'Active Mean', 'Fwd Byts/b Avg', 'Idle Min', 'Active Max', 'Idle Std'], 'Adv sample 961': ['ACK Flag Cnt', 'FIN Flag Cnt', 'Init Bwd Win Byts', 'Active Max', 'Active Min', 'Bwd IAT Std', 'Fwd Byts/b Avg', 'Bwd IAT Tot', 'Pkt Len Std', 'Bwd IAT Min'], 'Adv sample 962': ['Bwd IAT Min', 'Bwd IAT Mean', 'Active Mean', 'Init Bwd Win Byts', 'Active Min', 'Down/Up Ratio', 'Bwd IAT Tot', 'Fwd Byts/b Avg', 'Pkt Len Max', 'Bwd Header Len'], 'Adv sample 963': ['ACK Flag Cnt', 'Fwd IAT Min', 'Active Mean', 'Bwd IAT Std', 'Init Bwd Win Byts', 'Active Min', 'Active Max', 'Flow IAT Mean', 'Bwd IAT Mean', 'Bwd PSH Flags'], 'Adv sample 964': ['URG Flag Cnt', 'Bwd URG Flags', 'PSH Flag Cnt', 'Active Max', 'FIN Flag Cnt', 'Bwd IAT Mean', 'Down/Up Ratio', 'Bwd IAT Max', 'Fwd IAT Min', 'Pkt Size Avg'], 'Adv sample 965': ['ACK Flag Cnt', 'Fwd IAT Min', 'Bwd IAT Mean', 'Bwd IAT Max', 'Active Max', 'Init Bwd Win Byts', 'Fwd Byts/b Avg', 'Pkt Size Avg', 'Pkt Len Mean', 'Fwd Pkt Len Min'], 'Adv sample 966': ['ACK Flag Cnt', 'Bwd IAT Tot', 'Flow IAT Std', 'Flow IAT Mean', 'Init Bwd Win Byts', 'PSH Flag Cnt', 'Flow Pkts/s', 'Active Min', 'Bwd Seg Size Avg', 'Fwd Header Len'], 'Adv sample 967': ['Bwd IAT Mean', 'Init Bwd Win Byts', 'Idle Std', 'Active Min', 'Active Mean', 'Active Max', 'Bwd Pkts/b Avg', 'Fwd Byts/b Avg', 'Fwd IAT Min', 'Bwd IAT Min'], 'Adv sample 968': ['Bwd IAT Min', 'Bwd IAT Mean', 'Active Mean', 'Active Max', 'Init Bwd Win Byts', 'Down/Up Ratio', 'Bwd IAT Tot', 'Bwd IAT Max', 'Tot Bwd Pkts', 'Bwd Header Len'], 'Adv sample 969': ['SYN Flag Cnt', 'Active Mean', 'Init Bwd Win Byts', 'Active Min', 'Active Max', 'Fwd IAT Mean', 'Bwd IAT Std', 'Bwd IAT Min', 'Bwd Pkts/b Avg', 'Fwd Blk Rate Avg'], 'Adv sample 970': ['Active Min', 'Bwd IAT Mean', 'Active Mean', 'Active Max', 'Init Bwd Win Byts', 'Bwd IAT Std', 'Bwd IAT Min', 'Fwd IAT Min', 'Bwd IAT Max', 'Pkt Size Avg'], 'Adv sample 971': ['ACK Flag Cnt', 'Bwd IAT Min', 'Active Max', 'Init Bwd Win Byts', 'Active Min', 'Bwd IAT Std', 'Fwd IAT Min', 'Bwd IAT Max', 'Active Mean', 'Idle Max'], 'Adv sample 972': ['Active Mean', 'Bwd Pkts/s', 'Bwd IAT Max', 'Bwd IAT Mean', 'Flow Pkts/s', 'Bwd IAT Min', 'Bwd IAT Tot', 'Down/Up Ratio', 'Bwd IAT Std', 'Init Bwd Win Byts'], 'Adv sample 973': ['SYN Flag Cnt', 'Active Min', 'Init Bwd Win Byts', 'Active Max', 'Active Mean', 'Bwd IAT Std', 'Fwd IAT Min', 'Bwd Seg Size Avg', 'Bwd IAT Max', 'Idle Max'], 'Adv sample 974': ['Bwd IAT Min', 'Bwd IAT Mean', 'Init Bwd Win Byts', 'Active Min', 'Down/Up Ratio', 'Bwd IAT Std', 'Bwd IAT Tot', 'Bwd IAT Max', 'Active Max', 'Idle Max'], 'Adv sample 975': ['SYN Flag Cnt', 'Bwd IAT Std', 'Active Min', 'Active Max', 'Init Bwd Win Byts', 'Fwd IAT Min', 'Active Mean', 'Fwd Byts/b Avg', 'Subflow Bwd Pkts', 'Idle Std'], 'Adv sample 976': ['SYN Flag Cnt', 'Active Min', 'Active Max', 'Init Bwd Win Byts', 'Fwd IAT Min', 'Active Mean', 'Down/Up Ratio', 'Idle Std', 'Bwd IAT Std', 'Pkt Len Max'], 'Adv sample 977': ['SYN Flag Cnt', 'Active Min', 'Bwd IAT Mean', 'Active Mean', 'Init Bwd Win Byts', 'Fwd Byts/b Avg', 'Bwd IAT Min', 'Bwd IAT Max', 'Idle Std', 'Fwd IAT Min'], 'Adv sample 978': ['SYN Flag Cnt', 'Bwd IAT Min', 'Active Min', 'Init Bwd Win Byts', 'Bwd IAT Std', 'Fwd IAT Mean', 'Fwd Byts/b Avg', 'Bwd IAT Max', 'Bwd IAT Mean', 'Idle Max'], 'Adv sample 979': ['Bwd Pkts/s', 'Flow Pkts/s', 'Bwd IAT Mean', 'Bwd IAT Tot', 'Bwd IAT Max', 'Init Bwd Win Byts', 'Active Mean', 'Down/Up Ratio', 'Active Max', 'Bwd IAT Min'], 'Adv sample 980': ['Bwd Pkts/s', 'Flow Pkts/s', 'Active Mean', 'Init Bwd Win Byts', 'Bwd IAT Tot', 'Bwd IAT Mean', 'Active Min', 'Bwd IAT Std', 'Active Max', 'Down/Up Ratio'], 'Adv sample 981': ['Active Min', 'Bwd IAT Min', 'Fwd Byts/b Avg', 'Init Bwd Win Byts', 'Bwd IAT Max', 'Bwd Pkts/b Avg', 'Bwd Seg Size Avg', 'Flow IAT Min', 'Pkt Size Avg', 'Pkt Len Mean'], 'Adv sample 982': ['ACK Flag Cnt', 'Active Max', 'Idle Std', 'Bwd IAT Std', 'Init Bwd Win Byts', 'Bwd IAT Min', 'Bwd Byts/b Avg', 'Flow Duration', 'Bwd IAT Tot', 'Pkt Len Min'], 'Adv sample 983': ['ACK Flag Cnt', 'Active Max', 'Init Bwd Win Byts', 'Fwd IAT Min', 'Fwd Byts/b Avg', 'Active Min', 'FIN Flag Cnt', 'Bwd IAT Min', 'Flow Pkts/s', 'Bwd IAT Std'], 'Adv sample 984': ['URG Flag Cnt', 'Bwd URG Flags', 'Active Mean', 'Init Bwd Win Byts', 'Bwd IAT Max', 'Fwd IAT Min', 'Active Max', 'FIN Flag Cnt', 'Bwd Pkt Len Mean', 'Subflow Bwd Pkts'], 'Adv sample 985': ['Bwd IAT Mean', 'Bwd IAT Max', 'Active Min', 'Bwd Pkts/s', 'Fwd Byts/b Avg', 'Active Max', 'Init Bwd Win Byts', 'Active Mean', 'Down/Up Ratio', 'Bwd IAT Tot'], 'Adv sample 986': ['Active Min', 'Bwd IAT Mean', 'Init Bwd Win Byts', 'Bwd Pkts/b Avg', 'Fwd Blk Rate Avg', 'Fwd Byts/b Avg', 'Bwd IAT Tot', 'Bwd Pkt Len Mean', 'Down/Up Ratio', 'Flow IAT Std'], 'Adv sample 987': ['ACK Flag Cnt', 'Active Mean', 'Bwd IAT Mean', 'Init Bwd Win Byts', 'Active Min', 'Fwd Pkt Len Std', 'Flow IAT Std', 'Bwd Pkt Len Max', 'Flow IAT Mean', 'Pkt Len Std'], 'Adv sample 988': ['ACK Flag Cnt', 'Bwd IAT Min', 'Init Bwd Win Byts', 'Bwd IAT Max', 'Active Min', 'Idle Min', 'Flow Pkts/s', 'Bwd IAT Std', 'Idle Mean', 'Idle Max'], 'Adv sample 989': ['ACK Flag Cnt', 'Fwd IAT Min', 'Init Bwd Win Byts', 'Bwd IAT Std', 'Bwd IAT Mean', 'Active Min', 'Active Mean', 'Bwd IAT Max', 'Pkt Len Mean', 'Active Max'], 'Adv sample 990': ['ACK Flag Cnt', 'FIN Flag Cnt', 'Init Bwd Win Byts', 'Flow Pkts/s', 'Active Min', 'Bwd IAT Min', 'Active Mean', 'Bwd IAT Mean', 'Fwd IAT Min', 'Fwd Byts/b Avg'], 'Adv sample 991': ['ACK Flag Cnt', 'Init Bwd Win Byts', 'FIN Flag Cnt', 'Active Min', 'Active Max', 'Flow Pkts/s', 'Bwd IAT Max', 'Fwd IAT Min', 'Bwd IAT Mean', 'Active Mean'], 'Adv sample 992': ['Active Mean', 'Bwd IAT Max', 'Bwd IAT Mean', 'Init Bwd Win Byts', 'Bwd IAT Tot', 'Fwd Blk Rate Avg', 'Bwd Pkts/s', 'Down/Up Ratio', 'Bwd Seg Size Avg', 'Fwd IAT Min'], 'Adv sample 993': ['Init Bwd Win Byts', 'Active Max', 'Idle Std', 'ACK Flag Cnt', 'Bwd IAT Std', 'Down/Up Ratio', 'Fwd IAT Min', 'Active Mean', 'Active Min', 'Bwd IAT Max'], 'Adv sample 994': ['Active Min', 'Active Mean', 'Bwd IAT Min', 'Init Bwd Win Byts', 'Active Max', 'Bwd IAT Std', 'Bwd IAT Mean', 'Bwd IAT Max', 'Subflow Fwd Byts', 'Flow IAT Max'], 'Adv sample 995': ['Active Mean', 'Bwd IAT Mean', 'Active Min', 'Bwd IAT Std', 'Init Bwd Win Byts', 'Bwd IAT Tot', 'Active Max', 'Fwd Byts/b Avg', 'Bwd IAT Min', 'Bwd IAT Max'], 'Adv sample 996': ['Bwd IAT Mean', 'Active Mean', 'Bwd IAT Min', 'Init Bwd Win Byts', 'Fwd IAT Min', 'Fwd Blk Rate Avg', 'Idle Min', 'Fwd Byts/b Avg', 'Pkt Len Max', 'Pkt Len Min'], 'Adv sample 997': ['SYN Flag Cnt', 'Active Mean', 'Bwd IAT Min', 'Bwd IAT Mean', 'Init Bwd Win Byts', 'Idle Std', 'Fwd Byts/b Avg', 'Pkt Len Min', 'Idle Min', 'Bwd Pkt Len Min'], 'Adv sample 998': ['Active Max', 'Init Bwd Win Byts', 'Bwd IAT Std', 'Bwd IAT Max', 'Idle Std', 'Active Mean', 'Fwd IAT Min', 'Bwd IAT Min', 'Fwd Byts/b Avg', 'Active Min'], 'Adv sample 999': ['ACK Flag Cnt', 'Active Max', 'Init Bwd Win Byts', 'Fwd IAT Min', 'Fwd IAT Mean', 'Bwd IAT Mean', 'Flow Pkts/s', 'Bwd IAT Min', 'Pkt Len Max', 'Idle Std']}\n"
          ]
        }
      ]
    },
    {
      "cell_type": "code",
      "source": [
        "len(shap_values[0])"
      ],
      "metadata": {
        "colab": {
          "base_uri": "https://localhost:8080/"
        },
        "id": "YdyTABeHYa2k",
        "outputId": "35443417-78d0-441f-8c5b-a702fc1f8261"
      },
      "execution_count": 61,
      "outputs": [
        {
          "output_type": "execute_result",
          "data": {
            "text/plain": [
              "1000"
            ]
          },
          "metadata": {},
          "execution_count": 61
        }
      ]
    },
    {
      "cell_type": "code",
      "source": [
        "len(data_dict)"
      ],
      "metadata": {
        "colab": {
          "base_uri": "https://localhost:8080/"
        },
        "id": "rUB23r63Tjug",
        "outputId": "d3a52f96-8c81-4403-f315-0dfdf50d7567"
      },
      "execution_count": 62,
      "outputs": [
        {
          "output_type": "execute_result",
          "data": {
            "text/plain": [
              "1000"
            ]
          },
          "metadata": {},
          "execution_count": 62
        }
      ]
    },
    {
      "cell_type": "markdown",
      "source": [
        "# Detection phase"
      ],
      "metadata": {
        "id": "E8tWQQDtNIJk"
      }
    },
    {
      "cell_type": "code",
      "source": [
        "import os\n",
        "import pandas as pd"
      ],
      "metadata": {
        "id": "mmslrdn7z7Zf"
      },
      "execution_count": 75,
      "outputs": []
    },
    {
      "cell_type": "code",
      "source": [
        "whitelist_df = pd.read_csv('/content/drive/MyDrive/MLP_top24_InSDN.csv')\n",
        "whitelist_df.head(24)"
      ],
      "metadata": {
        "colab": {
          "base_uri": "https://localhost:8080/",
          "height": 801
        },
        "id": "aQJa-f1GPxvz",
        "outputId": "c55f1117-1bb4-48cf-bb11-c81b5971beb8"
      },
      "execution_count": 76,
      "outputs": [
        {
          "output_type": "execute_result",
          "data": {
            "text/plain": [
              "              Feature  Frequency\n",
              "0   Init Bwd Win Byts        786\n",
              "1            Idle Max        546\n",
              "2     Bwd Pkt Len Max        531\n",
              "3           Idle Mean        449\n",
              "4        Tot Fwd Pkts        432\n",
              "5            Idle Min        413\n",
              "6     Bwd Pkt Len Std        399\n",
              "7        Tot Bwd Pkts        395\n",
              "8    Bwd Pkt Len Mean        382\n",
              "9     TotLen Fwd Pkts        373\n",
              "10    TotLen Bwd Pkts        372\n",
              "11        Bwd IAT Max        364\n",
              "12        Bwd IAT Tot        341\n",
              "13        Fwd IAT Max        323\n",
              "14   Bwd Seg Size Avg        308\n",
              "15        Pkt Len Min        296\n",
              "16       SYN Flag Cnt        293\n",
              "17      Flow Duration        276\n",
              "18    Fwd Pkt Len Std        275\n",
              "19        Fwd IAT Tot        273\n",
              "20        Bwd IAT Std        273\n",
              "21        Flow Pkts/s        265\n",
              "22      Down/Up Ratio        245\n",
              "23        Fwd IAT Std        231"
            ],
            "text/html": [
              "\n",
              "  <div id=\"df-56fa04b3-a861-4541-8788-e0e446fc283e\">\n",
              "    <div class=\"colab-df-container\">\n",
              "      <div>\n",
              "<style scoped>\n",
              "    .dataframe tbody tr th:only-of-type {\n",
              "        vertical-align: middle;\n",
              "    }\n",
              "\n",
              "    .dataframe tbody tr th {\n",
              "        vertical-align: top;\n",
              "    }\n",
              "\n",
              "    .dataframe thead th {\n",
              "        text-align: right;\n",
              "    }\n",
              "</style>\n",
              "<table border=\"1\" class=\"dataframe\">\n",
              "  <thead>\n",
              "    <tr style=\"text-align: right;\">\n",
              "      <th></th>\n",
              "      <th>Feature</th>\n",
              "      <th>Frequency</th>\n",
              "    </tr>\n",
              "  </thead>\n",
              "  <tbody>\n",
              "    <tr>\n",
              "      <th>0</th>\n",
              "      <td>Init Bwd Win Byts</td>\n",
              "      <td>786</td>\n",
              "    </tr>\n",
              "    <tr>\n",
              "      <th>1</th>\n",
              "      <td>Idle Max</td>\n",
              "      <td>546</td>\n",
              "    </tr>\n",
              "    <tr>\n",
              "      <th>2</th>\n",
              "      <td>Bwd Pkt Len Max</td>\n",
              "      <td>531</td>\n",
              "    </tr>\n",
              "    <tr>\n",
              "      <th>3</th>\n",
              "      <td>Idle Mean</td>\n",
              "      <td>449</td>\n",
              "    </tr>\n",
              "    <tr>\n",
              "      <th>4</th>\n",
              "      <td>Tot Fwd Pkts</td>\n",
              "      <td>432</td>\n",
              "    </tr>\n",
              "    <tr>\n",
              "      <th>5</th>\n",
              "      <td>Idle Min</td>\n",
              "      <td>413</td>\n",
              "    </tr>\n",
              "    <tr>\n",
              "      <th>6</th>\n",
              "      <td>Bwd Pkt Len Std</td>\n",
              "      <td>399</td>\n",
              "    </tr>\n",
              "    <tr>\n",
              "      <th>7</th>\n",
              "      <td>Tot Bwd Pkts</td>\n",
              "      <td>395</td>\n",
              "    </tr>\n",
              "    <tr>\n",
              "      <th>8</th>\n",
              "      <td>Bwd Pkt Len Mean</td>\n",
              "      <td>382</td>\n",
              "    </tr>\n",
              "    <tr>\n",
              "      <th>9</th>\n",
              "      <td>TotLen Fwd Pkts</td>\n",
              "      <td>373</td>\n",
              "    </tr>\n",
              "    <tr>\n",
              "      <th>10</th>\n",
              "      <td>TotLen Bwd Pkts</td>\n",
              "      <td>372</td>\n",
              "    </tr>\n",
              "    <tr>\n",
              "      <th>11</th>\n",
              "      <td>Bwd IAT Max</td>\n",
              "      <td>364</td>\n",
              "    </tr>\n",
              "    <tr>\n",
              "      <th>12</th>\n",
              "      <td>Bwd IAT Tot</td>\n",
              "      <td>341</td>\n",
              "    </tr>\n",
              "    <tr>\n",
              "      <th>13</th>\n",
              "      <td>Fwd IAT Max</td>\n",
              "      <td>323</td>\n",
              "    </tr>\n",
              "    <tr>\n",
              "      <th>14</th>\n",
              "      <td>Bwd Seg Size Avg</td>\n",
              "      <td>308</td>\n",
              "    </tr>\n",
              "    <tr>\n",
              "      <th>15</th>\n",
              "      <td>Pkt Len Min</td>\n",
              "      <td>296</td>\n",
              "    </tr>\n",
              "    <tr>\n",
              "      <th>16</th>\n",
              "      <td>SYN Flag Cnt</td>\n",
              "      <td>293</td>\n",
              "    </tr>\n",
              "    <tr>\n",
              "      <th>17</th>\n",
              "      <td>Flow Duration</td>\n",
              "      <td>276</td>\n",
              "    </tr>\n",
              "    <tr>\n",
              "      <th>18</th>\n",
              "      <td>Fwd Pkt Len Std</td>\n",
              "      <td>275</td>\n",
              "    </tr>\n",
              "    <tr>\n",
              "      <th>19</th>\n",
              "      <td>Fwd IAT Tot</td>\n",
              "      <td>273</td>\n",
              "    </tr>\n",
              "    <tr>\n",
              "      <th>20</th>\n",
              "      <td>Bwd IAT Std</td>\n",
              "      <td>273</td>\n",
              "    </tr>\n",
              "    <tr>\n",
              "      <th>21</th>\n",
              "      <td>Flow Pkts/s</td>\n",
              "      <td>265</td>\n",
              "    </tr>\n",
              "    <tr>\n",
              "      <th>22</th>\n",
              "      <td>Down/Up Ratio</td>\n",
              "      <td>245</td>\n",
              "    </tr>\n",
              "    <tr>\n",
              "      <th>23</th>\n",
              "      <td>Fwd IAT Std</td>\n",
              "      <td>231</td>\n",
              "    </tr>\n",
              "  </tbody>\n",
              "</table>\n",
              "</div>\n",
              "      <button class=\"colab-df-convert\" onclick=\"convertToInteractive('df-56fa04b3-a861-4541-8788-e0e446fc283e')\"\n",
              "              title=\"Convert this dataframe to an interactive table.\"\n",
              "              style=\"display:none;\">\n",
              "        \n",
              "  <svg xmlns=\"http://www.w3.org/2000/svg\" height=\"24px\"viewBox=\"0 0 24 24\"\n",
              "       width=\"24px\">\n",
              "    <path d=\"M0 0h24v24H0V0z\" fill=\"none\"/>\n",
              "    <path d=\"M18.56 5.44l.94 2.06.94-2.06 2.06-.94-2.06-.94-.94-2.06-.94 2.06-2.06.94zm-11 1L8.5 8.5l.94-2.06 2.06-.94-2.06-.94L8.5 2.5l-.94 2.06-2.06.94zm10 10l.94 2.06.94-2.06 2.06-.94-2.06-.94-.94-2.06-.94 2.06-2.06.94z\"/><path d=\"M17.41 7.96l-1.37-1.37c-.4-.4-.92-.59-1.43-.59-.52 0-1.04.2-1.43.59L10.3 9.45l-7.72 7.72c-.78.78-.78 2.05 0 2.83L4 21.41c.39.39.9.59 1.41.59.51 0 1.02-.2 1.41-.59l7.78-7.78 2.81-2.81c.8-.78.8-2.07 0-2.86zM5.41 20L4 18.59l7.72-7.72 1.47 1.35L5.41 20z\"/>\n",
              "  </svg>\n",
              "      </button>\n",
              "      \n",
              "  <style>\n",
              "    .colab-df-container {\n",
              "      display:flex;\n",
              "      flex-wrap:wrap;\n",
              "      gap: 12px;\n",
              "    }\n",
              "\n",
              "    .colab-df-convert {\n",
              "      background-color: #E8F0FE;\n",
              "      border: none;\n",
              "      border-radius: 50%;\n",
              "      cursor: pointer;\n",
              "      display: none;\n",
              "      fill: #1967D2;\n",
              "      height: 32px;\n",
              "      padding: 0 0 0 0;\n",
              "      width: 32px;\n",
              "    }\n",
              "\n",
              "    .colab-df-convert:hover {\n",
              "      background-color: #E2EBFA;\n",
              "      box-shadow: 0px 1px 2px rgba(60, 64, 67, 0.3), 0px 1px 3px 1px rgba(60, 64, 67, 0.15);\n",
              "      fill: #174EA6;\n",
              "    }\n",
              "\n",
              "    [theme=dark] .colab-df-convert {\n",
              "      background-color: #3B4455;\n",
              "      fill: #D2E3FC;\n",
              "    }\n",
              "\n",
              "    [theme=dark] .colab-df-convert:hover {\n",
              "      background-color: #434B5C;\n",
              "      box-shadow: 0px 1px 3px 1px rgba(0, 0, 0, 0.15);\n",
              "      filter: drop-shadow(0px 1px 2px rgba(0, 0, 0, 0.3));\n",
              "      fill: #FFFFFF;\n",
              "    }\n",
              "  </style>\n",
              "\n",
              "      <script>\n",
              "        const buttonEl =\n",
              "          document.querySelector('#df-56fa04b3-a861-4541-8788-e0e446fc283e button.colab-df-convert');\n",
              "        buttonEl.style.display =\n",
              "          google.colab.kernel.accessAllowed ? 'block' : 'none';\n",
              "\n",
              "        async function convertToInteractive(key) {\n",
              "          const element = document.querySelector('#df-56fa04b3-a861-4541-8788-e0e446fc283e');\n",
              "          const dataTable =\n",
              "            await google.colab.kernel.invokeFunction('convertToInteractive',\n",
              "                                                     [key], {});\n",
              "          if (!dataTable) return;\n",
              "\n",
              "          const docLinkHtml = 'Like what you see? Visit the ' +\n",
              "            '<a target=\"_blank\" href=https://colab.research.google.com/notebooks/data_table.ipynb>data table notebook</a>'\n",
              "            + ' to learn more about interactive tables.';\n",
              "          element.innerHTML = '';\n",
              "          dataTable['output_type'] = 'display_data';\n",
              "          await google.colab.output.renderOutput(dataTable, element);\n",
              "          const docLink = document.createElement('div');\n",
              "          docLink.innerHTML = docLinkHtml;\n",
              "          element.appendChild(docLink);\n",
              "        }\n",
              "      </script>\n",
              "    </div>\n",
              "  </div>\n",
              "  "
            ]
          },
          "metadata": {},
          "execution_count": 76
        }
      ]
    },
    {
      "cell_type": "markdown",
      "source": [
        "## Detection rate (top 51) = 991/1000"
      ],
      "metadata": {
        "id": "PkqSAZakWXM8"
      }
    },
    {
      "cell_type": "code",
      "source": [
        "whitelist = whitelist_df.iloc[:, 0][:51].tolist()\n",
        "print(whitelist)"
      ],
      "metadata": {
        "colab": {
          "base_uri": "https://localhost:8080/"
        },
        "id": "hiA70yr9QStE",
        "outputId": "59f640f2-7105-462f-a81d-bbd1b9ca58f6"
      },
      "execution_count": 89,
      "outputs": [
        {
          "output_type": "stream",
          "name": "stdout",
          "text": [
            "['Init Bwd Win Byts', 'Idle Max', 'Bwd Pkt Len Max', 'Idle Mean', 'Tot Fwd Pkts', 'Idle Min', 'Bwd Pkt Len Std', 'Tot Bwd Pkts', 'Bwd Pkt Len Mean', 'TotLen Fwd Pkts', 'TotLen Bwd Pkts', 'Bwd IAT Max', 'Bwd IAT Tot', 'Fwd IAT Max', 'Bwd Seg Size Avg', 'Pkt Len Min', 'SYN Flag Cnt', 'Flow Duration', 'Fwd Pkt Len Std', 'Fwd IAT Tot', 'Bwd IAT Std', 'Flow Pkts/s', 'Down/Up Ratio', 'Fwd IAT Std', 'Fwd Pkt Len Min', 'Fwd Pkt Len Max', 'Subflow Bwd Pkts', 'Bwd Pkt Len Min', 'Flow IAT Mean', 'Flow IAT Min', 'Fwd IAT Min', 'Bwd IAT Mean', 'Bwd IAT Min', 'Bwd Header Len', 'Subflow Bwd Byts', 'Subflow Fwd Byts', 'Fwd Header Len', 'Bwd PSH Flags', 'Idle Std', 'Fwd Pkts/s', 'Fwd Act Data Pkts', 'Pkt Len Max', 'Fwd IAT Mean', 'Active Max', 'Active Std', 'Pkt Len Std', 'Pkt Len Var', 'Subflow Fwd Pkts', 'Flow Byts/s', 'Pkt Size Avg', 'Active Mean']\n"
          ]
        }
      ]
    },
    {
      "cell_type": "code",
      "source": [
        "alert = []\n",
        "\n",
        "# Iterate over each key-value pair in the data_dict\n",
        "for key, value in data_dict.items():\n",
        "    # Check if there are one feature is not in the whitelist\n",
        "    for string in value:\n",
        "      if string not in whitelist:\n",
        "        alert.append(key)\n",
        "        break\n",
        "\n",
        "# Print the alert dictionary\n",
        "print(\"Alert list length:\" + str(len(alert)))"
      ],
      "metadata": {
        "colab": {
          "base_uri": "https://localhost:8080/"
        },
        "id": "GWIJRBYkUwhx",
        "outputId": "65c8c11b-41ef-4543-e97f-3bb521a4c941"
      },
      "execution_count": 90,
      "outputs": [
        {
          "output_type": "stream",
          "name": "stdout",
          "text": [
            "Alert list length:991\n"
          ]
        }
      ]
    },
    {
      "cell_type": "markdown",
      "source": [
        "## Detection rate (top 59) = 729/1000"
      ],
      "metadata": {
        "id": "NddVIE7MU9m-"
      }
    },
    {
      "cell_type": "code",
      "source": [
        "whitelist2 = whitelist_df.iloc[:, 0][:60].tolist()\n",
        "print(whitelist2)"
      ],
      "metadata": {
        "colab": {
          "base_uri": "https://localhost:8080/"
        },
        "id": "QTKqfqrEWMLV",
        "outputId": "0a2b1a04-e092-412d-8256-2e7fd2f4614c"
      },
      "execution_count": 85,
      "outputs": [
        {
          "output_type": "stream",
          "name": "stdout",
          "text": [
            "['Init Bwd Win Byts', 'Idle Max', 'Bwd Pkt Len Max', 'Idle Mean', 'Tot Fwd Pkts', 'Idle Min', 'Bwd Pkt Len Std', 'Tot Bwd Pkts', 'Bwd Pkt Len Mean', 'TotLen Fwd Pkts', 'TotLen Bwd Pkts', 'Bwd IAT Max', 'Bwd IAT Tot', 'Fwd IAT Max', 'Bwd Seg Size Avg', 'Pkt Len Min', 'SYN Flag Cnt', 'Flow Duration', 'Fwd Pkt Len Std', 'Fwd IAT Tot', 'Bwd IAT Std', 'Flow Pkts/s', 'Down/Up Ratio', 'Fwd IAT Std', 'Fwd Pkt Len Min', 'Fwd Pkt Len Max', 'Subflow Bwd Pkts', 'Bwd Pkt Len Min', 'Flow IAT Mean', 'Flow IAT Min', 'Fwd IAT Min', 'Bwd IAT Mean', 'Bwd IAT Min', 'Bwd Header Len', 'Subflow Bwd Byts', 'Subflow Fwd Byts', 'Fwd Header Len', 'Bwd PSH Flags', 'Idle Std', 'Fwd Pkts/s', 'Fwd Act Data Pkts', 'Pkt Len Max', 'Fwd IAT Mean', 'Active Max', 'Active Std', 'Pkt Len Std', 'Pkt Len Var', 'Subflow Fwd Pkts', 'Flow Byts/s', 'Pkt Size Avg', 'Active Mean', 'ACK Flag Cnt', 'Flow IAT Max', 'Active Min', 'Pkt Len Mean', 'Fwd Pkt Len Mean', 'Flow IAT Std', 'Fwd Seg Size Avg', 'PSH Flag Cnt', 'FIN Flag Cnt']\n"
          ]
        }
      ]
    },
    {
      "cell_type": "code",
      "source": [
        "alert2 = []\n",
        "\n",
        "# Iterate over each key-value pair in the data_dict\n",
        "for key, value in data_dict.items():\n",
        "    # Check if there are one feature is not in the whitelist\n",
        "    for string in value:\n",
        "      if string not in whitelist2:\n",
        "        alert2.append(key)\n",
        "        break\n",
        "\n",
        "# Print the alert dictionary\n",
        "print(\"Alert list length:\" + str(len(alert2)))"
      ],
      "metadata": {
        "colab": {
          "base_uri": "https://localhost:8080/"
        },
        "id": "p_i5J0kxVyCx",
        "outputId": "b10e3859-2268-40a5-8c50-f5c02165fc07"
      },
      "execution_count": 86,
      "outputs": [
        {
          "output_type": "stream",
          "name": "stdout",
          "text": [
            "Alert list length:699\n"
          ]
        }
      ]
    }
  ]
}