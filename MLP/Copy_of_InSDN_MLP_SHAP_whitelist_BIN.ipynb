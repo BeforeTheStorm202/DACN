{
  "cells": [
    {
      "cell_type": "markdown",
      "metadata": {
        "id": "rJBJPRmCFqU7"
      },
      "source": [
        "# Import"
      ]
    },
    {
      "cell_type": "code",
      "execution_count": 1,
      "metadata": {
        "colab": {
          "base_uri": "https://localhost:8080/"
        },
        "id": "Ym8Pb2oREYUG",
        "outputId": "984675d8-8fe8-4948-c568-bce90e5d7890"
      },
      "outputs": [
        {
          "output_type": "stream",
          "name": "stdout",
          "text": [
            "Collecting shap\n",
            "  Downloading shap-0.42.0-cp310-cp310-manylinux_2_12_x86_64.manylinux2010_x86_64.manylinux_2_17_x86_64.manylinux2014_x86_64.whl (547 kB)\n",
            "\u001b[?25l     \u001b[90m━━━━━━━━━━━━━━━━━━━━━━━━━━━━━━━━━━━━━━━━\u001b[0m \u001b[32m0.0/547.1 kB\u001b[0m \u001b[31m?\u001b[0m eta \u001b[36m-:--:--\u001b[0m\r\u001b[2K     \u001b[91m━━━━━━━━━━━━━━━━━━\u001b[0m\u001b[90m╺\u001b[0m\u001b[90m━━━━━━━━━━━━━━━━━━━━\u001b[0m \u001b[32m256.0/547.1 kB\u001b[0m \u001b[31m7.4 MB/s\u001b[0m eta \u001b[36m0:00:01\u001b[0m\r\u001b[2K     \u001b[90m━━━━━━━━━━━━━━━━━━━━━━━━━━━━━━━━━━━━━━━\u001b[0m \u001b[32m547.1/547.1 kB\u001b[0m \u001b[31m9.4 MB/s\u001b[0m eta \u001b[36m0:00:00\u001b[0m\n",
            "\u001b[?25hRequirement already satisfied: numpy in /usr/local/lib/python3.10/dist-packages (from shap) (1.22.4)\n",
            "Requirement already satisfied: scipy in /usr/local/lib/python3.10/dist-packages (from shap) (1.10.1)\n",
            "Requirement already satisfied: scikit-learn in /usr/local/lib/python3.10/dist-packages (from shap) (1.2.2)\n",
            "Requirement already satisfied: pandas in /usr/local/lib/python3.10/dist-packages (from shap) (1.5.3)\n",
            "Requirement already satisfied: tqdm>=4.27.0 in /usr/local/lib/python3.10/dist-packages (from shap) (4.65.0)\n",
            "Requirement already satisfied: packaging>20.9 in /usr/local/lib/python3.10/dist-packages (from shap) (23.1)\n",
            "Collecting slicer==0.0.7 (from shap)\n",
            "  Downloading slicer-0.0.7-py3-none-any.whl (14 kB)\n",
            "Requirement already satisfied: numba in /usr/local/lib/python3.10/dist-packages (from shap) (0.56.4)\n",
            "Requirement already satisfied: cloudpickle in /usr/local/lib/python3.10/dist-packages (from shap) (2.2.1)\n",
            "Requirement already satisfied: llvmlite<0.40,>=0.39.0dev0 in /usr/local/lib/python3.10/dist-packages (from numba->shap) (0.39.1)\n",
            "Requirement already satisfied: setuptools in /usr/local/lib/python3.10/dist-packages (from numba->shap) (67.7.2)\n",
            "Requirement already satisfied: python-dateutil>=2.8.1 in /usr/local/lib/python3.10/dist-packages (from pandas->shap) (2.8.2)\n",
            "Requirement already satisfied: pytz>=2020.1 in /usr/local/lib/python3.10/dist-packages (from pandas->shap) (2022.7.1)\n",
            "Requirement already satisfied: joblib>=1.1.1 in /usr/local/lib/python3.10/dist-packages (from scikit-learn->shap) (1.2.0)\n",
            "Requirement already satisfied: threadpoolctl>=2.0.0 in /usr/local/lib/python3.10/dist-packages (from scikit-learn->shap) (3.1.0)\n",
            "Requirement already satisfied: six>=1.5 in /usr/local/lib/python3.10/dist-packages (from python-dateutil>=2.8.1->pandas->shap) (1.16.0)\n",
            "Installing collected packages: slicer, shap\n",
            "Successfully installed shap-0.42.0 slicer-0.0.7\n"
          ]
        }
      ],
      "source": [
        "!pip install shap"
      ]
    },
    {
      "cell_type": "code",
      "execution_count": 2,
      "metadata": {
        "id": "9qxu7n9TFv21",
        "colab": {
          "base_uri": "https://localhost:8080/"
        },
        "outputId": "fc927436-0039-44cd-873d-66bd12ee1df8"
      },
      "outputs": [
        {
          "output_type": "stream",
          "name": "stderr",
          "text": [
            "Using `tqdm.autonotebook.tqdm` in notebook mode. Use `tqdm.tqdm` instead to force console mode (e.g. in jupyter console)\n"
          ]
        }
      ],
      "source": [
        "import shap\n",
        "import pandas as pd\n",
        "import tensorflow as tf\n",
        "from tensorflow import keras"
      ]
    },
    {
      "cell_type": "code",
      "source": [
        "from google.colab import drive\n",
        "drive.mount('/content/drive')"
      ],
      "metadata": {
        "colab": {
          "base_uri": "https://localhost:8080/"
        },
        "id": "iY1t78ZdzYsk",
        "outputId": "6dbd5129-d666-46a2-b3a0-55756736fd70"
      },
      "execution_count": 30,
      "outputs": [
        {
          "output_type": "stream",
          "name": "stdout",
          "text": [
            "Drive already mounted at /content/drive; to attempt to forcibly remount, call drive.mount(\"/content/drive\", force_remount=True).\n"
          ]
        }
      ]
    },
    {
      "cell_type": "markdown",
      "metadata": {
        "id": "SDGzHf5TG6UT"
      },
      "source": [
        "# Load dataset & model"
      ]
    },
    {
      "cell_type": "code",
      "execution_count": 4,
      "metadata": {
        "colab": {
          "base_uri": "https://localhost:8080/"
        },
        "id": "a-B3scZ0lXpa",
        "outputId": "649b467a-5a33-4e26-ada0-511aa1b2094d"
      },
      "outputs": [
        {
          "output_type": "stream",
          "name": "stdout",
          "text": [
            "<class 'pandas.core.frame.DataFrame'>\n",
            "RangeIndex: 275111 entries, 0 to 275110\n",
            "Data columns (total 77 columns):\n",
            " #   Column             Non-Null Count   Dtype  \n",
            "---  ------             --------------   -----  \n",
            " 0   Flow Duration      275111 non-null  float64\n",
            " 1   Tot Fwd Pkts       275111 non-null  float64\n",
            " 2   Tot Bwd Pkts       275111 non-null  float64\n",
            " 3   TotLen Fwd Pkts    275111 non-null  float64\n",
            " 4   TotLen Bwd Pkts    275111 non-null  float64\n",
            " 5   Fwd Pkt Len Max    275111 non-null  float64\n",
            " 6   Fwd Pkt Len Min    275111 non-null  float64\n",
            " 7   Fwd Pkt Len Mean   275111 non-null  float64\n",
            " 8   Fwd Pkt Len Std    275111 non-null  float64\n",
            " 9   Bwd Pkt Len Max    275111 non-null  float64\n",
            " 10  Bwd Pkt Len Min    275111 non-null  float64\n",
            " 11  Bwd Pkt Len Mean   275111 non-null  float64\n",
            " 12  Bwd Pkt Len Std    275111 non-null  float64\n",
            " 13  Flow Byts/s        275111 non-null  float64\n",
            " 14  Flow Pkts/s        275111 non-null  float64\n",
            " 15  Flow IAT Mean      275111 non-null  float64\n",
            " 16  Flow IAT Std       275111 non-null  float64\n",
            " 17  Flow IAT Max       275111 non-null  float64\n",
            " 18  Flow IAT Min       275111 non-null  float64\n",
            " 19  Fwd IAT Tot        275111 non-null  float64\n",
            " 20  Fwd IAT Mean       275111 non-null  float64\n",
            " 21  Fwd IAT Std        275111 non-null  float64\n",
            " 22  Fwd IAT Max        275111 non-null  float64\n",
            " 23  Fwd IAT Min        275111 non-null  float64\n",
            " 24  Bwd IAT Tot        275111 non-null  float64\n",
            " 25  Bwd IAT Mean       275111 non-null  float64\n",
            " 26  Bwd IAT Std        275111 non-null  float64\n",
            " 27  Bwd IAT Max        275111 non-null  float64\n",
            " 28  Bwd IAT Min        275111 non-null  float64\n",
            " 29  Fwd PSH Flags      275111 non-null  float64\n",
            " 30  Bwd PSH Flags      275111 non-null  float64\n",
            " 31  Fwd URG Flags      275111 non-null  float64\n",
            " 32  Bwd URG Flags      275111 non-null  float64\n",
            " 33  Fwd Header Len     275111 non-null  float64\n",
            " 34  Bwd Header Len     275111 non-null  float64\n",
            " 35  Fwd Pkts/s         275111 non-null  float64\n",
            " 36  Bwd Pkts/s         275111 non-null  float64\n",
            " 37  Pkt Len Min        275111 non-null  float64\n",
            " 38  Pkt Len Max        275111 non-null  float64\n",
            " 39  Pkt Len Mean       275111 non-null  float64\n",
            " 40  Pkt Len Std        275111 non-null  float64\n",
            " 41  Pkt Len Var        275111 non-null  float64\n",
            " 42  FIN Flag Cnt       275111 non-null  float64\n",
            " 43  SYN Flag Cnt       275111 non-null  float64\n",
            " 44  RST Flag Cnt       275111 non-null  float64\n",
            " 45  PSH Flag Cnt       275111 non-null  float64\n",
            " 46  ACK Flag Cnt       275111 non-null  float64\n",
            " 47  URG Flag Cnt       275111 non-null  float64\n",
            " 48  CWE Flag Count     275111 non-null  float64\n",
            " 49  ECE Flag Cnt       275111 non-null  float64\n",
            " 50  Down/Up Ratio      275111 non-null  float64\n",
            " 51  Pkt Size Avg       275111 non-null  float64\n",
            " 52  Fwd Seg Size Avg   275111 non-null  float64\n",
            " 53  Bwd Seg Size Avg   275111 non-null  float64\n",
            " 54  Fwd Byts/b Avg     275111 non-null  float64\n",
            " 55  Fwd Pkts/b Avg     275111 non-null  float64\n",
            " 56  Fwd Blk Rate Avg   275111 non-null  float64\n",
            " 57  Bwd Byts/b Avg     275111 non-null  float64\n",
            " 58  Bwd Pkts/b Avg     275111 non-null  float64\n",
            " 59  Bwd Blk Rate Avg   275111 non-null  float64\n",
            " 60  Subflow Fwd Pkts   275111 non-null  float64\n",
            " 61  Subflow Fwd Byts   275111 non-null  float64\n",
            " 62  Subflow Bwd Pkts   275111 non-null  float64\n",
            " 63  Subflow Bwd Byts   275111 non-null  float64\n",
            " 64  Init Fwd Win Byts  275111 non-null  float64\n",
            " 65  Init Bwd Win Byts  275111 non-null  float64\n",
            " 66  Fwd Act Data Pkts  275111 non-null  float64\n",
            " 67  Fwd Seg Size Min   275111 non-null  float64\n",
            " 68  Active Mean        275111 non-null  float64\n",
            " 69  Active Std         275111 non-null  float64\n",
            " 70  Active Max         275111 non-null  float64\n",
            " 71  Active Min         275111 non-null  float64\n",
            " 72  Idle Mean          275111 non-null  float64\n",
            " 73  Idle Std           275111 non-null  float64\n",
            " 74  Idle Max           275111 non-null  float64\n",
            " 75  Idle Min           275111 non-null  float64\n",
            " 76  Label              275111 non-null  int64  \n",
            "dtypes: float64(76), int64(1)\n",
            "memory usage: 161.6 MB\n"
          ]
        }
      ],
      "source": [
        "df = pd.read_csv('/content/drive/MyDrive/Dataset/insdn/binary/train.csv')\n",
        "df.info()"
      ]
    },
    {
      "cell_type": "code",
      "execution_count": 5,
      "metadata": {
        "id": "9BkutXYx8C2V"
      },
      "outputs": [],
      "source": [
        "model_mlp = tf.keras.models.load_model('/content/drive/MyDrive/Dataset/insdn/insdn_mlp_bin.h5', compile=True)"
      ]
    },
    {
      "cell_type": "code",
      "execution_count": 6,
      "metadata": {
        "id": "8CQCgNzXysIE"
      },
      "outputs": [],
      "source": [
        "x_normal = df[df['Label'] == 0].reset_index(drop=True)"
      ]
    },
    {
      "cell_type": "code",
      "execution_count": 7,
      "metadata": {
        "colab": {
          "base_uri": "https://localhost:8080/"
        },
        "id": "xBfpy1cqzax6",
        "outputId": "684f8e71-381b-41cf-887c-372bd89fa508"
      },
      "outputs": [
        {
          "output_type": "stream",
          "name": "stdout",
          "text": [
            "<class 'pandas.core.frame.DataFrame'>\n",
            "RangeIndex: 54797 entries, 0 to 54796\n",
            "Data columns (total 77 columns):\n",
            " #   Column             Non-Null Count  Dtype  \n",
            "---  ------             --------------  -----  \n",
            " 0   Flow Duration      54797 non-null  float64\n",
            " 1   Tot Fwd Pkts       54797 non-null  float64\n",
            " 2   Tot Bwd Pkts       54797 non-null  float64\n",
            " 3   TotLen Fwd Pkts    54797 non-null  float64\n",
            " 4   TotLen Bwd Pkts    54797 non-null  float64\n",
            " 5   Fwd Pkt Len Max    54797 non-null  float64\n",
            " 6   Fwd Pkt Len Min    54797 non-null  float64\n",
            " 7   Fwd Pkt Len Mean   54797 non-null  float64\n",
            " 8   Fwd Pkt Len Std    54797 non-null  float64\n",
            " 9   Bwd Pkt Len Max    54797 non-null  float64\n",
            " 10  Bwd Pkt Len Min    54797 non-null  float64\n",
            " 11  Bwd Pkt Len Mean   54797 non-null  float64\n",
            " 12  Bwd Pkt Len Std    54797 non-null  float64\n",
            " 13  Flow Byts/s        54797 non-null  float64\n",
            " 14  Flow Pkts/s        54797 non-null  float64\n",
            " 15  Flow IAT Mean      54797 non-null  float64\n",
            " 16  Flow IAT Std       54797 non-null  float64\n",
            " 17  Flow IAT Max       54797 non-null  float64\n",
            " 18  Flow IAT Min       54797 non-null  float64\n",
            " 19  Fwd IAT Tot        54797 non-null  float64\n",
            " 20  Fwd IAT Mean       54797 non-null  float64\n",
            " 21  Fwd IAT Std        54797 non-null  float64\n",
            " 22  Fwd IAT Max        54797 non-null  float64\n",
            " 23  Fwd IAT Min        54797 non-null  float64\n",
            " 24  Bwd IAT Tot        54797 non-null  float64\n",
            " 25  Bwd IAT Mean       54797 non-null  float64\n",
            " 26  Bwd IAT Std        54797 non-null  float64\n",
            " 27  Bwd IAT Max        54797 non-null  float64\n",
            " 28  Bwd IAT Min        54797 non-null  float64\n",
            " 29  Fwd PSH Flags      54797 non-null  float64\n",
            " 30  Bwd PSH Flags      54797 non-null  float64\n",
            " 31  Fwd URG Flags      54797 non-null  float64\n",
            " 32  Bwd URG Flags      54797 non-null  float64\n",
            " 33  Fwd Header Len     54797 non-null  float64\n",
            " 34  Bwd Header Len     54797 non-null  float64\n",
            " 35  Fwd Pkts/s         54797 non-null  float64\n",
            " 36  Bwd Pkts/s         54797 non-null  float64\n",
            " 37  Pkt Len Min        54797 non-null  float64\n",
            " 38  Pkt Len Max        54797 non-null  float64\n",
            " 39  Pkt Len Mean       54797 non-null  float64\n",
            " 40  Pkt Len Std        54797 non-null  float64\n",
            " 41  Pkt Len Var        54797 non-null  float64\n",
            " 42  FIN Flag Cnt       54797 non-null  float64\n",
            " 43  SYN Flag Cnt       54797 non-null  float64\n",
            " 44  RST Flag Cnt       54797 non-null  float64\n",
            " 45  PSH Flag Cnt       54797 non-null  float64\n",
            " 46  ACK Flag Cnt       54797 non-null  float64\n",
            " 47  URG Flag Cnt       54797 non-null  float64\n",
            " 48  CWE Flag Count     54797 non-null  float64\n",
            " 49  ECE Flag Cnt       54797 non-null  float64\n",
            " 50  Down/Up Ratio      54797 non-null  float64\n",
            " 51  Pkt Size Avg       54797 non-null  float64\n",
            " 52  Fwd Seg Size Avg   54797 non-null  float64\n",
            " 53  Bwd Seg Size Avg   54797 non-null  float64\n",
            " 54  Fwd Byts/b Avg     54797 non-null  float64\n",
            " 55  Fwd Pkts/b Avg     54797 non-null  float64\n",
            " 56  Fwd Blk Rate Avg   54797 non-null  float64\n",
            " 57  Bwd Byts/b Avg     54797 non-null  float64\n",
            " 58  Bwd Pkts/b Avg     54797 non-null  float64\n",
            " 59  Bwd Blk Rate Avg   54797 non-null  float64\n",
            " 60  Subflow Fwd Pkts   54797 non-null  float64\n",
            " 61  Subflow Fwd Byts   54797 non-null  float64\n",
            " 62  Subflow Bwd Pkts   54797 non-null  float64\n",
            " 63  Subflow Bwd Byts   54797 non-null  float64\n",
            " 64  Init Fwd Win Byts  54797 non-null  float64\n",
            " 65  Init Bwd Win Byts  54797 non-null  float64\n",
            " 66  Fwd Act Data Pkts  54797 non-null  float64\n",
            " 67  Fwd Seg Size Min   54797 non-null  float64\n",
            " 68  Active Mean        54797 non-null  float64\n",
            " 69  Active Std         54797 non-null  float64\n",
            " 70  Active Max         54797 non-null  float64\n",
            " 71  Active Min         54797 non-null  float64\n",
            " 72  Idle Mean          54797 non-null  float64\n",
            " 73  Idle Std           54797 non-null  float64\n",
            " 74  Idle Max           54797 non-null  float64\n",
            " 75  Idle Min           54797 non-null  float64\n",
            " 76  Label              54797 non-null  int64  \n",
            "dtypes: float64(76), int64(1)\n",
            "memory usage: 32.2 MB\n"
          ]
        }
      ],
      "source": [
        "x_normal.info()"
      ]
    },
    {
      "cell_type": "code",
      "execution_count": 8,
      "metadata": {
        "id": "mQLA0I-h0Dji",
        "colab": {
          "base_uri": "https://localhost:8080/"
        },
        "outputId": "a5f5de46-afe7-4bbb-b226-48c20548039b"
      },
      "outputs": [
        {
          "output_type": "execute_result",
          "data": {
            "text/plain": [
              "0    54797\n",
              "Name: Label, dtype: int64"
            ]
          },
          "metadata": {},
          "execution_count": 8
        }
      ],
      "source": [
        "x_normal['Label'].value_counts()"
      ]
    },
    {
      "cell_type": "code",
      "source": [
        "df = df.drop(columns=['Label'])"
      ],
      "metadata": {
        "id": "3Wg8n_uhkW2c"
      },
      "execution_count": 9,
      "outputs": []
    },
    {
      "cell_type": "code",
      "execution_count": 10,
      "metadata": {
        "id": "nhDeX4S0zv7h"
      },
      "outputs": [],
      "source": [
        "x_normal = x_normal.drop(columns=['Label'])"
      ]
    },
    {
      "cell_type": "code",
      "source": [
        "feature_list = x_normal.columns"
      ],
      "metadata": {
        "id": "2nbvb3G4PTlN"
      },
      "execution_count": 11,
      "outputs": []
    },
    {
      "cell_type": "markdown",
      "metadata": {
        "id": "AT9S9DYm0H6q"
      },
      "source": [
        "# SHAP"
      ]
    },
    {
      "cell_type": "code",
      "execution_count": 12,
      "metadata": {
        "id": "Yrd_czRu0JGN"
      },
      "outputs": [],
      "source": [
        "explainer = shap.KernelExplainer(model_mlp, shap.sample(df, 100, random_state = 42))"
      ]
    },
    {
      "cell_type": "code",
      "source": [
        "normal_1500 = x_normal.head(1500)"
      ],
      "metadata": {
        "id": "aZFunz6Xk9Cz"
      },
      "execution_count": 13,
      "outputs": []
    },
    {
      "cell_type": "code",
      "execution_count": 14,
      "metadata": {
        "id": "98Y0qFwm0aSS",
        "colab": {
          "base_uri": "https://localhost:8080/",
          "height": 49,
          "referenced_widgets": [
            "a8cc569d55494ba7bb390217eb8989a7",
            "18fe0392d3a6432c9d49a0d0d85c8699",
            "06e7db8f53834f52b8ec45563a9a8b55",
            "93c6039bc6db4dc2bce76c29379da75f",
            "abd67b8c691249d89dfde26f5a964064",
            "b2d4af1a5b26462e91be1324640abdb6",
            "a6d727672bec49f4accaf91176e7913b",
            "1e8409c423b745b8956767cf42f84fe3",
            "9bd390d245be418a8064ae3857b9e09d",
            "662c6b010d274625b091ecde9b9e8109",
            "039e3f56c13e4a7b8d637a32c9a65167"
          ]
        },
        "outputId": "f11333f2-a34c-43b3-ed13-dec56769fbdf"
      },
      "outputs": [
        {
          "output_type": "display_data",
          "data": {
            "text/plain": [
              "  0%|          | 0/1500 [00:00<?, ?it/s]"
            ],
            "application/vnd.jupyter.widget-view+json": {
              "version_major": 2,
              "version_minor": 0,
              "model_id": "a8cc569d55494ba7bb390217eb8989a7"
            }
          },
          "metadata": {}
        }
      ],
      "source": [
        "shap_values = explainer.shap_values(normal_1500)"
      ]
    },
    {
      "cell_type": "code",
      "source": [
        "data_df = pd.DataFrame(shap_values[0])"
      ],
      "metadata": {
        "id": "0Xmzh4feCGka"
      },
      "execution_count": 15,
      "outputs": []
    },
    {
      "cell_type": "code",
      "source": [
        "data_df.to_csv('/content/drive/MyDrive/1500_samples_[0].csv', index=False)"
      ],
      "metadata": {
        "id": "WlmxBElzCIu5"
      },
      "execution_count": null,
      "outputs": []
    },
    {
      "cell_type": "code",
      "source": [
        "data_df.columns = feature_list\n",
        "data_df.head()"
      ],
      "metadata": {
        "colab": {
          "base_uri": "https://localhost:8080/",
          "height": 351
        },
        "id": "gWJJitNwObUj",
        "outputId": "71a7761f-0e5e-4ac0-9e5f-72d104b793bc"
      },
      "execution_count": 16,
      "outputs": [
        {
          "output_type": "execute_result",
          "data": {
            "text/plain": [
              "   Flow Duration  Tot Fwd Pkts  Tot Bwd Pkts  TotLen Fwd Pkts  \\\n",
              "0      -0.044187      0.013770      0.000000        -0.004049   \n",
              "1       0.000000      0.000000      0.003570        -0.010793   \n",
              "2      -0.001246     -0.003812      0.006438         0.000000   \n",
              "3      -0.004588      0.000000      0.003159         0.003865   \n",
              "4      -0.007091      0.008490      0.003210         0.005818   \n",
              "\n",
              "   TotLen Bwd Pkts  Fwd Pkt Len Max  Fwd Pkt Len Min  Fwd Pkt Len Mean  \\\n",
              "0         0.000000        -0.008802         0.000000         -0.014032   \n",
              "1        -0.006418        -0.002193         0.000000         -0.005705   \n",
              "2         0.000000        -0.008148        -0.005095         -0.018360   \n",
              "3         0.000000         0.008838        -0.004413         -0.008484   \n",
              "4         0.000000        -0.015870         0.000000         -0.003857   \n",
              "\n",
              "   Fwd Pkt Len Std  Bwd Pkt Len Max  ...  Fwd Act Data Pkts  Fwd Seg Size Min  \\\n",
              "0        -0.010526         0.038564  ...           0.000000               0.0   \n",
              "1         0.000000        -0.003380  ...           0.000000               0.0   \n",
              "2         0.008413         0.004801  ...          -0.003721               0.0   \n",
              "3        -0.003987        -0.001338  ...           0.009813               0.0   \n",
              "4        -0.015554         0.000000  ...          -0.001845               0.0   \n",
              "\n",
              "   Active Mean  Active Std  Active Max  Active Min  Idle Mean  Idle Std  \\\n",
              "0     0.000000   -0.017420    0.000000    0.000000  -0.016809  0.018498   \n",
              "1     0.005172    0.000000    0.006109    0.000000   0.007509 -0.011611   \n",
              "2     0.005441    0.002102    0.000000   -0.011588   0.006370  0.002538   \n",
              "3     0.000000   -0.008573    0.000000    0.005783  -0.003417 -0.002453   \n",
              "4     0.002949    0.000000   -0.003723    0.003384   0.000000 -0.003419   \n",
              "\n",
              "   Idle Max  Idle Min  \n",
              "0  0.024251  0.000000  \n",
              "1  0.008820  0.011227  \n",
              "2  0.004108  0.000000  \n",
              "3  0.006396  0.000000  \n",
              "4  0.000000  0.009838  \n",
              "\n",
              "[5 rows x 76 columns]"
            ],
            "text/html": [
              "\n",
              "  <div id=\"df-5e28bcb5-297f-4bef-a829-7c3928069f58\">\n",
              "    <div class=\"colab-df-container\">\n",
              "      <div>\n",
              "<style scoped>\n",
              "    .dataframe tbody tr th:only-of-type {\n",
              "        vertical-align: middle;\n",
              "    }\n",
              "\n",
              "    .dataframe tbody tr th {\n",
              "        vertical-align: top;\n",
              "    }\n",
              "\n",
              "    .dataframe thead th {\n",
              "        text-align: right;\n",
              "    }\n",
              "</style>\n",
              "<table border=\"1\" class=\"dataframe\">\n",
              "  <thead>\n",
              "    <tr style=\"text-align: right;\">\n",
              "      <th></th>\n",
              "      <th>Flow Duration</th>\n",
              "      <th>Tot Fwd Pkts</th>\n",
              "      <th>Tot Bwd Pkts</th>\n",
              "      <th>TotLen Fwd Pkts</th>\n",
              "      <th>TotLen Bwd Pkts</th>\n",
              "      <th>Fwd Pkt Len Max</th>\n",
              "      <th>Fwd Pkt Len Min</th>\n",
              "      <th>Fwd Pkt Len Mean</th>\n",
              "      <th>Fwd Pkt Len Std</th>\n",
              "      <th>Bwd Pkt Len Max</th>\n",
              "      <th>...</th>\n",
              "      <th>Fwd Act Data Pkts</th>\n",
              "      <th>Fwd Seg Size Min</th>\n",
              "      <th>Active Mean</th>\n",
              "      <th>Active Std</th>\n",
              "      <th>Active Max</th>\n",
              "      <th>Active Min</th>\n",
              "      <th>Idle Mean</th>\n",
              "      <th>Idle Std</th>\n",
              "      <th>Idle Max</th>\n",
              "      <th>Idle Min</th>\n",
              "    </tr>\n",
              "  </thead>\n",
              "  <tbody>\n",
              "    <tr>\n",
              "      <th>0</th>\n",
              "      <td>-0.044187</td>\n",
              "      <td>0.013770</td>\n",
              "      <td>0.000000</td>\n",
              "      <td>-0.004049</td>\n",
              "      <td>0.000000</td>\n",
              "      <td>-0.008802</td>\n",
              "      <td>0.000000</td>\n",
              "      <td>-0.014032</td>\n",
              "      <td>-0.010526</td>\n",
              "      <td>0.038564</td>\n",
              "      <td>...</td>\n",
              "      <td>0.000000</td>\n",
              "      <td>0.0</td>\n",
              "      <td>0.000000</td>\n",
              "      <td>-0.017420</td>\n",
              "      <td>0.000000</td>\n",
              "      <td>0.000000</td>\n",
              "      <td>-0.016809</td>\n",
              "      <td>0.018498</td>\n",
              "      <td>0.024251</td>\n",
              "      <td>0.000000</td>\n",
              "    </tr>\n",
              "    <tr>\n",
              "      <th>1</th>\n",
              "      <td>0.000000</td>\n",
              "      <td>0.000000</td>\n",
              "      <td>0.003570</td>\n",
              "      <td>-0.010793</td>\n",
              "      <td>-0.006418</td>\n",
              "      <td>-0.002193</td>\n",
              "      <td>0.000000</td>\n",
              "      <td>-0.005705</td>\n",
              "      <td>0.000000</td>\n",
              "      <td>-0.003380</td>\n",
              "      <td>...</td>\n",
              "      <td>0.000000</td>\n",
              "      <td>0.0</td>\n",
              "      <td>0.005172</td>\n",
              "      <td>0.000000</td>\n",
              "      <td>0.006109</td>\n",
              "      <td>0.000000</td>\n",
              "      <td>0.007509</td>\n",
              "      <td>-0.011611</td>\n",
              "      <td>0.008820</td>\n",
              "      <td>0.011227</td>\n",
              "    </tr>\n",
              "    <tr>\n",
              "      <th>2</th>\n",
              "      <td>-0.001246</td>\n",
              "      <td>-0.003812</td>\n",
              "      <td>0.006438</td>\n",
              "      <td>0.000000</td>\n",
              "      <td>0.000000</td>\n",
              "      <td>-0.008148</td>\n",
              "      <td>-0.005095</td>\n",
              "      <td>-0.018360</td>\n",
              "      <td>0.008413</td>\n",
              "      <td>0.004801</td>\n",
              "      <td>...</td>\n",
              "      <td>-0.003721</td>\n",
              "      <td>0.0</td>\n",
              "      <td>0.005441</td>\n",
              "      <td>0.002102</td>\n",
              "      <td>0.000000</td>\n",
              "      <td>-0.011588</td>\n",
              "      <td>0.006370</td>\n",
              "      <td>0.002538</td>\n",
              "      <td>0.004108</td>\n",
              "      <td>0.000000</td>\n",
              "    </tr>\n",
              "    <tr>\n",
              "      <th>3</th>\n",
              "      <td>-0.004588</td>\n",
              "      <td>0.000000</td>\n",
              "      <td>0.003159</td>\n",
              "      <td>0.003865</td>\n",
              "      <td>0.000000</td>\n",
              "      <td>0.008838</td>\n",
              "      <td>-0.004413</td>\n",
              "      <td>-0.008484</td>\n",
              "      <td>-0.003987</td>\n",
              "      <td>-0.001338</td>\n",
              "      <td>...</td>\n",
              "      <td>0.009813</td>\n",
              "      <td>0.0</td>\n",
              "      <td>0.000000</td>\n",
              "      <td>-0.008573</td>\n",
              "      <td>0.000000</td>\n",
              "      <td>0.005783</td>\n",
              "      <td>-0.003417</td>\n",
              "      <td>-0.002453</td>\n",
              "      <td>0.006396</td>\n",
              "      <td>0.000000</td>\n",
              "    </tr>\n",
              "    <tr>\n",
              "      <th>4</th>\n",
              "      <td>-0.007091</td>\n",
              "      <td>0.008490</td>\n",
              "      <td>0.003210</td>\n",
              "      <td>0.005818</td>\n",
              "      <td>0.000000</td>\n",
              "      <td>-0.015870</td>\n",
              "      <td>0.000000</td>\n",
              "      <td>-0.003857</td>\n",
              "      <td>-0.015554</td>\n",
              "      <td>0.000000</td>\n",
              "      <td>...</td>\n",
              "      <td>-0.001845</td>\n",
              "      <td>0.0</td>\n",
              "      <td>0.002949</td>\n",
              "      <td>0.000000</td>\n",
              "      <td>-0.003723</td>\n",
              "      <td>0.003384</td>\n",
              "      <td>0.000000</td>\n",
              "      <td>-0.003419</td>\n",
              "      <td>0.000000</td>\n",
              "      <td>0.009838</td>\n",
              "    </tr>\n",
              "  </tbody>\n",
              "</table>\n",
              "<p>5 rows × 76 columns</p>\n",
              "</div>\n",
              "      <button class=\"colab-df-convert\" onclick=\"convertToInteractive('df-5e28bcb5-297f-4bef-a829-7c3928069f58')\"\n",
              "              title=\"Convert this dataframe to an interactive table.\"\n",
              "              style=\"display:none;\">\n",
              "        \n",
              "  <svg xmlns=\"http://www.w3.org/2000/svg\" height=\"24px\"viewBox=\"0 0 24 24\"\n",
              "       width=\"24px\">\n",
              "    <path d=\"M0 0h24v24H0V0z\" fill=\"none\"/>\n",
              "    <path d=\"M18.56 5.44l.94 2.06.94-2.06 2.06-.94-2.06-.94-.94-2.06-.94 2.06-2.06.94zm-11 1L8.5 8.5l.94-2.06 2.06-.94-2.06-.94L8.5 2.5l-.94 2.06-2.06.94zm10 10l.94 2.06.94-2.06 2.06-.94-2.06-.94-.94-2.06-.94 2.06-2.06.94z\"/><path d=\"M17.41 7.96l-1.37-1.37c-.4-.4-.92-.59-1.43-.59-.52 0-1.04.2-1.43.59L10.3 9.45l-7.72 7.72c-.78.78-.78 2.05 0 2.83L4 21.41c.39.39.9.59 1.41.59.51 0 1.02-.2 1.41-.59l7.78-7.78 2.81-2.81c.8-.78.8-2.07 0-2.86zM5.41 20L4 18.59l7.72-7.72 1.47 1.35L5.41 20z\"/>\n",
              "  </svg>\n",
              "      </button>\n",
              "      \n",
              "  <style>\n",
              "    .colab-df-container {\n",
              "      display:flex;\n",
              "      flex-wrap:wrap;\n",
              "      gap: 12px;\n",
              "    }\n",
              "\n",
              "    .colab-df-convert {\n",
              "      background-color: #E8F0FE;\n",
              "      border: none;\n",
              "      border-radius: 50%;\n",
              "      cursor: pointer;\n",
              "      display: none;\n",
              "      fill: #1967D2;\n",
              "      height: 32px;\n",
              "      padding: 0 0 0 0;\n",
              "      width: 32px;\n",
              "    }\n",
              "\n",
              "    .colab-df-convert:hover {\n",
              "      background-color: #E2EBFA;\n",
              "      box-shadow: 0px 1px 2px rgba(60, 64, 67, 0.3), 0px 1px 3px 1px rgba(60, 64, 67, 0.15);\n",
              "      fill: #174EA6;\n",
              "    }\n",
              "\n",
              "    [theme=dark] .colab-df-convert {\n",
              "      background-color: #3B4455;\n",
              "      fill: #D2E3FC;\n",
              "    }\n",
              "\n",
              "    [theme=dark] .colab-df-convert:hover {\n",
              "      background-color: #434B5C;\n",
              "      box-shadow: 0px 1px 3px 1px rgba(0, 0, 0, 0.15);\n",
              "      filter: drop-shadow(0px 1px 2px rgba(0, 0, 0, 0.3));\n",
              "      fill: #FFFFFF;\n",
              "    }\n",
              "  </style>\n",
              "\n",
              "      <script>\n",
              "        const buttonEl =\n",
              "          document.querySelector('#df-5e28bcb5-297f-4bef-a829-7c3928069f58 button.colab-df-convert');\n",
              "        buttonEl.style.display =\n",
              "          google.colab.kernel.accessAllowed ? 'block' : 'none';\n",
              "\n",
              "        async function convertToInteractive(key) {\n",
              "          const element = document.querySelector('#df-5e28bcb5-297f-4bef-a829-7c3928069f58');\n",
              "          const dataTable =\n",
              "            await google.colab.kernel.invokeFunction('convertToInteractive',\n",
              "                                                     [key], {});\n",
              "          if (!dataTable) return;\n",
              "\n",
              "          const docLinkHtml = 'Like what you see? Visit the ' +\n",
              "            '<a target=\"_blank\" href=https://colab.research.google.com/notebooks/data_table.ipynb>data table notebook</a>'\n",
              "            + ' to learn more about interactive tables.';\n",
              "          element.innerHTML = '';\n",
              "          dataTable['output_type'] = 'display_data';\n",
              "          await google.colab.output.renderOutput(dataTable, element);\n",
              "          const docLink = document.createElement('div');\n",
              "          docLink.innerHTML = docLinkHtml;\n",
              "          element.appendChild(docLink);\n",
              "        }\n",
              "      </script>\n",
              "    </div>\n",
              "  </div>\n",
              "  "
            ]
          },
          "metadata": {},
          "execution_count": 16
        }
      ]
    },
    {
      "cell_type": "code",
      "source": [
        "data_dict = {}\n",
        "for idx in range(0, 1500):\n",
        "  # Select the desired row and get the top 10 values's column names\n",
        "  row_values = data_df.iloc[idx].nlargest(10).index.tolist()\n",
        "\n",
        "  # Create a dictionary and add the list with filename as the key\n",
        "  data_dict['Normal sample ' + str(idx)] = row_values"
      ],
      "metadata": {
        "id": "QIGzCfEdP75J"
      },
      "execution_count": 17,
      "outputs": []
    },
    {
      "cell_type": "code",
      "source": [
        "print(data_dict)"
      ],
      "metadata": {
        "colab": {
          "base_uri": "https://localhost:8080/"
        },
        "id": "PaG1SmFiS7U4",
        "outputId": "40562ffb-9a03-4211-9d52-4e626184babe"
      },
      "execution_count": 18,
      "outputs": [
        {
          "output_type": "stream",
          "name": "stdout",
          "text": [
            "{'Normal sample 0': ['ACK Flag Cnt', 'Bwd IAT Max', 'Bwd Pkt Len Max', 'Idle Max', 'Bwd IAT Tot', 'Bwd Header Len', 'Idle Std', 'Tot Fwd Pkts', 'Tot Bwd Pkts', 'TotLen Bwd Pkts'], 'Normal sample 1': ['Init Bwd Win Byts', 'Fwd IAT Max', 'Idle Min', 'Fwd IAT Tot', 'Idle Max', 'Fwd IAT Std', 'Idle Mean', 'Bwd Header Len', 'Fwd IAT Mean', 'Active Max'], 'Normal sample 2': ['Init Bwd Win Byts', 'Pkt Len Var', 'Fwd Pkt Len Std', 'Subflow Bwd Byts', 'Tot Bwd Pkts', 'Idle Mean', 'Fwd IAT Std', 'Active Mean', 'Flow IAT Min', 'Bwd Pkt Len Max'], 'Normal sample 3': ['Init Bwd Win Byts', 'Fwd Act Data Pkts', 'Flow IAT Mean', 'Fwd Pkt Len Max', 'Idle Max', 'Bwd IAT Min', 'Bwd Header Len', 'Active Min', 'Bwd IAT Mean', 'Subflow Bwd Byts'], 'Normal sample 4': ['SYN Flag Cnt', 'Idle Min', 'Tot Fwd Pkts', 'ACK Flag Cnt', 'Fwd IAT Tot', 'TotLen Fwd Pkts', 'Fwd IAT Mean', 'Bwd IAT Min', 'Bwd IAT Mean', 'Flow Byts/s'], 'Normal sample 5': ['Init Bwd Win Byts', 'Fwd IAT Max', 'Idle Mean', 'Fwd Header Len', 'Bwd Pkt Len Std', 'Idle Max', 'Bwd Header Len', 'TotLen Bwd Pkts', 'Subflow Fwd Byts', 'Bwd Pkt Len Max'], 'Normal sample 6': ['Init Bwd Win Byts', 'Idle Mean', 'Bwd IAT Mean', 'TotLen Bwd Pkts', 'Fwd Header Len', 'Bwd Pkt Len Max', 'Flow IAT Min', 'Idle Max', 'Fwd Pkt Len Std', 'Tot Fwd Pkts'], 'Normal sample 7': ['Down/Up Ratio', 'Pkt Len Min', 'Pkt Len Mean', 'Flow Pkts/s', 'Subflow Fwd Byts', 'Pkt Len Std', 'Fwd Header Len', 'Fwd IAT Max', 'Pkt Size Avg', 'Pkt Len Max'], 'Normal sample 8': ['Init Bwd Win Byts', 'Fwd IAT Mean', 'Idle Std', 'Bwd Pkt Len Max', 'Subflow Bwd Pkts', 'Bwd Header Len', 'Flow Duration', 'Idle Mean', 'Active Max', 'Tot Bwd Pkts'], 'Normal sample 9': ['Down/Up Ratio', 'Flow Pkts/s', 'Pkt Len Mean', 'Pkt Len Std', 'Pkt Len Min', 'Pkt Size Avg', 'Pkt Len Max', 'Fwd IAT Tot', 'Fwd Pkt Len Std', 'Fwd Pkt Len Mean'], 'Normal sample 10': ['Init Bwd Win Byts', 'Subflow Bwd Pkts', 'Bwd IAT Min', 'Bwd Seg Size Avg', 'Fwd Pkt Len Max', 'Fwd Act Data Pkts', 'Fwd Pkt Len Std', 'Subflow Fwd Pkts', 'Idle Max', 'Fwd IAT Std'], 'Normal sample 11': ['Init Bwd Win Byts', 'Subflow Bwd Pkts', 'Flow IAT Min', 'Bwd Seg Size Avg', 'Fwd IAT Mean', 'Idle Max', 'Flow Byts/s', 'Bwd Pkt Len Mean', 'Idle Min', 'Tot Bwd Pkts'], 'Normal sample 12': ['SYN Flag Cnt', 'Bwd IAT Max', 'Idle Std', 'Idle Max', 'Bwd Seg Size Avg', 'TotLen Fwd Pkts', 'Idle Min', 'Bwd IAT Tot', 'Fwd IAT Mean', 'Fwd Pkt Len Mean'], 'Normal sample 13': ['ACK Flag Cnt', 'Flow IAT Max', 'Flow IAT Mean', 'Fwd IAT Min', 'Down/Up Ratio', 'TotLen Bwd Pkts', 'TotLen Fwd Pkts', 'Bwd Seg Size Avg', 'Idle Max', 'Bwd IAT Std'], 'Normal sample 14': ['Bwd IAT Tot', 'Bwd PSH Flags', 'Active Max', 'ACK Flag Cnt', 'Bwd IAT Std', 'Idle Max', 'Bwd IAT Max', 'Bwd Seg Size Avg', 'Idle Mean', 'Active Mean'], 'Normal sample 15': ['Down/Up Ratio', 'Pkt Len Max', 'Flow Pkts/s', 'Fwd Pkt Len Max', 'Pkt Size Avg', 'Pkt Len Min', 'Fwd IAT Max', 'Pkt Len Std', 'Active Std', 'Pkt Len Mean'], 'Normal sample 16': ['Init Bwd Win Byts', 'Fwd Pkt Len Max', 'Fwd IAT Mean', 'Bwd Pkt Len Mean', 'Flow IAT Mean', 'Idle Max', 'Bwd Seg Size Avg', 'Active Min', 'Flow IAT Min', 'Idle Min'], 'Normal sample 17': ['Init Bwd Win Byts', 'Subflow Bwd Byts', 'Active Mean', 'Idle Std', 'Idle Max', 'Tot Bwd Pkts', 'Bwd IAT Min', 'Bwd Pkt Len Max', 'Fwd Act Data Pkts', 'Idle Mean'], 'Normal sample 18': ['Init Bwd Win Byts', 'Idle Min', 'Idle Max', 'Fwd IAT Mean', 'Idle Mean', 'Fwd IAT Tot', 'Fwd IAT Std', 'Fwd IAT Min', 'Subflow Bwd Pkts', 'Active Min'], 'Normal sample 19': ['Bwd IAT Max', 'Bwd IAT Tot', 'ACK Flag Cnt', 'Idle Max', 'Active Max', 'Flow IAT Max', 'Active Mean', 'Idle Mean', 'Flow IAT Mean', 'Idle Std'], 'Normal sample 20': ['Init Bwd Win Byts', 'Subflow Fwd Byts', 'Flow IAT Min', 'Fwd IAT Tot', 'Idle Max', 'Bwd Pkt Len Std', 'Subflow Fwd Pkts', 'Fwd IAT Std', 'Pkt Len Var', 'Flow Duration'], 'Normal sample 21': ['Init Bwd Win Byts', 'Idle Mean', 'Idle Max', 'Idle Min', 'Flow IAT Mean', 'Bwd IAT Mean', 'Pkt Len Var', 'Fwd Pkt Len Std', 'Bwd Pkt Len Max', 'Fwd IAT Tot'], 'Normal sample 22': ['Bwd PSH Flags', 'FIN Flag Cnt', 'Down/Up Ratio', 'Fwd Pkt Len Std', 'Fwd IAT Mean', 'Bwd Pkt Len Min', 'Flow Pkts/s', 'Bwd Pkt Len Max', 'Fwd IAT Min', 'Bwd Pkt Len Mean'], 'Normal sample 23': ['Init Bwd Win Byts', 'Idle Max', 'Active Mean', 'Idle Mean', 'Tot Fwd Pkts', 'Bwd IAT Tot', 'Active Std', 'Subflow Bwd Pkts', 'Fwd Header Len', 'Flow Duration'], 'Normal sample 24': ['Flow Pkts/s', 'Down/Up Ratio', 'Pkt Size Avg', 'Pkt Len Min', 'Pkt Len Mean', 'Bwd IAT Min', 'Fwd Pkt Len Min', 'FIN Flag Cnt', 'Pkt Len Std', 'Fwd IAT Std'], 'Normal sample 25': ['Init Bwd Win Byts', 'Flow Duration', 'Idle Max', 'Bwd IAT Min', 'Tot Fwd Pkts', 'Bwd Seg Size Avg', 'Bwd Pkt Len Mean', 'TotLen Bwd Pkts', 'Subflow Fwd Byts', 'Bwd IAT Mean'], 'Normal sample 26': ['Init Bwd Win Byts', 'Fwd IAT Tot', 'Tot Fwd Pkts', 'Tot Bwd Pkts', 'Fwd Pkt Len Min', 'Bwd Pkt Len Mean', 'Bwd Pkt Len Std', 'Flow IAT Mean', 'Flow IAT Std', 'Flow IAT Min'], 'Normal sample 27': ['Init Bwd Win Byts', 'Fwd Header Len', 'Tot Fwd Pkts', 'Tot Bwd Pkts', 'TotLen Bwd Pkts', 'Fwd Pkt Len Min', 'Bwd Pkt Len Max', 'Bwd Pkt Len Mean', 'Flow Pkts/s', 'Flow IAT Mean'], 'Normal sample 28': ['Flow Duration', 'Tot Fwd Pkts', 'TotLen Fwd Pkts', 'TotLen Bwd Pkts', 'Fwd Pkt Len Min', 'Bwd Pkt Len Max', 'Bwd Pkt Len Min', 'Bwd Pkt Len Std', 'Flow IAT Mean', 'Flow IAT Std'], 'Normal sample 29': ['Bwd PSH Flags', 'Fwd IAT Tot', 'Bwd Seg Size Avg', 'Pkt Len Var', 'Subflow Bwd Byts', 'Tot Fwd Pkts', 'Bwd IAT Mean', 'Bwd Pkt Len Std', 'Flow Duration', 'Active Std'], 'Normal sample 30': ['Init Bwd Win Byts', 'Idle Min', 'Bwd Pkt Len Mean', 'Idle Mean', 'Active Min', 'Tot Fwd Pkts', 'Active Std', 'Pkt Len Var', 'Subflow Bwd Pkts', 'Fwd IAT Min'], 'Normal sample 31': ['Bwd PSH Flags', 'Idle Mean', 'Bwd IAT Max', 'ACK Flag Cnt', 'Bwd IAT Std', 'Bwd IAT Min', 'Pkt Len Max', 'Idle Max', 'Idle Min', 'Fwd Seg Size Avg'], 'Normal sample 32': ['Init Bwd Win Byts', 'Subflow Fwd Byts', 'Idle Min', 'Fwd IAT Std', 'Fwd IAT Max', 'Flow Duration', 'Idle Max', 'Bwd Pkt Len Std', 'Fwd IAT Tot', 'Subflow Fwd Pkts'], 'Normal sample 33': ['SYN Flag Cnt', 'Bwd Pkt Len Max', 'Bwd PSH Flags', 'Bwd IAT Min', 'Fwd Pkts/s', 'Tot Bwd Pkts', 'TotLen Fwd Pkts', 'TotLen Bwd Pkts', 'Fwd Pkt Len Min', 'Fwd Pkt Len Mean'], 'Normal sample 34': ['Flow Pkts/s', 'Down/Up Ratio', 'FIN Flag Cnt', 'Bwd Pkt Len Std', 'Pkt Len Var', 'Bwd IAT Mean', 'Fwd IAT Tot', 'Bwd Pkt Len Min', 'Pkt Size Avg', 'Pkt Len Mean'], 'Normal sample 35': ['SYN Flag Cnt', 'Bwd IAT Max', 'Bwd IAT Std', 'Bwd Pkt Len Max', 'Idle Std', 'Bwd Pkt Len Mean', 'Pkt Len Min', 'PSH Flag Cnt', 'Bwd Pkt Len Std', 'Bwd Seg Size Avg'], 'Normal sample 36': ['SYN Flag Cnt', 'Bwd Pkt Len Max', 'Bwd IAT Max', 'Bwd Header Len', 'Tot Fwd Pkts', 'Tot Bwd Pkts', 'TotLen Fwd Pkts', 'TotLen Bwd Pkts', 'Fwd Pkt Len Min', 'Fwd Pkt Len Mean'], 'Normal sample 37': ['Init Bwd Win Byts', 'Bwd Header Len', 'Active Max', 'Idle Min', 'Subflow Bwd Byts', 'Fwd IAT Tot', 'TotLen Fwd Pkts', 'Bwd IAT Min', 'Idle Mean', 'Idle Std'], 'Normal sample 38': ['Init Bwd Win Byts', 'TotLen Fwd Pkts', 'Idle Mean', 'Bwd IAT Mean', 'Fwd Pkts/s', 'Fwd IAT Max', 'Active Min', 'Tot Fwd Pkts', 'Idle Max', 'Flow IAT Std'], 'Normal sample 39': ['PSH Flag Cnt', 'Init Bwd Win Byts', 'Bwd PSH Flags', 'Fwd IAT Tot', 'Flow IAT Min', 'Pkt Len Min', 'Fwd Pkt Len Max', 'Fwd IAT Std', 'Flow Duration', 'Flow Pkts/s'], 'Normal sample 40': ['Init Bwd Win Byts', 'Subflow Fwd Byts', 'Flow IAT Mean', 'Idle Std', 'Bwd Pkt Len Mean', 'Subflow Bwd Pkts', 'Fwd Act Data Pkts', 'Idle Min', 'Idle Max', 'Flow Pkts/s'], 'Normal sample 41': ['ACK Flag Cnt', 'Init Bwd Win Byts', 'Flow IAT Std', 'Tot Fwd Pkts', 'TotLen Bwd Pkts', 'Fwd Pkt Len Min', 'Bwd Pkt Len Max', 'Bwd Pkt Len Min', 'Bwd Pkt Len Mean', 'Flow Pkts/s'], 'Normal sample 42': ['Down/Up Ratio', 'Fwd Pkt Len Max', 'Pkt Size Avg', 'Flow Pkts/s', 'Pkt Len Mean', 'Fwd Seg Size Avg', 'Pkt Len Min', 'Pkt Len Max', 'Pkt Len Std', 'Fwd IAT Max'], 'Normal sample 43': ['SYN Flag Cnt', 'Bwd IAT Max', 'Bwd IAT Std', 'Bwd Pkt Len Max', 'Bwd Pkt Len Min', 'Pkt Len Var', 'Active Max', 'TotLen Fwd Pkts', 'Bwd Pkt Len Mean', 'Tot Bwd Pkts'], 'Normal sample 44': ['Init Bwd Win Byts', 'Pkt Len Var', 'Active Std', 'Bwd Pkt Len Mean', 'Idle Min', 'Bwd Header Len', 'Fwd Act Data Pkts', 'Fwd IAT Max', 'Fwd Pkts/s', 'Bwd IAT Max'], 'Normal sample 45': ['Init Bwd Win Byts', 'Fwd IAT Max', 'Bwd Header Len', 'Fwd IAT Std', 'TotLen Fwd Pkts', 'Idle Mean', 'Active Std', 'Flow IAT Std', 'Bwd Pkt Len Std', 'Bwd Seg Size Avg'], 'Normal sample 46': ['Down/Up Ratio', 'Pkt Size Avg', 'Pkt Len Min', 'Fwd Pkt Len Std', 'Fwd IAT Tot', 'Pkt Len Mean', 'Pkt Len Std', 'Fwd Pkt Len Max', 'Fwd Seg Size Avg', 'Pkt Len Max'], 'Normal sample 47': ['Down/Up Ratio', 'Flow Pkts/s', 'Pkt Len Min', 'Pkt Size Avg', 'Pkt Len Mean', 'Fwd Pkt Len Std', 'Fwd Seg Size Avg', 'Pkt Len Max', 'Subflow Fwd Byts', 'Pkt Len Std'], 'Normal sample 48': ['Init Bwd Win Byts', 'Bwd Pkt Len Std', 'Active Std', 'Fwd Pkts/s', 'Idle Std', 'Fwd Pkt Len Std', 'Flow Byts/s', 'Flow Duration', 'Fwd Act Data Pkts', 'Idle Max'], 'Normal sample 49': ['Init Bwd Win Byts', 'Fwd Pkt Len Min', 'Tot Fwd Pkts', 'PSH Flag Cnt', 'TotLen Fwd Pkts', 'Fwd IAT Std', 'Fwd Pkt Len Std', 'Idle Min', 'Subflow Bwd Pkts', 'Fwd IAT Max'], 'Normal sample 50': ['Init Bwd Win Byts', 'Idle Mean', 'Bwd Seg Size Avg', 'Fwd IAT Max', 'Subflow Bwd Byts', 'Idle Max', 'Tot Fwd Pkts', 'Active Std', 'Fwd IAT Std', 'Fwd Pkt Len Std'], 'Normal sample 51': ['Init Bwd Win Byts', 'Bwd IAT Tot', 'Bwd Pkt Len Mean', 'Bwd Seg Size Avg', 'Subflow Bwd Pkts', 'Flow Duration', 'Tot Bwd Pkts', 'TotLen Fwd Pkts', 'TotLen Bwd Pkts', 'Fwd Pkt Len Min'], 'Normal sample 52': ['Init Bwd Win Byts', 'Flow IAT Min', 'Subflow Bwd Pkts', 'Flow IAT Std', 'Fwd IAT Max', 'Bwd IAT Mean', 'Idle Max', 'Fwd IAT Tot', 'Fwd Pkt Len Std', 'Fwd IAT Mean'], 'Normal sample 53': ['SYN Flag Cnt', 'Bwd IAT Max', 'Bwd Pkt Len Max', 'Fwd IAT Min', 'Fwd Pkts/s', 'Subflow Bwd Pkts', 'Pkt Len Var', 'Fwd IAT Mean', 'Flow IAT Max', 'Idle Min'], 'Normal sample 54': ['Init Bwd Win Byts', 'Idle Mean', 'Fwd IAT Std', 'Subflow Bwd Pkts', 'Bwd IAT Tot', 'Bwd IAT Min', 'Bwd IAT Max', 'Fwd IAT Mean', 'Flow IAT Min', 'Fwd IAT Tot'], 'Normal sample 55': ['SYN Flag Cnt', 'Subflow Fwd Pkts', 'Idle Min', 'Bwd Pkt Len Mean', 'Fwd Header Len', 'Active Std', 'Pkt Len Mean', 'Tot Fwd Pkts', 'TotLen Bwd Pkts', 'Fwd Pkt Len Min'], 'Normal sample 56': ['Init Bwd Win Byts', 'Flow Duration', 'TotLen Fwd Pkts', 'TotLen Bwd Pkts', 'Fwd Pkt Len Min', 'Bwd Pkt Len Max', 'Flow Pkts/s', 'Flow IAT Std', 'Fwd IAT Tot', 'Fwd IAT Mean'], 'Normal sample 57': ['Flow Pkts/s', 'Pkt Len Mean', 'Pkt Len Std', 'Fwd IAT Tot', 'Fwd Pkt Len Std', 'Bwd IAT Mean', 'Pkt Len Max', 'Pkt Len Min', 'Pkt Size Avg', 'Fwd Pkt Len Mean'], 'Normal sample 58': ['Init Bwd Win Byts', 'Bwd Pkt Len Max', 'Fwd IAT Min', 'Fwd Header Len', 'Subflow Bwd Pkts', 'Bwd Seg Size Avg', 'Subflow Fwd Byts', 'Bwd Header Len', 'Bwd IAT Mean', 'Fwd IAT Mean'], 'Normal sample 59': ['Flow Pkts/s', 'Down/Up Ratio', 'FIN Flag Cnt', 'Fwd IAT Mean', 'Pkt Len Max', 'Pkt Len Min', 'Fwd Seg Size Avg', 'Fwd Pkt Len Max', 'Bwd IAT Min', 'Tot Fwd Pkts'], 'Normal sample 60': ['Init Bwd Win Byts', 'Tot Fwd Pkts', 'Idle Max', 'Bwd Header Len', 'Fwd IAT Min', 'Bwd Seg Size Avg', 'Subflow Fwd Pkts', 'Subflow Bwd Byts', 'Idle Min', 'Flow IAT Std'], 'Normal sample 61': ['Init Bwd Win Byts', 'Subflow Bwd Pkts', 'Fwd Header Len', 'Pkt Len Var', 'Bwd Header Len', 'Fwd IAT Tot', 'TotLen Bwd Pkts', 'Fwd IAT Std', 'Bwd Seg Size Avg', 'Bwd Pkt Len Std'], 'Normal sample 62': ['SYN Flag Cnt', 'Bwd Pkt Len Mean', 'Idle Min', 'Idle Mean', 'Bwd Pkt Len Std', 'Subflow Bwd Pkts', 'Flow Byts/s', 'Tot Bwd Pkts', 'Subflow Fwd Pkts', 'Flow IAT Mean'], 'Normal sample 63': ['SYN Flag Cnt', 'Bwd Pkt Len Max', 'Bwd Pkt Len Std', 'Bwd Pkt Len Mean', 'Bwd Seg Size Avg', 'Bwd IAT Std', 'Fwd IAT Mean', 'Pkt Len Min', 'ACK Flag Cnt', 'Bwd IAT Max'], 'Normal sample 64': ['Init Bwd Win Byts', 'TotLen Bwd Pkts', 'Fwd IAT Tot', 'Idle Max', 'Bwd IAT Min', 'Fwd IAT Max', 'Idle Min', 'Flow IAT Std', 'Pkt Len Var', 'Bwd Header Len'], 'Normal sample 65': ['Init Bwd Win Byts', 'Fwd Header Len', 'Bwd Seg Size Avg', 'Bwd Pkt Len Std', 'Bwd IAT Max', 'Idle Max', 'Flow Duration', 'Tot Fwd Pkts', 'Bwd Pkt Len Max', 'Idle Min'], 'Normal sample 66': ['Bwd PSH Flags', 'Active Max', 'Fwd Seg Size Avg', 'Bwd IAT Mean', 'Fwd Pkts/s', 'Bwd Pkt Len Max', 'TotLen Fwd Pkts', 'Fwd IAT Tot', 'Bwd IAT Min', 'Flow Duration'], 'Normal sample 67': ['Bwd PSH Flags', 'Bwd Pkt Len Mean', 'Flow IAT Min', 'Fwd IAT Tot', 'Bwd Pkt Len Min', 'Pkt Len Min', 'Flow IAT Mean', 'Fwd Pkt Len Mean', 'Idle Max', 'Flow Duration'], 'Normal sample 68': ['Init Bwd Win Byts', 'Idle Mean', 'Fwd IAT Min', 'Bwd Pkt Len Max', 'Fwd IAT Mean', 'Bwd Pkt Len Mean', 'Idle Min', 'Pkt Len Var', 'Bwd Seg Size Avg', 'Bwd Header Len'], 'Normal sample 69': ['Init Bwd Win Byts', 'Idle Max', 'Fwd Pkt Len Min', 'Fwd Pkt Len Std', 'Idle Mean', 'Bwd Seg Size Avg', 'Fwd IAT Max', 'Subflow Fwd Pkts', 'Idle Min', 'Bwd IAT Max'], 'Normal sample 70': ['Init Bwd Win Byts', 'Tot Fwd Pkts', 'Fwd IAT Max', 'Subflow Fwd Pkts', 'Bwd Pkt Len Max', 'Fwd Pkts/s', 'Pkt Len Var', 'Fwd IAT Std', 'Bwd Seg Size Avg', 'Bwd Pkt Len Std'], 'Normal sample 71': ['Init Bwd Win Byts', 'Fwd Pkt Len Std', 'Fwd IAT Mean', 'Idle Max', 'Subflow Bwd Byts', 'Active Min', 'Tot Bwd Pkts', 'Bwd Pkt Len Mean', 'Subflow Fwd Pkts', 'Fwd Act Data Pkts'], 'Normal sample 72': ['Init Bwd Win Byts', 'Fwd IAT Tot', 'Fwd IAT Min', 'Idle Mean', 'Idle Max', 'Active Max', 'Subflow Fwd Pkts', 'Bwd IAT Max', 'Fwd IAT Mean', 'TotLen Bwd Pkts'], 'Normal sample 73': ['ACK Flag Cnt', 'Bwd IAT Std', 'Bwd IAT Max', 'Bwd IAT Tot', 'Flow IAT Mean', 'Idle Max', 'Subflow Fwd Pkts', 'Bwd Pkt Len Max', 'Tot Bwd Pkts', 'Bwd PSH Flags'], 'Normal sample 74': ['Init Bwd Win Byts', 'Idle Mean', 'Active Max', 'Bwd IAT Tot', 'TotLen Bwd Pkts', 'Subflow Bwd Byts', 'Fwd Pkt Len Std', 'Idle Std', 'Bwd Pkt Len Max', 'Idle Max'], 'Normal sample 75': ['Idle Min', 'Subflow Fwd Pkts', 'Fwd IAT Max', 'Init Bwd Win Byts', 'Tot Bwd Pkts', 'Flow IAT Min', 'Flow Duration', 'Active Mean', 'Fwd IAT Tot', 'Bwd Header Len'], 'Normal sample 76': ['Init Bwd Win Byts', 'Idle Min', 'Bwd Pkt Len Max', 'Fwd IAT Max', 'Idle Mean', 'Flow IAT Min', 'Bwd Seg Size Avg', 'Fwd Pkt Len Max', 'Fwd IAT Std', 'Idle Max'], 'Normal sample 77': ['Bwd Pkts/s', 'FIN Flag Cnt', 'Pkt Len Min', 'Fwd Seg Size Avg', 'Pkt Len Std', 'Idle Max', 'Bwd Seg Size Avg', 'Flow IAT Max', 'Bwd Pkt Len Min', 'Pkt Len Max'], 'Normal sample 78': ['ACK Flag Cnt', 'Bwd PSH Flags', 'Bwd IAT Max', 'Bwd IAT Std', 'Active Min', 'Flow IAT Max', 'Idle Max', 'Bwd Pkt Len Min', 'Bwd Seg Size Avg', 'Fwd IAT Min'], 'Normal sample 79': ['Init Bwd Win Byts', 'Fwd Pkts/s', 'Bwd Seg Size Avg', 'Subflow Fwd Byts', 'Flow Duration', 'TotLen Fwd Pkts', 'TotLen Bwd Pkts', 'Fwd Pkt Len Std', 'Bwd Pkt Len Max', 'Bwd Pkt Len Mean'], 'Normal sample 80': ['Flow Pkts/s', 'Pkt Size Avg', 'Pkt Len Max', 'Pkt Len Std', 'Pkt Len Min', 'Pkt Len Mean', 'Fwd Seg Size Avg', 'Fwd Pkt Len Max', 'PSH Flag Cnt', 'Fwd Pkt Len Std'], 'Normal sample 81': ['SYN Flag Cnt', 'Bwd IAT Max', 'Bwd Pkt Len Max', 'Bwd Pkt Len Std', 'Bwd IAT Std', 'Bwd IAT Tot', 'Bwd Pkt Len Mean', 'Fwd Header Len', 'Idle Std', 'PSH Flag Cnt'], 'Normal sample 82': ['Init Bwd Win Byts', 'Bwd IAT Min', 'TotLen Bwd Pkts', 'Bwd Pkt Len Max', 'Fwd Pkt Len Max', 'Fwd IAT Max', 'Subflow Bwd Pkts', 'Fwd IAT Tot', 'Subflow Fwd Byts', 'Active Std'], 'Normal sample 83': ['Pkt Len Max', 'Flow Pkts/s', 'Pkt Size Avg', 'Pkt Len Std', 'Pkt Len Min', 'Bwd Pkt Len Min', 'Pkt Len Mean', 'Fwd Pkt Len Max', 'PSH Flag Cnt', 'Flow IAT Min'], 'Normal sample 84': ['RST Flag Cnt', 'Idle Min', 'Flow Pkts/s', 'Flow Duration', 'Pkt Size Avg', 'Fwd Pkt Len Mean', 'Flow Byts/s', 'Bwd IAT Std', 'Pkt Len Min', 'Idle Max'], 'Normal sample 85': ['Down/Up Ratio', 'Flow Pkts/s', 'Pkt Len Min', 'Fwd Header Len', 'Pkt Len Std', 'Fwd Pkt Len Std', 'Fwd Pkt Len Max', 'TotLen Fwd Pkts', 'TotLen Bwd Pkts', 'Pkt Size Avg'], 'Normal sample 86': ['Init Bwd Win Byts', 'Bwd Seg Size Avg', 'Active Min', 'Idle Min', 'Active Std', 'Bwd Pkt Len Max', 'Tot Bwd Pkts', 'Flow Byts/s', 'Bwd Pkt Len Mean', 'Tot Fwd Pkts'], 'Normal sample 87': ['SYN Flag Cnt', 'Bwd IAT Max', 'Bwd Pkt Len Max', 'Bwd IAT Std', 'Bwd Pkt Len Std', 'Bwd Seg Size Avg', 'Active Min', 'Fwd Header Len', 'TotLen Bwd Pkts', 'Flow Byts/s'], 'Normal sample 88': ['Flow Pkts/s', 'Down/Up Ratio', 'Pkt Len Min', 'FIN Flag Cnt', 'Fwd Act Data Pkts', 'Flow IAT Max', 'Bwd PSH Flags', 'Fwd Pkts/s', 'Pkt Len Max', 'Bwd Pkt Len Std'], 'Normal sample 89': ['SYN Flag Cnt', 'Bwd IAT Max', 'Bwd IAT Tot', 'Active Min', 'Tot Bwd Pkts', 'Bwd IAT Std', 'Idle Max', 'Fwd IAT Min', 'Fwd Seg Size Avg', 'Active Mean'], 'Normal sample 90': ['Down/Up Ratio', 'Pkt Len Min', 'Flow Pkts/s', 'Pkt Len Mean', 'Pkt Len Std', 'Fwd Pkt Len Std', 'Pkt Len Max', 'Pkt Size Avg', 'Fwd IAT Std', 'Fwd Pkt Len Max'], 'Normal sample 91': ['SYN Flag Cnt', 'Fwd Seg Size Avg', 'Bwd Pkt Len Max', 'Bwd PSH Flags', 'Flow Duration', 'Tot Fwd Pkts', 'Tot Bwd Pkts', 'TotLen Fwd Pkts', 'TotLen Bwd Pkts', 'Fwd Pkt Len Min'], 'Normal sample 92': ['Flow Pkts/s', 'Down/Up Ratio', 'FIN Flag Cnt', 'Pkt Len Min', 'Fwd IAT Max', 'Active Mean', 'Flow IAT Min', 'Bwd IAT Tot', 'TotLen Fwd Pkts', 'Pkt Len Max'], 'Normal sample 93': ['ACK Flag Cnt', 'Bwd IAT Std', 'Bwd IAT Tot', 'Flow IAT Mean', 'Bwd IAT Max', 'Bwd IAT Mean', 'Bwd Header Len', 'Bwd PSH Flags', 'Subflow Bwd Byts', 'Fwd Pkt Len Min'], 'Normal sample 94': ['SYN Flag Cnt', 'Bwd IAT Max', 'Active Max', 'Bwd IAT Std', 'PSH Flag Cnt', 'Idle Max', 'Active Mean', 'Bwd Pkt Len Max', 'Idle Min', 'Pkt Len Min'], 'Normal sample 95': ['Init Bwd Win Byts', 'Fwd Pkts/s', 'Idle Min', 'Bwd Pkt Len Mean', 'Idle Mean', 'Active Min', 'Bwd Header Len', 'Flow Duration', 'Tot Fwd Pkts', 'TotLen Fwd Pkts'], 'Normal sample 96': ['Bwd Pkt Len Max', 'SYN Flag Cnt', 'FIN Flag Cnt', 'Bwd IAT Max', 'Active Min', 'Bwd IAT Std', 'Bwd Header Len', 'Idle Mean', 'Flow IAT Std', 'Subflow Bwd Byts'], 'Normal sample 97': ['Init Bwd Win Byts', 'Fwd IAT Max', 'Bwd Seg Size Avg', 'Idle Max', 'Fwd IAT Std', 'Idle Min', 'Pkt Len Var', 'Subflow Bwd Pkts', 'Flow Pkts/s', 'Fwd IAT Min'], 'Normal sample 98': ['SYN Flag Cnt', 'Bwd IAT Max', 'Bwd IAT Tot', 'Flow IAT Mean', 'Bwd IAT Std', 'Tot Fwd Pkts', 'Pkt Len Min', 'Idle Max', 'Flow IAT Min', 'Bwd Pkt Len Min'], 'Normal sample 99': ['Init Bwd Win Byts', 'TotLen Fwd Pkts', 'Bwd Pkt Len Mean', 'Active Std', 'Subflow Fwd Pkts', 'Tot Fwd Pkts', 'Fwd IAT Tot', 'Fwd IAT Max', 'Fwd Act Data Pkts', 'Fwd IAT Mean'], 'Normal sample 100': ['Init Bwd Win Byts', 'Fwd Act Data Pkts', 'Bwd Pkt Len Max', 'Subflow Bwd Pkts', 'Active Std', 'Active Max', 'Flow Duration', 'Tot Fwd Pkts', 'Tot Bwd Pkts', 'TotLen Fwd Pkts'], 'Normal sample 101': ['Init Bwd Win Byts', 'Bwd Seg Size Avg', 'Down/Up Ratio', 'Active Mean', 'Active Max', 'Bwd Pkt Len Max', 'Pkt Len Std', 'Idle Max', 'Idle Std', 'Flow IAT Min'], 'Normal sample 102': ['Idle Mean', 'Flow IAT Std', 'Fwd IAT Max', 'Init Bwd Win Byts', 'Flow IAT Mean', 'Bwd Seg Size Avg', 'Flow IAT Max', 'Active Min', 'Bwd Pkt Len Mean', 'Fwd Act Data Pkts'], 'Normal sample 103': ['Init Bwd Win Byts', 'Tot Bwd Pkts', 'Fwd Pkts/s', 'TotLen Fwd Pkts', 'Fwd IAT Max', 'Flow IAT Max', 'Subflow Bwd Byts', 'Active Max', 'Subflow Bwd Pkts', 'Bwd IAT Tot'], 'Normal sample 104': ['Init Bwd Win Byts', 'Idle Max', 'Idle Min', 'Bwd Pkt Len Std', 'Fwd Pkt Len Std', 'Idle Std', 'Fwd Header Len', 'Subflow Bwd Pkts', 'Fwd Pkts/s', 'Active Std'], 'Normal sample 105': ['SYN Flag Cnt', 'Bwd Pkt Len Max', 'Bwd IAT Max', 'Bwd IAT Std', 'Bwd Pkt Len Std', 'Idle Max', 'Subflow Bwd Pkts', 'Bwd Header Len', 'Fwd Act Data Pkts', 'Active Max'], 'Normal sample 106': ['Init Bwd Win Byts', 'Idle Mean', 'Bwd IAT Max', 'Bwd Seg Size Avg', 'Fwd Pkt Len Max', 'Active Mean', 'Fwd IAT Std', 'Bwd IAT Min', 'Subflow Fwd Pkts', 'Idle Max'], 'Normal sample 107': ['Down/Up Ratio', 'Pkt Len Min', 'Pkt Len Max', 'Flow Pkts/s', 'Pkt Len Std', 'Fwd Pkt Len Std', 'Pkt Len Mean', 'Fwd IAT Max', 'Fwd IAT Tot', 'Fwd Seg Size Avg'], 'Normal sample 108': ['SYN Flag Cnt', 'Tot Bwd Pkts', 'Flow Byts/s', 'Bwd Pkt Len Max', 'Active Min', 'Idle Min', 'Fwd Pkts/s', 'Subflow Fwd Pkts', 'Bwd IAT Max', 'Bwd IAT Std'], 'Normal sample 109': ['SYN Flag Cnt', 'Bwd IAT Max', 'Bwd IAT Tot', 'Bwd IAT Std', 'Fwd Header Len', 'Bwd Seg Size Avg', 'Subflow Bwd Pkts', 'Active Min', 'Pkt Size Avg', 'Active Mean'], 'Normal sample 110': ['Init Bwd Win Byts', 'Fwd Pkt Len Std', 'Fwd Header Len', 'Pkt Len Var', 'Idle Min', 'Idle Max', 'TotLen Fwd Pkts', 'Fwd IAT Mean', 'Bwd Pkt Len Max', 'Flow Byts/s'], 'Normal sample 111': ['Init Bwd Win Byts', 'Idle Mean', 'Fwd IAT Max', 'Bwd Pkt Len Std', 'Bwd IAT Tot', 'Bwd Pkt Len Mean', 'Idle Max', 'Flow Duration', 'Fwd IAT Std', 'Fwd Pkts/s'], 'Normal sample 112': ['Down/Up Ratio', 'Pkt Len Min', 'Fwd Pkt Len Max', 'Fwd Pkt Len Std', 'Pkt Size Avg', 'Flow Pkts/s', 'Pkt Len Max', 'Pkt Len Mean', 'Pkt Len Std', 'Fwd Pkt Len Mean'], 'Normal sample 113': ['SYN Flag Cnt', 'Tot Bwd Pkts', 'Bwd Pkt Len Max', 'Pkt Len Min', 'Fwd Pkt Len Mean', 'Tot Fwd Pkts', 'TotLen Fwd Pkts', 'TotLen Bwd Pkts', 'Fwd Pkt Len Min', 'Bwd Pkt Len Min'], 'Normal sample 114': ['SYN Flag Cnt', 'Bwd IAT Max', 'Bwd IAT Std', 'Bwd PSH Flags', 'Idle Max', 'Flow IAT Min', 'Fwd Pkt Len Min', 'Fwd Header Len', 'Tot Bwd Pkts', 'PSH Flag Cnt'], 'Normal sample 115': ['Init Bwd Win Byts', 'Down/Up Ratio', 'Bwd Seg Size Avg', 'Fwd IAT Max', 'Idle Mean', 'Idle Std', 'Bwd Pkt Len Std', 'Bwd Pkt Len Max', 'Fwd Header Len', 'Flow IAT Max'], 'Normal sample 116': ['Init Bwd Win Byts', 'Idle Min', 'Bwd Pkt Len Mean', 'Bwd Pkt Len Max', 'Idle Max', 'Fwd Pkt Len Min', 'Fwd IAT Max', 'Subflow Fwd Byts', 'Fwd IAT Min', 'Bwd IAT Min'], 'Normal sample 117': ['Init Bwd Win Byts', 'Subflow Fwd Pkts', 'Idle Max', 'TotLen Bwd Pkts', 'Fwd Header Len', 'Idle Mean', 'Bwd Pkt Len Max', 'Bwd Seg Size Avg', 'Subflow Fwd Byts', 'Active Std'], 'Normal sample 118': ['SYN Flag Cnt', 'Bwd IAT Max', 'Bwd IAT Std', 'Active Max', 'Bwd Pkt Len Max', 'Idle Std', 'Bwd Pkt Len Std', 'Active Mean', 'Flow Byts/s', 'Tot Fwd Pkts'], 'Normal sample 119': ['Bwd Pkts/s', 'FIN Flag Cnt', 'Pkt Len Min', 'Fwd IAT Tot', 'Fwd IAT Max', 'Bwd IAT Std', 'Bwd Pkt Len Min', 'Bwd IAT Tot', 'Flow IAT Std', 'Fwd Pkt Len Max'], 'Normal sample 120': ['Init Bwd Win Byts', 'Idle Mean', 'Active Mean', 'Idle Max', 'Flow Byts/s', 'Bwd Pkt Len Max', 'Fwd Pkts/s', 'Bwd Header Len', 'Tot Bwd Pkts', 'Fwd Pkt Len Max'], 'Normal sample 121': ['Init Bwd Win Byts', 'Fwd IAT Tot', 'Tot Bwd Pkts', 'TotLen Fwd Pkts', 'Active Max', 'Flow Byts/s', 'Idle Std', 'Bwd IAT Min', 'Flow Duration', 'Idle Mean'], 'Normal sample 122': ['Init Bwd Win Byts', 'Idle Std', 'Bwd Pkt Len Max', 'Fwd IAT Max', 'Idle Min', 'Tot Bwd Pkts', 'Idle Max', 'Active Max', 'Fwd Header Len', 'TotLen Fwd Pkts'], 'Normal sample 123': ['Bwd IAT Tot', 'ACK Flag Cnt', 'Bwd PSH Flags', 'Bwd IAT Std', 'Bwd IAT Max', 'Flow IAT Max', 'Active Max', 'Subflow Bwd Byts', 'Fwd IAT Min', 'Tot Fwd Pkts'], 'Normal sample 124': ['Idle Std', 'Init Bwd Win Byts', 'Fwd Pkt Len Min', 'Flow IAT Min', 'Fwd Pkt Len Max', 'Idle Min', 'Tot Fwd Pkts', 'Fwd IAT Std', 'Fwd IAT Max', 'Bwd Pkt Len Max'], 'Normal sample 125': ['Tot Fwd Pkts', 'Tot Bwd Pkts', 'TotLen Fwd Pkts', 'TotLen Bwd Pkts', 'Bwd Pkt Len Max', 'Bwd Pkt Len Min', 'Bwd Pkt Len Mean', 'Bwd Pkt Len Std', 'Flow Pkts/s', 'Flow IAT Mean'], 'Normal sample 126': ['Down/Up Ratio', 'Flow Pkts/s', 'Fwd Seg Size Avg', 'Bwd Pkt Len Max', 'Pkt Len Std', 'Fwd Pkt Len Mean', 'Fwd Pkts/s', 'Pkt Size Avg', 'FIN Flag Cnt', 'Pkt Len Max'], 'Normal sample 127': ['Init Bwd Win Byts', 'Idle Min', 'Fwd IAT Max', 'Fwd Pkts/s', 'Idle Max', 'Idle Mean', 'Fwd IAT Std', 'Fwd Pkt Len Std', 'Bwd Pkt Len Std', 'Tot Fwd Pkts'], 'Normal sample 128': ['ACK Flag Cnt', 'Bwd IAT Std', 'Idle Mean', 'Pkt Size Avg', 'Bwd IAT Max', 'Active Max', 'Flow IAT Mean', 'Bwd IAT Tot', 'Subflow Bwd Byts', 'Active Min'], 'Normal sample 129': ['Init Bwd Win Byts', 'Bwd IAT Tot', 'Fwd Act Data Pkts', 'Fwd Pkt Len Std', 'Subflow Bwd Pkts', 'TotLen Fwd Pkts', 'Subflow Fwd Pkts', 'Active Min', 'Active Max', 'Bwd Pkt Len Max'], 'Normal sample 130': ['Init Bwd Win Byts', 'Active Max', 'Bwd Seg Size Avg', 'TotLen Bwd Pkts', 'Flow IAT Mean', 'Bwd Pkt Len Mean', 'Fwd Pkt Len Min', 'Idle Mean', 'Fwd Pkt Len Std', 'Fwd IAT Min'], 'Normal sample 131': ['ACK Flag Cnt', 'Bwd IAT Std', 'Flow IAT Std', 'Flow IAT Mean', 'Bwd IAT Max', 'Bwd IAT Tot', 'Pkt Size Avg', 'Pkt Len Std', 'Fwd IAT Min', 'Down/Up Ratio'], 'Normal sample 132': ['Init Bwd Win Byts', 'Tot Fwd Pkts', 'Tot Bwd Pkts', 'TotLen Bwd Pkts', 'Fwd Pkt Len Min', 'Bwd Pkt Len Max', 'Bwd Pkt Len Mean', 'Bwd Pkt Len Std', 'Flow IAT Std', 'Flow IAT Max'], 'Normal sample 133': ['SYN Flag Cnt', 'Bwd IAT Max', 'Bwd IAT Tot', 'Bwd IAT Std', 'Flow IAT Mean', 'Subflow Fwd Pkts', 'Fwd Pkt Len Min', 'Bwd IAT Min', 'TotLen Bwd Pkts', 'Tot Fwd Pkts'], 'Normal sample 134': ['Down/Up Ratio', 'Flow Pkts/s', 'Pkt Len Mean', 'FIN Flag Cnt', 'Pkt Len Min', 'Pkt Len Std', 'Bwd IAT Min', 'PSH Flag Cnt', 'Bwd Pkt Len Min', 'TotLen Bwd Pkts'], 'Normal sample 135': ['SYN Flag Cnt', 'Bwd Pkt Len Max', 'Bwd Pkt Len Std', 'Bwd Seg Size Avg', 'Fwd IAT Std', 'Subflow Bwd Byts', 'Flow IAT Mean', 'Fwd IAT Min', 'Bwd IAT Min', 'Bwd Pkt Len Mean'], 'Normal sample 136': ['Init Bwd Win Byts', 'Active Max', 'Fwd Pkts/s', 'Fwd IAT Max', 'Subflow Bwd Byts', 'Flow IAT Max', 'Active Std', 'Fwd IAT Std', 'Fwd IAT Mean', 'Tot Fwd Pkts'], 'Normal sample 137': ['Bwd IAT Tot', 'ACK Flag Cnt', 'Bwd IAT Std', 'Bwd IAT Max', 'Bwd PSH Flags', 'Bwd Header Len', 'Active Max', 'Flow IAT Max', 'Idle Max', 'Bwd Pkt Len Mean'], 'Normal sample 138': ['Init Bwd Win Byts', 'Idle Max', 'Fwd IAT Tot', 'Active Max', 'Idle Mean', 'Fwd Header Len', 'Bwd Seg Size Avg', 'Bwd Header Len', 'Active Min', 'Active Std'], 'Normal sample 139': ['Bwd PSH Flags', 'Bwd Pkt Len Min', 'Bwd IAT Tot', 'Flow Duration', 'Pkt Len Min', 'Fwd IAT Mean', 'Down/Up Ratio', 'Fwd Pkts/s', 'Tot Fwd Pkts', 'Tot Bwd Pkts'], 'Normal sample 140': ['Down/Up Ratio', 'Pkt Len Max', 'Pkt Len Std', 'Pkt Len Mean', 'Flow Pkts/s', 'Bwd Pkt Len Min', 'Fwd Pkt Len Std', 'Bwd IAT Mean', 'Fwd IAT Min', 'Pkt Len Min'], 'Normal sample 141': ['Init Bwd Win Byts', 'Flow Duration', 'Idle Max', 'Flow IAT Min', 'Fwd IAT Max', 'Idle Min', 'Fwd Header Len', 'Active Mean', 'Bwd Pkt Len Mean', 'Idle Mean'], 'Normal sample 142': ['SYN Flag Cnt', 'Bwd IAT Max', 'Bwd Pkt Len Max', 'Subflow Bwd Pkts', 'Subflow Bwd Byts', 'Flow Byts/s', 'Fwd Pkt Len Min', 'Tot Fwd Pkts', 'Tot Bwd Pkts', 'Bwd Pkt Len Min'], 'Normal sample 143': ['Init Bwd Win Byts', 'Idle Max', 'Idle Mean', 'Subflow Bwd Byts', 'Fwd IAT Std', 'Fwd IAT Min', 'Idle Min', 'Fwd IAT Max', 'Bwd IAT Min', 'Fwd IAT Mean'], 'Normal sample 144': ['Init Bwd Win Byts', 'Idle Max', 'Fwd Act Data Pkts', 'Bwd IAT Mean', 'Subflow Bwd Pkts', 'Subflow Bwd Byts', 'Fwd Header Len', 'Bwd Pkt Len Max', 'Flow IAT Mean', 'TotLen Bwd Pkts'], 'Normal sample 145': ['SYN Flag Cnt', 'Bwd Pkt Len Max', 'Bwd IAT Max', 'Bwd IAT Std', 'Bwd Pkt Len Std', 'Bwd Seg Size Avg', 'Pkt Len Min', 'Fwd IAT Min', 'Bwd IAT Mean', 'Bwd Pkt Len Mean'], 'Normal sample 146': ['Idle Min', 'Idle Max', 'Bwd IAT Max', 'Fwd Act Data Pkts', 'Flow Duration', 'Tot Bwd Pkts', 'TotLen Fwd Pkts', 'TotLen Bwd Pkts', 'Fwd Pkt Len Std', 'Bwd Pkt Len Max'], 'Normal sample 147': ['ACK Flag Cnt', 'Bwd IAT Tot', 'Bwd IAT Max', 'Bwd IAT Std', 'Idle Mean', 'Flow IAT Max', 'Bwd IAT Mean', 'Idle Min', 'Idle Std', 'Active Max'], 'Normal sample 148': ['Init Bwd Win Byts', 'Idle Min', 'Fwd IAT Tot', 'Subflow Bwd Pkts', 'Idle Mean', 'Bwd Pkt Len Std', 'Flow Duration', 'Bwd IAT Mean', 'Tot Bwd Pkts', 'Flow IAT Min'], 'Normal sample 149': ['Init Bwd Win Byts', 'Bwd Seg Size Avg', 'Idle Max', 'Bwd Pkt Len Std', 'Bwd IAT Mean', 'Bwd Pkt Len Mean', 'Fwd Header Len', 'Bwd Pkt Len Max', 'Fwd IAT Tot', 'Idle Std'], 'Normal sample 150': ['Bwd Pkts/s', 'FIN Flag Cnt', 'Pkt Len Min', 'Pkt Len Mean', 'Idle Max', 'Fwd Pkt Len Std', 'Pkt Size Avg', 'Flow IAT Max', 'Bwd Pkt Len Min', 'PSH Flag Cnt'], 'Normal sample 151': ['SYN Flag Cnt', 'Fwd IAT Tot', 'Bwd Pkt Len Max', 'Fwd IAT Min', 'Flow IAT Std', 'Tot Bwd Pkts', 'Flow Pkts/s', 'Tot Fwd Pkts', 'TotLen Fwd Pkts', 'Fwd Pkt Len Min'], 'Normal sample 152': ['SYN Flag Cnt', 'Bwd Pkt Len Mean', 'Bwd Pkt Len Std', 'Bwd Pkt Len Max', 'Down/Up Ratio', 'Bwd Seg Size Avg', 'Pkt Len Min', 'Idle Min', 'Bwd Pkt Len Min', 'Idle Mean'], 'Normal sample 153': ['Init Bwd Win Byts', 'Bwd IAT Max', 'TotLen Bwd Pkts', 'Fwd IAT Min', 'Fwd Header Len', 'Bwd Pkt Len Std', 'Idle Mean', 'Subflow Bwd Byts', 'Tot Fwd Pkts', 'Bwd IAT Min'], 'Normal sample 154': ['Down/Up Ratio', 'Flow Pkts/s', 'PSH Flag Cnt', 'TotLen Fwd Pkts', 'Pkt Len Mean', 'Pkt Len Max', 'Fwd Pkt Len Mean', 'Fwd IAT Max', 'Pkt Len Std', 'Fwd Pkt Len Std'], 'Normal sample 155': ['Down/Up Ratio', 'Flow Pkts/s', 'Fwd Pkt Len Std', 'Bwd IAT Tot', 'Fwd Pkt Len Max', 'Pkt Len Std', 'Pkt Len Max', 'Fwd IAT Max', 'Pkt Len Min', 'Fwd IAT Tot'], 'Normal sample 156': ['Init Bwd Win Byts', 'Tot Fwd Pkts', 'Fwd IAT Max', 'Idle Max', 'Fwd Pkts/s', 'Fwd Header Len', 'TotLen Fwd Pkts', 'Bwd Header Len', 'Bwd IAT Tot', 'Idle Mean'], 'Normal sample 157': ['Init Bwd Win Byts', 'Subflow Bwd Pkts', 'Idle Max', 'Bwd IAT Mean', 'Bwd IAT Std', 'Idle Min', 'Tot Bwd Pkts', 'Fwd Pkt Len Std', 'Idle Mean', 'Bwd Seg Size Avg'], 'Normal sample 158': ['Init Bwd Win Byts', 'Fwd Pkts/s', 'Idle Mean', 'Idle Max', 'Fwd Header Len', 'Fwd IAT Std', 'Bwd IAT Max', 'Flow IAT Mean', 'Bwd IAT Tot', 'Tot Fwd Pkts'], 'Normal sample 159': ['Flow Duration', 'Tot Fwd Pkts', 'Tot Bwd Pkts', 'TotLen Fwd Pkts', 'TotLen Bwd Pkts', 'Fwd Pkt Len Min', 'Bwd Pkt Len Max', 'Bwd Pkt Len Min', 'Bwd Pkt Len Mean', 'Bwd Pkt Len Std'], 'Normal sample 160': ['ACK Flag Cnt', 'Bwd IAT Std', 'Bwd IAT Max', 'Flow IAT Mean', 'Pkt Len Min', 'Bwd IAT Tot', 'Bwd IAT Mean', 'Subflow Bwd Pkts', 'Bwd Header Len', 'Fwd Seg Size Avg'], 'Normal sample 161': ['Flow Duration', 'Tot Fwd Pkts', 'Tot Bwd Pkts', 'TotLen Bwd Pkts', 'Fwd Pkt Len Min', 'Bwd Pkt Len Max', 'Flow Pkts/s', 'Flow IAT Mean', 'Flow IAT Min', 'Fwd IAT Tot'], 'Normal sample 162': ['Pkt Len Std', 'Flow Pkts/s', 'Fwd Pkt Len Std', 'Pkt Len Max', 'Pkt Len Mean', 'Pkt Size Avg', 'Pkt Len Min', 'Fwd Seg Size Avg', 'Fwd Pkt Len Max', 'Fwd Pkt Len Mean'], 'Normal sample 163': ['Init Bwd Win Byts', 'Idle Mean', 'Bwd Pkt Len Max', 'Idle Min', 'Pkt Len Var', 'Bwd Seg Size Avg', 'Bwd IAT Tot', 'Idle Std', 'Bwd IAT Max', 'Subflow Fwd Pkts'], 'Normal sample 164': ['Init Bwd Win Byts', 'Subflow Bwd Pkts', 'Pkt Len Min', 'Fwd IAT Tot', 'Fwd Pkts/s', 'Tot Bwd Pkts', 'TotLen Fwd Pkts', 'Bwd Pkt Len Min', 'Flow IAT Mean', 'Fwd IAT Std'], 'Normal sample 165': ['SYN Flag Cnt', 'Bwd IAT Max', 'Bwd IAT Std', 'TotLen Bwd Pkts', 'Bwd IAT Tot', 'Active Min', 'Flow IAT Mean', 'Pkt Len Var', 'PSH Flag Cnt', 'Fwd Pkt Len Min'], 'Normal sample 166': ['ACK Flag Cnt', 'Bwd IAT Std', 'Bwd IAT Max', 'Bwd IAT Tot', 'Idle Std', 'Flow Byts/s', 'Active Mean', 'Flow IAT Mean', 'Flow IAT Max', 'Fwd Pkt Len Std'], 'Normal sample 167': ['Flow Pkts/s', 'Down/Up Ratio', 'FIN Flag Cnt', 'Bwd IAT Tot', 'Fwd IAT Mean', 'Bwd Seg Size Avg', 'Flow IAT Min', 'Subflow Bwd Byts', 'Flow Byts/s', 'Fwd Seg Size Avg'], 'Normal sample 168': ['Flow Pkts/s', 'Down/Up Ratio', 'FIN Flag Cnt', 'Fwd IAT Tot', 'Pkt Len Max', 'Fwd IAT Max', 'Fwd Pkt Len Std', 'PSH Flag Cnt', 'Fwd Seg Size Avg', 'TotLen Bwd Pkts'], 'Normal sample 169': ['Init Bwd Win Byts', 'Idle Mean', 'Bwd Pkt Len Mean', 'Tot Fwd Pkts', 'Fwd IAT Std', 'Fwd Header Len', 'Active Min', 'Bwd IAT Min', 'Fwd Pkt Len Max', 'Subflow Fwd Byts'], 'Normal sample 170': ['SYN Flag Cnt', 'Bwd Pkt Len Max', 'Subflow Bwd Pkts', 'Flow Byts/s', 'Tot Fwd Pkts', 'Tot Bwd Pkts', 'TotLen Fwd Pkts', 'TotLen Bwd Pkts', 'Fwd Pkt Len Min', 'Fwd Pkt Len Mean'], 'Normal sample 171': ['SYN Flag Cnt', 'Bwd IAT Max', 'Bwd IAT Std', 'Bwd Pkt Len Std', 'Bwd Pkt Len Max', 'Idle Std', 'Pkt Len Min', 'Fwd Act Data Pkts', 'Flow Byts/s', 'Bwd Pkt Len Min'], 'Normal sample 172': ['Init Bwd Win Byts', 'Idle Max', 'Fwd IAT Min', 'Fwd Pkt Len Std', 'Bwd Seg Size Avg', 'Subflow Bwd Byts', 'Bwd Header Len', 'Bwd IAT Mean', 'Idle Min', 'Bwd Pkt Len Std'], 'Normal sample 173': ['Init Bwd Win Byts', 'Flow Duration', 'Tot Fwd Pkts', 'Tot Bwd Pkts', 'TotLen Fwd Pkts', 'Fwd Pkt Len Min', 'Bwd Pkt Len Min', 'Bwd Pkt Len Mean', 'Bwd Pkt Len Std', 'Flow Pkts/s'], 'Normal sample 174': ['SYN Flag Cnt', 'Bwd IAT Std', 'Bwd IAT Max', 'Bwd IAT Tot', 'Pkt Len Var', 'Bwd Seg Size Avg', 'Pkt Len Min', 'Idle Max', 'TotLen Fwd Pkts', 'Subflow Bwd Pkts'], 'Normal sample 175': ['SYN Flag Cnt', 'Bwd IAT Std', 'Idle Max', 'Bwd IAT Max', 'Bwd IAT Mean', 'Flow Byts/s', 'Active Mean', 'Pkt Len Min', 'Down/Up Ratio', 'Active Max'], 'Normal sample 176': ['Init Bwd Win Byts', 'Fwd IAT Tot', 'Idle Mean', 'Fwd IAT Max', 'Flow Duration', 'Tot Fwd Pkts', 'Tot Bwd Pkts', 'TotLen Fwd Pkts', 'TotLen Bwd Pkts', 'Fwd Pkt Len Min'], 'Normal sample 177': ['SYN Flag Cnt', 'Bwd Pkt Len Max', 'Tot Bwd Pkts', 'Active Max', 'Bwd IAT Std', 'Bwd Pkt Len Min', 'Bwd IAT Mean', 'Idle Max', 'Active Std', 'PSH Flag Cnt'], 'Normal sample 178': ['Init Bwd Win Byts', 'TotLen Fwd Pkts', 'Active Min', 'Flow Duration', 'Bwd IAT Max', 'Bwd Pkt Len Max', 'Bwd IAT Min', 'Fwd Pkt Len Std', 'Bwd IAT Tot', 'Bwd Seg Size Avg'], 'Normal sample 179': ['Init Bwd Win Byts', 'Fwd Pkt Len Std', 'Tot Bwd Pkts', 'Fwd IAT Tot', 'Fwd IAT Max', 'Idle Mean', 'Fwd IAT Min', 'Fwd IAT Std', 'Bwd Pkt Len Max', 'Bwd PSH Flags'], 'Normal sample 180': ['Init Bwd Win Byts', 'Bwd Pkt Len Std', 'Fwd Pkt Len Std', 'Fwd Header Len', 'Tot Bwd Pkts', 'Bwd Pkt Len Max', 'Bwd Pkt Len Mean', 'Fwd Act Data Pkts', 'Idle Min', 'Tot Fwd Pkts'], 'Normal sample 181': ['Down/Up Ratio', 'Fwd Pkt Len Max', 'Flow Pkts/s', 'Pkt Len Min', 'Fwd Pkt Len Mean', 'Pkt Len Std', 'Pkt Size Avg', 'Bwd Header Len', 'Subflow Fwd Byts', 'Bwd IAT Min'], 'Normal sample 182': ['Init Bwd Win Byts', 'Bwd Pkt Len Max', 'Fwd Act Data Pkts', 'Active Mean', 'Bwd IAT Mean', 'Fwd IAT Tot', 'Fwd Pkt Len Mean', 'Bwd IAT Min', 'Subflow Bwd Pkts', 'Fwd IAT Min'], 'Normal sample 183': ['Init Bwd Win Byts', 'Fwd IAT Std', 'Pkt Len Var', 'Subflow Bwd Pkts', 'Idle Max', 'Bwd IAT Min', 'Fwd Act Data Pkts', 'Idle Mean', 'Bwd Pkt Len Mean', 'Bwd Pkt Len Std'], 'Normal sample 184': ['SYN Flag Cnt', 'Bwd IAT Max', 'Bwd IAT Tot', 'Bwd IAT Std', 'Active Max', 'Bwd IAT Mean', 'PSH Flag Cnt', 'Active Mean', 'Flow IAT Mean', 'Idle Max'], 'Normal sample 185': ['Init Bwd Win Byts', 'Bwd Pkt Len Mean', 'Idle Min', 'Fwd IAT Tot', 'Fwd Header Len', 'Idle Max', 'Fwd Pkts/s', 'Tot Fwd Pkts', 'TotLen Fwd Pkts', 'TotLen Bwd Pkts'], 'Normal sample 186': ['Flow Duration', 'Tot Bwd Pkts', 'TotLen Fwd Pkts', 'TotLen Bwd Pkts', 'Fwd Pkt Len Min', 'Bwd Pkt Len Max', 'Bwd Pkt Len Min', 'Bwd Pkt Len Mean', 'Flow IAT Mean', 'Flow IAT Max'], 'Normal sample 187': ['Init Bwd Win Byts', 'Idle Min', 'Idle Mean', 'Active Max', 'Fwd Header Len', 'Fwd IAT Std', 'Fwd IAT Tot', 'Pkt Len Var', 'Subflow Bwd Byts', 'Fwd IAT Mean'], 'Normal sample 188': ['Init Bwd Win Byts', 'Idle Min', 'Fwd IAT Tot', 'Fwd Header Len', 'Fwd IAT Max', 'Idle Max', 'Bwd IAT Max', 'Fwd Pkt Len Min', 'TotLen Fwd Pkts', 'Flow Byts/s'], 'Normal sample 189': ['SYN Flag Cnt', 'Bwd IAT Std', 'Subflow Fwd Byts', 'Tot Fwd Pkts', 'Tot Bwd Pkts', 'TotLen Fwd Pkts', 'Bwd Pkt Len Max', 'Bwd Pkt Len Min', 'Bwd Pkt Len Mean', 'Bwd Pkt Len Std'], 'Normal sample 190': ['Flow Pkts/s', 'Pkt Len Max', 'Pkt Len Mean', 'Fwd Pkt Len Std', 'Pkt Size Avg', 'Pkt Len Std', 'Pkt Len Min', 'Fwd Header Len', 'Fwd Seg Size Avg', 'Idle Mean'], 'Normal sample 191': ['Down/Up Ratio', 'Flow Pkts/s', 'Pkt Len Mean', 'Pkt Len Max', 'Pkt Len Min', 'Fwd Pkt Len Max', 'Bwd Pkt Len Min', 'Pkt Size Avg', 'Fwd IAT Std', 'Pkt Len Std'], 'Normal sample 192': ['Init Bwd Win Byts', 'Active Min', 'Bwd Pkt Len Mean', 'Fwd IAT Min', 'Bwd Pkt Len Max', 'Bwd Pkt Len Std', 'Fwd IAT Mean', 'Fwd IAT Tot', 'Flow IAT Min', 'Bwd IAT Min'], 'Normal sample 193': ['Init Bwd Win Byts', 'Idle Mean', 'Idle Max', 'Bwd Header Len', 'Bwd PSH Flags', 'Idle Min', 'TotLen Fwd Pkts', 'Flow IAT Max', 'Bwd Pkt Len Max', 'Fwd Header Len'], 'Normal sample 194': ['Init Bwd Win Byts', 'Subflow Fwd Pkts', 'Bwd IAT Tot', 'Bwd Pkt Len Max', 'Bwd Pkt Len Mean', 'Bwd Seg Size Avg', 'Idle Max', 'Flow IAT Min', 'Idle Min', 'Bwd Pkt Len Std'], 'Normal sample 195': ['Init Bwd Win Byts', 'Idle Max', 'Subflow Fwd Byts', 'Tot Fwd Pkts', 'Fwd IAT Tot', 'Active Std', 'Idle Std', 'Tot Bwd Pkts', 'TotLen Fwd Pkts', 'Fwd Pkt Len Min'], 'Normal sample 196': ['ACK Flag Cnt', 'Flow IAT Mean', 'Bwd IAT Tot', 'Bwd PSH Flags', 'Bwd IAT Max', 'Fwd Act Data Pkts', 'Pkt Len Max', 'Pkt Len Min', 'Bwd Pkts/s', 'Bwd Pkt Len Min'], 'Normal sample 197': ['Init Bwd Win Byts', 'Subflow Bwd Pkts', 'Fwd IAT Mean', 'Bwd IAT Tot', 'Fwd Header Len', 'Idle Min', 'Fwd IAT Min', 'Flow Duration', 'TotLen Fwd Pkts', 'TotLen Bwd Pkts'], 'Normal sample 198': ['Bwd IAT Tot', 'ACK Flag Cnt', 'Bwd PSH Flags', 'Bwd IAT Max', 'Bwd IAT Std', 'Idle Mean', 'Idle Min', 'Idle Std', 'Flow IAT Max', 'Active Max'], 'Normal sample 199': ['Init Bwd Win Byts', 'Idle Mean', 'Idle Min', 'Fwd IAT Std', 'Bwd IAT Min', 'Fwd IAT Tot', 'Subflow Fwd Pkts', 'Fwd Pkts/s', 'Fwd IAT Max', 'Idle Std'], 'Normal sample 200': ['Init Bwd Win Byts', 'Fwd Act Data Pkts', 'Idle Max', 'Fwd IAT Max', 'Fwd IAT Mean', 'Active Std', 'Fwd Header Len', 'Flow IAT Mean', 'Subflow Fwd Byts', 'Idle Min'], 'Normal sample 201': ['ACK Flag Cnt', 'Bwd PSH Flags', 'Bwd IAT Max', 'Bwd IAT Std', 'Bwd Seg Size Avg', 'Pkt Len Max', 'Subflow Fwd Pkts', 'Idle Min', 'Bwd Pkt Len Std', 'Bwd IAT Tot'], 'Normal sample 202': ['Init Bwd Win Byts', 'Fwd IAT Max', 'Bwd IAT Mean', 'Subflow Fwd Byts', 'TotLen Bwd Pkts', 'Tot Fwd Pkts', 'Bwd Pkt Len Std', 'Fwd Pkts/s', 'Bwd Pkt Len Mean', 'Idle Mean'], 'Normal sample 203': ['Init Bwd Win Byts', 'Pkt Len Min', 'Fwd IAT Tot', 'Bwd Header Len', 'Flow Duration', 'Tot Bwd Pkts', 'Fwd Pkt Len Min', 'Bwd Pkt Len Mean', 'Bwd Pkt Len Std', 'Fwd IAT Mean'], 'Normal sample 204': ['Fwd IAT Min', 'ACK Flag Cnt', 'Flow IAT Mean', 'Bwd Pkt Len Std', 'Fwd Pkt Len Mean', 'Idle Min', 'Subflow Bwd Byts', 'Bwd Header Len', 'Active Std', 'Bwd PSH Flags'], 'Normal sample 205': ['Init Bwd Win Byts', 'TotLen Bwd Pkts', 'Tot Fwd Pkts', 'Bwd Pkt Len Mean', 'TotLen Fwd Pkts', 'Flow IAT Std', 'Fwd IAT Max', 'Flow IAT Max', 'Idle Max', 'Bwd IAT Tot'], 'Normal sample 206': ['SYN Flag Cnt', 'Bwd IAT Std', 'Bwd IAT Max', 'Bwd Seg Size Avg', 'Flow IAT Mean', 'Bwd Pkt Len Std', 'Bwd PSH Flags', 'Tot Fwd Pkts', 'TotLen Fwd Pkts', 'TotLen Bwd Pkts'], 'Normal sample 207': ['Init Bwd Win Byts', 'Idle Min', 'Idle Max', 'Bwd IAT Tot', 'Bwd Pkt Len Std', 'Active Mean', 'Tot Bwd Pkts', 'Bwd Seg Size Avg', 'Fwd Pkt Len Std', 'Bwd IAT Min'], 'Normal sample 208': ['SYN Flag Cnt', 'Bwd Pkt Len Max', 'Flow Duration', 'Tot Fwd Pkts', 'Tot Bwd Pkts', 'TotLen Fwd Pkts', 'TotLen Bwd Pkts', 'Fwd Pkt Len Min', 'Fwd Pkt Len Std', 'Bwd Pkt Len Min'], 'Normal sample 209': ['SYN Flag Cnt', 'Bwd Pkt Len Max', 'Fwd Act Data Pkts', 'Tot Fwd Pkts', 'Bwd IAT Mean', 'Bwd Header Len', 'Bwd IAT Tot', 'Active Mean', 'FIN Flag Cnt', 'Bwd IAT Max'], 'Normal sample 210': ['Init Bwd Win Byts', 'Idle Mean', 'Fwd IAT Mean', 'Bwd IAT Max', 'Fwd IAT Std', 'Tot Fwd Pkts', 'Fwd Pkt Len Max', 'Bwd Pkt Len Max', 'Bwd Pkt Len Mean', 'Bwd Pkt Len Std'], 'Normal sample 211': ['Bwd IAT Tot', 'ACK Flag Cnt', 'Bwd PSH Flags', 'Bwd IAT Std', 'Pkt Size Avg', 'Idle Std', 'Fwd Pkt Len Min', 'Bwd IAT Max', 'Idle Max', 'Active Max'], 'Normal sample 212': ['Bwd Pkts/s', 'Flow Byts/s', 'Fwd Pkts/s', 'Pkt Len Min', 'Flow IAT Std', 'Pkt Len Max', 'Fwd Seg Size Avg', 'Active Std', 'Flow Duration', 'Fwd Pkt Len Mean'], 'Normal sample 213': ['Flow Pkts/s', 'Down/Up Ratio', 'FIN Flag Cnt', 'Pkt Size Avg', 'Flow Duration', 'Active Std', 'Fwd Pkt Len Mean', 'Flow Byts/s', 'Bwd IAT Mean', 'Fwd Header Len'], 'Normal sample 214': ['Init Bwd Win Byts', 'TotLen Fwd Pkts', 'TotLen Bwd Pkts', 'Bwd Pkt Len Std', 'Fwd Act Data Pkts', 'Fwd Pkts/s', 'Active Std', 'Bwd Pkt Len Max', 'Flow Duration', 'Pkt Len Var'], 'Normal sample 215': ['ACK Flag Cnt', 'Bwd IAT Mean', 'Flow IAT Mean', 'Pkt Len Max', 'Bwd IAT Tot', 'Bwd IAT Max', 'Pkt Len Var', 'Bwd PSH Flags', 'Bwd IAT Min', 'Fwd IAT Min'], 'Normal sample 216': ['Init Bwd Win Byts', 'Down/Up Ratio', 'Fwd Pkts/s', 'Pkt Len Min', 'Tot Bwd Pkts', 'Fwd Pkt Len Min', 'Active Std', 'Bwd Header Len', 'Tot Fwd Pkts', 'TotLen Fwd Pkts'], 'Normal sample 217': ['Init Bwd Win Byts', 'Idle Min', 'Fwd Pkt Len Std', 'Fwd Pkt Len Max', 'Flow IAT Std', 'Subflow Bwd Byts', 'Bwd Seg Size Avg', 'Fwd IAT Tot', 'Idle Max', 'Flow Duration'], 'Normal sample 218': ['Init Bwd Win Byts', 'Bwd Pkt Len Std', 'Flow IAT Max', 'Down/Up Ratio', 'Bwd Pkt Len Max', 'Subflow Fwd Byts', 'Fwd Pkts/s', 'Bwd Seg Size Avg', 'Idle Max', 'TotLen Bwd Pkts'], 'Normal sample 219': ['SYN Flag Cnt', 'Bwd Pkt Len Max', 'Tot Fwd Pkts', 'Tot Bwd Pkts', 'TotLen Fwd Pkts', 'TotLen Bwd Pkts', 'Fwd Pkt Len Min', 'Flow Byts/s', 'Flow Pkts/s', 'Flow IAT Mean'], 'Normal sample 220': ['ACK Flag Cnt', 'Init Bwd Win Byts', 'Bwd Pkt Len Max', 'Idle Std', 'Tot Bwd Pkts', 'TotLen Bwd Pkts', 'Flow IAT Min', 'Pkt Len Min', 'Tot Fwd Pkts', 'Subflow Fwd Byts'], 'Normal sample 221': ['SYN Flag Cnt', 'Bwd Pkt Len Max', 'Idle Max', 'TotLen Bwd Pkts', 'Fwd IAT Min', 'TotLen Fwd Pkts', 'Flow IAT Max', 'Pkt Len Min', 'Idle Std', 'Flow Duration'], 'Normal sample 222': ['Flow Duration', 'TotLen Fwd Pkts', 'Bwd Pkt Len Max', 'Bwd Pkt Len Min', 'Bwd Pkt Len Std', 'Flow Pkts/s', 'Flow IAT Mean', 'Flow IAT Max', 'Fwd IAT Mean', 'Fwd IAT Std'], 'Normal sample 223': ['Flow Pkts/s', 'Down/Up Ratio', 'Tot Bwd Pkts', 'FIN Flag Cnt', 'Fwd IAT Max', 'Idle Min', 'Bwd Pkt Len Min', 'Pkt Len Min', 'Pkt Len Max', 'TotLen Bwd Pkts'], 'Normal sample 224': ['Init Bwd Win Byts', 'Tot Bwd Pkts', 'TotLen Bwd Pkts', 'Bwd Pkt Len Std', 'Flow IAT Mean', 'Flow IAT Max', 'Flow IAT Min', 'Fwd IAT Mean', 'Fwd IAT Min', 'Bwd IAT Max'], 'Normal sample 225': ['Init Bwd Win Byts', 'Fwd Pkt Len Max', 'Active Mean', 'Fwd IAT Max', 'Idle Max', 'Subflow Fwd Pkts', 'Fwd Header Len', 'Flow IAT Max', 'Bwd Pkt Len Mean', 'Fwd IAT Tot'], 'Normal sample 226': ['Bwd PSH Flags', 'Bwd Pkt Len Min', 'Bwd IAT Tot', 'Pkt Len Var', 'Fwd IAT Mean', 'Subflow Bwd Pkts', 'Bwd Pkt Len Std', 'Pkt Len Max', 'Tot Fwd Pkts', 'Tot Bwd Pkts'], 'Normal sample 227': ['Init Bwd Win Byts', 'Pkt Len Var', 'Bwd Pkt Len Std', 'Tot Fwd Pkts', 'Fwd IAT Min', 'Idle Max', 'Fwd Header Len', 'Idle Mean', 'Fwd Pkt Len Std', 'Flow IAT Mean'], 'Normal sample 228': ['Init Bwd Win Byts', 'Active Mean', 'Fwd IAT Std', 'Bwd Pkt Len Std', 'Idle Max', 'Fwd IAT Mean', 'Fwd IAT Min', 'Subflow Fwd Pkts', 'TotLen Fwd Pkts', 'Flow IAT Max'], 'Normal sample 229': ['ACK Flag Cnt', 'Bwd IAT Std', 'Flow IAT Mean', 'Bwd IAT Max', 'Bwd IAT Tot', 'Bwd IAT Mean', 'Bwd Seg Size Avg', 'Flow IAT Max', 'Idle Max', 'Fwd Pkt Len Mean'], 'Normal sample 230': ['SYN Flag Cnt', 'Bwd IAT Max', 'Bwd Pkt Len Max', 'Bwd Pkt Len Std', 'Bwd IAT Tot', 'Bwd IAT Std', 'Idle Min', 'TotLen Bwd Pkts', 'Fwd Header Len', 'Bwd Pkt Len Mean'], 'Normal sample 231': ['Init Bwd Win Byts', 'Bwd IAT Min', 'Fwd Pkts/s', 'Subflow Fwd Byts', 'Idle Max', 'Active Std', 'Bwd Pkt Len Std', 'Fwd IAT Max', 'Fwd IAT Std', 'Bwd IAT Mean'], 'Normal sample 232': ['Down/Up Ratio', 'Flow Pkts/s', 'Pkt Len Max', 'Pkt Len Std', 'Fwd Seg Size Avg', 'Pkt Len Min', 'Pkt Len Mean', 'Fwd IAT Max', 'Fwd Pkt Len Max', 'Subflow Bwd Byts'], 'Normal sample 233': ['SYN Flag Cnt', 'Bwd Pkt Len Max', 'Active Max', 'PSH Flag Cnt', 'Subflow Bwd Pkts', 'TotLen Fwd Pkts', 'Bwd IAT Min', 'Flow IAT Std', 'Idle Max', 'Bwd IAT Tot'], 'Normal sample 234': ['SYN Flag Cnt', 'Tot Bwd Pkts', 'Idle Min', 'Fwd Pkt Len Max', 'Flow Pkts/s', 'Pkt Len Var', 'Bwd Pkt Len Min', 'TotLen Bwd Pkts', 'Fwd IAT Std', 'Fwd IAT Min'], 'Normal sample 235': ['Bwd PSH Flags', 'Flow Byts/s', 'Flow IAT Mean', 'Fwd Pkt Len Max', 'Flow IAT Max', 'Bwd IAT Max', 'Fwd Act Data Pkts', 'Pkt Len Max', 'Pkt Len Var', 'Flow IAT Std'], 'Normal sample 236': ['Init Bwd Win Byts', 'Idle Mean', 'Bwd Seg Size Avg', 'Flow Duration', 'Fwd IAT Max', 'Fwd IAT Min', 'Flow IAT Min', 'Fwd Header Len', 'Bwd IAT Mean', 'Idle Max'], 'Normal sample 237': ['Init Bwd Win Byts', 'Pkt Len Min', 'Fwd IAT Tot', 'Pkt Len Var', 'Subflow Fwd Pkts', 'Bwd Pkt Len Min', 'Fwd IAT Max', 'Subflow Bwd Pkts', 'Tot Fwd Pkts', 'Tot Bwd Pkts'], 'Normal sample 238': ['Init Bwd Win Byts', 'Idle Max', 'Pkt Len Var', 'Flow Duration', 'Tot Bwd Pkts', 'Fwd Pkts/s', 'Bwd Pkt Len Max', 'Fwd IAT Max', 'Idle Min', 'Bwd Pkt Len Std'], 'Normal sample 239': ['Init Bwd Win Byts', 'Flow Duration', 'Idle Mean', 'TotLen Bwd Pkts', 'Flow IAT Std', 'Fwd IAT Max', 'Fwd Pkt Len Max', 'Bwd IAT Min', 'Tot Fwd Pkts', 'Tot Bwd Pkts'], 'Normal sample 240': ['Init Bwd Win Byts', 'Tot Bwd Pkts', 'Fwd IAT Std', 'Bwd Pkt Len Std', 'Active Std', 'Bwd Pkt Len Max', 'Pkt Len Var', 'Fwd Pkts/s', 'Subflow Fwd Pkts', 'Idle Mean'], 'Normal sample 241': ['SYN Flag Cnt', 'Bwd Pkt Len Max', 'Fwd IAT Min', 'Fwd Pkt Len Min', 'Fwd Header Len', 'Flow Duration', 'Tot Bwd Pkts', 'Fwd Pkt Len Mean', 'Bwd Pkt Len Min', 'Flow Byts/s'], 'Normal sample 242': ['Init Bwd Win Byts', 'Fwd Pkt Len Std', 'Fwd IAT Min', 'PSH Flag Cnt', 'Flow Byts/s', 'Fwd IAT Tot', 'Idle Max', 'Tot Bwd Pkts', 'Idle Min', 'Bwd Seg Size Avg'], 'Normal sample 243': ['SYN Flag Cnt', 'Bwd Pkt Len Max', 'Bwd PSH Flags', 'Flow Duration', 'Tot Fwd Pkts', 'Tot Bwd Pkts', 'TotLen Fwd Pkts', 'Fwd Pkt Len Min', 'Fwd Pkt Len Mean', 'Bwd Pkt Len Std'], 'Normal sample 244': ['Bwd PSH Flags', 'Bwd IAT Std', 'Flow IAT Mean', 'Bwd IAT Max', 'Idle Mean', 'Idle Min', 'Bwd Seg Size Avg', 'Subflow Bwd Pkts', 'Idle Max', 'Pkt Len Max'], 'Normal sample 245': ['Down/Up Ratio', 'Flow Pkts/s', 'Pkt Len Min', 'Pkt Len Mean', 'Pkt Len Max', 'Fwd IAT Std', 'Pkt Size Avg', 'Fwd Pkt Len Std', 'Fwd Pkt Len Mean', 'TotLen Fwd Pkts'], 'Normal sample 246': ['Init Bwd Win Byts', 'Idle Max', 'Bwd Seg Size Avg', 'Flow Byts/s', 'Subflow Fwd Pkts', 'Fwd Pkt Len Std', 'Active Std', 'Bwd Pkt Len Std', 'Fwd IAT Mean', 'Fwd IAT Tot'], 'Normal sample 247': ['Init Bwd Win Byts', 'Bwd Seg Size Avg', 'Bwd Pkt Len Max', 'Bwd Pkt Len Mean', 'Fwd IAT Min', 'Idle Min', 'TotLen Fwd Pkts', 'Flow Byts/s', 'Tot Fwd Pkts', 'Idle Max'], 'Normal sample 248': ['Flow Pkts/s', 'Down/Up Ratio', 'FIN Flag Cnt', 'Pkt Len Std', 'Active Mean', 'Flow IAT Std', 'Fwd Act Data Pkts', 'PSH Flag Cnt', 'Bwd IAT Tot', 'Bwd IAT Min'], 'Normal sample 249': ['Init Bwd Win Byts', 'Idle Std', 'Idle Min', 'PSH Flag Cnt', 'Flow IAT Min', 'Bwd IAT Min', 'Flow Duration', 'Bwd Pkt Len Mean', 'Tot Fwd Pkts', 'TotLen Fwd Pkts'], 'Normal sample 250': ['Init Bwd Win Byts', 'Idle Max', 'Idle Mean', 'Flow Byts/s', 'Bwd Header Len', 'Bwd Pkt Len Std', 'Fwd Pkt Len Mean', 'Subflow Fwd Pkts', 'Bwd Pkt Len Mean', 'Flow IAT Min'], 'Normal sample 251': ['Init Bwd Win Byts', 'Tot Bwd Pkts', 'Down/Up Ratio', 'Fwd IAT Tot', 'Bwd Pkt Len Mean', 'TotLen Bwd Pkts', 'Active Std', 'Flow IAT Std', 'Flow IAT Max', 'Idle Max'], 'Normal sample 252': ['Init Bwd Win Byts', 'Tot Bwd Pkts', 'Idle Max', 'Idle Min', 'Active Max', 'Idle Mean', 'Bwd Pkt Len Std', 'Fwd Pkt Len Min', 'TotLen Bwd Pkts', 'Fwd Pkt Len Std'], 'Normal sample 253': ['Init Bwd Win Byts', 'Idle Min', 'Flow IAT Std', 'Fwd IAT Max', 'Tot Fwd Pkts', 'TotLen Bwd Pkts', 'Active Mean', 'Fwd Header Len', 'Bwd Pkt Len Max', 'Bwd IAT Mean'], 'Normal sample 254': ['SYN Flag Cnt', 'Bwd Pkt Len Max', 'Bwd IAT Max', 'Bwd IAT Std', 'Bwd IAT Tot', 'Bwd IAT Min', 'Bwd Header Len', 'Tot Bwd Pkts', 'Fwd Pkt Len Min', 'Bwd Pkt Len Min'], 'Normal sample 255': ['Fwd IAT Min', 'Bwd IAT Std', 'Flow IAT Mean', 'Flow IAT Std', 'Init Bwd Win Byts', 'Bwd IAT Mean', 'Bwd IAT Tot', 'Tot Bwd Pkts', 'Fwd IAT Std', 'Bwd IAT Max'], 'Normal sample 256': ['Flow IAT Min', 'Active Max', 'Idle Std', 'TotLen Bwd Pkts', 'Bwd Pkt Len Std', 'Flow Duration', 'Fwd IAT Min', 'Init Bwd Win Byts', 'Tot Bwd Pkts', 'TotLen Fwd Pkts'], 'Normal sample 257': ['Init Bwd Win Byts', 'Subflow Fwd Pkts', 'Active Mean', 'Fwd IAT Max', 'Bwd Pkt Len Std', 'Bwd Pkt Len Max', 'Bwd IAT Max', 'Flow IAT Min', 'Fwd IAT Tot', 'Idle Mean'], 'Normal sample 258': ['Init Bwd Win Byts', 'Fwd IAT Std', 'Fwd IAT Tot', 'Fwd Pkt Len Min', 'TotLen Fwd Pkts', 'Pkt Len Min', 'Bwd Seg Size Avg', 'Bwd Pkt Len Mean', 'Subflow Fwd Pkts', 'Fwd IAT Max'], 'Normal sample 259': ['Bwd Pkts/s', 'Fwd Pkts/s', 'Idle Mean', 'Pkt Len Min', 'FIN Flag Cnt', 'Fwd Act Data Pkts', 'Tot Fwd Pkts', 'TotLen Fwd Pkts', 'Bwd PSH Flags', 'Fwd Pkt Len Std'], 'Normal sample 260': ['SYN Flag Cnt', 'Bwd IAT Tot', 'Idle Max', 'Fwd Pkt Len Min', 'Bwd Pkt Len Mean', 'Pkt Len Min', 'Flow Byts/s', 'Tot Bwd Pkts', 'TotLen Fwd Pkts', 'TotLen Bwd Pkts'], 'Normal sample 261': ['Bwd PSH Flags', 'Bwd Pkt Len Max', 'Down/Up Ratio', 'Pkt Len Min', 'Bwd IAT Min', 'Bwd Pkt Len Min', 'Fwd Pkt Len Mean', 'Idle Mean', 'Fwd Pkt Len Max', 'Active Min'], 'Normal sample 262': ['Init Bwd Win Byts', 'TotLen Fwd Pkts', 'Idle Max', 'Subflow Fwd Byts', 'Bwd Pkt Len Std', 'Bwd Header Len', 'Bwd IAT Mean', 'TotLen Bwd Pkts', 'Active Min', 'Fwd Act Data Pkts'], 'Normal sample 263': ['SYN Flag Cnt', 'Bwd IAT Std', 'Bwd IAT Max', 'Bwd IAT Mean', 'Bwd Pkt Len Min', 'Idle Max', 'Bwd Pkt Len Max', 'Fwd IAT Min', 'Tot Fwd Pkts', 'Idle Mean'], 'Normal sample 264': ['Init Bwd Win Byts', 'Bwd Pkt Len Max', 'Fwd Act Data Pkts', 'Bwd Pkt Len Mean', 'Subflow Fwd Byts', 'Flow Duration', 'Tot Fwd Pkts', 'Tot Bwd Pkts', 'TotLen Fwd Pkts', 'Fwd Pkt Len Std'], 'Normal sample 265': ['Init Bwd Win Byts', 'Bwd Pkt Len Mean', 'Active Mean', 'Idle Mean', 'Tot Bwd Pkts', 'Fwd Header Len', 'Fwd Pkt Len Std', 'Fwd Pkts/s', 'Fwd Seg Size Avg', 'Fwd IAT Max'], 'Normal sample 266': ['SYN Flag Cnt', 'Bwd Pkt Len Max', 'Flow Pkts/s', 'Fwd IAT Min', 'TotLen Bwd Pkts', 'Bwd IAT Mean', 'Fwd IAT Mean', 'Fwd Pkts/s', 'Tot Bwd Pkts', 'Active Std'], 'Normal sample 267': ['Init Bwd Win Byts', 'Active Mean', 'Fwd IAT Mean', 'Idle Max', 'Bwd Seg Size Avg', 'Bwd Pkt Len Std', 'Bwd IAT Mean', 'Flow Duration', 'Tot Fwd Pkts', 'Tot Bwd Pkts'], 'Normal sample 268': ['Init Bwd Win Byts', 'Bwd Header Len', 'Bwd Seg Size Avg', 'Tot Fwd Pkts', 'TotLen Fwd Pkts', 'TotLen Bwd Pkts', 'Fwd Pkt Len Min', 'Fwd Pkt Len Std', 'Bwd Pkt Len Max', 'Bwd Pkt Len Mean'], 'Normal sample 269': ['Init Bwd Win Byts', 'Bwd Pkt Len Max', 'Subflow Bwd Pkts', 'Idle Min', 'Fwd Pkts/s', 'Subflow Bwd Byts', 'Idle Max', 'Bwd PSH Flags', 'Active Max', 'TotLen Bwd Pkts'], 'Normal sample 270': ['ACK Flag Cnt', 'Bwd IAT Std', 'Bwd IAT Max', 'Bwd IAT Tot', 'Subflow Fwd Byts', 'Active Mean', 'Subflow Fwd Pkts', 'Flow IAT Mean', 'Idle Std', 'Subflow Bwd Pkts'], 'Normal sample 271': ['Init Bwd Win Byts', 'Idle Max', 'Bwd Pkt Len Max', 'Subflow Bwd Pkts', 'Bwd IAT Max', 'Pkt Len Var', 'Bwd Seg Size Avg', 'Idle Mean', 'Bwd Pkt Len Std', 'Tot Fwd Pkts'], 'Normal sample 272': ['ACK Flag Cnt', 'Bwd IAT Std', 'Bwd IAT Tot', 'Flow IAT Mean', 'Bwd IAT Max', 'Bwd IAT Mean', 'Fwd Act Data Pkts', 'Pkt Len Min', 'Flow IAT Min', 'TotLen Bwd Pkts'], 'Normal sample 273': ['Init Bwd Win Byts', 'Idle Max', 'Active Max', 'Fwd IAT Std', 'Fwd IAT Tot', 'Active Mean', 'Idle Mean', 'Fwd Pkt Len Std', 'Bwd Pkt Len Max', 'Fwd Header Len'], 'Normal sample 274': ['Init Bwd Win Byts', 'Tot Bwd Pkts', 'Active Std', 'Active Mean', 'Bwd Pkt Len Max', 'Bwd Seg Size Avg', 'Fwd Pkt Len Max', 'Subflow Fwd Byts', 'Bwd Header Len', 'Subflow Bwd Byts'], 'Normal sample 275': ['SYN Flag Cnt', 'Bwd IAT Std', 'Bwd IAT Max', 'Bwd Seg Size Avg', 'Bwd Pkt Len Max', 'Bwd Pkt Len Mean', 'Flow IAT Mean', 'Flow IAT Min', 'Flow Byts/s', 'Tot Fwd Pkts'], 'Normal sample 276': ['Init Bwd Win Byts', 'TotLen Fwd Pkts', 'Idle Mean', 'Fwd Act Data Pkts', 'Bwd Seg Size Avg', 'Tot Fwd Pkts', 'Bwd IAT Min', 'Active Max', 'PSH Flag Cnt', 'Flow IAT Min'], 'Normal sample 277': ['SYN Flag Cnt', 'Idle Mean', 'Pkt Len Std', 'Tot Fwd Pkts', 'Pkt Len Min', 'Fwd IAT Std', 'Pkt Len Max', 'Tot Bwd Pkts', 'Idle Std', 'Flow Byts/s'], 'Normal sample 278': ['Init Bwd Win Byts', 'Active Std', 'Bwd IAT Max', 'Flow IAT Min', 'Active Min', 'Idle Min', 'Active Max', 'Bwd Pkt Len Mean', 'Fwd Pkt Len Max', 'Tot Fwd Pkts'], 'Normal sample 279': ['Flow Pkts/s', 'Pkt Len Max', 'Pkt Size Avg', 'Fwd Pkt Len Max', 'Pkt Len Min', 'Pkt Len Mean', 'Fwd Pkt Len Mean', 'Pkt Len Std', 'TotLen Bwd Pkts', 'Subflow Bwd Pkts'], 'Normal sample 280': ['Init Bwd Win Byts', 'Idle Max', 'Active Std', 'TotLen Fwd Pkts', 'Bwd IAT Min', 'Fwd Pkts/s', 'Subflow Fwd Pkts', 'Pkt Len Var', 'Bwd Pkt Len Std', 'Tot Fwd Pkts'], 'Normal sample 281': ['Init Bwd Win Byts', 'Idle Min', 'Bwd Pkt Len Max', 'Fwd IAT Mean', 'Pkt Len Var', 'Fwd Header Len', 'Fwd IAT Tot', 'Subflow Fwd Byts', 'Tot Fwd Pkts', 'Bwd IAT Max'], 'Normal sample 282': ['Init Bwd Win Byts', 'Tot Bwd Pkts', 'Subflow Bwd Pkts', 'Bwd IAT Mean', 'Idle Mean', 'Active Std', 'Fwd Act Data Pkts', 'Idle Min', 'Bwd IAT Min', 'Fwd IAT Tot'], 'Normal sample 283': ['Flow Pkts/s', 'Down/Up Ratio', 'FIN Flag Cnt', 'Bwd Pkt Len Min', 'Pkt Len Max', 'Pkt Len Std', 'Tot Bwd Pkts', 'Bwd Pkt Len Std', 'Fwd IAT Max', 'Bwd Seg Size Avg'], 'Normal sample 284': ['ACK Flag Cnt', 'Bwd IAT Tot', 'Bwd IAT Std', 'Bwd IAT Max', 'Idle Max', 'Bwd PSH Flags', 'Idle Mean', 'Flow IAT Max', 'Idle Min', 'Subflow Bwd Pkts'], 'Normal sample 285': ['Init Bwd Win Byts', 'Idle Min', 'Fwd IAT Std', 'Active Max', 'Flow IAT Min', 'Idle Max', 'Fwd Pkt Len Min', 'Fwd IAT Tot', 'Fwd Seg Size Avg', 'Tot Fwd Pkts'], 'Normal sample 286': ['ACK Flag Cnt', 'Bwd IAT Max', 'Bwd IAT Tot', 'Bwd IAT Std', 'Flow IAT Mean', 'Pkt Size Avg', 'Flow IAT Max', 'Flow IAT Std', 'Bwd IAT Mean', 'Fwd Pkt Len Mean'], 'Normal sample 287': ['Down/Up Ratio', 'Pkt Len Max', 'Pkt Len Min', 'Fwd Pkt Len Max', 'Subflow Bwd Pkts', 'Pkt Len Std', 'Fwd IAT Tot', 'Pkt Len Mean', 'Pkt Size Avg', 'Fwd Seg Size Avg'], 'Normal sample 288': ['Init Bwd Win Byts', 'Active Max', 'Flow IAT Min', 'Bwd Header Len', 'Fwd IAT Std', 'Flow Duration', 'Pkt Len Var', 'Active Mean', 'Bwd Pkt Len Max', 'Tot Fwd Pkts'], 'Normal sample 289': ['Down/Up Ratio', 'Flow Pkts/s', 'FIN Flag Cnt', 'Fwd Act Data Pkts', 'Bwd Pkt Len Min', 'Pkt Len Min', 'Pkt Len Max', 'Bwd IAT Tot', 'Fwd Pkts/s', 'Pkt Len Mean'], 'Normal sample 290': ['SYN Flag Cnt', 'Bwd IAT Std', 'Idle Min', 'Idle Max', 'Flow IAT Min', 'Flow IAT Mean', 'Bwd IAT Max', 'Bwd IAT Min', 'Subflow Fwd Pkts', 'Fwd IAT Min'], 'Normal sample 291': ['ACK Flag Cnt', 'Init Bwd Win Byts', 'Bwd Pkt Len Max', 'Flow Duration', 'Tot Fwd Pkts', 'Tot Bwd Pkts', 'TotLen Bwd Pkts', 'Bwd Pkt Len Mean', 'Bwd Pkt Len Std', 'Flow IAT Std'], 'Normal sample 292': ['Bwd IAT Std', 'Flow IAT Mean', 'Flow IAT Std', 'Bwd IAT Tot', 'Bwd IAT Mean', 'Fwd Pkts/s', 'Bwd IAT Max', 'Init Bwd Win Byts', 'Pkt Len Std', 'Flow IAT Min'], 'Normal sample 293': ['Init Bwd Win Byts', 'Bwd Pkt Len Max', 'Fwd IAT Mean', 'Fwd IAT Std', 'Fwd Seg Size Avg', 'TotLen Fwd Pkts', 'Fwd Pkt Len Std', 'Flow Byts/s', 'Fwd Act Data Pkts', 'Tot Fwd Pkts'], 'Normal sample 294': ['Init Bwd Win Byts', 'Fwd IAT Tot', 'TotLen Fwd Pkts', 'Fwd Pkt Len Max', 'Idle Max', 'Subflow Fwd Byts', 'Bwd IAT Min', 'Flow IAT Std', 'Fwd IAT Max', 'Flow Duration'], 'Normal sample 295': ['Init Bwd Win Byts', 'Idle Max', 'Idle Mean', 'Bwd IAT Tot', 'Active Min', 'Subflow Fwd Pkts', 'Fwd IAT Tot', 'Bwd IAT Max', 'Fwd IAT Max', 'Bwd PSH Flags'], 'Normal sample 296': ['SYN Flag Cnt', 'Bwd IAT Max', 'Bwd IAT Tot', 'Active Min', 'Active Mean', 'Tot Bwd Pkts', 'Tot Fwd Pkts', 'TotLen Fwd Pkts', 'TotLen Bwd Pkts', 'Fwd Pkt Len Mean'], 'Normal sample 297': ['ACK Flag Cnt', 'Bwd IAT Tot', 'Bwd IAT Max', 'Bwd IAT Std', 'Idle Max', 'Active Max', 'Tot Fwd Pkts', 'Subflow Fwd Pkts', 'Flow IAT Max', 'Bwd PSH Flags'], 'Normal sample 298': ['Down/Up Ratio', 'Tot Fwd Pkts', 'Tot Bwd Pkts', 'TotLen Fwd Pkts', 'Fwd Pkt Len Min', 'Bwd Pkt Len Min', 'Bwd Pkt Len Mean', 'Bwd Pkt Len Std', 'Flow Byts/s', 'Flow IAT Mean'], 'Normal sample 299': ['Init Bwd Win Byts', 'Idle Mean', 'Fwd IAT Std', 'TotLen Bwd Pkts', 'Idle Min', 'Flow IAT Std', 'Bwd Pkt Len Std', 'Active Min', 'Fwd Pkt Len Max', 'Bwd Seg Size Avg'], 'Normal sample 300': ['Down/Up Ratio', 'Pkt Len Std', 'Fwd IAT Std', 'Pkt Len Min', 'Pkt Len Max', 'Pkt Size Avg', 'Flow Pkts/s', 'Fwd Pkt Len Mean', 'Bwd Pkt Len Min', 'Fwd IAT Max'], 'Normal sample 301': ['SYN Flag Cnt', 'Bwd IAT Std', 'Bwd IAT Max', 'Bwd Pkt Len Std', 'Bwd Pkt Len Max', 'Bwd Pkt Len Mean', 'Subflow Fwd Byts', 'Tot Bwd Pkts', 'TotLen Fwd Pkts', 'Fwd Pkt Len Min'], 'Normal sample 302': ['Init Bwd Win Byts', 'Fwd Pkt Len Max', 'TotLen Fwd Pkts', 'Bwd Pkt Len Std', 'Idle Min', 'Idle Mean', 'Subflow Fwd Pkts', 'Idle Max', 'Bwd Pkt Len Max', 'Bwd IAT Mean'], 'Normal sample 303': ['Init Bwd Win Byts', 'Idle Mean', 'Fwd IAT Min', 'TotLen Fwd Pkts', 'Flow Duration', 'Tot Fwd Pkts', 'Tot Bwd Pkts', 'Fwd Pkt Len Std', 'Bwd Pkt Len Max', 'Bwd Pkt Len Mean'], 'Normal sample 304': ['Flow Pkts/s', 'Fwd Pkt Len Std', 'Pkt Len Std', 'Pkt Size Avg', 'Fwd Pkt Len Max', 'Pkt Len Max', 'Fwd IAT Max', 'TotLen Fwd Pkts', 'Fwd Seg Size Avg', 'Pkt Len Mean'], 'Normal sample 305': ['SYN Flag Cnt', 'Bwd IAT Max', 'Idle Std', 'Bwd IAT Std', 'Bwd IAT Mean', 'Flow IAT Mean', 'Bwd Pkt Len Min', 'Active Min', 'Fwd Pkt Len Min', 'Subflow Fwd Byts'], 'Normal sample 306': ['Init Bwd Win Byts', 'Subflow Bwd Pkts', 'Active Max', 'Subflow Fwd Byts', 'Idle Mean', 'Fwd Header Len', 'Pkt Len Var', 'Active Std', 'Bwd Seg Size Avg', 'Fwd IAT Std'], 'Normal sample 307': ['Init Bwd Win Byts', 'Pkt Len Var', 'Idle Min', 'Fwd IAT Std', 'Fwd IAT Tot', 'Fwd Pkts/s', 'Fwd IAT Max', 'Fwd IAT Mean', 'Fwd Pkt Len Max', 'Fwd Pkt Len Min'], 'Normal sample 308': ['ACK Flag Cnt', 'Bwd IAT Tot', 'Bwd IAT Max', 'Flow IAT Max', 'Idle Max', 'Bwd IAT Std', 'Fwd Pkts/s', 'Active Max', 'Fwd IAT Mean', 'Bwd Pkt Len Min'], 'Normal sample 309': ['SYN Flag Cnt', 'Bwd Pkt Len Max', 'Bwd Pkt Len Std', 'Fwd IAT Max', 'Bwd Seg Size Avg', 'Bwd Pkt Len Min', 'Active Std', 'Active Mean', 'Flow Duration', 'Bwd PSH Flags'], 'Normal sample 310': ['Bwd IAT Tot', 'ACK Flag Cnt', 'Bwd IAT Max', 'Bwd IAT Std', 'Idle Max', 'Active Max', 'Idle Mean', 'Bwd IAT Mean', 'Fwd Pkt Len Min', 'Idle Min'], 'Normal sample 311': ['ACK Flag Cnt', 'Bwd IAT Max', 'Bwd IAT Tot', 'Bwd IAT Std', 'Flow IAT Max', 'Bwd PSH Flags', 'Idle Min', 'Idle Mean', 'Subflow Bwd Byts', 'Bwd IAT Mean'], 'Normal sample 312': ['Down/Up Ratio', 'Flow Pkts/s', 'Fwd Pkt Len Std', 'Pkt Len Min', 'Pkt Size Avg', 'Pkt Len Mean', 'Pkt Len Max', 'Fwd Pkt Len Max', 'Fwd Seg Size Avg', 'Fwd Pkt Len Mean'], 'Normal sample 313': ['ACK Flag Cnt', 'Bwd IAT Std', 'Bwd IAT Max', 'Flow IAT Mean', 'Bwd Pkt Len Std', 'Flow IAT Std', 'Bwd Header Len', 'Bwd IAT Mean', 'Flow IAT Max', 'Subflow Fwd Byts'], 'Normal sample 314': ['Down/Up Ratio', 'Flow Pkts/s', 'Pkt Len Mean', 'Pkt Len Std', 'Pkt Len Max', 'Bwd Pkt Len Min', 'Pkt Len Min', 'Pkt Size Avg', 'Bwd IAT Tot', 'Fwd Seg Size Avg'], 'Normal sample 315': ['Down/Up Ratio', 'Pkt Len Mean', 'Flow Pkts/s', 'Fwd Pkt Len Std', 'Fwd Pkt Len Max', 'Pkt Len Max', 'Pkt Len Min', 'Subflow Bwd Byts', 'Pkt Len Std', 'Fwd IAT Std'], 'Normal sample 316': ['Bwd IAT Max', 'ACK Flag Cnt', 'Bwd IAT Std', 'Bwd IAT Tot', 'Idle Min', 'Idle Max', 'Idle Mean', 'Flow IAT Max', 'Subflow Fwd Pkts', 'Flow Byts/s'], 'Normal sample 317': ['Down/Up Ratio', 'Fwd Pkts/s', 'Tot Fwd Pkts', 'Tot Bwd Pkts', 'TotLen Fwd Pkts', 'TotLen Bwd Pkts', 'Fwd Pkt Len Min', 'Flow IAT Std', 'Flow IAT Max', 'Flow IAT Min'], 'Normal sample 318': ['Init Bwd Win Byts', 'Tot Bwd Pkts', 'Idle Mean', 'Bwd Pkt Len Mean', 'Flow IAT Std', 'Subflow Bwd Byts', 'Idle Min', 'Idle Std', 'Fwd IAT Mean', 'Fwd Pkt Len Min'], 'Normal sample 319': ['Init Bwd Win Byts', 'Idle Mean', 'Flow IAT Min', 'Idle Max', 'Fwd IAT Std', 'Bwd Seg Size Avg', 'Idle Std', 'TotLen Fwd Pkts', 'Idle Min', 'Active Mean'], 'Normal sample 320': ['Init Bwd Win Byts', 'Bwd IAT Tot', 'Fwd IAT Std', 'Fwd Header Len', 'Idle Mean', 'Tot Bwd Pkts', 'Fwd IAT Tot', 'Flow Duration', 'Fwd Pkt Len Max', 'Fwd Pkt Len Min'], 'Normal sample 321': ['SYN Flag Cnt', 'Pkt Len Min', 'Bwd Pkt Len Max', 'Down/Up Ratio', 'Fwd IAT Min', 'TotLen Bwd Pkts', 'Idle Std', 'Bwd IAT Tot', 'Fwd IAT Mean', 'Tot Fwd Pkts'], 'Normal sample 322': ['Bwd PSH Flags', 'Fwd Pkt Len Max', 'Fwd Pkt Len Mean', 'Bwd Pkt Len Std', 'Tot Bwd Pkts', 'Bwd IAT Max', 'Idle Mean', 'Pkt Len Min', 'Flow Duration', 'Tot Fwd Pkts'], 'Normal sample 323': ['Down/Up Ratio', 'Init Bwd Win Byts', 'Fwd IAT Mean', 'Bwd Pkt Len Std', 'Bwd Header Len', 'Fwd IAT Max', 'Bwd Pkt Len Max', 'Idle Mean', 'Flow Byts/s', 'Fwd Pkt Len Max'], 'Normal sample 324': ['Init Bwd Win Byts', 'Bwd IAT Max', 'Bwd PSH Flags', 'Idle Mean', 'Bwd Pkt Len Std', 'Flow Duration', 'TotLen Bwd Pkts', 'Fwd Pkt Len Min', 'Fwd Pkt Len Std', 'Bwd Pkt Len Max'], 'Normal sample 325': ['SYN Flag Cnt', 'Bwd IAT Tot', 'Bwd IAT Max', 'Bwd IAT Std', 'Flow IAT Mean', 'Flow IAT Min', 'Fwd IAT Min', 'Subflow Bwd Pkts', 'Idle Std', 'Subflow Fwd Pkts'], 'Normal sample 326': ['Init Bwd Win Byts', 'Tot Fwd Pkts', 'Subflow Bwd Pkts', 'Subflow Fwd Pkts', 'Active Std', 'Bwd Header Len', 'Flow Duration', 'TotLen Fwd Pkts', 'TotLen Bwd Pkts', 'Fwd Pkt Len Std'], 'Normal sample 327': ['Flow Pkts/s', 'Pkt Len Max', 'Down/Up Ratio', 'Fwd IAT Min', 'Pkt Len Std', 'Fwd Pkt Len Std', 'Pkt Size Avg', 'Pkt Len Mean', 'Fwd Pkt Len Max', 'Bwd IAT Tot'], 'Normal sample 328': ['SYN Flag Cnt', 'Bwd Pkt Len Std', 'Fwd IAT Min', 'Tot Bwd Pkts', 'ACK Flag Cnt', 'PSH Flag Cnt', 'Bwd Pkt Len Mean', 'Idle Max', 'TotLen Bwd Pkts', 'Bwd Pkt Len Max'], 'Normal sample 329': ['Init Bwd Win Byts', 'Bwd Pkt Len Min', 'Flow Duration', 'Tot Fwd Pkts', 'Tot Bwd Pkts', 'TotLen Fwd Pkts', 'TotLen Bwd Pkts', 'Bwd Pkt Len Max', 'Bwd Pkt Len Mean', 'Bwd Pkt Len Std'], 'Normal sample 330': ['Init Bwd Win Byts', 'Idle Max', 'Bwd Seg Size Avg', 'Bwd IAT Mean', 'Fwd Act Data Pkts', 'Fwd IAT Std', 'Flow Duration', 'Bwd IAT Tot', 'Tot Fwd Pkts', 'Tot Bwd Pkts'], 'Normal sample 331': ['Init Bwd Win Byts', 'Active Max', 'Flow Duration', 'Tot Fwd Pkts', 'Tot Bwd Pkts', 'TotLen Fwd Pkts', 'TotLen Bwd Pkts', 'Bwd Pkt Len Max', 'Bwd Pkt Len Min', 'Bwd Pkt Len Mean'], 'Normal sample 332': ['Init Bwd Win Byts', 'Fwd IAT Std', 'Idle Min', 'Idle Max', 'Tot Fwd Pkts', 'Active Mean', 'Fwd IAT Mean', 'Bwd Header Len', 'Flow Duration', 'Tot Bwd Pkts'], 'Normal sample 333': ['Down/Up Ratio', 'Flow Pkts/s', 'Pkt Size Avg', 'Pkt Len Min', 'Pkt Len Max', 'Bwd IAT Mean', 'Pkt Len Std', 'Fwd Pkt Len Max', 'Fwd Pkt Len Std', 'Fwd Seg Size Avg'], 'Normal sample 334': ['Init Bwd Win Byts', 'Idle Mean', 'Fwd IAT Std', 'Tot Bwd Pkts', 'Fwd Pkt Len Min', 'Fwd Pkt Len Std', 'Bwd Pkt Len Max', 'Bwd Pkt Len Mean', 'Bwd Pkt Len Std', 'Flow Pkts/s'], 'Normal sample 335': ['Down/Up Ratio', 'Pkt Size Avg', 'Pkt Len Min', 'Fwd Pkt Len Mean', 'Flow Pkts/s', 'Fwd Pkt Len Max', 'Pkt Len Mean', 'Pkt Len Std', 'Idle Max', 'Fwd IAT Std'], 'Normal sample 336': ['SYN Flag Cnt', 'Bwd Pkt Len Max', 'Bwd Seg Size Avg', 'Bwd IAT Mean', 'Bwd Pkt Len Std', 'Bwd Pkt Len Mean', 'Idle Max', 'Tot Bwd Pkts', 'Flow IAT Min', 'Bwd Pkt Len Min'], 'Normal sample 337': ['Init Bwd Win Byts', 'Subflow Fwd Byts', 'TotLen Bwd Pkts', 'Fwd IAT Max', 'Fwd IAT Mean', 'Active Max', 'Bwd Seg Size Avg', 'Flow Byts/s', 'Bwd IAT Min', 'Flow IAT Std'], 'Normal sample 338': ['SYN Flag Cnt', 'Bwd IAT Max', 'Bwd IAT Std', 'Bwd IAT Tot', 'Flow IAT Mean', 'Bwd IAT Min', 'Subflow Fwd Byts', 'PSH Flag Cnt', 'Fwd Header Len', 'TotLen Fwd Pkts'], 'Normal sample 339': ['ACK Flag Cnt', 'Bwd IAT Std', 'Bwd IAT Max', 'Flow IAT Std', 'Flow IAT Mean', 'Flow IAT Min', 'Pkt Len Std', 'Bwd IAT Tot', 'Bwd IAT Mean', 'Subflow Fwd Pkts'], 'Normal sample 340': ['Bwd Pkt Len Max', 'SYN Flag Cnt', 'Bwd IAT Max', 'Bwd IAT Tot', 'Bwd Header Len', 'Tot Fwd Pkts', 'Tot Bwd Pkts', 'TotLen Fwd Pkts', 'TotLen Bwd Pkts', 'Fwd Pkt Len Min'], 'Normal sample 341': ['Init Bwd Win Byts', 'TotLen Bwd Pkts', 'Idle Max', 'Flow IAT Mean', 'Subflow Bwd Byts', 'Bwd Pkt Len Mean', 'Idle Min', 'Idle Mean', 'Bwd Seg Size Avg', 'Idle Std'], 'Normal sample 342': ['Init Bwd Win Byts', 'Tot Bwd Pkts', 'Bwd IAT Tot', 'Idle Max', 'Bwd Pkt Len Mean', 'Bwd Seg Size Avg', 'TotLen Fwd Pkts', 'Idle Min', 'Bwd Pkt Len Max', 'Idle Mean'], 'Normal sample 343': ['SYN Flag Cnt', 'Bwd Pkt Len Min', 'Bwd Header Len', 'Fwd Act Data Pkts', 'Subflow Fwd Byts', 'Bwd PSH Flags', 'Pkt Len Min', 'Tot Fwd Pkts', 'PSH Flag Cnt', 'Bwd Pkt Len Std'], 'Normal sample 344': ['Init Bwd Win Byts', 'Idle Mean', 'Idle Min', 'Bwd Pkt Len Std', 'Active Mean', 'Idle Max', 'Subflow Bwd Byts', 'Fwd Act Data Pkts', 'Fwd Pkts/s', 'Bwd IAT Min'], 'Normal sample 345': ['Init Bwd Win Byts', 'Bwd IAT Mean', 'Fwd IAT Max', 'Flow Duration', 'Tot Fwd Pkts', 'Tot Bwd Pkts', 'TotLen Fwd Pkts', 'TotLen Bwd Pkts', 'Bwd Pkt Len Min', 'Bwd Pkt Len Mean'], 'Normal sample 346': ['Init Bwd Win Byts', 'Idle Std', 'Idle Max', 'Bwd Seg Size Avg', 'TotLen Bwd Pkts', 'Active Mean', 'Flow IAT Mean', 'Subflow Fwd Byts', 'Bwd Pkt Len Std', 'Bwd Pkt Len Max'], 'Normal sample 347': ['Init Bwd Win Byts', 'Idle Mean', 'Pkt Len Var', 'Bwd Seg Size Avg', 'Subflow Fwd Pkts', 'Flow Duration', 'Tot Bwd Pkts', 'TotLen Fwd Pkts', 'TotLen Bwd Pkts', 'Fwd Pkt Len Min'], 'Normal sample 348': ['Bwd IAT Tot', 'Fwd IAT Std', 'Init Bwd Win Byts', 'Idle Mean', 'Idle Min', 'Fwd Pkt Len Max', 'Fwd Pkt Len Std', 'Fwd IAT Tot', 'Flow Duration', 'Idle Max'], 'Normal sample 349': ['Init Bwd Win Byts', 'TotLen Bwd Pkts', 'Subflow Fwd Pkts', 'Bwd Pkt Len Mean', 'Fwd Act Data Pkts', 'Bwd Pkt Len Max', 'Subflow Bwd Pkts', 'Flow Byts/s', 'Flow IAT Std', 'Fwd Pkts/s'], 'Normal sample 350': ['Pkt Len Max', 'Flow Pkts/s', 'Pkt Len Min', 'Pkt Size Avg', 'Fwd Pkt Len Std', 'Pkt Len Mean', 'Fwd IAT Max', 'Pkt Len Std', 'Fwd Seg Size Avg', 'Tot Fwd Pkts'], 'Normal sample 351': ['Bwd IAT Tot', 'ACK Flag Cnt', 'Bwd IAT Max', 'Idle Max', 'Bwd IAT Std', 'Idle Min', 'Idle Mean', 'Pkt Len Var', 'Subflow Fwd Pkts', 'Flow IAT Max'], 'Normal sample 352': ['Down/Up Ratio', 'Bwd Pkt Len Min', 'Pkt Len Max', 'Pkt Len Mean', 'Fwd Pkt Len Mean', 'Pkt Len Var', 'Pkt Len Std', 'Flow Pkts/s', 'Pkt Len Min', 'Fwd Pkt Len Max'], 'Normal sample 353': ['Init Bwd Win Byts', 'Subflow Bwd Byts', 'Bwd IAT Tot', 'Subflow Fwd Byts', 'Fwd IAT Std', 'Idle Min', 'Pkt Len Var', 'Idle Std', 'Flow Duration', 'Bwd IAT Min'], 'Normal sample 354': ['Bwd Pkt Len Std', 'Idle Mean', 'Bwd Seg Size Avg', 'Flow Duration', 'Tot Fwd Pkts', 'Tot Bwd Pkts', 'TotLen Fwd Pkts', 'TotLen Bwd Pkts', 'Fwd Pkt Len Max', 'Fwd Pkt Len Min'], 'Normal sample 355': ['Init Bwd Win Byts', 'Idle Min', 'Fwd Header Len', 'Tot Bwd Pkts', 'Subflow Bwd Byts', 'TotLen Bwd Pkts', 'Subflow Fwd Byts', 'Idle Max', 'Subflow Fwd Pkts', 'Active Max'], 'Normal sample 356': ['Bwd PSH Flags', 'Fwd Pkt Len Mean', 'Flow IAT Std', 'Subflow Fwd Pkts', 'Pkt Len Min', 'Idle Min', 'Subflow Fwd Byts', 'Flow IAT Max', 'Bwd Pkt Len Min', 'Bwd Seg Size Avg'], 'Normal sample 357': ['Down/Up Ratio', 'Flow Pkts/s', 'Pkt Len Max', 'Pkt Len Std', 'Pkt Size Avg', 'Fwd Seg Size Avg', 'TotLen Fwd Pkts', 'Fwd Pkt Len Max', 'Pkt Len Min', 'Flow IAT Std'], 'Normal sample 358': ['Bwd Pkt Len Max', 'ACK Flag Cnt', 'Tot Fwd Pkts', 'Tot Bwd Pkts', 'TotLen Fwd Pkts', 'Bwd Pkt Len Min', 'Bwd Pkt Len Mean', 'Bwd Pkt Len Std', 'Flow Pkts/s', 'Flow IAT Mean'], 'Normal sample 359': ['ACK Flag Cnt', 'Bwd IAT Max', 'Bwd IAT Std', 'Bwd IAT Tot', 'Flow IAT Max', 'Bwd PSH Flags', 'Idle Min', 'Flow IAT Mean', 'Idle Max', 'Idle Std'], 'Normal sample 360': ['Init Bwd Win Byts', 'Idle Std', 'Fwd Pkt Len Std', 'Active Std', 'Subflow Bwd Pkts', 'Flow Duration', 'Fwd IAT Tot', 'Bwd Pkt Len Mean', 'Bwd Seg Size Avg', 'Subflow Fwd Pkts'], 'Normal sample 361': ['Init Bwd Win Byts', 'TotLen Bwd Pkts', 'Fwd Pkt Len Min', 'Flow Byts/s', 'Flow IAT Mean', 'Fwd IAT Tot', 'Fwd IAT Std', 'Fwd PSH Flags', 'Fwd URG Flags', 'Bwd URG Flags'], 'Normal sample 362': ['ACK Flag Cnt', 'Bwd IAT Std', 'Bwd IAT Max', 'Bwd IAT Tot', 'Bwd IAT Mean', 'Flow IAT Mean', 'Bwd PSH Flags', 'Flow IAT Max', 'Idle Std', 'Bwd Header Len'], 'Normal sample 363': ['ACK Flag Cnt', 'Bwd IAT Max', 'Bwd IAT Std', 'Bwd IAT Tot', 'Idle Max', 'Bwd Pkt Len Max', 'Flow IAT Max', 'Flow IAT Mean', 'TotLen Bwd Pkts', 'Active Min'], 'Normal sample 364': ['Flow Pkts/s', 'Down/Up Ratio', 'FIN Flag Cnt', 'Fwd Pkts/s', 'Fwd IAT Tot', 'Fwd Pkt Len Max', 'Fwd Seg Size Avg', 'Pkt Len Std', 'Tot Fwd Pkts', 'Flow Duration'], 'Normal sample 365': ['Bwd PSH Flags', 'Fwd Seg Size Avg', 'Active Max', 'Fwd Pkt Len Min', 'Fwd Pkt Len Max', 'Bwd Pkt Len Min', 'Fwd IAT Tot', 'Tot Bwd Pkts', 'Flow IAT Mean', 'Flow Duration'], 'Normal sample 366': ['Flow Duration', 'Tot Fwd Pkts', 'Tot Bwd Pkts', 'TotLen Fwd Pkts', 'Bwd Pkt Len Max', 'Bwd Pkt Len Min', 'Bwd Pkt Len Mean', 'Bwd Pkt Len Std', 'Flow Pkts/s', 'Flow IAT Std'], 'Normal sample 367': ['Init Bwd Win Byts', 'Idle Max', 'Bwd Seg Size Avg', 'Tot Bwd Pkts', 'Fwd IAT Std', 'Fwd IAT Tot', 'Flow IAT Min', 'Bwd Pkt Len Max', 'Pkt Len Var', 'Fwd Pkt Len Std'], 'Normal sample 368': ['Init Bwd Win Byts', 'Fwd Pkt Len Std', 'Bwd Pkt Len Mean', 'Idle Max', 'Subflow Fwd Pkts', 'Active Mean', 'Fwd IAT Tot', 'Bwd Pkt Len Std', 'Subflow Bwd Pkts', 'Flow Byts/s'], 'Normal sample 369': ['Init Bwd Win Byts', 'Flow Byts/s', 'Bwd IAT Min', 'Flow IAT Min', 'Active Std', 'TotLen Bwd Pkts', 'Flow IAT Mean', 'Tot Fwd Pkts', 'Tot Bwd Pkts', 'TotLen Fwd Pkts'], 'Normal sample 370': ['Init Bwd Win Byts', 'Bwd IAT Max', 'Bwd IAT Std', 'Bwd Header Len', 'Idle Max', 'TotLen Bwd Pkts', 'Bwd Pkt Len Max', 'Fwd IAT Std', 'Fwd IAT Max', 'Fwd Pkt Len Std'], 'Normal sample 371': ['Init Bwd Win Byts', 'Bwd Seg Size Avg', 'Fwd Pkt Len Std', 'TotLen Bwd Pkts', 'Subflow Bwd Pkts', 'Fwd IAT Std', 'Flow IAT Min', 'Active Std', 'Fwd Act Data Pkts', 'Idle Min'], 'Normal sample 372': ['Init Bwd Win Byts', 'Idle Mean', 'Fwd Act Data Pkts', 'Idle Min', 'Idle Max', 'Fwd IAT Min', 'Subflow Bwd Pkts', 'Tot Fwd Pkts', 'Fwd IAT Max', 'Fwd Pkt Len Std'], 'Normal sample 373': ['Init Bwd Win Byts', 'Idle Min', 'Subflow Bwd Byts', 'Fwd IAT Max', 'TotLen Bwd Pkts', 'Bwd IAT Max', 'Fwd Pkts/s', 'Subflow Bwd Pkts', 'Bwd Pkt Len Std', 'Idle Mean'], 'Normal sample 374': ['SYN Flag Cnt', 'Bwd IAT Std', 'Bwd IAT Max', 'Flow IAT Min', 'Idle Mean', 'Bwd Seg Size Avg', 'Bwd Pkt Len Mean', 'Bwd IAT Tot', 'Bwd Pkt Len Max', 'TotLen Bwd Pkts'], 'Normal sample 375': ['Init Bwd Win Byts', 'Idle Mean', 'Tot Bwd Pkts', 'Fwd IAT Mean', 'Fwd Pkts/s', 'Pkt Len Var', 'Idle Max', 'Active Max', 'Fwd IAT Tot', 'TotLen Fwd Pkts'], 'Normal sample 376': ['Down/Up Ratio', 'Pkt Len Min', 'Fwd Pkt Len Std', 'Flow Pkts/s', 'Pkt Len Max', 'Fwd Seg Size Avg', 'Fwd Pkt Len Mean', 'Fwd Pkt Len Max', 'PSH Flag Cnt', 'Fwd IAT Max'], 'Normal sample 377': ['SYN Flag Cnt', 'Fwd IAT Max', 'PSH Flag Cnt', 'TotLen Bwd Pkts', 'Subflow Bwd Pkts', 'Idle Min', 'Bwd Pkt Len Min', 'Bwd Pkt Len Max', 'Pkt Len Min', 'Bwd Pkt Len Std'], 'Normal sample 378': ['Init Bwd Win Byts', 'Idle Mean', 'Flow Duration', 'Fwd Pkt Len Std', 'Tot Bwd Pkts', 'Tot Fwd Pkts', 'Idle Max', 'Fwd IAT Std', 'Bwd Pkt Len Max', 'Fwd Act Data Pkts'], 'Normal sample 379': ['Init Bwd Win Byts', 'Subflow Bwd Pkts', 'Idle Max', 'Fwd IAT Std', 'Idle Mean', 'Subflow Fwd Pkts', 'Tot Fwd Pkts', 'Fwd IAT Tot', 'Bwd Pkt Len Max', 'Fwd Act Data Pkts'], 'Normal sample 380': ['SYN Flag Cnt', 'Bwd Pkt Len Max', 'Bwd Pkt Len Std', 'Bwd Pkt Len Mean', 'Bwd Seg Size Avg', 'PSH Flag Cnt', 'Idle Max', 'Bwd IAT Std', 'Subflow Bwd Byts', 'Fwd IAT Mean'], 'Normal sample 381': ['SYN Flag Cnt', 'Bwd Pkt Len Max', 'Bwd Pkt Len Std', 'Bwd Seg Size Avg', 'Idle Max', 'Bwd Pkt Len Mean', 'Idle Min', 'Bwd IAT Tot', 'Pkt Len Min', 'Fwd Pkt Len Min'], 'Normal sample 382': ['Flow Pkts/s', 'Down/Up Ratio', 'FIN Flag Cnt', 'Fwd IAT Max', 'Idle Mean', 'Fwd Pkt Len Std', 'Pkt Len Min', 'Pkt Len Mean', 'Subflow Bwd Byts', 'Fwd Seg Size Avg'], 'Normal sample 383': ['Init Bwd Win Byts', 'Active Std', 'Active Mean', 'Idle Mean', 'Fwd Act Data Pkts', 'Fwd IAT Min', 'Fwd IAT Std', 'Fwd IAT Tot', 'Flow IAT Min', 'Active Max'], 'Normal sample 384': ['Init Bwd Win Byts', 'Tot Fwd Pkts', 'Idle Max', 'Idle Min', 'Active Std', 'Bwd Header Len', 'Tot Bwd Pkts', 'TotLen Bwd Pkts', 'Fwd Pkt Len Min', 'Bwd Pkt Len Mean'], 'Normal sample 385': ['Init Bwd Win Byts', 'Fwd Pkt Len Std', 'Fwd IAT Max', 'Tot Fwd Pkts', 'Idle Mean', 'Bwd Pkt Len Mean', 'Bwd Pkt Len Max', 'Bwd Seg Size Avg', 'Bwd Pkt Len Std', 'Fwd IAT Std'], 'Normal sample 386': ['Init Bwd Win Byts', 'Pkt Len Var', 'Idle Min', 'Tot Fwd Pkts', 'Flow IAT Std', 'Fwd Pkt Len Std', 'Flow IAT Mean', 'TotLen Bwd Pkts', 'Bwd Pkt Len Mean', 'Fwd IAT Min'], 'Normal sample 387': ['SYN Flag Cnt', 'Bwd Pkt Len Max', 'Tot Fwd Pkts', 'Tot Bwd Pkts', 'TotLen Fwd Pkts', 'Fwd Pkt Len Min', 'Bwd Pkt Len Std', 'Flow Pkts/s', 'Flow IAT Mean', 'Flow IAT Max'], 'Normal sample 388': ['Init Bwd Win Byts', 'Fwd IAT Tot', 'Pkt Len Var', 'Fwd IAT Mean', 'Pkt Len Min', 'TotLen Bwd Pkts', 'Fwd Pkts/s', 'Tot Fwd Pkts', 'Tot Bwd Pkts', 'Flow Byts/s'], 'Normal sample 389': ['SYN Flag Cnt', 'Idle Mean', 'Bwd Seg Size Avg', 'Idle Min', 'Fwd Pkts/s', 'Bwd Pkt Len Max', 'Idle Max', 'Fwd IAT Min', 'Tot Fwd Pkts', 'Tot Bwd Pkts'], 'Normal sample 390': ['Init Bwd Win Byts', 'Active Max', 'Idle Min', 'TotLen Fwd Pkts', 'Subflow Fwd Byts', 'Bwd Pkt Len Mean', 'Bwd Pkt Len Std', 'Bwd Header Len', 'Idle Mean', 'Flow Duration'], 'Normal sample 391': ['Bwd IAT Tot', 'Bwd IAT Max', 'ACK Flag Cnt', 'Idle Max', 'Bwd IAT Std', 'Flow IAT Max', 'Active Max', 'Bwd IAT Mean', 'Bwd Pkt Len Std', 'Subflow Fwd Byts'], 'Normal sample 392': ['Init Bwd Win Byts', 'Idle Max', 'Fwd IAT Max', 'Fwd Pkt Len Std', 'Idle Min', 'TotLen Fwd Pkts', 'Bwd Header Len', 'Idle Mean', 'Tot Bwd Pkts', 'Bwd IAT Tot'], 'Normal sample 393': ['Init Bwd Win Byts', 'Flow Duration', 'Bwd Pkt Len Max', 'Bwd Header Len', 'Fwd Header Len', 'Idle Min', 'Tot Fwd Pkts', 'Bwd IAT Max', 'Idle Max', 'Subflow Bwd Pkts'], 'Normal sample 394': ['Down/Up Ratio', 'Pkt Len Std', 'Flow Pkts/s', 'Pkt Len Max', 'Pkt Size Avg', 'Fwd IAT Max', 'Pkt Len Min', 'Fwd Pkt Len Max', 'Pkt Len Var', 'Pkt Len Mean'], 'Normal sample 395': ['Init Bwd Win Byts', 'Subflow Fwd Byts', 'Flow IAT Min', 'Tot Bwd Pkts', 'TotLen Bwd Pkts', 'Fwd Pkt Len Min', 'Bwd Pkt Len Min', 'Bwd Pkt Len Mean', 'Bwd Pkt Len Std', 'Flow IAT Mean'], 'Normal sample 396': ['Flow Pkts/s', 'Fwd Pkt Len Max', 'Pkt Len Min', 'Pkt Len Mean', 'Down/Up Ratio', 'Pkt Len Std', 'Fwd IAT Tot', 'Fwd IAT Mean', 'Pkt Len Max', 'Pkt Size Avg'], 'Normal sample 397': ['Down/Up Ratio', 'Tot Fwd Pkts', 'Tot Bwd Pkts', 'TotLen Fwd Pkts', 'TotLen Bwd Pkts', 'Fwd Pkt Len Min', 'Bwd Pkt Len Min', 'Bwd Pkt Len Mean', 'Flow IAT Mean', 'Flow IAT Std'], 'Normal sample 398': ['Init Bwd Win Byts', 'Fwd Pkt Len Max', 'Tot Bwd Pkts', 'Fwd Pkts/s', 'Bwd Header Len', 'Idle Std', 'Idle Mean', 'Fwd IAT Mean', 'Active Std', 'Bwd Pkt Len Max'], 'Normal sample 399': ['Init Bwd Win Byts', 'Flow IAT Mean', 'Bwd IAT Mean', 'Active Mean', 'Subflow Fwd Byts', 'Idle Mean', 'Idle Max', 'Subflow Fwd Pkts', 'Flow Byts/s', 'TotLen Bwd Pkts'], 'Normal sample 400': ['Down/Up Ratio', 'Flow Pkts/s', 'Pkt Len Std', 'Pkt Len Min', 'Pkt Len Max', 'Fwd Pkt Len Mean', 'Bwd Seg Size Avg', 'Fwd Seg Size Avg', 'Pkt Len Mean', 'Bwd IAT Mean'], 'Normal sample 401': ['Init Bwd Win Byts', 'Fwd Pkt Len Std', 'Idle Max', 'TotLen Bwd Pkts', 'Flow IAT Min', 'Fwd IAT Min', 'Tot Fwd Pkts', 'Idle Mean', 'Fwd Header Len', 'Fwd IAT Max'], 'Normal sample 402': ['Flow Pkts/s', 'Down/Up Ratio', 'FIN Flag Cnt', 'Fwd Pkt Len Mean', 'Bwd Seg Size Avg', 'Pkt Len Var', 'Fwd IAT Max', 'Active Mean', 'Fwd IAT Std', 'Pkt Len Std'], 'Normal sample 403': ['Flow Pkts/s', 'Pkt Size Avg', 'Pkt Len Max', 'Pkt Len Mean', 'Pkt Len Std', 'Fwd Pkt Len Mean', 'Fwd Pkt Len Max', 'Flow IAT Std', 'Fwd Pkt Len Std', 'Subflow Bwd Pkts'], 'Normal sample 404': ['SYN Flag Cnt', 'Bwd IAT Max', 'Bwd Pkt Len Max', 'Bwd Pkt Len Std', 'Bwd IAT Tot', 'Fwd IAT Tot', 'Fwd Pkt Len Min', 'Idle Max', 'Bwd IAT Min', 'Fwd IAT Std'], 'Normal sample 405': ['Init Bwd Win Byts', 'Idle Max', 'Active Max', 'Flow Byts/s', 'Bwd Header Len', 'TotLen Bwd Pkts', 'Tot Fwd Pkts', 'Subflow Bwd Byts', 'Tot Bwd Pkts', 'Bwd IAT Mean'], 'Normal sample 406': ['Init Bwd Win Byts', 'Fwd Act Data Pkts', 'Idle Mean', 'Fwd IAT Std', 'Bwd IAT Max', 'TotLen Bwd Pkts', 'Fwd Seg Size Avg', 'Subflow Bwd Pkts', 'Bwd Pkt Len Mean', 'Active Max'], 'Normal sample 407': ['Init Bwd Win Byts', 'Bwd Header Len', 'Idle Min', 'Bwd PSH Flags', 'Flow IAT Mean', 'Active Min', 'Subflow Fwd Pkts', 'Idle Std', 'Idle Mean', 'Flow IAT Std'], 'Normal sample 408': ['Bwd PSH Flags', 'Fwd Seg Size Avg', 'Fwd IAT Std', 'Flow IAT Mean', 'Bwd Header Len', 'Pkt Len Min', 'Flow IAT Min', 'Idle Std', 'Bwd IAT Mean', 'Fwd IAT Tot'], 'Normal sample 409': ['Init Bwd Win Byts', 'Bwd Header Len', 'Idle Min', 'Fwd IAT Tot', 'Subflow Fwd Byts', 'Fwd Pkts/s', 'Bwd IAT Tot', 'Bwd Pkt Len Max', 'TotLen Fwd Pkts', 'Active Std'], 'Normal sample 410': ['SYN Flag Cnt', 'Bwd Pkt Len Max', 'Pkt Len Var', 'Flow Duration', 'Tot Fwd Pkts', 'Tot Bwd Pkts', 'TotLen Fwd Pkts', 'TotLen Bwd Pkts', 'Fwd Pkt Len Min', 'Fwd Pkt Len Mean'], 'Normal sample 411': ['Init Bwd Win Byts', 'Fwd IAT Max', 'Flow Duration', 'Idle Mean', 'Idle Max', 'Subflow Bwd Pkts', 'Tot Fwd Pkts', 'Subflow Fwd Byts', 'Bwd Seg Size Avg', 'Subflow Fwd Pkts'], 'Normal sample 412': ['SYN Flag Cnt', 'Bwd IAT Std', 'Bwd IAT Max', 'Bwd IAT Tot', 'TotLen Fwd Pkts', 'Bwd PSH Flags', 'Subflow Bwd Pkts', 'Active Max', 'Bwd IAT Mean', 'Flow IAT Mean'], 'Normal sample 413': ['Bwd PSH Flags', 'Fwd IAT Tot', 'Down/Up Ratio', 'Subflow Bwd Pkts', 'Bwd Pkt Len Mean', 'Fwd Pkts/s', 'Pkt Len Min', 'Bwd Pkt Len Std', 'Active Std', 'Bwd Seg Size Avg'], 'Normal sample 414': ['Init Bwd Win Byts', 'Idle Mean', 'Idle Max', 'Fwd IAT Mean', 'Flow IAT Min', 'Fwd Pkt Len Std', 'Bwd Pkt Len Std', 'Bwd Seg Size Avg', 'Subflow Bwd Pkts', 'Tot Bwd Pkts'], 'Normal sample 415': ['ACK Flag Cnt', 'Bwd IAT Max', 'Bwd IAT Std', 'Bwd IAT Tot', 'Idle Min', 'Flow IAT Max', 'Flow IAT Mean', 'Active Std', 'Idle Max', 'Bwd IAT Min'], 'Normal sample 416': ['Init Bwd Win Byts', 'Bwd Seg Size Avg', 'Idle Max', 'Flow IAT Min', 'Fwd IAT Tot', 'Fwd Pkt Len Min', 'Idle Mean', 'Bwd PSH Flags', 'Bwd Pkt Len Mean', 'Tot Bwd Pkts'], 'Normal sample 417': ['Init Bwd Win Byts', 'Subflow Fwd Pkts', 'Fwd IAT Std', 'Fwd IAT Mean', 'Idle Max', 'Bwd IAT Tot', 'Idle Min', 'Active Min', 'Fwd IAT Tot', 'Active Max'], 'Normal sample 418': ['Flow Pkts/s', 'Down/Up Ratio', 'FIN Flag Cnt', 'Bwd Header Len', 'Pkt Len Max', 'Pkt Len Var', 'Pkt Len Min', 'TotLen Bwd Pkts', 'Idle Max', 'Fwd IAT Tot'], 'Normal sample 419': ['Init Bwd Win Byts', 'Fwd IAT Min', 'Bwd Pkt Len Std', 'Tot Fwd Pkts', 'Subflow Fwd Byts', 'Fwd IAT Tot', 'Fwd Pkts/s', 'Idle Max', 'Subflow Bwd Byts', 'Fwd IAT Mean'], 'Normal sample 420': ['SYN Flag Cnt', 'Fwd Pkt Len Mean', 'Bwd Pkt Len Mean', 'PSH Flag Cnt', 'Bwd Pkt Len Std', 'Fwd IAT Max', 'Bwd IAT Mean', 'Pkt Len Var', 'Bwd Pkt Len Max', 'Fwd Act Data Pkts'], 'Normal sample 421': ['Init Bwd Win Byts', 'Idle Mean', 'Flow IAT Std', 'Fwd IAT Std', 'Subflow Fwd Pkts', 'Fwd Header Len', 'Fwd IAT Tot', 'Bwd Seg Size Avg', 'Fwd Pkt Len Max', 'Fwd IAT Max'], 'Normal sample 422': ['Init Bwd Win Byts', 'Bwd Seg Size Avg', 'Bwd Pkt Len Mean', 'Tot Bwd Pkts', 'TotLen Fwd Pkts', 'TotLen Bwd Pkts', 'Fwd Pkt Len Std', 'Bwd Pkt Len Max', 'Bwd Pkt Len Std', 'Flow Pkts/s'], 'Normal sample 423': ['Init Bwd Win Byts', 'Bwd IAT Max', 'Subflow Fwd Pkts', 'Fwd IAT Min', 'Fwd Header Len', 'Tot Bwd Pkts', 'Tot Fwd Pkts', 'TotLen Bwd Pkts', 'Bwd Pkt Len Max', 'Bwd Pkt Len Mean'], 'Normal sample 424': ['Down/Up Ratio', 'Init Bwd Win Byts', 'Bwd Pkt Len Mean', 'Idle Max', 'Fwd Pkt Len Mean', 'Bwd Pkt Len Max', 'Idle Std', 'Active Min', 'Fwd Seg Size Avg', 'Bwd Seg Size Avg'], 'Normal sample 425': ['Init Bwd Win Byts', 'Bwd Pkt Len Std', 'Bwd Pkt Len Mean', 'Flow Pkts/s', 'TotLen Fwd Pkts', 'Tot Fwd Pkts', 'Active Mean', 'Subflow Bwd Byts', 'Flow Duration', 'Bwd Pkt Len Max'], 'Normal sample 426': ['Down/Up Ratio', 'Pkt Len Mean', 'Pkt Len Std', 'Pkt Len Min', 'Flow Pkts/s', 'Fwd IAT Max', 'Fwd Pkt Len Std', 'Fwd Pkt Len Max', 'Fwd Pkt Len Mean', 'Fwd Seg Size Avg'], 'Normal sample 427': ['ACK Flag Cnt', 'Bwd IAT Std', 'Bwd IAT Max', 'Active Min', 'Bwd Pkt Len Std', 'Subflow Bwd Byts', 'Flow IAT Min', 'Tot Fwd Pkts', 'Bwd Pkt Len Mean', 'Bwd IAT Tot'], 'Normal sample 428': ['Bwd PSH Flags', 'TotLen Bwd Pkts', 'Fwd IAT Tot', 'Down/Up Ratio', 'Bwd Pkt Len Min', 'Bwd Pkt Len Mean', 'Active Min', 'Pkt Len Max', 'Bwd Header Len', 'Flow Duration'], 'Normal sample 429': ['Flow Pkts/s', 'Pkt Len Max', 'Pkt Len Std', 'Pkt Len Mean', 'Fwd IAT Tot', 'Fwd Pkt Len Mean', 'Pkt Size Avg', 'Active Mean', 'Fwd Pkt Len Max', 'Fwd IAT Mean'], 'Normal sample 430': ['Init Bwd Win Byts', 'Bwd Pkt Len Std', 'Fwd Header Len', 'Bwd Pkt Len Mean', 'Fwd IAT Mean', 'Fwd IAT Min', 'Flow IAT Mean', 'Idle Mean', 'Idle Max', 'Bwd Pkt Len Max'], 'Normal sample 431': ['Init Bwd Win Byts', 'Flow IAT Min', 'Fwd IAT Max', 'Bwd Header Len', 'Idle Min', 'Bwd Pkt Len Max', 'Bwd IAT Min', 'Bwd IAT Tot', 'Fwd IAT Min', 'Fwd IAT Std'], 'Normal sample 432': ['Flow Pkts/s', 'Down/Up Ratio', 'Pkt Len Min', 'Bwd Pkt Len Mean', 'Pkt Len Mean', 'Fwd IAT Tot', 'PSH Flag Cnt', 'Flow IAT Min', 'Bwd Pkt Len Min', 'FIN Flag Cnt'], 'Normal sample 433': ['Tot Bwd Pkts', 'Idle Max', 'Idle Min', 'Init Bwd Win Byts', 'Pkt Len Var', 'Bwd IAT Min', 'Fwd IAT Max', 'Idle Mean', 'Fwd IAT Std', 'Active Mean'], 'Normal sample 434': ['Init Bwd Win Byts', 'Tot Bwd Pkts', 'Fwd Header Len', 'Active Min', 'Bwd Header Len', 'Bwd Pkt Len Max', 'Fwd IAT Std', 'Idle Min', 'Fwd Act Data Pkts', 'Fwd IAT Tot'], 'Normal sample 435': ['Bwd PSH Flags', 'Bwd IAT Std', 'Tot Fwd Pkts', 'Tot Bwd Pkts', 'Bwd IAT Max', 'Bwd IAT Tot', 'Idle Max', 'ACK Flag Cnt', 'Bwd Pkt Len Min', 'Idle Mean'], 'Normal sample 436': ['Pkt Len Std', 'Fwd IAT Tot', 'Flow Pkts/s', 'Fwd Pkt Len Std', 'Fwd Seg Size Avg', 'Pkt Len Mean', 'Pkt Size Avg', 'Fwd IAT Max', 'Pkt Len Max', 'PSH Flag Cnt'], 'Normal sample 437': ['Init Bwd Win Byts', 'TotLen Fwd Pkts', 'Bwd Pkt Len Max', 'Idle Std', 'Subflow Bwd Byts', 'Fwd IAT Std', 'Fwd IAT Tot', 'Active Std', 'PSH Flag Cnt', 'Bwd IAT Max'], 'Normal sample 438': ['SYN Flag Cnt', 'Bwd IAT Max', 'Bwd IAT Tot', 'Subflow Fwd Pkts', 'Bwd Pkt Len Max', 'Idle Std', 'Active Std', 'Idle Max', 'Fwd Pkt Len Min', 'Bwd IAT Std'], 'Normal sample 439': ['SYN Flag Cnt', 'Bwd Pkt Len Max', 'Bwd IAT Std', 'Bwd Pkt Len Std', 'Bwd IAT Max', 'TotLen Fwd Pkts', 'Idle Max', 'Bwd Pkt Len Mean', 'Fwd Pkts/s', 'Fwd Pkt Len Min'], 'Normal sample 440': ['ACK Flag Cnt', 'Bwd IAT Std', 'Bwd IAT Max', 'Bwd IAT Tot', 'Active Mean', 'Active Min', 'Fwd Act Data Pkts', 'Bwd Pkt Len Max', 'Bwd IAT Mean', 'Subflow Fwd Pkts'], 'Normal sample 441': ['Init Bwd Win Byts', 'Bwd Pkt Len Mean', 'Bwd IAT Max', 'Fwd IAT Max', 'Fwd Pkt Len Std', 'Subflow Bwd Byts', 'Fwd IAT Std', 'Idle Max', 'Idle Min', 'Flow IAT Min'], 'Normal sample 442': ['Init Bwd Win Byts', 'Fwd Header Len', 'Bwd Seg Size Avg', 'Idle Mean', 'Tot Fwd Pkts', 'Fwd Pkt Len Max', 'Flow Duration', 'Bwd Header Len', 'Pkt Len Var', 'Bwd Pkt Len Std'], 'Normal sample 443': ['SYN Flag Cnt', 'Bwd Pkt Len Max', 'Flow IAT Max', 'TotLen Fwd Pkts', 'Bwd IAT Mean', 'Flow Duration', 'Tot Fwd Pkts', 'Tot Bwd Pkts', 'TotLen Bwd Pkts', 'Fwd Pkt Len Max'], 'Normal sample 444': ['Pkt Len Max', 'Pkt Len Std', 'Flow Pkts/s', 'Pkt Size Avg', 'Pkt Len Min', 'Pkt Len Mean', 'Fwd IAT Tot', 'PSH Flag Cnt', 'Fwd Pkt Len Std', 'Pkt Len Var'], 'Normal sample 445': ['Init Bwd Win Byts', 'Fwd Pkt Len Std', 'Bwd Pkt Len Mean', 'Idle Mean', 'Subflow Bwd Pkts', 'Tot Bwd Pkts', 'Idle Min', 'Bwd IAT Max', 'Tot Fwd Pkts', 'TotLen Bwd Pkts'], 'Normal sample 446': ['Init Bwd Win Byts', 'Bwd IAT Tot', 'Tot Bwd Pkts', 'Bwd Pkt Len Max', 'Subflow Fwd Pkts', 'Idle Min', 'TotLen Fwd Pkts', 'Active Min', 'Bwd Pkt Len Std', 'Fwd Header Len'], 'Normal sample 447': ['Pkt Len Min', 'Flow Pkts/s', 'Bwd Pkt Len Min', 'Pkt Size Avg', 'Fwd Pkt Len Max', 'Pkt Len Max', 'Fwd Pkt Len Std', 'Fwd Pkt Len Mean', 'Fwd Seg Size Avg', 'Fwd IAT Max'], 'Normal sample 448': ['SYN Flag Cnt', 'Bwd IAT Max', 'Bwd IAT Tot', 'Bwd IAT Std', 'Fwd Seg Size Avg', 'Flow Byts/s', 'Pkt Len Min', 'Fwd IAT Min', 'Bwd Pkt Len Max', 'Tot Bwd Pkts'], 'Normal sample 449': ['Init Bwd Win Byts', 'Fwd IAT Max', 'PSH Flag Cnt', 'Subflow Bwd Byts', 'Flow Duration', 'Tot Fwd Pkts', 'Tot Bwd Pkts', 'TotLen Bwd Pkts', 'Fwd Pkt Len Min', 'Fwd Pkt Len Std'], 'Normal sample 450': ['Init Bwd Win Byts', 'Flow IAT Min', 'Fwd IAT Min', 'Idle Max', 'Fwd Header Len', 'Fwd Pkt Len Max', 'Subflow Bwd Pkts', 'Pkt Size Avg', 'Idle Mean', 'Down/Up Ratio'], 'Normal sample 451': ['Init Bwd Win Byts', 'Fwd IAT Mean', 'Idle Mean', 'Subflow Fwd Pkts', 'TotLen Bwd Pkts', 'Idle Min', 'Active Max', 'Flow Duration', 'Tot Fwd Pkts', 'Tot Bwd Pkts'], 'Normal sample 452': ['SYN Flag Cnt', 'Bwd Pkt Len Max', 'Fwd Act Data Pkts', 'Idle Mean', 'Flow Pkts/s', 'Bwd IAT Max', 'Down/Up Ratio', 'Pkt Len Var', 'Tot Fwd Pkts', 'Tot Bwd Pkts'], 'Normal sample 453': ['Flow Pkts/s', 'Down/Up Ratio', 'FIN Flag Cnt', 'Fwd IAT Max', 'Fwd Seg Size Avg', 'Pkt Len Std', 'Pkt Size Avg', 'Fwd Act Data Pkts', 'Pkt Len Min', 'Flow IAT Std'], 'Normal sample 454': ['Down/Up Ratio', 'Pkt Len Mean', 'Flow Pkts/s', 'Pkt Len Min', 'Pkt Len Std', 'Fwd Pkt Len Max', 'Fwd Pkt Len Std', 'Fwd Pkt Len Mean', 'Pkt Len Max', 'Fwd IAT Max'], 'Normal sample 455': ['Down/Up Ratio', 'Flow Duration', 'Tot Fwd Pkts', 'TotLen Fwd Pkts', 'TotLen Bwd Pkts', 'Fwd Pkt Len Min', 'Bwd Pkt Len Min', 'Bwd Pkt Len Std', 'Flow Byts/s', 'Flow IAT Mean'], 'Normal sample 456': ['Down/Up Ratio', 'Flow Pkts/s', 'Pkt Len Min', 'Pkt Len Std', 'Fwd Pkt Len Std', 'Bwd Pkt Len Min', 'PSH Flag Cnt', 'Fwd Pkt Len Max', 'Pkt Size Avg', 'Pkt Len Mean'], 'Normal sample 457': ['Init Bwd Win Byts', 'Bwd Pkt Len Mean', 'Fwd IAT Max', 'Active Min', 'TotLen Fwd Pkts', 'Bwd Pkt Len Std', 'Tot Bwd Pkts', 'Bwd Seg Size Avg', 'Flow Duration', 'Tot Fwd Pkts'], 'Normal sample 458': ['Init Bwd Win Byts', 'TotLen Fwd Pkts', 'Idle Min', 'Fwd IAT Tot', 'Pkt Len Var', 'Idle Max', 'Bwd Pkt Len Mean', 'Subflow Bwd Pkts', 'Fwd IAT Std', 'Flow IAT Min'], 'Normal sample 459': ['Bwd Pkts/s', 'FIN Flag Cnt', 'Pkt Len Min', 'PSH Flag Cnt', 'Pkt Len Max', 'Bwd Pkt Len Min', 'Fwd IAT Min', 'Bwd Header Len', 'Pkt Size Avg', 'Fwd Act Data Pkts'], 'Normal sample 460': ['SYN Flag Cnt', 'Bwd Pkt Len Max', 'FIN Flag Cnt', 'Fwd Pkt Len Min', 'Tot Fwd Pkts', 'Subflow Bwd Pkts', 'Tot Bwd Pkts', 'TotLen Bwd Pkts', 'Fwd Pkt Len Mean', 'Bwd Pkt Len Min'], 'Normal sample 461': ['Bwd Pkt Len Max', 'Bwd PSH Flags', 'Fwd Act Data Pkts', 'Subflow Bwd Byts', 'Subflow Bwd Pkts', 'Flow IAT Min', 'FIN Flag Cnt', 'Pkt Len Var', 'SYN Flag Cnt', 'Fwd Pkt Len Min'], 'Normal sample 462': ['Down/Up Ratio', 'Flow Pkts/s', 'Fwd Pkt Len Max', 'Idle Max', 'FIN Flag Cnt', 'Flow Duration', 'Fwd Pkt Len Min', 'Pkt Size Avg', 'Fwd IAT Tot', 'Pkt Len Mean'], 'Normal sample 463': ['Init Bwd Win Byts', 'Subflow Bwd Pkts', 'Fwd IAT Mean', 'Fwd IAT Max', 'Bwd Seg Size Avg', 'Bwd Header Len', 'Bwd Pkt Len Mean', 'Bwd IAT Min', 'Idle Max', 'Fwd Pkt Len Max'], 'Normal sample 464': ['Init Bwd Win Byts', 'Flow Duration', 'Tot Fwd Pkts', 'Tot Bwd Pkts', 'TotLen Fwd Pkts', 'Fwd Pkt Len Std', 'Bwd Pkt Len Max', 'Bwd Pkt Len Mean', 'Bwd Pkt Len Std', 'Flow Pkts/s'], 'Normal sample 465': ['Init Bwd Win Byts', 'Fwd IAT Tot', 'Fwd Act Data Pkts', 'Idle Min', 'Flow IAT Mean', 'Idle Max', 'Fwd IAT Min', 'TotLen Bwd Pkts', 'Subflow Fwd Byts', 'Bwd Seg Size Avg'], 'Normal sample 466': ['Init Bwd Win Byts', 'Idle Max', 'Bwd IAT Min', 'Fwd IAT Std', 'Bwd Header Len', 'Bwd Pkt Len Mean', 'Flow IAT Min', 'Fwd IAT Mean', 'Idle Min', 'Fwd IAT Min'], 'Normal sample 467': ['SYN Flag Cnt', 'Bwd Pkt Len Std', 'Idle Min', 'Idle Max', 'Bwd Pkt Len Mean', 'Tot Fwd Pkts', 'Tot Bwd Pkts', 'TotLen Bwd Pkts', 'Fwd Pkt Len Mean', 'Bwd Pkt Len Min'], 'Normal sample 468': ['Bwd IAT Tot', 'ACK Flag Cnt', 'Bwd IAT Max', 'Bwd IAT Std', 'Idle Max', 'Idle Min', 'Idle Mean', 'Flow IAT Mean', 'Subflow Fwd Byts', 'Flow IAT Max'], 'Normal sample 469': ['Init Bwd Win Byts', 'Bwd Pkt Len Max', 'Idle Max', 'Idle Min', 'Subflow Bwd Pkts', 'Idle Std', 'Fwd Header Len', 'Flow IAT Min', 'Flow IAT Std', 'Bwd Header Len'], 'Normal sample 470': ['Pkt Len Min', 'Bwd PSH Flags', 'Subflow Fwd Pkts', 'Subflow Fwd Byts', 'Flow Duration', 'Pkt Len Std', 'Fwd IAT Min', 'Pkt Len Mean', 'Fwd Pkt Len Max', 'Fwd Pkt Len Std'], 'Normal sample 471': ['Bwd PSH Flags', 'Bwd Pkt Len Min', 'Bwd Pkt Len Mean', 'Fwd IAT Tot', 'Pkt Len Var', 'Pkt Len Max', 'Pkt Len Min', 'Bwd Pkt Len Max', 'Bwd IAT Min', 'Fwd IAT Max'], 'Normal sample 472': ['Init Bwd Win Byts', 'Idle Max', 'Subflow Fwd Byts', 'Flow Duration', 'Tot Bwd Pkts', 'TotLen Fwd Pkts', 'TotLen Bwd Pkts', 'Bwd Pkt Len Std', 'Flow Pkts/s', 'Flow IAT Std'], 'Normal sample 473': ['Init Bwd Win Byts', 'Bwd Seg Size Avg', 'Idle Min', 'Bwd IAT Min', 'Tot Fwd Pkts', 'Fwd IAT Min', 'Fwd IAT Max', 'Bwd Header Len', 'Flow IAT Std', 'Active Mean'], 'Normal sample 474': ['SYN Flag Cnt', 'Bwd IAT Std', 'Bwd IAT Max', 'Bwd IAT Tot', 'Pkt Len Var', 'Bwd IAT Min', 'Tot Bwd Pkts', 'Subflow Fwd Byts', 'Fwd Act Data Pkts', 'Fwd Header Len'], 'Normal sample 475': ['Flow Pkts/s', 'Pkt Len Std', 'Pkt Len Max', 'Pkt Size Avg', 'Pkt Len Mean', 'Pkt Len Min', 'Fwd IAT Max', 'Fwd Pkt Len Std', 'Bwd IAT Max', 'Flow IAT Std'], 'Normal sample 476': ['Flow Pkts/s', 'Pkt Len Std', 'Pkt Len Max', 'Pkt Len Mean', 'Pkt Size Avg', 'Fwd Pkt Len Mean', 'Pkt Len Min', 'Active Max', 'Tot Bwd Pkts', 'Fwd Pkt Len Max'], 'Normal sample 477': ['Bwd Pkt Len Max', 'Bwd Header Len', 'Subflow Bwd Pkts', 'Tot Bwd Pkts', 'Subflow Bwd Byts', 'SYN Flag Cnt', 'Fwd Seg Size Avg', 'Bwd IAT Tot', 'TotLen Bwd Pkts', 'Bwd PSH Flags'], 'Normal sample 478': ['Init Bwd Win Byts', 'Fwd Pkt Len Max', 'TotLen Bwd Pkts', 'Fwd IAT Max', 'Tot Fwd Pkts', 'Active Std', 'Idle Min', 'Idle Max', 'Bwd Pkt Len Max', 'Fwd Act Data Pkts'], 'Normal sample 479': ['Init Bwd Win Byts', 'Bwd Pkt Len Mean', 'Tot Bwd Pkts', 'Fwd Pkt Len Std', 'Fwd Header Len', 'Fwd IAT Tot', 'Bwd IAT Tot', 'Fwd Act Data Pkts', 'Bwd Pkt Len Std', 'Tot Fwd Pkts'], 'Normal sample 480': ['Down/Up Ratio', 'TotLen Fwd Pkts', 'Tot Fwd Pkts', 'Tot Bwd Pkts', 'TotLen Bwd Pkts', 'Fwd Pkt Len Min', 'Bwd Pkt Len Mean', 'Bwd Pkt Len Std', 'Flow IAT Min', 'Fwd IAT Min'], 'Normal sample 481': ['Fwd IAT Max', 'Init Bwd Win Byts', 'Idle Min', 'Bwd IAT Min', 'Idle Max', 'Pkt Len Var', 'Fwd Header Len', 'Flow IAT Mean', 'Active Max', 'Idle Mean'], 'Normal sample 482': ['SYN Flag Cnt', 'Bwd IAT Min', 'Flow Duration', 'Tot Fwd Pkts', 'Tot Bwd Pkts', 'TotLen Fwd Pkts', 'TotLen Bwd Pkts', 'Fwd Pkt Len Min', 'Fwd Pkt Len Mean', 'Bwd Pkt Len Max'], 'Normal sample 483': ['Init Bwd Win Byts', 'Bwd Seg Size Avg', 'Fwd IAT Std', 'Bwd Pkt Len Mean', 'Flow IAT Std', 'Subflow Fwd Byts', 'Idle Max', 'Fwd IAT Max', 'Active Min', 'Fwd Pkt Len Min'], 'Normal sample 484': ['Init Bwd Win Byts', 'Idle Min', 'Flow Duration', 'Tot Fwd Pkts', 'Tot Bwd Pkts', 'TotLen Fwd Pkts', 'TotLen Bwd Pkts', 'Fwd Pkt Len Max', 'Fwd Pkt Len Std', 'Bwd Pkt Len Max'], 'Normal sample 485': ['Flow Pkts/s', 'Down/Up Ratio', 'Pkt Len Max', 'Pkt Len Mean', 'Pkt Len Min', 'Fwd IAT Max', 'Fwd Pkt Len Max', 'Pkt Len Std', 'Fwd Seg Size Avg', 'Pkt Size Avg'], 'Normal sample 486': ['Flow Pkts/s', 'Pkt Len Std', 'Pkt Len Max', 'Pkt Len Mean', 'Fwd Pkt Len Max', 'Pkt Size Avg', 'Active Std', 'Bwd Pkt Len Min', 'Fwd IAT Max', 'Fwd Seg Size Avg'], 'Normal sample 487': ['Flow IAT Min', 'Init Bwd Win Byts', 'Flow IAT Mean', 'Fwd IAT Min', 'Pkt Len Max', 'Bwd Pkt Len Max', 'Fwd Pkt Len Max', 'Subflow Fwd Byts', 'Fwd Act Data Pkts', 'Flow Byts/s'], 'Normal sample 488': ['SYN Flag Cnt', 'Idle Min', 'Pkt Len Min', 'Pkt Len Std', 'Bwd Pkt Len Min', 'Tot Fwd Pkts', 'Tot Bwd Pkts', 'TotLen Fwd Pkts', 'Bwd Pkt Len Max', 'Bwd Pkt Len Mean'], 'Normal sample 489': ['SYN Flag Cnt', 'Bwd IAT Max', 'Bwd IAT Std', 'Fwd IAT Min', 'Tot Fwd Pkts', 'TotLen Fwd Pkts', 'Fwd Pkt Len Min', 'Bwd Pkt Len Min', 'Flow Byts/s', 'Flow IAT Min'], 'Normal sample 490': ['Flow Pkts/s', 'Pkt Size Avg', 'Pkt Len Mean', 'Pkt Len Min', 'Fwd Pkt Len Max', 'Pkt Len Max', 'Pkt Len Std', 'Fwd Seg Size Avg', 'Idle Max', 'Fwd Pkt Len Mean'], 'Normal sample 491': ['Bwd PSH Flags', 'Down/Up Ratio', 'FIN Flag Cnt', 'Fwd IAT Mean', 'Fwd Pkt Len Max', 'Active Min', 'Fwd Act Data Pkts', 'Bwd IAT Mean', 'Active Std', 'Bwd Pkt Len Std'], 'Normal sample 492': ['SYN Flag Cnt', 'ACK Flag Cnt', 'Subflow Bwd Byts', 'Pkt Len Min', 'Flow Byts/s', 'Flow Duration', 'Tot Fwd Pkts', 'Tot Bwd Pkts', 'Fwd Pkt Len Min', 'Bwd Pkt Len Mean'], 'Normal sample 493': ['Init Bwd Win Byts', 'Bwd Seg Size Avg', 'Active Std', 'TotLen Fwd Pkts', 'Tot Fwd Pkts', 'Bwd IAT Max', 'Active Min', 'Bwd IAT Min', 'Idle Mean', 'Idle Min'], 'Normal sample 494': ['Init Bwd Win Byts', 'Fwd Pkt Len Std', 'TotLen Bwd Pkts', 'Bwd Pkt Len Max', 'Subflow Fwd Byts', 'Subflow Bwd Pkts', 'Flow IAT Min', 'Fwd Pkt Len Min', 'Idle Mean', 'Fwd IAT Min'], 'Normal sample 495': ['Init Bwd Win Byts', 'Fwd IAT Max', 'Fwd IAT Tot', 'Flow Duration', 'Fwd IAT Std', 'Bwd IAT Max', 'Idle Max', 'Active Min', 'Flow Byts/s', 'Active Std'], 'Normal sample 496': ['Init Bwd Win Byts', 'Bwd Pkt Len Std', 'Fwd IAT Max', 'Flow Byts/s', 'Fwd IAT Std', 'Bwd IAT Tot', 'Fwd Header Len', 'Subflow Bwd Byts', 'TotLen Fwd Pkts', 'Active Mean'], 'Normal sample 497': ['Init Bwd Win Byts', 'Fwd Pkts/s', 'Subflow Bwd Pkts', 'Fwd IAT Tot', 'Fwd Pkt Len Max', 'TotLen Fwd Pkts', 'Tot Bwd Pkts', 'Idle Max', 'Idle Min', 'Fwd IAT Max'], 'Normal sample 498': ['Pkt Len Max', 'Flow Pkts/s', 'Fwd Pkt Len Max', 'Pkt Len Std', 'Pkt Len Mean', 'Fwd Pkt Len Std', 'Pkt Len Min', 'Fwd Pkt Len Mean', 'Fwd Seg Size Avg', 'Pkt Size Avg'], 'Normal sample 499': ['Init Bwd Win Byts', 'Fwd IAT Tot', 'Subflow Bwd Pkts', 'Flow Duration', 'Tot Fwd Pkts', 'Tot Bwd Pkts', 'TotLen Fwd Pkts', 'TotLen Bwd Pkts', 'Bwd Pkt Len Max', 'Bwd Pkt Len Min'], 'Normal sample 500': ['Init Bwd Win Byts', 'Idle Max', 'Bwd Seg Size Avg', 'Fwd Header Len', 'Bwd IAT Tot', 'Fwd IAT Mean', 'Idle Mean', 'Fwd Act Data Pkts', 'Fwd IAT Tot', 'Fwd IAT Std'], 'Normal sample 501': ['Idle Mean', 'Init Bwd Win Byts', 'Idle Max', 'Fwd Act Data Pkts', 'Idle Min', 'Tot Fwd Pkts', 'Flow IAT Min', 'Flow IAT Max', 'Flow IAT Mean', 'Fwd IAT Max'], 'Normal sample 502': ['Init Bwd Win Byts', 'Fwd IAT Max', 'Bwd Pkt Len Max', 'Subflow Bwd Pkts', 'Bwd Seg Size Avg', 'TotLen Fwd Pkts', 'TotLen Bwd Pkts', 'Fwd Pkt Len Max', 'Fwd Pkt Len Min', 'Bwd Pkt Len Mean'], 'Normal sample 503': ['Init Bwd Win Byts', 'Idle Min', 'Bwd Pkt Len Max', 'Fwd Pkt Len Max', 'Tot Bwd Pkts', 'Fwd IAT Max', 'Bwd Pkt Len Std', 'TotLen Fwd Pkts', 'Bwd Header Len', 'Fwd Pkt Len Min'], 'Normal sample 504': ['Down/Up Ratio', 'Flow Pkts/s', 'Pkt Len Min', 'Pkt Len Mean', 'Pkt Size Avg', 'Fwd Pkt Len Max', 'Subflow Fwd Pkts', 'Fwd Pkt Len Mean', 'Pkt Len Std', 'Fwd IAT Tot'], 'Normal sample 505': ['SYN Flag Cnt', 'Bwd IAT Max', 'Bwd IAT Std', 'Idle Max', 'Idle Min', 'Fwd Pkts/s', 'TotLen Fwd Pkts', 'Idle Mean', 'Bwd IAT Mean', 'Flow IAT Mean'], 'Normal sample 506': ['Down/Up Ratio', 'Pkt Len Max', 'Flow Pkts/s', 'Pkt Len Mean', 'Idle Min', 'Pkt Len Min', 'PSH Flag Cnt', 'Pkt Size Avg', 'Pkt Len Std', 'Fwd Pkt Len Max'], 'Normal sample 507': ['Init Bwd Win Byts', 'Bwd Pkt Len Max', 'TotLen Bwd Pkts', 'Bwd Pkt Len Std', 'Flow IAT Max', 'Subflow Fwd Pkts', 'Active Min', 'Flow Duration', 'Tot Fwd Pkts', 'Tot Bwd Pkts'], 'Normal sample 508': ['Init Bwd Win Byts', 'Subflow Bwd Pkts', 'Idle Min', 'Active Mean', 'Fwd Pkts/s', 'Idle Mean', 'Subflow Bwd Byts', 'Idle Max', 'Fwd IAT Mean', 'Bwd Pkt Len Std'], 'Normal sample 509': ['Init Bwd Win Byts', 'Idle Min', 'Tot Bwd Pkts', 'Subflow Fwd Pkts', 'Idle Mean', 'Fwd IAT Mean', 'Idle Max', 'Flow Byts/s', 'Fwd IAT Max', 'Flow Duration'], 'Normal sample 510': ['Init Bwd Win Byts', 'Idle Min', 'Idle Mean', 'TotLen Fwd Pkts', 'Fwd IAT Tot', 'Subflow Fwd Byts', 'Fwd Header Len', 'Fwd IAT Max', 'Tot Fwd Pkts', 'Fwd IAT Min'], 'Normal sample 511': ['Init Bwd Win Byts', 'Bwd IAT Mean', 'Fwd IAT Max', 'Flow IAT Min', 'TotLen Bwd Pkts', 'Subflow Bwd Byts', 'TotLen Fwd Pkts', 'Idle Mean', 'Bwd IAT Max', 'Fwd IAT Tot'], 'Normal sample 512': ['Bwd PSH Flags', 'Down/Up Ratio', 'Pkt Len Min', 'Fwd IAT Mean', 'Pkt Len Var', 'Bwd IAT Min', 'Fwd IAT Tot', 'Flow Pkts/s', 'Bwd Pkt Len Std', 'Flow IAT Min'], 'Normal sample 513': ['ACK Flag Cnt', 'Bwd IAT Std', 'Bwd IAT Max', 'Flow IAT Mean', 'Tot Fwd Pkts', 'Bwd IAT Tot', 'Flow IAT Std', 'Bwd IAT Mean', 'Flow IAT Min', 'Fwd Act Data Pkts'], 'Normal sample 514': ['Init Bwd Win Byts', 'Bwd Pkt Len Mean', 'Idle Mean', 'Fwd IAT Std', 'TotLen Fwd Pkts', 'Subflow Bwd Pkts', 'Subflow Bwd Byts', 'Idle Min', 'Bwd Seg Size Avg', 'Idle Max'], 'Normal sample 515': ['Init Bwd Win Byts', 'Bwd Seg Size Avg', 'Fwd IAT Tot', 'Active Min', 'Idle Min', 'Tot Bwd Pkts', 'Bwd Pkt Len Max', 'Idle Max', 'Active Std', 'Bwd IAT Max'], 'Normal sample 516': ['SYN Flag Cnt', 'TotLen Fwd Pkts', 'Active Std', 'Idle Max', 'Fwd IAT Mean', 'Subflow Bwd Byts', 'Idle Min', 'PSH Flag Cnt', 'ACK Flag Cnt', 'Bwd IAT Std'], 'Normal sample 517': ['Init Bwd Win Byts', 'Bwd PSH Flags', 'Bwd Pkt Len Mean', 'Idle Std', 'Pkt Len Var', 'Fwd IAT Max', 'Bwd Seg Size Avg', 'Subflow Fwd Byts', 'Idle Max', 'Bwd Pkt Len Std'], 'Normal sample 518': ['SYN Flag Cnt', 'Bwd Pkt Len Max', 'Bwd Pkt Len Std', 'Down/Up Ratio', 'Bwd IAT Max', 'Bwd IAT Std', 'Bwd IAT Tot', 'Idle Max', 'Bwd Seg Size Avg', 'Pkt Len Min'], 'Normal sample 519': ['Init Bwd Win Byts', 'Tot Fwd Pkts', 'Tot Bwd Pkts', 'TotLen Fwd Pkts', 'TotLen Bwd Pkts', 'Fwd Pkt Len Min', 'Bwd Pkt Len Max', 'Bwd Pkt Len Min', 'Bwd Pkt Len Mean', 'Bwd Pkt Len Std'], 'Normal sample 520': ['SYN Flag Cnt', 'Bwd IAT Std', 'Bwd IAT Max', 'Idle Max', 'Bwd Header Len', 'Flow IAT Mean', 'Bwd Pkt Len Min', 'Flow IAT Max', 'Bwd Pkt Len Max', 'Fwd Header Len'], 'Normal sample 521': ['Init Bwd Win Byts', 'TotLen Bwd Pkts', 'Pkt Len Var', 'Flow Duration', 'Tot Fwd Pkts', 'Tot Bwd Pkts', 'TotLen Fwd Pkts', 'Fwd Pkt Len Min', 'Bwd Pkt Len Min', 'Bwd Pkt Len Std'], 'Normal sample 522': ['Init Bwd Win Byts', 'Bwd IAT Mean', 'Active Max', 'Fwd IAT Std', 'Fwd Pkts/s', 'Fwd Pkt Len Std', 'TotLen Bwd Pkts', 'Subflow Bwd Pkts', 'Bwd Header Len', 'Tot Fwd Pkts'], 'Normal sample 523': ['Init Bwd Win Byts', 'Tot Fwd Pkts', 'Tot Bwd Pkts', 'TotLen Fwd Pkts', 'TotLen Bwd Pkts', 'Bwd Pkt Len Max', 'Bwd Pkt Len Min', 'Flow IAT Mean', 'Flow IAT Min', 'Fwd IAT Tot'], 'Normal sample 524': ['Init Bwd Win Byts', 'Fwd IAT Min', 'Bwd Seg Size Avg', 'Flow Duration', 'Bwd PSH Flags', 'Subflow Bwd Pkts', 'Bwd Pkt Len Std', 'Fwd IAT Mean', 'Fwd Pkt Len Min', 'Tot Fwd Pkts'], 'Normal sample 525': ['Init Bwd Win Byts', 'Fwd IAT Std', 'Bwd Seg Size Avg', 'Bwd IAT Min', 'Pkt Len Var', 'Idle Min', 'Fwd Header Len', 'Subflow Fwd Byts', 'Bwd Pkt Len Std', 'Fwd Pkt Len Std'], 'Normal sample 526': ['SYN Flag Cnt', 'Bwd Pkt Len Max', 'Idle Max', 'TotLen Bwd Pkts', 'Tot Bwd Pkts', 'Fwd Pkt Len Min', 'Flow Byts/s', 'Flow IAT Mean', 'Flow IAT Std', 'Flow IAT Min'], 'Normal sample 527': ['SYN Flag Cnt', 'ACK Flag Cnt', 'Bwd IAT Tot', 'Tot Fwd Pkts', 'Tot Bwd Pkts', 'Bwd IAT Min', 'Fwd Pkts/s', 'Idle Max', 'Pkt Len Min', 'Idle Mean'], 'Normal sample 528': ['Bwd Pkts/s', 'FIN Flag Cnt', 'Fwd Pkts/s', 'Fwd IAT Tot', 'Pkt Len Min', 'Bwd Pkt Len Min', 'TotLen Bwd Pkts', 'ACK Flag Cnt', 'Pkt Len Std', 'Flow IAT Max'], 'Normal sample 529': ['Init Bwd Win Byts', 'Idle Mean', 'Flow IAT Min', 'Bwd Seg Size Avg', 'Tot Fwd Pkts', 'Idle Max', 'Fwd IAT Std', 'Active Mean', 'Idle Min', 'Fwd IAT Tot'], 'Normal sample 530': ['Init Bwd Win Byts', 'Idle Min', 'Bwd Pkt Len Max', 'Idle Max', 'Bwd Header Len', 'Fwd IAT Max', 'Idle Mean', 'Bwd IAT Min', 'Tot Bwd Pkts', 'Flow IAT Mean'], 'Normal sample 531': ['Init Bwd Win Byts', 'Idle Min', 'Active Max', 'Fwd IAT Mean', 'Tot Bwd Pkts', 'TotLen Bwd Pkts', 'Subflow Fwd Pkts', 'Flow Duration', 'Tot Fwd Pkts', 'TotLen Fwd Pkts'], 'Normal sample 532': ['SYN Flag Cnt', 'Bwd Pkt Len Max', 'Active Min', 'Bwd IAT Tot', 'Idle Std', 'Bwd PSH Flags', 'Pkt Len Var', 'Bwd Pkt Len Min', 'Flow Duration', 'TotLen Fwd Pkts'], 'Normal sample 533': ['Init Bwd Win Byts', 'PSH Flag Cnt', 'Fwd IAT Tot', 'Fwd IAT Max', 'Fwd Act Data Pkts', 'Tot Bwd Pkts', 'Idle Mean', 'Idle Max', 'Fwd IAT Min', 'Subflow Bwd Pkts'], 'Normal sample 534': ['Init Bwd Win Byts', 'Bwd Pkt Len Mean', 'Fwd IAT Tot', 'Pkt Len Var', 'Idle Max', 'Fwd Pkt Len Std', 'Flow Byts/s', 'Fwd IAT Min', 'Bwd Pkt Len Std', 'Active Std'], 'Normal sample 535': ['Init Bwd Win Byts', 'Flow Byts/s', 'Fwd Act Data Pkts', 'Bwd Header Len', 'Subflow Bwd Byts', 'Bwd Pkt Len Mean', 'Fwd IAT Max', 'Tot Bwd Pkts', 'Flow Duration', 'TotLen Fwd Pkts'], 'Normal sample 536': ['Subflow Fwd Pkts', 'Init Bwd Win Byts', 'Flow IAT Min', 'Idle Mean', 'Bwd Seg Size Avg', 'Idle Max', 'Fwd IAT Std', 'Flow Pkts/s', 'Bwd IAT Max', 'TotLen Bwd Pkts'], 'Normal sample 537': ['SYN Flag Cnt', 'Bwd IAT Std', 'Bwd IAT Max', 'Bwd Pkt Len Std', 'Bwd Pkt Len Max', 'Bwd Pkt Len Mean', 'Bwd IAT Tot', 'Flow IAT Min', 'Fwd Header Len', 'Flow IAT Mean'], 'Normal sample 538': ['Init Bwd Win Byts', 'Idle Max', 'Pkt Len Var', 'Fwd IAT Max', 'Bwd PSH Flags', 'Active Std', 'TotLen Fwd Pkts', 'TotLen Bwd Pkts', 'Fwd Pkt Len Min', 'Bwd Pkt Len Max'], 'Normal sample 539': ['Init Bwd Win Byts', 'Idle Min', 'Fwd Pkts/s', 'Tot Fwd Pkts', 'Fwd IAT Std', 'Fwd Header Len', 'Fwd IAT Max', 'TotLen Bwd Pkts', 'Bwd Pkt Len Std', 'Subflow Fwd Byts'], 'Normal sample 540': ['Down/Up Ratio', 'Flow Pkts/s', 'Pkt Len Std', 'Pkt Len Mean', 'Pkt Len Var', 'Fwd Seg Size Avg', 'Pkt Len Min', 'Pkt Size Avg', 'Fwd Pkt Len Std', 'Fwd Pkt Len Max'], 'Normal sample 541': ['Init Bwd Win Byts', 'Fwd IAT Std', 'Bwd Pkt Len Std', 'Fwd IAT Tot', 'Flow IAT Max', 'Idle Mean', 'Flow IAT Min', 'Flow Duration', 'Fwd IAT Mean', 'Idle Std'], 'Normal sample 542': ['SYN Flag Cnt', 'Bwd IAT Std', 'Idle Max', 'Active Max', 'Pkt Len Min', 'Idle Mean', 'Tot Bwd Pkts', 'Fwd Header Len', 'Bwd IAT Mean', 'Bwd IAT Tot'], 'Normal sample 543': ['SYN Flag Cnt', 'Bwd Pkt Len Max', 'Idle Min', 'Bwd Pkt Len Std', 'Idle Mean', 'Bwd Pkt Len Mean', 'Bwd PSH Flags', 'Tot Fwd Pkts', 'Subflow Bwd Pkts', 'Flow Duration'], 'Normal sample 544': ['Down/Up Ratio', 'Init Bwd Win Byts', 'Bwd Pkt Len Max', 'Bwd Pkt Len Mean', 'Bwd Pkt Len Std', 'Idle Mean', 'Flow IAT Std', 'Subflow Fwd Byts', 'Idle Max', 'Active Min'], 'Normal sample 545': ['Bwd PSH Flags', 'Down/Up Ratio', 'Subflow Fwd Pkts', 'TotLen Fwd Pkts', 'Active Max', 'Bwd Pkt Len Min', 'Bwd Pkt Len Mean', 'Bwd Pkt Len Std', 'Bwd Pkt Len Max', 'Tot Fwd Pkts'], 'Normal sample 546': ['Init Bwd Win Byts', 'Flow Duration', 'Idle Mean', 'Fwd IAT Max', 'Subflow Bwd Pkts', 'Flow IAT Std', 'Bwd Pkt Len Mean', 'Fwd Header Len', 'Fwd Pkt Len Max', 'Subflow Fwd Byts'], 'Normal sample 547': ['SYN Flag Cnt', 'Bwd IAT Max', 'Bwd IAT Tot', 'Bwd IAT Std', 'Bwd Seg Size Avg', 'Subflow Bwd Byts', 'Flow Byts/s', 'Pkt Len Min', 'Flow IAT Mean', 'Idle Std'], 'Normal sample 548': ['ACK Flag Cnt', 'Bwd IAT Tot', 'Bwd IAT Max', 'Bwd IAT Std', 'Idle Mean', 'Active Max', 'Idle Max', 'Flow IAT Max', 'Bwd IAT Mean', 'Bwd PSH Flags'], 'Normal sample 549': ['Init Bwd Win Byts', 'Active Max', 'Subflow Fwd Byts', 'Fwd IAT Max', 'Tot Bwd Pkts', 'Flow IAT Min', 'Fwd Pkt Len Min', 'Flow IAT Mean', 'Bwd IAT Min', 'Bwd Pkt Len Std'], 'Normal sample 550': ['Init Bwd Win Byts', 'Bwd IAT Mean', 'Fwd Act Data Pkts', 'Idle Max', 'Idle Min', 'Active Max', 'TotLen Bwd Pkts', 'Subflow Fwd Pkts', 'Fwd Pkt Len Std', 'Subflow Bwd Byts'], 'Normal sample 551': ['Init Bwd Win Byts', 'Tot Fwd Pkts', 'Flow IAT Mean', 'Fwd Act Data Pkts', 'Fwd Header Len', 'Flow Duration', 'Idle Max', 'Bwd Seg Size Avg', 'Subflow Fwd Pkts', 'Fwd IAT Std'], 'Normal sample 552': ['Down/Up Ratio', 'Flow Pkts/s', 'Pkt Len Min', 'Pkt Size Avg', 'Pkt Len Max', 'Fwd Act Data Pkts', 'Pkt Len Std', 'Pkt Len Mean', 'Fwd Pkt Len Max', 'Fwd IAT Std'], 'Normal sample 553': ['ACK Flag Cnt', 'Bwd Pkt Len Max', 'Bwd Header Len', 'Flow IAT Mean', 'Init Bwd Win Byts', 'Flow Duration', 'Tot Fwd Pkts', 'Tot Bwd Pkts', 'TotLen Fwd Pkts', 'TotLen Bwd Pkts'], 'Normal sample 554': ['Init Bwd Win Byts', 'Idle Mean', 'Bwd Pkt Len Mean', 'Bwd Seg Size Avg', 'Idle Max', 'Idle Min', 'Subflow Fwd Pkts', 'Flow Duration', 'Tot Fwd Pkts', 'TotLen Bwd Pkts'], 'Normal sample 555': ['Bwd PSH Flags', 'Bwd IAT Std', 'Bwd IAT Max', 'Subflow Bwd Pkts', 'Tot Bwd Pkts', 'PSH Flag Cnt', 'Pkt Len Min', 'Fwd Pkts/s', 'Tot Fwd Pkts', 'TotLen Fwd Pkts'], 'Normal sample 556': ['SYN Flag Cnt', 'Bwd IAT Tot', 'Bwd IAT Std', 'Bwd IAT Max', 'Bwd IAT Min', 'Flow IAT Mean', 'Bwd IAT Mean', 'Fwd IAT Min', 'TotLen Bwd Pkts', 'Subflow Fwd Byts'], 'Normal sample 557': ['Bwd Seg Size Avg', 'Init Bwd Win Byts', 'Fwd IAT Tot', 'Subflow Fwd Pkts', 'TotLen Fwd Pkts', 'Idle Min', 'Flow Duration', 'TotLen Bwd Pkts', 'Fwd Pkt Len Std', 'Bwd Pkt Len Max'], 'Normal sample 558': ['SYN Flag Cnt', 'Fwd IAT Max', 'Active Std', 'Pkt Size Avg', 'Active Mean', 'Bwd IAT Tot', 'Pkt Len Min', 'Bwd Header Len', 'Bwd Pkt Len Max', 'Flow Byts/s'], 'Normal sample 559': ['Init Bwd Win Byts', 'Active Std', 'Bwd Pkt Len Mean', 'Flow Duration', 'Bwd Pkt Len Std', 'Bwd IAT Mean', 'Bwd Pkt Len Max', 'Fwd Pkt Len Min', 'Bwd IAT Max', 'Bwd Seg Size Avg'], 'Normal sample 560': ['Init Bwd Win Byts', 'Idle Max', 'Bwd Pkt Len Std', 'Subflow Bwd Byts', 'Idle Mean', 'Bwd Header Len', 'Flow Duration', 'Active Max', 'Subflow Fwd Byts', 'Idle Min'], 'Normal sample 561': ['Init Bwd Win Byts', 'Bwd Seg Size Avg', 'Subflow Bwd Byts', 'Tot Fwd Pkts', 'Fwd IAT Min', 'Subflow Fwd Pkts', 'Idle Std', 'Idle Max', 'Fwd IAT Max', 'Fwd Pkt Len Std'], 'Normal sample 562': ['Flow Pkts/s', 'Pkt Len Mean', 'Fwd Pkt Len Mean', 'Pkt Len Std', 'Pkt Len Max', 'Pkt Size Avg', 'Fwd IAT Max', 'Fwd Pkt Len Max', 'Pkt Len Min', 'Fwd IAT Mean'], 'Normal sample 563': ['Init Bwd Win Byts', 'Fwd IAT Min', 'Subflow Fwd Byts', 'TotLen Fwd Pkts', 'Fwd Pkt Len Min', 'Bwd Pkt Len Max', 'Bwd Pkt Len Min', 'Bwd Pkt Len Mean', 'Bwd Pkt Len Std', 'Flow Pkts/s'], 'Normal sample 564': ['Init Bwd Win Byts', 'Down/Up Ratio', 'Fwd Pkt Len Mean', 'Fwd IAT Min', 'Active Min', 'Fwd Pkt Len Max', 'Bwd Pkt Len Mean', 'Bwd Header Len', 'Flow Duration', 'Fwd Act Data Pkts'], 'Normal sample 565': ['Down/Up Ratio', 'Pkt Len Mean', 'Flow Pkts/s', 'Pkt Len Min', 'Fwd Seg Size Avg', 'Fwd Pkt Len Std', 'Pkt Len Max', 'Bwd IAT Min', 'Fwd IAT Min', 'Pkt Size Avg'], 'Normal sample 566': ['SYN Flag Cnt', 'Idle Min', 'Pkt Len Min', 'Bwd Pkt Len Max', 'Idle Mean', 'Active Std', 'Bwd Pkt Len Min', 'Bwd PSH Flags', 'Bwd Seg Size Avg', 'Tot Fwd Pkts'], 'Normal sample 567': ['SYN Flag Cnt', 'Bwd Pkt Len Max', 'Bwd IAT Max', 'Active Mean', 'Bwd IAT Std', 'Active Min', 'Bwd Pkt Len Std', 'Bwd Seg Size Avg', 'Fwd IAT Min', 'Pkt Len Var'], 'Normal sample 568': ['Init Bwd Win Byts', 'Idle Min', 'Bwd Seg Size Avg', 'Idle Max', 'Bwd Header Len', 'Bwd IAT Min', 'TotLen Fwd Pkts', 'Idle Mean', 'Fwd Pkt Len Std', 'Fwd IAT Max'], 'Normal sample 569': ['Init Bwd Win Byts', 'Idle Min', 'Idle Mean', 'Tot Fwd Pkts', 'Fwd IAT Tot', 'Active Mean', 'Bwd Seg Size Avg', 'Fwd IAT Std', 'Idle Std', 'Fwd IAT Mean'], 'Normal sample 570': ['Down/Up Ratio', 'Flow Pkts/s', 'Pkt Len Std', 'Pkt Len Mean', 'Pkt Size Avg', 'Fwd Pkt Len Std', 'Fwd Pkt Len Max', 'Pkt Len Min', 'Fwd IAT Tot', 'Active Std'], 'Normal sample 571': ['SYN Flag Cnt', 'Bwd IAT Max', 'Idle Std', 'Bwd IAT Std', 'Fwd Pkt Len Min', 'Bwd IAT Mean', 'Active Min', 'Flow IAT Mean', 'Idle Max', 'Active Max'], 'Normal sample 572': ['Init Bwd Win Byts', 'Fwd IAT Max', 'TotLen Bwd Pkts', 'Flow Duration', 'Active Std', 'Active Min', 'Tot Fwd Pkts', 'Fwd Header Len', 'Bwd Pkt Len Max', 'Flow IAT Max'], 'Normal sample 573': ['SYN Flag Cnt', 'Pkt Len Min', 'Bwd Pkt Len Max', 'Flow IAT Min', 'Idle Std', 'Bwd Header Len', 'Bwd Pkt Len Mean', 'Fwd Seg Size Avg', 'Pkt Len Var', 'Flow Duration'], 'Normal sample 574': ['Init Bwd Win Byts', 'Idle Std', 'Active Min', 'Idle Max', 'Fwd IAT Std', 'Flow Duration', 'Bwd IAT Max', 'Pkt Len Var', 'Active Mean', 'Subflow Fwd Pkts'], 'Normal sample 575': ['Flow Pkts/s', 'Pkt Len Mean', 'Pkt Size Avg', 'Pkt Len Std', 'Down/Up Ratio', 'Fwd Seg Size Avg', 'Fwd Pkt Len Std', 'Flow IAT Std', 'Pkt Len Max', 'Fwd Header Len'], 'Normal sample 576': ['Bwd IAT Tot', 'ACK Flag Cnt', 'Bwd PSH Flags', 'Bwd IAT Max', 'Bwd IAT Std', 'Active Max', 'Idle Mean', 'Idle Min', 'Flow IAT Mean', 'Idle Std'], 'Normal sample 577': ['PSH Flag Cnt', 'Init Bwd Win Byts', 'Bwd PSH Flags', 'Fwd IAT Max', 'Flow Pkts/s', 'Flow IAT Std', 'Fwd IAT Tot', 'Fwd Header Len', 'ACK Flag Cnt', 'Fwd Pkt Len Std'], 'Normal sample 578': ['SYN Flag Cnt', 'Bwd IAT Max', 'Bwd IAT Std', 'Active Mean', 'Fwd Act Data Pkts', 'Bwd Pkt Len Std', 'Bwd Pkt Len Max', 'Bwd Seg Size Avg', 'Tot Bwd Pkts', 'TotLen Fwd Pkts'], 'Normal sample 579': ['Init Bwd Win Byts', 'Bwd IAT Max', 'Fwd Pkts/s', 'Bwd Pkt Len Std', 'Bwd Header Len', 'Fwd IAT Min', 'Idle Max', 'Bwd IAT Min', 'Fwd IAT Std', 'Tot Fwd Pkts'], 'Normal sample 580': ['Init Bwd Win Byts', 'Tot Fwd Pkts', 'Fwd Act Data Pkts', 'Fwd Header Len', 'Active Std', 'Bwd Pkt Len Mean', 'Fwd IAT Tot', 'Bwd Pkt Len Std', 'Idle Min', 'TotLen Fwd Pkts'], 'Normal sample 581': ['Init Bwd Win Byts', 'Fwd Pkts/s', 'Idle Mean', 'Idle Max', 'Subflow Fwd Byts', 'Bwd Pkt Len Std', 'Fwd Header Len', 'Idle Min', 'Fwd Pkt Len Max', 'Active Max'], 'Normal sample 582': ['Init Bwd Win Byts', 'Bwd Seg Size Avg', 'Bwd Pkt Len Mean', 'Fwd Pkt Len Std', 'Bwd IAT Mean', 'Idle Std', 'Fwd IAT Max', 'Tot Bwd Pkts', 'Flow Duration', 'Tot Fwd Pkts'], 'Normal sample 583': ['Init Bwd Win Byts', 'Bwd IAT Mean', 'Subflow Bwd Pkts', 'Idle Max', 'Bwd IAT Tot', 'Bwd Pkt Len Max', 'Idle Min', 'Fwd IAT Tot', 'Fwd IAT Max', 'Fwd Act Data Pkts'], 'Normal sample 584': ['Init Bwd Win Byts', 'Bwd Pkt Len Mean', 'Fwd IAT Mean', 'Fwd IAT Min', 'Active Min', 'Subflow Bwd Pkts', 'Bwd Pkt Len Max', 'Fwd Act Data Pkts', 'Idle Max', 'Flow IAT Min'], 'Normal sample 585': ['Init Bwd Win Byts', 'Idle Mean', 'Bwd Seg Size Avg', 'Subflow Fwd Byts', 'Bwd IAT Mean', 'Fwd Pkt Len Std', 'Idle Max', 'Active Min', 'Bwd Pkt Len Mean', 'Fwd IAT Tot'], 'Normal sample 586': ['Init Bwd Win Byts', 'Fwd IAT Tot', 'Bwd Pkt Len Mean', 'Bwd IAT Min', 'Fwd Header Len', 'Idle Std', 'Idle Min', 'Bwd IAT Mean', 'Flow Duration', 'Tot Fwd Pkts'], 'Normal sample 587': ['SYN Flag Cnt', 'Bwd Pkt Len Max', 'Bwd IAT Max', 'Bwd IAT Std', 'Tot Fwd Pkts', 'Tot Bwd Pkts', 'TotLen Fwd Pkts', 'TotLen Bwd Pkts', 'Fwd Pkt Len Min', 'Fwd Pkt Len Mean'], 'Normal sample 588': ['Flow Pkts/s', 'Fwd Pkt Len Std', 'Fwd Pkt Len Max', 'Pkt Len Std', 'Pkt Size Avg', 'Fwd Pkt Len Mean', 'Fwd Seg Size Avg', 'Pkt Len Max', 'Pkt Len Mean', 'Idle Mean'], 'Normal sample 589': ['Init Bwd Win Byts', 'Flow Duration', 'Tot Fwd Pkts', 'Tot Bwd Pkts', 'TotLen Fwd Pkts', 'Fwd Pkt Len Min', 'Bwd Pkt Len Min', 'Bwd Pkt Len Mean', 'Bwd Pkt Len Std', 'Flow Pkts/s'], 'Normal sample 590': ['Flow Pkts/s', 'Pkt Len Std', 'Pkt Len Max', 'Pkt Len Mean', 'Pkt Len Min', 'Fwd Pkt Len Std', 'Subflow Fwd Pkts', 'Fwd Seg Size Avg', 'Pkt Size Avg', 'Fwd Pkt Len Max'], 'Normal sample 591': ['ACK Flag Cnt', 'Bwd IAT Max', 'Bwd IAT Tot', 'Idle Min', 'Bwd IAT Std', 'Bwd IAT Mean', 'Flow IAT Max', 'Subflow Fwd Byts', 'Tot Bwd Pkts', 'Fwd Pkts/s'], 'Normal sample 592': ['ACK Flag Cnt', 'Bwd IAT Max', 'Bwd IAT Std', 'Bwd IAT Tot', 'Idle Std', 'Pkt Len Min', 'TotLen Bwd Pkts', 'Bwd PSH Flags', 'TotLen Fwd Pkts', 'Subflow Bwd Byts'], 'Normal sample 593': ['SYN Flag Cnt', 'Bwd Pkt Len Max', 'Bwd Pkt Len Std', 'Bwd IAT Std', 'Bwd IAT Tot', 'Bwd Pkt Len Mean', 'Active Min', 'TotLen Fwd Pkts', 'Pkt Len Var', 'Bwd IAT Min'], 'Normal sample 594': ['SYN Flag Cnt', 'Bwd Pkt Len Max', 'Bwd Pkt Len Min', 'Bwd IAT Max', 'Active Mean', 'FIN Flag Cnt', 'Fwd Header Len', 'Flow Duration', 'Tot Fwd Pkts', 'Tot Bwd Pkts'], 'Normal sample 595': ['Down/Up Ratio', 'Pkt Len Mean', 'Flow Pkts/s', 'Fwd Pkt Len Std', 'Pkt Len Std', 'Pkt Size Avg', 'Fwd Seg Size Avg', 'Fwd Pkt Len Mean', 'Pkt Len Max', 'Subflow Fwd Byts'], 'Normal sample 596': ['Down/Up Ratio', 'Pkt Len Mean', 'Pkt Len Max', 'Flow Pkts/s', 'Pkt Len Min', 'TotLen Fwd Pkts', 'Pkt Len Std', 'Fwd Pkt Len Max', 'Pkt Size Avg', 'Fwd Seg Size Avg'], 'Normal sample 597': ['Init Bwd Win Byts', 'Subflow Fwd Byts', 'Tot Bwd Pkts', 'Bwd Pkt Len Std', 'Bwd Pkt Len Mean', 'Bwd Header Len', 'Bwd Seg Size Avg', 'Idle Min', 'Bwd IAT Min', 'Fwd Pkts/s'], 'Normal sample 598': ['Init Bwd Win Byts', 'Flow IAT Min', 'Down/Up Ratio', 'Pkt Len Max', 'Fwd IAT Std', 'Bwd Pkt Len Max', 'Fwd IAT Min', 'Tot Fwd Pkts', 'Bwd Pkt Len Std', 'Bwd Seg Size Avg'], 'Normal sample 599': ['SYN Flag Cnt', 'Bwd Pkt Len Max', 'Tot Fwd Pkts', 'Tot Bwd Pkts', 'TotLen Fwd Pkts', 'TotLen Bwd Pkts', 'Fwd Pkt Len Min', 'Fwd Pkt Len Mean', 'Bwd Pkt Len Min', 'Bwd Pkt Len Std'], 'Normal sample 600': ['SYN Flag Cnt', 'Subflow Bwd Pkts', 'Bwd Pkt Len Min', 'Tot Bwd Pkts', 'TotLen Fwd Pkts', 'TotLen Bwd Pkts', 'Fwd Pkt Len Min', 'Bwd Pkt Len Max', 'Bwd Pkt Len Std', 'Flow Byts/s'], 'Normal sample 601': ['Init Bwd Win Byts', 'Fwd IAT Max', 'TotLen Fwd Pkts', 'Bwd Pkt Len Mean', 'Active Min', 'Fwd Pkt Len Max', 'Idle Min', 'Fwd IAT Std', 'Idle Max', 'Flow Pkts/s'], 'Normal sample 602': ['Init Bwd Win Byts', 'Fwd IAT Tot', 'Tot Bwd Pkts', 'Fwd Pkt Len Min', 'Bwd Pkt Len Max', 'Bwd Pkt Len Mean', 'Bwd Pkt Len Std', 'Flow Pkts/s', 'Flow IAT Std', 'Flow IAT Min'], 'Normal sample 603': ['Bwd PSH Flags', 'Active Std', 'TotLen Fwd Pkts', 'Fwd Pkts/s', 'Bwd Pkt Len Min', 'Flow Duration', 'Idle Std', 'Down/Up Ratio', 'Fwd IAT Mean', 'Fwd Pkt Len Min'], 'Normal sample 604': ['Init Bwd Win Byts', 'Idle Mean', 'Fwd IAT Max', 'Fwd Pkt Len Max', 'Active Mean', 'Bwd Header Len', 'Active Min', 'Idle Min', 'Fwd IAT Tot', 'Subflow Bwd Pkts'], 'Normal sample 605': ['SYN Flag Cnt', 'Bwd Pkt Len Max', 'Tot Fwd Pkts', 'Flow Byts/s', 'Flow IAT Std', 'Bwd IAT Mean', 'Active Min', 'Tot Bwd Pkts', 'TotLen Bwd Pkts', 'Fwd Pkt Len Min'], 'Normal sample 606': ['Down/Up Ratio', 'Pkt Len Min', 'Flow Duration', 'Tot Bwd Pkts', 'TotLen Fwd Pkts', 'TotLen Bwd Pkts', 'Bwd Pkt Len Mean', 'Flow Byts/s', 'Flow IAT Std', 'Flow IAT Max'], 'Normal sample 607': ['Init Bwd Win Byts', 'TotLen Fwd Pkts', 'Fwd Act Data Pkts', 'Bwd Pkt Len Std', 'Bwd IAT Max', 'Subflow Fwd Byts', 'Fwd IAT Std', 'Fwd IAT Mean', 'Idle Mean', 'Pkt Len Var'], 'Normal sample 608': ['Bwd PSH Flags', 'Down/Up Ratio', 'Idle Mean', 'Idle Min', 'Bwd IAT Min', 'Bwd IAT Max', 'Flow IAT Mean', 'Fwd Pkt Len Max', 'Flow Duration', 'Tot Fwd Pkts'], 'Normal sample 609': ['SYN Flag Cnt', 'Bwd Pkt Len Max', 'Bwd IAT Max', 'Bwd IAT Std', 'Idle Std', 'FIN Flag Cnt', 'Pkt Len Min', 'Tot Fwd Pkts', 'TotLen Fwd Pkts', 'Fwd Pkt Len Min'], 'Normal sample 610': ['Bwd IAT Max', 'Bwd IAT Tot', 'ACK Flag Cnt', 'Idle Max', 'Idle Mean', 'TotLen Fwd Pkts', 'Idle Min', 'Flow IAT Max', 'Subflow Fwd Byts', 'Tot Bwd Pkts'], 'Normal sample 611': ['Down/Up Ratio', 'Flow Pkts/s', 'Pkt Len Max', 'Fwd Seg Size Avg', 'Pkt Len Mean', 'Pkt Len Min', 'Fwd IAT Tot', 'Pkt Len Std', 'Flow IAT Std', 'Fwd Pkt Len Max'], 'Normal sample 612': ['SYN Flag Cnt', 'Bwd IAT Max', 'Bwd IAT Std', 'Bwd Pkt Len Max', 'Bwd IAT Tot', 'Bwd Pkt Len Std', 'Fwd IAT Min', 'Tot Fwd Pkts', 'Tot Bwd Pkts', 'TotLen Fwd Pkts'], 'Normal sample 613': ['SYN Flag Cnt', 'Bwd IAT Max', 'Bwd IAT Std', 'Bwd Pkt Len Max', 'Subflow Bwd Pkts', 'Bwd Pkt Len Std', 'Fwd Pkts/s', 'Bwd IAT Min', 'Fwd Act Data Pkts', 'Active Max'], 'Normal sample 614': ['Flow Pkts/s', 'Down/Up Ratio', 'FIN Flag Cnt', 'Pkt Len Min', 'Fwd Header Len', 'Fwd Pkt Len Max', 'Fwd IAT Tot', 'Bwd Pkt Len Mean', 'Bwd Pkt Len Max', 'Bwd Seg Size Avg'], 'Normal sample 615': ['Init Bwd Win Byts', 'Idle Max', 'Fwd Header Len', 'TotLen Bwd Pkts', 'Idle Min', 'Flow IAT Max', 'Subflow Bwd Pkts', 'Flow IAT Mean', 'Fwd IAT Tot', 'Bwd IAT Min'], 'Normal sample 616': ['Init Bwd Win Byts', 'Fwd Pkt Len Std', 'Idle Mean', 'Fwd Pkt Len Max', 'TotLen Bwd Pkts', 'Active Mean', 'Fwd IAT Max', 'Flow Duration', 'Tot Fwd Pkts', 'Tot Bwd Pkts'], 'Normal sample 617': ['Init Bwd Win Byts', 'Tot Bwd Pkts', 'Bwd Pkt Len Max', 'Idle Mean', 'Bwd Seg Size Avg', 'Pkt Len Var', 'Fwd IAT Mean', 'Bwd IAT Min', 'Active Min', 'Tot Fwd Pkts'], 'Normal sample 618': ['Init Bwd Win Byts', 'Idle Max', 'Active Std', 'TotLen Fwd Pkts', 'Idle Min', 'Bwd Header Len', 'Subflow Fwd Pkts', 'Fwd Act Data Pkts', 'Subflow Fwd Byts', 'Fwd IAT Tot'], 'Normal sample 619': ['Init Bwd Win Byts', 'Pkt Len Var', 'Active Mean', 'Bwd IAT Min', 'TotLen Fwd Pkts', 'Active Min', 'Idle Max', 'Bwd PSH Flags', 'Bwd Pkt Len Max', 'Subflow Bwd Byts'], 'Normal sample 620': ['Down/Up Ratio', 'Flow Pkts/s', 'Pkt Len Max', 'Pkt Len Mean', 'Fwd Pkt Len Max', 'Pkt Size Avg', 'Pkt Len Min', 'Fwd Pkt Len Std', 'Pkt Len Std', 'Tot Bwd Pkts'], 'Normal sample 621': ['SYN Flag Cnt', 'Bwd IAT Std', 'Pkt Len Min', 'Active Max', 'Bwd Pkt Len Max', 'PSH Flag Cnt', 'Bwd IAT Mean', 'Bwd IAT Max', 'Idle Mean', 'Idle Max'], 'Normal sample 622': ['Init Bwd Win Byts', 'Idle Min', 'Fwd Header Len', 'Idle Max', 'Flow Duration', 'Tot Bwd Pkts', 'TotLen Fwd Pkts', 'Fwd Pkt Len Min', 'Fwd Pkt Len Std', 'Bwd Pkt Len Max'], 'Normal sample 623': ['Init Bwd Win Byts', 'Pkt Len Var', 'Subflow Bwd Byts', 'Fwd IAT Tot', 'TotLen Fwd Pkts', 'Subflow Fwd Pkts', 'Bwd Pkt Len Max', 'Fwd Pkt Len Min', 'Idle Min', 'Bwd Header Len'], 'Normal sample 624': ['Init Bwd Win Byts', 'Bwd Pkt Len Max', 'Idle Max', 'Flow Byts/s', 'Idle Min', 'Subflow Bwd Byts', 'Idle Mean', 'Active Std', 'Active Min', 'Subflow Fwd Pkts'], 'Normal sample 625': ['Idle Mean', 'Init Bwd Win Byts', 'Fwd Pkt Len Std', 'Fwd IAT Tot', 'Active Mean', 'Fwd IAT Std', 'Fwd IAT Mean', 'Bwd Pkt Len Std', 'Subflow Bwd Byts', 'Subflow Fwd Byts'], 'Normal sample 626': ['SYN Flag Cnt', 'Bwd IAT Std', 'Bwd IAT Max', 'Fwd Act Data Pkts', 'Fwd Pkts/s', 'Idle Max', 'Idle Std', 'Active Max', 'Tot Fwd Pkts', 'TotLen Fwd Pkts'], 'Normal sample 627': ['Init Bwd Win Byts', 'Fwd IAT Std', 'Idle Min', 'Flow IAT Mean', 'Active Std', 'Bwd Pkt Len Max', 'Active Mean', 'Fwd IAT Mean', 'Flow Duration', 'Flow IAT Min'], 'Normal sample 628': ['Init Bwd Win Byts', 'Idle Max', 'Pkt Len Var', 'Bwd Seg Size Avg', 'Bwd Pkt Len Mean', 'Idle Min', 'Active Min', 'Fwd IAT Mean', 'Bwd Header Len', 'Bwd IAT Min'], 'Normal sample 629': ['ACK Flag Cnt', 'Bwd IAT Std', 'Bwd IAT Tot', 'Bwd IAT Max', 'Subflow Bwd Pkts', 'Active Max', 'Bwd Header Len', 'Bwd IAT Mean', 'Pkt Len Min', 'Tot Bwd Pkts'], 'Normal sample 630': ['Init Bwd Win Byts', 'Bwd Pkt Len Mean', 'Bwd Pkt Len Std', 'Idle Mean', 'Fwd Header Len', 'Active Mean', 'Active Std', 'Bwd Seg Size Avg', 'Fwd Pkts/s', 'Tot Fwd Pkts'], 'Normal sample 631': ['Flow Pkts/s', 'Pkt Len Std', 'Pkt Len Mean', 'Idle Mean', 'Pkt Len Max', 'Fwd Pkt Len Max', 'Fwd Pkt Len Std', 'Pkt Size Avg', 'Fwd IAT Std', 'Fwd Pkt Len Mean'], 'Normal sample 632': ['Init Bwd Win Byts', 'Idle Max', 'Active Min', 'Idle Min', 'Bwd IAT Min', 'Idle Mean', 'Idle Std', 'Bwd IAT Tot', 'Fwd Pkt Len Std', 'Fwd Act Data Pkts'], 'Normal sample 633': ['Init Bwd Win Byts', 'Down/Up Ratio', 'Fwd Seg Size Avg', 'Bwd Pkt Len Std', 'Fwd Pkt Len Min', 'Bwd IAT Mean', 'Flow IAT Max', 'Flow Byts/s', 'TotLen Bwd Pkts', 'Subflow Fwd Byts'], 'Normal sample 634': ['Init Bwd Win Byts', 'Bwd Pkt Len Mean', 'Fwd IAT Max', 'PSH Flag Cnt', 'Fwd Act Data Pkts', 'Idle Max', 'Subflow Bwd Pkts', 'Tot Bwd Pkts', 'Bwd Pkt Len Max', 'Flow Pkts/s'], 'Normal sample 635': ['ACK Flag Cnt', 'Bwd IAT Max', 'Bwd IAT Tot', 'Flow IAT Max', 'Bwd IAT Std', 'Idle Max', 'Bwd Pkt Len Std', 'Idle Std', 'Active Mean', 'Pkt Len Var'], 'Normal sample 636': ['Init Bwd Win Byts', 'Tot Fwd Pkts', 'Idle Mean', 'Fwd IAT Std', 'Active Mean', 'Fwd Header Len', 'Bwd Header Len', 'Flow IAT Std', 'Bwd PSH Flags', 'Idle Min'], 'Normal sample 637': ['Init Bwd Win Byts', 'Idle Min', 'Fwd IAT Max', 'Subflow Bwd Byts', 'TotLen Fwd Pkts', 'Bwd IAT Min', 'Active Max', 'Idle Mean', 'Fwd Pkt Len Std', 'Tot Fwd Pkts'], 'Normal sample 638': ['Init Bwd Win Byts', 'Tot Fwd Pkts', 'Fwd IAT Mean', 'Fwd IAT Std', 'Flow IAT Mean', 'Fwd Pkt Len Std', 'Fwd Act Data Pkts', 'Flow Duration', 'TotLen Bwd Pkts', 'Bwd Pkt Len Max'], 'Normal sample 639': ['Down/Up Ratio', 'Init Bwd Win Byts', 'Pkt Len Min', 'Pkt Len Std', 'Pkt Len Max', 'Fwd Pkt Len Std', 'Fwd Seg Size Avg', 'Fwd Pkt Len Mean', 'Fwd Pkt Len Max', 'Pkt Size Avg'], 'Normal sample 640': ['Bwd PSH Flags', 'Bwd IAT Std', 'Bwd IAT Max', 'Bwd Pkt Len Min', 'TotLen Fwd Pkts', 'Flow IAT Min', 'Subflow Fwd Pkts', 'Fwd Pkt Len Min', 'Idle Min', 'Bwd IAT Min'], 'Normal sample 641': ['SYN Flag Cnt', 'Bwd Pkt Len Max', 'Flow Duration', 'Tot Bwd Pkts', 'TotLen Fwd Pkts', 'TotLen Bwd Pkts', 'Fwd Pkt Len Mean', 'Bwd Pkt Len Min', 'Bwd Pkt Len Std', 'Flow Byts/s'], 'Normal sample 642': ['Init Bwd Win Byts', 'Idle Max', 'Idle Mean', 'Bwd Seg Size Avg', 'Flow Byts/s', 'Tot Bwd Pkts', 'Subflow Bwd Pkts', 'Fwd Pkts/s', 'Fwd IAT Min', 'Bwd IAT Tot'], 'Normal sample 643': ['Init Bwd Win Byts', 'Idle Max', 'Flow Duration', 'TotLen Fwd Pkts', 'Subflow Bwd Pkts', 'Fwd IAT Max', 'Flow IAT Std', 'Fwd IAT Std', 'Idle Min', 'Subflow Bwd Byts'], 'Normal sample 644': ['Init Bwd Win Byts', 'Bwd Seg Size Avg', 'Idle Max', 'Bwd IAT Min', 'Fwd IAT Max', 'Bwd Pkt Len Max', 'Fwd IAT Tot', 'Bwd Pkt Len Mean', 'Idle Min', 'Active Mean'], 'Normal sample 645': ['Flow Duration', 'Tot Fwd Pkts', 'Tot Bwd Pkts', 'TotLen Fwd Pkts', 'TotLen Bwd Pkts', 'Fwd Pkt Len Max', 'Fwd Pkt Len Min', 'Fwd Pkt Len Std', 'Bwd Pkt Len Mean', 'Bwd Pkt Len Std'], 'Normal sample 646': ['Init Bwd Win Byts', 'Idle Min', 'Active Mean', 'Bwd IAT Tot', 'Idle Mean', 'Idle Max', 'Fwd IAT Std', 'Active Std', 'Fwd IAT Max', 'Bwd Pkt Len Std'], 'Normal sample 647': ['Init Bwd Win Byts', 'Idle Max', 'Active Std', 'Tot Fwd Pkts', 'Fwd Pkt Len Std', 'Fwd Act Data Pkts', 'Bwd IAT Tot', 'TotLen Bwd Pkts', 'Bwd Pkt Len Max', 'Bwd Pkt Len Mean'], 'Normal sample 648': ['Fwd IAT Mean', 'Init Bwd Win Byts', 'Bwd Seg Size Avg', 'Fwd Act Data Pkts', 'Subflow Fwd Pkts', 'Flow IAT Mean', 'Bwd IAT Tot', 'Flow Duration', 'Tot Fwd Pkts', 'TotLen Fwd Pkts'], 'Normal sample 649': ['Flow Duration', 'Tot Fwd Pkts', 'Tot Bwd Pkts', 'TotLen Fwd Pkts', 'TotLen Bwd Pkts', 'Fwd Pkt Len Min', 'Bwd Pkt Len Max', 'Bwd Pkt Len Min', 'Bwd Pkt Len Std', 'Flow IAT Mean'], 'Normal sample 650': ['SYN Flag Cnt', 'Bwd Pkt Len Max', 'Bwd IAT Max', 'Bwd IAT Std', 'Bwd Pkt Len Std', 'Pkt Len Min', 'Subflow Bwd Byts', 'Flow Byts/s', 'Idle Std', 'Tot Fwd Pkts'], 'Normal sample 651': ['Flow Pkts/s', 'Pkt Len Std', 'Pkt Len Max', 'Bwd Pkt Len Min', 'Pkt Len Mean', 'Fwd Pkt Len Max', 'Pkt Size Avg', 'Pkt Len Min', 'Bwd IAT Min', 'Fwd Header Len'], 'Normal sample 652': ['Init Bwd Win Byts', 'Idle Min', 'Fwd IAT Tot', 'Tot Bwd Pkts', 'Active Std', 'Subflow Bwd Pkts', 'Idle Mean', 'Subflow Fwd Byts', 'Idle Max', 'Fwd Pkt Len Std'], 'Normal sample 653': ['Init Bwd Win Byts', 'Fwd Pkt Len Min', 'Bwd Pkt Len Max', 'Bwd Pkt Len Min', 'Bwd Pkt Len Mean', 'Bwd Pkt Len Std', 'Flow IAT Mean', 'Flow IAT Std', 'Flow IAT Min', 'Fwd IAT Tot'], 'Normal sample 654': ['Init Bwd Win Byts', 'Idle Mean', 'Fwd IAT Std', 'Bwd IAT Tot', 'Idle Max', 'Bwd Pkt Len Max', 'Fwd IAT Min', 'TotLen Bwd Pkts', 'Fwd IAT Mean', 'Active Mean'], 'Normal sample 655': ['Init Bwd Win Byts', 'Flow IAT Min', 'Tot Fwd Pkts', 'Fwd IAT Max', 'Idle Mean', 'Bwd Seg Size Avg', 'Tot Bwd Pkts', 'TotLen Fwd Pkts', 'TotLen Bwd Pkts', 'Fwd Pkt Len Min'], 'Normal sample 656': ['SYN Flag Cnt', 'Bwd Pkt Len Mean', 'Bwd Pkt Len Max', 'Fwd Act Data Pkts', 'Idle Mean', 'Bwd Pkt Len Std', 'Bwd Seg Size Avg', 'Idle Max', 'Pkt Len Var', 'Bwd PSH Flags'], 'Normal sample 657': ['SYN Flag Cnt', 'Bwd IAT Std', 'Bwd IAT Max', 'Fwd Act Data Pkts', 'Subflow Fwd Byts', 'Idle Mean', 'Idle Max', 'Subflow Bwd Pkts', 'Bwd IAT Min', 'Flow Byts/s'], 'Normal sample 658': ['Init Bwd Win Byts', 'Bwd Pkt Len Mean', 'Subflow Fwd Pkts', 'Tot Fwd Pkts', 'Idle Min', 'Idle Mean', 'Subflow Fwd Byts', 'TotLen Fwd Pkts', 'Subflow Bwd Pkts', 'Fwd IAT Std'], 'Normal sample 659': ['Init Bwd Win Byts', 'Fwd Pkts/s', 'Fwd IAT Mean', 'Bwd Pkt Len Max', 'Bwd IAT Min', 'Subflow Fwd Pkts', 'Flow IAT Min', 'Idle Min', 'Bwd Pkt Len Mean', 'Fwd Act Data Pkts'], 'Normal sample 660': ['Init Bwd Win Byts', 'Fwd IAT Max', 'Bwd Seg Size Avg', 'Idle Max', 'Bwd PSH Flags', 'Fwd IAT Std', 'Fwd IAT Min', 'Fwd Pkts/s', 'Tot Bwd Pkts', 'Idle Min'], 'Normal sample 661': ['Init Bwd Win Byts', 'Idle Mean', 'Bwd Pkt Len Mean', 'Active Max', 'Flow IAT Min', 'Bwd Pkt Len Max', 'Fwd Header Len', 'Flow Byts/s', 'Subflow Fwd Pkts', 'Subflow Bwd Byts'], 'Normal sample 662': ['Init Bwd Win Byts', 'Bwd Pkt Len Max', 'Idle Mean', 'TotLen Fwd Pkts', 'Subflow Fwd Pkts', 'Fwd IAT Mean', 'Fwd IAT Tot', 'Fwd Seg Size Avg', 'Fwd Header Len', 'Fwd Pkt Len Std'], 'Normal sample 663': ['Init Bwd Win Byts', 'Subflow Bwd Pkts', 'Fwd IAT Tot', 'Tot Fwd Pkts', 'Fwd IAT Min', 'Bwd Pkt Len Mean', 'Idle Min', 'Tot Bwd Pkts', 'Flow Duration', 'Bwd Header Len'], 'Normal sample 664': ['SYN Flag Cnt', 'Bwd Pkt Len Max', 'Bwd IAT Max', 'Bwd Pkt Len Std', 'Bwd IAT Std', 'Pkt Len Min', 'Active Mean', 'Active Min', 'PSH Flag Cnt', 'Subflow Bwd Byts'], 'Normal sample 665': ['Init Bwd Win Byts', 'Fwd IAT Std', 'TotLen Fwd Pkts', 'Pkt Len Var', 'Subflow Fwd Byts', 'Bwd Pkt Len Mean', 'Fwd IAT Max', 'Flow IAT Min', 'Tot Fwd Pkts', 'Tot Bwd Pkts'], 'Normal sample 666': ['Init Bwd Win Byts', 'Idle Mean', 'Subflow Bwd Byts', 'Pkt Len Var', 'Flow Duration', 'Bwd Header Len', 'Tot Bwd Pkts', 'Idle Max', 'Subflow Fwd Pkts', 'Tot Fwd Pkts'], 'Normal sample 667': ['Flow Pkts/s', 'Down/Up Ratio', 'FIN Flag Cnt', 'Pkt Len Min', 'Bwd Pkt Len Min', 'Fwd Seg Size Avg', 'Flow IAT Max', 'Pkt Size Avg', 'Bwd Pkt Len Max', 'Fwd Pkt Len Std'], 'Normal sample 668': ['Init Bwd Win Byts', 'Idle Mean', 'Idle Max', 'TotLen Fwd Pkts', 'Fwd IAT Std', 'Fwd IAT Tot', 'Fwd Pkts/s', 'Fwd Header Len', 'Idle Min', 'Bwd IAT Min'], 'Normal sample 669': ['Init Bwd Win Byts', 'Idle Min', 'Idle Mean', 'Idle Max', 'Active Std', 'Tot Bwd Pkts', 'TotLen Bwd Pkts', 'Fwd IAT Min', 'Subflow Fwd Byts', 'Bwd Seg Size Avg'], 'Normal sample 670': ['Flow Pkts/s', 'Pkt Len Max', 'Pkt Len Mean', 'Pkt Len Std', 'Pkt Size Avg', 'Fwd Seg Size Avg', 'Fwd Pkt Len Std', 'Idle Min', 'Fwd Pkt Len Max', 'Fwd IAT Tot'], 'Normal sample 671': ['Flow Pkts/s', 'Pkt Len Max', 'Pkt Size Avg', 'Pkt Len Min', 'Pkt Len Std', 'Fwd Pkt Len Max', 'Fwd Pkt Len Std', 'Fwd Seg Size Avg', 'Fwd Header Len', 'Flow IAT Min'], 'Normal sample 672': ['Init Bwd Win Byts', 'Tot Fwd Pkts', 'TotLen Bwd Pkts', 'Bwd Pkt Len Min', 'Bwd Pkt Len Mean', 'Bwd Pkt Len Std', 'Flow IAT Mean', 'Flow IAT Min', 'Fwd IAT Tot', 'Fwd IAT Mean'], 'Normal sample 673': ['SYN Flag Cnt', 'Bwd Pkt Len Max', 'Bwd IAT Max', 'Active Min', 'Bwd Pkt Len Std', 'Active Mean', 'Idle Max', 'Bwd IAT Std', 'Pkt Len Min', 'Bwd Header Len'], 'Normal sample 674': ['Pkt Len Std', 'Flow Pkts/s', 'Pkt Size Avg', 'Pkt Len Max', 'Pkt Len Mean', 'Bwd Pkt Len Min', 'Fwd Pkt Len Max', 'Fwd IAT Max', 'Fwd Pkt Len Mean', 'Bwd PSH Flags'], 'Normal sample 675': ['Init Bwd Win Byts', 'Fwd IAT Std', 'Flow Duration', 'Tot Fwd Pkts', 'TotLen Fwd Pkts', 'TotLen Bwd Pkts', 'Bwd Pkt Len Max', 'Bwd Pkt Len Mean', 'Bwd Pkt Len Std', 'Flow Byts/s'], 'Normal sample 676': ['Init Bwd Win Byts', 'Down/Up Ratio', 'Idle Mean', 'Active Std', 'Fwd IAT Max', 'Bwd Pkt Len Mean', 'Bwd Pkt Len Max', 'TotLen Fwd Pkts', 'Fwd IAT Mean', 'Idle Min'], 'Normal sample 677': ['Init Bwd Win Byts', 'Active Mean', 'Idle Min', 'Fwd Pkts/s', 'Active Max', 'Tot Bwd Pkts', 'Subflow Fwd Byts', 'Bwd Header Len', 'Flow IAT Min', 'TotLen Bwd Pkts'], 'Normal sample 678': ['Init Bwd Win Byts', 'Bwd IAT Min', 'Fwd IAT Std', 'Idle Mean', 'Fwd IAT Tot', 'Bwd Pkt Len Std', 'Idle Min', 'Pkt Len Var', 'Flow IAT Mean', 'Subflow Bwd Pkts'], 'Normal sample 679': ['Bwd Pkts/s', 'Fwd IAT Tot', 'Pkt Len Min', 'Fwd Pkts/s', 'Pkt Len Std', 'TotLen Bwd Pkts', 'Fwd IAT Max', 'ACK Flag Cnt', 'Bwd Pkt Len Max', 'Flow Byts/s'], 'Normal sample 680': ['Down/Up Ratio', 'Flow Pkts/s', 'Pkt Size Avg', 'Pkt Len Std', 'Fwd Seg Size Avg', 'Pkt Len Max', 'Fwd Pkt Len Min', 'Fwd Pkt Len Max', 'Pkt Len Var', 'Pkt Len Mean'], 'Normal sample 681': ['SYN Flag Cnt', 'Bwd Pkt Len Max', 'Bwd PSH Flags', 'Flow Duration', 'Tot Fwd Pkts', 'Tot Bwd Pkts', 'TotLen Fwd Pkts', 'TotLen Bwd Pkts', 'Fwd Pkt Len Min', 'Fwd Pkt Len Mean'], 'Normal sample 682': ['Down/Up Ratio', 'Flow Pkts/s', 'Fwd Seg Size Avg', 'Pkt Len Max', 'Pkt Len Mean', 'Fwd Pkt Len Max', 'Pkt Len Min', 'Fwd Pkt Len Mean', 'Fwd Pkt Len Std', 'Fwd IAT Tot'], 'Normal sample 683': ['Active Max', 'Bwd IAT Tot', 'ACK Flag Cnt', 'Active Mean', 'Bwd PSH Flags', 'Bwd IAT Max', 'Bwd Header Len', 'Idle Min', 'Idle Mean', 'Subflow Fwd Pkts'], 'Normal sample 684': ['SYN Flag Cnt', 'Bwd Pkt Len Max', 'Bwd IAT Max', 'Bwd Pkt Len Std', 'Bwd IAT Std', 'Tot Fwd Pkts', 'Tot Bwd Pkts', 'TotLen Bwd Pkts', 'Bwd Pkt Len Min', 'Flow Byts/s'], 'Normal sample 685': ['Bwd PSH Flags', 'ACK Flag Cnt', 'Bwd IAT Tot', 'Bwd IAT Max', 'Idle Mean', 'Subflow Bwd Pkts', 'Bwd IAT Std', 'Active Max', 'Bwd Pkt Len Max', 'Flow IAT Mean'], 'Normal sample 686': ['Init Bwd Win Byts', 'Bwd Pkt Len Mean', 'Bwd Pkt Len Max', 'Idle Mean', 'Idle Max', 'Flow Byts/s', 'Fwd IAT Min', 'TotLen Bwd Pkts', 'Idle Min', 'Tot Fwd Pkts'], 'Normal sample 687': ['SYN Flag Cnt', 'TotLen Fwd Pkts', 'Bwd Pkt Len Mean', 'Bwd Pkt Len Max', 'Bwd Header Len', 'Bwd Pkt Len Std', 'Idle Std', 'TotLen Bwd Pkts', 'Fwd Pkts/s', 'Subflow Fwd Byts'], 'Normal sample 688': ['ACK Flag Cnt', 'Bwd IAT Max', 'Bwd IAT Std', 'Fwd Act Data Pkts', 'Idle Std', 'Idle Max', 'Bwd IAT Tot', 'Flow IAT Max', 'Fwd Header Len', 'Bwd Pkt Len Std'], 'Normal sample 689': ['SYN Flag Cnt', 'Bwd IAT Tot', 'Bwd IAT Max', 'Bwd IAT Std', 'Subflow Bwd Pkts', 'TotLen Fwd Pkts', 'Bwd Pkt Len Std', 'Fwd IAT Min', 'Flow Duration', 'TotLen Bwd Pkts'], 'Normal sample 690': ['Flow Pkts/s', 'Down/Up Ratio', 'FIN Flag Cnt', 'Fwd IAT Min', 'Pkt Len Min', 'Fwd Pkt Len Max', 'Idle Min', 'Pkt Len Max', 'Fwd Pkt Len Mean', 'Pkt Len Mean'], 'Normal sample 691': ['Init Bwd Win Byts', 'Idle Max', 'Bwd IAT Max', 'Fwd IAT Std', 'Idle Mean', 'Fwd Pkts/s', 'Flow Duration', 'Bwd IAT Tot', 'Fwd IAT Mean', 'Active Mean'], 'Normal sample 692': ['Init Bwd Win Byts', 'Bwd Seg Size Avg', 'Active Max', 'Fwd Pkt Len Std', 'Fwd Act Data Pkts', 'Subflow Bwd Pkts', 'Idle Mean', 'Bwd IAT Mean', 'Active Std', 'Active Mean'], 'Normal sample 693': ['Bwd PSH Flags', 'Bwd Pkt Len Std', 'Bwd Seg Size Avg', 'Bwd IAT Mean', 'Fwd Act Data Pkts', 'Down/Up Ratio', 'Bwd Header Len', 'Active Min', 'Flow IAT Std', 'Active Std'], 'Normal sample 694': ['Init Bwd Win Byts', 'TotLen Bwd Pkts', 'Fwd Header Len', 'Bwd Pkt Len Std', 'TotLen Fwd Pkts', 'Subflow Fwd Byts', 'Bwd Pkt Len Mean', 'PSH Flag Cnt', 'Subflow Bwd Pkts', 'Fwd Act Data Pkts'], 'Normal sample 695': ['Init Bwd Win Byts', 'Active Min', 'Subflow Fwd Byts', 'Idle Mean', 'Fwd Pkts/s', 'Tot Fwd Pkts', 'Idle Std', 'Bwd Pkt Len Std', 'Active Mean', 'Bwd Pkt Len Mean'], 'Normal sample 696': ['Init Bwd Win Byts', 'Bwd IAT Std', 'Idle Mean', 'Idle Std', 'Idle Max', 'Bwd Pkt Len Max', 'Fwd IAT Tot', 'Flow IAT Mean', 'Bwd IAT Mean', 'Bwd IAT Min'], 'Normal sample 697': ['SYN Flag Cnt', 'Bwd Pkt Len Max', 'Active Min', 'Bwd IAT Tot', 'TotLen Fwd Pkts', 'Idle Max', 'Tot Bwd Pkts', 'Tot Fwd Pkts', 'TotLen Bwd Pkts', 'Fwd Pkt Len Min'], 'Normal sample 698': ['Init Bwd Win Byts', 'Idle Min', 'TotLen Bwd Pkts', 'Fwd Pkt Len Std', 'Fwd Act Data Pkts', 'Fwd Header Len', 'Idle Std', 'Flow IAT Min', 'Bwd Header Len', 'Bwd IAT Max'], 'Normal sample 699': ['SYN Flag Cnt', 'Bwd Pkt Len Max', 'Bwd Pkt Len Std', 'Tot Fwd Pkts', 'Bwd Pkt Len Min', 'Bwd Pkt Len Mean', 'Bwd IAT Std', 'Subflow Bwd Byts', 'Pkt Len Min', 'PSH Flag Cnt'], 'Normal sample 700': ['Bwd PSH Flags', 'Subflow Bwd Byts', 'Pkt Len Max', 'Bwd Pkt Len Min', 'Flow Pkts/s', 'Pkt Len Var', 'Fwd Header Len', 'TotLen Bwd Pkts', 'Active Std', 'Flow Duration'], 'Normal sample 701': ['Init Bwd Win Byts', 'Fwd IAT Tot', 'Idle Max', 'TotLen Bwd Pkts', 'Idle Min', 'Tot Bwd Pkts', 'Flow Duration', 'Fwd IAT Std', 'Fwd IAT Max', 'Bwd Pkt Len Mean'], 'Normal sample 702': ['Flow Pkts/s', 'Down/Up Ratio', 'FIN Flag Cnt', 'Bwd Pkt Len Std', 'Pkt Size Avg', 'Fwd IAT Min', 'Bwd IAT Mean', 'Idle Std', 'Fwd Pkt Len Mean', 'Fwd Pkts/s'], 'Normal sample 703': ['Flow Pkts/s', 'Down/Up Ratio', 'Fwd Pkt Len Max', 'Fwd IAT Std', 'Bwd IAT Tot', 'Flow IAT Max', 'FIN Flag Cnt', 'Pkt Len Min', 'Fwd Pkt Len Mean', 'Fwd Act Data Pkts'], 'Normal sample 704': ['Init Bwd Win Byts', 'Bwd Pkt Len Max', 'Fwd IAT Std', 'Idle Max', 'Fwd Pkt Len Max', 'Bwd Header Len', 'Flow Duration', 'Subflow Bwd Byts', 'Subflow Bwd Pkts', 'Idle Min'], 'Normal sample 705': ['Init Bwd Win Byts', 'Idle Max', 'Fwd Act Data Pkts', 'Idle Min', 'Subflow Fwd Pkts', 'Subflow Fwd Byts', 'Fwd IAT Mean', 'TotLen Bwd Pkts', 'Bwd IAT Tot', 'Fwd IAT Std'], 'Normal sample 706': ['Down/Up Ratio', 'Pkt Len Std', 'Pkt Len Mean', 'Flow Pkts/s', 'Pkt Len Max', 'Pkt Len Min', 'Pkt Size Avg', 'Fwd Pkt Len Max', 'Fwd Pkt Len Mean', 'Fwd IAT Max'], 'Normal sample 707': ['SYN Flag Cnt', 'Bwd Pkt Len Std', 'Idle Mean', 'Tot Bwd Pkts', 'Subflow Bwd Byts', 'Idle Max', 'Bwd IAT Min', 'Subflow Fwd Pkts', 'Subflow Bwd Pkts', 'Bwd PSH Flags'], 'Normal sample 708': ['Init Bwd Win Byts', 'Bwd IAT Min', 'Fwd IAT Mean', 'Active Mean', 'Bwd Pkt Len Mean', 'Subflow Bwd Pkts', 'Idle Std', 'Fwd IAT Min', 'Idle Max', 'Subflow Bwd Byts'], 'Normal sample 709': ['Down/Up Ratio', 'Flow Pkts/s', 'Fwd Pkt Len Std', 'Pkt Len Mean', 'PSH Flag Cnt', 'Fwd IAT Min', 'Fwd Pkt Len Mean', 'Fwd IAT Tot', 'Pkt Len Std', 'Fwd Header Len'], 'Normal sample 710': ['Init Bwd Win Byts', 'Idle Max', 'Idle Mean', 'Bwd IAT Tot', 'Idle Std', 'Flow Byts/s', 'Bwd IAT Mean', 'Subflow Fwd Byts', 'Active Std', 'Fwd IAT Mean'], 'Normal sample 711': ['ACK Flag Cnt', 'Bwd IAT Max', 'Bwd IAT Std', 'Bwd IAT Tot', 'Idle Std', 'Flow IAT Max', 'Flow IAT Mean', 'Bwd IAT Mean', 'Idle Max', 'Subflow Fwd Byts'], 'Normal sample 712': ['Init Bwd Win Byts', 'Fwd IAT Max', 'Tot Bwd Pkts', 'Pkt Len Var', 'Tot Fwd Pkts', 'Bwd IAT Mean', 'Idle Mean', 'Fwd IAT Tot', 'Subflow Bwd Byts', 'Flow IAT Min'], 'Normal sample 713': ['Init Bwd Win Byts', 'Bwd IAT Tot', 'Bwd PSH Flags', 'Fwd IAT Std', 'Bwd Pkt Len Mean', 'Fwd IAT Max', 'Bwd IAT Mean', 'Idle Min', 'Flow IAT Min', 'Active Max'], 'Normal sample 714': ['Init Bwd Win Byts', 'Idle Max', 'Idle Min', 'Fwd Header Len', 'Bwd Pkt Len Mean', 'TotLen Bwd Pkts', 'Fwd IAT Tot', 'Idle Mean', 'Bwd IAT Mean', 'Flow Duration'], 'Normal sample 715': ['Init Bwd Win Byts', 'Fwd IAT Min', 'Fwd Pkts/s', 'Flow IAT Min', 'Subflow Bwd Byts', 'Fwd Pkt Len Std', 'Bwd Pkt Len Std', 'Idle Std', 'TotLen Fwd Pkts', 'PSH Flag Cnt'], 'Normal sample 716': ['Init Bwd Win Byts', 'Idle Max', 'Idle Mean', 'Tot Fwd Pkts', 'Bwd Pkt Len Std', 'Idle Min', 'Active Std', 'Bwd Pkt Len Max', 'Fwd Act Data Pkts', 'Idle Std'], 'Normal sample 717': ['Init Bwd Win Byts', 'Bwd IAT Tot', 'Tot Bwd Pkts', 'Bwd Pkt Len Std', 'Subflow Fwd Pkts', 'TotLen Bwd Pkts', 'Idle Max', 'Idle Mean', 'Fwd IAT Min', 'Bwd Header Len'], 'Normal sample 718': ['Bwd PSH Flags', 'Bwd IAT Tot', 'Idle Mean', 'Pkt Len Min', 'Bwd IAT Max', 'Bwd Pkt Len Min', 'Flow IAT Min', 'Flow Pkts/s', 'Active Min', 'Bwd Pkt Len Mean'], 'Normal sample 719': ['SYN Flag Cnt', 'Bwd Pkt Len Std', 'Bwd Pkt Len Max', 'Bwd Pkt Len Mean', 'Bwd Seg Size Avg', 'Bwd IAT Std', 'TotLen Bwd Pkts', 'Fwd Pkts/s', 'Idle Max', 'Idle Mean'], 'Normal sample 720': ['SYN Flag Cnt', 'Bwd Pkt Len Max', 'Bwd IAT Max', 'Bwd Pkt Len Std', 'Bwd Header Len', 'Bwd IAT Tot', 'Fwd Pkts/s', 'Bwd Pkt Len Min', 'Tot Bwd Pkts', 'Subflow Bwd Byts'], 'Normal sample 721': ['Init Bwd Win Byts', 'Bwd Pkt Len Max', 'Fwd IAT Tot', 'Bwd Pkt Len Std', 'Bwd IAT Tot', 'Fwd IAT Max', 'Fwd Pkt Len Std', 'Flow Byts/s', 'Idle Mean', 'Active Std'], 'Normal sample 722': ['Bwd IAT Mean', 'Init Bwd Win Byts', 'TotLen Fwd Pkts', 'Tot Bwd Pkts', 'Subflow Fwd Byts', 'Bwd Pkt Len Mean', 'Fwd Pkts/s', 'Active Max', 'Bwd Seg Size Avg', 'Fwd Header Len'], 'Normal sample 723': ['SYN Flag Cnt', 'Bwd Pkt Len Max', 'Bwd IAT Max', 'Bwd IAT Tot', 'Bwd Header Len', 'Subflow Bwd Pkts', 'Bwd Pkt Len Std', 'Tot Fwd Pkts', 'TotLen Bwd Pkts', 'Fwd Pkt Len Min'], 'Normal sample 724': ['SYN Flag Cnt', 'Bwd IAT Max', 'Idle Std', 'Bwd IAT Tot', 'Idle Max', 'Bwd IAT Std', 'Bwd PSH Flags', 'Subflow Fwd Byts', 'Fwd IAT Min', 'Tot Fwd Pkts'], 'Normal sample 725': ['Flow Pkts/s', 'Pkt Len Mean', 'Fwd Seg Size Avg', 'Pkt Len Std', 'Pkt Len Max', 'Fwd Pkt Len Max', 'Pkt Len Min', 'Fwd Header Len', 'Pkt Size Avg', 'Fwd Pkt Len Mean'], 'Normal sample 726': ['Init Bwd Win Byts', 'Bwd Pkt Len Mean', 'Idle Max', 'Flow IAT Min', 'Bwd IAT Tot', 'Subflow Fwd Pkts', 'Idle Mean', 'Tot Bwd Pkts', 'Bwd Pkt Len Max', 'Fwd IAT Max'], 'Normal sample 727': ['SYN Flag Cnt', 'Bwd Pkt Len Max', 'Bwd Seg Size Avg', 'Bwd Pkt Len Std', 'Fwd IAT Mean', 'Subflow Fwd Pkts', 'Bwd Pkt Len Min', 'Bwd IAT Std', 'Subflow Bwd Byts', 'Bwd IAT Mean'], 'Normal sample 728': ['Init Bwd Win Byts', 'Tot Fwd Pkts', 'Tot Bwd Pkts', 'TotLen Fwd Pkts', 'TotLen Bwd Pkts', 'Bwd Pkt Len Max', 'Bwd Pkt Len Min', 'Bwd Pkt Len Mean', 'Flow IAT Mean', 'Flow IAT Std'], 'Normal sample 729': ['Down/Up Ratio', 'Pkt Len Mean', 'Pkt Len Min', 'Pkt Size Avg', 'Flow Pkts/s', 'TotLen Bwd Pkts', 'Pkt Len Std', 'Fwd Pkt Len Mean', 'Fwd Seg Size Avg', 'Fwd Pkt Len Std'], 'Normal sample 730': ['Down/Up Ratio', 'Pkt Len Std', 'Pkt Len Max', 'Pkt Len Mean', 'Flow Pkts/s', 'Fwd Seg Size Avg', 'Pkt Size Avg', 'Fwd Pkt Len Std', 'Pkt Len Min', 'Bwd Seg Size Avg'], 'Normal sample 731': ['SYN Flag Cnt', 'Bwd Pkt Len Std', 'Bwd Seg Size Avg', 'Bwd IAT Tot', 'Bwd Pkt Len Min', 'Bwd IAT Std', 'Idle Std', 'Bwd Pkt Len Max', 'Bwd Pkt Len Mean', 'Subflow Bwd Pkts'], 'Normal sample 732': ['Down/Up Ratio', 'Flow IAT Mean', 'Flow Byts/s', 'Bwd Header Len', 'Fwd Act Data Pkts', 'TotLen Bwd Pkts', 'Fwd Pkt Len Mean', 'Bwd Pkt Len Std', 'Subflow Bwd Pkts', 'Subflow Fwd Byts'], 'Normal sample 733': ['Init Bwd Win Byts', 'Bwd Seg Size Avg', 'Fwd Act Data Pkts', 'Fwd IAT Tot', 'Bwd Pkt Len Mean', 'Fwd Pkt Len Std', 'Fwd IAT Max', 'Bwd Pkt Len Max', 'Fwd Header Len', 'Active Mean'], 'Normal sample 734': ['Init Bwd Win Byts', 'Subflow Bwd Pkts', 'TotLen Fwd Pkts', 'Bwd Seg Size Avg', 'Bwd Pkt Len Mean', 'Subflow Fwd Byts', 'Bwd Pkt Len Std', 'Idle Std', 'Bwd PSH Flags', 'Subflow Fwd Pkts'], 'Normal sample 735': ['Init Bwd Win Byts', 'Bwd IAT Tot', 'Pkt Len Var', 'Idle Max', 'Flow Duration', 'Active Max', 'Bwd IAT Mean', 'Fwd Pkts/s', 'Flow IAT Max', 'Active Std'], 'Normal sample 736': ['SYN Flag Cnt', 'Bwd Pkt Len Std', 'Bwd Pkt Len Max', 'Bwd IAT Std', 'Bwd Pkt Len Mean', 'Bwd IAT Max', 'Fwd IAT Tot', 'Bwd Seg Size Avg', 'Flow Byts/s', 'Fwd IAT Max'], 'Normal sample 737': ['Bwd IAT Max', 'Bwd IAT Tot', 'ACK Flag Cnt', 'Idle Max', 'Flow IAT Max', 'Idle Min', 'Subflow Bwd Byts', 'Bwd IAT Std', 'Idle Mean', 'Fwd IAT Min'], 'Normal sample 738': ['Init Bwd Win Byts', 'Fwd IAT Max', 'Subflow Fwd Byts', 'Flow Duration', 'Bwd Pkt Len Mean', 'Fwd IAT Tot', 'Flow IAT Mean', 'Bwd Pkt Len Std', 'Bwd Seg Size Avg', 'Fwd Pkt Len Std'], 'Normal sample 739': ['Down/Up Ratio', 'Flow Pkts/s', 'Fwd Pkt Len Std', 'Pkt Len Std', 'Pkt Len Min', 'Subflow Fwd Byts', 'Pkt Len Max', 'Flow IAT Std', 'Pkt Size Avg', 'Fwd Pkt Len Max'], 'Normal sample 740': ['SYN Flag Cnt', 'Bwd IAT Std', 'Bwd IAT Max', 'Bwd Pkt Len Std', 'Bwd Pkt Len Max', 'Flow IAT Min', 'PSH Flag Cnt', 'TotLen Bwd Pkts', 'Bwd Seg Size Avg', 'Tot Bwd Pkts'], 'Normal sample 741': ['Init Bwd Win Byts', 'Fwd Pkt Len Std', 'Bwd Pkt Len Max', 'Bwd IAT Tot', 'Fwd Header Len', 'TotLen Bwd Pkts', 'Bwd IAT Min', 'Fwd IAT Mean', 'Bwd IAT Mean', 'Subflow Bwd Byts'], 'Normal sample 742': ['Init Bwd Win Byts', 'Bwd IAT Max', 'Idle Mean', 'Subflow Fwd Pkts', 'TotLen Fwd Pkts', 'Bwd Pkt Len Max', 'Idle Min', 'Active Std', 'Flow Duration', 'Bwd IAT Min'], 'Normal sample 743': ['Init Bwd Win Byts', 'Flow IAT Min', 'Idle Mean', 'Bwd Pkt Len Mean', 'Fwd IAT Std', 'Flow Byts/s', 'Fwd Pkt Len Min', 'Subflow Fwd Byts', 'Fwd IAT Tot', 'Bwd Pkt Len Max'], 'Normal sample 744': ['SYN Flag Cnt', 'Idle Min', 'Pkt Len Var', 'Bwd IAT Min', 'Pkt Len Min', 'Bwd PSH Flags', 'Idle Mean', 'TotLen Fwd Pkts', 'TotLen Bwd Pkts', 'Bwd Pkt Len Max'], 'Normal sample 745': ['SYN Flag Cnt', 'Bwd IAT Max', 'Idle Max', 'Bwd IAT Std', 'Flow IAT Mean', 'Bwd IAT Mean', 'Subflow Bwd Byts', 'Pkt Len Min', 'Bwd Seg Size Avg', 'Idle Mean'], 'Normal sample 746': ['Init Bwd Win Byts', 'Idle Max', 'Bwd Pkt Len Max', 'Fwd Pkts/s', 'Fwd IAT Mean', 'Subflow Fwd Pkts', 'Active Mean', 'Idle Mean', 'Flow IAT Max', 'Bwd IAT Min'], 'Normal sample 747': ['Init Bwd Win Byts', 'Pkt Len Min', 'Down/Up Ratio', 'Fwd IAT Max', 'Tot Fwd Pkts', 'Tot Bwd Pkts', 'TotLen Bwd Pkts', 'Flow Byts/s', 'Fwd IAT Min', 'Bwd IAT Min'], 'Normal sample 748': ['ACK Flag Cnt', 'Bwd IAT Std', 'Bwd IAT Tot', 'Bwd IAT Max', 'Bwd IAT Mean', 'Flow IAT Mean', 'Fwd Pkt Len Std', 'TotLen Fwd Pkts', 'Idle Std', 'Bwd Seg Size Avg'], 'Normal sample 749': ['ACK Flag Cnt', 'Active Min', 'Active Mean', 'Active Max', 'Bwd IAT Max', 'Bwd IAT Tot', 'Subflow Bwd Pkts', 'Flow IAT Max', 'Bwd Seg Size Avg', 'Idle Max'], 'Normal sample 750': ['Init Bwd Win Byts', 'Idle Max', 'Idle Mean', 'Bwd Seg Size Avg', 'Subflow Fwd Pkts', 'Tot Bwd Pkts', 'TotLen Fwd Pkts', 'TotLen Bwd Pkts', 'Fwd Pkt Len Max', 'Fwd Pkt Len Min'], 'Normal sample 751': ['SYN Flag Cnt', 'Bwd Pkt Len Max', 'Bwd Pkt Len Std', 'Bwd IAT Max', 'Bwd Pkt Len Mean', 'Bwd PSH Flags', 'Fwd Act Data Pkts', 'Subflow Fwd Byts', 'Bwd Seg Size Avg', 'Idle Min'], 'Normal sample 752': ['Down/Up Ratio', 'Tot Fwd Pkts', 'TotLen Fwd Pkts', 'Fwd Pkt Len Min', 'Bwd Pkt Len Min', 'Bwd Pkt Len Std', 'Flow Byts/s', 'Flow IAT Mean', 'Flow IAT Std', 'Flow IAT Min'], 'Normal sample 753': ['Bwd PSH Flags', 'Bwd Pkt Len Min', 'Down/Up Ratio', 'Fwd IAT Tot', 'Idle Max', 'Fwd IAT Min', 'Active Std', 'Flow IAT Mean', 'Bwd Seg Size Avg', 'Flow IAT Std'], 'Normal sample 754': ['Init Bwd Win Byts', 'Idle Min', 'Idle Mean', 'Fwd IAT Tot', 'Idle Std', 'Fwd IAT Max', 'Bwd Pkt Len Max', 'Active Mean', 'Bwd Seg Size Avg', 'Flow Duration'], 'Normal sample 755': ['ACK Flag Cnt', 'Bwd IAT Tot', 'Bwd IAT Max', 'Idle Max', 'Idle Std', 'Bwd IAT Std', 'Idle Mean', 'Bwd Seg Size Avg', 'Flow IAT Max', 'Subflow Bwd Pkts'], 'Normal sample 756': ['SYN Flag Cnt', 'Bwd IAT Max', 'Bwd IAT Std', 'Idle Max', 'Bwd IAT Mean', 'Idle Mean', 'Down/Up Ratio', 'Bwd Pkt Len Std', 'Subflow Fwd Pkts', 'Flow IAT Max'], 'Normal sample 757': ['Down/Up Ratio', 'TotLen Fwd Pkts', 'TotLen Bwd Pkts', 'Fwd Pkt Len Min', 'Bwd Pkt Len Max', 'Bwd Pkt Len Min', 'Flow Byts/s', 'Fwd IAT Tot', 'Fwd IAT Std', 'Fwd IAT Max'], 'Normal sample 758': ['Init Bwd Win Byts', 'Idle Mean', 'Idle Min', 'Bwd Seg Size Avg', 'Fwd IAT Max', 'Subflow Bwd Pkts', 'Fwd IAT Tot', 'Bwd IAT Min', 'Bwd IAT Mean', 'Fwd Act Data Pkts'], 'Normal sample 759': ['Init Bwd Win Byts', 'Fwd IAT Max', 'TotLen Fwd Pkts', 'Fwd Pkt Len Std', 'Bwd Header Len', 'Bwd Pkt Len Max', 'Pkt Len Var', 'Fwd Pkt Len Min', 'Flow Duration', 'Flow IAT Min'], 'Normal sample 760': ['TotLen Bwd Pkts', 'Bwd Seg Size Avg', 'Init Bwd Win Byts', 'Active Mean', 'Bwd IAT Min', 'Pkt Len Var', 'Flow Duration', 'Tot Fwd Pkts', 'Tot Bwd Pkts', 'TotLen Fwd Pkts'], 'Normal sample 761': ['Init Bwd Win Byts', 'Idle Max', 'Idle Mean', 'Flow IAT Max', 'Fwd IAT Tot', 'Flow IAT Min', 'Fwd IAT Max', 'Bwd Pkt Len Mean', 'Flow Duration', 'Tot Fwd Pkts'], 'Normal sample 762': ['Init Bwd Win Byts', 'Idle Max', 'Idle Mean', 'Bwd Header Len', 'Fwd Act Data Pkts', 'Active Max', 'Fwd IAT Mean', 'TotLen Fwd Pkts', 'Bwd IAT Mean', 'Flow Duration'], 'Normal sample 763': ['Init Bwd Win Byts', 'Flow IAT Min', 'Bwd Pkt Len Min', 'Active Mean', 'Subflow Bwd Pkts', 'Tot Bwd Pkts', 'TotLen Fwd Pkts', 'TotLen Bwd Pkts', 'Fwd Pkt Len Min', 'Bwd Pkt Len Max'], 'Normal sample 764': ['SYN Flag Cnt', 'Bwd Header Len', 'Fwd IAT Min', 'Idle Max', 'Pkt Len Min', 'Active Min', 'Idle Mean', 'Idle Min', 'Fwd Act Data Pkts', 'Fwd Pkt Len Min'], 'Normal sample 765': ['SYN Flag Cnt', 'Idle Mean', 'Bwd Pkt Len Std', 'Bwd IAT Std', 'Idle Min', 'Bwd IAT Tot', 'Fwd IAT Min', 'Flow IAT Min', 'Idle Max', 'Fwd Header Len'], 'Normal sample 766': ['SYN Flag Cnt', 'Bwd Pkt Len Max', 'Bwd IAT Max', 'Bwd IAT Tot', 'Active Std', 'Idle Std', 'FIN Flag Cnt', 'Pkt Len Min', 'Fwd Seg Size Avg', 'Bwd Pkt Len Std'], 'Normal sample 767': ['Bwd PSH Flags', 'Bwd Pkt Len Std', 'Down/Up Ratio', 'Subflow Bwd Pkts', 'Idle Max', 'TotLen Fwd Pkts', 'Fwd IAT Min', 'Pkt Len Min', 'Active Max', 'Bwd Pkt Len Max'], 'Normal sample 768': ['Down/Up Ratio', 'Pkt Len Min', 'Fwd Pkt Len Max', 'Flow Pkts/s', 'Fwd IAT Min', 'Pkt Len Mean', 'Pkt Len Max', 'Fwd Pkt Len Mean', 'Pkt Len Std', 'Fwd Seg Size Avg'], 'Normal sample 769': ['Bwd IAT Max', 'ACK Flag Cnt', 'Idle Max', 'Bwd IAT Tot', 'Idle Min', 'Bwd IAT Std', 'Flow IAT Max', 'Bwd PSH Flags', 'Idle Mean', 'Tot Fwd Pkts'], 'Normal sample 770': ['SYN Flag Cnt', 'Bwd IAT Max', 'Bwd IAT Std', 'Subflow Bwd Byts', 'Idle Mean', 'Flow IAT Min', 'Idle Std', 'Fwd Pkt Len Min', 'Subflow Fwd Pkts', 'TotLen Fwd Pkts'], 'Normal sample 771': ['SYN Flag Cnt', 'Bwd Pkt Len Max', 'Bwd Pkt Len Std', 'Flow Byts/s', 'Bwd IAT Min', 'Idle Max', 'Bwd Seg Size Avg', 'Bwd Pkt Len Mean', 'Idle Mean', 'Subflow Fwd Pkts'], 'Normal sample 772': ['Init Bwd Win Byts', 'Bwd Pkt Len Mean', 'Bwd Pkt Len Max', 'Idle Mean', 'Fwd IAT Tot', 'Subflow Fwd Byts', 'Idle Max', 'Fwd IAT Max', 'Fwd IAT Mean', 'Fwd Pkts/s'], 'Normal sample 773': ['Flow Pkts/s', 'Pkt Len Max', 'Pkt Len Mean', 'Pkt Size Avg', 'Pkt Len Std', 'Fwd Seg Size Avg', 'Pkt Len Min', 'Fwd Pkt Len Max', 'Fwd Pkt Len Mean', 'Fwd Pkt Len Std'], 'Normal sample 774': ['SYN Flag Cnt', 'Idle Max', 'Subflow Bwd Byts', 'Bwd Pkt Len Std', 'Idle Mean', 'Pkt Len Min', 'Bwd Pkt Len Mean', 'ACK Flag Cnt', 'Subflow Fwd Pkts', 'TotLen Fwd Pkts'], 'Normal sample 775': ['SYN Flag Cnt', 'Bwd IAT Std', 'Bwd IAT Max', 'Idle Max', 'Bwd Pkt Len Std', 'Bwd IAT Mean', 'Flow IAT Mean', 'Bwd IAT Tot', 'Tot Fwd Pkts', 'Idle Std'], 'Normal sample 776': ['ACK Flag Cnt', 'Bwd IAT Max', 'Bwd IAT Tot', 'Flow IAT Max', 'Bwd IAT Std', 'Idle Std', 'Active Mean', 'Idle Max', 'Idle Mean', 'Bwd PSH Flags'], 'Normal sample 777': ['SYN Flag Cnt', 'Bwd IAT Std', 'Bwd IAT Max', 'Fwd IAT Mean', 'Bwd Pkt Len Max', 'Subflow Bwd Byts', 'Bwd Pkt Len Mean', 'Pkt Len Var', 'Bwd IAT Tot', 'Fwd Pkts/s'], 'Normal sample 778': ['Down/Up Ratio', 'Flow Pkts/s', 'Fwd Pkt Len Max', 'Pkt Len Std', 'Pkt Len Max', 'Bwd Pkt Len Min', 'Pkt Len Mean', 'Idle Mean', 'Subflow Bwd Byts', 'Pkt Len Min'], 'Normal sample 779': ['Init Bwd Win Byts', 'Idle Max', 'Bwd Pkt Len Mean', 'Fwd Header Len', 'Active Max', 'Subflow Bwd Pkts', 'Tot Bwd Pkts', 'Idle Mean', 'Fwd IAT Mean', 'Flow Pkts/s'], 'Normal sample 780': ['Init Bwd Win Byts', 'Flow IAT Min', 'Bwd Pkt Len Mean', 'Idle Max', 'Flow Duration', 'Idle Min', 'Fwd Pkts/s', 'Pkt Len Var', 'Bwd Header Len', 'Bwd IAT Tot'], 'Normal sample 781': ['Bwd IAT Std', 'Bwd IAT Tot', 'Flow IAT Mean', 'Bwd IAT Max', 'Bwd IAT Mean', 'Flow IAT Std', 'Init Bwd Win Byts', 'Subflow Bwd Byts', 'Bwd Pkt Len Mean', 'Tot Fwd Pkts'], 'Normal sample 782': ['Bwd Seg Size Avg', 'Init Bwd Win Byts', 'Flow IAT Max', 'Bwd Pkt Len Mean', 'Flow IAT Std', 'Tot Fwd Pkts', 'Tot Bwd Pkts', 'TotLen Bwd Pkts', 'Fwd Pkt Len Std', 'Bwd Pkt Len Max'], 'Normal sample 783': ['Init Bwd Win Byts', 'Fwd Pkts/s', 'Subflow Fwd Pkts', 'Idle Mean', 'Idle Max', 'Fwd IAT Std', 'Active Max', 'Bwd Pkt Len Max', 'Bwd IAT Min', 'Subflow Bwd Pkts'], 'Normal sample 784': ['Init Bwd Win Byts', 'Bwd Pkt Len Max', 'Active Min', 'Fwd IAT Min', 'Flow IAT Min', 'Active Std', 'Bwd Seg Size Avg', 'Bwd IAT Tot', 'Fwd Pkt Len Std', 'Subflow Fwd Pkts'], 'Normal sample 785': ['Init Bwd Win Byts', 'Flow Byts/s', 'Down/Up Ratio', 'Flow IAT Max', 'TotLen Fwd Pkts', 'Idle Max', 'Bwd Seg Size Avg', 'Bwd Pkt Len Std', 'Bwd Pkt Len Mean', 'Active Mean'], 'Normal sample 786': ['Init Bwd Win Byts', 'Fwd IAT Max', 'Flow IAT Max', 'Fwd Act Data Pkts', 'Bwd Pkt Len Mean', 'Bwd IAT Min', 'Flow Pkts/s', 'Fwd IAT Min', 'Subflow Bwd Byts', 'Fwd Pkts/s'], 'Normal sample 787': ['ACK Flag Cnt', 'Bwd IAT Tot', 'Bwd IAT Max', 'Bwd IAT Std', 'Idle Mean', 'Idle Min', 'Idle Max', 'Subflow Fwd Pkts', 'Bwd Seg Size Avg', 'Pkt Len Min'], 'Normal sample 788': ['Init Bwd Win Byts', 'Fwd IAT Min', 'Fwd IAT Mean', 'Flow Duration', 'Idle Min', 'Idle Max', 'Fwd Header Len', 'Fwd IAT Tot', 'Bwd IAT Mean', 'Tot Fwd Pkts'], 'Normal sample 789': ['Init Bwd Win Byts', 'Idle Max', 'Bwd Pkt Len Mean', 'Bwd IAT Mean', 'Idle Min', 'Tot Fwd Pkts', 'Flow IAT Min', 'Idle Mean', 'Fwd Header Len', 'Fwd IAT Mean'], 'Normal sample 790': ['Init Bwd Win Byts', 'Down/Up Ratio', 'Fwd Pkt Len Max', 'Bwd IAT Min', 'Bwd IAT Mean', 'Subflow Fwd Pkts', 'Idle Min', 'Flow IAT Max', 'Active Min', 'Fwd Pkt Len Min'], 'Normal sample 791': ['SYN Flag Cnt', 'Bwd Pkt Len Max', 'Bwd Pkt Len Std', 'Bwd IAT Max', 'Idle Max', 'TotLen Bwd Pkts', 'Idle Mean', 'Tot Fwd Pkts', 'Subflow Bwd Byts', 'Bwd Seg Size Avg'], 'Normal sample 792': ['SYN Flag Cnt', 'Bwd IAT Tot', 'Bwd IAT Std', 'Flow IAT Mean', 'Bwd IAT Max', 'Fwd Act Data Pkts', 'Flow IAT Max', 'Active Min', 'Idle Std', 'Tot Fwd Pkts'], 'Normal sample 793': ['Init Bwd Win Byts', 'Idle Max', 'Fwd IAT Mean', 'Idle Std', 'Fwd Pkt Len Std', 'Fwd IAT Std', 'Bwd Pkt Len Mean', 'Subflow Bwd Byts', 'Bwd Pkt Len Std', 'Bwd IAT Min'], 'Normal sample 794': ['SYN Flag Cnt', 'Active Max', 'Bwd IAT Max', 'Active Mean', 'Idle Max', 'Bwd IAT Std', 'Tot Fwd Pkts', 'Tot Bwd Pkts', 'TotLen Fwd Pkts', 'TotLen Bwd Pkts'], 'Normal sample 795': ['Init Bwd Win Byts', 'Bwd IAT Mean', 'Tot Bwd Pkts', 'Bwd Pkt Len Mean', 'Fwd IAT Max', 'Idle Max', 'Bwd Pkt Len Max', 'Tot Fwd Pkts', 'Active Max', 'Bwd Seg Size Avg'], 'Normal sample 796': ['SYN Flag Cnt', 'Bwd Pkt Len Max', 'Bwd Pkt Len Std', 'PSH Flag Cnt', 'Bwd IAT Max', 'Bwd Pkt Len Mean', 'Bwd IAT Tot', 'Bwd Seg Size Avg', 'Fwd Pkts/s', 'Flow Byts/s'], 'Normal sample 797': ['SYN Flag Cnt', 'Bwd IAT Std', 'Bwd IAT Max', 'Bwd Pkt Len Max', 'Subflow Bwd Pkts', 'TotLen Bwd Pkts', 'Flow IAT Min', 'Flow Byts/s', 'Idle Mean', 'Bwd IAT Mean'], 'Normal sample 798': ['ACK Flag Cnt', 'Bwd IAT Tot', 'Bwd IAT Std', 'Bwd IAT Max', 'Bwd IAT Mean', 'Flow IAT Min', 'FIN Flag Cnt', 'TotLen Fwd Pkts', 'Pkt Len Min', 'Fwd IAT Min'], 'Normal sample 799': ['Down/Up Ratio', 'Fwd Pkt Len Std', 'Pkt Len Min', 'Pkt Len Std', 'Flow Pkts/s', 'Pkt Len Max', 'Fwd Pkt Len Max', 'Fwd IAT Tot', 'Bwd IAT Mean', 'Fwd Seg Size Avg'], 'Normal sample 800': ['Down/Up Ratio', 'Fwd Pkt Len Std', 'Flow Pkts/s', 'Pkt Size Avg', 'Fwd Pkt Len Mean', 'Fwd Pkt Len Max', 'Idle Std', 'Bwd Header Len', 'Pkt Len Std', 'Fwd Pkts/s'], 'Normal sample 801': ['SYN Flag Cnt', 'Bwd Pkt Len Max', 'Fwd IAT Mean', 'Bwd IAT Max', 'Flow Byts/s', 'Subflow Bwd Byts', 'Tot Bwd Pkts', 'TotLen Fwd Pkts', 'TotLen Bwd Pkts', 'Fwd Pkt Len Min'], 'Normal sample 802': ['ACK Flag Cnt', 'Bwd IAT Max', 'Bwd IAT Std', 'Bwd IAT Tot', 'Idle Max', 'Idle Min', 'Idle Std', 'Flow IAT Max', 'Tot Fwd Pkts', 'Fwd Seg Size Avg'], 'Normal sample 803': ['Init Bwd Win Byts', 'Down/Up Ratio', 'Idle Mean', 'Fwd IAT Std', 'Pkt Len Var', 'Flow IAT Min', 'Bwd Pkt Len Mean', 'TotLen Fwd Pkts', 'Flow IAT Std', 'Tot Fwd Pkts'], 'Normal sample 804': ['Bwd PSH Flags', 'Tot Fwd Pkts', 'Fwd IAT Mean', 'Flow Byts/s', 'Pkt Len Min', 'Bwd IAT Tot', 'Idle Min', 'Bwd Header Len', 'Fwd Act Data Pkts', 'Fwd IAT Min'], 'Normal sample 805': ['Init Bwd Win Byts', 'Fwd IAT Std', 'Fwd Header Len', 'Idle Max', 'Bwd Pkt Len Max', 'Idle Mean', 'Subflow Fwd Pkts', 'Flow IAT Mean', 'Tot Bwd Pkts', 'Bwd IAT Min'], 'Normal sample 806': ['SYN Flag Cnt', 'Bwd Pkt Len Max', 'Fwd Pkts/s', 'Bwd PSH Flags', 'Pkt Len Var', 'Idle Mean', 'Bwd IAT Std', 'Active Mean', 'Fwd IAT Min', 'Bwd Pkt Len Std'], 'Normal sample 807': ['Init Bwd Win Byts', 'Bwd Pkt Len Std', 'Idle Min', 'Fwd Pkt Len Std', 'Tot Bwd Pkts', 'Idle Mean', 'Fwd IAT Min', 'Fwd Pkt Len Min', 'Bwd Header Len', 'Subflow Fwd Byts'], 'Normal sample 808': ['ACK Flag Cnt', 'Bwd IAT Std', 'Bwd IAT Max', 'Bwd IAT Tot', 'FIN Flag Cnt', 'Bwd IAT Mean', 'Idle Max', 'Bwd IAT Min', 'Subflow Bwd Pkts', 'Fwd Pkts/s'], 'Normal sample 809': ['Init Bwd Win Byts', 'Bwd Header Len', 'Fwd Pkt Len Min', 'Tot Fwd Pkts', 'Idle Min', 'Idle Mean', 'Fwd IAT Mean', 'Subflow Fwd Byts', 'Fwd IAT Tot', 'Fwd IAT Min'], 'Normal sample 810': ['Init Bwd Win Byts', 'Fwd Pkt Len Std', 'Bwd IAT Min', 'TotLen Bwd Pkts', 'Bwd IAT Mean', 'Idle Mean', 'Active Mean', 'Idle Max', 'Fwd IAT Max', 'Fwd IAT Tot'], 'Normal sample 811': ['SYN Flag Cnt', 'Bwd IAT Max', 'Bwd Pkt Len Max', 'Bwd Pkt Len Std', 'Bwd IAT Std', 'Active Min', 'Active Std', 'Active Max', 'Bwd Pkt Len Mean', 'Bwd IAT Tot'], 'Normal sample 812': ['Init Bwd Win Byts', 'Idle Max', 'Active Max', 'Fwd Pkts/s', 'Tot Bwd Pkts', 'Pkt Len Var', 'Bwd IAT Max', 'Bwd Pkt Len Mean', 'Bwd IAT Tot', 'Flow IAT Std'], 'Normal sample 813': ['SYN Flag Cnt', 'Bwd Pkt Len Max', 'Subflow Fwd Byts', 'Tot Fwd Pkts', 'Pkt Len Min', 'Fwd IAT Min', 'Fwd IAT Std', 'Flow IAT Min', 'Subflow Bwd Pkts', 'Idle Mean'], 'Normal sample 814': ['Init Bwd Win Byts', 'Flow Duration', 'Tot Fwd Pkts', 'Tot Bwd Pkts', 'TotLen Bwd Pkts', 'Fwd Pkt Len Min', 'Bwd Pkt Len Min', 'Bwd Pkt Len Mean', 'Bwd Pkt Len Std', 'Flow Pkts/s'], 'Normal sample 815': ['Flow Pkts/s', 'Pkt Len Max', 'Fwd Pkt Len Std', 'Fwd Pkt Len Max', 'Pkt Len Std', 'Fwd Pkt Len Mean', 'Pkt Size Avg', 'Pkt Len Min', 'Fwd IAT Max', 'Flow IAT Std'], 'Normal sample 816': ['Init Bwd Win Byts', 'Fwd Pkts/s', 'Flow IAT Min', 'Active Max', 'Tot Bwd Pkts', 'TotLen Fwd Pkts', 'TotLen Bwd Pkts', 'Fwd Pkt Len Std', 'Bwd Pkt Len Max', 'Bwd Pkt Len Mean'], 'Normal sample 817': ['SYN Flag Cnt', 'Bwd Pkt Len Min', 'Bwd Pkt Len Max', 'TotLen Fwd Pkts', 'Tot Bwd Pkts', 'TotLen Bwd Pkts', 'Fwd Pkt Len Max', 'Fwd Pkt Len Min', 'Bwd Pkt Len Std', 'Flow Byts/s'], 'Normal sample 818': ['Init Bwd Win Byts', 'Bwd Header Len', 'Fwd Act Data Pkts', 'Tot Bwd Pkts', 'Fwd Pkts/s', 'Fwd IAT Min', 'Idle Mean', 'Idle Min', 'Fwd IAT Mean', 'Tot Fwd Pkts'], 'Normal sample 819': ['ACK Flag Cnt', 'Bwd IAT Std', 'Bwd IAT Max', 'Bwd PSH Flags', 'Idle Std', 'Bwd IAT Tot', 'Bwd Pkt Len Max', 'Flow Byts/s', 'Flow IAT Max', 'Subflow Bwd Byts'], 'Normal sample 820': ['SYN Flag Cnt', 'Bwd IAT Max', 'Bwd IAT Std', 'PSH Flag Cnt', 'Flow IAT Mean', 'Fwd Pkts/s', 'Tot Bwd Pkts', 'TotLen Fwd Pkts', 'TotLen Bwd Pkts', 'Fwd Pkt Len Min'], 'Normal sample 821': ['Flow Pkts/s', 'Down/Up Ratio', 'FIN Flag Cnt', 'Pkt Len Min', 'Pkt Len Max', 'Idle Mean', 'Bwd Pkt Len Std', 'Flow Byts/s', 'Active Max', 'Pkt Len Std'], 'Normal sample 822': ['Init Bwd Win Byts', 'Fwd IAT Max', 'Idle Max', 'Idle Mean', 'Bwd IAT Tot', 'Fwd IAT Std', 'Idle Min', 'Fwd IAT Tot', 'Flow IAT Mean', 'Subflow Bwd Byts'], 'Normal sample 823': ['Init Bwd Win Byts', 'Flow IAT Min', 'Tot Fwd Pkts', 'Tot Bwd Pkts', 'TotLen Fwd Pkts', 'Fwd Pkt Len Min', 'Bwd Pkt Len Max', 'Bwd Pkt Len Min', 'Flow Pkts/s', 'Flow IAT Mean'], 'Normal sample 824': ['Flow Pkts/s', 'Pkt Len Max', 'Pkt Len Mean', 'Pkt Len Std', 'Pkt Len Min', 'Pkt Size Avg', 'Fwd Pkt Len Max', 'Fwd Seg Size Avg', 'Fwd Pkt Len Std', 'Fwd IAT Tot'], 'Normal sample 825': ['Bwd IAT Tot', 'Bwd IAT Max', 'ACK Flag Cnt', 'Idle Max', 'Idle Mean', 'Bwd IAT Std', 'Bwd IAT Min', 'Active Max', 'Flow IAT Max', 'Idle Std'], 'Normal sample 826': ['SYN Flag Cnt', 'Bwd Pkt Len Max', 'Down/Up Ratio', 'Bwd IAT Std', 'Pkt Len Min', 'Bwd Header Len', 'Tot Bwd Pkts', 'Flow Duration', 'TotLen Fwd Pkts', 'TotLen Bwd Pkts'], 'Normal sample 827': ['Flow Pkts/s', 'Down/Up Ratio', 'FIN Flag Cnt', 'Pkt Len Min', 'Pkt Size Avg', 'Bwd Header Len', 'Fwd Seg Size Avg', 'Bwd Pkt Len Min', 'Fwd Pkt Len Mean', 'Tot Bwd Pkts'], 'Normal sample 828': ['SYN Flag Cnt', 'Bwd Pkt Len Max', 'Bwd IAT Max', 'Bwd IAT Std', 'Idle Mean', 'Subflow Fwd Byts', 'Tot Bwd Pkts', 'Bwd IAT Min', 'Pkt Len Min', 'Bwd PSH Flags'], 'Normal sample 829': ['Bwd PSH Flags', 'Subflow Fwd Byts', 'Bwd Pkt Len Max', 'Pkt Len Min', 'Flow IAT Max', 'Active Std', 'Bwd IAT Tot', 'Subflow Fwd Pkts', 'Fwd IAT Tot', 'Bwd IAT Min'], 'Normal sample 830': ['SYN Flag Cnt', 'Bwd IAT Max', 'Bwd IAT Tot', 'Tot Fwd Pkts', 'Fwd Header Len', 'TotLen Fwd Pkts', 'Flow IAT Min', 'Pkt Len Min', 'Idle Max', 'Fwd Pkt Len Min'], 'Normal sample 831': ['SYN Flag Cnt', 'Tot Fwd Pkts', 'TotLen Fwd Pkts', 'TotLen Bwd Pkts', 'Fwd Pkt Len Min', 'Bwd Pkt Len Max', 'Bwd Pkt Len Min', 'Bwd Pkt Len Mean', 'Bwd Pkt Len Std', 'Flow Byts/s'], 'Normal sample 832': ['SYN Flag Cnt', 'Bwd Pkt Len Max', 'Subflow Fwd Byts', 'Flow Duration', 'Tot Fwd Pkts', 'Tot Bwd Pkts', 'TotLen Fwd Pkts', 'TotLen Bwd Pkts', 'Fwd Pkt Len Min', 'Bwd Pkt Len Min'], 'Normal sample 833': ['Bwd IAT Tot', 'ACK Flag Cnt', 'Bwd IAT Max', 'Bwd PSH Flags', 'Bwd IAT Std', 'Idle Max', 'Down/Up Ratio', 'Idle Mean', 'Pkt Len Min', 'Flow IAT Std'], 'Normal sample 834': ['Init Bwd Win Byts', 'Pkt Len Min', 'Subflow Fwd Pkts', 'Bwd Pkt Len Min', 'Subflow Fwd Byts', 'Fwd IAT Min', 'Fwd IAT Tot', 'Tot Fwd Pkts', 'TotLen Bwd Pkts', 'Flow Byts/s'], 'Normal sample 835': ['Init Bwd Win Byts', 'TotLen Bwd Pkts', 'Tot Fwd Pkts', 'Idle Mean', 'Fwd IAT Max', 'Flow IAT Mean', 'Fwd IAT Std', 'Bwd IAT Max', 'Idle Min', 'Subflow Fwd Pkts'], 'Normal sample 836': ['Init Bwd Win Byts', 'Fwd Pkt Len Std', 'Flow Duration', 'Bwd Pkt Len Max', 'PSH Flag Cnt', 'Fwd IAT Min', 'Bwd Header Len', 'Fwd IAT Mean', 'Fwd IAT Max', 'Flow IAT Max'], 'Normal sample 837': ['SYN Flag Cnt', 'Bwd Pkt Len Max', 'Bwd Pkt Len Std', 'Active Std', 'Subflow Fwd Byts', 'Idle Mean', 'Tot Bwd Pkts', 'Bwd Pkt Len Mean', 'Flow IAT Mean', 'Bwd PSH Flags'], 'Normal sample 838': ['SYN Flag Cnt', 'Bwd IAT Std', 'Bwd Pkt Len Std', 'TotLen Bwd Pkts', 'Bwd IAT Max', 'Bwd Pkt Len Max', 'Bwd IAT Tot', 'Bwd Seg Size Avg', 'Idle Mean', 'Bwd Header Len'], 'Normal sample 839': ['Bwd PSH Flags', 'Fwd IAT Std', 'Idle Max', 'Bwd Pkt Len Min', 'Fwd Pkt Len Max', 'Fwd Pkt Len Mean', 'Subflow Bwd Pkts', 'Bwd Pkt Len Mean', 'Fwd Pkts/s', 'Fwd IAT Max'], 'Normal sample 840': ['Init Bwd Win Byts', 'Bwd Pkt Len Mean', 'Subflow Bwd Byts', 'Fwd IAT Max', 'Bwd Pkt Len Max', 'Fwd IAT Min', 'Flow Byts/s', 'Subflow Fwd Pkts', 'Fwd IAT Std', 'Idle Max'], 'Normal sample 841': ['Init Bwd Win Byts', 'Bwd IAT Max', 'Bwd IAT Std', 'Idle Max', 'Bwd IAT Tot', 'Idle Min', 'Fwd IAT Std', 'TotLen Bwd Pkts', 'Fwd Pkt Len Std', 'Tot Fwd Pkts'], 'Normal sample 842': ['Down/Up Ratio', 'Pkt Len Std', 'Pkt Len Max', 'Flow Pkts/s', 'Fwd Pkt Len Std', 'Fwd Pkt Len Mean', 'Fwd Seg Size Avg', 'Fwd Pkt Len Max', 'Pkt Size Avg', 'Fwd IAT Tot'], 'Normal sample 843': ['Bwd IAT Tot', 'ACK Flag Cnt', 'Bwd IAT Std', 'Bwd IAT Max', 'Idle Max', 'Flow IAT Max', 'Flow IAT Mean', 'Bwd IAT Min', 'TotLen Fwd Pkts', 'Idle Mean'], 'Normal sample 844': ['PSH Flag Cnt', 'Init Bwd Win Byts', 'Bwd PSH Flags', 'Pkt Len Min', 'Bwd Seg Size Avg', 'Fwd IAT Max', 'TotLen Bwd Pkts', 'Flow Pkts/s', 'Fwd IAT Tot', 'Fwd Seg Size Avg'], 'Normal sample 845': ['ACK Flag Cnt', 'Bwd IAT Std', 'Bwd IAT Max', 'Bwd IAT Tot', 'Flow IAT Mean', 'Bwd IAT Mean', 'TotLen Fwd Pkts', 'Pkt Len Mean', 'Active Max', 'Pkt Len Min'], 'Normal sample 846': ['Flow Pkts/s', 'Down/Up Ratio', 'FIN Flag Cnt', 'Pkt Len Var', 'Pkt Size Avg', 'Fwd Pkts/s', 'Idle Min', 'Fwd IAT Std', 'Fwd Seg Size Avg', 'Pkt Len Mean'], 'Normal sample 847': ['Init Bwd Win Byts', 'Subflow Fwd Pkts', 'Fwd Pkt Len Std', 'Subflow Bwd Pkts', 'Subflow Fwd Byts', 'Fwd Header Len', 'Fwd IAT Max', 'Idle Mean', 'Fwd Pkt Len Max', 'Idle Max'], 'Normal sample 848': ['Flow Pkts/s', 'FIN Flag Cnt', 'Down/Up Ratio', 'Pkt Size Avg', 'Fwd Pkt Len Mean', 'Idle Max', 'TotLen Fwd Pkts', 'Bwd IAT Tot', 'Pkt Len Mean', 'Pkt Len Max'], 'Normal sample 849': ['Flow Pkts/s', 'Down/Up Ratio', 'FIN Flag Cnt', 'Subflow Bwd Pkts', 'Pkt Len Min', 'Flow IAT Min', 'Fwd Pkt Len Mean', 'Fwd Pkt Len Max', 'Bwd IAT Mean', 'Flow Duration'], 'Normal sample 850': ['SYN Flag Cnt', 'Bwd Pkt Len Max', 'Bwd IAT Max', 'Tot Fwd Pkts', 'TotLen Fwd Pkts', 'Bwd IAT Mean', 'Bwd Pkt Len Std', 'Flow Duration', 'Active Mean', 'Tot Bwd Pkts'], 'Normal sample 851': ['Bwd IAT Tot', 'ACK Flag Cnt', 'Idle Max', 'Bwd IAT Max', 'Bwd IAT Std', 'PSH Flag Cnt', 'Idle Mean', 'Active Std', 'Bwd Pkt Len Max', 'Idle Min'], 'Normal sample 852': ['Init Bwd Win Byts', 'Fwd Header Len', 'Bwd Header Len', 'Bwd Pkt Len Max', 'Flow Duration', 'TotLen Fwd Pkts', 'Bwd Seg Size Avg', 'Bwd IAT Tot', 'Subflow Fwd Pkts', 'Fwd Pkt Len Max'], 'Normal sample 853': ['Init Bwd Win Byts', 'Idle Max', 'Flow Byts/s', 'Fwd Pkts/s', 'Subflow Bwd Byts', 'Fwd IAT Std', 'Pkt Len Var', 'Tot Bwd Pkts', 'Fwd IAT Max', 'TotLen Bwd Pkts'], 'Normal sample 854': ['Init Bwd Win Byts', 'Idle Max', 'Subflow Fwd Byts', 'Bwd Seg Size Avg', 'Fwd Pkts/s', 'Fwd IAT Max', 'Active Max', 'Subflow Fwd Pkts', 'Fwd Header Len', 'Subflow Bwd Byts'], 'Normal sample 855': ['Init Bwd Win Byts', 'Fwd Pkt Len Std', 'Fwd IAT Max', 'Subflow Bwd Byts', 'Bwd Pkt Len Std', 'Idle Min', 'Fwd IAT Std', 'Fwd Pkts/s', 'Idle Max', 'Bwd Header Len'], 'Normal sample 856': ['Init Bwd Win Byts', 'Flow IAT Std', 'Bwd Pkt Len Mean', 'Bwd Pkt Len Std', 'Fwd IAT Std', 'Subflow Bwd Pkts', 'Fwd IAT Min', 'Fwd Header Len', 'Active Mean', 'Fwd IAT Max'], 'Normal sample 857': ['Init Bwd Win Byts', 'Flow Duration', 'Tot Fwd Pkts', 'Tot Bwd Pkts', 'TotLen Fwd Pkts', 'TotLen Bwd Pkts', 'Fwd Pkt Len Min', 'Bwd Pkt Len Min', 'Bwd Pkt Len Mean', 'Bwd Pkt Len Std'], 'Normal sample 858': ['Init Bwd Win Byts', 'Fwd Act Data Pkts', 'Pkt Len Var', 'Fwd Pkt Len Std', 'Fwd IAT Max', 'Subflow Bwd Pkts', 'Fwd IAT Std', 'Tot Bwd Pkts', 'Idle Mean', 'Fwd Header Len'], 'Normal sample 859': ['Init Bwd Win Byts', 'Bwd IAT Mean', 'Idle Std', 'Bwd Pkt Len Max', 'TotLen Fwd Pkts', 'Fwd IAT Mean', 'Bwd Seg Size Avg', 'Fwd Header Len', 'Active Max', 'Subflow Bwd Byts'], 'Normal sample 860': ['Flow IAT Min', 'Idle Mean', 'Fwd IAT Mean', 'Fwd IAT Max', 'Init Bwd Win Byts', 'Idle Max', 'Subflow Fwd Pkts', 'Idle Min', 'Subflow Fwd Byts', 'Bwd IAT Min'], 'Normal sample 861': ['SYN Flag Cnt', 'Bwd IAT Max', 'Subflow Fwd Byts', 'Idle Max', 'Bwd IAT Std', 'Bwd Pkt Len Std', 'Idle Std', 'Flow Byts/s', 'Pkt Size Avg', 'Tot Fwd Pkts'], 'Normal sample 862': ['Init Bwd Win Byts', 'Idle Min', 'Bwd Pkt Len Std', 'TotLen Fwd Pkts', 'Flow IAT Std', 'Fwd Header Len', 'Flow Byts/s', 'Subflow Bwd Pkts', 'Fwd IAT Std', 'Fwd IAT Tot'], 'Normal sample 863': ['Down/Up Ratio', 'Pkt Len Min', 'Flow Pkts/s', 'Fwd Seg Size Avg', 'Pkt Len Mean', 'Flow IAT Std', 'TotLen Bwd Pkts', 'Pkt Len Std', 'Fwd Pkt Len Mean', 'Pkt Size Avg'], 'Normal sample 864': ['Init Bwd Win Byts', 'Idle Mean', 'Subflow Bwd Pkts', 'Fwd Act Data Pkts', 'Bwd Seg Size Avg', 'Subflow Fwd Byts', 'Fwd IAT Max', 'TotLen Bwd Pkts', 'Pkt Len Var', 'Fwd IAT Std'], 'Normal sample 865': ['Down/Up Ratio', 'Tot Fwd Pkts', 'TotLen Fwd Pkts', 'TotLen Bwd Pkts', 'Fwd Pkt Len Min', 'Bwd Pkt Len Max', 'Bwd Pkt Len Std', 'Flow Byts/s', 'Flow IAT Max', 'Flow IAT Min'], 'Normal sample 866': ['Bwd PSH Flags', 'Idle Max', 'Idle Min', 'Pkt Len Var', 'Fwd Pkts/s', 'Bwd Pkt Len Min', 'Bwd Seg Size Avg', 'Fwd IAT Max', 'Bwd IAT Mean', 'Idle Mean'], 'Normal sample 867': ['SYN Flag Cnt', 'Bwd IAT Max', 'Bwd IAT Tot', 'Bwd IAT Std', 'Bwd IAT Min', 'Active Max', 'Active Min', 'Pkt Len Var', 'Tot Bwd Pkts', 'Fwd Pkts/s'], 'Normal sample 868': ['Init Bwd Win Byts', 'Down/Up Ratio', 'Bwd Seg Size Avg', 'Bwd Pkt Len Mean', 'Subflow Bwd Byts', 'Flow IAT Max', 'Fwd Seg Size Avg', 'Active Std', 'Idle Min', 'Tot Fwd Pkts'], 'Normal sample 869': ['Init Bwd Win Byts', 'Pkt Len Min', 'PSH Flag Cnt', 'Tot Fwd Pkts', 'Tot Bwd Pkts', 'TotLen Bwd Pkts', 'Fwd Pkt Len Min', 'Bwd Pkt Len Min', 'Flow Byts/s', 'Fwd IAT Tot'], 'Normal sample 870': ['Init Bwd Win Byts', 'Bwd IAT Mean', 'Idle Max', 'Fwd IAT Std', 'Bwd Pkt Len Std', 'Fwd Act Data Pkts', 'Bwd Pkt Len Mean', 'Flow Duration', 'Tot Fwd Pkts', 'TotLen Fwd Pkts'], 'Normal sample 871': ['SYN Flag Cnt', 'Idle Mean', 'Bwd IAT Mean', 'Fwd Act Data Pkts', 'Tot Fwd Pkts', 'TotLen Fwd Pkts', 'TotLen Bwd Pkts', 'Fwd Pkt Len Min', 'Bwd Pkt Len Min', 'Bwd Pkt Len Std'], 'Normal sample 872': ['Init Bwd Win Byts', 'Active Std', 'TotLen Bwd Pkts', 'Idle Std', 'Flow Duration', 'Fwd IAT Min', 'Idle Max', 'Subflow Fwd Byts', 'Active Min', 'Fwd Act Data Pkts'], 'Normal sample 873': ['Init Bwd Win Byts', 'Bwd Seg Size Avg', 'PSH Flag Cnt', 'Flow Byts/s', 'Flow Pkts/s', 'Fwd Pkt Len Std', 'Idle Max', 'Fwd IAT Max', 'Fwd IAT Min', 'Tot Fwd Pkts'], 'Normal sample 874': ['Init Bwd Win Byts', 'Down/Up Ratio', 'Pkt Len Var', 'Tot Fwd Pkts', 'TotLen Fwd Pkts', 'TotLen Bwd Pkts', 'Fwd Pkt Len Min', 'Bwd Pkt Len Min', 'Flow IAT Min', 'Fwd IAT Tot'], 'Normal sample 875': ['Init Bwd Win Byts', 'Idle Min', 'Bwd Pkt Len Mean', 'Bwd Seg Size Avg', 'Fwd IAT Tot', 'Bwd IAT Tot', 'Flow IAT Max', 'Flow Pkts/s', 'Tot Fwd Pkts', 'Tot Bwd Pkts'], 'Normal sample 876': ['Init Bwd Win Byts', 'Subflow Fwd Byts', 'Subflow Bwd Pkts', 'Bwd Pkt Len Mean', 'Fwd IAT Max', 'Bwd IAT Tot', 'Idle Min', 'Fwd IAT Tot', 'Bwd Pkt Len Max', 'TotLen Bwd Pkts'], 'Normal sample 877': ['Flow Pkts/s', 'Down/Up Ratio', 'FIN Flag Cnt', 'Pkt Len Min', 'Pkt Size Avg', 'TotLen Bwd Pkts', 'Fwd Pkt Len Std', 'Bwd Seg Size Avg', 'Bwd IAT Min', 'Pkt Len Std'], 'Normal sample 878': ['Init Bwd Win Byts', 'Bwd Seg Size Avg', 'Bwd Pkt Len Max', 'Bwd IAT Min', 'Fwd Pkts/s', 'Idle Mean', 'TotLen Fwd Pkts', 'Active Std', 'Fwd Pkt Len Min', 'Flow IAT Min'], 'Normal sample 879': ['Init Bwd Win Byts', 'Fwd IAT Tot', 'Idle Mean', 'TotLen Bwd Pkts', 'Bwd IAT Mean', 'Idle Min', 'Fwd Act Data Pkts', 'Subflow Fwd Pkts', 'Flow IAT Std', 'Flow Duration'], 'Normal sample 880': ['Init Bwd Win Byts', 'Idle Mean', 'Bwd Seg Size Avg', 'Bwd IAT Tot', 'PSH Flag Cnt', 'Fwd IAT Tot', 'Fwd Pkts/s', 'TotLen Bwd Pkts', 'Bwd Pkt Len Max', 'Fwd IAT Std'], 'Normal sample 881': ['Init Bwd Win Byts', 'ACK Flag Cnt', 'Flow Duration', 'Tot Fwd Pkts', 'TotLen Fwd Pkts', 'Fwd Pkt Len Min', 'Bwd Pkt Len Max', 'Bwd Pkt Len Min', 'Bwd Pkt Len Mean', 'Bwd Pkt Len Std'], 'Normal sample 882': ['Init Bwd Win Byts', 'Bwd Pkt Len Max', 'Fwd Pkts/s', 'Bwd IAT Mean', 'Bwd IAT Max', 'Active Max', 'Flow Duration', 'Subflow Fwd Pkts', 'Bwd Seg Size Avg', 'Bwd Pkt Len Mean'], 'Normal sample 883': ['Init Bwd Win Byts', 'Fwd IAT Std', 'Bwd Header Len', 'Bwd IAT Tot', 'Tot Bwd Pkts', 'Idle Mean', 'Fwd IAT Max', 'Fwd IAT Tot', 'Fwd IAT Min', 'Active Max'], 'Normal sample 884': ['Init Bwd Win Byts', 'Bwd Pkt Len Std', 'Active Std', 'Bwd IAT Max', 'Fwd Pkt Len Std', 'Tot Bwd Pkts', 'Active Mean', 'PSH Flag Cnt', 'Bwd IAT Min', 'Fwd IAT Tot'], 'Normal sample 885': ['Down/Up Ratio', 'Flow Duration', 'Tot Bwd Pkts', 'TotLen Bwd Pkts', 'Bwd Pkt Len Max', 'Bwd Pkt Len Min', 'Flow Byts/s', 'Flow IAT Max', 'Fwd IAT Tot', 'Fwd IAT Mean'], 'Normal sample 886': ['SYN Flag Cnt', 'Bwd Pkt Len Max', 'Fwd Header Len', 'Active Std', 'Flow IAT Mean', 'Tot Bwd Pkts', 'Fwd Pkt Len Min', 'Bwd Pkt Len Min', 'Flow Byts/s', 'Flow IAT Min'], 'Normal sample 887': ['Down/Up Ratio', 'Pkt Size Avg', 'Fwd Pkt Len Mean', 'Flow Pkts/s', 'Pkt Len Max', 'Pkt Len Std', 'Pkt Len Min', 'Fwd Pkt Len Std', 'Fwd Pkt Len Max', 'Fwd Seg Size Avg'], 'Normal sample 888': ['Bwd PSH Flags', 'Fwd Pkts/s', 'Down/Up Ratio', 'Idle Min', 'Idle Mean', 'Fwd IAT Tot', 'Fwd IAT Max', 'Bwd Pkt Len Mean', 'Fwd Pkt Len Mean', 'Bwd IAT Max'], 'Normal sample 889': ['Init Bwd Win Byts', 'Subflow Bwd Pkts', 'Subflow Bwd Byts', 'Pkt Len Var', 'Fwd IAT Tot', 'Active Min', 'TotLen Bwd Pkts', 'Idle Mean', 'Idle Min', 'Fwd Header Len'], 'Normal sample 890': ['Tot Fwd Pkts', 'Tot Bwd Pkts', 'TotLen Fwd Pkts', 'TotLen Bwd Pkts', 'Fwd Pkt Len Min', 'Bwd Pkt Len Min', 'Bwd Pkt Len Mean', 'Flow Byts/s', 'Flow IAT Mean', 'Flow IAT Std'], 'Normal sample 891': ['Init Bwd Win Byts', 'Fwd IAT Max', 'Flow Duration', 'Tot Fwd Pkts', 'Tot Bwd Pkts', 'TotLen Fwd Pkts', 'TotLen Bwd Pkts', 'Fwd Pkt Len Max', 'Bwd Pkt Len Max', 'Bwd Pkt Len Std'], 'Normal sample 892': ['Init Bwd Win Byts', 'Idle Mean', 'Idle Min', 'Fwd IAT Tot', 'Bwd IAT Tot', 'Flow IAT Min', 'Bwd Pkt Len Std', 'Bwd Seg Size Avg', 'Subflow Fwd Byts', 'Active Mean'], 'Normal sample 893': ['Idle Max', 'Tot Fwd Pkts', 'TotLen Bwd Pkts', 'Bwd IAT Min', 'Bwd Pkt Len Max', 'PSH Flag Cnt', 'Fwd Header Len', 'Bwd PSH Flags', 'Flow IAT Std', 'Fwd Pkt Len Std'], 'Normal sample 894': ['SYN Flag Cnt', 'Bwd Pkt Len Max', 'Bwd IAT Max', 'Bwd IAT Tot', 'Fwd Act Data Pkts', 'Tot Fwd Pkts', 'Tot Bwd Pkts', 'TotLen Fwd Pkts', 'TotLen Bwd Pkts', 'Fwd Pkt Len Mean'], 'Normal sample 895': ['SYN Flag Cnt', 'Idle Min', 'Idle Max', 'TotLen Fwd Pkts', 'Tot Fwd Pkts', 'Tot Bwd Pkts', 'TotLen Bwd Pkts', 'Fwd Pkt Len Min', 'Bwd Pkt Len Max', 'Bwd Pkt Len Min'], 'Normal sample 896': ['Init Bwd Win Byts', 'Bwd IAT Min', 'Fwd IAT Std', 'Flow Duration', 'Bwd Pkt Len Mean', 'Fwd IAT Max', 'Tot Bwd Pkts', 'Tot Fwd Pkts', 'Flow IAT Min', 'Idle Max'], 'Normal sample 897': ['Init Bwd Win Byts', 'Bwd Pkt Len Mean', 'Flow Duration', 'Tot Fwd Pkts', 'Tot Bwd Pkts', 'Fwd Pkt Len Min', 'Bwd Pkt Len Max', 'Bwd Pkt Len Min', 'Bwd Pkt Len Std', 'Flow Pkts/s'], 'Normal sample 898': ['Down/Up Ratio', 'Init Bwd Win Byts', 'Flow IAT Min', 'Fwd IAT Min', 'Subflow Bwd Byts', 'Flow IAT Mean', 'Bwd Seg Size Avg', 'Idle Min', 'Tot Fwd Pkts', 'Idle Mean'], 'Normal sample 899': ['Init Bwd Win Byts', 'Idle Mean', 'Tot Fwd Pkts', 'Pkt Len Var', 'Subflow Fwd Byts', 'Fwd IAT Std', 'Bwd Seg Size Avg', 'Idle Min', 'Fwd Header Len', 'Fwd Act Data Pkts'], 'Normal sample 900': ['Init Bwd Win Byts', 'Idle Mean', 'Tot Bwd Pkts', 'Bwd Pkt Len Mean', 'Bwd Pkt Len Max', 'Idle Max', 'Fwd IAT Std', 'TotLen Bwd Pkts', 'Bwd Pkt Len Std', 'Active Max'], 'Normal sample 901': ['SYN Flag Cnt', 'Bwd Pkt Len Max', 'Tot Fwd Pkts', 'Tot Bwd Pkts', 'TotLen Fwd Pkts', 'Fwd Pkt Len Min', 'Bwd Pkt Len Min', 'Bwd Pkt Len Std', 'Flow Byts/s', 'Flow Pkts/s'], 'Normal sample 902': ['Down/Up Ratio', 'Pkt Len Std', 'Pkt Len Max', 'Flow Pkts/s', 'Pkt Size Avg', 'Active Std', 'Pkt Len Min', 'Fwd IAT Tot', 'Fwd Pkt Len Mean', 'Fwd Header Len'], 'Normal sample 903': ['Bwd PSH Flags', 'Fwd Pkt Len Min', 'Down/Up Ratio', 'Bwd Pkt Len Min', 'Fwd IAT Min', 'Fwd Pkt Len Std', 'Pkt Len Var', 'Subflow Bwd Byts', 'Bwd IAT Mean', 'Fwd IAT Std'], 'Normal sample 904': ['Init Bwd Win Byts', 'Fwd Header Len', 'Bwd IAT Tot', 'Bwd Pkt Len Mean', 'TotLen Fwd Pkts', 'Fwd IAT Tot', 'TotLen Bwd Pkts', 'Fwd IAT Std', 'Bwd Seg Size Avg', 'Fwd Pkts/s'], 'Normal sample 905': ['SYN Flag Cnt', 'Bwd Pkt Len Max', 'Bwd Pkt Len Std', 'Flow Duration', 'Idle Min', 'Bwd Pkt Len Mean', 'Fwd IAT Tot', 'Fwd IAT Mean', 'Subflow Fwd Byts', 'Fwd IAT Max'], 'Normal sample 906': ['Init Bwd Win Byts', 'Fwd Header Len', 'TotLen Bwd Pkts', 'Fwd IAT Max', 'Flow IAT Min', 'Idle Mean', 'Subflow Bwd Byts', 'Bwd IAT Min', 'Fwd IAT Tot', 'Active Mean'], 'Normal sample 907': ['Init Bwd Win Byts', 'TotLen Bwd Pkts', 'Tot Bwd Pkts', 'Fwd IAT Mean', 'Idle Min', 'Fwd Act Data Pkts', 'Pkt Len Var', 'Active Min', 'Subflow Fwd Byts', 'Tot Fwd Pkts'], 'Normal sample 908': ['Bwd PSH Flags', 'Bwd IAT Std', 'Bwd Pkt Len Min', 'Pkt Len Min', 'Flow IAT Max', 'Active Mean', 'Bwd Pkt Len Max', 'Idle Max', 'Bwd Seg Size Avg', 'TotLen Bwd Pkts'], 'Normal sample 909': ['Init Bwd Win Byts', 'Idle Mean', 'Fwd Act Data Pkts', 'Idle Min', 'Idle Std', 'Tot Fwd Pkts', 'Flow Duration', 'Flow IAT Min', 'Tot Bwd Pkts', 'Bwd IAT Max'], 'Normal sample 910': ['Init Bwd Win Byts', 'Idle Min', 'Fwd Pkt Len Std', 'Idle Max', 'Fwd IAT Max', 'Fwd IAT Std', 'Bwd Pkt Len Mean', 'Bwd Seg Size Avg', 'Bwd Header Len', 'Subflow Bwd Byts'], 'Normal sample 911': ['Init Bwd Win Byts', 'Idle Mean', 'Fwd Pkt Len Max', 'Active Min', 'Bwd Pkt Len Std', 'Fwd IAT Tot', 'Idle Std', 'Bwd IAT Min', 'Fwd Pkt Len Std', 'Subflow Bwd Pkts'], 'Normal sample 912': ['Bwd PSH Flags', 'Bwd IAT Max', 'Idle Std', 'Active Std', 'Bwd IAT Std', 'Fwd Pkt Len Min', 'Tot Fwd Pkts', 'Tot Bwd Pkts', 'TotLen Bwd Pkts', 'Bwd Pkt Len Max'], 'Normal sample 913': ['Init Bwd Win Byts', 'Bwd Pkt Len Std', 'Bwd Seg Size Avg', 'Idle Max', 'Bwd IAT Tot', 'TotLen Bwd Pkts', 'Fwd IAT Max', 'Subflow Bwd Byts', 'Fwd Header Len', 'Bwd IAT Min'], 'Normal sample 914': ['Down/Up Ratio', 'Flow Pkts/s', 'Pkt Len Std', 'Pkt Len Max', 'Pkt Len Min', 'Fwd Pkt Len Max', 'Fwd Seg Size Avg', 'Pkt Len Mean', 'Idle Max', 'Pkt Size Avg'], 'Normal sample 915': ['Init Bwd Win Byts', 'Idle Max', 'Flow Duration', 'Bwd Pkt Len Std', 'Fwd IAT Tot', 'Flow IAT Min', 'Fwd IAT Max', 'Idle Mean', 'Bwd Seg Size Avg', 'Fwd Act Data Pkts'], 'Normal sample 916': ['SYN Flag Cnt', 'Idle Min', 'Flow IAT Min', 'Bwd Pkt Len Std', 'Subflow Bwd Byts', 'Fwd IAT Min', 'Bwd Seg Size Avg', 'Pkt Len Mean', 'Fwd Pkts/s', 'Bwd Pkt Len Min'], 'Normal sample 917': ['SYN Flag Cnt', 'Bwd Pkt Len Max', 'Bwd IAT Max', 'Bwd IAT Tot', 'Bwd Seg Size Avg', 'Bwd Pkt Len Mean', 'Bwd Pkt Len Std', 'Bwd IAT Std', 'Bwd Pkt Len Min', 'Idle Mean'], 'Normal sample 918': ['Flow Pkts/s', 'Pkt Len Mean', 'Pkt Size Avg', 'Pkt Len Std', 'Pkt Len Max', 'Pkt Len Min', 'Fwd Header Len', 'Fwd Pkt Len Mean', 'Tot Fwd Pkts', 'Fwd Pkt Len Max'], 'Normal sample 919': ['Init Bwd Win Byts', 'Fwd IAT Max', 'Idle Max', 'TotLen Fwd Pkts', 'Fwd Pkts/s', 'Subflow Fwd Byts', 'Active Min', 'Idle Mean', 'Subflow Bwd Byts', 'Bwd IAT Min'], 'Normal sample 920': ['Subflow Bwd Byts', 'Init Bwd Win Byts', 'Idle Mean', 'Idle Max', 'Fwd IAT Mean', 'Tot Fwd Pkts', 'Tot Bwd Pkts', 'TotLen Fwd Pkts', 'TotLen Bwd Pkts', 'Fwd Pkt Len Max'], 'Normal sample 921': ['Bwd PSH Flags', 'Fwd IAT Mean', 'Pkt Len Min', 'TotLen Bwd Pkts', 'Bwd Pkt Len Std', 'Down/Up Ratio', 'Fwd IAT Max', 'Bwd Pkt Len Mean', 'Tot Bwd Pkts', 'Subflow Bwd Byts'], 'Normal sample 922': ['Init Bwd Win Byts', 'Fwd Header Len', 'Bwd Pkt Len Std', 'Bwd IAT Mean', 'Flow IAT Min', 'Active Max', 'Fwd Act Data Pkts', 'Subflow Fwd Pkts', 'Idle Max', 'Active Mean'], 'Normal sample 923': ['SYN Flag Cnt', 'Flow Duration', 'Tot Fwd Pkts', 'Tot Bwd Pkts', 'TotLen Fwd Pkts', 'TotLen Bwd Pkts', 'Fwd Pkt Len Min', 'Bwd Pkt Len Max', 'Bwd Pkt Len Min', 'Flow Byts/s'], 'Normal sample 924': ['SYN Flag Cnt', 'Bwd Pkt Len Max', 'Bwd Pkt Len Std', 'Idle Mean', 'Bwd IAT Max', 'Down/Up Ratio', 'Idle Min', 'Active Min', 'Idle Max', 'Bwd Seg Size Avg'], 'Normal sample 925': ['Flow Pkts/s', 'Down/Up Ratio', 'FIN Flag Cnt', 'Pkt Len Max', 'Pkt Len Std', 'Pkt Len Min', 'Active Max', 'Fwd Pkt Len Mean', 'Fwd IAT Std', 'Tot Fwd Pkts'], 'Normal sample 926': ['Init Bwd Win Byts', 'Fwd Act Data Pkts', 'TotLen Bwd Pkts', 'Tot Fwd Pkts', 'Subflow Bwd Byts', 'Active Max', 'Bwd Pkt Len Std', 'Fwd IAT Min', 'Idle Mean', 'Flow Byts/s'], 'Normal sample 927': ['SYN Flag Cnt', 'Bwd PSH Flags', 'Fwd IAT Min', 'Bwd Header Len', 'Bwd IAT Min', 'Tot Fwd Pkts', 'Pkt Len Min', 'Idle Mean', 'Idle Min', 'Pkt Size Avg'], 'Normal sample 928': ['Bwd PSH Flags', 'Fwd IAT Tot', 'Bwd IAT Mean', 'Bwd Pkt Len Min', 'Down/Up Ratio', 'Bwd Header Len', 'Bwd IAT Min', 'Fwd Pkt Len Max', 'Active Min', 'Fwd Pkt Len Mean'], 'Normal sample 929': ['Init Bwd Win Byts', 'Flow IAT Std', 'Bwd Header Len', 'Active Max', 'Flow IAT Min', 'Bwd IAT Max', 'Idle Mean', 'Flow IAT Max', 'PSH Flag Cnt', 'Fwd IAT Max'], 'Normal sample 930': ['ACK Flag Cnt', 'Bwd IAT Mean', 'Bwd IAT Min', 'Fwd IAT Min', 'Bwd IAT Max', 'Flow IAT Mean', 'Bwd PSH Flags', 'Flow IAT Max', 'Idle Max', 'Idle Mean'], 'Normal sample 931': ['Init Bwd Win Byts', 'Idle Max', 'Bwd Pkt Len Mean', 'Subflow Bwd Byts', 'Bwd IAT Min', 'Flow Duration', 'Fwd Pkt Len Min', 'Fwd Pkt Len Std', 'Bwd Pkt Len Max', 'Flow IAT Mean'], 'Normal sample 932': ['Init Bwd Win Byts', 'Bwd Pkt Len Std', 'Idle Max', 'Tot Fwd Pkts', 'Fwd IAT Max', 'Bwd Seg Size Avg', 'Fwd IAT Tot', 'Idle Min', 'Flow IAT Min', 'Tot Bwd Pkts'], 'Normal sample 933': ['SYN Flag Cnt', 'Bwd Pkt Len Std', 'Bwd Pkt Len Max', 'Idle Max', 'TotLen Bwd Pkts', 'Subflow Bwd Byts', 'Subflow Bwd Pkts', 'Flow IAT Std', 'Flow IAT Min', 'Tot Fwd Pkts'], 'Normal sample 934': ['Bwd IAT Tot', 'ACK Flag Cnt', 'Bwd IAT Std', 'Idle Max', 'Bwd IAT Max', 'Idle Min', 'Idle Mean', 'Down/Up Ratio', 'Bwd IAT Mean', 'Active Mean'], 'Normal sample 935': ['Init Bwd Win Byts', 'Idle Max', 'Tot Fwd Pkts', 'Bwd Seg Size Avg', 'Fwd IAT Std', 'Tot Bwd Pkts', 'Pkt Len Var', 'Subflow Fwd Byts', 'Fwd Pkts/s', 'Idle Std'], 'Normal sample 936': ['Subflow Bwd Byts', 'Init Bwd Win Byts', 'Pkt Len Var', 'Active Std', 'Flow Duration', 'Tot Fwd Pkts', 'Tot Bwd Pkts', 'TotLen Fwd Pkts', 'TotLen Bwd Pkts', 'Fwd Pkt Len Std'], 'Normal sample 937': ['Init Bwd Win Byts', 'Fwd IAT Max', 'Idle Mean', 'Active Mean', 'Active Std', 'Active Min', 'Idle Max', 'Tot Fwd Pkts', 'Bwd IAT Mean', 'Flow Pkts/s'], 'Normal sample 938': ['Init Bwd Win Byts', 'Idle Max', 'Active Std', 'Bwd Pkt Len Mean', 'Bwd Pkt Len Max', 'Bwd IAT Mean', 'TotLen Fwd Pkts', 'Fwd IAT Tot', 'Fwd IAT Mean', 'Fwd Pkt Len Mean'], 'Normal sample 939': ['Init Bwd Win Byts', 'Tot Bwd Pkts', 'Bwd Pkt Len Mean', 'Bwd Seg Size Avg', 'Fwd Header Len', 'Fwd Act Data Pkts', 'Flow Duration', 'Tot Fwd Pkts', 'TotLen Fwd Pkts', 'Fwd Pkt Len Max'], 'Normal sample 940': ['Bwd IAT Max', 'ACK Flag Cnt', 'Flow IAT Max', 'Idle Max', 'Idle Std', 'Bwd IAT Tot', 'Bwd Header Len', 'Active Mean', 'Idle Min', 'Bwd Pkt Len Max'], 'Normal sample 941': ['ACK Flag Cnt', 'Bwd IAT Std', 'Bwd IAT Tot', 'Flow IAT Mean', 'Bwd IAT Max', 'Bwd IAT Mean', 'Flow IAT Min', 'Tot Fwd Pkts', 'Flow IAT Std', 'Flow IAT Max'], 'Normal sample 942': ['Bwd PSH Flags', 'Bwd Pkt Len Min', 'Pkt Len Min', 'Fwd Pkt Len Max', 'Down/Up Ratio', 'Active Mean', 'Bwd IAT Min', 'Bwd Header Len', 'TotLen Fwd Pkts', 'Bwd Pkt Len Std'], 'Normal sample 943': ['Init Bwd Win Byts', 'Bwd Pkt Len Mean', 'Bwd Pkt Len Std', 'Fwd IAT Mean', 'Idle Max', 'Fwd Pkt Len Min', 'Active Max', 'Fwd Header Len', 'Flow IAT Max', 'Idle Mean'], 'Normal sample 944': ['SYN Flag Cnt', 'Bwd Header Len', 'Fwd IAT Max', 'Bwd Pkt Len Std', 'Tot Bwd Pkts', 'TotLen Fwd Pkts', 'TotLen Bwd Pkts', 'Fwd Pkt Len Min', 'Bwd Pkt Len Min', 'Flow Byts/s'], 'Normal sample 945': ['Init Bwd Win Byts', 'Tot Fwd Pkts', 'Idle Min', 'Pkt Len Var', 'Bwd Seg Size Avg', 'Fwd IAT Mean', 'Tot Bwd Pkts', 'Fwd Pkt Len Max', 'Fwd Pkt Len Min', 'Bwd Pkt Len Mean'], 'Normal sample 946': ['Init Bwd Win Byts', 'Idle Mean', 'Bwd IAT Tot', 'TotLen Bwd Pkts', 'Subflow Fwd Byts', 'Flow Byts/s', 'Subflow Fwd Pkts', 'Bwd Header Len', 'Fwd IAT Max', 'Active Mean'], 'Normal sample 947': ['Init Bwd Win Byts', 'Bwd Seg Size Avg', 'Fwd IAT Std', 'Fwd IAT Max', 'Active Std', 'Flow IAT Max', 'Fwd Pkt Len Mean', 'Active Min', 'Idle Mean', 'Subflow Fwd Byts'], 'Normal sample 948': ['Flow Pkts/s', 'Bwd IAT Tot', 'Subflow Bwd Pkts', 'Init Bwd Win Byts', 'Subflow Bwd Byts', 'Tot Bwd Pkts', 'TotLen Fwd Pkts', 'TotLen Bwd Pkts', 'Fwd Pkt Len Std', 'Bwd Pkt Len Max'], 'Normal sample 949': ['Init Bwd Win Byts', 'Fwd IAT Tot', 'Fwd Pkt Len Std', 'Fwd IAT Std', 'Active Std', 'Fwd Header Len', 'Bwd Seg Size Avg', 'Idle Max', 'Bwd IAT Min', 'Subflow Fwd Byts'], 'Normal sample 950': ['Init Bwd Win Byts', 'ACK Flag Cnt', 'Bwd Pkt Len Max', 'Active Std', 'Flow Duration', 'Tot Fwd Pkts', 'Tot Bwd Pkts', 'Fwd Pkt Len Min', 'Bwd Pkt Len Min', 'Bwd Pkt Len Std'], 'Normal sample 951': ['Init Bwd Win Byts', 'Fwd Header Len', 'Pkt Len Var', 'Bwd Seg Size Avg', 'Bwd IAT Min', 'Flow Duration', 'Tot Fwd Pkts', 'Tot Bwd Pkts', 'TotLen Fwd Pkts', 'TotLen Bwd Pkts'], 'Normal sample 952': ['Init Bwd Win Byts', 'Idle Std', 'Fwd IAT Min', 'Pkt Len Var', 'Fwd IAT Std', 'Idle Min', 'Bwd Pkt Len Mean', 'Tot Bwd Pkts', 'Subflow Fwd Byts', 'Subflow Bwd Byts'], 'Normal sample 953': ['Bwd PSH Flags', 'Subflow Fwd Byts', 'Bwd Pkt Len Min', 'Tot Bwd Pkts', 'Down/Up Ratio', 'Bwd Pkt Len Mean', 'Fwd IAT Tot', 'Idle Min', 'TotLen Fwd Pkts', 'Active Std'], 'Normal sample 954': ['Init Bwd Win Byts', 'Bwd Pkt Len Max', 'Bwd IAT Min', 'Flow IAT Std', 'Idle Std', 'Bwd Header Len', 'Bwd Pkt Len Std', 'Subflow Fwd Pkts', 'Bwd IAT Tot', 'Flow Byts/s'], 'Normal sample 955': ['Flow Pkts/s', 'Down/Up Ratio', 'FIN Flag Cnt', 'Fwd IAT Tot', 'Pkt Len Min', 'Pkt Len Mean', 'Fwd Seg Size Avg', 'PSH Flag Cnt', 'Pkt Len Max', 'Bwd Pkt Len Std'], 'Normal sample 956': ['Down/Up Ratio', 'Flow Pkts/s', 'Fwd Pkt Len Mean', 'Pkt Len Min', 'Pkt Size Avg', 'Fwd Seg Size Avg', 'Pkt Len Max', 'Pkt Len Std', 'Fwd Pkt Len Max', 'Fwd Pkt Len Std'], 'Normal sample 957': ['Init Bwd Win Byts', 'Active Min', 'Bwd Seg Size Avg', 'Fwd IAT Tot', 'Bwd Pkt Len Max', 'Fwd IAT Std', 'Flow IAT Mean', 'Fwd IAT Max', 'Tot Bwd Pkts', 'Idle Min'], 'Normal sample 958': ['SYN Flag Cnt', 'Fwd IAT Max', 'Bwd IAT Tot', 'Flow Pkts/s', 'Pkt Len Min', 'Idle Max', 'Tot Bwd Pkts', 'Pkt Size Avg', 'Idle Min', 'Bwd Pkt Len Min'], 'Normal sample 959': ['Down/Up Ratio', 'Flow Pkts/s', 'Pkt Size Avg', 'Pkt Len Max', 'Fwd Pkt Len Std', 'Fwd IAT Max', 'Fwd Seg Size Avg', 'Fwd Pkt Len Mean', 'Pkt Len Mean', 'Fwd Pkt Len Max'], 'Normal sample 960': ['Init Bwd Win Byts', 'Bwd Header Len', 'Fwd IAT Tot', 'Flow Duration', 'Tot Fwd Pkts', 'Tot Bwd Pkts', 'TotLen Fwd Pkts', 'Fwd Pkt Len Min', 'Bwd Pkt Len Max', 'Bwd Pkt Len Std'], 'Normal sample 961': ['Init Bwd Win Byts', 'Fwd Pkts/s', 'Fwd IAT Std', 'Idle Min', 'Fwd IAT Max', 'Subflow Fwd Pkts', 'Fwd Header Len', 'TotLen Bwd Pkts', 'Bwd IAT Mean', 'Flow IAT Min'], 'Normal sample 962': ['Init Bwd Win Byts', 'Tot Fwd Pkts', 'Tot Bwd Pkts', 'TotLen Fwd Pkts', 'TotLen Bwd Pkts', 'Bwd Pkt Len Max', 'Bwd Pkt Len Min', 'Bwd Pkt Len Std', 'Flow Pkts/s', 'Flow IAT Min'], 'Normal sample 963': ['Bwd PSH Flags', 'Down/Up Ratio', 'Subflow Fwd Pkts', 'Pkt Len Min', 'Flow Pkts/s', 'Flow IAT Std', 'Bwd IAT Min', 'Subflow Bwd Byts', 'Bwd IAT Mean', 'Idle Std'], 'Normal sample 964': ['SYN Flag Cnt', 'Bwd IAT Tot', 'Bwd IAT Max', 'Flow IAT Min', 'Pkt Len Min', 'Bwd Seg Size Avg', 'Bwd Pkt Len Max', 'Active Min', 'Bwd IAT Std', 'Bwd Pkt Len Std'], 'Normal sample 965': ['Init Bwd Win Byts', 'Bwd Pkt Len Std', 'Idle Min', 'Idle Mean', 'Bwd Header Len', 'Fwd IAT Std', 'Bwd Pkt Len Mean', 'Flow IAT Std', 'Fwd Pkt Len Std', 'Bwd Pkt Len Max'], 'Normal sample 966': ['Init Bwd Win Byts', 'Idle Max', 'Idle Mean', 'Fwd IAT Max', 'Tot Bwd Pkts', 'Subflow Fwd Pkts', 'Bwd IAT Tot', 'Bwd Pkt Len Mean', 'Flow IAT Mean', 'Flow IAT Std'], 'Normal sample 967': ['Init Bwd Win Byts', 'Active Std', 'Bwd IAT Min', 'Tot Bwd Pkts', 'Bwd Pkt Len Std', 'Active Min', 'Subflow Bwd Pkts', 'Tot Fwd Pkts', 'Fwd Pkt Len Min', 'Bwd Pkt Len Max'], 'Normal sample 968': ['Init Bwd Win Byts', 'Idle Mean', 'Idle Min', 'Bwd Pkt Len Std', 'Fwd Seg Size Avg', 'Fwd IAT Mean', 'Idle Max', 'Fwd IAT Min', 'Flow IAT Min', 'TotLen Fwd Pkts'], 'Normal sample 969': ['Flow Pkts/s', 'Down/Up Ratio', 'FIN Flag Cnt', 'Fwd IAT Max', 'Pkt Len Max', 'Pkt Len Min', 'Fwd Pkts/s', 'Pkt Len Mean', 'Bwd Pkt Len Mean', 'Bwd Pkt Len Max'], 'Normal sample 970': ['SYN Flag Cnt', 'Bwd Pkt Len Max', 'Bwd Pkt Len Std', 'Bwd IAT Max', 'Bwd Seg Size Avg', 'Bwd Pkt Len Mean', 'Down/Up Ratio', 'Idle Mean', 'Fwd Header Len', 'Flow Byts/s'], 'Normal sample 971': ['SYN Flag Cnt', 'Bwd IAT Std', 'Idle Mean', 'Bwd IAT Max', 'Idle Max', 'Bwd Header Len', 'TotLen Bwd Pkts', 'Flow IAT Mean', 'Fwd Pkt Len Min', 'Fwd Pkts/s'], 'Normal sample 972': ['Init Bwd Win Byts', 'Bwd Pkt Len Mean', 'Idle Min', 'Bwd IAT Tot', 'Active Std', 'Idle Max', 'Subflow Fwd Byts', 'Flow Byts/s', 'Bwd IAT Mean', 'Tot Fwd Pkts'], 'Normal sample 973': ['Bwd PSH Flags', 'Active Std', 'Flow Pkts/s', 'Fwd Pkt Len Max', 'Flow Duration', 'Tot Bwd Pkts', 'TotLen Fwd Pkts', 'TotLen Bwd Pkts', 'Fwd Pkt Len Min', 'Fwd Pkt Len Mean'], 'Normal sample 974': ['Bwd Pkt Len Max', 'SYN Flag Cnt', 'Idle Max', 'Bwd IAT Tot', 'Bwd IAT Max', 'PSH Flag Cnt', 'Bwd Pkt Len Mean', 'Pkt Len Var', 'Idle Min', 'Subflow Bwd Pkts'], 'Normal sample 975': ['Init Bwd Win Byts', 'Idle Mean', 'Idle Min', 'Idle Std', 'Active Std', 'Subflow Bwd Byts', 'Fwd Pkt Len Min', 'Fwd IAT Min', 'Flow IAT Std', 'Bwd Seg Size Avg'], 'Normal sample 976': ['Init Bwd Win Byts', 'Flow IAT Min', 'Bwd PSH Flags', 'Bwd Pkt Len Mean', 'Idle Max', 'Flow IAT Mean', 'Idle Min', 'Subflow Bwd Byts', 'Idle Mean', 'Fwd IAT Tot'], 'Normal sample 977': ['SYN Flag Cnt', 'Bwd Pkt Len Max', 'Bwd IAT Std', 'Tot Fwd Pkts', 'Active Min', 'Bwd IAT Tot', 'Idle Max', 'Fwd Pkts/s', 'Subflow Fwd Pkts', 'Bwd Pkt Len Mean'], 'Normal sample 978': ['Flow Pkts/s', 'Pkt Size Avg', 'Pkt Len Max', 'Pkt Len Min', 'Fwd Pkt Len Mean', 'Pkt Len Std', 'Fwd Seg Size Avg', 'Idle Max', 'Fwd IAT Mean', 'Fwd IAT Tot'], 'Normal sample 979': ['Init Bwd Win Byts', 'Fwd Pkt Len Min', 'Pkt Len Var', 'Bwd Pkt Len Std', 'Bwd Seg Size Avg', 'Idle Min', 'Fwd Pkt Len Max', 'TotLen Fwd Pkts', 'Bwd Pkt Len Mean', 'Flow IAT Min'], 'Normal sample 980': ['Init Bwd Win Byts', 'Active Mean', 'Fwd IAT Max', 'Subflow Fwd Byts', 'Active Max', 'Idle Max', 'Bwd Seg Size Avg', 'Bwd Pkt Len Mean', 'Fwd IAT Tot', 'Bwd IAT Min'], 'Normal sample 981': ['Init Bwd Win Byts', 'Idle Min', 'PSH Flag Cnt', 'Fwd Pkt Len Std', 'Flow Duration', 'Bwd Seg Size Avg', 'Fwd IAT Min', 'Fwd IAT Tot', 'Fwd Pkts/s', 'Tot Fwd Pkts'], 'Normal sample 982': ['Init Bwd Win Byts', 'Bwd Pkt Len Std', 'Active Max', 'Bwd IAT Tot', 'Bwd Header Len', 'Bwd Seg Size Avg', 'Idle Max', 'Subflow Bwd Pkts', 'Active Min', 'Fwd Act Data Pkts'], 'Normal sample 983': ['Init Bwd Win Byts', 'Fwd Act Data Pkts', 'Idle Mean', 'Pkt Len Var', 'Idle Max', 'Tot Fwd Pkts', 'TotLen Fwd Pkts', 'TotLen Bwd Pkts', 'Fwd Pkt Len Min', 'Fwd Pkt Len Std'], 'Normal sample 984': ['Init Bwd Win Byts', 'Flow IAT Mean', 'Idle Max', 'Fwd Pkts/s', 'Tot Bwd Pkts', 'Fwd Pkt Len Std', 'Flow Duration', 'Subflow Bwd Byts', 'Fwd IAT Max', 'Idle Std'], 'Normal sample 985': ['SYN Flag Cnt', 'Bwd Pkt Len Max', 'Pkt Len Min', 'Bwd Pkt Len Std', 'TotLen Fwd Pkts', 'Bwd Pkt Len Mean', 'Flow Byts/s', 'Idle Min', 'Flow IAT Mean', 'PSH Flag Cnt'], 'Normal sample 986': ['Init Bwd Win Byts', 'Bwd IAT Min', 'Fwd IAT Tot', 'Fwd IAT Std', 'Flow Duration', 'Fwd Act Data Pkts', 'Subflow Fwd Byts', 'Bwd IAT Tot', 'Idle Mean', 'Idle Std'], 'Normal sample 987': ['SYN Flag Cnt', 'Fwd IAT Min', 'Bwd IAT Mean', 'Subflow Bwd Pkts', 'Pkt Len Min', 'Flow Duration', 'Bwd IAT Tot', 'Bwd Seg Size Avg', 'Fwd IAT Std', 'Fwd IAT Max'], 'Normal sample 988': ['Init Bwd Win Byts', 'Tot Fwd Pkts', 'Fwd Act Data Pkts', 'Pkt Len Var', 'Bwd Pkt Len Max', 'Fwd IAT Mean', 'Fwd IAT Std', 'Idle Max', 'TotLen Bwd Pkts', 'Tot Bwd Pkts'], 'Normal sample 989': ['Init Bwd Win Byts', 'Bwd IAT Min', 'Fwd IAT Max', 'Bwd Pkt Len Std', 'Fwd IAT Tot', 'Idle Min', 'Fwd Pkts/s', 'Bwd Seg Size Avg', 'Fwd Pkt Len Std', 'TotLen Fwd Pkts'], 'Normal sample 990': ['Bwd IAT Tot', 'ACK Flag Cnt', 'Bwd IAT Max', 'Idle Max', 'Flow IAT Max', 'Idle Min', 'Bwd IAT Mean', 'Bwd IAT Std', 'Idle Mean', 'Flow IAT Mean'], 'Normal sample 991': ['Fwd IAT Min', 'ACK Flag Cnt', 'Flow Pkts/s', 'Pkt Len Max', 'Fwd Pkts/s', 'Pkt Len Std', 'TotLen Bwd Pkts', 'Bwd IAT Mean', 'Pkt Len Min', 'Idle Max'], 'Normal sample 992': ['Init Bwd Win Byts', 'Fwd Pkt Len Std', 'Bwd Seg Size Avg', 'Flow IAT Min', 'Idle Std', 'Fwd IAT Tot', 'Tot Fwd Pkts', 'Tot Bwd Pkts', 'TotLen Fwd Pkts', 'Bwd Pkt Len Max'], 'Normal sample 993': ['Init Bwd Win Byts', 'Flow IAT Max', 'Idle Mean', 'Fwd IAT Min', 'Idle Min', 'Subflow Fwd Byts', 'Fwd IAT Tot', 'Fwd Header Len', 'Active Max', 'Bwd Pkt Len Max'], 'Normal sample 994': ['Down/Up Ratio', 'Pkt Len Min', 'Flow Pkts/s', 'Pkt Len Std', 'Pkt Len Max', 'Pkt Size Avg', 'Fwd IAT Max', 'Flow Byts/s', 'Fwd Pkt Len Max', 'Bwd IAT Tot'], 'Normal sample 995': ['SYN Flag Cnt', 'Bwd Pkt Len Max', 'Bwd IAT Max', 'Pkt Len Var', 'Bwd IAT Tot', 'Tot Fwd Pkts', 'Subflow Fwd Pkts', 'PSH Flag Cnt', 'Fwd Pkts/s', 'Pkt Len Min'], 'Normal sample 996': ['Init Bwd Win Byts', 'Bwd Pkt Len Min', 'Bwd Header Len', 'Fwd IAT Tot', 'Fwd IAT Max', 'Pkt Len Var', 'Subflow Fwd Byts', 'Bwd IAT Min', 'Flow Duration', 'Tot Fwd Pkts'], 'Normal sample 997': ['ACK Flag Cnt', 'Bwd IAT Max', 'Bwd IAT Tot', 'Bwd IAT Std', 'Flow IAT Max', 'Idle Min', 'Active Max', 'Idle Std', 'Bwd PSH Flags', 'Bwd Pkt Len Mean'], 'Normal sample 998': ['SYN Flag Cnt', 'Bwd Pkt Len Max', 'Bwd Pkt Len Std', 'Bwd IAT Tot', 'Bwd Pkt Len Mean', 'Idle Min', 'Fwd IAT Mean', 'Fwd IAT Min', 'Subflow Bwd Pkts', 'Active Std'], 'Normal sample 999': ['SYN Flag Cnt', 'Bwd Pkt Len Max', 'Bwd Seg Size Avg', 'Bwd Pkt Len Std', 'Flow Byts/s', 'TotLen Fwd Pkts', 'Idle Max', 'Bwd Pkt Len Mean', 'Pkt Len Min', 'Idle Min'], 'Normal sample 1000': ['Init Bwd Win Byts', 'Bwd IAT Tot', 'Idle Std', 'Pkt Len Var', 'Subflow Bwd Byts', 'Fwd Act Data Pkts', 'Bwd Pkt Len Max', 'Fwd Pkts/s', 'TotLen Bwd Pkts', 'Tot Fwd Pkts'], 'Normal sample 1001': ['Bwd IAT Tot', 'ACK Flag Cnt', 'Bwd IAT Max', 'Idle Max', 'Bwd Pkt Len Max', 'Active Mean', 'Bwd IAT Std', 'Fwd IAT Mean', 'Idle Std', 'Tot Fwd Pkts'], 'Normal sample 1002': ['Down/Up Ratio', 'Init Bwd Win Byts', 'Subflow Bwd Pkts', 'Active Min', 'Bwd Pkt Len Max', 'Fwd IAT Max', 'Flow IAT Mean', 'Bwd IAT Mean', 'Idle Mean', 'Subflow Fwd Pkts'], 'Normal sample 1003': ['Init Bwd Win Byts', 'Idle Min', 'Idle Max', 'Fwd IAT Std', 'Tot Bwd Pkts', 'Bwd IAT Min', 'Flow Duration', 'Tot Fwd Pkts', 'TotLen Fwd Pkts', 'TotLen Bwd Pkts'], 'Normal sample 1004': ['ACK Flag Cnt', 'Bwd IAT Tot', 'Bwd PSH Flags', 'Bwd IAT Std', 'Idle Mean', 'Idle Min', 'Bwd IAT Max', 'Idle Max', 'Active Min', 'Flow Pkts/s'], 'Normal sample 1005': ['SYN Flag Cnt', 'Fwd IAT Min', 'Bwd Pkt Len Mean', 'Fwd Pkt Len Max', 'Bwd Pkt Len Std', 'Fwd IAT Std', 'Tot Fwd Pkts', 'TotLen Fwd Pkts', 'TotLen Bwd Pkts', 'Fwd Pkt Len Min'], 'Normal sample 1006': ['Init Bwd Win Byts', 'Fwd IAT Max', 'TotLen Bwd Pkts', 'Idle Max', 'Subflow Bwd Byts', 'Fwd Pkt Len Max', 'Bwd IAT Max', 'Idle Mean', 'Tot Fwd Pkts', 'Idle Std'], 'Normal sample 1007': ['Init Bwd Win Byts', 'Idle Min', 'Idle Mean', 'Active Std', 'Fwd Pkts/s', 'Flow IAT Std', 'Flow Duration', 'Active Max', 'Idle Std', 'Active Min'], 'Normal sample 1008': ['Down/Up Ratio', 'Init Bwd Win Byts', 'Pkt Len Min', 'Pkt Len Max', 'Pkt Len Std', 'Fwd Pkt Len Max', 'Fwd Pkt Len Mean', 'Fwd Pkt Len Std', 'Pkt Len Mean', 'Fwd Seg Size Avg'], 'Normal sample 1009': ['Init Bwd Win Byts', 'Flow Duration', 'Tot Fwd Pkts', 'Tot Bwd Pkts', 'TotLen Fwd Pkts', 'TotLen Bwd Pkts', 'Bwd Pkt Len Max', 'Bwd Pkt Len Min', 'Bwd Pkt Len Std', 'Flow Pkts/s'], 'Normal sample 1010': ['ACK Flag Cnt', 'Bwd IAT Tot', 'Bwd IAT Std', 'Flow IAT Mean', 'Bwd IAT Max', 'Bwd IAT Mean', 'Idle Min', 'Pkt Len Var', 'Tot Bwd Pkts', 'Subflow Bwd Pkts'], 'Normal sample 1011': ['Flow Pkts/s', 'Pkt Len Std', 'Pkt Size Avg', 'Pkt Len Max', 'Fwd IAT Tot', 'Pkt Len Mean', 'Pkt Len Min', 'Fwd Header Len', 'Fwd Pkt Len Max', 'Flow IAT Min'], 'Normal sample 1012': ['Subflow Bwd Byts', 'PSH Flag Cnt', 'Init Bwd Win Byts', 'Idle Mean', 'Bwd Pkt Len Mean', 'Flow Pkts/s', 'Bwd IAT Max', 'Active Mean', 'Idle Max', 'Fwd IAT Std'], 'Normal sample 1013': ['Init Bwd Win Byts', 'Bwd Pkt Len Mean', 'Bwd Seg Size Avg', 'Fwd IAT Max', 'Bwd IAT Min', 'Subflow Fwd Pkts', 'Subflow Bwd Byts', 'Idle Mean', 'Active Std', 'Idle Min'], 'Normal sample 1014': ['ACK Flag Cnt', 'Bwd IAT Max', 'Bwd IAT Std', 'Bwd IAT Tot', 'Bwd PSH Flags', 'Idle Min', 'Bwd Header Len', 'Pkt Len Min', 'Active Max', 'Bwd Seg Size Avg'], 'Normal sample 1015': ['Down/Up Ratio', 'Flow Pkts/s', 'Pkt Len Min', 'Pkt Len Max', 'Pkt Len Std', 'Fwd IAT Max', 'Fwd Pkt Len Max', 'Pkt Len Mean', 'Pkt Size Avg', 'Bwd IAT Tot'], 'Normal sample 1016': ['Init Bwd Win Byts', 'Tot Fwd Pkts', 'Tot Bwd Pkts', 'TotLen Fwd Pkts', 'TotLen Bwd Pkts', 'Fwd Pkt Len Min', 'Bwd Pkt Len Max', 'Bwd Pkt Len Min', 'Flow IAT Std', 'Flow IAT Min'], 'Normal sample 1017': ['Init Bwd Win Byts', 'Bwd Pkt Len Max', 'Fwd Seg Size Avg', 'Bwd Pkt Len Std', 'Idle Min', 'Active Std', 'Bwd Seg Size Avg', 'Tot Fwd Pkts', 'Fwd IAT Max', 'Active Max'], 'Normal sample 1018': ['Init Bwd Win Byts', 'Bwd Seg Size Avg', 'Idle Min', 'Idle Max', 'Bwd Pkt Len Mean', 'Fwd Header Len', 'Idle Mean', 'Bwd Pkt Len Max', 'Fwd IAT Tot', 'Active Std'], 'Normal sample 1019': ['Down/Up Ratio', 'Pkt Len Max', 'Flow Pkts/s', 'Fwd Pkt Len Std', 'Pkt Len Min', 'Pkt Len Std', 'Pkt Size Avg', 'Fwd IAT Std', 'Fwd IAT Max', 'Fwd Seg Size Avg'], 'Normal sample 1020': ['SYN Flag Cnt', 'Bwd Pkt Len Max', 'Bwd IAT Max', 'Tot Bwd Pkts', 'TotLen Fwd Pkts', 'TotLen Bwd Pkts', 'Fwd Pkt Len Min', 'Bwd Pkt Len Min', 'Flow Byts/s', 'Flow IAT Max'], 'Normal sample 1021': ['SYN Flag Cnt', 'Bwd IAT Std', 'Bwd Header Len', 'Idle Max', 'Idle Min', 'Bwd IAT Max', 'Subflow Bwd Byts', 'Bwd Pkt Len Std', 'TotLen Bwd Pkts', 'Bwd Pkt Len Max'], 'Normal sample 1022': ['SYN Flag Cnt', 'Bwd Pkt Len Std', 'Bwd Pkt Len Mean', 'Bwd Pkt Len Max', 'Idle Max', 'Flow Byts/s', 'Fwd IAT Mean', 'Subflow Fwd Pkts', 'Fwd IAT Min', 'Idle Min'], 'Normal sample 1023': ['Init Bwd Win Byts', 'Subflow Bwd Pkts', 'Fwd IAT Tot', 'Tot Fwd Pkts', 'Tot Bwd Pkts', 'TotLen Bwd Pkts', 'Fwd Pkt Len Min', 'Bwd Pkt Len Min', 'Flow IAT Min', 'Fwd IAT Mean'], 'Normal sample 1024': ['Flow Pkts/s', 'Down/Up Ratio', 'FIN Flag Cnt', 'Bwd Header Len', 'Pkt Len Mean', 'Bwd Pkt Len Max', 'Fwd IAT Max', 'Pkt Len Min', 'Fwd IAT Tot', 'TotLen Fwd Pkts'], 'Normal sample 1025': ['Init Bwd Win Byts', 'Idle Max', 'Bwd Pkt Len Max', 'Fwd IAT Min', 'Idle Mean', 'TotLen Bwd Pkts', 'Bwd Pkt Len Std', 'Fwd IAT Tot', 'Flow IAT Min', 'Subflow Bwd Pkts'], 'Normal sample 1026': ['Init Bwd Win Byts', 'Flow IAT Max', 'Idle Std', 'Fwd IAT Std', 'Idle Mean', 'Subflow Fwd Pkts', 'Tot Bwd Pkts', 'Fwd Pkts/s', 'TotLen Fwd Pkts', 'Pkt Len Var'], 'Normal sample 1027': ['ACK Flag Cnt', 'Bwd Pkt Len Max', 'Bwd IAT Max', 'Bwd IAT Tot', 'Bwd Pkt Len Std', 'Bwd Pkt Len Min', 'Fwd Pkts/s', 'Bwd Pkt Len Mean', 'Bwd IAT Std', 'Fwd Pkt Len Std'], 'Normal sample 1028': ['PSH Flag Cnt', 'Init Bwd Win Byts', 'Bwd PSH Flags', 'Fwd Pkt Len Std', 'Subflow Bwd Byts', 'Flow Pkts/s', 'Fwd IAT Tot', 'Pkt Len Min', 'Flow IAT Std', 'Bwd Pkt Len Std'], 'Normal sample 1029': ['Init Bwd Win Byts', 'Fwd IAT Max', 'Tot Bwd Pkts', 'Flow IAT Min', 'Idle Min', 'Tot Fwd Pkts', 'Bwd Seg Size Avg', 'Active Max', 'Fwd IAT Min', 'Bwd IAT Mean'], 'Normal sample 1030': ['Bwd PSH Flags', 'Bwd IAT Std', 'Flow IAT Min', 'Bwd Pkt Len Mean', 'Fwd Pkt Len Min', 'Bwd IAT Max', 'Bwd IAT Min', 'Flow Byts/s', 'Tot Fwd Pkts', 'Tot Bwd Pkts'], 'Normal sample 1031': ['SYN Flag Cnt', 'Bwd Pkt Len Max', 'Bwd Pkt Len Std', 'Bwd Seg Size Avg', 'Bwd Pkt Len Mean', 'Bwd Header Len', 'Idle Max', 'Fwd Act Data Pkts', 'Idle Mean', 'Subflow Fwd Byts'], 'Normal sample 1032': ['Bwd Pkts/s', 'Fwd Pkts/s', 'Pkt Len Min', 'FIN Flag Cnt', 'Fwd Pkt Len Max', 'ACK Flag Cnt', 'Flow IAT Min', 'Bwd Header Len', 'Fwd IAT Mean', 'Bwd Pkt Len Mean'], 'Normal sample 1033': ['SYN Flag Cnt', 'Bwd Pkt Len Max', 'Bwd Pkt Len Std', 'Down/Up Ratio', 'Bwd IAT Min', 'Bwd Seg Size Avg', 'Subflow Fwd Byts', 'Bwd Pkt Len Mean', 'Pkt Len Min', 'Bwd Pkt Len Min'], 'Normal sample 1034': ['Bwd PSH Flags', 'FIN Flag Cnt', 'Down/Up Ratio', 'Bwd Pkt Len Min', 'Fwd IAT Tot', 'Pkt Len Min', 'Flow Duration', 'Idle Std', 'Fwd Seg Size Avg', 'TotLen Bwd Pkts'], 'Normal sample 1035': ['Bwd PSH Flags', 'Bwd Pkt Len Min', 'Pkt Len Min', 'TotLen Bwd Pkts', 'Down/Up Ratio', 'Bwd IAT Tot', 'Fwd Pkt Len Mean', 'Idle Std', 'Bwd Header Len', 'Fwd Pkt Len Std'], 'Normal sample 1036': ['Flow Pkts/s', 'Down/Up Ratio', 'FIN Flag Cnt', 'Tot Fwd Pkts', 'Subflow Bwd Pkts', 'Idle Min', 'Pkt Len Min', 'Pkt Len Max', 'Bwd IAT Tot', 'Active Mean'], 'Normal sample 1037': ['Init Bwd Win Byts', 'Idle Min', 'Fwd Pkt Len Min', 'Tot Bwd Pkts', 'Pkt Len Var', 'Flow Duration', 'Bwd Pkt Len Mean', 'Tot Fwd Pkts', 'Bwd Pkt Len Max', 'Subflow Bwd Byts'], 'Normal sample 1038': ['Init Bwd Win Byts', 'Subflow Fwd Byts', 'Idle Max', 'Fwd Header Len', 'Flow IAT Max', 'Flow Duration', 'TotLen Bwd Pkts', 'Fwd Pkt Len Std', 'Tot Bwd Pkts', 'Flow IAT Mean'], 'Normal sample 1039': ['Init Bwd Win Byts', 'Active Min', 'Idle Mean', 'Fwd Act Data Pkts', 'Subflow Bwd Pkts', 'Bwd Pkt Len Std', 'Tot Fwd Pkts', 'Flow IAT Std', 'Idle Max', 'Tot Bwd Pkts'], 'Normal sample 1040': ['Down/Up Ratio', 'Pkt Len Max', 'Flow Pkts/s', 'Pkt Len Min', 'Bwd Pkt Len Min', 'Pkt Len Std', 'Pkt Size Avg', 'Fwd IAT Max', 'Idle Min', 'Fwd Pkt Len Std'], 'Normal sample 1041': ['Bwd PSH Flags', 'Bwd Pkt Len Min', 'Fwd Seg Size Avg', 'Bwd IAT Max', 'Active Min', 'Bwd IAT Min', 'Down/Up Ratio', 'Tot Fwd Pkts', 'Active Mean', 'Fwd Pkt Len Max'], 'Normal sample 1042': ['Init Bwd Win Byts', 'Down/Up Ratio', 'Fwd IAT Max', 'Active Std', 'Fwd Pkt Len Max', 'Fwd IAT Mean', 'Idle Max', 'Idle Min', 'Bwd Pkt Len Mean', 'Bwd Pkt Len Std'], 'Normal sample 1043': ['Init Bwd Win Byts', 'Fwd Pkt Len Std', 'Fwd IAT Max', 'Fwd Pkt Len Max', 'Bwd IAT Min', 'Flow IAT Std', 'Flow IAT Min', 'Fwd Pkts/s', 'Idle Mean', 'Fwd IAT Std'], 'Normal sample 1044': ['Init Bwd Win Byts', 'Idle Max', 'Bwd Pkt Len Mean', 'Tot Fwd Pkts', 'Idle Mean', 'Active Mean', 'Fwd Act Data Pkts', 'Bwd IAT Min', 'Flow Duration', 'Bwd Header Len'], 'Normal sample 1045': ['Bwd Pkt Len Mean', 'Init Bwd Win Byts', 'Idle Min', 'Bwd IAT Max', 'Fwd Pkts/s', 'Fwd IAT Min', 'Flow IAT Mean', 'Tot Fwd Pkts', 'TotLen Fwd Pkts', 'TotLen Bwd Pkts'], 'Normal sample 1046': ['Bwd PSH Flags', 'Fwd IAT Max', 'Tot Fwd Pkts', 'Bwd Pkt Len Mean', 'Subflow Fwd Pkts', 'Idle Mean', 'Pkt Len Min', 'Bwd IAT Std', 'Fwd Pkt Len Max', 'Fwd IAT Tot'], 'Normal sample 1047': ['Init Bwd Win Byts', 'Subflow Fwd Byts', 'Fwd IAT Max', 'Pkt Len Var', 'Fwd Pkt Len Std', 'Fwd Pkts/s', 'Fwd Pkt Len Mean', 'Idle Mean', 'Fwd IAT Std', 'Flow Byts/s'], 'Normal sample 1048': ['SYN Flag Cnt', 'Bwd IAT Max', 'Bwd IAT Std', 'Bwd Pkt Len Max', 'Idle Max', 'TotLen Fwd Pkts', 'TotLen Bwd Pkts', 'Fwd Pkt Len Min', 'Bwd Pkt Len Min', 'Bwd Pkt Len Mean'], 'Normal sample 1049': ['Init Bwd Win Byts', 'Idle Mean', 'Active Std', 'Fwd IAT Max', 'Bwd Pkt Len Mean', 'Pkt Len Var', 'Idle Max', 'Bwd IAT Tot', 'Bwd Pkt Len Max', 'Idle Min'], 'Normal sample 1050': ['Bwd PSH Flags', 'Bwd Pkt Len Min', 'Fwd Pkt Len Mean', 'Fwd Pkt Len Std', 'TotLen Bwd Pkts', 'Bwd Pkt Len Mean', 'Fwd Pkt Len Max', 'ACK Flag Cnt', 'Flow IAT Min', 'Idle Min'], 'Normal sample 1051': ['SYN Flag Cnt', 'PSH Flag Cnt', 'Bwd Pkt Len Max', 'Subflow Fwd Byts', 'Idle Max', 'TotLen Bwd Pkts', 'Flow Duration', 'Bwd Pkt Len Mean', 'Bwd Pkt Len Min', 'TotLen Fwd Pkts'], 'Normal sample 1052': ['Init Bwd Win Byts', 'Fwd Act Data Pkts', 'Idle Mean', 'Bwd IAT Mean', 'Active Min', 'Fwd IAT Tot', 'Subflow Bwd Pkts', 'Idle Min', 'Bwd IAT Min', 'Bwd IAT Max'], 'Normal sample 1053': ['Init Bwd Win Byts', 'Idle Min', 'Bwd Pkt Len Max', 'TotLen Bwd Pkts', 'Pkt Len Var', 'Idle Max', 'Bwd IAT Max', 'Bwd Header Len', 'Fwd Header Len', 'TotLen Fwd Pkts'], 'Normal sample 1054': ['SYN Flag Cnt', 'Bwd IAT Max', 'Bwd Pkt Len Max', 'Bwd IAT Std', 'Bwd Pkt Len Std', 'Idle Max', 'Pkt Len Min', 'Bwd IAT Tot', 'Fwd Pkt Len Min', 'Active Max'], 'Normal sample 1055': ['Init Bwd Win Byts', 'Idle Mean', 'Bwd Seg Size Avg', 'Active Mean', 'Idle Min', 'Bwd PSH Flags', 'Bwd Header Len', 'Subflow Bwd Byts', 'Flow Duration', 'Active Max'], 'Normal sample 1056': ['SYN Flag Cnt', 'Bwd IAT Max', 'Bwd IAT Std', 'Idle Std', 'Bwd PSH Flags', 'Active Max', 'Idle Max', 'Bwd IAT Tot', 'Flow Byts/s', 'Fwd Header Len'], 'Normal sample 1057': ['Init Bwd Win Byts', 'Flow Duration', 'Fwd Act Data Pkts', 'Fwd IAT Std', 'Tot Fwd Pkts', 'Bwd IAT Mean', 'Fwd IAT Min', 'Bwd IAT Min', 'Bwd IAT Max', 'Idle Mean'], 'Normal sample 1058': ['Init Bwd Win Byts', 'Idle Max', 'Tot Bwd Pkts', 'Fwd Pkt Len Std', 'Subflow Fwd Pkts', 'Idle Min', 'Bwd IAT Min', 'Fwd IAT Min', 'Fwd IAT Mean', 'Bwd Seg Size Avg'], 'Normal sample 1059': ['Init Bwd Win Byts', 'Idle Std', 'Idle Max', 'Fwd Header Len', 'Subflow Fwd Byts', 'Bwd Header Len', 'Subflow Bwd Pkts', 'Tot Bwd Pkts', 'TotLen Fwd Pkts', 'Flow Duration'], 'Normal sample 1060': ['ACK Flag Cnt', 'Bwd IAT Std', 'Bwd IAT Max', 'Bwd IAT Mean', 'Flow IAT Mean', 'Idle Std', 'Fwd Pkt Len Min', 'Bwd Pkt Len Std', 'Flow Byts/s', 'Subflow Bwd Pkts'], 'Normal sample 1061': ['SYN Flag Cnt', 'Bwd IAT Tot', 'Bwd IAT Max', 'Bwd IAT Std', 'Tot Bwd Pkts', 'Pkt Len Min', 'Fwd IAT Min', 'Fwd Pkt Len Min', 'Subflow Fwd Pkts', 'Bwd IAT Mean'], 'Normal sample 1062': ['SYN Flag Cnt', 'Bwd Seg Size Avg', 'ACK Flag Cnt', 'Pkt Len Var', 'Pkt Len Min', 'Bwd Pkt Len Max', 'Subflow Fwd Byts', 'Tot Fwd Pkts', 'Tot Bwd Pkts', 'TotLen Fwd Pkts'], 'Normal sample 1063': ['ACK Flag Cnt', 'Bwd IAT Std', 'Bwd IAT Max', 'Flow IAT Max', 'Subflow Bwd Byts', 'Bwd IAT Tot', 'Tot Bwd Pkts', 'TotLen Fwd Pkts', 'TotLen Bwd Pkts', 'Bwd Pkt Len Max'], 'Normal sample 1064': ['Init Bwd Win Byts', 'Fwd IAT Max', 'Idle Mean', 'Bwd IAT Min', 'Subflow Bwd Byts', 'TotLen Bwd Pkts', 'Bwd Seg Size Avg', 'Active Min', 'Pkt Len Var', 'Bwd IAT Mean'], 'Normal sample 1065': ['SYN Flag Cnt', 'Bwd IAT Std', 'Bwd IAT Max', 'Idle Max', 'Bwd Pkt Len Max', 'Bwd Pkt Len Min', 'Bwd IAT Tot', 'Bwd Pkt Len Std', 'Fwd Header Len', 'Idle Std'], 'Normal sample 1066': ['Flow Pkts/s', 'Pkt Len Mean', 'Fwd Pkt Len Max', 'Pkt Size Avg', 'Bwd IAT Std', 'Pkt Len Max', 'Pkt Len Min', 'Fwd Pkt Len Std', 'Fwd IAT Max', 'Pkt Len Std'], 'Normal sample 1067': ['Init Bwd Win Byts', 'Subflow Fwd Pkts', 'Bwd IAT Tot', 'Bwd Pkt Len Std', 'Idle Max', 'Fwd IAT Max', 'Idle Mean', 'Subflow Bwd Pkts', 'Fwd IAT Min', 'Fwd IAT Std'], 'Normal sample 1068': ['Init Bwd Win Byts', 'Flow Duration', 'Tot Fwd Pkts', 'Tot Bwd Pkts', 'TotLen Fwd Pkts', 'TotLen Bwd Pkts', 'Fwd Pkt Len Min', 'Bwd Pkt Len Max', 'Bwd Pkt Len Min', 'Flow Pkts/s'], 'Normal sample 1069': ['Init Bwd Win Byts', 'Idle Max', 'Active Max', 'Fwd Act Data Pkts', 'Idle Min', 'Flow IAT Mean', 'Bwd IAT Max', 'Bwd Header Len', 'Flow Byts/s', 'Tot Fwd Pkts'], 'Normal sample 1070': ['Flow Pkts/s', 'Pkt Len Min', 'Pkt Len Std', 'Fwd Pkt Len Mean', 'Fwd Pkt Len Max', 'Pkt Len Max', 'Pkt Len Mean', 'Down/Up Ratio', 'Fwd Seg Size Avg', 'Pkt Size Avg'], 'Normal sample 1071': ['Init Bwd Win Byts', 'Flow Byts/s', 'Fwd Pkts/s', 'Flow Duration', 'Idle Mean', 'Bwd IAT Min', 'Bwd Pkt Len Mean', 'Bwd Header Len', 'Idle Min', 'Pkt Len Var'], 'Normal sample 1072': ['Init Bwd Win Byts', 'Fwd IAT Tot', 'TotLen Bwd Pkts', 'Flow IAT Mean', 'Bwd Header Len', 'Tot Fwd Pkts', 'Bwd Pkt Len Max', 'Active Max', 'Bwd IAT Tot', 'Idle Max'], 'Normal sample 1073': ['Init Bwd Win Byts', 'Bwd IAT Max', 'Bwd Seg Size Avg', 'Flow IAT Min', 'Active Max', 'Idle Max', 'Fwd Act Data Pkts', 'Active Min', 'Bwd Pkt Len Mean', 'Bwd IAT Mean'], 'Normal sample 1074': ['SYN Flag Cnt', 'Bwd Pkt Len Max', 'PSH Flag Cnt', 'Subflow Fwd Byts', 'Fwd Pkt Len Mean', 'Flow Byts/s', 'Active Std', 'Tot Bwd Pkts', 'TotLen Fwd Pkts', 'TotLen Bwd Pkts'], 'Normal sample 1075': ['Down/Up Ratio', 'Flow Pkts/s', 'Fwd Pkt Len Std', 'Pkt Len Mean', 'Fwd Seg Size Avg', 'Pkt Size Avg', 'Pkt Len Min', 'Pkt Len Max', 'Flow IAT Std', 'Fwd Pkt Len Max'], 'Normal sample 1076': ['Flow Pkts/s', 'Fwd Pkt Len Max', 'Pkt Len Min', 'Pkt Len Std', 'Pkt Size Avg', 'Pkt Len Max', 'Fwd Seg Size Avg', 'Fwd IAT Tot', 'Fwd Pkt Len Std', 'Fwd Pkt Len Mean'], 'Normal sample 1077': ['ACK Flag Cnt', 'Bwd IAT Tot', 'Bwd IAT Std', 'Fwd IAT Mean', 'Bwd IAT Max', 'Bwd IAT Mean', 'Flow IAT Mean', 'Idle Max', 'Bwd Pkt Len Std', 'Flow IAT Std'], 'Normal sample 1078': ['Active Max', 'Active Min', 'Flow IAT Max', 'Active Mean', 'Idle Max', 'Flow IAT Mean', 'Idle Min', 'Idle Std', 'Init Bwd Win Byts', 'Subflow Bwd Byts'], 'Normal sample 1079': ['Init Bwd Win Byts', 'Idle Min', 'Active Std', 'Bwd IAT Mean', 'Pkt Len Var', 'Tot Fwd Pkts', 'Flow IAT Mean', 'Subflow Bwd Pkts', 'Bwd Pkt Len Mean', 'Fwd IAT Tot'], 'Normal sample 1080': ['Tot Fwd Pkts', 'TotLen Fwd Pkts', 'TotLen Bwd Pkts', 'Fwd Pkt Len Min', 'Bwd Pkt Len Mean', 'Bwd Pkt Len Std', 'Flow Byts/s', 'Flow Pkts/s', 'Flow IAT Mean', 'Flow IAT Min'], 'Normal sample 1081': ['Bwd PSH Flags', 'Pkt Len Min', 'Fwd Pkt Len Std', 'Subflow Bwd Byts', 'Subflow Fwd Pkts', 'Bwd Pkt Len Min', 'Fwd Pkt Len Max', 'TotLen Fwd Pkts', 'Bwd Pkt Len Max', 'Fwd Pkt Len Mean'], 'Normal sample 1082': ['Init Bwd Win Byts', 'Subflow Bwd Byts', 'Fwd IAT Std', 'Idle Max', 'Fwd Act Data Pkts', 'Bwd Seg Size Avg', 'Subflow Bwd Pkts', 'Flow Duration', 'Fwd Pkt Len Max', 'Bwd Pkt Len Mean'], 'Normal sample 1083': ['Init Bwd Win Byts', 'Pkt Len Min', 'Subflow Fwd Byts', 'Subflow Bwd Pkts', 'Idle Std', 'Flow Pkts/s', 'Tot Bwd Pkts', 'TotLen Bwd Pkts', 'Bwd Pkt Len Max', 'Bwd Pkt Len Min'], 'Normal sample 1084': ['Down/Up Ratio', 'Pkt Len Max', 'Flow Pkts/s', 'Pkt Len Std', 'Fwd Pkt Len Max', 'Fwd IAT Max', 'Pkt Size Avg', 'Fwd Header Len', 'Fwd Pkt Len Std', 'Flow Duration'], 'Normal sample 1085': ['ACK Flag Cnt', 'Bwd IAT Max', 'Bwd IAT Std', 'Bwd IAT Mean', 'Bwd IAT Tot', 'Subflow Bwd Pkts', 'Fwd Pkt Len Min', 'Fwd Pkt Len Mean', 'Bwd Pkt Len Max', 'Bwd Pkt Len Min'], 'Normal sample 1086': ['SYN Flag Cnt', 'Bwd Pkt Len Max', 'Bwd Pkt Len Mean', 'Bwd Pkt Len Min', 'Bwd PSH Flags', 'Fwd IAT Std', 'PSH Flag Cnt', 'Active Std', 'Bwd IAT Min', 'Bwd Pkt Len Std'], 'Normal sample 1087': ['SYN Flag Cnt', 'Bwd Pkt Len Max', 'Bwd Pkt Len Std', 'Bwd Pkt Len Mean', 'Subflow Fwd Pkts', 'TotLen Fwd Pkts', 'Bwd Seg Size Avg', 'Bwd IAT Std', 'Active Max', 'Bwd IAT Min'], 'Normal sample 1088': ['Bwd IAT Tot', 'ACK Flag Cnt', 'Bwd PSH Flags', 'Active Max', 'Bwd IAT Std', 'Bwd IAT Max', 'Flow Byts/s', 'Idle Mean', 'Idle Min', 'Flow IAT Min'], 'Normal sample 1089': ['Init Bwd Win Byts', 'Idle Min', 'Flow Pkts/s', 'Bwd Pkt Len Mean', 'Idle Mean', 'Fwd Pkt Len Max', 'Fwd IAT Min', 'Subflow Bwd Pkts', 'Fwd IAT Mean', 'Idle Max'], 'Normal sample 1090': ['ACK Flag Cnt', 'Bwd IAT Std', 'Bwd IAT Tot', 'Bwd IAT Max', 'Bwd PSH Flags', 'Bwd IAT Mean', 'Active Std', 'Idle Max', 'Fwd IAT Min', 'Active Max'], 'Normal sample 1091': ['Init Bwd Win Byts', 'Idle Mean', 'Active Std', 'Flow IAT Min', 'Flow IAT Mean', 'Fwd IAT Max', 'Fwd IAT Tot', 'Idle Max', 'Flow Duration', 'Bwd Seg Size Avg'], 'Normal sample 1092': ['Init Bwd Win Byts', 'Tot Fwd Pkts', 'Idle Mean', 'Active Mean', 'Fwd Act Data Pkts', 'Idle Max', 'Subflow Bwd Pkts', 'Fwd IAT Min', 'Bwd IAT Min', 'Bwd Seg Size Avg'], 'Normal sample 1093': ['Init Bwd Win Byts', 'Idle Mean', 'Idle Max', 'Idle Min', 'Bwd Pkt Len Mean', 'Subflow Fwd Byts', 'Flow Duration', 'Pkt Len Var', 'Bwd Seg Size Avg', 'Subflow Bwd Byts'], 'Normal sample 1094': ['SYN Flag Cnt', 'Bwd IAT Max', 'Flow IAT Mean', 'Bwd IAT Std', 'Idle Max', 'Bwd Header Len', 'Fwd Pkts/s', 'Bwd IAT Mean', 'Bwd IAT Tot', 'Tot Fwd Pkts'], 'Normal sample 1095': ['Init Bwd Win Byts', 'Idle Max', 'Fwd IAT Min', 'Idle Min', 'Fwd Pkt Len Max', 'Idle Mean', 'Fwd Act Data Pkts', 'Subflow Fwd Byts', 'Fwd IAT Max', 'Flow Duration'], 'Normal sample 1096': ['Flow Pkts/s', 'FIN Flag Cnt', 'Down/Up Ratio', 'Pkt Len Min', 'Fwd IAT Tot', 'Pkt Len Var', 'Flow IAT Mean', 'Fwd IAT Std', 'Pkt Len Mean', 'Idle Max'], 'Normal sample 1097': ['Flow Pkts/s', 'Down/Up Ratio', 'Pkt Len Max', 'Fwd Pkt Len Std', 'Fwd IAT Tot', 'Pkt Size Avg', 'Pkt Len Min', 'Fwd Seg Size Avg', 'Pkt Len Std', 'Fwd IAT Max'], 'Normal sample 1098': ['SYN Flag Cnt', 'Bwd Pkt Len Max', 'Bwd Pkt Len Std', 'Idle Min', 'Subflow Fwd Byts', 'Bwd IAT Max', 'Tot Bwd Pkts', 'Active Std', 'Subflow Bwd Pkts', 'Pkt Len Min'], 'Normal sample 1099': ['SYN Flag Cnt', 'Bwd IAT Tot', 'Bwd IAT Max', 'Bwd IAT Std', 'Active Mean', 'Fwd Seg Size Avg', 'Idle Max', 'Idle Std', 'Fwd Pkt Len Min', 'Active Max'], 'Normal sample 1100': ['Flow Pkts/s', 'Down/Up Ratio', 'Fwd Seg Size Avg', 'Pkt Len Min', 'Pkt Len Max', 'Idle Min', 'Fwd Pkt Len Std', 'Bwd IAT Tot', 'FIN Flag Cnt', 'Bwd Pkt Len Min'], 'Normal sample 1101': ['SYN Flag Cnt', 'Bwd IAT Std', 'Bwd IAT Max', 'Idle Max', 'Idle Mean', 'Flow IAT Mean', 'Fwd Header Len', 'TotLen Fwd Pkts', 'Bwd Pkt Len Max', 'Down/Up Ratio'], 'Normal sample 1102': ['Fwd IAT Min', 'Tot Fwd Pkts', 'Tot Bwd Pkts', 'TotLen Fwd Pkts', 'Fwd Pkt Len Max', 'Fwd Pkt Len Min', 'Fwd Pkt Len Mean', 'Fwd Pkt Len Std', 'Bwd Pkt Len Max', 'Bwd Pkt Len Min'], 'Normal sample 1103': ['SYN Flag Cnt', 'Bwd Pkt Len Max', 'Idle Mean', 'Fwd Act Data Pkts', 'Tot Bwd Pkts', 'Flow Pkts/s', 'Flow IAT Std', 'Subflow Bwd Byts', 'Flow IAT Min', 'Flow Duration'], 'Normal sample 1104': ['Idle Max', 'Init Bwd Win Byts', 'Idle Min', 'Subflow Bwd Pkts', 'Idle Mean', 'Subflow Fwd Pkts', 'Flow Byts/s', 'TotLen Fwd Pkts', 'Tot Bwd Pkts', 'Fwd Pkt Len Max'], 'Normal sample 1105': ['Init Bwd Win Byts', 'Down/Up Ratio', 'Pkt Len Min', 'Bwd Header Len', 'Fwd Pkts/s', 'Tot Fwd Pkts', 'TotLen Fwd Pkts', 'Bwd Pkt Len Min', 'Flow Byts/s', 'Fwd PSH Flags'], 'Normal sample 1106': ['Flow Pkts/s', 'Down/Up Ratio', 'FIN Flag Cnt', 'Pkt Len Min', 'Pkt Len Std', 'Bwd Pkt Len Std', 'Bwd PSH Flags', 'Flow IAT Max', 'Fwd IAT Max', 'Pkt Len Max'], 'Normal sample 1107': ['Flow Pkts/s', 'Pkt Len Max', 'Pkt Len Std', 'Pkt Size Avg', 'Fwd Pkt Len Std', 'Pkt Len Mean', 'Fwd Pkt Len Max', 'Fwd IAT Max', 'Fwd Seg Size Avg', 'Pkt Len Min'], 'Normal sample 1108': ['Init Bwd Win Byts', 'Bwd Pkt Len Std', 'Fwd IAT Mean', 'Flow IAT Std', 'Bwd Seg Size Avg', 'Flow IAT Min', 'Active Max', 'Fwd Act Data Pkts', 'Bwd Header Len', 'Flow Duration'], 'Normal sample 1109': ['Bwd Seg Size Avg', 'Idle Mean', 'Subflow Fwd Byts', 'Init Bwd Win Byts', 'Flow IAT Std', 'Active Std', 'Bwd Pkt Len Max', 'Flow Duration', 'Tot Fwd Pkts', 'Tot Bwd Pkts'], 'Normal sample 1110': ['SYN Flag Cnt', 'Fwd Pkt Len Min', 'Down/Up Ratio', 'Subflow Fwd Pkts', 'Bwd IAT Mean', 'Tot Fwd Pkts', 'Idle Max', 'TotLen Bwd Pkts', 'TotLen Fwd Pkts', 'Fwd Pkt Len Max'], 'Normal sample 1111': ['SYN Flag Cnt', 'Bwd Pkt Len Max', 'Bwd Pkt Len Std', 'Idle Mean', 'Idle Std', 'Fwd Pkt Len Min', 'Flow IAT Mean', 'Bwd IAT Min', 'Bwd IAT Tot', 'Bwd IAT Max'], 'Normal sample 1112': ['SYN Flag Cnt', 'Bwd Pkt Len Max', 'Subflow Fwd Byts', 'TotLen Fwd Pkts', 'Idle Mean', 'Tot Fwd Pkts', 'Tot Bwd Pkts', 'TotLen Bwd Pkts', 'Fwd Pkt Len Min', 'Bwd Pkt Len Min'], 'Normal sample 1113': ['Down/Up Ratio', 'Pkt Size Avg', 'Pkt Len Max', 'Flow Pkts/s', 'Pkt Len Min', 'Pkt Len Std', 'Fwd Pkt Len Mean', 'Fwd Pkt Len Std', 'PSH Flag Cnt', 'Fwd Seg Size Avg'], 'Normal sample 1114': ['Init Bwd Win Byts', 'Bwd Pkt Len Max', 'Tot Fwd Pkts', 'Fwd IAT Std', 'Fwd Header Len', 'Bwd Seg Size Avg', 'Idle Mean', 'Tot Bwd Pkts', 'Active Min', 'Fwd Act Data Pkts'], 'Normal sample 1115': ['Init Bwd Win Byts', 'Active Max', 'Idle Std', 'Bwd Pkt Len Max', 'Bwd Seg Size Avg', 'Bwd Pkt Len Mean', 'Idle Min', 'Flow Pkts/s', 'Bwd IAT Mean', 'Bwd IAT Max'], 'Normal sample 1116': ['Flow IAT Min', 'Pkt Len Max', 'Fwd IAT Max', 'Flow Pkts/s', 'Pkt Len Mean', 'Fwd Pkt Len Std', 'Idle Std', 'Fwd Pkt Len Max', 'Pkt Size Avg', 'Fwd Act Data Pkts'], 'Normal sample 1117': ['SYN Flag Cnt', 'Bwd IAT Std', 'Bwd IAT Max', 'Idle Mean', 'Pkt Len Min', 'Subflow Bwd Pkts', 'Idle Std', 'Active Max', 'Subflow Fwd Pkts', 'Bwd Pkt Len Mean'], 'Normal sample 1118': ['Flow Duration', 'Tot Fwd Pkts', 'TotLen Fwd Pkts', 'TotLen Bwd Pkts', 'Fwd Pkt Len Min', 'Bwd Pkt Len Min', 'Bwd Pkt Len Mean', 'Bwd Pkt Len Std', 'Flow IAT Mean', 'Flow IAT Std'], 'Normal sample 1119': ['Bwd Pkts/s', 'Fwd Pkts/s', 'Fwd IAT Max', 'Pkt Len Min', 'Fwd Act Data Pkts', 'ACK Flag Cnt', 'Pkt Len Std', 'Pkt Len Max', 'Fwd Seg Size Avg', 'Flow Duration'], 'Normal sample 1120': ['Init Bwd Win Byts', 'Fwd IAT Std', 'Fwd IAT Max', 'Idle Mean', 'Bwd PSH Flags', 'Fwd Pkt Len Std', 'Idle Max', 'Bwd IAT Mean', 'Bwd IAT Tot', 'Active Mean'], 'Normal sample 1121': ['Init Bwd Win Byts', 'Bwd Pkt Len Max', 'Fwd Act Data Pkts', 'TotLen Bwd Pkts', 'Idle Max', 'Subflow Bwd Pkts', 'Flow Duration', 'Tot Fwd Pkts', 'Tot Bwd Pkts', 'TotLen Fwd Pkts'], 'Normal sample 1122': ['Init Bwd Win Byts', 'Down/Up Ratio', 'Fwd IAT Min', 'Bwd Pkt Len Max', 'Flow Byts/s', 'Flow Duration', 'Fwd IAT Mean', 'Fwd IAT Std', 'Bwd Pkt Len Mean', 'Bwd IAT Min'], 'Normal sample 1123': ['Init Bwd Win Byts', 'Bwd Pkt Len Std', 'Flow Duration', 'Bwd Seg Size Avg', 'Idle Mean', 'Bwd Pkt Len Max', 'Fwd IAT Min', 'TotLen Bwd Pkts', 'Bwd Header Len', 'Active Min'], 'Normal sample 1124': ['Init Bwd Win Byts', 'Tot Bwd Pkts', 'Flow Duration', 'Tot Fwd Pkts', 'TotLen Fwd Pkts', 'Fwd Pkt Len Max', 'Fwd Pkt Len Min', 'Fwd Pkt Len Std', 'Bwd Pkt Len Max', 'Bwd Pkt Len Mean'], 'Normal sample 1125': ['ACK Flag Cnt', 'Bwd IAT Std', 'Bwd IAT Max', 'Flow IAT Mean', 'Bwd IAT Tot', 'Bwd IAT Mean', 'Bwd Header Len', 'Bwd PSH Flags', 'Subflow Bwd Pkts', 'TotLen Bwd Pkts'], 'Normal sample 1126': ['Bwd IAT Std', 'Flow IAT Mean', 'Bwd IAT Max', 'Init Bwd Win Byts', 'Bwd Pkt Len Max', 'Bwd Seg Size Avg', 'Tot Bwd Pkts', 'Idle Max', 'Fwd IAT Min', 'TotLen Fwd Pkts'], 'Normal sample 1127': ['Init Bwd Win Byts', 'Bwd Header Len', 'Subflow Bwd Pkts', 'Bwd IAT Max', 'Flow Duration', 'Tot Fwd Pkts', 'Tot Bwd Pkts', 'TotLen Bwd Pkts', 'Fwd Pkt Len Max', 'Fwd Pkt Len Std'], 'Normal sample 1128': ['Down/Up Ratio', 'Flow Pkts/s', 'Fwd Pkt Len Max', 'Fwd Pkt Len Mean', 'Pkt Len Std', 'Pkt Len Mean', 'Pkt Len Min', 'Subflow Bwd Byts', 'Pkt Len Max', 'Fwd IAT Tot'], 'Normal sample 1129': ['ACK Flag Cnt', 'Bwd IAT Std', 'Idle Std', 'Bwd IAT Max', 'Bwd IAT Tot', 'Pkt Len Mean', 'Bwd Pkt Len Min', 'Bwd IAT Mean', 'Bwd Pkt Len Mean', 'Bwd Pkt Len Std'], 'Normal sample 1130': ['Bwd PSH Flags', 'Active Mean', 'Fwd IAT Max', 'Pkt Len Min', 'Bwd Pkt Len Std', 'Idle Max', 'TotLen Bwd Pkts', 'Tot Bwd Pkts', 'Active Std', 'Pkt Len Std'], 'Normal sample 1131': ['SYN Flag Cnt', 'Bwd Pkt Len Max', 'Bwd IAT Max', 'Bwd Pkt Len Std', 'Bwd IAT Std', 'Fwd IAT Min', 'Bwd IAT Mean', 'Subflow Fwd Byts', 'Fwd Pkt Len Min', 'Tot Fwd Pkts'], 'Normal sample 1132': ['Init Bwd Win Byts', 'Flow Duration', 'Tot Fwd Pkts', 'Tot Bwd Pkts', 'TotLen Fwd Pkts', 'TotLen Bwd Pkts', 'Fwd Pkt Len Min', 'Bwd Pkt Len Max', 'Bwd Pkt Len Mean', 'Bwd Pkt Len Std'], 'Normal sample 1133': ['Bwd PSH Flags', 'Init Bwd Win Byts', 'Down/Up Ratio', 'Fwd Pkt Len Std', 'Fwd IAT Tot', 'Fwd Pkt Len Max', 'Pkt Len Min', 'Bwd Pkt Len Max', 'Pkt Len Mean', 'Fwd Seg Size Avg'], 'Normal sample 1134': ['Init Bwd Win Byts', 'Fwd IAT Min', 'Fwd IAT Mean', 'Idle Max', 'Subflow Bwd Pkts', 'Idle Mean', 'Active Mean', 'Bwd Pkt Len Max', 'Idle Std', 'Bwd IAT Tot'], 'Normal sample 1135': ['Init Bwd Win Byts', 'Fwd IAT Std', 'TotLen Fwd Pkts', 'Idle Max', 'Active Max', 'Bwd IAT Tot', 'Idle Mean', 'Subflow Fwd Pkts', 'Active Min', 'Bwd Seg Size Avg'], 'Normal sample 1136': ['Init Bwd Win Byts', 'Fwd IAT Std', 'Idle Mean', 'Fwd IAT Max', 'Subflow Bwd Byts', 'Bwd Header Len', 'TotLen Bwd Pkts', 'Subflow Fwd Byts', 'Flow IAT Mean', 'Bwd Pkt Len Max'], 'Normal sample 1137': ['SYN Flag Cnt', 'Bwd Pkt Len Max', 'FIN Flag Cnt', 'Bwd Pkt Len Std', 'Fwd IAT Mean', 'Fwd Pkt Len Min', 'Bwd IAT Std', 'Tot Fwd Pkts', 'Tot Bwd Pkts', 'TotLen Bwd Pkts'], 'Normal sample 1138': ['Init Bwd Win Byts', 'Fwd Pkt Len Max', 'Idle Max', 'Fwd Pkts/s', 'TotLen Fwd Pkts', 'Flow Duration', 'Fwd IAT Max', 'Bwd Header Len', 'Bwd Seg Size Avg', 'TotLen Bwd Pkts'], 'Normal sample 1139': ['Init Bwd Win Byts', 'Bwd Pkt Len Mean', 'Tot Bwd Pkts', 'Flow IAT Mean', 'Subflow Bwd Pkts', 'Fwd IAT Max', 'Idle Min', 'Bwd IAT Tot', 'Bwd Pkt Len Max', 'Subflow Bwd Byts'], 'Normal sample 1140': ['Init Bwd Win Byts', 'TotLen Fwd Pkts', 'Idle Mean', 'Fwd IAT Max', 'Subflow Fwd Pkts', 'Flow Duration', 'Tot Fwd Pkts', 'Tot Bwd Pkts', 'TotLen Bwd Pkts', 'Fwd Pkt Len Std'], 'Normal sample 1141': ['SYN Flag Cnt', 'Bwd Pkt Len Max', 'Bwd Pkt Len Std', 'Bwd Pkt Len Mean', 'Bwd Seg Size Avg', 'Idle Max', 'Bwd IAT Min', 'Bwd Header Len', 'PSH Flag Cnt', 'Idle Mean'], 'Normal sample 1142': ['SYN Flag Cnt', 'TotLen Bwd Pkts', 'Bwd IAT Min', 'TotLen Fwd Pkts', 'Bwd IAT Max', 'Idle Min', 'Bwd Pkt Len Max', 'Fwd Pkts/s', 'Bwd Pkt Len Std', 'Bwd Pkt Len Min'], 'Normal sample 1143': ['Init Bwd Win Byts', 'Idle Max', 'Fwd IAT Mean', 'Idle Min', 'Bwd Pkt Len Mean', 'Bwd IAT Tot', 'Idle Mean', 'Bwd Pkt Len Max', 'Fwd Act Data Pkts', 'Bwd Seg Size Avg'], 'Normal sample 1144': ['Init Bwd Win Byts', 'Idle Min', 'Flow Duration', 'Idle Mean', 'Pkt Len Var', 'Bwd PSH Flags', 'Active Std', 'Tot Fwd Pkts', 'Bwd Pkt Len Std', 'Tot Bwd Pkts'], 'Normal sample 1145': ['Init Bwd Win Byts', 'Subflow Bwd Pkts', 'Fwd IAT Max', 'Idle Std', 'Flow IAT Min', 'Fwd Act Data Pkts', 'Idle Max', 'TotLen Bwd Pkts', 'Bwd IAT Tot', 'TotLen Fwd Pkts'], 'Normal sample 1146': ['Flow Pkts/s', 'Down/Up Ratio', 'Pkt Len Max', 'Fwd Pkt Len Max', 'Fwd Seg Size Avg', 'PSH Flag Cnt', 'Pkt Len Mean', 'Pkt Size Avg', 'Fwd Pkt Len Mean', 'Pkt Len Min'], 'Normal sample 1147': ['Init Bwd Win Byts', 'Bwd Pkt Len Mean', 'Bwd Seg Size Avg', 'Tot Fwd Pkts', 'Bwd Header Len', 'Fwd IAT Min', 'Idle Mean', 'Pkt Len Var', 'Bwd Pkt Len Std', 'Tot Bwd Pkts'], 'Normal sample 1148': ['Init Bwd Win Byts', 'Fwd IAT Tot', 'Bwd IAT Mean', 'Flow IAT Min', 'Subflow Fwd Byts', 'Subflow Bwd Pkts', 'Active Mean', 'Fwd Pkt Len Max', 'Fwd Pkt Len Min', 'Fwd Pkt Len Std'], 'Normal sample 1149': ['SYN Flag Cnt', 'Bwd Pkt Len Max', 'Flow Duration', 'Tot Fwd Pkts', 'TotLen Fwd Pkts', 'TotLen Bwd Pkts', 'Fwd Pkt Len Mean', 'Bwd Pkt Len Min', 'Flow Byts/s', 'Flow Pkts/s'], 'Normal sample 1150': ['Init Bwd Win Byts', 'Bwd Seg Size Avg', 'Bwd Pkt Len Mean', 'Subflow Fwd Byts', 'Tot Fwd Pkts', 'Tot Bwd Pkts', 'Bwd IAT Min', 'Idle Max', 'Bwd Header Len', 'Fwd Pkt Len Min'], 'Normal sample 1151': ['Init Bwd Win Byts', 'TotLen Fwd Pkts', 'Idle Mean', 'Idle Min', 'Bwd Seg Size Avg', 'Bwd IAT Tot', 'Fwd Header Len', 'Bwd IAT Mean', 'Fwd Pkt Len Max', 'Fwd IAT Min'], 'Normal sample 1152': ['Init Bwd Win Byts', 'Bwd IAT Min', 'Bwd Pkt Len Std', 'Bwd Seg Size Avg', 'Fwd IAT Max', 'Active Std', 'Tot Bwd Pkts', 'Bwd Pkt Len Max', 'Flow Duration', 'Tot Fwd Pkts'], 'Normal sample 1153': ['SYN Flag Cnt', 'Bwd IAT Max', 'Bwd IAT Tot', 'Bwd IAT Std', 'Flow IAT Mean', 'Flow IAT Max', 'Tot Fwd Pkts', 'Idle Std', 'Tot Bwd Pkts', 'Bwd IAT Min'], 'Normal sample 1154': ['Init Bwd Win Byts', 'Tot Fwd Pkts', 'Idle Std', 'Fwd IAT Tot', 'Idle Mean', 'Subflow Fwd Byts', 'Subflow Fwd Pkts', 'Bwd Pkt Len Max', 'Fwd Pkt Len Mean', 'Fwd Pkt Len Max'], 'Normal sample 1155': ['ACK Flag Cnt', 'Bwd IAT Std', 'Bwd IAT Max', 'Idle Max', 'Bwd PSH Flags', 'Bwd IAT Tot', 'Fwd Pkts/s', 'Flow IAT Max', 'Bwd IAT Mean', 'Idle Mean'], 'Normal sample 1156': ['Init Bwd Win Byts', 'Bwd Seg Size Avg', 'Bwd Pkt Len Mean', 'Idle Std', 'Fwd IAT Max', 'Bwd Pkt Len Std', 'Tot Fwd Pkts', 'Tot Bwd Pkts', 'TotLen Fwd Pkts', 'TotLen Bwd Pkts'], 'Normal sample 1157': ['Down/Up Ratio', 'Pkt Len Std', 'Pkt Len Max', 'Fwd Pkt Len Max', 'Pkt Len Mean', 'Subflow Bwd Byts', 'Fwd Pkt Len Std', 'Pkt Len Min', 'Fwd Pkt Len Mean', 'Bwd Pkt Len Min'], 'Normal sample 1158': ['ACK Flag Cnt', 'Bwd IAT Tot', 'Bwd IAT Max', 'Bwd IAT Std', 'Idle Max', 'Flow IAT Mean', 'Flow IAT Max', 'Pkt Len Min', 'Bwd IAT Mean', 'Bwd PSH Flags'], 'Normal sample 1159': ['Init Bwd Win Byts', 'Flow Duration', 'Tot Fwd Pkts', 'Tot Bwd Pkts', 'TotLen Fwd Pkts', 'TotLen Bwd Pkts', 'Fwd Pkt Len Min', 'Bwd Pkt Len Min', 'Bwd Pkt Len Mean', 'Bwd Pkt Len Std'], 'Normal sample 1160': ['Init Bwd Win Byts', 'Down/Up Ratio', 'Fwd Pkt Len Min', 'Bwd Pkt Len Mean', 'Bwd Pkt Len Std', 'Tot Fwd Pkts', 'Bwd Pkt Len Max', 'Flow IAT Std', 'Bwd IAT Min', 'Fwd Pkt Len Std'], 'Normal sample 1161': ['Init Bwd Win Byts', 'Idle Mean', 'Active Min', 'Active Max', 'Fwd IAT Min', 'Flow IAT Std', 'Active Std', 'TotLen Fwd Pkts', 'Fwd IAT Tot', 'Fwd IAT Std'], 'Normal sample 1162': ['Init Bwd Win Byts', 'Active Std', 'Fwd Act Data Pkts', 'Flow Duration', 'Subflow Fwd Byts', 'Flow IAT Min', 'Tot Fwd Pkts', 'Active Min', 'Fwd IAT Mean', 'Bwd Pkt Len Max'], 'Normal sample 1163': ['Init Bwd Win Byts', 'Subflow Bwd Pkts', 'Idle Max', 'Fwd IAT Max', 'Active Std', 'Bwd Pkt Len Max', 'Tot Bwd Pkts', 'Flow Duration', 'Bwd Header Len', 'Idle Min'], 'Normal sample 1164': ['Down/Up Ratio', 'Pkt Len Min', 'Fwd Seg Size Avg', 'Flow Pkts/s', 'Pkt Len Max', 'Fwd Pkt Len Max', 'Pkt Len Mean', 'Pkt Len Std', 'Fwd IAT Max', 'Fwd Pkt Len Mean'], 'Normal sample 1165': ['SYN Flag Cnt', 'Bwd IAT Max', 'Bwd IAT Std', 'Idle Max', 'Subflow Fwd Byts', 'Idle Min', 'Flow IAT Mean', 'Bwd IAT Min', 'Tot Fwd Pkts', 'Subflow Fwd Pkts'], 'Normal sample 1166': ['SYN Flag Cnt', 'Bwd IAT Max', 'Bwd IAT Std', 'Pkt Len Min', 'Bwd IAT Tot', 'Flow IAT Mean', 'Active Std', 'Fwd Pkt Len Min', 'Pkt Len Var', 'Subflow Fwd Pkts'], 'Normal sample 1167': ['RST Flag Cnt', 'Idle Mean', 'Flow Duration', 'Pkt Len Mean', 'Idle Min', 'Pkt Len Std', 'Fwd Seg Size Avg', 'Fwd Pkt Len Std', 'Flow Pkts/s', 'Flow IAT Max'], 'Normal sample 1168': ['Init Bwd Win Byts', 'Active Min', 'Idle Max', 'TotLen Bwd Pkts', 'Idle Min', 'Idle Mean', 'Fwd IAT Tot', 'Bwd Header Len', 'Bwd IAT Max', 'Fwd IAT Max'], 'Normal sample 1169': ['Init Bwd Win Byts', 'Idle Mean', 'Subflow Fwd Pkts', 'Idle Max', 'Flow IAT Std', 'Fwd IAT Max', 'Bwd Pkt Len Max', 'Pkt Len Var', 'Bwd Pkt Len Mean', 'Fwd IAT Min'], 'Normal sample 1170': ['Init Bwd Win Byts', 'TotLen Fwd Pkts', 'Idle Max', 'Fwd Pkts/s', 'Idle Mean', 'Idle Min', 'Fwd IAT Std', 'TotLen Bwd Pkts', 'Subflow Bwd Byts', 'Bwd IAT Tot'], 'Normal sample 1171': ['Init Bwd Win Byts', 'Idle Mean', 'Fwd IAT Max', 'Fwd Act Data Pkts', 'Idle Max', 'Pkt Len Var', 'Idle Min', 'Fwd IAT Min', 'Bwd IAT Max', 'Flow Duration'], 'Normal sample 1172': ['Init Bwd Win Byts', 'Pkt Len Var', 'Idle Min', 'Fwd Pkt Len Min', 'Idle Std', 'Active Std', 'Fwd IAT Std', 'TotLen Fwd Pkts', 'Bwd IAT Min', 'Flow Duration'], 'Normal sample 1173': ['Init Bwd Win Byts', 'Flow IAT Min', 'TotLen Fwd Pkts', 'Fwd IAT Std', 'Idle Max', 'Subflow Bwd Byts', 'Fwd IAT Mean', 'Fwd IAT Min', 'Subflow Bwd Pkts', 'Flow Duration'], 'Normal sample 1174': ['Down/Up Ratio', 'Init Bwd Win Byts', 'Flow IAT Std', 'Flow Duration', 'Idle Min', 'TotLen Bwd Pkts', 'Subflow Fwd Pkts', 'Subflow Bwd Pkts', 'Fwd IAT Max', 'Tot Fwd Pkts'], 'Normal sample 1175': ['SYN Flag Cnt', 'Bwd Pkt Len Std', 'Bwd Pkt Len Max', 'Idle Max', 'Bwd Pkt Len Mean', 'Bwd Seg Size Avg', 'Fwd IAT Mean', 'Active Std', 'Subflow Bwd Pkts', 'Bwd IAT Tot'], 'Normal sample 1176': ['SYN Flag Cnt', 'Active Std', 'Fwd Act Data Pkts', 'Idle Mean', 'Idle Std', 'TotLen Bwd Pkts', 'Pkt Len Min', 'Bwd Pkt Len Max', 'Idle Min', 'Fwd Pkt Len Min'], 'Normal sample 1177': ['Down/Up Ratio', 'Flow Pkts/s', 'Pkt Len Std', 'Fwd Pkt Len Max', 'Pkt Len Max', 'Pkt Len Min', 'Pkt Len Mean', 'Bwd Header Len', 'Bwd IAT Mean', 'Fwd IAT Max'], 'Normal sample 1178': ['Init Bwd Win Byts', 'Idle Mean', 'TotLen Bwd Pkts', 'Fwd IAT Std', 'Bwd Pkt Len Std', 'Idle Max', 'Fwd IAT Max', 'Bwd IAT Mean', 'Bwd Pkt Len Max', 'Bwd Header Len'], 'Normal sample 1179': ['ACK Flag Cnt', 'Bwd IAT Tot', 'Bwd IAT Std', 'Bwd IAT Max', 'Idle Max', 'Bwd PSH Flags', 'Subflow Bwd Byts', 'Bwd IAT Mean', 'Flow Byts/s', 'Subflow Fwd Pkts'], 'Normal sample 1180': ['Init Bwd Win Byts', 'Fwd Pkt Len Std', 'TotLen Bwd Pkts', 'Tot Fwd Pkts', 'Fwd IAT Tot', 'Fwd IAT Max', 'Bwd IAT Tot', 'Bwd IAT Min', 'Bwd Pkt Len Max', 'Idle Min'], 'Normal sample 1181': ['SYN Flag Cnt', 'Bwd Pkt Len Max', 'Bwd Pkt Len Std', 'Bwd IAT Max', 'Bwd IAT Std', 'Tot Fwd Pkts', 'Idle Min', 'Subflow Bwd Byts', 'Fwd Pkts/s', 'Subflow Fwd Pkts'], 'Normal sample 1182': ['Init Bwd Win Byts', 'Fwd IAT Std', 'Bwd Pkt Len Mean', 'Bwd IAT Mean', 'Idle Max', 'Bwd Seg Size Avg', 'Active Max', 'Tot Fwd Pkts', 'Idle Min', 'Bwd Header Len'], 'Normal sample 1183': ['Bwd PSH Flags', 'Idle Std', 'Subflow Bwd Byts', 'Idle Mean', 'Bwd Pkt Len Std', 'Bwd IAT Mean', 'Bwd Pkt Len Max', 'Fwd Act Data Pkts', 'Fwd IAT Tot', 'Subflow Fwd Byts'], 'Normal sample 1184': ['Tot Fwd Pkts', 'Tot Bwd Pkts', 'TotLen Fwd Pkts', 'TotLen Bwd Pkts', 'Fwd Pkt Len Min', 'Fwd Pkt Len Std', 'Bwd Pkt Len Min', 'Flow IAT Std', 'Flow IAT Max', 'Flow IAT Min'], 'Normal sample 1185': ['Init Bwd Win Byts', 'Active Std', 'Active Min', 'Fwd Pkt Len Std', 'Active Mean', 'Idle Mean', 'Flow Byts/s', 'Bwd Header Len', 'Pkt Len Var', 'Bwd IAT Tot'], 'Normal sample 1186': ['Bwd PSH Flags', 'Bwd Pkt Len Min', 'Bwd Seg Size Avg', 'Fwd Pkt Len Std', 'Pkt Len Min', 'Pkt Len Var', 'Down/Up Ratio', 'Idle Min', 'Idle Mean', 'Fwd IAT Mean'], 'Normal sample 1187': ['Init Bwd Win Byts', 'Fwd Header Len', 'Bwd PSH Flags', 'Active Max', 'Bwd Pkt Len Max', 'Idle Mean', 'Fwd IAT Min', 'Bwd Seg Size Avg', 'Idle Max', 'Fwd IAT Max'], 'Normal sample 1188': ['Bwd PSH Flags', 'Pkt Len Min', 'Idle Mean', 'Subflow Fwd Byts', 'Fwd Pkt Len Std', 'Fwd Pkt Len Max', 'Active Min', 'Down/Up Ratio', 'Fwd Seg Size Avg', 'TotLen Bwd Pkts'], 'Normal sample 1189': ['ACK Flag Cnt', 'Bwd IAT Max', 'Bwd IAT Tot', 'Flow IAT Max', 'Bwd IAT Std', 'Idle Min', 'Idle Max', 'Active Min', 'Fwd IAT Min', 'Pkt Size Avg'], 'Normal sample 1190': ['ACK Flag Cnt', 'Bwd IAT Std', 'Bwd IAT Max', 'Flow IAT Mean', 'Pkt Len Mean', 'Idle Min', 'Idle Max', 'Idle Mean', 'Fwd IAT Min', 'Bwd IAT Tot'], 'Normal sample 1191': ['Init Bwd Win Byts', 'Fwd Header Len', 'TotLen Bwd Pkts', 'Bwd IAT Min', 'TotLen Fwd Pkts', 'Fwd IAT Max', 'Idle Mean', 'Bwd Pkt Len Max', 'Flow IAT Std', 'Active Min'], 'Normal sample 1192': ['Bwd Pkt Len Max', 'Init Bwd Win Byts', 'Fwd Pkts/s', 'Idle Mean', 'Flow Byts/s', 'Bwd Seg Size Avg', 'Fwd IAT Tot', 'Subflow Bwd Byts', 'Idle Max', 'Bwd Pkt Len Mean'], 'Normal sample 1193': ['SYN Flag Cnt', 'Bwd Seg Size Avg', 'Bwd Pkt Len Std', 'Bwd Pkt Len Max', 'Bwd Pkt Len Mean', 'Down/Up Ratio', 'Idle Min', 'Bwd IAT Min', 'Bwd Pkt Len Min', 'Tot Bwd Pkts'], 'Normal sample 1194': ['Init Bwd Win Byts', 'Idle Mean', 'Bwd Pkt Len Max', 'Idle Max', 'Subflow Fwd Pkts', 'Active Std', 'Bwd Pkt Len Mean', 'Fwd IAT Tot', 'Tot Bwd Pkts', 'TotLen Bwd Pkts'], 'Normal sample 1195': ['Bwd PSH Flags', 'Bwd Pkt Len Std', 'Fwd IAT Tot', 'TotLen Fwd Pkts', 'Bwd Pkt Len Max', 'Bwd IAT Max', 'Subflow Fwd Pkts', 'Tot Fwd Pkts', 'Tot Bwd Pkts', 'Fwd Pkt Len Min'], 'Normal sample 1196': ['ACK Flag Cnt', 'Bwd IAT Max', 'Bwd IAT Std', 'Flow IAT Mean', 'Fwd Header Len', 'Bwd IAT Tot', 'Tot Fwd Pkts', 'TotLen Bwd Pkts', 'Idle Std', 'Bwd Pkt Len Mean'], 'Normal sample 1197': ['Init Bwd Win Byts', 'Bwd Seg Size Avg', 'Idle Mean', 'Subflow Bwd Byts', 'Idle Min', 'Fwd Act Data Pkts', 'Bwd IAT Mean', 'Flow IAT Max', 'Pkt Len Var', 'Fwd Pkt Len Std'], 'Normal sample 1198': ['Bwd Pkt Len Max', 'SYN Flag Cnt', 'Bwd IAT Max', 'Idle Max', 'Idle Std', 'Bwd IAT Min', 'TotLen Fwd Pkts', 'Subflow Fwd Byts', 'Subflow Bwd Pkts', 'Flow Byts/s'], 'Normal sample 1199': ['Subflow Bwd Pkts', 'Down/Up Ratio', 'Tot Fwd Pkts', 'Tot Bwd Pkts', 'TotLen Fwd Pkts', 'TotLen Bwd Pkts', 'Bwd Pkt Len Min', 'Bwd Pkt Len Std', 'Flow Byts/s', 'Flow IAT Std'], 'Normal sample 1200': ['SYN Flag Cnt', 'Bwd Pkt Len Max', 'Bwd Pkt Len Std', 'Bwd IAT Max', 'Bwd IAT Std', 'Bwd IAT Tot', 'Bwd PSH Flags', 'Down/Up Ratio', 'Subflow Fwd Byts', 'Active Max'], 'Normal sample 1201': ['Flow Pkts/s', 'Pkt Len Max', 'Pkt Len Std', 'Pkt Size Avg', 'Flow IAT Min', 'Pkt Len Mean', 'Fwd Act Data Pkts', 'Fwd Pkt Len Std', 'Pkt Len Min', 'Fwd IAT Mean'], 'Normal sample 1202': ['Down/Up Ratio', 'Flow Pkts/s', 'Pkt Len Mean', 'Pkt Len Min', 'TotLen Bwd Pkts', 'Pkt Len Std', 'Subflow Fwd Byts', 'Fwd Pkt Len Mean', 'Pkt Len Max', 'Fwd Pkt Len Std'], 'Normal sample 1203': ['Init Bwd Win Byts', 'Bwd Pkt Len Max', 'Subflow Fwd Pkts', 'Active Std', 'Active Min', 'Flow Byts/s', 'Fwd IAT Min', 'TotLen Fwd Pkts', 'TotLen Bwd Pkts', 'Fwd Pkt Len Max'], 'Normal sample 1204': ['Bwd Pkt Len Max', 'Bwd Seg Size Avg', 'ACK Flag Cnt', 'Init Bwd Win Byts', 'Bwd Pkt Len Mean', 'Idle Max', 'Flow Duration', 'Tot Fwd Pkts', 'Tot Bwd Pkts', 'TotLen Fwd Pkts'], 'Normal sample 1205': ['SYN Flag Cnt', 'Bwd Pkt Len Max', 'Bwd IAT Max', 'Active Max', 'Tot Bwd Pkts', 'TotLen Fwd Pkts', 'TotLen Bwd Pkts', 'Fwd Pkt Len Min', 'Fwd Pkt Len Mean', 'Bwd Pkt Len Min'], 'Normal sample 1206': ['ACK Flag Cnt', 'Bwd IAT Tot', 'Bwd IAT Max', 'Bwd IAT Std', 'Flow IAT Mean', 'Fwd IAT Min', 'Flow IAT Max', 'Idle Max', 'Fwd Pkts/s', 'Bwd Pkt Len Std'], 'Normal sample 1207': ['Init Bwd Win Byts', 'TotLen Fwd Pkts', 'Tot Fwd Pkts', 'Pkt Len Min', 'Active Min', 'Fwd IAT Tot', 'Fwd IAT Min', 'TotLen Bwd Pkts', 'Fwd IAT Std', 'Fwd IAT Max'], 'Normal sample 1208': ['Init Bwd Win Byts', 'Idle Min', 'Idle Max', 'Bwd IAT Tot', 'Fwd Act Data Pkts', 'TotLen Fwd Pkts', 'Idle Mean', 'Bwd IAT Min', 'Subflow Bwd Byts', 'Fwd Pkt Len Std'], 'Normal sample 1209': ['Flow Pkts/s', 'Down/Up Ratio', 'FIN Flag Cnt', 'Fwd Pkt Len Mean', 'Pkt Size Avg', 'Pkt Len Min', 'Fwd IAT Max', 'Pkt Len Std', 'Pkt Len Mean', 'Bwd Pkt Len Max'], 'Normal sample 1210': ['Down/Up Ratio', 'Pkt Len Min', 'Flow Pkts/s', 'Pkt Len Max', 'Pkt Len Std', 'Pkt Size Avg', 'Fwd Pkt Len Max', 'Bwd Header Len', 'Tot Bwd Pkts', 'Fwd Pkt Len Min'], 'Normal sample 1211': ['Init Bwd Win Byts', 'Idle Max', 'Tot Bwd Pkts', 'Bwd Pkt Len Mean', 'Idle Mean', 'TotLen Fwd Pkts', 'Pkt Len Var', 'Active Min', 'Idle Min', 'Fwd Header Len'], 'Normal sample 1212': ['Init Bwd Win Byts', 'Bwd Pkt Len Mean', 'Idle Max', 'Active Min', 'Idle Mean', 'Flow IAT Min', 'Flow IAT Max', 'PSH Flag Cnt', 'Bwd Pkt Len Max', 'Bwd Header Len'], 'Normal sample 1213': ['Init Bwd Win Byts', 'Bwd Pkt Len Std', 'Fwd Act Data Pkts', 'Subflow Fwd Byts', 'Bwd IAT Min', 'Idle Max', 'Tot Bwd Pkts', 'Flow IAT Min', 'Subflow Bwd Byts', 'Bwd IAT Max'], 'Normal sample 1214': ['Init Bwd Win Byts', 'Active Std', 'Fwd IAT Std', 'Flow Duration', 'TotLen Fwd Pkts', 'Idle Max', 'Fwd Pkts/s', 'Bwd IAT Tot', 'Flow IAT Std', 'Tot Bwd Pkts'], 'Normal sample 1215': ['SYN Flag Cnt', 'Bwd Pkt Len Std', 'Down/Up Ratio', 'Bwd IAT Std', 'Idle Max', 'Bwd IAT Max', 'Bwd IAT Tot', 'Idle Min', 'Bwd Pkt Len Mean', 'Flow IAT Mean'], 'Normal sample 1216': ['SYN Flag Cnt', 'Bwd Pkt Len Max', 'Bwd Seg Size Avg', 'Fwd Header Len', 'Pkt Len Var', 'Bwd Pkt Len Std', 'Idle Min', 'Idle Max', 'Fwd IAT Max', 'Tot Fwd Pkts'], 'Normal sample 1217': ['SYN Flag Cnt', 'Active Max', 'Bwd IAT Max', 'Active Min', 'Idle Min', 'Flow IAT Max', 'Active Mean', 'Bwd IAT Std', 'TotLen Bwd Pkts', 'Idle Max'], 'Normal sample 1218': ['Flow Pkts/s', 'Down/Up Ratio', 'FIN Flag Cnt', 'Pkt Size Avg', 'Flow Byts/s', 'Fwd Pkt Len Mean', 'Pkt Len Max', 'Fwd Pkt Len Std', 'Active Mean', 'Pkt Len Std'], 'Normal sample 1219': ['Init Bwd Win Byts', 'Idle Mean', 'Fwd IAT Max', 'Tot Bwd Pkts', 'Bwd Pkt Len Mean', 'TotLen Fwd Pkts', 'Idle Max', 'TotLen Bwd Pkts', 'Idle Std', 'Subflow Bwd Byts'], 'Normal sample 1220': ['Init Bwd Win Byts', 'Idle Mean', 'Idle Max', 'Flow IAT Min', 'TotLen Fwd Pkts', 'Fwd IAT Std', 'Active Std', 'Subflow Bwd Pkts', 'Bwd Seg Size Avg', 'Subflow Fwd Byts'], 'Normal sample 1221': ['Init Bwd Win Byts', 'Flow Duration', 'Fwd Pkt Len Std', 'Tot Bwd Pkts', 'Fwd IAT Mean', 'Idle Mean', 'Bwd Header Len', 'Idle Min', 'Fwd Pkts/s', 'Flow IAT Min'], 'Normal sample 1222': ['Active Min', 'Active Mean', 'Active Max', 'ACK Flag Cnt', 'Bwd IAT Tot', 'Bwd PSH Flags', 'Pkt Len Var', 'Fwd Pkts/s', 'TotLen Bwd Pkts', 'Bwd Pkt Len Std'], 'Normal sample 1223': ['Bwd Pkt Len Max', 'SYN Flag Cnt', 'Tot Bwd Pkts', 'TotLen Fwd Pkts', 'TotLen Bwd Pkts', 'Fwd Pkt Len Min', 'Fwd Pkt Len Mean', 'Fwd Pkt Len Std', 'Bwd Pkt Len Min', 'Bwd Pkt Len Std'], 'Normal sample 1224': ['Init Bwd Win Byts', 'Idle Std', 'Bwd IAT Mean', 'Subflow Bwd Pkts', 'Fwd IAT Max', 'Fwd IAT Tot', 'Bwd IAT Tot', 'Subflow Bwd Byts', 'Bwd Pkt Len Std', 'Active Min'], 'Normal sample 1225': ['Init Bwd Win Byts', 'Flow Duration', 'Tot Bwd Pkts', 'Fwd Pkt Len Min', 'Bwd Pkt Len Max', 'Bwd Pkt Len Std', 'Flow Pkts/s', 'Fwd IAT Tot', 'Fwd IAT Max', 'Fwd IAT Min'], 'Normal sample 1226': ['Init Bwd Win Byts', 'Fwd IAT Mean', 'Bwd Seg Size Avg', 'Subflow Bwd Byts', 'Fwd IAT Std', 'Fwd IAT Max', 'Active Mean', 'TotLen Bwd Pkts', 'Active Max', 'Subflow Fwd Pkts'], 'Normal sample 1227': ['Idle Mean', 'Init Bwd Win Byts', 'Idle Max', 'Fwd IAT Min', 'Active Max', 'Subflow Bwd Byts', 'Bwd Pkt Len Mean', 'Subflow Fwd Pkts', 'Tot Fwd Pkts', 'Fwd Seg Size Avg'], 'Normal sample 1228': ['SYN Flag Cnt', 'Bwd IAT Std', 'Bwd IAT Max', 'Tot Fwd Pkts', 'Bwd Pkt Len Std', 'Bwd PSH Flags', 'Tot Bwd Pkts', 'TotLen Fwd Pkts', 'TotLen Bwd Pkts', 'Bwd Pkt Len Max'], 'Normal sample 1229': ['Bwd IAT Tot', 'ACK Flag Cnt', 'Bwd IAT Max', 'Bwd IAT Std', 'Idle Max', 'Flow IAT Max', 'Idle Min', 'Bwd Pkt Len Max', 'Idle Mean', 'Flow IAT Mean'], 'Normal sample 1230': ['SYN Flag Cnt', 'Bwd IAT Max', 'Bwd IAT Tot', 'Bwd IAT Std', 'Bwd IAT Mean', 'Tot Fwd Pkts', 'Bwd Pkt Len Max', 'Flow IAT Mean', 'Bwd Header Len', 'Bwd IAT Min'], 'Normal sample 1231': ['Init Bwd Win Byts', 'Fwd Act Data Pkts', 'Bwd Pkt Len Max', 'Bwd IAT Mean', 'Bwd Pkt Len Std', 'Idle Std', 'Active Mean', 'Active Std', 'Fwd Header Len', 'Idle Min'], 'Normal sample 1232': ['SYN Flag Cnt', 'Bwd Pkt Len Max', 'Bwd IAT Tot', 'Bwd Pkt Len Std', 'Subflow Bwd Byts', 'Flow IAT Std', 'Flow IAT Min', 'Subflow Bwd Pkts', 'Bwd Pkt Len Mean', 'TotLen Bwd Pkts'], 'Normal sample 1233': ['Flow Pkts/s', 'Pkt Len Max', 'Pkt Len Std', 'Fwd Pkt Len Max', 'Pkt Len Mean', 'Subflow Bwd Pkts', 'Fwd Pkt Len Std', 'Pkt Size Avg', 'Fwd IAT Mean', 'Bwd Header Len'], 'Normal sample 1234': ['Bwd IAT Std', 'Bwd IAT Tot', 'Flow IAT Mean', 'Flow IAT Std', 'Bwd IAT Mean', 'Init Bwd Win Byts', 'Fwd IAT Min', 'Bwd IAT Max', 'Tot Bwd Pkts', 'Subflow Fwd Byts'], 'Normal sample 1235': ['Down/Up Ratio', 'Fwd Pkt Len Max', 'Flow Pkts/s', 'Fwd Pkt Len Std', 'Pkt Len Max', 'Pkt Len Mean', 'Pkt Len Min', 'Pkt Len Std', 'Pkt Size Avg', 'Flow Duration'], 'Normal sample 1236': ['SYN Flag Cnt', 'Bwd IAT Max', 'Bwd IAT Std', 'Bwd IAT Tot', 'TotLen Fwd Pkts', 'Flow IAT Mean', 'Idle Std', 'Tot Bwd Pkts', 'Bwd IAT Mean', 'TotLen Bwd Pkts'], 'Normal sample 1237': ['Init Bwd Win Byts', 'Flow IAT Std', 'Fwd IAT Min', 'Subflow Fwd Byts', 'Subflow Bwd Byts', 'Active Mean', 'Active Std', 'Tot Bwd Pkts', 'Bwd IAT Tot', 'Flow Duration'], 'Normal sample 1238': ['SYN Flag Cnt', 'Bwd Pkt Len Max', 'Pkt Len Min', 'Idle Max', 'PSH Flag Cnt', 'Bwd Pkt Len Std', 'Bwd Pkt Len Mean', 'Bwd Seg Size Avg', 'Idle Mean', 'Fwd IAT Mean'], 'Normal sample 1239': ['Init Bwd Win Byts', 'Down/Up Ratio', 'Idle Mean', 'Fwd IAT Max', 'Flow IAT Max', 'Bwd Pkt Len Std', 'Idle Max', 'Idle Std', 'Bwd Seg Size Avg', 'Fwd Pkt Len Std'], 'Normal sample 1240': ['Init Bwd Win Byts', 'Idle Mean', 'Fwd IAT Std', 'Bwd Pkt Len Mean', 'Pkt Len Var', 'Idle Max', 'Active Std', 'Tot Bwd Pkts', 'Bwd IAT Mean', 'Fwd Pkt Len Min'], 'Normal sample 1241': ['Init Bwd Win Byts', 'Idle Max', 'Idle Mean', 'Bwd Pkt Len Mean', 'Bwd IAT Tot', 'Bwd Seg Size Avg', 'Pkt Len Var', 'Bwd Pkt Len Max', 'Fwd IAT Std', 'Active Std'], 'Normal sample 1242': ['Init Bwd Win Byts', 'Subflow Bwd Pkts', 'Active Min', 'Bwd Pkt Len Std', 'Tot Fwd Pkts', 'Tot Bwd Pkts', 'TotLen Fwd Pkts', 'Fwd Pkt Len Min', 'Fwd Pkt Len Std', 'Bwd Pkt Len Mean'], 'Normal sample 1243': ['SYN Flag Cnt', 'Bwd Pkt Len Max', 'Down/Up Ratio', 'Bwd IAT Tot', 'FIN Flag Cnt', 'Fwd Act Data Pkts', 'Subflow Bwd Byts', 'Bwd Pkt Len Std', 'Bwd Pkt Len Min', 'Tot Bwd Pkts'], 'Normal sample 1244': ['Init Bwd Win Byts', 'Idle Min', 'Idle Max', 'Flow IAT Min', 'Fwd IAT Mean', 'Bwd Header Len', 'Fwd IAT Tot', 'Fwd Pkt Len Std', 'Fwd IAT Max', 'Idle Std'], 'Normal sample 1245': ['SYN Flag Cnt', 'Bwd Pkt Len Max', 'Bwd IAT Max', 'TotLen Bwd Pkts', 'Active Std', 'Bwd IAT Std', 'Subflow Bwd Byts', 'Bwd IAT Tot', 'Fwd Header Len', 'Bwd Pkt Len Std'], 'Normal sample 1246': ['Init Bwd Win Byts', 'TotLen Bwd Pkts', 'TotLen Fwd Pkts', 'Fwd IAT Max', 'Active Mean', 'Fwd IAT Mean', 'Idle Mean', 'Bwd Seg Size Avg', 'Flow IAT Max', 'Bwd IAT Tot'], 'Normal sample 1247': ['Down/Up Ratio', 'Pkt Len Min', 'Flow Pkts/s', 'Pkt Len Max', 'Pkt Len Std', 'Fwd Pkt Len Max', 'Pkt Size Avg', 'Fwd IAT Max', 'Fwd Pkts/s', 'Idle Mean'], 'Normal sample 1248': ['Flow IAT Min', 'ACK Flag Cnt', 'Flow IAT Mean', 'Idle Min', 'Flow Byts/s', 'Bwd Pkt Len Min', 'Fwd IAT Std', 'Pkt Len Std', 'Pkt Size Avg', 'Pkt Len Max'], 'Normal sample 1249': ['Init Bwd Win Byts', 'Idle Mean', 'Idle Min', 'Active Max', 'Bwd IAT Max', 'Bwd Pkt Len Std', 'Fwd IAT Min', 'Bwd Pkt Len Mean', 'Flow IAT Max', 'Bwd PSH Flags'], 'Normal sample 1250': ['Init Bwd Win Byts', 'Flow Duration', 'Idle Mean', 'Subflow Fwd Byts', 'Idle Min', 'Flow IAT Min', 'Tot Bwd Pkts', 'Fwd IAT Mean', 'Bwd IAT Tot', 'TotLen Fwd Pkts'], 'Normal sample 1251': ['Bwd Pkt Len Max', 'SYN Flag Cnt', 'Bwd IAT Max', 'Idle Max', 'Flow IAT Std', 'Fwd Act Data Pkts', 'Subflow Bwd Pkts', 'TotLen Fwd Pkts', 'Bwd IAT Tot', 'Tot Bwd Pkts'], 'Normal sample 1252': ['Init Bwd Win Byts', 'Idle Mean', 'Idle Max', 'Fwd IAT Min', 'Tot Fwd Pkts', 'Pkt Len Var', 'Bwd Header Len', 'Bwd IAT Min', 'Fwd Header Len', 'Subflow Fwd Byts'], 'Normal sample 1253': ['Idle Min', 'Subflow Fwd Byts', 'Init Bwd Win Byts', 'Active Mean', 'Bwd Seg Size Avg', 'Idle Max', 'Fwd Pkt Len Std', 'Fwd Act Data Pkts', 'TotLen Fwd Pkts', 'Bwd Pkt Len Max'], 'Normal sample 1254': ['Init Bwd Win Byts', 'Subflow Fwd Pkts', 'Bwd IAT Tot', 'Subflow Fwd Byts', 'Bwd Pkt Len Mean', 'Fwd Header Len', 'Flow IAT Std', 'Active Min', 'Fwd Pkt Len Std', 'Subflow Bwd Pkts'], 'Normal sample 1255': ['Down/Up Ratio', 'Pkt Len Max', 'Flow Pkts/s', 'Pkt Size Avg', 'Subflow Bwd Byts', 'Pkt Len Min', 'Fwd Pkt Len Std', 'Pkt Len Std', 'Pkt Len Mean', 'Fwd Act Data Pkts'], 'Normal sample 1256': ['SYN Flag Cnt', 'Bwd Seg Size Avg', 'Bwd Pkt Len Std', 'Bwd Pkt Len Mean', 'Bwd Pkt Len Max', 'Down/Up Ratio', 'Pkt Len Min', 'Tot Bwd Pkts', 'Fwd Act Data Pkts', 'PSH Flag Cnt'], 'Normal sample 1257': ['Init Bwd Win Byts', 'Idle Max', 'Bwd IAT Mean', 'Active Max', 'Idle Mean', 'Fwd IAT Mean', 'Flow Duration', 'Subflow Fwd Byts', 'Fwd IAT Max', 'Bwd Pkt Len Std'], 'Normal sample 1258': ['SYN Flag Cnt', 'Flow IAT Min', 'Bwd Pkt Len Max', 'Fwd IAT Tot', 'Tot Fwd Pkts', 'Bwd Header Len', 'FIN Flag Cnt', 'Fwd IAT Min', 'Flow Duration', 'TotLen Fwd Pkts'], 'Normal sample 1259': ['Bwd PSH Flags', 'Pkt Len Min', 'Subflow Bwd Pkts', 'Fwd IAT Tot', 'Tot Fwd Pkts', 'TotLen Fwd Pkts', 'Fwd Pkt Len Mean', 'Bwd Pkt Len Max', 'Bwd Pkt Len Mean', 'Flow Byts/s'], 'Normal sample 1260': ['Init Bwd Win Byts', 'Fwd IAT Tot', 'Bwd Pkt Len Mean', 'Idle Max', 'Bwd IAT Mean', 'Idle Min', 'Pkt Len Var', 'Bwd Pkt Len Max', 'Fwd IAT Std', 'Active Mean'], 'Normal sample 1261': ['Init Bwd Win Byts', 'Idle Max', 'Subflow Bwd Pkts', 'Idle Std', 'Bwd Seg Size Avg', 'Fwd Header Len', 'Active Max', 'Fwd Seg Size Avg', 'Bwd Header Len', 'Subflow Bwd Byts'], 'Normal sample 1262': ['Init Bwd Win Byts', 'Idle Min', 'Idle Mean', 'Active Std', 'Subflow Bwd Pkts', 'Fwd Header Len', 'Bwd Header Len', 'Bwd IAT Min', 'Bwd Pkt Len Max', 'Pkt Len Var'], 'Normal sample 1263': ['SYN Flag Cnt', 'Bwd IAT Std', 'PSH Flag Cnt', 'TotLen Fwd Pkts', 'Idle Mean', 'Bwd IAT Max', 'Idle Min', 'Pkt Len Var', 'Flow Byts/s', 'Tot Fwd Pkts'], 'Normal sample 1264': ['Init Bwd Win Byts', 'Bwd Pkt Len Max', 'Idle Mean', 'Flow IAT Min', 'Bwd Header Len', 'Bwd IAT Min', 'Fwd IAT Std', 'Active Max', 'Fwd IAT Max', 'Active Std'], 'Normal sample 1265': ['Init Bwd Win Byts', 'Fwd IAT Mean', 'TotLen Bwd Pkts', 'Idle Min', 'TotLen Fwd Pkts', 'Fwd Header Len', 'Fwd IAT Max', 'Active Min', 'Flow Duration', 'Tot Fwd Pkts'], 'Normal sample 1266': ['Idle Mean', 'Init Bwd Win Byts', 'Bwd Seg Size Avg', 'TotLen Fwd Pkts', 'TotLen Bwd Pkts', 'Idle Max', 'Idle Min', 'Bwd Pkt Len Mean', 'Tot Bwd Pkts', 'Active Mean'], 'Normal sample 1267': ['Down/Up Ratio', 'Pkt Len Max', 'Flow Pkts/s', 'PSH Flag Cnt', 'Fwd Pkt Len Mean', 'Pkt Len Min', 'Fwd Pkt Len Std', 'Pkt Size Avg', 'Pkt Len Mean', 'Pkt Len Std'], 'Normal sample 1268': ['SYN Flag Cnt', 'Bwd Pkt Len Max', 'Tot Fwd Pkts', 'TotLen Bwd Pkts', 'Flow Duration', 'Tot Bwd Pkts', 'Bwd Pkt Len Min', 'Bwd Pkt Len Std', 'Flow IAT Std', 'Flow IAT Min'], 'Normal sample 1269': ['Init Bwd Win Byts', 'Down/Up Ratio', 'Idle Max', 'Bwd Pkt Len Max', 'Fwd Pkt Len Max', 'Bwd Pkt Len Std', 'Fwd Pkt Len Min', 'Flow Duration', 'Fwd Pkt Len Std', 'Fwd IAT Max'], 'Normal sample 1270': ['Bwd PSH Flags', 'Fwd IAT Min', 'Bwd IAT Std', 'Idle Min', 'Bwd Pkt Len Mean', 'Fwd Seg Size Avg', 'Idle Mean', 'Idle Max', 'Subflow Bwd Pkts', 'Fwd Pkt Len Max'], 'Normal sample 1271': ['SYN Flag Cnt', 'Bwd IAT Max', 'Bwd IAT Tot', 'Bwd IAT Std', 'Bwd IAT Mean', 'Bwd Pkts/s', 'Bwd IAT Min', 'Bwd Pkt Len Mean', 'Pkt Len Var', 'Active Std'], 'Normal sample 1272': ['Init Bwd Win Byts', 'Tot Fwd Pkts', 'Tot Bwd Pkts', 'TotLen Fwd Pkts', 'Fwd Pkt Len Min', 'Bwd Pkt Len Max', 'Bwd Pkt Len Min', 'Bwd Pkt Len Mean', 'Flow Pkts/s', 'Flow IAT Mean'], 'Normal sample 1273': ['ACK Flag Cnt', 'Bwd IAT Std', 'Bwd IAT Max', 'Bwd IAT Tot', 'Bwd IAT Mean', 'Flow IAT Mean', 'Flow IAT Min', 'TotLen Bwd Pkts', 'Fwd Pkt Len Max', 'Fwd Act Data Pkts'], 'Normal sample 1274': ['Init Bwd Win Byts', 'Bwd Pkt Len Mean', 'Fwd IAT Tot', 'Idle Max', 'Flow IAT Mean', 'Tot Fwd Pkts', 'Subflow Bwd Byts', 'Bwd IAT Max', 'Flow IAT Std', 'PSH Flag Cnt'], 'Normal sample 1275': ['Bwd Pkt Len Mean', 'Init Bwd Win Byts', 'Bwd Pkt Len Std', 'Idle Mean', 'Idle Max', 'Tot Fwd Pkts', 'Bwd IAT Mean', 'TotLen Bwd Pkts', 'Idle Min', 'Active Min'], 'Normal sample 1276': ['Init Bwd Win Byts', 'Active Max', 'Bwd Pkt Len Mean', 'Bwd IAT Max', 'Active Mean', 'Flow IAT Mean', 'Idle Max', 'Active Std', 'Fwd IAT Max', 'Bwd IAT Min'], 'Normal sample 1277': ['SYN Flag Cnt', 'Bwd IAT Std', 'Bwd IAT Max', 'Idle Min', 'Idle Max', 'Bwd Pkt Len Std', 'Subflow Bwd Byts', 'Active Mean', 'Bwd Pkt Len Max', 'Pkt Len Min'], 'Normal sample 1278': ['SYN Flag Cnt', 'Bwd Pkt Len Max', 'Bwd Pkt Len Mean', 'Bwd Seg Size Avg', 'Bwd IAT Std', 'Active Mean', 'Fwd IAT Max', 'Bwd Pkt Len Std', 'Tot Bwd Pkts', 'Fwd Act Data Pkts'], 'Normal sample 1279': ['Init Bwd Win Byts', 'Subflow Fwd Byts', 'TotLen Fwd Pkts', 'Fwd Header Len', 'Flow IAT Std', 'Bwd Pkt Len Max', 'Bwd Header Len', 'Idle Min', 'Idle Max', 'Fwd IAT Max'], 'Normal sample 1280': ['Init Bwd Win Byts', 'Down/Up Ratio', 'Bwd Pkt Len Std', 'Bwd Pkt Len Max', 'Fwd Seg Size Avg', 'TotLen Fwd Pkts', 'Idle Min', 'Fwd IAT Max', 'Bwd Pkt Len Mean', 'Fwd IAT Min'], 'Normal sample 1281': ['Bwd Pkt Len Max', 'SYN Flag Cnt', 'Active Max', 'Bwd IAT Max', 'Bwd IAT Std', 'Tot Bwd Pkts', 'Idle Max', 'Idle Mean', 'Flow IAT Min', 'Idle Std'], 'Normal sample 1282': ['Bwd PSH Flags', 'Down/Up Ratio', 'Bwd Pkt Len Std', 'Bwd Pkt Len Min', 'Fwd IAT Tot', 'Fwd Act Data Pkts', 'Subflow Bwd Byts', 'Bwd IAT Mean', 'Bwd IAT Max', 'Bwd Pkt Len Max'], 'Normal sample 1283': ['Init Bwd Win Byts', 'Fwd Act Data Pkts', 'Idle Min', 'Active Max', 'Pkt Len Var', 'Bwd IAT Max', 'Idle Std', 'Bwd Pkt Len Max', 'Flow IAT Max', 'Idle Max'], 'Normal sample 1284': ['Down/Up Ratio', 'Init Bwd Win Byts', 'TotLen Fwd Pkts', 'Bwd Seg Size Avg', 'Bwd IAT Mean', 'Bwd Pkt Len Max', 'Flow IAT Std', 'Subflow Bwd Byts', 'Fwd IAT Mean', 'Tot Bwd Pkts'], 'Normal sample 1285': ['Init Bwd Win Byts', 'TotLen Fwd Pkts', 'Bwd Pkt Len Mean', 'Fwd IAT Std', 'Idle Max', 'Fwd Pkt Len Max', 'Fwd Pkt Len Std', 'Bwd Pkt Len Max', 'Bwd Pkt Len Std', 'Flow Pkts/s'], 'Normal sample 1286': ['Init Bwd Win Byts', 'Idle Min', 'Fwd IAT Max', 'TotLen Fwd Pkts', 'Fwd Pkt Len Std', 'Idle Std', 'Flow IAT Std', 'Idle Max', 'Bwd Pkt Len Mean', 'Bwd Pkt Len Max'], 'Normal sample 1287': ['Init Bwd Win Byts', 'Bwd Pkt Len Std', 'Fwd Act Data Pkts', 'Tot Bwd Pkts', 'Idle Std', 'Bwd IAT Mean', 'Bwd Seg Size Avg', 'Fwd IAT Std', 'Tot Fwd Pkts', 'Fwd Pkt Len Max'], 'Normal sample 1288': ['Init Bwd Win Byts', 'Bwd Pkt Len Max', 'Bwd IAT Mean', 'Fwd IAT Max', 'Flow IAT Mean', 'Idle Mean', 'Fwd IAT Std', 'Fwd IAT Tot', 'Bwd Seg Size Avg', 'Flow IAT Std'], 'Normal sample 1289': ['ACK Flag Cnt', 'Bwd IAT Tot', 'Bwd IAT Std', 'Bwd IAT Max', 'Bwd PSH Flags', 'Flow Byts/s', 'Flow IAT Max', 'Bwd IAT Min', 'Active Max', 'Tot Bwd Pkts'], 'Normal sample 1290': ['Flow Byts/s', 'Bwd Pkt Len Min', 'Pkt Len Std', 'Pkt Size Avg', 'Pkt Len Var', 'Bwd PSH Flags', 'Pkt Len Mean', 'Bwd Pkt Len Mean', 'Subflow Bwd Pkts', 'Idle Max'], 'Normal sample 1291': ['Init Bwd Win Byts', 'Idle Max', 'Active Min', 'Idle Mean', 'Bwd Seg Size Avg', 'Bwd Pkt Len Std', 'Fwd IAT Tot', 'Active Mean', 'Subflow Bwd Byts', 'Bwd Pkt Len Mean'], 'Normal sample 1292': ['Init Bwd Win Byts', 'Idle Min', 'Idle Max', 'Idle Std', 'Bwd Pkt Len Mean', 'Flow Duration', 'Idle Mean', 'Fwd IAT Tot', 'Bwd PSH Flags', 'Fwd IAT Max'], 'Normal sample 1293': ['Init Bwd Win Byts', 'Fwd IAT Std', 'Bwd Pkt Len Std', 'Fwd IAT Mean', 'Fwd IAT Tot', 'Bwd Header Len', 'Subflow Bwd Byts', 'Subflow Bwd Pkts', 'Bwd Seg Size Avg', 'Fwd Pkts/s'], 'Normal sample 1294': ['Init Bwd Win Byts', 'Idle Min', 'Bwd Pkt Len Max', 'Flow IAT Min', 'Active Max', 'Bwd Pkt Len Mean', 'Subflow Fwd Byts', 'Active Std', 'Flow Duration', 'Fwd Pkts/s'], 'Normal sample 1295': ['SYN Flag Cnt', 'Bwd Pkt Len Max', 'Bwd Pkt Len Std', 'Bwd IAT Min', 'Bwd IAT Tot', 'Idle Min', 'Bwd Header Len', 'Pkt Len Min', 'Bwd Seg Size Avg', 'TotLen Bwd Pkts'], 'Normal sample 1296': ['Init Bwd Win Byts', 'Fwd Pkt Len Std', 'Flow IAT Std', 'Fwd IAT Std', 'Active Std', 'Bwd Pkt Len Std', 'Bwd Pkt Len Mean', 'Subflow Bwd Byts', 'Fwd Pkt Len Mean', 'Bwd Seg Size Avg'], 'Normal sample 1297': ['Init Bwd Win Byts', 'Idle Max', 'Bwd Pkt Len Max', 'Bwd IAT Min', 'Active Std', 'Idle Mean', 'Fwd IAT Mean', 'Idle Min', 'TotLen Fwd Pkts', 'Fwd IAT Tot'], 'Normal sample 1298': ['SYN Flag Cnt', 'Bwd IAT Max', 'Bwd IAT Std', 'Bwd IAT Tot', 'Flow IAT Mean', 'Idle Std', 'Tot Bwd Pkts', 'TotLen Fwd Pkts', 'Fwd Pkts/s', 'Down/Up Ratio'], 'Normal sample 1299': ['Fwd IAT Max', 'Flow Pkts/s', 'Pkt Len Std', 'Fwd Pkt Len Std', 'Pkt Len Mean', 'Pkt Len Max', 'Fwd Pkt Len Max', 'Fwd Pkt Len Mean', 'Fwd Pkt Len Min', 'Idle Min'], 'Normal sample 1300': ['Init Bwd Win Byts', 'Subflow Bwd Byts', 'Bwd Pkt Len Mean', 'Fwd Pkts/s', 'Flow IAT Max', 'Subflow Fwd Pkts', 'Bwd Pkt Len Max', 'Fwd IAT Std', 'Idle Mean', 'Fwd Pkt Len Min'], 'Normal sample 1301': ['Init Bwd Win Byts', 'Bwd Pkt Len Std', 'Idle Min', 'Subflow Bwd Pkts', 'Idle Max', 'Flow IAT Min', 'Bwd IAT Min', 'Tot Bwd Pkts', 'Bwd IAT Tot', 'Active Std'], 'Normal sample 1302': ['Init Bwd Win Byts', 'Idle Min', 'Idle Max', 'Subflow Fwd Byts', 'Bwd Seg Size Avg', 'Pkt Len Var', 'Active Min', 'Subflow Bwd Pkts', 'Bwd IAT Tot', 'Flow IAT Max'], 'Normal sample 1303': ['Init Bwd Win Byts', 'Idle Min', 'Fwd IAT Mean', 'Subflow Fwd Pkts', 'Bwd Pkt Len Std', 'Fwd Header Len', 'Subflow Fwd Byts', 'Bwd Seg Size Avg', 'Flow IAT Std', 'Fwd IAT Max'], 'Normal sample 1304': ['Init Bwd Win Byts', 'Idle Min', 'Bwd Pkt Len Mean', 'Bwd Header Len', 'Fwd IAT Mean', 'Fwd IAT Tot', 'Fwd Pkts/s', 'Fwd IAT Min', 'TotLen Bwd Pkts', 'Idle Max'], 'Normal sample 1305': ['Init Bwd Win Byts', 'Bwd Pkt Len Mean', 'Down/Up Ratio', 'Flow IAT Max', 'Idle Min', 'Bwd Pkt Len Std', 'Fwd IAT Std', 'Bwd Pkt Len Max', 'Fwd Pkt Len Min', 'Fwd Pkt Len Mean'], 'Normal sample 1306': ['Init Bwd Win Byts', 'Bwd Pkt Len Max', 'Active Mean', 'Fwd Act Data Pkts', 'Flow Duration', 'Tot Fwd Pkts', 'Tot Bwd Pkts', 'TotLen Fwd Pkts', 'TotLen Bwd Pkts', 'Fwd Pkt Len Min'], 'Normal sample 1307': ['Init Bwd Win Byts', 'Pkt Len Var', 'Bwd Pkt Len Max', 'Tot Fwd Pkts', 'Bwd Pkt Len Mean', 'Flow IAT Min', 'Idle Max', 'Idle Min', 'Fwd IAT Mean', 'Idle Mean'], 'Normal sample 1308': ['Init Bwd Win Byts', 'Flow Duration', 'Tot Fwd Pkts', 'Tot Bwd Pkts', 'Fwd Pkt Len Min', 'Bwd Pkt Len Max', 'Bwd Pkt Len Mean', 'Bwd Pkt Len Std', 'Flow IAT Mean', 'Flow IAT Std'], 'Normal sample 1309': ['SYN Flag Cnt', 'Bwd Pkt Len Max', 'Subflow Fwd Pkts', 'Subflow Fwd Byts', 'Bwd IAT Tot', 'Bwd Header Len', 'TotLen Fwd Pkts', 'Subflow Bwd Byts', 'TotLen Bwd Pkts', 'Bwd Pkt Len Std'], 'Normal sample 1310': ['Down/Up Ratio', 'Flow Pkts/s', 'Pkt Len Max', 'Pkt Len Std', 'Pkt Size Avg', 'Pkt Len Min', 'Bwd Pkt Len Min', 'Fwd Pkt Len Max', 'Fwd Pkt Len Min', 'Fwd IAT Tot'], 'Normal sample 1311': ['Bwd PSH Flags', 'Fwd Pkts/s', 'Bwd IAT Tot', 'Fwd Pkt Len Min', 'Fwd Pkt Len Max', 'Subflow Bwd Byts', 'Flow IAT Max', 'Fwd IAT Tot', 'Fwd Act Data Pkts', 'Bwd Pkt Len Min'], 'Normal sample 1312': ['SYN Flag Cnt', 'Bwd Pkt Len Std', 'Bwd Pkt Len Mean', 'Bwd Pkt Len Max', 'TotLen Bwd Pkts', 'Pkt Len Min', 'Fwd IAT Tot', 'Subflow Fwd Byts', 'Subflow Bwd Pkts', 'Idle Min'], 'Normal sample 1313': ['Init Bwd Win Byts', 'Flow Pkts/s', 'Bwd Seg Size Avg', 'Tot Bwd Pkts', 'Bwd IAT Mean', 'Idle Std', 'Idle Mean', 'Flow IAT Min', 'Flow Duration', 'Tot Fwd Pkts'], 'Normal sample 1314': ['Init Bwd Win Byts', 'Bwd Pkt Len Mean', 'Bwd IAT Min', 'Idle Max', 'Flow Duration', 'Bwd Seg Size Avg', 'TotLen Bwd Pkts', 'Fwd IAT Mean', 'Idle Min', 'Idle Mean'], 'Normal sample 1315': ['Flow Pkts/s', 'Down/Up Ratio', 'TotLen Bwd Pkts', 'Pkt Len Min', 'FIN Flag Cnt', 'Pkt Len Mean', 'Subflow Bwd Pkts', 'Bwd IAT Min', 'Bwd Seg Size Avg', 'Pkt Len Std'], 'Normal sample 1316': ['SYN Flag Cnt', 'Bwd IAT Max', 'Bwd IAT Tot', 'Bwd IAT Std', 'Bwd IAT Mean', 'Tot Bwd Pkts', 'Fwd Pkt Len Mean', 'Flow IAT Mean', 'Bwd PSH Flags', 'PSH Flag Cnt'], 'Normal sample 1317': ['SYN Flag Cnt', 'Bwd Pkt Len Max', 'Idle Max', 'Bwd IAT Max', 'Subflow Fwd Byts', 'Bwd Header Len', 'Idle Std', 'Fwd Act Data Pkts', 'Bwd Pkt Len Std', 'Fwd IAT Min'], 'Normal sample 1318': ['Init Bwd Win Byts', 'Fwd Header Len', 'Fwd Pkt Len Std', 'Fwd Pkts/s', 'Flow IAT Std', 'Tot Fwd Pkts', 'Fwd IAT Std', 'Pkt Len Var', 'Subflow Bwd Byts', 'Subflow Bwd Pkts'], 'Normal sample 1319': ['SYN Flag Cnt', 'Bwd IAT Max', 'Bwd IAT Std', 'Idle Std', 'Subflow Fwd Pkts', 'PSH Flag Cnt', 'Fwd Header Len', 'Pkt Len Var', 'Subflow Bwd Byts', 'Subflow Fwd Byts'], 'Normal sample 1320': ['SYN Flag Cnt', 'Bwd IAT Max', 'Bwd IAT Tot', 'Idle Max', 'Idle Min', 'Bwd PSH Flags', 'Bwd IAT Std', 'Fwd Pkt Len Mean', 'Subflow Bwd Byts', 'TotLen Fwd Pkts'], 'Normal sample 1321': ['SYN Flag Cnt', 'Bwd Pkt Len Max', 'Bwd Pkt Len Std', 'Active Max', 'Idle Min', 'Idle Mean', 'Fwd IAT Max', 'Active Std', 'Fwd Header Len', 'Bwd Header Len'], 'Normal sample 1322': ['Bwd IAT Tot', 'ACK Flag Cnt', 'Bwd PSH Flags', 'Active Max', 'Bwd IAT Max', 'Bwd IAT Std', 'Idle Max', 'Fwd Pkts/s', 'TotLen Fwd Pkts', 'Idle Mean'], 'Normal sample 1323': ['Init Bwd Win Byts', 'Flow IAT Min', 'Fwd Pkt Len Min', 'Idle Min', 'Fwd Pkt Len Std', 'Bwd Seg Size Avg', 'Fwd IAT Max', 'Flow IAT Std', 'Fwd Pkts/s', 'Bwd Pkt Len Mean'], 'Normal sample 1324': ['Init Bwd Win Byts', 'Fwd Pkt Len Std', 'Idle Max', 'Pkt Len Var', 'Bwd Pkt Len Mean', 'Bwd Pkt Len Std', 'Bwd Header Len', 'Bwd Seg Size Avg', 'Fwd IAT Mean', 'Tot Fwd Pkts'], 'Normal sample 1325': ['Init Bwd Win Byts', 'Bwd Pkt Len Std', 'Bwd IAT Min', 'Tot Fwd Pkts', 'TotLen Fwd Pkts', 'TotLen Bwd Pkts', 'Fwd Pkt Len Max', 'Fwd Pkt Len Std', 'Bwd Pkt Len Mean', 'Flow Byts/s'], 'Normal sample 1326': ['Fwd IAT Tot', 'Active Std', 'Idle Mean', 'Init Bwd Win Byts', 'Fwd IAT Min', 'Flow Pkts/s', 'Idle Max', 'Tot Bwd Pkts', 'TotLen Fwd Pkts', 'TotLen Bwd Pkts'], 'Normal sample 1327': ['Init Bwd Win Byts', 'Idle Min', 'Active Max', 'Tot Fwd Pkts', 'Tot Bwd Pkts', 'Flow IAT Std', 'Bwd Pkt Len Max', 'TotLen Fwd Pkts', 'Fwd IAT Std', 'Bwd IAT Tot'], 'Normal sample 1328': ['ACK Flag Cnt', 'Bwd IAT Max', 'Bwd IAT Tot', 'Bwd IAT Std', 'Bwd IAT Mean', 'Idle Mean', 'Subflow Fwd Byts', 'Idle Max', 'Subflow Bwd Pkts', 'Bwd Header Len'], 'Normal sample 1329': ['Init Bwd Win Byts', 'Active Min', 'TotLen Bwd Pkts', 'Idle Min', 'Bwd Seg Size Avg', 'Subflow Fwd Byts', 'Idle Max', 'TotLen Fwd Pkts', 'Bwd Pkt Len Mean', 'Active Mean'], 'Normal sample 1330': ['Bwd Pkts/s', 'Fwd Pkts/s', 'FIN Flag Cnt', 'Pkt Len Min', 'Pkt Len Std', 'Pkt Size Avg', 'ACK Flag Cnt', 'Fwd IAT Std', 'Fwd Pkt Len Min', 'Pkt Len Mean'], 'Normal sample 1331': ['Init Bwd Win Byts', 'Bwd Pkt Len Max', 'Flow Duration', 'Tot Fwd Pkts', 'TotLen Fwd Pkts', 'TotLen Bwd Pkts', 'Fwd Pkt Len Min', 'Bwd Pkt Len Mean', 'Bwd Pkt Len Std', 'Flow Pkts/s'], 'Normal sample 1332': ['SYN Flag Cnt', 'Idle Max', 'Idle Mean', 'Bwd IAT Std', 'Idle Min', 'Bwd IAT Max', 'Bwd IAT Mean', 'Flow IAT Min', 'Down/Up Ratio', 'PSH Flag Cnt'], 'Normal sample 1333': ['SYN Flag Cnt', 'Bwd IAT Max', 'Idle Std', 'Bwd IAT Std', 'Bwd Pkt Len Max', 'Fwd Header Len', 'Bwd IAT Tot', 'Tot Fwd Pkts', 'Tot Bwd Pkts', 'TotLen Fwd Pkts'], 'Normal sample 1334': ['SYN Flag Cnt', 'Bwd Pkt Len Max', 'Bwd Pkt Len Std', 'Idle Max', 'Bwd IAT Std', 'Pkt Len Min', 'Down/Up Ratio', 'Bwd Pkt Len Mean', 'Bwd IAT Max', 'TotLen Bwd Pkts'], 'Normal sample 1335': ['Init Bwd Win Byts', 'PSH Flag Cnt', 'Active Min', 'Fwd IAT Std', 'TotLen Bwd Pkts', 'Fwd IAT Max', 'Flow IAT Min', 'Subflow Bwd Pkts', 'Bwd IAT Tot', 'Flow Duration'], 'Normal sample 1336': ['Down/Up Ratio', 'Pkt Len Min', 'Flow Pkts/s', 'Pkt Len Max', 'Fwd Pkt Len Max', 'Pkt Len Std', 'Fwd IAT Max', 'Pkt Size Avg', 'Fwd Pkt Len Std', 'Bwd Pkt Len Min'], 'Normal sample 1337': ['Init Bwd Win Byts', 'Fwd Header Len', 'Fwd IAT Max', 'Idle Std', 'Subflow Fwd Pkts', 'Fwd Pkt Len Mean', 'Fwd IAT Std', 'Fwd Pkt Len Max', 'Bwd Header Len', 'Tot Fwd Pkts'], 'Normal sample 1338': ['Init Bwd Win Byts', 'Subflow Fwd Byts', 'Idle Max', 'Subflow Bwd Pkts', 'Bwd Pkt Len Max', 'Fwd IAT Max', 'Fwd IAT Tot', 'Pkt Len Var', 'Flow Duration', 'Tot Bwd Pkts'], 'Normal sample 1339': ['Bwd PSH Flags', 'Bwd Pkt Len Max', 'Active Mean', 'Pkt Len Max', 'Flow IAT Max', 'Flow Pkts/s', 'Active Std', 'Idle Std', 'Down/Up Ratio', 'Bwd Pkt Len Min'], 'Normal sample 1340': ['Init Bwd Win Byts', 'Idle Min', 'TotLen Bwd Pkts', 'Idle Max', 'Fwd IAT Tot', 'Fwd IAT Max', 'Fwd Pkt Len Min', 'Active Min', 'Subflow Fwd Byts', 'Bwd Seg Size Avg'], 'Normal sample 1341': ['Flow Pkts/s', 'Down/Up Ratio', 'FIN Flag Cnt', 'Pkt Len Min', 'Bwd Pkt Len Std', 'Bwd IAT Min', 'Active Std', 'Pkt Size Avg', 'Subflow Bwd Pkts', 'Idle Mean'], 'Normal sample 1342': ['SYN Flag Cnt', 'Bwd IAT Max', 'Bwd IAT Std', 'Idle Mean', 'Idle Max', 'Tot Bwd Pkts', 'Down/Up Ratio', 'Flow IAT Max', 'Tot Fwd Pkts', 'Fwd Seg Size Avg'], 'Normal sample 1343': ['Down/Up Ratio', 'Flow Pkts/s', 'FIN Flag Cnt', 'Pkt Len Min', 'Fwd Pkt Len Std', 'Fwd Pkt Len Max', 'Pkt Len Max', 'Fwd Seg Size Avg', 'Bwd IAT Tot', 'Bwd IAT Min'], 'Normal sample 1344': ['Init Bwd Win Byts', 'Tot Fwd Pkts', 'Tot Bwd Pkts', 'TotLen Fwd Pkts', 'Fwd Pkt Len Min', 'Bwd Pkt Len Std', 'Flow Pkts/s', 'Flow IAT Min', 'Fwd IAT Tot', 'Fwd IAT Mean'], 'Normal sample 1345': ['Init Bwd Win Byts', 'Fwd Pkt Len Max', 'Bwd Pkt Len Mean', 'Bwd IAT Min', 'Bwd Seg Size Avg', 'Idle Std', 'Bwd IAT Mean', 'Active Min', 'Flow IAT Min', 'Bwd Header Len'], 'Normal sample 1346': ['Init Bwd Win Byts', 'Subflow Bwd Byts', 'Idle Mean', 'Subflow Bwd Pkts', 'Fwd Pkt Len Std', 'Fwd IAT Max', 'Idle Max', 'TotLen Fwd Pkts', 'Tot Bwd Pkts', 'Fwd Pkts/s'], 'Normal sample 1347': ['SYN Flag Cnt', 'Bwd Pkt Len Max', 'Bwd IAT Max', 'Bwd IAT Std', 'Bwd IAT Tot', 'Fwd IAT Std', 'Bwd PSH Flags', 'Tot Fwd Pkts', 'Tot Bwd Pkts', 'Bwd Pkt Len Min'], 'Normal sample 1348': ['SYN Flag Cnt', 'Bwd IAT Max', 'Bwd IAT Std', 'Idle Std', 'Bwd IAT Mean', 'TotLen Fwd Pkts', 'Fwd Pkt Len Min', 'Tot Fwd Pkts', 'Subflow Bwd Byts', 'Bwd IAT Min'], 'Normal sample 1349': ['Bwd PSH Flags', 'Pkt Len Min', 'Idle Min', 'Fwd IAT Max', 'Fwd Pkts/s', 'Subflow Bwd Byts', 'Bwd Pkt Len Std', 'Bwd IAT Min', 'Fwd Pkt Len Mean', 'Idle Mean'], 'Normal sample 1350': ['Init Bwd Win Byts', 'Idle Std', 'Subflow Bwd Byts', 'Idle Max', 'Subflow Fwd Pkts', 'Tot Fwd Pkts', 'Bwd Pkt Len Mean', 'TotLen Fwd Pkts', 'Idle Min', 'Flow IAT Min'], 'Normal sample 1351': ['Init Bwd Win Byts', 'Fwd Pkts/s', 'Tot Fwd Pkts', 'TotLen Fwd Pkts', 'TotLen Bwd Pkts', 'Fwd Pkt Len Min', 'Bwd Pkt Len Max', 'Bwd Pkt Len Mean', 'Bwd Pkt Len Std', 'Flow Byts/s'], 'Normal sample 1352': ['Init Bwd Win Byts', 'Fwd Pkts/s', 'Flow IAT Std', 'Idle Max', 'Fwd Act Data Pkts', 'Fwd Pkt Len Max', 'Subflow Bwd Byts', 'Bwd Pkt Len Max', 'Tot Bwd Pkts', 'Fwd IAT Max'], 'Normal sample 1353': ['Init Bwd Win Byts', 'Tot Fwd Pkts', 'Fwd Pkt Len Std', 'Bwd Pkt Len Min', 'Bwd Pkt Len Mean', 'Flow IAT Mean', 'Flow IAT Std', 'Flow IAT Min', 'Fwd IAT Tot', 'Fwd IAT Mean'], 'Normal sample 1354': ['ACK Flag Cnt', 'Bwd IAT Std', 'Bwd IAT Max', 'Bwd IAT Tot', 'Flow IAT Max', 'Flow IAT Min', 'Flow IAT Mean', 'Idle Max', 'Bwd IAT Min', 'Active Max'], 'Normal sample 1355': ['ACK Flag Cnt', 'Bwd IAT Max', 'Bwd IAT Tot', 'Idle Max', 'Bwd IAT Std', 'Flow IAT Max', 'Active Max', 'Bwd PSH Flags', 'Fwd Header Len', 'Idle Mean'], 'Normal sample 1356': ['Bwd IAT Tot', 'ACK Flag Cnt', 'Bwd PSH Flags', 'Idle Max', 'Bwd IAT Max', 'Idle Min', 'Bwd IAT Std', 'Bwd Pkt Len Std', 'Idle Mean', 'Pkt Size Avg'], 'Normal sample 1357': ['Init Bwd Win Byts', 'Active Min', 'TotLen Bwd Pkts', 'Fwd Pkt Len Max', 'Idle Max', 'Fwd Pkt Len Std', 'Idle Mean', 'PSH Flag Cnt', 'Bwd Pkt Len Std', 'Tot Fwd Pkts'], 'Normal sample 1358': ['Down/Up Ratio', 'Flow Pkts/s', 'Fwd Pkt Len Std', 'Pkt Len Max', 'Pkt Len Std', 'Flow IAT Min', 'Pkt Len Mean', 'Fwd IAT Max', 'Pkt Size Avg', 'Fwd Pkt Len Max'], 'Normal sample 1359': ['Init Bwd Win Byts', 'Idle Mean', 'TotLen Fwd Pkts', 'Idle Min', 'Active Std', 'Fwd IAT Tot', 'Subflow Bwd Byts', 'Bwd Pkt Len Max', 'Bwd Header Len', 'Bwd IAT Tot'], 'Normal sample 1360': ['SYN Flag Cnt', 'Bwd IAT Max', 'Bwd IAT Std', 'Bwd IAT Tot', 'PSH Flag Cnt', 'Bwd IAT Mean', 'Bwd PSH Flags', 'Subflow Bwd Pkts', 'Idle Std', 'Flow IAT Mean'], 'Normal sample 1361': ['Init Bwd Win Byts', 'Bwd IAT Tot', 'Flow Duration', 'Idle Std', 'Flow Byts/s', 'Subflow Fwd Pkts', 'Idle Min', 'Fwd IAT Max', 'Fwd Pkt Len Min', 'Tot Bwd Pkts'], 'Normal sample 1362': ['Init Bwd Win Byts', 'Fwd Pkt Len Min', 'Fwd Header Len', 'Flow Duration', 'TotLen Bwd Pkts', 'Bwd Pkt Len Max', 'Bwd Pkt Len Mean', 'Flow IAT Mean', 'Flow IAT Min', 'Fwd IAT Std'], 'Normal sample 1363': ['Bwd IAT Tot', 'Bwd PSH Flags', 'ACK Flag Cnt', 'Bwd IAT Std', 'Bwd IAT Max', 'Active Max', 'TotLen Bwd Pkts', 'Idle Max', 'Idle Min', 'Bwd Pkt Len Std'], 'Normal sample 1364': ['Init Bwd Win Byts', 'Fwd Pkt Len Max', 'Flow IAT Max', 'Bwd Pkt Len Mean', 'Bwd IAT Tot', 'Flow Byts/s', 'Idle Mean', 'Bwd Pkt Len Max', 'Fwd IAT Min', 'Idle Max'], 'Normal sample 1365': ['Bwd Pkt Len Max', 'Init Bwd Win Byts', 'Fwd IAT Max', 'Active Max', 'Subflow Bwd Pkts', 'Active Mean', 'Idle Max', 'Fwd IAT Mean', 'Tot Fwd Pkts', 'Fwd IAT Min'], 'Normal sample 1366': ['Init Bwd Win Byts', 'Fwd IAT Std', 'Subflow Bwd Byts', 'Bwd Seg Size Avg', 'Fwd Header Len', 'Bwd IAT Min', 'Subflow Fwd Pkts', 'Fwd IAT Mean', 'Bwd PSH Flags', 'Bwd Pkt Len Mean'], 'Normal sample 1367': ['Init Bwd Win Byts', 'Active Min', 'Bwd IAT Min', 'Flow IAT Mean', 'Idle Mean', 'Active Max', 'Active Mean', 'Fwd IAT Tot', 'Flow IAT Max', 'Tot Fwd Pkts'], 'Normal sample 1368': ['Down/Up Ratio', 'Pkt Size Avg', 'Flow Pkts/s', 'Pkt Len Mean', 'Pkt Len Std', 'Fwd Pkt Len Max', 'Fwd IAT Tot', 'Pkt Len Max', 'Pkt Len Min', 'Fwd Pkt Len Std'], 'Normal sample 1369': ['Init Bwd Win Byts', 'Fwd IAT Std', 'Bwd Pkt Len Std', 'Idle Max', 'Fwd IAT Max', 'Bwd Header Len', 'Fwd Pkt Len Std', 'Tot Fwd Pkts', 'Subflow Fwd Byts', 'Bwd Seg Size Avg'], 'Normal sample 1370': ['Bwd PSH Flags', 'Bwd Pkt Len Min', 'Active Max', 'Bwd Seg Size Avg', 'TotLen Bwd Pkts', 'Idle Mean', 'Bwd IAT Std', 'Active Std', 'Fwd Pkt Len Min', 'Bwd Header Len'], 'Normal sample 1371': ['SYN Flag Cnt', 'Bwd Pkt Len Max', 'Pkt Len Min', 'Bwd Pkt Len Min', 'Tot Fwd Pkts', 'Flow IAT Min', 'Flow Duration', 'Tot Bwd Pkts', 'TotLen Fwd Pkts', 'TotLen Bwd Pkts'], 'Normal sample 1372': ['SYN Flag Cnt', 'Bwd Pkt Len Std', 'Bwd Pkt Len Max', 'Pkt Len Min', 'Fwd IAT Min', 'Bwd IAT Std', 'Tot Fwd Pkts', 'Tot Bwd Pkts', 'Subflow Bwd Pkts', 'Fwd IAT Max'], 'Normal sample 1373': ['Bwd IAT Tot', 'ACK Flag Cnt', 'Bwd PSH Flags', 'Bwd IAT Std', 'Bwd Pkt Len Max', 'Bwd IAT Max', 'Subflow Fwd Pkts', 'Fwd Pkt Len Std', 'FIN Flag Cnt', 'Flow IAT Max'], 'Normal sample 1374': ['Init Bwd Win Byts', 'Subflow Fwd Byts', 'Fwd Pkts/s', 'Bwd Pkt Len Max', 'Subflow Fwd Pkts', 'Flow IAT Max', 'Bwd IAT Tot', 'Fwd IAT Tot', 'Bwd IAT Mean', 'Tot Fwd Pkts'], 'Normal sample 1375': ['Init Bwd Win Byts', 'Fwd Header Len', 'Idle Max', 'Flow Byts/s', 'Subflow Bwd Byts', 'Idle Min', 'Bwd IAT Max', 'Bwd Seg Size Avg', 'Bwd Pkt Len Max', 'Tot Fwd Pkts'], 'Normal sample 1376': ['Bwd IAT Tot', 'Init Bwd Win Byts', 'Bwd Pkt Len Max', 'Fwd Act Data Pkts', 'Active Mean', 'Subflow Fwd Byts', 'Tot Fwd Pkts', 'Active Min', 'Bwd Seg Size Avg', 'Flow Pkts/s'], 'Normal sample 1377': ['SYN Flag Cnt', 'Bwd Pkt Len Max', 'Bwd IAT Max', 'Bwd IAT Std', 'Pkt Len Min', 'Bwd Pkt Len Std', 'Bwd IAT Tot', 'Bwd IAT Mean', 'Active Max', 'Idle Min'], 'Normal sample 1378': ['Bwd Pkt Len Max', 'SYN Flag Cnt', 'Flow IAT Mean', 'Bwd IAT Tot', 'Fwd Pkts/s', 'Fwd Seg Size Avg', 'Bwd Header Len', 'Active Mean', 'Idle Max', 'Active Std'], 'Normal sample 1379': ['Flow Pkts/s', 'Init Bwd Win Byts', 'Bwd Pkts/s', 'Down/Up Ratio', 'Pkt Len Min', 'Pkt Len Mean', 'Pkt Len Max', 'Pkt Len Std', 'Bwd Pkt Len Mean', 'Fwd Pkt Len Max'], 'Normal sample 1380': ['ACK Flag Cnt', 'Bwd IAT Tot', 'Bwd IAT Max', 'Idle Max', 'Flow IAT Mean', 'Bwd IAT Std', 'Idle Mean', 'Bwd IAT Mean', 'Bwd Pkt Len Std', 'Active Min'], 'Normal sample 1381': ['Init Bwd Win Byts', 'Bwd Pkt Len Mean', 'Bwd Pkt Len Std', 'Idle Mean', 'Bwd IAT Tot', 'Idle Min', 'Bwd PSH Flags', 'Bwd Pkt Len Max', 'Fwd IAT Tot', 'Flow Duration'], 'Normal sample 1382': ['SYN Flag Cnt', 'Bwd Pkt Len Max', 'TotLen Bwd Pkts', 'Active Max', 'Fwd IAT Tot', 'Bwd Pkt Len Min', 'Fwd IAT Max', 'Flow Pkts/s', 'TotLen Fwd Pkts', 'Idle Min'], 'Normal sample 1383': ['Init Bwd Win Byts', 'Fwd IAT Std', 'Fwd Header Len', 'Fwd IAT Min', 'Idle Max', 'Subflow Bwd Pkts', 'Flow Duration', 'Flow IAT Min', 'Bwd IAT Min', 'Tot Fwd Pkts'], 'Normal sample 1384': ['Init Bwd Win Byts', 'Bwd Pkt Len Std', 'Bwd Pkt Len Max', 'Tot Fwd Pkts', 'Bwd IAT Min', 'Fwd IAT Std', 'Bwd Seg Size Avg', 'Pkt Len Var', 'Bwd Header Len', 'Fwd Header Len'], 'Normal sample 1385': ['Init Bwd Win Byts', 'Idle Max', 'Idle Mean', 'Fwd IAT Std', 'Subflow Bwd Byts', 'Fwd IAT Min', 'Flow Duration', 'Bwd IAT Tot', 'TotLen Fwd Pkts', 'Active Std'], 'Normal sample 1386': ['Bwd Pkt Len Mean', 'Idle Max', 'Subflow Fwd Byts', 'Init Bwd Win Byts', 'TotLen Fwd Pkts', 'Bwd Seg Size Avg', 'Flow Duration', 'Tot Fwd Pkts', 'Tot Bwd Pkts', 'TotLen Bwd Pkts'], 'Normal sample 1387': ['Init Bwd Win Byts', 'Flow IAT Min', 'Pkt Len Max', 'Idle Max', 'Tot Fwd Pkts', 'Fwd IAT Min', 'Flow IAT Mean', 'Pkt Len Mean', 'Flow Byts/s', 'Fwd Pkt Len Max'], 'Normal sample 1388': ['Bwd PSH Flags', 'Bwd IAT Std', 'Bwd IAT Max', 'ACK Flag Cnt', 'Flow Byts/s', 'Bwd IAT Tot', 'Idle Min', 'Fwd Pkt Len Mean', 'Tot Fwd Pkts', 'Tot Bwd Pkts'], 'Normal sample 1389': ['Init Bwd Win Byts', 'Fwd Pkts/s', 'Fwd IAT Max', 'Tot Fwd Pkts', 'Bwd Header Len', 'Fwd IAT Mean', 'Fwd IAT Std', 'Flow IAT Mean', 'Idle Std', 'Active Max'], 'Normal sample 1390': ['Flow Pkts/s', 'Down/Up Ratio', 'FIN Flag Cnt', 'Fwd Pkt Len Mean', 'Fwd IAT Tot', 'Fwd Seg Size Avg', 'Bwd Pkt Len Min', 'Pkt Len Std', 'Fwd Header Len', 'Subflow Fwd Byts'], 'Normal sample 1391': ['Init Bwd Win Byts', 'Fwd IAT Max', 'TotLen Fwd Pkts', 'Idle Min', 'Fwd IAT Mean', 'Bwd Pkt Len Max', 'Active Min', 'Fwd IAT Min', 'Tot Fwd Pkts', 'TotLen Bwd Pkts'], 'Normal sample 1392': ['ACK Flag Cnt', 'Bwd IAT Max', 'Bwd IAT Tot', 'Bwd IAT Std', 'Bwd PSH Flags', 'Bwd IAT Mean', 'Flow IAT Max', 'Subflow Bwd Pkts', 'Idle Std', 'Active Mean'], 'Normal sample 1393': ['Init Bwd Win Byts', 'Idle Mean', 'Fwd IAT Min', 'Fwd Act Data Pkts', 'Fwd Pkts/s', 'Fwd IAT Mean', 'Bwd Pkt Len Max', 'TotLen Fwd Pkts', 'Flow IAT Mean', 'Subflow Bwd Pkts'], 'Normal sample 1394': ['Flow Pkts/s', 'Pkt Len Std', 'Pkt Len Mean', 'Fwd Pkt Len Max', 'Fwd IAT Tot', 'Pkt Size Avg', 'Fwd IAT Std', 'Pkt Len Max', 'Pkt Len Min', 'Fwd Seg Size Avg'], 'Normal sample 1395': ['Bwd IAT Max', 'ACK Flag Cnt', 'Idle Max', 'Bwd IAT Tot', 'Idle Min', 'Bwd Pkt Len Min', 'Active Max', 'Idle Mean', 'Idle Std', 'Bwd PSH Flags'], 'Normal sample 1396': ['SYN Flag Cnt', 'Bwd Pkt Len Max', 'Flow Duration', 'Tot Fwd Pkts', 'TotLen Bwd Pkts', 'Fwd Pkt Len Min', 'Fwd Pkt Len Mean', 'Bwd Pkt Len Min', 'Bwd Pkt Len Std', 'Flow Byts/s'], 'Normal sample 1397': ['SYN Flag Cnt', 'Bwd IAT Std', 'Bwd IAT Max', 'Bwd IAT Tot', 'Fwd IAT Min', 'Pkt Len Var', 'Active Std', 'Fwd Pkt Len Std', 'Flow IAT Mean', 'TotLen Fwd Pkts'], 'Normal sample 1398': ['Down/Up Ratio', 'Pkt Len Min', 'Flow Pkts/s', 'Pkt Len Max', 'Pkt Len Std', 'Pkt Len Mean', 'Fwd Pkt Len Max', 'Pkt Size Avg', 'Fwd Pkt Len Mean', 'Fwd IAT Std'], 'Normal sample 1399': ['Init Bwd Win Byts', 'Fwd Pkts/s', 'Bwd Pkt Len Mean', 'Active Max', 'Idle Min', 'Tot Fwd Pkts', 'Fwd Pkt Len Std', 'Fwd IAT Mean', 'Bwd Pkt Len Max', 'Idle Max'], 'Normal sample 1400': ['Flow Duration', 'Tot Fwd Pkts', 'TotLen Fwd Pkts', 'TotLen Bwd Pkts', 'Bwd Pkt Len Max', 'Bwd Pkt Len Min', 'Bwd Pkt Len Mean', 'Bwd Pkt Len Std', 'Flow Pkts/s', 'Flow IAT Mean'], 'Normal sample 1401': ['Flow Pkts/s', 'Pkt Len Max', 'Fwd Pkt Len Std', 'Pkt Len Mean', 'Pkt Len Min', 'Pkt Size Avg', 'Pkt Len Std', 'Fwd IAT Tot', 'Fwd IAT Max', 'Flow Byts/s'], 'Normal sample 1402': ['Init Bwd Win Byts', 'Fwd IAT Max', 'Fwd IAT Tot', 'Fwd IAT Std', 'Active Max', 'Pkt Len Min', 'Tot Fwd Pkts', 'TotLen Fwd Pkts', 'Flow Byts/s', 'Flow IAT Mean'], 'Normal sample 1403': ['Init Bwd Win Byts', 'Idle Min', 'Flow IAT Std', 'Fwd IAT Tot', 'Flow Duration', 'Idle Max', 'Flow IAT Max', 'Fwd IAT Min', 'Bwd IAT Max', 'Active Mean'], 'Normal sample 1404': ['SYN Flag Cnt', 'Bwd IAT Std', 'Bwd IAT Max', 'Bwd Pkt Len Max', 'Bwd Pkt Len Std', 'Fwd Pkts/s', 'Bwd Pkt Len Mean', 'Bwd PSH Flags', 'PSH Flag Cnt', 'Tot Bwd Pkts'], 'Normal sample 1405': ['ACK Flag Cnt', 'Bwd IAT Max', 'Idle Max', 'Bwd IAT Tot', 'Bwd IAT Std', 'Idle Std', 'Fwd IAT Min', 'Bwd Pkt Len Min', 'Subflow Fwd Pkts', 'Fwd Act Data Pkts'], 'Normal sample 1406': ['Init Bwd Win Byts', 'Active Std', 'Idle Min', 'Tot Fwd Pkts', 'Idle Mean', 'Fwd IAT Min', 'Fwd IAT Mean', 'Fwd Header Len', 'Subflow Bwd Pkts', 'Flow Duration'], 'Normal sample 1407': ['Init Bwd Win Byts', 'Bwd IAT Mean', 'Fwd Pkt Len Min', 'Idle Max', 'Fwd IAT Min', 'Fwd IAT Std', 'Idle Mean', 'Bwd Pkt Len Mean', 'Bwd IAT Min', 'Flow Byts/s'], 'Normal sample 1408': ['SYN Flag Cnt', 'Bwd Seg Size Avg', 'Bwd Pkt Len Max', 'Fwd Header Len', 'Idle Min', 'Bwd Pkt Len Std', 'Fwd IAT Max', 'Tot Fwd Pkts', 'Idle Max', 'Bwd Pkt Len Mean'], 'Normal sample 1409': ['Init Bwd Win Byts', 'Idle Max', 'Bwd Pkt Len Std', 'Idle Min', 'Idle Mean', 'Bwd IAT Tot', 'Fwd Act Data Pkts', 'Tot Bwd Pkts', 'Fwd Header Len', 'Fwd Pkt Len Std'], 'Normal sample 1410': ['Flow Duration', 'Tot Fwd Pkts', 'Tot Bwd Pkts', 'TotLen Fwd Pkts', 'TotLen Bwd Pkts', 'Fwd Pkt Len Max', 'Fwd Pkt Len Min', 'Bwd Pkt Len Max', 'Bwd Pkt Len Mean', 'Bwd Pkt Len Std'], 'Normal sample 1411': ['Init Bwd Win Byts', 'Fwd IAT Max', 'Subflow Bwd Pkts', 'Bwd Pkt Len Std', 'TotLen Bwd Pkts', 'Idle Max', 'Fwd Pkts/s', 'Idle Mean', 'Pkt Len Var', 'Fwd Act Data Pkts'], 'Normal sample 1412': ['Init Bwd Win Byts', 'Bwd Pkt Len Std', 'Fwd IAT Min', 'Bwd Pkt Len Mean', 'Flow IAT Std', 'Active Mean', 'Subflow Fwd Byts', 'Idle Max', 'Active Std', 'Subflow Bwd Pkts'], 'Normal sample 1413': ['SYN Flag Cnt', 'Bwd IAT Max', 'Bwd IAT Std', 'Bwd IAT Tot', 'Fwd Pkt Len Min', 'Fwd IAT Min', 'Active Min', 'Fwd Pkts/s', 'Bwd Seg Size Avg', 'Flow IAT Mean'], 'Normal sample 1414': ['Pkt Len Var', 'Init Bwd Win Byts', 'Fwd Header Len', 'Subflow Bwd Pkts', 'Fwd IAT Mean', 'Fwd Pkts/s', 'Bwd Pkt Len Std', 'Bwd Pkt Len Mean', 'Idle Mean', 'Tot Fwd Pkts'], 'Normal sample 1415': ['ACK Flag Cnt', 'Flow IAT Max', 'Flow IAT Mean', 'Flow IAT Min', 'Fwd Pkts/s', 'Bwd PSH Flags', 'Active Mean', 'Pkt Len Min', 'Bwd Pkt Len Std', 'Fwd Act Data Pkts'], 'Normal sample 1416': ['Init Bwd Win Byts', 'Bwd Pkt Len Mean', 'Fwd IAT Max', 'Idle Min', 'Flow Duration', 'Flow Byts/s', 'Fwd Header Len', 'Subflow Bwd Pkts', 'Idle Max', 'Fwd IAT Std'], 'Normal sample 1417': ['Init Bwd Win Byts', 'Active Mean', 'Subflow Fwd Byts', 'Active Std', 'Idle Min', 'Fwd IAT Max', 'Bwd IAT Max', 'Bwd Header Len', 'Flow IAT Std', 'Bwd Seg Size Avg'], 'Normal sample 1418': ['Init Bwd Win Byts', 'Tot Fwd Pkts', 'TotLen Fwd Pkts', 'TotLen Bwd Pkts', 'Fwd Pkt Len Min', 'Bwd Pkt Len Max', 'Bwd Pkt Len Min', 'Bwd Pkt Len Mean', 'Bwd Pkt Len Std', 'Flow Pkts/s'], 'Normal sample 1419': ['Init Bwd Win Byts', 'Active Std', 'Tot Bwd Pkts', 'Bwd Pkt Len Mean', 'Fwd Pkt Len Std', 'Idle Min', 'Tot Fwd Pkts', 'Flow Pkts/s', 'Pkt Len Var', 'Fwd Header Len'], 'Normal sample 1420': ['SYN Flag Cnt', 'Pkt Len Min', 'Bwd Pkt Len Max', 'Idle Max', 'Bwd IAT Min', 'Active Min', 'Subflow Fwd Pkts', 'Flow Duration', 'Tot Bwd Pkts', 'Fwd Pkt Len Min'], 'Normal sample 1421': ['Init Bwd Win Byts', 'Fwd IAT Max', 'Idle Mean', 'Idle Max', 'Fwd Header Len', 'Active Mean', 'Fwd IAT Mean', 'Bwd Header Len', 'Fwd IAT Std', 'Active Min'], 'Normal sample 1422': ['Flow Pkts/s', 'Pkt Len Mean', 'Pkt Len Max', 'Pkt Size Avg', 'Fwd Pkt Len Std', 'Pkt Len Min', 'Fwd Pkt Len Max', 'Pkt Len Std', 'Fwd IAT Max', 'Fwd Seg Size Avg'], 'Normal sample 1423': ['Init Bwd Win Byts', 'Fwd IAT Max', 'Fwd IAT Std', 'Bwd Seg Size Avg', 'Bwd Pkt Len Std', 'Idle Mean', 'Idle Max', 'Bwd IAT Tot', 'Active Std', 'Active Max'], 'Normal sample 1424': ['Init Bwd Win Byts', 'Idle Mean', 'Bwd Pkt Len Max', 'TotLen Bwd Pkts', 'Subflow Bwd Byts', 'Bwd Pkt Len Mean', 'Fwd Act Data Pkts', 'Idle Max', 'Fwd Header Len', 'Flow IAT Mean'], 'Normal sample 1425': ['Flow Duration', 'Tot Fwd Pkts', 'Tot Bwd Pkts', 'TotLen Fwd Pkts', 'TotLen Bwd Pkts', 'Bwd Pkt Len Max', 'Bwd Pkt Len Min', 'Bwd Pkt Len Mean', 'Bwd Pkt Len Std', 'Flow Byts/s'], 'Normal sample 1426': ['Init Bwd Win Byts', 'Flow Byts/s', 'Fwd IAT Tot', 'Idle Min', 'Bwd Pkt Len Max', 'Subflow Bwd Byts', 'Fwd Header Len', 'Fwd IAT Max', 'Fwd IAT Std', 'Subflow Fwd Byts'], 'Normal sample 1427': ['SYN Flag Cnt', 'Bwd IAT Max', 'Idle Max', 'Bwd IAT Std', 'Bwd IAT Tot', 'Down/Up Ratio', 'Bwd IAT Mean', 'Flow IAT Mean', 'Idle Min', 'Fwd Pkts/s'], 'Normal sample 1428': ['Down/Up Ratio', 'Pkt Len Min', 'Pkt Len Max', 'Flow Pkts/s', 'Fwd Pkt Len Std', 'Bwd IAT Tot', 'Pkt Len Std', 'Fwd Pkt Len Max', 'Pkt Len Mean', 'Pkt Size Avg'], 'Normal sample 1429': ['Init Bwd Win Byts', 'Idle Max', 'Fwd IAT Max', 'Fwd Pkts/s', 'Fwd Pkt Len Std', 'Fwd IAT Std', 'Fwd IAT Tot', 'Bwd IAT Max', 'Active Std', 'TotLen Fwd Pkts'], 'Normal sample 1430': ['SYN Flag Cnt', 'Bwd Pkt Len Max', 'Idle Min', 'Fwd IAT Std', 'PSH Flag Cnt', 'Flow Duration', 'Tot Fwd Pkts', 'Tot Bwd Pkts', 'TotLen Fwd Pkts', 'TotLen Bwd Pkts'], 'Normal sample 1431': ['Init Bwd Win Byts', 'Active Std', 'Bwd Seg Size Avg', 'Fwd IAT Tot', 'Bwd Pkt Len Std', 'Active Min', 'TotLen Bwd Pkts', 'Fwd Pkt Len Max', 'Fwd Pkt Len Std', 'Bwd IAT Mean'], 'Normal sample 1432': ['SYN Flag Cnt', 'Fwd IAT Min', 'Flow IAT Min', 'Subflow Bwd Byts', 'Bwd Pkt Len Std', 'Bwd IAT Max', 'Bwd IAT Mean', 'Fwd Pkt Len Min', 'Fwd Act Data Pkts', 'Fwd Seg Size Avg'], 'Normal sample 1433': ['Init Bwd Win Byts', 'Idle Mean', 'Fwd Header Len', 'Flow Duration', 'Flow IAT Mean', 'Flow IAT Max', 'TotLen Bwd Pkts', 'Fwd IAT Std', 'Bwd Pkt Len Mean', 'Active Max'], 'Normal sample 1434': ['Init Bwd Win Byts', 'Active Std', 'Idle Max', 'TotLen Bwd Pkts', 'Bwd Header Len', 'Fwd IAT Std', 'Fwd Pkt Len Min', 'Fwd IAT Max', 'Fwd Act Data Pkts', 'Fwd IAT Tot'], 'Normal sample 1435': ['Init Bwd Win Byts', 'Idle Mean', 'Subflow Fwd Byts', 'Tot Bwd Pkts', 'Active Max', 'Idle Min', 'Pkt Len Var', 'Subflow Fwd Pkts', 'Fwd IAT Max', 'Active Min'], 'Normal sample 1436': ['Init Bwd Win Byts', 'Idle Min', 'Bwd Pkt Len Max', 'Flow IAT Std', 'Active Std', 'Flow Duration', 'Subflow Fwd Pkts', 'Tot Fwd Pkts', 'Fwd Pkts/s', 'Bwd IAT Tot'], 'Normal sample 1437': ['SYN Flag Cnt', 'Bwd Pkt Len Max', 'Tot Bwd Pkts', 'TotLen Fwd Pkts', 'TotLen Bwd Pkts', 'Fwd Pkt Len Min', 'Fwd Pkt Len Mean', 'Bwd Pkt Len Min', 'Bwd Pkt Len Std', 'Flow Byts/s'], 'Normal sample 1438': ['ACK Flag Cnt', 'Bwd IAT Std', 'Idle Std', 'Bwd IAT Max', 'Subflow Fwd Pkts', 'Flow IAT Mean', 'Pkt Len Std', 'Bwd IAT Tot', 'Flow IAT Max', 'Bwd IAT Mean'], 'Normal sample 1439': ['SYN Flag Cnt', 'Bwd Pkt Len Max', 'Pkt Len Min', 'Fwd Header Len', 'FIN Flag Cnt', 'Subflow Bwd Pkts', 'Bwd IAT Std', 'Flow IAT Mean', 'Tot Fwd Pkts', 'TotLen Fwd Pkts'], 'Normal sample 1440': ['Init Bwd Win Byts', 'TotLen Fwd Pkts', 'Subflow Bwd Pkts', 'Fwd Pkt Len Max', 'TotLen Bwd Pkts', 'PSH Flag Cnt', 'Bwd Pkt Len Std', 'Fwd Act Data Pkts', 'Active Mean', 'Fwd IAT Max'], 'Normal sample 1441': ['Init Bwd Win Byts', 'Down/Up Ratio', 'Bwd Seg Size Avg', 'Fwd IAT Std', 'Fwd Pkt Len Max', 'Bwd Pkt Len Mean', 'Idle Max', 'Fwd IAT Max', 'Bwd Pkt Len Max', 'Subflow Bwd Pkts'], 'Normal sample 1442': ['Init Bwd Win Byts', 'Flow Duration', 'Tot Fwd Pkts', 'Tot Bwd Pkts', 'TotLen Fwd Pkts', 'TotLen Bwd Pkts', 'Fwd Pkt Len Min', 'Bwd Pkt Len Mean', 'Flow IAT Mean', 'Flow IAT Min'], 'Normal sample 1443': ['Init Bwd Win Byts', 'Subflow Fwd Pkts', 'Idle Max', 'Bwd Pkt Len Max', 'Bwd IAT Min', 'Fwd IAT Max', 'Flow Duration', 'Tot Fwd Pkts', 'Fwd Pkt Len Std', 'Bwd Pkt Len Mean'], 'Normal sample 1444': ['SYN Flag Cnt', 'Fwd IAT Min', 'Idle Min', 'Pkt Len Var', 'Fwd IAT Std', 'Pkt Len Std', 'Bwd Pkt Len Mean', 'Idle Max', 'Fwd Pkt Len Std', 'TotLen Bwd Pkts'], 'Normal sample 1445': ['Init Bwd Win Byts', 'Bwd Pkt Len Std', 'Fwd IAT Max', 'Subflow Bwd Byts', 'Fwd Pkts/s', 'Fwd Pkt Len Std', 'Idle Max', 'Bwd IAT Tot', 'Idle Std', 'Fwd IAT Min'], 'Normal sample 1446': ['Bwd IAT Std', 'ACK Flag Cnt', 'Bwd IAT Max', 'Active Min', 'Bwd Seg Size Avg', 'Idle Min', 'Idle Mean', 'Subflow Bwd Pkts', 'Bwd IAT Tot', 'Pkt Len Var'], 'Normal sample 1447': ['Init Bwd Win Byts', 'Fwd IAT Mean', 'Flow IAT Std', 'Fwd IAT Min', 'Idle Mean', 'Fwd Header Len', 'Bwd Seg Size Avg', 'Bwd IAT Tot', 'Flow IAT Mean', 'Fwd Pkt Len Std'], 'Normal sample 1448': ['Bwd IAT Max', 'ACK Flag Cnt', 'Bwd IAT Tot', 'Idle Mean', 'Idle Max', 'Flow IAT Max', 'Bwd IAT Std', 'Bwd IAT Min', 'Bwd IAT Mean', 'Idle Std'], 'Normal sample 1449': ['SYN Flag Cnt', 'Bwd Pkt Len Max', 'Bwd IAT Std', 'Bwd IAT Max', 'Bwd IAT Tot', 'Idle Max', 'Flow Pkts/s', 'Bwd Pkt Len Min', 'Tot Fwd Pkts', 'Tot Bwd Pkts'], 'Normal sample 1450': ['Bwd PSH Flags', 'Flow IAT Min', 'Idle Mean', 'Bwd Pkt Len Mean', 'Fwd Pkt Len Min', 'Bwd Seg Size Avg', 'Bwd Header Len', 'Bwd IAT Min', 'Flow IAT Mean', 'Bwd IAT Tot'], 'Normal sample 1451': ['Down/Up Ratio', 'Flow Pkts/s', 'Pkt Len Max', 'Pkt Size Avg', 'Pkt Len Min', 'Fwd IAT Tot', 'Pkt Len Std', 'Fwd Pkt Len Std', 'Fwd IAT Max', 'Bwd Pkt Len Min'], 'Normal sample 1452': ['Init Bwd Win Byts', 'Bwd IAT Mean', 'Active Min', 'Bwd Header Len', 'Tot Fwd Pkts', 'Tot Bwd Pkts', 'TotLen Fwd Pkts', 'TotLen Bwd Pkts', 'Fwd Pkt Len Max', 'Fwd Pkt Len Mean'], 'Normal sample 1453': ['Bwd Seg Size Avg', 'Init Bwd Win Byts', 'Flow Pkts/s', 'Flow Duration', 'Tot Fwd Pkts', 'Tot Bwd Pkts', 'TotLen Bwd Pkts', 'Fwd Pkt Len Max', 'Bwd Pkt Len Max', 'Bwd Pkt Len Mean'], 'Normal sample 1454': ['Init Bwd Win Byts', 'Active Max', 'Pkt Len Var', 'Flow IAT Min', 'Fwd Pkt Len Std', 'Fwd IAT Std', 'Bwd Pkt Len Max', 'Active Std', 'TotLen Bwd Pkts', 'Fwd Pkt Len Mean'], 'Normal sample 1455': ['Flow Pkts/s', 'Pkt Len Max', 'Pkt Size Avg', 'Pkt Len Std', 'Pkt Len Mean', 'Pkt Len Min', 'Fwd Pkt Len Std', 'Idle Max', 'Fwd Act Data Pkts', 'Bwd IAT Mean'], 'Normal sample 1456': ['Init Bwd Win Byts', 'Idle Std', 'Bwd Pkt Len Std', 'Idle Mean', 'Flow Duration', 'Flow IAT Min', 'Tot Fwd Pkts', 'Bwd Header Len', 'Bwd IAT Max', 'TotLen Fwd Pkts'], 'Normal sample 1457': ['Init Bwd Win Byts', 'Idle Mean', 'Bwd Pkt Len Mean', 'Active Min', 'Fwd IAT Std', 'Idle Max', 'Bwd Pkt Len Max', 'Flow IAT Std', 'Bwd Seg Size Avg', 'Fwd IAT Mean'], 'Normal sample 1458': ['Init Bwd Win Byts', 'Flow IAT Min', 'Idle Min', 'Subflow Bwd Byts', 'Fwd IAT Max', 'Bwd Seg Size Avg', 'Fwd Pkt Len Min', 'Pkt Len Max', 'Fwd Act Data Pkts', 'Pkt Len Std'], 'Normal sample 1459': ['Init Bwd Win Byts', 'Bwd Pkt Len Mean', 'Idle Mean', 'Idle Max', 'Bwd Pkt Len Max', 'Flow IAT Min', 'Pkt Len Var', 'Fwd Act Data Pkts', 'Subflow Fwd Pkts', 'Tot Fwd Pkts'], 'Normal sample 1460': ['Init Bwd Win Byts', 'Fwd Act Data Pkts', 'Flow Duration', 'Fwd IAT Mean', 'Idle Min', 'Tot Bwd Pkts', 'Bwd Pkt Len Max', 'Down/Up Ratio', 'Idle Mean', 'Flow IAT Max'], 'Normal sample 1461': ['Init Bwd Win Byts', 'Down/Up Ratio', 'Idle Min', 'Fwd Pkt Len Mean', 'Fwd IAT Max', 'Idle Mean', 'Bwd Pkt Len Max', 'Idle Std', 'Flow IAT Max', 'Fwd IAT Mean'], 'Normal sample 1462': ['Flow Pkts/s', 'Pkt Len Std', 'Fwd Pkt Len Std', 'Pkt Len Max', 'Fwd IAT Tot', 'Fwd Pkt Len Max', 'Pkt Size Avg', 'Pkt Len Min', 'Pkt Len Mean', 'Tot Fwd Pkts'], 'Normal sample 1463': ['Init Bwd Win Byts', 'Bwd Seg Size Avg', 'Fwd IAT Max', 'Bwd IAT Mean', 'Idle Max', 'Idle Min', 'Tot Fwd Pkts', 'TotLen Bwd Pkts', 'Subflow Bwd Pkts', 'TotLen Fwd Pkts'], 'Normal sample 1464': ['Init Bwd Win Byts', 'Bwd Seg Size Avg', 'Fwd Header Len', 'Fwd Pkts/s', 'Fwd IAT Max', 'Fwd IAT Std', 'Bwd Pkt Len Std', 'Bwd IAT Min', 'Tot Bwd Pkts', 'Subflow Bwd Byts'], 'Normal sample 1465': ['Flow Pkts/s', 'Down/Up Ratio', 'FIN Flag Cnt', 'Pkt Len Min', 'Bwd IAT Min', 'Pkt Len Std', 'Pkt Len Max', 'Bwd IAT Std', 'Bwd Pkts/s', 'Subflow Bwd Byts'], 'Normal sample 1466': ['Init Bwd Win Byts', 'TotLen Bwd Pkts', 'Fwd IAT Mean', 'Fwd IAT Max', 'Active Mean', 'Subflow Fwd Byts', 'Bwd Header Len', 'Idle Min', 'Fwd Header Len', 'Bwd Seg Size Avg'], 'Normal sample 1467': ['Init Bwd Win Byts', 'Flow Duration', 'Tot Bwd Pkts', 'Bwd Pkt Len Min', 'Flow Byts/s', 'Fwd IAT Tot', 'Fwd IAT Std', 'Fwd PSH Flags', 'Fwd URG Flags', 'Bwd URG Flags'], 'Normal sample 1468': ['ACK Flag Cnt', 'Bwd IAT Max', 'Idle Max', 'Bwd IAT Tot', 'Bwd PSH Flags', 'Fwd Header Len', 'Bwd IAT Std', 'Flow IAT Max', 'Idle Std', 'Flow IAT Mean'], 'Normal sample 1469': ['ACK Flag Cnt', 'Bwd IAT Std', 'Bwd IAT Tot', 'Bwd IAT Max', 'Idle Max', 'Bwd Pkt Len Min', 'Bwd PSH Flags', 'Pkt Len Min', 'Idle Min', 'Flow IAT Max'], 'Normal sample 1470': ['Init Bwd Win Byts', 'TotLen Bwd Pkts', 'Subflow Bwd Pkts', 'Idle Mean', 'Bwd Seg Size Avg', 'Active Mean', 'Idle Min', 'Tot Bwd Pkts', 'Fwd Pkt Len Std', 'Tot Fwd Pkts'], 'Normal sample 1471': ['RST Flag Cnt', 'Bwd Pkt Len Min', 'Fwd Pkt Len Mean', 'Pkt Len Min', 'Subflow Bwd Pkts', 'Fwd Seg Size Avg', 'Idle Mean', 'Idle Min', 'Idle Max', 'Subflow Fwd Byts'], 'Normal sample 1472': ['Init Bwd Win Byts', 'TotLen Fwd Pkts', 'Fwd Pkt Len Std', 'Active Max', 'Bwd Pkt Len Mean', 'Fwd IAT Min', 'Bwd Pkt Len Std', 'Bwd IAT Mean', 'Idle Mean', 'Fwd IAT Max'], 'Normal sample 1473': ['Flow Pkts/s', 'Down/Up Ratio', 'FIN Flag Cnt', 'Pkt Len Std', 'Pkt Len Mean', 'Pkt Len Min', 'Fwd Seg Size Avg', 'Pkt Len Max', 'Tot Bwd Pkts', 'Bwd IAT Max'], 'Normal sample 1474': ['Init Bwd Win Byts', 'Idle Mean', 'Fwd IAT Min', 'Flow IAT Std', 'Fwd Pkt Len Min', 'Active Min', 'Idle Max', 'Flow Pkts/s', 'Bwd Pkt Len Mean', 'Fwd IAT Tot'], 'Normal sample 1475': ['Init Bwd Win Byts', 'Flow Duration', 'Tot Bwd Pkts', 'TotLen Fwd Pkts', 'Fwd Pkt Len Min', 'Fwd Pkt Len Std', 'Bwd Pkt Len Max', 'Bwd Pkt Len Mean', 'Bwd Pkt Len Std', 'Flow Pkts/s'], 'Normal sample 1476': ['ACK Flag Cnt', 'Bwd IAT Max', 'Bwd IAT Std', 'Bwd IAT Tot', 'Idle Max', 'Flow IAT Max', 'Idle Min', 'Idle Mean', 'Flow Byts/s', 'Flow IAT Min'], 'Normal sample 1477': ['Init Bwd Win Byts', 'Fwd IAT Std', 'Idle Max', 'Active Std', 'Fwd IAT Min', 'Idle Mean', 'Bwd PSH Flags', 'Idle Std', 'PSH Flag Cnt', 'Fwd IAT Tot'], 'Normal sample 1478': ['Down/Up Ratio', 'Flow Pkts/s', 'Pkt Len Max', 'Pkt Len Std', 'Pkt Len Min', 'Fwd IAT Max', 'Bwd Pkt Len Min', 'Fwd Pkt Len Mean', 'Pkt Size Avg', 'Fwd Seg Size Avg'], 'Normal sample 1479': ['ACK Flag Cnt', 'Bwd IAT Max', 'Bwd IAT Tot', 'Bwd IAT Std', 'Flow Byts/s', 'Bwd PSH Flags', 'Pkt Len Min', 'Pkt Len Var', 'Flow IAT Min', 'Pkt Len Max'], 'Normal sample 1480': ['Init Bwd Win Byts', 'Bwd Header Len', 'Subflow Fwd Byts', 'Fwd IAT Min', 'Idle Min', 'Pkt Len Var', 'Bwd Pkt Len Mean', 'Fwd IAT Mean', 'Active Min', 'TotLen Bwd Pkts'], 'Normal sample 1481': ['SYN Flag Cnt', 'Bwd IAT Std', 'Idle Mean', 'Flow IAT Mean', 'Bwd IAT Min', 'Bwd Pkt Len Min', 'Idle Max', 'Pkt Len Min', 'Bwd Header Len', 'Pkt Len Mean'], 'Normal sample 1482': ['Init Bwd Win Byts', 'Bwd Pkt Len Max', 'Bwd Seg Size Avg', 'TotLen Fwd Pkts', 'Idle Max', 'Flow Byts/s', 'Bwd Pkt Len Std', 'Idle Mean', 'Idle Std', 'Flow Duration'], 'Normal sample 1483': ['Idle Max', 'Init Bwd Win Byts', 'Bwd Pkt Len Max', 'Bwd Pkt Len Std', 'Subflow Bwd Byts', 'Tot Bwd Pkts', 'Fwd IAT Max', 'Flow IAT Mean', 'Bwd IAT Min', 'Bwd IAT Tot'], 'Normal sample 1484': ['Init Bwd Win Byts', 'Idle Max', 'Fwd Act Data Pkts', 'Active Std', 'Bwd Pkt Len Std', 'Idle Min', 'Bwd Header Len', 'Fwd IAT Tot', 'Active Mean', 'Bwd IAT Min'], 'Normal sample 1485': ['Init Bwd Win Byts', 'Bwd Pkt Len Mean', 'Flow IAT Std', 'Idle Min', 'Idle Mean', 'Fwd Pkt Len Std', 'Tot Bwd Pkts', 'Flow Duration', 'Idle Max', 'Fwd Pkt Len Max'], 'Normal sample 1486': ['SYN Flag Cnt', 'Bwd IAT Std', 'Bwd IAT Max', 'Bwd Pkt Len Mean', 'Idle Max', 'Bwd Pkt Len Max', 'Pkt Len Var', 'Active Min', 'Flow IAT Mean', 'Bwd PSH Flags'], 'Normal sample 1487': ['Init Bwd Win Byts', 'Bwd Pkt Len Mean', 'Active Std', 'Flow Duration', 'Tot Fwd Pkts', 'TotLen Bwd Pkts', 'Bwd Pkt Len Max', 'Bwd Pkt Len Min', 'Bwd Pkt Len Std', 'Flow IAT Mean'], 'Normal sample 1488': ['Init Bwd Win Byts', 'Idle Mean', 'Fwd IAT Std', 'Fwd IAT Max', 'Idle Min', 'Flow Duration', 'Subflow Bwd Byts', 'Subflow Bwd Pkts', 'Idle Max', 'Fwd IAT Mean'], 'Normal sample 1489': ['Init Bwd Win Byts', 'TotLen Fwd Pkts', 'Fwd IAT Min', 'Fwd IAT Mean', 'Bwd Pkt Len Mean', 'Bwd IAT Mean', 'Idle Max', 'Active Mean', 'Active Max', 'Tot Fwd Pkts'], 'Normal sample 1490': ['Init Bwd Win Byts', 'Bwd Pkt Len Std', 'Fwd IAT Tot', 'Idle Min', 'Flow Duration', 'Flow IAT Min', 'Fwd Header Len', 'Bwd Header Len', 'Idle Std', 'Idle Mean'], 'Normal sample 1491': ['Init Bwd Win Byts', 'Tot Fwd Pkts', 'Idle Max', 'PSH Flag Cnt', 'Bwd IAT Min', 'Active Mean', 'Bwd IAT Tot', 'Subflow Bwd Byts', 'Idle Mean', 'Subflow Fwd Byts'], 'Normal sample 1492': ['Init Bwd Win Byts', 'Idle Mean', 'Bwd Pkt Len Max', 'Fwd IAT Max', 'Fwd Pkts/s', 'Active Mean', 'Bwd IAT Min', 'Tot Bwd Pkts', 'Bwd Pkt Len Mean', 'Active Max'], 'Normal sample 1493': ['Flow Pkts/s', 'Down/Up Ratio', 'FIN Flag Cnt', 'Fwd Seg Size Avg', 'Pkt Len Min', 'Fwd Pkt Len Min', 'Bwd Seg Size Avg', 'Fwd IAT Mean', 'Pkt Size Avg', 'PSH Flag Cnt'], 'Normal sample 1494': ['SYN Flag Cnt', 'Fwd Seg Size Avg', 'Pkt Len Mean', 'Flow Byts/s', 'Pkt Len Min', 'Fwd IAT Min', 'Idle Std', 'Subflow Bwd Byts', 'Pkt Size Avg', 'TotLen Fwd Pkts'], 'Normal sample 1495': ['Init Bwd Win Byts', 'TotLen Bwd Pkts', 'Fwd Header Len', 'Subflow Fwd Byts', 'Fwd IAT Tot', 'Flow IAT Min', 'Fwd Act Data Pkts', 'Bwd Header Len', 'Bwd Seg Size Avg', 'Idle Min'], 'Normal sample 1496': ['Init Bwd Win Byts', 'Fwd Pkt Len Min', 'Fwd IAT Max', 'Fwd Pkt Len Std', 'Bwd IAT Max', 'Bwd Pkt Len Mean', 'TotLen Fwd Pkts', 'Fwd IAT Min', 'Fwd IAT Std', 'Bwd Pkt Len Std'], 'Normal sample 1497': ['Init Bwd Win Byts', 'Fwd Pkt Len Std', 'Idle Mean', 'Pkt Len Var', 'Bwd Pkt Len Std', 'Subflow Bwd Byts', 'Fwd Header Len', 'Flow Byts/s', 'Idle Min', 'Idle Std'], 'Normal sample 1498': ['Init Bwd Win Byts', 'Bwd Header Len', 'Flow IAT Std', 'Subflow Bwd Byts', 'Active Min', 'Bwd Seg Size Avg', 'Idle Min', 'Fwd IAT Tot', 'TotLen Fwd Pkts', 'Fwd Pkt Len Max'], 'Normal sample 1499': ['Down/Up Ratio', 'Pkt Len Std', 'Fwd IAT Max', 'Flow Pkts/s', 'Pkt Len Max', 'Fwd Pkt Len Mean', 'Bwd IAT Max', 'Bwd Pkt Len Min', 'Pkt Len Mean', 'Fwd Seg Size Avg']}\n"
          ]
        }
      ]
    },
    {
      "cell_type": "code",
      "source": [
        "len(data_dict)"
      ],
      "metadata": {
        "colab": {
          "base_uri": "https://localhost:8080/"
        },
        "id": "CDRmV6RRT6gS",
        "outputId": "860cdcf9-2b8b-4028-e68f-3e5eb6b774ec"
      },
      "execution_count": 19,
      "outputs": [
        {
          "output_type": "execute_result",
          "data": {
            "text/plain": [
              "1500"
            ]
          },
          "metadata": {},
          "execution_count": 19
        }
      ]
    },
    {
      "cell_type": "markdown",
      "source": [
        "# New whitelist: 38 top features with over 10k freq each"
      ],
      "metadata": {
        "id": "JyjDe5Kxredo"
      }
    },
    {
      "cell_type": "code",
      "source": [
        "df = pd.DataFrame.from_dict(data_dict, orient='index', columns=['Feature 1', 'Feature 2', 'Feature 3', 'Feature 4', 'Feature 5', 'Feature 6', 'Feature 7', 'Feature 8', 'Feature 9', 'Feature 10'])"
      ],
      "metadata": {
        "id": "HeFSTFLZeh1N"
      },
      "execution_count": 20,
      "outputs": []
    },
    {
      "cell_type": "code",
      "source": [
        "df.info()"
      ],
      "metadata": {
        "colab": {
          "base_uri": "https://localhost:8080/"
        },
        "id": "St0fe9Aye6ml",
        "outputId": "b46b3e5a-cf01-40d0-f112-b1625055428a"
      },
      "execution_count": 21,
      "outputs": [
        {
          "output_type": "stream",
          "name": "stdout",
          "text": [
            "<class 'pandas.core.frame.DataFrame'>\n",
            "Index: 1500 entries, Normal sample 0 to Normal sample 1499\n",
            "Data columns (total 10 columns):\n",
            " #   Column      Non-Null Count  Dtype \n",
            "---  ------      --------------  ----- \n",
            " 0   Feature 1   1500 non-null   object\n",
            " 1   Feature 2   1500 non-null   object\n",
            " 2   Feature 3   1500 non-null   object\n",
            " 3   Feature 4   1500 non-null   object\n",
            " 4   Feature 5   1500 non-null   object\n",
            " 5   Feature 6   1500 non-null   object\n",
            " 6   Feature 7   1500 non-null   object\n",
            " 7   Feature 8   1500 non-null   object\n",
            " 8   Feature 9   1500 non-null   object\n",
            " 9   Feature 10  1500 non-null   object\n",
            "dtypes: object(10)\n",
            "memory usage: 128.9+ KB\n"
          ]
        }
      ]
    },
    {
      "cell_type": "code",
      "source": [
        "df.head()"
      ],
      "metadata": {
        "colab": {
          "base_uri": "https://localhost:8080/",
          "height": 250
        },
        "id": "z0LoK7TwTTFN",
        "outputId": "b198cd4e-121a-48c0-81e5-db51b7540cef"
      },
      "execution_count": 22,
      "outputs": [
        {
          "output_type": "execute_result",
          "data": {
            "text/plain": [
              "                         Feature 1          Feature 2        Feature 3  \\\n",
              "Normal sample 0       ACK Flag Cnt        Bwd IAT Max  Bwd Pkt Len Max   \n",
              "Normal sample 1  Init Bwd Win Byts        Fwd IAT Max         Idle Min   \n",
              "Normal sample 2  Init Bwd Win Byts        Pkt Len Var  Fwd Pkt Len Std   \n",
              "Normal sample 3  Init Bwd Win Byts  Fwd Act Data Pkts    Flow IAT Mean   \n",
              "Normal sample 4       SYN Flag Cnt           Idle Min     Tot Fwd Pkts   \n",
              "\n",
              "                        Feature 4     Feature 5        Feature 6  \\\n",
              "Normal sample 0          Idle Max   Bwd IAT Tot   Bwd Header Len   \n",
              "Normal sample 1       Fwd IAT Tot      Idle Max      Fwd IAT Std   \n",
              "Normal sample 2  Subflow Bwd Byts  Tot Bwd Pkts        Idle Mean   \n",
              "Normal sample 3   Fwd Pkt Len Max      Idle Max      Bwd IAT Min   \n",
              "Normal sample 4      ACK Flag Cnt   Fwd IAT Tot  TotLen Fwd Pkts   \n",
              "\n",
              "                      Feature 7       Feature 8     Feature 9  \\\n",
              "Normal sample 0        Idle Std    Tot Fwd Pkts  Tot Bwd Pkts   \n",
              "Normal sample 1       Idle Mean  Bwd Header Len  Fwd IAT Mean   \n",
              "Normal sample 2     Fwd IAT Std     Active Mean  Flow IAT Min   \n",
              "Normal sample 3  Bwd Header Len      Active Min  Bwd IAT Mean   \n",
              "Normal sample 4    Fwd IAT Mean     Bwd IAT Min  Bwd IAT Mean   \n",
              "\n",
              "                       Feature 10  \n",
              "Normal sample 0   TotLen Bwd Pkts  \n",
              "Normal sample 1        Active Max  \n",
              "Normal sample 2   Bwd Pkt Len Max  \n",
              "Normal sample 3  Subflow Bwd Byts  \n",
              "Normal sample 4       Flow Byts/s  "
            ],
            "text/html": [
              "\n",
              "  <div id=\"df-f4e7ae35-c12f-45d6-8430-59c200798bc9\">\n",
              "    <div class=\"colab-df-container\">\n",
              "      <div>\n",
              "<style scoped>\n",
              "    .dataframe tbody tr th:only-of-type {\n",
              "        vertical-align: middle;\n",
              "    }\n",
              "\n",
              "    .dataframe tbody tr th {\n",
              "        vertical-align: top;\n",
              "    }\n",
              "\n",
              "    .dataframe thead th {\n",
              "        text-align: right;\n",
              "    }\n",
              "</style>\n",
              "<table border=\"1\" class=\"dataframe\">\n",
              "  <thead>\n",
              "    <tr style=\"text-align: right;\">\n",
              "      <th></th>\n",
              "      <th>Feature 1</th>\n",
              "      <th>Feature 2</th>\n",
              "      <th>Feature 3</th>\n",
              "      <th>Feature 4</th>\n",
              "      <th>Feature 5</th>\n",
              "      <th>Feature 6</th>\n",
              "      <th>Feature 7</th>\n",
              "      <th>Feature 8</th>\n",
              "      <th>Feature 9</th>\n",
              "      <th>Feature 10</th>\n",
              "    </tr>\n",
              "  </thead>\n",
              "  <tbody>\n",
              "    <tr>\n",
              "      <th>Normal sample 0</th>\n",
              "      <td>ACK Flag Cnt</td>\n",
              "      <td>Bwd IAT Max</td>\n",
              "      <td>Bwd Pkt Len Max</td>\n",
              "      <td>Idle Max</td>\n",
              "      <td>Bwd IAT Tot</td>\n",
              "      <td>Bwd Header Len</td>\n",
              "      <td>Idle Std</td>\n",
              "      <td>Tot Fwd Pkts</td>\n",
              "      <td>Tot Bwd Pkts</td>\n",
              "      <td>TotLen Bwd Pkts</td>\n",
              "    </tr>\n",
              "    <tr>\n",
              "      <th>Normal sample 1</th>\n",
              "      <td>Init Bwd Win Byts</td>\n",
              "      <td>Fwd IAT Max</td>\n",
              "      <td>Idle Min</td>\n",
              "      <td>Fwd IAT Tot</td>\n",
              "      <td>Idle Max</td>\n",
              "      <td>Fwd IAT Std</td>\n",
              "      <td>Idle Mean</td>\n",
              "      <td>Bwd Header Len</td>\n",
              "      <td>Fwd IAT Mean</td>\n",
              "      <td>Active Max</td>\n",
              "    </tr>\n",
              "    <tr>\n",
              "      <th>Normal sample 2</th>\n",
              "      <td>Init Bwd Win Byts</td>\n",
              "      <td>Pkt Len Var</td>\n",
              "      <td>Fwd Pkt Len Std</td>\n",
              "      <td>Subflow Bwd Byts</td>\n",
              "      <td>Tot Bwd Pkts</td>\n",
              "      <td>Idle Mean</td>\n",
              "      <td>Fwd IAT Std</td>\n",
              "      <td>Active Mean</td>\n",
              "      <td>Flow IAT Min</td>\n",
              "      <td>Bwd Pkt Len Max</td>\n",
              "    </tr>\n",
              "    <tr>\n",
              "      <th>Normal sample 3</th>\n",
              "      <td>Init Bwd Win Byts</td>\n",
              "      <td>Fwd Act Data Pkts</td>\n",
              "      <td>Flow IAT Mean</td>\n",
              "      <td>Fwd Pkt Len Max</td>\n",
              "      <td>Idle Max</td>\n",
              "      <td>Bwd IAT Min</td>\n",
              "      <td>Bwd Header Len</td>\n",
              "      <td>Active Min</td>\n",
              "      <td>Bwd IAT Mean</td>\n",
              "      <td>Subflow Bwd Byts</td>\n",
              "    </tr>\n",
              "    <tr>\n",
              "      <th>Normal sample 4</th>\n",
              "      <td>SYN Flag Cnt</td>\n",
              "      <td>Idle Min</td>\n",
              "      <td>Tot Fwd Pkts</td>\n",
              "      <td>ACK Flag Cnt</td>\n",
              "      <td>Fwd IAT Tot</td>\n",
              "      <td>TotLen Fwd Pkts</td>\n",
              "      <td>Fwd IAT Mean</td>\n",
              "      <td>Bwd IAT Min</td>\n",
              "      <td>Bwd IAT Mean</td>\n",
              "      <td>Flow Byts/s</td>\n",
              "    </tr>\n",
              "  </tbody>\n",
              "</table>\n",
              "</div>\n",
              "      <button class=\"colab-df-convert\" onclick=\"convertToInteractive('df-f4e7ae35-c12f-45d6-8430-59c200798bc9')\"\n",
              "              title=\"Convert this dataframe to an interactive table.\"\n",
              "              style=\"display:none;\">\n",
              "        \n",
              "  <svg xmlns=\"http://www.w3.org/2000/svg\" height=\"24px\"viewBox=\"0 0 24 24\"\n",
              "       width=\"24px\">\n",
              "    <path d=\"M0 0h24v24H0V0z\" fill=\"none\"/>\n",
              "    <path d=\"M18.56 5.44l.94 2.06.94-2.06 2.06-.94-2.06-.94-.94-2.06-.94 2.06-2.06.94zm-11 1L8.5 8.5l.94-2.06 2.06-.94-2.06-.94L8.5 2.5l-.94 2.06-2.06.94zm10 10l.94 2.06.94-2.06 2.06-.94-2.06-.94-.94-2.06-.94 2.06-2.06.94z\"/><path d=\"M17.41 7.96l-1.37-1.37c-.4-.4-.92-.59-1.43-.59-.52 0-1.04.2-1.43.59L10.3 9.45l-7.72 7.72c-.78.78-.78 2.05 0 2.83L4 21.41c.39.39.9.59 1.41.59.51 0 1.02-.2 1.41-.59l7.78-7.78 2.81-2.81c.8-.78.8-2.07 0-2.86zM5.41 20L4 18.59l7.72-7.72 1.47 1.35L5.41 20z\"/>\n",
              "  </svg>\n",
              "      </button>\n",
              "      \n",
              "  <style>\n",
              "    .colab-df-container {\n",
              "      display:flex;\n",
              "      flex-wrap:wrap;\n",
              "      gap: 12px;\n",
              "    }\n",
              "\n",
              "    .colab-df-convert {\n",
              "      background-color: #E8F0FE;\n",
              "      border: none;\n",
              "      border-radius: 50%;\n",
              "      cursor: pointer;\n",
              "      display: none;\n",
              "      fill: #1967D2;\n",
              "      height: 32px;\n",
              "      padding: 0 0 0 0;\n",
              "      width: 32px;\n",
              "    }\n",
              "\n",
              "    .colab-df-convert:hover {\n",
              "      background-color: #E2EBFA;\n",
              "      box-shadow: 0px 1px 2px rgba(60, 64, 67, 0.3), 0px 1px 3px 1px rgba(60, 64, 67, 0.15);\n",
              "      fill: #174EA6;\n",
              "    }\n",
              "\n",
              "    [theme=dark] .colab-df-convert {\n",
              "      background-color: #3B4455;\n",
              "      fill: #D2E3FC;\n",
              "    }\n",
              "\n",
              "    [theme=dark] .colab-df-convert:hover {\n",
              "      background-color: #434B5C;\n",
              "      box-shadow: 0px 1px 3px 1px rgba(0, 0, 0, 0.15);\n",
              "      filter: drop-shadow(0px 1px 2px rgba(0, 0, 0, 0.3));\n",
              "      fill: #FFFFFF;\n",
              "    }\n",
              "  </style>\n",
              "\n",
              "      <script>\n",
              "        const buttonEl =\n",
              "          document.querySelector('#df-f4e7ae35-c12f-45d6-8430-59c200798bc9 button.colab-df-convert');\n",
              "        buttonEl.style.display =\n",
              "          google.colab.kernel.accessAllowed ? 'block' : 'none';\n",
              "\n",
              "        async function convertToInteractive(key) {\n",
              "          const element = document.querySelector('#df-f4e7ae35-c12f-45d6-8430-59c200798bc9');\n",
              "          const dataTable =\n",
              "            await google.colab.kernel.invokeFunction('convertToInteractive',\n",
              "                                                     [key], {});\n",
              "          if (!dataTable) return;\n",
              "\n",
              "          const docLinkHtml = 'Like what you see? Visit the ' +\n",
              "            '<a target=\"_blank\" href=https://colab.research.google.com/notebooks/data_table.ipynb>data table notebook</a>'\n",
              "            + ' to learn more about interactive tables.';\n",
              "          element.innerHTML = '';\n",
              "          dataTable['output_type'] = 'display_data';\n",
              "          await google.colab.output.renderOutput(dataTable, element);\n",
              "          const docLink = document.createElement('div');\n",
              "          docLink.innerHTML = docLinkHtml;\n",
              "          element.appendChild(docLink);\n",
              "        }\n",
              "      </script>\n",
              "    </div>\n",
              "  </div>\n",
              "  "
            ]
          },
          "metadata": {},
          "execution_count": 22
        }
      ]
    },
    {
      "cell_type": "code",
      "source": [
        "df.to_csv('/content/drive/MyDrive/MLP_top10_of_each_normalfile.csv')"
      ],
      "metadata": {
        "id": "OgypaVUtfFHD"
      },
      "execution_count": null,
      "outputs": []
    },
    {
      "cell_type": "code",
      "source": [
        "freq = {}\n",
        "for column in df.columns:\n",
        "  for feature in df[column]:\n",
        "    if feature in freq:\n",
        "      continue\n",
        "    else:\n",
        "      count = sum(df[column_2] == feature for column_2 in df.columns)\n",
        "      freq[feature] = count.sum()\n",
        "      print(freq[feature])"
      ],
      "metadata": {
        "colab": {
          "base_uri": "https://localhost:8080/"
        },
        "id": "LAINpgS9ikN8",
        "outputId": "c168be45-77ae-4331-c10e-c7cb0efbadda"
      },
      "execution_count": 23,
      "outputs": [
        {
          "output_type": "stream",
          "name": "stdout",
          "text": [
            "146\n",
            "786\n",
            "293\n",
            "245\n",
            "341\n",
            "364\n",
            "184\n",
            "265\n",
            "276\n",
            "89\n",
            "413\n",
            "15\n",
            "174\n",
            "3\n",
            "531\n",
            "449\n",
            "181\n",
            "432\n",
            "169\n",
            "203\n",
            "205\n",
            "273\n",
            "399\n",
            "395\n",
            "296\n",
            "323\n",
            "164\n",
            "308\n",
            "172\n",
            "170\n",
            "202\n",
            "372\n",
            "546\n",
            "191\n",
            "382\n",
            "210\n",
            "143\n",
            "158\n",
            "273\n",
            "167\n",
            "175\n",
            "143\n",
            "224\n",
            "186\n",
            "74\n",
            "184\n",
            "198\n",
            "373\n",
            "150\n",
            "231\n",
            "140\n",
            "275\n",
            "176\n",
            "200\n",
            "122\n",
            "135\n",
            "208\n",
            "231\n",
            "207\n",
            "147\n",
            "170\n",
            "136\n",
            "3\n",
            "2\n",
            "2\n"
          ]
        }
      ]
    },
    {
      "cell_type": "code",
      "source": [
        "len(freq)"
      ],
      "metadata": {
        "colab": {
          "base_uri": "https://localhost:8080/"
        },
        "id": "7SNJ0BhvVZKd",
        "outputId": "acda4810-a802-44e5-e8b0-0e7b2318aa0a"
      },
      "execution_count": 24,
      "outputs": [
        {
          "output_type": "execute_result",
          "data": {
            "text/plain": [
              "65"
            ]
          },
          "metadata": {},
          "execution_count": 24
        }
      ]
    },
    {
      "cell_type": "code",
      "source": [
        "freq_df = pd.DataFrame(list(freq.items()), columns=['Feature', 'Frequency'])\n",
        "freq_df.head()"
      ],
      "metadata": {
        "colab": {
          "base_uri": "https://localhost:8080/",
          "height": 206
        },
        "id": "v_oz2bDBnGu7",
        "outputId": "ae92fba5-6ef9-4392-bd0c-ad3ef1945353"
      },
      "execution_count": 25,
      "outputs": [
        {
          "output_type": "execute_result",
          "data": {
            "text/plain": [
              "             Feature  Frequency\n",
              "0       ACK Flag Cnt        146\n",
              "1  Init Bwd Win Byts        786\n",
              "2       SYN Flag Cnt        293\n",
              "3      Down/Up Ratio        245\n",
              "4        Bwd IAT Tot        341"
            ],
            "text/html": [
              "\n",
              "  <div id=\"df-c13b204a-9b5e-4839-9986-aff96ddbf5fc\">\n",
              "    <div class=\"colab-df-container\">\n",
              "      <div>\n",
              "<style scoped>\n",
              "    .dataframe tbody tr th:only-of-type {\n",
              "        vertical-align: middle;\n",
              "    }\n",
              "\n",
              "    .dataframe tbody tr th {\n",
              "        vertical-align: top;\n",
              "    }\n",
              "\n",
              "    .dataframe thead th {\n",
              "        text-align: right;\n",
              "    }\n",
              "</style>\n",
              "<table border=\"1\" class=\"dataframe\">\n",
              "  <thead>\n",
              "    <tr style=\"text-align: right;\">\n",
              "      <th></th>\n",
              "      <th>Feature</th>\n",
              "      <th>Frequency</th>\n",
              "    </tr>\n",
              "  </thead>\n",
              "  <tbody>\n",
              "    <tr>\n",
              "      <th>0</th>\n",
              "      <td>ACK Flag Cnt</td>\n",
              "      <td>146</td>\n",
              "    </tr>\n",
              "    <tr>\n",
              "      <th>1</th>\n",
              "      <td>Init Bwd Win Byts</td>\n",
              "      <td>786</td>\n",
              "    </tr>\n",
              "    <tr>\n",
              "      <th>2</th>\n",
              "      <td>SYN Flag Cnt</td>\n",
              "      <td>293</td>\n",
              "    </tr>\n",
              "    <tr>\n",
              "      <th>3</th>\n",
              "      <td>Down/Up Ratio</td>\n",
              "      <td>245</td>\n",
              "    </tr>\n",
              "    <tr>\n",
              "      <th>4</th>\n",
              "      <td>Bwd IAT Tot</td>\n",
              "      <td>341</td>\n",
              "    </tr>\n",
              "  </tbody>\n",
              "</table>\n",
              "</div>\n",
              "      <button class=\"colab-df-convert\" onclick=\"convertToInteractive('df-c13b204a-9b5e-4839-9986-aff96ddbf5fc')\"\n",
              "              title=\"Convert this dataframe to an interactive table.\"\n",
              "              style=\"display:none;\">\n",
              "        \n",
              "  <svg xmlns=\"http://www.w3.org/2000/svg\" height=\"24px\"viewBox=\"0 0 24 24\"\n",
              "       width=\"24px\">\n",
              "    <path d=\"M0 0h24v24H0V0z\" fill=\"none\"/>\n",
              "    <path d=\"M18.56 5.44l.94 2.06.94-2.06 2.06-.94-2.06-.94-.94-2.06-.94 2.06-2.06.94zm-11 1L8.5 8.5l.94-2.06 2.06-.94-2.06-.94L8.5 2.5l-.94 2.06-2.06.94zm10 10l.94 2.06.94-2.06 2.06-.94-2.06-.94-.94-2.06-.94 2.06-2.06.94z\"/><path d=\"M17.41 7.96l-1.37-1.37c-.4-.4-.92-.59-1.43-.59-.52 0-1.04.2-1.43.59L10.3 9.45l-7.72 7.72c-.78.78-.78 2.05 0 2.83L4 21.41c.39.39.9.59 1.41.59.51 0 1.02-.2 1.41-.59l7.78-7.78 2.81-2.81c.8-.78.8-2.07 0-2.86zM5.41 20L4 18.59l7.72-7.72 1.47 1.35L5.41 20z\"/>\n",
              "  </svg>\n",
              "      </button>\n",
              "      \n",
              "  <style>\n",
              "    .colab-df-container {\n",
              "      display:flex;\n",
              "      flex-wrap:wrap;\n",
              "      gap: 12px;\n",
              "    }\n",
              "\n",
              "    .colab-df-convert {\n",
              "      background-color: #E8F0FE;\n",
              "      border: none;\n",
              "      border-radius: 50%;\n",
              "      cursor: pointer;\n",
              "      display: none;\n",
              "      fill: #1967D2;\n",
              "      height: 32px;\n",
              "      padding: 0 0 0 0;\n",
              "      width: 32px;\n",
              "    }\n",
              "\n",
              "    .colab-df-convert:hover {\n",
              "      background-color: #E2EBFA;\n",
              "      box-shadow: 0px 1px 2px rgba(60, 64, 67, 0.3), 0px 1px 3px 1px rgba(60, 64, 67, 0.15);\n",
              "      fill: #174EA6;\n",
              "    }\n",
              "\n",
              "    [theme=dark] .colab-df-convert {\n",
              "      background-color: #3B4455;\n",
              "      fill: #D2E3FC;\n",
              "    }\n",
              "\n",
              "    [theme=dark] .colab-df-convert:hover {\n",
              "      background-color: #434B5C;\n",
              "      box-shadow: 0px 1px 3px 1px rgba(0, 0, 0, 0.15);\n",
              "      filter: drop-shadow(0px 1px 2px rgba(0, 0, 0, 0.3));\n",
              "      fill: #FFFFFF;\n",
              "    }\n",
              "  </style>\n",
              "\n",
              "      <script>\n",
              "        const buttonEl =\n",
              "          document.querySelector('#df-c13b204a-9b5e-4839-9986-aff96ddbf5fc button.colab-df-convert');\n",
              "        buttonEl.style.display =\n",
              "          google.colab.kernel.accessAllowed ? 'block' : 'none';\n",
              "\n",
              "        async function convertToInteractive(key) {\n",
              "          const element = document.querySelector('#df-c13b204a-9b5e-4839-9986-aff96ddbf5fc');\n",
              "          const dataTable =\n",
              "            await google.colab.kernel.invokeFunction('convertToInteractive',\n",
              "                                                     [key], {});\n",
              "          if (!dataTable) return;\n",
              "\n",
              "          const docLinkHtml = 'Like what you see? Visit the ' +\n",
              "            '<a target=\"_blank\" href=https://colab.research.google.com/notebooks/data_table.ipynb>data table notebook</a>'\n",
              "            + ' to learn more about interactive tables.';\n",
              "          element.innerHTML = '';\n",
              "          dataTable['output_type'] = 'display_data';\n",
              "          await google.colab.output.renderOutput(dataTable, element);\n",
              "          const docLink = document.createElement('div');\n",
              "          docLink.innerHTML = docLinkHtml;\n",
              "          element.appendChild(docLink);\n",
              "        }\n",
              "      </script>\n",
              "    </div>\n",
              "  </div>\n",
              "  "
            ]
          },
          "metadata": {},
          "execution_count": 25
        }
      ]
    },
    {
      "cell_type": "code",
      "source": [
        "freq_df.sort_values(by=['Frequency'], ascending=False, inplace=True)\n",
        "freq_df.info()"
      ],
      "metadata": {
        "colab": {
          "base_uri": "https://localhost:8080/"
        },
        "id": "add06FW7nZhH",
        "outputId": "03bdc368-8e36-4ec2-b773-82904c5e6b9a"
      },
      "execution_count": 26,
      "outputs": [
        {
          "output_type": "stream",
          "name": "stdout",
          "text": [
            "<class 'pandas.core.frame.DataFrame'>\n",
            "Int64Index: 65 entries, 1 to 64\n",
            "Data columns (total 2 columns):\n",
            " #   Column     Non-Null Count  Dtype \n",
            "---  ------     --------------  ----- \n",
            " 0   Feature    65 non-null     object\n",
            " 1   Frequency  65 non-null     int64 \n",
            "dtypes: int64(1), object(1)\n",
            "memory usage: 1.5+ KB\n"
          ]
        }
      ]
    },
    {
      "cell_type": "code",
      "source": [
        "freq_df.head(38)"
      ],
      "metadata": {
        "colab": {
          "base_uri": "https://localhost:8080/",
          "height": 1000
        },
        "id": "jLV5VBrguBWd",
        "outputId": "4577c2ff-33e2-42d2-abb8-700c5d95d300"
      },
      "execution_count": 28,
      "outputs": [
        {
          "output_type": "execute_result",
          "data": {
            "text/plain": [
              "              Feature  Frequency\n",
              "1   Init Bwd Win Byts        786\n",
              "32           Idle Max        546\n",
              "14    Bwd Pkt Len Max        531\n",
              "15          Idle Mean        449\n",
              "17       Tot Fwd Pkts        432\n",
              "10           Idle Min        413\n",
              "22    Bwd Pkt Len Std        399\n",
              "23       Tot Bwd Pkts        395\n",
              "34   Bwd Pkt Len Mean        382\n",
              "47    TotLen Fwd Pkts        373\n",
              "31    TotLen Bwd Pkts        372\n",
              "5         Bwd IAT Max        364\n",
              "4         Bwd IAT Tot        341\n",
              "25        Fwd IAT Max        323\n",
              "27   Bwd Seg Size Avg        308\n",
              "24        Pkt Len Min        296\n",
              "2        SYN Flag Cnt        293\n",
              "8       Flow Duration        276\n",
              "51    Fwd Pkt Len Std        275\n",
              "38        Fwd IAT Tot        273\n",
              "21        Bwd IAT Std        273\n",
              "7         Flow Pkts/s        265\n",
              "3       Down/Up Ratio        245\n",
              "57        Fwd IAT Std        231\n",
              "49    Fwd Pkt Len Min        231\n",
              "42    Fwd Pkt Len Max        224\n",
              "35   Subflow Bwd Pkts        210\n",
              "56    Bwd Pkt Len Min        208\n",
              "58      Flow IAT Mean        207\n",
              "20       Flow IAT Min        205\n",
              "19        Fwd IAT Min        203\n",
              "30       Bwd IAT Mean        202\n",
              "53        Bwd IAT Min        200\n",
              "46     Bwd Header Len        198\n",
              "33   Subflow Bwd Byts        191\n",
              "43   Subflow Fwd Byts        186\n",
              "45     Fwd Header Len        184\n",
              "6       Bwd PSH Flags        184"
            ],
            "text/html": [
              "\n",
              "  <div id=\"df-1693b25c-0ba7-45d6-9702-aae0d9be1e4f\">\n",
              "    <div class=\"colab-df-container\">\n",
              "      <div>\n",
              "<style scoped>\n",
              "    .dataframe tbody tr th:only-of-type {\n",
              "        vertical-align: middle;\n",
              "    }\n",
              "\n",
              "    .dataframe tbody tr th {\n",
              "        vertical-align: top;\n",
              "    }\n",
              "\n",
              "    .dataframe thead th {\n",
              "        text-align: right;\n",
              "    }\n",
              "</style>\n",
              "<table border=\"1\" class=\"dataframe\">\n",
              "  <thead>\n",
              "    <tr style=\"text-align: right;\">\n",
              "      <th></th>\n",
              "      <th>Feature</th>\n",
              "      <th>Frequency</th>\n",
              "    </tr>\n",
              "  </thead>\n",
              "  <tbody>\n",
              "    <tr>\n",
              "      <th>1</th>\n",
              "      <td>Init Bwd Win Byts</td>\n",
              "      <td>786</td>\n",
              "    </tr>\n",
              "    <tr>\n",
              "      <th>32</th>\n",
              "      <td>Idle Max</td>\n",
              "      <td>546</td>\n",
              "    </tr>\n",
              "    <tr>\n",
              "      <th>14</th>\n",
              "      <td>Bwd Pkt Len Max</td>\n",
              "      <td>531</td>\n",
              "    </tr>\n",
              "    <tr>\n",
              "      <th>15</th>\n",
              "      <td>Idle Mean</td>\n",
              "      <td>449</td>\n",
              "    </tr>\n",
              "    <tr>\n",
              "      <th>17</th>\n",
              "      <td>Tot Fwd Pkts</td>\n",
              "      <td>432</td>\n",
              "    </tr>\n",
              "    <tr>\n",
              "      <th>10</th>\n",
              "      <td>Idle Min</td>\n",
              "      <td>413</td>\n",
              "    </tr>\n",
              "    <tr>\n",
              "      <th>22</th>\n",
              "      <td>Bwd Pkt Len Std</td>\n",
              "      <td>399</td>\n",
              "    </tr>\n",
              "    <tr>\n",
              "      <th>23</th>\n",
              "      <td>Tot Bwd Pkts</td>\n",
              "      <td>395</td>\n",
              "    </tr>\n",
              "    <tr>\n",
              "      <th>34</th>\n",
              "      <td>Bwd Pkt Len Mean</td>\n",
              "      <td>382</td>\n",
              "    </tr>\n",
              "    <tr>\n",
              "      <th>47</th>\n",
              "      <td>TotLen Fwd Pkts</td>\n",
              "      <td>373</td>\n",
              "    </tr>\n",
              "    <tr>\n",
              "      <th>31</th>\n",
              "      <td>TotLen Bwd Pkts</td>\n",
              "      <td>372</td>\n",
              "    </tr>\n",
              "    <tr>\n",
              "      <th>5</th>\n",
              "      <td>Bwd IAT Max</td>\n",
              "      <td>364</td>\n",
              "    </tr>\n",
              "    <tr>\n",
              "      <th>4</th>\n",
              "      <td>Bwd IAT Tot</td>\n",
              "      <td>341</td>\n",
              "    </tr>\n",
              "    <tr>\n",
              "      <th>25</th>\n",
              "      <td>Fwd IAT Max</td>\n",
              "      <td>323</td>\n",
              "    </tr>\n",
              "    <tr>\n",
              "      <th>27</th>\n",
              "      <td>Bwd Seg Size Avg</td>\n",
              "      <td>308</td>\n",
              "    </tr>\n",
              "    <tr>\n",
              "      <th>24</th>\n",
              "      <td>Pkt Len Min</td>\n",
              "      <td>296</td>\n",
              "    </tr>\n",
              "    <tr>\n",
              "      <th>2</th>\n",
              "      <td>SYN Flag Cnt</td>\n",
              "      <td>293</td>\n",
              "    </tr>\n",
              "    <tr>\n",
              "      <th>8</th>\n",
              "      <td>Flow Duration</td>\n",
              "      <td>276</td>\n",
              "    </tr>\n",
              "    <tr>\n",
              "      <th>51</th>\n",
              "      <td>Fwd Pkt Len Std</td>\n",
              "      <td>275</td>\n",
              "    </tr>\n",
              "    <tr>\n",
              "      <th>38</th>\n",
              "      <td>Fwd IAT Tot</td>\n",
              "      <td>273</td>\n",
              "    </tr>\n",
              "    <tr>\n",
              "      <th>21</th>\n",
              "      <td>Bwd IAT Std</td>\n",
              "      <td>273</td>\n",
              "    </tr>\n",
              "    <tr>\n",
              "      <th>7</th>\n",
              "      <td>Flow Pkts/s</td>\n",
              "      <td>265</td>\n",
              "    </tr>\n",
              "    <tr>\n",
              "      <th>3</th>\n",
              "      <td>Down/Up Ratio</td>\n",
              "      <td>245</td>\n",
              "    </tr>\n",
              "    <tr>\n",
              "      <th>57</th>\n",
              "      <td>Fwd IAT Std</td>\n",
              "      <td>231</td>\n",
              "    </tr>\n",
              "    <tr>\n",
              "      <th>49</th>\n",
              "      <td>Fwd Pkt Len Min</td>\n",
              "      <td>231</td>\n",
              "    </tr>\n",
              "    <tr>\n",
              "      <th>42</th>\n",
              "      <td>Fwd Pkt Len Max</td>\n",
              "      <td>224</td>\n",
              "    </tr>\n",
              "    <tr>\n",
              "      <th>35</th>\n",
              "      <td>Subflow Bwd Pkts</td>\n",
              "      <td>210</td>\n",
              "    </tr>\n",
              "    <tr>\n",
              "      <th>56</th>\n",
              "      <td>Bwd Pkt Len Min</td>\n",
              "      <td>208</td>\n",
              "    </tr>\n",
              "    <tr>\n",
              "      <th>58</th>\n",
              "      <td>Flow IAT Mean</td>\n",
              "      <td>207</td>\n",
              "    </tr>\n",
              "    <tr>\n",
              "      <th>20</th>\n",
              "      <td>Flow IAT Min</td>\n",
              "      <td>205</td>\n",
              "    </tr>\n",
              "    <tr>\n",
              "      <th>19</th>\n",
              "      <td>Fwd IAT Min</td>\n",
              "      <td>203</td>\n",
              "    </tr>\n",
              "    <tr>\n",
              "      <th>30</th>\n",
              "      <td>Bwd IAT Mean</td>\n",
              "      <td>202</td>\n",
              "    </tr>\n",
              "    <tr>\n",
              "      <th>53</th>\n",
              "      <td>Bwd IAT Min</td>\n",
              "      <td>200</td>\n",
              "    </tr>\n",
              "    <tr>\n",
              "      <th>46</th>\n",
              "      <td>Bwd Header Len</td>\n",
              "      <td>198</td>\n",
              "    </tr>\n",
              "    <tr>\n",
              "      <th>33</th>\n",
              "      <td>Subflow Bwd Byts</td>\n",
              "      <td>191</td>\n",
              "    </tr>\n",
              "    <tr>\n",
              "      <th>43</th>\n",
              "      <td>Subflow Fwd Byts</td>\n",
              "      <td>186</td>\n",
              "    </tr>\n",
              "    <tr>\n",
              "      <th>45</th>\n",
              "      <td>Fwd Header Len</td>\n",
              "      <td>184</td>\n",
              "    </tr>\n",
              "    <tr>\n",
              "      <th>6</th>\n",
              "      <td>Bwd PSH Flags</td>\n",
              "      <td>184</td>\n",
              "    </tr>\n",
              "  </tbody>\n",
              "</table>\n",
              "</div>\n",
              "      <button class=\"colab-df-convert\" onclick=\"convertToInteractive('df-1693b25c-0ba7-45d6-9702-aae0d9be1e4f')\"\n",
              "              title=\"Convert this dataframe to an interactive table.\"\n",
              "              style=\"display:none;\">\n",
              "        \n",
              "  <svg xmlns=\"http://www.w3.org/2000/svg\" height=\"24px\"viewBox=\"0 0 24 24\"\n",
              "       width=\"24px\">\n",
              "    <path d=\"M0 0h24v24H0V0z\" fill=\"none\"/>\n",
              "    <path d=\"M18.56 5.44l.94 2.06.94-2.06 2.06-.94-2.06-.94-.94-2.06-.94 2.06-2.06.94zm-11 1L8.5 8.5l.94-2.06 2.06-.94-2.06-.94L8.5 2.5l-.94 2.06-2.06.94zm10 10l.94 2.06.94-2.06 2.06-.94-2.06-.94-.94-2.06-.94 2.06-2.06.94z\"/><path d=\"M17.41 7.96l-1.37-1.37c-.4-.4-.92-.59-1.43-.59-.52 0-1.04.2-1.43.59L10.3 9.45l-7.72 7.72c-.78.78-.78 2.05 0 2.83L4 21.41c.39.39.9.59 1.41.59.51 0 1.02-.2 1.41-.59l7.78-7.78 2.81-2.81c.8-.78.8-2.07 0-2.86zM5.41 20L4 18.59l7.72-7.72 1.47 1.35L5.41 20z\"/>\n",
              "  </svg>\n",
              "      </button>\n",
              "      \n",
              "  <style>\n",
              "    .colab-df-container {\n",
              "      display:flex;\n",
              "      flex-wrap:wrap;\n",
              "      gap: 12px;\n",
              "    }\n",
              "\n",
              "    .colab-df-convert {\n",
              "      background-color: #E8F0FE;\n",
              "      border: none;\n",
              "      border-radius: 50%;\n",
              "      cursor: pointer;\n",
              "      display: none;\n",
              "      fill: #1967D2;\n",
              "      height: 32px;\n",
              "      padding: 0 0 0 0;\n",
              "      width: 32px;\n",
              "    }\n",
              "\n",
              "    .colab-df-convert:hover {\n",
              "      background-color: #E2EBFA;\n",
              "      box-shadow: 0px 1px 2px rgba(60, 64, 67, 0.3), 0px 1px 3px 1px rgba(60, 64, 67, 0.15);\n",
              "      fill: #174EA6;\n",
              "    }\n",
              "\n",
              "    [theme=dark] .colab-df-convert {\n",
              "      background-color: #3B4455;\n",
              "      fill: #D2E3FC;\n",
              "    }\n",
              "\n",
              "    [theme=dark] .colab-df-convert:hover {\n",
              "      background-color: #434B5C;\n",
              "      box-shadow: 0px 1px 3px 1px rgba(0, 0, 0, 0.15);\n",
              "      filter: drop-shadow(0px 1px 2px rgba(0, 0, 0, 0.3));\n",
              "      fill: #FFFFFF;\n",
              "    }\n",
              "  </style>\n",
              "\n",
              "      <script>\n",
              "        const buttonEl =\n",
              "          document.querySelector('#df-1693b25c-0ba7-45d6-9702-aae0d9be1e4f button.colab-df-convert');\n",
              "        buttonEl.style.display =\n",
              "          google.colab.kernel.accessAllowed ? 'block' : 'none';\n",
              "\n",
              "        async function convertToInteractive(key) {\n",
              "          const element = document.querySelector('#df-1693b25c-0ba7-45d6-9702-aae0d9be1e4f');\n",
              "          const dataTable =\n",
              "            await google.colab.kernel.invokeFunction('convertToInteractive',\n",
              "                                                     [key], {});\n",
              "          if (!dataTable) return;\n",
              "\n",
              "          const docLinkHtml = 'Like what you see? Visit the ' +\n",
              "            '<a target=\"_blank\" href=https://colab.research.google.com/notebooks/data_table.ipynb>data table notebook</a>'\n",
              "            + ' to learn more about interactive tables.';\n",
              "          element.innerHTML = '';\n",
              "          dataTable['output_type'] = 'display_data';\n",
              "          await google.colab.output.renderOutput(dataTable, element);\n",
              "          const docLink = document.createElement('div');\n",
              "          docLink.innerHTML = docLinkHtml;\n",
              "          element.appendChild(docLink);\n",
              "        }\n",
              "      </script>\n",
              "    </div>\n",
              "  </div>\n",
              "  "
            ]
          },
          "metadata": {},
          "execution_count": 28
        }
      ]
    },
    {
      "cell_type": "code",
      "source": [
        "freq_df.to_csv('/content/drive/MyDrive/MLP_top24_InSDN.csv', index=False)"
      ],
      "metadata": {
        "id": "YU2TkWAjnl7s"
      },
      "execution_count": 31,
      "outputs": []
    },
    {
      "cell_type": "markdown",
      "source": [
        "# Detect normal samples"
      ],
      "metadata": {
        "id": "Csd7930IX6WM"
      }
    },
    {
      "cell_type": "code",
      "source": [
        "whitelist = freq_df.iloc[:, 0][:51].tolist()\n",
        "print(whitelist)"
      ],
      "metadata": {
        "colab": {
          "base_uri": "https://localhost:8080/"
        },
        "id": "RC9AnuTcv8ez",
        "outputId": "f86d0264-e061-4294-9e3d-11331ea4902e"
      },
      "execution_count": 48,
      "outputs": [
        {
          "output_type": "stream",
          "name": "stdout",
          "text": [
            "['Init Bwd Win Byts', 'Idle Max', 'Bwd Pkt Len Max', 'Idle Mean', 'Tot Fwd Pkts', 'Idle Min', 'Bwd Pkt Len Std', 'Tot Bwd Pkts', 'Bwd Pkt Len Mean', 'TotLen Fwd Pkts', 'TotLen Bwd Pkts', 'Bwd IAT Max', 'Bwd IAT Tot', 'Fwd IAT Max', 'Bwd Seg Size Avg', 'Pkt Len Min', 'SYN Flag Cnt', 'Flow Duration', 'Fwd Pkt Len Std', 'Fwd IAT Tot', 'Bwd IAT Std', 'Flow Pkts/s', 'Down/Up Ratio', 'Fwd IAT Std', 'Fwd Pkt Len Min', 'Fwd Pkt Len Max', 'Subflow Bwd Pkts', 'Bwd Pkt Len Min', 'Flow IAT Mean', 'Flow IAT Min', 'Fwd IAT Min', 'Bwd IAT Mean', 'Bwd IAT Min', 'Bwd Header Len', 'Subflow Bwd Byts', 'Subflow Fwd Byts', 'Fwd Header Len', 'Bwd PSH Flags', 'Idle Std', 'Fwd Pkts/s', 'Fwd Act Data Pkts', 'Pkt Len Max', 'Fwd IAT Mean', 'Active Max', 'Active Std', 'Pkt Len Std', 'Pkt Len Var', 'Subflow Fwd Pkts', 'Flow Byts/s', 'Pkt Size Avg', 'Active Mean']\n"
          ]
        }
      ]
    },
    {
      "cell_type": "code",
      "source": [
        "alert = []\n",
        "\n",
        "# Iterate over each key-value pair in the data_dict\n",
        "for key, value in data_dict.items():\n",
        "    # Check if there are one feature is not in the whitelist\n",
        "    for string in value:\n",
        "      if string not in whitelist:\n",
        "        alert.append(key)\n",
        "        break\n",
        "\n",
        "# Print the alert dictionary\n",
        "print(\"Alert list length:\" + str(len(alert)))"
      ],
      "metadata": {
        "colab": {
          "base_uri": "https://localhost:8080/"
        },
        "id": "P-IQyZMYYLzp",
        "outputId": "72cafc76-b70f-4b05-8ee0-c40a5dad5e2b"
      },
      "execution_count": 49,
      "outputs": [
        {
          "output_type": "stream",
          "name": "stdout",
          "text": [
            "Alert list length:752\n"
          ]
        }
      ]
    },
    {
      "cell_type": "code",
      "source": [
        "whitelist = freq_df.iloc[:, 0][:59].tolist()\n",
        "print(whitelist)"
      ],
      "metadata": {
        "colab": {
          "base_uri": "https://localhost:8080/"
        },
        "id": "b9ZX1XMcYssx",
        "outputId": "f4d3feb6-27ce-4525-8753-46e02724738e"
      },
      "execution_count": 50,
      "outputs": [
        {
          "output_type": "stream",
          "name": "stdout",
          "text": [
            "['Init Bwd Win Byts', 'Idle Max', 'Bwd Pkt Len Max', 'Idle Mean', 'Tot Fwd Pkts', 'Idle Min', 'Bwd Pkt Len Std', 'Tot Bwd Pkts', 'Bwd Pkt Len Mean', 'TotLen Fwd Pkts', 'TotLen Bwd Pkts', 'Bwd IAT Max', 'Bwd IAT Tot', 'Fwd IAT Max', 'Bwd Seg Size Avg', 'Pkt Len Min', 'SYN Flag Cnt', 'Flow Duration', 'Fwd Pkt Len Std', 'Fwd IAT Tot', 'Bwd IAT Std', 'Flow Pkts/s', 'Down/Up Ratio', 'Fwd IAT Std', 'Fwd Pkt Len Min', 'Fwd Pkt Len Max', 'Subflow Bwd Pkts', 'Bwd Pkt Len Min', 'Flow IAT Mean', 'Flow IAT Min', 'Fwd IAT Min', 'Bwd IAT Mean', 'Bwd IAT Min', 'Bwd Header Len', 'Subflow Bwd Byts', 'Subflow Fwd Byts', 'Fwd Header Len', 'Bwd PSH Flags', 'Idle Std', 'Fwd Pkts/s', 'Fwd Act Data Pkts', 'Pkt Len Max', 'Fwd IAT Mean', 'Active Max', 'Active Std', 'Pkt Len Std', 'Pkt Len Var', 'Subflow Fwd Pkts', 'Flow Byts/s', 'Pkt Size Avg', 'Active Mean', 'ACK Flag Cnt', 'Flow IAT Max', 'Active Min', 'Pkt Len Mean', 'Fwd Pkt Len Mean', 'Flow IAT Std', 'Fwd Seg Size Avg', 'PSH Flag Cnt']\n"
          ]
        }
      ]
    },
    {
      "cell_type": "code",
      "source": [
        "alert = []\n",
        "\n",
        "# Iterate over each key-value pair in the data_dict\n",
        "for key, value in data_dict.items():\n",
        "    # Check if there are one feature is not in the whitelist\n",
        "    for string in value:\n",
        "      if string not in whitelist:\n",
        "        alert.append(key)\n",
        "        break\n",
        "\n",
        "# Print the alert dictionary\n",
        "print(\"Alert list length:\" + str(len(alert)))"
      ],
      "metadata": {
        "colab": {
          "base_uri": "https://localhost:8080/"
        },
        "id": "DuQ1OUp6Yrgh",
        "outputId": "e88c2390-95e4-4be5-f958-f74d6b6c00fc"
      },
      "execution_count": 51,
      "outputs": [
        {
          "output_type": "stream",
          "name": "stdout",
          "text": [
            "Alert list length:86\n"
          ]
        }
      ]
    },
    {
      "cell_type": "markdown",
      "source": [
        "## False positive of XAI on normal samples of trainset:\n",
        "top 38: 1308/1500\n",
        "\n",
        "top 24: 1482/1500"
      ],
      "metadata": {
        "id": "kykod9kUylxB"
      }
    }
  ],
  "metadata": {
    "colab": {
      "provenance": [],
      "collapsed_sections": [
        "JyjDe5Kxredo"
      ]
    },
    "kernelspec": {
      "display_name": "Python 3",
      "name": "python3"
    },
    "language_info": {
      "name": "python"
    },
    "widgets": {
      "application/vnd.jupyter.widget-state+json": {
        "a8cc569d55494ba7bb390217eb8989a7": {
          "model_module": "@jupyter-widgets/controls",
          "model_name": "HBoxModel",
          "model_module_version": "1.5.0",
          "state": {
            "_dom_classes": [],
            "_model_module": "@jupyter-widgets/controls",
            "_model_module_version": "1.5.0",
            "_model_name": "HBoxModel",
            "_view_count": null,
            "_view_module": "@jupyter-widgets/controls",
            "_view_module_version": "1.5.0",
            "_view_name": "HBoxView",
            "box_style": "",
            "children": [
              "IPY_MODEL_18fe0392d3a6432c9d49a0d0d85c8699",
              "IPY_MODEL_06e7db8f53834f52b8ec45563a9a8b55",
              "IPY_MODEL_93c6039bc6db4dc2bce76c29379da75f"
            ],
            "layout": "IPY_MODEL_abd67b8c691249d89dfde26f5a964064"
          }
        },
        "18fe0392d3a6432c9d49a0d0d85c8699": {
          "model_module": "@jupyter-widgets/controls",
          "model_name": "HTMLModel",
          "model_module_version": "1.5.0",
          "state": {
            "_dom_classes": [],
            "_model_module": "@jupyter-widgets/controls",
            "_model_module_version": "1.5.0",
            "_model_name": "HTMLModel",
            "_view_count": null,
            "_view_module": "@jupyter-widgets/controls",
            "_view_module_version": "1.5.0",
            "_view_name": "HTMLView",
            "description": "",
            "description_tooltip": null,
            "layout": "IPY_MODEL_b2d4af1a5b26462e91be1324640abdb6",
            "placeholder": "​",
            "style": "IPY_MODEL_a6d727672bec49f4accaf91176e7913b",
            "value": "100%"
          }
        },
        "06e7db8f53834f52b8ec45563a9a8b55": {
          "model_module": "@jupyter-widgets/controls",
          "model_name": "FloatProgressModel",
          "model_module_version": "1.5.0",
          "state": {
            "_dom_classes": [],
            "_model_module": "@jupyter-widgets/controls",
            "_model_module_version": "1.5.0",
            "_model_name": "FloatProgressModel",
            "_view_count": null,
            "_view_module": "@jupyter-widgets/controls",
            "_view_module_version": "1.5.0",
            "_view_name": "ProgressView",
            "bar_style": "success",
            "description": "",
            "description_tooltip": null,
            "layout": "IPY_MODEL_1e8409c423b745b8956767cf42f84fe3",
            "max": 1500,
            "min": 0,
            "orientation": "horizontal",
            "style": "IPY_MODEL_9bd390d245be418a8064ae3857b9e09d",
            "value": 1500
          }
        },
        "93c6039bc6db4dc2bce76c29379da75f": {
          "model_module": "@jupyter-widgets/controls",
          "model_name": "HTMLModel",
          "model_module_version": "1.5.0",
          "state": {
            "_dom_classes": [],
            "_model_module": "@jupyter-widgets/controls",
            "_model_module_version": "1.5.0",
            "_model_name": "HTMLModel",
            "_view_count": null,
            "_view_module": "@jupyter-widgets/controls",
            "_view_module_version": "1.5.0",
            "_view_name": "HTMLView",
            "description": "",
            "description_tooltip": null,
            "layout": "IPY_MODEL_662c6b010d274625b091ecde9b9e8109",
            "placeholder": "​",
            "style": "IPY_MODEL_039e3f56c13e4a7b8d637a32c9a65167",
            "value": " 1500/1500 [1:59:37&lt;00:00,  4.76s/it]"
          }
        },
        "abd67b8c691249d89dfde26f5a964064": {
          "model_module": "@jupyter-widgets/base",
          "model_name": "LayoutModel",
          "model_module_version": "1.2.0",
          "state": {
            "_model_module": "@jupyter-widgets/base",
            "_model_module_version": "1.2.0",
            "_model_name": "LayoutModel",
            "_view_count": null,
            "_view_module": "@jupyter-widgets/base",
            "_view_module_version": "1.2.0",
            "_view_name": "LayoutView",
            "align_content": null,
            "align_items": null,
            "align_self": null,
            "border": null,
            "bottom": null,
            "display": null,
            "flex": null,
            "flex_flow": null,
            "grid_area": null,
            "grid_auto_columns": null,
            "grid_auto_flow": null,
            "grid_auto_rows": null,
            "grid_column": null,
            "grid_gap": null,
            "grid_row": null,
            "grid_template_areas": null,
            "grid_template_columns": null,
            "grid_template_rows": null,
            "height": null,
            "justify_content": null,
            "justify_items": null,
            "left": null,
            "margin": null,
            "max_height": null,
            "max_width": null,
            "min_height": null,
            "min_width": null,
            "object_fit": null,
            "object_position": null,
            "order": null,
            "overflow": null,
            "overflow_x": null,
            "overflow_y": null,
            "padding": null,
            "right": null,
            "top": null,
            "visibility": null,
            "width": null
          }
        },
        "b2d4af1a5b26462e91be1324640abdb6": {
          "model_module": "@jupyter-widgets/base",
          "model_name": "LayoutModel",
          "model_module_version": "1.2.0",
          "state": {
            "_model_module": "@jupyter-widgets/base",
            "_model_module_version": "1.2.0",
            "_model_name": "LayoutModel",
            "_view_count": null,
            "_view_module": "@jupyter-widgets/base",
            "_view_module_version": "1.2.0",
            "_view_name": "LayoutView",
            "align_content": null,
            "align_items": null,
            "align_self": null,
            "border": null,
            "bottom": null,
            "display": null,
            "flex": null,
            "flex_flow": null,
            "grid_area": null,
            "grid_auto_columns": null,
            "grid_auto_flow": null,
            "grid_auto_rows": null,
            "grid_column": null,
            "grid_gap": null,
            "grid_row": null,
            "grid_template_areas": null,
            "grid_template_columns": null,
            "grid_template_rows": null,
            "height": null,
            "justify_content": null,
            "justify_items": null,
            "left": null,
            "margin": null,
            "max_height": null,
            "max_width": null,
            "min_height": null,
            "min_width": null,
            "object_fit": null,
            "object_position": null,
            "order": null,
            "overflow": null,
            "overflow_x": null,
            "overflow_y": null,
            "padding": null,
            "right": null,
            "top": null,
            "visibility": null,
            "width": null
          }
        },
        "a6d727672bec49f4accaf91176e7913b": {
          "model_module": "@jupyter-widgets/controls",
          "model_name": "DescriptionStyleModel",
          "model_module_version": "1.5.0",
          "state": {
            "_model_module": "@jupyter-widgets/controls",
            "_model_module_version": "1.5.0",
            "_model_name": "DescriptionStyleModel",
            "_view_count": null,
            "_view_module": "@jupyter-widgets/base",
            "_view_module_version": "1.2.0",
            "_view_name": "StyleView",
            "description_width": ""
          }
        },
        "1e8409c423b745b8956767cf42f84fe3": {
          "model_module": "@jupyter-widgets/base",
          "model_name": "LayoutModel",
          "model_module_version": "1.2.0",
          "state": {
            "_model_module": "@jupyter-widgets/base",
            "_model_module_version": "1.2.0",
            "_model_name": "LayoutModel",
            "_view_count": null,
            "_view_module": "@jupyter-widgets/base",
            "_view_module_version": "1.2.0",
            "_view_name": "LayoutView",
            "align_content": null,
            "align_items": null,
            "align_self": null,
            "border": null,
            "bottom": null,
            "display": null,
            "flex": null,
            "flex_flow": null,
            "grid_area": null,
            "grid_auto_columns": null,
            "grid_auto_flow": null,
            "grid_auto_rows": null,
            "grid_column": null,
            "grid_gap": null,
            "grid_row": null,
            "grid_template_areas": null,
            "grid_template_columns": null,
            "grid_template_rows": null,
            "height": null,
            "justify_content": null,
            "justify_items": null,
            "left": null,
            "margin": null,
            "max_height": null,
            "max_width": null,
            "min_height": null,
            "min_width": null,
            "object_fit": null,
            "object_position": null,
            "order": null,
            "overflow": null,
            "overflow_x": null,
            "overflow_y": null,
            "padding": null,
            "right": null,
            "top": null,
            "visibility": null,
            "width": null
          }
        },
        "9bd390d245be418a8064ae3857b9e09d": {
          "model_module": "@jupyter-widgets/controls",
          "model_name": "ProgressStyleModel",
          "model_module_version": "1.5.0",
          "state": {
            "_model_module": "@jupyter-widgets/controls",
            "_model_module_version": "1.5.0",
            "_model_name": "ProgressStyleModel",
            "_view_count": null,
            "_view_module": "@jupyter-widgets/base",
            "_view_module_version": "1.2.0",
            "_view_name": "StyleView",
            "bar_color": null,
            "description_width": ""
          }
        },
        "662c6b010d274625b091ecde9b9e8109": {
          "model_module": "@jupyter-widgets/base",
          "model_name": "LayoutModel",
          "model_module_version": "1.2.0",
          "state": {
            "_model_module": "@jupyter-widgets/base",
            "_model_module_version": "1.2.0",
            "_model_name": "LayoutModel",
            "_view_count": null,
            "_view_module": "@jupyter-widgets/base",
            "_view_module_version": "1.2.0",
            "_view_name": "LayoutView",
            "align_content": null,
            "align_items": null,
            "align_self": null,
            "border": null,
            "bottom": null,
            "display": null,
            "flex": null,
            "flex_flow": null,
            "grid_area": null,
            "grid_auto_columns": null,
            "grid_auto_flow": null,
            "grid_auto_rows": null,
            "grid_column": null,
            "grid_gap": null,
            "grid_row": null,
            "grid_template_areas": null,
            "grid_template_columns": null,
            "grid_template_rows": null,
            "height": null,
            "justify_content": null,
            "justify_items": null,
            "left": null,
            "margin": null,
            "max_height": null,
            "max_width": null,
            "min_height": null,
            "min_width": null,
            "object_fit": null,
            "object_position": null,
            "order": null,
            "overflow": null,
            "overflow_x": null,
            "overflow_y": null,
            "padding": null,
            "right": null,
            "top": null,
            "visibility": null,
            "width": null
          }
        },
        "039e3f56c13e4a7b8d637a32c9a65167": {
          "model_module": "@jupyter-widgets/controls",
          "model_name": "DescriptionStyleModel",
          "model_module_version": "1.5.0",
          "state": {
            "_model_module": "@jupyter-widgets/controls",
            "_model_module_version": "1.5.0",
            "_model_name": "DescriptionStyleModel",
            "_view_count": null,
            "_view_module": "@jupyter-widgets/base",
            "_view_module_version": "1.2.0",
            "_view_name": "StyleView",
            "description_width": ""
          }
        }
      }
    }
  },
  "nbformat": 4,
  "nbformat_minor": 0
}