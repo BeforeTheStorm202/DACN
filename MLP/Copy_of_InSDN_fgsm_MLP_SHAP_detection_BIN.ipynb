{
  "nbformat": 4,
  "nbformat_minor": 0,
  "metadata": {
    "colab": {
      "provenance": []
    },
    "kernelspec": {
      "name": "python3",
      "display_name": "Python 3"
    },
    "language_info": {
      "name": "python"
    },
    "widgets": {
      "application/vnd.jupyter.widget-state+json": {
        "fdd1f4e2e05f4e9d9765470fd0bf0d69": {
          "model_module": "@jupyter-widgets/controls",
          "model_name": "HBoxModel",
          "model_module_version": "1.5.0",
          "state": {
            "_dom_classes": [],
            "_model_module": "@jupyter-widgets/controls",
            "_model_module_version": "1.5.0",
            "_model_name": "HBoxModel",
            "_view_count": null,
            "_view_module": "@jupyter-widgets/controls",
            "_view_module_version": "1.5.0",
            "_view_name": "HBoxView",
            "box_style": "",
            "children": [
              "IPY_MODEL_ad73b6fcca294985a9a47c9006fb8936",
              "IPY_MODEL_602df650a7554f398dc7e6ed59c9b5a5",
              "IPY_MODEL_844d9cca1a3443078f0ba40feaa9dffe"
            ],
            "layout": "IPY_MODEL_3461b9e1e85a4875b5734acc39c2eadf"
          }
        },
        "ad73b6fcca294985a9a47c9006fb8936": {
          "model_module": "@jupyter-widgets/controls",
          "model_name": "HTMLModel",
          "model_module_version": "1.5.0",
          "state": {
            "_dom_classes": [],
            "_model_module": "@jupyter-widgets/controls",
            "_model_module_version": "1.5.0",
            "_model_name": "HTMLModel",
            "_view_count": null,
            "_view_module": "@jupyter-widgets/controls",
            "_view_module_version": "1.5.0",
            "_view_name": "HTMLView",
            "description": "",
            "description_tooltip": null,
            "layout": "IPY_MODEL_75ec7e48394e4a2493dd3010fa6b48e9",
            "placeholder": "​",
            "style": "IPY_MODEL_e7f20cc13452424cbb0e0c23877185c1",
            "value": "100%"
          }
        },
        "602df650a7554f398dc7e6ed59c9b5a5": {
          "model_module": "@jupyter-widgets/controls",
          "model_name": "FloatProgressModel",
          "model_module_version": "1.5.0",
          "state": {
            "_dom_classes": [],
            "_model_module": "@jupyter-widgets/controls",
            "_model_module_version": "1.5.0",
            "_model_name": "FloatProgressModel",
            "_view_count": null,
            "_view_module": "@jupyter-widgets/controls",
            "_view_module_version": "1.5.0",
            "_view_name": "ProgressView",
            "bar_style": "success",
            "description": "",
            "description_tooltip": null,
            "layout": "IPY_MODEL_5ab5d2c5a1674508b264ef95c02a8f8a",
            "max": 1000,
            "min": 0,
            "orientation": "horizontal",
            "style": "IPY_MODEL_666198cf033d4b14befdd7adc8da5fc2",
            "value": 1000
          }
        },
        "844d9cca1a3443078f0ba40feaa9dffe": {
          "model_module": "@jupyter-widgets/controls",
          "model_name": "HTMLModel",
          "model_module_version": "1.5.0",
          "state": {
            "_dom_classes": [],
            "_model_module": "@jupyter-widgets/controls",
            "_model_module_version": "1.5.0",
            "_model_name": "HTMLModel",
            "_view_count": null,
            "_view_module": "@jupyter-widgets/controls",
            "_view_module_version": "1.5.0",
            "_view_name": "HTMLView",
            "description": "",
            "description_tooltip": null,
            "layout": "IPY_MODEL_ba88767168064063a3af335d32b7ff44",
            "placeholder": "​",
            "style": "IPY_MODEL_d64a2c25a88243f28dbb283b3cbcbab5",
            "value": " 1000/1000 [1:20:30&lt;00:00,  5.01s/it]"
          }
        },
        "3461b9e1e85a4875b5734acc39c2eadf": {
          "model_module": "@jupyter-widgets/base",
          "model_name": "LayoutModel",
          "model_module_version": "1.2.0",
          "state": {
            "_model_module": "@jupyter-widgets/base",
            "_model_module_version": "1.2.0",
            "_model_name": "LayoutModel",
            "_view_count": null,
            "_view_module": "@jupyter-widgets/base",
            "_view_module_version": "1.2.0",
            "_view_name": "LayoutView",
            "align_content": null,
            "align_items": null,
            "align_self": null,
            "border": null,
            "bottom": null,
            "display": null,
            "flex": null,
            "flex_flow": null,
            "grid_area": null,
            "grid_auto_columns": null,
            "grid_auto_flow": null,
            "grid_auto_rows": null,
            "grid_column": null,
            "grid_gap": null,
            "grid_row": null,
            "grid_template_areas": null,
            "grid_template_columns": null,
            "grid_template_rows": null,
            "height": null,
            "justify_content": null,
            "justify_items": null,
            "left": null,
            "margin": null,
            "max_height": null,
            "max_width": null,
            "min_height": null,
            "min_width": null,
            "object_fit": null,
            "object_position": null,
            "order": null,
            "overflow": null,
            "overflow_x": null,
            "overflow_y": null,
            "padding": null,
            "right": null,
            "top": null,
            "visibility": null,
            "width": null
          }
        },
        "75ec7e48394e4a2493dd3010fa6b48e9": {
          "model_module": "@jupyter-widgets/base",
          "model_name": "LayoutModel",
          "model_module_version": "1.2.0",
          "state": {
            "_model_module": "@jupyter-widgets/base",
            "_model_module_version": "1.2.0",
            "_model_name": "LayoutModel",
            "_view_count": null,
            "_view_module": "@jupyter-widgets/base",
            "_view_module_version": "1.2.0",
            "_view_name": "LayoutView",
            "align_content": null,
            "align_items": null,
            "align_self": null,
            "border": null,
            "bottom": null,
            "display": null,
            "flex": null,
            "flex_flow": null,
            "grid_area": null,
            "grid_auto_columns": null,
            "grid_auto_flow": null,
            "grid_auto_rows": null,
            "grid_column": null,
            "grid_gap": null,
            "grid_row": null,
            "grid_template_areas": null,
            "grid_template_columns": null,
            "grid_template_rows": null,
            "height": null,
            "justify_content": null,
            "justify_items": null,
            "left": null,
            "margin": null,
            "max_height": null,
            "max_width": null,
            "min_height": null,
            "min_width": null,
            "object_fit": null,
            "object_position": null,
            "order": null,
            "overflow": null,
            "overflow_x": null,
            "overflow_y": null,
            "padding": null,
            "right": null,
            "top": null,
            "visibility": null,
            "width": null
          }
        },
        "e7f20cc13452424cbb0e0c23877185c1": {
          "model_module": "@jupyter-widgets/controls",
          "model_name": "DescriptionStyleModel",
          "model_module_version": "1.5.0",
          "state": {
            "_model_module": "@jupyter-widgets/controls",
            "_model_module_version": "1.5.0",
            "_model_name": "DescriptionStyleModel",
            "_view_count": null,
            "_view_module": "@jupyter-widgets/base",
            "_view_module_version": "1.2.0",
            "_view_name": "StyleView",
            "description_width": ""
          }
        },
        "5ab5d2c5a1674508b264ef95c02a8f8a": {
          "model_module": "@jupyter-widgets/base",
          "model_name": "LayoutModel",
          "model_module_version": "1.2.0",
          "state": {
            "_model_module": "@jupyter-widgets/base",
            "_model_module_version": "1.2.0",
            "_model_name": "LayoutModel",
            "_view_count": null,
            "_view_module": "@jupyter-widgets/base",
            "_view_module_version": "1.2.0",
            "_view_name": "LayoutView",
            "align_content": null,
            "align_items": null,
            "align_self": null,
            "border": null,
            "bottom": null,
            "display": null,
            "flex": null,
            "flex_flow": null,
            "grid_area": null,
            "grid_auto_columns": null,
            "grid_auto_flow": null,
            "grid_auto_rows": null,
            "grid_column": null,
            "grid_gap": null,
            "grid_row": null,
            "grid_template_areas": null,
            "grid_template_columns": null,
            "grid_template_rows": null,
            "height": null,
            "justify_content": null,
            "justify_items": null,
            "left": null,
            "margin": null,
            "max_height": null,
            "max_width": null,
            "min_height": null,
            "min_width": null,
            "object_fit": null,
            "object_position": null,
            "order": null,
            "overflow": null,
            "overflow_x": null,
            "overflow_y": null,
            "padding": null,
            "right": null,
            "top": null,
            "visibility": null,
            "width": null
          }
        },
        "666198cf033d4b14befdd7adc8da5fc2": {
          "model_module": "@jupyter-widgets/controls",
          "model_name": "ProgressStyleModel",
          "model_module_version": "1.5.0",
          "state": {
            "_model_module": "@jupyter-widgets/controls",
            "_model_module_version": "1.5.0",
            "_model_name": "ProgressStyleModel",
            "_view_count": null,
            "_view_module": "@jupyter-widgets/base",
            "_view_module_version": "1.2.0",
            "_view_name": "StyleView",
            "bar_color": null,
            "description_width": ""
          }
        },
        "ba88767168064063a3af335d32b7ff44": {
          "model_module": "@jupyter-widgets/base",
          "model_name": "LayoutModel",
          "model_module_version": "1.2.0",
          "state": {
            "_model_module": "@jupyter-widgets/base",
            "_model_module_version": "1.2.0",
            "_model_name": "LayoutModel",
            "_view_count": null,
            "_view_module": "@jupyter-widgets/base",
            "_view_module_version": "1.2.0",
            "_view_name": "LayoutView",
            "align_content": null,
            "align_items": null,
            "align_self": null,
            "border": null,
            "bottom": null,
            "display": null,
            "flex": null,
            "flex_flow": null,
            "grid_area": null,
            "grid_auto_columns": null,
            "grid_auto_flow": null,
            "grid_auto_rows": null,
            "grid_column": null,
            "grid_gap": null,
            "grid_row": null,
            "grid_template_areas": null,
            "grid_template_columns": null,
            "grid_template_rows": null,
            "height": null,
            "justify_content": null,
            "justify_items": null,
            "left": null,
            "margin": null,
            "max_height": null,
            "max_width": null,
            "min_height": null,
            "min_width": null,
            "object_fit": null,
            "object_position": null,
            "order": null,
            "overflow": null,
            "overflow_x": null,
            "overflow_y": null,
            "padding": null,
            "right": null,
            "top": null,
            "visibility": null,
            "width": null
          }
        },
        "d64a2c25a88243f28dbb283b3cbcbab5": {
          "model_module": "@jupyter-widgets/controls",
          "model_name": "DescriptionStyleModel",
          "model_module_version": "1.5.0",
          "state": {
            "_model_module": "@jupyter-widgets/controls",
            "_model_module_version": "1.5.0",
            "_model_name": "DescriptionStyleModel",
            "_view_count": null,
            "_view_module": "@jupyter-widgets/base",
            "_view_module_version": "1.2.0",
            "_view_name": "StyleView",
            "description_width": ""
          }
        }
      }
    }
  },
  "cells": [
    {
      "cell_type": "markdown",
      "source": [
        "# Import"
      ],
      "metadata": {
        "id": "O0lPv_8LykMw"
      }
    },
    {
      "cell_type": "code",
      "source": [
        "from google.colab import drive\n",
        "drive.mount('/content/drive', force_remount=True)"
      ],
      "metadata": {
        "colab": {
          "base_uri": "https://localhost:8080/"
        },
        "id": "8efEEenXOnJi",
        "outputId": "1306cecf-f046-490c-e2d9-755b61444872"
      },
      "execution_count": 1,
      "outputs": [
        {
          "output_type": "stream",
          "name": "stdout",
          "text": [
            "Mounted at /content/drive\n"
          ]
        }
      ]
    },
    {
      "cell_type": "code",
      "source": [
        "import warnings\n",
        "warnings.filterwarnings('ignore')"
      ],
      "metadata": {
        "id": "No3-0KGj_Kic"
      },
      "execution_count": null,
      "outputs": []
    },
    {
      "cell_type": "code",
      "execution_count": 2,
      "metadata": {
        "id": "bBcPmYOsyREp",
        "colab": {
          "base_uri": "https://localhost:8080/"
        },
        "outputId": "91f54f85-2c47-4025-cba7-1c4c28726f8c"
      },
      "outputs": [
        {
          "output_type": "stream",
          "name": "stdout",
          "text": [
            "Collecting shap\n",
            "  Downloading shap-0.42.0-cp310-cp310-manylinux_2_12_x86_64.manylinux2010_x86_64.manylinux_2_17_x86_64.manylinux2014_x86_64.whl (547 kB)\n",
            "\u001b[?25l     \u001b[90m━━━━━━━━━━━━━━━━━━━━━━━━━━━━━━━━━━━━━━━━\u001b[0m \u001b[32m0.0/547.1 kB\u001b[0m \u001b[31m?\u001b[0m eta \u001b[36m-:--:--\u001b[0m\r\u001b[2K     \u001b[91m━━━━━━━━━━━━━━━━━━━━━\u001b[0m\u001b[91m╸\u001b[0m\u001b[90m━━━━━━━━━━━━━━━━━\u001b[0m \u001b[32m307.2/547.1 kB\u001b[0m \u001b[31m9.0 MB/s\u001b[0m eta \u001b[36m0:00:01\u001b[0m\r\u001b[2K     \u001b[90m━━━━━━━━━━━━━━━━━━━━━━━━━━━━━━━━━━━━━━\u001b[0m \u001b[32m547.1/547.1 kB\u001b[0m \u001b[31m10.3 MB/s\u001b[0m eta \u001b[36m0:00:00\u001b[0m\n",
            "\u001b[?25hRequirement already satisfied: numpy in /usr/local/lib/python3.10/dist-packages (from shap) (1.22.4)\n",
            "Requirement already satisfied: scipy in /usr/local/lib/python3.10/dist-packages (from shap) (1.10.1)\n",
            "Requirement already satisfied: scikit-learn in /usr/local/lib/python3.10/dist-packages (from shap) (1.2.2)\n",
            "Requirement already satisfied: pandas in /usr/local/lib/python3.10/dist-packages (from shap) (1.5.3)\n",
            "Requirement already satisfied: tqdm>=4.27.0 in /usr/local/lib/python3.10/dist-packages (from shap) (4.65.0)\n",
            "Requirement already satisfied: packaging>20.9 in /usr/local/lib/python3.10/dist-packages (from shap) (23.1)\n",
            "Collecting slicer==0.0.7 (from shap)\n",
            "  Downloading slicer-0.0.7-py3-none-any.whl (14 kB)\n",
            "Requirement already satisfied: numba in /usr/local/lib/python3.10/dist-packages (from shap) (0.56.4)\n",
            "Requirement already satisfied: cloudpickle in /usr/local/lib/python3.10/dist-packages (from shap) (2.2.1)\n",
            "Requirement already satisfied: llvmlite<0.40,>=0.39.0dev0 in /usr/local/lib/python3.10/dist-packages (from numba->shap) (0.39.1)\n",
            "Requirement already satisfied: setuptools in /usr/local/lib/python3.10/dist-packages (from numba->shap) (67.7.2)\n",
            "Requirement already satisfied: python-dateutil>=2.8.1 in /usr/local/lib/python3.10/dist-packages (from pandas->shap) (2.8.2)\n",
            "Requirement already satisfied: pytz>=2020.1 in /usr/local/lib/python3.10/dist-packages (from pandas->shap) (2022.7.1)\n",
            "Requirement already satisfied: joblib>=1.1.1 in /usr/local/lib/python3.10/dist-packages (from scikit-learn->shap) (1.2.0)\n",
            "Requirement already satisfied: threadpoolctl>=2.0.0 in /usr/local/lib/python3.10/dist-packages (from scikit-learn->shap) (3.1.0)\n",
            "Requirement already satisfied: six>=1.5 in /usr/local/lib/python3.10/dist-packages (from python-dateutil>=2.8.1->pandas->shap) (1.16.0)\n",
            "Installing collected packages: slicer, shap\n",
            "Successfully installed shap-0.42.0 slicer-0.0.7\n"
          ]
        }
      ],
      "source": [
        "!pip install shap"
      ]
    },
    {
      "cell_type": "code",
      "source": [
        "import shap\n",
        "import pandas as pd\n",
        "import tensorflow as tf\n",
        "from tensorflow import keras"
      ],
      "metadata": {
        "id": "yisYwS6Mymik",
        "colab": {
          "base_uri": "https://localhost:8080/"
        },
        "outputId": "401c4c76-4f46-4928-a458-bb29c166113e"
      },
      "execution_count": 3,
      "outputs": [
        {
          "output_type": "stream",
          "name": "stderr",
          "text": [
            "Using `tqdm.autonotebook.tqdm` in notebook mode. Use `tqdm.tqdm` instead to force console mode (e.g. in jupyter console)\n"
          ]
        }
      ]
    },
    {
      "cell_type": "markdown",
      "source": [
        "# Load trainset"
      ],
      "metadata": {
        "id": "Bz9tx1gdBGK4"
      }
    },
    {
      "cell_type": "code",
      "source": [
        "df = pd.read_csv('/content/drive/MyDrive/Dataset/insdn/binary/train.csv')\n",
        "df.info()"
      ],
      "metadata": {
        "colab": {
          "base_uri": "https://localhost:8080/"
        },
        "id": "joOnVrMbBIgT",
        "outputId": "543e1f50-4ba4-47ca-dbd5-2aa8139a27e2"
      },
      "execution_count": 4,
      "outputs": [
        {
          "output_type": "stream",
          "name": "stdout",
          "text": [
            "<class 'pandas.core.frame.DataFrame'>\n",
            "RangeIndex: 275111 entries, 0 to 275110\n",
            "Data columns (total 77 columns):\n",
            " #   Column             Non-Null Count   Dtype  \n",
            "---  ------             --------------   -----  \n",
            " 0   Flow Duration      275111 non-null  float64\n",
            " 1   Tot Fwd Pkts       275111 non-null  float64\n",
            " 2   Tot Bwd Pkts       275111 non-null  float64\n",
            " 3   TotLen Fwd Pkts    275111 non-null  float64\n",
            " 4   TotLen Bwd Pkts    275111 non-null  float64\n",
            " 5   Fwd Pkt Len Max    275111 non-null  float64\n",
            " 6   Fwd Pkt Len Min    275111 non-null  float64\n",
            " 7   Fwd Pkt Len Mean   275111 non-null  float64\n",
            " 8   Fwd Pkt Len Std    275111 non-null  float64\n",
            " 9   Bwd Pkt Len Max    275111 non-null  float64\n",
            " 10  Bwd Pkt Len Min    275111 non-null  float64\n",
            " 11  Bwd Pkt Len Mean   275111 non-null  float64\n",
            " 12  Bwd Pkt Len Std    275111 non-null  float64\n",
            " 13  Flow Byts/s        275111 non-null  float64\n",
            " 14  Flow Pkts/s        275111 non-null  float64\n",
            " 15  Flow IAT Mean      275111 non-null  float64\n",
            " 16  Flow IAT Std       275111 non-null  float64\n",
            " 17  Flow IAT Max       275111 non-null  float64\n",
            " 18  Flow IAT Min       275111 non-null  float64\n",
            " 19  Fwd IAT Tot        275111 non-null  float64\n",
            " 20  Fwd IAT Mean       275111 non-null  float64\n",
            " 21  Fwd IAT Std        275111 non-null  float64\n",
            " 22  Fwd IAT Max        275111 non-null  float64\n",
            " 23  Fwd IAT Min        275111 non-null  float64\n",
            " 24  Bwd IAT Tot        275111 non-null  float64\n",
            " 25  Bwd IAT Mean       275111 non-null  float64\n",
            " 26  Bwd IAT Std        275111 non-null  float64\n",
            " 27  Bwd IAT Max        275111 non-null  float64\n",
            " 28  Bwd IAT Min        275111 non-null  float64\n",
            " 29  Fwd PSH Flags      275111 non-null  float64\n",
            " 30  Bwd PSH Flags      275111 non-null  float64\n",
            " 31  Fwd URG Flags      275111 non-null  float64\n",
            " 32  Bwd URG Flags      275111 non-null  float64\n",
            " 33  Fwd Header Len     275111 non-null  float64\n",
            " 34  Bwd Header Len     275111 non-null  float64\n",
            " 35  Fwd Pkts/s         275111 non-null  float64\n",
            " 36  Bwd Pkts/s         275111 non-null  float64\n",
            " 37  Pkt Len Min        275111 non-null  float64\n",
            " 38  Pkt Len Max        275111 non-null  float64\n",
            " 39  Pkt Len Mean       275111 non-null  float64\n",
            " 40  Pkt Len Std        275111 non-null  float64\n",
            " 41  Pkt Len Var        275111 non-null  float64\n",
            " 42  FIN Flag Cnt       275111 non-null  float64\n",
            " 43  SYN Flag Cnt       275111 non-null  float64\n",
            " 44  RST Flag Cnt       275111 non-null  float64\n",
            " 45  PSH Flag Cnt       275111 non-null  float64\n",
            " 46  ACK Flag Cnt       275111 non-null  float64\n",
            " 47  URG Flag Cnt       275111 non-null  float64\n",
            " 48  CWE Flag Count     275111 non-null  float64\n",
            " 49  ECE Flag Cnt       275111 non-null  float64\n",
            " 50  Down/Up Ratio      275111 non-null  float64\n",
            " 51  Pkt Size Avg       275111 non-null  float64\n",
            " 52  Fwd Seg Size Avg   275111 non-null  float64\n",
            " 53  Bwd Seg Size Avg   275111 non-null  float64\n",
            " 54  Fwd Byts/b Avg     275111 non-null  float64\n",
            " 55  Fwd Pkts/b Avg     275111 non-null  float64\n",
            " 56  Fwd Blk Rate Avg   275111 non-null  float64\n",
            " 57  Bwd Byts/b Avg     275111 non-null  float64\n",
            " 58  Bwd Pkts/b Avg     275111 non-null  float64\n",
            " 59  Bwd Blk Rate Avg   275111 non-null  float64\n",
            " 60  Subflow Fwd Pkts   275111 non-null  float64\n",
            " 61  Subflow Fwd Byts   275111 non-null  float64\n",
            " 62  Subflow Bwd Pkts   275111 non-null  float64\n",
            " 63  Subflow Bwd Byts   275111 non-null  float64\n",
            " 64  Init Fwd Win Byts  275111 non-null  float64\n",
            " 65  Init Bwd Win Byts  275111 non-null  float64\n",
            " 66  Fwd Act Data Pkts  275111 non-null  float64\n",
            " 67  Fwd Seg Size Min   275111 non-null  float64\n",
            " 68  Active Mean        275111 non-null  float64\n",
            " 69  Active Std         275111 non-null  float64\n",
            " 70  Active Max         275111 non-null  float64\n",
            " 71  Active Min         275111 non-null  float64\n",
            " 72  Idle Mean          275111 non-null  float64\n",
            " 73  Idle Std           275111 non-null  float64\n",
            " 74  Idle Max           275111 non-null  float64\n",
            " 75  Idle Min           275111 non-null  float64\n",
            " 76  Label              275111 non-null  int64  \n",
            "dtypes: float64(76), int64(1)\n",
            "memory usage: 161.6 MB\n"
          ]
        }
      ]
    },
    {
      "cell_type": "code",
      "source": [
        "df = df.drop(columns=['Label'])\n",
        "df.info()"
      ],
      "metadata": {
        "colab": {
          "base_uri": "https://localhost:8080/"
        },
        "id": "mYgl1-XQBYwR",
        "outputId": "193abf24-dcae-4930-bf8e-41a096c946a5"
      },
      "execution_count": 5,
      "outputs": [
        {
          "output_type": "stream",
          "name": "stdout",
          "text": [
            "<class 'pandas.core.frame.DataFrame'>\n",
            "RangeIndex: 275111 entries, 0 to 275110\n",
            "Data columns (total 76 columns):\n",
            " #   Column             Non-Null Count   Dtype  \n",
            "---  ------             --------------   -----  \n",
            " 0   Flow Duration      275111 non-null  float64\n",
            " 1   Tot Fwd Pkts       275111 non-null  float64\n",
            " 2   Tot Bwd Pkts       275111 non-null  float64\n",
            " 3   TotLen Fwd Pkts    275111 non-null  float64\n",
            " 4   TotLen Bwd Pkts    275111 non-null  float64\n",
            " 5   Fwd Pkt Len Max    275111 non-null  float64\n",
            " 6   Fwd Pkt Len Min    275111 non-null  float64\n",
            " 7   Fwd Pkt Len Mean   275111 non-null  float64\n",
            " 8   Fwd Pkt Len Std    275111 non-null  float64\n",
            " 9   Bwd Pkt Len Max    275111 non-null  float64\n",
            " 10  Bwd Pkt Len Min    275111 non-null  float64\n",
            " 11  Bwd Pkt Len Mean   275111 non-null  float64\n",
            " 12  Bwd Pkt Len Std    275111 non-null  float64\n",
            " 13  Flow Byts/s        275111 non-null  float64\n",
            " 14  Flow Pkts/s        275111 non-null  float64\n",
            " 15  Flow IAT Mean      275111 non-null  float64\n",
            " 16  Flow IAT Std       275111 non-null  float64\n",
            " 17  Flow IAT Max       275111 non-null  float64\n",
            " 18  Flow IAT Min       275111 non-null  float64\n",
            " 19  Fwd IAT Tot        275111 non-null  float64\n",
            " 20  Fwd IAT Mean       275111 non-null  float64\n",
            " 21  Fwd IAT Std        275111 non-null  float64\n",
            " 22  Fwd IAT Max        275111 non-null  float64\n",
            " 23  Fwd IAT Min        275111 non-null  float64\n",
            " 24  Bwd IAT Tot        275111 non-null  float64\n",
            " 25  Bwd IAT Mean       275111 non-null  float64\n",
            " 26  Bwd IAT Std        275111 non-null  float64\n",
            " 27  Bwd IAT Max        275111 non-null  float64\n",
            " 28  Bwd IAT Min        275111 non-null  float64\n",
            " 29  Fwd PSH Flags      275111 non-null  float64\n",
            " 30  Bwd PSH Flags      275111 non-null  float64\n",
            " 31  Fwd URG Flags      275111 non-null  float64\n",
            " 32  Bwd URG Flags      275111 non-null  float64\n",
            " 33  Fwd Header Len     275111 non-null  float64\n",
            " 34  Bwd Header Len     275111 non-null  float64\n",
            " 35  Fwd Pkts/s         275111 non-null  float64\n",
            " 36  Bwd Pkts/s         275111 non-null  float64\n",
            " 37  Pkt Len Min        275111 non-null  float64\n",
            " 38  Pkt Len Max        275111 non-null  float64\n",
            " 39  Pkt Len Mean       275111 non-null  float64\n",
            " 40  Pkt Len Std        275111 non-null  float64\n",
            " 41  Pkt Len Var        275111 non-null  float64\n",
            " 42  FIN Flag Cnt       275111 non-null  float64\n",
            " 43  SYN Flag Cnt       275111 non-null  float64\n",
            " 44  RST Flag Cnt       275111 non-null  float64\n",
            " 45  PSH Flag Cnt       275111 non-null  float64\n",
            " 46  ACK Flag Cnt       275111 non-null  float64\n",
            " 47  URG Flag Cnt       275111 non-null  float64\n",
            " 48  CWE Flag Count     275111 non-null  float64\n",
            " 49  ECE Flag Cnt       275111 non-null  float64\n",
            " 50  Down/Up Ratio      275111 non-null  float64\n",
            " 51  Pkt Size Avg       275111 non-null  float64\n",
            " 52  Fwd Seg Size Avg   275111 non-null  float64\n",
            " 53  Bwd Seg Size Avg   275111 non-null  float64\n",
            " 54  Fwd Byts/b Avg     275111 non-null  float64\n",
            " 55  Fwd Pkts/b Avg     275111 non-null  float64\n",
            " 56  Fwd Blk Rate Avg   275111 non-null  float64\n",
            " 57  Bwd Byts/b Avg     275111 non-null  float64\n",
            " 58  Bwd Pkts/b Avg     275111 non-null  float64\n",
            " 59  Bwd Blk Rate Avg   275111 non-null  float64\n",
            " 60  Subflow Fwd Pkts   275111 non-null  float64\n",
            " 61  Subflow Fwd Byts   275111 non-null  float64\n",
            " 62  Subflow Bwd Pkts   275111 non-null  float64\n",
            " 63  Subflow Bwd Byts   275111 non-null  float64\n",
            " 64  Init Fwd Win Byts  275111 non-null  float64\n",
            " 65  Init Bwd Win Byts  275111 non-null  float64\n",
            " 66  Fwd Act Data Pkts  275111 non-null  float64\n",
            " 67  Fwd Seg Size Min   275111 non-null  float64\n",
            " 68  Active Mean        275111 non-null  float64\n",
            " 69  Active Std         275111 non-null  float64\n",
            " 70  Active Max         275111 non-null  float64\n",
            " 71  Active Min         275111 non-null  float64\n",
            " 72  Idle Mean          275111 non-null  float64\n",
            " 73  Idle Std           275111 non-null  float64\n",
            " 74  Idle Max           275111 non-null  float64\n",
            " 75  Idle Min           275111 non-null  float64\n",
            "dtypes: float64(76)\n",
            "memory usage: 159.5 MB\n"
          ]
        }
      ]
    },
    {
      "cell_type": "markdown",
      "source": [
        "# Load adv samples"
      ],
      "metadata": {
        "id": "kFirQ2Tyz28E"
      }
    },
    {
      "cell_type": "code",
      "source": [
        "feature_list = ['Flow Duration', 'Tot Fwd Pkts', 'Tot Bwd Pkts', 'TotLen Fwd Pkts',\n",
        "       'TotLen Bwd Pkts', 'Fwd Pkt Len Max', 'Fwd Pkt Len Min',\n",
        "       'Fwd Pkt Len Mean', 'Fwd Pkt Len Std', 'Bwd Pkt Len Max',\n",
        "       'Bwd Pkt Len Min', 'Bwd Pkt Len Mean', 'Bwd Pkt Len Std', 'Flow Byts/s',\n",
        "       'Flow Pkts/s', 'Flow IAT Mean', 'Flow IAT Std', 'Flow IAT Max',\n",
        "       'Flow IAT Min', 'Fwd IAT Tot', 'Fwd IAT Mean', 'Fwd IAT Std',\n",
        "       'Fwd IAT Max', 'Fwd IAT Min', 'Bwd IAT Tot', 'Bwd IAT Mean',\n",
        "       'Bwd IAT Std', 'Bwd IAT Max', 'Bwd IAT Min', 'Fwd PSH Flags',\n",
        "       'Bwd PSH Flags', 'Fwd URG Flags', 'Bwd URG Flags', 'Fwd Header Len',\n",
        "       'Bwd Header Len', 'Fwd Pkts/s', 'Bwd Pkts/s', 'Pkt Len Min',\n",
        "       'Pkt Len Max', 'Pkt Len Mean', 'Pkt Len Std', 'Pkt Len Var',\n",
        "       'FIN Flag Cnt', 'SYN Flag Cnt', 'RST Flag Cnt', 'PSH Flag Cnt',\n",
        "       'ACK Flag Cnt', 'URG Flag Cnt', 'CWE Flag Count', 'ECE Flag Cnt',\n",
        "       'Down/Up Ratio', 'Pkt Size Avg', 'Fwd Seg Size Avg', 'Bwd Seg Size Avg',\n",
        "       'Fwd Byts/b Avg', 'Fwd Pkts/b Avg', 'Fwd Blk Rate Avg',\n",
        "       'Bwd Byts/b Avg', 'Bwd Pkts/b Avg', 'Bwd Blk Rate Avg',\n",
        "       'Subflow Fwd Pkts', 'Subflow Fwd Byts', 'Subflow Bwd Pkts',\n",
        "       'Subflow Bwd Byts', 'Init Fwd Win Byts', 'Init Bwd Win Byts',\n",
        "       'Fwd Act Data Pkts', 'Fwd Seg Size Min', 'Active Mean', 'Active Std',\n",
        "       'Active Max', 'Active Min', 'Idle Mean', 'Idle Std', 'Idle Max',\n",
        "       'Idle Min']"
      ],
      "metadata": {
        "id": "uoVlCtWr1F-F"
      },
      "execution_count": 6,
      "outputs": []
    },
    {
      "cell_type": "code",
      "source": [
        "fgsm_path = '/content/drive/MyDrive/Dataset/insdn/adv/24_feature/fgm/fgm_mlp_bin_feature.csv'\n",
        "#fgsm_label_path = '/content/drive/MyDrive/DACN_XAI_Adv_defense/Dataset/insdn/adv/fgsm/adv_fgsm_target.csv'"
      ],
      "metadata": {
        "id": "f29J4Es-z5lJ"
      },
      "execution_count": 7,
      "outputs": []
    },
    {
      "cell_type": "code",
      "source": [
        "fgsm_df = pd.read_csv(fgsm_path)"
      ],
      "metadata": {
        "id": "I8txn6aG0EIJ"
      },
      "execution_count": 8,
      "outputs": []
    },
    {
      "cell_type": "code",
      "source": [
        "fgsm_df.columns = feature_list\n",
        "fgsm_df.info()"
      ],
      "metadata": {
        "colab": {
          "base_uri": "https://localhost:8080/"
        },
        "id": "dcF6Wl5Y0LY2",
        "outputId": "ca8ff57e-827b-4d47-b70b-711f938928a7"
      },
      "execution_count": 9,
      "outputs": [
        {
          "output_type": "stream",
          "name": "stdout",
          "text": [
            "<class 'pandas.core.frame.DataFrame'>\n",
            "RangeIndex: 55151 entries, 0 to 55150\n",
            "Data columns (total 76 columns):\n",
            " #   Column             Non-Null Count  Dtype  \n",
            "---  ------             --------------  -----  \n",
            " 0   Flow Duration      55151 non-null  float64\n",
            " 1   Tot Fwd Pkts       55151 non-null  float64\n",
            " 2   Tot Bwd Pkts       55151 non-null  float64\n",
            " 3   TotLen Fwd Pkts    55151 non-null  float64\n",
            " 4   TotLen Bwd Pkts    55151 non-null  float64\n",
            " 5   Fwd Pkt Len Max    55151 non-null  float64\n",
            " 6   Fwd Pkt Len Min    55151 non-null  float64\n",
            " 7   Fwd Pkt Len Mean   55151 non-null  float64\n",
            " 8   Fwd Pkt Len Std    55151 non-null  float64\n",
            " 9   Bwd Pkt Len Max    55151 non-null  float64\n",
            " 10  Bwd Pkt Len Min    55151 non-null  float64\n",
            " 11  Bwd Pkt Len Mean   55151 non-null  float64\n",
            " 12  Bwd Pkt Len Std    55151 non-null  float64\n",
            " 13  Flow Byts/s        55151 non-null  float64\n",
            " 14  Flow Pkts/s        55151 non-null  float64\n",
            " 15  Flow IAT Mean      55151 non-null  float64\n",
            " 16  Flow IAT Std       55151 non-null  float64\n",
            " 17  Flow IAT Max       55151 non-null  float64\n",
            " 18  Flow IAT Min       55151 non-null  float64\n",
            " 19  Fwd IAT Tot        55151 non-null  float64\n",
            " 20  Fwd IAT Mean       55151 non-null  float64\n",
            " 21  Fwd IAT Std        55151 non-null  float64\n",
            " 22  Fwd IAT Max        55151 non-null  float64\n",
            " 23  Fwd IAT Min        55151 non-null  float64\n",
            " 24  Bwd IAT Tot        55151 non-null  float64\n",
            " 25  Bwd IAT Mean       55151 non-null  float64\n",
            " 26  Bwd IAT Std        55151 non-null  float64\n",
            " 27  Bwd IAT Max        55151 non-null  float64\n",
            " 28  Bwd IAT Min        55151 non-null  float64\n",
            " 29  Fwd PSH Flags      55151 non-null  float64\n",
            " 30  Bwd PSH Flags      55151 non-null  float64\n",
            " 31  Fwd URG Flags      55151 non-null  float64\n",
            " 32  Bwd URG Flags      55151 non-null  float64\n",
            " 33  Fwd Header Len     55151 non-null  float64\n",
            " 34  Bwd Header Len     55151 non-null  float64\n",
            " 35  Fwd Pkts/s         55151 non-null  float64\n",
            " 36  Bwd Pkts/s         55151 non-null  float64\n",
            " 37  Pkt Len Min        55151 non-null  float64\n",
            " 38  Pkt Len Max        55151 non-null  float64\n",
            " 39  Pkt Len Mean       55151 non-null  float64\n",
            " 40  Pkt Len Std        55151 non-null  float64\n",
            " 41  Pkt Len Var        55151 non-null  float64\n",
            " 42  FIN Flag Cnt       55151 non-null  float64\n",
            " 43  SYN Flag Cnt       55151 non-null  float64\n",
            " 44  RST Flag Cnt       55151 non-null  float64\n",
            " 45  PSH Flag Cnt       55151 non-null  float64\n",
            " 46  ACK Flag Cnt       55151 non-null  float64\n",
            " 47  URG Flag Cnt       55151 non-null  float64\n",
            " 48  CWE Flag Count     55151 non-null  float64\n",
            " 49  ECE Flag Cnt       55151 non-null  float64\n",
            " 50  Down/Up Ratio      55151 non-null  float64\n",
            " 51  Pkt Size Avg       55151 non-null  float64\n",
            " 52  Fwd Seg Size Avg   55151 non-null  float64\n",
            " 53  Bwd Seg Size Avg   55151 non-null  float64\n",
            " 54  Fwd Byts/b Avg     55151 non-null  float64\n",
            " 55  Fwd Pkts/b Avg     55151 non-null  float64\n",
            " 56  Fwd Blk Rate Avg   55151 non-null  float64\n",
            " 57  Bwd Byts/b Avg     55151 non-null  float64\n",
            " 58  Bwd Pkts/b Avg     55151 non-null  float64\n",
            " 59  Bwd Blk Rate Avg   55151 non-null  float64\n",
            " 60  Subflow Fwd Pkts   55151 non-null  float64\n",
            " 61  Subflow Fwd Byts   55151 non-null  float64\n",
            " 62  Subflow Bwd Pkts   55151 non-null  float64\n",
            " 63  Subflow Bwd Byts   55151 non-null  float64\n",
            " 64  Init Fwd Win Byts  55151 non-null  float64\n",
            " 65  Init Bwd Win Byts  55151 non-null  float64\n",
            " 66  Fwd Act Data Pkts  55151 non-null  float64\n",
            " 67  Fwd Seg Size Min   55151 non-null  float64\n",
            " 68  Active Mean        55151 non-null  float64\n",
            " 69  Active Std         55151 non-null  float64\n",
            " 70  Active Max         55151 non-null  float64\n",
            " 71  Active Min         55151 non-null  float64\n",
            " 72  Idle Mean          55151 non-null  float64\n",
            " 73  Idle Std           55151 non-null  float64\n",
            " 74  Idle Max           55151 non-null  float64\n",
            " 75  Idle Min           55151 non-null  float64\n",
            "dtypes: float64(76)\n",
            "memory usage: 32.0 MB\n"
          ]
        }
      ]
    },
    {
      "cell_type": "code",
      "source": [
        "#fgsm_label = pd.read_csv(fgsm_label_path)\n",
        "#fgsm_label.info()"
      ],
      "metadata": {
        "id": "PVO-9Dh_1C5T"
      },
      "execution_count": null,
      "outputs": []
    },
    {
      "cell_type": "markdown",
      "source": [
        "# Load DL-based IDS model"
      ],
      "metadata": {
        "id": "g33N-zPby6kB"
      }
    },
    {
      "cell_type": "code",
      "source": [
        "model_mlp = tf.keras.models.load_model('/content/drive/MyDrive/Dataset/insdn/insdn_mlp_bin.h5', compile=True)"
      ],
      "metadata": {
        "id": "ZWIDESvCy2b5"
      },
      "execution_count": 10,
      "outputs": []
    },
    {
      "cell_type": "markdown",
      "source": [
        "# SHAP"
      ],
      "metadata": {
        "id": "RFRvMWrd4QoD"
      }
    },
    {
      "cell_type": "code",
      "source": [
        "explainer = shap.KernelExplainer(model_mlp, shap.sample(df, 100, random_state = 42))"
      ],
      "metadata": {
        "id": "4505XjQu4K_g"
      },
      "execution_count": 11,
      "outputs": []
    },
    {
      "cell_type": "code",
      "source": [
        "fgsm_1000 = fgsm_df.head(1000)"
      ],
      "metadata": {
        "id": "biTLBwQsdMKd"
      },
      "execution_count": 12,
      "outputs": []
    },
    {
      "cell_type": "code",
      "source": [
        "shap_values = explainer.shap_values(fgsm_1000)"
      ],
      "metadata": {
        "id": "2kwEY6jC4Z-l",
        "colab": {
          "base_uri": "https://localhost:8080/",
          "height": 49,
          "referenced_widgets": [
            "fdd1f4e2e05f4e9d9765470fd0bf0d69",
            "ad73b6fcca294985a9a47c9006fb8936",
            "602df650a7554f398dc7e6ed59c9b5a5",
            "844d9cca1a3443078f0ba40feaa9dffe",
            "3461b9e1e85a4875b5734acc39c2eadf",
            "75ec7e48394e4a2493dd3010fa6b48e9",
            "e7f20cc13452424cbb0e0c23877185c1",
            "5ab5d2c5a1674508b264ef95c02a8f8a",
            "666198cf033d4b14befdd7adc8da5fc2",
            "ba88767168064063a3af335d32b7ff44",
            "d64a2c25a88243f28dbb283b3cbcbab5"
          ]
        },
        "outputId": "9eca9ec8-4f7c-4a94-d6ee-7e642978222c"
      },
      "execution_count": 13,
      "outputs": [
        {
          "output_type": "display_data",
          "data": {
            "text/plain": [
              "  0%|          | 0/1000 [00:00<?, ?it/s]"
            ],
            "application/vnd.jupyter.widget-view+json": {
              "version_major": 2,
              "version_minor": 0,
              "model_id": "fdd1f4e2e05f4e9d9765470fd0bf0d69"
            }
          },
          "metadata": {}
        }
      ]
    },
    {
      "cell_type": "code",
      "source": [
        "data_df = pd.DataFrame(shap_values[0])"
      ],
      "metadata": {
        "id": "48h2syinBBb8"
      },
      "execution_count": 14,
      "outputs": []
    },
    {
      "cell_type": "code",
      "source": [
        "data_df.head()"
      ],
      "metadata": {
        "colab": {
          "base_uri": "https://localhost:8080/",
          "height": 299
        },
        "id": "GaPyNdSzBLa5",
        "outputId": "4e8a0d7d-0daf-4012-8665-2748c9b46b3c"
      },
      "execution_count": 15,
      "outputs": [
        {
          "output_type": "execute_result",
          "data": {
            "text/plain": [
              "         0         1         2         3         4    5         6         7   \\\n",
              "0  0.000000  0.000000  0.000000  0.000000  0.024031  0.0  0.000000 -0.006697   \n",
              "1  0.000000  0.000000  0.006078  0.000000  0.006404  0.0  0.000000 -0.004423   \n",
              "2  0.000000  0.000000  0.000000  0.000000  0.000000  0.0  0.007689  0.000000   \n",
              "3  0.012168  0.000000  0.000000  0.012676  0.000000  0.0  0.000000 -0.006325   \n",
              "4 -0.068860 -0.015702 -0.011771  0.015973  0.000000  0.0 -0.009986  0.006199   \n",
              "\n",
              "         8         9   ...        66   67        68        69        70  \\\n",
              "0  0.014128  0.000000  ...  0.000000  0.0 -0.020124  0.006892  0.000000   \n",
              "1  0.000000  0.000000  ...  0.011177  0.0 -0.010147  0.000000 -0.013520   \n",
              "2  0.000000  0.000000  ...  0.015416  0.0  0.000000  0.000000 -0.012073   \n",
              "3  0.004575  0.000000  ...  0.000000  0.0  0.000000  0.000000  0.008074   \n",
              "4  0.010662 -0.004604  ... -0.007417  0.0  0.080588 -0.211684  0.052976   \n",
              "\n",
              "         71        72        73        74        75  \n",
              "0 -0.005990  0.012941  0.000000  0.000000 -0.006614  \n",
              "1  0.003079 -0.052375  0.000000 -0.045104 -0.060366  \n",
              "2  0.000000 -0.053471  0.000000 -0.029122 -0.057386  \n",
              "3 -0.009457 -0.064633  0.000000 -0.033876 -0.054501  \n",
              "4 -0.017468 -0.169244 -0.014491 -0.148827 -0.112607  \n",
              "\n",
              "[5 rows x 76 columns]"
            ],
            "text/html": [
              "\n",
              "  <div id=\"df-b367bec6-24ff-4a90-b4a3-cbe86872d308\">\n",
              "    <div class=\"colab-df-container\">\n",
              "      <div>\n",
              "<style scoped>\n",
              "    .dataframe tbody tr th:only-of-type {\n",
              "        vertical-align: middle;\n",
              "    }\n",
              "\n",
              "    .dataframe tbody tr th {\n",
              "        vertical-align: top;\n",
              "    }\n",
              "\n",
              "    .dataframe thead th {\n",
              "        text-align: right;\n",
              "    }\n",
              "</style>\n",
              "<table border=\"1\" class=\"dataframe\">\n",
              "  <thead>\n",
              "    <tr style=\"text-align: right;\">\n",
              "      <th></th>\n",
              "      <th>0</th>\n",
              "      <th>1</th>\n",
              "      <th>2</th>\n",
              "      <th>3</th>\n",
              "      <th>4</th>\n",
              "      <th>5</th>\n",
              "      <th>6</th>\n",
              "      <th>7</th>\n",
              "      <th>8</th>\n",
              "      <th>9</th>\n",
              "      <th>...</th>\n",
              "      <th>66</th>\n",
              "      <th>67</th>\n",
              "      <th>68</th>\n",
              "      <th>69</th>\n",
              "      <th>70</th>\n",
              "      <th>71</th>\n",
              "      <th>72</th>\n",
              "      <th>73</th>\n",
              "      <th>74</th>\n",
              "      <th>75</th>\n",
              "    </tr>\n",
              "  </thead>\n",
              "  <tbody>\n",
              "    <tr>\n",
              "      <th>0</th>\n",
              "      <td>0.000000</td>\n",
              "      <td>0.000000</td>\n",
              "      <td>0.000000</td>\n",
              "      <td>0.000000</td>\n",
              "      <td>0.024031</td>\n",
              "      <td>0.0</td>\n",
              "      <td>0.000000</td>\n",
              "      <td>-0.006697</td>\n",
              "      <td>0.014128</td>\n",
              "      <td>0.000000</td>\n",
              "      <td>...</td>\n",
              "      <td>0.000000</td>\n",
              "      <td>0.0</td>\n",
              "      <td>-0.020124</td>\n",
              "      <td>0.006892</td>\n",
              "      <td>0.000000</td>\n",
              "      <td>-0.005990</td>\n",
              "      <td>0.012941</td>\n",
              "      <td>0.000000</td>\n",
              "      <td>0.000000</td>\n",
              "      <td>-0.006614</td>\n",
              "    </tr>\n",
              "    <tr>\n",
              "      <th>1</th>\n",
              "      <td>0.000000</td>\n",
              "      <td>0.000000</td>\n",
              "      <td>0.006078</td>\n",
              "      <td>0.000000</td>\n",
              "      <td>0.006404</td>\n",
              "      <td>0.0</td>\n",
              "      <td>0.000000</td>\n",
              "      <td>-0.004423</td>\n",
              "      <td>0.000000</td>\n",
              "      <td>0.000000</td>\n",
              "      <td>...</td>\n",
              "      <td>0.011177</td>\n",
              "      <td>0.0</td>\n",
              "      <td>-0.010147</td>\n",
              "      <td>0.000000</td>\n",
              "      <td>-0.013520</td>\n",
              "      <td>0.003079</td>\n",
              "      <td>-0.052375</td>\n",
              "      <td>0.000000</td>\n",
              "      <td>-0.045104</td>\n",
              "      <td>-0.060366</td>\n",
              "    </tr>\n",
              "    <tr>\n",
              "      <th>2</th>\n",
              "      <td>0.000000</td>\n",
              "      <td>0.000000</td>\n",
              "      <td>0.000000</td>\n",
              "      <td>0.000000</td>\n",
              "      <td>0.000000</td>\n",
              "      <td>0.0</td>\n",
              "      <td>0.007689</td>\n",
              "      <td>0.000000</td>\n",
              "      <td>0.000000</td>\n",
              "      <td>0.000000</td>\n",
              "      <td>...</td>\n",
              "      <td>0.015416</td>\n",
              "      <td>0.0</td>\n",
              "      <td>0.000000</td>\n",
              "      <td>0.000000</td>\n",
              "      <td>-0.012073</td>\n",
              "      <td>0.000000</td>\n",
              "      <td>-0.053471</td>\n",
              "      <td>0.000000</td>\n",
              "      <td>-0.029122</td>\n",
              "      <td>-0.057386</td>\n",
              "    </tr>\n",
              "    <tr>\n",
              "      <th>3</th>\n",
              "      <td>0.012168</td>\n",
              "      <td>0.000000</td>\n",
              "      <td>0.000000</td>\n",
              "      <td>0.012676</td>\n",
              "      <td>0.000000</td>\n",
              "      <td>0.0</td>\n",
              "      <td>0.000000</td>\n",
              "      <td>-0.006325</td>\n",
              "      <td>0.004575</td>\n",
              "      <td>0.000000</td>\n",
              "      <td>...</td>\n",
              "      <td>0.000000</td>\n",
              "      <td>0.0</td>\n",
              "      <td>0.000000</td>\n",
              "      <td>0.000000</td>\n",
              "      <td>0.008074</td>\n",
              "      <td>-0.009457</td>\n",
              "      <td>-0.064633</td>\n",
              "      <td>0.000000</td>\n",
              "      <td>-0.033876</td>\n",
              "      <td>-0.054501</td>\n",
              "    </tr>\n",
              "    <tr>\n",
              "      <th>4</th>\n",
              "      <td>-0.068860</td>\n",
              "      <td>-0.015702</td>\n",
              "      <td>-0.011771</td>\n",
              "      <td>0.015973</td>\n",
              "      <td>0.000000</td>\n",
              "      <td>0.0</td>\n",
              "      <td>-0.009986</td>\n",
              "      <td>0.006199</td>\n",
              "      <td>0.010662</td>\n",
              "      <td>-0.004604</td>\n",
              "      <td>...</td>\n",
              "      <td>-0.007417</td>\n",
              "      <td>0.0</td>\n",
              "      <td>0.080588</td>\n",
              "      <td>-0.211684</td>\n",
              "      <td>0.052976</td>\n",
              "      <td>-0.017468</td>\n",
              "      <td>-0.169244</td>\n",
              "      <td>-0.014491</td>\n",
              "      <td>-0.148827</td>\n",
              "      <td>-0.112607</td>\n",
              "    </tr>\n",
              "  </tbody>\n",
              "</table>\n",
              "<p>5 rows × 76 columns</p>\n",
              "</div>\n",
              "      <button class=\"colab-df-convert\" onclick=\"convertToInteractive('df-b367bec6-24ff-4a90-b4a3-cbe86872d308')\"\n",
              "              title=\"Convert this dataframe to an interactive table.\"\n",
              "              style=\"display:none;\">\n",
              "        \n",
              "  <svg xmlns=\"http://www.w3.org/2000/svg\" height=\"24px\"viewBox=\"0 0 24 24\"\n",
              "       width=\"24px\">\n",
              "    <path d=\"M0 0h24v24H0V0z\" fill=\"none\"/>\n",
              "    <path d=\"M18.56 5.44l.94 2.06.94-2.06 2.06-.94-2.06-.94-.94-2.06-.94 2.06-2.06.94zm-11 1L8.5 8.5l.94-2.06 2.06-.94-2.06-.94L8.5 2.5l-.94 2.06-2.06.94zm10 10l.94 2.06.94-2.06 2.06-.94-2.06-.94-.94-2.06-.94 2.06-2.06.94z\"/><path d=\"M17.41 7.96l-1.37-1.37c-.4-.4-.92-.59-1.43-.59-.52 0-1.04.2-1.43.59L10.3 9.45l-7.72 7.72c-.78.78-.78 2.05 0 2.83L4 21.41c.39.39.9.59 1.41.59.51 0 1.02-.2 1.41-.59l7.78-7.78 2.81-2.81c.8-.78.8-2.07 0-2.86zM5.41 20L4 18.59l7.72-7.72 1.47 1.35L5.41 20z\"/>\n",
              "  </svg>\n",
              "      </button>\n",
              "      \n",
              "  <style>\n",
              "    .colab-df-container {\n",
              "      display:flex;\n",
              "      flex-wrap:wrap;\n",
              "      gap: 12px;\n",
              "    }\n",
              "\n",
              "    .colab-df-convert {\n",
              "      background-color: #E8F0FE;\n",
              "      border: none;\n",
              "      border-radius: 50%;\n",
              "      cursor: pointer;\n",
              "      display: none;\n",
              "      fill: #1967D2;\n",
              "      height: 32px;\n",
              "      padding: 0 0 0 0;\n",
              "      width: 32px;\n",
              "    }\n",
              "\n",
              "    .colab-df-convert:hover {\n",
              "      background-color: #E2EBFA;\n",
              "      box-shadow: 0px 1px 2px rgba(60, 64, 67, 0.3), 0px 1px 3px 1px rgba(60, 64, 67, 0.15);\n",
              "      fill: #174EA6;\n",
              "    }\n",
              "\n",
              "    [theme=dark] .colab-df-convert {\n",
              "      background-color: #3B4455;\n",
              "      fill: #D2E3FC;\n",
              "    }\n",
              "\n",
              "    [theme=dark] .colab-df-convert:hover {\n",
              "      background-color: #434B5C;\n",
              "      box-shadow: 0px 1px 3px 1px rgba(0, 0, 0, 0.15);\n",
              "      filter: drop-shadow(0px 1px 2px rgba(0, 0, 0, 0.3));\n",
              "      fill: #FFFFFF;\n",
              "    }\n",
              "  </style>\n",
              "\n",
              "      <script>\n",
              "        const buttonEl =\n",
              "          document.querySelector('#df-b367bec6-24ff-4a90-b4a3-cbe86872d308 button.colab-df-convert');\n",
              "        buttonEl.style.display =\n",
              "          google.colab.kernel.accessAllowed ? 'block' : 'none';\n",
              "\n",
              "        async function convertToInteractive(key) {\n",
              "          const element = document.querySelector('#df-b367bec6-24ff-4a90-b4a3-cbe86872d308');\n",
              "          const dataTable =\n",
              "            await google.colab.kernel.invokeFunction('convertToInteractive',\n",
              "                                                     [key], {});\n",
              "          if (!dataTable) return;\n",
              "\n",
              "          const docLinkHtml = 'Like what you see? Visit the ' +\n",
              "            '<a target=\"_blank\" href=https://colab.research.google.com/notebooks/data_table.ipynb>data table notebook</a>'\n",
              "            + ' to learn more about interactive tables.';\n",
              "          element.innerHTML = '';\n",
              "          dataTable['output_type'] = 'display_data';\n",
              "          await google.colab.output.renderOutput(dataTable, element);\n",
              "          const docLink = document.createElement('div');\n",
              "          docLink.innerHTML = docLinkHtml;\n",
              "          element.appendChild(docLink);\n",
              "        }\n",
              "      </script>\n",
              "    </div>\n",
              "  </div>\n",
              "  "
            ]
          },
          "metadata": {},
          "execution_count": 15
        }
      ]
    },
    {
      "cell_type": "code",
      "source": [
        "data_df.to_csv('/content/drive/MyDrive/1000_samples_bin_[0].csv', index=False)"
      ],
      "metadata": {
        "id": "mbDTuofCBeGJ"
      },
      "execution_count": null,
      "outputs": []
    },
    {
      "cell_type": "code",
      "source": [
        "data_df.columns = feature_list\n",
        "data_df.head()"
      ],
      "metadata": {
        "colab": {
          "base_uri": "https://localhost:8080/",
          "height": 351
        },
        "id": "Kh8NM9hmM99Y",
        "outputId": "343dcccc-a1d5-4b96-806b-2ea238594dd6"
      },
      "execution_count": 16,
      "outputs": [
        {
          "output_type": "execute_result",
          "data": {
            "text/plain": [
              "   Flow Duration  Tot Fwd Pkts  Tot Bwd Pkts  TotLen Fwd Pkts  \\\n",
              "0       0.000000      0.000000      0.000000         0.000000   \n",
              "1       0.000000      0.000000      0.006078         0.000000   \n",
              "2       0.000000      0.000000      0.000000         0.000000   \n",
              "3       0.012168      0.000000      0.000000         0.012676   \n",
              "4      -0.068860     -0.015702     -0.011771         0.015973   \n",
              "\n",
              "   TotLen Bwd Pkts  Fwd Pkt Len Max  Fwd Pkt Len Min  Fwd Pkt Len Mean  \\\n",
              "0         0.024031              0.0         0.000000         -0.006697   \n",
              "1         0.006404              0.0         0.000000         -0.004423   \n",
              "2         0.000000              0.0         0.007689          0.000000   \n",
              "3         0.000000              0.0         0.000000         -0.006325   \n",
              "4         0.000000              0.0        -0.009986          0.006199   \n",
              "\n",
              "   Fwd Pkt Len Std  Bwd Pkt Len Max  ...  Fwd Act Data Pkts  Fwd Seg Size Min  \\\n",
              "0         0.014128         0.000000  ...           0.000000               0.0   \n",
              "1         0.000000         0.000000  ...           0.011177               0.0   \n",
              "2         0.000000         0.000000  ...           0.015416               0.0   \n",
              "3         0.004575         0.000000  ...           0.000000               0.0   \n",
              "4         0.010662        -0.004604  ...          -0.007417               0.0   \n",
              "\n",
              "   Active Mean  Active Std  Active Max  Active Min  Idle Mean  Idle Std  \\\n",
              "0    -0.020124    0.006892    0.000000   -0.005990   0.012941  0.000000   \n",
              "1    -0.010147    0.000000   -0.013520    0.003079  -0.052375  0.000000   \n",
              "2     0.000000    0.000000   -0.012073    0.000000  -0.053471  0.000000   \n",
              "3     0.000000    0.000000    0.008074   -0.009457  -0.064633  0.000000   \n",
              "4     0.080588   -0.211684    0.052976   -0.017468  -0.169244 -0.014491   \n",
              "\n",
              "   Idle Max  Idle Min  \n",
              "0  0.000000 -0.006614  \n",
              "1 -0.045104 -0.060366  \n",
              "2 -0.029122 -0.057386  \n",
              "3 -0.033876 -0.054501  \n",
              "4 -0.148827 -0.112607  \n",
              "\n",
              "[5 rows x 76 columns]"
            ],
            "text/html": [
              "\n",
              "  <div id=\"df-2eced86d-df64-4499-bd2b-a993d823a58d\">\n",
              "    <div class=\"colab-df-container\">\n",
              "      <div>\n",
              "<style scoped>\n",
              "    .dataframe tbody tr th:only-of-type {\n",
              "        vertical-align: middle;\n",
              "    }\n",
              "\n",
              "    .dataframe tbody tr th {\n",
              "        vertical-align: top;\n",
              "    }\n",
              "\n",
              "    .dataframe thead th {\n",
              "        text-align: right;\n",
              "    }\n",
              "</style>\n",
              "<table border=\"1\" class=\"dataframe\">\n",
              "  <thead>\n",
              "    <tr style=\"text-align: right;\">\n",
              "      <th></th>\n",
              "      <th>Flow Duration</th>\n",
              "      <th>Tot Fwd Pkts</th>\n",
              "      <th>Tot Bwd Pkts</th>\n",
              "      <th>TotLen Fwd Pkts</th>\n",
              "      <th>TotLen Bwd Pkts</th>\n",
              "      <th>Fwd Pkt Len Max</th>\n",
              "      <th>Fwd Pkt Len Min</th>\n",
              "      <th>Fwd Pkt Len Mean</th>\n",
              "      <th>Fwd Pkt Len Std</th>\n",
              "      <th>Bwd Pkt Len Max</th>\n",
              "      <th>...</th>\n",
              "      <th>Fwd Act Data Pkts</th>\n",
              "      <th>Fwd Seg Size Min</th>\n",
              "      <th>Active Mean</th>\n",
              "      <th>Active Std</th>\n",
              "      <th>Active Max</th>\n",
              "      <th>Active Min</th>\n",
              "      <th>Idle Mean</th>\n",
              "      <th>Idle Std</th>\n",
              "      <th>Idle Max</th>\n",
              "      <th>Idle Min</th>\n",
              "    </tr>\n",
              "  </thead>\n",
              "  <tbody>\n",
              "    <tr>\n",
              "      <th>0</th>\n",
              "      <td>0.000000</td>\n",
              "      <td>0.000000</td>\n",
              "      <td>0.000000</td>\n",
              "      <td>0.000000</td>\n",
              "      <td>0.024031</td>\n",
              "      <td>0.0</td>\n",
              "      <td>0.000000</td>\n",
              "      <td>-0.006697</td>\n",
              "      <td>0.014128</td>\n",
              "      <td>0.000000</td>\n",
              "      <td>...</td>\n",
              "      <td>0.000000</td>\n",
              "      <td>0.0</td>\n",
              "      <td>-0.020124</td>\n",
              "      <td>0.006892</td>\n",
              "      <td>0.000000</td>\n",
              "      <td>-0.005990</td>\n",
              "      <td>0.012941</td>\n",
              "      <td>0.000000</td>\n",
              "      <td>0.000000</td>\n",
              "      <td>-0.006614</td>\n",
              "    </tr>\n",
              "    <tr>\n",
              "      <th>1</th>\n",
              "      <td>0.000000</td>\n",
              "      <td>0.000000</td>\n",
              "      <td>0.006078</td>\n",
              "      <td>0.000000</td>\n",
              "      <td>0.006404</td>\n",
              "      <td>0.0</td>\n",
              "      <td>0.000000</td>\n",
              "      <td>-0.004423</td>\n",
              "      <td>0.000000</td>\n",
              "      <td>0.000000</td>\n",
              "      <td>...</td>\n",
              "      <td>0.011177</td>\n",
              "      <td>0.0</td>\n",
              "      <td>-0.010147</td>\n",
              "      <td>0.000000</td>\n",
              "      <td>-0.013520</td>\n",
              "      <td>0.003079</td>\n",
              "      <td>-0.052375</td>\n",
              "      <td>0.000000</td>\n",
              "      <td>-0.045104</td>\n",
              "      <td>-0.060366</td>\n",
              "    </tr>\n",
              "    <tr>\n",
              "      <th>2</th>\n",
              "      <td>0.000000</td>\n",
              "      <td>0.000000</td>\n",
              "      <td>0.000000</td>\n",
              "      <td>0.000000</td>\n",
              "      <td>0.000000</td>\n",
              "      <td>0.0</td>\n",
              "      <td>0.007689</td>\n",
              "      <td>0.000000</td>\n",
              "      <td>0.000000</td>\n",
              "      <td>0.000000</td>\n",
              "      <td>...</td>\n",
              "      <td>0.015416</td>\n",
              "      <td>0.0</td>\n",
              "      <td>0.000000</td>\n",
              "      <td>0.000000</td>\n",
              "      <td>-0.012073</td>\n",
              "      <td>0.000000</td>\n",
              "      <td>-0.053471</td>\n",
              "      <td>0.000000</td>\n",
              "      <td>-0.029122</td>\n",
              "      <td>-0.057386</td>\n",
              "    </tr>\n",
              "    <tr>\n",
              "      <th>3</th>\n",
              "      <td>0.012168</td>\n",
              "      <td>0.000000</td>\n",
              "      <td>0.000000</td>\n",
              "      <td>0.012676</td>\n",
              "      <td>0.000000</td>\n",
              "      <td>0.0</td>\n",
              "      <td>0.000000</td>\n",
              "      <td>-0.006325</td>\n",
              "      <td>0.004575</td>\n",
              "      <td>0.000000</td>\n",
              "      <td>...</td>\n",
              "      <td>0.000000</td>\n",
              "      <td>0.0</td>\n",
              "      <td>0.000000</td>\n",
              "      <td>0.000000</td>\n",
              "      <td>0.008074</td>\n",
              "      <td>-0.009457</td>\n",
              "      <td>-0.064633</td>\n",
              "      <td>0.000000</td>\n",
              "      <td>-0.033876</td>\n",
              "      <td>-0.054501</td>\n",
              "    </tr>\n",
              "    <tr>\n",
              "      <th>4</th>\n",
              "      <td>-0.068860</td>\n",
              "      <td>-0.015702</td>\n",
              "      <td>-0.011771</td>\n",
              "      <td>0.015973</td>\n",
              "      <td>0.000000</td>\n",
              "      <td>0.0</td>\n",
              "      <td>-0.009986</td>\n",
              "      <td>0.006199</td>\n",
              "      <td>0.010662</td>\n",
              "      <td>-0.004604</td>\n",
              "      <td>...</td>\n",
              "      <td>-0.007417</td>\n",
              "      <td>0.0</td>\n",
              "      <td>0.080588</td>\n",
              "      <td>-0.211684</td>\n",
              "      <td>0.052976</td>\n",
              "      <td>-0.017468</td>\n",
              "      <td>-0.169244</td>\n",
              "      <td>-0.014491</td>\n",
              "      <td>-0.148827</td>\n",
              "      <td>-0.112607</td>\n",
              "    </tr>\n",
              "  </tbody>\n",
              "</table>\n",
              "<p>5 rows × 76 columns</p>\n",
              "</div>\n",
              "      <button class=\"colab-df-convert\" onclick=\"convertToInteractive('df-2eced86d-df64-4499-bd2b-a993d823a58d')\"\n",
              "              title=\"Convert this dataframe to an interactive table.\"\n",
              "              style=\"display:none;\">\n",
              "        \n",
              "  <svg xmlns=\"http://www.w3.org/2000/svg\" height=\"24px\"viewBox=\"0 0 24 24\"\n",
              "       width=\"24px\">\n",
              "    <path d=\"M0 0h24v24H0V0z\" fill=\"none\"/>\n",
              "    <path d=\"M18.56 5.44l.94 2.06.94-2.06 2.06-.94-2.06-.94-.94-2.06-.94 2.06-2.06.94zm-11 1L8.5 8.5l.94-2.06 2.06-.94-2.06-.94L8.5 2.5l-.94 2.06-2.06.94zm10 10l.94 2.06.94-2.06 2.06-.94-2.06-.94-.94-2.06-.94 2.06-2.06.94z\"/><path d=\"M17.41 7.96l-1.37-1.37c-.4-.4-.92-.59-1.43-.59-.52 0-1.04.2-1.43.59L10.3 9.45l-7.72 7.72c-.78.78-.78 2.05 0 2.83L4 21.41c.39.39.9.59 1.41.59.51 0 1.02-.2 1.41-.59l7.78-7.78 2.81-2.81c.8-.78.8-2.07 0-2.86zM5.41 20L4 18.59l7.72-7.72 1.47 1.35L5.41 20z\"/>\n",
              "  </svg>\n",
              "      </button>\n",
              "      \n",
              "  <style>\n",
              "    .colab-df-container {\n",
              "      display:flex;\n",
              "      flex-wrap:wrap;\n",
              "      gap: 12px;\n",
              "    }\n",
              "\n",
              "    .colab-df-convert {\n",
              "      background-color: #E8F0FE;\n",
              "      border: none;\n",
              "      border-radius: 50%;\n",
              "      cursor: pointer;\n",
              "      display: none;\n",
              "      fill: #1967D2;\n",
              "      height: 32px;\n",
              "      padding: 0 0 0 0;\n",
              "      width: 32px;\n",
              "    }\n",
              "\n",
              "    .colab-df-convert:hover {\n",
              "      background-color: #E2EBFA;\n",
              "      box-shadow: 0px 1px 2px rgba(60, 64, 67, 0.3), 0px 1px 3px 1px rgba(60, 64, 67, 0.15);\n",
              "      fill: #174EA6;\n",
              "    }\n",
              "\n",
              "    [theme=dark] .colab-df-convert {\n",
              "      background-color: #3B4455;\n",
              "      fill: #D2E3FC;\n",
              "    }\n",
              "\n",
              "    [theme=dark] .colab-df-convert:hover {\n",
              "      background-color: #434B5C;\n",
              "      box-shadow: 0px 1px 3px 1px rgba(0, 0, 0, 0.15);\n",
              "      filter: drop-shadow(0px 1px 2px rgba(0, 0, 0, 0.3));\n",
              "      fill: #FFFFFF;\n",
              "    }\n",
              "  </style>\n",
              "\n",
              "      <script>\n",
              "        const buttonEl =\n",
              "          document.querySelector('#df-2eced86d-df64-4499-bd2b-a993d823a58d button.colab-df-convert');\n",
              "        buttonEl.style.display =\n",
              "          google.colab.kernel.accessAllowed ? 'block' : 'none';\n",
              "\n",
              "        async function convertToInteractive(key) {\n",
              "          const element = document.querySelector('#df-2eced86d-df64-4499-bd2b-a993d823a58d');\n",
              "          const dataTable =\n",
              "            await google.colab.kernel.invokeFunction('convertToInteractive',\n",
              "                                                     [key], {});\n",
              "          if (!dataTable) return;\n",
              "\n",
              "          const docLinkHtml = 'Like what you see? Visit the ' +\n",
              "            '<a target=\"_blank\" href=https://colab.research.google.com/notebooks/data_table.ipynb>data table notebook</a>'\n",
              "            + ' to learn more about interactive tables.';\n",
              "          element.innerHTML = '';\n",
              "          dataTable['output_type'] = 'display_data';\n",
              "          await google.colab.output.renderOutput(dataTable, element);\n",
              "          const docLink = document.createElement('div');\n",
              "          docLink.innerHTML = docLinkHtml;\n",
              "          element.appendChild(docLink);\n",
              "        }\n",
              "      </script>\n",
              "    </div>\n",
              "  </div>\n",
              "  "
            ]
          },
          "metadata": {},
          "execution_count": 16
        }
      ]
    },
    {
      "cell_type": "code",
      "source": [
        "data_dict = {}\n",
        "for idx in range(0, 1000):\n",
        "  # Select the desired row and get the top 10 values's column names\n",
        "  row_values = data_df.iloc[idx].nlargest(10).index.tolist()\n",
        "\n",
        "  # Create a dictionary and add the list with filename as the key\n",
        "  data_dict['Adv sample ' + str(idx)] = row_values"
      ],
      "metadata": {
        "id": "y9KCFvHdP5UO"
      },
      "execution_count": 17,
      "outputs": []
    },
    {
      "cell_type": "code",
      "source": [
        "print(data_dict)"
      ],
      "metadata": {
        "colab": {
          "base_uri": "https://localhost:8080/"
        },
        "id": "SAhM-kXtRLoW",
        "outputId": "205cae8a-3872-4cb2-db3b-81dd725fe1d2"
      },
      "execution_count": 18,
      "outputs": [
        {
          "output_type": "stream",
          "name": "stdout",
          "text": [
            "{'Adv sample 0': ['Bwd IAT Min', 'Bwd IAT Mean', 'Bwd IAT Max', 'Fwd Pkts/b Avg', 'Init Bwd Win Byts', 'Bwd Pkts/s', 'Bwd Pkt Len Std', 'TotLen Bwd Pkts', 'Fwd Seg Size Avg', 'Pkt Len Mean'], 'Adv sample 1': ['SYN Flag Cnt', 'Bwd IAT Mean', 'Fwd IAT Min', 'Init Bwd Win Byts', 'Bwd IAT Max', 'Fwd Byts/b Avg', 'Bwd Pkts/s', 'Fwd Header Len', 'Fwd IAT Mean', 'Flow IAT Max'], 'Adv sample 2': ['SYN Flag Cnt', 'Bwd IAT Mean', 'Init Bwd Win Byts', 'Fwd IAT Min', 'Bwd IAT Max', 'Bwd Pkts/b Avg', 'Bwd IAT Tot', 'Fwd IAT Mean', 'Bwd Seg Size Avg', 'Pkt Len Max'], 'Adv sample 3': ['SYN Flag Cnt', 'Bwd IAT Mean', 'Fwd IAT Min', 'Init Bwd Win Byts', 'Bwd IAT Max', 'Fwd Byts/b Avg', 'Bwd Pkts/s', 'Bwd Pkts/b Avg', 'Flow IAT Min', 'Pkt Len Max'], 'Adv sample 4': ['ACK Flag Cnt', 'Active Mean', 'Active Max', 'Flow IAT Mean', 'Flow IAT Std', 'Init Bwd Win Byts', 'Bwd Pkt Len Min', 'TotLen Fwd Pkts', 'Bwd PSH Flags', 'Fwd Pkts/s'], 'Adv sample 5': ['Bwd IAT Mean', 'Bwd IAT Min', 'Fwd Pkts/b Avg', 'Init Bwd Win Byts', 'Flow Byts/s', 'Down/Up Ratio', 'Fwd Blk Rate Avg', 'Bwd Pkt Len Mean', 'Pkt Len Min', 'Idle Std'], 'Adv sample 6': ['Bwd IAT Min', 'Bwd IAT Max', 'ACK Flag Cnt', 'Bwd IAT Mean', 'Init Bwd Win Byts', 'Bwd Pkts/s', 'Flow Pkts/s', 'Bwd PSH Flags', 'Bwd Header Len', 'Pkt Len Max'], 'Adv sample 7': ['Bwd IAT Min', 'Bwd IAT Mean', 'Bwd IAT Max', 'Init Bwd Win Byts', 'Bwd Pkts/s', 'Fwd Pkts/b Avg', 'Idle Min', 'Bwd Pkt Len Std', 'Flow Pkts/s', 'Fwd Blk Rate Avg'], 'Adv sample 8': ['ACK Flag Cnt', 'Idle Std', 'Init Bwd Win Byts', 'Down/Up Ratio', 'Bwd Byts/b Avg', 'Pkt Len Min', 'Bwd IAT Tot', 'Bwd Pkts/b Avg', 'Fwd IAT Tot', 'Active Mean'], 'Adv sample 9': ['SYN Flag Cnt', 'Bwd IAT Mean', 'Fwd IAT Min', 'Fwd Byts/b Avg', 'Bwd IAT Max', 'Fwd IAT Mean', 'Bwd Pkt Len Std', 'Pkt Size Avg', 'Bwd Header Len', 'Fwd Pkts/s'], 'Adv sample 10': ['ACK Flag Cnt', 'Active Mean', 'Active Max', 'Flow IAT Std', 'Init Bwd Win Byts', 'Flow IAT Mean', 'Fwd Pkt Len Max', 'Flow Pkts/s', 'Bwd Pkt Len Mean', 'Bwd Seg Size Avg'], 'Adv sample 11': ['Bwd IAT Min', 'Bwd IAT Mean', 'Bwd IAT Max', 'Fwd Pkts/b Avg', 'Fwd Blk Rate Avg', 'Bwd Pkts/s', 'Init Bwd Win Byts', 'Bwd IAT Std', 'Flow Pkts/s', 'Fwd Pkt Len Std'], 'Adv sample 12': ['ACK Flag Cnt', 'Active Mean', 'Active Max', 'Flow IAT Std', 'Flow IAT Mean', 'Init Bwd Win Byts', 'Bwd IAT Min', 'Pkt Len Var', 'Fwd Pkt Len Max', 'Subflow Fwd Byts'], 'Adv sample 13': ['Bwd IAT Min', 'Bwd IAT Mean', 'Bwd IAT Max', 'Init Bwd Win Byts', 'Fwd Pkts/b Avg', 'Bwd Pkts/s', 'TotLen Fwd Pkts', 'Pkt Size Avg', 'Down/Up Ratio', 'Flow Pkts/s'], 'Adv sample 14': ['SYN Flag Cnt', 'Bwd IAT Mean', 'Init Bwd Win Byts', 'Fwd IAT Min', 'Bwd IAT Max', 'Fwd Byts/b Avg', 'Bwd Pkts/b Avg', 'Down/Up Ratio', 'Flow IAT Max', 'Bwd Seg Size Avg'], 'Adv sample 15': ['Bwd IAT Min', 'Bwd IAT Mean', 'Idle Max', 'Down/Up Ratio', 'Fwd Pkts/b Avg', 'Init Bwd Win Byts', 'Bwd PSH Flags', 'Bwd Pkt Len Min', 'Fwd Blk Rate Avg', 'Pkt Len Var'], 'Adv sample 16': ['Bwd IAT Min', 'Bwd IAT Max', 'Bwd IAT Mean', 'Init Bwd Win Byts', 'Fwd Pkts/b Avg', 'Flow Pkts/s', 'Bwd Pkts/s', 'Subflow Bwd Pkts', 'Fwd IAT Mean', 'Idle Max'], 'Adv sample 17': ['SYN Flag Cnt', 'Bwd IAT Mean', 'Fwd Byts/b Avg', 'Fwd IAT Min', 'Init Bwd Win Byts', 'Fwd IAT Mean', 'Bwd Pkts/b Avg', 'Pkt Len Min', 'Active Max', 'Bwd Pkt Len Min'], 'Adv sample 18': ['ACK Flag Cnt', 'Idle Std', 'Init Bwd Win Byts', 'Down/Up Ratio', 'Bwd Pkts/b Avg', 'Bwd IAT Tot', 'Bwd Byts/b Avg', 'Pkt Len Min', 'Flow Duration', 'Subflow Fwd Byts'], 'Adv sample 19': ['ACK Flag Cnt', 'Bwd IAT Min', 'Bwd IAT Mean', 'Bwd IAT Max', 'Init Bwd Win Byts', 'Fwd IAT Mean', 'Flow Pkts/s', 'Bwd Pkts/s', 'Bwd Pkt Len Mean', 'Bwd Pkt Len Std'], 'Adv sample 20': ['Bwd IAT Mean', 'Bwd IAT Min', 'Init Bwd Win Byts', 'Fwd Pkts/b Avg', 'Fwd Blk Rate Avg', 'Pkt Size Avg', 'Pkt Len Var', 'Down/Up Ratio', 'Pkt Len Min', 'Tot Bwd Pkts'], 'Adv sample 21': ['SYN Flag Cnt', 'Bwd IAT Mean', 'Fwd IAT Min', 'Init Bwd Win Byts', 'Bwd IAT Max', 'Fwd Byts/b Avg', 'Bwd IAT Tot', 'Bwd Pkts/b Avg', 'Active Max', 'Bwd Pkts/s'], 'Adv sample 22': ['Bwd IAT Mean', 'Bwd IAT Min', 'Fwd Pkts/b Avg', 'Init Bwd Win Byts', 'Fwd Blk Rate Avg', 'Pkt Len Mean', 'Fwd Seg Size Avg', 'Down/Up Ratio', 'Bwd Pkt Len Min', 'Pkt Len Var'], 'Adv sample 23': ['Bwd IAT Min', 'Bwd IAT Mean', 'Bwd IAT Max', 'Init Bwd Win Byts', 'Fwd Pkts/b Avg', 'Bwd Pkts/s', 'Pkt Len Max', 'Flow Pkts/s', 'Flow IAT Min', 'Bwd Pkt Len Max'], 'Adv sample 24': ['Idle Std', 'ACK Flag Cnt', 'Init Bwd Win Byts', 'Bwd Byts/b Avg', 'Bwd Pkts/b Avg', 'Flow IAT Std', 'Pkt Len Min', 'PSH Flag Cnt', 'Flow Duration', 'Pkt Len Std'], 'Adv sample 25': ['SYN Flag Cnt', 'Bwd IAT Mean', 'Fwd IAT Min', 'Bwd IAT Max', 'Fwd Byts/b Avg', 'Bwd Header Len', 'Init Bwd Win Byts', 'Idle Std', 'Subflow Bwd Byts', 'Bwd Pkt Len Std'], 'Adv sample 26': ['Bwd IAT Min', 'Bwd IAT Mean', 'Bwd IAT Max', 'Init Bwd Win Byts', 'Bwd Pkts/s', 'Fwd Pkts/b Avg', 'Fwd Blk Rate Avg', 'Flow Pkts/s', 'Pkt Len Min', 'Pkt Size Avg'], 'Adv sample 27': ['Bwd IAT Mean', 'Bwd IAT Min', 'Init Bwd Win Byts', 'Fwd Pkts/b Avg', 'Down/Up Ratio', 'Fwd Blk Rate Avg', 'Fwd Pkt Len Mean', 'Flow IAT Min', 'PSH Flag Cnt', 'Pkt Size Avg'], 'Adv sample 28': ['FIN Flag Cnt', 'URG Flag Cnt', 'Bwd URG Flags', 'Fwd IAT Mean', 'Idle Min', 'Bwd Seg Size Avg', 'Init Bwd Win Byts', 'Pkt Len Mean', 'Fwd IAT Min', 'Fwd Act Data Pkts'], 'Adv sample 29': ['Bwd Pkts/s', 'Init Bwd Win Byts', 'Pkt Len Std', 'Bwd Pkt Len Mean', 'Fwd Pkt Len Mean', 'TotLen Bwd Pkts', 'Fwd Pkt Len Std', 'Fwd IAT Min', 'Bwd IAT Min', 'Tot Bwd Pkts'], 'Adv sample 30': ['ACK Flag Cnt', 'Bwd IAT Min', 'Fwd IAT Mean', 'Idle Max', 'Init Bwd Win Byts', 'Flow Pkts/s', 'Pkt Len Mean', 'Tot Bwd Pkts', 'Active Min', 'Tot Fwd Pkts'], 'Adv sample 31': ['Bwd IAT Min', 'Bwd IAT Mean', 'Init Bwd Win Byts', 'Fwd IAT Mean', 'Fwd Blk Rate Avg', 'Flow Pkts/s', 'Fwd Pkts/b Avg', 'Bwd Pkts/s', 'Fwd Act Data Pkts', 'Bwd PSH Flags'], 'Adv sample 32': ['SYN Flag Cnt', 'Bwd IAT Mean', 'Fwd IAT Min', 'Init Bwd Win Byts', 'Bwd IAT Max', 'Bwd Seg Size Avg', 'Fwd Byts/b Avg', 'Bwd Pkts/b Avg', 'Fwd IAT Mean', 'Fwd Pkt Len Min'], 'Adv sample 33': ['Bwd IAT Min', 'Bwd IAT Mean', 'Bwd IAT Max', 'Init Bwd Win Byts', 'Bwd Pkts/s', 'Fwd Pkts/b Avg', 'Fwd IAT Mean', 'Flow Pkts/s', 'Down/Up Ratio', 'Pkt Size Avg'], 'Adv sample 34': ['Bwd IAT Min', 'Bwd IAT Mean', 'Bwd IAT Max', 'Init Bwd Win Byts', 'Fwd Pkts/b Avg', 'Fwd Blk Rate Avg', 'Bwd Pkts/s', 'Flow Pkts/s', 'Pkt Len Std', 'Bwd Seg Size Avg'], 'Adv sample 35': ['SYN Flag Cnt', 'Bwd IAT Mean', 'Fwd IAT Min', 'Init Bwd Win Byts', 'Fwd Byts/b Avg', 'Fwd IAT Mean', 'Fwd Pkts/b Avg', 'Flow Pkts/s', 'Bwd Pkts/b Avg', 'Fwd Pkt Len Min'], 'Adv sample 36': ['Bwd IAT Mean', 'Bwd IAT Min', 'Fwd Pkts/b Avg', 'Init Bwd Win Byts', 'Down/Up Ratio', 'Bwd IAT Max', 'Fwd Blk Rate Avg', 'Tot Bwd Pkts', 'Fwd Act Data Pkts', 'Flow IAT Min'], 'Adv sample 37': ['Bwd IAT Min', 'Bwd IAT Mean', 'Bwd IAT Max', 'Init Bwd Win Byts', 'Fwd Pkts/b Avg', 'Bwd Pkts/s', 'Flow Pkts/s', 'Idle Max', 'Fwd IAT Mean', 'Active Min'], 'Adv sample 38': ['ACK Flag Cnt', 'Idle Std', 'Init Bwd Win Byts', 'Bwd IAT Tot', 'Down/Up Ratio', 'Bwd Pkts/b Avg', 'Flow Duration', 'Pkt Len Mean', 'Bwd Byts/b Avg', 'Pkt Len Min'], 'Adv sample 39': ['Bwd IAT Min', 'Bwd IAT Mean', 'Bwd IAT Max', 'Init Bwd Win Byts', 'Bwd Pkts/s', 'Fwd Pkts/b Avg', 'Fwd IAT Mean', 'Bwd Pkt Len Std', 'Flow IAT Max', 'Pkt Len Std'], 'Adv sample 40': ['Bwd IAT Min', 'Bwd IAT Mean', 'Init Bwd Win Byts', 'Fwd Pkts/b Avg', 'Fwd IAT Mean', 'Fwd Blk Rate Avg', 'Flow Pkts/s', 'Pkt Len Max', 'Down/Up Ratio', 'Bwd Seg Size Avg'], 'Adv sample 41': ['Bwd IAT Min', 'Bwd IAT Mean', 'Init Bwd Win Byts', 'Fwd Blk Rate Avg', 'Flow Pkts/s', 'Fwd IAT Mean', 'Fwd Pkts/b Avg', 'Down/Up Ratio', 'Pkt Len Mean', 'Flow IAT Mean'], 'Adv sample 42': ['ACK Flag Cnt', 'Bwd IAT Min', 'Fwd IAT Mean', 'Idle Max', 'Flow Duration', 'Fwd IAT Min', 'Bwd Pkt Len Max', 'Init Bwd Win Byts', 'Flow Pkts/s', 'TotLen Bwd Pkts'], 'Adv sample 43': ['Active Max', 'SYN Flag Cnt', 'Init Bwd Win Byts', 'Flow IAT Mean', 'Bwd PSH Flags', 'Flow IAT Min', 'FIN Flag Cnt', 'Active Mean', 'Pkt Len Min', 'Bwd IAT Min'], 'Adv sample 44': ['Bwd IAT Mean', 'Bwd IAT Min', 'Fwd Pkts/b Avg', 'Down/Up Ratio', 'Init Bwd Win Byts', 'Fwd Blk Rate Avg', 'Idle Min', 'Fwd Act Data Pkts', 'Bwd Pkt Len Min', 'Pkt Len Mean'], 'Adv sample 45': ['Bwd IAT Min', 'Bwd IAT Mean', 'Bwd IAT Max', 'Init Bwd Win Byts', 'Fwd Pkts/b Avg', 'Idle Max', 'Flow Pkts/s', 'Bwd Pkt Len Mean', 'Down/Up Ratio', 'Fwd Pkt Len Std'], 'Adv sample 46': ['Bwd IAT Min', 'Bwd IAT Max', 'Bwd IAT Mean', 'Init Bwd Win Byts', 'Fwd Pkts/b Avg', 'Fwd IAT Mean', 'Down/Up Ratio', 'Fwd Pkt Len Min', 'Active Std', 'Pkt Size Avg'], 'Adv sample 47': ['Bwd IAT Min', 'Bwd IAT Mean', 'Bwd IAT Max', 'Init Bwd Win Byts', 'Fwd Pkts/b Avg', 'Bwd Pkts/s', 'Fwd Blk Rate Avg', 'Flow IAT Std', 'Fwd IAT Mean', 'Active Mean'], 'Adv sample 48': ['SYN Flag Cnt', 'Bwd IAT Mean', 'Fwd Byts/b Avg', 'Fwd IAT Min', 'Bwd IAT Max', 'Pkt Len Min', 'Init Bwd Win Byts', 'Fwd IAT Mean', 'Fwd Pkt Len Min', 'Fwd Pkts/b Avg'], 'Adv sample 49': ['Bwd IAT Min', 'Bwd IAT Mean', 'Bwd IAT Max', 'Fwd Pkts/b Avg', 'Fwd Blk Rate Avg', 'Init Bwd Win Byts', 'Bwd Pkts/s', 'Flow Pkts/s', 'Down/Up Ratio', 'Pkt Len Std'], 'Adv sample 50': ['ACK Flag Cnt', 'Bwd IAT Min', 'Bwd IAT Mean', 'Bwd IAT Max', 'Flow Pkts/s', 'Bwd Pkts/s', 'Init Bwd Win Byts', 'Fwd IAT Mean', 'Pkt Len Mean', 'Fwd Pkts/b Avg'], 'Adv sample 51': ['ACK Flag Cnt', 'Active Mean', 'Active Max', 'Flow IAT Std', 'Init Bwd Win Byts', 'Flow IAT Mean', 'Subflow Bwd Pkts', 'Pkt Len Min', 'Subflow Fwd Byts', 'Bwd IAT Std'], 'Adv sample 52': ['Bwd IAT Mean', 'Bwd IAT Min', 'Fwd Pkts/b Avg', 'Init Bwd Win Byts', 'Fwd Blk Rate Avg', 'Down/Up Ratio', 'Fwd Pkt Len Mean', 'Pkt Len Max', 'Pkt Len Min', 'Subflow Fwd Pkts'], 'Adv sample 53': ['SYN Flag Cnt', 'Bwd IAT Mean', 'Fwd Byts/b Avg', 'Fwd IAT Min', 'Fwd Header Len', 'Flow IAT Std', 'Bwd Pkt Len Min', 'Pkt Len Min', 'Subflow Bwd Pkts', 'Fwd IAT Mean'], 'Adv sample 54': ['ACK Flag Cnt', 'Active Mean', 'Active Max', 'Flow IAT Std', 'Init Bwd Win Byts', 'Flow IAT Mean', 'Bwd PSH Flags', 'Flow Pkts/s', 'Subflow Fwd Byts', 'Bwd Pkt Len Mean'], 'Adv sample 55': ['ACK Flag Cnt', 'Bwd IAT Min', 'Bwd IAT Mean', 'Bwd IAT Max', 'Init Bwd Win Byts', 'Bwd Pkts/s', 'Flow Pkts/s', 'Fwd IAT Mean', 'Fwd Pkts/b Avg', 'Pkt Len Mean'], 'Adv sample 56': ['Bwd IAT Min', 'Bwd IAT Mean', 'Init Bwd Win Byts', 'Flow Pkts/s', 'Fwd Pkts/b Avg', 'Fwd IAT Mean', 'Fwd Blk Rate Avg', 'Down/Up Ratio', 'Fwd Act Data Pkts', 'Pkt Len Max'], 'Adv sample 57': ['Bwd IAT Min', 'Bwd IAT Max', 'Bwd IAT Mean', 'Init Bwd Win Byts', 'Fwd Pkts/b Avg', 'Flow Pkts/s', 'Bwd Pkts/s', 'Fwd IAT Mean', 'Down/Up Ratio', 'Pkt Len Std'], 'Adv sample 58': ['Bwd IAT Min', 'Bwd IAT Mean', 'Bwd IAT Max', 'Init Bwd Win Byts', 'Bwd Pkts/s', 'Flow Pkts/s', 'Fwd Blk Rate Avg', 'Fwd Pkt Len Std', 'Down/Up Ratio', 'Fwd Pkts/b Avg'], 'Adv sample 59': ['ACK Flag Cnt', 'Idle Std', 'Init Bwd Win Byts', 'Down/Up Ratio', 'Bwd Pkts/b Avg', 'Bwd IAT Tot', 'Bwd Byts/b Avg', 'Fwd Seg Size Avg', 'Subflow Bwd Byts', 'Bwd Pkt Len Std'], 'Adv sample 60': ['ACK Flag Cnt', 'Idle Std', 'Init Bwd Win Byts', 'Down/Up Ratio', 'Bwd Pkts/b Avg', 'Bwd IAT Tot', 'Bwd Byts/b Avg', 'Pkt Len Min', 'Fwd IAT Max', 'Fwd Pkts/s'], 'Adv sample 61': ['ACK Flag Cnt', 'Bwd IAT Min', 'Bwd IAT Mean', 'Bwd IAT Max', 'Init Bwd Win Byts', 'Flow Pkts/s', 'Fwd IAT Mean', 'Bwd Pkts/s', 'Fwd Pkts/b Avg', 'Down/Up Ratio'], 'Adv sample 62': ['Bwd IAT Min', 'Bwd IAT Mean', 'Init Bwd Win Byts', 'Fwd Pkts/b Avg', 'Fwd Blk Rate Avg', 'Flow Pkts/s', 'Fwd IAT Mean', 'Down/Up Ratio', 'Bwd Pkt Len Min', 'Bwd PSH Flags'], 'Adv sample 63': ['Bwd Pkts/s', 'Fwd IAT Min', 'Bwd Pkt Len Std', 'Init Bwd Win Byts', 'Down/Up Ratio', 'Fwd Pkt Len Min', 'TotLen Bwd Pkts', 'Pkt Len Std', 'Subflow Bwd Pkts', 'Pkt Size Avg'], 'Adv sample 64': ['Bwd Pkts/s', 'Init Bwd Win Byts', 'Pkt Len Max', 'Flow IAT Mean', 'PSH Flag Cnt', 'Flow Duration', 'Tot Fwd Pkts', 'TotLen Bwd Pkts', 'Fwd Pkt Len Max', 'Fwd Pkt Len Min'], 'Adv sample 65': ['Bwd Pkts/s', 'Fwd IAT Min', 'Flow Duration', 'Pkt Len Min', 'Flow IAT Min', 'Init Bwd Win Byts', 'Fwd Header Len', 'Bwd Pkt Len Std', 'Down/Up Ratio', 'Pkt Len Mean'], 'Adv sample 66': ['ACK Flag Cnt', 'Bwd IAT Min', 'Bwd IAT Mean', 'Bwd IAT Max', 'Init Bwd Win Byts', 'Fwd IAT Mean', 'Bwd Pkts/s', 'Flow Pkts/s', 'Fwd Pkts/b Avg', 'Fwd IAT Min'], 'Adv sample 67': ['Bwd IAT Min', 'Bwd IAT Max', 'Bwd IAT Mean', 'Init Bwd Win Byts', 'Fwd Pkts/b Avg', 'Bwd Pkts/s', 'Pkt Size Avg', 'Pkt Len Mean', 'Flow IAT Std', 'Flow IAT Mean'], 'Adv sample 68': ['ACK Flag Cnt', 'Idle Std', 'Init Bwd Win Byts', 'Down/Up Ratio', 'Bwd IAT Tot', 'Fwd IAT Tot', 'Fwd IAT Mean', 'Bwd Byts/b Avg', 'Pkt Len Min', 'Bwd IAT Mean'], 'Adv sample 69': ['SYN Flag Cnt', 'Bwd IAT Mean', 'Fwd Byts/b Avg', 'Fwd IAT Min', 'Fwd IAT Mean', 'Bwd IAT Max', 'Pkt Len Min', 'Init Bwd Win Byts', 'Bwd Pkt Len Min', 'Active Mean'], 'Adv sample 70': ['SYN Flag Cnt', 'Bwd IAT Mean', 'Fwd Byts/b Avg', 'Fwd IAT Min', 'Fwd Act Data Pkts', 'Init Bwd Win Byts', 'Bwd Pkts/b Avg', 'Bwd PSH Flags', 'Flow Duration', 'TotLen Bwd Pkts'], 'Adv sample 71': ['Bwd IAT Min', 'Bwd IAT Mean', 'Bwd IAT Max', 'Init Bwd Win Byts', 'Bwd Pkts/s', 'Fwd Blk Rate Avg', 'Down/Up Ratio', 'Pkt Len Mean', 'Fwd Pkts/b Avg', 'Pkt Len Min'], 'Adv sample 72': ['ACK Flag Cnt', 'Flow IAT Std', 'Down/Up Ratio', 'Flow IAT Mean', 'Fwd Blk Rate Avg', 'Bwd IAT Tot', 'Fwd Pkts/s', 'Flow Pkts/s', 'Flow IAT Max', 'Active Mean'], 'Adv sample 73': ['Bwd IAT Min', 'Bwd IAT Mean', 'Init Bwd Win Byts', 'Fwd IAT Mean', 'Fwd Blk Rate Avg', 'Fwd Pkts/b Avg', 'Pkt Len Mean', 'Flow Pkts/s', 'Down/Up Ratio', 'Pkt Len Std'], 'Adv sample 74': ['ACK Flag Cnt', 'Active Mean', 'Active Max', 'Flow IAT Std', 'Init Bwd Win Byts', 'Flow IAT Mean', 'Bwd Pkt Len Mean', 'Pkt Len Max', 'Pkt Len Mean', 'Subflow Bwd Pkts'], 'Adv sample 75': ['ACK Flag Cnt', 'Idle Std', 'Init Bwd Win Byts', 'Down/Up Ratio', 'Bwd IAT Tot', 'Bwd Byts/b Avg', 'Bwd Pkts/b Avg', 'Pkt Len Max', 'Fwd Header Len', 'Subflow Bwd Pkts'], 'Adv sample 76': ['ACK Flag Cnt', 'Bwd IAT Mean', 'Bwd IAT Min', 'Bwd IAT Max', 'Init Bwd Win Byts', 'Bwd Pkts/s', 'Flow Pkts/s', 'Fwd IAT Mean', 'Fwd Pkts/b Avg', 'Idle Min'], 'Adv sample 77': ['SYN Flag Cnt', 'Bwd IAT Mean', 'Init Bwd Win Byts', 'Fwd IAT Min', 'Bwd IAT Max', 'Fwd Byts/b Avg', 'Bwd Pkts/s', 'Pkt Len Min', 'Bwd IAT Tot', 'Fwd IAT Mean'], 'Adv sample 78': ['Bwd IAT Min', 'Bwd IAT Max', 'Bwd IAT Mean', 'Init Bwd Win Byts', 'Fwd Pkts/b Avg', 'Down/Up Ratio', 'Bwd Pkts/s', 'Pkt Len Max', 'Flow Duration', 'Fwd IAT Mean'], 'Adv sample 79': ['Idle Std', 'ACK Flag Cnt', 'Init Bwd Win Byts', 'Bwd Byts/b Avg', 'Fwd IAT Max', 'Pkt Len Min', 'Idle Max', 'Flow Byts/s', 'Flow Duration', 'Fwd IAT Min'], 'Adv sample 80': ['Bwd IAT Min', 'Bwd IAT Max', 'Bwd IAT Mean', 'Init Bwd Win Byts', 'Fwd Pkts/b Avg', 'Fwd IAT Mean', 'Bwd Pkts/s', 'Flow Pkts/s', 'Fwd Pkt Len Mean', 'Fwd Pkt Len Max'], 'Adv sample 81': ['ACK Flag Cnt', 'Active Mean', 'Active Max', 'Flow IAT Std', 'Flow IAT Mean', 'Init Bwd Win Byts', 'Idle Mean', 'Subflow Fwd Byts', 'Bwd Pkt Len Mean', 'Bwd IAT Tot'], 'Adv sample 82': ['Bwd IAT Min', 'Bwd IAT Mean', 'Init Bwd Win Byts', 'Fwd Pkts/b Avg', 'Flow Pkts/s', 'Fwd Blk Rate Avg', 'Fwd IAT Mean', 'Down/Up Ratio', 'Idle Max', 'Bwd Pkt Len Mean'], 'Adv sample 83': ['Bwd IAT Min', 'Bwd IAT Mean', 'Bwd IAT Max', 'Fwd Pkts/b Avg', 'Init Bwd Win Byts', 'Fwd IAT Mean', 'Bwd Pkts/s', 'Down/Up Ratio', 'Flow Pkts/s', 'Subflow Bwd Byts'], 'Adv sample 84': ['ACK Flag Cnt', 'Idle Std', 'Init Bwd Win Byts', 'Down/Up Ratio', 'Bwd Pkts/b Avg', 'Bwd IAT Tot', 'Bwd Byts/b Avg', 'Fwd IAT Max', 'Bwd Pkt Len Min', 'Flow IAT Max'], 'Adv sample 85': ['ACK Flag Cnt', 'Bwd IAT Min', 'Fwd IAT Mean', 'Idle Max', 'Init Bwd Win Byts', 'Subflow Fwd Byts', 'Bwd Pkt Len Min', 'Bwd Seg Size Avg', 'Flow IAT Mean', 'Active Max'], 'Adv sample 86': ['ACK Flag Cnt', 'Bwd IAT Mean', 'Bwd IAT Min', 'Bwd IAT Max', 'Init Bwd Win Byts', 'Fwd IAT Mean', 'Bwd Pkts/s', 'Fwd Pkts/s', 'Flow Pkts/s', 'Flow IAT Mean'], 'Adv sample 87': ['SYN Flag Cnt', 'Bwd IAT Mean', 'Init Bwd Win Byts', 'Fwd IAT Min', 'Bwd IAT Max', 'Fwd Byts/b Avg', 'Bwd Pkts/s', 'Fwd IAT Mean', 'Pkt Len Min', 'Flow Pkts/s'], 'Adv sample 88': ['Bwd Pkts/s', 'Init Bwd Win Byts', 'Down/Up Ratio', 'Active Mean', 'Pkt Len Mean', 'Fwd Pkt Len Mean', 'Bwd Header Len', 'Flow Duration', 'Idle Mean', 'Bwd Pkt Len Max'], 'Adv sample 89': ['ACK Flag Cnt', 'Active Mean', 'Active Max', 'Flow IAT Std', 'Flow IAT Mean', 'Init Bwd Win Byts', 'Flow Pkts/s', 'Pkt Len Std', 'Pkt Len Mean', 'TotLen Bwd Pkts'], 'Adv sample 90': ['SYN Flag Cnt', 'Bwd IAT Mean', 'Fwd Byts/b Avg', 'Fwd IAT Min', 'Bwd Pkts/b Avg', 'Init Bwd Win Byts', 'Flow IAT Min', 'Subflow Fwd Byts', 'Tot Fwd Pkts', 'Bwd IAT Max'], 'Adv sample 91': ['Bwd IAT Min', 'Bwd IAT Mean', 'Bwd IAT Max', 'Init Bwd Win Byts', 'Fwd Blk Rate Avg', 'Fwd Pkts/b Avg', 'Down/Up Ratio', 'Pkt Len Min', 'Flow Duration', 'Pkt Len Mean'], 'Adv sample 92': ['ACK Flag Cnt', 'Active Mean', 'Flow IAT Std', 'Active Max', 'Flow IAT Mean', 'Init Bwd Win Byts', 'Pkt Len Max', 'Pkt Len Std', 'Pkt Len Min', 'Subflow Fwd Byts'], 'Adv sample 93': ['Bwd IAT Min', 'Bwd IAT Mean', 'Bwd IAT Max', 'Init Bwd Win Byts', 'Fwd Pkts/b Avg', 'Bwd Pkts/s', 'Fwd IAT Mean', 'Bwd Header Len', 'Idle Min', 'Tot Fwd Pkts'], 'Adv sample 94': ['Bwd IAT Tot', 'SYN Flag Cnt', 'Init Bwd Win Byts', 'Flow IAT Mean', 'Fwd IAT Mean', 'Tot Fwd Pkts', 'Pkt Len Var', 'Active Mean', 'Tot Bwd Pkts', 'Bwd Seg Size Avg'], 'Adv sample 95': ['Bwd Pkts/s', 'Init Bwd Win Byts', 'Fwd IAT Min', 'Pkt Len Mean', 'Pkt Len Std', 'Pkt Len Max', 'Flow Duration', 'Tot Fwd Pkts', 'TotLen Fwd Pkts', 'TotLen Bwd Pkts'], 'Adv sample 96': ['Bwd IAT Min', 'Bwd IAT Mean', 'Bwd IAT Max', 'Init Bwd Win Byts', 'Bwd Pkts/s', 'Fwd Pkts/b Avg', 'Flow Pkts/s', 'Down/Up Ratio', 'Pkt Len Min', 'PSH Flag Cnt'], 'Adv sample 97': ['ACK Flag Cnt', 'Bwd IAT Min', 'Bwd IAT Mean', 'Bwd IAT Max', 'Init Bwd Win Byts', 'Bwd Pkts/s', 'Flow Pkts/s', 'Fwd IAT Mean', 'Fwd Pkts/b Avg', 'Flow IAT Min'], 'Adv sample 98': ['Bwd IAT Min', 'Bwd IAT Mean', 'Bwd IAT Max', 'Init Bwd Win Byts', 'Fwd Pkts/b Avg', 'Bwd Pkts/s', 'Fwd Header Len', 'Fwd IAT Mean', 'Fwd IAT Min', 'Pkt Len Std'], 'Adv sample 99': ['Bwd IAT Min', 'Bwd IAT Mean', 'Init Bwd Win Byts', 'Fwd Blk Rate Avg', 'Pkt Size Avg', 'Pkt Len Min', 'Pkt Len Max', 'Fwd Pkts/b Avg', 'Fwd Pkts/s', 'Flow Byts/s'], 'Adv sample 100': ['ACK Flag Cnt', 'Idle Std', 'Init Bwd Win Byts', 'Down/Up Ratio', 'Bwd IAT Tot', 'Bwd IAT Mean', 'Fwd Pkt Len Mean', 'Fwd Act Data Pkts', 'PSH Flag Cnt', 'Fwd Pkt Len Max'], 'Adv sample 101': ['Bwd IAT Min', 'Bwd IAT Mean', 'Bwd IAT Max', 'Init Bwd Win Byts', 'Fwd Pkts/b Avg', 'Flow Pkts/s', 'Fwd IAT Mean', 'Bwd Pkts/s', 'PSH Flag Cnt', 'TotLen Fwd Pkts'], 'Adv sample 102': ['ACK Flag Cnt', 'Bwd IAT Min', 'Bwd IAT Max', 'Bwd IAT Mean', 'Init Bwd Win Byts', 'Bwd Pkts/s', 'Fwd IAT Mean', 'Flow Pkts/s', 'Fwd Pkts/b Avg', 'Flow IAT Mean'], 'Adv sample 103': ['Bwd Pkts/s', 'Init Bwd Win Byts', 'Fwd IAT Min', 'Active Mean', 'Fwd Pkts/s', 'Fwd Pkt Len Std', 'Flow Byts/s', 'Down/Up Ratio', 'Fwd Header Len', 'Flow Duration'], 'Adv sample 104': ['SYN Flag Cnt', 'Bwd IAT Mean', 'Fwd IAT Min', 'Fwd Byts/b Avg', 'Bwd IAT Max', 'Init Bwd Win Byts', 'Subflow Fwd Byts', 'Flow Byts/s', 'Flow IAT Max', 'Tot Fwd Pkts'], 'Adv sample 105': ['SYN Flag Cnt', 'Bwd IAT Mean', 'Fwd IAT Min', 'Bwd IAT Max', 'Fwd Byts/b Avg', 'Fwd IAT Mean', 'Init Bwd Win Byts', 'Pkt Len Min', 'Fwd Pkts/b Avg', 'Bwd Seg Size Avg'], 'Adv sample 106': ['ACK Flag Cnt', 'Bwd IAT Min', 'Bwd IAT Mean', 'Bwd IAT Max', 'Init Bwd Win Byts', 'Bwd Pkts/s', 'Fwd IAT Mean', 'Flow Pkts/s', 'Flow IAT Mean', 'Fwd Pkts/b Avg'], 'Adv sample 107': ['Bwd IAT Min', 'Bwd IAT Mean', 'Bwd IAT Max', 'Init Bwd Win Byts', 'Bwd Pkts/s', 'Fwd Pkts/b Avg', 'Pkt Len Min', 'Bwd Pkt Len Max', 'Bwd PSH Flags', 'Flow Pkts/s'], 'Adv sample 108': ['ACK Flag Cnt', 'Bwd IAT Min', 'Bwd IAT Mean', 'Bwd IAT Max', 'Init Bwd Win Byts', 'Bwd Pkts/s', 'Fwd Pkts/b Avg', 'Flow Pkts/s', 'Fwd IAT Mean', 'Bwd Pkt Len Max'], 'Adv sample 109': ['ACK Flag Cnt', 'Bwd IAT Min', 'Bwd IAT Max', 'Bwd IAT Mean', 'Init Bwd Win Byts', 'Fwd Pkts/b Avg', 'Fwd IAT Mean', 'Bwd Pkts/s', 'Tot Bwd Pkts', 'Flow Pkts/s'], 'Adv sample 110': ['Idle Std', 'ACK Flag Cnt', 'Init Bwd Win Byts', 'Bwd Byts/b Avg', 'Pkt Len Min', 'Bwd Pkts/b Avg', 'Flow Duration', 'Pkt Len Max', 'Idle Min', 'TotLen Bwd Pkts'], 'Adv sample 111': ['Bwd IAT Min', 'Bwd IAT Mean', 'Bwd IAT Max', 'Fwd Pkts/b Avg', 'Fwd Blk Rate Avg', 'Bwd Pkts/s', 'Flow Pkts/s', 'Init Bwd Win Byts', 'Down/Up Ratio', 'Pkt Len Max'], 'Adv sample 112': ['SYN Flag Cnt', 'Bwd IAT Mean', 'Fwd IAT Min', 'Fwd Byts/b Avg', 'Bwd IAT Max', 'Init Bwd Win Byts', 'Fwd Pkts/b Avg', 'Flow IAT Min', 'Down/Up Ratio', 'Fwd Header Len'], 'Adv sample 113': ['ACK Flag Cnt', 'Bwd IAT Min', 'Bwd IAT Mean', 'Bwd IAT Max', 'Init Bwd Win Byts', 'Fwd Pkts/b Avg', 'Flow Pkts/s', 'Bwd Pkts/s', 'Pkt Len Max', 'Down/Up Ratio'], 'Adv sample 114': ['Bwd IAT Min', 'Bwd IAT Max', 'Bwd IAT Mean', 'Fwd Pkts/b Avg', 'Fwd Blk Rate Avg', 'Init Bwd Win Byts', 'Flow Pkts/s', 'Pkt Len Std', 'Bwd Pkts/s', 'Fwd Pkt Len Std'], 'Adv sample 115': ['Bwd IAT Min', 'Bwd IAT Mean', 'Bwd IAT Max', 'Init Bwd Win Byts', 'Bwd Pkts/s', 'Fwd Pkts/b Avg', 'Flow Pkts/s', 'Pkt Size Avg', 'Pkt Len Mean', 'Pkt Len Std'], 'Adv sample 116': ['Bwd IAT Mean', 'Bwd IAT Min', 'Init Bwd Win Byts', 'Fwd Pkts/b Avg', 'Down/Up Ratio', 'Fwd Blk Rate Avg', 'Flow IAT Mean', 'Pkt Len Std', 'Pkt Len Min', 'Subflow Fwd Pkts'], 'Adv sample 117': ['ACK Flag Cnt', 'Bwd IAT Min', 'Bwd IAT Max', 'Bwd IAT Mean', 'Init Bwd Win Byts', 'Bwd Pkts/s', 'Fwd IAT Mean', 'Flow Pkts/s', 'Fwd Pkts/b Avg', 'Pkt Size Avg'], 'Adv sample 118': ['Bwd IAT Min', 'Bwd IAT Mean', 'Bwd IAT Max', 'Init Bwd Win Byts', 'Bwd Pkts/s', 'Fwd Pkts/b Avg', 'Flow Pkts/s', 'Fwd Blk Rate Avg', 'Active Mean', 'Down/Up Ratio'], 'Adv sample 119': ['Bwd Pkts/s', 'Fwd IAT Min', 'Down/Up Ratio', 'Init Bwd Win Byts', 'Bwd Pkt Len Max', 'Idle Mean', 'Pkt Len Var', 'Bwd Seg Size Avg', 'Flow Duration', 'Tot Fwd Pkts'], 'Adv sample 120': ['ACK Flag Cnt', 'Bwd IAT Min', 'Bwd IAT Mean', 'Bwd IAT Max', 'Init Bwd Win Byts', 'Bwd Pkts/s', 'Fwd IAT Mean', 'Flow Pkts/s', 'Fwd Pkts/b Avg', 'Active Max'], 'Adv sample 121': ['ACK Flag Cnt', 'Active Mean', 'Active Max', 'Flow IAT Std', 'Init Bwd Win Byts', 'Flow IAT Mean', 'Pkt Len Std', 'Pkt Len Min', 'Subflow Bwd Byts', 'Bwd Header Len'], 'Adv sample 122': ['SYN Flag Cnt', 'Bwd IAT Mean', 'Fwd IAT Min', 'Init Bwd Win Byts', 'Fwd Byts/b Avg', 'Bwd Pkts/b Avg', 'Fwd Seg Size Avg', 'Bwd Header Len', 'Fwd IAT Mean', 'Fwd Pkts/b Avg'], 'Adv sample 123': ['SYN Flag Cnt', 'Bwd IAT Mean', 'Fwd IAT Min', 'Init Bwd Win Byts', 'Bwd IAT Max', 'Fwd Byts/b Avg', 'Fwd IAT Mean', 'Bwd Pkts/s', 'Fwd Seg Size Avg', 'Bwd IAT Tot'], 'Adv sample 124': ['ACK Flag Cnt', 'Active Mean', 'Active Max', 'Flow IAT Std', 'Init Bwd Win Byts', 'Pkt Size Avg', 'Pkt Len Mean', 'Pkt Len Min', 'Tot Bwd Pkts', 'Bwd Seg Size Avg'], 'Adv sample 125': ['Bwd IAT Mean', 'Bwd IAT Min', 'Init Bwd Win Byts', 'Fwd Pkts/b Avg', 'Fwd Blk Rate Avg', 'Pkt Len Min', 'Bwd Pkt Len Std', 'Subflow Fwd Pkts', 'Down/Up Ratio', 'Bwd Pkt Len Mean'], 'Adv sample 126': ['Bwd IAT Mean', 'Bwd IAT Min', 'Init Bwd Win Byts', 'Down/Up Ratio', 'Fwd Pkts/b Avg', 'Fwd Pkt Len Min', 'Fwd Blk Rate Avg', 'Pkt Len Max', 'Pkt Len Std', 'Pkt Len Var'], 'Adv sample 127': ['Bwd Pkts/s', 'Init Bwd Win Byts', 'Bwd Pkt Len Std', 'Pkt Len Max', 'Idle Mean', 'Down/Up Ratio', 'Subflow Bwd Byts', 'Pkt Len Mean', 'Fwd Pkt Len Mean', 'PSH Flag Cnt'], 'Adv sample 128': ['SYN Flag Cnt', 'Bwd IAT Mean', 'Fwd IAT Min', 'Init Bwd Win Byts', 'Bwd IAT Max', 'Fwd Byts/b Avg', 'Bwd Pkts/s', 'Fwd IAT Mean', 'Bwd IAT Tot', 'Bwd Pkt Len Min'], 'Adv sample 129': ['Bwd IAT Min', 'Bwd IAT Mean', 'Bwd IAT Max', 'Init Bwd Win Byts', 'Bwd Pkts/s', 'Flow Pkts/s', 'Fwd Pkts/b Avg', 'Down/Up Ratio', 'Pkt Len Min', 'Flow IAT Max'], 'Adv sample 130': ['Bwd IAT Min', 'Bwd IAT Mean', 'Bwd IAT Max', 'Init Bwd Win Byts', 'Fwd Pkts/b Avg', 'Down/Up Ratio', 'Flow Duration', 'Flow Byts/s', 'Fwd Blk Rate Avg', 'Bwd Pkt Len Min'], 'Adv sample 131': ['Bwd IAT Min', 'Bwd IAT Mean', 'Bwd IAT Max', 'Init Bwd Win Byts', 'Bwd Pkts/s', 'Flow Pkts/s', 'Bwd Pkt Len Mean', 'Bwd IAT Std', 'Fwd Pkt Len Max', 'Fwd Pkts/b Avg'], 'Adv sample 132': ['Bwd IAT Min', 'Bwd IAT Mean', 'Bwd IAT Max', 'Init Bwd Win Byts', 'Fwd Pkts/b Avg', 'Fwd IAT Mean', 'Fwd Seg Size Avg', 'Fwd Pkt Len Max', 'Pkt Len Min', 'Fwd Pkt Len Mean'], 'Adv sample 133': ['Bwd IAT Min', 'Bwd IAT Mean', 'Bwd IAT Max', 'Init Bwd Win Byts', 'Bwd Pkts/s', 'Fwd Blk Rate Avg', 'Fwd Pkts/b Avg', 'TotLen Fwd Pkts', 'Flow Pkts/s', 'Pkt Len Min'], 'Adv sample 134': ['SYN Flag Cnt', 'Bwd IAT Mean', 'Fwd Byts/b Avg', 'Fwd IAT Min', 'Init Bwd Win Byts', 'Subflow Fwd Pkts', 'Fwd Pkts/b Avg', 'Tot Fwd Pkts', 'Fwd IAT Mean', 'Pkt Len Min'], 'Adv sample 135': ['Bwd IAT Min', 'Bwd IAT Mean', 'Bwd IAT Max', 'Init Bwd Win Byts', 'Bwd Pkts/s', 'Fwd Pkts/b Avg', 'Flow Pkts/s', 'Bwd PSH Flags', 'Fwd Blk Rate Avg', 'Fwd Header Len'], 'Adv sample 136': ['SYN Flag Cnt', 'Bwd IAT Mean', 'Fwd IAT Min', 'Bwd IAT Max', 'Fwd Byts/b Avg', 'Init Bwd Win Byts', 'Pkt Len Std', 'Fwd IAT Mean', 'Down/Up Ratio', 'Pkt Len Min'], 'Adv sample 137': ['URG Flag Cnt', 'Bwd URG Flags', 'Fwd IAT Mean', 'FIN Flag Cnt', 'Idle Min', 'Down/Up Ratio', 'Init Bwd Win Byts', 'Pkt Len Max', 'Subflow Bwd Byts', 'Pkt Len Var'], 'Adv sample 138': ['ACK Flag Cnt', 'Active Mean', 'Active Max', 'Flow IAT Std', 'Init Bwd Win Byts', 'Flow IAT Mean', 'Bwd Pkt Len Max', 'Bwd Header Len', 'Bwd Pkt Len Min', 'Idle Mean'], 'Adv sample 139': ['Bwd IAT Min', 'Bwd IAT Mean', 'Fwd IAT Mean', 'Fwd Pkts/b Avg', 'Init Bwd Win Byts', 'Fwd Blk Rate Avg', 'Flow Pkts/s', 'Pkt Len Mean', 'Active Mean', 'Down/Up Ratio'], 'Adv sample 140': ['ACK Flag Cnt', 'Idle Std', 'Init Bwd Win Byts', 'Bwd Byts/b Avg', 'Fwd IAT Mean', 'Subflow Bwd Pkts', 'Bwd Pkts/b Avg', 'Pkt Len Min', 'Flow IAT Max', 'Bwd PSH Flags'], 'Adv sample 141': ['SYN Flag Cnt', 'Bwd IAT Mean', 'Fwd IAT Min', 'Fwd Byts/b Avg', 'Fwd Pkts/b Avg', 'Fwd IAT Mean', 'Init Bwd Win Byts', 'Bwd IAT Max', 'Down/Up Ratio', 'Pkt Len Mean'], 'Adv sample 142': ['SYN Flag Cnt', 'Bwd IAT Mean', 'Fwd IAT Min', 'Fwd Byts/b Avg', 'Bwd Pkts/b Avg', 'Fwd Header Len', 'Bwd Pkt Len Min', 'Init Bwd Win Byts', 'Fwd Pkts/b Avg', 'Flow IAT Max'], 'Adv sample 143': ['Bwd Pkts/s', 'Bwd IAT Mean', 'Init Bwd Win Byts', 'Bwd IAT Min', 'Flow IAT Max', 'Flow IAT Std', 'Bwd Pkt Len Mean', 'Fwd Pkt Len Std', 'Pkt Len Std', 'Fwd Pkt Len Max'], 'Adv sample 144': ['ACK Flag Cnt', 'Bwd IAT Min', 'Fwd IAT Mean', 'Idle Max', 'Init Bwd Win Byts', 'Fwd Pkt Len Std', 'Pkt Len Mean', 'Flow Byts/s', 'Bwd Header Len', 'Pkt Len Min'], 'Adv sample 145': ['ACK Flag Cnt', 'Bwd IAT Min', 'Bwd IAT Mean', 'Bwd IAT Max', 'Init Bwd Win Byts', 'Bwd Pkts/s', 'Flow Pkts/s', 'Fwd IAT Mean', 'Fwd Pkts/b Avg', 'TotLen Bwd Pkts'], 'Adv sample 146': ['Bwd IAT Min', 'Bwd IAT Mean', 'Bwd IAT Max', 'Init Bwd Win Byts', 'Bwd Pkts/s', 'Flow Pkts/s', 'Fwd Blk Rate Avg', 'Bwd Header Len', 'Down/Up Ratio', 'PSH Flag Cnt'], 'Adv sample 147': ['SYN Flag Cnt', 'Bwd IAT Mean', 'Fwd IAT Min', 'Fwd Byts/b Avg', 'Fwd Pkts/b Avg', 'TotLen Fwd Pkts', 'Fwd IAT Mean', 'Flow Duration', 'Bwd Pkt Len Min', 'Flow IAT Max'], 'Adv sample 148': ['SYN Flag Cnt', 'Bwd IAT Mean', 'Fwd IAT Min', 'Fwd Byts/b Avg', 'Fwd Pkts/b Avg', 'Init Bwd Win Byts', 'Active Max', 'Pkt Size Avg', 'Fwd IAT Mean', 'Fwd Pkts/s'], 'Adv sample 149': ['Bwd IAT Min', 'Bwd IAT Mean', 'Bwd IAT Max', 'Init Bwd Win Byts', 'Fwd Pkts/b Avg', 'Fwd Blk Rate Avg', 'Fwd Pkt Len Std', 'Active Min', 'Bwd PSH Flags', 'Idle Max'], 'Adv sample 150': ['ACK Flag Cnt', 'Bwd IAT Min', 'Fwd IAT Mean', 'Idle Max', 'Init Bwd Win Byts', 'Bwd IAT Mean', 'Pkt Len Min', 'Pkt Len Mean', 'Tot Bwd Pkts', 'Fwd Seg Size Avg'], 'Adv sample 151': ['Idle Std', 'ACK Flag Cnt', 'Init Bwd Win Byts', 'Bwd Byts/b Avg', 'PSH Flag Cnt', 'Idle Max', 'Pkt Len Min', 'TotLen Bwd Pkts', 'Flow IAT Mean', 'Idle Min'], 'Adv sample 152': ['SYN Flag Cnt', 'Bwd IAT Mean', 'Fwd IAT Min', 'Fwd Byts/b Avg', 'Init Bwd Win Byts', 'Fwd Pkts/b Avg', 'Flow IAT Max', 'Pkt Len Std', 'Fwd IAT Mean', 'Bwd PSH Flags'], 'Adv sample 153': ['SYN Flag Cnt', 'Bwd IAT Mean', 'Fwd IAT Min', 'Bwd IAT Max', 'Init Bwd Win Byts', 'Bwd Pkts/s', 'Fwd Byts/b Avg', 'Idle Std', 'Flow Pkts/s', 'Bwd IAT Tot'], 'Adv sample 154': ['Bwd Pkts/s', 'Init Bwd Win Byts', 'Fwd IAT Min', 'Tot Fwd Pkts', 'Tot Bwd Pkts', 'TotLen Fwd Pkts', 'TotLen Bwd Pkts', 'Fwd Pkt Len Max', 'Fwd Pkt Len Min', 'Fwd Pkt Len Mean'], 'Adv sample 155': ['SYN Flag Cnt', 'Bwd IAT Mean', 'Fwd IAT Min', 'Init Bwd Win Byts', 'Bwd IAT Max', 'Fwd Byts/b Avg', 'Bwd Pkts/b Avg', 'Bwd Pkt Len Std', 'Fwd IAT Mean', 'Fwd Pkt Len Max'], 'Adv sample 156': ['ACK Flag Cnt', 'Active Mean', 'Active Max', 'Init Bwd Win Byts', 'Flow IAT Std', 'PSH Flag Cnt', 'Flow IAT Mean', 'Bwd Header Len', 'Bwd PSH Flags', 'Fwd Header Len'], 'Adv sample 157': ['ACK Flag Cnt', 'Bwd IAT Min', 'Bwd IAT Mean', 'Bwd IAT Max', 'Init Bwd Win Byts', 'Bwd Pkts/s', 'Flow Pkts/s', 'Pkt Len Max', 'Fwd IAT Mean', 'TotLen Bwd Pkts'], 'Adv sample 158': ['SYN Flag Cnt', 'Bwd IAT Mean', 'Fwd IAT Min', 'Init Bwd Win Byts', 'Bwd IAT Max', 'Bwd Pkts/b Avg', 'Fwd Byts/b Avg', 'Bwd Seg Size Avg', 'Fwd Pkts/b Avg', 'Idle Std'], 'Adv sample 159': ['ACK Flag Cnt', 'Bwd IAT Min', 'Bwd IAT Mean', 'Bwd IAT Max', 'Bwd Pkts/s', 'Init Bwd Win Byts', 'Flow Pkts/s', 'Fwd IAT Mean', 'Bwd Header Len', 'Pkt Len Max'], 'Adv sample 160': ['Bwd IAT Min', 'Bwd IAT Mean', 'Bwd IAT Max', 'Init Bwd Win Byts', 'Bwd Pkts/s', 'Fwd Blk Rate Avg', 'Fwd Pkts/b Avg', 'Down/Up Ratio', 'Flow Pkts/s', 'TotLen Bwd Pkts'], 'Adv sample 161': ['Bwd Pkts/s', 'Fwd IAT Min', 'Init Bwd Win Byts', 'Down/Up Ratio', 'Bwd IAT Tot', 'Flow IAT Min', 'Active Max', 'Tot Bwd Pkts', 'TotLen Fwd Pkts', 'TotLen Bwd Pkts'], 'Adv sample 162': ['Bwd IAT Min', 'Bwd IAT Mean', 'Bwd IAT Max', 'Init Bwd Win Byts', 'Bwd Pkts/s', 'Flow Pkts/s', 'Fwd Blk Rate Avg', 'Bwd Pkt Len Mean', 'Fwd IAT Mean', 'Fwd Pkts/b Avg'], 'Adv sample 163': ['ACK Flag Cnt', 'Bwd IAT Min', 'Bwd IAT Mean', 'Bwd IAT Max', 'Init Bwd Win Byts', 'Bwd Pkts/s', 'Flow Pkts/s', 'Fwd IAT Mean', 'Fwd Pkts/s', 'Down/Up Ratio'], 'Adv sample 164': ['Bwd IAT Min', 'Bwd IAT Mean', 'Bwd IAT Max', 'Fwd Pkts/b Avg', 'Flow Pkts/s', 'Fwd Blk Rate Avg', 'Bwd Pkts/s', 'Down/Up Ratio', 'Bwd Pkt Len Std', 'Bwd Seg Size Avg'], 'Adv sample 165': ['Bwd Pkts/s', 'Init Bwd Win Byts', 'Fwd IAT Min', 'Pkt Len Min', 'Fwd Act Data Pkts', 'Tot Bwd Pkts', 'Flow Duration', 'Fwd Header Len', 'Pkt Len Max', 'Down/Up Ratio'], 'Adv sample 166': ['Bwd Pkts/s', 'Init Bwd Win Byts', 'Idle Mean', 'Fwd IAT Min', 'Bwd Pkt Len Mean', 'Flow IAT Min', 'Tot Fwd Pkts', 'Down/Up Ratio', 'Active Max', 'Subflow Bwd Pkts'], 'Adv sample 167': ['ACK Flag Cnt', 'Bwd IAT Mean', 'Bwd IAT Min', 'Bwd IAT Max', 'Init Bwd Win Byts', 'Flow Pkts/s', 'Bwd Pkts/s', 'Pkt Len Mean', 'Fwd Pkt Len Mean', 'Down/Up Ratio'], 'Adv sample 168': ['ACK Flag Cnt', 'Idle Std', 'Init Bwd Win Byts', 'Bwd IAT Tot', 'Down/Up Ratio', 'Bwd Byts/b Avg', 'Pkt Len Min', 'Bwd Pkts/b Avg', 'Active Mean', 'Bwd Pkt Len Max'], 'Adv sample 169': ['Bwd IAT Min', 'Bwd IAT Max', 'Bwd IAT Mean', 'ACK Flag Cnt', 'Init Bwd Win Byts', 'Pkt Len Min', 'Pkt Len Var', 'Bwd Pkts/s', 'Flow IAT Min', 'Bwd IAT Std'], 'Adv sample 170': ['ACK Flag Cnt', 'Bwd IAT Min', 'Bwd IAT Mean', 'Bwd IAT Max', 'Init Bwd Win Byts', 'Bwd Pkts/s', 'Flow Pkts/s', 'Fwd IAT Mean', 'Down/Up Ratio', 'Bwd Seg Size Avg'], 'Adv sample 171': ['Bwd IAT Min', 'Bwd IAT Max', 'Bwd IAT Mean', 'ACK Flag Cnt', 'Init Bwd Win Byts', 'Bwd Pkts/s', 'Fwd IAT Mean', 'Bwd Pkt Len Std', 'Flow Pkts/s', 'Down/Up Ratio'], 'Adv sample 172': ['ACK Flag Cnt', 'Idle Std', 'Init Bwd Win Byts', 'Bwd IAT Tot', 'Down/Up Ratio', 'Bwd Pkts/b Avg', 'Flow Duration', 'Pkt Len Mean', 'Fwd IAT Tot', 'Pkt Len Max'], 'Adv sample 173': ['ACK Flag Cnt', 'Bwd IAT Min', 'Bwd IAT Mean', 'Bwd IAT Max', 'Init Bwd Win Byts', 'Bwd Pkts/s', 'Flow Pkts/s', 'Fwd IAT Mean', 'Fwd Pkts/b Avg', 'Pkt Len Mean'], 'Adv sample 174': ['Bwd IAT Min', 'Bwd IAT Mean', 'Bwd IAT Max', 'Init Bwd Win Byts', 'Fwd Pkts/b Avg', 'Bwd Pkts/s', 'Down/Up Ratio', 'Flow Pkts/s', 'Fwd IAT Min', 'Bwd IAT Std'], 'Adv sample 175': ['SYN Flag Cnt', 'Bwd IAT Mean', 'Init Bwd Win Byts', 'Fwd IAT Min', 'Bwd IAT Max', 'Fwd Byts/b Avg', 'Fwd IAT Mean', 'Bwd Pkts/b Avg', 'Bwd Pkts/s', 'Pkt Size Avg'], 'Adv sample 176': ['URG Flag Cnt', 'FIN Flag Cnt', 'Fwd IAT Mean', 'Idle Min', 'Bwd URG Flags', 'Down/Up Ratio', 'Active Min', 'Fwd Act Data Pkts', 'Pkt Len Std', 'Subflow Fwd Byts'], 'Adv sample 177': ['SYN Flag Cnt', 'Bwd IAT Mean', 'Fwd IAT Min', 'Bwd IAT Max', 'Fwd Byts/b Avg', 'Init Bwd Win Byts', 'Fwd IAT Mean', 'Pkt Len Max', 'Down/Up Ratio', 'Pkt Size Avg'], 'Adv sample 178': ['Bwd IAT Mean', 'Bwd IAT Min', 'Init Bwd Win Byts', 'Fwd Blk Rate Avg', 'Fwd Pkts/b Avg', 'Pkt Len Var', 'Idle Mean', 'Subflow Bwd Byts', 'Subflow Fwd Byts', 'Down/Up Ratio'], 'Adv sample 179': ['SYN Flag Cnt', 'Bwd IAT Mean', 'Fwd IAT Min', 'Init Bwd Win Byts', 'Bwd IAT Max', 'Fwd Byts/b Avg', 'Fwd IAT Mean', 'Bwd Pkts/s', 'Flow Pkts/s', 'Bwd IAT Tot'], 'Adv sample 180': ['Bwd IAT Min', 'Bwd IAT Mean', 'Init Bwd Win Byts', 'Fwd Pkts/b Avg', 'Fwd Blk Rate Avg', 'Flow Pkts/s', 'Fwd IAT Mean', 'Down/Up Ratio', 'Pkt Len Max', 'Pkt Size Avg'], 'Adv sample 181': ['Bwd Pkts/s', 'Init Bwd Win Byts', 'Active Mean', 'Active Min', 'Idle Mean', 'Idle Std', 'Idle Min', 'Flow Duration', 'Tot Bwd Pkts', 'TotLen Fwd Pkts'], 'Adv sample 182': ['Bwd IAT Mean', 'Bwd IAT Min', 'Init Bwd Win Byts', 'Fwd Pkts/b Avg', 'Fwd Blk Rate Avg', 'Down/Up Ratio', 'Bwd Pkt Len Min', 'Pkt Len Max', 'Bwd Pkt Len Std', 'Pkt Len Min'], 'Adv sample 183': ['ACK Flag Cnt', 'Active Mean', 'Flow IAT Std', 'Active Max', 'Flow IAT Mean', 'Pkt Len Var', 'Bwd Header Len', 'Fwd Header Len', 'Fwd IAT Min', 'Pkt Size Avg'], 'Adv sample 184': ['Bwd IAT Min', 'Bwd IAT Mean', 'Bwd IAT Max', 'Init Bwd Win Byts', 'Bwd Pkts/s', 'Fwd Pkts/b Avg', 'Flow Pkts/s', 'Down/Up Ratio', 'Bwd PSH Flags', 'Bwd Pkt Len Max'], 'Adv sample 185': ['Bwd IAT Min', 'Bwd IAT Mean', 'Fwd Pkts/b Avg', 'Init Bwd Win Byts', 'Fwd IAT Mean', 'Down/Up Ratio', 'Flow Pkts/s', 'Fwd Blk Rate Avg', 'Flow Byts/s', 'Bwd Pkt Len Min'], 'Adv sample 186': ['Bwd IAT Min', 'Bwd IAT Mean', 'Bwd IAT Max', 'Init Bwd Win Byts', 'Fwd Pkts/b Avg', 'Fwd IAT Mean', 'Down/Up Ratio', 'Idle Min', 'Fwd Pkt Len Max', 'Tot Bwd Pkts'], 'Adv sample 187': ['Bwd IAT Min', 'Bwd IAT Mean', 'Bwd IAT Max', 'Init Bwd Win Byts', 'Bwd Pkts/s', 'Fwd Pkts/b Avg', 'Down/Up Ratio', 'Flow Pkts/s', 'Idle Mean', 'Pkt Len Max'], 'Adv sample 188': ['SYN Flag Cnt', 'Bwd IAT Mean', 'Fwd IAT Min', 'Bwd IAT Max', 'Fwd Byts/b Avg', 'Init Bwd Win Byts', 'Flow Byts/s', 'Pkt Len Std', 'Bwd IAT Min', 'Tot Fwd Pkts'], 'Adv sample 189': ['SYN Flag Cnt', 'Bwd IAT Mean', 'Fwd IAT Min', 'Fwd Byts/b Avg', 'Bwd IAT Max', 'Bwd Seg Size Avg', 'Pkt Len Mean', 'Fwd IAT Mean', 'Init Bwd Win Byts', 'Bwd Pkt Len Std'], 'Adv sample 190': ['Bwd Pkts/s', 'Init Bwd Win Byts', 'Fwd IAT Min', 'Pkt Len Mean', 'Pkt Len Min', 'Subflow Bwd Byts', 'TotLen Bwd Pkts', 'Subflow Fwd Byts', 'Bwd Seg Size Avg', 'Down/Up Ratio'], 'Adv sample 191': ['ACK Flag Cnt', 'Init Bwd Win Byts', 'Flow IAT Mean', 'Tot Fwd Pkts', 'Idle Max', 'Bwd IAT Mean', 'Pkt Len Max', 'Fwd IAT Mean', 'Pkt Len Min', 'Active Mean'], 'Adv sample 192': ['Bwd IAT Mean', 'Bwd IAT Min', 'Init Bwd Win Byts', 'Fwd Pkts/b Avg', 'Down/Up Ratio', 'Fwd Blk Rate Avg', 'Pkt Len Std', 'Bwd Pkt Len Mean', 'Pkt Len Max', 'Bwd Pkt Len Max'], 'Adv sample 193': ['Bwd IAT Min', 'Bwd IAT Mean', 'Bwd IAT Max', 'Init Bwd Win Byts', 'Bwd Pkts/s', 'Down/Up Ratio', 'Active Max', 'Idle Min', 'Bwd PSH Flags', 'Fwd Pkts/b Avg'], 'Adv sample 194': ['ACK Flag Cnt', 'Active Min', 'Fwd IAT Min', 'Fwd IAT Mean', 'Flow IAT Std', 'Active Max', 'Flow IAT Mean', 'Bwd Header Len', 'Bwd IAT Tot', 'Bwd Pkt Len Std'], 'Adv sample 195': ['Bwd IAT Min', 'Bwd IAT Mean', 'Bwd IAT Max', 'Init Bwd Win Byts', 'Fwd Pkts/b Avg', 'Bwd Pkt Len Max', 'Down/Up Ratio', 'Flow Pkts/s', 'Bwd Pkt Len Std', 'Subflow Fwd Byts'], 'Adv sample 196': ['Bwd IAT Min', 'Bwd IAT Max', 'Bwd IAT Mean', 'Init Bwd Win Byts', 'Fwd Pkts/b Avg', 'Down/Up Ratio', 'Bwd Pkt Len Std', 'Bwd Seg Size Avg', 'Flow Pkts/s', 'Active Mean'], 'Adv sample 197': ['SYN Flag Cnt', 'Bwd IAT Mean', 'Fwd IAT Min', 'Fwd Byts/b Avg', 'Init Bwd Win Byts', 'Fwd Pkts/b Avg', 'Fwd IAT Mean', 'Bwd IAT Std', 'Pkt Size Avg', 'Flow IAT Min'], 'Adv sample 198': ['ACK Flag Cnt', 'Active Mean', 'Active Max', 'Flow IAT Std', 'Init Bwd Win Byts', 'Flow IAT Mean', 'Bwd Seg Size Avg', 'Flow Pkts/s', 'Bwd IAT Min', 'PSH Flag Cnt'], 'Adv sample 199': ['Bwd Pkts/s', 'Pkt Len Min', 'Init Bwd Win Byts', 'Down/Up Ratio', 'Fwd Pkt Len Mean', 'Flow IAT Max', 'Subflow Bwd Pkts', 'Pkt Size Avg', 'Pkt Len Mean', 'Bwd IAT Mean'], 'Adv sample 200': ['Bwd Pkts/s', 'Fwd IAT Min', 'Init Bwd Win Byts', 'Flow IAT Mean', 'TotLen Fwd Pkts', 'Pkt Len Std', 'Tot Bwd Pkts', 'Pkt Len Mean', 'Flow Duration', 'Tot Fwd Pkts'], 'Adv sample 201': ['Bwd IAT Min', 'Bwd IAT Mean', 'Bwd IAT Max', 'Init Bwd Win Byts', 'Fwd Pkts/b Avg', 'Down/Up Ratio', 'Pkt Size Avg', 'PSH Flag Cnt', 'Flow Pkts/s', 'Bwd PSH Flags'], 'Adv sample 202': ['SYN Flag Cnt', 'Bwd IAT Mean', 'Fwd IAT Min', 'Init Bwd Win Byts', 'Bwd IAT Max', 'Bwd Pkts/b Avg', 'Bwd IAT Tot', 'Pkt Len Max', 'Pkt Len Min', 'Bwd Pkts/s'], 'Adv sample 203': ['ACK Flag Cnt', 'Idle Std', 'Init Bwd Win Byts', 'Down/Up Ratio', 'Bwd Byts/b Avg', 'Bwd IAT Tot', 'Active Max', 'Idle Max', 'Bwd Pkts/b Avg', 'Flow IAT Std'], 'Adv sample 204': ['Bwd IAT Mean', 'Bwd IAT Min', 'Init Bwd Win Byts', 'Fwd Pkts/b Avg', 'Fwd Blk Rate Avg', 'Flow IAT Std', 'Pkt Len Min', 'Fwd Pkt Len Std', 'Pkt Size Avg', 'Pkt Len Std'], 'Adv sample 205': ['Bwd IAT Min', 'Bwd IAT Mean', 'Idle Max', 'Fwd Pkts/b Avg', 'Down/Up Ratio', 'Init Bwd Win Byts', 'Idle Mean', 'Pkt Size Avg', 'Fwd Pkts/s', 'TotLen Bwd Pkts'], 'Adv sample 206': ['Bwd IAT Min', 'Bwd IAT Mean', 'Init Bwd Win Byts', 'Fwd Pkts/b Avg', 'Fwd Blk Rate Avg', 'Fwd IAT Mean', 'Flow Pkts/s', 'Down/Up Ratio', 'Bwd PSH Flags', 'Pkt Len Std'], 'Adv sample 207': ['SYN Flag Cnt', 'Bwd IAT Mean', 'Init Bwd Win Byts', 'Fwd IAT Min', 'Bwd IAT Max', 'Fwd Byts/b Avg', 'Fwd IAT Mean', 'Bwd Seg Size Avg', 'Bwd Pkts/s', 'Flow Pkts/s'], 'Adv sample 208': ['Bwd IAT Min', 'Bwd IAT Mean', 'Bwd IAT Max', 'Init Bwd Win Byts', 'Bwd Pkts/s', 'Down/Up Ratio', 'Fwd Blk Rate Avg', 'Flow Pkts/s', 'Pkt Size Avg', 'Flow Duration'], 'Adv sample 209': ['SYN Flag Cnt', 'Bwd IAT Mean', 'Init Bwd Win Byts', 'Fwd IAT Min', 'Bwd IAT Max', 'Fwd Byts/b Avg', 'Bwd Pkts/s', 'Fwd IAT Mean', 'Pkt Size Avg', 'Bwd Pkt Len Min'], 'Adv sample 210': ['Bwd Pkts/s', 'Init Bwd Win Byts', 'Fwd IAT Min', 'Pkt Len Std', 'Flow IAT Max', 'Fwd Pkt Len Std', 'Bwd Seg Size Avg', 'Bwd Pkt Len Max', 'Flow IAT Std', 'Flow Duration'], 'Adv sample 211': ['SYN Flag Cnt', 'Bwd IAT Min', 'Bwd IAT Std', 'Bwd IAT Max', 'Bwd IAT Mean', 'Flow IAT Mean', 'Bwd Pkt Len Max', 'Down/Up Ratio', 'Pkt Len Min', 'Tot Fwd Pkts'], 'Adv sample 212': ['Bwd Pkts/s', 'Fwd IAT Min', 'Init Bwd Win Byts', 'Fwd Pkt Len Min', 'Flow IAT Min', 'Fwd Pkt Len Mean', 'Fwd Pkts/b Avg', 'Flow Byts/s', 'Flow Duration', 'Tot Fwd Pkts'], 'Adv sample 213': ['Bwd IAT Mean', 'Bwd IAT Min', 'Fwd Blk Rate Avg', 'Init Bwd Win Byts', 'Down/Up Ratio', 'Fwd Pkts/b Avg', 'Pkt Len Std', 'Subflow Fwd Byts', 'Bwd Seg Size Avg', 'Pkt Len Max'], 'Adv sample 214': ['ACK Flag Cnt', 'Idle Std', 'Init Bwd Win Byts', 'Bwd IAT Tot', 'Down/Up Ratio', 'Bwd Byts/b Avg', 'Bwd Pkts/b Avg', 'Pkt Len Min', 'Pkt Len Std', 'Pkt Len Max'], 'Adv sample 215': ['SYN Flag Cnt', 'Bwd IAT Mean', 'Init Bwd Win Byts', 'Fwd IAT Min', 'Bwd IAT Max', 'Bwd Pkts/b Avg', 'Fwd IAT Mean', 'Subflow Bwd Byts', 'Fwd Byts/b Avg', 'Active Min'], 'Adv sample 216': ['Bwd IAT Min', 'Bwd IAT Mean', 'Bwd IAT Max', 'Init Bwd Win Byts', 'Fwd Pkts/b Avg', 'Pkt Len Std', 'Flow IAT Min', 'Fwd IAT Mean', 'Flow Pkts/s', 'Bwd Pkts/s'], 'Adv sample 217': ['FIN Flag Cnt', 'URG Flag Cnt', 'Bwd URG Flags', 'Idle Min', 'Fwd IAT Mean', 'Init Bwd Win Byts', 'Down/Up Ratio', 'Pkt Len Std', 'TotLen Bwd Pkts', 'Pkt Len Max'], 'Adv sample 218': ['Bwd IAT Mean', 'Bwd IAT Min', 'Fwd Pkts/b Avg', 'Init Bwd Win Byts', 'Down/Up Ratio', 'Fwd Blk Rate Avg', 'Pkt Len Max', 'Idle Mean', 'Fwd Pkts/s', 'Pkt Len Std'], 'Adv sample 219': ['Idle Std', 'ACK Flag Cnt', 'Init Bwd Win Byts', 'Bwd Byts/b Avg', 'Fwd Pkts/s', 'Flow IAT Std', 'Pkt Size Avg', 'Bwd Pkts/b Avg', 'Flow IAT Max', 'Flow Duration'], 'Adv sample 220': ['Bwd IAT Min', 'Bwd IAT Max', 'Bwd IAT Mean', 'Init Bwd Win Byts', 'Fwd Pkts/b Avg', 'Pkt Len Min', 'Bwd Pkts/s', 'Fwd IAT Mean', 'Subflow Bwd Pkts', 'Fwd Act Data Pkts'], 'Adv sample 221': ['Bwd IAT Min', 'Bwd IAT Max', 'Bwd IAT Mean', 'Init Bwd Win Byts', 'Fwd Pkts/b Avg', 'Bwd Pkts/s', 'Fwd IAT Mean', 'Down/Up Ratio', 'Flow Pkts/s', 'Idle Min'], 'Adv sample 222': ['Bwd IAT Min', 'Bwd IAT Mean', 'Init Bwd Win Byts', 'Fwd Pkts/b Avg', 'Fwd Blk Rate Avg', 'Down/Up Ratio', 'Pkt Size Avg', 'Flow Byts/s', 'Pkt Len Std', 'Subflow Bwd Pkts'], 'Adv sample 223': ['Bwd IAT Mean', 'Bwd IAT Min', 'Fwd Pkts/b Avg', 'Init Bwd Win Byts', 'Down/Up Ratio', 'TotLen Bwd Pkts', 'Pkt Len Mean', 'Bwd Pkt Len Std', 'Pkt Len Std', 'Pkt Size Avg'], 'Adv sample 224': ['SYN Flag Cnt', 'Flow IAT Mean', 'Fwd Byts/b Avg', 'Subflow Bwd Pkts', 'Init Bwd Win Byts', 'Bwd IAT Max', 'Pkt Len Min', 'Tot Bwd Pkts', 'Fwd IAT Min', 'Bwd Pkts/b Avg'], 'Adv sample 225': ['SYN Flag Cnt', 'Bwd IAT Mean', 'Fwd IAT Min', 'Fwd Byts/b Avg', 'Bwd Pkts/b Avg', 'Pkt Len Min', 'Init Bwd Win Byts', 'Bwd Pkt Len Min', 'Tot Fwd Pkts', 'Flow IAT Min'], 'Adv sample 226': ['Bwd IAT Min', 'Bwd IAT Mean', 'Bwd IAT Max', 'Init Bwd Win Byts', 'Fwd Pkts/b Avg', 'Down/Up Ratio', 'Fwd IAT Mean', 'Active Std', 'Pkt Size Avg', 'Subflow Fwd Byts'], 'Adv sample 227': ['Bwd IAT Min', 'Bwd IAT Mean', 'Bwd IAT Max', 'Init Bwd Win Byts', 'Bwd Pkts/s', 'Fwd Pkts/b Avg', 'Flow Pkts/s', 'Fwd IAT Mean', 'Down/Up Ratio', 'Bwd Pkt Len Std'], 'Adv sample 228': ['Bwd Pkts/s', 'Fwd IAT Min', 'Init Bwd Win Byts', 'Pkt Len Max', 'TotLen Fwd Pkts', 'Tot Fwd Pkts', 'Tot Bwd Pkts', 'TotLen Bwd Pkts', 'Fwd Pkt Len Max', 'Fwd Pkt Len Min'], 'Adv sample 229': ['Bwd IAT Min', 'Bwd IAT Mean', 'Init Bwd Win Byts', 'Flow Pkts/s', 'Fwd Blk Rate Avg', 'Fwd IAT Mean', 'Fwd Pkts/b Avg', 'Down/Up Ratio', 'Bwd IAT Max', 'Pkt Len Min'], 'Adv sample 230': ['Bwd IAT Min', 'Bwd IAT Mean', 'Bwd IAT Max', 'Init Bwd Win Byts', 'Fwd Blk Rate Avg', 'Fwd Pkts/b Avg', 'Down/Up Ratio', 'Pkt Len Max', 'Bwd Seg Size Avg', 'Fwd IAT Min'], 'Adv sample 231': ['ACK Flag Cnt', 'Active Mean', 'Active Max', 'Flow IAT Std', 'Init Bwd Win Byts', 'Flow IAT Mean', 'Fwd Act Data Pkts', 'Bwd Pkt Len Std', 'Fwd IAT Mean', 'Flow Pkts/s'], 'Adv sample 232': ['Bwd IAT Min', 'Bwd IAT Mean', 'Fwd Pkts/b Avg', 'Init Bwd Win Byts', 'Fwd IAT Mean', 'Down/Up Ratio', 'Fwd Blk Rate Avg', 'Flow Pkts/s', 'TotLen Fwd Pkts', 'PSH Flag Cnt'], 'Adv sample 233': ['Bwd IAT Min', 'Bwd IAT Mean', 'Init Bwd Win Byts', 'Fwd Pkts/b Avg', 'Flow Pkts/s', 'Fwd IAT Mean', 'Fwd Blk Rate Avg', 'Down/Up Ratio', 'Subflow Bwd Byts', 'Bwd Pkt Len Mean'], 'Adv sample 234': ['Idle Std', 'ACK Flag Cnt', 'Init Bwd Win Byts', 'Bwd Byts/b Avg', 'Bwd Pkts/b Avg', 'Flow Byts/s', 'Bwd IAT Min', 'Pkt Size Avg', 'Active Max', 'Fwd IAT Max'], 'Adv sample 235': ['Bwd Pkts/s', 'Fwd IAT Min', 'Init Bwd Win Byts', 'Pkt Len Max', 'Tot Fwd Pkts', 'Bwd IAT Tot', 'Bwd Pkt Len Max', 'Idle Std', 'Active Max', 'Pkt Len Std'], 'Adv sample 236': ['SYN Flag Cnt', 'Bwd IAT Mean', 'Fwd IAT Min', 'Fwd Byts/b Avg', 'Init Bwd Win Byts', 'Pkt Len Std', 'Fwd Pkts/b Avg', 'PSH Flag Cnt', 'Fwd IAT Mean', 'Down/Up Ratio'], 'Adv sample 237': ['Bwd IAT Min', 'Bwd IAT Mean', 'Bwd IAT Max', 'Init Bwd Win Byts', 'Fwd Pkts/b Avg', 'Fwd IAT Mean', 'Flow Pkts/s', 'Active Min', 'Bwd Pkts/s', 'Pkt Len Min'], 'Adv sample 238': ['ACK Flag Cnt', 'Idle Std', 'Init Bwd Win Byts', 'Bwd Byts/b Avg', 'Pkt Len Min', 'Pkt Len Max', 'Flow Duration', 'Pkt Len Mean', 'Pkt Size Avg', 'TotLen Fwd Pkts'], 'Adv sample 239': ['SYN Flag Cnt', 'Bwd IAT Mean', 'Fwd IAT Min', 'Init Bwd Win Byts', 'Fwd Byts/b Avg', 'Bwd Pkts/b Avg', 'Active Mean', 'Subflow Bwd Pkts', 'Flow IAT Min', 'Fwd IAT Mean'], 'Adv sample 240': ['SYN Flag Cnt', 'Bwd IAT Mean', 'Fwd Byts/b Avg', 'Fwd IAT Min', 'Bwd Pkts/b Avg', 'Init Bwd Win Byts', 'Fwd Pkt Len Std', 'Flow Pkts/s', 'Bwd IAT Max', 'Fwd Header Len'], 'Adv sample 241': ['Bwd IAT Min', 'Bwd IAT Mean', 'Bwd IAT Max', 'Init Bwd Win Byts', 'Fwd Pkts/b Avg', 'Bwd Pkts/s', 'Down/Up Ratio', 'Idle Std', 'Flow Pkts/s', 'Idle Max'], 'Adv sample 242': ['SYN Flag Cnt', 'Bwd IAT Mean', 'Fwd IAT Min', 'Bwd Pkts/b Avg', 'Fwd Byts/b Avg', 'Init Bwd Win Byts', 'Bwd Header Len', 'Idle Std', 'Pkt Len Min', 'Fwd Act Data Pkts'], 'Adv sample 243': ['Bwd Pkts/s', 'Init Bwd Win Byts', 'Idle Max', 'Down/Up Ratio', 'Fwd IAT Min', 'Idle Std', 'Bwd Seg Size Avg', 'Idle Mean', 'Bwd IAT Std', 'Fwd Pkt Len Mean'], 'Adv sample 244': ['Bwd IAT Min', 'Bwd IAT Mean', 'Fwd Pkts/b Avg', 'Init Bwd Win Byts', 'Fwd IAT Mean', 'Flow Pkts/s', 'Down/Up Ratio', 'Fwd Blk Rate Avg', 'Subflow Bwd Byts', 'Bwd IAT Std'], 'Adv sample 245': ['Bwd IAT Mean', 'Bwd IAT Min', 'Init Bwd Win Byts', 'Fwd Blk Rate Avg', 'Pkt Size Avg', 'Fwd Pkts/b Avg', 'Fwd Pkt Len Max', 'Flow IAT Min', 'Pkt Len Min', 'PSH Flag Cnt'], 'Adv sample 246': ['Bwd IAT Mean', 'Bwd IAT Min', 'Init Bwd Win Byts', 'Down/Up Ratio', 'Fwd Pkts/b Avg', 'Fwd Blk Rate Avg', 'Pkt Len Min', 'Flow IAT Min', 'Pkt Len Std', 'Bwd Pkt Len Std'], 'Adv sample 247': ['Bwd IAT Min', 'Bwd IAT Mean', 'Bwd IAT Max', 'Init Bwd Win Byts', 'Fwd Pkts/b Avg', 'Bwd Pkts/s', 'Down/Up Ratio', 'Fwd Blk Rate Avg', 'Pkt Size Avg', 'Bwd Seg Size Avg'], 'Adv sample 248': ['Bwd IAT Mean', 'Bwd IAT Min', 'Init Bwd Win Byts', 'Fwd Pkts/b Avg', 'Subflow Bwd Pkts', 'Pkt Len Max', 'TotLen Fwd Pkts', 'Flow IAT Min', 'Fwd Blk Rate Avg', 'Subflow Fwd Pkts'], 'Adv sample 249': ['Bwd IAT Mean', 'Bwd IAT Min', 'Fwd Pkts/b Avg', 'Init Bwd Win Byts', 'Fwd Blk Rate Avg', 'Down/Up Ratio', 'Bwd Pkt Len Min', 'Bwd Pkt Len Std', 'Flow IAT Mean', 'Fwd Pkt Len Max'], 'Adv sample 250': ['Bwd IAT Min', 'Bwd IAT Mean', 'Bwd IAT Max', 'Init Bwd Win Byts', 'Bwd Pkts/s', 'Fwd Pkts/b Avg', 'Flow Pkts/s', 'Down/Up Ratio', 'Bwd Pkt Len Std', 'Idle Mean'], 'Adv sample 251': ['SYN Flag Cnt', 'Bwd IAT Mean', 'Fwd IAT Min', 'Fwd Byts/b Avg', 'Bwd IAT Max', 'Init Bwd Win Byts', 'Fwd IAT Mean', 'Bwd Pkt Len Min', 'Flow IAT Max', 'Active Mean'], 'Adv sample 252': ['ACK Flag Cnt', 'Bwd IAT Min', 'Fwd IAT Mean', 'Idle Max', 'Init Bwd Win Byts', 'Fwd Pkt Len Min', 'Fwd Pkt Len Max', 'Subflow Fwd Byts', 'Pkt Len Std', 'Pkt Len Min'], 'Adv sample 253': ['ACK Flag Cnt', 'Bwd IAT Mean', 'Bwd IAT Min', 'Bwd IAT Max', 'Init Bwd Win Byts', 'Fwd IAT Mean', 'Bwd Pkts/s', 'Flow Pkts/s', 'Idle Mean', 'Tot Bwd Pkts'], 'Adv sample 254': ['Bwd IAT Min', 'Bwd IAT Mean', 'Bwd IAT Max', 'Init Bwd Win Byts', 'Bwd Pkts/s', 'Fwd Pkts/b Avg', 'Flow Pkts/s', 'Fwd IAT Mean', 'Active Max', 'Fwd Blk Rate Avg'], 'Adv sample 255': ['Bwd IAT Min', 'Bwd IAT Mean', 'Bwd IAT Max', 'Init Bwd Win Byts', 'Fwd Pkts/b Avg', 'Fwd IAT Mean', 'Pkt Len Mean', 'Pkt Len Max', 'Pkt Len Var', 'Down/Up Ratio'], 'Adv sample 256': ['Bwd IAT Min', 'Bwd IAT Max', 'Bwd IAT Mean', 'Init Bwd Win Byts', 'Fwd Pkts/b Avg', 'Down/Up Ratio', 'Fwd IAT Mean', 'Flow Duration', 'Fwd Pkt Len Max', 'Pkt Size Avg'], 'Adv sample 257': ['ACK Flag Cnt', 'Active Mean', 'Active Max', 'Flow IAT Std', 'Flow IAT Mean', 'Init Bwd Win Byts', 'Bwd PSH Flags', 'Fwd Header Len', 'Pkt Size Avg', 'PSH Flag Cnt'], 'Adv sample 258': ['Bwd IAT Min', 'Bwd IAT Mean', 'Bwd IAT Max', 'Init Bwd Win Byts', 'Bwd Pkts/s', 'Fwd Pkts/b Avg', 'Pkt Len Min', 'Fwd Blk Rate Avg', 'Bwd Seg Size Avg', 'Down/Up Ratio'], 'Adv sample 259': ['ACK Flag Cnt', 'Fwd IAT Min', 'Flow IAT Std', 'Bwd IAT Std', 'Init Bwd Win Byts', 'Fwd Byts/b Avg', 'TotLen Bwd Pkts', 'Flow IAT Mean', 'Bwd Pkt Len Mean', 'Bwd Pkts/b Avg'], 'Adv sample 260': ['Bwd IAT Min', 'Bwd IAT Mean', 'Init Bwd Win Byts', 'Fwd Pkts/b Avg', 'Fwd Blk Rate Avg', 'Fwd IAT Mean', 'Flow Pkts/s', 'Fwd IAT Min', 'Flow IAT Std', 'Pkt Len Max'], 'Adv sample 261': ['Bwd IAT Min', 'Bwd IAT Mean', 'Bwd IAT Max', 'Init Bwd Win Byts', 'Bwd Pkts/s', 'Flow Pkts/s', 'Fwd Pkts/b Avg', 'Down/Up Ratio', 'Bwd Pkt Len Min', 'Fwd Act Data Pkts'], 'Adv sample 262': ['Idle Std', 'ACK Flag Cnt', 'Init Bwd Win Byts', 'Bwd Byts/b Avg', 'Bwd Pkts/b Avg', 'PSH Flag Cnt', 'Flow IAT Std', 'Flow IAT Max', 'Tot Fwd Pkts', 'Fwd IAT Std'], 'Adv sample 263': ['Idle Std', 'ACK Flag Cnt', 'Init Bwd Win Byts', 'Bwd Byts/b Avg', 'Pkt Len Min', 'Bwd Pkts/b Avg', 'Fwd IAT Max', 'Idle Min', 'Fwd Pkts/s', 'Bwd Seg Size Avg'], 'Adv sample 264': ['ACK Flag Cnt', 'Bwd IAT Min', 'Idle Max', 'Fwd IAT Mean', 'Init Bwd Win Byts', 'Fwd Pkt Len Std', 'Bwd Seg Size Avg', 'Fwd Act Data Pkts', 'Pkt Size Avg', 'Fwd Seg Size Avg'], 'Adv sample 265': ['ACK Flag Cnt', 'Idle Std', 'Init Bwd Win Byts', 'Bwd IAT Tot', 'Down/Up Ratio', 'Bwd Pkts/b Avg', 'Bwd Byts/b Avg', 'Bwd Pkt Len Std', 'Fwd IAT Tot', 'Fwd Pkt Len Max'], 'Adv sample 266': ['ACK Flag Cnt', 'Bwd IAT Min', 'Bwd IAT Mean', 'Bwd IAT Max', 'Flow Pkts/s', 'Init Bwd Win Byts', 'Bwd Pkts/s', 'Pkt Len Max', 'Fwd Pkts/b Avg', 'Fwd IAT Mean'], 'Adv sample 267': ['SYN Flag Cnt', 'Bwd IAT Mean', 'Fwd Byts/b Avg', 'Fwd IAT Min', 'Init Bwd Win Byts', 'Bwd Pkt Len Min', 'Bwd IAT Std', 'Bwd IAT Max', 'Fwd IAT Mean', 'Tot Fwd Pkts'], 'Adv sample 268': ['Bwd IAT Min', 'Bwd IAT Max', 'Bwd IAT Mean', 'Init Bwd Win Byts', 'Fwd Pkts/b Avg', 'Subflow Bwd Byts', 'Flow Pkts/s', 'Down/Up Ratio', 'Flow IAT Max', 'Pkt Len Max'], 'Adv sample 269': ['Bwd IAT Min', 'Bwd IAT Mean', 'Bwd IAT Max', 'Init Bwd Win Byts', 'Bwd Pkts/s', 'Flow Pkts/s', 'Fwd Pkts/b Avg', 'Fwd Blk Rate Avg', 'Fwd Pkt Len Min', 'Pkt Size Avg'], 'Adv sample 270': ['ACK Flag Cnt', 'Bwd IAT Min', 'Bwd IAT Mean', 'Bwd IAT Max', 'Init Bwd Win Byts', 'Bwd Pkts/s', 'Fwd Pkts/b Avg', 'Fwd IAT Mean', 'Flow Pkts/s', 'Pkt Size Avg'], 'Adv sample 271': ['URG Flag Cnt', 'FIN Flag Cnt', 'Bwd URG Flags', 'Idle Min', 'Fwd IAT Mean', 'Init Bwd Win Byts', 'Down/Up Ratio', 'Pkt Size Avg', 'Pkt Len Var', 'Bwd IAT Mean'], 'Adv sample 272': ['Bwd IAT Min', 'Bwd IAT Mean', 'Bwd IAT Max', 'Init Bwd Win Byts', 'Fwd Blk Rate Avg', 'Fwd Pkts/b Avg', 'Idle Max', 'Active Min', 'Fwd IAT Mean', 'Flow Pkts/s'], 'Adv sample 273': ['ACK Flag Cnt', 'Idle Std', 'Init Bwd Win Byts', 'Bwd IAT Tot', 'Bwd Pkts/b Avg', 'Down/Up Ratio', 'Pkt Len Std', 'Bwd Byts/b Avg', 'Subflow Fwd Pkts', 'Flow Byts/s'], 'Adv sample 274': ['Bwd Pkts/s', 'Down/Up Ratio', 'Bwd Pkt Len Mean', 'Init Bwd Win Byts', 'Fwd IAT Min', 'Pkt Size Avg', 'Idle Mean', 'Idle Std', 'Flow Duration', 'Tot Fwd Pkts'], 'Adv sample 275': ['SYN Flag Cnt', 'Bwd IAT Mean', 'Fwd IAT Min', 'Fwd Byts/b Avg', 'Init Bwd Win Byts', 'TotLen Bwd Pkts', 'Subflow Bwd Pkts', 'Fwd Header Len', 'TotLen Fwd Pkts', 'Fwd IAT Mean'], 'Adv sample 276': ['SYN Flag Cnt', 'Bwd IAT Mean', 'Init Bwd Win Byts', 'Fwd IAT Min', 'Fwd Byts/b Avg', 'Bwd IAT Max', 'Bwd Pkts/s', 'Bwd IAT Min', 'Bwd IAT Tot', 'Bwd IAT Std'], 'Adv sample 277': ['ACK Flag Cnt', 'Bwd IAT Min', 'Bwd IAT Mean', 'Bwd IAT Max', 'Init Bwd Win Byts', 'Flow Pkts/s', 'Bwd Pkts/s', 'Fwd IAT Mean', 'Fwd Pkt Len Std', 'Fwd Pkt Len Min'], 'Adv sample 278': ['SYN Flag Cnt', 'Bwd IAT Mean', 'Fwd IAT Min', 'Fwd Byts/b Avg', 'Fwd Pkts/b Avg', 'Fwd IAT Mean', 'Init Bwd Win Byts', 'Pkt Len Mean', 'Down/Up Ratio', 'Pkt Len Std'], 'Adv sample 279': ['Bwd IAT Min', 'Bwd IAT Mean', 'Bwd IAT Max', 'Init Bwd Win Byts', 'Fwd Pkts/b Avg', 'Fwd Blk Rate Avg', 'Flow Byts/s', 'Fwd Seg Size Avg', 'Flow IAT Max', 'Pkt Len Mean'], 'Adv sample 280': ['SYN Flag Cnt', 'Bwd IAT Min', 'Bwd IAT Mean', 'Bwd IAT Std', 'Bwd IAT Max', 'Bwd Seg Size Avg', 'Bwd PSH Flags', 'Fwd Pkts/s', 'Flow IAT Mean', 'TotLen Fwd Pkts'], 'Adv sample 281': ['Bwd IAT Min', 'Bwd IAT Mean', 'Fwd Pkts/b Avg', 'Init Bwd Win Byts', 'Fwd IAT Mean', 'Flow Pkts/s', 'Down/Up Ratio', 'Fwd Blk Rate Avg', 'Bwd Pkt Len Mean', 'Pkt Len Max'], 'Adv sample 282': ['Bwd IAT Mean', 'Bwd IAT Min', 'Fwd Pkts/b Avg', 'Init Bwd Win Byts', 'Down/Up Ratio', 'Fwd Header Len', 'Pkt Len Min', 'Active Max', 'Fwd Pkts/s', 'PSH Flag Cnt'], 'Adv sample 283': ['Bwd IAT Mean', 'Bwd IAT Min', 'Init Bwd Win Byts', 'Fwd Pkts/b Avg', 'Active Max', 'Down/Up Ratio', 'Fwd Pkt Len Max', 'Fwd Pkt Len Std', 'Fwd Pkt Len Mean', 'Fwd Blk Rate Avg'], 'Adv sample 284': ['Bwd IAT Min', 'Bwd IAT Mean', 'Bwd IAT Max', 'Init Bwd Win Byts', 'Fwd Pkts/b Avg', 'Fwd IAT Mean', 'Down/Up Ratio', 'Flow Pkts/s', 'Pkt Size Avg', 'Pkt Len Std'], 'Adv sample 285': ['Bwd IAT Min', 'Bwd IAT Mean', 'Fwd Pkts/b Avg', 'Init Bwd Win Byts', 'Fwd IAT Mean', 'Flow Pkts/s', 'Fwd Blk Rate Avg', 'Idle Mean', 'Flow Duration', 'Pkt Size Avg'], 'Adv sample 286': ['Bwd IAT Min', 'Bwd IAT Mean', 'Bwd IAT Max', 'Init Bwd Win Byts', 'Fwd Pkts/b Avg', 'Bwd Pkt Len Min', 'Down/Up Ratio', 'Bwd Pkt Len Std', 'Idle Max', 'Fwd IAT Mean'], 'Adv sample 287': ['SYN Flag Cnt', 'Bwd IAT Mean', 'Init Bwd Win Byts', 'Fwd IAT Min', 'Bwd IAT Max', 'Fwd Byts/b Avg', 'PSH Flag Cnt', 'Pkt Len Mean', 'Bwd Seg Size Avg', 'Fwd IAT Mean'], 'Adv sample 288': ['Bwd Pkts/s', 'Init Bwd Win Byts', 'TotLen Fwd Pkts', 'Pkt Len Max', 'Subflow Fwd Byts', 'Pkt Len Min', 'Bwd Pkt Len Std', 'Flow Duration', 'Tot Fwd Pkts', 'TotLen Bwd Pkts'], 'Adv sample 289': ['URG Flag Cnt', 'FIN Flag Cnt', 'Bwd URG Flags', 'Fwd IAT Mean', 'Init Bwd Win Byts', 'Idle Min', 'Pkt Len Mean', 'Fwd Pkt Len Mean', 'Tot Fwd Pkts', 'Bwd Pkt Len Mean'], 'Adv sample 290': ['ACK Flag Cnt', 'Bwd IAT Min', 'Bwd IAT Mean', 'Bwd IAT Max', 'Init Bwd Win Byts', 'Bwd Pkts/s', 'Fwd Pkts/b Avg', 'Fwd IAT Mean', 'Idle Std', 'Flow Pkts/s'], 'Adv sample 291': ['ACK Flag Cnt', 'Bwd IAT Mean', 'Bwd IAT Min', 'Bwd IAT Max', 'Init Bwd Win Byts', 'Flow Pkts/s', 'Bwd Pkts/s', 'Fwd Pkts/b Avg', 'Fwd IAT Mean', 'Active Min'], 'Adv sample 292': ['SYN Flag Cnt', 'Bwd IAT Mean', 'Bwd IAT Max', 'Fwd IAT Min', 'Init Bwd Win Byts', 'Fwd Byts/b Avg', 'Fwd IAT Mean', 'Subflow Bwd Byts', 'Subflow Fwd Byts', 'Active Std'], 'Adv sample 293': ['SYN Flag Cnt', 'Bwd IAT Mean', 'Fwd Byts/b Avg', 'Init Bwd Win Byts', 'Fwd IAT Min', 'Bwd IAT Max', 'Fwd Pkts/b Avg', 'Bwd Pkts/s', 'Fwd IAT Mean', 'Flow Pkts/s'], 'Adv sample 294': ['ACK Flag Cnt', 'Bwd IAT Min', 'Fwd IAT Mean', 'Idle Max', 'Init Bwd Win Byts', 'Bwd IAT Mean', 'Pkt Len Std', 'Flow Pkts/s', 'Fwd Act Data Pkts', 'Bwd IAT Std'], 'Adv sample 295': ['Bwd IAT Min', 'Bwd IAT Max', 'Bwd IAT Mean', 'Init Bwd Win Byts', 'Fwd Pkts/b Avg', 'Flow Pkts/s', 'Bwd Pkts/s', 'Bwd Seg Size Avg', 'Pkt Len Mean', 'Bwd Pkt Len Min'], 'Adv sample 296': ['ACK Flag Cnt', 'Bwd IAT Mean', 'Bwd IAT Min', 'Bwd IAT Max', 'Init Bwd Win Byts', 'Bwd Pkts/s', 'Flow Pkts/s', 'Fwd IAT Mean', 'Fwd Pkts/b Avg', 'Bwd IAT Std'], 'Adv sample 297': ['Bwd IAT Min', 'Bwd IAT Max', 'Bwd IAT Mean', 'Init Bwd Win Byts', 'Fwd Pkts/b Avg', 'Fwd IAT Mean', 'Down/Up Ratio', 'Flow Pkts/s', 'Pkt Size Avg', 'Fwd Pkt Len Max'], 'Adv sample 298': ['ACK Flag Cnt', 'Active Min', 'Fwd IAT Min', 'Fwd IAT Mean', 'Fwd Byts/b Avg', 'Flow IAT Std', 'Active Max', 'Subflow Fwd Pkts', 'Bwd Header Len', 'TotLen Fwd Pkts'], 'Adv sample 299': ['Bwd IAT Min', 'Bwd IAT Mean', 'Bwd IAT Max', 'Init Bwd Win Byts', 'Fwd Pkts/b Avg', 'Bwd PSH Flags', 'Idle Std', 'Pkt Len Mean', 'Down/Up Ratio', 'Bwd Seg Size Avg'], 'Adv sample 300': ['SYN Flag Cnt', 'Bwd IAT Mean', 'Fwd IAT Min', 'Fwd Byts/b Avg', 'Bwd IAT Max', 'Init Bwd Win Byts', 'Active Min', 'Fwd IAT Mean', 'Subflow Bwd Byts', 'TotLen Bwd Pkts'], 'Adv sample 301': ['SYN Flag Cnt', 'Bwd IAT Mean', 'Fwd IAT Min', 'Fwd Byts/b Avg', 'Fwd IAT Mean', 'Fwd Pkts/b Avg', 'Init Bwd Win Byts', 'Pkt Size Avg', 'Bwd Pkt Len Std', 'Down/Up Ratio'], 'Adv sample 302': ['ACK Flag Cnt', 'Idle Std', 'Init Bwd Win Byts', 'Bwd Byts/b Avg', 'Fwd IAT Max', 'Bwd Pkts/b Avg', 'Fwd IAT Tot', 'Pkt Len Max', 'Fwd Act Data Pkts', 'Fwd Pkt Len Min'], 'Adv sample 303': ['ACK Flag Cnt', 'Bwd IAT Min', 'Bwd IAT Mean', 'Bwd IAT Max', 'Init Bwd Win Byts', 'Bwd Pkts/s', 'Flow Pkts/s', 'Fwd IAT Mean', 'Fwd Pkts/b Avg', 'Fwd Pkt Len Min'], 'Adv sample 304': ['Idle Std', 'ACK Flag Cnt', 'Init Bwd Win Byts', 'Bwd Byts/b Avg', 'Idle Max', 'PSH Flag Cnt', 'Pkt Len Min', 'Fwd IAT Tot', 'Bwd Pkt Len Min', 'Pkt Len Mean'], 'Adv sample 305': ['ACK Flag Cnt', 'Bwd IAT Mean', 'Bwd IAT Min', 'Bwd IAT Max', 'Init Bwd Win Byts', 'Bwd Pkts/s', 'Flow Pkts/s', 'Fwd IAT Mean', 'Fwd Pkts/b Avg', 'Pkt Len Min'], 'Adv sample 306': ['Bwd IAT Min', 'Bwd IAT Max', 'Bwd IAT Mean', 'ACK Flag Cnt', 'Init Bwd Win Byts', 'Bwd Pkts/s', 'Flow Pkts/s', 'Fwd IAT Mean', 'Pkt Len Max', 'Fwd Pkt Len Std'], 'Adv sample 307': ['Bwd IAT Min', 'Bwd IAT Max', 'Bwd IAT Mean', 'Init Bwd Win Byts', 'Fwd Pkts/b Avg', 'Fwd IAT Mean', 'Fwd Pkt Len Mean', 'Bwd Pkts/s', 'Fwd Act Data Pkts', 'Bwd Pkt Len Mean'], 'Adv sample 308': ['Bwd Pkts/s', 'Init Bwd Win Byts', 'Active Max', 'Bwd Pkt Len Mean', 'Pkt Size Avg', 'Flow Duration', 'Tot Fwd Pkts', 'TotLen Bwd Pkts', 'Fwd Pkt Len Max', 'Fwd Pkt Len Mean'], 'Adv sample 309': ['Bwd IAT Min', 'Bwd IAT Mean', 'Bwd IAT Max', 'Init Bwd Win Byts', 'Bwd Pkts/s', 'Fwd Pkts/b Avg', 'Flow Pkts/s', 'Flow Duration', 'Fwd Blk Rate Avg', 'Pkt Len Min'], 'Adv sample 310': ['Bwd IAT Min', 'Bwd IAT Max', 'Bwd IAT Mean', 'Init Bwd Win Byts', 'Fwd Pkts/b Avg', 'Idle Mean', 'Bwd Seg Size Avg', 'Down/Up Ratio', 'Idle Min', 'Active Min'], 'Adv sample 311': ['SYN Flag Cnt', 'Bwd IAT Mean', 'Fwd IAT Min', 'Fwd Byts/b Avg', 'Bwd Pkts/b Avg', 'Init Bwd Win Byts', 'Bwd IAT Std', 'Active Mean', 'Subflow Fwd Byts', 'Bwd Pkts/s'], 'Adv sample 312': ['Bwd IAT Min', 'Bwd IAT Mean', 'Bwd IAT Max', 'Init Bwd Win Byts', 'Fwd Pkts/b Avg', 'Down/Up Ratio', 'Pkt Size Avg', 'Flow Pkts/s', 'Tot Bwd Pkts', 'Pkt Len Max'], 'Adv sample 313': ['SYN Flag Cnt', 'Bwd IAT Mean', 'Fwd Byts/b Avg', 'Fwd IAT Min', 'Fwd Pkts/b Avg', 'Bwd IAT Max', 'Pkt Len Std', 'Init Bwd Win Byts', 'Bwd Pkt Len Max', 'Active Min'], 'Adv sample 314': ['ACK Flag Cnt', 'Idle Std', 'Init Bwd Win Byts', 'Bwd IAT Tot', 'Down/Up Ratio', 'Bwd Pkts/b Avg', 'Bwd Byts/b Avg', 'Flow Duration', 'Fwd Act Data Pkts', 'Pkt Len Min'], 'Adv sample 315': ['SYN Flag Cnt', 'Bwd IAT Mean', 'Fwd IAT Min', 'Fwd Byts/b Avg', 'Fwd IAT Mean', 'Init Bwd Win Byts', 'Bwd IAT Max', 'Active Max', 'Pkt Len Std', 'Bwd IAT Min'], 'Adv sample 316': ['ACK Flag Cnt', 'Active Mean', 'Active Max', 'Flow IAT Std', 'Flow IAT Mean', 'Init Bwd Win Byts', 'TotLen Bwd Pkts', 'PSH Flag Cnt', 'Pkt Len Std', 'Flow Pkts/s'], 'Adv sample 317': ['Bwd IAT Min', 'Bwd IAT Mean', 'Init Bwd Win Byts', 'Fwd Pkts/b Avg', 'Fwd Blk Rate Avg', 'Fwd IAT Mean', 'PSH Flag Cnt', 'Pkt Size Avg', 'Subflow Fwd Byts', 'Flow Pkts/s'], 'Adv sample 318': ['Bwd IAT Min', 'Bwd IAT Mean', 'Bwd IAT Max', 'Fwd Pkts/b Avg', 'Init Bwd Win Byts', 'Pkt Len Min', 'Pkt Len Max', 'Bwd Pkts/s', 'Fwd IAT Mean', 'Fwd Act Data Pkts'], 'Adv sample 319': ['Bwd IAT Min', 'Bwd IAT Max', 'Bwd IAT Mean', 'Init Bwd Win Byts', 'Fwd Pkts/b Avg', 'Idle Std', 'Fwd IAT Mean', 'Down/Up Ratio', 'Bwd Pkt Len Min', 'Flow Pkts/s'], 'Adv sample 320': ['Bwd IAT Min', 'Bwd IAT Mean', 'Init Bwd Win Byts', 'Fwd Pkts/b Avg', 'Fwd IAT Mean', 'Fwd Blk Rate Avg', 'Down/Up Ratio', 'Flow Pkts/s', 'Pkt Len Min', 'Fwd Pkt Len Std'], 'Adv sample 321': ['Bwd IAT Min', 'Bwd IAT Mean', 'Bwd IAT Max', 'Init Bwd Win Byts', 'Fwd Pkts/b Avg', 'Bwd Pkts/s', 'Fwd Blk Rate Avg', 'Flow Pkts/s', 'TotLen Fwd Pkts', 'Bwd Pkt Len Min'], 'Adv sample 322': ['Bwd IAT Min', 'Bwd IAT Mean', 'Bwd IAT Max', 'Init Bwd Win Byts', 'Bwd Pkts/s', 'Fwd Pkts/b Avg', 'Flow Pkts/s', 'Down/Up Ratio', 'Fwd Blk Rate Avg', 'TotLen Bwd Pkts'], 'Adv sample 323': ['Bwd IAT Min', 'Bwd IAT Mean', 'Bwd IAT Max', 'Init Bwd Win Byts', 'Bwd Pkts/s', 'Fwd Pkts/b Avg', 'Flow Pkts/s', 'Idle Max', 'Bwd Pkt Len Mean', 'Bwd Pkt Len Min'], 'Adv sample 324': ['Bwd IAT Min', 'Bwd IAT Mean', 'Bwd IAT Max', 'Init Bwd Win Byts', 'Bwd Pkts/s', 'Pkt Size Avg', 'Fwd Blk Rate Avg', 'Bwd Pkt Len Min', 'Pkt Len Std', 'Bwd Pkt Len Std'], 'Adv sample 325': ['ACK Flag Cnt', 'Bwd IAT Min', 'Bwd IAT Mean', 'Bwd IAT Max', 'Init Bwd Win Byts', 'Bwd Pkts/s', 'Fwd IAT Mean', 'Flow Pkts/s', 'Fwd Pkts/b Avg', 'Bwd Pkt Len Std'], 'Adv sample 326': ['ACK Flag Cnt', 'Idle Std', 'Init Bwd Win Byts', 'Bwd IAT Tot', 'Down/Up Ratio', 'Bwd Byts/b Avg', 'Bwd Pkts/b Avg', 'Pkt Size Avg', 'Pkt Len Mean', 'Fwd Pkt Len Max'], 'Adv sample 327': ['Bwd IAT Min', 'Bwd IAT Mean', 'Bwd IAT Max', 'Init Bwd Win Byts', 'Fwd Pkts/b Avg', 'Bwd Pkts/s', 'Flow Byts/s', 'Pkt Len Mean', 'Fwd Pkt Len Mean', 'Fwd Act Data Pkts'], 'Adv sample 328': ['SYN Flag Cnt', 'Bwd IAT Mean', 'Fwd IAT Min', 'Bwd IAT Max', 'Fwd Byts/b Avg', 'Init Bwd Win Byts', 'Fwd Pkt Len Max', 'Fwd Pkt Len Min', 'Pkt Len Max', 'Down/Up Ratio'], 'Adv sample 329': ['Bwd Pkts/s', 'Init Bwd Win Byts', 'Pkt Len Std', 'TotLen Bwd Pkts', 'Fwd IAT Min', 'Pkt Len Var', 'Bwd Pkt Len Max', 'Down/Up Ratio', 'Bwd Seg Size Avg', 'Subflow Fwd Byts'], 'Adv sample 330': ['SYN Flag Cnt', 'Bwd IAT Mean', 'Fwd IAT Min', 'Init Bwd Win Byts', 'Bwd IAT Max', 'Bwd Pkts/b Avg', 'Fwd Byts/b Avg', 'Fwd IAT Mean', 'Tot Bwd Pkts', 'Flow IAT Max'], 'Adv sample 331': ['SYN Flag Cnt', 'Bwd IAT Mean', 'Init Bwd Win Byts', 'Fwd IAT Min', 'Bwd IAT Max', 'Fwd Byts/b Avg', 'Bwd Pkts/s', 'Fwd IAT Mean', 'Bwd IAT Tot', 'Active Max'], 'Adv sample 332': ['ACK Flag Cnt', 'Flow IAT Std', 'Fwd IAT Min', 'Fwd Byts/b Avg', 'Active Max', 'Bwd Pkt Len Min', 'Bwd IAT Tot', 'Bwd IAT Std', 'Bwd Header Len', 'Flow IAT Mean'], 'Adv sample 333': ['SYN Flag Cnt', 'Bwd IAT Mean', 'Init Bwd Win Byts', 'Bwd IAT Max', 'Fwd IAT Min', 'Fwd Byts/b Avg', 'Pkt Len Min', 'Bwd Pkts/s', 'Fwd IAT Mean', 'Pkt Len Max'], 'Adv sample 334': ['SYN Flag Cnt', 'Bwd IAT Mean', 'Init Bwd Win Byts', 'Fwd IAT Min', 'Bwd IAT Max', 'Bwd IAT Tot', 'Fwd Byts/b Avg', 'Fwd IAT Mean', 'Bwd Pkts/b Avg', 'Flow Duration'], 'Adv sample 335': ['Bwd IAT Min', 'Bwd IAT Mean', 'Init Bwd Win Byts', 'Fwd Pkts/b Avg', 'Fwd Blk Rate Avg', 'Fwd IAT Mean', 'Flow Pkts/s', 'Fwd Pkts/s', 'Idle Max', 'Down/Up Ratio'], 'Adv sample 336': ['ACK Flag Cnt', 'Fwd IAT Min', 'Bwd IAT Std', 'Flow IAT Mean', 'Flow IAT Std', 'Init Bwd Win Byts', 'Fwd Byts/b Avg', 'Active Min', 'Subflow Fwd Byts', 'Bwd IAT Max'], 'Adv sample 337': ['ACK Flag Cnt', 'Active Mean', 'Active Max', 'Flow IAT Std', 'Init Bwd Win Byts', 'Flow IAT Mean', 'Flow Pkts/s', 'Pkt Len Std', 'Pkt Size Avg', 'Fwd Act Data Pkts'], 'Adv sample 338': ['Bwd IAT Min', 'Bwd IAT Mean', 'Bwd IAT Max', 'Init Bwd Win Byts', 'Fwd Pkts/b Avg', 'Bwd Pkts/s', 'Fwd IAT Mean', 'Down/Up Ratio', 'Fwd Seg Size Avg', 'Idle Min'], 'Adv sample 339': ['Bwd IAT Min', 'Bwd IAT Mean', 'Bwd IAT Max', 'Init Bwd Win Byts', 'Fwd Pkts/b Avg', 'Fwd IAT Mean', 'Down/Up Ratio', 'Flow Byts/s', 'Active Std', 'Bwd Pkts/s'], 'Adv sample 340': ['SYN Flag Cnt', 'Bwd IAT Mean', 'Init Bwd Win Byts', 'Fwd IAT Min', 'Bwd IAT Max', 'Fwd Byts/b Avg', 'Bwd Pkts/b Avg', 'Bwd IAT Tot', 'Flow Pkts/s', 'Active Max'], 'Adv sample 341': ['ACK Flag Cnt', 'Bwd IAT Min', 'Bwd IAT Mean', 'Bwd IAT Max', 'Init Bwd Win Byts', 'Bwd Pkts/s', 'Fwd IAT Mean', 'Flow Pkts/s', 'Flow IAT Max', 'Down/Up Ratio'], 'Adv sample 342': ['ACK Flag Cnt', 'Bwd IAT Min', 'Bwd IAT Mean', 'Bwd IAT Max', 'Init Bwd Win Byts', 'Flow Pkts/s', 'Bwd Pkts/s', 'Fwd IAT Mean', 'Pkt Len Std', 'Tot Bwd Pkts'], 'Adv sample 343': ['Bwd IAT Min', 'Bwd IAT Mean', 'Init Bwd Win Byts', 'Fwd Blk Rate Avg', 'Fwd IAT Mean', 'Fwd Pkts/b Avg', 'Flow Pkts/s', 'Pkt Len Mean', 'Down/Up Ratio', 'Pkt Len Std'], 'Adv sample 344': ['Bwd IAT Min', 'Bwd IAT Mean', 'Bwd IAT Max', 'Init Bwd Win Byts', 'Fwd Pkts/b Avg', 'Flow Pkts/s', 'Bwd Pkts/s', 'Down/Up Ratio', 'Bwd PSH Flags', 'Fwd IAT Mean'], 'Adv sample 345': ['Bwd IAT Min', 'Bwd IAT Mean', 'Bwd IAT Max', 'Init Bwd Win Byts', 'Fwd Pkts/b Avg', 'Down/Up Ratio', 'Bwd Pkt Len Std', 'Flow IAT Max', 'Active Std', 'Tot Fwd Pkts'], 'Adv sample 346': ['SYN Flag Cnt', 'Bwd IAT Mean', 'Fwd IAT Min', 'Init Bwd Win Byts', 'Bwd IAT Max', 'Fwd Byts/b Avg', 'Fwd IAT Mean', 'Bwd Pkts/b Avg', 'Bwd IAT Std', 'Flow IAT Std'], 'Adv sample 347': ['Bwd IAT Mean', 'ACK Flag Cnt', 'Bwd IAT Min', 'Bwd IAT Tot', 'Init Bwd Win Byts', 'Pkt Len Std', 'Idle Std', 'Active Min', 'Pkt Len Mean', 'Flow IAT Std'], 'Adv sample 348': ['Bwd IAT Min', 'Bwd IAT Max', 'Bwd IAT Mean', 'Init Bwd Win Byts', 'Bwd Pkts/s', 'Fwd Pkts/b Avg', 'Fwd IAT Min', 'Fwd IAT Mean', 'Flow Pkts/s', 'Pkt Size Avg'], 'Adv sample 349': ['Bwd Pkts/s', 'Init Bwd Win Byts', 'Fwd Pkts/b Avg', 'Fwd IAT Min', 'Flow IAT Mean', 'Bwd Pkt Len Std', 'Pkt Len Std', 'TotLen Bwd Pkts', 'Pkt Size Avg', 'Pkt Len Max'], 'Adv sample 350': ['Bwd IAT Mean', 'Bwd IAT Min', 'Fwd Blk Rate Avg', 'Fwd Pkts/b Avg', 'Init Bwd Win Byts', 'Down/Up Ratio', 'Bwd Pkt Len Mean', 'Active Mean', 'Bwd Pkt Len Min', 'Bwd Pkt Len Max'], 'Adv sample 351': ['SYN Flag Cnt', 'Bwd IAT Mean', 'Fwd IAT Min', 'Fwd Byts/b Avg', 'Init Bwd Win Byts', 'Fwd Pkts/b Avg', 'Flow IAT Max', 'Bwd Pkts/b Avg', 'Flow Pkts/s', 'Active Min'], 'Adv sample 352': ['SYN Flag Cnt', 'Bwd IAT Mean', 'Fwd IAT Min', 'Fwd Byts/b Avg', 'Init Bwd Win Byts', 'Fwd IAT Mean', 'Fwd Pkts/b Avg', 'Bwd IAT Max', 'Pkt Len Mean', 'Pkt Len Std'], 'Adv sample 353': ['ACK Flag Cnt', 'Active Mean', 'Active Max', 'Flow IAT Std', 'Flow IAT Mean', 'Init Bwd Win Byts', 'Flow Pkts/s', 'Pkt Len Max', 'Bwd PSH Flags', 'PSH Flag Cnt'], 'Adv sample 354': ['SYN Flag Cnt', 'Bwd IAT Mean', 'Fwd IAT Min', 'Fwd Byts/b Avg', 'Bwd IAT Max', 'Init Bwd Win Byts', 'Fwd IAT Mean', 'Pkt Len Max', 'Active Max', 'Fwd Act Data Pkts'], 'Adv sample 355': ['SYN Flag Cnt', 'Bwd IAT Mean', 'Fwd Byts/b Avg', 'Init Bwd Win Byts', 'Fwd IAT Min', 'Flow IAT Max', 'Fwd Pkts/b Avg', 'Bwd Pkts/b Avg', 'Fwd Pkt Len Min', 'Bwd Pkt Len Min'], 'Adv sample 356': ['Bwd IAT Min', 'Bwd IAT Max', 'Bwd IAT Mean', 'Init Bwd Win Byts', 'Fwd Pkts/b Avg', 'Active Std', 'Fwd IAT Mean', 'Flow IAT Min', 'Fwd Act Data Pkts', 'Flow Pkts/s'], 'Adv sample 357': ['Bwd IAT Min', 'Bwd IAT Max', 'Bwd IAT Mean', 'Init Bwd Win Byts', 'Fwd Pkts/b Avg', 'Bwd PSH Flags', 'Fwd Blk Rate Avg', 'Bwd Seg Size Avg', 'Fwd Act Data Pkts', 'Down/Up Ratio'], 'Adv sample 358': ['ACK Flag Cnt', 'Active Mean', 'Active Max', 'Flow IAT Std', 'Flow IAT Mean', 'Init Bwd Win Byts', 'Fwd Act Data Pkts', 'Flow Pkts/s', 'Tot Bwd Pkts', 'Tot Fwd Pkts'], 'Adv sample 359': ['SYN Flag Cnt', 'Fwd IAT Min', 'Fwd Byts/b Avg', 'Fwd IAT Mean', 'Init Bwd Win Byts', 'Flow Pkts/s', 'Bwd PSH Flags', 'Bwd Pkts/s', 'Bwd IAT Min', 'Tot Bwd Pkts'], 'Adv sample 360': ['Bwd IAT Min', 'Bwd IAT Mean', 'Fwd Pkts/b Avg', 'Init Bwd Win Byts', 'Fwd Blk Rate Avg', 'Down/Up Ratio', 'Fwd IAT Mean', 'Fwd Pkt Len Mean', 'Subflow Bwd Byts', 'Bwd Seg Size Avg'], 'Adv sample 361': ['ACK Flag Cnt', 'Idle Std', 'Init Bwd Win Byts', 'Down/Up Ratio', 'Bwd Pkts/b Avg', 'Bwd IAT Tot', 'Bwd Pkt Len Min', 'Pkt Len Std', 'Bwd Byts/b Avg', 'Pkt Len Mean'], 'Adv sample 362': ['SYN Flag Cnt', 'Bwd IAT Mean', 'Fwd IAT Min', 'Init Bwd Win Byts', 'Bwd IAT Max', 'Bwd Pkts/b Avg', 'Fwd Byts/b Avg', 'Bwd IAT Tot', 'Bwd Seg Size Avg', 'Flow Pkts/s'], 'Adv sample 363': ['ACK Flag Cnt', 'Idle Std', 'Init Bwd Win Byts', 'Bwd IAT Tot', 'Down/Up Ratio', 'Bwd Byts/b Avg', 'Bwd Pkts/b Avg', 'Fwd IAT Max', 'Pkt Len Var', 'Fwd Header Len'], 'Adv sample 364': ['ACK Flag Cnt', 'Active Mean', 'Active Max', 'Init Bwd Win Byts', 'Flow IAT Mean', 'Flow IAT Std', 'Subflow Bwd Byts', 'Pkt Len Std', 'Tot Bwd Pkts', 'Fwd Pkts/s'], 'Adv sample 365': ['Bwd Pkts/s', 'Init Bwd Win Byts', 'Fwd IAT Min', 'Fwd Seg Size Avg', 'PSH Flag Cnt', 'Pkt Len Mean', 'Idle Mean', 'Bwd Seg Size Avg', 'Fwd Pkt Len Mean', 'Bwd IAT Tot'], 'Adv sample 366': ['SYN Flag Cnt', 'Bwd IAT Mean', 'Fwd IAT Min', 'Fwd Byts/b Avg', 'Bwd Pkts/b Avg', 'Init Bwd Win Byts', 'Bwd IAT Min', 'TotLen Fwd Pkts', 'Active Max', 'Subflow Fwd Pkts'], 'Adv sample 367': ['FIN Flag Cnt', 'URG Flag Cnt', 'Idle Min', 'Fwd IAT Mean', 'Bwd URG Flags', 'Init Bwd Win Byts', 'TotLen Bwd Pkts', 'Bwd Pkt Len Min', 'Down/Up Ratio', 'Tot Fwd Pkts'], 'Adv sample 368': ['SYN Flag Cnt', 'Bwd IAT Mean', 'Init Bwd Win Byts', 'Fwd IAT Min', 'Bwd IAT Max', 'Bwd Pkts/b Avg', 'Bwd Pkts/s', 'Bwd IAT Tot', 'Active Mean', 'Fwd Byts/b Avg'], 'Adv sample 369': ['ACK Flag Cnt', 'Active Mean', 'Active Max', 'Flow IAT Std', 'Flow IAT Mean', 'Init Bwd Win Byts', 'TotLen Bwd Pkts', 'Fwd Pkt Len Min', 'Bwd IAT Tot', 'Bwd Pkts/s'], 'Adv sample 370': ['Bwd IAT Min', 'Bwd IAT Mean', 'Init Bwd Win Byts', 'Fwd Pkts/b Avg', 'Fwd IAT Mean', 'Fwd Blk Rate Avg', 'Pkt Len Mean', 'Flow Pkts/s', 'Down/Up Ratio', 'Flow IAT Min'], 'Adv sample 371': ['Bwd Pkts/s', 'Fwd IAT Min', 'Pkt Len Max', 'Init Bwd Win Byts', 'Flow Duration', 'Tot Bwd Pkts', 'Active Min', 'Bwd Header Len', 'Idle Max', 'PSH Flag Cnt'], 'Adv sample 372': ['Bwd IAT Mean', 'Bwd IAT Min', 'Init Bwd Win Byts', 'Down/Up Ratio', 'Fwd Blk Rate Avg', 'Fwd Pkts/b Avg', 'Bwd Pkt Len Max', 'Bwd Pkt Len Mean', 'Fwd Pkt Len Std', 'Pkt Len Min'], 'Adv sample 373': ['Bwd IAT Min', 'Bwd IAT Mean', 'Init Bwd Win Byts', 'Fwd Pkts/b Avg', 'Flow Pkts/s', 'Fwd IAT Mean', 'Fwd Blk Rate Avg', 'Pkt Len Var', 'Bwd Pkt Len Mean', 'Pkt Len Min'], 'Adv sample 374': ['Bwd IAT Min', 'Bwd IAT Mean', 'Init Bwd Win Byts', 'Fwd Pkts/b Avg', 'Fwd IAT Mean', 'Fwd Blk Rate Avg', 'Down/Up Ratio', 'Flow Pkts/s', 'Bwd Pkt Len Mean', 'Active Max'], 'Adv sample 375': ['Bwd IAT Min', 'Bwd IAT Mean', 'Init Bwd Win Byts', 'Fwd IAT Mean', 'Fwd Blk Rate Avg', 'Fwd Pkts/b Avg', 'Flow Pkts/s', 'Pkt Len Max', 'Idle Min', 'Down/Up Ratio'], 'Adv sample 376': ['Bwd IAT Min', 'Bwd IAT Mean', 'Bwd IAT Max', 'Init Bwd Win Byts', 'Bwd Pkts/s', 'Fwd Pkts/b Avg', 'Down/Up Ratio', 'Subflow Fwd Byts', 'Flow Pkts/s', 'Bwd Seg Size Avg'], 'Adv sample 377': ['Bwd IAT Min', 'Bwd IAT Mean', 'Bwd IAT Max', 'Init Bwd Win Byts', 'Fwd Pkts/b Avg', 'Bwd Pkts/s', 'Flow Pkts/s', 'Bwd Pkt Len Std', 'Fwd Blk Rate Avg', 'Bwd PSH Flags'], 'Adv sample 378': ['Bwd IAT Min', 'Bwd IAT Mean', 'Bwd IAT Max', 'Init Bwd Win Byts', 'Bwd Pkts/s', 'Bwd Pkt Len Min', 'Fwd Pkts/b Avg', 'Bwd Header Len', 'Bwd Pkt Len Max', 'Fwd IAT Mean'], 'Adv sample 379': ['SYN Flag Cnt', 'Bwd IAT Mean', 'Fwd IAT Min', 'Fwd Byts/b Avg', 'Fwd Pkts/b Avg', 'Init Bwd Win Byts', 'Flow Byts/s', 'Bwd IAT Max', 'Bwd IAT Tot', 'Fwd Pkt Len Min'], 'Adv sample 380': ['Bwd IAT Min', 'Bwd IAT Mean', 'Init Bwd Win Byts', 'Fwd IAT Mean', 'Fwd Pkts/b Avg', 'Flow Pkts/s', 'Fwd Blk Rate Avg', 'Flow Duration', 'Active Min', 'Bwd Pkt Len Mean'], 'Adv sample 381': ['Bwd Pkts/s', 'Init Bwd Win Byts', 'Fwd Pkt Len Max', 'Bwd Pkt Len Max', 'Pkt Size Avg', 'Fwd Pkt Len Std', 'Bwd IAT Mean', 'Bwd Seg Size Avg', 'Active Min', 'Bwd IAT Min'], 'Adv sample 382': ['ACK Flag Cnt', 'Active Mean', 'Flow IAT Std', 'Active Max', 'Flow IAT Mean', 'Subflow Bwd Byts', 'Init Bwd Win Byts', 'Bwd Pkt Len Min', 'Bwd IAT Mean', 'Subflow Fwd Byts'], 'Adv sample 383': ['SYN Flag Cnt', 'Bwd IAT Mean', 'Init Bwd Win Byts', 'Fwd IAT Min', 'Bwd IAT Max', 'Fwd Byts/b Avg', 'Bwd Pkts/b Avg', 'Down/Up Ratio', 'Flow IAT Max', 'Subflow Fwd Byts'], 'Adv sample 384': ['SYN Flag Cnt', 'Bwd IAT Mean', 'Fwd IAT Min', 'Init Bwd Win Byts', 'Bwd IAT Max', 'Fwd Byts/b Avg', 'Bwd Pkts/b Avg', 'Bwd Pkts/s', 'Pkt Len Min', 'Bwd IAT Tot'], 'Adv sample 385': ['Bwd IAT Min', 'Bwd IAT Mean', 'Bwd IAT Max', 'Init Bwd Win Byts', 'Fwd Pkts/b Avg', 'Bwd Pkts/s', 'Flow Pkts/s', 'Bwd PSH Flags', 'Fwd IAT Mean', 'Bwd Pkt Len Mean'], 'Adv sample 386': ['ACK Flag Cnt', 'Bwd IAT Min', 'Fwd IAT Mean', 'Idle Max', 'Init Bwd Win Byts', 'Pkt Len Max', 'Pkt Size Avg', 'Pkt Len Mean', 'Flow Duration', 'Bwd IAT Std'], 'Adv sample 387': ['SYN Flag Cnt', 'Bwd IAT Mean', 'Fwd IAT Min', 'Init Bwd Win Byts', 'Bwd IAT Max', 'Fwd Byts/b Avg', 'Fwd IAT Mean', 'Bwd IAT Std', 'Bwd Pkts/b Avg', 'Pkt Len Min'], 'Adv sample 388': ['ACK Flag Cnt', 'Active Mean', 'Active Max', 'Pkt Len Std', 'Flow IAT Min', 'Fwd IAT Mean', 'Flow IAT Std', 'Flow IAT Mean', 'Tot Bwd Pkts', 'Init Bwd Win Byts'], 'Adv sample 389': ['Bwd Pkts/s', 'Init Bwd Win Byts', 'Fwd IAT Min', 'Pkt Size Avg', 'Bwd Pkt Len Std', 'Flow Duration', 'Tot Fwd Pkts', 'Tot Bwd Pkts', 'Fwd Pkt Len Max', 'Fwd Pkt Len Min'], 'Adv sample 390': ['ACK Flag Cnt', 'Active Mean', 'Active Max', 'Flow IAT Std', 'Pkt Len Std', 'Flow IAT Mean', 'Init Bwd Win Byts', 'Fwd IAT Max', 'Bwd Pkt Len Min', 'Pkt Len Mean'], 'Adv sample 391': ['Bwd Pkts/s', 'Init Bwd Win Byts', 'Fwd IAT Min', 'Pkt Len Min', 'Subflow Fwd Pkts', 'Pkt Size Avg', 'TotLen Bwd Pkts', 'Bwd IAT Tot', 'Flow Duration', 'Tot Fwd Pkts'], 'Adv sample 392': ['SYN Flag Cnt', 'Bwd IAT Mean', 'Init Bwd Win Byts', 'Bwd IAT Max', 'Fwd Byts/b Avg', 'Fwd IAT Min', 'Bwd IAT Tot', 'Pkt Len Max', 'Fwd IAT Mean', 'Subflow Fwd Pkts'], 'Adv sample 393': ['SYN Flag Cnt', 'Bwd IAT Mean', 'Fwd IAT Min', 'Fwd Byts/b Avg', 'Init Bwd Win Byts', 'Fwd Pkt Len Std', 'Bwd Pkts/b Avg', 'Subflow Bwd Pkts', 'Pkt Len Min', 'Bwd IAT Std'], 'Adv sample 394': ['Bwd IAT Min', 'Bwd IAT Mean', 'Init Bwd Win Byts', 'Fwd Pkts/b Avg', 'Fwd IAT Mean', 'Flow Pkts/s', 'Down/Up Ratio', 'Fwd Blk Rate Avg', 'Pkt Len Min', 'Fwd Seg Size Avg'], 'Adv sample 395': ['ACK Flag Cnt', 'Idle Std', 'Init Bwd Win Byts', 'Down/Up Ratio', 'Bwd Pkts/b Avg', 'Bwd IAT Tot', 'Bwd Byts/b Avg', 'Fwd IAT Min', 'Fwd Act Data Pkts', 'Bwd Pkt Len Std'], 'Adv sample 396': ['Bwd IAT Mean', 'Bwd IAT Min', 'Fwd Pkts/b Avg', 'Init Bwd Win Byts', 'Fwd Blk Rate Avg', 'Down/Up Ratio', 'Fwd Pkt Len Std', 'Subflow Fwd Byts', 'Flow IAT Mean', 'Pkt Len Std'], 'Adv sample 397': ['SYN Flag Cnt', 'Bwd IAT Mean', 'Fwd IAT Min', 'Bwd IAT Max', 'Fwd Byts/b Avg', 'Init Bwd Win Byts', 'Fwd IAT Mean', 'Pkt Len Mean', 'Bwd IAT Tot', 'Bwd Pkt Len Std'], 'Adv sample 398': ['SYN Flag Cnt', 'Bwd IAT Mean', 'Fwd IAT Min', 'Init Bwd Win Byts', 'Subflow Bwd Byts', 'Fwd Byts/b Avg', 'Bwd Pkts/b Avg', 'Active Min', 'Bwd IAT Std', 'Fwd IAT Mean'], 'Adv sample 399': ['Bwd Pkts/s', 'Init Bwd Win Byts', 'Fwd IAT Min', 'Pkt Len Std', 'Active Min', 'Idle Std', 'Bwd Seg Size Avg', 'Fwd Seg Size Avg', 'Pkt Len Max', 'PSH Flag Cnt'], 'Adv sample 400': ['Bwd IAT Min', 'Bwd IAT Mean', 'Init Bwd Win Byts', 'Fwd Pkts/b Avg', 'Fwd IAT Mean', 'Flow Pkts/s', 'Fwd Blk Rate Avg', 'Bwd PSH Flags', 'Idle Mean', 'Pkt Len Min'], 'Adv sample 401': ['SYN Flag Cnt', 'Bwd IAT Mean', 'Fwd IAT Min', 'Bwd IAT Max', 'Init Bwd Win Byts', 'Fwd Byts/b Avg', 'Bwd PSH Flags', 'Bwd Seg Size Avg', 'Bwd Pkt Len Max', 'Bwd IAT Tot'], 'Adv sample 402': ['Bwd IAT Min', 'Bwd IAT Mean', 'Bwd IAT Max', 'Init Bwd Win Byts', 'Bwd Pkts/s', 'Flow Pkts/s', 'Pkt Size Avg', 'Fwd Blk Rate Avg', 'Pkt Len Max', 'Bwd IAT Std'], 'Adv sample 403': ['Bwd IAT Min', 'Bwd IAT Mean', 'Init Bwd Win Byts', 'Fwd Pkts/b Avg', 'Down/Up Ratio', 'Flow Pkts/s', 'Fwd Blk Rate Avg', 'Fwd IAT Mean', 'PSH Flag Cnt', 'Bwd Pkt Len Mean'], 'Adv sample 404': ['Bwd Pkts/s', 'Init Bwd Win Byts', 'Subflow Bwd Byts', 'Fwd Pkts/s', 'Down/Up Ratio', 'Pkt Len Std', 'Pkt Len Max', 'Fwd IAT Min', 'Pkt Size Avg', 'Flow Duration'], 'Adv sample 405': ['SYN Flag Cnt', 'Fwd IAT Min', 'Fwd Byts/b Avg', 'Fwd IAT Mean', 'Bwd Pkts/s', 'Flow Pkts/s', 'Init Bwd Win Byts', 'Fwd Pkts/b Avg', 'Pkt Len Var', 'Pkt Len Min'], 'Adv sample 406': ['ACK Flag Cnt', 'Active Mean', 'Flow IAT Std', 'Active Max', 'Init Bwd Win Byts', 'Pkt Len Var', 'Flow IAT Mean', 'Pkt Len Min', 'Bwd Seg Size Avg', 'Fwd Pkt Len Mean'], 'Adv sample 407': ['ACK Flag Cnt', 'Idle Std', 'Init Bwd Win Byts', 'Bwd IAT Tot', 'Down/Up Ratio', 'Bwd Byts/b Avg', 'Bwd Pkts/b Avg', 'TotLen Bwd Pkts', 'Fwd IAT Max', 'Fwd IAT Std'], 'Adv sample 408': ['SYN Flag Cnt', 'Bwd IAT Mean', 'Fwd IAT Min', 'Init Bwd Win Byts', 'Bwd IAT Max', 'Fwd Byts/b Avg', 'Pkt Len Std', 'Bwd IAT Tot', 'Bwd Pkts/s', 'Pkt Size Avg'], 'Adv sample 409': ['Bwd IAT Min', 'Bwd IAT Mean', 'Bwd IAT Max', 'Init Bwd Win Byts', 'Bwd Pkts/s', 'Flow Pkts/s', 'Fwd Pkts/b Avg', 'Pkt Len Min', 'Bwd Seg Size Avg', 'Fwd Blk Rate Avg'], 'Adv sample 410': ['Bwd IAT Min', 'Bwd IAT Mean', 'Bwd IAT Max', 'Init Bwd Win Byts', 'Fwd Pkts/b Avg', 'Down/Up Ratio', 'Subflow Fwd Byts', 'Fwd IAT Mean', 'Pkt Len Std', 'Bwd Pkts/s'], 'Adv sample 411': ['SYN Flag Cnt', 'Bwd IAT Mean', 'Fwd IAT Min', 'Init Bwd Win Byts', 'Bwd IAT Max', 'Bwd Pkts/b Avg', 'Fwd Byts/b Avg', 'Bwd IAT Tot', 'Fwd IAT Mean', 'Pkt Len Mean'], 'Adv sample 412': ['SYN Flag Cnt', 'Bwd IAT Mean', 'Init Bwd Win Byts', 'Fwd IAT Min', 'Bwd IAT Max', 'Bwd Pkts/s', 'Fwd Byts/b Avg', 'Fwd IAT Mean', 'Bwd IAT Tot', 'Bwd Seg Size Avg'], 'Adv sample 413': ['Bwd IAT Std', 'Fwd IAT Min', 'Fwd Header Len', 'Idle Min', 'Init Bwd Win Byts', 'Pkt Size Avg', 'Bwd Header Len', 'TotLen Fwd Pkts', 'Bwd PSH Flags', 'Pkt Len Mean'], 'Adv sample 414': ['SYN Flag Cnt', 'Bwd IAT Mean', 'Init Bwd Win Byts', 'Fwd IAT Min', 'Bwd IAT Max', 'Fwd Byts/b Avg', 'Fwd IAT Mean', 'Pkt Len Min', 'Pkt Size Avg', 'Pkt Len Var'], 'Adv sample 415': ['ACK Flag Cnt', 'Active Mean', 'Active Max', 'Flow IAT Std', 'Init Bwd Win Byts', 'Bwd Header Len', 'Flow Pkts/s', 'Flow IAT Mean', 'Pkt Size Avg', 'Bwd Pkt Len Max'], 'Adv sample 416': ['SYN Flag Cnt', 'Bwd IAT Mean', 'Fwd IAT Min', 'Fwd Byts/b Avg', 'Init Bwd Win Byts', 'Fwd Pkts/b Avg', 'Bwd IAT Max', 'Bwd Pkt Len Std', 'Active Max', 'Flow Duration'], 'Adv sample 417': ['Bwd Pkts/s', 'Init Bwd Win Byts', 'Tot Fwd Pkts', 'Tot Bwd Pkts', 'TotLen Fwd Pkts', 'Fwd Pkt Len Max', 'Fwd Pkt Len Min', 'Fwd Pkt Len Mean', 'Fwd Pkt Len Std', 'Bwd Pkt Len Max'], 'Adv sample 418': ['Bwd IAT Min', 'Bwd IAT Mean', 'Bwd IAT Max', 'Init Bwd Win Byts', 'Fwd Pkts/b Avg', 'Pkt Len Min', 'Fwd IAT Min', 'Down/Up Ratio', 'Bwd PSH Flags', 'Fwd IAT Mean'], 'Adv sample 419': ['Bwd IAT Tot', 'SYN Flag Cnt', 'Bwd Byts/b Avg', 'Bwd Pkts/b Avg', 'Pkt Len Std', 'Fwd Pkt Len Min', 'Init Bwd Win Byts', 'Flow IAT Mean', 'Fwd Pkts/s', 'Fwd Pkt Len Std'], 'Adv sample 420': ['ACK Flag Cnt', 'Idle Std', 'Init Bwd Win Byts', 'Down/Up Ratio', 'Bwd Byts/b Avg', 'Bwd IAT Tot', 'Bwd Pkts/b Avg', 'Pkt Len Min', 'Pkt Len Std', 'Pkt Len Mean'], 'Adv sample 421': ['Bwd Pkts/s', 'Init Bwd Win Byts', 'Fwd IAT Min', 'Pkt Len Mean', 'Bwd IAT Min', 'Fwd Seg Size Avg', 'Bwd PSH Flags', 'Pkt Len Min', 'Flow Duration', 'Tot Fwd Pkts'], 'Adv sample 422': ['SYN Flag Cnt', 'Bwd IAT Mean', 'Fwd Byts/b Avg', 'Fwd IAT Min', 'Bwd PSH Flags', 'Subflow Bwd Pkts', 'Bwd Pkts/s', 'Fwd Pkts/b Avg', 'Init Bwd Win Byts', 'Bwd Pkt Len Min'], 'Adv sample 423': ['SYN Flag Cnt', 'Bwd IAT Mean', 'Fwd IAT Min', 'Bwd IAT Max', 'Fwd Byts/b Avg', 'Init Bwd Win Byts', 'Fwd Pkt Len Mean', 'Fwd IAT Mean', 'Fwd Seg Size Avg', 'Bwd Seg Size Avg'], 'Adv sample 424': ['SYN Flag Cnt', 'Bwd IAT Mean', 'Fwd IAT Min', 'Fwd Byts/b Avg', 'Down/Up Ratio', 'Fwd Pkt Len Std', 'Init Bwd Win Byts', 'Subflow Bwd Pkts', 'Pkt Len Min', 'Bwd IAT Min'], 'Adv sample 425': ['Bwd IAT Min', 'Bwd IAT Mean', 'Init Bwd Win Byts', 'Fwd Blk Rate Avg', 'Fwd Pkts/b Avg', 'Fwd IAT Mean', 'Flow Pkts/s', 'Down/Up Ratio', 'Bwd Pkt Len Std', 'Subflow Fwd Byts'], 'Adv sample 426': ['Bwd IAT Min', 'Bwd IAT Mean', 'Bwd IAT Max', 'Init Bwd Win Byts', 'Fwd Pkts/b Avg', 'Bwd Pkts/s', 'Pkt Len Min', 'Down/Up Ratio', 'Flow Pkts/s', 'Fwd IAT Mean'], 'Adv sample 427': ['ACK Flag Cnt', 'Bwd IAT Min', 'Bwd IAT Mean', 'Bwd IAT Max', 'Init Bwd Win Byts', 'Bwd Pkts/s', 'Fwd IAT Mean', 'Flow Pkts/s', 'Fwd Pkts/b Avg', 'Pkt Len Std'], 'Adv sample 428': ['ACK Flag Cnt', 'Bwd IAT Min', 'Bwd IAT Mean', 'Bwd IAT Max', 'Init Bwd Win Byts', 'Bwd Pkts/s', 'Flow Pkts/s', 'Fwd IAT Mean', 'Fwd Pkts/b Avg', 'Down/Up Ratio'], 'Adv sample 429': ['URG Flag Cnt', 'FIN Flag Cnt', 'Bwd URG Flags', 'Idle Min', 'Fwd IAT Mean', 'Init Bwd Win Byts', 'Bwd IAT Min', 'Pkt Len Min', 'Pkt Len Std', 'Pkt Len Var'], 'Adv sample 430': ['Bwd IAT Min', 'Bwd IAT Mean', 'Bwd IAT Max', 'Init Bwd Win Byts', 'Bwd Pkts/s', 'Fwd Pkts/b Avg', 'Flow Pkts/s', 'Bwd Seg Size Avg', 'Fwd Blk Rate Avg', 'Pkt Len Std'], 'Adv sample 431': ['Bwd IAT Min', 'Bwd IAT Mean', 'Init Bwd Win Byts', 'Fwd IAT Mean', 'Fwd Pkts/b Avg', 'Fwd Blk Rate Avg', 'Down/Up Ratio', 'Pkt Size Avg', 'Flow Pkts/s', 'Pkt Len Mean'], 'Adv sample 432': ['SYN Flag Cnt', 'Bwd IAT Mean', 'Fwd Byts/b Avg', 'Fwd IAT Min', 'Init Bwd Win Byts', 'Bwd Pkts/b Avg', 'Bwd Header Len', 'Pkt Len Var', 'Pkt Len Min', 'Fwd Pkts/b Avg'], 'Adv sample 433': ['ACK Flag Cnt', 'Idle Std', 'Init Bwd Win Byts', 'Bwd IAT Tot', 'Down/Up Ratio', 'Bwd Byts/b Avg', 'Bwd Pkts/b Avg', 'Subflow Bwd Pkts', 'Flow Duration', 'Bwd IAT Mean'], 'Adv sample 434': ['Bwd IAT Mean', 'Bwd IAT Min', 'Fwd Pkts/b Avg', 'Init Bwd Win Byts', 'Down/Up Ratio', 'Idle Mean', 'Pkt Len Max', 'Fwd Blk Rate Avg', 'Fwd Pkt Len Mean', 'Tot Bwd Pkts'], 'Adv sample 435': ['ACK Flag Cnt', 'Bwd IAT Min', 'Bwd IAT Mean', 'Bwd IAT Max', 'Init Bwd Win Byts', 'Bwd Pkts/s', 'Flow Pkts/s', 'Fwd IAT Mean', 'Pkt Len Min', 'Active Min'], 'Adv sample 436': ['SYN Flag Cnt', 'Fwd IAT Min', 'Fwd Byts/b Avg', 'Fwd IAT Mean', 'Bwd Pkts/s', 'Flow Pkts/s', 'Fwd IAT Std', 'Fwd Pkts/b Avg', 'Init Bwd Win Byts', 'Bwd IAT Max'], 'Adv sample 437': ['Bwd IAT Min', 'Bwd IAT Mean', 'Init Bwd Win Byts', 'Fwd IAT Mean', 'Fwd Pkts/b Avg', 'Down/Up Ratio', 'Bwd IAT Std', 'Fwd Pkt Len Mean', 'Fwd Pkt Len Max', 'Fwd IAT Min'], 'Adv sample 438': ['SYN Flag Cnt', 'Bwd IAT Mean', 'Fwd IAT Min', 'Fwd Byts/b Avg', 'Fwd IAT Mean', 'Bwd IAT Max', 'Pkt Len Std', 'Pkt Size Avg', 'Init Bwd Win Byts', 'Active Mean'], 'Adv sample 439': ['Bwd IAT Mean', 'Bwd IAT Min', 'Fwd Pkts/b Avg', 'Init Bwd Win Byts', 'Down/Up Ratio', 'Pkt Len Min', 'Bwd Seg Size Avg', 'PSH Flag Cnt', 'Pkt Len Std', 'Idle Max'], 'Adv sample 440': ['Bwd IAT Min', 'Bwd IAT Mean', 'Fwd Pkts/b Avg', 'Init Bwd Win Byts', 'Fwd IAT Mean', 'Fwd Blk Rate Avg', 'Flow Pkts/s', 'Fwd IAT Min', 'PSH Flag Cnt', 'Pkt Len Max'], 'Adv sample 441': ['Bwd Pkts/s', 'Bwd Seg Size Avg', 'Active Min', 'Init Bwd Win Byts', 'Pkt Len Std', 'Pkt Len Min', 'FIN Flag Cnt', 'Down/Up Ratio', 'Tot Bwd Pkts', 'Active Max'], 'Adv sample 442': ['ACK Flag Cnt', 'Active Mean', 'Active Max', 'Flow IAT Std', 'Flow IAT Mean', 'Fwd Pkt Len Max', 'Fwd Pkt Len Min', 'Init Bwd Win Byts', 'Bwd Seg Size Avg', 'Fwd IAT Max'], 'Adv sample 443': ['Bwd IAT Mean', 'Bwd IAT Min', 'Bwd IAT Max', 'Bwd IAT Tot', 'Active Min', 'Fwd Byts/b Avg', 'Active Max', 'Pkt Len Std', 'Init Bwd Win Byts', 'Bwd PSH Flags'], 'Adv sample 444': ['ACK Flag Cnt', 'Active Mean', 'Active Max', 'Flow IAT Std', 'Flow IAT Mean', 'Init Bwd Win Byts', 'TotLen Bwd Pkts', 'Bwd IAT Max', 'Pkt Size Avg', 'Pkt Len Mean'], 'Adv sample 445': ['ACK Flag Cnt', 'Bwd IAT Min', 'Fwd IAT Mean', 'Idle Max', 'Active Mean', 'Init Bwd Win Byts', 'Pkt Len Max', 'Pkt Size Avg', 'Fwd Pkt Len Mean', 'Bwd Header Len'], 'Adv sample 446': ['ACK Flag Cnt', 'Bwd IAT Min', 'Bwd IAT Mean', 'Bwd IAT Max', 'Bwd Pkts/s', 'Init Bwd Win Byts', 'Flow Pkts/s', 'Fwd Pkts/b Avg', 'Fwd IAT Mean', 'Bwd PSH Flags'], 'Adv sample 447': ['Bwd IAT Min', 'ACK Flag Cnt', 'Bwd IAT Mean', 'Bwd IAT Max', 'Init Bwd Win Byts', 'Fwd IAT Mean', 'Down/Up Ratio', 'Flow IAT Min', 'Bwd Pkts/s', 'Fwd Pkts/s'], 'Adv sample 448': ['ACK Flag Cnt', 'Bwd IAT Min', 'Bwd IAT Mean', 'Bwd IAT Max', 'Init Bwd Win Byts', 'Flow Pkts/s', 'Fwd IAT Mean', 'Bwd Pkts/s', 'Fwd Pkts/b Avg', 'Bwd Header Len'], 'Adv sample 449': ['Bwd IAT Min', 'Bwd IAT Mean', 'Fwd IAT Mean', 'Fwd Pkts/b Avg', 'Init Bwd Win Byts', 'Down/Up Ratio', 'Pkt Len Mean', 'Pkt Size Avg', 'PSH Flag Cnt', 'Bwd Pkt Len Mean'], 'Adv sample 450': ['ACK Flag Cnt', 'Bwd IAT Min', 'Bwd IAT Mean', 'Bwd IAT Max', 'Init Bwd Win Byts', 'Fwd IAT Mean', 'Flow Pkts/s', 'Bwd Pkts/s', 'Bwd IAT Std', 'Bwd PSH Flags'], 'Adv sample 451': ['Bwd IAT Min', 'Bwd IAT Mean', 'Fwd IAT Mean', 'Fwd Pkts/b Avg', 'Init Bwd Win Byts', 'Down/Up Ratio', 'Fwd Pkt Len Max', 'TotLen Bwd Pkts', 'Idle Mean', 'Pkt Size Avg'], 'Adv sample 452': ['SYN Flag Cnt', 'Bwd IAT Mean', 'Fwd IAT Min', 'Init Bwd Win Byts', 'Bwd IAT Max', 'Fwd Byts/b Avg', 'TotLen Bwd Pkts', 'Bwd IAT Tot', 'Bwd Pkts/b Avg', 'Flow IAT Std'], 'Adv sample 453': ['Bwd IAT Min', 'Bwd IAT Mean', 'Bwd IAT Max', 'Init Bwd Win Byts', 'Bwd Pkts/s', 'Fwd Blk Rate Avg', 'Fwd Pkts/b Avg', 'Flow Pkts/s', 'Subflow Fwd Pkts', 'Pkt Len Min'], 'Adv sample 454': ['Bwd IAT Min', 'Bwd IAT Mean', 'Bwd IAT Max', 'Init Bwd Win Byts', 'Bwd Pkts/s', 'Fwd Blk Rate Avg', 'Fwd Pkts/b Avg', 'Flow Pkts/s', 'Fwd Seg Size Avg', 'Fwd Header Len'], 'Adv sample 455': ['Bwd IAT Mean', 'Bwd IAT Min', 'Init Bwd Win Byts', 'Fwd Pkts/b Avg', 'Down/Up Ratio', 'Pkt Size Avg', 'Fwd IAT Min', 'Pkt Len Min', 'Idle Mean', 'Pkt Len Mean'], 'Adv sample 456': ['Bwd IAT Min', 'Bwd IAT Mean', 'Bwd IAT Max', 'Init Bwd Win Byts', 'Bwd Pkts/s', 'Fwd Pkts/b Avg', 'Down/Up Ratio', 'Pkt Size Avg', 'TotLen Fwd Pkts', 'Flow Pkts/s'], 'Adv sample 457': ['ACK Flag Cnt', 'Idle Std', 'Init Bwd Win Byts', 'Down/Up Ratio', 'Bwd IAT Tot', 'Bwd Pkts/b Avg', 'Bwd Byts/b Avg', 'Idle Max', 'Fwd Pkt Len Std', 'Flow IAT Std'], 'Adv sample 458': ['Bwd IAT Min', 'Bwd IAT Mean', 'Bwd IAT Max', 'Init Bwd Win Byts', 'Fwd Pkts/b Avg', 'Fwd Blk Rate Avg', 'Active Min', 'Fwd Seg Size Avg', 'Pkt Len Min', 'Pkt Len Mean'], 'Adv sample 459': ['Bwd IAT Min', 'Bwd IAT Mean', 'Init Bwd Win Byts', 'Fwd Pkts/b Avg', 'Fwd Blk Rate Avg', 'Fwd IAT Mean', 'Flow IAT Mean', 'Down/Up Ratio', 'Active Std', 'Bwd Seg Size Avg'], 'Adv sample 460': ['Idle Std', 'ACK Flag Cnt', 'Init Bwd Win Byts', 'Bwd Byts/b Avg', 'Bwd Pkts/b Avg', 'Flow Duration', 'Pkt Len Min', 'Bwd PSH Flags', 'PSH Flag Cnt', 'Pkt Len Std'], 'Adv sample 461': ['Bwd Pkts/s', 'Init Bwd Win Byts', 'Fwd Seg Size Avg', 'Down/Up Ratio', 'Pkt Len Max', 'Subflow Bwd Byts', 'Tot Bwd Pkts', 'Fwd IAT Min', 'Bwd IAT Min', 'Fwd Act Data Pkts'], 'Adv sample 462': ['ACK Flag Cnt', 'Bwd IAT Min', 'Bwd IAT Mean', 'Bwd IAT Max', 'Init Bwd Win Byts', 'Flow Pkts/s', 'Fwd Pkts/b Avg', 'Bwd Pkts/s', 'Pkt Len Std', 'Fwd Pkt Len Min'], 'Adv sample 463': ['ACK Flag Cnt', 'Active Mean', 'Flow IAT Std', 'Active Max', 'Flow IAT Mean', 'Bwd Pkt Len Max', 'Init Bwd Win Byts', 'Fwd IAT Max', 'Bwd Pkt Len Min', 'Fwd Pkts/s'], 'Adv sample 464': ['SYN Flag Cnt', 'Bwd IAT Mean', 'Init Bwd Win Byts', 'Fwd IAT Min', 'Bwd IAT Max', 'Fwd Byts/b Avg', 'Pkt Size Avg', 'Bwd Pkts/s', 'Flow IAT Max', 'Bwd IAT Tot'], 'Adv sample 465': ['SYN Flag Cnt', 'Bwd IAT Mean', 'Fwd IAT Min', 'Fwd Byts/b Avg', 'Bwd IAT Max', 'Init Bwd Win Byts', 'Fwd IAT Mean', 'Down/Up Ratio', 'Fwd Pkts/b Avg', 'Tot Fwd Pkts'], 'Adv sample 466': ['Bwd IAT Min', 'ACK Flag Cnt', 'Bwd IAT Mean', 'Bwd IAT Max', 'Init Bwd Win Byts', 'Bwd Pkts/s', 'Fwd IAT Mean', 'Idle Mean', 'Bwd Header Len', 'Bwd Pkt Len Mean'], 'Adv sample 467': ['ACK Flag Cnt', 'Bwd IAT Min', 'Bwd IAT Mean', 'Bwd IAT Max', 'Init Bwd Win Byts', 'Bwd Pkts/s', 'Flow Pkts/s', 'Fwd Pkts/b Avg', 'Fwd IAT Mean', 'Down/Up Ratio'], 'Adv sample 468': ['Bwd Pkts/s', 'Init Bwd Win Byts', 'Bwd Pkt Len Max', 'Pkt Len Std', 'Fwd Act Data Pkts', 'Fwd IAT Min', 'Idle Mean', 'Pkt Len Mean', 'PSH Flag Cnt', 'Pkt Size Avg'], 'Adv sample 469': ['SYN Flag Cnt', 'Bwd IAT Mean', 'Fwd IAT Min', 'Fwd Byts/b Avg', 'Bwd Pkts/b Avg', 'Flow Pkts/s', 'Fwd Act Data Pkts', 'Active Max', 'Init Bwd Win Byts', 'Fwd Pkts/s'], 'Adv sample 470': ['ACK Flag Cnt', 'Bwd IAT Min', 'Bwd IAT Mean', 'Bwd IAT Max', 'Bwd Pkts/s', 'Init Bwd Win Byts', 'Flow Pkts/s', 'Fwd Pkts/b Avg', 'Fwd IAT Mean', 'Flow IAT Mean'], 'Adv sample 471': ['SYN Flag Cnt', 'Bwd IAT Mean', 'Fwd Byts/b Avg', 'Fwd IAT Min', 'Init Bwd Win Byts', 'Bwd Pkts/b Avg', 'Subflow Fwd Pkts', 'Flow Pkts/s', 'Fwd Pkts/b Avg', 'Flow IAT Std'], 'Adv sample 472': ['Bwd IAT Min', 'Bwd IAT Mean', 'Bwd IAT Max', 'Fwd Pkts/b Avg', 'Bwd Pkts/s', 'Fwd Blk Rate Avg', 'Flow Pkts/s', 'Init Bwd Win Byts', 'Down/Up Ratio', 'Pkt Len Std'], 'Adv sample 473': ['Bwd IAT Min', 'Bwd IAT Mean', 'Bwd IAT Max', 'Init Bwd Win Byts', 'Fwd Pkts/b Avg', 'Bwd Pkts/s', 'Flow Pkts/s', 'Fwd Blk Rate Avg', 'Bwd PSH Flags', 'Pkt Len Min'], 'Adv sample 474': ['SYN Flag Cnt', 'Fwd IAT Mean', 'Fwd IAT Min', 'Init Bwd Win Byts', 'Fwd Byts/b Avg', 'Bwd Pkts/s', 'Flow Pkts/s', 'Flow IAT Std', 'Flow Duration', 'Tot Fwd Pkts'], 'Adv sample 475': ['ACK Flag Cnt', 'Active Mean', 'Flow IAT Std', 'Active Max', 'Init Bwd Win Byts', 'Flow IAT Mean', 'Pkt Len Mean', 'Pkt Len Min', 'Bwd Pkt Len Std', 'Bwd IAT Min'], 'Adv sample 476': ['Bwd Pkts/s', 'Init Bwd Win Byts', 'Fwd IAT Min', 'TotLen Fwd Pkts', 'Fwd Pkts/b Avg', 'Pkt Size Avg', 'Flow Duration', 'Tot Fwd Pkts', 'Tot Bwd Pkts', 'Fwd Pkt Len Max'], 'Adv sample 477': ['ACK Flag Cnt', 'Bwd IAT Min', 'Bwd IAT Mean', 'Bwd IAT Max', 'Init Bwd Win Byts', 'Bwd Pkts/s', 'Fwd IAT Mean', 'Flow Pkts/s', 'Tot Bwd Pkts', 'Bwd Pkt Len Min'], 'Adv sample 478': ['Bwd IAT Min', 'Bwd IAT Mean', 'Bwd IAT Max', 'Init Bwd Win Byts', 'Fwd Blk Rate Avg', 'Fwd Pkts/b Avg', 'Bwd Pkt Len Max', 'Pkt Size Avg', 'Idle Std', 'Flow IAT Mean'], 'Adv sample 479': ['ACK Flag Cnt', 'Idle Std', 'Init Bwd Win Byts', 'Down/Up Ratio', 'Bwd IAT Tot', 'Bwd Byts/b Avg', 'Bwd Pkts/b Avg', 'Pkt Len Mean', 'PSH Flag Cnt', 'Flow IAT Std'], 'Adv sample 480': ['ACK Flag Cnt', 'Idle Std', 'Init Bwd Win Byts', 'Down/Up Ratio', 'Bwd IAT Tot', 'Bwd Pkts/b Avg', 'Pkt Len Min', 'Bwd Pkt Len Std', 'Pkt Size Avg', 'Subflow Fwd Pkts'], 'Adv sample 481': ['ACK Flag Cnt', 'Bwd IAT Min', 'Bwd IAT Mean', 'Bwd IAT Max', 'Init Bwd Win Byts', 'Flow Pkts/s', 'Bwd Pkts/s', 'Fwd IAT Mean', 'Bwd Seg Size Avg', 'PSH Flag Cnt'], 'Adv sample 482': ['ACK Flag Cnt', 'Bwd IAT Min', 'Bwd IAT Mean', 'Bwd IAT Max', 'Bwd Pkts/s', 'Init Bwd Win Byts', 'Flow Pkts/s', 'Fwd IAT Mean', 'Bwd PSH Flags', 'Down/Up Ratio'], 'Adv sample 483': ['SYN Flag Cnt', 'Bwd IAT Mean', 'Fwd IAT Min', 'Fwd Byts/b Avg', 'Bwd IAT Max', 'Fwd IAT Mean', 'Pkt Len Max', 'Init Bwd Win Byts', 'Down/Up Ratio', 'Bwd Pkt Len Std'], 'Adv sample 484': ['Bwd IAT Min', 'Bwd IAT Mean', 'Bwd IAT Max', 'Bwd Pkts/s', 'Init Bwd Win Byts', 'Fwd Pkts/b Avg', 'Flow Pkts/s', 'TotLen Fwd Pkts', 'Down/Up Ratio', 'Bwd Seg Size Avg'], 'Adv sample 485': ['SYN Flag Cnt', 'Bwd IAT Mean', 'Init Bwd Win Byts', 'Fwd IAT Min', 'Bwd IAT Max', 'Fwd Byts/b Avg', 'Fwd IAT Mean', 'Bwd Pkts/s', 'Fwd Pkt Len Min', 'Bwd Seg Size Avg'], 'Adv sample 486': ['Bwd IAT Mean', 'Bwd IAT Min', 'Fwd Pkts/b Avg', 'Init Bwd Win Byts', 'Down/Up Ratio', 'Fwd Blk Rate Avg', 'Bwd Pkt Len Min', 'Pkt Len Min', 'Idle Std', 'Flow IAT Mean'], 'Adv sample 487': ['Bwd IAT Min', 'Bwd IAT Mean', 'Bwd IAT Max', 'Init Bwd Win Byts', 'Bwd Pkts/s', 'Flow Pkts/s', 'Fwd Pkts/b Avg', 'Fwd Header Len', 'Pkt Len Min', 'Pkt Size Avg'], 'Adv sample 488': ['Bwd IAT Min', 'Bwd IAT Mean', 'Bwd IAT Max', 'Init Bwd Win Byts', 'Bwd Pkts/s', 'Fwd Pkts/b Avg', 'Bwd IAT Std', 'Tot Bwd Pkts', 'Flow Pkts/s', 'Pkt Len Min'], 'Adv sample 489': ['Bwd IAT Min', 'Bwd IAT Max', 'Bwd IAT Mean', 'Init Bwd Win Byts', 'Fwd Pkts/b Avg', 'Flow Pkts/s', 'Bwd Pkt Len Min', 'Bwd Pkts/s', 'Fwd Pkt Len Max', 'Bwd PSH Flags'], 'Adv sample 490': ['Bwd IAT Min', 'Bwd IAT Mean', 'Bwd IAT Max', 'Init Bwd Win Byts', 'Fwd Pkts/b Avg', 'Fwd IAT Mean', 'Fwd Pkt Len Std', 'Down/Up Ratio', 'Flow Pkts/s', 'Bwd Pkts/s'], 'Adv sample 491': ['Bwd Pkts/s', 'Fwd IAT Min', 'Init Bwd Win Byts', 'Down/Up Ratio', 'Pkt Len Std', 'Flow IAT Mean', 'Flow Duration', 'Fwd Seg Size Avg', 'TotLen Fwd Pkts', 'Tot Fwd Pkts'], 'Adv sample 492': ['Bwd IAT Min', 'Bwd IAT Mean', 'Bwd IAT Max', 'Init Bwd Win Byts', 'Fwd Pkts/b Avg', 'Fwd Blk Rate Avg', 'Flow Pkts/s', 'Bwd Pkts/s', 'Bwd Seg Size Avg', 'Bwd Pkt Len Mean'], 'Adv sample 493': ['SYN Flag Cnt', 'Fwd IAT Min', 'Fwd IAT Mean', 'Init Bwd Win Byts', 'Bwd Pkts/s', 'Fwd Byts/b Avg', 'Flow Pkts/s', 'Bwd IAT Std', 'Bwd Pkts/b Avg', 'Flow IAT Max'], 'Adv sample 494': ['Bwd IAT Min', 'Bwd IAT Mean', 'Bwd IAT Max', 'Init Bwd Win Byts', 'Fwd Pkts/b Avg', 'Flow Duration', 'Fwd IAT Mean', 'Bwd Pkt Len Min', 'Subflow Bwd Pkts', 'Bwd Seg Size Avg'], 'Adv sample 495': ['Bwd IAT Min', 'Bwd IAT Mean', 'Bwd IAT Max', 'Init Bwd Win Byts', 'Bwd Pkts/s', 'Fwd Blk Rate Avg', 'Fwd Pkts/b Avg', 'Fwd IAT Mean', 'Pkt Len Min', 'Bwd IAT Std'], 'Adv sample 496': ['SYN Flag Cnt', 'Bwd IAT Mean', 'Fwd IAT Min', 'Init Bwd Win Byts', 'Bwd IAT Max', 'Fwd Byts/b Avg', 'Fwd IAT Mean', 'Bwd Pkts/s', 'Pkt Len Min', 'Idle Std'], 'Adv sample 497': ['SYN Flag Cnt', 'Bwd IAT Mean', 'Init Bwd Win Byts', 'Fwd IAT Min', 'Bwd IAT Max', 'Fwd Byts/b Avg', 'Pkt Len Mean', 'Bwd Pkts/b Avg', 'Bwd IAT Tot', 'Bwd Seg Size Avg'], 'Adv sample 498': ['SYN Flag Cnt', 'Bwd IAT Mean', 'Init Bwd Win Byts', 'Fwd IAT Min', 'Bwd IAT Max', 'Fwd Byts/b Avg', 'Fwd IAT Mean', 'Pkt Size Avg', 'Bwd Pkts/s', 'Flow IAT Max'], 'Adv sample 499': ['SYN Flag Cnt', 'Bwd IAT Mean', 'Init Bwd Win Byts', 'Fwd IAT Min', 'Bwd IAT Max', 'Fwd Byts/b Avg', 'Fwd IAT Mean', 'Fwd Pkts/b Avg', 'Bwd Pkts/b Avg', 'Pkt Len Var'], 'Adv sample 500': ['Bwd IAT Min', 'Bwd IAT Mean', 'Bwd IAT Max', 'Init Bwd Win Byts', 'Bwd Pkts/s', 'Flow Pkts/s', 'Fwd Blk Rate Avg', 'Fwd Header Len', 'Subflow Fwd Pkts', 'Down/Up Ratio'], 'Adv sample 501': ['SYN Flag Cnt', 'Bwd IAT Mean', 'Init Bwd Win Byts', 'Fwd IAT Min', 'Bwd IAT Max', 'Fwd Byts/b Avg', 'Bwd Pkts/b Avg', 'Fwd IAT Mean', 'Bwd Seg Size Avg', 'Subflow Bwd Byts'], 'Adv sample 502': ['Bwd IAT Min', 'Bwd IAT Mean', 'Init Bwd Win Byts', 'Fwd IAT Mean', 'Fwd Pkts/b Avg', 'Fwd Blk Rate Avg', 'Down/Up Ratio', 'Flow Pkts/s', 'Pkt Size Avg', 'Idle Max'], 'Adv sample 503': ['SYN Flag Cnt', 'Bwd IAT Min', 'Fwd Blk Rate Avg', 'Fwd Byts/b Avg', 'Flow IAT Mean', 'Fwd Pkt Len Mean', 'Bwd Pkts/s', 'Bwd Pkt Len Max', 'Flow Pkts/s', 'Flow Byts/s'], 'Adv sample 504': ['Bwd Pkts/s', 'Init Bwd Win Byts', 'Fwd IAT Min', 'Bwd Pkt Len Mean', 'Pkt Size Avg', 'Pkt Len Mean', 'Pkt Len Std', 'Bwd PSH Flags', 'Pkt Len Min', 'Subflow Fwd Pkts'], 'Adv sample 505': ['Bwd IAT Min', 'Bwd IAT Mean', 'Bwd IAT Max', 'Init Bwd Win Byts', 'Fwd Pkts/b Avg', 'Bwd Pkts/s', 'Bwd Pkt Len Min', 'Flow Pkts/s', 'Fwd Header Len', 'Active Min'], 'Adv sample 506': ['ACK Flag Cnt', 'Idle Std', 'Init Bwd Win Byts', 'Down/Up Ratio', 'Bwd IAT Tot', 'Bwd Pkts/b Avg', 'Bwd Byts/b Avg', 'Pkt Len Min', 'Bwd Pkt Len Min', 'Fwd Act Data Pkts'], 'Adv sample 507': ['Bwd Pkts/s', 'Fwd IAT Min', 'Down/Up Ratio', 'Pkt Len Mean', 'Init Bwd Win Byts', 'Pkt Len Std', 'Pkt Len Max', 'Bwd PSH Flags', 'Fwd Pkt Len Mean', 'Bwd Pkt Len Mean'], 'Adv sample 508': ['SYN Flag Cnt', 'Bwd IAT Mean', 'Fwd Byts/b Avg', 'Fwd IAT Min', 'Init Bwd Win Byts', 'Bwd Pkts/b Avg', 'Flow IAT Std', 'TotLen Fwd Pkts', 'Subflow Bwd Pkts', 'Bwd IAT Std'], 'Adv sample 509': ['SYN Flag Cnt', 'Bwd IAT Mean', 'Init Bwd Win Byts', 'Fwd IAT Min', 'Bwd IAT Max', 'Fwd Byts/b Avg', 'Bwd Pkts/s', 'Pkt Len Min', 'Fwd IAT Mean', 'Fwd Seg Size Avg'], 'Adv sample 510': ['ACK Flag Cnt', 'Idle Std', 'Init Bwd Win Byts', 'Down/Up Ratio', 'Bwd Pkts/b Avg', 'Bwd IAT Tot', 'Bwd Byts/b Avg', 'Pkt Len Min', 'Flow Duration', 'Flow IAT Min'], 'Adv sample 511': ['SYN Flag Cnt', 'Bwd IAT Mean', 'Fwd IAT Min', 'Init Bwd Win Byts', 'Bwd IAT Max', 'Fwd Byts/b Avg', 'Bwd Pkts/b Avg', 'Fwd IAT Mean', 'Pkt Len Std', 'Bwd Seg Size Avg'], 'Adv sample 512': ['Idle Std', 'ACK Flag Cnt', 'Bwd Byts/b Avg', 'Init Bwd Win Byts', 'Bwd Pkts/b Avg', 'Pkt Len Min', 'Idle Mean', 'Fwd Pkt Len Max', 'Fwd Pkt Len Min', 'Subflow Fwd Byts'], 'Adv sample 513': ['SYN Flag Cnt', 'Bwd IAT Mean', 'Fwd IAT Min', 'Fwd Byts/b Avg', 'Init Bwd Win Byts', 'Bwd IAT Max', 'Pkt Len Min', 'Fwd Pkts/b Avg', 'Fwd IAT Mean', 'Tot Bwd Pkts'], 'Adv sample 514': ['SYN Flag Cnt', 'Bwd IAT Mean', 'Init Bwd Win Byts', 'Bwd IAT Max', 'Fwd IAT Min', 'Fwd Byts/b Avg', 'Bwd Pkts/b Avg', 'Fwd IAT Mean', 'Bwd Pkt Len Max', 'Bwd IAT Tot'], 'Adv sample 515': ['Bwd IAT Min', 'Bwd IAT Max', 'Bwd IAT Mean', 'Fwd Pkts/b Avg', 'Init Bwd Win Byts', 'Fwd IAT Mean', 'Bwd Pkts/s', 'Fwd Pkts/s', 'Flow Duration', 'Down/Up Ratio'], 'Adv sample 516': ['Bwd IAT Min', 'Bwd IAT Mean', 'ACK Flag Cnt', 'Bwd IAT Max', 'Init Bwd Win Byts', 'Fwd IAT Mean', 'Bwd Pkts/s', 'Fwd Pkts/b Avg', 'Flow IAT Min', 'Idle Std'], 'Adv sample 517': ['Bwd IAT Mean', 'Bwd IAT Min', 'Init Bwd Win Byts', 'Fwd Pkts/b Avg', 'Fwd Blk Rate Avg', 'Down/Up Ratio', 'Pkt Size Avg', 'Pkt Len Max', 'Idle Mean', 'Active Max'], 'Adv sample 518': ['SYN Flag Cnt', 'Bwd IAT Mean', 'Fwd Byts/b Avg', 'Fwd IAT Min', 'Active Mean', 'Pkt Len Min', 'Tot Fwd Pkts', 'Init Bwd Win Byts', 'Fwd IAT Mean', 'Bwd IAT Max'], 'Adv sample 519': ['SYN Flag Cnt', 'Bwd IAT Mean', 'Fwd IAT Min', 'Fwd Byts/b Avg', 'Fwd Pkts/b Avg', 'Bwd IAT Max', 'Fwd IAT Mean', 'Init Bwd Win Byts', 'Down/Up Ratio', 'TotLen Bwd Pkts'], 'Adv sample 520': ['SYN Flag Cnt', 'Bwd IAT Mean', 'Init Bwd Win Byts', 'Fwd IAT Min', 'Bwd IAT Max', 'Fwd Byts/b Avg', 'Bwd Pkts/s', 'Pkt Len Std', 'Bwd Seg Size Avg', 'Fwd IAT Mean'], 'Adv sample 521': ['ACK Flag Cnt', 'Active Mean', 'Active Max', 'Flow IAT Std', 'Flow IAT Mean', 'Init Bwd Win Byts', 'Pkt Len Min', 'Bwd Seg Size Avg', 'Fwd IAT Min', 'Bwd IAT Tot'], 'Adv sample 522': ['Bwd IAT Min', 'Bwd IAT Mean', 'Bwd IAT Max', 'Init Bwd Win Byts', 'Bwd Pkts/s', 'Fwd Blk Rate Avg', 'Pkt Len Min', 'Flow Pkts/s', 'Fwd Pkts/b Avg', 'Down/Up Ratio'], 'Adv sample 523': ['Bwd IAT Min', 'Bwd IAT Mean', 'Bwd IAT Max', 'Init Bwd Win Byts', 'Fwd Pkts/b Avg', 'Flow Pkts/s', 'Fwd IAT Mean', 'Pkt Len Mean', 'Subflow Fwd Byts', 'Pkt Len Min'], 'Adv sample 524': ['Bwd IAT Min', 'Bwd IAT Mean', 'Bwd IAT Max', 'Init Bwd Win Byts', 'Fwd Pkts/b Avg', 'Fwd IAT Mean', 'Pkt Len Max', 'Fwd IAT Min', 'Flow Pkts/s', 'Fwd Pkt Len Std'], 'Adv sample 525': ['ACK Flag Cnt', 'Active Mean', 'Flow IAT Std', 'Active Max', 'Flow IAT Mean', 'Pkt Len Min', 'Pkt Len Mean', 'Init Bwd Win Byts', 'Bwd Seg Size Avg', 'Fwd Seg Size Avg'], 'Adv sample 526': ['Bwd IAT Min', 'Bwd IAT Mean', 'Bwd IAT Max', 'ACK Flag Cnt', 'Fwd IAT Mean', 'Init Bwd Win Byts', 'Down/Up Ratio', 'Bwd Seg Size Avg', 'Bwd Pkts/s', 'Fwd Pkts/b Avg'], 'Adv sample 527': ['SYN Flag Cnt', 'Bwd IAT Mean', 'Init Bwd Win Byts', 'Fwd IAT Min', 'Bwd IAT Max', 'Fwd Byts/b Avg', 'Bwd Pkts/b Avg', 'Idle Std', 'Bwd IAT Tot', 'Bwd Pkt Len Max'], 'Adv sample 528': ['SYN Flag Cnt', 'Bwd IAT Mean', 'Fwd IAT Min', 'Fwd Byts/b Avg', 'Init Bwd Win Byts', 'Bwd IAT Max', 'Flow IAT Max', 'Fwd Pkts/s', 'Flow Duration', 'Pkt Len Min'], 'Adv sample 529': ['Bwd Pkts/s', 'Fwd IAT Min', 'Init Bwd Win Byts', 'Flow Duration', 'Active Max', 'Fwd Pkt Len Std', 'Flow IAT Max', 'Active Min', 'Fwd Pkt Len Max', 'Fwd Pkt Len Mean'], 'Adv sample 530': ['SYN Flag Cnt', 'Bwd IAT Mean', 'Fwd IAT Min', 'Fwd Byts/b Avg', 'Init Bwd Win Byts', 'Bwd Pkt Len Mean', 'Down/Up Ratio', 'Flow IAT Max', 'Pkt Len Mean', 'Bwd Pkt Len Min'], 'Adv sample 531': ['Bwd Pkts/s', 'Init Bwd Win Byts', 'Active Mean', 'Subflow Bwd Pkts', 'Pkt Len Std', 'Pkt Len Min', 'Pkt Len Max', 'Fwd Pkt Len Std', 'TotLen Bwd Pkts', 'Pkt Len Mean'], 'Adv sample 532': ['Bwd IAT Min', 'Bwd IAT Mean', 'Bwd IAT Max', 'Init Bwd Win Byts', 'Bwd Pkts/s', 'Fwd Pkts/b Avg', 'Fwd Header Len', 'Fwd IAT Mean', 'Flow Byts/s', 'Flow IAT Min'], 'Adv sample 533': ['ACK Flag Cnt', 'Bwd IAT Min', 'Bwd IAT Mean', 'Bwd IAT Max', 'Init Bwd Win Byts', 'Bwd Pkts/s', 'Flow Pkts/s', 'Fwd IAT Mean', 'Fwd Pkts/b Avg', 'Bwd IAT Std'], 'Adv sample 534': ['SYN Flag Cnt', 'Bwd IAT Mean', 'Fwd Byts/b Avg', 'Fwd IAT Min', 'Init Bwd Win Byts', 'Bwd IAT Max', 'Fwd Pkts/s', 'Fwd Pkts/b Avg', 'Fwd Pkt Len Min', 'Bwd Pkt Len Max'], 'Adv sample 535': ['Bwd IAT Min', 'Bwd IAT Mean', 'Init Bwd Win Byts', 'Fwd IAT Mean', 'Fwd Pkts/b Avg', 'Fwd Blk Rate Avg', 'Pkt Len Max', 'Flow Pkts/s', 'Idle Max', 'Flow Duration'], 'Adv sample 536': ['SYN Flag Cnt', 'Bwd IAT Mean', 'Init Bwd Win Byts', 'Bwd IAT Max', 'Fwd IAT Min', 'Fwd Byts/b Avg', 'Fwd IAT Mean', 'Fwd Pkt Len Mean', 'Bwd IAT Tot', 'Fwd Pkts/s'], 'Adv sample 537': ['ACK Flag Cnt', 'Active Mean', 'Active Max', 'Flow IAT Std', 'Flow IAT Mean', 'Flow Pkts/s', 'Init Bwd Win Byts', 'Idle Mean', 'Bwd Seg Size Avg', 'Pkt Len Max'], 'Adv sample 538': ['SYN Flag Cnt', 'Bwd IAT Mean', 'Init Bwd Win Byts', 'Fwd IAT Min', 'Bwd IAT Max', 'Fwd Byts/b Avg', 'Bwd Pkts/b Avg', 'Tot Fwd Pkts', 'Bwd IAT Tot', 'Fwd Seg Size Avg'], 'Adv sample 539': ['SYN Flag Cnt', 'Bwd IAT Mean', 'Init Bwd Win Byts', 'Fwd IAT Min', 'Bwd IAT Max', 'Bwd Pkt Len Mean', 'Bwd Pkts/s', 'Tot Bwd Pkts', 'Fwd Byts/b Avg', 'Fwd IAT Mean'], 'Adv sample 540': ['Bwd IAT Min', 'Bwd IAT Mean', 'Bwd IAT Max', 'Init Bwd Win Byts', 'Fwd Pkts/b Avg', 'Pkt Len Min', 'Bwd Pkts/s', 'Down/Up Ratio', 'Bwd Pkt Len Mean', 'Bwd Pkt Len Min'], 'Adv sample 541': ['Bwd IAT Mean', 'Bwd IAT Min', 'Init Bwd Win Byts', 'Bwd Pkt Len Mean', 'Fwd Blk Rate Avg', 'Fwd Pkts/b Avg', 'Bwd Header Len', 'Pkt Len Std', 'Idle Mean', 'Down/Up Ratio'], 'Adv sample 542': ['Bwd IAT Min', 'Bwd IAT Mean', 'Bwd IAT Max', 'Init Bwd Win Byts', 'Fwd Pkts/b Avg', 'Fwd IAT Mean', 'Down/Up Ratio', 'Bwd Pkts/s', 'Bwd Pkt Len Mean', 'Pkt Len Std'], 'Adv sample 543': ['Bwd IAT Min', 'Bwd IAT Mean', 'Bwd IAT Max', 'Init Bwd Win Byts', 'Bwd Pkts/s', 'Fwd Blk Rate Avg', 'Fwd Pkts/b Avg', 'Flow Pkts/s', 'Pkt Len Min', 'Idle Max'], 'Adv sample 544': ['ACK Flag Cnt', 'Bwd IAT Min', 'Bwd IAT Mean', 'Bwd IAT Max', 'Init Bwd Win Byts', 'Fwd IAT Mean', 'Flow Pkts/s', 'Bwd Pkts/s', 'Fwd Pkts/b Avg', 'Fwd Pkts/s'], 'Adv sample 545': ['SYN Flag Cnt', 'Bwd IAT Mean', 'Fwd IAT Min', 'Init Bwd Win Byts', 'Bwd IAT Max', 'Fwd Byts/b Avg', 'Bwd Pkts/b Avg', 'Bwd Pkts/s', 'Fwd Pkt Len Max', 'Subflow Bwd Pkts'], 'Adv sample 546': ['Bwd IAT Min', 'Bwd IAT Mean', 'Bwd IAT Max', 'Init Bwd Win Byts', 'Bwd Pkts/s', 'Fwd Pkts/b Avg', 'Down/Up Ratio', 'Flow Pkts/s', 'Pkt Len Std', 'Subflow Bwd Byts'], 'Adv sample 547': ['Bwd IAT Min', 'Bwd IAT Mean', 'Fwd Pkts/b Avg', 'Fwd IAT Mean', 'Init Bwd Win Byts', 'Down/Up Ratio', 'Flow Pkts/s', 'Pkt Len Min', 'Bwd Pkt Len Mean', 'Tot Bwd Pkts'], 'Adv sample 548': ['Bwd IAT Mean', 'Bwd IAT Min', 'Init Bwd Win Byts', 'Fwd Blk Rate Avg', 'Fwd Pkts/b Avg', 'Down/Up Ratio', 'Pkt Len Mean', 'Active Min', 'Pkt Len Max', 'Tot Bwd Pkts'], 'Adv sample 549': ['Bwd IAT Mean', 'Bwd IAT Min', 'Init Bwd Win Byts', 'Down/Up Ratio', 'Fwd Pkts/b Avg', 'Fwd Blk Rate Avg', 'Fwd Pkt Len Min', 'Pkt Len Var', 'Bwd Pkt Len Mean', 'Fwd Pkt Len Std'], 'Adv sample 550': ['ACK Flag Cnt', 'Active Mean', 'Active Max', 'Flow IAT Std', 'Flow IAT Mean', 'Init Bwd Win Byts', 'Flow Pkts/s', 'Flow Byts/s', 'Flow IAT Min', 'Fwd Act Data Pkts'], 'Adv sample 551': ['ACK Flag Cnt', 'Active Mean', 'Active Max', 'Flow IAT Std', 'Flow IAT Mean', 'Flow Pkts/s', 'Pkt Size Avg', 'Fwd IAT Mean', 'Init Bwd Win Byts', 'Bwd Pkt Len Std'], 'Adv sample 552': ['Bwd IAT Min', 'Bwd IAT Mean', 'Init Bwd Win Byts', 'Fwd Pkts/b Avg', 'Down/Up Ratio', 'Fwd Blk Rate Avg', 'Fwd IAT Mean', 'Flow Pkts/s', 'Pkt Size Avg', 'Pkt Len Max'], 'Adv sample 553': ['Bwd Pkts/s', 'Init Bwd Win Byts', 'Fwd IAT Min', 'Bwd Header Len', 'Flow Byts/s', 'Flow Duration', 'Tot Fwd Pkts', 'TotLen Fwd Pkts', 'TotLen Bwd Pkts', 'Fwd Pkt Len Max'], 'Adv sample 554': ['Bwd IAT Min', 'Bwd IAT Mean', 'Init Bwd Win Byts', 'Fwd IAT Mean', 'Fwd Pkts/b Avg', 'Flow Pkts/s', 'Fwd Blk Rate Avg', 'Pkt Len Max', 'Pkt Len Min', 'Bwd Pkt Len Mean'], 'Adv sample 555': ['Bwd IAT Min', 'Bwd IAT Mean', 'Bwd IAT Max', 'Init Bwd Win Byts', 'Bwd Pkts/s', 'Fwd Pkts/b Avg', 'Fwd Blk Rate Avg', 'Fwd Act Data Pkts', 'Down/Up Ratio', 'Pkt Len Mean'], 'Adv sample 556': ['ACK Flag Cnt', 'Bwd IAT Min', 'Bwd IAT Max', 'Bwd IAT Mean', 'Init Bwd Win Byts', 'Flow Pkts/s', 'Bwd Pkts/s', 'Pkt Size Avg', 'Fwd IAT Mean', 'Fwd Pkts/b Avg'], 'Adv sample 557': ['ACK Flag Cnt', 'Bwd IAT Min', 'Bwd IAT Mean', 'Bwd IAT Max', 'Init Bwd Win Byts', 'Bwd Pkts/s', 'Flow Pkts/s', 'Fwd Pkts/b Avg', 'Fwd IAT Mean', 'Pkt Len Mean'], 'Adv sample 558': ['ACK Flag Cnt', 'Bwd IAT Mean', 'Bwd IAT Min', 'Bwd IAT Max', 'Init Bwd Win Byts', 'Bwd Pkts/s', 'Flow Pkts/s', 'Fwd Pkts/b Avg', 'Fwd IAT Mean', 'Pkt Len Min'], 'Adv sample 559': ['ACK Flag Cnt', 'Bwd IAT Min', 'Bwd IAT Mean', 'Bwd IAT Max', 'Bwd Pkts/s', 'Init Bwd Win Byts', 'Flow Pkts/s', 'Fwd IAT Mean', 'Bwd PSH Flags', 'Fwd Pkts/b Avg'], 'Adv sample 560': ['SYN Flag Cnt', 'Bwd IAT Mean', 'Init Bwd Win Byts', 'Fwd IAT Min', 'Bwd IAT Max', 'Bwd Pkts/b Avg', 'Fwd Byts/b Avg', 'Fwd IAT Mean', 'Fwd Pkt Len Std', 'Bwd IAT Tot'], 'Adv sample 561': ['ACK Flag Cnt', 'Bwd IAT Min', 'Fwd IAT Mean', 'Idle Max', 'Init Bwd Win Byts', 'Pkt Len Max', 'Fwd Header Len', 'Fwd Pkt Len Max', 'Pkt Len Var', 'Fwd Pkt Len Mean'], 'Adv sample 562': ['Bwd Pkts/s', 'Init Bwd Win Byts', 'Fwd Pkt Len Std', 'Fwd IAT Min', 'Pkt Len Max', 'Idle Min', 'Flow Duration', 'Tot Fwd Pkts', 'Tot Bwd Pkts', 'TotLen Fwd Pkts'], 'Adv sample 563': ['Bwd IAT Min', 'Bwd IAT Mean', 'Bwd IAT Max', 'Init Bwd Win Byts', 'Fwd Pkts/b Avg', 'Fwd IAT Mean', 'Fwd Pkt Len Std', 'Down/Up Ratio', 'Flow Pkts/s', 'TotLen Fwd Pkts'], 'Adv sample 564': ['ACK Flag Cnt', 'Idle Std', 'Init Bwd Win Byts', 'Down/Up Ratio', 'Bwd IAT Tot', 'Fwd IAT Tot', 'Flow Duration', 'Bwd Byts/b Avg', 'Bwd Pkts/b Avg', 'Bwd Pkt Len Min'], 'Adv sample 565': ['Bwd IAT Std', 'Fwd IAT Min', 'Init Bwd Win Byts', 'Fwd Pkt Len Std', 'Pkt Len Max', 'Down/Up Ratio', 'Bwd Pkt Len Std', 'Bwd Pkts/b Avg', 'Fwd Act Data Pkts', 'Fwd Seg Size Avg'], 'Adv sample 566': ['SYN Flag Cnt', 'Bwd IAT Mean', 'Init Bwd Win Byts', 'Fwd IAT Min', 'Bwd IAT Max', 'Bwd Pkt Len Std', 'Pkt Len Min', 'Bwd Pkts/b Avg', 'Bwd Pkts/s', 'Fwd Act Data Pkts'], 'Adv sample 567': ['SYN Flag Cnt', 'Bwd IAT Mean', 'Fwd IAT Min', 'Fwd Byts/b Avg', 'Bwd Pkts/b Avg', 'Init Bwd Win Byts', 'Fwd Header Len', 'Fwd Seg Size Avg', 'Subflow Bwd Byts', 'Subflow Fwd Pkts'], 'Adv sample 568': ['ACK Flag Cnt', 'Active Mean', 'Active Max', 'Flow IAT Std', 'Flow IAT Mean', 'Init Bwd Win Byts', 'Subflow Bwd Byts', 'PSH Flag Cnt', 'Bwd Seg Size Avg', 'Pkt Len Var'], 'Adv sample 569': ['SYN Flag Cnt', 'Bwd IAT Mean', 'Init Bwd Win Byts', 'Fwd IAT Min', 'Bwd IAT Max', 'Fwd Byts/b Avg', 'Fwd Seg Size Avg', 'Pkt Size Avg', 'Bwd Pkts/s', 'Bwd IAT Tot'], 'Adv sample 570': ['SYN Flag Cnt', 'Bwd IAT Mean', 'Init Bwd Win Byts', 'Fwd IAT Min', 'Bwd IAT Max', 'Fwd Byts/b Avg', 'Bwd IAT Std', 'Active Std', 'Bwd Pkts/s', 'Bwd Seg Size Avg'], 'Adv sample 571': ['ACK Flag Cnt', 'Active Mean', 'Active Max', 'Flow IAT Std', 'Flow IAT Mean', 'Init Bwd Win Byts', 'Bwd Pkt Len Std', 'Subflow Fwd Pkts', 'Fwd IAT Mean', 'Bwd Pkt Len Mean'], 'Adv sample 572': ['Bwd IAT Mean', 'Bwd IAT Min', 'Init Bwd Win Byts', 'Fwd Blk Rate Avg', 'Fwd Pkts/b Avg', 'Bwd Seg Size Avg', 'Active Std', 'Flow IAT Min', 'Flow IAT Std', 'Fwd Pkt Len Std'], 'Adv sample 573': ['SYN Flag Cnt', 'Bwd IAT Mean', 'Fwd IAT Min', 'Bwd IAT Max', 'Fwd Byts/b Avg', 'Init Bwd Win Byts', 'Fwd IAT Mean', 'Fwd Pkts/b Avg', 'Bwd IAT Tot', 'Pkt Size Avg'], 'Adv sample 574': ['Bwd IAT Min', 'Bwd IAT Mean', 'Bwd IAT Max', 'Bwd Pkts/s', 'Init Bwd Win Byts', 'Fwd Pkts/b Avg', 'Fwd Blk Rate Avg', 'Flow Pkts/s', 'Tot Bwd Pkts', 'Down/Up Ratio'], 'Adv sample 575': ['Bwd IAT Min', 'Bwd IAT Mean', 'Init Bwd Win Byts', 'Fwd Blk Rate Avg', 'Fwd Pkts/b Avg', 'Flow Pkts/s', 'Fwd IAT Mean', 'Pkt Len Min', 'Down/Up Ratio', 'Subflow Bwd Pkts'], 'Adv sample 576': ['ACK Flag Cnt', 'Bwd IAT Min', 'Bwd IAT Mean', 'Bwd IAT Max', 'Bwd Pkts/s', 'Init Bwd Win Byts', 'Fwd IAT Mean', 'PSH Flag Cnt', 'Flow Pkts/s', 'Active Min'], 'Adv sample 577': ['SYN Flag Cnt', 'Bwd IAT Mean', 'Init Bwd Win Byts', 'Fwd IAT Min', 'Bwd IAT Max', 'Fwd Byts/b Avg', 'Bwd Pkts/s', 'Fwd Header Len', 'Tot Bwd Pkts', 'Bwd IAT Tot'], 'Adv sample 578': ['ACK Flag Cnt', 'Idle Std', 'Init Bwd Win Byts', 'Down/Up Ratio', 'Bwd IAT Tot', 'Bwd Byts/b Avg', 'Pkt Len Max', 'PSH Flag Cnt', 'Idle Mean', 'Flow Duration'], 'Adv sample 579': ['ACK Flag Cnt', 'Bwd IAT Min', 'Bwd IAT Mean', 'Bwd IAT Max', 'Init Bwd Win Byts', 'Bwd Pkts/s', 'Fwd IAT Mean', 'Flow Pkts/s', 'Bwd Pkt Len Max', 'Down/Up Ratio'], 'Adv sample 580': ['Bwd IAT Min', 'Bwd IAT Mean', 'Fwd Pkts/b Avg', 'Fwd IAT Mean', 'Init Bwd Win Byts', 'Fwd Blk Rate Avg', 'Down/Up Ratio', 'Pkt Len Max', 'Pkt Len Std', 'Flow Pkts/s'], 'Adv sample 581': ['Bwd IAT Min', 'Bwd IAT Max', 'Bwd IAT Mean', 'Init Bwd Win Byts', 'Idle Min', 'Fwd Pkts/b Avg', 'Fwd IAT Mean', 'Flow Pkts/s', 'Bwd PSH Flags', 'Bwd Pkt Len Max'], 'Adv sample 582': ['SYN Flag Cnt', 'Bwd IAT Mean', 'Init Bwd Win Byts', 'Fwd IAT Min', 'Bwd IAT Max', 'Fwd Byts/b Avg', 'Bwd Pkts/s', 'Pkt Len Min', 'Pkt Len Var', 'Pkt Size Avg'], 'Adv sample 583': ['ACK Flag Cnt', 'Active Mean', 'Active Max', 'Flow IAT Std', 'Init Bwd Win Byts', 'Bwd Pkt Len Max', 'Bwd IAT Min', 'Pkt Size Avg', 'Bwd Pkt Len Min', 'Fwd Seg Size Avg'], 'Adv sample 584': ['Bwd IAT Min', 'Bwd IAT Mean', 'Bwd IAT Max', 'Init Bwd Win Byts', 'Bwd Pkts/s', 'Down/Up Ratio', 'Flow Pkts/s', 'Pkt Len Mean', 'Fwd Pkts/b Avg', 'Pkt Len Min'], 'Adv sample 585': ['ACK Flag Cnt', 'Idle Std', 'Init Bwd Win Byts', 'Down/Up Ratio', 'Bwd IAT Tot', 'Bwd Pkts/b Avg', 'Bwd Byts/b Avg', 'Bwd PSH Flags', 'Pkt Len Min', 'Pkt Len Max'], 'Adv sample 586': ['ACK Flag Cnt', 'Active Mean', 'Active Max', 'Flow IAT Std', 'Flow IAT Mean', 'Init Bwd Win Byts', 'Pkt Size Avg', 'Bwd Pkt Len Std', 'Bwd IAT Mean', 'PSH Flag Cnt'], 'Adv sample 587': ['ACK Flag Cnt', 'Active Mean', 'Active Max', 'Flow IAT Std', 'Init Bwd Win Byts', 'Pkt Len Std', 'Flow IAT Mean', 'Bwd Pkt Len Min', 'Fwd Pkt Len Min', 'Pkt Len Min'], 'Adv sample 588': ['SYN Flag Cnt', 'Bwd IAT Mean', 'Fwd IAT Min', 'Fwd Byts/b Avg', 'Bwd IAT Max', 'Bwd Header Len', 'Init Bwd Win Byts', 'Bwd Seg Size Avg', 'Fwd Act Data Pkts', 'Pkt Len Min'], 'Adv sample 589': ['SYN Flag Cnt', 'Bwd IAT Mean', 'Init Bwd Win Byts', 'Fwd IAT Min', 'Bwd IAT Max', 'Bwd Pkts/b Avg', 'Fwd IAT Mean', 'Fwd Byts/b Avg', 'Bwd Pkts/s', 'Bwd PSH Flags'], 'Adv sample 590': ['SYN Flag Cnt', 'Bwd IAT Mean', 'Fwd IAT Min', 'Bwd Pkts/b Avg', 'Fwd Byts/b Avg', 'TotLen Bwd Pkts', 'Init Bwd Win Byts', 'Bwd Pkt Len Min', 'Subflow Fwd Pkts', 'Flow Duration'], 'Adv sample 591': ['SYN Flag Cnt', 'Bwd IAT Mean', 'Fwd Byts/b Avg', 'Fwd IAT Min', 'Bwd IAT Max', 'Fwd Pkts/b Avg', 'Bwd Pkt Len Std', 'Init Bwd Win Byts', 'TotLen Bwd Pkts', 'Pkt Len Min'], 'Adv sample 592': ['SYN Flag Cnt', 'Bwd IAT Mean', 'Fwd IAT Min', 'Init Bwd Win Byts', 'Bwd IAT Max', 'Fwd Byts/b Avg', 'Bwd IAT Tot', 'Flow IAT Min', 'Bwd Pkt Len Min', 'Bwd Pkt Len Mean'], 'Adv sample 593': ['SYN Flag Cnt', 'Bwd IAT Mean', 'Fwd IAT Min', 'Fwd Byts/b Avg', 'Fwd Pkts/b Avg', 'Fwd IAT Mean', 'Bwd IAT Max', 'Init Bwd Win Byts', 'Pkt Len Var', 'Pkt Size Avg'], 'Adv sample 594': ['Bwd IAT Min', 'Bwd IAT Mean', 'Bwd IAT Max', 'Init Bwd Win Byts', 'Bwd Pkts/s', 'Flow Pkts/s', 'Fwd Pkts/b Avg', 'Down/Up Ratio', 'Subflow Bwd Pkts', 'Pkt Size Avg'], 'Adv sample 595': ['SYN Flag Cnt', 'Bwd IAT Mean', 'Init Bwd Win Byts', 'Bwd IAT Max', 'Fwd IAT Min', 'Bwd Pkts/b Avg', 'Fwd Byts/b Avg', 'Pkt Size Avg', 'Pkt Len Max', 'Fwd IAT Mean'], 'Adv sample 596': ['ACK Flag Cnt', 'Bwd IAT Min', 'Bwd IAT Mean', 'Bwd IAT Max', 'Init Bwd Win Byts', 'Bwd Pkts/s', 'Flow Pkts/s', 'Fwd IAT Mean', 'Flow Byts/s', 'Pkt Len Std'], 'Adv sample 597': ['Bwd IAT Min', 'Bwd IAT Mean', 'Init Bwd Win Byts', 'Fwd IAT Mean', 'Fwd Pkts/b Avg', 'Flow Pkts/s', 'Pkt Len Max', 'Down/Up Ratio', 'Bwd Pkt Len Mean', 'Pkt Len Std'], 'Adv sample 598': ['Bwd IAT Min', 'Bwd IAT Mean', 'Bwd IAT Max', 'Fwd Pkts/b Avg', 'Fwd Blk Rate Avg', 'Flow Pkts/s', 'Bwd Pkts/s', 'Down/Up Ratio', 'Init Bwd Win Byts', 'Pkt Len Mean'], 'Adv sample 599': ['URG Flag Cnt', 'FIN Flag Cnt', 'Fwd IAT Mean', 'Bwd URG Flags', 'Idle Min', 'Init Bwd Win Byts', 'Pkt Len Max', 'Down/Up Ratio', 'Fwd Pkt Len Std', 'Bwd Pkt Len Mean'], 'Adv sample 600': ['ACK Flag Cnt', 'Active Mean', 'Active Max', 'Flow IAT Std', 'Init Bwd Win Byts', 'Flow IAT Mean', 'Idle Mean', 'TotLen Fwd Pkts', 'Fwd Pkt Len Mean', 'Bwd Header Len'], 'Adv sample 601': ['Bwd IAT Min', 'Bwd IAT Mean', 'Bwd IAT Max', 'Init Bwd Win Byts', 'Fwd Pkts/b Avg', 'Bwd Pkts/s', 'Flow IAT Max', 'Fwd IAT Mean', 'Fwd Seg Size Avg', 'Flow Pkts/s'], 'Adv sample 602': ['Bwd Pkts/s', 'Init Bwd Win Byts', 'Pkt Len Std', 'Fwd IAT Min', 'TotLen Fwd Pkts', 'Idle Mean', 'Fwd Act Data Pkts', 'Pkt Len Min', 'Active Max', 'Bwd IAT Tot'], 'Adv sample 603': ['SYN Flag Cnt', 'Bwd IAT Mean', 'Fwd Byts/b Avg', 'Fwd IAT Min', 'Bwd IAT Max', 'Init Bwd Win Byts', 'Bwd Header Len', 'Bwd IAT Std', 'Bwd IAT Tot', 'Subflow Fwd Pkts'], 'Adv sample 604': ['Bwd IAT Mean', 'Bwd IAT Min', 'Init Bwd Win Byts', 'Down/Up Ratio', 'Fwd Pkts/b Avg', 'Fwd Act Data Pkts', 'Pkt Len Min', 'Fwd Pkt Len Std', 'Bwd Pkt Len Std', 'Flow IAT Min'], 'Adv sample 605': ['Bwd IAT Min', 'Bwd IAT Mean', 'Bwd IAT Max', 'Init Bwd Win Byts', 'Bwd Pkts/s', 'Fwd Pkts/b Avg', 'Pkt Len Std', 'Pkt Len Mean', 'Flow Pkts/s', 'Fwd IAT Mean'], 'Adv sample 606': ['SYN Flag Cnt', 'Fwd IAT Min', 'Init Bwd Win Byts', 'Fwd IAT Mean', 'Fwd Byts/b Avg', 'Flow Pkts/s', 'Bwd Pkts/s', 'Active Mean', 'Fwd Pkt Len Min', 'Fwd Header Len'], 'Adv sample 607': ['SYN Flag Cnt', 'Bwd IAT Mean', 'Fwd IAT Min', 'Fwd Byts/b Avg', 'Fwd Pkts/b Avg', 'Fwd IAT Mean', 'Down/Up Ratio', 'Bwd IAT Max', 'Bwd IAT Tot', 'Pkt Size Avg'], 'Adv sample 608': ['Bwd IAT Min', 'Bwd IAT Mean', 'Bwd IAT Max', 'Init Bwd Win Byts', 'Fwd Pkts/b Avg', 'Fwd Blk Rate Avg', 'Idle Mean', 'Bwd Pkts/s', 'Idle Std', 'Pkt Len Mean'], 'Adv sample 609': ['SYN Flag Cnt', 'Bwd IAT Mean', 'Init Bwd Win Byts', 'Fwd IAT Min', 'Bwd IAT Max', 'Fwd Byts/b Avg', 'Fwd IAT Mean', 'Active Min', 'Bwd Pkts/b Avg', 'Pkt Len Max'], 'Adv sample 610': ['Bwd IAT Min', 'Bwd IAT Mean', 'Bwd IAT Max', 'Init Bwd Win Byts', 'Fwd Pkts/b Avg', 'Pkt Len Min', 'Bwd Pkts/s', 'Down/Up Ratio', 'Bwd Pkt Len Min', 'Bwd IAT Std'], 'Adv sample 611': ['SYN Flag Cnt', 'Bwd IAT Mean', 'Fwd IAT Min', 'Init Bwd Win Byts', 'Fwd Byts/b Avg', 'Bwd IAT Max', 'Bwd Pkts/s', 'Fwd IAT Mean', 'Fwd Pkt Len Max', 'Pkt Len Var'], 'Adv sample 612': ['Bwd IAT Min', 'Bwd IAT Mean', 'Bwd IAT Max', 'Init Bwd Win Byts', 'Fwd Pkts/b Avg', 'Flow Pkts/s', 'Idle Min', 'Down/Up Ratio', 'Pkt Len Std', 'Fwd IAT Mean'], 'Adv sample 613': ['Bwd IAT Min', 'Bwd IAT Mean', 'Bwd IAT Max', 'Init Bwd Win Byts', 'Fwd Pkts/b Avg', 'Flow IAT Max', 'Bwd Pkts/s', 'Down/Up Ratio', 'Pkt Len Std', 'Pkt Len Mean'], 'Adv sample 614': ['Bwd Pkts/s', 'Fwd IAT Min', 'Init Bwd Win Byts', 'Pkt Len Mean', 'Bwd IAT Tot', 'Subflow Bwd Pkts', 'Pkt Size Avg', 'Flow Duration', 'Fwd Header Len', 'Flow IAT Max'], 'Adv sample 615': ['Bwd IAT Min', 'Bwd IAT Mean', 'Bwd IAT Max', 'Init Bwd Win Byts', 'Fwd IAT Mean', 'Fwd Pkts/b Avg', 'Pkt Len Min', 'Down/Up Ratio', 'Flow Pkts/s', 'PSH Flag Cnt'], 'Adv sample 616': ['SYN Flag Cnt', 'Bwd IAT Mean', 'Fwd IAT Min', 'Fwd Byts/b Avg', 'Fwd Pkts/b Avg', 'Init Bwd Win Byts', 'Fwd IAT Mean', 'Down/Up Ratio', 'Bwd IAT Max', 'Pkt Size Avg'], 'Adv sample 617': ['Bwd IAT Mean', 'Bwd IAT Min', 'Fwd Pkts/b Avg', 'Init Bwd Win Byts', 'Down/Up Ratio', 'Fwd Blk Rate Avg', 'Active Min', 'Active Std', 'Fwd Pkt Len Mean', 'Pkt Size Avg'], 'Adv sample 618': ['ACK Flag Cnt', 'Active Mean', 'Flow IAT Std', 'Active Max', 'Init Bwd Win Byts', 'Flow IAT Mean', 'Subflow Bwd Pkts', 'Bwd Seg Size Avg', 'Fwd Pkt Len Max', 'Pkt Len Min'], 'Adv sample 619': ['Bwd IAT Min', 'Bwd IAT Mean', 'Bwd IAT Max', 'Init Bwd Win Byts', 'Fwd Pkts/b Avg', 'Flow Pkts/s', 'Fwd Blk Rate Avg', 'Fwd Seg Size Avg', 'Pkt Len Min', 'Fwd IAT Mean'], 'Adv sample 620': ['Bwd IAT Min', 'Bwd IAT Mean', 'Init Bwd Win Byts', 'Fwd Blk Rate Avg', 'Fwd Pkts/b Avg', 'Flow Pkts/s', 'Fwd IAT Mean', 'Down/Up Ratio', 'PSH Flag Cnt', 'Fwd Pkt Len Max'], 'Adv sample 621': ['Bwd IAT Min', 'Bwd IAT Mean', 'Bwd IAT Max', 'Init Bwd Win Byts', 'Fwd Pkts/b Avg', 'Pkt Len Max', 'Bwd Pkts/s', 'Fwd IAT Mean', 'Fwd Header Len', 'Pkt Len Std'], 'Adv sample 622': ['SYN Flag Cnt', 'Bwd IAT Mean', 'Fwd IAT Min', 'Fwd Byts/b Avg', 'Pkt Len Min', 'Bwd Pkts/b Avg', 'Init Bwd Win Byts', 'Fwd Pkts/b Avg', 'Bwd PSH Flags', 'Fwd Pkts/s'], 'Adv sample 623': ['ACK Flag Cnt', 'Bwd IAT Min', 'Bwd IAT Mean', 'Bwd IAT Max', 'Init Bwd Win Byts', 'Bwd Pkts/s', 'Flow Pkts/s', 'Fwd IAT Mean', 'Fwd Pkt Len Max', 'Down/Up Ratio'], 'Adv sample 624': ['Bwd IAT Min', 'Bwd IAT Mean', 'Bwd IAT Max', 'Fwd Pkts/b Avg', 'Init Bwd Win Byts', 'Down/Up Ratio', 'Flow Pkts/s', 'Pkt Len Min', 'Fwd Header Len', 'Fwd Pkts/s'], 'Adv sample 625': ['ACK Flag Cnt', 'Idle Std', 'Init Bwd Win Byts', 'Down/Up Ratio', 'Bwd IAT Tot', 'Bwd Byts/b Avg', 'Pkt Len Min', 'Flow Duration', 'Flow IAT Min', 'Pkt Size Avg'], 'Adv sample 626': ['Bwd IAT Min', 'Bwd IAT Mean', 'Init Bwd Win Byts', 'Fwd Pkts/b Avg', 'Fwd IAT Mean', 'Fwd Blk Rate Avg', 'Down/Up Ratio', 'Flow Pkts/s', 'Active Mean', 'Idle Max'], 'Adv sample 627': ['URG Flag Cnt', 'FIN Flag Cnt', 'Bwd URG Flags', 'Fwd IAT Mean', 'Idle Min', 'Init Bwd Win Byts', 'Pkt Size Avg', 'TotLen Bwd Pkts', 'Pkt Len Std', 'Pkt Len Max'], 'Adv sample 628': ['Bwd IAT Min', 'Bwd IAT Mean', 'Bwd IAT Max', 'Init Bwd Win Byts', 'Fwd Pkts/b Avg', 'PSH Flag Cnt', 'Down/Up Ratio', 'Fwd Blk Rate Avg', 'Pkt Len Var', 'Bwd Pkt Len Mean'], 'Adv sample 629': ['SYN Flag Cnt', 'Bwd IAT Mean', 'Fwd IAT Min', 'Fwd Byts/b Avg', 'Init Bwd Win Byts', 'Pkt Size Avg', 'Fwd Pkt Len Max', 'Down/Up Ratio', 'Bwd IAT Std', 'Pkt Len Min'], 'Adv sample 630': ['Bwd IAT Mean', 'Bwd IAT Min', 'Init Bwd Win Byts', 'Fwd Pkts/b Avg', 'Down/Up Ratio', 'Fwd Blk Rate Avg', 'PSH Flag Cnt', 'Bwd Pkt Len Std', 'Pkt Len Mean', 'Pkt Size Avg'], 'Adv sample 631': ['SYN Flag Cnt', 'Bwd IAT Mean', 'Fwd Byts/b Avg', 'Fwd IAT Min', 'Bwd Pkts/b Avg', 'Init Bwd Win Byts', 'Flow Pkts/s', 'Subflow Bwd Pkts', 'Fwd Pkt Len Mean', 'Flow Duration'], 'Adv sample 632': ['Bwd Pkts/s', 'Init Bwd Win Byts', 'Down/Up Ratio', 'Pkt Len Min', 'Active Max', 'Bwd Pkt Len Max', 'Idle Max', 'Bwd Pkt Len Min', 'Fwd Act Data Pkts', 'Flow Duration'], 'Adv sample 633': ['ACK Flag Cnt', 'Bwd IAT Min', 'Fwd IAT Mean', 'Idle Max', 'Init Bwd Win Byts', 'Subflow Bwd Pkts', 'Pkt Len Mean', 'Pkt Len Min', 'Subflow Bwd Byts', 'Fwd Pkt Len Max'], 'Adv sample 634': ['Bwd IAT Mean', 'Bwd IAT Min', 'Init Bwd Win Byts', 'Fwd Pkts/b Avg', 'Down/Up Ratio', 'Pkt Len Var', 'Fwd Pkt Len Max', 'Fwd Blk Rate Avg', 'Flow IAT Std', 'Flow IAT Min'], 'Adv sample 635': ['ACK Flag Cnt', 'Idle Std', 'Init Bwd Win Byts', 'Bwd IAT Tot', 'Down/Up Ratio', 'Bwd Byts/b Avg', 'Pkt Len Min', 'Bwd Pkts/b Avg', 'Pkt Len Std', 'Flow Duration'], 'Adv sample 636': ['SYN Flag Cnt', 'Bwd IAT Mean', 'Fwd IAT Min', 'Fwd Byts/b Avg', 'Bwd Pkts/b Avg', 'Init Bwd Win Byts', 'Subflow Bwd Pkts', 'Fwd Pkts/b Avg', 'Fwd IAT Mean', 'Bwd PSH Flags'], 'Adv sample 637': ['SYN Flag Cnt', 'Bwd IAT Mean', 'Fwd IAT Min', 'Init Bwd Win Byts', 'Bwd IAT Max', 'Fwd IAT Mean', 'Bwd Pkts/s', 'Bwd Pkts/b Avg', 'Tot Fwd Pkts', 'Fwd Pkts/s'], 'Adv sample 638': ['Bwd IAT Min', 'Bwd IAT Mean', 'Bwd IAT Max', 'Init Bwd Win Byts', 'Fwd Pkts/b Avg', 'Bwd Pkts/s', 'Flow Pkts/s', 'Fwd IAT Mean', 'Down/Up Ratio', 'Bwd Seg Size Avg'], 'Adv sample 639': ['Bwd IAT Mean', 'Bwd IAT Min', 'Fwd Pkts/b Avg', 'Init Bwd Win Byts', 'Down/Up Ratio', 'Fwd Blk Rate Avg', 'Pkt Len Min', 'Fwd Seg Size Avg', 'Idle Mean', 'Pkt Len Max'], 'Adv sample 640': ['ACK Flag Cnt', 'Bwd IAT Min', 'Fwd IAT Mean', 'Idle Max', 'Init Bwd Win Byts', 'Bwd Header Len', 'Flow Duration', 'Pkt Len Mean', 'Fwd Pkt Len Std', 'Fwd IAT Min'], 'Adv sample 641': ['SYN Flag Cnt', 'Bwd IAT Mean', 'Init Bwd Win Byts', 'Fwd IAT Min', 'Fwd Byts/b Avg', 'Bwd IAT Max', 'Fwd IAT Mean', 'Bwd Seg Size Avg', 'Bwd Pkt Len Max', 'Flow Pkts/s'], 'Adv sample 642': ['SYN Flag Cnt', 'Bwd IAT Mean', 'Fwd IAT Min', 'Fwd Byts/b Avg', 'Init Bwd Win Byts', 'Bwd Seg Size Avg', 'Bwd IAT Max', 'Fwd Pkts/b Avg', 'Pkt Len Min', 'Fwd Pkt Len Min'], 'Adv sample 643': ['SYN Flag Cnt', 'Bwd IAT Mean', 'Fwd IAT Min', 'Fwd Byts/b Avg', 'Fwd Pkts/b Avg', 'Bwd IAT Max', 'Fwd IAT Mean', 'Bwd IAT Min', 'Active Min', 'Bwd Pkt Len Std'], 'Adv sample 644': ['Bwd IAT Mean', 'Bwd IAT Min', 'Init Bwd Win Byts', 'Fwd Pkts/b Avg', 'Tot Fwd Pkts', 'Down/Up Ratio', 'Pkt Len Max', 'Bwd Header Len', 'Active Std', 'Fwd Blk Rate Avg'], 'Adv sample 645': ['SYN Flag Cnt', 'Bwd IAT Mean', 'Bwd IAT Max', 'Init Bwd Win Byts', 'Fwd IAT Min', 'Fwd IAT Mean', 'Bwd Pkts/s', 'Bwd IAT Tot', 'Fwd Byts/b Avg', 'Pkt Len Mean'], 'Adv sample 646': ['SYN Flag Cnt', 'Bwd IAT Mean', 'Fwd IAT Min', 'Fwd Byts/b Avg', 'Init Bwd Win Byts', 'Bwd IAT Max', 'Fwd IAT Mean', 'Fwd Pkts/b Avg', 'Flow IAT Max', 'Down/Up Ratio'], 'Adv sample 647': ['SYN Flag Cnt', 'Bwd IAT Mean', 'Fwd IAT Min', 'Bwd IAT Max', 'Fwd Byts/b Avg', 'Init Bwd Win Byts', 'Bwd IAT Tot', 'Fwd Seg Size Avg', 'Down/Up Ratio', 'PSH Flag Cnt'], 'Adv sample 648': ['SYN Flag Cnt', 'Bwd IAT Mean', 'Init Bwd Win Byts', 'Fwd IAT Min', 'Bwd IAT Max', 'Fwd Byts/b Avg', 'Bwd Pkts/s', 'Bwd Pkts/b Avg', 'Pkt Len Max', 'Idle Std'], 'Adv sample 649': ['ACK Flag Cnt', 'Active Mean', 'Active Max', 'Flow IAT Std', 'Init Bwd Win Byts', 'Fwd Pkts/s', 'Flow IAT Mean', 'Pkt Len Max', 'Subflow Fwd Byts', 'Fwd Pkt Len Std'], 'Adv sample 650': ['SYN Flag Cnt', 'Bwd IAT Mean', 'Fwd IAT Min', 'Fwd IAT Mean', 'Bwd IAT Max', 'Init Bwd Win Byts', 'Fwd Byts/b Avg', 'Subflow Fwd Pkts', 'Fwd Pkts/b Avg', 'Bwd Pkt Len Mean'], 'Adv sample 651': ['ACK Flag Cnt', 'Idle Std', 'Init Bwd Win Byts', 'Bwd IAT Tot', 'Down/Up Ratio', 'Bwd Byts/b Avg', 'Bwd Pkts/b Avg', 'Fwd IAT Max', 'TotLen Fwd Pkts', 'Flow IAT Max'], 'Adv sample 652': ['ACK Flag Cnt', 'Idle Std', 'Init Bwd Win Byts', 'Down/Up Ratio', 'Bwd IAT Tot', 'Idle Max', 'Bwd Pkts/b Avg', 'Bwd Byts/b Avg', 'Fwd IAT Std', 'Pkt Len Mean'], 'Adv sample 653': ['SYN Flag Cnt', 'Bwd IAT Mean', 'Fwd IAT Min', 'Init Bwd Win Byts', 'Bwd IAT Max', 'Bwd Pkts/b Avg', 'Fwd Byts/b Avg', 'Bwd IAT Tot', 'Fwd Seg Size Avg', 'Fwd IAT Mean'], 'Adv sample 654': ['SYN Flag Cnt', 'Bwd IAT Mean', 'Fwd IAT Min', 'Fwd Byts/b Avg', 'Init Bwd Win Byts', 'Bwd Pkts/s', 'Flow Pkts/s', 'Fwd IAT Mean', 'Bwd Header Len', 'Flow Byts/s'], 'Adv sample 655': ['ACK Flag Cnt', 'Bwd IAT Min', 'Bwd IAT Mean', 'Bwd IAT Max', 'Bwd Pkts/s', 'Init Bwd Win Byts', 'Flow Pkts/s', 'Fwd Pkts/b Avg', 'Fwd IAT Mean', 'Pkt Len Min'], 'Adv sample 656': ['Bwd IAT Min', 'Bwd IAT Mean', 'Bwd IAT Max', 'Init Bwd Win Byts', 'Fwd Pkts/b Avg', 'Bwd Pkts/s', 'Fwd IAT Mean', 'Flow Pkts/s', 'Down/Up Ratio', 'TotLen Fwd Pkts'], 'Adv sample 657': ['ACK Flag Cnt', 'Bwd IAT Min', 'Bwd IAT Max', 'Bwd IAT Mean', 'Init Bwd Win Byts', 'Bwd Pkts/s', 'Flow Pkts/s', 'Fwd IAT Mean', 'Flow IAT Mean', 'Fwd Pkts/b Avg'], 'Adv sample 658': ['Bwd IAT Min', 'Bwd IAT Max', 'Bwd IAT Mean', 'Init Bwd Win Byts', 'Fwd Pkts/b Avg', 'Down/Up Ratio', 'Idle Max', 'Pkt Size Avg', 'Fwd Pkt Len Std', 'Fwd Blk Rate Avg'], 'Adv sample 659': ['SYN Flag Cnt', 'Bwd IAT Mean', 'Fwd IAT Min', 'Init Bwd Win Byts', 'Fwd Byts/b Avg', 'Flow Pkts/s', 'Fwd IAT Mean', 'Bwd Pkts/s', 'Bwd Pkt Len Min', 'Bwd IAT Min'], 'Adv sample 660': ['ACK Flag Cnt', 'Active Mean', 'Active Max', 'Flow IAT Std', 'Flow IAT Mean', 'Init Bwd Win Byts', 'Flow Byts/s', 'Flow Pkts/s', 'Idle Mean', 'Fwd IAT Mean'], 'Adv sample 661': ['Bwd IAT Min', 'Bwd IAT Mean', 'Bwd IAT Max', 'Bwd Pkts/s', 'Init Bwd Win Byts', 'Fwd Pkts/b Avg', 'Down/Up Ratio', 'Pkt Len Mean', 'Flow Pkts/s', 'Fwd Blk Rate Avg'], 'Adv sample 662': ['ACK Flag Cnt', 'Bwd IAT Mean', 'Bwd IAT Min', 'Bwd IAT Max', 'Init Bwd Win Byts', 'Flow Pkts/s', 'Bwd Pkts/s', 'Down/Up Ratio', 'Fwd IAT Mean', 'Flow Duration'], 'Adv sample 663': ['SYN Flag Cnt', 'Bwd IAT Mean', 'Fwd IAT Min', 'Bwd Pkts/b Avg', 'Fwd Byts/b Avg', 'Fwd Pkt Len Mean', 'Tot Fwd Pkts', 'Init Bwd Win Byts', 'Bwd PSH Flags', 'Bwd IAT Min'], 'Adv sample 664': ['ACK Flag Cnt', 'Idle Std', 'Init Bwd Win Byts', 'Bwd IAT Tot', 'Down/Up Ratio', 'Bwd Byts/b Avg', 'Bwd Pkts/b Avg', 'Bwd Pkt Len Mean', 'TotLen Fwd Pkts', 'Idle Max'], 'Adv sample 665': ['Bwd IAT Min', 'Bwd IAT Mean', 'Fwd Pkts/b Avg', 'Init Bwd Win Byts', 'Fwd IAT Mean', 'Flow Pkts/s', 'Fwd Blk Rate Avg', 'Bwd Seg Size Avg', 'Bwd Pkt Len Min', 'Bwd Pkt Len Std'], 'Adv sample 666': ['ACK Flag Cnt', 'Flow IAT Mean', 'Flow IAT Std', 'Active Max', 'Fwd IAT Mean', 'Bwd IAT Min', 'Fwd IAT Min', 'Bwd IAT Max', 'Fwd Pkts/b Avg', 'Pkt Len Max'], 'Adv sample 667': ['ACK Flag Cnt', 'Active Mean', 'Active Max', 'Flow IAT Std', 'Flow IAT Mean', 'Init Bwd Win Byts', 'Fwd IAT Min', 'Bwd Pkt Len Mean', 'Pkt Len Min', 'Bwd PSH Flags'], 'Adv sample 668': ['Bwd IAT Min', 'Bwd IAT Mean', 'Init Bwd Win Byts', 'Fwd Pkts/b Avg', 'Fwd IAT Mean', 'Fwd Blk Rate Avg', 'Flow Pkts/s', 'Down/Up Ratio', 'Flow Duration', 'Bwd Pkt Len Std'], 'Adv sample 669': ['ACK Flag Cnt', 'Idle Std', 'Init Bwd Win Byts', 'Down/Up Ratio', 'Bwd Pkts/b Avg', 'Bwd IAT Tot', 'PSH Flag Cnt', 'Bwd Byts/b Avg', 'Idle Max', 'Fwd IAT Mean'], 'Adv sample 670': ['Bwd IAT Min', 'Bwd IAT Mean', 'Bwd IAT Max', 'Init Bwd Win Byts', 'Bwd Pkts/s', 'Fwd Pkts/b Avg', 'Fwd Blk Rate Avg', 'Bwd Seg Size Avg', 'Pkt Len Std', 'Fwd Seg Size Avg'], 'Adv sample 671': ['Bwd IAT Min', 'Bwd IAT Mean', 'Bwd IAT Max', 'Fwd Pkts/b Avg', 'Init Bwd Win Byts', 'Bwd Pkts/s', 'Pkt Len Std', 'Fwd Pkts/s', 'Fwd Blk Rate Avg', 'Pkt Len Mean'], 'Adv sample 672': ['Bwd IAT Min', 'Bwd IAT Mean', 'Bwd IAT Max', 'Init Bwd Win Byts', 'Bwd Pkts/s', 'Fwd Pkts/b Avg', 'Pkt Len Min', 'Down/Up Ratio', 'Pkt Len Max', 'Fwd IAT Mean'], 'Adv sample 673': ['ACK Flag Cnt', 'Bwd IAT Min', 'Bwd IAT Mean', 'Bwd IAT Max', 'Init Bwd Win Byts', 'Bwd Pkts/s', 'Flow Pkts/s', 'Fwd Pkts/b Avg', 'Fwd IAT Mean', 'Fwd IAT Min'], 'Adv sample 674': ['Bwd IAT Min', 'ACK Flag Cnt', 'Init Bwd Win Byts', 'Flow Pkts/s', 'Active Min', 'Pkt Len Max', 'Fwd Pkt Len Mean', 'Flow Byts/s', 'Idle Std', 'Pkt Len Std'], 'Adv sample 675': ['Bwd IAT Min', 'Bwd IAT Mean', 'Init Bwd Win Byts', 'Fwd Pkts/b Avg', 'Fwd IAT Mean', 'Fwd Blk Rate Avg', 'Subflow Fwd Byts', 'Subflow Fwd Pkts', 'Flow Pkts/s', 'Pkt Size Avg'], 'Adv sample 676': ['Bwd IAT Min', 'Bwd IAT Mean', 'Bwd IAT Max', 'Init Bwd Win Byts', 'Bwd Pkts/s', 'Fwd Pkts/b Avg', 'Down/Up Ratio', 'Idle Mean', 'Flow Pkts/s', 'Flow IAT Max'], 'Adv sample 677': ['Bwd IAT Min', 'Bwd IAT Mean', 'Bwd IAT Max', 'Fwd Pkts/b Avg', 'Init Bwd Win Byts', 'Bwd Pkts/s', 'Flow Pkts/s', 'Idle Min', 'Subflow Bwd Pkts', 'Bwd Header Len'], 'Adv sample 678': ['SYN Flag Cnt', 'Fwd IAT Mean', 'Fwd IAT Min', 'Init Bwd Win Byts', 'Fwd Byts/b Avg', 'Bwd Pkts/s', 'Bwd Pkts/b Avg', 'Flow Pkts/s', 'Bwd Pkt Len Min', 'Idle Std'], 'Adv sample 679': ['Bwd IAT Min', 'Bwd IAT Mean', 'Fwd IAT Mean', 'Init Bwd Win Byts', 'Flow Pkts/s', 'Fwd Blk Rate Avg', 'Fwd Pkts/b Avg', 'Bwd Pkt Len Min', 'Pkt Len Mean', 'Down/Up Ratio'], 'Adv sample 680': ['ACK Flag Cnt', 'Bwd IAT Min', 'Bwd IAT Mean', 'Bwd IAT Max', 'Init Bwd Win Byts', 'Bwd Pkts/s', 'Flow Pkts/s', 'Fwd IAT Mean', 'Fwd Pkts/b Avg', 'Pkt Len Mean'], 'Adv sample 681': ['URG Flag Cnt', 'FIN Flag Cnt', 'Fwd IAT Mean', 'Bwd URG Flags', 'Down/Up Ratio', 'Idle Min', 'Init Bwd Win Byts', 'Bwd IAT Min', 'Pkt Size Avg', 'Fwd Pkt Len Min'], 'Adv sample 682': ['Bwd Pkts/s', 'Init Bwd Win Byts', 'Active Max', 'Subflow Bwd Byts', 'Fwd Pkt Len Std', 'Subflow Fwd Pkts', 'Fwd Seg Size Avg', 'Bwd Pkt Len Min', 'Tot Fwd Pkts', 'Bwd Pkt Len Std'], 'Adv sample 683': ['SYN Flag Cnt', 'Bwd IAT Mean', 'Fwd IAT Min', 'Fwd Byts/b Avg', 'Fwd Pkts/b Avg', 'Init Bwd Win Byts', 'Fwd IAT Mean', 'Bwd IAT Max', 'Down/Up Ratio', 'Bwd Seg Size Avg'], 'Adv sample 684': ['ACK Flag Cnt', 'Idle Std', 'Init Bwd Win Byts', 'Bwd Byts/b Avg', 'Idle Mean', 'Fwd IAT Mean', 'Idle Min', 'Bwd Pkts/b Avg', 'Fwd Seg Size Avg', 'Pkt Len Max'], 'Adv sample 685': ['SYN Flag Cnt', 'Bwd IAT Mean', 'Fwd IAT Min', 'Init Bwd Win Byts', 'Bwd IAT Max', 'Fwd IAT Mean', 'Fwd Byts/b Avg', 'Bwd PSH Flags', 'Bwd Pkt Len Mean', 'Bwd Pkts/s'], 'Adv sample 686': ['ACK Flag Cnt', 'Idle Std', 'Init Bwd Win Byts', 'Bwd IAT Tot', 'Down/Up Ratio', 'Bwd Pkts/b Avg', 'Flow IAT Max', 'Pkt Size Avg', 'Flow IAT Std', 'Pkt Len Mean'], 'Adv sample 687': ['Bwd IAT Min', 'Bwd IAT Mean', 'Init Bwd Win Byts', 'Fwd Pkts/b Avg', 'Fwd Blk Rate Avg', 'Fwd IAT Mean', 'Down/Up Ratio', 'Flow Pkts/s', 'Bwd Pkt Len Std', 'Active Max'], 'Adv sample 688': ['Bwd IAT Mean', 'Bwd IAT Min', 'Init Bwd Win Byts', 'Fwd Pkts/b Avg', 'Fwd Blk Rate Avg', 'Idle Min', 'Pkt Size Avg', 'Pkt Len Std', 'TotLen Fwd Pkts', 'Down/Up Ratio'], 'Adv sample 689': ['Bwd IAT Min', 'Bwd IAT Mean', 'Fwd Pkts/b Avg', 'Init Bwd Win Byts', 'Fwd Blk Rate Avg', 'Fwd IAT Mean', 'Down/Up Ratio', 'Flow Pkts/s', 'Fwd Pkt Len Max', 'Bwd Pkt Len Min'], 'Adv sample 690': ['Bwd Pkts/s', 'Init Bwd Win Byts', 'Fwd Pkt Len Min', 'Fwd IAT Min', 'Pkt Len Mean', 'Subflow Bwd Pkts', 'Active Max', 'Tot Fwd Pkts', 'Fwd Pkt Len Max', 'Subflow Fwd Byts'], 'Adv sample 691': ['SYN Flag Cnt', 'Bwd IAT Mean', 'Fwd Byts/b Avg', 'Bwd Pkts/b Avg', 'Fwd Pkts/b Avg', 'Pkt Len Min', 'Fwd IAT Min', 'Init Bwd Win Byts', 'Bwd IAT Max', 'Fwd IAT Mean'], 'Adv sample 692': ['Bwd IAT Min', 'Bwd IAT Mean', 'Bwd IAT Max', 'Init Bwd Win Byts', 'Fwd Pkts/b Avg', 'Bwd Pkts/s', 'Bwd Pkt Len Min', 'Idle Mean', 'Fwd IAT Mean', 'Flow Pkts/s'], 'Adv sample 693': ['ACK Flag Cnt', 'Bwd IAT Min', 'Bwd IAT Mean', 'Bwd IAT Max', 'Init Bwd Win Byts', 'Flow Pkts/s', 'Bwd Pkts/s', 'Fwd IAT Mean', 'Fwd Pkts/b Avg', 'Fwd Seg Size Avg'], 'Adv sample 694': ['Bwd IAT Min', 'Bwd IAT Mean', 'Bwd IAT Max', 'Init Bwd Win Byts', 'Fwd Pkts/b Avg', 'Bwd Pkts/s', 'Down/Up Ratio', 'Idle Max', 'Pkt Len Max', 'Bwd Pkt Len Mean'], 'Adv sample 695': ['Bwd IAT Min', 'Bwd IAT Mean', 'Init Bwd Win Byts', 'Fwd Pkts/b Avg', 'Down/Up Ratio', 'TotLen Fwd Pkts', 'Fwd Blk Rate Avg', 'Fwd Pkt Len Mean', 'PSH Flag Cnt', 'Bwd Seg Size Avg'], 'Adv sample 696': ['ACK Flag Cnt', 'Bwd IAT Min', 'Bwd IAT Max', 'Bwd IAT Mean', 'Init Bwd Win Byts', 'Flow Pkts/s', 'Fwd IAT Mean', 'Bwd Pkts/s', 'Fwd Pkts/b Avg', 'Subflow Bwd Pkts'], 'Adv sample 697': ['SYN Flag Cnt', 'Bwd IAT Mean', 'Fwd IAT Min', 'Bwd IAT Max', 'Init Bwd Win Byts', 'Fwd Byts/b Avg', 'Bwd Pkts/s', 'Pkt Len Mean', 'Pkt Len Min', 'Flow IAT Min'], 'Adv sample 698': ['Bwd Pkts/s', 'Init Bwd Win Byts', 'Fwd IAT Min', 'Idle Max', 'Pkt Len Var', 'Fwd Pkt Len Min', 'Bwd Pkt Len Std', 'Pkt Len Mean', 'Fwd Pkt Len Max', 'Flow Byts/s'], 'Adv sample 699': ['ACK Flag Cnt', 'Idle Std', 'Init Bwd Win Byts', 'Bwd Pkts/b Avg', 'Down/Up Ratio', 'Bwd Byts/b Avg', 'Bwd IAT Tot', 'Bwd Pkt Len Max', 'Flow Byts/s', 'Bwd Pkt Len Mean'], 'Adv sample 700': ['SYN Flag Cnt', 'Bwd IAT Mean', 'Fwd IAT Min', 'Fwd Byts/b Avg', 'Fwd Pkts/b Avg', 'Bwd Pkts/b Avg', 'Init Bwd Win Byts', 'Fwd IAT Mean', 'Bwd Pkts/s', 'Bwd IAT Max'], 'Adv sample 701': ['ACK Flag Cnt', 'Bwd IAT Min', 'Bwd IAT Mean', 'Bwd IAT Max', 'Init Bwd Win Byts', 'Bwd Pkts/s', 'Flow Pkts/s', 'Fwd IAT Mean', 'Pkt Len Mean', 'Active Mean'], 'Adv sample 702': ['ACK Flag Cnt', 'Bwd IAT Mean', 'Bwd IAT Min', 'Bwd IAT Max', 'Init Bwd Win Byts', 'Bwd Pkts/s', 'Flow Pkts/s', 'Fwd IAT Mean', 'Flow IAT Std', 'Fwd Pkts/b Avg'], 'Adv sample 703': ['Bwd IAT Min', 'Bwd IAT Mean', 'Bwd IAT Max', 'Init Bwd Win Byts', 'Fwd Pkts/b Avg', 'Bwd Pkts/s', 'Down/Up Ratio', 'Bwd Pkt Len Std', 'Active Max', 'Bwd Header Len'], 'Adv sample 704': ['ACK Flag Cnt', 'Bwd IAT Min', 'Bwd IAT Mean', 'Bwd IAT Max', 'Flow Pkts/s', 'Init Bwd Win Byts', 'Bwd Pkts/s', 'Fwd IAT Mean', 'Fwd Pkts/b Avg', 'Down/Up Ratio'], 'Adv sample 705': ['Bwd IAT Min', 'Bwd IAT Mean', 'Init Bwd Win Byts', 'Fwd IAT Mean', 'Fwd Blk Rate Avg', 'Fwd Pkts/b Avg', 'Pkt Len Max', 'Pkt Len Min', 'Flow Pkts/s', 'Fwd Pkt Len Std'], 'Adv sample 706': ['ACK Flag Cnt', 'Bwd IAT Min', 'Bwd IAT Mean', 'Bwd IAT Max', 'Bwd Pkts/s', 'Flow Pkts/s', 'Init Bwd Win Byts', 'Fwd IAT Min', 'Pkt Size Avg', 'Down/Up Ratio'], 'Adv sample 707': ['Bwd Pkts/s', 'Bwd Pkt Len Std', 'Init Bwd Win Byts', 'Pkt Len Var', 'Fwd Act Data Pkts', 'Down/Up Ratio', 'Flow Duration', 'Tot Fwd Pkts', 'Tot Bwd Pkts', 'TotLen Fwd Pkts'], 'Adv sample 708': ['SYN Flag Cnt', 'Bwd IAT Mean', 'Fwd IAT Min', 'Init Bwd Win Byts', 'Bwd IAT Max', 'Pkt Len Min', 'Flow IAT Mean', 'Fwd Byts/b Avg', 'Bwd Pkts/s', 'Flow Pkts/s'], 'Adv sample 709': ['Bwd IAT Min', 'Bwd IAT Mean', 'Bwd IAT Max', 'Init Bwd Win Byts', 'Bwd Pkts/s', 'Fwd Pkts/b Avg', 'Fwd Blk Rate Avg', 'Down/Up Ratio', 'Flow Pkts/s', 'Tot Fwd Pkts'], 'Adv sample 710': ['Bwd IAT Min', 'Bwd IAT Max', 'Bwd IAT Mean', 'Init Bwd Win Byts', 'Fwd Pkts/b Avg', 'Pkt Len Std', 'Down/Up Ratio', 'Idle Max', 'Flow Pkts/s', 'Pkt Len Min'], 'Adv sample 711': ['ACK Flag Cnt', 'Idle Std', 'Init Bwd Win Byts', 'Bwd Pkts/b Avg', 'Bwd IAT Tot', 'Down/Up Ratio', 'Bwd Byts/b Avg', 'Pkt Len Min', 'Active Mean', 'TotLen Bwd Pkts'], 'Adv sample 712': ['ACK Flag Cnt', 'Bwd IAT Min', 'Bwd IAT Mean', 'Bwd IAT Max', 'Bwd Pkts/s', 'Flow Pkts/s', 'Init Bwd Win Byts', 'Fwd IAT Mean', 'Bwd PSH Flags', 'Fwd Pkts/b Avg'], 'Adv sample 713': ['SYN Flag Cnt', 'Bwd IAT Mean', 'Fwd IAT Min', 'Fwd Byts/b Avg', 'Fwd Pkts/b Avg', 'Init Bwd Win Byts', 'Pkt Size Avg', 'Bwd Seg Size Avg', 'Fwd IAT Mean', 'Flow Pkts/s'], 'Adv sample 714': ['Bwd Pkts/s', 'Init Bwd Win Byts', 'Fwd Pkt Len Max', 'Fwd IAT Min', 'Bwd PSH Flags', 'Idle Min', 'Fwd Header Len', 'Flow Byts/s', 'Bwd Pkt Len Min', 'Pkt Len Min'], 'Adv sample 715': ['Bwd IAT Min', 'Bwd IAT Mean', 'Init Bwd Win Byts', 'Fwd Pkts/b Avg', 'Flow Pkts/s', 'Down/Up Ratio', 'Fwd IAT Mean', 'Fwd Blk Rate Avg', 'Idle Mean', 'Pkt Len Max'], 'Adv sample 716': ['Bwd IAT Min', 'Bwd IAT Mean', 'Init Bwd Win Byts', 'Fwd Pkts/b Avg', 'Fwd IAT Mean', 'Flow Pkts/s', 'Fwd Blk Rate Avg', 'Down/Up Ratio', 'Bwd Pkt Len Mean', 'Fwd IAT Min'], 'Adv sample 717': ['Bwd IAT Min', 'Bwd IAT Mean', 'Bwd IAT Max', 'Init Bwd Win Byts', 'Bwd Pkts/s', 'Flow Pkts/s', 'Fwd Pkts/b Avg', 'Down/Up Ratio', 'Idle Std', 'Fwd IAT Mean'], 'Adv sample 718': ['ACK Flag Cnt', 'Bwd IAT Min', 'Bwd IAT Mean', 'Bwd IAT Max', 'Init Bwd Win Byts', 'Bwd Pkts/s', 'Flow Pkts/s', 'Fwd Pkts/b Avg', 'Down/Up Ratio', 'Active Mean'], 'Adv sample 719': ['Bwd Pkts/s', 'Init Bwd Win Byts', 'Idle Mean', 'Pkt Len Std', 'Fwd Pkt Len Mean', 'Bwd Pkt Len Std', 'Bwd IAT Std', 'Fwd Act Data Pkts', 'Fwd IAT Min', 'Bwd Pkt Len Max'], 'Adv sample 720': ['Bwd Pkts/s', 'Fwd IAT Min', 'Fwd Pkt Len Std', 'Init Bwd Win Byts', 'Bwd Header Len', 'Fwd Pkt Len Mean', 'Idle Min', 'Pkt Len Mean', 'Pkt Size Avg', 'Active Min'], 'Adv sample 721': ['Bwd IAT Min', 'Bwd IAT Mean', 'Bwd IAT Max', 'Init Bwd Win Byts', 'Fwd Pkts/b Avg', 'Bwd Pkts/s', 'Down/Up Ratio', 'Pkt Len Max', 'Idle Max', 'Subflow Fwd Byts'], 'Adv sample 722': ['Bwd IAT Mean', 'ACK Flag Cnt', 'Bwd IAT Min', 'Fwd IAT Mean', 'Init Bwd Win Byts', 'Subflow Bwd Byts', 'Pkt Len Var', 'Pkt Len Std', 'Bwd Seg Size Avg', 'Bwd Pkts/s'], 'Adv sample 723': ['URG Flag Cnt', 'FIN Flag Cnt', 'Bwd URG Flags', 'Fwd IAT Mean', 'Idle Min', 'Init Bwd Win Byts', 'Fwd Act Data Pkts', 'Down/Up Ratio', 'Active Max', 'Fwd IAT Min'], 'Adv sample 724': ['Bwd IAT Min', 'Bwd IAT Mean', 'Bwd IAT Max', 'Init Bwd Win Byts', 'Fwd Pkts/b Avg', 'Down/Up Ratio', 'Idle Max', 'Fwd IAT Mean', 'Subflow Bwd Byts', 'Active Min'], 'Adv sample 725': ['Bwd IAT Min', 'Bwd IAT Mean', 'Init Bwd Win Byts', 'Fwd Pkts/b Avg', 'Flow Pkts/s', 'Fwd Blk Rate Avg', 'Bwd Pkt Len Min', 'Pkt Len Max', 'Fwd IAT Mean', 'Bwd Pkt Len Max'], 'Adv sample 726': ['Bwd IAT Min', 'Bwd IAT Mean', 'Bwd IAT Max', 'Init Bwd Win Byts', 'Fwd Pkts/b Avg', 'Flow Pkts/s', 'Down/Up Ratio', 'Fwd IAT Min', 'Bwd IAT Std', 'PSH Flag Cnt'], 'Adv sample 727': ['SYN Flag Cnt', 'Bwd IAT Mean', 'Init Bwd Win Byts', 'Fwd IAT Min', 'Bwd IAT Max', 'Fwd Byts/b Avg', 'Bwd Pkts/s', 'Bwd Pkts/b Avg', 'Flow Duration', 'Pkt Len Std'], 'Adv sample 728': ['ACK Flag Cnt', 'Bwd IAT Min', 'Bwd IAT Mean', 'Bwd IAT Max', 'Init Bwd Win Byts', 'Fwd IAT Mean', 'Bwd Pkts/s', 'Fwd Pkts/b Avg', 'Flow Pkts/s', 'PSH Flag Cnt'], 'Adv sample 729': ['ACK Flag Cnt', 'Active Max', 'Init Bwd Win Byts', 'Flow IAT Mean', 'Flow IAT Std', 'Fwd Seg Size Avg', 'Subflow Fwd Byts', 'Tot Fwd Pkts', 'TotLen Fwd Pkts', 'Tot Bwd Pkts'], 'Adv sample 730': ['ACK Flag Cnt', 'Active Mean', 'Active Max', 'Flow IAT Std', 'Init Bwd Win Byts', 'Bwd Pkt Len Std', 'Idle Mean', 'Flow IAT Mean', 'Tot Bwd Pkts', 'Fwd Act Data Pkts'], 'Adv sample 731': ['SYN Flag Cnt', 'Bwd IAT Mean', 'Init Bwd Win Byts', 'Fwd IAT Min', 'Bwd IAT Max', 'Fwd Byts/b Avg', 'Fwd IAT Mean', 'Bwd Pkts/s', 'Bwd Pkts/b Avg', 'Bwd Pkt Len Mean'], 'Adv sample 732': ['Bwd Pkts/s', 'Init Bwd Win Byts', 'Tot Bwd Pkts', 'Idle Min', 'Fwd IAT Min', 'Pkt Len Std', 'Bwd Pkt Len Max', 'Bwd Seg Size Avg', 'Pkt Len Mean', 'Subflow Fwd Pkts'], 'Adv sample 733': ['Bwd IAT Min', 'Bwd IAT Mean', 'Bwd IAT Max', 'Init Bwd Win Byts', 'Pkt Len Max', 'Down/Up Ratio', 'Fwd Pkts/b Avg', 'Bwd Pkts/s', 'Fwd Pkt Len Std', 'Flow Pkts/s'], 'Adv sample 734': ['ACK Flag Cnt', 'Bwd IAT Min', 'Bwd IAT Mean', 'Bwd IAT Max', 'Init Bwd Win Byts', 'Bwd Pkts/s', 'Flow Pkts/s', 'Fwd IAT Mean', 'Bwd PSH Flags', 'Pkt Size Avg'], 'Adv sample 735': ['ACK Flag Cnt', 'Active Mean', 'Active Max', 'Flow IAT Std', 'Bwd Pkt Len Mean', 'Flow IAT Mean', 'Init Bwd Win Byts', 'Fwd Pkts/s', 'Fwd Header Len', 'Bwd Seg Size Avg'], 'Adv sample 736': ['ACK Flag Cnt', 'Active Mean', 'Active Max', 'Flow IAT Std', 'Flow IAT Mean', 'Init Bwd Win Byts', 'Bwd Pkt Len Max', 'Pkt Len Std', 'Bwd Pkt Len Mean', 'Flow Pkts/s'], 'Adv sample 737': ['Bwd IAT Min', 'Bwd IAT Mean', 'Bwd IAT Max', 'Init Bwd Win Byts', 'Bwd Pkts/s', 'Fwd Pkts/b Avg', 'Flow Pkts/s', 'Idle Max', 'Flow IAT Min', 'Bwd Seg Size Avg'], 'Adv sample 738': ['SYN Flag Cnt', 'Bwd IAT Mean', 'Init Bwd Win Byts', 'Fwd IAT Min', 'Bwd IAT Max', 'Bwd Pkts/b Avg', 'Fwd Byts/b Avg', 'Fwd Pkts/b Avg', 'Pkt Len Mean', 'Bwd Pkts/s'], 'Adv sample 739': ['SYN Flag Cnt', 'Fwd IAT Min', 'Fwd IAT Mean', 'Init Bwd Win Byts', 'Fwd Byts/b Avg', 'Bwd Pkts/b Avg', 'Flow Pkts/s', 'Bwd Pkts/s', 'Pkt Len Min', 'Tot Fwd Pkts'], 'Adv sample 740': ['Bwd IAT Min', 'Bwd IAT Mean', 'Bwd IAT Max', 'Init Bwd Win Byts', 'Fwd IAT Mean', 'TotLen Bwd Pkts', 'Fwd Pkt Len Mean', 'Fwd Pkts/b Avg', 'Bwd Pkts/s', 'Pkt Len Min'], 'Adv sample 741': ['ACK Flag Cnt', 'Bwd IAT Min', 'Fwd IAT Mean', 'Idle Max', 'Init Bwd Win Byts', 'TotLen Bwd Pkts', 'Fwd Seg Size Avg', 'Flow Duration', 'Fwd Header Len', 'Tot Fwd Pkts'], 'Adv sample 742': ['Bwd IAT Min', 'Bwd IAT Mean', 'Bwd IAT Max', 'Init Bwd Win Byts', 'Bwd Pkts/s', 'Flow Pkts/s', 'Pkt Len Max', 'Fwd Pkts/b Avg', 'Fwd Blk Rate Avg', 'Subflow Fwd Byts'], 'Adv sample 743': ['ACK Flag Cnt', 'Idle Std', 'Init Bwd Win Byts', 'Down/Up Ratio', 'Bwd IAT Tot', 'Bwd Pkts/b Avg', 'Fwd Pkt Len Std', 'Bwd Byts/b Avg', 'Pkt Len Mean', 'Pkt Len Std'], 'Adv sample 744': ['SYN Flag Cnt', 'Bwd IAT Mean', 'Fwd IAT Min', 'Fwd Byts/b Avg', 'Init Bwd Win Byts', 'Fwd Pkts/s', 'Idle Std', 'PSH Flag Cnt', 'Flow IAT Min', 'Bwd Pkts/b Avg'], 'Adv sample 745': ['ACK Flag Cnt', 'Active Mean', 'Active Max', 'Flow IAT Std', 'Init Bwd Win Byts', 'Flow IAT Mean', 'Fwd Pkt Len Max', 'Bwd Pkt Len Max', 'Pkt Len Std', 'Fwd IAT Mean'], 'Adv sample 746': ['ACK Flag Cnt', 'Flow IAT Mean', 'Init Bwd Win Byts', 'Bwd Pkt Len Max', 'Idle Max', 'Fwd Header Len', 'Fwd Pkt Len Min', 'Flow IAT Min', 'Fwd Pkt Len Std', 'Pkt Len Mean'], 'Adv sample 747': ['Bwd Pkts/s', 'Init Bwd Win Byts', 'Fwd IAT Min', 'Pkt Len Max', 'Bwd Pkt Len Max', 'Down/Up Ratio', 'Bwd Seg Size Avg', 'Flow Byts/s', 'Fwd Header Len', 'Flow Duration'], 'Adv sample 748': ['SYN Flag Cnt', 'Bwd IAT Mean', 'Fwd IAT Min', 'Fwd Byts/b Avg', 'Down/Up Ratio', 'Init Bwd Win Byts', 'Pkt Len Min', 'Bwd IAT Tot', 'Fwd Pkts/b Avg', 'Pkt Size Avg'], 'Adv sample 749': ['ACK Flag Cnt', 'Active Mean', 'Active Max', 'Flow IAT Std', 'Flow IAT Mean', 'Init Bwd Win Byts', 'Idle Mean', 'Bwd Seg Size Avg', 'Fwd Pkt Len Mean', 'Flow Pkts/s'], 'Adv sample 750': ['SYN Flag Cnt', 'Bwd IAT Mean', 'Init Bwd Win Byts', 'Fwd IAT Min', 'Bwd IAT Max', 'Bwd IAT Tot', 'Fwd IAT Mean', 'Fwd Byts/b Avg', 'Bwd Pkts/b Avg', 'Fwd Pkts/b Avg'], 'Adv sample 751': ['ACK Flag Cnt', 'Idle Std', 'Init Bwd Win Byts', 'Down/Up Ratio', 'Bwd Byts/b Avg', 'Bwd IAT Tot', 'Fwd Pkt Len Max', 'Bwd Pkts/b Avg', 'Fwd IAT Tot', 'Bwd Seg Size Avg'], 'Adv sample 752': ['Bwd Pkts/s', 'Init Bwd Win Byts', 'Fwd IAT Min', 'Pkt Size Avg', 'Pkt Len Min', 'Idle Mean', 'Idle Max', 'TotLen Bwd Pkts', 'Fwd Pkt Len Std', 'Fwd Pkts/s'], 'Adv sample 753': ['Bwd IAT Min', 'Bwd IAT Mean', 'Init Bwd Win Byts', 'Fwd Blk Rate Avg', 'Down/Up Ratio', 'Fwd Seg Size Avg', 'Pkt Len Min', 'Fwd Pkts/b Avg', 'Active Max', 'Subflow Fwd Pkts'], 'Adv sample 754': ['SYN Flag Cnt', 'Bwd IAT Mean', 'Fwd IAT Min', 'Fwd Byts/b Avg', 'Init Bwd Win Byts', 'Bwd Pkts/b Avg', 'Fwd IAT Mean', 'Fwd Header Len', 'Pkt Len Var', 'Fwd Pkts/s'], 'Adv sample 755': ['Bwd IAT Min', 'Bwd IAT Mean', 'Init Bwd Win Byts', 'Fwd Pkts/b Avg', 'Flow Pkts/s', 'Bwd Pkt Len Mean', 'Fwd IAT Mean', 'Fwd Blk Rate Avg', 'Down/Up Ratio', 'Bwd PSH Flags'], 'Adv sample 756': ['Bwd IAT Min', 'ACK Flag Cnt', 'Bwd IAT Max', 'Bwd IAT Mean', 'Init Bwd Win Byts', 'Subflow Fwd Byts', 'Bwd Pkts/s', 'Flow Pkts/s', 'Fwd Seg Size Avg', 'Flow IAT Std'], 'Adv sample 757': ['ACK Flag Cnt', 'Bwd IAT Min', 'Fwd IAT Mean', 'Idle Max', 'Bwd Seg Size Avg', 'Pkt Len Mean', 'Flow Duration', 'Init Bwd Win Byts', 'Pkt Len Min', 'Bwd Pkts/s'], 'Adv sample 758': ['Bwd IAT Min', 'Bwd IAT Mean', 'Bwd IAT Max', 'ACK Flag Cnt', 'Init Bwd Win Byts', 'Fwd Pkts/b Avg', 'Bwd Pkts/s', 'Fwd IAT Mean', 'Pkt Size Avg', 'Bwd IAT Tot'], 'Adv sample 759': ['SYN Flag Cnt', 'Bwd IAT Mean', 'Fwd IAT Min', 'Fwd Byts/b Avg', 'Bwd IAT Max', 'Bwd IAT Tot', 'Flow Byts/s', 'Pkt Len Max', 'Init Bwd Win Byts', 'Flow IAT Min'], 'Adv sample 760': ['ACK Flag Cnt', 'Bwd IAT Min', 'Bwd IAT Mean', 'Bwd IAT Max', 'Init Bwd Win Byts', 'Bwd Pkts/s', 'Fwd IAT Mean', 'Flow Pkts/s', 'Bwd IAT Std', 'Fwd Pkts/b Avg'], 'Adv sample 761': ['ACK Flag Cnt', 'Bwd IAT Min', 'Bwd IAT Mean', 'Bwd IAT Max', 'Init Bwd Win Byts', 'Bwd Pkts/s', 'Flow Pkts/s', 'Fwd IAT Mean', 'Fwd Pkts/b Avg', 'Active Min'], 'Adv sample 762': ['Bwd IAT Min', 'Bwd IAT Mean', 'Init Bwd Win Byts', 'Fwd Pkts/b Avg', 'Fwd IAT Mean', 'Flow Pkts/s', 'Pkt Len Max', 'Pkt Size Avg', 'Fwd Blk Rate Avg', 'Down/Up Ratio'], 'Adv sample 763': ['Bwd IAT Min', 'Bwd IAT Mean', 'Init Bwd Win Byts', 'Flow Pkts/s', 'Fwd Pkts/b Avg', 'Fwd IAT Mean', 'Fwd Blk Rate Avg', 'Down/Up Ratio', 'Bwd Pkt Len Mean', 'Pkt Size Avg'], 'Adv sample 764': ['ACK Flag Cnt', 'Bwd IAT Min', 'Bwd IAT Mean', 'Bwd IAT Max', 'Init Bwd Win Byts', 'Fwd IAT Mean', 'Bwd Pkts/s', 'Flow Pkts/s', 'Pkt Len Mean', 'Flow IAT Min'], 'Adv sample 765': ['Bwd IAT Mean', 'Bwd IAT Min', 'Init Bwd Win Byts', 'Fwd Pkts/b Avg', 'Down/Up Ratio', 'Flow Byts/s', 'FIN Flag Cnt', 'Pkt Len Max', 'Bwd Pkt Len Min', 'Fwd Pkt Len Mean'], 'Adv sample 766': ['ACK Flag Cnt', 'Active Mean', 'Flow IAT Std', 'Active Max', 'Init Bwd Win Byts', 'Flow IAT Mean', 'Subflow Fwd Byts', 'Flow Pkts/s', 'Bwd PSH Flags', 'Fwd Pkt Len Mean'], 'Adv sample 767': ['Bwd IAT Min', 'Bwd IAT Mean', 'Bwd IAT Max', 'Init Bwd Win Byts', 'Fwd Pkts/b Avg', 'Pkt Len Std', 'Bwd Pkt Len Std', 'Flow Pkts/s', 'Bwd Pkt Len Mean', 'Fwd Pkts/s'], 'Adv sample 768': ['Bwd IAT Min', 'Bwd IAT Mean', 'Bwd IAT Max', 'Init Bwd Win Byts', 'Fwd Pkts/b Avg', 'Bwd Pkt Len Min', 'Fwd Pkt Len Std', 'Fwd Pkts/s', 'Flow Duration', 'Pkt Len Std'], 'Adv sample 769': ['Bwd IAT Min', 'Bwd IAT Mean', 'Bwd IAT Max', 'Init Bwd Win Byts', 'Bwd Pkts/s', 'Flow Pkts/s', 'Fwd Pkts/b Avg', 'Pkt Len Min', 'Active Mean', 'Subflow Bwd Pkts'], 'Adv sample 770': ['Bwd Pkts/s', 'Fwd IAT Min', 'Down/Up Ratio', 'Init Bwd Win Byts', 'Pkt Len Max', 'Bwd PSH Flags', 'Pkt Len Std', 'Bwd Header Len', 'Pkt Len Var', 'Flow IAT Mean'], 'Adv sample 771': ['Idle Std', 'ACK Flag Cnt', 'Init Bwd Win Byts', 'Bwd Byts/b Avg', 'Bwd Pkts/b Avg', 'Active Mean', 'Pkt Len Min', 'Subflow Fwd Pkts', 'Pkt Len Mean', 'Fwd IAT Mean'], 'Adv sample 772': ['Bwd IAT Min', 'Bwd IAT Mean', 'Bwd IAT Max', 'Fwd Pkts/b Avg', 'Fwd Blk Rate Avg', 'Flow Pkts/s', 'Bwd Pkts/s', 'Down/Up Ratio', 'Init Bwd Win Byts', 'Idle Max'], 'Adv sample 773': ['Bwd IAT Mean', 'ACK Flag Cnt', 'Bwd IAT Max', 'Init Bwd Win Byts', 'Idle Std', 'Bwd IAT Tot', 'Subflow Fwd Pkts', 'Bwd Byts/b Avg', 'Fwd IAT Tot', 'Subflow Fwd Byts'], 'Adv sample 774': ['Bwd IAT Min', 'Bwd IAT Mean', 'Bwd IAT Max', 'Init Bwd Win Byts', 'Fwd Pkts/b Avg', 'Down/Up Ratio', 'Idle Std', 'Fwd IAT Mean', 'Bwd Pkt Len Max', 'Fwd Act Data Pkts'], 'Adv sample 775': ['Bwd IAT Std', 'Fwd IAT Min', 'Bwd Pkts/b Avg', 'Pkt Len Min', 'Pkt Len Max', 'Bwd Pkt Len Min', 'Init Bwd Win Byts', 'Subflow Bwd Byts', 'Pkt Len Std', 'Bwd Pkt Len Mean'], 'Adv sample 776': ['Bwd IAT Min', 'Bwd IAT Mean', 'Fwd IAT Mean', 'Fwd Pkts/b Avg', 'Init Bwd Win Byts', 'Down/Up Ratio', 'Pkt Len Std', 'Idle Max', 'Bwd Seg Size Avg', 'Fwd Pkt Len Max'], 'Adv sample 777': ['SYN Flag Cnt', 'Bwd IAT Mean', 'Fwd Byts/b Avg', 'Fwd IAT Min', 'Bwd Pkts/b Avg', 'PSH Flag Cnt', 'Flow IAT Max', 'Fwd Act Data Pkts', 'Flow Duration', 'Fwd Header Len'], 'Adv sample 778': ['ACK Flag Cnt', 'Bwd IAT Mean', 'Bwd IAT Min', 'Bwd IAT Max', 'Init Bwd Win Byts', 'Bwd Pkts/s', 'Flow Pkts/s', 'Fwd Pkts/b Avg', 'Pkt Len Max', 'Fwd Pkt Len Max'], 'Adv sample 779': ['Bwd IAT Min', 'Bwd IAT Mean', 'ACK Flag Cnt', 'Bwd IAT Max', 'Init Bwd Win Byts', 'Fwd IAT Mean', 'Active Max', 'PSH Flag Cnt', 'Bwd Pkt Len Mean', 'Idle Min'], 'Adv sample 780': ['Bwd IAT Min', 'Bwd IAT Mean', 'Init Bwd Win Byts', 'Fwd Pkts/b Avg', 'Fwd Blk Rate Avg', 'Flow Pkts/s', 'Fwd IAT Mean', 'Pkt Len Mean', 'Fwd Seg Size Avg', 'Pkt Len Max'], 'Adv sample 781': ['SYN Flag Cnt', 'Bwd IAT Mean', 'Fwd IAT Min', 'Bwd IAT Max', 'Init Bwd Win Byts', 'Bwd Pkt Len Max', 'Bwd Pkts/b Avg', 'Bwd Pkts/s', 'Fwd IAT Mean', 'Fwd Pkt Len Max'], 'Adv sample 782': ['SYN Flag Cnt', 'Bwd IAT Mean', 'Init Bwd Win Byts', 'Fwd IAT Min', 'Bwd IAT Max', 'Fwd Byts/b Avg', 'Bwd IAT Tot', 'Fwd Pkts/b Avg', 'Bwd IAT Min', 'Pkt Len Std'], 'Adv sample 783': ['Bwd IAT Min', 'Bwd IAT Mean', 'Bwd IAT Max', 'Init Bwd Win Byts', 'Bwd Pkts/s', 'Pkt Len Mean', 'Idle Std', 'Down/Up Ratio', 'Active Min', 'Fwd Blk Rate Avg'], 'Adv sample 784': ['Bwd IAT Mean', 'Bwd IAT Min', 'Init Bwd Win Byts', 'Fwd Pkts/b Avg', 'Down/Up Ratio', 'Bwd Pkt Len Min', 'Pkt Len Max', 'Fwd Blk Rate Avg', 'PSH Flag Cnt', 'Tot Bwd Pkts'], 'Adv sample 785': ['ACK Flag Cnt', 'Active Mean', 'Active Max', 'Flow IAT Std', 'Flow IAT Mean', 'Init Bwd Win Byts', 'Pkt Len Mean', 'Subflow Fwd Pkts', 'Flow Pkts/s', 'Subflow Bwd Pkts'], 'Adv sample 786': ['SYN Flag Cnt', 'Bwd IAT Mean', 'Init Bwd Win Byts', 'Fwd IAT Min', 'Bwd IAT Max', 'Subflow Bwd Byts', 'Bwd Pkts/b Avg', 'Fwd IAT Mean', 'Bwd Pkts/s', 'Flow Byts/s'], 'Adv sample 787': ['SYN Flag Cnt', 'Bwd IAT Mean', 'Fwd IAT Min', 'Fwd Byts/b Avg', 'Fwd Pkts/b Avg', 'Init Bwd Win Byts', 'Fwd IAT Mean', 'Pkt Size Avg', 'Fwd Pkt Len Std', 'Bwd IAT Max'], 'Adv sample 788': ['Bwd IAT Min', 'Bwd IAT Mean', 'Idle Max', 'Fwd Pkts/b Avg', 'Init Bwd Win Byts', 'Down/Up Ratio', 'Fwd Pkt Len Std', 'Bwd Pkt Len Std', 'Fwd Seg Size Avg', 'Flow Byts/s'], 'Adv sample 789': ['ACK Flag Cnt', 'Bwd IAT Min', 'Bwd IAT Mean', 'Bwd IAT Max', 'Init Bwd Win Byts', 'Flow Pkts/s', 'Bwd Pkts/s', 'Fwd IAT Mean', 'Flow IAT Mean', 'Pkt Size Avg'], 'Adv sample 790': ['ACK Flag Cnt', 'Active Mean', 'Flow IAT Std', 'Active Max', 'Init Bwd Win Byts', 'Flow IAT Mean', 'Pkt Len Mean', 'PSH Flag Cnt', 'TotLen Fwd Pkts', 'Fwd Pkt Len Std'], 'Adv sample 791': ['SYN Flag Cnt', 'Bwd IAT Mean', 'Init Bwd Win Byts', 'Fwd IAT Min', 'Fwd Byts/b Avg', 'Bwd IAT Max', 'Bwd IAT Tot', 'Fwd IAT Mean', 'Bwd Pkts/b Avg', 'Pkt Len Mean'], 'Adv sample 792': ['ACK Flag Cnt', 'Bwd IAT Min', 'Bwd IAT Max', 'Bwd IAT Mean', 'Init Bwd Win Byts', 'Bwd Pkts/s', 'Flow Pkts/s', 'Tot Bwd Pkts', 'Fwd IAT Mean', 'Subflow Fwd Pkts'], 'Adv sample 793': ['Bwd IAT Min', 'Bwd IAT Mean', 'Bwd IAT Max', 'Init Bwd Win Byts', 'Bwd Pkts/s', 'Fwd Pkts/b Avg', 'Flow Pkts/s', 'Fwd Blk Rate Avg', 'Tot Fwd Pkts', 'Flow IAT Min'], 'Adv sample 794': ['ACK Flag Cnt', 'Bwd IAT Min', 'Bwd IAT Mean', 'Bwd IAT Max', 'Init Bwd Win Byts', 'Flow Pkts/s', 'Bwd Pkts/s', 'Fwd Pkts/b Avg', 'PSH Flag Cnt', 'Pkt Len Var'], 'Adv sample 795': ['SYN Flag Cnt', 'Bwd IAT Mean', 'Fwd IAT Min', 'Bwd IAT Max', 'Fwd Byts/b Avg', 'Pkt Len Mean', 'Down/Up Ratio', 'Init Bwd Win Byts', 'Fwd Pkt Len Min', 'Bwd Pkt Len Mean'], 'Adv sample 796': ['Bwd Pkts/s', 'Init Bwd Win Byts', 'Active Mean', 'Flow Duration', 'Tot Fwd Pkts', 'Tot Bwd Pkts', 'TotLen Fwd Pkts', 'Fwd Pkt Len Max', 'Fwd Pkt Len Min', 'Fwd Pkt Len Mean'], 'Adv sample 797': ['SYN Flag Cnt', 'Bwd IAT Mean', 'Fwd IAT Min', 'Fwd Byts/b Avg', 'Fwd IAT Mean', 'Active Min', 'Fwd Pkts/b Avg', 'Bwd IAT Max', 'TotLen Fwd Pkts', 'Pkt Len Min'], 'Adv sample 798': ['SYN Flag Cnt', 'Bwd IAT Mean', 'Init Bwd Win Byts', 'Fwd IAT Min', 'Bwd IAT Max', 'Fwd Byts/b Avg', 'Bwd Pkts/b Avg', 'Bwd Header Len', 'Bwd IAT Tot', 'Pkt Len Min'], 'Adv sample 799': ['Bwd IAT Min', 'Bwd IAT Mean', 'Init Bwd Win Byts', 'Fwd Pkts/b Avg', 'Flow Pkts/s', 'Fwd IAT Mean', 'Fwd Blk Rate Avg', 'Pkt Len Std', 'Down/Up Ratio', 'Bwd Seg Size Avg'], 'Adv sample 800': ['Bwd IAT Min', 'Bwd IAT Mean', 'Bwd IAT Max', 'Init Bwd Win Byts', 'Fwd Pkts/b Avg', 'Down/Up Ratio', 'Fwd Pkt Len Mean', 'Flow Pkts/s', 'Fwd IAT Mean', 'Active Max'], 'Adv sample 801': ['SYN Flag Cnt', 'Bwd IAT Mean', 'Fwd IAT Min', 'Fwd Byts/b Avg', 'Init Bwd Win Byts', 'Fwd Pkt Len Min', 'Bwd Pkts/b Avg', 'Fwd Pkts/b Avg', 'Fwd IAT Mean', 'Active Mean'], 'Adv sample 802': ['Bwd IAT Mean', 'Bwd IAT Min', 'Init Bwd Win Byts', 'Pkt Len Max', 'Down/Up Ratio', 'Fwd Pkts/b Avg', 'Bwd Pkt Len Min', 'Flow Byts/s', 'Subflow Bwd Byts', 'Pkt Len Min'], 'Adv sample 803': ['Bwd IAT Min', 'Bwd IAT Max', 'Bwd IAT Mean', 'Init Bwd Win Byts', 'Fwd Pkts/b Avg', 'Down/Up Ratio', 'Bwd Pkts/s', 'Fwd IAT Mean', 'Idle Max', 'Flow Pkts/s'], 'Adv sample 804': ['Bwd IAT Min', 'Bwd IAT Mean', 'Bwd IAT Max', 'Init Bwd Win Byts', 'Bwd Pkts/s', 'Fwd Pkts/b Avg', 'Flow Pkts/s', 'Fwd Blk Rate Avg', 'Down/Up Ratio', 'Pkt Len Min'], 'Adv sample 805': ['Bwd IAT Min', 'Bwd IAT Mean', 'Bwd IAT Max', 'Init Bwd Win Byts', 'Bwd Pkts/s', 'Fwd Blk Rate Avg', 'Fwd IAT Mean', 'Pkt Len Min', 'Fwd Pkts/b Avg', 'Flow Pkts/s'], 'Adv sample 806': ['SYN Flag Cnt', 'Bwd IAT Mean', 'Fwd IAT Min', 'Init Bwd Win Byts', 'Bwd IAT Max', 'Bwd IAT Tot', 'Bwd Pkts/s', 'Bwd Pkts/b Avg', 'Fwd Act Data Pkts', 'Fwd Byts/b Avg'], 'Adv sample 807': ['ACK Flag Cnt', 'Bwd IAT Mean', 'Bwd IAT Min', 'Bwd IAT Max', 'Init Bwd Win Byts', 'Flow Pkts/s', 'Bwd Pkts/s', 'Fwd Pkts/b Avg', 'Idle Mean', 'Fwd IAT Mean'], 'Adv sample 808': ['Bwd IAT Min', 'Bwd IAT Max', 'Bwd IAT Mean', 'Init Bwd Win Byts', 'Fwd Pkts/b Avg', 'Bwd Pkts/s', 'Flow IAT Std', 'Flow Pkts/s', 'Flow IAT Mean', 'Fwd IAT Mean'], 'Adv sample 809': ['Bwd IAT Min', 'Bwd IAT Mean', 'Bwd IAT Max', 'Init Bwd Win Byts', 'Fwd Pkts/b Avg', 'Fwd IAT Mean', 'Down/Up Ratio', 'Bwd Pkts/s', 'Pkt Len Min', 'Flow IAT Std'], 'Adv sample 810': ['Bwd IAT Min', 'Bwd IAT Max', 'Bwd IAT Mean', 'Init Bwd Win Byts', 'Fwd Pkts/b Avg', 'Pkt Len Std', 'Fwd IAT Mean', 'Pkt Len Mean', 'Down/Up Ratio', 'Pkt Len Max'], 'Adv sample 811': ['Bwd IAT Min', 'Bwd IAT Mean', 'Bwd IAT Max', 'Fwd Pkts/b Avg', 'Fwd Blk Rate Avg', 'Init Bwd Win Byts', 'Bwd Pkts/s', 'Flow Pkts/s', 'Bwd Pkt Len Mean', 'Bwd Seg Size Avg'], 'Adv sample 812': ['ACK Flag Cnt', 'Bwd IAT Min', 'Fwd IAT Mean', 'Idle Max', 'Init Bwd Win Byts', 'Flow Byts/s', 'Bwd Header Len', 'Pkt Len Max', 'Pkt Len Mean', 'Bwd Pkt Len Std'], 'Adv sample 813': ['Bwd IAT Min', 'Bwd IAT Mean', 'Bwd IAT Max', 'Init Bwd Win Byts', 'Fwd Blk Rate Avg', 'Bwd Pkts/s', 'Pkt Len Mean', 'Bwd Pkt Len Std', 'Pkt Len Max', 'Flow Pkts/s'], 'Adv sample 814': ['Bwd IAT Min', 'Bwd IAT Mean', 'Init Bwd Win Byts', 'Fwd Pkts/b Avg', 'Fwd IAT Mean', 'Fwd Blk Rate Avg', 'Flow Pkts/s', 'Bwd Header Len', 'TotLen Fwd Pkts', 'Pkt Len Std'], 'Adv sample 815': ['SYN Flag Cnt', 'Bwd IAT Mean', 'Init Bwd Win Byts', 'Fwd IAT Min', 'Bwd IAT Max', 'Fwd Byts/b Avg', 'Bwd Pkts/b Avg', 'Bwd Pkts/s', 'Flow IAT Min', 'Idle Std'], 'Adv sample 816': ['Bwd IAT Mean', 'Bwd IAT Min', 'Init Bwd Win Byts', 'Fwd Pkts/b Avg', 'Fwd Blk Rate Avg', 'Pkt Len Std', 'Pkt Len Var', 'Down/Up Ratio', 'Bwd Pkt Len Std', 'Active Mean'], 'Adv sample 817': ['ACK Flag Cnt', 'Bwd IAT Min', 'Bwd IAT Mean', 'Bwd IAT Max', 'Flow Pkts/s', 'Init Bwd Win Byts', 'Bwd Pkts/s', 'Fwd Pkts/b Avg', 'Fwd IAT Mean', 'Idle Min'], 'Adv sample 818': ['SYN Flag Cnt', 'Bwd IAT Mean', 'Fwd IAT Min', 'Fwd Byts/b Avg', 'Bwd Pkts/b Avg', 'Init Bwd Win Byts', 'Fwd Pkts/b Avg', 'Subflow Fwd Pkts', 'Active Max', 'Flow IAT Max'], 'Adv sample 819': ['Bwd IAT Min', 'Bwd IAT Mean', 'Fwd IAT Mean', 'Fwd Blk Rate Avg', 'Init Bwd Win Byts', 'Fwd Pkts/b Avg', 'Flow Pkts/s', 'Down/Up Ratio', 'Pkt Size Avg', 'Bwd Pkt Len Std'], 'Adv sample 820': ['Bwd IAT Min', 'Bwd IAT Max', 'Bwd IAT Mean', 'Init Bwd Win Byts', 'Bwd Pkts/s', 'Fwd Pkts/b Avg', 'Pkt Size Avg', 'Fwd IAT Mean', 'Idle Mean', 'Active Max'], 'Adv sample 821': ['SYN Flag Cnt', 'Bwd IAT Mean', 'Fwd IAT Min', 'Fwd Byts/b Avg', 'Bwd Pkt Len Mean', 'Init Bwd Win Byts', 'Bwd IAT Max', 'Fwd IAT Mean', 'Bwd IAT Tot', 'Pkt Len Max'], 'Adv sample 822': ['Bwd IAT Min', 'Bwd IAT Mean', 'Bwd IAT Max', 'Fwd Blk Rate Avg', 'Fwd Pkts/b Avg', 'Bwd Pkts/s', 'Init Bwd Win Byts', 'Flow Pkts/s', 'Down/Up Ratio', 'Idle Min'], 'Adv sample 823': ['ACK Flag Cnt', 'Active Mean', 'Flow IAT Std', 'Active Max', 'Init Bwd Win Byts', 'Flow IAT Mean', 'Bwd IAT Mean', 'Fwd Pkt Len Min', 'Pkt Len Max', 'Pkt Len Mean'], 'Adv sample 824': ['ACK Flag Cnt', 'Active Mean', 'Flow IAT Std', 'Active Max', 'Init Bwd Win Byts', 'Subflow Bwd Byts', 'Fwd Pkt Len Max', 'Fwd Seg Size Avg', 'PSH Flag Cnt', 'Bwd PSH Flags'], 'Adv sample 825': ['ACK Flag Cnt', 'Bwd IAT Mean', 'Bwd IAT Min', 'Bwd IAT Max', 'Init Bwd Win Byts', 'Flow Pkts/s', 'Bwd Pkts/s', 'Fwd IAT Mean', 'Pkt Size Avg', 'TotLen Fwd Pkts'], 'Adv sample 826': ['SYN Flag Cnt', 'Bwd IAT Mean', 'Fwd IAT Min', 'Bwd IAT Max', 'Init Bwd Win Byts', 'Bwd Pkts/b Avg', 'Down/Up Ratio', 'Bwd Pkts/s', 'Fwd IAT Mean', 'Fwd Byts/b Avg'], 'Adv sample 827': ['Bwd IAT Min', 'Bwd IAT Max', 'Bwd IAT Mean', 'ACK Flag Cnt', 'Init Bwd Win Byts', 'Fwd IAT Mean', 'Idle Std', 'Pkt Size Avg', 'Bwd Seg Size Avg', 'Pkt Len Std'], 'Adv sample 828': ['Bwd Pkts/s', 'Fwd IAT Min', 'Init Bwd Win Byts', 'Pkt Size Avg', 'Fwd Pkts/s', 'Active Max', 'Flow Duration', 'Tot Fwd Pkts', 'Tot Bwd Pkts', 'TotLen Bwd Pkts'], 'Adv sample 829': ['ACK Flag Cnt', 'Bwd IAT Mean', 'Bwd IAT Min', 'Bwd IAT Max', 'Init Bwd Win Byts', 'Bwd Pkts/s', 'Fwd IAT Mean', 'Flow Pkts/s', 'Fwd Pkts/b Avg', 'Bwd Pkt Len Mean'], 'Adv sample 830': ['Bwd IAT Min', 'Bwd IAT Mean', 'Bwd IAT Max', 'Init Bwd Win Byts', 'Bwd Pkts/s', 'Fwd Pkts/b Avg', 'Pkt Len Mean', 'Flow Pkts/s', 'Fwd Blk Rate Avg', 'Subflow Fwd Pkts'], 'Adv sample 831': ['Bwd Pkts/s', 'Init Bwd Win Byts', 'Active Max', 'Active Min', 'TotLen Bwd Pkts', 'Flow IAT Max', 'Pkt Len Std', 'Pkt Size Avg', 'Fwd IAT Min', 'Subflow Fwd Pkts'], 'Adv sample 832': ['Bwd Pkts/s', 'Down/Up Ratio', 'FIN Flag Cnt', 'Fwd IAT Min', 'Flow Duration', 'Pkt Len Min', 'TotLen Fwd Pkts', 'Init Bwd Win Byts', 'Subflow Bwd Byts', 'Bwd Pkt Len Mean'], 'Adv sample 833': ['ACK Flag Cnt', 'Bwd IAT Min', 'Bwd IAT Mean', 'Bwd IAT Max', 'Init Bwd Win Byts', 'Flow Pkts/s', 'Bwd Pkts/s', 'Fwd IAT Mean', 'Fwd Pkts/b Avg', 'Flow Byts/s'], 'Adv sample 834': ['SYN Flag Cnt', 'Bwd IAT Mean', 'Fwd IAT Min', 'Fwd Byts/b Avg', 'Init Bwd Win Byts', 'Bwd Pkts/b Avg', 'Fwd Header Len', 'Subflow Fwd Byts', 'Pkt Len Min', 'Fwd IAT Mean'], 'Adv sample 835': ['Bwd IAT Min', 'Bwd IAT Mean', 'Bwd IAT Max', 'Init Bwd Win Byts', 'Bwd Pkts/s', 'Fwd Pkts/b Avg', 'Down/Up Ratio', 'Flow Pkts/s', 'Fwd IAT Mean', 'Pkt Size Avg'], 'Adv sample 836': ['ACK Flag Cnt', 'Fwd IAT Mean', 'Bwd IAT Min', 'Idle Max', 'Init Bwd Win Byts', 'Fwd Pkt Len Mean', 'Bwd Pkt Len Std', 'Flow Pkts/s', 'Bwd Pkt Len Mean', 'Fwd Pkts/s'], 'Adv sample 837': ['SYN Flag Cnt', 'Bwd IAT Mean', 'Fwd IAT Min', 'Fwd Byts/b Avg', 'Fwd IAT Mean', 'Init Bwd Win Byts', 'Fwd Header Len', 'Bwd IAT Max', 'Subflow Bwd Byts', 'TotLen Fwd Pkts'], 'Adv sample 838': ['Bwd IAT Mean', 'Bwd IAT Min', 'Init Bwd Win Byts', 'Fwd Pkts/b Avg', 'Fwd Blk Rate Avg', 'Pkt Len Mean', 'Active Std', 'Bwd Seg Size Avg', 'Down/Up Ratio', 'TotLen Bwd Pkts'], 'Adv sample 839': ['ACK Flag Cnt', 'Bwd IAT Min', 'Bwd IAT Mean', 'Bwd IAT Max', 'Bwd Pkts/s', 'Flow Pkts/s', 'Init Bwd Win Byts', 'Fwd IAT Mean', 'Fwd Pkts/b Avg', 'Pkt Size Avg'], 'Adv sample 840': ['ACK Flag Cnt', 'Active Mean', 'Active Max', 'Init Bwd Win Byts', 'Bwd Pkt Len Min', 'Flow IAT Mean', 'Flow IAT Std', 'Tot Bwd Pkts', 'Bwd PSH Flags', 'Bwd Pkt Len Mean'], 'Adv sample 841': ['Bwd IAT Min', 'Bwd IAT Mean', 'Bwd IAT Max', 'Init Bwd Win Byts', 'Fwd Pkts/b Avg', 'Bwd Pkts/s', 'Flow Pkts/s', 'Pkt Len Min', 'Idle Max', 'Idle Min'], 'Adv sample 842': ['SYN Flag Cnt', 'Bwd IAT Mean', 'Fwd IAT Min', 'Bwd IAT Max', 'Fwd Byts/b Avg', 'Bwd IAT Tot', 'Init Bwd Win Byts', 'Pkt Len Min', 'Flow IAT Min', 'Fwd Pkts/b Avg'], 'Adv sample 843': ['ACK Flag Cnt', 'Bwd IAT Min', 'Bwd IAT Mean', 'Bwd IAT Max', 'Init Bwd Win Byts', 'Bwd Pkts/s', 'Flow Pkts/s', 'Fwd IAT Mean', 'Fwd Pkts/b Avg', 'Down/Up Ratio'], 'Adv sample 844': ['Bwd IAT Min', 'Bwd IAT Mean', 'Bwd IAT Max', 'Fwd Pkts/b Avg', 'Fwd Blk Rate Avg', 'Bwd Pkts/s', 'Flow Pkts/s', 'Init Bwd Win Byts', 'Down/Up Ratio', 'Bwd IAT Std'], 'Adv sample 845': ['ACK Flag Cnt', 'Fwd IAT Min', 'Flow IAT Std', 'Flow IAT Mean', 'Bwd Pkts/b Avg', 'Init Bwd Win Byts', 'Bwd IAT Max', 'Fwd IAT Mean', 'Pkt Len Var', 'Bwd IAT Std'], 'Adv sample 846': ['Bwd IAT Mean', 'Bwd IAT Min', 'Init Bwd Win Byts', 'Fwd Pkts/b Avg', 'Fwd Blk Rate Avg', 'Down/Up Ratio', 'Pkt Len Mean', 'Fwd Pkt Len Mean', 'Bwd PSH Flags', 'Pkt Len Max'], 'Adv sample 847': ['Bwd IAT Min', 'Bwd IAT Mean', 'Bwd IAT Max', 'Fwd Pkts/b Avg', 'Fwd Blk Rate Avg', 'Flow Pkts/s', 'Init Bwd Win Byts', 'Down/Up Ratio', 'Bwd Pkts/s', 'Pkt Size Avg'], 'Adv sample 848': ['SYN Flag Cnt', 'Bwd IAT Mean', 'Fwd Byts/b Avg', 'Init Bwd Win Byts', 'Fwd IAT Min', 'Flow Pkts/s', 'Bwd Pkts/s', 'Fwd IAT Mean', 'Flow IAT Max', 'Bwd PSH Flags'], 'Adv sample 849': ['SYN Flag Cnt', 'Bwd IAT Mean', 'Fwd IAT Min', 'Bwd IAT Max', 'Init Bwd Win Byts', 'Fwd Byts/b Avg', 'Pkt Len Mean', 'Bwd Pkt Len Max', 'Pkt Size Avg', 'Bwd IAT Tot'], 'Adv sample 850': ['Bwd IAT Mean', 'Bwd IAT Min', 'Fwd Pkts/b Avg', 'Down/Up Ratio', 'Init Bwd Win Byts', 'Fwd Blk Rate Avg', 'Subflow Fwd Byts', 'Fwd Pkt Len Mean', 'Bwd Pkt Len Max', 'Flow Byts/s'], 'Adv sample 851': ['Bwd IAT Min', 'Bwd IAT Mean', 'Init Bwd Win Byts', 'Fwd Pkts/b Avg', 'Fwd IAT Mean', 'Fwd Blk Rate Avg', 'Flow Pkts/s', 'Down/Up Ratio', 'Bwd Pkt Len Max', 'Idle Mean'], 'Adv sample 852': ['ACK Flag Cnt', 'Idle Std', 'Init Bwd Win Byts', 'Down/Up Ratio', 'Bwd IAT Tot', 'Bwd Pkts/b Avg', 'Fwd Pkt Len Std', 'Bwd Byts/b Avg', 'Fwd IAT Tot', 'Pkt Size Avg'], 'Adv sample 853': ['Bwd Pkts/s', 'Init Bwd Win Byts', 'Pkt Len Min', 'Pkt Size Avg', 'Fwd IAT Min', 'Flow IAT Mean', 'Fwd Pkt Len Min', 'Down/Up Ratio', 'Bwd Pkt Len Std', 'Pkt Len Mean'], 'Adv sample 854': ['ACK Flag Cnt', 'Bwd IAT Mean', 'Bwd IAT Min', 'Bwd IAT Max', 'Init Bwd Win Byts', 'Bwd Pkts/s', 'Flow Pkts/s', 'Fwd IAT Mean', 'Fwd Pkts/b Avg', 'Down/Up Ratio'], 'Adv sample 855': ['SYN Flag Cnt', 'Bwd IAT Mean', 'Init Bwd Win Byts', 'Fwd IAT Min', 'Bwd IAT Max', 'Bwd Pkts/s', 'Fwd Byts/b Avg', 'Bwd Pkts/b Avg', 'Fwd IAT Mean', 'Active Max'], 'Adv sample 856': ['ACK Flag Cnt', 'Bwd IAT Min', 'Bwd IAT Mean', 'Bwd IAT Max', 'Init Bwd Win Byts', 'Bwd Pkts/s', 'Flow Pkts/s', 'Fwd IAT Mean', 'Fwd Pkts/b Avg', 'Subflow Bwd Byts'], 'Adv sample 857': ['ACK Flag Cnt', 'Bwd IAT Min', 'Fwd IAT Mean', 'Idle Max', 'Flow Pkts/s', 'Pkt Len Min', 'Init Bwd Win Byts', 'Tot Fwd Pkts', 'Fwd Pkt Len Min', 'Bwd Pkt Len Std'], 'Adv sample 858': ['SYN Flag Cnt', 'Bwd IAT Mean', 'Init Bwd Win Byts', 'Fwd IAT Min', 'Bwd IAT Max', 'Fwd Byts/b Avg', 'Bwd Pkts/s', 'Pkt Len Mean', 'Pkt Len Max', 'Bwd PSH Flags'], 'Adv sample 859': ['Bwd IAT Min', 'Bwd IAT Max', 'Bwd IAT Mean', 'Init Bwd Win Byts', 'Fwd Pkts/b Avg', 'Fwd IAT Mean', 'Down/Up Ratio', 'Idle Max', 'Bwd Pkts/s', 'Active Max'], 'Adv sample 860': ['ACK Flag Cnt', 'Active Mean', 'Active Max', 'Flow IAT Std', 'Init Bwd Win Byts', 'Bwd IAT Min', 'Fwd Header Len', 'Flow IAT Mean', 'Bwd Pkt Len Min', 'Idle Mean'], 'Adv sample 861': ['Bwd IAT Min', 'Bwd IAT Mean', 'Init Bwd Win Byts', 'Fwd Pkts/b Avg', 'Down/Up Ratio', 'Fwd Blk Rate Avg', 'Flow Byts/s', 'Fwd Pkt Len Max', 'Idle Mean', 'Bwd IAT Std'], 'Adv sample 862': ['Bwd Pkts/s', 'Init Bwd Win Byts', 'Idle Mean', 'Idle Max', 'Fwd IAT Min', 'Pkt Len Std', 'Pkt Len Max', 'Fwd Pkt Len Min', 'Fwd Pkts/b Avg', 'Bwd Header Len'], 'Adv sample 863': ['ACK Flag Cnt', 'Bwd IAT Mean', 'Bwd IAT Min', 'Bwd IAT Max', 'Init Bwd Win Byts', 'Bwd Pkts/s', 'Flow Pkts/s', 'Fwd IAT Mean', 'Fwd Pkts/b Avg', 'Bwd Pkt Len Min'], 'Adv sample 864': ['Bwd IAT Min', 'Bwd IAT Mean', 'Bwd IAT Max', 'Init Bwd Win Byts', 'Fwd Pkts/b Avg', 'Bwd Pkts/s', 'Fwd Blk Rate Avg', 'Flow Pkts/s', 'Fwd IAT Mean', 'TotLen Bwd Pkts'], 'Adv sample 865': ['Bwd IAT Min', 'Bwd IAT Max', 'Bwd IAT Mean', 'Init Bwd Win Byts', 'Fwd Pkts/b Avg', 'Bwd Pkts/s', 'Pkt Len Min', 'Fwd IAT Mean', 'Pkt Size Avg', 'Active Min'], 'Adv sample 866': ['Bwd IAT Mean', 'Bwd IAT Min', 'Fwd Pkts/b Avg', 'Init Bwd Win Byts', 'Fwd Blk Rate Avg', 'Down/Up Ratio', 'Flow Byts/s', 'Active Mean', 'Bwd Header Len', 'Bwd Pkt Len Min'], 'Adv sample 867': ['Bwd Pkts/s', 'Fwd IAT Min', 'Init Bwd Win Byts', 'Idle Mean', 'Fwd Pkt Len Mean', 'Down/Up Ratio', 'Idle Std', 'Subflow Bwd Byts', 'Fwd Pkt Len Max', 'Flow Duration'], 'Adv sample 868': ['Bwd Pkts/s', 'Init Bwd Win Byts', 'Idle Mean', 'Flow Duration', 'Pkt Size Avg', 'Bwd IAT Std', 'Pkt Len Max', 'Bwd Pkt Len Max', 'Fwd Pkt Len Max', 'Fwd Pkt Len Std'], 'Adv sample 869': ['Bwd IAT Min', 'Bwd IAT Mean', 'Bwd IAT Max', 'Init Bwd Win Byts', 'Fwd Pkts/b Avg', 'PSH Flag Cnt', 'Down/Up Ratio', 'Subflow Bwd Byts', 'Active Mean', 'Subflow Bwd Pkts'], 'Adv sample 870': ['ACK Flag Cnt', 'Bwd IAT Min', 'Bwd IAT Mean', 'Bwd IAT Max', 'Init Bwd Win Byts', 'Fwd IAT Mean', 'Flow Pkts/s', 'Bwd Pkts/s', 'Bwd Seg Size Avg', 'Tot Fwd Pkts'], 'Adv sample 871': ['SYN Flag Cnt', 'Bwd IAT Mean', 'Init Bwd Win Byts', 'Fwd IAT Min', 'Bwd IAT Max', 'Fwd Byts/b Avg', 'Bwd Pkts/s', 'Bwd Pkts/b Avg', 'Fwd IAT Mean', 'Bwd IAT Tot'], 'Adv sample 872': ['SYN Flag Cnt', 'Bwd IAT Mean', 'Fwd IAT Min', 'Fwd Byts/b Avg', 'Bwd Pkts/b Avg', 'Pkt Len Min', 'Init Bwd Win Byts', 'Flow Duration', 'Flow Pkts/s', 'Pkt Len Var'], 'Adv sample 873': ['ACK Flag Cnt', 'Bwd IAT Min', 'Bwd IAT Mean', 'Bwd IAT Max', 'Init Bwd Win Byts', 'Flow Pkts/s', 'Bwd Pkts/s', 'Fwd IAT Mean', 'Subflow Bwd Byts', 'Fwd Pkts/b Avg'], 'Adv sample 874': ['ACK Flag Cnt', 'Bwd IAT Min', 'Bwd IAT Mean', 'Bwd IAT Max', 'Init Bwd Win Byts', 'Bwd Pkts/s', 'Flow Pkts/s', 'Fwd IAT Mean', 'Fwd Pkts/b Avg', 'Pkt Len Max'], 'Adv sample 875': ['SYN Flag Cnt', 'Bwd IAT Mean', 'Init Bwd Win Byts', 'Fwd IAT Min', 'Bwd IAT Max', 'Fwd Byts/b Avg', 'Bwd Pkts/b Avg', 'Fwd IAT Mean', 'Pkt Size Avg', 'Pkt Len Min'], 'Adv sample 876': ['SYN Flag Cnt', 'Bwd IAT Mean', 'Init Bwd Win Byts', 'Bwd Pkts/s', 'Bwd IAT Max', 'Fwd Byts/b Avg', 'Fwd IAT Min', 'Active Max', 'Fwd Act Data Pkts', 'Bwd IAT Tot'], 'Adv sample 877': ['SYN Flag Cnt', 'Bwd IAT Mean', 'Fwd IAT Min', 'Init Bwd Win Byts', 'Fwd IAT Mean', 'Bwd Pkts/s', 'Fwd Byts/b Avg', 'Fwd Header Len', 'Flow Pkts/s', 'Pkt Len Min'], 'Adv sample 878': ['URG Flag Cnt', 'FIN Flag Cnt', 'Bwd URG Flags', 'Fwd IAT Mean', 'Idle Min', 'Init Bwd Win Byts', 'Down/Up Ratio', 'Bwd IAT Mean', 'Bwd Pkt Len Max', 'Fwd Act Data Pkts'], 'Adv sample 879': ['Bwd IAT Min', 'Bwd IAT Mean', 'Bwd IAT Max', 'Init Bwd Win Byts', 'Bwd Pkts/s', 'Fwd Pkts/b Avg', 'Flow Pkts/s', 'Bwd Pkt Len Max', 'Fwd Blk Rate Avg', 'Subflow Fwd Byts'], 'Adv sample 880': ['SYN Flag Cnt', 'Bwd IAT Mean', 'Fwd IAT Min', 'Fwd Byts/b Avg', 'Bwd IAT Max', 'Init Bwd Win Byts', 'Tot Fwd Pkts', 'Bwd PSH Flags', 'Bwd Pkt Len Std', 'Bwd Header Len'], 'Adv sample 881': ['Bwd IAT Min', 'Bwd IAT Mean', 'Init Bwd Win Byts', 'Fwd Pkts/b Avg', 'Fwd IAT Mean', 'Fwd Blk Rate Avg', 'Down/Up Ratio', 'Flow Pkts/s', 'TotLen Fwd Pkts', 'Tot Bwd Pkts'], 'Adv sample 882': ['Bwd IAT Min', 'Bwd IAT Mean', 'Bwd IAT Max', 'Init Bwd Win Byts', 'Fwd Pkts/b Avg', 'Idle Max', 'Down/Up Ratio', 'Flow Pkts/s', 'Pkt Len Min', 'Idle Mean'], 'Adv sample 883': ['ACK Flag Cnt', 'Bwd IAT Min', 'Bwd IAT Mean', 'Bwd IAT Max', 'Init Bwd Win Byts', 'Flow Pkts/s', 'Bwd Pkts/s', 'Fwd Pkts/b Avg', 'Pkt Len Mean', 'Fwd IAT Mean'], 'Adv sample 884': ['ACK Flag Cnt', 'Bwd IAT Min', 'Fwd IAT Mean', 'Idle Max', 'Pkt Len Mean', 'Init Bwd Win Byts', 'Fwd Seg Size Avg', 'Pkt Len Std', 'Active Max', 'Fwd Pkt Len Std'], 'Adv sample 885': ['SYN Flag Cnt', 'Bwd IAT Mean', 'Fwd IAT Min', 'Fwd Byts/b Avg', 'Init Bwd Win Byts', 'Pkt Size Avg', 'Bwd Pkt Len Max', 'Fwd Pkts/b Avg', 'Fwd IAT Mean', 'Bwd IAT Max'], 'Adv sample 886': ['Bwd IAT Min', 'Bwd IAT Mean', 'Fwd Pkts/b Avg', 'Fwd IAT Mean', 'Init Bwd Win Byts', 'Fwd Blk Rate Avg', 'Down/Up Ratio', 'Subflow Bwd Byts', 'Pkt Len Mean', 'Flow Pkts/s'], 'Adv sample 887': ['ACK Flag Cnt', 'Idle Std', 'Init Bwd Win Byts', 'Bwd IAT Tot', 'Down/Up Ratio', 'Bwd Pkts/b Avg', 'Bwd Byts/b Avg', 'Pkt Len Min', 'Flow IAT Max', 'Fwd Pkt Len Max'], 'Adv sample 888': ['SYN Flag Cnt', 'Bwd IAT Mean', 'Fwd Byts/b Avg', 'Fwd IAT Min', 'Fwd Pkts/b Avg', 'Bwd IAT Max', 'Subflow Fwd Byts', 'Fwd IAT Mean', 'Init Bwd Win Byts', 'Pkt Len Var'], 'Adv sample 889': ['SYN Flag Cnt', 'Fwd IAT Min', 'Fwd IAT Mean', 'Fwd Byts/b Avg', 'Flow Pkts/s', 'Bwd Pkts/s', 'Init Bwd Win Byts', 'Flow IAT Std', 'Flow Duration', 'Tot Fwd Pkts'], 'Adv sample 890': ['SYN Flag Cnt', 'Bwd IAT Mean', 'Fwd IAT Min', 'Fwd Byts/b Avg', 'Init Bwd Win Byts', 'Bwd Pkts/b Avg', 'Tot Fwd Pkts', 'Idle Std', 'Flow Pkts/s', 'Bwd IAT Min'], 'Adv sample 891': ['Bwd IAT Mean', 'Bwd IAT Min', 'Init Bwd Win Byts', 'Fwd Pkts/b Avg', 'Pkt Len Var', 'Down/Up Ratio', 'Fwd Pkt Len Max', 'Active Mean', 'Fwd Blk Rate Avg', 'Subflow Bwd Pkts'], 'Adv sample 892': ['ACK Flag Cnt', 'Bwd IAT Mean', 'Bwd IAT Min', 'Bwd IAT Max', 'Init Bwd Win Byts', 'Bwd Pkts/s', 'Flow Pkts/s', 'Fwd IAT Mean', 'Fwd Pkts/b Avg', 'Bwd Pkt Len Max'], 'Adv sample 893': ['Bwd IAT Min', 'Bwd IAT Mean', 'Bwd IAT Max', 'Init Bwd Win Byts', 'Fwd Pkts/b Avg', 'Flow Pkts/s', 'Fwd IAT Mean', 'Bwd Pkt Len Mean', 'Bwd Pkts/s', 'Fwd Blk Rate Avg'], 'Adv sample 894': ['Bwd IAT Min', 'Bwd IAT Mean', 'Bwd IAT Max', 'Init Bwd Win Byts', 'Fwd Pkts/b Avg', 'Bwd Pkts/s', 'Bwd IAT Std', 'Bwd Pkt Len Min', 'Flow Pkts/s', 'Fwd Seg Size Avg'], 'Adv sample 895': ['ACK Flag Cnt', 'Bwd IAT Min', 'Bwd IAT Max', 'Bwd IAT Mean', 'Init Bwd Win Byts', 'Flow Pkts/s', 'Bwd Pkts/s', 'Fwd IAT Mean', 'Fwd Pkts/b Avg', 'Bwd Pkt Len Min'], 'Adv sample 896': ['Idle Std', 'ACK Flag Cnt', 'Init Bwd Win Byts', 'Bwd Byts/b Avg', 'Bwd Pkts/b Avg', 'Bwd Pkt Len Min', 'Bwd IAT Tot', 'Active Mean', 'Flow IAT Min', 'Bwd Seg Size Avg'], 'Adv sample 897': ['Bwd IAT Mean', 'Bwd IAT Min', 'Down/Up Ratio', 'Fwd Pkts/b Avg', 'Init Bwd Win Byts', 'Pkt Len Std', 'Active Mean', 'Pkt Len Min', 'Bwd Seg Size Avg', 'Flow IAT Std'], 'Adv sample 898': ['Bwd IAT Std', 'Fwd IAT Min', 'Init Bwd Win Byts', 'Bwd Pkts/b Avg', 'Flow IAT Std', 'Pkt Len Std', 'Bwd Seg Size Avg', 'Idle Std', 'Bwd IAT Max', 'Down/Up Ratio'], 'Adv sample 899': ['Bwd IAT Min', 'Bwd IAT Mean', 'Fwd IAT Mean', 'Init Bwd Win Byts', 'Fwd Pkts/b Avg', 'Down/Up Ratio', 'Fwd Blk Rate Avg', 'Flow Pkts/s', 'Fwd Pkt Len Min', 'Bwd Pkt Len Min'], 'Adv sample 900': ['ACK Flag Cnt', 'Idle Std', 'Init Bwd Win Byts', 'Down/Up Ratio', 'Bwd Pkts/b Avg', 'Bwd IAT Tot', 'Bwd Pkt Len Min', 'Bwd Byts/b Avg', 'Pkt Len Min', 'Fwd IAT Std'], 'Adv sample 901': ['SYN Flag Cnt', 'Bwd IAT Mean', 'Fwd IAT Min', 'Fwd Byts/b Avg', 'Fwd IAT Mean', 'Init Bwd Win Byts', 'Fwd Pkts/b Avg', 'Pkt Len Mean', 'Bwd Pkt Len Min', 'PSH Flag Cnt'], 'Adv sample 902': ['ACK Flag Cnt', 'Idle Std', 'Init Bwd Win Byts', 'Bwd Byts/b Avg', 'Bwd Pkts/b Avg', 'Pkt Len Min', 'Active Mean', 'Flow Duration', 'Fwd IAT Max', 'Tot Bwd Pkts'], 'Adv sample 903': ['Bwd IAT Min', 'Bwd IAT Max', 'ACK Flag Cnt', 'Bwd IAT Mean', 'Init Bwd Win Byts', 'Fwd IAT Mean', 'Bwd Pkts/s', 'Subflow Fwd Byts', 'Bwd Pkt Len Std', 'Bwd IAT Std'], 'Adv sample 904': ['SYN Flag Cnt', 'Bwd IAT Mean', 'Fwd Byts/b Avg', 'Fwd IAT Min', 'Init Bwd Win Byts', 'Flow Pkts/s', 'Fwd Pkts/b Avg', 'Bwd Header Len', 'Fwd IAT Mean', 'Fwd Header Len'], 'Adv sample 905': ['Bwd IAT Min', 'Bwd IAT Mean', 'Bwd IAT Max', 'Init Bwd Win Byts', 'Fwd Pkts/b Avg', 'Fwd IAT Mean', 'Flow Pkts/s', 'Fwd Seg Size Avg', 'Idle Max', 'Bwd Pkt Len Mean'], 'Adv sample 906': ['URG Flag Cnt', 'FIN Flag Cnt', 'Bwd URG Flags', 'Idle Min', 'Fwd IAT Mean', 'Init Bwd Win Byts', 'Bwd Seg Size Avg', 'Idle Mean', 'Flow Duration', 'Fwd Pkt Len Mean'], 'Adv sample 907': ['SYN Flag Cnt', 'Bwd IAT Mean', 'Fwd IAT Min', 'Fwd Byts/b Avg', 'Fwd Pkts/b Avg', 'Fwd IAT Mean', 'Down/Up Ratio', 'Init Bwd Win Byts', 'Bwd Pkt Len Mean', 'Bwd IAT Tot'], 'Adv sample 908': ['Bwd IAT Min', 'Bwd IAT Mean', 'Bwd IAT Max', 'Init Bwd Win Byts', 'Bwd Pkts/s', 'Fwd Pkts/b Avg', 'Down/Up Ratio', 'Pkt Len Std', 'Flow Pkts/s', 'Fwd IAT Mean'], 'Adv sample 909': ['ACK Flag Cnt', 'Bwd IAT Mean', 'Bwd IAT Max', 'Bwd IAT Min', 'Init Bwd Win Byts', 'Bwd Pkts/s', 'Flow Pkts/s', 'Fwd Pkts/b Avg', 'Down/Up Ratio', 'Bwd Header Len'], 'Adv sample 910': ['ACK Flag Cnt', 'Fwd IAT Mean', 'Bwd IAT Min', 'Idle Max', 'Init Bwd Win Byts', 'Bwd Pkt Len Max', 'Subflow Bwd Byts', 'Pkt Len Mean', 'Pkt Len Std', 'Pkt Len Max'], 'Adv sample 911': ['SYN Flag Cnt', 'Fwd IAT Min', 'Fwd IAT Mean', 'Init Bwd Win Byts', 'Fwd Byts/b Avg', 'Bwd Pkts/s', 'Flow Pkts/s', 'Bwd Pkts/b Avg', 'Subflow Bwd Byts', 'Active Std'], 'Adv sample 912': ['Bwd IAT Min', 'Bwd IAT Max', 'Bwd IAT Mean', 'Init Bwd Win Byts', 'Fwd Pkts/b Avg', 'Bwd Pkts/s', 'Bwd Pkt Len Max', 'Pkt Size Avg', 'Flow IAT Min', 'Fwd Blk Rate Avg'], 'Adv sample 913': ['Bwd IAT Min', 'Bwd IAT Mean', 'Fwd Pkts/b Avg', 'Init Bwd Win Byts', 'FIN Flag Cnt', 'Tot Fwd Pkts', 'Down/Up Ratio', 'Bwd Pkt Len Mean', 'Flow IAT Max', 'Pkt Len Min'], 'Adv sample 914': ['Bwd IAT Min', 'Bwd IAT Mean', 'Bwd IAT Max', 'Fwd Pkts/b Avg', 'Fwd Blk Rate Avg', 'Down/Up Ratio', 'Bwd Pkts/s', 'Init Bwd Win Byts', 'Flow Pkts/s', 'Bwd Pkt Len Mean'], 'Adv sample 915': ['Bwd IAT Min', 'Bwd IAT Mean', 'Bwd IAT Max', 'Init Bwd Win Byts', 'Fwd Pkts/b Avg', 'Bwd Pkts/s', 'Fwd IAT Mean', 'Bwd Pkt Len Max', 'Pkt Len Min', 'Down/Up Ratio'], 'Adv sample 916': ['SYN Flag Cnt', 'Bwd IAT Mean', 'Fwd IAT Min', 'Bwd IAT Max', 'Init Bwd Win Byts', 'Fwd Byts/b Avg', 'Bwd Seg Size Avg', 'Flow IAT Max', 'Pkt Len Min', 'Pkt Len Std'], 'Adv sample 917': ['Bwd Pkts/s', 'Init Bwd Win Byts', 'Fwd IAT Min', 'Bwd Pkt Len Min', 'Bwd IAT Min', 'Fwd Pkt Len Max', 'FIN Flag Cnt', 'Down/Up Ratio', 'Pkt Len Var', 'Flow Duration'], 'Adv sample 918': ['Bwd IAT Min', 'Bwd IAT Max', 'Bwd IAT Mean', 'Init Bwd Win Byts', 'Fwd Pkts/b Avg', 'Fwd IAT Mean', 'Pkt Len Mean', 'Down/Up Ratio', 'Fwd Pkt Len Max', 'Bwd Pkts/s'], 'Adv sample 919': ['ACK Flag Cnt', 'Active Mean', 'Flow IAT Std', 'Active Max', 'Flow IAT Mean', 'Init Bwd Win Byts', 'Flow Pkts/s', 'Fwd Pkt Len Min', 'Pkt Len Min', 'Tot Bwd Pkts'], 'Adv sample 920': ['Bwd IAT Min', 'Bwd IAT Mean', 'Bwd IAT Max', 'Init Bwd Win Byts', 'Bwd Pkts/s', 'Fwd Pkts/b Avg', 'Down/Up Ratio', 'Idle Mean', 'Fwd Pkt Len Std', 'Pkt Len Max'], 'Adv sample 921': ['SYN Flag Cnt', 'Bwd IAT Mean', 'Init Bwd Win Byts', 'Fwd IAT Min', 'Bwd IAT Max', 'Bwd Pkts/b Avg', 'Fwd Byts/b Avg', 'TotLen Bwd Pkts', 'Bwd PSH Flags', 'Bwd Pkts/s'], 'Adv sample 922': ['Bwd IAT Mean', 'Bwd IAT Min', 'Fwd Blk Rate Avg', 'Init Bwd Win Byts', 'Down/Up Ratio', 'Fwd Pkts/b Avg', 'Tot Bwd Pkts', 'Pkt Len Max', 'Fwd Pkt Len Mean', 'Flow IAT Min'], 'Adv sample 923': ['ACK Flag Cnt', 'Bwd IAT Min', 'Bwd IAT Mean', 'Bwd IAT Max', 'Init Bwd Win Byts', 'Bwd Pkts/s', 'Flow Pkts/s', 'Fwd IAT Mean', 'Flow IAT Max', 'Bwd Pkt Len Mean'], 'Adv sample 924': ['Bwd Pkts/s', 'Down/Up Ratio', 'Init Bwd Win Byts', 'Fwd IAT Min', 'Idle Mean', 'Fwd Pkt Len Min', 'Flow IAT Std', 'Pkt Len Min', 'Pkt Len Max', 'Flow Duration'], 'Adv sample 925': ['Bwd IAT Min', 'Bwd IAT Mean', 'Bwd IAT Max', 'Init Bwd Win Byts', 'Fwd Pkts/b Avg', 'Fwd IAT Mean', 'Down/Up Ratio', 'Bwd IAT Std', 'Pkt Len Min', 'Tot Fwd Pkts'], 'Adv sample 926': ['Bwd IAT Min', 'Bwd IAT Mean', 'Bwd IAT Max', 'Init Bwd Win Byts', 'Fwd Pkts/b Avg', 'Fwd IAT Mean', 'Bwd Pkts/s', 'Active Mean', 'Active Max', 'Flow Pkts/s'], 'Adv sample 927': ['SYN Flag Cnt', 'Fwd IAT Min', 'Init Bwd Win Byts', 'Fwd IAT Mean', 'Fwd Byts/b Avg', 'Bwd Pkts/b Avg', 'Bwd Pkts/s', 'Flow Pkts/s', 'Subflow Bwd Byts', 'Pkt Len Min'], 'Adv sample 928': ['ACK Flag Cnt', 'Bwd IAT Min', 'Bwd IAT Mean', 'Bwd IAT Max', 'Init Bwd Win Byts', 'Flow Pkts/s', 'Fwd IAT Mean', 'Bwd Pkts/s', 'Fwd Pkts/b Avg', 'Idle Std'], 'Adv sample 929': ['SYN Flag Cnt', 'Bwd IAT Mean', 'Init Bwd Win Byts', 'Fwd Byts/b Avg', 'Fwd IAT Min', 'Bwd Pkts/b Avg', 'Subflow Fwd Byts', 'Bwd Pkt Len Min', 'Bwd IAT Max', 'Bwd IAT Std'], 'Adv sample 930': ['Bwd IAT Min', 'Bwd IAT Mean', 'Bwd IAT Max', 'Init Bwd Win Byts', 'Bwd Pkts/s', 'Fwd Pkts/b Avg', 'Fwd Blk Rate Avg', 'Fwd Seg Size Avg', 'Bwd Pkt Len Std', 'Pkt Len Std'], 'Adv sample 931': ['Bwd IAT Min', 'Bwd IAT Mean', 'Bwd IAT Max', 'Init Bwd Win Byts', 'Fwd Pkts/b Avg', 'Bwd Pkts/s', 'Down/Up Ratio', 'Flow Pkts/s', 'Fwd IAT Mean', 'Pkt Len Mean'], 'Adv sample 932': ['Bwd IAT Mean', 'Bwd IAT Min', 'Fwd Blk Rate Avg', 'Fwd Pkts/b Avg', 'Down/Up Ratio', 'Pkt Len Min', 'Init Bwd Win Byts', 'Bwd PSH Flags', 'Bwd IAT Std', 'Pkt Size Avg'], 'Adv sample 933': ['SYN Flag Cnt', 'Bwd IAT Mean', 'Fwd IAT Min', 'Fwd Byts/b Avg', 'Bwd Pkts/b Avg', 'Init Bwd Win Byts', 'Idle Std', 'Fwd Pkt Len Min', 'Flow IAT Max', 'Flow IAT Min'], 'Adv sample 934': ['Bwd IAT Min', 'Bwd IAT Mean', 'Fwd Pkts/b Avg', 'Fwd IAT Mean', 'Pkt Len Min', 'Init Bwd Win Byts', 'Down/Up Ratio', 'Fwd Pkts/s', 'PSH Flag Cnt', 'Bwd Pkt Len Min'], 'Adv sample 935': ['ACK Flag Cnt', 'Active Mean', 'Active Max', 'Flow IAT Std', 'Init Bwd Win Byts', 'Fwd Seg Size Avg', 'Flow IAT Mean', 'Bwd Header Len', 'Pkt Len Min', 'Fwd IAT Mean'], 'Adv sample 936': ['ACK Flag Cnt', 'Bwd IAT Mean', 'Bwd IAT Min', 'Bwd IAT Max', 'Bwd Pkts/s', 'Init Bwd Win Byts', 'Flow Pkts/s', 'Fwd Pkts/b Avg', 'Fwd IAT Mean', 'Down/Up Ratio'], 'Adv sample 937': ['Bwd IAT Min', 'Bwd IAT Max', 'Bwd IAT Mean', 'ACK Flag Cnt', 'Init Bwd Win Byts', 'Fwd Pkts/b Avg', 'Flow Pkts/s', 'Fwd IAT Mean', 'Flow IAT Std', 'Bwd Pkts/s'], 'Adv sample 938': ['SYN Flag Cnt', 'Bwd IAT Mean', 'Fwd IAT Min', 'Bwd IAT Max', 'Fwd Byts/b Avg', 'Bwd IAT Tot', 'Init Bwd Win Byts', 'Bwd Pkts/b Avg', 'Fwd IAT Mean', 'TotLen Bwd Pkts'], 'Adv sample 939': ['ACK Flag Cnt', 'Idle Std', 'Init Bwd Win Byts', 'Down/Up Ratio', 'Bwd IAT Tot', 'Bwd Pkts/b Avg', 'Bwd Byts/b Avg', 'Tot Fwd Pkts', 'Fwd Seg Size Avg', 'Pkt Len Min'], 'Adv sample 940': ['SYN Flag Cnt', 'Bwd IAT Mean', 'Init Bwd Win Byts', 'Fwd IAT Min', 'Bwd IAT Max', 'Bwd Pkts/b Avg', 'Fwd Byts/b Avg', 'Pkt Len Max', 'Pkt Len Mean', 'Bwd IAT Std'], 'Adv sample 941': ['Bwd IAT Min', 'Bwd IAT Mean', 'Init Bwd Win Byts', 'Fwd Pkts/b Avg', 'Fwd Blk Rate Avg', 'Fwd IAT Mean', 'Flow Pkts/s', 'Down/Up Ratio', 'Idle Std', 'Active Max'], 'Adv sample 942': ['Bwd IAT Min', 'Bwd IAT Mean', 'Init Bwd Win Byts', 'Fwd Pkts/b Avg', 'Fwd IAT Mean', 'Fwd Blk Rate Avg', 'Pkt Len Max', 'Flow Pkts/s', 'Idle Min', 'Down/Up Ratio'], 'Adv sample 943': ['SYN Flag Cnt', 'Bwd IAT Mean', 'Fwd IAT Min', 'Fwd Byts/b Avg', 'Init Bwd Win Byts', 'Bwd Pkt Len Max', 'Pkt Len Var', 'Bwd Seg Size Avg', 'Fwd IAT Mean', 'Fwd Pkts/b Avg'], 'Adv sample 944': ['SYN Flag Cnt', 'Bwd IAT Mean', 'Fwd IAT Min', 'Fwd Byts/b Avg', 'Init Bwd Win Byts', 'Bwd IAT Max', 'Pkt Len Min', 'Pkt Len Std', 'Tot Fwd Pkts', 'Pkt Len Max'], 'Adv sample 945': ['SYN Flag Cnt', 'Bwd IAT Mean', 'Fwd IAT Min', 'Fwd Byts/b Avg', 'Bwd IAT Tot', 'Fwd Pkts/b Avg', 'Init Bwd Win Byts', 'Bwd IAT Max', 'Bwd Pkt Len Std', 'Pkt Len Mean'], 'Adv sample 946': ['ACK Flag Cnt', 'Bwd IAT Min', 'Bwd IAT Mean', 'Bwd IAT Max', 'Init Bwd Win Byts', 'Bwd Pkts/s', 'Flow Pkts/s', 'Fwd IAT Mean', 'Fwd Pkts/b Avg', 'Tot Fwd Pkts'], 'Adv sample 947': ['ACK Flag Cnt', 'Active Mean', 'Flow IAT Std', 'Active Max', 'Flow IAT Mean', 'TotLen Bwd Pkts', 'Init Bwd Win Byts', 'TotLen Fwd Pkts', 'Bwd Seg Size Avg', 'Fwd Seg Size Avg'], 'Adv sample 948': ['SYN Flag Cnt', 'Bwd IAT Mean', 'Fwd IAT Min', 'Fwd Byts/b Avg', 'Fwd IAT Mean', 'Init Bwd Win Byts', 'Fwd Pkt Len Min', 'Bwd Pkt Len Mean', 'Bwd IAT Max', 'Tot Fwd Pkts'], 'Adv sample 949': ['Bwd IAT Mean', 'ACK Flag Cnt', 'Bwd IAT Min', 'Fwd IAT Mean', 'Init Bwd Win Byts', 'Pkt Len Max', 'Fwd Header Len', 'Active Min', 'Tot Fwd Pkts', 'TotLen Fwd Pkts'], 'Adv sample 950': ['Bwd Pkts/s', 'Init Bwd Win Byts', 'Fwd IAT Min', 'Pkt Len Std', 'Bwd Pkt Len Max', 'Bwd Pkt Len Min', 'Tot Fwd Pkts', 'Tot Bwd Pkts', 'TotLen Bwd Pkts', 'Fwd Pkt Len Max'], 'Adv sample 951': ['ACK Flag Cnt', 'Idle Std', 'Init Bwd Win Byts', 'Down/Up Ratio', 'Bwd IAT Tot', 'Bwd Pkts/b Avg', 'Bwd Byts/b Avg', 'Fwd Seg Size Avg', 'Pkt Size Avg', 'Flow IAT Std'], 'Adv sample 952': ['SYN Flag Cnt', 'Bwd IAT Mean', 'Fwd IAT Min', 'Init Bwd Win Byts', 'Bwd IAT Max', 'Fwd Byts/b Avg', 'Bwd Pkts/b Avg', 'Pkt Size Avg', 'Fwd IAT Mean', 'Fwd Pkts/b Avg'], 'Adv sample 953': ['Bwd IAT Min', 'Bwd IAT Mean', 'Fwd Pkts/b Avg', 'Fwd IAT Mean', 'Init Bwd Win Byts', 'Down/Up Ratio', 'Pkt Len Mean', 'Pkt Len Std', 'Pkt Size Avg', 'Pkt Len Var'], 'Adv sample 954': ['SYN Flag Cnt', 'Init Bwd Win Byts', 'Fwd IAT Min', 'Fwd IAT Mean', 'Fwd Byts/b Avg', 'Bwd Pkts/s', 'Bwd Pkts/b Avg', 'Subflow Bwd Byts', 'Flow Pkts/s', 'Flow IAT Mean'], 'Adv sample 955': ['SYN Flag Cnt', 'Bwd IAT Mean', 'Fwd IAT Min', 'Fwd Byts/b Avg', 'Init Bwd Win Byts', 'Bwd Pkt Len Max', 'Fwd Pkts/b Avg', 'Bwd IAT Max', 'Bwd Seg Size Avg', 'Fwd Pkt Len Max'], 'Adv sample 956': ['Bwd IAT Min', 'Bwd IAT Mean', 'Bwd IAT Max', 'Init Bwd Win Byts', 'Bwd Pkts/s', 'Fwd Pkts/b Avg', 'Down/Up Ratio', 'Subflow Fwd Pkts', 'Fwd Blk Rate Avg', 'Flow Pkts/s'], 'Adv sample 957': ['SYN Flag Cnt', 'Bwd IAT Mean', 'Fwd IAT Min', 'Bwd IAT Max', 'Fwd IAT Mean', 'Fwd Byts/b Avg', 'Init Bwd Win Byts', 'Subflow Fwd Pkts', 'Flow IAT Min', 'Pkt Size Avg'], 'Adv sample 958': ['ACK Flag Cnt', 'Bwd IAT Min', 'Bwd IAT Max', 'Bwd IAT Mean', 'Init Bwd Win Byts', 'Bwd Pkts/s', 'Fwd IAT Mean', 'Flow Pkts/s', 'Fwd Pkts/b Avg', 'Fwd Header Len'], 'Adv sample 959': ['Bwd IAT Min', 'Bwd IAT Mean', 'Init Bwd Win Byts', 'Fwd IAT Mean', 'Flow Pkts/s', 'Fwd Pkts/b Avg', 'Fwd Blk Rate Avg', 'Down/Up Ratio', 'Idle Mean', 'Bwd Pkt Len Max'], 'Adv sample 960': ['Bwd IAT Mean', 'Bwd IAT Min', 'Fwd Pkts/b Avg', 'Init Bwd Win Byts', 'Down/Up Ratio', 'Fwd Blk Rate Avg', 'PSH Flag Cnt', 'Pkt Len Mean', 'Fwd Pkts/s', 'Idle Mean'], 'Adv sample 961': ['ACK Flag Cnt', 'Idle Std', 'Init Bwd Win Byts', 'Bwd IAT Tot', 'Down/Up Ratio', 'Bwd Byts/b Avg', 'Fwd Header Len', 'Fwd IAT Mean', 'Bwd Pkts/b Avg', 'Pkt Len Min'], 'Adv sample 962': ['Bwd IAT Min', 'Bwd IAT Mean', 'Fwd Pkts/b Avg', 'Init Bwd Win Byts', 'Fwd IAT Mean', 'Fwd Blk Rate Avg', 'Down/Up Ratio', 'Pkt Len Max', 'Active Mean', 'Subflow Fwd Byts'], 'Adv sample 963': ['ACK Flag Cnt', 'Flow IAT Mean', 'Init Bwd Win Byts', 'Fwd IAT Max', 'Fwd IAT Tot', 'Fwd IAT Mean', 'Bwd IAT Mean', 'Pkt Len Min', 'Subflow Bwd Pkts', 'TotLen Bwd Pkts'], 'Adv sample 964': ['URG Flag Cnt', 'FIN Flag Cnt', 'Fwd IAT Mean', 'Idle Min', 'Init Bwd Win Byts', 'Bwd URG Flags', 'Down/Up Ratio', 'Pkt Len Min', 'Subflow Bwd Pkts', 'Bwd Pkt Len Std'], 'Adv sample 965': ['Idle Std', 'ACK Flag Cnt', 'Bwd Byts/b Avg', 'Init Bwd Win Byts', 'Fwd IAT Tot', 'Pkt Len Std', 'Bwd Pkts/b Avg', 'Pkt Len Min', 'Pkt Len Max', 'Flow IAT Max'], 'Adv sample 966': ['ACK Flag Cnt', 'Active Mean', 'Active Max', 'Flow IAT Std', 'Flow IAT Mean', 'Init Bwd Win Byts', 'Pkt Len Mean', 'Bwd Seg Size Avg', 'Pkt Size Avg', 'Pkt Len Min'], 'Adv sample 967': ['Bwd IAT Min', 'Bwd IAT Mean', 'Bwd IAT Max', 'Init Bwd Win Byts', 'Bwd Pkts/s', 'Fwd Blk Rate Avg', 'Fwd Pkts/b Avg', 'Flow Pkts/s', 'Active Mean', 'Pkt Len Mean'], 'Adv sample 968': ['Bwd IAT Min', 'Bwd IAT Mean', 'Bwd IAT Max', 'Init Bwd Win Byts', 'Bwd Pkts/s', 'Fwd Pkts/b Avg', 'Flow Byts/s', 'Flow Pkts/s', 'Pkt Len Mean', 'Pkt Len Max'], 'Adv sample 969': ['SYN Flag Cnt', 'Bwd IAT Mean', 'Init Bwd Win Byts', 'Fwd IAT Min', 'Bwd IAT Max', 'Fwd Byts/b Avg', 'Bwd Pkt Len Min', 'Bwd Pkts/b Avg', 'Bwd Pkt Len Mean', 'Bwd IAT Tot'], 'Adv sample 970': ['Bwd IAT Min', 'Bwd IAT Mean', 'Init Bwd Win Byts', 'Fwd Pkts/b Avg', 'Fwd Blk Rate Avg', 'Fwd Pkt Len Std', 'Fwd IAT Mean', 'Flow Pkts/s', 'Pkt Len Max', 'Bwd IAT Max'], 'Adv sample 971': ['ACK Flag Cnt', 'Bwd IAT Min', 'Bwd IAT Mean', 'Bwd IAT Max', 'Init Bwd Win Byts', 'Bwd Pkts/s', 'Flow Pkts/s', 'Fwd IAT Mean', 'Bwd Header Len', 'Fwd Pkts/b Avg'], 'Adv sample 972': ['Bwd Pkts/s', 'Init Bwd Win Byts', 'Flow IAT Mean', 'Pkt Len Var', 'Bwd Seg Size Avg', 'Pkt Len Std', 'Flow Byts/s', 'Bwd IAT Mean', 'Fwd Seg Size Avg', 'Flow Duration'], 'Adv sample 973': ['SYN Flag Cnt', 'Bwd IAT Mean', 'Fwd IAT Min', 'Init Bwd Win Byts', 'Bwd IAT Max', 'Fwd Byts/b Avg', 'Bwd Pkts/b Avg', 'Flow IAT Min', 'Fwd IAT Mean', 'Fwd Pkt Len Std'], 'Adv sample 974': ['Bwd IAT Min', 'Bwd IAT Mean', 'Bwd IAT Max', 'Init Bwd Win Byts', 'Fwd Pkts/b Avg', 'Pkt Len Max', 'Subflow Bwd Byts', 'Down/Up Ratio', 'Fwd Pkt Len Min', 'PSH Flag Cnt'], 'Adv sample 975': ['SYN Flag Cnt', 'Bwd IAT Mean', 'Init Bwd Win Byts', 'Fwd IAT Min', 'Bwd IAT Max', 'Fwd Byts/b Avg', 'Pkt Len Min', 'Bwd Pkts/b Avg', 'Fwd IAT Mean', 'Bwd IAT Std'], 'Adv sample 976': ['SYN Flag Cnt', 'Bwd IAT Mean', 'Fwd IAT Min', 'Fwd Byts/b Avg', 'Pkt Size Avg', 'Init Bwd Win Byts', 'Fwd Pkt Len Mean', 'Bwd IAT Tot', 'Flow IAT Min', 'PSH Flag Cnt'], 'Adv sample 977': ['SYN Flag Cnt', 'Fwd IAT Mean', 'Fwd IAT Min', 'Init Bwd Win Byts', 'Fwd Byts/b Avg', 'Flow Pkts/s', 'Bwd Pkts/s', 'Bwd Pkt Len Min', 'Pkt Len Min', 'Subflow Fwd Byts'], 'Adv sample 978': ['SYN Flag Cnt', 'Bwd IAT Mean', 'Fwd IAT Min', 'Fwd Byts/b Avg', 'Pkt Len Mean', 'Init Bwd Win Byts', 'Fwd Pkts/b Avg', 'Bwd Pkt Len Mean', 'Bwd IAT Max', 'Flow Duration'], 'Adv sample 979': ['Bwd Pkts/s', 'Init Bwd Win Byts', 'PSH Flag Cnt', 'Down/Up Ratio', 'Subflow Bwd Pkts', 'Pkt Len Std', 'Subflow Bwd Byts', 'Flow Duration', 'Fwd IAT Min', 'Flow IAT Min'], 'Adv sample 980': ['Bwd Pkts/s', 'Init Bwd Win Byts', 'Fwd IAT Min', 'Bwd Pkt Len Std', 'Down/Up Ratio', 'Idle Mean', 'Fwd Pkt Len Max', 'Flow Duration', 'Tot Fwd Pkts', 'Tot Bwd Pkts'], 'Adv sample 981': ['Bwd IAT Min', 'Bwd IAT Mean', 'Bwd IAT Max', 'Init Bwd Win Byts', 'Fwd Pkts/b Avg', 'Bwd Pkts/s', 'Flow Pkts/s', 'Bwd Pkt Len Max', 'Flow IAT Std', 'Fwd IAT Mean'], 'Adv sample 982': ['Idle Std', 'ACK Flag Cnt', 'Init Bwd Win Byts', 'Bwd Byts/b Avg', 'Pkt Len Min', 'Bwd Pkts/b Avg', 'Bwd IAT Tot', 'Tot Bwd Pkts', 'Idle Max', 'Flow Duration'], 'Adv sample 983': ['ACK Flag Cnt', 'Idle Std', 'Init Bwd Win Byts', 'Bwd IAT Tot', 'Down/Up Ratio', 'Bwd Pkts/b Avg', 'Bwd Byts/b Avg', 'Bwd Pkt Len Max', 'Fwd IAT Max', 'Fwd IAT Tot'], 'Adv sample 984': ['URG Flag Cnt', 'FIN Flag Cnt', 'Bwd URG Flags', 'Fwd IAT Mean', 'Init Bwd Win Byts', 'Idle Min', 'Down/Up Ratio', 'Fwd Seg Size Avg', 'Pkt Len Min', 'Fwd IAT Min'], 'Adv sample 985': ['Bwd IAT Mean', 'Bwd IAT Min', 'Fwd Pkts/b Avg', 'Init Bwd Win Byts', 'Fwd Blk Rate Avg', 'Bwd Pkt Len Min', 'Fwd Pkt Len Max', 'Bwd Header Len', 'Down/Up Ratio', 'Subflow Fwd Pkts'], 'Adv sample 986': ['Bwd IAT Min', 'Bwd IAT Mean', 'Bwd IAT Max', 'Init Bwd Win Byts', 'Fwd Pkts/b Avg', 'Down/Up Ratio', 'Fwd IAT Mean', 'Flow Pkts/s', 'Bwd Pkt Len Min', 'Bwd Seg Size Avg'], 'Adv sample 987': ['ACK Flag Cnt', 'Active Mean', 'Flow IAT Std', 'Active Max', 'Flow IAT Mean', 'Init Bwd Win Byts', 'Bwd IAT Min', 'Subflow Fwd Byts', 'Fwd Seg Size Avg', 'Fwd IAT Mean'], 'Adv sample 988': ['ACK Flag Cnt', 'Bwd IAT Mean', 'Bwd IAT Min', 'Bwd IAT Max', 'Init Bwd Win Byts', 'Flow Pkts/s', 'Bwd Pkts/s', 'Fwd IAT Mean', 'Fwd Pkt Len Std', 'Down/Up Ratio'], 'Adv sample 989': ['ACK Flag Cnt', 'Fwd IAT Mean', 'Bwd IAT Min', 'Init Bwd Win Byts', 'Idle Max', 'Flow Duration', 'Pkt Len Mean', 'Bwd Pkt Len Mean', 'Flow IAT Std', 'Pkt Len Min'], 'Adv sample 990': ['ACK Flag Cnt', 'Idle Std', 'Init Bwd Win Byts', 'Down/Up Ratio', 'Bwd Pkts/b Avg', 'Fwd Pkt Len Std', 'Bwd IAT Tot', 'Bwd Byts/b Avg', 'Pkt Len Min', 'Subflow Fwd Byts'], 'Adv sample 991': ['Idle Std', 'ACK Flag Cnt', 'Init Bwd Win Byts', 'Bwd Byts/b Avg', 'Flow IAT Min', 'Pkt Len Min', 'Fwd IAT Max', 'Fwd IAT Tot', 'Subflow Bwd Pkts', 'Bwd IAT Tot'], 'Adv sample 992': ['Bwd IAT Mean', 'Bwd IAT Min', 'Fwd Blk Rate Avg', 'Fwd Pkts/b Avg', 'Init Bwd Win Byts', 'Subflow Bwd Byts', 'Active Max', 'Bwd Pkt Len Mean', 'Bwd Seg Size Avg', 'Pkt Len Min'], 'Adv sample 993': ['ACK Flag Cnt', 'Idle Std', 'Init Bwd Win Byts', 'Bwd IAT Tot', 'Bwd Pkts/b Avg', 'Down/Up Ratio', 'Pkt Len Min', 'Flow IAT Max', 'Fwd Pkt Len Min', 'PSH Flag Cnt'], 'Adv sample 994': ['Bwd IAT Min', 'Bwd IAT Mean', 'Bwd IAT Max', 'Fwd Pkts/b Avg', 'Init Bwd Win Byts', 'Fwd Blk Rate Avg', 'Down/Up Ratio', 'TotLen Fwd Pkts', 'Pkt Len Mean', 'Bwd Seg Size Avg'], 'Adv sample 995': ['Bwd IAT Min', 'Bwd IAT Mean', 'Bwd IAT Max', 'Init Bwd Win Byts', 'Bwd Pkts/s', 'Fwd Pkts/b Avg', 'Pkt Len Mean', 'Idle Max', 'Fwd Blk Rate Avg', 'Bwd PSH Flags'], 'Adv sample 996': ['Bwd IAT Min', 'Bwd IAT Mean', 'Init Bwd Win Byts', 'Fwd IAT Mean', 'Fwd Blk Rate Avg', 'Fwd Pkts/b Avg', 'Flow Pkts/s', 'Down/Up Ratio', 'Flow IAT Min', 'Idle Max'], 'Adv sample 997': ['SYN Flag Cnt', 'Fwd IAT Min', 'Fwd IAT Mean', 'Fwd Byts/b Avg', 'Bwd Pkts/s', 'Init Bwd Win Byts', 'Fwd Pkts/b Avg', 'Flow Pkts/s', 'Fwd IAT Std', 'Subflow Fwd Pkts'], 'Adv sample 998': ['Bwd IAT Min', 'Bwd IAT Mean', 'Bwd IAT Max', 'Init Bwd Win Byts', 'Fwd Pkts/b Avg', 'Down/Up Ratio', 'Bwd Pkt Len Min', 'Fwd IAT Mean', 'Bwd Pkt Len Mean', 'TotLen Fwd Pkts'], 'Adv sample 999': ['ACK Flag Cnt', 'Bwd IAT Min', 'Bwd IAT Mean', 'Bwd IAT Max', 'Init Bwd Win Byts', 'Bwd Pkts/s', 'Flow Pkts/s', 'Fwd Pkts/b Avg', 'Idle Mean', 'Fwd IAT Min']}\n"
          ]
        }
      ]
    },
    {
      "cell_type": "code",
      "source": [
        "len(shap_values[0])"
      ],
      "metadata": {
        "colab": {
          "base_uri": "https://localhost:8080/"
        },
        "id": "YdyTABeHYa2k",
        "outputId": "ebc1c1a2-dc20-4933-86f2-c729ef0190ec"
      },
      "execution_count": 19,
      "outputs": [
        {
          "output_type": "execute_result",
          "data": {
            "text/plain": [
              "1000"
            ]
          },
          "metadata": {},
          "execution_count": 19
        }
      ]
    },
    {
      "cell_type": "code",
      "source": [
        "len(data_dict)"
      ],
      "metadata": {
        "colab": {
          "base_uri": "https://localhost:8080/"
        },
        "id": "rUB23r63Tjug",
        "outputId": "32b77402-8876-41e2-dd58-f89231a27f0b"
      },
      "execution_count": 20,
      "outputs": [
        {
          "output_type": "execute_result",
          "data": {
            "text/plain": [
              "1000"
            ]
          },
          "metadata": {},
          "execution_count": 20
        }
      ]
    },
    {
      "cell_type": "markdown",
      "source": [
        "# Detection phase"
      ],
      "metadata": {
        "id": "E8tWQQDtNIJk"
      }
    },
    {
      "cell_type": "code",
      "source": [
        "import os\n",
        "import pandas as pd"
      ],
      "metadata": {
        "id": "mmslrdn7z7Zf"
      },
      "execution_count": 21,
      "outputs": []
    },
    {
      "cell_type": "code",
      "source": [
        "whitelist_df = pd.read_csv('/content/drive/MyDrive/MLP_top24_InSDN.csv')\n",
        "whitelist_df.head(24)"
      ],
      "metadata": {
        "colab": {
          "base_uri": "https://localhost:8080/",
          "height": 801
        },
        "id": "aQJa-f1GPxvz",
        "outputId": "1b61487a-3885-4c5d-adb5-c65f39410892"
      },
      "execution_count": 27,
      "outputs": [
        {
          "output_type": "execute_result",
          "data": {
            "text/plain": [
              "              Feature  Frequency\n",
              "0   Init Bwd Win Byts        786\n",
              "1            Idle Max        546\n",
              "2     Bwd Pkt Len Max        531\n",
              "3           Idle Mean        449\n",
              "4        Tot Fwd Pkts        432\n",
              "5            Idle Min        413\n",
              "6     Bwd Pkt Len Std        399\n",
              "7        Tot Bwd Pkts        395\n",
              "8    Bwd Pkt Len Mean        382\n",
              "9     TotLen Fwd Pkts        373\n",
              "10    TotLen Bwd Pkts        372\n",
              "11        Bwd IAT Max        364\n",
              "12        Bwd IAT Tot        341\n",
              "13        Fwd IAT Max        323\n",
              "14   Bwd Seg Size Avg        308\n",
              "15        Pkt Len Min        296\n",
              "16       SYN Flag Cnt        293\n",
              "17      Flow Duration        276\n",
              "18    Fwd Pkt Len Std        275\n",
              "19        Fwd IAT Tot        273\n",
              "20        Bwd IAT Std        273\n",
              "21        Flow Pkts/s        265\n",
              "22      Down/Up Ratio        245\n",
              "23        Fwd IAT Std        231"
            ],
            "text/html": [
              "\n",
              "  <div id=\"df-03c572f3-b795-46a8-a63c-7150ef0f9414\">\n",
              "    <div class=\"colab-df-container\">\n",
              "      <div>\n",
              "<style scoped>\n",
              "    .dataframe tbody tr th:only-of-type {\n",
              "        vertical-align: middle;\n",
              "    }\n",
              "\n",
              "    .dataframe tbody tr th {\n",
              "        vertical-align: top;\n",
              "    }\n",
              "\n",
              "    .dataframe thead th {\n",
              "        text-align: right;\n",
              "    }\n",
              "</style>\n",
              "<table border=\"1\" class=\"dataframe\">\n",
              "  <thead>\n",
              "    <tr style=\"text-align: right;\">\n",
              "      <th></th>\n",
              "      <th>Feature</th>\n",
              "      <th>Frequency</th>\n",
              "    </tr>\n",
              "  </thead>\n",
              "  <tbody>\n",
              "    <tr>\n",
              "      <th>0</th>\n",
              "      <td>Init Bwd Win Byts</td>\n",
              "      <td>786</td>\n",
              "    </tr>\n",
              "    <tr>\n",
              "      <th>1</th>\n",
              "      <td>Idle Max</td>\n",
              "      <td>546</td>\n",
              "    </tr>\n",
              "    <tr>\n",
              "      <th>2</th>\n",
              "      <td>Bwd Pkt Len Max</td>\n",
              "      <td>531</td>\n",
              "    </tr>\n",
              "    <tr>\n",
              "      <th>3</th>\n",
              "      <td>Idle Mean</td>\n",
              "      <td>449</td>\n",
              "    </tr>\n",
              "    <tr>\n",
              "      <th>4</th>\n",
              "      <td>Tot Fwd Pkts</td>\n",
              "      <td>432</td>\n",
              "    </tr>\n",
              "    <tr>\n",
              "      <th>5</th>\n",
              "      <td>Idle Min</td>\n",
              "      <td>413</td>\n",
              "    </tr>\n",
              "    <tr>\n",
              "      <th>6</th>\n",
              "      <td>Bwd Pkt Len Std</td>\n",
              "      <td>399</td>\n",
              "    </tr>\n",
              "    <tr>\n",
              "      <th>7</th>\n",
              "      <td>Tot Bwd Pkts</td>\n",
              "      <td>395</td>\n",
              "    </tr>\n",
              "    <tr>\n",
              "      <th>8</th>\n",
              "      <td>Bwd Pkt Len Mean</td>\n",
              "      <td>382</td>\n",
              "    </tr>\n",
              "    <tr>\n",
              "      <th>9</th>\n",
              "      <td>TotLen Fwd Pkts</td>\n",
              "      <td>373</td>\n",
              "    </tr>\n",
              "    <tr>\n",
              "      <th>10</th>\n",
              "      <td>TotLen Bwd Pkts</td>\n",
              "      <td>372</td>\n",
              "    </tr>\n",
              "    <tr>\n",
              "      <th>11</th>\n",
              "      <td>Bwd IAT Max</td>\n",
              "      <td>364</td>\n",
              "    </tr>\n",
              "    <tr>\n",
              "      <th>12</th>\n",
              "      <td>Bwd IAT Tot</td>\n",
              "      <td>341</td>\n",
              "    </tr>\n",
              "    <tr>\n",
              "      <th>13</th>\n",
              "      <td>Fwd IAT Max</td>\n",
              "      <td>323</td>\n",
              "    </tr>\n",
              "    <tr>\n",
              "      <th>14</th>\n",
              "      <td>Bwd Seg Size Avg</td>\n",
              "      <td>308</td>\n",
              "    </tr>\n",
              "    <tr>\n",
              "      <th>15</th>\n",
              "      <td>Pkt Len Min</td>\n",
              "      <td>296</td>\n",
              "    </tr>\n",
              "    <tr>\n",
              "      <th>16</th>\n",
              "      <td>SYN Flag Cnt</td>\n",
              "      <td>293</td>\n",
              "    </tr>\n",
              "    <tr>\n",
              "      <th>17</th>\n",
              "      <td>Flow Duration</td>\n",
              "      <td>276</td>\n",
              "    </tr>\n",
              "    <tr>\n",
              "      <th>18</th>\n",
              "      <td>Fwd Pkt Len Std</td>\n",
              "      <td>275</td>\n",
              "    </tr>\n",
              "    <tr>\n",
              "      <th>19</th>\n",
              "      <td>Fwd IAT Tot</td>\n",
              "      <td>273</td>\n",
              "    </tr>\n",
              "    <tr>\n",
              "      <th>20</th>\n",
              "      <td>Bwd IAT Std</td>\n",
              "      <td>273</td>\n",
              "    </tr>\n",
              "    <tr>\n",
              "      <th>21</th>\n",
              "      <td>Flow Pkts/s</td>\n",
              "      <td>265</td>\n",
              "    </tr>\n",
              "    <tr>\n",
              "      <th>22</th>\n",
              "      <td>Down/Up Ratio</td>\n",
              "      <td>245</td>\n",
              "    </tr>\n",
              "    <tr>\n",
              "      <th>23</th>\n",
              "      <td>Fwd IAT Std</td>\n",
              "      <td>231</td>\n",
              "    </tr>\n",
              "  </tbody>\n",
              "</table>\n",
              "</div>\n",
              "      <button class=\"colab-df-convert\" onclick=\"convertToInteractive('df-03c572f3-b795-46a8-a63c-7150ef0f9414')\"\n",
              "              title=\"Convert this dataframe to an interactive table.\"\n",
              "              style=\"display:none;\">\n",
              "        \n",
              "  <svg xmlns=\"http://www.w3.org/2000/svg\" height=\"24px\"viewBox=\"0 0 24 24\"\n",
              "       width=\"24px\">\n",
              "    <path d=\"M0 0h24v24H0V0z\" fill=\"none\"/>\n",
              "    <path d=\"M18.56 5.44l.94 2.06.94-2.06 2.06-.94-2.06-.94-.94-2.06-.94 2.06-2.06.94zm-11 1L8.5 8.5l.94-2.06 2.06-.94-2.06-.94L8.5 2.5l-.94 2.06-2.06.94zm10 10l.94 2.06.94-2.06 2.06-.94-2.06-.94-.94-2.06-.94 2.06-2.06.94z\"/><path d=\"M17.41 7.96l-1.37-1.37c-.4-.4-.92-.59-1.43-.59-.52 0-1.04.2-1.43.59L10.3 9.45l-7.72 7.72c-.78.78-.78 2.05 0 2.83L4 21.41c.39.39.9.59 1.41.59.51 0 1.02-.2 1.41-.59l7.78-7.78 2.81-2.81c.8-.78.8-2.07 0-2.86zM5.41 20L4 18.59l7.72-7.72 1.47 1.35L5.41 20z\"/>\n",
              "  </svg>\n",
              "      </button>\n",
              "      \n",
              "  <style>\n",
              "    .colab-df-container {\n",
              "      display:flex;\n",
              "      flex-wrap:wrap;\n",
              "      gap: 12px;\n",
              "    }\n",
              "\n",
              "    .colab-df-convert {\n",
              "      background-color: #E8F0FE;\n",
              "      border: none;\n",
              "      border-radius: 50%;\n",
              "      cursor: pointer;\n",
              "      display: none;\n",
              "      fill: #1967D2;\n",
              "      height: 32px;\n",
              "      padding: 0 0 0 0;\n",
              "      width: 32px;\n",
              "    }\n",
              "\n",
              "    .colab-df-convert:hover {\n",
              "      background-color: #E2EBFA;\n",
              "      box-shadow: 0px 1px 2px rgba(60, 64, 67, 0.3), 0px 1px 3px 1px rgba(60, 64, 67, 0.15);\n",
              "      fill: #174EA6;\n",
              "    }\n",
              "\n",
              "    [theme=dark] .colab-df-convert {\n",
              "      background-color: #3B4455;\n",
              "      fill: #D2E3FC;\n",
              "    }\n",
              "\n",
              "    [theme=dark] .colab-df-convert:hover {\n",
              "      background-color: #434B5C;\n",
              "      box-shadow: 0px 1px 3px 1px rgba(0, 0, 0, 0.15);\n",
              "      filter: drop-shadow(0px 1px 2px rgba(0, 0, 0, 0.3));\n",
              "      fill: #FFFFFF;\n",
              "    }\n",
              "  </style>\n",
              "\n",
              "      <script>\n",
              "        const buttonEl =\n",
              "          document.querySelector('#df-03c572f3-b795-46a8-a63c-7150ef0f9414 button.colab-df-convert');\n",
              "        buttonEl.style.display =\n",
              "          google.colab.kernel.accessAllowed ? 'block' : 'none';\n",
              "\n",
              "        async function convertToInteractive(key) {\n",
              "          const element = document.querySelector('#df-03c572f3-b795-46a8-a63c-7150ef0f9414');\n",
              "          const dataTable =\n",
              "            await google.colab.kernel.invokeFunction('convertToInteractive',\n",
              "                                                     [key], {});\n",
              "          if (!dataTable) return;\n",
              "\n",
              "          const docLinkHtml = 'Like what you see? Visit the ' +\n",
              "            '<a target=\"_blank\" href=https://colab.research.google.com/notebooks/data_table.ipynb>data table notebook</a>'\n",
              "            + ' to learn more about interactive tables.';\n",
              "          element.innerHTML = '';\n",
              "          dataTable['output_type'] = 'display_data';\n",
              "          await google.colab.output.renderOutput(dataTable, element);\n",
              "          const docLink = document.createElement('div');\n",
              "          docLink.innerHTML = docLinkHtml;\n",
              "          element.appendChild(docLink);\n",
              "        }\n",
              "      </script>\n",
              "    </div>\n",
              "  </div>\n",
              "  "
            ]
          },
          "metadata": {},
          "execution_count": 27
        }
      ]
    },
    {
      "cell_type": "markdown",
      "source": [
        "## Detection rate (top 51) = 997/1000"
      ],
      "metadata": {
        "id": "PkqSAZakWXM8"
      }
    },
    {
      "cell_type": "code",
      "source": [
        "whitelist = whitelist_df.iloc[:, 0][:51].tolist()\n",
        "print(whitelist)"
      ],
      "metadata": {
        "colab": {
          "base_uri": "https://localhost:8080/"
        },
        "id": "hiA70yr9QStE",
        "outputId": "aebcbbe1-2220-442d-f011-e6298fd576e1"
      },
      "execution_count": 34,
      "outputs": [
        {
          "output_type": "stream",
          "name": "stdout",
          "text": [
            "['Init Bwd Win Byts', 'Idle Max', 'Bwd Pkt Len Max', 'Idle Mean', 'Tot Fwd Pkts', 'Idle Min', 'Bwd Pkt Len Std', 'Tot Bwd Pkts', 'Bwd Pkt Len Mean', 'TotLen Fwd Pkts', 'TotLen Bwd Pkts', 'Bwd IAT Max', 'Bwd IAT Tot', 'Fwd IAT Max', 'Bwd Seg Size Avg', 'Pkt Len Min', 'SYN Flag Cnt', 'Flow Duration', 'Fwd Pkt Len Std', 'Fwd IAT Tot', 'Bwd IAT Std', 'Flow Pkts/s', 'Down/Up Ratio', 'Fwd IAT Std', 'Fwd Pkt Len Min', 'Fwd Pkt Len Max', 'Subflow Bwd Pkts', 'Bwd Pkt Len Min', 'Flow IAT Mean', 'Flow IAT Min', 'Fwd IAT Min', 'Bwd IAT Mean', 'Bwd IAT Min', 'Bwd Header Len', 'Subflow Bwd Byts', 'Subflow Fwd Byts', 'Fwd Header Len', 'Bwd PSH Flags', 'Idle Std', 'Fwd Pkts/s', 'Fwd Act Data Pkts', 'Pkt Len Max', 'Fwd IAT Mean', 'Active Max', 'Active Std', 'Pkt Len Std', 'Pkt Len Var', 'Subflow Fwd Pkts', 'Flow Byts/s', 'Pkt Size Avg', 'Active Mean']\n"
          ]
        }
      ]
    },
    {
      "cell_type": "code",
      "source": [
        "alert = []\n",
        "\n",
        "# Iterate over each key-value pair in the data_dict\n",
        "for key, value in data_dict.items():\n",
        "    # Check if there are one feature is not in the whitelist\n",
        "    for string in value:\n",
        "      if string not in whitelist:\n",
        "        alert.append(key)\n",
        "        break\n",
        "\n",
        "# Print the alert dictionary\n",
        "print(\"Alert list length:\" + str(len(alert)))"
      ],
      "metadata": {
        "colab": {
          "base_uri": "https://localhost:8080/"
        },
        "id": "GWIJRBYkUwhx",
        "outputId": "b6b948dc-18b9-4970-ead6-f4819686c80a"
      },
      "execution_count": 35,
      "outputs": [
        {
          "output_type": "stream",
          "name": "stdout",
          "text": [
            "Alert list length:997\n"
          ]
        }
      ]
    },
    {
      "cell_type": "markdown",
      "source": [
        "## Detection rate (top 59) = 902/1000"
      ],
      "metadata": {
        "id": "NddVIE7MU9m-"
      }
    },
    {
      "cell_type": "code",
      "source": [
        "whitelist2 = whitelist_df.iloc[:, 0][:59].tolist()\n",
        "print(whitelist2)"
      ],
      "metadata": {
        "colab": {
          "base_uri": "https://localhost:8080/"
        },
        "id": "QTKqfqrEWMLV",
        "outputId": "e10cdf80-c8db-4fc1-f1fd-c57f99e4bca5"
      },
      "execution_count": 30,
      "outputs": [
        {
          "output_type": "stream",
          "name": "stdout",
          "text": [
            "['Init Bwd Win Byts', 'Idle Max', 'Bwd Pkt Len Max', 'Idle Mean', 'Tot Fwd Pkts', 'Idle Min', 'Bwd Pkt Len Std', 'Tot Bwd Pkts', 'Bwd Pkt Len Mean', 'TotLen Fwd Pkts', 'TotLen Bwd Pkts', 'Bwd IAT Max', 'Bwd IAT Tot', 'Fwd IAT Max', 'Bwd Seg Size Avg', 'Pkt Len Min', 'SYN Flag Cnt', 'Flow Duration', 'Fwd Pkt Len Std', 'Fwd IAT Tot', 'Bwd IAT Std', 'Flow Pkts/s', 'Down/Up Ratio', 'Fwd IAT Std', 'Fwd Pkt Len Min', 'Fwd Pkt Len Max', 'Subflow Bwd Pkts', 'Bwd Pkt Len Min', 'Flow IAT Mean', 'Flow IAT Min', 'Fwd IAT Min', 'Bwd IAT Mean', 'Bwd IAT Min', 'Bwd Header Len', 'Subflow Bwd Byts', 'Subflow Fwd Byts', 'Fwd Header Len', 'Bwd PSH Flags', 'Idle Std', 'Fwd Pkts/s', 'Fwd Act Data Pkts', 'Pkt Len Max', 'Fwd IAT Mean', 'Active Max', 'Active Std', 'Pkt Len Std', 'Pkt Len Var', 'Subflow Fwd Pkts', 'Flow Byts/s', 'Pkt Size Avg', 'Active Mean', 'ACK Flag Cnt', 'Flow IAT Max', 'Active Min', 'Pkt Len Mean', 'Fwd Pkt Len Mean', 'Flow IAT Std', 'Fwd Seg Size Avg', 'PSH Flag Cnt']\n"
          ]
        }
      ]
    },
    {
      "cell_type": "code",
      "source": [
        "alert2 = []\n",
        "\n",
        "# Iterate over each key-value pair in the data_dict\n",
        "for key, value in data_dict.items():\n",
        "    # Check if there are one feature is not in the whitelist\n",
        "    for string in value:\n",
        "      if string not in whitelist2:\n",
        "        alert2.append(key)\n",
        "        break\n",
        "\n",
        "# Print the alert dictionary\n",
        "print(\"Alert list length:\" + str(len(alert2)))"
      ],
      "metadata": {
        "colab": {
          "base_uri": "https://localhost:8080/"
        },
        "id": "p_i5J0kxVyCx",
        "outputId": "dcd08c76-c2f5-4ea1-fa3a-9d44993e13b1"
      },
      "execution_count": 31,
      "outputs": [
        {
          "output_type": "stream",
          "name": "stdout",
          "text": [
            "Alert list length:902\n"
          ]
        }
      ]
    }
  ]
}