{
  "nbformat": 4,
  "nbformat_minor": 0,
  "metadata": {
    "colab": {
      "provenance": [],
      "mount_file_id": "1xc7O7eU6O9HgJchOEb2dcjEz_jpBBWJd",
      "authorship_tag": "ABX9TyP7l/8rh8APavTfGtnfG2DZ",
      "include_colab_link": true
    },
    "kernelspec": {
      "name": "python3",
      "display_name": "Python 3"
    },
    "language_info": {
      "name": "python"
    },
    "widgets": {
      "application/vnd.jupyter.widget-state+json": {
        "391b1f4a04e44bca91cbda1b5ef7ce0c": {
          "model_module": "@jupyter-widgets/controls",
          "model_name": "HBoxModel",
          "model_module_version": "1.5.0",
          "state": {
            "_dom_classes": [],
            "_model_module": "@jupyter-widgets/controls",
            "_model_module_version": "1.5.0",
            "_model_name": "HBoxModel",
            "_view_count": null,
            "_view_module": "@jupyter-widgets/controls",
            "_view_module_version": "1.5.0",
            "_view_name": "HBoxView",
            "box_style": "",
            "children": [
              "IPY_MODEL_fab2c65772a442dcb668fe02eb96e4ae",
              "IPY_MODEL_69c1e8bb25ab49459f8109e7f740236b",
              "IPY_MODEL_75cbef513c384c7c8c1e4b07b0e0a92e"
            ],
            "layout": "IPY_MODEL_6e566a47adb54f54887d568d11b01e5a"
          }
        },
        "fab2c65772a442dcb668fe02eb96e4ae": {
          "model_module": "@jupyter-widgets/controls",
          "model_name": "HTMLModel",
          "model_module_version": "1.5.0",
          "state": {
            "_dom_classes": [],
            "_model_module": "@jupyter-widgets/controls",
            "_model_module_version": "1.5.0",
            "_model_name": "HTMLModel",
            "_view_count": null,
            "_view_module": "@jupyter-widgets/controls",
            "_view_module_version": "1.5.0",
            "_view_name": "HTMLView",
            "description": "",
            "description_tooltip": null,
            "layout": "IPY_MODEL_6e9614ea44e242acb28c3dcd9ac068ae",
            "placeholder": "​",
            "style": "IPY_MODEL_5ea57c6c53964ff5947a2514e61099be",
            "value": "100%"
          }
        },
        "69c1e8bb25ab49459f8109e7f740236b": {
          "model_module": "@jupyter-widgets/controls",
          "model_name": "FloatProgressModel",
          "model_module_version": "1.5.0",
          "state": {
            "_dom_classes": [],
            "_model_module": "@jupyter-widgets/controls",
            "_model_module_version": "1.5.0",
            "_model_name": "FloatProgressModel",
            "_view_count": null,
            "_view_module": "@jupyter-widgets/controls",
            "_view_module_version": "1.5.0",
            "_view_name": "ProgressView",
            "bar_style": "success",
            "description": "",
            "description_tooltip": null,
            "layout": "IPY_MODEL_01f18a0f57444417869030e3c45689a5",
            "max": 100,
            "min": 0,
            "orientation": "horizontal",
            "style": "IPY_MODEL_28450525e34b41f3a6f66ada3549db2d",
            "value": 100
          }
        },
        "75cbef513c384c7c8c1e4b07b0e0a92e": {
          "model_module": "@jupyter-widgets/controls",
          "model_name": "HTMLModel",
          "model_module_version": "1.5.0",
          "state": {
            "_dom_classes": [],
            "_model_module": "@jupyter-widgets/controls",
            "_model_module_version": "1.5.0",
            "_model_name": "HTMLModel",
            "_view_count": null,
            "_view_module": "@jupyter-widgets/controls",
            "_view_module_version": "1.5.0",
            "_view_name": "HTMLView",
            "description": "",
            "description_tooltip": null,
            "layout": "IPY_MODEL_5838b71dc5104053b172489cdc08cc89",
            "placeholder": "​",
            "style": "IPY_MODEL_e8f57e6d6e2949cf8a70dbbfd37f1f96",
            "value": " 100/100 [52:15&lt;00:00, 30.80s/it]"
          }
        },
        "6e566a47adb54f54887d568d11b01e5a": {
          "model_module": "@jupyter-widgets/base",
          "model_name": "LayoutModel",
          "model_module_version": "1.2.0",
          "state": {
            "_model_module": "@jupyter-widgets/base",
            "_model_module_version": "1.2.0",
            "_model_name": "LayoutModel",
            "_view_count": null,
            "_view_module": "@jupyter-widgets/base",
            "_view_module_version": "1.2.0",
            "_view_name": "LayoutView",
            "align_content": null,
            "align_items": null,
            "align_self": null,
            "border": null,
            "bottom": null,
            "display": null,
            "flex": null,
            "flex_flow": null,
            "grid_area": null,
            "grid_auto_columns": null,
            "grid_auto_flow": null,
            "grid_auto_rows": null,
            "grid_column": null,
            "grid_gap": null,
            "grid_row": null,
            "grid_template_areas": null,
            "grid_template_columns": null,
            "grid_template_rows": null,
            "height": null,
            "justify_content": null,
            "justify_items": null,
            "left": null,
            "margin": null,
            "max_height": null,
            "max_width": null,
            "min_height": null,
            "min_width": null,
            "object_fit": null,
            "object_position": null,
            "order": null,
            "overflow": null,
            "overflow_x": null,
            "overflow_y": null,
            "padding": null,
            "right": null,
            "top": null,
            "visibility": null,
            "width": null
          }
        },
        "6e9614ea44e242acb28c3dcd9ac068ae": {
          "model_module": "@jupyter-widgets/base",
          "model_name": "LayoutModel",
          "model_module_version": "1.2.0",
          "state": {
            "_model_module": "@jupyter-widgets/base",
            "_model_module_version": "1.2.0",
            "_model_name": "LayoutModel",
            "_view_count": null,
            "_view_module": "@jupyter-widgets/base",
            "_view_module_version": "1.2.0",
            "_view_name": "LayoutView",
            "align_content": null,
            "align_items": null,
            "align_self": null,
            "border": null,
            "bottom": null,
            "display": null,
            "flex": null,
            "flex_flow": null,
            "grid_area": null,
            "grid_auto_columns": null,
            "grid_auto_flow": null,
            "grid_auto_rows": null,
            "grid_column": null,
            "grid_gap": null,
            "grid_row": null,
            "grid_template_areas": null,
            "grid_template_columns": null,
            "grid_template_rows": null,
            "height": null,
            "justify_content": null,
            "justify_items": null,
            "left": null,
            "margin": null,
            "max_height": null,
            "max_width": null,
            "min_height": null,
            "min_width": null,
            "object_fit": null,
            "object_position": null,
            "order": null,
            "overflow": null,
            "overflow_x": null,
            "overflow_y": null,
            "padding": null,
            "right": null,
            "top": null,
            "visibility": null,
            "width": null
          }
        },
        "5ea57c6c53964ff5947a2514e61099be": {
          "model_module": "@jupyter-widgets/controls",
          "model_name": "DescriptionStyleModel",
          "model_module_version": "1.5.0",
          "state": {
            "_model_module": "@jupyter-widgets/controls",
            "_model_module_version": "1.5.0",
            "_model_name": "DescriptionStyleModel",
            "_view_count": null,
            "_view_module": "@jupyter-widgets/base",
            "_view_module_version": "1.2.0",
            "_view_name": "StyleView",
            "description_width": ""
          }
        },
        "01f18a0f57444417869030e3c45689a5": {
          "model_module": "@jupyter-widgets/base",
          "model_name": "LayoutModel",
          "model_module_version": "1.2.0",
          "state": {
            "_model_module": "@jupyter-widgets/base",
            "_model_module_version": "1.2.0",
            "_model_name": "LayoutModel",
            "_view_count": null,
            "_view_module": "@jupyter-widgets/base",
            "_view_module_version": "1.2.0",
            "_view_name": "LayoutView",
            "align_content": null,
            "align_items": null,
            "align_self": null,
            "border": null,
            "bottom": null,
            "display": null,
            "flex": null,
            "flex_flow": null,
            "grid_area": null,
            "grid_auto_columns": null,
            "grid_auto_flow": null,
            "grid_auto_rows": null,
            "grid_column": null,
            "grid_gap": null,
            "grid_row": null,
            "grid_template_areas": null,
            "grid_template_columns": null,
            "grid_template_rows": null,
            "height": null,
            "justify_content": null,
            "justify_items": null,
            "left": null,
            "margin": null,
            "max_height": null,
            "max_width": null,
            "min_height": null,
            "min_width": null,
            "object_fit": null,
            "object_position": null,
            "order": null,
            "overflow": null,
            "overflow_x": null,
            "overflow_y": null,
            "padding": null,
            "right": null,
            "top": null,
            "visibility": null,
            "width": null
          }
        },
        "28450525e34b41f3a6f66ada3549db2d": {
          "model_module": "@jupyter-widgets/controls",
          "model_name": "ProgressStyleModel",
          "model_module_version": "1.5.0",
          "state": {
            "_model_module": "@jupyter-widgets/controls",
            "_model_module_version": "1.5.0",
            "_model_name": "ProgressStyleModel",
            "_view_count": null,
            "_view_module": "@jupyter-widgets/base",
            "_view_module_version": "1.2.0",
            "_view_name": "StyleView",
            "bar_color": null,
            "description_width": ""
          }
        },
        "5838b71dc5104053b172489cdc08cc89": {
          "model_module": "@jupyter-widgets/base",
          "model_name": "LayoutModel",
          "model_module_version": "1.2.0",
          "state": {
            "_model_module": "@jupyter-widgets/base",
            "_model_module_version": "1.2.0",
            "_model_name": "LayoutModel",
            "_view_count": null,
            "_view_module": "@jupyter-widgets/base",
            "_view_module_version": "1.2.0",
            "_view_name": "LayoutView",
            "align_content": null,
            "align_items": null,
            "align_self": null,
            "border": null,
            "bottom": null,
            "display": null,
            "flex": null,
            "flex_flow": null,
            "grid_area": null,
            "grid_auto_columns": null,
            "grid_auto_flow": null,
            "grid_auto_rows": null,
            "grid_column": null,
            "grid_gap": null,
            "grid_row": null,
            "grid_template_areas": null,
            "grid_template_columns": null,
            "grid_template_rows": null,
            "height": null,
            "justify_content": null,
            "justify_items": null,
            "left": null,
            "margin": null,
            "max_height": null,
            "max_width": null,
            "min_height": null,
            "min_width": null,
            "object_fit": null,
            "object_position": null,
            "order": null,
            "overflow": null,
            "overflow_x": null,
            "overflow_y": null,
            "padding": null,
            "right": null,
            "top": null,
            "visibility": null,
            "width": null
          }
        },
        "e8f57e6d6e2949cf8a70dbbfd37f1f96": {
          "model_module": "@jupyter-widgets/controls",
          "model_name": "DescriptionStyleModel",
          "model_module_version": "1.5.0",
          "state": {
            "_model_module": "@jupyter-widgets/controls",
            "_model_module_version": "1.5.0",
            "_model_name": "DescriptionStyleModel",
            "_view_count": null,
            "_view_module": "@jupyter-widgets/base",
            "_view_module_version": "1.2.0",
            "_view_name": "StyleView",
            "description_width": ""
          }
        }
      }
    }
  },
  "cells": [
    {
      "cell_type": "markdown",
      "metadata": {
        "id": "view-in-github",
        "colab_type": "text"
      },
      "source": [
        "<a href=\"https://colab.research.google.com/github/BeforeTheStorm202/DACN/blob/main/InSDN_CNN_fgsm_SHAP_detection_bin.ipynb\" target=\"_parent\"><img src=\"https://colab.research.google.com/assets/colab-badge.svg\" alt=\"Open In Colab\"/></a>"
      ]
    },
    {
      "cell_type": "markdown",
      "source": [
        "# Import"
      ],
      "metadata": {
        "id": "O0lPv_8LykMw"
      }
    },
    {
      "cell_type": "code",
      "source": [
        "from google.colab import drive\n",
        "drive.mount('/content/drive', force_remount=True)"
      ],
      "metadata": {
        "colab": {
          "base_uri": "https://localhost:8080/"
        },
        "id": "8efEEenXOnJi",
        "outputId": "08320a85-467c-4e5c-8cc1-11cdd2eadbf7"
      },
      "execution_count": null,
      "outputs": [
        {
          "output_type": "stream",
          "name": "stdout",
          "text": [
            "Mounted at /content/drive\n"
          ]
        }
      ]
    },
    {
      "cell_type": "code",
      "execution_count": 2,
      "metadata": {
        "id": "bBcPmYOsyREp",
        "colab": {
          "base_uri": "https://localhost:8080/"
        },
        "outputId": "20a5fb4c-6b7c-43a3-bb98-f26dec347062"
      },
      "outputs": [
        {
          "output_type": "stream",
          "name": "stdout",
          "text": [
            "Collecting shap\n",
            "  Downloading shap-0.42.0-cp310-cp310-manylinux_2_12_x86_64.manylinux2010_x86_64.manylinux_2_17_x86_64.manylinux2014_x86_64.whl (547 kB)\n",
            "\u001b[?25l     \u001b[90m━━━━━━━━━━━━━━━━━━━━━━━━━━━━━━━━━━━━━━━━\u001b[0m \u001b[32m0.0/547.1 kB\u001b[0m \u001b[31m?\u001b[0m eta \u001b[36m-:--:--\u001b[0m\r\u001b[2K     \u001b[91m━━━━━━━━━━━━━━━━━━━━━━━━━━━━━━━━━━━━━\u001b[0m\u001b[91m╸\u001b[0m \u001b[32m542.7/547.1 kB\u001b[0m \u001b[31m21.7 MB/s\u001b[0m eta \u001b[36m0:00:01\u001b[0m\r\u001b[2K     \u001b[90m━━━━━━━━━━━━━━━━━━━━━━━━━━━━━━━━━━━━━━\u001b[0m \u001b[32m547.1/547.1 kB\u001b[0m \u001b[31m15.0 MB/s\u001b[0m eta \u001b[36m0:00:00\u001b[0m\n",
            "\u001b[?25hRequirement already satisfied: numpy in /usr/local/lib/python3.10/dist-packages (from shap) (1.22.4)\n",
            "Requirement already satisfied: scipy in /usr/local/lib/python3.10/dist-packages (from shap) (1.10.1)\n",
            "Requirement already satisfied: scikit-learn in /usr/local/lib/python3.10/dist-packages (from shap) (1.2.2)\n",
            "Requirement already satisfied: pandas in /usr/local/lib/python3.10/dist-packages (from shap) (1.5.3)\n",
            "Requirement already satisfied: tqdm>=4.27.0 in /usr/local/lib/python3.10/dist-packages (from shap) (4.65.0)\n",
            "Requirement already satisfied: packaging>20.9 in /usr/local/lib/python3.10/dist-packages (from shap) (23.1)\n",
            "Collecting slicer==0.0.7 (from shap)\n",
            "  Downloading slicer-0.0.7-py3-none-any.whl (14 kB)\n",
            "Requirement already satisfied: numba in /usr/local/lib/python3.10/dist-packages (from shap) (0.56.4)\n",
            "Requirement already satisfied: cloudpickle in /usr/local/lib/python3.10/dist-packages (from shap) (2.2.1)\n",
            "Requirement already satisfied: llvmlite<0.40,>=0.39.0dev0 in /usr/local/lib/python3.10/dist-packages (from numba->shap) (0.39.1)\n",
            "Requirement already satisfied: setuptools in /usr/local/lib/python3.10/dist-packages (from numba->shap) (67.7.2)\n",
            "Requirement already satisfied: python-dateutil>=2.8.1 in /usr/local/lib/python3.10/dist-packages (from pandas->shap) (2.8.2)\n",
            "Requirement already satisfied: pytz>=2020.1 in /usr/local/lib/python3.10/dist-packages (from pandas->shap) (2022.7.1)\n",
            "Requirement already satisfied: joblib>=1.1.1 in /usr/local/lib/python3.10/dist-packages (from scikit-learn->shap) (1.2.0)\n",
            "Requirement already satisfied: threadpoolctl>=2.0.0 in /usr/local/lib/python3.10/dist-packages (from scikit-learn->shap) (3.1.0)\n",
            "Requirement already satisfied: six>=1.5 in /usr/local/lib/python3.10/dist-packages (from python-dateutil>=2.8.1->pandas->shap) (1.16.0)\n",
            "Installing collected packages: slicer, shap\n",
            "Successfully installed shap-0.42.0 slicer-0.0.7\n"
          ]
        }
      ],
      "source": [
        "!pip install shap"
      ]
    },
    {
      "cell_type": "code",
      "source": [
        "import shap\n",
        "import pandas as pd\n",
        "import tensorflow as tf\n",
        "from tensorflow import keras"
      ],
      "metadata": {
        "id": "yisYwS6Mymik"
      },
      "execution_count": 3,
      "outputs": []
    },
    {
      "cell_type": "markdown",
      "source": [
        "# Load trainset"
      ],
      "metadata": {
        "id": "Bz9tx1gdBGK4"
      }
    },
    {
      "cell_type": "code",
      "source": [
        "df = pd.read_csv('/content/drive/MyDrive/DACN_XAI_Adv_defense/Dataset/insdn/binary/train.csv')\n",
        "df.info()"
      ],
      "metadata": {
        "colab": {
          "base_uri": "https://localhost:8080/"
        },
        "id": "joOnVrMbBIgT",
        "outputId": "e5e826ce-c4ba-4796-ff45-ee114b773434"
      },
      "execution_count": 4,
      "outputs": [
        {
          "output_type": "stream",
          "name": "stdout",
          "text": [
            "<class 'pandas.core.frame.DataFrame'>\n",
            "RangeIndex: 275111 entries, 0 to 275110\n",
            "Data columns (total 77 columns):\n",
            " #   Column             Non-Null Count   Dtype  \n",
            "---  ------             --------------   -----  \n",
            " 0   Flow Duration      275111 non-null  float64\n",
            " 1   Tot Fwd Pkts       275111 non-null  float64\n",
            " 2   Tot Bwd Pkts       275111 non-null  float64\n",
            " 3   TotLen Fwd Pkts    275111 non-null  float64\n",
            " 4   TotLen Bwd Pkts    275111 non-null  float64\n",
            " 5   Fwd Pkt Len Max    275111 non-null  float64\n",
            " 6   Fwd Pkt Len Min    275111 non-null  float64\n",
            " 7   Fwd Pkt Len Mean   275111 non-null  float64\n",
            " 8   Fwd Pkt Len Std    275111 non-null  float64\n",
            " 9   Bwd Pkt Len Max    275111 non-null  float64\n",
            " 10  Bwd Pkt Len Min    275111 non-null  float64\n",
            " 11  Bwd Pkt Len Mean   275111 non-null  float64\n",
            " 12  Bwd Pkt Len Std    275111 non-null  float64\n",
            " 13  Flow Byts/s        275111 non-null  float64\n",
            " 14  Flow Pkts/s        275111 non-null  float64\n",
            " 15  Flow IAT Mean      275111 non-null  float64\n",
            " 16  Flow IAT Std       275111 non-null  float64\n",
            " 17  Flow IAT Max       275111 non-null  float64\n",
            " 18  Flow IAT Min       275111 non-null  float64\n",
            " 19  Fwd IAT Tot        275111 non-null  float64\n",
            " 20  Fwd IAT Mean       275111 non-null  float64\n",
            " 21  Fwd IAT Std        275111 non-null  float64\n",
            " 22  Fwd IAT Max        275111 non-null  float64\n",
            " 23  Fwd IAT Min        275111 non-null  float64\n",
            " 24  Bwd IAT Tot        275111 non-null  float64\n",
            " 25  Bwd IAT Mean       275111 non-null  float64\n",
            " 26  Bwd IAT Std        275111 non-null  float64\n",
            " 27  Bwd IAT Max        275111 non-null  float64\n",
            " 28  Bwd IAT Min        275111 non-null  float64\n",
            " 29  Fwd PSH Flags      275111 non-null  float64\n",
            " 30  Bwd PSH Flags      275111 non-null  float64\n",
            " 31  Fwd URG Flags      275111 non-null  float64\n",
            " 32  Bwd URG Flags      275111 non-null  float64\n",
            " 33  Fwd Header Len     275111 non-null  float64\n",
            " 34  Bwd Header Len     275111 non-null  float64\n",
            " 35  Fwd Pkts/s         275111 non-null  float64\n",
            " 36  Bwd Pkts/s         275111 non-null  float64\n",
            " 37  Pkt Len Min        275111 non-null  float64\n",
            " 38  Pkt Len Max        275111 non-null  float64\n",
            " 39  Pkt Len Mean       275111 non-null  float64\n",
            " 40  Pkt Len Std        275111 non-null  float64\n",
            " 41  Pkt Len Var        275111 non-null  float64\n",
            " 42  FIN Flag Cnt       275111 non-null  float64\n",
            " 43  SYN Flag Cnt       275111 non-null  float64\n",
            " 44  RST Flag Cnt       275111 non-null  float64\n",
            " 45  PSH Flag Cnt       275111 non-null  float64\n",
            " 46  ACK Flag Cnt       275111 non-null  float64\n",
            " 47  URG Flag Cnt       275111 non-null  float64\n",
            " 48  CWE Flag Count     275111 non-null  float64\n",
            " 49  ECE Flag Cnt       275111 non-null  float64\n",
            " 50  Down/Up Ratio      275111 non-null  float64\n",
            " 51  Pkt Size Avg       275111 non-null  float64\n",
            " 52  Fwd Seg Size Avg   275111 non-null  float64\n",
            " 53  Bwd Seg Size Avg   275111 non-null  float64\n",
            " 54  Fwd Byts/b Avg     275111 non-null  float64\n",
            " 55  Fwd Pkts/b Avg     275111 non-null  float64\n",
            " 56  Fwd Blk Rate Avg   275111 non-null  float64\n",
            " 57  Bwd Byts/b Avg     275111 non-null  float64\n",
            " 58  Bwd Pkts/b Avg     275111 non-null  float64\n",
            " 59  Bwd Blk Rate Avg   275111 non-null  float64\n",
            " 60  Subflow Fwd Pkts   275111 non-null  float64\n",
            " 61  Subflow Fwd Byts   275111 non-null  float64\n",
            " 62  Subflow Bwd Pkts   275111 non-null  float64\n",
            " 63  Subflow Bwd Byts   275111 non-null  float64\n",
            " 64  Init Fwd Win Byts  275111 non-null  float64\n",
            " 65  Init Bwd Win Byts  275111 non-null  float64\n",
            " 66  Fwd Act Data Pkts  275111 non-null  float64\n",
            " 67  Fwd Seg Size Min   275111 non-null  float64\n",
            " 68  Active Mean        275111 non-null  float64\n",
            " 69  Active Std         275111 non-null  float64\n",
            " 70  Active Max         275111 non-null  float64\n",
            " 71  Active Min         275111 non-null  float64\n",
            " 72  Idle Mean          275111 non-null  float64\n",
            " 73  Idle Std           275111 non-null  float64\n",
            " 74  Idle Max           275111 non-null  float64\n",
            " 75  Idle Min           275111 non-null  float64\n",
            " 76  Label              275111 non-null  int64  \n",
            "dtypes: float64(76), int64(1)\n",
            "memory usage: 161.6 MB\n"
          ]
        }
      ]
    },
    {
      "cell_type": "code",
      "source": [
        "df = df.drop(columns=['Label'])\n",
        "df.info()"
      ],
      "metadata": {
        "colab": {
          "base_uri": "https://localhost:8080/"
        },
        "id": "mYgl1-XQBYwR",
        "outputId": "63258792-8946-4849-914c-65d5e8f2c523"
      },
      "execution_count": 5,
      "outputs": [
        {
          "output_type": "stream",
          "name": "stdout",
          "text": [
            "<class 'pandas.core.frame.DataFrame'>\n",
            "RangeIndex: 275111 entries, 0 to 275110\n",
            "Data columns (total 76 columns):\n",
            " #   Column             Non-Null Count   Dtype  \n",
            "---  ------             --------------   -----  \n",
            " 0   Flow Duration      275111 non-null  float64\n",
            " 1   Tot Fwd Pkts       275111 non-null  float64\n",
            " 2   Tot Bwd Pkts       275111 non-null  float64\n",
            " 3   TotLen Fwd Pkts    275111 non-null  float64\n",
            " 4   TotLen Bwd Pkts    275111 non-null  float64\n",
            " 5   Fwd Pkt Len Max    275111 non-null  float64\n",
            " 6   Fwd Pkt Len Min    275111 non-null  float64\n",
            " 7   Fwd Pkt Len Mean   275111 non-null  float64\n",
            " 8   Fwd Pkt Len Std    275111 non-null  float64\n",
            " 9   Bwd Pkt Len Max    275111 non-null  float64\n",
            " 10  Bwd Pkt Len Min    275111 non-null  float64\n",
            " 11  Bwd Pkt Len Mean   275111 non-null  float64\n",
            " 12  Bwd Pkt Len Std    275111 non-null  float64\n",
            " 13  Flow Byts/s        275111 non-null  float64\n",
            " 14  Flow Pkts/s        275111 non-null  float64\n",
            " 15  Flow IAT Mean      275111 non-null  float64\n",
            " 16  Flow IAT Std       275111 non-null  float64\n",
            " 17  Flow IAT Max       275111 non-null  float64\n",
            " 18  Flow IAT Min       275111 non-null  float64\n",
            " 19  Fwd IAT Tot        275111 non-null  float64\n",
            " 20  Fwd IAT Mean       275111 non-null  float64\n",
            " 21  Fwd IAT Std        275111 non-null  float64\n",
            " 22  Fwd IAT Max        275111 non-null  float64\n",
            " 23  Fwd IAT Min        275111 non-null  float64\n",
            " 24  Bwd IAT Tot        275111 non-null  float64\n",
            " 25  Bwd IAT Mean       275111 non-null  float64\n",
            " 26  Bwd IAT Std        275111 non-null  float64\n",
            " 27  Bwd IAT Max        275111 non-null  float64\n",
            " 28  Bwd IAT Min        275111 non-null  float64\n",
            " 29  Fwd PSH Flags      275111 non-null  float64\n",
            " 30  Bwd PSH Flags      275111 non-null  float64\n",
            " 31  Fwd URG Flags      275111 non-null  float64\n",
            " 32  Bwd URG Flags      275111 non-null  float64\n",
            " 33  Fwd Header Len     275111 non-null  float64\n",
            " 34  Bwd Header Len     275111 non-null  float64\n",
            " 35  Fwd Pkts/s         275111 non-null  float64\n",
            " 36  Bwd Pkts/s         275111 non-null  float64\n",
            " 37  Pkt Len Min        275111 non-null  float64\n",
            " 38  Pkt Len Max        275111 non-null  float64\n",
            " 39  Pkt Len Mean       275111 non-null  float64\n",
            " 40  Pkt Len Std        275111 non-null  float64\n",
            " 41  Pkt Len Var        275111 non-null  float64\n",
            " 42  FIN Flag Cnt       275111 non-null  float64\n",
            " 43  SYN Flag Cnt       275111 non-null  float64\n",
            " 44  RST Flag Cnt       275111 non-null  float64\n",
            " 45  PSH Flag Cnt       275111 non-null  float64\n",
            " 46  ACK Flag Cnt       275111 non-null  float64\n",
            " 47  URG Flag Cnt       275111 non-null  float64\n",
            " 48  CWE Flag Count     275111 non-null  float64\n",
            " 49  ECE Flag Cnt       275111 non-null  float64\n",
            " 50  Down/Up Ratio      275111 non-null  float64\n",
            " 51  Pkt Size Avg       275111 non-null  float64\n",
            " 52  Fwd Seg Size Avg   275111 non-null  float64\n",
            " 53  Bwd Seg Size Avg   275111 non-null  float64\n",
            " 54  Fwd Byts/b Avg     275111 non-null  float64\n",
            " 55  Fwd Pkts/b Avg     275111 non-null  float64\n",
            " 56  Fwd Blk Rate Avg   275111 non-null  float64\n",
            " 57  Bwd Byts/b Avg     275111 non-null  float64\n",
            " 58  Bwd Pkts/b Avg     275111 non-null  float64\n",
            " 59  Bwd Blk Rate Avg   275111 non-null  float64\n",
            " 60  Subflow Fwd Pkts   275111 non-null  float64\n",
            " 61  Subflow Fwd Byts   275111 non-null  float64\n",
            " 62  Subflow Bwd Pkts   275111 non-null  float64\n",
            " 63  Subflow Bwd Byts   275111 non-null  float64\n",
            " 64  Init Fwd Win Byts  275111 non-null  float64\n",
            " 65  Init Bwd Win Byts  275111 non-null  float64\n",
            " 66  Fwd Act Data Pkts  275111 non-null  float64\n",
            " 67  Fwd Seg Size Min   275111 non-null  float64\n",
            " 68  Active Mean        275111 non-null  float64\n",
            " 69  Active Std         275111 non-null  float64\n",
            " 70  Active Max         275111 non-null  float64\n",
            " 71  Active Min         275111 non-null  float64\n",
            " 72  Idle Mean          275111 non-null  float64\n",
            " 73  Idle Std           275111 non-null  float64\n",
            " 74  Idle Max           275111 non-null  float64\n",
            " 75  Idle Min           275111 non-null  float64\n",
            "dtypes: float64(76)\n",
            "memory usage: 159.5 MB\n"
          ]
        }
      ]
    },
    {
      "cell_type": "markdown",
      "source": [
        "# Load adv samples"
      ],
      "metadata": {
        "id": "kFirQ2Tyz28E"
      }
    },
    {
      "cell_type": "code",
      "source": [
        "fgm_path = '/content/drive/MyDrive/DACN_XAI_Adv_defense/Dataset/insdn/adv/24_feature/fgm/fgm_cnn_bin_feature.csv'"
      ],
      "metadata": {
        "id": "f29J4Es-z5lJ"
      },
      "execution_count": 6,
      "outputs": []
    },
    {
      "cell_type": "code",
      "source": [
        "fgm_df = pd.read_csv(fgm_path)"
      ],
      "metadata": {
        "id": "I8txn6aG0EIJ"
      },
      "execution_count": 7,
      "outputs": []
    },
    {
      "cell_type": "code",
      "source": [
        "fgm_df.info()"
      ],
      "metadata": {
        "colab": {
          "base_uri": "https://localhost:8080/"
        },
        "id": "dcF6Wl5Y0LY2",
        "outputId": "f4cf380e-a0b9-47c5-9832-9696ba1c3f53"
      },
      "execution_count": 8,
      "outputs": [
        {
          "output_type": "stream",
          "name": "stdout",
          "text": [
            "<class 'pandas.core.frame.DataFrame'>\n",
            "RangeIndex: 55151 entries, 0 to 55150\n",
            "Data columns (total 76 columns):\n",
            " #   Column             Non-Null Count  Dtype  \n",
            "---  ------             --------------  -----  \n",
            " 0   Flow Duration      55151 non-null  float64\n",
            " 1   Tot Fwd Pkts       55151 non-null  float64\n",
            " 2   Tot Bwd Pkts       55151 non-null  float64\n",
            " 3   TotLen Fwd Pkts    55151 non-null  float64\n",
            " 4   TotLen Bwd Pkts    55151 non-null  float64\n",
            " 5   Fwd Pkt Len Max    55151 non-null  float64\n",
            " 6   Fwd Pkt Len Min    55151 non-null  float64\n",
            " 7   Fwd Pkt Len Mean   55151 non-null  float64\n",
            " 8   Fwd Pkt Len Std    55151 non-null  float64\n",
            " 9   Bwd Pkt Len Max    55151 non-null  float64\n",
            " 10  Bwd Pkt Len Min    55151 non-null  float64\n",
            " 11  Bwd Pkt Len Mean   55151 non-null  float64\n",
            " 12  Bwd Pkt Len Std    55151 non-null  float64\n",
            " 13  Flow Byts/s        55151 non-null  float64\n",
            " 14  Flow Pkts/s        55151 non-null  float64\n",
            " 15  Flow IAT Mean      55151 non-null  float64\n",
            " 16  Flow IAT Std       55151 non-null  float64\n",
            " 17  Flow IAT Max       55151 non-null  float64\n",
            " 18  Flow IAT Min       55151 non-null  float64\n",
            " 19  Fwd IAT Tot        55151 non-null  float64\n",
            " 20  Fwd IAT Mean       55151 non-null  float64\n",
            " 21  Fwd IAT Std        55151 non-null  float64\n",
            " 22  Fwd IAT Max        55151 non-null  float64\n",
            " 23  Fwd IAT Min        55151 non-null  float64\n",
            " 24  Bwd IAT Tot        55151 non-null  float64\n",
            " 25  Bwd IAT Mean       55151 non-null  float64\n",
            " 26  Bwd IAT Std        55151 non-null  float64\n",
            " 27  Bwd IAT Max        55151 non-null  float64\n",
            " 28  Bwd IAT Min        55151 non-null  float64\n",
            " 29  Fwd PSH Flags      55151 non-null  float64\n",
            " 30  Bwd PSH Flags      55151 non-null  float64\n",
            " 31  Fwd URG Flags      55151 non-null  float64\n",
            " 32  Bwd URG Flags      55151 non-null  float64\n",
            " 33  Fwd Header Len     55151 non-null  float64\n",
            " 34  Bwd Header Len     55151 non-null  float64\n",
            " 35  Fwd Pkts/s         55151 non-null  float64\n",
            " 36  Bwd Pkts/s         55151 non-null  float64\n",
            " 37  Pkt Len Min        55151 non-null  float64\n",
            " 38  Pkt Len Max        55151 non-null  float64\n",
            " 39  Pkt Len Mean       55151 non-null  float64\n",
            " 40  Pkt Len Std        55151 non-null  float64\n",
            " 41  Pkt Len Var        55151 non-null  float64\n",
            " 42  FIN Flag Cnt       55151 non-null  float64\n",
            " 43  SYN Flag Cnt       55151 non-null  float64\n",
            " 44  RST Flag Cnt       55151 non-null  float64\n",
            " 45  PSH Flag Cnt       55151 non-null  float64\n",
            " 46  ACK Flag Cnt       55151 non-null  float64\n",
            " 47  URG Flag Cnt       55151 non-null  float64\n",
            " 48  CWE Flag Count     55151 non-null  float64\n",
            " 49  ECE Flag Cnt       55151 non-null  float64\n",
            " 50  Down/Up Ratio      55151 non-null  float64\n",
            " 51  Pkt Size Avg       55151 non-null  float64\n",
            " 52  Fwd Seg Size Avg   55151 non-null  float64\n",
            " 53  Bwd Seg Size Avg   55151 non-null  float64\n",
            " 54  Fwd Byts/b Avg     55151 non-null  float64\n",
            " 55  Fwd Pkts/b Avg     55151 non-null  float64\n",
            " 56  Fwd Blk Rate Avg   55151 non-null  float64\n",
            " 57  Bwd Byts/b Avg     55151 non-null  float64\n",
            " 58  Bwd Pkts/b Avg     55151 non-null  float64\n",
            " 59  Bwd Blk Rate Avg   55151 non-null  float64\n",
            " 60  Subflow Fwd Pkts   55151 non-null  float64\n",
            " 61  Subflow Fwd Byts   55151 non-null  float64\n",
            " 62  Subflow Bwd Pkts   55151 non-null  float64\n",
            " 63  Subflow Bwd Byts   55151 non-null  float64\n",
            " 64  Init Fwd Win Byts  55151 non-null  float64\n",
            " 65  Init Bwd Win Byts  55151 non-null  float64\n",
            " 66  Fwd Act Data Pkts  55151 non-null  float64\n",
            " 67  Fwd Seg Size Min   55151 non-null  float64\n",
            " 68  Active Mean        55151 non-null  float64\n",
            " 69  Active Std         55151 non-null  float64\n",
            " 70  Active Max         55151 non-null  float64\n",
            " 71  Active Min         55151 non-null  float64\n",
            " 72  Idle Mean          55151 non-null  float64\n",
            " 73  Idle Std           55151 non-null  float64\n",
            " 74  Idle Max           55151 non-null  float64\n",
            " 75  Idle Min           55151 non-null  float64\n",
            "dtypes: float64(76)\n",
            "memory usage: 32.0 MB\n"
          ]
        }
      ]
    },
    {
      "cell_type": "markdown",
      "source": [
        "# Load DL-based IDS model"
      ],
      "metadata": {
        "id": "g33N-zPby6kB"
      }
    },
    {
      "cell_type": "code",
      "source": [
        "model_cnn = tf.keras.models.load_model('/content/drive/MyDrive/DACN_XAI_Adv_defense/Dataset/insdn/insdn_cnn_bin.h5', compile=True)"
      ],
      "metadata": {
        "id": "ZWIDESvCy2b5"
      },
      "execution_count": 9,
      "outputs": []
    },
    {
      "cell_type": "markdown",
      "source": [
        "# SHAP"
      ],
      "metadata": {
        "id": "RFRvMWrd4QoD"
      }
    },
    {
      "cell_type": "code",
      "source": [
        "explainer = shap.KernelExplainer(model_cnn, shap.sample(df, 100, random_state=42))"
      ],
      "metadata": {
        "id": "4505XjQu4K_g"
      },
      "execution_count": 10,
      "outputs": []
    },
    {
      "cell_type": "code",
      "source": [
        "fgm_100 = fgm_df.head(100)"
      ],
      "metadata": {
        "id": "biTLBwQsdMKd"
      },
      "execution_count": 11,
      "outputs": []
    },
    {
      "cell_type": "markdown",
      "source": [
        "42m ~ 1g"
      ],
      "metadata": {
        "id": "lDnGCqFKVvmD"
      }
    },
    {
      "cell_type": "code",
      "source": [
        "shap_values = explainer.shap_values(fgm_100)"
      ],
      "metadata": {
        "id": "2kwEY6jC4Z-l",
        "colab": {
          "base_uri": "https://localhost:8080/",
          "height": 49,
          "referenced_widgets": [
            "391b1f4a04e44bca91cbda1b5ef7ce0c",
            "fab2c65772a442dcb668fe02eb96e4ae",
            "69c1e8bb25ab49459f8109e7f740236b",
            "75cbef513c384c7c8c1e4b07b0e0a92e",
            "6e566a47adb54f54887d568d11b01e5a",
            "6e9614ea44e242acb28c3dcd9ac068ae",
            "5ea57c6c53964ff5947a2514e61099be",
            "01f18a0f57444417869030e3c45689a5",
            "28450525e34b41f3a6f66ada3549db2d",
            "5838b71dc5104053b172489cdc08cc89",
            "e8f57e6d6e2949cf8a70dbbfd37f1f96"
          ]
        },
        "outputId": "42ed23a8-6cfa-4710-b52e-4bd53fefb732"
      },
      "execution_count": 12,
      "outputs": [
        {
          "output_type": "display_data",
          "data": {
            "text/plain": [
              "  0%|          | 0/100 [00:00<?, ?it/s]"
            ],
            "application/vnd.jupyter.widget-view+json": {
              "version_major": 2,
              "version_minor": 0,
              "model_id": "391b1f4a04e44bca91cbda1b5ef7ce0c"
            }
          },
          "metadata": {}
        }
      ]
    },
    {
      "cell_type": "code",
      "source": [
        "len(shap_values)"
      ],
      "metadata": {
        "colab": {
          "base_uri": "https://localhost:8080/"
        },
        "id": "gHb6Mmvi47qA",
        "outputId": "69a4d8d8-2b47-4092-e8db-35904468f6b4"
      },
      "execution_count": null,
      "outputs": [
        {
          "output_type": "execute_result",
          "data": {
            "text/plain": [
              "1"
            ]
          },
          "metadata": {},
          "execution_count": 12
        }
      ]
    },
    {
      "cell_type": "code",
      "source": [
        "type(shap_values[0])"
      ],
      "metadata": {
        "colab": {
          "base_uri": "https://localhost:8080/"
        },
        "id": "e6T9D3H-ahWh",
        "outputId": "6c1fb4ab-939c-4f10-851a-538091986b3b"
      },
      "execution_count": null,
      "outputs": [
        {
          "output_type": "execute_result",
          "data": {
            "text/plain": [
              "numpy.ndarray"
            ]
          },
          "metadata": {},
          "execution_count": 13
        }
      ]
    },
    {
      "cell_type": "code",
      "source": [
        "len(shap_values[0])"
      ],
      "metadata": {
        "colab": {
          "base_uri": "https://localhost:8080/"
        },
        "id": "zjHiwP7KaZ62",
        "outputId": "02f34de9-d9a1-4c90-8177-e57939c566ef"
      },
      "execution_count": 13,
      "outputs": [
        {
          "output_type": "execute_result",
          "data": {
            "text/plain": [
              "100"
            ]
          },
          "metadata": {},
          "execution_count": 13
        }
      ]
    },
    {
      "cell_type": "code",
      "source": [
        "shap_values[0].shape"
      ],
      "metadata": {
        "colab": {
          "base_uri": "https://localhost:8080/"
        },
        "id": "eM8brh0aAvkW",
        "outputId": "9ef29818-2517-49ae-8dfb-00b90133adab"
      },
      "execution_count": 14,
      "outputs": [
        {
          "output_type": "execute_result",
          "data": {
            "text/plain": [
              "(100, 76)"
            ]
          },
          "metadata": {},
          "execution_count": 14
        }
      ]
    },
    {
      "cell_type": "code",
      "source": [
        "data_df = pd.DataFrame(shap_values[0])"
      ],
      "metadata": {
        "id": "48h2syinBBb8"
      },
      "execution_count": 15,
      "outputs": []
    },
    {
      "cell_type": "code",
      "source": [
        "data_df.head()"
      ],
      "metadata": {
        "colab": {
          "base_uri": "https://localhost:8080/",
          "height": 299
        },
        "id": "GaPyNdSzBLa5",
        "outputId": "5f248953-6710-4929-b20e-f62b1b74269b"
      },
      "execution_count": 16,
      "outputs": [
        {
          "output_type": "execute_result",
          "data": {
            "text/plain": [
              "         0         1         2         3         4         5         6   \\\n",
              "0  0.000054  0.000000  0.000000 -0.000064  0.000000  0.000083  0.000000   \n",
              "1 -0.000147  0.000000  0.000000 -0.000076  0.000021  0.000000  0.000036   \n",
              "2 -0.000174  0.000000  0.000000  0.000038 -0.000024  0.000038 -0.000026   \n",
              "3 -0.000113  0.000038  0.000000  0.000046 -0.000033 -0.000036 -0.000057   \n",
              "4 -0.000205  0.000000  0.000079  0.000000 -0.000046  0.000000  0.000000   \n",
              "\n",
              "         7         8         9   ...   66   67        68        69        70  \\\n",
              "0  0.000087 -0.000049  0.000000  ...  0.0  0.0 -0.002304 -0.001957  0.000000   \n",
              "1  0.000033  0.000035  0.000000  ...  0.0  0.0  0.000000  0.000000 -0.000065   \n",
              "2 -0.000035 -0.000055  0.000000  ...  0.0  0.0  0.000031  0.000057 -0.000043   \n",
              "3 -0.000025  0.000020 -0.000028  ...  0.0  0.0  0.000017 -0.000011  0.000000   \n",
              "4  0.000000 -0.000047  0.000000  ...  0.0  0.0  0.000081  0.000000 -0.000072   \n",
              "\n",
              "         71       72        73        74        75  \n",
              "0  0.000389  0.00000  0.000000  0.000000 -0.000751  \n",
              "1  0.000000  0.00000 -0.000792 -0.000477 -0.000353  \n",
              "2 -0.000065  0.00000 -0.000986 -0.000913  0.000098  \n",
              "3  0.000053  0.00002 -0.001002 -0.000858  0.000076  \n",
              "4  0.000108 -0.00089  0.000000  0.000000  0.000000  \n",
              "\n",
              "[5 rows x 76 columns]"
            ],
            "text/html": [
              "\n",
              "  <div id=\"df-29ae21d4-9dc6-4102-b87f-d6d36f2a4faa\">\n",
              "    <div class=\"colab-df-container\">\n",
              "      <div>\n",
              "<style scoped>\n",
              "    .dataframe tbody tr th:only-of-type {\n",
              "        vertical-align: middle;\n",
              "    }\n",
              "\n",
              "    .dataframe tbody tr th {\n",
              "        vertical-align: top;\n",
              "    }\n",
              "\n",
              "    .dataframe thead th {\n",
              "        text-align: right;\n",
              "    }\n",
              "</style>\n",
              "<table border=\"1\" class=\"dataframe\">\n",
              "  <thead>\n",
              "    <tr style=\"text-align: right;\">\n",
              "      <th></th>\n",
              "      <th>0</th>\n",
              "      <th>1</th>\n",
              "      <th>2</th>\n",
              "      <th>3</th>\n",
              "      <th>4</th>\n",
              "      <th>5</th>\n",
              "      <th>6</th>\n",
              "      <th>7</th>\n",
              "      <th>8</th>\n",
              "      <th>9</th>\n",
              "      <th>...</th>\n",
              "      <th>66</th>\n",
              "      <th>67</th>\n",
              "      <th>68</th>\n",
              "      <th>69</th>\n",
              "      <th>70</th>\n",
              "      <th>71</th>\n",
              "      <th>72</th>\n",
              "      <th>73</th>\n",
              "      <th>74</th>\n",
              "      <th>75</th>\n",
              "    </tr>\n",
              "  </thead>\n",
              "  <tbody>\n",
              "    <tr>\n",
              "      <th>0</th>\n",
              "      <td>0.000054</td>\n",
              "      <td>0.000000</td>\n",
              "      <td>0.000000</td>\n",
              "      <td>-0.000064</td>\n",
              "      <td>0.000000</td>\n",
              "      <td>0.000083</td>\n",
              "      <td>0.000000</td>\n",
              "      <td>0.000087</td>\n",
              "      <td>-0.000049</td>\n",
              "      <td>0.000000</td>\n",
              "      <td>...</td>\n",
              "      <td>0.0</td>\n",
              "      <td>0.0</td>\n",
              "      <td>-0.002304</td>\n",
              "      <td>-0.001957</td>\n",
              "      <td>0.000000</td>\n",
              "      <td>0.000389</td>\n",
              "      <td>0.00000</td>\n",
              "      <td>0.000000</td>\n",
              "      <td>0.000000</td>\n",
              "      <td>-0.000751</td>\n",
              "    </tr>\n",
              "    <tr>\n",
              "      <th>1</th>\n",
              "      <td>-0.000147</td>\n",
              "      <td>0.000000</td>\n",
              "      <td>0.000000</td>\n",
              "      <td>-0.000076</td>\n",
              "      <td>0.000021</td>\n",
              "      <td>0.000000</td>\n",
              "      <td>0.000036</td>\n",
              "      <td>0.000033</td>\n",
              "      <td>0.000035</td>\n",
              "      <td>0.000000</td>\n",
              "      <td>...</td>\n",
              "      <td>0.0</td>\n",
              "      <td>0.0</td>\n",
              "      <td>0.000000</td>\n",
              "      <td>0.000000</td>\n",
              "      <td>-0.000065</td>\n",
              "      <td>0.000000</td>\n",
              "      <td>0.00000</td>\n",
              "      <td>-0.000792</td>\n",
              "      <td>-0.000477</td>\n",
              "      <td>-0.000353</td>\n",
              "    </tr>\n",
              "    <tr>\n",
              "      <th>2</th>\n",
              "      <td>-0.000174</td>\n",
              "      <td>0.000000</td>\n",
              "      <td>0.000000</td>\n",
              "      <td>0.000038</td>\n",
              "      <td>-0.000024</td>\n",
              "      <td>0.000038</td>\n",
              "      <td>-0.000026</td>\n",
              "      <td>-0.000035</td>\n",
              "      <td>-0.000055</td>\n",
              "      <td>0.000000</td>\n",
              "      <td>...</td>\n",
              "      <td>0.0</td>\n",
              "      <td>0.0</td>\n",
              "      <td>0.000031</td>\n",
              "      <td>0.000057</td>\n",
              "      <td>-0.000043</td>\n",
              "      <td>-0.000065</td>\n",
              "      <td>0.00000</td>\n",
              "      <td>-0.000986</td>\n",
              "      <td>-0.000913</td>\n",
              "      <td>0.000098</td>\n",
              "    </tr>\n",
              "    <tr>\n",
              "      <th>3</th>\n",
              "      <td>-0.000113</td>\n",
              "      <td>0.000038</td>\n",
              "      <td>0.000000</td>\n",
              "      <td>0.000046</td>\n",
              "      <td>-0.000033</td>\n",
              "      <td>-0.000036</td>\n",
              "      <td>-0.000057</td>\n",
              "      <td>-0.000025</td>\n",
              "      <td>0.000020</td>\n",
              "      <td>-0.000028</td>\n",
              "      <td>...</td>\n",
              "      <td>0.0</td>\n",
              "      <td>0.0</td>\n",
              "      <td>0.000017</td>\n",
              "      <td>-0.000011</td>\n",
              "      <td>0.000000</td>\n",
              "      <td>0.000053</td>\n",
              "      <td>0.00002</td>\n",
              "      <td>-0.001002</td>\n",
              "      <td>-0.000858</td>\n",
              "      <td>0.000076</td>\n",
              "    </tr>\n",
              "    <tr>\n",
              "      <th>4</th>\n",
              "      <td>-0.000205</td>\n",
              "      <td>0.000000</td>\n",
              "      <td>0.000079</td>\n",
              "      <td>0.000000</td>\n",
              "      <td>-0.000046</td>\n",
              "      <td>0.000000</td>\n",
              "      <td>0.000000</td>\n",
              "      <td>0.000000</td>\n",
              "      <td>-0.000047</td>\n",
              "      <td>0.000000</td>\n",
              "      <td>...</td>\n",
              "      <td>0.0</td>\n",
              "      <td>0.0</td>\n",
              "      <td>0.000081</td>\n",
              "      <td>0.000000</td>\n",
              "      <td>-0.000072</td>\n",
              "      <td>0.000108</td>\n",
              "      <td>-0.00089</td>\n",
              "      <td>0.000000</td>\n",
              "      <td>0.000000</td>\n",
              "      <td>0.000000</td>\n",
              "    </tr>\n",
              "  </tbody>\n",
              "</table>\n",
              "<p>5 rows × 76 columns</p>\n",
              "</div>\n",
              "      <button class=\"colab-df-convert\" onclick=\"convertToInteractive('df-29ae21d4-9dc6-4102-b87f-d6d36f2a4faa')\"\n",
              "              title=\"Convert this dataframe to an interactive table.\"\n",
              "              style=\"display:none;\">\n",
              "        \n",
              "  <svg xmlns=\"http://www.w3.org/2000/svg\" height=\"24px\"viewBox=\"0 0 24 24\"\n",
              "       width=\"24px\">\n",
              "    <path d=\"M0 0h24v24H0V0z\" fill=\"none\"/>\n",
              "    <path d=\"M18.56 5.44l.94 2.06.94-2.06 2.06-.94-2.06-.94-.94-2.06-.94 2.06-2.06.94zm-11 1L8.5 8.5l.94-2.06 2.06-.94-2.06-.94L8.5 2.5l-.94 2.06-2.06.94zm10 10l.94 2.06.94-2.06 2.06-.94-2.06-.94-.94-2.06-.94 2.06-2.06.94z\"/><path d=\"M17.41 7.96l-1.37-1.37c-.4-.4-.92-.59-1.43-.59-.52 0-1.04.2-1.43.59L10.3 9.45l-7.72 7.72c-.78.78-.78 2.05 0 2.83L4 21.41c.39.39.9.59 1.41.59.51 0 1.02-.2 1.41-.59l7.78-7.78 2.81-2.81c.8-.78.8-2.07 0-2.86zM5.41 20L4 18.59l7.72-7.72 1.47 1.35L5.41 20z\"/>\n",
              "  </svg>\n",
              "      </button>\n",
              "      \n",
              "  <style>\n",
              "    .colab-df-container {\n",
              "      display:flex;\n",
              "      flex-wrap:wrap;\n",
              "      gap: 12px;\n",
              "    }\n",
              "\n",
              "    .colab-df-convert {\n",
              "      background-color: #E8F0FE;\n",
              "      border: none;\n",
              "      border-radius: 50%;\n",
              "      cursor: pointer;\n",
              "      display: none;\n",
              "      fill: #1967D2;\n",
              "      height: 32px;\n",
              "      padding: 0 0 0 0;\n",
              "      width: 32px;\n",
              "    }\n",
              "\n",
              "    .colab-df-convert:hover {\n",
              "      background-color: #E2EBFA;\n",
              "      box-shadow: 0px 1px 2px rgba(60, 64, 67, 0.3), 0px 1px 3px 1px rgba(60, 64, 67, 0.15);\n",
              "      fill: #174EA6;\n",
              "    }\n",
              "\n",
              "    [theme=dark] .colab-df-convert {\n",
              "      background-color: #3B4455;\n",
              "      fill: #D2E3FC;\n",
              "    }\n",
              "\n",
              "    [theme=dark] .colab-df-convert:hover {\n",
              "      background-color: #434B5C;\n",
              "      box-shadow: 0px 1px 3px 1px rgba(0, 0, 0, 0.15);\n",
              "      filter: drop-shadow(0px 1px 2px rgba(0, 0, 0, 0.3));\n",
              "      fill: #FFFFFF;\n",
              "    }\n",
              "  </style>\n",
              "\n",
              "      <script>\n",
              "        const buttonEl =\n",
              "          document.querySelector('#df-29ae21d4-9dc6-4102-b87f-d6d36f2a4faa button.colab-df-convert');\n",
              "        buttonEl.style.display =\n",
              "          google.colab.kernel.accessAllowed ? 'block' : 'none';\n",
              "\n",
              "        async function convertToInteractive(key) {\n",
              "          const element = document.querySelector('#df-29ae21d4-9dc6-4102-b87f-d6d36f2a4faa');\n",
              "          const dataTable =\n",
              "            await google.colab.kernel.invokeFunction('convertToInteractive',\n",
              "                                                     [key], {});\n",
              "          if (!dataTable) return;\n",
              "\n",
              "          const docLinkHtml = 'Like what you see? Visit the ' +\n",
              "            '<a target=\"_blank\" href=https://colab.research.google.com/notebooks/data_table.ipynb>data table notebook</a>'\n",
              "            + ' to learn more about interactive tables.';\n",
              "          element.innerHTML = '';\n",
              "          dataTable['output_type'] = 'display_data';\n",
              "          await google.colab.output.renderOutput(dataTable, element);\n",
              "          const docLink = document.createElement('div');\n",
              "          docLink.innerHTML = docLinkHtml;\n",
              "          element.appendChild(docLink);\n",
              "        }\n",
              "      </script>\n",
              "    </div>\n",
              "  </div>\n",
              "  "
            ]
          },
          "metadata": {},
          "execution_count": 16
        }
      ]
    },
    {
      "cell_type": "code",
      "source": [
        "data_df.columns = df.columns\n",
        "data_df.info()"
      ],
      "metadata": {
        "colab": {
          "base_uri": "https://localhost:8080/"
        },
        "id": "xLQ6lI2yb5jp",
        "outputId": "ce02a35f-8d4c-4473-8500-d59bb426a540"
      },
      "execution_count": 17,
      "outputs": [
        {
          "output_type": "stream",
          "name": "stdout",
          "text": [
            "<class 'pandas.core.frame.DataFrame'>\n",
            "RangeIndex: 100 entries, 0 to 99\n",
            "Data columns (total 76 columns):\n",
            " #   Column             Non-Null Count  Dtype  \n",
            "---  ------             --------------  -----  \n",
            " 0   Flow Duration      100 non-null    float64\n",
            " 1   Tot Fwd Pkts       100 non-null    float64\n",
            " 2   Tot Bwd Pkts       100 non-null    float64\n",
            " 3   TotLen Fwd Pkts    100 non-null    float64\n",
            " 4   TotLen Bwd Pkts    100 non-null    float64\n",
            " 5   Fwd Pkt Len Max    100 non-null    float64\n",
            " 6   Fwd Pkt Len Min    100 non-null    float64\n",
            " 7   Fwd Pkt Len Mean   100 non-null    float64\n",
            " 8   Fwd Pkt Len Std    100 non-null    float64\n",
            " 9   Bwd Pkt Len Max    100 non-null    float64\n",
            " 10  Bwd Pkt Len Min    100 non-null    float64\n",
            " 11  Bwd Pkt Len Mean   100 non-null    float64\n",
            " 12  Bwd Pkt Len Std    100 non-null    float64\n",
            " 13  Flow Byts/s        100 non-null    float64\n",
            " 14  Flow Pkts/s        100 non-null    float64\n",
            " 15  Flow IAT Mean      100 non-null    float64\n",
            " 16  Flow IAT Std       100 non-null    float64\n",
            " 17  Flow IAT Max       100 non-null    float64\n",
            " 18  Flow IAT Min       100 non-null    float64\n",
            " 19  Fwd IAT Tot        100 non-null    float64\n",
            " 20  Fwd IAT Mean       100 non-null    float64\n",
            " 21  Fwd IAT Std        100 non-null    float64\n",
            " 22  Fwd IAT Max        100 non-null    float64\n",
            " 23  Fwd IAT Min        100 non-null    float64\n",
            " 24  Bwd IAT Tot        100 non-null    float64\n",
            " 25  Bwd IAT Mean       100 non-null    float64\n",
            " 26  Bwd IAT Std        100 non-null    float64\n",
            " 27  Bwd IAT Max        100 non-null    float64\n",
            " 28  Bwd IAT Min        100 non-null    float64\n",
            " 29  Fwd PSH Flags      100 non-null    float64\n",
            " 30  Bwd PSH Flags      100 non-null    float64\n",
            " 31  Fwd URG Flags      100 non-null    float64\n",
            " 32  Bwd URG Flags      100 non-null    float64\n",
            " 33  Fwd Header Len     100 non-null    float64\n",
            " 34  Bwd Header Len     100 non-null    float64\n",
            " 35  Fwd Pkts/s         100 non-null    float64\n",
            " 36  Bwd Pkts/s         100 non-null    float64\n",
            " 37  Pkt Len Min        100 non-null    float64\n",
            " 38  Pkt Len Max        100 non-null    float64\n",
            " 39  Pkt Len Mean       100 non-null    float64\n",
            " 40  Pkt Len Std        100 non-null    float64\n",
            " 41  Pkt Len Var        100 non-null    float64\n",
            " 42  FIN Flag Cnt       100 non-null    float64\n",
            " 43  SYN Flag Cnt       100 non-null    float64\n",
            " 44  RST Flag Cnt       100 non-null    float64\n",
            " 45  PSH Flag Cnt       100 non-null    float64\n",
            " 46  ACK Flag Cnt       100 non-null    float64\n",
            " 47  URG Flag Cnt       100 non-null    float64\n",
            " 48  CWE Flag Count     100 non-null    float64\n",
            " 49  ECE Flag Cnt       100 non-null    float64\n",
            " 50  Down/Up Ratio      100 non-null    float64\n",
            " 51  Pkt Size Avg       100 non-null    float64\n",
            " 52  Fwd Seg Size Avg   100 non-null    float64\n",
            " 53  Bwd Seg Size Avg   100 non-null    float64\n",
            " 54  Fwd Byts/b Avg     100 non-null    float64\n",
            " 55  Fwd Pkts/b Avg     100 non-null    float64\n",
            " 56  Fwd Blk Rate Avg   100 non-null    float64\n",
            " 57  Bwd Byts/b Avg     100 non-null    float64\n",
            " 58  Bwd Pkts/b Avg     100 non-null    float64\n",
            " 59  Bwd Blk Rate Avg   100 non-null    float64\n",
            " 60  Subflow Fwd Pkts   100 non-null    float64\n",
            " 61  Subflow Fwd Byts   100 non-null    float64\n",
            " 62  Subflow Bwd Pkts   100 non-null    float64\n",
            " 63  Subflow Bwd Byts   100 non-null    float64\n",
            " 64  Init Fwd Win Byts  100 non-null    float64\n",
            " 65  Init Bwd Win Byts  100 non-null    float64\n",
            " 66  Fwd Act Data Pkts  100 non-null    float64\n",
            " 67  Fwd Seg Size Min   100 non-null    float64\n",
            " 68  Active Mean        100 non-null    float64\n",
            " 69  Active Std         100 non-null    float64\n",
            " 70  Active Max         100 non-null    float64\n",
            " 71  Active Min         100 non-null    float64\n",
            " 72  Idle Mean          100 non-null    float64\n",
            " 73  Idle Std           100 non-null    float64\n",
            " 74  Idle Max           100 non-null    float64\n",
            " 75  Idle Min           100 non-null    float64\n",
            "dtypes: float64(76)\n",
            "memory usage: 59.5 KB\n"
          ]
        }
      ]
    },
    {
      "cell_type": "code",
      "source": [
        "data_df.to_csv('/content/drive/MyDrive/DACN_XAI_Adv_defense/InSDN/CNN_HSJ/fgm_100_samples_[0]_v2.csv', index=False)"
      ],
      "metadata": {
        "id": "mbDTuofCBeGJ"
      },
      "execution_count": 18,
      "outputs": []
    },
    {
      "cell_type": "code",
      "source": [
        "data_df.head()"
      ],
      "metadata": {
        "colab": {
          "base_uri": "https://localhost:8080/",
          "height": 351
        },
        "id": "Kh8NM9hmM99Y",
        "outputId": "12e51b8b-0b78-4320-fc75-d7dffaffd943"
      },
      "execution_count": 19,
      "outputs": [
        {
          "output_type": "execute_result",
          "data": {
            "text/plain": [
              "   Flow Duration  Tot Fwd Pkts  Tot Bwd Pkts  TotLen Fwd Pkts  \\\n",
              "0       0.000054      0.000000      0.000000        -0.000064   \n",
              "1      -0.000147      0.000000      0.000000        -0.000076   \n",
              "2      -0.000174      0.000000      0.000000         0.000038   \n",
              "3      -0.000113      0.000038      0.000000         0.000046   \n",
              "4      -0.000205      0.000000      0.000079         0.000000   \n",
              "\n",
              "   TotLen Bwd Pkts  Fwd Pkt Len Max  Fwd Pkt Len Min  Fwd Pkt Len Mean  \\\n",
              "0         0.000000         0.000083         0.000000          0.000087   \n",
              "1         0.000021         0.000000         0.000036          0.000033   \n",
              "2        -0.000024         0.000038        -0.000026         -0.000035   \n",
              "3        -0.000033        -0.000036        -0.000057         -0.000025   \n",
              "4        -0.000046         0.000000         0.000000          0.000000   \n",
              "\n",
              "   Fwd Pkt Len Std  Bwd Pkt Len Max  ...  Fwd Act Data Pkts  Fwd Seg Size Min  \\\n",
              "0        -0.000049         0.000000  ...                0.0               0.0   \n",
              "1         0.000035         0.000000  ...                0.0               0.0   \n",
              "2        -0.000055         0.000000  ...                0.0               0.0   \n",
              "3         0.000020        -0.000028  ...                0.0               0.0   \n",
              "4        -0.000047         0.000000  ...                0.0               0.0   \n",
              "\n",
              "   Active Mean  Active Std  Active Max  Active Min  Idle Mean  Idle Std  \\\n",
              "0    -0.002304   -0.001957    0.000000    0.000389    0.00000  0.000000   \n",
              "1     0.000000    0.000000   -0.000065    0.000000    0.00000 -0.000792   \n",
              "2     0.000031    0.000057   -0.000043   -0.000065    0.00000 -0.000986   \n",
              "3     0.000017   -0.000011    0.000000    0.000053    0.00002 -0.001002   \n",
              "4     0.000081    0.000000   -0.000072    0.000108   -0.00089  0.000000   \n",
              "\n",
              "   Idle Max  Idle Min  \n",
              "0  0.000000 -0.000751  \n",
              "1 -0.000477 -0.000353  \n",
              "2 -0.000913  0.000098  \n",
              "3 -0.000858  0.000076  \n",
              "4  0.000000  0.000000  \n",
              "\n",
              "[5 rows x 76 columns]"
            ],
            "text/html": [
              "\n",
              "  <div id=\"df-f10bac93-4466-4ea5-b7fb-7611ffdeb362\">\n",
              "    <div class=\"colab-df-container\">\n",
              "      <div>\n",
              "<style scoped>\n",
              "    .dataframe tbody tr th:only-of-type {\n",
              "        vertical-align: middle;\n",
              "    }\n",
              "\n",
              "    .dataframe tbody tr th {\n",
              "        vertical-align: top;\n",
              "    }\n",
              "\n",
              "    .dataframe thead th {\n",
              "        text-align: right;\n",
              "    }\n",
              "</style>\n",
              "<table border=\"1\" class=\"dataframe\">\n",
              "  <thead>\n",
              "    <tr style=\"text-align: right;\">\n",
              "      <th></th>\n",
              "      <th>Flow Duration</th>\n",
              "      <th>Tot Fwd Pkts</th>\n",
              "      <th>Tot Bwd Pkts</th>\n",
              "      <th>TotLen Fwd Pkts</th>\n",
              "      <th>TotLen Bwd Pkts</th>\n",
              "      <th>Fwd Pkt Len Max</th>\n",
              "      <th>Fwd Pkt Len Min</th>\n",
              "      <th>Fwd Pkt Len Mean</th>\n",
              "      <th>Fwd Pkt Len Std</th>\n",
              "      <th>Bwd Pkt Len Max</th>\n",
              "      <th>...</th>\n",
              "      <th>Fwd Act Data Pkts</th>\n",
              "      <th>Fwd Seg Size Min</th>\n",
              "      <th>Active Mean</th>\n",
              "      <th>Active Std</th>\n",
              "      <th>Active Max</th>\n",
              "      <th>Active Min</th>\n",
              "      <th>Idle Mean</th>\n",
              "      <th>Idle Std</th>\n",
              "      <th>Idle Max</th>\n",
              "      <th>Idle Min</th>\n",
              "    </tr>\n",
              "  </thead>\n",
              "  <tbody>\n",
              "    <tr>\n",
              "      <th>0</th>\n",
              "      <td>0.000054</td>\n",
              "      <td>0.000000</td>\n",
              "      <td>0.000000</td>\n",
              "      <td>-0.000064</td>\n",
              "      <td>0.000000</td>\n",
              "      <td>0.000083</td>\n",
              "      <td>0.000000</td>\n",
              "      <td>0.000087</td>\n",
              "      <td>-0.000049</td>\n",
              "      <td>0.000000</td>\n",
              "      <td>...</td>\n",
              "      <td>0.0</td>\n",
              "      <td>0.0</td>\n",
              "      <td>-0.002304</td>\n",
              "      <td>-0.001957</td>\n",
              "      <td>0.000000</td>\n",
              "      <td>0.000389</td>\n",
              "      <td>0.00000</td>\n",
              "      <td>0.000000</td>\n",
              "      <td>0.000000</td>\n",
              "      <td>-0.000751</td>\n",
              "    </tr>\n",
              "    <tr>\n",
              "      <th>1</th>\n",
              "      <td>-0.000147</td>\n",
              "      <td>0.000000</td>\n",
              "      <td>0.000000</td>\n",
              "      <td>-0.000076</td>\n",
              "      <td>0.000021</td>\n",
              "      <td>0.000000</td>\n",
              "      <td>0.000036</td>\n",
              "      <td>0.000033</td>\n",
              "      <td>0.000035</td>\n",
              "      <td>0.000000</td>\n",
              "      <td>...</td>\n",
              "      <td>0.0</td>\n",
              "      <td>0.0</td>\n",
              "      <td>0.000000</td>\n",
              "      <td>0.000000</td>\n",
              "      <td>-0.000065</td>\n",
              "      <td>0.000000</td>\n",
              "      <td>0.00000</td>\n",
              "      <td>-0.000792</td>\n",
              "      <td>-0.000477</td>\n",
              "      <td>-0.000353</td>\n",
              "    </tr>\n",
              "    <tr>\n",
              "      <th>2</th>\n",
              "      <td>-0.000174</td>\n",
              "      <td>0.000000</td>\n",
              "      <td>0.000000</td>\n",
              "      <td>0.000038</td>\n",
              "      <td>-0.000024</td>\n",
              "      <td>0.000038</td>\n",
              "      <td>-0.000026</td>\n",
              "      <td>-0.000035</td>\n",
              "      <td>-0.000055</td>\n",
              "      <td>0.000000</td>\n",
              "      <td>...</td>\n",
              "      <td>0.0</td>\n",
              "      <td>0.0</td>\n",
              "      <td>0.000031</td>\n",
              "      <td>0.000057</td>\n",
              "      <td>-0.000043</td>\n",
              "      <td>-0.000065</td>\n",
              "      <td>0.00000</td>\n",
              "      <td>-0.000986</td>\n",
              "      <td>-0.000913</td>\n",
              "      <td>0.000098</td>\n",
              "    </tr>\n",
              "    <tr>\n",
              "      <th>3</th>\n",
              "      <td>-0.000113</td>\n",
              "      <td>0.000038</td>\n",
              "      <td>0.000000</td>\n",
              "      <td>0.000046</td>\n",
              "      <td>-0.000033</td>\n",
              "      <td>-0.000036</td>\n",
              "      <td>-0.000057</td>\n",
              "      <td>-0.000025</td>\n",
              "      <td>0.000020</td>\n",
              "      <td>-0.000028</td>\n",
              "      <td>...</td>\n",
              "      <td>0.0</td>\n",
              "      <td>0.0</td>\n",
              "      <td>0.000017</td>\n",
              "      <td>-0.000011</td>\n",
              "      <td>0.000000</td>\n",
              "      <td>0.000053</td>\n",
              "      <td>0.00002</td>\n",
              "      <td>-0.001002</td>\n",
              "      <td>-0.000858</td>\n",
              "      <td>0.000076</td>\n",
              "    </tr>\n",
              "    <tr>\n",
              "      <th>4</th>\n",
              "      <td>-0.000205</td>\n",
              "      <td>0.000000</td>\n",
              "      <td>0.000079</td>\n",
              "      <td>0.000000</td>\n",
              "      <td>-0.000046</td>\n",
              "      <td>0.000000</td>\n",
              "      <td>0.000000</td>\n",
              "      <td>0.000000</td>\n",
              "      <td>-0.000047</td>\n",
              "      <td>0.000000</td>\n",
              "      <td>...</td>\n",
              "      <td>0.0</td>\n",
              "      <td>0.0</td>\n",
              "      <td>0.000081</td>\n",
              "      <td>0.000000</td>\n",
              "      <td>-0.000072</td>\n",
              "      <td>0.000108</td>\n",
              "      <td>-0.00089</td>\n",
              "      <td>0.000000</td>\n",
              "      <td>0.000000</td>\n",
              "      <td>0.000000</td>\n",
              "    </tr>\n",
              "  </tbody>\n",
              "</table>\n",
              "<p>5 rows × 76 columns</p>\n",
              "</div>\n",
              "      <button class=\"colab-df-convert\" onclick=\"convertToInteractive('df-f10bac93-4466-4ea5-b7fb-7611ffdeb362')\"\n",
              "              title=\"Convert this dataframe to an interactive table.\"\n",
              "              style=\"display:none;\">\n",
              "        \n",
              "  <svg xmlns=\"http://www.w3.org/2000/svg\" height=\"24px\"viewBox=\"0 0 24 24\"\n",
              "       width=\"24px\">\n",
              "    <path d=\"M0 0h24v24H0V0z\" fill=\"none\"/>\n",
              "    <path d=\"M18.56 5.44l.94 2.06.94-2.06 2.06-.94-2.06-.94-.94-2.06-.94 2.06-2.06.94zm-11 1L8.5 8.5l.94-2.06 2.06-.94-2.06-.94L8.5 2.5l-.94 2.06-2.06.94zm10 10l.94 2.06.94-2.06 2.06-.94-2.06-.94-.94-2.06-.94 2.06-2.06.94z\"/><path d=\"M17.41 7.96l-1.37-1.37c-.4-.4-.92-.59-1.43-.59-.52 0-1.04.2-1.43.59L10.3 9.45l-7.72 7.72c-.78.78-.78 2.05 0 2.83L4 21.41c.39.39.9.59 1.41.59.51 0 1.02-.2 1.41-.59l7.78-7.78 2.81-2.81c.8-.78.8-2.07 0-2.86zM5.41 20L4 18.59l7.72-7.72 1.47 1.35L5.41 20z\"/>\n",
              "  </svg>\n",
              "      </button>\n",
              "      \n",
              "  <style>\n",
              "    .colab-df-container {\n",
              "      display:flex;\n",
              "      flex-wrap:wrap;\n",
              "      gap: 12px;\n",
              "    }\n",
              "\n",
              "    .colab-df-convert {\n",
              "      background-color: #E8F0FE;\n",
              "      border: none;\n",
              "      border-radius: 50%;\n",
              "      cursor: pointer;\n",
              "      display: none;\n",
              "      fill: #1967D2;\n",
              "      height: 32px;\n",
              "      padding: 0 0 0 0;\n",
              "      width: 32px;\n",
              "    }\n",
              "\n",
              "    .colab-df-convert:hover {\n",
              "      background-color: #E2EBFA;\n",
              "      box-shadow: 0px 1px 2px rgba(60, 64, 67, 0.3), 0px 1px 3px 1px rgba(60, 64, 67, 0.15);\n",
              "      fill: #174EA6;\n",
              "    }\n",
              "\n",
              "    [theme=dark] .colab-df-convert {\n",
              "      background-color: #3B4455;\n",
              "      fill: #D2E3FC;\n",
              "    }\n",
              "\n",
              "    [theme=dark] .colab-df-convert:hover {\n",
              "      background-color: #434B5C;\n",
              "      box-shadow: 0px 1px 3px 1px rgba(0, 0, 0, 0.15);\n",
              "      filter: drop-shadow(0px 1px 2px rgba(0, 0, 0, 0.3));\n",
              "      fill: #FFFFFF;\n",
              "    }\n",
              "  </style>\n",
              "\n",
              "      <script>\n",
              "        const buttonEl =\n",
              "          document.querySelector('#df-f10bac93-4466-4ea5-b7fb-7611ffdeb362 button.colab-df-convert');\n",
              "        buttonEl.style.display =\n",
              "          google.colab.kernel.accessAllowed ? 'block' : 'none';\n",
              "\n",
              "        async function convertToInteractive(key) {\n",
              "          const element = document.querySelector('#df-f10bac93-4466-4ea5-b7fb-7611ffdeb362');\n",
              "          const dataTable =\n",
              "            await google.colab.kernel.invokeFunction('convertToInteractive',\n",
              "                                                     [key], {});\n",
              "          if (!dataTable) return;\n",
              "\n",
              "          const docLinkHtml = 'Like what you see? Visit the ' +\n",
              "            '<a target=\"_blank\" href=https://colab.research.google.com/notebooks/data_table.ipynb>data table notebook</a>'\n",
              "            + ' to learn more about interactive tables.';\n",
              "          element.innerHTML = '';\n",
              "          dataTable['output_type'] = 'display_data';\n",
              "          await google.colab.output.renderOutput(dataTable, element);\n",
              "          const docLink = document.createElement('div');\n",
              "          docLink.innerHTML = docLinkHtml;\n",
              "          element.appendChild(docLink);\n",
              "        }\n",
              "      </script>\n",
              "    </div>\n",
              "  </div>\n",
              "  "
            ]
          },
          "metadata": {},
          "execution_count": 19
        }
      ]
    },
    {
      "cell_type": "code",
      "source": [
        "data_dict = {}\n",
        "for idx in range(0, 100):\n",
        "  # Select the desired row and get the top 10 values's column names\n",
        "  row_values = data_df.iloc[idx].nlargest(10).index.tolist()\n",
        "\n",
        "  # Create a dictionary and add the list with filename as the key\n",
        "  data_dict['Adv sample ' + str(idx)] = row_values"
      ],
      "metadata": {
        "id": "y9KCFvHdP5UO"
      },
      "execution_count": 20,
      "outputs": []
    },
    {
      "cell_type": "code",
      "source": [
        "print(data_dict)"
      ],
      "metadata": {
        "colab": {
          "base_uri": "https://localhost:8080/"
        },
        "id": "SAhM-kXtRLoW",
        "outputId": "b54e8aa2-759e-4b8b-e6b5-dfcca0d8b59c"
      },
      "execution_count": 21,
      "outputs": [
        {
          "output_type": "stream",
          "name": "stdout",
          "text": [
            "{'Adv sample 0': ['ACK Flag Cnt', 'Bwd IAT Max', 'SYN Flag Cnt', 'Bwd Pkts/s', 'Fwd Pkts/b Avg', 'Active Min', 'Bwd PSH Flags', 'FIN Flag Cnt', 'Flow Pkts/s', 'Bwd IAT Min'], 'Adv sample 1': ['Bwd Pkts/s', 'Bwd IAT Max', 'Fwd IAT Mean', 'ACK Flag Cnt', 'FIN Flag Cnt', 'Fwd Pkts/b Avg', 'Fwd IAT Tot', 'Fwd IAT Max', 'Bwd IAT Tot', 'Flow Pkts/s'], 'Adv sample 2': ['Bwd Pkts/s', 'Bwd IAT Max', 'FIN Flag Cnt', 'ACK Flag Cnt', 'Fwd IAT Mean', 'Fwd IAT Tot', 'Flow Pkts/s', 'Bwd PSH Flags', 'Fwd IAT Max', 'Flow IAT Max'], 'Adv sample 3': ['Bwd Pkts/s', 'Bwd IAT Max', 'FIN Flag Cnt', 'ACK Flag Cnt', 'Fwd IAT Mean', 'Fwd IAT Tot', 'Flow Pkts/s', 'Fwd IAT Max', 'Bwd PSH Flags', 'Bwd IAT Tot'], 'Adv sample 4': ['Bwd Pkts/s', 'Down/Up Ratio', 'SYN Flag Cnt', 'Fwd IAT Tot', 'Bwd IAT Tot', 'Bwd PSH Flags', 'Flow Pkts/s', 'Flow IAT Mean', 'Active Min', 'Active Mean'], 'Adv sample 5': ['ACK Flag Cnt', 'Bwd IAT Max', 'SYN Flag Cnt', 'Active Max', 'Fwd Pkts/b Avg', 'Bwd IAT Mean', 'Bwd PSH Flags', 'Subflow Fwd Pkts', 'FIN Flag Cnt', 'Idle Max'], 'Adv sample 6': ['Bwd Pkts/s', 'Fwd IAT Max', 'SYN Flag Cnt', 'FIN Flag Cnt', 'Fwd Header Len', 'Bwd PSH Flags', 'Bwd IAT Max', 'Flow Pkts/s', 'Init Bwd Win Byts', 'TotLen Fwd Pkts'], 'Adv sample 7': ['SYN Flag Cnt', 'Bwd IAT Max', 'ACK Flag Cnt', 'Bwd Pkts/s', 'Bwd IAT Min', 'Active Max', 'FIN Flag Cnt', 'Flow Pkts/s', 'Bwd PSH Flags', 'Init Bwd Win Byts'], 'Adv sample 8': ['Fwd IAT Max', 'Bwd Pkts/s', 'Bwd IAT Min', 'Active Min', 'Init Bwd Win Byts', 'SYN Flag Cnt', 'FIN Flag Cnt', 'Idle Min', 'Bwd IAT Mean', 'Bwd IAT Tot'], 'Adv sample 9': ['Fwd Pkts/b Avg', 'Bwd IAT Max', 'Fwd IAT Max', 'ACK Flag Cnt', 'FIN Flag Cnt', 'Bwd Pkts/s', 'Fwd IAT Tot', 'Bwd PSH Flags', 'Flow Pkts/s', 'Flow IAT Max'], 'Adv sample 10': ['Bwd Pkts/s', 'Down/Up Ratio', 'SYN Flag Cnt', 'Bwd PSH Flags', 'Fwd Act Data Pkts', 'Flow Pkts/s', 'Fwd IAT Tot', 'Subflow Fwd Byts', 'Fwd Pkt Len Min', 'Idle Min'], 'Adv sample 11': ['Bwd Pkts/s', 'SYN Flag Cnt', 'ACK Flag Cnt', 'Bwd Blk Rate Avg', 'Bwd PSH Flags', 'FIN Flag Cnt', 'Init Bwd Win Byts', 'Fwd IAT Tot', 'Bwd IAT Max', 'Bwd IAT Tot'], 'Adv sample 12': ['Bwd Pkts/s', 'Down/Up Ratio', 'SYN Flag Cnt', 'Flow Pkts/s', 'Bwd PSH Flags', 'Subflow Fwd Byts', 'Fwd IAT Tot', 'Fwd Seg Size Avg', 'Idle Min', 'Pkt Len Std'], 'Adv sample 13': ['Bwd IAT Max', 'ACK Flag Cnt', 'SYN Flag Cnt', 'Bwd Pkts/s', 'Active Min', 'FIN Flag Cnt', 'Flow Pkts/s', 'Init Bwd Win Byts', 'Bwd IAT Mean', 'Idle Std'], 'Adv sample 14': ['Bwd Pkts/s', 'Bwd IAT Max', 'FIN Flag Cnt', 'ACK Flag Cnt', 'Fwd IAT Mean', 'Fwd IAT Tot', 'Bwd PSH Flags', 'Flow Pkts/s', 'Fwd IAT Max', 'Bwd IAT Tot'], 'Adv sample 15': ['Bwd IAT Max', 'SYN Flag Cnt', 'ACK Flag Cnt', 'Active Max', 'Bwd IAT Mean', 'Fwd Pkts/b Avg', 'Bwd Pkts/s', 'Active Min', 'FIN Flag Cnt', 'Init Bwd Win Byts'], 'Adv sample 16': ['ACK Flag Cnt', 'Bwd IAT Max', 'SYN Flag Cnt', 'Bwd Pkts/s', 'Active Min', 'FIN Flag Cnt', 'Flow Pkts/s', 'Bwd IAT Mean', 'Init Bwd Win Byts', 'Bwd PSH Flags'], 'Adv sample 17': ['Fwd IAT Max', 'Fwd Pkts/b Avg', 'Bwd Pkts/s', 'Bwd IAT Max', 'FIN Flag Cnt', 'ACK Flag Cnt', 'Bwd Blk Rate Avg', 'Flow Pkts/s', 'Down/Up Ratio', 'Flow IAT Max'], 'Adv sample 18': ['Fwd IAT Max', 'Bwd Pkts/s', 'Bwd IAT Min', 'SYN Flag Cnt', 'Active Min', 'FIN Flag Cnt', 'Idle Min', 'Bwd IAT Mean', 'Bwd IAT Tot', 'Init Bwd Win Byts'], 'Adv sample 19': ['Bwd Pkts/s', 'Fwd IAT Max', 'FIN Flag Cnt', 'SYN Flag Cnt', 'Bwd IAT Max', 'Flow Pkts/s', 'Flow IAT Std', 'Flow IAT Max', 'Pkt Len Var', 'Bwd PSH Flags'], 'Adv sample 20': ['ACK Flag Cnt', 'Bwd IAT Max', 'Active Max', 'SYN Flag Cnt', 'Fwd Pkts/b Avg', 'Bwd IAT Mean', 'Bwd PSH Flags', 'Bwd IAT Min', 'Init Bwd Win Byts', 'Flow IAT Max'], 'Adv sample 21': ['Bwd Pkts/s', 'Bwd IAT Max', 'Fwd IAT Mean', 'FIN Flag Cnt', 'ACK Flag Cnt', 'Fwd Pkts/b Avg', 'Fwd IAT Max', 'Fwd IAT Tot', 'Flow Pkts/s', 'Bwd PSH Flags'], 'Adv sample 22': ['ACK Flag Cnt', 'Bwd IAT Max', 'SYN Flag Cnt', 'Active Max', 'Fwd Pkts/b Avg', 'Bwd IAT Mean', 'Bwd PSH Flags', 'FIN Flag Cnt', 'Idle Std', 'Flow IAT Std'], 'Adv sample 23': ['ACK Flag Cnt', 'Bwd IAT Max', 'SYN Flag Cnt', 'Bwd Pkts/s', 'Fwd Pkts/b Avg', 'Active Min', 'Flow Pkts/s', 'Init Bwd Win Byts', 'Bwd PSH Flags', 'Bwd IAT Min'], 'Adv sample 24': ['Fwd IAT Max', 'Bwd IAT Min', 'Bwd Pkts/s', 'SYN Flag Cnt', 'Down/Up Ratio', 'Fwd Pkts/b Avg', 'Init Bwd Win Byts', 'Bwd PSH Flags', 'Fwd IAT Tot', 'Idle Min'], 'Adv sample 25': ['Fwd Pkts/b Avg', 'Fwd IAT Max', 'Bwd IAT Max', 'ACK Flag Cnt', 'Bwd Pkts/s', 'FIN Flag Cnt', 'Fwd IAT Tot', 'Bwd PSH Flags', 'Init Bwd Win Byts', 'Bwd IAT Std'], 'Adv sample 26': ['ACK Flag Cnt', 'Bwd IAT Max', 'SYN Flag Cnt', 'Bwd Pkts/s', 'Active Max', 'Bwd IAT Mean', 'Active Min', 'FIN Flag Cnt', 'Flow Pkts/s', 'Fwd Pkts/b Avg'], 'Adv sample 27': ['ACK Flag Cnt', 'Bwd IAT Max', 'SYN Flag Cnt', 'Fwd Pkts/b Avg', 'Active Max', 'Bwd IAT Mean', 'FIN Flag Cnt', 'Init Bwd Win Byts', 'Bwd PSH Flags', 'Flow IAT Max'], 'Adv sample 28': ['Fwd Pkts/b Avg', 'Bwd Pkts/s', 'SYN Flag Cnt', 'ACK Flag Cnt', 'Bwd IAT Min', 'Init Bwd Win Byts', 'Fwd Act Data Pkts', 'Fwd IAT Tot', 'Flow Byts/s', 'TotLen Bwd Pkts'], 'Adv sample 29': ['SYN Flag Cnt', 'ACK Flag Cnt', 'Fwd IAT Mean', 'Init Bwd Win Byts', 'Flow Duration', 'FIN Flag Cnt', 'Bwd PSH Flags', 'Bwd IAT Tot', 'Idle Max', 'Flow IAT Min'], 'Adv sample 30': ['Bwd Pkts/s', 'Fwd Pkts/b Avg', 'Down/Up Ratio', 'FIN Flag Cnt', 'SYN Flag Cnt', 'Bwd IAT Tot', 'Flow Pkts/s', 'Flow IAT Max', 'Init Bwd Win Byts', 'Subflow Bwd Byts'], 'Adv sample 31': ['ACK Flag Cnt', 'Bwd IAT Max', 'SYN Flag Cnt', 'Bwd Pkts/s', 'Fwd Pkts/b Avg', 'Active Min', 'Init Bwd Win Byts', 'Bwd IAT Min', 'Flow Pkts/s', 'FIN Flag Cnt'], 'Adv sample 32': ['Bwd Pkts/s', 'Bwd IAT Max', 'FIN Flag Cnt', 'ACK Flag Cnt', 'Fwd IAT Mean', 'Flow Pkts/s', 'Fwd IAT Tot', 'Bwd PSH Flags', 'Fwd IAT Max', 'Idle Min'], 'Adv sample 33': ['SYN Flag Cnt', 'ACK Flag Cnt', 'Bwd IAT Max', 'Bwd Pkts/s', 'Bwd IAT Min', 'FIN Flag Cnt', 'Bwd PSH Flags', 'PSH Flag Cnt', 'Active Max', 'Flow Duration'], 'Adv sample 34': ['ACK Flag Cnt', 'SYN Flag Cnt', 'Bwd IAT Max', 'Bwd Pkts/s', 'Active Max', 'FIN Flag Cnt', 'Init Bwd Win Byts', 'Flow Pkts/s', 'Bwd IAT Min', 'PSH Flag Cnt'], 'Adv sample 35': ['Fwd Pkts/b Avg', 'Fwd IAT Max', 'Bwd Pkts/s', 'Bwd IAT Max', 'FIN Flag Cnt', 'Flow Pkts/s', 'Bwd PSH Flags', 'ACK Flag Cnt', 'Fwd IAT Tot', 'Down/Up Ratio'], 'Adv sample 36': ['ACK Flag Cnt', 'Bwd IAT Max', 'SYN Flag Cnt', 'Fwd Pkts/b Avg', 'Active Max', 'Bwd IAT Mean', 'Bwd IAT Min', 'Init Bwd Win Byts', 'FIN Flag Cnt', 'Flow Duration'], 'Adv sample 37': ['ACK Flag Cnt', 'SYN Flag Cnt', 'Bwd IAT Max', 'Bwd Pkts/s', 'Fwd Pkts/b Avg', 'Active Min', 'Flow Pkts/s', 'FIN Flag Cnt', 'Bwd PSH Flags', 'Init Bwd Win Byts'], 'Adv sample 38': ['Fwd IAT Max', 'Bwd Pkts/s', 'Bwd IAT Min', 'Active Min', 'SYN Flag Cnt', 'FIN Flag Cnt', 'Init Bwd Win Byts', 'Bwd IAT Tot', 'Bwd IAT Mean', 'Fwd IAT Tot'], 'Adv sample 39': ['ACK Flag Cnt', 'SYN Flag Cnt', 'Bwd IAT Max', 'Bwd Pkts/s', 'Fwd Pkts/b Avg', 'Active Min', 'Flow Pkts/s', 'Bwd PSH Flags', 'Init Bwd Win Byts', 'FIN Flag Cnt'], 'Adv sample 40': ['ACK Flag Cnt', 'Bwd IAT Max', 'SYN Flag Cnt', 'Bwd Pkts/s', 'Fwd Pkts/b Avg', 'Active Min', 'Flow Pkts/s', 'FIN Flag Cnt', 'Init Bwd Win Byts', 'Bwd PSH Flags'], 'Adv sample 41': ['ACK Flag Cnt', 'Bwd IAT Max', 'SYN Flag Cnt', 'Bwd Pkts/s', 'Fwd Pkts/b Avg', 'Active Min', 'Init Bwd Win Byts', 'Flow Pkts/s', 'FIN Flag Cnt', 'Flow IAT Max'], 'Adv sample 42': ['Bwd Pkts/s', 'Fwd Pkts/b Avg', 'Down/Up Ratio', 'FIN Flag Cnt', 'Flow Pkts/s', 'SYN Flag Cnt', 'Flow IAT Max', 'Bwd IAT Tot', 'Init Bwd Win Byts', 'Pkt Len Var'], 'Adv sample 43': ['Bwd Pkts/s', 'Fwd IAT Max', 'Bwd IAT Max', 'Bwd IAT Min', 'FIN Flag Cnt', 'Bwd IAT Tot', 'Init Bwd Win Byts', 'Down/Up Ratio', 'Flow Pkts/s', 'Bwd PSH Flags'], 'Adv sample 44': ['ACK Flag Cnt', 'Bwd IAT Max', 'SYN Flag Cnt', 'Active Max', 'Fwd Pkts/b Avg', 'Bwd IAT Mean', 'Bwd IAT Min', 'Bwd PSH Flags', 'Active Min', 'FIN Flag Cnt'], 'Adv sample 45': ['ACK Flag Cnt', 'Bwd IAT Max', 'SYN Flag Cnt', 'Bwd Pkts/s', 'Fwd Pkts/b Avg', 'Active Min', 'Init Bwd Win Byts', 'Flow Pkts/s', 'Bwd PSH Flags', 'FIN Flag Cnt'], 'Adv sample 46': ['ACK Flag Cnt', 'Bwd IAT Max', 'SYN Flag Cnt', 'Bwd Pkts/s', 'Fwd Pkts/b Avg', 'Active Min', 'Flow Pkts/s', 'FIN Flag Cnt', 'Init Bwd Win Byts', 'Bwd IAT Min'], 'Adv sample 47': ['ACK Flag Cnt', 'SYN Flag Cnt', 'Bwd IAT Max', 'Bwd Pkts/s', 'Active Max', 'FIN Flag Cnt', 'Flow Pkts/s', 'Bwd IAT Min', 'Bwd PSH Flags', 'Init Bwd Win Byts'], 'Adv sample 48': ['Fwd IAT Max', 'Bwd IAT Max', 'Bwd Pkts/s', 'Fwd Pkts/b Avg', 'Idle Min', 'FIN Flag Cnt', 'ACK Flag Cnt', 'Bwd PSH Flags', 'Flow Pkts/s', 'Fwd IAT Tot'], 'Adv sample 49': ['Bwd Pkts/s', 'SYN Flag Cnt', 'ACK Flag Cnt', 'Bwd Blk Rate Avg', 'FIN Flag Cnt', 'Bwd PSH Flags', 'Init Bwd Win Byts', 'Bwd IAT Max', 'Bwd IAT Tot', 'Fwd IAT Tot'], 'Adv sample 50': ['Bwd Pkts/s', 'FIN Flag Cnt', 'Flow Pkts/s', 'Fwd IAT Tot', 'Bwd PSH Flags', 'Bwd IAT Tot', 'Init Bwd Win Byts', 'Fwd IAT Max', 'SYN Flag Cnt', 'Pkt Len Min'], 'Adv sample 51': ['Bwd Pkts/s', 'Down/Up Ratio', 'SYN Flag Cnt', 'Fwd IAT Tot', 'Bwd PSH Flags', 'Flow Pkts/s', 'Bwd IAT Tot', 'Idle Std', 'Init Bwd Win Byts', 'Tot Fwd Pkts'], 'Adv sample 52': ['ACK Flag Cnt', 'Bwd IAT Max', 'SYN Flag Cnt', 'Active Max', 'Fwd Pkts/b Avg', 'Bwd IAT Mean', 'FIN Flag Cnt', 'Bwd IAT Min', 'Bwd PSH Flags', 'Fwd Pkt Len Mean'], 'Adv sample 53': ['Fwd Pkts/b Avg', 'Fwd IAT Max', 'Bwd Pkts/s', 'Bwd IAT Max', 'FIN Flag Cnt', 'Down/Up Ratio', 'ACK Flag Cnt', 'Bwd PSH Flags', 'Fwd IAT Tot', 'Init Bwd Win Byts'], 'Adv sample 54': ['Bwd Pkts/s', 'Down/Up Ratio', 'SYN Flag Cnt', 'Bwd IAT Tot', 'Bwd PSH Flags', 'Flow Pkts/s', 'PSH Flag Cnt', 'Fwd IAT Tot', 'Idle Min', 'TotLen Bwd Pkts'], 'Adv sample 55': ['Bwd Pkts/s', 'Fwd IAT Max', 'FIN Flag Cnt', 'Flow Pkts/s', 'Fwd IAT Tot', 'Bwd IAT Std', 'Bwd IAT Tot', 'SYN Flag Cnt', 'Bwd PSH Flags', 'PSH Flag Cnt'], 'Adv sample 56': ['ACK Flag Cnt', 'Bwd IAT Max', 'SYN Flag Cnt', 'Fwd Pkts/b Avg', 'Bwd Pkts/s', 'Active Min', 'Flow Pkts/s', 'FIN Flag Cnt', 'Init Bwd Win Byts', 'Bwd PSH Flags'], 'Adv sample 57': ['ACK Flag Cnt', 'Bwd IAT Max', 'SYN Flag Cnt', 'Bwd Pkts/s', 'Fwd Pkts/b Avg', 'Active Min', 'Init Bwd Win Byts', 'Flow Pkts/s', 'Bwd PSH Flags', 'FIN Flag Cnt'], 'Adv sample 58': ['ACK Flag Cnt', 'SYN Flag Cnt', 'Bwd IAT Max', 'Fwd Pkts/b Avg', 'Bwd Pkts/s', 'Active Min', 'Active Max', 'Bwd IAT Mean', 'Flow Pkts/s', 'Bwd IAT Min'], 'Adv sample 59': ['Fwd IAT Max', 'Bwd Pkts/s', 'Bwd IAT Min', 'Active Min', 'FIN Flag Cnt', 'SYN Flag Cnt', 'Bwd IAT Mean', 'Bwd IAT Tot', 'Idle Min', 'Bwd PSH Flags'], 'Adv sample 60': ['Fwd IAT Max', 'Bwd Pkts/s', 'Bwd IAT Min', 'Active Min', 'FIN Flag Cnt', 'Bwd IAT Mean', 'SYN Flag Cnt', 'Init Bwd Win Byts', 'Bwd IAT Tot', 'Flow IAT Max'], 'Adv sample 61': ['Bwd Pkts/s', 'FIN Flag Cnt', 'Fwd IAT Tot', 'Flow Pkts/s', 'Fwd IAT Max', 'Bwd IAT Tot', 'TotLen Bwd Pkts', 'Bwd IAT Mean', 'Bwd PSH Flags', 'Fwd IAT Min'], 'Adv sample 62': ['ACK Flag Cnt', 'Bwd IAT Max', 'SYN Flag Cnt', 'Bwd Pkts/s', 'Bwd IAT Mean', 'Active Max', 'Active Min', 'FIN Flag Cnt', 'Fwd Pkts/b Avg', 'Flow Pkts/s'], 'Adv sample 63': ['SYN Flag Cnt', 'ACK Flag Cnt', 'Fwd IAT Mean', 'FIN Flag Cnt', 'Bwd PSH Flags', 'Bwd IAT Tot', 'Init Bwd Win Byts', 'Flow IAT Max', 'Flow Duration', 'Pkt Len Max'], 'Adv sample 64': ['ACK Flag Cnt', 'SYN Flag Cnt', 'Fwd IAT Mean', 'Bwd IAT Tot', 'Init Bwd Win Byts', 'Flow IAT Max', 'Bwd PSH Flags', 'FIN Flag Cnt', 'Flow Duration', 'Idle Max'], 'Adv sample 65': ['ACK Flag Cnt', 'SYN Flag Cnt', 'Fwd IAT Mean', 'FIN Flag Cnt', 'Init Bwd Win Byts', 'Bwd PSH Flags', 'Flow Duration', 'Flow IAT Max', 'Bwd Blk Rate Avg', 'Bwd IAT Tot'], 'Adv sample 66': ['Bwd Pkts/s', 'FIN Flag Cnt', 'Fwd IAT Tot', 'Bwd IAT Tot', 'Fwd IAT Max', 'SYN Flag Cnt', 'Flow Pkts/s', 'Bwd PSH Flags', 'Pkt Len Max', 'Init Bwd Win Byts'], 'Adv sample 67': ['ACK Flag Cnt', 'SYN Flag Cnt', 'Bwd IAT Max', 'Bwd Pkts/s', 'Fwd Pkts/b Avg', 'Active Min', 'FIN Flag Cnt', 'Flow Pkts/s', 'PSH Flag Cnt', 'Bwd IAT Min'], 'Adv sample 68': ['Fwd IAT Max', 'Bwd Pkts/s', 'Bwd IAT Min', 'Active Min', 'FIN Flag Cnt', 'SYN Flag Cnt', 'Bwd IAT Mean', 'Pkt Len Min', 'Bwd PSH Flags', 'Fwd IAT Tot'], 'Adv sample 69': ['Fwd IAT Max', 'Bwd IAT Max', 'Bwd Pkts/s', 'Fwd Pkts/b Avg', 'FIN Flag Cnt', 'Idle Min', 'ACK Flag Cnt', 'Bwd PSH Flags', 'Flow Pkts/s', 'Down/Up Ratio'], 'Adv sample 70': ['Fwd IAT Max', 'Fwd Pkts/b Avg', 'Bwd Pkts/s', 'Bwd IAT Max', 'FIN Flag Cnt', 'Bwd PSH Flags', 'ACK Flag Cnt', 'Flow Pkts/s', 'Fwd IAT Tot', 'Down/Up Ratio'], 'Adv sample 71': ['ACK Flag Cnt', 'Bwd IAT Max', 'SYN Flag Cnt', 'Fwd Pkts/b Avg', 'Bwd Pkts/s', 'Active Max', 'Active Min', 'Bwd IAT Min', 'FIN Flag Cnt', 'Flow Pkts/s'], 'Adv sample 72': ['Down/Up Ratio', 'Bwd Pkts/s', 'Idle Mean', 'Fwd Pkts/b Avg', 'FIN Flag Cnt', 'Bwd IAT Max', 'Active Std', 'Idle Min', 'Flow IAT Mean', 'Fwd IAT Tot'], 'Adv sample 73': ['ACK Flag Cnt', 'Bwd IAT Max', 'SYN Flag Cnt', 'Bwd Pkts/s', 'Fwd Pkts/b Avg', 'Active Min', 'Flow Pkts/s', 'Bwd IAT Min', 'Init Bwd Win Byts', 'Bwd PSH Flags'], 'Adv sample 74': ['Bwd Pkts/s', 'Down/Up Ratio', 'SYN Flag Cnt', 'Fwd IAT Tot', 'Bwd IAT Tot', 'PSH Flag Cnt', 'Fwd IAT Std', 'Active Std', 'Bwd PSH Flags', 'Fwd Pkt Len Min'], 'Adv sample 75': ['Fwd IAT Max', 'Bwd Pkts/s', 'Bwd IAT Min', 'SYN Flag Cnt', 'FIN Flag Cnt', 'Active Min', 'Bwd IAT Mean', 'Fwd IAT Tot', 'Idle Min', 'PSH Flag Cnt'], 'Adv sample 76': ['Bwd Pkts/s', 'Fwd IAT Max', 'FIN Flag Cnt', 'SYN Flag Cnt', 'Bwd PSH Flags', 'Flow Pkts/s', 'Bwd IAT Tot', 'Fwd IAT Tot', 'Idle Min', 'Flow IAT Std'], 'Adv sample 77': ['Bwd Pkts/s', 'Bwd IAT Max', 'Fwd IAT Mean', 'FIN Flag Cnt', 'ACK Flag Cnt', 'Fwd Pkts/b Avg', 'Fwd IAT Tot', 'Fwd IAT Max', 'Flow Pkts/s', 'Bwd PSH Flags'], 'Adv sample 78': ['ACK Flag Cnt', 'SYN Flag Cnt', 'Bwd IAT Max', 'Bwd Pkts/s', 'Fwd Pkts/b Avg', 'Active Min', 'FIN Flag Cnt', 'Flow Pkts/s', 'Bwd IAT Min', 'Init Bwd Win Byts'], 'Adv sample 79': ['Fwd IAT Max', 'Bwd IAT Min', 'Bwd Pkts/s', 'Down/Up Ratio', 'SYN Flag Cnt', 'Fwd Pkts/b Avg', 'Init Bwd Win Byts', 'PSH Flag Cnt', 'Bwd PSH Flags', 'Fwd IAT Tot'], 'Adv sample 80': ['ACK Flag Cnt', 'SYN Flag Cnt', 'Bwd IAT Max', 'Bwd Pkts/s', 'Fwd Pkts/b Avg', 'Active Min', 'Flow Pkts/s', 'FIN Flag Cnt', 'Bwd PSH Flags', 'Flow IAT Max'], 'Adv sample 81': ['Bwd Pkts/s', 'Down/Up Ratio', 'SYN Flag Cnt', 'Bwd PSH Flags', 'Fwd IAT Tot', 'Flow Pkts/s', 'Bwd Pkt Len Min', 'Fwd IAT Mean', 'Bwd IAT Tot', 'Active Min'], 'Adv sample 82': ['ACK Flag Cnt', 'Bwd IAT Max', 'SYN Flag Cnt', 'Bwd IAT Mean', 'Bwd Pkts/s', 'Active Max', 'Active Min', 'Fwd Pkts/b Avg', 'FIN Flag Cnt', 'Bwd IAT Min'], 'Adv sample 83': ['ACK Flag Cnt', 'SYN Flag Cnt', 'Bwd IAT Max', 'Bwd Pkts/s', 'Fwd Pkts/b Avg', 'Active Min', 'FIN Flag Cnt', 'Flow Pkts/s', 'Bwd PSH Flags', 'Flow IAT Max'], 'Adv sample 84': ['Fwd IAT Max', 'Bwd Pkts/s', 'Bwd IAT Min', 'Active Min', 'SYN Flag Cnt', 'FIN Flag Cnt', 'Bwd IAT Tot', 'Bwd IAT Mean', 'Bwd PSH Flags', 'Idle Min'], 'Adv sample 85': ['Bwd Pkts/s', 'Fwd Pkts/b Avg', 'Down/Up Ratio', 'FIN Flag Cnt', 'Bwd IAT Tot', 'Flow Pkts/s', 'SYN Flag Cnt', 'ACK Flag Cnt', 'Flow IAT Max', 'TotLen Bwd Pkts'], 'Adv sample 86': ['Bwd Pkts/s', 'Fwd IAT Max', 'SYN Flag Cnt', 'FIN Flag Cnt', 'Flow Pkts/s', 'Init Bwd Win Byts', 'Bwd PSH Flags', 'Fwd Pkt Len Min', 'Tot Bwd Pkts', 'Fwd IAT Tot'], 'Adv sample 87': ['Bwd Pkts/s', 'Bwd IAT Max', 'Fwd IAT Mean', 'FIN Flag Cnt', 'Fwd Pkts/b Avg', 'ACK Flag Cnt', 'Fwd IAT Tot', 'Flow Pkts/s', 'Bwd PSH Flags', 'Fwd IAT Max'], 'Adv sample 88': ['ACK Flag Cnt', 'SYN Flag Cnt', 'Fwd IAT Mean', 'FIN Flag Cnt', 'Init Bwd Win Byts', 'Bwd IAT Tot', 'Flow Duration', 'Bwd PSH Flags', 'Idle Max', 'Flow IAT Max'], 'Adv sample 89': ['Bwd Pkts/s', 'Down/Up Ratio', 'SYN Flag Cnt', 'PSH Flag Cnt', 'Fwd IAT Tot', 'Flow Pkts/s', 'Bwd PSH Flags', 'Flow IAT Min', 'Subflow Bwd Byts', 'Tot Bwd Pkts'], 'Adv sample 90': ['Fwd IAT Max', 'Fwd Pkts/b Avg', 'Bwd IAT Max', 'Bwd Pkts/s', 'Down/Up Ratio', 'ACK Flag Cnt', 'FIN Flag Cnt', 'Flow Pkts/s', 'Bwd PSH Flags', 'Fwd IAT Tot'], 'Adv sample 91': ['ACK Flag Cnt', 'Bwd IAT Max', 'SYN Flag Cnt', 'Bwd Pkts/s', 'Fwd Pkts/b Avg', 'Active Min', 'Flow Pkts/s', 'Bwd PSH Flags', 'Init Bwd Win Byts', 'Flow Duration'], 'Adv sample 92': ['Bwd Pkts/s', 'Down/Up Ratio', 'SYN Flag Cnt', 'Fwd IAT Max', 'Bwd PSH Flags', 'Fwd IAT Tot', 'Flow Pkts/s', 'Init Bwd Win Byts', 'Fwd Pkt Len Mean', 'Fwd Pkts/s'], 'Adv sample 93': ['ACK Flag Cnt', 'Bwd IAT Max', 'SYN Flag Cnt', 'Fwd Pkts/b Avg', 'Bwd Pkts/s', 'Active Min', 'Flow Pkts/s', 'FIN Flag Cnt', 'Init Bwd Win Byts', 'Bwd IAT Min'], 'Adv sample 94': ['Bwd IAT Max', 'Bwd Pkts/s', 'Fwd Pkts/b Avg', 'FIN Flag Cnt', 'Flow Pkts/s', 'Flow Duration', 'ACK Flag Cnt', 'Bwd PSH Flags', 'Down/Up Ratio', 'Fwd Pkt Len Mean'], 'Adv sample 95': ['SYN Flag Cnt', 'ACK Flag Cnt', 'Fwd IAT Mean', 'Bwd PSH Flags', 'FIN Flag Cnt', 'Init Bwd Win Byts', 'Bwd IAT Tot', 'Flow IAT Max', 'Flow Duration', 'Tot Bwd Pkts'], 'Adv sample 96': ['ACK Flag Cnt', 'SYN Flag Cnt', 'Bwd IAT Max', 'Active Max', 'Fwd Pkts/b Avg', 'Bwd Pkts/s', 'Bwd IAT Mean', 'Active Min', 'Flow Pkts/s', 'FIN Flag Cnt'], 'Adv sample 97': ['Bwd Pkts/s', 'FIN Flag Cnt', 'Flow Pkts/s', 'Fwd IAT Tot', 'Bwd IAT Tot', 'Bwd PSH Flags', 'Fwd IAT Max', 'Init Bwd Win Byts', 'Bwd IAT Max', 'Flow IAT Max'], 'Adv sample 98': ['ACK Flag Cnt', 'Bwd IAT Max', 'SYN Flag Cnt', 'Bwd Pkts/s', 'Active Min', 'FIN Flag Cnt', 'Flow Pkts/s', 'Bwd IAT Mean', 'Init Bwd Win Byts', 'Bwd PSH Flags'], 'Adv sample 99': ['Bwd IAT Max', 'ACK Flag Cnt', 'SYN Flag Cnt', 'Active Max', 'Bwd IAT Mean', 'Fwd Pkts/b Avg', 'FIN Flag Cnt', 'Active Min', 'Bwd IAT Min', 'Init Bwd Win Byts']}\n"
          ]
        }
      ]
    },
    {
      "cell_type": "code",
      "source": [
        "len(shap_values[0])"
      ],
      "metadata": {
        "colab": {
          "base_uri": "https://localhost:8080/"
        },
        "id": "YdyTABeHYa2k",
        "outputId": "1000a6d5-c9e2-4e08-8469-8e79fcda146e"
      },
      "execution_count": 22,
      "outputs": [
        {
          "output_type": "execute_result",
          "data": {
            "text/plain": [
              "100"
            ]
          },
          "metadata": {},
          "execution_count": 22
        }
      ]
    },
    {
      "cell_type": "code",
      "source": [
        "len(data_dict)"
      ],
      "metadata": {
        "colab": {
          "base_uri": "https://localhost:8080/"
        },
        "id": "rUB23r63Tjug",
        "outputId": "5686fd1f-6c76-4247-c70b-7bf75773d676"
      },
      "execution_count": 23,
      "outputs": [
        {
          "output_type": "execute_result",
          "data": {
            "text/plain": [
              "100"
            ]
          },
          "metadata": {},
          "execution_count": 23
        }
      ]
    },
    {
      "cell_type": "markdown",
      "source": [
        "# Detection phase"
      ],
      "metadata": {
        "id": "E8tWQQDtNIJk"
      }
    },
    {
      "cell_type": "code",
      "source": [
        "import os\n",
        "import pandas as pd"
      ],
      "metadata": {
        "id": "mmslrdn7z7Zf"
      },
      "execution_count": 24,
      "outputs": []
    },
    {
      "cell_type": "code",
      "source": [
        "whitelist_df = pd.read_csv('/content/drive/MyDrive/DACN_XAI_Adv_defense/InSDN/cnn_top24_InSDN.csv')\n",
        "whitelist_df.head(24)"
      ],
      "metadata": {
        "colab": {
          "base_uri": "https://localhost:8080/",
          "height": 802
        },
        "id": "_Mz4neCyz2ji",
        "outputId": "9e586e7d-a46f-4124-e896-b7c18353ba36"
      },
      "execution_count": 49,
      "outputs": [
        {
          "output_type": "execute_result",
          "data": {
            "text/plain": [
              "              Feature  Frequency\n",
              "0        URG Flag Cnt        149\n",
              "1          Bwd Pkts/s        148\n",
              "2        FIN Flag Cnt        141\n",
              "3       Bwd PSH Flags        131\n",
              "4        SYN Flag Cnt        123\n",
              "5        PSH Flag Cnt        116\n",
              "6        ACK Flag Cnt         98\n",
              "7       Down/Up Ratio         97\n",
              "8         Flow Pkts/s         86\n",
              "9   Init Bwd Win Byts         82\n",
              "10        Bwd IAT Max         47\n",
              "11        Bwd IAT Tot         46\n",
              "12      Bwd URG Flags         39\n",
              "13      Flow Duration         36\n",
              "14           Idle Min         26\n",
              "15    Bwd Pkt Len Max         20\n",
              "16        Fwd IAT Max         17\n",
              "17       Flow IAT Std         12\n",
              "18       Fwd IAT Mean         11\n",
              "19       Flow IAT Max         11\n",
              "20       Tot Fwd Pkts          9\n",
              "21   Bwd Pkt Len Mean          9\n",
              "22        Bwd IAT Std          6\n",
              "23           Idle Max          6"
            ],
            "text/html": [
              "\n",
              "  <div id=\"df-f2ec6f9d-e14b-43e8-911b-77ec3ae122c5\">\n",
              "    <div class=\"colab-df-container\">\n",
              "      <div>\n",
              "<style scoped>\n",
              "    .dataframe tbody tr th:only-of-type {\n",
              "        vertical-align: middle;\n",
              "    }\n",
              "\n",
              "    .dataframe tbody tr th {\n",
              "        vertical-align: top;\n",
              "    }\n",
              "\n",
              "    .dataframe thead th {\n",
              "        text-align: right;\n",
              "    }\n",
              "</style>\n",
              "<table border=\"1\" class=\"dataframe\">\n",
              "  <thead>\n",
              "    <tr style=\"text-align: right;\">\n",
              "      <th></th>\n",
              "      <th>Feature</th>\n",
              "      <th>Frequency</th>\n",
              "    </tr>\n",
              "  </thead>\n",
              "  <tbody>\n",
              "    <tr>\n",
              "      <th>0</th>\n",
              "      <td>URG Flag Cnt</td>\n",
              "      <td>149</td>\n",
              "    </tr>\n",
              "    <tr>\n",
              "      <th>1</th>\n",
              "      <td>Bwd Pkts/s</td>\n",
              "      <td>148</td>\n",
              "    </tr>\n",
              "    <tr>\n",
              "      <th>2</th>\n",
              "      <td>FIN Flag Cnt</td>\n",
              "      <td>141</td>\n",
              "    </tr>\n",
              "    <tr>\n",
              "      <th>3</th>\n",
              "      <td>Bwd PSH Flags</td>\n",
              "      <td>131</td>\n",
              "    </tr>\n",
              "    <tr>\n",
              "      <th>4</th>\n",
              "      <td>SYN Flag Cnt</td>\n",
              "      <td>123</td>\n",
              "    </tr>\n",
              "    <tr>\n",
              "      <th>5</th>\n",
              "      <td>PSH Flag Cnt</td>\n",
              "      <td>116</td>\n",
              "    </tr>\n",
              "    <tr>\n",
              "      <th>6</th>\n",
              "      <td>ACK Flag Cnt</td>\n",
              "      <td>98</td>\n",
              "    </tr>\n",
              "    <tr>\n",
              "      <th>7</th>\n",
              "      <td>Down/Up Ratio</td>\n",
              "      <td>97</td>\n",
              "    </tr>\n",
              "    <tr>\n",
              "      <th>8</th>\n",
              "      <td>Flow Pkts/s</td>\n",
              "      <td>86</td>\n",
              "    </tr>\n",
              "    <tr>\n",
              "      <th>9</th>\n",
              "      <td>Init Bwd Win Byts</td>\n",
              "      <td>82</td>\n",
              "    </tr>\n",
              "    <tr>\n",
              "      <th>10</th>\n",
              "      <td>Bwd IAT Max</td>\n",
              "      <td>47</td>\n",
              "    </tr>\n",
              "    <tr>\n",
              "      <th>11</th>\n",
              "      <td>Bwd IAT Tot</td>\n",
              "      <td>46</td>\n",
              "    </tr>\n",
              "    <tr>\n",
              "      <th>12</th>\n",
              "      <td>Bwd URG Flags</td>\n",
              "      <td>39</td>\n",
              "    </tr>\n",
              "    <tr>\n",
              "      <th>13</th>\n",
              "      <td>Flow Duration</td>\n",
              "      <td>36</td>\n",
              "    </tr>\n",
              "    <tr>\n",
              "      <th>14</th>\n",
              "      <td>Idle Min</td>\n",
              "      <td>26</td>\n",
              "    </tr>\n",
              "    <tr>\n",
              "      <th>15</th>\n",
              "      <td>Bwd Pkt Len Max</td>\n",
              "      <td>20</td>\n",
              "    </tr>\n",
              "    <tr>\n",
              "      <th>16</th>\n",
              "      <td>Fwd IAT Max</td>\n",
              "      <td>17</td>\n",
              "    </tr>\n",
              "    <tr>\n",
              "      <th>17</th>\n",
              "      <td>Flow IAT Std</td>\n",
              "      <td>12</td>\n",
              "    </tr>\n",
              "    <tr>\n",
              "      <th>18</th>\n",
              "      <td>Fwd IAT Mean</td>\n",
              "      <td>11</td>\n",
              "    </tr>\n",
              "    <tr>\n",
              "      <th>19</th>\n",
              "      <td>Flow IAT Max</td>\n",
              "      <td>11</td>\n",
              "    </tr>\n",
              "    <tr>\n",
              "      <th>20</th>\n",
              "      <td>Tot Fwd Pkts</td>\n",
              "      <td>9</td>\n",
              "    </tr>\n",
              "    <tr>\n",
              "      <th>21</th>\n",
              "      <td>Bwd Pkt Len Mean</td>\n",
              "      <td>9</td>\n",
              "    </tr>\n",
              "    <tr>\n",
              "      <th>22</th>\n",
              "      <td>Bwd IAT Std</td>\n",
              "      <td>6</td>\n",
              "    </tr>\n",
              "    <tr>\n",
              "      <th>23</th>\n",
              "      <td>Idle Max</td>\n",
              "      <td>6</td>\n",
              "    </tr>\n",
              "  </tbody>\n",
              "</table>\n",
              "</div>\n",
              "      <button class=\"colab-df-convert\" onclick=\"convertToInteractive('df-f2ec6f9d-e14b-43e8-911b-77ec3ae122c5')\"\n",
              "              title=\"Convert this dataframe to an interactive table.\"\n",
              "              style=\"display:none;\">\n",
              "        \n",
              "  <svg xmlns=\"http://www.w3.org/2000/svg\" height=\"24px\"viewBox=\"0 0 24 24\"\n",
              "       width=\"24px\">\n",
              "    <path d=\"M0 0h24v24H0V0z\" fill=\"none\"/>\n",
              "    <path d=\"M18.56 5.44l.94 2.06.94-2.06 2.06-.94-2.06-.94-.94-2.06-.94 2.06-2.06.94zm-11 1L8.5 8.5l.94-2.06 2.06-.94-2.06-.94L8.5 2.5l-.94 2.06-2.06.94zm10 10l.94 2.06.94-2.06 2.06-.94-2.06-.94-.94-2.06-.94 2.06-2.06.94z\"/><path d=\"M17.41 7.96l-1.37-1.37c-.4-.4-.92-.59-1.43-.59-.52 0-1.04.2-1.43.59L10.3 9.45l-7.72 7.72c-.78.78-.78 2.05 0 2.83L4 21.41c.39.39.9.59 1.41.59.51 0 1.02-.2 1.41-.59l7.78-7.78 2.81-2.81c.8-.78.8-2.07 0-2.86zM5.41 20L4 18.59l7.72-7.72 1.47 1.35L5.41 20z\"/>\n",
              "  </svg>\n",
              "      </button>\n",
              "      \n",
              "  <style>\n",
              "    .colab-df-container {\n",
              "      display:flex;\n",
              "      flex-wrap:wrap;\n",
              "      gap: 12px;\n",
              "    }\n",
              "\n",
              "    .colab-df-convert {\n",
              "      background-color: #E8F0FE;\n",
              "      border: none;\n",
              "      border-radius: 50%;\n",
              "      cursor: pointer;\n",
              "      display: none;\n",
              "      fill: #1967D2;\n",
              "      height: 32px;\n",
              "      padding: 0 0 0 0;\n",
              "      width: 32px;\n",
              "    }\n",
              "\n",
              "    .colab-df-convert:hover {\n",
              "      background-color: #E2EBFA;\n",
              "      box-shadow: 0px 1px 2px rgba(60, 64, 67, 0.3), 0px 1px 3px 1px rgba(60, 64, 67, 0.15);\n",
              "      fill: #174EA6;\n",
              "    }\n",
              "\n",
              "    [theme=dark] .colab-df-convert {\n",
              "      background-color: #3B4455;\n",
              "      fill: #D2E3FC;\n",
              "    }\n",
              "\n",
              "    [theme=dark] .colab-df-convert:hover {\n",
              "      background-color: #434B5C;\n",
              "      box-shadow: 0px 1px 3px 1px rgba(0, 0, 0, 0.15);\n",
              "      filter: drop-shadow(0px 1px 2px rgba(0, 0, 0, 0.3));\n",
              "      fill: #FFFFFF;\n",
              "    }\n",
              "  </style>\n",
              "\n",
              "      <script>\n",
              "        const buttonEl =\n",
              "          document.querySelector('#df-f2ec6f9d-e14b-43e8-911b-77ec3ae122c5 button.colab-df-convert');\n",
              "        buttonEl.style.display =\n",
              "          google.colab.kernel.accessAllowed ? 'block' : 'none';\n",
              "\n",
              "        async function convertToInteractive(key) {\n",
              "          const element = document.querySelector('#df-f2ec6f9d-e14b-43e8-911b-77ec3ae122c5');\n",
              "          const dataTable =\n",
              "            await google.colab.kernel.invokeFunction('convertToInteractive',\n",
              "                                                     [key], {});\n",
              "          if (!dataTable) return;\n",
              "\n",
              "          const docLinkHtml = 'Like what you see? Visit the ' +\n",
              "            '<a target=\"_blank\" href=https://colab.research.google.com/notebooks/data_table.ipynb>data table notebook</a>'\n",
              "            + ' to learn more about interactive tables.';\n",
              "          element.innerHTML = '';\n",
              "          dataTable['output_type'] = 'display_data';\n",
              "          await google.colab.output.renderOutput(dataTable, element);\n",
              "          const docLink = document.createElement('div');\n",
              "          docLink.innerHTML = docLinkHtml;\n",
              "          element.appendChild(docLink);\n",
              "        }\n",
              "      </script>\n",
              "    </div>\n",
              "  </div>\n",
              "  "
            ]
          },
          "metadata": {},
          "execution_count": 49
        }
      ]
    },
    {
      "cell_type": "markdown",
      "source": [
        "## Detection rate (top 24) = 98/100"
      ],
      "metadata": {
        "id": "PkqSAZakWXM8"
      }
    },
    {
      "cell_type": "code",
      "source": [
        "whitelist = whitelist_df.iloc[:, 0][:24].tolist()\n",
        "print(whitelist)"
      ],
      "metadata": {
        "colab": {
          "base_uri": "https://localhost:8080/"
        },
        "id": "hiA70yr9QStE",
        "outputId": "80470d3e-b4a4-488c-9364-fcfa6171dc76"
      },
      "execution_count": 50,
      "outputs": [
        {
          "output_type": "stream",
          "name": "stdout",
          "text": [
            "['URG Flag Cnt', 'Bwd Pkts/s', 'FIN Flag Cnt', 'Bwd PSH Flags', 'SYN Flag Cnt', 'PSH Flag Cnt', 'ACK Flag Cnt', 'Down/Up Ratio', 'Flow Pkts/s', 'Init Bwd Win Byts', 'Bwd IAT Max', 'Bwd IAT Tot', 'Bwd URG Flags', 'Flow Duration', 'Idle Min', 'Bwd Pkt Len Max', 'Fwd IAT Max', 'Flow IAT Std', 'Fwd IAT Mean', 'Flow IAT Max', 'Tot Fwd Pkts', 'Bwd Pkt Len Mean', 'Bwd IAT Std', 'Idle Max']\n"
          ]
        }
      ]
    },
    {
      "cell_type": "code",
      "source": [
        "alert = []\n",
        "\n",
        "# Iterate over each key-value pair in the data_dict\n",
        "for key, value in data_dict.items():\n",
        "    # Check if there are one feature is not in the whitelist\n",
        "    for string in value:\n",
        "      if string not in whitelist:\n",
        "        alert.append(key)\n",
        "        break\n",
        "\n",
        "# Print the alert dictionary\n",
        "print(\"Alert list length:\" + str(len(alert)))"
      ],
      "metadata": {
        "colab": {
          "base_uri": "https://localhost:8080/"
        },
        "id": "GWIJRBYkUwhx",
        "outputId": "d7457a2d-23c1-4e72-b84c-e644a420199a"
      },
      "execution_count": 51,
      "outputs": [
        {
          "output_type": "stream",
          "name": "stdout",
          "text": [
            "Alert list length:98\n"
          ]
        }
      ]
    },
    {
      "cell_type": "markdown",
      "source": [
        "## Detection rate (top 38) = 97/100"
      ],
      "metadata": {
        "id": "NddVIE7MU9m-"
      }
    },
    {
      "cell_type": "code",
      "source": [
        "whitelist2 = whitelist_df.iloc[:, 0][:38].tolist()\n",
        "print(whitelist2)"
      ],
      "metadata": {
        "colab": {
          "base_uri": "https://localhost:8080/"
        },
        "id": "QTKqfqrEWMLV",
        "outputId": "90379aa0-cd75-40a6-c49c-33df350c1175"
      },
      "execution_count": 52,
      "outputs": [
        {
          "output_type": "stream",
          "name": "stdout",
          "text": [
            "['URG Flag Cnt', 'Bwd Pkts/s', 'FIN Flag Cnt', 'Bwd PSH Flags', 'SYN Flag Cnt', 'PSH Flag Cnt', 'ACK Flag Cnt', 'Down/Up Ratio', 'Flow Pkts/s', 'Init Bwd Win Byts', 'Bwd IAT Max', 'Bwd IAT Tot', 'Bwd URG Flags', 'Flow Duration', 'Idle Min', 'Bwd Pkt Len Max', 'Fwd IAT Max', 'Flow IAT Std', 'Fwd IAT Mean', 'Flow IAT Max', 'Tot Fwd Pkts', 'Bwd Pkt Len Mean', 'Bwd IAT Std', 'Idle Max', 'Tot Bwd Pkts', 'TotLen Fwd Pkts', 'Idle Mean', 'Bwd Seg Size Avg', 'Pkt Len Mean', 'Flow IAT Mean', 'Pkt Len Std', 'TotLen Bwd Pkts', 'Bwd Pkt Len Std', 'Bwd Header Len', 'Subflow Bwd Pkts', 'Fwd Act Data Pkts', 'Fwd Pkt Len Min', 'Pkt Len Min']\n"
          ]
        }
      ]
    },
    {
      "cell_type": "code",
      "source": [
        "alert2 = []\n",
        "\n",
        "# Iterate over each key-value pair in the data_dict\n",
        "for key, value in data_dict.items():\n",
        "    # Check if there are one feature is not in the whitelist\n",
        "    for string in value:\n",
        "      if string not in whitelist2:\n",
        "        alert2.append(key)\n",
        "        break\n",
        "\n",
        "# Print the alert dictionary\n",
        "print(\"Alert list length:\" + str(len(alert2)))"
      ],
      "metadata": {
        "colab": {
          "base_uri": "https://localhost:8080/"
        },
        "id": "p_i5J0kxVyCx",
        "outputId": "f1f12d9f-c756-4f78-9c96-bd2a65972380"
      },
      "execution_count": 53,
      "outputs": [
        {
          "output_type": "stream",
          "name": "stdout",
          "text": [
            "Alert list length:97\n"
          ]
        }
      ]
    },
    {
      "cell_type": "markdown",
      "source": [
        "# Adv feature vs top normal feature: 7 in common"
      ],
      "metadata": {
        "id": "YV6ePpDzfxe7"
      }
    },
    {
      "cell_type": "code",
      "source": [
        "feature_adv = ['Fwd IAT Tot', 'Fwd IAT Mean', 'Fwd IAT Std', 'Fwd IAT Max', 'Fwd IAT Min',\n",
        "               'Bwd IAT Tot', 'Bwd IAT Mean', 'Bwd IAT Std', 'Bwd IAT Max',\n",
        "               'Bwd IAT Min', 'Active Mean', 'Active Std', 'Active Max',\n",
        "               'Active Min', 'Idle Mean', 'Idle Std', 'Idle Max', 'Idle Min',\n",
        "               'Fwd Byts/b Avg', 'Fwd Pkts/b Avg', 'Fwd Blk Rate Avg', 'Bwd Byts/b Avg',\n",
        "               'Bwd Pkts/b Avg', 'Bwd Blk Rate Avg']"
      ],
      "metadata": {
        "id": "1SY8we5gfqMz"
      },
      "execution_count": 54,
      "outputs": []
    },
    {
      "cell_type": "code",
      "source": [
        "len(set(whitelist) & set(feature_adv))"
      ],
      "metadata": {
        "colab": {
          "base_uri": "https://localhost:8080/"
        },
        "id": "mI2O0BAdfq4D",
        "outputId": "6d8cd93d-056a-4ba0-efc7-1de7b4ed34db"
      },
      "execution_count": 55,
      "outputs": [
        {
          "output_type": "execute_result",
          "data": {
            "text/plain": [
              "7"
            ]
          },
          "metadata": {},
          "execution_count": 55
        }
      ]
    }
  ]
}