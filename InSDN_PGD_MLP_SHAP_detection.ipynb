{
  "nbformat": 4,
  "nbformat_minor": 0,
  "metadata": {
    "colab": {
      "provenance": []
    },
    "kernelspec": {
      "name": "python3",
      "display_name": "Python 3"
    },
    "language_info": {
      "name": "python"
    },
    "widgets": {
      "application/vnd.jupyter.widget-state+json": {
        "29502c0755dd4a38939ce5120a5b99ff": {
          "model_module": "@jupyter-widgets/controls",
          "model_name": "HBoxModel",
          "model_module_version": "1.5.0",
          "state": {
            "_dom_classes": [],
            "_model_module": "@jupyter-widgets/controls",
            "_model_module_version": "1.5.0",
            "_model_name": "HBoxModel",
            "_view_count": null,
            "_view_module": "@jupyter-widgets/controls",
            "_view_module_version": "1.5.0",
            "_view_name": "HBoxView",
            "box_style": "",
            "children": [
              "IPY_MODEL_b973d6e4561d4502bf2c9ffb6e4dfdb8",
              "IPY_MODEL_ae5c3f0810eb4bc5b2fc989ba1c14ae4",
              "IPY_MODEL_4cab979c480d43849be0a4d8988a3bbc"
            ],
            "layout": "IPY_MODEL_9923393130444e7aba2b061cfd55d404"
          }
        },
        "b973d6e4561d4502bf2c9ffb6e4dfdb8": {
          "model_module": "@jupyter-widgets/controls",
          "model_name": "HTMLModel",
          "model_module_version": "1.5.0",
          "state": {
            "_dom_classes": [],
            "_model_module": "@jupyter-widgets/controls",
            "_model_module_version": "1.5.0",
            "_model_name": "HTMLModel",
            "_view_count": null,
            "_view_module": "@jupyter-widgets/controls",
            "_view_module_version": "1.5.0",
            "_view_name": "HTMLView",
            "description": "",
            "description_tooltip": null,
            "layout": "IPY_MODEL_86e4dba838d540b1b0a312230b80194b",
            "placeholder": "​",
            "style": "IPY_MODEL_b86329256593493983b9c285821f8f2f",
            "value": "100%"
          }
        },
        "ae5c3f0810eb4bc5b2fc989ba1c14ae4": {
          "model_module": "@jupyter-widgets/controls",
          "model_name": "FloatProgressModel",
          "model_module_version": "1.5.0",
          "state": {
            "_dom_classes": [],
            "_model_module": "@jupyter-widgets/controls",
            "_model_module_version": "1.5.0",
            "_model_name": "FloatProgressModel",
            "_view_count": null,
            "_view_module": "@jupyter-widgets/controls",
            "_view_module_version": "1.5.0",
            "_view_name": "ProgressView",
            "bar_style": "success",
            "description": "",
            "description_tooltip": null,
            "layout": "IPY_MODEL_ac6892c389044a51ba970e05169ec60e",
            "max": 1000,
            "min": 0,
            "orientation": "horizontal",
            "style": "IPY_MODEL_cda48861fbe249f284780515a98db1f2",
            "value": 1000
          }
        },
        "4cab979c480d43849be0a4d8988a3bbc": {
          "model_module": "@jupyter-widgets/controls",
          "model_name": "HTMLModel",
          "model_module_version": "1.5.0",
          "state": {
            "_dom_classes": [],
            "_model_module": "@jupyter-widgets/controls",
            "_model_module_version": "1.5.0",
            "_model_name": "HTMLModel",
            "_view_count": null,
            "_view_module": "@jupyter-widgets/controls",
            "_view_module_version": "1.5.0",
            "_view_name": "HTMLView",
            "description": "",
            "description_tooltip": null,
            "layout": "IPY_MODEL_03052508584b4693afc7078f89cb7411",
            "placeholder": "​",
            "style": "IPY_MODEL_3d9fa3ca422544c9a238b9f1c2b1fbae",
            "value": " 1000/1000 [2:11:46&lt;00:00,  7.25s/it]"
          }
        },
        "9923393130444e7aba2b061cfd55d404": {
          "model_module": "@jupyter-widgets/base",
          "model_name": "LayoutModel",
          "model_module_version": "1.2.0",
          "state": {
            "_model_module": "@jupyter-widgets/base",
            "_model_module_version": "1.2.0",
            "_model_name": "LayoutModel",
            "_view_count": null,
            "_view_module": "@jupyter-widgets/base",
            "_view_module_version": "1.2.0",
            "_view_name": "LayoutView",
            "align_content": null,
            "align_items": null,
            "align_self": null,
            "border": null,
            "bottom": null,
            "display": null,
            "flex": null,
            "flex_flow": null,
            "grid_area": null,
            "grid_auto_columns": null,
            "grid_auto_flow": null,
            "grid_auto_rows": null,
            "grid_column": null,
            "grid_gap": null,
            "grid_row": null,
            "grid_template_areas": null,
            "grid_template_columns": null,
            "grid_template_rows": null,
            "height": null,
            "justify_content": null,
            "justify_items": null,
            "left": null,
            "margin": null,
            "max_height": null,
            "max_width": null,
            "min_height": null,
            "min_width": null,
            "object_fit": null,
            "object_position": null,
            "order": null,
            "overflow": null,
            "overflow_x": null,
            "overflow_y": null,
            "padding": null,
            "right": null,
            "top": null,
            "visibility": null,
            "width": null
          }
        },
        "86e4dba838d540b1b0a312230b80194b": {
          "model_module": "@jupyter-widgets/base",
          "model_name": "LayoutModel",
          "model_module_version": "1.2.0",
          "state": {
            "_model_module": "@jupyter-widgets/base",
            "_model_module_version": "1.2.0",
            "_model_name": "LayoutModel",
            "_view_count": null,
            "_view_module": "@jupyter-widgets/base",
            "_view_module_version": "1.2.0",
            "_view_name": "LayoutView",
            "align_content": null,
            "align_items": null,
            "align_self": null,
            "border": null,
            "bottom": null,
            "display": null,
            "flex": null,
            "flex_flow": null,
            "grid_area": null,
            "grid_auto_columns": null,
            "grid_auto_flow": null,
            "grid_auto_rows": null,
            "grid_column": null,
            "grid_gap": null,
            "grid_row": null,
            "grid_template_areas": null,
            "grid_template_columns": null,
            "grid_template_rows": null,
            "height": null,
            "justify_content": null,
            "justify_items": null,
            "left": null,
            "margin": null,
            "max_height": null,
            "max_width": null,
            "min_height": null,
            "min_width": null,
            "object_fit": null,
            "object_position": null,
            "order": null,
            "overflow": null,
            "overflow_x": null,
            "overflow_y": null,
            "padding": null,
            "right": null,
            "top": null,
            "visibility": null,
            "width": null
          }
        },
        "b86329256593493983b9c285821f8f2f": {
          "model_module": "@jupyter-widgets/controls",
          "model_name": "DescriptionStyleModel",
          "model_module_version": "1.5.0",
          "state": {
            "_model_module": "@jupyter-widgets/controls",
            "_model_module_version": "1.5.0",
            "_model_name": "DescriptionStyleModel",
            "_view_count": null,
            "_view_module": "@jupyter-widgets/base",
            "_view_module_version": "1.2.0",
            "_view_name": "StyleView",
            "description_width": ""
          }
        },
        "ac6892c389044a51ba970e05169ec60e": {
          "model_module": "@jupyter-widgets/base",
          "model_name": "LayoutModel",
          "model_module_version": "1.2.0",
          "state": {
            "_model_module": "@jupyter-widgets/base",
            "_model_module_version": "1.2.0",
            "_model_name": "LayoutModel",
            "_view_count": null,
            "_view_module": "@jupyter-widgets/base",
            "_view_module_version": "1.2.0",
            "_view_name": "LayoutView",
            "align_content": null,
            "align_items": null,
            "align_self": null,
            "border": null,
            "bottom": null,
            "display": null,
            "flex": null,
            "flex_flow": null,
            "grid_area": null,
            "grid_auto_columns": null,
            "grid_auto_flow": null,
            "grid_auto_rows": null,
            "grid_column": null,
            "grid_gap": null,
            "grid_row": null,
            "grid_template_areas": null,
            "grid_template_columns": null,
            "grid_template_rows": null,
            "height": null,
            "justify_content": null,
            "justify_items": null,
            "left": null,
            "margin": null,
            "max_height": null,
            "max_width": null,
            "min_height": null,
            "min_width": null,
            "object_fit": null,
            "object_position": null,
            "order": null,
            "overflow": null,
            "overflow_x": null,
            "overflow_y": null,
            "padding": null,
            "right": null,
            "top": null,
            "visibility": null,
            "width": null
          }
        },
        "cda48861fbe249f284780515a98db1f2": {
          "model_module": "@jupyter-widgets/controls",
          "model_name": "ProgressStyleModel",
          "model_module_version": "1.5.0",
          "state": {
            "_model_module": "@jupyter-widgets/controls",
            "_model_module_version": "1.5.0",
            "_model_name": "ProgressStyleModel",
            "_view_count": null,
            "_view_module": "@jupyter-widgets/base",
            "_view_module_version": "1.2.0",
            "_view_name": "StyleView",
            "bar_color": null,
            "description_width": ""
          }
        },
        "03052508584b4693afc7078f89cb7411": {
          "model_module": "@jupyter-widgets/base",
          "model_name": "LayoutModel",
          "model_module_version": "1.2.0",
          "state": {
            "_model_module": "@jupyter-widgets/base",
            "_model_module_version": "1.2.0",
            "_model_name": "LayoutModel",
            "_view_count": null,
            "_view_module": "@jupyter-widgets/base",
            "_view_module_version": "1.2.0",
            "_view_name": "LayoutView",
            "align_content": null,
            "align_items": null,
            "align_self": null,
            "border": null,
            "bottom": null,
            "display": null,
            "flex": null,
            "flex_flow": null,
            "grid_area": null,
            "grid_auto_columns": null,
            "grid_auto_flow": null,
            "grid_auto_rows": null,
            "grid_column": null,
            "grid_gap": null,
            "grid_row": null,
            "grid_template_areas": null,
            "grid_template_columns": null,
            "grid_template_rows": null,
            "height": null,
            "justify_content": null,
            "justify_items": null,
            "left": null,
            "margin": null,
            "max_height": null,
            "max_width": null,
            "min_height": null,
            "min_width": null,
            "object_fit": null,
            "object_position": null,
            "order": null,
            "overflow": null,
            "overflow_x": null,
            "overflow_y": null,
            "padding": null,
            "right": null,
            "top": null,
            "visibility": null,
            "width": null
          }
        },
        "3d9fa3ca422544c9a238b9f1c2b1fbae": {
          "model_module": "@jupyter-widgets/controls",
          "model_name": "DescriptionStyleModel",
          "model_module_version": "1.5.0",
          "state": {
            "_model_module": "@jupyter-widgets/controls",
            "_model_module_version": "1.5.0",
            "_model_name": "DescriptionStyleModel",
            "_view_count": null,
            "_view_module": "@jupyter-widgets/base",
            "_view_module_version": "1.2.0",
            "_view_name": "StyleView",
            "description_width": ""
          }
        }
      }
    }
  },
  "cells": [
    {
      "cell_type": "markdown",
      "source": [
        "# Import"
      ],
      "metadata": {
        "id": "O0lPv_8LykMw"
      }
    },
    {
      "cell_type": "code",
      "source": [
        "from google.colab import drive\n",
        "drive.mount('/content/drive', force_remount=True)"
      ],
      "metadata": {
        "colab": {
          "base_uri": "https://localhost:8080/"
        },
        "id": "8efEEenXOnJi",
        "outputId": "1ef19eb1-2055-4bc5-89a9-083ec760f1a2"
      },
      "execution_count": 1,
      "outputs": [
        {
          "output_type": "stream",
          "name": "stdout",
          "text": [
            "Mounted at /content/drive\n"
          ]
        }
      ]
    },
    {
      "cell_type": "code",
      "source": [
        "import warnings\n",
        "warnings.filterwarnings('ignore')"
      ],
      "metadata": {
        "id": "No3-0KGj_Kic"
      },
      "execution_count": 2,
      "outputs": []
    },
    {
      "cell_type": "code",
      "execution_count": 3,
      "metadata": {
        "id": "bBcPmYOsyREp",
        "colab": {
          "base_uri": "https://localhost:8080/"
        },
        "outputId": "ab7c4494-42da-463e-91a7-8a4548a25527"
      },
      "outputs": [
        {
          "output_type": "stream",
          "name": "stdout",
          "text": [
            "Collecting shap\n",
            "  Downloading shap-0.41.0-cp310-cp310-manylinux_2_12_x86_64.manylinux2010_x86_64.whl (572 kB)\n",
            "\u001b[2K     \u001b[90m━━━━━━━━━━━━━━━━━━━━━━━━━━━━━━━━━━━━━━━\u001b[0m \u001b[32m572.6/572.6 kB\u001b[0m \u001b[31m9.2 MB/s\u001b[0m eta \u001b[36m0:00:00\u001b[0m\n",
            "\u001b[?25hRequirement already satisfied: numpy in /usr/local/lib/python3.10/dist-packages (from shap) (1.22.4)\n",
            "Requirement already satisfied: scipy in /usr/local/lib/python3.10/dist-packages (from shap) (1.10.1)\n",
            "Requirement already satisfied: scikit-learn in /usr/local/lib/python3.10/dist-packages (from shap) (1.2.2)\n",
            "Requirement already satisfied: pandas in /usr/local/lib/python3.10/dist-packages (from shap) (1.5.3)\n",
            "Requirement already satisfied: tqdm>4.25.0 in /usr/local/lib/python3.10/dist-packages (from shap) (4.65.0)\n",
            "Requirement already satisfied: packaging>20.9 in /usr/local/lib/python3.10/dist-packages (from shap) (23.1)\n",
            "Collecting slicer==0.0.7 (from shap)\n",
            "  Downloading slicer-0.0.7-py3-none-any.whl (14 kB)\n",
            "Requirement already satisfied: numba in /usr/local/lib/python3.10/dist-packages (from shap) (0.56.4)\n",
            "Requirement already satisfied: cloudpickle in /usr/local/lib/python3.10/dist-packages (from shap) (2.2.1)\n",
            "Requirement already satisfied: llvmlite<0.40,>=0.39.0dev0 in /usr/local/lib/python3.10/dist-packages (from numba->shap) (0.39.1)\n",
            "Requirement already satisfied: setuptools in /usr/local/lib/python3.10/dist-packages (from numba->shap) (67.7.2)\n",
            "Requirement already satisfied: python-dateutil>=2.8.1 in /usr/local/lib/python3.10/dist-packages (from pandas->shap) (2.8.2)\n",
            "Requirement already satisfied: pytz>=2020.1 in /usr/local/lib/python3.10/dist-packages (from pandas->shap) (2022.7.1)\n",
            "Requirement already satisfied: joblib>=1.1.1 in /usr/local/lib/python3.10/dist-packages (from scikit-learn->shap) (1.2.0)\n",
            "Requirement already satisfied: threadpoolctl>=2.0.0 in /usr/local/lib/python3.10/dist-packages (from scikit-learn->shap) (3.1.0)\n",
            "Requirement already satisfied: six>=1.5 in /usr/local/lib/python3.10/dist-packages (from python-dateutil>=2.8.1->pandas->shap) (1.16.0)\n",
            "Installing collected packages: slicer, shap\n",
            "Successfully installed shap-0.41.0 slicer-0.0.7\n"
          ]
        }
      ],
      "source": [
        "!pip install shap"
      ]
    },
    {
      "cell_type": "code",
      "source": [
        "import shap\n",
        "import pandas as pd\n",
        "import tensorflow as tf\n",
        "from tensorflow import keras"
      ],
      "metadata": {
        "id": "yisYwS6Mymik"
      },
      "execution_count": 4,
      "outputs": []
    },
    {
      "cell_type": "markdown",
      "source": [
        "# Load trainset"
      ],
      "metadata": {
        "id": "Bz9tx1gdBGK4"
      }
    },
    {
      "cell_type": "code",
      "source": [
        "df = pd.read_csv('/content/drive/MyDrive/Dataset/insdn/multi/train.csv')\n",
        "df.info()"
      ],
      "metadata": {
        "colab": {
          "base_uri": "https://localhost:8080/"
        },
        "id": "joOnVrMbBIgT",
        "outputId": "ab6e6d1c-2c73-4bf6-a1ce-b433e0da7f0f"
      },
      "execution_count": 5,
      "outputs": [
        {
          "output_type": "stream",
          "name": "stdout",
          "text": [
            "<class 'pandas.core.frame.DataFrame'>\n",
            "RangeIndex: 385156 entries, 0 to 385155\n",
            "Data columns (total 77 columns):\n",
            " #   Column             Non-Null Count   Dtype  \n",
            "---  ------             --------------   -----  \n",
            " 0   Flow Duration      385156 non-null  float64\n",
            " 1   Tot Fwd Pkts       385156 non-null  float64\n",
            " 2   Tot Bwd Pkts       385156 non-null  float64\n",
            " 3   TotLen Fwd Pkts    385156 non-null  float64\n",
            " 4   TotLen Bwd Pkts    385156 non-null  float64\n",
            " 5   Fwd Pkt Len Max    385156 non-null  float64\n",
            " 6   Fwd Pkt Len Min    385156 non-null  float64\n",
            " 7   Fwd Pkt Len Mean   385156 non-null  float64\n",
            " 8   Fwd Pkt Len Std    385156 non-null  float64\n",
            " 9   Bwd Pkt Len Max    385156 non-null  float64\n",
            " 10  Bwd Pkt Len Min    385156 non-null  float64\n",
            " 11  Bwd Pkt Len Mean   385156 non-null  float64\n",
            " 12  Bwd Pkt Len Std    385156 non-null  float64\n",
            " 13  Flow Byts/s        385156 non-null  float64\n",
            " 14  Flow Pkts/s        385156 non-null  float64\n",
            " 15  Flow IAT Mean      385156 non-null  float64\n",
            " 16  Flow IAT Std       385156 non-null  float64\n",
            " 17  Flow IAT Max       385156 non-null  float64\n",
            " 18  Flow IAT Min       385156 non-null  float64\n",
            " 19  Fwd IAT Tot        385156 non-null  float64\n",
            " 20  Fwd IAT Mean       385156 non-null  float64\n",
            " 21  Fwd IAT Std        385156 non-null  float64\n",
            " 22  Fwd IAT Max        385156 non-null  float64\n",
            " 23  Fwd IAT Min        385156 non-null  float64\n",
            " 24  Bwd IAT Tot        385156 non-null  float64\n",
            " 25  Bwd IAT Mean       385156 non-null  float64\n",
            " 26  Bwd IAT Std        385156 non-null  float64\n",
            " 27  Bwd IAT Max        385156 non-null  float64\n",
            " 28  Bwd IAT Min        385156 non-null  float64\n",
            " 29  Fwd PSH Flags      385156 non-null  float64\n",
            " 30  Bwd PSH Flags      385156 non-null  float64\n",
            " 31  Fwd URG Flags      385156 non-null  float64\n",
            " 32  Bwd URG Flags      385156 non-null  float64\n",
            " 33  Fwd Header Len     385156 non-null  float64\n",
            " 34  Bwd Header Len     385156 non-null  float64\n",
            " 35  Fwd Pkts/s         385156 non-null  float64\n",
            " 36  Bwd Pkts/s         385156 non-null  float64\n",
            " 37  Pkt Len Min        385156 non-null  float64\n",
            " 38  Pkt Len Max        385156 non-null  float64\n",
            " 39  Pkt Len Mean       385156 non-null  float64\n",
            " 40  Pkt Len Std        385156 non-null  float64\n",
            " 41  Pkt Len Var        385156 non-null  float64\n",
            " 42  FIN Flag Cnt       385156 non-null  float64\n",
            " 43  SYN Flag Cnt       385156 non-null  float64\n",
            " 44  RST Flag Cnt       385156 non-null  float64\n",
            " 45  PSH Flag Cnt       385156 non-null  float64\n",
            " 46  ACK Flag Cnt       385156 non-null  float64\n",
            " 47  URG Flag Cnt       385156 non-null  float64\n",
            " 48  CWE Flag Count     385156 non-null  float64\n",
            " 49  ECE Flag Cnt       385156 non-null  float64\n",
            " 50  Down/Up Ratio      385156 non-null  float64\n",
            " 51  Pkt Size Avg       385156 non-null  float64\n",
            " 52  Fwd Seg Size Avg   385156 non-null  float64\n",
            " 53  Bwd Seg Size Avg   385156 non-null  float64\n",
            " 54  Fwd Byts/b Avg     385156 non-null  float64\n",
            " 55  Fwd Pkts/b Avg     385156 non-null  float64\n",
            " 56  Fwd Blk Rate Avg   385156 non-null  float64\n",
            " 57  Bwd Byts/b Avg     385156 non-null  float64\n",
            " 58  Bwd Pkts/b Avg     385156 non-null  float64\n",
            " 59  Bwd Blk Rate Avg   385156 non-null  float64\n",
            " 60  Subflow Fwd Pkts   385156 non-null  float64\n",
            " 61  Subflow Fwd Byts   385156 non-null  float64\n",
            " 62  Subflow Bwd Pkts   385156 non-null  float64\n",
            " 63  Subflow Bwd Byts   385156 non-null  float64\n",
            " 64  Init Fwd Win Byts  385156 non-null  float64\n",
            " 65  Init Bwd Win Byts  385156 non-null  float64\n",
            " 66  Fwd Act Data Pkts  385156 non-null  float64\n",
            " 67  Fwd Seg Size Min   385156 non-null  float64\n",
            " 68  Active Mean        385156 non-null  float64\n",
            " 69  Active Std         385156 non-null  float64\n",
            " 70  Active Max         385156 non-null  float64\n",
            " 71  Active Min         385156 non-null  float64\n",
            " 72  Idle Mean          385156 non-null  float64\n",
            " 73  Idle Std           385156 non-null  float64\n",
            " 74  Idle Max           385156 non-null  float64\n",
            " 75  Idle Min           385156 non-null  float64\n",
            " 76  Label              385156 non-null  int64  \n",
            "dtypes: float64(76), int64(1)\n",
            "memory usage: 226.3 MB\n"
          ]
        }
      ]
    },
    {
      "cell_type": "code",
      "source": [
        "df = df.drop(columns=['Label'])\n",
        "df.info()"
      ],
      "metadata": {
        "colab": {
          "base_uri": "https://localhost:8080/"
        },
        "id": "mYgl1-XQBYwR",
        "outputId": "23f9c393-17fa-4e1d-a14e-6e39dda01472"
      },
      "execution_count": 6,
      "outputs": [
        {
          "output_type": "stream",
          "name": "stdout",
          "text": [
            "<class 'pandas.core.frame.DataFrame'>\n",
            "RangeIndex: 385156 entries, 0 to 385155\n",
            "Data columns (total 76 columns):\n",
            " #   Column             Non-Null Count   Dtype  \n",
            "---  ------             --------------   -----  \n",
            " 0   Flow Duration      385156 non-null  float64\n",
            " 1   Tot Fwd Pkts       385156 non-null  float64\n",
            " 2   Tot Bwd Pkts       385156 non-null  float64\n",
            " 3   TotLen Fwd Pkts    385156 non-null  float64\n",
            " 4   TotLen Bwd Pkts    385156 non-null  float64\n",
            " 5   Fwd Pkt Len Max    385156 non-null  float64\n",
            " 6   Fwd Pkt Len Min    385156 non-null  float64\n",
            " 7   Fwd Pkt Len Mean   385156 non-null  float64\n",
            " 8   Fwd Pkt Len Std    385156 non-null  float64\n",
            " 9   Bwd Pkt Len Max    385156 non-null  float64\n",
            " 10  Bwd Pkt Len Min    385156 non-null  float64\n",
            " 11  Bwd Pkt Len Mean   385156 non-null  float64\n",
            " 12  Bwd Pkt Len Std    385156 non-null  float64\n",
            " 13  Flow Byts/s        385156 non-null  float64\n",
            " 14  Flow Pkts/s        385156 non-null  float64\n",
            " 15  Flow IAT Mean      385156 non-null  float64\n",
            " 16  Flow IAT Std       385156 non-null  float64\n",
            " 17  Flow IAT Max       385156 non-null  float64\n",
            " 18  Flow IAT Min       385156 non-null  float64\n",
            " 19  Fwd IAT Tot        385156 non-null  float64\n",
            " 20  Fwd IAT Mean       385156 non-null  float64\n",
            " 21  Fwd IAT Std        385156 non-null  float64\n",
            " 22  Fwd IAT Max        385156 non-null  float64\n",
            " 23  Fwd IAT Min        385156 non-null  float64\n",
            " 24  Bwd IAT Tot        385156 non-null  float64\n",
            " 25  Bwd IAT Mean       385156 non-null  float64\n",
            " 26  Bwd IAT Std        385156 non-null  float64\n",
            " 27  Bwd IAT Max        385156 non-null  float64\n",
            " 28  Bwd IAT Min        385156 non-null  float64\n",
            " 29  Fwd PSH Flags      385156 non-null  float64\n",
            " 30  Bwd PSH Flags      385156 non-null  float64\n",
            " 31  Fwd URG Flags      385156 non-null  float64\n",
            " 32  Bwd URG Flags      385156 non-null  float64\n",
            " 33  Fwd Header Len     385156 non-null  float64\n",
            " 34  Bwd Header Len     385156 non-null  float64\n",
            " 35  Fwd Pkts/s         385156 non-null  float64\n",
            " 36  Bwd Pkts/s         385156 non-null  float64\n",
            " 37  Pkt Len Min        385156 non-null  float64\n",
            " 38  Pkt Len Max        385156 non-null  float64\n",
            " 39  Pkt Len Mean       385156 non-null  float64\n",
            " 40  Pkt Len Std        385156 non-null  float64\n",
            " 41  Pkt Len Var        385156 non-null  float64\n",
            " 42  FIN Flag Cnt       385156 non-null  float64\n",
            " 43  SYN Flag Cnt       385156 non-null  float64\n",
            " 44  RST Flag Cnt       385156 non-null  float64\n",
            " 45  PSH Flag Cnt       385156 non-null  float64\n",
            " 46  ACK Flag Cnt       385156 non-null  float64\n",
            " 47  URG Flag Cnt       385156 non-null  float64\n",
            " 48  CWE Flag Count     385156 non-null  float64\n",
            " 49  ECE Flag Cnt       385156 non-null  float64\n",
            " 50  Down/Up Ratio      385156 non-null  float64\n",
            " 51  Pkt Size Avg       385156 non-null  float64\n",
            " 52  Fwd Seg Size Avg   385156 non-null  float64\n",
            " 53  Bwd Seg Size Avg   385156 non-null  float64\n",
            " 54  Fwd Byts/b Avg     385156 non-null  float64\n",
            " 55  Fwd Pkts/b Avg     385156 non-null  float64\n",
            " 56  Fwd Blk Rate Avg   385156 non-null  float64\n",
            " 57  Bwd Byts/b Avg     385156 non-null  float64\n",
            " 58  Bwd Pkts/b Avg     385156 non-null  float64\n",
            " 59  Bwd Blk Rate Avg   385156 non-null  float64\n",
            " 60  Subflow Fwd Pkts   385156 non-null  float64\n",
            " 61  Subflow Fwd Byts   385156 non-null  float64\n",
            " 62  Subflow Bwd Pkts   385156 non-null  float64\n",
            " 63  Subflow Bwd Byts   385156 non-null  float64\n",
            " 64  Init Fwd Win Byts  385156 non-null  float64\n",
            " 65  Init Bwd Win Byts  385156 non-null  float64\n",
            " 66  Fwd Act Data Pkts  385156 non-null  float64\n",
            " 67  Fwd Seg Size Min   385156 non-null  float64\n",
            " 68  Active Mean        385156 non-null  float64\n",
            " 69  Active Std         385156 non-null  float64\n",
            " 70  Active Max         385156 non-null  float64\n",
            " 71  Active Min         385156 non-null  float64\n",
            " 72  Idle Mean          385156 non-null  float64\n",
            " 73  Idle Std           385156 non-null  float64\n",
            " 74  Idle Max           385156 non-null  float64\n",
            " 75  Idle Min           385156 non-null  float64\n",
            "dtypes: float64(76)\n",
            "memory usage: 223.3 MB\n"
          ]
        }
      ]
    },
    {
      "cell_type": "markdown",
      "source": [
        "# Load adv samples"
      ],
      "metadata": {
        "id": "kFirQ2Tyz28E"
      }
    },
    {
      "cell_type": "code",
      "source": [
        "feature_list = ['Flow Duration', 'Tot Fwd Pkts', 'Tot Bwd Pkts', 'TotLen Fwd Pkts',\n",
        "       'TotLen Bwd Pkts', 'Fwd Pkt Len Max', 'Fwd Pkt Len Min',\n",
        "       'Fwd Pkt Len Mean', 'Fwd Pkt Len Std', 'Bwd Pkt Len Max',\n",
        "       'Bwd Pkt Len Min', 'Bwd Pkt Len Mean', 'Bwd Pkt Len Std', 'Flow Byts/s',\n",
        "       'Flow Pkts/s', 'Flow IAT Mean', 'Flow IAT Std', 'Flow IAT Max',\n",
        "       'Flow IAT Min', 'Fwd IAT Tot', 'Fwd IAT Mean', 'Fwd IAT Std',\n",
        "       'Fwd IAT Max', 'Fwd IAT Min', 'Bwd IAT Tot', 'Bwd IAT Mean',\n",
        "       'Bwd IAT Std', 'Bwd IAT Max', 'Bwd IAT Min', 'Fwd PSH Flags',\n",
        "       'Bwd PSH Flags', 'Fwd URG Flags', 'Bwd URG Flags', 'Fwd Header Len',\n",
        "       'Bwd Header Len', 'Fwd Pkts/s', 'Bwd Pkts/s', 'Pkt Len Min',\n",
        "       'Pkt Len Max', 'Pkt Len Mean', 'Pkt Len Std', 'Pkt Len Var',\n",
        "       'FIN Flag Cnt', 'SYN Flag Cnt', 'RST Flag Cnt', 'PSH Flag Cnt',\n",
        "       'ACK Flag Cnt', 'URG Flag Cnt', 'CWE Flag Count', 'ECE Flag Cnt',\n",
        "       'Down/Up Ratio', 'Pkt Size Avg', 'Fwd Seg Size Avg', 'Bwd Seg Size Avg',\n",
        "       'Fwd Byts/b Avg', 'Fwd Pkts/b Avg', 'Fwd Blk Rate Avg',\n",
        "       'Bwd Byts/b Avg', 'Bwd Pkts/b Avg', 'Bwd Blk Rate Avg',\n",
        "       'Subflow Fwd Pkts', 'Subflow Fwd Byts', 'Subflow Bwd Pkts',\n",
        "       'Subflow Bwd Byts', 'Init Fwd Win Byts', 'Init Bwd Win Byts',\n",
        "       'Fwd Act Data Pkts', 'Fwd Seg Size Min', 'Active Mean', 'Active Std',\n",
        "       'Active Max', 'Active Min', 'Idle Mean', 'Idle Std', 'Idle Max',\n",
        "       'Idle Min']"
      ],
      "metadata": {
        "id": "uoVlCtWr1F-F"
      },
      "execution_count": 7,
      "outputs": []
    },
    {
      "cell_type": "code",
      "source": [
        "pgd_path = '/content/drive/MyDrive/Dataset/insdn/adv/pgd/adv_pgd_multi_target.csv'\n",
        "#pgd_label_path = '/content/drive/MyDrive/DACN_XAI_Adv_defense/Dataset/insdn/adv/pgd/adv_pgd_target.csv'"
      ],
      "metadata": {
        "id": "f29J4Es-z5lJ"
      },
      "execution_count": 8,
      "outputs": []
    },
    {
      "cell_type": "code",
      "source": [
        "pgd_df = pd.read_csv(pgd_path)"
      ],
      "metadata": {
        "id": "I8txn6aG0EIJ"
      },
      "execution_count": 9,
      "outputs": []
    },
    {
      "cell_type": "code",
      "source": [
        "pgd_df.columns = feature_list\n",
        "pgd_df.info()"
      ],
      "metadata": {
        "colab": {
          "base_uri": "https://localhost:8080/"
        },
        "id": "dcF6Wl5Y0LY2",
        "outputId": "9c717f4c-8550-4097-8ee7-43cac72c197c"
      },
      "execution_count": 10,
      "outputs": [
        {
          "output_type": "stream",
          "name": "stdout",
          "text": [
            "<class 'pandas.core.frame.DataFrame'>\n",
            "RangeIndex: 77203 entries, 0 to 77202\n",
            "Data columns (total 76 columns):\n",
            " #   Column             Non-Null Count  Dtype  \n",
            "---  ------             --------------  -----  \n",
            " 0   Flow Duration      77203 non-null  float64\n",
            " 1   Tot Fwd Pkts       77203 non-null  float64\n",
            " 2   Tot Bwd Pkts       77203 non-null  float64\n",
            " 3   TotLen Fwd Pkts    77203 non-null  float64\n",
            " 4   TotLen Bwd Pkts    77203 non-null  float64\n",
            " 5   Fwd Pkt Len Max    77203 non-null  float64\n",
            " 6   Fwd Pkt Len Min    77203 non-null  float64\n",
            " 7   Fwd Pkt Len Mean   77203 non-null  float64\n",
            " 8   Fwd Pkt Len Std    77203 non-null  float64\n",
            " 9   Bwd Pkt Len Max    77203 non-null  float64\n",
            " 10  Bwd Pkt Len Min    77203 non-null  float64\n",
            " 11  Bwd Pkt Len Mean   77203 non-null  float64\n",
            " 12  Bwd Pkt Len Std    77203 non-null  float64\n",
            " 13  Flow Byts/s        77203 non-null  float64\n",
            " 14  Flow Pkts/s        77203 non-null  float64\n",
            " 15  Flow IAT Mean      77203 non-null  float64\n",
            " 16  Flow IAT Std       77203 non-null  float64\n",
            " 17  Flow IAT Max       77203 non-null  float64\n",
            " 18  Flow IAT Min       77203 non-null  float64\n",
            " 19  Fwd IAT Tot        77203 non-null  float64\n",
            " 20  Fwd IAT Mean       77203 non-null  float64\n",
            " 21  Fwd IAT Std        77203 non-null  float64\n",
            " 22  Fwd IAT Max        77203 non-null  float64\n",
            " 23  Fwd IAT Min        77203 non-null  float64\n",
            " 24  Bwd IAT Tot        77203 non-null  float64\n",
            " 25  Bwd IAT Mean       77203 non-null  float64\n",
            " 26  Bwd IAT Std        77203 non-null  float64\n",
            " 27  Bwd IAT Max        77203 non-null  float64\n",
            " 28  Bwd IAT Min        77203 non-null  float64\n",
            " 29  Fwd PSH Flags      77203 non-null  float64\n",
            " 30  Bwd PSH Flags      77203 non-null  float64\n",
            " 31  Fwd URG Flags      77203 non-null  float64\n",
            " 32  Bwd URG Flags      77203 non-null  float64\n",
            " 33  Fwd Header Len     77203 non-null  float64\n",
            " 34  Bwd Header Len     77203 non-null  float64\n",
            " 35  Fwd Pkts/s         77203 non-null  float64\n",
            " 36  Bwd Pkts/s         77203 non-null  float64\n",
            " 37  Pkt Len Min        77203 non-null  float64\n",
            " 38  Pkt Len Max        77203 non-null  float64\n",
            " 39  Pkt Len Mean       77203 non-null  float64\n",
            " 40  Pkt Len Std        77203 non-null  float64\n",
            " 41  Pkt Len Var        77203 non-null  float64\n",
            " 42  FIN Flag Cnt       77203 non-null  float64\n",
            " 43  SYN Flag Cnt       77203 non-null  float64\n",
            " 44  RST Flag Cnt       77203 non-null  float64\n",
            " 45  PSH Flag Cnt       77203 non-null  float64\n",
            " 46  ACK Flag Cnt       77203 non-null  float64\n",
            " 47  URG Flag Cnt       77203 non-null  float64\n",
            " 48  CWE Flag Count     77203 non-null  float64\n",
            " 49  ECE Flag Cnt       77203 non-null  float64\n",
            " 50  Down/Up Ratio      77203 non-null  float64\n",
            " 51  Pkt Size Avg       77203 non-null  float64\n",
            " 52  Fwd Seg Size Avg   77203 non-null  float64\n",
            " 53  Bwd Seg Size Avg   77203 non-null  float64\n",
            " 54  Fwd Byts/b Avg     77203 non-null  float64\n",
            " 55  Fwd Pkts/b Avg     77203 non-null  float64\n",
            " 56  Fwd Blk Rate Avg   77203 non-null  float64\n",
            " 57  Bwd Byts/b Avg     77203 non-null  float64\n",
            " 58  Bwd Pkts/b Avg     77203 non-null  float64\n",
            " 59  Bwd Blk Rate Avg   77203 non-null  float64\n",
            " 60  Subflow Fwd Pkts   77203 non-null  float64\n",
            " 61  Subflow Fwd Byts   77203 non-null  float64\n",
            " 62  Subflow Bwd Pkts   77203 non-null  float64\n",
            " 63  Subflow Bwd Byts   77203 non-null  float64\n",
            " 64  Init Fwd Win Byts  77203 non-null  float64\n",
            " 65  Init Bwd Win Byts  77203 non-null  float64\n",
            " 66  Fwd Act Data Pkts  77203 non-null  float64\n",
            " 67  Fwd Seg Size Min   77203 non-null  float64\n",
            " 68  Active Mean        77203 non-null  float64\n",
            " 69  Active Std         77203 non-null  float64\n",
            " 70  Active Max         77203 non-null  float64\n",
            " 71  Active Min         77203 non-null  float64\n",
            " 72  Idle Mean          77203 non-null  float64\n",
            " 73  Idle Std           77203 non-null  float64\n",
            " 74  Idle Max           77203 non-null  float64\n",
            " 75  Idle Min           77203 non-null  float64\n",
            "dtypes: float64(76)\n",
            "memory usage: 44.8 MB\n"
          ]
        }
      ]
    },
    {
      "cell_type": "code",
      "source": [
        "#pgd_label = pd.read_csv(pgd_label_path)\n",
        "#pgd_label.info()"
      ],
      "metadata": {
        "id": "PVO-9Dh_1C5T"
      },
      "execution_count": null,
      "outputs": []
    },
    {
      "cell_type": "markdown",
      "source": [
        "# Load DL-based IDS model"
      ],
      "metadata": {
        "id": "g33N-zPby6kB"
      }
    },
    {
      "cell_type": "code",
      "source": [
        "model_mlp = tf.keras.models.load_model('/content/drive/MyDrive/Dataset/insdn/insdn_mlp_multi.h5', compile=True)"
      ],
      "metadata": {
        "id": "ZWIDESvCy2b5"
      },
      "execution_count": 11,
      "outputs": []
    },
    {
      "cell_type": "markdown",
      "source": [
        "# SHAP"
      ],
      "metadata": {
        "id": "RFRvMWrd4QoD"
      }
    },
    {
      "cell_type": "code",
      "source": [
        "explainer = shap.KernelExplainer(model_mlp, shap.sample(df, 100))"
      ],
      "metadata": {
        "id": "4505XjQu4K_g"
      },
      "execution_count": 12,
      "outputs": []
    },
    {
      "cell_type": "code",
      "source": [
        "pgd_1000 = pgd_df.head(1000)"
      ],
      "metadata": {
        "id": "biTLBwQsdMKd"
      },
      "execution_count": 13,
      "outputs": []
    },
    {
      "cell_type": "code",
      "source": [
        "shap_values = explainer.shap_values(pgd_1000)"
      ],
      "metadata": {
        "id": "2kwEY6jC4Z-l",
        "colab": {
          "base_uri": "https://localhost:8080/",
          "height": 49,
          "referenced_widgets": [
            "29502c0755dd4a38939ce5120a5b99ff",
            "b973d6e4561d4502bf2c9ffb6e4dfdb8",
            "ae5c3f0810eb4bc5b2fc989ba1c14ae4",
            "4cab979c480d43849be0a4d8988a3bbc",
            "9923393130444e7aba2b061cfd55d404",
            "86e4dba838d540b1b0a312230b80194b",
            "b86329256593493983b9c285821f8f2f",
            "ac6892c389044a51ba970e05169ec60e",
            "cda48861fbe249f284780515a98db1f2",
            "03052508584b4693afc7078f89cb7411",
            "3d9fa3ca422544c9a238b9f1c2b1fbae"
          ]
        },
        "outputId": "e7f78890-961a-4119-9ecf-3f46971529cb"
      },
      "execution_count": 14,
      "outputs": [
        {
          "output_type": "display_data",
          "data": {
            "text/plain": [
              "  0%|          | 0/1000 [00:00<?, ?it/s]"
            ],
            "application/vnd.jupyter.widget-view+json": {
              "version_major": 2,
              "version_minor": 0,
              "model_id": "29502c0755dd4a38939ce5120a5b99ff"
            }
          },
          "metadata": {}
        }
      ]
    },
    {
      "cell_type": "code",
      "source": [
        "print(shap_values[0])"
      ],
      "metadata": {
        "colab": {
          "base_uri": "https://localhost:8080/"
        },
        "id": "gHb6Mmvi47qA",
        "outputId": "c3740f5e-3b26-4618-da71-2b349cb193f0"
      },
      "execution_count": 15,
      "outputs": [
        {
          "output_type": "stream",
          "name": "stdout",
          "text": [
            "[[ 0.          0.02175684  0.02951276 ... -0.00926304 -0.00493281\n",
            "  -0.00932875]\n",
            " [ 0.          0.00736126  0.05722623 ...  0.         -0.01743178\n",
            "   0.01650953]\n",
            " [-0.09720036 -0.00953832  0.02235504 ...  0.00858994 -0.0885182\n",
            "   0.05697584]\n",
            " ...\n",
            " [ 0.          0.02274457  0.02527373 ...  0.         -0.00919211\n",
            "   0.        ]\n",
            " [ 0.00854275  0.01638585  0.01304797 ...  0.0023495   0.00701165\n",
            "  -0.00734758]\n",
            " [ 0.          0.01365036  0.03299578 ... -0.0076538  -0.02475267\n",
            "   0.00542074]]\n"
          ]
        }
      ]
    },
    {
      "cell_type": "code",
      "source": [
        "type(shap_values[0])"
      ],
      "metadata": {
        "colab": {
          "base_uri": "https://localhost:8080/"
        },
        "id": "eM8brh0aAvkW",
        "outputId": "fdaaa625-454a-47ba-eb9b-b1989d4f18a3"
      },
      "execution_count": 16,
      "outputs": [
        {
          "output_type": "execute_result",
          "data": {
            "text/plain": [
              "numpy.ndarray"
            ]
          },
          "metadata": {},
          "execution_count": 16
        }
      ]
    },
    {
      "cell_type": "code",
      "source": [
        "data_df = pd.DataFrame(shap_values[0])"
      ],
      "metadata": {
        "id": "48h2syinBBb8"
      },
      "execution_count": 17,
      "outputs": []
    },
    {
      "cell_type": "code",
      "source": [
        "data_df.head()"
      ],
      "metadata": {
        "colab": {
          "base_uri": "https://localhost:8080/",
          "height": 299
        },
        "id": "GaPyNdSzBLa5",
        "outputId": "97359a38-6174-4988-a4bd-fac9423792d4"
      },
      "execution_count": 18,
      "outputs": [
        {
          "output_type": "execute_result",
          "data": {
            "text/plain": [
              "         0         1         2         3         4         5         6   \\\n",
              "0  0.000000  0.021757  0.029513  0.006152  0.000000  0.034843  0.016012   \n",
              "1  0.000000  0.007361  0.057226  0.000000  0.002343  0.136330  0.000000   \n",
              "2 -0.097200 -0.009538  0.022355  0.000000  0.000000  0.038967  0.000000   \n",
              "3  0.000000  0.009073  0.027457  0.005884  0.000000  0.038810  0.012290   \n",
              "4 -0.055427  0.000000  0.014616  0.000000 -0.005010  0.041070 -0.005084   \n",
              "\n",
              "         7         8         9   ...        66        67        68        69  \\\n",
              "0  0.029036  0.064038  0.000000  ...  0.000000  0.000000  0.000000  0.012310   \n",
              "1  0.100595  0.130059  0.053870  ...  0.032048  0.000000  0.000000  0.017105   \n",
              "2  0.000000  0.020022  0.000000  ...  0.009960 -0.012335 -0.008566  0.020155   \n",
              "3  0.030603  0.042299  0.008445  ...  0.000000 -0.010909  0.000000  0.000000   \n",
              "4  0.000000  0.036859  0.000000  ...  0.014206  0.000000  0.000000 -0.008514   \n",
              "\n",
              "         70        71        72        73        74        75  \n",
              "0  0.000000  0.007549 -0.013930 -0.009263 -0.004933 -0.009329  \n",
              "1  0.000000 -0.022295  0.000000  0.000000 -0.017432  0.016510  \n",
              "2  0.000000 -0.015272 -0.018193  0.008590 -0.088518  0.056976  \n",
              "3  0.007912  0.000000 -0.010427  0.000000  0.007985 -0.009417  \n",
              "4  0.000000 -0.008254 -0.032687  0.000000 -0.066015  0.021556  \n",
              "\n",
              "[5 rows x 76 columns]"
            ],
            "text/html": [
              "\n",
              "  <div id=\"df-039176fa-c2cc-47cd-b43d-f8cbd8031e97\">\n",
              "    <div class=\"colab-df-container\">\n",
              "      <div>\n",
              "<style scoped>\n",
              "    .dataframe tbody tr th:only-of-type {\n",
              "        vertical-align: middle;\n",
              "    }\n",
              "\n",
              "    .dataframe tbody tr th {\n",
              "        vertical-align: top;\n",
              "    }\n",
              "\n",
              "    .dataframe thead th {\n",
              "        text-align: right;\n",
              "    }\n",
              "</style>\n",
              "<table border=\"1\" class=\"dataframe\">\n",
              "  <thead>\n",
              "    <tr style=\"text-align: right;\">\n",
              "      <th></th>\n",
              "      <th>0</th>\n",
              "      <th>1</th>\n",
              "      <th>2</th>\n",
              "      <th>3</th>\n",
              "      <th>4</th>\n",
              "      <th>5</th>\n",
              "      <th>6</th>\n",
              "      <th>7</th>\n",
              "      <th>8</th>\n",
              "      <th>9</th>\n",
              "      <th>...</th>\n",
              "      <th>66</th>\n",
              "      <th>67</th>\n",
              "      <th>68</th>\n",
              "      <th>69</th>\n",
              "      <th>70</th>\n",
              "      <th>71</th>\n",
              "      <th>72</th>\n",
              "      <th>73</th>\n",
              "      <th>74</th>\n",
              "      <th>75</th>\n",
              "    </tr>\n",
              "  </thead>\n",
              "  <tbody>\n",
              "    <tr>\n",
              "      <th>0</th>\n",
              "      <td>0.000000</td>\n",
              "      <td>0.021757</td>\n",
              "      <td>0.029513</td>\n",
              "      <td>0.006152</td>\n",
              "      <td>0.000000</td>\n",
              "      <td>0.034843</td>\n",
              "      <td>0.016012</td>\n",
              "      <td>0.029036</td>\n",
              "      <td>0.064038</td>\n",
              "      <td>0.000000</td>\n",
              "      <td>...</td>\n",
              "      <td>0.000000</td>\n",
              "      <td>0.000000</td>\n",
              "      <td>0.000000</td>\n",
              "      <td>0.012310</td>\n",
              "      <td>0.000000</td>\n",
              "      <td>0.007549</td>\n",
              "      <td>-0.013930</td>\n",
              "      <td>-0.009263</td>\n",
              "      <td>-0.004933</td>\n",
              "      <td>-0.009329</td>\n",
              "    </tr>\n",
              "    <tr>\n",
              "      <th>1</th>\n",
              "      <td>0.000000</td>\n",
              "      <td>0.007361</td>\n",
              "      <td>0.057226</td>\n",
              "      <td>0.000000</td>\n",
              "      <td>0.002343</td>\n",
              "      <td>0.136330</td>\n",
              "      <td>0.000000</td>\n",
              "      <td>0.100595</td>\n",
              "      <td>0.130059</td>\n",
              "      <td>0.053870</td>\n",
              "      <td>...</td>\n",
              "      <td>0.032048</td>\n",
              "      <td>0.000000</td>\n",
              "      <td>0.000000</td>\n",
              "      <td>0.017105</td>\n",
              "      <td>0.000000</td>\n",
              "      <td>-0.022295</td>\n",
              "      <td>0.000000</td>\n",
              "      <td>0.000000</td>\n",
              "      <td>-0.017432</td>\n",
              "      <td>0.016510</td>\n",
              "    </tr>\n",
              "    <tr>\n",
              "      <th>2</th>\n",
              "      <td>-0.097200</td>\n",
              "      <td>-0.009538</td>\n",
              "      <td>0.022355</td>\n",
              "      <td>0.000000</td>\n",
              "      <td>0.000000</td>\n",
              "      <td>0.038967</td>\n",
              "      <td>0.000000</td>\n",
              "      <td>0.000000</td>\n",
              "      <td>0.020022</td>\n",
              "      <td>0.000000</td>\n",
              "      <td>...</td>\n",
              "      <td>0.009960</td>\n",
              "      <td>-0.012335</td>\n",
              "      <td>-0.008566</td>\n",
              "      <td>0.020155</td>\n",
              "      <td>0.000000</td>\n",
              "      <td>-0.015272</td>\n",
              "      <td>-0.018193</td>\n",
              "      <td>0.008590</td>\n",
              "      <td>-0.088518</td>\n",
              "      <td>0.056976</td>\n",
              "    </tr>\n",
              "    <tr>\n",
              "      <th>3</th>\n",
              "      <td>0.000000</td>\n",
              "      <td>0.009073</td>\n",
              "      <td>0.027457</td>\n",
              "      <td>0.005884</td>\n",
              "      <td>0.000000</td>\n",
              "      <td>0.038810</td>\n",
              "      <td>0.012290</td>\n",
              "      <td>0.030603</td>\n",
              "      <td>0.042299</td>\n",
              "      <td>0.008445</td>\n",
              "      <td>...</td>\n",
              "      <td>0.000000</td>\n",
              "      <td>-0.010909</td>\n",
              "      <td>0.000000</td>\n",
              "      <td>0.000000</td>\n",
              "      <td>0.007912</td>\n",
              "      <td>0.000000</td>\n",
              "      <td>-0.010427</td>\n",
              "      <td>0.000000</td>\n",
              "      <td>0.007985</td>\n",
              "      <td>-0.009417</td>\n",
              "    </tr>\n",
              "    <tr>\n",
              "      <th>4</th>\n",
              "      <td>-0.055427</td>\n",
              "      <td>0.000000</td>\n",
              "      <td>0.014616</td>\n",
              "      <td>0.000000</td>\n",
              "      <td>-0.005010</td>\n",
              "      <td>0.041070</td>\n",
              "      <td>-0.005084</td>\n",
              "      <td>0.000000</td>\n",
              "      <td>0.036859</td>\n",
              "      <td>0.000000</td>\n",
              "      <td>...</td>\n",
              "      <td>0.014206</td>\n",
              "      <td>0.000000</td>\n",
              "      <td>0.000000</td>\n",
              "      <td>-0.008514</td>\n",
              "      <td>0.000000</td>\n",
              "      <td>-0.008254</td>\n",
              "      <td>-0.032687</td>\n",
              "      <td>0.000000</td>\n",
              "      <td>-0.066015</td>\n",
              "      <td>0.021556</td>\n",
              "    </tr>\n",
              "  </tbody>\n",
              "</table>\n",
              "<p>5 rows × 76 columns</p>\n",
              "</div>\n",
              "      <button class=\"colab-df-convert\" onclick=\"convertToInteractive('df-039176fa-c2cc-47cd-b43d-f8cbd8031e97')\"\n",
              "              title=\"Convert this dataframe to an interactive table.\"\n",
              "              style=\"display:none;\">\n",
              "        \n",
              "  <svg xmlns=\"http://www.w3.org/2000/svg\" height=\"24px\"viewBox=\"0 0 24 24\"\n",
              "       width=\"24px\">\n",
              "    <path d=\"M0 0h24v24H0V0z\" fill=\"none\"/>\n",
              "    <path d=\"M18.56 5.44l.94 2.06.94-2.06 2.06-.94-2.06-.94-.94-2.06-.94 2.06-2.06.94zm-11 1L8.5 8.5l.94-2.06 2.06-.94-2.06-.94L8.5 2.5l-.94 2.06-2.06.94zm10 10l.94 2.06.94-2.06 2.06-.94-2.06-.94-.94-2.06-.94 2.06-2.06.94z\"/><path d=\"M17.41 7.96l-1.37-1.37c-.4-.4-.92-.59-1.43-.59-.52 0-1.04.2-1.43.59L10.3 9.45l-7.72 7.72c-.78.78-.78 2.05 0 2.83L4 21.41c.39.39.9.59 1.41.59.51 0 1.02-.2 1.41-.59l7.78-7.78 2.81-2.81c.8-.78.8-2.07 0-2.86zM5.41 20L4 18.59l7.72-7.72 1.47 1.35L5.41 20z\"/>\n",
              "  </svg>\n",
              "      </button>\n",
              "      \n",
              "  <style>\n",
              "    .colab-df-container {\n",
              "      display:flex;\n",
              "      flex-wrap:wrap;\n",
              "      gap: 12px;\n",
              "    }\n",
              "\n",
              "    .colab-df-convert {\n",
              "      background-color: #E8F0FE;\n",
              "      border: none;\n",
              "      border-radius: 50%;\n",
              "      cursor: pointer;\n",
              "      display: none;\n",
              "      fill: #1967D2;\n",
              "      height: 32px;\n",
              "      padding: 0 0 0 0;\n",
              "      width: 32px;\n",
              "    }\n",
              "\n",
              "    .colab-df-convert:hover {\n",
              "      background-color: #E2EBFA;\n",
              "      box-shadow: 0px 1px 2px rgba(60, 64, 67, 0.3), 0px 1px 3px 1px rgba(60, 64, 67, 0.15);\n",
              "      fill: #174EA6;\n",
              "    }\n",
              "\n",
              "    [theme=dark] .colab-df-convert {\n",
              "      background-color: #3B4455;\n",
              "      fill: #D2E3FC;\n",
              "    }\n",
              "\n",
              "    [theme=dark] .colab-df-convert:hover {\n",
              "      background-color: #434B5C;\n",
              "      box-shadow: 0px 1px 3px 1px rgba(0, 0, 0, 0.15);\n",
              "      filter: drop-shadow(0px 1px 2px rgba(0, 0, 0, 0.3));\n",
              "      fill: #FFFFFF;\n",
              "    }\n",
              "  </style>\n",
              "\n",
              "      <script>\n",
              "        const buttonEl =\n",
              "          document.querySelector('#df-039176fa-c2cc-47cd-b43d-f8cbd8031e97 button.colab-df-convert');\n",
              "        buttonEl.style.display =\n",
              "          google.colab.kernel.accessAllowed ? 'block' : 'none';\n",
              "\n",
              "        async function convertToInteractive(key) {\n",
              "          const element = document.querySelector('#df-039176fa-c2cc-47cd-b43d-f8cbd8031e97');\n",
              "          const dataTable =\n",
              "            await google.colab.kernel.invokeFunction('convertToInteractive',\n",
              "                                                     [key], {});\n",
              "          if (!dataTable) return;\n",
              "\n",
              "          const docLinkHtml = 'Like what you see? Visit the ' +\n",
              "            '<a target=\"_blank\" href=https://colab.research.google.com/notebooks/data_table.ipynb>data table notebook</a>'\n",
              "            + ' to learn more about interactive tables.';\n",
              "          element.innerHTML = '';\n",
              "          dataTable['output_type'] = 'display_data';\n",
              "          await google.colab.output.renderOutput(dataTable, element);\n",
              "          const docLink = document.createElement('div');\n",
              "          docLink.innerHTML = docLinkHtml;\n",
              "          element.appendChild(docLink);\n",
              "        }\n",
              "      </script>\n",
              "    </div>\n",
              "  </div>\n",
              "  "
            ]
          },
          "metadata": {},
          "execution_count": 18
        }
      ]
    },
    {
      "cell_type": "code",
      "source": [
        "data_df.to_csv('/content/drive/MyDrive/DACN_XAI_Adv_defense/InSDN/MLP_pgd/1000_samples_[0].csv', index=False)"
      ],
      "metadata": {
        "id": "mbDTuofCBeGJ"
      },
      "execution_count": null,
      "outputs": []
    },
    {
      "cell_type": "code",
      "source": [
        "data_df.columns = feature_list\n",
        "data_df.head()"
      ],
      "metadata": {
        "colab": {
          "base_uri": "https://localhost:8080/",
          "height": 334
        },
        "id": "Kh8NM9hmM99Y",
        "outputId": "831af1db-f971-49f1-d05a-cbb255141dcd"
      },
      "execution_count": 19,
      "outputs": [
        {
          "output_type": "execute_result",
          "data": {
            "text/plain": [
              "   Flow Duration  Tot Fwd Pkts  Tot Bwd Pkts  TotLen Fwd Pkts  \\\n",
              "0       0.000000      0.021757      0.029513         0.006152   \n",
              "1       0.000000      0.007361      0.057226         0.000000   \n",
              "2      -0.097200     -0.009538      0.022355         0.000000   \n",
              "3       0.000000      0.009073      0.027457         0.005884   \n",
              "4      -0.055427      0.000000      0.014616         0.000000   \n",
              "\n",
              "   TotLen Bwd Pkts  Fwd Pkt Len Max  Fwd Pkt Len Min  Fwd Pkt Len Mean  \\\n",
              "0         0.000000         0.034843         0.016012          0.029036   \n",
              "1         0.002343         0.136330         0.000000          0.100595   \n",
              "2         0.000000         0.038967         0.000000          0.000000   \n",
              "3         0.000000         0.038810         0.012290          0.030603   \n",
              "4        -0.005010         0.041070        -0.005084          0.000000   \n",
              "\n",
              "   Fwd Pkt Len Std  Bwd Pkt Len Max  ...  Fwd Act Data Pkts  Fwd Seg Size Min  \\\n",
              "0         0.064038         0.000000  ...           0.000000          0.000000   \n",
              "1         0.130059         0.053870  ...           0.032048          0.000000   \n",
              "2         0.020022         0.000000  ...           0.009960         -0.012335   \n",
              "3         0.042299         0.008445  ...           0.000000         -0.010909   \n",
              "4         0.036859         0.000000  ...           0.014206          0.000000   \n",
              "\n",
              "   Active Mean  Active Std  Active Max  Active Min  Idle Mean  Idle Std  \\\n",
              "0     0.000000    0.012310    0.000000    0.007549  -0.013930 -0.009263   \n",
              "1     0.000000    0.017105    0.000000   -0.022295   0.000000  0.000000   \n",
              "2    -0.008566    0.020155    0.000000   -0.015272  -0.018193  0.008590   \n",
              "3     0.000000    0.000000    0.007912    0.000000  -0.010427  0.000000   \n",
              "4     0.000000   -0.008514    0.000000   -0.008254  -0.032687  0.000000   \n",
              "\n",
              "   Idle Max  Idle Min  \n",
              "0 -0.004933 -0.009329  \n",
              "1 -0.017432  0.016510  \n",
              "2 -0.088518  0.056976  \n",
              "3  0.007985 -0.009417  \n",
              "4 -0.066015  0.021556  \n",
              "\n",
              "[5 rows x 76 columns]"
            ],
            "text/html": [
              "\n",
              "  <div id=\"df-e66c8957-10a3-4726-871a-1782b792a9b4\">\n",
              "    <div class=\"colab-df-container\">\n",
              "      <div>\n",
              "<style scoped>\n",
              "    .dataframe tbody tr th:only-of-type {\n",
              "        vertical-align: middle;\n",
              "    }\n",
              "\n",
              "    .dataframe tbody tr th {\n",
              "        vertical-align: top;\n",
              "    }\n",
              "\n",
              "    .dataframe thead th {\n",
              "        text-align: right;\n",
              "    }\n",
              "</style>\n",
              "<table border=\"1\" class=\"dataframe\">\n",
              "  <thead>\n",
              "    <tr style=\"text-align: right;\">\n",
              "      <th></th>\n",
              "      <th>Flow Duration</th>\n",
              "      <th>Tot Fwd Pkts</th>\n",
              "      <th>Tot Bwd Pkts</th>\n",
              "      <th>TotLen Fwd Pkts</th>\n",
              "      <th>TotLen Bwd Pkts</th>\n",
              "      <th>Fwd Pkt Len Max</th>\n",
              "      <th>Fwd Pkt Len Min</th>\n",
              "      <th>Fwd Pkt Len Mean</th>\n",
              "      <th>Fwd Pkt Len Std</th>\n",
              "      <th>Bwd Pkt Len Max</th>\n",
              "      <th>...</th>\n",
              "      <th>Fwd Act Data Pkts</th>\n",
              "      <th>Fwd Seg Size Min</th>\n",
              "      <th>Active Mean</th>\n",
              "      <th>Active Std</th>\n",
              "      <th>Active Max</th>\n",
              "      <th>Active Min</th>\n",
              "      <th>Idle Mean</th>\n",
              "      <th>Idle Std</th>\n",
              "      <th>Idle Max</th>\n",
              "      <th>Idle Min</th>\n",
              "    </tr>\n",
              "  </thead>\n",
              "  <tbody>\n",
              "    <tr>\n",
              "      <th>0</th>\n",
              "      <td>0.000000</td>\n",
              "      <td>0.021757</td>\n",
              "      <td>0.029513</td>\n",
              "      <td>0.006152</td>\n",
              "      <td>0.000000</td>\n",
              "      <td>0.034843</td>\n",
              "      <td>0.016012</td>\n",
              "      <td>0.029036</td>\n",
              "      <td>0.064038</td>\n",
              "      <td>0.000000</td>\n",
              "      <td>...</td>\n",
              "      <td>0.000000</td>\n",
              "      <td>0.000000</td>\n",
              "      <td>0.000000</td>\n",
              "      <td>0.012310</td>\n",
              "      <td>0.000000</td>\n",
              "      <td>0.007549</td>\n",
              "      <td>-0.013930</td>\n",
              "      <td>-0.009263</td>\n",
              "      <td>-0.004933</td>\n",
              "      <td>-0.009329</td>\n",
              "    </tr>\n",
              "    <tr>\n",
              "      <th>1</th>\n",
              "      <td>0.000000</td>\n",
              "      <td>0.007361</td>\n",
              "      <td>0.057226</td>\n",
              "      <td>0.000000</td>\n",
              "      <td>0.002343</td>\n",
              "      <td>0.136330</td>\n",
              "      <td>0.000000</td>\n",
              "      <td>0.100595</td>\n",
              "      <td>0.130059</td>\n",
              "      <td>0.053870</td>\n",
              "      <td>...</td>\n",
              "      <td>0.032048</td>\n",
              "      <td>0.000000</td>\n",
              "      <td>0.000000</td>\n",
              "      <td>0.017105</td>\n",
              "      <td>0.000000</td>\n",
              "      <td>-0.022295</td>\n",
              "      <td>0.000000</td>\n",
              "      <td>0.000000</td>\n",
              "      <td>-0.017432</td>\n",
              "      <td>0.016510</td>\n",
              "    </tr>\n",
              "    <tr>\n",
              "      <th>2</th>\n",
              "      <td>-0.097200</td>\n",
              "      <td>-0.009538</td>\n",
              "      <td>0.022355</td>\n",
              "      <td>0.000000</td>\n",
              "      <td>0.000000</td>\n",
              "      <td>0.038967</td>\n",
              "      <td>0.000000</td>\n",
              "      <td>0.000000</td>\n",
              "      <td>0.020022</td>\n",
              "      <td>0.000000</td>\n",
              "      <td>...</td>\n",
              "      <td>0.009960</td>\n",
              "      <td>-0.012335</td>\n",
              "      <td>-0.008566</td>\n",
              "      <td>0.020155</td>\n",
              "      <td>0.000000</td>\n",
              "      <td>-0.015272</td>\n",
              "      <td>-0.018193</td>\n",
              "      <td>0.008590</td>\n",
              "      <td>-0.088518</td>\n",
              "      <td>0.056976</td>\n",
              "    </tr>\n",
              "    <tr>\n",
              "      <th>3</th>\n",
              "      <td>0.000000</td>\n",
              "      <td>0.009073</td>\n",
              "      <td>0.027457</td>\n",
              "      <td>0.005884</td>\n",
              "      <td>0.000000</td>\n",
              "      <td>0.038810</td>\n",
              "      <td>0.012290</td>\n",
              "      <td>0.030603</td>\n",
              "      <td>0.042299</td>\n",
              "      <td>0.008445</td>\n",
              "      <td>...</td>\n",
              "      <td>0.000000</td>\n",
              "      <td>-0.010909</td>\n",
              "      <td>0.000000</td>\n",
              "      <td>0.000000</td>\n",
              "      <td>0.007912</td>\n",
              "      <td>0.000000</td>\n",
              "      <td>-0.010427</td>\n",
              "      <td>0.000000</td>\n",
              "      <td>0.007985</td>\n",
              "      <td>-0.009417</td>\n",
              "    </tr>\n",
              "    <tr>\n",
              "      <th>4</th>\n",
              "      <td>-0.055427</td>\n",
              "      <td>0.000000</td>\n",
              "      <td>0.014616</td>\n",
              "      <td>0.000000</td>\n",
              "      <td>-0.005010</td>\n",
              "      <td>0.041070</td>\n",
              "      <td>-0.005084</td>\n",
              "      <td>0.000000</td>\n",
              "      <td>0.036859</td>\n",
              "      <td>0.000000</td>\n",
              "      <td>...</td>\n",
              "      <td>0.014206</td>\n",
              "      <td>0.000000</td>\n",
              "      <td>0.000000</td>\n",
              "      <td>-0.008514</td>\n",
              "      <td>0.000000</td>\n",
              "      <td>-0.008254</td>\n",
              "      <td>-0.032687</td>\n",
              "      <td>0.000000</td>\n",
              "      <td>-0.066015</td>\n",
              "      <td>0.021556</td>\n",
              "    </tr>\n",
              "  </tbody>\n",
              "</table>\n",
              "<p>5 rows × 76 columns</p>\n",
              "</div>\n",
              "      <button class=\"colab-df-convert\" onclick=\"convertToInteractive('df-e66c8957-10a3-4726-871a-1782b792a9b4')\"\n",
              "              title=\"Convert this dataframe to an interactive table.\"\n",
              "              style=\"display:none;\">\n",
              "        \n",
              "  <svg xmlns=\"http://www.w3.org/2000/svg\" height=\"24px\"viewBox=\"0 0 24 24\"\n",
              "       width=\"24px\">\n",
              "    <path d=\"M0 0h24v24H0V0z\" fill=\"none\"/>\n",
              "    <path d=\"M18.56 5.44l.94 2.06.94-2.06 2.06-.94-2.06-.94-.94-2.06-.94 2.06-2.06.94zm-11 1L8.5 8.5l.94-2.06 2.06-.94-2.06-.94L8.5 2.5l-.94 2.06-2.06.94zm10 10l.94 2.06.94-2.06 2.06-.94-2.06-.94-.94-2.06-.94 2.06-2.06.94z\"/><path d=\"M17.41 7.96l-1.37-1.37c-.4-.4-.92-.59-1.43-.59-.52 0-1.04.2-1.43.59L10.3 9.45l-7.72 7.72c-.78.78-.78 2.05 0 2.83L4 21.41c.39.39.9.59 1.41.59.51 0 1.02-.2 1.41-.59l7.78-7.78 2.81-2.81c.8-.78.8-2.07 0-2.86zM5.41 20L4 18.59l7.72-7.72 1.47 1.35L5.41 20z\"/>\n",
              "  </svg>\n",
              "      </button>\n",
              "      \n",
              "  <style>\n",
              "    .colab-df-container {\n",
              "      display:flex;\n",
              "      flex-wrap:wrap;\n",
              "      gap: 12px;\n",
              "    }\n",
              "\n",
              "    .colab-df-convert {\n",
              "      background-color: #E8F0FE;\n",
              "      border: none;\n",
              "      border-radius: 50%;\n",
              "      cursor: pointer;\n",
              "      display: none;\n",
              "      fill: #1967D2;\n",
              "      height: 32px;\n",
              "      padding: 0 0 0 0;\n",
              "      width: 32px;\n",
              "    }\n",
              "\n",
              "    .colab-df-convert:hover {\n",
              "      background-color: #E2EBFA;\n",
              "      box-shadow: 0px 1px 2px rgba(60, 64, 67, 0.3), 0px 1px 3px 1px rgba(60, 64, 67, 0.15);\n",
              "      fill: #174EA6;\n",
              "    }\n",
              "\n",
              "    [theme=dark] .colab-df-convert {\n",
              "      background-color: #3B4455;\n",
              "      fill: #D2E3FC;\n",
              "    }\n",
              "\n",
              "    [theme=dark] .colab-df-convert:hover {\n",
              "      background-color: #434B5C;\n",
              "      box-shadow: 0px 1px 3px 1px rgba(0, 0, 0, 0.15);\n",
              "      filter: drop-shadow(0px 1px 2px rgba(0, 0, 0, 0.3));\n",
              "      fill: #FFFFFF;\n",
              "    }\n",
              "  </style>\n",
              "\n",
              "      <script>\n",
              "        const buttonEl =\n",
              "          document.querySelector('#df-e66c8957-10a3-4726-871a-1782b792a9b4 button.colab-df-convert');\n",
              "        buttonEl.style.display =\n",
              "          google.colab.kernel.accessAllowed ? 'block' : 'none';\n",
              "\n",
              "        async function convertToInteractive(key) {\n",
              "          const element = document.querySelector('#df-e66c8957-10a3-4726-871a-1782b792a9b4');\n",
              "          const dataTable =\n",
              "            await google.colab.kernel.invokeFunction('convertToInteractive',\n",
              "                                                     [key], {});\n",
              "          if (!dataTable) return;\n",
              "\n",
              "          const docLinkHtml = 'Like what you see? Visit the ' +\n",
              "            '<a target=\"_blank\" href=https://colab.research.google.com/notebooks/data_table.ipynb>data table notebook</a>'\n",
              "            + ' to learn more about interactive tables.';\n",
              "          element.innerHTML = '';\n",
              "          dataTable['output_type'] = 'display_data';\n",
              "          await google.colab.output.renderOutput(dataTable, element);\n",
              "          const docLink = document.createElement('div');\n",
              "          docLink.innerHTML = docLinkHtml;\n",
              "          element.appendChild(docLink);\n",
              "        }\n",
              "      </script>\n",
              "    </div>\n",
              "  </div>\n",
              "  "
            ]
          },
          "metadata": {},
          "execution_count": 19
        }
      ]
    },
    {
      "cell_type": "code",
      "source": [
        "data_dict = {}\n",
        "for idx in range(0, 1000):\n",
        "  # Select the desired row and get the top 10 values's column names\n",
        "  row_values = data_df.iloc[idx].nlargest(10).index.tolist()\n",
        "\n",
        "  # Create a dictionary and add the list with filename as the key\n",
        "  data_dict['Adv sample ' + str(idx)] = row_values"
      ],
      "metadata": {
        "id": "y9KCFvHdP5UO"
      },
      "execution_count": 20,
      "outputs": []
    },
    {
      "cell_type": "code",
      "source": [
        "print(data_dict)"
      ],
      "metadata": {
        "colab": {
          "base_uri": "https://localhost:8080/"
        },
        "id": "SAhM-kXtRLoW",
        "outputId": "55d4bbc9-cc03-4cc3-caf6-012ea4b59ee1"
      },
      "execution_count": 21,
      "outputs": [
        {
          "output_type": "stream",
          "name": "stdout",
          "text": [
            "{'Adv sample 0': ['Fwd Pkt Len Std', 'Fwd Pkt Len Max', 'Tot Bwd Pkts', 'Fwd Pkt Len Mean', 'Bwd Pkts/s', 'Pkt Size Avg', 'Fwd Header Len', 'Fwd Seg Size Avg', 'Tot Fwd Pkts', 'ACK Flag Cnt'], 'Adv sample 1': ['Fwd Pkt Len Max', 'Fwd Pkt Len Std', 'Fwd Pkt Len Mean', 'Fwd Seg Size Avg', 'Pkt Len Std', 'Pkt Len Mean', 'Pkt Size Avg', 'Tot Bwd Pkts', 'Bwd Pkt Len Max', 'Bwd Pkts/s'], 'Adv sample 2': ['Bwd Header Len', 'SYN Flag Cnt', 'Idle Min', 'Bwd Pkts/s', 'Fwd Pkt Len Max', 'Subflow Bwd Pkts', 'Fwd IAT Max', 'Tot Bwd Pkts', 'Active Std', 'Fwd Pkt Len Std'], 'Adv sample 3': ['Bwd Header Len', 'SYN Flag Cnt', 'Fwd Pkt Len Std', 'Fwd Seg Size Avg', 'Fwd Pkt Len Max', 'Fwd Pkt Len Mean', 'Tot Bwd Pkts', 'Subflow Bwd Pkts', 'FIN Flag Cnt', 'Fwd IAT Std'], 'Adv sample 4': ['Bwd Header Len', 'Fwd Pkt Len Max', 'SYN Flag Cnt', 'Fwd Pkt Len Std', 'Init Fwd Win Byts', 'Fwd Header Len', 'Subflow Bwd Pkts', 'Idle Min', 'Flow Pkts/s', 'Flow Byts/s'], 'Adv sample 5': ['Bwd Header Len', 'SYN Flag Cnt', 'Fwd Pkt Len Std', 'Bwd Pkts/s', 'FIN Flag Cnt', 'Fwd Pkt Len Max', 'Down/Up Ratio', 'Pkt Len Min', 'Pkt Size Avg', 'Subflow Bwd Pkts'], 'Adv sample 6': ['SYN Flag Cnt', 'Bwd Header Len', 'Bwd Pkts/s', 'Fwd Pkt Len Std', 'Fwd Pkt Len Max', 'FIN Flag Cnt', 'Fwd Pkt Len Mean', 'Pkt Len Min', 'Fwd Seg Size Avg', 'Down/Up Ratio'], 'Adv sample 7': ['SYN Flag Cnt', 'Bwd Header Len', 'FIN Flag Cnt', 'Fwd Pkt Len Std', 'Fwd Pkt Len Mean', 'Tot Bwd Pkts', 'Fwd Seg Size Avg', 'Fwd Pkt Len Max', 'Down/Up Ratio', 'Subflow Bwd Pkts'], 'Adv sample 8': ['Bwd Header Len', 'SYN Flag Cnt', 'Bwd Pkts/s', 'FIN Flag Cnt', 'Fwd Pkt Len Std', 'Subflow Bwd Pkts', 'Fwd Pkt Len Mean', 'Fwd Pkt Len Max', 'Pkt Size Avg', 'Down/Up Ratio'], 'Adv sample 9': ['Fwd Pkt Len Std', 'Fwd Pkt Len Max', 'Fwd Pkt Len Mean', 'Fwd Seg Size Avg', 'Pkt Len Mean', 'Pkt Len Std', 'Pkt Len Max', 'Pkt Size Avg', 'Bwd Pkt Len Std', 'Down/Up Ratio'], 'Adv sample 10': ['Fwd Pkt Len Std', 'SYN Flag Cnt', 'Fwd Pkt Len Max', 'Bwd PSH Flags', 'Init Fwd Win Byts', 'Fwd Pkt Len Mean', 'Down/Up Ratio', 'Bwd Header Len', 'Fwd Seg Size Avg', 'FIN Flag Cnt'], 'Adv sample 11': ['Fwd Pkt Len Std', 'Fwd Pkt Len Max', 'Bwd Pkts/s', 'Pkt Size Avg', 'Fwd Seg Size Avg', 'Subflow Fwd Pkts', 'Tot Fwd Pkts', 'Fwd Pkt Len Mean', 'Pkt Len Max', 'Fwd Header Len'], 'Adv sample 12': ['Bwd Header Len', 'SYN Flag Cnt', 'Tot Bwd Pkts', 'Pkt Len Min', 'Fwd Pkt Len Std', 'Fwd Pkt Len Mean', 'Fwd Pkt Len Min', 'Fwd Seg Size Avg', 'Fwd Pkt Len Max', 'Subflow Bwd Pkts'], 'Adv sample 13': ['Fwd Pkt Len Std', 'Fwd Pkt Len Max', 'Fwd Pkt Len Mean', 'Pkt Size Avg', 'Pkt Len Mean', 'Subflow Fwd Pkts', 'Fwd Seg Size Avg', 'Pkt Len Std', 'Flow IAT Mean', 'Fwd Header Len'], 'Adv sample 14': ['SYN Flag Cnt', 'FIN Flag Cnt', 'Bwd Header Len', 'Bwd Pkts/s', 'Fwd Pkt Len Std', 'Fwd Pkt Len Mean', 'Pkt Len Max', 'Pkt Size Avg', 'Fwd Pkt Len Min', 'Fwd Pkt Len Max'], 'Adv sample 15': ['Bwd Header Len', 'SYN Flag Cnt', 'FIN Flag Cnt', 'Bwd Pkts/s', 'Fwd Pkt Len Std', 'Pkt Len Mean', 'Fwd Pkt Len Mean', 'Fwd Seg Size Avg', 'Fwd Pkt Len Min', 'Tot Bwd Pkts'], 'Adv sample 16': ['SYN Flag Cnt', 'Bwd Header Len', 'FIN Flag Cnt', 'Bwd Pkts/s', 'Fwd Pkt Len Std', 'Fwd Act Data Pkts', 'Fwd Pkt Len Mean', 'Fwd Pkt Len Max', 'Tot Bwd Pkts', 'Bwd Pkt Len Min'], 'Adv sample 17': ['Bwd Header Len', 'SYN Flag Cnt', 'FIN Flag Cnt', 'Fwd Pkt Len Std', 'Bwd Pkts/s', 'Fwd Pkt Len Max', 'Fwd Seg Size Avg', 'Fwd Pkt Len Min', 'Pkt Len Mean', 'Subflow Bwd Pkts'], 'Adv sample 18': ['PSH Flag Cnt', 'ACK Flag Cnt', 'Tot Bwd Pkts', 'Init Fwd Win Byts', 'Bwd PSH Flags', 'Down/Up Ratio', 'SYN Flag Cnt', 'Subflow Bwd Pkts', 'FIN Flag Cnt', 'Bwd Pkts/s'], 'Adv sample 19': ['SYN Flag Cnt', 'Bwd Header Len', 'FIN Flag Cnt', 'Bwd Pkts/s', 'Fwd Pkt Len Std', 'Fwd Pkt Len Max', 'Fwd Pkt Len Min', 'Bwd Pkt Len Min', 'Fwd IAT Std', 'ACK Flag Cnt'], 'Adv sample 20': ['SYN Flag Cnt', 'Bwd Header Len', 'FIN Flag Cnt', 'Fwd Pkt Len Max', 'Fwd Pkt Len Mean', 'Fwd Pkt Len Std', 'TotLen Fwd Pkts', 'Bwd Pkts/s', 'Tot Bwd Pkts', 'Bwd IAT Max'], 'Adv sample 21': ['SYN Flag Cnt', 'Bwd Header Len', 'Bwd Pkts/s', 'Fwd Pkt Len Std', 'Init Fwd Win Byts', 'TotLen Fwd Pkts', 'Flow Pkts/s', 'Pkt Len Min', 'Fwd Pkt Len Mean', 'Pkt Len Max'], 'Adv sample 22': ['Bwd Header Len', 'SYN Flag Cnt', 'FIN Flag Cnt', 'Bwd Pkts/s', 'Fwd Pkt Len Std', 'Fwd Pkt Len Max', 'Fwd Pkt Len Min', 'Fwd Pkt Len Mean', 'Bwd Pkt Len Min', 'Pkt Len Min'], 'Adv sample 23': ['Bwd Header Len', 'SYN Flag Cnt', 'FIN Flag Cnt', 'Fwd Pkt Len Std', 'Bwd Pkts/s', 'Fwd Pkt Len Max', 'Fwd Pkt Len Min', 'Pkt Len Max', 'Fwd Pkt Len Mean', 'Pkt Len Min'], 'Adv sample 24': ['SYN Flag Cnt', 'Fwd Pkt Len Std', 'Bwd PSH Flags', 'Fwd Pkt Len Max', 'Init Fwd Win Byts', 'Fwd Pkt Len Mean', 'Bwd Header Len', 'Bwd Pkts/s', 'Pkt Len Mean', 'Fwd Pkt Len Min'], 'Adv sample 25': ['SYN Flag Cnt', 'Bwd Header Len', 'FIN Flag Cnt', 'Bwd Pkts/s', 'Fwd Pkt Len Std', 'Fwd Act Data Pkts', 'Fwd Pkt Len Max', 'Tot Bwd Pkts', 'Fwd Seg Size Avg', 'Fwd Pkt Len Min'], 'Adv sample 26': ['SYN Flag Cnt', 'Bwd Header Len', 'FIN Flag Cnt', 'ACK Flag Cnt', 'Fwd Pkt Len Std', 'Fwd Pkt Len Mean', 'TotLen Fwd Pkts', 'Pkt Len Min', 'Fwd Act Data Pkts', 'Tot Bwd Pkts'], 'Adv sample 27': ['SYN Flag Cnt', 'Fwd Pkt Len Std', 'Fwd Pkt Len Max', 'Down/Up Ratio', 'Fwd Pkt Len Mean', 'Fwd Seg Size Avg', 'Bwd Pkts/s', 'Pkt Size Avg', 'FIN Flag Cnt', 'Pkt Len Std'], 'Adv sample 28': ['Fwd Pkt Len Std', 'Fwd Pkt Len Max', 'Bwd Pkts/s', 'ACK Flag Cnt', 'Pkt Size Avg', 'Subflow Fwd Pkts', 'Fwd Seg Size Avg', 'Pkt Len Std', 'Fwd Header Len', 'Pkt Len Min'], 'Adv sample 29': ['Init Fwd Win Byts', 'Fwd Pkt Len Std', 'Down/Up Ratio', 'Fwd Pkt Len Max', 'FIN Flag Cnt', 'Pkt Len Max', 'Fwd Seg Size Avg', 'Pkt Size Avg', 'Pkt Len Min', 'Tot Bwd Pkts'], 'Adv sample 30': ['SYN Flag Cnt', 'Bwd Header Len', 'FIN Flag Cnt', 'Bwd Pkts/s', 'Fwd Pkt Len Mean', 'Tot Bwd Pkts', 'Fwd Pkt Len Max', 'Fwd Pkt Len Std', 'Fwd Act Data Pkts', 'Pkt Len Max'], 'Adv sample 31': ['Fwd Pkt Len Std', 'Fwd Pkt Len Max', 'Bwd Pkts/s', 'Pkt Size Avg', 'Fwd Pkt Len Mean', 'Pkt Len Std', 'Pkt Len Min', 'Tot Bwd Pkts', 'Fwd Pkt Len Min', 'Tot Fwd Pkts'], 'Adv sample 32': ['Bwd Header Len', 'SYN Flag Cnt', 'FIN Flag Cnt', 'Bwd Pkts/s', 'Fwd Pkt Len Std', 'Fwd Pkt Len Max', 'Pkt Len Mean', 'Down/Up Ratio', 'Flow Pkts/s', 'Tot Bwd Pkts'], 'Adv sample 33': ['Bwd Header Len', 'SYN Flag Cnt', 'FIN Flag Cnt', 'Bwd Pkts/s', 'Fwd Pkt Len Mean', 'Fwd Pkt Len Std', 'Fwd Pkt Len Min', 'Fwd Pkt Len Max', 'Pkt Len Min', 'Bwd Pkt Len Min'], 'Adv sample 34': ['SYN Flag Cnt', 'Fwd Pkt Len Std', 'Fwd Pkt Len Max', 'Fwd Pkt Len Mean', 'Bwd Pkts/s', 'Pkt Len Std', 'Fwd Header Len', 'Subflow Fwd Pkts', 'Pkt Len Mean', 'Bwd Pkt Len Min'], 'Adv sample 35': ['Bwd Header Len', 'SYN Flag Cnt', 'Fwd Pkt Len Std', 'Fwd Pkt Len Max', 'Pkt Len Min', 'Tot Bwd Pkts', 'Subflow Bwd Pkts', 'Bwd Pkt Len Min', 'Fwd Pkt Len Mean', 'Pkt Len Max'], 'Adv sample 36': ['ACK Flag Cnt', 'Bwd Header Len', 'SYN Flag Cnt', 'Fwd Pkt Len Std', 'Fwd Pkt Len Max', 'Init Fwd Win Byts', 'Bwd Pkts/s', 'Down/Up Ratio', 'Fwd Pkt Len Mean', 'Flow Byts/s'], 'Adv sample 37': ['Fwd Pkt Len Std', 'Fwd Pkt Len Max', 'ACK Flag Cnt', 'SYN Flag Cnt', 'Down/Up Ratio', 'Fwd Seg Size Avg', 'Fwd Pkt Len Mean', 'Pkt Len Mean', 'Fwd Header Len', 'Pkt Len Max'], 'Adv sample 38': ['Fwd Pkt Len Std', 'Fwd Pkt Len Mean', 'Fwd Seg Size Avg', 'Tot Fwd Pkts', 'Fwd Pkt Len Max', 'Pkt Size Avg', 'Bwd Pkts/s', 'Pkt Len Std', 'FIN Flag Cnt', 'Pkt Len Mean'], 'Adv sample 39': ['Bwd Header Len', 'SYN Flag Cnt', 'Tot Bwd Pkts', 'Subflow Bwd Pkts', 'Fwd Seg Size Avg', 'Pkt Len Min', 'Fwd Pkt Len Min', 'Fwd IAT Std', 'TotLen Fwd Pkts', 'FIN Flag Cnt'], 'Adv sample 40': ['SYN Flag Cnt', 'Bwd Header Len', 'Bwd Pkts/s', 'Fwd Pkt Len Std', 'Fwd Pkt Len Max', 'Fwd Seg Size Avg', 'FIN Flag Cnt', 'Pkt Size Avg', 'Tot Bwd Pkts', 'Init Fwd Win Byts'], 'Adv sample 41': ['Fwd Pkt Len Std', 'ACK Flag Cnt', 'Fwd Pkt Len Max', 'SYN Flag Cnt', 'Down/Up Ratio', 'Fwd Header Len', 'Fwd Pkt Len Mean', 'Fwd Seg Size Avg', 'Pkt Len Mean', 'Pkt Len Min'], 'Adv sample 42': ['SYN Flag Cnt', 'Bwd Header Len', 'FIN Flag Cnt', 'Fwd Pkt Len Std', 'Bwd Pkts/s', 'Fwd Pkt Len Max', 'Pkt Len Mean', 'Tot Bwd Pkts', 'Pkt Len Min', 'Fwd Pkt Len Mean'], 'Adv sample 43': ['SYN Flag Cnt', 'Bwd Header Len', 'FIN Flag Cnt', 'Bwd Pkts/s', 'Fwd Pkt Len Std', 'Fwd Pkt Len Max', 'TotLen Fwd Pkts', 'Fwd Pkt Len Mean', 'Subflow Bwd Pkts', 'Pkt Len Min'], 'Adv sample 44': ['SYN Flag Cnt', 'Bwd Header Len', 'FIN Flag Cnt', 'Bwd Pkts/s', 'Pkt Size Avg', 'Fwd Pkt Len Std', 'Pkt Len Min', 'Pkt Len Max', 'Tot Bwd Pkts', 'Subflow Bwd Pkts'], 'Adv sample 45': ['Fwd Pkt Len Std', 'Fwd Pkt Len Max', 'Pkt Size Avg', 'Fwd Pkt Len Mean', 'Fwd Header Len', 'Bwd Pkts/s', 'Fwd Seg Size Avg', 'Pkt Len Std', 'FIN Flag Cnt', 'Pkt Len Min'], 'Adv sample 46': ['Fwd Pkt Len Std', 'ACK Flag Cnt', 'Fwd Pkt Len Max', 'SYN Flag Cnt', 'Down/Up Ratio', 'Fwd Seg Size Avg', 'Pkt Size Avg', 'Fwd Pkt Len Mean', 'Pkt Len Max', 'Fwd Act Data Pkts'], 'Adv sample 47': ['Fwd Pkt Len Std', 'Fwd Pkt Len Max', 'ACK Flag Cnt', 'SYN Flag Cnt', 'Fwd Seg Size Avg', 'Down/Up Ratio', 'Fwd Pkt Len Mean', 'Pkt Len Std', 'Pkt Len Mean', 'Pkt Size Avg'], 'Adv sample 48': ['Bwd Header Len', 'SYN Flag Cnt', 'FIN Flag Cnt', 'Bwd Pkts/s', 'Fwd Pkt Len Std', 'Fwd Pkt Len Max', 'Tot Bwd Pkts', 'Fwd Pkt Len Mean', 'Fwd Pkt Len Min', 'Pkt Len Min'], 'Adv sample 49': ['Bwd Header Len', 'SYN Flag Cnt', 'Bwd Pkts/s', 'FIN Flag Cnt', 'Fwd Pkt Len Std', 'Fwd Pkt Len Max', 'Fwd Pkt Len Mean', 'Pkt Len Max', 'Fwd Seg Size Avg', 'Fwd Pkt Len Min'], 'Adv sample 50': ['Fwd Pkt Len Std', 'Fwd Pkt Len Mean', 'Fwd Pkt Len Max', 'Pkt Len Max', 'Pkt Len Std', 'Fwd Seg Size Avg', 'Flow Byts/s', 'Pkt Len Mean', 'Pkt Size Avg', 'Bwd IAT Tot'], 'Adv sample 51': ['SYN Flag Cnt', 'Bwd Header Len', 'Fwd Pkt Len Std', 'Fwd Pkt Len Max', 'Bwd Pkts/s', 'Pkt Len Max', 'Fwd Seg Size Avg', 'Fwd Pkt Len Mean', 'Pkt Len Min', 'Tot Bwd Pkts'], 'Adv sample 52': ['Bwd Header Len', 'SYN Flag Cnt', 'FIN Flag Cnt', 'Fwd Pkt Len Mean', 'Bwd Pkts/s', 'Fwd Pkt Len Std', 'Fwd Pkt Len Max', 'Fwd Seg Size Avg', 'Fwd Pkt Len Min', 'Pkt Len Min'], 'Adv sample 53': ['ACK Flag Cnt', 'SYN Flag Cnt', 'Fwd Pkt Len Std', 'Init Fwd Win Byts', 'Fwd Pkt Len Mean', 'Fwd Seg Size Avg', 'Fwd Pkt Len Max', 'Pkt Len Std', 'Fwd Pkt Len Min', 'Pkt Size Avg'], 'Adv sample 54': ['Bwd Header Len', 'SYN Flag Cnt', 'Fwd Pkt Len Max', 'Fwd Pkt Len Std', 'Tot Bwd Pkts', 'Subflow Bwd Pkts', 'Pkt Len Max', 'Fwd IAT Std', 'Pkt Len Min', 'Fwd Pkt Len Min'], 'Adv sample 55': ['Bwd Header Len', 'SYN Flag Cnt', 'FIN Flag Cnt', 'Bwd Pkts/s', 'Fwd Pkt Len Std', 'Fwd Pkt Len Mean', 'Fwd Seg Size Avg', 'Pkt Len Mean', 'Fwd Pkt Len Min', 'Fwd Pkt Len Max'], 'Adv sample 56': ['Fwd Pkt Len Std', 'Fwd Pkt Len Max', 'Fwd Header Len', 'Bwd Pkts/s', 'Pkt Len Std', 'FIN Flag Cnt', 'Fwd Pkt Len Mean', 'Subflow Fwd Pkts', 'Pkt Len Mean', 'Tot Bwd Pkts'], 'Adv sample 57': ['Bwd Header Len', 'SYN Flag Cnt', 'FIN Flag Cnt', 'Bwd Pkts/s', 'Fwd Pkt Len Std', 'Pkt Len Max', 'Fwd Pkt Len Mean', 'Pkt Size Avg', 'Fwd Pkt Len Min', 'Pkt Len Min'], 'Adv sample 58': ['ACK Flag Cnt', 'SYN Flag Cnt', 'Bwd Header Len', 'Init Fwd Win Byts', 'Fwd Pkt Len Max', 'Fwd Pkt Len Std', 'Bwd Pkts/s', 'Pkt Len Std', 'Flow Pkts/s', 'Fwd Pkt Len Mean'], 'Adv sample 59': ['Fwd Pkt Len Std', 'Fwd Pkt Len Max', 'Pkt Len Std', 'Pkt Size Avg', 'Pkt Len Mean', 'Tot Bwd Pkts', 'Fwd Pkt Len Mean', 'Subflow Fwd Pkts', 'Fwd Seg Size Avg', 'Bwd Pkts/s'], 'Adv sample 60': ['Init Fwd Win Byts', 'Fwd Pkt Len Std', 'Fwd Pkt Len Max', 'Down/Up Ratio', 'Bwd Pkt Len Min', 'Fwd Pkt Len Mean', 'Bwd Pkts/s', 'Fwd Act Data Pkts', 'Pkt Len Max', 'Pkt Len Min'], 'Adv sample 61': ['Fwd Pkt Len Std', 'Fwd Pkt Len Max', 'Fwd Pkt Len Mean', 'Fwd Seg Size Avg', 'Pkt Len Max', 'Pkt Size Avg', 'Pkt Len Std', 'Pkt Len Mean', 'Pkt Len Min', 'FIN Flag Cnt'], 'Adv sample 62': ['Fwd Pkt Len Std', 'Fwd Pkt Len Max', 'Fwd Pkt Len Mean', 'Pkt Len Mean', 'Pkt Len Max', 'Tot Fwd Pkts', 'Fwd Header Len', 'Bwd Pkts/s', 'Fwd Pkt Len Min', 'Pkt Len Min'], 'Adv sample 63': ['SYN Flag Cnt', 'Bwd Header Len', 'Bwd Pkts/s', 'Fwd Pkt Len Std', 'Fwd Pkt Len Max', 'Fwd Pkt Len Mean', 'Fwd Seg Size Avg', 'FIN Flag Cnt', 'Tot Bwd Pkts', 'Pkt Size Avg'], 'Adv sample 64': ['SYN Flag Cnt', 'Fwd Pkt Len Std', 'Fwd Pkt Len Max', 'Bwd PSH Flags', 'Init Fwd Win Byts', 'Down/Up Ratio', 'Bwd Header Len', 'Fwd Pkt Len Mean', 'Fwd Seg Size Avg', 'Bwd Pkts/s'], 'Adv sample 65': ['Bwd Header Len', 'SYN Flag Cnt', 'FIN Flag Cnt', 'Fwd Pkt Len Mean', 'Bwd Pkts/s', 'Fwd Pkt Len Std', 'Fwd Pkt Len Max', 'Pkt Len Min', 'Pkt Size Avg', 'Flow Pkts/s'], 'Adv sample 66': ['Fwd Pkt Len Std', 'Fwd Pkt Len Max', 'Bwd Pkts/s', 'Pkt Size Avg', 'Fwd Header Len', 'Tot Bwd Pkts', 'Pkt Len Std', 'Tot Fwd Pkts', 'Pkt Len Max', 'Fwd Pkt Len Mean'], 'Adv sample 67': ['SYN Flag Cnt', 'Bwd Header Len', 'FIN Flag Cnt', 'Fwd Seg Size Avg', 'Bwd Pkts/s', 'Fwd Pkt Len Std', 'Tot Bwd Pkts', 'Fwd Pkt Len Min', 'Pkt Len Min', 'Fwd Act Data Pkts'], 'Adv sample 68': ['SYN Flag Cnt', 'Bwd Header Len', 'FIN Flag Cnt', 'Fwd Pkt Len Std', 'Fwd Pkt Len Mean', 'Fwd Pkt Len Max', 'Tot Bwd Pkts', 'Bwd Pkts/s', 'Down/Up Ratio', 'Fwd Act Data Pkts'], 'Adv sample 69': ['Bwd Header Len', 'SYN Flag Cnt', 'Idle Min', 'Subflow Bwd Pkts', 'Bwd Pkts/s', 'Fwd Pkt Len Max', 'Tot Bwd Pkts', 'Fwd Pkt Len Std', 'Fwd Seg Size Avg', 'Fwd IAT Std'], 'Adv sample 70': ['Bwd Header Len', 'SYN Flag Cnt', 'Bwd Pkts/s', 'FIN Flag Cnt', 'Fwd Pkt Len Std', 'Fwd Pkt Len Max', 'Fwd Pkt Len Mean', 'Fwd Seg Size Avg', 'Tot Bwd Pkts', 'Pkt Size Avg'], 'Adv sample 71': ['Fwd Pkt Len Std', 'Fwd Pkt Len Max', 'Fwd Pkt Len Mean', 'Pkt Len Std', 'Fwd Seg Size Avg', 'Pkt Len Mean', 'Pkt Len Max', 'Pkt Size Avg', 'Flow Byts/s', 'Tot Bwd Pkts'], 'Adv sample 72': ['Fwd Pkt Len Std', 'Fwd Pkt Len Max', 'Fwd Seg Size Avg', 'Fwd Pkt Len Mean', 'Pkt Len Std', 'Pkt Size Avg', 'Pkt Len Mean', 'Pkt Len Max', 'Flow Byts/s', 'Down/Up Ratio'], 'Adv sample 73': ['SYN Flag Cnt', 'Bwd Header Len', 'FIN Flag Cnt', 'Bwd Pkts/s', 'Fwd Pkt Len Mean', 'Fwd Pkt Len Std', 'Pkt Len Min', 'Fwd Act Data Pkts', 'TotLen Fwd Pkts', 'Fwd IAT Std'], 'Adv sample 74': ['Fwd Pkt Len Std', 'Fwd Pkt Len Max', 'Tot Fwd Pkts', 'Pkt Len Std', 'Bwd Pkts/s', 'Pkt Size Avg', 'Subflow Fwd Pkts', 'Fwd Pkt Len Mean', 'FIN Flag Cnt', 'Fwd Seg Size Avg'], 'Adv sample 75': ['Fwd Pkt Len Std', 'Init Fwd Win Byts', 'Pkt Len Std', 'Fwd Pkt Len Mean', 'Fwd Pkt Len Max', 'Down/Up Ratio', 'FIN Flag Cnt', 'Pkt Len Max', 'Pkt Size Avg', 'Bwd Pkts/s'], 'Adv sample 76': ['SYN Flag Cnt', 'Bwd Header Len', 'Bwd Pkts/s', 'Fwd Pkt Len Max', 'Fwd Seg Size Avg', 'Fwd Pkt Len Std', 'Init Fwd Win Byts', 'Fwd Pkt Len Min', 'Pkt Len Max', 'Fwd Pkt Len Mean'], 'Adv sample 77': ['SYN Flag Cnt', 'Fwd Pkt Len Std', 'Fwd Pkt Len Max', 'Bwd PSH Flags', 'Init Fwd Win Byts', 'Fwd Seg Size Avg', 'Bwd Header Len', 'Pkt Len Std', 'Pkt Len Mean', 'FIN Flag Cnt'], 'Adv sample 78': ['SYN Flag Cnt', 'Bwd Header Len', 'FIN Flag Cnt', 'Fwd Pkt Len Max', 'Bwd Pkts/s', 'Fwd Pkt Len Std', 'Pkt Len Min', 'Bwd Pkt Len Min', 'Fwd Seg Size Avg', 'Pkt Len Mean'], 'Adv sample 79': ['SYN Flag Cnt', 'Fwd Pkt Len Std', 'Fwd Pkt Len Max', 'Bwd PSH Flags', 'Init Fwd Win Byts', 'Bwd Pkts/s', 'Fwd Seg Size Avg', 'Bwd Header Len', 'Pkt Len Mean', 'Fwd Pkt Len Mean'], 'Adv sample 80': ['Pkt Len Std', 'Fwd Pkt Len Max', 'Fwd Pkt Len Mean', 'Pkt Len Max', 'Fwd Pkt Len Std', 'Fwd Seg Size Avg', 'FIN Flag Cnt', 'Pkt Len Mean', 'Flow Byts/s', 'Fwd IAT Min'], 'Adv sample 81': ['Bwd Header Len', 'SYN Flag Cnt', 'Fwd Pkt Len Std', 'Subflow Bwd Pkts', 'Pkt Len Min', 'Fwd Pkt Len Max', 'Fwd Pkt Len Min', 'Tot Bwd Pkts', 'Fwd Seg Size Avg', 'Idle Max'], 'Adv sample 82': ['Bwd Header Len', 'Bwd PSH Flags', 'Fwd Pkt Len Max', 'SYN Flag Cnt', 'Fwd Pkt Len Std', 'Bwd Pkts/s', 'Fwd Seg Size Avg', 'Pkt Len Min', 'Pkt Len Std', 'Fwd Act Data Pkts'], 'Adv sample 83': ['Fwd Pkt Len Std', 'Fwd Pkt Len Max', 'Bwd Pkts/s', 'Subflow Bwd Pkts', 'Fwd Pkt Len Mean', 'Pkt Len Std', 'Fwd Header Len', 'Fwd Seg Size Avg', 'Pkt Len Max', 'Tot Bwd Pkts'], 'Adv sample 84': ['Bwd Header Len', 'SYN Flag Cnt', 'Bwd Pkts/s', 'FIN Flag Cnt', 'Fwd Pkt Len Max', 'Fwd Pkt Len Mean', 'Fwd Pkt Len Std', 'Bwd Pkt Len Min', 'Subflow Bwd Pkts', 'Pkt Len Mean'], 'Adv sample 85': ['Fwd Pkt Len Std', 'Fwd Pkt Len Max', 'Subflow Fwd Pkts', 'Pkt Size Avg', 'Fwd Pkt Len Mean', 'Pkt Len Mean', 'Fwd Header Len', 'Tot Fwd Pkts', 'Bwd Pkts/s', 'Pkt Len Std'], 'Adv sample 86': ['SYN Flag Cnt', 'Bwd Header Len', 'Bwd Pkts/s', 'Fwd Pkt Len Std', 'Fwd Pkt Len Mean', 'Tot Bwd Pkts', 'Fwd Pkt Len Max', 'Fwd Act Data Pkts', 'TotLen Fwd Pkts', 'Fwd Seg Size Avg'], 'Adv sample 87': ['SYN Flag Cnt', 'Bwd Header Len', 'FIN Flag Cnt', 'Fwd Pkt Len Mean', 'Fwd Pkt Len Std', 'Fwd Pkt Len Max', 'Bwd Pkts/s', 'Fwd Seg Size Avg', 'Tot Bwd Pkts', 'Down/Up Ratio'], 'Adv sample 88': ['Bwd Header Len', 'SYN Flag Cnt', 'FIN Flag Cnt', 'Bwd Pkts/s', 'Fwd Pkt Len Std', 'Fwd Pkt Len Min', 'Fwd Pkt Len Max', 'Pkt Len Mean', 'Pkt Len Max', 'Fwd Pkt Len Mean'], 'Adv sample 89': ['SYN Flag Cnt', 'Bwd Header Len', 'FIN Flag Cnt', 'Fwd Pkt Len Mean', 'Fwd IAT Std', 'Fwd Pkt Len Std', 'Fwd Seg Size Avg', 'Bwd Pkts/s', 'TotLen Fwd Pkts', 'Down/Up Ratio'], 'Adv sample 90': ['SYN Flag Cnt', 'Bwd Header Len', 'FIN Flag Cnt', 'Tot Bwd Pkts', 'Fwd Pkt Len Mean', 'Fwd Act Data Pkts', 'Fwd Seg Size Avg', 'Fwd Pkt Len Max', 'Fwd Pkt Len Std', 'Subflow Fwd Byts'], 'Adv sample 91': ['Fwd Pkt Len Std', 'Fwd Pkt Len Max', 'Tot Fwd Pkts', 'Pkt Size Avg', 'Fwd Pkt Len Mean', 'Fwd Pkt Len Min', 'Pkt Len Max', 'Pkt Len Mean', 'Pkt Len Std', 'Subflow Fwd Pkts'], 'Adv sample 92': ['Init Fwd Win Byts', 'Fwd Pkt Len Std', 'Down/Up Ratio', 'Fwd Pkt Len Max', 'Pkt Len Std', 'Bwd Pkts/s', 'Fwd Pkt Len Mean', 'FIN Flag Cnt', 'Bwd Pkt Len Min', 'Pkt Size Avg'], 'Adv sample 93': ['SYN Flag Cnt', 'Fwd Pkt Len Std', 'Bwd PSH Flags', 'Fwd Pkt Len Max', 'Init Fwd Win Byts', 'Bwd Header Len', 'Pkt Len Std', 'Pkt Size Avg', 'Bwd Pkts/s', 'Fwd Seg Size Avg'], 'Adv sample 94': ['Bwd Header Len', 'SYN Flag Cnt', 'Fwd Pkt Len Std', 'Bwd Pkts/s', 'Idle Min', 'Flow Pkts/s', 'Tot Bwd Pkts', 'Fwd Pkt Len Max', 'Tot Fwd Pkts', 'Fwd Pkt Len Mean'], 'Adv sample 95': ['SYN Flag Cnt', 'Bwd Header Len', 'FIN Flag Cnt', 'Bwd Pkts/s', 'Flow Pkts/s', 'Fwd Pkt Len Std', 'Subflow Bwd Pkts', 'Fwd IAT Tot', 'Pkt Len Std', 'Fwd Act Data Pkts'], 'Adv sample 96': ['Bwd Header Len', 'SYN Flag Cnt', 'FIN Flag Cnt', 'Fwd Pkt Len Std', 'Bwd Pkts/s', 'Fwd Seg Size Avg', 'Fwd Pkt Len Max', 'Bwd Pkt Len Min', 'Pkt Len Max', 'Pkt Size Avg'], 'Adv sample 97': ['Bwd Header Len', 'SYN Flag Cnt', 'FIN Flag Cnt', 'Bwd Pkts/s', 'Fwd Pkt Len Std', 'Fwd Pkt Len Mean', 'Fwd Pkt Len Max', 'Fwd Pkt Len Min', 'Pkt Size Avg', 'Pkt Len Mean'], 'Adv sample 98': ['Bwd Header Len', 'SYN Flag Cnt', 'Fwd Pkt Len Std', 'Fwd Pkt Len Max', 'Tot Bwd Pkts', 'Fwd Pkt Len Mean', 'Subflow Bwd Pkts', 'Fwd Seg Size Avg', 'Fwd Pkt Len Min', 'Pkt Len Std'], 'Adv sample 99': ['Bwd Header Len', 'Fwd Pkt Len Std', 'SYN Flag Cnt', 'Fwd Pkt Len Max', 'Tot Bwd Pkts', 'Subflow Bwd Pkts', 'URG Flag Cnt', 'Fwd IAT Mean', 'Fwd IAT Tot', 'Down/Up Ratio'], 'Adv sample 100': ['Fwd Pkt Len Std', 'Fwd Pkt Len Max', 'Pkt Len Max', 'Fwd Seg Size Avg', 'Fwd Pkt Len Mean', 'ACK Flag Cnt', 'Fwd Header Len', 'Tot Fwd Pkts', 'Subflow Fwd Pkts', 'Bwd Pkts/s'], 'Adv sample 101': ['SYN Flag Cnt', 'FIN Flag Cnt', 'Bwd Header Len', 'Bwd Pkts/s', 'Fwd Pkt Len Max', 'Bwd Pkt Len Min', 'Pkt Size Avg', 'Fwd Pkt Len Std', 'TotLen Fwd Pkts', 'Down/Up Ratio'], 'Adv sample 102': ['Fwd Pkt Len Std', 'SYN Flag Cnt', 'Fwd Pkt Len Max', 'Down/Up Ratio', 'Bwd Pkts/s', 'Pkt Len Max', 'FIN Flag Cnt', 'Pkt Len Std', 'Subflow Bwd Pkts', 'Pkt Len Min'], 'Adv sample 103': ['SYN Flag Cnt', 'Bwd Header Len', 'FIN Flag Cnt', 'Fwd Pkt Len Std', 'Bwd Pkt Len Min', 'Fwd Pkt Len Max', 'Fwd Pkt Len Mean', 'Bwd Pkts/s', 'Tot Bwd Pkts', 'TotLen Fwd Pkts'], 'Adv sample 104': ['Fwd Pkt Len Std', 'Fwd Pkt Len Max', 'ACK Flag Cnt', 'SYN Flag Cnt', 'Fwd Pkt Len Mean', 'Pkt Len Std', 'Down/Up Ratio', 'Pkt Len Max', 'Fwd Seg Size Avg', 'Fwd Pkt Len Min'], 'Adv sample 105': ['Fwd Pkt Len Std', 'Fwd Pkt Len Mean', 'Fwd Pkt Len Max', 'Fwd Seg Size Avg', 'Pkt Len Max', 'Pkt Len Mean', 'Pkt Len Std', 'ACK Flag Cnt', 'Active Std', 'Down/Up Ratio'], 'Adv sample 106': ['Fwd Pkt Len Std', 'Fwd IAT Tot', 'Fwd Pkt Len Max', 'Pkt Len Max', 'Pkt Len Std', 'Flow Duration', 'Bwd Pkts/s', 'Bwd IAT Std', 'Fwd Pkt Len Mean', 'Fwd Header Len'], 'Adv sample 107': ['SYN Flag Cnt', 'Bwd Header Len', 'FIN Flag Cnt', 'TotLen Fwd Pkts', 'Fwd Seg Size Avg', 'Fwd Pkt Len Std', 'Pkt Len Min', 'Down/Up Ratio', 'Bwd Pkts/s', 'ACK Flag Cnt'], 'Adv sample 108': ['Fwd Pkt Len Std', 'ACK Flag Cnt', 'Fwd Pkt Len Max', 'SYN Flag Cnt', 'Down/Up Ratio', 'Fwd Pkt Len Mean', 'Pkt Len Max', 'Fwd Pkt Len Min', 'Pkt Size Avg', 'Pkt Len Std'], 'Adv sample 109': ['SYN Flag Cnt', 'Fwd Pkt Len Max', 'Fwd Pkt Len Std', 'Fwd Header Len', 'Fwd Seg Size Avg', 'Fwd Pkt Len Mean', 'Bwd Pkts/s', 'Pkt Len Max', 'Pkt Len Std', 'Tot Fwd Pkts'], 'Adv sample 110': ['Fwd IAT Std', 'SYN Flag Cnt', 'Down/Up Ratio', 'Fwd IAT Tot', 'Fwd Pkt Len Max', 'Fwd Pkt Len Std', 'Fwd Pkt Len Min', 'Fwd IAT Max', 'Pkt Len Max', 'Pkt Len Min'], 'Adv sample 111': ['SYN Flag Cnt', 'Bwd Header Len', 'Bwd Pkts/s', 'FIN Flag Cnt', 'Fwd Pkt Len Std', 'Fwd Pkt Len Max', 'Pkt Len Min', 'Pkt Len Mean', 'Fwd IAT Std', 'Bwd Pkt Len Min'], 'Adv sample 112': ['SYN Flag Cnt', 'Bwd Header Len', 'Bwd Pkts/s', 'Fwd Pkt Len Max', 'Fwd Pkt Len Std', 'Fwd Pkt Len Mean', 'Pkt Len Min', 'FIN Flag Cnt', 'Fwd Seg Size Avg', 'TotLen Fwd Pkts'], 'Adv sample 113': ['Bwd Header Len', 'SYN Flag Cnt', 'Tot Bwd Pkts', 'Fwd Seg Size Avg', 'Pkt Len Min', 'Subflow Bwd Pkts', 'FIN Flag Cnt', 'Fwd Pkt Len Max', 'Fwd Pkt Len Std', 'Bwd Pkt Len Min'], 'Adv sample 114': ['SYN Flag Cnt', 'Bwd Header Len', 'Bwd Pkts/s', 'Init Fwd Win Byts', 'FIN Flag Cnt', 'Fwd Pkt Len Std', 'Down/Up Ratio', 'Pkt Len Std', 'Fwd Pkt Len Max', 'Flow Pkts/s'], 'Adv sample 115': ['Bwd Header Len', 'SYN Flag Cnt', 'FIN Flag Cnt', 'Bwd Pkts/s', 'Fwd Pkt Len Max', 'Fwd Pkt Len Std', 'Fwd Pkt Len Min', 'Pkt Len Min', 'Pkt Len Max', 'Bwd Pkt Len Min'], 'Adv sample 116': ['SYN Flag Cnt', 'Bwd Header Len', 'Bwd Pkts/s', 'Fwd Pkt Len Std', 'Fwd Pkt Len Max', 'FIN Flag Cnt', 'Fwd Pkt Len Mean', 'Fwd Seg Size Avg', 'Subflow Bwd Pkts', 'Tot Bwd Pkts'], 'Adv sample 117': ['SYN Flag Cnt', 'Bwd Header Len', 'FIN Flag Cnt', 'Bwd Pkts/s', 'Down/Up Ratio', 'Fwd Pkt Len Std', 'Fwd Pkt Len Max', 'Fwd Pkt Len Mean', 'Subflow Bwd Pkts', 'Pkt Len Min'], 'Adv sample 118': ['Bwd Header Len', 'SYN Flag Cnt', 'Subflow Bwd Pkts', 'Tot Bwd Pkts', 'Fwd Seg Size Avg', 'Pkt Len Min', 'Bwd Pkt Len Min', 'FIN Flag Cnt', 'Fwd IAT Std', 'Flow IAT Max'], 'Adv sample 119': ['SYN Flag Cnt', 'Bwd Header Len', 'Bwd Pkts/s', 'Fwd Pkt Len Std', 'Fwd Pkt Len Max', 'Fwd Pkt Len Mean', 'Fwd Seg Size Avg', 'FIN Flag Cnt', 'Pkt Len Max', 'Pkt Len Min'], 'Adv sample 120': ['Bwd Header Len', 'SYN Flag Cnt', 'Tot Bwd Pkts', 'Fwd Pkt Len Mean', 'Fwd Pkt Len Std', 'Pkt Len Min', 'Fwd Seg Size Avg', 'Bwd Pkt Len Min', 'Subflow Bwd Pkts', 'Fwd Pkt Len Max'], 'Adv sample 121': ['SYN Flag Cnt', 'Bwd Header Len', 'Bwd Pkts/s', 'Fwd Pkt Len Std', 'Fwd Pkt Len Max', 'Fwd Seg Size Avg', 'FIN Flag Cnt', 'Bwd IAT Std', 'Init Fwd Win Byts', 'Fwd Pkt Len Min'], 'Adv sample 122': ['Bwd Header Len', 'SYN Flag Cnt', 'Subflow Bwd Pkts', 'Tot Bwd Pkts', 'Fwd Seg Size Avg', 'Pkt Len Min', 'Bwd Pkt Len Min', 'Pkt Len Std', 'Fwd Pkt Len Std', 'Fwd Pkt Len Mean'], 'Adv sample 123': ['SYN Flag Cnt', 'Fwd Pkt Len Std', 'Down/Up Ratio', 'Fwd Pkt Len Max', 'FIN Flag Cnt', 'Fwd Pkt Len Mean', 'Fwd Seg Size Avg', 'Pkt Len Std', 'Bwd Pkts/s', 'Pkt Size Avg'], 'Adv sample 124': ['SYN Flag Cnt', 'Bwd Header Len', 'FIN Flag Cnt', 'Fwd Pkt Len Max', 'Bwd Pkts/s', 'Subflow Bwd Pkts', 'Tot Bwd Pkts', 'Fwd Act Data Pkts', 'Pkt Len Min', 'TotLen Fwd Pkts'], 'Adv sample 125': ['Bwd Header Len', 'SYN Flag Cnt', 'Tot Bwd Pkts', 'Subflow Bwd Pkts', 'Fwd Seg Size Avg', 'Pkt Len Min', 'FIN Flag Cnt', 'Bwd Pkt Len Min', 'Fwd IAT Std', 'URG Flag Cnt'], 'Adv sample 126': ['SYN Flag Cnt', 'Bwd Header Len', 'ACK Flag Cnt', 'FIN Flag Cnt', 'Fwd Seg Size Avg', 'Down/Up Ratio', 'Pkt Len Min', 'Tot Bwd Pkts', 'Init Fwd Win Byts', 'Flow Pkts/s'], 'Adv sample 127': ['Bwd Header Len', 'SYN Flag Cnt', 'Idle Min', 'Fwd Pkt Len Std', 'Bwd Pkts/s', 'Subflow Bwd Pkts', 'Fwd Seg Size Avg', 'Tot Bwd Pkts', 'Pkt Len Min', 'Fwd Pkt Len Mean'], 'Adv sample 128': ['Bwd Header Len', 'SYN Flag Cnt', 'Fwd Pkt Len Max', 'Subflow Bwd Pkts', 'Fwd Pkt Len Std', 'Init Fwd Win Byts', 'Fwd Seg Size Avg', 'Fwd Act Data Pkts', 'Pkt Len Max', 'Down/Up Ratio'], 'Adv sample 129': ['Fwd Pkt Len Std', 'Bwd Header Len', 'Fwd Pkt Len Max', 'Pkt Size Avg', 'Fwd IAT Max', 'Tot Fwd Pkts', 'SYN Flag Cnt', 'Fwd Header Len', 'Pkt Len Min', 'Subflow Fwd Pkts'], 'Adv sample 130': ['Bwd Header Len', 'SYN Flag Cnt', 'FIN Flag Cnt', 'Bwd Pkts/s', 'Fwd Pkt Len Std', 'Fwd Pkt Len Mean', 'Fwd Pkt Len Min', 'Fwd Pkt Len Max', 'Pkt Size Avg', 'Pkt Len Mean'], 'Adv sample 131': ['SYN Flag Cnt', 'Fwd Pkt Len Std', 'Fwd Pkt Len Max', 'Bwd Header Len', 'Fwd Pkt Len Mean', 'Pkt Size Avg', 'Down/Up Ratio', 'Fwd Seg Size Avg', 'Pkt Len Min', 'Pkt Len Std'], 'Adv sample 132': ['SYN Flag Cnt', 'Bwd Header Len', 'FIN Flag Cnt', 'Bwd Pkts/s', 'Fwd Act Data Pkts', 'Down/Up Ratio', 'TotLen Fwd Pkts', 'Fwd Pkt Len Max', 'Fwd Pkt Len Std', 'Fwd Seg Size Avg'], 'Adv sample 133': ['SYN Flag Cnt', 'Fwd Pkt Len Std', 'Fwd Pkt Len Max', 'Down/Up Ratio', 'FIN Flag Cnt', 'Pkt Len Max', 'Fwd Pkt Len Mean', 'Pkt Len Mean', 'Pkt Len Min', 'Fwd Act Data Pkts'], 'Adv sample 134': ['Bwd Header Len', 'SYN Flag Cnt', 'Fwd Pkt Len Std', 'Fwd Pkt Len Max', 'Subflow Bwd Pkts', 'Fwd Pkt Len Mean', 'Tot Bwd Pkts', 'Pkt Size Avg', 'Fwd Seg Size Avg', 'Active Mean'], 'Adv sample 135': ['SYN Flag Cnt', 'Bwd Header Len', 'FIN Flag Cnt', 'Pkt Len Min', 'Tot Bwd Pkts', 'Fwd Pkt Len Std', 'Fwd Pkt Len Max', 'Fwd IAT Std', 'Bwd Pkts/s', 'Fwd Pkt Len Mean'], 'Adv sample 136': ['Fwd Pkt Len Std', 'Fwd Pkt Len Max', 'Pkt Size Avg', 'Fwd Header Len', 'Subflow Fwd Pkts', 'Fwd Pkt Len Mean', 'Fwd Seg Size Avg', 'Tot Fwd Pkts', 'Bwd Pkts/s', 'Pkt Len Max'], 'Adv sample 137': ['Bwd Header Len', 'SYN Flag Cnt', 'Bwd Pkts/s', 'Fwd Pkt Len Std', 'Pkt Size Avg', 'FIN Flag Cnt', 'Fwd Seg Size Avg', 'Down/Up Ratio', 'Fwd Pkt Len Mean', 'Bwd Pkt Len Min'], 'Adv sample 138': ['Fwd Pkt Len Std', 'Fwd Pkt Len Max', 'Bwd Header Len', 'SYN Flag Cnt', 'Subflow Fwd Pkts', 'Subflow Bwd Pkts', 'Fwd Act Data Pkts', 'Tot Bwd Pkts', 'Fwd Pkt Len Mean', 'Pkt Len Min'], 'Adv sample 139': ['Fwd Pkt Len Std', 'Fwd Pkt Len Max', 'Pkt Len Std', 'Fwd Pkt Len Mean', 'Pkt Len Max', 'Pkt Size Avg', 'Bwd Pkts/s', 'Pkt Len Mean', 'Fwd IAT Tot', 'Tot Bwd Pkts'], 'Adv sample 140': ['Fwd Pkt Len Max', 'Fwd Pkt Len Std', 'Pkt Size Avg', 'Fwd Pkt Len Mean', 'Pkt Len Mean', 'Fwd Seg Size Avg', 'Pkt Len Max', 'Pkt Len Std', 'Flow Byts/s', 'Down/Up Ratio'], 'Adv sample 141': ['Bwd Header Len', 'SYN Flag Cnt', 'Bwd Pkts/s', 'FIN Flag Cnt', 'Fwd Pkt Len Std', 'Fwd Pkt Len Max', 'Fwd Pkt Len Min', 'Pkt Len Std', 'Fwd Pkt Len Mean', 'Pkt Size Avg'], 'Adv sample 142': ['SYN Flag Cnt', 'FIN Flag Cnt', 'Bwd Header Len', 'Bwd Pkts/s', 'Fwd Pkt Len Max', 'Fwd Pkt Len Std', 'Fwd IAT Std', 'Fwd Seg Size Avg', 'Tot Bwd Pkts', 'Bwd Pkt Len Min'], 'Adv sample 143': ['Bwd Header Len', 'SYN Flag Cnt', 'Tot Bwd Pkts', 'Subflow Bwd Pkts', 'Fwd Seg Size Avg', 'FIN Flag Cnt', 'Pkt Len Min', 'Bwd Pkt Len Min', 'Fwd IAT Std', 'Bwd IAT Std'], 'Adv sample 144': ['Fwd Pkt Len Std', 'Fwd Pkt Len Max', 'Pkt Size Avg', 'Fwd Pkt Len Mean', 'Tot Bwd Pkts', 'Bwd Pkts/s', 'Pkt Len Std', 'Pkt Len Mean', 'Fwd Seg Size Avg', 'Subflow Fwd Pkts'], 'Adv sample 145': ['SYN Flag Cnt', 'Bwd Header Len', 'Bwd Pkts/s', 'Fwd Pkt Len Std', 'Tot Bwd Pkts', 'FIN Flag Cnt', 'Fwd Seg Size Avg', 'Fwd Pkt Len Mean', 'Fwd Pkt Len Max', 'Subflow Bwd Pkts'], 'Adv sample 146': ['Bwd Header Len', 'SYN Flag Cnt', 'Bwd Pkts/s', 'Down/Up Ratio', 'Fwd Pkt Len Std', 'FIN Flag Cnt', 'Fwd Pkt Len Mean', 'Fwd Pkt Len Max', 'Pkt Len Min', 'Pkt Len Max'], 'Adv sample 147': ['Fwd Pkt Len Std', 'Fwd Pkt Len Max', 'Pkt Size Avg', 'Subflow Bwd Pkts', 'Pkt Len Std', 'FIN Flag Cnt', 'Fwd Pkt Len Min', 'Tot Bwd Pkts', 'Fwd Pkt Len Mean', 'Subflow Fwd Pkts'], 'Adv sample 148': ['SYN Flag Cnt', 'Bwd Header Len', 'FIN Flag Cnt', 'ACK Flag Cnt', 'Fwd Pkt Len Mean', 'Fwd Seg Size Avg', 'Down/Up Ratio', 'Init Fwd Win Byts', 'Flow Pkts/s', 'Tot Bwd Pkts'], 'Adv sample 149': ['SYN Flag Cnt', 'Bwd Header Len', 'FIN Flag Cnt', 'Bwd Pkts/s', 'Fwd Pkt Len Std', 'Fwd Pkt Len Max', 'Tot Bwd Pkts', 'Subflow Bwd Pkts', 'Down/Up Ratio', 'Fwd Pkt Len Mean'], 'Adv sample 150': ['Fwd Pkt Len Std', 'Init Fwd Win Byts', 'Fwd Pkt Len Max', 'Fwd Pkt Len Mean', 'Pkt Len Std', 'Fwd Pkt Len Min', 'Tot Bwd Pkts', 'Down/Up Ratio', 'Pkt Len Max', 'Flow Byts/s'], 'Adv sample 151': ['SYN Flag Cnt', 'Fwd Pkt Len Std', 'Bwd PSH Flags', 'Fwd Pkt Len Max', 'Init Fwd Win Byts', 'Pkt Len Std', 'Fwd Pkt Len Mean', 'Bwd Header Len', 'Pkt Len Min', 'Pkt Len Mean'], 'Adv sample 152': ['SYN Flag Cnt', 'Fwd Pkt Len Max', 'Fwd Pkt Len Std', 'Fwd Header Len', 'Pkt Len Std', 'Fwd Pkt Len Mean', 'Bwd Pkt Len Min', 'Pkt Len Min', 'FIN Flag Cnt', 'Bwd Pkts/s'], 'Adv sample 153': ['Bwd Header Len', 'SYN Flag Cnt', 'Fwd Pkt Len Std', 'Tot Bwd Pkts', 'Subflow Bwd Pkts', 'Fwd Pkt Len Max', 'FIN Flag Cnt', 'Fwd Pkt Len Mean', 'Pkt Len Min', 'Fwd Seg Size Avg'], 'Adv sample 154': ['Init Fwd Win Byts', 'Fwd Pkt Len Std', 'Fwd Pkt Len Max', 'Bwd Pkts/s', 'Fwd Pkt Len Mean', 'Down/Up Ratio', 'Pkt Len Min', 'Pkt Size Avg', 'Pkt Len Std', 'Pkt Len Max'], 'Adv sample 155': ['Bwd Header Len', 'SYN Flag Cnt', 'Fwd Pkt Len Std', 'Fwd Seg Size Avg', 'Fwd Pkt Len Max', 'Tot Bwd Pkts', 'Subflow Bwd Pkts', 'Bwd Pkt Len Min', 'Fwd Pkt Len Mean', 'Pkt Len Min'], 'Adv sample 156': ['Fwd Pkt Len Std', 'Fwd Pkt Len Max', 'Pkt Size Avg', 'Pkt Len Std', 'Fwd Seg Size Avg', 'Fwd Header Len', 'Tot Bwd Pkts', 'Bwd Pkts/s', 'Fwd Pkt Len Mean', 'Pkt Len Max'], 'Adv sample 157': ['Bwd Header Len', 'SYN Flag Cnt', 'Tot Bwd Pkts', 'Subflow Bwd Pkts', 'Fwd Seg Size Avg', 'Pkt Len Min', 'FIN Flag Cnt', 'Fwd Pkt Len Mean', 'Bwd Pkt Len Min', 'Fwd Pkt Len Min'], 'Adv sample 158': ['Bwd Header Len', 'SYN Flag Cnt', 'Subflow Bwd Pkts', 'Fwd Pkt Len Std', 'Tot Bwd Pkts', 'Fwd Pkt Len Max', 'Fwd Pkt Len Mean', 'FIN Flag Cnt', 'Fwd Pkt Len Min', 'Bwd Pkt Len Min'], 'Adv sample 159': ['Bwd Header Len', 'SYN Flag Cnt', 'Bwd Pkts/s', 'FIN Flag Cnt', 'Fwd Pkt Len Std', 'Fwd Pkt Len Mean', 'Fwd Pkt Len Max', 'Fwd Pkt Len Min', 'Pkt Len Min', 'Subflow Bwd Pkts'], 'Adv sample 160': ['Fwd Pkt Len Std', 'Fwd Pkt Len Max', 'Fwd Header Len', 'Fwd Pkt Len Mean', 'Pkt Size Avg', 'Tot Fwd Pkts', 'Bwd Pkts/s', 'Subflow Fwd Pkts', 'Pkt Len Min', 'Fwd Seg Size Avg'], 'Adv sample 161': ['SYN Flag Cnt', 'FIN Flag Cnt', 'Bwd Header Len', 'Bwd Pkts/s', 'Pkt Size Avg', 'Pkt Len Mean', 'Tot Bwd Pkts', 'Subflow Bwd Pkts', 'Fwd Pkt Len Std', 'Pkt Len Min'], 'Adv sample 162': ['Bwd Header Len', 'SYN Flag Cnt', 'Fwd Pkt Len Max', 'Fwd Pkt Len Std', 'Fwd Pkt Len Mean', 'Flow Byts/s', 'Fwd Header Len', 'Fwd Seg Size Avg', 'Fwd IAT Mean', 'Fwd Act Data Pkts'], 'Adv sample 163': ['Fwd Pkt Len Std', 'Fwd Pkt Len Mean', 'Fwd Pkt Len Max', 'Pkt Size Avg', 'Pkt Len Min', 'Fwd Pkt Len Min', 'Pkt Len Max', 'Subflow Fwd Pkts', 'FIN Flag Cnt', 'Fwd Seg Size Avg'], 'Adv sample 164': ['SYN Flag Cnt', 'Fwd Pkt Len Std', 'Fwd Pkt Len Max', 'Bwd PSH Flags', 'Init Fwd Win Byts', 'Bwd Header Len', 'Fwd Pkt Len Mean', 'Down/Up Ratio', 'Pkt Len Std', 'Fwd Seg Size Avg'], 'Adv sample 165': ['Bwd Header Len', 'SYN Flag Cnt', 'FIN Flag Cnt', 'Bwd Pkts/s', 'Fwd Pkt Len Std', 'Fwd Pkt Len Mean', 'Fwd Pkt Len Max', 'Tot Bwd Pkts', 'Fwd Pkt Len Min', 'Pkt Len Mean'], 'Adv sample 166': ['SYN Flag Cnt', 'Bwd Header Len', 'FIN Flag Cnt', 'Fwd Pkt Len Std', 'Bwd Pkts/s', 'Tot Bwd Pkts', 'Fwd Pkt Len Max', 'Subflow Bwd Pkts', 'PSH Flag Cnt', 'Fwd Pkt Len Mean'], 'Adv sample 167': ['Bwd Header Len', 'SYN Flag Cnt', 'Tot Bwd Pkts', 'Subflow Bwd Pkts', 'Fwd Seg Size Avg', 'Pkt Len Min', 'FIN Flag Cnt', 'Fwd Pkt Len Min', 'Bwd Pkt Len Min', 'Bwd IAT Std'], 'Adv sample 168': ['Fwd Pkt Len Std', 'Fwd Pkt Len Max', 'Bwd Pkts/s', 'Fwd Pkt Len Mean', 'Tot Fwd Pkts', 'Subflow Fwd Pkts', 'Pkt Len Std', 'Pkt Len Max', 'Fwd Seg Size Avg', 'Fwd Header Len'], 'Adv sample 169': ['SYN Flag Cnt', 'FIN Flag Cnt', 'Fwd Pkt Len Std', 'Down/Up Ratio', 'Bwd Pkts/s', 'Fwd Pkt Len Min', 'Fwd Seg Size Avg', 'Pkt Len Min', 'Fwd Pkt Len Max', 'Fwd Pkt Len Mean'], 'Adv sample 170': ['Fwd Pkt Len Std', 'Fwd Pkt Len Max', 'Pkt Len Max', 'Pkt Len Mean', 'Pkt Len Std', 'Tot Bwd Pkts', 'Bwd Pkts/s', 'Pkt Len Min', 'Pkt Size Avg', 'FIN Flag Cnt'], 'Adv sample 171': ['Bwd Header Len', 'Idle Min', 'SYN Flag Cnt', 'Fwd Pkt Len Max', 'Fwd Pkt Len Std', 'Pkt Len Min', 'Bwd Pkt Len Max', 'Bwd Pkts/s', 'Subflow Bwd Pkts', 'Fwd IAT Std'], 'Adv sample 172': ['ACK Flag Cnt', 'Bwd Header Len', 'SYN Flag Cnt', 'Fwd Pkt Len Max', 'Init Fwd Win Byts', 'Fwd Pkt Len Std', 'Down/Up Ratio', 'Pkt Size Avg', 'Bwd Pkts/s', 'Tot Fwd Pkts'], 'Adv sample 173': ['Bwd Header Len', 'SYN Flag Cnt', 'Tot Bwd Pkts', 'Subflow Bwd Pkts', 'Fwd Seg Size Avg', 'Pkt Len Min', 'Fwd Pkt Len Min', 'Bwd Pkt Len Min', 'FIN Flag Cnt', 'Fwd PSH Flags'], 'Adv sample 174': ['Init Fwd Win Byts', 'Fwd Pkt Len Std', 'Fwd Pkt Len Max', 'Down/Up Ratio', 'Pkt Len Min', 'FIN Flag Cnt', 'Fwd Seg Size Avg', 'Fwd Pkt Len Mean', 'Pkt Size Avg', 'Bwd Pkt Len Min'], 'Adv sample 175': ['SYN Flag Cnt', 'FIN Flag Cnt', 'Bwd Header Len', 'Bwd Pkts/s', 'Fwd Pkt Len Mean', 'Subflow Bwd Pkts', 'Fwd Seg Size Avg', 'Fwd Pkt Len Max', 'Down/Up Ratio', 'Init Fwd Win Byts'], 'Adv sample 176': ['Fwd Pkt Len Std', 'Fwd Pkt Len Max', 'ACK Flag Cnt', 'Pkt Len Std', 'Pkt Size Avg', 'Fwd Pkt Len Mean', 'SYN Flag Cnt', 'Down/Up Ratio', 'Fwd Seg Size Avg', 'Pkt Len Max'], 'Adv sample 177': ['Fwd Pkt Len Std', 'Fwd Pkt Len Max', 'Fwd Pkt Len Mean', 'Pkt Len Min', 'Fwd Header Len', 'Tot Fwd Pkts', 'Bwd Pkts/s', 'Pkt Size Avg', 'Pkt Len Max', 'Fwd Seg Size Avg'], 'Adv sample 178': ['Fwd Pkt Len Std', 'SYN Flag Cnt', 'Down/Up Ratio', 'Fwd Pkt Len Max', 'Fwd Pkt Len Mean', 'FIN Flag Cnt', 'Fwd Pkt Len Min', 'Pkt Len Mean', 'Pkt Len Min', 'Pkt Len Std'], 'Adv sample 179': ['Bwd Header Len', 'SYN Flag Cnt', 'Bwd Pkts/s', 'FIN Flag Cnt', 'Pkt Size Avg', 'Fwd Pkt Len Std', 'Fwd Pkt Len Max', 'Down/Up Ratio', 'Tot Bwd Pkts', 'Pkt Len Std'], 'Adv sample 180': ['Fwd Pkt Len Std', 'Fwd Pkt Len Max', 'Pkt Len Std', 'Pkt Len Mean', 'Pkt Size Avg', 'Bwd Pkts/s', 'Pkt Len Max', 'Tot Bwd Pkts', 'Subflow Fwd Pkts', 'Pkt Len Min'], 'Adv sample 181': ['Init Fwd Win Byts', 'Fwd Pkt Len Std', 'Fwd Pkt Len Max', 'Down/Up Ratio', 'Pkt Len Std', 'FIN Flag Cnt', 'Pkt Len Min', 'Bwd Pkts/s', 'Fwd Pkt Len Mean', 'Tot Bwd Pkts'], 'Adv sample 182': ['Bwd Header Len', 'Fwd Pkt Len Std', 'Pkt Len Max', 'Fwd Pkt Len Max', 'SYN Flag Cnt', 'Init Fwd Win Byts', 'Subflow Bwd Pkts', 'Fwd Act Data Pkts', 'Fwd Seg Size Avg', 'Fwd Header Len'], 'Adv sample 183': ['SYN Flag Cnt', 'Bwd Header Len', 'FIN Flag Cnt', 'Fwd Pkt Len Std', 'Fwd Seg Size Avg', 'Tot Bwd Pkts', 'Bwd Pkts/s', 'Subflow Bwd Pkts', 'TotLen Fwd Pkts', 'Fwd Act Data Pkts'], 'Adv sample 184': ['Bwd Header Len', 'SYN Flag Cnt', 'Tot Bwd Pkts', 'Subflow Bwd Pkts', 'Fwd Seg Size Avg', 'Pkt Len Min', 'Fwd Pkt Len Min', 'Bwd Pkt Len Min', 'Fwd IAT Std', 'URG Flag Cnt'], 'Adv sample 185': ['SYN Flag Cnt', 'Bwd Header Len', 'Bwd Pkts/s', 'FIN Flag Cnt', 'Fwd Pkt Len Std', 'Init Fwd Win Byts', 'Fwd Pkt Len Max', 'Down/Up Ratio', 'Fwd Pkt Len Min', 'Tot Bwd Pkts'], 'Adv sample 186': ['Bwd Header Len', 'SYN Flag Cnt', 'Fwd Pkt Len Std', 'Fwd Pkt Len Min', 'Subflow Bwd Pkts', 'Tot Bwd Pkts', 'Fwd Pkt Len Max', 'Pkt Len Min', 'Fwd Seg Size Avg', 'FIN Flag Cnt'], 'Adv sample 187': ['SYN Flag Cnt', 'Bwd Header Len', 'Bwd Pkts/s', 'Fwd Pkt Len Std', 'Fwd Pkt Len Max', 'Fwd Pkt Len Mean', 'FIN Flag Cnt', 'Fwd Pkt Len Min', 'Pkt Size Avg', 'Pkt Len Min'], 'Adv sample 188': ['Bwd Header Len', 'SYN Flag Cnt', 'Tot Bwd Pkts', 'Subflow Bwd Pkts', 'Fwd Seg Size Avg', 'Pkt Len Min', 'FIN Flag Cnt', 'Fwd Pkt Len Min', 'Bwd Pkt Len Min', 'URG Flag Cnt'], 'Adv sample 189': ['SYN Flag Cnt', 'FIN Flag Cnt', 'Bwd Header Len', 'Bwd Pkts/s', 'Fwd Act Data Pkts', 'Fwd Pkt Len Std', 'TotLen Fwd Pkts', 'Fwd Pkt Len Max', 'Subflow Bwd Pkts', 'Fwd Pkt Len Mean'], 'Adv sample 190': ['SYN Flag Cnt', 'Bwd Header Len', 'FIN Flag Cnt', 'Fwd Seg Size Avg', 'Fwd Act Data Pkts', 'Fwd Pkt Len Std', 'Fwd Pkt Len Mean', 'Fwd Pkt Len Max', 'Bwd Pkt Len Min', 'Fwd IAT Std'], 'Adv sample 191': ['SYN Flag Cnt', 'Bwd Header Len', 'Bwd Pkts/s', 'Fwd Pkt Len Std', 'Fwd Pkt Len Max', 'FIN Flag Cnt', 'Pkt Len Min', 'Pkt Len Max', 'Pkt Size Avg', 'Tot Bwd Pkts'], 'Adv sample 192': ['SYN Flag Cnt', 'Fwd Pkt Len Std', 'Down/Up Ratio', 'Fwd Pkt Len Max', 'Fwd Pkt Len Mean', 'FIN Flag Cnt', 'Bwd Pkts/s', 'Fwd Seg Size Avg', 'Pkt Size Avg', 'Pkt Len Std'], 'Adv sample 193': ['SYN Flag Cnt', 'Fwd Pkt Len Std', 'Fwd Pkt Len Max', 'Bwd PSH Flags', 'Bwd Header Len', 'Fwd Pkt Len Mean', 'Pkt Len Mean', 'Fwd Seg Size Avg', 'Pkt Len Max', 'Pkt Len Std'], 'Adv sample 194': ['Fwd Pkt Len Std', 'Fwd Pkt Len Max', 'Pkt Size Avg', 'Pkt Len Max', 'Tot Bwd Pkts', 'Bwd Pkts/s', 'Subflow Fwd Pkts', 'Fwd Pkt Len Mean', 'Fwd Header Len', 'Pkt Len Min'], 'Adv sample 195': ['SYN Flag Cnt', 'Fwd Pkt Len Std', 'Down/Up Ratio', 'Fwd Pkt Len Max', 'Bwd Pkts/s', 'Pkt Size Avg', 'Pkt Len Mean', 'Fwd Pkt Len Mean', 'Tot Fwd Pkts', 'Bwd Header Len'], 'Adv sample 196': ['Bwd Header Len', 'SYN Flag Cnt', 'Bwd Pkts/s', 'Fwd Pkt Len Std', 'FIN Flag Cnt', 'Down/Up Ratio', 'Fwd Pkt Len Mean', 'Fwd Pkt Len Min', 'Pkt Size Avg', 'Fwd Pkt Len Max'], 'Adv sample 197': ['Bwd Header Len', 'SYN Flag Cnt', 'FIN Flag Cnt', 'Fwd Pkt Len Std', 'Bwd Pkts/s', 'Fwd Pkt Len Mean', 'Fwd Pkt Len Max', 'Pkt Len Min', 'Tot Bwd Pkts', 'Pkt Len Mean'], 'Adv sample 198': ['Fwd Pkt Len Std', 'Fwd Pkt Len Max', 'Pkt Len Std', 'Subflow Fwd Pkts', 'Tot Fwd Pkts', 'Pkt Size Avg', 'Fwd Pkt Len Mean', 'Subflow Bwd Pkts', 'Fwd Header Len', 'Bwd Pkts/s'], 'Adv sample 199': ['Fwd Pkt Len Std', 'ACK Flag Cnt', 'Fwd Pkt Len Max', 'SYN Flag Cnt', 'Fwd Pkt Len Mean', 'Fwd Seg Size Avg', 'Pkt Size Avg', 'Down/Up Ratio', 'Pkt Len Max', 'Fwd Header Len'], 'Adv sample 200': ['Bwd Header Len', 'Bwd PSH Flags', 'Fwd Pkt Len Max', 'SYN Flag Cnt', 'Fwd Pkt Len Std', 'Fwd Seg Size Avg', 'Fwd Pkt Len Mean', 'Tot Bwd Pkts', 'Fwd Act Data Pkts', 'Bwd Pkts/s'], 'Adv sample 201': ['Bwd Header Len', 'SYN Flag Cnt', 'FIN Flag Cnt', 'Fwd Pkt Len Std', 'Bwd Pkts/s', 'Fwd Pkt Len Mean', 'Pkt Len Mean', 'Tot Bwd Pkts', 'Pkt Size Avg', 'Fwd Seg Size Avg'], 'Adv sample 202': ['SYN Flag Cnt', 'Bwd Header Len', 'Bwd Pkts/s', 'Fwd Pkt Len Std', 'Fwd Pkt Len Max', 'FIN Flag Cnt', 'Fwd Act Data Pkts', 'Tot Bwd Pkts', 'Flow Pkts/s', 'Fwd Pkt Len Min'], 'Adv sample 203': ['Bwd Header Len', 'SYN Flag Cnt', 'FIN Flag Cnt', 'Bwd Pkts/s', 'Fwd Pkt Len Std', 'Fwd Pkt Len Max', 'Pkt Len Min', 'Pkt Size Avg', 'Pkt Len Max', 'Pkt Len Mean'], 'Adv sample 204': ['SYN Flag Cnt', 'Bwd Header Len', 'FIN Flag Cnt', 'Bwd Pkts/s', 'Fwd Pkt Len Std', 'Fwd Pkt Len Mean', 'Fwd Seg Size Avg', 'Fwd Pkt Len Max', 'Tot Bwd Pkts', 'Subflow Bwd Pkts'], 'Adv sample 205': ['Fwd Pkt Len Std', 'Fwd Pkt Len Max', 'Fwd Pkt Len Mean', 'Fwd Seg Size Avg', 'Pkt Size Avg', 'Pkt Len Std', 'Down/Up Ratio', 'Pkt Len Max', 'Pkt Len Mean', 'Fwd IAT Min'], 'Adv sample 206': ['Fwd Pkt Len Std', 'Fwd Pkt Len Mean', 'Fwd Pkt Len Max', 'Pkt Size Avg', 'Tot Fwd Pkts', 'Pkt Len Min', 'Pkt Len Std', 'Fwd Header Len', 'Fwd Pkt Len Min', 'Pkt Len Max'], 'Adv sample 207': ['Fwd Pkt Len Std', 'Fwd Pkt Len Max', 'Pkt Size Avg', 'Pkt Len Min', 'Tot Fwd Pkts', 'Fwd Pkt Len Mean', 'Fwd Header Len', 'Fwd Seg Size Avg', 'Pkt Len Mean', 'Bwd Pkt Len Min'], 'Adv sample 208': ['Bwd Header Len', 'SYN Flag Cnt', 'Tot Bwd Pkts', 'Subflow Bwd Pkts', 'Fwd Seg Size Avg', 'Pkt Len Min', 'FIN Flag Cnt', 'Bwd Pkt Len Min', 'Fwd Pkt Len Min', 'Fwd Pkt Len Mean'], 'Adv sample 209': ['SYN Flag Cnt', 'Bwd Header Len', 'FIN Flag Cnt', 'Fwd Pkt Len Max', 'TotLen Fwd Pkts', 'Fwd Act Data Pkts', 'Subflow Bwd Pkts', 'Fwd Pkt Len Std', 'Subflow Fwd Byts', 'Tot Bwd Pkts'], 'Adv sample 210': ['SYN Flag Cnt', 'Fwd Pkt Len Max', 'Fwd Pkt Len Std', 'Fwd Pkt Len Mean', 'Fwd Header Len', 'Pkt Size Avg', 'Pkt Len Std', 'Fwd Pkt Len Min', 'Pkt Len Mean', 'Flow Byts/s'], 'Adv sample 211': ['SYN Flag Cnt', 'Bwd Header Len', 'FIN Flag Cnt', 'Fwd Pkt Len Std', 'Bwd Pkts/s', 'Fwd Seg Size Avg', 'Fwd Pkt Len Min', 'TotLen Fwd Pkts', 'Fwd Pkt Len Max', 'Fwd Pkt Len Mean'], 'Adv sample 212': ['Fwd Pkt Len Std', 'Fwd Pkt Len Mean', 'Fwd Pkt Len Max', 'Fwd Seg Size Avg', 'Subflow Fwd Pkts', 'Pkt Size Avg', 'Pkt Len Std', 'Pkt Len Min', 'Tot Bwd Pkts', 'Pkt Len Max'], 'Adv sample 213': ['Bwd Header Len', 'SYN Flag Cnt', 'Fwd Pkt Len Std', 'Init Fwd Win Byts', 'Bwd Pkts/s', 'Fwd Pkt Len Mean', 'Idle Min', 'Fwd Pkt Len Max', 'PSH Flag Cnt', 'Fwd Seg Size Avg'], 'Adv sample 214': ['Bwd Header Len', 'SYN Flag Cnt', 'Tot Bwd Pkts', 'Subflow Bwd Pkts', 'Fwd Seg Size Avg', 'Pkt Len Min', 'FIN Flag Cnt', 'Bwd Pkt Len Min', 'Fwd IAT Tot', 'Fwd IAT Std'], 'Adv sample 215': ['SYN Flag Cnt', 'FIN Flag Cnt', 'Fwd Pkt Len Std', 'Down/Up Ratio', 'Bwd Pkts/s', 'Fwd Pkt Len Max', 'Pkt Size Avg', 'Fwd Seg Size Avg', 'Fwd Pkt Len Mean', 'Fwd Pkt Len Min'], 'Adv sample 216': ['SYN Flag Cnt', 'Fwd Pkt Len Max', 'Fwd Pkt Len Std', 'Fwd Pkt Len Mean', 'Fwd Header Len', 'Pkt Len Mean', 'Pkt Len Max', 'Pkt Size Avg', 'Subflow Fwd Pkts', 'Fwd Pkt Len Min'], 'Adv sample 217': ['SYN Flag Cnt', 'Bwd Header Len', 'FIN Flag Cnt', 'Bwd Pkts/s', 'Pkt Len Min', 'Pkt Size Avg', 'Tot Bwd Pkts', 'Fwd Pkt Len Std', 'Fwd Pkt Len Max', 'Fwd Pkt Len Mean'], 'Adv sample 218': ['SYN Flag Cnt', 'Bwd Header Len', 'FIN Flag Cnt', 'Fwd Pkt Len Std', 'Tot Bwd Pkts', 'Bwd Pkts/s', 'TotLen Fwd Pkts', 'Fwd Pkt Len Mean', 'Down/Up Ratio', 'Bwd Pkt Len Min'], 'Adv sample 219': ['Fwd Pkt Len Std', 'Fwd Header Len', 'Pkt Size Avg', 'Fwd Pkt Len Max', 'Fwd Pkt Len Mean', 'Pkt Len Max', 'Tot Fwd Pkts', 'Tot Bwd Pkts', 'Fwd Seg Size Avg', 'Bwd Pkts/s'], 'Adv sample 220': ['Bwd Header Len', 'SYN Flag Cnt', 'FIN Flag Cnt', 'Bwd Pkts/s', 'Fwd Pkt Len Std', 'Fwd Pkt Len Max', 'Fwd Pkt Len Mean', 'Fwd Seg Size Avg', 'Pkt Len Min', 'Pkt Size Avg'], 'Adv sample 221': ['ACK Flag Cnt', 'SYN Flag Cnt', 'Bwd Header Len', 'Init Fwd Win Byts', 'Bwd Pkts/s', 'Fwd Pkt Len Max', 'Fwd Pkt Len Std', 'Pkt Len Std', 'Pkt Size Avg', 'Bwd IAT Std'], 'Adv sample 222': ['SYN Flag Cnt', 'Bwd Header Len', 'FIN Flag Cnt', 'Bwd Pkts/s', 'Fwd Act Data Pkts', 'Fwd Pkt Len Std', 'Tot Bwd Pkts', 'Fwd Pkt Len Max', 'Fwd Pkt Len Mean', 'TotLen Fwd Pkts'], 'Adv sample 223': ['SYN Flag Cnt', 'Bwd Header Len', 'FIN Flag Cnt', 'Fwd Pkt Len Std', 'Bwd Pkts/s', 'Fwd Pkt Len Max', 'Fwd Pkt Len Min', 'Subflow Bwd Pkts', 'Fwd Seg Size Avg', 'TotLen Fwd Pkts'], 'Adv sample 224': ['SYN Flag Cnt', 'Bwd Header Len', 'FIN Flag Cnt', 'Bwd Pkts/s', 'Fwd Pkt Len Std', 'Fwd Pkt Len Mean', 'Fwd Pkt Len Max', 'Subflow Bwd Pkts', 'Pkt Size Avg', 'Bwd Pkt Len Min'], 'Adv sample 225': ['SYN Flag Cnt', 'FIN Flag Cnt', 'Bwd Header Len', 'Bwd Pkts/s', 'Fwd Pkt Len Std', 'Fwd Seg Size Avg', 'Pkt Len Min', 'Pkt Len Mean', 'Down/Up Ratio', 'Fwd Pkt Len Mean'], 'Adv sample 226': ['Fwd Pkt Len Std', 'Fwd Pkt Len Max', 'Pkt Size Avg', 'Pkt Len Max', 'Pkt Len Std', 'Fwd Pkt Len Mean', 'Fwd Header Len', 'Pkt Len Mean', 'Tot Fwd Pkts', 'Subflow Fwd Pkts'], 'Adv sample 227': ['Fwd Pkt Len Std', 'Fwd Pkt Len Max', 'Pkt Len Max', 'Pkt Len Min', 'Fwd Header Len', 'Pkt Size Avg', 'Fwd Pkt Len Mean', 'Tot Fwd Pkts', 'Pkt Len Std', 'Pkt Len Mean'], 'Adv sample 228': ['Fwd Pkt Len Std', 'Bwd Header Len', 'SYN Flag Cnt', 'Fwd Pkt Len Max', 'Fwd Pkt Len Mean', 'Tot Bwd Pkts', 'Tot Fwd Pkts', 'Subflow Bwd Pkts', 'Fwd Header Len', 'Fwd Seg Size Avg'], 'Adv sample 229': ['Init Fwd Win Byts', 'Fwd Pkt Len Std', 'Fwd Pkt Len Max', 'Down/Up Ratio', 'Pkt Len Std', 'Pkt Len Min', 'Fwd Pkt Len Mean', 'Pkt Len Max', 'FIN Flag Cnt', 'Pkt Size Avg'], 'Adv sample 230': ['Bwd Header Len', 'SYN Flag Cnt', 'FIN Flag Cnt', 'Bwd Pkts/s', 'Fwd Pkt Len Std', 'Fwd Pkt Len Max', 'Fwd Pkt Len Min', 'Fwd Seg Size Avg', 'Pkt Len Max', 'Bwd Pkt Len Min'], 'Adv sample 231': ['Bwd Header Len', 'SYN Flag Cnt', 'Tot Bwd Pkts', 'Subflow Bwd Pkts', 'Fwd Seg Size Avg', 'Pkt Len Min', 'FIN Flag Cnt', 'Bwd Pkt Len Min', 'Fwd IAT Std', 'Fwd IAT Tot'], 'Adv sample 232': ['SYN Flag Cnt', 'Bwd Header Len', 'FIN Flag Cnt', 'Fwd Pkt Len Mean', 'Fwd Seg Size Avg', 'Bwd Pkts/s', 'Tot Bwd Pkts', 'Fwd Pkt Len Std', 'Init Fwd Win Byts', 'Fwd IAT Std'], 'Adv sample 233': ['Fwd Pkt Len Std', 'Init Fwd Win Byts', 'Fwd Pkt Len Max', 'Down/Up Ratio', 'Fwd Pkt Len Mean', 'Pkt Len Std', 'Fwd Seg Size Avg', 'Bwd Pkt Len Min', 'FIN Flag Cnt', 'Bwd Seg Size Avg'], 'Adv sample 234': ['Bwd Header Len', 'SYN Flag Cnt', 'FIN Flag Cnt', 'Bwd Pkts/s', 'Fwd Pkt Len Std', 'Fwd Pkt Len Mean', 'Fwd Pkt Len Max', 'Fwd Pkt Len Min', 'Pkt Size Avg', 'Pkt Len Mean'], 'Adv sample 235': ['SYN Flag Cnt', 'Bwd Header Len', 'Bwd Pkts/s', 'Fwd Pkt Len Max', 'Fwd Pkt Len Std', 'Pkt Size Avg', 'FIN Flag Cnt', 'Fwd Seg Size Avg', 'Pkt Len Max', 'Init Fwd Win Byts'], 'Adv sample 236': ['SYN Flag Cnt', 'Fwd Pkt Len Std', 'Fwd Pkt Len Max', 'Down/Up Ratio', 'FIN Flag Cnt', 'Fwd Pkt Len Mean', 'Bwd Pkts/s', 'Pkt Len Max', 'Fwd Seg Size Avg', 'Fwd Pkt Len Min'], 'Adv sample 237': ['Fwd Pkt Len Std', 'Init Fwd Win Byts', 'Fwd Pkt Len Max', 'Fwd Pkt Len Mean', 'Pkt Len Std', 'Fwd Pkt Len Min', 'Down/Up Ratio', 'Pkt Len Max', 'FIN Flag Cnt', 'Pkt Len Min'], 'Adv sample 238': ['SYN Flag Cnt', 'Fwd Pkt Len Std', 'Fwd Pkt Len Max', 'Down/Up Ratio', 'FIN Flag Cnt', 'Pkt Size Avg', 'Bwd Pkts/s', 'Pkt Len Max', 'Subflow Fwd Pkts', 'Bwd Pkt Len Min'], 'Adv sample 239': ['Bwd Header Len', 'SYN Flag Cnt', 'Bwd Pkts/s', 'Idle Min', 'Subflow Bwd Pkts', 'Fwd Pkt Len Std', 'Fwd Pkt Len Max', 'Tot Bwd Pkts', 'Flow Pkts/s', 'Bwd Blk Rate Avg'], 'Adv sample 240': ['Bwd Header Len', 'SYN Flag Cnt', 'FIN Flag Cnt', 'Bwd Pkts/s', 'Fwd Pkt Len Std', 'Fwd Pkt Len Mean', 'Fwd Pkt Len Max', 'Fwd Pkt Len Min', 'Fwd Seg Size Avg', 'Pkt Len Min'], 'Adv sample 241': ['SYN Flag Cnt', 'Fwd Pkt Len Std', 'Bwd Header Len', 'Fwd Pkt Len Max', 'Pkt Len Mean', 'Fwd Pkt Len Mean', 'Pkt Size Avg', 'Subflow Bwd Pkts', 'Pkt Len Max', 'Init Fwd Win Byts'], 'Adv sample 242': ['Fwd Pkt Len Std', 'Init Fwd Win Byts', 'Fwd Pkt Len Max', 'Fwd Seg Size Avg', 'Pkt Len Std', 'FIN Flag Cnt', 'Down/Up Ratio', 'Pkt Size Avg', 'ACK Flag Cnt', 'Fwd Pkt Len Mean'], 'Adv sample 243': ['Init Fwd Win Byts', 'Fwd Pkt Len Std', 'Fwd Pkt Len Max', 'Down/Up Ratio', 'Fwd Pkt Len Mean', 'Pkt Len Std', 'FIN Flag Cnt', 'Fwd Seg Size Avg', 'Bwd IAT Std', 'Bwd Pkts/s'], 'Adv sample 244': ['SYN Flag Cnt', 'Fwd Pkt Len Std', 'Fwd Pkt Len Max', 'Fwd Seg Size Avg', 'Fwd Pkt Len Min', 'Pkt Len Max', 'Fwd Pkt Len Mean', 'Bwd Header Len', 'Subflow Bwd Pkts', 'Down/Up Ratio'], 'Adv sample 245': ['SYN Flag Cnt', 'Bwd Header Len', 'FIN Flag Cnt', 'ACK Flag Cnt', 'Fwd Seg Size Avg', 'Fwd Pkt Len Max', 'Fwd Pkt Len Std', 'Fwd Pkt Len Mean', 'TotLen Fwd Pkts', 'Tot Bwd Pkts'], 'Adv sample 246': ['Fwd Pkt Len Std', 'Fwd Pkt Len Max', 'Fwd Header Len', 'Bwd Pkts/s', 'Pkt Size Avg', 'Fwd Pkt Len Min', 'Pkt Len Max', 'Pkt Len Std', 'Down/Up Ratio', 'Fwd Pkt Len Mean'], 'Adv sample 247': ['Fwd Pkt Len Std', 'Fwd Pkt Len Max', 'Fwd Pkt Len Mean', 'Pkt Len Min', 'Pkt Len Std', 'Subflow Fwd Pkts', 'Fwd Header Len', 'FIN Flag Cnt', 'Pkt Size Avg', 'Bwd Pkts/s'], 'Adv sample 248': ['Bwd Header Len', 'SYN Flag Cnt', 'Subflow Bwd Pkts', 'Fwd Pkt Len Mean', 'Tot Bwd Pkts', 'Pkt Len Min', 'FIN Flag Cnt', 'Fwd Seg Size Avg', 'Fwd Pkt Len Max', 'Flow Byts/s'], 'Adv sample 249': ['SYN Flag Cnt', 'Bwd Header Len', 'FIN Flag Cnt', 'Bwd Pkts/s', 'Fwd IAT Std', 'Fwd Seg Size Avg', 'Fwd Pkt Len Std', 'Pkt Len Min', 'Down/Up Ratio', 'Fwd Act Data Pkts'], 'Adv sample 250': ['SYN Flag Cnt', 'Bwd Header Len', 'Fwd Pkt Len Mean', 'FIN Flag Cnt', 'Fwd Seg Size Avg', 'ACK Flag Cnt', 'Tot Bwd Pkts', 'Subflow Bwd Pkts', 'Pkt Len Min', 'Fwd IAT Std'], 'Adv sample 251': ['SYN Flag Cnt', 'Fwd Pkt Len Max', 'Fwd Pkt Len Std', 'Fwd Seg Size Avg', 'Pkt Len Std', 'Pkt Size Avg', 'Fwd Header Len', 'Fwd Pkt Len Mean', 'Fwd Pkt Len Min', 'Pkt Len Max'], 'Adv sample 252': ['Bwd Header Len', 'SYN Flag Cnt', 'Bwd Pkts/s', 'FIN Flag Cnt', 'Fwd Pkt Len Std', 'Fwd Pkt Len Mean', 'Fwd Pkt Len Max', 'Fwd Pkt Len Min', 'Subflow Bwd Pkts', 'Bwd Pkt Len Min'], 'Adv sample 253': ['ACK Flag Cnt', 'Bwd Header Len', 'SYN Flag Cnt', 'Fwd Pkt Len Max', 'Init Fwd Win Byts', 'Fwd Pkt Len Std', 'Down/Up Ratio', 'Bwd Pkts/s', 'Fwd Pkt Len Mean', 'Pkt Size Avg'], 'Adv sample 254': ['Fwd Pkt Len Std', 'Fwd Pkt Len Max', 'Fwd Pkt Len Mean', 'Pkt Len Max', 'Fwd Seg Size Avg', 'Pkt Len Std', 'Down/Up Ratio', 'Pkt Size Avg', 'Bwd Pkt Len Std', 'Bwd Pkts/s'], 'Adv sample 255': ['Bwd Header Len', 'Fwd Pkt Len Std', 'Bwd PSH Flags', 'Fwd Pkt Len Max', 'SYN Flag Cnt', 'Fwd Pkt Len Mean', 'Fwd Act Data Pkts', 'Fwd Seg Size Avg', 'Tot Bwd Pkts', 'Bwd Pkts/s'], 'Adv sample 256': ['SYN Flag Cnt', 'Bwd Header Len', 'Fwd Pkt Len Std', 'Fwd Pkt Len Max', 'Bwd Pkts/s', 'Pkt Len Max', 'Fwd Act Data Pkts', 'Pkt Size Avg', 'FIN Flag Cnt', 'Fwd Seg Size Avg'], 'Adv sample 257': ['Bwd Header Len', 'SYN Flag Cnt', 'Bwd Pkts/s', 'FIN Flag Cnt', 'Fwd Pkt Len Std', 'Down/Up Ratio', 'Fwd Pkt Len Max', 'Pkt Size Avg', 'Pkt Len Mean', 'Fwd Pkt Len Mean'], 'Adv sample 258': ['Fwd Pkt Len Std', 'Fwd Pkt Len Max', 'Pkt Len Mean', 'Fwd Seg Size Avg', 'Bwd Pkts/s', 'Fwd Pkt Len Mean', 'FIN Flag Cnt', 'Tot Fwd Pkts', 'Pkt Size Avg', 'Subflow Bwd Pkts'], 'Adv sample 259': ['SYN Flag Cnt', 'FIN Flag Cnt', 'Bwd Header Len', 'Bwd Pkts/s', 'Subflow Bwd Pkts', 'Pkt Len Min', 'TotLen Fwd Pkts', 'Fwd Pkt Len Mean', 'Tot Bwd Pkts', 'Bwd Pkt Len Min'], 'Adv sample 260': ['SYN Flag Cnt', 'Bwd Header Len', 'FIN Flag Cnt', 'Bwd Pkts/s', 'Tot Bwd Pkts', 'Fwd IAT Std', 'Fwd Pkt Len Max', 'Bwd Pkt Len Min', 'Down/Up Ratio', 'Pkt Len Min'], 'Adv sample 261': ['Init Bwd Win Byts', 'Idle Max', 'Fwd Pkt Len Std', 'Fwd Pkt Len Max', 'Idle Mean', 'Pkt Len Std', 'Pkt Len Min', 'Flow Byts/s', 'Bwd Header Len', 'Fwd Seg Size Avg'], 'Adv sample 262': ['Bwd Header Len', 'SYN Flag Cnt', 'Bwd Pkts/s', 'Fwd Pkt Len Max', 'Down/Up Ratio', 'FIN Flag Cnt', 'Fwd Pkt Len Std', 'Fwd Pkt Len Mean', 'Pkt Len Min', 'Fwd Seg Size Avg'], 'Adv sample 263': ['Bwd Header Len', 'SYN Flag Cnt', 'Subflow Bwd Pkts', 'Tot Bwd Pkts', 'Fwd Pkt Len Std', 'Fwd Seg Size Avg', 'Pkt Len Min', 'FIN Flag Cnt', 'Fwd Pkt Len Mean', 'Bwd Pkt Len Min'], 'Adv sample 264': ['Fwd Pkt Len Std', 'Fwd Pkt Len Max', 'Bwd Header Len', 'Pkt Len Max', 'Bwd Pkts/s', 'Fwd IAT Tot', 'Pkt Len Std', 'Pkt Len Mean', 'FIN Flag Cnt', 'Pkt Size Avg'], 'Adv sample 265': ['Bwd Header Len', 'SYN Flag Cnt', 'Fwd Pkt Len Std', 'Subflow Bwd Pkts', 'Tot Bwd Pkts', 'FIN Flag Cnt', 'Fwd Pkt Len Max', 'Fwd Pkt Len Mean', 'Fwd IAT Std', 'Fwd Seg Size Avg'], 'Adv sample 266': ['Bwd Header Len', 'SYN Flag Cnt', 'FIN Flag Cnt', 'Bwd Pkts/s', 'Fwd Pkt Len Std', 'Pkt Len Min', 'Pkt Size Avg', 'Tot Bwd Pkts', 'Fwd Pkt Len Max', 'Fwd Pkt Len Min'], 'Adv sample 267': ['SYN Flag Cnt', 'Bwd Header Len', 'FIN Flag Cnt', 'Fwd Act Data Pkts', 'TotLen Fwd Pkts', 'Subflow Bwd Pkts', 'Fwd Pkt Len Mean', 'Fwd Pkt Len Std', 'Fwd Pkt Len Max', 'Pkt Len Min'], 'Adv sample 268': ['SYN Flag Cnt', 'Bwd Header Len', 'FIN Flag Cnt', 'Fwd Act Data Pkts', 'Bwd Pkts/s', 'Fwd IAT Std', 'Fwd Pkt Len Mean', 'Fwd Pkt Len Max', 'TotLen Fwd Pkts', 'Fwd Pkt Len Std'], 'Adv sample 269': ['Fwd Pkt Len Std', 'Fwd Pkt Len Max', 'Pkt Len Max', 'Pkt Len Std', 'Down/Up Ratio', 'Pkt Len Mean', 'Pkt Size Avg', 'Pkt Len Min', 'Fwd Pkt Len Mean', 'Fwd Pkt Len Min'], 'Adv sample 270': ['Bwd Header Len', 'Bwd PSH Flags', 'SYN Flag Cnt', 'Fwd Pkt Len Max', 'Fwd Pkt Len Std', 'Fwd Act Data Pkts', 'Subflow Fwd Pkts', 'Bwd Pkts/s', 'Fwd Pkt Len Mean', 'Pkt Len Min'], 'Adv sample 271': ['Fwd Pkt Len Std', 'Fwd Pkt Len Max', 'Fwd Pkt Len Mean', 'Pkt Len Std', 'Fwd Seg Size Avg', 'Pkt Len Max', 'Bwd Pkt Len Std', 'Fwd Header Len', 'Bwd IAT Tot', 'Bwd Header Len'], 'Adv sample 272': ['Bwd Header Len', 'SYN Flag Cnt', 'Fwd Seg Size Avg', 'Fwd Pkt Len Std', 'FIN Flag Cnt', 'Tot Bwd Pkts', 'Subflow Bwd Pkts', 'Pkt Len Max', 'Fwd Pkt Len Max', 'Fwd Pkt Len Mean'], 'Adv sample 273': ['SYN Flag Cnt', 'Bwd Header Len', 'FIN Flag Cnt', 'Fwd Pkt Len Std', 'Bwd Pkts/s', 'Fwd Pkt Len Mean', 'Bwd Pkt Len Min', 'Subflow Bwd Pkts', 'Fwd Seg Size Avg', 'Pkt Len Min'], 'Adv sample 274': ['SYN Flag Cnt', 'Bwd Header Len', 'FIN Flag Cnt', 'Bwd Pkts/s', 'Fwd Pkt Len Max', 'TotLen Fwd Pkts', 'Tot Bwd Pkts', 'Subflow Bwd Pkts', 'Bwd Pkt Len Min', 'Fwd Pkt Len Mean'], 'Adv sample 275': ['SYN Flag Cnt', 'Bwd Header Len', 'Bwd Pkts/s', 'FIN Flag Cnt', 'Pkt Size Avg', 'Pkt Len Std', 'Fwd Pkt Len Mean', 'Pkt Len Min', 'Fwd Pkt Len Max', 'Fwd Seg Size Avg'], 'Adv sample 276': ['SYN Flag Cnt', 'Bwd Header Len', 'FIN Flag Cnt', 'Bwd Pkts/s', 'Fwd Pkt Len Max', 'Pkt Size Avg', 'Fwd Header Len', 'Fwd Pkt Len Min', 'Fwd Pkt Len Mean', 'Pkt Len Mean'], 'Adv sample 277': ['Bwd Header Len', 'SYN Flag Cnt', 'Tot Bwd Pkts', 'Subflow Bwd Pkts', 'Fwd Seg Size Avg', 'Bwd Pkt Len Min', 'FIN Flag Cnt', 'Pkt Len Min', 'Fwd IAT Std', 'Bwd IAT Max'], 'Adv sample 278': ['Fwd Pkt Len Std', 'Fwd Pkt Len Max', 'Pkt Len Min', 'Fwd Pkt Len Mean', 'Pkt Size Avg', 'Pkt Len Mean', 'Subflow Fwd Pkts', 'Bwd Pkts/s', 'Tot Fwd Pkts', 'Tot Bwd Pkts'], 'Adv sample 279': ['Fwd Pkt Len Std', 'Init Fwd Win Byts', 'Fwd Pkt Len Max', 'Pkt Len Std', 'Down/Up Ratio', 'Fwd Pkt Len Mean', 'Flow Byts/s', 'FIN Flag Cnt', 'Pkt Len Mean', 'Fwd Seg Size Avg'], 'Adv sample 280': ['Bwd Header Len', 'SYN Flag Cnt', 'Fwd Pkt Len Std', 'Tot Bwd Pkts', 'Fwd Pkt Len Mean', 'Fwd Seg Size Avg', 'Subflow Bwd Pkts', 'FIN Flag Cnt', 'Fwd Pkt Len Max', 'Pkt Len Min'], 'Adv sample 281': ['Bwd Header Len', 'Fwd Pkt Len Std', 'Bwd PSH Flags', 'SYN Flag Cnt', 'Fwd Pkt Len Max', 'Bwd Pkts/s', 'Pkt Len Min', 'Fwd Header Len', 'Fwd Act Data Pkts', 'Fwd Seg Size Avg'], 'Adv sample 282': ['SYN Flag Cnt', 'FIN Flag Cnt', 'Bwd Header Len', 'Bwd Pkts/s', 'Fwd Pkt Len Max', 'Fwd Seg Size Avg', 'Init Fwd Win Byts', 'Fwd Pkt Len Min', 'Fwd Pkt Len Mean', 'Down/Up Ratio'], 'Adv sample 283': ['Bwd Header Len', 'SYN Flag Cnt', 'Bwd Pkts/s', 'Idle Min', 'Fwd Pkt Len Std', 'Subflow Bwd Pkts', 'Tot Bwd Pkts', 'Fwd Pkt Len Max', 'Bwd URG Flags', 'Flow Pkts/s'], 'Adv sample 284': ['Bwd Header Len', 'SYN Flag Cnt', 'Fwd Pkt Len Std', 'FIN Flag Cnt', 'Subflow Bwd Pkts', 'Tot Bwd Pkts', 'Fwd Pkt Len Mean', 'Fwd Pkt Len Max', 'Pkt Len Min', 'Bwd Pkt Len Min'], 'Adv sample 285': ['SYN Flag Cnt', 'Bwd Header Len', 'FIN Flag Cnt', 'Pkt Size Avg', 'Fwd IAT Tot', 'Fwd Seg Size Avg', 'Fwd Pkt Len Mean', 'Fwd Pkt Len Std', 'TotLen Fwd Pkts', 'Fwd IAT Std'], 'Adv sample 286': ['ACK Flag Cnt', 'SYN Flag Cnt', 'Init Fwd Win Byts', 'Fwd Pkt Len Std', 'Fwd Pkt Len Max', 'Fwd Pkt Len Mean', 'Pkt Len Max', 'Pkt Len Std', 'Pkt Size Avg', 'Fwd Seg Size Avg'], 'Adv sample 287': ['SYN Flag Cnt', 'Fwd Pkt Len Max', 'Fwd Pkt Len Std', 'Fwd Pkt Len Mean', 'Pkt Len Std', 'Fwd Seg Size Avg', 'FIN Flag Cnt', 'Fwd Header Len', 'Pkt Size Avg', 'Tot Fwd Pkts'], 'Adv sample 288': ['Fwd Pkt Len Std', 'Bwd Pkts/s', 'Fwd Pkt Len Max', 'Fwd Pkt Len Mean', 'Subflow Fwd Pkts', 'Pkt Size Avg', 'Fwd Pkt Len Min', 'Tot Bwd Pkts', 'Fwd Header Len', 'Bwd Header Len'], 'Adv sample 289': ['SYN Flag Cnt', 'FIN Flag Cnt', 'Bwd Header Len', 'Bwd Pkts/s', 'Fwd Pkt Len Std', 'Fwd Act Data Pkts', 'Bwd Pkt Len Min', 'Fwd Pkt Len Min', 'Fwd Seg Size Avg', 'Fwd Pkt Len Max'], 'Adv sample 290': ['Fwd Pkt Len Std', 'Fwd Pkt Len Max', 'Fwd Pkt Len Mean', 'Pkt Len Std', 'Pkt Len Max', 'Fwd Seg Size Avg', 'Pkt Size Avg', 'Tot Bwd Pkts', 'Pkt Len Min', 'Bwd Pkts/s'], 'Adv sample 291': ['Init Fwd Win Byts', 'Fwd Pkt Len Std', 'Fwd Pkt Len Max', 'Down/Up Ratio', 'FIN Flag Cnt', 'Fwd Pkt Len Mean', 'Fwd Pkt Len Min', 'Bwd Pkts/s', 'Pkt Len Std', 'Pkt Len Min'], 'Adv sample 292': ['Bwd Header Len', 'SYN Flag Cnt', 'Tot Bwd Pkts', 'Fwd Pkt Len Mean', 'Subflow Bwd Pkts', 'Fwd Pkt Len Max', 'FIN Flag Cnt', 'Pkt Len Min', 'Fwd Seg Size Avg', 'Fwd Pkt Len Min'], 'Adv sample 293': ['SYN Flag Cnt', 'Bwd Header Len', 'FIN Flag Cnt', 'Fwd Pkt Len Max', 'Fwd Pkt Len Mean', 'Fwd Seg Size Avg', 'Tot Bwd Pkts', 'ACK Flag Cnt', 'Subflow Bwd Pkts', 'Fwd Pkt Len Std'], 'Adv sample 294': ['Bwd Header Len', 'SYN Flag Cnt', 'Fwd Pkt Len Std', 'Tot Bwd Pkts', 'Subflow Bwd Pkts', 'Bwd Pkt Len Min', 'Pkt Len Min', 'FIN Flag Cnt', 'Pkt Len Std', 'Fwd Pkt Len Mean'], 'Adv sample 295': ['Init Fwd Win Byts', 'Fwd Pkt Len Std', 'Down/Up Ratio', 'Fwd Pkt Len Max', 'Fwd Seg Size Avg', 'FIN Flag Cnt', 'Pkt Size Avg', 'Pkt Len Min', 'Fwd Pkt Len Mean', 'Tot Bwd Pkts'], 'Adv sample 296': ['Bwd Header Len', 'SYN Flag Cnt', 'FIN Flag Cnt', 'Bwd Pkts/s', 'Fwd Pkt Len Std', 'Pkt Len Mean', 'Bwd Pkt Len Min', 'Fwd Pkt Len Max', 'Subflow Bwd Pkts', 'Fwd Pkt Len Mean'], 'Adv sample 297': ['Bwd Header Len', 'SYN Flag Cnt', 'FIN Flag Cnt', 'Bwd Pkts/s', 'Fwd Pkt Len Std', 'Pkt Size Avg', 'Fwd Pkt Len Max', 'Fwd Pkt Len Min', 'Pkt Len Max', 'Pkt Len Std'], 'Adv sample 298': ['Bwd Header Len', 'Idle Min', 'SYN Flag Cnt', 'Bwd Pkts/s', 'Fwd Pkt Len Std', 'Tot Bwd Pkts', 'Fwd Pkt Len Max', 'Subflow Bwd Pkts', 'Init Fwd Win Byts', 'Fwd IAT Max'], 'Adv sample 299': ['Fwd Pkt Len Max', 'Fwd Pkt Len Std', 'Bwd Header Len', 'SYN Flag Cnt', 'Tot Bwd Pkts', 'Pkt Len Min', 'Fwd Act Data Pkts', 'Fwd IAT Std', 'Fwd IAT Tot', 'Subflow Bwd Byts'], 'Adv sample 300': ['Bwd Header Len', 'Bwd PSH Flags', 'SYN Flag Cnt', 'Fwd Pkt Len Max', 'Fwd Pkt Len Std', 'Fwd Act Data Pkts', 'Bwd Pkts/s', 'Fwd Seg Size Avg', 'Fwd Pkt Len Mean', 'Pkt Len Min'], 'Adv sample 301': ['Fwd Pkt Len Std', 'Fwd Pkt Len Max', 'Pkt Size Avg', 'Fwd Pkt Len Mean', 'Tot Fwd Pkts', 'Tot Bwd Pkts', 'Subflow Fwd Pkts', 'Bwd Pkts/s', 'Pkt Len Max', 'ACK Flag Cnt'], 'Adv sample 302': ['Fwd Pkt Len Std', 'Init Fwd Win Byts', 'Fwd Pkt Len Max', 'Fwd Pkt Len Mean', 'Down/Up Ratio', 'Pkt Len Std', 'FIN Flag Cnt', 'Pkt Size Avg', 'Fwd Seg Size Avg', 'Bwd Pkt Len Std'], 'Adv sample 303': ['SYN Flag Cnt', 'Fwd Pkt Len Std', 'Bwd PSH Flags', 'Fwd Pkt Len Max', 'Init Fwd Win Byts', 'Fwd Pkt Len Mean', 'Fwd Seg Size Avg', 'Pkt Len Std', 'Bwd Header Len', 'Pkt Len Min'], 'Adv sample 304': ['SYN Flag Cnt', 'Fwd Pkt Len Std', 'Down/Up Ratio', 'Fwd Pkt Len Max', 'Fwd Seg Size Avg', 'Pkt Len Std', 'Pkt Size Avg', 'Fwd Pkt Len Mean', 'Fwd Act Data Pkts', 'Subflow Fwd Pkts'], 'Adv sample 305': ['Bwd Header Len', 'SYN Flag Cnt', 'Fwd Pkt Len Std', 'Tot Bwd Pkts', 'Pkt Len Min', 'Fwd Pkt Len Max', 'Subflow Bwd Pkts', 'FIN Flag Cnt', 'Fwd Seg Size Avg', 'Fwd Pkt Len Mean'], 'Adv sample 306': ['Bwd Header Len', 'SYN Flag Cnt', 'Bwd Pkts/s', 'FIN Flag Cnt', 'Fwd Pkt Len Std', 'Fwd Pkt Len Mean', 'Fwd Seg Size Avg', 'Pkt Size Avg', 'Fwd Pkt Len Max', 'Pkt Len Max'], 'Adv sample 307': ['Fwd Pkt Len Max', 'Fwd Pkt Len Std', 'Pkt Len Max', 'Pkt Len Mean', 'Pkt Len Std', 'Fwd Pkt Len Mean', 'Tot Fwd Pkts', 'Down/Up Ratio', 'Bwd Seg Size Avg', 'Tot Bwd Pkts'], 'Adv sample 308': ['Bwd Header Len', 'SYN Flag Cnt', 'Fwd Pkt Len Std', 'Bwd Pkts/s', 'Down/Up Ratio', 'FIN Flag Cnt', 'Fwd Pkt Len Mean', 'Fwd Pkt Len Max', 'Fwd Seg Size Avg', 'Pkt Len Min'], 'Adv sample 309': ['Fwd Pkt Len Std', 'Fwd Pkt Len Max', 'Pkt Len Max', 'Pkt Size Avg', 'Fwd Pkt Len Mean', 'FIN Flag Cnt', 'Fwd Seg Size Avg', 'Bwd Pkts/s', 'Flow Byts/s', 'Tot Fwd Pkts'], 'Adv sample 310': ['SYN Flag Cnt', 'Bwd Header Len', 'Fwd Seg Size Avg', 'FIN Flag Cnt', 'Fwd Pkt Len Mean', 'ACK Flag Cnt', 'Tot Bwd Pkts', 'Pkt Len Min', 'Fwd IAT Std', 'Fwd Pkt Len Min'], 'Adv sample 311': ['Bwd Header Len', 'SYN Flag Cnt', 'Fwd Pkt Len Max', 'Fwd Pkt Len Std', 'Pkt Len Std', 'Pkt Size Avg', 'Pkt Len Max', 'Fwd Seg Size Avg', 'Fwd IAT Std', 'Fwd Header Len'], 'Adv sample 312': ['Fwd Pkt Len Std', 'Fwd Pkt Len Max', 'Fwd Pkt Len Mean', 'Fwd IAT Tot', 'Pkt Len Std', 'ACK Flag Cnt', 'Init Fwd Win Byts', 'Pkt Len Max', 'Pkt Len Mean', 'Fwd Seg Size Avg'], 'Adv sample 313': ['Fwd Pkt Len Max', 'SYN Flag Cnt', 'Fwd Pkt Len Mean', 'Fwd Pkt Len Std', 'Pkt Len Mean', 'Pkt Len Min', 'Subflow Bwd Pkts', 'FIN Flag Cnt', 'Fwd Seg Size Avg', 'Tot Bwd Pkts'], 'Adv sample 314': ['SYN Flag Cnt', 'Bwd Header Len', 'Bwd Pkts/s', 'Fwd Pkt Len Std', 'FIN Flag Cnt', 'Fwd Pkt Len Max', 'Fwd Seg Size Avg', 'Fwd Pkt Len Mean', 'Subflow Bwd Pkts', 'Pkt Len Mean'], 'Adv sample 315': ['Init Fwd Win Byts', 'Fwd Pkt Len Std', 'Down/Up Ratio', 'Fwd Pkt Len Max', 'FIN Flag Cnt', 'Pkt Len Std', 'Fwd Pkt Len Mean', 'Pkt Len Max', 'Pkt Len Min', 'Fwd Pkt Len Min'], 'Adv sample 316': ['SYN Flag Cnt', 'FIN Flag Cnt', 'Fwd Pkt Len Std', 'Down/Up Ratio', 'Fwd Pkt Len Max', 'Bwd Pkts/s', 'Pkt Len Mean', 'Pkt Len Min', 'Pkt Size Avg', 'Fwd Pkt Len Mean'], 'Adv sample 317': ['Bwd Header Len', 'SYN Flag Cnt', 'Tot Bwd Pkts', 'Subflow Bwd Pkts', 'Fwd Seg Size Avg', 'Bwd Pkt Len Min', 'FIN Flag Cnt', 'Pkt Len Min', 'Fwd Pkt Len Min', 'Fwd IAT Std'], 'Adv sample 318': ['Fwd Pkt Len Std', 'Fwd Pkt Len Max', 'Fwd Pkt Len Mean', 'Fwd Seg Size Avg', 'Pkt Len Mean', 'Pkt Size Avg', 'Bwd Pkts/s', 'Subflow Fwd Pkts', 'Tot Fwd Pkts', 'Flow Pkts/s'], 'Adv sample 319': ['Bwd Header Len', 'SYN Flag Cnt', 'Fwd Pkt Len Std', 'Fwd Pkt Len Mean', 'Fwd Seg Size Avg', 'Fwd Pkt Len Max', 'Pkt Len Max', 'Tot Bwd Pkts', 'Subflow Bwd Pkts', 'Pkt Len Min'], 'Adv sample 320': ['Bwd Header Len', 'SYN Flag Cnt', 'Tot Bwd Pkts', 'Fwd Pkt Len Std', 'Subflow Bwd Pkts', 'Fwd Pkt Len Mean', 'Fwd Seg Size Avg', 'FIN Flag Cnt', 'Fwd Pkt Len Min', 'Fwd Pkt Len Max'], 'Adv sample 321': ['SYN Flag Cnt', 'Bwd Header Len', 'FIN Flag Cnt', 'Tot Bwd Pkts', 'Bwd Pkts/s', 'Fwd Act Data Pkts', 'Fwd Pkt Len Max', 'Fwd Pkt Len Mean', 'Subflow Bwd Pkts', 'Fwd Pkt Len Std'], 'Adv sample 322': ['ACK Flag Cnt', 'Bwd Header Len', 'SYN Flag Cnt', 'Fwd Pkt Len Std', 'Init Fwd Win Byts', 'Fwd Pkt Len Max', 'Bwd Pkts/s', 'Pkt Len Min', 'Fwd Seg Size Avg', 'Pkt Size Avg'], 'Adv sample 323': ['SYN Flag Cnt', 'Bwd Header Len', 'FIN Flag Cnt', 'Bwd Pkts/s', 'Fwd Pkt Len Std', 'Down/Up Ratio', 'Fwd Pkt Len Min', 'Fwd IAT Std', 'TotLen Fwd Pkts', 'Bwd Pkt Len Min'], 'Adv sample 324': ['Fwd Pkt Len Std', 'Fwd Pkt Len Max', 'Fwd Pkt Len Mean', 'Bwd Pkts/s', 'Pkt Size Avg', 'Pkt Len Max', 'Pkt Len Min', 'Fwd Header Len', 'Pkt Len Mean', 'Pkt Len Std'], 'Adv sample 325': ['Init Fwd Win Byts', 'Fwd Pkt Len Std', 'Down/Up Ratio', 'Fwd Pkt Len Max', 'Fwd Pkt Len Mean', 'Pkt Len Mean', 'Pkt Size Avg', 'Pkt Len Std', 'Bwd Pkts/s', 'Fwd Pkt Len Min'], 'Adv sample 326': ['Bwd Header Len', 'SYN Flag Cnt', 'Bwd Pkts/s', 'Fwd Pkt Len Std', 'FIN Flag Cnt', 'Down/Up Ratio', 'Fwd Pkt Len Mean', 'Pkt Len Min', 'Fwd Pkt Len Max', 'Pkt Size Avg'], 'Adv sample 327': ['Fwd Pkt Len Std', 'Fwd Pkt Len Max', 'Fwd Pkt Len Mean', 'Pkt Size Avg', 'Pkt Len Std', 'Pkt Len Max', 'Fwd Header Len', 'Fwd Seg Size Avg', 'Pkt Len Mean', 'Tot Bwd Pkts'], 'Adv sample 328': ['Fwd Pkt Len Std', 'Fwd Pkt Len Mean', 'Fwd Pkt Len Max', 'Fwd Seg Size Avg', 'Down/Up Ratio', 'Pkt Len Mean', 'Pkt Len Max', 'Pkt Len Std', 'Pkt Size Avg', 'Bwd Seg Size Avg'], 'Adv sample 329': ['Fwd Pkt Len Std', 'Fwd Pkt Len Max', 'Tot Fwd Pkts', 'Fwd Pkt Len Mean', 'Pkt Size Avg', 'Fwd Seg Size Avg', 'Pkt Len Std', 'Subflow Fwd Pkts', 'Bwd Pkts/s', 'Pkt Len Min'], 'Adv sample 330': ['Bwd Header Len', 'SYN Flag Cnt', 'Fwd Pkt Len Std', 'Bwd Pkts/s', 'FIN Flag Cnt', 'Fwd Pkt Len Mean', 'Pkt Len Mean', 'Fwd Pkt Len Max', 'Fwd Pkt Len Min', 'Pkt Size Avg'], 'Adv sample 331': ['SYN Flag Cnt', 'Bwd Header Len', 'Bwd Pkts/s', 'Fwd Pkt Len Std', 'FIN Flag Cnt', 'Fwd Pkt Len Mean', 'Fwd Pkt Len Max', 'Down/Up Ratio', 'Init Fwd Win Byts', 'Fwd Seg Size Avg'], 'Adv sample 332': ['Bwd Header Len', 'SYN Flag Cnt', 'Tot Bwd Pkts', 'Fwd Pkt Len Std', 'Fwd Pkt Len Max', 'Subflow Bwd Pkts', 'Pkt Len Min', 'Fwd Pkt Len Mean', 'Fwd Seg Size Avg', 'Pkt Len Max'], 'Adv sample 333': ['SYN Flag Cnt', 'FIN Flag Cnt', 'Bwd Header Len', 'Bwd Pkts/s', 'Fwd IAT Std', 'Subflow Bwd Pkts', 'Fwd Pkt Len Std', 'Fwd Pkt Len Mean', 'Down/Up Ratio', 'Fwd Pkt Len Max'], 'Adv sample 334': ['Bwd Header Len', 'SYN Flag Cnt', 'Subflow Bwd Pkts', 'Tot Bwd Pkts', 'Fwd Seg Size Avg', 'Fwd Pkt Len Std', 'Fwd Pkt Len Mean', 'FIN Flag Cnt', 'Fwd Pkt Len Max', 'Fwd Pkt Len Min'], 'Adv sample 335': ['SYN Flag Cnt', 'Bwd Header Len', 'FIN Flag Cnt', 'Bwd Pkts/s', 'Fwd IAT Std', 'TotLen Fwd Pkts', 'Fwd Pkt Len Max', 'Fwd Pkt Len Std', 'Fwd Seg Size Avg', 'Init Fwd Win Byts'], 'Adv sample 336': ['ACK Flag Cnt', 'Bwd Header Len', 'SYN Flag Cnt', 'Fwd Pkt Len Max', 'Fwd Pkt Len Std', 'Init Fwd Win Byts', 'Bwd Pkts/s', 'Pkt Len Max', 'Down/Up Ratio', 'Pkt Len Min'], 'Adv sample 337': ['Fwd Pkt Len Std', 'Fwd Pkt Len Max', 'Fwd Pkt Len Mean', 'Pkt Len Std', 'Pkt Len Max', 'Pkt Len Mean', 'Fwd Seg Size Avg', 'Bwd Pkt Len Std', 'Pkt Size Avg', 'Fwd Act Data Pkts'], 'Adv sample 338': ['SYN Flag Cnt', 'FIN Flag Cnt', 'Fwd Pkt Len Std', 'Down/Up Ratio', 'Fwd Pkt Len Max', 'Bwd Pkts/s', 'Pkt Len Mean', 'Fwd Pkt Len Mean', 'Fwd Pkt Len Min', 'Tot Bwd Pkts'], 'Adv sample 339': ['ACK Flag Cnt', 'Bwd Header Len', 'SYN Flag Cnt', 'Init Fwd Win Byts', 'Fwd Pkt Len Std', 'Fwd Pkt Len Max', 'Fwd Pkt Len Mean', 'Pkt Len Max', 'Pkt Size Avg', 'Bwd Pkts/s'], 'Adv sample 340': ['Fwd Pkt Len Std', 'ACK Flag Cnt', 'Fwd Pkt Len Max', 'SYN Flag Cnt', 'Down/Up Ratio', 'Fwd Pkt Len Mean', 'Fwd Seg Size Avg', 'Pkt Size Avg', 'Fwd Header Len', 'Pkt Len Std'], 'Adv sample 341': ['Bwd Header Len', 'SYN Flag Cnt', 'FIN Flag Cnt', 'Bwd Pkts/s', 'Fwd Pkt Len Max', 'Fwd Pkt Len Std', 'Fwd Pkt Len Mean', 'Pkt Len Mean', 'Subflow Bwd Pkts', 'Bwd Pkt Len Min'], 'Adv sample 342': ['Bwd Header Len', 'SYN Flag Cnt', 'FIN Flag Cnt', 'Fwd Pkt Len Std', 'Bwd Pkts/s', 'Fwd Pkt Len Max', 'Fwd Pkt Len Min', 'Fwd Pkt Len Mean', 'Pkt Len Max', 'Pkt Len Min'], 'Adv sample 343': ['SYN Flag Cnt', 'Bwd Header Len', 'FIN Flag Cnt', 'Fwd Pkt Len Std', 'TotLen Fwd Pkts', 'Bwd Pkts/s', 'Fwd Seg Size Avg', 'Fwd Act Data Pkts', 'Subflow Bwd Pkts', 'Tot Bwd Pkts'], 'Adv sample 344': ['SYN Flag Cnt', 'Bwd Header Len', 'Bwd Pkts/s', 'Fwd Pkt Len Max', 'FIN Flag Cnt', 'Fwd Pkt Len Std', 'Down/Up Ratio', 'Fwd Act Data Pkts', 'Fwd Pkt Len Mean', 'Pkt Len Max'], 'Adv sample 345': ['Fwd Pkt Len Std', 'Fwd Pkt Len Max', 'Bwd IAT Tot', 'Idle Mean', 'Pkt Size Avg', 'ACK Flag Cnt', 'Pkt Len Std', 'Down/Up Ratio', 'Pkt Len Max', 'Pkt Len Mean'], 'Adv sample 346': ['SYN Flag Cnt', 'Bwd Header Len', 'FIN Flag Cnt', 'Fwd Pkt Len Mean', 'Fwd Seg Size Avg', 'Fwd Act Data Pkts', 'Tot Bwd Pkts', 'ACK Flag Cnt', 'Bwd Pkts/s', 'Fwd Pkt Len Std'], 'Adv sample 347': ['SYN Flag Cnt', 'FIN Flag Cnt', 'Fwd Pkt Len Std', 'Down/Up Ratio', 'Fwd Pkt Len Max', 'Fwd Pkt Len Mean', 'Bwd Pkts/s', 'Fwd Header Len', 'ACK Flag Cnt', 'Fwd Seg Size Avg'], 'Adv sample 348': ['Fwd Pkt Len Std', 'Fwd Pkt Len Mean', 'Fwd Pkt Len Max', 'Pkt Len Std', 'Fwd Seg Size Avg', 'Pkt Len Mean', 'Fwd Header Len', 'Init Fwd Win Byts', 'Pkt Len Max', 'Pkt Size Avg'], 'Adv sample 349': ['Bwd Header Len', 'Idle Min', 'SYN Flag Cnt', 'Bwd Pkts/s', 'Fwd Pkt Len Std', 'Tot Bwd Pkts', 'Fwd IAT Std', 'Flow Pkts/s', 'Subflow Bwd Pkts', 'Pkt Len Min'], 'Adv sample 350': ['SYN Flag Cnt', 'Bwd Header Len', 'Bwd Pkts/s', 'Fwd Pkt Len Max', 'Fwd Pkt Len Std', 'Pkt Len Min', 'Fwd Pkt Len Mean', 'FIN Flag Cnt', 'Bwd Pkt Len Min', 'Init Fwd Win Byts'], 'Adv sample 351': ['Fwd Pkt Len Std', 'FIN Flag Cnt', 'Fwd Pkt Len Mean', 'Pkt Len Std', 'Tot Fwd Pkts', 'Fwd Pkt Len Max', 'Pkt Len Mean', 'Bwd Pkts/s', 'Pkt Len Max', 'Fwd Seg Size Avg'], 'Adv sample 352': ['Fwd Pkt Len Std', 'ACK Flag Cnt', 'Fwd Pkt Len Max', 'Fwd Pkt Len Mean', 'Fwd Seg Size Avg', 'SYN Flag Cnt', 'Down/Up Ratio', 'Pkt Size Avg', 'Flow Byts/s', 'Pkt Len Std'], 'Adv sample 353': ['Init Fwd Win Byts', 'Fwd Pkt Len Std', 'Fwd Pkt Len Max', 'Down/Up Ratio', 'Pkt Len Std', 'Fwd Pkt Len Mean', 'Pkt Len Min', 'Fwd Pkt Len Min', 'Bwd Pkts/s', 'FIN Flag Cnt'], 'Adv sample 354': ['SYN Flag Cnt', 'Fwd Pkt Len Std', 'Fwd Pkt Len Max', 'Pkt Size Avg', 'Fwd Pkt Len Mean', 'Fwd Header Len', 'Pkt Len Std', 'Pkt Len Max', 'Fwd Seg Size Avg', 'Pkt Len Mean'], 'Adv sample 355': ['SYN Flag Cnt', 'Fwd Pkt Len Std', 'Down/Up Ratio', 'Fwd Pkt Len Max', 'Pkt Len Min', 'Pkt Size Avg', 'Fwd Pkt Len Mean', 'FIN Flag Cnt', 'Bwd Pkts/s', 'Pkt Len Mean'], 'Adv sample 356': ['Bwd Header Len', 'SYN Flag Cnt', 'Bwd Pkts/s', 'Down/Up Ratio', 'Fwd Pkt Len Max', 'Fwd Pkt Len Std', 'FIN Flag Cnt', 'Pkt Size Avg', 'Pkt Len Max', 'Tot Bwd Pkts'], 'Adv sample 357': ['SYN Flag Cnt', 'Bwd Header Len', 'Pkt Size Avg', 'Bwd Pkts/s', 'Fwd Pkt Len Std', 'FIN Flag Cnt', 'Fwd Pkt Len Mean', 'Fwd Pkt Len Max', 'Pkt Len Mean', 'Flow Pkts/s'], 'Adv sample 358': ['SYN Flag Cnt', 'Bwd Header Len', 'FIN Flag Cnt', 'Fwd Act Data Pkts', 'Fwd IAT Std', 'TotLen Fwd Pkts', 'Pkt Len Min', 'Fwd Pkt Len Std', 'Fwd Pkt Len Max', 'Init Fwd Win Byts'], 'Adv sample 359': ['Bwd Header Len', 'SYN Flag Cnt', 'Fwd Pkt Len Std', 'Bwd PSH Flags', 'Fwd Pkt Len Max', 'Pkt Len Min', 'Tot Bwd Pkts', 'Fwd Act Data Pkts', 'Bwd IAT Std', 'Bwd Pkts/s'], 'Adv sample 360': ['Fwd Pkt Len Std', 'Fwd Pkt Len Max', 'Pkt Len Std', 'Bwd Pkts/s', 'Pkt Len Min', 'Fwd Pkt Len Mean', 'Subflow Bwd Pkts', 'Tot Fwd Pkts', 'Tot Bwd Pkts', 'Fwd Seg Size Avg'], 'Adv sample 361': ['Fwd Pkt Len Mean', 'Fwd Pkt Len Std', 'Pkt Len Std', 'Fwd Seg Size Avg', 'Fwd Pkt Len Max', 'Pkt Size Avg', 'Pkt Len Max', 'Pkt Len Mean', 'Bwd Seg Size Avg', 'Bwd Pkt Len Std'], 'Adv sample 362': ['Fwd Pkt Len Std', 'Init Fwd Win Byts', 'Fwd Pkt Len Max', 'FIN Flag Cnt', 'Fwd Pkt Len Mean', 'Down/Up Ratio', 'Pkt Len Max', 'Bwd Pkts/s', 'Pkt Len Std', 'Fwd Byts/b Avg'], 'Adv sample 363': ['Fwd Pkt Len Std', 'Bwd Header Len', 'SYN Flag Cnt', 'Fwd IAT Tot', 'Fwd Act Data Pkts', 'Fwd Pkt Len Max', 'Down/Up Ratio', 'Fwd Header Len', 'Fwd Pkt Len Mean', 'Subflow Bwd Pkts'], 'Adv sample 364': ['Fwd Pkt Len Std', 'Fwd Pkt Len Max', 'Fwd Pkt Len Mean', 'Pkt Len Std', 'Pkt Size Avg', 'FIN Flag Cnt', 'Pkt Len Max', 'Tot Bwd Pkts', 'Pkt Len Min', 'Fwd Header Len'], 'Adv sample 365': ['SYN Flag Cnt', 'Fwd Pkt Len Max', 'Fwd Pkt Len Std', 'Pkt Len Std', 'Fwd Pkt Len Mean', 'Fwd Header Len', 'Pkt Len Mean', 'Pkt Len Max', 'Bwd Pkts/s', 'Fwd Act Data Pkts'], 'Adv sample 366': ['Bwd Header Len', 'SYN Flag Cnt', 'Fwd Seg Size Avg', 'Tot Bwd Pkts', 'Subflow Bwd Pkts', 'FIN Flag Cnt', 'Fwd Pkt Len Std', 'Fwd Pkt Len Min', 'Fwd Pkt Len Mean', 'Pkt Len Std'], 'Adv sample 367': ['SYN Flag Cnt', 'Bwd Header Len', 'FIN Flag Cnt', 'Fwd Pkt Len Mean', 'ACK Flag Cnt', 'Fwd Pkt Len Max', 'Fwd Act Data Pkts', 'Tot Bwd Pkts', 'Fwd Seg Size Avg', 'Subflow Bwd Pkts'], 'Adv sample 368': ['SYN Flag Cnt', 'Bwd Header Len', 'FIN Flag Cnt', 'Fwd Pkt Len Mean', 'Bwd Pkts/s', 'Fwd Pkt Len Std', 'Fwd IAT Std', 'Pkt Len Max', 'Fwd Act Data Pkts', 'Fwd Seg Size Avg'], 'Adv sample 369': ['Fwd Pkt Len Std', 'Fwd Pkt Len Max', 'Bwd Pkts/s', 'Fwd Pkt Len Mean', 'Pkt Size Avg', 'Tot Fwd Pkts', 'Subflow Fwd Pkts', 'Fwd Header Len', 'Pkt Len Max', 'Pkt Len Mean'], 'Adv sample 370': ['SYN Flag Cnt', 'Fwd Pkt Len Std', 'Fwd Pkt Len Max', 'Fwd Pkt Len Mean', 'Fwd Header Len', 'Fwd Seg Size Avg', 'Pkt Size Avg', 'Pkt Len Std', 'Bwd Header Len', 'Subflow Fwd Pkts'], 'Adv sample 371': ['SYN Flag Cnt', 'Bwd Header Len', 'FIN Flag Cnt', 'Bwd Pkts/s', 'Fwd Pkt Len Std', 'Fwd Pkt Len Mean', 'Tot Bwd Pkts', 'Subflow Bwd Pkts', 'Fwd Pkt Len Max', 'Bwd Pkt Len Min'], 'Adv sample 372': ['SYN Flag Cnt', 'Bwd Header Len', 'Fwd Pkt Len Std', 'Fwd Seg Size Avg', 'FIN Flag Cnt', 'Fwd Pkt Len Max', 'Pkt Len Min', 'Tot Bwd Pkts', 'Fwd Pkt Len Min', 'Subflow Bwd Pkts'], 'Adv sample 373': ['ACK Flag Cnt', 'SYN Flag Cnt', 'Init Fwd Win Byts', 'Fwd Pkt Len Std', 'Fwd Pkt Len Max', 'Fwd Seg Size Avg', 'Fwd Pkt Len Mean', 'Pkt Len Std', 'Pkt Len Max', 'Fwd Act Data Pkts'], 'Adv sample 374': ['SYN Flag Cnt', 'Bwd Header Len', 'Bwd Pkts/s', 'Fwd Pkt Len Std', 'Fwd Pkt Len Max', 'Tot Bwd Pkts', 'FIN Flag Cnt', 'Pkt Size Avg', 'Fwd Pkt Len Mean', 'TotLen Fwd Pkts'], 'Adv sample 375': ['Fwd Pkt Len Std', 'Fwd Pkt Len Max', 'Fwd Pkt Len Mean', 'Subflow Fwd Pkts', 'Pkt Size Avg', 'Fwd Header Len', 'Pkt Len Max', 'ACK Flag Cnt', 'Pkt Len Mean', 'Bwd Pkts/s'], 'Adv sample 376': ['Bwd Header Len', 'SYN Flag Cnt', 'Bwd Pkts/s', 'Fwd Pkt Len Std', 'FIN Flag Cnt', 'Fwd Pkt Len Max', 'Down/Up Ratio', 'Pkt Len Min', 'Fwd Pkt Len Mean', 'Pkt Size Avg'], 'Adv sample 377': ['SYN Flag Cnt', 'Bwd Header Len', 'Bwd Pkts/s', 'Fwd Pkt Len Max', 'Fwd Pkt Len Std', 'Fwd Pkt Len Mean', 'Bwd IAT Std', 'FIN Flag Cnt', 'Fwd Seg Size Avg', 'Pkt Len Max'], 'Adv sample 378': ['SYN Flag Cnt', 'Fwd Pkt Len Max', 'Fwd Pkt Len Std', 'Fwd Header Len', 'Fwd Seg Size Avg', 'Fwd Pkt Len Mean', 'Pkt Len Max', 'Pkt Len Mean', 'Bwd Pkts/s', 'Tot Fwd Pkts'], 'Adv sample 379': ['SYN Flag Cnt', 'Bwd Header Len', 'FIN Flag Cnt', 'Fwd Pkt Len Std', 'Bwd Pkts/s', 'Fwd IAT Std', 'Fwd Act Data Pkts', 'Bwd Pkt Len Min', 'Pkt Len Max', 'Fwd Pkt Len Max'], 'Adv sample 380': ['Fwd Pkt Len Std', 'Pkt Len Std', 'Fwd Pkt Len Max', 'Tot Bwd Pkts', 'Fwd Pkt Len Mean', 'Fwd Seg Size Avg', 'Pkt Size Avg', 'Bwd Pkts/s', 'Subflow Fwd Pkts', 'Pkt Len Max'], 'Adv sample 381': ['Bwd Header Len', 'SYN Flag Cnt', 'Fwd Pkt Len Std', 'Fwd Pkt Len Max', 'Fwd Seg Size Avg', 'Fwd Act Data Pkts', 'Subflow Bwd Pkts', 'Idle Min', 'Pkt Len Max', 'Flow Pkts/s'], 'Adv sample 382': ['Fwd Pkt Len Std', 'Fwd Pkt Len Max', 'Fwd IAT Tot', 'Fwd Pkt Len Mean', 'Pkt Len Std', 'Fwd Seg Size Avg', 'Init Fwd Win Byts', 'Pkt Len Max', 'FIN Flag Cnt', 'Bwd Pkts/s'], 'Adv sample 383': ['SYN Flag Cnt', 'Fwd Pkt Len Std', 'Fwd Pkt Len Max', 'Down/Up Ratio', 'FIN Flag Cnt', 'Fwd Pkt Len Mean', 'Pkt Len Mean', 'Fwd Seg Size Avg', 'Pkt Size Avg', 'Pkt Len Std'], 'Adv sample 384': ['Bwd Header Len', 'SYN Flag Cnt', 'FIN Flag Cnt', 'Fwd Pkt Len Std', 'Bwd Pkts/s', 'Fwd Pkt Len Max', 'Pkt Size Avg', 'Pkt Len Mean', 'Fwd Pkt Len Mean', 'Subflow Bwd Pkts'], 'Adv sample 385': ['Bwd Header Len', 'SYN Flag Cnt', 'Subflow Bwd Pkts', 'Tot Bwd Pkts', 'Fwd Seg Size Avg', 'Pkt Len Min', 'FIN Flag Cnt', 'Bwd Pkt Len Min', 'Fwd Pkt Len Min', 'Fwd IAT Std'], 'Adv sample 386': ['Fwd Pkt Len Std', 'Bwd Pkts/s', 'Fwd Pkt Len Max', 'Fwd Pkt Len Mean', 'Fwd Header Len', 'Tot Bwd Pkts', 'Pkt Size Avg', 'Tot Fwd Pkts', 'Fwd Seg Size Avg', 'Flow Pkts/s'], 'Adv sample 387': ['PSH Flag Cnt', 'Init Fwd Win Byts', 'Down/Up Ratio', 'ACK Flag Cnt', 'SYN Flag Cnt', 'Subflow Bwd Pkts', 'Bwd PSH Flags', 'Bwd Pkts/s', 'Tot Bwd Pkts', 'Bwd IAT Tot'], 'Adv sample 388': ['SYN Flag Cnt', 'Fwd Pkt Len Std', 'Fwd Pkt Len Max', 'Down/Up Ratio', 'FIN Flag Cnt', 'Bwd Pkts/s', 'Fwd Pkt Len Mean', 'Pkt Len Std', 'Pkt Len Mean', 'Pkt Size Avg'], 'Adv sample 389': ['SYN Flag Cnt', 'Fwd Pkt Len Std', 'Fwd Pkt Len Max', 'Down/Up Ratio', 'FIN Flag Cnt', 'Bwd Pkts/s', 'Fwd Pkt Len Mean', 'Pkt Size Avg', 'Pkt Len Max', 'Pkt Len Std'], 'Adv sample 390': ['SYN Flag Cnt', 'Bwd Header Len', 'FIN Flag Cnt', 'TotLen Fwd Pkts', 'Fwd Pkt Len Max', 'Fwd IAT Std', 'Bwd Pkts/s', 'Pkt Len Max', 'Tot Bwd Pkts', 'Fwd Pkt Len Mean'], 'Adv sample 391': ['SYN Flag Cnt', 'FIN Flag Cnt', 'Bwd Header Len', 'Fwd Pkt Len Std', 'Bwd Pkts/s', 'Fwd Pkt Len Max', 'Fwd Pkt Len Mean', 'Fwd Seg Size Avg', 'Pkt Len Min', 'Subflow Bwd Pkts'], 'Adv sample 392': ['SYN Flag Cnt', 'Bwd Header Len', 'FIN Flag Cnt', 'Fwd Act Data Pkts', 'TotLen Fwd Pkts', 'Pkt Len Min', 'Fwd IAT Std', 'Down/Up Ratio', 'ACK Flag Cnt', 'Fwd Seg Size Avg'], 'Adv sample 393': ['SYN Flag Cnt', 'FIN Flag Cnt', 'Bwd Header Len', 'Bwd Pkts/s', 'Fwd Pkt Len Std', 'Tot Bwd Pkts', 'Fwd Pkt Len Mean', 'Fwd Seg Size Avg', 'Pkt Len Min', 'Fwd Act Data Pkts'], 'Adv sample 394': ['SYN Flag Cnt', 'Bwd Header Len', 'FIN Flag Cnt', 'Bwd Pkts/s', 'Fwd Act Data Pkts', 'Fwd Pkt Len Std', 'Subflow Bwd Pkts', 'Pkt Len Mean', 'Init Fwd Win Byts', 'Tot Bwd Pkts'], 'Adv sample 395': ['Bwd Header Len', 'SYN Flag Cnt', 'Bwd Pkts/s', 'FIN Flag Cnt', 'Fwd Pkt Len Std', 'Fwd Seg Size Avg', 'Pkt Len Max', 'Fwd Pkt Len Max', 'Pkt Size Avg', 'Fwd Pkt Len Min'], 'Adv sample 396': ['Bwd Header Len', 'SYN Flag Cnt', 'FIN Flag Cnt', 'Bwd Pkts/s', 'Pkt Size Avg', 'Fwd Pkt Len Std', 'Fwd Pkt Len Mean', 'Fwd Pkt Len Max', 'Pkt Len Min', 'Pkt Len Max'], 'Adv sample 397': ['Bwd Header Len', 'SYN Flag Cnt', 'Tot Bwd Pkts', 'Subflow Bwd Pkts', 'Fwd Seg Size Avg', 'Pkt Len Min', 'FIN Flag Cnt', 'Fwd Pkt Len Min', 'Bwd Pkt Len Min', 'Fwd IAT Std'], 'Adv sample 398': ['Bwd Header Len', 'SYN Flag Cnt', 'Bwd Pkts/s', 'Fwd Pkt Len Std', 'FIN Flag Cnt', 'Fwd Pkt Len Max', 'Fwd Pkt Len Mean', 'Bwd Pkt Len Min', 'Pkt Len Min', 'Fwd Seg Size Avg'], 'Adv sample 399': ['Bwd Header Len', 'SYN Flag Cnt', 'Bwd Pkts/s', 'Down/Up Ratio', 'Fwd Pkt Len Std', 'FIN Flag Cnt', 'Fwd Pkt Len Mean', 'Pkt Len Min', 'Pkt Len Mean', 'Bwd Pkt Len Min'], 'Adv sample 400': ['Fwd Pkt Len Std', 'Bwd Header Len', 'Fwd Pkt Len Max', 'Subflow Bwd Pkts', 'Flow Byts/s', 'SYN Flag Cnt', 'Fwd Header Len', 'Pkt Len Std', 'Pkt Len Max', 'Fwd Pkt Len Mean'], 'Adv sample 401': ['Bwd Header Len', 'SYN Flag Cnt', 'Tot Bwd Pkts', 'Subflow Bwd Pkts', 'Fwd Seg Size Avg', 'FIN Flag Cnt', 'Pkt Len Min', 'Fwd IAT Std', 'Fwd IAT Tot', 'Fwd Pkt Len Min'], 'Adv sample 402': ['SYN Flag Cnt', 'Bwd Header Len', 'FIN Flag Cnt', 'Fwd Pkt Len Std', 'Fwd Seg Size Avg', 'Fwd Pkt Len Mean', 'Subflow Bwd Pkts', 'Bwd Pkts/s', 'Fwd Act Data Pkts', 'Fwd IAT Std'], 'Adv sample 403': ['SYN Flag Cnt', 'Bwd Header Len', 'FIN Flag Cnt', 'Fwd Pkt Len Std', 'Bwd Pkts/s', 'Fwd Pkt Len Mean', 'Fwd Act Data Pkts', 'Init Fwd Win Byts', 'Subflow Bwd Pkts', 'Fwd IAT Std'], 'Adv sample 404': ['Fwd Pkt Len Std', 'Fwd Pkt Len Max', 'Pkt Len Max', 'Tot Fwd Pkts', 'Pkt Size Avg', 'Fwd Pkt Len Mean', 'ACK Flag Cnt', 'Fwd Seg Size Avg', 'Pkt Len Std', 'FIN Flag Cnt'], 'Adv sample 405': ['Bwd Header Len', 'Fwd Pkt Len Std', 'Bwd PSH Flags', 'SYN Flag Cnt', 'Fwd Pkt Len Max', 'Bwd Pkts/s', 'Pkt Size Avg', 'Fwd Pkt Len Mean', 'Tot Bwd Pkts', 'Fwd Pkt Len Min'], 'Adv sample 406': ['Bwd Header Len', 'SYN Flag Cnt', 'Fwd Pkt Len Std', 'Tot Bwd Pkts', 'Subflow Bwd Pkts', 'FIN Flag Cnt', 'Pkt Len Max', 'Fwd Pkt Len Mean', 'Bwd Pkt Len Min', 'Fwd Pkt Len Max'], 'Adv sample 407': ['Bwd Header Len', 'SYN Flag Cnt', 'Tot Bwd Pkts', 'Subflow Bwd Pkts', 'Fwd Seg Size Avg', 'Pkt Len Min', 'Bwd Pkt Len Min', 'Fwd Pkt Len Min', 'FIN Flag Cnt', 'Fwd IAT Std'], 'Adv sample 408': ['SYN Flag Cnt', 'Bwd Header Len', 'FIN Flag Cnt', 'Fwd Pkt Len Max', 'Bwd Pkts/s', 'Fwd Pkt Len Std', 'Tot Bwd Pkts', 'Pkt Size Avg', 'Pkt Len Mean', 'Pkt Len Min'], 'Adv sample 409': ['SYN Flag Cnt', 'Bwd Header Len', 'Bwd Pkts/s', 'Fwd Pkt Len Std', 'Pkt Size Avg', 'Fwd Pkt Len Max', 'FIN Flag Cnt', 'Fwd Pkt Len Mean', 'ACK Flag Cnt', 'Fwd Header Len'], 'Adv sample 410': ['Init Fwd Win Byts', 'Fwd Pkt Len Std', 'Down/Up Ratio', 'Fwd Pkt Len Max', 'Fwd Pkt Len Mean', 'Bwd Pkts/s', 'FIN Flag Cnt', 'Subflow Bwd Pkts', 'Fwd Pkt Len Min', 'Fwd Seg Size Avg'], 'Adv sample 411': ['Bwd Header Len', 'SYN Flag Cnt', 'Fwd Pkt Len Std', 'Subflow Bwd Pkts', 'Tot Bwd Pkts', 'Fwd Pkt Len Min', 'Fwd Seg Size Avg', 'Fwd Pkt Len Mean', 'Fwd Pkt Len Max', 'Pkt Len Std'], 'Adv sample 412': ['SYN Flag Cnt', 'Fwd Pkt Len Std', 'Down/Up Ratio', 'Fwd Pkt Len Max', 'FIN Flag Cnt', 'Bwd Pkts/s', 'Pkt Len Max', 'Pkt Len Min', 'Pkt Len Std', 'Pkt Size Avg'], 'Adv sample 413': ['ACK Flag Cnt', 'Init Fwd Win Byts', 'SYN Flag Cnt', 'Fwd Pkt Len Std', 'Fwd Pkt Len Max', 'Fwd Pkt Len Mean', 'Pkt Len Mean', 'Flow Byts/s', 'Pkt Len Max', 'Fwd Seg Size Avg'], 'Adv sample 414': ['SYN Flag Cnt', 'Bwd Header Len', 'Bwd Pkts/s', 'FIN Flag Cnt', 'Fwd Pkt Len Max', 'Fwd Pkt Len Std', 'Pkt Size Avg', 'Pkt Len Min', 'Pkt Len Std', 'Fwd Header Len'], 'Adv sample 415': ['Fwd Pkt Len Std', 'Fwd Pkt Len Max', 'Fwd Pkt Len Mean', 'Fwd Seg Size Avg', 'Pkt Len Mean', 'Pkt Size Avg', 'Pkt Len Std', 'Bwd Pkts/s', 'Fwd Act Data Pkts', 'Pkt Len Min'], 'Adv sample 416': ['Bwd Header Len', 'SYN Flag Cnt', 'FIN Flag Cnt', 'Bwd Pkts/s', 'Fwd Pkt Len Max', 'Fwd Pkt Len Std', 'Pkt Size Avg', 'Fwd Pkt Len Mean', 'Pkt Len Min', 'Flow Pkts/s'], 'Adv sample 417': ['SYN Flag Cnt', 'FIN Flag Cnt', 'Bwd Header Len', 'Bwd Pkts/s', 'Fwd Pkt Len Mean', 'Fwd Pkt Len Max', 'Pkt Len Min', 'Fwd Pkt Len Std', 'TotLen Fwd Pkts', 'Subflow Bwd Pkts'], 'Adv sample 418': ['Fwd Pkt Len Std', 'Fwd Pkt Len Max', 'Pkt Len Std', 'Fwd Pkt Len Mean', 'Pkt Len Mean', 'Fwd Seg Size Avg', 'Pkt Len Max', 'Pkt Size Avg', 'ACK Flag Cnt', 'Bwd Pkt Len Std'], 'Adv sample 419': ['ACK Flag Cnt', 'SYN Flag Cnt', 'Init Fwd Win Byts', 'Fwd Pkt Len Std', 'Fwd Pkt Len Max', 'Fwd Pkt Len Mean', 'Pkt Len Std', 'Fwd Seg Size Avg', 'Pkt Len Mean', 'Fwd Act Data Pkts'], 'Adv sample 420': ['Fwd Pkt Len Std', 'Fwd Pkt Len Max', 'ACK Flag Cnt', 'SYN Flag Cnt', 'Fwd Pkt Len Mean', 'Pkt Len Std', 'Down/Up Ratio', 'Pkt Size Avg', 'Fwd Seg Size Avg', 'Bwd Pkt Len Min'], 'Adv sample 421': ['Fwd Pkt Len Std', 'Fwd Pkt Len Max', 'Pkt Size Avg', 'Fwd Pkt Len Mean', 'Pkt Len Min', 'Tot Fwd Pkts', 'FIN Flag Cnt', 'Fwd Pkt Len Min', 'Pkt Len Std', 'Fwd Seg Size Avg'], 'Adv sample 422': ['SYN Flag Cnt', 'Fwd Pkt Len Std', 'Pkt Size Avg', 'Bwd Header Len', 'Down/Up Ratio', 'Fwd Pkt Len Min', 'Fwd Seg Size Avg', 'Fwd Act Data Pkts', 'Bwd Pkt Len Min', 'Tot Bwd Pkts'], 'Adv sample 423': ['Fwd Pkt Len Std', 'Fwd Pkt Len Max', 'Fwd Pkt Len Mean', 'Tot Bwd Pkts', 'Pkt Len Max', 'Pkt Len Mean', 'Bwd Pkts/s', 'Pkt Len Std', 'FIN Flag Cnt', 'Fwd Header Len'], 'Adv sample 424': ['SYN Flag Cnt', 'Fwd Pkt Len Std', 'Down/Up Ratio', 'Fwd Pkt Len Max', 'FIN Flag Cnt', 'Bwd Pkts/s', 'Subflow Fwd Pkts', 'Fwd Pkt Len Min', 'Tot Fwd Pkts', 'Pkt Len Mean'], 'Adv sample 425': ['Bwd Header Len', 'SYN Flag Cnt', 'Fwd Pkt Len Mean', 'Tot Bwd Pkts', 'Fwd Pkt Len Std', 'Subflow Bwd Pkts', 'Pkt Len Min', 'Fwd Pkt Len Max', 'Pkt Size Avg', 'Fwd Seg Size Avg'], 'Adv sample 426': ['Init Fwd Win Byts', 'Fwd Pkt Len Std', 'Down/Up Ratio', 'Bwd Pkts/s', 'FIN Flag Cnt', 'Fwd Pkt Len Max', 'Fwd Pkt Len Min', 'Pkt Size Avg', 'Pkt Len Min', 'Subflow Fwd Pkts'], 'Adv sample 427': ['SYN Flag Cnt', 'Bwd Header Len', 'Bwd Pkts/s', 'Fwd Pkt Len Std', 'Fwd Pkt Len Max', 'Subflow Bwd Pkts', 'Fwd Pkt Len Mean', 'Pkt Len Mean', 'Init Fwd Win Byts', 'FIN Flag Cnt'], 'Adv sample 428': ['SYN Flag Cnt', 'Bwd Header Len', 'Fwd Pkt Len Max', 'Fwd Pkt Len Std', 'Bwd Pkts/s', 'Fwd Pkt Len Mean', 'FIN Flag Cnt', 'Pkt Len Max', 'Fwd Seg Size Avg', 'Pkt Len Min'], 'Adv sample 429': ['Bwd Header Len', 'SYN Flag Cnt', 'Fwd Pkt Len Std', 'Fwd Pkt Len Min', 'Tot Bwd Pkts', 'Fwd Seg Size Avg', 'Bwd Pkt Len Min', 'Fwd Pkt Len Max', 'Pkt Len Max', 'Subflow Bwd Pkts'], 'Adv sample 430': ['SYN Flag Cnt', 'Bwd Header Len', 'FIN Flag Cnt', 'Fwd Pkt Len Std', 'Bwd Pkts/s', 'TotLen Fwd Pkts', 'Fwd Seg Size Avg', 'Fwd Pkt Len Max', 'Fwd IAT Std', 'Tot Bwd Pkts'], 'Adv sample 431': ['SYN Flag Cnt', 'Bwd Header Len', 'FIN Flag Cnt', 'Bwd Pkts/s', 'Fwd Pkt Len Max', 'Fwd Pkt Len Std', 'Fwd IAT Std', 'Subflow Bwd Pkts', 'Fwd IAT Tot', 'Fwd Pkt Len Mean'], 'Adv sample 432': ['SYN Flag Cnt', 'Bwd Header Len', 'FIN Flag Cnt', 'Bwd Pkts/s', 'Fwd IAT Std', 'Tot Bwd Pkts', 'Fwd Pkt Len Std', 'Fwd Seg Size Avg', 'Subflow Bwd Pkts', 'Bwd Pkt Len Min'], 'Adv sample 433': ['Bwd Header Len', 'SYN Flag Cnt', 'Bwd Pkts/s', 'Fwd Pkt Len Std', 'FIN Flag Cnt', 'Fwd Pkt Len Max', 'Tot Bwd Pkts', 'Pkt Size Avg', 'Down/Up Ratio', 'Subflow Bwd Pkts'], 'Adv sample 434': ['Fwd Pkt Len Std', 'Fwd Pkt Len Max', 'Fwd Pkt Len Mean', 'Pkt Size Avg', 'Pkt Len Max', 'Fwd Seg Size Avg', 'Pkt Len Mean', 'FIN Flag Cnt', 'Fwd Header Len', 'Bwd Pkts/s'], 'Adv sample 435': ['Init Fwd Win Byts', 'Fwd Pkt Len Std', 'Fwd Pkt Len Max', 'Down/Up Ratio', 'Fwd Pkt Len Mean', 'Pkt Len Std', 'Pkt Len Max', 'Flow Pkts/s', 'Bwd Pkts/s', 'Pkt Len Min'], 'Adv sample 436': ['Fwd Pkt Len Std', 'Fwd Pkt Len Max', 'ACK Flag Cnt', 'SYN Flag Cnt', 'Down/Up Ratio', 'Pkt Size Avg', 'Fwd Pkt Len Mean', 'Pkt Len Max', 'Fwd Seg Size Avg', 'Bwd Pkts/s'], 'Adv sample 437': ['Bwd Header Len', 'Fwd Pkt Len Std', 'Fwd Pkt Len Mean', 'SYN Flag Cnt', 'Tot Fwd Pkts', 'Subflow Bwd Byts', 'Fwd IAT Max', 'Pkt Len Std', 'Fwd Pkt Len Max', 'Flow Pkts/s'], 'Adv sample 438': ['Bwd Header Len', 'SYN Flag Cnt', 'Subflow Bwd Pkts', 'Tot Bwd Pkts', 'Fwd Pkt Len Std', 'Fwd Pkt Len Max', 'Fwd Seg Size Avg', 'Pkt Len Min', 'Fwd Pkt Len Mean', 'Fwd Pkt Len Min'], 'Adv sample 439': ['Fwd Pkt Len Std', 'ACK Flag Cnt', 'Fwd Pkt Len Max', 'SYN Flag Cnt', 'Down/Up Ratio', 'Fwd Pkt Len Mean', 'Pkt Len Std', 'Fwd Seg Size Avg', 'Fwd Pkt Len Min', 'Pkt Size Avg'], 'Adv sample 440': ['Init Fwd Win Byts', 'Fwd Pkt Len Std', 'Down/Up Ratio', 'Fwd Pkt Len Mean', 'Pkt Len Std', 'Fwd Pkt Len Max', 'Pkt Len Min', 'Pkt Len Max', 'Bwd Pkts/s', 'Fwd Pkt Len Min'], 'Adv sample 441': ['ACK Flag Cnt', 'SYN Flag Cnt', 'Bwd Header Len', 'Fwd Pkt Len Std', 'Fwd Pkt Len Max', 'Bwd Pkts/s', 'Init Fwd Win Byts', 'Fwd Pkt Len Mean', 'Down/Up Ratio', 'Pkt Len Max'], 'Adv sample 442': ['ACK Flag Cnt', 'SYN Flag Cnt', 'Bwd Header Len', 'Init Fwd Win Byts', 'Fwd Pkt Len Max', 'Bwd Pkts/s', 'Fwd Pkt Len Std', 'Pkt Len Max', 'Fwd Pkt Len Mean', 'Fwd Seg Size Avg'], 'Adv sample 443': ['SYN Flag Cnt', 'Bwd Header Len', 'FIN Flag Cnt', 'ACK Flag Cnt', 'Fwd Pkt Len Mean', 'Fwd Pkt Len Std', 'Tot Bwd Pkts', 'Fwd IAT Std', 'Pkt Len Min', 'Subflow Bwd Pkts'], 'Adv sample 444': ['SYN Flag Cnt', 'Bwd Header Len', 'Bwd Pkts/s', 'Fwd Pkt Len Std', 'Fwd Pkt Len Max', 'Tot Bwd Pkts', 'FIN Flag Cnt', 'Pkt Size Avg', 'Down/Up Ratio', 'Fwd Pkt Len Mean'], 'Adv sample 445': ['Fwd Pkt Len Std', 'ACK Flag Cnt', 'Fwd Pkt Len Max', 'SYN Flag Cnt', 'Down/Up Ratio', 'Pkt Len Max', 'Fwd Pkt Len Mean', 'Pkt Len Std', 'Pkt Len Mean', 'Fwd Seg Size Avg'], 'Adv sample 446': ['Bwd IAT Tot', 'Fwd Pkt Len Std', 'Fwd Pkt Len Max', 'Fwd IAT Tot', 'Init Fwd Win Byts', 'Pkt Len Std', 'Pkt Len Max', 'ACK Flag Cnt', 'Down/Up Ratio', 'Pkt Size Avg'], 'Adv sample 447': ['Fwd Pkt Len Std', 'Fwd Pkt Len Max', 'ACK Flag Cnt', 'SYN Flag Cnt', 'Fwd Seg Size Avg', 'Pkt Len Std', 'Down/Up Ratio', 'Fwd Pkt Len Mean', 'Pkt Len Mean', 'Fwd Pkt Len Min'], 'Adv sample 448': ['SYN Flag Cnt', 'FIN Flag Cnt', 'Bwd Header Len', 'Bwd Pkts/s', 'Fwd Pkt Len Std', 'Tot Bwd Pkts', 'Pkt Size Avg', 'Pkt Len Mean', 'Bwd Pkt Len Mean', 'Fwd Act Data Pkts'], 'Adv sample 449': ['SYN Flag Cnt', 'Bwd Header Len', 'FIN Flag Cnt', 'Bwd Pkts/s', 'Tot Bwd Pkts', 'Bwd Pkt Len Min', 'Fwd Act Data Pkts', 'Fwd Pkt Len Std', 'Subflow Bwd Pkts', 'Fwd Pkt Len Mean'], 'Adv sample 450': ['SYN Flag Cnt', 'Fwd Pkt Len Std', 'Bwd Header Len', 'Fwd Pkt Len Max', 'Fwd Pkt Len Mean', 'Pkt Size Avg', 'Pkt Len Mean', 'Fwd IAT Std', 'Init Fwd Win Byts', 'Fwd Seg Size Avg'], 'Adv sample 451': ['Fwd Pkt Len Std', 'Fwd Pkt Len Max', 'Fwd IAT Tot', 'Down/Up Ratio', 'ACK Flag Cnt', 'Fwd Pkt Len Mean', 'Pkt Len Std', 'Pkt Len Max', 'Bwd Pkts/s', 'FIN Flag Cnt'], 'Adv sample 452': ['Fwd Pkt Len Std', 'Fwd Pkt Len Max', 'Bwd Pkts/s', 'Fwd Pkt Len Mean', 'Pkt Size Avg', 'Pkt Len Max', 'Fwd Pkt Len Min', 'Fwd Header Len', 'Pkt Len Min', 'Tot Bwd Pkts'], 'Adv sample 453': ['Init Fwd Win Byts', 'Fwd Pkt Len Std', 'Fwd Pkt Len Max', 'Down/Up Ratio', 'Pkt Size Avg', 'FIN Flag Cnt', 'Fwd Pkt Len Mean', 'Bwd Pkts/s', 'Pkt Len Std', 'Pkt Len Max'], 'Adv sample 454': ['SYN Flag Cnt', 'Fwd Pkt Len Max', 'Fwd Pkt Len Std', 'Fwd Header Len', 'Pkt Len Std', 'Fwd Pkt Len Mean', 'Bwd Pkts/s', 'Pkt Len Max', 'Pkt Size Avg', 'Fwd Seg Size Avg'], 'Adv sample 455': ['Fwd Pkt Len Std', 'Fwd Pkt Len Max', 'Fwd Pkt Len Mean', 'Fwd Seg Size Avg', 'Pkt Len Mean', 'Pkt Size Avg', 'Fwd Header Len', 'Tot Fwd Pkts', 'Pkt Len Max', 'Pkt Len Std'], 'Adv sample 456': ['SYN Flag Cnt', 'FIN Flag Cnt', 'Fwd Pkt Len Std', 'Fwd Pkt Len Max', 'Pkt Len Mean', 'Down/Up Ratio', 'Bwd Pkts/s', 'Fwd Pkt Len Mean', 'Pkt Size Avg', 'Fwd Pkt Len Min'], 'Adv sample 457': ['PSH Flag Cnt', 'Init Fwd Win Byts', 'ACK Flag Cnt', 'Down/Up Ratio', 'Tot Bwd Pkts', 'Bwd PSH Flags', 'FIN Flag Cnt', 'SYN Flag Cnt', 'Subflow Bwd Pkts', 'Bwd IAT Max'], 'Adv sample 458': ['Fwd Pkt Len Std', 'Init Fwd Win Byts', 'Fwd Pkt Len Max', 'Down/Up Ratio', 'Pkt Len Std', 'Fwd Pkt Len Mean', 'Bwd Pkts/s', 'Fwd Seg Size Avg', 'Fwd Pkt Len Min', 'Bwd Pkt Len Std'], 'Adv sample 459': ['Bwd Header Len', 'SYN Flag Cnt', 'Fwd Pkt Len Mean', 'Fwd Pkt Len Std', 'Subflow Bwd Pkts', 'Tot Bwd Pkts', 'FIN Flag Cnt', 'Fwd Seg Size Avg', 'Fwd Pkt Len Max', 'Pkt Size Avg'], 'Adv sample 460': ['Bwd Header Len', 'SYN Flag Cnt', 'FIN Flag Cnt', 'Fwd Pkt Len Std', 'Bwd Pkts/s', 'Fwd Pkt Len Max', 'Pkt Size Avg', 'Fwd Seg Size Avg', 'Pkt Len Mean', 'Bwd Pkt Len Min'], 'Adv sample 461': ['Bwd Header Len', 'Subflow Fwd Pkts', 'Fwd Pkt Len Std', 'SYN Flag Cnt', 'Down/Up Ratio', 'URG Flag Cnt', 'Fwd Act Data Pkts', 'Flow Pkts/s', 'Pkt Len Std', 'Tot Fwd Pkts'], 'Adv sample 462': ['Bwd Header Len', 'Fwd Pkt Len Std', 'Bwd PSH Flags', 'SYN Flag Cnt', 'Fwd Pkt Len Max', 'Bwd Pkts/s', 'Pkt Len Min', 'Fwd Pkt Len Mean', 'Fwd Act Data Pkts', 'Fwd Seg Size Avg'], 'Adv sample 463': ['SYN Flag Cnt', 'Bwd Header Len', 'Fwd Seg Size Avg', 'ACK Flag Cnt', 'FIN Flag Cnt', 'Fwd Pkt Len Mean', 'Tot Bwd Pkts', 'TotLen Fwd Pkts', 'Fwd IAT Std', 'Subflow Bwd Pkts'], 'Adv sample 464': ['Bwd Header Len', 'Bwd Pkts/s', 'Fwd Pkt Len Max', 'SYN Flag Cnt', 'Fwd Pkt Len Std', 'Init Fwd Win Byts', 'Idle Min', 'Tot Bwd Pkts', 'Subflow Fwd Pkts', 'Fwd Act Data Pkts'], 'Adv sample 465': ['Bwd Header Len', 'SYN Flag Cnt', 'Tot Bwd Pkts', 'Subflow Bwd Pkts', 'Fwd Pkt Len Std', 'Fwd Seg Size Avg', 'Fwd Pkt Len Max', 'Bwd Pkt Len Min', 'FIN Flag Cnt', 'Fwd Pkt Len Min'], 'Adv sample 466': ['Bwd Header Len', 'Fwd Pkt Len Std', 'Tot Bwd Pkts', 'SYN Flag Cnt', 'Fwd Seg Size Avg', 'Fwd Pkt Len Max', 'Init Fwd Win Byts', 'Subflow Bwd Pkts', 'Idle Min', 'Fwd Pkts/s'], 'Adv sample 467': ['ACK Flag Cnt', 'SYN Flag Cnt', 'Bwd Header Len', 'Fwd Pkt Len Mean', 'Init Fwd Win Byts', 'Fwd Pkt Len Std', 'Fwd Pkt Len Max', 'Fwd Seg Size Avg', 'Bwd Pkts/s', 'Pkt Len Mean'], 'Adv sample 468': ['Fwd Pkt Len Std', 'ACK Flag Cnt', 'Fwd Pkt Len Max', 'Pkt Len Std', 'Fwd Pkt Len Mean', 'Down/Up Ratio', 'Fwd Seg Size Avg', 'SYN Flag Cnt', 'Pkt Len Mean', 'Pkt Len Max'], 'Adv sample 469': ['SYN Flag Cnt', 'Bwd Header Len', 'FIN Flag Cnt', 'Bwd Pkts/s', 'Fwd Act Data Pkts', 'Fwd Pkt Len Mean', 'Tot Bwd Pkts', 'TotLen Fwd Pkts', 'Fwd Pkt Len Max', 'Fwd Pkt Len Std'], 'Adv sample 470': ['Fwd Pkt Len Std', 'Fwd Pkt Len Max', 'Pkt Len Max', 'Fwd Pkt Len Mean', 'Pkt Size Avg', 'Fwd Header Len', 'Subflow Fwd Pkts', 'Tot Bwd Pkts', 'Fwd Pkt Len Min', 'Bwd Pkts/s'], 'Adv sample 471': ['Bwd Header Len', 'SYN Flag Cnt', 'FIN Flag Cnt', 'Bwd Pkts/s', 'Fwd Pkt Len Max', 'Fwd Pkt Len Std', 'Pkt Len Min', 'Fwd Pkt Len Mean', 'Fwd Seg Size Avg', 'Pkt Len Max'], 'Adv sample 472': ['SYN Flag Cnt', 'Fwd Pkt Len Std', 'Bwd PSH Flags', 'Fwd Pkt Len Max', 'Bwd Header Len', 'Init Fwd Win Byts', 'Fwd Pkt Len Mean', 'Pkt Len Std', 'Pkt Len Mean', 'Pkt Len Min'], 'Adv sample 473': ['Bwd Header Len', 'SYN Flag Cnt', 'Bwd Pkts/s', 'Fwd Pkt Len Std', 'Down/Up Ratio', 'FIN Flag Cnt', 'Pkt Len Min', 'Fwd Pkt Len Max', 'Tot Bwd Pkts', 'Pkt Len Mean'], 'Adv sample 474': ['Fwd Pkt Len Std', 'Fwd Pkt Len Mean', 'Fwd Pkt Len Max', 'Pkt Len Max', 'Bwd Pkts/s', 'Fwd Seg Size Avg', 'Pkt Len Min', 'Pkt Size Avg', 'Pkt Len Std', 'Tot Bwd Pkts'], 'Adv sample 475': ['Fwd Pkt Len Std', 'Fwd Pkt Len Max', 'Tot Fwd Pkts', 'Fwd Pkt Len Mean', 'Fwd Seg Size Avg', 'Pkt Size Avg', 'Fwd Header Len', 'Bwd Pkts/s', 'Pkt Len Min', 'Subflow Fwd Pkts'], 'Adv sample 476': ['Bwd Header Len', 'SYN Flag Cnt', 'Fwd Pkt Len Std', 'Tot Bwd Pkts', 'Fwd Pkt Len Mean', 'Subflow Bwd Pkts', 'Fwd Pkt Len Min', 'Fwd Seg Size Avg', 'Fwd Pkt Len Max', 'Pkt Len Min'], 'Adv sample 477': ['ACK Flag Cnt', 'SYN Flag Cnt', 'Bwd Header Len', 'Fwd Pkt Len Max', 'Init Fwd Win Byts', 'Fwd Pkt Len Std', 'Bwd Pkts/s', 'Pkt Len Std', 'Fwd Pkt Len Min', 'Tot Fwd Pkts'], 'Adv sample 478': ['Fwd Pkt Len Std', 'Fwd Pkt Len Mean', 'Fwd Pkt Len Max', 'Pkt Len Max', 'Tot Bwd Pkts', 'Pkt Len Std', 'Subflow Fwd Pkts', 'Bwd Pkts/s', 'Pkt Size Avg', 'Pkt Len Mean'], 'Adv sample 479': ['SYN Flag Cnt', 'Fwd Pkt Len Std', 'Down/Up Ratio', 'Fwd Pkt Len Max', 'FIN Flag Cnt', 'Fwd Pkt Len Mean', 'Pkt Len Max', 'Fwd Act Data Pkts', 'Tot Fwd Pkts', 'Bwd Header Len'], 'Adv sample 480': ['SYN Flag Cnt', 'Bwd Header Len', 'Subflow Bwd Pkts', 'FIN Flag Cnt', 'Fwd Seg Size Avg', 'Fwd Pkt Len Mean', 'Tot Bwd Pkts', 'ACK Flag Cnt', 'Pkt Len Min', 'Fwd Pkt Len Min'], 'Adv sample 481': ['SYN Flag Cnt', 'Fwd Pkt Len Std', 'Fwd Pkt Len Max', 'Init Fwd Win Byts', 'Bwd PSH Flags', 'Bwd Header Len', 'Fwd Pkt Len Mean', 'Fwd Seg Size Avg', 'Fwd Act Data Pkts', 'Pkt Len Std'], 'Adv sample 482': ['Fwd Pkt Len Std', 'Fwd Pkt Len Max', 'Fwd Pkt Len Mean', 'Pkt Len Max', 'Fwd Header Len', 'Fwd Seg Size Avg', 'Subflow Fwd Pkts', 'Tot Fwd Pkts', 'Pkt Size Avg', 'Bwd IAT Max'], 'Adv sample 483': ['Bwd Header Len', 'SYN Flag Cnt', 'Tot Bwd Pkts', 'Subflow Bwd Pkts', 'Fwd Seg Size Avg', 'FIN Flag Cnt', 'Pkt Len Min', 'Bwd Pkt Len Min', 'Fwd IAT Tot', 'Fwd IAT Std'], 'Adv sample 484': ['SYN Flag Cnt', 'Bwd Header Len', 'Bwd Pkts/s', 'Fwd Pkt Len Std', 'Fwd Pkt Len Max', 'Fwd Seg Size Avg', 'Pkt Len Min', 'Subflow Bwd Pkts', 'FIN Flag Cnt', 'Pkt Len Max'], 'Adv sample 485': ['SYN Flag Cnt', 'FIN Flag Cnt', 'Bwd Header Len', 'Bwd Pkts/s', 'Fwd Pkt Len Std', 'Fwd IAT Std', 'Fwd Seg Size Avg', 'Subflow Bwd Pkts', 'Fwd Pkt Len Mean', 'Fwd Act Data Pkts'], 'Adv sample 486': ['Fwd Pkt Len Std', 'Init Fwd Win Byts', 'Fwd Pkt Len Max', 'Pkt Len Std', 'Fwd Pkt Len Mean', 'Down/Up Ratio', 'Fwd Seg Size Avg', 'Bwd Pkts/s', 'Pkt Len Max', 'FIN Flag Cnt'], 'Adv sample 487': ['SYN Flag Cnt', 'Fwd Pkt Len Std', 'Fwd Pkt Len Max', 'Fwd Pkt Len Mean', 'Fwd Seg Size Avg', 'Fwd Header Len', 'Subflow Fwd Pkts', 'Pkt Len Max', 'Fwd Pkt Len Min', 'Pkt Len Std'], 'Adv sample 488': ['SYN Flag Cnt', 'Bwd Header Len', 'FIN Flag Cnt', 'Fwd Pkt Len Std', 'Bwd Pkts/s', 'Subflow Bwd Pkts', 'Fwd Pkt Len Max', 'Pkt Size Avg', 'Fwd Seg Size Avg', 'Pkt Len Min'], 'Adv sample 489': ['SYN Flag Cnt', 'Bwd Header Len', 'Fwd Pkt Len Std', 'Fwd Pkt Len Max', 'Bwd Pkts/s', 'FIN Flag Cnt', 'Fwd Pkt Len Min', 'Fwd Pkt Len Mean', 'Fwd Seg Size Avg', 'Pkt Len Min'], 'Adv sample 490': ['Bwd Header Len', 'SYN Flag Cnt', 'Idle Min', 'Fwd Pkt Len Std', 'Fwd Pkt Len Max', 'Pkt Len Min', 'Tot Bwd Pkts', 'Fwd IAT Max', 'Init Fwd Win Byts', 'Fwd IAT Mean'], 'Adv sample 491': ['Fwd Pkt Len Std', 'Fwd Pkt Len Mean', 'Fwd Pkt Len Max', 'Fwd Seg Size Avg', 'Pkt Size Avg', 'Fwd Header Len', 'Pkt Len Max', 'Bwd Pkts/s', 'Pkt Len Std', 'Tot Bwd Pkts'], 'Adv sample 492': ['Fwd Pkt Len Std', 'Init Fwd Win Byts', 'Fwd Pkt Len Max', 'Pkt Len Std', 'Fwd Pkt Len Mean', 'Down/Up Ratio', 'Fwd Seg Size Avg', 'Pkt Len Max', 'Pkt Len Min', 'Bwd Pkts/s'], 'Adv sample 493': ['Fwd Pkt Len Std', 'Fwd Pkt Len Max', 'Pkt Len Max', 'Tot Bwd Pkts', 'Fwd Pkt Len Mean', 'Fwd Seg Size Avg', 'Tot Fwd Pkts', 'Bwd Pkts/s', 'Pkt Len Std', 'Subflow Bwd Pkts'], 'Adv sample 494': ['Fwd Pkt Len Std', 'Fwd Pkt Len Max', 'Fwd Pkt Len Mean', 'Pkt Size Avg', 'Pkt Len Std', 'FIN Flag Cnt', 'Pkt Len Min', 'Bwd Pkts/s', 'Fwd Seg Size Avg', 'Tot Fwd Pkts'], 'Adv sample 495': ['SYN Flag Cnt', 'Bwd Header Len', 'FIN Flag Cnt', 'Fwd Pkt Len Std', 'Fwd Pkt Len Max', 'Fwd Seg Size Avg', 'Bwd Pkts/s', 'ACK Flag Cnt', 'Bwd IAT Std', 'Fwd Pkt Len Mean'], 'Adv sample 496': ['Bwd Header Len', 'SYN Flag Cnt', 'FIN Flag Cnt', 'Bwd Pkts/s', 'Fwd Pkt Len Std', 'Fwd Pkt Len Mean', 'Fwd Pkt Len Max', 'Subflow Bwd Pkts', 'Pkt Len Mean', 'Pkt Len Max'], 'Adv sample 497': ['SYN Flag Cnt', 'Bwd Header Len', 'Fwd Pkt Len Std', 'Fwd Pkt Len Max', 'Pkt Len Mean', 'Fwd Pkt Len Mean', 'Pkt Size Avg', 'Down/Up Ratio', 'Pkt Len Max', 'Pkt Len Std'], 'Adv sample 498': ['Fwd Pkt Len Std', 'Fwd Pkt Len Max', 'Fwd Pkt Len Mean', 'Pkt Len Max', 'Fwd Header Len', 'Tot Fwd Pkts', 'Subflow Fwd Pkts', 'ACK Flag Cnt', 'Pkt Len Min', 'Bwd Pkts/s'], 'Adv sample 499': ['PSH Flag Cnt', 'Init Fwd Win Byts', 'ACK Flag Cnt', 'Down/Up Ratio', 'SYN Flag Cnt', 'Bwd PSH Flags', 'Tot Bwd Pkts', 'Subflow Bwd Pkts', 'Bwd Pkts/s', 'FIN Flag Cnt'], 'Adv sample 500': ['Bwd Header Len', 'SYN Flag Cnt', 'Bwd Pkts/s', 'Down/Up Ratio', 'FIN Flag Cnt', 'Fwd Pkt Len Std', 'Fwd Pkt Len Max', 'Fwd Pkt Len Min', 'Tot Bwd Pkts', 'Pkt Size Avg'], 'Adv sample 501': ['SYN Flag Cnt', 'Bwd Header Len', 'FIN Flag Cnt', 'Fwd Seg Size Avg', 'Fwd Pkt Len Std', 'Bwd Pkts/s', 'Fwd Act Data Pkts', 'Tot Bwd Pkts', 'Fwd IAT Std', 'TotLen Fwd Pkts'], 'Adv sample 502': ['Fwd Pkt Len Std', 'Fwd Pkt Len Max', 'ACK Flag Cnt', 'SYN Flag Cnt', 'Down/Up Ratio', 'Flow Byts/s', 'Fwd Seg Size Avg', 'Fwd Pkt Len Mean', 'Pkt Len Max', 'Pkt Len Std'], 'Adv sample 503': ['Bwd Header Len', 'SYN Flag Cnt', 'FIN Flag Cnt', 'Bwd Pkts/s', 'Fwd Pkt Len Std', 'Fwd Pkt Len Max', 'Pkt Size Avg', 'Pkt Len Mean', 'Fwd Pkt Len Mean', 'Fwd Seg Size Avg'], 'Adv sample 504': ['Bwd Header Len', 'SYN Flag Cnt', 'FIN Flag Cnt', 'Fwd Pkt Len Std', 'Bwd Pkts/s', 'Fwd Pkt Len Mean', 'Fwd Pkt Len Min', 'Fwd Pkt Len Max', 'Pkt Len Max', 'Pkt Size Avg'], 'Adv sample 505': ['ACK Flag Cnt', 'SYN Flag Cnt', 'Init Fwd Win Byts', 'Fwd Pkt Len Std', 'Fwd Pkt Len Max', 'Fwd Pkt Len Mean', 'Fwd Seg Size Avg', 'Fwd Pkt Len Min', 'Pkt Len Std', 'Pkt Size Avg'], 'Adv sample 506': ['Bwd Header Len', 'SYN Flag Cnt', 'Fwd Pkt Len Std', 'Bwd PSH Flags', 'Fwd Pkt Len Max', 'Bwd Pkts/s', 'Fwd Pkt Len Mean', 'Fwd Seg Size Avg', 'Fwd Pkt Len Min', 'Pkt Len Std'], 'Adv sample 507': ['SYN Flag Cnt', 'Bwd Header Len', 'Bwd Pkts/s', 'FIN Flag Cnt', 'Pkt Len Max', 'Fwd Pkt Len Mean', 'Pkt Len Min', 'Flow Pkts/s', 'Pkt Size Avg', 'Fwd IAT Std'], 'Adv sample 508': ['SYN Flag Cnt', 'Tot Bwd Pkts', 'Fwd Pkt Len Max', 'Subflow Bwd Pkts', 'Idle Min', 'Fwd Pkt Len Mean', 'Pkt Len Min', 'Init Fwd Win Byts', 'Fwd IAT Tot', 'Fwd Pkt Len Std'], 'Adv sample 509': ['Fwd Pkt Len Std', 'Fwd Pkt Len Max', 'Fwd Pkt Len Mean', 'Tot Fwd Pkts', 'Pkt Len Max', 'Subflow Fwd Pkts', 'Pkt Size Avg', 'Pkt Len Std', 'Fwd Seg Size Avg', 'Fwd Pkt Len Min'], 'Adv sample 510': ['Fwd Pkt Len Std', 'Fwd Pkt Len Max', 'Pkt Size Avg', 'Subflow Bwd Pkts', 'Tot Bwd Pkts', 'Pkt Len Min', 'Pkt Len Max', 'Fwd Header Len', 'Fwd Pkt Len Mean', 'Bwd Pkts/s'], 'Adv sample 511': ['Fwd Pkt Len Std', 'Fwd Pkt Len Max', 'Tot Bwd Pkts', 'Pkt Len Std', 'Fwd Pkt Len Mean', 'Fwd Pkt Len Min', 'Tot Fwd Pkts', 'Pkt Size Avg', 'Subflow Fwd Pkts', 'Bwd Pkts/s'], 'Adv sample 512': ['Bwd Header Len', 'SYN Flag Cnt', 'Pkt Len Min', 'Fwd Pkt Len Max', 'Fwd Pkt Len Std', 'Subflow Bwd Pkts', 'Tot Bwd Pkts', 'Fwd Pkt Len Mean', 'Pkt Len Max', 'FIN Flag Cnt'], 'Adv sample 513': ['SYN Flag Cnt', 'Bwd Header Len', 'Fwd Seg Size Avg', 'Tot Bwd Pkts', 'Subflow Bwd Pkts', 'Fwd Pkt Len Mean', 'ACK Flag Cnt', 'FIN Flag Cnt', 'Pkt Len Min', 'Fwd Pkt Len Min'], 'Adv sample 514': ['Bwd Header Len', 'SYN Flag Cnt', 'Tot Bwd Pkts', 'Subflow Bwd Pkts', 'Fwd Pkt Len Mean', 'Fwd Pkt Len Max', 'Pkt Len Min', 'Fwd Seg Size Avg', 'Fwd IAT Std', 'FIN Flag Cnt'], 'Adv sample 515': ['Fwd Pkt Len Std', 'SYN Flag Cnt', 'Bwd Header Len', 'Fwd Pkt Len Max', 'Fwd Act Data Pkts', 'Subflow Fwd Pkts', 'Down/Up Ratio', 'Pkt Len Max', 'Tot Fwd Pkts', 'Init Fwd Win Byts'], 'Adv sample 516': ['Fwd Pkt Len Std', 'Fwd Pkt Len Max', 'Pkt Len Max', 'Pkt Size Avg', 'Pkt Len Mean', 'Fwd Pkt Len Mean', 'Fwd Header Len', 'Tot Fwd Pkts', 'Pkt Len Std', 'Bwd Pkt Len Std'], 'Adv sample 517': ['Fwd Pkt Len Std', 'ACK Flag Cnt', 'Fwd Pkt Len Max', 'SYN Flag Cnt', 'Pkt Len Std', 'Fwd Pkt Len Mean', 'Down/Up Ratio', 'Pkt Len Max', 'Fwd Seg Size Avg', 'Fwd Header Len'], 'Adv sample 518': ['Fwd Pkt Len Std', 'ACK Flag Cnt', 'Fwd Pkt Len Max', 'SYN Flag Cnt', 'Fwd Pkt Len Mean', 'Down/Up Ratio', 'Pkt Len Std', 'Pkt Len Mean', 'Pkt Len Max', 'Fwd Seg Size Avg'], 'Adv sample 519': ['Bwd Header Len', 'SYN Flag Cnt', 'FIN Flag Cnt', 'Fwd Pkt Len Std', 'Bwd Pkts/s', 'Fwd Pkt Len Mean', 'Pkt Len Min', 'Pkt Len Max', 'Pkt Len Mean', 'Bwd Pkt Len Min'], 'Adv sample 520': ['Bwd Header Len', 'SYN Flag Cnt', 'Fwd Pkt Len Std', 'Fwd Seg Size Avg', 'Tot Bwd Pkts', 'Subflow Bwd Pkts', 'Fwd Pkt Len Mean', 'Pkt Len Min', 'Fwd Pkt Len Max', 'Flow Byts/s'], 'Adv sample 521': ['SYN Flag Cnt', 'Bwd Header Len', 'FIN Flag Cnt', 'Bwd Pkts/s', 'Fwd Pkt Len Std', 'Pkt Len Min', 'Flow Pkts/s', 'Pkt Len Max', 'Pkt Size Avg', 'Fwd Pkt Len Max'], 'Adv sample 522': ['Init Fwd Win Byts', 'Fwd Pkt Len Std', 'Down/Up Ratio', 'Fwd Pkt Len Max', 'FIN Flag Cnt', 'Pkt Len Max', 'Pkt Len Std', 'Bwd Pkts/s', 'Pkt Len Min', 'Pkt Size Avg'], 'Adv sample 523': ['Bwd Header Len', 'SYN Flag Cnt', 'Bwd Pkts/s', 'Idle Min', 'Subflow Bwd Pkts', 'Fwd IAT Max', 'Fwd Pkt Len Max', 'Fwd Pkt Len Std', 'Init Fwd Win Byts', 'Fwd IAT Tot'], 'Adv sample 524': ['Bwd Header Len', 'SYN Flag Cnt', 'Tot Bwd Pkts', 'Subflow Bwd Pkts', 'Fwd Seg Size Avg', 'FIN Flag Cnt', 'Pkt Len Min', 'Bwd Pkt Len Min', 'Fwd IAT Std', 'Fwd Pkt Len Mean'], 'Adv sample 525': ['ACK Flag Cnt', 'SYN Flag Cnt', 'Fwd Pkt Len Std', 'Init Fwd Win Byts', 'Fwd Pkt Len Max', 'Fwd Pkt Len Min', 'Pkt Len Max', 'Fwd Pkt Len Mean', 'Pkt Len Mean', 'Pkt Len Std'], 'Adv sample 526': ['SYN Flag Cnt', 'Bwd Header Len', 'FIN Flag Cnt', 'Bwd Pkts/s', 'Fwd Pkt Len Std', 'Fwd IAT Std', 'Subflow Bwd Pkts', 'Fwd Pkt Len Mean', 'Fwd Pkt Len Max', 'Tot Bwd Pkts'], 'Adv sample 527': ['Fwd Pkt Len Std', 'Fwd Pkt Len Max', 'Fwd Pkt Len Mean', 'Pkt Size Avg', 'Tot Bwd Pkts', 'Subflow Fwd Pkts', 'Pkt Len Max', 'Bwd Pkts/s', 'Fwd Pkt Len Min', 'Tot Fwd Pkts'], 'Adv sample 528': ['SYN Flag Cnt', 'Bwd Header Len', 'Bwd Pkts/s', 'Fwd Pkt Len Max', 'FIN Flag Cnt', 'Fwd Pkt Len Std', 'Pkt Len Max', 'Fwd Seg Size Avg', 'Subflow Bwd Pkts', 'Fwd IAT Std'], 'Adv sample 529': ['Fwd Pkt Len Std', 'Fwd Pkt Len Max', 'Pkt Len Max', 'Fwd Header Len', 'Pkt Size Avg', 'Bwd Pkts/s', 'Fwd Pkt Len Mean', 'Pkt Len Std', 'Pkt Len Min', 'Tot Fwd Pkts'], 'Adv sample 530': ['ACK Flag Cnt', 'Bwd Header Len', 'SYN Flag Cnt', 'Init Fwd Win Byts', 'Fwd Pkt Len Max', 'Fwd Pkt Len Std', 'Down/Up Ratio', 'Bwd Pkts/s', 'Fwd Pkt Len Mean', 'Pkt Len Std'], 'Adv sample 531': ['SYN Flag Cnt', 'Fwd Pkt Len Std', 'Down/Up Ratio', 'Fwd Pkt Len Max', 'FIN Flag Cnt', 'Fwd Pkt Len Mean', 'Bwd Pkts/s', 'Bwd Pkt Len Min', 'Pkt Len Max', 'Fwd Seg Size Avg'], 'Adv sample 532': ['SYN Flag Cnt', 'Bwd Header Len', 'FIN Flag Cnt', 'Fwd Pkt Len Max', 'Fwd Seg Size Avg', 'Fwd Pkt Len Mean', 'TotLen Fwd Pkts', 'Fwd Pkt Len Std', 'Subflow Bwd Pkts', 'Init Fwd Win Byts'], 'Adv sample 533': ['SYN Flag Cnt', 'Bwd Header Len', 'FIN Flag Cnt', 'Bwd Pkts/s', 'Pkt Len Min', 'Fwd Pkt Len Max', 'Pkt Size Avg', 'Tot Bwd Pkts', 'Fwd Pkt Len Std', 'Fwd Pkt Len Mean'], 'Adv sample 534': ['Bwd Header Len', 'SYN Flag Cnt', 'Bwd Pkts/s', 'FIN Flag Cnt', 'Fwd Pkt Len Std', 'Fwd Pkt Len Max', 'Fwd Seg Size Avg', 'Fwd Pkt Len Min', 'Subflow Bwd Pkts', 'Pkt Len Std'], 'Adv sample 535': ['SYN Flag Cnt', 'FIN Flag Cnt', 'Bwd Header Len', 'Bwd Pkts/s', 'Fwd Pkt Len Std', 'Fwd Pkt Len Max', 'Tot Bwd Pkts', 'Subflow Bwd Pkts', 'Pkt Len Max', 'TotLen Fwd Pkts'], 'Adv sample 536': ['SYN Flag Cnt', 'FIN Flag Cnt', 'Bwd Header Len', 'Bwd Pkts/s', 'Fwd Seg Size Avg', 'Fwd Pkt Len Mean', 'Pkt Size Avg', 'Subflow Bwd Pkts', 'Fwd Pkt Len Max', 'Fwd Act Data Pkts'], 'Adv sample 537': ['Fwd Pkt Len Std', 'Fwd Pkt Len Max', 'Pkt Len Std', 'Pkt Len Max', 'Fwd Pkt Len Mean', 'Pkt Size Avg', 'Fwd Seg Size Avg', 'Pkt Len Mean', 'Bwd Pkt Len Std', 'Fwd IAT Tot'], 'Adv sample 538': ['SYN Flag Cnt', 'Bwd Header Len', 'FIN Flag Cnt', 'Fwd Pkt Len Mean', 'Bwd Pkts/s', 'Tot Bwd Pkts', 'Subflow Bwd Pkts', 'Fwd Pkt Len Max', 'Bwd Pkt Len Min', 'Bwd IAT Std'], 'Adv sample 539': ['Bwd Header Len', 'SYN Flag Cnt', 'Fwd Pkt Len Std', 'Tot Bwd Pkts', 'Subflow Bwd Pkts', 'Fwd Pkt Len Max', 'Pkt Len Min', 'Fwd Pkt Len Mean', 'Fwd Pkt Len Min', 'Pkt Len Std'], 'Adv sample 540': ['Fwd Pkt Len Std', 'Fwd Pkt Len Max', 'Pkt Len Std', 'Fwd Pkt Len Mean', 'Pkt Len Max', 'Pkt Size Avg', 'Flow Byts/s', 'Pkt Len Mean', 'Bwd Pkt Len Std', 'Fwd Header Len'], 'Adv sample 541': ['SYN Flag Cnt', 'Bwd Header Len', 'FIN Flag Cnt', 'Bwd Pkts/s', 'Init Fwd Win Byts', 'Fwd Seg Size Avg', 'Fwd Pkt Len Std', 'Tot Bwd Pkts', 'ACK Flag Cnt', 'Pkt Len Min'], 'Adv sample 542': ['ACK Flag Cnt', 'SYN Flag Cnt', 'Init Fwd Win Byts', 'Fwd Pkt Len Max', 'Fwd Pkt Len Std', 'Fwd Pkt Len Mean', 'Fwd Seg Size Avg', 'Pkt Len Max', 'Pkt Len Mean', 'Pkt Size Avg'], 'Adv sample 543': ['Fwd Pkt Len Std', 'Fwd Pkt Len Max', 'ACK Flag Cnt', 'SYN Flag Cnt', 'Fwd Pkt Len Mean', 'Down/Up Ratio', 'Fwd Seg Size Avg', 'Fwd Pkt Len Min', 'Pkt Len Std', 'Pkt Len Mean'], 'Adv sample 544': ['Fwd Pkt Len Std', 'Bwd Header Len', 'SYN Flag Cnt', 'Subflow Fwd Pkts', 'Fwd Pkt Len Mean', 'Fwd Pkt Len Max', 'Fwd Act Data Pkts', 'Down/Up Ratio', 'Pkt Len Max', 'Tot Fwd Pkts'], 'Adv sample 545': ['Bwd Header Len', 'SYN Flag Cnt', 'Bwd Pkts/s', 'FIN Flag Cnt', 'Fwd Pkt Len Std', 'Fwd Pkt Len Max', 'Fwd Pkt Len Mean', 'Down/Up Ratio', 'Pkt Len Min', 'Fwd Seg Size Avg'], 'Adv sample 546': ['ACK Flag Cnt', 'Bwd Header Len', 'SYN Flag Cnt', 'Init Fwd Win Byts', 'Fwd Pkt Len Std', 'Fwd Pkt Len Max', 'Bwd Pkts/s', 'Pkt Len Mean', 'Pkt Len Std', 'Pkt Len Max'], 'Adv sample 547': ['SYN Flag Cnt', 'Bwd Header Len', 'FIN Flag Cnt', 'Bwd Pkts/s', 'Fwd Pkt Len Mean', 'Fwd Pkt Len Max', 'Pkt Len Min', 'Subflow Bwd Pkts', 'Fwd Seg Size Avg', 'Fwd Pkt Len Std'], 'Adv sample 548': ['Fwd Pkt Len Std', 'Fwd Pkt Len Max', 'Pkt Size Avg', 'Pkt Len Std', 'Bwd Pkts/s', 'Subflow Fwd Pkts', 'Fwd Pkt Len Mean', 'Init Bwd Win Byts', 'Fwd Seg Size Avg', 'Tot Bwd Pkts'], 'Adv sample 549': ['SYN Flag Cnt', 'Bwd Header Len', 'FIN Flag Cnt', 'Bwd Pkts/s', 'Tot Bwd Pkts', 'TotLen Fwd Pkts', 'ACK Flag Cnt', 'Fwd Act Data Pkts', 'Bwd Pkt Len Min', 'Fwd Pkt Len Std'], 'Adv sample 550': ['SYN Flag Cnt', 'Bwd Header Len', 'FIN Flag Cnt', 'Bwd Pkts/s', 'Pkt Size Avg', 'Fwd Pkt Len Std', 'Pkt Len Min', 'Fwd Pkt Len Mean', 'Fwd IAT Tot', 'Tot Bwd Pkts'], 'Adv sample 551': ['SYN Flag Cnt', 'Bwd Header Len', 'FIN Flag Cnt', 'Fwd Pkt Len Std', 'Down/Up Ratio', 'Bwd Pkt Len Min', 'Pkt Len Min', 'Fwd Pkt Len Max', 'Fwd IAT Std', 'Flow IAT Min'], 'Adv sample 552': ['Fwd Pkt Len Std', 'Bwd Header Len', 'Fwd Pkt Len Max', 'Down/Up Ratio', 'SYN Flag Cnt', 'Init Fwd Win Byts', 'Fwd Pkt Len Mean', 'Fwd Seg Size Avg', 'Pkt Len Max', 'Pkt Size Avg'], 'Adv sample 553': ['Bwd Header Len', 'SYN Flag Cnt', 'Fwd Pkt Len Max', 'Bwd PSH Flags', 'Fwd Pkt Len Std', 'Bwd Pkts/s', 'Fwd Seg Size Avg', 'Fwd Pkt Len Mean', 'Fwd Act Data Pkts', 'Tot Bwd Pkts'], 'Adv sample 554': ['Bwd Header Len', 'SYN Flag Cnt', 'Fwd Pkt Len Std', 'Init Fwd Win Byts', 'Idle Min', 'Fwd Pkt Len Max', 'Fwd Act Data Pkts', 'Flow Pkts/s', 'Fwd Pkt Len Mean', 'Fwd Seg Size Min'], 'Adv sample 555': ['Fwd Pkt Len Max', 'Fwd Pkt Len Std', 'Fwd Pkt Len Mean', 'Pkt Len Std', 'Pkt Len Max', 'Fwd Seg Size Avg', 'Pkt Size Avg', 'Pkt Len Mean', 'Bwd Pkt Len Max', 'Subflow Fwd Pkts'], 'Adv sample 556': ['Bwd Header Len', 'SYN Flag Cnt', 'Tot Bwd Pkts', 'Subflow Bwd Pkts', 'Fwd Seg Size Avg', 'Bwd Pkt Len Min', 'Pkt Len Min', 'Fwd Pkt Len Min', 'FIN Flag Cnt', 'Fwd IAT Std'], 'Adv sample 557': ['Fwd Pkt Len Std', 'Fwd Pkt Len Max', 'ACK Flag Cnt', 'Down/Up Ratio', 'Fwd Pkt Len Mean', 'SYN Flag Cnt', 'Pkt Len Std', 'Fwd Seg Size Avg', 'Tot Fwd Pkts', 'Pkt Len Mean'], 'Adv sample 558': ['SYN Flag Cnt', 'FIN Flag Cnt', 'Bwd Header Len', 'Bwd Pkts/s', 'Fwd Act Data Pkts', 'Fwd Pkt Len Mean', 'Pkt Len Min', 'Bwd Pkt Len Min', 'Fwd IAT Std', 'Down/Up Ratio'], 'Adv sample 559': ['SYN Flag Cnt', 'Fwd Pkt Len Std', 'Fwd Pkt Len Max', 'Fwd Pkt Len Mean', 'Fwd Header Len', 'Pkt Len Std', 'Tot Fwd Pkts', 'Fwd Seg Size Avg', 'Subflow Fwd Pkts', 'Pkt Size Avg'], 'Adv sample 560': ['Fwd Pkt Len Std', 'ACK Flag Cnt', 'Fwd Pkt Len Max', 'SYN Flag Cnt', 'Fwd Pkt Len Mean', 'Pkt Size Avg', 'Down/Up Ratio', 'Pkt Len Std', 'Fwd Seg Size Avg', 'Fwd Pkt Len Min'], 'Adv sample 561': ['SYN Flag Cnt', 'Bwd Header Len', 'FIN Flag Cnt', 'Fwd Pkt Len Std', 'Subflow Bwd Pkts', 'Bwd Pkts/s', 'Fwd IAT Std', 'TotLen Fwd Pkts', 'Fwd Pkt Len Mean', 'Fwd Seg Size Avg'], 'Adv sample 562': ['Bwd Header Len', 'Fwd Pkt Len Std', 'SYN Flag Cnt', 'Fwd Pkt Len Max', 'Fwd Act Data Pkts', 'Fwd Header Len', 'Init Fwd Win Byts', 'Fwd IAT Max', 'Idle Std', 'Tot Bwd Pkts'], 'Adv sample 563': ['Fwd Pkt Len Std', 'Fwd Pkt Len Max', 'Pkt Size Avg', 'Bwd Pkts/s', 'Fwd Seg Size Avg', 'Tot Fwd Pkts', 'Fwd Header Len', 'Bwd Pkt Len Min', 'Pkt Len Std', 'Tot Bwd Pkts'], 'Adv sample 564': ['Init Fwd Win Byts', 'Fwd Pkt Len Std', 'Fwd Pkt Len Max', 'Down/Up Ratio', 'Fwd Seg Size Avg', 'Bwd Pkts/s', 'Pkt Len Std', 'Pkt Len Min', 'FIN Flag Cnt', 'Pkt Len Max'], 'Adv sample 565': ['Fwd Pkt Len Std', 'Fwd Pkt Len Max', 'ACK Flag Cnt', 'Fwd Pkt Len Mean', 'SYN Flag Cnt', 'Down/Up Ratio', 'Pkt Len Std', 'Fwd Seg Size Avg', 'Fwd Pkt Len Min', 'Flow Byts/s'], 'Adv sample 566': ['Bwd Header Len', 'Fwd Pkt Len Std', 'Fwd Pkt Len Max', 'Tot Bwd Pkts', 'Fwd Act Data Pkts', 'Init Fwd Win Byts', 'SYN Flag Cnt', 'Fwd IAT Tot', 'Pkt Len Std', 'Pkt Size Avg'], 'Adv sample 567': ['SYN Flag Cnt', 'Bwd Header Len', 'Bwd Pkts/s', 'Pkt Size Avg', 'Fwd Pkt Len Max', 'Fwd Pkt Len Mean', 'FIN Flag Cnt', 'Fwd Seg Size Avg', 'Fwd Pkt Len Std', 'Fwd Pkt Len Min'], 'Adv sample 568': ['Bwd Header Len', 'Bwd Pkts/s', 'SYN Flag Cnt', 'Fwd Pkt Len Max', 'Idle Min', 'Flow Pkts/s', 'Subflow Bwd Pkts', 'Tot Bwd Pkts', 'Bwd Pkt Len Std', 'Fwd Pkt Len Std'], 'Adv sample 569': ['SYN Flag Cnt', 'Bwd Header Len', 'Bwd Pkts/s', 'Fwd Pkt Len Std', 'Fwd Pkt Len Max', 'Pkt Size Avg', 'FIN Flag Cnt', 'Fwd Pkt Len Min', 'Pkt Len Min', 'Tot Bwd Pkts'], 'Adv sample 570': ['Fwd Pkt Len Std', 'ACK Flag Cnt', 'Fwd Pkt Len Max', 'SYN Flag Cnt', 'Fwd Pkt Len Mean', 'Pkt Size Avg', 'Pkt Len Std', 'Pkt Len Max', 'Down/Up Ratio', 'Bwd Pkt Len Min'], 'Adv sample 571': ['SYN Flag Cnt', 'Fwd Pkt Len Std', 'Fwd Pkt Len Max', 'Down/Up Ratio', 'Fwd Pkt Len Mean', 'FIN Flag Cnt', 'Pkt Len Max', 'Pkt Size Avg', 'Bwd Pkts/s', 'Pkt Len Mean'], 'Adv sample 572': ['Bwd Header Len', 'SYN Flag Cnt', 'Fwd Pkt Len Std', 'Tot Bwd Pkts', 'Fwd Pkt Len Max', 'Init Fwd Win Byts', 'Flow Pkts/s', 'Bwd Pkts/s', 'Pkt Len Min', 'Fwd Pkt Len Mean'], 'Adv sample 573': ['Bwd Header Len', 'SYN Flag Cnt', 'FIN Flag Cnt', 'Bwd Pkts/s', 'Fwd Pkt Len Std', 'Fwd Pkt Len Mean', 'Pkt Len Mean', 'Fwd Pkt Len Max', 'Pkt Len Min', 'Fwd Seg Size Avg'], 'Adv sample 574': ['Bwd Header Len', 'SYN Flag Cnt', 'Subflow Bwd Pkts', 'Tot Bwd Pkts', 'Fwd Seg Size Avg', 'FIN Flag Cnt', 'Pkt Len Min', 'Fwd Pkt Len Min', 'Fwd Pkt Len Mean', 'Bwd Pkt Len Min'], 'Adv sample 575': ['SYN Flag Cnt', 'Bwd Header Len', 'FIN Flag Cnt', 'Bwd Pkts/s', 'Fwd Act Data Pkts', 'Fwd Pkt Len Max', 'Fwd Pkt Len Std', 'Bwd Pkt Len Min', 'Fwd IAT Std', 'Fwd Seg Size Avg'], 'Adv sample 576': ['ACK Flag Cnt', 'SYN Flag Cnt', 'Bwd Header Len', 'Fwd Pkt Len Std', 'Fwd Pkt Len Max', 'Init Fwd Win Byts', 'Bwd Pkts/s', 'Fwd Pkt Len Mean', 'Subflow Bwd Pkts', 'Pkt Len Std'], 'Adv sample 577': ['Bwd Header Len', 'SYN Flag Cnt', 'FIN Flag Cnt', 'Bwd Pkts/s', 'Fwd Pkt Len Std', 'Fwd Pkt Len Mean', 'Pkt Len Mean', 'Fwd Pkt Len Max', 'Pkt Len Max', 'Pkt Size Avg'], 'Adv sample 578': ['Bwd Header Len', 'SYN Flag Cnt', 'Fwd Pkt Len Std', 'Subflow Bwd Pkts', 'Tot Bwd Pkts', 'Fwd Pkt Len Max', 'FIN Flag Cnt', 'Bwd Pkt Len Min', 'Fwd Seg Size Avg', 'Fwd Pkt Len Mean'], 'Adv sample 579': ['SYN Flag Cnt', 'Fwd Pkt Len Std', 'Bwd PSH Flags', 'Init Fwd Win Byts', 'Fwd Pkt Len Max', 'Fwd Pkt Len Mean', 'Bwd Header Len', 'Fwd Seg Size Avg', 'Down/Up Ratio', 'Tot Bwd Pkts'], 'Adv sample 580': ['Fwd Pkt Len Std', 'Fwd Pkt Len Mean', 'Subflow Bwd Pkts', 'Tot Fwd Pkts', 'Bwd Pkts/s', 'Subflow Fwd Pkts', 'Pkt Size Avg', 'Fwd Pkt Len Max', 'Pkt Len Mean', 'FIN Flag Cnt'], 'Adv sample 581': ['SYN Flag Cnt', 'Bwd Header Len', 'Fwd Pkt Len Mean', 'Fwd Pkt Len Max', 'Subflow Fwd Pkts', 'Tot Bwd Pkts', 'Fwd IAT Mean', 'Pkt Len Mean', 'Subflow Bwd Pkts', 'Flow Pkts/s'], 'Adv sample 582': ['Bwd Header Len', 'SYN Flag Cnt', 'Tot Bwd Pkts', 'Fwd Pkt Len Std', 'Fwd Pkt Len Mean', 'Subflow Bwd Pkts', 'Pkt Len Min', 'Fwd Pkt Len Min', 'Fwd Seg Size Avg', 'Fwd Pkt Len Max'], 'Adv sample 583': ['Fwd Pkt Len Std', 'Fwd Pkt Len Mean', 'Fwd Pkt Len Max', 'Tot Fwd Pkts', 'Fwd Pkt Len Min', 'Pkt Size Avg', 'ACK Flag Cnt', 'Fwd Header Len', 'Pkt Len Max', 'Fwd Seg Size Avg'], 'Adv sample 584': ['Fwd Pkt Len Std', 'Fwd Pkt Len Mean', 'Bwd Pkts/s', 'Fwd Pkt Len Max', 'Tot Bwd Pkts', 'Subflow Fwd Pkts', 'Pkt Len Max', 'Pkt Size Avg', 'Fwd Header Len', 'Pkt Len Std'], 'Adv sample 585': ['SYN Flag Cnt', 'Fwd Pkt Len Std', 'Bwd PSH Flags', 'Fwd Pkt Len Max', 'Init Fwd Win Byts', 'Fwd Pkt Len Mean', 'Bwd Header Len', 'Pkt Len Std', 'FIN Flag Cnt', 'Bwd Pkts/s'], 'Adv sample 586': ['ACK Flag Cnt', 'Bwd Header Len', 'SYN Flag Cnt', 'Fwd Pkt Len Max', 'Init Fwd Win Byts', 'Fwd Pkt Len Std', 'Bwd Pkts/s', 'Tot Bwd Pkts', 'Down/Up Ratio', 'Pkt Len Std'], 'Adv sample 587': ['Fwd Pkt Len Std', 'Fwd Pkt Len Max', 'Pkt Len Std', 'Pkt Len Max', 'Subflow Fwd Pkts', 'Bwd Pkts/s', 'Pkt Size Avg', 'Bwd Pkt Len Min', 'Fwd Header Len', 'Subflow Fwd Byts'], 'Adv sample 588': ['Fwd Pkt Len Std', 'Fwd Pkt Len Max', 'Fwd Pkt Len Mean', 'Pkt Size Avg', 'Pkt Len Mean', 'Fwd Seg Size Avg', 'Pkt Len Max', 'Fwd Act Data Pkts', 'Pkt Len Std', 'Tot Fwd Pkts'], 'Adv sample 589': ['Bwd Header Len', 'SYN Flag Cnt', 'Bwd Pkts/s', 'FIN Flag Cnt', 'Fwd Pkt Len Std', 'Pkt Size Avg', 'Fwd Pkt Len Min', 'Pkt Len Min', 'Fwd Pkt Len Max', 'Fwd Pkt Len Mean'], 'Adv sample 590': ['ACK Flag Cnt', 'Bwd Header Len', 'SYN Flag Cnt', 'Fwd Pkt Len Std', 'Fwd Pkt Len Max', 'Down/Up Ratio', 'Bwd Pkts/s', 'Init Fwd Win Byts', 'Pkt Len Max', 'Fwd Pkt Len Mean'], 'Adv sample 591': ['SYN Flag Cnt', 'Bwd Header Len', 'Bwd Pkts/s', 'Fwd Pkt Len Max', 'Fwd Pkt Len Std', 'Fwd Seg Size Avg', 'Fwd Pkt Len Mean', 'FIN Flag Cnt', 'Fwd Pkt Len Min', 'Tot Bwd Pkts'], 'Adv sample 592': ['SYN Flag Cnt', 'Bwd Header Len', 'FIN Flag Cnt', 'Pkt Len Min', 'Fwd Pkt Len Std', 'Fwd IAT Std', 'Fwd Pkt Len Mean', 'Bwd Pkts/s', 'TotLen Fwd Pkts', 'Fwd Pkt Len Max'], 'Adv sample 593': ['Bwd Header Len', 'SYN Flag Cnt', 'Tot Bwd Pkts', 'Fwd Pkt Len Std', 'Fwd Seg Size Avg', 'Subflow Bwd Pkts', 'Pkt Len Std', 'Fwd Pkt Len Max', 'Bwd Pkt Len Min', 'FIN Flag Cnt'], 'Adv sample 594': ['Bwd Header Len', 'SYN Flag Cnt', 'Tot Bwd Pkts', 'FIN Flag Cnt', 'Pkt Len Min', 'Fwd Seg Size Avg', 'Subflow Bwd Pkts', 'Fwd Pkt Len Std', 'Fwd Pkt Len Mean', 'Fwd Pkt Len Max'], 'Adv sample 595': ['Fwd Pkt Len Std', 'Fwd Pkt Len Max', 'Fwd Pkt Len Mean', 'Fwd Seg Size Avg', 'Pkt Size Avg', 'Pkt Len Std', 'Bwd Pkts/s', 'Fwd Header Len', 'Pkt Len Mean', 'Pkt Len Max'], 'Adv sample 596': ['Fwd Pkt Len Max', 'Fwd Pkt Len Std', 'Bwd Pkts/s', 'Fwd Pkt Len Mean', 'FIN Flag Cnt', 'Pkt Len Mean', 'Fwd Act Data Pkts', 'Tot Fwd Pkts', 'Subflow Bwd Pkts', 'Tot Bwd Pkts'], 'Adv sample 597': ['Init Fwd Win Byts', 'Fwd Pkt Len Std', 'Fwd Pkt Len Max', 'Down/Up Ratio', 'Pkt Len Std', 'Fwd Pkt Len Mean', 'Flow Byts/s', 'Bwd Pkts/s', 'Pkt Len Max', 'Fwd Seg Size Avg'], 'Adv sample 598': ['SYN Flag Cnt', 'Bwd Header Len', 'FIN Flag Cnt', 'Fwd Pkt Len Std', 'Bwd Pkts/s', 'Tot Bwd Pkts', 'Pkt Len Max', 'Subflow Bwd Pkts', 'Fwd Seg Size Avg', 'Fwd Act Data Pkts'], 'Adv sample 599': ['SYN Flag Cnt', 'Bwd Header Len', 'FIN Flag Cnt', 'Subflow Bwd Pkts', 'Fwd Pkt Len Std', 'Fwd Act Data Pkts', 'Fwd Pkt Len Max', 'Fwd IAT Std', 'ACK Flag Cnt', 'Fwd Seg Size Avg'], 'Adv sample 600': ['SYN Flag Cnt', 'FIN Flag Cnt', 'Bwd Header Len', 'Bwd Pkts/s', 'Fwd Pkt Len Std', 'Down/Up Ratio', 'Fwd Seg Size Avg', 'Fwd Pkt Len Mean', 'TotLen Fwd Pkts', 'Fwd Pkt Len Max'], 'Adv sample 601': ['Bwd Header Len', 'SYN Flag Cnt', 'Fwd Pkt Len Std', 'FIN Flag Cnt', 'Bwd Pkts/s', 'Down/Up Ratio', 'Fwd Pkt Len Mean', 'Fwd Pkt Len Max', 'Pkt Len Max', 'Fwd Seg Size Avg'], 'Adv sample 602': ['SYN Flag Cnt', 'Fwd Pkt Len Std', 'Fwd Pkt Len Max', 'Down/Up Ratio', 'Pkt Len Max', 'Pkt Len Std', 'FIN Flag Cnt', 'Fwd Pkt Len Min', 'Bwd Pkts/s', 'Pkt Size Avg'], 'Adv sample 603': ['Bwd Header Len', 'SYN Flag Cnt', 'FIN Flag Cnt', 'Bwd Pkts/s', 'Fwd Pkt Len Std', 'Pkt Len Min', 'Fwd Pkt Len Mean', 'Bwd Pkt Len Min', 'Pkt Len Max', 'Pkt Size Avg'], 'Adv sample 604': ['Init Fwd Win Byts', 'Fwd Pkt Len Std', 'Fwd Pkt Len Max', 'Fwd Pkt Len Mean', 'Down/Up Ratio', 'Pkt Len Min', 'Pkt Len Std', 'Pkt Len Max', 'FIN Flag Cnt', 'Bwd Pkts/s'], 'Adv sample 605': ['Fwd Pkt Len Std', 'Fwd IAT Tot', 'Fwd Pkt Len Max', 'Pkt Len Max', 'Bwd Pkt Len Max', 'Pkt Len Std', 'Fwd IAT Max', 'Fwd Header Len', 'Flow IAT Max', 'Pkt Size Avg'], 'Adv sample 606': ['Fwd Pkt Len Max', 'Fwd Pkt Len Std', 'Pkt Len Max', 'Pkt Len Std', 'Pkt Len Mean', 'Bwd Pkt Len Std', 'Fwd Pkt Len Mean', 'Bwd Pkt Len Max', 'Bwd Seg Size Avg', 'Pkt Len Min'], 'Adv sample 607': ['ACK Flag Cnt', 'Bwd Header Len', 'SYN Flag Cnt', 'Init Fwd Win Byts', 'Fwd Pkt Len Std', 'Fwd Pkt Len Max', 'Bwd Pkts/s', 'Fwd Pkt Len Mean', 'Down/Up Ratio', 'Fwd Seg Size Avg'], 'Adv sample 608': ['SYN Flag Cnt', 'Fwd Pkt Len Std', 'Fwd Pkt Len Max', 'Fwd Header Len', 'Fwd Pkt Len Mean', 'Tot Bwd Pkts', 'Pkt Size Avg', 'Pkt Len Max', 'Fwd Seg Size Avg', 'Tot Fwd Pkts'], 'Adv sample 609': ['Fwd Pkt Len Std', 'Fwd Pkt Len Max', 'Fwd Pkt Len Mean', 'Fwd Pkt Len Min', 'Pkt Len Max', 'Pkt Len Std', 'Fwd Header Len', 'Pkt Size Avg', 'Bwd Pkts/s', 'Pkt Len Min'], 'Adv sample 610': ['Bwd Header Len', 'SYN Flag Cnt', 'Fwd Pkt Len Std', 'Fwd Pkt Len Max', 'Fwd Pkt Len Mean', 'Tot Bwd Pkts', 'Fwd Pkt Len Min', 'Subflow Bwd Pkts', 'FIN Flag Cnt', 'Pkt Len Min'], 'Adv sample 611': ['SYN Flag Cnt', 'Bwd Header Len', 'FIN Flag Cnt', 'Bwd Pkts/s', 'Tot Bwd Pkts', 'Pkt Len Min', 'Fwd Seg Size Avg', 'Subflow Bwd Pkts', 'ACK Flag Cnt', 'Fwd Pkt Len Std'], 'Adv sample 612': ['Fwd Pkt Len Std', 'Fwd Pkt Len Max', 'Fwd Seg Size Avg', 'Pkt Len Max', 'Pkt Len Mean', 'Pkt Len Std', 'Fwd Pkt Len Mean', 'Flow Byts/s', 'Fwd Seg Size Min', 'Pkt Size Avg'], 'Adv sample 613': ['Bwd Header Len', 'SYN Flag Cnt', 'Fwd Pkt Len Max', 'Fwd Pkt Len Std', 'Subflow Fwd Pkts', 'Pkt Len Std', 'Fwd Header Len', 'Fwd Act Data Pkts', 'Subflow Bwd Pkts', 'Fwd Seg Size Avg'], 'Adv sample 614': ['Fwd Pkt Len Std', 'Init Fwd Win Byts', 'Fwd Pkt Len Max', 'Fwd Pkt Len Mean', 'Down/Up Ratio', 'Pkt Len Std', 'Pkt Len Max', 'Flow Byts/s', 'FIN Flag Cnt', 'Pkt Size Avg'], 'Adv sample 615': ['SYN Flag Cnt', 'Bwd Header Len', 'FIN Flag Cnt', 'Bwd Pkts/s', 'Fwd Pkt Len Std', 'Tot Bwd Pkts', 'Fwd Pkt Len Mean', 'Fwd Pkt Len Max', 'Bwd IAT Std', 'Pkt Len Max'], 'Adv sample 616': ['SYN Flag Cnt', 'Fwd Pkt Len Std', 'Fwd Pkt Len Max', 'Bwd PSH Flags', 'Bwd Header Len', 'Bwd Pkts/s', 'Down/Up Ratio', 'Init Fwd Win Byts', 'Fwd Seg Size Avg', 'Pkt Size Avg'], 'Adv sample 617': ['Bwd Header Len', 'SYN Flag Cnt', 'Tot Bwd Pkts', 'Fwd Seg Size Avg', 'Fwd Pkt Len Std', 'Subflow Bwd Pkts', 'Fwd Pkt Len Mean', 'FIN Flag Cnt', 'Pkt Len Std', 'Pkt Len Min'], 'Adv sample 618': ['Bwd Header Len', 'SYN Flag Cnt', 'Bwd Pkts/s', 'FIN Flag Cnt', 'Fwd Pkt Len Std', 'Fwd Pkt Len Mean', 'Fwd Pkt Len Max', 'Pkt Len Mean', 'Bwd Pkt Len Min', 'Down/Up Ratio'], 'Adv sample 619': ['Bwd Header Len', 'SYN Flag Cnt', 'FIN Flag Cnt', 'Bwd Pkts/s', 'Fwd Pkt Len Std', 'Fwd Pkt Len Max', 'Tot Bwd Pkts', 'Pkt Len Min', 'Fwd Pkt Len Min', 'Fwd Pkt Len Mean'], 'Adv sample 620': ['SYN Flag Cnt', 'Bwd Header Len', 'FIN Flag Cnt', 'Fwd Pkt Len Std', 'Bwd Pkts/s', 'Fwd Act Data Pkts', 'Fwd Seg Size Avg', 'Down/Up Ratio', 'Tot Bwd Pkts', 'Fwd Pkt Len Min'], 'Adv sample 621': ['SYN Flag Cnt', 'Bwd Header Len', 'FIN Flag Cnt', 'Bwd Pkts/s', 'Fwd Pkt Len Std', 'Fwd Pkt Len Max', 'Down/Up Ratio', 'Subflow Bwd Pkts', 'Tot Bwd Pkts', 'Pkt Len Max'], 'Adv sample 622': ['Bwd Header Len', 'SYN Flag Cnt', 'Bwd Pkts/s', 'FIN Flag Cnt', 'Fwd Pkt Len Std', 'Pkt Len Max', 'Fwd Pkt Len Max', 'Down/Up Ratio', 'Pkt Len Mean', 'Fwd Pkt Len Min'], 'Adv sample 623': ['SYN Flag Cnt', 'Fwd Pkt Len Std', 'Fwd Pkt Len Max', 'Down/Up Ratio', 'Pkt Len Std', 'FIN Flag Cnt', 'Bwd Pkts/s', 'Pkt Size Avg', 'Pkt Len Min', 'Fwd Pkt Len Mean'], 'Adv sample 624': ['SYN Flag Cnt', 'Bwd Header Len', 'FIN Flag Cnt', 'Fwd Pkt Len Mean', 'Fwd Act Data Pkts', 'Fwd Seg Size Avg', 'Fwd IAT Std', 'ACK Flag Cnt', 'Fwd Pkt Len Max', 'TotLen Fwd Pkts'], 'Adv sample 625': ['SYN Flag Cnt', 'Bwd Header Len', 'FIN Flag Cnt', 'Fwd Pkt Len Max', 'Fwd Pkt Len Std', 'Pkt Len Min', 'Fwd Act Data Pkts', 'TotLen Fwd Pkts', 'Down/Up Ratio', 'Tot Bwd Pkts'], 'Adv sample 626': ['Init Fwd Win Byts', 'Fwd Pkt Len Std', 'Fwd Pkt Len Max', 'Down/Up Ratio', 'Fwd Pkt Len Mean', 'FIN Flag Cnt', 'Bwd Pkts/s', 'Fwd Pkt Len Min', 'Fwd Seg Size Avg', 'Pkt Len Std'], 'Adv sample 627': ['SYN Flag Cnt', 'Fwd Pkt Len Std', 'Fwd Pkt Len Max', 'Init Fwd Win Byts', 'Bwd PSH Flags', 'Fwd Pkt Len Mean', 'Pkt Size Avg', 'Bwd Pkts/s', 'Pkt Len Std', 'Fwd Pkt Len Min'], 'Adv sample 628': ['SYN Flag Cnt', 'Fwd Pkt Len Std', 'Down/Up Ratio', 'Fwd Pkt Len Max', 'Pkt Len Max', 'Pkt Len Std', 'Fwd Pkt Len Mean', 'FIN Flag Cnt', 'Pkt Len Min', 'Bwd Pkts/s'], 'Adv sample 629': ['Init Fwd Win Byts', 'Fwd Pkt Len Std', 'Down/Up Ratio', 'Fwd Pkt Len Max', 'Pkt Len Std', 'Fwd Pkt Len Mean', 'FIN Flag Cnt', 'Bwd Pkts/s', 'Bwd Pkt Len Min', 'Subflow Bwd Pkts'], 'Adv sample 630': ['Bwd Header Len', 'SYN Flag Cnt', 'Tot Bwd Pkts', 'Subflow Bwd Pkts', 'Fwd Seg Size Avg', 'Pkt Len Min', 'Fwd Pkt Len Min', 'FIN Flag Cnt', 'Bwd Pkt Len Min', 'Fwd IAT Std'], 'Adv sample 631': ['SYN Flag Cnt', 'Bwd Header Len', 'Bwd Pkts/s', 'Fwd Pkt Len Std', 'Fwd Pkt Len Max', 'FIN Flag Cnt', 'Pkt Len Min', 'Fwd Pkt Len Mean', 'Fwd Seg Size Avg', 'Init Fwd Win Byts'], 'Adv sample 632': ['Bwd Header Len', 'Bwd PSH Flags', 'Fwd Pkt Len Max', 'Fwd Pkt Len Std', 'SYN Flag Cnt', 'Fwd Pkt Len Mean', 'Bwd Pkts/s', 'Fwd Pkt Len Min', 'Subflow Bwd Pkts', 'Fwd Act Data Pkts'], 'Adv sample 633': ['Fwd Pkt Len Std', 'Fwd Pkt Len Max', 'Fwd Pkt Len Mean', 'Subflow Fwd Pkts', 'Fwd Seg Size Avg', 'Tot Bwd Pkts', 'Pkt Size Avg', 'Bwd Pkts/s', 'Tot Fwd Pkts', 'Pkt Len Max'], 'Adv sample 634': ['Bwd Header Len', 'SYN Flag Cnt', 'Tot Bwd Pkts', 'Subflow Bwd Pkts', 'Fwd Seg Size Avg', 'Pkt Len Min', 'Bwd Pkt Len Min', 'FIN Flag Cnt', 'Fwd IAT Std', 'Fwd Pkt Len Min'], 'Adv sample 635': ['SYN Flag Cnt', 'FIN Flag Cnt', 'Bwd Header Len', 'Bwd Pkts/s', 'Fwd Act Data Pkts', 'Fwd Seg Size Avg', 'Fwd Pkt Len Max', 'Fwd Pkt Len Mean', 'Fwd Pkt Len Std', 'Tot Bwd Pkts'], 'Adv sample 636': ['SYN Flag Cnt', 'FIN Flag Cnt', 'Bwd Header Len', 'Bwd Pkts/s', 'Tot Bwd Pkts', 'Fwd Pkt Len Max', 'Fwd Act Data Pkts', 'Fwd Pkt Len Std', 'Fwd Pkt Len Mean', 'Flow Pkts/s'], 'Adv sample 637': ['SYN Flag Cnt', 'Bwd Header Len', 'FIN Flag Cnt', 'Tot Bwd Pkts', 'Fwd IAT Std', 'Fwd Pkt Len Std', 'Subflow Bwd Pkts', 'Fwd Act Data Pkts', 'Bwd Pkts/s', 'Fwd Pkt Len Max'], 'Adv sample 638': ['SYN Flag Cnt', 'Bwd Header Len', 'FIN Flag Cnt', 'Fwd Pkt Len Mean', 'Fwd IAT Std', 'Tot Bwd Pkts', 'Fwd Act Data Pkts', 'Subflow Bwd Pkts', 'Fwd Pkt Len Std', 'TotLen Fwd Pkts'], 'Adv sample 639': ['SYN Flag Cnt', 'FIN Flag Cnt', 'Bwd Header Len', 'Bwd Pkts/s', 'Fwd Pkt Len Std', 'Fwd Pkt Len Max', 'Fwd Pkt Len Mean', 'Pkt Size Avg', 'Fwd Pkt Len Min', 'Tot Bwd Pkts'], 'Adv sample 640': ['Fwd Pkt Len Std', 'Fwd Pkt Len Max', 'Pkt Len Max', 'Fwd Pkt Len Mean', 'Fwd Seg Size Avg', 'Pkt Len Mean', 'Pkt Len Std', 'Down/Up Ratio', 'Pkt Size Avg', 'Subflow Fwd Pkts'], 'Adv sample 641': ['Fwd Pkt Len Std', 'Fwd Pkt Len Max', 'Pkt Len Std', 'Fwd Pkt Len Mean', 'Fwd Header Len', 'Subflow Fwd Pkts', 'Pkt Size Avg', 'Bwd Pkts/s', 'Fwd Seg Size Avg', 'ACK Flag Cnt'], 'Adv sample 642': ['ACK Flag Cnt', 'SYN Flag Cnt', 'Init Fwd Win Byts', 'Fwd Pkt Len Std', 'Fwd Pkt Len Max', 'Fwd Pkt Len Mean', 'Pkt Size Avg', 'Pkt Len Std', 'Pkt Len Max', 'Pkt Len Mean'], 'Adv sample 643': ['SYN Flag Cnt', 'Bwd Header Len', 'FIN Flag Cnt', 'Fwd Pkt Len Std', 'Fwd Pkt Len Mean', 'Bwd Pkts/s', 'Pkt Size Avg', 'Bwd Pkt Len Min', 'Pkt Len Mean', 'Pkt Len Min'], 'Adv sample 644': ['SYN Flag Cnt', 'Bwd Header Len', 'FIN Flag Cnt', 'Fwd Pkt Len Std', 'Init Fwd Win Byts', 'Fwd Act Data Pkts', 'Fwd Seg Size Avg', 'Fwd IAT Std', 'Subflow Bwd Pkts', 'Down/Up Ratio'], 'Adv sample 645': ['Fwd Pkt Len Std', 'Fwd Pkt Len Max', 'ACK Flag Cnt', 'SYN Flag Cnt', 'Fwd Pkt Len Mean', 'Down/Up Ratio', 'Pkt Len Max', 'Pkt Len Std', 'Fwd Pkt Len Min', 'Fwd Seg Size Avg'], 'Adv sample 646': ['Bwd Header Len', 'Fwd Pkt Len Std', 'SYN Flag Cnt', 'Flow Pkts/s', 'Fwd Pkt Len Max', 'Fwd Seg Size Avg', 'Bwd Pkts/s', 'Idle Min', 'Subflow Bwd Pkts', 'Pkt Len Std'], 'Adv sample 647': ['SYN Flag Cnt', 'Bwd Header Len', 'FIN Flag Cnt', 'Fwd Pkt Len Std', 'Fwd Act Data Pkts', 'Fwd Pkt Len Max', 'Fwd Seg Size Avg', 'Tot Bwd Pkts', 'Bwd Pkts/s', 'Subflow Bwd Pkts'], 'Adv sample 648': ['SYN Flag Cnt', 'Bwd Header Len', 'FIN Flag Cnt', 'Tot Bwd Pkts', 'Fwd Pkt Len Max', 'Fwd Act Data Pkts', 'Fwd Pkt Len Std', 'Subflow Bwd Pkts', 'Bwd IAT Std', 'TotLen Fwd Pkts'], 'Adv sample 649': ['Fwd Pkt Len Std', 'Init Fwd Win Byts', 'Fwd Pkt Len Max', 'Pkt Len Std', 'Pkt Len Max', 'FIN Flag Cnt', 'Fwd Pkt Len Min', 'Fwd Pkt Len Mean', 'Bwd Pkts/s', 'Fwd Seg Size Avg'], 'Adv sample 650': ['SYN Flag Cnt', 'Bwd Header Len', 'Fwd Pkt Len Std', 'Fwd Pkt Len Max', 'Bwd Pkts/s', 'Fwd Act Data Pkts', 'Fwd Seg Size Avg', 'TotLen Fwd Pkts', 'Pkt Len Max', 'Pkt Len Std'], 'Adv sample 651': ['SYN Flag Cnt', 'Fwd Pkt Len Max', 'Fwd Pkt Len Std', 'Fwd Pkt Len Mean', 'Fwd Header Len', 'Fwd Seg Size Avg', 'Pkt Len Mean', 'Pkt Len Max', 'Tot Fwd Pkts', 'Pkt Size Avg'], 'Adv sample 652': ['Bwd Header Len', 'Bwd PSH Flags', 'Fwd Pkt Len Std', 'Fwd Pkt Len Max', 'SYN Flag Cnt', 'Bwd Pkts/s', 'Fwd Seg Size Avg', 'Fwd Pkt Len Mean', 'Tot Bwd Pkts', 'Pkt Len Min'], 'Adv sample 653': ['Bwd Header Len', 'SYN Flag Cnt', 'FIN Flag Cnt', 'Bwd Pkts/s', 'Fwd Pkt Len Std', 'Fwd Pkt Len Max', 'Pkt Len Mean', 'Fwd Pkt Len Mean', 'Pkt Size Avg', 'Fwd Seg Size Avg'], 'Adv sample 654': ['Fwd Pkt Len Std', 'SYN Flag Cnt', 'Fwd Pkt Len Max', 'Bwd PSH Flags', 'Fwd Pkt Len Mean', 'Bwd Header Len', 'Bwd Pkts/s', 'FIN Flag Cnt', 'Pkt Len Max', 'Fwd Header Len'], 'Adv sample 655': ['SYN Flag Cnt', 'Fwd Pkt Len Max', 'Fwd Pkt Len Std', 'Bwd Pkts/s', 'Fwd Pkt Len Mean', 'Fwd Header Len', 'Pkt Size Avg', 'Pkt Len Max', 'Pkt Len Std', 'Fwd Seg Size Avg'], 'Adv sample 656': ['SYN Flag Cnt', 'Fwd Pkt Len Std', 'Pkt Size Avg', 'Bwd Header Len', 'Pkt Len Mean', 'Pkt Len Min', 'Fwd Pkt Len Max', 'Subflow Fwd Pkts', 'Tot Bwd Pkts', 'Down/Up Ratio'], 'Adv sample 657': ['Fwd Pkt Len Std', 'Fwd Pkt Len Max', 'ACK Flag Cnt', 'SYN Flag Cnt', 'Fwd Pkt Len Mean', 'Down/Up Ratio', 'Pkt Len Mean', 'Pkt Len Std', 'Fwd Seg Size Avg', 'Pkt Len Max'], 'Adv sample 658': ['SYN Flag Cnt', 'Fwd Pkt Len Std', 'Fwd Pkt Len Max', 'Down/Up Ratio', 'Pkt Len Max', 'FIN Flag Cnt', 'Fwd Pkt Len Mean', 'Pkt Len Std', 'Bwd Header Len', 'Bwd Pkts/s'], 'Adv sample 659': ['Init Fwd Win Byts', 'Fwd Pkt Len Std', 'Fwd Pkt Len Max', 'Down/Up Ratio', 'FIN Flag Cnt', 'Pkt Len Std', 'Fwd Pkt Len Mean', 'Fwd Seg Size Avg', 'Bwd Pkts/s', 'Bwd Pkt Len Std'], 'Adv sample 660': ['Fwd Pkt Len Std', 'ACK Flag Cnt', 'Fwd Pkt Len Max', 'SYN Flag Cnt', 'Fwd Pkt Len Min', 'Fwd Pkt Len Mean', 'Down/Up Ratio', 'Fwd Act Data Pkts', 'Pkt Len Mean', 'Pkt Len Std'], 'Adv sample 661': ['SYN Flag Cnt', 'Bwd Header Len', 'FIN Flag Cnt', 'Bwd Pkts/s', 'Fwd Pkt Len Max', 'Fwd Pkt Len Std', 'Fwd IAT Std', 'Flow Pkts/s', 'Subflow Bwd Pkts', 'Fwd Seg Size Avg'], 'Adv sample 662': ['SYN Flag Cnt', 'Bwd Header Len', 'FIN Flag Cnt', 'Fwd Act Data Pkts', 'Bwd Pkts/s', 'Fwd Pkt Len Std', 'Fwd Pkt Len Mean', 'Pkt Len Min', 'Subflow Bwd Pkts', 'Fwd Pkt Len Max'], 'Adv sample 663': ['Bwd Header Len', 'SYN Flag Cnt', 'Fwd Pkt Len Std', 'Tot Bwd Pkts', 'Fwd Pkt Len Max', 'Fwd Seg Size Avg', 'Pkt Len Min', 'Subflow Bwd Pkts', 'Fwd Pkt Len Mean', 'Fwd Pkt Len Min'], 'Adv sample 664': ['ACK Flag Cnt', 'Bwd Header Len', 'SYN Flag Cnt', 'Bwd Pkts/s', 'Fwd Pkt Len Max', 'Fwd Pkt Len Std', 'Init Fwd Win Byts', 'Down/Up Ratio', 'Pkt Len Max', 'Pkt Len Mean'], 'Adv sample 665': ['Init Fwd Win Byts', 'Fwd Pkt Len Std', 'Fwd Pkt Len Max', 'Down/Up Ratio', 'Pkt Len Std', 'FIN Flag Cnt', 'Fwd Pkt Len Mean', 'Pkt Len Max', 'Fwd Pkt Len Min', 'Bwd Pkts/s'], 'Adv sample 666': ['ACK Flag Cnt', 'Bwd Header Len', 'SYN Flag Cnt', 'Fwd Pkt Len Std', 'Init Fwd Win Byts', 'Fwd Pkt Len Max', 'Bwd Pkts/s', 'Pkt Len Max', 'Pkt Size Avg', 'Fwd Pkt Len Mean'], 'Adv sample 667': ['Fwd Pkt Len Std', 'ACK Flag Cnt', 'SYN Flag Cnt', 'Fwd Pkt Len Max', 'Down/Up Ratio', 'Pkt Len Std', 'Fwd Pkt Len Mean', 'Pkt Len Mean', 'Fwd Pkt Len Min', 'Pkt Size Avg'], 'Adv sample 668': ['Bwd Header Len', 'SYN Flag Cnt', 'Bwd Pkts/s', 'Fwd Pkt Len Std', 'Fwd Pkt Len Max', 'Fwd Pkt Len Mean', 'Down/Up Ratio', 'Fwd Seg Size Avg', 'FIN Flag Cnt', 'Pkt Size Avg'], 'Adv sample 669': ['SYN Flag Cnt', 'Bwd Header Len', 'FIN Flag Cnt', 'Bwd Pkts/s', 'Fwd Pkt Len Std', 'Fwd Seg Size Avg', 'Pkt Len Min', 'Tot Bwd Pkts', 'ACK Flag Cnt', 'Fwd IAT Std'], 'Adv sample 670': ['Fwd Pkt Len Max', 'Fwd Pkt Len Std', 'Pkt Size Avg', 'Bwd Pkts/s', 'Pkt Len Mean', 'Fwd Seg Size Avg', 'Tot Fwd Pkts', 'Tot Bwd Pkts', 'Fwd Pkt Len Mean', 'Subflow Fwd Pkts'], 'Adv sample 671': ['SYN Flag Cnt', 'FIN Flag Cnt', 'Bwd Header Len', 'Fwd Pkt Len Std', 'Bwd Pkts/s', 'TotLen Fwd Pkts', 'Fwd Seg Size Avg', 'Tot Bwd Pkts', 'Fwd Pkt Len Max', 'Fwd Act Data Pkts'], 'Adv sample 672': ['ACK Flag Cnt', 'SYN Flag Cnt', 'Bwd Header Len', 'Init Fwd Win Byts', 'Fwd Pkt Len Max', 'Fwd Pkt Len Std', 'Bwd Pkts/s', 'Subflow Bwd Pkts', 'Pkt Size Avg', 'Pkt Len Std'], 'Adv sample 673': ['SYN Flag Cnt', 'Bwd Header Len', 'Bwd Pkts/s', 'Fwd Pkt Len Std', 'Fwd Pkt Len Max', 'Pkt Len Min', 'Bwd Pkt Len Min', 'FIN Flag Cnt', 'Subflow Bwd Pkts', 'Fwd Seg Size Avg'], 'Adv sample 674': ['ACK Flag Cnt', 'SYN Flag Cnt', 'Bwd Header Len', 'Fwd Pkt Len Std', 'Init Fwd Win Byts', 'Bwd Pkts/s', 'Fwd Pkt Len Max', 'Pkt Len Std', 'Pkt Len Max', 'Tot Bwd Pkts'], 'Adv sample 675': ['Bwd Header Len', 'SYN Flag Cnt', 'Tot Bwd Pkts', 'Subflow Bwd Pkts', 'Fwd Pkt Len Mean', 'FIN Flag Cnt', 'Fwd Pkt Len Max', 'Fwd Pkt Len Std', 'Fwd Seg Size Avg', 'Pkt Len Min'], 'Adv sample 676': ['Fwd Pkt Len Std', 'Fwd Pkt Len Max', 'Pkt Size Avg', 'Tot Bwd Pkts', 'Fwd Seg Size Avg', 'Pkt Len Min', 'Bwd Pkt Len Mean', 'Fwd Pkt Len Mean', 'Tot Fwd Pkts', 'Pkt Len Max'], 'Adv sample 677': ['Fwd Pkt Len Std', 'ACK Flag Cnt', 'Fwd Pkt Len Max', 'SYN Flag Cnt', 'Init Fwd Win Byts', 'Bwd Header Len', 'Pkt Len Std', 'Fwd Pkt Len Mean', 'Fwd Seg Size Avg', 'Pkt Len Max'], 'Adv sample 678': ['Bwd Header Len', 'SYN Flag Cnt', 'Bwd Pkts/s', 'FIN Flag Cnt', 'Fwd Pkt Len Std', 'Fwd Pkt Len Max', 'Fwd Pkt Len Mean', 'Down/Up Ratio', 'Pkt Size Avg', 'Pkt Len Mean'], 'Adv sample 679': ['Init Fwd Win Byts', 'Fwd Pkt Len Std', 'Down/Up Ratio', 'Fwd Pkt Len Max', 'FIN Flag Cnt', 'Pkt Len Std', 'Fwd Pkt Len Mean', 'Pkt Size Avg', 'Bwd Pkt Len Min', 'Bwd Pkts/s'], 'Adv sample 680': ['Bwd Header Len', 'SYN Flag Cnt', 'Bwd Pkts/s', 'FIN Flag Cnt', 'Fwd Pkt Len Std', 'Fwd Pkt Len Max', 'Fwd Pkt Len Mean', 'Subflow Bwd Pkts', 'Tot Bwd Pkts', 'Pkt Size Avg'], 'Adv sample 681': ['Bwd Header Len', 'SYN Flag Cnt', 'Pkt Len Min', 'Fwd Pkt Len Std', 'Tot Bwd Pkts', 'Fwd Pkt Len Mean', 'Subflow Bwd Pkts', 'Fwd Pkt Len Min', 'Fwd Pkt Len Max', 'Bwd Pkt Len Min'], 'Adv sample 682': ['Bwd Header Len', 'SYN Flag Cnt', 'FIN Flag Cnt', 'Bwd Pkts/s', 'Fwd Pkt Len Std', 'Fwd Pkt Len Max', 'Fwd Pkt Len Mean', 'Fwd Pkt Len Min', 'Pkt Len Mean', 'Tot Bwd Pkts'], 'Adv sample 683': ['SYN Flag Cnt', 'Bwd Header Len', 'FIN Flag Cnt', 'Bwd Pkts/s', 'Subflow Bwd Pkts', 'Fwd Pkt Len Max', 'Bwd Pkt Len Min', 'Fwd Act Data Pkts', 'TotLen Fwd Pkts', 'Init Fwd Win Byts'], 'Adv sample 684': ['SYN Flag Cnt', 'FIN Flag Cnt', 'Bwd Header Len', 'Subflow Bwd Pkts', 'Tot Bwd Pkts', 'Fwd Seg Size Avg', 'Fwd Pkt Len Max', 'TotLen Fwd Pkts', 'Fwd Pkt Len Std', 'Fwd Pkt Len Mean'], 'Adv sample 685': ['SYN Flag Cnt', 'Bwd Header Len', 'FIN Flag Cnt', 'Fwd Pkt Len Std', 'Fwd Pkt Len Max', 'Bwd Pkts/s', 'Fwd Seg Size Avg', 'Pkt Len Std', 'Fwd IAT Std', 'Fwd Pkt Len Mean'], 'Adv sample 686': ['Fwd Pkt Len Std', 'Fwd Pkt Len Max', 'ACK Flag Cnt', 'SYN Flag Cnt', 'Down/Up Ratio', 'Pkt Len Max', 'Fwd Pkt Len Mean', 'Pkt Size Avg', 'Pkt Len Std', 'Fwd Seg Size Avg'], 'Adv sample 687': ['SYN Flag Cnt', 'Bwd Header Len', 'FIN Flag Cnt', 'Fwd Pkt Len Mean', 'Fwd Act Data Pkts', 'Fwd Pkt Len Max', 'Fwd Seg Size Avg', 'Bwd Pkts/s', 'Fwd IAT Std', 'Tot Bwd Pkts'], 'Adv sample 688': ['PSH Flag Cnt', 'Init Fwd Win Byts', 'ACK Flag Cnt', 'Tot Bwd Pkts', 'Bwd PSH Flags', 'SYN Flag Cnt', 'Down/Up Ratio', 'Bwd IAT Tot', 'Bwd Pkts/s', 'FIN Flag Cnt'], 'Adv sample 689': ['SYN Flag Cnt', 'Bwd Header Len', 'FIN Flag Cnt', 'Bwd Pkts/s', 'Fwd Act Data Pkts', 'Fwd Pkt Len Std', 'Fwd Seg Size Avg', 'TotLen Fwd Pkts', 'Pkt Size Avg', 'Fwd IAT Std'], 'Adv sample 690': ['Bwd Header Len', 'SYN Flag Cnt', 'Bwd PSH Flags', 'Fwd Pkt Len Std', 'Fwd Pkt Len Max', 'Pkt Len Min', 'Fwd Act Data Pkts', 'Bwd Pkts/s', 'Fwd Pkt Len Mean', 'Pkt Len Max'], 'Adv sample 691': ['Pkt Len Mean', 'Fwd Pkt Len Max', 'Pkt Len Std', 'Fwd Pkt Len Std', 'Pkt Len Max', 'Pkt Size Avg', 'Bwd Header Len', 'Fwd Pkt Len Mean', 'Fwd Header Len', 'Subflow Fwd Pkts'], 'Adv sample 692': ['Fwd Pkt Len Std', 'SYN Flag Cnt', 'Down/Up Ratio', 'Fwd Pkt Len Max', 'Fwd Pkt Len Mean', 'FIN Flag Cnt', 'Pkt Size Avg', 'Fwd Seg Size Avg', 'Pkt Len Std', 'Fwd Pkt Len Min'], 'Adv sample 693': ['ACK Flag Cnt', 'SYN Flag Cnt', 'Bwd Header Len', 'Fwd Pkt Len Max', 'Init Fwd Win Byts', 'Fwd Pkt Len Std', 'Pkt Len Std', 'Bwd Pkts/s', 'Fwd Pkt Len Mean', 'Tot Bwd Pkts'], 'Adv sample 694': ['SYN Flag Cnt', 'Fwd Pkt Len Std', 'Fwd Pkt Len Max', 'Down/Up Ratio', 'Fwd Pkt Len Mean', 'Bwd Pkts/s', 'Pkt Len Max', 'Pkt Size Avg', 'Fwd Seg Size Avg', 'Pkt Len Min'], 'Adv sample 695': ['SYN Flag Cnt', 'Fwd Pkt Len Std', 'Down/Up Ratio', 'Fwd Pkt Len Max', 'Bwd Pkts/s', 'FIN Flag Cnt', 'Fwd Pkt Len Mean', 'Fwd Seg Size Avg', 'Pkt Len Std', 'Flow Byts/s'], 'Adv sample 696': ['Fwd Pkt Len Std', 'Fwd Pkt Len Max', 'Fwd Header Len', 'Bwd Pkts/s', 'Tot Bwd Pkts', 'Fwd Pkt Len Mean', 'Subflow Fwd Pkts', 'Pkt Len Max', 'Fwd Seg Size Avg', 'Pkt Size Avg'], 'Adv sample 697': ['SYN Flag Cnt', 'Bwd Header Len', 'Bwd Pkts/s', 'FIN Flag Cnt', 'Fwd Pkt Len Max', 'Fwd Pkt Len Std', 'Pkt Len Max', 'Tot Bwd Pkts', 'Down/Up Ratio', 'Fwd Act Data Pkts'], 'Adv sample 698': ['Bwd Header Len', 'SYN Flag Cnt', 'FIN Flag Cnt', 'Fwd Pkt Len Std', 'Bwd Pkts/s', 'Pkt Size Avg', 'Down/Up Ratio', 'Fwd Pkt Len Max', 'Fwd Pkt Len Mean', 'Pkt Len Max'], 'Adv sample 699': ['Fwd Pkt Len Std', 'Fwd Pkt Len Max', 'Tot Fwd Pkts', 'Subflow Fwd Pkts', 'Fwd Pkt Len Mean', 'Pkt Size Avg', 'Pkt Len Min', 'Fwd Seg Size Avg', 'Tot Bwd Pkts', 'Pkt Len Max'], 'Adv sample 700': ['Bwd Header Len', 'SYN Flag Cnt', 'FIN Flag Cnt', 'Bwd Pkts/s', 'Fwd Pkt Len Std', 'Fwd Pkt Len Mean', 'Fwd Pkt Len Max', 'Pkt Size Avg', 'Fwd Pkt Len Min', 'Pkt Len Mean'], 'Adv sample 701': ['Fwd Pkt Len Std', 'Fwd Pkt Len Max', 'Bwd Pkts/s', 'Tot Bwd Pkts', 'Fwd Pkt Len Mean', 'FIN Flag Cnt', 'Fwd Seg Size Avg', 'Pkt Len Max', 'Pkt Len Min', 'Pkt Size Avg'], 'Adv sample 702': ['SYN Flag Cnt', 'Bwd Header Len', 'Bwd Pkts/s', 'Fwd Pkt Len Std', 'Fwd Pkt Len Max', 'Fwd Pkt Len Mean', 'Pkt Size Avg', 'FIN Flag Cnt', 'Bwd Pkt Len Min', 'Down/Up Ratio'], 'Adv sample 703': ['Fwd Pkt Len Std', 'Fwd Pkt Len Max', 'Fwd Pkt Len Mean', 'Pkt Len Std', 'Pkt Size Avg', 'Fwd Seg Size Avg', 'Pkt Len Max', 'Down/Up Ratio', 'Bwd Pkt Len Std', 'Pkt Len Mean'], 'Adv sample 704': ['SYN Flag Cnt', 'Bwd Header Len', 'FIN Flag Cnt', 'Bwd Pkts/s', 'Tot Bwd Pkts', 'Fwd Pkt Len Std', 'Fwd Pkt Len Mean', 'Bwd Pkt Len Min', 'Fwd Pkt Len Max', 'Fwd Act Data Pkts'], 'Adv sample 705': ['Bwd Header Len', 'Fwd Pkt Len Max', 'SYN Flag Cnt', 'Fwd Pkt Len Std', 'Subflow Bwd Pkts', 'Tot Fwd Pkts', 'Fwd Pkt Len Mean', 'Init Fwd Win Byts', 'Tot Bwd Pkts', 'Fwd Act Data Pkts'], 'Adv sample 706': ['SYN Flag Cnt', 'Bwd Header Len', 'Fwd Pkt Len Std', 'Fwd Pkt Len Max', 'Bwd Pkts/s', 'FIN Flag Cnt', 'Fwd Seg Size Avg', 'Fwd Pkt Len Mean', 'Pkt Len Min', 'Down/Up Ratio'], 'Adv sample 707': ['Fwd Pkt Len Std', 'Init Fwd Win Byts', 'Fwd Pkt Len Max', 'Down/Up Ratio', 'FIN Flag Cnt', 'Fwd Pkt Len Mean', 'Fwd Seg Size Avg', 'Pkt Len Std', 'Pkt Len Max', 'Fwd Pkt Len Min'], 'Adv sample 708': ['ACK Flag Cnt', 'SYN Flag Cnt', 'Bwd Header Len', 'Fwd Pkt Len Std', 'Init Fwd Win Byts', 'Fwd Pkt Len Max', 'Bwd Pkts/s', 'Pkt Len Min', 'Pkt Len Max', 'Pkt Len Std'], 'Adv sample 709': ['SYN Flag Cnt', 'FIN Flag Cnt', 'Bwd Pkts/s', 'Bwd Header Len', 'Fwd Pkt Len Std', 'Fwd Pkt Len Max', 'Fwd IAT Std', 'Tot Bwd Pkts', 'Down/Up Ratio', 'TotLen Fwd Pkts'], 'Adv sample 710': ['Bwd Header Len', 'SYN Flag Cnt', 'Idle Min', 'Fwd Pkt Len Max', 'Fwd Pkt Len Std', 'Bwd Pkts/s', 'Fwd Pkt Len Mean', 'Fwd Act Data Pkts', 'Tot Bwd Pkts', 'Init Fwd Win Byts'], 'Adv sample 711': ['Fwd Pkt Len Std', 'Fwd Pkt Len Max', 'ACK Flag Cnt', 'SYN Flag Cnt', 'Down/Up Ratio', 'Fwd Pkt Len Mean', 'Pkt Len Max', 'Pkt Len Std', 'Fwd Pkt Len Min', 'Pkt Len Mean'], 'Adv sample 712': ['Fwd Pkt Len Std', 'ACK Flag Cnt', 'Fwd Pkt Len Max', 'SYN Flag Cnt', 'Down/Up Ratio', 'Fwd Pkt Len Mean', 'Fwd Seg Size Avg', 'Pkt Len Max', 'Fwd IAT Max', 'Fwd Pkt Len Min'], 'Adv sample 713': ['Bwd Header Len', 'SYN Flag Cnt', 'Tot Bwd Pkts', 'Subflow Bwd Pkts', 'Fwd Seg Size Avg', 'FIN Flag Cnt', 'Pkt Len Min', 'Fwd Pkt Len Mean', 'Bwd Pkt Len Min', 'Bwd IAT Std'], 'Adv sample 714': ['SYN Flag Cnt', 'Bwd Header Len', 'Fwd Pkt Len Std', 'Fwd Pkt Len Max', 'Bwd Pkts/s', 'Fwd Act Data Pkts', 'Fwd Pkt Len Mean', 'Fwd Pkt Len Min', 'Subflow Bwd Pkts', 'Bwd IAT Std'], 'Adv sample 715': ['SYN Flag Cnt', 'Fwd Pkt Len Max', 'Fwd Pkt Len Std', 'Fwd Header Len', 'Fwd Pkt Len Mean', 'Pkt Len Std', 'Bwd Pkts/s', 'Tot Fwd Pkts', 'Subflow Fwd Pkts', 'Fwd Seg Size Avg'], 'Adv sample 716': ['Bwd Header Len', 'SYN Flag Cnt', 'FIN Flag Cnt', 'Bwd Pkts/s', 'Fwd Pkt Len Std', 'Fwd Pkt Len Min', 'Fwd Pkt Len Max', 'Pkt Len Mean', 'Fwd Pkt Len Mean', 'Pkt Size Avg'], 'Adv sample 717': ['SYN Flag Cnt', 'Bwd Header Len', 'FIN Flag Cnt', 'Fwd Pkt Len Std', 'Bwd Pkts/s', 'Fwd Seg Size Avg', 'Fwd Pkt Len Max', 'Tot Bwd Pkts', 'Fwd Pkt Len Mean', 'Pkt Len Max'], 'Adv sample 718': ['Init Fwd Win Byts', 'Fwd Pkt Len Std', 'Fwd Pkt Len Max', 'Fwd Pkt Len Mean', 'FIN Flag Cnt', 'Down/Up Ratio', 'Fwd Seg Size Avg', 'Pkt Len Min', 'Bwd Pkts/s', 'Pkt Len Std'], 'Adv sample 719': ['SYN Flag Cnt', 'Bwd Header Len', 'Fwd Pkt Len Std', 'Fwd Pkt Len Max', 'Pkt Len Mean', 'Pkt Len Std', 'Fwd Seg Size Avg', 'Pkt Size Avg', 'Subflow Fwd Pkts', 'Tot Bwd Pkts'], 'Adv sample 720': ['Bwd Header Len', 'SYN Flag Cnt', 'FIN Flag Cnt', 'Bwd Pkts/s', 'Fwd Pkt Len Std', 'Fwd Pkt Len Mean', 'Fwd Pkt Len Max', 'Pkt Size Avg', 'Pkt Len Max', 'Tot Bwd Pkts'], 'Adv sample 721': ['SYN Flag Cnt', 'Bwd Header Len', 'FIN Flag Cnt', 'Tot Bwd Pkts', 'ACK Flag Cnt', 'Fwd IAT Std', 'Fwd Pkt Len Mean', 'Subflow Bwd Pkts', 'Fwd Pkt Len Max', 'Bwd Pkts/s'], 'Adv sample 722': ['Bwd Header Len', 'SYN Flag Cnt', 'Fwd Pkt Len Mean', 'Fwd Pkt Len Std', 'Tot Bwd Pkts', 'FIN Flag Cnt', 'Subflow Bwd Pkts', 'Fwd Pkt Len Max', 'Fwd Seg Size Avg', 'Bwd Pkt Len Min'], 'Adv sample 723': ['Bwd Header Len', 'SYN Flag Cnt', 'Bwd Pkts/s', 'Fwd Pkt Len Std', 'Fwd Pkt Len Max', 'Init Fwd Win Byts', 'Fwd IAT Tot', 'Subflow Bwd Pkts', 'Idle Min', 'Bwd Pkt Len Max'], 'Adv sample 724': ['SYN Flag Cnt', 'Bwd Header Len', 'Fwd Pkt Len Max', 'Fwd Pkt Len Std', 'Fwd Seg Size Avg', 'Fwd Pkt Len Mean', 'Bwd Pkts/s', 'Pkt Len Max', 'FIN Flag Cnt', 'Pkt Len Min'], 'Adv sample 725': ['Bwd Header Len', 'SYN Flag Cnt', 'FIN Flag Cnt', 'Bwd Pkts/s', 'Fwd Pkt Len Mean', 'Fwd Pkt Len Std', 'Fwd Pkt Len Max', 'Fwd Pkt Len Min', 'Fwd Seg Size Avg', 'Bwd Pkt Len Min'], 'Adv sample 726': ['Fwd Pkt Len Std', 'Fwd Pkt Len Max', 'Bwd Pkts/s', 'Fwd Pkt Len Mean', 'Tot Bwd Pkts', 'Fwd Seg Size Avg', 'Pkt Len Min', 'Pkt Size Avg', 'Subflow Fwd Pkts', 'Tot Fwd Pkts'], 'Adv sample 727': ['Bwd Header Len', 'SYN Flag Cnt', 'FIN Flag Cnt', 'Fwd Pkt Len Std', 'Bwd Pkts/s', 'Fwd Pkt Len Min', 'Pkt Len Max', 'Fwd Pkt Len Max', 'Pkt Len Min', 'Pkt Len Mean'], 'Adv sample 728': ['Fwd Pkt Len Std', 'Fwd Pkt Len Max', 'Fwd Pkt Len Mean', 'Pkt Len Std', 'Pkt Len Max', 'Fwd Seg Size Avg', 'Pkt Len Mean', 'Pkt Size Avg', 'Bwd Pkt Len Std', 'Pkt Len Min'], 'Adv sample 729': ['SYN Flag Cnt', 'Bwd Header Len', 'Bwd Pkts/s', 'FIN Flag Cnt', 'Tot Bwd Pkts', 'Pkt Size Avg', 'Pkt Len Mean', 'Fwd Pkt Len Min', 'Fwd Pkt Len Mean', 'Fwd Pkt Len Max'], 'Adv sample 730': ['ACK Flag Cnt', 'Bwd Header Len', 'SYN Flag Cnt', 'Init Fwd Win Byts', 'Fwd Pkt Len Max', 'Fwd Pkt Len Std', 'Bwd Pkts/s', 'Fwd Pkt Len Mean', 'Fwd Seg Size Avg', 'Pkt Len Max'], 'Adv sample 731': ['Fwd Pkt Len Max', 'Fwd Pkt Len Std', 'Fwd Pkt Len Mean', 'Pkt Len Std', 'Fwd Seg Size Avg', 'Pkt Size Avg', 'Pkt Len Max', 'Down/Up Ratio', 'Pkt Len Mean', 'Tot Fwd Pkts'], 'Adv sample 732': ['Fwd Pkt Len Std', 'Fwd Pkt Len Max', 'ACK Flag Cnt', 'SYN Flag Cnt', 'Down/Up Ratio', 'Fwd Pkt Len Mean', 'Pkt Len Std', 'Pkt Len Mean', 'Pkt Size Avg', 'Fwd Seg Size Avg'], 'Adv sample 733': ['Bwd Header Len', 'SYN Flag Cnt', 'Tot Bwd Pkts', 'Fwd Pkt Len Std', 'Pkt Len Min', 'Fwd Pkt Len Min', 'Fwd Pkt Len Mean', 'Subflow Bwd Pkts', 'Fwd Pkt Len Max', 'Fwd Seg Size Avg'], 'Adv sample 734': ['SYN Flag Cnt', 'Bwd Header Len', 'FIN Flag Cnt', 'Fwd Pkt Len Std', 'Fwd Act Data Pkts', 'Bwd Pkts/s', 'Fwd Pkt Len Mean', 'Fwd Pkt Len Max', 'Fwd Pkt Len Min', 'Init Fwd Win Byts'], 'Adv sample 735': ['SYN Flag Cnt', 'Fwd Pkt Len Max', 'Fwd Pkt Len Std', 'Bwd Header Len', 'Tot Bwd Pkts', 'Init Fwd Win Byts', 'Fwd Seg Size Avg', 'Fwd IAT Max', 'Fwd Act Data Pkts', 'Fwd IAT Std'], 'Adv sample 736': ['Init Fwd Win Byts', 'Fwd Pkt Len Std', 'Down/Up Ratio', 'Fwd Pkt Len Max', 'Pkt Len Std', 'Bwd Pkts/s', 'FIN Flag Cnt', 'Bwd Pkt Len Min', 'Fwd Pkt Len Mean', 'Pkt Len Max'], 'Adv sample 737': ['Bwd Header Len', 'SYN Flag Cnt', 'Fwd Pkt Len Std', 'Subflow Bwd Pkts', 'Init Fwd Win Byts', 'Fwd Pkt Len Max', 'Bwd Pkts/s', 'Idle Min', 'Flow Byts/s', 'Tot Bwd Pkts'], 'Adv sample 738': ['Bwd Header Len', 'SYN Flag Cnt', 'FIN Flag Cnt', 'Bwd Pkts/s', 'Bwd Pkt Len Min', 'Fwd Pkt Len Max', 'Fwd Pkt Len Std', 'Fwd Pkt Len Mean', 'Pkt Len Max', 'Fwd Pkt Len Min'], 'Adv sample 739': ['Init Fwd Win Byts', 'Fwd Pkt Len Std', 'Down/Up Ratio', 'Fwd Pkt Len Max', 'Fwd Seg Size Avg', 'Pkt Len Std', 'Fwd Pkt Len Mean', 'Pkt Len Min', 'Bwd Pkts/s', 'FIN Flag Cnt'], 'Adv sample 740': ['SYN Flag Cnt', 'Fwd Pkt Len Max', 'Fwd Pkt Len Std', 'Fwd Header Len', 'Pkt Len Std', 'Pkt Len Max', 'Fwd Pkt Len Mean', 'Pkt Size Avg', 'Tot Fwd Pkts', 'Bwd Pkts/s'], 'Adv sample 741': ['Bwd Header Len', 'SYN Flag Cnt', 'Fwd Pkt Len Std', 'Bwd Pkts/s', 'Fwd Pkt Len Mean', 'FIN Flag Cnt', 'Fwd Seg Size Avg', 'Fwd Pkt Len Max', 'Down/Up Ratio', 'Pkt Size Avg'], 'Adv sample 742': ['Fwd Pkt Len Std', 'Init Fwd Win Byts', 'Fwd Pkt Len Max', 'Pkt Len Std', 'Fwd Pkt Len Mean', 'Down/Up Ratio', 'Pkt Size Avg', 'Bwd Pkt Len Min', 'FIN Flag Cnt', 'Fwd Pkt Len Min'], 'Adv sample 743': ['Bwd Header Len', 'SYN Flag Cnt', 'Bwd Pkts/s', 'Fwd Pkt Len Std', 'FIN Flag Cnt', 'Fwd Seg Size Avg', 'Down/Up Ratio', 'Fwd Pkt Len Max', 'Flow Pkts/s', 'Bwd Pkt Len Min'], 'Adv sample 744': ['SYN Flag Cnt', 'Fwd Pkt Len Std', 'Fwd Pkt Len Max', 'Bwd PSH Flags', 'Init Fwd Win Byts', 'Bwd Header Len', 'Pkt Len Mean', 'FIN Flag Cnt', 'Fwd Pkt Len Mean', 'Pkt Len Std'], 'Adv sample 745': ['SYN Flag Cnt', 'Bwd Header Len', 'Fwd Seg Size Avg', 'FIN Flag Cnt', 'Fwd Pkt Len Mean', 'Tot Bwd Pkts', 'Subflow Bwd Pkts', 'ACK Flag Cnt', 'Fwd Pkt Len Min', 'Pkt Len Min'], 'Adv sample 746': ['SYN Flag Cnt', 'Fwd Pkt Len Std', 'Bwd Header Len', 'Fwd Pkt Len Max', 'Fwd Pkt Len Mean', 'Pkt Len Std', 'Pkt Len Mean', 'Pkt Size Avg', 'Fwd Pkt Len Min', 'Subflow Bwd Pkts'], 'Adv sample 747': ['SYN Flag Cnt', 'FIN Flag Cnt', 'Bwd Header Len', 'Bwd Pkts/s', 'Pkt Len Min', 'Fwd Act Data Pkts', 'TotLen Fwd Pkts', 'Fwd IAT Std', 'Tot Bwd Pkts', 'Fwd Seg Size Avg'], 'Adv sample 748': ['Bwd Header Len', 'SYN Flag Cnt', 'Tot Bwd Pkts', 'Subflow Bwd Pkts', 'Fwd Seg Size Avg', 'Pkt Len Min', 'FIN Flag Cnt', 'Bwd Pkt Len Min', 'Fwd Pkt Len Min', 'Fwd IAT Std'], 'Adv sample 749': ['Bwd Header Len', 'SYN Flag Cnt', 'FIN Flag Cnt', 'Fwd Pkt Len Std', 'Bwd Pkts/s', 'Fwd Pkt Len Max', 'Fwd Seg Size Avg', 'Tot Bwd Pkts', 'Fwd Pkt Len Mean', 'Pkt Size Avg'], 'Adv sample 750': ['Init Fwd Win Byts', 'Fwd Pkt Len Std', 'Down/Up Ratio', 'Fwd Pkt Len Max', 'Pkt Len Std', 'FIN Flag Cnt', 'Bwd Pkts/s', 'Fwd Pkt Len Mean', 'Fwd Seg Size Avg', 'Bwd Pkt Len Min'], 'Adv sample 751': ['Fwd Pkt Len Std', 'Fwd Pkt Len Max', 'Fwd Header Len', 'Bwd Pkts/s', 'Subflow Fwd Pkts', 'FIN Flag Cnt', 'Pkt Size Avg', 'Pkt Len Min', 'Tot Bwd Pkts', 'Pkt Len Mean'], 'Adv sample 752': ['SYN Flag Cnt', 'Bwd Header Len', 'Fwd Pkt Len Std', 'Fwd Pkt Len Max', 'Bwd Pkts/s', 'Pkt Len Max', 'Down/Up Ratio', 'Fwd Pkt Len Mean', 'Pkt Len Var', 'Pkt Size Avg'], 'Adv sample 753': ['Bwd Header Len', 'Bwd PSH Flags', 'SYN Flag Cnt', 'Fwd Pkt Len Max', 'Fwd Pkt Len Std', 'Fwd Seg Size Avg', 'Fwd Pkt Len Mean', 'Init Fwd Win Byts', 'Bwd Pkts/s', 'Tot Bwd Pkts'], 'Adv sample 754': ['Fwd Pkt Len Std', 'Fwd Pkt Len Max', 'Init Bwd Win Byts', 'Fwd Pkt Len Mean', 'Bwd Pkt Len Min', 'Pkt Len Std', 'Fwd Seg Size Avg', 'Pkt Len Max', 'Pkt Size Avg', 'ACK Flag Cnt'], 'Adv sample 755': ['SYN Flag Cnt', 'Bwd Header Len', 'FIN Flag Cnt', 'Bwd Pkts/s', 'Pkt Size Avg', 'Fwd Pkt Len Max', 'Fwd Pkt Len Std', 'Flow Pkts/s', 'Subflow Bwd Pkts', 'Fwd Pkt Len Mean'], 'Adv sample 756': ['Fwd Pkt Len Std', 'Fwd Pkt Len Max', 'Fwd Pkt Len Mean', 'Pkt Len Max', 'Fwd Seg Size Avg', 'Pkt Len Min', 'Pkt Size Avg', 'Fwd Header Len', 'Tot Fwd Pkts', 'Pkt Len Std'], 'Adv sample 757': ['SYN Flag Cnt', 'Fwd Pkt Len Std', 'Fwd Pkt Len Max', 'Bwd Header Len', 'Fwd Seg Size Avg', 'Pkt Size Avg', 'Fwd Pkt Len Mean', 'Fwd Pkt Len Min', 'Tot Bwd Pkts', 'Fwd Act Data Pkts'], 'Adv sample 758': ['SYN Flag Cnt', 'Bwd Header Len', 'FIN Flag Cnt', 'TotLen Fwd Pkts', 'Fwd Pkt Len Std', 'Subflow Bwd Pkts', 'Init Fwd Win Byts', 'Pkt Len Min', 'Bwd Pkts/s', 'Fwd IAT Std'], 'Adv sample 759': ['SYN Flag Cnt', 'Fwd Pkt Len Std', 'Fwd Pkt Len Max', 'Init Fwd Win Byts', 'Bwd PSH Flags', 'FIN Flag Cnt', 'Bwd Header Len', 'Fwd Seg Size Avg', 'Pkt Size Avg', 'Fwd Pkt Len Mean'], 'Adv sample 760': ['Fwd Pkt Len Std', 'Init Fwd Win Byts', 'Fwd Pkt Len Max', 'Fwd Pkt Len Mean', 'Pkt Len Std', 'Pkt Len Max', 'Down/Up Ratio', 'FIN Flag Cnt', 'Fwd Pkt Len Min', 'Pkt Len Mean'], 'Adv sample 761': ['Bwd Header Len', 'SYN Flag Cnt', 'Down/Up Ratio', 'Bwd Pkts/s', 'Fwd Pkt Len Std', 'FIN Flag Cnt', 'Fwd Pkt Len Mean', 'Pkt Len Max', 'Fwd Pkt Len Max', 'Pkt Size Avg'], 'Adv sample 762': ['Fwd Pkt Len Std', 'Fwd Pkt Len Mean', 'Fwd Pkt Len Max', 'Subflow Fwd Pkts', 'Fwd Seg Size Avg', 'Tot Fwd Pkts', 'Pkt Size Avg', 'Pkt Len Min', 'Pkt Len Max', 'Bwd Pkt Len Min'], 'Adv sample 763': ['Fwd Pkt Len Std', 'Fwd Pkt Len Max', 'Pkt Size Avg', 'Pkt Len Std', 'Fwd Seg Size Avg', 'Fwd Pkt Len Mean', 'Fwd Pkt Len Min', 'Subflow Bwd Pkts', 'Tot Fwd Pkts', 'Pkt Len Max'], 'Adv sample 764': ['SYN Flag Cnt', 'Bwd Header Len', 'FIN Flag Cnt', 'Fwd Pkt Len Mean', 'Fwd IAT Std', 'Fwd Pkt Len Max', 'Pkt Len Min', 'Fwd Seg Size Avg', 'Bwd Pkts/s', 'Bwd IAT Std'], 'Adv sample 765': ['Init Fwd Win Byts', 'Fwd Pkt Len Std', 'Fwd Pkt Len Max', 'Fwd Pkt Len Mean', 'Down/Up Ratio', 'Pkt Len Std', 'Bwd Pkts/s', 'Pkt Len Min', 'FIN Flag Cnt', 'Pkt Len Max'], 'Adv sample 766': ['Fwd Pkt Len Std', 'Fwd Pkt Len Max', 'Pkt Len Std', 'Pkt Size Avg', 'Tot Bwd Pkts', 'Fwd Pkt Len Mean', 'Pkt Len Max', 'Pkt Len Mean', 'Tot Fwd Pkts', 'Fwd Header Len'], 'Adv sample 767': ['Bwd Header Len', 'SYN Flag Cnt', 'FIN Flag Cnt', 'Bwd Pkts/s', 'Fwd Pkt Len Std', 'Fwd Pkt Len Max', 'Pkt Size Avg', 'Pkt Len Min', 'Pkt Len Mean', 'Fwd Pkt Len Mean'], 'Adv sample 768': ['Bwd Header Len', 'SYN Flag Cnt', 'FIN Flag Cnt', 'Bwd Pkts/s', 'Fwd Pkt Len Std', 'Fwd Pkt Len Max', 'Fwd Pkt Len Mean', 'Pkt Len Max', 'Fwd Seg Size Avg', 'Pkt Size Avg'], 'Adv sample 769': ['SYN Flag Cnt', 'Bwd Header Len', 'FIN Flag Cnt', 'Fwd Seg Size Avg', 'Fwd Pkt Len Std', 'Tot Bwd Pkts', 'Init Fwd Win Byts', 'Flow Duration', 'TotLen Fwd Pkts', 'ACK Flag Cnt'], 'Adv sample 770': ['SYN Flag Cnt', 'Fwd Pkt Len Std', 'Fwd Pkt Len Max', 'Pkt Size Avg', 'Bwd Header Len', 'Tot Bwd Pkts', 'Pkt Len Mean', 'Pkt Len Min', 'Fwd Header Len', 'Pkt Len Max'], 'Adv sample 771': ['SYN Flag Cnt', 'Bwd Header Len', 'Fwd Pkt Len Std', 'Fwd Pkt Len Max', 'Bwd Pkts/s', 'Fwd Pkt Len Mean', 'Tot Bwd Pkts', 'FIN Flag Cnt', 'Down/Up Ratio', 'Pkt Len Max'], 'Adv sample 772': ['Fwd Pkt Len Std', 'Bwd Pkts/s', 'Fwd Pkt Len Max', 'Fwd Pkt Len Mean', 'Subflow Fwd Pkts', 'Pkt Len Max', 'Fwd Header Len', 'Pkt Size Avg', 'Tot Bwd Pkts', 'Pkt Len Mean'], 'Adv sample 773': ['ACK Flag Cnt', 'Bwd Header Len', 'SYN Flag Cnt', 'Fwd Pkt Len Std', 'Fwd Pkt Len Max', 'Init Fwd Win Byts', 'Bwd Pkts/s', 'Fwd Seg Size Avg', 'Pkt Len Max', 'Down/Up Ratio'], 'Adv sample 774': ['SYN Flag Cnt', 'Bwd Header Len', 'FIN Flag Cnt', 'Fwd Act Data Pkts', 'Fwd Pkt Len Mean', 'Subflow Bwd Pkts', 'Fwd Pkt Len Std', 'ACK Flag Cnt', 'Pkt Len Min', 'Init Fwd Win Byts'], 'Adv sample 775': ['SYN Flag Cnt', 'Bwd Header Len', 'FIN Flag Cnt', 'Fwd Pkt Len Mean', 'Fwd Pkt Len Max', 'Pkt Len Min', 'Pkt Len Max', 'Fwd Act Data Pkts', 'Fwd Pkt Len Std', 'Fwd IAT Std'], 'Adv sample 776': ['ACK Flag Cnt', 'SYN Flag Cnt', 'Fwd Pkt Len Std', 'Init Fwd Win Byts', 'Fwd Pkt Len Max', 'Fwd Pkt Len Mean', 'Pkt Len Std', 'Pkt Size Avg', 'Fwd Pkt Len Min', 'Pkt Len Mean'], 'Adv sample 777': ['Init Bwd Win Byts', 'Fwd Pkt Len Std', 'Fwd Pkt Len Max', 'Fwd Pkt Len Mean', 'Fwd Seg Size Avg', 'Pkt Len Mean', 'Idle Mean', 'Pkt Len Std', 'Bwd Pkts/s', 'FIN Flag Cnt'], 'Adv sample 778': ['SYN Flag Cnt', 'Bwd Header Len', 'FIN Flag Cnt', 'Fwd Pkt Len Std', 'Fwd Pkt Len Mean', 'Tot Bwd Pkts', 'Bwd Pkts/s', 'Init Fwd Win Byts', 'ACK Flag Cnt', 'Fwd Seg Size Avg'], 'Adv sample 779': ['Bwd Header Len', 'SYN Flag Cnt', 'Bwd Pkts/s', 'Fwd Pkt Len Std', 'FIN Flag Cnt', 'Fwd Pkt Len Min', 'Pkt Len Mean', 'Fwd Pkt Len Max', 'Fwd Pkt Len Mean', 'Bwd Pkt Len Min'], 'Adv sample 780': ['Bwd Header Len', 'SYN Flag Cnt', 'Fwd Pkt Len Std', 'Tot Bwd Pkts', 'Fwd Pkt Len Max', 'Pkt Len Std', 'Subflow Bwd Pkts', 'FIN Flag Cnt', 'Bwd Pkt Len Min', 'Fwd Pkt Len Mean'], 'Adv sample 781': ['Bwd Header Len', 'SYN Flag Cnt', 'Subflow Bwd Pkts', 'Tot Bwd Pkts', 'Fwd Seg Size Avg', 'FIN Flag Cnt', 'Pkt Len Min', 'Bwd Pkt Len Min', 'Bwd IAT Max', 'Fwd IAT Std'], 'Adv sample 782': ['SYN Flag Cnt', 'Bwd Header Len', 'FIN Flag Cnt', 'Fwd Pkt Len Std', 'Bwd Pkts/s', 'Pkt Len Min', 'Fwd Seg Size Avg', 'Tot Bwd Pkts', 'Fwd Act Data Pkts', 'Fwd Pkt Len Mean'], 'Adv sample 783': ['Bwd Header Len', 'SYN Flag Cnt', 'Bwd Pkts/s', 'Idle Min', 'Subflow Bwd Pkts', 'Flow Pkts/s', 'Fwd Pkt Len Std', 'Init Fwd Win Byts', 'Fwd Pkt Len Max', 'Tot Bwd Pkts'], 'Adv sample 784': ['Fwd Pkt Len Std', 'Fwd Pkt Len Max', 'ACK Flag Cnt', 'SYN Flag Cnt', 'Fwd Pkt Len Mean', 'Fwd Seg Size Avg', 'Down/Up Ratio', 'Pkt Len Mean', 'Fwd IAT Min', 'Pkt Len Std'], 'Adv sample 785': ['SYN Flag Cnt', 'Bwd Header Len', 'FIN Flag Cnt', 'Bwd Pkts/s', 'Pkt Size Avg', 'TotLen Fwd Pkts', 'Subflow Bwd Pkts', 'Bwd Pkt Len Min', 'Fwd Pkt Len Std', 'Fwd Seg Size Avg'], 'Adv sample 786': ['SYN Flag Cnt', 'Bwd Header Len', 'Bwd Pkts/s', 'FIN Flag Cnt', 'Fwd Seg Size Avg', 'Fwd Pkt Len Mean', 'Fwd Pkt Len Std', 'Fwd Header Len', 'Fwd Pkt Len Max', 'Flow Pkts/s'], 'Adv sample 787': ['Bwd Header Len', 'SYN Flag Cnt', 'FIN Flag Cnt', 'Bwd Pkts/s', 'Fwd Pkt Len Std', 'Fwd Pkt Len Mean', 'Fwd Pkt Len Max', 'Fwd Seg Size Avg', 'Fwd Pkt Len Min', 'Pkt Len Std'], 'Adv sample 788': ['Fwd Pkt Len Std', 'Fwd Pkt Len Max', 'Fwd Pkt Len Mean', 'Fwd Seg Size Avg', 'Pkt Len Std', 'Pkt Len Mean', 'Down/Up Ratio', 'Pkt Len Max', 'Bwd Pkt Len Std', 'Pkt Size Avg'], 'Adv sample 789': ['SYN Flag Cnt', 'Fwd Pkt Len Std', 'Bwd Header Len', 'Fwd Pkt Len Max', 'Pkt Len Mean', 'Down/Up Ratio', 'Fwd Pkt Len Mean', 'Flow Pkts/s', 'Pkt Len Std', 'Fwd Pkt Len Min'], 'Adv sample 790': ['SYN Flag Cnt', 'Bwd Header Len', 'Bwd Pkts/s', 'Fwd Pkt Len Std', 'FIN Flag Cnt', 'Fwd Seg Size Avg', 'Fwd Pkt Len Max', 'Pkt Len Max', 'Bwd Pkt Len Min', 'Pkt Size Avg'], 'Adv sample 791': ['SYN Flag Cnt', 'Bwd Header Len', 'FIN Flag Cnt', 'Bwd Pkts/s', 'Fwd Pkt Len Std', 'Pkt Len Mean', 'Tot Bwd Pkts', 'Down/Up Ratio', 'Pkt Len Min', 'Fwd Pkt Len Mean'], 'Adv sample 792': ['Bwd Header Len', 'SYN Flag Cnt', 'FIN Flag Cnt', 'Bwd Pkts/s', 'Fwd Pkt Len Std', 'Fwd Pkt Len Mean', 'Fwd Seg Size Avg', 'Pkt Size Avg', 'Fwd Pkt Len Max', 'Pkt Len Min'], 'Adv sample 793': ['SYN Flag Cnt', 'Bwd Header Len', 'FIN Flag Cnt', 'Tot Bwd Pkts', 'Fwd Act Data Pkts', 'Fwd Pkt Len Mean', 'Bwd Pkt Len Min', 'Subflow Bwd Pkts', 'TotLen Fwd Pkts', 'Fwd Pkt Len Std'], 'Adv sample 794': ['Bwd Header Len', 'SYN Flag Cnt', 'Idle Min', 'Bwd Pkts/s', 'Init Fwd Win Byts', 'Fwd Pkt Len Std', 'Fwd Pkt Len Max', 'Tot Bwd Pkts', 'Subflow Bwd Pkts', 'Pkt Len Max'], 'Adv sample 795': ['Bwd Header Len', 'SYN Flag Cnt', 'FIN Flag Cnt', 'Bwd Pkts/s', 'Fwd Pkt Len Max', 'Fwd Pkt Len Std', 'Pkt Len Mean', 'Fwd Pkt Len Mean', 'Pkt Len Max', 'Fwd Pkt Len Min'], 'Adv sample 796': ['SYN Flag Cnt', 'Bwd Header Len', 'FIN Flag Cnt', 'Fwd Pkt Len Std', 'Fwd Act Data Pkts', 'Fwd Pkt Len Max', 'Tot Bwd Pkts', 'Fwd Pkt Len Mean', 'Pkt Len Min', 'Bwd Pkts/s'], 'Adv sample 797': ['Bwd Header Len', 'SYN Flag Cnt', 'Tot Bwd Pkts', 'Fwd Pkt Len Max', 'Subflow Bwd Pkts', 'Fwd Pkt Len Std', 'Fwd Pkt Len Mean', 'Pkt Len Min', 'FIN Flag Cnt', 'Fwd Seg Size Avg'], 'Adv sample 798': ['Bwd Header Len', 'SYN Flag Cnt', 'Fwd Pkt Len Std', 'Tot Bwd Pkts', 'Fwd Pkt Len Mean', 'Fwd Pkt Len Max', 'Subflow Bwd Pkts', 'Fwd IAT Std', 'FIN Flag Cnt', 'Pkt Len Std'], 'Adv sample 799': ['SYN Flag Cnt', 'Bwd Header Len', 'FIN Flag Cnt', 'Tot Bwd Pkts', 'Fwd Seg Size Avg', 'Bwd Pkts/s', 'Fwd Pkt Len Std', 'Pkt Len Min', 'Subflow Bwd Pkts', 'TotLen Fwd Pkts'], 'Adv sample 800': ['SYN Flag Cnt', 'Fwd Pkt Len Std', 'Down/Up Ratio', 'Fwd Pkt Len Max', 'FIN Flag Cnt', 'Pkt Size Avg', 'Fwd Pkt Len Mean', 'Pkt Len Std', 'Bwd Pkts/s', 'Pkt Len Max'], 'Adv sample 801': ['Fwd Pkt Len Std', 'Init Fwd Win Byts', 'Fwd Pkt Len Max', 'Fwd Pkt Len Mean', 'Bwd Pkts/s', 'Pkt Len Max', 'FIN Flag Cnt', 'Pkt Len Mean', 'Down/Up Ratio', 'Tot Bwd Pkts'], 'Adv sample 802': ['ACK Flag Cnt', 'SYN Flag Cnt', 'Init Fwd Win Byts', 'Fwd Pkt Len Std', 'Fwd Pkt Len Mean', 'Fwd Pkt Len Max', 'Fwd Seg Size Avg', 'Pkt Len Std', 'Fwd Pkt Len Min', 'Pkt Len Mean'], 'Adv sample 803': ['Fwd Pkt Len Std', 'Fwd Pkt Len Max', 'Fwd Pkt Len Mean', 'Pkt Len Std', 'Fwd Seg Size Avg', 'Pkt Len Max', 'Pkt Len Mean', 'Down/Up Ratio', 'Bwd Pkt Len Std', 'Flow Byts/s'], 'Adv sample 804': ['Fwd Pkt Len Std', 'Fwd Pkt Len Max', 'Bwd IAT Tot', 'Fwd IAT Tot', 'Down/Up Ratio', 'ACK Flag Cnt', 'Pkt Len Std', 'Fwd Pkt Len Mean', 'FIN Flag Cnt', 'Init Fwd Win Byts'], 'Adv sample 805': ['SYN Flag Cnt', 'Fwd Pkt Len Std', 'Fwd Pkt Len Max', 'Down/Up Ratio', 'FIN Flag Cnt', 'Pkt Len Std', 'Bwd Pkts/s', 'Pkt Len Max', 'Pkt Size Avg', 'Fwd Pkt Len Mean'], 'Adv sample 806': ['Init Fwd Win Byts', 'Fwd Pkt Len Std', 'Down/Up Ratio', 'Fwd Pkt Len Max', 'Fwd Seg Size Avg', 'Pkt Len Min', 'Fwd Pkt Len Mean', 'FIN Flag Cnt', 'Pkt Len Std', 'Tot Bwd Pkts'], 'Adv sample 807': ['Bwd Header Len', 'SYN Flag Cnt', 'Tot Bwd Pkts', 'Subflow Bwd Pkts', 'Fwd Pkt Len Max', 'Fwd Pkt Len Std', 'Fwd Pkt Len Mean', 'Pkt Len Max', 'FIN Flag Cnt', 'Fwd Seg Size Avg'], 'Adv sample 808': ['Fwd Pkt Len Std', 'Fwd Pkt Len Max', 'Pkt Size Avg', 'Fwd Seg Size Avg', 'Pkt Len Mean', 'Pkt Len Std', 'Subflow Fwd Pkts', 'Fwd Pkt Len Mean', 'Fwd Act Data Pkts', 'Fwd Header Len'], 'Adv sample 809': ['Fwd Pkt Len Max', 'Fwd Pkt Len Std', 'Fwd Pkt Len Mean', 'Pkt Len Std', 'FIN Flag Cnt', 'Bwd Pkts/s', 'Pkt Size Avg', 'Pkt Len Min', 'Fwd Header Len', 'Pkt Len Mean'], 'Adv sample 810': ['Bwd Header Len', 'SYN Flag Cnt', 'FIN Flag Cnt', 'Fwd Pkt Len Std', 'Bwd Pkts/s', 'Fwd Pkt Len Max', 'Pkt Len Min', 'Fwd Pkt Len Mean', 'Subflow Bwd Pkts', 'Tot Bwd Pkts'], 'Adv sample 811': ['SYN Flag Cnt', 'Fwd Pkt Len Std', 'Bwd PSH Flags', 'Fwd Pkt Len Max', 'Init Fwd Win Byts', 'Fwd Seg Size Avg', 'Fwd Pkt Len Mean', 'Pkt Size Avg', 'Bwd Pkts/s', 'Down/Up Ratio'], 'Adv sample 812': ['Bwd Header Len', 'SYN Flag Cnt', 'Tot Bwd Pkts', 'Fwd Pkt Len Mean', 'Fwd Pkt Len Max', 'Subflow Bwd Pkts', 'Fwd Pkt Len Std', 'Pkt Len Min', 'Fwd Pkt Len Min', 'Fwd Seg Size Avg'], 'Adv sample 813': ['SYN Flag Cnt', 'Fwd Pkt Len Std', 'Bwd PSH Flags', 'Fwd Pkt Len Max', 'Init Fwd Win Byts', 'Bwd Header Len', 'Fwd Pkt Len Mean', 'FIN Flag Cnt', 'Pkt Len Min', 'Pkt Len Std'], 'Adv sample 814': ['Bwd Header Len', 'SYN Flag Cnt', 'Subflow Bwd Pkts', 'Tot Bwd Pkts', 'Fwd Pkt Len Std', 'Fwd Pkt Len Mean', 'Pkt Len Min', 'Fwd Pkt Len Min', 'Fwd Pkt Len Max', 'FIN Flag Cnt'], 'Adv sample 815': ['SYN Flag Cnt', 'Bwd Header Len', 'FIN Flag Cnt', 'Fwd Pkt Len Std', 'Bwd Pkts/s', 'Fwd Seg Size Avg', 'Tot Fwd Pkts', 'Fwd Pkt Len Max', 'Subflow Bwd Pkts', 'Fwd IAT Std'], 'Adv sample 816': ['SYN Flag Cnt', 'Fwd Pkt Len Std', 'Fwd Pkt Len Max', 'Bwd Header Len', 'Fwd Pkt Len Mean', 'Tot Fwd Pkts', 'Flow Byts/s', 'Pkt Len Mean', 'Down/Up Ratio', 'Fwd IAT Tot'], 'Adv sample 817': ['Bwd Header Len', 'Fwd Pkt Len Std', 'Fwd Act Data Pkts', 'SYN Flag Cnt', 'Fwd IAT Std', 'Fwd Pkt Len Max', 'Subflow Fwd Pkts', 'Tot Fwd Pkts', 'Init Fwd Win Byts', 'TotLen Bwd Pkts'], 'Adv sample 818': ['SYN Flag Cnt', 'Fwd Pkt Len Std', 'Down/Up Ratio', 'Fwd Pkt Len Max', 'Fwd Pkt Len Mean', 'FIN Flag Cnt', 'Pkt Len Mean', 'Bwd Pkts/s', 'Fwd Seg Size Avg', 'Bwd Pkt Len Min'], 'Adv sample 819': ['Fwd Pkt Len Max', 'Fwd Pkt Len Std', 'Fwd Pkt Len Mean', 'Pkt Len Std', 'Fwd Seg Size Avg', 'Pkt Len Max', 'Pkt Len Mean', 'Fwd Pkt Len Min', 'Pkt Size Avg', 'Tot Fwd Pkts'], 'Adv sample 820': ['Bwd Header Len', 'SYN Flag Cnt', 'Fwd Pkt Len Max', 'Tot Bwd Pkts', 'Fwd Pkt Len Std', 'Subflow Bwd Pkts', 'Fwd Pkt Len Mean', 'Pkt Len Min', 'Fwd Seg Size Avg', 'FIN Flag Cnt'], 'Adv sample 821': ['SYN Flag Cnt', 'Bwd Header Len', 'FIN Flag Cnt', 'Tot Bwd Pkts', 'Bwd Pkts/s', 'Fwd Seg Size Avg', 'Fwd IAT Std', 'Fwd Pkt Len Mean', 'Fwd Act Data Pkts', 'Fwd Pkt Len Max'], 'Adv sample 822': ['ACK Flag Cnt', 'Bwd Header Len', 'SYN Flag Cnt', 'Fwd Pkt Len Max', 'Fwd Pkt Len Std', 'Bwd Pkts/s', 'Init Fwd Win Byts', 'Pkt Len Max', 'Flow Pkts/s', 'Fwd Pkt Len Mean'], 'Adv sample 823': ['Fwd Pkt Len Std', 'Fwd Pkt Len Max', 'FIN Flag Cnt', 'Pkt Size Avg', 'Tot Bwd Pkts', 'Fwd Header Len', 'ACK Flag Cnt', 'Fwd Pkt Len Mean', 'Subflow Fwd Pkts', 'Pkt Len Min'], 'Adv sample 824': ['SYN Flag Cnt', 'Bwd Header Len', 'FIN Flag Cnt', 'Tot Bwd Pkts', 'Init Fwd Win Byts', 'Fwd Pkt Len Std', 'Fwd IAT Std', 'Down/Up Ratio', 'Bwd Pkts/s', 'Fwd Pkt Len Max'], 'Adv sample 825': ['Bwd Header Len', 'SYN Flag Cnt', 'Fwd Pkt Len Std', 'Bwd Pkts/s', 'Down/Up Ratio', 'Pkt Size Avg', 'Fwd Pkt Len Mean', 'Fwd Pkt Len Min', 'Fwd Pkt Len Max', 'FIN Flag Cnt'], 'Adv sample 826': ['SYN Flag Cnt', 'Bwd Header Len', 'Bwd Pkts/s', 'Pkt Len Mean', 'Fwd Pkt Len Std', 'FIN Flag Cnt', 'Pkt Len Max', 'Fwd Pkt Len Mean', 'Subflow Bwd Pkts', 'Pkt Size Avg'], 'Adv sample 827': ['SYN Flag Cnt', 'Bwd Header Len', 'FIN Flag Cnt', 'Fwd Pkt Len Std', 'Fwd IAT Std', 'Fwd Pkt Len Mean', 'Pkt Size Avg', 'ACK Flag Cnt', 'Fwd Act Data Pkts', 'Bwd Pkts/s'], 'Adv sample 828': ['Bwd Header Len', 'SYN Flag Cnt', 'FIN Flag Cnt', 'Bwd Pkts/s', 'Fwd Pkt Len Max', 'Fwd Pkt Len Std', 'Fwd Pkt Len Mean', 'Pkt Size Avg', 'Pkt Len Mean', 'Bwd Pkt Len Min'], 'Adv sample 829': ['SYN Flag Cnt', 'Bwd Header Len', 'FIN Flag Cnt', 'Fwd Act Data Pkts', 'Fwd Seg Size Avg', 'TotLen Fwd Pkts', 'Fwd Pkt Len Std', 'Fwd IAT Std', 'Bwd Pkts/s', 'Flow Duration'], 'Adv sample 830': ['SYN Flag Cnt', 'FIN Flag Cnt', 'Bwd Header Len', 'Bwd Pkts/s', 'Fwd Pkt Len Mean', 'Fwd Act Data Pkts', 'Fwd Pkt Len Max', 'Pkt Len Min', 'Tot Bwd Pkts', 'Down/Up Ratio'], 'Adv sample 831': ['Fwd Pkt Len Std', 'Fwd Pkt Len Max', 'Fwd Pkt Len Mean', 'Fwd Seg Size Avg', 'Pkt Len Std', 'Pkt Len Max', 'Pkt Size Avg', 'Flow Byts/s', 'Down/Up Ratio', 'Subflow Bwd Byts'], 'Adv sample 832': ['SYN Flag Cnt', 'Bwd Header Len', 'Bwd Pkts/s', 'Fwd Pkt Len Std', 'Fwd Pkt Len Max', 'Fwd Seg Size Avg', 'FIN Flag Cnt', 'Fwd Pkt Len Mean', 'Pkt Size Avg', 'Pkt Len Mean'], 'Adv sample 833': ['Fwd Pkt Len Std', 'Fwd Pkt Len Max', 'Pkt Len Max', 'Fwd Seg Size Avg', 'Subflow Fwd Pkts', 'Bwd Pkts/s', 'Pkt Len Std', 'Fwd Pkt Len Mean', 'Fwd Header Len', 'Fwd Pkt Len Min'], 'Adv sample 834': ['SYN Flag Cnt', 'Bwd Header Len', 'FIN Flag Cnt', 'TotLen Fwd Pkts', 'Fwd Pkt Len Std', 'ACK Flag Cnt', 'Fwd Pkt Len Mean', 'Bwd Pkt Len Min', 'Pkt Len Min', 'Fwd Pkt Len Max'], 'Adv sample 835': ['Fwd Pkt Len Std', 'Fwd Pkt Len Mean', 'Fwd Pkt Len Max', 'Pkt Size Avg', 'Bwd Pkts/s', 'Tot Fwd Pkts', 'Fwd Header Len', 'Tot Bwd Pkts', 'Pkt Len Std', 'Subflow Fwd Pkts'], 'Adv sample 836': ['Bwd Header Len', 'SYN Flag Cnt', 'Tot Bwd Pkts', 'Fwd Pkt Len Mean', 'Fwd Pkt Len Std', 'Fwd Pkt Len Max', 'Subflow Bwd Pkts', 'Bwd Pkt Len Min', 'FIN Flag Cnt', 'Pkt Len Min'], 'Adv sample 837': ['Fwd Pkt Len Std', 'Fwd Pkt Len Max', 'Pkt Len Std', 'Fwd Seg Size Avg', 'Tot Fwd Pkts', 'Tot Bwd Pkts', 'Bwd Pkts/s', 'Subflow Bwd Pkts', 'Fwd Pkt Len Mean', 'Pkt Size Avg'], 'Adv sample 838': ['SYN Flag Cnt', 'Fwd Pkt Len Std', 'Fwd Pkt Len Max', 'Bwd Header Len', 'Fwd Pkt Len Mean', 'Fwd Pkt Len Min', 'Fwd Seg Size Avg', 'Pkt Len Std', 'Down/Up Ratio', 'Pkt Len Max'], 'Adv sample 839': ['Bwd Header Len', 'SYN Flag Cnt', 'FIN Flag Cnt', 'Bwd Pkts/s', 'Fwd Pkt Len Std', 'Fwd Seg Size Avg', 'Pkt Len Min', 'Fwd Pkt Len Min', 'Pkt Len Mean', 'Pkt Size Avg'], 'Adv sample 840': ['SYN Flag Cnt', 'Bwd Header Len', 'FIN Flag Cnt', 'Fwd Pkt Len Max', 'Tot Bwd Pkts', 'Fwd Pkt Len Std', 'Fwd Act Data Pkts', 'Bwd Pkt Len Min', 'Fwd Seg Size Avg', 'Subflow Bwd Pkts'], 'Adv sample 841': ['SYN Flag Cnt', 'Fwd Pkt Len Max', 'Fwd Pkt Len Std', 'Fwd Header Len', 'Fwd Pkt Len Mean', 'Pkt Len Std', 'Fwd Seg Size Avg', 'Pkt Size Avg', 'Pkt Len Max', 'Bwd Pkts/s'], 'Adv sample 842': ['Fwd Pkt Len Std', 'Fwd Pkt Len Max', 'ACK Flag Cnt', 'Down/Up Ratio', 'SYN Flag Cnt', 'Pkt Len Std', 'Fwd Pkt Len Mean', 'Pkt Size Avg', 'Tot Fwd Pkts', 'Pkt Len Mean'], 'Adv sample 843': ['Init Fwd Win Byts', 'Fwd Pkt Len Std', 'Down/Up Ratio', 'Fwd Pkt Len Max', 'Fwd Pkt Len Mean', 'Pkt Len Max', 'FIN Flag Cnt', 'Bwd Pkts/s', 'Pkt Len Min', 'Pkt Size Avg'], 'Adv sample 844': ['Bwd Header Len', 'SYN Flag Cnt', 'Idle Min', 'Fwd Seg Size Avg', 'Fwd Pkt Len Max', 'Fwd Pkt Len Std', 'Bwd Pkts/s', 'Flow Byts/s', 'Tot Bwd Pkts', 'Init Fwd Win Byts'], 'Adv sample 845': ['Fwd Pkt Len Std', 'Fwd Pkt Len Max', 'Fwd IAT Tot', 'Bwd IAT Tot', 'Pkt Len Max', 'Pkt Len Std', 'Fwd Pkt Len Mean', 'Pkt Size Avg', 'Idle Mean', 'ACK Flag Cnt'], 'Adv sample 846': ['Fwd Pkt Len Std', 'Fwd Pkt Len Mean', 'Fwd Pkt Len Max', 'Pkt Size Avg', 'Tot Bwd Pkts', 'Subflow Fwd Pkts', 'Pkt Len Max', 'Fwd Header Len', 'Tot Fwd Pkts', 'Pkt Len Mean'], 'Adv sample 847': ['ACK Flag Cnt', 'Bwd Header Len', 'SYN Flag Cnt', 'Init Fwd Win Byts', 'Fwd Pkt Len Std', 'Down/Up Ratio', 'Bwd Pkts/s', 'Fwd Pkt Len Max', 'Pkt Len Max', 'Subflow Fwd Pkts'], 'Adv sample 848': ['Bwd Header Len', 'SYN Flag Cnt', 'FIN Flag Cnt', 'Bwd Pkts/s', 'Fwd Pkt Len Std', 'Fwd Pkt Len Mean', 'Fwd Pkt Len Max', 'Fwd Pkt Len Min', 'Pkt Len Min', 'Tot Bwd Pkts'], 'Adv sample 849': ['Bwd Header Len', 'SYN Flag Cnt', 'FIN Flag Cnt', 'Bwd Pkts/s', 'Fwd Pkt Len Std', 'Fwd Pkt Len Mean', 'Tot Bwd Pkts', 'Pkt Size Avg', 'Fwd Seg Size Avg', 'Bwd Pkt Len Min'], 'Adv sample 850': ['Fwd Pkt Len Std', 'Fwd Pkt Len Max', 'Fwd Seg Size Avg', 'SYN Flag Cnt', 'Pkt Len Mean', 'Pkt Len Min', 'Fwd Pkt Len Mean', 'Fwd Header Len', 'Tot Bwd Pkts', 'Pkt Len Std'], 'Adv sample 851': ['Init Fwd Win Byts', 'Fwd Pkt Len Std', 'Fwd Pkt Len Max', 'Down/Up Ratio', 'Fwd Pkt Len Mean', 'FIN Flag Cnt', 'Bwd Pkts/s', 'Bwd Pkt Len Min', 'Pkt Len Max', 'Pkt Len Std'], 'Adv sample 852': ['SYN Flag Cnt', 'FIN Flag Cnt', 'Bwd Header Len', 'Fwd Pkt Len Mean', 'Fwd IAT Std', 'Fwd Seg Size Avg', 'Bwd Pkts/s', 'Fwd Pkt Len Std', 'Tot Bwd Pkts', 'Subflow Bwd Pkts'], 'Adv sample 853': ['Bwd Header Len', 'Bwd PSH Flags', 'SYN Flag Cnt', 'Fwd Pkt Len Std', 'Fwd Pkt Len Max', 'Bwd Pkts/s', 'Fwd Act Data Pkts', 'Fwd Seg Size Avg', 'Fwd Pkt Len Mean', 'Tot Bwd Pkts'], 'Adv sample 854': ['SYN Flag Cnt', 'Bwd Header Len', 'FIN Flag Cnt', 'Bwd Pkts/s', 'Pkt Len Min', 'Fwd Pkt Len Std', 'Fwd Act Data Pkts', 'Fwd Pkt Len Max', 'Tot Bwd Pkts', 'Fwd Seg Size Avg'], 'Adv sample 855': ['Fwd Pkt Len Std', 'Fwd Pkt Len Max', 'Fwd Pkt Len Mean', 'Fwd Seg Size Avg', 'Fwd Act Data Pkts', 'Bwd Pkts/s', 'Tot Bwd Pkts', 'Tot Fwd Pkts', 'Pkt Size Avg', 'Pkt Len Mean'], 'Adv sample 856': ['Init Fwd Win Byts', 'Fwd Pkt Len Std', 'Down/Up Ratio', 'Bwd Pkts/s', 'Fwd Pkt Len Max', 'Pkt Len Std', 'FIN Flag Cnt', 'Fwd Pkt Len Mean', 'Bwd Pkt Len Std', 'Flow Duration'], 'Adv sample 857': ['Bwd Header Len', 'SYN Flag Cnt', 'Subflow Bwd Pkts', 'Tot Bwd Pkts', 'Fwd Seg Size Avg', 'FIN Flag Cnt', 'Pkt Len Min', 'Fwd Pkt Len Min', 'Bwd Pkt Len Min', 'Fwd IAT Std'], 'Adv sample 858': ['Bwd Header Len', 'SYN Flag Cnt', 'Fwd Pkt Len Std', 'FIN Flag Cnt', 'Bwd Pkts/s', 'Fwd Pkt Len Max', 'Pkt Len Min', 'Bwd Pkt Len Min', 'Pkt Len Max', 'Fwd Pkt Len Min'], 'Adv sample 859': ['Bwd Header Len', 'SYN Flag Cnt', 'Fwd Pkt Len Std', 'Flow Pkts/s', 'Tot Bwd Pkts', 'Fwd Pkt Len Max', 'Fwd Act Data Pkts', 'Fwd Header Len', 'Init Fwd Win Byts', 'Fwd Pkt Len Mean'], 'Adv sample 860': ['SYN Flag Cnt', 'Bwd Header Len', 'Bwd Pkts/s', 'FIN Flag Cnt', 'Fwd Pkt Len Max', 'Pkt Size Avg', 'Pkt Len Mean', 'Tot Bwd Pkts', 'Pkt Len Std', 'Bwd Byts/b Avg'], 'Adv sample 861': ['Bwd Header Len', 'SYN Flag Cnt', 'FIN Flag Cnt', 'Fwd Pkt Len Std', 'Bwd Pkts/s', 'Fwd Pkt Len Max', 'Fwd Pkt Len Mean', 'Pkt Len Mean', 'Bwd Pkt Len Min', 'Pkt Len Min'], 'Adv sample 862': ['Fwd Pkt Len Std', 'Fwd Pkt Len Max', 'Pkt Size Avg', 'Fwd Pkt Len Mean', 'Fwd Act Data Pkts', 'Subflow Fwd Pkts', 'Pkt Len Max', 'Pkt Len Mean', 'Pkt Len Std', 'Tot Bwd Pkts'], 'Adv sample 863': ['SYN Flag Cnt', 'FIN Flag Cnt', 'Bwd Header Len', 'Bwd Pkts/s', 'Fwd Pkt Len Std', 'Fwd Pkt Len Mean', 'Fwd Act Data Pkts', 'Fwd IAT Std', 'Fwd Pkt Len Min', 'Bwd IAT Std'], 'Adv sample 864': ['Bwd Header Len', 'SYN Flag Cnt', 'Fwd Pkt Len Std', 'Tot Bwd Pkts', 'Fwd Pkt Len Mean', 'Subflow Bwd Pkts', 'Fwd Seg Size Avg', 'Fwd Pkt Len Max', 'Pkt Len Min', 'Pkt Len Std'], 'Adv sample 865': ['SYN Flag Cnt', 'Bwd Header Len', 'Bwd Pkts/s', 'Fwd Pkt Len Std', 'Fwd Seg Size Avg', 'Down/Up Ratio', 'Pkt Len Std', 'Pkt Size Avg', 'Pkt Len Min', 'FIN Flag Cnt'], 'Adv sample 866': ['ACK Flag Cnt', 'Bwd Header Len', 'SYN Flag Cnt', 'Fwd Pkt Len Std', 'Fwd Pkt Len Max', 'Bwd Pkts/s', 'Init Fwd Win Byts', 'Down/Up Ratio', 'Pkt Size Avg', 'Flow Pkts/s'], 'Adv sample 867': ['Bwd Header Len', 'SYN Flag Cnt', 'Tot Bwd Pkts', 'Fwd Pkt Len Std', 'Fwd Pkt Len Max', 'Pkt Len Min', 'Fwd Seg Size Avg', 'Flow Byts/s', 'Subflow Bwd Pkts', 'Fwd IAT Std'], 'Adv sample 868': ['SYN Flag Cnt', 'Fwd Pkt Len Std', 'Fwd Pkt Len Max', 'Bwd Pkts/s', 'Fwd Pkt Len Mean', 'Pkt Len Std', 'FIN Flag Cnt', 'Pkt Len Mean', 'Flow Byts/s', 'Pkt Size Avg'], 'Adv sample 869': ['SYN Flag Cnt', 'Bwd Header Len', 'FIN Flag Cnt', 'Fwd Pkt Len Std', 'Fwd Seg Size Avg', 'Fwd Pkt Len Max', 'Subflow Bwd Pkts', 'Fwd Pkt Len Mean', 'Pkt Len Min', 'Bwd Pkts/s'], 'Adv sample 870': ['Init Fwd Win Byts', 'Fwd Pkt Len Std', 'Fwd Pkt Len Max', 'Pkt Len Std', 'Bwd Pkts/s', 'Down/Up Ratio', 'FIN Flag Cnt', 'Fwd Pkt Len Mean', 'Fwd Seg Size Avg', 'Pkt Len Mean'], 'Adv sample 871': ['Bwd Header Len', 'SYN Flag Cnt', 'FIN Flag Cnt', 'Bwd Pkts/s', 'Fwd Pkt Len Std', 'Fwd Pkt Len Max', 'Pkt Len Min', 'Fwd Pkt Len Mean', 'Pkt Len Max', 'Fwd Seg Size Avg'], 'Adv sample 872': ['Bwd Header Len', 'SYN Flag Cnt', 'Bwd Pkts/s', 'Pkt Len Min', 'Fwd Pkt Len Std', 'Pkt Len Mean', 'FIN Flag Cnt', 'Fwd Pkt Len Max', 'Fwd Pkt Len Mean', 'Pkt Len Max'], 'Adv sample 873': ['Fwd Pkt Len Std', 'Fwd Pkt Len Max', 'Pkt Len Mean', 'Fwd Seg Size Avg', 'Pkt Size Avg', 'Tot Bwd Pkts', 'Pkt Len Std', 'Bwd Pkts/s', 'Fwd Pkt Len Mean', 'Subflow Fwd Pkts'], 'Adv sample 874': ['SYN Flag Cnt', 'Fwd Pkt Len Max', 'Fwd Pkt Len Std', 'Subflow Fwd Pkts', 'Fwd Pkt Len Mean', 'Fwd Header Len', 'Pkt Len Mean', 'Pkt Len Min', 'Flow Byts/s', 'Bwd Pkts/s'], 'Adv sample 875': ['Fwd Pkt Len Std', 'Fwd Pkt Len Max', 'Fwd Pkt Len Mean', 'Pkt Len Max', 'Fwd Seg Size Avg', 'Pkt Len Mean', 'Pkt Len Std', 'Tot Fwd Pkts', 'Fwd Header Len', 'Pkt Size Avg'], 'Adv sample 876': ['PSH Flag Cnt', 'ACK Flag Cnt', 'Init Fwd Win Byts', 'Down/Up Ratio', 'Bwd PSH Flags', 'SYN Flag Cnt', 'Tot Bwd Pkts', 'Bwd IAT Std', 'Bwd IAT Max', 'FIN Flag Cnt'], 'Adv sample 877': ['SYN Flag Cnt', 'Bwd Header Len', 'FIN Flag Cnt', 'Fwd Pkt Len Mean', 'Subflow Bwd Pkts', 'Bwd Pkts/s', 'Fwd Pkt Len Std', 'Fwd Act Data Pkts', 'Fwd Seg Size Avg', 'Down/Up Ratio'], 'Adv sample 878': ['SYN Flag Cnt', 'FIN Flag Cnt', 'Bwd Pkts/s', 'Bwd Header Len', 'Fwd Pkt Len Std', 'Fwd Pkt Len Max', 'Fwd Pkt Len Mean', 'Pkt Len Min', 'Pkt Len Mean', 'Tot Bwd Pkts'], 'Adv sample 879': ['Bwd Header Len', 'SYN Flag Cnt', 'FIN Flag Cnt', 'Fwd Pkt Len Std', 'Bwd Pkts/s', 'Fwd Pkt Len Max', 'Fwd Pkt Len Mean', 'Pkt Len Mean', 'Subflow Bwd Pkts', 'Fwd Pkt Len Min'], 'Adv sample 880': ['Bwd Header Len', 'Fwd Pkt Len Std', 'SYN Flag Cnt', 'Fwd Pkt Len Max', 'Fwd Pkt Len Mean', 'Fwd Act Data Pkts', 'Tot Fwd Pkts', 'Pkt Size Avg', 'Subflow Bwd Pkts', 'Fwd Seg Size Avg'], 'Adv sample 881': ['ACK Flag Cnt', 'Bwd Header Len', 'SYN Flag Cnt', 'Fwd Pkt Len Std', 'Init Fwd Win Byts', 'Bwd Pkts/s', 'Fwd Pkt Len Max', 'Pkt Len Std', 'Fwd Seg Size Avg', 'Tot Bwd Pkts'], 'Adv sample 882': ['Fwd Pkt Len Std', 'Fwd Pkt Len Mean', 'Pkt Len Std', 'Pkt Len Max', 'Down/Up Ratio', 'Fwd Seg Size Avg', 'Fwd Pkt Len Max', 'Pkt Size Avg', 'ACK Flag Cnt', 'Init Fwd Win Byts'], 'Adv sample 883': ['Fwd Pkt Len Mean', 'Fwd Pkt Len Max', 'Fwd Pkt Len Std', 'Fwd Seg Size Avg', 'Pkt Size Avg', 'Pkt Len Std', 'Down/Up Ratio', 'Pkt Len Mean', 'Pkt Len Max', 'Flow Byts/s'], 'Adv sample 884': ['Fwd Pkt Len Std', 'Fwd Pkt Len Max', 'Pkt Len Std', 'Pkt Len Max', 'Fwd IAT Tot', 'Pkt Size Avg', 'Pkt Len Mean', 'Fwd Seg Size Avg', 'Subflow Bwd Pkts', 'Bwd Header Len'], 'Adv sample 885': ['Fwd Pkt Len Std', 'ACK Flag Cnt', 'Fwd Pkt Len Max', 'Fwd Pkt Len Mean', 'SYN Flag Cnt', 'Fwd Seg Size Avg', 'Down/Up Ratio', 'Pkt Size Avg', 'Pkt Len Mean', 'Pkt Len Std'], 'Adv sample 886': ['Fwd Pkt Len Std', 'Fwd Pkt Len Max', 'Fwd Header Len', 'Fwd Pkt Len Mean', 'Pkt Len Max', 'Tot Fwd Pkts', 'Tot Bwd Pkts', 'Fwd Pkt Len Min', 'Pkt Size Avg', 'Fwd Seg Size Avg'], 'Adv sample 887': ['Init Fwd Win Byts', 'Fwd Pkt Len Std', 'Down/Up Ratio', 'Fwd Pkt Len Max', 'FIN Flag Cnt', 'Fwd Pkt Len Min', 'Bwd Pkts/s', 'Fwd Seg Size Avg', 'Fwd Pkt Len Mean', 'Pkt Len Std'], 'Adv sample 888': ['SYN Flag Cnt', 'Bwd Header Len', 'Fwd Pkt Len Std', 'Fwd Pkt Len Max', 'Pkt Len Std', 'Fwd Pkt Len Mean', 'Subflow Bwd Pkts', 'Fwd IAT Std', 'Pkt Len Max', 'Tot Bwd Pkts'], 'Adv sample 889': ['Fwd Pkt Len Std', 'Fwd Pkt Len Max', 'Tot Fwd Pkts', 'FIN Flag Cnt', 'Tot Bwd Pkts', 'Fwd Header Len', 'Pkt Len Min', 'Subflow Fwd Pkts', 'Pkt Len Max', 'Fwd Seg Size Avg'], 'Adv sample 890': ['Fwd Pkt Len Std', 'Fwd Pkt Len Max', 'Fwd Pkt Len Mean', 'Pkt Len Std', 'Fwd Seg Size Avg', 'Pkt Len Max', 'Flow Byts/s', 'Pkt Len Mean', 'Bwd Pkt Len Std', 'Init Fwd Win Byts'], 'Adv sample 891': ['Bwd Header Len', 'SYN Flag Cnt', 'Fwd Pkt Len Std', 'Tot Bwd Pkts', 'Subflow Bwd Pkts', 'Fwd Pkt Len Max', 'Pkt Len Min', 'Fwd Pkt Len Mean', 'Pkt Len Max', 'Fwd Pkt Len Min'], 'Adv sample 892': ['SYN Flag Cnt', 'Bwd Header Len', 'FIN Flag Cnt', 'Bwd Pkts/s', 'Fwd Seg Size Avg', 'Tot Bwd Pkts', 'Init Fwd Win Byts', 'Fwd Pkt Len Std', 'Fwd IAT Std', 'Fwd Act Data Pkts'], 'Adv sample 893': ['Bwd Header Len', 'SYN Flag Cnt', 'Tot Bwd Pkts', 'Fwd Pkt Len Mean', 'Fwd Pkt Len Std', 'Subflow Bwd Pkts', 'Fwd Seg Size Avg', 'Fwd Pkt Len Max', 'FIN Flag Cnt', 'Pkt Len Max'], 'Adv sample 894': ['Bwd Header Len', 'SYN Flag Cnt', 'Fwd Pkt Len Std', 'Subflow Bwd Pkts', 'Tot Bwd Pkts', 'Pkt Len Min', 'Fwd Pkt Len Mean', 'Fwd Pkt Len Max', 'Fwd Pkt Len Min', 'Fwd Seg Size Avg'], 'Adv sample 895': ['SYN Flag Cnt', 'FIN Flag Cnt', 'Bwd Header Len', 'Bwd Pkts/s', 'Fwd Pkt Len Std', 'Pkt Size Avg', 'Subflow Bwd Pkts', 'Fwd IAT Std', 'Bwd Pkt Len Min', 'Fwd Pkt Len Min'], 'Adv sample 896': ['Bwd Header Len', 'SYN Flag Cnt', 'Bwd Pkts/s', 'Fwd Pkt Len Max', 'Bwd PSH Flags', 'Fwd Pkt Len Std', 'Fwd Seg Size Avg', 'Tot Fwd Pkts', 'Fwd Pkt Len Mean', 'Down/Up Ratio'], 'Adv sample 897': ['Bwd Header Len', 'SYN Flag Cnt', 'FIN Flag Cnt', 'Fwd Pkt Len Std', 'Bwd Pkts/s', 'Fwd Pkt Len Mean', 'Fwd Seg Size Avg', 'Fwd Pkt Len Max', 'Pkt Len Mean', 'Pkt Len Min'], 'Adv sample 898': ['Bwd Header Len', 'SYN Flag Cnt', 'Fwd Pkt Len Std', 'Tot Bwd Pkts', 'Fwd Seg Size Avg', 'Subflow Bwd Pkts', 'Fwd Pkt Len Mean', 'Fwd Pkt Len Max', 'Bwd Pkt Len Min', 'Pkt Len Min'], 'Adv sample 899': ['SYN Flag Cnt', 'Bwd Header Len', 'FIN Flag Cnt', 'Bwd Pkts/s', 'Fwd Pkt Len Std', 'Fwd Act Data Pkts', 'PSH Flag Cnt', 'Subflow Bwd Pkts', 'Fwd Seg Size Avg', 'Down/Up Ratio'], 'Adv sample 900': ['SYN Flag Cnt', 'Bwd Header Len', 'FIN Flag Cnt', 'Fwd Pkt Len Std', 'Fwd Pkt Len Mean', 'Fwd Act Data Pkts', 'Tot Bwd Pkts', 'Subflow Bwd Pkts', 'Fwd IAT Tot', 'Bwd Pkts/s'], 'Adv sample 901': ['Bwd Header Len', 'SYN Flag Cnt', 'Bwd Pkts/s', 'Idle Min', 'Fwd Pkt Len Max', 'Init Fwd Win Byts', 'Fwd Pkt Len Std', 'Fwd Pkt Len Mean', 'Tot Bwd Pkts', 'Fwd IAT Std'], 'Adv sample 902': ['SYN Flag Cnt', 'Bwd Header Len', 'FIN Flag Cnt', 'ACK Flag Cnt', 'Tot Bwd Pkts', 'Fwd Seg Size Avg', 'Down/Up Ratio', 'Fwd Pkt Len Max', 'TotLen Fwd Pkts', 'Pkt Len Min'], 'Adv sample 903': ['ACK Flag Cnt', 'Bwd Header Len', 'SYN Flag Cnt', 'Fwd Pkt Len Max', 'Fwd Pkt Len Std', 'Init Fwd Win Byts', 'Bwd Pkts/s', 'Tot Fwd Pkts', 'Pkt Size Avg', 'Pkt Len Mean'], 'Adv sample 904': ['Bwd Header Len', 'SYN Flag Cnt', 'Tot Bwd Pkts', 'Subflow Bwd Pkts', 'Fwd Seg Size Avg', 'Pkt Len Min', 'FIN Flag Cnt', 'Fwd Pkt Len Min', 'Fwd IAT Std', 'Bwd Pkt Len Min'], 'Adv sample 905': ['Fwd Pkt Len Std', 'Init Fwd Win Byts', 'Down/Up Ratio', 'Fwd Pkt Len Max', 'Pkt Len Std', 'FIN Flag Cnt', 'Pkt Len Min', 'Fwd Seg Size Avg', 'Fwd Pkt Len Min', 'Bwd Pkt Len Std'], 'Adv sample 906': ['SYN Flag Cnt', 'Fwd Pkt Len Std', 'Fwd Pkt Len Max', 'Pkt Size Avg', 'Bwd Header Len', 'Pkt Len Mean', 'Fwd Header Len', 'Tot Fwd Pkts', 'Fwd Pkt Len Min', 'Down/Up Ratio'], 'Adv sample 907': ['Bwd Header Len', 'SYN Flag Cnt', 'Tot Bwd Pkts', 'Subflow Bwd Pkts', 'Fwd Seg Size Avg', 'Pkt Len Min', 'Bwd Pkt Len Min', 'FIN Flag Cnt', 'Fwd Pkt Len Mean', 'Fwd IAT Std'], 'Adv sample 908': ['SYN Flag Cnt', 'Fwd Pkt Len Std', 'Fwd Pkt Len Max', 'Fwd Header Len', 'Fwd Pkt Len Mean', 'Pkt Size Avg', 'Pkt Len Max', 'Subflow Fwd Pkts', 'Pkt Len Std', 'Tot Fwd Pkts'], 'Adv sample 909': ['Bwd Header Len', 'SYN Flag Cnt', 'Bwd Pkts/s', 'FIN Flag Cnt', 'Fwd Pkt Len Std', 'Fwd Pkt Len Max', 'Fwd Seg Size Avg', 'Pkt Len Min', 'Fwd Pkt Len Mean', 'Pkt Size Avg'], 'Adv sample 910': ['SYN Flag Cnt', 'Bwd Header Len', 'Fwd Pkt Len Max', 'Fwd Pkt Len Std', 'Fwd Pkt Len Mean', 'Pkt Len Mean', 'Pkt Size Avg', 'Init Fwd Win Byts', 'Pkt Len Max', 'Tot Fwd Pkts'], 'Adv sample 911': ['SYN Flag Cnt', 'Fwd Pkt Len Max', 'Fwd Pkt Len Std', 'Fwd Header Len', 'Fwd Seg Size Avg', 'Fwd Pkt Len Mean', 'Pkt Size Avg', 'Pkt Len Max', 'Flow Byts/s', 'Bwd Pkts/s'], 'Adv sample 912': ['SYN Flag Cnt', 'FIN Flag Cnt', 'Bwd Header Len', 'Bwd Pkts/s', 'Fwd Act Data Pkts', 'Subflow Bwd Pkts', 'Pkt Len Min', 'Fwd Seg Size Avg', 'Fwd Pkt Len Max', 'Tot Bwd Pkts'], 'Adv sample 913': ['ACK Flag Cnt', 'Bwd Header Len', 'SYN Flag Cnt', 'Fwd Pkt Len Max', 'Fwd Pkt Len Std', 'Init Fwd Win Byts', 'Bwd Pkts/s', 'Pkt Len Max', 'Flow Pkts/s', 'Pkt Len Mean'], 'Adv sample 914': ['ACK Flag Cnt', 'Bwd Header Len', 'SYN Flag Cnt', 'Fwd Pkt Len Max', 'Init Fwd Win Byts', 'Fwd Pkt Len Std', 'Bwd Pkts/s', 'Down/Up Ratio', 'Pkt Len Max', 'Tot Bwd Pkts'], 'Adv sample 915': ['Init Fwd Win Byts', 'Fwd Pkt Len Std', 'Fwd Pkt Len Max', 'Down/Up Ratio', 'Fwd Pkt Len Mean', 'Pkt Len Std', 'FIN Flag Cnt', 'Bwd Pkts/s', 'Flow Byts/s', 'Subflow Bwd Pkts'], 'Adv sample 916': ['Bwd Header Len', 'SYN Flag Cnt', 'Fwd Pkt Len Std', 'Fwd Pkt Len Max', 'Fwd Pkt Len Mean', 'Tot Bwd Pkts', 'Subflow Bwd Pkts', 'Pkt Size Avg', 'Pkt Len Min', 'Fwd Seg Size Avg'], 'Adv sample 917': ['Bwd Header Len', 'SYN Flag Cnt', 'Fwd Pkt Len Max', 'Subflow Bwd Pkts', 'Fwd Pkt Len Std', 'FIN Flag Cnt', 'Bwd Pkt Len Min', 'Tot Bwd Pkts', 'Fwd Seg Size Avg', 'Pkt Size Avg'], 'Adv sample 918': ['Init Fwd Win Byts', 'Fwd Pkt Len Std', 'Fwd Pkt Len Max', 'Down/Up Ratio', 'Fwd Pkt Len Mean', 'Pkt Len Std', 'Fwd Seg Size Avg', 'Bwd Pkt Len Min', 'Pkt Size Avg', 'Flow Byts/s'], 'Adv sample 919': ['ACK Flag Cnt', 'SYN Flag Cnt', 'Bwd Header Len', 'Init Fwd Win Byts', 'Bwd Pkts/s', 'Fwd Pkt Len Std', 'Fwd Pkt Len Max', 'Tot Bwd Pkts', 'Fwd Seg Size Avg', 'Fwd Pkt Len Mean'], 'Adv sample 920': ['ACK Flag Cnt', 'Bwd Header Len', 'SYN Flag Cnt', 'Init Fwd Win Byts', 'Fwd Pkt Len Std', 'Fwd Pkt Len Max', 'Bwd Pkts/s', 'Pkt Len Std', 'Pkt Size Avg', 'Fwd Pkt Len Min'], 'Adv sample 921': ['Bwd Header Len', 'SYN Flag Cnt', 'Tot Bwd Pkts', 'Subflow Bwd Pkts', 'Fwd Pkt Len Max', 'Fwd Pkt Len Std', 'Pkt Len Min', 'FIN Flag Cnt', 'Fwd Pkt Len Mean', 'Pkt Len Max'], 'Adv sample 922': ['Bwd Header Len', 'SYN Flag Cnt', 'Fwd Pkt Len Std', 'Fwd Pkt Len Mean', 'Fwd Pkt Len Max', 'Tot Bwd Pkts', 'Subflow Bwd Pkts', 'Fwd Seg Size Avg', 'Pkt Len Min', 'FIN Flag Cnt'], 'Adv sample 923': ['Fwd Pkt Len Std', 'Fwd Pkt Len Max', 'Fwd Pkt Len Mean', 'Pkt Len Max', 'Pkt Size Avg', 'Pkt Len Mean', 'Pkt Len Std', 'Fwd Seg Size Avg', 'Bwd Pkt Len Std', 'Tot Bwd Pkts'], 'Adv sample 924': ['Fwd Pkt Len Std', 'Fwd Pkt Len Mean', 'Fwd Pkt Len Max', 'Fwd Seg Size Avg', 'Pkt Size Avg', 'Pkt Len Max', 'Pkt Len Std', 'Down/Up Ratio', 'Pkt Len Mean', 'Fwd Pkt Len Min'], 'Adv sample 925': ['SYN Flag Cnt', 'FIN Flag Cnt', 'Bwd Header Len', 'Bwd Pkts/s', 'Fwd Seg Size Avg', 'Tot Bwd Pkts', 'Fwd Act Data Pkts', 'Fwd Pkt Len Std', 'Pkt Len Min', 'TotLen Fwd Pkts'], 'Adv sample 926': ['Bwd Header Len', 'SYN Flag Cnt', 'Tot Bwd Pkts', 'Fwd Pkt Len Mean', 'Fwd Pkt Len Std', 'Fwd Seg Size Avg', 'Pkt Len Min', 'Fwd Pkt Len Min', 'Fwd Pkt Len Max', 'Subflow Bwd Pkts'], 'Adv sample 927': ['SYN Flag Cnt', 'Bwd Header Len', 'Bwd Pkts/s', 'Fwd Pkt Len Std', 'Fwd Pkt Len Max', 'Pkt Len Mean', 'Fwd Pkt Len Mean', 'Pkt Len Min', 'Flow Pkts/s', 'Subflow Bwd Pkts'], 'Adv sample 928': ['Fwd Pkt Len Std', 'Fwd Pkt Len Max', 'Bwd Pkts/s', 'Fwd Pkt Len Mean', 'Fwd Header Len', 'Pkt Size Avg', 'Pkt Len Mean', 'Pkt Len Min', 'Tot Fwd Pkts', 'Tot Bwd Pkts'], 'Adv sample 929': ['Fwd Pkt Len Std', 'ACK Flag Cnt', 'Fwd Pkt Len Max', 'SYN Flag Cnt', 'Fwd Pkt Len Mean', 'Down/Up Ratio', 'Pkt Len Mean', 'Flow Byts/s', 'Fwd Seg Size Avg', 'Pkt Size Avg'], 'Adv sample 930': ['SYN Flag Cnt', 'Bwd Header Len', 'Bwd Pkts/s', 'Fwd Pkt Len Max', 'Fwd Pkt Len Std', 'Tot Bwd Pkts', 'Pkt Len Min', 'Bwd Pkt Len Min', 'Pkt Size Avg', 'FIN Flag Cnt'], 'Adv sample 931': ['Bwd Header Len', 'SYN Flag Cnt', 'FIN Flag Cnt', 'Bwd Pkts/s', 'Fwd Pkt Len Std', 'Bwd Pkt Len Min', 'Fwd Seg Size Avg', 'Pkt Size Avg', 'Fwd Pkt Len Mean', 'Fwd Pkt Len Max'], 'Adv sample 932': ['Bwd Header Len', 'SYN Flag Cnt', 'Fwd Pkt Len Std', 'Fwd Pkt Len Max', 'Subflow Fwd Pkts', 'Idle Min', 'Tot Fwd Pkts', 'Subflow Bwd Pkts', 'Bwd Pkts/s', 'Fwd Act Data Pkts'], 'Adv sample 933': ['SYN Flag Cnt', 'Bwd Header Len', 'FIN Flag Cnt', 'TotLen Fwd Pkts', 'Fwd Pkt Len Std', 'Fwd Seg Size Avg', 'Bwd Pkts/s', 'Fwd Pkt Len Min', 'Fwd Pkt Len Max', 'Fwd Act Data Pkts'], 'Adv sample 934': ['Bwd Header Len', 'SYN Flag Cnt', 'Bwd Pkts/s', 'FIN Flag Cnt', 'Fwd Pkt Len Max', 'Fwd Pkt Len Std', 'Pkt Len Mean', 'Pkt Len Max', 'Fwd Pkt Len Mean', 'Tot Bwd Pkts'], 'Adv sample 935': ['ACK Flag Cnt', 'Bwd Header Len', 'SYN Flag Cnt', 'Fwd Pkt Len Max', 'Init Fwd Win Byts', 'Bwd Pkts/s', 'Fwd Pkt Len Std', 'Fwd Header Len', 'Fwd Pkt Len Mean', 'Down/Up Ratio'], 'Adv sample 936': ['Bwd Header Len', 'SYN Flag Cnt', 'Fwd Pkt Len Max', 'Bwd Pkts/s', 'Fwd Pkt Len Std', 'Down/Up Ratio', 'Fwd Pkt Len Mean', 'Bwd Pkt Len Min', 'FIN Flag Cnt', 'Subflow Bwd Pkts'], 'Adv sample 937': ['Bwd Header Len', 'SYN Flag Cnt', 'Bwd Pkts/s', 'FIN Flag Cnt', 'Fwd Pkt Len Std', 'Fwd Pkt Len Max', 'Pkt Len Min', 'Fwd Pkt Len Mean', 'Tot Bwd Pkts', 'Pkt Len Max'], 'Adv sample 938': ['Fwd Pkt Len Std', 'Init Fwd Win Byts', 'Fwd Pkt Len Max', 'Pkt Len Std', 'Down/Up Ratio', 'Fwd Pkt Len Min', 'FIN Flag Cnt', 'Bwd Pkt Len Min', 'Fwd Pkt Len Mean', 'Pkt Len Min'], 'Adv sample 939': ['Fwd Pkt Len Std', 'Fwd Pkt Len Max', 'Fwd Pkt Len Mean', 'Pkt Len Max', 'Pkt Len Mean', 'Pkt Len Std', 'Tot Fwd Pkts', 'Bwd Pkts/s', 'Fwd Header Len', 'Fwd Act Data Pkts'], 'Adv sample 940': ['Bwd Header Len', 'SYN Flag Cnt', 'FIN Flag Cnt', 'Bwd Pkts/s', 'Pkt Len Mean', 'Fwd Pkt Len Std', 'Fwd Pkt Len Max', 'Tot Bwd Pkts', 'Pkt Len Std', 'Fwd Pkt Len Mean'], 'Adv sample 941': ['ACK Flag Cnt', 'SYN Flag Cnt', 'Init Fwd Win Byts', 'Fwd Pkt Len Std', 'Fwd Pkt Len Max', 'Fwd Pkt Len Mean', 'Pkt Size Avg', 'Fwd Seg Size Avg', 'Pkt Len Std', 'Pkt Len Max'], 'Adv sample 942': ['Fwd Pkt Len Std', 'Fwd Seg Size Avg', 'Fwd Pkt Len Mean', 'Fwd Pkt Len Max', 'Pkt Len Max', 'Pkt Len Std', 'Down/Up Ratio', 'Pkt Size Avg', 'Init Fwd Win Byts', 'Tot Fwd Pkts'], 'Adv sample 943': ['SYN Flag Cnt', 'Bwd Header Len', 'Bwd Pkts/s', 'Fwd Pkt Len Max', 'Fwd Pkt Len Std', 'FIN Flag Cnt', 'Fwd Seg Size Avg', 'Tot Bwd Pkts', 'Bwd Pkt Len Min', 'Down/Up Ratio'], 'Adv sample 944': ['SYN Flag Cnt', 'Bwd Header Len', 'Bwd Pkts/s', 'Fwd Pkt Len Max', 'Fwd Pkt Len Std', 'Fwd Seg Size Avg', 'FIN Flag Cnt', 'Tot Bwd Pkts', 'Pkt Len Max', 'Fwd Pkt Len Mean'], 'Adv sample 945': ['Bwd Header Len', 'SYN Flag Cnt', 'Subflow Bwd Pkts', 'Fwd Pkt Len Std', 'Tot Bwd Pkts', 'Fwd Pkt Len Mean', 'Bwd Pkt Len Min', 'Pkt Len Min', 'Fwd Seg Size Avg', 'Fwd IAT Std'], 'Adv sample 946': ['SYN Flag Cnt', 'Bwd Header Len', 'Bwd Pkts/s', 'Fwd Pkt Len Max', 'Fwd Pkt Len Std', 'Fwd Seg Size Avg', 'Pkt Len Max', 'Subflow Bwd Pkts', 'Pkt Len Std', 'FIN Flag Cnt'], 'Adv sample 947': ['Bwd Header Len', 'SYN Flag Cnt', 'FIN Flag Cnt', 'Bwd Pkts/s', 'Fwd Pkt Len Std', 'Bwd Pkt Len Min', 'Fwd Pkt Len Max', 'Fwd Pkt Len Mean', 'Pkt Len Mean', 'Down/Up Ratio'], 'Adv sample 948': ['SYN Flag Cnt', 'Fwd Pkt Len Max', 'Fwd Pkt Len Std', 'Fwd Pkt Len Mean', 'Fwd Header Len', 'Tot Fwd Pkts', 'Fwd Pkt Len Min', 'Pkt Len Std', 'Pkt Size Avg', 'Bwd Pkts/s'], 'Adv sample 949': ['Bwd Header Len', 'SYN Flag Cnt', 'Fwd Pkt Len Std', 'Subflow Bwd Pkts', 'Pkt Len Min', 'Fwd Pkt Len Mean', 'Tot Bwd Pkts', 'Pkt Len Max', 'Fwd Pkt Len Max', 'Bwd Pkt Len Min'], 'Adv sample 950': ['Fwd Pkt Len Std', 'Fwd Pkt Len Max', 'Fwd Pkt Len Mean', 'Bwd Pkts/s', 'Pkt Size Avg', 'ACK Flag Cnt', 'Tot Bwd Pkts', 'Pkt Len Min', 'Subflow Bwd Pkts', 'Fwd Pkt Len Min'], 'Adv sample 951': ['Bwd Header Len', 'SYN Flag Cnt', 'Tot Bwd Pkts', 'Fwd Pkt Len Std', 'Fwd Pkt Len Max', 'Fwd Pkt Len Mean', 'Fwd Seg Size Avg', 'Subflow Bwd Pkts', 'Fwd Pkt Len Min', 'Pkt Len Min'], 'Adv sample 952': ['SYN Flag Cnt', 'Bwd Header Len', 'FIN Flag Cnt', 'Fwd Pkt Len Mean', 'Bwd Pkts/s', 'Fwd IAT Std', 'Tot Bwd Pkts', 'Subflow Bwd Pkts', 'Fwd Pkt Len Max', 'Fwd Act Data Pkts'], 'Adv sample 953': ['Fwd Pkt Len Std', 'Fwd Pkt Len Max', 'Pkt Size Avg', 'Tot Fwd Pkts', 'Subflow Fwd Pkts', 'Fwd Seg Size Avg', 'Pkt Len Min', 'Pkt Len Max', 'Bwd Pkts/s', 'Fwd Header Len'], 'Adv sample 954': ['SYN Flag Cnt', 'Bwd Header Len', 'FIN Flag Cnt', 'Fwd Pkt Len Std', 'Tot Bwd Pkts', 'Fwd Seg Size Avg', 'Fwd Pkt Len Mean', 'ACK Flag Cnt', 'Fwd IAT Std', 'Bwd Pkts/s'], 'Adv sample 955': ['Fwd Pkt Len Max', 'Fwd Pkt Len Std', 'Pkt Len Std', 'Pkt Len Max', 'Pkt Size Avg', 'Fwd Pkt Len Mean', 'Pkt Len Mean', 'Fwd Header Len', 'Tot Bwd Pkts', 'Pkt Len Min'], 'Adv sample 956': ['Fwd Pkt Len Max', 'Fwd Pkt Len Std', 'Pkt Len Max', 'Pkt Size Avg', 'Fwd Pkt Len Mean', 'Pkt Len Std', 'Pkt Len Mean', 'Tot Bwd Pkts', 'Fwd Seg Size Avg', 'Bwd Header Len'], 'Adv sample 957': ['Fwd Pkt Len Std', 'Init Fwd Win Byts', 'Fwd Pkt Len Max', 'Fwd Pkt Len Mean', 'Pkt Len Std', 'Bwd Pkt Len Std', 'Pkt Size Avg', 'Fwd Pkt Len Min', 'Bwd Pkts/s', 'Down/Up Ratio'], 'Adv sample 958': ['Fwd Pkt Len Std', 'ACK Flag Cnt', 'Fwd Pkt Len Max', 'SYN Flag Cnt', 'Fwd Pkt Len Mean', 'Down/Up Ratio', 'Pkt Size Avg', 'Pkt Len Mean', 'Fwd Seg Size Avg', 'Pkt Len Max'], 'Adv sample 959': ['Bwd Header Len', 'SYN Flag Cnt', 'Bwd Pkts/s', 'FIN Flag Cnt', 'Fwd Pkt Len Std', 'Down/Up Ratio', 'Fwd Pkt Len Max', 'Fwd Pkt Len Min', 'Pkt Len Max', 'Tot Bwd Pkts'], 'Adv sample 960': ['SYN Flag Cnt', 'Bwd Header Len', 'FIN Flag Cnt', 'Bwd Pkts/s', 'Fwd Pkt Len Mean', 'Fwd Pkt Len Std', 'Bwd Pkt Len Min', 'Subflow Bwd Pkts', 'Fwd Header Len', 'Flow Pkts/s'], 'Adv sample 961': ['Bwd Header Len', 'SYN Flag Cnt', 'Tot Bwd Pkts', 'Subflow Bwd Pkts', 'Fwd Seg Size Avg', 'Pkt Len Min', 'Fwd IAT Std', 'Bwd Pkt Len Min', 'Fwd Pkt Len Min', 'FIN Flag Cnt'], 'Adv sample 962': ['Bwd Header Len', 'Bwd PSH Flags', 'Fwd Pkt Len Std', 'Fwd Pkt Len Max', 'SYN Flag Cnt', 'Bwd Pkts/s', 'Fwd Seg Size Avg', 'Subflow Bwd Pkts', 'Fwd Pkt Len Mean', 'Pkt Size Avg'], 'Adv sample 963': ['Bwd Header Len', 'SYN Flag Cnt', 'Fwd Pkt Len Max', 'Fwd Pkt Len Std', 'Tot Bwd Pkts', 'Fwd Seg Size Avg', 'Fwd Act Data Pkts', 'Init Fwd Win Byts', 'Pkt Len Min', 'Subflow Fwd Pkts'], 'Adv sample 964': ['SYN Flag Cnt', 'Bwd Header Len', 'FIN Flag Cnt', 'Fwd Pkt Len Std', 'Bwd Pkts/s', 'Tot Bwd Pkts', 'Fwd Act Data Pkts', 'Fwd IAT Std', 'TotLen Fwd Pkts', 'Pkt Len Max'], 'Adv sample 965': ['SYN Flag Cnt', 'FIN Flag Cnt', 'Bwd Header Len', 'Bwd Pkts/s', 'Fwd Pkt Len Std', 'Fwd Pkt Len Mean', 'Subflow Bwd Pkts', 'Pkt Len Min', 'Pkt Size Avg', 'Fwd Pkt Len Max'], 'Adv sample 966': ['SYN Flag Cnt', 'Fwd Pkt Len Std', 'Bwd Header Len', 'Fwd Seg Size Avg', 'Tot Fwd Pkts', 'Subflow Fwd Pkts', 'Fwd Pkt Len Max', 'Fwd Pkt Len Mean', 'Tot Bwd Pkts', 'Fwd IAT Mean'], 'Adv sample 967': ['Fwd Pkt Len Std', 'Fwd Pkt Len Max', 'Bwd Pkts/s', 'Tot Fwd Pkts', 'Fwd Pkt Len Mean', 'Bwd Pkt Len Min', 'Pkt Size Avg', 'Pkt Len Max', 'Fwd Seg Size Avg', 'Subflow Fwd Pkts'], 'Adv sample 968': ['Bwd Header Len', 'SYN Flag Cnt', 'Tot Bwd Pkts', 'Subflow Bwd Pkts', 'Fwd Seg Size Avg', 'Pkt Len Min', 'Bwd Pkt Len Min', 'FIN Flag Cnt', 'Fwd IAT Std', 'Fwd Pkt Len Min'], 'Adv sample 969': ['Fwd Pkt Len Max', 'Fwd Pkt Len Mean', 'Fwd Pkt Len Std', 'Pkt Len Std', 'Fwd Seg Size Avg', 'Pkt Len Max', 'Pkt Size Avg', 'Pkt Len Mean', 'Bwd Pkt Len Std', 'Down/Up Ratio'], 'Adv sample 970': ['Idle Min', 'Fwd IAT Std', 'Pkt Len Min', 'SYN Flag Cnt', 'Fwd Pkt Len Std', 'Fwd Pkt Len Max', 'Fwd Seg Size Avg', 'Active Std', 'Down/Up Ratio', 'FIN Flag Cnt'], 'Adv sample 971': ['Init Fwd Win Byts', 'Fwd Pkt Len Std', 'Down/Up Ratio', 'Fwd Pkt Len Max', 'Fwd Pkt Len Mean', 'FIN Flag Cnt', 'Pkt Len Std', 'Pkt Len Mean', 'Bwd Pkt Len Min', 'ACK Flag Cnt'], 'Adv sample 972': ['Bwd Header Len', 'SYN Flag Cnt', 'FIN Flag Cnt', 'Fwd Pkt Len Std', 'Bwd Pkts/s', 'Fwd Pkt Len Max', 'Pkt Len Mean', 'Tot Bwd Pkts', 'Bwd Pkt Len Min', 'Fwd Pkt Len Min'], 'Adv sample 973': ['Bwd Header Len', 'SYN Flag Cnt', 'FIN Flag Cnt', 'Bwd Pkts/s', 'Fwd Pkt Len Std', 'Fwd Pkt Len Min', 'Fwd Pkt Len Mean', 'Pkt Len Max', 'Pkt Len Min', 'Fwd Seg Size Avg'], 'Adv sample 974': ['Fwd Pkt Len Std', 'Fwd Pkt Len Max', 'Tot Fwd Pkts', 'Pkt Len Mean', 'Pkt Len Max', 'Subflow Bwd Pkts', 'Pkt Size Avg', 'Pkt Len Std', 'Fwd Seg Size Avg', 'Bwd Pkts/s'], 'Adv sample 975': ['SYN Flag Cnt', 'Bwd Header Len', 'Bwd Pkts/s', 'FIN Flag Cnt', 'Fwd Pkt Len Std', 'Fwd Seg Size Avg', 'Pkt Len Mean', 'Fwd Pkt Len Min', 'Flow Pkts/s', 'Fwd Pkt Len Max'], 'Adv sample 976': ['Fwd Pkt Len Std', 'Fwd Pkt Len Max', 'Bwd Pkts/s', 'Pkt Len Mean', 'Pkt Size Avg', 'Fwd Pkt Len Mean', 'Pkt Len Std', 'Subflow Bwd Pkts', 'Fwd Header Len', 'Pkt Len Max'], 'Adv sample 977': ['ACK Flag Cnt', 'SYN Flag Cnt', 'Init Fwd Win Byts', 'Fwd Pkt Len Max', 'Fwd Pkt Len Std', 'Fwd Pkt Len Mean', 'Fwd Seg Size Avg', 'Pkt Len Mean', 'Pkt Size Avg', 'Pkt Len Std'], 'Adv sample 978': ['Fwd Pkt Len Mean', 'Fwd Pkt Len Std', 'Fwd Pkt Len Max', 'Pkt Size Avg', 'Pkt Len Max', 'Fwd Seg Size Avg', 'Pkt Len Mean', 'Pkt Len Std', 'Flow Duration', 'Bwd Pkt Len Std'], 'Adv sample 979': ['Init Fwd Win Byts', 'Fwd Pkt Len Std', 'Fwd Pkt Len Max', 'Pkt Len Std', 'Down/Up Ratio', 'Pkt Len Min', 'Fwd Seg Size Avg', 'Fwd Pkt Len Mean', 'FIN Flag Cnt', 'Bwd Pkts/s'], 'Adv sample 980': ['SYN Flag Cnt', 'Bwd Header Len', 'FIN Flag Cnt', 'Bwd Pkts/s', 'Pkt Len Min', 'Tot Bwd Pkts', 'Fwd Pkt Len Std', 'Pkt Len Mean', 'Pkt Len Max', 'Subflow Bwd Pkts'], 'Adv sample 981': ['ACK Flag Cnt', 'SYN Flag Cnt', 'Bwd Header Len', 'Fwd Pkt Len Std', 'Init Fwd Win Byts', 'Fwd Pkt Len Max', 'Bwd Pkts/s', 'Subflow Bwd Pkts', 'Tot Bwd Pkts', 'Pkt Size Avg'], 'Adv sample 982': ['Bwd Header Len', 'SYN Flag Cnt', 'FIN Flag Cnt', 'Bwd Pkts/s', 'Fwd Pkt Len Std', 'Bwd Pkt Len Min', 'Fwd Pkt Len Max', 'Pkt Size Avg', 'Fwd Pkt Len Min', 'Fwd Seg Size Avg'], 'Adv sample 983': ['Bwd Header Len', 'SYN Flag Cnt', 'Bwd Pkts/s', 'Fwd Pkt Len Std', 'FIN Flag Cnt', 'Down/Up Ratio', 'Fwd Pkt Len Max', 'Fwd Pkt Len Mean', 'Tot Bwd Pkts', 'Fwd Pkt Len Min'], 'Adv sample 984': ['Bwd Header Len', 'SYN Flag Cnt', 'Fwd Pkt Len Std', 'Tot Bwd Pkts', 'Subflow Bwd Pkts', 'Bwd Pkts/s', 'Idle Min', 'Init Fwd Win Byts', 'Fwd Pkt Len Max', 'Tot Fwd Pkts'], 'Adv sample 985': ['Bwd Header Len', 'SYN Flag Cnt', 'Subflow Bwd Pkts', 'Fwd Pkt Len Std', 'Fwd Pkt Len Min', 'Fwd Pkt Len Max', 'Pkt Len Min', 'Fwd Seg Size Avg', 'Pkt Len Std', 'Tot Bwd Pkts'], 'Adv sample 986': ['Fwd Pkt Len Std', 'Fwd Pkt Len Max', 'ACK Flag Cnt', 'SYN Flag Cnt', 'Down/Up Ratio', 'Fwd Seg Size Avg', 'Pkt Len Std', 'Fwd Pkt Len Mean', 'Pkt Size Avg', 'Pkt Len Mean'], 'Adv sample 987': ['Init Fwd Win Byts', 'Fwd Pkt Len Std', 'Fwd Pkt Len Max', 'Down/Up Ratio', 'Fwd Seg Size Avg', 'Bwd Pkts/s', 'Fwd Pkt Len Mean', 'Bwd Pkt Len Min', 'Pkt Len Min', 'FIN Flag Cnt'], 'Adv sample 988': ['Fwd Pkt Len Std', 'Fwd Pkt Len Max', 'Fwd Pkt Len Mean', 'Subflow Fwd Pkts', 'Tot Fwd Pkts', 'Fwd Act Data Pkts', 'Fwd Header Len', 'Pkt Len Max', 'Fwd Seg Size Avg', 'Pkt Size Avg'], 'Adv sample 989': ['Fwd Pkt Len Std', 'Init Fwd Win Byts', 'Fwd Pkt Len Max', 'Down/Up Ratio', 'Pkt Len Std', 'Bwd Pkts/s', 'ACK Flag Cnt', 'Bwd Pkt Len Min', 'FIN Flag Cnt', 'Fwd Pkt Len Mean'], 'Adv sample 990': ['SYN Flag Cnt', 'Bwd Header Len', 'Bwd Pkts/s', 'Fwd Pkt Len Std', 'Fwd Pkt Len Max', 'FIN Flag Cnt', 'Fwd Pkt Len Mean', 'PSH Flag Cnt', 'Tot Bwd Pkts', 'Fwd Pkt Len Min'], 'Adv sample 991': ['Bwd Header Len', 'SYN Flag Cnt', 'FIN Flag Cnt', 'Bwd Pkts/s', 'Fwd Pkt Len Max', 'Fwd Pkt Len Mean', 'Pkt Len Mean', 'Fwd Pkt Len Min', 'Pkt Len Min', 'Down/Up Ratio'], 'Adv sample 992': ['Fwd Pkt Len Std', 'Bwd Pkts/s', 'Fwd Pkt Len Max', 'Fwd Pkt Len Mean', 'Fwd Seg Size Avg', 'Fwd Header Len', 'Pkt Size Avg', 'Tot Fwd Pkts', 'FIN Flag Cnt', 'Idle Std'], 'Adv sample 993': ['SYN Flag Cnt', 'FIN Flag Cnt', 'Bwd Header Len', 'Fwd Pkt Len Std', 'Bwd Pkts/s', 'Fwd IAT Std', 'Fwd Pkt Len Min', 'Bwd Pkt Len Min', 'Fwd Pkt Len Mean', 'Subflow Bwd Pkts'], 'Adv sample 994': ['SYN Flag Cnt', 'Bwd Header Len', 'Fwd Pkt Len Std', 'Bwd Pkts/s', 'Fwd Pkt Len Max', 'FIN Flag Cnt', 'Fwd Act Data Pkts', 'Pkt Size Avg', 'Fwd Pkt Len Mean', 'Pkt Len Max'], 'Adv sample 995': ['Bwd Header Len', 'SYN Flag Cnt', 'Tot Bwd Pkts', 'Subflow Bwd Pkts', 'Fwd Seg Size Avg', 'Pkt Len Min', 'FIN Flag Cnt', 'Bwd Pkt Len Min', 'Fwd IAT Std', 'Fwd Pkt Len Min'], 'Adv sample 996': ['Bwd Header Len', 'SYN Flag Cnt', 'Idle Min', 'Init Fwd Win Byts', 'Subflow Bwd Pkts', 'Fwd Pkt Len Max', 'Flow Pkts/s', 'Tot Bwd Pkts', 'Fwd Pkt Len Std', 'Bwd Pkts/b Avg'], 'Adv sample 997': ['Fwd Pkt Len Std', 'Fwd Pkt Len Max', 'Pkt Len Max', 'Fwd Pkt Len Mean', 'Bwd Pkts/s', 'Tot Bwd Pkts', 'Pkt Len Mean', 'Fwd Seg Size Avg', 'Pkt Len Std', 'Tot Fwd Pkts'], 'Adv sample 998': ['SYN Flag Cnt', 'Fwd Pkt Len Std', 'Fwd Pkt Len Max', 'Down/Up Ratio', 'Fwd Pkt Len Mean', 'Bwd Pkts/s', 'Pkt Len Min', 'Pkt Len Std', 'Pkt Size Avg', 'Pkt Len Mean'], 'Adv sample 999': ['Init Fwd Win Byts', 'Fwd Pkt Len Std', 'Fwd Pkt Len Max', 'Down/Up Ratio', 'Bwd Pkt Len Min', 'Bwd Pkts/s', 'FIN Flag Cnt', 'Pkt Len Min', 'Pkt Len Std', 'Fwd Pkt Len Mean']}\n"
          ]
        }
      ]
    },
    {
      "cell_type": "code",
      "source": [
        "len(shap_values[0])"
      ],
      "metadata": {
        "colab": {
          "base_uri": "https://localhost:8080/"
        },
        "id": "YdyTABeHYa2k",
        "outputId": "1a7dd9dd-7ca0-4c45-c2d3-b6849b9f66fe"
      },
      "execution_count": 22,
      "outputs": [
        {
          "output_type": "execute_result",
          "data": {
            "text/plain": [
              "1000"
            ]
          },
          "metadata": {},
          "execution_count": 22
        }
      ]
    },
    {
      "cell_type": "code",
      "source": [
        "len(data_dict)"
      ],
      "metadata": {
        "colab": {
          "base_uri": "https://localhost:8080/"
        },
        "id": "rUB23r63Tjug",
        "outputId": "5d62f444-e8a0-453d-868d-0aef2c2e1776"
      },
      "execution_count": 23,
      "outputs": [
        {
          "output_type": "execute_result",
          "data": {
            "text/plain": [
              "1000"
            ]
          },
          "metadata": {},
          "execution_count": 23
        }
      ]
    },
    {
      "cell_type": "markdown",
      "source": [
        "# Extract local feature for each adv sample (77203 in total)"
      ],
      "metadata": {
        "id": "JwBapttUM7Du"
      }
    },
    {
      "cell_type": "code",
      "source": [
        "for idx in range(0, 77203):\n",
        "  # Create a DataFrame with the SHAP values and feature names\n",
        "  df_shap_values = pd.DataFrame({'SHAP Values': exp[idx].values}, index=feature_list)\n",
        "  df_shap_values.sort_values(by=['SHAP Values'], ascending=False, inplace=True)\n",
        "  df_shap_values.to_csv('/content/drive/MyDrive/DACN_XAI_Adv_defense/InSDN/pgd_Result/SHAP_ADVSamples_' + str(idx) + '.csv')\n",
        "  print('Extracted local importance feature of the ' + str(idx) + 'adv sample.')"
      ],
      "metadata": {
        "id": "a8Xe-PM9Ikwa"
      },
      "execution_count": null,
      "outputs": []
    },
    {
      "cell_type": "markdown",
      "source": [
        "# Detection phase"
      ],
      "metadata": {
        "id": "E8tWQQDtNIJk"
      }
    },
    {
      "cell_type": "code",
      "source": [
        "import os\n",
        "import pandas as pd"
      ],
      "metadata": {
        "id": "mmslrdn7z7Zf"
      },
      "execution_count": 24,
      "outputs": []
    },
    {
      "cell_type": "code",
      "source": [
        "whitelist_df = pd.read_csv('/content/drive/MyDrive/InSDN/MLP_top24_InSDN.csv')\n",
        "whitelist_df.head(24)"
      ],
      "metadata": {
        "colab": {
          "base_uri": "https://localhost:8080/",
          "height": 801
        },
        "id": "aQJa-f1GPxvz",
        "outputId": "6fb2ebbd-f254-4b07-bfdf-edf6f4e3df5c"
      },
      "execution_count": 26,
      "outputs": [
        {
          "output_type": "execute_result",
          "data": {
            "text/plain": [
              "              Feature  Frequency\n",
              "0        FIN Flag Cnt       1223\n",
              "1        SYN Flag Cnt       1196\n",
              "2   Init Fwd Win Byts        986\n",
              "3         Flow Pkts/s        884\n",
              "4        ACK Flag Cnt        808\n",
              "5        Pkt Size Avg        767\n",
              "6          Bwd Pkts/s        752\n",
              "7       Down/Up Ratio        732\n",
              "8        Pkt Len Mean        667\n",
              "9         Pkt Len Min        588\n",
              "10    Bwd Pkt Len Min        584\n",
              "11        Pkt Len Max        582\n",
              "12  Init Bwd Win Byts        473\n",
              "13    Fwd Pkt Len Max        283\n",
              "14        Fwd IAT Tot        275\n",
              "15       Flow IAT Max        260\n",
              "16       PSH Flag Cnt        238\n",
              "17    Fwd Pkt Len Std        197\n",
              "18   Fwd Pkt Len Mean        197\n",
              "19        Pkt Len Std        193\n",
              "20        Bwd IAT Tot        188\n",
              "21           Idle Max        188\n",
              "22   Fwd Seg Size Avg        182\n",
              "23        Fwd IAT Std        180"
            ],
            "text/html": [
              "\n",
              "  <div id=\"df-f0e53dd7-26a9-4541-bfac-76d88013636e\">\n",
              "    <div class=\"colab-df-container\">\n",
              "      <div>\n",
              "<style scoped>\n",
              "    .dataframe tbody tr th:only-of-type {\n",
              "        vertical-align: middle;\n",
              "    }\n",
              "\n",
              "    .dataframe tbody tr th {\n",
              "        vertical-align: top;\n",
              "    }\n",
              "\n",
              "    .dataframe thead th {\n",
              "        text-align: right;\n",
              "    }\n",
              "</style>\n",
              "<table border=\"1\" class=\"dataframe\">\n",
              "  <thead>\n",
              "    <tr style=\"text-align: right;\">\n",
              "      <th></th>\n",
              "      <th>Feature</th>\n",
              "      <th>Frequency</th>\n",
              "    </tr>\n",
              "  </thead>\n",
              "  <tbody>\n",
              "    <tr>\n",
              "      <th>0</th>\n",
              "      <td>FIN Flag Cnt</td>\n",
              "      <td>1223</td>\n",
              "    </tr>\n",
              "    <tr>\n",
              "      <th>1</th>\n",
              "      <td>SYN Flag Cnt</td>\n",
              "      <td>1196</td>\n",
              "    </tr>\n",
              "    <tr>\n",
              "      <th>2</th>\n",
              "      <td>Init Fwd Win Byts</td>\n",
              "      <td>986</td>\n",
              "    </tr>\n",
              "    <tr>\n",
              "      <th>3</th>\n",
              "      <td>Flow Pkts/s</td>\n",
              "      <td>884</td>\n",
              "    </tr>\n",
              "    <tr>\n",
              "      <th>4</th>\n",
              "      <td>ACK Flag Cnt</td>\n",
              "      <td>808</td>\n",
              "    </tr>\n",
              "    <tr>\n",
              "      <th>5</th>\n",
              "      <td>Pkt Size Avg</td>\n",
              "      <td>767</td>\n",
              "    </tr>\n",
              "    <tr>\n",
              "      <th>6</th>\n",
              "      <td>Bwd Pkts/s</td>\n",
              "      <td>752</td>\n",
              "    </tr>\n",
              "    <tr>\n",
              "      <th>7</th>\n",
              "      <td>Down/Up Ratio</td>\n",
              "      <td>732</td>\n",
              "    </tr>\n",
              "    <tr>\n",
              "      <th>8</th>\n",
              "      <td>Pkt Len Mean</td>\n",
              "      <td>667</td>\n",
              "    </tr>\n",
              "    <tr>\n",
              "      <th>9</th>\n",
              "      <td>Pkt Len Min</td>\n",
              "      <td>588</td>\n",
              "    </tr>\n",
              "    <tr>\n",
              "      <th>10</th>\n",
              "      <td>Bwd Pkt Len Min</td>\n",
              "      <td>584</td>\n",
              "    </tr>\n",
              "    <tr>\n",
              "      <th>11</th>\n",
              "      <td>Pkt Len Max</td>\n",
              "      <td>582</td>\n",
              "    </tr>\n",
              "    <tr>\n",
              "      <th>12</th>\n",
              "      <td>Init Bwd Win Byts</td>\n",
              "      <td>473</td>\n",
              "    </tr>\n",
              "    <tr>\n",
              "      <th>13</th>\n",
              "      <td>Fwd Pkt Len Max</td>\n",
              "      <td>283</td>\n",
              "    </tr>\n",
              "    <tr>\n",
              "      <th>14</th>\n",
              "      <td>Fwd IAT Tot</td>\n",
              "      <td>275</td>\n",
              "    </tr>\n",
              "    <tr>\n",
              "      <th>15</th>\n",
              "      <td>Flow IAT Max</td>\n",
              "      <td>260</td>\n",
              "    </tr>\n",
              "    <tr>\n",
              "      <th>16</th>\n",
              "      <td>PSH Flag Cnt</td>\n",
              "      <td>238</td>\n",
              "    </tr>\n",
              "    <tr>\n",
              "      <th>17</th>\n",
              "      <td>Fwd Pkt Len Std</td>\n",
              "      <td>197</td>\n",
              "    </tr>\n",
              "    <tr>\n",
              "      <th>18</th>\n",
              "      <td>Fwd Pkt Len Mean</td>\n",
              "      <td>197</td>\n",
              "    </tr>\n",
              "    <tr>\n",
              "      <th>19</th>\n",
              "      <td>Pkt Len Std</td>\n",
              "      <td>193</td>\n",
              "    </tr>\n",
              "    <tr>\n",
              "      <th>20</th>\n",
              "      <td>Bwd IAT Tot</td>\n",
              "      <td>188</td>\n",
              "    </tr>\n",
              "    <tr>\n",
              "      <th>21</th>\n",
              "      <td>Idle Max</td>\n",
              "      <td>188</td>\n",
              "    </tr>\n",
              "    <tr>\n",
              "      <th>22</th>\n",
              "      <td>Fwd Seg Size Avg</td>\n",
              "      <td>182</td>\n",
              "    </tr>\n",
              "    <tr>\n",
              "      <th>23</th>\n",
              "      <td>Fwd IAT Std</td>\n",
              "      <td>180</td>\n",
              "    </tr>\n",
              "  </tbody>\n",
              "</table>\n",
              "</div>\n",
              "      <button class=\"colab-df-convert\" onclick=\"convertToInteractive('df-f0e53dd7-26a9-4541-bfac-76d88013636e')\"\n",
              "              title=\"Convert this dataframe to an interactive table.\"\n",
              "              style=\"display:none;\">\n",
              "        \n",
              "  <svg xmlns=\"http://www.w3.org/2000/svg\" height=\"24px\"viewBox=\"0 0 24 24\"\n",
              "       width=\"24px\">\n",
              "    <path d=\"M0 0h24v24H0V0z\" fill=\"none\"/>\n",
              "    <path d=\"M18.56 5.44l.94 2.06.94-2.06 2.06-.94-2.06-.94-.94-2.06-.94 2.06-2.06.94zm-11 1L8.5 8.5l.94-2.06 2.06-.94-2.06-.94L8.5 2.5l-.94 2.06-2.06.94zm10 10l.94 2.06.94-2.06 2.06-.94-2.06-.94-.94-2.06-.94 2.06-2.06.94z\"/><path d=\"M17.41 7.96l-1.37-1.37c-.4-.4-.92-.59-1.43-.59-.52 0-1.04.2-1.43.59L10.3 9.45l-7.72 7.72c-.78.78-.78 2.05 0 2.83L4 21.41c.39.39.9.59 1.41.59.51 0 1.02-.2 1.41-.59l7.78-7.78 2.81-2.81c.8-.78.8-2.07 0-2.86zM5.41 20L4 18.59l7.72-7.72 1.47 1.35L5.41 20z\"/>\n",
              "  </svg>\n",
              "      </button>\n",
              "      \n",
              "  <style>\n",
              "    .colab-df-container {\n",
              "      display:flex;\n",
              "      flex-wrap:wrap;\n",
              "      gap: 12px;\n",
              "    }\n",
              "\n",
              "    .colab-df-convert {\n",
              "      background-color: #E8F0FE;\n",
              "      border: none;\n",
              "      border-radius: 50%;\n",
              "      cursor: pointer;\n",
              "      display: none;\n",
              "      fill: #1967D2;\n",
              "      height: 32px;\n",
              "      padding: 0 0 0 0;\n",
              "      width: 32px;\n",
              "    }\n",
              "\n",
              "    .colab-df-convert:hover {\n",
              "      background-color: #E2EBFA;\n",
              "      box-shadow: 0px 1px 2px rgba(60, 64, 67, 0.3), 0px 1px 3px 1px rgba(60, 64, 67, 0.15);\n",
              "      fill: #174EA6;\n",
              "    }\n",
              "\n",
              "    [theme=dark] .colab-df-convert {\n",
              "      background-color: #3B4455;\n",
              "      fill: #D2E3FC;\n",
              "    }\n",
              "\n",
              "    [theme=dark] .colab-df-convert:hover {\n",
              "      background-color: #434B5C;\n",
              "      box-shadow: 0px 1px 3px 1px rgba(0, 0, 0, 0.15);\n",
              "      filter: drop-shadow(0px 1px 2px rgba(0, 0, 0, 0.3));\n",
              "      fill: #FFFFFF;\n",
              "    }\n",
              "  </style>\n",
              "\n",
              "      <script>\n",
              "        const buttonEl =\n",
              "          document.querySelector('#df-f0e53dd7-26a9-4541-bfac-76d88013636e button.colab-df-convert');\n",
              "        buttonEl.style.display =\n",
              "          google.colab.kernel.accessAllowed ? 'block' : 'none';\n",
              "\n",
              "        async function convertToInteractive(key) {\n",
              "          const element = document.querySelector('#df-f0e53dd7-26a9-4541-bfac-76d88013636e');\n",
              "          const dataTable =\n",
              "            await google.colab.kernel.invokeFunction('convertToInteractive',\n",
              "                                                     [key], {});\n",
              "          if (!dataTable) return;\n",
              "\n",
              "          const docLinkHtml = 'Like what you see? Visit the ' +\n",
              "            '<a target=\"_blank\" href=https://colab.research.google.com/notebooks/data_table.ipynb>data table notebook</a>'\n",
              "            + ' to learn more about interactive tables.';\n",
              "          element.innerHTML = '';\n",
              "          dataTable['output_type'] = 'display_data';\n",
              "          await google.colab.output.renderOutput(dataTable, element);\n",
              "          const docLink = document.createElement('div');\n",
              "          docLink.innerHTML = docLinkHtml;\n",
              "          element.appendChild(docLink);\n",
              "        }\n",
              "      </script>\n",
              "    </div>\n",
              "  </div>\n",
              "  "
            ]
          },
          "metadata": {},
          "execution_count": 26
        }
      ]
    },
    {
      "cell_type": "markdown",
      "source": [
        "## Detection rate (top 24) = 969/1000"
      ],
      "metadata": {
        "id": "PkqSAZakWXM8"
      }
    },
    {
      "cell_type": "code",
      "source": [
        "whitelist = whitelist_df.iloc[:, 0][:24].tolist()\n",
        "print(whitelist)"
      ],
      "metadata": {
        "colab": {
          "base_uri": "https://localhost:8080/"
        },
        "id": "hiA70yr9QStE",
        "outputId": "56fc2d03-d833-41d5-a9da-812ee5b4d2bd"
      },
      "execution_count": 27,
      "outputs": [
        {
          "output_type": "stream",
          "name": "stdout",
          "text": [
            "['FIN Flag Cnt', 'SYN Flag Cnt', 'Init Fwd Win Byts', 'Flow Pkts/s', 'ACK Flag Cnt', 'Pkt Size Avg', 'Bwd Pkts/s', 'Down/Up Ratio', 'Pkt Len Mean', 'Pkt Len Min', 'Bwd Pkt Len Min', 'Pkt Len Max', 'Init Bwd Win Byts', 'Fwd Pkt Len Max', 'Fwd IAT Tot', 'Flow IAT Max', 'PSH Flag Cnt', 'Fwd Pkt Len Std', 'Fwd Pkt Len Mean', 'Pkt Len Std', 'Bwd IAT Tot', 'Idle Max', 'Fwd Seg Size Avg', 'Fwd IAT Std']\n"
          ]
        }
      ]
    },
    {
      "cell_type": "code",
      "source": [
        "alert = []\n",
        "\n",
        "# Iterate over each key-value pair in the data_dict\n",
        "for key, value in data_dict.items():\n",
        "    # Check if there are one feature is not in the whitelist\n",
        "    for string in value:\n",
        "      if string not in whitelist:\n",
        "        alert.append(key)\n",
        "        break\n",
        "\n",
        "# Print the alert dictionary\n",
        "print(\"Alert list length:\" + str(len(alert)))"
      ],
      "metadata": {
        "colab": {
          "base_uri": "https://localhost:8080/"
        },
        "id": "GWIJRBYkUwhx",
        "outputId": "84dad863-3f7d-4aea-a90c-77509d2a33c4"
      },
      "execution_count": 28,
      "outputs": [
        {
          "output_type": "stream",
          "name": "stdout",
          "text": [
            "Alert list length:928\n"
          ]
        }
      ]
    },
    {
      "cell_type": "markdown",
      "source": [
        "## Detection rate (top 38) = 783/1000"
      ],
      "metadata": {
        "id": "NddVIE7MU9m-"
      }
    },
    {
      "cell_type": "code",
      "source": [
        "whitelist2 = whitelist_df.iloc[:, 0][:38].tolist()\n",
        "print(whitelist2)"
      ],
      "metadata": {
        "colab": {
          "base_uri": "https://localhost:8080/"
        },
        "id": "QTKqfqrEWMLV",
        "outputId": "807e730f-b3f8-4069-9566-80f25a21caf5"
      },
      "execution_count": 29,
      "outputs": [
        {
          "output_type": "stream",
          "name": "stdout",
          "text": [
            "['FIN Flag Cnt', 'SYN Flag Cnt', 'Init Fwd Win Byts', 'Flow Pkts/s', 'ACK Flag Cnt', 'Pkt Size Avg', 'Bwd Pkts/s', 'Down/Up Ratio', 'Pkt Len Mean', 'Pkt Len Min', 'Bwd Pkt Len Min', 'Pkt Len Max', 'Init Bwd Win Byts', 'Fwd Pkt Len Max', 'Fwd IAT Tot', 'Flow IAT Max', 'PSH Flag Cnt', 'Fwd Pkt Len Std', 'Fwd Pkt Len Mean', 'Pkt Len Std', 'Bwd IAT Tot', 'Idle Max', 'Fwd Seg Size Avg', 'Fwd IAT Std', 'Bwd PSH Flags', 'Flow Duration', 'Bwd IAT Std', 'Fwd Pkt Len Min', 'Flow IAT Std', 'Bwd IAT Max', 'Idle Mean', 'Fwd IAT Max', 'URG Flag Cnt', 'Idle Min', 'Flow IAT Mean', 'Fwd IAT Mean', 'Flow Byts/s', 'Bwd Pkt Len Mean']\n"
          ]
        }
      ]
    },
    {
      "cell_type": "code",
      "source": [
        "alert2 = []\n",
        "\n",
        "# Iterate over each key-value pair in the data_dict\n",
        "for key, value in data_dict.items():\n",
        "    # Check if there are one feature is not in the whitelist\n",
        "    for string in value:\n",
        "      if string not in whitelist2:\n",
        "        alert2.append(key)\n",
        "        break\n",
        "\n",
        "# Print the alert dictionary\n",
        "print(\"Alert list length:\" + str(len(alert2)))"
      ],
      "metadata": {
        "colab": {
          "base_uri": "https://localhost:8080/"
        },
        "id": "p_i5J0kxVyCx",
        "outputId": "71ca8ecd-81e3-4d2c-c8f8-05e14bdc7a07"
      },
      "execution_count": 30,
      "outputs": [
        {
          "output_type": "stream",
          "name": "stdout",
          "text": [
            "Alert list length:868\n"
          ]
        }
      ]
    }
  ]
}