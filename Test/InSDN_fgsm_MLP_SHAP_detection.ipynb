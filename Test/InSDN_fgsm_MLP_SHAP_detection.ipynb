{
  "nbformat": 4,
  "nbformat_minor": 0,
  "metadata": {
    "colab": {
      "provenance": [],
      "mount_file_id": "1YBfN_kdrRUUk0EL3c6Aa04XQaEyERrd_",
      "authorship_tag": "ABX9TyNhHnIJg2Dgh/n6CUoFrsdk",
      "include_colab_link": true
    },
    "kernelspec": {
      "name": "python3",
      "display_name": "Python 3"
    },
    "language_info": {
      "name": "python"
    },
    "widgets": {
      "application/vnd.jupyter.widget-state+json": {
        "335515bd7a3d457ca0b19dd27c06cb05": {
          "model_module": "@jupyter-widgets/controls",
          "model_name": "HBoxModel",
          "model_module_version": "1.5.0",
          "state": {
            "_dom_classes": [],
            "_model_module": "@jupyter-widgets/controls",
            "_model_module_version": "1.5.0",
            "_model_name": "HBoxModel",
            "_view_count": null,
            "_view_module": "@jupyter-widgets/controls",
            "_view_module_version": "1.5.0",
            "_view_name": "HBoxView",
            "box_style": "",
            "children": [
              "IPY_MODEL_0f25227cb67f45b7af21820db0598e0a",
              "IPY_MODEL_f19ea98a076c4133a346b26c7b4dddfc",
              "IPY_MODEL_1249a4157a1c4456a809356b82574e8f"
            ],
            "layout": "IPY_MODEL_b50caabf6ea7473a89c70da64eee620b"
          }
        },
        "0f25227cb67f45b7af21820db0598e0a": {
          "model_module": "@jupyter-widgets/controls",
          "model_name": "HTMLModel",
          "model_module_version": "1.5.0",
          "state": {
            "_dom_classes": [],
            "_model_module": "@jupyter-widgets/controls",
            "_model_module_version": "1.5.0",
            "_model_name": "HTMLModel",
            "_view_count": null,
            "_view_module": "@jupyter-widgets/controls",
            "_view_module_version": "1.5.0",
            "_view_name": "HTMLView",
            "description": "",
            "description_tooltip": null,
            "layout": "IPY_MODEL_218e84dfd7bc4e65860351ab8d716ad2",
            "placeholder": "​",
            "style": "IPY_MODEL_023d44d9a94843bd9b7a21251b502f06",
            "value": "100%"
          }
        },
        "f19ea98a076c4133a346b26c7b4dddfc": {
          "model_module": "@jupyter-widgets/controls",
          "model_name": "FloatProgressModel",
          "model_module_version": "1.5.0",
          "state": {
            "_dom_classes": [],
            "_model_module": "@jupyter-widgets/controls",
            "_model_module_version": "1.5.0",
            "_model_name": "FloatProgressModel",
            "_view_count": null,
            "_view_module": "@jupyter-widgets/controls",
            "_view_module_version": "1.5.0",
            "_view_name": "ProgressView",
            "bar_style": "success",
            "description": "",
            "description_tooltip": null,
            "layout": "IPY_MODEL_f2565db1a5574152ac42b7b113273ca3",
            "max": 1000,
            "min": 0,
            "orientation": "horizontal",
            "style": "IPY_MODEL_0a6f785db9b842768d39a438531124de",
            "value": 1000
          }
        },
        "1249a4157a1c4456a809356b82574e8f": {
          "model_module": "@jupyter-widgets/controls",
          "model_name": "HTMLModel",
          "model_module_version": "1.5.0",
          "state": {
            "_dom_classes": [],
            "_model_module": "@jupyter-widgets/controls",
            "_model_module_version": "1.5.0",
            "_model_name": "HTMLModel",
            "_view_count": null,
            "_view_module": "@jupyter-widgets/controls",
            "_view_module_version": "1.5.0",
            "_view_name": "HTMLView",
            "description": "",
            "description_tooltip": null,
            "layout": "IPY_MODEL_fbdfcf52e409460c8eda26a0968dbca5",
            "placeholder": "​",
            "style": "IPY_MODEL_64baa5b8c76844e1ae21fdae6541c2ba",
            "value": " 1000/1000 [2:09:16&lt;00:00,  7.77s/it]"
          }
        },
        "b50caabf6ea7473a89c70da64eee620b": {
          "model_module": "@jupyter-widgets/base",
          "model_name": "LayoutModel",
          "model_module_version": "1.2.0",
          "state": {
            "_model_module": "@jupyter-widgets/base",
            "_model_module_version": "1.2.0",
            "_model_name": "LayoutModel",
            "_view_count": null,
            "_view_module": "@jupyter-widgets/base",
            "_view_module_version": "1.2.0",
            "_view_name": "LayoutView",
            "align_content": null,
            "align_items": null,
            "align_self": null,
            "border": null,
            "bottom": null,
            "display": null,
            "flex": null,
            "flex_flow": null,
            "grid_area": null,
            "grid_auto_columns": null,
            "grid_auto_flow": null,
            "grid_auto_rows": null,
            "grid_column": null,
            "grid_gap": null,
            "grid_row": null,
            "grid_template_areas": null,
            "grid_template_columns": null,
            "grid_template_rows": null,
            "height": null,
            "justify_content": null,
            "justify_items": null,
            "left": null,
            "margin": null,
            "max_height": null,
            "max_width": null,
            "min_height": null,
            "min_width": null,
            "object_fit": null,
            "object_position": null,
            "order": null,
            "overflow": null,
            "overflow_x": null,
            "overflow_y": null,
            "padding": null,
            "right": null,
            "top": null,
            "visibility": null,
            "width": null
          }
        },
        "218e84dfd7bc4e65860351ab8d716ad2": {
          "model_module": "@jupyter-widgets/base",
          "model_name": "LayoutModel",
          "model_module_version": "1.2.0",
          "state": {
            "_model_module": "@jupyter-widgets/base",
            "_model_module_version": "1.2.0",
            "_model_name": "LayoutModel",
            "_view_count": null,
            "_view_module": "@jupyter-widgets/base",
            "_view_module_version": "1.2.0",
            "_view_name": "LayoutView",
            "align_content": null,
            "align_items": null,
            "align_self": null,
            "border": null,
            "bottom": null,
            "display": null,
            "flex": null,
            "flex_flow": null,
            "grid_area": null,
            "grid_auto_columns": null,
            "grid_auto_flow": null,
            "grid_auto_rows": null,
            "grid_column": null,
            "grid_gap": null,
            "grid_row": null,
            "grid_template_areas": null,
            "grid_template_columns": null,
            "grid_template_rows": null,
            "height": null,
            "justify_content": null,
            "justify_items": null,
            "left": null,
            "margin": null,
            "max_height": null,
            "max_width": null,
            "min_height": null,
            "min_width": null,
            "object_fit": null,
            "object_position": null,
            "order": null,
            "overflow": null,
            "overflow_x": null,
            "overflow_y": null,
            "padding": null,
            "right": null,
            "top": null,
            "visibility": null,
            "width": null
          }
        },
        "023d44d9a94843bd9b7a21251b502f06": {
          "model_module": "@jupyter-widgets/controls",
          "model_name": "DescriptionStyleModel",
          "model_module_version": "1.5.0",
          "state": {
            "_model_module": "@jupyter-widgets/controls",
            "_model_module_version": "1.5.0",
            "_model_name": "DescriptionStyleModel",
            "_view_count": null,
            "_view_module": "@jupyter-widgets/base",
            "_view_module_version": "1.2.0",
            "_view_name": "StyleView",
            "description_width": ""
          }
        },
        "f2565db1a5574152ac42b7b113273ca3": {
          "model_module": "@jupyter-widgets/base",
          "model_name": "LayoutModel",
          "model_module_version": "1.2.0",
          "state": {
            "_model_module": "@jupyter-widgets/base",
            "_model_module_version": "1.2.0",
            "_model_name": "LayoutModel",
            "_view_count": null,
            "_view_module": "@jupyter-widgets/base",
            "_view_module_version": "1.2.0",
            "_view_name": "LayoutView",
            "align_content": null,
            "align_items": null,
            "align_self": null,
            "border": null,
            "bottom": null,
            "display": null,
            "flex": null,
            "flex_flow": null,
            "grid_area": null,
            "grid_auto_columns": null,
            "grid_auto_flow": null,
            "grid_auto_rows": null,
            "grid_column": null,
            "grid_gap": null,
            "grid_row": null,
            "grid_template_areas": null,
            "grid_template_columns": null,
            "grid_template_rows": null,
            "height": null,
            "justify_content": null,
            "justify_items": null,
            "left": null,
            "margin": null,
            "max_height": null,
            "max_width": null,
            "min_height": null,
            "min_width": null,
            "object_fit": null,
            "object_position": null,
            "order": null,
            "overflow": null,
            "overflow_x": null,
            "overflow_y": null,
            "padding": null,
            "right": null,
            "top": null,
            "visibility": null,
            "width": null
          }
        },
        "0a6f785db9b842768d39a438531124de": {
          "model_module": "@jupyter-widgets/controls",
          "model_name": "ProgressStyleModel",
          "model_module_version": "1.5.0",
          "state": {
            "_model_module": "@jupyter-widgets/controls",
            "_model_module_version": "1.5.0",
            "_model_name": "ProgressStyleModel",
            "_view_count": null,
            "_view_module": "@jupyter-widgets/base",
            "_view_module_version": "1.2.0",
            "_view_name": "StyleView",
            "bar_color": null,
            "description_width": ""
          }
        },
        "fbdfcf52e409460c8eda26a0968dbca5": {
          "model_module": "@jupyter-widgets/base",
          "model_name": "LayoutModel",
          "model_module_version": "1.2.0",
          "state": {
            "_model_module": "@jupyter-widgets/base",
            "_model_module_version": "1.2.0",
            "_model_name": "LayoutModel",
            "_view_count": null,
            "_view_module": "@jupyter-widgets/base",
            "_view_module_version": "1.2.0",
            "_view_name": "LayoutView",
            "align_content": null,
            "align_items": null,
            "align_self": null,
            "border": null,
            "bottom": null,
            "display": null,
            "flex": null,
            "flex_flow": null,
            "grid_area": null,
            "grid_auto_columns": null,
            "grid_auto_flow": null,
            "grid_auto_rows": null,
            "grid_column": null,
            "grid_gap": null,
            "grid_row": null,
            "grid_template_areas": null,
            "grid_template_columns": null,
            "grid_template_rows": null,
            "height": null,
            "justify_content": null,
            "justify_items": null,
            "left": null,
            "margin": null,
            "max_height": null,
            "max_width": null,
            "min_height": null,
            "min_width": null,
            "object_fit": null,
            "object_position": null,
            "order": null,
            "overflow": null,
            "overflow_x": null,
            "overflow_y": null,
            "padding": null,
            "right": null,
            "top": null,
            "visibility": null,
            "width": null
          }
        },
        "64baa5b8c76844e1ae21fdae6541c2ba": {
          "model_module": "@jupyter-widgets/controls",
          "model_name": "DescriptionStyleModel",
          "model_module_version": "1.5.0",
          "state": {
            "_model_module": "@jupyter-widgets/controls",
            "_model_module_version": "1.5.0",
            "_model_name": "DescriptionStyleModel",
            "_view_count": null,
            "_view_module": "@jupyter-widgets/base",
            "_view_module_version": "1.2.0",
            "_view_name": "StyleView",
            "description_width": ""
          }
        }
      }
    }
  },
  "cells": [
    {
      "cell_type": "markdown",
      "metadata": {
        "id": "view-in-github",
        "colab_type": "text"
      },
      "source": [
        "<a href=\"https://colab.research.google.com/github/BeforeTheStorm202/DACN/blob/main/InSDN_fgsm_MLP_SHAP_detection.ipynb\" target=\"_parent\"><img src=\"https://colab.research.google.com/assets/colab-badge.svg\" alt=\"Open In Colab\"/></a>"
      ]
    },
    {
      "cell_type": "markdown",
      "source": [
        "# Import"
      ],
      "metadata": {
        "id": "O0lPv_8LykMw"
      }
    },
    {
      "cell_type": "code",
      "source": [
        "from google.colab import drive\n",
        "drive.mount('/content/drive', force_remount=True)"
      ],
      "metadata": {
        "colab": {
          "base_uri": "https://localhost:8080/"
        },
        "id": "8efEEenXOnJi",
        "outputId": "08320a85-467c-4e5c-8cc1-11cdd2eadbf7"
      },
      "execution_count": null,
      "outputs": [
        {
          "output_type": "stream",
          "name": "stdout",
          "text": [
            "Mounted at /content/drive\n"
          ]
        }
      ]
    },
    {
      "cell_type": "code",
      "source": [
        "import warnings\n",
        "warnings.filterwarnings('ignore')"
      ],
      "metadata": {
        "id": "No3-0KGj_Kic"
      },
      "execution_count": null,
      "outputs": []
    },
    {
      "cell_type": "code",
      "execution_count": 1,
      "metadata": {
        "id": "bBcPmYOsyREp",
        "colab": {
          "base_uri": "https://localhost:8080/"
        },
        "outputId": "50030b62-2157-4950-da08-5dab38517711"
      },
      "outputs": [
        {
          "output_type": "stream",
          "name": "stdout",
          "text": [
            "Collecting shap\n",
            "  Downloading shap-0.41.0-cp310-cp310-manylinux_2_12_x86_64.manylinux2010_x86_64.whl (572 kB)\n",
            "\u001b[?25l     \u001b[90m━━━━━━━━━━━━━━━━━━━━━━━━━━━━━━━━━━━━━━━━\u001b[0m \u001b[32m0.0/572.6 kB\u001b[0m \u001b[31m?\u001b[0m eta \u001b[36m-:--:--\u001b[0m\r\u001b[2K     \u001b[91m━━━━━━━━━━━━━━━━━━━━━\u001b[0m\u001b[91m╸\u001b[0m\u001b[90m━━━━━━━━━━━━━━━━━\u001b[0m \u001b[32m317.4/572.6 kB\u001b[0m \u001b[31m9.1 MB/s\u001b[0m eta \u001b[36m0:00:01\u001b[0m\r\u001b[2K     \u001b[90m━━━━━━━━━━━━━━━━━━━━━━━━━━━━━━━━━━━━━━━\u001b[0m \u001b[32m572.6/572.6 kB\u001b[0m \u001b[31m9.7 MB/s\u001b[0m eta \u001b[36m0:00:00\u001b[0m\n",
            "\u001b[?25hRequirement already satisfied: numpy in /usr/local/lib/python3.10/dist-packages (from shap) (1.22.4)\n",
            "Requirement already satisfied: scipy in /usr/local/lib/python3.10/dist-packages (from shap) (1.10.1)\n",
            "Requirement already satisfied: scikit-learn in /usr/local/lib/python3.10/dist-packages (from shap) (1.2.2)\n",
            "Requirement already satisfied: pandas in /usr/local/lib/python3.10/dist-packages (from shap) (1.5.3)\n",
            "Requirement already satisfied: tqdm>4.25.0 in /usr/local/lib/python3.10/dist-packages (from shap) (4.65.0)\n",
            "Requirement already satisfied: packaging>20.9 in /usr/local/lib/python3.10/dist-packages (from shap) (23.1)\n",
            "Collecting slicer==0.0.7 (from shap)\n",
            "  Downloading slicer-0.0.7-py3-none-any.whl (14 kB)\n",
            "Requirement already satisfied: numba in /usr/local/lib/python3.10/dist-packages (from shap) (0.56.4)\n",
            "Requirement already satisfied: cloudpickle in /usr/local/lib/python3.10/dist-packages (from shap) (2.2.1)\n",
            "Requirement already satisfied: llvmlite<0.40,>=0.39.0dev0 in /usr/local/lib/python3.10/dist-packages (from numba->shap) (0.39.1)\n",
            "Requirement already satisfied: setuptools in /usr/local/lib/python3.10/dist-packages (from numba->shap) (67.7.2)\n",
            "Requirement already satisfied: python-dateutil>=2.8.1 in /usr/local/lib/python3.10/dist-packages (from pandas->shap) (2.8.2)\n",
            "Requirement already satisfied: pytz>=2020.1 in /usr/local/lib/python3.10/dist-packages (from pandas->shap) (2022.7.1)\n",
            "Requirement already satisfied: joblib>=1.1.1 in /usr/local/lib/python3.10/dist-packages (from scikit-learn->shap) (1.2.0)\n",
            "Requirement already satisfied: threadpoolctl>=2.0.0 in /usr/local/lib/python3.10/dist-packages (from scikit-learn->shap) (3.1.0)\n",
            "Requirement already satisfied: six>=1.5 in /usr/local/lib/python3.10/dist-packages (from python-dateutil>=2.8.1->pandas->shap) (1.16.0)\n",
            "Installing collected packages: slicer, shap\n",
            "Successfully installed shap-0.41.0 slicer-0.0.7\n"
          ]
        }
      ],
      "source": [
        "!pip install shap"
      ]
    },
    {
      "cell_type": "code",
      "source": [
        "import shap\n",
        "import pandas as pd\n",
        "import tensorflow as tf\n",
        "from tensorflow import keras"
      ],
      "metadata": {
        "id": "yisYwS6Mymik"
      },
      "execution_count": 2,
      "outputs": []
    },
    {
      "cell_type": "markdown",
      "source": [
        "# Load trainset"
      ],
      "metadata": {
        "id": "Bz9tx1gdBGK4"
      }
    },
    {
      "cell_type": "code",
      "source": [
        "df = pd.read_csv('/content/drive/MyDrive/DACN_XAI_Adv_defense/Dataset/insdn/multi/train.csv')\n",
        "df.info()"
      ],
      "metadata": {
        "colab": {
          "base_uri": "https://localhost:8080/"
        },
        "id": "joOnVrMbBIgT",
        "outputId": "055e3439-5826-49ec-d005-6887c1cdc47f"
      },
      "execution_count": 3,
      "outputs": [
        {
          "output_type": "stream",
          "name": "stdout",
          "text": [
            "<class 'pandas.core.frame.DataFrame'>\n",
            "RangeIndex: 385156 entries, 0 to 385155\n",
            "Data columns (total 77 columns):\n",
            " #   Column             Non-Null Count   Dtype  \n",
            "---  ------             --------------   -----  \n",
            " 0   Flow Duration      385156 non-null  float64\n",
            " 1   Tot Fwd Pkts       385156 non-null  float64\n",
            " 2   Tot Bwd Pkts       385156 non-null  float64\n",
            " 3   TotLen Fwd Pkts    385156 non-null  float64\n",
            " 4   TotLen Bwd Pkts    385156 non-null  float64\n",
            " 5   Fwd Pkt Len Max    385156 non-null  float64\n",
            " 6   Fwd Pkt Len Min    385156 non-null  float64\n",
            " 7   Fwd Pkt Len Mean   385156 non-null  float64\n",
            " 8   Fwd Pkt Len Std    385156 non-null  float64\n",
            " 9   Bwd Pkt Len Max    385156 non-null  float64\n",
            " 10  Bwd Pkt Len Min    385156 non-null  float64\n",
            " 11  Bwd Pkt Len Mean   385156 non-null  float64\n",
            " 12  Bwd Pkt Len Std    385156 non-null  float64\n",
            " 13  Flow Byts/s        385156 non-null  float64\n",
            " 14  Flow Pkts/s        385156 non-null  float64\n",
            " 15  Flow IAT Mean      385156 non-null  float64\n",
            " 16  Flow IAT Std       385156 non-null  float64\n",
            " 17  Flow IAT Max       385156 non-null  float64\n",
            " 18  Flow IAT Min       385156 non-null  float64\n",
            " 19  Fwd IAT Tot        385156 non-null  float64\n",
            " 20  Fwd IAT Mean       385156 non-null  float64\n",
            " 21  Fwd IAT Std        385156 non-null  float64\n",
            " 22  Fwd IAT Max        385156 non-null  float64\n",
            " 23  Fwd IAT Min        385156 non-null  float64\n",
            " 24  Bwd IAT Tot        385156 non-null  float64\n",
            " 25  Bwd IAT Mean       385156 non-null  float64\n",
            " 26  Bwd IAT Std        385156 non-null  float64\n",
            " 27  Bwd IAT Max        385156 non-null  float64\n",
            " 28  Bwd IAT Min        385156 non-null  float64\n",
            " 29  Fwd PSH Flags      385156 non-null  float64\n",
            " 30  Bwd PSH Flags      385156 non-null  float64\n",
            " 31  Fwd URG Flags      385156 non-null  float64\n",
            " 32  Bwd URG Flags      385156 non-null  float64\n",
            " 33  Fwd Header Len     385156 non-null  float64\n",
            " 34  Bwd Header Len     385156 non-null  float64\n",
            " 35  Fwd Pkts/s         385156 non-null  float64\n",
            " 36  Bwd Pkts/s         385156 non-null  float64\n",
            " 37  Pkt Len Min        385156 non-null  float64\n",
            " 38  Pkt Len Max        385156 non-null  float64\n",
            " 39  Pkt Len Mean       385156 non-null  float64\n",
            " 40  Pkt Len Std        385156 non-null  float64\n",
            " 41  Pkt Len Var        385156 non-null  float64\n",
            " 42  FIN Flag Cnt       385156 non-null  float64\n",
            " 43  SYN Flag Cnt       385156 non-null  float64\n",
            " 44  RST Flag Cnt       385156 non-null  float64\n",
            " 45  PSH Flag Cnt       385156 non-null  float64\n",
            " 46  ACK Flag Cnt       385156 non-null  float64\n",
            " 47  URG Flag Cnt       385156 non-null  float64\n",
            " 48  CWE Flag Count     385156 non-null  float64\n",
            " 49  ECE Flag Cnt       385156 non-null  float64\n",
            " 50  Down/Up Ratio      385156 non-null  float64\n",
            " 51  Pkt Size Avg       385156 non-null  float64\n",
            " 52  Fwd Seg Size Avg   385156 non-null  float64\n",
            " 53  Bwd Seg Size Avg   385156 non-null  float64\n",
            " 54  Fwd Byts/b Avg     385156 non-null  float64\n",
            " 55  Fwd Pkts/b Avg     385156 non-null  float64\n",
            " 56  Fwd Blk Rate Avg   385156 non-null  float64\n",
            " 57  Bwd Byts/b Avg     385156 non-null  float64\n",
            " 58  Bwd Pkts/b Avg     385156 non-null  float64\n",
            " 59  Bwd Blk Rate Avg   385156 non-null  float64\n",
            " 60  Subflow Fwd Pkts   385156 non-null  float64\n",
            " 61  Subflow Fwd Byts   385156 non-null  float64\n",
            " 62  Subflow Bwd Pkts   385156 non-null  float64\n",
            " 63  Subflow Bwd Byts   385156 non-null  float64\n",
            " 64  Init Fwd Win Byts  385156 non-null  float64\n",
            " 65  Init Bwd Win Byts  385156 non-null  float64\n",
            " 66  Fwd Act Data Pkts  385156 non-null  float64\n",
            " 67  Fwd Seg Size Min   385156 non-null  float64\n",
            " 68  Active Mean        385156 non-null  float64\n",
            " 69  Active Std         385156 non-null  float64\n",
            " 70  Active Max         385156 non-null  float64\n",
            " 71  Active Min         385156 non-null  float64\n",
            " 72  Idle Mean          385156 non-null  float64\n",
            " 73  Idle Std           385156 non-null  float64\n",
            " 74  Idle Max           385156 non-null  float64\n",
            " 75  Idle Min           385156 non-null  float64\n",
            " 76  Label              385156 non-null  int64  \n",
            "dtypes: float64(76), int64(1)\n",
            "memory usage: 226.3 MB\n"
          ]
        }
      ]
    },
    {
      "cell_type": "code",
      "source": [
        "df = df.drop(columns=['Label'])\n",
        "df.info()"
      ],
      "metadata": {
        "colab": {
          "base_uri": "https://localhost:8080/"
        },
        "id": "mYgl1-XQBYwR",
        "outputId": "435539d8-8107-40b8-fb7f-c59cb7f0b7d5"
      },
      "execution_count": 4,
      "outputs": [
        {
          "output_type": "stream",
          "name": "stdout",
          "text": [
            "<class 'pandas.core.frame.DataFrame'>\n",
            "RangeIndex: 385156 entries, 0 to 385155\n",
            "Data columns (total 76 columns):\n",
            " #   Column             Non-Null Count   Dtype  \n",
            "---  ------             --------------   -----  \n",
            " 0   Flow Duration      385156 non-null  float64\n",
            " 1   Tot Fwd Pkts       385156 non-null  float64\n",
            " 2   Tot Bwd Pkts       385156 non-null  float64\n",
            " 3   TotLen Fwd Pkts    385156 non-null  float64\n",
            " 4   TotLen Bwd Pkts    385156 non-null  float64\n",
            " 5   Fwd Pkt Len Max    385156 non-null  float64\n",
            " 6   Fwd Pkt Len Min    385156 non-null  float64\n",
            " 7   Fwd Pkt Len Mean   385156 non-null  float64\n",
            " 8   Fwd Pkt Len Std    385156 non-null  float64\n",
            " 9   Bwd Pkt Len Max    385156 non-null  float64\n",
            " 10  Bwd Pkt Len Min    385156 non-null  float64\n",
            " 11  Bwd Pkt Len Mean   385156 non-null  float64\n",
            " 12  Bwd Pkt Len Std    385156 non-null  float64\n",
            " 13  Flow Byts/s        385156 non-null  float64\n",
            " 14  Flow Pkts/s        385156 non-null  float64\n",
            " 15  Flow IAT Mean      385156 non-null  float64\n",
            " 16  Flow IAT Std       385156 non-null  float64\n",
            " 17  Flow IAT Max       385156 non-null  float64\n",
            " 18  Flow IAT Min       385156 non-null  float64\n",
            " 19  Fwd IAT Tot        385156 non-null  float64\n",
            " 20  Fwd IAT Mean       385156 non-null  float64\n",
            " 21  Fwd IAT Std        385156 non-null  float64\n",
            " 22  Fwd IAT Max        385156 non-null  float64\n",
            " 23  Fwd IAT Min        385156 non-null  float64\n",
            " 24  Bwd IAT Tot        385156 non-null  float64\n",
            " 25  Bwd IAT Mean       385156 non-null  float64\n",
            " 26  Bwd IAT Std        385156 non-null  float64\n",
            " 27  Bwd IAT Max        385156 non-null  float64\n",
            " 28  Bwd IAT Min        385156 non-null  float64\n",
            " 29  Fwd PSH Flags      385156 non-null  float64\n",
            " 30  Bwd PSH Flags      385156 non-null  float64\n",
            " 31  Fwd URG Flags      385156 non-null  float64\n",
            " 32  Bwd URG Flags      385156 non-null  float64\n",
            " 33  Fwd Header Len     385156 non-null  float64\n",
            " 34  Bwd Header Len     385156 non-null  float64\n",
            " 35  Fwd Pkts/s         385156 non-null  float64\n",
            " 36  Bwd Pkts/s         385156 non-null  float64\n",
            " 37  Pkt Len Min        385156 non-null  float64\n",
            " 38  Pkt Len Max        385156 non-null  float64\n",
            " 39  Pkt Len Mean       385156 non-null  float64\n",
            " 40  Pkt Len Std        385156 non-null  float64\n",
            " 41  Pkt Len Var        385156 non-null  float64\n",
            " 42  FIN Flag Cnt       385156 non-null  float64\n",
            " 43  SYN Flag Cnt       385156 non-null  float64\n",
            " 44  RST Flag Cnt       385156 non-null  float64\n",
            " 45  PSH Flag Cnt       385156 non-null  float64\n",
            " 46  ACK Flag Cnt       385156 non-null  float64\n",
            " 47  URG Flag Cnt       385156 non-null  float64\n",
            " 48  CWE Flag Count     385156 non-null  float64\n",
            " 49  ECE Flag Cnt       385156 non-null  float64\n",
            " 50  Down/Up Ratio      385156 non-null  float64\n",
            " 51  Pkt Size Avg       385156 non-null  float64\n",
            " 52  Fwd Seg Size Avg   385156 non-null  float64\n",
            " 53  Bwd Seg Size Avg   385156 non-null  float64\n",
            " 54  Fwd Byts/b Avg     385156 non-null  float64\n",
            " 55  Fwd Pkts/b Avg     385156 non-null  float64\n",
            " 56  Fwd Blk Rate Avg   385156 non-null  float64\n",
            " 57  Bwd Byts/b Avg     385156 non-null  float64\n",
            " 58  Bwd Pkts/b Avg     385156 non-null  float64\n",
            " 59  Bwd Blk Rate Avg   385156 non-null  float64\n",
            " 60  Subflow Fwd Pkts   385156 non-null  float64\n",
            " 61  Subflow Fwd Byts   385156 non-null  float64\n",
            " 62  Subflow Bwd Pkts   385156 non-null  float64\n",
            " 63  Subflow Bwd Byts   385156 non-null  float64\n",
            " 64  Init Fwd Win Byts  385156 non-null  float64\n",
            " 65  Init Bwd Win Byts  385156 non-null  float64\n",
            " 66  Fwd Act Data Pkts  385156 non-null  float64\n",
            " 67  Fwd Seg Size Min   385156 non-null  float64\n",
            " 68  Active Mean        385156 non-null  float64\n",
            " 69  Active Std         385156 non-null  float64\n",
            " 70  Active Max         385156 non-null  float64\n",
            " 71  Active Min         385156 non-null  float64\n",
            " 72  Idle Mean          385156 non-null  float64\n",
            " 73  Idle Std           385156 non-null  float64\n",
            " 74  Idle Max           385156 non-null  float64\n",
            " 75  Idle Min           385156 non-null  float64\n",
            "dtypes: float64(76)\n",
            "memory usage: 223.3 MB\n"
          ]
        }
      ]
    },
    {
      "cell_type": "markdown",
      "source": [
        "# Load adv samples"
      ],
      "metadata": {
        "id": "kFirQ2Tyz28E"
      }
    },
    {
      "cell_type": "code",
      "source": [
        "feature_list = ['Flow Duration', 'Tot Fwd Pkts', 'Tot Bwd Pkts', 'TotLen Fwd Pkts',\n",
        "       'TotLen Bwd Pkts', 'Fwd Pkt Len Max', 'Fwd Pkt Len Min',\n",
        "       'Fwd Pkt Len Mean', 'Fwd Pkt Len Std', 'Bwd Pkt Len Max',\n",
        "       'Bwd Pkt Len Min', 'Bwd Pkt Len Mean', 'Bwd Pkt Len Std', 'Flow Byts/s',\n",
        "       'Flow Pkts/s', 'Flow IAT Mean', 'Flow IAT Std', 'Flow IAT Max',\n",
        "       'Flow IAT Min', 'Fwd IAT Tot', 'Fwd IAT Mean', 'Fwd IAT Std',\n",
        "       'Fwd IAT Max', 'Fwd IAT Min', 'Bwd IAT Tot', 'Bwd IAT Mean',\n",
        "       'Bwd IAT Std', 'Bwd IAT Max', 'Bwd IAT Min', 'Fwd PSH Flags',\n",
        "       'Bwd PSH Flags', 'Fwd URG Flags', 'Bwd URG Flags', 'Fwd Header Len',\n",
        "       'Bwd Header Len', 'Fwd Pkts/s', 'Bwd Pkts/s', 'Pkt Len Min',\n",
        "       'Pkt Len Max', 'Pkt Len Mean', 'Pkt Len Std', 'Pkt Len Var',\n",
        "       'FIN Flag Cnt', 'SYN Flag Cnt', 'RST Flag Cnt', 'PSH Flag Cnt',\n",
        "       'ACK Flag Cnt', 'URG Flag Cnt', 'CWE Flag Count', 'ECE Flag Cnt',\n",
        "       'Down/Up Ratio', 'Pkt Size Avg', 'Fwd Seg Size Avg', 'Bwd Seg Size Avg',\n",
        "       'Fwd Byts/b Avg', 'Fwd Pkts/b Avg', 'Fwd Blk Rate Avg',\n",
        "       'Bwd Byts/b Avg', 'Bwd Pkts/b Avg', 'Bwd Blk Rate Avg',\n",
        "       'Subflow Fwd Pkts', 'Subflow Fwd Byts', 'Subflow Bwd Pkts',\n",
        "       'Subflow Bwd Byts', 'Init Fwd Win Byts', 'Init Bwd Win Byts',\n",
        "       'Fwd Act Data Pkts', 'Fwd Seg Size Min', 'Active Mean', 'Active Std',\n",
        "       'Active Max', 'Active Min', 'Idle Mean', 'Idle Std', 'Idle Max',\n",
        "       'Idle Min']"
      ],
      "metadata": {
        "id": "uoVlCtWr1F-F"
      },
      "execution_count": 5,
      "outputs": []
    },
    {
      "cell_type": "code",
      "source": [
        "fgsm_path = '/content/drive/MyDrive/DACN_XAI_Adv_defense/Dataset/insdn/adv/fgsm/adv_fgsm_multi_target.csv'\n",
        "#fgsm_label_path = '/content/drive/MyDrive/DACN_XAI_Adv_defense/Dataset/insdn/adv/fgsm/adv_fgsm_target.csv'"
      ],
      "metadata": {
        "id": "f29J4Es-z5lJ"
      },
      "execution_count": 6,
      "outputs": []
    },
    {
      "cell_type": "code",
      "source": [
        "fgsm_df = pd.read_csv(fgsm_path)"
      ],
      "metadata": {
        "id": "I8txn6aG0EIJ"
      },
      "execution_count": 7,
      "outputs": []
    },
    {
      "cell_type": "code",
      "source": [
        "fgsm_df.columns = feature_list\n",
        "fgsm_df.info()"
      ],
      "metadata": {
        "colab": {
          "base_uri": "https://localhost:8080/"
        },
        "id": "dcF6Wl5Y0LY2",
        "outputId": "b9243cce-5113-4bc2-855c-6421b45ad61f"
      },
      "execution_count": 8,
      "outputs": [
        {
          "output_type": "stream",
          "name": "stdout",
          "text": [
            "<class 'pandas.core.frame.DataFrame'>\n",
            "RangeIndex: 77203 entries, 0 to 77202\n",
            "Data columns (total 76 columns):\n",
            " #   Column             Non-Null Count  Dtype  \n",
            "---  ------             --------------  -----  \n",
            " 0   Flow Duration      77203 non-null  float64\n",
            " 1   Tot Fwd Pkts       77203 non-null  float64\n",
            " 2   Tot Bwd Pkts       77203 non-null  float64\n",
            " 3   TotLen Fwd Pkts    77203 non-null  float64\n",
            " 4   TotLen Bwd Pkts    77203 non-null  float64\n",
            " 5   Fwd Pkt Len Max    77203 non-null  float64\n",
            " 6   Fwd Pkt Len Min    77203 non-null  float64\n",
            " 7   Fwd Pkt Len Mean   77203 non-null  float64\n",
            " 8   Fwd Pkt Len Std    77203 non-null  float64\n",
            " 9   Bwd Pkt Len Max    77203 non-null  float64\n",
            " 10  Bwd Pkt Len Min    77203 non-null  float64\n",
            " 11  Bwd Pkt Len Mean   77203 non-null  float64\n",
            " 12  Bwd Pkt Len Std    77203 non-null  float64\n",
            " 13  Flow Byts/s        77203 non-null  float64\n",
            " 14  Flow Pkts/s        77203 non-null  float64\n",
            " 15  Flow IAT Mean      77203 non-null  float64\n",
            " 16  Flow IAT Std       77203 non-null  float64\n",
            " 17  Flow IAT Max       77203 non-null  float64\n",
            " 18  Flow IAT Min       77203 non-null  float64\n",
            " 19  Fwd IAT Tot        77203 non-null  float64\n",
            " 20  Fwd IAT Mean       77203 non-null  float64\n",
            " 21  Fwd IAT Std        77203 non-null  float64\n",
            " 22  Fwd IAT Max        77203 non-null  float64\n",
            " 23  Fwd IAT Min        77203 non-null  float64\n",
            " 24  Bwd IAT Tot        77203 non-null  float64\n",
            " 25  Bwd IAT Mean       77203 non-null  float64\n",
            " 26  Bwd IAT Std        77203 non-null  float64\n",
            " 27  Bwd IAT Max        77203 non-null  float64\n",
            " 28  Bwd IAT Min        77203 non-null  float64\n",
            " 29  Fwd PSH Flags      77203 non-null  float64\n",
            " 30  Bwd PSH Flags      77203 non-null  float64\n",
            " 31  Fwd URG Flags      77203 non-null  float64\n",
            " 32  Bwd URG Flags      77203 non-null  float64\n",
            " 33  Fwd Header Len     77203 non-null  float64\n",
            " 34  Bwd Header Len     77203 non-null  float64\n",
            " 35  Fwd Pkts/s         77203 non-null  float64\n",
            " 36  Bwd Pkts/s         77203 non-null  float64\n",
            " 37  Pkt Len Min        77203 non-null  float64\n",
            " 38  Pkt Len Max        77203 non-null  float64\n",
            " 39  Pkt Len Mean       77203 non-null  float64\n",
            " 40  Pkt Len Std        77203 non-null  float64\n",
            " 41  Pkt Len Var        77203 non-null  float64\n",
            " 42  FIN Flag Cnt       77203 non-null  float64\n",
            " 43  SYN Flag Cnt       77203 non-null  float64\n",
            " 44  RST Flag Cnt       77203 non-null  float64\n",
            " 45  PSH Flag Cnt       77203 non-null  float64\n",
            " 46  ACK Flag Cnt       77203 non-null  float64\n",
            " 47  URG Flag Cnt       77203 non-null  float64\n",
            " 48  CWE Flag Count     77203 non-null  float64\n",
            " 49  ECE Flag Cnt       77203 non-null  float64\n",
            " 50  Down/Up Ratio      77203 non-null  float64\n",
            " 51  Pkt Size Avg       77203 non-null  float64\n",
            " 52  Fwd Seg Size Avg   77203 non-null  float64\n",
            " 53  Bwd Seg Size Avg   77203 non-null  float64\n",
            " 54  Fwd Byts/b Avg     77203 non-null  float64\n",
            " 55  Fwd Pkts/b Avg     77203 non-null  float64\n",
            " 56  Fwd Blk Rate Avg   77203 non-null  float64\n",
            " 57  Bwd Byts/b Avg     77203 non-null  float64\n",
            " 58  Bwd Pkts/b Avg     77203 non-null  float64\n",
            " 59  Bwd Blk Rate Avg   77203 non-null  float64\n",
            " 60  Subflow Fwd Pkts   77203 non-null  float64\n",
            " 61  Subflow Fwd Byts   77203 non-null  float64\n",
            " 62  Subflow Bwd Pkts   77203 non-null  float64\n",
            " 63  Subflow Bwd Byts   77203 non-null  float64\n",
            " 64  Init Fwd Win Byts  77203 non-null  float64\n",
            " 65  Init Bwd Win Byts  77203 non-null  float64\n",
            " 66  Fwd Act Data Pkts  77203 non-null  float64\n",
            " 67  Fwd Seg Size Min   77203 non-null  float64\n",
            " 68  Active Mean        77203 non-null  float64\n",
            " 69  Active Std         77203 non-null  float64\n",
            " 70  Active Max         77203 non-null  float64\n",
            " 71  Active Min         77203 non-null  float64\n",
            " 72  Idle Mean          77203 non-null  float64\n",
            " 73  Idle Std           77203 non-null  float64\n",
            " 74  Idle Max           77203 non-null  float64\n",
            " 75  Idle Min           77203 non-null  float64\n",
            "dtypes: float64(76)\n",
            "memory usage: 44.8 MB\n"
          ]
        }
      ]
    },
    {
      "cell_type": "code",
      "source": [
        "#fgsm_label = pd.read_csv(fgsm_label_path)\n",
        "#fgsm_label.info()"
      ],
      "metadata": {
        "id": "PVO-9Dh_1C5T"
      },
      "execution_count": null,
      "outputs": []
    },
    {
      "cell_type": "markdown",
      "source": [
        "# Load DL-based IDS model"
      ],
      "metadata": {
        "id": "g33N-zPby6kB"
      }
    },
    {
      "cell_type": "code",
      "source": [
        "model_mlp = tf.keras.models.load_model('/content/drive/MyDrive/DACN_XAI_Adv_defense/Dataset/insdn/insdn_mlp_multi.h5', compile=True)"
      ],
      "metadata": {
        "id": "ZWIDESvCy2b5"
      },
      "execution_count": 9,
      "outputs": []
    },
    {
      "cell_type": "markdown",
      "source": [
        "# SHAP"
      ],
      "metadata": {
        "id": "RFRvMWrd4QoD"
      }
    },
    {
      "cell_type": "code",
      "source": [
        "explainer = shap.KernelExplainer(model_mlp, shap.sample(df, 100))"
      ],
      "metadata": {
        "id": "4505XjQu4K_g"
      },
      "execution_count": 10,
      "outputs": []
    },
    {
      "cell_type": "code",
      "source": [
        "fgsm_1000 = fgsm_df.head(1000)"
      ],
      "metadata": {
        "id": "biTLBwQsdMKd"
      },
      "execution_count": 11,
      "outputs": []
    },
    {
      "cell_type": "code",
      "source": [
        "shap_values = explainer.shap_values(fgsm_1000)"
      ],
      "metadata": {
        "id": "2kwEY6jC4Z-l",
        "colab": {
          "base_uri": "https://localhost:8080/",
          "height": 49,
          "referenced_widgets": [
            "335515bd7a3d457ca0b19dd27c06cb05",
            "0f25227cb67f45b7af21820db0598e0a",
            "f19ea98a076c4133a346b26c7b4dddfc",
            "1249a4157a1c4456a809356b82574e8f",
            "b50caabf6ea7473a89c70da64eee620b",
            "218e84dfd7bc4e65860351ab8d716ad2",
            "023d44d9a94843bd9b7a21251b502f06",
            "f2565db1a5574152ac42b7b113273ca3",
            "0a6f785db9b842768d39a438531124de",
            "fbdfcf52e409460c8eda26a0968dbca5",
            "64baa5b8c76844e1ae21fdae6541c2ba"
          ]
        },
        "outputId": "1b7dc6df-1b61-43c1-c9fa-f83375cd55b2"
      },
      "execution_count": 12,
      "outputs": [
        {
          "output_type": "display_data",
          "data": {
            "text/plain": [
              "  0%|          | 0/1000 [00:00<?, ?it/s]"
            ],
            "application/vnd.jupyter.widget-view+json": {
              "version_major": 2,
              "version_minor": 0,
              "model_id": "335515bd7a3d457ca0b19dd27c06cb05"
            }
          },
          "metadata": {}
        }
      ]
    },
    {
      "cell_type": "code",
      "source": [
        "print(shap_values[0])"
      ],
      "metadata": {
        "colab": {
          "base_uri": "https://localhost:8080/"
        },
        "id": "gHb6Mmvi47qA",
        "outputId": "ea094fc8-bb96-41a7-d7d5-77f9fd73e750"
      },
      "execution_count": 13,
      "outputs": [
        {
          "output_type": "stream",
          "name": "stdout",
          "text": [
            "[[ 0.02048    -0.02055665  0.02652105 ...  0.00609531  0.00624188\n",
            "   0.009305  ]\n",
            " [-0.00476057  0.         -0.01392147 ... -0.02094732  0.02225635\n",
            "  -0.00413825]\n",
            " [ 0.02151127 -0.03236551  0.03678761 ... -0.02033149 -0.01213962\n",
            "   0.        ]\n",
            " ...\n",
            " [-0.01058606  0.01020821  0.0251229  ...  0.          0.02635153\n",
            "   0.0098412 ]\n",
            " [ 0.          0.          0.02608885 ...  0.         -0.02315402\n",
            "   0.        ]\n",
            " [ 0.00451426  0.         -0.02923004 ...  0.          0.\n",
            "  -0.0093804 ]]\n"
          ]
        }
      ]
    },
    {
      "cell_type": "code",
      "source": [
        "type(shap_values[0])"
      ],
      "metadata": {
        "colab": {
          "base_uri": "https://localhost:8080/"
        },
        "id": "eM8brh0aAvkW",
        "outputId": "9756880f-d500-450a-87ec-c968d3ce075e"
      },
      "execution_count": 14,
      "outputs": [
        {
          "output_type": "execute_result",
          "data": {
            "text/plain": [
              "numpy.ndarray"
            ]
          },
          "metadata": {},
          "execution_count": 14
        }
      ]
    },
    {
      "cell_type": "code",
      "source": [
        "data_df = pd.DataFrame(shap_values[0])"
      ],
      "metadata": {
        "id": "48h2syinBBb8"
      },
      "execution_count": 15,
      "outputs": []
    },
    {
      "cell_type": "code",
      "source": [
        "data_df.head()"
      ],
      "metadata": {
        "colab": {
          "base_uri": "https://localhost:8080/",
          "height": 299
        },
        "id": "GaPyNdSzBLa5",
        "outputId": "721ac275-c5f3-42ee-947b-5bef1fa1e2c8"
      },
      "execution_count": 16,
      "outputs": [
        {
          "output_type": "execute_result",
          "data": {
            "text/plain": [
              "         0         1         2         3         4         5         6   \\\n",
              "0  0.020480 -0.020557  0.026521  0.000000  0.000000  0.096942  0.040675   \n",
              "1 -0.004761  0.000000 -0.013921  0.000000 -0.041399 -0.010971  0.124678   \n",
              "2  0.021511 -0.032366  0.036788  0.000000  0.000000  0.124058  0.037773   \n",
              "3  0.007138  0.000000  0.000000 -0.004327 -0.003638 -0.001787  0.000000   \n",
              "4  0.019640  0.000000  0.022095  0.031493  0.000000  0.071883  0.038417   \n",
              "\n",
              "         7         8         9   ...        66        67        68        69  \\\n",
              "0  0.077318  0.116713  0.014274  ... -0.049393 -0.028038 -0.010658 -0.033797   \n",
              "1 -0.007265  0.273530 -0.088020  ...  0.000000  0.000000  0.008414  0.000000   \n",
              "2  0.053057  0.093899  0.015353  ... -0.058623  0.000000 -0.033571  0.000000   \n",
              "3  0.000000  0.000000  0.000000  ...  0.005447  0.000000 -0.031665  0.000000   \n",
              "4  0.078748  0.096731  0.017938  ...  0.000000 -0.006971 -0.044562 -0.020881   \n",
              "\n",
              "         70        71        72        73        74        75  \n",
              "0  0.007396  0.000000  0.017359  0.006095  0.006242  0.009305  \n",
              "1  0.000000 -0.008715  0.039743 -0.020947  0.022256 -0.004138  \n",
              "2  0.011193  0.004507  0.020120 -0.020331 -0.012140  0.000000  \n",
              "3  0.000000 -0.023587  0.004569  0.000000 -0.007034  0.000000  \n",
              "4  0.000000  0.000000  0.016778 -0.009856  0.000000  0.000000  \n",
              "\n",
              "[5 rows x 76 columns]"
            ],
            "text/html": [
              "\n",
              "  <div id=\"df-30af9630-91c9-45d9-8ffd-4c7fb97ed816\">\n",
              "    <div class=\"colab-df-container\">\n",
              "      <div>\n",
              "<style scoped>\n",
              "    .dataframe tbody tr th:only-of-type {\n",
              "        vertical-align: middle;\n",
              "    }\n",
              "\n",
              "    .dataframe tbody tr th {\n",
              "        vertical-align: top;\n",
              "    }\n",
              "\n",
              "    .dataframe thead th {\n",
              "        text-align: right;\n",
              "    }\n",
              "</style>\n",
              "<table border=\"1\" class=\"dataframe\">\n",
              "  <thead>\n",
              "    <tr style=\"text-align: right;\">\n",
              "      <th></th>\n",
              "      <th>0</th>\n",
              "      <th>1</th>\n",
              "      <th>2</th>\n",
              "      <th>3</th>\n",
              "      <th>4</th>\n",
              "      <th>5</th>\n",
              "      <th>6</th>\n",
              "      <th>7</th>\n",
              "      <th>8</th>\n",
              "      <th>9</th>\n",
              "      <th>...</th>\n",
              "      <th>66</th>\n",
              "      <th>67</th>\n",
              "      <th>68</th>\n",
              "      <th>69</th>\n",
              "      <th>70</th>\n",
              "      <th>71</th>\n",
              "      <th>72</th>\n",
              "      <th>73</th>\n",
              "      <th>74</th>\n",
              "      <th>75</th>\n",
              "    </tr>\n",
              "  </thead>\n",
              "  <tbody>\n",
              "    <tr>\n",
              "      <th>0</th>\n",
              "      <td>0.020480</td>\n",
              "      <td>-0.020557</td>\n",
              "      <td>0.026521</td>\n",
              "      <td>0.000000</td>\n",
              "      <td>0.000000</td>\n",
              "      <td>0.096942</td>\n",
              "      <td>0.040675</td>\n",
              "      <td>0.077318</td>\n",
              "      <td>0.116713</td>\n",
              "      <td>0.014274</td>\n",
              "      <td>...</td>\n",
              "      <td>-0.049393</td>\n",
              "      <td>-0.028038</td>\n",
              "      <td>-0.010658</td>\n",
              "      <td>-0.033797</td>\n",
              "      <td>0.007396</td>\n",
              "      <td>0.000000</td>\n",
              "      <td>0.017359</td>\n",
              "      <td>0.006095</td>\n",
              "      <td>0.006242</td>\n",
              "      <td>0.009305</td>\n",
              "    </tr>\n",
              "    <tr>\n",
              "      <th>1</th>\n",
              "      <td>-0.004761</td>\n",
              "      <td>0.000000</td>\n",
              "      <td>-0.013921</td>\n",
              "      <td>0.000000</td>\n",
              "      <td>-0.041399</td>\n",
              "      <td>-0.010971</td>\n",
              "      <td>0.124678</td>\n",
              "      <td>-0.007265</td>\n",
              "      <td>0.273530</td>\n",
              "      <td>-0.088020</td>\n",
              "      <td>...</td>\n",
              "      <td>0.000000</td>\n",
              "      <td>0.000000</td>\n",
              "      <td>0.008414</td>\n",
              "      <td>0.000000</td>\n",
              "      <td>0.000000</td>\n",
              "      <td>-0.008715</td>\n",
              "      <td>0.039743</td>\n",
              "      <td>-0.020947</td>\n",
              "      <td>0.022256</td>\n",
              "      <td>-0.004138</td>\n",
              "    </tr>\n",
              "    <tr>\n",
              "      <th>2</th>\n",
              "      <td>0.021511</td>\n",
              "      <td>-0.032366</td>\n",
              "      <td>0.036788</td>\n",
              "      <td>0.000000</td>\n",
              "      <td>0.000000</td>\n",
              "      <td>0.124058</td>\n",
              "      <td>0.037773</td>\n",
              "      <td>0.053057</td>\n",
              "      <td>0.093899</td>\n",
              "      <td>0.015353</td>\n",
              "      <td>...</td>\n",
              "      <td>-0.058623</td>\n",
              "      <td>0.000000</td>\n",
              "      <td>-0.033571</td>\n",
              "      <td>0.000000</td>\n",
              "      <td>0.011193</td>\n",
              "      <td>0.004507</td>\n",
              "      <td>0.020120</td>\n",
              "      <td>-0.020331</td>\n",
              "      <td>-0.012140</td>\n",
              "      <td>0.000000</td>\n",
              "    </tr>\n",
              "    <tr>\n",
              "      <th>3</th>\n",
              "      <td>0.007138</td>\n",
              "      <td>0.000000</td>\n",
              "      <td>0.000000</td>\n",
              "      <td>-0.004327</td>\n",
              "      <td>-0.003638</td>\n",
              "      <td>-0.001787</td>\n",
              "      <td>0.000000</td>\n",
              "      <td>0.000000</td>\n",
              "      <td>0.000000</td>\n",
              "      <td>0.000000</td>\n",
              "      <td>...</td>\n",
              "      <td>0.005447</td>\n",
              "      <td>0.000000</td>\n",
              "      <td>-0.031665</td>\n",
              "      <td>0.000000</td>\n",
              "      <td>0.000000</td>\n",
              "      <td>-0.023587</td>\n",
              "      <td>0.004569</td>\n",
              "      <td>0.000000</td>\n",
              "      <td>-0.007034</td>\n",
              "      <td>0.000000</td>\n",
              "    </tr>\n",
              "    <tr>\n",
              "      <th>4</th>\n",
              "      <td>0.019640</td>\n",
              "      <td>0.000000</td>\n",
              "      <td>0.022095</td>\n",
              "      <td>0.031493</td>\n",
              "      <td>0.000000</td>\n",
              "      <td>0.071883</td>\n",
              "      <td>0.038417</td>\n",
              "      <td>0.078748</td>\n",
              "      <td>0.096731</td>\n",
              "      <td>0.017938</td>\n",
              "      <td>...</td>\n",
              "      <td>0.000000</td>\n",
              "      <td>-0.006971</td>\n",
              "      <td>-0.044562</td>\n",
              "      <td>-0.020881</td>\n",
              "      <td>0.000000</td>\n",
              "      <td>0.000000</td>\n",
              "      <td>0.016778</td>\n",
              "      <td>-0.009856</td>\n",
              "      <td>0.000000</td>\n",
              "      <td>0.000000</td>\n",
              "    </tr>\n",
              "  </tbody>\n",
              "</table>\n",
              "<p>5 rows × 76 columns</p>\n",
              "</div>\n",
              "      <button class=\"colab-df-convert\" onclick=\"convertToInteractive('df-30af9630-91c9-45d9-8ffd-4c7fb97ed816')\"\n",
              "              title=\"Convert this dataframe to an interactive table.\"\n",
              "              style=\"display:none;\">\n",
              "        \n",
              "  <svg xmlns=\"http://www.w3.org/2000/svg\" height=\"24px\"viewBox=\"0 0 24 24\"\n",
              "       width=\"24px\">\n",
              "    <path d=\"M0 0h24v24H0V0z\" fill=\"none\"/>\n",
              "    <path d=\"M18.56 5.44l.94 2.06.94-2.06 2.06-.94-2.06-.94-.94-2.06-.94 2.06-2.06.94zm-11 1L8.5 8.5l.94-2.06 2.06-.94-2.06-.94L8.5 2.5l-.94 2.06-2.06.94zm10 10l.94 2.06.94-2.06 2.06-.94-2.06-.94-.94-2.06-.94 2.06-2.06.94z\"/><path d=\"M17.41 7.96l-1.37-1.37c-.4-.4-.92-.59-1.43-.59-.52 0-1.04.2-1.43.59L10.3 9.45l-7.72 7.72c-.78.78-.78 2.05 0 2.83L4 21.41c.39.39.9.59 1.41.59.51 0 1.02-.2 1.41-.59l7.78-7.78 2.81-2.81c.8-.78.8-2.07 0-2.86zM5.41 20L4 18.59l7.72-7.72 1.47 1.35L5.41 20z\"/>\n",
              "  </svg>\n",
              "      </button>\n",
              "      \n",
              "  <style>\n",
              "    .colab-df-container {\n",
              "      display:flex;\n",
              "      flex-wrap:wrap;\n",
              "      gap: 12px;\n",
              "    }\n",
              "\n",
              "    .colab-df-convert {\n",
              "      background-color: #E8F0FE;\n",
              "      border: none;\n",
              "      border-radius: 50%;\n",
              "      cursor: pointer;\n",
              "      display: none;\n",
              "      fill: #1967D2;\n",
              "      height: 32px;\n",
              "      padding: 0 0 0 0;\n",
              "      width: 32px;\n",
              "    }\n",
              "\n",
              "    .colab-df-convert:hover {\n",
              "      background-color: #E2EBFA;\n",
              "      box-shadow: 0px 1px 2px rgba(60, 64, 67, 0.3), 0px 1px 3px 1px rgba(60, 64, 67, 0.15);\n",
              "      fill: #174EA6;\n",
              "    }\n",
              "\n",
              "    [theme=dark] .colab-df-convert {\n",
              "      background-color: #3B4455;\n",
              "      fill: #D2E3FC;\n",
              "    }\n",
              "\n",
              "    [theme=dark] .colab-df-convert:hover {\n",
              "      background-color: #434B5C;\n",
              "      box-shadow: 0px 1px 3px 1px rgba(0, 0, 0, 0.15);\n",
              "      filter: drop-shadow(0px 1px 2px rgba(0, 0, 0, 0.3));\n",
              "      fill: #FFFFFF;\n",
              "    }\n",
              "  </style>\n",
              "\n",
              "      <script>\n",
              "        const buttonEl =\n",
              "          document.querySelector('#df-30af9630-91c9-45d9-8ffd-4c7fb97ed816 button.colab-df-convert');\n",
              "        buttonEl.style.display =\n",
              "          google.colab.kernel.accessAllowed ? 'block' : 'none';\n",
              "\n",
              "        async function convertToInteractive(key) {\n",
              "          const element = document.querySelector('#df-30af9630-91c9-45d9-8ffd-4c7fb97ed816');\n",
              "          const dataTable =\n",
              "            await google.colab.kernel.invokeFunction('convertToInteractive',\n",
              "                                                     [key], {});\n",
              "          if (!dataTable) return;\n",
              "\n",
              "          const docLinkHtml = 'Like what you see? Visit the ' +\n",
              "            '<a target=\"_blank\" href=https://colab.research.google.com/notebooks/data_table.ipynb>data table notebook</a>'\n",
              "            + ' to learn more about interactive tables.';\n",
              "          element.innerHTML = '';\n",
              "          dataTable['output_type'] = 'display_data';\n",
              "          await google.colab.output.renderOutput(dataTable, element);\n",
              "          const docLink = document.createElement('div');\n",
              "          docLink.innerHTML = docLinkHtml;\n",
              "          element.appendChild(docLink);\n",
              "        }\n",
              "      </script>\n",
              "    </div>\n",
              "  </div>\n",
              "  "
            ]
          },
          "metadata": {},
          "execution_count": 16
        }
      ]
    },
    {
      "cell_type": "code",
      "source": [
        "data_df.to_csv('/content/drive/MyDrive/DACN_XAI_Adv_defense/InSDN/MLP_fgsm/1000_samples_[0].csv', index=False)"
      ],
      "metadata": {
        "id": "mbDTuofCBeGJ"
      },
      "execution_count": 17,
      "outputs": []
    },
    {
      "cell_type": "code",
      "source": [
        "data_df.columns = feature_list\n",
        "data_df.head()"
      ],
      "metadata": {
        "colab": {
          "base_uri": "https://localhost:8080/",
          "height": 334
        },
        "id": "Kh8NM9hmM99Y",
        "outputId": "d0c6df42-d451-4cd8-8d8d-f5fd0b51847d"
      },
      "execution_count": 18,
      "outputs": [
        {
          "output_type": "execute_result",
          "data": {
            "text/plain": [
              "   Flow Duration  Tot Fwd Pkts  Tot Bwd Pkts  TotLen Fwd Pkts  \\\n",
              "0       0.020480     -0.020557      0.026521         0.000000   \n",
              "1      -0.004761      0.000000     -0.013921         0.000000   \n",
              "2       0.021511     -0.032366      0.036788         0.000000   \n",
              "3       0.007138      0.000000      0.000000        -0.004327   \n",
              "4       0.019640      0.000000      0.022095         0.031493   \n",
              "\n",
              "   TotLen Bwd Pkts  Fwd Pkt Len Max  Fwd Pkt Len Min  Fwd Pkt Len Mean  \\\n",
              "0         0.000000         0.096942         0.040675          0.077318   \n",
              "1        -0.041399        -0.010971         0.124678         -0.007265   \n",
              "2         0.000000         0.124058         0.037773          0.053057   \n",
              "3        -0.003638        -0.001787         0.000000          0.000000   \n",
              "4         0.000000         0.071883         0.038417          0.078748   \n",
              "\n",
              "   Fwd Pkt Len Std  Bwd Pkt Len Max  ...  Fwd Act Data Pkts  Fwd Seg Size Min  \\\n",
              "0         0.116713         0.014274  ...          -0.049393         -0.028038   \n",
              "1         0.273530        -0.088020  ...           0.000000          0.000000   \n",
              "2         0.093899         0.015353  ...          -0.058623          0.000000   \n",
              "3         0.000000         0.000000  ...           0.005447          0.000000   \n",
              "4         0.096731         0.017938  ...           0.000000         -0.006971   \n",
              "\n",
              "   Active Mean  Active Std  Active Max  Active Min  Idle Mean  Idle Std  \\\n",
              "0    -0.010658   -0.033797    0.007396    0.000000   0.017359  0.006095   \n",
              "1     0.008414    0.000000    0.000000   -0.008715   0.039743 -0.020947   \n",
              "2    -0.033571    0.000000    0.011193    0.004507   0.020120 -0.020331   \n",
              "3    -0.031665    0.000000    0.000000   -0.023587   0.004569  0.000000   \n",
              "4    -0.044562   -0.020881    0.000000    0.000000   0.016778 -0.009856   \n",
              "\n",
              "   Idle Max  Idle Min  \n",
              "0  0.006242  0.009305  \n",
              "1  0.022256 -0.004138  \n",
              "2 -0.012140  0.000000  \n",
              "3 -0.007034  0.000000  \n",
              "4  0.000000  0.000000  \n",
              "\n",
              "[5 rows x 76 columns]"
            ],
            "text/html": [
              "\n",
              "  <div id=\"df-4aac307a-ced3-4d72-902a-495243a81e02\">\n",
              "    <div class=\"colab-df-container\">\n",
              "      <div>\n",
              "<style scoped>\n",
              "    .dataframe tbody tr th:only-of-type {\n",
              "        vertical-align: middle;\n",
              "    }\n",
              "\n",
              "    .dataframe tbody tr th {\n",
              "        vertical-align: top;\n",
              "    }\n",
              "\n",
              "    .dataframe thead th {\n",
              "        text-align: right;\n",
              "    }\n",
              "</style>\n",
              "<table border=\"1\" class=\"dataframe\">\n",
              "  <thead>\n",
              "    <tr style=\"text-align: right;\">\n",
              "      <th></th>\n",
              "      <th>Flow Duration</th>\n",
              "      <th>Tot Fwd Pkts</th>\n",
              "      <th>Tot Bwd Pkts</th>\n",
              "      <th>TotLen Fwd Pkts</th>\n",
              "      <th>TotLen Bwd Pkts</th>\n",
              "      <th>Fwd Pkt Len Max</th>\n",
              "      <th>Fwd Pkt Len Min</th>\n",
              "      <th>Fwd Pkt Len Mean</th>\n",
              "      <th>Fwd Pkt Len Std</th>\n",
              "      <th>Bwd Pkt Len Max</th>\n",
              "      <th>...</th>\n",
              "      <th>Fwd Act Data Pkts</th>\n",
              "      <th>Fwd Seg Size Min</th>\n",
              "      <th>Active Mean</th>\n",
              "      <th>Active Std</th>\n",
              "      <th>Active Max</th>\n",
              "      <th>Active Min</th>\n",
              "      <th>Idle Mean</th>\n",
              "      <th>Idle Std</th>\n",
              "      <th>Idle Max</th>\n",
              "      <th>Idle Min</th>\n",
              "    </tr>\n",
              "  </thead>\n",
              "  <tbody>\n",
              "    <tr>\n",
              "      <th>0</th>\n",
              "      <td>0.020480</td>\n",
              "      <td>-0.020557</td>\n",
              "      <td>0.026521</td>\n",
              "      <td>0.000000</td>\n",
              "      <td>0.000000</td>\n",
              "      <td>0.096942</td>\n",
              "      <td>0.040675</td>\n",
              "      <td>0.077318</td>\n",
              "      <td>0.116713</td>\n",
              "      <td>0.014274</td>\n",
              "      <td>...</td>\n",
              "      <td>-0.049393</td>\n",
              "      <td>-0.028038</td>\n",
              "      <td>-0.010658</td>\n",
              "      <td>-0.033797</td>\n",
              "      <td>0.007396</td>\n",
              "      <td>0.000000</td>\n",
              "      <td>0.017359</td>\n",
              "      <td>0.006095</td>\n",
              "      <td>0.006242</td>\n",
              "      <td>0.009305</td>\n",
              "    </tr>\n",
              "    <tr>\n",
              "      <th>1</th>\n",
              "      <td>-0.004761</td>\n",
              "      <td>0.000000</td>\n",
              "      <td>-0.013921</td>\n",
              "      <td>0.000000</td>\n",
              "      <td>-0.041399</td>\n",
              "      <td>-0.010971</td>\n",
              "      <td>0.124678</td>\n",
              "      <td>-0.007265</td>\n",
              "      <td>0.273530</td>\n",
              "      <td>-0.088020</td>\n",
              "      <td>...</td>\n",
              "      <td>0.000000</td>\n",
              "      <td>0.000000</td>\n",
              "      <td>0.008414</td>\n",
              "      <td>0.000000</td>\n",
              "      <td>0.000000</td>\n",
              "      <td>-0.008715</td>\n",
              "      <td>0.039743</td>\n",
              "      <td>-0.020947</td>\n",
              "      <td>0.022256</td>\n",
              "      <td>-0.004138</td>\n",
              "    </tr>\n",
              "    <tr>\n",
              "      <th>2</th>\n",
              "      <td>0.021511</td>\n",
              "      <td>-0.032366</td>\n",
              "      <td>0.036788</td>\n",
              "      <td>0.000000</td>\n",
              "      <td>0.000000</td>\n",
              "      <td>0.124058</td>\n",
              "      <td>0.037773</td>\n",
              "      <td>0.053057</td>\n",
              "      <td>0.093899</td>\n",
              "      <td>0.015353</td>\n",
              "      <td>...</td>\n",
              "      <td>-0.058623</td>\n",
              "      <td>0.000000</td>\n",
              "      <td>-0.033571</td>\n",
              "      <td>0.000000</td>\n",
              "      <td>0.011193</td>\n",
              "      <td>0.004507</td>\n",
              "      <td>0.020120</td>\n",
              "      <td>-0.020331</td>\n",
              "      <td>-0.012140</td>\n",
              "      <td>0.000000</td>\n",
              "    </tr>\n",
              "    <tr>\n",
              "      <th>3</th>\n",
              "      <td>0.007138</td>\n",
              "      <td>0.000000</td>\n",
              "      <td>0.000000</td>\n",
              "      <td>-0.004327</td>\n",
              "      <td>-0.003638</td>\n",
              "      <td>-0.001787</td>\n",
              "      <td>0.000000</td>\n",
              "      <td>0.000000</td>\n",
              "      <td>0.000000</td>\n",
              "      <td>0.000000</td>\n",
              "      <td>...</td>\n",
              "      <td>0.005447</td>\n",
              "      <td>0.000000</td>\n",
              "      <td>-0.031665</td>\n",
              "      <td>0.000000</td>\n",
              "      <td>0.000000</td>\n",
              "      <td>-0.023587</td>\n",
              "      <td>0.004569</td>\n",
              "      <td>0.000000</td>\n",
              "      <td>-0.007034</td>\n",
              "      <td>0.000000</td>\n",
              "    </tr>\n",
              "    <tr>\n",
              "      <th>4</th>\n",
              "      <td>0.019640</td>\n",
              "      <td>0.000000</td>\n",
              "      <td>0.022095</td>\n",
              "      <td>0.031493</td>\n",
              "      <td>0.000000</td>\n",
              "      <td>0.071883</td>\n",
              "      <td>0.038417</td>\n",
              "      <td>0.078748</td>\n",
              "      <td>0.096731</td>\n",
              "      <td>0.017938</td>\n",
              "      <td>...</td>\n",
              "      <td>0.000000</td>\n",
              "      <td>-0.006971</td>\n",
              "      <td>-0.044562</td>\n",
              "      <td>-0.020881</td>\n",
              "      <td>0.000000</td>\n",
              "      <td>0.000000</td>\n",
              "      <td>0.016778</td>\n",
              "      <td>-0.009856</td>\n",
              "      <td>0.000000</td>\n",
              "      <td>0.000000</td>\n",
              "    </tr>\n",
              "  </tbody>\n",
              "</table>\n",
              "<p>5 rows × 76 columns</p>\n",
              "</div>\n",
              "      <button class=\"colab-df-convert\" onclick=\"convertToInteractive('df-4aac307a-ced3-4d72-902a-495243a81e02')\"\n",
              "              title=\"Convert this dataframe to an interactive table.\"\n",
              "              style=\"display:none;\">\n",
              "        \n",
              "  <svg xmlns=\"http://www.w3.org/2000/svg\" height=\"24px\"viewBox=\"0 0 24 24\"\n",
              "       width=\"24px\">\n",
              "    <path d=\"M0 0h24v24H0V0z\" fill=\"none\"/>\n",
              "    <path d=\"M18.56 5.44l.94 2.06.94-2.06 2.06-.94-2.06-.94-.94-2.06-.94 2.06-2.06.94zm-11 1L8.5 8.5l.94-2.06 2.06-.94-2.06-.94L8.5 2.5l-.94 2.06-2.06.94zm10 10l.94 2.06.94-2.06 2.06-.94-2.06-.94-.94-2.06-.94 2.06-2.06.94z\"/><path d=\"M17.41 7.96l-1.37-1.37c-.4-.4-.92-.59-1.43-.59-.52 0-1.04.2-1.43.59L10.3 9.45l-7.72 7.72c-.78.78-.78 2.05 0 2.83L4 21.41c.39.39.9.59 1.41.59.51 0 1.02-.2 1.41-.59l7.78-7.78 2.81-2.81c.8-.78.8-2.07 0-2.86zM5.41 20L4 18.59l7.72-7.72 1.47 1.35L5.41 20z\"/>\n",
              "  </svg>\n",
              "      </button>\n",
              "      \n",
              "  <style>\n",
              "    .colab-df-container {\n",
              "      display:flex;\n",
              "      flex-wrap:wrap;\n",
              "      gap: 12px;\n",
              "    }\n",
              "\n",
              "    .colab-df-convert {\n",
              "      background-color: #E8F0FE;\n",
              "      border: none;\n",
              "      border-radius: 50%;\n",
              "      cursor: pointer;\n",
              "      display: none;\n",
              "      fill: #1967D2;\n",
              "      height: 32px;\n",
              "      padding: 0 0 0 0;\n",
              "      width: 32px;\n",
              "    }\n",
              "\n",
              "    .colab-df-convert:hover {\n",
              "      background-color: #E2EBFA;\n",
              "      box-shadow: 0px 1px 2px rgba(60, 64, 67, 0.3), 0px 1px 3px 1px rgba(60, 64, 67, 0.15);\n",
              "      fill: #174EA6;\n",
              "    }\n",
              "\n",
              "    [theme=dark] .colab-df-convert {\n",
              "      background-color: #3B4455;\n",
              "      fill: #D2E3FC;\n",
              "    }\n",
              "\n",
              "    [theme=dark] .colab-df-convert:hover {\n",
              "      background-color: #434B5C;\n",
              "      box-shadow: 0px 1px 3px 1px rgba(0, 0, 0, 0.15);\n",
              "      filter: drop-shadow(0px 1px 2px rgba(0, 0, 0, 0.3));\n",
              "      fill: #FFFFFF;\n",
              "    }\n",
              "  </style>\n",
              "\n",
              "      <script>\n",
              "        const buttonEl =\n",
              "          document.querySelector('#df-4aac307a-ced3-4d72-902a-495243a81e02 button.colab-df-convert');\n",
              "        buttonEl.style.display =\n",
              "          google.colab.kernel.accessAllowed ? 'block' : 'none';\n",
              "\n",
              "        async function convertToInteractive(key) {\n",
              "          const element = document.querySelector('#df-4aac307a-ced3-4d72-902a-495243a81e02');\n",
              "          const dataTable =\n",
              "            await google.colab.kernel.invokeFunction('convertToInteractive',\n",
              "                                                     [key], {});\n",
              "          if (!dataTable) return;\n",
              "\n",
              "          const docLinkHtml = 'Like what you see? Visit the ' +\n",
              "            '<a target=\"_blank\" href=https://colab.research.google.com/notebooks/data_table.ipynb>data table notebook</a>'\n",
              "            + ' to learn more about interactive tables.';\n",
              "          element.innerHTML = '';\n",
              "          dataTable['output_type'] = 'display_data';\n",
              "          await google.colab.output.renderOutput(dataTable, element);\n",
              "          const docLink = document.createElement('div');\n",
              "          docLink.innerHTML = docLinkHtml;\n",
              "          element.appendChild(docLink);\n",
              "        }\n",
              "      </script>\n",
              "    </div>\n",
              "  </div>\n",
              "  "
            ]
          },
          "metadata": {},
          "execution_count": 18
        }
      ]
    },
    {
      "cell_type": "code",
      "source": [
        "data_dict = {}\n",
        "for idx in range(0, 1000):\n",
        "  # Select the desired row and get the top 10 values's column names\n",
        "  row_values = data_df.iloc[idx].nlargest(10).index.tolist()\n",
        "\n",
        "  # Create a dictionary and add the list with filename as the key\n",
        "  data_dict['Adv sample ' + str(idx)] = row_values"
      ],
      "metadata": {
        "id": "y9KCFvHdP5UO"
      },
      "execution_count": 19,
      "outputs": []
    },
    {
      "cell_type": "code",
      "source": [
        "print(data_dict)"
      ],
      "metadata": {
        "colab": {
          "base_uri": "https://localhost:8080/"
        },
        "id": "SAhM-kXtRLoW",
        "outputId": "90ee0334-ba04-4858-c9bc-e6143a2b3c32"
      },
      "execution_count": 20,
      "outputs": [
        {
          "output_type": "stream",
          "name": "stdout",
          "text": [
            "{'Adv sample 0': ['Bwd Header Len', 'Fwd Pkt Len Std', 'Fwd Pkt Len Max', 'Fwd Pkt Len Mean', 'Flow Byts/s', 'Pkt Len Max', 'Pkt Len Std', 'Fwd Seg Size Avg', 'Init Bwd Win Byts', 'Pkt Len Mean'], 'Adv sample 1': ['Fwd Pkt Len Std', 'Fwd Pkt Len Min', 'Flow Byts/s', 'Pkt Len Max', 'Init Bwd Win Byts', 'Pkt Len Std', 'Idle Mean', 'Idle Max', 'Bwd Seg Size Avg', 'Subflow Bwd Pkts'], 'Adv sample 2': ['Fwd Pkt Len Max', 'Fwd Pkt Len Std', 'Bwd Header Len', 'Flow Byts/s', 'Pkt Len Max', 'Fwd Pkt Len Mean', 'Fwd Seg Size Avg', 'Pkt Size Avg', 'Init Bwd Win Byts', 'Pkt Len Min'], 'Adv sample 3': ['SYN Flag Cnt', 'Bwd Seg Size Avg', 'URG Flag Cnt', 'Flow Duration', 'Fwd Seg Size Avg', 'Fwd IAT Mean', 'Fwd Act Data Pkts', 'Bwd Byts/b Avg', 'Bwd Header Len', 'Idle Mean'], 'Adv sample 4': ['Fwd Pkt Len Std', 'Bwd Header Len', 'Flow Byts/s', 'Fwd Pkt Len Mean', 'Fwd Pkt Len Max', 'Pkt Len Std', 'Pkt Len Mean', 'Fwd Pkt Len Min', 'Fwd Seg Size Avg', 'Subflow Fwd Byts'], 'Adv sample 5': ['Fwd Pkt Len Max', 'Fwd Pkt Len Std', 'Pkt Len Std', 'Pkt Size Avg', 'Fwd Pkt Len Mean', 'Bwd Header Len', 'Pkt Len Mean', 'Fwd Pkt Len Min', 'Fwd Seg Size Avg', 'Pkt Len Min'], 'Adv sample 6': ['Fwd Pkt Len Max', 'Fwd Pkt Len Std', 'Fwd Pkt Len Mean', 'Bwd Header Len', 'Pkt Size Avg', 'Flow Byts/s', 'Pkt Len Std', 'Init Bwd Win Byts', 'Fwd Seg Size Avg', 'Pkt Len Mean'], 'Adv sample 7': ['Fwd Pkt Len Std', 'Fwd Pkt Len Max', 'Bwd Header Len', 'Flow Byts/s', 'Pkt Len Max', 'Fwd Pkt Len Mean', 'Fwd Pkt Len Min', 'Pkt Len Std', 'Fwd Seg Size Avg', 'Init Bwd Win Byts'], 'Adv sample 8': ['Fwd Pkt Len Max', 'Fwd Pkt Len Std', 'Bwd Header Len', 'Pkt Len Std', 'Fwd Pkt Len Mean', 'Pkt Len Mean', 'Pkt Len Max', 'Pkt Len Min', 'Fwd Seg Size Avg', 'Pkt Size Avg'], 'Adv sample 9': ['Fwd Pkt Len Max', 'Fwd Pkt Len Std', 'Fwd Pkt Len Mean', 'Fwd Seg Size Avg', 'Pkt Len Max', 'Fwd Pkt Len Min', 'Flow Byts/s', 'Pkt Size Avg', 'Pkt Len Std', 'Init Bwd Win Byts'], 'Adv sample 10': ['Fwd Pkt Len Max', 'Pkt Len Mean', 'Pkt Len Max', 'Fwd Pkt Len Mean', 'Fwd Seg Size Avg', 'Fwd Pkt Len Std', 'Flow Byts/s', 'Fwd Pkt Len Min', 'Pkt Len Std', 'Init Bwd Win Byts'], 'Adv sample 11': ['Fwd Pkt Len Max', 'Fwd Pkt Len Mean', 'Bwd Header Len', 'Flow Byts/s', 'Pkt Len Max', 'Pkt Len Std', 'Pkt Size Avg', 'Fwd Pkt Len Std', 'Fwd Seg Size Avg', 'Pkt Len Min'], 'Adv sample 12': ['SYN Flag Cnt', 'Bwd Seg Size Avg', 'URG Flag Cnt', 'PSH Flag Cnt', 'Flow Duration', 'Bwd Byts/b Avg', 'FIN Flag Cnt', 'Pkt Len Var', 'Bwd PSH Flags', 'Active Max'], 'Adv sample 13': ['Fwd Pkt Len Std', 'Fwd Pkt Len Max', 'Bwd Header Len', 'Fwd Pkt Len Mean', 'Flow Byts/s', 'Fwd Seg Size Avg', 'Pkt Size Avg', 'Pkt Len Mean', 'Fwd Pkt Len Min', 'Pkt Len Max'], 'Adv sample 14': ['Fwd Pkt Len Max', 'Fwd Pkt Len Std', 'Pkt Len Max', 'Fwd Pkt Len Mean', 'Flow Byts/s', 'Pkt Len Std', 'Fwd Seg Size Avg', 'Bwd Header Len', 'Pkt Len Mean', 'Tot Bwd Pkts'], 'Adv sample 15': ['Fwd Pkt Len Std', 'Fwd Pkt Len Max', 'Bwd Header Len', 'Fwd Pkt Len Mean', 'Pkt Len Std', 'Fwd Pkt Len Min', 'Pkt Size Avg', 'Fwd Seg Size Avg', 'Pkt Len Mean', 'Pkt Len Max'], 'Adv sample 16': ['Fwd Pkt Len Std', 'Fwd Pkt Len Max', 'Flow Byts/s', 'Pkt Len Std', 'Init Bwd Win Byts', 'Fwd Pkt Len Min', 'Bwd Header Len', 'Pkt Len Max', 'Fwd Pkt Len Mean', 'Fwd Seg Size Avg'], 'Adv sample 17': ['Fwd Pkt Len Std', 'Fwd Pkt Len Max', 'Bwd Header Len', 'Fwd Pkt Len Mean', 'Pkt Len Max', 'Fwd Seg Size Avg', 'Fwd Pkt Len Min', 'Init Bwd Win Byts', 'Pkt Size Avg', 'SYN Flag Cnt'], 'Adv sample 18': ['Fwd Pkt Len Std', 'Fwd Pkt Len Max', 'Bwd Header Len', 'Fwd Pkt Len Mean', 'Pkt Len Max', 'Fwd Pkt Len Min', 'Fwd Seg Size Avg', 'Pkt Len Std', 'Pkt Len Mean', 'Pkt Size Avg'], 'Adv sample 19': ['Fwd Pkt Len Max', 'Flow Byts/s', 'Fwd Pkt Len Std', 'Fwd Pkt Len Mean', 'Bwd Header Len', 'Pkt Len Std', 'Pkt Len Max', 'Pkt Len Mean', 'Fwd Pkt Len Min', 'Fwd Seg Size Avg'], 'Adv sample 20': ['Fwd Pkt Len Std', 'Fwd Pkt Len Max', 'Bwd Header Len', 'Flow Byts/s', 'Pkt Size Avg', 'Fwd Pkt Len Mean', 'Pkt Len Std', 'Pkt Len Mean', 'Init Bwd Win Byts', 'Pkt Len Min'], 'Adv sample 21': ['Fwd Pkt Len Std', 'Bwd Header Len', 'Fwd Pkt Len Max', 'Pkt Len Std', 'Fwd Pkt Len Mean', 'Pkt Len Max', 'Pkt Size Avg', 'Pkt Len Mean', 'Fwd Seg Size Avg', 'Pkt Len Min'], 'Adv sample 22': ['Fwd Pkt Len Max', 'Pkt Len Max', 'Fwd Pkt Len Mean', 'Pkt Len Std', 'Bwd Header Len', 'Fwd Pkt Len Std', 'Pkt Len Mean', 'Pkt Len Min', 'Pkt Size Avg', 'Fwd Seg Size Avg'], 'Adv sample 23': ['Fwd Pkt Len Std', 'Fwd Pkt Len Max', 'Bwd Header Len', 'Pkt Len Std', 'Pkt Len Max', 'Fwd Pkt Len Mean', 'Fwd Seg Size Avg', 'Fwd Pkt Len Min', 'Pkt Len Mean', 'Pkt Size Avg'], 'Adv sample 24': ['Fwd Pkt Len Max', 'Fwd Seg Size Avg', 'Fwd Pkt Len Mean', 'Pkt Len Min', 'Flow Byts/s', 'Pkt Len Max', 'Fwd Pkt Len Std', 'Pkt Len Std', 'Fwd IAT Tot', 'Init Bwd Win Byts'], 'Adv sample 25': ['Fwd Pkt Len Max', 'Fwd Pkt Len Std', 'Bwd Header Len', 'Flow Byts/s', 'Pkt Len Std', 'Pkt Size Avg', 'Fwd Pkt Len Mean', 'Pkt Len Max', 'Pkt Len Mean', 'Pkt Len Var'], 'Adv sample 26': ['Fwd Pkt Len Max', 'Fwd Pkt Len Std', 'Bwd Header Len', 'Pkt Len Std', 'Flow Byts/s', 'Fwd Seg Size Avg', 'Pkt Len Max', 'Fwd Pkt Len Min', 'Fwd Pkt Len Mean', 'Pkt Len Mean'], 'Adv sample 27': ['Fwd Pkt Len Max', 'Fwd Pkt Len Std', 'Fwd Pkt Len Mean', 'Bwd Header Len', 'Flow Byts/s', 'Fwd Seg Size Avg', 'Pkt Len Std', 'Pkt Len Max', 'Tot Bwd Pkts', 'Bwd IAT Tot'], 'Adv sample 28': ['Fwd Pkt Len Std', 'Fwd Pkt Len Max', 'Pkt Len Std', 'Bwd Header Len', 'Flow Byts/s', 'Pkt Len Max', 'Fwd Pkt Len Min', 'Fwd Seg Size Avg', 'Pkt Size Avg', 'Pkt Len Min'], 'Adv sample 29': ['Fwd Pkt Len Std', 'Fwd Pkt Len Mean', 'Bwd Header Len', 'Fwd Seg Size Avg', 'Pkt Len Max', 'Pkt Size Avg', 'Fwd Pkt Len Min', 'Pkt Len Mean', 'Pkt Len Min', 'Init Bwd Win Byts'], 'Adv sample 30': ['Fwd Pkt Len Max', 'Fwd Pkt Len Mean', 'Pkt Len Std', 'Fwd Pkt Len Std', 'Init Bwd Win Byts', 'Flow Byts/s', 'Bwd Header Len', 'Fwd Pkt Len Min', 'Pkt Len Mean', 'Pkt Len Max'], 'Adv sample 31': ['Fwd Pkt Len Std', 'Fwd Pkt Len Max', 'Pkt Len Max', 'Flow Byts/s', 'Bwd Header Len', 'Pkt Len Std', 'Pkt Size Avg', 'Fwd Pkt Len Mean', 'Init Bwd Win Byts', 'Pkt Len Min'], 'Adv sample 32': ['Fwd Pkt Len Std', 'Fwd Pkt Len Max', 'Bwd Header Len', 'Fwd Pkt Len Mean', 'Fwd Seg Size Avg', 'Bwd Pkt Len Std', 'Pkt Len Min', 'Pkt Size Avg', 'Fwd Pkt Len Min', 'Pkt Len Max'], 'Adv sample 33': ['Fwd Pkt Len Max', 'Bwd Header Len', 'Fwd Pkt Len Std', 'Fwd Pkt Len Mean', 'Pkt Len Mean', 'Fwd Seg Size Avg', 'Pkt Len Max', 'Bwd Pkt Len Min', 'Pkt Size Avg', 'Pkt Len Min'], 'Adv sample 34': ['Bwd Header Len', 'Fwd Pkt Len Std', 'Fwd Pkt Len Max', 'Fwd Pkt Len Mean', 'Pkt Len Std', 'Pkt Len Max', 'Pkt Size Avg', 'Fwd Seg Size Avg', 'Fwd Pkt Len Min', 'Pkt Len Mean'], 'Adv sample 35': ['SYN Flag Cnt', 'Flow Duration', 'URG Flag Cnt', 'FIN Flag Cnt', 'Bwd Seg Size Avg', 'Idle Mean', 'Tot Fwd Pkts', 'TotLen Bwd Pkts', 'Tot Bwd Pkts', 'Fwd Pkt Len Min'], 'Adv sample 36': ['Bwd Header Len', 'Fwd Pkt Len Std', 'Flow Byts/s', 'Pkt Size Avg', 'Fwd Pkt Len Max', 'Pkt Len Mean', 'Pkt Len Std', 'Fwd Pkt Len Mean', 'Pkt Len Max', 'Pkt Len Min'], 'Adv sample 37': ['Fwd Pkt Len Std', 'Fwd Pkt Len Max', 'Flow Byts/s', 'Fwd Pkt Len Mean', 'Pkt Size Avg', 'Pkt Len Max', 'Pkt Len Mean', 'Fwd Seg Size Avg', 'Init Bwd Win Byts', 'Pkt Len Std'], 'Adv sample 38': ['Fwd Pkt Len Max', 'Bwd Header Len', 'Fwd Pkt Len Std', 'Fwd Pkt Len Mean', 'Pkt Len Mean', 'Pkt Len Std', 'Fwd Seg Size Avg', 'Flow Byts/s', 'Pkt Len Min', 'Pkt Len Max'], 'Adv sample 39': ['Fwd Pkt Len Max', 'Bwd Header Len', 'Fwd Pkt Len Std', 'Pkt Len Mean', 'Fwd Seg Size Avg', 'Pkt Size Avg', 'Fwd Pkt Len Mean', 'Pkt Len Std', 'Fwd Pkt Len Min', 'Pkt Len Max'], 'Adv sample 40': ['Fwd Pkt Len Std', 'Fwd Pkt Len Max', 'Bwd Header Len', 'Flow Byts/s', 'Pkt Size Avg', 'Fwd Pkt Len Min', 'Init Bwd Win Byts', 'Fwd Pkt Len Mean', 'Fwd Seg Size Avg', 'Pkt Len Max'], 'Adv sample 41': ['Fwd Pkt Len Max', 'Fwd Pkt Len Std', 'Fwd Pkt Len Mean', 'Flow Byts/s', 'Fwd Seg Size Avg', 'Init Bwd Win Byts', 'Pkt Size Avg', 'Pkt Len Mean', 'Pkt Len Std', 'Fwd Header Len'], 'Adv sample 42': ['Fwd Pkt Len Max', 'Fwd Pkt Len Std', 'Pkt Len Std', 'Flow Byts/s', 'Bwd Header Len', 'Fwd Seg Size Avg', 'Pkt Len Min', 'Fwd Pkt Len Mean', 'Fwd Pkt Len Min', 'Pkt Len Max'], 'Adv sample 43': ['Fwd Pkt Len Std', 'Bwd Header Len', 'Fwd Pkt Len Max', 'Fwd Pkt Len Mean', 'Flow Byts/s', 'Pkt Len Max', 'Pkt Len Mean', 'Fwd Pkt Len Min', 'Pkt Len Std', 'Pkt Size Avg'], 'Adv sample 44': ['Fwd Pkt Len Std', 'Bwd Header Len', 'Fwd Pkt Len Max', 'Flow Byts/s', 'Fwd Pkt Len Mean', 'Pkt Len Std', 'Pkt Len Max', 'Fwd Seg Size Avg', 'Pkt Len Mean', 'Init Bwd Win Byts'], 'Adv sample 45': ['Bwd Header Len', 'Flow Byts/s', 'Fwd Pkt Len Max', 'Fwd Pkt Len Std', 'Pkt Size Avg', 'Pkt Len Std', 'Init Bwd Win Byts', 'Fwd Seg Size Avg', 'Fwd Pkt Len Mean', 'Pkt Len Mean'], 'Adv sample 46': ['Fwd Pkt Len Max', 'Fwd Seg Size Avg', 'Flow Byts/s', 'Flow Pkts/s', 'Pkt Len Var', 'Active Max', 'Subflow Fwd Pkts', 'Bwd PSH Flags', 'Pkt Len Mean', 'Bwd Seg Size Avg'], 'Adv sample 47': ['Fwd Pkt Len Max', 'Fwd Pkt Len Std', 'Fwd Pkt Len Mean', 'Fwd Seg Size Avg', 'Flow Byts/s', 'Pkt Len Max', 'Pkt Size Avg', 'Pkt Len Std', 'Pkt Len Mean', 'Init Bwd Win Byts'], 'Adv sample 48': ['Fwd Pkt Len Std', 'Bwd Header Len', 'Fwd Pkt Len Max', 'Fwd Seg Size Avg', 'Pkt Len Std', 'Pkt Len Max', 'Fwd Pkt Len Mean', 'Pkt Len Min', 'Fwd Pkt Len Min', 'Init Bwd Win Byts'], 'Adv sample 49': ['Fwd Pkt Len Std', 'Fwd Pkt Len Mean', 'Fwd Pkt Len Max', 'Bwd Header Len', 'Pkt Len Mean', 'Pkt Size Avg', 'Fwd Seg Size Avg', 'Pkt Len Std', 'Pkt Len Max', 'Init Bwd Win Byts'], 'Adv sample 50': ['Fwd Pkt Len Std', 'Fwd Pkt Len Min', 'Flow Byts/s', 'Pkt Len Max', 'Init Bwd Win Byts', 'Idle Mean', 'Pkt Len Std', 'Fwd Pkts/s', 'Idle Max', 'Subflow Fwd Byts'], 'Adv sample 51': ['Bwd Header Len', 'Fwd Pkt Len Max', 'Fwd Pkt Len Std', 'Fwd Pkt Len Mean', 'Pkt Len Std', 'Pkt Size Avg', 'Pkt Len Max', 'Pkt Len Mean', 'Pkt Len Min', 'Fwd Seg Size Avg'], 'Adv sample 52': ['Fwd Pkt Len Max', 'Fwd Pkt Len Std', 'Fwd Pkt Len Mean', 'Fwd Seg Size Avg', 'Bwd Header Len', 'Pkt Len Max', 'Pkt Size Avg', 'Pkt Len Mean', 'Pkt Len Std', 'Init Bwd Win Byts'], 'Adv sample 53': ['Fwd Pkt Len Std', 'Flow Byts/s', 'Fwd Pkt Len Max', 'Pkt Len Mean', 'Fwd Pkt Len Mean', 'Init Bwd Win Byts', 'Fwd Seg Size Avg', 'Fwd Pkt Len Min', 'Pkt Size Avg', 'Pkt Len Std'], 'Adv sample 54': ['SYN Flag Cnt', 'Flow Duration', 'Bwd Pkt Len Max', 'Bwd Byts/b Avg', 'TotLen Bwd Pkts', 'Active Max', 'URG Flag Cnt', 'Active Std', 'Bwd Pkt Len Std', 'Subflow Bwd Pkts'], 'Adv sample 55': ['Fwd Pkt Len Max', 'Fwd Pkt Len Std', 'Bwd Header Len', 'Fwd Pkt Len Mean', 'Pkt Len Std', 'Pkt Len Mean', 'Fwd Seg Size Avg', 'Init Bwd Win Byts', 'Pkt Len Max', 'Fwd Pkt Len Min'], 'Adv sample 56': ['Fwd Pkt Len Max', 'Fwd Pkt Len Std', 'Bwd Header Len', 'Flow Byts/s', 'Fwd Pkt Len Mean', 'Pkt Size Avg', 'Fwd Seg Size Avg', 'Init Bwd Win Byts', 'Pkt Len Std', 'Pkt Len Mean'], 'Adv sample 57': ['Fwd Pkt Len Max', 'Fwd Pkt Len Std', 'Bwd Header Len', 'Fwd Seg Size Avg', 'Pkt Len Std', 'Pkt Size Avg', 'Init Bwd Win Byts', 'Fwd Pkt Len Mean', 'Fwd Pkt Len Min', 'Pkt Len Max'], 'Adv sample 58': ['Fwd Pkt Len Std', 'Bwd Header Len', 'Fwd Pkt Len Mean', 'Fwd Pkt Len Max', 'Pkt Size Avg', 'Fwd Seg Size Avg', 'Pkt Len Min', 'Init Bwd Win Byts', 'Pkt Len Mean', 'Flow Byts/s'], 'Adv sample 59': ['Fwd Pkt Len Std', 'Fwd Pkt Len Max', 'Flow Byts/s', 'Bwd Header Len', 'Fwd Pkt Len Mean', 'Pkt Len Mean', 'Init Bwd Win Byts', 'Pkt Len Max', 'Pkt Len Std', 'Fwd Pkt Len Min'], 'Adv sample 60': ['Fwd Pkt Len Std', 'Bwd Header Len', 'Fwd Pkt Len Mean', 'Pkt Len Mean', 'Fwd Seg Size Avg', 'Pkt Size Avg', 'Pkt Len Max', 'Init Bwd Win Byts', 'Fwd Pkt Len Min', 'Bwd Pkt Len Std'], 'Adv sample 61': ['Fwd Pkt Len Max', 'Fwd Pkt Len Mean', 'Fwd Pkt Len Std', 'Fwd Seg Size Avg', 'Pkt Size Avg', 'Flow Byts/s', 'Pkt Len Max', 'Pkt Len Mean', 'Fwd Pkt Len Min', 'Bwd Pkt Len Min'], 'Adv sample 62': ['Bwd Header Len', 'Fwd Pkt Len Max', 'Flow Byts/s', 'Fwd Pkt Len Mean', 'Fwd Pkt Len Std', 'Init Bwd Win Byts', 'Pkt Len Max', 'Pkt Len Std', 'Fwd Seg Size Avg', 'Fwd Pkt Len Min'], 'Adv sample 63': ['Fwd Pkt Len Max', 'Fwd Pkt Len Std', 'Pkt Len Max', 'Fwd Pkt Len Mean', 'Bwd Header Len', 'Pkt Len Min', 'Fwd Seg Size Avg', 'Flow Byts/s', 'Pkt Len Std', 'Fwd Pkt Len Min'], 'Adv sample 64': ['Fwd Pkt Len Max', 'Fwd Pkt Len Mean', 'Pkt Len Max', 'Flow Byts/s', 'Fwd Pkt Len Std', 'Pkt Len Min', 'Fwd Seg Size Avg', 'Init Bwd Win Byts', 'Fwd Pkt Len Min', 'Pkt Len Std'], 'Adv sample 65': ['Fwd Pkt Len Mean', 'Bwd Header Len', 'Fwd Pkt Len Max', 'Fwd Pkt Len Std', 'Fwd Seg Size Avg', 'Pkt Len Std', 'Fwd Pkt Len Min', 'Pkt Size Avg', 'Pkt Len Max', 'Pkt Len Mean'], 'Adv sample 66': ['Fwd Pkt Len Max', 'Fwd Pkt Len Std', 'Bwd Header Len', 'Flow Byts/s', 'Fwd Pkt Len Mean', 'Pkt Len Std', 'Init Bwd Win Byts', 'Fwd Pkt Len Min', 'Pkt Len Max', 'Fwd Seg Size Avg'], 'Adv sample 67': ['Fwd Pkt Len Std', 'Fwd Pkt Len Max', 'Bwd Header Len', 'Fwd Pkt Len Mean', 'Flow Byts/s', 'Pkt Len Std', 'Fwd Pkt Len Min', 'Fwd Seg Size Avg', 'Pkt Len Max', 'Pkt Size Avg'], 'Adv sample 68': ['Fwd Pkt Len Max', 'Fwd Pkt Len Std', 'Flow Byts/s', 'Bwd Header Len', 'Fwd Pkt Len Mean', 'Pkt Len Max', 'Pkt Len Std', 'Fwd Pkt Len Min', 'Init Bwd Win Byts', 'Bwd Pkt Len Min'], 'Adv sample 69': ['Fwd Pkt Len Max', 'Fwd Pkt Len Std', 'Flow Byts/s', 'Pkt Len Std', 'Fwd Pkt Len Mean', 'Pkt Size Avg', 'Pkt Len Mean', 'Bwd Header Len', 'Fwd Seg Size Avg', 'Fwd Pkt Len Min'], 'Adv sample 70': ['Fwd Pkt Len Std', 'Fwd Pkt Len Max', 'Fwd Pkt Len Mean', 'Bwd Header Len', 'Pkt Len Max', 'Init Bwd Win Byts', 'Fwd Pkt Len Min', 'Fwd Seg Size Avg', 'Pkt Size Avg', 'Pkt Len Std'], 'Adv sample 71': ['Fwd Pkt Len Max', 'Fwd Pkt Len Std', 'Pkt Size Avg', 'Fwd Pkt Len Min', 'Flow Byts/s', 'Pkt Len Mean', 'Idle Mean', 'Pkt Len Max', 'Idle Max', 'Idle Min'], 'Adv sample 72': ['Fwd Pkt Len Max', 'Fwd Pkt Len Std', 'Pkt Size Avg', 'Fwd Pkt Len Min', 'Pkt Len Mean', 'Flow Byts/s', 'Idle Mean', 'Pkt Len Max', 'Init Bwd Win Byts', 'Idle Min'], 'Adv sample 73': ['Fwd Pkt Len Max', 'Fwd Pkt Len Std', 'Bwd Header Len', 'Flow Byts/s', 'Fwd Pkt Len Mean', 'Pkt Len Std', 'Pkt Size Avg', 'Fwd Pkt Len Min', 'Pkt Len Mean', 'Pkt Len Max'], 'Adv sample 74': ['Bwd Header Len', 'Fwd Pkt Len Max', 'Fwd Seg Size Avg', 'Flow Byts/s', 'Fwd Pkt Len Std', 'Pkt Len Std', 'Fwd Pkt Len Mean', 'Pkt Size Avg', 'Pkt Len Mean', 'Pkt Len Min'], 'Adv sample 75': ['Fwd Pkt Len Std', 'Fwd Pkt Len Mean', 'Flow Byts/s', 'Fwd Seg Size Avg', 'Fwd Pkt Len Max', 'Pkt Len Max', 'Pkt Len Std', 'Pkt Len Mean', 'Pkt Len Min', 'Pkt Size Avg'], 'Adv sample 76': ['Bwd Header Len', 'Fwd Pkt Len Std', 'Fwd Pkt Len Max', 'Pkt Len Std', 'Flow Byts/s', 'Fwd Pkt Len Min', 'Fwd Seg Size Avg', 'Fwd Pkt Len Mean', 'Pkt Len Max', 'Bwd Pkt Len Std'], 'Adv sample 77': ['Fwd Pkt Len Std', 'Fwd Pkt Len Max', 'Fwd Pkt Len Mean', 'Pkt Len Min', 'Flow Byts/s', 'Fwd Seg Size Avg', 'Pkt Len Std', 'Pkt Len Mean', 'Init Bwd Win Byts', 'Pkt Size Avg'], 'Adv sample 78': ['Fwd Pkt Len Max', 'Fwd Pkt Len Std', 'Flow Byts/s', 'Bwd Header Len', 'Fwd Pkt Len Mean', 'Pkt Len Max', 'Pkt Len Std', 'Pkt Len Mean', 'Pkt Size Avg', 'Bwd Pkt Len Min'], 'Adv sample 79': ['Fwd Pkt Len Max', 'Fwd Pkt Len Std', 'Fwd Pkt Len Mean', 'Flow Byts/s', 'Fwd Seg Size Avg', 'Fwd Pkt Len Min', 'Pkt Len Max', 'Pkt Size Avg', 'Pkt Len Std', 'Pkt Len Mean'], 'Adv sample 80': ['Fwd Pkt Len Std', 'Fwd Pkt Len Min', 'Flow Byts/s', 'Pkt Len Max', 'Init Bwd Win Byts', 'Idle Mean', 'Pkt Len Std', 'Fwd Pkts/s', 'Fwd IAT Std', 'Idle Max'], 'Adv sample 81': ['Flow Duration', 'SYN Flag Cnt', 'URG Flag Cnt', 'Bwd URG Flags', 'FIN Flag Cnt', 'Bwd Byts/b Avg', 'Bwd Pkt Len Mean', 'Bwd PSH Flags', 'Fwd Pkts/s', 'Flow Byts/s'], 'Adv sample 82': ['Fwd Pkt Len Max', 'Fwd Pkt Len Std', 'Bwd Header Len', 'Fwd Seg Size Avg', 'Fwd Pkt Len Mean', 'Flow Byts/s', 'Pkt Len Max', 'Pkt Len Std', 'Fwd Pkt Len Min', 'Pkt Len Mean'], 'Adv sample 83': ['Fwd Pkt Len Std', 'Bwd Header Len', 'Flow Byts/s', 'Fwd Pkt Len Mean', 'Pkt Len Std', 'Fwd Pkt Len Max', 'Pkt Len Min', 'Pkt Size Avg', 'Pkt Len Mean', 'Fwd Seg Size Avg'], 'Adv sample 84': ['Fwd Pkt Len Std', 'Fwd Pkt Len Max', 'Fwd Pkt Len Mean', 'Bwd Header Len', 'Pkt Size Avg', 'Fwd Seg Size Avg', 'Pkt Len Max', 'Fwd Pkt Len Min', 'Pkt Len Std', 'Pkt Len Min'], 'Adv sample 85': ['Fwd Pkt Len Std', 'Fwd Pkt Len Max', 'Fwd Pkt Len Mean', 'Bwd Header Len', 'Pkt Len Mean', 'Pkt Len Std', 'Flow Byts/s', 'Fwd Seg Size Avg', 'Pkt Len Max', 'Pkt Size Avg'], 'Adv sample 86': ['Bwd Header Len', 'Fwd Pkt Len Max', 'Fwd Pkt Len Std', 'Pkt Len Std', 'Fwd Pkt Len Mean', 'Fwd Seg Size Avg', 'Pkt Size Avg', 'Pkt Len Max', 'Pkt Len Min', 'Pkt Len Mean'], 'Adv sample 87': ['Fwd Pkt Len Std', 'Fwd Pkt Len Max', 'Flow Byts/s', 'Bwd Header Len', 'Fwd Pkt Len Mean', 'Pkt Len Max', 'Pkt Len Min', 'Init Bwd Win Byts', 'Pkt Size Avg', 'Pkt Len Mean'], 'Adv sample 88': ['Fwd Pkt Len Std', 'Fwd Pkt Len Max', 'Bwd Header Len', 'Pkt Len Std', 'Fwd Pkt Len Mean', 'Pkt Len Max', 'Pkt Size Avg', 'Pkt Len Mean', 'Fwd Pkt Len Min', 'Fwd Seg Size Avg'], 'Adv sample 89': ['Bwd Header Len', 'Fwd Pkt Len Std', 'Fwd Pkt Len Max', 'Flow Byts/s', 'Fwd Seg Size Avg', 'Pkt Len Std', 'Fwd Pkt Len Mean', 'Pkt Len Max', 'Fwd Pkt Len Min', 'Pkt Len Mean'], 'Adv sample 90': ['Fwd Pkt Len Std', 'Fwd Pkt Len Max', 'Flow Byts/s', 'Bwd Header Len', 'Pkt Len Std', 'Fwd Seg Size Avg', 'Pkt Size Avg', 'Pkt Len Min', 'Fwd Pkt Len Mean', 'Bwd Pkt Len Min'], 'Adv sample 91': ['Fwd Pkt Len Max', 'Pkt Len Max', 'Flow Byts/s', 'Pkt Len Mean', 'Pkt Len Std', 'Fwd Seg Size Avg', 'Pkt Len Min', 'Bwd Header Len', 'Fwd Pkt Len Std', 'Fwd Pkt Len Mean'], 'Adv sample 92': ['Fwd Pkt Len Max', 'Fwd Pkt Len Std', 'Fwd Pkt Len Mean', 'Fwd Seg Size Avg', 'Flow Byts/s', 'Pkt Len Max', 'Pkt Len Std', 'Tot Bwd Pkts', 'Fwd IAT Min', 'ECE Flag Cnt'], 'Adv sample 93': ['Fwd Pkt Len Max', 'Fwd Pkt Len Mean', 'Fwd Pkt Len Std', 'Pkt Len Mean', 'Fwd Pkt Len Min', 'Pkt Len Max', 'Pkt Len Min', 'Fwd Seg Size Avg', 'Pkt Size Avg', 'Pkt Len Std'], 'Adv sample 94': ['Fwd Pkt Len Max', 'Bwd Header Len', 'Fwd Pkt Len Std', 'Flow Byts/s', 'Fwd Seg Size Avg', 'Pkt Size Avg', 'Fwd Pkt Len Min', 'Fwd Pkt Len Mean', 'Pkt Len Std', 'Pkt Len Max'], 'Adv sample 95': ['Fwd Pkt Len Std', 'Fwd Pkt Len Max', 'Bwd Header Len', 'Flow Byts/s', 'Pkt Len Std', 'Pkt Size Avg', 'Pkt Len Mean', 'Fwd Pkt Len Mean', 'Init Bwd Win Byts', 'Pkt Len Max'], 'Adv sample 96': ['Fwd Pkt Len Max', 'Fwd Pkt Len Std', 'Bwd Header Len', 'Pkt Len Std', 'Fwd Pkt Len Mean', 'Fwd Seg Size Avg', 'Fwd Pkt Len Min', 'Pkt Size Avg', 'Pkt Len Min', 'Pkt Len Max'], 'Adv sample 97': ['Fwd Pkt Len Max', 'Fwd Pkt Len Std', 'Pkt Len Std', 'Fwd Pkt Len Mean', 'Pkt Len Max', 'Bwd Header Len', 'Fwd Pkt Len Min', 'Pkt Len Mean', 'Fwd Seg Size Avg', 'Pkt Size Avg'], 'Adv sample 98': ['Flow Duration', 'SYN Flag Cnt', 'Bwd Seg Size Avg', 'Fwd Pkt Len Max', 'Fwd Pkts/b Avg', 'Bwd PSH Flags', 'PSH Flag Cnt', 'Subflow Bwd Pkts', 'URG Flag Cnt', 'Fwd IAT Tot'], 'Adv sample 99': ['Fwd Pkt Len Max', 'Bwd Header Len', 'Pkt Len Std', 'Flow Byts/s', 'Fwd Pkt Len Mean', 'Fwd Pkt Len Std', 'Fwd Pkt Len Min', 'Pkt Size Avg', 'Pkt Len Max', 'Init Bwd Win Byts'], 'Adv sample 100': ['Fwd Pkt Len Std', 'Fwd Pkt Len Max', 'Bwd Header Len', 'Fwd Pkt Len Mean', 'Flow Byts/s', 'Init Bwd Win Byts', 'Pkt Len Mean', 'Pkt Len Max', 'Pkt Len Std', 'Pkt Size Avg'], 'Adv sample 101': ['Fwd Pkt Len Max', 'Fwd Pkt Len Std', 'Bwd Header Len', 'Flow Byts/s', 'Pkt Len Max', 'Fwd Pkt Len Mean', 'Fwd Pkt Len Min', 'Pkt Size Avg', 'Pkt Len Std', 'Fwd Seg Size Avg'], 'Adv sample 102': ['Fwd Pkt Len Max', 'Fwd Pkt Len Std', 'Bwd Header Len', 'Flow Byts/s', 'Fwd Seg Size Avg', 'Fwd Pkt Len Mean', 'Pkt Len Std', 'Pkt Len Max', 'Tot Bwd Pkts', 'Idle Max'], 'Adv sample 103': ['Fwd Pkt Len Std', 'Fwd Pkt Len Max', 'Flow Byts/s', 'Fwd Pkt Len Mean', 'Bwd Header Len', 'Pkt Len Std', 'Pkt Len Mean', 'Pkt Len Max', 'Pkt Size Avg', 'Init Bwd Win Byts'], 'Adv sample 104': ['Fwd Pkt Len Max', 'Fwd Seg Size Avg', 'Flow Byts/s', 'Flow Pkts/s', 'Pkt Len Var', 'Bwd IAT Tot', 'Bwd URG Flags', 'Fwd Pkt Len Min', 'Fwd IAT Max', 'Subflow Fwd Byts'], 'Adv sample 105': ['Fwd Pkt Len Max', 'Fwd Pkt Len Std', 'Fwd Seg Size Avg', 'Pkt Len Max', 'Fwd Pkt Len Mean', 'Init Bwd Win Byts', 'Flow Byts/s', 'Pkt Size Avg', 'Fwd Pkt Len Min', 'Pkt Len Mean'], 'Adv sample 106': ['Fwd Pkt Len Max', 'Bwd Header Len', 'Pkt Len Std', 'Flow Byts/s', 'Pkt Len Max', 'Bwd Pkt Len Std', 'Pkt Len Var', 'Init Bwd Win Byts', 'Tot Bwd Pkts', 'TotLen Bwd Pkts'], 'Adv sample 107': ['Fwd Pkt Len Max', 'Fwd Pkt Len Std', 'Bwd Header Len', 'Pkt Len Std', 'Pkt Len Min', 'Fwd Pkt Len Min', 'Init Bwd Win Byts', 'Fwd Pkt Len Mean', 'Fwd Seg Size Avg', 'Flow Byts/s'], 'Adv sample 108': ['Fwd Pkt Len Max', 'Fwd Pkt Len Std', 'Flow Byts/s', 'Fwd Pkt Len Mean', 'Fwd Seg Size Avg', 'Pkt Len Std', 'Pkt Size Avg', 'Pkt Len Mean', 'Pkt Len Max', 'Init Bwd Win Byts'], 'Adv sample 109': ['Bwd Header Len', 'Fwd Pkt Len Std', 'Fwd Pkt Len Max', 'Pkt Len Std', 'Pkt Len Max', 'Pkt Size Avg', 'Fwd Seg Size Avg', 'Pkt Len Mean', 'Fwd Pkt Len Mean', 'Pkt Len Min'], 'Adv sample 110': ['Pkt Len Std', 'Pkt Size Avg', 'Pkt Len Max', 'Pkt Len Mean', 'Init Bwd Win Byts', 'Fwd Pkt Len Min', 'Fwd IAT Tot', 'Fwd IAT Std', 'Bwd PSH Flags', 'Bwd IAT Tot'], 'Adv sample 111': ['Bwd Header Len', 'Fwd Pkt Len Max', 'Fwd Pkt Len Std', 'Flow Byts/s', 'Pkt Len Std', 'Fwd Pkt Len Mean', 'Pkt Size Avg', 'Fwd Pkt Len Min', 'Pkt Len Max', 'Fwd Seg Size Avg'], 'Adv sample 112': ['Fwd Pkt Len Std', 'Fwd Pkt Len Max', 'Fwd Seg Size Avg', 'Bwd Header Len', 'Flow Byts/s', 'Pkt Len Std', 'Pkt Len Max', 'Fwd Pkt Len Mean', 'Pkt Size Avg', 'Fwd Pkt Len Min'], 'Adv sample 113': ['SYN Flag Cnt', 'Flow Duration', 'Fwd IAT Tot', 'URG Flag Cnt', 'Fwd Pkts/b Avg', 'Bwd Byts/b Avg', 'Subflow Fwd Byts', 'Bwd Seg Size Avg', 'Active Max', 'FIN Flag Cnt'], 'Adv sample 114': ['Bwd Header Len', 'Fwd Pkt Len Max', 'Fwd Pkt Len Std', 'Flow Byts/s', 'Fwd Pkt Len Mean', 'Pkt Len Std', 'Fwd Seg Size Avg', 'Pkt Size Avg', 'Pkt Len Min', 'Fwd Pkt Len Min'], 'Adv sample 115': ['Fwd Pkt Len Std', 'Fwd Pkt Len Max', 'Bwd Header Len', 'Pkt Len Std', 'Fwd Pkt Len Mean', 'Fwd Seg Size Avg', 'Pkt Size Avg', 'Pkt Len Max', 'Pkt Len Min', 'Init Bwd Win Byts'], 'Adv sample 116': ['Fwd Pkt Len Max', 'Bwd Header Len', 'Flow Byts/s', 'Fwd Pkt Len Std', 'Pkt Len Std', 'Init Bwd Win Byts', 'Fwd Pkt Len Mean', 'Fwd Pkt Len Min', 'Fwd Seg Size Avg', 'Pkt Len Max'], 'Adv sample 117': ['Fwd Pkt Len Max', 'Fwd Pkt Len Std', 'Pkt Len Std', 'Bwd Header Len', 'Fwd Pkt Len Mean', 'Fwd Seg Size Avg', 'Pkt Len Mean', 'Pkt Len Min', 'Bwd Pkt Len Max', 'Bwd Blk Rate Avg'], 'Adv sample 118': ['Fwd Pkt Len Max', 'Fwd Pkt Len Std', 'Bwd Header Len', 'Pkt Len Std', 'Fwd Pkt Len Mean', 'Pkt Len Max', 'Fwd Seg Size Avg', 'Pkt Len Mean', 'Init Bwd Win Byts', 'Fwd Pkt Len Min'], 'Adv sample 119': ['Fwd Pkt Len Max', 'Fwd Pkt Len Std', 'Bwd Header Len', 'Flow Byts/s', 'Pkt Len Std', 'Pkt Len Max', 'Fwd Pkt Len Min', 'Fwd Pkt Len Mean', 'Init Bwd Win Byts', 'Pkt Len Min'], 'Adv sample 120': ['SYN Flag Cnt', 'Flow Duration', 'FIN Flag Cnt', 'Pkt Len Var', 'Fwd Seg Size Avg', 'Bwd Seg Size Avg', 'Idle Std', 'Bwd Byts/b Avg', 'Fwd IAT Tot', 'Bwd PSH Flags'], 'Adv sample 121': ['Fwd Pkt Len Max', 'Fwd Pkt Len Std', 'Bwd Header Len', 'Flow Byts/s', 'Fwd Pkt Len Mean', 'Pkt Size Avg', 'Fwd Seg Size Avg', 'Pkt Len Max', 'Init Bwd Win Byts', 'Pkt Len Std'], 'Adv sample 122': ['SYN Flag Cnt', 'Flow Duration', 'Idle Std', 'Pkt Len Std', 'Fwd IAT Min', 'Idle Mean', 'Bwd Header Len', 'Bwd Seg Size Avg', 'Fwd Pkts/s', 'FIN Flag Cnt'], 'Adv sample 123': ['Bwd Header Len', 'Tot Bwd Pkts', 'Subflow Bwd Pkts', 'Bwd Pkts/s', 'Fwd IAT Std', 'Fwd Pkt Len Max', 'Flow Pkts/s', 'Bwd Pkt Len Min', 'Bwd Pkt Len Max', 'PSH Flag Cnt'], 'Adv sample 124': ['Fwd Pkt Len Max', 'Bwd Header Len', 'Fwd Pkt Len Std', 'Pkt Len Std', 'Fwd Pkt Len Mean', 'Flow Byts/s', 'Init Bwd Win Byts', 'Fwd Seg Size Avg', 'Pkt Len Var', 'Pkt Size Avg'], 'Adv sample 125': ['Fwd Pkt Len Max', 'Fwd Pkt Len Std', 'Pkt Len Std', 'Bwd Header Len', 'Fwd Pkt Len Mean', 'Fwd Seg Size Avg', 'Pkt Size Avg', 'Fwd Pkt Len Min', 'Pkt Len Max', 'Pkt Len Mean'], 'Adv sample 126': ['Fwd Pkt Len Max', 'Fwd Pkt Len Std', 'Flow Byts/s', 'Bwd Header Len', 'Pkt Len Std', 'Pkt Len Max', 'Fwd Seg Size Avg', 'Fwd Pkt Len Min', 'Fwd Pkt Len Mean', 'Pkt Len Mean'], 'Adv sample 127': ['Fwd Pkt Len Max', 'Fwd Pkt Len Std', 'Bwd Header Len', 'Fwd Seg Size Avg', 'Pkt Len Mean', 'Init Bwd Win Byts', 'Pkt Len Max', 'Pkt Len Std', 'Fwd Pkt Len Min', 'Fwd Pkt Len Mean'], 'Adv sample 128': ['Fwd Pkt Len Max', 'Fwd Pkt Len Std', 'Pkt Len Mean', 'Pkt Len Std', 'Fwd Pkt Len Mean', 'Pkt Len Max', 'Bwd Header Len', 'Pkt Size Avg', 'Flow Byts/s', 'Fwd Pkt Len Min'], 'Adv sample 129': ['Fwd Pkt Len Std', 'Flow Byts/s', 'Bwd Header Len', 'Pkt Len Std', 'Fwd Pkt Len Max', 'Fwd Pkt Len Mean', 'Fwd Seg Size Avg', 'Bwd Pkt Len Std', 'Bwd Pkt Len Max', 'Init Bwd Win Byts'], 'Adv sample 130': ['Fwd Pkt Len Max', 'Fwd Pkt Len Std', 'Bwd Header Len', 'Fwd Pkt Len Mean', 'Pkt Len Max', 'Fwd Seg Size Avg', 'Pkt Len Std', 'Pkt Len Mean', 'Fwd Pkt Len Min', 'Pkt Size Avg'], 'Adv sample 131': ['Fwd Pkt Len Max', 'Pkt Len Std', 'Fwd Seg Size Avg', 'Flow Byts/s', 'Bwd IAT Tot', 'Fwd IAT Min', 'Fwd Pkt Len Min', 'Subflow Fwd Byts', 'Active Mean', 'Tot Fwd Pkts'], 'Adv sample 132': ['Fwd Pkt Len Std', 'Fwd Pkt Len Max', 'Flow Byts/s', 'Bwd Header Len', 'Pkt Len Std', 'Fwd Pkt Len Mean', 'Fwd Seg Size Avg', 'Init Bwd Win Byts', 'Pkt Len Mean', 'Pkt Len Max'], 'Adv sample 133': ['Bwd Header Len', 'Bwd Pkts/s', 'Tot Bwd Pkts', 'Subflow Bwd Pkts', 'Fwd IAT Std', 'Flow Pkts/s', 'Fwd Pkt Len Max', 'Fwd Pkts/s', 'PSH Flag Cnt', 'Bwd IAT Min'], 'Adv sample 134': ['Fwd Pkt Len Std', 'Fwd Pkt Len Max', 'Fwd Pkt Len Mean', 'Flow Byts/s', 'Pkt Len Std', 'Bwd Header Len', 'Pkt Len Max', 'Fwd Seg Size Avg', 'Pkt Size Avg', 'Init Bwd Win Byts'], 'Adv sample 135': ['Bwd Header Len', 'Fwd Pkt Len Max', 'Flow Byts/s', 'Fwd Pkt Len Std', 'Pkt Len Std', 'Fwd Pkt Len Mean', 'Fwd Pkt Len Min', 'Fwd Seg Size Avg', 'Pkt Len Min', 'Pkt Size Avg'], 'Adv sample 136': ['Fwd Pkt Len Max', 'Fwd Pkt Len Std', 'Flow Byts/s', 'Bwd Header Len', 'Pkt Len Max', 'Pkt Len Std', 'Fwd Pkt Len Min', 'Fwd Seg Size Avg', 'Pkt Size Avg', 'Pkt Len Min'], 'Adv sample 137': ['Fwd Pkt Len Max', 'Fwd Pkt Len Std', 'Fwd Pkt Len Mean', 'Bwd Header Len', 'Pkt Len Std', 'Pkt Len Min', 'Fwd Seg Size Avg', 'Fwd Pkt Len Min', 'Pkt Len Max', 'Pkt Size Avg'], 'Adv sample 138': ['Fwd Pkt Len Max', 'Bwd Header Len', 'Pkt Len Max', 'Fwd Pkt Len Std', 'Flow Byts/s', 'Pkt Len Std', 'Fwd Pkt Len Mean', 'Fwd Pkt Len Min', 'Pkt Len Mean', 'Pkt Size Avg'], 'Adv sample 139': ['Fwd Pkt Len Std', 'Fwd Pkt Len Max', 'Bwd Header Len', 'Fwd Pkt Len Mean', 'Flow Byts/s', 'Pkt Len Std', 'Pkt Len Mean', 'Pkt Len Min', 'Pkt Len Max', 'ACK Flag Cnt'], 'Adv sample 140': ['Fwd Pkt Len Max', 'Fwd Pkt Len Std', 'Pkt Size Avg', 'Flow Byts/s', 'Pkt Len Mean', 'Fwd Pkt Len Min', 'Idle Mean', 'Init Bwd Win Byts', 'Idle Min', 'Pkt Len Std'], 'Adv sample 141': ['Fwd Pkt Len Std', 'Fwd Pkt Len Max', 'Bwd Header Len', 'Fwd Seg Size Avg', 'Pkt Len Max', 'Fwd Pkt Len Mean', 'Pkt Len Std', 'Pkt Size Avg', 'Tot Bwd Pkts', 'Pkt Len Mean'], 'Adv sample 142': ['Bwd Header Len', 'Fwd Pkt Len Max', 'Flow Byts/s', 'Fwd Pkt Len Std', 'Fwd Pkt Len Mean', 'Pkt Len Max', 'Pkt Len Min', 'Pkt Len Mean', 'Pkt Size Avg', 'Fwd Seg Size Avg'], 'Adv sample 143': ['Fwd Pkt Len Max', 'Fwd Pkt Len Std', 'Bwd Header Len', 'Fwd Pkt Len Mean', 'Fwd Seg Size Avg', 'Fwd Pkt Len Min', 'Init Bwd Win Byts', 'Pkt Size Avg', 'Pkt Len Max', 'Pkt Len Std'], 'Adv sample 144': ['Fwd Pkt Len Max', 'Fwd Pkt Len Std', 'Fwd Pkt Len Min', 'Flow Byts/s', 'Idle Mean', 'Pkt Len Max', 'Init Bwd Win Byts', 'Idle Min', 'Idle Max', 'Fwd Pkts/s'], 'Adv sample 145': ['Fwd Pkt Len Std', 'Fwd Pkt Len Max', 'Flow Byts/s', 'Bwd Header Len', 'Init Bwd Win Byts', 'Pkt Len Std', 'Pkt Len Mean', 'Fwd Seg Size Avg', 'Fwd Pkt Len Mean', 'Fwd Pkt Len Min'], 'Adv sample 146': ['Fwd Pkt Len Std', 'Fwd Pkt Len Max', 'Bwd Header Len', 'Fwd Seg Size Avg', 'Fwd Pkt Len Mean', 'Pkt Len Std', 'Pkt Len Mean', 'Pkt Size Avg', 'Tot Bwd Pkts', 'Pkt Len Min'], 'Adv sample 147': ['Fwd Pkt Len Std', 'Fwd Pkt Len Max', 'Flow Byts/s', 'Bwd Header Len', 'Fwd Pkt Len Mean', 'Pkt Len Max', 'Pkt Len Std', 'Pkt Len Mean', 'Fwd Pkt Len Min', 'TotLen Bwd Pkts'], 'Adv sample 148': ['Fwd Pkt Len Max', 'Fwd Pkt Len Std', 'Fwd Pkt Len Mean', 'Pkt Len Std', 'Flow Byts/s', 'Bwd Header Len', 'Pkt Len Mean', 'Pkt Size Avg', 'Pkt Len Max', 'Init Bwd Win Byts'], 'Adv sample 149': ['Fwd Pkt Len Std', 'Fwd Pkt Len Max', 'Bwd Header Len', 'Flow Byts/s', 'Fwd Pkt Len Min', 'Pkt Len Std', 'Fwd Pkt Len Mean', 'Pkt Len Min', 'Pkt Len Max', 'Pkt Len Mean'], 'Adv sample 150': ['Fwd Pkt Len Max', 'Fwd Pkt Len Std', 'Flow Byts/s', 'Fwd Pkt Len Mean', 'Fwd Seg Size Avg', 'Pkt Len Std', 'Pkt Size Avg', 'Pkt Len Mean', 'Pkt Len Max', 'Pkt Len Min'], 'Adv sample 151': ['Fwd Pkt Len Max', 'Pkt Size Avg', 'Fwd Pkt Len Std', 'Pkt Len Std', 'Pkt Len Max', 'Tot Bwd Pkts', 'Fwd Pkt Len Mean', 'Fwd Seg Size Avg', 'Init Bwd Win Byts', 'Pkt Len Min'], 'Adv sample 152': ['Bwd Header Len', 'Fwd Pkt Len Max', 'Fwd Pkt Len Std', 'Fwd Pkt Len Mean', 'Pkt Len Std', 'Pkt Len Max', 'Fwd Seg Size Avg', 'Pkt Len Mean', 'Pkt Size Avg', 'Pkt Len Min'], 'Adv sample 153': ['Flow Duration', 'SYN Flag Cnt', 'URG Flag Cnt', 'Fwd Pkts/b Avg', 'Bwd Byts/b Avg', 'Idle Std', 'Fwd Header Len', 'Flow Byts/s', 'Bwd Pkt Len Mean', 'Active Max'], 'Adv sample 154': ['Fwd Pkt Len Std', 'Fwd Pkt Len Mean', 'Bwd Header Len', 'Fwd Seg Size Avg', 'Pkt Len Max', 'Pkt Size Avg', 'Pkt Len Mean', 'Fwd Pkt Len Min', 'Init Bwd Win Byts', 'Pkt Len Min'], 'Adv sample 155': ['SYN Flag Cnt', 'Flow Duration', 'Bwd Seg Size Avg', 'Fwd Pkts/s', 'PSH Flag Cnt', 'Fwd Seg Size Avg', 'URG Flag Cnt', 'Bwd PSH Flags', 'Pkt Len Min', 'Bwd Pkt Len Mean'], 'Adv sample 156': ['Fwd Pkt Len Max', 'Fwd Pkt Len Std', 'Flow Byts/s', 'Pkt Len Min', 'Pkt Len Max', 'Pkt Size Avg', 'Init Bwd Win Byts', 'Fwd Pkt Len Mean', 'Fwd Pkt Len Min', 'Pkt Len Std'], 'Adv sample 157': ['Fwd Pkt Len Max', 'Fwd Pkt Len Std', 'Fwd Pkt Len Mean', 'Bwd Header Len', 'Pkt Len Std', 'Pkt Len Max', 'Pkt Size Avg', 'Fwd Seg Size Avg', 'Init Bwd Win Byts', 'Fwd Pkt Len Min'], 'Adv sample 158': ['SYN Flag Cnt', 'Flow Duration', 'URG Flag Cnt', 'Bwd PSH Flags', 'Bwd Pkt Len Mean', 'Fwd Pkts/b Avg', 'Idle Mean', 'ACK Flag Cnt', 'Pkt Len Std', 'Bwd Seg Size Avg'], 'Adv sample 159': ['Fwd Pkt Len Max', 'Fwd Pkt Len Std', 'Fwd Pkt Len Mean', 'Pkt Len Mean', 'Pkt Len Std', 'Pkt Len Max', 'Bwd Header Len', 'Fwd Seg Size Avg', 'Pkt Size Avg', 'Init Bwd Win Byts'], 'Adv sample 160': ['Fwd Pkt Len Std', 'Fwd Pkt Len Max', 'Bwd Header Len', 'Pkt Len Max', 'Flow Byts/s', 'Pkt Size Avg', 'Fwd Pkt Len Mean', 'Pkt Len Std', 'Pkt Len Min', 'Fwd Seg Size Avg'], 'Adv sample 161': ['Fwd Pkt Len Std', 'Fwd Pkt Len Max', 'Bwd Header Len', 'Pkt Len Std', 'Fwd Pkt Len Mean', 'Pkt Len Max', 'Pkt Len Min', 'Flow Byts/s', 'Fwd Seg Size Avg', 'Pkt Size Avg'], 'Adv sample 162': ['Bwd Header Len', 'Fwd Pkt Len Std', 'Pkt Size Avg', 'Fwd Pkt Len Max', 'Flow Byts/s', 'Init Bwd Win Byts', 'Fwd Seg Size Avg', 'Pkt Len Std', 'Fwd Pkt Len Mean', 'Pkt Len Max'], 'Adv sample 163': ['Bwd Header Len', 'Fwd Pkt Len Max', 'Fwd Pkt Len Std', 'Pkt Len Std', 'Fwd Seg Size Avg', 'Fwd Pkt Len Mean', 'Pkt Len Mean', 'Bwd Pkt Len Min', 'Pkt Len Max', 'Flow Byts/s'], 'Adv sample 164': ['Fwd Pkt Len Mean', 'Fwd Pkt Len Std', 'Flow Byts/s', 'Fwd Seg Size Avg', 'Pkt Size Avg', 'Fwd Pkt Len Max', 'Pkt Len Mean', 'Pkt Len Max', 'Pkt Len Min', 'Init Bwd Win Byts'], 'Adv sample 165': ['Fwd Pkt Len Std', 'Fwd Pkt Len Max', 'Fwd Seg Size Avg', 'Pkt Len Max', 'Pkt Len Mean', 'Bwd Header Len', 'Pkt Len Std', 'Fwd Pkt Len Mean', 'Pkt Len Min', 'Pkt Size Avg'], 'Adv sample 166': ['Fwd Pkt Len Max', 'Fwd Pkt Len Std', 'Pkt Len Std', 'Flow Byts/s', 'Pkt Len Max', 'Fwd Seg Size Avg', 'Pkt Size Avg', 'Fwd Pkt Len Mean', 'Bwd Header Len', 'Pkt Len Mean'], 'Adv sample 167': ['Fwd Pkt Len Max', 'Fwd Pkt Len Std', 'Fwd Seg Size Avg', 'Fwd Pkt Len Mean', 'Pkt Size Avg', 'Bwd Header Len', 'Pkt Len Max', 'Init Bwd Win Byts', 'Pkt Len Std', 'Pkt Len Mean'], 'Adv sample 168': ['Fwd Pkt Len Max', 'Fwd Pkt Len Std', 'Bwd Header Len', 'Flow Byts/s', 'Fwd Pkt Len Min', 'Pkt Len Std', 'Pkt Size Avg', 'Fwd Pkt Len Mean', 'Pkt Len Max', 'Init Bwd Win Byts'], 'Adv sample 169': ['Fwd Pkt Len Std', 'Fwd Pkt Len Max', 'Fwd Seg Size Avg', 'Bwd Header Len', 'Fwd Pkt Len Mean', 'Pkt Len Std', 'Pkt Len Max', 'Pkt Size Avg', 'Pkt Len Min', 'Fwd Pkt Len Min'], 'Adv sample 170': ['Fwd Pkt Len Std', 'Bwd Header Len', 'Fwd Pkt Len Max', 'Flow Byts/s', 'Tot Bwd Pkts', 'Pkt Len Std', 'Pkt Len Max', 'Fwd IAT Std', 'Init Bwd Win Byts', 'Bwd Pkt Len Min'], 'Adv sample 171': ['Fwd Pkt Len Std', 'Fwd Pkt Len Max', 'Bwd Header Len', 'Fwd Pkt Len Mean', 'Pkt Len Std', 'Init Bwd Win Byts', 'Flow Byts/s', 'Fwd Pkt Len Min', 'Pkt Size Avg', 'Fwd Seg Size Avg'], 'Adv sample 172': ['Fwd Pkt Len Max', 'Flow Byts/s', 'Bwd Header Len', 'Pkt Len Std', 'Fwd Pkt Len Std', 'Fwd Pkt Len Mean', 'Pkt Len Max', 'Init Bwd Win Byts', 'Bwd Pkt Len Max', 'Pkt Len Mean'], 'Adv sample 173': ['Fwd Pkt Len Std', 'Fwd Pkt Len Max', 'Bwd Header Len', 'Fwd Pkt Len Mean', 'Pkt Len Std', 'Fwd Seg Size Avg', 'Pkt Size Avg', 'Init Bwd Win Byts', 'Pkt Len Max', 'Pkt Len Mean'], 'Adv sample 174': ['Fwd Pkt Len Std', 'Fwd Pkt Len Mean', 'Pkt Size Avg', 'Pkt Len Max', 'Fwd Seg Size Avg', 'Bwd Header Len', 'Pkt Len Mean', 'Fwd Pkt Len Min', 'Init Bwd Win Byts', 'Pkt Len Min'], 'Adv sample 175': ['Fwd Pkt Len Std', 'Fwd Pkt Len Max', 'Bwd Header Len', 'Flow Byts/s', 'Fwd Pkt Len Mean', 'Init Bwd Win Byts', 'Fwd Seg Size Avg', 'Pkt Len Std', 'Pkt Len Max', 'Pkt Len Mean'], 'Adv sample 176': ['Fwd Pkt Len Max', 'Fwd Seg Size Avg', 'Flow Byts/s', 'Pkt Len Var', 'Flow Pkts/s', 'Bwd IAT Tot', 'Fwd PSH Flags', 'Bwd Pkt Len Min', 'Bwd Pkt Len Mean', 'Fwd Pkt Len Mean'], 'Adv sample 177': ['Fwd Pkt Len Max', 'Fwd Pkt Len Std', 'Bwd Header Len', 'Pkt Len Std', 'Fwd Pkt Len Mean', 'Flow Byts/s', 'Fwd Seg Size Avg', 'Pkt Len Mean', 'Pkt Len Min', 'Pkt Size Avg'], 'Adv sample 178': ['Fwd Pkt Len Std', 'Fwd Pkt Len Max', 'Bwd Header Len', 'Flow Byts/s', 'Fwd Seg Size Avg', 'Fwd Pkt Len Mean', 'Pkt Len Std', 'Pkt Len Max', 'Tot Bwd Pkts', 'Pkt Len Var'], 'Adv sample 179': ['Fwd Pkt Len Std', 'Fwd Pkt Len Max', 'Bwd Header Len', 'Pkt Len Max', 'Fwd Pkt Len Mean', 'Pkt Len Mean', 'Fwd Pkt Len Min', 'Pkt Len Std', 'Pkt Size Avg', 'Pkt Len Min'], 'Adv sample 180': ['Bwd Header Len', 'Flow Byts/s', 'Pkt Len Std', 'Pkt Len Max', 'Bwd Pkt Len Std', 'Tot Bwd Pkts', 'Init Bwd Win Byts', 'Bwd Byts/b Avg', 'Idle Mean', 'Fwd PSH Flags'], 'Adv sample 181': ['Fwd Pkt Len Std', 'Fwd Pkt Len Mean', 'Fwd Seg Size Avg', 'Bwd Header Len', 'Pkt Len Mean', 'Pkt Size Avg', 'Pkt Len Max', 'Fwd Pkt Len Min', 'Pkt Len Min', 'Init Bwd Win Byts'], 'Adv sample 182': ['Fwd Pkt Len Std', 'Fwd Pkt Len Max', 'Bwd Header Len', 'Pkt Len Max', 'Fwd Pkt Len Mean', 'Fwd Seg Size Avg', 'Flow Byts/s', 'Pkt Size Avg', 'Pkt Len Std', 'Pkt Len Mean'], 'Adv sample 183': ['Fwd Pkt Len Max', 'Fwd Pkt Len Std', 'Flow Byts/s', 'Pkt Len Std', 'Bwd Header Len', 'Pkt Size Avg', 'Fwd Pkt Len Mean', 'Fwd Pkt Len Min', 'Fwd Seg Size Avg', 'Pkt Len Mean'], 'Adv sample 184': ['Fwd Pkt Len Std', 'Fwd Pkt Len Max', 'Bwd Header Len', 'Pkt Len Max', 'Fwd Seg Size Avg', 'Pkt Len Std', 'Fwd Pkt Len Mean', 'Pkt Len Mean', 'Pkt Size Avg', 'Init Bwd Win Byts'], 'Adv sample 185': ['Bwd Header Len', 'Fwd Pkt Len Max', 'Fwd Pkt Len Std', 'Pkt Len Std', 'Pkt Len Max', 'Fwd Pkt Len Mean', 'Pkt Size Avg', 'Pkt Len Mean', 'Fwd Seg Size Avg', 'Pkt Len Min'], 'Adv sample 186': ['Flow Duration', 'SYN Flag Cnt', 'Bwd Seg Size Avg', 'Fwd IAT Mean', 'Idle Mean', 'FIN Flag Cnt', 'ACK Flag Cnt', 'Bwd PSH Flags', 'Fwd IAT Tot', 'URG Flag Cnt'], 'Adv sample 187': ['Fwd Pkt Len Max', 'Fwd Pkt Len Std', 'Bwd Header Len', 'Flow Byts/s', 'Pkt Len Std', 'Fwd Pkt Len Mean', 'Fwd Pkt Len Min', 'Pkt Size Avg', 'Pkt Len Max', 'Pkt Len Mean'], 'Adv sample 188': ['Fwd Pkt Len Max', 'Fwd Pkt Len Std', 'Bwd Header Len', 'Fwd Pkt Len Mean', 'Pkt Len Std', 'Pkt Len Max', 'Fwd Seg Size Avg', 'Init Bwd Win Byts', 'Pkt Size Avg', 'Pkt Len Mean'], 'Adv sample 189': ['Fwd Pkt Len Max', 'Fwd Pkt Len Std', 'Bwd Header Len', 'Flow Byts/s', 'Pkt Len Std', 'Fwd Pkt Len Min', 'Fwd Pkt Len Mean', 'Pkt Len Max', 'Pkt Size Avg', 'Pkt Len Mean'], 'Adv sample 190': ['Fwd Pkt Len Std', 'Flow Byts/s', 'Bwd Header Len', 'Pkt Len Max', 'Fwd Pkt Len Max', 'Pkt Len Std', 'Fwd Pkt Len Mean', 'Pkt Size Avg', 'Init Bwd Win Byts', 'Fwd Pkt Len Min'], 'Adv sample 191': ['Fwd Pkt Len Std', 'Fwd Pkt Len Max', 'Bwd Header Len', 'Fwd Pkt Len Mean', 'Fwd Seg Size Avg', 'Pkt Len Std', 'Pkt Len Max', 'Pkt Len Mean', 'Pkt Size Avg', 'Tot Bwd Pkts'], 'Adv sample 192': ['Fwd Pkt Len Max', 'Fwd Pkt Len Std', 'Bwd Header Len', 'Flow Byts/s', 'Fwd Pkt Len Mean', 'Fwd Seg Size Avg', 'Pkt Len Std', 'Pkt Len Max', 'Pkt Len Var', 'Tot Bwd Pkts'], 'Adv sample 193': ['Fwd Pkt Len Std', 'Fwd Pkt Len Max', 'Bwd Header Len', 'Pkt Len Std', 'Pkt Len Max', 'Fwd Pkt Len Mean', 'Pkt Size Avg', 'Init Bwd Win Byts', 'Fwd Pkt Len Min', 'Pkt Len Mean'], 'Adv sample 194': ['Fwd Pkt Len Std', 'Fwd Pkt Len Max', 'Bwd Header Len', 'Pkt Len Std', 'Pkt Len Max', 'Fwd Pkt Len Mean', 'Fwd Seg Size Avg', 'Flow Byts/s', 'Pkt Size Avg', 'Pkt Len Min'], 'Adv sample 195': ['Fwd Pkt Len Max', 'Fwd Pkt Len Std', 'Bwd Header Len', 'Flow Byts/s', 'Fwd Pkt Len Mean', 'Fwd Seg Size Avg', 'Pkt Len Max', 'Pkt Len Std', 'Pkt Len Var', 'Tot Bwd Pkts'], 'Adv sample 196': ['Fwd Pkt Len Std', 'Fwd Pkt Len Max', 'Pkt Len Std', 'Pkt Size Avg', 'Bwd Header Len', 'Fwd Pkt Len Mean', 'Pkt Len Max', 'Fwd Seg Size Avg', 'Pkt Len Min', 'Init Bwd Win Byts'], 'Adv sample 197': ['Fwd Pkt Len Std', 'Fwd Pkt Len Max', 'Bwd Header Len', 'Pkt Len Std', 'Fwd Pkt Len Mean', 'Pkt Len Max', 'Fwd Seg Size Avg', 'Pkt Len Min', 'Fwd Pkt Len Min', 'Pkt Size Avg'], 'Adv sample 198': ['Fwd Pkt Len Max', 'Bwd Header Len', 'Fwd Pkt Len Std', 'Flow Byts/s', 'Pkt Len Std', 'Init Bwd Win Byts', 'Fwd Seg Size Avg', 'Pkt Size Avg', 'Pkt Len Mean', 'Pkt Len Min'], 'Adv sample 199': ['Fwd Pkt Len Max', 'Fwd Pkt Len Mean', 'Fwd Pkt Len Std', 'Flow Byts/s', 'Pkt Len Mean', 'Pkt Size Avg', 'Fwd Seg Size Avg', 'Pkt Len Std', 'Init Bwd Win Byts', 'Pkt Len Max'], 'Adv sample 200': ['Fwd Pkt Len Std', 'Bwd Header Len', 'Fwd Pkt Len Max', 'Fwd Seg Size Avg', 'Pkt Len Std', 'Flow Byts/s', 'Fwd Pkt Len Mean', 'Pkt Size Avg', 'Pkt Len Mean', 'Pkt Len Max'], 'Adv sample 201': ['Fwd Pkt Len Std', 'Fwd Pkt Len Max', 'Bwd Header Len', 'Pkt Len Std', 'Fwd Pkt Len Mean', 'Pkt Len Max', 'Pkt Size Avg', 'Pkt Len Min', 'Fwd Seg Size Avg', 'Fwd Pkt Len Min'], 'Adv sample 202': ['Bwd Header Len', 'Fwd Pkt Len Std', 'Fwd Pkt Len Max', 'Pkt Len Std', 'Pkt Size Avg', 'Pkt Len Mean', 'Fwd Pkt Len Mean', 'Pkt Len Max', 'Fwd Seg Size Avg', 'Pkt Len Min'], 'Adv sample 203': ['Fwd Pkt Len Max', 'Fwd Pkt Len Std', 'Bwd Header Len', 'Fwd Pkt Len Mean', 'Fwd Seg Size Avg', 'Pkt Len Std', 'Pkt Len Mean', 'Pkt Len Min', 'Pkt Size Avg', 'Fwd Pkt Len Min'], 'Adv sample 204': ['Fwd Pkt Len Max', 'Bwd Header Len', 'Fwd Pkt Len Std', 'Fwd Pkt Len Mean', 'Pkt Len Max', 'Pkt Len Std', 'Fwd Pkt Len Min', 'Flow Byts/s', 'Pkt Len Mean', 'Pkt Len Min'], 'Adv sample 205': ['Fwd Pkt Len Std', 'Fwd Pkt Len Max', 'Fwd Pkt Len Mean', 'Flow Byts/s', 'Fwd Seg Size Avg', 'Pkt Len Max', 'Pkt Size Avg', 'Pkt Len Mean', 'Pkt Len Std', 'Fwd Pkt Len Min'], 'Adv sample 206': ['Fwd Pkt Len Std', 'Pkt Len Std', 'Fwd Pkt Len Max', 'Flow Byts/s', 'Bwd Header Len', 'Pkt Len Mean', 'Fwd Pkt Len Mean', 'Pkt Len Min', 'Pkt Len Max', 'Pkt Size Avg'], 'Adv sample 207': ['Bwd Header Len', 'Fwd Pkt Len Max', 'Fwd Pkt Len Mean', 'Fwd Pkt Len Std', 'Pkt Len Min', 'Pkt Len Std', 'Flow Byts/s', 'Pkt Len Max', 'Fwd Pkt Len Min', 'Pkt Size Avg'], 'Adv sample 208': ['Fwd Pkt Len Max', 'Fwd Pkt Len Std', 'Bwd Header Len', 'Pkt Len Std', 'Fwd Pkt Len Mean', 'Fwd Pkt Len Min', 'Pkt Len Max', 'Pkt Size Avg', 'Init Bwd Win Byts', 'Fwd Seg Size Avg'], 'Adv sample 209': ['Fwd Pkt Len Std', 'Fwd Pkt Len Max', 'Pkt Len Std', 'Bwd Header Len', 'Flow Byts/s', 'Pkt Len Mean', 'Pkt Size Avg', 'Pkt Len Max', 'Fwd Pkt Len Mean', 'Pkt Len Min'], 'Adv sample 210': ['Bwd Header Len', 'Fwd Pkt Len Max', 'Fwd Pkt Len Std', 'Pkt Len Max', 'Pkt Len Std', 'Pkt Size Avg', 'Fwd Pkt Len Mean', 'Fwd Pkt Len Min', 'Pkt Len Mean', 'Fwd Seg Size Avg'], 'Adv sample 211': ['Fwd Pkt Len Max', 'Fwd Pkt Len Std', 'Bwd Header Len', 'Fwd Seg Size Avg', 'Flow Byts/s', 'Pkt Len Std', 'Fwd Pkt Len Mean', 'Pkt Len Mean', 'Fwd Pkt Len Min', 'Pkt Len Min'], 'Adv sample 212': ['Fwd Pkt Len Max', 'Fwd Pkt Len Std', 'Fwd Pkt Len Mean', 'Flow Byts/s', 'Init Bwd Win Byts', 'Fwd Seg Size Avg', 'Pkt Len Std', 'Fwd Pkt Len Min', 'Pkt Len Mean', 'Pkt Len Max'], 'Adv sample 213': ['Fwd Pkt Len Max', 'Fwd Pkt Len Std', 'Bwd Header Len', 'Pkt Len Std', 'Flow Byts/s', 'Fwd Pkt Len Min', 'Fwd Pkt Len Mean', 'Pkt Len Min', 'Fwd Seg Size Avg', 'Bwd Pkt Len Std'], 'Adv sample 214': ['Fwd Pkt Len Std', 'Fwd Pkt Len Max', 'Bwd Header Len', 'Pkt Len Std', 'Fwd Pkt Len Mean', 'Pkt Len Max', 'Fwd Seg Size Avg', 'Pkt Len Mean', 'Init Bwd Win Byts', 'Pkt Size Avg'], 'Adv sample 215': ['Fwd Pkt Len Max', 'Fwd Pkt Len Std', 'Bwd Header Len', 'Fwd Pkt Len Mean', 'Pkt Len Std', 'Pkt Len Max', 'Fwd Seg Size Avg', 'Pkt Size Avg', 'Fwd Pkt Len Min', 'Pkt Len Mean'], 'Adv sample 216': ['Fwd Pkt Len Max', 'Bwd Header Len', 'Fwd Pkt Len Std', 'Pkt Len Std', 'Fwd Pkt Len Mean', 'Fwd Pkt Len Min', 'Fwd Seg Size Avg', 'Pkt Len Mean', 'Pkt Len Max', 'Pkt Size Avg'], 'Adv sample 217': ['Fwd Pkt Len Max', 'Fwd Pkt Len Std', 'Bwd Header Len', 'Fwd Pkt Len Mean', 'Fwd Seg Size Avg', 'Pkt Len Std', 'Pkt Len Max', 'Fwd Pkt Len Min', 'Pkt Size Avg', 'Pkt Len Min'], 'Adv sample 218': ['Bwd Header Len', 'Fwd Pkt Len Std', 'Fwd Pkt Len Max', 'Fwd Pkt Len Mean', 'Fwd Pkt Len Min', 'Pkt Len Std', 'Flow Byts/s', 'Pkt Size Avg', 'Pkt Len Max', 'Pkt Len Mean'], 'Adv sample 219': ['Fwd Pkt Len Max', 'Fwd Pkt Len Std', 'Bwd Header Len', 'Init Bwd Win Byts', 'Pkt Len Std', 'Fwd Pkt Len Mean', 'Fwd Seg Size Avg', 'Pkt Len Max', 'Flow Byts/s', 'Pkt Len Min'], 'Adv sample 220': ['Fwd Pkt Len Max', 'Fwd Pkt Len Std', 'Fwd Pkt Len Mean', 'Bwd Header Len', 'Pkt Len Std', 'Pkt Len Max', 'Fwd Pkt Len Min', 'Fwd Seg Size Avg', 'Pkt Size Avg', 'Init Bwd Win Byts'], 'Adv sample 221': ['Fwd Pkt Len Max', 'Flow Byts/s', 'Fwd Pkt Len Std', 'Bwd Header Len', 'Init Bwd Win Byts', 'Fwd Pkt Len Mean', 'Pkt Len Std', 'Pkt Len Max', 'Fwd Seg Size Avg', 'Pkt Size Avg'], 'Adv sample 222': ['Fwd Pkt Len Std', 'Fwd Pkt Len Max', 'Flow Byts/s', 'Bwd Header Len', 'Fwd Pkt Len Mean', 'Pkt Len Min', 'Pkt Len Max', 'Fwd Pkt Len Min', 'Pkt Len Std', 'Pkt Size Avg'], 'Adv sample 223': ['Fwd Pkt Len Std', 'Fwd Pkt Len Max', 'Pkt Len Std', 'Fwd Pkt Len Mean', 'Bwd Header Len', 'Flow Byts/s', 'Fwd Pkt Len Min', 'Fwd Seg Size Avg', 'Pkt Size Avg', 'Pkt Len Min'], 'Adv sample 224': ['Fwd Pkt Len Max', 'Fwd Pkt Len Std', 'Pkt Len Std', 'Fwd Seg Size Avg', 'Fwd Pkt Len Mean', 'Pkt Len Max', 'Init Bwd Win Byts', 'Pkt Len Mean', 'Pkt Len Min', 'Fwd Pkt Len Min'], 'Adv sample 225': ['Fwd Pkt Len Max', 'Fwd Pkt Len Std', 'Flow Byts/s', 'Bwd Header Len', 'Pkt Len Std', 'Fwd Seg Size Avg', 'Init Bwd Win Byts', 'Pkt Len Mean', 'Fwd Pkt Len Mean', 'Pkt Len Min'], 'Adv sample 226': ['Bwd Header Len', 'Fwd Pkt Len Std', 'Fwd Pkt Len Max', 'Pkt Len Max', 'Fwd Pkt Len Mean', 'Pkt Len Std', 'Fwd Seg Size Avg', 'Flow Byts/s', 'Pkt Len Mean', 'Pkt Size Avg'], 'Adv sample 227': ['Bwd Header Len', 'Fwd Pkt Len Max', 'Flow Byts/s', 'Pkt Len Std', 'Fwd Seg Size Avg', 'Fwd Pkt Len Std', 'Fwd Pkt Len Min', 'Pkt Len Mean', 'Fwd Pkt Len Mean', 'Pkt Size Avg'], 'Adv sample 228': ['Fwd Pkt Len Std', 'Pkt Len Max', 'Fwd Pkt Len Mean', 'Pkt Len Std', 'Pkt Len Mean', 'Bwd Header Len', 'Fwd Seg Size Avg', 'Pkt Size Avg', 'Fwd Pkt Len Max', 'Fwd Pkt Len Min'], 'Adv sample 229': ['Fwd Pkt Len Std', 'Fwd Pkt Len Mean', 'Bwd Header Len', 'Pkt Size Avg', 'Fwd Seg Size Avg', 'Pkt Len Max', 'Pkt Len Mean', 'Pkt Len Min', 'Init Bwd Win Byts', 'Fwd Pkt Len Min'], 'Adv sample 230': ['Fwd Pkt Len Max', 'Bwd Header Len', 'Fwd Pkt Len Std', 'Fwd Pkt Len Mean', 'Pkt Len Std', 'Pkt Len Max', 'Pkt Len Min', 'Fwd Pkt Len Min', 'Fwd Seg Size Avg', 'Pkt Size Avg'], 'Adv sample 231': ['Fwd Pkt Len Max', 'Fwd Pkt Len Std', 'Bwd Header Len', 'Fwd Pkt Len Mean', 'Pkt Len Std', 'Fwd Seg Size Avg', 'Init Bwd Win Byts', 'Pkt Size Avg', 'Fwd Pkt Len Min', 'Pkt Len Max'], 'Adv sample 232': ['Fwd Pkt Len Max', 'Bwd Header Len', 'Fwd Pkt Len Min', 'Fwd Pkt Len Std', 'Flow Byts/s', 'Pkt Len Mean', 'Pkt Size Avg', 'Fwd Pkt Len Mean', 'Pkt Len Max', 'Pkt Len Std'], 'Adv sample 233': ['Fwd Pkt Len Max', 'Fwd Pkt Len Std', 'Fwd Pkt Len Mean', 'Flow Byts/s', 'Fwd Seg Size Avg', 'Pkt Len Min', 'Pkt Size Avg', 'Pkt Len Std', 'Pkt Len Max', 'Pkt Len Mean'], 'Adv sample 234': ['Fwd Pkt Len Std', 'Fwd Pkt Len Max', 'Fwd Pkt Len Mean', 'Fwd Seg Size Avg', 'Bwd Header Len', 'Pkt Len Max', 'Pkt Size Avg', 'Fwd Pkt Len Min', 'Init Bwd Win Byts', 'Pkt Len Std'], 'Adv sample 235': ['Fwd Pkt Len Max', 'Fwd Pkt Len Std', 'Pkt Len Max', 'Bwd Header Len', 'Fwd Pkt Len Mean', 'Pkt Len Mean', 'Pkt Len Std', 'Pkt Size Avg', 'Flow Byts/s', 'Init Bwd Win Byts'], 'Adv sample 236': ['Fwd Pkt Len Std', 'Fwd Pkt Len Max', 'Bwd Header Len', 'Flow Byts/s', 'Fwd Pkt Len Mean', 'Fwd Seg Size Avg', 'Pkt Len Std', 'Pkt Len Max', 'Tot Bwd Pkts', 'Bwd Pkt Len Max'], 'Adv sample 237': ['Fwd Pkt Len Std', 'Fwd Pkt Len Mean', 'Fwd Pkt Len Max', 'Flow Byts/s', 'Fwd Seg Size Avg', 'Pkt Len Max', 'Fwd Pkt Len Min', 'Pkt Len Min', 'Pkt Len Std', 'Pkt Len Mean'], 'Adv sample 238': ['Fwd Pkt Len Max', 'Fwd Pkt Len Std', 'Bwd Header Len', 'Flow Byts/s', 'Fwd Pkt Len Mean', 'Fwd Seg Size Avg', 'Pkt Len Max', 'Pkt Len Std', 'Bwd Pkt Len Max', 'Pkt Len Var'], 'Adv sample 239': ['Fwd Pkt Len Max', 'Bwd Header Len', 'Fwd Pkt Len Std', 'Fwd Pkt Len Mean', 'Fwd Pkt Len Min', 'Flow Byts/s', 'Pkt Len Std', 'Pkt Len Mean', 'Pkt Len Max', 'Fwd Seg Size Avg'], 'Adv sample 240': ['Fwd Pkt Len Max', 'Fwd Pkt Len Std', 'Bwd Header Len', 'Pkt Size Avg', 'Fwd Seg Size Avg', 'Pkt Len Mean', 'Pkt Len Max', 'Fwd Pkt Len Mean', 'Pkt Len Std', 'Fwd Pkt Len Min'], 'Adv sample 241': ['Fwd Pkt Len Std', 'Fwd Pkt Len Max', 'Flow Byts/s', 'Bwd Header Len', 'Init Bwd Win Byts', 'Fwd Pkt Len Min', 'Pkt Size Avg', 'Fwd Pkt Len Mean', 'Pkt Len Mean', 'Pkt Len Std'], 'Adv sample 242': ['Fwd Pkt Len Max', 'Fwd Pkt Len Std', 'Fwd Pkt Len Mean', 'Flow Byts/s', 'Fwd Seg Size Avg', 'Pkt Len Std', 'Pkt Size Avg', 'Pkt Len Max', 'Pkt Len Mean', 'Fwd Pkt Len Min'], 'Adv sample 243': ['Fwd Pkt Len Std', 'Fwd Pkt Len Mean', 'Pkt Len Max', 'Bwd Header Len', 'Fwd Seg Size Avg', 'Fwd Pkt Len Min', 'Pkt Len Mean', 'Init Bwd Win Byts', 'Pkt Size Avg', 'Pkt Len Min'], 'Adv sample 244': ['Fwd Pkt Len Max', 'Pkt Len Std', 'Fwd Seg Size Avg', 'Flow Byts/s', 'Fwd IAT Tot', 'Pkt Len Var', 'Subflow Bwd Pkts', 'Tot Fwd Pkts', 'Bwd IAT Tot', 'Tot Bwd Pkts'], 'Adv sample 245': ['Flow Byts/s', 'Fwd Pkt Len Max', 'Fwd Pkt Len Std', 'Bwd Header Len', 'Pkt Len Max', 'Pkt Len Std', 'Pkt Size Avg', 'Fwd Pkt Len Mean', 'Fwd Pkt Len Min', 'Fwd Seg Size Avg'], 'Adv sample 246': ['Fwd Pkt Len Std', 'Fwd Pkt Len Max', 'Flow Byts/s', 'Pkt Len Std', 'Bwd Header Len', 'Fwd Pkt Len Mean', 'Tot Bwd Pkts', 'Pkt Len Mean', 'Init Bwd Win Byts', 'Fwd Seg Size Avg'], 'Adv sample 247': ['Fwd Pkt Len Std', 'Fwd Pkt Len Max', 'Bwd Header Len', 'Pkt Len Std', 'Pkt Len Max', 'Fwd Pkt Len Mean', 'Flow Byts/s', 'Fwd Seg Size Avg', 'Init Bwd Win Byts', 'Fwd Pkt Len Min'], 'Adv sample 248': ['SYN Flag Cnt', 'Fwd Pkts/b Avg', 'URG Flag Cnt', 'Flow Duration', 'TotLen Bwd Pkts', 'Fwd Pkt Len Min', 'FIN Flag Cnt', 'Tot Fwd Pkts', 'Idle Mean', 'Active Std'], 'Adv sample 249': ['Fwd Pkt Len Max', 'Fwd Pkt Len Std', 'Bwd Header Len', 'Fwd Pkt Len Mean', 'Flow Byts/s', 'Pkt Len Mean', 'Pkt Len Std', 'Fwd Seg Size Avg', 'Fwd Pkt Len Min', 'Init Bwd Win Byts'], 'Adv sample 250': ['Fwd Pkt Len Std', 'Fwd Pkt Len Max', 'Flow Byts/s', 'Bwd Header Len', 'Pkt Len Std', 'Fwd Seg Size Avg', 'Fwd Pkt Len Mean', 'Pkt Len Mean', 'Pkt Size Avg', 'Fwd Pkt Len Min'], 'Adv sample 251': ['Bwd Header Len', 'Fwd Pkt Len Std', 'Fwd Pkt Len Max', 'Pkt Len Std', 'Pkt Len Max', 'Pkt Len Mean', 'Fwd Pkt Len Mean', 'Pkt Size Avg', 'Fwd Pkt Len Min', 'Fwd Seg Size Avg'], 'Adv sample 252': ['Fwd Pkt Len Max', 'Fwd Pkt Len Std', 'Pkt Len Std', 'Pkt Len Max', 'Bwd Header Len', 'Pkt Len Mean', 'Fwd Seg Size Avg', 'Fwd Pkt Len Mean', 'Pkt Size Avg', 'Fwd Pkt Len Min'], 'Adv sample 253': ['Fwd Pkt Len Max', 'Bwd Header Len', 'Flow Byts/s', 'Fwd Pkt Len Mean', 'Fwd Pkt Len Std', 'Pkt Len Std', 'Fwd Seg Size Avg', 'Init Bwd Win Byts', 'Pkt Len Mean', 'TotLen Fwd Pkts'], 'Adv sample 254': ['Fwd Pkt Len Max', 'Fwd Pkt Len Std', 'Pkt Size Avg', 'Flow Byts/s', 'Fwd Pkt Len Min', 'Pkt Len Mean', 'Idle Mean', 'Idle Min', 'Pkt Len Max', 'Idle Max'], 'Adv sample 255': ['Fwd Pkt Len Max', 'Fwd Pkt Len Std', 'Bwd Header Len', 'Fwd Pkt Len Mean', 'Fwd Seg Size Avg', 'Pkt Len Std', 'Flow Byts/s', 'Pkt Len Max', 'Pkt Size Avg', 'Fwd Pkt Len Min'], 'Adv sample 256': ['Bwd Header Len', 'Fwd Pkt Len Std', 'Fwd Pkt Len Max', 'Fwd Pkt Len Mean', 'Pkt Size Avg', 'Pkt Len Std', 'Pkt Len Mean', 'Fwd Seg Size Avg', 'Fwd Pkt Len Min', 'Pkt Len Max'], 'Adv sample 257': ['Fwd Pkt Len Std', 'Fwd Pkt Len Max', 'Bwd Header Len', 'Fwd Pkt Len Mean', 'Fwd Seg Size Avg', 'Pkt Len Std', 'Pkt Len Max', 'Fwd Pkt Len Min', 'Pkt Len Min', 'Pkt Len Mean'], 'Adv sample 258': ['Fwd Pkt Len Max', 'Fwd Pkt Len Std', 'Pkt Size Avg', 'Bwd Header Len', 'Fwd Pkt Len Mean', 'Flow Byts/s', 'Pkt Len Std', 'Pkt Len Max', 'Fwd Seg Size Avg', 'Pkt Len Mean'], 'Adv sample 259': ['Fwd Pkt Len Std', 'Fwd Pkt Len Max', 'Bwd Header Len', 'Flow Byts/s', 'Pkt Len Std', 'Fwd Pkt Len Mean', 'Fwd Pkt Len Min', 'Fwd Seg Size Avg', 'Pkt Len Mean', 'Pkt Len Min'], 'Adv sample 260': ['Fwd Pkt Len Std', 'Flow Byts/s', 'Fwd Pkt Len Max', 'Bwd Header Len', 'Fwd Pkt Len Min', 'Pkt Len Std', 'Fwd Pkt Len Mean', 'Pkt Size Avg', 'Init Bwd Win Byts', 'Pkt Len Mean'], 'Adv sample 261': ['Fwd Pkt Len Std', 'Init Bwd Win Byts', 'Fwd Pkt Len Max', 'Flow Byts/s', 'Pkt Len Std', 'Pkt Len Max', 'Pkt Len Mean', 'Tot Bwd Pkts', 'Fwd Pkt Len Mean', 'Fwd Seg Size Avg'], 'Adv sample 262': ['Fwd Pkt Len Max', 'Fwd Pkt Len Std', 'Fwd Pkt Len Mean', 'Fwd Seg Size Avg', 'Bwd Header Len', 'Pkt Size Avg', 'Pkt Len Std', 'Pkt Len Mean', 'Pkt Len Min', 'Pkt Len Max'], 'Adv sample 263': ['Flow Duration', 'SYN Flag Cnt', 'Bwd IAT Max', 'Fwd Pkts/b Avg', 'URG Flag Cnt', 'Fwd IAT Max', 'Idle Mean', 'Bwd Byts/b Avg', 'FIN Flag Cnt', 'Pkt Len Max'], 'Adv sample 264': ['Fwd Pkt Len Max', 'Fwd Pkt Len Std', 'Flow Byts/s', 'Bwd Header Len', 'Fwd Pkt Len Mean', 'Fwd Seg Size Avg', 'Pkt Len Max', 'Pkt Len Std', 'Init Bwd Win Byts', 'Pkt Len Var'], 'Adv sample 265': ['Flow Duration', 'SYN Flag Cnt', 'URG Flag Cnt', 'Bwd Byts/b Avg', 'Fwd Pkts/b Avg', 'Fwd Pkt Len Max', 'Subflow Fwd Pkts', 'ACK Flag Cnt', 'Fwd Pkts/s', 'Pkt Len Var'], 'Adv sample 266': ['Fwd Pkt Len Max', 'Fwd Pkt Len Std', 'Fwd Pkt Len Mean', 'Bwd Header Len', 'Pkt Size Avg', 'Pkt Len Min', 'Fwd Seg Size Avg', 'Pkt Len Std', 'Init Bwd Win Byts', 'Fwd Pkt Len Min'], 'Adv sample 267': ['Fwd Pkt Len Std', 'Fwd Pkt Len Max', 'Bwd Header Len', 'Fwd Pkt Len Mean', 'Flow Byts/s', 'Pkt Len Std', 'Fwd Seg Size Avg', 'Pkt Len Max', 'Pkt Size Avg', 'Fwd Pkt Len Min'], 'Adv sample 268': ['Fwd Pkt Len Std', 'Flow Byts/s', 'Fwd Pkt Len Max', 'Bwd Header Len', 'Fwd Pkt Len Mean', 'Pkt Len Std', 'Fwd Pkt Len Min', 'Pkt Len Min', 'Pkt Len Mean', 'Init Bwd Win Byts'], 'Adv sample 269': ['Pkt Len Std', 'Bwd Byts/b Avg', 'CWE Flag Count', 'Active Std', 'Idle Max', 'Bwd PSH Flags', 'Bwd Header Len', 'Fwd Blk Rate Avg', 'Active Min', 'Bwd IAT Mean'], 'Adv sample 270': ['Fwd Pkt Len Max', 'Fwd Pkt Len Std', 'Flow Byts/s', 'Fwd Pkt Len Mean', 'Fwd Seg Size Avg', 'Bwd Header Len', 'Pkt Len Mean', 'Pkt Size Avg', 'Pkt Len Std', 'Pkt Len Max'], 'Adv sample 271': ['Fwd Pkt Len Max', 'Fwd Pkt Len Std', 'Pkt Size Avg', 'Fwd Pkt Len Min', 'Flow Byts/s', 'Pkt Len Max', 'Pkt Len Mean', 'Init Bwd Win Byts', 'Idle Min', 'Idle Mean'], 'Adv sample 272': ['Flow Duration', 'Bwd IAT Mean', 'SYN Flag Cnt', 'Bwd PSH Flags', 'Pkt Size Avg', 'Fwd Pkts/b Avg', 'TotLen Fwd Pkts', 'Bwd Pkt Len Max', 'Bwd Byts/b Avg', 'Bwd Pkt Len Min'], 'Adv sample 273': ['Fwd Pkt Len Max', 'Bwd Header Len', 'Fwd Pkt Len Std', 'Flow Byts/s', 'Pkt Len Std', 'Fwd Pkt Len Min', 'Init Bwd Win Byts', 'Fwd Seg Size Avg', 'Pkt Len Max', 'Pkt Len Min'], 'Adv sample 274': ['Fwd Pkt Len Std', 'Fwd Pkt Len Max', 'Flow Byts/s', 'Bwd Header Len', 'Pkt Len Std', 'Fwd Pkt Len Min', 'Pkt Size Avg', 'Fwd Pkt Len Mean', 'Fwd Seg Size Avg', 'Pkt Len Max'], 'Adv sample 275': ['Fwd Pkt Len Std', 'Fwd Pkt Len Max', 'Flow Byts/s', 'Bwd Header Len', 'Fwd Pkt Len Mean', 'Pkt Len Std', 'Pkt Size Avg', 'Init Bwd Win Byts', 'Fwd Seg Size Avg', 'Fwd Pkt Len Min'], 'Adv sample 276': ['Fwd Pkt Len Max', 'Fwd Pkt Len Std', 'Bwd Header Len', 'Pkt Len Std', 'Pkt Len Mean', 'Fwd Pkt Len Min', 'Fwd Pkt Len Mean', 'Fwd Seg Size Avg', 'Init Bwd Win Byts', 'Pkt Len Max'], 'Adv sample 277': ['Fwd Pkt Len Std', 'Fwd Pkt Len Max', 'Fwd Pkt Len Mean', 'Pkt Size Avg', 'Pkt Len Std', 'Pkt Len Max', 'Init Bwd Win Byts', 'Bwd Header Len', 'Fwd Pkt Len Min', 'Fwd Seg Size Avg'], 'Adv sample 278': ['Fwd Pkt Len Max', 'Flow Byts/s', 'Bwd Header Len', 'Fwd Pkt Len Std', 'Pkt Len Mean', 'Fwd Seg Size Avg', 'Pkt Len Std', 'Fwd Pkt Len Mean', 'Fwd Pkt Len Min', 'Pkt Size Avg'], 'Adv sample 279': ['Fwd Pkt Len Std', 'Fwd Pkt Len Max', 'Fwd Pkt Len Mean', 'Pkt Len Std', 'Fwd Seg Size Avg', 'Flow Byts/s', 'Pkt Len Mean', 'Pkt Len Max', 'Pkt Len Min', 'Pkt Size Avg'], 'Adv sample 280': ['SYN Flag Cnt', 'Flow Duration', 'Subflow Fwd Byts', 'Bwd Seg Size Avg', 'URG Flag Cnt', 'FIN Flag Cnt', 'Idle Mean', 'Fwd IAT Mean', 'Fwd Pkts/b Avg', 'Bwd IAT Mean'], 'Adv sample 281': ['Fwd Pkt Len Max', 'Fwd Pkt Len Std', 'Flow Byts/s', 'Fwd Pkt Len Mean', 'Pkt Size Avg', 'Fwd Seg Size Avg', 'Pkt Len Std', 'Pkt Len Mean', 'Init Bwd Win Byts', 'Pkt Len Max'], 'Adv sample 282': ['Fwd Pkt Len Max', 'Fwd Pkt Len Std', 'Flow Byts/s', 'Bwd Header Len', 'Pkt Len Max', 'Fwd Pkt Len Min', 'Pkt Len Std', 'Pkt Len Mean', 'Fwd Pkt Len Mean', 'Fwd Seg Size Avg'], 'Adv sample 283': ['Fwd Pkt Len Max', 'Bwd Header Len', 'Fwd Pkt Len Std', 'Flow Byts/s', 'Pkt Len Std', 'Fwd Seg Size Avg', 'Fwd Pkt Len Mean', 'Pkt Len Mean', 'Pkt Len Max', 'Fwd Pkt Len Min'], 'Adv sample 284': ['SYN Flag Cnt', 'Flow Duration', 'URG Flag Cnt', 'Bwd PSH Flags', 'Fwd IAT Mean', 'Bwd IAT Max', 'FIN Flag Cnt', 'Bwd Seg Size Avg', 'Idle Min', 'Idle Mean'], 'Adv sample 285': ['Fwd Pkt Len Max', 'Flow Byts/s', 'Fwd Pkt Len Std', 'Bwd Header Len', 'Fwd Seg Size Avg', 'Pkt Len Min', 'Fwd Pkt Len Mean', 'Pkt Len Std', 'Pkt Len Max', 'Pkt Size Avg'], 'Adv sample 286': ['Fwd Pkt Len Max', 'Fwd Pkt Len Std', 'Fwd Pkt Len Mean', 'Flow Byts/s', 'Pkt Len Std', 'Fwd Seg Size Avg', 'Pkt Size Avg', 'Tot Bwd Pkts', 'Pkt Len Min', 'Fwd Pkt Len Min'], 'Adv sample 287': ['Fwd Pkt Len Max', 'Bwd Header Len', 'Fwd Pkt Len Std', 'Pkt Len Std', 'Fwd Pkt Len Mean', 'Fwd Seg Size Avg', 'Pkt Len Max', 'Pkt Len Min', 'Pkt Size Avg', 'Pkt Len Mean'], 'Adv sample 288': ['Flow Byts/s', 'Fwd Pkt Len Max', 'Bwd Header Len', 'Fwd Pkt Len Mean', 'Fwd Pkt Len Std', 'Pkt Len Max', 'Pkt Size Avg', 'Pkt Len Std', 'Pkt Len Mean', 'Fwd Seg Size Avg'], 'Adv sample 289': ['Fwd Pkt Len Max', 'Fwd Pkt Len Std', 'Flow Byts/s', 'Pkt Len Std', 'Fwd Pkt Len Mean', 'Bwd Header Len', 'Fwd Pkt Len Min', 'Pkt Len Max', 'Fwd Seg Size Avg', 'Init Bwd Win Byts'], 'Adv sample 290': ['Fwd Pkt Len Max', 'Flow Byts/s', 'Fwd Pkt Len Std', 'Init Bwd Win Byts', 'Pkt Len Max', 'Pkt Len Mean', 'Pkt Len Std', 'Pkt Size Avg', 'Fwd Pkt Len Min', 'Fwd Seg Size Avg'], 'Adv sample 291': ['Fwd Pkt Len Std', 'Fwd Pkt Len Mean', 'Pkt Len Max', 'Fwd Seg Size Avg', 'Bwd Header Len', 'Pkt Len Mean', 'Fwd Pkt Len Min', 'Init Bwd Win Byts', 'Pkt Size Avg', 'Pkt Len Min'], 'Adv sample 292': ['Flow Duration', 'SYN Flag Cnt', 'URG Flag Cnt', 'Bwd Pkt Len Max', 'Bwd Byts/b Avg', 'Fwd IAT Tot', 'Bwd URG Flags', 'Fwd IAT Mean', 'Bwd Seg Size Avg', 'Idle Mean'], 'Adv sample 293': ['Fwd Pkt Len Max', 'Bwd Header Len', 'Fwd Pkt Len Std', 'Flow Byts/s', 'Pkt Len Std', 'Fwd Seg Size Avg', 'Pkt Len Mean', 'Fwd Pkt Len Mean', 'Pkt Len Max', 'Fwd Pkt Len Min'], 'Adv sample 294': ['Flow Duration', 'SYN Flag Cnt', 'URG Flag Cnt', 'Bwd Byts/b Avg', 'Idle Mean', 'Bwd Seg Size Avg', 'Fwd Seg Size Avg', 'Fwd Header Len', 'Fwd Pkts/b Avg', 'TotLen Bwd Pkts'], 'Adv sample 295': ['Fwd Pkt Len Std', 'Fwd Pkt Len Mean', 'Bwd Header Len', 'Fwd Seg Size Avg', 'Pkt Len Max', 'Pkt Size Avg', 'Fwd Pkt Len Min', 'Pkt Len Mean', 'Pkt Len Min', 'Init Bwd Win Byts'], 'Adv sample 296': ['Bwd Header Len', 'Fwd Pkt Len Max', 'Fwd Pkt Len Std', 'Fwd Seg Size Avg', 'Pkt Len Min', 'Pkt Size Avg', 'Pkt Len Mean', 'Fwd Pkt Len Mean', 'Pkt Len Std', 'Init Bwd Win Byts'], 'Adv sample 297': ['Fwd Pkt Len Std', 'Bwd Header Len', 'Fwd Pkt Len Max', 'Pkt Len Std', 'Fwd Seg Size Avg', 'Fwd Pkt Len Mean', 'Pkt Size Avg', 'Fwd Pkt Len Min', 'Pkt Len Mean', 'Init Bwd Win Byts'], 'Adv sample 298': ['Bwd Header Len', 'Fwd Pkt Len Max', 'Flow Byts/s', 'Fwd Pkt Len Std', 'Fwd Pkt Len Mean', 'Pkt Size Avg', 'Pkt Len Max', 'Pkt Len Mean', 'Fwd Seg Size Avg', 'Pkt Len Std'], 'Adv sample 299': ['Fwd Pkt Len Max', 'Fwd Pkt Len Std', 'Flow Byts/s', 'Fwd Pkt Len Mean', 'Bwd Header Len', 'Pkt Size Avg', 'Fwd Seg Size Avg', 'Pkt Len Std', 'Pkt Len Max', 'Init Bwd Win Byts'], 'Adv sample 300': ['Fwd Pkt Len Std', 'Fwd Pkt Len Mean', 'Fwd Pkt Len Max', 'Fwd Seg Size Avg', 'Bwd Header Len', 'Pkt Size Avg', 'Pkt Len Std', 'Flow Byts/s', 'Pkt Len Max', 'Fwd Pkt Len Min'], 'Adv sample 301': ['Fwd Pkt Len Max', 'Fwd Pkt Len Std', 'Bwd Header Len', 'Fwd Seg Size Avg', 'Fwd Pkt Len Mean', 'Pkt Len Std', 'Flow Byts/s', 'Fwd Pkt Len Min', 'Pkt Size Avg', 'Pkt Len Max'], 'Adv sample 302': ['Fwd Pkt Len Max', 'Fwd Pkt Len Std', 'Fwd Pkt Len Mean', 'Flow Byts/s', 'Pkt Len Std', 'Pkt Len Mean', 'Fwd Seg Size Avg', 'Pkt Size Avg', 'Pkt Len Max', 'Pkt Len Min'], 'Adv sample 303': ['Flow Byts/s', 'Fwd Pkt Len Std', 'Fwd Pkt Len Max', 'Pkt Len Max', 'Fwd Pkt Len Mean', 'Pkt Len Min', 'Fwd Seg Size Avg', 'Pkt Len Mean', 'Bwd Pkts/b Avg', 'Flow Duration'], 'Adv sample 304': ['Fwd Pkt Len Std', 'Fwd Pkt Len Max', 'Bwd Header Len', 'Fwd Pkt Len Mean', 'Fwd Seg Size Avg', 'Flow Byts/s', 'Pkt Len Max', 'Pkt Len Std', 'Bwd IAT Tot', 'Bwd Pkt Len Max'], 'Adv sample 305': ['SYN Flag Cnt', 'Flow Duration', 'Bwd Seg Size Avg', 'URG Flag Cnt', 'Tot Fwd Pkts', 'Tot Bwd Pkts', 'TotLen Fwd Pkts', 'TotLen Bwd Pkts', 'Fwd Pkt Len Max', 'Fwd Pkt Len Min'], 'Adv sample 306': ['Fwd Pkt Len Max', 'Bwd Header Len', 'Fwd Pkt Len Std', 'Fwd Pkt Len Mean', 'Pkt Size Avg', 'Pkt Len Std', 'Fwd Seg Size Avg', 'Pkt Len Min', 'Pkt Len Mean', 'Fwd Pkt Len Min'], 'Adv sample 307': ['Fwd Pkt Len Max', 'Fwd Pkt Len Std', 'Pkt Len Max', 'Pkt Size Avg', 'Fwd Seg Size Avg', 'Flow Byts/s', 'Pkt Len Std', 'Tot Bwd Pkts', 'Fwd Pkt Len Mean', 'Pkt Len Mean'], 'Adv sample 308': ['Fwd Pkt Len Std', 'Fwd Pkt Len Max', 'Bwd Header Len', 'Pkt Len Std', 'Pkt Size Avg', 'Pkt Len Max', 'Fwd Seg Size Avg', 'Fwd Pkt Len Mean', 'Init Bwd Win Byts', 'Fwd Pkt Len Min'], 'Adv sample 309': ['Flow Byts/s', 'Bwd Header Len', 'Fwd Pkt Len Max', 'Fwd Pkt Len Mean', 'Fwd Pkt Len Std', 'Pkt Len Std', 'Fwd Seg Size Avg', 'Pkt Len Mean', 'Pkt Len Max', 'Pkt Size Avg'], 'Adv sample 310': ['Fwd Pkt Len Max', 'Fwd Pkt Len Std', 'Bwd Header Len', 'Flow Byts/s', 'Pkt Len Max', 'Init Bwd Win Byts', 'Pkt Len Std', 'Fwd Pkt Len Min', 'Pkt Len Min', 'Pkt Len Mean'], 'Adv sample 311': ['Fwd Pkt Len Max', 'Fwd Pkt Len Std', 'Bwd Header Len', 'Fwd Seg Size Avg', 'Fwd Pkt Len Min', 'Pkt Len Std', 'Pkt Len Min', 'Init Bwd Win Byts', 'Pkt Len Max', 'Flow Byts/s'], 'Adv sample 312': ['Fwd Pkt Len Std', 'Fwd Pkt Len Max', 'Bwd Header Len', 'Flow Byts/s', 'Fwd Seg Size Avg', 'Pkt Len Mean', 'Fwd Pkt Len Mean', 'Pkt Len Max', 'Pkt Len Min', 'Fwd IAT Std'], 'Adv sample 313': ['Fwd Pkt Len Std', 'Flow Byts/s', 'Pkt Len Min', 'Init Bwd Win Byts', 'Fwd Pkt Len Min', 'TotLen Bwd Pkts', 'Bwd Pkt Len Min', 'ECE Flag Cnt', 'Bwd IAT Tot', 'SYN Flag Cnt'], 'Adv sample 314': ['Fwd Pkt Len Max', 'Flow Byts/s', 'Bwd Header Len', 'Fwd Pkt Len Std', 'Pkt Len Std', 'Pkt Len Max', 'Fwd Pkt Len Mean', 'Pkt Len Mean', 'Fwd Pkt Len Min', 'Pkt Len Min'], 'Adv sample 315': ['Fwd Pkt Len Std', 'Fwd Pkt Len Mean', 'Bwd Header Len', 'Pkt Len Max', 'Pkt Size Avg', 'Fwd Seg Size Avg', 'Pkt Len Mean', 'Pkt Len Min', 'Init Bwd Win Byts', 'Fwd Pkt Len Min'], 'Adv sample 316': ['Fwd Pkt Len Std', 'Fwd Pkt Len Max', 'Bwd Header Len', 'Fwd Pkt Len Mean', 'Pkt Len Std', 'Fwd Pkt Len Min', 'Pkt Size Avg', 'Pkt Len Max', 'Tot Bwd Pkts', 'Pkt Len Mean'], 'Adv sample 317': ['Fwd Pkt Len Max', 'Fwd Pkt Len Std', 'Bwd Header Len', 'Fwd Pkt Len Mean', 'Pkt Len Std', 'Fwd Pkt Len Min', 'Fwd Seg Size Avg', 'Pkt Len Max', 'Pkt Size Avg', 'Pkt Len Mean'], 'Adv sample 318': ['Fwd Pkt Len Max', 'Bwd Header Len', 'Flow Byts/s', 'Fwd Pkt Len Std', 'Pkt Len Max', 'Pkt Len Std', 'Pkt Size Avg', 'Fwd Pkt Len Mean', 'Fwd Pkt Len Min', 'Init Bwd Win Byts'], 'Adv sample 319': ['SYN Flag Cnt', 'Bwd Byts/b Avg', 'Flow Duration', 'Idle Mean', 'Tot Bwd Pkts', 'TotLen Bwd Pkts', 'URG Flag Cnt', 'Fwd Header Len', 'Bwd PSH Flags', 'Bwd Seg Size Avg'], 'Adv sample 320': ['Flow Duration', 'Idle Mean', 'URG Flag Cnt', 'SYN Flag Cnt', 'Active Max', 'Bwd Seg Size Avg', 'ACK Flag Cnt', 'Bwd IAT Std', 'Bwd Pkt Len Mean', 'Subflow Bwd Pkts'], 'Adv sample 321': ['Fwd Pkt Len Std', 'Flow Byts/s', 'Fwd Pkt Len Max', 'Bwd Header Len', 'Pkt Len Std', 'Fwd Seg Size Avg', 'Pkt Len Mean', 'Fwd Pkt Len Mean', 'Init Bwd Win Byts', 'Pkt Len Max'], 'Adv sample 322': ['Flow Byts/s', 'Fwd Pkt Len Std', 'Fwd Pkt Len Mean', 'Bwd Header Len', 'Fwd Pkt Len Max', 'Pkt Size Avg', 'Fwd Seg Size Avg', 'Pkt Len Std', 'Pkt Len Mean', 'Tot Bwd Pkts'], 'Adv sample 323': ['Fwd Pkt Len Max', 'Fwd Pkt Len Std', 'Flow Byts/s', 'Fwd Pkt Len Mean', 'Bwd Header Len', 'Pkt Len Std', 'Fwd Pkt Len Min', 'Pkt Len Max', 'Init Bwd Win Byts', 'Pkt Size Avg'], 'Adv sample 324': ['Fwd Pkt Len Max', 'Pkt Len Min', 'Fwd Pkt Len Std', 'Bwd Header Len', 'Init Bwd Win Byts', 'Flow Byts/s', 'Fwd Pkt Len Mean', 'Pkt Len Mean', 'Pkt Len Max', 'Pkt Len Std'], 'Adv sample 325': ['Fwd Pkt Len Std', 'Fwd Pkt Len Max', 'Fwd Pkt Len Mean', 'Fwd Seg Size Avg', 'Flow Byts/s', 'Pkt Len Max', 'Pkt Len Std', 'Tot Bwd Pkts', 'Fwd IAT Min', 'Subflow Bwd Pkts'], 'Adv sample 326': ['Fwd Pkt Len Std', 'Bwd Header Len', 'Fwd Pkt Len Max', 'Fwd Pkt Len Mean', 'Fwd Pkt Len Min', 'Pkt Len Max', 'Pkt Len Min', 'Pkt Len Std', 'Pkt Len Mean', 'Bwd IAT Tot'], 'Adv sample 327': ['Fwd Pkt Len Std', 'Fwd Pkt Len Max', 'Flow Byts/s', 'Pkt Len Std', 'Pkt Len Mean', 'Pkt Size Avg', 'Fwd Seg Size Avg', 'Pkt Len Min', 'Fwd Pkt Len Mean', 'Fwd Pkt Len Min'], 'Adv sample 328': ['Fwd Pkt Len Max', 'Fwd Pkt Len Std', 'Fwd Seg Size Avg', 'Fwd Pkt Len Mean', 'Pkt Len Mean', 'Flow Byts/s', 'Pkt Size Avg', 'Bwd Pkt Len Min', 'Pkt Len Max', 'Pkt Len Std'], 'Adv sample 329': ['Fwd Pkt Len Max', 'Bwd Header Len', 'Fwd Pkt Len Mean', 'Fwd Pkt Len Std', 'Pkt Len Mean', 'Pkt Size Avg', 'Flow Byts/s', 'Init Bwd Win Byts', 'Pkt Len Min', 'Fwd Seg Size Avg'], 'Adv sample 330': ['Fwd Pkt Len Std', 'Bwd Header Len', 'Fwd Pkt Len Max', 'Pkt Len Std', 'Fwd Pkt Len Min', 'Fwd Seg Size Avg', 'Pkt Size Avg', 'Fwd Pkt Len Mean', 'Pkt Len Mean', 'Pkt Len Max'], 'Adv sample 331': ['Bwd Header Len', 'Fwd Pkt Len Max', 'Fwd Pkt Len Std', 'Pkt Len Std', 'Pkt Len Max', 'Fwd Pkt Len Mean', 'Pkt Len Mean', 'Pkt Size Avg', 'Fwd Seg Size Avg', 'Pkt Len Min'], 'Adv sample 332': ['SYN Flag Cnt', 'URG Flag Cnt', 'Flow Duration', 'Bwd Pkt Len Std', 'Bwd PSH Flags', 'Bwd IAT Std', 'FIN Flag Cnt', 'PSH Flag Cnt', 'Bwd Byts/b Avg', 'Subflow Bwd Pkts'], 'Adv sample 333': ['Bwd Header Len', 'Fwd Pkt Len Std', 'Fwd Pkt Len Max', 'Flow Byts/s', 'Pkt Len Mean', 'Fwd Pkt Len Mean', 'Fwd Pkt Len Min', 'Init Bwd Win Byts', 'Pkt Len Min', 'Pkt Len Std'], 'Adv sample 334': ['SYN Flag Cnt', 'Flow Duration', 'URG Flag Cnt', 'Pkt Len Std', 'Active Max', 'Bwd Byts/b Avg', 'Fwd Header Len', 'Bwd Seg Size Avg', 'Bwd Pkt Len Min', 'Fwd IAT Tot'], 'Adv sample 335': ['Fwd Pkt Len Std', 'Bwd Header Len', 'Fwd Pkt Len Max', 'Pkt Len Std', 'Flow Byts/s', 'Fwd Pkt Len Min', 'Fwd Seg Size Avg', 'Pkt Len Max', 'Fwd Pkt Len Mean', 'Pkt Size Avg'], 'Adv sample 336': ['Fwd Pkt Len Max', 'Flow Byts/s', 'Fwd Pkt Len Std', 'Fwd Pkt Len Mean', 'Bwd Header Len', 'Init Bwd Win Byts', 'Fwd Pkt Len Min', 'Pkt Len Max', 'Bwd Pkt Len Min', 'Pkt Len Std'], 'Adv sample 337': ['Fwd Pkt Len Max', 'Fwd Pkt Len Mean', 'Fwd Pkt Len Std', 'Fwd Seg Size Avg', 'Pkt Size Avg', 'Pkt Len Mean', 'Pkt Len Max', 'Flow Byts/s', 'Bwd Pkt Len Min', 'Init Bwd Win Byts'], 'Adv sample 338': ['Fwd Pkt Len Max', 'Fwd Pkt Len Std', 'Bwd Header Len', 'Fwd Pkt Len Mean', 'Fwd Seg Size Avg', 'Pkt Len Std', 'Pkt Len Mean', 'Fwd Pkt Len Min', 'Pkt Len Min', 'SYN Flag Cnt'], 'Adv sample 339': ['Fwd Pkt Len Std', 'Fwd Pkt Len Max', 'Fwd Pkt Len Mean', 'Fwd Pkt Len Min', 'Fwd Seg Size Avg', 'Flow Byts/s', 'Pkt Len Min', 'Pkt Len Max', 'Init Bwd Win Byts', 'Pkt Len Std'], 'Adv sample 340': ['Fwd Pkt Len Max', 'Fwd Seg Size Avg', 'Flow Byts/s', 'Flow Pkts/s', 'Bwd IAT Tot', 'Fwd PSH Flags', 'Flow Duration', 'Subflow Bwd Byts', 'Bwd URG Flags', 'Pkt Len Max'], 'Adv sample 341': ['Fwd Pkt Len Max', 'Fwd Pkt Len Std', 'Bwd Header Len', 'Fwd Seg Size Avg', 'Fwd Pkt Len Mean', 'Pkt Len Std', 'Fwd Pkt Len Min', 'Pkt Len Mean', 'Pkt Len Max', 'Pkt Size Avg'], 'Adv sample 342': ['Bwd Header Len', 'Fwd Pkt Len Max', 'Fwd Pkt Len Std', 'Fwd Pkt Len Mean', 'Pkt Len Std', 'Pkt Len Max', 'Fwd Seg Size Avg', 'Pkt Size Avg', 'Bwd Pkt Len Std', 'Pkt Len Min'], 'Adv sample 343': ['Flow Byts/s', 'Fwd Pkt Len Std', 'Fwd Pkt Len Max', 'Bwd Header Len', 'Pkt Len Max', 'Fwd Seg Size Avg', 'Pkt Len Std', 'Fwd Pkt Len Mean', 'Fwd Pkt Len Min', 'Init Bwd Win Byts'], 'Adv sample 344': ['Bwd Header Len', 'Fwd Pkt Len Std', 'Fwd Pkt Len Max', 'Pkt Len Std', 'Fwd Pkt Len Mean', 'Pkt Size Avg', 'Pkt Len Max', 'Pkt Len Mean', 'Fwd Seg Size Avg', 'Pkt Len Min'], 'Adv sample 345': ['Fwd Pkt Len Max', 'Fwd Pkt Len Std', 'Flow Byts/s', 'Pkt Size Avg', 'Init Bwd Win Byts', 'Fwd Pkt Len Min', 'Pkt Len Min', 'Fwd IAT Tot', 'Pkt Len Std', 'Fwd IAT Max'], 'Adv sample 346': ['Fwd Pkt Len Max', 'Fwd Pkt Len Std', 'Flow Byts/s', 'Fwd Pkt Len Mean', 'Bwd Header Len', 'Pkt Len Std', 'Init Bwd Win Byts', 'Fwd Seg Size Avg', 'Pkt Size Avg', 'Pkt Len Mean'], 'Adv sample 347': ['Fwd Pkt Len Std', 'Bwd Header Len', 'Fwd Pkt Len Max', 'Fwd Pkt Len Mean', 'Pkt Len Std', 'Fwd Seg Size Avg', 'Pkt Len Mean', 'Fwd Pkt Len Min', 'Pkt Len Max', 'Pkt Size Avg'], 'Adv sample 348': ['Fwd Pkt Len Max', 'Fwd Pkt Len Std', 'Fwd Pkt Len Min', 'Pkt Size Avg', 'Flow Byts/s', 'Pkt Len Mean', 'Pkt Len Max', 'Init Bwd Win Byts', 'Idle Mean', 'Idle Min'], 'Adv sample 349': ['Fwd Pkt Len Max', 'Fwd Pkt Len Std', 'Bwd Header Len', 'Fwd Pkt Len Mean', 'Flow Byts/s', 'Pkt Size Avg', 'Init Bwd Win Byts', 'Pkt Len Std', 'Pkt Len Mean', 'PSH Flag Cnt'], 'Adv sample 350': ['Bwd Header Len', 'Fwd Pkt Len Std', 'Fwd Pkt Len Max', 'Fwd Pkt Len Mean', 'Pkt Len Std', 'Pkt Len Max', 'Fwd Seg Size Avg', 'Pkt Size Avg', 'Pkt Len Min', 'Pkt Len Mean'], 'Adv sample 351': ['Fwd Pkt Len Max', 'Bwd Header Len', 'Fwd Pkt Len Std', 'Flow Byts/s', 'Fwd Pkt Len Mean', 'Pkt Len Mean', 'Pkt Len Std', 'Pkt Len Max', 'Pkt Len Min', 'Fwd Seg Size Avg'], 'Adv sample 352': ['Fwd Pkt Len Std', 'Fwd Pkt Len Max', 'Pkt Len Mean', 'Flow Byts/s', 'Fwd Pkt Len Mean', 'Pkt Len Max', 'Init Bwd Win Byts', 'Fwd Seg Size Avg', 'Pkt Size Avg', 'Pkt Len Std'], 'Adv sample 353': ['Fwd Pkt Len Std', 'Fwd Pkt Len Mean', 'Bwd Header Len', 'Fwd Seg Size Avg', 'Pkt Len Mean', 'Fwd Pkt Len Min', 'Pkt Len Max', 'Pkt Size Avg', 'Init Bwd Win Byts', 'Pkt Len Min'], 'Adv sample 354': ['Bwd Header Len', 'Fwd Pkt Len Std', 'Fwd Pkt Len Max', 'Fwd Pkt Len Mean', 'Pkt Len Std', 'Pkt Len Max', 'Pkt Len Mean', 'Fwd Pkt Len Min', 'Pkt Size Avg', 'Fwd Seg Size Avg'], 'Adv sample 355': ['Fwd Pkt Len Std', 'Fwd Pkt Len Max', 'Bwd Header Len', 'Fwd Pkt Len Mean', 'Flow Byts/s', 'Pkt Len Max', 'Pkt Len Std', 'Fwd Seg Size Avg', 'Idle Max', 'Fwd IAT Tot'], 'Adv sample 356': ['Fwd Pkt Len Std', 'Bwd Header Len', 'Fwd Seg Size Avg', 'Fwd Pkt Len Max', 'Fwd Pkt Len Mean', 'Pkt Len Std', 'Pkt Size Avg', 'Fwd Pkt Len Min', 'Pkt Len Max', 'Subflow Bwd Pkts'], 'Adv sample 357': ['Fwd Pkt Len Max', 'Bwd Header Len', 'Fwd Pkt Len Std', 'Flow Byts/s', 'Pkt Len Std', 'Fwd Seg Size Avg', 'Bwd Pkt Len Min', 'Pkt Size Avg', 'Pkt Len Mean', 'Pkt Len Max'], 'Adv sample 358': ['Fwd Pkt Len Std', 'Fwd Pkt Len Max', 'Flow Byts/s', 'Bwd Header Len', 'Fwd Pkt Len Min', 'Pkt Len Max', 'Fwd Pkt Len Mean', 'Pkt Len Mean', 'Pkt Len Std', 'Pkt Size Avg'], 'Adv sample 359': ['Fwd Pkt Len Max', 'Fwd Pkt Len Std', 'Flow Byts/s', 'Fwd Pkt Len Mean', 'Fwd Seg Size Avg', 'Pkt Len Std', 'Init Bwd Win Byts', 'Pkt Size Avg', 'Fwd Pkt Len Min', 'Pkt Len Mean'], 'Adv sample 360': ['Fwd Pkt Len Max', 'Fwd Pkt Len Std', 'Pkt Len Std', 'Fwd Pkt Len Mean', 'Flow Byts/s', 'Pkt Len Max', 'Bwd Header Len', 'Pkt Len Mean', 'Pkt Len Min', 'Fwd Seg Size Avg'], 'Adv sample 361': ['Fwd Pkt Len Std', 'Fwd Pkt Len Min', 'Flow Byts/s', 'Pkt Len Max', 'Init Bwd Win Byts', 'Idle Mean', 'Pkt Len Std', 'Idle Max', 'Pkt Len Mean', 'Fwd IAT Max'], 'Adv sample 362': ['Fwd Pkt Len Max', 'Fwd Pkt Len Std', 'Fwd Pkt Len Mean', 'Flow Byts/s', 'Fwd Seg Size Avg', 'Pkt Len Std', 'Pkt Len Min', 'Pkt Size Avg', 'Pkt Len Max', 'Fwd Pkt Len Min'], 'Adv sample 363': ['Bwd Header Len', 'Fwd Pkt Len Std', 'Fwd Pkt Len Max', 'Flow Byts/s', 'Pkt Len Max', 'Pkt Len Min', 'Fwd Pkt Len Mean', 'Pkt Len Mean', 'Fwd Pkt Len Min', 'Pkt Len Std'], 'Adv sample 364': ['Fwd Pkt Len Std', 'Flow Byts/s', 'Bwd Header Len', 'Fwd Pkt Len Max', 'Pkt Len Min', 'Pkt Len Std', 'Pkt Len Max', 'Fwd Pkt Len Mean', 'Pkt Size Avg', 'Init Bwd Win Byts'], 'Adv sample 365': ['Bwd Header Len', 'Fwd Pkt Len Max', 'Fwd Pkt Len Std', 'Pkt Len Std', 'Pkt Size Avg', 'Pkt Len Mean', 'Fwd Pkt Len Min', 'Fwd Pkt Len Mean', 'Pkt Len Min', 'Pkt Len Max'], 'Adv sample 366': ['SYN Flag Cnt', 'Flow Duration', 'Fwd Pkt Len Max', 'Subflow Fwd Byts', 'Tot Fwd Pkts', 'Fwd Pkts/b Avg', 'Idle Std', 'FIN Flag Cnt', 'Bwd PSH Flags', 'Bwd Seg Size Avg'], 'Adv sample 367': ['Fwd Pkt Len Std', 'Fwd Pkt Len Max', 'Bwd Header Len', 'Flow Byts/s', 'Pkt Len Std', 'Fwd Pkt Len Mean', 'Pkt Len Max', 'Pkt Size Avg', 'Fwd Pkt Len Min', 'Pkt Len Mean'], 'Adv sample 368': ['Bwd Header Len', 'Fwd Pkt Len Std', 'Fwd Pkt Len Max', 'Fwd Pkt Len Mean', 'Flow Byts/s', 'Pkt Len Std', 'Pkt Len Max', 'Fwd Pkt Len Min', 'Pkt Size Avg', 'Pkt Len Min'], 'Adv sample 369': ['Fwd Pkt Len Max', 'Fwd Pkt Len Std', 'Flow Byts/s', 'Fwd Pkt Len Mean', 'Bwd Header Len', 'Pkt Len Std', 'Init Bwd Win Byts', 'Pkt Len Max', 'Fwd Seg Size Avg', 'Pkt Size Avg'], 'Adv sample 370': ['Bwd Header Len', 'Fwd Pkt Len Std', 'Fwd Pkt Len Max', 'Pkt Len Std', 'Fwd Pkt Len Mean', 'Pkt Len Max', 'Pkt Len Mean', 'Fwd Seg Size Avg', 'Pkt Size Avg', 'Pkt Len Min'], 'Adv sample 371': ['Fwd Pkt Len Max', 'Fwd Pkt Len Std', 'Bwd Header Len', 'Flow Byts/s', 'Pkt Len Mean', 'Fwd Pkt Len Min', 'Fwd Pkt Len Mean', 'Pkt Len Std', 'Pkt Len Max', 'Fwd Seg Size Avg'], 'Adv sample 372': ['SYN Flag Cnt', 'Flow Duration', 'Pkt Len Mean', 'Bwd Seg Size Avg', 'Subflow Bwd Pkts', 'Fwd IAT Max', 'Bwd Byts/b Avg', 'Fwd Pkts/b Avg', 'URG Flag Cnt', 'FIN Flag Cnt'], 'Adv sample 373': ['Fwd Pkt Len Std', 'Flow Byts/s', 'Fwd Pkt Len Max', 'Fwd Seg Size Avg', 'Fwd Pkt Len Mean', 'Pkt Size Avg', 'Tot Bwd Pkts', 'Pkt Len Min', 'Pkt Len Max', 'Pkt Len Std'], 'Adv sample 374': ['Fwd Pkt Len Max', 'Fwd Pkt Len Mean', 'Pkt Len Mean', 'Bwd Header Len', 'Pkt Size Avg', 'Fwd Pkt Len Std', 'Pkt Len Std', 'Flow Byts/s', 'Fwd Seg Size Avg', 'Pkt Len Max'], 'Adv sample 375': ['Flow Byts/s', 'Bwd Header Len', 'Fwd Pkt Len Std', 'Pkt Size Avg', 'Fwd Pkt Len Max', 'Pkt Len Std', 'Fwd Pkt Len Min', 'Pkt Len Max', 'Fwd Seg Size Avg', 'Fwd Pkt Len Mean'], 'Adv sample 376': ['Bwd Header Len', 'Fwd Pkt Len Max', 'Fwd Pkt Len Std', 'Fwd Pkt Len Mean', 'Pkt Len Std', 'Fwd Seg Size Avg', 'Pkt Len Max', 'Pkt Len Min', 'Pkt Len Mean', 'Fwd Pkt Len Min'], 'Adv sample 377': ['Fwd Pkt Len Std', 'Fwd Pkt Len Max', 'Bwd Header Len', 'Fwd Pkt Len Mean', 'Flow Byts/s', 'Pkt Len Max', 'Fwd Pkt Len Min', 'Init Bwd Win Byts', 'Pkt Len Mean', 'Pkt Len Std'], 'Adv sample 378': ['Bwd Header Len', 'Fwd Pkt Len Std', 'Fwd Pkt Len Max', 'Fwd Pkt Len Mean', 'Pkt Len Std', 'Pkt Size Avg', 'Fwd Seg Size Avg', 'Pkt Len Mean', 'Pkt Len Max', 'Pkt Len Min'], 'Adv sample 379': ['Fwd Pkt Len Max', 'Bwd Header Len', 'Fwd Pkt Len Mean', 'Fwd Pkt Len Std', 'Pkt Len Max', 'Pkt Len Std', 'Flow Byts/s', 'Fwd Pkt Len Min', 'Pkt Len Mean', 'Pkt Size Avg'], 'Adv sample 380': ['Fwd Pkt Len Max', 'Bwd Header Len', 'Fwd Pkt Len Std', 'Flow Byts/s', 'Pkt Len Max', 'Init Bwd Win Byts', 'Fwd Pkt Len Mean', 'Tot Bwd Pkts', 'Pkt Len Std', 'Fwd Seg Size Avg'], 'Adv sample 381': ['Fwd Pkt Len Std', 'Fwd Pkt Len Mean', 'Bwd Header Len', 'Flow Byts/s', 'Pkt Size Avg', 'Fwd Pkt Len Max', 'Pkt Len Std', 'Pkt Len Mean', 'Pkt Len Max', 'Fwd Pkt Len Min'], 'Adv sample 382': ['Pkt Len Min', 'Bwd Pkt Len Min', 'Fwd IAT Tot', 'Active Mean', 'Tot Fwd Pkts', 'ACK Flag Cnt', 'Bwd URG Flags', 'PSH Flag Cnt', 'Pkt Len Std', 'CWE Flag Count'], 'Adv sample 383': ['Fwd Pkt Len Std', 'Fwd Pkt Len Max', 'Fwd Pkt Len Mean', 'Bwd Header Len', 'Flow Byts/s', 'Pkt Len Std', 'Fwd Seg Size Avg', 'Pkt Len Max', 'Tot Bwd Pkts', 'Pkt Len Var'], 'Adv sample 384': ['Fwd Pkt Len Max', 'Fwd Pkt Len Mean', 'Fwd Pkt Len Std', 'Pkt Len Std', 'Bwd Header Len', 'Pkt Len Max', 'Fwd Seg Size Avg', 'Pkt Len Mean', 'Pkt Size Avg', 'Pkt Len Min'], 'Adv sample 385': ['Fwd Pkt Len Std', 'Fwd Pkt Len Max', 'Pkt Len Std', 'Bwd Header Len', 'Fwd Pkt Len Mean', 'Pkt Len Mean', 'Pkt Size Avg', 'Init Bwd Win Byts', 'Pkt Len Max', 'Fwd Seg Size Avg'], 'Adv sample 386': ['Fwd Pkt Len Max', 'Fwd Pkt Len Std', 'Flow Byts/s', 'Bwd Header Len', 'Init Bwd Win Byts', 'Pkt Len Max', 'Pkt Len Std', 'Fwd Seg Size Avg', 'Fwd Pkt Len Min', 'Fwd Pkt Len Mean'], 'Adv sample 387': ['Fwd Pkt Len Max', 'Fwd Pkt Len Std', 'Fwd Pkt Len Mean', 'Pkt Len Std', 'Bwd Header Len', 'Pkt Size Avg', 'Pkt Len Mean', 'Fwd Seg Size Avg', 'Init Bwd Win Byts', 'Pkt Len Min'], 'Adv sample 388': ['Bwd Header Len', 'Tot Bwd Pkts', 'Bwd Pkts/s', 'Subflow Bwd Pkts', 'Fwd IAT Std', 'Bwd IAT Min', 'Pkt Len Max', 'Fwd Act Data Pkts', 'Bwd Pkt Len Std', 'Bwd PSH Flags'], 'Adv sample 389': ['Fwd Pkt Len Max', 'Fwd Pkt Len Std', 'Flow Byts/s', 'Bwd Header Len', 'Fwd Pkt Len Mean', 'Pkt Len Max', 'Pkt Len Std', 'Fwd Seg Size Avg', 'Bwd IAT Tot', 'Tot Bwd Pkts'], 'Adv sample 390': ['Fwd Pkt Len Std', 'Flow Byts/s', 'Fwd Pkt Len Max', 'Bwd Header Len', 'Fwd Pkt Len Mean', 'Pkt Len Std', 'Pkt Len Max', 'Fwd Seg Size Avg', 'Init Bwd Win Byts', 'Pkt Size Avg'], 'Adv sample 391': ['Fwd Pkt Len Max', 'Fwd Pkt Len Std', 'Pkt Len Std', 'Flow Byts/s', 'Bwd Header Len', 'Pkt Size Avg', 'Fwd Pkt Len Mean', 'Fwd Pkt Len Min', 'Pkt Len Mean', 'Init Bwd Win Byts'], 'Adv sample 392': ['Fwd Pkt Len Std', 'Fwd Pkt Len Max', 'Flow Byts/s', 'Bwd Header Len', 'Pkt Len Max', 'Pkt Len Std', 'Fwd Seg Size Avg', 'Pkt Len Mean', 'Pkt Len Min', 'Fwd Pkt Len Min'], 'Adv sample 393': ['Fwd Pkt Len Std', 'Flow Byts/s', 'Bwd Header Len', 'Fwd Pkt Len Max', 'Fwd Pkt Len Min', 'Pkt Len Std', 'Pkt Len Mean', 'Pkt Len Max', 'Pkt Len Min', 'Fwd Pkt Len Mean'], 'Adv sample 394': ['Bwd Header Len', 'Fwd Pkt Len Std', 'Fwd Pkt Len Max', 'Flow Byts/s', 'Fwd Pkt Len Mean', 'Fwd Seg Size Avg', 'Pkt Len Mean', 'Fwd Pkt Len Min', 'Init Bwd Win Byts', 'Pkt Size Avg'], 'Adv sample 395': ['Fwd Pkt Len Max', 'Fwd Pkt Len Std', 'Fwd Seg Size Avg', 'Bwd Header Len', 'Fwd Pkt Len Mean', 'Pkt Len Std', 'Fwd Pkt Len Min', 'Pkt Size Avg', 'Pkt Len Min', 'Pkt Len Mean'], 'Adv sample 396': ['Fwd Pkt Len Max', 'Fwd Pkt Len Std', 'Bwd Header Len', 'Fwd Pkt Len Mean', 'Pkt Size Avg', 'Pkt Len Max', 'Fwd Pkt Len Min', 'Pkt Len Std', 'Fwd Seg Size Avg', 'Pkt Len Min'], 'Adv sample 397': ['Fwd Pkt Len Max', 'Fwd Pkt Len Std', 'Bwd Header Len', 'Pkt Len Std', 'Fwd Seg Size Avg', 'Fwd Pkt Len Mean', 'Pkt Len Max', 'Init Bwd Win Byts', 'Pkt Size Avg', 'Pkt Len Mean'], 'Adv sample 398': ['Fwd Pkt Len Max', 'Fwd Pkt Len Std', 'Pkt Len Std', 'Fwd Seg Size Avg', 'Bwd Header Len', 'Fwd Pkt Len Mean', 'Pkt Len Max', 'Pkt Size Avg', 'Bwd Pkt Len Std', 'Init Bwd Win Byts'], 'Adv sample 399': ['Fwd Pkt Len Max', 'Fwd Pkt Len Std', 'Bwd Header Len', 'Pkt Len Max', 'Pkt Size Avg', 'Fwd Pkt Len Mean', 'Pkt Len Std', 'Fwd Seg Size Avg', 'Fwd Pkt Len Min', 'Init Bwd Win Byts'], 'Adv sample 400': ['Fwd Pkt Len Max', 'Fwd Pkt Len Std', 'Flow Byts/s', 'Bwd Header Len', 'Init Bwd Win Byts', 'Pkt Len Max', 'Pkt Len Std', 'Pkt Size Avg', 'Fwd Seg Size Avg', 'Fwd Pkt Len Mean'], 'Adv sample 401': ['Fwd Pkt Len Std', 'Fwd Pkt Len Max', 'Bwd Header Len', 'Fwd Pkt Len Mean', 'Pkt Len Max', 'Pkt Len Std', 'Fwd Seg Size Avg', 'Fwd Pkt Len Min', 'Init Bwd Win Byts', 'Pkt Size Avg'], 'Adv sample 402': ['Fwd Pkt Len Max', 'Bwd Header Len', 'Fwd Pkt Len Std', 'Flow Byts/s', 'Fwd Pkt Len Mean', 'Fwd Seg Size Avg', 'Pkt Len Max', 'Pkt Len Std', 'Pkt Len Min', 'Fwd Pkt Len Min'], 'Adv sample 403': ['Fwd Pkt Len Max', 'Fwd Pkt Len Std', 'Bwd Header Len', 'Pkt Len Std', 'Fwd Pkt Len Min', 'Flow Byts/s', 'Fwd Pkt Len Mean', 'Pkt Len Max', 'Pkt Len Min', 'Fwd Seg Size Avg'], 'Adv sample 404': ['Fwd Pkt Len Std', 'Fwd Pkt Len Max', 'Flow Byts/s', 'Bwd Header Len', 'Pkt Len Std', 'Fwd Pkt Len Mean', 'Pkt Size Avg', 'Pkt Len Mean', 'Pkt Len Min', 'Fwd Seg Size Avg'], 'Adv sample 405': ['Fwd Pkt Len Max', 'Fwd Pkt Len Std', 'Bwd Header Len', 'Flow Byts/s', 'Fwd Pkt Len Mean', 'Fwd Seg Size Avg', 'Pkt Len Max', 'Fwd Pkt Len Min', 'Pkt Size Avg', 'Pkt Len Mean'], 'Adv sample 406': ['SYN Flag Cnt', 'Flow Duration', 'Bwd Byts/b Avg', 'Fwd Pkts/b Avg', 'Active Max', 'URG Flag Cnt', 'Bwd IAT Std', 'TotLen Fwd Pkts', 'Tot Bwd Pkts', 'Bwd Pkt Len Max'], 'Adv sample 407': ['Fwd Pkt Len Max', 'Fwd Pkt Len Std', 'Fwd Pkt Len Mean', 'Bwd Header Len', 'Fwd Seg Size Avg', 'Fwd Pkt Len Min', 'Pkt Len Std', 'Pkt Len Mean', 'Init Bwd Win Byts', 'Pkt Size Avg'], 'Adv sample 408': ['Bwd Header Len', 'Fwd Pkt Len Max', 'Fwd Pkt Len Std', 'Flow Byts/s', 'Pkt Len Std', 'Pkt Size Avg', 'Fwd Seg Size Avg', 'Pkt Len Min', 'Fwd Pkt Len Mean', 'Fwd Pkt Len Min'], 'Adv sample 409': ['Fwd Pkt Len Std', 'Fwd Pkt Len Mean', 'Fwd Seg Size Avg', 'Pkt Size Avg', 'Pkt Len Mean', 'Pkt Len Min', 'Init Bwd Win Byts', 'Fwd Pkt Len Min', 'Bwd IAT Tot', 'Bwd Pkt Len Std'], 'Adv sample 410': ['Fwd Pkt Len Std', 'Bwd Header Len', 'Fwd Pkt Len Mean', 'Fwd Seg Size Avg', 'Pkt Len Max', 'Pkt Len Mean', 'Fwd Pkt Len Min', 'Init Bwd Win Byts', 'Bwd Pkt Len Std', 'Pkt Size Avg'], 'Adv sample 411': ['SYN Flag Cnt', 'Flow Duration', 'URG Flag Cnt', 'Bwd Seg Size Avg', 'TotLen Fwd Pkts', 'Subflow Bwd Pkts', 'Bwd IAT Std', 'Pkt Len Min', 'Fwd IAT Max', 'Fwd Pkts/b Avg'], 'Adv sample 412': ['Bwd Header Len', 'Bwd Pkts/s', 'Subflow Bwd Pkts', 'Tot Bwd Pkts', 'Fwd IAT Std', 'Flow Pkts/s', 'Active Mean', 'Fwd URG Flags', 'Flow IAT Max', 'Bwd Pkt Len Std'], 'Adv sample 413': ['Fwd Pkt Len Max', 'Flow Byts/s', 'Fwd Pkt Len Mean', 'Fwd Pkt Len Std', 'Pkt Len Mean', 'Init Bwd Win Byts', 'Tot Bwd Pkts', 'Pkt Size Avg', 'Pkt Len Min', 'Fwd Header Len'], 'Adv sample 414': ['Fwd Pkt Len Max', 'Bwd Header Len', 'Fwd Pkt Len Std', 'Fwd Pkt Len Mean', 'Flow Byts/s', 'Pkt Len Max', 'Fwd Seg Size Avg', 'Init Bwd Win Byts', 'Pkt Len Std', 'Pkt Len Min'], 'Adv sample 415': ['Fwd Pkt Len Max', 'Fwd Pkt Len Std', 'Fwd Pkt Len Min', 'Flow Byts/s', 'Pkt Len Max', 'Idle Mean', 'Init Bwd Win Byts', 'Idle Min', 'Pkt Len Std', 'Bwd Byts/b Avg'], 'Adv sample 416': ['Fwd Pkt Len Std', 'Fwd Pkt Len Max', 'Fwd Seg Size Avg', 'Fwd Pkt Len Mean', 'Pkt Len Std', 'Bwd Header Len', 'Pkt Len Min', 'Pkt Len Mean', 'Pkt Size Avg', 'Pkt Len Max'], 'Adv sample 417': ['Fwd Pkt Len Std', 'Fwd Pkt Len Max', 'Fwd Pkt Len Mean', 'Bwd Header Len', 'Pkt Len Std', 'Pkt Len Max', 'Flow Byts/s', 'Fwd Seg Size Avg', 'Pkt Size Avg', 'Init Bwd Win Byts'], 'Adv sample 418': ['Fwd Pkt Len Std', 'Fwd Pkt Len Max', 'Fwd Seg Size Avg', 'Fwd Pkt Len Mean', 'Flow Byts/s', 'Pkt Len Mean', 'Pkt Size Avg', 'Init Bwd Win Byts', 'Pkt Len Max', 'Tot Bwd Pkts'], 'Adv sample 419': ['Fwd Pkt Len Max', 'Fwd Pkt Len Std', 'Pkt Len Std', 'Flow Byts/s', 'Pkt Len Max', 'Fwd Pkt Len Mean', 'Tot Bwd Pkts', 'Fwd Seg Size Avg', 'Init Bwd Win Byts', 'Bwd Pkt Len Std'], 'Adv sample 420': ['Fwd Pkt Len Max', 'Fwd Seg Size Avg', 'Flow Byts/s', 'Flow Pkts/s', 'Bwd IAT Tot', 'Fwd PSH Flags', 'ECE Flag Cnt', 'Bwd Pkt Len Std', 'Pkt Len Var', 'Bwd Header Len'], 'Adv sample 421': ['Fwd Pkt Len Max', 'Bwd Header Len', 'Fwd Pkt Len Std', 'Pkt Len Std', 'Fwd Pkt Len Mean', 'Flow Byts/s', 'Fwd Seg Size Avg', 'Pkt Len Min', 'Pkt Size Avg', 'Fwd Pkt Len Min'], 'Adv sample 422': ['Fwd Pkt Len Max', 'Pkt Len Std', 'Fwd Seg Size Avg', 'Flow Byts/s', 'Bwd IAT Tot', 'Bwd URG Flags', 'Active Std', 'Tot Fwd Pkts', 'Idle Min', 'Active Mean'], 'Adv sample 423': ['Fwd Pkt Len Max', 'Fwd Pkt Len Std', 'Bwd Header Len', 'Fwd Seg Size Avg', 'Pkt Len Max', 'Fwd Pkt Len Mean', 'Pkt Len Std', 'Fwd Pkt Len Min', 'Flow Byts/s', 'Pkt Len Mean'], 'Adv sample 424': ['Fwd Pkt Len Max', 'Fwd Pkt Len Std', 'Bwd Header Len', 'Fwd Pkt Len Mean', 'Flow Byts/s', 'Pkt Len Std', 'Pkt Len Max', 'Fwd Seg Size Avg', 'Tot Bwd Pkts', 'Bwd IAT Tot'], 'Adv sample 425': ['SYN Flag Cnt', 'Flow Duration', 'Bwd Seg Size Avg', 'FIN Flag Cnt', 'Bwd Byts/b Avg', 'Tot Fwd Pkts', 'TotLen Bwd Pkts', 'URG Flag Cnt', 'Fwd IAT Min', 'Bwd Header Len'], 'Adv sample 426': ['Fwd Pkt Len Std', 'Fwd Pkt Len Mean', 'Bwd Header Len', 'Fwd Seg Size Avg', 'Pkt Size Avg', 'Pkt Len Max', 'Pkt Len Mean', 'Pkt Len Min', 'Init Bwd Win Byts', 'Bwd Pkt Len Std'], 'Adv sample 427': ['Fwd Pkt Len Std', 'Fwd Pkt Len Max', 'Flow Byts/s', 'Pkt Len Mean', 'Bwd Header Len', 'Fwd Seg Size Avg', 'Pkt Len Min', 'Pkt Size Avg', 'Pkt Len Std', 'Fwd Pkt Len Min'], 'Adv sample 428': ['Bwd Header Len', 'Fwd Pkt Len Max', 'Fwd Pkt Len Std', 'Fwd Pkt Len Mean', 'Pkt Len Std', 'Pkt Size Avg', 'Pkt Len Max', 'Fwd Seg Size Avg', 'Fwd Pkt Len Min', 'Pkt Len Min'], 'Adv sample 429': ['SYN Flag Cnt', 'Flow Duration', 'URG Flag Cnt', 'Bwd Pkt Len Max', 'Bwd Seg Size Avg', 'Pkt Len Min', 'Bwd IAT Max', 'Fwd Pkts/s', 'Tot Bwd Pkts', 'FIN Flag Cnt'], 'Adv sample 430': ['Fwd Pkt Len Max', 'Fwd Pkt Len Std', 'Bwd Header Len', 'Flow Byts/s', 'Fwd Pkt Len Mean', 'Init Bwd Win Byts', 'Pkt Len Max', 'Pkt Size Avg', 'Pkt Len Std', 'Pkt Len Var'], 'Adv sample 431': ['Fwd Pkt Len Std', 'Fwd Pkt Len Max', 'Fwd Pkt Len Min', 'Pkt Len Std', 'Bwd Header Len', 'Pkt Len Max', 'Flow Byts/s', 'Fwd Pkt Len Mean', 'Fwd Seg Size Avg', 'Pkt Len Min'], 'Adv sample 432': ['Fwd Pkt Len Max', 'Fwd Pkt Len Std', 'Pkt Len Std', 'Fwd Pkt Len Min', 'Fwd Pkt Len Mean', 'Flow Byts/s', 'Pkt Len Min', 'Bwd Header Len', 'Pkt Len Mean', 'Fwd Seg Size Avg'], 'Adv sample 433': ['Fwd Pkt Len Max', 'Fwd Pkt Len Mean', 'Fwd Pkt Len Std', 'Bwd Header Len', 'Pkt Size Avg', 'Pkt Len Mean', 'Pkt Len Std', 'Fwd Pkt Len Min', 'Pkt Len Min', 'Fwd Seg Size Avg'], 'Adv sample 434': ['Fwd Pkt Len Max', 'Fwd Pkt Len Std', 'Flow Byts/s', 'Bwd Header Len', 'Fwd Pkt Len Mean', 'Fwd Seg Size Avg', 'Pkt Size Avg', 'Pkt Len Std', 'Pkt Len Max', 'Pkt Len Mean'], 'Adv sample 435': ['Fwd Pkt Len Std', 'Fwd Pkt Len Mean', 'Fwd Seg Size Avg', 'Bwd Header Len', 'Pkt Size Avg', 'Pkt Len Max', 'Pkt Len Mean', 'Fwd Pkt Len Min', 'Init Bwd Win Byts', 'Bwd Pkt Len Max'], 'Adv sample 436': ['Fwd Pkt Len Max', 'Fwd Seg Size Avg', 'Flow Byts/s', 'Flow Pkts/s', 'Bwd IAT Tot', 'Pkt Len Var', 'Fwd PSH Flags', 'Flow Duration', 'Fwd IAT Max', 'Idle Max'], 'Adv sample 437': ['Bwd Header Len', 'Fwd Pkt Len Max', 'Fwd Pkt Len Mean', 'Init Bwd Win Byts', 'Flow Byts/s', 'Pkt Size Avg', 'Fwd Pkt Len Std', 'Pkt Len Mean', 'Pkt Len Std', 'Pkt Len Max'], 'Adv sample 438': ['SYN Flag Cnt', 'Flow Duration', 'Bwd Byts/b Avg', 'URG Flag Cnt', 'Bwd Seg Size Avg', 'Idle Std', 'Subflow Fwd Pkts', 'Bwd IAT Max', 'Fwd Header Len', 'Bwd Pkt Len Mean'], 'Adv sample 439': ['Fwd Pkt Len Max', 'Fwd Seg Size Avg', 'Flow Byts/s', 'Bwd IAT Tot', 'Pkt Len Var', 'URG Flag Cnt', 'Flow Pkts/s', 'Fwd IAT Max', 'Fwd PSH Flags', 'TotLen Fwd Pkts'], 'Adv sample 440': ['Fwd Pkt Len Std', 'Fwd Pkt Len Mean', 'Fwd Seg Size Avg', 'Fwd Pkt Len Min', 'Bwd Header Len', 'Pkt Len Max', 'Pkt Size Avg', 'Pkt Len Mean', 'Pkt Len Min', 'Bwd Pkt Len Std'], 'Adv sample 441': ['Bwd Header Len', 'Fwd Pkt Len Max', 'Flow Byts/s', 'Fwd Pkt Len Std', 'Pkt Size Avg', 'Fwd Pkt Len Min', 'Fwd Pkt Len Mean', 'Pkt Len Std', 'Pkt Len Mean', 'Pkt Len Max'], 'Adv sample 442': ['Bwd Header Len', 'Fwd Pkt Len Std', 'Fwd Pkt Len Max', 'Pkt Len Std', 'Fwd Pkt Len Min', 'Flow Byts/s', 'Fwd Pkt Len Mean', 'Init Bwd Win Byts', 'Pkt Len Max', 'Pkt Size Avg'], 'Adv sample 443': ['Fwd Pkt Len Max', 'Fwd Pkt Len Std', 'Fwd Pkt Len Mean', 'Pkt Len Mean', 'Pkt Len Max', 'Bwd Header Len', 'Pkt Len Std', 'Flow Byts/s', 'Fwd Pkt Len Min', 'Init Bwd Win Byts'], 'Adv sample 444': ['Fwd Pkt Len Max', 'Bwd Header Len', 'Fwd Pkt Len Std', 'Flow Byts/s', 'Fwd Seg Size Avg', 'Pkt Len Var', 'Pkt Len Max', 'Pkt Size Avg', 'Pkt Len Std', 'Init Bwd Win Byts'], 'Adv sample 445': ['Fwd Pkt Len Max', 'Fwd Seg Size Avg', 'Flow Byts/s', 'Bwd IAT Tot', 'Fwd PSH Flags', 'Pkt Len Var', 'Flow Pkts/s', 'Bwd Header Len', 'Pkt Len Mean', 'Active Std'], 'Adv sample 446': ['Fwd Pkt Len Std', 'Fwd Pkt Len Max', 'Flow Byts/s', 'Pkt Size Avg', 'Fwd Pkt Len Mean', 'Pkt Len Std', 'Pkt Len Mean', 'Pkt Len Min', 'Pkt Len Max', 'Fwd Pkt Len Min'], 'Adv sample 447': ['Fwd Pkt Len Max', 'Fwd Seg Size Avg', 'Flow Byts/s', 'Flow Pkts/s', 'Fwd PSH Flags', 'Bwd IAT Tot', 'Pkt Len Var', 'Bwd Seg Size Avg', 'Fwd IAT Mean', 'Flow IAT Std'], 'Adv sample 448': ['Fwd Pkt Len Max', 'Fwd Pkt Len Std', 'Bwd Header Len', 'Pkt Len Std', 'Flow Byts/s', 'Init Bwd Win Byts', 'Fwd Pkt Len Mean', 'Fwd Pkt Len Min', 'Fwd Seg Size Avg', 'Pkt Size Avg'], 'Adv sample 449': ['Fwd Pkt Len Max', 'Bwd Header Len', 'Fwd Pkt Len Std', 'Flow Byts/s', 'Pkt Len Std', 'Pkt Size Avg', 'Fwd Pkt Len Mean', 'Pkt Len Mean', 'Fwd Pkt Len Min', 'Pkt Len Min'], 'Adv sample 450': ['Fwd Pkt Len Max', 'Bwd Header Len', 'Fwd Pkt Len Std', 'Fwd Seg Size Avg', 'Pkt Len Mean', 'Pkt Size Avg', 'Pkt Len Std', 'Fwd Pkt Len Mean', 'Flow Byts/s', 'Subflow Fwd Byts'], 'Adv sample 451': ['Pkt Len Min', 'Bwd Pkt Len Min', 'TotLen Bwd Pkts', 'Init Fwd Win Byts', 'Bwd URG Flags', 'Idle Std', 'Tot Fwd Pkts', 'URG Flag Cnt', 'Tot Bwd Pkts', 'FIN Flag Cnt'], 'Adv sample 452': ['Fwd Pkt Len Std', 'Bwd Header Len', 'Fwd Pkt Len Max', 'Flow Byts/s', 'Fwd Pkt Len Mean', 'Pkt Len Std', 'Pkt Len Mean', 'Pkt Len Max', 'Pkt Size Avg', 'Init Bwd Win Byts'], 'Adv sample 453': ['Fwd Pkt Len Std', 'Bwd Header Len', 'Fwd Pkt Len Mean', 'Fwd Seg Size Avg', 'Pkt Size Avg', 'Pkt Len Mean', 'Pkt Len Max', 'Init Bwd Win Byts', 'Fwd Pkt Len Min', 'Bwd Pkt Len Std'], 'Adv sample 454': ['Bwd Header Len', 'Fwd Pkt Len Max', 'Fwd Pkt Len Std', 'Pkt Len Std', 'Fwd Pkt Len Mean', 'Pkt Len Max', 'Pkt Len Mean', 'Pkt Len Min', 'Pkt Size Avg', 'Fwd Seg Size Avg'], 'Adv sample 455': ['Bwd Header Len', 'Fwd Pkt Len Max', 'Flow Byts/s', 'Fwd Pkt Len Mean', 'Fwd Pkt Len Std', 'Pkt Len Min', 'Fwd Pkt Len Min', 'Fwd Seg Size Avg', 'Pkt Size Avg', 'Pkt Len Std'], 'Adv sample 456': ['Fwd Pkt Len Max', 'Fwd Pkt Len Std', 'Fwd Pkt Len Mean', 'Bwd Header Len', 'Pkt Len Max', 'Fwd Seg Size Avg', 'Pkt Len Mean', 'Pkt Len Std', 'Fwd Pkt Len Min', 'Pkt Len Min'], 'Adv sample 457': ['Fwd Pkt Len Std', 'Bwd Header Len', 'Fwd Pkt Len Max', 'Fwd Pkt Len Mean', 'Pkt Len Std', 'Fwd Seg Size Avg', 'Pkt Len Max', 'Pkt Size Avg', 'Init Bwd Win Byts', 'Fwd Pkt Len Min'], 'Adv sample 458': ['Fwd Pkt Len Std', 'Fwd Pkt Len Max', 'Flow Byts/s', 'Fwd Seg Size Avg', 'Fwd Pkt Len Mean', 'Pkt Len Mean', 'Pkt Len Std', 'Pkt Size Avg', 'Pkt Len Max', 'Fwd Pkt Len Min'], 'Adv sample 459': ['SYN Flag Cnt', 'Flow Duration', 'URG Flag Cnt', 'Bwd PSH Flags', 'Subflow Bwd Pkts', 'Bwd Seg Size Avg', 'Bwd URG Flags', 'Bwd Byts/b Avg', 'Subflow Fwd Pkts', 'Fwd Header Len'], 'Adv sample 460': ['Fwd Pkt Len Std', 'Bwd Header Len', 'Fwd Pkt Len Max', 'Pkt Len Std', 'Fwd Pkt Len Mean', 'Fwd Seg Size Avg', 'Pkt Len Mean', 'Pkt Len Max', 'Fwd Pkt Len Min', 'Pkt Size Avg'], 'Adv sample 461': ['Bwd Header Len', 'Pkt Len Std', 'Flow Byts/s', 'Fwd Seg Size Avg', 'Fwd Pkt Len Std', 'Fwd Pkt Len Max', 'Pkt Len Min', 'Fwd Pkt Len Mean', 'Pkt Len Max', 'Pkt Len Mean'], 'Adv sample 462': ['Fwd Pkt Len Std', 'Flow Byts/s', 'Fwd Pkt Len Max', 'Bwd Header Len', 'Fwd Pkt Len Mean', 'Pkt Len Std', 'Fwd Seg Size Avg', 'Pkt Size Avg', 'Fwd Pkt Len Min', 'Pkt Len Mean'], 'Adv sample 463': ['Fwd Pkt Len Std', 'Flow Byts/s', 'Fwd Pkt Len Max', 'Bwd Header Len', 'Fwd Pkt Len Mean', 'Fwd Pkt Len Min', 'Fwd Seg Size Avg', 'Pkt Len Min', 'Pkt Len Std', 'Init Bwd Win Byts'], 'Adv sample 464': ['Flow Byts/s', 'Bwd Header Len', 'Fwd Pkt Len Max', 'Fwd Pkt Len Std', 'Pkt Len Min', 'Pkt Len Std', 'Fwd Pkt Len Mean', 'Pkt Size Avg', 'Init Bwd Win Byts', 'Fwd Seg Size Avg'], 'Adv sample 465': ['SYN Flag Cnt', 'URG Flag Cnt', 'Bwd IAT Std', 'Bwd IAT Mean', 'Pkt Size Avg', 'Flow Duration', 'Bwd Byts/b Avg', 'Bwd Seg Size Avg', 'Bwd Pkt Len Min', 'Fwd IAT Max'], 'Adv sample 466': ['Flow Byts/s', 'Fwd Pkt Len Std', 'Fwd Seg Size Avg', 'Bwd Header Len', 'Fwd Pkt Len Max', 'Pkt Size Avg', 'Pkt Len Max', 'Tot Bwd Pkts', 'Fwd Pkt Len Mean', 'Pkt Len Std'], 'Adv sample 467': ['Fwd Pkt Len Std', 'Pkt Len Std', 'Fwd Pkt Len Max', 'Fwd Pkt Len Mean', 'Flow Byts/s', 'Pkt Len Max', 'Pkt Len Mean', 'Pkt Len Min', 'Pkt Size Avg', 'Bwd Pkt Len Min'], 'Adv sample 468': ['Fwd Pkt Len Max', 'Fwd Seg Size Avg', 'Flow Byts/s', 'Bwd IAT Tot', 'Pkt Len Var', 'Flow Pkts/s', 'TotLen Fwd Pkts', 'Fwd PSH Flags', 'Idle Min', 'Flow IAT Std'], 'Adv sample 469': ['Fwd Pkt Len Std', 'Fwd Pkt Len Max', 'Bwd Header Len', 'Flow Byts/s', 'Pkt Len Mean', 'Fwd Pkt Len Min', 'Pkt Len Max', 'Pkt Len Min', 'Fwd Pkt Len Mean', 'Fwd Seg Size Avg'], 'Adv sample 470': ['Fwd Pkt Len Max', 'Fwd Pkt Len Std', 'Pkt Len Std', 'Bwd Header Len', 'Fwd Pkt Len Mean', 'Fwd Seg Size Avg', 'Flow Byts/s', 'Pkt Size Avg', 'Fwd Pkt Len Min', 'Pkt Len Max'], 'Adv sample 471': ['Fwd Pkt Len Max', 'Fwd Pkt Len Std', 'Fwd Pkt Len Mean', 'Bwd Header Len', 'Pkt Len Std', 'Fwd Seg Size Avg', 'Pkt Size Avg', 'Pkt Len Max', 'Fwd Pkt Len Min', 'SYN Flag Cnt'], 'Adv sample 472': ['Fwd Pkt Len Max', 'Fwd Pkt Len Std', 'Flow Byts/s', 'Pkt Len Std', 'Pkt Len Mean', 'Fwd Seg Size Avg', 'Fwd Pkt Len Min', 'Pkt Len Min', 'Pkt Len Max', 'Fwd Pkt Len Mean'], 'Adv sample 473': ['Fwd Pkt Len Std', 'Fwd Pkt Len Max', 'Pkt Size Avg', 'Bwd Header Len', 'Fwd Pkt Len Mean', 'Fwd Seg Size Avg', 'Pkt Len Std', 'Fwd Pkt Len Min', 'Pkt Len Max', 'Pkt Len Min'], 'Adv sample 474': ['Fwd Pkt Len Max', 'Fwd Pkt Len Std', 'Bwd Header Len', 'Pkt Len Std', 'Flow Byts/s', 'Fwd Pkt Len Mean', 'Pkt Size Avg', 'Pkt Len Max', 'Init Bwd Win Byts', 'Fwd Pkt Len Min'], 'Adv sample 475': ['Pkt Len Std', 'Fwd Pkt Len Max', 'Flow Byts/s', 'Fwd Pkt Len Std', 'Fwd Seg Size Avg', 'Fwd Pkt Len Mean', 'Pkt Len Mean', 'Bwd Header Len', 'Pkt Len Min', 'Pkt Size Avg'], 'Adv sample 476': ['SYN Flag Cnt', 'Flow Duration', 'Bwd Seg Size Avg', 'Bwd Byts/b Avg', 'Subflow Fwd Pkts', 'Fwd IAT Mean', 'TotLen Bwd Pkts', 'Pkt Len Max', 'ACK Flag Cnt', 'Fwd Pkts/b Avg'], 'Adv sample 477': ['Fwd Pkt Len Std', 'Fwd Pkt Len Max', 'Pkt Len Max', 'Bwd Header Len', 'Pkt Len Mean', 'Init Bwd Win Byts', 'Pkt Len Min', 'Pkt Size Avg', 'Pkt Len Std', 'Fwd Seg Size Avg'], 'Adv sample 478': ['Fwd Pkt Len Max', 'Bwd Header Len', 'Fwd Pkt Len Std', 'Flow Byts/s', 'Pkt Size Avg', 'Pkt Len Mean', 'Fwd Pkt Len Mean', 'Fwd Pkt Len Min', 'Pkt Len Max', 'Pkt Len Var'], 'Adv sample 479': ['Fwd Pkt Len Max', 'Fwd Pkt Len Std', 'Bwd Header Len', 'Flow Byts/s', 'Fwd Seg Size Avg', 'Pkt Len Std', 'Fwd Pkt Len Mean', 'Pkt Len Max', 'Fwd IAT Tot', 'Bwd URG Flags'], 'Adv sample 480': ['Fwd Pkt Len Max', 'Fwd Pkt Len Std', 'Bwd Header Len', 'Flow Byts/s', 'Fwd Pkt Len Mean', 'Fwd Pkt Len Min', 'Pkt Len Std', 'Init Bwd Win Byts', 'Pkt Size Avg', 'Pkt Len Max'], 'Adv sample 481': ['Fwd Pkt Len Max', 'Fwd Pkt Len Std', 'Pkt Len Mean', 'Fwd Pkt Len Mean', 'Fwd Seg Size Avg', 'Fwd Pkt Len Min', 'Pkt Size Avg', 'Flow Byts/s', 'Pkt Len Std', 'Init Bwd Win Byts'], 'Adv sample 482': ['Fwd Pkt Len Max', 'Fwd Pkt Len Std', 'Bwd Header Len', 'Fwd Pkt Len Mean', 'Flow Byts/s', 'Pkt Len Std', 'Fwd Seg Size Avg', 'Pkt Size Avg', 'Pkt Len Max', 'Fwd Pkt Len Min'], 'Adv sample 483': ['Fwd Pkt Len Max', 'Fwd Pkt Len Std', 'Bwd Header Len', 'Pkt Len Std', 'Fwd Pkt Len Mean', 'Pkt Size Avg', 'Fwd Seg Size Avg', 'Pkt Len Mean', 'Pkt Len Max', 'Init Bwd Win Byts'], 'Adv sample 484': ['Fwd Pkt Len Max', 'Fwd Pkt Len Std', 'Fwd Pkt Len Mean', 'Bwd Header Len', 'Pkt Len Std', 'Flow Byts/s', 'Pkt Len Mean', 'Pkt Size Avg', 'Fwd Pkt Len Min', 'Pkt Len Min'], 'Adv sample 485': ['Fwd Pkt Len Max', 'Fwd Pkt Len Std', 'Flow Byts/s', 'Bwd Header Len', 'Fwd Pkt Len Mean', 'Fwd Pkt Len Min', 'Pkt Size Avg', 'Pkt Len Min', 'Fwd Seg Size Avg', 'Init Bwd Win Byts'], 'Adv sample 486': ['Fwd Pkt Len Max', 'Fwd Pkt Len Std', 'Fwd Pkt Len Mean', 'Flow Byts/s', 'Pkt Len Std', 'Pkt Size Avg', 'Pkt Len Max', 'Fwd Seg Size Avg', 'Pkt Len Mean', 'Fwd Pkt Len Min'], 'Adv sample 487': ['Bwd Header Len', 'Fwd Pkt Len Max', 'Fwd Pkt Len Std', 'Pkt Len Std', 'Fwd Pkt Len Mean', 'Fwd Seg Size Avg', 'Pkt Len Max', 'Pkt Size Avg', 'Pkt Len Mean', 'Fwd Pkt Len Min'], 'Adv sample 488': ['Fwd Pkt Len Max', 'Flow Byts/s', 'Fwd Pkt Len Std', 'Bwd Header Len', 'Fwd Seg Size Avg', 'Fwd Pkt Len Mean', 'Fwd Pkt Len Min', 'Pkt Len Mean', 'Pkt Len Std', 'Pkt Size Avg'], 'Adv sample 489': ['Fwd Pkt Len Max', 'Bwd Header Len', 'Fwd Pkt Len Std', 'Pkt Len Std', 'Fwd Pkt Len Mean', 'Pkt Len Max', 'Pkt Size Avg', 'Fwd Pkt Len Min', 'Fwd Seg Size Avg', 'Pkt Len Mean'], 'Adv sample 490': ['Fwd Pkt Len Max', 'Bwd Header Len', 'Flow Byts/s', 'Pkt Len Min', 'Pkt Len Std', 'Fwd Pkt Len Min', 'Fwd Pkt Len Std', 'Pkt Len Mean', 'Fwd Seg Size Avg', 'Init Bwd Win Byts'], 'Adv sample 491': ['Fwd Pkt Len Max', 'Fwd Pkt Len Std', 'Bwd Header Len', 'Flow Byts/s', 'Fwd Pkt Len Mean', 'Pkt Len Std', 'Init Bwd Win Byts', 'Fwd Pkt Len Min', 'Fwd Seg Size Avg', 'Tot Bwd Pkts'], 'Adv sample 492': ['Fwd Pkt Len Max', 'Fwd Pkt Len Std', 'Fwd Pkt Len Mean', 'Flow Byts/s', 'Fwd Seg Size Avg', 'Pkt Len Std', 'Pkt Len Mean', 'Fwd Pkt Len Min', 'Pkt Len Max', 'Pkt Len Min'], 'Adv sample 493': ['Fwd Pkt Len Std', 'Fwd Pkt Len Max', 'Bwd Header Len', 'Flow Byts/s', 'Fwd Pkt Len Mean', 'Pkt Size Avg', 'Pkt Len Std', 'Pkt Len Mean', 'Pkt Len Max', 'Fwd Seg Size Avg'], 'Adv sample 494': ['Fwd Pkt Len Max', 'Fwd Pkt Len Std', 'Flow Byts/s', 'Pkt Len Std', 'Pkt Size Avg', 'Fwd Pkt Len Min', 'Fwd Pkt Len Mean', 'Fwd Seg Size Avg', 'Bwd Header Len', 'Pkt Len Min'], 'Adv sample 495': ['Fwd Pkt Len Max', 'Fwd Pkt Len Std', 'Bwd Header Len', 'Fwd Pkt Len Mean', 'Pkt Size Avg', 'Fwd Pkt Len Min', 'Flow Byts/s', 'Fwd Seg Size Avg', 'Pkt Len Std', 'Pkt Len Mean'], 'Adv sample 496': ['Fwd Pkt Len Max', 'Bwd Header Len', 'Fwd Pkt Len Mean', 'Fwd Pkt Len Std', 'Pkt Len Max', 'Pkt Len Std', 'Pkt Size Avg', 'Pkt Len Mean', 'Pkt Len Min', 'Fwd Seg Size Avg'], 'Adv sample 497': ['Bwd Header Len', 'Fwd Pkt Len Max', 'Fwd Pkt Len Std', 'Pkt Size Avg', 'Flow Byts/s', 'Fwd Pkt Len Min', 'Tot Bwd Pkts', 'Fwd Pkt Len Mean', 'Pkt Len Max', 'Bwd Pkt Len Std'], 'Adv sample 498': ['Bwd Header Len', 'Fwd Pkt Len Max', 'Pkt Len Std', 'Fwd Pkt Len Std', 'Flow Byts/s', 'Fwd Pkt Len Mean', 'Pkt Len Min', 'Pkt Size Avg', 'Fwd Seg Size Avg', 'Init Bwd Win Byts'], 'Adv sample 499': ['Fwd Pkt Len Max', 'Pkt Len Std', 'Fwd Pkt Len Std', 'Pkt Len Max', 'Fwd Pkt Len Mean', 'Fwd Seg Size Avg', 'Bwd Header Len', 'Pkt Len Mean', 'Pkt Size Avg', 'Pkt Len Min'], 'Adv sample 500': ['Fwd Pkt Len Std', 'Fwd Pkt Len Max', 'Bwd Header Len', 'Fwd Pkt Len Mean', 'Pkt Len Max', 'Pkt Len Std', 'Fwd Seg Size Avg', 'Pkt Size Avg', 'Init Bwd Win Byts', 'Pkt Len Mean'], 'Adv sample 501': ['Fwd Pkt Len Max', 'Fwd Pkt Len Std', 'Flow Byts/s', 'Bwd Header Len', 'Pkt Len Std', 'Fwd Pkt Len Mean', 'Pkt Len Max', 'Pkt Len Min', 'Pkt Size Avg', 'Init Bwd Win Byts'], 'Adv sample 502': ['Fwd Pkt Len Max', 'Fwd Seg Size Avg', 'Flow Byts/s', 'Bwd IAT Tot', 'Bwd URG Flags', 'Flow Pkts/s', 'Fwd Pkt Len Mean', 'Pkt Len Var', 'Flow Duration', 'Fwd PSH Flags'], 'Adv sample 503': ['Fwd Pkt Len Max', 'Fwd Pkt Len Mean', 'Pkt Len Std', 'Bwd Header Len', 'Pkt Len Max', 'Fwd Pkt Len Std', 'Pkt Size Avg', 'Fwd Seg Size Avg', 'Pkt Len Mean', 'Init Bwd Win Byts'], 'Adv sample 504': ['Fwd Pkt Len Std', 'Bwd Header Len', 'Fwd Pkt Len Max', 'Fwd Pkt Len Mean', 'Fwd Seg Size Avg', 'Pkt Len Min', 'Pkt Len Mean', 'Pkt Len Std', 'Bwd Pkt Len Std', 'Fwd Pkt Len Min'], 'Adv sample 505': ['Fwd Pkt Len Max', 'Fwd Pkt Len Std', 'Fwd Pkt Len Mean', 'Pkt Len Max', 'Flow Byts/s', 'Pkt Size Avg', 'Pkt Len Std', 'Fwd Pkt Len Min', 'Pkt Len Mean', 'Fwd Seg Size Avg'], 'Adv sample 506': ['Fwd Pkt Len Std', 'Fwd Pkt Len Max', 'Bwd Header Len', 'Fwd Pkt Len Mean', 'Fwd Seg Size Avg', 'Flow Byts/s', 'Pkt Len Mean', 'Pkt Len Std', 'Pkt Size Avg', 'Pkt Len Max'], 'Adv sample 507': ['Bwd Header Len', 'Fwd Pkt Len Std', 'Fwd Pkt Len Max', 'Flow Byts/s', 'Pkt Len Max', 'Pkt Size Avg', 'Pkt Len Std', 'Pkt Len Mean', 'Fwd Pkt Len Mean', 'Fwd Seg Size Avg'], 'Adv sample 508': ['Fwd Pkt Len Max', 'Fwd Pkt Len Std', 'Fwd Pkt Len Mean', 'Flow Byts/s', 'Fwd Seg Size Avg', 'Pkt Len Std', 'Init Bwd Win Byts', 'Pkt Len Min', 'Pkt Size Avg', 'Init Fwd Win Byts'], 'Adv sample 509': ['Fwd Pkt Len Max', 'Bwd Header Len', 'Fwd Pkt Len Std', 'Flow Byts/s', 'Fwd Seg Size Avg', 'Pkt Len Std', 'Pkt Len Max', 'Fwd Pkt Len Mean', 'Init Bwd Win Byts', 'Pkt Size Avg'], 'Adv sample 510': ['Fwd Pkt Len Std', 'Fwd Pkt Len Max', 'Bwd Header Len', 'Fwd Pkt Len Mean', 'Flow Byts/s', 'Pkt Len Max', 'Pkt Len Std', 'Fwd Pkt Len Min', 'Pkt Len Mean', 'Pkt Len Var'], 'Adv sample 511': ['Fwd Pkt Len Std', 'Fwd Pkt Len Max', 'Flow Byts/s', 'Fwd Seg Size Avg', 'Pkt Len Max', 'Fwd Pkt Len Mean', 'Bwd Header Len', 'Pkt Len Std', 'Pkt Len Mean', 'Pkt Size Avg'], 'Adv sample 512': ['SYN Flag Cnt', 'Flow Duration', 'Bwd Byts/b Avg', 'Fwd Seg Size Avg', 'URG Flag Cnt', 'Fwd IAT Std', 'FIN Flag Cnt', 'Bwd IAT Std', 'Idle Mean', 'Fwd IAT Mean'], 'Adv sample 513': ['Bwd Header Len', 'Fwd Pkt Len Std', 'Fwd Pkt Len Max', 'Flow Byts/s', 'Fwd Seg Size Avg', 'Pkt Size Avg', 'Pkt Len Max', 'Pkt Len Mean', 'Fwd Pkt Len Mean', 'Pkt Len Std'], 'Adv sample 514': ['Flow Duration', 'SYN Flag Cnt', 'Pkt Len Std', 'Bwd PSH Flags', 'URG Flag Cnt', 'Fwd IAT Std', 'Bwd Byts/b Avg', 'Idle Mean', 'Fwd Pkt Len Min', 'Tot Fwd Pkts'], 'Adv sample 515': ['Fwd Pkt Len Max', 'Fwd Pkt Len Std', 'Bwd Header Len', 'Fwd Pkt Len Mean', 'Pkt Len Mean', 'Pkt Len Std', 'Init Bwd Win Byts', 'Pkt Len Max', 'Flow Byts/s', 'Pkt Len Min'], 'Adv sample 516': ['Bwd Header Len', 'Fwd Pkt Len Std', 'Fwd Pkt Len Max', 'Flow Byts/s', 'Pkt Len Max', 'Tot Bwd Pkts', 'Init Fwd Win Byts', 'Pkt Len Std', 'Subflow Bwd Pkts', 'Idle Max'], 'Adv sample 517': ['Fwd Pkt Len Max', 'Fwd Seg Size Avg', 'Flow Byts/s', 'Bwd IAT Tot', 'Pkt Len Var', 'Flow Pkts/s', 'Fwd PSH Flags', 'TotLen Fwd Pkts', 'Bwd Header Len', 'Fwd Pkt Len Min'], 'Adv sample 518': ['Fwd Pkt Len Max', 'Fwd Seg Size Avg', 'Flow Byts/s', 'Flow Pkts/s', 'Bwd IAT Tot', 'Pkt Len Var', 'Flow IAT Max', 'Fwd PSH Flags', 'Pkt Len Std', 'Active Max'], 'Adv sample 519': ['Fwd Pkt Len Max', 'Fwd Pkt Len Std', 'Bwd Header Len', 'Pkt Len Max', 'Fwd Pkt Len Mean', 'Pkt Len Std', 'Pkt Size Avg', 'Pkt Len Min', 'Fwd Seg Size Avg', 'Pkt Len Mean'], 'Adv sample 520': ['Flow Duration', 'SYN Flag Cnt', 'Bwd Seg Size Avg', 'Subflow Bwd Pkts', 'Bwd IAT Std', 'FIN Flag Cnt', 'URG Flag Cnt', 'Bwd PSH Flags', 'Tot Fwd Pkts', 'Tot Bwd Pkts'], 'Adv sample 521': ['Fwd Pkt Len Max', 'Fwd Pkt Len Std', 'Bwd Header Len', 'Fwd Pkt Len Mean', 'Pkt Len Std', 'Fwd Seg Size Avg', 'Pkt Len Max', 'Init Bwd Win Byts', 'Pkt Len Min', 'Pkt Size Avg'], 'Adv sample 522': ['Fwd Pkt Len Std', 'Fwd Pkt Len Mean', 'Fwd Seg Size Avg', 'Bwd Header Len', 'Pkt Size Avg', 'Pkt Len Max', 'Pkt Len Mean', 'Fwd Pkt Len Min', 'Init Bwd Win Byts', 'Pkt Len Min'], 'Adv sample 523': ['Fwd Pkt Len Max', 'Fwd Pkt Len Std', 'Bwd Header Len', 'Pkt Size Avg', 'Flow Byts/s', 'Pkt Len Mean', 'Pkt Len Std', 'Fwd Seg Size Avg', 'Bwd Pkt Len Std', 'Fwd Pkt Len Mean'], 'Adv sample 524': ['Fwd Pkt Len Max', 'Fwd Pkt Len Std', 'Bwd Header Len', 'Fwd Pkt Len Mean', 'Pkt Len Std', 'Pkt Len Max', 'Pkt Len Mean', 'Fwd Seg Size Avg', 'Init Bwd Win Byts', 'Pkt Size Avg'], 'Adv sample 525': ['Fwd Pkt Len Max', 'Fwd Pkt Len Std', 'Fwd Pkt Len Mean', 'Pkt Size Avg', 'Pkt Len Mean', 'Flow Byts/s', 'Pkt Len Max', 'Init Bwd Win Byts', 'Pkt Len Std', 'Fwd Seg Size Avg'], 'Adv sample 526': ['Fwd Pkt Len Std', 'Bwd Header Len', 'Fwd Pkt Len Max', 'Flow Byts/s', 'Pkt Len Std', 'Fwd Seg Size Avg', 'Fwd Pkt Len Mean', 'Pkt Size Avg', 'Fwd Pkt Len Min', 'Pkt Len Mean'], 'Adv sample 527': ['Fwd Pkt Len Max', 'Fwd Pkt Len Std', 'Bwd Header Len', 'Init Bwd Win Byts', 'Flow Byts/s', 'Fwd Pkt Len Mean', 'Fwd Seg Size Avg', 'Pkt Len Std', 'Pkt Size Avg', 'Pkt Len Max'], 'Adv sample 528': ['Fwd Pkt Len Std', 'Fwd Pkt Len Max', 'Bwd Header Len', 'Pkt Len Std', 'Pkt Len Max', 'Pkt Len Mean', 'Fwd Pkt Len Mean', 'Pkt Len Min', 'Fwd Seg Size Avg', 'Pkt Size Avg'], 'Adv sample 529': ['Bwd Header Len', 'Fwd Pkt Len Max', 'Fwd Pkt Len Std', 'Pkt Len Std', 'Flow Byts/s', 'Pkt Size Avg', 'Fwd Pkt Len Min', 'Fwd Pkt Len Mean', 'Pkt Len Max', 'Pkt Len Min'], 'Adv sample 530': ['Bwd Header Len', 'Flow Byts/s', 'Fwd Pkt Len Std', 'Fwd Pkt Len Max', 'Pkt Len Max', 'Fwd Pkt Len Mean', 'Pkt Size Avg', 'Fwd Pkt Len Min', 'Pkt Len Mean', 'Pkt Len Std'], 'Adv sample 531': ['Fwd Pkt Len Std', 'Fwd Pkt Len Max', 'Bwd Header Len', 'Flow Byts/s', 'Fwd Pkt Len Mean', 'Pkt Len Std', 'Pkt Len Max', 'Fwd Seg Size Avg', 'Tot Bwd Pkts', 'Pkt Len Var'], 'Adv sample 532': ['Bwd Header Len', 'Fwd Pkt Len Max', 'Fwd Pkt Len Std', 'Flow Byts/s', 'Pkt Len Mean', 'Fwd Pkt Len Min', 'Fwd Seg Size Avg', 'Pkt Size Avg', 'Init Bwd Win Byts', 'Fwd Pkt Len Mean'], 'Adv sample 533': ['Fwd Pkt Len Max', 'Fwd Pkt Len Std', 'Pkt Len Std', 'Pkt Len Max', 'Flow Byts/s', 'Fwd Pkt Len Min', 'Fwd Pkt Len Mean', 'Bwd Header Len', 'Pkt Len Mean', 'Pkt Len Min'], 'Adv sample 534': ['Fwd Pkt Len Std', 'Fwd Pkt Len Max', 'Bwd Header Len', 'Pkt Len Std', 'Fwd Seg Size Avg', 'Fwd Pkt Len Mean', 'Fwd Pkt Len Min', 'Init Bwd Win Byts', 'Pkt Size Avg', 'Bwd Pkt Len Std'], 'Adv sample 535': ['Flow Byts/s', 'Fwd Pkt Len Max', 'Bwd Header Len', 'Fwd Pkt Len Std', 'Fwd Pkt Len Min', 'Fwd Pkt Len Mean', 'Pkt Len Max', 'Init Bwd Win Byts', 'Pkt Len Min', 'Pkt Size Avg'], 'Adv sample 536': ['Fwd Pkt Len Std', 'Bwd Header Len', 'Fwd Pkt Len Max', 'Flow Byts/s', 'Pkt Len Std', 'Fwd Pkt Len Mean', 'Pkt Size Avg', 'Pkt Len Max', 'Fwd Pkt Len Min', 'Fwd Seg Size Avg'], 'Adv sample 537': ['Fwd Pkt Len Max', 'Flow Byts/s', 'Fwd Pkt Len Mean', 'Fwd Pkt Len Std', 'Pkt Len Std', 'Pkt Len Mean', 'Fwd Seg Size Avg', 'Init Bwd Win Byts', 'Pkt Len Min', 'Pkt Size Avg'], 'Adv sample 538': ['Fwd Pkt Len Max', 'Fwd Pkt Len Std', 'Bwd Header Len', 'Fwd Pkt Len Mean', 'Flow Byts/s', 'Pkt Len Min', 'Pkt Len Std', 'Fwd Seg Size Avg', 'Fwd Pkt Len Min', 'Pkt Len Mean'], 'Adv sample 539': ['Flow Duration', 'FIN Flag Cnt', 'PSH Flag Cnt', 'Bwd Byts/b Avg', 'SYN Flag Cnt', 'Bwd Seg Size Avg', 'URG Flag Cnt', 'Bwd Pkt Len Std', 'Fwd Act Data Pkts', 'Fwd Seg Size Avg'], 'Adv sample 540': ['Fwd Pkt Len Std', 'Fwd Pkt Len Max', 'Flow Byts/s', 'Pkt Len Mean', 'Pkt Size Avg', 'Fwd Pkt Len Min', 'Fwd Pkt Len Mean', 'Pkt Len Min', 'Pkt Len Max', 'Pkt Len Std'], 'Adv sample 541': ['Fwd Pkt Len Max', 'Bwd Header Len', 'Fwd Pkt Len Std', 'Pkt Len Std', 'Flow Byts/s', 'Pkt Len Max', 'Fwd Pkt Len Mean', 'Pkt Len Mean', 'Pkt Size Avg', 'Fwd Pkt Len Min'], 'Adv sample 542': ['Fwd Pkt Len Max', 'Fwd Pkt Len Mean', 'Fwd Pkt Len Std', 'Fwd Seg Size Avg', 'Init Bwd Win Byts', 'Pkt Len Min', 'Pkt Size Avg', 'Pkt Len Std', 'Pkt Len Mean', 'Flow Byts/s'], 'Adv sample 543': ['Fwd Pkt Len Max', 'Fwd Seg Size Avg', 'Flow Byts/s', 'Bwd IAT Tot', 'Flow Pkts/s', 'Fwd PSH Flags', 'Fwd IAT Min', 'Subflow Bwd Byts', 'Pkt Len Mean', 'Bwd URG Flags'], 'Adv sample 544': ['Fwd Pkt Len Max', 'Fwd Pkt Len Std', 'Fwd Pkt Len Mean', 'Flow Byts/s', 'Bwd Header Len', 'Pkt Len Min', 'Pkt Len Mean', 'Tot Bwd Pkts', 'Pkt Len Max', 'Fwd Pkt Len Min'], 'Adv sample 545': ['Fwd Pkt Len Max', 'Bwd Header Len', 'Fwd Pkt Len Mean', 'Fwd Pkt Len Std', 'Pkt Size Avg', 'Fwd Seg Size Avg', 'Init Bwd Win Byts', 'Fwd Pkt Len Min', 'Pkt Len Min', 'Pkt Len Std'], 'Adv sample 546': ['Fwd Pkt Len Max', 'Fwd Pkt Len Std', 'Fwd Pkt Len Mean', 'Pkt Len Max', 'Fwd Seg Size Avg', 'Pkt Len Std', 'Flow Byts/s', 'Fwd Pkt Len Min', 'Pkt Len Mean', 'Bwd Header Len'], 'Adv sample 547': ['Fwd Pkt Len Std', 'Flow Byts/s', 'Fwd Pkt Len Max', 'Pkt Len Mean', 'Fwd Pkt Len Min', 'Pkt Size Avg', 'Pkt Len Max', 'Pkt Len Std', 'Fwd Pkt Len Mean', 'Fwd Seg Size Avg'], 'Adv sample 548': ['Fwd Pkt Len Max', 'Fwd Pkt Len Std', 'Pkt Len Std', 'Bwd Header Len', 'Init Bwd Win Byts', 'Pkt Size Avg', 'Fwd Pkt Len Min', 'Pkt Len Max', 'Fwd Pkt Len Mean', 'Pkt Len Mean'], 'Adv sample 549': ['Fwd Pkt Len Max', 'Fwd Pkt Len Std', 'Bwd Header Len', 'Pkt Len Mean', 'Pkt Len Std', 'Fwd Pkt Len Mean', 'Flow Byts/s', 'Pkt Len Max', 'Init Bwd Win Byts', 'Fwd Seg Size Avg'], 'Adv sample 550': ['Fwd Pkt Len Std', 'Fwd Pkt Len Max', 'Fwd Pkt Len Mean', 'Flow Byts/s', 'Pkt Len Std', 'Pkt Size Avg', 'Pkt Len Max', 'Pkt Len Mean', 'Fwd Pkt Len Min', 'Bwd Header Len'], 'Adv sample 551': ['Fwd Pkt Len Std', 'Bwd Header Len', 'Fwd Pkt Len Max', 'Flow Byts/s', 'Pkt Size Avg', 'Fwd Pkt Len Min', 'Pkt Len Std', 'Fwd Pkt Len Mean', 'Pkt Len Max', 'Fwd Seg Size Avg'], 'Adv sample 552': ['Fwd Pkt Len Max', 'Bwd Header Len', 'Fwd Pkt Len Std', 'Flow Byts/s', 'Pkt Len Mean', 'Fwd Pkt Len Mean', 'Fwd Seg Size Avg', 'Pkt Len Std', 'Fwd Pkt Len Min', 'Pkt Size Avg'], 'Adv sample 553': ['Fwd Pkt Len Max', 'Fwd Pkt Len Std', 'Fwd Pkt Len Mean', 'Bwd Header Len', 'Fwd Seg Size Avg', 'Flow Byts/s', 'Pkt Len Std', 'Pkt Len Max', 'Pkt Len Mean', 'Fwd Pkt Len Min'], 'Adv sample 554': ['Fwd Pkt Len Max', 'Flow Byts/s', 'Fwd Pkt Len Std', 'Bwd Header Len', 'Fwd Pkt Len Mean', 'Pkt Size Avg', 'Fwd Seg Size Avg', 'Init Bwd Win Byts', 'Pkt Len Std', 'Fwd Pkt Len Min'], 'Adv sample 555': ['Fwd Pkt Len Max', 'Fwd Pkt Len Std', 'Fwd Pkt Len Mean', 'Pkt Len Max', 'Flow Byts/s', 'Pkt Len Mean', 'Fwd Seg Size Avg', 'Pkt Size Avg', 'Pkt Len Min', 'Fwd Pkt Len Min'], 'Adv sample 556': ['Fwd Pkt Len Max', 'Fwd Pkt Len Std', 'Bwd Header Len', 'Fwd Pkt Len Mean', 'Pkt Size Avg', 'Pkt Len Mean', 'Fwd Seg Size Avg', 'Pkt Len Max', 'Init Bwd Win Byts', 'Pkt Len Std'], 'Adv sample 557': ['Fwd Pkt Len Max', 'Fwd Seg Size Avg', 'Flow Byts/s', 'Bwd IAT Tot', 'Pkt Len Var', 'Flow Pkts/s', 'Flow Duration', 'Fwd PSH Flags', 'Bwd Pkt Len Mean', 'Idle Max'], 'Adv sample 558': ['Fwd Pkt Len Std', 'Fwd Pkt Len Max', 'Bwd Header Len', 'Flow Byts/s', 'Fwd Pkt Len Mean', 'Init Bwd Win Byts', 'Pkt Len Std', 'Fwd Seg Size Avg', 'Pkt Size Avg', 'Pkt Len Max'], 'Adv sample 559': ['Bwd Header Len', 'Fwd Pkt Len Max', 'Fwd Pkt Len Std', 'Pkt Len Std', 'Pkt Len Max', 'Fwd Pkt Len Mean', 'Fwd Seg Size Avg', 'Pkt Len Mean', 'Pkt Size Avg', 'Pkt Len Min'], 'Adv sample 560': ['Fwd Pkt Len Std', 'Fwd Pkt Len Max', 'Fwd Pkt Len Mean', 'Flow Byts/s', 'Init Bwd Win Byts', 'Pkt Size Avg', 'Fwd Seg Size Avg', 'Pkt Len Std', 'Pkt Len Mean', 'Pkt Len Max'], 'Adv sample 561': ['Fwd Pkt Len Max', 'Flow Byts/s', 'Bwd Header Len', 'Fwd Pkt Len Std', 'Pkt Len Std', 'Pkt Len Max', 'Fwd Pkt Len Mean', 'Init Bwd Win Byts', 'Fwd Seg Size Avg', 'Pkt Size Avg'], 'Adv sample 562': ['Fwd Pkt Len Max', 'Pkt Len Max', 'Fwd Pkt Len Std', 'Fwd Pkt Len Mean', 'Pkt Len Std', 'Init Bwd Win Byts', 'Pkt Len Mean', 'Bwd Header Len', 'Idle Max', 'Fwd Pkt Len Min'], 'Adv sample 563': ['Bwd Header Len', 'Fwd Pkt Len Mean', 'Fwd Pkt Len Std', 'Fwd Pkt Len Max', 'Flow Byts/s', 'Pkt Len Min', 'Pkt Len Max', 'Pkt Len Std', 'Pkt Size Avg', 'Init Bwd Win Byts'], 'Adv sample 564': ['Fwd Pkt Len Std', 'Fwd Pkt Len Mean', 'Fwd Seg Size Avg', 'Bwd Header Len', 'Pkt Len Mean', 'Fwd Pkt Len Min', 'Pkt Len Max', 'Pkt Size Avg', 'Bwd Pkt Len Std', 'Pkt Len Min'], 'Adv sample 565': ['Fwd Pkt Len Max', 'Fwd Seg Size Avg', 'Flow Byts/s', 'Bwd IAT Tot', 'Fwd Pkts/s', 'Active Mean', 'Flow Pkts/s', 'ECE Flag Cnt', 'Fwd PSH Flags', 'Idle Max'], 'Adv sample 566': ['Fwd Pkt Len Max', 'Bwd Header Len', 'Fwd Pkt Len Std', 'Pkt Len Mean', 'Pkt Len Max', 'Fwd Pkt Len Mean', 'Fwd Seg Size Avg', 'Pkt Len Std', 'Flow Byts/s', 'Pkt Len Min'], 'Adv sample 567': ['Fwd Pkt Len Std', 'Fwd Pkt Len Max', 'Bwd Header Len', 'Pkt Len Mean', 'Init Bwd Win Byts', 'Fwd Pkt Len Mean', 'Pkt Len Min', 'Pkt Len Std', 'Pkt Len Max', 'Pkt Size Avg'], 'Adv sample 568': ['Flow Byts/s', 'Fwd Pkt Len Max', 'Fwd Pkt Len Std', 'Bwd Header Len', 'Init Bwd Win Byts', 'Fwd Seg Size Avg', 'Fwd Pkt Len Mean', 'Pkt Len Min', 'Fwd Pkt Len Min', 'Pkt Size Avg'], 'Adv sample 569': ['Fwd Pkt Len Std', 'Fwd Pkt Len Max', 'Pkt Len Std', 'Bwd Header Len', 'Fwd Seg Size Avg', 'Fwd Pkt Len Mean', 'Flow Byts/s', 'Pkt Len Min', 'Pkt Len Mean', 'Pkt Size Avg'], 'Adv sample 570': ['Fwd Pkt Len Mean', 'Fwd Pkt Len Max', 'Fwd Pkt Len Std', 'Flow Byts/s', 'Pkt Len Std', 'Init Bwd Win Byts', 'Pkt Len Mean', 'Fwd Seg Size Avg', 'Pkt Len Max', 'Pkt Size Avg'], 'Adv sample 571': ['Fwd Pkt Len Std', 'Fwd Pkt Len Max', 'Bwd Header Len', 'Fwd Seg Size Avg', 'Flow Byts/s', 'Fwd Pkt Len Mean', 'Pkt Len Std', 'Pkt Len Max', 'Pkt Len Var', 'Tot Bwd Pkts'], 'Adv sample 572': ['Bwd Header Len', 'Fwd Pkt Len Max', 'Fwd Pkt Len Std', 'Flow Byts/s', 'Fwd Seg Size Avg', 'Fwd Pkt Len Mean', 'Pkt Len Std', 'Pkt Len Max', 'Pkt Size Avg', 'Init Bwd Win Byts'], 'Adv sample 573': ['Fwd Pkt Len Std', 'Fwd Pkt Len Max', 'Fwd Pkt Len Mean', 'Bwd Header Len', 'Pkt Len Max', 'Pkt Len Std', 'Pkt Len Mean', 'Fwd Pkt Len Min', 'Init Bwd Win Byts', 'Fwd Seg Size Avg'], 'Adv sample 574': ['Fwd Pkt Len Max', 'Fwd Pkt Len Std', 'Pkt Len Std', 'Fwd Pkt Len Mean', 'Bwd Header Len', 'Init Bwd Win Byts', 'Pkt Size Avg', 'Fwd Seg Size Avg', 'Pkt Len Max', 'Fwd Pkt Len Min'], 'Adv sample 575': ['Flow Byts/s', 'Fwd Pkt Len Std', 'Fwd Pkt Len Max', 'Bwd Header Len', 'Pkt Len Std', 'Fwd Pkt Len Min', 'Pkt Len Max', 'Fwd Pkt Len Mean', 'Init Bwd Win Byts', 'Pkt Len Mean'], 'Adv sample 576': ['Fwd Pkt Len Max', 'Fwd Pkt Len Std', 'Bwd Header Len', 'Flow Byts/s', 'Pkt Len Std', 'Pkt Len Mean', 'Pkt Len Max', 'Fwd Pkt Len Mean', 'Fwd Pkt Len Min', 'Fwd Seg Size Avg'], 'Adv sample 577': ['Fwd Pkt Len Max', 'Fwd Pkt Len Std', 'Fwd Seg Size Avg', 'Pkt Len Std', 'Pkt Len Mean', 'Bwd Header Len', 'Init Bwd Win Byts', 'Fwd Pkt Len Mean', 'Fwd Pkt Len Min', 'Tot Bwd Pkts'], 'Adv sample 578': ['SYN Flag Cnt', 'Flow Duration', 'URG Flag Cnt', 'Bwd Seg Size Avg', 'Fwd IAT Std', 'Bwd Byts/b Avg', 'TotLen Bwd Pkts', 'Down/Up Ratio', 'Fwd IAT Tot', 'Idle Std'], 'Adv sample 579': ['Fwd Pkt Len Max', 'Fwd Pkt Len Std', 'Pkt Len Min', 'Flow Byts/s', 'Fwd Pkt Len Mean', 'Fwd Seg Size Avg', 'Pkt Len Std', 'Pkt Len Max', 'Pkt Size Avg', 'Fwd Pkt Len Min'], 'Adv sample 580': ['Fwd Pkt Len Max', 'Flow Byts/s', 'Fwd Pkt Len Std', 'Bwd Header Len', 'Fwd Pkt Len Mean', 'Pkt Len Std', 'Pkt Len Mean', 'Fwd Seg Size Avg', 'Pkt Size Avg', 'Fwd Pkt Len Min'], 'Adv sample 581': ['Flow Byts/s', 'Bwd Header Len', 'Pkt Len Max', 'Fwd Pkt Len Std', 'Pkt Size Avg', 'Init Bwd Win Byts', 'Fwd Pkt Len Max', 'Pkt Len Std', 'Tot Bwd Pkts', 'Fwd Pkt Len Mean'], 'Adv sample 582': ['SYN Flag Cnt', 'FIN Flag Cnt', 'Flow Duration', 'Bwd PSH Flags', 'Subflow Bwd Byts', 'Bwd Byts/b Avg', 'Idle Mean', 'Bwd Seg Size Avg', 'Fwd Pkts/b Avg', 'Fwd Act Data Pkts'], 'Adv sample 583': ['Bwd Header Len', 'Fwd Pkt Len Max', 'Fwd Pkt Len Std', 'Flow Byts/s', 'Fwd Seg Size Avg', 'Pkt Len Max', 'Init Bwd Win Byts', 'Fwd Pkt Len Min', 'Fwd Pkt Len Mean', 'Pkt Len Mean'], 'Adv sample 584': ['Fwd Pkt Len Max', 'Fwd Pkt Len Mean', 'Bwd Header Len', 'Pkt Len Std', 'Flow Byts/s', 'Fwd Pkt Len Std', 'Pkt Len Mean', 'Init Bwd Win Byts', 'Pkt Size Avg', 'Fwd Seg Size Avg'], 'Adv sample 585': ['Fwd Pkt Len Max', 'Fwd Pkt Len Mean', 'Fwd Pkt Len Std', 'Fwd Seg Size Avg', 'Flow Byts/s', 'Pkt Len Std', 'Fwd Pkt Len Min', 'Pkt Len Max', 'Pkt Size Avg', 'Pkt Len Mean'], 'Adv sample 586': ['Fwd Pkt Len Max', 'Fwd Pkt Len Std', 'Flow Byts/s', 'Fwd Pkt Len Mean', 'Pkt Len Mean', 'Pkt Len Min', 'Pkt Len Max', 'Pkt Size Avg', 'Pkt Len Std', 'Init Bwd Win Byts'], 'Adv sample 587': ['Fwd Pkt Len Std', 'Flow Byts/s', 'Bwd Header Len', 'Fwd Pkt Len Max', 'Pkt Len Std', 'Pkt Size Avg', 'Pkt Len Mean', 'Init Bwd Win Byts', 'Fwd Seg Size Avg', 'Fwd Pkt Len Mean'], 'Adv sample 588': ['Fwd Pkt Len Max', 'Fwd Pkt Len Std', 'Bwd Header Len', 'Flow Byts/s', 'Fwd Pkt Len Mean', 'Pkt Len Std', 'Pkt Len Mean', 'Pkt Len Min', 'Fwd Seg Size Avg', 'Pkt Size Avg'], 'Adv sample 589': ['Fwd Pkt Len Max', 'Fwd Pkt Len Std', 'Bwd Header Len', 'Pkt Len Mean', 'Fwd Pkt Len Mean', 'Pkt Len Min', 'Pkt Len Max', 'Pkt Len Std', 'Fwd Seg Size Avg', 'Pkt Len Var'], 'Adv sample 590': ['Flow Byts/s', 'Fwd Pkt Len Max', 'Fwd Pkt Len Std', 'Init Bwd Win Byts', 'Fwd Seg Size Avg', 'Fwd Pkt Len Mean', 'Pkt Len Max', 'Bwd Header Len', 'Fwd Pkt Len Min', 'Pkt Len Mean'], 'Adv sample 591': ['SYN Flag Cnt', 'Fwd Pkts/b Avg', 'Bwd Pkts/b Avg', 'Fwd IAT Min', 'Bwd Byts/b Avg', 'Bwd PSH Flags', 'Bwd Seg Size Avg', 'Subflow Fwd Byts', 'Bwd IAT Std', 'Fwd Pkt Len Max'], 'Adv sample 592': ['Fwd Pkt Len Std', 'Fwd Pkt Len Max', 'Bwd Header Len', 'Flow Byts/s', 'Pkt Len Max', 'Init Bwd Win Byts', 'Pkt Len Std', 'Fwd Pkt Len Min', 'Pkt Len Mean', 'Pkt Size Avg'], 'Adv sample 593': ['SYN Flag Cnt', 'Flow Duration', 'URG Flag Cnt', 'Fwd IAT Mean', 'Bwd Seg Size Avg', 'Bwd IAT Max', 'Fwd Pkts/s', 'Bwd Header Len', 'Subflow Bwd Byts', 'FIN Flag Cnt'], 'Adv sample 594': ['SYN Flag Cnt', 'Flow Duration', 'Bwd Byts/b Avg', 'Bwd Seg Size Avg', 'Idle Mean', 'URG Flag Cnt', 'ACK Flag Cnt', 'Subflow Bwd Pkts', 'FIN Flag Cnt', 'Bwd IAT Mean'], 'Adv sample 595': ['Fwd Pkt Len Max', 'Flow Byts/s', 'Fwd Pkt Len Std', 'Fwd Seg Size Avg', 'Pkt Len Mean', 'Pkt Len Std', 'Pkt Len Max', 'Fwd Pkt Len Mean', 'Init Bwd Win Byts', 'Tot Bwd Pkts'], 'Adv sample 596': ['Flow Byts/s', 'Fwd Pkt Len Std', 'Fwd Pkt Len Max', 'Fwd Pkt Len Mean', 'Bwd Header Len', 'Pkt Len Max', 'Pkt Len Std', 'Pkt Len Min', 'Fwd Pkt Len Min', 'Pkt Size Avg'], 'Adv sample 597': ['Fwd Pkt Len Std', 'Bwd Header Len', 'Fwd Pkt Len Mean', 'Fwd Seg Size Avg', 'Pkt Size Avg', 'Pkt Len Mean', 'Pkt Len Max', 'Init Bwd Win Byts', 'Fwd Pkt Len Min', 'Pkt Len Min'], 'Adv sample 598': ['Fwd Pkt Len Max', 'Fwd Pkt Len Std', 'Bwd Header Len', 'Flow Byts/s', 'Pkt Len Std', 'Pkt Len Max', 'Fwd Pkt Len Mean', 'Fwd Pkt Len Min', 'Pkt Len Mean', 'Fwd Seg Size Avg'], 'Adv sample 599': ['Fwd Pkt Len Max', 'Fwd Pkt Len Std', 'Flow Byts/s', 'Fwd Pkt Len Mean', 'Bwd Header Len', 'Pkt Len Std', 'Fwd Pkt Len Min', 'Fwd Seg Size Avg', 'Init Bwd Win Byts', 'Pkt Len Max'], 'Adv sample 600': ['Fwd Pkt Len Std', 'Bwd Header Len', 'Fwd Pkt Len Max', 'Fwd Pkt Len Mean', 'Pkt Len Std', 'Flow Byts/s', 'Fwd Pkt Len Min', 'Init Bwd Win Byts', 'Fwd Seg Size Avg', 'Pkt Len Max'], 'Adv sample 601': ['Fwd Pkt Len Std', 'Bwd Header Len', 'Fwd Pkt Len Max', 'Fwd Pkt Len Mean', 'Fwd Seg Size Avg', 'Pkt Size Avg', 'Pkt Len Max', 'Pkt Len Mean', 'Init Bwd Win Byts', 'Pkt Len Min'], 'Adv sample 602': ['Fwd Pkt Len Std', 'Fwd Pkt Len Max', 'Bwd Header Len', 'Flow Byts/s', 'Fwd Pkt Len Mean', 'Fwd Seg Size Avg', 'Pkt Len Std', 'Pkt Len Max', 'Bwd IAT Tot', 'Bwd Pkt Len Max'], 'Adv sample 603': ['Fwd Pkt Len Max', 'Fwd Pkt Len Std', 'Pkt Len Std', 'Fwd Pkt Len Mean', 'Bwd Header Len', 'Fwd Seg Size Avg', 'Pkt Len Max', 'Pkt Len Min', 'Pkt Len Mean', 'Fwd Pkt Len Min'], 'Adv sample 604': ['Fwd Pkt Len Std', 'Fwd Pkt Len Mean', 'Bwd Header Len', 'Fwd Seg Size Avg', 'Pkt Len Mean', 'Pkt Size Avg', 'Pkt Len Min', 'Fwd Pkt Len Min', 'Init Bwd Win Byts', 'Pkt Len Max'], 'Adv sample 605': ['Fwd Pkt Len Max', 'Pkt Len Std', 'Flow Byts/s', 'Bwd Header Len', 'Pkt Len Max', 'Tot Bwd Pkts', 'Init Bwd Win Byts', 'Subflow Bwd Pkts', 'Bwd Pkt Len Std', 'Fwd Header Len'], 'Adv sample 606': ['Fwd Pkt Len Std', 'Flow Byts/s', 'Fwd Pkt Len Min', 'Fwd Pkt Len Max', 'Pkt Len Max', 'Pkt Len Std', 'Pkt Len Mean', 'Pkt Size Avg', 'Fwd Pkt Len Mean', 'Init Bwd Win Byts'], 'Adv sample 607': ['Bwd Header Len', 'Fwd Pkt Len Std', 'Fwd Pkt Len Min', 'Fwd Pkt Len Max', 'Fwd Pkt Len Mean', 'Pkt Size Avg', 'Pkt Len Max', 'Pkt Len Min', 'Pkt Len Std', 'Pkt Len Mean'], 'Adv sample 608': ['Bwd Header Len', 'Fwd Pkt Len Max', 'Fwd Pkt Len Std', 'Pkt Len Std', 'Fwd Pkt Len Mean', 'Pkt Len Mean', 'Pkt Len Max', 'Fwd Pkt Len Min', 'Fwd Seg Size Avg', 'Pkt Size Avg'], 'Adv sample 609': ['Fwd Pkt Len Max', 'Bwd Header Len', 'Fwd Seg Size Avg', 'Fwd Pkt Len Std', 'Pkt Size Avg', 'Pkt Len Max', 'Fwd Pkt Len Mean', 'Flow Byts/s', 'Pkt Len Mean', 'Fwd Pkt Len Min'], 'Adv sample 610': ['SYN Flag Cnt', 'Flow Duration', 'Bwd Byts/b Avg', 'Fwd IAT Std', 'Bwd PSH Flags', 'Subflow Fwd Pkts', 'Idle Std', 'Bwd Pkt Len Min', 'Bwd IAT Mean', 'Bwd Seg Size Avg'], 'Adv sample 611': ['Fwd Pkt Len Max', 'Fwd Pkt Len Std', 'Flow Byts/s', 'Bwd Header Len', 'Fwd Pkt Len Mean', 'Fwd Pkt Len Min', 'Pkt Len Std', 'Pkt Size Avg', 'Fwd Seg Size Avg', 'Pkt Len Max'], 'Adv sample 612': ['Fwd Pkt Len Std', 'Fwd Pkt Len Min', 'Flow Byts/s', 'Pkt Len Max', 'Init Bwd Win Byts', 'Idle Mean', 'Pkt Len Std', 'URG Flag Cnt', 'Idle Min', 'Subflow Bwd Pkts'], 'Adv sample 613': ['Fwd Pkt Len Max', 'Fwd Pkt Len Std', 'Flow Byts/s', 'Pkt Len Std', 'Fwd Seg Size Avg', 'Bwd Header Len', 'Fwd Pkt Len Mean', 'Fwd Pkt Len Min', 'Pkt Len Mean', 'Tot Bwd Pkts'], 'Adv sample 614': ['Fwd Pkt Len Max', 'Fwd Pkt Len Std', 'Flow Byts/s', 'Fwd Pkt Len Mean', 'Pkt Len Mean', 'Fwd Seg Size Avg', 'Pkt Size Avg', 'Pkt Len Std', 'Pkt Len Max', 'Pkt Len Min'], 'Adv sample 615': ['Fwd Pkt Len Max', 'Fwd Pkt Len Std', 'Bwd Header Len', 'Flow Byts/s', 'Pkt Len Std', 'Fwd Pkt Len Mean', 'Pkt Len Max', 'Pkt Size Avg', 'Init Bwd Win Byts', 'Fwd Seg Size Avg'], 'Adv sample 616': ['Fwd Pkt Len Std', 'Fwd Pkt Len Max', 'Flow Byts/s', 'Fwd Pkt Len Mean', 'Init Bwd Win Byts', 'Pkt Size Avg', 'Pkt Len Max', 'Fwd Seg Size Avg', 'Fwd Pkt Len Min', 'Pkt Len Min'], 'Adv sample 617': ['SYN Flag Cnt', 'FIN Flag Cnt', 'Flow Duration', 'Idle Mean', 'Fwd Pkts/b Avg', 'PSH Flag Cnt', 'Fwd IAT Max', 'Bwd IAT Std', 'Bwd Seg Size Avg', 'Bwd Header Len'], 'Adv sample 618': ['Fwd Pkt Len Max', 'Bwd Header Len', 'Fwd Pkt Len Std', 'Pkt Len Max', 'Pkt Len Std', 'Fwd Pkt Len Mean', 'Fwd Seg Size Avg', 'Pkt Size Avg', 'SYN Flag Cnt', 'Pkt Len Min'], 'Adv sample 619': ['Fwd Pkt Len Max', 'Fwd Pkt Len Std', 'Pkt Len Std', 'Fwd Pkt Len Mean', 'Pkt Len Max', 'Bwd Header Len', 'Fwd Pkt Len Min', 'Fwd Seg Size Avg', 'Pkt Size Avg', 'Pkt Len Mean'], 'Adv sample 620': ['Fwd Pkt Len Max', 'Flow Byts/s', 'Bwd Header Len', 'Pkt Len Mean', 'Fwd Pkt Len Std', 'Pkt Len Std', 'Pkt Size Avg', 'Fwd Pkt Len Min', 'Pkt Len Max', 'Fwd Seg Size Avg'], 'Adv sample 621': ['Fwd Pkt Len Max', 'Bwd Header Len', 'Fwd Pkt Len Std', 'Fwd Pkt Len Mean', 'Fwd Seg Size Avg', 'Pkt Len Std', 'Pkt Len Max', 'Pkt Size Avg', 'Init Bwd Win Byts', 'Fwd Pkt Len Min'], 'Adv sample 622': ['Fwd Pkt Len Max', 'Fwd Pkt Len Std', 'Pkt Len Mean', 'Pkt Len Std', 'Bwd Header Len', 'Fwd Pkt Len Mean', 'Pkt Len Max', 'Pkt Size Avg', 'Fwd Seg Size Avg', 'Pkt Len Min'], 'Adv sample 623': ['Fwd Pkt Len Std', 'Fwd Pkt Len Max', 'Bwd Header Len', 'Fwd Pkt Len Mean', 'Flow Byts/s', 'Pkt Len Std', 'Pkt Len Max', 'Fwd Seg Size Avg', 'Tot Bwd Pkts', 'Bwd Pkt Len Std'], 'Adv sample 624': ['Fwd Pkt Len Std', 'Fwd Pkt Len Max', 'Bwd Header Len', 'Flow Byts/s', 'Init Bwd Win Byts', 'Pkt Len Mean', 'Pkt Len Max', 'Fwd Seg Size Avg', 'Fwd Pkt Len Mean', 'Pkt Size Avg'], 'Adv sample 625': ['Fwd Pkt Len Std', 'Fwd Pkt Len Max', 'Flow Byts/s', 'Fwd Pkt Len Mean', 'Pkt Size Avg', 'Init Bwd Win Byts', 'Pkt Len Std', 'Fwd Pkt Len Min', 'Pkt Len Max', 'Fwd Seg Size Avg'], 'Adv sample 626': ['Fwd Pkt Len Std', 'Fwd Pkt Len Mean', 'Bwd Header Len', 'Fwd Seg Size Avg', 'Pkt Len Max', 'Pkt Size Avg', 'Fwd Pkt Len Min', 'Pkt Len Mean', 'Pkt Len Min', 'Init Bwd Win Byts'], 'Adv sample 627': ['Fwd Pkt Len Max', 'Flow Byts/s', 'Fwd Pkt Len Std', 'Fwd Pkt Len Mean', 'Pkt Len Min', 'Pkt Len Max', 'Fwd Pkt Len Min', 'Fwd Header Len', 'Pkt Size Avg', 'Pkt Len Mean'], 'Adv sample 628': ['Fwd Pkt Len Max', 'Fwd Pkt Len Std', 'Bwd Header Len', 'Flow Byts/s', 'Fwd Pkt Len Mean', 'Fwd Seg Size Avg', 'Pkt Len Std', 'Pkt Len Max', 'Bwd IAT Tot', 'Tot Bwd Pkts'], 'Adv sample 629': ['Fwd Pkt Len Std', 'Bwd Header Len', 'Fwd Pkt Len Mean', 'Pkt Size Avg', 'Fwd Seg Size Avg', 'Pkt Len Max', 'Pkt Len Mean', 'Fwd Pkt Len Min', 'Init Bwd Win Byts', 'Pkt Len Min'], 'Adv sample 630': ['Fwd Pkt Len Max', 'Fwd Pkt Len Std', 'Bwd Header Len', 'Fwd Pkt Len Mean', 'Pkt Len Std', 'Fwd Seg Size Avg', 'Pkt Size Avg', 'Fwd Pkt Len Min', 'Pkt Len Mean', 'Bwd Pkt Len Std'], 'Adv sample 631': ['Fwd Pkt Len Max', 'Fwd Pkt Len Std', 'Init Bwd Win Byts', 'Flow Byts/s', 'Pkt Len Std', 'Bwd Header Len', 'Fwd Pkt Len Mean', 'Fwd Pkt Len Min', 'Fwd Seg Size Avg', 'Pkt Len Max'], 'Adv sample 632': ['Fwd Pkt Len Max', 'Fwd Pkt Len Std', 'Bwd Header Len', 'Fwd Seg Size Avg', 'Fwd Pkt Len Mean', 'Flow Byts/s', 'Pkt Len Max', 'Pkt Len Std', 'Pkt Size Avg', 'Pkt Len Mean'], 'Adv sample 633': ['Bwd Header Len', 'Fwd Pkt Len Std', 'Pkt Len Std', 'Fwd Seg Size Avg', 'Pkt Len Max', 'Fwd Pkt Len Min', 'Fwd Pkt Len Max', 'Flow Byts/s', 'Fwd Pkt Len Mean', 'Bwd Byts/b Avg'], 'Adv sample 634': ['Fwd Pkt Len Max', 'Fwd Pkt Len Std', 'Bwd Header Len', 'Pkt Len Std', 'Pkt Len Max', 'Fwd Pkt Len Mean', 'Fwd Pkt Len Min', 'Pkt Len Mean', 'Fwd Seg Size Avg', 'Init Bwd Win Byts'], 'Adv sample 635': ['Fwd Pkt Len Std', 'Fwd Pkt Len Max', 'Bwd Header Len', 'Pkt Len Std', 'Flow Byts/s', 'Fwd Pkt Len Min', 'Pkt Len Mean', 'Pkt Len Max', 'Fwd Pkt Len Mean', 'Fwd Seg Size Avg'], 'Adv sample 636': ['Fwd Pkt Len Std', 'Fwd Pkt Len Max', 'Flow Byts/s', 'Bwd Header Len', 'Fwd Pkt Len Mean', 'Pkt Len Mean', 'Pkt Len Std', 'Pkt Size Avg', 'Pkt Len Max', 'Fwd Pkt Len Min'], 'Adv sample 637': ['Fwd Pkt Len Max', 'Fwd Pkt Len Std', 'Flow Byts/s', 'Bwd Header Len', 'Pkt Len Std', 'Fwd Pkt Len Mean', 'Init Bwd Win Byts', 'Pkt Size Avg', 'Pkt Len Max', 'Pkt Len Mean'], 'Adv sample 638': ['Fwd Pkt Len Max', 'Fwd Pkt Len Std', 'Bwd Header Len', 'Flow Byts/s', 'Fwd Pkt Len Mean', 'Pkt Len Std', 'Pkt Len Min', 'Pkt Len Max', 'Fwd Seg Size Avg', 'Pkt Size Avg'], 'Adv sample 639': ['Fwd Pkt Len Max', 'Fwd Pkt Len Std', 'Bwd Header Len', 'Fwd Pkt Len Min', 'Pkt Len Std', 'Flow Byts/s', 'Pkt Size Avg', 'Fwd Seg Size Avg', 'Pkt Len Min', 'Pkt Len Max'], 'Adv sample 640': ['Fwd Pkt Len Max', 'Fwd Pkt Len Std', 'Pkt Size Avg', 'Fwd Pkt Len Min', 'Flow Byts/s', 'Pkt Len Mean', 'Idle Min', 'Idle Mean', 'Init Bwd Win Byts', 'Pkt Len Max'], 'Adv sample 641': ['Fwd Pkt Len Max', 'Fwd Pkt Len Std', 'Fwd Pkt Len Mean', 'Pkt Len Max', 'Flow Byts/s', 'Pkt Len Mean', 'Pkt Size Avg', 'Bwd Header Len', 'Fwd Pkt Len Min', 'Fwd Seg Size Avg'], 'Adv sample 642': ['Flow Byts/s', 'Fwd Pkt Len Max', 'Fwd Pkt Len Std', 'Pkt Len Std', 'Init Bwd Win Byts', 'Fwd Seg Size Avg', 'Fwd Pkt Len Mean', 'Pkt Len Max', 'Fwd Pkt Len Min', 'Pkt Size Avg'], 'Adv sample 643': ['Fwd Pkt Len Std', 'Fwd Pkt Len Max', 'Fwd Pkt Len Mean', 'Bwd Header Len', 'Pkt Len Max', 'Fwd Pkt Len Min', 'Fwd Seg Size Avg', 'Pkt Len Std', 'Init Bwd Win Byts', 'Tot Bwd Pkts'], 'Adv sample 644': ['Bwd Header Len', 'Fwd Pkt Len Max', 'Fwd Pkt Len Std', 'Flow Byts/s', 'Fwd Pkt Len Mean', 'Fwd Seg Size Avg', 'Pkt Len Std', 'Init Bwd Win Byts', 'Pkt Len Max', 'Pkt Size Avg'], 'Adv sample 645': ['Fwd Pkt Len Max', 'Fwd Seg Size Avg', 'Flow Byts/s', 'Pkt Len Var', 'Flow Pkts/s', 'Fwd IAT Min', 'Bwd IAT Tot', 'Subflow Bwd Byts', 'Fwd Pkt Len Min', 'Pkt Len Max'], 'Adv sample 646': ['Fwd Pkt Len Std', 'Fwd Pkt Len Max', 'Pkt Len Std', 'Fwd Pkt Len Min', 'Bwd Header Len', 'Flow Byts/s', 'Fwd Seg Size Avg', 'Pkt Len Min', 'Tot Bwd Pkts', 'Fwd IAT Tot'], 'Adv sample 647': ['Fwd Pkt Len Max', 'Fwd Pkt Len Std', 'Bwd Header Len', 'Flow Byts/s', 'Fwd Pkt Len Mean', 'Pkt Len Max', 'Pkt Len Std', 'Pkt Size Avg', 'Fwd Pkt Len Min', 'Init Bwd Win Byts'], 'Adv sample 648': ['Fwd Pkt Len Max', 'Flow Byts/s', 'Fwd Pkt Len Std', 'Bwd Header Len', 'Fwd Pkt Len Mean', 'Pkt Len Max', 'Pkt Size Avg', 'Fwd Seg Size Avg', 'Pkt Len Mean', 'Fwd Pkt Len Min'], 'Adv sample 649': ['Fwd Pkt Len Max', 'Fwd Pkt Len Std', 'Flow Byts/s', 'Fwd Seg Size Avg', 'Fwd Pkt Len Mean', 'Pkt Len Std', 'Pkt Size Avg', 'Pkt Len Min', 'Pkt Len Mean', 'Pkt Len Max'], 'Adv sample 650': ['Fwd Pkt Len Max', 'Bwd Header Len', 'Fwd Pkt Len Std', 'Pkt Len Std', 'Fwd Pkt Len Mean', 'Fwd Pkt Len Min', 'Fwd Seg Size Avg', 'Pkt Size Avg', 'Pkt Len Max', 'Pkt Len Mean'], 'Adv sample 651': ['Fwd Pkt Len Std', 'Bwd Header Len', 'Fwd Pkt Len Max', 'Pkt Len Std', 'Fwd Pkt Len Mean', 'Pkt Len Max', 'Pkt Len Mean', 'Pkt Size Avg', 'Fwd Pkt Len Min', 'Pkt Len Min'], 'Adv sample 652': ['Fwd Pkt Len Max', 'Fwd Pkt Len Std', 'Bwd Header Len', 'Flow Byts/s', 'Fwd Seg Size Avg', 'Fwd Pkt Len Mean', 'Pkt Size Avg', 'Pkt Len Max', 'Pkt Len Std', 'Pkt Len Mean'], 'Adv sample 653': ['Fwd Pkt Len Max', 'Fwd Pkt Len Std', 'Fwd Pkt Len Mean', 'Bwd Header Len', 'Pkt Len Std', 'Pkt Len Max', 'Init Bwd Win Byts', 'Fwd Seg Size Avg', 'Pkt Size Avg', 'Pkt Len Mean'], 'Adv sample 654': ['Bwd Header Len', 'Tot Bwd Pkts', 'Subflow Bwd Pkts', 'Fwd IAT Std', 'Bwd Pkts/s', 'SYN Flag Cnt', 'Bwd PSH Flags', 'Fwd Act Data Pkts', 'Idle Min', 'Bwd URG Flags'], 'Adv sample 655': ['Bwd Header Len', 'Fwd Pkt Len Max', 'Fwd Pkt Len Std', 'Pkt Len Std', 'Fwd Pkt Len Min', 'Fwd Seg Size Avg', 'Pkt Len Max', 'Pkt Len Mean', 'Fwd Pkt Len Mean', 'Pkt Size Avg'], 'Adv sample 656': ['Fwd Pkt Len Max', 'Pkt Len Std', 'Fwd Seg Size Avg', 'Flow Byts/s', 'Bwd IAT Tot', 'Pkt Len Var', 'Tot Fwd Pkts', 'Idle Min', 'Fwd IAT Tot', 'Bwd URG Flags'], 'Adv sample 657': ['Fwd Pkt Len Max', 'Fwd Seg Size Avg', 'Flow Byts/s', 'Bwd IAT Tot', 'Fwd PSH Flags', 'Pkt Len Var', 'Fwd Pkt Len Mean', 'Fwd IAT Tot', 'Bwd Seg Size Avg', 'Subflow Bwd Byts'], 'Adv sample 658': ['Fwd Pkt Len Max', 'Fwd Pkt Len Std', 'Bwd Header Len', 'Fwd Pkt Len Mean', 'Flow Byts/s', 'Pkt Len Std', 'Fwd Seg Size Avg', 'Pkt Len Max', 'Tot Bwd Pkts', 'PSH Flag Cnt'], 'Adv sample 659': ['Fwd Pkt Len Std', 'Fwd Pkt Len Mean', 'Fwd Seg Size Avg', 'Bwd Header Len', 'Pkt Len Max', 'Pkt Size Avg', 'Fwd Pkt Len Min', 'Pkt Len Mean', 'Init Bwd Win Byts', 'Pkt Len Min'], 'Adv sample 660': ['Fwd Pkt Len Max', 'Fwd Seg Size Avg', 'Flow Byts/s', 'Pkt Len Var', 'Bwd IAT Tot', 'Bwd Pkt Len Std', 'Fwd PSH Flags', 'Flow Pkts/s', 'ECE Flag Cnt', 'Active Max'], 'Adv sample 661': ['Flow Byts/s', 'Fwd Pkt Len Std', 'Fwd Pkt Len Max', 'Fwd Pkt Len Mean', 'Bwd Header Len', 'Pkt Len Max', 'Pkt Len Std', 'Pkt Len Min', 'Fwd Pkt Len Min', 'Fwd Seg Size Avg'], 'Adv sample 662': ['Fwd Pkt Len Std', 'Fwd Pkt Len Max', 'Pkt Len Std', 'Flow Byts/s', 'Fwd Pkt Len Mean', 'Bwd Header Len', 'Fwd Pkt Len Min', 'Pkt Size Avg', 'Pkt Len Max', 'Pkt Len Mean'], 'Adv sample 663': ['Flow Duration', 'Bwd Seg Size Avg', 'Bwd URG Flags', 'SYN Flag Cnt', 'FIN Flag Cnt', 'Idle Std', 'Bwd Pkt Len Std', 'Bwd Pkt Len Min', 'Fwd IAT Mean', 'Idle Mean'], 'Adv sample 664': ['Fwd Pkt Len Std', 'Bwd Header Len', 'Fwd Pkt Len Max', 'Flow Byts/s', 'Fwd Seg Size Avg', 'Fwd Pkt Len Mean', 'Pkt Len Std', 'Fwd Pkt Len Min', 'Pkt Size Avg', 'Pkt Len Max'], 'Adv sample 665': ['Fwd Pkt Len Std', 'Bwd Header Len', 'Fwd Seg Size Avg', 'Fwd Pkt Len Mean', 'Pkt Len Max', 'Pkt Size Avg', 'Pkt Len Mean', 'Init Bwd Win Byts', 'Pkt Len Min', 'Fwd Pkt Len Min'], 'Adv sample 666': ['Fwd Pkt Len Max', 'Bwd Header Len', 'Pkt Len Std', 'Flow Byts/s', 'Fwd Pkt Len Std', 'Fwd Pkt Len Mean', 'Pkt Size Avg', 'Pkt Len Min', 'Pkt Len Max', 'Fwd Seg Size Avg'], 'Adv sample 667': ['Fwd Pkt Len Max', 'Fwd Seg Size Avg', 'Flow Byts/s', 'Flow Pkts/s', 'Fwd PSH Flags', 'Tot Bwd Pkts', 'Fwd IAT Min', 'Bwd IAT Tot', 'Subflow Bwd Pkts', 'Active Mean'], 'Adv sample 668': ['Fwd Pkt Len Std', 'Fwd Pkt Len Max', 'Fwd Pkt Len Mean', 'Pkt Len Mean', 'Bwd Header Len', 'Pkt Len Std', 'Pkt Size Avg', 'Pkt Len Max', 'Init Bwd Win Byts', 'Pkt Len Min'], 'Adv sample 669': ['Bwd Header Len', 'Fwd Pkt Len Max', 'Fwd Pkt Len Std', 'Flow Byts/s', 'Pkt Size Avg', 'Fwd Pkt Len Min', 'Pkt Len Std', 'Fwd Seg Size Avg', 'Pkt Len Max', 'Pkt Len Mean'], 'Adv sample 670': ['Fwd Pkt Len Std', 'Fwd Pkt Len Max', 'Pkt Len Max', 'Bwd Header Len', 'Fwd Pkt Len Mean', 'Flow Byts/s', 'Pkt Len Mean', 'Pkt Size Avg', 'Init Bwd Win Byts', 'Pkt Len Min'], 'Adv sample 671': ['Fwd Pkt Len Std', 'Bwd Header Len', 'Fwd Pkt Len Max', 'Flow Byts/s', 'Pkt Len Max', 'Pkt Size Avg', 'Pkt Len Std', 'Pkt Len Mean', 'Init Bwd Win Byts', 'Fwd Pkt Len Min'], 'Adv sample 672': ['Fwd Pkt Len Mean', 'Fwd Pkt Len Max', 'Fwd Pkt Len Std', 'Bwd Header Len', 'Flow Byts/s', 'Pkt Len Std', 'Pkt Len Max', 'Fwd Seg Size Avg', 'Pkt Size Avg', 'Pkt Len Var'], 'Adv sample 673': ['Fwd Pkt Len Max', 'Fwd Pkt Len Std', 'Bwd Header Len', 'Pkt Len Std', 'Flow Byts/s', 'Fwd Seg Size Avg', 'Pkt Len Min', 'Pkt Len Mean', 'Fwd Pkt Len Mean', 'Init Bwd Win Byts'], 'Adv sample 674': ['Bwd Header Len', 'Fwd Pkt Len Std', 'Fwd Pkt Len Max', 'Flow Byts/s', 'Pkt Size Avg', 'Fwd Seg Size Avg', 'Pkt Len Std', 'Fwd Pkt Len Mean', 'Fwd Pkt Len Min', 'Pkt Len Max'], 'Adv sample 675': ['SYN Flag Cnt', 'Flow Duration', 'Bwd Seg Size Avg', 'Idle Mean', 'Bwd PSH Flags', 'Fwd Pkts/b Avg', 'Subflow Bwd Pkts', 'Fwd IAT Std', 'Fwd Header Len', 'Bwd Pkt Len Mean'], 'Adv sample 676': ['Fwd Pkt Len Std', 'Fwd Pkt Len Max', 'Fwd Seg Size Avg', 'Fwd Pkt Len Mean', 'Fwd Pkt Len Min', 'Flow Byts/s', 'Bwd Header Len', 'Pkt Len Mean', 'Pkt Len Max', 'Pkt Size Avg'], 'Adv sample 677': ['Bwd Header Len', 'Fwd Pkt Len Std', 'Pkt Size Avg', 'Fwd Pkt Len Max', 'Init Bwd Win Byts', 'Fwd Seg Size Avg', 'Pkt Len Std', 'Fwd Pkt Len Mean', 'Pkt Len Mean', 'Pkt Len Min'], 'Adv sample 678': ['Fwd Pkt Len Max', 'Fwd Pkt Len Std', 'Bwd Header Len', 'Fwd Pkt Len Mean', 'Pkt Len Std', 'Fwd Seg Size Avg', 'Pkt Len Max', 'Pkt Size Avg', 'Fwd Pkt Len Min', 'Subflow Bwd Byts'], 'Adv sample 679': ['Fwd Pkt Len Std', 'Bwd Header Len', 'Fwd Pkt Len Mean', 'Fwd Seg Size Avg', 'Pkt Len Mean', 'Pkt Len Max', 'Pkt Size Avg', 'Fwd Pkt Len Min', 'Pkt Len Min', 'Init Bwd Win Byts'], 'Adv sample 680': ['Fwd Pkt Len Std', 'Fwd Pkt Len Max', 'Bwd Header Len', 'Fwd Pkt Len Mean', 'Pkt Len Std', 'Fwd Pkt Len Min', 'Pkt Size Avg', 'Pkt Len Max', 'Pkt Len Mean', 'Fwd Seg Size Avg'], 'Adv sample 681': ['SYN Flag Cnt', 'Flow Duration', 'Fwd Pkts/b Avg', 'Idle Mean', 'Bwd Byts/b Avg', 'Fwd Header Len', 'Bwd IAT Mean', 'Subflow Fwd Pkts', 'Bwd Seg Size Avg', 'FIN Flag Cnt'], 'Adv sample 682': ['Fwd Pkt Len Std', 'Fwd Pkt Len Max', 'Fwd Pkt Len Mean', 'Bwd Header Len', 'Pkt Len Max', 'Fwd Seg Size Avg', 'Pkt Len Mean', 'Init Bwd Win Byts', 'Pkt Len Std', 'Bwd IAT Tot'], 'Adv sample 683': ['Fwd Pkt Len Std', 'Fwd Pkt Len Mean', 'Fwd Pkt Len Max', 'Flow Byts/s', 'Pkt Len Max', 'Bwd Header Len', 'Pkt Len Min', 'Init Bwd Win Byts', 'Pkt Len Std', 'Pkt Len Mean'], 'Adv sample 684': ['Fwd Pkt Len Std', 'Fwd Pkt Len Max', 'Bwd Header Len', 'Flow Byts/s', 'Fwd Seg Size Avg', 'Fwd Pkt Len Mean', 'Fwd Pkt Len Min', 'Pkt Len Std', 'Pkt Len Min', 'Pkt Len Max'], 'Adv sample 685': ['Fwd Pkt Len Max', 'Fwd Pkt Len Std', 'Bwd Header Len', 'Fwd Pkt Len Min', 'Fwd Pkt Len Mean', 'Flow Byts/s', 'Pkt Len Std', 'Pkt Size Avg', 'Pkt Len Mean', 'Pkt Len Max'], 'Adv sample 686': ['Fwd Pkt Len Max', 'Fwd Seg Size Avg', 'Flow Byts/s', 'Bwd IAT Tot', 'Bwd Pkt Len Mean', 'Pkt Len Var', 'Fwd Pkts/s', 'Pkt Size Avg', 'Subflow Bwd Byts', 'Pkt Len Std'], 'Adv sample 687': ['Bwd Header Len', 'Flow Byts/s', 'Fwd Pkt Len Max', 'Fwd Pkt Len Std', 'Pkt Len Std', 'Fwd Pkt Len Min', 'Fwd Seg Size Avg', 'Pkt Size Avg', 'Fwd Pkt Len Mean', 'Pkt Len Max'], 'Adv sample 688': ['Fwd Pkt Len Max', 'Fwd Pkt Len Std', 'Bwd Header Len', 'Fwd Seg Size Avg', 'Fwd Pkt Len Mean', 'Pkt Len Min', 'Pkt Len Std', 'Pkt Size Avg', 'Pkt Len Mean', 'Fwd Pkt Len Min'], 'Adv sample 689': ['Fwd Pkt Len Max', 'Flow Byts/s', 'Fwd Pkt Len Std', 'Bwd Header Len', 'Pkt Len Mean', 'Fwd Pkt Len Mean', 'Pkt Len Std', 'Fwd Pkt Len Min', 'Fwd Seg Size Avg', 'Pkt Size Avg'], 'Adv sample 690': ['Fwd Pkt Len Max', 'Fwd Pkt Len Std', 'Fwd Pkt Len Mean', 'Fwd Seg Size Avg', 'Pkt Len Std', 'Flow Byts/s', 'Pkt Len Mean', 'Pkt Size Avg', 'Fwd Pkt Len Min', 'Pkt Len Max'], 'Adv sample 691': ['Fwd Pkt Len Max', 'Flow Byts/s', 'Pkt Len Std', 'Pkt Len Max', 'Pkt Len Mean', 'Pkt Len Min', 'Init Bwd Win Byts', 'Bwd Pkts/s', 'Bwd Pkt Len Std', 'Pkt Len Var'], 'Adv sample 692': ['Fwd Pkt Len Max', 'Fwd Pkt Len Std', 'Bwd Header Len', 'Flow Byts/s', 'Fwd Pkt Len Mean', 'Fwd Seg Size Avg', 'Pkt Len Std', 'Pkt Len Max', 'Tot Bwd Pkts', 'Bwd Pkt Len Max'], 'Adv sample 693': ['Fwd Pkt Len Max', 'Flow Byts/s', 'Bwd Header Len', 'Fwd Pkt Len Std', 'Fwd Pkt Len Mean', 'Pkt Len Min', 'Pkt Len Max', 'Pkt Len Std', 'Pkt Size Avg', 'Pkt Len Mean'], 'Adv sample 694': ['Fwd Pkt Len Max', 'Fwd Pkt Len Std', 'Flow Byts/s', 'Bwd Header Len', 'Fwd Pkt Len Mean', 'Fwd Seg Size Avg', 'Pkt Len Max', 'Pkt Len Std', 'Pkt Len Var', 'Bwd IAT Tot'], 'Adv sample 695': ['Fwd Pkt Len Max', 'Fwd Pkt Len Std', 'Flow Byts/s', 'Fwd Pkt Len Mean', 'Bwd Header Len', 'Fwd Seg Size Avg', 'Pkt Len Std', 'Pkt Len Max', 'Pkt Len Var', 'Tot Bwd Pkts'], 'Adv sample 696': ['Bwd Header Len', 'Fwd Pkt Len Max', 'Fwd Pkt Len Std', 'Fwd Pkt Len Mean', 'Pkt Len Max', 'Flow Byts/s', 'Fwd Seg Size Avg', 'Pkt Len Mean', 'Pkt Len Min', 'Pkt Len Std'], 'Adv sample 697': ['Fwd Pkt Len Max', 'Fwd Pkt Len Std', 'Pkt Len Std', 'Bwd Header Len', 'Fwd Pkt Len Mean', 'Pkt Len Mean', 'Pkt Len Max', 'Flow Byts/s', 'Fwd Seg Size Avg', 'Bwd Seg Size Avg'], 'Adv sample 698': ['Bwd Header Len', 'Fwd Pkt Len Std', 'Fwd Pkt Len Max', 'Fwd Pkt Len Mean', 'Pkt Len Max', 'Init Bwd Win Byts', 'Tot Bwd Pkts', 'Pkt Len Mean', 'Fwd Seg Size Avg', 'Pkt Len Std'], 'Adv sample 699': ['Bwd Header Len', 'Fwd Pkt Len Max', 'Flow Byts/s', 'Fwd Pkt Len Std', 'Fwd Seg Size Avg', 'Pkt Len Max', 'Pkt Size Avg', 'Fwd Pkt Len Mean', 'Fwd Pkt Len Min', 'Pkt Len Std'], 'Adv sample 700': ['Fwd Pkt Len Max', 'Bwd Header Len', 'Fwd Pkt Len Std', 'Fwd Seg Size Avg', 'Pkt Len Std', 'Init Bwd Win Byts', 'Fwd Pkt Len Mean', 'Pkt Size Avg', 'Fwd Pkt Len Min', 'Pkt Len Max'], 'Adv sample 701': ['Fwd Pkt Len Max', 'Bwd Header Len', 'Fwd Pkt Len Std', 'Fwd Pkt Len Mean', 'Pkt Size Avg', 'Flow Byts/s', 'Pkt Len Max', 'Init Bwd Win Byts', 'Pkt Len Std', 'Fwd Seg Size Avg'], 'Adv sample 702': ['Fwd Pkt Len Std', 'Bwd Header Len', 'Fwd Pkt Len Max', 'Pkt Len Std', 'Fwd Pkt Len Min', 'Pkt Size Avg', 'Fwd Pkt Len Mean', 'Flow Byts/s', 'Pkt Len Mean', 'Pkt Len Max'], 'Adv sample 703': ['Fwd Pkt Len Max', 'Fwd Pkt Len Mean', 'Fwd Seg Size Avg', 'Fwd Pkt Len Std', 'Fwd Pkt Len Min', 'Pkt Size Avg', 'Pkt Len Max', 'Pkt Len Std', 'Flow Byts/s', 'Init Bwd Win Byts'], 'Adv sample 704': ['Bwd Header Len', 'Flow Byts/s', 'Fwd Pkt Len Std', 'Fwd Pkt Len Max', 'Pkt Len Std', 'Pkt Len Mean', 'Fwd Seg Size Avg', 'Pkt Len Max', 'Fwd Pkt Len Mean', 'Pkt Size Avg'], 'Adv sample 705': ['Fwd Pkt Len Max', 'Fwd Pkt Len Std', 'Bwd Header Len', 'Flow Byts/s', 'Pkt Len Std', 'Fwd Pkt Len Mean', 'Pkt Size Avg', 'Pkt Len Mean', 'Pkt Len Max', 'Tot Bwd Pkts'], 'Adv sample 706': ['Bwd Header Len', 'Fwd Pkt Len Mean', 'Fwd Seg Size Avg', 'Bwd Pkts/s', 'Pkt Len Min', 'Subflow Bwd Pkts', 'Tot Bwd Pkts', 'Bwd Pkt Len Min', 'Bwd IAT Tot', 'SYN Flag Cnt'], 'Adv sample 707': ['Fwd Pkt Len Max', 'Fwd Pkt Len Std', 'Fwd Pkt Len Mean', 'Flow Byts/s', 'Fwd Seg Size Avg', 'Pkt Size Avg', 'Pkt Len Max', 'Pkt Len Std', 'Pkt Len Mean', 'Pkt Len Min'], 'Adv sample 708': ['Fwd Pkt Len Std', 'Fwd Pkt Len Max', 'Flow Byts/s', 'Bwd Header Len', 'Pkt Len Std', 'Init Bwd Win Byts', 'Fwd Seg Size Avg', 'Pkt Len Min', 'Pkt Size Avg', 'Pkt Len Mean'], 'Adv sample 709': ['Fwd Pkt Len Std', 'Fwd Pkt Len Max', 'Flow Byts/s', 'Pkt Size Avg', 'Bwd Header Len', 'Pkt Len Std', 'Fwd Pkt Len Mean', 'Pkt Len Mean', 'Fwd Seg Size Avg', 'Pkt Len Max'], 'Adv sample 710': ['Fwd Pkt Len Std', 'Fwd Pkt Len Max', 'Pkt Len Mean', 'Bwd Header Len', 'Pkt Len Std', 'Fwd Pkt Len Mean', 'Pkt Len Max', 'Flow Byts/s', 'Pkt Size Avg', 'Pkt Len Var'], 'Adv sample 711': ['Fwd Pkt Len Max', 'Fwd Seg Size Avg', 'Flow Byts/s', 'Flow Pkts/s', 'Fwd PSH Flags', 'Bwd IAT Tot', 'Pkt Len Max', 'Active Mean', 'Flow IAT Max', 'Pkt Len Var'], 'Adv sample 712': ['Fwd Pkt Len Max', 'Fwd Seg Size Avg', 'Flow Byts/s', 'Fwd PSH Flags', 'Bwd IAT Tot', 'Flow Pkts/s', 'Idle Std', 'Active Mean', 'Pkt Len Var', 'Bwd PSH Flags'], 'Adv sample 713': ['Fwd Pkt Len Max', 'Fwd Pkt Len Std', 'Bwd Header Len', 'Fwd Pkt Len Min', 'Fwd Pkt Len Mean', 'Pkt Size Avg', 'Init Bwd Win Byts', 'Fwd Seg Size Avg', 'Pkt Len Max', 'Pkt Len Mean'], 'Adv sample 714': ['Fwd Pkt Len Max', 'Fwd Pkt Len Std', 'Bwd Header Len', 'Pkt Len Std', 'Fwd Pkt Len Mean', 'Pkt Len Min', 'Pkt Len Max', 'Pkt Size Avg', 'Pkt Len Mean', 'Fwd Pkt Len Min'], 'Adv sample 715': ['Fwd Pkt Len Std', 'Fwd Pkt Len Max', 'Bwd Header Len', 'Fwd Pkt Len Mean', 'Pkt Len Std', 'Fwd Seg Size Avg', 'Fwd Pkt Len Min', 'Pkt Len Max', 'Pkt Size Avg', 'Pkt Len Mean'], 'Adv sample 716': ['Fwd Pkt Len Max', 'Fwd Seg Size Avg', 'Fwd Pkt Len Std', 'Bwd Header Len', 'Fwd Pkt Len Mean', 'Pkt Size Avg', 'Init Bwd Win Byts', 'Fwd Pkt Len Min', 'Pkt Len Mean', 'Pkt Len Std'], 'Adv sample 717': ['Fwd Pkt Len Mean', 'Bwd Header Len', 'Fwd Pkt Len Std', 'Flow Byts/s', 'Fwd Pkt Len Max', 'Pkt Len Std', 'Pkt Len Mean', 'Pkt Len Max', 'Pkt Size Avg', 'Pkt Len Min'], 'Adv sample 718': ['Fwd Pkt Len Std', 'Fwd Pkt Len Mean', 'Bwd Header Len', 'Pkt Size Avg', 'Pkt Len Max', 'Fwd Seg Size Avg', 'Fwd Pkt Len Min', 'Pkt Len Mean', 'Pkt Len Min', 'Bwd Pkt Len Std'], 'Adv sample 719': ['Flow Byts/s', 'Fwd Pkt Len Max', 'Fwd Pkt Len Min', 'Bwd Header Len', 'Fwd Pkt Len Std', 'Pkt Len Mean', 'Pkt Size Avg', 'Init Bwd Win Byts', 'Fwd Pkt Len Mean', 'Pkt Len Std'], 'Adv sample 720': ['Fwd Pkt Len Max', 'Fwd Pkt Len Std', 'Bwd Header Len', 'Fwd Seg Size Avg', 'Fwd Pkt Len Mean', 'Pkt Size Avg', 'Pkt Len Max', 'Pkt Len Std', 'Pkt Len Mean', 'Init Bwd Win Byts'], 'Adv sample 721': ['Fwd Pkt Len Max', 'Flow Byts/s', 'Fwd Pkt Len Std', 'Pkt Len Std', 'Fwd Pkt Len Mean', 'Bwd Header Len', 'Pkt Size Avg', 'Pkt Len Mean', 'Pkt Len Max', 'Init Bwd Win Byts'], 'Adv sample 722': ['SYN Flag Cnt', 'URG Flag Cnt', 'Fwd Pkts/b Avg', 'Flow Duration', 'Bwd Seg Size Avg', 'Fwd IAT Tot', 'Bwd Pkt Len Max', 'Subflow Fwd Pkts', 'Fwd Pkt Len Min', 'Bwd Pkt Len Mean'], 'Adv sample 723': ['Bwd Header Len', 'Flow Byts/s', 'Fwd Pkt Len Max', 'Fwd Pkt Len Std', 'Fwd Seg Size Avg', 'Pkt Len Max', 'Fwd Pkt Len Mean', 'Tot Bwd Pkts', 'Pkt Len Std', 'TotLen Fwd Pkts'], 'Adv sample 724': ['Bwd Header Len', 'Fwd Pkt Len Max', 'Fwd Pkt Len Std', 'Fwd Pkt Len Mean', 'Fwd Seg Size Avg', 'Pkt Size Avg', 'Pkt Len Max', 'Pkt Len Min', 'Pkt Len Mean', 'Bwd Pkt Len Min'], 'Adv sample 725': ['Fwd Pkt Len Std', 'Fwd Pkt Len Max', 'Bwd Header Len', 'Fwd Pkt Len Mean', 'Fwd Pkt Len Min', 'Pkt Len Min', 'Pkt Size Avg', 'Pkt Len Mean', 'Fwd Seg Size Avg', 'Pkt Len Std'], 'Adv sample 726': ['Fwd Pkt Len Std', 'Fwd Pkt Len Max', 'Bwd Header Len', 'Fwd Seg Size Avg', 'Fwd Pkt Len Mean', 'Pkt Len Min', 'Flow Byts/s', 'Pkt Len Std', 'Pkt Len Mean', 'Bwd Pkt Len Std'], 'Adv sample 727': ['Fwd Pkt Len Max', 'Fwd Pkt Len Std', 'Bwd Header Len', 'Fwd Pkt Len Mean', 'Pkt Len Std', 'Pkt Len Max', 'Fwd Seg Size Avg', 'Pkt Len Min', 'Fwd Pkt Len Min', 'Pkt Len Mean'], 'Adv sample 728': ['Fwd Pkt Len Max', 'Fwd Pkt Len Std', 'Pkt Size Avg', 'Fwd Pkt Len Min', 'Flow Byts/s', 'Pkt Len Mean', 'Pkt Len Max', 'Idle Mean', 'Init Bwd Win Byts', 'Idle Min'], 'Adv sample 729': ['Fwd Pkt Len Max', 'Bwd Header Len', 'Pkt Len Std', 'Flow Byts/s', 'Fwd Pkt Len Std', 'Fwd Seg Size Avg', 'Fwd Pkt Len Min', 'Fwd Pkt Len Mean', 'Init Bwd Win Byts', 'Pkt Len Max'], 'Adv sample 730': ['Fwd Pkt Len Std', 'Fwd Pkt Len Max', 'Pkt Len Std', 'Bwd Header Len', 'Fwd Pkt Len Mean', 'Pkt Len Min', 'Init Bwd Win Byts', 'Flow Byts/s', 'Fwd Seg Size Avg', 'Pkt Size Avg'], 'Adv sample 731': ['Fwd Pkt Len Max', 'Fwd Pkt Len Std', 'Flow Byts/s', 'Pkt Size Avg', 'Fwd Pkt Len Min', 'Pkt Len Mean', 'Pkt Len Max', 'Idle Mean', 'Idle Min', 'Init Bwd Win Byts'], 'Adv sample 732': ['Fwd Pkt Len Std', 'Fwd Pkt Len Max', 'Fwd Pkt Len Mean', 'Pkt Size Avg', 'Flow Byts/s', 'Fwd Seg Size Avg', 'Pkt Len Max', 'Init Bwd Win Byts', 'Pkt Len Mean', 'Pkt Len Std'], 'Adv sample 733': ['SYN Flag Cnt', 'Flow Duration', 'URG Flag Cnt', 'Bwd URG Flags', 'Bwd Seg Size Avg', 'Idle Mean', 'Bwd Byts/b Avg', 'Fwd Header Len', 'Bwd Pkt Len Min', 'ACK Flag Cnt'], 'Adv sample 734': ['Fwd Pkt Len Max', 'Fwd Pkt Len Std', 'Bwd Header Len', 'Flow Byts/s', 'Fwd Pkt Len Mean', 'Pkt Len Std', 'Pkt Size Avg', 'Pkt Len Mean', 'Pkt Len Max', 'Fwd Pkt Len Min'], 'Adv sample 735': ['Fwd Pkt Len Std', 'Flow Byts/s', 'Bwd Header Len', 'Fwd Pkt Len Max', 'Fwd Seg Size Avg', 'Pkt Size Avg', 'Pkt Len Mean', 'Fwd Pkt Len Mean', 'Fwd Pkt Len Min', 'Pkt Len Max'], 'Adv sample 736': ['Fwd Pkt Len Std', 'Bwd Header Len', 'Fwd Seg Size Avg', 'Fwd Pkt Len Mean', 'Pkt Len Max', 'Pkt Size Avg', 'Pkt Len Mean', 'Fwd Pkt Len Min', 'Pkt Len Min', 'Init Bwd Win Byts'], 'Adv sample 737': ['Fwd Pkt Len Max', 'Bwd Header Len', 'Pkt Len Max', 'Fwd Pkt Len Std', 'Flow Byts/s', 'Pkt Len Std', 'Fwd Pkt Len Mean', 'Pkt Len Min', 'Init Bwd Win Byts', 'Pkt Len Mean'], 'Adv sample 738': ['Fwd Pkt Len Max', 'Fwd Pkt Len Std', 'Bwd Header Len', 'Fwd Pkt Len Mean', 'Fwd Pkt Len Min', 'Fwd Seg Size Avg', 'Pkt Len Max', 'Pkt Len Mean', 'Pkt Len Std', 'Pkt Size Avg'], 'Adv sample 739': ['Fwd Pkt Len Std', 'Fwd Pkt Len Mean', 'Bwd Header Len', 'Fwd Seg Size Avg', 'Pkt Size Avg', 'Pkt Len Max', 'Pkt Len Mean', 'Init Bwd Win Byts', 'Fwd Pkt Len Min', 'Pkt Len Min'], 'Adv sample 740': ['Bwd Header Len', 'Fwd Pkt Len Max', 'Fwd Pkt Len Std', 'Pkt Len Std', 'Fwd Pkt Len Min', 'Fwd Pkt Len Mean', 'Pkt Len Mean', 'Pkt Len Max', 'Fwd Seg Size Avg', 'Pkt Size Avg'], 'Adv sample 741': ['Fwd Pkt Len Max', 'Fwd Pkt Len Std', 'Bwd Header Len', 'Fwd Pkt Len Mean', 'Pkt Len Std', 'Fwd Pkt Len Min', 'Pkt Len Max', 'Fwd Seg Size Avg', 'Pkt Size Avg', 'Pkt Len Min'], 'Adv sample 742': ['Fwd Pkt Len Max', 'Fwd Pkt Len Std', 'Fwd Pkt Len Mean', 'Flow Byts/s', 'Pkt Len Std', 'Fwd Seg Size Avg', 'Pkt Len Max', 'Pkt Size Avg', 'Pkt Len Min', 'Pkt Len Mean'], 'Adv sample 743': ['Fwd Pkt Len Max', 'Fwd Pkt Len Std', 'Bwd Header Len', 'Fwd Pkt Len Mean', 'Fwd Pkt Len Min', 'Pkt Size Avg', 'Pkt Len Std', 'Init Bwd Win Byts', 'Fwd Seg Size Avg', 'Bwd Pkt Len Max'], 'Adv sample 744': ['Fwd Pkt Len Max', 'Fwd Pkt Len Std', 'Fwd Seg Size Avg', 'Flow Byts/s', 'Fwd Pkt Len Min', 'Fwd Pkt Len Mean', 'Pkt Len Max', 'Pkt Len Std', 'Pkt Size Avg', 'Pkt Len Mean'], 'Adv sample 745': ['Fwd Pkt Len Max', 'Fwd Pkt Len Std', 'Bwd Header Len', 'Flow Byts/s', 'Fwd Pkt Len Mean', 'Pkt Len Std', 'Pkt Size Avg', 'Fwd Pkt Len Min', 'Fwd Seg Size Avg', 'Pkt Len Max'], 'Adv sample 746': ['Fwd Pkt Len Std', 'Fwd Pkt Len Max', 'Bwd Header Len', 'Pkt Size Avg', 'Fwd Pkt Len Min', 'Fwd Seg Size Avg', 'Pkt Len Mean', 'Pkt Len Std', 'Flow Byts/s', 'Pkt Len Max'], 'Adv sample 747': ['Fwd Pkt Len Std', 'Bwd Header Len', 'Fwd Pkt Len Max', 'Pkt Len Min', 'Fwd Pkt Len Mean', 'Pkt Len Std', 'Fwd Pkt Len Min', 'Flow Byts/s', 'Fwd Seg Size Avg', 'Pkt Len Max'], 'Adv sample 748': ['Fwd Pkt Len Max', 'Fwd Pkt Len Std', 'Fwd Pkt Len Mean', 'Bwd Header Len', 'Pkt Len Std', 'Pkt Len Max', 'Fwd Pkt Len Min', 'Fwd Seg Size Avg', 'Pkt Size Avg', 'Pkt Len Mean'], 'Adv sample 749': ['Fwd Pkt Len Max', 'Fwd Pkt Len Std', 'Fwd Pkt Len Mean', 'Bwd Header Len', 'Fwd Seg Size Avg', 'Pkt Len Std', 'Pkt Len Max', 'Fwd Pkt Len Min', 'Tot Bwd Pkts', 'Bwd Pkt Len Min'], 'Adv sample 750': ['Fwd Pkt Len Std', 'Fwd Pkt Len Mean', 'Bwd Header Len', 'Fwd Seg Size Avg', 'Pkt Len Max', 'Pkt Size Avg', 'Pkt Len Mean', 'Init Bwd Win Byts', 'Fwd Pkt Len Min', 'Pkt Len Min'], 'Adv sample 751': ['Fwd Pkt Len Std', 'Fwd Pkt Len Max', 'Bwd Header Len', 'Fwd Pkt Len Mean', 'Flow Byts/s', 'Fwd Seg Size Avg', 'Pkt Size Avg', 'Pkt Len Mean', 'Pkt Len Std', 'Pkt Len Max'], 'Adv sample 752': ['Bwd Header Len', 'Fwd Pkt Len Max', 'Fwd Pkt Len Std', 'Fwd Pkt Len Mean', 'Pkt Len Std', 'Pkt Len Max', 'Pkt Size Avg', 'Fwd Pkt Len Min', 'Fwd Seg Size Avg', 'Pkt Len Min'], 'Adv sample 753': ['Fwd Pkt Len Max', 'Fwd Pkt Len Std', 'Flow Byts/s', 'Fwd Pkt Len Mean', 'Bwd Header Len', 'Pkt Len Max', 'Fwd Seg Size Avg', 'Pkt Size Avg', 'Pkt Len Std', 'Pkt Len Mean'], 'Adv sample 754': ['Fwd Pkt Len Std', 'Pkt Len Std', 'Bwd Header Len', 'Flow Byts/s', 'Fwd Pkt Len Max', 'Fwd Pkt Len Mean', 'Fwd Pkt Len Min', 'Pkt Len Max', 'Pkt Len Mean', 'Fwd Seg Size Avg'], 'Adv sample 755': ['Fwd Pkt Len Std', 'Flow Byts/s', 'Fwd Pkt Len Max', 'Pkt Len Std', 'Bwd Header Len', 'Fwd Pkt Len Mean', 'Pkt Len Mean', 'Fwd Pkt Len Min', 'Pkt Len Min', 'Pkt Size Avg'], 'Adv sample 756': ['Fwd Pkt Len Max', 'Flow Byts/s', 'Bwd Header Len', 'Fwd Pkt Len Std', 'Fwd Pkt Len Mean', 'Fwd Seg Size Avg', 'Pkt Len Max', 'Bwd Pkts/b Avg', 'Pkt Len Std', 'Pkt Len Mean'], 'Adv sample 757': ['Fwd Pkt Len Std', 'Fwd Pkt Len Max', 'Fwd Pkt Len Mean', 'Pkt Len Mean', 'Bwd Header Len', 'Pkt Len Std', 'Pkt Len Max', 'Init Bwd Win Byts', 'Pkt Size Avg', 'Fwd Seg Size Avg'], 'Adv sample 758': ['Fwd Pkt Len Max', 'Fwd Pkt Len Std', 'Bwd Header Len', 'Flow Byts/s', 'Pkt Len Std', 'Pkt Len Max', 'Fwd Pkt Len Mean', 'Fwd Pkt Len Min', 'Init Bwd Win Byts', 'Pkt Len Mean'], 'Adv sample 759': ['Fwd Pkt Len Max', 'Fwd Pkt Len Std', 'Fwd Pkt Len Mean', 'Pkt Len Mean', 'Fwd Seg Size Avg', 'Flow Byts/s', 'Pkt Len Std', 'Pkt Size Avg', 'Pkt Len Min', 'Init Bwd Win Byts'], 'Adv sample 760': ['Fwd Pkt Len Max', 'Fwd Pkt Len Std', 'Fwd Pkt Len Mean', 'Fwd Seg Size Avg', 'Pkt Len Std', 'Flow Byts/s', 'Pkt Size Avg', 'Pkt Len Max', 'Pkt Len Min', 'Pkt Len Mean'], 'Adv sample 761': ['Fwd Pkt Len Max', 'Fwd Pkt Len Std', 'Bwd Header Len', 'Pkt Len Std', 'Fwd Pkt Len Mean', 'Pkt Len Mean', 'Pkt Len Max', 'Init Bwd Win Byts', 'Fwd Pkt Len Min', 'Fwd Seg Size Avg'], 'Adv sample 762': ['Fwd Pkt Len Std', 'Bwd Header Len', 'Fwd Pkt Len Max', 'Fwd Pkt Len Mean', 'Fwd Seg Size Avg', 'Pkt Len Std', 'Pkt Len Max', 'Init Bwd Win Byts', 'Pkt Size Avg', 'Flow Byts/s'], 'Adv sample 763': ['Fwd Pkt Len Max', 'Bwd Header Len', 'Fwd Pkt Len Std', 'Fwd Pkt Len Mean', 'Flow Byts/s', 'Pkt Len Std', 'Fwd Pkt Len Min', 'Pkt Len Max', 'Pkt Len Min', 'Fwd Seg Size Avg'], 'Adv sample 764': ['Fwd Pkt Len Std', 'Bwd Header Len', 'Fwd Pkt Len Max', 'Pkt Len Std', 'Flow Byts/s', 'Init Bwd Win Byts', 'Pkt Len Max', 'Pkt Size Avg', 'Pkt Len Min', 'Bwd Pkt Len Min'], 'Adv sample 765': ['Fwd Pkt Len Std', 'Bwd Header Len', 'Fwd Pkt Len Mean', 'Fwd Seg Size Avg', 'Pkt Size Avg', 'Pkt Len Max', 'Init Bwd Win Byts', 'Pkt Len Mean', 'Pkt Len Min', 'Fwd Pkt Len Min'], 'Adv sample 766': ['Bwd Header Len', 'Fwd Pkt Len Std', 'Flow Byts/s', 'Fwd Pkt Len Max', 'Pkt Len Std', 'Pkt Len Max', 'Pkt Size Avg', 'Fwd Pkt Len Mean', 'Pkt Len Min', 'Fwd Seg Size Avg'], 'Adv sample 767': ['Fwd Pkt Len Max', 'Fwd Pkt Len Std', 'Bwd Header Len', 'Pkt Len Max', 'Fwd Pkt Len Min', 'Fwd Pkt Len Mean', 'Fwd Seg Size Avg', 'Pkt Size Avg', 'Pkt Len Mean', 'Tot Bwd Pkts'], 'Adv sample 768': ['Fwd Pkt Len Std', 'Fwd Pkt Len Max', 'Fwd Pkt Len Mean', 'Pkt Len Max', 'Bwd Header Len', 'Init Bwd Win Byts', 'Pkt Len Std', 'Pkt Size Avg', 'Fwd Seg Size Avg', 'Pkt Len Mean'], 'Adv sample 769': ['Fwd Pkt Len Max', 'Fwd Pkt Len Std', 'Bwd Header Len', 'Flow Byts/s', 'Pkt Len Max', 'Fwd Pkt Len Min', 'Pkt Len Mean', 'Pkt Size Avg', 'Fwd Pkt Len Mean', 'Pkt Len Min'], 'Adv sample 770': ['Fwd Pkt Len Std', 'Bwd Header Len', 'Pkt Len Max', 'Fwd Pkt Len Mean', 'Fwd Seg Size Avg', 'Fwd Pkt Len Max', 'Flow Byts/s', 'Pkt Len Var', 'Pkt Len Mean', 'Init Bwd Win Byts'], 'Adv sample 771': ['Bwd Header Len', 'Fwd Pkt Len Std', 'Fwd Pkt Len Max', 'Pkt Len Std', 'Pkt Len Max', 'Fwd Pkt Len Mean', 'Fwd Pkt Len Min', 'Pkt Len Mean', 'Fwd Seg Size Avg', 'Pkt Size Avg'], 'Adv sample 772': ['Fwd Pkt Len Max', 'Fwd Pkt Len Std', 'Flow Byts/s', 'Pkt Len Mean', 'Bwd Header Len', 'Fwd Seg Size Avg', 'Pkt Len Max', 'Fwd Pkt Len Mean', 'Pkt Len Std', 'Pkt Size Avg'], 'Adv sample 773': ['Fwd Pkt Len Std', 'Fwd Pkt Len Max', 'Pkt Len Std', 'Flow Byts/s', 'Pkt Len Min', 'Fwd Pkt Len Mean', 'Bwd Header Len', 'Fwd Pkt Len Min', 'Pkt Len Mean', 'Init Bwd Win Byts'], 'Adv sample 774': ['Fwd Pkt Len Std', 'Fwd Pkt Len Max', 'Fwd Pkt Len Mean', 'Fwd Pkt Len Min', 'Flow Byts/s', 'Bwd Header Len', 'Pkt Len Min', 'Pkt Len Std', 'Pkt Len Max', 'Fwd Seg Size Avg'], 'Adv sample 775': ['Fwd Pkt Len Std', 'Fwd Pkt Len Max', 'Flow Byts/s', 'Bwd Header Len', 'Fwd Pkt Len Mean', 'Pkt Len Std', 'Pkt Len Max', 'Fwd Seg Size Avg', 'Pkt Size Avg', 'Pkt Len Mean'], 'Adv sample 776': ['Fwd Pkt Len Max', 'Fwd Pkt Len Std', 'Flow Byts/s', 'Fwd Pkt Len Mean', 'Pkt Len Max', 'Init Bwd Win Byts', 'Fwd Pkt Len Min', 'Pkt Size Avg', 'Pkt Len Mean', 'Pkt Len Std'], 'Adv sample 777': ['Bwd Header Len', 'Fwd Pkt Len Max', 'Fwd Pkt Len Std', 'Flow Byts/s', 'Pkt Len Max', 'Fwd Seg Size Avg', 'Pkt Len Std', 'Pkt Size Avg', 'Fwd Pkt Len Min', 'Fwd Pkt Len Mean'], 'Adv sample 778': ['Fwd Pkt Len Max', 'Fwd Pkt Len Std', 'Flow Byts/s', 'Bwd Header Len', 'Fwd Pkt Len Min', 'Pkt Len Max', 'Pkt Size Avg', 'Pkt Len Std', 'Fwd Seg Size Avg', 'Init Bwd Win Byts'], 'Adv sample 779': ['Fwd Pkt Len Max', 'Fwd Pkt Len Std', 'Fwd Pkt Len Mean', 'Bwd Header Len', 'Pkt Len Std', 'Pkt Size Avg', 'Pkt Len Min', 'Fwd Pkt Len Min', 'Pkt Len Max', 'Tot Bwd Pkts'], 'Adv sample 780': ['SYN Flag Cnt', 'Flow Duration', 'URG Flag Cnt', 'PSH Flag Cnt', 'Bwd Byts/b Avg', 'FIN Flag Cnt', 'Idle Mean', 'Bwd PSH Flags', 'Fwd IAT Max', 'Bwd Pkt Len Min'], 'Adv sample 781': ['Fwd Pkt Len Std', 'Fwd Pkt Len Max', 'Fwd Pkt Len Mean', 'Bwd Header Len', 'Pkt Len Std', 'Fwd Seg Size Avg', 'Pkt Len Max', 'Pkt Size Avg', 'Fwd Pkt Len Min', 'Init Bwd Win Byts'], 'Adv sample 782': ['Flow Byts/s', 'Fwd Pkt Len Std', 'Bwd Header Len', 'Fwd Pkt Len Max', 'Fwd Pkt Len Mean', 'Pkt Len Mean', 'Tot Bwd Pkts', 'Fwd Seg Size Avg', 'Pkt Len Max', 'Pkt Len Std'], 'Adv sample 783': ['Fwd Pkt Len Max', 'Bwd Header Len', 'Fwd Pkt Len Mean', 'Fwd Pkt Len Std', 'Init Bwd Win Byts', 'Pkt Len Mean', 'Pkt Len Max', 'Pkt Size Avg', 'Flow Byts/s', 'Fwd Pkt Len Min'], 'Adv sample 784': ['Fwd Pkt Len Max', 'Fwd Seg Size Avg', 'Flow Byts/s', 'Fwd PSH Flags', 'TotLen Fwd Pkts', 'Flow Pkts/s', 'Bwd IAT Tot', 'Pkt Len Var', 'Active Max', 'Fwd Act Data Pkts'], 'Adv sample 785': ['Fwd Pkt Len Std', 'Fwd Pkt Len Max', 'Bwd Header Len', 'Flow Byts/s', 'Pkt Len Std', 'Fwd Pkt Len Mean', 'Fwd Pkt Len Min', 'Pkt Len Max', 'Pkt Len Mean', 'Pkt Len Min'], 'Adv sample 786': ['Bwd Header Len', 'Fwd Pkt Len Max', 'Fwd Pkt Len Std', 'Flow Byts/s', 'Pkt Len Std', 'Fwd Pkt Len Mean', 'Pkt Len Max', 'Fwd Seg Size Avg', 'Pkt Len Mean', 'Fwd Pkt Len Min'], 'Adv sample 787': ['Fwd Pkt Len Std', 'Fwd Pkt Len Max', 'Fwd Pkt Len Mean', 'Bwd Header Len', 'Pkt Size Avg', 'Pkt Len Max', 'Pkt Len Std', 'Fwd Pkt Len Min', 'Fwd Seg Size Avg', 'Tot Bwd Pkts'], 'Adv sample 788': ['Fwd Pkt Len Max', 'Fwd Pkt Len Std', 'Fwd Pkt Len Min', 'Flow Byts/s', 'Pkt Len Mean', 'Idle Mean', 'Pkt Len Max', 'Init Bwd Win Byts', 'Pkt Len Std', 'Idle Min'], 'Adv sample 789': ['Fwd Pkt Len Max', 'Pkt Len Std', 'Fwd Seg Size Avg', 'Flow Byts/s', 'Bwd IAT Tot', 'Tot Fwd Pkts', 'Subflow Bwd Pkts', 'Fwd IAT Min', 'Pkt Len Var', 'Fwd IAT Max'], 'Adv sample 790': ['Pkt Len Std', 'Fwd Pkt Len Max', 'Fwd Pkt Len Mean', 'Flow Byts/s', 'Bwd Header Len', 'Fwd Pkt Len Std', 'Pkt Size Avg', 'Pkt Len Min', 'Pkt Len Max', 'Fwd Seg Size Avg'], 'Adv sample 791': ['Fwd Pkt Len Std', 'Flow Byts/s', 'Bwd Header Len', 'Fwd Pkt Len Max', 'Pkt Len Max', 'Fwd Pkt Len Mean', 'Pkt Len Std', 'Init Bwd Win Byts', 'Fwd Pkt Len Min', 'Pkt Len Min'], 'Adv sample 792': ['Fwd Pkt Len Max', 'Fwd Pkt Len Std', 'Bwd Header Len', 'Pkt Size Avg', 'Pkt Len Max', 'Pkt Len Mean', 'Fwd Seg Size Avg', 'Fwd Pkt Len Mean', 'Pkt Len Std', 'Fwd Pkt Len Min'], 'Adv sample 793': ['Fwd Pkt Len Std', 'Flow Byts/s', 'Fwd Pkt Len Max', 'Pkt Len Std', 'Bwd Header Len', 'Pkt Len Max', 'Fwd Pkt Len Mean', 'Fwd Seg Size Avg', 'Pkt Size Avg', 'Pkt Len Mean'], 'Adv sample 794': ['Bwd Header Len', 'Flow Byts/s', 'Fwd Pkt Len Mean', 'Fwd Pkt Len Min', 'Fwd Pkt Len Std', 'Pkt Len Mean', 'Fwd Pkt Len Max', 'Init Fwd Win Byts', 'Pkt Len Std', 'Fwd IAT Std'], 'Adv sample 795': ['Fwd Pkt Len Std', 'Fwd Pkt Len Max', 'Bwd Header Len', 'Fwd Pkt Len Mean', 'Pkt Len Std', 'Fwd Seg Size Avg', 'Fwd Pkt Len Min', 'Pkt Len Max', 'Pkt Size Avg', 'Pkt Len Mean'], 'Adv sample 796': ['Fwd Pkt Len Std', 'Bwd Header Len', 'Fwd Pkt Len Mean', 'Flow Byts/s', 'Fwd Pkt Len Max', 'Pkt Len Std', 'Fwd Seg Size Avg', 'Fwd Pkt Len Min', 'Pkt Size Avg', 'Pkt Len Max'], 'Adv sample 797': ['SYN Flag Cnt', 'FIN Flag Cnt', 'Flow Duration', 'Bwd Seg Size Avg', 'URG Flag Cnt', 'Fwd Pkts/b Avg', 'Active Std', 'TotLen Bwd Pkts', 'Idle Min', 'Tot Bwd Pkts'], 'Adv sample 798': ['Flow Duration', 'SYN Flag Cnt', 'Bwd Seg Size Avg', 'Fwd IAT Max', 'Fwd Pkts/b Avg', 'Subflow Fwd Pkts', 'Idle Std', 'URG Flag Cnt', 'Fwd Header Len', 'Subflow Fwd Byts'], 'Adv sample 799': ['Fwd Pkt Len Std', 'Fwd Pkt Len Max', 'Flow Byts/s', 'Bwd Header Len', 'Fwd Pkt Len Min', 'Pkt Len Std', 'Fwd Pkt Len Mean', 'Pkt Len Mean', 'Init Bwd Win Byts', 'Fwd Seg Size Avg'], 'Adv sample 800': ['Fwd Pkt Len Max', 'Fwd Pkt Len Std', 'Bwd Header Len', 'Flow Byts/s', 'Fwd Pkt Len Mean', 'Fwd Seg Size Avg', 'Pkt Len Std', 'Pkt Len Max', 'Tot Bwd Pkts', 'Pkt Len Var'], 'Adv sample 801': ['Fwd Pkt Len Std', 'Fwd Pkt Len Max', 'Flow Byts/s', 'Fwd Seg Size Avg', 'Pkt Len Max', 'Pkt Len Std', 'Pkt Len Mean', 'Fwd Pkt Len Mean', 'Pkt Len Min', 'Pkt Size Avg'], 'Adv sample 802': ['Fwd Pkt Len Max', 'Fwd Pkt Len Std', 'Flow Byts/s', 'Pkt Len Max', 'Init Bwd Win Byts', 'Fwd Seg Size Avg', 'Fwd Pkt Len Mean', 'Pkt Size Avg', 'Pkt Len Mean', 'Pkt Len Std'], 'Adv sample 803': ['Fwd Pkt Len Max', 'Fwd Pkt Len Std', 'Fwd Pkt Len Mean', 'Fwd Seg Size Avg', 'Flow Byts/s', 'Pkt Size Avg', 'Fwd Pkt Len Min', 'Pkt Len Mean', 'Bwd Pkt Len Min', 'Init Bwd Win Byts'], 'Adv sample 804': ['Fwd Pkt Len Std', 'Flow Byts/s', 'Pkt Len Std', 'Init Bwd Win Byts', 'Pkt Len Min', 'Fwd IAT Tot', 'FIN Flag Cnt', 'Bwd IAT Tot', 'Init Fwd Win Byts', 'Fwd Header Len'], 'Adv sample 805': ['Bwd Header Len', 'Tot Bwd Pkts', 'Bwd Pkts/s', 'Subflow Bwd Pkts', 'Fwd IAT Std', 'Fwd Act Data Pkts', 'Flow Pkts/s', 'Active Mean', 'CWE Flag Count', 'Pkt Len Max'], 'Adv sample 806': ['Fwd Pkt Len Std', 'Fwd Pkt Len Mean', 'Bwd Header Len', 'Fwd Seg Size Avg', 'Pkt Len Max', 'Pkt Size Avg', 'Pkt Len Mean', 'Fwd Pkt Len Min', 'Pkt Len Min', 'Init Bwd Win Byts'], 'Adv sample 807': ['SYN Flag Cnt', 'Flow Duration', 'Bwd Seg Size Avg', 'Fwd IAT Min', 'Tot Fwd Pkts', 'Idle Min', 'PSH Flag Cnt', 'Fwd Act Data Pkts', 'Subflow Bwd Byts', 'Bwd Byts/b Avg'], 'Adv sample 808': ['Fwd Pkt Len Max', 'Fwd Pkt Len Std', 'Flow Byts/s', 'Fwd Pkt Len Min', 'Pkt Len Std', 'Fwd Seg Size Avg', 'Fwd Pkt Len Mean', 'Init Bwd Win Byts', 'Pkt Len Min', 'Pkt Size Avg'], 'Adv sample 809': ['Fwd Pkt Len Std', 'Fwd Pkt Len Max', 'Flow Byts/s', 'Bwd Header Len', 'Pkt Len Std', 'Fwd Pkt Len Mean', 'Pkt Size Avg', 'Pkt Len Min', 'Init Bwd Win Byts', 'Fwd Pkt Len Min'], 'Adv sample 810': ['Bwd Header Len', 'Fwd Pkt Len Max', 'Fwd Pkt Len Mean', 'Fwd Pkt Len Std', 'Pkt Size Avg', 'Fwd Pkt Len Min', 'Pkt Len Std', 'Fwd Seg Size Avg', 'Pkt Len Max', 'Pkt Len Mean'], 'Adv sample 811': ['Fwd Pkt Len Max', 'Fwd Pkt Len Std', 'Fwd Seg Size Avg', 'Flow Byts/s', 'Fwd Pkt Len Mean', 'Pkt Size Avg', 'Pkt Len Std', 'Fwd Pkt Len Min', 'Pkt Len Max', 'Init Bwd Win Byts'], 'Adv sample 812': ['SYN Flag Cnt', 'Flow Duration', 'Bwd Seg Size Avg', 'FIN Flag Cnt', 'Bwd PSH Flags', 'Idle Mean', 'Subflow Fwd Byts', 'Fwd Pkt Len Mean', 'Bwd IAT Mean', 'Fwd IAT Min'], 'Adv sample 813': ['Fwd Pkt Len Max', 'Fwd Pkt Len Std', 'Fwd Pkt Len Mean', 'Pkt Len Max', 'Pkt Size Avg', 'Pkt Len Std', 'Fwd Seg Size Avg', 'Flow Byts/s', 'Pkt Len Mean', 'Init Bwd Win Byts'], 'Adv sample 814': ['SYN Flag Cnt', 'Flow Duration', 'Bwd Pkt Len Mean', 'Fwd Pkts/b Avg', 'TotLen Bwd Pkts', 'Bwd Seg Size Avg', 'URG Flag Cnt', 'Subflow Bwd Pkts', 'Flow Byts/s', 'Fwd IAT Tot'], 'Adv sample 815': ['Fwd Pkt Len Max', 'Flow Byts/s', 'Bwd Header Len', 'Fwd Pkt Len Std', 'Pkt Len Max', 'Fwd Pkt Len Mean', 'Init Bwd Win Byts', 'Pkt Len Std', 'Fwd Seg Size Avg', 'Pkt Size Avg'], 'Adv sample 816': ['Fwd Pkt Len Std', 'Bwd Header Len', 'Fwd Pkt Len Max', 'Pkt Len Std', 'Flow Byts/s', 'Pkt Len Max', 'Fwd Pkt Len Mean', 'Pkt Len Mean', 'Pkt Len Min', 'Init Bwd Win Byts'], 'Adv sample 817': ['Fwd Pkt Len Max', 'Fwd Pkt Len Std', 'Pkt Len Min', 'Pkt Size Avg', 'Flow Byts/s', 'Bwd Header Len', 'Idle Mean', 'Fwd Pkt Len Mean', 'Pkt Len Std', 'Pkt Len Mean'], 'Adv sample 818': ['Fwd Pkt Len Std', 'Fwd Pkt Len Max', 'Bwd Header Len', 'Flow Byts/s', 'Fwd Pkt Len Mean', 'Fwd Seg Size Avg', 'Pkt Len Std', 'Pkt Len Max', 'Pkt Len Var', 'Bwd IAT Tot'], 'Adv sample 819': ['Fwd Pkt Len Std', 'Fwd Pkt Len Min', 'Flow Byts/s', 'Init Bwd Win Byts', 'Pkt Len Max', 'Idle Mean', 'Pkt Len Std', 'Idle Max', 'Tot Bwd Pkts', 'Init Fwd Win Byts'], 'Adv sample 820': ['SYN Flag Cnt', 'FIN Flag Cnt', 'Fwd Pkts/b Avg', 'Flow Duration', 'URG Flag Cnt', 'Fwd IAT Mean', 'Idle Mean', 'Fwd IAT Min', 'Subflow Fwd Byts', 'Idle Std'], 'Adv sample 821': ['Fwd Pkt Len Std', 'Flow Byts/s', 'Fwd Pkt Len Max', 'Bwd Header Len', 'Fwd Pkt Len Mean', 'Pkt Len Mean', 'Pkt Len Std', 'Pkt Len Max', 'Fwd Seg Size Avg', 'Pkt Len Min'], 'Adv sample 822': ['Fwd Pkt Len Std', 'Flow Byts/s', 'Bwd Header Len', 'Fwd Pkt Len Max', 'Pkt Len Max', 'Pkt Size Avg', 'Bwd Pkt Len Min', 'Pkt Len Min', 'Fwd Seg Size Avg', 'Fwd Pkt Len Min'], 'Adv sample 823': ['Fwd Pkt Len Std', 'Bwd Header Len', 'Fwd Pkt Len Max', 'Fwd Pkt Len Mean', 'Flow Byts/s', 'Fwd Pkt Len Min', 'Fwd Seg Size Avg', 'Pkt Len Max', 'Pkt Len Std', 'Pkt Len Min'], 'Adv sample 824': ['Fwd Pkt Len Std', 'Fwd Pkt Len Max', 'Bwd Header Len', 'Fwd Pkt Len Mean', 'Flow Byts/s', 'Pkt Len Max', 'Pkt Len Mean', 'Pkt Len Std', 'Pkt Size Avg', 'Fwd Seg Size Avg'], 'Adv sample 825': ['Fwd Pkt Len Max', 'Fwd Pkt Len Std', 'Bwd Header Len', 'Fwd Pkt Len Mean', 'Pkt Len Std', 'Pkt Len Max', 'Fwd Seg Size Avg', 'Pkt Size Avg', 'Init Bwd Win Byts', 'Pkt Len Min'], 'Adv sample 826': ['Bwd Header Len', 'Fwd Pkt Len Std', 'Fwd Pkt Len Max', 'Flow Byts/s', 'Fwd Pkt Len Mean', 'Fwd Pkt Len Min', 'Pkt Len Std', 'Fwd Seg Size Avg', 'Init Bwd Win Byts', 'Pkt Len Max'], 'Adv sample 827': ['Fwd Pkt Len Max', 'Fwd Pkt Len Std', 'Flow Byts/s', 'Fwd Pkt Len Mean', 'Pkt Size Avg', 'Fwd Pkt Len Min', 'Pkt Len Mean', 'Bwd Header Len', 'Pkt Len Max', 'Pkt Len Std'], 'Adv sample 828': ['Fwd Pkt Len Std', 'Fwd Pkt Len Max', 'Bwd Header Len', 'Pkt Size Avg', 'Fwd Seg Size Avg', 'Fwd Pkt Len Mean', 'Pkt Len Std', 'Pkt Len Max', 'Fwd Pkt Len Min', 'Pkt Len Mean'], 'Adv sample 829': ['Fwd Pkt Len Std', 'Fwd Pkt Len Max', 'Bwd Header Len', 'Flow Byts/s', 'Fwd Pkt Len Mean', 'Pkt Len Mean', 'Pkt Len Std', 'Fwd Pkt Len Min', 'Fwd Seg Size Avg', 'Pkt Size Avg'], 'Adv sample 830': ['Fwd Pkt Len Max', 'Fwd Pkt Len Std', 'Flow Byts/s', 'Bwd Header Len', 'Fwd Pkt Len Mean', 'Fwd Pkt Len Min', 'Pkt Len Max', 'Pkt Len Std', 'Pkt Size Avg', 'Pkt Len Min'], 'Adv sample 831': ['Fwd Pkt Len Max', 'Fwd Pkt Len Std', 'Fwd Pkt Len Mean', 'Fwd Seg Size Avg', 'Pkt Size Avg', 'Pkt Len Std', 'Fwd Pkt Len Min', 'Pkt Len Mean', 'Init Bwd Win Byts', 'Flow Byts/s'], 'Adv sample 832': ['Fwd Pkt Len Mean', 'Fwd Pkt Len Std', 'Fwd Pkt Len Max', 'Flow Byts/s', 'Fwd Seg Size Avg', 'Bwd Header Len', 'Pkt Len Std', 'Pkt Size Avg', 'Pkt Len Min', 'Fwd Pkt Len Min'], 'Adv sample 833': ['Fwd Pkt Len Max', 'Fwd Pkt Len Std', 'Fwd Pkt Len Min', 'Flow Byts/s', 'Pkt Len Max', 'Idle Mean', 'Idle Min', 'Pkt Len Std', 'Idle Max', 'Init Bwd Win Byts'], 'Adv sample 834': ['Fwd Pkt Len Std', 'Bwd Header Len', 'Fwd Pkt Len Max', 'Flow Byts/s', 'Init Bwd Win Byts', 'Fwd Pkt Len Min', 'Fwd Pkt Len Mean', 'Pkt Len Max', 'Pkt Len Std', 'Fwd Seg Size Avg'], 'Adv sample 835': ['Fwd Pkt Len Std', 'Flow Byts/s', 'Fwd Pkt Len Mean', 'Bwd Header Len', 'Fwd Pkt Len Max', 'Fwd Seg Size Avg', 'Pkt Size Avg', 'Pkt Len Std', 'Pkt Len Max', 'Fwd Pkt Len Min'], 'Adv sample 836': ['Flow Duration', 'SYN Flag Cnt', 'Bwd Seg Size Avg', 'Fwd Header Len', 'Tot Bwd Pkts', 'URG Flag Cnt', 'Bwd Header Len', 'FIN Flag Cnt', 'PSH Flag Cnt', 'Subflow Bwd Byts'], 'Adv sample 837': ['Fwd Pkt Len Max', 'Fwd Pkt Len Std', 'Flow Byts/s', 'Bwd Header Len', 'Pkt Len Std', 'Fwd Pkt Len Mean', 'Fwd Seg Size Avg', 'Pkt Size Avg', 'Fwd Pkt Len Min', 'Init Bwd Win Byts'], 'Adv sample 838': ['Fwd Pkt Len Max', 'Pkt Len Std', 'Fwd Seg Size Avg', 'Flow Byts/s', 'Bwd IAT Tot', 'Pkt Len Var', 'Fwd IAT Std', 'Bwd IAT Mean', 'Bwd URG Flags', 'Flow Duration'], 'Adv sample 839': ['Fwd Pkt Len Max', 'Fwd Pkt Len Mean', 'Bwd Header Len', 'Fwd Pkt Len Std', 'Pkt Len Max', 'Pkt Size Avg', 'Pkt Len Std', 'Fwd Seg Size Avg', 'Fwd Pkt Len Min', 'Pkt Len Mean'], 'Adv sample 840': ['Fwd Pkt Len Std', 'Fwd Pkt Len Max', 'Bwd Header Len', 'Flow Byts/s', 'Pkt Len Std', 'Fwd Pkt Len Mean', 'Pkt Len Min', 'Pkt Size Avg', 'Pkt Len Max', 'Init Bwd Win Byts'], 'Adv sample 841': ['Fwd Pkt Len Max', 'Bwd Header Len', 'Fwd Pkt Len Std', 'Pkt Len Std', 'Fwd Pkt Len Mean', 'Pkt Size Avg', 'Pkt Len Min', 'Pkt Len Max', 'Fwd Seg Size Avg', 'Fwd Pkt Len Min'], 'Adv sample 842': ['Fwd Pkt Len Max', 'Fwd Seg Size Avg', 'Flow Byts/s', 'Fwd PSH Flags', 'Flow Pkts/s', 'Bwd Pkt Len Mean', 'Pkt Len Var', 'Bwd IAT Tot', 'ECE Flag Cnt', 'Fwd Pkts/s'], 'Adv sample 843': ['Fwd Pkt Len Std', 'Fwd Pkt Len Mean', 'Fwd Seg Size Avg', 'Bwd Header Len', 'Pkt Size Avg', 'Pkt Len Max', 'Fwd Pkt Len Min', 'Pkt Len Mean', 'Init Bwd Win Byts', 'Bwd Pkt Len Std'], 'Adv sample 844': ['Bwd Header Len', 'Pkt Len Max', 'Fwd Pkt Len Std', 'Pkt Len Mean', 'Pkt Len Std', 'Init Bwd Win Byts', 'Fwd Pkt Len Max', 'Flow Byts/s', 'Fwd Seg Size Avg', 'Tot Bwd Pkts'], 'Adv sample 845': ['Fwd Pkt Len Max', 'Fwd Pkt Len Std', 'Flow Byts/s', 'Pkt Len Max', 'Fwd Pkt Len Min', 'Pkt Len Std', 'Pkt Size Avg', 'Init Bwd Win Byts', 'Fwd Header Len', 'Idle Mean'], 'Adv sample 846': ['Bwd Header Len', 'Fwd Pkt Len Max', 'Pkt Len Mean', 'Fwd Pkt Len Std', 'Flow Byts/s', 'Pkt Size Avg', 'Pkt Len Max', 'Fwd Pkt Len Mean', 'Fwd Seg Size Avg', 'Pkt Len Std'], 'Adv sample 847': ['Fwd Pkt Len Max', 'Bwd Header Len', 'Fwd Pkt Len Mean', 'Fwd Pkt Len Std', 'Fwd Pkt Len Min', 'Pkt Len Std', 'Pkt Len Mean', 'Pkt Size Avg', 'Flow Byts/s', 'Pkt Len Min'], 'Adv sample 848': ['Fwd Pkt Len Max', 'Fwd Pkt Len Std', 'Bwd Header Len', 'Fwd Pkt Len Mean', 'Pkt Len Mean', 'Init Bwd Win Byts', 'Fwd Seg Size Avg', 'Pkt Len Min', 'Fwd Pkt Len Min', 'Pkt Size Avg'], 'Adv sample 849': ['Fwd Pkt Len Std', 'Fwd Pkt Len Max', 'Bwd Header Len', 'Fwd Pkt Len Mean', 'Pkt Len Std', 'Pkt Size Avg', 'Fwd Seg Size Avg', 'Init Bwd Win Byts', 'Pkt Len Mean', 'Pkt Len Max'], 'Adv sample 850': ['Fwd Pkt Len Std', 'Fwd Seg Size Avg', 'Flow Byts/s', 'Pkt Len Min', 'Fwd Pkt Len Min', 'Init Bwd Win Byts', 'TotLen Bwd Pkts', 'Bwd IAT Tot', 'Bwd Pkt Len Min', 'SYN Flag Cnt'], 'Adv sample 851': ['Fwd Pkt Len Std', 'Fwd Pkt Len Mean', 'Fwd Seg Size Avg', 'Pkt Size Avg', 'Bwd Header Len', 'Pkt Len Mean', 'Pkt Len Max', 'Init Bwd Win Byts', 'Fwd Pkt Len Min', 'Pkt Len Min'], 'Adv sample 852': ['Fwd Pkt Len Max', 'Fwd Pkt Len Std', 'Bwd Header Len', 'Flow Byts/s', 'Fwd Pkt Len Mean', 'Pkt Len Std', 'Fwd Pkt Len Min', 'Pkt Len Max', 'Pkt Len Min', 'Pkt Len Mean'], 'Adv sample 853': ['Fwd Pkt Len Max', 'Fwd Pkt Len Std', 'Bwd Header Len', 'Fwd Pkt Len Mean', 'Flow Byts/s', 'Pkt Len Std', 'Pkt Len Max', 'Pkt Size Avg', 'Fwd Seg Size Avg', 'Pkt Len Mean'], 'Adv sample 854': ['Pkt Len Std', 'Fwd Pkt Len Std', 'Bwd Header Len', 'Pkt Size Avg', 'Fwd Pkt Len Mean', 'Flow Byts/s', 'Fwd Pkt Len Max', 'Init Bwd Win Byts', 'Pkt Len Max', 'Pkt Len Min'], 'Adv sample 855': ['Fwd Pkt Len Max', 'Fwd Pkt Len Std', 'Fwd Pkt Len Min', 'Flow Byts/s', 'Pkt Len Max', 'Idle Mean', 'Init Bwd Win Byts', 'Tot Fwd Pkts', 'Pkt Len Std', 'Bwd Byts/b Avg'], 'Adv sample 856': ['Fwd Pkt Len Std', 'Fwd Pkt Len Max', 'Fwd Pkt Len Mean', 'Fwd Seg Size Avg', 'Flow Byts/s', 'Pkt Len Max', 'Pkt Len Std', 'Tot Bwd Pkts', 'Fwd IAT Min', 'Subflow Bwd Pkts'], 'Adv sample 857': ['Fwd Pkt Len Std', 'Fwd Pkt Len Max', 'Pkt Len Std', 'Fwd Pkt Len Mean', 'Pkt Len Max', 'Init Bwd Win Byts', 'Bwd Header Len', 'Pkt Size Avg', 'Fwd Seg Size Avg', 'Pkt Len Mean'], 'Adv sample 858': ['Fwd Pkt Len Max', 'Fwd Pkt Len Std', 'Bwd Header Len', 'Pkt Len Std', 'Pkt Len Max', 'Fwd Pkt Len Mean', 'Pkt Len Mean', 'Pkt Len Min', 'Fwd Pkt Len Min', 'Fwd Seg Size Avg'], 'Adv sample 859': ['Bwd Header Len', 'Fwd Pkt Len Std', 'Fwd Pkt Len Max', 'Pkt Len Std', 'Flow Byts/s', 'Fwd Seg Size Avg', 'Init Bwd Win Byts', 'Fwd Pkt Len Min', 'Fwd Pkt Len Mean', 'Pkt Size Avg'], 'Adv sample 860': ['Fwd Pkt Len Std', 'Fwd Pkt Len Max', 'Bwd Header Len', 'Flow Byts/s', 'Fwd Pkt Len Mean', 'Fwd Pkt Len Min', 'Pkt Len Mean', 'Pkt Len Min', 'Fwd Seg Size Avg', 'Pkt Len Max'], 'Adv sample 861': ['Fwd Pkt Len Std', 'Fwd Pkt Len Max', 'Fwd Seg Size Avg', 'Bwd Header Len', 'Pkt Len Std', 'Fwd Pkt Len Mean', 'Fwd Pkt Len Min', 'Pkt Size Avg', 'Pkt Len Max', 'Pkt Len Mean'], 'Adv sample 862': ['Fwd Pkt Len Max', 'Fwd Pkt Len Std', 'Fwd Pkt Len Min', 'Flow Byts/s', 'Idle Mean', 'Pkt Len Max', 'Idle Min', 'Init Bwd Win Byts', 'Idle Max', 'Fwd IAT Min'], 'Adv sample 863': ['Fwd Pkt Len Max', 'Flow Byts/s', 'Bwd Header Len', 'Fwd Pkt Len Std', 'Fwd Pkt Len Mean', 'Fwd Seg Size Avg', 'Init Bwd Win Byts', 'Pkt Len Min', 'Pkt Len Mean', 'Pkt Size Avg'], 'Adv sample 864': ['SYN Flag Cnt', 'Idle Mean', 'Fwd Pkts/b Avg', 'Flow Duration', 'Bwd Byts/b Avg', 'Bwd PSH Flags', 'Fwd Act Data Pkts', 'Bwd Seg Size Avg', 'Fwd IAT Std', 'Bwd IAT Std'], 'Adv sample 865': ['Bwd Header Len', 'Fwd Pkt Len Max', 'Fwd Pkt Len Std', 'Pkt Len Std', 'Fwd Pkt Len Mean', 'Pkt Len Max', 'Pkt Len Mean', 'Pkt Size Avg', 'Fwd Seg Size Avg', 'Pkt Len Min'], 'Adv sample 866': ['Fwd Pkt Len Max', 'Fwd Pkt Len Std', 'Fwd Pkt Len Min', 'Bwd Header Len', 'Pkt Len Std', 'Flow Byts/s', 'Pkt Len Max', 'Fwd Seg Size Avg', 'Init Bwd Win Byts', 'Pkt Len Mean'], 'Adv sample 867': ['SYN Flag Cnt', 'Flow Duration', 'URG Flag Cnt', 'Tot Fwd Pkts', 'Bwd Seg Size Avg', 'Fwd Pkt Len Mean', 'FIN Flag Cnt', 'Bwd PSH Flags', 'Bwd Byts/b Avg', 'Bwd IAT Mean'], 'Adv sample 868': ['Pkt Len Min', 'SYN Flag Cnt', 'Bwd PSH Flags', 'Fwd IAT Mean', 'Idle Mean', 'URG Flag Cnt', 'Fwd Seg Size Avg', 'FIN Flag Cnt', 'Bwd Byts/b Avg', 'Fwd Pkts/b Avg'], 'Adv sample 869': ['Fwd Pkt Len Std', 'Bwd Header Len', 'Flow Byts/s', 'Fwd Pkt Len Mean', 'Fwd Pkt Len Max', 'Pkt Size Avg', 'Pkt Len Std', 'Pkt Len Max', 'Fwd Pkt Len Min', 'Fwd Seg Size Avg'], 'Adv sample 870': ['Fwd Pkt Len Std', 'Fwd Pkt Len Max', 'Fwd Pkt Len Mean', 'Pkt Len Max', 'Fwd Seg Size Avg', 'Flow Byts/s', 'Pkt Len Std', 'Tot Bwd Pkts', 'Idle Max', 'Fwd IAT Min'], 'Adv sample 871': ['Fwd Pkt Len Mean', 'Fwd Pkt Len Std', 'Fwd Pkt Len Max', 'Bwd Header Len', 'Fwd Pkt Len Min', 'Fwd Seg Size Avg', 'Pkt Len Std', 'Pkt Size Avg', 'Pkt Len Mean', 'Pkt Len Max'], 'Adv sample 872': ['Fwd Pkt Len Max', 'Bwd Header Len', 'Fwd Pkt Len Std', 'Fwd Pkt Len Mean', 'Pkt Len Std', 'Fwd Pkt Len Min', 'Fwd Seg Size Avg', 'Pkt Len Mean', 'Bwd Pkt Len Min', 'Pkt Size Avg'], 'Adv sample 873': ['Fwd Pkt Len Std', 'Fwd Pkt Len Max', 'Flow Byts/s', 'Bwd Header Len', 'Fwd Pkt Len Mean', 'Pkt Len Max', 'Fwd Seg Size Avg', 'Pkt Size Avg', 'Fwd Pkt Len Min', 'Pkt Len Std'], 'Adv sample 874': ['Bwd Header Len', 'Fwd Pkt Len Std', 'Fwd Pkt Len Max', 'Pkt Len Std', 'Fwd Pkt Len Min', 'Pkt Len Mean', 'Fwd Pkt Len Mean', 'Pkt Size Avg', 'Pkt Len Max', 'Fwd Seg Size Avg'], 'Adv sample 875': ['Bwd Header Len', 'Fwd Pkt Len Std', 'Fwd Pkt Len Max', 'Flow Byts/s', 'Pkt Len Std', 'Init Bwd Win Byts', 'Pkt Len Max', 'Fwd IAT Std', 'Bwd Pkt Len Min', 'Fwd Act Data Pkts'], 'Adv sample 876': ['Fwd Pkt Len Max', 'Fwd Pkt Len Std', 'Bwd Header Len', 'Fwd Seg Size Avg', 'Fwd Pkt Len Mean', 'Pkt Len Std', 'Pkt Len Mean', 'Pkt Len Min', 'Init Bwd Win Byts', 'Bwd Pkt Len Std'], 'Adv sample 877': ['Fwd Pkt Len Std', 'Fwd Pkt Len Max', 'Bwd Header Len', 'Flow Byts/s', 'Fwd Pkt Len Mean', 'Fwd Pkt Len Min', 'Pkt Len Std', 'Pkt Len Max', 'Fwd Seg Size Avg', 'Pkt Size Avg'], 'Adv sample 878': ['Fwd Pkt Len Max', 'Fwd Pkt Len Std', 'Bwd Header Len', 'Flow Byts/s', 'Fwd Pkt Len Mean', 'Fwd Pkt Len Min', 'Fwd Seg Size Avg', 'Pkt Len Mean', 'Pkt Len Max', 'Pkt Size Avg'], 'Adv sample 879': ['Fwd Pkt Len Max', 'Fwd Pkt Len Std', 'Fwd Pkt Len Mean', 'Bwd Header Len', 'Pkt Len Max', 'Fwd Pkt Len Min', 'Pkt Size Avg', 'Fwd Seg Size Avg', 'Pkt Len Mean', 'Init Bwd Win Byts'], 'Adv sample 880': ['Bwd Header Len', 'Fwd Pkt Len Std', 'Fwd Pkt Len Max', 'Fwd Pkt Len Mean', 'Init Bwd Win Byts', 'Pkt Len Max', 'Fwd Seg Size Avg', 'Flow Byts/s', 'Pkt Len Mean', 'Pkt Len Std'], 'Adv sample 881': ['Fwd Pkt Len Std', 'Flow Byts/s', 'Bwd Header Len', 'Fwd Pkt Len Max', 'Pkt Len Std', 'Fwd Pkt Len Mean', 'Fwd Pkt Len Min', 'Fwd Seg Size Avg', 'Pkt Len Mean', 'Pkt Len Min'], 'Adv sample 882': ['Fwd Pkt Len Max', 'Fwd Pkt Len Std', 'Pkt Size Avg', 'Fwd Pkt Len Min', 'Flow Byts/s', 'Pkt Len Max', 'Pkt Len Mean', 'Idle Mean', 'Init Bwd Win Byts', 'Idle Max'], 'Adv sample 883': ['Fwd Pkt Len Max', 'Fwd Pkt Len Std', 'Pkt Size Avg', 'Fwd Pkt Len Min', 'Idle Mean', 'Flow Byts/s', 'Init Bwd Win Byts', 'Pkt Len Mean', 'Pkt Len Std', 'Pkt Len Max'], 'Adv sample 884': ['Bwd Header Len', 'ACK Flag Cnt', 'Bwd Pkts/s', 'Fwd URG Flags', 'Pkt Len Min', 'Fwd PSH Flags', 'Fwd IAT Min', 'Bwd Byts/b Avg', 'ECE Flag Cnt', 'Bwd Pkts/b Avg'], 'Adv sample 885': ['Fwd Pkt Len Max', 'Fwd Seg Size Avg', 'Flow Byts/s', 'Fwd PSH Flags', 'Bwd IAT Tot', 'Pkt Len Var', 'Flow Pkts/s', 'Bwd Pkt Len Max', 'Fwd Header Len', 'Active Mean'], 'Adv sample 886': ['Fwd Pkt Len Std', 'Fwd Pkt Len Max', 'Bwd Header Len', 'Fwd Pkt Len Mean', 'Flow Byts/s', 'Pkt Len Mean', 'Pkt Size Avg', 'Init Bwd Win Byts', 'Fwd Seg Size Avg', 'Pkt Len Std'], 'Adv sample 887': ['Fwd Pkt Len Max', 'Fwd Pkt Len Std', 'Fwd Pkt Len Mean', 'Fwd Seg Size Avg', 'Flow Byts/s', 'Pkt Len Max', 'Pkt Len Std', 'Tot Bwd Pkts', 'Fwd IAT Min', 'Idle Max'], 'Adv sample 888': ['Fwd Pkt Len Max', 'Fwd Pkt Len Std', 'Bwd Header Len', 'Fwd Seg Size Avg', 'Init Bwd Win Byts', 'Flow Byts/s', 'Pkt Len Std', 'Fwd Pkt Len Min', 'Pkt Len Mean', 'Pkt Len Max'], 'Adv sample 889': ['Fwd Pkt Len Std', 'Fwd Pkt Len Max', 'Pkt Len Std', 'Bwd Header Len', 'Fwd Pkt Len Min', 'Fwd Pkt Len Mean', 'Pkt Size Avg', 'Flow Byts/s', 'Pkt Len Max', 'Init Bwd Win Byts'], 'Adv sample 890': ['Fwd Pkt Len Max', 'Fwd Pkt Len Std', 'Pkt Size Avg', 'Fwd Pkt Len Min', 'Pkt Len Mean', 'Idle Min', 'Init Bwd Win Byts', 'Idle Mean', 'Flow Byts/s', 'Pkt Len Max'], 'Adv sample 891': ['SYN Flag Cnt', 'Flow Duration', 'URG Flag Cnt', 'Bwd Seg Size Avg', 'Fwd Pkts/b Avg', 'Idle Mean', 'Bwd Pkt Len Mean', 'Fwd Act Data Pkts', 'FIN Flag Cnt', 'Fwd Header Len'], 'Adv sample 892': ['Fwd Pkt Len Std', 'Fwd Pkt Len Max', 'Flow Byts/s', 'Bwd Header Len', 'Fwd Pkt Len Mean', 'Pkt Len Std', 'Fwd Pkt Len Min', 'Init Bwd Win Byts', 'Pkt Size Avg', 'Pkt Len Max'], 'Adv sample 893': ['SYN Flag Cnt', 'Flow Duration', 'Bwd URG Flags', 'FIN Flag Cnt', 'Fwd IAT Std', 'Fwd Pkts/b Avg', 'Fwd Pkt Len Min', 'Active Std', 'Pkt Len Var', 'Fwd Pkt Len Mean'], 'Adv sample 894': ['SYN Flag Cnt', 'Flow Duration', 'Bwd Seg Size Avg', 'FIN Flag Cnt', 'URG Flag Cnt', 'Bwd Byts/b Avg', 'Idle Mean', 'Pkt Len Var', 'Bwd IAT Std', 'PSH Flag Cnt'], 'Adv sample 895': ['Fwd Pkt Len Max', 'Fwd Pkt Len Std', 'Flow Byts/s', 'Bwd Header Len', 'Fwd Pkt Len Mean', 'Pkt Len Min', 'Pkt Len Std', 'Fwd Seg Size Avg', 'Fwd Pkt Len Min', 'Pkt Len Max'], 'Adv sample 896': ['Fwd Pkt Len Std', 'Fwd Pkt Len Max', 'Fwd Pkt Len Mean', 'Pkt Len Std', 'Flow Byts/s', 'Bwd Header Len', 'Fwd Seg Size Avg', 'Pkt Size Avg', 'Pkt Len Mean', 'Bwd PSH Flags'], 'Adv sample 897': ['Fwd Pkt Len Std', 'Fwd Pkt Len Max', 'Bwd Header Len', 'Pkt Len Min', 'Fwd Pkt Len Min', 'Fwd Pkt Len Mean', 'Pkt Len Mean', 'Fwd Seg Size Avg', 'Pkt Size Avg', 'Pkt Len Max'], 'Adv sample 898': ['SYN Flag Cnt', 'Flow Duration', 'URG Flag Cnt', 'Tot Fwd Pkts', 'Tot Bwd Pkts', 'TotLen Bwd Pkts', 'Fwd Pkt Len Max', 'Fwd Pkt Len Min', 'Fwd Pkt Len Mean', 'Bwd Pkt Len Max'], 'Adv sample 899': ['Fwd Pkt Len Max', 'Fwd Pkt Len Std', 'Bwd Header Len', 'Pkt Size Avg', 'Flow Byts/s', 'Fwd Seg Size Avg', 'Fwd Pkt Len Mean', 'Pkt Len Min', 'Pkt Len Std', 'Pkt Len Max'], 'Adv sample 900': ['Fwd Pkt Len Max', 'Fwd Pkt Len Std', 'Flow Byts/s', 'Bwd Header Len', 'Pkt Len Std', 'Pkt Len Mean', 'Fwd Pkt Len Min', 'Fwd Seg Size Avg', 'Pkt Len Max', 'Init Bwd Win Byts'], 'Adv sample 901': ['Fwd Pkt Len Max', 'Bwd Header Len', 'Pkt Len Mean', 'Fwd Seg Size Avg', 'Init Bwd Win Byts', 'Fwd Pkt Len Std', 'Fwd Pkt Len Mean', 'Pkt Len Max', 'Flow Byts/s', 'Fwd Pkt Len Min'], 'Adv sample 902': ['Fwd Pkt Len Max', 'Bwd Header Len', 'Flow Byts/s', 'Fwd Pkt Len Std', 'Pkt Len Std', 'Fwd Pkt Len Min', 'Fwd Pkt Len Mean', 'Fwd Seg Size Avg', 'Pkt Len Mean', 'Init Bwd Win Byts'], 'Adv sample 903': ['Flow Byts/s', 'Fwd Pkt Len Std', 'Fwd Pkt Len Max', 'Bwd Header Len', 'Fwd Pkt Len Min', 'Fwd Seg Size Avg', 'Pkt Len Std', 'Pkt Len Mean', 'Fwd Pkt Len Mean', 'Pkt Len Min'], 'Adv sample 904': ['Fwd Pkt Len Max', 'Fwd Pkt Len Std', 'Fwd Pkt Len Mean', 'Bwd Header Len', 'Fwd Seg Size Avg', 'Pkt Len Std', 'Pkt Len Max', 'Pkt Size Avg', 'Pkt Len Mean', 'Fwd Pkt Len Min'], 'Adv sample 905': ['Fwd Pkt Len Max', 'Fwd Pkt Len Std', 'Fwd Seg Size Avg', 'Flow Byts/s', 'Fwd Pkt Len Mean', 'Pkt Len Max', 'Pkt Len Std', 'Pkt Len Mean', 'Fwd Pkt Len Min', 'Pkt Len Min'], 'Adv sample 906': ['Fwd Pkt Len Std', 'Fwd Pkt Len Max', 'Flow Byts/s', 'Bwd Header Len', 'Fwd Pkt Len Mean', 'Pkt Len Max', 'Fwd Seg Size Avg', 'Init Bwd Win Byts', 'Fwd Pkt Len Min', 'Bwd Pkt Len Min'], 'Adv sample 907': ['Fwd Pkt Len Max', 'Fwd Pkt Len Std', 'Fwd Pkt Len Mean', 'Pkt Len Std', 'Bwd Header Len', 'Fwd Pkt Len Min', 'Pkt Len Mean', 'Fwd Seg Size Avg', 'Init Bwd Win Byts', 'Pkt Len Max'], 'Adv sample 908': ['Bwd Header Len', 'Fwd Pkt Len Std', 'Fwd Pkt Len Max', 'Pkt Len Std', 'Fwd Pkt Len Mean', 'Pkt Len Mean', 'Fwd Seg Size Avg', 'Pkt Len Max', 'Pkt Size Avg', 'Pkt Len Min'], 'Adv sample 909': ['Fwd Pkt Len Max', 'Fwd Pkt Len Std', 'Bwd Header Len', 'Pkt Len Mean', 'Fwd Seg Size Avg', 'Fwd Pkt Len Mean', 'Pkt Len Std', 'Fwd Pkt Len Min', 'Pkt Len Min', 'Pkt Len Max'], 'Adv sample 910': ['Bwd Header Len', 'Fwd Pkt Len Std', 'Pkt Len Mean', 'Pkt Size Avg', 'Fwd Pkt Len Max', 'Fwd Pkt Len Mean', 'Pkt Len Max', 'Flow Byts/s', 'Init Bwd Win Byts', 'Pkt Len Std'], 'Adv sample 911': ['Fwd Pkt Len Std', 'Bwd Header Len', 'Fwd Pkt Len Max', 'Fwd Pkt Len Min', 'Pkt Len Std', 'Fwd Pkt Len Mean', 'Pkt Len Max', 'Fwd Seg Size Avg', 'Pkt Size Avg', 'Pkt Len Mean'], 'Adv sample 912': ['Fwd Pkt Len Max', 'Bwd Header Len', 'Flow Byts/s', 'Fwd Pkt Len Std', 'Pkt Len Max', 'Pkt Len Std', 'Fwd Pkt Len Min', 'Init Bwd Win Byts', 'Pkt Len Min', 'Fwd Pkt Len Mean'], 'Adv sample 913': ['Fwd Pkt Len Std', 'Fwd Pkt Len Max', 'Bwd Header Len', 'Fwd Pkt Len Mean', 'Flow Byts/s', 'Pkt Len Std', 'Fwd Seg Size Avg', 'Fwd Pkt Len Min', 'Pkt Len Mean', 'Pkt Len Min'], 'Adv sample 914': ['Fwd Pkt Len Max', 'Fwd Pkt Len Std', 'Pkt Len Max', 'Flow Byts/s', 'Fwd Pkt Len Min', 'Fwd Seg Size Avg', 'Pkt Size Avg', 'Pkt Len Std', 'Pkt Len Mean', 'Fwd Pkt Len Mean'], 'Adv sample 915': ['Fwd Pkt Len Std', 'Fwd Pkt Len Mean', 'Fwd Seg Size Avg', 'Pkt Len Max', 'Bwd Header Len', 'Pkt Size Avg', 'Pkt Len Mean', 'Fwd Pkt Len Min', 'Pkt Len Min', 'Init Bwd Win Byts'], 'Adv sample 916': ['Flow Duration', 'SYN Flag Cnt', 'Bwd Seg Size Avg', 'FIN Flag Cnt', 'URG Flag Cnt', 'Subflow Bwd Byts', 'Tot Fwd Pkts', 'Tot Bwd Pkts', 'TotLen Fwd Pkts', 'TotLen Bwd Pkts'], 'Adv sample 917': ['SYN Flag Cnt', 'Flow Duration', 'Fwd Pkts/b Avg', 'Bwd Seg Size Avg', 'Idle Min', 'URG Flag Cnt', 'Fwd IAT Std', 'Bwd PSH Flags', 'TotLen Fwd Pkts', 'TotLen Bwd Pkts'], 'Adv sample 918': ['Fwd Pkt Len Std', 'Fwd Pkt Len Mean', 'Fwd Seg Size Avg', 'Pkt Size Avg', 'Bwd Header Len', 'Pkt Len Max', 'Pkt Len Mean', 'Pkt Len Min', 'Init Bwd Win Byts', 'Fwd Pkt Len Min'], 'Adv sample 919': ['Fwd Pkt Len Max', 'Fwd Pkt Len Std', 'Flow Byts/s', 'Fwd Pkt Len Mean', 'Pkt Len Max', 'Pkt Len Std', 'Bwd Header Len', 'Pkt Size Avg', 'Pkt Len Min', 'PSH Flag Cnt'], 'Adv sample 920': ['Fwd Pkt Len Std', 'Fwd Pkt Len Max', 'Bwd Header Len', 'Flow Byts/s', 'Fwd Pkt Len Min', 'Fwd Pkt Len Mean', 'Pkt Size Avg', 'Pkt Len Mean', 'Pkt Len Max', 'Pkt Len Std'], 'Adv sample 921': ['Flow Duration', 'SYN Flag Cnt', 'URG Flag Cnt', 'FIN Flag Cnt', 'TotLen Bwd Pkts', 'Fwd Pkt Len Std', 'Tot Fwd Pkts', 'Bwd PSH Flags', 'Bwd URG Flags', 'Bwd Seg Size Avg'], 'Adv sample 922': ['Flow Duration', 'SYN Flag Cnt', 'Idle Std', 'Bwd IAT Std', 'Bwd Byts/b Avg', 'Idle Mean', 'FIN Flag Cnt', 'Fwd Pkt Len Std', 'Bwd Seg Size Avg', 'PSH Flag Cnt'], 'Adv sample 923': ['Fwd Pkt Len Std', 'Fwd Pkt Len Min', 'Flow Byts/s', 'Pkt Len Max', 'Init Bwd Win Byts', 'Idle Mean', 'Pkt Len Std', 'Bwd Byts/b Avg', 'URG Flag Cnt', 'Idle Max'], 'Adv sample 924': ['Fwd Pkt Len Max', 'Fwd Pkt Len Std', 'Fwd Pkt Len Min', 'Pkt Size Avg', 'Pkt Len Max', 'Pkt Len Mean', 'Flow Byts/s', 'Idle Mean', 'Init Bwd Win Byts', 'Idle Min'], 'Adv sample 925': ['Fwd Pkt Len Std', 'Fwd Pkt Len Max', 'Flow Byts/s', 'Pkt Size Avg', 'Bwd Header Len', 'Fwd Pkt Len Min', 'Fwd Seg Size Avg', 'Pkt Len Std', 'Pkt Len Max', 'Pkt Len Mean'], 'Adv sample 926': ['SYN Flag Cnt', 'Flow Duration', 'FIN Flag Cnt', 'Tot Fwd Pkts', 'Bwd Seg Size Avg', 'Tot Bwd Pkts', 'Fwd IAT Std', 'Subflow Bwd Byts', 'Idle Mean', 'Bwd PSH Flags'], 'Adv sample 927': ['Fwd Pkt Len Max', 'Fwd Pkt Len Std', 'Flow Byts/s', 'Fwd Pkt Len Mean', 'Pkt Size Avg', 'Bwd Header Len', 'Pkt Len Mean', 'Fwd Seg Size Avg', 'Pkt Len Max', 'Pkt Len Std'], 'Adv sample 928': ['Fwd Pkt Len Std', 'Fwd Pkt Len Max', 'Bwd Header Len', 'Flow Byts/s', 'Fwd Pkt Len Mean', 'Pkt Len Mean', 'Pkt Len Std', 'Pkt Len Max', 'Init Bwd Win Byts', 'TotLen Fwd Pkts'], 'Adv sample 929': ['Fwd Pkt Len Std', 'Fwd Pkt Len Max', 'Fwd Pkt Len Mean', 'Flow Byts/s', 'Pkt Len Std', 'Pkt Len Mean', 'Pkt Len Max', 'Init Bwd Win Byts', 'Fwd Seg Size Avg', 'Pkt Size Avg'], 'Adv sample 930': ['Fwd Pkt Len Std', 'Flow Byts/s', 'Bwd Header Len', 'Fwd Pkt Len Max', 'Init Bwd Win Byts', 'Pkt Len Std', 'Pkt Size Avg', 'Fwd Seg Size Avg', 'Pkt Len Min', 'Fwd Pkt Len Mean'], 'Adv sample 931': ['Fwd Pkt Len Std', 'Fwd Pkt Len Max', 'Bwd Header Len', 'Fwd Pkt Len Mean', 'Fwd Pkt Len Min', 'Pkt Size Avg', 'Pkt Len Max', 'Pkt Len Std', 'Pkt Len Mean', 'Pkt Len Min'], 'Adv sample 932': ['Flow Byts/s', 'Fwd Pkt Len Max', 'Bwd Header Len', 'Fwd Pkt Len Std', 'Pkt Len Max', 'Fwd Pkt Len Mean', 'Pkt Len Std', 'Pkt Size Avg', 'Fwd Pkt Len Min', 'Fwd Seg Size Avg'], 'Adv sample 933': ['Fwd Pkt Len Max', 'Bwd Header Len', 'Fwd Pkt Len Std', 'Fwd Pkt Len Mean', 'Pkt Len Std', 'Flow Byts/s', 'Pkt Len Min', 'Fwd Pkt Len Min', 'Pkt Len Mean', 'Fwd Seg Size Avg'], 'Adv sample 934': ['Fwd Pkt Len Max', 'Fwd Pkt Len Std', 'Bwd Header Len', 'Fwd Pkt Len Mean', 'Pkt Len Std', 'Pkt Len Max', 'Fwd Seg Size Avg', 'Fwd Pkt Len Min', 'Pkt Len Mean', 'Init Bwd Win Byts'], 'Adv sample 935': ['Flow Byts/s', 'Fwd Pkt Len Max', 'Bwd Header Len', 'Fwd Pkt Len Std', 'Fwd Pkt Len Mean', 'Pkt Len Std', 'Pkt Len Mean', 'Pkt Size Avg', 'Pkt Len Min', 'Init Bwd Win Byts'], 'Adv sample 936': ['Fwd Pkt Len Max', 'Bwd Header Len', 'Fwd Pkt Len Mean', 'Pkt Len Std', 'Pkt Len Mean', 'Fwd Pkt Len Std', 'Fwd Seg Size Avg', 'Pkt Len Min', 'Fwd Pkt Len Min', 'Pkt Len Max'], 'Adv sample 937': ['Fwd Pkt Len Max', 'Fwd Pkt Len Std', 'Bwd Header Len', 'Pkt Len Std', 'Fwd Seg Size Avg', 'Pkt Len Mean', 'Pkt Size Avg', 'Fwd Pkt Len Mean', 'Pkt Len Max', 'Fwd Pkt Len Min'], 'Adv sample 938': ['Fwd Pkt Len Max', 'Fwd Pkt Len Std', 'Fwd Pkt Len Mean', 'Fwd Seg Size Avg', 'Flow Byts/s', 'Pkt Size Avg', 'Pkt Len Mean', 'Pkt Len Std', 'Fwd Pkt Len Min', 'Pkt Len Min'], 'Adv sample 939': ['Fwd Pkt Len Std', 'Fwd Pkt Len Max', 'Flow Byts/s', 'Bwd Header Len', 'Pkt Len Std', 'Fwd Pkt Len Mean', 'Pkt Len Max', 'Fwd Seg Size Avg', 'Tot Bwd Pkts', 'Pkt Len Mean'], 'Adv sample 940': ['Bwd Header Len', 'Fwd Pkt Len Std', 'Fwd Seg Size Avg', 'Fwd Pkt Len Max', 'Pkt Len Mean', 'Pkt Len Std', 'Fwd Pkt Len Min', 'Fwd Pkt Len Mean', 'Init Bwd Win Byts', 'Pkt Len Max'], 'Adv sample 941': ['Fwd Pkt Len Std', 'Fwd Pkt Len Max', 'Fwd Pkt Len Mean', 'Init Bwd Win Byts', 'Flow Byts/s', 'Fwd Seg Size Avg', 'Pkt Size Avg', 'Pkt Len Std', 'Pkt Len Mean', 'Bwd Pkt Len Min'], 'Adv sample 942': ['Fwd Pkt Len Max', 'Fwd Pkt Len Std', 'Pkt Size Avg', 'Fwd Pkt Len Min', 'Pkt Len Mean', 'Flow Byts/s', 'Pkt Len Max', 'Idle Mean', 'Init Bwd Win Byts', 'Pkt Len Std'], 'Adv sample 943': ['Bwd Header Len', 'Fwd Pkt Len Max', 'Fwd Pkt Len Std', 'Flow Byts/s', 'Pkt Len Max', 'Fwd Pkt Len Min', 'Fwd Seg Size Avg', 'Pkt Len Mean', 'Fwd Pkt Len Mean', 'Init Bwd Win Byts'], 'Adv sample 944': ['Fwd Pkt Len Max', 'Bwd Header Len', 'Init Bwd Win Byts', 'Fwd Pkt Len Std', 'Flow Byts/s', 'Pkt Size Avg', 'Pkt Len Max', 'Pkt Len Std', 'Fwd Pkt Len Mean', 'Pkt Len Min'], 'Adv sample 945': ['SYN Flag Cnt', 'Fwd Pkts/b Avg', 'Flow Duration', 'Bwd Seg Size Avg', 'PSH Flag Cnt', 'Bwd Pkt Len Mean', 'FIN Flag Cnt', 'Pkt Len Std', 'TotLen Bwd Pkts', 'Active Max'], 'Adv sample 946': ['Pkt Len Min', 'SYN Flag Cnt', 'Fwd Pkts/b Avg', 'FIN Flag Cnt', 'Bwd PSH Flags', 'TotLen Bwd Pkts', 'Tot Bwd Pkts', 'Fwd IAT Mean', 'Idle Min', 'PSH Flag Cnt'], 'Adv sample 947': ['Fwd Pkt Len Std', 'Fwd Pkt Len Max', 'Fwd Pkt Len Mean', 'Bwd Header Len', 'Pkt Len Std', 'Fwd Pkt Len Min', 'Pkt Len Max', 'Fwd Seg Size Avg', 'Pkt Size Avg', 'Tot Bwd Pkts'], 'Adv sample 948': ['Fwd Pkt Len Max', 'Bwd Header Len', 'Fwd Pkt Len Std', 'Fwd Pkt Len Mean', 'Pkt Size Avg', 'Pkt Len Std', 'Fwd Pkt Len Min', 'Pkt Len Max', 'Pkt Len Min', 'Pkt Len Mean'], 'Adv sample 949': ['SYN Flag Cnt', 'Flow Duration', 'Fwd IAT Max', 'Active Max', 'Fwd Pkts/b Avg', 'FIN Flag Cnt', 'Tot Bwd Pkts', 'ACK Flag Cnt', 'URG Flag Cnt', 'Bwd PSH Flags'], 'Adv sample 950': ['Bwd Header Len', 'Flow Byts/s', 'Fwd Pkt Len Std', 'Fwd Pkt Len Max', 'Fwd Pkt Len Mean', 'Pkt Len Std', 'Pkt Len Max', 'Fwd Pkt Len Min', 'Fwd IAT Std', 'Init Bwd Win Byts'], 'Adv sample 951': ['Flow Duration', 'URG Flag Cnt', 'SYN Flag Cnt', 'FIN Flag Cnt', 'Tot Bwd Pkts', 'Bwd Seg Size Avg', 'Fwd Act Data Pkts', 'ACK Flag Cnt', 'Idle Mean', 'Bwd PSH Flags'], 'Adv sample 952': ['Fwd Pkt Len Max', 'Fwd Pkt Len Std', 'Flow Byts/s', 'Init Bwd Win Byts', 'Bwd Header Len', 'Fwd Pkt Len Mean', 'Pkt Len Std', 'Fwd Seg Size Avg', 'Pkt Len Mean', 'Fwd Pkt Len Min'], 'Adv sample 953': ['Fwd Pkt Len Max', 'Flow Byts/s', 'Fwd Pkt Len Std', 'Pkt Len Std', 'Bwd Header Len', 'Pkt Len Max', 'Fwd Seg Size Avg', 'Fwd Pkt Len Mean', 'Pkt Size Avg', 'Fwd Pkt Len Min'], 'Adv sample 954': ['Fwd Pkt Len Std', 'Bwd Header Len', 'Fwd Pkt Len Max', 'Flow Byts/s', 'Pkt Len Std', 'Fwd Pkt Len Mean', 'Fwd Pkt Len Min', 'Pkt Size Avg', 'Pkt Len Max', 'Fwd Seg Size Avg'], 'Adv sample 955': ['Bwd Header Len', 'Fwd Pkt Len Std', 'Fwd Pkt Len Max', 'Flow Byts/s', 'Pkt Len Mean', 'Pkt Len Std', 'Fwd Pkt Len Mean', 'Bwd Pkt Len Std', 'Pkt Len Max', 'Tot Bwd Pkts'], 'Adv sample 956': ['Fwd Pkt Len Std', 'Fwd Pkt Len Max', 'Bwd Header Len', 'Flow Byts/s', 'Pkt Len Std', 'Pkt Len Max', 'Subflow Bwd Pkts', 'Init Bwd Win Byts', 'Pkt Len Min', 'Bwd Pkt Len Min'], 'Adv sample 957': ['Fwd Pkt Len Max', 'Flow Byts/s', 'Fwd Pkt Len Std', 'Fwd Pkt Len Mean', 'Fwd Seg Size Avg', 'Pkt Len Mean', 'Pkt Size Avg', 'Pkt Len Std', 'Pkt Len Max', 'Pkt Len Min'], 'Adv sample 958': ['Fwd Pkt Len Max', 'Fwd Seg Size Avg', 'Flow Byts/s', 'Flow Pkts/s', 'Bwd IAT Tot', 'Bwd PSH Flags', 'Bwd URG Flags', 'Fwd PSH Flags', 'Active Max', 'Bwd Pkt Len Mean'], 'Adv sample 959': ['Fwd Pkt Len Max', 'Fwd Pkt Len Std', 'Bwd Header Len', 'Pkt Len Max', 'Fwd Pkt Len Mean', 'Pkt Len Std', 'Fwd Seg Size Avg', 'Pkt Len Min', 'Init Bwd Win Byts', 'Fwd Pkt Len Min'], 'Adv sample 960': ['Fwd Pkt Len Max', 'Fwd Pkt Len Std', 'Fwd Pkt Len Mean', 'Fwd Seg Size Avg', 'Pkt Len Max', 'Pkt Len Std', 'Pkt Len Mean', 'Pkt Size Avg', 'Init Bwd Win Byts', 'Fwd Pkt Len Min'], 'Adv sample 961': ['Fwd Pkt Len Max', 'Fwd Pkt Len Std', 'Bwd Header Len', 'Fwd Pkt Len Mean', 'Fwd Seg Size Avg', 'Init Bwd Win Byts', 'Pkt Len Std', 'Pkt Len Mean', 'Fwd Pkt Len Min', 'Pkt Len Max'], 'Adv sample 962': ['Fwd Pkt Len Max', 'Fwd Pkt Len Std', 'Flow Byts/s', 'Bwd Header Len', 'Fwd Pkt Len Mean', 'Fwd Seg Size Avg', 'Pkt Size Avg', 'Pkt Len Max', 'Pkt Len Mean', 'Pkt Len Std'], 'Adv sample 963': ['Fwd Pkt Len Max', 'Fwd Pkt Len Std', 'Flow Byts/s', 'Bwd Header Len', 'Fwd Pkt Len Mean', 'Pkt Len Max', 'Pkt Len Mean', 'Pkt Len Min', 'Fwd Pkt Len Min', 'Pkt Size Avg'], 'Adv sample 964': ['Fwd Pkt Len Std', 'Flow Byts/s', 'Bwd Header Len', 'Fwd Pkt Len Max', 'Fwd Pkt Len Mean', 'Pkt Len Std', 'Fwd Pkt Len Min', 'Pkt Size Avg', 'Bwd Pkt Len Min', 'Fwd Seg Size Avg'], 'Adv sample 965': ['Fwd Pkt Len Max', 'Flow Byts/s', 'Bwd Header Len', 'Fwd Pkt Len Std', 'Pkt Len Max', 'Fwd Pkt Len Mean', 'Pkt Size Avg', 'Pkt Len Std', 'Init Bwd Win Byts', 'Pkt Len Mean'], 'Adv sample 966': ['Fwd Pkt Len Std', 'Bwd Header Len', 'Fwd Pkt Len Max', 'Fwd Pkt Len Mean', 'Fwd Seg Size Avg', 'Init Bwd Win Byts', 'Pkt Len Mean', 'Flow Byts/s', 'Bwd Pkt Len Max', 'Pkt Size Avg'], 'Adv sample 967': ['Fwd Pkt Len Max', 'Bwd Header Len', 'Flow Byts/s', 'Fwd Pkt Len Std', 'Fwd Seg Size Avg', 'Fwd Pkt Len Mean', 'Init Bwd Win Byts', 'Pkt Size Avg', 'Pkt Len Mean', 'Pkt Len Std'], 'Adv sample 968': ['Fwd Pkt Len Max', 'Fwd Pkt Len Std', 'Bwd Header Len', 'Pkt Len Max', 'Fwd Seg Size Avg', 'Fwd Pkt Len Mean', 'Pkt Len Std', 'Pkt Len Mean', 'Init Bwd Win Byts', 'Fwd Pkt Len Min'], 'Adv sample 969': ['Fwd Pkt Len Std', 'Fwd Pkt Len Min', 'Flow Byts/s', 'Pkt Len Max', 'Init Bwd Win Byts', 'Idle Mean', 'Pkt Len Std', 'Fwd Pkt Len Max', 'Fwd IAT Std', 'Active Mean'], 'Adv sample 970': ['Fwd Pkt Len Max', 'Fwd Pkt Len Std', 'Fwd Seg Size Avg', 'Flow Byts/s', 'Init Bwd Win Byts', 'Pkt Len Min', 'Fwd Pkt Len Min', 'Bwd IAT Tot', 'Bwd Pkt Len Min', 'ECE Flag Cnt'], 'Adv sample 971': ['Fwd Pkt Len Std', 'Fwd Pkt Len Mean', 'Fwd Seg Size Avg', 'Bwd Header Len', 'Pkt Len Mean', 'Pkt Len Max', 'Init Bwd Win Byts', 'Pkt Size Avg', 'Fwd Pkt Len Min', 'Bwd Pkt Len Std'], 'Adv sample 972': ['Fwd Pkt Len Max', 'Bwd Header Len', 'Fwd Pkt Len Std', 'Pkt Len Mean', 'Pkt Len Std', 'Fwd Pkt Len Mean', 'Fwd Pkt Len Min', 'Fwd Seg Size Avg', 'Pkt Len Min', 'Pkt Len Max'], 'Adv sample 973': ['Fwd Pkt Len Std', 'Fwd Pkt Len Max', 'Bwd Header Len', 'Pkt Len Std', 'Fwd Seg Size Avg', 'Fwd Pkt Len Mean', 'Pkt Size Avg', 'Pkt Len Min', 'Pkt Len Mean', 'Fwd IAT Max'], 'Adv sample 974': ['Fwd Pkt Len Max', 'Fwd Pkt Len Std', 'Fwd Pkt Len Mean', 'Flow Byts/s', 'Fwd Pkt Len Min', 'Pkt Len Std', 'Fwd Seg Size Avg', 'Pkt Len Mean', 'Pkt Len Max', 'Pkt Size Avg'], 'Adv sample 975': ['Fwd Pkt Len Max', 'Fwd Pkt Len Std', 'Bwd Header Len', 'Pkt Len Std', 'Flow Byts/s', 'Pkt Len Max', 'Pkt Len Mean', 'Fwd Pkt Len Mean', 'Init Bwd Win Byts', 'Pkt Size Avg'], 'Adv sample 976': ['Fwd Pkt Len Std', 'Flow Byts/s', 'Fwd Pkt Len Max', 'Bwd Header Len', 'Pkt Len Min', 'Pkt Size Avg', 'Fwd Seg Size Avg', 'Fwd Pkt Len Mean', 'Pkt Len Max', 'Pkt Len Std'], 'Adv sample 977': ['Fwd Pkt Len Std', 'Fwd Pkt Len Max', 'Fwd Pkt Len Min', 'Flow Byts/s', 'Fwd Pkt Len Mean', 'Fwd Seg Size Avg', 'Fwd IAT Min', 'Subflow Bwd Byts', 'Pkt Len Max', 'Init Bwd Win Byts'], 'Adv sample 978': ['Fwd Pkt Len Max', 'Fwd Pkt Len Std', 'Fwd Pkt Len Min', 'Flow Byts/s', 'Pkt Len Max', 'Init Bwd Win Byts', 'Idle Mean', 'Pkt Len Std', 'Idle Max', 'Bwd Seg Size Avg'], 'Adv sample 979': ['Fwd Pkt Len Std', 'Fwd Pkt Len Mean', 'Bwd Header Len', 'Pkt Len Max', 'Fwd Seg Size Avg', 'Pkt Size Avg', 'Fwd Pkt Len Min', 'Pkt Len Mean', 'Init Bwd Win Byts', 'Pkt Len Min'], 'Adv sample 980': ['Fwd Pkt Len Std', 'Fwd Pkt Len Max', 'Bwd Header Len', 'Flow Byts/s', 'Fwd Pkt Len Mean', 'Pkt Len Max', 'Pkt Len Std', 'Init Bwd Win Byts', 'Pkt Len Mean', 'Fwd Seg Size Avg'], 'Adv sample 981': ['Fwd Pkt Len Std', 'Fwd Pkt Len Mean', 'Flow Byts/s', 'Pkt Size Avg', 'Pkt Len Std', 'Bwd Header Len', 'Fwd Pkt Len Min', 'Fwd Pkt Len Max', 'Pkt Len Min', 'Pkt Len Mean'], 'Adv sample 982': ['Fwd Pkt Len Max', 'Fwd Pkt Len Std', 'Bwd Header Len', 'Pkt Len Max', 'Fwd Pkt Len Mean', 'Pkt Len Std', 'Fwd Seg Size Avg', 'Pkt Size Avg', 'Fwd Pkt Len Min', 'Pkt Len Mean'], 'Adv sample 983': ['Fwd Pkt Len Max', 'Fwd Pkt Len Std', 'Fwd Pkt Len Mean', 'Bwd Header Len', 'Fwd Seg Size Avg', 'Pkt Len Std', 'Fwd Pkt Len Min', 'Pkt Len Max', 'Pkt Size Avg', 'Init Bwd Win Byts'], 'Adv sample 984': ['Fwd Pkt Len Std', 'Fwd Pkt Len Max', 'Fwd Pkt Len Mean', 'Bwd Header Len', 'Fwd Pkt Len Min', 'Pkt Len Mean', 'Flow Byts/s', 'Init Bwd Win Byts', 'Pkt Len Min', 'Fwd Seg Size Avg'], 'Adv sample 985': ['SYN Flag Cnt', 'Flow Duration', 'Fwd Header Len', 'Subflow Fwd Byts', 'URG Flag Cnt', 'PSH Flag Cnt', 'Idle Mean', 'Active Max', 'Bwd PSH Flags', 'Fwd IAT Max'], 'Adv sample 986': ['Fwd Pkt Len Max', 'Fwd Seg Size Avg', 'Flow Byts/s', 'Flow Pkts/s', 'Bwd IAT Tot', 'TotLen Fwd Pkts', 'SYN Flag Cnt', 'Idle Min', 'Bwd Pkt Len Std', 'Fwd IAT Min'], 'Adv sample 987': ['Fwd Pkt Len Std', 'Fwd Pkt Len Mean', 'Pkt Len Max', 'Fwd Seg Size Avg', 'Pkt Len Mean', 'Pkt Size Avg', 'Fwd Pkt Len Min', 'Bwd Header Len', 'Init Bwd Win Byts', 'Bwd Pkt Len Std'], 'Adv sample 988': ['Fwd Pkt Len Max', 'Fwd Pkt Len Std', 'Bwd Header Len', 'Pkt Len Std', 'Pkt Size Avg', 'Flow Byts/s', 'Fwd Seg Size Avg', 'Pkt Len Mean', 'Fwd Pkt Len Mean', 'Init Bwd Win Byts'], 'Adv sample 989': ['Fwd Pkt Len Max', 'Fwd Pkt Len Std', 'Fwd Pkt Len Mean', 'Fwd Seg Size Avg', 'Pkt Len Std', 'Pkt Len Mean', 'Pkt Size Avg', 'Flow Byts/s', 'Pkt Len Max', 'Fwd Pkt Len Min'], 'Adv sample 990': ['Bwd Header Len', 'Fwd Pkt Len Std', 'Fwd Pkt Len Max', 'Pkt Len Std', 'Pkt Len Max', 'Fwd Pkt Len Mean', 'Pkt Size Avg', 'Fwd Seg Size Avg', 'Pkt Len Mean', 'Pkt Len Min'], 'Adv sample 991': ['Fwd Pkt Len Std', 'Bwd Header Len', 'Fwd Pkt Len Max', 'Pkt Size Avg', 'Pkt Len Max', 'Fwd Pkt Len Mean', 'Pkt Len Min', 'Fwd Seg Size Avg', 'Fwd Pkt Len Min', 'Pkt Len Std'], 'Adv sample 992': ['Fwd Pkt Len Max', 'Fwd Pkt Len Std', 'Bwd Header Len', 'Flow Byts/s', 'Pkt Len Max', 'Fwd Seg Size Avg', 'Pkt Len Std', 'Pkt Size Avg', 'Fwd Pkt Len Mean', 'Pkt Len Mean'], 'Adv sample 993': ['Fwd Pkt Len Std', 'Fwd Pkt Len Max', 'Bwd Header Len', 'Flow Byts/s', 'Pkt Len Std', 'Fwd Pkt Len Mean', 'Fwd Pkt Len Min', 'Pkt Len Min', 'Pkt Size Avg', 'Pkt Len Mean'], 'Adv sample 994': ['Fwd Pkt Len Std', 'Fwd Pkt Len Max', 'Bwd Header Len', 'Fwd Pkt Len Mean', 'Pkt Len Std', 'Fwd Pkt Len Min', 'Pkt Len Max', 'Fwd Seg Size Avg', 'Pkt Size Avg', 'Pkt Len Mean'], 'Adv sample 995': ['Fwd Pkt Len Max', 'Fwd Pkt Len Std', 'Fwd Pkt Len Mean', 'Pkt Len Std', 'Bwd Header Len', 'Pkt Len Mean', 'Fwd Pkt Len Min', 'Pkt Len Max', 'Init Bwd Win Byts', 'Fwd Seg Size Avg'], 'Adv sample 996': ['Fwd Pkt Len Std', 'Bwd Header Len', 'Fwd Pkt Len Max', 'Init Bwd Win Byts', 'Pkt Len Std', 'Fwd Pkt Len Mean', 'Flow Byts/s', 'Pkt Len Max', 'Pkt Size Avg', 'Fwd Seg Size Avg'], 'Adv sample 997': ['Fwd Pkt Len Max', 'Fwd Pkt Len Std', 'Flow Byts/s', 'Bwd Header Len', 'Pkt Len Std', 'Fwd Pkt Len Mean', 'Pkt Size Avg', 'Init Bwd Win Byts', 'Pkt Len Mean', 'Fwd Seg Size Avg'], 'Adv sample 998': ['Fwd Pkt Len Std', 'Fwd Pkt Len Max', 'Bwd Header Len', 'Flow Byts/s', 'Fwd Pkt Len Mean', 'Pkt Len Std', 'Pkt Len Max', 'Fwd Seg Size Avg', 'Pkt Len Var', 'Bwd Pkt Len Std'], 'Adv sample 999': ['Fwd Pkt Len Std', 'Fwd Pkt Len Mean', 'Pkt Size Avg', 'Bwd Header Len', 'Fwd Seg Size Avg', 'Pkt Len Max', 'Fwd Pkt Len Min', 'Pkt Len Mean', 'Pkt Len Min', 'Bwd Pkt Len Std']}\n"
          ]
        }
      ]
    },
    {
      "cell_type": "code",
      "source": [
        "len(shap_values[0])"
      ],
      "metadata": {
        "colab": {
          "base_uri": "https://localhost:8080/"
        },
        "id": "YdyTABeHYa2k",
        "outputId": "84e3ed07-8f69-4179-83c1-2d3460b60447"
      },
      "execution_count": 21,
      "outputs": [
        {
          "output_type": "execute_result",
          "data": {
            "text/plain": [
              "1000"
            ]
          },
          "metadata": {},
          "execution_count": 21
        }
      ]
    },
    {
      "cell_type": "code",
      "source": [
        "len(data_dict)"
      ],
      "metadata": {
        "colab": {
          "base_uri": "https://localhost:8080/"
        },
        "id": "rUB23r63Tjug",
        "outputId": "890ac22d-732f-4e2d-f60f-abce0f734847"
      },
      "execution_count": 22,
      "outputs": [
        {
          "output_type": "execute_result",
          "data": {
            "text/plain": [
              "1000"
            ]
          },
          "metadata": {},
          "execution_count": 22
        }
      ]
    },
    {
      "cell_type": "markdown",
      "source": [
        "# Extract local feature for each adv sample (77203 in total)"
      ],
      "metadata": {
        "id": "JwBapttUM7Du"
      }
    },
    {
      "cell_type": "code",
      "source": [
        "for idx in range(0, 77203):\n",
        "  # Create a DataFrame with the SHAP values and feature names\n",
        "  df_shap_values = pd.DataFrame({'SHAP Values': exp[idx].values}, index=feature_list)\n",
        "  df_shap_values.sort_values(by=['SHAP Values'], ascending=False, inplace=True)\n",
        "  df_shap_values.to_csv('/content/drive/MyDrive/DACN_XAI_Adv_defense/InSDN/fgsm_Result/SHAP_ADVSamples_' + str(idx) + '.csv')\n",
        "  print('Extracted local importance feature of the ' + str(idx) + 'adv sample.')"
      ],
      "metadata": {
        "id": "a8Xe-PM9Ikwa"
      },
      "execution_count": null,
      "outputs": []
    },
    {
      "cell_type": "markdown",
      "source": [
        "# Detection phase"
      ],
      "metadata": {
        "id": "E8tWQQDtNIJk"
      }
    },
    {
      "cell_type": "code",
      "source": [
        "import os\n",
        "import pandas as pd"
      ],
      "metadata": {
        "id": "mmslrdn7z7Zf"
      },
      "execution_count": 23,
      "outputs": []
    },
    {
      "cell_type": "code",
      "source": [
        "whitelist_df = pd.read_csv('/content/drive/MyDrive/DACN_XAI_Adv_defense/InSDN/MLP_top24_InSDN.csv')\n",
        "whitelist_df.head(24)"
      ],
      "metadata": {
        "colab": {
          "base_uri": "https://localhost:8080/",
          "height": 802
        },
        "id": "aQJa-f1GPxvz",
        "outputId": "94d4a555-677c-4977-a743-ed3bac7bb67c"
      },
      "execution_count": 24,
      "outputs": [
        {
          "output_type": "execute_result",
          "data": {
            "text/plain": [
              "              Feature  Frequency\n",
              "0        FIN Flag Cnt       1223\n",
              "1        SYN Flag Cnt       1196\n",
              "2   Init Fwd Win Byts        986\n",
              "3         Flow Pkts/s        884\n",
              "4        ACK Flag Cnt        808\n",
              "5        Pkt Size Avg        767\n",
              "6          Bwd Pkts/s        752\n",
              "7       Down/Up Ratio        732\n",
              "8        Pkt Len Mean        667\n",
              "9         Pkt Len Min        588\n",
              "10    Bwd Pkt Len Min        584\n",
              "11        Pkt Len Max        582\n",
              "12  Init Bwd Win Byts        473\n",
              "13    Fwd Pkt Len Max        283\n",
              "14        Fwd IAT Tot        275\n",
              "15       Flow IAT Max        260\n",
              "16       PSH Flag Cnt        238\n",
              "17    Fwd Pkt Len Std        197\n",
              "18   Fwd Pkt Len Mean        197\n",
              "19        Pkt Len Std        193\n",
              "20        Bwd IAT Tot        188\n",
              "21           Idle Max        188\n",
              "22   Fwd Seg Size Avg        182\n",
              "23        Fwd IAT Std        180"
            ],
            "text/html": [
              "\n",
              "  <div id=\"df-d5b280d4-cabe-4157-8d2d-6c1a7475b46b\">\n",
              "    <div class=\"colab-df-container\">\n",
              "      <div>\n",
              "<style scoped>\n",
              "    .dataframe tbody tr th:only-of-type {\n",
              "        vertical-align: middle;\n",
              "    }\n",
              "\n",
              "    .dataframe tbody tr th {\n",
              "        vertical-align: top;\n",
              "    }\n",
              "\n",
              "    .dataframe thead th {\n",
              "        text-align: right;\n",
              "    }\n",
              "</style>\n",
              "<table border=\"1\" class=\"dataframe\">\n",
              "  <thead>\n",
              "    <tr style=\"text-align: right;\">\n",
              "      <th></th>\n",
              "      <th>Feature</th>\n",
              "      <th>Frequency</th>\n",
              "    </tr>\n",
              "  </thead>\n",
              "  <tbody>\n",
              "    <tr>\n",
              "      <th>0</th>\n",
              "      <td>FIN Flag Cnt</td>\n",
              "      <td>1223</td>\n",
              "    </tr>\n",
              "    <tr>\n",
              "      <th>1</th>\n",
              "      <td>SYN Flag Cnt</td>\n",
              "      <td>1196</td>\n",
              "    </tr>\n",
              "    <tr>\n",
              "      <th>2</th>\n",
              "      <td>Init Fwd Win Byts</td>\n",
              "      <td>986</td>\n",
              "    </tr>\n",
              "    <tr>\n",
              "      <th>3</th>\n",
              "      <td>Flow Pkts/s</td>\n",
              "      <td>884</td>\n",
              "    </tr>\n",
              "    <tr>\n",
              "      <th>4</th>\n",
              "      <td>ACK Flag Cnt</td>\n",
              "      <td>808</td>\n",
              "    </tr>\n",
              "    <tr>\n",
              "      <th>5</th>\n",
              "      <td>Pkt Size Avg</td>\n",
              "      <td>767</td>\n",
              "    </tr>\n",
              "    <tr>\n",
              "      <th>6</th>\n",
              "      <td>Bwd Pkts/s</td>\n",
              "      <td>752</td>\n",
              "    </tr>\n",
              "    <tr>\n",
              "      <th>7</th>\n",
              "      <td>Down/Up Ratio</td>\n",
              "      <td>732</td>\n",
              "    </tr>\n",
              "    <tr>\n",
              "      <th>8</th>\n",
              "      <td>Pkt Len Mean</td>\n",
              "      <td>667</td>\n",
              "    </tr>\n",
              "    <tr>\n",
              "      <th>9</th>\n",
              "      <td>Pkt Len Min</td>\n",
              "      <td>588</td>\n",
              "    </tr>\n",
              "    <tr>\n",
              "      <th>10</th>\n",
              "      <td>Bwd Pkt Len Min</td>\n",
              "      <td>584</td>\n",
              "    </tr>\n",
              "    <tr>\n",
              "      <th>11</th>\n",
              "      <td>Pkt Len Max</td>\n",
              "      <td>582</td>\n",
              "    </tr>\n",
              "    <tr>\n",
              "      <th>12</th>\n",
              "      <td>Init Bwd Win Byts</td>\n",
              "      <td>473</td>\n",
              "    </tr>\n",
              "    <tr>\n",
              "      <th>13</th>\n",
              "      <td>Fwd Pkt Len Max</td>\n",
              "      <td>283</td>\n",
              "    </tr>\n",
              "    <tr>\n",
              "      <th>14</th>\n",
              "      <td>Fwd IAT Tot</td>\n",
              "      <td>275</td>\n",
              "    </tr>\n",
              "    <tr>\n",
              "      <th>15</th>\n",
              "      <td>Flow IAT Max</td>\n",
              "      <td>260</td>\n",
              "    </tr>\n",
              "    <tr>\n",
              "      <th>16</th>\n",
              "      <td>PSH Flag Cnt</td>\n",
              "      <td>238</td>\n",
              "    </tr>\n",
              "    <tr>\n",
              "      <th>17</th>\n",
              "      <td>Fwd Pkt Len Std</td>\n",
              "      <td>197</td>\n",
              "    </tr>\n",
              "    <tr>\n",
              "      <th>18</th>\n",
              "      <td>Fwd Pkt Len Mean</td>\n",
              "      <td>197</td>\n",
              "    </tr>\n",
              "    <tr>\n",
              "      <th>19</th>\n",
              "      <td>Pkt Len Std</td>\n",
              "      <td>193</td>\n",
              "    </tr>\n",
              "    <tr>\n",
              "      <th>20</th>\n",
              "      <td>Bwd IAT Tot</td>\n",
              "      <td>188</td>\n",
              "    </tr>\n",
              "    <tr>\n",
              "      <th>21</th>\n",
              "      <td>Idle Max</td>\n",
              "      <td>188</td>\n",
              "    </tr>\n",
              "    <tr>\n",
              "      <th>22</th>\n",
              "      <td>Fwd Seg Size Avg</td>\n",
              "      <td>182</td>\n",
              "    </tr>\n",
              "    <tr>\n",
              "      <th>23</th>\n",
              "      <td>Fwd IAT Std</td>\n",
              "      <td>180</td>\n",
              "    </tr>\n",
              "  </tbody>\n",
              "</table>\n",
              "</div>\n",
              "      <button class=\"colab-df-convert\" onclick=\"convertToInteractive('df-d5b280d4-cabe-4157-8d2d-6c1a7475b46b')\"\n",
              "              title=\"Convert this dataframe to an interactive table.\"\n",
              "              style=\"display:none;\">\n",
              "        \n",
              "  <svg xmlns=\"http://www.w3.org/2000/svg\" height=\"24px\"viewBox=\"0 0 24 24\"\n",
              "       width=\"24px\">\n",
              "    <path d=\"M0 0h24v24H0V0z\" fill=\"none\"/>\n",
              "    <path d=\"M18.56 5.44l.94 2.06.94-2.06 2.06-.94-2.06-.94-.94-2.06-.94 2.06-2.06.94zm-11 1L8.5 8.5l.94-2.06 2.06-.94-2.06-.94L8.5 2.5l-.94 2.06-2.06.94zm10 10l.94 2.06.94-2.06 2.06-.94-2.06-.94-.94-2.06-.94 2.06-2.06.94z\"/><path d=\"M17.41 7.96l-1.37-1.37c-.4-.4-.92-.59-1.43-.59-.52 0-1.04.2-1.43.59L10.3 9.45l-7.72 7.72c-.78.78-.78 2.05 0 2.83L4 21.41c.39.39.9.59 1.41.59.51 0 1.02-.2 1.41-.59l7.78-7.78 2.81-2.81c.8-.78.8-2.07 0-2.86zM5.41 20L4 18.59l7.72-7.72 1.47 1.35L5.41 20z\"/>\n",
              "  </svg>\n",
              "      </button>\n",
              "      \n",
              "  <style>\n",
              "    .colab-df-container {\n",
              "      display:flex;\n",
              "      flex-wrap:wrap;\n",
              "      gap: 12px;\n",
              "    }\n",
              "\n",
              "    .colab-df-convert {\n",
              "      background-color: #E8F0FE;\n",
              "      border: none;\n",
              "      border-radius: 50%;\n",
              "      cursor: pointer;\n",
              "      display: none;\n",
              "      fill: #1967D2;\n",
              "      height: 32px;\n",
              "      padding: 0 0 0 0;\n",
              "      width: 32px;\n",
              "    }\n",
              "\n",
              "    .colab-df-convert:hover {\n",
              "      background-color: #E2EBFA;\n",
              "      box-shadow: 0px 1px 2px rgba(60, 64, 67, 0.3), 0px 1px 3px 1px rgba(60, 64, 67, 0.15);\n",
              "      fill: #174EA6;\n",
              "    }\n",
              "\n",
              "    [theme=dark] .colab-df-convert {\n",
              "      background-color: #3B4455;\n",
              "      fill: #D2E3FC;\n",
              "    }\n",
              "\n",
              "    [theme=dark] .colab-df-convert:hover {\n",
              "      background-color: #434B5C;\n",
              "      box-shadow: 0px 1px 3px 1px rgba(0, 0, 0, 0.15);\n",
              "      filter: drop-shadow(0px 1px 2px rgba(0, 0, 0, 0.3));\n",
              "      fill: #FFFFFF;\n",
              "    }\n",
              "  </style>\n",
              "\n",
              "      <script>\n",
              "        const buttonEl =\n",
              "          document.querySelector('#df-d5b280d4-cabe-4157-8d2d-6c1a7475b46b button.colab-df-convert');\n",
              "        buttonEl.style.display =\n",
              "          google.colab.kernel.accessAllowed ? 'block' : 'none';\n",
              "\n",
              "        async function convertToInteractive(key) {\n",
              "          const element = document.querySelector('#df-d5b280d4-cabe-4157-8d2d-6c1a7475b46b');\n",
              "          const dataTable =\n",
              "            await google.colab.kernel.invokeFunction('convertToInteractive',\n",
              "                                                     [key], {});\n",
              "          if (!dataTable) return;\n",
              "\n",
              "          const docLinkHtml = 'Like what you see? Visit the ' +\n",
              "            '<a target=\"_blank\" href=https://colab.research.google.com/notebooks/data_table.ipynb>data table notebook</a>'\n",
              "            + ' to learn more about interactive tables.';\n",
              "          element.innerHTML = '';\n",
              "          dataTable['output_type'] = 'display_data';\n",
              "          await google.colab.output.renderOutput(dataTable, element);\n",
              "          const docLink = document.createElement('div');\n",
              "          docLink.innerHTML = docLinkHtml;\n",
              "          element.appendChild(docLink);\n",
              "        }\n",
              "      </script>\n",
              "    </div>\n",
              "  </div>\n",
              "  "
            ]
          },
          "metadata": {},
          "execution_count": 24
        }
      ]
    },
    {
      "cell_type": "markdown",
      "source": [
        "## Detection rate (top 24) = 1000/1000"
      ],
      "metadata": {
        "id": "PkqSAZakWXM8"
      }
    },
    {
      "cell_type": "code",
      "source": [
        "whitelist = whitelist_df.iloc[:, 0][:24].tolist()\n",
        "print(whitelist)"
      ],
      "metadata": {
        "colab": {
          "base_uri": "https://localhost:8080/"
        },
        "id": "hiA70yr9QStE",
        "outputId": "21e5c029-8b4d-477b-f5b0-42ad6141d334"
      },
      "execution_count": 25,
      "outputs": [
        {
          "output_type": "stream",
          "name": "stdout",
          "text": [
            "['FIN Flag Cnt', 'SYN Flag Cnt', 'Init Fwd Win Byts', 'Flow Pkts/s', 'ACK Flag Cnt', 'Pkt Size Avg', 'Bwd Pkts/s', 'Down/Up Ratio', 'Pkt Len Mean', 'Pkt Len Min', 'Bwd Pkt Len Min', 'Pkt Len Max', 'Init Bwd Win Byts', 'Fwd Pkt Len Max', 'Fwd IAT Tot', 'Flow IAT Max', 'PSH Flag Cnt', 'Fwd Pkt Len Std', 'Fwd Pkt Len Mean', 'Pkt Len Std', 'Bwd IAT Tot', 'Idle Max', 'Fwd Seg Size Avg', 'Fwd IAT Std']\n"
          ]
        }
      ]
    },
    {
      "cell_type": "code",
      "source": [
        "alert = []\n",
        "\n",
        "# Iterate over each key-value pair in the data_dict\n",
        "for key, value in data_dict.items():\n",
        "    # Check if there are one feature is not in the whitelist\n",
        "    for string in value:\n",
        "      if string not in whitelist:\n",
        "        alert.append(key)\n",
        "        break\n",
        "\n",
        "# Print the alert dictionary\n",
        "print(\"Alert list length:\" + str(len(alert)))"
      ],
      "metadata": {
        "colab": {
          "base_uri": "https://localhost:8080/"
        },
        "id": "GWIJRBYkUwhx",
        "outputId": "989c022d-9700-47cc-a960-c72b9dea7ad7"
      },
      "execution_count": 26,
      "outputs": [
        {
          "output_type": "stream",
          "name": "stdout",
          "text": [
            "Alert list length:1000\n"
          ]
        }
      ]
    },
    {
      "cell_type": "markdown",
      "source": [
        "## Detection rate (top 38) = 895/1000"
      ],
      "metadata": {
        "id": "NddVIE7MU9m-"
      }
    },
    {
      "cell_type": "code",
      "source": [
        "whitelist2 = whitelist_df.iloc[:, 0][:38].tolist()\n",
        "print(whitelist2)"
      ],
      "metadata": {
        "colab": {
          "base_uri": "https://localhost:8080/"
        },
        "id": "QTKqfqrEWMLV",
        "outputId": "3959afd7-71b1-41cf-f5f7-411ed87f806b"
      },
      "execution_count": 27,
      "outputs": [
        {
          "output_type": "stream",
          "name": "stdout",
          "text": [
            "['FIN Flag Cnt', 'SYN Flag Cnt', 'Init Fwd Win Byts', 'Flow Pkts/s', 'ACK Flag Cnt', 'Pkt Size Avg', 'Bwd Pkts/s', 'Down/Up Ratio', 'Pkt Len Mean', 'Pkt Len Min', 'Bwd Pkt Len Min', 'Pkt Len Max', 'Init Bwd Win Byts', 'Fwd Pkt Len Max', 'Fwd IAT Tot', 'Flow IAT Max', 'PSH Flag Cnt', 'Fwd Pkt Len Std', 'Fwd Pkt Len Mean', 'Pkt Len Std', 'Bwd IAT Tot', 'Idle Max', 'Fwd Seg Size Avg', 'Fwd IAT Std', 'Bwd PSH Flags', 'Flow Duration', 'Bwd IAT Std', 'Fwd Pkt Len Min', 'Flow IAT Std', 'Bwd IAT Max', 'Idle Mean', 'Fwd IAT Max', 'URG Flag Cnt', 'Idle Min', 'Flow IAT Mean', 'Fwd IAT Mean', 'Flow Byts/s', 'Bwd Pkt Len Mean']\n"
          ]
        }
      ]
    },
    {
      "cell_type": "code",
      "source": [
        "alert2 = []\n",
        "\n",
        "# Iterate over each key-value pair in the data_dict\n",
        "for key, value in data_dict.items():\n",
        "    # Check if there are one feature is not in the whitelist\n",
        "    for string in value:\n",
        "      if string not in whitelist2:\n",
        "        alert2.append(key)\n",
        "        break\n",
        "\n",
        "# Print the alert dictionary\n",
        "print(\"Alert list length:\" + str(len(alert2)))"
      ],
      "metadata": {
        "colab": {
          "base_uri": "https://localhost:8080/"
        },
        "id": "p_i5J0kxVyCx",
        "outputId": "bef30c13-aac6-49b7-8be2-e4e4ec8c5a27"
      },
      "execution_count": 28,
      "outputs": [
        {
          "output_type": "stream",
          "name": "stdout",
          "text": [
            "Alert list length:895\n"
          ]
        }
      ]
    }
  ]
}