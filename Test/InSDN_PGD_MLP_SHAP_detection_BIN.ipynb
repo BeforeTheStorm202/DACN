{
  "nbformat": 4,
  "nbformat_minor": 0,
  "metadata": {
    "colab": {
      "provenance": []
    },
    "kernelspec": {
      "name": "python3",
      "display_name": "Python 3"
    },
    "language_info": {
      "name": "python"
    },
    "widgets": {
      "application/vnd.jupyter.widget-state+json": {
        "bb2e179b25bf4d82a675ecf184b43ce9": {
          "model_module": "@jupyter-widgets/controls",
          "model_name": "HBoxModel",
          "model_module_version": "1.5.0",
          "state": {
            "_dom_classes": [],
            "_model_module": "@jupyter-widgets/controls",
            "_model_module_version": "1.5.0",
            "_model_name": "HBoxModel",
            "_view_count": null,
            "_view_module": "@jupyter-widgets/controls",
            "_view_module_version": "1.5.0",
            "_view_name": "HBoxView",
            "box_style": "",
            "children": [
              "IPY_MODEL_6fd7454f076641afb0ed2cd86b1d4e04",
              "IPY_MODEL_4605a1a5fe7644a9a26ef1dfcf9c3f12",
              "IPY_MODEL_68ee4392a8a940529e0c6dc199da9bbf"
            ],
            "layout": "IPY_MODEL_136866e0b66c450a9fc7242ebf472e4e"
          }
        },
        "6fd7454f076641afb0ed2cd86b1d4e04": {
          "model_module": "@jupyter-widgets/controls",
          "model_name": "HTMLModel",
          "model_module_version": "1.5.0",
          "state": {
            "_dom_classes": [],
            "_model_module": "@jupyter-widgets/controls",
            "_model_module_version": "1.5.0",
            "_model_name": "HTMLModel",
            "_view_count": null,
            "_view_module": "@jupyter-widgets/controls",
            "_view_module_version": "1.5.0",
            "_view_name": "HTMLView",
            "description": "",
            "description_tooltip": null,
            "layout": "IPY_MODEL_5199bc5293bb497a9cdac3dc9f4834fd",
            "placeholder": "​",
            "style": "IPY_MODEL_57fd35eac66a4b038001488d203c6a5f",
            "value": "100%"
          }
        },
        "4605a1a5fe7644a9a26ef1dfcf9c3f12": {
          "model_module": "@jupyter-widgets/controls",
          "model_name": "FloatProgressModel",
          "model_module_version": "1.5.0",
          "state": {
            "_dom_classes": [],
            "_model_module": "@jupyter-widgets/controls",
            "_model_module_version": "1.5.0",
            "_model_name": "FloatProgressModel",
            "_view_count": null,
            "_view_module": "@jupyter-widgets/controls",
            "_view_module_version": "1.5.0",
            "_view_name": "ProgressView",
            "bar_style": "success",
            "description": "",
            "description_tooltip": null,
            "layout": "IPY_MODEL_86fe7420642e4fa4b08dca407be4fa5e",
            "max": 1000,
            "min": 0,
            "orientation": "horizontal",
            "style": "IPY_MODEL_564946df3bed4087bd35bed75b930772",
            "value": 1000
          }
        },
        "68ee4392a8a940529e0c6dc199da9bbf": {
          "model_module": "@jupyter-widgets/controls",
          "model_name": "HTMLModel",
          "model_module_version": "1.5.0",
          "state": {
            "_dom_classes": [],
            "_model_module": "@jupyter-widgets/controls",
            "_model_module_version": "1.5.0",
            "_model_name": "HTMLModel",
            "_view_count": null,
            "_view_module": "@jupyter-widgets/controls",
            "_view_module_version": "1.5.0",
            "_view_name": "HTMLView",
            "description": "",
            "description_tooltip": null,
            "layout": "IPY_MODEL_2036511edcf6419ab8151677e296e7cb",
            "placeholder": "​",
            "style": "IPY_MODEL_2a6ede7f7f004650849b6d0761709aa3",
            "value": " 1000/1000 [1:20:32&lt;00:00,  4.72s/it]"
          }
        },
        "136866e0b66c450a9fc7242ebf472e4e": {
          "model_module": "@jupyter-widgets/base",
          "model_name": "LayoutModel",
          "model_module_version": "1.2.0",
          "state": {
            "_model_module": "@jupyter-widgets/base",
            "_model_module_version": "1.2.0",
            "_model_name": "LayoutModel",
            "_view_count": null,
            "_view_module": "@jupyter-widgets/base",
            "_view_module_version": "1.2.0",
            "_view_name": "LayoutView",
            "align_content": null,
            "align_items": null,
            "align_self": null,
            "border": null,
            "bottom": null,
            "display": null,
            "flex": null,
            "flex_flow": null,
            "grid_area": null,
            "grid_auto_columns": null,
            "grid_auto_flow": null,
            "grid_auto_rows": null,
            "grid_column": null,
            "grid_gap": null,
            "grid_row": null,
            "grid_template_areas": null,
            "grid_template_columns": null,
            "grid_template_rows": null,
            "height": null,
            "justify_content": null,
            "justify_items": null,
            "left": null,
            "margin": null,
            "max_height": null,
            "max_width": null,
            "min_height": null,
            "min_width": null,
            "object_fit": null,
            "object_position": null,
            "order": null,
            "overflow": null,
            "overflow_x": null,
            "overflow_y": null,
            "padding": null,
            "right": null,
            "top": null,
            "visibility": null,
            "width": null
          }
        },
        "5199bc5293bb497a9cdac3dc9f4834fd": {
          "model_module": "@jupyter-widgets/base",
          "model_name": "LayoutModel",
          "model_module_version": "1.2.0",
          "state": {
            "_model_module": "@jupyter-widgets/base",
            "_model_module_version": "1.2.0",
            "_model_name": "LayoutModel",
            "_view_count": null,
            "_view_module": "@jupyter-widgets/base",
            "_view_module_version": "1.2.0",
            "_view_name": "LayoutView",
            "align_content": null,
            "align_items": null,
            "align_self": null,
            "border": null,
            "bottom": null,
            "display": null,
            "flex": null,
            "flex_flow": null,
            "grid_area": null,
            "grid_auto_columns": null,
            "grid_auto_flow": null,
            "grid_auto_rows": null,
            "grid_column": null,
            "grid_gap": null,
            "grid_row": null,
            "grid_template_areas": null,
            "grid_template_columns": null,
            "grid_template_rows": null,
            "height": null,
            "justify_content": null,
            "justify_items": null,
            "left": null,
            "margin": null,
            "max_height": null,
            "max_width": null,
            "min_height": null,
            "min_width": null,
            "object_fit": null,
            "object_position": null,
            "order": null,
            "overflow": null,
            "overflow_x": null,
            "overflow_y": null,
            "padding": null,
            "right": null,
            "top": null,
            "visibility": null,
            "width": null
          }
        },
        "57fd35eac66a4b038001488d203c6a5f": {
          "model_module": "@jupyter-widgets/controls",
          "model_name": "DescriptionStyleModel",
          "model_module_version": "1.5.0",
          "state": {
            "_model_module": "@jupyter-widgets/controls",
            "_model_module_version": "1.5.0",
            "_model_name": "DescriptionStyleModel",
            "_view_count": null,
            "_view_module": "@jupyter-widgets/base",
            "_view_module_version": "1.2.0",
            "_view_name": "StyleView",
            "description_width": ""
          }
        },
        "86fe7420642e4fa4b08dca407be4fa5e": {
          "model_module": "@jupyter-widgets/base",
          "model_name": "LayoutModel",
          "model_module_version": "1.2.0",
          "state": {
            "_model_module": "@jupyter-widgets/base",
            "_model_module_version": "1.2.0",
            "_model_name": "LayoutModel",
            "_view_count": null,
            "_view_module": "@jupyter-widgets/base",
            "_view_module_version": "1.2.0",
            "_view_name": "LayoutView",
            "align_content": null,
            "align_items": null,
            "align_self": null,
            "border": null,
            "bottom": null,
            "display": null,
            "flex": null,
            "flex_flow": null,
            "grid_area": null,
            "grid_auto_columns": null,
            "grid_auto_flow": null,
            "grid_auto_rows": null,
            "grid_column": null,
            "grid_gap": null,
            "grid_row": null,
            "grid_template_areas": null,
            "grid_template_columns": null,
            "grid_template_rows": null,
            "height": null,
            "justify_content": null,
            "justify_items": null,
            "left": null,
            "margin": null,
            "max_height": null,
            "max_width": null,
            "min_height": null,
            "min_width": null,
            "object_fit": null,
            "object_position": null,
            "order": null,
            "overflow": null,
            "overflow_x": null,
            "overflow_y": null,
            "padding": null,
            "right": null,
            "top": null,
            "visibility": null,
            "width": null
          }
        },
        "564946df3bed4087bd35bed75b930772": {
          "model_module": "@jupyter-widgets/controls",
          "model_name": "ProgressStyleModel",
          "model_module_version": "1.5.0",
          "state": {
            "_model_module": "@jupyter-widgets/controls",
            "_model_module_version": "1.5.0",
            "_model_name": "ProgressStyleModel",
            "_view_count": null,
            "_view_module": "@jupyter-widgets/base",
            "_view_module_version": "1.2.0",
            "_view_name": "StyleView",
            "bar_color": null,
            "description_width": ""
          }
        },
        "2036511edcf6419ab8151677e296e7cb": {
          "model_module": "@jupyter-widgets/base",
          "model_name": "LayoutModel",
          "model_module_version": "1.2.0",
          "state": {
            "_model_module": "@jupyter-widgets/base",
            "_model_module_version": "1.2.0",
            "_model_name": "LayoutModel",
            "_view_count": null,
            "_view_module": "@jupyter-widgets/base",
            "_view_module_version": "1.2.0",
            "_view_name": "LayoutView",
            "align_content": null,
            "align_items": null,
            "align_self": null,
            "border": null,
            "bottom": null,
            "display": null,
            "flex": null,
            "flex_flow": null,
            "grid_area": null,
            "grid_auto_columns": null,
            "grid_auto_flow": null,
            "grid_auto_rows": null,
            "grid_column": null,
            "grid_gap": null,
            "grid_row": null,
            "grid_template_areas": null,
            "grid_template_columns": null,
            "grid_template_rows": null,
            "height": null,
            "justify_content": null,
            "justify_items": null,
            "left": null,
            "margin": null,
            "max_height": null,
            "max_width": null,
            "min_height": null,
            "min_width": null,
            "object_fit": null,
            "object_position": null,
            "order": null,
            "overflow": null,
            "overflow_x": null,
            "overflow_y": null,
            "padding": null,
            "right": null,
            "top": null,
            "visibility": null,
            "width": null
          }
        },
        "2a6ede7f7f004650849b6d0761709aa3": {
          "model_module": "@jupyter-widgets/controls",
          "model_name": "DescriptionStyleModel",
          "model_module_version": "1.5.0",
          "state": {
            "_model_module": "@jupyter-widgets/controls",
            "_model_module_version": "1.5.0",
            "_model_name": "DescriptionStyleModel",
            "_view_count": null,
            "_view_module": "@jupyter-widgets/base",
            "_view_module_version": "1.2.0",
            "_view_name": "StyleView",
            "description_width": ""
          }
        }
      }
    }
  },
  "cells": [
    {
      "cell_type": "markdown",
      "source": [
        "# Import"
      ],
      "metadata": {
        "id": "O0lPv_8LykMw"
      }
    },
    {
      "cell_type": "code",
      "source": [
        "from google.colab import drive\n",
        "drive.mount('/content/drive')"
      ],
      "metadata": {
        "colab": {
          "base_uri": "https://localhost:8080/"
        },
        "id": "_UKCBSmOSBsC",
        "outputId": "a312c5d9-139a-42a8-8d12-3810285d716b"
      },
      "execution_count": 1,
      "outputs": [
        {
          "output_type": "stream",
          "name": "stdout",
          "text": [
            "Mounted at /content/drive\n"
          ]
        }
      ]
    },
    {
      "cell_type": "code",
      "source": [
        "import warnings\n",
        "warnings.filterwarnings('ignore')"
      ],
      "metadata": {
        "id": "No3-0KGj_Kic"
      },
      "execution_count": null,
      "outputs": []
    },
    {
      "cell_type": "code",
      "execution_count": 2,
      "metadata": {
        "id": "bBcPmYOsyREp",
        "colab": {
          "base_uri": "https://localhost:8080/"
        },
        "outputId": "c7c8543c-1984-4ae8-cb34-83b3af6f08fc"
      },
      "outputs": [
        {
          "output_type": "stream",
          "name": "stdout",
          "text": [
            "Collecting shap\n",
            "  Downloading shap-0.42.0-cp310-cp310-manylinux_2_12_x86_64.manylinux2010_x86_64.manylinux_2_17_x86_64.manylinux2014_x86_64.whl (547 kB)\n",
            "\u001b[?25l     \u001b[90m━━━━━━━━━━━━━━━━━━━━━━━━━━━━━━━━━━━━━━━━\u001b[0m \u001b[32m0.0/547.1 kB\u001b[0m \u001b[31m?\u001b[0m eta \u001b[36m-:--:--\u001b[0m\r\u001b[2K     \u001b[90m━━━━━━━━━━━━━━━━━━━━━━━━━━━━━━━━━━━━━━\u001b[0m \u001b[32m547.1/547.1 kB\u001b[0m \u001b[31m16.7 MB/s\u001b[0m eta \u001b[36m0:00:00\u001b[0m\n",
            "\u001b[?25hRequirement already satisfied: numpy in /usr/local/lib/python3.10/dist-packages (from shap) (1.22.4)\n",
            "Requirement already satisfied: scipy in /usr/local/lib/python3.10/dist-packages (from shap) (1.10.1)\n",
            "Requirement already satisfied: scikit-learn in /usr/local/lib/python3.10/dist-packages (from shap) (1.2.2)\n",
            "Requirement already satisfied: pandas in /usr/local/lib/python3.10/dist-packages (from shap) (1.5.3)\n",
            "Requirement already satisfied: tqdm>=4.27.0 in /usr/local/lib/python3.10/dist-packages (from shap) (4.65.0)\n",
            "Requirement already satisfied: packaging>20.9 in /usr/local/lib/python3.10/dist-packages (from shap) (23.1)\n",
            "Collecting slicer==0.0.7 (from shap)\n",
            "  Downloading slicer-0.0.7-py3-none-any.whl (14 kB)\n",
            "Requirement already satisfied: numba in /usr/local/lib/python3.10/dist-packages (from shap) (0.56.4)\n",
            "Requirement already satisfied: cloudpickle in /usr/local/lib/python3.10/dist-packages (from shap) (2.2.1)\n",
            "Requirement already satisfied: llvmlite<0.40,>=0.39.0dev0 in /usr/local/lib/python3.10/dist-packages (from numba->shap) (0.39.1)\n",
            "Requirement already satisfied: setuptools in /usr/local/lib/python3.10/dist-packages (from numba->shap) (67.7.2)\n",
            "Requirement already satisfied: python-dateutil>=2.8.1 in /usr/local/lib/python3.10/dist-packages (from pandas->shap) (2.8.2)\n",
            "Requirement already satisfied: pytz>=2020.1 in /usr/local/lib/python3.10/dist-packages (from pandas->shap) (2022.7.1)\n",
            "Requirement already satisfied: joblib>=1.1.1 in /usr/local/lib/python3.10/dist-packages (from scikit-learn->shap) (1.2.0)\n",
            "Requirement already satisfied: threadpoolctl>=2.0.0 in /usr/local/lib/python3.10/dist-packages (from scikit-learn->shap) (3.1.0)\n",
            "Requirement already satisfied: six>=1.5 in /usr/local/lib/python3.10/dist-packages (from python-dateutil>=2.8.1->pandas->shap) (1.16.0)\n",
            "Installing collected packages: slicer, shap\n",
            "Successfully installed shap-0.42.0 slicer-0.0.7\n"
          ]
        }
      ],
      "source": [
        "!pip install shap"
      ]
    },
    {
      "cell_type": "code",
      "source": [
        "import shap\n",
        "import pandas as pd\n",
        "import tensorflow as tf\n",
        "from tensorflow import keras"
      ],
      "metadata": {
        "id": "yisYwS6Mymik",
        "colab": {
          "base_uri": "https://localhost:8080/"
        },
        "outputId": "a8764e29-9bca-4d9f-abdf-a261654cf9e6"
      },
      "execution_count": 3,
      "outputs": [
        {
          "output_type": "stream",
          "name": "stderr",
          "text": [
            "Using `tqdm.autonotebook.tqdm` in notebook mode. Use `tqdm.tqdm` instead to force console mode (e.g. in jupyter console)\n"
          ]
        }
      ]
    },
    {
      "cell_type": "markdown",
      "source": [
        "# Load trainset"
      ],
      "metadata": {
        "id": "Bz9tx1gdBGK4"
      }
    },
    {
      "cell_type": "code",
      "source": [
        "df = pd.read_csv('/content/drive/MyDrive/Dataset/insdn/binary/train.csv')\n",
        "df.info()"
      ],
      "metadata": {
        "colab": {
          "base_uri": "https://localhost:8080/"
        },
        "id": "joOnVrMbBIgT",
        "outputId": "394a5433-e3c0-4a6a-c3b0-9572dd69c168"
      },
      "execution_count": 4,
      "outputs": [
        {
          "output_type": "stream",
          "name": "stdout",
          "text": [
            "<class 'pandas.core.frame.DataFrame'>\n",
            "RangeIndex: 275111 entries, 0 to 275110\n",
            "Data columns (total 77 columns):\n",
            " #   Column             Non-Null Count   Dtype  \n",
            "---  ------             --------------   -----  \n",
            " 0   Flow Duration      275111 non-null  float64\n",
            " 1   Tot Fwd Pkts       275111 non-null  float64\n",
            " 2   Tot Bwd Pkts       275111 non-null  float64\n",
            " 3   TotLen Fwd Pkts    275111 non-null  float64\n",
            " 4   TotLen Bwd Pkts    275111 non-null  float64\n",
            " 5   Fwd Pkt Len Max    275111 non-null  float64\n",
            " 6   Fwd Pkt Len Min    275111 non-null  float64\n",
            " 7   Fwd Pkt Len Mean   275111 non-null  float64\n",
            " 8   Fwd Pkt Len Std    275111 non-null  float64\n",
            " 9   Bwd Pkt Len Max    275111 non-null  float64\n",
            " 10  Bwd Pkt Len Min    275111 non-null  float64\n",
            " 11  Bwd Pkt Len Mean   275111 non-null  float64\n",
            " 12  Bwd Pkt Len Std    275111 non-null  float64\n",
            " 13  Flow Byts/s        275111 non-null  float64\n",
            " 14  Flow Pkts/s        275111 non-null  float64\n",
            " 15  Flow IAT Mean      275111 non-null  float64\n",
            " 16  Flow IAT Std       275111 non-null  float64\n",
            " 17  Flow IAT Max       275111 non-null  float64\n",
            " 18  Flow IAT Min       275111 non-null  float64\n",
            " 19  Fwd IAT Tot        275111 non-null  float64\n",
            " 20  Fwd IAT Mean       275111 non-null  float64\n",
            " 21  Fwd IAT Std        275111 non-null  float64\n",
            " 22  Fwd IAT Max        275111 non-null  float64\n",
            " 23  Fwd IAT Min        275111 non-null  float64\n",
            " 24  Bwd IAT Tot        275111 non-null  float64\n",
            " 25  Bwd IAT Mean       275111 non-null  float64\n",
            " 26  Bwd IAT Std        275111 non-null  float64\n",
            " 27  Bwd IAT Max        275111 non-null  float64\n",
            " 28  Bwd IAT Min        275111 non-null  float64\n",
            " 29  Fwd PSH Flags      275111 non-null  float64\n",
            " 30  Bwd PSH Flags      275111 non-null  float64\n",
            " 31  Fwd URG Flags      275111 non-null  float64\n",
            " 32  Bwd URG Flags      275111 non-null  float64\n",
            " 33  Fwd Header Len     275111 non-null  float64\n",
            " 34  Bwd Header Len     275111 non-null  float64\n",
            " 35  Fwd Pkts/s         275111 non-null  float64\n",
            " 36  Bwd Pkts/s         275111 non-null  float64\n",
            " 37  Pkt Len Min        275111 non-null  float64\n",
            " 38  Pkt Len Max        275111 non-null  float64\n",
            " 39  Pkt Len Mean       275111 non-null  float64\n",
            " 40  Pkt Len Std        275111 non-null  float64\n",
            " 41  Pkt Len Var        275111 non-null  float64\n",
            " 42  FIN Flag Cnt       275111 non-null  float64\n",
            " 43  SYN Flag Cnt       275111 non-null  float64\n",
            " 44  RST Flag Cnt       275111 non-null  float64\n",
            " 45  PSH Flag Cnt       275111 non-null  float64\n",
            " 46  ACK Flag Cnt       275111 non-null  float64\n",
            " 47  URG Flag Cnt       275111 non-null  float64\n",
            " 48  CWE Flag Count     275111 non-null  float64\n",
            " 49  ECE Flag Cnt       275111 non-null  float64\n",
            " 50  Down/Up Ratio      275111 non-null  float64\n",
            " 51  Pkt Size Avg       275111 non-null  float64\n",
            " 52  Fwd Seg Size Avg   275111 non-null  float64\n",
            " 53  Bwd Seg Size Avg   275111 non-null  float64\n",
            " 54  Fwd Byts/b Avg     275111 non-null  float64\n",
            " 55  Fwd Pkts/b Avg     275111 non-null  float64\n",
            " 56  Fwd Blk Rate Avg   275111 non-null  float64\n",
            " 57  Bwd Byts/b Avg     275111 non-null  float64\n",
            " 58  Bwd Pkts/b Avg     275111 non-null  float64\n",
            " 59  Bwd Blk Rate Avg   275111 non-null  float64\n",
            " 60  Subflow Fwd Pkts   275111 non-null  float64\n",
            " 61  Subflow Fwd Byts   275111 non-null  float64\n",
            " 62  Subflow Bwd Pkts   275111 non-null  float64\n",
            " 63  Subflow Bwd Byts   275111 non-null  float64\n",
            " 64  Init Fwd Win Byts  275111 non-null  float64\n",
            " 65  Init Bwd Win Byts  275111 non-null  float64\n",
            " 66  Fwd Act Data Pkts  275111 non-null  float64\n",
            " 67  Fwd Seg Size Min   275111 non-null  float64\n",
            " 68  Active Mean        275111 non-null  float64\n",
            " 69  Active Std         275111 non-null  float64\n",
            " 70  Active Max         275111 non-null  float64\n",
            " 71  Active Min         275111 non-null  float64\n",
            " 72  Idle Mean          275111 non-null  float64\n",
            " 73  Idle Std           275111 non-null  float64\n",
            " 74  Idle Max           275111 non-null  float64\n",
            " 75  Idle Min           275111 non-null  float64\n",
            " 76  Label              275111 non-null  int64  \n",
            "dtypes: float64(76), int64(1)\n",
            "memory usage: 161.6 MB\n"
          ]
        }
      ]
    },
    {
      "cell_type": "code",
      "source": [
        "df = df.drop(columns=['Label'])\n",
        "df.info()"
      ],
      "metadata": {
        "colab": {
          "base_uri": "https://localhost:8080/"
        },
        "id": "mYgl1-XQBYwR",
        "outputId": "323449d6-6282-4b20-c6d1-c3bf6ab1fcb5"
      },
      "execution_count": 5,
      "outputs": [
        {
          "output_type": "stream",
          "name": "stdout",
          "text": [
            "<class 'pandas.core.frame.DataFrame'>\n",
            "RangeIndex: 275111 entries, 0 to 275110\n",
            "Data columns (total 76 columns):\n",
            " #   Column             Non-Null Count   Dtype  \n",
            "---  ------             --------------   -----  \n",
            " 0   Flow Duration      275111 non-null  float64\n",
            " 1   Tot Fwd Pkts       275111 non-null  float64\n",
            " 2   Tot Bwd Pkts       275111 non-null  float64\n",
            " 3   TotLen Fwd Pkts    275111 non-null  float64\n",
            " 4   TotLen Bwd Pkts    275111 non-null  float64\n",
            " 5   Fwd Pkt Len Max    275111 non-null  float64\n",
            " 6   Fwd Pkt Len Min    275111 non-null  float64\n",
            " 7   Fwd Pkt Len Mean   275111 non-null  float64\n",
            " 8   Fwd Pkt Len Std    275111 non-null  float64\n",
            " 9   Bwd Pkt Len Max    275111 non-null  float64\n",
            " 10  Bwd Pkt Len Min    275111 non-null  float64\n",
            " 11  Bwd Pkt Len Mean   275111 non-null  float64\n",
            " 12  Bwd Pkt Len Std    275111 non-null  float64\n",
            " 13  Flow Byts/s        275111 non-null  float64\n",
            " 14  Flow Pkts/s        275111 non-null  float64\n",
            " 15  Flow IAT Mean      275111 non-null  float64\n",
            " 16  Flow IAT Std       275111 non-null  float64\n",
            " 17  Flow IAT Max       275111 non-null  float64\n",
            " 18  Flow IAT Min       275111 non-null  float64\n",
            " 19  Fwd IAT Tot        275111 non-null  float64\n",
            " 20  Fwd IAT Mean       275111 non-null  float64\n",
            " 21  Fwd IAT Std        275111 non-null  float64\n",
            " 22  Fwd IAT Max        275111 non-null  float64\n",
            " 23  Fwd IAT Min        275111 non-null  float64\n",
            " 24  Bwd IAT Tot        275111 non-null  float64\n",
            " 25  Bwd IAT Mean       275111 non-null  float64\n",
            " 26  Bwd IAT Std        275111 non-null  float64\n",
            " 27  Bwd IAT Max        275111 non-null  float64\n",
            " 28  Bwd IAT Min        275111 non-null  float64\n",
            " 29  Fwd PSH Flags      275111 non-null  float64\n",
            " 30  Bwd PSH Flags      275111 non-null  float64\n",
            " 31  Fwd URG Flags      275111 non-null  float64\n",
            " 32  Bwd URG Flags      275111 non-null  float64\n",
            " 33  Fwd Header Len     275111 non-null  float64\n",
            " 34  Bwd Header Len     275111 non-null  float64\n",
            " 35  Fwd Pkts/s         275111 non-null  float64\n",
            " 36  Bwd Pkts/s         275111 non-null  float64\n",
            " 37  Pkt Len Min        275111 non-null  float64\n",
            " 38  Pkt Len Max        275111 non-null  float64\n",
            " 39  Pkt Len Mean       275111 non-null  float64\n",
            " 40  Pkt Len Std        275111 non-null  float64\n",
            " 41  Pkt Len Var        275111 non-null  float64\n",
            " 42  FIN Flag Cnt       275111 non-null  float64\n",
            " 43  SYN Flag Cnt       275111 non-null  float64\n",
            " 44  RST Flag Cnt       275111 non-null  float64\n",
            " 45  PSH Flag Cnt       275111 non-null  float64\n",
            " 46  ACK Flag Cnt       275111 non-null  float64\n",
            " 47  URG Flag Cnt       275111 non-null  float64\n",
            " 48  CWE Flag Count     275111 non-null  float64\n",
            " 49  ECE Flag Cnt       275111 non-null  float64\n",
            " 50  Down/Up Ratio      275111 non-null  float64\n",
            " 51  Pkt Size Avg       275111 non-null  float64\n",
            " 52  Fwd Seg Size Avg   275111 non-null  float64\n",
            " 53  Bwd Seg Size Avg   275111 non-null  float64\n",
            " 54  Fwd Byts/b Avg     275111 non-null  float64\n",
            " 55  Fwd Pkts/b Avg     275111 non-null  float64\n",
            " 56  Fwd Blk Rate Avg   275111 non-null  float64\n",
            " 57  Bwd Byts/b Avg     275111 non-null  float64\n",
            " 58  Bwd Pkts/b Avg     275111 non-null  float64\n",
            " 59  Bwd Blk Rate Avg   275111 non-null  float64\n",
            " 60  Subflow Fwd Pkts   275111 non-null  float64\n",
            " 61  Subflow Fwd Byts   275111 non-null  float64\n",
            " 62  Subflow Bwd Pkts   275111 non-null  float64\n",
            " 63  Subflow Bwd Byts   275111 non-null  float64\n",
            " 64  Init Fwd Win Byts  275111 non-null  float64\n",
            " 65  Init Bwd Win Byts  275111 non-null  float64\n",
            " 66  Fwd Act Data Pkts  275111 non-null  float64\n",
            " 67  Fwd Seg Size Min   275111 non-null  float64\n",
            " 68  Active Mean        275111 non-null  float64\n",
            " 69  Active Std         275111 non-null  float64\n",
            " 70  Active Max         275111 non-null  float64\n",
            " 71  Active Min         275111 non-null  float64\n",
            " 72  Idle Mean          275111 non-null  float64\n",
            " 73  Idle Std           275111 non-null  float64\n",
            " 74  Idle Max           275111 non-null  float64\n",
            " 75  Idle Min           275111 non-null  float64\n",
            "dtypes: float64(76)\n",
            "memory usage: 159.5 MB\n"
          ]
        }
      ]
    },
    {
      "cell_type": "markdown",
      "source": [
        "# Load adv samples"
      ],
      "metadata": {
        "id": "kFirQ2Tyz28E"
      }
    },
    {
      "cell_type": "code",
      "source": [
        "feature_list = ['Flow Duration', 'Tot Fwd Pkts', 'Tot Bwd Pkts', 'TotLen Fwd Pkts',\n",
        "       'TotLen Bwd Pkts', 'Fwd Pkt Len Max', 'Fwd Pkt Len Min',\n",
        "       'Fwd Pkt Len Mean', 'Fwd Pkt Len Std', 'Bwd Pkt Len Max',\n",
        "       'Bwd Pkt Len Min', 'Bwd Pkt Len Mean', 'Bwd Pkt Len Std', 'Flow Byts/s',\n",
        "       'Flow Pkts/s', 'Flow IAT Mean', 'Flow IAT Std', 'Flow IAT Max',\n",
        "       'Flow IAT Min', 'Fwd IAT Tot', 'Fwd IAT Mean', 'Fwd IAT Std',\n",
        "       'Fwd IAT Max', 'Fwd IAT Min', 'Bwd IAT Tot', 'Bwd IAT Mean',\n",
        "       'Bwd IAT Std', 'Bwd IAT Max', 'Bwd IAT Min', 'Fwd PSH Flags',\n",
        "       'Bwd PSH Flags', 'Fwd URG Flags', 'Bwd URG Flags', 'Fwd Header Len',\n",
        "       'Bwd Header Len', 'Fwd Pkts/s', 'Bwd Pkts/s', 'Pkt Len Min',\n",
        "       'Pkt Len Max', 'Pkt Len Mean', 'Pkt Len Std', 'Pkt Len Var',\n",
        "       'FIN Flag Cnt', 'SYN Flag Cnt', 'RST Flag Cnt', 'PSH Flag Cnt',\n",
        "       'ACK Flag Cnt', 'URG Flag Cnt', 'CWE Flag Count', 'ECE Flag Cnt',\n",
        "       'Down/Up Ratio', 'Pkt Size Avg', 'Fwd Seg Size Avg', 'Bwd Seg Size Avg',\n",
        "       'Fwd Byts/b Avg', 'Fwd Pkts/b Avg', 'Fwd Blk Rate Avg',\n",
        "       'Bwd Byts/b Avg', 'Bwd Pkts/b Avg', 'Bwd Blk Rate Avg',\n",
        "       'Subflow Fwd Pkts', 'Subflow Fwd Byts', 'Subflow Bwd Pkts',\n",
        "       'Subflow Bwd Byts', 'Init Fwd Win Byts', 'Init Bwd Win Byts',\n",
        "       'Fwd Act Data Pkts', 'Fwd Seg Size Min', 'Active Mean', 'Active Std',\n",
        "       'Active Max', 'Active Min', 'Idle Mean', 'Idle Std', 'Idle Max',\n",
        "       'Idle Min']"
      ],
      "metadata": {
        "id": "uoVlCtWr1F-F"
      },
      "execution_count": 6,
      "outputs": []
    },
    {
      "cell_type": "code",
      "source": [
        "pgd_path = '/content/drive/MyDrive/Dataset/insdn/adv/24_feature/pgd/pgd_mlp_bin_feature'\n",
        "#pgd_label_path = '/content/drive/MyDrive/DACN_XAI_Adv_defense/Dataset/insdn/adv/pgd/adv_pgd_target.csv'"
      ],
      "metadata": {
        "id": "f29J4Es-z5lJ"
      },
      "execution_count": 7,
      "outputs": []
    },
    {
      "cell_type": "code",
      "source": [
        "pgd_df = pd.read_csv(pgd_path)"
      ],
      "metadata": {
        "id": "I8txn6aG0EIJ"
      },
      "execution_count": 8,
      "outputs": []
    },
    {
      "cell_type": "code",
      "source": [
        "pgd_df.columns = feature_list\n",
        "pgd_df.info()"
      ],
      "metadata": {
        "colab": {
          "base_uri": "https://localhost:8080/"
        },
        "id": "dcF6Wl5Y0LY2",
        "outputId": "6c6f1b55-299a-41ad-a624-b119c4019dda"
      },
      "execution_count": 9,
      "outputs": [
        {
          "output_type": "stream",
          "name": "stdout",
          "text": [
            "<class 'pandas.core.frame.DataFrame'>\n",
            "RangeIndex: 55151 entries, 0 to 55150\n",
            "Data columns (total 76 columns):\n",
            " #   Column             Non-Null Count  Dtype  \n",
            "---  ------             --------------  -----  \n",
            " 0   Flow Duration      55151 non-null  float64\n",
            " 1   Tot Fwd Pkts       55151 non-null  float64\n",
            " 2   Tot Bwd Pkts       55151 non-null  float64\n",
            " 3   TotLen Fwd Pkts    55151 non-null  float64\n",
            " 4   TotLen Bwd Pkts    55151 non-null  float64\n",
            " 5   Fwd Pkt Len Max    55151 non-null  float64\n",
            " 6   Fwd Pkt Len Min    55151 non-null  float64\n",
            " 7   Fwd Pkt Len Mean   55151 non-null  float64\n",
            " 8   Fwd Pkt Len Std    55151 non-null  float64\n",
            " 9   Bwd Pkt Len Max    55151 non-null  float64\n",
            " 10  Bwd Pkt Len Min    55151 non-null  float64\n",
            " 11  Bwd Pkt Len Mean   55151 non-null  float64\n",
            " 12  Bwd Pkt Len Std    55151 non-null  float64\n",
            " 13  Flow Byts/s        55151 non-null  float64\n",
            " 14  Flow Pkts/s        55151 non-null  float64\n",
            " 15  Flow IAT Mean      55151 non-null  float64\n",
            " 16  Flow IAT Std       55151 non-null  float64\n",
            " 17  Flow IAT Max       55151 non-null  float64\n",
            " 18  Flow IAT Min       55151 non-null  float64\n",
            " 19  Fwd IAT Tot        55151 non-null  float64\n",
            " 20  Fwd IAT Mean       55151 non-null  float64\n",
            " 21  Fwd IAT Std        55151 non-null  float64\n",
            " 22  Fwd IAT Max        55151 non-null  float64\n",
            " 23  Fwd IAT Min        55151 non-null  float64\n",
            " 24  Bwd IAT Tot        55151 non-null  float64\n",
            " 25  Bwd IAT Mean       55151 non-null  float64\n",
            " 26  Bwd IAT Std        55151 non-null  float64\n",
            " 27  Bwd IAT Max        55151 non-null  float64\n",
            " 28  Bwd IAT Min        55151 non-null  float64\n",
            " 29  Fwd PSH Flags      55151 non-null  float64\n",
            " 30  Bwd PSH Flags      55151 non-null  float64\n",
            " 31  Fwd URG Flags      55151 non-null  float64\n",
            " 32  Bwd URG Flags      55151 non-null  float64\n",
            " 33  Fwd Header Len     55151 non-null  float64\n",
            " 34  Bwd Header Len     55151 non-null  float64\n",
            " 35  Fwd Pkts/s         55151 non-null  float64\n",
            " 36  Bwd Pkts/s         55151 non-null  float64\n",
            " 37  Pkt Len Min        55151 non-null  float64\n",
            " 38  Pkt Len Max        55151 non-null  float64\n",
            " 39  Pkt Len Mean       55151 non-null  float64\n",
            " 40  Pkt Len Std        55151 non-null  float64\n",
            " 41  Pkt Len Var        55151 non-null  float64\n",
            " 42  FIN Flag Cnt       55151 non-null  float64\n",
            " 43  SYN Flag Cnt       55151 non-null  float64\n",
            " 44  RST Flag Cnt       55151 non-null  float64\n",
            " 45  PSH Flag Cnt       55151 non-null  float64\n",
            " 46  ACK Flag Cnt       55151 non-null  float64\n",
            " 47  URG Flag Cnt       55151 non-null  float64\n",
            " 48  CWE Flag Count     55151 non-null  float64\n",
            " 49  ECE Flag Cnt       55151 non-null  float64\n",
            " 50  Down/Up Ratio      55151 non-null  float64\n",
            " 51  Pkt Size Avg       55151 non-null  float64\n",
            " 52  Fwd Seg Size Avg   55151 non-null  float64\n",
            " 53  Bwd Seg Size Avg   55151 non-null  float64\n",
            " 54  Fwd Byts/b Avg     55151 non-null  float64\n",
            " 55  Fwd Pkts/b Avg     55151 non-null  float64\n",
            " 56  Fwd Blk Rate Avg   55151 non-null  float64\n",
            " 57  Bwd Byts/b Avg     55151 non-null  float64\n",
            " 58  Bwd Pkts/b Avg     55151 non-null  float64\n",
            " 59  Bwd Blk Rate Avg   55151 non-null  float64\n",
            " 60  Subflow Fwd Pkts   55151 non-null  float64\n",
            " 61  Subflow Fwd Byts   55151 non-null  float64\n",
            " 62  Subflow Bwd Pkts   55151 non-null  float64\n",
            " 63  Subflow Bwd Byts   55151 non-null  float64\n",
            " 64  Init Fwd Win Byts  55151 non-null  float64\n",
            " 65  Init Bwd Win Byts  55151 non-null  float64\n",
            " 66  Fwd Act Data Pkts  55151 non-null  float64\n",
            " 67  Fwd Seg Size Min   55151 non-null  float64\n",
            " 68  Active Mean        55151 non-null  float64\n",
            " 69  Active Std         55151 non-null  float64\n",
            " 70  Active Max         55151 non-null  float64\n",
            " 71  Active Min         55151 non-null  float64\n",
            " 72  Idle Mean          55151 non-null  float64\n",
            " 73  Idle Std           55151 non-null  float64\n",
            " 74  Idle Max           55151 non-null  float64\n",
            " 75  Idle Min           55151 non-null  float64\n",
            "dtypes: float64(76)\n",
            "memory usage: 32.0 MB\n"
          ]
        }
      ]
    },
    {
      "cell_type": "code",
      "source": [
        "#pgd_label = pd.read_csv(pgd_label_path)\n",
        "#pgd_label.info()"
      ],
      "metadata": {
        "id": "PVO-9Dh_1C5T"
      },
      "execution_count": null,
      "outputs": []
    },
    {
      "cell_type": "markdown",
      "source": [
        "# Load DL-based IDS model"
      ],
      "metadata": {
        "id": "g33N-zPby6kB"
      }
    },
    {
      "cell_type": "code",
      "source": [
        "model_mlp = tf.keras.models.load_model('/content/drive/MyDrive/Dataset/insdn/insdn_mlp_bin.h5', compile=True)"
      ],
      "metadata": {
        "id": "ZWIDESvCy2b5"
      },
      "execution_count": 10,
      "outputs": []
    },
    {
      "cell_type": "markdown",
      "source": [
        "# SHAP"
      ],
      "metadata": {
        "id": "RFRvMWrd4QoD"
      }
    },
    {
      "cell_type": "code",
      "source": [
        "explainer = shap.KernelExplainer(model_mlp, shap.sample(df, 100))"
      ],
      "metadata": {
        "id": "4505XjQu4K_g"
      },
      "execution_count": 11,
      "outputs": []
    },
    {
      "cell_type": "code",
      "source": [
        "pgd_1000 = pgd_df.head(1000)"
      ],
      "metadata": {
        "id": "biTLBwQsdMKd"
      },
      "execution_count": 12,
      "outputs": []
    },
    {
      "cell_type": "code",
      "source": [
        "shap_values = explainer.shap_values(pgd_1000)"
      ],
      "metadata": {
        "id": "2kwEY6jC4Z-l",
        "colab": {
          "base_uri": "https://localhost:8080/",
          "height": 49,
          "referenced_widgets": [
            "bb2e179b25bf4d82a675ecf184b43ce9",
            "6fd7454f076641afb0ed2cd86b1d4e04",
            "4605a1a5fe7644a9a26ef1dfcf9c3f12",
            "68ee4392a8a940529e0c6dc199da9bbf",
            "136866e0b66c450a9fc7242ebf472e4e",
            "5199bc5293bb497a9cdac3dc9f4834fd",
            "57fd35eac66a4b038001488d203c6a5f",
            "86fe7420642e4fa4b08dca407be4fa5e",
            "564946df3bed4087bd35bed75b930772",
            "2036511edcf6419ab8151677e296e7cb",
            "2a6ede7f7f004650849b6d0761709aa3"
          ]
        },
        "outputId": "7484f800-3403-4f91-f65a-085f5b5ba14f"
      },
      "execution_count": 13,
      "outputs": [
        {
          "output_type": "display_data",
          "data": {
            "text/plain": [
              "  0%|          | 0/1000 [00:00<?, ?it/s]"
            ],
            "application/vnd.jupyter.widget-view+json": {
              "version_major": 2,
              "version_minor": 0,
              "model_id": "bb2e179b25bf4d82a675ecf184b43ce9"
            }
          },
          "metadata": {}
        }
      ]
    },
    {
      "cell_type": "code",
      "source": [
        "print(shap_values[0])"
      ],
      "metadata": {
        "colab": {
          "base_uri": "https://localhost:8080/"
        },
        "id": "gHb6Mmvi47qA",
        "outputId": "6d0040bb-6817-49d4-bc69-5f892626545c"
      },
      "execution_count": 14,
      "outputs": [
        {
          "output_type": "stream",
          "name": "stdout",
          "text": [
            "[[ 0.00497214 -0.00619488  0.00545326 ...  0.01922717  0.00607816\n",
            "   0.00794432]\n",
            " [ 0.          0.00794476  0.         ...  0.02435872  0.\n",
            "   0.        ]\n",
            " [ 0.         -0.01134098 -0.00499612 ...  0.01184063 -0.00545645\n",
            "  -0.01563582]\n",
            " ...\n",
            " [-0.00639864  0.          0.01000043 ...  0.03353839 -0.04039139\n",
            "   0.00592127]\n",
            " [ 0.00341657  0.          0.00258532 ...  0.02890894  0.00647786\n",
            "   0.00315613]\n",
            " [ 0.          0.         -0.0093505  ...  0.01084417  0.\n",
            "   0.01120318]]\n"
          ]
        }
      ]
    },
    {
      "cell_type": "code",
      "source": [
        "type(shap_values[0])"
      ],
      "metadata": {
        "colab": {
          "base_uri": "https://localhost:8080/"
        },
        "id": "eM8brh0aAvkW",
        "outputId": "ff7614dc-7111-4915-b81d-0d6cbc7d2ddb"
      },
      "execution_count": 15,
      "outputs": [
        {
          "output_type": "execute_result",
          "data": {
            "text/plain": [
              "numpy.ndarray"
            ]
          },
          "metadata": {},
          "execution_count": 15
        }
      ]
    },
    {
      "cell_type": "code",
      "source": [
        "data_df = pd.DataFrame(shap_values[0])"
      ],
      "metadata": {
        "id": "48h2syinBBb8"
      },
      "execution_count": 16,
      "outputs": []
    },
    {
      "cell_type": "code",
      "source": [
        "data_df.head()"
      ],
      "metadata": {
        "colab": {
          "base_uri": "https://localhost:8080/",
          "height": 299
        },
        "id": "GaPyNdSzBLa5",
        "outputId": "1d37a6b0-f2c5-4dd0-84ca-196d8bd88b24"
      },
      "execution_count": 17,
      "outputs": [
        {
          "output_type": "execute_result",
          "data": {
            "text/plain": [
              "         0         1         2         3        4         5         6   \\\n",
              "0  0.004972 -0.006195  0.005453  0.001362  0.00000 -0.002722  0.002954   \n",
              "1  0.000000  0.007945  0.000000  0.000000  0.00000  0.001632  0.000000   \n",
              "2  0.000000 -0.011341 -0.004996 -0.004294  0.00000  0.000000  0.005749   \n",
              "3  0.000000  0.009279  0.000000 -0.006054 -0.00639  0.000000  0.002281   \n",
              "4 -0.059752  0.008565 -0.006617  0.000000  0.00000  0.000000  0.000000   \n",
              "\n",
              "         7         8         9   ...        66   67        68        69  \\\n",
              "0  0.000000  0.005059  0.000000  ...  0.000000  0.0  0.045749 -0.018369   \n",
              "1  0.013999  0.000000 -0.004657  ...  0.000000  0.0  0.026168 -0.077192   \n",
              "2  0.004760  0.005219 -0.003560  ...  0.005586  0.0  0.000000 -0.072904   \n",
              "3  0.000000  0.004672  0.000000  ...  0.005573  0.0  0.028532 -0.028519   \n",
              "4 -0.003214 -0.012403  0.000000  ... -0.017102  0.0  0.052823 -0.267211   \n",
              "\n",
              "         70        71        72        73        74        75  \n",
              "0  0.017977  0.058000  0.007208  0.019227  0.006078  0.007944  \n",
              "1  0.034185  0.043720 -0.011041  0.024359  0.000000  0.000000  \n",
              "2  0.000000  0.045193 -0.003338  0.011841 -0.005456 -0.015636  \n",
              "3  0.032431  0.053298  0.006366  0.017005 -0.013403 -0.034657  \n",
              "4  0.059098  0.065598 -0.154705  0.000000 -0.163087 -0.201283  \n",
              "\n",
              "[5 rows x 76 columns]"
            ],
            "text/html": [
              "\n",
              "  <div id=\"df-b53f10ea-aa0d-4752-a5b4-6964364937b2\">\n",
              "    <div class=\"colab-df-container\">\n",
              "      <div>\n",
              "<style scoped>\n",
              "    .dataframe tbody tr th:only-of-type {\n",
              "        vertical-align: middle;\n",
              "    }\n",
              "\n",
              "    .dataframe tbody tr th {\n",
              "        vertical-align: top;\n",
              "    }\n",
              "\n",
              "    .dataframe thead th {\n",
              "        text-align: right;\n",
              "    }\n",
              "</style>\n",
              "<table border=\"1\" class=\"dataframe\">\n",
              "  <thead>\n",
              "    <tr style=\"text-align: right;\">\n",
              "      <th></th>\n",
              "      <th>0</th>\n",
              "      <th>1</th>\n",
              "      <th>2</th>\n",
              "      <th>3</th>\n",
              "      <th>4</th>\n",
              "      <th>5</th>\n",
              "      <th>6</th>\n",
              "      <th>7</th>\n",
              "      <th>8</th>\n",
              "      <th>9</th>\n",
              "      <th>...</th>\n",
              "      <th>66</th>\n",
              "      <th>67</th>\n",
              "      <th>68</th>\n",
              "      <th>69</th>\n",
              "      <th>70</th>\n",
              "      <th>71</th>\n",
              "      <th>72</th>\n",
              "      <th>73</th>\n",
              "      <th>74</th>\n",
              "      <th>75</th>\n",
              "    </tr>\n",
              "  </thead>\n",
              "  <tbody>\n",
              "    <tr>\n",
              "      <th>0</th>\n",
              "      <td>0.004972</td>\n",
              "      <td>-0.006195</td>\n",
              "      <td>0.005453</td>\n",
              "      <td>0.001362</td>\n",
              "      <td>0.00000</td>\n",
              "      <td>-0.002722</td>\n",
              "      <td>0.002954</td>\n",
              "      <td>0.000000</td>\n",
              "      <td>0.005059</td>\n",
              "      <td>0.000000</td>\n",
              "      <td>...</td>\n",
              "      <td>0.000000</td>\n",
              "      <td>0.0</td>\n",
              "      <td>0.045749</td>\n",
              "      <td>-0.018369</td>\n",
              "      <td>0.017977</td>\n",
              "      <td>0.058000</td>\n",
              "      <td>0.007208</td>\n",
              "      <td>0.019227</td>\n",
              "      <td>0.006078</td>\n",
              "      <td>0.007944</td>\n",
              "    </tr>\n",
              "    <tr>\n",
              "      <th>1</th>\n",
              "      <td>0.000000</td>\n",
              "      <td>0.007945</td>\n",
              "      <td>0.000000</td>\n",
              "      <td>0.000000</td>\n",
              "      <td>0.00000</td>\n",
              "      <td>0.001632</td>\n",
              "      <td>0.000000</td>\n",
              "      <td>0.013999</td>\n",
              "      <td>0.000000</td>\n",
              "      <td>-0.004657</td>\n",
              "      <td>...</td>\n",
              "      <td>0.000000</td>\n",
              "      <td>0.0</td>\n",
              "      <td>0.026168</td>\n",
              "      <td>-0.077192</td>\n",
              "      <td>0.034185</td>\n",
              "      <td>0.043720</td>\n",
              "      <td>-0.011041</td>\n",
              "      <td>0.024359</td>\n",
              "      <td>0.000000</td>\n",
              "      <td>0.000000</td>\n",
              "    </tr>\n",
              "    <tr>\n",
              "      <th>2</th>\n",
              "      <td>0.000000</td>\n",
              "      <td>-0.011341</td>\n",
              "      <td>-0.004996</td>\n",
              "      <td>-0.004294</td>\n",
              "      <td>0.00000</td>\n",
              "      <td>0.000000</td>\n",
              "      <td>0.005749</td>\n",
              "      <td>0.004760</td>\n",
              "      <td>0.005219</td>\n",
              "      <td>-0.003560</td>\n",
              "      <td>...</td>\n",
              "      <td>0.005586</td>\n",
              "      <td>0.0</td>\n",
              "      <td>0.000000</td>\n",
              "      <td>-0.072904</td>\n",
              "      <td>0.000000</td>\n",
              "      <td>0.045193</td>\n",
              "      <td>-0.003338</td>\n",
              "      <td>0.011841</td>\n",
              "      <td>-0.005456</td>\n",
              "      <td>-0.015636</td>\n",
              "    </tr>\n",
              "    <tr>\n",
              "      <th>3</th>\n",
              "      <td>0.000000</td>\n",
              "      <td>0.009279</td>\n",
              "      <td>0.000000</td>\n",
              "      <td>-0.006054</td>\n",
              "      <td>-0.00639</td>\n",
              "      <td>0.000000</td>\n",
              "      <td>0.002281</td>\n",
              "      <td>0.000000</td>\n",
              "      <td>0.004672</td>\n",
              "      <td>0.000000</td>\n",
              "      <td>...</td>\n",
              "      <td>0.005573</td>\n",
              "      <td>0.0</td>\n",
              "      <td>0.028532</td>\n",
              "      <td>-0.028519</td>\n",
              "      <td>0.032431</td>\n",
              "      <td>0.053298</td>\n",
              "      <td>0.006366</td>\n",
              "      <td>0.017005</td>\n",
              "      <td>-0.013403</td>\n",
              "      <td>-0.034657</td>\n",
              "    </tr>\n",
              "    <tr>\n",
              "      <th>4</th>\n",
              "      <td>-0.059752</td>\n",
              "      <td>0.008565</td>\n",
              "      <td>-0.006617</td>\n",
              "      <td>0.000000</td>\n",
              "      <td>0.00000</td>\n",
              "      <td>0.000000</td>\n",
              "      <td>0.000000</td>\n",
              "      <td>-0.003214</td>\n",
              "      <td>-0.012403</td>\n",
              "      <td>0.000000</td>\n",
              "      <td>...</td>\n",
              "      <td>-0.017102</td>\n",
              "      <td>0.0</td>\n",
              "      <td>0.052823</td>\n",
              "      <td>-0.267211</td>\n",
              "      <td>0.059098</td>\n",
              "      <td>0.065598</td>\n",
              "      <td>-0.154705</td>\n",
              "      <td>0.000000</td>\n",
              "      <td>-0.163087</td>\n",
              "      <td>-0.201283</td>\n",
              "    </tr>\n",
              "  </tbody>\n",
              "</table>\n",
              "<p>5 rows × 76 columns</p>\n",
              "</div>\n",
              "      <button class=\"colab-df-convert\" onclick=\"convertToInteractive('df-b53f10ea-aa0d-4752-a5b4-6964364937b2')\"\n",
              "              title=\"Convert this dataframe to an interactive table.\"\n",
              "              style=\"display:none;\">\n",
              "        \n",
              "  <svg xmlns=\"http://www.w3.org/2000/svg\" height=\"24px\"viewBox=\"0 0 24 24\"\n",
              "       width=\"24px\">\n",
              "    <path d=\"M0 0h24v24H0V0z\" fill=\"none\"/>\n",
              "    <path d=\"M18.56 5.44l.94 2.06.94-2.06 2.06-.94-2.06-.94-.94-2.06-.94 2.06-2.06.94zm-11 1L8.5 8.5l.94-2.06 2.06-.94-2.06-.94L8.5 2.5l-.94 2.06-2.06.94zm10 10l.94 2.06.94-2.06 2.06-.94-2.06-.94-.94-2.06-.94 2.06-2.06.94z\"/><path d=\"M17.41 7.96l-1.37-1.37c-.4-.4-.92-.59-1.43-.59-.52 0-1.04.2-1.43.59L10.3 9.45l-7.72 7.72c-.78.78-.78 2.05 0 2.83L4 21.41c.39.39.9.59 1.41.59.51 0 1.02-.2 1.41-.59l7.78-7.78 2.81-2.81c.8-.78.8-2.07 0-2.86zM5.41 20L4 18.59l7.72-7.72 1.47 1.35L5.41 20z\"/>\n",
              "  </svg>\n",
              "      </button>\n",
              "      \n",
              "  <style>\n",
              "    .colab-df-container {\n",
              "      display:flex;\n",
              "      flex-wrap:wrap;\n",
              "      gap: 12px;\n",
              "    }\n",
              "\n",
              "    .colab-df-convert {\n",
              "      background-color: #E8F0FE;\n",
              "      border: none;\n",
              "      border-radius: 50%;\n",
              "      cursor: pointer;\n",
              "      display: none;\n",
              "      fill: #1967D2;\n",
              "      height: 32px;\n",
              "      padding: 0 0 0 0;\n",
              "      width: 32px;\n",
              "    }\n",
              "\n",
              "    .colab-df-convert:hover {\n",
              "      background-color: #E2EBFA;\n",
              "      box-shadow: 0px 1px 2px rgba(60, 64, 67, 0.3), 0px 1px 3px 1px rgba(60, 64, 67, 0.15);\n",
              "      fill: #174EA6;\n",
              "    }\n",
              "\n",
              "    [theme=dark] .colab-df-convert {\n",
              "      background-color: #3B4455;\n",
              "      fill: #D2E3FC;\n",
              "    }\n",
              "\n",
              "    [theme=dark] .colab-df-convert:hover {\n",
              "      background-color: #434B5C;\n",
              "      box-shadow: 0px 1px 3px 1px rgba(0, 0, 0, 0.15);\n",
              "      filter: drop-shadow(0px 1px 2px rgba(0, 0, 0, 0.3));\n",
              "      fill: #FFFFFF;\n",
              "    }\n",
              "  </style>\n",
              "\n",
              "      <script>\n",
              "        const buttonEl =\n",
              "          document.querySelector('#df-b53f10ea-aa0d-4752-a5b4-6964364937b2 button.colab-df-convert');\n",
              "        buttonEl.style.display =\n",
              "          google.colab.kernel.accessAllowed ? 'block' : 'none';\n",
              "\n",
              "        async function convertToInteractive(key) {\n",
              "          const element = document.querySelector('#df-b53f10ea-aa0d-4752-a5b4-6964364937b2');\n",
              "          const dataTable =\n",
              "            await google.colab.kernel.invokeFunction('convertToInteractive',\n",
              "                                                     [key], {});\n",
              "          if (!dataTable) return;\n",
              "\n",
              "          const docLinkHtml = 'Like what you see? Visit the ' +\n",
              "            '<a target=\"_blank\" href=https://colab.research.google.com/notebooks/data_table.ipynb>data table notebook</a>'\n",
              "            + ' to learn more about interactive tables.';\n",
              "          element.innerHTML = '';\n",
              "          dataTable['output_type'] = 'display_data';\n",
              "          await google.colab.output.renderOutput(dataTable, element);\n",
              "          const docLink = document.createElement('div');\n",
              "          docLink.innerHTML = docLinkHtml;\n",
              "          element.appendChild(docLink);\n",
              "        }\n",
              "      </script>\n",
              "    </div>\n",
              "  </div>\n",
              "  "
            ]
          },
          "metadata": {},
          "execution_count": 17
        }
      ]
    },
    {
      "cell_type": "code",
      "source": [
        "data_df.to_csv('/content/drive/MyDrive/DACN_XAI_Adv_defense/InSDN/MLP_pgd/1000_samples_[0].csv', index=False)"
      ],
      "metadata": {
        "id": "mbDTuofCBeGJ"
      },
      "execution_count": null,
      "outputs": []
    },
    {
      "cell_type": "code",
      "source": [
        "data_df.columns = feature_list\n",
        "data_df.head()"
      ],
      "metadata": {
        "colab": {
          "base_uri": "https://localhost:8080/",
          "height": 351
        },
        "id": "Kh8NM9hmM99Y",
        "outputId": "d8d0f149-93c8-49c6-9b94-f18e78809a70"
      },
      "execution_count": 18,
      "outputs": [
        {
          "output_type": "execute_result",
          "data": {
            "text/plain": [
              "   Flow Duration  Tot Fwd Pkts  Tot Bwd Pkts  TotLen Fwd Pkts  \\\n",
              "0       0.004972     -0.006195      0.005453         0.001362   \n",
              "1       0.000000      0.007945      0.000000         0.000000   \n",
              "2       0.000000     -0.011341     -0.004996        -0.004294   \n",
              "3       0.000000      0.009279      0.000000        -0.006054   \n",
              "4      -0.059752      0.008565     -0.006617         0.000000   \n",
              "\n",
              "   TotLen Bwd Pkts  Fwd Pkt Len Max  Fwd Pkt Len Min  Fwd Pkt Len Mean  \\\n",
              "0          0.00000        -0.002722         0.002954          0.000000   \n",
              "1          0.00000         0.001632         0.000000          0.013999   \n",
              "2          0.00000         0.000000         0.005749          0.004760   \n",
              "3         -0.00639         0.000000         0.002281          0.000000   \n",
              "4          0.00000         0.000000         0.000000         -0.003214   \n",
              "\n",
              "   Fwd Pkt Len Std  Bwd Pkt Len Max  ...  Fwd Act Data Pkts  Fwd Seg Size Min  \\\n",
              "0         0.005059         0.000000  ...           0.000000               0.0   \n",
              "1         0.000000        -0.004657  ...           0.000000               0.0   \n",
              "2         0.005219        -0.003560  ...           0.005586               0.0   \n",
              "3         0.004672         0.000000  ...           0.005573               0.0   \n",
              "4        -0.012403         0.000000  ...          -0.017102               0.0   \n",
              "\n",
              "   Active Mean  Active Std  Active Max  Active Min  Idle Mean  Idle Std  \\\n",
              "0     0.045749   -0.018369    0.017977    0.058000   0.007208  0.019227   \n",
              "1     0.026168   -0.077192    0.034185    0.043720  -0.011041  0.024359   \n",
              "2     0.000000   -0.072904    0.000000    0.045193  -0.003338  0.011841   \n",
              "3     0.028532   -0.028519    0.032431    0.053298   0.006366  0.017005   \n",
              "4     0.052823   -0.267211    0.059098    0.065598  -0.154705  0.000000   \n",
              "\n",
              "   Idle Max  Idle Min  \n",
              "0  0.006078  0.007944  \n",
              "1  0.000000  0.000000  \n",
              "2 -0.005456 -0.015636  \n",
              "3 -0.013403 -0.034657  \n",
              "4 -0.163087 -0.201283  \n",
              "\n",
              "[5 rows x 76 columns]"
            ],
            "text/html": [
              "\n",
              "  <div id=\"df-198db6f7-aa51-4da9-a920-b090508cc656\">\n",
              "    <div class=\"colab-df-container\">\n",
              "      <div>\n",
              "<style scoped>\n",
              "    .dataframe tbody tr th:only-of-type {\n",
              "        vertical-align: middle;\n",
              "    }\n",
              "\n",
              "    .dataframe tbody tr th {\n",
              "        vertical-align: top;\n",
              "    }\n",
              "\n",
              "    .dataframe thead th {\n",
              "        text-align: right;\n",
              "    }\n",
              "</style>\n",
              "<table border=\"1\" class=\"dataframe\">\n",
              "  <thead>\n",
              "    <tr style=\"text-align: right;\">\n",
              "      <th></th>\n",
              "      <th>Flow Duration</th>\n",
              "      <th>Tot Fwd Pkts</th>\n",
              "      <th>Tot Bwd Pkts</th>\n",
              "      <th>TotLen Fwd Pkts</th>\n",
              "      <th>TotLen Bwd Pkts</th>\n",
              "      <th>Fwd Pkt Len Max</th>\n",
              "      <th>Fwd Pkt Len Min</th>\n",
              "      <th>Fwd Pkt Len Mean</th>\n",
              "      <th>Fwd Pkt Len Std</th>\n",
              "      <th>Bwd Pkt Len Max</th>\n",
              "      <th>...</th>\n",
              "      <th>Fwd Act Data Pkts</th>\n",
              "      <th>Fwd Seg Size Min</th>\n",
              "      <th>Active Mean</th>\n",
              "      <th>Active Std</th>\n",
              "      <th>Active Max</th>\n",
              "      <th>Active Min</th>\n",
              "      <th>Idle Mean</th>\n",
              "      <th>Idle Std</th>\n",
              "      <th>Idle Max</th>\n",
              "      <th>Idle Min</th>\n",
              "    </tr>\n",
              "  </thead>\n",
              "  <tbody>\n",
              "    <tr>\n",
              "      <th>0</th>\n",
              "      <td>0.004972</td>\n",
              "      <td>-0.006195</td>\n",
              "      <td>0.005453</td>\n",
              "      <td>0.001362</td>\n",
              "      <td>0.00000</td>\n",
              "      <td>-0.002722</td>\n",
              "      <td>0.002954</td>\n",
              "      <td>0.000000</td>\n",
              "      <td>0.005059</td>\n",
              "      <td>0.000000</td>\n",
              "      <td>...</td>\n",
              "      <td>0.000000</td>\n",
              "      <td>0.0</td>\n",
              "      <td>0.045749</td>\n",
              "      <td>-0.018369</td>\n",
              "      <td>0.017977</td>\n",
              "      <td>0.058000</td>\n",
              "      <td>0.007208</td>\n",
              "      <td>0.019227</td>\n",
              "      <td>0.006078</td>\n",
              "      <td>0.007944</td>\n",
              "    </tr>\n",
              "    <tr>\n",
              "      <th>1</th>\n",
              "      <td>0.000000</td>\n",
              "      <td>0.007945</td>\n",
              "      <td>0.000000</td>\n",
              "      <td>0.000000</td>\n",
              "      <td>0.00000</td>\n",
              "      <td>0.001632</td>\n",
              "      <td>0.000000</td>\n",
              "      <td>0.013999</td>\n",
              "      <td>0.000000</td>\n",
              "      <td>-0.004657</td>\n",
              "      <td>...</td>\n",
              "      <td>0.000000</td>\n",
              "      <td>0.0</td>\n",
              "      <td>0.026168</td>\n",
              "      <td>-0.077192</td>\n",
              "      <td>0.034185</td>\n",
              "      <td>0.043720</td>\n",
              "      <td>-0.011041</td>\n",
              "      <td>0.024359</td>\n",
              "      <td>0.000000</td>\n",
              "      <td>0.000000</td>\n",
              "    </tr>\n",
              "    <tr>\n",
              "      <th>2</th>\n",
              "      <td>0.000000</td>\n",
              "      <td>-0.011341</td>\n",
              "      <td>-0.004996</td>\n",
              "      <td>-0.004294</td>\n",
              "      <td>0.00000</td>\n",
              "      <td>0.000000</td>\n",
              "      <td>0.005749</td>\n",
              "      <td>0.004760</td>\n",
              "      <td>0.005219</td>\n",
              "      <td>-0.003560</td>\n",
              "      <td>...</td>\n",
              "      <td>0.005586</td>\n",
              "      <td>0.0</td>\n",
              "      <td>0.000000</td>\n",
              "      <td>-0.072904</td>\n",
              "      <td>0.000000</td>\n",
              "      <td>0.045193</td>\n",
              "      <td>-0.003338</td>\n",
              "      <td>0.011841</td>\n",
              "      <td>-0.005456</td>\n",
              "      <td>-0.015636</td>\n",
              "    </tr>\n",
              "    <tr>\n",
              "      <th>3</th>\n",
              "      <td>0.000000</td>\n",
              "      <td>0.009279</td>\n",
              "      <td>0.000000</td>\n",
              "      <td>-0.006054</td>\n",
              "      <td>-0.00639</td>\n",
              "      <td>0.000000</td>\n",
              "      <td>0.002281</td>\n",
              "      <td>0.000000</td>\n",
              "      <td>0.004672</td>\n",
              "      <td>0.000000</td>\n",
              "      <td>...</td>\n",
              "      <td>0.005573</td>\n",
              "      <td>0.0</td>\n",
              "      <td>0.028532</td>\n",
              "      <td>-0.028519</td>\n",
              "      <td>0.032431</td>\n",
              "      <td>0.053298</td>\n",
              "      <td>0.006366</td>\n",
              "      <td>0.017005</td>\n",
              "      <td>-0.013403</td>\n",
              "      <td>-0.034657</td>\n",
              "    </tr>\n",
              "    <tr>\n",
              "      <th>4</th>\n",
              "      <td>-0.059752</td>\n",
              "      <td>0.008565</td>\n",
              "      <td>-0.006617</td>\n",
              "      <td>0.000000</td>\n",
              "      <td>0.00000</td>\n",
              "      <td>0.000000</td>\n",
              "      <td>0.000000</td>\n",
              "      <td>-0.003214</td>\n",
              "      <td>-0.012403</td>\n",
              "      <td>0.000000</td>\n",
              "      <td>...</td>\n",
              "      <td>-0.017102</td>\n",
              "      <td>0.0</td>\n",
              "      <td>0.052823</td>\n",
              "      <td>-0.267211</td>\n",
              "      <td>0.059098</td>\n",
              "      <td>0.065598</td>\n",
              "      <td>-0.154705</td>\n",
              "      <td>0.000000</td>\n",
              "      <td>-0.163087</td>\n",
              "      <td>-0.201283</td>\n",
              "    </tr>\n",
              "  </tbody>\n",
              "</table>\n",
              "<p>5 rows × 76 columns</p>\n",
              "</div>\n",
              "      <button class=\"colab-df-convert\" onclick=\"convertToInteractive('df-198db6f7-aa51-4da9-a920-b090508cc656')\"\n",
              "              title=\"Convert this dataframe to an interactive table.\"\n",
              "              style=\"display:none;\">\n",
              "        \n",
              "  <svg xmlns=\"http://www.w3.org/2000/svg\" height=\"24px\"viewBox=\"0 0 24 24\"\n",
              "       width=\"24px\">\n",
              "    <path d=\"M0 0h24v24H0V0z\" fill=\"none\"/>\n",
              "    <path d=\"M18.56 5.44l.94 2.06.94-2.06 2.06-.94-2.06-.94-.94-2.06-.94 2.06-2.06.94zm-11 1L8.5 8.5l.94-2.06 2.06-.94-2.06-.94L8.5 2.5l-.94 2.06-2.06.94zm10 10l.94 2.06.94-2.06 2.06-.94-2.06-.94-.94-2.06-.94 2.06-2.06.94z\"/><path d=\"M17.41 7.96l-1.37-1.37c-.4-.4-.92-.59-1.43-.59-.52 0-1.04.2-1.43.59L10.3 9.45l-7.72 7.72c-.78.78-.78 2.05 0 2.83L4 21.41c.39.39.9.59 1.41.59.51 0 1.02-.2 1.41-.59l7.78-7.78 2.81-2.81c.8-.78.8-2.07 0-2.86zM5.41 20L4 18.59l7.72-7.72 1.47 1.35L5.41 20z\"/>\n",
              "  </svg>\n",
              "      </button>\n",
              "      \n",
              "  <style>\n",
              "    .colab-df-container {\n",
              "      display:flex;\n",
              "      flex-wrap:wrap;\n",
              "      gap: 12px;\n",
              "    }\n",
              "\n",
              "    .colab-df-convert {\n",
              "      background-color: #E8F0FE;\n",
              "      border: none;\n",
              "      border-radius: 50%;\n",
              "      cursor: pointer;\n",
              "      display: none;\n",
              "      fill: #1967D2;\n",
              "      height: 32px;\n",
              "      padding: 0 0 0 0;\n",
              "      width: 32px;\n",
              "    }\n",
              "\n",
              "    .colab-df-convert:hover {\n",
              "      background-color: #E2EBFA;\n",
              "      box-shadow: 0px 1px 2px rgba(60, 64, 67, 0.3), 0px 1px 3px 1px rgba(60, 64, 67, 0.15);\n",
              "      fill: #174EA6;\n",
              "    }\n",
              "\n",
              "    [theme=dark] .colab-df-convert {\n",
              "      background-color: #3B4455;\n",
              "      fill: #D2E3FC;\n",
              "    }\n",
              "\n",
              "    [theme=dark] .colab-df-convert:hover {\n",
              "      background-color: #434B5C;\n",
              "      box-shadow: 0px 1px 3px 1px rgba(0, 0, 0, 0.15);\n",
              "      filter: drop-shadow(0px 1px 2px rgba(0, 0, 0, 0.3));\n",
              "      fill: #FFFFFF;\n",
              "    }\n",
              "  </style>\n",
              "\n",
              "      <script>\n",
              "        const buttonEl =\n",
              "          document.querySelector('#df-198db6f7-aa51-4da9-a920-b090508cc656 button.colab-df-convert');\n",
              "        buttonEl.style.display =\n",
              "          google.colab.kernel.accessAllowed ? 'block' : 'none';\n",
              "\n",
              "        async function convertToInteractive(key) {\n",
              "          const element = document.querySelector('#df-198db6f7-aa51-4da9-a920-b090508cc656');\n",
              "          const dataTable =\n",
              "            await google.colab.kernel.invokeFunction('convertToInteractive',\n",
              "                                                     [key], {});\n",
              "          if (!dataTable) return;\n",
              "\n",
              "          const docLinkHtml = 'Like what you see? Visit the ' +\n",
              "            '<a target=\"_blank\" href=https://colab.research.google.com/notebooks/data_table.ipynb>data table notebook</a>'\n",
              "            + ' to learn more about interactive tables.';\n",
              "          element.innerHTML = '';\n",
              "          dataTable['output_type'] = 'display_data';\n",
              "          await google.colab.output.renderOutput(dataTable, element);\n",
              "          const docLink = document.createElement('div');\n",
              "          docLink.innerHTML = docLinkHtml;\n",
              "          element.appendChild(docLink);\n",
              "        }\n",
              "      </script>\n",
              "    </div>\n",
              "  </div>\n",
              "  "
            ]
          },
          "metadata": {},
          "execution_count": 18
        }
      ]
    },
    {
      "cell_type": "code",
      "source": [
        "data_dict = {}\n",
        "for idx in range(0, 1000):\n",
        "  # Select the desired row and get the top 10 values's column names\n",
        "  row_values = data_df.iloc[idx].nlargest(10).index.tolist()\n",
        "\n",
        "  # Create a dictionary and add the list with filename as the key\n",
        "  data_dict['Adv sample ' + str(idx)] = row_values"
      ],
      "metadata": {
        "id": "y9KCFvHdP5UO"
      },
      "execution_count": 19,
      "outputs": []
    },
    {
      "cell_type": "code",
      "source": [
        "print(data_dict)"
      ],
      "metadata": {
        "colab": {
          "base_uri": "https://localhost:8080/"
        },
        "id": "SAhM-kXtRLoW",
        "outputId": "d960f7c4-182c-4a5a-de37-37858679e071"
      },
      "execution_count": 20,
      "outputs": [
        {
          "output_type": "stream",
          "name": "stdout",
          "text": [
            "{'Adv sample 0': ['Active Min', 'Init Bwd Win Byts', 'Bwd IAT Min', 'Active Mean', 'Pkt Len Min', 'Fwd Byts/b Avg', 'Idle Std', 'Down/Up Ratio', 'Active Max', 'Bwd IAT Std'], 'Adv sample 1': ['SYN Flag Cnt', 'Bwd IAT Min', 'Init Bwd Win Byts', 'Active Min', 'Fwd IAT Min', 'Active Max', 'Bwd IAT Std', 'Active Mean', 'Idle Std', 'Fwd Pkt Len Mean'], 'Adv sample 2': ['SYN Flag Cnt', 'Init Bwd Win Byts', 'Active Min', 'Fwd IAT Min', 'Bwd IAT Mean', 'Bwd IAT Std', 'Pkt Len Min', 'Fwd Byts/b Avg', 'Bwd IAT Max', 'Bwd IAT Min'], 'Adv sample 3': ['SYN Flag Cnt', 'Active Min', 'Init Bwd Win Byts', 'Fwd IAT Min', 'Active Max', 'Active Mean', 'Bwd IAT Mean', 'Pkt Len Min', 'Bwd IAT Std', 'Bwd IAT Max'], 'Adv sample 4': ['ACK Flag Cnt', 'Bwd IAT Std', 'Active Min', 'Active Max', 'Active Mean', 'Init Bwd Win Byts', 'Flow IAT Mean', 'Pkt Len Max', 'Fwd IAT Min', 'Bwd Pkt Len Min'], 'Adv sample 5': ['Active Mean', 'Bwd IAT Max', 'Bwd IAT Mean', 'Fwd IAT Min', 'Init Bwd Win Byts', 'Fwd Blk Rate Avg', 'Idle Max', 'Bwd Pkts/s', 'Pkt Len Std', 'PSH Flag Cnt'], 'Adv sample 6': ['ACK Flag Cnt', 'Active Max', 'Active Mean', 'Bwd IAT Std', 'Active Min', 'Bwd IAT Tot', 'Down/Up Ratio', 'Init Bwd Win Byts', 'Idle Std', 'Idle Min'], 'Adv sample 7': ['Bwd IAT Min', 'Active Min', 'Active Mean', 'Init Bwd Win Byts', 'Bwd IAT Mean', 'Bwd IAT Std', 'Bwd IAT Max', 'Pkt Len Min', 'Down/Up Ratio', 'Active Max'], 'Adv sample 8': ['ACK Flag Cnt', 'Active Max', 'Active Min', 'Init Bwd Win Byts', 'Bwd IAT Std', 'Down/Up Ratio', 'Pkt Size Avg', 'TotLen Fwd Pkts', 'Subflow Fwd Pkts', 'Flow Byts/s'], 'Adv sample 9': ['SYN Flag Cnt', 'Active Min', 'Init Bwd Win Byts', 'Bwd IAT Tot', 'Bwd IAT Max', 'Down/Up Ratio', 'Fwd IAT Mean', 'Pkt Len Min', 'Fwd Pkt Len Std', 'Flow IAT Min'], 'Adv sample 10': ['ACK Flag Cnt', 'Bwd IAT Tot', 'Bwd IAT Min', 'Init Bwd Win Byts', 'Active Mean', 'FIN Flag Cnt', 'Bwd IAT Std', 'Flow IAT Mean', 'Flow IAT Std', 'Bwd Pkt Len Mean'], 'Adv sample 11': ['Bwd IAT Mean', 'Bwd IAT Std', 'Init Bwd Win Byts', 'Active Max', 'Pkt Len Min', 'Fwd Byts/b Avg', 'Pkt Len Std', 'Subflow Bwd Byts', 'Bwd IAT Max', 'Bwd IAT Tot'], 'Adv sample 12': ['ACK Flag Cnt', 'Active Max', 'Init Bwd Win Byts', 'Flow IAT Std', 'Active Mean', 'Flow IAT Mean', 'Bwd Pkt Len Max', 'Bwd Pkt Len Std', 'Fwd IAT Mean', 'Bwd Header Len'], 'Adv sample 13': ['Active Min', 'Init Bwd Win Byts', 'Bwd IAT Min', 'Active Mean', 'Bwd IAT Max', 'Bwd IAT Std', 'Pkt Len Min', 'Active Max', 'Down/Up Ratio', 'Fwd IAT Min'], 'Adv sample 14': ['SYN Flag Cnt', 'Fwd Byts/b Avg', 'Init Bwd Win Byts', 'Fwd Pkts/s', 'Fwd Header Len', 'Flow IAT Min', 'Pkt Len Min', 'Bwd Seg Size Avg', 'TotLen Fwd Pkts', 'Bwd Pkt Len Min'], 'Adv sample 15': ['Active Min', 'Bwd IAT Mean', 'Bwd IAT Min', 'Fwd IAT Min', 'Idle Std', 'Bwd IAT Std', 'Init Bwd Win Byts', 'Active Max', 'Pkt Len Min', 'Active Mean'], 'Adv sample 16': ['Active Min', 'Bwd IAT Min', 'Init Bwd Win Byts', 'Active Mean', 'Active Max', 'Bwd IAT Std', 'Pkt Len Min', 'Bwd IAT Mean', 'Idle Min', 'Pkt Len Std'], 'Adv sample 17': ['SYN Flag Cnt', 'Init Bwd Win Byts', 'Idle Std', 'Active Min', 'Active Max', 'Active Mean', 'Bwd IAT Std', 'Bwd IAT Mean', 'Fwd Byts/b Avg', 'Bwd IAT Max'], 'Adv sample 18': ['ACK Flag Cnt', 'Bwd IAT Tot', 'Init Bwd Win Byts', 'Pkt Len Min', 'Tot Fwd Pkts', 'Bwd IAT Min', 'Bwd Pkt Len Min', 'Active Max', 'Fwd Pkts/s', 'Fwd Seg Size Avg'], 'Adv sample 19': ['ACK Flag Cnt', 'Init Bwd Win Byts', 'Active Min', 'Bwd IAT Std', 'Bwd IAT Max', 'Bwd IAT Tot', 'Fwd IAT Min', 'Bwd Pkts/b Avg', 'Pkt Len Min', 'Bwd IAT Min'], 'Adv sample 20': ['Active Mean', 'Bwd IAT Max', 'Bwd IAT Tot', 'Bwd IAT Mean', 'Bwd Pkts/s', 'Fwd IAT Min', 'Init Bwd Win Byts', 'Fwd Blk Rate Avg', 'Pkt Len Min', 'Down/Up Ratio'], 'Adv sample 21': ['SYN Flag Cnt', 'Active Max', 'Idle Std', 'Init Bwd Win Byts', 'Bwd IAT Max', 'Active Min', 'Bwd IAT Mean', 'Active Mean', 'Fwd Byts/b Avg', 'Fwd IAT Min'], 'Adv sample 22': ['Active Mean', 'Bwd IAT Max', 'Init Bwd Win Byts', 'Bwd IAT Mean', 'Active Min', 'Fwd IAT Min', 'Idle Std', 'Bwd IAT Tot', 'Down/Up Ratio', 'Pkt Len Min'], 'Adv sample 23': ['Bwd IAT Std', 'Fwd Byts/b Avg', 'Bwd IAT Mean', 'Init Bwd Win Byts', 'Idle Std', 'Bwd Pkts/b Avg', 'Pkt Len Min', 'Active Min', 'Tot Fwd Pkts', 'Bwd Pkt Len Mean'], 'Adv sample 24': ['ACK Flag Cnt', 'Active Max', 'Bwd IAT Tot', 'Init Bwd Win Byts', 'Idle Std', 'Pkt Len Min', 'Pkt Size Avg', 'Subflow Bwd Pkts', 'Fwd Pkt Len Max', 'TotLen Bwd Pkts'], 'Adv sample 25': ['SYN Flag Cnt', 'Active Min', 'Bwd IAT Std', 'Init Bwd Win Byts', 'Bwd IAT Mean', 'Idle Std', 'Down/Up Ratio', 'Pkt Len Min', 'Bwd IAT Max', 'Bwd IAT Tot'], 'Adv sample 26': ['Bwd IAT Min', 'Active Min', 'Fwd Byts/b Avg', 'Init Bwd Win Byts', 'Active Mean', 'Bwd IAT Mean', 'Active Max', 'Bwd IAT Max', 'Pkt Len Min', 'Bwd Pkts/b Avg'], 'Adv sample 27': ['Active Mean', 'Active Min', 'Bwd IAT Mean', 'Bwd IAT Max', 'Bwd IAT Min', 'Init Bwd Win Byts', 'Fwd Blk Rate Avg', 'Pkt Len Std', 'Pkt Len Min', 'Pkt Len Max'], 'Adv sample 28': ['URG Flag Cnt', 'Active Max', 'Fwd IAT Min', 'Bwd URG Flags', 'Fwd Byts/b Avg', 'Init Bwd Win Byts', 'Idle Min', 'PSH Flag Cnt', 'Fwd Pkt Len Max', 'Pkt Len Min'], 'Adv sample 29': ['Bwd Pkts/s', 'Bwd IAT Mean', 'Flow Pkts/s', 'Fwd IAT Min', 'Init Bwd Win Byts', 'Down/Up Ratio', 'Idle Max', 'Pkt Len Min', 'Pkt Len Std', 'Fwd Byts/b Avg'], 'Adv sample 30': ['ACK Flag Cnt', 'Bwd IAT Min', 'Active Max', 'Init Bwd Win Byts', 'Fwd IAT Min', 'Active Min', 'Bwd IAT Std', 'Bwd IAT Mean', 'Active Mean', 'Bwd IAT Max'], 'Adv sample 31': ['Active Max', 'Active Min', 'Bwd IAT Min', 'Init Bwd Win Byts', 'Fwd IAT Min', 'Bwd IAT Max', 'Active Mean', 'Bwd IAT Std', 'Fwd Byts/b Avg', 'Down/Up Ratio'], 'Adv sample 32': ['SYN Flag Cnt', 'Active Mean', 'Init Bwd Win Byts', 'Active Min', 'Bwd IAT Std', 'Bwd IAT Max', 'Fwd Byts/b Avg', 'Bwd IAT Min', 'Bwd Pkt Len Min', 'Pkt Len Min'], 'Adv sample 33': ['Active Mean', 'Bwd IAT Min', 'Active Min', 'Init Bwd Win Byts', 'Bwd IAT Mean', 'Fwd Byts/b Avg', 'Bwd IAT Max', 'Pkt Len Min', 'Active Max', 'Down/Up Ratio'], 'Adv sample 34': ['Bwd IAT Std', 'Active Max', 'Init Bwd Win Byts', 'Bwd IAT Mean', 'Active Min', 'Pkt Len Min', 'Bwd IAT Max', 'Down/Up Ratio', 'Active Mean', 'Idle Max'], 'Adv sample 35': ['SYN Flag Cnt', 'Active Mean', 'Bwd IAT Mean', 'Idle Std', 'Bwd IAT Std', 'Init Bwd Win Byts', 'Fwd Blk Rate Avg', 'Fwd Byts/b Avg', 'Bwd Pkt Len Min', 'Bwd Pkts/b Avg'], 'Adv sample 36': ['Active Mean', 'Bwd IAT Mean', 'Bwd IAT Tot', 'Bwd Pkts/s', 'Bwd IAT Min', 'Init Bwd Win Byts', 'Pkt Len Min', 'Fwd Byts/b Avg', 'Bwd Pkts/b Avg', 'Down/Up Ratio'], 'Adv sample 37': ['Active Min', 'Init Bwd Win Byts', 'Active Mean', 'Bwd IAT Mean', 'Bwd IAT Min', 'Bwd IAT Tot', 'Pkt Len Min', 'Down/Up Ratio', 'Active Max', 'Bwd IAT Max'], 'Adv sample 38': ['ACK Flag Cnt', 'Active Max', 'Init Bwd Win Byts', 'Bwd IAT Max', 'Active Min', 'Pkt Len Min', 'FIN Flag Cnt', 'Bwd IAT Tot', 'Active Mean', 'Bwd IAT Std'], 'Adv sample 39': ['Bwd IAT Mean', 'Active Mean', 'Active Min', 'Init Bwd Win Byts', 'Bwd IAT Std', 'Fwd IAT Min', 'Active Max', 'Bwd Pkts/b Avg', 'Pkt Len Min', 'Idle Std'], 'Adv sample 40': ['Bwd IAT Min', 'Bwd IAT Std', 'Init Bwd Win Byts', 'Pkt Len Min', 'Idle Std', 'Active Min', 'Active Mean', 'Fwd Byts/b Avg', 'Active Max', 'Fwd IAT Min'], 'Adv sample 41': ['Bwd IAT Mean', 'Active Min', 'Bwd IAT Min', 'Bwd IAT Max', 'Init Bwd Win Byts', 'Fwd Byts/b Avg', 'Bwd IAT Tot', 'Down/Up Ratio', 'Fwd Blk Rate Avg', 'Pkt Len Min'], 'Adv sample 42': ['ACK Flag Cnt', 'Active Min', 'Active Max', 'Idle Min', 'Init Bwd Win Byts', 'Bwd IAT Tot', 'Pkt Size Avg', 'Bwd IAT Min', 'Pkt Len Min', 'Bwd Seg Size Avg'], 'Adv sample 43': ['SYN Flag Cnt', 'Active Mean', 'Bwd IAT Tot', 'Init Bwd Win Byts', 'Flow IAT Mean', 'Idle Std', 'Active Max', 'Bwd IAT Mean', 'Flow IAT Min', 'Pkt Len Mean'], 'Adv sample 44': ['Bwd IAT Max', 'Active Mean', 'Bwd IAT Mean', 'Active Max', 'Bwd IAT Tot', 'Bwd IAT Min', 'Active Min', 'Init Bwd Win Byts', 'Fwd Blk Rate Avg', 'Down/Up Ratio'], 'Adv sample 45': ['Idle Std', 'Active Min', 'Bwd IAT Mean', 'Active Mean', 'Init Bwd Win Byts', 'Bwd Pkts/b Avg', 'Active Max', 'Pkt Len Min', 'Fwd IAT Min', 'Down/Up Ratio'], 'Adv sample 46': ['Active Max', 'Bwd IAT Min', 'Init Bwd Win Byts', 'Idle Min', 'Pkt Len Min', 'Idle Max', 'Down/Up Ratio', 'Fwd Byts/b Avg', 'Bwd IAT Max', 'Bwd Pkt Len Min'], 'Adv sample 47': ['Bwd IAT Mean', 'Fwd Byts/b Avg', 'Bwd Pkts/b Avg', 'Fwd IAT Min', 'Active Max', 'Init Bwd Win Byts', 'Pkt Len Min', 'Pkt Size Avg', 'Idle Std', 'Idle Mean'], 'Adv sample 48': ['SYN Flag Cnt', 'Active Mean', 'Bwd Byts/b Avg', 'Init Bwd Win Byts', 'Pkt Len Min', 'TotLen Bwd Pkts', 'Flow IAT Max', 'Bwd Header Len', 'Subflow Fwd Byts', 'Fwd Pkts/s'], 'Adv sample 49': ['Active Max', 'Bwd IAT Min', 'Active Min', 'Active Mean', 'Fwd IAT Min', 'Bwd IAT Mean', 'Bwd IAT Max', 'Init Bwd Win Byts', 'Pkt Len Min', 'Bwd IAT Tot'], 'Adv sample 50': ['ACK Flag Cnt', 'Active Mean', 'Active Max', 'Init Bwd Win Byts', 'Bwd IAT Std', 'Bwd IAT Mean', 'Active Min', 'Fwd IAT Min', 'Bwd Pkt Len Min', 'Pkt Len Min'], 'Adv sample 51': ['ACK Flag Cnt', 'Bwd IAT Std', 'Active Mean', 'Init Bwd Win Byts', 'Bwd IAT Min', 'Bwd IAT Tot', 'Bwd IAT Mean', 'Flow IAT Mean', 'Active Max', 'Flow IAT Std'], 'Adv sample 52': ['Bwd Pkts/s', 'Fwd Byts/b Avg', 'Init Bwd Win Byts', 'Fwd Blk Rate Avg', 'Pkt Len Min', 'Pkt Len Std', 'Down/Up Ratio', 'Pkt Size Avg', 'Bwd Pkt Len Mean', 'Bwd Pkt Len Min'], 'Adv sample 53': ['SYN Flag Cnt', 'Init Bwd Win Byts', 'Active Min', 'Idle Std', 'Active Max', 'Active Mean', 'Fwd IAT Min', 'Pkt Len Min', 'Bwd Pkts/b Avg', 'Bwd IAT Std'], 'Adv sample 54': ['ACK Flag Cnt', 'Bwd IAT Tot', 'Active Mean', 'Bwd IAT Max', 'Bwd IAT Std', 'Bwd IAT Min', 'Init Bwd Win Byts', 'Flow IAT Mean', 'Fwd IAT Min', 'Fwd Pkt Len Mean'], 'Adv sample 55': ['ACK Flag Cnt', 'Active Max', 'Init Bwd Win Byts', 'Active Min', 'Fwd IAT Min', 'Bwd IAT Std', 'Active Mean', 'Fwd Byts/b Avg', 'Bwd Pkts/b Avg', 'Bwd IAT Tot'], 'Adv sample 56': ['Bwd IAT Std', 'Active Mean', 'Active Min', 'Bwd IAT Min', 'Idle Std', 'Init Bwd Win Byts', 'Bwd IAT Mean', 'Bwd IAT Max', 'Active Max', 'Pkt Len Min'], 'Adv sample 57': ['Active Min', 'Active Mean', 'Bwd IAT Std', 'Fwd IAT Min', 'Idle Std', 'Init Bwd Win Byts', 'Down/Up Ratio', 'Bwd IAT Min', 'Active Max', 'Pkt Len Min'], 'Adv sample 58': ['Active Max', 'Init Bwd Win Byts', 'Idle Min', 'Bwd IAT Tot', 'Bwd IAT Min', 'Idle Max', 'Bwd IAT Mean', 'Fwd Header Len', 'Fwd Act Data Pkts', 'Down/Up Ratio'], 'Adv sample 59': ['ACK Flag Cnt', 'FIN Flag Cnt', 'Init Bwd Win Byts', 'Active Min', 'Fwd IAT Min', 'Active Max', 'Flow Pkts/s', 'Bwd IAT Max', 'Pkt Len Mean', 'Active Mean'], 'Adv sample 60': ['ACK Flag Cnt', 'Init Bwd Win Byts', 'Active Min', 'FIN Flag Cnt', 'Bwd IAT Std', 'Active Max', 'Active Mean', 'Fwd IAT Min', 'Bwd IAT Min', 'Bwd IAT Tot'], 'Adv sample 61': ['ACK Flag Cnt', 'Idle Min', 'Idle Max', 'Init Bwd Win Byts', 'Active Max', 'Bwd Pkts/b Avg', 'Idle Mean', 'Down/Up Ratio', 'Bwd URG Flags', 'Fwd Pkts/b Avg'], 'Adv sample 62': ['Idle Max', 'Init Bwd Win Byts', 'Active Min', 'Idle Min', 'Bwd IAT Max', 'Down/Up Ratio', 'Active Mean', 'Active Max', 'Pkt Len Min', 'Bwd IAT Tot'], 'Adv sample 63': ['Active Min', 'Active Mean', 'Active Max', 'Fwd IAT Min', 'Bwd IAT Mean', 'Bwd Pkts/s', 'Init Bwd Win Byts', 'Idle Max', 'Idle Min', 'Idle Std'], 'Adv sample 64': ['Bwd Pkts/s', 'Bwd IAT Mean', 'Fwd IAT Min', 'Init Bwd Win Byts', 'Bwd IAT Tot', 'Active Mean', 'Flow Pkts/s', 'Bwd IAT Max', 'Pkt Len Min', 'Tot Fwd Pkts'], 'Adv sample 65': ['Bwd Pkts/s', 'Bwd IAT Mean', 'Bwd IAT Tot', 'Flow Pkts/s', 'Fwd IAT Min', 'Active Mean', 'Init Bwd Win Byts', 'Bwd IAT Max', 'Pkt Len Min', 'Down/Up Ratio'], 'Adv sample 66': ['ACK Flag Cnt', 'Active Mean', 'Fwd IAT Min', 'Active Max', 'Init Bwd Win Byts', 'Active Min', 'Fwd Blk Rate Avg', 'Flow Pkts/s', 'Fwd Byts/b Avg', 'Bwd Pkt Len Min'], 'Adv sample 67': ['Active Min', 'Init Bwd Win Byts', 'Bwd IAT Mean', 'Active Mean', 'Fwd IAT Min', 'Idle Std', 'Bwd IAT Std', 'Fwd Byts/b Avg', 'Bwd IAT Min', 'Pkt Len Min'], 'Adv sample 68': ['ACK Flag Cnt', 'Active Min', 'Active Max', 'Bwd IAT Std', 'Down/Up Ratio', 'Idle Std', 'Bwd IAT Max', 'Init Bwd Win Byts', 'Bwd IAT Tot', 'Pkt Len Min'], 'Adv sample 69': ['SYN Flag Cnt', 'Active Max', 'Bwd IAT Mean', 'Init Bwd Win Byts', 'Fwd Byts/b Avg', 'Bwd Pkts/b Avg', 'Idle Std', 'Fwd Blk Rate Avg', 'Fwd IAT Mean', 'Bwd Header Len'], 'Adv sample 70': ['SYN Flag Cnt', 'Bwd IAT Mean', 'Active Min', 'Active Mean', 'Bwd IAT Min', 'Init Bwd Win Byts', 'Fwd IAT Min', 'Pkt Len Min', 'Fwd Byts/b Avg', 'Bwd Pkts/b Avg'], 'Adv sample 71': ['Active Mean', 'Fwd Byts/b Avg', 'Bwd Pkts/b Avg', 'Init Bwd Win Byts', 'Bwd IAT Tot', 'Bwd IAT Mean', 'Fwd Blk Rate Avg', 'Pkt Len Min', 'Idle Mean', 'Fwd IAT Min'], 'Adv sample 72': ['ACK Flag Cnt', 'Active Mean', 'Flow IAT Std', 'Down/Up Ratio', 'Active Min', 'Flow IAT Mean', 'Init Bwd Win Byts', 'Fwd Byts/b Avg', 'Active Max', 'Idle Std'], 'Adv sample 73': ['Bwd IAT Min', 'Active Min', 'Bwd IAT Mean', 'Fwd Byts/b Avg', 'Idle Min', 'Idle Max', 'Init Bwd Win Byts', 'Pkt Len Min', 'Fwd IAT Min', 'Bwd Pkts/b Avg'], 'Adv sample 74': ['ACK Flag Cnt', 'Bwd IAT Std', 'Bwd IAT Max', 'Bwd IAT Tot', 'Init Bwd Win Byts', 'Pkt Len Min', 'Active Mean', 'Bwd Pkt Len Min', 'Active Min', 'Fwd Seg Size Avg'], 'Adv sample 75': ['ACK Flag Cnt', 'FIN Flag Cnt', 'Init Bwd Win Byts', 'Bwd IAT Std', 'Bwd IAT Max', 'Bwd IAT Min', 'Active Min', 'Bwd Pkt Len Min', 'Flow Pkts/s', 'Bwd IAT Tot'], 'Adv sample 76': ['ACK Flag Cnt', 'Bwd IAT Tot', 'Idle Std', 'Bwd Byts/b Avg', 'Init Bwd Win Byts', 'Down/Up Ratio', 'Idle Min', 'Idle Max', 'Pkt Len Min', 'Idle Mean'], 'Adv sample 77': ['SYN Flag Cnt', 'Bwd IAT Mean', 'Init Bwd Win Byts', 'Active Min', 'Idle Std', 'Fwd Byts/b Avg', 'Fwd IAT Min', 'Bwd IAT Std', 'Pkt Len Min', 'Flow IAT Max'], 'Adv sample 78': ['Active Min', 'Active Mean', 'Init Bwd Win Byts', 'Bwd IAT Min', 'Bwd IAT Mean', 'Bwd IAT Max', 'Pkt Len Min', 'Down/Up Ratio', 'Bwd IAT Std', 'Idle Std'], 'Adv sample 79': ['ACK Flag Cnt', 'FIN Flag Cnt', 'Init Bwd Win Byts', 'Bwd IAT Std', 'Flow Pkts/s', 'Bwd IAT Max', 'Bwd Seg Size Avg', 'Fwd IAT Min', 'Bwd Pkt Len Mean', 'Fwd Byts/b Avg'], 'Adv sample 80': ['Fwd IAT Min', 'Init Bwd Win Byts', 'Pkt Len Min', 'Bwd IAT Std', 'Active Min', 'Active Mean', 'Down/Up Ratio', 'Active Max', 'Idle Std', 'Bwd IAT Tot'], 'Adv sample 81': ['ACK Flag Cnt', 'Init Bwd Win Byts', 'Bwd IAT Std', 'Bwd IAT Max', 'Active Max', 'Bwd IAT Tot', 'PSH Flag Cnt', 'Active Min', 'Flow IAT Std', 'Flow IAT Mean'], 'Adv sample 82': ['Bwd IAT Mean', 'Init Bwd Win Byts', 'Fwd Byts/b Avg', 'Fwd IAT Min', 'Active Max', 'Pkt Len Min', 'Bwd IAT Max', 'Subflow Fwd Pkts', 'Down/Up Ratio', 'Pkt Size Avg'], 'Adv sample 83': ['Fwd IAT Min', 'Bwd IAT Std', 'Init Bwd Win Byts', 'Pkt Len Min', 'Active Min', 'Bwd IAT Mean', 'Down/Up Ratio', 'Active Mean', 'Idle Std', 'Active Max'], 'Adv sample 84': ['ACK Flag Cnt', 'FIN Flag Cnt', 'Init Bwd Win Byts', 'Fwd IAT Min', 'Active Max', 'Down/Up Ratio', 'Fwd Byts/b Avg', 'Pkt Size Avg', 'Bwd Header Len', 'Pkt Len Std'], 'Adv sample 85': ['ACK Flag Cnt', 'Active Min', 'Bwd IAT Tot', 'Active Max', 'Idle Max', 'Init Bwd Win Byts', 'Idle Min', 'Idle Std', 'Bwd URG Flags', 'Bwd IAT Min'], 'Adv sample 86': ['ACK Flag Cnt', 'Bwd IAT Max', 'Active Min', 'Down/Up Ratio', 'Init Bwd Win Byts', 'Fwd Byts/b Avg', 'Pkt Len Min', 'Idle Min', 'Tot Fwd Pkts', 'Pkt Size Avg'], 'Adv sample 87': ['SYN Flag Cnt', 'Init Bwd Win Byts', 'Active Min', 'Bwd IAT Mean', 'Active Mean', 'Bwd IAT Std', 'Pkt Len Min', 'Fwd IAT Min', 'Idle Std', 'Bwd Pkts/b Avg'], 'Adv sample 88': ['Bwd Pkts/s', 'Bwd IAT Mean', 'Bwd IAT Min', 'Fwd IAT Min', 'Bwd IAT Tot', 'Init Bwd Win Byts', 'Bwd Pkts/b Avg', 'Bwd Pkt Len Min', 'Pkt Len Max', 'Bwd Seg Size Avg'], 'Adv sample 89': ['ACK Flag Cnt', 'Init Bwd Win Byts', 'Bwd IAT Tot', 'Bwd IAT Max', 'Bwd IAT Min', 'Active Mean', 'Bwd IAT Mean', 'Flow IAT Mean', 'Pkt Len Min', 'Fwd Pkt Len Mean'], 'Adv sample 90': ['SYN Flag Cnt', 'Fwd IAT Min', 'Init Bwd Win Byts', 'Bwd IAT Mean', 'Active Min', 'Active Mean', 'Active Max', 'Bwd IAT Std', 'Fwd Byts/b Avg', 'Bwd IAT Min'], 'Adv sample 91': ['Bwd IAT Mean', 'Idle Std', 'Bwd IAT Min', 'Bwd Pkts/b Avg', 'Fwd Byts/b Avg', 'Init Bwd Win Byts', 'Pkt Len Min', 'Fwd IAT Min', 'Bwd IAT Tot', 'Active Min'], 'Adv sample 92': ['ACK Flag Cnt', 'Bwd IAT Std', 'Init Bwd Win Byts', 'Bwd IAT Max', 'Bwd Pkt Len Min', 'Bwd IAT Mean', 'Flow IAT Std', 'FIN Flag Cnt', 'Fwd IAT Min', 'Flow IAT Mean'], 'Adv sample 93': ['Active Min', 'Active Mean', 'Bwd IAT Mean', 'Fwd Byts/b Avg', 'Idle Std', 'Fwd IAT Mean', 'Bwd IAT Min', 'Pkt Len Min', 'Pkt Len Max', 'Init Bwd Win Byts'], 'Adv sample 94': ['SYN Flag Cnt', 'Active Mean', 'Flow IAT Mean', 'Init Bwd Win Byts', 'Active Max', 'Pkt Size Avg', 'Idle Std', 'Fwd Blk Rate Avg', 'Bwd Pkt Len Min', 'Pkt Len Min'], 'Adv sample 95': ['Bwd Pkts/s', 'Active Min', 'Flow Pkts/s', 'Bwd IAT Tot', 'Bwd IAT Mean', 'Bwd IAT Max', 'Bwd IAT Std', 'Idle Max', 'Init Bwd Win Byts', 'Down/Up Ratio'], 'Adv sample 96': ['Active Mean', 'Active Max', 'Bwd IAT Mean', 'Bwd IAT Min', 'Init Bwd Win Byts', 'Idle Min', 'Pkt Len Min', 'Down/Up Ratio', 'Fwd Blk Rate Avg', 'Bwd Pkt Len Min'], 'Adv sample 97': ['ACK Flag Cnt', 'Active Mean', 'Init Bwd Win Byts', 'Active Max', 'Idle Std', 'Active Min', 'Bwd IAT Std', 'Fwd IAT Min', 'Fwd Byts/b Avg', 'Bwd IAT Tot'], 'Adv sample 98': ['Active Min', 'Active Mean', 'Init Bwd Win Byts', 'Bwd IAT Min', 'Active Max', 'Fwd Byts/b Avg', 'Idle Min', 'Bwd IAT Tot', 'Bwd IAT Mean', 'Down/Up Ratio'], 'Adv sample 99': ['Bwd IAT Mean', 'Active Min', 'Active Mean', 'Bwd IAT Std', 'Fwd IAT Min', 'Idle Std', 'Init Bwd Win Byts', 'Active Max', 'Idle Max', 'Bwd IAT Max'], 'Adv sample 100': ['ACK Flag Cnt', 'Fwd IAT Min', 'Fwd Byts/b Avg', 'Flow Pkts/s', 'Init Bwd Win Byts', 'FIN Flag Cnt', 'Active Max', 'Fwd IAT Mean', 'Pkt Len Mean', 'Tot Fwd Pkts'], 'Adv sample 101': ['Active Max', 'Init Bwd Win Byts', 'Active Mean', 'Active Min', 'Pkt Len Min', 'Bwd IAT Mean', 'Bwd Pkts/b Avg', 'Fwd IAT Min', 'Idle Std', 'Fwd Byts/b Avg'], 'Adv sample 102': ['Idle Std', 'Init Bwd Win Byts', 'ACK Flag Cnt', 'Bwd IAT Std', 'Active Mean', 'Active Min', 'Fwd IAT Min', 'Active Max', 'Pkt Len Min', 'Down/Up Ratio'], 'Adv sample 103': ['Bwd Pkts/s', 'Bwd IAT Mean', 'Flow Pkts/s', 'Active Mean', 'Bwd IAT Max', 'Bwd IAT Min', 'Active Min', 'Init Bwd Win Byts', 'Active Max', 'Idle Max'], 'Adv sample 104': ['SYN Flag Cnt', 'Bwd IAT Min', 'Init Bwd Win Byts', 'Active Min', 'Fwd Pkts/b Avg', 'Bwd IAT Mean', 'Flow Pkts/s', 'Pkt Len Min', 'Bwd Pkts/b Avg', 'Fwd IAT Min'], 'Adv sample 105': ['SYN Flag Cnt', 'Idle Std', 'Fwd Byts/b Avg', 'Bwd IAT Min', 'Init Bwd Win Byts', 'Fwd Blk Rate Avg', 'Pkt Len Min', 'Bwd IAT Mean', 'Bwd Seg Size Avg', 'Active Mean'], 'Adv sample 106': ['ACK Flag Cnt', 'Active Max', 'Idle Min', 'Idle Max', 'Init Bwd Win Byts', 'PSH Flag Cnt', 'Pkt Len Mean', 'Fwd Byts/b Avg', 'Pkt Len Std', 'Idle Mean'], 'Adv sample 107': ['Bwd IAT Mean', 'Active Mean', 'Fwd Byts/b Avg', 'Active Min', 'Bwd IAT Min', 'Bwd Pkts/b Avg', 'Bwd IAT Max', 'Pkt Len Min', 'Init Bwd Win Byts', 'Idle Min'], 'Adv sample 108': ['ACK Flag Cnt', 'Fwd Blk Rate Avg', 'Bwd IAT Tot', 'Idle Min', 'Bwd Pkt Len Min', 'Init Bwd Win Byts', 'Pkt Len Std', 'Down/Up Ratio', 'Fwd Pkt Len Std', 'Pkt Len Min'], 'Adv sample 109': ['ACK Flag Cnt', 'Active Mean', 'Active Max', 'Fwd IAT Min', 'Fwd Byts/b Avg', 'Bwd IAT Std', 'Init Bwd Win Byts', 'Fwd Pkt Len Std', 'Fwd Pkt Len Max', 'Pkt Len Var'], 'Adv sample 110': ['ACK Flag Cnt', 'Bwd IAT Min', 'Active Max', 'Bwd IAT Std', 'Fwd IAT Min', 'Active Mean', 'Active Min', 'Init Bwd Win Byts', 'Bwd IAT Mean', 'Bwd IAT Max'], 'Adv sample 111': ['Active Max', 'Bwd IAT Tot', 'Bwd IAT Max', 'Init Bwd Win Byts', 'Fwd IAT Min', 'Bwd Pkts/b Avg', 'Fwd Byts/b Avg', 'Pkt Len Min', 'Idle Max', 'Pkt Size Avg'], 'Adv sample 112': ['SYN Flag Cnt', 'Active Min', 'Bwd IAT Std', 'Active Mean', 'Bwd IAT Mean', 'Idle Std', 'Init Bwd Win Byts', 'Bwd IAT Max', 'Fwd IAT Min', 'Fwd Byts/b Avg'], 'Adv sample 113': ['ACK Flag Cnt', 'Init Bwd Win Byts', 'Active Min', 'Bwd IAT Std', 'Fwd Byts/b Avg', 'Active Mean', 'Fwd Pkts/b Avg', 'Fwd IAT Min', 'Idle Min', 'Flow Pkts/s'], 'Adv sample 114': ['Idle Std', 'Fwd IAT Min', 'Active Max', 'Bwd IAT Std', 'Idle Max', 'Init Bwd Win Byts', 'Down/Up Ratio', 'Pkt Len Min', 'Bwd Pkts/b Avg', 'Bwd IAT Mean'], 'Adv sample 115': ['Bwd IAT Mean', 'Fwd IAT Min', 'Active Mean', 'Bwd Pkts/b Avg', 'Fwd Byts/b Avg', 'Active Min', 'Init Bwd Win Byts', 'Bwd IAT Min', 'Pkt Len Min', 'Bwd IAT Tot'], 'Adv sample 116': ['Active Min', 'Active Mean', 'Bwd IAT Max', 'Bwd IAT Mean', 'Bwd IAT Tot', 'Init Bwd Win Byts', 'Bwd Pkts/s', 'Pkt Len Min', 'Active Max', 'Fwd IAT Min'], 'Adv sample 117': ['ACK Flag Cnt', 'Active Max', 'Active Mean', 'Idle Min', 'Idle Max', 'Bwd IAT Tot', 'Fwd Byts/b Avg', 'Bwd IAT Mean', 'Tot Fwd Pkts', 'Down/Up Ratio'], 'Adv sample 118': ['Bwd IAT Min', 'Active Max', 'Active Mean', 'Init Bwd Win Byts', 'Active Min', 'Pkt Len Min', 'Bwd PSH Flags', 'Fwd Blk Rate Avg', 'Down/Up Ratio', 'Pkt Size Avg'], 'Adv sample 119': ['Active Min', 'Bwd Pkts/s', 'Flow Pkts/s', 'Bwd IAT Max', 'Bwd IAT Min', 'Bwd IAT Mean', 'Init Bwd Win Byts', 'Pkt Len Min', 'Down/Up Ratio', 'TotLen Bwd Pkts'], 'Adv sample 120': ['ACK Flag Cnt', 'Bwd IAT Min', 'Fwd IAT Min', 'Down/Up Ratio', 'Bwd Pkts/b Avg', 'Init Bwd Win Byts', 'Bwd IAT Tot', 'Pkt Len Min', 'Active Max', 'Fwd Byts/b Avg'], 'Adv sample 121': ['ACK Flag Cnt', 'Bwd IAT Std', 'Active Mean', 'Bwd IAT Tot', 'Active Max', 'Bwd IAT Max', 'Flow IAT Mean', 'Fwd Pkt Len Mean', 'Init Bwd Win Byts', 'Active Min'], 'Adv sample 122': ['SYN Flag Cnt', 'Bwd IAT Min', 'Active Mean', 'Fwd Byts/b Avg', 'Bwd Pkts/b Avg', 'Idle Std', 'Subflow Bwd Pkts', 'Init Bwd Win Byts', 'Subflow Fwd Pkts', 'Bwd Pkt Len Min'], 'Adv sample 123': ['SYN Flag Cnt', 'Bwd IAT Mean', 'Fwd Byts/b Avg', 'Idle Std', 'Fwd IAT Min', 'Bwd Pkts/b Avg', 'Bwd IAT Min', 'Init Bwd Win Byts', 'Pkt Len Min', 'Bwd IAT Tot'], 'Adv sample 124': ['ACK Flag Cnt', 'Bwd IAT Std', 'Bwd IAT Max', 'Flow IAT Std', 'Flow IAT Mean', 'Init Bwd Win Byts', 'Pkt Len Std', 'Bwd Pkt Len Min', 'Fwd Header Len', 'Bwd Pkt Len Std'], 'Adv sample 125': ['Fwd IAT Min', 'Active Mean', 'Bwd IAT Mean', 'Bwd IAT Max', 'Init Bwd Win Byts', 'Pkt Len Min', 'Bwd IAT Tot', 'Fwd Blk Rate Avg', 'Bwd Pkt Len Min', 'Idle Max'], 'Adv sample 126': ['Active Mean', 'Bwd IAT Max', 'Bwd IAT Mean', 'Fwd IAT Min', 'Active Max', 'Init Bwd Win Byts', 'Bwd IAT Tot', 'Bwd Pkts/s', 'Pkt Len Max', 'Fwd Blk Rate Avg'], 'Adv sample 127': ['Bwd Pkts/s', 'Flow Pkts/s', 'Bwd IAT Mean', 'Bwd IAT Max', 'Active Min', 'Bwd IAT Std', 'Init Bwd Win Byts', 'Down/Up Ratio', 'Bwd IAT Tot', 'Active Mean'], 'Adv sample 128': ['SYN Flag Cnt', 'Active Min', 'Active Mean', 'Active Max', 'Init Bwd Win Byts', 'Fwd Byts/b Avg', 'Idle Std', 'Pkt Len Min', 'Bwd IAT Min', 'Pkt Len Std'], 'Adv sample 129': ['Bwd IAT Min', 'Bwd IAT Tot', 'Bwd IAT Mean', 'Fwd IAT Min', 'Pkt Len Min', 'Fwd Byts/b Avg', 'Init Bwd Win Byts', 'Fwd Pkts/b Avg', 'Bwd Pkts/b Avg', 'Bwd Pkt Len Mean'], 'Adv sample 130': ['Active Mean', 'Active Min', 'Init Bwd Win Byts', 'Active Max', 'Down/Up Ratio', 'Pkt Len Min', 'Bwd IAT Std', 'Idle Max', 'Idle Mean', 'Idle Min'], 'Adv sample 131': ['Bwd Pkts/b Avg', 'Bwd IAT Mean', 'Active Min', 'Fwd Byts/b Avg', 'Active Mean', 'Init Bwd Win Byts', 'Active Max', 'Pkt Len Min', 'Fwd IAT Min', 'Pkt Len Max'], 'Adv sample 132': ['Active Max', 'Active Min', 'Bwd IAT Min', 'Active Mean', 'Init Bwd Win Byts', 'Fwd IAT Min', 'Pkt Len Min', 'Fwd Byts/b Avg', 'Fwd Act Data Pkts', 'Bwd Pkt Len Std'], 'Adv sample 133': ['Bwd IAT Std', 'Fwd Byts/b Avg', 'Bwd IAT Max', 'Fwd IAT Min', 'Bwd IAT Min', 'Bwd Pkts/b Avg', 'Init Bwd Win Byts', 'Pkt Len Min', 'Idle Mean', 'Idle Min'], 'Adv sample 134': ['SYN Flag Cnt', 'Init Bwd Win Byts', 'Active Max', 'Bwd IAT Std', 'Bwd IAT Mean', 'Active Min', 'Active Mean', 'Bwd IAT Max', 'Fwd IAT Min', 'Fwd Byts/b Avg'], 'Adv sample 135': ['Bwd IAT Std', 'Bwd IAT Min', 'Fwd Byts/b Avg', 'Bwd IAT Mean', 'Bwd IAT Max', 'Init Bwd Win Byts', 'Pkt Len Min', 'Active Min', 'Idle Std', 'Pkt Len Std'], 'Adv sample 136': ['SYN Flag Cnt', 'Bwd IAT Mean', 'Idle Std', 'Active Min', 'Init Bwd Win Byts', 'Bwd IAT Std', 'Active Mean', 'Pkt Len Min', 'Bwd IAT Tot', 'Bwd IAT Min'], 'Adv sample 137': ['URG Flag Cnt', 'Bwd URG Flags', 'Bwd IAT Std', 'Init Bwd Win Byts', 'PSH Flag Cnt', 'FIN Flag Cnt', 'Pkt Len Min', 'Pkt Len Mean', 'Fwd Byts/b Avg', 'Down/Up Ratio'], 'Adv sample 138': ['ACK Flag Cnt', 'Bwd IAT Std', 'Active Mean', 'Active Max', 'Init Bwd Win Byts', 'Flow IAT Std', 'Flow IAT Mean', 'Pkt Len Min', 'Bwd IAT Min', 'Fwd Pkts/s'], 'Adv sample 139': ['Active Mean', 'Init Bwd Win Byts', 'Bwd Pkts/b Avg', 'Bwd IAT Mean', 'Active Min', 'Bwd IAT Min', 'Active Max', 'Idle Std', 'Pkt Len Min', 'Fwd Byts/b Avg'], 'Adv sample 140': ['Active Min', 'Active Mean', 'ACK Flag Cnt', 'Init Bwd Win Byts', 'Active Max', 'Idle Std', 'Fwd IAT Min', 'Bwd IAT Std', 'Pkt Len Mean', 'Bwd IAT Max'], 'Adv sample 141': ['SYN Flag Cnt', 'Init Bwd Win Byts', 'Bwd IAT Tot', 'Pkt Len Min', 'Down/Up Ratio', 'Bwd Byts/b Avg', 'Fwd IAT Std', 'Flow IAT Max', 'Pkt Len Mean', 'Fwd Pkt Len Std'], 'Adv sample 142': ['SYN Flag Cnt', 'Bwd IAT Min', 'Idle Std', 'Active Min', 'Init Bwd Win Byts', 'Active Mean', 'Fwd Byts/b Avg', 'Active Max', 'Pkt Len Min', 'Bwd Pkts/b Avg'], 'Adv sample 143': ['Bwd Pkts/s', 'Bwd IAT Mean', 'Fwd IAT Min', 'Flow Pkts/s', 'Active Mean', 'Pkt Len Min', 'Init Bwd Win Byts', 'Bwd IAT Tot', 'Pkt Len Std', 'Flow IAT Std'], 'Adv sample 144': ['Active Mean', 'ACK Flag Cnt', 'Active Min', 'Fwd IAT Mean', 'Fwd Pkt Len Max', 'TotLen Fwd Pkts', 'Idle Max', 'Bwd Pkt Len Std', 'Fwd Blk Rate Avg', 'Subflow Bwd Byts'], 'Adv sample 145': ['Active Min', 'Active Mean', 'ACK Flag Cnt', 'Init Bwd Win Byts', 'Active Max', 'Bwd IAT Std', 'Idle Std', 'Bwd IAT Max', 'Pkt Len Mean', 'Fwd IAT Min'], 'Adv sample 146': ['Active Max', 'Bwd IAT Max', 'Bwd IAT Std', 'Idle Std', 'Fwd Byts/b Avg', 'Fwd IAT Min', 'Idle Min', 'Init Bwd Win Byts', 'Pkt Len Min', 'Flow Byts/s'], 'Adv sample 147': ['SYN Flag Cnt', 'Bwd IAT Std', 'Active Max', 'Init Bwd Win Byts', 'Bwd IAT Mean', 'Active Mean', 'Pkt Len Min', 'Active Min', 'Fwd Byts/b Avg', 'Fwd IAT Min'], 'Adv sample 148': ['SYN Flag Cnt', 'Bwd Pkts/b Avg', 'Active Mean', 'Init Bwd Win Byts', 'Bwd IAT Mean', 'Fwd IAT Mean', 'Pkt Len Min', 'Tot Fwd Pkts', 'Fwd Blk Rate Avg', 'Fwd Header Len'], 'Adv sample 149': ['Bwd IAT Mean', 'Active Min', 'Active Mean', 'Active Max', 'Init Bwd Win Byts', 'Idle Min', 'Pkt Len Min', 'Pkt Size Avg', 'Down/Up Ratio', 'Fwd Blk Rate Avg'], 'Adv sample 150': ['ACK Flag Cnt', 'Fwd IAT Min', 'Bwd IAT Std', 'Init Bwd Win Byts', 'Bwd PSH Flags', 'Fwd Byts/b Avg', 'Active Min', 'Idle Std', 'Bwd IAT Mean', 'Active Max'], 'Adv sample 151': ['ACK Flag Cnt', 'Fwd IAT Min', 'Active Max', 'Fwd Byts/b Avg', 'Init Bwd Win Byts', 'FIN Flag Cnt', 'Flow Pkts/s', 'Bwd Pkt Len Min', 'Bwd Seg Size Avg', 'Pkt Len Max'], 'Adv sample 152': ['SYN Flag Cnt', 'Bwd IAT Mean', 'Idle Std', 'Bwd Pkts/b Avg', 'Fwd IAT Mean', 'Init Bwd Win Byts', 'Bwd IAT Max', 'Fwd IAT Min', 'Bwd Pkt Len Min', 'Down/Up Ratio'], 'Adv sample 153': ['SYN Flag Cnt', 'Fwd Byts/b Avg', 'Init Bwd Win Byts', 'Idle Std', 'Bwd Byts/b Avg', 'Bwd IAT Tot', 'Pkt Len Mean', 'Pkt Len Min', 'Fwd Header Len', 'Bwd Seg Size Avg'], 'Adv sample 154': ['Active Min', 'Flow Pkts/s', 'Bwd Pkts/s', 'Bwd IAT Max', 'Bwd IAT Std', 'Active Mean', 'Bwd IAT Mean', 'Fwd IAT Min', 'Init Bwd Win Byts', 'Down/Up Ratio'], 'Adv sample 155': ['SYN Flag Cnt', 'Bwd IAT Mean', 'Bwd Pkts/b Avg', 'Idle Std', 'Init Bwd Win Byts', 'Fwd IAT Min', 'Active Max', 'Fwd Byts/b Avg', 'Flow Pkts/s', 'Fwd Blk Rate Avg'], 'Adv sample 156': ['ACK Flag Cnt', 'Bwd IAT Max', 'Bwd IAT Tot', 'Flow IAT Std', 'Init Bwd Win Byts', 'Flow Pkts/s', 'Active Mean', 'Bwd Pkt Len Mean', 'Flow IAT Mean', 'Bwd Header Len'], 'Adv sample 157': ['ACK Flag Cnt', 'Active Max', 'Active Mean', 'Fwd IAT Min', 'Fwd Byts/b Avg', 'Init Bwd Win Byts', 'Bwd IAT Tot', 'Pkt Len Min', 'Fwd Pkts/b Avg', 'Pkt Len Max'], 'Adv sample 158': ['SYN Flag Cnt', 'Active Mean', 'Bwd IAT Min', 'Bwd IAT Std', 'Init Bwd Win Byts', 'Bwd Pkt Len Mean', 'URG Flag Cnt', 'Fwd Blk Rate Avg', 'Idle Std', 'Down/Up Ratio'], 'Adv sample 159': ['ACK Flag Cnt', 'Active Max', 'Idle Min', 'Idle Max', 'Idle Std', 'Active Mean', 'Down/Up Ratio', 'Init Bwd Win Byts', 'Pkt Len Min', 'Bwd Pkt Len Min'], 'Adv sample 160': ['Active Max', 'Bwd IAT Mean', 'Fwd Byts/b Avg', 'Init Bwd Win Byts', 'Idle Min', 'Idle Mean', 'Flow IAT Min', 'Fwd Act Data Pkts', 'Bwd Pkts/b Avg', 'Pkt Len Min'], 'Adv sample 161': ['Bwd Pkts/s', 'Bwd IAT Mean', 'Flow Pkts/s', 'Fwd IAT Min', 'Active Mean', 'Active Min', 'Bwd IAT Tot', 'Init Bwd Win Byts', 'Bwd IAT Std', 'Bwd IAT Max'], 'Adv sample 162': ['Bwd IAT Mean', 'Active Mean', 'Fwd Byts/b Avg', 'Pkt Len Min', 'Init Bwd Win Byts', 'Bwd IAT Tot', 'Idle Std', 'Flow IAT Max', 'Fwd Pkt Len Min', 'Fwd Header Len'], 'Adv sample 163': ['ACK Flag Cnt', 'Active Mean', 'Fwd IAT Min', 'Init Bwd Win Byts', 'Active Max', 'Pkt Len Min', 'Idle Min', 'Fwd Blk Rate Avg', 'Pkt Len Mean', 'Down/Up Ratio'], 'Adv sample 164': ['Bwd IAT Min', 'Fwd Byts/b Avg', 'Fwd IAT Min', 'Active Min', 'Bwd IAT Mean', 'Active Max', 'Active Mean', 'Init Bwd Win Byts', 'Pkt Len Min', 'Bwd IAT Max'], 'Adv sample 165': ['Bwd Pkts/s', 'Flow Pkts/s', 'Bwd IAT Mean', 'Init Bwd Win Byts', 'Bwd IAT Tot', 'Bwd IAT Std', 'Pkt Len Min', 'Bwd IAT Max', 'Active Mean', 'Down/Up Ratio'], 'Adv sample 166': ['Bwd Pkts/s', 'Active Mean', 'Init Bwd Win Byts', 'Flow Pkts/s', 'Fwd IAT Min', 'Active Min', 'Bwd Header Len', 'Active Max', 'Flow Duration', 'Pkt Len Min'], 'Adv sample 167': ['ACK Flag Cnt', 'Active Mean', 'Init Bwd Win Byts', 'Idle Min', 'Bwd IAT Std', 'Active Min', 'Pkt Len Min', 'Bwd IAT Max', 'Idle Max', 'Fwd Byts/b Avg'], 'Adv sample 168': ['ACK Flag Cnt', 'Bwd IAT Std', 'FIN Flag Cnt', 'Init Bwd Win Byts', 'Fwd IAT Min', 'Active Mean', 'Down/Up Ratio', 'Bwd IAT Min', 'Active Min', 'Flow Pkts/s'], 'Adv sample 169': ['Active Max', 'ACK Flag Cnt', 'Down/Up Ratio', 'Idle Std', 'Init Bwd Win Byts', 'Pkt Len Min', 'FIN Flag Cnt', 'Flow IAT Std', 'Subflow Fwd Byts', 'Fwd Pkts/s'], 'Adv sample 170': ['ACK Flag Cnt', 'Active Max', 'Init Bwd Win Byts', 'Active Mean', 'Fwd IAT Min', 'Active Min', 'Bwd IAT Std', 'Idle Std', 'Bwd IAT Max', 'Bwd IAT Tot'], 'Adv sample 171': ['ACK Flag Cnt', 'Active Max', 'Bwd IAT Max', 'Init Bwd Win Byts', 'Fwd IAT Min', 'Pkt Size Avg', 'Bwd Pkt Len Std', 'TotLen Bwd Pkts', 'Fwd Seg Size Avg', 'Fwd Byts/b Avg'], 'Adv sample 172': ['ACK Flag Cnt', 'FIN Flag Cnt', 'Init Bwd Win Byts', 'Bwd IAT Std', 'Bwd IAT Max', 'Active Max', 'Active Min', 'Active Mean', 'Pkt Len Mean', 'Bwd IAT Min'], 'Adv sample 173': ['ACK Flag Cnt', 'Active Max', 'Fwd IAT Min', 'Init Bwd Win Byts', 'Bwd IAT Std', 'Active Mean', 'Active Min', 'Idle Min', 'Fwd Byts/b Avg', 'Bwd IAT Mean'], 'Adv sample 174': ['Bwd IAT Min', 'Bwd IAT Mean', 'Active Min', 'Active Mean', 'Init Bwd Win Byts', 'Pkt Len Min', 'Tot Fwd Pkts', 'Fwd Pkt Len Mean', 'Subflow Fwd Pkts', 'Down/Up Ratio'], 'Adv sample 175': ['SYN Flag Cnt', 'Init Bwd Win Byts', 'Bwd Pkts/b Avg', 'Active Mean', 'Pkt Len Min', 'Fwd Byts/b Avg', 'Flow Byts/s', 'Down/Up Ratio', 'Tot Bwd Pkts', 'Flow IAT Max'], 'Adv sample 176': ['URG Flag Cnt', 'Bwd URG Flags', 'Init Bwd Win Byts', 'Bwd IAT Std', 'Down/Up Ratio', 'FIN Flag Cnt', 'Active Min', 'Bwd IAT Min', 'Bwd IAT Tot', 'Bwd IAT Mean'], 'Adv sample 177': ['SYN Flag Cnt', 'Bwd IAT Max', 'Bwd IAT Mean', 'Bwd IAT Tot', 'Bwd IAT Min', 'Init Bwd Win Byts', 'Active Max', 'Bwd Pkt Len Mean', 'Pkt Len Min', 'Down/Up Ratio'], 'Adv sample 178': ['Active Mean', 'Bwd IAT Mean', 'Active Max', 'Fwd IAT Min', 'Init Bwd Win Byts', 'Bwd IAT Tot', 'Bwd Pkts/b Avg', 'Bwd IAT Max', 'Fwd Blk Rate Avg', 'Pkt Len Var'], 'Adv sample 179': ['SYN Flag Cnt', 'Init Bwd Win Byts', 'Bwd IAT Min', 'Bwd IAT Max', 'Active Min', 'Active Mean', 'Bwd IAT Std', 'Fwd IAT Min', 'Idle Std', 'Flow Byts/s'], 'Adv sample 180': ['Active Mean', 'Active Min', 'Bwd IAT Mean', 'Init Bwd Win Byts', 'Active Max', 'Fwd IAT Min', 'Pkt Len Min', 'Bwd IAT Std', 'Idle Mean', 'Idle Std'], 'Adv sample 181': ['Bwd Pkts/s', 'Bwd IAT Tot', 'Bwd IAT Mean', 'Flow Pkts/s', 'Active Min', 'Init Bwd Win Byts', 'Bwd IAT Max', 'Down/Up Ratio', 'Pkt Len Min', 'Active Mean'], 'Adv sample 182': ['Bwd IAT Mean', 'Bwd IAT Std', 'Fwd IAT Min', 'Active Mean', 'Init Bwd Win Byts', 'Bwd Pkts/b Avg', 'Fwd Byts/b Avg', 'Pkt Len Mean', 'Fwd Seg Size Avg', 'Pkt Len Min'], 'Adv sample 183': ['ACK Flag Cnt', 'Bwd IAT Tot', 'Bwd IAT Std', 'Init Bwd Win Byts', 'Active Mean', 'Bwd IAT Max', 'Flow IAT Std', 'Fwd IAT Min', 'Flow Pkts/s', 'Fwd Byts/b Avg'], 'Adv sample 184': ['Fwd IAT Min', 'Init Bwd Win Byts', 'Active Max', 'Pkt Len Min', 'Fwd Byts/b Avg', 'Idle Min', 'Idle Max', 'Bwd Pkts/b Avg', 'Bwd Pkt Len Max', 'Flow IAT Max'], 'Adv sample 185': ['Active Mean', 'Bwd IAT Mean', 'Bwd IAT Tot', 'Init Bwd Win Byts', 'Fwd Blk Rate Avg', 'Down/Up Ratio', 'Pkt Len Min', 'Flow IAT Std', 'Bwd Pkt Len Min', 'Flow IAT Mean'], 'Adv sample 186': ['Bwd IAT Min', 'Bwd IAT Std', 'Idle Max', 'Init Bwd Win Byts', 'Fwd Byts/b Avg', 'Idle Min', 'Bwd IAT Tot', 'Bwd Header Len', 'Fwd Pkts/b Avg', 'Bwd Pkts/b Avg'], 'Adv sample 187': ['Bwd IAT Min', 'Active Mean', 'Active Max', 'Init Bwd Win Byts', 'Idle Min', 'Pkt Len Std', 'Fwd Byts/b Avg', 'Flow IAT Max', 'Fwd Blk Rate Avg', 'Fwd IAT Min'], 'Adv sample 188': ['SYN Flag Cnt', 'Active Min', 'Active Mean', 'Bwd IAT Mean', 'Bwd IAT Std', 'Init Bwd Win Byts', 'Active Max', 'Fwd Byts/b Avg', 'Idle Std', 'Pkt Len Min'], 'Adv sample 189': ['SYN Flag Cnt', 'Bwd IAT Std', 'Active Mean', 'Init Bwd Win Byts', 'Fwd Byts/b Avg', 'Bwd IAT Mean', 'Idle Std', 'Flow IAT Max', 'Fwd Seg Size Avg', 'Bwd Byts/b Avg'], 'Adv sample 190': ['Bwd Pkts/s', 'Flow Pkts/s', 'Bwd IAT Min', 'Bwd IAT Mean', 'Init Bwd Win Byts', 'Active Mean', 'Down/Up Ratio', 'Active Min', 'Bwd IAT Tot', 'Pkt Len Min'], 'Adv sample 191': ['ACK Flag Cnt', 'Active Min', 'Active Mean', 'Init Bwd Win Byts', 'Bwd PSH Flags', 'Fwd IAT Min', 'Bwd IAT Std', 'Flow IAT Mean', 'Pkt Len Min', 'Active Max'], 'Adv sample 192': ['Active Min', 'Bwd IAT Std', 'Active Max', 'Bwd IAT Mean', 'Fwd IAT Min', 'Active Mean', 'Init Bwd Win Byts', 'Bwd IAT Max', 'Idle Std', 'Pkt Len Min'], 'Adv sample 193': ['Bwd IAT Std', 'Active Min', 'Init Bwd Win Byts', 'Active Max', 'Active Mean', 'Pkt Len Min', 'Bwd IAT Max', 'Bwd IAT Mean', 'Fwd Byts/b Avg', 'Bwd IAT Min'], 'Adv sample 194': ['ACK Flag Cnt', 'Bwd IAT Std', 'Bwd IAT Tot', 'Fwd IAT Min', 'Init Bwd Win Byts', 'Bwd IAT Mean', 'Active Mean', 'Flow IAT Mean', 'Idle Std', 'Bwd IAT Max'], 'Adv sample 195': ['Bwd IAT Min', 'Active Max', 'Active Mean', 'Bwd IAT Mean', 'Active Min', 'Init Bwd Win Byts', 'Idle Std', 'Fwd IAT Min', 'Fwd Byts/b Avg', 'Bwd IAT Max'], 'Adv sample 196': ['Active Mean', 'Active Min', 'Bwd IAT Min', 'Init Bwd Win Byts', 'Active Max', 'Bwd IAT Max', 'Fwd Byts/b Avg', 'Pkt Len Min', 'Down/Up Ratio', 'Bwd IAT Std'], 'Adv sample 197': ['SYN Flag Cnt', 'Bwd IAT Std', 'Bwd IAT Min', 'Fwd IAT Min', 'Init Bwd Win Byts', 'Bwd IAT Mean', 'Bwd Pkts/b Avg', 'Active Max', 'Active Min', 'Pkt Len Min'], 'Adv sample 198': ['ACK Flag Cnt', 'Bwd IAT Max', 'Flow IAT Std', 'Bwd IAT Std', 'Active Mean', 'Flow IAT Mean', 'Flow Pkts/s', 'Init Bwd Win Byts', 'Pkt Len Min', 'Active Max'], 'Adv sample 199': ['Bwd Pkts/s', 'Bwd IAT Mean', 'Flow Pkts/s', 'Bwd IAT Max', 'Active Min', 'Bwd IAT Tot', 'Active Mean', 'Init Bwd Win Byts', 'Idle Max', 'Active Max'], 'Adv sample 200': ['Bwd Pkts/s', 'Flow Pkts/s', 'Bwd IAT Std', 'Down/Up Ratio', 'Init Bwd Win Byts', 'Bwd IAT Max', 'Pkt Len Min', 'Idle Max', 'Bwd IAT Min', 'Bwd IAT Mean'], 'Adv sample 201': ['Active Mean', 'Active Max', 'Bwd IAT Min', 'Bwd IAT Std', 'Init Bwd Win Byts', 'Bwd IAT Mean', 'Active Min', 'Fwd Byts/b Avg', 'Pkt Len Min', 'Bwd IAT Max'], 'Adv sample 202': ['SYN Flag Cnt', 'Init Bwd Win Byts', 'Active Max', 'Bwd IAT Std', 'Active Min', 'Active Mean', 'Fwd IAT Min', 'Bwd IAT Min', 'Bwd Pkts/b Avg', 'Fwd Blk Rate Avg'], 'Adv sample 203': ['Active Max', 'ACK Flag Cnt', 'Bwd IAT Tot', 'Idle Std', 'Down/Up Ratio', 'Init Bwd Win Byts', 'Bwd IAT Min', 'Pkt Len Min', 'Flow Duration', 'Bwd URG Flags'], 'Adv sample 204': ['Bwd IAT Mean', 'Bwd IAT Max', 'Idle Max', 'Init Bwd Win Byts', 'Down/Up Ratio', 'Fwd Blk Rate Avg', 'Active Min', 'Active Mean', 'Pkt Len Std', 'Idle Min'], 'Adv sample 205': ['Active Max', 'Active Min', 'Active Mean', 'Init Bwd Win Byts', 'Bwd IAT Max', 'Bwd IAT Std', 'Pkt Len Min', 'Bwd IAT Tot', 'Fwd Byts/b Avg', 'Down/Up Ratio'], 'Adv sample 206': ['Bwd IAT Min', 'Bwd IAT Mean', 'Init Bwd Win Byts', 'Fwd Byts/b Avg', 'Active Min', 'Fwd IAT Mean', 'Active Max', 'Active Mean', 'Fwd IAT Min', 'Bwd IAT Std'], 'Adv sample 207': ['SYN Flag Cnt', 'Init Bwd Win Byts', 'Bwd IAT Std', 'Active Max', 'Pkt Len Min', 'Bwd IAT Max', 'Idle Std', 'Bwd Pkts/b Avg', 'Pkt Size Avg', 'Pkt Len Std'], 'Adv sample 208': ['Active Mean', 'Active Min', 'Init Bwd Win Byts', 'Active Max', 'Fwd Byts/b Avg', 'Bwd IAT Max', 'Bwd Pkts/b Avg', 'Pkt Len Min', 'Bwd IAT Mean', 'Pkt Size Avg'], 'Adv sample 209': ['SYN Flag Cnt', 'Active Min', 'Bwd IAT Mean', 'Active Mean', 'Init Bwd Win Byts', 'Active Max', 'Bwd Pkts/b Avg', 'Fwd IAT Min', 'Pkt Len Min', 'Idle Std'], 'Adv sample 210': ['Bwd Pkts/s', 'Bwd IAT Max', 'Flow Pkts/s', 'Idle Std', 'Idle Max', 'Active Max', 'Idle Min', 'Pkt Len Min', 'Fwd Byts/b Avg', 'Down/Up Ratio'], 'Adv sample 211': ['SYN Flag Cnt', 'Active Min', 'Idle Std', 'Flow IAT Mean', 'Bwd IAT Std', 'Bwd IAT Mean', 'Active Mean', 'Down/Up Ratio', 'Fwd IAT Min', 'Fwd Byts/b Avg'], 'Adv sample 212': ['Bwd Pkts/s', 'Active Mean', 'Flow Pkts/s', 'Fwd IAT Min', 'Bwd IAT Max', 'Active Max', 'Bwd IAT Tot', 'Bwd IAT Mean', 'Init Bwd Win Byts', 'Bwd IAT Std'], 'Adv sample 213': ['Active Mean', 'Bwd IAT Max', 'Fwd IAT Min', 'Bwd IAT Tot', 'Active Min', 'Init Bwd Win Byts', 'Active Max', 'Bwd IAT Mean', 'Pkt Len Min', 'Down/Up Ratio'], 'Adv sample 214': ['ACK Flag Cnt', 'Active Max', 'Init Bwd Win Byts', 'Fwd IAT Min', 'FIN Flag Cnt', 'Pkt Len Max', 'Down/Up Ratio', 'Pkt Size Avg', 'Bwd URG Flags', 'Fwd Blk Rate Avg'], 'Adv sample 215': ['SYN Flag Cnt', 'Active Mean', 'Active Max', 'Init Bwd Win Byts', 'Bwd IAT Min', 'Fwd Byts/b Avg', 'Idle Std', 'Pkt Len Min', 'Bwd Pkts/b Avg', 'Fwd Pkt Len Mean'], 'Adv sample 216': ['Fwd Byts/b Avg', 'Bwd IAT Mean', 'Bwd Pkts/b Avg', 'Init Bwd Win Byts', 'Fwd Blk Rate Avg', 'Pkt Len Min', 'Bwd Seg Size Avg', 'Fwd Pkts/b Avg', 'Pkt Size Avg', 'Pkt Len Std'], 'Adv sample 217': ['URG Flag Cnt', 'Bwd URG Flags', 'Init Bwd Win Byts', 'FIN Flag Cnt', 'Bwd IAT Min', 'Active Max', 'Down/Up Ratio', 'Bwd IAT Mean', 'Active Min', 'Bwd IAT Tot'], 'Adv sample 218': ['Active Mean', 'Bwd Pkts/s', 'Bwd IAT Max', 'Bwd IAT Tot', 'Init Bwd Win Byts', 'Pkt Len Min', 'Down/Up Ratio', 'Bwd IAT Mean', 'Fwd Blk Rate Avg', 'Flow Pkts/s'], 'Adv sample 219': ['ACK Flag Cnt', 'FIN Flag Cnt', 'Active Max', 'Init Bwd Win Byts', 'Fwd Byts/b Avg', 'Pkt Size Avg', 'Bwd Pkt Len Min', 'Bwd Seg Size Avg', 'Bwd IAT Tot', 'Flow Pkts/s'], 'Adv sample 220': ['Active Min', 'Idle Max', 'Active Mean', 'Idle Std', 'Init Bwd Win Byts', 'Down/Up Ratio', 'Pkt Len Min', 'Bwd IAT Tot', 'Bwd Byts/b Avg', 'Bwd IAT Max'], 'Adv sample 221': ['Bwd IAT Min', 'Bwd IAT Mean', 'Active Min', 'Active Mean', 'Init Bwd Win Byts', 'Pkt Len Min', 'Active Max', 'Fwd Byts/b Avg', 'Bwd IAT Tot', 'Bwd Pkts/b Avg'], 'Adv sample 222': ['Active Mean', 'Active Min', 'Bwd IAT Mean', 'Init Bwd Win Byts', 'Active Max', 'Fwd IAT Min', 'Idle Std', 'Idle Max', 'Bwd Pkts/b Avg', 'Down/Up Ratio'], 'Adv sample 223': ['Active Mean', 'Bwd IAT Mean', 'Bwd IAT Max', 'Active Min', 'Bwd IAT Tot', 'Fwd IAT Min', 'Init Bwd Win Byts', 'Active Max', 'Bwd IAT Min', 'Bwd Pkts/b Avg'], 'Adv sample 224': ['SYN Flag Cnt', 'Active Mean', 'Bwd IAT Min', 'Bwd IAT Max', 'Active Max', 'Init Bwd Win Byts', 'Flow IAT Mean', 'Flow Byts/s', 'Pkt Len Min', 'Fwd Byts/b Avg'], 'Adv sample 225': ['SYN Flag Cnt', 'Active Min', 'Bwd IAT Mean', 'Init Bwd Win Byts', 'Bwd IAT Min', 'Idle Std', 'Fwd Byts/b Avg', 'Active Mean', 'Bwd IAT Std', 'Fwd IAT Min'], 'Adv sample 226': ['Bwd IAT Mean', 'Bwd IAT Max', 'Init Bwd Win Byts', 'Active Mean', 'Active Max', 'Bwd IAT Tot', 'Pkt Len Min', 'Down/Up Ratio', 'Pkt Size Avg', 'Fwd Act Data Pkts'], 'Adv sample 227': ['Bwd IAT Min', 'Active Min', 'Active Mean', 'Fwd Byts/b Avg', 'Init Bwd Win Byts', 'Bwd IAT Mean', 'Active Max', 'Fwd IAT Min', 'Bwd Pkts/b Avg', 'Bwd IAT Max'], 'Adv sample 228': ['Bwd IAT Std', 'Fwd IAT Min', 'Bwd Pkts/s', 'Fwd Byts/b Avg', 'Idle Min', 'Init Bwd Win Byts', 'Pkt Len Var', 'Pkt Len Min', 'Bwd Pkt Len Max', 'Subflow Bwd Byts'], 'Adv sample 229': ['Active Max', 'Bwd IAT Mean', 'Bwd IAT Max', 'Fwd Byts/b Avg', 'Fwd IAT Min', 'Init Bwd Win Byts', 'Bwd Pkts/b Avg', 'Idle Max', 'Pkt Len Min', 'Active Mean'], 'Adv sample 230': ['Bwd IAT Min', 'Active Max', 'Fwd Byts/b Avg', 'Bwd IAT Mean', 'Fwd IAT Min', 'Fwd Pkts/b Avg', 'Init Bwd Win Byts', 'Active Mean', 'Pkt Len Min', 'Bwd IAT Max'], 'Adv sample 231': ['ACK Flag Cnt', 'Init Bwd Win Byts', 'Bwd IAT Std', 'Bwd IAT Min', 'Bwd IAT Max', 'Active Max', 'Bwd IAT Mean', 'Flow IAT Mean', 'Active Mean', 'Fwd IAT Min'], 'Adv sample 232': ['Idle Max', 'Bwd IAT Max', 'Fwd Byts/b Avg', 'Init Bwd Win Byts', 'Bwd Pkts/b Avg', 'Pkt Len Min', 'Down/Up Ratio', 'Bwd IAT Tot', 'Idle Mean', 'Pkt Len Max'], 'Adv sample 233': ['Active Min', 'Active Mean', 'Active Max', 'Bwd IAT Mean', 'Init Bwd Win Byts', 'Bwd Pkts/b Avg', 'Pkt Len Min', 'Bwd IAT Max', 'Bwd Pkt Len Mean', 'Down/Up Ratio'], 'Adv sample 234': ['ACK Flag Cnt', 'Active Min', 'Active Mean', 'Active Max', 'Init Bwd Win Byts', 'Fwd IAT Min', 'Pkt Len Min', 'Bwd IAT Mean', 'Fwd Pkt Len Min', 'Bwd Pkt Len Max'], 'Adv sample 235': ['Bwd Pkts/s', 'Bwd IAT Mean', 'Bwd IAT Std', 'Flow Pkts/s', 'Bwd IAT Tot', 'Bwd IAT Max', 'Down/Up Ratio', 'Init Bwd Win Byts', 'Idle Min', 'Idle Mean'], 'Adv sample 236': ['SYN Flag Cnt', 'Active Min', 'Init Bwd Win Byts', 'Bwd IAT Std', 'Bwd IAT Min', 'Bwd IAT Mean', 'Active Max', 'Fwd IAT Min', 'Active Mean', 'Bwd IAT Max'], 'Adv sample 237': ['Active Min', 'Active Mean', 'Bwd IAT Mean', 'Init Bwd Win Byts', 'Bwd Pkts/b Avg', 'Fwd Byts/b Avg', 'Pkt Len Min', 'Fwd IAT Min', 'Pkt Len Std', 'Bwd IAT Max'], 'Adv sample 238': ['ACK Flag Cnt', 'FIN Flag Cnt', 'Init Bwd Win Byts', 'Flow Pkts/s', 'Active Max', 'Fwd Byts/b Avg', 'Fwd IAT Min', 'Bwd IAT Min', 'Bwd IAT Max', 'Bwd IAT Mean'], 'Adv sample 239': ['SYN Flag Cnt', 'Bwd IAT Min', 'Init Bwd Win Byts', 'Active Min', 'Bwd IAT Max', 'Active Max', 'Active Mean', 'Fwd IAT Min', 'Bwd IAT Std', 'Bwd IAT Mean'], 'Adv sample 240': ['SYN Flag Cnt', 'Init Bwd Win Byts', 'Fwd IAT Min', 'Bwd IAT Min', 'Active Min', 'Active Mean', 'Bwd IAT Mean', 'Fwd Byts/b Avg', 'Bwd IAT Std', 'Pkt Len Min'], 'Adv sample 241': ['Bwd IAT Min', 'Active Mean', 'Fwd Byts/b Avg', 'Init Bwd Win Byts', 'Active Max', 'Bwd IAT Mean', 'Bwd Pkts/b Avg', 'Pkt Len Min', 'Fwd IAT Min', 'Bwd Seg Size Avg'], 'Adv sample 242': ['SYN Flag Cnt', 'Bwd IAT Min', 'Idle Std', 'Bwd IAT Mean', 'Active Min', 'Init Bwd Win Byts', 'Fwd Byts/b Avg', 'Bwd Pkts/b Avg', 'Active Max', 'Pkt Len Min'], 'Adv sample 243': ['Bwd Pkts/s', 'Flow Pkts/s', 'Bwd IAT Mean', 'Init Bwd Win Byts', 'Active Min', 'Idle Std', 'Active Max', 'Bwd IAT Std', 'Bwd IAT Tot', 'Fwd IAT Min'], 'Adv sample 244': ['Bwd IAT Std', 'Init Bwd Win Byts', 'Active Min', 'Bwd IAT Min', 'Active Mean', 'Down/Up Ratio', 'Pkt Len Min', 'Active Max', 'Bwd Pkts/b Avg', 'Idle Std'], 'Adv sample 245': ['Active Mean', 'Bwd IAT Mean', 'Fwd IAT Min', 'Bwd IAT Std', 'Init Bwd Win Byts', 'Pkt Len Min', 'Bwd Pkts/s', 'Fwd Pkt Len Mean', 'Bwd Pkts/b Avg', 'Bwd Pkt Len Min'], 'Adv sample 246': ['Bwd IAT Mean', 'Active Mean', 'Active Min', 'Bwd IAT Tot', 'Init Bwd Win Byts', 'Bwd IAT Min', 'Bwd IAT Std', 'Pkt Len Min', 'Idle Max', 'Active Max'], 'Adv sample 247': ['Fwd Byts/b Avg', 'Active Min', 'Bwd Pkts/b Avg', 'Active Mean', 'Idle Min', 'Bwd IAT Max', 'Init Bwd Win Byts', 'Bwd IAT Mean', 'Pkt Len Min', 'Idle Max'], 'Adv sample 248': ['Bwd IAT Std', 'Active Mean', 'Active Min', 'Init Bwd Win Byts', 'Bwd IAT Min', 'Idle Std', 'Active Max', 'Bwd IAT Mean', 'Fwd IAT Min', 'Pkt Len Min'], 'Adv sample 249': ['Bwd Pkts/s', 'Down/Up Ratio', 'Init Bwd Win Byts', 'Active Min', 'Active Max', 'Bwd IAT Std', 'Active Mean', 'Pkt Len Min', 'Idle Max', 'Flow Pkts/s'], 'Adv sample 250': ['Bwd IAT Std', 'Active Max', 'Fwd IAT Min', 'Fwd Byts/b Avg', 'Init Bwd Win Byts', 'Idle Max', 'TotLen Fwd Pkts', 'Pkt Len Max', 'Idle Std', 'Idle Mean'], 'Adv sample 251': ['SYN Flag Cnt', 'Bwd IAT Min', 'Active Max', 'Init Bwd Win Byts', 'Active Mean', 'Bwd IAT Mean', 'Bwd IAT Max', 'Pkt Len Min', 'Bwd IAT Std', 'Active Min'], 'Adv sample 252': ['ACK Flag Cnt', 'Idle Max', 'Fwd Byts/b Avg', 'Init Bwd Win Byts', 'Pkt Len Min', 'Idle Min', 'Pkt Len Std', 'Bwd PSH Flags', 'Fwd Seg Size Avg', 'TotLen Fwd Pkts'], 'Adv sample 253': ['ACK Flag Cnt', 'Init Bwd Win Byts', 'Active Min', 'Bwd IAT Std', 'Bwd IAT Max', 'Fwd IAT Min', 'Bwd IAT Mean', 'Idle Min', 'Bwd Pkt Len Mean', 'Bwd IAT Min'], 'Adv sample 254': ['Active Min', 'Active Mean', 'Bwd IAT Mean', 'Bwd IAT Tot', 'Init Bwd Win Byts', 'Bwd IAT Min', 'Pkt Len Min', 'Fwd Byts/b Avg', 'Bwd IAT Max', 'Down/Up Ratio'], 'Adv sample 255': ['Bwd IAT Std', 'Init Bwd Win Byts', 'Down/Up Ratio', 'Bwd IAT Max', 'Active Min', 'Bwd IAT Min', 'Pkt Len Min', 'Idle Std', 'Bwd IAT Tot', 'Active Mean'], 'Adv sample 256': ['Active Max', 'Bwd IAT Std', 'Active Mean', 'Init Bwd Win Byts', 'Bwd IAT Max', 'Active Min', 'Pkt Len Min', 'Bwd IAT Min', 'Fwd Byts/b Avg', 'Bwd IAT Mean'], 'Adv sample 257': ['ACK Flag Cnt', 'Bwd IAT Tot', 'Bwd IAT Max', 'Bwd IAT Std', 'Active Min', 'Active Mean', 'Init Bwd Win Byts', 'Bwd IAT Mean', 'Pkt Len Min', 'Bwd Pkt Len Min'], 'Adv sample 258': ['Idle Std', 'Bwd Pkts/b Avg', 'Bwd IAT Tot', 'Bwd IAT Mean', 'Init Bwd Win Byts', 'Pkt Len Min', 'Bwd IAT Min', 'Down/Up Ratio', 'Fwd Byts/b Avg', 'Flow Byts/s'], 'Adv sample 259': ['ACK Flag Cnt', 'Bwd IAT Std', 'Bwd IAT Max', 'Active Mean', 'Init Bwd Win Byts', 'Bwd IAT Mean', 'Bwd IAT Tot', 'Flow IAT Mean', 'Idle Std', 'Active Max'], 'Adv sample 260': ['Bwd IAT Mean', 'Idle Std', 'Active Max', 'Init Bwd Win Byts', 'Fwd Byts/b Avg', 'Bwd IAT Min', 'Pkt Len Min', 'Bwd IAT Std', 'Down/Up Ratio', 'Pkt Len Mean'], 'Adv sample 261': ['Fwd IAT Min', 'Bwd IAT Mean', 'Active Min', 'Active Mean', 'Fwd Byts/b Avg', 'Bwd IAT Tot', 'Init Bwd Win Byts', 'Pkt Len Min', 'Bwd IAT Std', 'Active Max'], 'Adv sample 262': ['ACK Flag Cnt', 'Fwd IAT Mean', 'Active Max', 'Init Bwd Win Byts', 'FIN Flag Cnt', 'Pkt Len Min', 'Active Min', 'Fwd Act Data Pkts', 'Fwd Byts/b Avg', 'Pkt Len Std'], 'Adv sample 263': ['Active Mean', 'ACK Flag Cnt', 'Init Bwd Win Byts', 'FIN Flag Cnt', 'Active Max', 'Bwd IAT Std', 'Flow Pkts/s', 'Active Min', 'Bwd IAT Max', 'Pkt Len Min'], 'Adv sample 264': ['ACK Flag Cnt', 'Active Max', 'Bwd PSH Flags', 'Idle Std', 'Init Bwd Win Byts', 'Bwd IAT Tot', 'Pkt Len Min', 'Pkt Len Max', 'Bwd IAT Max', 'Pkt Size Avg'], 'Adv sample 265': ['ACK Flag Cnt', 'Active Min', 'Active Max', 'Bwd IAT Std', 'Init Bwd Win Byts', 'Down/Up Ratio', 'Active Mean', 'Idle Std', 'Bwd IAT Tot', 'Bwd IAT Max'], 'Adv sample 266': ['ACK Flag Cnt', 'Active Max', 'Bwd IAT Max', 'TotLen Bwd Pkts', 'Bwd IAT Mean', 'Subflow Fwd Byts', 'Pkt Len Min', 'Active Min', 'Bwd Pkt Len Max', 'Init Bwd Win Byts'], 'Adv sample 267': ['SYN Flag Cnt', 'Bwd IAT Min', 'Init Bwd Win Byts', 'Idle Std', 'Fwd Byts/b Avg', 'Bwd Pkt Len Min', 'Pkt Len Min', 'Bwd Seg Size Avg', 'Bwd Pkt Len Std', 'URG Flag Cnt'], 'Adv sample 268': ['Active Mean', 'Bwd IAT Mean', 'Fwd Byts/b Avg', 'Bwd IAT Min', 'Bwd IAT Std', 'Active Max', 'Init Bwd Win Byts', 'Bwd IAT Max', 'Pkt Len Min', 'Fwd IAT Min'], 'Adv sample 269': ['Bwd IAT Mean', 'Active Min', 'Fwd Byts/b Avg', 'Init Bwd Win Byts', 'Idle Max', 'Bwd Pkts/b Avg', 'Bwd Seg Size Avg', 'Fwd Header Len', 'Pkt Len Min', 'Fwd IAT Min'], 'Adv sample 270': ['ACK Flag Cnt', 'Init Bwd Win Byts', 'Fwd IAT Min', 'Bwd IAT Std', 'Active Min', 'Bwd IAT Max', 'Bwd IAT Tot', 'Idle Min', 'Fwd Byts/b Avg', 'Flow IAT Min'], 'Adv sample 271': ['URG Flag Cnt', 'Bwd URG Flags', 'PSH Flag Cnt', 'Bwd PSH Flags', 'Bwd IAT Mean', 'Down/Up Ratio', 'Fwd IAT Min', 'Init Bwd Win Byts', 'Bwd IAT Tot', 'FIN Flag Cnt'], 'Adv sample 272': ['Active Mean', 'Active Max', 'Init Bwd Win Byts', 'Fwd IAT Min', 'Bwd IAT Min', 'Bwd IAT Mean', 'Active Min', 'Pkt Len Min', 'Bwd Pkts/b Avg', 'Fwd Byts/b Avg'], 'Adv sample 273': ['ACK Flag Cnt', 'FIN Flag Cnt', 'Init Bwd Win Byts', 'Flow Pkts/s', 'Bwd IAT Max', 'Fwd IAT Min', 'Active Mean', 'Pkt Len Min', 'Fwd Byts/b Avg', 'Active Max'], 'Adv sample 274': ['Bwd Pkts/s', 'Active Mean', 'Flow Pkts/s', 'Bwd IAT Mean', 'Init Bwd Win Byts', 'Active Min', 'Bwd IAT Tot', 'Down/Up Ratio', 'Bwd IAT Std', 'Fwd IAT Min'], 'Adv sample 275': ['SYN Flag Cnt', 'Bwd IAT Min', 'Active Mean', 'Active Max', 'Bwd IAT Std', 'Init Bwd Win Byts', 'Bwd IAT Max', 'Active Min', 'Pkt Len Min', 'Subflow Fwd Byts'], 'Adv sample 276': ['SYN Flag Cnt', 'Active Max', 'Fwd IAT Min', 'Bwd Pkts/b Avg', 'Init Bwd Win Byts', 'Fwd Blk Rate Avg', 'Fwd Pkt Len Mean', 'Pkt Len Min', 'Fwd Byts/b Avg', 'Flow Pkts/s'], 'Adv sample 277': ['ACK Flag Cnt', 'Active Min', 'Active Max', 'Init Bwd Win Byts', 'Active Mean', 'Idle Std', 'Bwd IAT Std', 'Pkt Len Min', 'Fwd IAT Min', 'Bwd IAT Max'], 'Adv sample 278': ['SYN Flag Cnt', 'Active Mean', 'Bwd IAT Min', 'Active Min', 'Fwd Byts/b Avg', 'Init Bwd Win Byts', 'Active Max', 'Bwd IAT Mean', 'Fwd Blk Rate Avg', 'Idle Std'], 'Adv sample 279': ['Idle Std', 'Idle Max', 'Init Bwd Win Byts', 'Pkt Len Min', 'Bwd IAT Tot', 'Bwd Pkts/b Avg', 'Bwd IAT Min', 'Idle Min', 'Down/Up Ratio', 'Pkt Len Std'], 'Adv sample 280': ['Active Min', 'SYN Flag Cnt', 'Active Max', 'Active Mean', 'Flow IAT Mean', 'Pkt Len Var', 'Fwd IAT Mean', 'Fwd IAT Min', 'FIN Flag Cnt', 'Bwd IAT Mean'], 'Adv sample 281': ['Active Min', 'Bwd IAT Std', 'Bwd IAT Min', 'Bwd IAT Max', 'Init Bwd Win Byts', 'Down/Up Ratio', 'Pkt Size Avg', 'Pkt Len Min', 'Flow IAT Max', 'Flow IAT Std'], 'Adv sample 282': ['Active Mean', 'Bwd IAT Mean', 'Bwd IAT Tot', 'Init Bwd Win Byts', 'Bwd IAT Max', 'Fwd IAT Min', 'Fwd Blk Rate Avg', 'Pkt Len Min', 'Bwd IAT Min', 'Down/Up Ratio'], 'Adv sample 283': ['Active Mean', 'Fwd IAT Min', 'Bwd IAT Tot', 'Bwd IAT Mean', 'Init Bwd Win Byts', 'Fwd Blk Rate Avg', 'Bwd IAT Max', 'Down/Up Ratio', 'Bwd Seg Size Avg', 'Bwd Pkts/s'], 'Adv sample 284': ['Active Max', 'Active Min', 'Init Bwd Win Byts', 'Bwd IAT Std', 'Idle Max', 'Down/Up Ratio', 'Active Mean', 'Pkt Len Min', 'Bwd IAT Mean', 'Idle Min'], 'Adv sample 285': ['Bwd IAT Max', 'Bwd IAT Std', 'Init Bwd Win Byts', 'Idle Min', 'Idle Max', 'Bwd IAT Tot', 'Fwd Byts/b Avg', 'Down/Up Ratio', 'Pkt Len Std', 'Active Mean'], 'Adv sample 286': ['Bwd IAT Mean', 'Active Min', 'Init Bwd Win Byts', 'Fwd Blk Rate Avg', 'Bwd IAT Max', 'Idle Max', 'Pkt Len Min', 'Idle Min', 'Fwd Seg Size Avg', 'Flow IAT Std'], 'Adv sample 287': ['SYN Flag Cnt', 'Idle Std', 'Active Min', 'Init Bwd Win Byts', 'Active Mean', 'Active Max', 'Bwd IAT Std', 'Pkt Len Min', 'Bwd IAT Mean', 'Fwd Byts/b Avg'], 'Adv sample 288': ['Active Min', 'Active Max', 'Bwd Pkts/s', 'Flow Pkts/s', 'Active Mean', 'Init Bwd Win Byts', 'Bwd IAT Std', 'Bwd IAT Max', 'Bwd IAT Mean', 'Fwd IAT Min'], 'Adv sample 289': ['URG Flag Cnt', 'Bwd URG Flags', 'Fwd IAT Min', 'Fwd Byts/b Avg', 'PSH Flag Cnt', 'Idle Max', 'Init Bwd Win Byts', 'Bwd IAT Std', 'Pkt Len Std', 'Bwd IAT Tot'], 'Adv sample 290': ['ACK Flag Cnt', 'Active Mean', 'Init Bwd Win Byts', 'Fwd IAT Min', 'Active Min', 'Bwd IAT Std', 'Bwd IAT Max', 'Down/Up Ratio', 'Idle Min', 'Pkt Len Min'], 'Adv sample 291': ['ACK Flag Cnt', 'Init Bwd Win Byts', 'Fwd IAT Min', 'Bwd IAT Std', 'Active Max', 'Bwd IAT Mean', 'Fwd IAT Mean', 'Bwd IAT Min', 'Fwd Byts/b Avg', 'Pkt Len Min'], 'Adv sample 292': ['SYN Flag Cnt', 'Active Min', 'Fwd Byts/b Avg', 'Active Mean', 'Idle Std', 'Active Max', 'Init Bwd Win Byts', 'Bwd IAT Min', 'Pkt Len Min', 'Fwd IAT Min'], 'Adv sample 293': ['SYN Flag Cnt', 'Bwd IAT Min', 'Active Mean', 'Fwd Byts/b Avg', 'Active Max', 'Init Bwd Win Byts', 'Fwd IAT Min', 'Fwd IAT Mean', 'Bwd IAT Mean', 'Pkt Len Min'], 'Adv sample 294': ['ACK Flag Cnt', 'Fwd IAT Min', 'Active Max', 'Bwd IAT Std', 'Init Bwd Win Byts', 'Active Min', 'Active Mean', 'Bwd PSH Flags', 'Pkt Len Min', 'Idle Std'], 'Adv sample 295': ['Active Mean', 'Active Min', 'Bwd IAT Mean', 'Active Max', 'Init Bwd Win Byts', 'Bwd Pkts/b Avg', 'Pkt Len Min', 'Bwd IAT Max', 'Idle Max', 'Fwd Byts/b Avg'], 'Adv sample 296': ['ACK Flag Cnt', 'Init Bwd Win Byts', 'Fwd IAT Min', 'Bwd IAT Std', 'Active Max', 'Fwd Header Len', 'Bwd IAT Max', 'Bwd IAT Mean', 'Bwd Pkt Len Mean', 'Idle Min'], 'Adv sample 297': ['Active Min', 'Idle Min', 'Bwd IAT Mean', 'Active Mean', 'Fwd Blk Rate Avg', 'Init Bwd Win Byts', 'Idle Max', 'Down/Up Ratio', 'Pkt Len Min', 'Tot Fwd Pkts'], 'Adv sample 298': ['ACK Flag Cnt', 'Flow IAT Mean', 'Bwd IAT Max', 'Active Mean', 'Init Bwd Win Byts', 'Active Min', 'Fwd Byts/b Avg', 'Flow IAT Std', 'Pkt Len Min', 'Fwd IAT Min'], 'Adv sample 299': ['Bwd IAT Min', 'Idle Min', 'Active Min', 'Fwd Pkts/b Avg', 'Fwd Byts/b Avg', 'Init Bwd Win Byts', 'Pkt Len Min', 'Down/Up Ratio', 'Idle Max', 'Idle Mean'], 'Adv sample 300': ['SYN Flag Cnt', 'Active Min', 'Bwd IAT Min', 'Bwd IAT Mean', 'Active Mean', 'Bwd IAT Std', 'Init Bwd Win Byts', 'Fwd IAT Mean', 'Idle Std', 'Pkt Len Min'], 'Adv sample 301': ['SYN Flag Cnt', 'Init Bwd Win Byts', 'Active Mean', 'Bwd IAT Min', 'Idle Std', 'Active Min', 'Bwd IAT Std', 'Idle Max', 'Bwd IAT Mean', 'Fwd Pkt Len Std'], 'Adv sample 302': ['ACK Flag Cnt', 'Active Min', 'Bwd IAT Std', 'Init Bwd Win Byts', 'Pkt Len Min', 'URG Flag Cnt', 'Bwd Pkt Len Min', 'Fwd IAT Min', 'Bwd Pkt Len Mean', 'Subflow Bwd Pkts'], 'Adv sample 303': ['Active Max', 'Init Bwd Win Byts', 'Active Mean', 'Idle Std', 'Pkt Len Min', 'Down/Up Ratio', 'Idle Max', 'Idle Min', 'Fwd Byts/b Avg', 'Subflow Fwd Pkts'], 'Adv sample 304': ['ACK Flag Cnt', 'Init Bwd Win Byts', 'Fwd IAT Min', 'FIN Flag Cnt', 'Flow Pkts/s', 'Bwd IAT Std', 'Active Min', 'Bwd IAT Max', 'Active Mean', 'Fwd Byts/b Avg'], 'Adv sample 305': ['ACK Flag Cnt', 'Idle Max', 'Fwd IAT Min', 'Init Bwd Win Byts', 'Bwd Pkts/b Avg', 'Pkt Len Std', 'Pkt Len Min', 'Fwd Byts/b Avg', 'Fwd Pkt Len Min', 'Active Mean'], 'Adv sample 306': ['ACK Flag Cnt', 'Active Max', 'Idle Min', 'Init Bwd Win Byts', 'Fwd Byts/b Avg', 'Down/Up Ratio', 'Pkt Len Mean', 'Fwd Pkts/s', 'Bwd Pkt Len Mean', 'Bwd URG Flags'], 'Adv sample 307': ['Active Mean', 'Bwd IAT Mean', 'Active Min', 'Fwd Byts/b Avg', 'Active Max', 'Init Bwd Win Byts', 'Fwd IAT Min', 'Pkt Len Min', 'Bwd IAT Max', 'Bwd Pkts/b Avg'], 'Adv sample 308': ['Active Mean', 'Flow Pkts/s', 'Bwd Pkts/s', 'Fwd IAT Min', 'Bwd IAT Max', 'Init Bwd Win Byts', 'Bwd IAT Mean', 'Active Min', 'Active Max', 'Down/Up Ratio'], 'Adv sample 309': ['Bwd IAT Min', 'Active Max', 'Bwd IAT Max', 'Init Bwd Win Byts', 'Bwd IAT Std', 'Pkt Len Min', 'Active Min', 'Active Mean', 'Bwd IAT Mean', 'Fwd Byts/b Avg'], 'Adv sample 310': ['Active Max', 'Bwd IAT Max', 'Bwd IAT Std', 'Init Bwd Win Byts', 'Bwd IAT Min', 'Active Min', 'Bwd IAT Mean', 'Pkt Len Min', 'Fwd Byts/b Avg', 'Bwd Pkts/b Avg'], 'Adv sample 311': ['SYN Flag Cnt', 'Active Min', 'Active Mean', 'Init Bwd Win Byts', 'Active Max', 'Bwd IAT Min', 'Bwd IAT Mean', 'Fwd IAT Min', 'Idle Std', 'Bwd IAT Std'], 'Adv sample 312': ['Active Mean', 'Bwd IAT Min', 'Bwd IAT Mean', 'Init Bwd Win Byts', 'Active Min', 'Bwd IAT Max', 'Pkt Len Min', 'Fwd IAT Min', 'Fwd Byts/b Avg', 'Active Max'], 'Adv sample 313': ['SYN Flag Cnt', 'Active Mean', 'Active Min', 'Bwd IAT Std', 'Active Max', 'Idle Std', 'Init Bwd Win Byts', 'Bwd IAT Tot', 'Pkt Len Min', 'Bwd IAT Max'], 'Adv sample 314': ['ACK Flag Cnt', 'Fwd IAT Min', 'FIN Flag Cnt', 'Init Bwd Win Byts', 'Active Max', 'Pkt Len Std', 'Pkt Len Min', 'Flow IAT Max', 'Fwd Seg Size Avg', 'Bwd Pkt Len Mean'], 'Adv sample 315': ['SYN Flag Cnt', 'Active Mean', 'Fwd IAT Mean', 'Init Bwd Win Byts', 'Active Min', 'Bwd IAT Std', 'Idle Std', 'Pkt Len Min', 'Fwd Byts/b Avg', 'Pkt Len Mean'], 'Adv sample 316': ['ACK Flag Cnt', 'Bwd IAT Std', 'Bwd IAT Min', 'Bwd IAT Max', 'Init Bwd Win Byts', 'Active Mean', 'FIN Flag Cnt', 'Flow Pkts/s', 'Flow IAT Mean', 'Active Max'], 'Adv sample 317': ['Bwd IAT Mean', 'Bwd IAT Tot', 'Init Bwd Win Byts', 'Pkt Len Min', 'Fwd Byts/b Avg', 'Fwd Blk Rate Avg', 'Down/Up Ratio', 'Idle Max', 'Bwd Pkt Len Min', 'Pkt Len Std'], 'Adv sample 318': ['Active Mean', 'Bwd IAT Min', 'Active Max', 'Init Bwd Win Byts', 'Active Min', 'Fwd Byts/b Avg', 'Pkt Len Min', 'Fwd IAT Min', 'Bwd IAT Max', 'Bwd IAT Std'], 'Adv sample 319': ['Active Min', 'Active Mean', 'Bwd IAT Mean', 'Bwd IAT Min', 'Fwd IAT Min', 'Active Max', 'Init Bwd Win Byts', 'Pkt Len Min', 'Bwd Pkt Len Min', 'Flow Duration'], 'Adv sample 320': ['Bwd IAT Min', 'Active Max', 'Fwd Byts/b Avg', 'Init Bwd Win Byts', 'Pkt Len Min', 'Bwd IAT Mean', 'Down/Up Ratio', 'Fwd IAT Min', 'Bwd Pkt Len Min', 'Pkt Len Std'], 'Adv sample 321': ['Active Min', 'Bwd IAT Min', 'Init Bwd Win Byts', 'Fwd Byts/b Avg', 'Active Max', 'Bwd IAT Max', 'Down/Up Ratio', 'Bwd IAT Mean', 'Fwd IAT Std', 'Bwd Pkts/b Avg'], 'Adv sample 322': ['Active Mean', 'Bwd IAT Min', 'Fwd Byts/b Avg', 'Idle Min', 'Bwd IAT Mean', 'Fwd IAT Min', 'Active Max', 'Init Bwd Win Byts', 'Pkt Len Max', 'Idle Max'], 'Adv sample 323': ['Active Mean', 'Fwd IAT Min', 'Bwd IAT Min', 'Bwd IAT Mean', 'Bwd IAT Std', 'Idle Std', 'Active Max', 'Init Bwd Win Byts', 'Fwd Act Data Pkts', 'Tot Bwd Pkts'], 'Adv sample 324': ['Active Mean', 'Bwd IAT Mean', 'Bwd Pkts/b Avg', 'Init Bwd Win Byts', 'Active Min', 'Bwd IAT Std', 'Active Max', 'Pkt Len Min', 'Idle Std', 'Fwd Byts/b Avg'], 'Adv sample 325': ['ACK Flag Cnt', 'Init Bwd Win Byts', 'Fwd IAT Min', 'Active Min', 'Bwd IAT Std', 'Pkt Len Min', 'Bwd IAT Tot', 'Bwd IAT Max', 'Fwd Byts/b Avg', 'Subflow Fwd Pkts'], 'Adv sample 326': ['ACK Flag Cnt', 'Fwd IAT Min', 'Init Bwd Win Byts', 'Active Max', 'Bwd Pkt Len Mean', 'FIN Flag Cnt', 'Tot Bwd Pkts', 'Pkt Len Std', 'Bwd Pkt Len Max', 'Active Min'], 'Adv sample 327': ['Active Min', 'Fwd Byts/b Avg', 'Init Bwd Win Byts', 'Bwd Pkts/b Avg', 'Bwd IAT Mean', 'Pkt Len Min', 'Bwd Pkt Len Min', 'Bwd IAT Tot', 'Pkt Size Avg', 'Pkt Len Max'], 'Adv sample 328': ['SYN Flag Cnt', 'Bwd IAT Std', 'Active Min', 'Init Bwd Win Byts', 'Active Mean', 'Idle Std', 'Bwd IAT Mean', 'Bwd IAT Min', 'Fwd IAT Min', 'Pkt Len Min'], 'Adv sample 329': ['Bwd Pkts/s', 'Active Mean', 'Bwd IAT Mean', 'Flow Pkts/s', 'Active Min', 'Fwd IAT Min', 'Init Bwd Win Byts', 'Bwd IAT Tot', 'Active Max', 'Bwd IAT Std'], 'Adv sample 330': ['SYN Flag Cnt', 'Bwd IAT Min', 'Init Bwd Win Byts', 'Idle Std', 'Bwd IAT Mean', 'Active Min', 'Fwd Byts/b Avg', 'Fwd IAT Min', 'Flow Pkts/s', 'Pkt Len Min'], 'Adv sample 331': ['SYN Flag Cnt', 'Init Bwd Win Byts', 'Bwd IAT Mean', 'Fwd IAT Min', 'Active Min', 'Bwd IAT Std', 'Idle Std', 'Fwd Byts/b Avg', 'Pkt Len Min', 'Bwd Seg Size Avg'], 'Adv sample 332': ['ACK Flag Cnt', 'Bwd IAT Std', 'Bwd IAT Tot', 'Init Bwd Win Byts', 'Bwd IAT Max', 'Flow IAT Mean', 'Active Max', 'Pkt Len Min', 'Fwd IAT Min', 'Flow IAT Std'], 'Adv sample 333': ['SYN Flag Cnt', 'Active Mean', 'Active Min', 'Active Max', 'Init Bwd Win Byts', 'Fwd IAT Min', 'Bwd IAT Max', 'Idle Std', 'Pkt Size Avg', 'Pkt Len Min'], 'Adv sample 334': ['SYN Flag Cnt', 'Fwd IAT Min', 'Init Bwd Win Byts', 'Active Min', 'Bwd IAT Std', 'Active Max', 'Fwd Byts/b Avg', 'Active Mean', 'Idle Std', 'Bwd IAT Min'], 'Adv sample 335': ['Active Min', 'Idle Max', 'Bwd IAT Min', 'Bwd IAT Tot', 'Init Bwd Win Byts', 'Idle Min', 'Pkt Len Min', 'Fwd Pkt Len Mean', 'Flow Duration', 'Subflow Fwd Byts'], 'Adv sample 336': ['ACK Flag Cnt', 'Bwd IAT Std', 'Init Bwd Win Byts', 'Bwd IAT Max', 'Bwd IAT Mean', 'Flow IAT Mean', 'Bwd IAT Min', 'Bwd IAT Tot', 'Active Min', 'Flow IAT Std'], 'Adv sample 337': ['ACK Flag Cnt', 'Bwd IAT Tot', 'Bwd IAT Max', 'Init Bwd Win Byts', 'Flow IAT Mean', 'Active Mean', 'Bwd IAT Std', 'Fwd Byts/b Avg', 'Bwd IAT Min', 'Active Min'], 'Adv sample 338': ['Bwd IAT Mean', 'Active Mean', 'Active Max', 'Bwd IAT Std', 'Init Bwd Win Byts', 'Pkt Len Min', 'Fwd IAT Min', 'Bwd IAT Min', 'Fwd Byts/b Avg', 'Bwd Pkt Len Min'], 'Adv sample 339': ['Bwd IAT Mean', 'Fwd Byts/b Avg', 'Bwd IAT Std', 'Init Bwd Win Byts', 'Pkt Len Min', 'Bwd Pkts/b Avg', 'Idle Min', 'Pkt Len Mean', 'Pkt Len Var', 'Active Min'], 'Adv sample 340': ['SYN Flag Cnt', 'Idle Std', 'Init Bwd Win Byts', 'Active Min', 'Active Mean', 'Bwd IAT Mean', 'Pkt Len Mean', 'Bwd IAT Std', 'Fwd IAT Min', 'Fwd Byts/b Avg'], 'Adv sample 341': ['ACK Flag Cnt', 'Bwd IAT Std', 'Init Bwd Win Byts', 'Active Mean', 'Bwd IAT Max', 'Active Min', 'Bwd IAT Mean', 'Active Max', 'Fwd IAT Min', 'Pkt Len Min'], 'Adv sample 342': ['ACK Flag Cnt', 'Init Bwd Win Byts', 'Active Mean', 'Active Max', 'Pkt Len Min', 'Bwd IAT Max', 'Fwd Byts/b Avg', 'Pkt Len Mean', 'Bwd IAT Mean', 'Subflow Bwd Byts'], 'Adv sample 343': ['Bwd IAT Min', 'Init Bwd Win Byts', 'Active Max', 'Bwd IAT Max', 'Bwd IAT Mean', 'Active Min', 'Bwd IAT Std', 'Active Mean', 'Fwd Byts/b Avg', 'Down/Up Ratio'], 'Adv sample 344': ['Bwd IAT Max', 'Init Bwd Win Byts', 'Bwd IAT Mean', 'Bwd IAT Tot', 'Down/Up Ratio', 'Pkt Len Min', 'Pkt Size Avg', 'Active Mean', 'Idle Std', 'Pkt Len Max'], 'Adv sample 345': ['Active Mean', 'Active Min', 'Init Bwd Win Byts', 'Active Max', 'Bwd IAT Min', 'Bwd IAT Mean', 'Pkt Len Min', 'Bwd IAT Std', 'Bwd Pkt Len Min', 'Bwd Pkts/b Avg'], 'Adv sample 346': ['SYN Flag Cnt', 'Bwd IAT Std', 'Init Bwd Win Byts', 'Bwd IAT Min', 'Active Min', 'Active Mean', 'Idle Std', 'Bwd IAT Mean', 'Down/Up Ratio', 'Bwd Pkt Len Min'], 'Adv sample 347': ['ACK Flag Cnt', 'Bwd IAT Std', 'Active Max', 'Fwd IAT Min', 'Active Min', 'Init Bwd Win Byts', 'Bwd PSH Flags', 'Active Mean', 'Bwd IAT Max', 'Pkt Len Min'], 'Adv sample 348': ['Fwd IAT Min', 'Bwd IAT Mean', 'Fwd Byts/b Avg', 'Bwd IAT Min', 'Idle Std', 'Bwd Pkts/b Avg', 'Init Bwd Win Byts', 'Idle Max', 'Pkt Len Min', 'Pkt Size Avg'], 'Adv sample 349': ['Bwd Pkts/s', 'Fwd IAT Min', 'Active Mean', 'Idle Mean', 'Active Max', 'Bwd IAT Max', 'Init Bwd Win Byts', 'Down/Up Ratio', 'Flow Byts/s', 'Flow Pkts/s'], 'Adv sample 350': ['Active Min', 'Active Mean', 'Bwd IAT Mean', 'Init Bwd Win Byts', 'Pkt Len Min', 'Active Max', 'Bwd Pkts/s', 'Down/Up Ratio', 'Bwd IAT Min', 'Fwd IAT Min'], 'Adv sample 351': ['SYN Flag Cnt', 'Active Min', 'Active Max', 'Idle Std', 'Active Mean', 'Init Bwd Win Byts', 'Bwd IAT Mean', 'Bwd IAT Min', 'Fwd Byts/b Avg', 'Fwd IAT Min'], 'Adv sample 352': ['SYN Flag Cnt', 'Active Min', 'Bwd IAT Min', 'Init Bwd Win Byts', 'Bwd IAT Mean', 'Active Mean', 'Fwd Byts/b Avg', 'Fwd IAT Mean', 'Active Max', 'Idle Std'], 'Adv sample 353': ['ACK Flag Cnt', 'Flow IAT Std', 'Init Bwd Win Byts', 'Fwd Byts/b Avg', 'Flow IAT Mean', 'Pkt Len Min', 'Flow Pkts/s', 'Bwd Pkts/s', 'Flow Byts/s', 'Bwd Header Len'], 'Adv sample 354': ['SYN Flag Cnt', 'Bwd IAT Mean', 'Idle Std', 'Init Bwd Win Byts', 'Down/Up Ratio', 'Bwd IAT Tot', 'Pkt Len Min', 'Fwd Blk Rate Avg', 'Bwd Pkt Len Std', 'Bwd Pkt Len Mean'], 'Adv sample 355': ['SYN Flag Cnt', 'Active Max', 'Bwd IAT Std', 'Init Bwd Win Byts', 'Bwd IAT Mean', 'Active Min', 'Fwd IAT Min', 'Fwd Byts/b Avg', 'Idle Std', 'Active Mean'], 'Adv sample 356': ['Active Max', 'Bwd IAT Std', 'Init Bwd Win Byts', 'Active Min', 'Bwd IAT Mean', 'Active Mean', 'Fwd Byts/b Avg', 'Pkt Len Min', 'Bwd Pkts/b Avg', 'Idle Std'], 'Adv sample 357': ['Active Max', 'Active Min', 'Init Bwd Win Byts', 'Active Mean', 'Down/Up Ratio', 'Pkt Len Min', 'Bwd IAT Std', 'Idle Std', 'Idle Max', 'Idle Mean'], 'Adv sample 358': ['ACK Flag Cnt', 'Bwd IAT Std', 'Active Mean', 'Active Min', 'Active Max', 'Bwd IAT Tot', 'Init Bwd Win Byts', 'Flow IAT Mean', 'Bwd IAT Max', 'Idle Std'], 'Adv sample 359': ['SYN Flag Cnt', 'Bwd IAT Mean', 'Idle Std', 'Init Bwd Win Byts', 'Fwd Byts/b Avg', 'Flow IAT Max', 'Bwd PSH Flags', 'Fwd Pkt Len Min', 'Subflow Fwd Pkts', 'Bwd IAT Tot'], 'Adv sample 360': ['Active Min', 'Active Mean', 'Bwd IAT Mean', 'Active Max', 'Init Bwd Win Byts', 'Fwd IAT Min', 'Bwd IAT Std', 'Pkt Len Min', 'Bwd Pkts/b Avg', 'Idle Std'], 'Adv sample 361': ['ACK Flag Cnt', 'FIN Flag Cnt', 'Active Max', 'Fwd IAT Min', 'Init Bwd Win Byts', 'Pkt Len Std', 'Pkt Len Min', 'Subflow Bwd Pkts', 'Down/Up Ratio', 'Bwd Pkt Len Min'], 'Adv sample 362': ['SYN Flag Cnt', 'Active Max', 'Init Bwd Win Byts', 'Fwd Byts/b Avg', 'Bwd IAT Mean', 'Bwd Pkts/b Avg', 'Pkt Len Min', 'Active Mean', 'Fwd Act Data Pkts', 'Fwd Header Len'], 'Adv sample 363': ['ACK Flag Cnt', 'FIN Flag Cnt', 'Init Bwd Win Byts', 'Flow Pkts/s', 'Active Min', 'Active Max', 'Bwd IAT Mean', 'Bwd IAT Min', 'Subflow Bwd Byts', 'Pkt Len Max'], 'Adv sample 364': ['ACK Flag Cnt', 'Active Mean', 'Bwd IAT Min', 'Active Min', 'Flow IAT Std', 'Init Bwd Win Byts', 'Flow IAT Mean', 'Bwd IAT Mean', 'Active Max', 'TotLen Bwd Pkts'], 'Adv sample 365': ['Bwd Pkts/s', 'Bwd IAT Max', 'Flow Pkts/s', 'Bwd IAT Mean', 'Idle Max', 'Active Min', 'Bwd IAT Tot', 'Init Bwd Win Byts', 'Pkt Len Min', 'Idle Min'], 'Adv sample 366': ['SYN Flag Cnt', 'Init Bwd Win Byts', 'Active Mean', 'Active Min', 'Idle Std', 'Bwd IAT Std', 'Active Max', 'Bwd IAT Min', 'Fwd IAT Mean', 'Fwd Pkt Len Min'], 'Adv sample 367': ['URG Flag Cnt', 'Bwd URG Flags', 'PSH Flag Cnt', 'Fwd IAT Min', 'Bwd IAT Max', 'Init Bwd Win Byts', 'Idle Std', 'Down/Up Ratio', 'FIN Flag Cnt', 'Bwd IAT Std'], 'Adv sample 368': ['SYN Flag Cnt', 'Bwd IAT Mean', 'Init Bwd Win Byts', 'Fwd IAT Min', 'Fwd Blk Rate Avg', 'Pkt Len Min', 'Idle Std', 'Bwd Pkts/b Avg', 'Fwd Byts/b Avg', 'Pkt Len Max'], 'Adv sample 369': ['ACK Flag Cnt', 'Bwd IAT Tot', 'Bwd IAT Std', 'Bwd IAT Max', 'Active Mean', 'Init Bwd Win Byts', 'Flow Pkts/s', 'Fwd Byts/b Avg', 'Flow IAT Mean', 'Fwd Pkt Len Mean'], 'Adv sample 370': ['Bwd IAT Min', 'Bwd IAT Mean', 'Init Bwd Win Byts', 'Fwd IAT Min', 'Active Min', 'Active Mean', 'Fwd Byts/b Avg', 'Active Max', 'Pkt Len Min', 'Bwd Pkts/b Avg'], 'Adv sample 371': ['Bwd Pkts/s', 'Bwd IAT Mean', 'Fwd IAT Min', 'Init Bwd Win Byts', 'Flow Pkts/s', 'Idle Max', 'Bwd IAT Min', 'Pkt Len Min', 'Down/Up Ratio', 'Pkt Len Mean'], 'Adv sample 372': ['Init Bwd Win Byts', 'Bwd IAT Std', 'Bwd Pkts/s', 'Active Min', 'Bwd IAT Mean', 'Active Mean', 'Active Max', 'Down/Up Ratio', 'Pkt Len Min', 'Bwd IAT Max'], 'Adv sample 373': ['Bwd IAT Std', 'Active Mean', 'Active Min', 'Bwd IAT Mean', 'Init Bwd Win Byts', 'Bwd IAT Min', 'Active Max', 'Pkt Len Min', 'Fwd Byts/b Avg', 'Idle Max'], 'Adv sample 374': ['Active Max', 'Active Min', 'Active Mean', 'Init Bwd Win Byts', 'Bwd IAT Mean', 'Bwd IAT Max', 'Pkt Len Min', 'Bwd Header Len', 'Down/Up Ratio', 'Idle Min'], 'Adv sample 375': ['Bwd Pkts/b Avg', 'Init Bwd Win Byts', 'Active Min', 'Bwd IAT Mean', 'Active Mean', 'Bwd IAT Std', 'Idle Std', 'Active Max', 'Pkt Len Min', 'Fwd Byts/b Avg'], 'Adv sample 376': ['Fwd IAT Min', 'Active Min', 'Active Max', 'Idle Std', 'Bwd IAT Mean', 'Active Mean', 'Init Bwd Win Byts', 'Bwd IAT Tot', 'Fwd Byts/b Avg', 'Pkt Len Min'], 'Adv sample 377': ['Bwd IAT Min', 'Active Min', 'Bwd IAT Tot', 'Bwd IAT Max', 'Active Mean', 'Active Max', 'Init Bwd Win Byts', 'Pkt Len Min', 'Bwd IAT Mean', 'Bwd Pkt Len Min'], 'Adv sample 378': ['Bwd IAT Mean', 'Bwd Pkts/b Avg', 'Fwd IAT Min', 'Init Bwd Win Byts', 'Fwd Blk Rate Avg', 'Pkt Len Min', 'Bwd Pkt Len Mean', 'Fwd Byts/b Avg', 'Bwd Pkt Len Min', 'URG Flag Cnt'], 'Adv sample 379': ['SYN Flag Cnt', 'Active Max', 'Init Bwd Win Byts', 'Bwd Seg Size Avg', 'Subflow Fwd Pkts', 'Pkt Len Min', 'TotLen Bwd Pkts', 'Active Mean', 'Bwd IAT Tot', 'Bwd Pkt Len Min'], 'Adv sample 380': ['Bwd IAT Mean', 'Bwd IAT Min', 'Active Min', 'Fwd Pkts/b Avg', 'Bwd IAT Tot', 'Fwd Blk Rate Avg', 'Bwd Pkts/b Avg', 'Init Bwd Win Byts', 'Pkt Len Min', 'Active Max'], 'Adv sample 381': ['Active Min', 'Flow Pkts/s', 'Bwd Pkts/s', 'Bwd IAT Mean', 'Bwd IAT Max', 'Init Bwd Win Byts', 'Fwd IAT Min', 'Idle Std', 'Idle Max', 'Active Mean'], 'Adv sample 382': ['ACK Flag Cnt', 'Flow IAT Std', 'Bwd IAT Min', 'Bwd IAT Tot', 'Bwd Header Len', 'Fwd Byts/b Avg', 'Flow Pkts/s', 'Flow IAT Mean', 'Init Bwd Win Byts', 'Fwd IAT Min'], 'Adv sample 383': ['SYN Flag Cnt', 'Fwd Byts/b Avg', 'Active Mean', 'Init Bwd Win Byts', 'Bwd IAT Std', 'Active Max', 'Pkt Len Min', 'Bwd IAT Min', 'Pkt Len Mean', 'Fwd IAT Min'], 'Adv sample 384': ['SYN Flag Cnt', 'Init Bwd Win Byts', 'Active Min', 'Active Mean', 'Fwd IAT Mean', 'Pkt Len Min', 'Bwd IAT Std', 'Fwd Byts/b Avg', 'Bwd IAT Min', 'Active Max'], 'Adv sample 385': ['Active Min', 'Bwd IAT Tot', 'Init Bwd Win Byts', 'Bwd IAT Mean', 'Pkt Len Min', 'Bwd IAT Std', 'Active Max', 'Down/Up Ratio', 'Active Mean', 'Idle Max'], 'Adv sample 386': ['ACK Flag Cnt', 'Bwd IAT Max', 'Init Bwd Win Byts', 'Bwd IAT Tot', 'Idle Std', 'TotLen Bwd Pkts', 'Flow IAT Mean', 'Bwd IAT Min', 'Fwd Pkt Len Min', 'Pkt Len Std'], 'Adv sample 387': ['SYN Flag Cnt', 'Init Bwd Win Byts', 'Active Min', 'Active Mean', 'Active Max', 'Fwd IAT Min', 'Bwd IAT Std', 'Fwd IAT Mean', 'Fwd Blk Rate Avg', 'Pkt Len Min'], 'Adv sample 388': ['ACK Flag Cnt', 'Active Mean', 'Init Bwd Win Byts', 'Active Max', 'Bwd IAT Min', 'Fwd Byts/b Avg', 'Flow IAT Std', 'Flow IAT Mean', 'Active Min', 'Fwd IAT Tot'], 'Adv sample 389': ['Bwd Pkts/s', 'Flow Pkts/s', 'Bwd IAT Std', 'Bwd IAT Min', 'Bwd IAT Mean', 'Init Bwd Win Byts', 'Active Min', 'Active Max', 'Pkt Len Min', 'Active Mean'], 'Adv sample 390': ['ACK Flag Cnt', 'Bwd IAT Std', 'Bwd IAT Min', 'Init Bwd Win Byts', 'Bwd IAT Tot', 'Pkt Len Min', 'Flow IAT Std', 'Fwd Byts/b Avg', 'Flow Pkts/s', 'Fwd IAT Min'], 'Adv sample 391': ['Active Mean', 'Bwd Pkts/s', 'Init Bwd Win Byts', 'Bwd IAT Mean', 'Flow Pkts/s', 'Bwd IAT Min', 'Fwd IAT Min', 'Bwd Pkt Len Min', 'Tot Bwd Pkts', 'Idle Max'], 'Adv sample 392': ['SYN Flag Cnt', 'Fwd Byts/b Avg', 'Init Bwd Win Byts', 'Bwd IAT Tot', 'Bwd Pkt Len Min', 'Pkt Len Min', 'Bwd Pkt Len Max', 'Fwd IAT Min', 'Bwd Pkt Len Std', 'Pkt Size Avg'], 'Adv sample 393': ['SYN Flag Cnt', 'Active Mean', 'Active Max', 'Fwd IAT Min', 'Init Bwd Win Byts', 'Fwd Byts/b Avg', 'Pkt Len Min', 'Bwd Pkts/b Avg', 'Fwd Pkt Len Mean', 'Active Min'], 'Adv sample 394': ['Active Mean', 'Fwd IAT Min', 'Fwd Byts/b Avg', 'Init Bwd Win Byts', 'Pkt Len Min', 'Bwd Pkts/b Avg', 'Idle Max', 'Bwd IAT Mean', 'Idle Mean', 'Bwd Pkt Len Max'], 'Adv sample 395': ['ACK Flag Cnt', 'Active Max', 'Fwd IAT Min', 'Bwd IAT Std', 'Init Bwd Win Byts', 'FIN Flag Cnt', 'Active Min', 'Active Mean', 'Flow Pkts/s', 'Bwd IAT Min'], 'Adv sample 396': ['Active Min', 'Bwd IAT Std', 'Init Bwd Win Byts', 'Bwd IAT Mean', 'Fwd IAT Min', 'Pkt Len Min', 'Active Max', 'Active Mean', 'Idle Mean', 'Fwd Byts/b Avg'], 'Adv sample 397': ['SYN Flag Cnt', 'Active Min', 'Bwd IAT Std', 'Active Max', 'Init Bwd Win Byts', 'Idle Std', 'Active Mean', 'Fwd Byts/b Avg', 'Fwd IAT Min', 'Bwd IAT Max'], 'Adv sample 398': ['SYN Flag Cnt', 'Active Max', 'Bwd IAT Mean', 'Bwd Pkts/b Avg', 'Init Bwd Win Byts', 'Idle Std', 'Fwd IAT Min', 'Fwd Byts/b Avg', 'Bwd IAT Max', 'Tot Bwd Pkts'], 'Adv sample 399': ['Bwd Pkts/s', 'Flow Pkts/s', 'Bwd IAT Max', 'Init Bwd Win Byts', 'Down/Up Ratio', 'Active Min', 'Bwd IAT Std', 'Bwd IAT Mean', 'Active Mean', 'Pkt Len Min'], 'Adv sample 400': ['Bwd IAT Std', 'Active Max', 'Init Bwd Win Byts', 'Active Mean', 'Idle Std', 'Active Min', 'Bwd IAT Min', 'Bwd IAT Max', 'Pkt Len Min', 'Idle Max'], 'Adv sample 401': ['SYN Flag Cnt', 'Init Bwd Win Byts', 'Bwd IAT Std', 'Bwd IAT Mean', 'Active Max', 'Fwd IAT Min', 'Active Min', 'Active Mean', 'Fwd Byts/b Avg', 'Pkt Len Min'], 'Adv sample 402': ['Bwd IAT Min', 'Active Mean', 'Init Bwd Win Byts', 'Bwd IAT Mean', 'Active Min', 'Active Max', 'Pkt Len Min', 'Fwd IAT Min', 'Fwd Byts/b Avg', 'Bwd Pkts/b Avg'], 'Adv sample 403': ['Active Min', 'Bwd IAT Mean', 'Active Mean', 'Bwd IAT Tot', 'Init Bwd Win Byts', 'Active Max', 'Bwd IAT Max', 'Bwd Pkts/b Avg', 'Down/Up Ratio', 'Fwd Blk Rate Avg'], 'Adv sample 404': ['Bwd Pkts/s', 'Bwd IAT Mean', 'Active Min', 'Flow Pkts/s', 'Idle Std', 'Active Mean', 'Active Max', 'Fwd IAT Min', 'Init Bwd Win Byts', 'Down/Up Ratio'], 'Adv sample 405': ['SYN Flag Cnt', 'Bwd IAT Mean', 'Active Min', 'Bwd IAT Min', 'Active Mean', 'Idle Std', 'Init Bwd Win Byts', 'Fwd Byts/b Avg', 'Flow Byts/s', 'Pkt Len Min'], 'Adv sample 406': ['ACK Flag Cnt', 'Bwd IAT Max', 'Active Min', 'Init Bwd Win Byts', 'Flow IAT Mean', 'Active Max', 'Fwd Byts/b Avg', 'Subflow Bwd Byts', 'Flow IAT Std', 'Fwd Pkt Len Max'], 'Adv sample 407': ['ACK Flag Cnt', 'FIN Flag Cnt', 'Init Bwd Win Byts', 'Bwd IAT Mean', 'Fwd IAT Min', 'Active Mean', 'Flow Pkts/s', 'Pkt Len Min', 'Fwd Byts/b Avg', 'Bwd Pkt Len Max'], 'Adv sample 408': ['SYN Flag Cnt', 'Bwd IAT Mean', 'Active Min', 'Active Mean', 'Init Bwd Win Byts', 'Bwd IAT Min', 'Bwd IAT Tot', 'Fwd IAT Min', 'Bwd Pkts/b Avg', 'Pkt Len Min'], 'Adv sample 409': ['Active Min', 'Bwd IAT Min', 'Init Bwd Win Byts', 'Active Mean', 'Pkt Len Min', 'Bwd IAT Mean', 'Fwd Byts/b Avg', 'Bwd IAT Std', 'Bwd Pkts/b Avg', 'Bwd IAT Max'], 'Adv sample 410': ['Active Mean', 'Bwd IAT Mean', 'Active Min', 'Init Bwd Win Byts', 'Active Max', 'Pkt Len Min', 'Fwd Byts/b Avg', 'Bwd Pkts/b Avg', 'Idle Min', 'Bwd IAT Tot'], 'Adv sample 411': ['SYN Flag Cnt', 'Active Mean', 'Fwd IAT Min', 'Active Max', 'Init Bwd Win Byts', 'Bwd Pkts/b Avg', 'Bwd IAT Min', 'Idle Std', 'Pkt Len Min', 'Bwd IAT Max'], 'Adv sample 412': ['SYN Flag Cnt', 'Bwd IAT Min', 'Bwd IAT Tot', 'Init Bwd Win Byts', 'Pkt Len Min', 'Bwd Pkts/b Avg', 'Flow IAT Max', 'Pkt Len Std', 'Fwd Pkts/s', 'Active Max'], 'Adv sample 413': ['Active Mean', 'FIN Flag Cnt', 'Down/Up Ratio', 'Bwd IAT Std', 'Bwd IAT Max', 'Init Bwd Win Byts', 'Bwd IAT Min', 'Bwd IAT Tot', 'Bwd Pkts/b Avg', 'Pkt Len Min'], 'Adv sample 414': ['SYN Flag Cnt', 'Init Bwd Win Byts', 'Bwd IAT Std', 'Pkt Len Min', 'Active Min', 'Active Max', 'Down/Up Ratio', 'Active Mean', 'Bwd IAT Tot', 'Bwd Pkt Len Min'], 'Adv sample 415': ['ACK Flag Cnt', 'Active Mean', 'Flow IAT Std', 'Init Bwd Win Byts', 'Flow IAT Mean', 'Active Min', 'Active Max', 'Fwd IAT Mean', 'Fwd Pkt Len Std', 'Bwd Pkt Len Min'], 'Adv sample 416': ['SYN Flag Cnt', 'Bwd Pkts/b Avg', 'Fwd Byts/b Avg', 'Bwd IAT Mean', 'Fwd IAT Min', 'Idle Max', 'Init Bwd Win Byts', 'Bwd IAT Min', 'Pkt Size Avg', 'Pkt Len Min'], 'Adv sample 417': ['Bwd Pkts/s', 'Bwd IAT Mean', 'Active Mean', 'Flow Pkts/s', 'Init Bwd Win Byts', 'Idle Max', 'Fwd IAT Min', 'Fwd Blk Rate Avg', 'Down/Up Ratio', 'Pkt Len Min'], 'Adv sample 418': ['Bwd IAT Min', 'Active Mean', 'Active Min', 'Active Max', 'Init Bwd Win Byts', 'Bwd IAT Max', 'Bwd IAT Tot', 'Pkt Len Min', 'Fwd Byts/b Avg', 'Bwd IAT Mean'], 'Adv sample 419': ['SYN Flag Cnt', 'Init Bwd Win Byts', 'Active Min', 'Bwd IAT Tot', 'Fwd IAT Min', 'Bwd IAT Std', 'Bwd IAT Max', 'Bwd IAT Mean', 'Bwd IAT Min', 'Fwd Byts/b Avg'], 'Adv sample 420': ['ACK Flag Cnt', 'FIN Flag Cnt', 'Init Bwd Win Byts', 'Active Max', 'Active Mean', 'Pkt Len Min', 'Bwd IAT Std', 'Active Min', 'Fwd IAT Min', 'Down/Up Ratio'], 'Adv sample 421': ['Flow Pkts/s', 'Bwd Pkts/s', 'Active Min', 'Active Max', 'Bwd IAT Max', 'Bwd IAT Mean', 'Init Bwd Win Byts', 'Bwd IAT Tot', 'Down/Up Ratio', 'Fwd IAT Min'], 'Adv sample 422': ['SYN Flag Cnt', 'Fwd IAT Min', 'Init Bwd Win Byts', 'Bwd Header Len', 'Idle Std', 'Bwd Pkt Len Max', 'Active Min', 'Tot Fwd Pkts', 'TotLen Bwd Pkts', 'Pkt Size Avg'], 'Adv sample 423': ['SYN Flag Cnt', 'Active Min', 'Active Mean', 'Bwd IAT Mean', 'Fwd Byts/b Avg', 'Init Bwd Win Byts', 'Pkt Len Min', 'Fwd Blk Rate Avg', 'Bwd IAT Min', 'Fwd Pkt Len Min'], 'Adv sample 424': ['SYN Flag Cnt', 'Idle Std', 'Fwd Byts/b Avg', 'Init Bwd Win Byts', 'Pkt Len Min', 'Down/Up Ratio', 'Pkt Len Std', 'Bwd Seg Size Avg', 'Bwd Pkt Len Min', 'Subflow Fwd Pkts'], 'Adv sample 425': ['Bwd IAT Mean', 'Active Mean', 'Fwd Byts/b Avg', 'Bwd Pkts/b Avg', 'Init Bwd Win Byts', 'Bwd IAT Tot', 'Idle Mean', 'Pkt Len Std', 'Idle Max', 'Idle Min'], 'Adv sample 426': ['Bwd IAT Mean', 'Active Max', 'Init Bwd Win Byts', 'Down/Up Ratio', 'Pkt Len Min', 'Idle Max', 'Bwd IAT Min', 'Fwd Blk Rate Avg', 'Flow IAT Std', 'Fwd Pkt Len Std'], 'Adv sample 427': ['ACK Flag Cnt', 'Active Max', 'Bwd IAT Std', 'Fwd IAT Min', 'Active Min', 'Bwd IAT Mean', 'Down/Up Ratio', 'Pkt Size Avg', 'Fwd Seg Size Avg', 'Flow Duration'], 'Adv sample 428': ['ACK Flag Cnt', 'Active Mean', 'Fwd IAT Min', 'TotLen Fwd Pkts', 'Pkt Size Avg', 'Pkt Len Min', 'Fwd Pkt Len Mean', 'Active Max', 'Pkt Len Max', 'Fwd Byts/b Avg'], 'Adv sample 429': ['URG Flag Cnt', 'Bwd URG Flags', 'Active Mean', 'Init Bwd Win Byts', 'PSH Flag Cnt', 'Active Min', 'Down/Up Ratio', 'Bwd IAT Std', 'Active Max', 'Bwd IAT Tot'], 'Adv sample 430': ['Bwd IAT Min', 'Active Min', 'Fwd Byts/b Avg', 'Active Mean', 'Pkt Len Min', 'Init Bwd Win Byts', 'Bwd IAT Mean', 'Bwd IAT Std', 'Bwd Pkt Len Mean', 'Fwd IAT Min'], 'Adv sample 431': ['Active Mean', 'Bwd IAT Min', 'Idle Min', 'Fwd Byts/b Avg', 'Fwd IAT Min', 'Init Bwd Win Byts', 'Idle Max', 'Bwd Pkts/b Avg', 'Pkt Len Std', 'Pkt Len Max'], 'Adv sample 432': ['SYN Flag Cnt', 'Bwd IAT Std', 'Bwd IAT Mean', 'Init Bwd Win Byts', 'Idle Std', 'Bwd IAT Min', 'Subflow Fwd Pkts', 'Bwd Pkt Len Min', 'Pkt Len Min', 'Fwd Pkt Len Min'], 'Adv sample 433': ['ACK Flag Cnt', 'FIN Flag Cnt', 'Fwd IAT Mean', 'Init Bwd Win Byts', 'Active Min', 'Active Mean', 'Bwd IAT Max', 'Flow Pkts/s', 'Bwd IAT Min', 'Bwd Pkt Len Std'], 'Adv sample 434': ['Active Mean', 'Bwd IAT Tot', 'Bwd IAT Mean', 'Fwd IAT Min', 'Bwd IAT Max', 'Init Bwd Win Byts', 'Pkt Len Min', 'Fwd Blk Rate Avg', 'Bwd Pkts/b Avg', 'Subflow Bwd Pkts'], 'Adv sample 435': ['ACK Flag Cnt', 'Fwd IAT Min', 'Init Bwd Win Byts', 'Idle Min', 'Active Max', 'Flow Pkts/s', 'Fwd Byts/b Avg', 'Fwd IAT Mean', 'Idle Mean', 'Bwd Pkt Len Min'], 'Adv sample 436': ['SYN Flag Cnt', 'Bwd IAT Mean', 'Init Bwd Win Byts', 'Bwd IAT Min', 'Fwd Byts/b Avg', 'Flow Pkts/s', 'Bwd Pkts/s', 'Bwd IAT Max', 'Subflow Fwd Pkts', 'Fwd IAT Mean'], 'Adv sample 437': ['Bwd IAT Min', 'Bwd IAT Tot', 'Init Bwd Win Byts', 'Bwd IAT Mean', 'Active Mean', 'Down/Up Ratio', 'Bwd IAT Std', 'Active Min', 'Pkt Len Min', 'Active Max'], 'Adv sample 438': ['SYN Flag Cnt', 'Active Min', 'Bwd IAT Min', 'Bwd IAT Mean', 'Init Bwd Win Byts', 'Bwd IAT Tot', 'Idle Max', 'Idle Std', 'Tot Bwd Pkts', 'Fwd Seg Size Avg'], 'Adv sample 439': ['Bwd IAT Mean', 'Active Mean', 'Bwd IAT Max', 'Idle Mean', 'Init Bwd Win Byts', 'Active Max', 'Fwd IAT Min', 'Bwd Pkt Len Max', 'Fwd Blk Rate Avg', 'Pkt Len Min'], 'Adv sample 440': ['Idle Std', 'Active Mean', 'Init Bwd Win Byts', 'Active Min', 'Active Max', 'Fwd Byts/b Avg', 'Bwd IAT Std', 'Idle Max', 'Down/Up Ratio', 'Pkt Len Min'], 'Adv sample 441': ['Bwd Pkts/s', 'Flow Pkts/s', 'Bwd IAT Mean', 'Bwd IAT Std', 'Init Bwd Win Byts', 'Bwd IAT Max', 'Bwd IAT Tot', 'Down/Up Ratio', 'Pkt Len Min', 'Idle Std'], 'Adv sample 442': ['ACK Flag Cnt', 'Bwd IAT Tot', 'Bwd IAT Max', 'Bwd IAT Std', 'Init Bwd Win Byts', 'Active Mean', 'Bwd IAT Mean', 'Active Min', 'Pkt Len Mean', 'Active Max'], 'Adv sample 443': ['Active Min', 'Active Mean', 'Bwd IAT Min', 'Active Max', 'Init Bwd Win Byts', 'Bwd IAT Std', 'Bwd IAT Max', 'Pkt Len Min', 'Fwd IAT Min', 'Idle Min'], 'Adv sample 444': ['ACK Flag Cnt', 'Bwd IAT Tot', 'Active Mean', 'Flow IAT Std', 'Init Bwd Win Byts', 'Flow IAT Mean', 'Active Min', 'Fwd IAT Min', 'Pkt Size Avg', 'Fwd Pkts/s'], 'Adv sample 445': ['ACK Flag Cnt', 'Bwd IAT Std', 'Init Bwd Win Byts', 'Fwd IAT Min', 'Active Mean', 'Active Min', 'Bwd IAT Max', 'Pkt Len Min', 'Bwd PSH Flags', 'Active Max'], 'Adv sample 446': ['ACK Flag Cnt', 'Init Bwd Win Byts', 'Fwd IAT Min', 'Active Max', 'Fwd Byts/b Avg', 'Bwd IAT Tot', 'Pkt Len Min', 'Bwd IAT Mean', 'Bwd Pkt Len Mean', 'Bwd Pkt Len Min'], 'Adv sample 447': ['ACK Flag Cnt', 'Bwd IAT Mean', 'Bwd IAT Max', 'Bwd IAT Min', 'Init Bwd Win Byts', 'Fwd IAT Mean', 'Fwd Byts/b Avg', 'Idle Min', 'Down/Up Ratio', 'Pkt Len Min'], 'Adv sample 448': ['ACK Flag Cnt', 'Init Bwd Win Byts', 'Active Max', 'Fwd IAT Min', 'Active Min', 'Active Mean', 'TotLen Bwd Pkts', 'Pkt Len Min', 'Bwd IAT Std', 'Fwd IAT Mean'], 'Adv sample 449': ['Active Max', 'Bwd IAT Mean', 'Idle Min', 'Fwd IAT Min', 'Fwd Byts/b Avg', 'Bwd IAT Min', 'Active Min', 'Init Bwd Win Byts', 'Bwd IAT Max', 'Fwd Header Len'], 'Adv sample 450': ['ACK Flag Cnt', 'Active Max', 'Active Mean', 'Bwd IAT Tot', 'Init Bwd Win Byts', 'Idle Std', 'Bwd IAT Std', 'Active Min', 'Down/Up Ratio', 'Pkt Len Min'], 'Adv sample 451': ['Bwd IAT Mean', 'Fwd IAT Min', 'Fwd Byts/b Avg', 'Bwd Pkts/b Avg', 'Idle Std', 'Active Mean', 'Pkt Len Min', 'Init Bwd Win Byts', 'Pkt Size Avg', 'Bwd IAT Max'], 'Adv sample 452': ['SYN Flag Cnt', 'Idle Std', 'Init Bwd Win Byts', 'Fwd Byts/b Avg', 'Bwd IAT Min', 'Fwd IAT Min', 'Bwd Pkts/b Avg', 'Fwd Pkt Len Std', 'Pkt Len Min', 'Bwd Seg Size Avg'], 'Adv sample 453': ['Bwd IAT Min', 'Active Min', 'Bwd IAT Mean', 'Init Bwd Win Byts', 'Fwd Byts/b Avg', 'Bwd IAT Max', 'Active Mean', 'Pkt Len Min', 'Fwd Seg Size Avg', 'Fwd Blk Rate Avg'], 'Adv sample 454': ['Bwd IAT Mean', 'Init Bwd Win Byts', 'Bwd IAT Min', 'Active Min', 'Fwd Byts/b Avg', 'Active Mean', 'Pkt Len Min', 'Bwd IAT Std', 'Bwd Pkts/b Avg', 'Active Max'], 'Adv sample 455': ['Bwd IAT Std', 'Active Max', 'Bwd IAT Mean', 'Active Min', 'Init Bwd Win Byts', 'Active Mean', 'Bwd IAT Max', 'Fwd Byts/b Avg', 'Bwd Pkts/s', 'Flow Pkts/s'], 'Adv sample 456': ['Bwd IAT Max', 'Active Max', 'Active Mean', 'Fwd Byts/b Avg', 'Active Min', 'Bwd Pkt Len Min', 'Idle Min', 'Pkt Len Min', 'Pkt Len Std', 'Pkt Size Avg'], 'Adv sample 457': ['ACK Flag Cnt', 'FIN Flag Cnt', 'Init Bwd Win Byts', 'Active Max', 'Flow Pkts/s', 'Pkt Len Mean', 'Pkt Len Min', 'Bwd IAT Tot', 'Tot Bwd Pkts', 'Active Mean'], 'Adv sample 458': ['Bwd IAT Mean', 'Active Mean', 'Init Bwd Win Byts', 'Idle Std', 'Active Min', 'Bwd IAT Std', 'Pkt Len Min', 'Active Max', 'Fwd IAT Min', 'Bwd IAT Tot'], 'Adv sample 459': ['Bwd IAT Mean', 'Active Mean', 'Active Min', 'Bwd IAT Std', 'Init Bwd Win Byts', 'Active Max', 'Pkt Len Min', 'Fwd IAT Min', 'Fwd Byts/b Avg', 'Tot Bwd Pkts'], 'Adv sample 460': ['ACK Flag Cnt', 'Active Mean', 'Active Max', 'Fwd IAT Min', 'Init Bwd Win Byts', 'Active Min', 'Flow Pkts/s', 'Bwd IAT Std', 'Bwd IAT Min', 'FIN Flag Cnt'], 'Adv sample 461': ['Bwd Pkts/s', 'Flow Pkts/s', 'Bwd IAT Std', 'Bwd IAT Max', 'Active Mean', 'Init Bwd Win Byts', 'Bwd IAT Mean', 'Active Min', 'Pkt Len Min', 'Down/Up Ratio'], 'Adv sample 462': ['ACK Flag Cnt', 'Fwd IAT Min', 'Fwd Byts/b Avg', 'Fwd Blk Rate Avg', 'Init Bwd Win Byts', 'Idle Mean', 'Idle Min', 'Active Max', 'Bwd Pkts/b Avg', 'Flow Pkts/s'], 'Adv sample 463': ['ACK Flag Cnt', 'Bwd IAT Std', 'Bwd IAT Tot', 'Active Mean', 'Init Bwd Win Byts', 'Active Min', 'Flow IAT Std', 'Flow IAT Mean', 'Fwd Pkt Len Std', 'Fwd Pkt Len Min'], 'Adv sample 464': ['SYN Flag Cnt', 'Idle Std', 'Fwd Blk Rate Avg', 'Active Max', 'Init Bwd Win Byts', 'Fwd Byts/b Avg', 'Bwd Pkts/b Avg', 'Pkt Len Min', 'Tot Fwd Pkts', 'Flow Pkts/s'], 'Adv sample 465': ['SYN Flag Cnt', 'Active Min', 'Active Mean', 'Fwd IAT Mean', 'Init Bwd Win Byts', 'Idle Std', 'Fwd Byts/b Avg', 'Bwd IAT Mean', 'Bwd IAT Std', 'Bwd IAT Min'], 'Adv sample 466': ['Active Mean', 'ACK Flag Cnt', 'Active Min', 'Idle Std', 'Init Bwd Win Byts', 'Active Max', 'Bwd IAT Std', 'Fwd IAT Min', 'Bwd IAT Mean', 'Bwd IAT Tot'], 'Adv sample 467': ['ACK Flag Cnt', 'Active Min', 'Init Bwd Win Byts', 'Fwd IAT Min', 'Bwd IAT Std', 'Bwd IAT Max', 'Pkt Len Min', 'Down/Up Ratio', 'Tot Bwd Pkts', 'Bwd IAT Tot'], 'Adv sample 468': ['Bwd Pkts/s', 'Bwd IAT Mean', 'Fwd IAT Min', 'Init Bwd Win Byts', 'Down/Up Ratio', 'Pkt Len Min', 'Idle Max', 'Flow Pkts/s', 'Bwd Pkt Len Max', 'Bwd IAT Min'], 'Adv sample 469': ['SYN Flag Cnt', 'Bwd IAT Mean', 'Active Mean', 'Bwd IAT Max', 'Init Bwd Win Byts', 'Active Max', 'Idle Std', 'Fwd Byts/b Avg', 'Pkt Len Min', 'Active Min'], 'Adv sample 470': ['ACK Flag Cnt', 'Active Max', 'Idle Std', 'Init Bwd Win Byts', 'Active Min', 'Fwd IAT Min', 'Pkt Len Min', 'Active Mean', 'Bwd IAT Tot', 'Bwd Pkt Len Min'], 'Adv sample 471': ['SYN Flag Cnt', 'Bwd IAT Std', 'Fwd Byts/b Avg', 'Idle Std', 'Init Bwd Win Byts', 'Fwd Blk Rate Avg', 'Bwd Pkt Len Min', 'Bwd Byts/b Avg', 'Pkt Len Min', 'Pkt Len Var'], 'Adv sample 472': ['Active Mean', 'Active Max', 'Bwd IAT Mean', 'Fwd IAT Min', 'Active Min', 'Fwd Byts/b Avg', 'Pkt Len Min', 'Init Bwd Win Byts', 'Bwd Pkts/b Avg', 'Bwd IAT Min'], 'Adv sample 473': ['Active Min', 'Init Bwd Win Byts', 'Active Mean', 'Bwd IAT Std', 'Active Max', 'Pkt Len Min', 'Fwd IAT Min', 'Bwd Pkts/b Avg', 'Bwd IAT Min', 'Idle Max'], 'Adv sample 474': ['SYN Flag Cnt', 'Active Mean', 'Idle Std', 'Active Max', 'Bwd IAT Min', 'Init Bwd Win Byts', 'Fwd Byts/b Avg', 'Pkt Len Min', 'Bwd Pkts/b Avg', 'Fwd Pkt Len Min'], 'Adv sample 475': ['ACK Flag Cnt', 'Bwd IAT Std', 'Init Bwd Win Byts', 'Bwd IAT Tot', 'Idle Std', 'Bwd IAT Max', 'Bwd IAT Min', 'Bwd IAT Mean', 'Active Max', 'Pkt Len Min'], 'Adv sample 476': ['Bwd Pkts/s', 'Bwd IAT Mean', 'Active Mean', 'Active Max', 'Bwd IAT Std', 'Flow Pkts/s', 'Active Min', 'Init Bwd Win Byts', 'Bwd IAT Min', 'Bwd IAT Max'], 'Adv sample 477': ['ACK Flag Cnt', 'Active Mean', 'Fwd IAT Min', 'Pkt Len Var', 'Init Bwd Win Byts', 'Down/Up Ratio', 'Pkt Len Min', 'Subflow Bwd Pkts', 'Active Max', 'Fwd Byts/b Avg'], 'Adv sample 478': ['Bwd IAT Std', 'Active Max', 'Bwd IAT Min', 'Fwd Byts/b Avg', 'Fwd IAT Min', 'Init Bwd Win Byts', 'Idle Std', 'Pkt Len Min', 'Idle Min', 'Active Std'], 'Adv sample 479': ['ACK Flag Cnt', 'Active Max', 'Active Min', 'Active Mean', 'Init Bwd Win Byts', 'Bwd IAT Std', 'Pkt Len Min', 'Fwd Header Len', 'Down/Up Ratio', 'Idle Std'], 'Adv sample 480': ['ACK Flag Cnt', 'Init Bwd Win Byts', 'Bwd IAT Tot', 'Active Min', 'Fwd Pkt Len Mean', 'TotLen Fwd Pkts', 'Active Max', 'Bwd Pkt Len Min', 'Fwd IAT Min', 'Pkt Len Min'], 'Adv sample 481': ['ACK Flag Cnt', 'Active Min', 'Active Max', 'Idle Std', 'Bwd IAT Max', 'Fwd IAT Min', 'Init Bwd Win Byts', 'Bwd IAT Std', 'Active Mean', 'Pkt Len Min'], 'Adv sample 482': ['ACK Flag Cnt', 'Active Mean', 'Init Bwd Win Byts', 'Active Max', 'Fwd IAT Min', 'Bwd IAT Max', 'Active Min', 'Bwd IAT Mean', 'Pkt Len Min', 'Bwd IAT Std'], 'Adv sample 483': ['SYN Flag Cnt', 'Fwd IAT Min', 'Active Mean', 'Bwd IAT Min', 'Init Bwd Win Byts', 'Bwd Pkts/b Avg', 'Bwd Byts/b Avg', 'Pkt Len Min', 'Bwd IAT Max', 'Down/Up Ratio'], 'Adv sample 484': ['Active Mean', 'Init Bwd Win Byts', 'Active Max', 'Bwd IAT Min', 'Fwd Byts/b Avg', 'Fwd IAT Min', 'Bwd IAT Mean', 'Pkt Len Min', 'Pkt Size Avg', 'Pkt Len Std'], 'Adv sample 485': ['SYN Flag Cnt', 'Init Bwd Win Byts', 'Active Min', 'Active Mean', 'Pkt Len Min', 'Bwd IAT Max', 'Active Max', 'Fwd IAT Min', 'Fwd Byts/b Avg', 'Bwd IAT Mean'], 'Adv sample 486': ['Bwd Pkts/s', 'Bwd IAT Tot', 'Bwd IAT Min', 'Active Min', 'Down/Up Ratio', 'Flow Pkts/s', 'Init Bwd Win Byts', 'Bwd IAT Std', 'Bwd IAT Max', 'Idle Max'], 'Adv sample 487': ['Idle Max', 'Init Bwd Win Byts', 'Pkt Len Min', 'Bwd IAT Tot', 'Fwd Byts/b Avg', 'Flow IAT Max', 'Idle Min', 'Pkt Len Std', 'Pkt Size Avg', 'Fwd Blk Rate Avg'], 'Adv sample 488': ['Bwd IAT Std', 'Active Min', 'Init Bwd Win Byts', 'Active Max', 'Pkt Len Min', 'Fwd IAT Min', 'Active Mean', 'Bwd IAT Mean', 'Bwd IAT Tot', 'Down/Up Ratio'], 'Adv sample 489': ['Bwd IAT Min', 'Idle Std', 'Bwd IAT Max', 'Fwd Byts/b Avg', 'Init Bwd Win Byts', 'Bwd IAT Tot', 'Bwd IAT Mean', 'Down/Up Ratio', 'Pkt Len Min', 'Bwd Pkt Len Min'], 'Adv sample 490': ['Bwd IAT Min', 'Active Mean', 'Active Min', 'Bwd IAT Tot', 'Pkt Len Min', 'Active Max', 'Down/Up Ratio', 'Bwd IAT Mean', 'Fwd Byts/b Avg', 'Init Bwd Win Byts'], 'Adv sample 491': ['Bwd Pkts/s', 'Bwd IAT Mean', 'Flow Pkts/s', 'Init Bwd Win Byts', 'Pkt Len Min', 'Idle Max', 'Pkt Size Avg', 'Flow Byts/s', 'Pkt Len Mean', 'Flow Duration'], 'Adv sample 492': ['Bwd IAT Mean', 'Bwd IAT Min', 'Init Bwd Win Byts', 'Fwd Byts/b Avg', 'Pkt Len Min', 'Pkt Len Std', 'TotLen Bwd Pkts', 'Fwd Blk Rate Avg', 'Down/Up Ratio', 'Flow IAT Max'], 'Adv sample 493': ['SYN Flag Cnt', 'Active Mean', 'Init Bwd Win Byts', 'Bwd IAT Max', 'Bwd Pkt Len Min', 'Bwd IAT Mean', 'Down/Up Ratio', 'Flow IAT Mean', 'Flow Byts/s', 'Fwd IAT Min'], 'Adv sample 494': ['Active Min', 'Init Bwd Win Byts', 'Bwd IAT Min', 'Bwd IAT Std', 'Active Mean', 'Bwd IAT Mean', 'Bwd IAT Max', 'Pkt Len Min', 'Bwd Pkt Len Min', 'Down/Up Ratio'], 'Adv sample 495': ['Init Bwd Win Byts', 'Pkt Len Min', 'Bwd IAT Std', 'Down/Up Ratio', 'Active Min', 'Active Max', 'Fwd IAT Min', 'Fwd Byts/b Avg', 'Active Mean', 'Bwd IAT Max'], 'Adv sample 496': ['SYN Flag Cnt', 'Active Max', 'Init Bwd Win Byts', 'Bwd IAT Min', 'Bwd IAT Std', 'Active Min', 'Active Mean', 'Bwd IAT Mean', 'Idle Std', 'Pkt Len Min'], 'Adv sample 497': ['SYN Flag Cnt', 'Init Bwd Win Byts', 'Fwd Blk Rate Avg', 'Fwd IAT Min', 'Bwd Pkts/b Avg', 'Flow IAT Max', 'Down/Up Ratio', 'Pkt Len Max', 'Idle Std', 'Pkt Len Var'], 'Adv sample 498': ['SYN Flag Cnt', 'Bwd IAT Max', 'Idle Std', 'Init Bwd Win Byts', 'Bwd Pkts/b Avg', 'Bwd Pkt Len Min', 'Pkt Len Std', 'Pkt Size Avg', 'Active Min', 'Pkt Len Min'], 'Adv sample 499': ['SYN Flag Cnt', 'Active Mean', 'Bwd IAT Min', 'Init Bwd Win Byts', 'Bwd IAT Std', 'Active Max', 'Active Min', 'Pkt Len Min', 'Idle Std', 'Bwd Pkts/b Avg'], 'Adv sample 500': ['Bwd IAT Min', 'Init Bwd Win Byts', 'Active Min', 'Active Mean', 'Pkt Len Min', 'Active Max', 'Bwd IAT Mean', 'Fwd Byts/b Avg', 'Down/Up Ratio', 'Pkt Len Mean'], 'Adv sample 501': ['SYN Flag Cnt', 'Fwd Byts/b Avg', 'Init Bwd Win Byts', 'Pkt Len Min', 'Bwd Pkt Len Min', 'Bwd IAT Tot', 'Fwd Pkt Len Min', 'TotLen Fwd Pkts', 'Tot Fwd Pkts', 'Bwd Byts/b Avg'], 'Adv sample 502': ['Active Min', 'Bwd IAT Max', 'Bwd IAT Mean', 'Init Bwd Win Byts', 'Active Mean', 'Bwd IAT Tot', 'Fwd Byts/b Avg', 'Pkt Len Min', 'Fwd Act Data Pkts', 'Fwd Blk Rate Avg'], 'Adv sample 503': ['SYN Flag Cnt', 'Active Mean', 'Active Max', 'Bwd IAT Min', 'Bwd IAT Std', 'Active Min', 'Flow IAT Mean', 'Init Bwd Win Byts', 'Idle Std', 'Fwd Blk Rate Avg'], 'Adv sample 504': ['Active Mean', 'Bwd IAT Std', 'Bwd Pkts/s', 'Init Bwd Win Byts', 'Active Max', 'Bwd IAT Mean', 'Fwd IAT Min', 'Idle Std', 'Active Min', 'Bwd URG Flags'], 'Adv sample 505': ['Bwd IAT Max', 'Active Min', 'Fwd Byts/b Avg', 'Active Mean', 'Bwd IAT Min', 'Active Max', 'Init Bwd Win Byts', 'Bwd IAT Mean', 'Bwd IAT Tot', 'Idle Min'], 'Adv sample 506': ['ACK Flag Cnt', 'Init Bwd Win Byts', 'Bwd IAT Std', 'Fwd IAT Min', 'FIN Flag Cnt', 'Active Max', 'Flow Pkts/s', 'Active Mean', 'Fwd Byts/b Avg', 'Active Min'], 'Adv sample 507': ['Bwd Pkts/s', 'Active Mean', 'Bwd IAT Mean', 'Flow Pkts/s', 'Bwd IAT Std', 'Init Bwd Win Byts', 'Bwd IAT Tot', 'Bwd IAT Max', 'Active Min', 'Pkt Len Min'], 'Adv sample 508': ['SYN Flag Cnt', 'Active Max', 'Bwd IAT Mean', 'Bwd IAT Min', 'Active Min', 'Bwd IAT Std', 'Init Bwd Win Byts', 'Active Mean', 'Idle Std', 'Pkt Len Min'], 'Adv sample 509': ['SYN Flag Cnt', 'Init Bwd Win Byts', 'Bwd IAT Mean', 'Idle Std', 'Fwd IAT Min', 'Active Min', 'Bwd IAT Std', 'Bwd Pkts/b Avg', 'Pkt Len Min', 'Bwd IAT Max'], 'Adv sample 510': ['Bwd IAT Std', 'Active Min', 'ACK Flag Cnt', 'Init Bwd Win Byts', 'Active Mean', 'Idle Std', 'Active Max', 'Pkt Len Min', 'Fwd IAT Min', 'Down/Up Ratio'], 'Adv sample 511': ['SYN Flag Cnt', 'Idle Std', 'Bwd Pkts/b Avg', 'Init Bwd Win Byts', 'Fwd IAT Min', 'Pkt Len Min', 'Active Min', 'Pkt Size Avg', 'Bwd Pkt Len Min', 'Flow Duration'], 'Adv sample 512': ['Bwd IAT Std', 'ACK Flag Cnt', 'Active Max', 'Idle Std', 'Init Bwd Win Byts', 'Pkt Len Min', 'Idle Min', 'Bwd IAT Tot', 'Bwd Byts/b Avg', 'PSH Flag Cnt'], 'Adv sample 513': ['SYN Flag Cnt', 'Bwd IAT Min', 'Active Mean', 'Bwd IAT Mean', 'Fwd Byts/b Avg', 'Idle Std', 'Active Max', 'Init Bwd Win Byts', 'Bwd URG Flags', 'Subflow Bwd Byts'], 'Adv sample 514': ['SYN Flag Cnt', 'Bwd IAT Min', 'Bwd IAT Mean', 'Init Bwd Win Byts', 'Pkt Len Min', 'Fwd IAT Min', 'Bwd Pkt Len Min', 'Fwd Byts/b Avg', 'Fwd Pkts/s', 'TotLen Fwd Pkts'], 'Adv sample 515': ['Active Min', 'Active Mean', 'Bwd IAT Min', 'Init Bwd Win Byts', 'Bwd Pkts/b Avg', 'Fwd Byts/b Avg', 'Bwd IAT Mean', 'Bwd PSH Flags', 'Flow IAT Min', 'Subflow Bwd Pkts'], 'Adv sample 516': ['ACK Flag Cnt', 'Active Mean', 'Fwd IAT Min', 'Idle Std', 'Active Min', 'Bwd IAT Std', 'Init Bwd Win Byts', 'Active Max', 'Idle Max', 'Pkt Len Min'], 'Adv sample 517': ['Active Min', 'Active Mean', 'Bwd IAT Mean', 'Active Max', 'Init Bwd Win Byts', 'Fwd IAT Min', 'Down/Up Ratio', 'Fwd Byts/b Avg', 'Bwd IAT Max', 'Pkt Len Min'], 'Adv sample 518': ['SYN Flag Cnt', 'Idle Std', 'Bwd IAT Std', 'Active Max', 'Init Bwd Win Byts', 'Fwd Byts/b Avg', 'Bwd IAT Min', 'Fwd Blk Rate Avg', 'Pkt Len Min', 'Active Mean'], 'Adv sample 519': ['SYN Flag Cnt', 'Bwd IAT Mean', 'Init Bwd Win Byts', 'Bwd IAT Min', 'Active Min', 'Active Mean', 'Bwd IAT Std', 'Pkt Len Min', 'Active Max', 'Idle Std'], 'Adv sample 520': ['SYN Flag Cnt', 'Active Min', 'Active Mean', 'Init Bwd Win Byts', 'Active Max', 'Idle Std', 'Pkt Len Min', 'Fwd IAT Min', 'Bwd IAT Mean', 'Fwd IAT Mean'], 'Adv sample 521': ['ACK Flag Cnt', 'Bwd IAT Std', 'Init Bwd Win Byts', 'Active Max', 'FIN Flag Cnt', 'Flow IAT Std', 'Flow Pkts/s', 'Flow IAT Mean', 'Bwd IAT Tot', 'Bwd Pkts/s'], 'Adv sample 522': ['Active Min', 'Fwd Byts/b Avg', 'Bwd IAT Mean', 'Active Mean', 'Init Bwd Win Byts', 'Active Max', 'Pkt Len Min', 'Pkt Len Std', 'Fwd IAT Mean', 'Bwd IAT Min'], 'Adv sample 523': ['Active Min', 'Bwd IAT Std', 'Bwd IAT Min', 'Active Max', 'Fwd IAT Min', 'Bwd IAT Max', 'Init Bwd Win Byts', 'Fwd Byts/b Avg', 'Down/Up Ratio', 'Bwd Pkt Len Min'], 'Adv sample 524': ['Active Min', 'Active Mean', 'Active Max', 'Init Bwd Win Byts', 'Bwd IAT Std', 'Bwd IAT Mean', 'Pkt Len Min', 'Idle Std', 'Fwd Byts/b Avg', 'Bwd Pkts/b Avg'], 'Adv sample 525': ['ACK Flag Cnt', 'Bwd IAT Max', 'Active Mean', 'Init Bwd Win Byts', 'Bwd IAT Std', 'Bwd IAT Tot', 'Flow IAT Mean', 'Flow Pkts/s', 'Bwd IAT Mean', 'PSH Flag Cnt'], 'Adv sample 526': ['ACK Flag Cnt', 'Fwd IAT Min', 'Active Max', 'Fwd Byts/b Avg', 'Init Bwd Win Byts', 'Bwd IAT Tot', 'Pkt Len Min', 'Bwd Pkts/b Avg', 'Fwd IAT Mean', 'Tot Fwd Pkts'], 'Adv sample 527': ['SYN Flag Cnt', 'Init Bwd Win Byts', 'Active Max', 'Bwd IAT Std', 'Fwd IAT Min', 'Bwd IAT Min', 'Active Min', 'Active Mean', 'Pkt Len Min', 'Bwd IAT Mean'], 'Adv sample 528': ['SYN Flag Cnt', 'Bwd IAT Mean', 'Fwd IAT Min', 'Idle Std', 'Fwd Byts/b Avg', 'Bwd Pkts/b Avg', 'Init Bwd Win Byts', 'Active Mean', 'Pkt Len Min', 'Tot Bwd Pkts'], 'Adv sample 529': ['Active Max', 'Bwd Pkts/s', 'Active Min', 'Fwd IAT Min', 'Init Bwd Win Byts', 'Active Mean', 'Bwd IAT Min', 'Down/Up Ratio', 'Fwd Blk Rate Avg', 'Fwd Pkt Len Max'], 'Adv sample 530': ['SYN Flag Cnt', 'Bwd IAT Mean', 'Fwd Pkts/b Avg', 'Init Bwd Win Byts', 'Bwd IAT Min', 'Bwd IAT Max', 'Flow Byts/s', 'Bwd Pkts/b Avg', 'Fwd IAT Min', 'Down/Up Ratio'], 'Adv sample 531': ['Bwd Pkts/s', 'Bwd IAT Mean', 'Fwd IAT Min', 'Flow Pkts/s', 'Init Bwd Win Byts', 'Idle Max', 'Flow Duration', 'Active Min', 'Fwd Byts/b Avg', 'Subflow Bwd Byts'], 'Adv sample 532': ['Active Min', 'Bwd IAT Max', 'Bwd IAT Min', 'Active Mean', 'Init Bwd Win Byts', 'Pkt Len Min', 'Fwd Byts/b Avg', 'Bwd IAT Tot', 'Bwd Pkts/b Avg', 'Subflow Fwd Pkts'], 'Adv sample 533': ['ACK Flag Cnt', 'Init Bwd Win Byts', 'Active Min', 'Fwd IAT Min', 'Bwd IAT Std', 'Fwd IAT Mean', 'Idle Max', 'Bwd IAT Max', 'Bwd IAT Min', 'Down/Up Ratio'], 'Adv sample 534': ['SYN Flag Cnt', 'Bwd IAT Mean', 'Init Bwd Win Byts', 'Idle Std', 'Active Mean', 'Active Min', 'Bwd IAT Min', 'Fwd IAT Min', 'Flow Pkts/s', 'Idle Max'], 'Adv sample 535': ['Bwd IAT Min', 'Bwd IAT Mean', 'Init Bwd Win Byts', 'Active Min', 'Active Max', 'Active Mean', 'Fwd Byts/b Avg', 'Idle Std', 'Down/Up Ratio', 'Pkt Len Min'], 'Adv sample 536': ['SYN Flag Cnt', 'Idle Std', 'Active Max', 'Init Bwd Win Byts', 'Fwd Blk Rate Avg', 'Bwd Pkts/b Avg', 'Pkt Len Max', 'Fwd Pkts/s', 'Fwd Byts/b Avg', 'Pkt Len Min'], 'Adv sample 537': ['ACK Flag Cnt', 'Bwd IAT Std', 'Bwd IAT Tot', 'Fwd IAT Min', 'Init Bwd Win Byts', 'Flow IAT Std', 'Pkt Len Mean', 'Bwd IAT Max', 'Fwd Byts/b Avg', 'Bwd Pkt Len Mean'], 'Adv sample 538': ['SYN Flag Cnt', 'Init Bwd Win Byts', 'Active Max', 'Pkt Len Min', 'Idle Std', 'Active Mean', 'Bwd IAT Std', 'Down/Up Ratio', 'Active Min', 'Bwd IAT Tot'], 'Adv sample 539': ['SYN Flag Cnt', 'Bwd IAT Min', 'Fwd Byts/b Avg', 'Fwd IAT Min', 'Init Bwd Win Byts', 'Bwd Pkts/b Avg', 'Flow IAT Max', 'Idle Std', 'Pkt Len Min', 'Bwd Seg Size Avg'], 'Adv sample 540': ['Bwd IAT Mean', 'Bwd IAT Min', 'Active Min', 'Fwd Byts/b Avg', 'Init Bwd Win Byts', 'Bwd IAT Max', 'Active Mean', 'Pkt Len Min', 'Fwd Blk Rate Avg', 'Bwd Pkt Len Min'], 'Adv sample 541': ['Bwd IAT Mean', 'Active Mean', 'Bwd IAT Tot', 'Init Bwd Win Byts', 'Fwd Blk Rate Avg', 'Pkt Len Min', 'Pkt Size Avg', 'Tot Fwd Pkts', 'Down/Up Ratio', 'Flow IAT Max'], 'Adv sample 542': ['Bwd IAT Min', 'Active Mean', 'Init Bwd Win Byts', 'Active Min', 'Pkt Len Min', 'Down/Up Ratio', 'Active Max', 'Bwd IAT Max', 'Fwd Byts/b Avg', 'Bwd IAT Std'], 'Adv sample 543': ['Active Mean', 'Bwd IAT Min', 'Bwd IAT Mean', 'Init Bwd Win Byts', 'Active Min', 'Fwd Byts/b Avg', 'Active Max', 'Pkt Len Min', 'Bwd Pkts/b Avg', 'Pkt Len Max'], 'Adv sample 544': ['ACK Flag Cnt', 'Active Min', 'Init Bwd Win Byts', 'Fwd IAT Min', 'Bwd IAT Std', 'Fwd Byts/b Avg', 'Fwd IAT Mean', 'Active Mean', 'Bwd IAT Mean', 'Pkt Len Min'], 'Adv sample 545': ['SYN Flag Cnt', 'Bwd IAT Min', 'Fwd IAT Min', 'Init Bwd Win Byts', 'Bwd IAT Tot', 'Bwd Seg Size Avg', 'Fwd Byts/b Avg', 'Bwd Pkt Len Std', 'Pkt Len Mean', 'Subflow Bwd Byts'], 'Adv sample 546': ['Active Max', 'Active Min', 'Active Mean', 'Init Bwd Win Byts', 'Bwd Pkts/b Avg', 'Bwd IAT Mean', 'Fwd IAT Min', 'Idle Std', 'Pkt Len Min', 'Pkt Size Avg'], 'Adv sample 547': ['Active Mean', 'Bwd IAT Mean', 'Init Bwd Win Byts', 'Active Min', 'Fwd IAT Min', 'Bwd Pkts/b Avg', 'Active Max', 'Pkt Len Min', 'Idle Std', 'Fwd Byts/b Avg'], 'Adv sample 548': ['Active Mean', 'Active Max', 'Bwd IAT Max', 'Init Bwd Win Byts', 'Bwd IAT Mean', 'Bwd IAT Tot', 'Bwd IAT Min', 'Fwd IAT Min', 'Idle Max', 'Pkt Len Min'], 'Adv sample 549': ['Active Mean', 'Bwd IAT Mean', 'Bwd Pkts/s', 'Init Bwd Win Byts', 'Bwd IAT Tot', 'Fwd Blk Rate Avg', 'Idle Min', 'Down/Up Ratio', 'Pkt Len Min', 'Pkt Size Avg'], 'Adv sample 550': ['ACK Flag Cnt', 'Bwd IAT Std', 'Bwd IAT Max', 'Init Bwd Win Byts', 'Bwd IAT Tot', 'Bwd IAT Min', 'Flow IAT Std', 'Flow IAT Mean', 'Bwd IAT Mean', 'FIN Flag Cnt'], 'Adv sample 551': ['ACK Flag Cnt', 'Bwd IAT Std', 'Bwd IAT Max', 'Init Bwd Win Byts', 'Bwd IAT Tot', 'Active Max', 'Active Min', 'Flow IAT Mean', 'Idle Std', 'TotLen Fwd Pkts'], 'Adv sample 552': ['Bwd IAT Std', 'Bwd IAT Min', 'Idle Std', 'Init Bwd Win Byts', 'Fwd Byts/b Avg', 'Pkt Len Min', 'Bwd IAT Tot', 'Fwd Header Len', 'Fwd IAT Min', 'Pkt Len Std'], 'Adv sample 553': ['Bwd Pkts/s', 'Bwd IAT Mean', 'Active Mean', 'Flow Pkts/s', 'Bwd IAT Tot', 'Init Bwd Win Byts', 'Bwd IAT Max', 'Active Min', 'Bwd IAT Std', 'Pkt Len Min'], 'Adv sample 554': ['Bwd IAT Mean', 'Active Min', 'Bwd IAT Min', 'Bwd IAT Tot', 'Active Mean', 'Init Bwd Win Byts', 'Bwd Pkts/b Avg', 'Idle Std', 'Fwd Blk Rate Avg', 'Fwd IAT Min'], 'Adv sample 555': ['Bwd IAT Min', 'Active Min', 'Init Bwd Win Byts', 'Bwd IAT Std', 'Pkt Len Min', 'Active Mean', 'Down/Up Ratio', 'Bwd IAT Mean', 'Bwd IAT Max', 'Idle Min'], 'Adv sample 556': ['ACK Flag Cnt', 'Fwd IAT Mean', 'Init Bwd Win Byts', 'Fwd IAT Min', 'Fwd Blk Rate Avg', 'Bwd Pkts/b Avg', 'Flow Pkts/s', 'Flow Byts/s', 'Bwd Pkt Len Std', 'Idle Min'], 'Adv sample 557': ['ACK Flag Cnt', 'Active Max', 'Active Min', 'Active Mean', 'Init Bwd Win Byts', 'Idle Std', 'Flow Duration', 'Bwd IAT Mean', 'Down/Up Ratio', 'Pkt Len Min'], 'Adv sample 558': ['ACK Flag Cnt', 'Bwd IAT Std', 'Init Bwd Win Byts', 'Bwd IAT Max', 'Active Min', 'Fwd IAT Min', 'Active Max', 'Down/Up Ratio', 'Bwd Seg Size Avg', 'Flow IAT Std'], 'Adv sample 559': ['ACK Flag Cnt', 'Active Max', 'Idle Std', 'Init Bwd Win Byts', 'Idle Max', 'Bwd Byts/b Avg', 'Idle Min', 'Down/Up Ratio', 'Pkt Len Min', 'Bwd IAT Tot'], 'Adv sample 560': ['SYN Flag Cnt', 'Active Mean', 'Init Bwd Win Byts', 'Bwd IAT Std', 'Active Max', 'Active Min', 'Pkt Len Min', 'Idle Std', 'Flow Duration', 'Bwd IAT Mean'], 'Adv sample 561': ['Fwd IAT Min', 'ACK Flag Cnt', 'Active Mean', 'Init Bwd Win Byts', 'Active Min', 'Bwd IAT Mean', 'Active Max', 'Bwd PSH Flags', 'Pkt Len Min', 'Bwd IAT Min'], 'Adv sample 562': ['Bwd Pkts/s', 'Flow Pkts/s', 'Bwd IAT Mean', 'Init Bwd Win Byts', 'Active Min', 'Bwd IAT Min', 'Bwd IAT Std', 'Active Max', 'Pkt Len Min', 'Fwd IAT Min'], 'Adv sample 563': ['Bwd Pkts/b Avg', 'Active Mean', 'Bwd IAT Mean', 'Active Min', 'Init Bwd Win Byts', 'Idle Std', 'Pkt Len Min', 'Fwd IAT Min', 'Active Max', 'Bwd IAT Std'], 'Adv sample 564': ['ACK Flag Cnt', 'FIN Flag Cnt', 'Init Bwd Win Byts', 'Active Min', 'Flow Pkts/s', 'Active Mean', 'Fwd IAT Min', 'Bwd IAT Max', 'Bwd Pkt Len Min', 'Down/Up Ratio'], 'Adv sample 565': ['FIN Flag Cnt', 'Bwd IAT Mean', 'Active Min', 'Bwd IAT Max', 'Bwd IAT Min', 'Init Bwd Win Byts', 'Down/Up Ratio', 'Pkt Len Min', 'Active Max', 'Active Mean'], 'Adv sample 566': ['SYN Flag Cnt', 'Fwd Byts/b Avg', 'Init Bwd Win Byts', 'Fwd IAT Min', 'Bwd Pkt Len Mean', 'Bwd Pkts/b Avg', 'Pkt Len Min', 'Fwd Header Len', 'Subflow Fwd Pkts', 'Pkt Len Std'], 'Adv sample 567': ['SYN Flag Cnt', 'Bwd IAT Min', 'Init Bwd Win Byts', 'Bwd IAT Std', 'Active Min', 'Idle Std', 'Active Mean', 'Bwd IAT Max', 'Bwd IAT Mean', 'Active Max'], 'Adv sample 568': ['ACK Flag Cnt', 'Active Mean', 'Bwd IAT Max', 'Bwd IAT Min', 'Bwd IAT Tot', 'Init Bwd Win Byts', 'Active Max', 'Fwd Byts/b Avg', 'Pkt Len Min', 'Subflow Fwd Byts'], 'Adv sample 569': ['SYN Flag Cnt', 'Active Mean', 'Active Min', 'Idle Std', 'Init Bwd Win Byts', 'Active Max', 'Pkt Len Min', 'Bwd IAT Std', 'Bwd IAT Tot', 'Fwd IAT Min'], 'Adv sample 570': ['SYN Flag Cnt', 'Active Min', 'Fwd IAT Min', 'Init Bwd Win Byts', 'Bwd IAT Mean', 'Fwd Byts/b Avg', 'Active Mean', 'Pkt Len Std', 'Bwd IAT Max', 'Bwd IAT Std'], 'Adv sample 571': ['ACK Flag Cnt', 'Bwd IAT Max', 'Active Mean', 'Bwd IAT Tot', 'Active Max', 'Active Min', 'Init Bwd Win Byts', 'Bwd IAT Std', 'Flow IAT Mean', 'Pkt Len Min'], 'Adv sample 572': ['Active Min', 'Init Bwd Win Byts', 'Active Max', 'Bwd Pkts/s', 'Active Mean', 'Down/Up Ratio', 'Bwd IAT Max', 'Bwd IAT Mean', 'Pkt Len Min', 'Bwd IAT Std'], 'Adv sample 573': ['SYN Flag Cnt', 'Idle Std', 'Fwd Byts/b Avg', 'Init Bwd Win Byts', 'Fwd Blk Rate Avg', 'Bwd IAT Mean', 'Bwd URG Flags', 'Idle Max', 'Pkt Size Avg', 'Down/Up Ratio'], 'Adv sample 574': ['Bwd IAT Mean', 'Bwd IAT Max', 'Init Bwd Win Byts', 'Bwd IAT Min', 'Fwd Byts/b Avg', 'Fwd Pkt Len Std', 'Down/Up Ratio', 'Fwd Pkt Len Max', 'Subflow Bwd Byts', 'Fwd Pkt Len Mean'], 'Adv sample 575': ['Bwd IAT Min', 'Bwd IAT Mean', 'Init Bwd Win Byts', 'Bwd IAT Tot', 'Pkt Len Min', 'Down/Up Ratio', 'Subflow Fwd Byts', 'Bwd Pkt Len Mean', 'Pkt Size Avg', 'Pkt Len Std'], 'Adv sample 576': ['ACK Flag Cnt', 'Active Max', 'Fwd IAT Min', 'Bwd Pkt Len Min', 'Bwd IAT Tot', 'Pkt Size Avg', 'Fwd Byts/b Avg', 'Subflow Fwd Byts', 'Down/Up Ratio', 'Init Bwd Win Byts'], 'Adv sample 577': ['SYN Flag Cnt', 'Init Bwd Win Byts', 'Fwd Byts/b Avg', 'Idle Std', 'Pkt Len Min', 'Fwd IAT Min', 'Fwd Act Data Pkts', 'Pkt Len Max', 'TotLen Bwd Pkts', 'Pkt Len Mean'], 'Adv sample 578': ['ACK Flag Cnt', 'Active Max', 'Fwd IAT Min', 'Init Bwd Win Byts', 'FIN Flag Cnt', 'Active Min', 'Bwd IAT Std', 'Bwd IAT Max', 'Bwd IAT Mean', 'Pkt Len Min'], 'Adv sample 579': ['ACK Flag Cnt', 'Bwd Pkts/b Avg', 'Fwd IAT Min', 'Active Max', 'Fwd IAT Mean', 'Init Bwd Win Byts', 'Down/Up Ratio', 'Pkt Len Min', 'Fwd Pkt Len Min', 'Fwd Seg Size Avg'], 'Adv sample 580': ['Active Min', 'Bwd IAT Mean', 'Active Mean', 'Bwd IAT Tot', 'Bwd IAT Max', 'Init Bwd Win Byts', 'Active Max', 'Fwd IAT Min', 'Pkt Len Min', 'Down/Up Ratio'], 'Adv sample 581': ['Bwd IAT Mean', 'Active Max', 'Bwd IAT Max', 'Active Mean', 'Fwd IAT Min', 'Bwd IAT Min', 'Fwd Byts/b Avg', 'Init Bwd Win Byts', 'Pkt Len Max', 'Pkt Len Min'], 'Adv sample 582': ['SYN Flag Cnt', 'Init Bwd Win Byts', 'Active Min', 'Active Mean', 'Bwd IAT Min', 'Active Max', 'Fwd Byts/b Avg', 'Fwd IAT Min', 'Pkt Len Min', 'Bwd IAT Mean'], 'Adv sample 583': ['ACK Flag Cnt', 'Active Mean', 'Bwd IAT Std', 'Bwd IAT Max', 'Init Bwd Win Byts', 'Active Max', 'Fwd IAT Min', 'Flow IAT Std', 'Pkt Len Min', 'Bwd IAT Mean'], 'Adv sample 584': ['Active Mean', 'Active Min', 'Active Max', 'Init Bwd Win Byts', 'Pkt Len Min', 'Bwd IAT Mean', 'Fwd Byts/b Avg', 'Bwd IAT Max', 'Bwd IAT Min', 'Bwd Pkts/b Avg'], 'Adv sample 585': ['ACK Flag Cnt', 'FIN Flag Cnt', 'Active Max', 'Init Bwd Win Byts', 'Bwd IAT Min', 'Flow Pkts/s', 'Fwd IAT Min', 'Fwd Byts/b Avg', 'Flow IAT Max', 'Bwd IAT Tot'], 'Adv sample 586': ['ACK Flag Cnt', 'Bwd IAT Std', 'Bwd IAT Max', 'Active Min', 'Flow IAT Min', 'Bwd IAT Mean', 'Init Bwd Win Byts', 'Fwd IAT Min', 'Bwd Pkt Len Max', 'Flow IAT Mean'], 'Adv sample 587': ['ACK Flag Cnt', 'Bwd IAT Std', 'Bwd IAT Max', 'Bwd IAT Tot', 'Active Min', 'Active Mean', 'Init Bwd Win Byts', 'Idle Std', 'Active Max', 'Bwd IAT Mean'], 'Adv sample 588': ['SYN Flag Cnt', 'Active Mean', 'Bwd IAT Min', 'Bwd IAT Mean', 'Active Min', 'Init Bwd Win Byts', 'Idle Std', 'Pkt Len Min', 'Bwd Pkt Len Std', 'Fwd Byts/b Avg'], 'Adv sample 589': ['SYN Flag Cnt', 'Bwd IAT Min', 'Active Mean', 'Init Bwd Win Byts', 'Bwd IAT Mean', 'Active Max', 'Active Min', 'Fwd IAT Min', 'Pkt Len Min', 'Flow Pkts/s'], 'Adv sample 590': ['SYN Flag Cnt', 'Bwd IAT Mean', 'Bwd IAT Min', 'Idle Std', 'Fwd IAT Min', 'Init Bwd Win Byts', 'Fwd Byts/b Avg', 'Active Min', 'Pkt Len Min', 'Active Mean'], 'Adv sample 591': ['SYN Flag Cnt', 'Fwd IAT Mean', 'Idle Std', 'Fwd Byts/b Avg', 'Active Max', 'Fwd IAT Min', 'Init Bwd Win Byts', 'Bwd IAT Max', 'Active Min', 'Fwd Blk Rate Avg'], 'Adv sample 592': ['SYN Flag Cnt', 'Bwd IAT Mean', 'Idle Std', 'Bwd Pkts/b Avg', 'Init Bwd Win Byts', 'Fwd IAT Min', 'Fwd IAT Mean', 'Fwd Byts/b Avg', 'Pkt Len Min', 'Fwd Blk Rate Avg'], 'Adv sample 593': ['SYN Flag Cnt', 'Active Min', 'Init Bwd Win Byts', 'Bwd IAT Std', 'Active Mean', 'Fwd Byts/b Avg', 'Active Max', 'Idle Std', 'Fwd IAT Mean', 'Idle Min'], 'Adv sample 594': ['Active Min', 'Active Mean', 'Bwd IAT Mean', 'Init Bwd Win Byts', 'Active Max', 'Fwd Byts/b Avg', 'Down/Up Ratio', 'Bwd IAT Max', 'Pkt Len Min', 'Fwd IAT Min'], 'Adv sample 595': ['SYN Flag Cnt', 'Idle Std', 'Bwd Pkts/b Avg', 'Fwd IAT Min', 'Init Bwd Win Byts', 'Active Max', 'Bwd IAT Mean', 'Fwd Byts/b Avg', 'Fwd Blk Rate Avg', 'Bwd Seg Size Avg'], 'Adv sample 596': ['Idle Std', 'Active Max', 'Init Bwd Win Byts', 'Down/Up Ratio', 'Pkt Len Min', 'ACK Flag Cnt', 'Bwd Blk Rate Avg', 'FIN Flag Cnt', 'Fwd Pkt Len Max', 'Pkt Len Max'], 'Adv sample 597': ['Bwd IAT Mean', 'Bwd IAT Min', 'Active Min', 'Bwd IAT Tot', 'Active Mean', 'Active Max', 'Init Bwd Win Byts', 'Fwd Byts/b Avg', 'Down/Up Ratio', 'Bwd IAT Max'], 'Adv sample 598': ['Bwd IAT Mean', 'Bwd IAT Min', 'Active Max', 'Idle Min', 'Fwd Byts/b Avg', 'Init Bwd Win Byts', 'Bwd Pkts/b Avg', 'Fwd Pkts/b Avg', 'Fwd IAT Min', 'Bwd IAT Tot'], 'Adv sample 599': ['URG Flag Cnt', 'Active Min', 'Bwd URG Flags', 'Active Mean', 'PSH Flag Cnt', 'Init Bwd Win Byts', 'Fwd IAT Min', 'Down/Up Ratio', 'Active Max', 'Bwd Pkt Len Mean'], 'Adv sample 600': ['ACK Flag Cnt', 'Bwd IAT Tot', 'Bwd IAT Std', 'Active Mean', 'Active Max', 'Init Bwd Win Byts', 'Active Min', 'Bwd IAT Max', 'Pkt Len Min', 'Flow IAT Mean'], 'Adv sample 601': ['Active Mean', 'Fwd Byts/b Avg', 'Active Min', 'Active Max', 'Bwd IAT Max', 'Fwd IAT Min', 'Pkt Len Min', 'Init Bwd Win Byts', 'Bwd IAT Min', 'Bwd Pkts/b Avg'], 'Adv sample 602': ['Active Mean', 'Bwd Pkts/s', 'Bwd IAT Mean', 'Init Bwd Win Byts', 'Flow Pkts/s', 'Bwd IAT Max', 'Bwd IAT Tot', 'Bwd IAT Min', 'Bwd IAT Std', 'Fwd Blk Rate Avg'], 'Adv sample 603': ['SYN Flag Cnt', 'Bwd IAT Std', 'Init Bwd Win Byts', 'Active Min', 'Bwd IAT Tot', 'Active Mean', 'Pkt Len Min', 'Bwd IAT Max', 'Fwd IAT Min', 'Active Max'], 'Adv sample 604': ['Bwd IAT Mean', 'Active Min', 'Active Mean', 'Bwd Pkts/s', 'Bwd IAT Tot', 'Init Bwd Win Byts', 'Bwd Pkts/b Avg', 'Bwd IAT Max', 'Pkt Len Min', 'Fwd IAT Min'], 'Adv sample 605': ['Bwd IAT Mean', 'Bwd IAT Min', 'Active Min', 'Init Bwd Win Byts', 'Active Mean', 'Idle Min', 'Active Max', 'Pkt Len Min', 'Bwd IAT Tot', 'Fwd Byts/b Avg'], 'Adv sample 606': ['SYN Flag Cnt', 'Bwd IAT Max', 'Bwd IAT Std', 'Idle Std', 'Active Max', 'Init Bwd Win Byts', 'Bwd IAT Mean', 'Down/Up Ratio', 'Flow Byts/s', 'Bwd Pkts/b Avg'], 'Adv sample 607': ['SYN Flag Cnt', 'Idle Std', 'Fwd IAT Mean', 'Init Bwd Win Byts', 'Fwd Blk Rate Avg', 'Fwd Byts/b Avg', 'Pkt Len Min', 'Bwd Pkt Len Mean', 'Pkt Len Max', 'Bwd Pkt Len Min'], 'Adv sample 608': ['Active Max', 'Bwd IAT Min', 'Fwd IAT Min', 'Init Bwd Win Byts', 'Fwd Byts/b Avg', 'Bwd Pkts/b Avg', 'Subflow Bwd Pkts', 'Pkt Len Min', 'Bwd IAT Max', 'Pkt Len Std'], 'Adv sample 609': ['SYN Flag Cnt', 'Bwd IAT Mean', 'Active Mean', 'Fwd Byts/b Avg', 'Active Max', 'Bwd Pkts/b Avg', 'Init Bwd Win Byts', 'Idle Std', 'Fwd Blk Rate Avg', 'Pkt Len Min'], 'Adv sample 610': ['Active Max', 'Active Min', 'Bwd IAT Min', 'Active Mean', 'Init Bwd Win Byts', 'Pkt Len Min', 'Bwd IAT Mean', 'Bwd IAT Max', 'Down/Up Ratio', 'Idle Min'], 'Adv sample 611': ['SYN Flag Cnt', 'Active Min', 'Init Bwd Win Byts', 'Fwd IAT Min', 'Active Mean', 'Idle Std', 'Idle Mean', 'Pkt Len Min', 'Bwd Pkts/b Avg', 'Bwd IAT Mean'], 'Adv sample 612': ['Bwd IAT Min', 'Active Max', 'Active Min', 'Fwd Byts/b Avg', 'Active Mean', 'Init Bwd Win Byts', 'Idle Max', 'Bwd IAT Mean', 'Bwd IAT Max', 'Fwd IAT Min'], 'Adv sample 613': ['Active Min', 'Active Max', 'Bwd IAT Mean', 'Bwd IAT Min', 'Init Bwd Win Byts', 'Fwd IAT Min', 'Bwd IAT Max', 'Bwd Pkts/b Avg', 'Active Mean', 'Pkt Len Min'], 'Adv sample 614': ['Bwd Pkts/s', 'Active Mean', 'Bwd IAT Mean', 'Flow Pkts/s', 'Init Bwd Win Byts', 'Bwd IAT Max', 'Fwd IAT Min', 'Bwd IAT Min', 'Active Min', 'Down/Up Ratio'], 'Adv sample 615': ['Active Min', 'Bwd IAT Min', 'Init Bwd Win Byts', 'Idle Max', 'Active Mean', 'Idle Min', 'Bwd IAT Mean', 'Flow Duration', 'Fwd Pkts/s', 'Pkt Len Min'], 'Adv sample 616': ['SYN Flag Cnt', 'Idle Std', 'Bwd IAT Mean', 'Fwd Byts/b Avg', 'Bwd Pkts/b Avg', 'Init Bwd Win Byts', 'Active Mean', 'Fwd IAT Min', 'Fwd IAT Mean', 'Fwd Blk Rate Avg'], 'Adv sample 617': ['Active Min', 'Active Mean', 'Bwd IAT Mean', 'Init Bwd Win Byts', 'Idle Std', 'Bwd IAT Max', 'Active Max', 'Fwd IAT Min', 'Bwd Pkts/s', 'Pkt Len Min'], 'Adv sample 618': ['ACK Flag Cnt', 'Bwd IAT Min', 'Active Mean', 'Fwd Byts/b Avg', 'Init Bwd Win Byts', 'Bwd IAT Std', 'Active Max', 'Bwd IAT Max', 'Flow IAT Mean', 'Pkt Len Min'], 'Adv sample 619': ['Bwd IAT Min', 'Bwd IAT Mean', 'Init Bwd Win Byts', 'Fwd Byts/b Avg', 'Active Min', 'Bwd IAT Tot', 'Flow Byts/s', 'Pkt Len Mean', 'Down/Up Ratio', 'Fwd Seg Size Avg'], 'Adv sample 620': ['Active Min', 'Init Bwd Win Byts', 'Idle Std', 'Bwd IAT Std', 'Active Mean', 'Bwd IAT Mean', 'Active Max', 'Bwd IAT Min', 'Pkt Len Min', 'Fwd Byts/b Avg'], 'Adv sample 621': ['Bwd IAT Min', 'Init Bwd Win Byts', 'Active Min', 'Bwd IAT Mean', 'Fwd Byts/b Avg', 'Active Mean', 'Fwd Pkts/b Avg', 'Bwd IAT Std', 'Pkt Len Min', 'Active Max'], 'Adv sample 622': ['SYN Flag Cnt', 'Bwd IAT Mean', 'Init Bwd Win Byts', 'Active Min', 'Bwd IAT Min', 'Flow Pkts/s', 'Bwd IAT Std', 'Idle Std', 'Fwd IAT Min', 'Bwd IAT Max'], 'Adv sample 623': ['ACK Flag Cnt', 'Active Max', 'Active Mean', 'Pkt Len Min', 'Fwd IAT Min', 'TotLen Fwd Pkts', 'Pkt Len Mean', 'Init Bwd Win Byts', 'Fwd IAT Mean', 'Fwd Byts/b Avg'], 'Adv sample 624': ['Fwd Byts/b Avg', 'Bwd IAT Std', 'Init Bwd Win Byts', 'Fwd IAT Min', 'Bwd Pkt Len Min', 'Fwd Seg Size Avg', 'Active Max', 'Subflow Bwd Pkts', 'Bwd Pkt Len Max', 'Down/Up Ratio'], 'Adv sample 625': ['Idle Std', 'Bwd IAT Tot', 'Down/Up Ratio', 'Idle Max', 'Active Max', 'ACK Flag Cnt', 'Init Bwd Win Byts', 'Bwd Byts/b Avg', 'Bwd Pkt Len Min', 'Pkt Len Min'], 'Adv sample 626': ['Active Min', 'Bwd IAT Mean', 'Bwd IAT Min', 'Init Bwd Win Byts', 'Bwd IAT Tot', 'Idle Min', 'Fwd IAT Min', 'Flow Duration', 'Bwd Pkt Len Min', 'Bwd Pkt Len Std'], 'Adv sample 627': ['URG Flag Cnt', 'Bwd URG Flags', 'Active Min', 'PSH Flag Cnt', 'Pkt Len Min', 'FIN Flag Cnt', 'Active Max', 'Init Bwd Win Byts', 'Bwd PSH Flags', 'Fwd Byts/b Avg'], 'Adv sample 628': ['Active Max', 'Bwd IAT Min', 'Bwd IAT Mean', 'Idle Min', 'Init Bwd Win Byts', 'Pkt Len Min', 'Idle Max', 'Pkt Len Mean', 'Bwd Pkt Len Std', 'Down/Up Ratio'], 'Adv sample 629': ['SYN Flag Cnt', 'Init Bwd Win Byts', 'Active Min', 'Bwd IAT Std', 'Active Mean', 'Active Max', 'Bwd IAT Mean', 'Fwd Byts/b Avg', 'Bwd IAT Max', 'Pkt Len Min'], 'Adv sample 630': ['Active Mean', 'Active Min', 'Bwd IAT Max', 'Bwd IAT Mean', 'Fwd IAT Min', 'Bwd IAT Tot', 'Init Bwd Win Byts', 'Fwd Pkt Len Min', 'Pkt Len Min', 'Fwd Seg Size Avg'], 'Adv sample 631': ['SYN Flag Cnt', 'Bwd IAT Std', 'Init Bwd Win Byts', 'Idle Std', 'Active Min', 'Active Mean', 'Fwd Byts/b Avg', 'Active Max', 'Pkt Len Min', 'Bwd IAT Max'], 'Adv sample 632': ['Active Mean', 'Bwd Pkts/s', 'Bwd IAT Mean', 'Bwd IAT Std', 'Bwd IAT Max', 'Flow Pkts/s', 'Fwd IAT Min', 'Init Bwd Win Byts', 'Pkt Len Max', 'Fwd Pkts/b Avg'], 'Adv sample 633': ['ACK Flag Cnt', 'Bwd IAT Std', 'Active Max', 'Init Bwd Win Byts', 'Active Min', 'Fwd IAT Min', 'Active Mean', 'Bwd IAT Max', 'Pkt Len Min', 'Bwd Seg Size Avg'], 'Adv sample 634': ['Bwd IAT Mean', 'Bwd IAT Tot', 'Active Mean', 'Init Bwd Win Byts', 'Bwd IAT Std', 'Bwd Pkts/s', 'Idle Std', 'Pkt Len Min', 'Bwd IAT Max', 'Flow Byts/s'], 'Adv sample 635': ['ACK Flag Cnt', 'Fwd IAT Min', 'Init Bwd Win Byts', 'FIN Flag Cnt', 'Flow Pkts/s', 'Active Min', 'Bwd IAT Std', 'Fwd Byts/b Avg', 'Pkt Len Min', 'Active Mean'], 'Adv sample 636': ['SYN Flag Cnt', 'Active Min', 'Bwd IAT Min', 'Init Bwd Win Byts', 'Bwd IAT Mean', 'Active Max', 'Bwd IAT Max', 'Fwd IAT Min', 'Fwd Pkt Len Min', 'Pkt Len Min'], 'Adv sample 637': ['SYN Flag Cnt', 'Init Bwd Win Byts', 'Active Mean', 'Bwd IAT Mean', 'Active Min', 'Fwd IAT Min', 'Active Max', 'Idle Std', 'Fwd Pkt Len Min', 'Bwd Seg Size Avg'], 'Adv sample 638': ['Bwd IAT Mean', 'Bwd IAT Min', 'Bwd IAT Std', 'Init Bwd Win Byts', 'Bwd IAT Tot', 'Pkt Len Min', 'Fwd Byts/b Avg', 'TotLen Bwd Pkts', 'Bwd Header Len', 'Subflow Bwd Byts'], 'Adv sample 639': ['Active Mean', 'Bwd IAT Mean', 'Init Bwd Win Byts', 'Bwd IAT Max', 'Active Min', 'Bwd IAT Tot', 'Fwd IAT Min', 'Bwd Pkts/s', 'Active Max', 'Pkt Len Min'], 'Adv sample 640': ['ACK Flag Cnt', 'Bwd IAT Max', 'Active Min', 'Bwd IAT Tot', 'Bwd PSH Flags', 'Init Bwd Win Byts', 'Pkt Len Min', 'Tot Fwd Pkts', 'Fwd IAT Min', 'Pkt Len Max'], 'Adv sample 641': ['SYN Flag Cnt', 'Active Min', 'Active Mean', 'Init Bwd Win Byts', 'Bwd IAT Mean', 'Idle Std', 'Pkt Len Min', 'Bwd IAT Std', 'Active Max', 'Pkt Len Mean'], 'Adv sample 642': ['SYN Flag Cnt', 'Bwd IAT Min', 'Bwd IAT Mean', 'Init Bwd Win Byts', 'Bwd IAT Tot', 'Bwd Pkts/b Avg', 'Active Max', 'Pkt Len Min', 'Fwd Byts/b Avg', 'Bwd Header Len'], 'Adv sample 643': ['SYN Flag Cnt', 'Bwd IAT Min', 'Init Bwd Win Byts', 'Bwd IAT Tot', 'Down/Up Ratio', 'Bwd Pkts/b Avg', 'Pkt Len Min', 'Fwd IAT Min', 'Bwd Pkt Len Mean', 'Fwd Pkt Len Std'], 'Adv sample 644': ['Active Mean', 'Active Min', 'Active Max', 'Init Bwd Win Byts', 'Bwd IAT Mean', 'Bwd IAT Min', 'Down/Up Ratio', 'Pkt Len Min', 'Bwd IAT Max', 'Bwd IAT Tot'], 'Adv sample 645': ['SYN Flag Cnt', 'Bwd IAT Mean', 'Idle Std', 'Init Bwd Win Byts', 'Active Max', 'Fwd IAT Min', 'Fwd Blk Rate Avg', 'Pkt Len Min', 'Fwd Byts/b Avg', 'Pkt Len Max'], 'Adv sample 646': ['SYN Flag Cnt', 'Active Max', 'Active Min', 'Active Mean', 'Init Bwd Win Byts', 'Idle Max', 'Pkt Len Min', 'Bwd IAT Min', 'Down/Up Ratio', 'Idle Std'], 'Adv sample 647': ['SYN Flag Cnt', 'Active Max', 'Idle Std', 'Init Bwd Win Byts', 'Fwd Byts/b Avg', 'Fwd IAT Mean', 'Bwd Pkt Len Mean', 'Idle Max', 'Tot Fwd Pkts', 'Fwd Pkt Len Std'], 'Adv sample 648': ['SYN Flag Cnt', 'Bwd IAT Min', 'Init Bwd Win Byts', 'Active Max', 'Fwd Byts/b Avg', 'Fwd IAT Min', 'Idle Std', 'Pkt Len Min', 'Pkt Size Avg', 'Fwd Pkts/s'], 'Adv sample 649': ['ACK Flag Cnt', 'Active Mean', 'Bwd IAT Max', 'Active Max', 'Bwd IAT Std', 'Init Bwd Win Byts', 'Bwd IAT Tot', 'Flow IAT Mean', 'Pkt Len Min', 'Bwd Pkts/b Avg'], 'Adv sample 650': ['SYN Flag Cnt', 'Active Min', 'Active Mean', 'Bwd IAT Mean', 'Active Max', 'Init Bwd Win Byts', 'Idle Std', 'Fwd Byts/b Avg', 'Pkt Len Min', 'Fwd Blk Rate Avg'], 'Adv sample 651': ['ACK Flag Cnt', 'Bwd IAT Std', 'Active Max', 'Active Min', 'Init Bwd Win Byts', 'Bwd IAT Max', 'Pkt Len Min', 'Bwd Seg Size Avg', 'Down/Up Ratio', 'Fwd Act Data Pkts'], 'Adv sample 652': ['ACK Flag Cnt', 'FIN Flag Cnt', 'Bwd IAT Min', 'Fwd Byts/b Avg', 'Init Bwd Win Byts', 'Down/Up Ratio', 'Flow Pkts/s', 'Subflow Fwd Byts', 'Fwd IAT Mean', 'Flow IAT Min'], 'Adv sample 653': ['SYN Flag Cnt', 'Active Mean', 'Init Bwd Win Byts', 'Fwd IAT Min', 'Active Min', 'Bwd IAT Std', 'Fwd Byts/b Avg', 'Pkt Len Min', 'Idle Std', 'Bwd IAT Tot'], 'Adv sample 654': ['SYN Flag Cnt', 'Bwd IAT Min', 'Active Mean', 'Active Max', 'Bwd IAT Std', 'Init Bwd Win Byts', 'Idle Std', 'Active Min', 'Fwd Byts/b Avg', 'Bwd IAT Mean'], 'Adv sample 655': ['ACK Flag Cnt', 'Active Max', 'Init Bwd Win Byts', 'Idle Std', 'Active Min', 'Fwd IAT Min', 'Active Mean', 'Bwd IAT Std', 'Down/Up Ratio', 'Pkt Len Min'], 'Adv sample 656': ['Active Max', 'Bwd IAT Min', 'Idle Std', 'Init Bwd Win Byts', 'Active Min', 'Bwd IAT Max', 'Pkt Len Min', 'Bwd IAT Std', 'Active Mean', 'Fwd Byts/b Avg'], 'Adv sample 657': ['ACK Flag Cnt', 'Active Max', 'Fwd IAT Mean', 'Init Bwd Win Byts', 'Fwd Blk Rate Avg', 'Idle Min', 'Flow Pkts/s', 'Down/Up Ratio', 'Pkt Len Min', 'Bwd Pkt Len Min'], 'Adv sample 658': ['Active Max', 'Bwd IAT Mean', 'Init Bwd Win Byts', 'Active Mean', 'Bwd IAT Max', 'Fwd Byts/b Avg', 'Bwd IAT Min', 'Pkt Len Min', 'Fwd Act Data Pkts', 'Fwd IAT Min'], 'Adv sample 659': ['SYN Flag Cnt', 'Fwd IAT Min', 'Active Mean', 'Bwd IAT Mean', 'Bwd Pkts/b Avg', 'Idle Std', 'Fwd Byts/b Avg', 'Init Bwd Win Byts', 'Fwd Blk Rate Avg', 'Pkt Len Min'], 'Adv sample 660': ['ACK Flag Cnt', 'Bwd IAT Min', 'Init Bwd Win Byts', 'Bwd IAT Std', 'Bwd IAT Max', 'Flow IAT Mean', 'Bwd IAT Mean', 'Bwd IAT Tot', 'Pkt Len Min', 'Active Mean'], 'Adv sample 661': ['Active Max', 'Idle Min', 'Bwd IAT Min', 'Init Bwd Win Byts', 'Fwd Byts/b Avg', 'Pkt Len Min', 'Fwd Pkt Len Std', 'Bwd IAT Tot', 'Pkt Len Mean', 'Idle Mean'], 'Adv sample 662': ['ACK Flag Cnt', 'Fwd IAT Min', 'Fwd Byts/b Avg', 'Init Bwd Win Byts', 'Active Max', 'Idle Mean', 'Bwd Pkts/b Avg', 'Fwd IAT Mean', 'Pkt Len Min', 'Pkt Len Max'], 'Adv sample 663': ['SYN Flag Cnt', 'Bwd IAT Mean', 'Idle Std', 'Fwd IAT Mean', 'Bwd IAT Std', 'Init Bwd Win Byts', 'Bwd Pkts/b Avg', 'Fwd Blk Rate Avg', 'Pkt Len Min', 'Fwd Byts/b Avg'], 'Adv sample 664': ['ACK Flag Cnt', 'Active Max', 'FIN Flag Cnt', 'Fwd IAT Mean', 'Init Bwd Win Byts', 'Bwd Pkts/b Avg', 'Pkt Len Min', 'Down/Up Ratio', 'Fwd Byts/b Avg', 'Flow IAT Max'], 'Adv sample 665': ['Active Min', 'Active Mean', 'Bwd IAT Min', 'Init Bwd Win Byts', 'Idle Std', 'Bwd Pkts/b Avg', 'Pkt Len Min', 'Bwd IAT Mean', 'Active Max', 'Fwd IAT Min'], 'Adv sample 666': ['ACK Flag Cnt', 'Bwd IAT Max', 'Bwd IAT Std', 'Bwd IAT Tot', 'Flow IAT Mean', 'Active Max', 'Active Min', 'Bwd IAT Mean', 'Fwd IAT Min', 'Active Mean'], 'Adv sample 667': ['ACK Flag Cnt', 'Bwd IAT Max', 'Active Mean', 'Active Max', 'Init Bwd Win Byts', 'Flow IAT Mean', 'Bwd IAT Min', 'Fwd Byts/b Avg', 'Subflow Bwd Byts', 'Bwd Pkt Len Mean'], 'Adv sample 668': ['Active Mean', 'Active Max', 'Fwd IAT Min', 'Bwd IAT Min', 'Active Min', 'Bwd IAT Mean', 'Init Bwd Win Byts', 'Fwd Byts/b Avg', 'Pkt Len Min', 'Bwd IAT Std'], 'Adv sample 669': ['ACK Flag Cnt', 'Fwd IAT Mean', 'FIN Flag Cnt', 'Init Bwd Win Byts', 'Flow Pkts/s', 'Active Max', 'Fwd Byts/b Avg', 'Pkt Len Min', 'Bwd Pkt Len Std', 'Active Min'], 'Adv sample 670': ['Active Max', 'Fwd Byts/b Avg', 'Bwd IAT Mean', 'Bwd Pkts/b Avg', 'Init Bwd Win Byts', 'Fwd IAT Min', 'Pkt Len Min', 'Flow IAT Max', 'Pkt Len Mean', 'Pkt Size Avg'], 'Adv sample 671': ['Active Min', 'Active Mean', 'Init Bwd Win Byts', 'Fwd IAT Min', 'Active Max', 'Bwd IAT Max', 'Bwd IAT Mean', 'Pkt Len Min', 'Bwd IAT Std', 'Bwd Pkts/b Avg'], 'Adv sample 672': ['Bwd IAT Min', 'Fwd Byts/b Avg', 'Idle Min', 'Idle Max', 'Active Mean', 'Init Bwd Win Byts', 'Fwd IAT Min', 'Tot Fwd Pkts', 'Bwd Seg Size Avg', 'Pkt Len Min'], 'Adv sample 673': ['ACK Flag Cnt', 'Idle Std', 'Active Max', 'Bwd Byts/b Avg', 'Idle Min', 'Bwd IAT Tot', 'Down/Up Ratio', 'Init Bwd Win Byts', 'Pkt Len Min', 'Idle Max'], 'Adv sample 674': ['ACK Flag Cnt', 'Active Max', 'Bwd IAT Min', 'Active Mean', 'Bwd IAT Mean', 'Init Bwd Win Byts', 'Active Min', 'Idle Min', 'Bwd IAT Std', 'Fwd Byts/b Avg'], 'Adv sample 675': ['Bwd IAT Min', 'Fwd IAT Min', 'Bwd IAT Std', 'Init Bwd Win Byts', 'Idle Std', 'Active Min', 'Pkt Len Min', 'Fwd Byts/b Avg', 'Active Mean', 'Idle Max'], 'Adv sample 676': ['Bwd IAT Min', 'Bwd IAT Max', 'Active Mean', 'Init Bwd Win Byts', 'Fwd IAT Min', 'Bwd Pkts/b Avg', 'Fwd Byts/b Avg', 'Active Min', 'Pkt Len Min', 'Active Max'], 'Adv sample 677': ['Bwd IAT Min', 'Active Max', 'Bwd IAT Max', 'Active Min', 'Fwd Byts/b Avg', 'Bwd IAT Tot', 'Fwd IAT Min', 'Init Bwd Win Byts', 'Active Mean', 'Pkt Len Min'], 'Adv sample 678': ['SYN Flag Cnt', 'Active Mean', 'Bwd IAT Min', 'Bwd IAT Std', 'Active Min', 'Init Bwd Win Byts', 'Bwd IAT Mean', 'Fwd Byts/b Avg', 'Bwd IAT Max', 'Pkt Len Min'], 'Adv sample 679': ['Active Max', 'Active Mean', 'Fwd IAT Min', 'Active Min', 'Init Bwd Win Byts', 'Bwd IAT Mean', 'Bwd Pkts/b Avg', 'Fwd Byts/b Avg', 'Pkt Len Min', 'Fwd Blk Rate Avg'], 'Adv sample 680': ['ACK Flag Cnt', 'Active Max', 'Init Bwd Win Byts', 'Active Mean', 'Fwd IAT Min', 'Pkt Len Min', 'Subflow Fwd Byts', 'Fwd Byts/b Avg', 'Bwd IAT Max', 'Bwd IAT Mean'], 'Adv sample 681': ['URG Flag Cnt', 'Bwd URG Flags', 'Bwd IAT Std', 'FIN Flag Cnt', 'Down/Up Ratio', 'Init Bwd Win Byts', 'Flow IAT Std', 'Fwd Pkt Len Std', 'Bwd IAT Tot', 'Tot Fwd Pkts'], 'Adv sample 682': ['Bwd Pkts/s', 'Bwd IAT Mean', 'Fwd IAT Min', 'Flow Pkts/s', 'Bwd IAT Tot', 'Bwd IAT Max', 'Init Bwd Win Byts', 'Fwd Seg Size Avg', 'Idle Max', 'Fwd Act Data Pkts'], 'Adv sample 683': ['SYN Flag Cnt', 'Active Max', 'Init Bwd Win Byts', 'Bwd IAT Mean', 'Fwd Blk Rate Avg', 'Pkt Len Mean', 'Flow IAT Max', 'Bwd IAT Min', 'Bwd Pkt Len Mean', 'Fwd Pkt Len Max'], 'Adv sample 684': ['ACK Flag Cnt', 'Active Max', 'Fwd IAT Min', 'Init Bwd Win Byts', 'Flow IAT Max', 'Fwd Pkt Len Max', 'Fwd IAT Mean', 'Pkt Len Min', 'Pkt Len Max', 'Fwd Byts/b Avg'], 'Adv sample 685': ['SYN Flag Cnt', 'Active Max', 'Init Bwd Win Byts', 'Bwd Pkts/b Avg', 'Bwd IAT Max', 'Active Mean', 'Bwd IAT Min', 'Bwd IAT Std', 'Pkt Len Min', 'Idle Std'], 'Adv sample 686': ['ACK Flag Cnt', 'FIN Flag Cnt', 'Active Max', 'Fwd IAT Min', 'Init Bwd Win Byts', 'Pkt Len Min', 'Fwd IAT Mean', 'Bwd Pkt Len Mean', 'Bwd Seg Size Avg', 'Bwd URG Flags'], 'Adv sample 687': ['Active Min', 'Bwd IAT Std', 'Bwd IAT Min', 'Init Bwd Win Byts', 'Pkt Len Min', 'Fwd Byts/b Avg', 'Bwd IAT Tot', 'Down/Up Ratio', 'Pkt Len Max', 'Bwd Pkt Len Max'], 'Adv sample 688': ['Active Mean', 'Bwd IAT Mean', 'Fwd Blk Rate Avg', 'Init Bwd Win Byts', 'Pkt Len Min', 'Bwd IAT Tot', 'Subflow Fwd Pkts', 'Idle Std', 'Fwd Pkt Len Std', 'Flow IAT Max'], 'Adv sample 689': ['Idle Std', 'Active Min', 'Active Mean', 'Bwd IAT Mean', 'Init Bwd Win Byts', 'Bwd IAT Min', 'Bwd IAT Std', 'Pkt Len Min', 'Fwd Byts/b Avg', 'Pkt Size Avg'], 'Adv sample 690': ['Bwd Pkts/s', 'Flow Pkts/s', 'Bwd IAT Tot', 'Bwd IAT Mean', 'Init Bwd Win Byts', 'Down/Up Ratio', 'Pkt Len Min', 'Bwd IAT Min', 'Fwd Byts/b Avg', 'Fwd Pkt Len Min'], 'Adv sample 691': ['SYN Flag Cnt', 'Idle Std', 'Bwd IAT Mean', 'Init Bwd Win Byts', 'Fwd Byts/b Avg', 'Active Max', 'Bwd Pkts/b Avg', 'Fwd IAT Min', 'Flow IAT Min', 'Pkt Len Min'], 'Adv sample 692': ['Active Min', 'Active Mean', 'Bwd IAT Min', 'Init Bwd Win Byts', 'Pkt Len Min', 'Bwd IAT Mean', 'Fwd Pkt Len Max', 'Subflow Fwd Byts', 'Bwd IAT Max', 'Flow Duration'], 'Adv sample 693': ['ACK Flag Cnt', 'Active Mean', 'Active Max', 'Bwd IAT Max', 'Fwd IAT Min', 'Init Bwd Win Byts', 'Bwd IAT Mean', 'Fwd Byts/b Avg', 'Pkt Len Mean', 'Idle Std'], 'Adv sample 694': ['Bwd IAT Mean', 'Active Mean', 'Bwd IAT Tot', 'Active Max', 'Init Bwd Win Byts', 'Fwd Byts/b Avg', 'Pkt Len Min', 'Bwd Pkts/b Avg', 'Fwd IAT Min', 'Pkt Len Max'], 'Adv sample 695': ['Active Min', 'Bwd IAT Std', 'Active Mean', 'Bwd IAT Mean', 'Init Bwd Win Byts', 'Pkt Len Min', 'Bwd Pkts/s', 'Bwd Pkt Len Min', 'Active Max', 'Bwd IAT Tot'], 'Adv sample 696': ['ACK Flag Cnt', 'Active Max', 'Bwd Byts/b Avg', 'Idle Min', 'Idle Max', 'Down/Up Ratio', 'Init Bwd Win Byts', 'Idle Std', 'Pkt Len Min', 'Bwd IAT Tot'], 'Adv sample 697': ['SYN Flag Cnt', 'Init Bwd Win Byts', 'Fwd IAT Min', 'Active Min', 'Pkt Len Min', 'Bwd IAT Std', 'Active Mean', 'Bwd Pkts/b Avg', 'Bwd IAT Min', 'Fwd Blk Rate Avg'], 'Adv sample 698': ['Bwd Pkts/s', 'Bwd IAT Mean', 'Flow Pkts/s', 'Bwd IAT Max', 'Bwd IAT Tot', 'Active Mean', 'Active Min', 'Init Bwd Win Byts', 'Pkt Len Min', 'Bwd IAT Std'], 'Adv sample 699': ['ACK Flag Cnt', 'Active Max', 'FIN Flag Cnt', 'Init Bwd Win Byts', 'Fwd Byts/b Avg', 'Bwd Pkt Len Min', 'Pkt Len Mean', 'Pkt Len Max', 'Pkt Len Std', 'Tot Bwd Pkts'], 'Adv sample 700': ['SYN Flag Cnt', 'Init Bwd Win Byts', 'Active Min', 'Fwd IAT Min', 'Bwd IAT Std', 'Active Mean', 'Fwd Byts/b Avg', 'Active Max', 'Bwd IAT Mean', 'Bwd IAT Max'], 'Adv sample 701': ['ACK Flag Cnt', 'Active Min', 'Active Max', 'Fwd IAT Min', 'Init Bwd Win Byts', 'Bwd Pkt Len Mean', 'Subflow Bwd Byts', 'URG Flag Cnt', 'Fwd Byts/b Avg', 'Pkt Len Min'], 'Adv sample 702': ['ACK Flag Cnt', 'Active Max', 'Active Mean', 'Fwd IAT Min', 'Bwd IAT Tot', 'Init Bwd Win Byts', 'Flow IAT Min', 'Bwd Pkt Len Min', 'Down/Up Ratio', 'Subflow Bwd Pkts'], 'Adv sample 703': ['Active Mean', 'Init Bwd Win Byts', 'Active Max', 'Fwd IAT Min', 'Bwd IAT Mean', 'Active Min', 'Bwd IAT Std', 'Idle Std', 'Fwd Byts/b Avg', 'Pkt Len Min'], 'Adv sample 704': ['Active Mean', 'Active Max', 'ACK Flag Cnt', 'Fwd IAT Min', 'Idle Std', 'Init Bwd Win Byts', 'Active Min', 'Bwd IAT Std', 'Pkt Len Min', 'Bwd Seg Size Avg'], 'Adv sample 705': ['Init Bwd Win Byts', 'Bwd IAT Min', 'Active Min', 'Down/Up Ratio', 'Bwd IAT Tot', 'Bwd IAT Std', 'Pkt Len Min', 'Bwd IAT Mean', 'Active Mean', 'Active Max'], 'Adv sample 706': ['Init Bwd Win Byts', 'Active Max', 'Down/Up Ratio', 'Pkt Len Min', 'FIN Flag Cnt', 'Idle Std', 'Bwd Byts/b Avg', 'Bwd Blk Rate Avg', 'Pkt Len Max', 'ACK Flag Cnt'], 'Adv sample 707': ['Bwd Pkts/s', 'Bwd IAT Mean', 'Fwd IAT Min', 'Bwd IAT Tot', 'Idle Max', 'Bwd Pkts/b Avg', 'Init Bwd Win Byts', 'Bwd IAT Min', 'Pkt Len Min', 'Down/Up Ratio'], 'Adv sample 708': ['SYN Flag Cnt', 'Active Mean', 'Fwd Byts/b Avg', 'Idle Std', 'Active Max', 'Init Bwd Win Byts', 'Fwd IAT Min', 'Bwd IAT Mean', 'Bwd Pkts/b Avg', 'Pkt Len Min'], 'Adv sample 709': ['Bwd IAT Min', 'Fwd Byts/b Avg', 'Fwd IAT Min', 'Init Bwd Win Byts', 'Bwd IAT Max', 'Bwd Pkts/b Avg', 'Pkt Len Min', 'Bwd Pkt Len Min', 'Subflow Bwd Pkts', 'Bwd Pkt Len Mean'], 'Adv sample 710': ['Active Mean', 'Init Bwd Win Byts', 'Active Min', 'Active Max', 'Bwd IAT Mean', 'Bwd Pkts/b Avg', 'Bwd IAT Std', 'Bwd IAT Tot', 'Bwd IAT Min', 'Pkt Len Min'], 'Adv sample 711': ['ACK Flag Cnt', 'FIN Flag Cnt', 'Fwd IAT Mean', 'Bwd IAT Min', 'Bwd IAT Mean', 'Init Bwd Win Byts', 'Flow Pkts/s', 'Fwd Pkt Len Min', 'Fwd Byts/b Avg', 'Fwd IAT Min'], 'Adv sample 712': ['Active Max', 'ACK Flag Cnt', 'Active Mean', 'Init Bwd Win Byts', 'Active Min', 'Bwd IAT Std', 'Idle Std', 'Bwd IAT Tot', 'Down/Up Ratio', 'Pkt Len Min'], 'Adv sample 713': ['SYN Flag Cnt', 'Fwd IAT Mean', 'Active Min', 'Bwd IAT Min', 'Init Bwd Win Byts', 'Active Mean', 'Fwd Byts/b Avg', 'Active Max', 'Idle Std', 'Bwd IAT Mean'], 'Adv sample 714': ['Bwd Pkts/s', 'Flow Pkts/s', 'Bwd IAT Min', 'Bwd IAT Max', 'Pkt Len Min', 'Init Bwd Win Byts', 'Down/Up Ratio', 'Bwd IAT Mean', 'Flow Byts/s', 'Pkt Size Avg'], 'Adv sample 715': ['Active Min', 'Init Bwd Win Byts', 'Bwd IAT Min', 'Down/Up Ratio', 'Active Max', 'Bwd IAT Tot', 'Idle Max', 'Pkt Len Min', 'Active Mean', 'Bwd IAT Max'], 'Adv sample 716': ['Active Min', 'Active Mean', 'Active Max', 'Fwd IAT Min', 'Fwd Byts/b Avg', 'Init Bwd Win Byts', 'Idle Std', 'Pkt Len Min', 'Idle Max', 'Bwd Pkts/b Avg'], 'Adv sample 717': ['Active Min', 'Bwd IAT Min', 'Active Max', 'Fwd IAT Min', 'Active Mean', 'Init Bwd Win Byts', 'Bwd IAT Max', 'Fwd Byts/b Avg', 'Bwd IAT Std', 'Idle Std'], 'Adv sample 718': ['ACK Flag Cnt', 'Active Max', 'Fwd IAT Min', 'Bwd IAT Tot', 'Pkt Len Min', 'Init Bwd Win Byts', 'Flow IAT Min', 'Idle Std', 'Down/Up Ratio', 'Fwd Pkt Len Max'], 'Adv sample 719': ['Bwd Pkts/s', 'Active Mean', 'Bwd IAT Max', 'Flow Pkts/s', 'Bwd IAT Std', 'Bwd IAT Mean', 'Bwd IAT Min', 'Init Bwd Win Byts', 'Active Min', 'Fwd IAT Min'], 'Adv sample 720': ['Active Mean', 'Bwd Pkts/s', 'Bwd IAT Mean', 'Fwd IAT Min', 'Flow Pkts/s', 'Active Max', 'Bwd IAT Max', 'Init Bwd Win Byts', 'Bwd IAT Tot', 'Pkt Len Min'], 'Adv sample 721': ['Active Max', 'Active Mean', 'Bwd IAT Min', 'Fwd Byts/b Avg', 'Pkt Len Min', 'Init Bwd Win Byts', 'Bwd IAT Max', 'Fwd IAT Min', 'Tot Bwd Pkts', 'Bwd Header Len'], 'Adv sample 722': ['ACK Flag Cnt', 'Active Mean', 'Fwd IAT Min', 'Active Max', 'Idle Min', 'Init Bwd Win Byts', 'Pkt Len Max', 'Fwd Pkt Len Max', 'Pkt Len Min', 'Pkt Len Std'], 'Adv sample 723': ['URG Flag Cnt', 'Bwd URG Flags', 'Active Max', 'PSH Flag Cnt', 'Bwd IAT Max', 'Idle Std', 'Init Bwd Win Byts', 'Down/Up Ratio', 'Fwd Byts/b Avg', 'Pkt Len Min'], 'Adv sample 724': ['Active Mean', 'Active Max', 'Init Bwd Win Byts', 'Bwd IAT Mean', 'Bwd IAT Tot', 'Fwd IAT Min', 'Bwd Header Len', 'Idle Max', 'Fwd Blk Rate Avg', 'Down/Up Ratio'], 'Adv sample 725': ['Active Min', 'Bwd IAT Mean', 'Bwd IAT Min', 'Init Bwd Win Byts', 'Down/Up Ratio', 'Active Max', 'Idle Max', 'Active Mean', 'Bwd IAT Max', 'Pkt Len Min'], 'Adv sample 726': ['Active Max', 'Bwd IAT Mean', 'Active Min', 'Bwd IAT Tot', 'Init Bwd Win Byts', 'Active Mean', 'Pkt Len Min', 'Down/Up Ratio', 'Bwd IAT Min', 'Bwd IAT Max'], 'Adv sample 727': ['SYN Flag Cnt', 'Fwd Byts/b Avg', 'Init Bwd Win Byts', 'Bwd Byts/b Avg', 'Pkt Len Min', 'Pkt Len Max', 'Tot Bwd Pkts', 'Fwd Pkts/s', 'Bwd URG Flags', 'Flow Byts/s'], 'Adv sample 728': ['Active Mean', 'ACK Flag Cnt', 'Active Min', 'Active Max', 'Bwd IAT Mean', 'Idle Std', 'Bwd IAT Max', 'Init Bwd Win Byts', 'Fwd IAT Min', 'Bwd IAT Std'], 'Adv sample 729': ['ACK Flag Cnt', 'Bwd IAT Max', 'Active Mean', 'Init Bwd Win Byts', 'Flow IAT Std', 'Active Max', 'FIN Flag Cnt', 'Bwd IAT Min', 'Bwd Pkts/s', 'Flow IAT Mean'], 'Adv sample 730': ['ACK Flag Cnt', 'Bwd IAT Std', 'Flow IAT Mean', 'Init Bwd Win Byts', 'Flow Pkts/s', 'Active Min', 'Active Mean', 'Pkt Len Min', 'Flow IAT Std', 'Bwd IAT Tot'], 'Adv sample 731': ['SYN Flag Cnt', 'Active Min', 'Init Bwd Win Byts', 'Active Mean', 'Bwd IAT Min', 'Bwd IAT Mean', 'Down/Up Ratio', 'Bwd IAT Max', 'Bwd Pkts/s', 'Pkt Len Min'], 'Adv sample 732': ['Bwd Pkts/s', 'Bwd IAT Mean', 'Flow Pkts/s', 'Idle Max', 'Init Bwd Win Byts', 'Bwd IAT Max', 'Down/Up Ratio', 'Bwd IAT Tot', 'Pkt Len Min', 'FIN Flag Cnt'], 'Adv sample 733': ['Bwd IAT Mean', 'Bwd IAT Min', 'Active Min', 'Active Mean', 'Bwd IAT Max', 'Init Bwd Win Byts', 'Fwd Byts/b Avg', 'Active Max', 'Pkt Len Min', 'Bwd Pkt Len Min'], 'Adv sample 734': ['ACK Flag Cnt', 'Init Bwd Win Byts', 'Fwd IAT Min', 'Flow Pkts/s', 'Bwd Pkts/s', 'Active Min', 'Bwd IAT Min', 'Idle Mean', 'Bwd IAT Max', 'Fwd Blk Rate Avg'], 'Adv sample 735': ['ACK Flag Cnt', 'Bwd IAT Max', 'Bwd IAT Tot', 'Bwd IAT Mean', 'Bwd IAT Std', 'Init Bwd Win Byts', 'Active Mean', 'Pkt Len Min', 'Flow Pkts/s', 'Active Max'], 'Adv sample 736': ['ACK Flag Cnt', 'Bwd IAT Min', 'Bwd IAT Max', 'Active Mean', 'Init Bwd Win Byts', 'Active Min', 'Bwd IAT Tot', 'Active Max', 'Fwd IAT Mean', 'FIN Flag Cnt'], 'Adv sample 737': ['Active Min', 'Active Mean', 'Init Bwd Win Byts', 'Fwd Byts/b Avg', 'Idle Min', 'Bwd IAT Mean', 'Bwd IAT Min', 'Pkt Len Min', 'Idle Max', 'Pkt Len Mean'], 'Adv sample 738': ['SYN Flag Cnt', 'Active Max', 'Bwd Pkts/b Avg', 'Init Bwd Win Byts', 'Idle Std', 'Fwd IAT Min', 'Fwd Blk Rate Avg', 'Fwd Pkt Len Std', 'Pkt Len Var', 'Flow IAT Min'], 'Adv sample 739': ['SYN Flag Cnt', 'Active Mean', 'Active Min', 'Bwd Pkts/b Avg', 'Idle Std', 'Bwd IAT Mean', 'Init Bwd Win Byts', 'Bwd IAT Min', 'Fwd Blk Rate Avg', 'Fwd Byts/b Avg'], 'Adv sample 740': ['Active Min', 'Bwd IAT Min', 'Active Mean', 'Init Bwd Win Byts', 'Pkt Len Min', 'Bwd IAT Max', 'Fwd IAT Min', 'Fwd Pkts/s', 'Bwd IAT Mean', 'PSH Flag Cnt'], 'Adv sample 741': ['ACK Flag Cnt', 'Fwd IAT Min', 'Init Bwd Win Byts', 'Bwd IAT Mean', 'Bwd IAT Max', 'Active Min', 'Bwd IAT Std', 'Active Mean', 'Bwd PSH Flags', 'Bwd IAT Tot'], 'Adv sample 742': ['Bwd IAT Mean', 'Active Min', 'Active Mean', 'Init Bwd Win Byts', 'Fwd Byts/b Avg', 'Active Max', 'Pkt Len Min', 'Bwd IAT Tot', 'Bwd IAT Max', 'Bwd IAT Min'], 'Adv sample 743': ['ACK Flag Cnt', 'Active Max', 'Fwd IAT Min', 'Init Bwd Win Byts', 'FIN Flag Cnt', 'Pkt Len Mean', 'Pkt Len Min', 'Down/Up Ratio', 'Fwd Pkt Len Max', 'Fwd Byts/b Avg'], 'Adv sample 744': ['SYN Flag Cnt', 'Active Max', 'Fwd IAT Mean', 'Idle Std', 'Fwd Blk Rate Avg', 'Bwd IAT Mean', 'Fwd Byts/b Avg', 'Init Bwd Win Byts', 'Pkt Len Min', 'Bwd URG Flags'], 'Adv sample 745': ['ACK Flag Cnt', 'Bwd IAT Std', 'Bwd IAT Tot', 'Active Mean', 'Bwd IAT Min', 'Init Bwd Win Byts', 'Active Max', 'Subflow Bwd Byts', 'Fwd Seg Size Avg', 'Pkt Len Min'], 'Adv sample 746': ['ACK Flag Cnt', 'Active Max', 'Fwd IAT Min', 'Flow IAT Mean', 'Idle Std', 'Init Bwd Win Byts', 'Bwd IAT Std', 'Idle Mean', 'Fwd Header Len', 'Fwd Pkt Len Min'], 'Adv sample 747': ['Bwd Pkts/s', 'Flow Pkts/s', 'Bwd IAT Mean', 'Bwd IAT Max', 'Active Min', 'Down/Up Ratio', 'Init Bwd Win Byts', 'Bwd IAT Tot', 'Pkt Len Min', 'Active Max'], 'Adv sample 748': ['SYN Flag Cnt', 'Active Min', 'Fwd Byts/b Avg', 'Init Bwd Win Byts', 'Bwd IAT Min', 'Bwd IAT Mean', 'Idle Std', 'Pkt Len Min', 'Fwd Pkts/b Avg', 'TotLen Bwd Pkts'], 'Adv sample 749': ['ACK Flag Cnt', 'Bwd IAT Tot', 'Flow IAT Std', 'Init Bwd Win Byts', 'Fwd Byts/b Avg', 'Bwd IAT Std', 'Bwd IAT Mean', 'Flow Pkts/s', 'Bwd IAT Max', 'Pkt Len Min'], 'Adv sample 750': ['SYN Flag Cnt', 'Bwd Pkts/b Avg', 'Fwd IAT Min', 'Bwd IAT Std', 'Init Bwd Win Byts', 'Fwd Blk Rate Avg', 'Fwd Byts/b Avg', 'Fwd IAT Mean', 'Pkt Len Min', 'Pkt Len Mean'], 'Adv sample 751': ['ACK Flag Cnt', 'Active Max', 'Active Mean', 'Fwd IAT Min', 'Init Bwd Win Byts', 'Active Min', 'FIN Flag Cnt', 'Bwd IAT Std', 'Tot Fwd Pkts', 'Idle Std'], 'Adv sample 752': ['Bwd Pkts/s', 'Active Max', 'Fwd IAT Min', 'Bwd IAT Mean', 'Flow Pkts/s', 'Init Bwd Win Byts', 'Idle Std', 'Active Mean', 'Pkt Len Min', 'Down/Up Ratio'], 'Adv sample 753': ['Active Mean', 'Bwd IAT Mean', 'Bwd IAT Max', 'Bwd IAT Tot', 'Pkt Len Min', 'Fwd Blk Rate Avg', 'Init Bwd Win Byts', 'Down/Up Ratio', 'Pkt Len Mean', 'Bwd Pkt Len Min'], 'Adv sample 754': ['SYN Flag Cnt', 'Bwd IAT Min', 'Active Mean', 'Init Bwd Win Byts', 'Active Min', 'Fwd IAT Min', 'Fwd Byts/b Avg', 'Bwd IAT Std', 'Idle Std', 'Active Max'], 'Adv sample 755': ['Bwd IAT Min', 'Active Min', 'Init Bwd Win Byts', 'Bwd IAT Std', 'Pkt Len Min', 'Active Mean', 'Down/Up Ratio', 'Bwd IAT Mean', 'Active Max', 'Bwd IAT Max'], 'Adv sample 756': ['ACK Flag Cnt', 'Bwd IAT Tot', 'Fwd IAT Min', 'Fwd Blk Rate Avg', 'Down/Up Ratio', 'Init Bwd Win Byts', 'Fwd Byts/b Avg', 'Bwd IAT Std', 'TotLen Bwd Pkts', 'Pkt Len Var'], 'Adv sample 757': ['ACK Flag Cnt', 'Active Max', 'Idle Min', 'Idle Max', 'Init Bwd Win Byts', 'Bwd IAT Max', 'Active Min', 'Pkt Len Min', 'Bwd IAT Min', 'Bwd Pkt Len Std'], 'Adv sample 758': ['ACK Flag Cnt', 'Bwd IAT Max', 'Idle Min', 'Bwd IAT Min', 'Down/Up Ratio', 'Init Bwd Win Byts', 'Active Max', 'Pkt Len Min', 'Fwd IAT Max', 'Fwd Pkt Len Max'], 'Adv sample 759': ['SYN Flag Cnt', 'Bwd IAT Min', 'Active Mean', 'Fwd Byts/b Avg', 'Idle Std', 'Init Bwd Win Byts', 'Active Max', 'Pkt Size Avg', 'Bwd Byts/b Avg', 'Pkt Len Min'], 'Adv sample 760': ['ACK Flag Cnt', 'Init Bwd Win Byts', 'Active Max', 'Fwd IAT Min', 'Fwd IAT Mean', 'Pkt Len Min', 'Flow Duration', 'Idle Min', 'Bwd Pkt Len Mean', 'Down/Up Ratio'], 'Adv sample 761': ['ACK Flag Cnt', 'Active Max', 'Idle Max', 'Idle Min', 'Bwd IAT Tot', 'Pkt Len Min', 'Fwd Byts/b Avg', 'Init Bwd Win Byts', 'Down/Up Ratio', 'Fwd Pkt Len Std'], 'Adv sample 762': ['Active Min', 'Fwd IAT Min', 'Init Bwd Win Byts', 'Active Mean', 'Active Max', 'Fwd Byts/b Avg', 'Bwd IAT Mean', 'Bwd IAT Std', 'Bwd IAT Min', 'Pkt Len Min'], 'Adv sample 763': ['Fwd IAT Min', 'Active Min', 'Idle Std', 'Fwd Byts/b Avg', 'Init Bwd Win Byts', 'Bwd Pkts/b Avg', 'Pkt Len Min', 'Down/Up Ratio', 'Bwd Pkt Len Min', 'Pkt Len Mean'], 'Adv sample 764': ['ACK Flag Cnt', 'Init Bwd Win Byts', 'Fwd IAT Min', 'Active Max', 'Active Min', 'Active Mean', 'Bwd IAT Max', 'Bwd IAT Std', 'Bwd IAT Mean', 'Pkt Len Mean'], 'Adv sample 765': ['Init Bwd Win Byts', 'Active Min', 'Bwd Pkts/s', 'Pkt Len Min', 'Bwd IAT Std', 'Down/Up Ratio', 'Flow Pkts/s', 'Active Max', 'Idle Max', 'Bwd IAT Max'], 'Adv sample 766': ['ACK Flag Cnt', 'Active Mean', 'Init Bwd Win Byts', 'Bwd IAT Std', 'Active Max', 'Bwd IAT Min', 'Bwd IAT Mean', 'Active Min', 'Fwd IAT Min', 'Bwd Pkts/b Avg'], 'Adv sample 767': ['Active Min', 'Fwd Byts/b Avg', 'Active Mean', 'Active Max', 'Fwd IAT Min', 'Init Bwd Win Byts', 'Bwd IAT Std', 'Pkt Len Min', 'Bwd IAT Mean', 'Idle Max'], 'Adv sample 768': ['Active Min', 'Bwd IAT Mean', 'Bwd IAT Min', 'Init Bwd Win Byts', 'Fwd Byts/b Avg', 'Fwd IAT Min', 'Active Mean', 'Pkt Len Min', 'Fwd Blk Rate Avg', 'Tot Bwd Pkts'], 'Adv sample 769': ['Bwd IAT Min', 'Fwd Byts/b Avg', 'Init Bwd Win Byts', 'Pkt Len Min', 'Idle Std', 'Bwd Pkts/b Avg', 'Down/Up Ratio', 'Subflow Fwd Byts', 'Bwd Seg Size Avg', 'Bwd Pkt Len Min'], 'Adv sample 770': ['Active Mean', 'Bwd Pkts/s', 'Fwd IAT Min', 'Flow Pkts/s', 'Active Max', 'Bwd IAT Mean', 'Active Min', 'Init Bwd Win Byts', 'Fwd Blk Rate Avg', 'Pkt Len Min'], 'Adv sample 771': ['ACK Flag Cnt', 'Active Mean', 'Active Max', 'Bwd IAT Max', 'Fwd IAT Min', 'FIN Flag Cnt', 'Flow IAT Min', 'Bwd IAT Tot', 'Pkt Len Max', 'Tot Fwd Pkts'], 'Adv sample 772': ['Fwd Byts/b Avg', 'Active Min', 'Active Mean', 'Bwd Pkts/b Avg', 'Bwd IAT Max', 'Bwd IAT Mean', 'Init Bwd Win Byts', 'Fwd IAT Min', 'Fwd Pkts/b Avg', 'Fwd Seg Size Avg'], 'Adv sample 773': ['ACK Flag Cnt', 'Init Bwd Win Byts', 'FIN Flag Cnt', 'Bwd IAT Std', 'Active Max', 'Fwd IAT Min', 'Fwd IAT Mean', 'TotLen Fwd Pkts', 'Active Min', 'Flow Pkts/s'], 'Adv sample 774': ['Active Min', 'Fwd Byts/b Avg', 'Bwd IAT Max', 'Init Bwd Win Byts', 'Idle Max', 'Idle Min', 'Fwd IAT Min', 'Pkt Len Min', 'Bwd Pkt Len Mean', 'Bwd URG Flags'], 'Adv sample 775': ['Active Min', 'Active Max', 'Bwd IAT Min', 'Active Mean', 'Bwd IAT Max', 'Init Bwd Win Byts', 'Bwd IAT Std', 'Fwd IAT Min', 'Bwd PSH Flags', 'Pkt Len Min'], 'Adv sample 776': ['Bwd IAT Mean', 'Bwd IAT Max', 'Bwd IAT Std', 'Down/Up Ratio', 'Fwd Byts/b Avg', 'Init Bwd Win Byts', 'Bwd IAT Tot', 'Bwd IAT Min', 'Active Max', 'Pkt Len Std'], 'Adv sample 777': ['SYN Flag Cnt', 'Active Mean', 'Bwd IAT Mean', 'Fwd Byts/b Avg', 'Active Max', 'Init Bwd Win Byts', 'Bwd Pkts/b Avg', 'Bwd Pkt Len Min', 'Pkt Len Min', 'Fwd Pkts/s'], 'Adv sample 778': ['ACK Flag Cnt', 'Bwd IAT Tot', 'Idle Std', 'Active Mean', 'Active Max', 'Down/Up Ratio', 'Init Bwd Win Byts', 'Pkt Len Min', 'Subflow Bwd Byts', 'Fwd Pkt Len Min'], 'Adv sample 779': ['ACK Flag Cnt', 'Bwd IAT Min', 'Init Bwd Win Byts', 'Active Min', 'Bwd IAT Std', 'Fwd IAT Min', 'Idle Min', 'Bwd IAT Max', 'Fwd Byts/b Avg', 'Bwd IAT Mean'], 'Adv sample 780': ['Active Min', 'Bwd IAT Min', 'Fwd Byts/b Avg', 'Init Bwd Win Byts', 'Bwd IAT Mean', 'Bwd IAT Max', 'Pkt Len Min', 'Idle Min', 'Fwd IAT Min', 'Bwd Pkts/b Avg'], 'Adv sample 781': ['SYN Flag Cnt', 'Init Bwd Win Byts', 'Active Mean', 'Active Max', 'Bwd IAT Std', 'Fwd IAT Min', 'Active Min', 'Bwd IAT Mean', 'Fwd Byts/b Avg', 'Pkt Len Min'], 'Adv sample 782': ['SYN Flag Cnt', 'Init Bwd Win Byts', 'Active Mean', 'Active Max', 'Active Min', 'Fwd IAT Min', 'Fwd IAT Mean', 'Fwd Byts/b Avg', 'Pkt Len Min', 'Bwd IAT Std'], 'Adv sample 783': ['Active Max', 'Init Bwd Win Byts', 'Active Min', 'Active Mean', 'Bwd Pkts/b Avg', 'Bwd IAT Std', 'Fwd Byts/b Avg', 'Pkt Len Min', 'Idle Std', 'Fwd IAT Min'], 'Adv sample 784': ['Active Mean', 'Bwd IAT Mean', 'Active Min', 'Init Bwd Win Byts', 'Fwd IAT Min', 'Bwd IAT Max', 'Pkt Len Min', 'Idle Std', 'Bwd Pkts/b Avg', 'Bwd IAT Tot'], 'Adv sample 785': ['ACK Flag Cnt', 'Init Bwd Win Byts', 'Bwd IAT Max', 'Active Max', 'Active Mean', 'Bwd IAT Mean', 'Flow Pkts/s', 'Bwd Pkts/s', 'Flow IAT Std', 'Flow IAT Mean'], 'Adv sample 786': ['SYN Flag Cnt', 'Fwd Byts/b Avg', 'Init Bwd Win Byts', 'Bwd IAT Tot', 'Pkt Len Min', 'Pkt Len Max', 'Pkt Len Mean', 'Bwd Pkt Len Min', 'Flow Byts/s', 'Pkt Len Std'], 'Adv sample 787': ['SYN Flag Cnt', 'Fwd Byts/b Avg', 'Init Bwd Win Byts', 'Pkt Len Min', 'Flow IAT Max', 'Bwd Pkts/b Avg', 'Pkt Len Std', 'Pkt Len Mean', 'Idle Std', 'Bwd Seg Size Avg'], 'Adv sample 788': ['Active Mean', 'Bwd IAT Mean', 'Init Bwd Win Byts', 'Active Min', 'Bwd IAT Min', 'Active Max', 'Pkt Len Min', 'Bwd IAT Std', 'Fwd IAT Min', 'Idle Std'], 'Adv sample 789': ['ACK Flag Cnt', 'Active Max', 'Bwd IAT Tot', 'Bwd IAT Max', 'Active Mean', 'Fwd Blk Rate Avg', 'Init Bwd Win Byts', 'Bwd Pkt Len Std', 'Bwd IAT Mean', 'Bwd IAT Min'], 'Adv sample 790': ['ACK Flag Cnt', 'Bwd IAT Std', 'Bwd IAT Max', 'Init Bwd Win Byts', 'Pkt Len Var', 'Active Max', 'Fwd Pkt Len Mean', 'Flow IAT Mean', 'Bwd Seg Size Avg', 'Fwd IAT Min'], 'Adv sample 791': ['SYN Flag Cnt', 'Init Bwd Win Byts', 'Fwd Byts/b Avg', 'Pkt Len Min', 'Pkt Size Avg', 'Fwd IAT Min', 'Pkt Len Std', 'Pkt Len Mean', 'Pkt Len Max', 'Bwd Pkt Len Mean'], 'Adv sample 792': ['ACK Flag Cnt', 'Active Max', 'Fwd IAT Min', 'Init Bwd Win Byts', 'Active Min', 'Active Mean', 'Fwd Byts/b Avg', 'Pkt Len Min', 'Bwd IAT Tot', 'Bwd IAT Mean'], 'Adv sample 793': ['Active Min', 'Bwd IAT Std', 'Active Max', 'Active Mean', 'Init Bwd Win Byts', 'Bwd IAT Mean', 'Bwd IAT Min', 'Fwd IAT Min', 'Pkt Len Min', 'Down/Up Ratio'], 'Adv sample 794': ['ACK Flag Cnt', 'Bwd IAT Min', 'Idle Min', 'Idle Max', 'Fwd Blk Rate Avg', 'Active Mean', 'Bwd Pkt Len Min', 'Idle Mean', 'Pkt Len Mean', 'PSH Flag Cnt'], 'Adv sample 795': ['SYN Flag Cnt', 'Active Min', 'Bwd IAT Std', 'Active Mean', 'Init Bwd Win Byts', 'Bwd IAT Mean', 'Active Max', 'Bwd IAT Min', 'Pkt Len Min', 'Idle Std'], 'Adv sample 796': ['Bwd Pkts/s', 'Flow Pkts/s', 'Bwd IAT Min', 'Active Mean', 'Active Min', 'Bwd IAT Mean', 'Bwd IAT Tot', 'Pkt Len Min', 'Down/Up Ratio', 'Init Bwd Win Byts'], 'Adv sample 797': ['SYN Flag Cnt', 'Active Min', 'Bwd IAT Std', 'Bwd IAT Mean', 'Fwd IAT Min', 'Init Bwd Win Byts', 'Bwd IAT Min', 'Fwd Byts/b Avg', 'Idle Std', 'Pkt Len Min'], 'Adv sample 798': ['SYN Flag Cnt', 'Init Bwd Win Byts', 'Bwd Pkts/b Avg', 'Pkt Len Min', 'Bwd IAT Max', 'Bwd Pkt Len Std', 'Bwd IAT Min', 'Fwd Blk Rate Avg', 'Down/Up Ratio', 'Flow IAT Max'], 'Adv sample 799': ['Bwd IAT Mean', 'Bwd IAT Min', 'Init Bwd Win Byts', 'Idle Std', 'Active Mean', 'Active Min', 'Bwd IAT Std', 'Pkt Len Min', 'Active Max', 'Fwd IAT Mean'], 'Adv sample 800': ['Bwd IAT Mean', 'Init Bwd Win Byts', 'Idle Max', 'Bwd IAT Tot', 'Pkt Len Max', 'Pkt Len Min', 'Flow IAT Std', 'Flow IAT Max', 'Bwd Pkt Len Min', 'Pkt Size Avg'], 'Adv sample 801': ['SYN Flag Cnt', 'Active Mean', 'Active Max', 'Bwd IAT Min', 'Init Bwd Win Byts', 'Fwd Byts/b Avg', 'Bwd IAT Std', 'Bwd IAT Mean', 'Active Min', 'Bwd IAT Max'], 'Adv sample 802': ['Active Mean', 'Bwd Pkts/s', 'Bwd IAT Max', 'Bwd IAT Tot', 'Active Min', 'Bwd IAT Mean', 'Init Bwd Win Byts', 'Fwd Blk Rate Avg', 'Pkt Len Min', 'Down/Up Ratio'], 'Adv sample 803': ['Fwd Byts/b Avg', 'Bwd Pkts/b Avg', 'Fwd Blk Rate Avg', 'Bwd IAT Mean', 'Init Bwd Win Byts', 'Pkt Len Min', 'Pkt Len Max', 'Bwd Seg Size Avg', 'Fwd Pkt Len Mean', 'Idle Mean'], 'Adv sample 804': ['Bwd IAT Min', 'Bwd IAT Mean', 'Bwd IAT Tot', 'Active Min', 'Init Bwd Win Byts', 'Down/Up Ratio', 'Pkt Len Min', 'Bwd IAT Max', 'Active Max', 'Active Mean'], 'Adv sample 805': ['Fwd Byts/b Avg', 'Idle Max', 'Active Max', 'Idle Min', 'Fwd IAT Min', 'Init Bwd Win Byts', 'Idle Mean', 'TotLen Fwd Pkts', 'Bwd IAT Min', 'Pkt Len Min'], 'Adv sample 806': ['SYN Flag Cnt', 'Fwd Byts/b Avg', 'Init Bwd Win Byts', 'Pkt Len Std', 'Bwd Pkt Len Min', 'Subflow Bwd Pkts', 'Pkt Len Min', 'Bwd Pkt Len Max', 'Subflow Fwd Pkts', 'TotLen Bwd Pkts'], 'Adv sample 807': ['ACK Flag Cnt', 'Idle Min', 'Idle Mean', 'Fwd Byts/b Avg', 'Init Bwd Win Byts', 'Bwd Pkts/b Avg', 'Active Max', 'Bwd IAT Tot', 'Bwd Pkt Len Min', 'Fwd Pkt Len Mean'], 'Adv sample 808': ['Bwd IAT Mean', 'Fwd IAT Min', 'Fwd Byts/b Avg', 'Active Min', 'Active Max', 'Bwd IAT Tot', 'Idle Max', 'Bwd Pkts/b Avg', 'Active Mean', 'Init Bwd Win Byts'], 'Adv sample 809': ['Bwd IAT Mean', 'Idle Std', 'Init Bwd Win Byts', 'Active Mean', 'Active Min', 'Bwd Pkts/b Avg', 'Fwd Byts/b Avg', 'Active Max', 'Bwd IAT Min', 'Pkt Len Min'], 'Adv sample 810': ['Bwd IAT Mean', 'Active Min', 'Active Mean', 'Init Bwd Win Byts', 'Fwd Byts/b Avg', 'Pkt Len Min', 'Fwd Blk Rate Avg', 'Pkt Len Std', 'Bwd IAT Max', 'Bwd Pkts/b Avg'], 'Adv sample 811': ['Active Mean', 'Bwd IAT Min', 'Active Min', 'Active Max', 'Init Bwd Win Byts', 'Bwd IAT Max', 'Bwd IAT Mean', 'Fwd IAT Min', 'Pkt Len Min', 'Bwd IAT Std'], 'Adv sample 812': ['ACK Flag Cnt', 'Init Bwd Win Byts', 'Active Max', 'Active Min', 'Active Mean', 'Bwd IAT Std', 'Bwd IAT Max', 'Bwd IAT Mean', 'Pkt Len Min', 'Bwd Header Len'], 'Adv sample 813': ['Active Max', 'Fwd Byts/b Avg', 'Bwd IAT Mean', 'Init Bwd Win Byts', 'Active Mean', 'Bwd IAT Min', 'Active Min', 'Bwd Pkts/b Avg', 'Pkt Len Min', 'Idle Min'], 'Adv sample 814': ['Active Max', 'Bwd IAT Mean', 'Bwd Pkts/b Avg', 'Active Min', 'Init Bwd Win Byts', 'Active Mean', 'Pkt Len Min', 'Bwd IAT Min', 'Idle Min', 'Fwd Byts/b Avg'], 'Adv sample 815': ['SYN Flag Cnt', 'Init Bwd Win Byts', 'Bwd IAT Tot', 'Pkt Len Min', 'Fwd Byts/b Avg', 'Pkt Len Std', 'Bwd Pkt Len Mean', 'Pkt Len Max', 'Active Min', 'Fwd IAT Max'], 'Adv sample 816': ['Bwd IAT Mean', 'Bwd Pkts/s', 'Bwd IAT Tot', 'Init Bwd Win Byts', 'Idle Max', 'Pkt Len Min', 'Fwd Blk Rate Avg', 'Bwd Pkts/b Avg', 'Flow Duration', 'Flow Pkts/s'], 'Adv sample 817': ['ACK Flag Cnt', 'Fwd IAT Mean', 'Init Bwd Win Byts', 'Active Min', 'Bwd IAT Std', 'Fwd Byts/b Avg', 'Fwd IAT Min', 'Bwd IAT Max', 'Fwd Pkt Len Mean', 'Bwd IAT Mean'], 'Adv sample 818': ['SYN Flag Cnt', 'Bwd IAT Min', 'Active Max', 'Fwd Byts/b Avg', 'Bwd IAT Mean', 'Init Bwd Win Byts', 'Bwd Pkts/b Avg', 'Idle Std', 'Bwd IAT Max', 'Subflow Bwd Byts'], 'Adv sample 819': ['Active Min', 'Bwd IAT Std', 'Active Mean', 'Bwd IAT Max', 'Active Max', 'Init Bwd Win Byts', 'Pkt Len Min', 'Bwd IAT Mean', 'Bwd IAT Tot', 'Fwd Byts/b Avg'], 'Adv sample 820': ['Bwd IAT Std', 'Active Min', 'Active Mean', 'Bwd IAT Min', 'Init Bwd Win Byts', 'Bwd Pkt Len Min', 'Bwd IAT Max', 'Bwd IAT Tot', 'Bwd Seg Size Avg', 'TotLen Fwd Pkts'], 'Adv sample 821': ['SYN Flag Cnt', 'Active Min', 'Init Bwd Win Byts', 'Bwd IAT Mean', 'Idle Std', 'Bwd IAT Max', 'Bwd IAT Std', 'Bwd IAT Tot', 'Fwd IAT Min', 'Bwd Pkt Len Min'], 'Adv sample 822': ['Active Min', 'Fwd Byts/b Avg', 'Active Mean', 'Active Max', 'Bwd IAT Min', 'Fwd IAT Min', 'Init Bwd Win Byts', 'Bwd IAT Tot', 'Bwd IAT Mean', 'Down/Up Ratio'], 'Adv sample 823': ['ACK Flag Cnt', 'Init Bwd Win Byts', 'Bwd IAT Max', 'Flow IAT Std', 'Bwd IAT Min', 'Bwd IAT Tot', 'Flow IAT Mean', 'Pkt Len Min', 'Active Max', 'Bwd IAT Std'], 'Adv sample 824': ['ACK Flag Cnt', 'Bwd IAT Std', 'Init Bwd Win Byts', 'Bwd IAT Tot', 'Bwd IAT Max', 'Flow IAT Std', 'Bwd IAT Min', 'FIN Flag Cnt', 'Bwd PSH Flags', 'Flow Pkts/s'], 'Adv sample 825': ['ACK Flag Cnt', 'Active Max', 'Init Bwd Win Byts', 'Pkt Len Min', 'Fwd IAT Min', 'Bwd Pkt Len Min', 'Bwd IAT Tot', 'Idle Max', 'Active Min', 'Fwd Byts/b Avg'], 'Adv sample 826': ['SYN Flag Cnt', 'Init Bwd Win Byts', 'Bwd IAT Min', 'Active Min', 'Bwd IAT Std', 'Fwd IAT Min', 'Active Mean', 'Bwd IAT Mean', 'Active Max', 'Idle Max'], 'Adv sample 827': ['ACK Flag Cnt', 'Init Bwd Win Byts', 'Active Min', 'Fwd IAT Min', 'Fwd Byts/b Avg', 'Bwd IAT Std', 'Bwd IAT Min', 'Down/Up Ratio', 'Bwd IAT Max', 'Flow IAT Std'], 'Adv sample 828': ['Bwd Pkts/s', 'Bwd IAT Mean', 'Idle Max', 'Flow Pkts/s', 'Init Bwd Win Byts', 'Active Mean', 'Pkt Len Min', 'Fwd IAT Min', 'Idle Min', 'Bwd IAT Tot'], 'Adv sample 829': ['ACK Flag Cnt', 'Bwd IAT Tot', 'Idle Max', 'Active Max', 'Idle Std', 'Bwd Byts/b Avg', 'Down/Up Ratio', 'Idle Min', 'Init Bwd Win Byts', 'Bwd Pkt Len Min'], 'Adv sample 830': ['Active Max', 'Active Min', 'Init Bwd Win Byts', 'Bwd IAT Min', 'Active Mean', 'Bwd IAT Max', 'Bwd IAT Std', 'Fwd IAT Min', 'Fwd Byts/b Avg', 'Pkt Len Min'], 'Adv sample 831': ['Active Mean', 'Bwd Pkts/s', 'Bwd IAT Mean', 'Fwd IAT Min', 'Bwd IAT Max', 'Flow Pkts/s', 'Init Bwd Win Byts', 'Down/Up Ratio', 'Pkt Len Min', 'Pkt Len Max'], 'Adv sample 832': ['Bwd Pkts/s', 'Active Mean', 'Flow Pkts/s', 'Bwd IAT Max', 'Fwd IAT Min', 'Bwd IAT Mean', 'Init Bwd Win Byts', 'Down/Up Ratio', 'Fwd Blk Rate Avg', 'Flow Duration'], 'Adv sample 833': ['ACK Flag Cnt', 'Init Bwd Win Byts', 'Bwd IAT Std', 'Bwd IAT Min', 'Active Min', 'Fwd IAT Min', 'Bwd IAT Max', 'Fwd Byts/b Avg', 'Pkt Len Min', 'Active Mean'], 'Adv sample 834': ['SYN Flag Cnt', 'Bwd IAT Mean', 'Bwd Pkts/b Avg', 'Fwd Byts/b Avg', 'Fwd IAT Min', 'Bwd IAT Min', 'Active Max', 'Init Bwd Win Byts', 'Idle Std', 'Pkt Len Min'], 'Adv sample 835': ['Idle Std', 'Init Bwd Win Byts', 'Pkt Len Min', 'Active Mean', 'Active Min', 'Bwd IAT Mean', 'Bwd IAT Std', 'Fwd Byts/b Avg', 'Bwd IAT Min', 'Active Max'], 'Adv sample 836': ['ACK Flag Cnt', 'Active Min', 'Fwd IAT Min', 'Init Bwd Win Byts', 'Bwd PSH Flags', 'Bwd IAT Std', 'Bwd IAT Max', 'Active Mean', 'Pkt Len Min', 'Fwd Byts/b Avg'], 'Adv sample 837': ['SYN Flag Cnt', 'Bwd IAT Std', 'Active Max', 'Fwd Byts/b Avg', 'Bwd IAT Min', 'Init Bwd Win Byts', 'Pkt Len Min', 'Bwd Pkt Len Mean', 'Pkt Len Std', 'Pkt Len Max'], 'Adv sample 838': ['Bwd IAT Mean', 'Bwd IAT Tot', 'Init Bwd Win Byts', 'Bwd IAT Min', 'Bwd IAT Max', 'Bwd IAT Std', 'Active Max', 'Fwd Pkts/b Avg', 'Pkt Len Min', 'Down/Up Ratio'], 'Adv sample 839': ['ACK Flag Cnt', 'Fwd IAT Mean', 'Init Bwd Win Byts', 'Bwd IAT Tot', 'Pkt Len Min', 'Fwd Blk Rate Avg', 'Bwd Header Len', 'Pkt Len Max', 'Fwd Pkt Len Std', 'Fwd Pkts/s'], 'Adv sample 840': ['ACK Flag Cnt', 'Bwd IAT Max', 'Init Bwd Win Byts', 'Active Max', 'Bwd IAT Std', 'Active Min', 'TotLen Bwd Pkts', 'Active Mean', 'Bwd IAT Tot', 'Flow IAT Mean'], 'Adv sample 841': ['Active Min', 'Bwd IAT Min', 'Bwd IAT Mean', 'Init Bwd Win Byts', 'Fwd Byts/b Avg', 'Bwd Pkt Len Mean', 'Pkt Len Std', 'Down/Up Ratio', 'Subflow Bwd Pkts', 'Bwd Pkt Len Max'], 'Adv sample 842': ['SYN Flag Cnt', 'Init Bwd Win Byts', 'Active Min', 'Active Max', 'Bwd IAT Mean', 'Active Mean', 'Idle Std', 'Fwd IAT Min', 'Bwd IAT Std', 'Bwd IAT Min'], 'Adv sample 843': ['ACK Flag Cnt', 'Fwd IAT Min', 'Idle Min', 'Active Max', 'Fwd Byts/b Avg', 'Init Bwd Win Byts', 'Pkt Len Min', 'Down/Up Ratio', 'Idle Mean', 'Bwd IAT Tot'], 'Adv sample 844': ['Active Min', 'Bwd IAT Min', 'Init Bwd Win Byts', 'Pkt Len Min', 'Down/Up Ratio', 'Active Mean', 'Active Max', 'Bwd IAT Tot', 'Bwd IAT Std', 'Flow IAT Max'], 'Adv sample 845': ['ACK Flag Cnt', 'Bwd IAT Std', 'Bwd IAT Tot', 'Bwd IAT Mean', 'Fwd IAT Min', 'Active Mean', 'Init Bwd Win Byts', 'Flow IAT Mean', 'Pkt Len Min', 'Flow IAT Std'], 'Adv sample 846': ['Active Mean', 'Bwd IAT Mean', 'Bwd IAT Min', 'Init Bwd Win Byts', 'Bwd IAT Tot', 'Fwd IAT Min', 'Pkt Len Min', 'Fwd Blk Rate Avg', 'Bwd IAT Max', 'Fwd Pkts/s'], 'Adv sample 847': ['Fwd Byts/b Avg', 'Init Bwd Win Byts', 'Bwd IAT Mean', 'Bwd Pkts/b Avg', 'Bwd IAT Min', 'Pkt Len Min', 'Idle Min', 'Fwd Blk Rate Avg', 'Pkt Len Mean', 'Fwd Pkt Len Mean'], 'Adv sample 848': ['SYN Flag Cnt', 'Bwd IAT Min', 'Active Min', 'Init Bwd Win Byts', 'Fwd Byts/b Avg', 'Bwd IAT Mean', 'Idle Std', 'Active Mean', 'Idle Max', 'Pkt Len Min'], 'Adv sample 849': ['SYN Flag Cnt', 'Active Min', 'Bwd IAT Min', 'Active Mean', 'Init Bwd Win Byts', 'Bwd IAT Std', 'Active Max', 'Pkt Len Min', 'Fwd Blk Rate Avg', 'Down/Up Ratio'], 'Adv sample 850': ['Active Min', 'Bwd Pkts/s', 'Bwd IAT Mean', 'Bwd IAT Max', 'Bwd IAT Tot', 'Down/Up Ratio', 'Init Bwd Win Byts', 'Fwd Blk Rate Avg', 'Flow IAT Max', 'Pkt Len Min'], 'Adv sample 851': ['Bwd IAT Min', 'Bwd IAT Mean', 'Init Bwd Win Byts', 'Fwd Byts/b Avg', 'Active Mean', 'Fwd Pkts/s', 'Fwd Blk Rate Avg', 'Pkt Len Mean', 'Subflow Fwd Pkts', 'Bwd Pkts/b Avg'], 'Adv sample 852': ['ACK Flag Cnt', 'Active Max', 'Init Bwd Win Byts', 'Fwd Byts/b Avg', 'Fwd IAT Min', 'FIN Flag Cnt', 'Bwd IAT Max', 'Subflow Fwd Pkts', 'Bwd Pkt Len Min', 'Pkt Len Min'], 'Adv sample 853': ['Bwd Pkts/s', 'Bwd IAT Mean', 'Flow Pkts/s', 'Bwd IAT Tot', 'Init Bwd Win Byts', 'Fwd IAT Min', 'Idle Max', 'Fwd Act Data Pkts', 'Active Mean', 'Fwd Pkt Len Std'], 'Adv sample 854': ['Active Mean', 'Init Bwd Win Byts', 'Idle Std', 'Bwd IAT Std', 'ACK Flag Cnt', 'Active Max', 'Active Min', 'Pkt Len Min', 'Fwd IAT Min', 'Down/Up Ratio'], 'Adv sample 855': ['SYN Flag Cnt', 'Active Max', 'Bwd IAT Min', 'Init Bwd Win Byts', 'Bwd Pkts/b Avg', 'Bwd IAT Mean', 'Idle Std', 'Fwd Blk Rate Avg', 'Pkt Len Min', 'Pkt Len Max'], 'Adv sample 856': ['ACK Flag Cnt', 'Active Max', 'Active Min', 'Init Bwd Win Byts', 'Idle Std', 'Fwd IAT Min', 'Bwd IAT Std', 'Bwd IAT Max', 'Active Mean', 'Pkt Len Min'], 'Adv sample 857': ['ACK Flag Cnt', 'Bwd IAT Std', 'Bwd IAT Max', 'Fwd IAT Min', 'Active Max', 'Pkt Size Avg', 'Init Bwd Win Byts', 'Pkt Len Min', 'TotLen Bwd Pkts', 'Fwd Pkts/s'], 'Adv sample 858': ['SYN Flag Cnt', 'Active Max', 'Bwd Pkts/b Avg', 'Init Bwd Win Byts', 'Fwd Byts/b Avg', 'Fwd IAT Min', 'Fwd Blk Rate Avg', 'Idle Std', 'Pkt Len Var', 'Pkt Len Min'], 'Adv sample 859': ['Bwd IAT Min', 'Active Min', 'Init Bwd Win Byts', 'Bwd IAT Std', 'Active Mean', 'Pkt Len Min', 'Active Max', 'Idle Min', 'Fwd Byts/b Avg', 'Down/Up Ratio'], 'Adv sample 860': ['ACK Flag Cnt', 'Bwd IAT Max', 'Bwd IAT Min', 'Init Bwd Win Byts', 'Active Max', 'Bwd IAT Std', 'Fwd Byts/b Avg', 'Flow Pkts/s', 'Flow IAT Mean', 'Pkt Len Min'], 'Adv sample 861': ['Active Mean', 'Bwd IAT Max', 'Active Min', 'Init Bwd Win Byts', 'Bwd IAT Mean', 'Bwd IAT Tot', 'Active Max', 'Bwd IAT Std', 'Pkt Len Min', 'Idle Std'], 'Adv sample 862': ['Bwd Pkts/s', 'Bwd IAT Std', 'Flow Pkts/s', 'Bwd IAT Mean', 'Active Mean', 'Fwd IAT Min', 'Init Bwd Win Byts', 'Active Min', 'Active Max', 'Bwd IAT Tot'], 'Adv sample 863': ['ACK Flag Cnt', 'Init Bwd Win Byts', 'Fwd IAT Min', 'Active Min', 'Active Mean', 'Fwd Byts/b Avg', 'Flow Pkts/s', 'Active Max', 'Pkt Len Min', 'Pkt Len Std'], 'Adv sample 864': ['Fwd Byts/b Avg', 'Bwd Pkts/b Avg', 'Init Bwd Win Byts', 'Bwd IAT Mean', 'Fwd IAT Min', 'Pkt Len Min', 'Idle Std', 'Bwd Pkt Len Min', 'Idle Max', 'Bwd Pkt Len Mean'], 'Adv sample 865': ['Bwd IAT Mean', 'Active Max', 'Init Bwd Win Byts', 'Fwd Byts/b Avg', 'Pkt Len Min', 'Fwd IAT Min', 'Down/Up Ratio', 'Fwd Blk Rate Avg', 'Bwd Pkts/b Avg', 'Bwd IAT Tot'], 'Adv sample 866': ['Active Mean', 'Fwd IAT Min', 'Bwd IAT Mean', 'Active Min', 'Init Bwd Win Byts', 'Active Max', 'Bwd IAT Min', 'Bwd IAT Max', 'Bwd IAT Tot', 'Pkt Len Min'], 'Adv sample 867': ['Bwd Pkts/s', 'Flow Pkts/s', 'Bwd IAT Tot', 'Init Bwd Win Byts', 'Bwd IAT Mean', 'Fwd IAT Min', 'Bwd IAT Std', 'Active Min', 'Active Mean', 'Active Max'], 'Adv sample 868': ['Bwd Pkts/s', 'Bwd IAT Mean', 'Flow Pkts/s', 'Active Mean', 'Bwd IAT Max', 'Idle Max', 'Fwd IAT Min', 'Down/Up Ratio', 'Init Bwd Win Byts', 'Active Max'], 'Adv sample 869': ['Bwd IAT Min', 'Active Min', 'Active Mean', 'Fwd Byts/b Avg', 'Idle Min', 'Init Bwd Win Byts', 'Pkt Len Min', 'Bwd IAT Max', 'Pkt Size Avg', 'Down/Up Ratio'], 'Adv sample 870': ['ACK Flag Cnt', 'Init Bwd Win Byts', 'Idle Std', 'Active Max', 'Active Min', 'Bwd IAT Std', 'Down/Up Ratio', 'Active Mean', 'Bwd IAT Tot', 'Pkt Len Min'], 'Adv sample 871': ['SYN Flag Cnt', 'Active Min', 'Init Bwd Win Byts', 'Fwd IAT Mean', 'Active Mean', 'Active Max', 'Idle Std', 'Bwd IAT Std', 'Subflow Bwd Pkts', 'Pkt Len Min'], 'Adv sample 872': ['SYN Flag Cnt', 'Bwd IAT Mean', 'Active Min', 'Idle Std', 'Bwd IAT Min', 'Active Mean', 'Init Bwd Win Byts', 'Fwd Byts/b Avg', 'Bwd Pkts/b Avg', 'Pkt Len Min'], 'Adv sample 873': ['ACK Flag Cnt', 'Active Max', 'Init Bwd Win Byts', 'Bwd IAT Std', 'Fwd IAT Min', 'Bwd IAT Tot', 'Bwd IAT Max', 'Bwd IAT Mean', 'Pkt Len Min', 'Pkt Len Max'], 'Adv sample 874': ['ACK Flag Cnt', 'Init Bwd Win Byts', 'Bwd IAT Mean', 'Active Max', 'Active Min', 'Bwd IAT Std', 'Bwd IAT Max', 'Active Mean', 'Fwd Blk Rate Avg', 'Flow Pkts/s'], 'Adv sample 875': ['SYN Flag Cnt', 'Bwd IAT Mean', 'Active Mean', 'Init Bwd Win Byts', 'Bwd IAT Std', 'Fwd IAT Min', 'Active Min', 'Active Max', 'Flow IAT Max', 'Idle Std'], 'Adv sample 876': ['SYN Flag Cnt', 'Active Max', 'Init Bwd Win Byts', 'Fwd IAT Min', 'Fwd Byts/b Avg', 'Bwd Pkts/b Avg', 'Bwd Pkt Len Min', 'Pkt Size Avg', 'Fwd Pkts/s', 'Fwd Pkt Len Max'], 'Adv sample 877': ['SYN Flag Cnt', 'Active Min', 'Bwd IAT Mean', 'Init Bwd Win Byts', 'Bwd IAT Max', 'Bwd Pkt Len Min', 'Pkt Len Min', 'Tot Fwd Pkts', 'Bwd Pkts/b Avg', 'Tot Bwd Pkts'], 'Adv sample 878': ['URG Flag Cnt', 'Bwd URG Flags', 'FIN Flag Cnt', 'Down/Up Ratio', 'Bwd IAT Std', 'Init Bwd Win Byts', 'TotLen Fwd Pkts', 'Bwd Pkts/b Avg', 'Active Min', 'Bwd Pkt Len Std'], 'Adv sample 879': ['Fwd Byts/b Avg', 'Bwd IAT Mean', 'Active Mean', 'Bwd IAT Min', 'Init Bwd Win Byts', 'Active Min', 'Fwd IAT Min', 'Pkt Len Min', 'Pkt Size Avg', 'Pkt Len Mean'], 'Adv sample 880': ['SYN Flag Cnt', 'Active Min', 'Active Mean', 'Bwd IAT Mean', 'Active Max', 'Init Bwd Win Byts', 'Pkt Len Mean', 'Idle Std', 'Pkt Len Min', 'Fwd Header Len'], 'Adv sample 881': ['Bwd IAT Min', 'Active Mean', 'Down/Up Ratio', 'Bwd IAT Tot', 'Idle Min', 'Active Min', 'Idle Max', 'Init Bwd Win Byts', 'Bwd IAT Max', 'Fwd Blk Rate Avg'], 'Adv sample 882': ['Active Max', 'Active Mean', 'Bwd IAT Mean', 'Init Bwd Win Byts', 'Active Min', 'Pkt Len Min', 'Bwd IAT Std', 'Fwd IAT Min', 'Bwd IAT Max', 'Idle Max'], 'Adv sample 883': ['ACK Flag Cnt', 'Fwd IAT Min', 'Active Max', 'Init Bwd Win Byts', 'Fwd IAT Mean', 'Fwd Byts/b Avg', 'Bwd Pkt Len Min', 'TotLen Bwd Pkts', 'Tot Fwd Pkts', 'Fwd Act Data Pkts'], 'Adv sample 884': ['Active Max', 'Bwd IAT Std', 'Init Bwd Win Byts', 'Bwd IAT Min', 'ACK Flag Cnt', 'Fwd IAT Min', 'Pkt Len Min', 'Active Min', 'Active Mean', 'Bwd PSH Flags'], 'Adv sample 885': ['SYN Flag Cnt', 'Bwd IAT Max', 'Bwd Pkts/b Avg', 'Init Bwd Win Byts', 'Bwd IAT Tot', 'Pkt Len Min', 'Down/Up Ratio', 'Bwd Pkt Len Min', 'Idle Max', 'Subflow Bwd Pkts'], 'Adv sample 886': ['Bwd IAT Std', 'Active Min', 'Active Mean', 'Bwd IAT Mean', 'Init Bwd Win Byts', 'Pkt Len Min', 'Active Max', 'Bwd IAT Max', 'Bwd Pkts/s', 'Bwd IAT Tot'], 'Adv sample 887': ['ACK Flag Cnt', 'FIN Flag Cnt', 'Init Bwd Win Byts', 'Fwd IAT Min', 'Active Min', 'Active Mean', 'Bwd IAT Std', 'Pkt Len Min', 'Bwd IAT Min', 'Pkt Len Max'], 'Adv sample 888': ['SYN Flag Cnt', 'Bwd IAT Mean', 'Bwd IAT Min', 'Fwd Byts/b Avg', 'Init Bwd Win Byts', 'Fwd IAT Min', 'Idle Min', 'Flow Pkts/s', 'Pkt Len Min', 'Fwd Pkts/b Avg'], 'Adv sample 889': ['SYN Flag Cnt', 'Idle Std', 'Bwd IAT Min', 'Init Bwd Win Byts', 'Active Min', 'Active Mean', 'Bwd IAT Mean', 'Bwd IAT Std', 'Fwd Byts/b Avg', 'Pkt Len Min'], 'Adv sample 890': ['SYN Flag Cnt', 'Active Mean', 'Bwd IAT Mean', 'Active Min', 'Init Bwd Win Byts', 'Active Max', 'Fwd Byts/b Avg', 'Bwd IAT Tot', 'Bwd IAT Min', 'Pkt Len Min'], 'Adv sample 891': ['Bwd IAT Max', 'Bwd IAT Mean', 'Init Bwd Win Byts', 'Active Mean', 'Bwd IAT Tot', 'Bwd Pkt Len Min', 'Bwd IAT Min', 'Pkt Len Min', 'Fwd Pkts/b Avg', 'Fwd IAT Min'], 'Adv sample 892': ['ACK Flag Cnt', 'Init Bwd Win Byts', 'Fwd IAT Min', 'Active Min', 'Bwd IAT Std', 'Bwd IAT Max', 'Bwd Seg Size Avg', 'Flow Pkts/s', 'Fwd Pkt Len Mean', 'Fwd Byts/b Avg'], 'Adv sample 893': ['Bwd IAT Mean', 'Fwd Byts/b Avg', 'Bwd IAT Min', 'Fwd IAT Min', 'Init Bwd Win Byts', 'Fwd Blk Rate Avg', 'Pkt Len Min', 'Idle Min', 'Pkt Len Max', 'Bwd Pkts/b Avg'], 'Adv sample 894': ['Active Min', 'Bwd IAT Mean', 'Active Mean', 'Fwd Byts/b Avg', 'Init Bwd Win Byts', 'Pkt Len Min', 'Bwd Pkts/b Avg', 'Fwd Blk Rate Avg', 'Pkt Len Max', 'Active Max'], 'Adv sample 895': ['ACK Flag Cnt', 'Active Max', 'Fwd IAT Min', 'Init Bwd Win Byts', 'Pkt Len Min', 'Fwd Byts/b Avg', 'Active Mean', 'Flow IAT Max', 'Bwd IAT Tot', 'Fwd Seg Size Avg'], 'Adv sample 896': ['ACK Flag Cnt', 'FIN Flag Cnt', 'Init Bwd Win Byts', 'Bwd IAT Tot', 'Pkt Len Min', 'Bwd Pkt Len Min', 'Active Max', 'Pkt Size Avg', 'Bwd Seg Size Avg', 'Tot Fwd Pkts'], 'Adv sample 897': ['Active Mean', 'Bwd IAT Mean', 'Bwd IAT Max', 'Pkt Len Min', 'Init Bwd Win Byts', 'Bwd Pkts/s', 'Fwd Blk Rate Avg', 'Down/Up Ratio', 'Idle Min', 'PSH Flag Cnt'], 'Adv sample 898': ['Active Min', 'Active Mean', 'Active Max', 'Bwd IAT Min', 'Init Bwd Win Byts', 'Down/Up Ratio', 'Subflow Bwd Byts', 'Bwd Pkt Len Std', 'Pkt Len Min', 'Bwd Pkt Len Max'], 'Adv sample 899': ['Active Min', 'Active Mean', 'Bwd IAT Mean', 'Bwd IAT Std', 'Init Bwd Win Byts', 'Bwd IAT Min', 'Bwd IAT Max', 'Pkt Len Min', 'Active Max', 'Fwd Byts/b Avg'], 'Adv sample 900': ['ACK Flag Cnt', 'FIN Flag Cnt', 'Init Bwd Win Byts', 'Active Min', 'Active Mean', 'Bwd IAT Std', 'Fwd IAT Mean', 'Flow Pkts/s', 'Fwd Byts/b Avg', 'Pkt Len Min'], 'Adv sample 901': ['SYN Flag Cnt', 'Bwd IAT Min', 'Active Max', 'Init Bwd Win Byts', 'Active Mean', 'Fwd Byts/b Avg', 'Bwd IAT Mean', 'Fwd Blk Rate Avg', 'Idle Std', 'Pkt Len Min'], 'Adv sample 902': ['ACK Flag Cnt', 'Active Mean', 'Fwd Byts/b Avg', 'Active Max', 'Fwd IAT Min', 'Init Bwd Win Byts', 'Fwd IAT Mean', 'Flow Pkts/s', 'Bwd Pkt Len Std', 'Bwd Pkt Len Max'], 'Adv sample 903': ['ACK Flag Cnt', 'Fwd IAT Mean', 'Active Max', 'Fwd IAT Min', 'Fwd Byts/b Avg', 'Init Bwd Win Byts', 'Down/Up Ratio', 'Pkt Len Min', 'Pkt Len Mean', 'Pkt Len Max'], 'Adv sample 904': ['SYN Flag Cnt', 'Active Max', 'Init Bwd Win Byts', 'Idle Std', 'Bwd IAT Min', 'Bwd Pkts/b Avg', 'Fwd Byts/b Avg', 'Fwd Blk Rate Avg', 'Fwd Pkt Len Min', 'Subflow Fwd Byts'], 'Adv sample 905': ['Bwd IAT Mean', 'Active Mean', 'Fwd Byts/b Avg', 'Fwd IAT Min', 'Init Bwd Win Byts', 'Bwd Pkts/b Avg', 'Pkt Len Min', 'Bwd IAT Tot', 'Pkt Len Std', 'Bwd Seg Size Avg'], 'Adv sample 906': ['URG Flag Cnt', 'Bwd URG Flags', 'Active Max', 'Fwd Byts/b Avg', 'PSH Flag Cnt', 'Idle Std', 'Bwd PSH Flags', 'Init Bwd Win Byts', 'Pkt Len Min', 'Active Min'], 'Adv sample 907': ['SYN Flag Cnt', 'Bwd IAT Max', 'Bwd IAT Std', 'Down/Up Ratio', 'Init Bwd Win Byts', 'Pkt Len Min', 'Active Max', 'Bwd IAT Tot', 'Bwd Pkt Len Min', 'Pkt Len Max'], 'Adv sample 908': ['Bwd IAT Min', 'Bwd IAT Mean', 'Fwd Pkts/b Avg', 'Fwd Byts/b Avg', 'Init Bwd Win Byts', 'Pkt Len Min', 'Bwd IAT Tot', 'TotLen Fwd Pkts', 'Down/Up Ratio', 'Bwd Pkt Len Std'], 'Adv sample 909': ['ACK Flag Cnt', 'Fwd IAT Min', 'Active Mean', 'Init Bwd Win Byts', 'Bwd IAT Mean', 'Pkt Len Std', 'Active Max', 'Idle Mean', 'Idle Std', 'Pkt Len Max'], 'Adv sample 910': ['ACK Flag Cnt', 'Fwd IAT Min', 'Bwd IAT Mean', 'Init Bwd Win Byts', 'Active Mean', 'Active Min', 'Bwd IAT Std', 'Idle Std', 'Bwd PSH Flags', 'Bwd IAT Max'], 'Adv sample 911': ['SYN Flag Cnt', 'Bwd IAT Std', 'Init Bwd Win Byts', 'Bwd IAT Min', 'Active Min', 'Bwd IAT Max', 'Fwd IAT Min', 'Active Mean', 'Idle Min', 'Active Max'], 'Adv sample 912': ['Active Min', 'Idle Min', 'Active Mean', 'Active Max', 'Fwd Byts/b Avg', 'Init Bwd Win Byts', 'Pkt Len Std', 'Pkt Len Min', 'Fwd IAT Min', 'Pkt Size Avg'], 'Adv sample 913': ['Active Mean', 'Bwd IAT Max', 'Bwd IAT Mean', 'Bwd IAT Tot', 'Init Bwd Win Byts', 'Fwd IAT Min', 'Pkt Len Min', 'Bwd Pkts/s', 'Pkt Len Mean', 'Bwd Seg Size Avg'], 'Adv sample 914': ['Active Max', 'Bwd IAT Max', 'Init Bwd Win Byts', 'Pkt Len Min', 'Bwd IAT Min', 'Fwd IAT Mean', 'Active Mean', 'Active Min', 'Fwd IAT Min', 'Down/Up Ratio'], 'Adv sample 915': ['Active Max', 'Init Bwd Win Byts', 'Bwd IAT Std', 'Bwd IAT Mean', 'Idle Std', 'Active Min', 'Active Mean', 'Pkt Len Min', 'Fwd IAT Min', 'Down/Up Ratio'], 'Adv sample 916': ['SYN Flag Cnt', 'Active Max', 'Init Bwd Win Byts', 'Active Mean', 'Fwd IAT Min', 'Active Min', 'Idle Std', 'Pkt Len Min', 'Fwd Byts/b Avg', 'Bwd IAT Std'], 'Adv sample 917': ['Bwd Pkts/s', 'Active Mean', 'Bwd IAT Max', 'Fwd IAT Min', 'Bwd IAT Mean', 'Active Max', 'Flow Pkts/s', 'Init Bwd Win Byts', 'TotLen Bwd Pkts', 'Bwd IAT Tot'], 'Adv sample 918': ['Bwd IAT Min', 'Init Bwd Win Byts', 'Fwd IAT Min', 'Active Min', 'Fwd Byts/b Avg', 'Bwd IAT Mean', 'Bwd IAT Max', 'Active Mean', 'Bwd IAT Std', 'Pkt Len Min'], 'Adv sample 919': ['ACK Flag Cnt', 'Bwd IAT Std', 'Active Mean', 'Init Bwd Win Byts', 'Bwd IAT Max', 'Fwd Byts/b Avg', 'FIN Flag Cnt', 'Bwd Pkt Len Max', 'Active Max', 'Bwd IAT Tot'], 'Adv sample 920': ['Fwd IAT Min', 'Bwd IAT Max', 'Bwd IAT Min', 'Init Bwd Win Byts', 'Fwd Byts/b Avg', 'Bwd IAT Tot', 'Bwd Pkts/b Avg', 'Pkt Size Avg', 'Idle Max', 'Pkt Len Min'], 'Adv sample 921': ['SYN Flag Cnt', 'Active Mean', 'Active Min', 'Init Bwd Win Byts', 'Bwd IAT Min', 'Bwd IAT Std', 'Fwd IAT Min', 'Idle Std', 'Active Max', 'Pkt Len Min'], 'Adv sample 922': ['Active Mean', 'Active Max', 'Bwd IAT Max', 'Bwd IAT Mean', 'Init Bwd Win Byts', 'Active Min', 'Bwd IAT Tot', 'Pkt Len Min', 'Down/Up Ratio', 'Fwd IAT Min'], 'Adv sample 923': ['ACK Flag Cnt', 'Idle Max', 'Idle Min', 'Active Max', 'Pkt Len Min', 'Bwd Seg Size Avg', 'Pkt Len Mean', 'Init Bwd Win Byts', 'Subflow Bwd Pkts', 'Bwd IAT Tot'], 'Adv sample 924': ['Bwd Pkts/s', 'Bwd IAT Mean', 'Active Mean', 'Bwd IAT Std', 'Bwd IAT Max', 'Bwd IAT Tot', 'Init Bwd Win Byts', 'Flow Pkts/s', 'Bwd IAT Min', 'Fwd IAT Min'], 'Adv sample 925': ['Bwd IAT Tot', 'Init Bwd Win Byts', 'Down/Up Ratio', 'Bwd Seg Size Avg', 'Idle Max', 'Pkt Len Min', 'Pkt Len Max', 'Flow IAT Std', 'Pkt Size Avg', 'Tot Bwd Pkts'], 'Adv sample 926': ['Bwd IAT Mean', 'Active Min', 'Active Mean', 'Init Bwd Win Byts', 'Idle Std', 'Fwd Byts/b Avg', 'Pkt Len Min', 'Active Max', 'Bwd Pkts/b Avg', 'Idle Max'], 'Adv sample 927': ['SYN Flag Cnt', 'Active Min', 'Init Bwd Win Byts', 'Idle Std', 'Bwd IAT Std', 'Active Max', 'Fwd IAT Min', 'Active Mean', 'Bwd IAT Max', 'Pkt Len Min'], 'Adv sample 928': ['ACK Flag Cnt', 'Idle Min', 'Fwd IAT Min', 'Init Bwd Win Byts', 'Active Max', 'Fwd Blk Rate Avg', 'Idle Max', 'Pkt Size Avg', 'Pkt Len Min', 'PSH Flag Cnt'], 'Adv sample 929': ['SYN Flag Cnt', 'Bwd IAT Min', 'Idle Std', 'Bwd IAT Std', 'Init Bwd Win Byts', 'Active Min', 'Fwd IAT Mean', 'Active Mean', 'Fwd Byts/b Avg', 'Active Max'], 'Adv sample 930': ['Active Mean', 'Bwd IAT Min', 'Fwd Byts/b Avg', 'Bwd IAT Max', 'Init Bwd Win Byts', 'Active Min', 'Fwd IAT Min', 'Pkt Len Min', 'Active Max', 'Down/Up Ratio'], 'Adv sample 931': ['Bwd IAT Mean', 'Active Max', 'Fwd IAT Min', 'Bwd IAT Max', 'Init Bwd Win Byts', 'Active Min', 'Active Mean', 'Fwd Byts/b Avg', 'Fwd Pkt Len Mean', 'Down/Up Ratio'], 'Adv sample 932': ['Active Min', 'Bwd IAT Mean', 'Active Max', 'Fwd Blk Rate Avg', 'Bwd Pkts/s', 'Pkt Len Min', 'Bwd IAT Tot', 'Idle Max', 'Init Bwd Win Byts', 'Active Mean'], 'Adv sample 933': ['SYN Flag Cnt', 'Active Min', 'Active Mean', 'Idle Std', 'Active Max', 'Fwd Byts/b Avg', 'Init Bwd Win Byts', 'Bwd Pkts/b Avg', 'Bwd IAT Min', 'Fwd IAT Min'], 'Adv sample 934': ['Active Max', 'Bwd IAT Mean', 'Fwd Byts/b Avg', 'Active Min', 'Init Bwd Win Byts', 'Pkt Len Min', 'Bwd IAT Max', 'Idle Min', 'Idle Max', 'Pkt Size Avg'], 'Adv sample 935': ['ACK Flag Cnt', 'Bwd IAT Std', 'Bwd IAT Tot', 'Active Mean', 'Init Bwd Win Byts', 'Active Min', 'Pkt Len Min', 'Active Max', 'Bwd Pkt Len Min', 'Flow IAT Mean'], 'Adv sample 936': ['ACK Flag Cnt', 'Bwd IAT Min', 'Idle Max', 'Fwd IAT Min', 'Flow Pkts/s', 'Init Bwd Win Byts', 'Active Max', 'Pkt Len Min', 'Fwd IAT Mean', 'Bwd Pkt Len Min'], 'Adv sample 937': ['Active Max', 'Idle Std', 'ACK Flag Cnt', 'Idle Max', 'Fwd Pkts/s', 'Init Bwd Win Byts', 'Down/Up Ratio', 'Pkt Len Min', 'Idle Min', 'Bwd Byts/b Avg'], 'Adv sample 938': ['SYN Flag Cnt', 'Bwd IAT Min', 'Init Bwd Win Byts', 'Active Min', 'Pkt Len Min', 'Fwd IAT Min', 'Fwd Byts/b Avg', 'Bwd Pkts/b Avg', 'Fwd IAT Mean', 'Bwd IAT Max'], 'Adv sample 939': ['ACK Flag Cnt', 'FIN Flag Cnt', 'Init Bwd Win Byts', 'Active Mean', 'Flow Pkts/s', 'Active Min', 'Bwd IAT Max', 'Fwd IAT Min', 'Bwd IAT Min', 'Pkt Len Min'], 'Adv sample 940': ['SYN Flag Cnt', 'Active Mean', 'Bwd IAT Std', 'Fwd IAT Min', 'Bwd IAT Min', 'Init Bwd Win Byts', 'Active Min', 'Bwd Pkt Len Mean', 'Active Max', 'Fwd Act Data Pkts'], 'Adv sample 941': ['Bwd IAT Mean', 'Active Max', 'Active Mean', 'Bwd IAT Min', 'Init Bwd Win Byts', 'Pkt Len Min', 'Fwd Byts/b Avg', 'Pkt Size Avg', 'Pkt Len Max', 'Down/Up Ratio'], 'Adv sample 942': ['Active Mean', 'Active Min', 'Bwd IAT Mean', 'Init Bwd Win Byts', 'Bwd IAT Std', 'Bwd IAT Max', 'Pkt Len Min', 'Down/Up Ratio', 'Bwd Pkts/b Avg', 'Idle Max'], 'Adv sample 943': ['SYN Flag Cnt', 'Active Max', 'Bwd IAT Std', 'Init Bwd Win Byts', 'Idle Std', 'Active Mean', 'Fwd IAT Min', 'Pkt Len Min', 'Active Min', 'Bwd Pkts/b Avg'], 'Adv sample 944': ['SYN Flag Cnt', 'Bwd IAT Min', 'Init Bwd Win Byts', 'Bwd Pkts/b Avg', 'Bwd IAT Max', 'Pkt Len Min', 'Bwd IAT Mean', 'Idle Std', 'Flow Byts/s', 'Fwd Pkt Len Std'], 'Adv sample 945': ['SYN Flag Cnt', 'Init Bwd Win Byts', 'Fwd IAT Min', 'Fwd Blk Rate Avg', 'Fwd Byts/b Avg', 'Pkt Len Min', 'Bwd Pkts/b Avg', 'Bwd Pkt Len Min', 'Bwd Header Len', 'Down/Up Ratio'], 'Adv sample 946': ['ACK Flag Cnt', 'Fwd IAT Min', 'Fwd Byts/b Avg', 'Bwd Pkts/b Avg', 'Init Bwd Win Byts', 'Bwd IAT Mean', 'Fwd Blk Rate Avg', 'Pkt Len Min', 'PSH Flag Cnt', 'Pkt Size Avg'], 'Adv sample 947': ['ACK Flag Cnt', 'Bwd IAT Max', 'Bwd IAT Tot', 'Flow IAT Std', 'Init Bwd Win Byts', 'Pkt Len Min', 'Bwd IAT Std', 'Bwd IAT Min', 'Flow Pkts/s', 'Bwd IAT Mean'], 'Adv sample 948': ['SYN Flag Cnt', 'Active Mean', 'Active Min', 'Bwd IAT Mean', 'Init Bwd Win Byts', 'Idle Std', 'Bwd IAT Std', 'Pkt Len Min', 'Fwd Byts/b Avg', 'Bwd IAT Max'], 'Adv sample 949': ['ACK Flag Cnt', 'Bwd IAT Std', 'Active Min', 'Init Bwd Win Byts', 'Bwd PSH Flags', 'Bwd IAT Max', 'Active Mean', 'Bwd IAT Mean', 'Bwd IAT Tot', 'Idle Std'], 'Adv sample 950': ['Bwd Pkts/s', 'Bwd IAT Mean', 'Bwd IAT Min', 'Active Mean', 'Bwd IAT Max', 'Active Max', 'Flow Pkts/s', 'Init Bwd Win Byts', 'Down/Up Ratio', 'Fwd IAT Min'], 'Adv sample 951': ['ACK Flag Cnt', 'Active Mean', 'Active Min', 'Init Bwd Win Byts', 'FIN Flag Cnt', 'Fwd IAT Min', 'Active Max', 'Bwd IAT Std', 'Flow Pkts/s', 'PSH Flag Cnt'], 'Adv sample 952': ['SYN Flag Cnt', 'Fwd Byts/b Avg', 'Bwd IAT Min', 'Init Bwd Win Byts', 'Active Min', 'Active Mean', 'Active Max', 'Pkt Len Min', 'Idle Std', 'Fwd IAT Min'], 'Adv sample 953': ['Active Max', 'Bwd IAT Min', 'Init Bwd Win Byts', 'Active Min', 'Active Mean', 'Bwd IAT Std', 'Bwd IAT Mean', 'Bwd IAT Max', 'Pkt Len Min', 'Down/Up Ratio'], 'Adv sample 954': ['SYN Flag Cnt', 'Active Mean', 'Bwd IAT Mean', 'Init Bwd Win Byts', 'Bwd Pkts/b Avg', 'Pkt Len Min', 'Down/Up Ratio', 'Tot Fwd Pkts', 'Active Min', 'Bwd IAT Min'], 'Adv sample 955': ['SYN Flag Cnt', 'Bwd IAT Min', 'Init Bwd Win Byts', 'Idle Std', 'Active Min', 'Fwd Byts/b Avg', 'Bwd IAT Max', 'Bwd IAT Mean', 'Bwd IAT Std', 'Fwd IAT Min'], 'Adv sample 956': ['Active Min', 'Init Bwd Win Byts', 'Bwd IAT Std', 'Bwd Pkts/b Avg', 'Bwd IAT Mean', 'Active Mean', 'Idle Std', 'Active Max', 'Pkt Len Min', 'Fwd Byts/b Avg'], 'Adv sample 957': ['SYN Flag Cnt', 'Bwd IAT Mean', 'Init Bwd Win Byts', 'Active Min', 'Fwd IAT Min', 'Bwd IAT Std', 'Bwd IAT Min', 'Active Mean', 'Bwd IAT Max', 'Idle Std'], 'Adv sample 958': ['Active Min', 'ACK Flag Cnt', 'Active Mean', 'Active Max', 'Init Bwd Win Byts', 'Idle Std', 'Fwd IAT Min', 'Bwd IAT Std', 'Bwd IAT Max', 'Fwd Pkt Len Min'], 'Adv sample 959': ['Fwd IAT Min', 'Bwd IAT Mean', 'Idle Std', 'Active Min', 'Active Mean', 'Bwd Pkts/b Avg', 'Init Bwd Win Byts', 'Active Max', 'Pkt Len Min', 'Fwd Byts/b Avg'], 'Adv sample 960': ['Active Min', 'Bwd IAT Min', 'Bwd IAT Std', 'Active Mean', 'Bwd IAT Mean', 'Init Bwd Win Byts', 'Active Max', 'Idle Min', 'Bwd IAT Max', 'Fwd Byts/b Avg'], 'Adv sample 961': ['ACK Flag Cnt', 'FIN Flag Cnt', 'Init Bwd Win Byts', 'Active Max', 'Bwd IAT Std', 'Bwd IAT Min', 'Active Min', 'Fwd Byts/b Avg', 'Flow Pkts/s', 'Active Mean'], 'Adv sample 962': ['Bwd IAT Min', 'Bwd IAT Mean', 'Active Min', 'Init Bwd Win Byts', 'Down/Up Ratio', 'Active Mean', 'Bwd Pkts/b Avg', 'Pkt Len Min', 'Fwd Byts/b Avg', 'Pkt Size Avg'], 'Adv sample 963': ['ACK Flag Cnt', 'Fwd IAT Min', 'Bwd IAT Std', 'Active Mean', 'Init Bwd Win Byts', 'Active Min', 'Flow IAT Mean', 'Active Max', 'Bwd IAT Max', 'Bwd PSH Flags'], 'Adv sample 964': ['URG Flag Cnt', 'Bwd URG Flags', 'FIN Flag Cnt', 'Bwd IAT Mean', 'Bwd IAT Max', 'Active Max', 'PSH Flag Cnt', 'Fwd IAT Min', 'Bwd IAT Tot', 'Init Bwd Win Byts'], 'Adv sample 965': ['ACK Flag Cnt', 'Fwd IAT Min', 'Active Max', 'Init Bwd Win Byts', 'Bwd IAT Mean', 'Bwd Pkts/b Avg', 'Bwd IAT Min', 'Bwd IAT Max', 'Pkt Len Min', 'Fwd IAT Mean'], 'Adv sample 966': ['ACK Flag Cnt', 'Bwd IAT Tot', 'Flow IAT Std', 'Init Bwd Win Byts', 'Flow Pkts/s', 'Flow IAT Mean', 'Bwd Seg Size Avg', 'Pkt Len Min', 'Pkt Len Mean', 'Bwd Header Len'], 'Adv sample 967': ['Bwd IAT Mean', 'Init Bwd Win Byts', 'Idle Std', 'Active Min', 'Fwd IAT Min', 'Fwd Byts/b Avg', 'Active Mean', 'Active Max', 'Idle Max', 'Pkt Len Min'], 'Adv sample 968': ['Active Mean', 'Bwd IAT Min', 'Bwd IAT Mean', 'Active Max', 'Init Bwd Win Byts', 'Pkt Len Min', 'Bwd IAT Max', 'Bwd Seg Size Avg', 'Down/Up Ratio', 'Pkt Len Var'], 'Adv sample 969': ['SYN Flag Cnt', 'Active Mean', 'Init Bwd Win Byts', 'Active Min', 'Fwd IAT Mean', 'Fwd IAT Min', 'Bwd Pkts/b Avg', 'Active Max', 'Bwd IAT Std', 'Bwd IAT Min'], 'Adv sample 970': ['Active Min', 'Bwd IAT Mean', 'Active Mean', 'Active Max', 'Init Bwd Win Byts', 'Fwd IAT Min', 'Bwd IAT Std', 'Bwd IAT Min', 'Pkt Len Min', 'Fwd Byts/b Avg'], 'Adv sample 971': ['ACK Flag Cnt', 'Bwd IAT Min', 'Active Max', 'Init Bwd Win Byts', 'Bwd IAT Std', 'Active Min', 'Bwd IAT Max', 'Fwd IAT Min', 'Active Mean', 'Bwd IAT Mean'], 'Adv sample 972': ['Bwd Pkts/s', 'Active Mean', 'Bwd IAT Max', 'Bwd IAT Mean', 'Flow Pkts/s', 'Bwd IAT Std', 'Bwd IAT Tot', 'Init Bwd Win Byts', 'Bwd IAT Min', 'Down/Up Ratio'], 'Adv sample 973': ['SYN Flag Cnt', 'Active Min', 'Fwd IAT Min', 'Init Bwd Win Byts', 'Active Mean', 'Active Max', 'Idle Std', 'Idle Max', 'Bwd IAT Max', 'Bwd IAT Std'], 'Adv sample 974': ['Bwd IAT Min', 'Bwd IAT Mean', 'Init Bwd Win Byts', 'Active Min', 'Down/Up Ratio', 'Bwd IAT Tot', 'Bwd IAT Std', 'Active Mean', 'Active Max', 'Idle Max'], 'Adv sample 975': ['SYN Flag Cnt', 'Bwd IAT Std', 'Active Mean', 'Init Bwd Win Byts', 'Active Min', 'Fwd IAT Min', 'Active Max', 'Fwd Byts/b Avg', 'Idle Std', 'Fwd Header Len'], 'Adv sample 976': ['SYN Flag Cnt', 'Active Min', 'Active Max', 'Init Bwd Win Byts', 'Fwd IAT Min', 'Pkt Len Min', 'Active Mean', 'Bwd Pkt Len Min', 'Bwd IAT Std', 'Idle Std'], 'Adv sample 977': ['SYN Flag Cnt', 'Active Min', 'Bwd IAT Mean', 'Active Mean', 'Init Bwd Win Byts', 'Bwd IAT Min', 'Bwd Pkts/b Avg', 'Bwd IAT Max', 'Pkt Len Min', 'Idle Std'], 'Adv sample 978': ['SYN Flag Cnt', 'Bwd IAT Min', 'Init Bwd Win Byts', 'Active Min', 'Bwd IAT Std', 'Fwd Byts/b Avg', 'Fwd IAT Mean', 'Idle Max', 'Fwd Pkts/b Avg', 'Bwd IAT Max'], 'Adv sample 979': ['Bwd Pkts/s', 'Flow Pkts/s', 'Bwd IAT Mean', 'Bwd IAT Tot', 'Bwd IAT Max', 'Init Bwd Win Byts', 'Active Mean', 'Down/Up Ratio', 'Bwd IAT Std', 'Active Max'], 'Adv sample 980': ['Bwd Pkts/s', 'Flow Pkts/s', 'Active Mean', 'Bwd IAT Mean', 'Bwd IAT Tot', 'Init Bwd Win Byts', 'Active Min', 'Pkt Len Min', 'Bwd IAT Std', 'Idle Std'], 'Adv sample 981': ['Active Min', 'Bwd IAT Min', 'Bwd IAT Max', 'Fwd Byts/b Avg', 'Init Bwd Win Byts', 'Bwd Pkts/b Avg', 'Bwd IAT Mean', 'Bwd Pkt Len Min', 'PSH Flag Cnt', 'Pkt Len Min'], 'Adv sample 982': ['ACK Flag Cnt', 'Active Max', 'Bwd IAT Std', 'Idle Std', 'Bwd IAT Min', 'Init Bwd Win Byts', 'Bwd Byts/b Avg', 'Pkt Len Min', 'PSH Flag Cnt', 'Bwd IAT Tot'], 'Adv sample 983': ['ACK Flag Cnt', 'Active Max', 'Fwd IAT Min', 'Init Bwd Win Byts', 'FIN Flag Cnt', 'Active Min', 'Fwd Byts/b Avg', 'Active Mean', 'Bwd IAT Std', 'Bwd IAT Max'], 'Adv sample 984': ['URG Flag Cnt', 'Bwd URG Flags', 'Active Mean', 'Fwd IAT Min', 'Active Max', 'Bwd IAT Max', 'FIN Flag Cnt', 'Init Bwd Win Byts', 'Pkt Size Avg', 'Bwd Seg Size Avg'], 'Adv sample 985': ['Bwd IAT Mean', 'Bwd IAT Max', 'Bwd Pkts/s', 'Active Min', 'Init Bwd Win Byts', 'Active Max', 'Active Mean', 'Fwd Byts/b Avg', 'Flow Pkts/s', 'Down/Up Ratio'], 'Adv sample 986': ['Active Min', 'Bwd IAT Mean', 'Init Bwd Win Byts', 'Pkt Len Min', 'Fwd Blk Rate Avg', 'Bwd IAT Tot', 'Idle Max', 'Down/Up Ratio', 'Bwd Pkts/b Avg', 'Fwd Pkt Len Min'], 'Adv sample 987': ['ACK Flag Cnt', 'Bwd IAT Mean', 'Active Mean', 'Flow IAT Std', 'Flow IAT Mean', 'Init Bwd Win Byts', 'Active Min', 'PSH Flag Cnt', 'Active Max', 'Bwd Pkt Len Min'], 'Adv sample 988': ['ACK Flag Cnt', 'Bwd IAT Min', 'Init Bwd Win Byts', 'Bwd IAT Mean', 'Active Min', 'Idle Min', 'Bwd IAT Std', 'Fwd IAT Mean', 'Bwd PSH Flags', 'Bwd Pkts/b Avg'], 'Adv sample 989': ['ACK Flag Cnt', 'Fwd IAT Min', 'Bwd IAT Std', 'Init Bwd Win Byts', 'Bwd IAT Mean', 'Active Min', 'Active Max', 'Active Mean', 'Idle Std', 'Bwd IAT Max'], 'Adv sample 990': ['ACK Flag Cnt', 'FIN Flag Cnt', 'Init Bwd Win Byts', 'Active Min', 'Flow Pkts/s', 'Bwd IAT Max', 'Bwd IAT Mean', 'Active Mean', 'Pkt Len Mean', 'Fwd IAT Min'], 'Adv sample 991': ['ACK Flag Cnt', 'FIN Flag Cnt', 'Active Max', 'Init Bwd Win Byts', 'Bwd IAT Max', 'Flow Pkts/s', 'Active Min', 'Fwd IAT Min', 'Bwd IAT Min', 'Pkt Len Min'], 'Adv sample 992': ['Active Mean', 'Bwd IAT Max', 'Init Bwd Win Byts', 'Bwd IAT Mean', 'Fwd IAT Min', 'Bwd Pkts/s', 'Pkt Len Min', 'Bwd IAT Tot', 'Fwd Blk Rate Avg', 'Idle Max'], 'Adv sample 993': ['Active Max', 'Init Bwd Win Byts', 'Idle Std', 'ACK Flag Cnt', 'Fwd IAT Min', 'Active Min', 'Pkt Len Min', 'Bwd IAT Std', 'Down/Up Ratio', 'Active Mean'], 'Adv sample 994': ['Active Min', 'Bwd IAT Min', 'Active Mean', 'Active Max', 'Init Bwd Win Byts', 'Bwd IAT Std', 'Bwd IAT Mean', 'Pkt Len Min', 'Bwd IAT Max', 'Down/Up Ratio'], 'Adv sample 995': ['Bwd IAT Mean', 'Active Mean', 'Active Min', 'Bwd IAT Std', 'Bwd IAT Tot', 'Init Bwd Win Byts', 'Active Max', 'Fwd Byts/b Avg', 'Pkt Len Min', 'Bwd IAT Max'], 'Adv sample 996': ['Active Mean', 'Bwd IAT Mean', 'Init Bwd Win Byts', 'Bwd IAT Min', 'Bwd Pkts/b Avg', 'Fwd IAT Min', 'TotLen Bwd Pkts', 'Pkt Len Min', 'Fwd Byts/b Avg', 'Pkt Len Std'], 'Adv sample 997': ['SYN Flag Cnt', 'Active Mean', 'Bwd IAT Min', 'Init Bwd Win Byts', 'Idle Std', 'Bwd IAT Mean', 'Fwd Byts/b Avg', 'Pkt Len Min', 'Bwd Pkts/b Avg', 'Fwd Pkts/s'], 'Adv sample 998': ['Bwd IAT Std', 'Active Max', 'Init Bwd Win Byts', 'Bwd IAT Max', 'Idle Std', 'Fwd IAT Min', 'Pkt Len Min', 'Active Min', 'Active Mean', 'Bwd IAT Min'], 'Adv sample 999': ['ACK Flag Cnt', 'Init Bwd Win Byts', 'Fwd IAT Mean', 'Fwd IAT Min', 'Active Max', 'Bwd IAT Mean', 'Flow Pkts/s', 'Pkt Len Min', 'Bwd IAT Min', 'Fwd Pkt Len Max']}\n"
          ]
        }
      ]
    },
    {
      "cell_type": "code",
      "source": [
        "len(shap_values[0])"
      ],
      "metadata": {
        "colab": {
          "base_uri": "https://localhost:8080/"
        },
        "id": "YdyTABeHYa2k",
        "outputId": "87298377-3973-41f7-fde8-00aa8c777a1a"
      },
      "execution_count": 21,
      "outputs": [
        {
          "output_type": "execute_result",
          "data": {
            "text/plain": [
              "1000"
            ]
          },
          "metadata": {},
          "execution_count": 21
        }
      ]
    },
    {
      "cell_type": "code",
      "source": [
        "len(data_dict)"
      ],
      "metadata": {
        "colab": {
          "base_uri": "https://localhost:8080/"
        },
        "id": "rUB23r63Tjug",
        "outputId": "bec04e32-2b10-4016-ada7-9df17874aa3a"
      },
      "execution_count": 22,
      "outputs": [
        {
          "output_type": "execute_result",
          "data": {
            "text/plain": [
              "1000"
            ]
          },
          "metadata": {},
          "execution_count": 22
        }
      ]
    },
    {
      "cell_type": "markdown",
      "source": [
        "# Detection phase"
      ],
      "metadata": {
        "id": "E8tWQQDtNIJk"
      }
    },
    {
      "cell_type": "code",
      "source": [
        "import os\n",
        "import pandas as pd"
      ],
      "metadata": {
        "id": "mmslrdn7z7Zf"
      },
      "execution_count": 23,
      "outputs": []
    },
    {
      "cell_type": "code",
      "source": [
        "whitelist_df = pd.read_csv('/content/drive/MyDrive/InSDN/MLP_top24_InSDN_bin.csv')\n",
        "whitelist_df.head(24)"
      ],
      "metadata": {
        "colab": {
          "base_uri": "https://localhost:8080/",
          "height": 801
        },
        "id": "aQJa-f1GPxvz",
        "outputId": "7c042f27-c7ba-4f2a-80d0-811e0d22a0be"
      },
      "execution_count": 24,
      "outputs": [
        {
          "output_type": "execute_result",
          "data": {
            "text/plain": [
              "              Feature  Frequency\n",
              "0   Init Bwd Win Byts        684\n",
              "1            Idle Max        604\n",
              "2     Bwd Pkt Len Max        571\n",
              "3           Idle Mean        535\n",
              "4            Idle Min        535\n",
              "5    Bwd Pkt Len Mean        462\n",
              "6     Bwd Pkt Len Std        444\n",
              "7         Pkt Len Min        383\n",
              "8        Tot Fwd Pkts        364\n",
              "9    Bwd Seg Size Avg        358\n",
              "10        Bwd IAT Max        340\n",
              "11       Tot Bwd Pkts        337\n",
              "12    TotLen Fwd Pkts        329\n",
              "13    TotLen Bwd Pkts        324\n",
              "14        Bwd IAT Tot        316\n",
              "15       SYN Flag Cnt        293\n",
              "16        Flow Pkts/s        273\n",
              "17        Bwd IAT Std        268\n",
              "18    Bwd Pkt Len Min        260\n",
              "19    Fwd Pkt Len Min        253\n",
              "20      Flow Duration        248\n",
              "21      Down/Up Ratio        242\n",
              "22       Flow IAT Min        219\n",
              "23    Fwd Pkt Len Std        219"
            ],
            "text/html": [
              "\n",
              "  <div id=\"df-e99181bb-c20e-4b60-a557-057ebccfe8fe\">\n",
              "    <div class=\"colab-df-container\">\n",
              "      <div>\n",
              "<style scoped>\n",
              "    .dataframe tbody tr th:only-of-type {\n",
              "        vertical-align: middle;\n",
              "    }\n",
              "\n",
              "    .dataframe tbody tr th {\n",
              "        vertical-align: top;\n",
              "    }\n",
              "\n",
              "    .dataframe thead th {\n",
              "        text-align: right;\n",
              "    }\n",
              "</style>\n",
              "<table border=\"1\" class=\"dataframe\">\n",
              "  <thead>\n",
              "    <tr style=\"text-align: right;\">\n",
              "      <th></th>\n",
              "      <th>Feature</th>\n",
              "      <th>Frequency</th>\n",
              "    </tr>\n",
              "  </thead>\n",
              "  <tbody>\n",
              "    <tr>\n",
              "      <th>0</th>\n",
              "      <td>Init Bwd Win Byts</td>\n",
              "      <td>684</td>\n",
              "    </tr>\n",
              "    <tr>\n",
              "      <th>1</th>\n",
              "      <td>Idle Max</td>\n",
              "      <td>604</td>\n",
              "    </tr>\n",
              "    <tr>\n",
              "      <th>2</th>\n",
              "      <td>Bwd Pkt Len Max</td>\n",
              "      <td>571</td>\n",
              "    </tr>\n",
              "    <tr>\n",
              "      <th>3</th>\n",
              "      <td>Idle Mean</td>\n",
              "      <td>535</td>\n",
              "    </tr>\n",
              "    <tr>\n",
              "      <th>4</th>\n",
              "      <td>Idle Min</td>\n",
              "      <td>535</td>\n",
              "    </tr>\n",
              "    <tr>\n",
              "      <th>5</th>\n",
              "      <td>Bwd Pkt Len Mean</td>\n",
              "      <td>462</td>\n",
              "    </tr>\n",
              "    <tr>\n",
              "      <th>6</th>\n",
              "      <td>Bwd Pkt Len Std</td>\n",
              "      <td>444</td>\n",
              "    </tr>\n",
              "    <tr>\n",
              "      <th>7</th>\n",
              "      <td>Pkt Len Min</td>\n",
              "      <td>383</td>\n",
              "    </tr>\n",
              "    <tr>\n",
              "      <th>8</th>\n",
              "      <td>Tot Fwd Pkts</td>\n",
              "      <td>364</td>\n",
              "    </tr>\n",
              "    <tr>\n",
              "      <th>9</th>\n",
              "      <td>Bwd Seg Size Avg</td>\n",
              "      <td>358</td>\n",
              "    </tr>\n",
              "    <tr>\n",
              "      <th>10</th>\n",
              "      <td>Bwd IAT Max</td>\n",
              "      <td>340</td>\n",
              "    </tr>\n",
              "    <tr>\n",
              "      <th>11</th>\n",
              "      <td>Tot Bwd Pkts</td>\n",
              "      <td>337</td>\n",
              "    </tr>\n",
              "    <tr>\n",
              "      <th>12</th>\n",
              "      <td>TotLen Fwd Pkts</td>\n",
              "      <td>329</td>\n",
              "    </tr>\n",
              "    <tr>\n",
              "      <th>13</th>\n",
              "      <td>TotLen Bwd Pkts</td>\n",
              "      <td>324</td>\n",
              "    </tr>\n",
              "    <tr>\n",
              "      <th>14</th>\n",
              "      <td>Bwd IAT Tot</td>\n",
              "      <td>316</td>\n",
              "    </tr>\n",
              "    <tr>\n",
              "      <th>15</th>\n",
              "      <td>SYN Flag Cnt</td>\n",
              "      <td>293</td>\n",
              "    </tr>\n",
              "    <tr>\n",
              "      <th>16</th>\n",
              "      <td>Flow Pkts/s</td>\n",
              "      <td>273</td>\n",
              "    </tr>\n",
              "    <tr>\n",
              "      <th>17</th>\n",
              "      <td>Bwd IAT Std</td>\n",
              "      <td>268</td>\n",
              "    </tr>\n",
              "    <tr>\n",
              "      <th>18</th>\n",
              "      <td>Bwd Pkt Len Min</td>\n",
              "      <td>260</td>\n",
              "    </tr>\n",
              "    <tr>\n",
              "      <th>19</th>\n",
              "      <td>Fwd Pkt Len Min</td>\n",
              "      <td>253</td>\n",
              "    </tr>\n",
              "    <tr>\n",
              "      <th>20</th>\n",
              "      <td>Flow Duration</td>\n",
              "      <td>248</td>\n",
              "    </tr>\n",
              "    <tr>\n",
              "      <th>21</th>\n",
              "      <td>Down/Up Ratio</td>\n",
              "      <td>242</td>\n",
              "    </tr>\n",
              "    <tr>\n",
              "      <th>22</th>\n",
              "      <td>Flow IAT Min</td>\n",
              "      <td>219</td>\n",
              "    </tr>\n",
              "    <tr>\n",
              "      <th>23</th>\n",
              "      <td>Fwd Pkt Len Std</td>\n",
              "      <td>219</td>\n",
              "    </tr>\n",
              "  </tbody>\n",
              "</table>\n",
              "</div>\n",
              "      <button class=\"colab-df-convert\" onclick=\"convertToInteractive('df-e99181bb-c20e-4b60-a557-057ebccfe8fe')\"\n",
              "              title=\"Convert this dataframe to an interactive table.\"\n",
              "              style=\"display:none;\">\n",
              "        \n",
              "  <svg xmlns=\"http://www.w3.org/2000/svg\" height=\"24px\"viewBox=\"0 0 24 24\"\n",
              "       width=\"24px\">\n",
              "    <path d=\"M0 0h24v24H0V0z\" fill=\"none\"/>\n",
              "    <path d=\"M18.56 5.44l.94 2.06.94-2.06 2.06-.94-2.06-.94-.94-2.06-.94 2.06-2.06.94zm-11 1L8.5 8.5l.94-2.06 2.06-.94-2.06-.94L8.5 2.5l-.94 2.06-2.06.94zm10 10l.94 2.06.94-2.06 2.06-.94-2.06-.94-.94-2.06-.94 2.06-2.06.94z\"/><path d=\"M17.41 7.96l-1.37-1.37c-.4-.4-.92-.59-1.43-.59-.52 0-1.04.2-1.43.59L10.3 9.45l-7.72 7.72c-.78.78-.78 2.05 0 2.83L4 21.41c.39.39.9.59 1.41.59.51 0 1.02-.2 1.41-.59l7.78-7.78 2.81-2.81c.8-.78.8-2.07 0-2.86zM5.41 20L4 18.59l7.72-7.72 1.47 1.35L5.41 20z\"/>\n",
              "  </svg>\n",
              "      </button>\n",
              "      \n",
              "  <style>\n",
              "    .colab-df-container {\n",
              "      display:flex;\n",
              "      flex-wrap:wrap;\n",
              "      gap: 12px;\n",
              "    }\n",
              "\n",
              "    .colab-df-convert {\n",
              "      background-color: #E8F0FE;\n",
              "      border: none;\n",
              "      border-radius: 50%;\n",
              "      cursor: pointer;\n",
              "      display: none;\n",
              "      fill: #1967D2;\n",
              "      height: 32px;\n",
              "      padding: 0 0 0 0;\n",
              "      width: 32px;\n",
              "    }\n",
              "\n",
              "    .colab-df-convert:hover {\n",
              "      background-color: #E2EBFA;\n",
              "      box-shadow: 0px 1px 2px rgba(60, 64, 67, 0.3), 0px 1px 3px 1px rgba(60, 64, 67, 0.15);\n",
              "      fill: #174EA6;\n",
              "    }\n",
              "\n",
              "    [theme=dark] .colab-df-convert {\n",
              "      background-color: #3B4455;\n",
              "      fill: #D2E3FC;\n",
              "    }\n",
              "\n",
              "    [theme=dark] .colab-df-convert:hover {\n",
              "      background-color: #434B5C;\n",
              "      box-shadow: 0px 1px 3px 1px rgba(0, 0, 0, 0.15);\n",
              "      filter: drop-shadow(0px 1px 2px rgba(0, 0, 0, 0.3));\n",
              "      fill: #FFFFFF;\n",
              "    }\n",
              "  </style>\n",
              "\n",
              "      <script>\n",
              "        const buttonEl =\n",
              "          document.querySelector('#df-e99181bb-c20e-4b60-a557-057ebccfe8fe button.colab-df-convert');\n",
              "        buttonEl.style.display =\n",
              "          google.colab.kernel.accessAllowed ? 'block' : 'none';\n",
              "\n",
              "        async function convertToInteractive(key) {\n",
              "          const element = document.querySelector('#df-e99181bb-c20e-4b60-a557-057ebccfe8fe');\n",
              "          const dataTable =\n",
              "            await google.colab.kernel.invokeFunction('convertToInteractive',\n",
              "                                                     [key], {});\n",
              "          if (!dataTable) return;\n",
              "\n",
              "          const docLinkHtml = 'Like what you see? Visit the ' +\n",
              "            '<a target=\"_blank\" href=https://colab.research.google.com/notebooks/data_table.ipynb>data table notebook</a>'\n",
              "            + ' to learn more about interactive tables.';\n",
              "          element.innerHTML = '';\n",
              "          dataTable['output_type'] = 'display_data';\n",
              "          await google.colab.output.renderOutput(dataTable, element);\n",
              "          const docLink = document.createElement('div');\n",
              "          docLink.innerHTML = docLinkHtml;\n",
              "          element.appendChild(docLink);\n",
              "        }\n",
              "      </script>\n",
              "    </div>\n",
              "  </div>\n",
              "  "
            ]
          },
          "metadata": {},
          "execution_count": 24
        }
      ]
    },
    {
      "cell_type": "markdown",
      "source": [
        "## Detection rate (top 24) = 1000/1000"
      ],
      "metadata": {
        "id": "PkqSAZakWXM8"
      }
    },
    {
      "cell_type": "code",
      "source": [
        "whitelist = whitelist_df.iloc[:, 0][:24].tolist()\n",
        "print(whitelist)"
      ],
      "metadata": {
        "colab": {
          "base_uri": "https://localhost:8080/"
        },
        "id": "hiA70yr9QStE",
        "outputId": "eeba7520-83f1-4336-bf70-694b74199d5d"
      },
      "execution_count": 31,
      "outputs": [
        {
          "output_type": "stream",
          "name": "stdout",
          "text": [
            "['Init Bwd Win Byts', 'Idle Max', 'Bwd Pkt Len Max', 'Idle Mean', 'Idle Min', 'Bwd Pkt Len Mean', 'Bwd Pkt Len Std', 'Pkt Len Min', 'Tot Fwd Pkts', 'Bwd Seg Size Avg', 'Bwd IAT Max', 'Tot Bwd Pkts', 'TotLen Fwd Pkts', 'TotLen Bwd Pkts', 'Bwd IAT Tot', 'SYN Flag Cnt', 'Flow Pkts/s', 'Bwd IAT Std', 'Bwd Pkt Len Min', 'Fwd Pkt Len Min', 'Flow Duration', 'Down/Up Ratio', 'Flow IAT Min', 'Fwd Pkt Len Std']\n"
          ]
        }
      ]
    },
    {
      "cell_type": "code",
      "source": [
        "alert = []\n",
        "\n",
        "# Iterate over each key-value pair in the data_dict\n",
        "for key, value in data_dict.items():\n",
        "    # Check if there are one feature is not in the whitelist\n",
        "    for string in value:\n",
        "      if string not in whitelist:\n",
        "        alert.append(key)\n",
        "        break\n",
        "\n",
        "# Print the alert dictionary\n",
        "print(\"Alert list length:\" + str(len(alert)))"
      ],
      "metadata": {
        "colab": {
          "base_uri": "https://localhost:8080/"
        },
        "id": "GWIJRBYkUwhx",
        "outputId": "fca01f4c-ee87-482c-b27f-e8280f7f1499"
      },
      "execution_count": 37,
      "outputs": [
        {
          "output_type": "stream",
          "name": "stdout",
          "text": [
            "Alert list length:1000\n"
          ]
        }
      ]
    },
    {
      "cell_type": "markdown",
      "source": [
        "## Detection rate (top 38) = 992/1000"
      ],
      "metadata": {
        "id": "NddVIE7MU9m-"
      }
    },
    {
      "cell_type": "code",
      "source": [
        "whitelist2 = whitelist_df.iloc[:, 0][:38].tolist()\n",
        "print(whitelist2)"
      ],
      "metadata": {
        "colab": {
          "base_uri": "https://localhost:8080/"
        },
        "id": "QTKqfqrEWMLV",
        "outputId": "b34a472b-3e51-465a-9234-7741ae4742c4"
      },
      "execution_count": 38,
      "outputs": [
        {
          "output_type": "stream",
          "name": "stdout",
          "text": [
            "['Init Bwd Win Byts', 'Idle Max', 'Bwd Pkt Len Max', 'Idle Mean', 'Idle Min', 'Bwd Pkt Len Mean', 'Bwd Pkt Len Std', 'Pkt Len Min', 'Tot Fwd Pkts', 'Bwd Seg Size Avg', 'Bwd IAT Max', 'Tot Bwd Pkts', 'TotLen Fwd Pkts', 'TotLen Bwd Pkts', 'Bwd IAT Tot', 'SYN Flag Cnt', 'Flow Pkts/s', 'Bwd IAT Std', 'Bwd Pkt Len Min', 'Fwd Pkt Len Min', 'Flow Duration', 'Down/Up Ratio', 'Flow IAT Min', 'Fwd Pkt Len Std', 'Fwd Pkts/s', 'Active Min', 'Fwd IAT Std', 'Flow IAT Mean', 'Fwd IAT Mean', 'Bwd Header Len', 'Pkt Len Var', 'Active Mean', 'Fwd IAT Tot', 'Active Max', 'Idle Std', 'Active Std', 'Flow IAT Std', 'Subflow Bwd Pkts']\n"
          ]
        }
      ]
    },
    {
      "cell_type": "code",
      "source": [
        "alert2 = []\n",
        "\n",
        "# Iterate over each key-value pair in the data_dict\n",
        "for key, value in data_dict.items():\n",
        "    # Check if there are one feature is not in the whitelist\n",
        "    for string in value:\n",
        "      if string not in whitelist2:\n",
        "        alert2.append(key)\n",
        "        break\n",
        "\n",
        "# Print the alert dictionary\n",
        "print(\"Alert list length:\" + str(len(alert2)))"
      ],
      "metadata": {
        "colab": {
          "base_uri": "https://localhost:8080/"
        },
        "id": "p_i5J0kxVyCx",
        "outputId": "c9342274-9d26-4e34-8242-47ef98023ebe"
      },
      "execution_count": 39,
      "outputs": [
        {
          "output_type": "stream",
          "name": "stdout",
          "text": [
            "Alert list length:992\n"
          ]
        }
      ]
    }
  ]
}