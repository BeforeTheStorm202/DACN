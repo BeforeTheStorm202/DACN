{
  "nbformat": 4,
  "nbformat_minor": 0,
  "metadata": {
    "colab": {
      "provenance": [],
      "toc_visible": true,
      "mount_file_id": "1Z_1brTldKewNu5uM9zC02GhjI1m80Ei8",
      "authorship_tag": "ABX9TyOkMwKIyBuhoNmDOnqAw5Mb",
      "include_colab_link": true
    },
    "kernelspec": {
      "name": "python3",
      "display_name": "Python 3"
    },
    "language_info": {
      "name": "python"
    },
    "widgets": {
      "application/vnd.jupyter.widget-state+json": {
        "8278bd367c764677b696c5576b052f72": {
          "model_module": "@jupyter-widgets/controls",
          "model_name": "HBoxModel",
          "model_module_version": "1.5.0",
          "state": {
            "_dom_classes": [],
            "_model_module": "@jupyter-widgets/controls",
            "_model_module_version": "1.5.0",
            "_model_name": "HBoxModel",
            "_view_count": null,
            "_view_module": "@jupyter-widgets/controls",
            "_view_module_version": "1.5.0",
            "_view_name": "HBoxView",
            "box_style": "",
            "children": [
              "IPY_MODEL_3d2a4c2caa794f938f3a22c9993c0dcd",
              "IPY_MODEL_da088f8fc48344d89de0978adb74fa0c",
              "IPY_MODEL_cef67b3495a84c30b4bd2e84052e599c"
            ],
            "layout": "IPY_MODEL_d1ee8b38f5624190b002b08ef8c9eaf9"
          }
        },
        "3d2a4c2caa794f938f3a22c9993c0dcd": {
          "model_module": "@jupyter-widgets/controls",
          "model_name": "HTMLModel",
          "model_module_version": "1.5.0",
          "state": {
            "_dom_classes": [],
            "_model_module": "@jupyter-widgets/controls",
            "_model_module_version": "1.5.0",
            "_model_name": "HTMLModel",
            "_view_count": null,
            "_view_module": "@jupyter-widgets/controls",
            "_view_module_version": "1.5.0",
            "_view_name": "HTMLView",
            "description": "",
            "description_tooltip": null,
            "layout": "IPY_MODEL_8541e5293cb44075854c5a1db4f820fb",
            "placeholder": "​",
            "style": "IPY_MODEL_a73a420d232c4cd38fcbf8ed65c16681",
            "value": "100%"
          }
        },
        "da088f8fc48344d89de0978adb74fa0c": {
          "model_module": "@jupyter-widgets/controls",
          "model_name": "FloatProgressModel",
          "model_module_version": "1.5.0",
          "state": {
            "_dom_classes": [],
            "_model_module": "@jupyter-widgets/controls",
            "_model_module_version": "1.5.0",
            "_model_name": "FloatProgressModel",
            "_view_count": null,
            "_view_module": "@jupyter-widgets/controls",
            "_view_module_version": "1.5.0",
            "_view_name": "ProgressView",
            "bar_style": "success",
            "description": "",
            "description_tooltip": null,
            "layout": "IPY_MODEL_ae56fe899d0f4c62ab02a222afda2977",
            "max": 1000,
            "min": 0,
            "orientation": "horizontal",
            "style": "IPY_MODEL_ab60590e7f4f47f7b6f43fe021fc5911",
            "value": 1000
          }
        },
        "cef67b3495a84c30b4bd2e84052e599c": {
          "model_module": "@jupyter-widgets/controls",
          "model_name": "HTMLModel",
          "model_module_version": "1.5.0",
          "state": {
            "_dom_classes": [],
            "_model_module": "@jupyter-widgets/controls",
            "_model_module_version": "1.5.0",
            "_model_name": "HTMLModel",
            "_view_count": null,
            "_view_module": "@jupyter-widgets/controls",
            "_view_module_version": "1.5.0",
            "_view_name": "HTMLView",
            "description": "",
            "description_tooltip": null,
            "layout": "IPY_MODEL_5e7965b3e55b480b8908f90f1b023dc7",
            "placeholder": "​",
            "style": "IPY_MODEL_dbf7c1d29bf242e5ae650ba747449f44",
            "value": " 1000/1000 [2:07:48&lt;00:00,  7.30s/it]"
          }
        },
        "d1ee8b38f5624190b002b08ef8c9eaf9": {
          "model_module": "@jupyter-widgets/base",
          "model_name": "LayoutModel",
          "model_module_version": "1.2.0",
          "state": {
            "_model_module": "@jupyter-widgets/base",
            "_model_module_version": "1.2.0",
            "_model_name": "LayoutModel",
            "_view_count": null,
            "_view_module": "@jupyter-widgets/base",
            "_view_module_version": "1.2.0",
            "_view_name": "LayoutView",
            "align_content": null,
            "align_items": null,
            "align_self": null,
            "border": null,
            "bottom": null,
            "display": null,
            "flex": null,
            "flex_flow": null,
            "grid_area": null,
            "grid_auto_columns": null,
            "grid_auto_flow": null,
            "grid_auto_rows": null,
            "grid_column": null,
            "grid_gap": null,
            "grid_row": null,
            "grid_template_areas": null,
            "grid_template_columns": null,
            "grid_template_rows": null,
            "height": null,
            "justify_content": null,
            "justify_items": null,
            "left": null,
            "margin": null,
            "max_height": null,
            "max_width": null,
            "min_height": null,
            "min_width": null,
            "object_fit": null,
            "object_position": null,
            "order": null,
            "overflow": null,
            "overflow_x": null,
            "overflow_y": null,
            "padding": null,
            "right": null,
            "top": null,
            "visibility": null,
            "width": null
          }
        },
        "8541e5293cb44075854c5a1db4f820fb": {
          "model_module": "@jupyter-widgets/base",
          "model_name": "LayoutModel",
          "model_module_version": "1.2.0",
          "state": {
            "_model_module": "@jupyter-widgets/base",
            "_model_module_version": "1.2.0",
            "_model_name": "LayoutModel",
            "_view_count": null,
            "_view_module": "@jupyter-widgets/base",
            "_view_module_version": "1.2.0",
            "_view_name": "LayoutView",
            "align_content": null,
            "align_items": null,
            "align_self": null,
            "border": null,
            "bottom": null,
            "display": null,
            "flex": null,
            "flex_flow": null,
            "grid_area": null,
            "grid_auto_columns": null,
            "grid_auto_flow": null,
            "grid_auto_rows": null,
            "grid_column": null,
            "grid_gap": null,
            "grid_row": null,
            "grid_template_areas": null,
            "grid_template_columns": null,
            "grid_template_rows": null,
            "height": null,
            "justify_content": null,
            "justify_items": null,
            "left": null,
            "margin": null,
            "max_height": null,
            "max_width": null,
            "min_height": null,
            "min_width": null,
            "object_fit": null,
            "object_position": null,
            "order": null,
            "overflow": null,
            "overflow_x": null,
            "overflow_y": null,
            "padding": null,
            "right": null,
            "top": null,
            "visibility": null,
            "width": null
          }
        },
        "a73a420d232c4cd38fcbf8ed65c16681": {
          "model_module": "@jupyter-widgets/controls",
          "model_name": "DescriptionStyleModel",
          "model_module_version": "1.5.0",
          "state": {
            "_model_module": "@jupyter-widgets/controls",
            "_model_module_version": "1.5.0",
            "_model_name": "DescriptionStyleModel",
            "_view_count": null,
            "_view_module": "@jupyter-widgets/base",
            "_view_module_version": "1.2.0",
            "_view_name": "StyleView",
            "description_width": ""
          }
        },
        "ae56fe899d0f4c62ab02a222afda2977": {
          "model_module": "@jupyter-widgets/base",
          "model_name": "LayoutModel",
          "model_module_version": "1.2.0",
          "state": {
            "_model_module": "@jupyter-widgets/base",
            "_model_module_version": "1.2.0",
            "_model_name": "LayoutModel",
            "_view_count": null,
            "_view_module": "@jupyter-widgets/base",
            "_view_module_version": "1.2.0",
            "_view_name": "LayoutView",
            "align_content": null,
            "align_items": null,
            "align_self": null,
            "border": null,
            "bottom": null,
            "display": null,
            "flex": null,
            "flex_flow": null,
            "grid_area": null,
            "grid_auto_columns": null,
            "grid_auto_flow": null,
            "grid_auto_rows": null,
            "grid_column": null,
            "grid_gap": null,
            "grid_row": null,
            "grid_template_areas": null,
            "grid_template_columns": null,
            "grid_template_rows": null,
            "height": null,
            "justify_content": null,
            "justify_items": null,
            "left": null,
            "margin": null,
            "max_height": null,
            "max_width": null,
            "min_height": null,
            "min_width": null,
            "object_fit": null,
            "object_position": null,
            "order": null,
            "overflow": null,
            "overflow_x": null,
            "overflow_y": null,
            "padding": null,
            "right": null,
            "top": null,
            "visibility": null,
            "width": null
          }
        },
        "ab60590e7f4f47f7b6f43fe021fc5911": {
          "model_module": "@jupyter-widgets/controls",
          "model_name": "ProgressStyleModel",
          "model_module_version": "1.5.0",
          "state": {
            "_model_module": "@jupyter-widgets/controls",
            "_model_module_version": "1.5.0",
            "_model_name": "ProgressStyleModel",
            "_view_count": null,
            "_view_module": "@jupyter-widgets/base",
            "_view_module_version": "1.2.0",
            "_view_name": "StyleView",
            "bar_color": null,
            "description_width": ""
          }
        },
        "5e7965b3e55b480b8908f90f1b023dc7": {
          "model_module": "@jupyter-widgets/base",
          "model_name": "LayoutModel",
          "model_module_version": "1.2.0",
          "state": {
            "_model_module": "@jupyter-widgets/base",
            "_model_module_version": "1.2.0",
            "_model_name": "LayoutModel",
            "_view_count": null,
            "_view_module": "@jupyter-widgets/base",
            "_view_module_version": "1.2.0",
            "_view_name": "LayoutView",
            "align_content": null,
            "align_items": null,
            "align_self": null,
            "border": null,
            "bottom": null,
            "display": null,
            "flex": null,
            "flex_flow": null,
            "grid_area": null,
            "grid_auto_columns": null,
            "grid_auto_flow": null,
            "grid_auto_rows": null,
            "grid_column": null,
            "grid_gap": null,
            "grid_row": null,
            "grid_template_areas": null,
            "grid_template_columns": null,
            "grid_template_rows": null,
            "height": null,
            "justify_content": null,
            "justify_items": null,
            "left": null,
            "margin": null,
            "max_height": null,
            "max_width": null,
            "min_height": null,
            "min_width": null,
            "object_fit": null,
            "object_position": null,
            "order": null,
            "overflow": null,
            "overflow_x": null,
            "overflow_y": null,
            "padding": null,
            "right": null,
            "top": null,
            "visibility": null,
            "width": null
          }
        },
        "dbf7c1d29bf242e5ae650ba747449f44": {
          "model_module": "@jupyter-widgets/controls",
          "model_name": "DescriptionStyleModel",
          "model_module_version": "1.5.0",
          "state": {
            "_model_module": "@jupyter-widgets/controls",
            "_model_module_version": "1.5.0",
            "_model_name": "DescriptionStyleModel",
            "_view_count": null,
            "_view_module": "@jupyter-widgets/base",
            "_view_module_version": "1.2.0",
            "_view_name": "StyleView",
            "description_width": ""
          }
        }
      }
    }
  },
  "cells": [
    {
      "cell_type": "markdown",
      "metadata": {
        "id": "view-in-github",
        "colab_type": "text"
      },
      "source": [
        "<a href=\"https://colab.research.google.com/github/BeforeTheStorm202/DACN/blob/main/InSDN_hsj_MLP_SHAP_detection.ipynb\" target=\"_parent\"><img src=\"https://colab.research.google.com/assets/colab-badge.svg\" alt=\"Open In Colab\"/></a>"
      ]
    },
    {
      "cell_type": "markdown",
      "source": [
        "# Import"
      ],
      "metadata": {
        "id": "O0lPv_8LykMw"
      }
    },
    {
      "cell_type": "code",
      "source": [
        "from google.colab import drive\n",
        "drive.mount('/content/drive', force_remount=True)"
      ],
      "metadata": {
        "colab": {
          "base_uri": "https://localhost:8080/"
        },
        "id": "8efEEenXOnJi",
        "outputId": "08320a85-467c-4e5c-8cc1-11cdd2eadbf7"
      },
      "execution_count": null,
      "outputs": [
        {
          "output_type": "stream",
          "name": "stdout",
          "text": [
            "Mounted at /content/drive\n"
          ]
        }
      ]
    },
    {
      "cell_type": "code",
      "source": [
        "import warnings\n",
        "warnings.filterwarnings('ignore')"
      ],
      "metadata": {
        "id": "No3-0KGj_Kic"
      },
      "execution_count": 1,
      "outputs": []
    },
    {
      "cell_type": "code",
      "execution_count": 2,
      "metadata": {
        "id": "bBcPmYOsyREp",
        "colab": {
          "base_uri": "https://localhost:8080/"
        },
        "outputId": "f1e47155-86e3-4ced-87a1-47d1ab2248bb"
      },
      "outputs": [
        {
          "output_type": "stream",
          "name": "stdout",
          "text": [
            "Collecting shap\n",
            "  Downloading shap-0.41.0-cp310-cp310-manylinux_2_12_x86_64.manylinux2010_x86_64.whl (572 kB)\n",
            "\u001b[?25l     \u001b[90m━━━━━━━━━━━━━━━━━━━━━━━━━━━━━━━━━━━━━━━━\u001b[0m \u001b[32m0.0/572.6 kB\u001b[0m \u001b[31m?\u001b[0m eta \u001b[36m-:--:--\u001b[0m\r\u001b[2K     \u001b[91m━━━━━━━━━━━━━━━━━━━━\u001b[0m\u001b[91m╸\u001b[0m\u001b[90m━━━━━━━━━━━━━━━━━━\u001b[0m \u001b[32m307.2/572.6 kB\u001b[0m \u001b[31m9.2 MB/s\u001b[0m eta \u001b[36m0:00:01\u001b[0m\r\u001b[2K     \u001b[90m━━━━━━━━━━━━━━━━━━━━━━━━━━━━━━━━━━━━━━\u001b[0m \u001b[32m572.6/572.6 kB\u001b[0m \u001b[31m10.2 MB/s\u001b[0m eta \u001b[36m0:00:00\u001b[0m\n",
            "\u001b[?25hRequirement already satisfied: numpy in /usr/local/lib/python3.10/dist-packages (from shap) (1.22.4)\n",
            "Requirement already satisfied: scipy in /usr/local/lib/python3.10/dist-packages (from shap) (1.10.1)\n",
            "Requirement already satisfied: scikit-learn in /usr/local/lib/python3.10/dist-packages (from shap) (1.2.2)\n",
            "Requirement already satisfied: pandas in /usr/local/lib/python3.10/dist-packages (from shap) (1.5.3)\n",
            "Requirement already satisfied: tqdm>4.25.0 in /usr/local/lib/python3.10/dist-packages (from shap) (4.65.0)\n",
            "Requirement already satisfied: packaging>20.9 in /usr/local/lib/python3.10/dist-packages (from shap) (23.1)\n",
            "Collecting slicer==0.0.7 (from shap)\n",
            "  Downloading slicer-0.0.7-py3-none-any.whl (14 kB)\n",
            "Requirement already satisfied: numba in /usr/local/lib/python3.10/dist-packages (from shap) (0.56.4)\n",
            "Requirement already satisfied: cloudpickle in /usr/local/lib/python3.10/dist-packages (from shap) (2.2.1)\n",
            "Requirement already satisfied: llvmlite<0.40,>=0.39.0dev0 in /usr/local/lib/python3.10/dist-packages (from numba->shap) (0.39.1)\n",
            "Requirement already satisfied: setuptools in /usr/local/lib/python3.10/dist-packages (from numba->shap) (67.7.2)\n",
            "Requirement already satisfied: python-dateutil>=2.8.1 in /usr/local/lib/python3.10/dist-packages (from pandas->shap) (2.8.2)\n",
            "Requirement already satisfied: pytz>=2020.1 in /usr/local/lib/python3.10/dist-packages (from pandas->shap) (2022.7.1)\n",
            "Requirement already satisfied: joblib>=1.1.1 in /usr/local/lib/python3.10/dist-packages (from scikit-learn->shap) (1.2.0)\n",
            "Requirement already satisfied: threadpoolctl>=2.0.0 in /usr/local/lib/python3.10/dist-packages (from scikit-learn->shap) (3.1.0)\n",
            "Requirement already satisfied: six>=1.5 in /usr/local/lib/python3.10/dist-packages (from python-dateutil>=2.8.1->pandas->shap) (1.16.0)\n",
            "Installing collected packages: slicer, shap\n",
            "Successfully installed shap-0.41.0 slicer-0.0.7\n"
          ]
        }
      ],
      "source": [
        "!pip install shap"
      ]
    },
    {
      "cell_type": "code",
      "source": [
        "import shap\n",
        "import pandas as pd\n",
        "import tensorflow as tf\n",
        "from tensorflow import keras"
      ],
      "metadata": {
        "id": "yisYwS6Mymik"
      },
      "execution_count": 3,
      "outputs": []
    },
    {
      "cell_type": "markdown",
      "source": [
        "# Load trainset"
      ],
      "metadata": {
        "id": "Bz9tx1gdBGK4"
      }
    },
    {
      "cell_type": "code",
      "source": [
        "df = pd.read_csv('/content/drive/MyDrive/DACN_XAI_Adv_defense/Dataset/insdn/multi/train.csv')\n",
        "df.info()"
      ],
      "metadata": {
        "colab": {
          "base_uri": "https://localhost:8080/"
        },
        "id": "joOnVrMbBIgT",
        "outputId": "08c29238-a7de-4f9d-b3fc-6e97bc75eaeb"
      },
      "execution_count": 4,
      "outputs": [
        {
          "output_type": "stream",
          "name": "stdout",
          "text": [
            "<class 'pandas.core.frame.DataFrame'>\n",
            "RangeIndex: 385156 entries, 0 to 385155\n",
            "Data columns (total 77 columns):\n",
            " #   Column             Non-Null Count   Dtype  \n",
            "---  ------             --------------   -----  \n",
            " 0   Flow Duration      385156 non-null  float64\n",
            " 1   Tot Fwd Pkts       385156 non-null  float64\n",
            " 2   Tot Bwd Pkts       385156 non-null  float64\n",
            " 3   TotLen Fwd Pkts    385156 non-null  float64\n",
            " 4   TotLen Bwd Pkts    385156 non-null  float64\n",
            " 5   Fwd Pkt Len Max    385156 non-null  float64\n",
            " 6   Fwd Pkt Len Min    385156 non-null  float64\n",
            " 7   Fwd Pkt Len Mean   385156 non-null  float64\n",
            " 8   Fwd Pkt Len Std    385156 non-null  float64\n",
            " 9   Bwd Pkt Len Max    385156 non-null  float64\n",
            " 10  Bwd Pkt Len Min    385156 non-null  float64\n",
            " 11  Bwd Pkt Len Mean   385156 non-null  float64\n",
            " 12  Bwd Pkt Len Std    385156 non-null  float64\n",
            " 13  Flow Byts/s        385156 non-null  float64\n",
            " 14  Flow Pkts/s        385156 non-null  float64\n",
            " 15  Flow IAT Mean      385156 non-null  float64\n",
            " 16  Flow IAT Std       385156 non-null  float64\n",
            " 17  Flow IAT Max       385156 non-null  float64\n",
            " 18  Flow IAT Min       385156 non-null  float64\n",
            " 19  Fwd IAT Tot        385156 non-null  float64\n",
            " 20  Fwd IAT Mean       385156 non-null  float64\n",
            " 21  Fwd IAT Std        385156 non-null  float64\n",
            " 22  Fwd IAT Max        385156 non-null  float64\n",
            " 23  Fwd IAT Min        385156 non-null  float64\n",
            " 24  Bwd IAT Tot        385156 non-null  float64\n",
            " 25  Bwd IAT Mean       385156 non-null  float64\n",
            " 26  Bwd IAT Std        385156 non-null  float64\n",
            " 27  Bwd IAT Max        385156 non-null  float64\n",
            " 28  Bwd IAT Min        385156 non-null  float64\n",
            " 29  Fwd PSH Flags      385156 non-null  float64\n",
            " 30  Bwd PSH Flags      385156 non-null  float64\n",
            " 31  Fwd URG Flags      385156 non-null  float64\n",
            " 32  Bwd URG Flags      385156 non-null  float64\n",
            " 33  Fwd Header Len     385156 non-null  float64\n",
            " 34  Bwd Header Len     385156 non-null  float64\n",
            " 35  Fwd Pkts/s         385156 non-null  float64\n",
            " 36  Bwd Pkts/s         385156 non-null  float64\n",
            " 37  Pkt Len Min        385156 non-null  float64\n",
            " 38  Pkt Len Max        385156 non-null  float64\n",
            " 39  Pkt Len Mean       385156 non-null  float64\n",
            " 40  Pkt Len Std        385156 non-null  float64\n",
            " 41  Pkt Len Var        385156 non-null  float64\n",
            " 42  FIN Flag Cnt       385156 non-null  float64\n",
            " 43  SYN Flag Cnt       385156 non-null  float64\n",
            " 44  RST Flag Cnt       385156 non-null  float64\n",
            " 45  PSH Flag Cnt       385156 non-null  float64\n",
            " 46  ACK Flag Cnt       385156 non-null  float64\n",
            " 47  URG Flag Cnt       385156 non-null  float64\n",
            " 48  CWE Flag Count     385156 non-null  float64\n",
            " 49  ECE Flag Cnt       385156 non-null  float64\n",
            " 50  Down/Up Ratio      385156 non-null  float64\n",
            " 51  Pkt Size Avg       385156 non-null  float64\n",
            " 52  Fwd Seg Size Avg   385156 non-null  float64\n",
            " 53  Bwd Seg Size Avg   385156 non-null  float64\n",
            " 54  Fwd Byts/b Avg     385156 non-null  float64\n",
            " 55  Fwd Pkts/b Avg     385156 non-null  float64\n",
            " 56  Fwd Blk Rate Avg   385156 non-null  float64\n",
            " 57  Bwd Byts/b Avg     385156 non-null  float64\n",
            " 58  Bwd Pkts/b Avg     385156 non-null  float64\n",
            " 59  Bwd Blk Rate Avg   385156 non-null  float64\n",
            " 60  Subflow Fwd Pkts   385156 non-null  float64\n",
            " 61  Subflow Fwd Byts   385156 non-null  float64\n",
            " 62  Subflow Bwd Pkts   385156 non-null  float64\n",
            " 63  Subflow Bwd Byts   385156 non-null  float64\n",
            " 64  Init Fwd Win Byts  385156 non-null  float64\n",
            " 65  Init Bwd Win Byts  385156 non-null  float64\n",
            " 66  Fwd Act Data Pkts  385156 non-null  float64\n",
            " 67  Fwd Seg Size Min   385156 non-null  float64\n",
            " 68  Active Mean        385156 non-null  float64\n",
            " 69  Active Std         385156 non-null  float64\n",
            " 70  Active Max         385156 non-null  float64\n",
            " 71  Active Min         385156 non-null  float64\n",
            " 72  Idle Mean          385156 non-null  float64\n",
            " 73  Idle Std           385156 non-null  float64\n",
            " 74  Idle Max           385156 non-null  float64\n",
            " 75  Idle Min           385156 non-null  float64\n",
            " 76  Label              385156 non-null  int64  \n",
            "dtypes: float64(76), int64(1)\n",
            "memory usage: 226.3 MB\n"
          ]
        }
      ]
    },
    {
      "cell_type": "code",
      "source": [
        "df = df.drop(columns=['Label'])\n",
        "df.info()"
      ],
      "metadata": {
        "colab": {
          "base_uri": "https://localhost:8080/"
        },
        "id": "mYgl1-XQBYwR",
        "outputId": "21466dac-1edf-4a1c-8d6a-ab42364609fa"
      },
      "execution_count": 5,
      "outputs": [
        {
          "output_type": "stream",
          "name": "stdout",
          "text": [
            "<class 'pandas.core.frame.DataFrame'>\n",
            "RangeIndex: 385156 entries, 0 to 385155\n",
            "Data columns (total 76 columns):\n",
            " #   Column             Non-Null Count   Dtype  \n",
            "---  ------             --------------   -----  \n",
            " 0   Flow Duration      385156 non-null  float64\n",
            " 1   Tot Fwd Pkts       385156 non-null  float64\n",
            " 2   Tot Bwd Pkts       385156 non-null  float64\n",
            " 3   TotLen Fwd Pkts    385156 non-null  float64\n",
            " 4   TotLen Bwd Pkts    385156 non-null  float64\n",
            " 5   Fwd Pkt Len Max    385156 non-null  float64\n",
            " 6   Fwd Pkt Len Min    385156 non-null  float64\n",
            " 7   Fwd Pkt Len Mean   385156 non-null  float64\n",
            " 8   Fwd Pkt Len Std    385156 non-null  float64\n",
            " 9   Bwd Pkt Len Max    385156 non-null  float64\n",
            " 10  Bwd Pkt Len Min    385156 non-null  float64\n",
            " 11  Bwd Pkt Len Mean   385156 non-null  float64\n",
            " 12  Bwd Pkt Len Std    385156 non-null  float64\n",
            " 13  Flow Byts/s        385156 non-null  float64\n",
            " 14  Flow Pkts/s        385156 non-null  float64\n",
            " 15  Flow IAT Mean      385156 non-null  float64\n",
            " 16  Flow IAT Std       385156 non-null  float64\n",
            " 17  Flow IAT Max       385156 non-null  float64\n",
            " 18  Flow IAT Min       385156 non-null  float64\n",
            " 19  Fwd IAT Tot        385156 non-null  float64\n",
            " 20  Fwd IAT Mean       385156 non-null  float64\n",
            " 21  Fwd IAT Std        385156 non-null  float64\n",
            " 22  Fwd IAT Max        385156 non-null  float64\n",
            " 23  Fwd IAT Min        385156 non-null  float64\n",
            " 24  Bwd IAT Tot        385156 non-null  float64\n",
            " 25  Bwd IAT Mean       385156 non-null  float64\n",
            " 26  Bwd IAT Std        385156 non-null  float64\n",
            " 27  Bwd IAT Max        385156 non-null  float64\n",
            " 28  Bwd IAT Min        385156 non-null  float64\n",
            " 29  Fwd PSH Flags      385156 non-null  float64\n",
            " 30  Bwd PSH Flags      385156 non-null  float64\n",
            " 31  Fwd URG Flags      385156 non-null  float64\n",
            " 32  Bwd URG Flags      385156 non-null  float64\n",
            " 33  Fwd Header Len     385156 non-null  float64\n",
            " 34  Bwd Header Len     385156 non-null  float64\n",
            " 35  Fwd Pkts/s         385156 non-null  float64\n",
            " 36  Bwd Pkts/s         385156 non-null  float64\n",
            " 37  Pkt Len Min        385156 non-null  float64\n",
            " 38  Pkt Len Max        385156 non-null  float64\n",
            " 39  Pkt Len Mean       385156 non-null  float64\n",
            " 40  Pkt Len Std        385156 non-null  float64\n",
            " 41  Pkt Len Var        385156 non-null  float64\n",
            " 42  FIN Flag Cnt       385156 non-null  float64\n",
            " 43  SYN Flag Cnt       385156 non-null  float64\n",
            " 44  RST Flag Cnt       385156 non-null  float64\n",
            " 45  PSH Flag Cnt       385156 non-null  float64\n",
            " 46  ACK Flag Cnt       385156 non-null  float64\n",
            " 47  URG Flag Cnt       385156 non-null  float64\n",
            " 48  CWE Flag Count     385156 non-null  float64\n",
            " 49  ECE Flag Cnt       385156 non-null  float64\n",
            " 50  Down/Up Ratio      385156 non-null  float64\n",
            " 51  Pkt Size Avg       385156 non-null  float64\n",
            " 52  Fwd Seg Size Avg   385156 non-null  float64\n",
            " 53  Bwd Seg Size Avg   385156 non-null  float64\n",
            " 54  Fwd Byts/b Avg     385156 non-null  float64\n",
            " 55  Fwd Pkts/b Avg     385156 non-null  float64\n",
            " 56  Fwd Blk Rate Avg   385156 non-null  float64\n",
            " 57  Bwd Byts/b Avg     385156 non-null  float64\n",
            " 58  Bwd Pkts/b Avg     385156 non-null  float64\n",
            " 59  Bwd Blk Rate Avg   385156 non-null  float64\n",
            " 60  Subflow Fwd Pkts   385156 non-null  float64\n",
            " 61  Subflow Fwd Byts   385156 non-null  float64\n",
            " 62  Subflow Bwd Pkts   385156 non-null  float64\n",
            " 63  Subflow Bwd Byts   385156 non-null  float64\n",
            " 64  Init Fwd Win Byts  385156 non-null  float64\n",
            " 65  Init Bwd Win Byts  385156 non-null  float64\n",
            " 66  Fwd Act Data Pkts  385156 non-null  float64\n",
            " 67  Fwd Seg Size Min   385156 non-null  float64\n",
            " 68  Active Mean        385156 non-null  float64\n",
            " 69  Active Std         385156 non-null  float64\n",
            " 70  Active Max         385156 non-null  float64\n",
            " 71  Active Min         385156 non-null  float64\n",
            " 72  Idle Mean          385156 non-null  float64\n",
            " 73  Idle Std           385156 non-null  float64\n",
            " 74  Idle Max           385156 non-null  float64\n",
            " 75  Idle Min           385156 non-null  float64\n",
            "dtypes: float64(76)\n",
            "memory usage: 223.3 MB\n"
          ]
        }
      ]
    },
    {
      "cell_type": "markdown",
      "source": [
        "# Load adv samples"
      ],
      "metadata": {
        "id": "kFirQ2Tyz28E"
      }
    },
    {
      "cell_type": "code",
      "source": [
        "feature_list = ['Flow Duration', 'Tot Fwd Pkts', 'Tot Bwd Pkts', 'TotLen Fwd Pkts',\n",
        "       'TotLen Bwd Pkts', 'Fwd Pkt Len Max', 'Fwd Pkt Len Min',\n",
        "       'Fwd Pkt Len Mean', 'Fwd Pkt Len Std', 'Bwd Pkt Len Max',\n",
        "       'Bwd Pkt Len Min', 'Bwd Pkt Len Mean', 'Bwd Pkt Len Std', 'Flow Byts/s',\n",
        "       'Flow Pkts/s', 'Flow IAT Mean', 'Flow IAT Std', 'Flow IAT Max',\n",
        "       'Flow IAT Min', 'Fwd IAT Tot', 'Fwd IAT Mean', 'Fwd IAT Std',\n",
        "       'Fwd IAT Max', 'Fwd IAT Min', 'Bwd IAT Tot', 'Bwd IAT Mean',\n",
        "       'Bwd IAT Std', 'Bwd IAT Max', 'Bwd IAT Min', 'Fwd PSH Flags',\n",
        "       'Bwd PSH Flags', 'Fwd URG Flags', 'Bwd URG Flags', 'Fwd Header Len',\n",
        "       'Bwd Header Len', 'Fwd Pkts/s', 'Bwd Pkts/s', 'Pkt Len Min',\n",
        "       'Pkt Len Max', 'Pkt Len Mean', 'Pkt Len Std', 'Pkt Len Var',\n",
        "       'FIN Flag Cnt', 'SYN Flag Cnt', 'RST Flag Cnt', 'PSH Flag Cnt',\n",
        "       'ACK Flag Cnt', 'URG Flag Cnt', 'CWE Flag Count', 'ECE Flag Cnt',\n",
        "       'Down/Up Ratio', 'Pkt Size Avg', 'Fwd Seg Size Avg', 'Bwd Seg Size Avg',\n",
        "       'Fwd Byts/b Avg', 'Fwd Pkts/b Avg', 'Fwd Blk Rate Avg',\n",
        "       'Bwd Byts/b Avg', 'Bwd Pkts/b Avg', 'Bwd Blk Rate Avg',\n",
        "       'Subflow Fwd Pkts', 'Subflow Fwd Byts', 'Subflow Bwd Pkts',\n",
        "       'Subflow Bwd Byts', 'Init Fwd Win Byts', 'Init Bwd Win Byts',\n",
        "       'Fwd Act Data Pkts', 'Fwd Seg Size Min', 'Active Mean', 'Active Std',\n",
        "       'Active Max', 'Active Min', 'Idle Mean', 'Idle Std', 'Idle Max',\n",
        "       'Idle Min']"
      ],
      "metadata": {
        "id": "uoVlCtWr1F-F"
      },
      "execution_count": 6,
      "outputs": []
    },
    {
      "cell_type": "code",
      "source": [
        "hsj_path = '/content/drive/MyDrive/DACN_XAI_Adv_defense/Dataset/insdn/adv/hsj/adv_hsj_target.csv'\n",
        "#hsj_label_path = '/content/drive/MyDrive/DACN_XAI_Adv_defense/Dataset/insdn/adv/hsj/adv_hsj_target.csv'"
      ],
      "metadata": {
        "id": "f29J4Es-z5lJ"
      },
      "execution_count": 7,
      "outputs": []
    },
    {
      "cell_type": "code",
      "source": [
        "hsj_df = pd.read_csv(hsj_path)"
      ],
      "metadata": {
        "id": "I8txn6aG0EIJ"
      },
      "execution_count": 8,
      "outputs": []
    },
    {
      "cell_type": "code",
      "source": [
        "hsj_df.columns = feature_list\n",
        "hsj_df.info()"
      ],
      "metadata": {
        "colab": {
          "base_uri": "https://localhost:8080/"
        },
        "id": "dcF6Wl5Y0LY2",
        "outputId": "e10734c3-d6bf-4c21-9594-dbef30344e91"
      },
      "execution_count": 9,
      "outputs": [
        {
          "output_type": "stream",
          "name": "stdout",
          "text": [
            "<class 'pandas.core.frame.DataFrame'>\n",
            "RangeIndex: 77203 entries, 0 to 77202\n",
            "Data columns (total 76 columns):\n",
            " #   Column             Non-Null Count  Dtype  \n",
            "---  ------             --------------  -----  \n",
            " 0   Flow Duration      77203 non-null  float64\n",
            " 1   Tot Fwd Pkts       77203 non-null  float64\n",
            " 2   Tot Bwd Pkts       77203 non-null  float64\n",
            " 3   TotLen Fwd Pkts    77203 non-null  float64\n",
            " 4   TotLen Bwd Pkts    77203 non-null  float64\n",
            " 5   Fwd Pkt Len Max    77203 non-null  float64\n",
            " 6   Fwd Pkt Len Min    77203 non-null  float64\n",
            " 7   Fwd Pkt Len Mean   77203 non-null  float64\n",
            " 8   Fwd Pkt Len Std    77203 non-null  float64\n",
            " 9   Bwd Pkt Len Max    77203 non-null  float64\n",
            " 10  Bwd Pkt Len Min    77203 non-null  float64\n",
            " 11  Bwd Pkt Len Mean   77203 non-null  float64\n",
            " 12  Bwd Pkt Len Std    77203 non-null  float64\n",
            " 13  Flow Byts/s        77203 non-null  float64\n",
            " 14  Flow Pkts/s        77203 non-null  float64\n",
            " 15  Flow IAT Mean      77203 non-null  float64\n",
            " 16  Flow IAT Std       77203 non-null  float64\n",
            " 17  Flow IAT Max       77203 non-null  float64\n",
            " 18  Flow IAT Min       77203 non-null  float64\n",
            " 19  Fwd IAT Tot        77203 non-null  float64\n",
            " 20  Fwd IAT Mean       77203 non-null  float64\n",
            " 21  Fwd IAT Std        77203 non-null  float64\n",
            " 22  Fwd IAT Max        77203 non-null  float64\n",
            " 23  Fwd IAT Min        77203 non-null  float64\n",
            " 24  Bwd IAT Tot        77203 non-null  float64\n",
            " 25  Bwd IAT Mean       77203 non-null  float64\n",
            " 26  Bwd IAT Std        77203 non-null  float64\n",
            " 27  Bwd IAT Max        77203 non-null  float64\n",
            " 28  Bwd IAT Min        77203 non-null  float64\n",
            " 29  Fwd PSH Flags      77203 non-null  float64\n",
            " 30  Bwd PSH Flags      77203 non-null  float64\n",
            " 31  Fwd URG Flags      77203 non-null  float64\n",
            " 32  Bwd URG Flags      77203 non-null  float64\n",
            " 33  Fwd Header Len     77203 non-null  float64\n",
            " 34  Bwd Header Len     77203 non-null  float64\n",
            " 35  Fwd Pkts/s         77203 non-null  float64\n",
            " 36  Bwd Pkts/s         77203 non-null  float64\n",
            " 37  Pkt Len Min        77203 non-null  float64\n",
            " 38  Pkt Len Max        77203 non-null  float64\n",
            " 39  Pkt Len Mean       77203 non-null  float64\n",
            " 40  Pkt Len Std        77203 non-null  float64\n",
            " 41  Pkt Len Var        77203 non-null  float64\n",
            " 42  FIN Flag Cnt       77203 non-null  float64\n",
            " 43  SYN Flag Cnt       77203 non-null  float64\n",
            " 44  RST Flag Cnt       77203 non-null  float64\n",
            " 45  PSH Flag Cnt       77203 non-null  float64\n",
            " 46  ACK Flag Cnt       77203 non-null  float64\n",
            " 47  URG Flag Cnt       77203 non-null  float64\n",
            " 48  CWE Flag Count     77203 non-null  float64\n",
            " 49  ECE Flag Cnt       77203 non-null  float64\n",
            " 50  Down/Up Ratio      77203 non-null  float64\n",
            " 51  Pkt Size Avg       77203 non-null  float64\n",
            " 52  Fwd Seg Size Avg   77203 non-null  float64\n",
            " 53  Bwd Seg Size Avg   77203 non-null  float64\n",
            " 54  Fwd Byts/b Avg     77203 non-null  float64\n",
            " 55  Fwd Pkts/b Avg     77203 non-null  float64\n",
            " 56  Fwd Blk Rate Avg   77203 non-null  float64\n",
            " 57  Bwd Byts/b Avg     77203 non-null  float64\n",
            " 58  Bwd Pkts/b Avg     77203 non-null  float64\n",
            " 59  Bwd Blk Rate Avg   77203 non-null  float64\n",
            " 60  Subflow Fwd Pkts   77203 non-null  float64\n",
            " 61  Subflow Fwd Byts   77203 non-null  float64\n",
            " 62  Subflow Bwd Pkts   77203 non-null  float64\n",
            " 63  Subflow Bwd Byts   77203 non-null  float64\n",
            " 64  Init Fwd Win Byts  77203 non-null  float64\n",
            " 65  Init Bwd Win Byts  77203 non-null  float64\n",
            " 66  Fwd Act Data Pkts  77203 non-null  float64\n",
            " 67  Fwd Seg Size Min   77203 non-null  float64\n",
            " 68  Active Mean        77203 non-null  float64\n",
            " 69  Active Std         77203 non-null  float64\n",
            " 70  Active Max         77203 non-null  float64\n",
            " 71  Active Min         77203 non-null  float64\n",
            " 72  Idle Mean          77203 non-null  float64\n",
            " 73  Idle Std           77203 non-null  float64\n",
            " 74  Idle Max           77203 non-null  float64\n",
            " 75  Idle Min           77203 non-null  float64\n",
            "dtypes: float64(76)\n",
            "memory usage: 44.8 MB\n"
          ]
        }
      ]
    },
    {
      "cell_type": "code",
      "source": [
        "#hsj_label = pd.read_csv(hsj_label_path)\n",
        "#hsj_label.info()"
      ],
      "metadata": {
        "id": "PVO-9Dh_1C5T"
      },
      "execution_count": null,
      "outputs": []
    },
    {
      "cell_type": "markdown",
      "source": [
        "# Load DL-based IDS model"
      ],
      "metadata": {
        "id": "g33N-zPby6kB"
      }
    },
    {
      "cell_type": "code",
      "source": [
        "model_mlp = tf.keras.models.load_model('/content/drive/MyDrive/DACN_XAI_Adv_defense/Dataset/insdn/insdn_mlp_multi.h5', compile=True)"
      ],
      "metadata": {
        "id": "ZWIDESvCy2b5"
      },
      "execution_count": 11,
      "outputs": []
    },
    {
      "cell_type": "markdown",
      "source": [
        "# SHAP"
      ],
      "metadata": {
        "id": "RFRvMWrd4QoD"
      }
    },
    {
      "cell_type": "code",
      "source": [
        "explainer = shap.KernelExplainer(model_mlp, shap.sample(df, 100))"
      ],
      "metadata": {
        "id": "4505XjQu4K_g"
      },
      "execution_count": 13,
      "outputs": []
    },
    {
      "cell_type": "code",
      "source": [
        "hsj_1000 = hsj_df.head(1000)"
      ],
      "metadata": {
        "id": "biTLBwQsdMKd"
      },
      "execution_count": 32,
      "outputs": []
    },
    {
      "cell_type": "code",
      "source": [
        "shap_values = explainer.shap_values(hsj_1000)"
      ],
      "metadata": {
        "id": "2kwEY6jC4Z-l",
        "colab": {
          "base_uri": "https://localhost:8080/",
          "height": 49,
          "referenced_widgets": [
            "8278bd367c764677b696c5576b052f72",
            "3d2a4c2caa794f938f3a22c9993c0dcd",
            "da088f8fc48344d89de0978adb74fa0c",
            "cef67b3495a84c30b4bd2e84052e599c",
            "d1ee8b38f5624190b002b08ef8c9eaf9",
            "8541e5293cb44075854c5a1db4f820fb",
            "a73a420d232c4cd38fcbf8ed65c16681",
            "ae56fe899d0f4c62ab02a222afda2977",
            "ab60590e7f4f47f7b6f43fe021fc5911",
            "5e7965b3e55b480b8908f90f1b023dc7",
            "dbf7c1d29bf242e5ae650ba747449f44"
          ]
        },
        "outputId": "11180729-a13e-4ccd-deb4-5808f56bad32"
      },
      "execution_count": 33,
      "outputs": [
        {
          "output_type": "display_data",
          "data": {
            "text/plain": [
              "  0%|          | 0/1000 [00:00<?, ?it/s]"
            ],
            "application/vnd.jupyter.widget-view+json": {
              "version_major": 2,
              "version_minor": 0,
              "model_id": "8278bd367c764677b696c5576b052f72"
            }
          },
          "metadata": {}
        }
      ]
    },
    {
      "cell_type": "code",
      "source": [
        "print(shap_values[0])"
      ],
      "metadata": {
        "colab": {
          "base_uri": "https://localhost:8080/"
        },
        "id": "gHb6Mmvi47qA",
        "outputId": "998418c9-7b08-4fa6-bac9-90bab249317d"
      },
      "execution_count": 34,
      "outputs": [
        {
          "output_type": "stream",
          "name": "stdout",
          "text": [
            "[[ 0.          0.00371355  0.02583556 ... -0.02226725  0.01943251\n",
            "   0.00468528]\n",
            " [ 0.          0.00382709  0.03309501 ...  0.          0.\n",
            "  -0.02040464]\n",
            " [-0.06580376 -0.01609701  0.07522759 ...  0.01527657 -0.15340129\n",
            "  -0.10001612]\n",
            " ...\n",
            " [ 0.         -0.02564431  0.04212916 ...  0.02594601  0.00581202\n",
            "   0.03562748]\n",
            " [ 0.         -0.00733388  0.         ...  0.          0.00426713\n",
            "   0.        ]\n",
            " [ 0.01304496  0.015048    0.0311654  ... -0.01907463 -0.0069883\n",
            "  -0.00752316]]\n"
          ]
        }
      ]
    },
    {
      "cell_type": "code",
      "source": [
        "type(shap_values[0])"
      ],
      "metadata": {
        "colab": {
          "base_uri": "https://localhost:8080/"
        },
        "id": "eM8brh0aAvkW",
        "outputId": "a39ae22a-1776-4904-c126-55b4b3d12bc0"
      },
      "execution_count": 36,
      "outputs": [
        {
          "output_type": "execute_result",
          "data": {
            "text/plain": [
              "numpy.ndarray"
            ]
          },
          "metadata": {},
          "execution_count": 36
        }
      ]
    },
    {
      "cell_type": "code",
      "source": [
        "data_df = pd.DataFrame(shap_values[0])"
      ],
      "metadata": {
        "id": "48h2syinBBb8"
      },
      "execution_count": 57,
      "outputs": []
    },
    {
      "cell_type": "code",
      "source": [
        "data_df.head()"
      ],
      "metadata": {
        "colab": {
          "base_uri": "https://localhost:8080/",
          "height": 299
        },
        "id": "GaPyNdSzBLa5",
        "outputId": "6f3b23ec-a4a1-4f22-be08-1497446985d0"
      },
      "execution_count": 60,
      "outputs": [
        {
          "output_type": "execute_result",
          "data": {
            "text/plain": [
              "         0         1         2         3         4         5         6   \\\n",
              "0  0.000000  0.003714  0.025836  0.000000  0.025130  0.068690  0.000000   \n",
              "1  0.000000  0.003827  0.033095  0.000000  0.000000  0.072428  0.015280   \n",
              "2 -0.065804 -0.016097  0.075228  0.000000  0.005063  0.177326  0.025644   \n",
              "3  0.000000  0.033557  0.014961 -0.011775 -0.009682  0.286565  0.023302   \n",
              "4 -0.071150  0.013547  0.008769 -0.006781 -0.004302  0.309107  0.040704   \n",
              "\n",
              "         7         8         9   ...        66        67        68        69  \\\n",
              "0  0.020516  0.040778  0.000000  ...  0.004535  0.000000  0.008135  0.000000   \n",
              "1  0.075210  0.035304  0.016528  ...  0.000000  0.011992  0.000000  0.018308   \n",
              "2  0.107967  0.357114 -0.009148  ...  0.002266  0.008741  0.008404 -0.016454   \n",
              "3  0.150747  0.150969  0.013302  ...  0.049484  0.000000  0.000000  0.011590   \n",
              "4  0.127528  0.215590  0.002360  ...  0.031409  0.000000  0.004243 -0.008165   \n",
              "\n",
              "         70        71        72        73        74        75  \n",
              "0  0.000000  0.003866  0.018963 -0.022267  0.019433  0.004685  \n",
              "1  0.000000 -0.020093 -0.026236  0.000000  0.000000 -0.020405  \n",
              "2  0.000000  0.012872 -0.055721  0.015277 -0.153401 -0.100016  \n",
              "3 -0.013484  0.000000  0.005107  0.000000  0.000000  0.013351  \n",
              "4  0.022555  0.018825 -0.059504  0.004437 -0.130826 -0.054179  \n",
              "\n",
              "[5 rows x 76 columns]"
            ],
            "text/html": [
              "\n",
              "  <div id=\"df-9a663009-981c-49bd-bc73-f1b8c02b3cb2\">\n",
              "    <div class=\"colab-df-container\">\n",
              "      <div>\n",
              "<style scoped>\n",
              "    .dataframe tbody tr th:only-of-type {\n",
              "        vertical-align: middle;\n",
              "    }\n",
              "\n",
              "    .dataframe tbody tr th {\n",
              "        vertical-align: top;\n",
              "    }\n",
              "\n",
              "    .dataframe thead th {\n",
              "        text-align: right;\n",
              "    }\n",
              "</style>\n",
              "<table border=\"1\" class=\"dataframe\">\n",
              "  <thead>\n",
              "    <tr style=\"text-align: right;\">\n",
              "      <th></th>\n",
              "      <th>0</th>\n",
              "      <th>1</th>\n",
              "      <th>2</th>\n",
              "      <th>3</th>\n",
              "      <th>4</th>\n",
              "      <th>5</th>\n",
              "      <th>6</th>\n",
              "      <th>7</th>\n",
              "      <th>8</th>\n",
              "      <th>9</th>\n",
              "      <th>...</th>\n",
              "      <th>66</th>\n",
              "      <th>67</th>\n",
              "      <th>68</th>\n",
              "      <th>69</th>\n",
              "      <th>70</th>\n",
              "      <th>71</th>\n",
              "      <th>72</th>\n",
              "      <th>73</th>\n",
              "      <th>74</th>\n",
              "      <th>75</th>\n",
              "    </tr>\n",
              "  </thead>\n",
              "  <tbody>\n",
              "    <tr>\n",
              "      <th>0</th>\n",
              "      <td>0.000000</td>\n",
              "      <td>0.003714</td>\n",
              "      <td>0.025836</td>\n",
              "      <td>0.000000</td>\n",
              "      <td>0.025130</td>\n",
              "      <td>0.068690</td>\n",
              "      <td>0.000000</td>\n",
              "      <td>0.020516</td>\n",
              "      <td>0.040778</td>\n",
              "      <td>0.000000</td>\n",
              "      <td>...</td>\n",
              "      <td>0.004535</td>\n",
              "      <td>0.000000</td>\n",
              "      <td>0.008135</td>\n",
              "      <td>0.000000</td>\n",
              "      <td>0.000000</td>\n",
              "      <td>0.003866</td>\n",
              "      <td>0.018963</td>\n",
              "      <td>-0.022267</td>\n",
              "      <td>0.019433</td>\n",
              "      <td>0.004685</td>\n",
              "    </tr>\n",
              "    <tr>\n",
              "      <th>1</th>\n",
              "      <td>0.000000</td>\n",
              "      <td>0.003827</td>\n",
              "      <td>0.033095</td>\n",
              "      <td>0.000000</td>\n",
              "      <td>0.000000</td>\n",
              "      <td>0.072428</td>\n",
              "      <td>0.015280</td>\n",
              "      <td>0.075210</td>\n",
              "      <td>0.035304</td>\n",
              "      <td>0.016528</td>\n",
              "      <td>...</td>\n",
              "      <td>0.000000</td>\n",
              "      <td>0.011992</td>\n",
              "      <td>0.000000</td>\n",
              "      <td>0.018308</td>\n",
              "      <td>0.000000</td>\n",
              "      <td>-0.020093</td>\n",
              "      <td>-0.026236</td>\n",
              "      <td>0.000000</td>\n",
              "      <td>0.000000</td>\n",
              "      <td>-0.020405</td>\n",
              "    </tr>\n",
              "    <tr>\n",
              "      <th>2</th>\n",
              "      <td>-0.065804</td>\n",
              "      <td>-0.016097</td>\n",
              "      <td>0.075228</td>\n",
              "      <td>0.000000</td>\n",
              "      <td>0.005063</td>\n",
              "      <td>0.177326</td>\n",
              "      <td>0.025644</td>\n",
              "      <td>0.107967</td>\n",
              "      <td>0.357114</td>\n",
              "      <td>-0.009148</td>\n",
              "      <td>...</td>\n",
              "      <td>0.002266</td>\n",
              "      <td>0.008741</td>\n",
              "      <td>0.008404</td>\n",
              "      <td>-0.016454</td>\n",
              "      <td>0.000000</td>\n",
              "      <td>0.012872</td>\n",
              "      <td>-0.055721</td>\n",
              "      <td>0.015277</td>\n",
              "      <td>-0.153401</td>\n",
              "      <td>-0.100016</td>\n",
              "    </tr>\n",
              "    <tr>\n",
              "      <th>3</th>\n",
              "      <td>0.000000</td>\n",
              "      <td>0.033557</td>\n",
              "      <td>0.014961</td>\n",
              "      <td>-0.011775</td>\n",
              "      <td>-0.009682</td>\n",
              "      <td>0.286565</td>\n",
              "      <td>0.023302</td>\n",
              "      <td>0.150747</td>\n",
              "      <td>0.150969</td>\n",
              "      <td>0.013302</td>\n",
              "      <td>...</td>\n",
              "      <td>0.049484</td>\n",
              "      <td>0.000000</td>\n",
              "      <td>0.000000</td>\n",
              "      <td>0.011590</td>\n",
              "      <td>-0.013484</td>\n",
              "      <td>0.000000</td>\n",
              "      <td>0.005107</td>\n",
              "      <td>0.000000</td>\n",
              "      <td>0.000000</td>\n",
              "      <td>0.013351</td>\n",
              "    </tr>\n",
              "    <tr>\n",
              "      <th>4</th>\n",
              "      <td>-0.071150</td>\n",
              "      <td>0.013547</td>\n",
              "      <td>0.008769</td>\n",
              "      <td>-0.006781</td>\n",
              "      <td>-0.004302</td>\n",
              "      <td>0.309107</td>\n",
              "      <td>0.040704</td>\n",
              "      <td>0.127528</td>\n",
              "      <td>0.215590</td>\n",
              "      <td>0.002360</td>\n",
              "      <td>...</td>\n",
              "      <td>0.031409</td>\n",
              "      <td>0.000000</td>\n",
              "      <td>0.004243</td>\n",
              "      <td>-0.008165</td>\n",
              "      <td>0.022555</td>\n",
              "      <td>0.018825</td>\n",
              "      <td>-0.059504</td>\n",
              "      <td>0.004437</td>\n",
              "      <td>-0.130826</td>\n",
              "      <td>-0.054179</td>\n",
              "    </tr>\n",
              "  </tbody>\n",
              "</table>\n",
              "<p>5 rows × 76 columns</p>\n",
              "</div>\n",
              "      <button class=\"colab-df-convert\" onclick=\"convertToInteractive('df-9a663009-981c-49bd-bc73-f1b8c02b3cb2')\"\n",
              "              title=\"Convert this dataframe to an interactive table.\"\n",
              "              style=\"display:none;\">\n",
              "        \n",
              "  <svg xmlns=\"http://www.w3.org/2000/svg\" height=\"24px\"viewBox=\"0 0 24 24\"\n",
              "       width=\"24px\">\n",
              "    <path d=\"M0 0h24v24H0V0z\" fill=\"none\"/>\n",
              "    <path d=\"M18.56 5.44l.94 2.06.94-2.06 2.06-.94-2.06-.94-.94-2.06-.94 2.06-2.06.94zm-11 1L8.5 8.5l.94-2.06 2.06-.94-2.06-.94L8.5 2.5l-.94 2.06-2.06.94zm10 10l.94 2.06.94-2.06 2.06-.94-2.06-.94-.94-2.06-.94 2.06-2.06.94z\"/><path d=\"M17.41 7.96l-1.37-1.37c-.4-.4-.92-.59-1.43-.59-.52 0-1.04.2-1.43.59L10.3 9.45l-7.72 7.72c-.78.78-.78 2.05 0 2.83L4 21.41c.39.39.9.59 1.41.59.51 0 1.02-.2 1.41-.59l7.78-7.78 2.81-2.81c.8-.78.8-2.07 0-2.86zM5.41 20L4 18.59l7.72-7.72 1.47 1.35L5.41 20z\"/>\n",
              "  </svg>\n",
              "      </button>\n",
              "      \n",
              "  <style>\n",
              "    .colab-df-container {\n",
              "      display:flex;\n",
              "      flex-wrap:wrap;\n",
              "      gap: 12px;\n",
              "    }\n",
              "\n",
              "    .colab-df-convert {\n",
              "      background-color: #E8F0FE;\n",
              "      border: none;\n",
              "      border-radius: 50%;\n",
              "      cursor: pointer;\n",
              "      display: none;\n",
              "      fill: #1967D2;\n",
              "      height: 32px;\n",
              "      padding: 0 0 0 0;\n",
              "      width: 32px;\n",
              "    }\n",
              "\n",
              "    .colab-df-convert:hover {\n",
              "      background-color: #E2EBFA;\n",
              "      box-shadow: 0px 1px 2px rgba(60, 64, 67, 0.3), 0px 1px 3px 1px rgba(60, 64, 67, 0.15);\n",
              "      fill: #174EA6;\n",
              "    }\n",
              "\n",
              "    [theme=dark] .colab-df-convert {\n",
              "      background-color: #3B4455;\n",
              "      fill: #D2E3FC;\n",
              "    }\n",
              "\n",
              "    [theme=dark] .colab-df-convert:hover {\n",
              "      background-color: #434B5C;\n",
              "      box-shadow: 0px 1px 3px 1px rgba(0, 0, 0, 0.15);\n",
              "      filter: drop-shadow(0px 1px 2px rgba(0, 0, 0, 0.3));\n",
              "      fill: #FFFFFF;\n",
              "    }\n",
              "  </style>\n",
              "\n",
              "      <script>\n",
              "        const buttonEl =\n",
              "          document.querySelector('#df-9a663009-981c-49bd-bc73-f1b8c02b3cb2 button.colab-df-convert');\n",
              "        buttonEl.style.display =\n",
              "          google.colab.kernel.accessAllowed ? 'block' : 'none';\n",
              "\n",
              "        async function convertToInteractive(key) {\n",
              "          const element = document.querySelector('#df-9a663009-981c-49bd-bc73-f1b8c02b3cb2');\n",
              "          const dataTable =\n",
              "            await google.colab.kernel.invokeFunction('convertToInteractive',\n",
              "                                                     [key], {});\n",
              "          if (!dataTable) return;\n",
              "\n",
              "          const docLinkHtml = 'Like what you see? Visit the ' +\n",
              "            '<a target=\"_blank\" href=https://colab.research.google.com/notebooks/data_table.ipynb>data table notebook</a>'\n",
              "            + ' to learn more about interactive tables.';\n",
              "          element.innerHTML = '';\n",
              "          dataTable['output_type'] = 'display_data';\n",
              "          await google.colab.output.renderOutput(dataTable, element);\n",
              "          const docLink = document.createElement('div');\n",
              "          docLink.innerHTML = docLinkHtml;\n",
              "          element.appendChild(docLink);\n",
              "        }\n",
              "      </script>\n",
              "    </div>\n",
              "  </div>\n",
              "  "
            ]
          },
          "metadata": {},
          "execution_count": 60
        }
      ]
    },
    {
      "cell_type": "code",
      "source": [
        "data_df.to_csv('/content/drive/MyDrive/DACN_XAI_Adv_defense/InSDN/MLP_HSJ/1000_samples_[0].csv', index=False)"
      ],
      "metadata": {
        "id": "mbDTuofCBeGJ"
      },
      "execution_count": 59,
      "outputs": []
    },
    {
      "cell_type": "code",
      "source": [
        "data_df.columns = feature_list\n",
        "data_df.head()"
      ],
      "metadata": {
        "colab": {
          "base_uri": "https://localhost:8080/",
          "height": 334
        },
        "id": "Kh8NM9hmM99Y",
        "outputId": "17167bea-6e8b-4143-89e6-c933d1eb7067"
      },
      "execution_count": 61,
      "outputs": [
        {
          "output_type": "execute_result",
          "data": {
            "text/plain": [
              "   Flow Duration  Tot Fwd Pkts  Tot Bwd Pkts  TotLen Fwd Pkts  \\\n",
              "0       0.000000      0.003714      0.025836         0.000000   \n",
              "1       0.000000      0.003827      0.033095         0.000000   \n",
              "2      -0.065804     -0.016097      0.075228         0.000000   \n",
              "3       0.000000      0.033557      0.014961        -0.011775   \n",
              "4      -0.071150      0.013547      0.008769        -0.006781   \n",
              "\n",
              "   TotLen Bwd Pkts  Fwd Pkt Len Max  Fwd Pkt Len Min  Fwd Pkt Len Mean  \\\n",
              "0         0.025130         0.068690         0.000000          0.020516   \n",
              "1         0.000000         0.072428         0.015280          0.075210   \n",
              "2         0.005063         0.177326         0.025644          0.107967   \n",
              "3        -0.009682         0.286565         0.023302          0.150747   \n",
              "4        -0.004302         0.309107         0.040704          0.127528   \n",
              "\n",
              "   Fwd Pkt Len Std  Bwd Pkt Len Max  ...  Fwd Act Data Pkts  Fwd Seg Size Min  \\\n",
              "0         0.040778         0.000000  ...           0.004535          0.000000   \n",
              "1         0.035304         0.016528  ...           0.000000          0.011992   \n",
              "2         0.357114        -0.009148  ...           0.002266          0.008741   \n",
              "3         0.150969         0.013302  ...           0.049484          0.000000   \n",
              "4         0.215590         0.002360  ...           0.031409          0.000000   \n",
              "\n",
              "   Active Mean  Active Std  Active Max  Active Min  Idle Mean  Idle Std  \\\n",
              "0     0.008135    0.000000    0.000000    0.003866   0.018963 -0.022267   \n",
              "1     0.000000    0.018308    0.000000   -0.020093  -0.026236  0.000000   \n",
              "2     0.008404   -0.016454    0.000000    0.012872  -0.055721  0.015277   \n",
              "3     0.000000    0.011590   -0.013484    0.000000   0.005107  0.000000   \n",
              "4     0.004243   -0.008165    0.022555    0.018825  -0.059504  0.004437   \n",
              "\n",
              "   Idle Max  Idle Min  \n",
              "0  0.019433  0.004685  \n",
              "1  0.000000 -0.020405  \n",
              "2 -0.153401 -0.100016  \n",
              "3  0.000000  0.013351  \n",
              "4 -0.130826 -0.054179  \n",
              "\n",
              "[5 rows x 76 columns]"
            ],
            "text/html": [
              "\n",
              "  <div id=\"df-32c18c5c-91a0-41c5-9f64-f9927b90e4b5\">\n",
              "    <div class=\"colab-df-container\">\n",
              "      <div>\n",
              "<style scoped>\n",
              "    .dataframe tbody tr th:only-of-type {\n",
              "        vertical-align: middle;\n",
              "    }\n",
              "\n",
              "    .dataframe tbody tr th {\n",
              "        vertical-align: top;\n",
              "    }\n",
              "\n",
              "    .dataframe thead th {\n",
              "        text-align: right;\n",
              "    }\n",
              "</style>\n",
              "<table border=\"1\" class=\"dataframe\">\n",
              "  <thead>\n",
              "    <tr style=\"text-align: right;\">\n",
              "      <th></th>\n",
              "      <th>Flow Duration</th>\n",
              "      <th>Tot Fwd Pkts</th>\n",
              "      <th>Tot Bwd Pkts</th>\n",
              "      <th>TotLen Fwd Pkts</th>\n",
              "      <th>TotLen Bwd Pkts</th>\n",
              "      <th>Fwd Pkt Len Max</th>\n",
              "      <th>Fwd Pkt Len Min</th>\n",
              "      <th>Fwd Pkt Len Mean</th>\n",
              "      <th>Fwd Pkt Len Std</th>\n",
              "      <th>Bwd Pkt Len Max</th>\n",
              "      <th>...</th>\n",
              "      <th>Fwd Act Data Pkts</th>\n",
              "      <th>Fwd Seg Size Min</th>\n",
              "      <th>Active Mean</th>\n",
              "      <th>Active Std</th>\n",
              "      <th>Active Max</th>\n",
              "      <th>Active Min</th>\n",
              "      <th>Idle Mean</th>\n",
              "      <th>Idle Std</th>\n",
              "      <th>Idle Max</th>\n",
              "      <th>Idle Min</th>\n",
              "    </tr>\n",
              "  </thead>\n",
              "  <tbody>\n",
              "    <tr>\n",
              "      <th>0</th>\n",
              "      <td>0.000000</td>\n",
              "      <td>0.003714</td>\n",
              "      <td>0.025836</td>\n",
              "      <td>0.000000</td>\n",
              "      <td>0.025130</td>\n",
              "      <td>0.068690</td>\n",
              "      <td>0.000000</td>\n",
              "      <td>0.020516</td>\n",
              "      <td>0.040778</td>\n",
              "      <td>0.000000</td>\n",
              "      <td>...</td>\n",
              "      <td>0.004535</td>\n",
              "      <td>0.000000</td>\n",
              "      <td>0.008135</td>\n",
              "      <td>0.000000</td>\n",
              "      <td>0.000000</td>\n",
              "      <td>0.003866</td>\n",
              "      <td>0.018963</td>\n",
              "      <td>-0.022267</td>\n",
              "      <td>0.019433</td>\n",
              "      <td>0.004685</td>\n",
              "    </tr>\n",
              "    <tr>\n",
              "      <th>1</th>\n",
              "      <td>0.000000</td>\n",
              "      <td>0.003827</td>\n",
              "      <td>0.033095</td>\n",
              "      <td>0.000000</td>\n",
              "      <td>0.000000</td>\n",
              "      <td>0.072428</td>\n",
              "      <td>0.015280</td>\n",
              "      <td>0.075210</td>\n",
              "      <td>0.035304</td>\n",
              "      <td>0.016528</td>\n",
              "      <td>...</td>\n",
              "      <td>0.000000</td>\n",
              "      <td>0.011992</td>\n",
              "      <td>0.000000</td>\n",
              "      <td>0.018308</td>\n",
              "      <td>0.000000</td>\n",
              "      <td>-0.020093</td>\n",
              "      <td>-0.026236</td>\n",
              "      <td>0.000000</td>\n",
              "      <td>0.000000</td>\n",
              "      <td>-0.020405</td>\n",
              "    </tr>\n",
              "    <tr>\n",
              "      <th>2</th>\n",
              "      <td>-0.065804</td>\n",
              "      <td>-0.016097</td>\n",
              "      <td>0.075228</td>\n",
              "      <td>0.000000</td>\n",
              "      <td>0.005063</td>\n",
              "      <td>0.177326</td>\n",
              "      <td>0.025644</td>\n",
              "      <td>0.107967</td>\n",
              "      <td>0.357114</td>\n",
              "      <td>-0.009148</td>\n",
              "      <td>...</td>\n",
              "      <td>0.002266</td>\n",
              "      <td>0.008741</td>\n",
              "      <td>0.008404</td>\n",
              "      <td>-0.016454</td>\n",
              "      <td>0.000000</td>\n",
              "      <td>0.012872</td>\n",
              "      <td>-0.055721</td>\n",
              "      <td>0.015277</td>\n",
              "      <td>-0.153401</td>\n",
              "      <td>-0.100016</td>\n",
              "    </tr>\n",
              "    <tr>\n",
              "      <th>3</th>\n",
              "      <td>0.000000</td>\n",
              "      <td>0.033557</td>\n",
              "      <td>0.014961</td>\n",
              "      <td>-0.011775</td>\n",
              "      <td>-0.009682</td>\n",
              "      <td>0.286565</td>\n",
              "      <td>0.023302</td>\n",
              "      <td>0.150747</td>\n",
              "      <td>0.150969</td>\n",
              "      <td>0.013302</td>\n",
              "      <td>...</td>\n",
              "      <td>0.049484</td>\n",
              "      <td>0.000000</td>\n",
              "      <td>0.000000</td>\n",
              "      <td>0.011590</td>\n",
              "      <td>-0.013484</td>\n",
              "      <td>0.000000</td>\n",
              "      <td>0.005107</td>\n",
              "      <td>0.000000</td>\n",
              "      <td>0.000000</td>\n",
              "      <td>0.013351</td>\n",
              "    </tr>\n",
              "    <tr>\n",
              "      <th>4</th>\n",
              "      <td>-0.071150</td>\n",
              "      <td>0.013547</td>\n",
              "      <td>0.008769</td>\n",
              "      <td>-0.006781</td>\n",
              "      <td>-0.004302</td>\n",
              "      <td>0.309107</td>\n",
              "      <td>0.040704</td>\n",
              "      <td>0.127528</td>\n",
              "      <td>0.215590</td>\n",
              "      <td>0.002360</td>\n",
              "      <td>...</td>\n",
              "      <td>0.031409</td>\n",
              "      <td>0.000000</td>\n",
              "      <td>0.004243</td>\n",
              "      <td>-0.008165</td>\n",
              "      <td>0.022555</td>\n",
              "      <td>0.018825</td>\n",
              "      <td>-0.059504</td>\n",
              "      <td>0.004437</td>\n",
              "      <td>-0.130826</td>\n",
              "      <td>-0.054179</td>\n",
              "    </tr>\n",
              "  </tbody>\n",
              "</table>\n",
              "<p>5 rows × 76 columns</p>\n",
              "</div>\n",
              "      <button class=\"colab-df-convert\" onclick=\"convertToInteractive('df-32c18c5c-91a0-41c5-9f64-f9927b90e4b5')\"\n",
              "              title=\"Convert this dataframe to an interactive table.\"\n",
              "              style=\"display:none;\">\n",
              "        \n",
              "  <svg xmlns=\"http://www.w3.org/2000/svg\" height=\"24px\"viewBox=\"0 0 24 24\"\n",
              "       width=\"24px\">\n",
              "    <path d=\"M0 0h24v24H0V0z\" fill=\"none\"/>\n",
              "    <path d=\"M18.56 5.44l.94 2.06.94-2.06 2.06-.94-2.06-.94-.94-2.06-.94 2.06-2.06.94zm-11 1L8.5 8.5l.94-2.06 2.06-.94-2.06-.94L8.5 2.5l-.94 2.06-2.06.94zm10 10l.94 2.06.94-2.06 2.06-.94-2.06-.94-.94-2.06-.94 2.06-2.06.94z\"/><path d=\"M17.41 7.96l-1.37-1.37c-.4-.4-.92-.59-1.43-.59-.52 0-1.04.2-1.43.59L10.3 9.45l-7.72 7.72c-.78.78-.78 2.05 0 2.83L4 21.41c.39.39.9.59 1.41.59.51 0 1.02-.2 1.41-.59l7.78-7.78 2.81-2.81c.8-.78.8-2.07 0-2.86zM5.41 20L4 18.59l7.72-7.72 1.47 1.35L5.41 20z\"/>\n",
              "  </svg>\n",
              "      </button>\n",
              "      \n",
              "  <style>\n",
              "    .colab-df-container {\n",
              "      display:flex;\n",
              "      flex-wrap:wrap;\n",
              "      gap: 12px;\n",
              "    }\n",
              "\n",
              "    .colab-df-convert {\n",
              "      background-color: #E8F0FE;\n",
              "      border: none;\n",
              "      border-radius: 50%;\n",
              "      cursor: pointer;\n",
              "      display: none;\n",
              "      fill: #1967D2;\n",
              "      height: 32px;\n",
              "      padding: 0 0 0 0;\n",
              "      width: 32px;\n",
              "    }\n",
              "\n",
              "    .colab-df-convert:hover {\n",
              "      background-color: #E2EBFA;\n",
              "      box-shadow: 0px 1px 2px rgba(60, 64, 67, 0.3), 0px 1px 3px 1px rgba(60, 64, 67, 0.15);\n",
              "      fill: #174EA6;\n",
              "    }\n",
              "\n",
              "    [theme=dark] .colab-df-convert {\n",
              "      background-color: #3B4455;\n",
              "      fill: #D2E3FC;\n",
              "    }\n",
              "\n",
              "    [theme=dark] .colab-df-convert:hover {\n",
              "      background-color: #434B5C;\n",
              "      box-shadow: 0px 1px 3px 1px rgba(0, 0, 0, 0.15);\n",
              "      filter: drop-shadow(0px 1px 2px rgba(0, 0, 0, 0.3));\n",
              "      fill: #FFFFFF;\n",
              "    }\n",
              "  </style>\n",
              "\n",
              "      <script>\n",
              "        const buttonEl =\n",
              "          document.querySelector('#df-32c18c5c-91a0-41c5-9f64-f9927b90e4b5 button.colab-df-convert');\n",
              "        buttonEl.style.display =\n",
              "          google.colab.kernel.accessAllowed ? 'block' : 'none';\n",
              "\n",
              "        async function convertToInteractive(key) {\n",
              "          const element = document.querySelector('#df-32c18c5c-91a0-41c5-9f64-f9927b90e4b5');\n",
              "          const dataTable =\n",
              "            await google.colab.kernel.invokeFunction('convertToInteractive',\n",
              "                                                     [key], {});\n",
              "          if (!dataTable) return;\n",
              "\n",
              "          const docLinkHtml = 'Like what you see? Visit the ' +\n",
              "            '<a target=\"_blank\" href=https://colab.research.google.com/notebooks/data_table.ipynb>data table notebook</a>'\n",
              "            + ' to learn more about interactive tables.';\n",
              "          element.innerHTML = '';\n",
              "          dataTable['output_type'] = 'display_data';\n",
              "          await google.colab.output.renderOutput(dataTable, element);\n",
              "          const docLink = document.createElement('div');\n",
              "          docLink.innerHTML = docLinkHtml;\n",
              "          element.appendChild(docLink);\n",
              "        }\n",
              "      </script>\n",
              "    </div>\n",
              "  </div>\n",
              "  "
            ]
          },
          "metadata": {},
          "execution_count": 61
        }
      ]
    },
    {
      "cell_type": "code",
      "source": [
        "data_dict = {}\n",
        "for idx in range(0, 1000):\n",
        "  # Select the desired row and get the top 10 values's column names\n",
        "  row_values = data_df.iloc[idx].nlargest(10).index.tolist()\n",
        "\n",
        "  # Create a dictionary and add the list with filename as the key\n",
        "  data_dict['Adv sample ' + str(idx)] = row_values"
      ],
      "metadata": {
        "id": "y9KCFvHdP5UO"
      },
      "execution_count": 72,
      "outputs": []
    },
    {
      "cell_type": "code",
      "source": [
        "print(data_dict)"
      ],
      "metadata": {
        "colab": {
          "base_uri": "https://localhost:8080/"
        },
        "id": "SAhM-kXtRLoW",
        "outputId": "4f2b77e5-6cd5-48fe-b0e1-22c4fdfd6138"
      },
      "execution_count": 73,
      "outputs": [
        {
          "output_type": "stream",
          "name": "stdout",
          "text": [
            "{'Adv sample 0': ['Down/Up Ratio', 'Fwd Pkt Len Max', 'Flow Byts/s', 'Bwd Pkts/s', 'FIN Flag Cnt', 'Flow IAT Max', 'Fwd IAT Tot', 'Fwd Pkt Len Std', 'Fwd IAT Min', 'Bwd IAT Max'], 'Adv sample 1': ['Flow Byts/s', 'Pkt Len Std', 'Fwd Pkt Len Mean', 'Fwd Pkt Len Max', 'Down/Up Ratio', 'Pkt Size Avg', 'ACK Flag Cnt', 'Fwd IAT Std', 'Fwd Seg Size Avg', 'Pkt Len Mean'], 'Adv sample 2': ['Fwd Pkt Len Std', 'Fwd Pkt Len Max', 'Fwd Seg Size Avg', 'Flow Byts/s', 'Fwd Pkt Len Mean', 'Pkt Len Min', 'Pkt Len Std', 'Bwd Header Len', 'Pkt Size Avg', 'Tot Bwd Pkts'], 'Adv sample 3': ['Fwd Pkt Len Max', 'Fwd Pkt Len Std', 'Fwd Pkt Len Mean', 'SYN Flag Cnt', 'Pkt Size Avg', 'Flow Byts/s', 'Fwd Seg Size Avg', 'Pkt Len Min', 'Fwd Act Data Pkts', 'Pkt Len Std'], 'Adv sample 4': ['Fwd Pkt Len Max', 'Fwd Pkt Len Std', 'Fwd Seg Size Avg', 'Bwd Header Len', 'Fwd Pkt Len Mean', 'Flow Byts/s', 'Pkt Len Std', 'Pkt Len Min', 'Pkt Len Mean', 'Pkt Size Avg'], 'Adv sample 5': ['Init Fwd Win Byts', 'Pkt Len Min', 'SYN Flag Cnt', 'Bwd Pkt Len Min', 'Down/Up Ratio', 'FIN Flag Cnt', 'ACK Flag Cnt', 'Fwd Pkt Len Min', 'Bwd IAT Std', 'Fwd Pkts/s'], 'Adv sample 6': ['SYN Flag Cnt', 'Flow Pkts/s', 'Down/Up Ratio', 'FIN Flag Cnt', 'Bwd Pkts/s', 'ACK Flag Cnt', 'Subflow Bwd Pkts', 'Bwd IAT Std', 'Idle Max', 'Flow Duration'], 'Adv sample 7': ['SYN Flag Cnt', 'Subflow Bwd Pkts', 'Bwd Pkts/s', 'Tot Bwd Pkts', 'Bwd Header Len', 'Fwd Seg Size Avg', 'Fwd Pkt Len Max', 'Fwd Pkt Len Mean', 'FIN Flag Cnt', 'ACK Flag Cnt'], 'Adv sample 8': ['Init Fwd Win Byts', 'SYN Flag Cnt', 'Pkt Len Min', 'Bwd Pkt Len Min', 'FIN Flag Cnt', 'Down/Up Ratio', 'ACK Flag Cnt', 'Bwd IAT Max', 'Bwd Pkts/b Avg', 'Active Max'], 'Adv sample 9': ['Fwd Pkt Len Std', 'Fwd Pkt Len Mean', 'Fwd Seg Size Avg', 'Pkt Len Std', 'Tot Bwd Pkts', 'Fwd Pkt Len Max', 'FIN Flag Cnt', 'Bwd Pkts/s', 'Pkt Len Mean', 'Fwd IAT Mean'], 'Adv sample 10': ['SYN Flag Cnt', 'Fwd Pkt Len Max', 'Fwd Pkt Len Std', 'Init Fwd Win Byts', 'Bwd Header Len', 'Fwd Pkt Len Mean', 'Bwd Pkts/s', 'Flow Pkts/s', 'Down/Up Ratio', 'Subflow Bwd Pkts'], 'Adv sample 11': ['Fwd Pkt Len Max', 'Flow Byts/s', 'Fwd IAT Min', 'Fwd Pkt Len Std', 'Pkt Len Max', 'Fwd Seg Size Avg', 'Fwd Pkt Len Mean', 'Pkt Len Min', 'Pkt Size Avg', 'Idle Mean'], 'Adv sample 12': ['Fwd Pkt Len Std', 'Fwd Pkt Len Max', 'Fwd Pkt Len Mean', 'Fwd Seg Size Avg', 'SYN Flag Cnt', 'Flow Byts/s', 'Pkt Len Min', 'Init Fwd Win Byts', 'Pkt Len Std', 'Subflow Fwd Pkts'], 'Adv sample 13': ['Fwd Seg Size Avg', 'Down/Up Ratio', 'Flow Byts/s', 'Fwd IAT Min', 'FIN Flag Cnt', 'Idle Max', 'Fwd Pkt Len Std', 'Bwd Pkts/s', 'Fwd IAT Tot', 'Fwd Pkt Len Mean'], 'Adv sample 14': ['SYN Flag Cnt', 'Subflow Bwd Pkts', 'Bwd Header Len', 'FIN Flag Cnt', 'Tot Bwd Pkts', 'Flow Pkts/s', 'Fwd Pkt Len Mean', 'Subflow Fwd Pkts', 'Fwd IAT Min', 'ACK Flag Cnt'], 'Adv sample 15': ['Init Fwd Win Byts', 'SYN Flag Cnt', 'Bwd Pkt Len Min', 'Pkt Len Min', 'Down/Up Ratio', 'FIN Flag Cnt', 'ACK Flag Cnt', 'Fwd Pkt Len Min', 'Flow IAT Max', 'Active Min'], 'Adv sample 16': ['SYN Flag Cnt', 'Bwd Header Len', 'Bwd Pkts/s', 'Subflow Bwd Pkts', 'Tot Bwd Pkts', 'FIN Flag Cnt', 'Fwd Pkt Len Std', 'ACK Flag Cnt', 'Fwd IAT Mean', 'Subflow Fwd Pkts'], 'Adv sample 17': ['Pkt Len Min', 'Init Fwd Win Byts', 'SYN Flag Cnt', 'Bwd Pkt Len Min', 'Down/Up Ratio', 'FIN Flag Cnt', 'ACK Flag Cnt', 'Fwd Pkt Len Min', 'Idle Mean', 'Fwd Seg Size Min'], 'Adv sample 18': ['Bwd PSH Flags', 'SYN Flag Cnt', 'Pkt Len Min', 'Bwd Pkt Len Min', 'Bwd Pkts/s', 'FIN Flag Cnt', 'Flow Pkts/s', 'Init Fwd Win Byts', 'Subflow Fwd Pkts', 'Flow Duration'], 'Adv sample 19': ['SYN Flag Cnt', 'Bwd Pkts/s', 'Bwd Header Len', 'Fwd Pkt Len Std', 'Subflow Bwd Pkts', 'FIN Flag Cnt', 'Tot Bwd Pkts', 'ACK Flag Cnt', 'Bwd IAT Std', 'Fwd Seg Size Avg'], 'Adv sample 20': ['SYN Flag Cnt', 'Bwd Pkts/s', 'Bwd Header Len', 'Subflow Bwd Pkts', 'Tot Bwd Pkts', 'Fwd Pkt Len Std', 'ACK Flag Cnt', 'Fwd Pkt Len Mean', 'Bwd IAT Std', 'FIN Flag Cnt'], 'Adv sample 21': ['SYN Flag Cnt', 'Fwd Pkt Len Max', 'Fwd Pkt Len Std', 'Pkt Len Min', 'Fwd Pkt Len Mean', 'Bwd Header Len', 'Fwd Pkt Len Min', 'FIN Flag Cnt', 'Down/Up Ratio', 'Bwd Pkts/s'], 'Adv sample 22': ['Init Fwd Win Byts', 'SYN Flag Cnt', 'Bwd Pkt Len Min', 'Pkt Len Min', 'Down/Up Ratio', 'FIN Flag Cnt', 'ACK Flag Cnt', 'Fwd Pkt Len Min', 'Fwd IAT Max', 'Subflow Bwd Pkts'], 'Adv sample 23': ['Init Fwd Win Byts', 'Pkt Len Min', 'SYN Flag Cnt', 'Bwd Pkt Len Min', 'FIN Flag Cnt', 'Down/Up Ratio', 'ACK Flag Cnt', 'Fwd Pkt Len Min', 'Flow Duration', 'Fwd Pkts/b Avg'], 'Adv sample 24': ['Bwd Header Len', 'SYN Flag Cnt', 'Bwd PSH Flags', 'Init Fwd Win Byts', 'Bwd Pkts/s', 'Flow Pkts/s', 'Bwd IAT Std', 'Fwd Act Data Pkts', 'Fwd Pkt Len Std', 'FIN Flag Cnt'], 'Adv sample 25': ['SYN Flag Cnt', 'Subflow Bwd Pkts', 'Bwd Header Len', 'Tot Bwd Pkts', 'Bwd Pkts/s', 'FIN Flag Cnt', 'Fwd Pkt Len Mean', 'ACK Flag Cnt', 'Bwd IAT Std', 'Fwd Seg Size Avg'], 'Adv sample 26': ['SYN Flag Cnt', 'Bwd Pkts/s', 'Subflow Bwd Pkts', 'FIN Flag Cnt', 'Bwd Header Len', 'Tot Bwd Pkts', 'ACK Flag Cnt', 'Fwd Pkt Len Std', 'Subflow Fwd Pkts', 'Fwd Header Len'], 'Adv sample 27': ['Pkt Len Min', 'Down/Up Ratio', 'SYN Flag Cnt', 'Bwd Pkt Len Min', 'Bwd Pkts/s', 'FIN Flag Cnt', 'Flow Pkts/s', 'Fwd Pkt Len Std', 'Fwd Pkt Len Min', 'Bwd IAT Mean'], 'Adv sample 28': ['Bwd Header Len', 'Fwd Pkt Len Max', 'Fwd Pkt Len Std', 'Flow Byts/s', 'FIN Flag Cnt', 'Bwd Pkts/s', 'Flow IAT Std', 'ACK Flag Cnt', 'Fwd Pkt Len Mean', 'Idle Min'], 'Adv sample 29': ['Down/Up Ratio', 'Init Fwd Win Byts', 'Flow Byts/s', 'Bwd Header Len', 'Fwd Pkt Len Std', 'FIN Flag Cnt', 'Pkt Len Std', 'Fwd Seg Size Avg', 'Subflow Bwd Pkts', 'Pkt Len Max'], 'Adv sample 30': ['SYN Flag Cnt', 'Bwd Pkts/s', 'Bwd Header Len', 'Tot Bwd Pkts', 'FIN Flag Cnt', 'Subflow Bwd Pkts', 'ACK Flag Cnt', 'Fwd Header Len', 'Fwd Seg Size Avg', 'Fwd Pkt Len Max'], 'Adv sample 31': ['Down/Up Ratio', 'Fwd IAT Std', 'Init Fwd Win Byts', 'Idle Max', 'Fwd IAT Min', 'Bwd Pkts/s', 'Idle Mean', 'FIN Flag Cnt', 'Pkt Len Max', 'Fwd IAT Max'], 'Adv sample 32': ['Init Fwd Win Byts', 'Pkt Len Min', 'SYN Flag Cnt', 'Bwd Pkt Len Min', 'Down/Up Ratio', 'FIN Flag Cnt', 'ACK Flag Cnt', 'Fwd Pkt Len Min', 'URG Flag Cnt', 'Idle Max'], 'Adv sample 33': ['Init Fwd Win Byts', 'Pkt Len Min', 'SYN Flag Cnt', 'Bwd Pkt Len Min', 'Down/Up Ratio', 'FIN Flag Cnt', 'ACK Flag Cnt', 'Fwd Pkt Len Min', 'Bwd IAT Max', 'Fwd Pkts/b Avg'], 'Adv sample 34': ['Bwd Header Len', 'SYN Flag Cnt', 'Flow Pkts/s', 'Bwd Pkts/s', 'Init Fwd Win Byts', 'FIN Flag Cnt', 'Down/Up Ratio', 'Flow Duration', 'Bwd Pkt Len Mean', 'Fwd Pkt Len Std'], 'Adv sample 35': ['Fwd Pkt Len Std', 'Fwd Pkt Len Max', 'Fwd Pkt Len Mean', 'Pkt Size Avg', 'Pkt Len Mean', 'SYN Flag Cnt', 'Pkt Len Min', 'Active Std', 'Fwd Header Len', 'Fwd Act Data Pkts'], 'Adv sample 36': ['SYN Flag Cnt', 'Fwd Pkt Len Max', 'Down/Up Ratio', 'Fwd Pkt Len Mean', 'Fwd Pkt Len Std', 'Pkt Len Min', 'Init Fwd Win Byts', 'Subflow Bwd Pkts', 'Flow Pkts/s', 'Tot Bwd Pkts'], 'Adv sample 37': ['Fwd Pkt Len Std', 'SYN Flag Cnt', 'Fwd Pkt Len Max', 'Fwd Pkt Len Mean', 'Down/Up Ratio', 'Fwd Seg Size Avg', 'Pkt Len Std', 'ACK Flag Cnt', 'Pkt Len Mean', 'Fwd Pkt Len Min'], 'Adv sample 38': ['Fwd Pkt Len Max', 'Bwd Header Len', 'Fwd Pkt Len Std', 'Flow Byts/s', 'Pkt Len Std', 'Fwd IAT Min', 'Fwd Pkt Len Mean', 'Fwd IAT Std', 'Fwd Pkt Len Min', 'Pkt Len Mean'], 'Adv sample 39': ['SYN Flag Cnt', 'Fwd Pkt Len Max', 'Fwd Pkt Len Std', 'Init Bwd Win Byts', 'Flow Byts/s', 'Fwd Pkt Len Mean', 'Pkt Len Min', 'Subflow Fwd Pkts', 'Fwd Seg Size Avg', 'Bwd Header Len'], 'Adv sample 40': ['SYN Flag Cnt', 'Flow Pkts/s', 'Down/Up Ratio', 'FIN Flag Cnt', 'Bwd Pkts/s', 'ACK Flag Cnt', 'Flow IAT Std', 'Flow Duration', 'Bwd Header Len', 'Tot Bwd Pkts'], 'Adv sample 41': ['Fwd Pkt Len Std', 'Fwd Pkt Len Max', 'SYN Flag Cnt', 'ACK Flag Cnt', 'Pkt Len Mean', 'Down/Up Ratio', 'Fwd Pkt Len Mean', 'Bwd Pkts/s', 'Pkt Size Avg', 'Fwd Pkt Len Min'], 'Adv sample 42': ['SYN Flag Cnt', 'Subflow Bwd Pkts', 'Bwd Header Len', 'FIN Flag Cnt', 'Tot Fwd Pkts', 'Fwd Header Len', 'Flow Pkts/s', 'Pkt Len Std', 'Subflow Fwd Pkts', 'Tot Bwd Pkts'], 'Adv sample 43': ['SYN Flag Cnt', 'Bwd Pkts/s', 'Bwd Header Len', 'Tot Bwd Pkts', 'FIN Flag Cnt', 'Subflow Bwd Pkts', 'Fwd Pkt Len Mean', 'ACK Flag Cnt', 'Fwd IAT Std', 'Flow IAT Max'], 'Adv sample 44': ['SYN Flag Cnt', 'Subflow Bwd Pkts', 'Tot Bwd Pkts', 'Bwd Header Len', 'FIN Flag Cnt', 'ACK Flag Cnt', 'Flow Pkts/s', 'Bwd IAT Std', 'Fwd IAT Mean', 'Fwd Pkt Len Mean'], 'Adv sample 45': ['Fwd Pkt Len Max', 'Fwd Pkt Len Std', 'Fwd Pkt Len Mean', 'Fwd IAT Max', 'Pkt Len Std', 'Down/Up Ratio', 'Bwd Pkts/s', 'Pkt Len Max', 'Flow Byts/s', 'Fwd IAT Mean'], 'Adv sample 46': ['Fwd Pkt Len Std', 'Fwd Pkt Len Max', 'Down/Up Ratio', 'SYN Flag Cnt', 'Bwd Pkts/s', 'ACK Flag Cnt', 'Fwd Pkt Len Mean', 'Flow Byts/s', 'Fwd Act Data Pkts', 'Subflow Fwd Pkts'], 'Adv sample 47': ['SYN Flag Cnt', 'Bwd Pkts/s', 'Fwd Seg Size Avg', 'Pkt Len Mean', 'Fwd Pkt Len Std', 'Fwd Pkt Len Max', 'Fwd Pkt Len Mean', 'Down/Up Ratio', 'Init Fwd Win Byts', 'URG Flag Cnt'], 'Adv sample 48': ['SYN Flag Cnt', 'Pkt Len Min', 'Bwd Pkt Len Min', 'Init Fwd Win Byts', 'Down/Up Ratio', 'FIN Flag Cnt', 'ACK Flag Cnt', 'Subflow Fwd Byts', 'Fwd Pkt Len Min', 'URG Flag Cnt'], 'Adv sample 49': ['Pkt Len Min', 'SYN Flag Cnt', 'Init Fwd Win Byts', 'Bwd Pkt Len Min', 'Down/Up Ratio', 'FIN Flag Cnt', 'ACK Flag Cnt', 'Flow IAT Std', 'Fwd Pkt Len Min', 'Bwd IAT Max'], 'Adv sample 50': ['Flow Byts/s', 'Fwd Pkt Len Std', 'Pkt Len Std', 'Pkt Len Max', 'Fwd Pkt Len Max', 'Fwd Pkt Len Mean', 'Bwd IAT Std', 'Bwd Pkt Len Std', 'ACK Flag Cnt', 'Pkt Len Mean'], 'Adv sample 51': ['SYN Flag Cnt', 'Pkt Len Min', 'Fwd Pkt Len Max', 'Fwd Pkt Len Std', 'Down/Up Ratio', 'Fwd Seg Size Avg', 'Bwd Pkt Len Min', 'Pkt Len Max', 'FIN Flag Cnt', 'Pkt Len Std'], 'Adv sample 52': ['Pkt Len Min', 'SYN Flag Cnt', 'Init Fwd Win Byts', 'Bwd Pkt Len Min', 'Down/Up Ratio', 'FIN Flag Cnt', 'ACK Flag Cnt', 'Bwd IAT Std', 'PSH Flag Cnt', 'URG Flag Cnt'], 'Adv sample 53': ['SYN Flag Cnt', 'Init Fwd Win Byts', 'Bwd Pkts/s', 'Fwd Pkt Len Max', 'Fwd Pkt Len Std', 'ACK Flag Cnt', 'Fwd Pkt Len Mean', 'Pkt Len Mean', 'Fwd IAT Mean', 'Fwd IAT Std'], 'Adv sample 54': ['Fwd Pkt Len Std', 'Fwd Pkt Len Max', 'Fwd Pkt Len Mean', 'SYN Flag Cnt', 'Fwd Pkt Len Min', 'Pkt Len Min', 'Fwd Seg Size Avg', 'Flow Byts/s', 'Pkt Len Mean', 'Active Std'], 'Adv sample 55': ['Init Fwd Win Byts', 'Pkt Len Min', 'SYN Flag Cnt', 'Bwd Pkt Len Min', 'FIN Flag Cnt', 'Down/Up Ratio', 'ACK Flag Cnt', 'Fwd Pkt Len Min', 'Subflow Fwd Byts', 'Bwd IAT Tot'], 'Adv sample 56': ['Down/Up Ratio', 'Fwd IAT Max', 'Bwd Pkts/s', 'Pkt Len Min', 'Flow IAT Max', 'Fwd IAT Mean', 'Fwd IAT Min', 'Subflow Bwd Pkts', 'ACK Flag Cnt', 'Tot Bwd Pkts'], 'Adv sample 57': ['Init Fwd Win Byts', 'SYN Flag Cnt', 'Pkt Len Min', 'Bwd Pkt Len Min', 'Down/Up Ratio', 'FIN Flag Cnt', 'ACK Flag Cnt', 'Bwd IAT Max', 'Bwd IAT Tot', 'Flow IAT Std'], 'Adv sample 58': ['SYN Flag Cnt', 'Fwd Pkt Len Max', 'Fwd Pkt Len Std', 'Init Fwd Win Byts', 'Down/Up Ratio', 'Fwd Seg Size Avg', 'Flow Pkts/s', 'Fwd Act Data Pkts', 'Subflow Fwd Pkts', 'Bwd IAT Std'], 'Adv sample 59': ['Bwd Header Len', 'Down/Up Ratio', 'Fwd IAT Min', 'Flow IAT Max', 'Fwd IAT Std', 'Tot Bwd Pkts', 'Fwd IAT Tot', 'ACK Flag Cnt', 'Fwd Header Len', 'FIN Flag Cnt'], 'Adv sample 60': ['Init Fwd Win Byts', 'Down/Up Ratio', 'FIN Flag Cnt', 'Fwd Pkt Len Std', 'Bwd Pkt Len Min', 'Flow Byts/s', 'Bwd Pkts/s', 'Flow Pkts/s', 'Pkt Len Min', 'Bwd Pkt Len Std'], 'Adv sample 61': ['Flow Byts/s', 'Pkt Len Std', 'Fwd Pkt Len Std', 'Pkt Len Mean', 'Pkt Len Max', 'Fwd Pkt Len Max', 'Bwd Pkt Len Std', 'Pkt Len Var', 'Pkt Size Avg', 'Fwd IAT Min'], 'Adv sample 62': ['Fwd IAT Std', 'Flow IAT Max', 'Fwd Pkt Len Std', 'Flow Duration', 'Active Std', 'Pkt Len Std', 'Flow Byts/s', 'Down/Up Ratio', 'Subflow Bwd Pkts', 'Fwd Pkt Len Max'], 'Adv sample 63': ['SYN Flag Cnt', 'Flow Pkts/s', 'Down/Up Ratio', 'Bwd Pkts/s', 'FIN Flag Cnt', 'ACK Flag Cnt', 'Tot Bwd Pkts', 'Flow Duration', 'Bwd Header Len', 'Bwd IAT Std'], 'Adv sample 64': ['SYN Flag Cnt', 'Fwd Pkt Len Std', 'Down/Up Ratio', 'Fwd Pkt Len Max', 'Bwd Header Len', 'Init Fwd Win Byts', 'Fwd Seg Size Avg', 'Flow Pkts/s', 'Fwd Pkt Len Mean', 'Tot Bwd Pkts'], 'Adv sample 65': ['Init Fwd Win Byts', 'SYN Flag Cnt', 'Pkt Len Min', 'Bwd Pkt Len Min', 'Down/Up Ratio', 'FIN Flag Cnt', 'ACK Flag Cnt', 'Bwd IAT Tot', 'Active Max', 'Fwd Blk Rate Avg'], 'Adv sample 66': ['Bwd Header Len', 'Fwd Pkt Len Max', 'Fwd Pkt Len Mean', 'Fwd IAT Tot', 'Fwd Pkt Len Std', 'FIN Flag Cnt', 'Flow Byts/s', 'Idle Mean', 'Idle Max', 'Pkt Len Mean'], 'Adv sample 67': ['SYN Flag Cnt', 'Bwd Pkts/s', 'Subflow Bwd Pkts', 'Tot Bwd Pkts', 'Bwd Header Len', 'FIN Flag Cnt', 'Fwd Pkt Len Std', 'ACK Flag Cnt', 'Bwd IAT Std', 'Fwd Header Len'], 'Adv sample 68': ['SYN Flag Cnt', 'Bwd Pkts/s', 'Subflow Bwd Pkts', 'Tot Bwd Pkts', 'ACK Flag Cnt', 'Bwd Header Len', 'FIN Flag Cnt', 'Fwd Act Data Pkts', 'Fwd Pkt Len Max', 'Fwd Header Len'], 'Adv sample 69': ['Fwd Pkt Len Max', 'Fwd Pkt Len Std', 'Fwd Pkt Len Mean', 'Flow Byts/s', 'Fwd Seg Size Avg', 'Pkt Len Std', 'Pkt Len Max', 'Bwd Pkts/s', 'Fwd Pkt Len Min', 'Pkt Len Min'], 'Adv sample 70': ['Init Fwd Win Byts', 'Pkt Len Min', 'SYN Flag Cnt', 'Bwd Pkt Len Min', 'Down/Up Ratio', 'FIN Flag Cnt', 'ACK Flag Cnt', 'Bwd IAT Std', 'Flow Duration', 'Flow IAT Mean'], 'Adv sample 71': ['Fwd Pkt Len Mean', 'Pkt Len Max', 'Fwd Pkt Len Max', 'Fwd Pkt Len Std', 'Fwd Seg Size Avg', 'Flow Byts/s', 'Pkt Len Std', 'FIN Flag Cnt', 'Down/Up Ratio', 'Fwd IAT Mean'], 'Adv sample 72': ['Fwd Pkt Len Mean', 'Fwd Seg Size Avg', 'Flow Byts/s', 'Fwd Pkt Len Std', 'Fwd IAT Min', 'Fwd Pkt Len Max', 'Pkt Len Max', 'FIN Flag Cnt', 'Flow IAT Std', 'Subflow Bwd Pkts'], 'Adv sample 73': ['SYN Flag Cnt', 'Bwd Pkts/s', 'Bwd Header Len', 'Tot Bwd Pkts', 'Subflow Bwd Pkts', 'FIN Flag Cnt', 'ACK Flag Cnt', 'Fwd Seg Size Avg', 'Fwd Header Len', 'Fwd Pkt Len Std'], 'Adv sample 74': ['Fwd Pkt Len Max', 'Fwd Pkt Len Mean', 'Fwd Pkt Len Std', 'Fwd IAT Min', 'Fwd Seg Size Avg', 'Pkt Len Max', 'Fwd IAT Tot', 'Fwd IAT Std', 'Flow Byts/s', 'Bwd Pkt Len Min'], 'Adv sample 75': ['Init Fwd Win Byts', 'Flow Byts/s', 'Down/Up Ratio', 'Fwd Pkt Len Std', 'Pkt Len Max', 'Fwd Pkt Len Max', 'Fwd Pkt Len Mean', 'Bwd Pkts/s', 'Flow Pkts/s', 'Fwd Pkt Len Min'], 'Adv sample 76': ['SYN Flag Cnt', 'Down/Up Ratio', 'Flow Pkts/s', 'ACK Flag Cnt', 'FIN Flag Cnt', 'Bwd Pkts/s', 'Bwd Header Len', 'Tot Bwd Pkts', 'Flow Duration', 'Bwd IAT Tot'], 'Adv sample 77': ['SYN Flag Cnt', 'Fwd Pkt Len Max', 'Fwd Pkt Len Std', 'Down/Up Ratio', 'Init Fwd Win Byts', 'Bwd Header Len', 'Bwd Pkts/s', 'Pkt Len Std', 'Fwd Pkts/s', 'Flow Pkts/s'], 'Adv sample 78': ['SYN Flag Cnt', 'Bwd Header Len', 'Subflow Bwd Pkts', 'Tot Bwd Pkts', 'FIN Flag Cnt', 'Flow Pkts/s', 'Fwd Pkt Len Max', 'Fwd Pkt Len Std', 'ACK Flag Cnt', 'Subflow Fwd Pkts'], 'Adv sample 79': ['SYN Flag Cnt', 'Fwd Pkt Len Std', 'Bwd Header Len', 'Fwd Pkt Len Max', 'Init Fwd Win Byts', 'Flow Byts/s', 'Down/Up Ratio', 'Subflow Fwd Pkts', 'Bwd Pkts/s', 'Bwd URG Flags'], 'Adv sample 80': ['Flow Byts/s', 'Fwd Seg Size Avg', 'Fwd Pkt Len Std', 'Pkt Len Std', 'Pkt Len Max', 'Fwd Pkt Len Max', 'Bwd Pkt Len Std', 'Down/Up Ratio', 'Idle Min', 'Fwd Pkt Len Mean'], 'Adv sample 81': ['Fwd Pkt Len Std', 'Fwd Pkt Len Max', 'Fwd Pkt Len Mean', 'Fwd Seg Size Avg', 'SYN Flag Cnt', 'Pkt Len Min', 'Pkt Len Mean', 'Fwd Act Data Pkts', 'Bwd Pkt Len Mean', 'Pkt Size Avg'], 'Adv sample 82': ['Fwd Pkt Len Max', 'Fwd Pkt Len Std', 'Fwd Pkt Len Mean', 'Fwd Seg Size Avg', 'Pkt Size Avg', 'Flow Byts/s', 'Bwd PSH Flags', 'Pkt Len Std', 'Pkt Len Max', 'Subflow Fwd Byts'], 'Adv sample 83': ['Fwd Pkt Len Max', 'Pkt Len Min', 'Bwd Header Len', 'Fwd Pkt Len Std', 'Fwd IAT Max', 'Fwd IAT Tot', 'Flow Byts/s', 'Flow IAT Max', 'Pkt Len Max', 'Fwd Seg Size Avg'], 'Adv sample 84': ['Pkt Len Min', 'Init Fwd Win Byts', 'SYN Flag Cnt', 'Bwd Pkt Len Min', 'Down/Up Ratio', 'FIN Flag Cnt', 'ACK Flag Cnt', 'Fwd Pkt Len Min', 'Flow IAT Std', 'Bwd IAT Tot'], 'Adv sample 85': ['Down/Up Ratio', 'FIN Flag Cnt', 'Init Fwd Win Byts', 'Fwd IAT Std', 'ACK Flag Cnt', 'Init Bwd Win Byts', 'Subflow Bwd Pkts', 'Bwd Pkts/s', 'Tot Fwd Pkts', 'Tot Bwd Pkts'], 'Adv sample 86': ['SYN Flag Cnt', 'Fwd Pkt Len Max', 'Fwd Pkt Len Std', 'Pkt Len Min', 'Fwd Pkt Len Mean', 'Down/Up Ratio', 'Flow Byts/s', 'Bwd Pkt Len Min', 'Fwd Pkt Len Min', 'Fwd Seg Size Avg'], 'Adv sample 87': ['SYN Flag Cnt', 'Bwd Header Len', 'Subflow Bwd Pkts', 'Tot Bwd Pkts', 'FIN Flag Cnt', 'Fwd IAT Mean', 'Fwd Pkt Len Max', 'ACK Flag Cnt', 'Pkt Len Min', 'Subflow Fwd Pkts'], 'Adv sample 88': ['Init Fwd Win Byts', 'Pkt Len Min', 'SYN Flag Cnt', 'Bwd Pkt Len Min', 'Down/Up Ratio', 'FIN Flag Cnt', 'ACK Flag Cnt', 'Fwd Pkt Len Min', 'Flow IAT Std', 'Bwd IAT Std'], 'Adv sample 89': ['SYN Flag Cnt', 'Bwd Pkts/s', 'Tot Bwd Pkts', 'Bwd Header Len', 'Subflow Bwd Pkts', 'FIN Flag Cnt', 'ACK Flag Cnt', 'Fwd IAT Min', 'Pkt Len Std', 'Fwd Pkt Len Std'], 'Adv sample 90': ['SYN Flag Cnt', 'Bwd Pkts/s', 'Bwd Header Len', 'Subflow Bwd Pkts', 'ACK Flag Cnt', 'FIN Flag Cnt', 'Fwd IAT Mean', 'Tot Bwd Pkts', 'Fwd Act Data Pkts', 'Fwd Pkt Len Mean'], 'Adv sample 91': ['Down/Up Ratio', 'ACK Flag Cnt', 'FIN Flag Cnt', 'Bwd Pkts/s', 'Flow IAT Max', 'Bwd Header Len', 'Fwd IAT Std', 'Init Bwd Win Byts', 'Fwd Pkt Len Max', 'Subflow Bwd Pkts'], 'Adv sample 92': ['Init Fwd Win Byts', 'Bwd Header Len', 'Flow Byts/s', 'Subflow Bwd Pkts', 'Down/Up Ratio', 'Fwd Pkt Len Std', 'FIN Flag Cnt', 'Pkt Len Std', 'Pkt Len Var', 'Flow Pkts/s'], 'Adv sample 93': ['SYN Flag Cnt', 'Fwd Pkt Len Max', 'Fwd Pkt Len Std', 'Down/Up Ratio', 'Bwd Header Len', 'Init Fwd Win Byts', 'Fwd Seg Size Avg', 'Fwd Pkt Len Min', 'Fwd Pkt Len Mean', 'Flow Pkts/s'], 'Adv sample 94': ['Fwd Pkt Len Std', 'Fwd Pkt Len Max', 'Bwd Header Len', 'Fwd Seg Size Avg', 'Flow Byts/s', 'Fwd Pkt Len Mean', 'Pkt Len Std', 'Pkt Len Mean', 'Fwd Pkt Len Min', 'Init Fwd Win Byts'], 'Adv sample 95': ['SYN Flag Cnt', 'Tot Bwd Pkts', 'Bwd Header Len', 'FIN Flag Cnt', 'Subflow Bwd Pkts', 'Flow Pkts/s', 'Subflow Fwd Pkts', 'Fwd IAT Mean', 'Fwd Pkt Len Max', 'Fwd Seg Size Avg'], 'Adv sample 96': ['Init Fwd Win Byts', 'SYN Flag Cnt', 'Pkt Len Min', 'Bwd Pkt Len Min', 'Down/Up Ratio', 'FIN Flag Cnt', 'ACK Flag Cnt', 'Idle Max', 'Bwd IAT Max', 'PSH Flag Cnt'], 'Adv sample 97': ['SYN Flag Cnt', 'Pkt Len Min', 'Init Fwd Win Byts', 'Bwd Pkt Len Min', 'Down/Up Ratio', 'FIN Flag Cnt', 'ACK Flag Cnt', 'Fwd Pkt Len Min', 'Flow IAT Std', 'Idle Max'], 'Adv sample 98': ['Fwd Pkt Len Std', 'Fwd Pkt Len Max', 'Pkt Len Min', 'Fwd Seg Size Avg', 'SYN Flag Cnt', 'Fwd Pkt Len Mean', 'Pkt Size Avg', 'Pkt Len Std', 'Pkt Len Max', 'Subflow Fwd Byts'], 'Adv sample 99': ['Fwd Pkt Len Max', 'Fwd Pkt Len Std', 'Flow Byts/s', 'Pkt Len Std', 'Fwd Seg Size Avg', 'Bwd Header Len', 'Fwd Pkt Len Mean', 'Fwd Header Len', 'Pkt Len Max', 'Active Std'], 'Adv sample 100': ['Fwd Pkt Len Std', 'Fwd IAT Min', 'Fwd Pkt Len Max', 'Pkt Len Min', 'Flow Byts/s', 'Fwd Pkt Len Mean', 'Fwd Seg Size Avg', 'Bwd Header Len', 'Bwd Pkts/s', 'Fwd IAT Tot'], 'Adv sample 101': ['SYN Flag Cnt', 'Subflow Bwd Pkts', 'Fwd Seg Size Avg', 'Bwd Header Len', 'FIN Flag Cnt', 'Fwd IAT Mean', 'Tot Bwd Pkts', 'Fwd Pkt Len Mean', 'Bwd IAT Max', 'Fwd Act Data Pkts'], 'Adv sample 102': ['Bwd Pkt Len Min', 'Down/Up Ratio', 'Pkt Len Min', 'SYN Flag Cnt', 'FIN Flag Cnt', 'Bwd Pkts/s', 'Flow Pkts/s', 'Fwd Act Data Pkts', 'Tot Fwd Pkts', 'Fwd Pkt Len Min'], 'Adv sample 103': ['SYN Flag Cnt', 'Bwd Pkts/s', 'Bwd Header Len', 'Subflow Bwd Pkts', 'FIN Flag Cnt', 'Tot Bwd Pkts', 'ACK Flag Cnt', 'Fwd Seg Size Avg', 'Tot Fwd Pkts', 'Bwd IAT Std'], 'Adv sample 104': ['Fwd Pkt Len Std', 'Fwd Header Len', 'ACK Flag Cnt', 'Down/Up Ratio', 'Fwd Pkt Len Max', 'SYN Flag Cnt', 'Pkt Len Std', 'Fwd Seg Size Avg', 'Fwd Pkt Len Min', 'Bwd Pkts/s'], 'Adv sample 105': ['Pkt Len Std', 'Pkt Len Max', 'Pkt Size Avg', 'Fwd Pkt Len Std', 'Fwd Seg Size Avg', 'FIN Flag Cnt', 'Fwd Pkt Len Max', 'Fwd Pkt Len Mean', 'Bwd Pkts/s', 'ACK Flag Cnt'], 'Adv sample 106': ['Flow Duration', 'Fwd IAT Tot', 'Fwd Pkt Len Max', 'Flow IAT Max', 'ACK Flag Cnt', 'Down/Up Ratio', 'Pkt Len Std', 'Fwd Pkt Len Std', 'Subflow Bwd Pkts', 'Fwd IAT Std'], 'Adv sample 107': ['SYN Flag Cnt', 'Bwd Pkts/s', 'Bwd Header Len', 'Subflow Bwd Pkts', 'Tot Bwd Pkts', 'ACK Flag Cnt', 'FIN Flag Cnt', 'Pkt Len Std', 'Tot Fwd Pkts', 'Fwd Pkt Len Std'], 'Adv sample 108': ['Fwd Pkt Len Std', 'SYN Flag Cnt', 'Pkt Len Mean', 'Down/Up Ratio', 'Flow Byts/s', 'Fwd Pkt Len Max', 'Fwd Pkt Len Mean', 'Fwd Seg Size Avg', 'Fwd Pkt Len Min', 'Bwd Header Len'], 'Adv sample 109': ['SYN Flag Cnt', 'Fwd Pkt Len Max', 'Pkt Len Min', 'Flow Pkts/s', 'Fwd Seg Size Avg', 'Fwd Pkt Len Mean', 'Down/Up Ratio', 'Fwd Pkt Len Std', 'Bwd Header Len', 'FIN Flag Cnt'], 'Adv sample 110': ['Fwd Pkt Len Std', 'Fwd Pkt Len Max', 'Fwd IAT Tot', 'Fwd IAT Std', 'Bwd IAT Tot', 'Flow Byts/s', 'Pkt Len Max', 'Fwd Pkt Len Mean', 'Pkt Len Std', 'Fwd Seg Size Avg'], 'Adv sample 111': ['SYN Flag Cnt', 'Bwd Header Len', 'Flow Pkts/s', 'Tot Bwd Pkts', 'FIN Flag Cnt', 'Subflow Bwd Pkts', 'Fwd Pkt Len Std', 'Tot Fwd Pkts', 'Pkt Size Avg', 'Subflow Fwd Pkts'], 'Adv sample 112': ['SYN Flag Cnt', 'Fwd Pkt Len Max', 'Fwd Pkt Len Std', 'Pkt Len Min', 'Flow Byts/s', 'Flow IAT Std', 'Bwd Pkt Len Min', 'Fwd Pkt Len Mean', 'Fwd Seg Size Avg', 'FIN Flag Cnt'], 'Adv sample 113': ['Fwd Pkt Len Std', 'Fwd Pkt Len Max', 'Fwd Seg Size Avg', 'SYN Flag Cnt', 'Flow Byts/s', 'Pkt Len Std', 'Pkt Size Avg', 'Pkt Len Max', 'Fwd Pkt Len Mean', 'Tot Fwd Pkts'], 'Adv sample 114': ['SYN Flag Cnt', 'Bwd Header Len', 'Flow Pkts/s', 'Down/Up Ratio', 'Tot Bwd Pkts', 'Init Fwd Win Byts', 'FIN Flag Cnt', 'Subflow Bwd Pkts', 'Fwd Pkt Len Max', 'PSH Flag Cnt'], 'Adv sample 115': ['Pkt Len Min', 'Init Fwd Win Byts', 'SYN Flag Cnt', 'Bwd Pkt Len Min', 'FIN Flag Cnt', 'Down/Up Ratio', 'ACK Flag Cnt', 'Fwd Pkt Len Min', 'Idle Mean', 'Bwd URG Flags'], 'Adv sample 116': ['SYN Flag Cnt', 'Flow Pkts/s', 'Down/Up Ratio', 'Bwd Pkts/s', 'FIN Flag Cnt', 'Bwd IAT Std', 'Fwd Pkt Len Max', 'Flow Duration', 'Idle Max', 'ACK Flag Cnt'], 'Adv sample 117': ['SYN Flag Cnt', 'Init Fwd Win Byts', 'Pkt Len Min', 'Bwd Pkt Len Min', 'Down/Up Ratio', 'FIN Flag Cnt', 'ACK Flag Cnt', 'Fwd Pkt Len Min', 'Fwd IAT Min', 'Flow IAT Std'], 'Adv sample 118': ['SYN Flag Cnt', 'Fwd Pkt Len Std', 'Init Bwd Win Byts', 'Bwd Header Len', 'Fwd Pkt Len Max', 'Fwd Seg Size Avg', 'Fwd Pkt Len Mean', 'FIN Flag Cnt', 'Pkt Len Std', 'Flow Byts/s'], 'Adv sample 119': ['SYN Flag Cnt', 'Down/Up Ratio', 'Flow Pkts/s', 'FIN Flag Cnt', 'ACK Flag Cnt', 'Bwd Pkts/s', 'Bwd Header Len', 'Tot Bwd Pkts', 'Flow IAT Std', 'Flow Duration'], 'Adv sample 120': ['Fwd Pkt Len Max', 'Fwd Pkt Len Std', 'SYN Flag Cnt', 'Fwd Pkt Len Mean', 'Active Std', 'Pkt Len Min', 'Fwd Seg Size Avg', 'Flow Byts/s', 'Pkt Size Avg', 'Init Bwd Win Byts'], 'Adv sample 121': ['SYN Flag Cnt', 'Down/Up Ratio', 'Flow Pkts/s', 'FIN Flag Cnt', 'ACK Flag Cnt', 'Bwd Pkts/s', 'Subflow Bwd Pkts', 'Flow Duration', 'Bwd IAT Std', 'Tot Bwd Pkts'], 'Adv sample 122': ['Fwd Pkt Len Max', 'Fwd Pkt Len Std', 'Flow Byts/s', 'SYN Flag Cnt', 'Pkt Len Min', 'Fwd Seg Size Avg', 'Fwd Pkt Len Min', 'Pkt Size Avg', 'Pkt Len Max', 'Pkt Len Std'], 'Adv sample 123': ['Down/Up Ratio', 'Init Fwd Win Byts', 'SYN Flag Cnt', 'FIN Flag Cnt', 'PSH Flag Cnt', 'Bwd Pkts/s', 'Flow Pkts/s', 'Fwd IAT Tot', 'Fwd IAT Min', 'TotLen Bwd Pkts'], 'Adv sample 124': ['SYN Flag Cnt', 'Bwd Pkts/s', 'Bwd Header Len', 'ACK Flag Cnt', 'FIN Flag Cnt', 'Tot Bwd Pkts', 'Subflow Bwd Pkts', 'Fwd Pkt Len Std', 'Fwd Pkt Len Mean', 'Fwd IAT Max'], 'Adv sample 125': ['SYN Flag Cnt', 'Fwd Pkt Len Std', 'Init Bwd Win Byts', 'Fwd Pkt Len Max', 'Bwd Header Len', 'Pkt Len Min', 'Fwd IAT Tot', 'Fwd Pkt Len Min', 'Pkt Len Std', 'FIN Flag Cnt'], 'Adv sample 126': ['SYN Flag Cnt', 'Bwd Pkts/s', 'Tot Bwd Pkts', 'Subflow Bwd Pkts', 'FIN Flag Cnt', 'Fwd Pkt Len Mean', 'ACK Flag Cnt', 'Fwd Pkt Len Max', 'Fwd Header Len', 'Bwd IAT Std'], 'Adv sample 127': ['Fwd Pkt Len Std', 'Fwd Pkt Len Max', 'Fwd Seg Size Avg', 'Flow Byts/s', 'Fwd Pkt Len Mean', 'Pkt Len Max', 'Pkt Len Mean', 'Fwd Pkt Len Min', 'Bwd Header Len', 'Bwd IAT Tot'], 'Adv sample 128': ['Fwd Pkt Len Max', 'Fwd Pkt Len Std', 'Fwd Pkt Len Mean', 'Bwd Header Len', 'Fwd Seg Size Avg', 'Pkt Len Std', 'SYN Flag Cnt', 'Init Fwd Win Byts', 'Tot Bwd Pkts', 'Bwd Pkts/s'], 'Adv sample 129': ['Fwd Pkt Len Max', 'Fwd Pkt Len Mean', 'Fwd Pkt Len Std', 'Flow Byts/s', 'Pkt Len Std', 'Fwd Seg Size Avg', 'Pkt Size Avg', 'Pkt Len Mean', 'Bwd IAT Tot', 'Pkt Len Max'], 'Adv sample 130': ['Init Fwd Win Byts', 'Pkt Len Min', 'SYN Flag Cnt', 'Bwd Pkt Len Min', 'Down/Up Ratio', 'FIN Flag Cnt', 'ACK Flag Cnt', 'Bwd IAT Max', 'Idle Max', 'Flow IAT Mean'], 'Adv sample 131': ['Fwd Pkt Len Std', 'Fwd Pkt Len Max', 'Pkt Len Mean', 'Bwd Pkts/s', 'Pkt Len Max', 'SYN Flag Cnt', 'Pkt Size Avg', 'Fwd Header Len', 'Fwd Pkt Len Min', 'Tot Fwd Pkts'], 'Adv sample 132': ['SYN Flag Cnt', 'Bwd Header Len', 'Fwd Seg Size Avg', 'Bwd Pkts/s', 'Subflow Bwd Pkts', 'FIN Flag Cnt', 'ACK Flag Cnt', 'Fwd Pkt Len Std', 'Fwd Pkt Len Max', 'Fwd IAT Mean'], 'Adv sample 133': ['Down/Up Ratio', 'Init Fwd Win Byts', 'SYN Flag Cnt', 'FIN Flag Cnt', 'Flow Pkts/s', 'Bwd Pkts/s', 'PSH Flag Cnt', 'Flow IAT Std', 'Flow IAT Mean', 'Bwd Pkt Len Mean'], 'Adv sample 134': ['Fwd Pkt Len Max', 'Fwd Pkt Len Std', 'Flow Byts/s', 'Fwd Seg Size Avg', 'Pkt Len Std', 'Pkt Size Avg', 'Pkt Len Max', 'Bwd IAT Tot', 'Bwd Pkts/s', 'Pkt Len Mean'], 'Adv sample 135': ['SYN Flag Cnt', 'Tot Bwd Pkts', 'Bwd Pkts/s', 'Subflow Bwd Pkts', 'Fwd Seg Size Avg', 'Bwd Header Len', 'ACK Flag Cnt', 'FIN Flag Cnt', 'Fwd Pkt Len Mean', 'Fwd Pkt Len Std'], 'Adv sample 136': ['Pkt Len Min', 'Fwd IAT Tot', 'Bwd Pkts/s', 'Bwd Header Len', 'Fwd IAT Std', 'FIN Flag Cnt', 'Fwd IAT Min', 'ACK Flag Cnt', 'Flow IAT Max', 'Fwd Pkt Len Max'], 'Adv sample 137': ['Pkt Len Min', 'Init Fwd Win Byts', 'SYN Flag Cnt', 'Bwd Pkt Len Min', 'Down/Up Ratio', 'FIN Flag Cnt', 'ACK Flag Cnt', 'Bwd IAT Std', 'Fwd Pkt Len Min', 'Bwd IAT Max'], 'Adv sample 138': ['Fwd Pkt Len Max', 'Fwd Pkt Len Std', 'Fwd Seg Size Avg', 'Fwd Pkt Len Mean', 'Flow Byts/s', 'Pkt Len Std', 'Pkt Len Min', 'Bwd Header Len', 'Pkt Size Avg', 'Bwd IAT Tot'], 'Adv sample 139': ['Pkt Len Max', 'Flow Byts/s', 'Down/Up Ratio', 'Pkt Len Std', 'Fwd IAT Std', 'Fwd Pkt Len Max', 'Flow IAT Max', 'Fwd Pkt Len Std', 'Idle Mean', 'Bwd Pkts/s'], 'Adv sample 140': ['Flow Byts/s', 'Fwd Pkt Len Std', 'Fwd Pkt Len Max', 'Fwd Pkt Len Mean', 'Fwd Seg Size Avg', 'Pkt Len Max', 'ACK Flag Cnt', 'Pkt Len Std', 'Fwd IAT Max', 'Flow Pkts/s'], 'Adv sample 141': ['Pkt Len Min', 'Init Fwd Win Byts', 'SYN Flag Cnt', 'Bwd Pkt Len Min', 'Down/Up Ratio', 'FIN Flag Cnt', 'ACK Flag Cnt', 'Fwd Pkt Len Min', 'Bwd IAT Std', 'Flow IAT Std'], 'Adv sample 142': ['SYN Flag Cnt', 'Bwd Pkts/s', 'Tot Bwd Pkts', 'Bwd Header Len', 'Subflow Bwd Pkts', 'Fwd Header Len', 'ACK Flag Cnt', 'FIN Flag Cnt', 'Bwd IAT Std', 'Pkt Len Std'], 'Adv sample 143': ['SYN Flag Cnt', 'Fwd Pkt Len Std', 'Init Bwd Win Byts', 'Fwd Pkt Len Max', 'Pkt Len Min', 'Bwd Header Len', 'FIN Flag Cnt', 'Fwd Seg Size Avg', 'Flow Byts/s', 'Pkt Len Std'], 'Adv sample 144': ['Down/Up Ratio', 'Bwd Pkts/s', 'Fwd Pkt Len Max', 'Tot Bwd Pkts', 'FIN Flag Cnt', 'ACK Flag Cnt', 'Fwd Pkt Len Mean', 'Fwd Seg Size Avg', 'Flow IAT Max', 'Pkt Len Std'], 'Adv sample 145': ['SYN Flag Cnt', 'Flow Pkts/s', 'Down/Up Ratio', 'ACK Flag Cnt', 'FIN Flag Cnt', 'Bwd Pkts/s', 'Bwd Header Len', 'Flow Duration', 'Bwd IAT Std', 'Tot Fwd Pkts'], 'Adv sample 146': ['Init Fwd Win Byts', 'Bwd Pkt Len Min', 'Pkt Len Min', 'SYN Flag Cnt', 'Down/Up Ratio', 'FIN Flag Cnt', 'ACK Flag Cnt', 'Fwd Pkt Len Min', 'Bwd IAT Tot', 'Idle Std'], 'Adv sample 147': ['Fwd Pkt Len Max', 'Fwd Pkt Len Mean', 'Fwd Pkt Len Std', 'Fwd IAT Min', 'ACK Flag Cnt', 'Bwd Header Len', 'Fwd IAT Tot', 'Idle Min', 'FIN Flag Cnt', 'Fwd Seg Size Avg'], 'Adv sample 148': ['SYN Flag Cnt', 'Bwd Pkts/s', 'Tot Bwd Pkts', 'Bwd Header Len', 'ACK Flag Cnt', 'Fwd Pkt Len Std', 'FIN Flag Cnt', 'Tot Fwd Pkts', 'Subflow Bwd Pkts', 'Fwd Seg Size Avg'], 'Adv sample 149': ['SYN Flag Cnt', 'Bwd Header Len', 'Subflow Bwd Pkts', 'FIN Flag Cnt', 'Tot Bwd Pkts', 'Flow Pkts/s', 'Fwd Pkt Len Mean', 'Fwd Pkt Len Max', 'Flow IAT Std', 'Fwd IAT Std'], 'Adv sample 150': ['Init Fwd Win Byts', 'Fwd Pkt Len Std', 'FIN Flag Cnt', 'Flow Byts/s', 'Fwd Pkt Len Max', 'Down/Up Ratio', 'Tot Bwd Pkts', 'Bwd Header Len', 'Pkt Size Avg', 'Pkt Len Max'], 'Adv sample 151': ['Fwd Pkt Len Std', 'SYN Flag Cnt', 'Init Fwd Win Byts', 'Bwd Header Len', 'Fwd Pkt Len Max', 'Down/Up Ratio', 'Fwd Pkt Len Mean', 'Tot Bwd Pkts', 'Bwd Pkts/s', 'Flow Byts/s'], 'Adv sample 152': ['SYN Flag Cnt', 'Bwd Header Len', 'Flow Pkts/s', 'Down/Up Ratio', 'Fwd Pkt Len Mean', 'Pkt Len Min', 'Tot Bwd Pkts', 'Subflow Bwd Pkts', 'Fwd Pkt Len Max', 'FIN Flag Cnt'], 'Adv sample 153': ['Fwd Pkt Len Max', 'Fwd Pkt Len Std', 'Fwd Pkt Len Mean', 'Pkt Size Avg', 'SYN Flag Cnt', 'Pkt Len Min', 'Pkt Len Mean', 'Flow Byts/s', 'Bwd Seg Size Avg', 'Fwd Pkt Len Min'], 'Adv sample 154': ['Init Fwd Win Byts', 'Down/Up Ratio', 'Fwd Pkt Len Mean', 'Bwd Pkt Len Min', 'Fwd Pkt Len Std', 'Pkt Len Min', 'FIN Flag Cnt', 'Tot Bwd Pkts', 'Fwd Pkt Len Max', 'Flow Pkts/s'], 'Adv sample 155': ['Fwd Pkt Len Max', 'Fwd Pkt Len Std', 'Pkt Len Min', 'Pkt Len Mean', 'Pkt Size Avg', 'Fwd Seg Size Avg', 'Fwd Pkt Len Mean', 'SYN Flag Cnt', 'Init Bwd Win Byts', 'Pkt Len Max'], 'Adv sample 156': ['Down/Up Ratio', 'Fwd IAT Max', 'Fwd IAT Std', 'Init Bwd Win Byts', 'Fwd IAT Min', 'Init Fwd Win Byts', 'Fwd IAT Tot', 'FIN Flag Cnt', 'Idle Min', 'Flow IAT Mean'], 'Adv sample 157': ['SYN Flag Cnt', 'Init Bwd Win Byts', 'Flow Byts/s', 'Fwd Pkt Len Max', 'Fwd Pkt Len Std', 'Pkt Len Min', 'Fwd Seg Size Avg', 'Subflow Bwd Pkts', 'FIN Flag Cnt', 'Tot Bwd Pkts'], 'Adv sample 158': ['Fwd Pkt Len Std', 'Fwd Pkt Len Max', 'Fwd Pkt Len Mean', 'SYN Flag Cnt', 'Flow Byts/s', 'Init Fwd Win Byts', 'Pkt Len Min', 'Fwd Pkt Len Min', 'Pkt Size Avg', 'FIN Flag Cnt'], 'Adv sample 159': ['Init Fwd Win Byts', 'SYN Flag Cnt', 'Pkt Len Min', 'Bwd Pkt Len Min', 'Down/Up Ratio', 'FIN Flag Cnt', 'ACK Flag Cnt', 'Bwd IAT Std', 'Fwd IAT Min', 'PSH Flag Cnt'], 'Adv sample 160': ['Bwd Pkts/s', 'Down/Up Ratio', 'Flow IAT Max', 'Flow Byts/s', 'Fwd IAT Max', 'FIN Flag Cnt', 'Init Fwd Win Byts', 'Fwd IAT Min', 'Bwd Header Len', 'ACK Flag Cnt'], 'Adv sample 161': ['SYN Flag Cnt', 'Bwd Header Len', 'Tot Bwd Pkts', 'Subflow Bwd Pkts', 'FIN Flag Cnt', 'Tot Fwd Pkts', 'Fwd Seg Size Avg', 'Fwd IAT Mean', 'ACK Flag Cnt', 'Fwd Pkt Len Std'], 'Adv sample 162': ['Fwd Pkt Len Max', 'Pkt Len Std', 'Fwd Pkt Len Mean', 'Fwd Pkt Len Std', 'Flow Byts/s', 'Down/Up Ratio', 'Pkt Len Mean', 'Pkt Len Min', 'Fwd Seg Size Avg', 'Pkt Size Avg'], 'Adv sample 163': ['Flow Byts/s', 'Bwd Header Len', 'Fwd Pkt Len Mean', 'Fwd IAT Min', 'Pkt Len Min', 'Fwd Pkt Len Max', 'Fwd IAT Max', 'Fwd Seg Size Avg', 'Fwd Pkt Len Std', 'Flow IAT Max'], 'Adv sample 164': ['SYN Flag Cnt', 'Fwd Pkt Len Std', 'Fwd Pkt Len Max', 'Init Fwd Win Byts', 'Fwd Pkt Len Mean', 'Bwd Header Len', 'Tot Bwd Pkts', 'Pkt Len Mean', 'Fwd Pkts/s', 'Pkt Len Std'], 'Adv sample 165': ['Init Fwd Win Byts', 'SYN Flag Cnt', 'Pkt Len Min', 'Bwd Pkt Len Min', 'Down/Up Ratio', 'FIN Flag Cnt', 'ACK Flag Cnt', 'Fwd URG Flags', 'Tot Bwd Pkts', 'Bwd Pkt Len Max'], 'Adv sample 166': ['SYN Flag Cnt', 'Bwd Pkts/s', 'Bwd Header Len', 'Tot Bwd Pkts', 'FIN Flag Cnt', 'Subflow Bwd Pkts', 'Fwd Pkt Len Max', 'Subflow Fwd Pkts', 'ACK Flag Cnt', 'Pkt Len Std'], 'Adv sample 167': ['SYN Flag Cnt', 'Fwd Pkt Len Max', 'Pkt Len Min', 'Fwd Pkt Len Std', 'Init Bwd Win Byts', 'Flow Byts/s', 'Bwd Header Len', 'Fwd Pkt Len Mean', 'FIN Flag Cnt', 'Tot Bwd Pkts'], 'Adv sample 168': ['Fwd IAT Std', 'Down/Up Ratio', 'Pkt Len Min', 'Fwd IAT Min', 'ACK Flag Cnt', 'Idle Mean', 'Flow IAT Std', 'Bwd Pkts/s', 'Flow Byts/s', 'Pkt Len Max'], 'Adv sample 169': ['Init Fwd Win Byts', 'Pkt Len Min', 'SYN Flag Cnt', 'Bwd Pkt Len Min', 'Down/Up Ratio', 'FIN Flag Cnt', 'ACK Flag Cnt', 'Flow IAT Max', 'PSH Flag Cnt', 'Fwd Byts/b Avg'], 'Adv sample 170': ['Bwd Header Len', 'Bwd Pkts/s', 'Pkt Len Std', 'Down/Up Ratio', 'Fwd Pkt Len Max', 'Pkt Len Max', 'Flow Byts/s', 'ACK Flag Cnt', 'FIN Flag Cnt', 'Flow Pkts/s'], 'Adv sample 171': ['Fwd Pkt Len Max', 'Fwd Pkt Len Std', 'Fwd Seg Size Avg', 'Fwd Pkt Len Mean', 'Flow Byts/s', 'Pkt Len Max', 'Bwd IAT Tot', 'Fwd Pkt Len Min', 'Pkt Size Avg', 'Pkt Len Std'], 'Adv sample 172': ['SYN Flag Cnt', 'Tot Fwd Pkts', 'Pkt Len Min', 'Flow Pkts/s', 'Fwd Pkt Len Mean', 'Pkt Size Avg', 'Pkt Len Mean', 'Init Fwd Win Byts', 'Down/Up Ratio', 'Fwd Seg Size Avg'], 'Adv sample 173': ['SYN Flag Cnt', 'Fwd Pkt Len Std', 'Fwd Pkt Len Max', 'Init Bwd Win Byts', 'Bwd Header Len', 'Pkt Len Min', 'FIN Flag Cnt', 'Subflow Bwd Pkts', 'Flow Byts/s', 'Pkt Size Avg'], 'Adv sample 174': ['Bwd Header Len', 'Init Fwd Win Byts', 'Down/Up Ratio', 'Fwd Pkt Len Std', 'Fwd Pkt Len Min', 'Pkt Len Max', 'Fwd IAT Min', 'Pkt Len Std', 'Flow Byts/s', 'FIN Flag Cnt'], 'Adv sample 175': ['SYN Flag Cnt', 'Subflow Bwd Pkts', 'Bwd Header Len', 'Tot Bwd Pkts', 'Bwd Pkts/s', 'FIN Flag Cnt', 'Fwd Pkt Len Std', 'ACK Flag Cnt', 'Fwd IAT Mean', 'Tot Fwd Pkts'], 'Adv sample 176': ['Fwd Pkt Len Std', 'ACK Flag Cnt', 'Fwd Pkt Len Mean', 'Fwd Pkt Len Max', 'SYN Flag Cnt', 'Pkt Size Avg', 'Down/Up Ratio', 'Bwd Pkts/s', 'Fwd Seg Size Avg', 'Pkt Len Mean'], 'Adv sample 177': ['Bwd Header Len', 'Fwd Pkt Len Mean', 'Fwd IAT Tot', 'Fwd Pkt Len Max', 'Active Max', 'Flow Byts/s', 'Fwd Seg Size Avg', 'FIN Flag Cnt', 'Fwd Pkt Len Std', 'ACK Flag Cnt'], 'Adv sample 178': ['Pkt Len Min', 'Down/Up Ratio', 'SYN Flag Cnt', 'Bwd Pkt Len Min', 'FIN Flag Cnt', 'Bwd Pkts/s', 'Flow Pkts/s', 'Fwd IAT Tot', 'Fwd Pkt Len Min', 'Bwd Header Len'], 'Adv sample 179': ['Init Fwd Win Byts', 'SYN Flag Cnt', 'Pkt Len Min', 'Bwd Pkt Len Min', 'Down/Up Ratio', 'FIN Flag Cnt', 'ACK Flag Cnt', 'Flow IAT Max', 'Flow IAT Std', 'Fwd Pkt Len Min'], 'Adv sample 180': ['Bwd Pkts/s', 'Fwd Pkt Len Max', 'Fwd Pkt Len Mean', 'Pkt Len Max', 'Fwd IAT Tot', 'Flow Byts/s', 'Bwd Header Len', 'Pkt Len Std', 'FIN Flag Cnt', 'Fwd Seg Size Avg'], 'Adv sample 181': ['Init Fwd Win Byts', 'Down/Up Ratio', 'Fwd Pkt Len Mean', 'Fwd Pkt Len Std', 'Flow Byts/s', 'Flow Pkts/s', 'Bwd Header Len', 'Pkt Len Max', 'Fwd IAT Min', 'Tot Bwd Pkts'], 'Adv sample 182': ['Fwd Pkt Len Std', 'Fwd Pkt Len Max', 'Flow Byts/s', 'Fwd Seg Size Avg', 'Bwd Header Len', 'Pkt Len Min', 'Fwd Pkt Len Mean', 'Pkt Len Std', 'Pkt Len Mean', 'Pkt Size Avg'], 'Adv sample 183': ['SYN Flag Cnt', 'Bwd Pkts/s', 'Bwd Header Len', 'Subflow Bwd Pkts', 'Tot Bwd Pkts', 'ACK Flag Cnt', 'Subflow Fwd Pkts', 'Fwd Header Len', 'FIN Flag Cnt', 'Fwd IAT Mean'], 'Adv sample 184': ['SYN Flag Cnt', 'Fwd Pkt Len Std', 'Init Bwd Win Byts', 'Fwd Pkt Len Max', 'Subflow Fwd Pkts', 'Pkt Len Min', 'Fwd IAT Mean', 'FIN Flag Cnt', 'Bwd Header Len', 'Fwd Pkt Len Mean'], 'Adv sample 185': ['SYN Flag Cnt', 'Fwd Pkt Len Max', 'Fwd Pkt Len Std', 'Pkt Len Min', 'Fwd Pkt Len Mean', 'Down/Up Ratio', 'Flow Pkts/s', 'FIN Flag Cnt', 'Fwd Seg Size Avg', 'Bwd Pkt Len Min'], 'Adv sample 186': ['Fwd Pkt Len Std', 'Fwd Pkt Len Max', 'Fwd Pkt Len Mean', 'SYN Flag Cnt', 'Fwd Seg Size Avg', 'Pkt Size Avg', 'Pkt Len Min', 'Fwd Pkt Len Min', 'Fwd IAT Tot', 'Active Std'], 'Adv sample 187': ['SYN Flag Cnt', 'Flow Pkts/s', 'Down/Up Ratio', 'ACK Flag Cnt', 'FIN Flag Cnt', 'Bwd Pkts/s', 'Bwd Header Len', 'Flow Duration', 'Subflow Bwd Pkts', 'Flow IAT Mean'], 'Adv sample 188': ['SYN Flag Cnt', 'Fwd Pkt Len Std', 'Fwd Pkt Len Max', 'Pkt Len Std', 'Pkt Len Min', 'Subflow Bwd Pkts', 'FIN Flag Cnt', 'Bwd Header Len', 'Flow Byts/s', 'Bwd Blk Rate Avg'], 'Adv sample 189': ['SYN Flag Cnt', 'Bwd Header Len', 'Tot Bwd Pkts', 'Bwd Pkts/s', 'Subflow Bwd Pkts', 'FIN Flag Cnt', 'Fwd Pkt Len Max', 'Tot Fwd Pkts', 'Fwd IAT Mean', 'Fwd Header Len'], 'Adv sample 190': ['SYN Flag Cnt', 'Tot Bwd Pkts', 'Bwd Pkts/s', 'Subflow Bwd Pkts', 'Bwd Header Len', 'FIN Flag Cnt', 'ACK Flag Cnt', 'Fwd Header Len', 'Fwd Act Data Pkts', 'Subflow Fwd Pkts'], 'Adv sample 191': ['SYN Flag Cnt', 'Flow Pkts/s', 'FIN Flag Cnt', 'Bwd Pkts/s', 'Tot Bwd Pkts', 'Bwd IAT Std', 'Fwd IAT Min', 'Bwd Header Len', 'Fwd IAT Max', 'Subflow Bwd Pkts'], 'Adv sample 192': ['Pkt Len Min', 'SYN Flag Cnt', 'Down/Up Ratio', 'Bwd Pkt Len Min', 'Flow Pkts/s', 'Bwd Pkts/s', 'FIN Flag Cnt', 'Fwd Header Len', 'Fwd Pkt Len Std', 'Bwd IAT Std'], 'Adv sample 193': ['SYN Flag Cnt', 'Fwd Pkt Len Max', 'Fwd Pkt Len Std', 'Pkt Len Min', 'Bwd PSH Flags', 'Pkt Len Mean', 'Fwd Pkt Len Mean', 'Fwd Seg Size Avg', 'Pkt Len Max', 'Tot Bwd Pkts'], 'Adv sample 194': ['Fwd IAT Min', 'Fwd Pkt Len Mean', 'Flow IAT Std', 'Fwd Pkt Len Std', 'Flow Byts/s', 'Fwd Pkt Len Max', 'Flow IAT Max', 'FIN Flag Cnt', 'Pkt Len Max', 'Fwd Pkt Len Min'], 'Adv sample 195': ['Pkt Len Min', 'Down/Up Ratio', 'SYN Flag Cnt', 'Bwd Pkt Len Min', 'FIN Flag Cnt', 'Bwd Pkts/s', 'Fwd Pkt Len Min', 'Flow Pkts/s', 'Bwd IAT Std', 'Fwd Header Len'], 'Adv sample 196': ['Init Fwd Win Byts', 'Pkt Len Min', 'SYN Flag Cnt', 'Bwd Pkt Len Min', 'Down/Up Ratio', 'FIN Flag Cnt', 'Fwd Pkt Len Min', 'ACK Flag Cnt', 'Bwd IAT Max', 'Fwd IAT Tot'], 'Adv sample 197': ['Init Fwd Win Byts', 'Pkt Len Min', 'SYN Flag Cnt', 'Bwd Pkt Len Min', 'Down/Up Ratio', 'FIN Flag Cnt', 'ACK Flag Cnt', 'Fwd IAT Std', 'Flow Duration', 'Fwd Seg Size Min'], 'Adv sample 198': ['Fwd Pkt Len Mean', 'Flow Byts/s', 'Fwd Pkt Len Max', 'Fwd Pkt Len Std', 'FIN Flag Cnt', 'Pkt Len Std', 'Tot Bwd Pkts', 'Fwd IAT Min', 'Pkt Len Min', 'Idle Mean'], 'Adv sample 199': ['Fwd Pkt Len Std', 'SYN Flag Cnt', 'Fwd Pkt Len Mean', 'Fwd Seg Size Avg', 'Pkt Len Max', 'Down/Up Ratio', 'Pkt Len Std', 'ACK Flag Cnt', 'Fwd Pkt Len Max', 'Bwd Pkts/s'], 'Adv sample 200': ['Bwd Header Len', 'Bwd PSH Flags', 'SYN Flag Cnt', 'Bwd Pkts/s', 'Fwd Pkt Len Max', 'Fwd Pkt Len Std', 'Fwd Pkt Len Mean', 'Tot Bwd Pkts', 'Bwd IAT Std', 'Fwd Seg Size Avg'], 'Adv sample 201': ['Init Fwd Win Byts', 'Pkt Len Min', 'Bwd Pkt Len Min', 'SYN Flag Cnt', 'FIN Flag Cnt', 'Down/Up Ratio', 'ACK Flag Cnt', 'Fwd Pkt Len Min', 'Bwd IAT Std', 'Fwd IAT Mean'], 'Adv sample 202': ['Fwd Pkt Len Max', 'SYN Flag Cnt', 'Fwd Pkt Len Std', 'Fwd Pkt Len Mean', 'Pkt Len Max', 'Flow Byts/s', 'Bwd Pkt Len Min', 'Pkt Len Min', 'Fwd Seg Size Avg', 'FIN Flag Cnt'], 'Adv sample 203': ['Pkt Len Min', 'SYN Flag Cnt', 'Init Fwd Win Byts', 'Bwd Pkt Len Min', 'Down/Up Ratio', 'FIN Flag Cnt', 'ACK Flag Cnt', 'Fwd Pkt Len Min', 'Bwd IAT Max', 'Bwd Header Len'], 'Adv sample 204': ['SYN Flag Cnt', 'Bwd Header Len', 'Subflow Bwd Pkts', 'Tot Bwd Pkts', 'FIN Flag Cnt', 'Fwd Pkt Len Std', 'Fwd Pkt Len Mean', 'Pkt Size Avg', 'Bwd IAT Std', 'Idle Max'], 'Adv sample 205': ['Fwd Pkt Len Mean', 'Fwd Pkt Len Std', 'Fwd Pkt Len Max', 'Flow Byts/s', 'Fwd Seg Size Avg', 'Pkt Len Std', 'FIN Flag Cnt', 'Fwd IAT Min', 'Pkt Len Var', 'Bwd Pkt Len Std'], 'Adv sample 206': ['Fwd IAT Tot', 'Bwd Pkts/s', 'Idle Max', 'Fwd IAT Std', 'FIN Flag Cnt', 'Pkt Len Std', 'ACK Flag Cnt', 'Idle Mean', 'Down/Up Ratio', 'Fwd IAT Min'], 'Adv sample 207': ['Bwd Header Len', 'Flow IAT Max', 'Pkt Len Min', 'Fwd Pkt Len Std', 'Fwd Pkt Len Max', 'Fwd IAT Max', 'Fwd IAT Tot', 'Bwd Pkts/s', 'Pkt Len Max', 'Fwd IAT Std'], 'Adv sample 208': ['SYN Flag Cnt', 'Fwd Pkt Len Std', 'Init Bwd Win Byts', 'Fwd Pkt Len Max', 'Pkt Len Min', 'Fwd Pkt Len Mean', 'Fwd Seg Size Avg', 'Flow Byts/s', 'Pkt Size Avg', 'FIN Flag Cnt'], 'Adv sample 209': ['SYN Flag Cnt', 'Bwd Pkts/s', 'Bwd Header Len', 'Tot Bwd Pkts', 'Subflow Bwd Pkts', 'Fwd Pkt Len Max', 'ACK Flag Cnt', 'FIN Flag Cnt', 'Bwd IAT Max', 'Bwd Pkt Len Max'], 'Adv sample 210': ['Bwd Header Len', 'SYN Flag Cnt', 'Flow Pkts/s', 'Bwd Pkts/s', 'Init Fwd Win Byts', 'Down/Up Ratio', 'FIN Flag Cnt', 'Subflow Bwd Pkts', 'Bwd Pkt Len Mean', 'Fwd Header Len'], 'Adv sample 211': ['SYN Flag Cnt', 'Bwd Header Len', 'Subflow Bwd Pkts', 'Tot Bwd Pkts', 'FIN Flag Cnt', 'Bwd Pkts/s', 'ACK Flag Cnt', 'Tot Fwd Pkts', 'Bwd IAT Std', 'Fwd IAT Max'], 'Adv sample 212': ['Bwd Header Len', 'Bwd Pkts/s', 'Flow Byts/s', 'Flow Pkts/s', 'Init Fwd Win Byts', 'Tot Bwd Pkts', 'FIN Flag Cnt', 'Init Bwd Win Byts', 'Subflow Bwd Pkts', 'TotLen Bwd Pkts'], 'Adv sample 213': ['Fwd Pkt Len Max', 'Bwd Header Len', 'Fwd Pkt Len Mean', 'Fwd Seg Size Avg', 'Pkt Len Std', 'Flow Byts/s', 'Fwd Pkt Len Std', 'Pkt Len Min', 'Pkt Size Avg', 'Init Fwd Win Byts'], 'Adv sample 214': ['SYN Flag Cnt', 'Fwd Pkt Len Std', 'Pkt Len Min', 'Fwd Pkt Len Max', 'Subflow Fwd Pkts', 'Flow Byts/s', 'Fwd Pkt Len Mean', 'Init Bwd Win Byts', 'FIN Flag Cnt', 'Tot Bwd Pkts'], 'Adv sample 215': ['Init Fwd Win Byts', 'Pkt Len Min', 'SYN Flag Cnt', 'Bwd Pkt Len Min', 'FIN Flag Cnt', 'Down/Up Ratio', 'ACK Flag Cnt', 'Fwd Pkt Len Min', 'Bwd Blk Rate Avg', 'Fwd IAT Mean'], 'Adv sample 216': ['SYN Flag Cnt', 'Pkt Len Min', 'Fwd Pkt Len Max', 'Down/Up Ratio', 'Bwd Pkt Len Min', 'Fwd Pkt Len Std', 'FIN Flag Cnt', 'Fwd Seg Size Avg', 'Fwd Pkt Len Mean', 'Bwd Header Len'], 'Adv sample 217': ['SYN Flag Cnt', 'Bwd Pkts/s', 'Flow Pkts/s', 'FIN Flag Cnt', 'Bwd Header Len', 'Fwd IAT Min', 'Subflow Bwd Pkts', 'Flow Duration', 'Subflow Fwd Pkts', 'Tot Fwd Pkts'], 'Adv sample 218': ['SYN Flag Cnt', 'Bwd Pkts/s', 'Bwd Header Len', 'Tot Bwd Pkts', 'Subflow Bwd Pkts', 'FIN Flag Cnt', 'Fwd Pkt Len Std', 'ACK Flag Cnt', 'Fwd Header Len', 'Fwd Seg Size Avg'], 'Adv sample 219': ['Bwd Header Len', 'Fwd Pkt Len Max', 'Flow IAT Max', 'Fwd Pkt Len Mean', 'Fwd IAT Min', 'Bwd Pkts/s', 'Active Std', 'Flow IAT Std', 'Fwd IAT Max', 'Fwd Pkt Len Std'], 'Adv sample 220': ['Init Fwd Win Byts', 'SYN Flag Cnt', 'Pkt Len Min', 'Bwd Pkt Len Min', 'Down/Up Ratio', 'FIN Flag Cnt', 'ACK Flag Cnt', 'Active Max', 'Bwd IAT Std', 'Flow IAT Max'], 'Adv sample 221': ['SYN Flag Cnt', 'Fwd Pkt Len Max', 'Fwd Pkt Len Std', 'Fwd Pkt Len Mean', 'Down/Up Ratio', 'Flow Pkts/s', 'Init Fwd Win Byts', 'Pkt Len Min', 'Fwd Act Data Pkts', 'Pkt Size Avg'], 'Adv sample 222': ['SYN Flag Cnt', 'Bwd Pkts/s', 'Bwd Header Len', 'Subflow Bwd Pkts', 'Tot Bwd Pkts', 'FIN Flag Cnt', 'Subflow Fwd Pkts', 'Fwd Header Len', 'Fwd Seg Size Avg', 'ACK Flag Cnt'], 'Adv sample 223': ['SYN Flag Cnt', 'Bwd Header Len', 'Subflow Bwd Pkts', 'Bwd Pkts/s', 'FIN Flag Cnt', 'Tot Bwd Pkts', 'Fwd Seg Size Avg', 'ACK Flag Cnt', 'Fwd IAT Max', 'Bwd IAT Std'], 'Adv sample 224': ['SYN Flag Cnt', 'Bwd Pkts/s', 'Flow Pkts/s', 'FIN Flag Cnt', 'Fwd IAT Min', 'Tot Bwd Pkts', 'Subflow Bwd Pkts', 'Bwd IAT Std', 'Fwd Pkt Len Std', 'Fwd Header Len'], 'Adv sample 225': ['SYN Flag Cnt', 'Subflow Bwd Pkts', 'Bwd Header Len', 'Tot Bwd Pkts', 'FIN Flag Cnt', 'Fwd Pkt Len Std', 'Fwd Seg Size Avg', 'Fwd IAT Mean', 'Bwd IAT Std', 'Fwd Header Len'], 'Adv sample 226': ['Bwd Header Len', 'Subflow Bwd Pkts', 'Fwd IAT Min', 'Fwd Pkt Len Max', 'Fwd IAT Std', 'Tot Fwd Pkts', 'Fwd IAT Max', 'ACK Flag Cnt', 'URG Flag Cnt', 'Init Fwd Win Byts'], 'Adv sample 227': ['Bwd Header Len', 'Fwd Pkt Len Max', 'Fwd Pkt Len Std', 'Flow Byts/s', 'Fwd Seg Size Avg', 'Fwd IAT Mean', 'Fwd IAT Max', 'Fwd Pkt Len Mean', 'Pkt Len Max', 'Flow IAT Max'], 'Adv sample 228': ['Fwd Pkt Len Std', 'Fwd Pkt Len Max', 'Fwd Pkt Len Mean', 'Fwd Seg Size Avg', 'Flow Byts/s', 'Pkt Len Std', 'Bwd IAT Tot', 'Tot Bwd Pkts', 'Pkt Size Avg', 'Init Fwd Win Byts'], 'Adv sample 229': ['Init Fwd Win Byts', 'Flow Byts/s', 'Down/Up Ratio', 'Fwd Pkt Len Std', 'Bwd Header Len', 'FIN Flag Cnt', 'Fwd Pkt Len Max', 'Bwd Pkts/s', 'Pkt Len Std', 'Fwd Pkt Len Min'], 'Adv sample 230': ['Pkt Len Min', 'SYN Flag Cnt', 'Init Fwd Win Byts', 'Bwd Pkt Len Min', 'Down/Up Ratio', 'FIN Flag Cnt', 'ACK Flag Cnt', 'Tot Bwd Pkts', 'Flow IAT Std', 'Fwd IAT Min'], 'Adv sample 231': ['SYN Flag Cnt', 'Init Bwd Win Byts', 'Fwd Pkt Len Max', 'Pkt Len Min', 'Pkt Len Var', 'Fwd Pkt Len Std', 'FIN Flag Cnt', 'Fwd Header Len', 'Bwd Header Len', 'Fwd Pkt Len Mean'], 'Adv sample 232': ['SYN Flag Cnt', 'Bwd Pkts/s', 'Bwd Header Len', 'Subflow Bwd Pkts', 'Fwd Pkt Len Mean', 'FIN Flag Cnt', 'Tot Bwd Pkts', 'ACK Flag Cnt', 'Subflow Fwd Pkts', 'Fwd Pkt Len Std'], 'Adv sample 233': ['Init Fwd Win Byts', 'Flow Byts/s', 'Down/Up Ratio', 'Fwd Pkt Len Std', 'Fwd Pkt Len Min', 'Bwd Header Len', 'Fwd Pkt Len Mean', 'Subflow Bwd Pkts', 'Tot Bwd Pkts', 'FIN Flag Cnt'], 'Adv sample 234': ['Pkt Len Min', 'Init Fwd Win Byts', 'SYN Flag Cnt', 'Bwd Pkt Len Min', 'Down/Up Ratio', 'FIN Flag Cnt', 'ACK Flag Cnt', 'Fwd Pkt Len Min', 'Flow IAT Max', 'Fwd Blk Rate Avg'], 'Adv sample 235': ['SYN Flag Cnt', 'Flow Pkts/s', 'Down/Up Ratio', 'FIN Flag Cnt', 'ACK Flag Cnt', 'Bwd Pkts/s', 'Bwd Header Len', 'Bwd IAT Std', 'Flow IAT Std', 'Tot Bwd Pkts'], 'Adv sample 236': ['Pkt Len Min', 'Down/Up Ratio', 'SYN Flag Cnt', 'Bwd Pkt Len Min', 'Bwd Pkts/s', 'FIN Flag Cnt', 'Flow Pkts/s', 'Bwd Header Len', 'Fwd Pkt Len Min', 'Fwd Header Len'], 'Adv sample 237': ['Init Fwd Win Byts', 'Down/Up Ratio', 'Fwd Pkt Len Std', 'Fwd Pkt Len Min', 'Pkt Len Std', 'Bwd Pkts/s', 'Subflow Bwd Pkts', 'Fwd Pkt Len Mean', 'Tot Bwd Pkts', 'FIN Flag Cnt'], 'Adv sample 238': ['Pkt Len Min', 'Down/Up Ratio', 'SYN Flag Cnt', 'Bwd Pkt Len Min', 'FIN Flag Cnt', 'Bwd Pkts/s', 'Flow Pkts/s', 'Bwd IAT Std', 'Fwd IAT Mean', 'Flow IAT Max'], 'Adv sample 239': ['Fwd Pkt Len Std', 'Fwd Pkt Len Max', 'Fwd Seg Size Avg', 'Flow Byts/s', 'Pkt Len Std', 'Fwd Pkt Len Mean', 'Pkt Len Mean', 'Pkt Len Min', 'Bwd IAT Tot', 'Init Fwd Win Byts'], 'Adv sample 240': ['Init Fwd Win Byts', 'Bwd Pkt Len Min', 'SYN Flag Cnt', 'Pkt Len Min', 'FIN Flag Cnt', 'Down/Up Ratio', 'ACK Flag Cnt', 'Fwd Pkt Len Min', 'PSH Flag Cnt', 'Bwd IAT Std'], 'Adv sample 241': ['Fwd Pkt Len Std', 'Fwd Pkt Len Max', 'Bwd Pkts/s', 'SYN Flag Cnt', 'Fwd Pkt Len Mean', 'Fwd Act Data Pkts', 'Fwd Seg Size Avg', 'Pkt Len Min', 'Fwd Header Len', 'Pkt Len Max'], 'Adv sample 242': ['Flow Byts/s', 'Fwd Pkt Len Std', 'Init Fwd Win Byts', 'FIN Flag Cnt', 'Pkt Len Std', 'Bwd Header Len', 'Subflow Bwd Pkts', 'Bwd Pkt Len Std', 'Bwd Pkt Len Min', 'Tot Bwd Pkts'], 'Adv sample 243': ['Init Fwd Win Byts', 'Down/Up Ratio', 'Flow Byts/s', 'Fwd Pkt Len Std', 'Bwd Header Len', 'Pkt Len Std', 'Fwd IAT Min', 'FIN Flag Cnt', 'Tot Bwd Pkts', 'Bwd Pkts/s'], 'Adv sample 244': ['Fwd Pkt Len Max', 'Bwd Pkts/s', 'Fwd Pkt Len Std', 'Pkt Len Mean', 'Pkt Len Std', 'Flow Byts/s', 'Fwd Pkt Len Mean', 'Bwd Pkts/b Avg', 'Bwd Pkt Len Std', 'SYN Flag Cnt'], 'Adv sample 245': ['SYN Flag Cnt', 'Bwd Pkts/s', 'Bwd Header Len', 'FIN Flag Cnt', 'Tot Bwd Pkts', 'Subflow Bwd Pkts', 'Subflow Fwd Byts', 'ACK Flag Cnt', 'Fwd IAT Mean', 'Fwd Pkt Len Mean'], 'Adv sample 246': ['Bwd Header Len', 'Tot Bwd Pkts', 'Bwd Pkts/s', 'Pkt Len Var', 'Flow Pkts/s', 'Init Fwd Win Byts', 'ECE Flag Cnt', 'ACK Flag Cnt', 'Down/Up Ratio', 'FIN Flag Cnt'], 'Adv sample 247': ['Fwd Pkt Len Mean', 'Fwd Pkt Len Max', 'Bwd Header Len', 'Flow Byts/s', 'Fwd Pkt Len Std', 'Fwd Seg Size Avg', 'Bwd Pkts/s', 'Fwd IAT Std', 'FIN Flag Cnt', 'Fwd IAT Min'], 'Adv sample 248': ['Fwd Pkt Len Max', 'Fwd Pkt Len Std', 'Fwd Seg Size Avg', 'Fwd Pkt Len Mean', 'SYN Flag Cnt', 'Pkt Len Mean', 'Fwd Act Data Pkts', 'Idle Min', 'Tot Fwd Pkts', 'Fwd Pkt Len Min'], 'Adv sample 249': ['SYN Flag Cnt', 'Bwd Pkts/s', 'Bwd Header Len', 'Subflow Bwd Pkts', 'Tot Bwd Pkts', 'FIN Flag Cnt', 'ACK Flag Cnt', 'Fwd Pkt Len Mean', 'Pkt Len Mean', 'PSH Flag Cnt'], 'Adv sample 250': ['SYN Flag Cnt', 'Subflow Bwd Pkts', 'Tot Bwd Pkts', 'Bwd Pkts/s', 'Bwd Header Len', 'Fwd Pkt Len Std', 'Fwd Seg Size Avg', 'Subflow Fwd Pkts', 'Fwd Pkt Len Mean', 'Fwd Header Len'], 'Adv sample 251': ['SYN Flag Cnt', 'Fwd Pkt Len Std', 'Down/Up Ratio', 'Pkt Len Min', 'Fwd Pkt Len Max', 'Fwd Pkt Len Mean', 'Flow Byts/s', 'Bwd Pkt Len Min', 'FIN Flag Cnt', 'Bwd Header Len'], 'Adv sample 252': ['Pkt Len Min', 'Init Fwd Win Byts', 'SYN Flag Cnt', 'Bwd Pkt Len Min', 'Down/Up Ratio', 'FIN Flag Cnt', 'ACK Flag Cnt', 'Flow IAT Std', 'Fwd Pkt Len Min', 'Subflow Fwd Byts'], 'Adv sample 253': ['SYN Flag Cnt', 'Fwd Pkt Len Std', 'Init Fwd Win Byts', 'Down/Up Ratio', 'Fwd Pkt Len Max', 'Pkt Len Min', 'Fwd Pkt Len Mean', 'Bwd Pkt Len Min', 'Fwd Seg Size Avg', 'Pkt Size Avg'], 'Adv sample 254': ['Fwd Pkt Len Mean', 'Flow Byts/s', 'Fwd Pkt Len Max', 'Fwd Pkt Len Std', 'Pkt Len Mean', 'Fwd Seg Size Avg', 'Pkt Len Max', 'ACK Flag Cnt', 'Tot Bwd Pkts', 'Fwd PSH Flags'], 'Adv sample 255': ['Bwd Header Len', 'Bwd PSH Flags', 'Fwd Pkt Len Std', 'SYN Flag Cnt', 'Bwd Pkts/s', 'Fwd Pkt Len Max', 'Fwd Act Data Pkts', 'Fwd Pkt Len Mean', 'Init Fwd Win Byts', 'Pkt Len Std'], 'Adv sample 256': ['SYN Flag Cnt', 'Fwd Pkt Len Max', 'Pkt Len Min', 'Fwd Pkt Len Std', 'Fwd Pkt Len Mean', 'Bwd Pkt Len Min', 'Flow Byts/s', 'Pkt Len Max', 'Pkt Len Std', 'FIN Flag Cnt'], 'Adv sample 257': ['Init Fwd Win Byts', 'Pkt Len Min', 'SYN Flag Cnt', 'Bwd Pkt Len Min', 'Down/Up Ratio', 'FIN Flag Cnt', 'ACK Flag Cnt', 'Bwd IAT Std', 'Fwd Pkt Len Min', 'Bwd Pkts/b Avg'], 'Adv sample 258': ['Bwd Header Len', 'Flow Pkts/s', 'Flow Byts/s', 'Tot Bwd Pkts', 'Pkt Len Min', 'FIN Flag Cnt', 'Down/Up Ratio', 'Init Fwd Win Byts', 'Tot Fwd Pkts', 'Fwd Pkt Len Max'], 'Adv sample 259': ['SYN Flag Cnt', 'Tot Bwd Pkts', 'Bwd Header Len', 'Bwd Pkts/s', 'Subflow Bwd Pkts', 'Fwd Pkt Len Std', 'ACK Flag Cnt', 'FIN Flag Cnt', 'Fwd IAT Min', 'Bwd Pkt Len Std'], 'Adv sample 260': ['SYN Flag Cnt', 'Bwd Header Len', 'Tot Bwd Pkts', 'Bwd Pkts/s', 'FIN Flag Cnt', 'Subflow Bwd Pkts', 'Fwd Header Len', 'ACK Flag Cnt', 'Tot Fwd Pkts', 'Subflow Fwd Pkts'], 'Adv sample 261': ['Init Bwd Win Byts', 'Idle Max', 'Fwd Pkt Len Std', 'Idle Mean', 'Bwd Header Len', 'Pkt Len Min', 'Fwd IAT Min', 'Fwd Pkt Len Max', 'Bwd IAT Tot', 'Fwd IAT Tot'], 'Adv sample 262': ['SYN Flag Cnt', 'Pkt Len Min', 'Bwd Pkt Len Min', 'Init Fwd Win Byts', 'Down/Up Ratio', 'FIN Flag Cnt', 'ACK Flag Cnt', 'Fwd Pkt Len Min', 'TotLen Fwd Pkts', 'Bwd IAT Max'], 'Adv sample 263': ['Fwd Pkt Len Max', 'Fwd Pkt Len Std', 'SYN Flag Cnt', 'Fwd Pkt Len Mean', 'Pkt Size Avg', 'Flow Byts/s', 'Pkt Len Min', 'Tot Bwd Pkts', 'Fwd Seg Size Avg', 'Pkt Len Std'], 'Adv sample 264': ['Fwd Pkt Len Max', 'Fwd Pkt Len Std', 'Fwd Pkt Len Mean', 'Fwd IAT Max', 'Pkt Len Max', 'Fwd IAT Tot', 'Fwd Seg Size Avg', 'Pkt Size Avg', 'Flow Byts/s', 'Tot Bwd Pkts'], 'Adv sample 265': ['Fwd Pkt Len Std', 'Fwd Pkt Len Max', 'SYN Flag Cnt', 'Fwd Pkt Len Mean', 'Pkt Len Min', 'Pkt Len Mean', 'Tot Bwd Pkts', 'Fwd Seg Size Avg', 'Flow Byts/s', 'Pkt Len Max'], 'Adv sample 266': ['Init Fwd Win Byts', 'Pkt Len Min', 'SYN Flag Cnt', 'Bwd Pkt Len Min', 'Down/Up Ratio', 'FIN Flag Cnt', 'ACK Flag Cnt', 'Fwd Pkt Len Min', 'Bwd IAT Max', 'Bwd IAT Std'], 'Adv sample 267': ['SYN Flag Cnt', 'Bwd Pkts/s', 'Bwd Header Len', 'Subflow Bwd Pkts', 'FIN Flag Cnt', 'Tot Bwd Pkts', 'ACK Flag Cnt', 'Fwd Seg Size Avg', 'Fwd Header Len', 'Subflow Fwd Pkts'], 'Adv sample 268': ['SYN Flag Cnt', 'Bwd Pkts/s', 'Bwd Header Len', 'Tot Bwd Pkts', 'FIN Flag Cnt', 'Subflow Bwd Pkts', 'Fwd Seg Size Avg', 'ACK Flag Cnt', 'Subflow Fwd Pkts', 'Fwd Pkt Len Std'], 'Adv sample 269': ['Fwd Seg Size Avg', 'Fwd Pkt Len Mean', 'Pkt Len Max', 'Fwd Pkt Len Std', 'Fwd Pkt Len Max', 'FIN Flag Cnt', 'Flow Byts/s', 'Pkt Len Std', 'Pkt Len Mean', 'Idle Mean'], 'Adv sample 270': ['Bwd Header Len', 'Bwd PSH Flags', 'Bwd Pkts/s', 'SYN Flag Cnt', 'Fwd Pkt Len Max', 'Fwd Pkt Len Std', 'Pkt Len Min', 'Pkt Size Avg', 'Subflow Bwd Pkts', 'Fwd Pkt Len Min'], 'Adv sample 271': ['Flow Byts/s', 'Fwd Pkt Len Max', 'Fwd Pkt Len Std', 'Pkt Len Std', 'Pkt Len Max', 'Init Fwd Win Byts', 'Fwd Pkt Len Mean', 'ACK Flag Cnt', 'Fwd Seg Size Avg', 'Bwd Pkt Len Std'], 'Adv sample 272': ['Fwd Pkt Len Max', 'Fwd Pkt Len Std', 'Fwd Pkt Len Mean', 'SYN Flag Cnt', 'Fwd Seg Size Avg', 'Pkt Size Avg', 'Flow Byts/s', 'Fwd Pkt Len Min', 'Pkt Len Min', 'Pkt Len Std'], 'Adv sample 273': ['SYN Flag Cnt', 'Bwd Header Len', 'Bwd Pkts/s', 'Subflow Bwd Pkts', 'Tot Bwd Pkts', 'FIN Flag Cnt', 'Pkt Len Mean', 'ACK Flag Cnt', 'Pkt Len Std', 'Fwd Pkt Len Max'], 'Adv sample 274': ['SYN Flag Cnt', 'Tot Bwd Pkts', 'Bwd Pkts/s', 'Bwd Header Len', 'Subflow Bwd Pkts', 'FIN Flag Cnt', 'ACK Flag Cnt', 'Bwd IAT Std', 'Fwd Pkt Len Mean', 'Fwd IAT Min'], 'Adv sample 275': ['SYN Flag Cnt', 'Bwd Header Len', 'Tot Bwd Pkts', 'FIN Flag Cnt', 'Flow Pkts/s', 'Subflow Bwd Pkts', 'Fwd Pkt Len Max', 'ACK Flag Cnt', 'Fwd IAT Mean', 'Init Fwd Win Byts'], 'Adv sample 276': ['SYN Flag Cnt', 'Flow Pkts/s', 'Bwd Pkts/s', 'FIN Flag Cnt', 'Bwd Header Len', 'Tot Bwd Pkts', 'Fwd IAT Min', 'Fwd Seg Size Avg', 'Idle Max', 'Flow IAT Std'], 'Adv sample 277': ['SYN Flag Cnt', 'Init Bwd Win Byts', 'Fwd Pkt Len Std', 'Fwd Pkt Len Max', 'Fwd Pkt Len Mean', 'Subflow Bwd Pkts', 'Pkt Len Min', 'Fwd Seg Size Avg', 'Bwd Pkt Len Min', 'Bwd Header Len'], 'Adv sample 278': ['Fwd IAT Min', 'Pkt Len Min', 'ACK Flag Cnt', 'Fwd IAT Tot', 'Fwd Pkt Len Max', 'Flow IAT Max', 'Fwd IAT Max', 'Fwd IAT Std', 'Bwd Pkts/s', 'Flow IAT Std'], 'Adv sample 279': ['Init Fwd Win Byts', 'Flow Byts/s', 'Fwd Pkt Len Std', 'Down/Up Ratio', 'Fwd Pkt Len Mean', 'Bwd Pkts/s', 'FIN Flag Cnt', 'Bwd Header Len', 'Pkt Len Max', 'Pkt Len Var'], 'Adv sample 280': ['Fwd Pkt Len Max', 'Fwd Pkt Len Mean', 'Fwd Pkt Len Std', 'Pkt Len Min', 'Pkt Size Avg', 'SYN Flag Cnt', 'Flow Byts/s', 'Fwd Seg Size Avg', 'Pkt Len Max', 'Init Bwd Win Byts'], 'Adv sample 281': ['Fwd Pkt Len Max', 'Fwd Pkt Len Std', 'Fwd Seg Size Avg', 'Fwd Pkt Len Mean', 'Pkt Size Avg', 'Pkt Len Std', 'Pkt Len Max', 'Bwd PSH Flags', 'Init Bwd Win Byts', 'Fwd Pkt Len Min'], 'Adv sample 282': ['SYN Flag Cnt', 'Bwd Pkts/s', 'Subflow Bwd Pkts', 'Tot Bwd Pkts', 'Fwd Pkt Len Std', 'Subflow Fwd Pkts', 'Bwd Header Len', 'ACK Flag Cnt', 'FIN Flag Cnt', 'Bwd IAT Std'], 'Adv sample 283': ['Fwd Pkt Len Std', 'Fwd Pkt Len Max', 'Fwd Pkt Len Mean', 'Fwd Seg Size Avg', 'Flow Byts/s', 'Pkt Len Mean', 'Pkt Len Std', 'Pkt Size Avg', 'Init Fwd Win Byts', 'Bwd Pkts/s'], 'Adv sample 284': ['Fwd Pkt Len Max', 'Fwd Pkt Len Std', 'SYN Flag Cnt', 'Pkt Len Min', 'Fwd Pkt Len Mean', 'Fwd Seg Size Avg', 'Fwd Act Data Pkts', 'Subflow Bwd Pkts', 'Pkt Size Avg', 'Pkt Len Mean'], 'Adv sample 285': ['SYN Flag Cnt', 'Subflow Bwd Pkts', 'Bwd Header Len', 'Tot Bwd Pkts', 'FIN Flag Cnt', 'ACK Flag Cnt', 'Fwd IAT Min', 'Fwd IAT Mean', 'Bwd Pkt Len Mean', 'Bwd Pkt Len Std'], 'Adv sample 286': ['SYN Flag Cnt', 'Init Fwd Win Byts', 'ACK Flag Cnt', 'Fwd Pkt Len Max', 'Fwd Pkt Len Mean', 'Fwd Pkt Len Std', 'Bwd Pkts/s', 'Flow Byts/s', 'Fwd Pkt Len Min', 'Fwd Seg Size Avg'], 'Adv sample 287': ['SYN Flag Cnt', 'Fwd Pkt Len Max', 'Down/Up Ratio', 'Fwd Pkt Len Std', 'Pkt Len Min', 'Bwd Header Len', 'Fwd Seg Size Avg', 'Fwd Pkt Len Mean', 'FIN Flag Cnt', 'Pkt Len Std'], 'Adv sample 288': ['Fwd Pkt Len Max', 'Pkt Len Min', 'Fwd Pkt Len Std', 'Pkt Len Max', 'Fwd Seg Size Avg', 'Fwd IAT Tot', 'Pkt Len Std', 'Pkt Len Mean', 'Flow IAT Max', 'Fwd IAT Std'], 'Adv sample 289': ['SYN Flag Cnt', 'Bwd Header Len', 'FIN Flag Cnt', 'Tot Bwd Pkts', 'Subflow Bwd Pkts', 'ACK Flag Cnt', 'Fwd Pkt Len Mean', 'Fwd Seg Size Avg', 'Subflow Fwd Pkts', 'Tot Fwd Pkts'], 'Adv sample 290': ['Down/Up Ratio', 'Idle Min', 'Fwd Pkt Len Mean', 'Flow Byts/s', 'ACK Flag Cnt', 'FIN Flag Cnt', 'Tot Bwd Pkts', 'Bwd Pkts/s', 'Fwd IAT Min', 'Pkt Len Mean'], 'Adv sample 291': ['Init Fwd Win Byts', 'Down/Up Ratio', 'Pkt Len Min', 'Fwd Pkt Len Max', 'Bwd Pkt Len Min', 'Tot Bwd Pkts', 'FIN Flag Cnt', 'Fwd Pkt Len Mean', 'Bwd Pkts/s', 'Pkt Len Mean'], 'Adv sample 292': ['Fwd Pkt Len Max', 'Fwd Pkt Len Std', 'Fwd Seg Size Avg', 'Pkt Len Std', 'Pkt Size Avg', 'SYN Flag Cnt', 'Fwd Pkt Len Mean', 'Flow Byts/s', 'Init Fwd Win Byts', 'TotLen Fwd Pkts'], 'Adv sample 293': ['SYN Flag Cnt', 'Bwd Pkts/s', 'Tot Bwd Pkts', 'Subflow Bwd Pkts', 'Bwd Header Len', 'ACK Flag Cnt', 'FIN Flag Cnt', 'TotLen Fwd Pkts', 'Subflow Fwd Pkts', 'Fwd Pkt Len Max'], 'Adv sample 294': ['Fwd Pkt Len Max', 'Fwd Pkt Len Std', 'Fwd Pkt Len Mean', 'Pkt Len Std', 'Pkt Len Mean', 'SYN Flag Cnt', 'Pkt Len Max', 'Flow Byts/s', 'Fwd Seg Size Avg', 'Subflow Bwd Pkts'], 'Adv sample 295': ['Init Fwd Win Byts', 'Down/Up Ratio', 'Fwd Pkt Len Std', 'Bwd Header Len', 'Tot Bwd Pkts', 'Bwd Pkts/s', 'Bwd Pkt Len Min', 'Subflow Bwd Pkts', 'Flow Byts/s', 'FIN Flag Cnt'], 'Adv sample 296': ['Pkt Len Min', 'SYN Flag Cnt', 'Init Fwd Win Byts', 'Bwd Pkt Len Min', 'FIN Flag Cnt', 'Down/Up Ratio', 'ACK Flag Cnt', 'Tot Bwd Pkts', 'Fwd Act Data Pkts', 'RST Flag Cnt'], 'Adv sample 297': ['Bwd Pkt Len Min', 'SYN Flag Cnt', 'Pkt Len Min', 'Init Fwd Win Byts', 'Down/Up Ratio', 'FIN Flag Cnt', 'ACK Flag Cnt', 'Bwd IAT Std', 'Bwd IAT Max', 'Fwd Blk Rate Avg'], 'Adv sample 298': ['Fwd Pkt Len Std', 'Fwd Pkt Len Max', 'Fwd Seg Size Avg', 'Fwd Pkt Len Mean', 'Flow Byts/s', 'Bwd Header Len', 'Pkt Len Std', 'Pkt Size Avg', 'Pkt Len Min', 'Fwd Pkt Len Min'], 'Adv sample 299': ['Fwd Pkt Len Std', 'Fwd Pkt Len Max', 'Fwd Pkt Len Mean', 'Pkt Len Std', 'Fwd Seg Size Avg', 'Bwd Pkts/s', 'Flow Byts/s', 'Down/Up Ratio', 'Pkt Len Min', 'Pkt Len Mean'], 'Adv sample 300': ['Fwd Pkt Len Std', 'Fwd Pkt Len Max', 'Fwd Seg Size Avg', 'Fwd Pkt Len Mean', 'Pkt Len Std', 'Bwd PSH Flags', 'Init Fwd Win Byts', 'Tot Fwd Pkts', 'Fwd Act Data Pkts', 'Pkt Len Min'], 'Adv sample 301': ['Idle Min', 'Fwd IAT Min', 'Flow IAT Std', 'ACK Flag Cnt', 'Fwd Pkt Len Max', 'Down/Up Ratio', 'Bwd Pkts/s', 'Init Fwd Win Byts', 'Fwd IAT Std', 'FIN Flag Cnt'], 'Adv sample 302': ['Bwd Header Len', 'Init Fwd Win Byts', 'Fwd Pkt Len Std', 'Flow Byts/s', 'FIN Flag Cnt', 'Flow Pkts/s', 'Fwd Pkt Len Min', 'ACK Flag Cnt', 'Down/Up Ratio', 'Fwd Pkt Len Mean'], 'Adv sample 303': ['Bwd Header Len', 'SYN Flag Cnt', 'Bwd PSH Flags', 'Bwd Pkts/s', 'Init Fwd Win Byts', 'Flow Pkts/s', 'Pkt Len Std', 'Flow IAT Std', 'FIN Flag Cnt', 'Subflow Bwd Pkts'], 'Adv sample 304': ['Pkt Len Min', 'Down/Up Ratio', 'SYN Flag Cnt', 'Bwd Pkt Len Min', 'FIN Flag Cnt', 'Bwd Pkts/s', 'Flow Pkts/s', 'Flow IAT Max', 'Bwd IAT Std', 'Pkt Size Avg'], 'Adv sample 305': ['Fwd Pkt Len Std', 'Fwd Pkt Len Max', 'Fwd Pkt Len Mean', 'SYN Flag Cnt', 'Pkt Len Max', 'Pkt Len Std', 'Pkt Size Avg', 'Pkt Len Min', 'Tot Bwd Pkts', 'Tot Fwd Pkts'], 'Adv sample 306': ['Init Fwd Win Byts', 'Bwd Pkt Len Min', 'SYN Flag Cnt', 'Pkt Len Min', 'Down/Up Ratio', 'FIN Flag Cnt', 'ACK Flag Cnt', 'Bwd IAT Std', 'Fwd IAT Max', 'Flow Duration'], 'Adv sample 307': ['Flow IAT Max', 'Down/Up Ratio', 'ACK Flag Cnt', 'Flow IAT Std', 'Pkt Len Std', 'Pkt Len Max', 'Fwd Pkt Len Max', 'Flow Byts/s', 'Idle Max', 'Fwd Pkt Len Std'], 'Adv sample 308': ['Pkt Len Min', 'SYN Flag Cnt', 'Init Fwd Win Byts', 'Bwd Pkt Len Min', 'Down/Up Ratio', 'FIN Flag Cnt', 'ACK Flag Cnt', 'Fwd Pkt Len Min', 'Flow Byts/s', 'Bwd IAT Max'], 'Adv sample 309': ['Flow Byts/s', 'Down/Up Ratio', 'Init Fwd Win Byts', 'Bwd Pkts/s', 'Idle Mean', 'Idle Min', 'Fwd IAT Tot', 'Fwd Pkt Len Max', 'Fwd Pkt Len Mean', 'Flow IAT Std'], 'Adv sample 310': ['SYN Flag Cnt', 'Bwd Pkts/s', 'Bwd Header Len', 'Subflow Bwd Pkts', 'Tot Bwd Pkts', 'Fwd Pkt Len Std', 'Subflow Fwd Pkts', 'Fwd Seg Size Avg', 'FIN Flag Cnt', 'ACK Flag Cnt'], 'Adv sample 311': ['Fwd Pkt Len Std', 'Fwd Pkt Len Max', 'Fwd Pkt Len Mean', 'Bwd Header Len', 'Pkt Len Std', 'Fwd Seg Size Avg', 'Flow Byts/s', 'SYN Flag Cnt', 'Fwd Pkt Len Min', 'Pkt Len Mean'], 'Adv sample 312': ['Fwd Pkt Len Max', 'Fwd Pkt Len Mean', 'Fwd Pkt Len Std', 'Fwd Seg Size Avg', 'Fwd IAT Tot', 'Bwd IAT Tot', 'Pkt Len Std', 'Bwd Pkts/s', 'Pkt Len Mean', 'Pkt Size Avg'], 'Adv sample 313': ['Fwd Pkt Len Max', 'Fwd Pkt Len Std', 'Fwd Seg Size Avg', 'Flow Byts/s', 'Fwd Pkt Len Mean', 'Pkt Len Std', 'Fwd Pkt Len Min', 'Pkt Size Avg', 'Pkt Len Mean', 'Pkt Len Min'], 'Adv sample 314': ['SYN Flag Cnt', 'Down/Up Ratio', 'Flow Pkts/s', 'FIN Flag Cnt', 'ACK Flag Cnt', 'Bwd Pkts/s', 'Bwd Header Len', 'Subflow Bwd Pkts', 'Tot Bwd Pkts', 'Flow Duration'], 'Adv sample 315': ['Down/Up Ratio', 'Init Fwd Win Byts', 'Bwd Pkt Len Min', 'FIN Flag Cnt', 'Bwd Pkts/s', 'Flow Pkts/s', 'Pkt Len Min', 'Fwd Pkt Len Max', 'Fwd Pkt Len Min', 'Fwd IAT Mean'], 'Adv sample 316': ['Init Fwd Win Byts', 'Pkt Len Min', 'SYN Flag Cnt', 'Bwd Pkt Len Min', 'Down/Up Ratio', 'FIN Flag Cnt', 'ACK Flag Cnt', 'Fwd Pkt Len Min', 'Bwd IAT Max', 'Subflow Bwd Pkts'], 'Adv sample 317': ['SYN Flag Cnt', 'Fwd Pkt Len Max', 'Fwd Pkt Len Std', 'Init Bwd Win Byts', 'Bwd Header Len', 'Fwd Pkt Len Mean', 'Bwd Pkt Len Min', 'Pkt Len Min', 'Flow Byts/s', 'FIN Flag Cnt'], 'Adv sample 318': ['Fwd Pkt Len Max', 'Fwd Pkt Len Std', 'Flow Byts/s', 'Pkt Len Min', 'Flow IAT Std', 'Fwd Pkt Len Mean', 'Flow IAT Max', 'Active Std', 'FIN Flag Cnt', 'Subflow Bwd Pkts'], 'Adv sample 319': ['Fwd Pkt Len Max', 'Fwd Pkt Len Std', 'Fwd Seg Size Avg', 'SYN Flag Cnt', 'Flow Byts/s', 'Pkt Len Std', 'Pkt Len Min', 'Fwd Pkt Len Mean', 'Fwd Pkt Len Min', 'Tot Fwd Pkts'], 'Adv sample 320': ['Fwd Pkt Len Std', 'Fwd Pkt Len Max', 'Fwd Pkt Len Mean', 'Fwd Seg Size Avg', 'SYN Flag Cnt', 'Pkt Size Avg', 'Flow Byts/s', 'Pkt Len Min', 'Pkt Len Std', 'Bwd Pkt Len Max'], 'Adv sample 321': ['SYN Flag Cnt', 'Bwd Pkts/s', 'Bwd Header Len', 'Tot Bwd Pkts', 'FIN Flag Cnt', 'ACK Flag Cnt', 'Fwd Pkt Len Mean', 'Fwd Act Data Pkts', 'Fwd Header Len', 'Subflow Bwd Pkts'], 'Adv sample 322': ['SYN Flag Cnt', 'Fwd Pkt Len Max', 'Fwd Seg Size Avg', 'Down/Up Ratio', 'Fwd Pkt Len Std', 'ACK Flag Cnt', 'Pkt Len Min', 'Flow Pkts/s', 'Tot Bwd Pkts', 'Init Fwd Win Byts'], 'Adv sample 323': ['SYN Flag Cnt', 'Bwd Header Len', 'Subflow Bwd Pkts', 'Bwd Pkts/s', 'Tot Bwd Pkts', 'ACK Flag Cnt', 'FIN Flag Cnt', 'Fwd Pkt Len Max', 'Fwd IAT Mean', 'Fwd Pkt Len Mean'], 'Adv sample 324': ['Pkt Len Min', 'Fwd IAT Std', 'Fwd IAT Tot', 'Flow IAT Max', 'Tot Bwd Pkts', 'Flow Byts/s', 'Fwd IAT Mean', 'Fwd Pkt Len Max', 'Fwd IAT Min', 'Pkt Len Std'], 'Adv sample 325': ['Flow Byts/s', 'Init Fwd Win Byts', 'Fwd Pkt Len Std', 'Down/Up Ratio', 'Bwd Header Len', 'Fwd Pkt Len Max', 'Pkt Len Std', 'Bwd IAT Std', 'Pkt Len Max', 'FIN Flag Cnt'], 'Adv sample 326': ['Pkt Len Min', 'SYN Flag Cnt', 'Init Fwd Win Byts', 'Bwd Pkt Len Min', 'Down/Up Ratio', 'FIN Flag Cnt', 'ACK Flag Cnt', 'Flow IAT Std', 'Fwd Pkt Len Min', 'Fwd PSH Flags'], 'Adv sample 327': ['Fwd IAT Min', 'Flow Byts/s', 'Fwd Pkt Len Mean', 'Down/Up Ratio', 'FIN Flag Cnt', 'Init Fwd Win Byts', 'Bwd Pkts/s', 'Idle Min', 'Fwd Seg Size Avg', 'Fwd Pkt Len Std'], 'Adv sample 328': ['Fwd Pkt Len Std', 'Fwd Pkt Len Max', 'Fwd Seg Size Avg', 'Pkt Len Max', 'Fwd Pkt Len Mean', 'Pkt Len Std', 'Bwd Pkts/s', 'Down/Up Ratio', 'ACK Flag Cnt', 'FIN Flag Cnt'], 'Adv sample 329': ['Fwd Pkt Len Max', 'Flow IAT Max', 'Fwd Pkt Len Mean', 'Fwd IAT Mean', 'Bwd Header Len', 'Idle Min', 'Tot Bwd Pkts', 'Fwd IAT Min', 'Pkt Len Min', 'Fwd IAT Tot'], 'Adv sample 330': ['Init Fwd Win Byts', 'Pkt Len Min', 'SYN Flag Cnt', 'Bwd Pkt Len Min', 'Down/Up Ratio', 'FIN Flag Cnt', 'ACK Flag Cnt', 'Bwd IAT Std', 'TotLen Bwd Pkts', 'Fwd Header Len'], 'Adv sample 331': ['SYN Flag Cnt', 'Fwd Pkt Len Max', 'Fwd Pkt Len Std', 'Pkt Len Min', 'Fwd Pkt Len Mean', 'Bwd Header Len', 'Fwd Pkt Len Min', 'Bwd Pkt Len Min', 'Flow Byts/s', 'Bwd Blk Rate Avg'], 'Adv sample 332': ['Fwd Pkt Len Max', 'Fwd Pkt Len Std', 'Fwd Seg Size Avg', 'SYN Flag Cnt', 'Fwd Pkt Len Min', 'Flow Byts/s', 'Fwd Pkt Len Mean', 'Pkt Len Mean', 'FIN Flag Cnt', 'TotLen Fwd Pkts'], 'Adv sample 333': ['SYN Flag Cnt', 'Bwd Header Len', 'Tot Bwd Pkts', 'Bwd Pkts/s', 'Fwd Seg Size Avg', 'Fwd Header Len', 'ACK Flag Cnt', 'Subflow Bwd Pkts', 'FIN Flag Cnt', 'Fwd IAT Std'], 'Adv sample 334': ['Fwd Pkt Len Max', 'Fwd Pkt Len Mean', 'Fwd Pkt Len Std', 'SYN Flag Cnt', 'Fwd Seg Size Avg', 'Pkt Len Max', 'Pkt Size Avg', 'Flow Byts/s', 'Fwd Pkt Len Min', 'Fwd IAT Std'], 'Adv sample 335': ['SYN Flag Cnt', 'Bwd Pkts/s', 'Bwd Header Len', 'Tot Bwd Pkts', 'ACK Flag Cnt', 'Subflow Bwd Pkts', 'FIN Flag Cnt', 'Fwd Pkt Len Max', 'Fwd IAT Mean', 'Bwd IAT Std'], 'Adv sample 336': ['SYN Flag Cnt', 'Fwd Pkt Len Std', 'Fwd Seg Size Avg', 'Down/Up Ratio', 'Fwd Pkt Len Mean', 'Tot Bwd Pkts', 'Init Fwd Win Byts', 'Flow Pkts/s', 'Pkt Len Max', 'Bwd Pkt Len Min'], 'Adv sample 337': ['Fwd Pkt Len Std', 'Pkt Len Std', 'Fwd Pkt Len Mean', 'Bwd Pkt Len Std', 'Flow Byts/s', 'Init Fwd Win Byts', 'ACK Flag Cnt', 'Flow IAT Mean', 'Pkt Len Max', 'Pkt Size Avg'], 'Adv sample 338': ['Pkt Len Min', 'SYN Flag Cnt', 'Bwd Pkt Len Min', 'Init Fwd Win Byts', 'Down/Up Ratio', 'FIN Flag Cnt', 'ACK Flag Cnt', 'Fwd Pkt Len Min', 'Idle Max', 'Bwd IAT Std'], 'Adv sample 339': ['SYN Flag Cnt', 'Init Fwd Win Byts', 'Fwd Pkt Len Std', 'Bwd Pkts/s', 'Fwd Pkt Len Max', 'ACK Flag Cnt', 'Fwd Seg Size Avg', 'Pkt Len Min', 'Fwd Pkt Len Mean', 'Bwd Pkt Len Min'], 'Adv sample 340': ['Fwd Pkt Len Std', 'SYN Flag Cnt', 'Fwd Pkt Len Max', 'ACK Flag Cnt', 'Down/Up Ratio', 'Fwd Pkt Len Min', 'Fwd Seg Size Avg', 'Fwd Header Len', 'Pkt Size Avg', 'Pkt Len Mean'], 'Adv sample 341': ['Pkt Len Min', 'SYN Flag Cnt', 'Bwd Pkt Len Min', 'Init Fwd Win Byts', 'Down/Up Ratio', 'FIN Flag Cnt', 'ACK Flag Cnt', 'Bwd IAT Std', 'Bwd IAT Max', 'Flow Duration'], 'Adv sample 342': ['Init Fwd Win Byts', 'Pkt Len Min', 'SYN Flag Cnt', 'Bwd Pkt Len Min', 'Down/Up Ratio', 'FIN Flag Cnt', 'ACK Flag Cnt', 'Fwd Pkt Len Min', 'Fwd IAT Max', 'Flow IAT Max'], 'Adv sample 343': ['SYN Flag Cnt', 'Bwd Pkts/s', 'Bwd Header Len', 'FIN Flag Cnt', 'Fwd Pkt Len Std', 'ACK Flag Cnt', 'Tot Bwd Pkts', 'PSH Flag Cnt', 'Fwd Header Len', 'Fwd Seg Size Avg'], 'Adv sample 344': ['SYN Flag Cnt', 'Fwd Pkt Len Std', 'Fwd Pkt Len Max', 'Pkt Len Min', 'Down/Up Ratio', 'Flow Pkts/s', 'Subflow Bwd Pkts', 'Tot Fwd Pkts', 'Fwd Seg Size Avg', 'Fwd Act Data Pkts'], 'Adv sample 345': ['Fwd Pkt Len Max', 'Fwd Pkt Len Std', 'Bwd IAT Tot', 'Fwd Pkt Len Mean', 'Flow Byts/s', 'Fwd IAT Tot', 'Pkt Size Avg', 'Fwd Seg Size Avg', 'Pkt Len Std', 'Down/Up Ratio'], 'Adv sample 346': ['SYN Flag Cnt', 'Bwd Pkts/s', 'Bwd Header Len', 'Subflow Bwd Pkts', 'FIN Flag Cnt', 'Tot Bwd Pkts', 'Fwd Pkt Len Mean', 'Fwd Pkt Len Std', 'ACK Flag Cnt', 'Fwd IAT Mean'], 'Adv sample 347': ['Pkt Len Min', 'SYN Flag Cnt', 'Init Fwd Win Byts', 'Bwd Pkt Len Min', 'Down/Up Ratio', 'FIN Flag Cnt', 'ACK Flag Cnt', 'Flow IAT Std', 'Flow Byts/s', 'Fwd IAT Min'], 'Adv sample 348': ['Fwd Pkt Len Std', 'Fwd Seg Size Avg', 'Fwd Pkt Len Max', 'Pkt Len Mean', 'Fwd Pkt Len Mean', 'Pkt Len Max', 'Pkt Len Std', 'Flow Byts/s', 'FIN Flag Cnt', 'Bwd Pkts/s'], 'Adv sample 349': ['Fwd Pkt Len Max', 'Fwd Pkt Len Std', 'Pkt Len Std', 'Fwd Seg Size Avg', 'Fwd Pkt Len Mean', 'Flow Byts/s', 'Pkt Len Max', 'Init Fwd Win Byts', 'Bwd Pkts/s', 'Down/Up Ratio'], 'Adv sample 350': ['SYN Flag Cnt', 'Fwd Pkt Len Max', 'Pkt Len Min', 'Fwd Pkt Len Std', 'Pkt Len Std', 'Fwd Pkt Len Min', 'FIN Flag Cnt', 'Flow Byts/s', 'Bwd Pkts/s', 'Fwd Header Len'], 'Adv sample 351': ['Down/Up Ratio', 'Bwd Header Len', 'Init Fwd Win Byts', 'Fwd Pkt Len Max', 'Subflow Fwd Pkts', 'Fwd IAT Min', 'ACK Flag Cnt', 'Flow IAT Std', 'Bwd Pkts/s', 'Subflow Bwd Pkts'], 'Adv sample 352': ['Fwd Pkt Len Std', 'Fwd Pkt Len Max', 'SYN Flag Cnt', 'Pkt Len Mean', 'Flow Byts/s', 'Down/Up Ratio', 'ACK Flag Cnt', 'Fwd Pkt Len Mean', 'Fwd Pkt Len Min', 'Tot Bwd Pkts'], 'Adv sample 353': ['Init Fwd Win Byts', 'Pkt Len Min', 'Down/Up Ratio', 'Bwd Pkt Len Min', 'Fwd Pkt Len Std', 'Bwd Header Len', 'FIN Flag Cnt', 'Fwd Seg Size Avg', 'Flow Pkts/s', 'Fwd Pkt Len Min'], 'Adv sample 354': ['SYN Flag Cnt', 'Fwd Pkt Len Max', 'Fwd Pkt Len Std', 'Fwd Pkt Len Mean', 'Flow Byts/s', 'Bwd Header Len', 'Bwd Pkt Len Min', 'Pkt Len Min', 'FIN Flag Cnt', 'PSH Flag Cnt'], 'Adv sample 355': ['Pkt Len Min', 'Down/Up Ratio', 'SYN Flag Cnt', 'Bwd Pkt Len Min', 'FIN Flag Cnt', 'Bwd Pkts/s', 'Flow Pkts/s', 'Fwd Pkt Len Min', 'Bwd IAT Tot', 'URG Flag Cnt'], 'Adv sample 356': ['Init Fwd Win Byts', 'Pkt Len Min', 'SYN Flag Cnt', 'Bwd Pkt Len Min', 'Down/Up Ratio', 'FIN Flag Cnt', 'ACK Flag Cnt', 'Bwd PSH Flags', 'Subflow Fwd Pkts', 'Fwd Pkt Len Min'], 'Adv sample 357': ['SYN Flag Cnt', 'Subflow Bwd Pkts', 'Flow Pkts/s', 'FIN Flag Cnt', 'Bwd Header Len', 'Fwd Pkt Len Max', 'Tot Bwd Pkts', 'Bwd IAT Std', 'Fwd Pkt Len Std', 'Tot Fwd Pkts'], 'Adv sample 358': ['SYN Flag Cnt', 'Bwd Pkts/s', 'Bwd Header Len', 'Subflow Bwd Pkts', 'Tot Bwd Pkts', 'FIN Flag Cnt', 'Fwd Pkt Len Std', 'ACK Flag Cnt', 'Fwd Seg Size Avg', 'Fwd Pkt Len Mean'], 'Adv sample 359': ['Fwd Pkt Len Std', 'Fwd Pkt Len Max', 'Fwd Pkt Len Mean', 'Bwd PSH Flags', 'Fwd Seg Size Avg', 'Pkt Len Std', 'Tot Bwd Pkts', 'PSH Flag Cnt', 'Flow Byts/s', 'Pkt Len Min'], 'Adv sample 360': ['Flow Byts/s', 'Down/Up Ratio', 'Init Fwd Win Byts', 'Subflow Bwd Pkts', 'Init Bwd Win Byts', 'ACK Flag Cnt', 'Bwd Header Len', 'Idle Max', 'Bwd Pkts/s', 'Pkt Len Min'], 'Adv sample 361': ['Fwd Pkt Len Mean', 'Flow Byts/s', 'Pkt Len Max', 'Fwd Seg Size Avg', 'Bwd Pkt Len Std', 'Pkt Len Mean', 'Fwd Pkt Len Max', 'Fwd Pkt Len Std', 'Pkt Len Std', 'Idle Max'], 'Adv sample 362': ['Init Fwd Win Byts', 'Fwd Pkt Len Max', 'Fwd Pkt Len Std', 'Pkt Len Std', 'Pkt Size Avg', 'Tot Bwd Pkts', 'Down/Up Ratio', 'Fwd Pkt Len Mean', 'Flow Byts/s', 'Pkt Len Var'], 'Adv sample 363': ['Fwd Pkt Len Max', 'Fwd Pkt Len Std', 'Fwd Pkt Len Mean', 'Bwd Header Len', 'Fwd Seg Size Avg', 'Flow Byts/s', 'Pkt Len Min', 'Pkt Size Avg', 'Pkt Len Std', 'Fwd Pkt Len Min'], 'Adv sample 364': ['Idle Mean', 'Idle Max', 'ACK Flag Cnt', 'Fwd IAT Min', 'Idle Min', 'Bwd Pkts/s', 'FIN Flag Cnt', 'Bwd Pkt Len Min', 'Pkt Len Min', 'Fwd Pkt Len Max'], 'Adv sample 365': ['SYN Flag Cnt', 'Fwd Pkt Len Max', 'Fwd Pkt Len Std', 'Bwd Pkt Len Min', 'Pkt Len Min', 'Fwd Seg Size Avg', 'Pkt Len Max', 'Fwd Pkt Len Mean', 'Flow Byts/s', 'PSH Flag Cnt'], 'Adv sample 366': ['Fwd Pkt Len Max', 'Fwd Pkt Len Std', 'Pkt Len Min', 'SYN Flag Cnt', 'Active Std', 'Fwd Seg Size Avg', 'Fwd Pkt Len Mean', 'Pkt Len Max', 'Flow Byts/s', 'Pkt Size Avg'], 'Adv sample 367': ['SYN Flag Cnt', 'Bwd Pkts/s', 'Bwd Header Len', 'Subflow Bwd Pkts', 'Tot Bwd Pkts', 'FIN Flag Cnt', 'ACK Flag Cnt', 'Fwd Pkt Len Std', 'Fwd Header Len', 'Pkt Len Std'], 'Adv sample 368': ['SYN Flag Cnt', 'Bwd Pkts/s', 'Bwd Header Len', 'Subflow Bwd Pkts', 'Tot Bwd Pkts', 'FIN Flag Cnt', 'ACK Flag Cnt', 'Fwd IAT Min', 'Fwd Pkt Len Mean', 'Fwd Header Len'], 'Adv sample 369': ['Fwd Pkt Len Max', 'Bwd Header Len', 'Flow Byts/s', 'Fwd Pkt Len Std', 'Fwd Seg Size Avg', 'Pkt Len Min', 'Fwd Pkt Len Mean', 'Active Max', 'Pkt Len Std', 'Tot Fwd Pkts'], 'Adv sample 370': ['SYN Flag Cnt', 'Bwd Header Len', 'Flow Pkts/s', 'Pkt Len Min', 'Down/Up Ratio', 'Fwd Pkt Len Max', 'Fwd Pkt Len Std', 'Tot Bwd Pkts', 'Subflow Bwd Pkts', 'Tot Fwd Pkts'], 'Adv sample 371': ['SYN Flag Cnt', 'Bwd Header Len', 'Tot Bwd Pkts', 'Flow Pkts/s', 'FIN Flag Cnt', 'Subflow Bwd Pkts', 'ACK Flag Cnt', 'Fwd Pkt Len Max', 'Tot Fwd Pkts', 'Init Fwd Win Byts'], 'Adv sample 372': ['Fwd Pkt Len Std', 'Fwd Pkt Len Mean', 'Fwd Seg Size Avg', 'SYN Flag Cnt', 'Fwd Pkt Len Max', 'Pkt Len Max', 'Pkt Len Min', 'Active Std', 'Flow Byts/s', 'Pkt Size Avg'], 'Adv sample 373': ['SYN Flag Cnt', 'Init Fwd Win Byts', 'Fwd Pkt Len Max', 'Fwd Pkt Len Mean', 'ACK Flag Cnt', 'Fwd Pkt Len Std', 'Bwd Pkts/s', 'Fwd Pkt Len Min', 'Pkt Len Min', 'Down/Up Ratio'], 'Adv sample 374': ['SYN Flag Cnt', 'Flow Pkts/s', 'Down/Up Ratio', 'Bwd Pkts/s', 'FIN Flag Cnt', 'Bwd Header Len', 'Flow Duration', 'Subflow Bwd Pkts', 'Bwd IAT Std', 'Idle Max'], 'Adv sample 375': ['Fwd Pkt Len Max', 'Fwd Pkt Len Mean', 'Flow Byts/s', 'Bwd Header Len', 'Pkt Len Min', 'Bwd Pkts/s', 'Fwd IAT Tot', 'Fwd Pkt Len Std', 'Fwd IAT Min', 'ACK Flag Cnt'], 'Adv sample 376': ['Pkt Len Min', 'Init Fwd Win Byts', 'SYN Flag Cnt', 'Bwd Pkt Len Min', 'Down/Up Ratio', 'FIN Flag Cnt', 'ACK Flag Cnt', 'Flow IAT Min', 'Fwd Pkts/b Avg', 'Flow IAT Max'], 'Adv sample 377': ['SYN Flag Cnt', 'Flow Pkts/s', 'Down/Up Ratio', 'FIN Flag Cnt', 'ACK Flag Cnt', 'Bwd Pkts/s', 'Flow Duration', 'Bwd IAT Std', 'Subflow Bwd Pkts', 'Flow IAT Std'], 'Adv sample 378': ['SYN Flag Cnt', 'Flow Pkts/s', 'Down/Up Ratio', 'Fwd Pkt Len Mean', 'Pkt Len Min', 'Fwd Pkt Len Max', 'Fwd Pkt Len Std', 'Bwd Header Len', 'FIN Flag Cnt', 'Fwd Seg Size Avg'], 'Adv sample 379': ['SYN Flag Cnt', 'Bwd Pkts/s', 'Bwd Header Len', 'Tot Bwd Pkts', 'ACK Flag Cnt', 'FIN Flag Cnt', 'Subflow Bwd Pkts', 'Fwd Pkt Len Std', 'Fwd IAT Mean', 'Fwd Pkt Len Max'], 'Adv sample 380': ['Down/Up Ratio', 'Flow IAT Max', 'Fwd IAT Min', 'Fwd IAT Std', 'Fwd IAT Max', 'Bwd Pkts/s', 'ACK Flag Cnt', 'Idle Min', 'FIN Flag Cnt', 'CWE Flag Count'], 'Adv sample 381': ['Fwd Pkt Len Max', 'Fwd Pkt Len Std', 'Pkt Len Min', 'Fwd Pkt Len Min', 'Fwd Seg Size Avg', 'Fwd Pkt Len Mean', 'Bwd Pkts/s', 'Pkt Len Std', 'Flow Byts/s', 'Pkt Len Max'], 'Adv sample 382': ['Fwd Pkt Len Std', 'Fwd Pkt Len Mean', 'Fwd Pkt Len Max', 'Fwd Seg Size Avg', 'Fwd IAT Tot', 'Bwd IAT Tot', 'Flow Byts/s', 'Bwd Pkts/s', 'Fwd Seg Size Min', 'Pkt Len Max'], 'Adv sample 383': ['Pkt Len Min', 'Down/Up Ratio', 'SYN Flag Cnt', 'Bwd Pkt Len Min', 'FIN Flag Cnt', 'Flow Pkts/s', 'Bwd Pkts/s', 'Flow IAT Std', 'Pkt Size Avg', 'Bwd Seg Size Avg'], 'Adv sample 384': ['Init Fwd Win Byts', 'Pkt Len Min', 'SYN Flag Cnt', 'Bwd Pkt Len Min', 'Down/Up Ratio', 'FIN Flag Cnt', 'Fwd Pkt Len Min', 'ACK Flag Cnt', 'Flow IAT Max', 'Bwd IAT Mean'], 'Adv sample 385': ['SYN Flag Cnt', 'Pkt Len Min', 'Fwd Pkt Len Max', 'Init Bwd Win Byts', 'Fwd Pkt Len Std', 'FIN Flag Cnt', 'Bwd Pkt Len Min', 'Fwd Seg Size Avg', 'Pkt Len Std', 'Tot Fwd Pkts'], 'Adv sample 386': ['Fwd Pkt Len Max', 'Fwd Pkt Len Std', 'Bwd Header Len', 'Flow Byts/s', 'Pkt Len Min', 'Fwd Pkt Len Mean', 'Tot Bwd Pkts', 'Flow IAT Max', 'Active Std', 'Pkt Len Std'], 'Adv sample 387': ['Bwd PSH Flags', 'Pkt Len Min', 'SYN Flag Cnt', 'Bwd Pkt Len Min', 'Bwd Pkts/s', 'FIN Flag Cnt', 'Tot Fwd Pkts', 'Fwd Pkts/b Avg', 'Bwd IAT Std', 'Idle Mean'], 'Adv sample 388': ['Down/Up Ratio', 'Init Fwd Win Byts', 'SYN Flag Cnt', 'FIN Flag Cnt', 'Bwd Pkts/s', 'Flow Pkts/s', 'PSH Flag Cnt', 'Idle Mean', 'TotLen Bwd Pkts', 'Idle Max'], 'Adv sample 389': ['Pkt Len Min', 'Down/Up Ratio', 'SYN Flag Cnt', 'Bwd Pkt Len Min', 'FIN Flag Cnt', 'Bwd Pkts/s', 'Flow Pkts/s', 'Bwd IAT Std', 'Fwd Pkt Len Mean', 'Bwd Header Len'], 'Adv sample 390': ['SYN Flag Cnt', 'Bwd Pkts/s', 'Bwd Header Len', 'Subflow Bwd Pkts', 'ACK Flag Cnt', 'Tot Bwd Pkts', 'FIN Flag Cnt', 'Fwd IAT Mean', 'Fwd IAT Std', 'Bwd IAT Std'], 'Adv sample 391': ['SYN Flag Cnt', 'Bwd Header Len', 'FIN Flag Cnt', 'Subflow Bwd Pkts', 'Subflow Fwd Pkts', 'Flow Pkts/s', 'Tot Bwd Pkts', 'ACK Flag Cnt', 'Fwd Pkt Len Std', 'Fwd Pkt Len Mean'], 'Adv sample 392': ['SYN Flag Cnt', 'Bwd Pkts/s', 'Bwd Header Len', 'Subflow Bwd Pkts', 'Tot Bwd Pkts', 'FIN Flag Cnt', 'ACK Flag Cnt', 'Subflow Fwd Pkts', 'Fwd Pkt Len Mean', 'Fwd IAT Mean'], 'Adv sample 393': ['SYN Flag Cnt', 'Bwd Header Len', 'Tot Bwd Pkts', 'FIN Flag Cnt', 'Fwd IAT Mean', 'Subflow Bwd Pkts', 'ACK Flag Cnt', 'Fwd Act Data Pkts', 'Tot Fwd Pkts', 'Fwd IAT Min'], 'Adv sample 394': ['SYN Flag Cnt', 'Tot Bwd Pkts', 'FIN Flag Cnt', 'Subflow Bwd Pkts', 'Fwd Pkt Len Max', 'Fwd IAT Mean', 'Bwd Pkts/s', 'Bwd Header Len', 'ACK Flag Cnt', 'Tot Fwd Pkts'], 'Adv sample 395': ['Init Fwd Win Byts', 'Pkt Len Min', 'SYN Flag Cnt', 'Bwd Pkt Len Min', 'FIN Flag Cnt', 'Down/Up Ratio', 'ACK Flag Cnt', 'Fwd Pkt Len Min', 'Bwd IAT Std', 'Pkt Len Var'], 'Adv sample 396': ['Init Fwd Win Byts', 'Pkt Len Min', 'SYN Flag Cnt', 'Bwd Pkt Len Min', 'FIN Flag Cnt', 'Down/Up Ratio', 'ACK Flag Cnt', 'Bwd IAT Tot', 'PSH Flag Cnt', 'Fwd IAT Max'], 'Adv sample 397': ['SYN Flag Cnt', 'Fwd Pkt Len Max', 'Fwd Pkt Len Std', 'Init Bwd Win Byts', 'Pkt Len Min', 'Fwd Seg Size Avg', 'Pkt Len Var', 'Subflow Bwd Pkts', 'Fwd IAT Min', 'FIN Flag Cnt'], 'Adv sample 398': ['Init Fwd Win Byts', 'Pkt Len Min', 'SYN Flag Cnt', 'Bwd Pkt Len Min', 'FIN Flag Cnt', 'Down/Up Ratio', 'ACK Flag Cnt', 'Fwd Pkt Len Min', 'Fwd IAT Mean', 'Flow IAT Std'], 'Adv sample 399': ['Pkt Len Min', 'SYN Flag Cnt', 'Bwd Pkt Len Min', 'Init Fwd Win Byts', 'FIN Flag Cnt', 'Down/Up Ratio', 'ACK Flag Cnt', 'Flow IAT Max', 'Bwd IAT Tot', 'Fwd IAT Max'], 'Adv sample 400': ['Fwd Pkt Len Std', 'Fwd Pkt Len Max', 'Fwd Pkt Len Mean', 'Bwd Header Len', 'Fwd Seg Size Avg', 'Fwd Pkt Len Min', 'Init Fwd Win Byts', 'Pkt Len Std', 'Flow Byts/s', 'Pkt Size Avg'], 'Adv sample 401': ['SYN Flag Cnt', 'Fwd Pkt Len Max', 'Init Bwd Win Byts', 'Fwd Pkt Len Mean', 'Pkt Len Min', 'Bwd Header Len', 'Fwd Seg Size Avg', 'Flow Byts/s', 'Tot Bwd Pkts', 'Pkt Len Var'], 'Adv sample 402': ['SYN Flag Cnt', 'Bwd Pkts/s', 'Bwd Header Len', 'Subflow Bwd Pkts', 'FIN Flag Cnt', 'ACK Flag Cnt', 'Subflow Fwd Pkts', 'Fwd Seg Size Avg', 'Tot Bwd Pkts', 'Fwd Pkt Len Max'], 'Adv sample 403': ['SYN Flag Cnt', 'Bwd Pkts/s', 'FIN Flag Cnt', 'Fwd Pkt Len Mean', 'Tot Bwd Pkts', 'Bwd Header Len', 'Subflow Bwd Pkts', 'ACK Flag Cnt', 'Pkt Len Std', 'Fwd Pkt Len Std'], 'Adv sample 404': ['Down/Up Ratio', 'Fwd IAT Std', 'ACK Flag Cnt', 'Fwd IAT Mean', 'Flow IAT Max', 'Bwd Pkts/s', 'FIN Flag Cnt', 'Subflow Fwd Pkts', 'Tot Bwd Pkts', 'Fwd IAT Tot'], 'Adv sample 405': ['Fwd Pkt Len Std', 'Fwd Pkt Len Max', 'Fwd Pkt Len Mean', 'Fwd Seg Size Avg', 'Pkt Len Std', 'Bwd PSH Flags', 'Pkt Size Avg', 'Pkt Len Mean', 'Pkt Len Max', 'Bwd Pkt Len Min'], 'Adv sample 406': ['Fwd Pkt Len Max', 'Fwd Pkt Len Std', 'Fwd Pkt Len Mean', 'Fwd Seg Size Avg', 'SYN Flag Cnt', 'Pkt Len Min', 'Pkt Len Max', 'Flow Byts/s', 'Pkt Size Avg', 'Tot Bwd Pkts'], 'Adv sample 407': ['SYN Flag Cnt', 'Init Bwd Win Byts', 'Fwd Pkt Len Std', 'Fwd Pkt Len Max', 'Pkt Len Var', 'FIN Flag Cnt', 'Tot Bwd Pkts', 'Pkt Len Min', 'Bwd Header Len', 'Fwd Act Data Pkts'], 'Adv sample 408': ['SYN Flag Cnt', 'Bwd Header Len', 'Tot Bwd Pkts', 'Flow Pkts/s', 'FIN Flag Cnt', 'Subflow Bwd Pkts', 'ACK Flag Cnt', 'Init Fwd Win Byts', 'Fwd Seg Size Avg', 'Fwd Pkt Len Max'], 'Adv sample 409': ['SYN Flag Cnt', 'Bwd Pkts/s', 'Flow Pkts/s', 'FIN Flag Cnt', 'Tot Bwd Pkts', 'Subflow Bwd Pkts', 'Fwd IAT Mean', 'Bwd Pkt Len Std', 'Fwd Act Data Pkts', 'Tot Fwd Pkts'], 'Adv sample 410': ['Init Fwd Win Byts', 'Down/Up Ratio', 'Fwd Pkt Len Max', 'Bwd Header Len', 'Fwd Pkt Len Min', 'Bwd Pkt Len Min', 'Pkt Len Min', 'FIN Flag Cnt', 'Bwd Pkts/s', 'Fwd Header Len'], 'Adv sample 411': ['Fwd Pkt Len Max', 'Fwd Pkt Len Std', 'Fwd Seg Size Avg', 'Flow Byts/s', 'Pkt Size Avg', 'Pkt Len Std', 'SYN Flag Cnt', 'Pkt Len Min', 'FIN Flag Cnt', 'Tot Bwd Pkts'], 'Adv sample 412': ['Down/Up Ratio', 'Init Fwd Win Byts', 'SYN Flag Cnt', 'FIN Flag Cnt', 'PSH Flag Cnt', 'Bwd Pkts/s', 'Flow Pkts/s', 'Flow IAT Std', 'Fwd IAT Min', 'Flow IAT Max'], 'Adv sample 413': ['SYN Flag Cnt', 'Fwd Pkt Len Std', 'Bwd Pkts/s', 'Init Fwd Win Byts', 'Fwd Pkt Len Mean', 'ACK Flag Cnt', 'Fwd Pkt Len Max', 'Fwd Seg Size Avg', 'Pkt Size Avg', 'Pkt Len Mean'], 'Adv sample 414': ['SYN Flag Cnt', 'Bwd Header Len', 'Tot Bwd Pkts', 'Subflow Bwd Pkts', 'Flow Pkts/s', 'FIN Flag Cnt', 'ACK Flag Cnt', 'Fwd IAT Mean', 'Subflow Fwd Pkts', 'Fwd Seg Size Avg'], 'Adv sample 415': ['Bwd Pkts/s', 'Down/Up Ratio', 'Fwd IAT Min', 'Fwd Pkt Len Max', 'Flow Byts/s', 'Idle Min', 'Pkt Size Avg', 'Fwd Pkt Len Mean', 'Bwd Pkts/b Avg', 'Subflow Bwd Pkts'], 'Adv sample 416': ['Init Fwd Win Byts', 'Pkt Len Min', 'SYN Flag Cnt', 'Bwd Pkt Len Min', 'Down/Up Ratio', 'FIN Flag Cnt', 'ACK Flag Cnt', 'Bwd IAT Std', 'Bwd PSH Flags', 'Flow IAT Std'], 'Adv sample 417': ['SYN Flag Cnt', 'Subflow Bwd Pkts', 'Bwd Header Len', 'Bwd Pkts/s', 'Tot Bwd Pkts', 'FIN Flag Cnt', 'ACK Flag Cnt', 'Fwd Act Data Pkts', 'Bwd Pkt Len Max', 'Subflow Fwd Pkts'], 'Adv sample 418': ['FIN Flag Cnt', 'Pkt Len Std', 'Fwd Pkt Len Std', 'Flow Byts/s', 'Pkt Len Max', 'Bwd Pkts/s', 'Fwd IAT Min', 'ACK Flag Cnt', 'Fwd Seg Size Avg', 'Flow IAT Max'], 'Adv sample 419': ['SYN Flag Cnt', 'Fwd Pkt Len Std', 'Fwd Pkt Len Mean', 'Fwd Pkt Len Max', 'Init Fwd Win Byts', 'ACK Flag Cnt', 'Bwd Pkts/s', 'Flow Byts/s', 'Pkt Size Avg', 'Fwd Seg Size Avg'], 'Adv sample 420': ['Fwd Pkt Len Std', 'SYN Flag Cnt', 'Pkt Len Mean', 'Fwd Seg Size Avg', 'Down/Up Ratio', 'Fwd Pkt Len Mean', 'Fwd Pkt Len Max', 'Pkt Size Avg', 'Pkt Len Std', 'Fwd Header Len'], 'Adv sample 421': ['Fwd Pkt Len Max', 'Flow Byts/s', 'Pkt Len Min', 'Fwd Pkt Len Std', 'Bwd Header Len', 'Idle Mean', 'Idle Min', 'ECE Flag Cnt', 'Fwd IAT Max', 'Fwd Pkt Len Mean'], 'Adv sample 422': ['Fwd Pkt Len Std', 'Pkt Len Mean', 'Fwd Pkt Len Max', 'SYN Flag Cnt', 'Bwd Pkts/s', 'Bwd Pkt Len Std', 'Pkt Len Max', 'Fwd Pkt Len Mean', 'Pkt Len Std', 'PSH Flag Cnt'], 'Adv sample 423': ['Down/Up Ratio', 'Flow Byts/s', 'Bwd Pkts/s', 'Fwd IAT Min', 'Init Fwd Win Byts', 'ACK Flag Cnt', 'Idle Min', 'FIN Flag Cnt', 'Pkt Len Std', 'Fwd IAT Max'], 'Adv sample 424': ['Pkt Len Min', 'SYN Flag Cnt', 'Down/Up Ratio', 'Bwd Pkt Len Min', 'Bwd Pkts/s', 'Flow Pkts/s', 'FIN Flag Cnt', 'Fwd IAT Tot', 'Bwd IAT Std', 'Fwd Seg Size Avg'], 'Adv sample 425': ['Fwd Pkt Len Max', 'Fwd Pkt Len Mean', 'Fwd Pkt Len Std', 'Pkt Len Min', 'SYN Flag Cnt', 'Pkt Size Avg', 'Flow Byts/s', 'Pkt Len Mean', 'Fwd Seg Size Avg', 'Tot Bwd Pkts'], 'Adv sample 426': ['Pkt Len Min', 'Init Fwd Win Byts', 'Down/Up Ratio', 'FIN Flag Cnt', 'Tot Bwd Pkts', 'Fwd Pkt Len Std', 'Bwd Header Len', 'Fwd Seg Size Avg', 'Bwd Pkts/s', 'Flow Pkts/s'], 'Adv sample 427': ['SYN Flag Cnt', 'Flow Pkts/s', 'Down/Up Ratio', 'FIN Flag Cnt', 'Bwd Pkts/s', 'ACK Flag Cnt', 'Bwd Header Len', 'Flow Duration', 'Bwd IAT Std', 'Tot Bwd Pkts'], 'Adv sample 428': ['SYN Flag Cnt', 'Fwd Pkt Len Max', 'Pkt Len Min', 'Down/Up Ratio', 'Fwd Pkt Len Std', 'Fwd Pkt Len Mean', 'Bwd Pkts/s', 'Pkt Len Max', 'FIN Flag Cnt', 'Pkt Len Mean'], 'Adv sample 429': ['Fwd Pkt Len Max', 'Fwd Pkt Len Mean', 'Fwd Pkt Len Std', 'SYN Flag Cnt', 'Pkt Len Min', 'Fwd Seg Size Avg', 'Bwd Pkt Len Min', 'Init Fwd Win Byts', 'Pkt Len Std', 'Pkt Len Mean'], 'Adv sample 430': ['SYN Flag Cnt', 'Bwd Pkts/s', 'Tot Bwd Pkts', 'Subflow Bwd Pkts', 'Bwd Header Len', 'ACK Flag Cnt', 'FIN Flag Cnt', 'Subflow Fwd Pkts', 'Fwd IAT Mean', 'Pkt Len Mean'], 'Adv sample 431': ['SYN Flag Cnt', 'Bwd Header Len', 'FIN Flag Cnt', 'Fwd Pkt Len Max', 'Tot Bwd Pkts', 'Fwd IAT Mean', 'ACK Flag Cnt', 'Fwd Act Data Pkts', 'Subflow Bwd Pkts', 'Fwd Seg Size Avg'], 'Adv sample 432': ['SYN Flag Cnt', 'Bwd Pkts/s', 'Subflow Bwd Pkts', 'Bwd Header Len', 'FIN Flag Cnt', 'Subflow Fwd Pkts', 'Fwd Pkt Len Std', 'ACK Flag Cnt', 'Fwd Pkt Len Mean', 'Fwd Seg Size Avg'], 'Adv sample 433': ['SYN Flag Cnt', 'Init Fwd Win Byts', 'Pkt Len Min', 'Bwd Pkt Len Min', 'FIN Flag Cnt', 'Down/Up Ratio', 'ACK Flag Cnt', 'Fwd Pkt Len Min', 'Bwd IAT Max', 'PSH Flag Cnt'], 'Adv sample 434': ['Bwd Pkts/s', 'Down/Up Ratio', 'Init Fwd Win Byts', 'Subflow Bwd Pkts', 'Idle Max', 'Flow Byts/s', 'Bwd Header Len', 'Fwd Pkt Len Std', 'Fwd IAT Min', 'Bwd Pkts/b Avg'], 'Adv sample 435': ['Init Fwd Win Byts', 'Down/Up Ratio', 'Fwd Pkt Len Min', 'Bwd Pkt Len Min', 'Pkt Len Min', 'Bwd Pkts/s', 'Subflow Bwd Pkts', 'FIN Flag Cnt', 'Bwd Header Len', 'Fwd Seg Size Avg'], 'Adv sample 436': ['Fwd Pkt Len Std', 'Fwd Pkt Len Max', 'Down/Up Ratio', 'Flow Byts/s', 'SYN Flag Cnt', 'Pkt Len Var', 'Pkt Size Avg', 'ACK Flag Cnt', 'Fwd Pkt Len Mean', 'Fwd IAT Std'], 'Adv sample 437': ['Fwd Pkt Len Std', 'Fwd Pkt Len Max', 'Bwd Header Len', 'Flow Byts/s', 'Fwd Pkt Len Mean', 'Pkt Len Mean', 'Pkt Len Std', 'Fwd Pkt Len Min', 'Bwd Pkts/s', 'Init Fwd Win Byts'], 'Adv sample 438': ['Fwd Pkt Len Max', 'Fwd Pkt Len Std', 'Pkt Len Min', 'SYN Flag Cnt', 'Pkt Len Std', 'Pkt Len Mean', 'Fwd Pkt Len Mean', 'Bwd Header Len', 'Fwd Seg Size Avg', 'Subflow Fwd Pkts'], 'Adv sample 439': ['Fwd Pkt Len Std', 'Fwd Pkt Len Mean', 'Fwd Pkt Len Max', 'Down/Up Ratio', 'SYN Flag Cnt', 'Pkt Len Mean', 'Fwd Seg Size Avg', 'Tot Fwd Pkts', 'Fwd Header Len', 'ACK Flag Cnt'], 'Adv sample 440': ['Init Fwd Win Byts', 'Fwd Pkt Len Std', 'Down/Up Ratio', 'Bwd Header Len', 'Flow Byts/s', 'Fwd Pkt Len Min', 'Fwd Pkt Len Max', 'Pkt Len Std', 'Bwd Pkts/s', 'FIN Flag Cnt'], 'Adv sample 441': ['SYN Flag Cnt', 'Fwd Pkt Len Std', 'Down/Up Ratio', 'Fwd Seg Size Avg', 'Init Fwd Win Byts', 'Fwd Pkt Len Mean', 'Flow Pkts/s', 'Pkt Len Min', 'Fwd Header Len', 'Subflow Fwd Pkts'], 'Adv sample 442': ['SYN Flag Cnt', 'Fwd Pkt Len Max', 'Fwd Pkt Len Std', 'Fwd Pkt Len Mean', 'Init Fwd Win Byts', 'Subflow Fwd Pkts', 'Fwd Seg Size Avg', 'Flow Pkts/s', 'Down/Up Ratio', 'Pkt Len Min'], 'Adv sample 443': ['SYN Flag Cnt', 'Bwd Pkts/s', 'Bwd Header Len', 'FIN Flag Cnt', 'ACK Flag Cnt', 'Subflow Bwd Pkts', 'Tot Bwd Pkts', 'Fwd Pkt Len Std', 'Fwd IAT Min', 'Fwd Seg Size Avg'], 'Adv sample 444': ['SYN Flag Cnt', 'Flow Pkts/s', 'Down/Up Ratio', 'FIN Flag Cnt', 'Bwd Pkts/s', 'ACK Flag Cnt', 'Bwd IAT Std', 'Flow Duration', 'Idle Max', 'Tot Bwd Pkts'], 'Adv sample 445': ['Fwd Pkt Len Std', 'Fwd Pkt Len Mean', 'Down/Up Ratio', 'Fwd Pkt Len Max', 'Pkt Len Mean', 'SYN Flag Cnt', 'Pkt Size Avg', 'Pkt Len Max', 'Pkt Len Min', 'Bwd Pkts/s'], 'Adv sample 446': ['Bwd IAT Tot', 'Fwd Pkt Len Std', 'Fwd IAT Tot', 'Fwd Pkt Len Max', 'Idle Mean', 'Idle Max', 'Fwd Pkt Len Mean', 'Bwd Pkts/s', 'Pkt Size Avg', 'Init Fwd Win Byts'], 'Adv sample 447': ['Fwd Pkt Len Std', 'Fwd Pkt Len Max', 'SYN Flag Cnt', 'Down/Up Ratio', 'ACK Flag Cnt', 'Fwd Pkt Len Mean', 'Bwd Pkts/s', 'Pkt Len Mean', 'Fwd Act Data Pkts', 'Pkt Len Var'], 'Adv sample 448': ['SYN Flag Cnt', 'Subflow Bwd Pkts', 'Bwd Header Len', 'Tot Bwd Pkts', 'FIN Flag Cnt', 'Fwd Act Data Pkts', 'Fwd Pkt Len Std', 'ACK Flag Cnt', 'Subflow Fwd Pkts', 'Pkt Len Max'], 'Adv sample 449': ['SYN Flag Cnt', 'Fwd Seg Size Avg', 'FIN Flag Cnt', 'Subflow Fwd Pkts', 'Subflow Bwd Pkts', 'Bwd Header Len', 'Fwd Pkt Len Std', 'Tot Bwd Pkts', 'ACK Flag Cnt', 'Fwd Pkt Len Max'], 'Adv sample 450': ['Fwd Pkt Len Max', 'Fwd Pkt Len Std', 'Pkt Len Mean', 'Bwd Pkts/s', 'Fwd Pkt Len Mean', 'SYN Flag Cnt', 'Pkt Size Avg', 'Fwd Pkt Len Min', 'Pkt Len Min', 'Init Fwd Win Byts'], 'Adv sample 451': ['Fwd Pkt Len Std', 'Fwd Pkt Len Max', 'Fwd IAT Tot', 'Fwd Pkt Len Mean', 'Bwd Pkts/s', 'Bwd IAT Tot', 'Pkt Len Mean', 'Fwd IAT Std', 'Pkt Len Std', 'Pkt Len Max'], 'Adv sample 452': ['Fwd Pkt Len Mean', 'Fwd Pkt Len Max', 'Bwd Header Len', 'Fwd Seg Size Avg', 'Pkt Len Min', 'Fwd IAT Std', 'Idle Mean', 'Fwd Pkt Len Std', 'Pkt Len Max', 'Bwd Pkts/s'], 'Adv sample 453': ['Down/Up Ratio', 'Init Fwd Win Byts', 'Pkt Len Min', 'Subflow Bwd Pkts', 'FIN Flag Cnt', 'Tot Bwd Pkts', 'Bwd Pkts/s', 'Bwd Pkt Len Min', 'Fwd Pkt Len Min', 'Pkt Size Avg'], 'Adv sample 454': ['SYN Flag Cnt', 'Fwd Pkt Len Max', 'Pkt Len Min', 'Fwd Pkt Len Std', 'Flow Byts/s', 'FIN Flag Cnt', 'Down/Up Ratio', 'Bwd Header Len', 'Fwd Seg Size Avg', 'Bwd Pkt Len Min'], 'Adv sample 455': ['Fwd Pkt Len Max', 'Fwd Seg Size Avg', 'Fwd Pkt Len Mean', 'Fwd Pkt Len Min', 'Fwd Pkt Len Std', 'Flow IAT Std', 'Fwd IAT Tot', 'Bwd Pkts/s', 'Flow IAT Max', 'Flow Byts/s'], 'Adv sample 456': ['Pkt Len Min', 'Init Fwd Win Byts', 'SYN Flag Cnt', 'Bwd Pkt Len Min', 'Down/Up Ratio', 'FIN Flag Cnt', 'ACK Flag Cnt', 'PSH Flag Cnt', 'Idle Max', 'Flow IAT Max'], 'Adv sample 457': ['Bwd PSH Flags', 'Pkt Len Min', 'SYN Flag Cnt', 'Bwd Pkt Len Min', 'Init Fwd Win Byts', 'Bwd Pkts/s', 'Flow IAT Std', 'Down/Up Ratio', 'FIN Flag Cnt', 'Subflow Bwd Pkts'], 'Adv sample 458': ['Init Fwd Win Byts', 'Fwd Pkt Len Std', 'Bwd Header Len', 'Fwd Pkt Len Max', 'Pkt Len Std', 'Fwd Pkt Len Min', 'FIN Flag Cnt', 'Pkt Size Avg', 'Pkt Len Var', 'Flow Pkts/s'], 'Adv sample 459': ['Fwd Pkt Len Max', 'Fwd Pkt Len Std', 'Fwd Seg Size Avg', 'SYN Flag Cnt', 'Pkt Len Min', 'Fwd Pkt Len Mean', 'Pkt Len Mean', 'Fwd IAT Std', 'Fwd Pkt Len Min', 'Flow Byts/s'], 'Adv sample 460': ['Pkt Len Min', 'Init Fwd Win Byts', 'SYN Flag Cnt', 'Bwd Pkt Len Min', 'FIN Flag Cnt', 'Down/Up Ratio', 'ACK Flag Cnt', 'Fwd Pkt Len Min', 'PSH Flag Cnt', 'Idle Max'], 'Adv sample 461': ['Fwd Pkt Len Std', 'Fwd Pkt Len Max', 'Bwd Header Len', 'Fwd Pkt Len Mean', 'Flow Byts/s', 'Fwd Seg Size Avg', 'Pkt Len Mean', 'Pkt Len Max', 'Pkt Len Std', 'Down/Up Ratio'], 'Adv sample 462': ['Fwd Pkt Len Max', 'Fwd Pkt Len Std', 'Fwd Pkt Len Mean', 'Fwd Seg Size Avg', 'Bwd PSH Flags', 'Pkt Len Mean', 'Pkt Size Avg', 'Init Fwd Win Byts', 'Fwd Header Len', 'Active Max'], 'Adv sample 463': ['SYN Flag Cnt', 'Bwd Pkts/s', 'Fwd Pkt Len Std', 'Subflow Bwd Pkts', 'FIN Flag Cnt', 'ACK Flag Cnt', 'Tot Bwd Pkts', 'Bwd Header Len', 'Fwd Header Len', 'Subflow Fwd Pkts'], 'Adv sample 464': ['Fwd Pkt Len Max', 'Fwd Pkt Len Std', 'Pkt Len Std', 'Flow Byts/s', 'Fwd Pkt Len Mean', 'Fwd Seg Size Avg', 'Pkt Len Min', 'Init Fwd Win Byts', 'Bwd Header Len', 'Bwd Pkts/s'], 'Adv sample 465': ['Fwd Pkt Len Max', 'Fwd Seg Size Avg', 'Fwd Pkt Len Std', 'SYN Flag Cnt', 'Fwd Pkt Len Mean', 'Pkt Len Mean', 'Pkt Size Avg', 'Pkt Len Min', 'Fwd Act Data Pkts', 'Fwd Pkt Len Min'], 'Adv sample 466': ['Fwd Pkt Len Std', 'Fwd Pkt Len Max', 'Fwd Pkt Len Mean', 'Flow Byts/s', 'Pkt Len Min', 'Pkt Len Std', 'Init Fwd Win Byts', 'Fwd Seg Size Avg', 'Bwd Header Len', 'Bwd IAT Tot'], 'Adv sample 467': ['SYN Flag Cnt', 'Fwd Pkt Len Max', 'Init Fwd Win Byts', 'Bwd Pkts/s', 'Fwd Pkt Len Mean', 'Fwd Pkt Len Min', 'ACK Flag Cnt', 'Fwd IAT Std', 'Pkt Len Max', 'Pkt Len Mean'], 'Adv sample 468': ['Fwd Pkt Len Std', 'SYN Flag Cnt', 'Down/Up Ratio', 'Fwd Pkt Len Mean', 'ACK Flag Cnt', 'Pkt Len Mean', 'Pkt Size Avg', 'Fwd Pkt Len Max', 'Flow Byts/s', 'Tot Fwd Pkts'], 'Adv sample 469': ['SYN Flag Cnt', 'Bwd Pkts/s', 'Bwd Header Len', 'Tot Bwd Pkts', 'Subflow Bwd Pkts', 'FIN Flag Cnt', 'ACK Flag Cnt', 'Fwd Pkt Len Std', 'Fwd Seg Size Avg', 'Bwd IAT Std'], 'Adv sample 470': ['Down/Up Ratio', 'Bwd Pkts/s', 'FIN Flag Cnt', 'ACK Flag Cnt', 'Init Fwd Win Byts', 'Fwd IAT Min', 'Idle Mean', 'Fwd Pkt Len Std', 'Fwd Header Len', 'Tot Bwd Pkts'], 'Adv sample 471': ['SYN Flag Cnt', 'Pkt Len Min', 'Init Fwd Win Byts', 'Bwd Pkt Len Min', 'Down/Up Ratio', 'FIN Flag Cnt', 'ACK Flag Cnt', 'Tot Fwd Pkts', 'Fwd Pkt Len Min', 'Flow IAT Std'], 'Adv sample 472': ['SYN Flag Cnt', 'Fwd Pkt Len Max', 'Bwd Pkts/s', 'Fwd Pkt Len Std', 'Init Fwd Win Byts', 'Bwd Header Len', 'Down/Up Ratio', 'Flow Pkts/s', 'Fwd Seg Size Avg', 'Fwd Pkt Len Mean'], 'Adv sample 473': ['Pkt Len Min', 'Init Fwd Win Byts', 'SYN Flag Cnt', 'Bwd Pkt Len Min', 'Down/Up Ratio', 'FIN Flag Cnt', 'ACK Flag Cnt', 'Fwd Pkt Len Min', 'URG Flag Cnt', 'Bwd IAT Std'], 'Adv sample 474': ['Fwd Pkt Len Mean', 'Flow Byts/s', 'Fwd Pkt Len Std', 'Fwd Pkt Len Max', 'Bwd Header Len', 'Pkt Len Min', 'Fwd IAT Min', 'Fwd IAT Std', 'Fwd Seg Size Avg', 'ACK Flag Cnt'], 'Adv sample 475': ['Fwd IAT Min', 'Fwd Pkt Len Std', 'Pkt Len Std', 'Fwd Pkt Len Mean', 'Pkt Len Min', 'Bwd Header Len', 'FIN Flag Cnt', 'Bwd Pkt Len Min', 'Bwd Pkts/s', 'Fwd Pkt Len Max'], 'Adv sample 476': ['Fwd Pkt Len Std', 'Fwd Pkt Len Max', 'Pkt Size Avg', 'SYN Flag Cnt', 'Pkt Len Mean', 'Fwd Seg Size Avg', 'Fwd Pkt Len Mean', 'Pkt Len Min', 'Flow Byts/s', 'Tot Fwd Pkts'], 'Adv sample 477': ['SYN Flag Cnt', 'Fwd Pkt Len Max', 'Fwd Pkt Len Mean', 'Fwd Pkt Len Std', 'Down/Up Ratio', 'Flow Pkts/s', 'Pkt Len Min', 'Init Fwd Win Byts', 'Fwd Pkt Len Min', 'Fwd Header Len'], 'Adv sample 478': ['Down/Up Ratio', 'Fwd Pkt Len Max', 'Fwd Pkt Len Std', 'ACK Flag Cnt', 'Fwd IAT Std', 'Pkt Len Max', 'Flow IAT Max', 'Fwd IAT Min', 'Fwd Pkt Len Mean', 'Idle Min'], 'Adv sample 479': ['Down/Up Ratio', 'Pkt Len Min', 'SYN Flag Cnt', 'Bwd Pkt Len Min', 'FIN Flag Cnt', 'Bwd Pkts/s', 'Flow Pkts/s', 'Bwd Header Len', 'Fwd Pkt Len Mean', 'Fwd Act Data Pkts'], 'Adv sample 480': ['SYN Flag Cnt', 'Fwd Pkt Len Max', 'Fwd Pkt Len Std', 'Subflow Bwd Pkts', 'Bwd Header Len', 'Fwd Act Data Pkts', 'Tot Fwd Pkts', 'Subflow Fwd Pkts', 'Pkt Len Min', 'FIN Flag Cnt'], 'Adv sample 481': ['Fwd Pkt Len Max', 'SYN Flag Cnt', 'Fwd Pkt Len Std', 'Bwd Header Len', 'Init Fwd Win Byts', 'Bwd Pkts/s', 'Bwd PSH Flags', 'Flow Byts/s', 'Fwd Seg Size Avg', 'Subflow Bwd Pkts'], 'Adv sample 482': ['Flow Byts/s', 'Fwd Seg Size Avg', 'Flow IAT Max', 'Bwd Pkts/s', 'Fwd Pkt Len Mean', 'Pkt Len Max', 'FIN Flag Cnt', 'ACK Flag Cnt', 'Active Min', 'Down/Up Ratio'], 'Adv sample 483': ['Fwd Pkt Len Std', 'SYN Flag Cnt', 'Fwd Pkt Len Max', 'Init Bwd Win Byts', 'Pkt Len Var', 'Bwd Header Len', 'Fwd Seg Size Avg', 'FIN Flag Cnt', 'Pkt Len Max', 'Bwd Pkt Len Min'], 'Adv sample 484': ['SYN Flag Cnt', 'Flow Pkts/s', 'Down/Up Ratio', 'FIN Flag Cnt', 'Bwd Pkts/s', 'Bwd IAT Std', 'Bwd Header Len', 'ACK Flag Cnt', 'Flow Duration', 'Flow IAT Std'], 'Adv sample 485': ['SYN Flag Cnt', 'Subflow Bwd Pkts', 'Bwd Header Len', 'Tot Bwd Pkts', 'FIN Flag Cnt', 'Subflow Fwd Pkts', 'Tot Fwd Pkts', 'ACK Flag Cnt', 'Fwd IAT Min', 'Fwd Seg Size Avg'], 'Adv sample 486': ['Fwd Pkt Len Std', 'Init Fwd Win Byts', 'Pkt Len Std', 'Down/Up Ratio', 'Bwd Header Len', 'Fwd Pkt Len Max', 'Fwd Pkt Len Mean', 'Flow Byts/s', 'Pkt Len Max', 'Tot Bwd Pkts'], 'Adv sample 487': ['SYN Flag Cnt', 'Fwd Pkt Len Max', 'Pkt Len Min', 'Fwd Pkt Len Std', 'Bwd Pkt Len Min', 'Fwd Pkt Len Mean', 'FIN Flag Cnt', 'Flow Byts/s', 'Bwd Pkts/s', 'Fwd Seg Size Avg'], 'Adv sample 488': ['SYN Flag Cnt', 'Bwd Header Len', 'Tot Bwd Pkts', 'Bwd Pkts/s', 'Subflow Bwd Pkts', 'ACK Flag Cnt', 'FIN Flag Cnt', 'Fwd Seg Size Avg', 'Subflow Fwd Pkts', 'Fwd IAT Mean'], 'Adv sample 489': ['SYN Flag Cnt', 'Fwd Pkt Len Max', 'Bwd Pkt Len Min', 'Fwd Pkt Len Std', 'Fwd Pkt Len Mean', 'Pkt Len Max', 'Flow Byts/s', 'Pkt Len Min', 'Bwd Pkts/s', 'Fwd Pkt Len Min'], 'Adv sample 490': ['Fwd Pkt Len Max', 'Fwd Pkt Len Std', 'Fwd Pkt Len Mean', 'Fwd Seg Size Avg', 'Flow Byts/s', 'Pkt Len Max', 'Pkt Len Mean', 'Bwd Header Len', 'Init Fwd Win Byts', 'Fwd Header Len'], 'Adv sample 491': ['Down/Up Ratio', 'Fwd IAT Min', 'Init Fwd Win Byts', 'Fwd IAT Max', 'FIN Flag Cnt', 'Fwd IAT Tot', 'Bwd Header Len', 'Bwd Pkts/s', 'Flow IAT Max', 'Flow Pkts/s'], 'Adv sample 492': ['Init Fwd Win Byts', 'Fwd Pkt Len Std', 'Flow Byts/s', 'Bwd IAT Std', 'Bwd Header Len', 'Bwd Pkts/s', 'FIN Flag Cnt', 'Fwd Pkt Len Min', 'Fwd Pkt Len Mean', 'Fwd Pkt Len Max'], 'Adv sample 493': ['Down/Up Ratio', 'Fwd IAT Min', 'Init Fwd Win Byts', 'Idle Max', 'Flow IAT Max', 'Idle Min', 'Bwd Pkts/s', 'Fwd Pkt Len Std', 'Fwd IAT Tot', 'ACK Flag Cnt'], 'Adv sample 494': ['Fwd IAT Min', 'Flow IAT Max', 'ACK Flag Cnt', 'FIN Flag Cnt', 'Fwd IAT Max', 'Idle Min', 'Tot Bwd Pkts', 'Flow IAT Std', 'Fwd Pkt Len Mean', 'Bwd Pkt Len Min'], 'Adv sample 495': ['SYN Flag Cnt', 'Bwd Pkts/s', 'Tot Bwd Pkts', 'Bwd Header Len', 'FIN Flag Cnt', 'ACK Flag Cnt', 'Fwd Header Len', 'Subflow Bwd Pkts', 'Subflow Fwd Pkts', 'Bwd IAT Std'], 'Adv sample 496': ['Init Fwd Win Byts', 'Pkt Len Min', 'SYN Flag Cnt', 'Bwd Pkt Len Min', 'Down/Up Ratio', 'FIN Flag Cnt', 'ACK Flag Cnt', 'Bwd IAT Std', 'Idle Mean', 'PSH Flag Cnt'], 'Adv sample 497': ['Fwd Pkt Len Mean', 'Bwd Pkts/s', 'Fwd Pkt Len Std', 'Fwd Seg Size Avg', 'SYN Flag Cnt', 'Fwd Pkt Len Max', 'Pkt Size Avg', 'Down/Up Ratio', 'Pkt Len Min', 'Pkt Len Mean'], 'Adv sample 498': ['Fwd Pkt Len Max', 'Fwd Pkt Len Mean', 'Flow Byts/s', 'Fwd Seg Size Avg', 'Fwd Pkt Len Std', 'Bwd Pkts/s', 'FIN Flag Cnt', 'Fwd IAT Std', 'Pkt Len Mean', 'Flow IAT Max'], 'Adv sample 499': ['Bwd PSH Flags', 'Pkt Len Min', 'SYN Flag Cnt', 'Bwd Pkt Len Min', 'URG Flag Cnt', 'Flow Pkts/s', 'Bwd Pkts/s', 'Down/Up Ratio', 'Init Fwd Win Byts', 'Fwd Pkt Len Mean'], 'Adv sample 500': ['Init Fwd Win Byts', 'SYN Flag Cnt', 'Pkt Len Min', 'Bwd Pkt Len Min', 'Down/Up Ratio', 'FIN Flag Cnt', 'ACK Flag Cnt', 'PSH Flag Cnt', 'Bwd IAT Std', 'Bwd URG Flags'], 'Adv sample 501': ['SYN Flag Cnt', 'Bwd Pkts/s', 'Tot Bwd Pkts', 'Fwd IAT Mean', 'Bwd Header Len', 'FIN Flag Cnt', 'ACK Flag Cnt', 'Subflow Bwd Pkts', 'Fwd Pkt Len Max', 'Fwd Seg Size Avg'], 'Adv sample 502': ['Fwd Pkt Len Std', 'Fwd Pkt Len Max', 'Down/Up Ratio', 'SYN Flag Cnt', 'Pkt Len Mean', 'Bwd Pkts/s', 'Fwd Pkt Len Mean', 'ACK Flag Cnt', 'Bwd Header Len', 'Bwd Pkt Len Max'], 'Adv sample 503': ['Init Fwd Win Byts', 'Pkt Len Min', 'SYN Flag Cnt', 'Bwd Pkt Len Min', 'Down/Up Ratio', 'FIN Flag Cnt', 'ACK Flag Cnt', 'Bwd IAT Tot', 'Flow IAT Std', 'Bwd IAT Std'], 'Adv sample 504': ['Pkt Len Min', 'Init Fwd Win Byts', 'SYN Flag Cnt', 'Bwd Pkt Len Min', 'FIN Flag Cnt', 'Down/Up Ratio', 'ACK Flag Cnt', 'Bwd IAT Std', 'Flow Byts/s', 'Fwd IAT Mean'], 'Adv sample 505': ['SYN Flag Cnt', 'Init Fwd Win Byts', 'Fwd Pkt Len Max', 'ACK Flag Cnt', 'Fwd Pkt Len Std', 'Bwd Pkts/s', 'Fwd Pkt Len Mean', 'Fwd Seg Size Avg', 'Fwd Pkt Len Min', 'Pkt Size Avg'], 'Adv sample 506': ['Fwd Pkt Len Max', 'Fwd Pkt Len Std', 'Fwd Pkt Len Mean', 'Bwd PSH Flags', 'Fwd Seg Size Avg', 'Fwd Pkt Len Min', 'Init Fwd Win Byts', 'Pkt Len Std', 'Flow Byts/s', 'Pkt Len Max'], 'Adv sample 507': ['SYN Flag Cnt', 'Bwd Header Len', 'Flow Pkts/s', 'Subflow Bwd Pkts', 'FIN Flag Cnt', 'Tot Bwd Pkts', 'Fwd Header Len', 'Bwd IAT Std', 'Fwd Pkt Len Std', 'Fwd IAT Std'], 'Adv sample 508': ['Fwd Pkt Len Max', 'Fwd Pkt Len Std', 'Fwd Pkt Len Mean', 'Flow Byts/s', 'Fwd Seg Size Avg', 'Bwd Header Len', 'Pkt Len Min', 'Pkt Len Std', 'Pkt Size Avg', 'Pkt Len Max'], 'Adv sample 509': ['Down/Up Ratio', 'Fwd IAT Min', 'FIN Flag Cnt', 'ACK Flag Cnt', 'Bwd Pkts/s', 'Fwd Pkt Len Mean', 'Subflow Bwd Pkts', 'Flow IAT Max', 'PSH Flag Cnt', 'Fwd IAT Std'], 'Adv sample 510': ['Fwd IAT Min', 'Fwd IAT Max', 'Fwd Pkt Len Max', 'Bwd Header Len', 'Fwd Pkt Len Mean', 'Bwd Pkts/s', 'Idle Min', 'Flow Byts/s', 'Pkt Len Std', 'Bwd Pkt Len Min'], 'Adv sample 511': ['Down/Up Ratio', 'Flow IAT Max', 'Idle Min', 'Fwd Pkt Len Max', 'FIN Flag Cnt', 'Tot Bwd Pkts', 'TotLen Bwd Pkts', 'Fwd IAT Std', 'Init Fwd Win Byts', 'Flow Byts/s'], 'Adv sample 512': ['Fwd Pkt Len Std', 'Fwd Pkt Len Max', 'Fwd Pkt Len Mean', 'Pkt Len Min', 'SYN Flag Cnt', 'Fwd Header Len', 'Subflow Fwd Byts', 'Pkt Len Mean', 'Active Std', 'Init Fwd Win Byts'], 'Adv sample 513': ['SYN Flag Cnt', 'Fwd Pkt Len Max', 'Subflow Fwd Pkts', 'Tot Bwd Pkts', 'Subflow Bwd Pkts', 'Fwd Pkt Len Std', 'Bwd Pkt Len Min', 'Bwd Header Len', 'Tot Fwd Pkts', 'Fwd Pkts/s'], 'Adv sample 514': ['Fwd Pkt Len Max', 'Fwd Pkt Len Std', 'Fwd Pkt Len Mean', 'SYN Flag Cnt', 'Fwd Seg Size Avg', 'Subflow Fwd Pkts', 'Active Std', 'Pkt Len Min', 'Flow Byts/s', 'Tot Fwd Pkts'], 'Adv sample 515': ['Fwd Pkt Len Std', 'Flow Byts/s', 'Fwd Pkt Len Max', 'Fwd Seg Size Avg', 'Fwd Pkt Len Mean', 'Pkt Size Avg', 'Pkt Len Std', 'Pkt Len Min', 'Bwd Header Len', 'Bwd IAT Tot'], 'Adv sample 516': ['Down/Up Ratio', 'Fwd Pkt Len Max', 'Fwd IAT Std', 'Pkt Len Max', 'Fwd Pkt Len Std', 'Pkt Len Mean', 'Active Std', 'Pkt Len Std', 'Fwd IAT Min', 'ACK Flag Cnt'], 'Adv sample 517': ['Fwd Pkt Len Max', 'Fwd Pkt Len Std', 'Bwd Pkts/s', 'Down/Up Ratio', 'SYN Flag Cnt', 'ACK Flag Cnt', 'Pkt Len Mean', 'Pkt Size Avg', 'Fwd Pkt Len Mean', 'Fwd Header Len'], 'Adv sample 518': ['Fwd Pkt Len Std', 'Fwd Pkt Len Max', 'SYN Flag Cnt', 'Down/Up Ratio', 'Fwd Pkt Len Mean', 'Pkt Len Mean', 'ACK Flag Cnt', 'Fwd Header Len', 'Pkt Len Max', 'Flow Byts/s'], 'Adv sample 519': ['Pkt Len Min', 'Init Fwd Win Byts', 'SYN Flag Cnt', 'Bwd Pkt Len Min', 'Down/Up Ratio', 'FIN Flag Cnt', 'ACK Flag Cnt', 'Fwd Pkt Len Min', 'Bwd IAT Max', 'Flow Duration'], 'Adv sample 520': ['Fwd Pkt Len Max', 'Fwd Pkt Len Std', 'Fwd Pkt Len Mean', 'SYN Flag Cnt', 'Pkt Size Avg', 'Init Fwd Win Byts', 'Fwd Pkt Len Min', 'Pkt Len Mean', 'Fwd Seg Size Avg', 'Pkt Len Min'], 'Adv sample 521': ['SYN Flag Cnt', 'Flow Pkts/s', 'Bwd Pkts/s', 'FIN Flag Cnt', 'Tot Bwd Pkts', 'Subflow Bwd Pkts', 'Fwd IAT Mean', 'Fwd IAT Min', 'Bwd Header Len', 'Bwd Pkt Len Std'], 'Adv sample 522': ['Down/Up Ratio', 'Init Fwd Win Byts', 'FIN Flag Cnt', 'Bwd Header Len', 'Subflow Bwd Pkts', 'Flow Pkts/s', 'Tot Bwd Pkts', 'Fwd Pkt Len Min', 'Fwd Pkt Len Mean', 'Bwd Pkt Len Min'], 'Adv sample 523': ['Fwd Pkt Len Std', 'Fwd Pkt Len Max', 'Fwd Seg Size Avg', 'Flow Byts/s', 'Bwd Header Len', 'Fwd Pkt Len Mean', 'Pkt Len Max', 'Pkt Len Mean', 'Fwd Pkt Len Min', 'Init Fwd Win Byts'], 'Adv sample 524': ['SYN Flag Cnt', 'Fwd Pkt Len Max', 'Fwd Pkt Len Std', 'Init Bwd Win Byts', 'Pkt Len Min', 'Flow Byts/s', 'Subflow Fwd Pkts', 'Pkt Len Std', 'Fwd Pkt Len Mean', 'FIN Flag Cnt'], 'Adv sample 525': ['SYN Flag Cnt', 'Init Fwd Win Byts', 'Fwd Pkt Len Std', 'ACK Flag Cnt', 'Fwd Pkt Len Max', 'Fwd Pkt Len Mean', 'Fwd Pkt Len Min', 'Bwd Pkts/s', 'Flow Byts/s', 'Flow Pkts/s'], 'Adv sample 526': ['SYN Flag Cnt', 'Bwd Pkts/s', 'Tot Bwd Pkts', 'Bwd Header Len', 'Subflow Bwd Pkts', 'FIN Flag Cnt', 'ACK Flag Cnt', 'Fwd Pkt Len Mean', 'Fwd Pkt Len Max', 'Tot Fwd Pkts'], 'Adv sample 527': ['Down/Up Ratio', 'Bwd Pkts/s', 'ACK Flag Cnt', 'Init Fwd Win Byts', 'Idle Max', 'Fwd IAT Tot', 'FIN Flag Cnt', 'Pkt Len Max', 'Flow Duration', 'Bwd Header Len'], 'Adv sample 528': ['SYN Flag Cnt', 'Fwd Pkt Len Max', 'Flow Byts/s', 'Fwd Pkt Len Std', 'Fwd Pkt Len Min', 'Pkt Len Min', 'Bwd Header Len', 'Bwd Pkt Len Min', 'Tot Bwd Pkts', 'PSH Flag Cnt'], 'Adv sample 529': ['Flow Byts/s', 'Fwd Pkt Len Max', 'Fwd IAT Min', 'Fwd Pkt Len Std', 'Bwd Header Len', 'Fwd Pkt Len Mean', 'Pkt Len Std', 'Pkt Len Mean', 'Fwd IAT Tot', 'FIN Flag Cnt'], 'Adv sample 530': ['SYN Flag Cnt', 'Fwd Pkt Len Max', 'Down/Up Ratio', 'Fwd Pkt Len Std', 'Fwd Pkt Len Mean', 'Init Fwd Win Byts', 'Fwd Act Data Pkts', 'Flow Pkts/s', 'Tot Bwd Pkts', 'ACK Flag Cnt'], 'Adv sample 531': ['Pkt Len Min', 'SYN Flag Cnt', 'Down/Up Ratio', 'Bwd Pkt Len Min', 'FIN Flag Cnt', 'Bwd Pkts/s', 'Flow Pkts/s', 'Fwd IAT Tot', 'Fwd IAT Min', 'Flow IAT Std'], 'Adv sample 532': ['SYN Flag Cnt', 'Bwd Pkts/s', 'Tot Bwd Pkts', 'Bwd Header Len', 'Subflow Bwd Pkts', 'FIN Flag Cnt', 'ACK Flag Cnt', 'Fwd Header Len', 'Fwd Pkt Len Std', 'Tot Fwd Pkts'], 'Adv sample 533': ['SYN Flag Cnt', 'Bwd Header Len', 'Subflow Bwd Pkts', 'FIN Flag Cnt', 'Fwd IAT Mean', 'ACK Flag Cnt', 'Fwd Pkt Len Std', 'Fwd Seg Size Avg', 'Tot Bwd Pkts', 'Fwd Header Len'], 'Adv sample 534': ['Init Fwd Win Byts', 'SYN Flag Cnt', 'Pkt Len Min', 'Bwd Pkt Len Min', 'Down/Up Ratio', 'FIN Flag Cnt', 'ACK Flag Cnt', 'Fwd Pkt Len Min', 'Bwd IAT Std', 'Tot Bwd Pkts'], 'Adv sample 535': ['SYN Flag Cnt', 'Bwd Header Len', 'Subflow Bwd Pkts', 'Tot Bwd Pkts', 'FIN Flag Cnt', 'Flow Pkts/s', 'Tot Fwd Pkts', 'Fwd Seg Size Avg', 'Fwd IAT Mean', 'ACK Flag Cnt'], 'Adv sample 536': ['SYN Flag Cnt', 'Bwd Header Len', 'Subflow Bwd Pkts', 'Tot Bwd Pkts', 'FIN Flag Cnt', 'Fwd Pkt Len Std', 'Fwd Pkt Len Mean', 'Fwd Seg Size Avg', 'Fwd IAT Mean', 'ACK Flag Cnt'], 'Adv sample 537': ['Fwd Pkt Len Mean', 'Flow IAT Max', 'Idle Max', 'Down/Up Ratio', 'Pkt Len Max', 'Flow IAT Std', 'FIN Flag Cnt', 'Bwd Pkts/s', 'Idle Mean', 'Pkt Len Std'], 'Adv sample 538': ['SYN Flag Cnt', 'Bwd Pkts/s', 'Bwd Header Len', 'Tot Bwd Pkts', 'ACK Flag Cnt', 'Fwd Pkt Len Std', 'Fwd Seg Size Avg', 'Subflow Bwd Pkts', 'FIN Flag Cnt', 'Fwd Pkt Len Mean'], 'Adv sample 539': ['Fwd Pkt Len Max', 'Fwd Pkt Len Std', 'Fwd Pkt Len Mean', 'SYN Flag Cnt', 'Pkt Len Min', 'Fwd Seg Size Avg', 'Tot Fwd Pkts', 'Pkt Len Mean', 'Bwd IAT Std', 'Active Std'], 'Adv sample 540': ['Fwd Pkt Len Mean', 'Pkt Len Max', 'Pkt Len Std', 'Init Fwd Win Byts', 'FIN Flag Cnt', 'Fwd Pkt Len Max', 'Flow IAT Mean', 'Fwd IAT Std', 'Idle Min', 'Fwd IAT Min'], 'Adv sample 541': ['SYN Flag Cnt', 'Tot Bwd Pkts', 'FIN Flag Cnt', 'Subflow Bwd Pkts', 'Bwd Header Len', 'Fwd Pkt Len Mean', 'Bwd Pkts/s', 'Fwd Seg Size Avg', 'Subflow Fwd Pkts', 'ACK Flag Cnt'], 'Adv sample 542': ['SYN Flag Cnt', 'Fwd Pkt Len Std', 'Init Fwd Win Byts', 'ACK Flag Cnt', 'Fwd Pkt Len Mean', 'Fwd Pkt Len Min', 'Fwd Pkt Len Max', 'Bwd Pkts/s', 'Pkt Size Avg', 'Pkt Len Std'], 'Adv sample 543': ['SYN Flag Cnt', 'Fwd Pkt Len Std', 'Fwd Pkt Len Max', 'Down/Up Ratio', 'Pkt Len Mean', 'Fwd Seg Size Avg', 'Pkt Len Max', 'Subflow Bwd Pkts', 'Pkt Size Avg', 'Fwd Header Len'], 'Adv sample 544': ['Fwd Pkt Len Max', 'Fwd Pkt Len Std', 'Fwd Pkt Len Mean', 'Bwd Header Len', 'Fwd Seg Size Avg', 'Pkt Len Std', 'Flow Byts/s', 'Init Fwd Win Byts', 'Bwd Pkts/s', 'Subflow Bwd Pkts'], 'Adv sample 545': ['Init Fwd Win Byts', 'Pkt Len Min', 'SYN Flag Cnt', 'Bwd Pkt Len Min', 'Down/Up Ratio', 'FIN Flag Cnt', 'ACK Flag Cnt', 'Fwd Pkt Len Min', 'PSH Flag Cnt', 'Bwd PSH Flags'], 'Adv sample 546': ['SYN Flag Cnt', 'Fwd Pkt Len Std', 'Fwd Pkt Len Mean', 'Fwd Pkt Len Max', 'Pkt Len Min', 'Down/Up Ratio', 'Init Fwd Win Byts', 'Flow Pkts/s', 'Bwd Pkt Len Min', 'Fwd Seg Size Avg'], 'Adv sample 547': ['SYN Flag Cnt', 'Bwd Header Len', 'Bwd Pkts/s', 'Tot Bwd Pkts', 'Fwd Pkt Len Mean', 'ACK Flag Cnt', 'FIN Flag Cnt', 'Subflow Bwd Pkts', 'Fwd IAT Mean', 'Fwd Pkt Len Max'], 'Adv sample 548': ['Fwd IAT Min', 'Flow Byts/s', 'Bwd Header Len', 'Init Bwd Win Byts', 'Fwd Pkt Len Max', 'Pkt Len Min', 'Fwd IAT Std', 'Fwd IAT Max', 'Flow IAT Max', 'ACK Flag Cnt'], 'Adv sample 549': ['SYN Flag Cnt', 'Bwd Header Len', 'Bwd Pkts/s', 'Tot Bwd Pkts', 'Subflow Bwd Pkts', 'Subflow Fwd Pkts', 'FIN Flag Cnt', 'Fwd Seg Size Avg', 'Bwd IAT Std', 'ACK Flag Cnt'], 'Adv sample 550': ['SYN Flag Cnt', 'Bwd Header Len', 'Subflow Bwd Pkts', 'Tot Bwd Pkts', 'Fwd Pkt Len Std', 'FIN Flag Cnt', 'ACK Flag Cnt', 'Fwd Pkt Len Mean', 'Fwd Header Len', 'Fwd Act Data Pkts'], 'Adv sample 551': ['SYN Flag Cnt', 'Bwd Pkts/s', 'Tot Bwd Pkts', 'Bwd Header Len', 'FIN Flag Cnt', 'ACK Flag Cnt', 'Subflow Bwd Pkts', 'Fwd Pkt Len Max', 'Fwd Pkt Len Std', 'Fwd IAT Mean'], 'Adv sample 552': ['Fwd Pkt Len Std', 'Fwd Pkt Len Max', 'Down/Up Ratio', 'Fwd Pkt Len Mean', 'Fwd Seg Size Avg', 'SYN Flag Cnt', 'Pkt Size Avg', 'Fwd Act Data Pkts', 'Init Fwd Win Byts', 'Pkt Len Mean'], 'Adv sample 553': ['Fwd Pkt Len Std', 'Fwd Pkt Len Max', 'Fwd Pkt Len Mean', 'Fwd Seg Size Avg', 'Bwd PSH Flags', 'Init Fwd Win Byts', 'ECE Flag Cnt', 'Flow Byts/s', 'Pkt Len Mean', 'Bwd Header Len'], 'Adv sample 554': ['Fwd Pkt Len Std', 'Fwd Pkt Len Max', 'Flow Byts/s', 'Bwd Header Len', 'Pkt Len Min', 'Fwd Seg Size Avg', 'Fwd Pkt Len Mean', 'Pkt Size Avg', 'Pkt Len Max', 'Fwd Pkt Len Min'], 'Adv sample 555': ['Fwd Seg Size Avg', 'Pkt Len Std', 'Pkt Len Mean', 'Pkt Len Max', 'Bwd Pkts/s', 'Fwd Pkt Len Mean', 'Fwd Pkt Len Max', 'Bwd Pkt Len Max', 'PSH Flag Cnt', 'Fwd IAT Min'], 'Adv sample 556': ['SYN Flag Cnt', 'Fwd Pkt Len Std', 'Fwd Pkt Len Max', 'Bwd Header Len', 'Init Bwd Win Byts', 'Pkt Len Var', 'Subflow Fwd Pkts', 'Pkt Len Min', 'FIN Flag Cnt', 'Pkt Size Avg'], 'Adv sample 557': ['Fwd Pkt Len Std', 'Down/Up Ratio', 'Pkt Len Mean', 'Fwd Pkt Len Max', 'Flow Byts/s', 'Pkt Size Avg', 'SYN Flag Cnt', 'Fwd Pkt Len Mean', 'Fwd Act Data Pkts', 'ACK Flag Cnt'], 'Adv sample 558': ['SYN Flag Cnt', 'Subflow Bwd Pkts', 'Tot Bwd Pkts', 'Bwd Pkts/s', 'Bwd Header Len', 'FIN Flag Cnt', 'ACK Flag Cnt', 'Fwd Pkt Len Mean', 'Pkt Len Max', 'Tot Fwd Pkts'], 'Adv sample 559': ['SYN Flag Cnt', 'Fwd Pkt Len Max', 'Fwd Pkt Len Std', 'Pkt Len Min', 'Down/Up Ratio', 'Bwd Pkt Len Min', 'Fwd Seg Size Avg', 'Flow Byts/s', 'Subflow Bwd Pkts', 'Fwd Pkt Len Mean'], 'Adv sample 560': ['SYN Flag Cnt', 'Fwd Pkt Len Std', 'Fwd Pkt Len Max', 'Flow Byts/s', 'Down/Up Ratio', 'Pkt Len Mean', 'Fwd Seg Size Avg', 'Pkt Len Min', 'Bwd Pkts/s', 'Pkt Size Avg'], 'Adv sample 561': ['SYN Flag Cnt', 'Tot Bwd Pkts', 'Bwd Pkts/s', 'Fwd Pkt Len Std', 'Bwd Header Len', 'FIN Flag Cnt', 'Subflow Bwd Pkts', 'ACK Flag Cnt', 'Fwd Header Len', 'Subflow Fwd Pkts'], 'Adv sample 562': ['Fwd Pkt Len Std', 'Fwd Pkt Len Max', 'Flow Byts/s', 'Fwd Seg Size Avg', 'Bwd Header Len', 'Pkt Len Max', 'Fwd Pkt Len Mean', 'Bwd IAT Tot', 'Pkt Size Avg', 'Fwd Pkt Len Min'], 'Adv sample 563': ['Fwd IAT Min', 'Fwd IAT Max', 'Fwd Pkt Len Max', 'Flow Byts/s', 'Bwd Pkts/s', 'Flow IAT Max', 'Fwd Pkt Len Mean', 'Bwd Header Len', 'FIN Flag Cnt', 'Fwd Pkt Len Min'], 'Adv sample 564': ['Pkt Len Min', 'Init Fwd Win Byts', 'Down/Up Ratio', 'Bwd Header Len', 'Flow Pkts/s', 'Fwd Pkt Len Std', 'FIN Flag Cnt', 'Bwd Pkts/s', 'Fwd Pkt Len Max', 'Bwd Pkt Len Std'], 'Adv sample 565': ['Fwd Pkt Len Std', 'Fwd Pkt Len Mean', 'SYN Flag Cnt', 'Fwd Pkt Len Max', 'Down/Up Ratio', 'Pkt Len Mean', 'Fwd Pkt Len Min', 'Pkt Size Avg', 'ACK Flag Cnt', 'Tot Fwd Pkts'], 'Adv sample 566': ['Fwd Pkt Len Std', 'Fwd Pkt Len Max', 'Flow Byts/s', 'Fwd Seg Size Avg', 'Pkt Len Std', 'Fwd Pkt Len Mean', 'Pkt Len Max', 'Pkt Len Min', 'Down/Up Ratio', 'Bwd IAT Tot'], 'Adv sample 567': ['SYN Flag Cnt', 'Flow Pkts/s', 'Down/Up Ratio', 'FIN Flag Cnt', 'Bwd Pkts/s', 'ACK Flag Cnt', 'Bwd IAT Std', 'Tot Bwd Pkts', 'Bwd Header Len', 'Flow Duration'], 'Adv sample 568': ['Fwd Pkt Len Max', 'Fwd Pkt Len Std', 'Fwd Pkt Len Mean', 'Flow Byts/s', 'Pkt Len Std', 'Pkt Len Max', 'Down/Up Ratio', 'Fwd Seg Size Avg', 'Fwd Pkt Len Min', 'Pkt Size Avg'], 'Adv sample 569': ['SYN Flag Cnt', 'Flow Pkts/s', 'Down/Up Ratio', 'FIN Flag Cnt', 'Bwd Pkts/s', 'ACK Flag Cnt', 'Bwd Header Len', 'Subflow Bwd Pkts', 'Flow Duration', 'Tot Bwd Pkts'], 'Adv sample 570': ['Fwd Pkt Len Std', 'Fwd Pkt Len Max', 'SYN Flag Cnt', 'Down/Up Ratio', 'Pkt Size Avg', 'Fwd Pkt Len Mean', 'Pkt Len Mean', 'Bwd Pkts/s', 'Fwd Header Len', 'Fwd Seg Size Avg'], 'Adv sample 571': ['Pkt Len Min', 'Down/Up Ratio', 'SYN Flag Cnt', 'Bwd Pkt Len Min', 'FIN Flag Cnt', 'Bwd Pkts/s', 'Flow Pkts/s', 'Fwd Pkt Len Min', 'Init Fwd Win Byts', 'Subflow Fwd Pkts'], 'Adv sample 572': ['Fwd Pkt Len Max', 'Fwd Pkt Len Std', 'Flow Byts/s', 'Fwd Pkt Len Mean', 'Bwd Header Len', 'Pkt Len Std', 'Fwd Seg Size Avg', 'Pkt Size Avg', 'Fwd Pkt Len Min', 'Pkt Len Mean'], 'Adv sample 573': ['Init Fwd Win Byts', 'Pkt Len Min', 'SYN Flag Cnt', 'Bwd Pkt Len Min', 'Down/Up Ratio', 'FIN Flag Cnt', 'ACK Flag Cnt', 'Fwd Byts/b Avg', 'Flow IAT Std', 'Fwd Pkts/b Avg'], 'Adv sample 574': ['SYN Flag Cnt', 'Init Bwd Win Byts', 'Pkt Len Min', 'Fwd Pkt Len Max', 'Fwd Pkt Len Std', 'Fwd Pkt Len Mean', 'FIN Flag Cnt', 'Bwd Header Len', 'Fwd IAT Tot', 'Fwd Pkt Len Min'], 'Adv sample 575': ['SYN Flag Cnt', 'Bwd Pkts/s', 'Bwd Header Len', 'Subflow Bwd Pkts', 'Tot Bwd Pkts', 'FIN Flag Cnt', 'ACK Flag Cnt', 'Subflow Fwd Pkts', 'Fwd Pkt Len Std', 'Fwd IAT Mean'], 'Adv sample 576': ['SYN Flag Cnt', 'Fwd Pkt Len Max', 'Down/Up Ratio', 'Fwd Pkt Len Mean', 'Pkt Len Min', 'Fwd Pkt Len Std', 'Flow Pkts/s', 'Pkt Size Avg', 'Init Fwd Win Byts', 'Subflow Fwd Pkts'], 'Adv sample 577': ['Init Fwd Win Byts', 'Pkt Len Min', 'SYN Flag Cnt', 'Bwd Pkt Len Min', 'FIN Flag Cnt', 'Down/Up Ratio', 'ACK Flag Cnt', 'Bwd IAT Std', 'Bwd IAT Max', 'Flow IAT Mean'], 'Adv sample 578': ['Fwd Pkt Len Max', 'Fwd Pkt Len Std', 'Fwd Pkt Len Mean', 'Fwd Seg Size Avg', 'SYN Flag Cnt', 'Pkt Size Avg', 'Pkt Len Std', 'Pkt Len Min', 'Bwd Blk Rate Avg', 'FIN Flag Cnt'], 'Adv sample 579': ['SYN Flag Cnt', 'Fwd Pkt Len Std', 'Fwd Pkt Len Max', 'Down/Up Ratio', 'Init Fwd Win Byts', 'Fwd Seg Size Avg', 'Fwd Pkt Len Mean', 'Bwd Pkts/s', 'Fwd Act Data Pkts', 'Subflow Fwd Pkts'], 'Adv sample 580': ['Fwd Pkt Len Max', 'Fwd Pkt Len Std', 'Flow Byts/s', 'Bwd Header Len', 'Fwd Seg Size Avg', 'Pkt Len Min', 'Fwd IAT Min', 'Flow Pkts/s', 'Fwd IAT Std', 'Pkt Len Max'], 'Adv sample 581': ['Fwd Pkt Len Std', 'Fwd Pkt Len Max', 'Fwd Seg Size Avg', 'Flow Byts/s', 'Fwd Pkt Len Mean', 'Fwd Pkt Len Min', 'Pkt Len Std', 'Bwd Header Len', 'Pkt Len Max', 'Tot Bwd Pkts'], 'Adv sample 582': ['Fwd Pkt Len Max', 'Fwd Pkt Len Std', 'Fwd Pkt Len Mean', 'SYN Flag Cnt', 'Fwd Seg Size Avg', 'Pkt Len Min', 'Pkt Len Mean', 'Pkt Len Std', 'Tot Bwd Pkts', 'Pkt Size Avg'], 'Adv sample 583': ['Fwd Pkt Len Max', 'Fwd IAT Min', 'Flow Byts/s', 'Fwd IAT Max', 'Fwd Pkt Len Mean', 'Idle Min', 'Fwd Pkt Len Std', 'Flow IAT Max', 'Fwd IAT Tot', 'Fwd Seg Size Avg'], 'Adv sample 584': ['Fwd Pkt Len Max', 'Bwd Header Len', 'Flow IAT Max', 'Fwd IAT Tot', 'Flow Byts/s', 'Bwd Pkt Len Min', 'FIN Flag Cnt', 'Pkt Len Min', 'Fwd IAT Min', 'Fwd Pkt Len Std'], 'Adv sample 585': ['SYN Flag Cnt', 'Fwd Pkt Len Std', 'Fwd Pkt Len Max', 'Bwd Header Len', 'Init Fwd Win Byts', 'Flow Byts/s', 'Bwd Pkts/s', 'FIN Flag Cnt', 'Fwd Seg Size Avg', 'Fwd Pkt Len Mean'], 'Adv sample 586': ['SYN Flag Cnt', 'Fwd Pkt Len Std', 'Fwd Seg Size Avg', 'Pkt Len Min', 'Init Fwd Win Byts', 'Down/Up Ratio', 'Fwd Pkt Len Max', 'Flow Pkts/s', 'Fwd Pkt Len Mean', 'Tot Bwd Pkts'], 'Adv sample 587': ['Down/Up Ratio', 'Fwd IAT Min', 'Init Fwd Win Byts', 'Pkt Len Std', 'Flow IAT Max', 'ACK Flag Cnt', 'Fwd IAT Max', 'Fwd Pkt Len Max', 'FIN Flag Cnt', 'Bwd Pkts/s'], 'Adv sample 588': ['Down/Up Ratio', 'Init Fwd Win Byts', 'Bwd Pkts/s', 'FIN Flag Cnt', 'Fwd Pkt Len Max', 'Flow IAT Max', 'Flow Byts/s', 'Pkt Len Max', 'Fwd IAT Min', 'Subflow Bwd Pkts'], 'Adv sample 589': ['Init Fwd Win Byts', 'Pkt Len Min', 'SYN Flag Cnt', 'Bwd Pkt Len Min', 'Down/Up Ratio', 'FIN Flag Cnt', 'ACK Flag Cnt', 'Fwd Pkt Len Min', 'URG Flag Cnt', 'Flow IAT Std'], 'Adv sample 590': ['SYN Flag Cnt', 'Fwd Pkt Len Mean', 'Fwd Pkt Len Std', 'Fwd Pkt Len Max', 'Flow Pkts/s', 'Subflow Fwd Pkts', 'Down/Up Ratio', 'Pkt Len Min', 'Pkt Len Std', 'Init Fwd Win Byts'], 'Adv sample 591': ['SYN Flag Cnt', 'Flow Pkts/s', 'Bwd Pkts/s', 'Down/Up Ratio', 'Fwd IAT Mean', 'FIN Flag Cnt', 'Fwd IAT Min', 'Fwd IAT Max', 'Flow Duration', 'Init Fwd Win Byts'], 'Adv sample 592': ['SYN Flag Cnt', 'Bwd Pkts/s', 'Subflow Bwd Pkts', 'Tot Bwd Pkts', 'Bwd Header Len', 'FIN Flag Cnt', 'ACK Flag Cnt', 'Fwd Pkt Len Max', 'Fwd IAT Mean', 'Subflow Fwd Pkts'], 'Adv sample 593': ['Fwd Pkt Len Max', 'Fwd Pkt Len Std', 'SYN Flag Cnt', 'Pkt Len Std', 'Pkt Len Min', 'Pkt Size Avg', 'Fwd Pkt Len Mean', 'Pkt Len Mean', 'Fwd IAT Std', 'Init Fwd Win Byts'], 'Adv sample 594': ['Fwd Pkt Len Max', 'Fwd Seg Size Avg', 'Fwd Pkt Len Std', 'SYN Flag Cnt', 'Fwd Pkt Len Mean', 'Fwd Pkt Len Min', 'Active Std', 'Pkt Len Min', 'Init Fwd Win Byts', 'Pkt Size Avg'], 'Adv sample 595': ['Down/Up Ratio', 'Bwd Pkts/s', 'Init Fwd Win Byts', 'Flow IAT Std', 'Pkt Len Var', 'Fwd Pkt Len Max', 'FIN Flag Cnt', 'Fwd Pkt Len Std', 'ACK Flag Cnt', 'Fwd IAT Max'], 'Adv sample 596': ['Fwd Pkt Len Std', 'Fwd Pkt Len Max', 'Flow Byts/s', 'Flow IAT Std', 'Bwd Header Len', 'Fwd IAT Std', 'Pkt Len Max', 'Fwd IAT Max', 'Pkt Len Std', 'Pkt Len Min'], 'Adv sample 597': ['Init Fwd Win Byts', 'Bwd Header Len', 'Down/Up Ratio', 'Flow Byts/s', 'FIN Flag Cnt', 'Fwd Pkt Len Max', 'Pkt Len Std', 'Fwd Pkt Len Std', 'Subflow Bwd Pkts', 'Fwd Pkt Len Mean'], 'Adv sample 598': ['SYN Flag Cnt', 'Bwd Header Len', 'Subflow Bwd Pkts', 'Tot Bwd Pkts', 'FIN Flag Cnt', 'ACK Flag Cnt', 'Fwd IAT Max', 'Fwd Act Data Pkts', 'Fwd Pkt Len Max', 'Fwd Header Len'], 'Adv sample 599': ['SYN Flag Cnt', 'Bwd Pkts/s', 'Tot Bwd Pkts', 'FIN Flag Cnt', 'ACK Flag Cnt', 'Subflow Bwd Pkts', 'Bwd Header Len', 'Fwd IAT Mean', 'Fwd Header Len', 'Pkt Len Std'], 'Adv sample 600': ['SYN Flag Cnt', 'Bwd Header Len', 'Bwd Pkts/s', 'Subflow Bwd Pkts', 'Fwd Pkt Len Std', 'FIN Flag Cnt', 'Tot Bwd Pkts', 'Fwd Pkt Len Max', 'Tot Fwd Pkts', 'Fwd Pkt Len Mean'], 'Adv sample 601': ['Init Fwd Win Byts', 'SYN Flag Cnt', 'Pkt Len Min', 'Bwd Pkt Len Min', 'Down/Up Ratio', 'FIN Flag Cnt', 'ACK Flag Cnt', 'Fwd IAT Max', 'Bwd IAT Std', 'Bwd PSH Flags'], 'Adv sample 602': ['Pkt Len Min', 'Down/Up Ratio', 'SYN Flag Cnt', 'Bwd Pkt Len Min', 'Bwd Pkts/s', 'FIN Flag Cnt', 'Flow Pkts/s', 'Tot Fwd Pkts', 'Fwd IAT Std', 'Fwd Pkt Len Min'], 'Adv sample 603': ['Init Fwd Win Byts', 'SYN Flag Cnt', 'Pkt Len Min', 'Bwd Pkt Len Min', 'Down/Up Ratio', 'FIN Flag Cnt', 'ACK Flag Cnt', 'Bwd IAT Tot', 'Bwd IAT Std', 'Flow Duration'], 'Adv sample 604': ['Init Fwd Win Byts', 'Bwd Pkt Len Min', 'Down/Up Ratio', 'Fwd Pkt Len Std', 'Fwd Pkt Len Mean', 'Subflow Bwd Pkts', 'Fwd Pkt Len Min', 'Fwd Pkt Len Max', 'FIN Flag Cnt', 'Bwd Pkt Len Std'], 'Adv sample 605': ['Fwd IAT Tot', 'Pkt Len Max', 'Fwd Pkt Len Max', 'Flow IAT Max', 'Pkt Len Std', 'Fwd Pkt Len Std', 'Flow Duration', 'Fwd Pkt Len Mean', 'Fwd IAT Std', 'Fwd IAT Max'], 'Adv sample 606': ['FIN Flag Cnt', 'Fwd IAT Std', 'Flow Byts/s', 'Fwd Pkt Len Std', 'Flow IAT Max', 'Pkt Len Max', 'Pkt Len Std', 'Down/Up Ratio', 'ACK Flag Cnt', 'Fwd Pkt Len Max'], 'Adv sample 607': ['SYN Flag Cnt', 'Fwd Pkt Len Std', 'Init Fwd Win Byts', 'Fwd Pkt Len Max', 'Tot Bwd Pkts', 'Flow Pkts/s', 'ACK Flag Cnt', 'Down/Up Ratio', 'Fwd Seg Size Avg', 'Fwd Pkt Len Mean'], 'Adv sample 608': ['SYN Flag Cnt', 'Fwd Pkt Len Std', 'Fwd Pkt Len Max', 'Fwd Pkt Len Mean', 'Pkt Len Min', 'Flow Byts/s', 'Bwd Pkt Len Min', 'FIN Flag Cnt', 'Tot Bwd Pkts', 'Fwd IAT Std'], 'Adv sample 609': ['Fwd Pkt Len Max', 'Fwd Pkt Len Std', 'Bwd Header Len', 'Fwd Seg Size Avg', 'Flow Byts/s', 'Fwd Pkt Len Mean', 'Fwd IAT Min', 'Bwd Pkts/s', 'Flow IAT Max', 'Flow IAT Std'], 'Adv sample 610': ['Fwd Pkt Len Max', 'Fwd Pkt Len Std', 'Fwd Pkt Len Mean', 'SYN Flag Cnt', 'Fwd Seg Size Avg', 'TotLen Fwd Pkts', 'Pkt Size Avg', 'Pkt Len Min', 'Fwd Pkt Len Min', 'Pkt Len Var'], 'Adv sample 611': ['SYN Flag Cnt', 'Bwd Pkts/s', 'Subflow Bwd Pkts', 'Bwd Header Len', 'FIN Flag Cnt', 'Fwd Seg Size Avg', 'Fwd Act Data Pkts', 'Fwd Pkt Len Mean', 'Fwd Pkt Len Std', 'ACK Flag Cnt'], 'Adv sample 612': ['Fwd Pkt Len Max', 'Pkt Len Max', 'Pkt Size Avg', 'Fwd Seg Size Avg', 'Fwd Pkt Len Mean', 'Fwd Pkt Len Std', 'Pkt Len Mean', 'Subflow Fwd Byts', 'Bwd Pkts/s', 'CWE Flag Count'], 'Adv sample 613': ['Fwd Pkt Len Max', 'Fwd Pkt Len Std', 'Fwd Seg Size Avg', 'Fwd Pkt Len Mean', 'Pkt Len Std', 'Bwd Header Len', 'Pkt Len Max', 'Fwd Pkt Len Min', 'Pkt Size Avg', 'Pkt Len Min'], 'Adv sample 614': ['Init Fwd Win Byts', 'Flow Byts/s', 'Fwd Pkt Len Min', 'Fwd Pkt Len Std', 'Bwd Header Len', 'Down/Up Ratio', 'Fwd Pkt Len Max', 'Fwd Seg Size Avg', 'Pkt Len Max', 'Subflow Bwd Pkts'], 'Adv sample 615': ['SYN Flag Cnt', 'Bwd Header Len', 'Tot Bwd Pkts', 'Fwd Pkt Len Mean', 'FIN Flag Cnt', 'Fwd IAT Mean', 'Subflow Bwd Pkts', 'Fwd Pkt Len Std', 'ACK Flag Cnt', 'Flow IAT Mean'], 'Adv sample 616': ['SYN Flag Cnt', 'Fwd Pkt Len Max', 'Bwd Header Len', 'Fwd Pkt Len Std', 'Init Fwd Win Byts', 'Bwd PSH Flags', 'Bwd Pkts/s', 'Flow Byts/s', 'Pkt Len Mean', 'Subflow Bwd Pkts'], 'Adv sample 617': ['Fwd Pkt Len Std', 'Fwd Pkt Len Max', 'Fwd Pkt Len Mean', 'SYN Flag Cnt', 'Pkt Len Min', 'Pkt Len Mean', 'Pkt Size Avg', 'Pkt Len Std', 'Bwd Header Len', 'Pkt Len Max'], 'Adv sample 618': ['Init Fwd Win Byts', 'SYN Flag Cnt', 'Bwd Pkt Len Min', 'Pkt Len Min', 'Down/Up Ratio', 'FIN Flag Cnt', 'ACK Flag Cnt', 'Bwd IAT Std', 'Fwd Pkt Len Min', 'URG Flag Cnt'], 'Adv sample 619': ['Pkt Len Min', 'SYN Flag Cnt', 'Init Fwd Win Byts', 'Bwd Pkt Len Min', 'FIN Flag Cnt', 'Down/Up Ratio', 'ACK Flag Cnt', 'Fwd Pkt Len Min', 'Fwd Blk Rate Avg', 'Idle Max'], 'Adv sample 620': ['SYN Flag Cnt', 'Bwd Header Len', 'Bwd Pkts/s', 'Tot Bwd Pkts', 'Subflow Bwd Pkts', 'FIN Flag Cnt', 'Bwd IAT Max', 'ACK Flag Cnt', 'Tot Fwd Pkts', 'Fwd Pkt Len Max'], 'Adv sample 621': ['Pkt Len Min', 'SYN Flag Cnt', 'Init Fwd Win Byts', 'Bwd Pkt Len Min', 'Down/Up Ratio', 'FIN Flag Cnt', 'ACK Flag Cnt', 'Fwd Pkt Len Min', 'Flow IAT Std', 'Bwd IAT Std'], 'Adv sample 622': ['Pkt Len Min', 'Init Fwd Win Byts', 'SYN Flag Cnt', 'Bwd Pkt Len Min', 'Down/Up Ratio', 'FIN Flag Cnt', 'ACK Flag Cnt', 'Fwd Pkt Len Min', 'Bwd IAT Std', 'Fwd Seg Size Min'], 'Adv sample 623': ['Down/Up Ratio', 'Pkt Len Min', 'SYN Flag Cnt', 'Bwd Pkt Len Min', 'Init Fwd Win Byts', 'FIN Flag Cnt', 'Bwd Pkts/s', 'Flow Pkts/s', 'Bwd IAT Std', 'Flow IAT Max'], 'Adv sample 624': ['SYN Flag Cnt', 'Bwd Pkts/s', 'Bwd Header Len', 'Tot Bwd Pkts', 'ACK Flag Cnt', 'Fwd IAT Min', 'Subflow Bwd Pkts', 'FIN Flag Cnt', 'Fwd Pkt Len Std', 'Fwd Pkt Len Max'], 'Adv sample 625': ['SYN Flag Cnt', 'Bwd Pkts/s', 'Tot Bwd Pkts', 'Bwd Header Len', 'ACK Flag Cnt', 'Subflow Bwd Pkts', 'Fwd Pkt Len Std', 'FIN Flag Cnt', 'Fwd Pkt Len Max', 'Fwd Header Len'], 'Adv sample 626': ['Pkt Len Min', 'Down/Up Ratio', 'Init Fwd Win Byts', 'FIN Flag Cnt', 'Bwd Header Len', 'Fwd Pkt Len Max', 'Tot Bwd Pkts', 'Fwd IAT Tot', 'Flow Pkts/s', 'Fwd Pkt Len Std'], 'Adv sample 627': ['SYN Flag Cnt', 'Bwd Header Len', 'Fwd Pkt Len Max', 'Fwd Pkt Len Std', 'Init Fwd Win Byts', 'Fwd Pkt Len Mean', 'Down/Up Ratio', 'Bwd Pkts/s', 'Pkt Size Avg', 'Flow Pkts/s'], 'Adv sample 628': ['Down/Up Ratio', 'Bwd Pkt Len Min', 'Pkt Len Min', 'SYN Flag Cnt', 'Flow Pkts/s', 'FIN Flag Cnt', 'Bwd Pkts/s', 'Idle Max', 'Bwd IAT Std', 'PSH Flag Cnt'], 'Adv sample 629': ['Init Fwd Win Byts', 'Down/Up Ratio', 'Bwd Header Len', 'Fwd Pkt Len Max', 'Fwd Pkt Len Std', 'Fwd Pkt Len Mean', 'FIN Flag Cnt', 'ACK Flag Cnt', 'Bwd IAT Std', 'Flow Pkts/s'], 'Adv sample 630': ['SYN Flag Cnt', 'Fwd Pkt Len Std', 'Init Bwd Win Byts', 'Pkt Len Min', 'Bwd Header Len', 'Fwd Seg Size Avg', 'FIN Flag Cnt', 'Pkt Size Avg', 'Tot Bwd Pkts', 'Flow Byts/s'], 'Adv sample 631': ['SYN Flag Cnt', 'Down/Up Ratio', 'Flow Pkts/s', 'FIN Flag Cnt', 'Bwd Pkts/s', 'Bwd IAT Std', 'Bwd Header Len', 'Flow IAT Std', 'ACK Flag Cnt', 'Flow Duration'], 'Adv sample 632': ['Bwd Header Len', 'Bwd PSH Flags', 'Bwd Pkts/s', 'SYN Flag Cnt', 'Fwd Pkt Len Max', 'Pkt Len Mean', 'Fwd Pkt Len Std', 'Pkt Len Std', 'Fwd Act Data Pkts', 'Fwd Seg Size Avg'], 'Adv sample 633': ['Fwd Pkt Len Max', 'Fwd Pkt Len Std', 'Bwd Header Len', 'Fwd Pkt Len Mean', 'Fwd Seg Size Avg', 'Fwd IAT Std', 'Pkt Len Var', 'Flow Byts/s', 'Pkt Len Std', 'Pkt Len Max'], 'Adv sample 634': ['SYN Flag Cnt', 'Init Bwd Win Byts', 'Fwd Pkt Len Std', 'Fwd Pkt Len Max', 'FIN Flag Cnt', 'Pkt Size Avg', 'Fwd Seg Size Avg', 'Pkt Len Min', 'Subflow Bwd Pkts', 'Bwd Header Len'], 'Adv sample 635': ['SYN Flag Cnt', 'Bwd Pkts/s', 'Subflow Bwd Pkts', 'Bwd Header Len', 'FIN Flag Cnt', 'ACK Flag Cnt', 'Fwd Header Len', 'Tot Fwd Pkts', 'Bwd IAT Std', 'Tot Bwd Pkts'], 'Adv sample 636': ['SYN Flag Cnt', 'Bwd Pkts/s', 'Tot Bwd Pkts', 'Subflow Bwd Pkts', 'Bwd Header Len', 'ACK Flag Cnt', 'FIN Flag Cnt', 'Fwd Pkt Len Mean', 'Fwd Pkt Len Max', 'Subflow Fwd Pkts'], 'Adv sample 637': ['SYN Flag Cnt', 'Bwd Pkts/s', 'Subflow Bwd Pkts', 'Bwd Header Len', 'FIN Flag Cnt', 'Tot Bwd Pkts', 'Fwd Pkt Len Std', 'ACK Flag Cnt', 'Idle Max', 'Bwd Pkt Len Max'], 'Adv sample 638': ['SYN Flag Cnt', 'Bwd Pkts/s', 'Bwd Header Len', 'Tot Bwd Pkts', 'Fwd Pkt Len Std', 'Subflow Bwd Pkts', 'ACK Flag Cnt', 'FIN Flag Cnt', 'Tot Fwd Pkts', 'Fwd Header Len'], 'Adv sample 639': ['SYN Flag Cnt', 'Bwd Header Len', 'Tot Bwd Pkts', 'FIN Flag Cnt', 'Fwd Seg Size Avg', 'Fwd Pkt Len Std', 'Fwd IAT Max', 'Subflow Bwd Pkts', 'ACK Flag Cnt', 'Fwd Header Len'], 'Adv sample 640': ['Fwd Pkt Len Mean', 'Flow Byts/s', 'Fwd Seg Size Avg', 'Init Fwd Win Byts', 'FIN Flag Cnt', 'Fwd IAT Min', 'Fwd Pkt Len Max', 'Pkt Size Avg', 'Fwd Pkt Len Std', 'Pkt Len Mean'], 'Adv sample 641': ['Fwd Pkt Len Max', 'Fwd Pkt Len Mean', 'Pkt Len Min', 'Pkt Len Max', 'Fwd Pkt Len Std', 'Fwd IAT Tot', 'Fwd Seg Size Avg', 'Bwd Pkts/s', 'Fwd IAT Min', 'Active Std'], 'Adv sample 642': ['SYN Flag Cnt', 'Fwd Pkt Len Mean', 'Bwd Pkts/s', 'Fwd Pkt Len Max', 'ACK Flag Cnt', 'Init Fwd Win Byts', 'Fwd Pkt Len Min', 'Flow Byts/s', 'Pkt Len Std', 'Pkt Len Mean'], 'Adv sample 643': ['Init Fwd Win Byts', 'Pkt Len Min', 'SYN Flag Cnt', 'Bwd Pkt Len Min', 'Down/Up Ratio', 'FIN Flag Cnt', 'ACK Flag Cnt', 'Fwd Pkt Len Min', 'Bwd IAT Max', 'PSH Flag Cnt'], 'Adv sample 644': ['SYN Flag Cnt', 'Bwd Pkts/s', 'Subflow Bwd Pkts', 'Bwd Header Len', 'Tot Bwd Pkts', 'FIN Flag Cnt', 'ACK Flag Cnt', 'Fwd Pkt Len Max', 'Fwd Header Len', 'Tot Fwd Pkts'], 'Adv sample 645': ['Fwd Pkt Len Std', 'SYN Flag Cnt', 'Fwd Pkt Len Max', 'Fwd Seg Size Avg', 'Down/Up Ratio', 'Pkt Len Max', 'Bwd Pkts/s', 'Pkt Len Mean', 'ACK Flag Cnt', 'Flow Byts/s'], 'Adv sample 646': ['Fwd Pkt Len Max', 'Fwd Pkt Len Std', 'Fwd Pkt Len Mean', 'Fwd Seg Size Avg', 'Flow Byts/s', 'Pkt Len Std', 'Bwd Header Len', 'Init Fwd Win Byts', 'Pkt Len Min', 'Pkt Len Mean'], 'Adv sample 647': ['SYN Flag Cnt', 'Bwd Pkts/s', 'Bwd Header Len', 'Tot Bwd Pkts', 'Subflow Bwd Pkts', 'FIN Flag Cnt', 'Fwd IAT Mean', 'Fwd Pkt Len Std', 'Subflow Fwd Pkts', 'ACK Flag Cnt'], 'Adv sample 648': ['SYN Flag Cnt', 'Bwd Header Len', 'Bwd Pkts/s', 'Subflow Bwd Pkts', 'Tot Bwd Pkts', 'ACK Flag Cnt', 'Fwd Pkt Len Std', 'FIN Flag Cnt', 'Tot Fwd Pkts', 'Bwd IAT Std'], 'Adv sample 649': ['Init Fwd Win Byts', 'Pkt Len Std', 'Fwd Pkt Len Std', 'Bwd Header Len', 'Flow Byts/s', 'Fwd Pkt Len Max', 'FIN Flag Cnt', 'Down/Up Ratio', 'Bwd Pkts/s', 'Fwd Seg Size Avg'], 'Adv sample 650': ['SYN Flag Cnt', 'Fwd Pkt Len Max', 'Fwd Pkt Len Std', 'Down/Up Ratio', 'Pkt Len Min', 'Pkt Len Max', 'Bwd Pkt Len Min', 'FIN Flag Cnt', 'Fwd Pkt Len Mean', 'Flow Pkts/s'], 'Adv sample 651': ['Bwd Header Len', 'SYN Flag Cnt', 'Flow Pkts/s', 'Bwd Pkts/s', 'Fwd Pkt Len Max', 'Down/Up Ratio', 'Init Fwd Win Byts', 'FIN Flag Cnt', 'Fwd Pkt Len Std', 'Subflow Bwd Pkts'], 'Adv sample 652': ['Fwd Pkt Len Max', 'Fwd Pkt Len Std', 'Fwd Seg Size Avg', 'Fwd Pkt Len Mean', 'Bwd PSH Flags', 'Bwd Header Len', 'Fwd Act Data Pkts', 'SYN Flag Cnt', 'Pkt Len Mean', 'Pkt Len Max'], 'Adv sample 653': ['Init Fwd Win Byts', 'Pkt Len Min', 'SYN Flag Cnt', 'Bwd Pkt Len Min', 'Down/Up Ratio', 'FIN Flag Cnt', 'ACK Flag Cnt', 'Fwd Pkt Len Min', 'Bwd IAT Std', 'Flow IAT Std'], 'Adv sample 654': ['SYN Flag Cnt', 'Bwd PSH Flags', 'Bwd Header Len', 'Bwd Pkts/s', 'FIN Flag Cnt', 'Fwd Pkt Len Max', 'Init Fwd Win Byts', 'Flow Pkts/s', 'Fwd Pkt Len Mean', 'Flow Duration'], 'Adv sample 655': ['Bwd Header Len', 'Flow Pkts/s', 'SYN Flag Cnt', 'Bwd Pkts/s', 'Init Fwd Win Byts', 'Down/Up Ratio', 'FIN Flag Cnt', 'Bwd Pkt Len Mean', 'Bwd Pkt Len Std', 'Flow IAT Std'], 'Adv sample 656': ['Fwd Pkt Len Std', 'Bwd Pkts/s', 'Fwd Pkt Len Max', 'Pkt Len Max', 'Fwd Seg Size Avg', 'Fwd Pkt Len Mean', 'SYN Flag Cnt', 'Pkt Len Mean', 'Pkt Len Std', 'PSH Flag Cnt'], 'Adv sample 657': ['Fwd Pkt Len Std', 'Down/Up Ratio', 'Fwd Pkt Len Max', 'Fwd Pkt Len Mean', 'ACK Flag Cnt', 'SYN Flag Cnt', 'Pkt Len Mean', 'Fwd Seg Size Avg', 'Pkt Size Avg', 'Tot Fwd Pkts'], 'Adv sample 658': ['Pkt Len Min', 'Down/Up Ratio', 'SYN Flag Cnt', 'Bwd Pkt Len Min', 'FIN Flag Cnt', 'Bwd Pkts/s', 'Flow Pkts/s', 'Fwd Pkt Len Min', 'PSH Flag Cnt', 'Bwd Byts/b Avg'], 'Adv sample 659': ['Down/Up Ratio', 'Init Fwd Win Byts', 'Pkt Len Min', 'Tot Bwd Pkts', 'FIN Flag Cnt', 'Flow Pkts/s', 'Bwd Pkt Len Min', 'Fwd Pkt Len Mean', 'Bwd Pkts/s', 'Fwd IAT Tot'], 'Adv sample 660': ['Fwd Pkt Len Std', 'Down/Up Ratio', 'Fwd Pkt Len Max', 'SYN Flag Cnt', 'ACK Flag Cnt', 'Fwd Pkt Len Mean', 'Pkt Len Max', 'Fwd Pkt Len Min', 'Pkt Size Avg', 'Bwd Pkts/s'], 'Adv sample 661': ['SYN Flag Cnt', 'Tot Bwd Pkts', 'Bwd Header Len', 'Flow Pkts/s', 'FIN Flag Cnt', 'Subflow Bwd Pkts', 'Fwd Pkt Len Std', 'ACK Flag Cnt', 'Fwd IAT Mean', 'Init Fwd Win Byts'], 'Adv sample 662': ['SYN Flag Cnt', 'Bwd Pkts/s', 'Subflow Bwd Pkts', 'Tot Bwd Pkts', 'FIN Flag Cnt', 'Bwd Header Len', 'ACK Flag Cnt', 'Fwd Seg Size Avg', 'Tot Fwd Pkts', 'Fwd Header Len'], 'Adv sample 663': ['Fwd Pkt Len Max', 'Fwd Pkt Len Mean', 'Fwd Seg Size Avg', 'Fwd Pkt Len Std', 'SYN Flag Cnt', 'Pkt Len Min', 'Bwd Pkt Len Min', 'Fwd Pkt Len Min', 'Pkt Len Mean', 'Fwd IAT Std'], 'Adv sample 664': ['SYN Flag Cnt', 'Init Fwd Win Byts', 'Subflow Bwd Pkts', 'Fwd Pkt Len Mean', 'Down/Up Ratio', 'Pkt Len Min', 'Fwd Header Len', 'Fwd Pkt Len Std', 'Tot Bwd Pkts', 'Fwd Pkt Len Max'], 'Adv sample 665': ['Flow Byts/s', 'Init Fwd Win Byts', 'Bwd Header Len', 'Down/Up Ratio', 'FIN Flag Cnt', 'Bwd Pkts/s', 'Fwd Pkt Len Std', 'Fwd Pkt Len Mean', 'Pkt Len Var', 'Pkt Len Min'], 'Adv sample 666': ['SYN Flag Cnt', 'Fwd Pkt Len Mean', 'Fwd Pkt Len Std', 'Init Fwd Win Byts', 'Pkt Len Std', 'Pkt Len Min', 'Down/Up Ratio', 'Fwd Pkt Len Max', 'Flow Pkts/s', 'Fwd Seg Size Avg'], 'Adv sample 667': ['SYN Flag Cnt', 'Fwd Pkt Len Std', 'Fwd Pkt Len Mean', 'Down/Up Ratio', 'Fwd Pkt Len Max', 'Pkt Len Mean', 'ACK Flag Cnt', 'Bwd Pkts/s', 'Subflow Fwd Pkts', 'Flow Byts/s'], 'Adv sample 668': ['Pkt Len Min', 'Init Fwd Win Byts', 'SYN Flag Cnt', 'Bwd Pkt Len Min', 'Down/Up Ratio', 'FIN Flag Cnt', 'ACK Flag Cnt', 'Bwd IAT Std', 'Fwd Pkt Len Min', 'PSH Flag Cnt'], 'Adv sample 669': ['SYN Flag Cnt', 'Bwd Pkts/s', 'Bwd Header Len', 'Subflow Bwd Pkts', 'Tot Bwd Pkts', 'FIN Flag Cnt', 'ACK Flag Cnt', 'Fwd Pkt Len Max', 'Fwd Header Len', 'Fwd IAT Min'], 'Adv sample 670': ['Fwd Pkt Len Std', 'Pkt Len Max', 'Fwd Pkt Len Max', 'Fwd IAT Min', 'Idle Min', 'Fwd IAT Tot', 'Fwd Pkt Len Mean', 'Pkt Len Std', 'Fwd Header Len', 'Fwd IAT Max'], 'Adv sample 671': ['SYN Flag Cnt', 'Bwd Header Len', 'Tot Bwd Pkts', 'Bwd Pkts/s', 'FIN Flag Cnt', 'Fwd Seg Size Avg', 'Pkt Size Avg', 'Fwd Pkt Len Std', 'Subflow Bwd Pkts', 'Flow IAT Std'], 'Adv sample 672': ['SYN Flag Cnt', 'Fwd Pkt Len Max', 'Fwd Pkt Len Std', 'Init Fwd Win Byts', 'Flow Pkts/s', 'Fwd Pkt Len Mean', 'Down/Up Ratio', 'Bwd Pkt Len Min', 'Fwd Seg Size Avg', 'Fwd Act Data Pkts'], 'Adv sample 673': ['SYN Flag Cnt', 'Down/Up Ratio', 'Flow Pkts/s', 'FIN Flag Cnt', 'Bwd Pkts/s', 'ACK Flag Cnt', 'Fwd IAT Mean', 'Flow Duration', 'Tot Bwd Pkts', 'Idle Max'], 'Adv sample 674': ['SYN Flag Cnt', 'Fwd Pkt Len Std', 'Init Fwd Win Byts', 'Fwd Pkt Len Max', 'Down/Up Ratio', 'Fwd Pkt Len Mean', 'Pkt Len Min', 'Fwd Seg Size Avg', 'Flow Pkts/s', 'Fwd Act Data Pkts'], 'Adv sample 675': ['Fwd Pkt Len Std', 'Fwd Pkt Len Max', 'Fwd Seg Size Avg', 'SYN Flag Cnt', 'Pkt Len Min', 'Fwd Pkt Len Mean', 'Pkt Len Mean', 'Pkt Size Avg', 'Bwd Pkt Len Min', 'Fwd IAT Tot'], 'Adv sample 676': ['Bwd Header Len', 'Init Fwd Win Byts', 'Flow Pkts/s', 'Subflow Bwd Pkts', 'Bwd Pkts/s', 'Fwd Pkt Len Max', 'Fwd Header Len', 'Subflow Fwd Pkts', 'Bwd Pkt Len Min', 'Tot Bwd Pkts'], 'Adv sample 677': ['Down/Up Ratio', 'SYN Flag Cnt', 'Fwd Pkt Len Std', 'Init Fwd Win Byts', 'Fwd Seg Size Avg', 'Fwd Pkt Len Mean', 'Pkt Size Avg', 'Pkt Len Mean', 'Fwd Pkt Len Max', 'Subflow Fwd Pkts'], 'Adv sample 678': ['Pkt Len Min', 'Init Fwd Win Byts', 'SYN Flag Cnt', 'Bwd Pkt Len Min', 'Down/Up Ratio', 'FIN Flag Cnt', 'ACK Flag Cnt', 'Bwd IAT Std', 'Fwd IAT Max', 'Idle Mean'], 'Adv sample 679': ['Init Fwd Win Byts', 'Bwd Header Len', 'Down/Up Ratio', 'Flow Byts/s', 'Fwd Pkt Len Mean', 'Fwd Pkt Len Max', 'Tot Bwd Pkts', 'Fwd Pkt Len Min', 'Bwd Pkts/s', 'Bwd Pkt Len Std'], 'Adv sample 680': ['Pkt Len Min', 'Init Fwd Win Byts', 'SYN Flag Cnt', 'Bwd Pkt Len Min', 'FIN Flag Cnt', 'Down/Up Ratio', 'ACK Flag Cnt', 'Flow IAT Max', 'URG Flag Cnt', 'Fwd IAT Tot'], 'Adv sample 681': ['Fwd Pkt Len Std', 'Fwd Pkt Len Max', 'Fwd Seg Size Avg', 'SYN Flag Cnt', 'Active Std', 'Fwd Pkt Len Mean', 'Bwd Header Len', 'Bwd Pkt Len Max', 'Pkt Len Min', 'Bwd Pkt Len Min'], 'Adv sample 682': ['Init Fwd Win Byts', 'Pkt Len Min', 'SYN Flag Cnt', 'Bwd Pkt Len Min', 'Down/Up Ratio', 'FIN Flag Cnt', 'ACK Flag Cnt', 'Bwd IAT Std', 'Subflow Fwd Pkts', 'Tot Bwd Pkts'], 'Adv sample 683': ['SYN Flag Cnt', 'Bwd Pkts/s', 'Bwd Header Len', 'Subflow Bwd Pkts', 'Tot Bwd Pkts', 'FIN Flag Cnt', 'Fwd Seg Size Avg', 'ACK Flag Cnt', 'Fwd Pkt Len Mean', 'Subflow Fwd Byts'], 'Adv sample 684': ['SYN Flag Cnt', 'Bwd Pkts/s', 'Bwd Header Len', 'Tot Bwd Pkts', 'Subflow Bwd Pkts', 'ACK Flag Cnt', 'Pkt Len Std', 'Bwd IAT Std', 'Tot Fwd Pkts', 'FIN Flag Cnt'], 'Adv sample 685': ['SYN Flag Cnt', 'Bwd Header Len', 'Subflow Bwd Pkts', 'Tot Bwd Pkts', 'Fwd Pkt Len Mean', 'Bwd IAT Std', 'FIN Flag Cnt', 'Tot Fwd Pkts', 'ACK Flag Cnt', 'Fwd IAT Max'], 'Adv sample 686': ['Down/Up Ratio', 'Fwd Pkt Len Std', 'SYN Flag Cnt', 'Bwd Pkts/s', 'Pkt Len Mean', 'Fwd Pkt Len Max', 'Fwd Act Data Pkts', 'Bwd Header Len', 'Fwd Pkt Len Mean', 'ACK Flag Cnt'], 'Adv sample 687': ['SYN Flag Cnt', 'Bwd Pkts/s', 'Tot Bwd Pkts', 'Subflow Bwd Pkts', 'Bwd Header Len', 'ACK Flag Cnt', 'FIN Flag Cnt', 'Fwd Pkt Len Std', 'Fwd IAT Mean', 'Fwd Seg Size Avg'], 'Adv sample 688': ['Bwd PSH Flags', 'SYN Flag Cnt', 'Pkt Len Min', 'Init Fwd Win Byts', 'Fwd IAT Std', 'Bwd Pkt Len Min', 'Bwd Pkts/s', 'Down/Up Ratio', 'Flow Pkts/s', 'Flow Duration'], 'Adv sample 689': ['SYN Flag Cnt', 'Subflow Bwd Pkts', 'Bwd Header Len', 'Tot Bwd Pkts', 'Bwd Pkts/s', 'FIN Flag Cnt', 'Fwd Seg Size Avg', 'Fwd Act Data Pkts', 'ACK Flag Cnt', 'Fwd Pkt Len Mean'], 'Adv sample 690': ['Bwd Header Len', 'Bwd PSH Flags', 'SYN Flag Cnt', 'Bwd Pkts/s', 'Flow Pkts/s', 'Bwd Byts/b Avg', 'Pkt Len Max', 'Fwd Pkt Len Max', 'Down/Up Ratio', 'Fwd IAT Min'], 'Adv sample 691': ['Fwd Pkt Len Max', 'Fwd Pkt Len Mean', 'Fwd Seg Size Avg', 'Pkt Len Std', 'Pkt Len Max', 'Pkt Len Mean', 'Flow Byts/s', 'Fwd Pkt Len Std', 'FIN Flag Cnt', 'Bwd Pkts/s'], 'Adv sample 692': ['Pkt Len Min', 'SYN Flag Cnt', 'Down/Up Ratio', 'Bwd Pkt Len Min', 'Bwd Pkts/s', 'FIN Flag Cnt', 'Flow Pkts/s', 'Subflow Bwd Pkts', 'Fwd Pkt Len Min', 'Tot Bwd Pkts'], 'Adv sample 693': ['SYN Flag Cnt', 'Init Fwd Win Byts', 'Fwd Pkt Len Std', 'Fwd Pkt Len Max', 'Pkt Len Min', 'Down/Up Ratio', 'Fwd Act Data Pkts', 'Tot Bwd Pkts', 'Pkt Len Max', 'Flow Pkts/s'], 'Adv sample 694': ['Pkt Len Min', 'Down/Up Ratio', 'SYN Flag Cnt', 'Bwd Pkt Len Min', 'Bwd Pkts/s', 'Flow Pkts/s', 'FIN Flag Cnt', 'Fwd Pkt Len Mean', 'Fwd IAT Min', 'Pkt Len Var'], 'Adv sample 695': ['Pkt Len Min', 'Bwd Pkt Len Min', 'SYN Flag Cnt', 'Down/Up Ratio', 'Bwd Pkts/s', 'FIN Flag Cnt', 'Flow Pkts/s', 'Bwd IAT Std', 'Fwd Header Len', 'Idle Mean'], 'Adv sample 696': ['Bwd Header Len', 'Fwd Pkt Len Mean', 'Flow Byts/s', 'Fwd Pkt Len Max', 'Fwd IAT Min', 'Fwd IAT Std', 'Pkt Len Max', 'Fwd Pkt Len Min', 'Bwd Pkts/s', 'Pkt Len Std'], 'Adv sample 697': ['SYN Flag Cnt', 'Down/Up Ratio', 'Flow Pkts/s', 'FIN Flag Cnt', 'ACK Flag Cnt', 'Bwd Pkts/s', 'Bwd Header Len', 'Tot Bwd Pkts', 'Bwd IAT Std', 'Idle Max'], 'Adv sample 698': ['Init Fwd Win Byts', 'Pkt Len Min', 'SYN Flag Cnt', 'Bwd Pkt Len Min', 'Down/Up Ratio', 'FIN Flag Cnt', 'ACK Flag Cnt', 'Bwd IAT Mean', 'Fwd IAT Tot', 'Bwd IAT Tot'], 'Adv sample 699': ['Flow Byts/s', 'Fwd Pkt Len Max', 'Bwd Header Len', 'Fwd IAT Min', 'Fwd Pkt Len Std', 'Fwd Pkt Len Min', 'Fwd Pkt Len Mean', 'Pkt Len Std', 'Pkt Len Var', 'Pkt Len Min'], 'Adv sample 700': ['Pkt Len Min', 'Init Fwd Win Byts', 'SYN Flag Cnt', 'Bwd Pkt Len Min', 'Down/Up Ratio', 'FIN Flag Cnt', 'ACK Flag Cnt', 'Bwd IAT Max', 'Tot Fwd Pkts', 'URG Flag Cnt'], 'Adv sample 701': ['Fwd Pkt Len Max', 'Fwd Pkt Len Mean', 'Bwd Header Len', 'Fwd Pkt Len Std', 'Fwd Seg Size Avg', 'Bwd Pkts/s', 'Fwd IAT Max', 'Fwd IAT Tot', 'Active Std', 'FIN Flag Cnt'], 'Adv sample 702': ['SYN Flag Cnt', 'Down/Up Ratio', 'Flow Pkts/s', 'FIN Flag Cnt', 'ACK Flag Cnt', 'Bwd Pkts/s', 'Bwd Header Len', 'Bwd IAT Std', 'Flow IAT Std', 'Idle Max'], 'Adv sample 703': ['Flow Byts/s', 'Fwd Pkt Len Mean', 'Fwd Pkt Len Std', 'Pkt Len Max', 'Pkt Len Mean', 'Pkt Len Std', 'ACK Flag Cnt', 'Fwd Seg Size Avg', 'Fwd Pkt Len Max', 'FIN Flag Cnt'], 'Adv sample 704': ['SYN Flag Cnt', 'Subflow Bwd Pkts', 'Tot Bwd Pkts', 'Bwd Header Len', 'FIN Flag Cnt', 'Fwd Pkt Len Max', 'ACK Flag Cnt', 'Fwd Seg Size Avg', 'Bwd Pkts/s', 'Flow IAT Std'], 'Adv sample 705': ['Fwd Pkt Len Std', 'Fwd Pkt Len Max', 'Flow Byts/s', 'Fwd Pkt Len Mean', 'Pkt Len Std', 'Pkt Len Mean', 'Fwd Seg Size Avg', 'Init Fwd Win Byts', 'Pkt Size Avg', 'Bwd IAT Tot'], 'Adv sample 706': ['SYN Flag Cnt', 'Fwd Pkt Len Max', 'Fwd Pkt Len Std', 'Flow Byts/s', 'Bwd Pkts/s', 'Pkt Len Min', 'Fwd Seg Size Avg', 'Fwd Pkt Len Mean', 'Down/Up Ratio', 'Pkt Len Max'], 'Adv sample 707': ['Init Fwd Win Byts', 'Fwd Pkt Len Std', 'Flow Byts/s', 'Pkt Len Std', 'Bwd Pkts/s', 'Bwd Header Len', 'Tot Bwd Pkts', 'Fwd Seg Size Avg', 'Fwd Pkt Len Min', 'FIN Flag Cnt'], 'Adv sample 708': ['SYN Flag Cnt', 'Fwd Seg Size Avg', 'Fwd Pkt Len Max', 'Down/Up Ratio', 'Fwd Pkt Len Mean', 'Init Fwd Win Byts', 'Subflow Fwd Pkts', 'Fwd Act Data Pkts', 'Flow Pkts/s', 'Subflow Bwd Pkts'], 'Adv sample 709': ['SYN Flag Cnt', 'Bwd Header Len', 'Tot Bwd Pkts', 'Subflow Bwd Pkts', 'FIN Flag Cnt', 'ACK Flag Cnt', 'Fwd IAT Min', 'Tot Fwd Pkts', 'Fwd IAT Max', 'Fwd Seg Size Avg'], 'Adv sample 710': ['Fwd Pkt Len Std', 'Fwd Pkt Len Max', 'Fwd Seg Size Avg', 'Fwd Pkt Len Mean', 'Flow Byts/s', 'Init Fwd Win Byts', 'Pkt Len Mean', 'Pkt Len Std', 'Pkt Len Min', 'Pkt Len Max'], 'Adv sample 711': ['Fwd Pkt Len Std', 'Down/Up Ratio', 'SYN Flag Cnt', 'Pkt Size Avg', 'Fwd Seg Size Avg', 'Pkt Len Max', 'Fwd Pkt Len Mean', 'Fwd Pkt Len Max', 'Bwd Pkts/s', 'Pkt Len Std'], 'Adv sample 712': ['Fwd Pkt Len Std', 'Down/Up Ratio', 'SYN Flag Cnt', 'Pkt Len Mean', 'Bwd Pkts/s', 'Fwd Pkt Len Mean', 'Fwd Header Len', 'Init Fwd Win Byts', 'Pkt Size Avg', 'ACK Flag Cnt'], 'Adv sample 713': ['SYN Flag Cnt', 'Fwd Pkt Len Std', 'Fwd Pkt Len Max', 'FIN Flag Cnt', 'Init Bwd Win Byts', 'Bwd Header Len', 'Pkt Len Min', 'Pkt Len Var', 'Bwd IAT Max', 'Flow Byts/s'], 'Adv sample 714': ['SYN Flag Cnt', 'Fwd Pkt Len Max', 'Fwd Pkt Len Mean', 'Fwd Pkt Len Std', 'Pkt Len Min', 'Pkt Len Std', 'Fwd Pkt Len Min', 'Flow Byts/s', 'Fwd Header Len', 'Fwd Act Data Pkts'], 'Adv sample 715': ['Bwd Header Len', 'SYN Flag Cnt', 'Flow Pkts/s', 'Bwd Pkts/s', 'Init Fwd Win Byts', 'Down/Up Ratio', 'FIN Flag Cnt', 'Tot Bwd Pkts', 'Bwd Pkt Len Mean', 'Flow Duration'], 'Adv sample 716': ['SYN Flag Cnt', 'Pkt Len Min', 'Init Fwd Win Byts', 'Bwd Pkt Len Min', 'Down/Up Ratio', 'FIN Flag Cnt', 'ACK Flag Cnt', 'Flow IAT Max', 'Bwd IAT Max', 'Idle Mean'], 'Adv sample 717': ['SYN Flag Cnt', 'Bwd Pkts/s', 'Bwd Header Len', 'Tot Bwd Pkts', 'Subflow Bwd Pkts', 'FIN Flag Cnt', 'ACK Flag Cnt', 'Fwd Pkt Len Std', 'Tot Fwd Pkts', 'Fwd Seg Size Avg'], 'Adv sample 718': ['Init Fwd Win Byts', 'Bwd Header Len', 'Down/Up Ratio', 'Fwd Pkt Len Std', 'Bwd Pkts/s', 'FIN Flag Cnt', 'Flow Byts/s', 'Bwd Pkt Len Std', 'Pkt Len Std', 'Subflow Bwd Pkts'], 'Adv sample 719': ['Fwd Pkt Len Std', 'SYN Flag Cnt', 'Bwd Pkts/s', 'Pkt Len Mean', 'Fwd Pkt Len Max', 'Fwd Pkt Len Mean', 'Fwd Seg Size Avg', 'Down/Up Ratio', 'TotLen Fwd Pkts', 'Fwd Pkt Len Min'], 'Adv sample 720': ['Pkt Len Min', 'SYN Flag Cnt', 'Init Fwd Win Byts', 'Bwd Pkt Len Min', 'Down/Up Ratio', 'FIN Flag Cnt', 'ACK Flag Cnt', 'Fwd IAT Max', 'Bwd Byts/b Avg', 'TotLen Bwd Pkts'], 'Adv sample 721': ['SYN Flag Cnt', 'Bwd Pkts/s', 'Bwd Header Len', 'Tot Bwd Pkts', 'FIN Flag Cnt', 'Subflow Bwd Pkts', 'Fwd Pkt Len Max', 'Fwd Header Len', 'ACK Flag Cnt', 'Fwd IAT Tot'], 'Adv sample 722': ['Fwd Pkt Len Std', 'Fwd Seg Size Avg', 'Fwd Pkt Len Mean', 'Fwd Pkt Len Max', 'SYN Flag Cnt', 'Bwd Header Len', 'Init Fwd Win Byts', 'Flow Byts/s', 'Fwd Act Data Pkts', 'Fwd Pkt Len Min'], 'Adv sample 723': ['Fwd Pkt Len Max', 'Fwd Pkt Len Std', 'Fwd Pkt Len Mean', 'Flow Byts/s', 'Fwd Seg Size Avg', 'Pkt Size Avg', 'Init Fwd Win Byts', 'Pkt Len Mean', 'Pkt Len Min', 'Down/Up Ratio'], 'Adv sample 724': ['SYN Flag Cnt', 'Fwd Pkt Len Max', 'Fwd Pkt Len Std', 'Pkt Len Min', 'Bwd Header Len', 'Bwd Pkts/s', 'FIN Flag Cnt', 'Down/Up Ratio', 'Flow Byts/s', 'Subflow Bwd Pkts'], 'Adv sample 725': ['Init Fwd Win Byts', 'SYN Flag Cnt', 'Bwd Pkt Len Min', 'Pkt Len Min', 'Down/Up Ratio', 'FIN Flag Cnt', 'ACK Flag Cnt', 'Fwd Header Len', 'Bwd IAT Max', 'PSH Flag Cnt'], 'Adv sample 726': ['Flow Byts/s', 'FIN Flag Cnt', 'Flow IAT Max', 'Bwd Header Len', 'Active Std', 'Fwd Pkt Len Mean', 'Bwd Pkts/s', 'Pkt Len Min', 'Fwd Pkt Len Max', 'Fwd IAT Tot'], 'Adv sample 727': ['Init Fwd Win Byts', 'Pkt Len Min', 'SYN Flag Cnt', 'Bwd Pkt Len Min', 'Down/Up Ratio', 'FIN Flag Cnt', 'ACK Flag Cnt', 'Bwd URG Flags', 'Bwd IAT Max', 'Idle Max'], 'Adv sample 728': ['Fwd Pkt Len Std', 'Pkt Len Max', 'Fwd Seg Size Avg', 'Flow Byts/s', 'Fwd Pkt Len Max', 'Fwd Pkt Len Mean', 'Pkt Len Std', 'ACK Flag Cnt', 'Tot Bwd Pkts', 'Init Fwd Win Byts'], 'Adv sample 729': ['SYN Flag Cnt', 'Bwd Header Len', 'Flow Pkts/s', 'Subflow Bwd Pkts', 'FIN Flag Cnt', 'Fwd Pkt Len Mean', 'ACK Flag Cnt', 'Bwd IAT Std', 'Tot Fwd Pkts', 'Fwd Pkt Len Std'], 'Adv sample 730': ['SYN Flag Cnt', 'Fwd Pkt Len Max', 'Fwd Pkt Len Std', 'Down/Up Ratio', 'Pkt Len Min', 'Flow Pkts/s', 'Fwd Pkt Len Mean', 'Init Fwd Win Byts', 'Tot Bwd Pkts', 'Pkt Len Std'], 'Adv sample 731': ['Fwd Pkt Len Mean', 'Fwd Seg Size Avg', 'Fwd Pkt Len Max', 'Pkt Len Max', 'Fwd Pkt Len Std', 'Flow Byts/s', 'Pkt Len Mean', 'Pkt Size Avg', 'Bwd Pkt Len Std', 'Fwd IAT Max'], 'Adv sample 732': ['Fwd Pkt Len Std', 'SYN Flag Cnt', 'Down/Up Ratio', 'Fwd Pkt Len Max', 'Pkt Len Mean', 'Flow Byts/s', 'Fwd Pkt Len Mean', 'Pkt Len Std', 'Bwd Pkts/b Avg', 'Fwd Pkt Len Min'], 'Adv sample 733': ['Fwd Pkt Len Max', 'Fwd Pkt Len Std', 'Fwd Pkt Len Mean', 'Fwd Pkt Len Min', 'Pkt Len Mean', 'Pkt Len Min', 'Fwd Seg Size Avg', 'SYN Flag Cnt', 'Pkt Len Std', 'Fwd Act Data Pkts'], 'Adv sample 734': ['SYN Flag Cnt', 'Bwd Pkts/s', 'Subflow Bwd Pkts', 'Fwd Pkt Len Mean', 'Bwd Header Len', 'ACK Flag Cnt', 'Tot Bwd Pkts', 'Fwd Pkt Len Max', 'FIN Flag Cnt', 'Tot Fwd Pkts'], 'Adv sample 735': ['Fwd Pkt Len Max', 'Fwd Pkt Len Std', 'Fwd Pkt Len Mean', 'Fwd Seg Size Avg', 'Bwd Header Len', 'Flow Byts/s', 'Pkt Len Std', 'Init Fwd Win Byts', 'Pkt Len Min', 'Pkt Len Max'], 'Adv sample 736': ['Down/Up Ratio', 'Init Fwd Win Byts', 'Fwd Pkt Len Mean', 'Flow Pkts/s', 'FIN Flag Cnt', 'Fwd Pkt Len Max', 'Bwd Pkts/s', 'Fwd Header Len', 'Bwd IAT Std', 'Bwd Header Len'], 'Adv sample 737': ['Bwd Header Len', 'Bwd Pkts/s', 'SYN Flag Cnt', 'Fwd Pkt Len Max', 'Fwd Pkt Len Std', 'Fwd Pkt Len Mean', 'Init Fwd Win Byts', 'Flow Pkts/s', 'Pkt Size Avg', 'Pkt Len Max'], 'Adv sample 738': ['SYN Flag Cnt', 'Pkt Len Min', 'Bwd Pkt Len Min', 'Init Fwd Win Byts', 'Down/Up Ratio', 'FIN Flag Cnt', 'ACK Flag Cnt', 'Fwd Pkt Len Min', 'Bwd IAT Std', 'Fwd IAT Min'], 'Adv sample 739': ['Init Fwd Win Byts', 'Bwd Header Len', 'Down/Up Ratio', 'Fwd Pkt Len Std', 'Pkt Len Std', 'Pkt Len Max', 'Fwd Pkt Len Min', 'Flow Byts/s', 'Bwd Pkts/s', 'Flow Pkts/s'], 'Adv sample 740': ['Bwd Header Len', 'SYN Flag Cnt', 'Flow Pkts/s', 'Bwd Pkts/s', 'Down/Up Ratio', 'FIN Flag Cnt', 'Tot Bwd Pkts', 'Init Fwd Win Byts', 'Bwd Pkt Len Mean', 'Fwd Seg Size Avg'], 'Adv sample 741': ['Init Fwd Win Byts', 'SYN Flag Cnt', 'Pkt Len Min', 'Bwd Pkt Len Min', 'Down/Up Ratio', 'FIN Flag Cnt', 'ACK Flag Cnt', 'Fwd Pkt Len Min', 'Flow IAT Max', 'Bwd Pkt Len Max'], 'Adv sample 742': ['Init Fwd Win Byts', 'Bwd Header Len', 'Fwd Pkt Len Std', 'Flow Byts/s', 'FIN Flag Cnt', 'Bwd Pkts/s', 'Pkt Len Std', 'Pkt Len Max', 'Flow Pkts/s', 'Bwd Pkt Len Mean'], 'Adv sample 743': ['Pkt Len Min', 'SYN Flag Cnt', 'Init Fwd Win Byts', 'Bwd Pkt Len Min', 'Down/Up Ratio', 'FIN Flag Cnt', 'ACK Flag Cnt', 'Bwd IAT Std', 'Subflow Fwd Pkts', 'URG Flag Cnt'], 'Adv sample 744': ['SYN Flag Cnt', 'Fwd Pkt Len Std', 'Init Fwd Win Byts', 'Bwd Header Len', 'Flow Byts/s', 'Fwd Pkt Len Max', 'Down/Up Ratio', 'FIN Flag Cnt', 'Flow Pkts/s', 'Fwd Seg Size Avg'], 'Adv sample 745': ['SYN Flag Cnt', 'Bwd Header Len', 'Fwd Pkt Len Max', 'Subflow Bwd Pkts', 'Subflow Fwd Pkts', 'Fwd Pkt Len Mean', 'Fwd Pkt Len Std', 'Tot Fwd Pkts', 'Tot Bwd Pkts', 'Bwd Pkt Len Min'], 'Adv sample 746': ['Fwd Pkt Len Max', 'Fwd Pkt Len Std', 'SYN Flag Cnt', 'Bwd Pkts/s', 'Fwd Seg Size Avg', 'Pkt Len Mean', 'Pkt Size Avg', 'TotLen Fwd Pkts', 'Fwd Pkt Len Min', 'Subflow Fwd Byts'], 'Adv sample 747': ['SYN Flag Cnt', 'Bwd Header Len', 'Bwd Pkts/s', 'Subflow Bwd Pkts', 'FIN Flag Cnt', 'ACK Flag Cnt', 'Fwd IAT Mean', 'Tot Bwd Pkts', 'Pkt Len Std', 'Fwd Pkt Len Std'], 'Adv sample 748': ['SYN Flag Cnt', 'Fwd Pkt Len Std', 'Fwd Pkt Len Max', 'Init Bwd Win Byts', 'Bwd Header Len', 'Pkt Len Min', 'Pkt Len Var', 'Pkt Len Std', 'Fwd IAT Min', 'Pkt Size Avg'], 'Adv sample 749': ['Init Fwd Win Byts', 'SYN Flag Cnt', 'Pkt Len Min', 'Bwd Pkt Len Min', 'Down/Up Ratio', 'FIN Flag Cnt', 'ACK Flag Cnt', 'Flow IAT Std', 'Bwd IAT Max', 'Fwd Pkt Len Min'], 'Adv sample 750': ['Init Fwd Win Byts', 'Bwd Header Len', 'Down/Up Ratio', 'Fwd Pkt Len Std', 'Bwd Pkts/s', 'Flow Pkts/s', 'Flow Byts/s', 'FIN Flag Cnt', 'Fwd Seg Size Avg', 'Fwd Pkt Len Min'], 'Adv sample 751': ['Down/Up Ratio', 'Fwd IAT Min', 'Idle Min', 'Init Bwd Win Byts', 'Flow IAT Max', 'ACK Flag Cnt', 'Flow IAT Std', 'Flow Byts/s', 'Fwd IAT Max', 'FIN Flag Cnt'], 'Adv sample 752': ['SYN Flag Cnt', 'Fwd Pkt Len Max', 'Fwd Pkt Len Std', 'Pkt Len Min', 'Flow Byts/s', 'Bwd Pkts/s', 'Fwd Pkt Len Mean', 'Fwd Pkt Len Min', 'Down/Up Ratio', 'Bwd Header Len'], 'Adv sample 753': ['Fwd Pkt Len Std', 'Fwd Pkt Len Max', 'Fwd Pkt Len Mean', 'Bwd PSH Flags', 'Fwd Seg Size Avg', 'Pkt Len Std', 'Fwd Act Data Pkts', 'Init Fwd Win Byts', 'Pkt Len Mean', 'Fwd Pkt Len Min'], 'Adv sample 754': ['Fwd Pkt Len Max', 'Fwd Pkt Len Std', 'Fwd Pkt Len Mean', 'Fwd Seg Size Avg', 'Init Bwd Win Byts', 'Bwd Header Len', 'FIN Flag Cnt', 'Pkt Len Min', 'Flow Byts/s', 'Subflow Fwd Byts'], 'Adv sample 755': ['SYN Flag Cnt', 'Bwd Header Len', 'Tot Bwd Pkts', 'Flow Pkts/s', 'FIN Flag Cnt', 'Fwd Pkt Len Mean', 'ACK Flag Cnt', 'Fwd Pkt Len Max', 'Fwd IAT Mean', 'Init Fwd Win Byts'], 'Adv sample 756': ['Fwd Pkt Len Max', 'Bwd Header Len', 'Fwd IAT Min', 'Fwd IAT Tot', 'Fwd IAT Max', 'ACK Flag Cnt', 'Bwd Pkt Len Min', 'Idle Mean', 'Idle Min', 'Pkt Len Min'], 'Adv sample 757': ['Fwd Pkt Len Std', 'SYN Flag Cnt', 'Fwd Pkt Len Max', 'Bwd Pkts/s', 'Fwd Pkt Len Mean', 'Pkt Size Avg', 'Pkt Len Mean', 'Fwd Seg Size Avg', 'Pkt Len Std', 'Init Fwd Win Byts'], 'Adv sample 758': ['SYN Flag Cnt', 'Bwd Pkts/s', 'Bwd Header Len', 'Subflow Bwd Pkts', 'Tot Bwd Pkts', 'ACK Flag Cnt', 'FIN Flag Cnt', 'Fwd Pkt Len Std', 'Fwd Act Data Pkts', 'Tot Fwd Pkts'], 'Adv sample 759': ['SYN Flag Cnt', 'Fwd Pkt Len Std', 'Fwd Pkt Len Max', 'Bwd Header Len', 'Init Fwd Win Byts', 'Bwd Pkts/s', 'Fwd Pkt Len Mean', 'Fwd Pkts/s', 'Flow Pkts/s', 'Pkt Len Std'], 'Adv sample 760': ['Init Fwd Win Byts', 'Fwd Pkt Len Max', 'Fwd Pkt Len Std', 'Down/Up Ratio', 'Bwd Header Len', 'Pkt Len Std', 'Subflow Bwd Pkts', 'Bwd Pkts/s', 'FIN Flag Cnt', 'Fwd Pkt Len Min'], 'Adv sample 761': ['Pkt Len Min', 'Init Fwd Win Byts', 'SYN Flag Cnt', 'Bwd Pkt Len Min', 'Down/Up Ratio', 'FIN Flag Cnt', 'ACK Flag Cnt', 'Bwd PSH Flags', 'URG Flag Cnt', 'Bwd IAT Std'], 'Adv sample 762': ['Down/Up Ratio', 'Init Bwd Win Byts', 'Fwd IAT Std', 'Bwd Header Len', 'ACK Flag Cnt', 'Fwd IAT Mean', 'Bwd Pkts/s', 'FIN Flag Cnt', 'Subflow Bwd Pkts', 'Idle Min'], 'Adv sample 763': ['Flow Byts/s', 'Down/Up Ratio', 'Fwd IAT Tot', 'Flow IAT Max', 'FIN Flag Cnt', 'Idle Min', 'Fwd Pkt Len Mean', 'Bwd Pkts/s', 'ACK Flag Cnt', 'Idle Max'], 'Adv sample 764': ['SYN Flag Cnt', 'Bwd Pkts/s', 'Bwd Header Len', 'Subflow Bwd Pkts', 'ACK Flag Cnt', 'FIN Flag Cnt', 'Fwd Seg Size Avg', 'Tot Bwd Pkts', 'Pkt Len Std', 'Fwd Header Len'], 'Adv sample 765': ['Init Fwd Win Byts', 'Down/Up Ratio', 'Bwd Header Len', 'Flow Byts/s', 'Fwd Pkt Len Min', 'Fwd Pkt Len Std', 'Pkt Len Max', 'FIN Flag Cnt', 'Tot Bwd Pkts', 'Pkt Len Std'], 'Adv sample 766': ['Bwd Header Len', 'Fwd IAT Max', 'Fwd IAT Min', 'Pkt Len Min', 'ACK Flag Cnt', 'Tot Bwd Pkts', 'Flow IAT Std', 'Subflow Bwd Pkts', 'Subflow Fwd Pkts', 'Fwd Pkt Len Max'], 'Adv sample 767': ['Pkt Len Min', 'Init Fwd Win Byts', 'SYN Flag Cnt', 'Bwd Pkt Len Min', 'Down/Up Ratio', 'FIN Flag Cnt', 'ACK Flag Cnt', 'Bwd IAT Std', 'URG Flag Cnt', 'Bwd PSH Flags'], 'Adv sample 768': ['Init Fwd Win Byts', 'Pkt Len Min', 'SYN Flag Cnt', 'Bwd Pkt Len Min', 'Down/Up Ratio', 'FIN Flag Cnt', 'ACK Flag Cnt', 'Bwd IAT Std', 'Fwd Pkt Len Min', 'Bwd IAT Max'], 'Adv sample 769': ['SYN Flag Cnt', 'Bwd Pkts/s', 'Bwd Header Len', 'FIN Flag Cnt', 'Tot Bwd Pkts', 'Subflow Bwd Pkts', 'ACK Flag Cnt', 'Bwd IAT Std', 'Subflow Fwd Byts', 'Subflow Fwd Pkts'], 'Adv sample 770': ['Fwd Pkt Len Max', 'Bwd Pkts/s', 'Fwd Pkt Len Std', 'SYN Flag Cnt', 'Fwd Seg Size Avg', 'Pkt Len Var', 'Fwd Pkt Len Mean', 'Pkt Len Mean', 'Fwd Header Len', 'TotLen Fwd Pkts'], 'Adv sample 771': ['SYN Flag Cnt', 'Pkt Len Min', 'Fwd Pkt Len Max', 'Fwd Pkt Len Std', 'Down/Up Ratio', 'Bwd Header Len', 'FIN Flag Cnt', 'Fwd Pkt Len Mean', 'Tot Bwd Pkts', 'Pkt Size Avg'], 'Adv sample 772': ['Fwd Pkt Len Max', 'Bwd Header Len', 'Flow Byts/s', 'Fwd Pkt Len Std', 'Pkt Len Std', 'Fwd Pkt Len Mean', 'Fwd Seg Size Avg', 'Fwd IAT Tot', 'Pkt Len Min', 'Active Std'], 'Adv sample 773': ['SYN Flag Cnt', 'Fwd Pkt Len Std', 'Fwd Pkt Len Max', 'Down/Up Ratio', 'Init Fwd Win Byts', 'Pkt Len Min', 'Flow Pkts/s', 'Fwd Seg Size Avg', 'Pkt Len Max', 'Bwd Pkt Len Min'], 'Adv sample 774': ['SYN Flag Cnt', 'Bwd Pkts/s', 'Subflow Bwd Pkts', 'Bwd Header Len', 'FIN Flag Cnt', 'ACK Flag Cnt', 'Fwd Seg Size Avg', 'Fwd Header Len', 'Fwd Pkt Len Mean', 'Subflow Fwd Pkts'], 'Adv sample 775': ['SYN Flag Cnt', 'Bwd Pkts/s', 'Bwd Header Len', 'Subflow Bwd Pkts', 'Tot Bwd Pkts', 'FIN Flag Cnt', 'Tot Fwd Pkts', 'ACK Flag Cnt', 'Fwd Pkt Len Std', 'Fwd IAT Mean'], 'Adv sample 776': ['Init Fwd Win Byts', 'SYN Flag Cnt', 'Fwd Pkt Len Std', 'ACK Flag Cnt', 'Fwd Pkt Len Max', 'Bwd Pkts/s', 'Fwd Seg Size Avg', 'Fwd Pkt Len Mean', 'Pkt Size Avg', 'Fwd Pkt Len Min'], 'Adv sample 777': ['Init Bwd Win Byts', 'Fwd Pkt Len Std', 'Fwd Pkt Len Max', 'Fwd Seg Size Avg', 'Idle Max', 'Pkt Len Std', 'Idle Mean', 'Flow Byts/s', 'Bwd IAT Std', 'Fwd Pkt Len Mean'], 'Adv sample 778': ['SYN Flag Cnt', 'Bwd Pkts/s', 'Subflow Bwd Pkts', 'FIN Flag Cnt', 'Bwd Header Len', 'Tot Bwd Pkts', 'ACK Flag Cnt', 'Fwd IAT Std', 'Fwd Pkt Len Max', 'Fwd Pkt Len Std'], 'Adv sample 779': ['Init Fwd Win Byts', 'Pkt Len Min', 'SYN Flag Cnt', 'Bwd Pkt Len Min', 'Down/Up Ratio', 'FIN Flag Cnt', 'ACK Flag Cnt', 'Bwd IAT Max', 'Bwd IAT Tot', 'Flow IAT Max'], 'Adv sample 780': ['Fwd Pkt Len Std', 'Fwd Pkt Len Max', 'SYN Flag Cnt', 'Pkt Size Avg', 'Fwd Seg Size Avg', 'Fwd Pkt Len Mean', 'Pkt Len Std', 'Fwd Pkt Len Min', 'Fwd Header Len', 'Pkt Len Min'], 'Adv sample 781': ['SYN Flag Cnt', 'Fwd Pkt Len Max', 'Fwd Pkt Len Std', 'Init Bwd Win Byts', 'Fwd Seg Size Avg', 'Bwd Header Len', 'Pkt Len Min', 'FIN Flag Cnt', 'Flow Byts/s', 'Pkt Size Avg'], 'Adv sample 782': ['SYN Flag Cnt', 'Bwd Header Len', 'Tot Bwd Pkts', 'Bwd Pkts/s', 'Subflow Bwd Pkts', 'FIN Flag Cnt', 'ACK Flag Cnt', 'Fwd Pkt Len Max', 'Fwd IAT Min', 'Tot Fwd Pkts'], 'Adv sample 783': ['Fwd Pkt Len Std', 'Fwd Pkt Len Max', 'Fwd Pkt Len Mean', 'Flow Byts/s', 'Fwd Seg Size Avg', 'Pkt Len Std', 'Bwd Header Len', 'Bwd IAT Tot', 'Subflow Fwd Pkts', 'Fwd Header Len'], 'Adv sample 784': ['Fwd Pkt Len Std', 'Fwd Pkt Len Max', 'SYN Flag Cnt', 'Fwd Seg Size Avg', 'Down/Up Ratio', 'ACK Flag Cnt', 'Fwd Pkt Len Mean', 'Fwd Pkt Len Min', 'Fwd IAT Max', 'Pkt Len Mean'], 'Adv sample 785': ['SYN Flag Cnt', 'Subflow Bwd Pkts', 'Bwd Header Len', 'FIN Flag Cnt', 'ACK Flag Cnt', 'Tot Bwd Pkts', 'Subflow Fwd Pkts', 'Fwd Header Len', 'Fwd IAT Min', 'Tot Fwd Pkts'], 'Adv sample 786': ['SYN Flag Cnt', 'Tot Bwd Pkts', 'Bwd Header Len', 'Flow Pkts/s', 'Subflow Bwd Pkts', 'FIN Flag Cnt', 'Tot Fwd Pkts', 'Subflow Fwd Pkts', 'Init Fwd Win Byts', 'Fwd Header Len'], 'Adv sample 787': ['Pkt Len Min', 'Init Fwd Win Byts', 'SYN Flag Cnt', 'Bwd Pkt Len Min', 'FIN Flag Cnt', 'Down/Up Ratio', 'ACK Flag Cnt', 'Bwd PSH Flags', 'Bwd IAT Std', 'Fwd Pkt Len Min'], 'Adv sample 788': ['Fwd Seg Size Avg', 'Fwd Pkt Len Std', 'Pkt Len Std', 'Flow Byts/s', 'Fwd Pkt Len Mean', 'FIN Flag Cnt', 'Pkt Size Avg', 'Pkt Len Max', 'Init Fwd Win Byts', 'Subflow Fwd Byts'], 'Adv sample 789': ['Fwd Pkt Len Std', 'Bwd Pkts/s', 'Pkt Len Mean', 'Fwd Pkt Len Max', 'Pkt Len Max', 'SYN Flag Cnt', 'Fwd Pkt Len Mean', 'Pkt Size Avg', 'Fwd Seg Size Avg', 'Bwd Pkt Len Std'], 'Adv sample 790': ['SYN Flag Cnt', 'Down/Up Ratio', 'Flow Pkts/s', 'FIN Flag Cnt', 'Bwd Pkts/s', 'ACK Flag Cnt', 'Bwd Header Len', 'Flow Duration', 'Bwd IAT Std', 'Idle Max'], 'Adv sample 791': ['SYN Flag Cnt', 'Subflow Bwd Pkts', 'FIN Flag Cnt', 'Bwd Header Len', 'Tot Bwd Pkts', 'Flow Pkts/s', 'Fwd Seg Size Avg', 'Fwd Header Len', 'ACK Flag Cnt', 'Fwd Pkt Len Max'], 'Adv sample 792': ['Pkt Len Min', 'SYN Flag Cnt', 'Init Fwd Win Byts', 'Bwd Pkt Len Min', 'Down/Up Ratio', 'FIN Flag Cnt', 'ACK Flag Cnt', 'Bwd IAT Std', 'Flow IAT Mean', 'Flow IAT Min'], 'Adv sample 793': ['SYN Flag Cnt', 'Bwd Pkts/s', 'Bwd Header Len', 'Subflow Bwd Pkts', 'Fwd Pkt Len Std', 'FIN Flag Cnt', 'ACK Flag Cnt', 'Fwd Seg Size Avg', 'Fwd Pkt Len Mean', 'Subflow Fwd Pkts'], 'Adv sample 794': ['Fwd Pkt Len Max', 'Fwd Pkt Len Std', 'Pkt Len Std', 'Fwd Pkt Len Mean', 'Flow Byts/s', 'Fwd Seg Size Avg', 'Pkt Len Min', 'Pkt Len Mean', 'Pkt Len Max', 'Fwd Pkt Len Min'], 'Adv sample 795': ['SYN Flag Cnt', 'Init Fwd Win Byts', 'Pkt Len Min', 'Bwd Pkt Len Min', 'Down/Up Ratio', 'FIN Flag Cnt', 'ACK Flag Cnt', 'Fwd Pkt Len Min', 'Fwd Act Data Pkts', 'Flow IAT Max'], 'Adv sample 796': ['SYN Flag Cnt', 'Bwd Pkts/s', 'Bwd Header Len', 'Subflow Bwd Pkts', 'Tot Bwd Pkts', 'ACK Flag Cnt', 'FIN Flag Cnt', 'Fwd Pkt Len Std', 'Fwd IAT Mean', 'Fwd Act Data Pkts'], 'Adv sample 797': ['Fwd Pkt Len Max', 'Fwd Pkt Len Std', 'SYN Flag Cnt', 'Fwd Pkt Len Mean', 'Fwd Pkt Len Min', 'Fwd Seg Size Avg', 'Pkt Len Min', 'Pkt Len Std', 'Pkt Len Mean', 'Flow Byts/s'], 'Adv sample 798': ['Fwd Pkt Len Std', 'Fwd Pkt Len Max', 'Fwd Pkt Len Mean', 'Fwd Seg Size Avg', 'SYN Flag Cnt', 'Pkt Len Min', 'Pkt Size Avg', 'Fwd Pkt Len Min', 'Flow Byts/s', 'Pkt Len Std'], 'Adv sample 799': ['SYN Flag Cnt', 'Bwd Pkts/s', 'FIN Flag Cnt', 'Tot Bwd Pkts', 'Fwd Pkt Len Std', 'Bwd Header Len', 'Fwd Seg Size Avg', 'Fwd IAT Mean', 'Fwd Pkt Len Max', 'ACK Flag Cnt'], 'Adv sample 800': ['Pkt Len Min', 'Down/Up Ratio', 'SYN Flag Cnt', 'Bwd Pkt Len Min', 'Flow Pkts/s', 'Bwd Pkts/s', 'FIN Flag Cnt', 'Bwd Header Len', 'Fwd Pkt Len Min', 'Fwd Pkt Len Std'], 'Adv sample 801': ['Init Fwd Win Byts', 'Flow Byts/s', 'Down/Up Ratio', 'Fwd Pkt Len Max', 'Bwd Header Len', 'Pkt Len Max', 'Pkt Len Std', 'Bwd Pkt Len Min', 'Fwd Pkt Len Min', 'Subflow Bwd Pkts'], 'Adv sample 802': ['SYN Flag Cnt', 'Init Fwd Win Byts', 'ACK Flag Cnt', 'Fwd Pkt Len Std', 'Bwd Pkts/s', 'Fwd Pkt Len Max', 'Fwd Pkt Len Mean', 'Pkt Len Mean', 'Pkt Len Std', 'Fwd Seg Size Avg'], 'Adv sample 803': ['Fwd Pkt Len Std', 'Fwd Pkt Len Max', 'Fwd Pkt Len Mean', 'Pkt Len Std', 'Fwd Seg Size Avg', 'Flow Byts/s', 'Bwd Pkt Len Max', 'FIN Flag Cnt', 'Bwd IAT Mean', 'Pkt Len Max'], 'Adv sample 804': ['Fwd Pkt Len Max', 'Fwd Pkt Len Std', 'Bwd IAT Tot', 'Down/Up Ratio', 'Fwd IAT Tot', 'ACK Flag Cnt', 'Fwd Pkt Len Mean', 'Bwd Pkts/s', 'Pkt Len Std', 'Idle Mean'], 'Adv sample 805': ['Down/Up Ratio', 'Init Fwd Win Byts', 'SYN Flag Cnt', 'FIN Flag Cnt', 'Bwd Pkts/s', 'Flow Pkts/s', 'Fwd IAT Max', 'Flow IAT Max', 'Idle Mean', 'PSH Flag Cnt'], 'Adv sample 806': ['Fwd Pkt Len Std', 'Init Fwd Win Byts', 'Bwd Header Len', 'Down/Up Ratio', 'Flow Byts/s', 'Bwd Pkts/s', 'FIN Flag Cnt', 'Subflow Bwd Pkts', 'Pkt Size Avg', 'Flow Pkts/s'], 'Adv sample 807': ['Fwd Pkt Len Max', 'Fwd Pkt Len Std', 'Fwd Pkt Len Mean', 'Flow Byts/s', 'SYN Flag Cnt', 'Pkt Len Max', 'Fwd Seg Size Avg', 'Pkt Len Min', 'Bwd Pkt Len Min', 'Fwd Pkt Len Min'], 'Adv sample 808': ['Fwd IAT Min', 'Down/Up Ratio', 'Init Fwd Win Byts', 'Init Bwd Win Byts', 'Flow Pkts/s', 'ACK Flag Cnt', 'Idle Min', 'Pkt Len Std', 'Pkt Len Var', 'Bwd Pkts/s'], 'Adv sample 809': ['Down/Up Ratio', 'Init Fwd Win Byts', 'FIN Flag Cnt', 'Bwd Pkts/s', 'Idle Max', 'Fwd Pkt Len Std', 'Flow Byts/s', 'Active Std', 'Fwd IAT Tot', 'Bwd Header Len'], 'Adv sample 810': ['Init Fwd Win Byts', 'Pkt Len Min', 'SYN Flag Cnt', 'Bwd Pkt Len Min', 'FIN Flag Cnt', 'Down/Up Ratio', 'ACK Flag Cnt', 'Bwd IAT Std', 'Subflow Fwd Pkts', 'Flow IAT Std'], 'Adv sample 811': ['SYN Flag Cnt', 'Fwd Pkt Len Std', 'Bwd Header Len', 'Fwd Pkt Len Max', 'Init Fwd Win Byts', 'Fwd Pkt Len Mean', 'Bwd Pkts/s', 'Bwd PSH Flags', 'Fwd Seg Size Avg', 'FIN Flag Cnt'], 'Adv sample 812': ['Fwd Pkt Len Max', 'Fwd Pkt Len Std', 'Fwd Pkt Len Mean', 'Flow Byts/s', 'Pkt Len Min', 'Pkt Size Avg', 'Fwd Seg Size Avg', 'SYN Flag Cnt', 'Pkt Len Mean', 'Pkt Len Max'], 'Adv sample 813': ['Fwd Pkt Len Max', 'SYN Flag Cnt', 'Fwd Pkt Len Std', 'Init Fwd Win Byts', 'Bwd Header Len', 'Bwd Pkts/s', 'Fwd Pkt Len Mean', 'Tot Bwd Pkts', 'Bwd PSH Flags', 'Fwd Seg Size Avg'], 'Adv sample 814': ['Fwd Pkt Len Max', 'Fwd Pkt Len Std', 'Fwd Seg Size Avg', 'SYN Flag Cnt', 'Pkt Size Avg', 'Pkt Len Min', 'Fwd Pkt Len Mean', 'Pkt Len Max', 'Init Fwd Win Byts', 'Flow Byts/s'], 'Adv sample 815': ['SYN Flag Cnt', 'Bwd Header Len', 'Tot Bwd Pkts', 'FIN Flag Cnt', 'Subflow Bwd Pkts', 'Flow Pkts/s', 'ACK Flag Cnt', 'Fwd IAT Mean', 'Fwd IAT Max', 'Fwd Pkt Len Mean'], 'Adv sample 816': ['Fwd Pkt Len Mean', 'Flow Byts/s', 'Fwd Pkt Len Max', 'Fwd Pkt Len Std', 'Fwd Seg Size Avg', 'Init Fwd Win Byts', 'Pkt Len Min', 'Pkt Len Max', 'Pkt Len Mean', 'Bwd IAT Tot'], 'Adv sample 817': ['Fwd Pkt Len Std', 'Fwd Seg Size Avg', 'Fwd Pkt Len Max', 'Flow Byts/s', 'Fwd Pkt Len Mean', 'Fwd Pkt Len Min', 'Bwd IAT Tot', 'Pkt Size Avg', 'Pkt Len Min', 'Init Fwd Win Byts'], 'Adv sample 818': ['Pkt Len Min', 'Down/Up Ratio', 'SYN Flag Cnt', 'Bwd Pkt Len Min', 'FIN Flag Cnt', 'Flow Pkts/s', 'Bwd Pkts/s', 'Bwd IAT Std', 'Flow IAT Std', 'Bwd Byts/b Avg'], 'Adv sample 819': ['Fwd Pkt Len Std', 'Fwd Seg Size Avg', 'Fwd Pkt Len Mean', 'Flow Byts/s', 'Pkt Len Max', 'FIN Flag Cnt', 'Pkt Len Std', 'Pkt Len Mean', 'Pkt Len Var', 'Pkt Size Avg'], 'Adv sample 820': ['Fwd Pkt Len Max', 'Fwd Pkt Len Std', 'Fwd Pkt Len Mean', 'Pkt Len Min', 'SYN Flag Cnt', 'Fwd Seg Size Avg', 'Bwd Pkt Len Min', 'Pkt Len Mean', 'Flow Byts/s', 'Fwd Pkt Len Min'], 'Adv sample 821': ['SYN Flag Cnt', 'Bwd Header Len', 'Bwd Pkts/s', 'Tot Bwd Pkts', 'Subflow Bwd Pkts', 'FIN Flag Cnt', 'ACK Flag Cnt', 'Fwd IAT Mean', 'Idle Max', 'Pkt Len Std'], 'Adv sample 822': ['SYN Flag Cnt', 'Fwd Pkt Len Mean', 'Fwd Pkt Len Max', 'Down/Up Ratio', 'Pkt Len Min', 'Init Fwd Win Byts', 'Fwd Pkt Len Std', 'Fwd Act Data Pkts', 'Pkt Size Avg', 'Flow Pkts/s'], 'Adv sample 823': ['Flow Byts/s', 'Fwd Pkt Len Max', 'Fwd Pkt Len Std', 'Fwd Seg Size Avg', 'Flow IAT Max', 'ACK Flag Cnt', 'FIN Flag Cnt', 'Bwd Pkt Len Min', 'Tot Bwd Pkts', 'Bwd Pkts/s'], 'Adv sample 824': ['SYN Flag Cnt', 'Bwd Pkts/s', 'Bwd Header Len', 'ACK Flag Cnt', 'Tot Bwd Pkts', 'FIN Flag Cnt', 'Subflow Bwd Pkts', 'Fwd Seg Size Avg', 'Fwd Act Data Pkts', 'Fwd Pkt Len Std'], 'Adv sample 825': ['Pkt Len Min', 'Init Fwd Win Byts', 'SYN Flag Cnt', 'Bwd Pkt Len Min', 'FIN Flag Cnt', 'Down/Up Ratio', 'ACK Flag Cnt', 'Fwd Pkts/b Avg', 'Flow IAT Max', 'Fwd Act Data Pkts'], 'Adv sample 826': ['SYN Flag Cnt', 'Tot Bwd Pkts', 'Bwd Header Len', 'FIN Flag Cnt', 'Flow Pkts/s', 'Subflow Bwd Pkts', 'Fwd Pkt Len Std', 'Fwd Pkt Len Max', 'Fwd Pkt Len Mean', 'Tot Fwd Pkts'], 'Adv sample 827': ['SYN Flag Cnt', 'Bwd Pkts/s', 'Bwd Header Len', 'Fwd Pkt Len Mean', 'Subflow Bwd Pkts', 'FIN Flag Cnt', 'Tot Bwd Pkts', 'Bwd IAT Std', 'ACK Flag Cnt', 'Fwd IAT Mean'], 'Adv sample 828': ['Pkt Len Min', 'SYN Flag Cnt', 'Init Fwd Win Byts', 'Bwd Pkt Len Min', 'FIN Flag Cnt', 'Down/Up Ratio', 'ACK Flag Cnt', 'Fwd Pkt Len Min', 'Bwd IAT Max', 'PSH Flag Cnt'], 'Adv sample 829': ['SYN Flag Cnt', 'Bwd Pkts/s', 'Subflow Bwd Pkts', 'Tot Bwd Pkts', 'Bwd Header Len', 'FIN Flag Cnt', 'ACK Flag Cnt', 'Fwd Pkt Len Mean', 'Bwd IAT Std', 'Idle Mean'], 'Adv sample 830': ['SYN Flag Cnt', 'Subflow Bwd Pkts', 'Bwd Header Len', 'Bwd Pkts/s', 'Tot Bwd Pkts', 'FIN Flag Cnt', 'ACK Flag Cnt', 'Fwd Pkt Len Mean', 'Fwd IAT Min', 'Fwd Act Data Pkts'], 'Adv sample 831': ['Pkt Len Max', 'Flow Byts/s', 'Fwd Pkt Len Std', 'Fwd Pkt Len Mean', 'Fwd Pkt Len Max', 'Pkt Len Mean', 'Pkt Len Std', 'Init Fwd Win Byts', 'Tot Bwd Pkts', 'Idle Max'], 'Adv sample 832': ['SYN Flag Cnt', 'Flow Pkts/s', 'Down/Up Ratio', 'FIN Flag Cnt', 'ACK Flag Cnt', 'Bwd Pkts/s', 'Bwd Header Len', 'Bwd IAT Std', 'Flow Duration', 'Idle Max'], 'Adv sample 833': ['Fwd IAT Min', 'Bwd Pkts/s', 'Down/Up Ratio', 'Init Fwd Win Byts', 'Subflow Fwd Pkts', 'ACK Flag Cnt', 'Fwd Pkt Len Std', 'FIN Flag Cnt', 'Bwd Header Len', 'Bwd IAT Tot'], 'Adv sample 834': ['SYN Flag Cnt', 'Bwd Pkts/s', 'Tot Bwd Pkts', 'Bwd Header Len', 'ACK Flag Cnt', 'Subflow Bwd Pkts', 'TotLen Fwd Pkts', 'FIN Flag Cnt', 'Fwd Pkt Len Std', 'Fwd Pkt Len Max'], 'Adv sample 835': ['Bwd Header Len', 'Flow IAT Max', 'Fwd IAT Max', 'Down/Up Ratio', 'Pkt Len Min', 'Idle Min', 'Flow IAT Std', 'Tot Fwd Pkts', 'Fwd IAT Mean', 'ACK Flag Cnt'], 'Adv sample 836': ['Fwd Pkt Len Max', 'Fwd Pkt Len Std', 'Fwd Seg Size Avg', 'Pkt Size Avg', 'Pkt Len Mean', 'SYN Flag Cnt', 'Fwd Pkt Len Mean', 'Flow Byts/s', 'Pkt Len Min', 'Init Fwd Win Byts'], 'Adv sample 837': ['Fwd IAT Min', 'Down/Up Ratio', 'Bwd Pkts/s', 'Init Fwd Win Byts', 'Fwd Pkt Len Max', 'FIN Flag Cnt', 'Flow Duration', 'Flow IAT Std', 'Idle Max', 'Bwd Pkt Len Min'], 'Adv sample 838': ['Fwd Pkt Len Max', 'Fwd Pkt Len Std', 'Bwd Pkts/s', 'Pkt Len Mean', 'Fwd Pkt Len Mean', 'Pkt Size Avg', 'Pkt Len Std', 'SYN Flag Cnt', 'Fwd Seg Size Avg', 'Flow Byts/s'], 'Adv sample 839': ['Pkt Len Min', 'Init Fwd Win Byts', 'SYN Flag Cnt', 'Bwd Pkt Len Min', 'Down/Up Ratio', 'FIN Flag Cnt', 'ACK Flag Cnt', 'Fwd Pkt Len Min', 'Bwd IAT Std', 'Active Min'], 'Adv sample 840': ['SYN Flag Cnt', 'Bwd Pkts/s', 'Bwd Header Len', 'Tot Bwd Pkts', 'Subflow Bwd Pkts', 'FIN Flag Cnt', 'Fwd Pkt Len Std', 'Fwd IAT Mean', 'ACK Flag Cnt', 'Fwd Header Len'], 'Adv sample 841': ['Bwd Header Len', 'SYN Flag Cnt', 'Flow Pkts/s', 'Bwd Pkts/s', 'FIN Flag Cnt', 'Down/Up Ratio', 'Init Fwd Win Byts', 'Tot Bwd Pkts', 'Subflow Bwd Pkts', 'Fwd Pkt Len Std'], 'Adv sample 842': ['Fwd Pkt Len Std', 'Fwd Seg Size Avg', 'Down/Up Ratio', 'Fwd Pkt Len Mean', 'SYN Flag Cnt', 'ACK Flag Cnt', 'Fwd Pkt Len Max', 'Pkt Len Mean', 'Pkt Len Std', 'Pkt Len Max'], 'Adv sample 843': ['Down/Up Ratio', 'Init Fwd Win Byts', 'Bwd Header Len', 'FIN Flag Cnt', 'Flow Pkts/s', 'Fwd Pkt Len Min', 'Fwd Pkt Len Std', 'Fwd Pkt Len Max', 'Pkt Len Std', 'Subflow Bwd Pkts'], 'Adv sample 844': ['Fwd Pkt Len Std', 'Fwd Pkt Len Max', 'Flow Byts/s', 'Pkt Len Std', 'Fwd Pkt Len Mean', 'Bwd Header Len', 'Fwd Pkt Len Min', 'Pkt Size Avg', 'Fwd Seg Size Avg', 'Bwd IAT Tot'], 'Adv sample 845': ['Fwd Pkt Len Max', 'Bwd IAT Tot', 'Fwd Pkt Len Std', 'Pkt Len Std', 'Flow Byts/s', 'Fwd Seg Size Avg', 'Pkt Len Max', 'Fwd Pkt Len Mean', 'Bwd Pkts/s', 'ACK Flag Cnt'], 'Adv sample 846': ['Fwd Pkt Len Max', 'Fwd Pkt Len Std', 'Flow Byts/s', 'Fwd Pkt Len Mean', 'Fwd Pkt Len Min', 'Fwd Seg Size Avg', 'Pkt Len Std', 'Bwd Header Len', 'Pkt Len Max', 'Fwd IAT Tot'], 'Adv sample 847': ['SYN Flag Cnt', 'Fwd Pkt Len Max', 'Fwd Pkt Len Std', 'Down/Up Ratio', 'Pkt Len Min', 'Pkt Size Avg', 'Init Fwd Win Byts', 'Flow Pkts/s', 'Tot Fwd Pkts', 'ACK Flag Cnt'], 'Adv sample 848': ['Pkt Len Min', 'SYN Flag Cnt', 'Init Fwd Win Byts', 'Bwd Pkt Len Min', 'Down/Up Ratio', 'FIN Flag Cnt', 'ACK Flag Cnt', 'Bwd IAT Std', 'Fwd Seg Size Avg', 'Fwd IAT Min'], 'Adv sample 849': ['Pkt Len Min', 'Init Fwd Win Byts', 'SYN Flag Cnt', 'Bwd Pkt Len Min', 'Down/Up Ratio', 'FIN Flag Cnt', 'ACK Flag Cnt', 'Fwd Pkt Len Min', 'Bwd IAT Std', 'TotLen Fwd Pkts'], 'Adv sample 850': ['Fwd Pkt Len Std', 'Fwd Pkt Len Max', 'Fwd Pkt Len Mean', 'Fwd Seg Size Avg', 'Bwd Header Len', 'Fwd Pkt Len Min', 'Pkt Size Avg', 'Pkt Len Mean', 'SYN Flag Cnt', 'Bwd Pkts/s'], 'Adv sample 851': ['Down/Up Ratio', 'Init Fwd Win Byts', 'Bwd Pkt Len Min', 'FIN Flag Cnt', 'Pkt Len Min', 'Fwd Pkt Len Mean', 'Flow Pkts/s', 'Fwd Pkt Len Std', 'Bwd Pkts/s', 'Bwd Header Len'], 'Adv sample 852': ['SYN Flag Cnt', 'Bwd Pkts/s', 'Fwd Pkt Len Std', 'Bwd Header Len', 'Bwd IAT Std', 'Tot Bwd Pkts', 'FIN Flag Cnt', 'Fwd Seg Size Avg', 'ACK Flag Cnt', 'Subflow Bwd Pkts'], 'Adv sample 853': ['Fwd Pkt Len Max', 'Fwd Pkt Len Std', 'Fwd Seg Size Avg', 'Bwd PSH Flags', 'Fwd Pkt Len Mean', 'Tot Bwd Pkts', 'Pkt Len Std', 'Fwd Pkt Len Min', 'Flow Byts/s', 'Flow Duration'], 'Adv sample 854': ['SYN Flag Cnt', 'Bwd Pkts/s', 'ACK Flag Cnt', 'Tot Bwd Pkts', 'FIN Flag Cnt', 'Fwd Pkt Len Mean', 'Bwd Header Len', 'Fwd IAT Mean', 'Tot Fwd Pkts', 'Fwd Header Len'], 'Adv sample 855': ['Tot Bwd Pkts', 'Down/Up Ratio', 'Flow IAT Std', 'Flow IAT Max', 'Fwd IAT Min', 'Bwd Pkts/s', 'Fwd Pkt Len Max', 'Fwd Seg Size Avg', 'Pkt Len Max', 'Bwd IAT Max'], 'Adv sample 856': ['Flow Byts/s', 'Init Fwd Win Byts', 'Down/Up Ratio', 'Pkt Len Max', 'Fwd Pkt Len Max', 'Fwd Pkt Len Std', 'Fwd Pkt Len Mean', 'Pkt Len Std', 'Bwd Pkt Len Std', 'Pkt Len Mean'], 'Adv sample 857': ['SYN Flag Cnt', 'Fwd Pkt Len Max', 'Init Bwd Win Byts', 'Fwd Pkt Len Std', 'Pkt Len Min', 'Fwd Act Data Pkts', 'Subflow Fwd Pkts', 'Fwd Seg Size Avg', 'Pkt Size Avg', 'Fwd Pkt Len Mean'], 'Adv sample 858': ['Init Fwd Win Byts', 'SYN Flag Cnt', 'Pkt Len Min', 'Bwd Pkt Len Min', 'FIN Flag Cnt', 'Down/Up Ratio', 'ACK Flag Cnt', 'Fwd Pkt Len Min', 'PSH Flag Cnt', 'Bwd IAT Tot'], 'Adv sample 859': ['Fwd Pkt Len Max', 'Fwd Pkt Len Std', 'Fwd Pkt Len Mean', 'Pkt Len Std', 'Fwd Seg Size Avg', 'Pkt Size Avg', 'Down/Up Ratio', 'Flow Byts/s', 'Bwd IAT Tot', 'Pkt Len Min'], 'Adv sample 860': ['SYN Flag Cnt', 'Subflow Bwd Pkts', 'Flow Pkts/s', 'Tot Bwd Pkts', 'FIN Flag Cnt', 'Bwd Header Len', 'Fwd Seg Size Avg', 'Fwd Pkt Len Mean', 'Fwd Pkt Len Max', 'Init Fwd Win Byts'], 'Adv sample 861': ['Pkt Len Min', 'SYN Flag Cnt', 'Bwd Pkt Len Min', 'Init Fwd Win Byts', 'FIN Flag Cnt', 'Down/Up Ratio', 'ACK Flag Cnt', 'Bwd IAT Std', 'Fwd IAT Max', 'Fwd Seg Size Avg'], 'Adv sample 862': ['Down/Up Ratio', 'FIN Flag Cnt', 'Flow Byts/s', 'Bwd Pkts/s', 'Flow IAT Max', 'Flow IAT Std', 'Fwd Pkt Len Mean', 'Bwd Header Len', 'Fwd IAT Std', 'Init Fwd Win Byts'], 'Adv sample 863': ['SYN Flag Cnt', 'Bwd Header Len', 'Tot Bwd Pkts', 'ACK Flag Cnt', 'Bwd Pkts/s', 'FIN Flag Cnt', 'Subflow Bwd Pkts', 'Tot Fwd Pkts', 'Fwd Pkt Len Max', 'Fwd IAT Mean'], 'Adv sample 864': ['Fwd Pkt Len Std', 'Fwd Pkt Len Max', 'Fwd Pkt Len Mean', 'Fwd Seg Size Avg', 'Pkt Size Avg', 'SYN Flag Cnt', 'Flow Byts/s', 'Pkt Len Mean', 'Pkt Len Max', 'Pkt Len Min'], 'Adv sample 865': ['SYN Flag Cnt', 'Fwd Pkt Len Std', 'Down/Up Ratio', 'Fwd Pkt Len Max', 'Fwd Pkt Len Mean', 'Pkt Len Min', 'Flow Byts/s', 'Flow Pkts/s', 'Bwd Pkt Len Min', 'FIN Flag Cnt'], 'Adv sample 866': ['SYN Flag Cnt', 'Fwd Pkt Len Std', 'Fwd Pkt Len Max', 'Down/Up Ratio', 'Fwd Seg Size Avg', 'Init Fwd Win Byts', 'Fwd Pkt Len Mean', 'Flow Pkts/s', 'Pkt Len Std', 'Bwd IAT Max'], 'Adv sample 867': ['Fwd Pkt Len Std', 'Fwd Pkt Len Max', 'Pkt Len Min', 'SYN Flag Cnt', 'Flow Byts/s', 'Pkt Size Avg', 'Fwd Pkt Len Mean', 'Subflow Fwd Byts', 'Fwd Seg Size Avg', 'Fwd IAT Tot'], 'Adv sample 868': ['SYN Flag Cnt', 'Fwd Pkt Len Std', 'Fwd Pkt Len Min', 'ACK Flag Cnt', 'Fwd Pkt Len Max', 'FIN Flag Cnt', 'Flow Byts/s', 'Tot Bwd Pkts', 'Bwd Pkts/s', 'Down/Up Ratio'], 'Adv sample 869': ['SYN Flag Cnt', 'Bwd Pkts/s', 'Bwd Header Len', 'Subflow Bwd Pkts', 'FIN Flag Cnt', 'Tot Bwd Pkts', 'ACK Flag Cnt', 'Fwd Pkt Len Max', 'Flow IAT Mean', 'Bwd PSH Flags'], 'Adv sample 870': ['Fwd Pkt Len Std', 'Init Fwd Win Byts', 'Flow Byts/s', 'Pkt Len Std', 'FIN Flag Cnt', 'Bwd Header Len', 'Fwd Pkt Len Max', 'Fwd Pkt Len Mean', 'Fwd Seg Size Avg', 'Pkt Len Max'], 'Adv sample 871': ['Init Fwd Win Byts', 'Pkt Len Min', 'SYN Flag Cnt', 'Bwd Pkt Len Min', 'Down/Up Ratio', 'FIN Flag Cnt', 'Fwd Pkt Len Min', 'ACK Flag Cnt', 'Bwd IAT Std', 'Bwd IAT Tot'], 'Adv sample 872': ['Init Fwd Win Byts', 'Bwd Pkt Len Min', 'SYN Flag Cnt', 'Pkt Len Min', 'Down/Up Ratio', 'FIN Flag Cnt', 'ACK Flag Cnt', 'Fwd Pkt Len Min', 'Fwd IAT Max', 'Bwd IAT Std'], 'Adv sample 873': ['Down/Up Ratio', 'Fwd IAT Min', 'Fwd IAT Max', 'Bwd Pkts/s', 'Flow IAT Max', 'Flow IAT Std', 'Flow IAT Min', 'Fwd Pkt Len Mean', 'Fwd IAT Std', 'Fwd IAT Tot'], 'Adv sample 874': ['SYN Flag Cnt', 'Fwd Pkt Len Max', 'Fwd Pkt Len Std', 'Flow Byts/s', 'Pkt Len Min', 'Bwd Pkt Len Min', 'Down/Up Ratio', 'FIN Flag Cnt', 'Fwd Act Data Pkts', 'Fwd Seg Size Avg'], 'Adv sample 875': ['Down/Up Ratio', 'Idle Min', 'Bwd Pkts/s', 'ACK Flag Cnt', 'Fwd Pkt Len Max', 'Fwd Pkt Len Mean', 'Flow IAT Max', 'FIN Flag Cnt', 'Tot Bwd Pkts', 'Active Std'], 'Adv sample 876': ['Bwd PSH Flags', 'Pkt Len Min', 'SYN Flag Cnt', 'Bwd Pkt Len Min', 'Init Fwd Win Byts', 'Bwd Pkts/s', 'Flow Pkts/s', 'Down/Up Ratio', 'FIN Flag Cnt', 'Bwd IAT Tot'], 'Adv sample 877': ['SYN Flag Cnt', 'Bwd Pkts/s', 'Subflow Bwd Pkts', 'Tot Bwd Pkts', 'Bwd Header Len', 'FIN Flag Cnt', 'Fwd Header Len', 'ACK Flag Cnt', 'Fwd IAT Mean', 'Subflow Fwd Pkts'], 'Adv sample 878': ['SYN Flag Cnt', 'Tot Bwd Pkts', 'Subflow Bwd Pkts', 'FIN Flag Cnt', 'Bwd Header Len', 'Flow Pkts/s', 'ACK Flag Cnt', 'Fwd Pkt Len Max', 'Pkt Len Mean', 'Fwd IAT Min'], 'Adv sample 879': ['Init Fwd Win Byts', 'Bwd Pkt Len Min', 'Pkt Len Min', 'SYN Flag Cnt', 'FIN Flag Cnt', 'Down/Up Ratio', 'ACK Flag Cnt', 'Fwd IAT Mean', 'Idle Mean', 'Tot Fwd Pkts'], 'Adv sample 880': ['Fwd Pkt Len Std', 'Fwd Pkt Len Max', 'Bwd Header Len', 'Flow Byts/s', 'Fwd Pkt Len Mean', 'Fwd Seg Size Avg', 'Pkt Len Min', 'Init Fwd Win Byts', 'Pkt Len Std', 'Bwd IAT Tot'], 'Adv sample 881': ['SYN Flag Cnt', 'Fwd Pkt Len Std', 'Init Fwd Win Byts', 'Fwd Pkt Len Max', 'Flow Pkts/s', 'Down/Up Ratio', 'Pkt Len Mean', 'Fwd Seg Size Avg', 'Fwd Act Data Pkts', 'Fwd IAT Std'], 'Adv sample 882': ['Pkt Len Max', 'Flow Byts/s', 'Fwd Pkt Len Mean', 'Fwd Seg Size Avg', 'Down/Up Ratio', 'Pkt Size Avg', 'Fwd Pkt Len Std', 'FIN Flag Cnt', 'Bwd Header Len', 'Pkt Len Mean'], 'Adv sample 883': ['Fwd Seg Size Avg', 'Pkt Len Max', 'Fwd Pkt Len Mean', 'Fwd Pkt Len Std', 'Fwd Pkt Len Max', 'Init Fwd Win Byts', 'Flow Byts/s', 'FIN Flag Cnt', 'ACK Flag Cnt', 'Bwd Pkts/s'], 'Adv sample 884': ['Down/Up Ratio', 'Fwd IAT Tot', 'Fwd IAT Min', 'ACK Flag Cnt', 'Flow IAT Max', 'FIN Flag Cnt', 'Fwd Seg Size Avg', 'Flow Duration', 'Fwd Pkt Len Max', 'Pkt Len Max'], 'Adv sample 885': ['Fwd Pkt Len Std', 'Down/Up Ratio', 'Fwd Pkt Len Max', 'Fwd Pkt Len Mean', 'SYN Flag Cnt', 'ACK Flag Cnt', 'Pkt Len Std', 'Subflow Fwd Pkts', 'Pkt Len Mean', 'Flow Byts/s'], 'Adv sample 886': ['Fwd Pkt Len Max', 'Pkt Len Max', 'Fwd Pkt Len Std', 'Flow Byts/s', 'Pkt Len Min', 'Fwd Pkt Len Mean', 'Bwd Pkts/s', 'Fwd IAT Max', 'Pkt Len Std', 'Fwd IAT Std'], 'Adv sample 887': ['Init Fwd Win Byts', 'Flow Byts/s', 'Down/Up Ratio', 'Fwd Pkt Len Max', 'Pkt Len Std', 'FIN Flag Cnt', 'Subflow Bwd Pkts', 'Fwd Pkt Len Std', 'Flow Pkts/s', 'Bwd Pkts/s'], 'Adv sample 888': ['Fwd Pkt Len Std', 'Fwd Pkt Len Max', 'SYN Flag Cnt', 'Bwd Pkts/s', 'Fwd Pkt Len Mean', 'Pkt Len Mean', 'Pkt Len Std', 'Init Fwd Win Byts', 'Fwd Pkt Len Min', 'Idle Min'], 'Adv sample 889': ['Fwd IAT Max', 'Pkt Len Min', 'FIN Flag Cnt', 'Fwd Pkt Len Max', 'Idle Mean', 'Flow IAT Max', 'Fwd Pkt Len Mean', 'Fwd IAT Min', 'Fwd IAT Tot', 'Fwd Pkt Len Std'], 'Adv sample 890': ['Fwd Pkt Len Std', 'Fwd Seg Size Avg', 'Fwd Pkt Len Mean', 'Pkt Len Max', 'Pkt Len Std', 'Init Fwd Win Byts', 'ACK Flag Cnt', 'FIN Flag Cnt', 'Bwd Pkt Len Std', 'Fwd Pkt Len Min'], 'Adv sample 891': ['Fwd Pkt Len Std', 'Fwd Pkt Len Max', 'Fwd Pkt Len Mean', 'Fwd Seg Size Avg', 'SYN Flag Cnt', 'Pkt Len Std', 'Pkt Len Mean', 'Flow Byts/s', 'Bwd Pkt Len Min', 'Pkt Size Avg'], 'Adv sample 892': ['SYN Flag Cnt', 'Tot Bwd Pkts', 'Bwd Pkts/s', 'Fwd Pkt Len Std', 'Subflow Bwd Pkts', 'ACK Flag Cnt', 'Bwd Header Len', 'FIN Flag Cnt', 'Tot Fwd Pkts', 'Bwd IAT Std'], 'Adv sample 893': ['Fwd Pkt Len Max', 'Fwd Pkt Len Std', 'Fwd Seg Size Avg', 'Fwd Pkt Len Mean', 'SYN Flag Cnt', 'Pkt Size Avg', 'Pkt Len Std', 'Subflow Fwd Byts', 'Pkt Len Mean', 'Flow Byts/s'], 'Adv sample 894': ['Fwd Pkt Len Max', 'Fwd Pkt Len Std', 'Fwd Pkt Len Mean', 'SYN Flag Cnt', 'Fwd Seg Size Avg', 'Pkt Len Mean', 'Pkt Len Min', 'Tot Bwd Pkts', 'Bwd Pkt Len Min', 'Active Std'], 'Adv sample 895': ['SYN Flag Cnt', 'Subflow Bwd Pkts', 'Tot Bwd Pkts', 'FIN Flag Cnt', 'Fwd Pkt Len Mean', 'Bwd Header Len', 'Fwd Pkt Len Std', 'ACK Flag Cnt', 'Flow Pkts/s', 'Bwd IAT Std'], 'Adv sample 896': ['Fwd Pkt Len Std', 'Fwd Pkt Len Max', 'Fwd Seg Size Avg', 'Fwd Pkt Len Mean', 'Pkt Len Std', 'Pkt Len Max', 'Bwd PSH Flags', 'Pkt Len Mean', 'Subflow Fwd Pkts', 'Bwd Header Len'], 'Adv sample 897': ['Init Fwd Win Byts', 'Pkt Len Min', 'SYN Flag Cnt', 'Bwd Pkt Len Min', 'FIN Flag Cnt', 'Down/Up Ratio', 'ACK Flag Cnt', 'Idle Mean', 'Fwd Pkt Len Min', 'Subflow Bwd Pkts'], 'Adv sample 898': ['Fwd Pkt Len Max', 'Fwd Pkt Len Std', 'SYN Flag Cnt', 'Fwd Seg Size Avg', 'Pkt Len Min', 'Fwd Pkt Len Mean', 'Bwd Pkt Len Min', 'Flow Byts/s', 'Tot Fwd Pkts', 'Init Fwd Win Byts'], 'Adv sample 899': ['SYN Flag Cnt', 'Bwd Header Len', 'Bwd Pkts/s', 'Tot Bwd Pkts', 'FIN Flag Cnt', 'Fwd Header Len', 'ACK Flag Cnt', 'Fwd IAT Mean', 'Subflow Bwd Pkts', 'Fwd Act Data Pkts'], 'Adv sample 900': ['SYN Flag Cnt', 'Tot Bwd Pkts', 'Bwd Header Len', 'FIN Flag Cnt', 'Tot Fwd Pkts', 'Fwd Seg Size Avg', 'Fwd IAT Mean', 'Fwd IAT Min', 'ACK Flag Cnt', 'Fwd Header Len'], 'Adv sample 901': ['Fwd Pkt Len Std', 'Fwd Pkt Len Max', 'Flow Byts/s', 'Fwd Pkt Len Mean', 'Fwd Seg Size Avg', 'Pkt Len Max', 'Bwd Header Len', 'Pkt Len Mean', 'Bwd IAT Tot', 'Active Std'], 'Adv sample 902': ['Bwd Pkts/s', 'SYN Flag Cnt', 'Subflow Bwd Pkts', 'Tot Bwd Pkts', 'FIN Flag Cnt', 'Bwd Header Len', 'ACK Flag Cnt', 'Fwd Pkt Len Std', 'Fwd Seg Size Avg', 'Fwd Act Data Pkts'], 'Adv sample 903': ['SYN Flag Cnt', 'Fwd Pkt Len Mean', 'Down/Up Ratio', 'Fwd Pkt Len Std', 'Init Fwd Win Byts', 'Flow Pkts/s', 'Fwd Act Data Pkts', 'Pkt Len Min', 'Tot Bwd Pkts', 'Fwd Seg Size Avg'], 'Adv sample 904': ['SYN Flag Cnt', 'Fwd Pkt Len Std', 'Pkt Len Min', 'Bwd Header Len', 'Fwd Pkt Len Max', 'Tot Bwd Pkts', 'Flow Byts/s', 'FIN Flag Cnt', 'Pkt Len Std', 'Init Bwd Win Byts'], 'Adv sample 905': ['Init Fwd Win Byts', 'Fwd Pkt Len Std', 'Flow Byts/s', 'Bwd Header Len', 'Bwd Pkts/s', 'FIN Flag Cnt', 'Bwd Pkt Len Min', 'Pkt Len Std', 'Subflow Bwd Pkts', 'Fwd Pkt Len Min'], 'Adv sample 906': ['Fwd Pkt Len Std', 'SYN Flag Cnt', 'Bwd Pkts/s', 'Pkt Len Mean', 'Pkt Len Max', 'Fwd Pkt Len Mean', 'Pkt Size Avg', 'Fwd Pkt Len Min', 'Down/Up Ratio', 'Init Fwd Win Byts'], 'Adv sample 907': ['SYN Flag Cnt', 'Fwd Pkt Len Max', 'Fwd Pkt Len Std', 'Flow Byts/s', 'FIN Flag Cnt', 'Bwd Header Len', 'Pkt Size Avg', 'Fwd IAT Min', 'Init Bwd Win Byts', 'Pkt Len Min'], 'Adv sample 908': ['SYN Flag Cnt', 'Bwd Header Len', 'Flow Pkts/s', 'Tot Bwd Pkts', 'Fwd Pkt Len Max', 'Fwd Pkt Len Mean', 'FIN Flag Cnt', 'Fwd Act Data Pkts', 'Subflow Bwd Pkts', 'Down/Up Ratio'], 'Adv sample 909': ['Pkt Len Min', 'Init Fwd Win Byts', 'SYN Flag Cnt', 'Bwd Pkt Len Min', 'Down/Up Ratio', 'FIN Flag Cnt', 'ACK Flag Cnt', 'Fwd Pkt Len Min', 'Bwd IAT Tot', 'Bwd PSH Flags'], 'Adv sample 910': ['Fwd Pkt Len Max', 'SYN Flag Cnt', 'Bwd Pkts/s', 'Fwd Pkt Len Std', 'Fwd Seg Size Avg', 'Fwd Pkt Len Mean', 'Pkt Size Avg', 'Fwd Pkt Len Min', 'Pkt Len Mean', 'PSH Flag Cnt'], 'Adv sample 911': ['Bwd Header Len', 'SYN Flag Cnt', 'Flow Pkts/s', 'Bwd Pkts/s', 'Init Fwd Win Byts', 'FIN Flag Cnt', 'Down/Up Ratio', 'Tot Bwd Pkts', 'Bwd Pkt Len Min', 'Fwd Pkt Len Max'], 'Adv sample 912': ['SYN Flag Cnt', 'Bwd Header Len', 'Subflow Bwd Pkts', 'FIN Flag Cnt', 'Subflow Fwd Pkts', 'Tot Bwd Pkts', 'ACK Flag Cnt', 'Bwd Pkts/s', 'Fwd Seg Size Avg', 'Fwd IAT Mean'], 'Adv sample 913': ['SYN Flag Cnt', 'Fwd Pkt Len Max', 'Fwd Pkt Len Std', 'Down/Up Ratio', 'Bwd Pkt Len Min', 'Flow Pkts/s', 'Pkt Size Avg', 'Pkt Len Min', 'Init Fwd Win Byts', 'Pkt Len Max'], 'Adv sample 914': ['SYN Flag Cnt', 'Fwd Pkt Len Std', 'Fwd Pkt Len Max', 'Down/Up Ratio', 'Init Fwd Win Byts', 'Pkt Len Min', 'Flow Pkts/s', 'Pkt Len Max', 'Subflow Bwd Pkts', 'Subflow Fwd Pkts'], 'Adv sample 915': ['Init Fwd Win Byts', 'Down/Up Ratio', 'Fwd Pkt Len Min', 'Pkt Len Min', 'FIN Flag Cnt', 'Bwd Pkts/s', 'Fwd Pkt Len Mean', 'Bwd Pkt Len Min', 'Flow Pkts/s', 'Fwd Pkt Len Max'], 'Adv sample 916': ['Fwd Pkt Len Max', 'Fwd Pkt Len Std', 'SYN Flag Cnt', 'Fwd Pkt Len Mean', 'Fwd Seg Size Avg', 'Pkt Size Avg', 'Pkt Len Mean', 'Pkt Len Max', 'Fwd Pkt Len Min', 'Pkt Len Min'], 'Adv sample 917': ['Fwd Pkt Len Std', 'Fwd Pkt Len Max', 'Fwd Pkt Len Mean', 'SYN Flag Cnt', 'Pkt Len Min', 'Pkt Size Avg', 'Tot Bwd Pkts', 'Fwd Seg Size Avg', 'Pkt Len Mean', 'Subflow Fwd Byts'], 'Adv sample 918': ['Init Fwd Win Byts', 'Down/Up Ratio', 'Fwd Pkt Len Max', 'Flow Byts/s', 'FIN Flag Cnt', 'Bwd Pkts/s', 'Flow IAT Std', 'Flow Pkts/s', 'Pkt Len Max', 'Bwd Pkt Len Std'], 'Adv sample 919': ['SYN Flag Cnt', 'Fwd Pkt Len Std', 'Init Fwd Win Byts', 'Fwd Pkt Len Mean', 'Flow Pkts/s', 'Down/Up Ratio', 'Fwd Pkt Len Min', 'Pkt Size Avg', 'Pkt Len Min', 'Subflow Fwd Pkts'], 'Adv sample 920': ['SYN Flag Cnt', 'Fwd Pkt Len Max', 'Down/Up Ratio', 'Fwd Pkt Len Mean', 'Fwd Pkt Len Std', 'Flow Pkts/s', 'Init Fwd Win Byts', 'Bwd Pkt Len Min', 'Pkt Len Min', 'Fwd Pkts/s'], 'Adv sample 921': ['Fwd Pkt Len Std', 'Fwd Pkt Len Max', 'Fwd Pkt Len Mean', 'Fwd Seg Size Avg', 'SYN Flag Cnt', 'Pkt Len Std', 'Pkt Size Avg', 'Tot Fwd Pkts', 'Bwd Pkt Len Min', 'Pkt Len Mean'], 'Adv sample 922': ['Fwd Pkt Len Std', 'SYN Flag Cnt', 'Fwd Pkt Len Mean', 'Fwd Pkt Len Max', 'Fwd Seg Size Avg', 'Pkt Len Min', 'Pkt Size Avg', 'Bwd Header Len', 'Pkt Len Mean', 'Pkt Len Std'], 'Adv sample 923': ['Flow Byts/s', 'Fwd Pkt Len Std', 'Bwd Pkt Len Std', 'Fwd Pkt Len Min', 'FIN Flag Cnt', 'Pkt Len Std', 'ACK Flag Cnt', 'Fwd Pkt Len Mean', 'Pkt Len Max', 'Pkt Size Avg'], 'Adv sample 924': ['Flow Byts/s', 'Pkt Len Std', 'ACK Flag Cnt', 'Fwd IAT Min', 'Init Fwd Win Byts', 'Fwd Seg Size Avg', 'Pkt Len Max', 'Fwd Pkt Len Std', 'FIN Flag Cnt', 'Bwd Pkts/s'], 'Adv sample 925': ['SYN Flag Cnt', 'Tot Bwd Pkts', 'Bwd Header Len', 'Bwd Pkts/s', 'Subflow Bwd Pkts', 'FIN Flag Cnt', 'Fwd Act Data Pkts', 'Fwd Pkt Len Std', 'ACK Flag Cnt', 'Fwd Pkt Len Mean'], 'Adv sample 926': ['Fwd Pkt Len Max', 'Fwd Pkt Len Std', 'SYN Flag Cnt', 'Pkt Len Min', 'Fwd Pkt Len Mean', 'Fwd Seg Size Avg', 'Subflow Fwd Byts', 'Pkt Size Avg', 'Pkt Len Mean', 'Pkt Len Std'], 'Adv sample 927': ['SYN Flag Cnt', 'Flow Pkts/s', 'Down/Up Ratio', 'ACK Flag Cnt', 'FIN Flag Cnt', 'Bwd Pkts/s', 'Bwd Header Len', 'Bwd IAT Std', 'Flow Duration', 'Tot Bwd Pkts'], 'Adv sample 928': ['Fwd IAT Min', 'Flow Byts/s', 'Bwd Header Len', 'Fwd Pkt Len Max', 'ACK Flag Cnt', 'Flow IAT Max', 'Idle Max', 'Pkt Len Min', 'Idle Mean', 'Fwd IAT Tot'], 'Adv sample 929': ['Fwd Pkt Len Mean', 'Fwd Pkt Len Std', 'Fwd Pkt Len Max', 'Down/Up Ratio', 'SYN Flag Cnt', 'Pkt Len Max', 'Pkt Len Std', 'Bwd Pkts/s', 'Fwd Pkt Len Min', 'ACK Flag Cnt'], 'Adv sample 930': ['SYN Flag Cnt', 'Flow Pkts/s', 'Down/Up Ratio', 'ACK Flag Cnt', 'FIN Flag Cnt', 'Bwd Pkts/s', 'Bwd Header Len', 'Tot Bwd Pkts', 'Subflow Bwd Pkts', 'Flow Duration'], 'Adv sample 931': ['Pkt Len Min', 'Init Fwd Win Byts', 'SYN Flag Cnt', 'Bwd Pkt Len Min', 'Down/Up Ratio', 'FIN Flag Cnt', 'ACK Flag Cnt', 'Flow IAT Std', 'Bwd IAT Std', 'Bwd IAT Tot'], 'Adv sample 932': ['Bwd Header Len', 'Idle Min', 'Bwd Pkts/s', 'SYN Flag Cnt', 'Flow Pkts/s', 'Bwd Pkt Len Min', 'Fwd Header Len', 'Subflow Bwd Pkts', 'Init Fwd Win Byts', 'Bwd Pkts/b Avg'], 'Adv sample 933': ['SYN Flag Cnt', 'Bwd Pkts/s', 'Tot Bwd Pkts', 'Bwd Header Len', 'FIN Flag Cnt', 'Subflow Bwd Pkts', 'ACK Flag Cnt', 'Pkt Len Max', 'Tot Fwd Pkts', 'Flow IAT Std'], 'Adv sample 934': ['Init Fwd Win Byts', 'Pkt Len Min', 'SYN Flag Cnt', 'Bwd Pkt Len Min', 'Down/Up Ratio', 'FIN Flag Cnt', 'ACK Flag Cnt', 'Bwd IAT Std', 'Flow IAT Std', 'Flow IAT Mean'], 'Adv sample 935': ['SYN Flag Cnt', 'Fwd Pkt Len Max', 'Fwd Pkt Len Mean', 'Down/Up Ratio', 'Subflow Fwd Byts', 'Flow Pkts/s', 'Fwd Pkt Len Std', 'Fwd Seg Size Avg', 'Init Fwd Win Byts', 'Pkt Len Mean'], 'Adv sample 936': ['Init Fwd Win Byts', 'SYN Flag Cnt', 'Bwd Pkt Len Min', 'Pkt Len Min', 'Down/Up Ratio', 'FIN Flag Cnt', 'ACK Flag Cnt', 'Bwd IAT Std', 'Bwd URG Flags', 'Bwd IAT Max'], 'Adv sample 937': ['Pkt Len Min', 'SYN Flag Cnt', 'Bwd Pkt Len Min', 'Init Fwd Win Byts', 'Down/Up Ratio', 'FIN Flag Cnt', 'ACK Flag Cnt', 'Bwd IAT Tot', 'Bwd Header Len', 'Fwd Pkt Len Min'], 'Adv sample 938': ['Down/Up Ratio', 'Init Fwd Win Byts', 'Flow Byts/s', 'Pkt Len Var', 'Init Bwd Win Byts', 'Fwd Pkt Len Max', 'FIN Flag Cnt', 'Flow Pkts/s', 'Bwd Pkts/s', 'Bwd Header Len'], 'Adv sample 939': ['Down/Up Ratio', 'Init Fwd Win Byts', 'FIN Flag Cnt', 'Flow IAT Max', 'Fwd IAT Max', 'Idle Mean', 'Idle Max', 'Bwd Pkts/s', 'Fwd IAT Min', 'ACK Flag Cnt'], 'Adv sample 940': ['SYN Flag Cnt', 'Init Fwd Win Byts', 'Bwd Pkt Len Min', 'Pkt Len Min', 'Down/Up Ratio', 'FIN Flag Cnt', 'ACK Flag Cnt', 'Flow IAT Std', 'Bwd IAT Std', 'Fwd Pkt Len Min'], 'Adv sample 941': ['SYN Flag Cnt', 'Fwd Pkt Len Std', 'Init Fwd Win Byts', 'ACK Flag Cnt', 'Bwd Pkts/s', 'Fwd Pkt Len Mean', 'Fwd Pkt Len Max', 'Pkt Len Std', 'Flow Byts/s', 'Pkt Len Mean'], 'Adv sample 942': ['Fwd Pkt Len Std', 'Flow Byts/s', 'Fwd Pkt Len Mean', 'Pkt Len Std', 'Pkt Len Var', 'Pkt Len Max', 'Init Fwd Win Byts', 'Fwd Pkt Len Max', 'Fwd Pkt Len Min', 'Down/Up Ratio'], 'Adv sample 943': ['SYN Flag Cnt', 'Down/Up Ratio', 'Flow Pkts/s', 'FIN Flag Cnt', 'Bwd Pkts/s', 'Bwd IAT Std', 'ACK Flag Cnt', 'Flow Duration', 'Bwd Header Len', 'Flow IAT Std'], 'Adv sample 944': ['SYN Flag Cnt', 'Down/Up Ratio', 'Flow Pkts/s', 'ACK Flag Cnt', 'FIN Flag Cnt', 'Bwd Pkts/s', 'Bwd Header Len', 'Flow Duration', 'Subflow Bwd Pkts', 'Bwd IAT Std'], 'Adv sample 945': ['Fwd Pkt Len Max', 'Fwd Pkt Len Std', 'Fwd Pkt Len Mean', 'Pkt Len Std', 'SYN Flag Cnt', 'Fwd Seg Size Avg', 'Pkt Size Avg', 'Flow Byts/s', 'Init Fwd Win Byts', 'Tot Fwd Pkts'], 'Adv sample 946': ['SYN Flag Cnt', 'Flow Pkts/s', 'Bwd Pkts/s', 'Down/Up Ratio', 'Fwd IAT Mean', 'FIN Flag Cnt', 'Fwd IAT Min', 'Init Fwd Win Byts', 'Flow Duration', 'Fwd IAT Max'], 'Adv sample 947': ['Init Fwd Win Byts', 'Pkt Len Min', 'SYN Flag Cnt', 'Bwd Pkt Len Min', 'Down/Up Ratio', 'FIN Flag Cnt', 'ACK Flag Cnt', 'Fwd Pkt Len Min', 'Fwd Act Data Pkts', 'Flow IAT Mean'], 'Adv sample 948': ['SYN Flag Cnt', 'Pkt Len Min', 'Fwd Pkt Len Std', 'Fwd Pkt Len Mean', 'Flow Byts/s', 'Fwd Pkt Len Max', 'Bwd Header Len', 'FIN Flag Cnt', 'Bwd Pkt Len Min', 'Fwd Seg Size Avg'], 'Adv sample 949': ['Fwd Pkt Len Std', 'Fwd Pkt Len Max', 'SYN Flag Cnt', 'Pkt Len Min', 'Fwd Seg Size Avg', 'Fwd Pkt Len Mean', 'Fwd Pkt Len Min', 'Subflow Bwd Pkts', 'Flow Byts/s', 'Fwd IAT Max'], 'Adv sample 950': ['Pkt Len Min', 'Fwd Pkt Len Max', 'Fwd IAT Min', 'Fwd Pkt Len Mean', 'Flow Byts/s', 'ACK Flag Cnt', 'Fwd Seg Size Avg', 'Pkt Len Std', 'Fwd Pkt Len Std', 'Tot Fwd Pkts'], 'Adv sample 951': ['Fwd Pkt Len Std', 'Fwd Pkt Len Max', 'Fwd Seg Size Avg', 'SYN Flag Cnt', 'Fwd Pkt Len Mean', 'Flow Byts/s', 'Pkt Len Mean', 'Pkt Len Std', 'Pkt Size Avg', 'Fwd Pkt Len Min'], 'Adv sample 952': ['SYN Flag Cnt', 'Bwd Pkts/s', 'Tot Bwd Pkts', 'Subflow Bwd Pkts', 'Bwd Header Len', 'ACK Flag Cnt', 'Subflow Fwd Pkts', 'FIN Flag Cnt', 'Fwd IAT Std', 'Bwd Pkt Len Std'], 'Adv sample 953': ['Down/Up Ratio', 'Idle Min', 'Flow IAT Max', 'Tot Bwd Pkts', 'Fwd IAT Max', 'Flow IAT Std', 'Bwd Pkts/s', 'FIN Flag Cnt', 'Fwd Pkt Len Max', 'Flow IAT Min'], 'Adv sample 954': ['SYN Flag Cnt', 'Bwd Pkts/s', 'Bwd Header Len', 'Subflow Bwd Pkts', 'ACK Flag Cnt', 'FIN Flag Cnt', 'Fwd Header Len', 'Tot Bwd Pkts', 'Bwd IAT Std', 'Subflow Fwd Pkts'], 'Adv sample 955': ['Pkt Len Max', 'Fwd Pkt Len Std', 'Pkt Len Std', 'Fwd IAT Min', 'Fwd Pkt Len Max', 'Fwd Pkt Len Mean', 'Fwd IAT Tot', 'Active Std', 'Fwd IAT Std', 'Idle Mean'], 'Adv sample 956': ['Bwd Header Len', 'Flow Pkts/s', 'Bwd Pkts/s', 'FIN Flag Cnt', 'Init Fwd Win Byts', 'Flow IAT Max', 'Subflow Bwd Pkts', 'Fwd Seg Size Avg', 'Down/Up Ratio', 'Pkt Len Std'], 'Adv sample 957': ['Bwd Header Len', 'Init Fwd Win Byts', 'Flow Byts/s', 'Fwd Pkt Len Std', 'Pkt Len Std', 'Down/Up Ratio', 'FIN Flag Cnt', 'Bwd Pkts/s', 'Flow Duration', 'Active Std'], 'Adv sample 958': ['Fwd Pkt Len Std', 'Bwd Pkts/s', 'Pkt Len Mean', 'Fwd Pkt Len Max', 'SYN Flag Cnt', 'Down/Up Ratio', 'Fwd Pkt Len Mean', 'Fwd Pkt Len Min', 'Fwd Seg Size Avg', 'Flow Byts/s'], 'Adv sample 959': ['Pkt Len Min', 'SYN Flag Cnt', 'Bwd Pkt Len Min', 'Init Fwd Win Byts', 'Down/Up Ratio', 'FIN Flag Cnt', 'ACK Flag Cnt', 'Flow IAT Std', 'Flow IAT Max', 'Idle Max'], 'Adv sample 960': ['SYN Flag Cnt', 'Bwd Pkts/s', 'Flow Pkts/s', 'FIN Flag Cnt', 'Tot Bwd Pkts', 'Subflow Bwd Pkts', 'Bwd IAT Std', 'Fwd Act Data Pkts', 'Fwd IAT Mean', 'Idle Max'], 'Adv sample 961': ['SYN Flag Cnt', 'Bwd Header Len', 'Fwd Pkt Len Max', 'Bwd Pkt Len Min', 'Flow Byts/s', 'Fwd Pkt Len Mean', 'Init Bwd Win Byts', 'FIN Flag Cnt', 'Pkt Len Var', 'Tot Bwd Pkts'], 'Adv sample 962': ['Fwd Pkt Len Std', 'Fwd Pkt Len Mean', 'Fwd Pkt Len Max', 'Fwd Seg Size Avg', 'Init Fwd Win Byts', 'Pkt Len Std', 'Bwd PSH Flags', 'TotLen Fwd Pkts', 'Pkt Size Avg', 'Pkt Len Max'], 'Adv sample 963': ['Fwd Pkt Len Std', 'Fwd Pkt Len Max', 'Fwd Pkt Len Mean', 'Fwd Seg Size Avg', 'Pkt Len Min', 'Pkt Len Std', 'Bwd Header Len', 'Bwd IAT Tot', 'Flow Byts/s', 'Pkt Len Max'], 'Adv sample 964': ['SYN Flag Cnt', 'Bwd Pkts/s', 'Bwd Header Len', 'Tot Bwd Pkts', 'Fwd Seg Size Avg', 'FIN Flag Cnt', 'Subflow Bwd Pkts', 'ACK Flag Cnt', 'Fwd Pkt Len Mean', 'Fwd Pkt Len Max'], 'Adv sample 965': ['SYN Flag Cnt', 'Tot Bwd Pkts', 'Bwd Header Len', 'Fwd Pkt Len Max', 'FIN Flag Cnt', 'Subflow Bwd Pkts', 'Fwd Pkt Len Std', 'Fwd Pkt Len Mean', 'Tot Fwd Pkts', 'Fwd IAT Mean'], 'Adv sample 966': ['Fwd Pkt Len Max', 'Fwd Pkt Len Std', 'Flow Byts/s', 'Fwd Pkt Len Mean', 'Pkt Len Min', 'Fwd Seg Size Avg', 'Bwd Header Len', 'Fwd Pkt Len Min', 'Init Fwd Win Byts', 'Down/Up Ratio'], 'Adv sample 967': ['Bwd Header Len', 'Bwd Pkts/s', 'Init Fwd Win Byts', 'Down/Up Ratio', 'Flow Pkts/s', 'FIN Flag Cnt', 'Tot Bwd Pkts', 'PSH Flag Cnt', 'Pkt Len Min', 'Subflow Bwd Pkts'], 'Adv sample 968': ['SYN Flag Cnt', 'Init Bwd Win Byts', 'Fwd Pkt Len Max', 'Pkt Len Min', 'Fwd Pkt Len Std', 'Fwd Seg Size Avg', 'Pkt Len Var', 'Pkt Size Avg', 'Subflow Bwd Pkts', 'Fwd Pkt Len Mean'], 'Adv sample 969': ['Flow Byts/s', 'Pkt Len Max', 'Fwd Pkt Len Std', 'Fwd Pkt Len Mean', 'Pkt Len Std', 'Fwd Seg Size Avg', 'FIN Flag Cnt', 'Pkt Len Mean', 'Fwd IAT Min', 'Bwd Pkts/s'], 'Adv sample 970': ['Fwd Pkt Len Max', 'Fwd Pkt Len Std', 'Fwd Seg Size Avg', 'Bwd Header Len', 'Flow Byts/s', 'Pkt Len Std', 'Bwd IAT Tot', 'Pkt Len Mean', 'SYN Flag Cnt', 'Pkt Len Max'], 'Adv sample 971': ['Init Fwd Win Byts', 'Bwd Pkt Len Min', 'Down/Up Ratio', 'Fwd Pkt Len Min', 'Fwd Pkt Len Std', 'Tot Bwd Pkts', 'FIN Flag Cnt', 'Flow Pkts/s', 'Fwd Pkt Len Mean', 'Pkt Len Min'], 'Adv sample 972': ['Pkt Len Min', 'Init Fwd Win Byts', 'SYN Flag Cnt', 'Bwd Pkt Len Min', 'Down/Up Ratio', 'FIN Flag Cnt', 'ACK Flag Cnt', 'Idle Mean', 'Bwd IAT Std', 'Flow IAT Std'], 'Adv sample 973': ['Init Fwd Win Byts', 'SYN Flag Cnt', 'Bwd Pkt Len Min', 'Pkt Len Min', 'Down/Up Ratio', 'FIN Flag Cnt', 'ACK Flag Cnt', 'Fwd Pkt Len Min', 'Bwd IAT Tot', 'Bwd Blk Rate Avg'], 'Adv sample 974': ['Bwd Header Len', 'Flow Byts/s', 'Init Fwd Win Byts', 'Bwd Pkts/s', 'Down/Up Ratio', 'Fwd Pkt Len Max', 'ACK Flag Cnt', 'Flow Pkts/s', 'Subflow Bwd Pkts', 'Idle Min'], 'Adv sample 975': ['SYN Flag Cnt', 'Bwd Header Len', 'Flow Pkts/s', 'FIN Flag Cnt', 'Subflow Bwd Pkts', 'Tot Bwd Pkts', 'ACK Flag Cnt', 'Fwd Header Len', 'Bwd IAT Std', 'Init Fwd Win Byts'], 'Adv sample 976': ['Fwd Pkt Len Max', 'Flow Byts/s', 'Bwd Header Len', 'Fwd Pkt Len Std', 'Pkt Len Std', 'Fwd Pkt Len Mean', 'Fwd IAT Min', 'Tot Bwd Pkts', 'Fwd IAT Tot', 'Fwd Seg Size Avg'], 'Adv sample 977': ['SYN Flag Cnt', 'Fwd Pkt Len Std', 'Init Fwd Win Byts', 'Fwd Pkt Len Max', 'Bwd Pkts/s', 'ACK Flag Cnt', 'Fwd Pkt Len Min', 'Pkt Len Mean', 'Pkt Len Min', 'Pkt Len Std'], 'Adv sample 978': ['Flow Byts/s', 'Fwd Pkt Len Std', 'Pkt Len Mean', 'Pkt Len Max', 'Fwd Pkt Len Max', 'Bwd Pkt Len Max', 'FIN Flag Cnt', 'Fwd Pkt Len Mean', 'Fwd Seg Size Avg', 'Bwd Pkt Len Std'], 'Adv sample 979': ['Init Fwd Win Byts', 'Pkt Len Min', 'Down/Up Ratio', 'Bwd Pkt Len Min', 'Bwd Header Len', 'Bwd Pkts/s', 'FIN Flag Cnt', 'Fwd Pkt Len Min', 'Flow Pkts/s', 'Subflow Bwd Pkts'], 'Adv sample 980': ['SYN Flag Cnt', 'Bwd Header Len', 'Tot Bwd Pkts', 'FIN Flag Cnt', 'Fwd Pkt Len Std', 'ACK Flag Cnt', 'Subflow Bwd Pkts', 'Flow Pkts/s', 'Fwd IAT Mean', 'Idle Mean'], 'Adv sample 981': ['SYN Flag Cnt', 'Fwd Pkt Len Std', 'Fwd Pkt Len Max', 'Down/Up Ratio', 'Flow Pkts/s', 'Init Fwd Win Byts', 'Pkt Len Min', 'Fwd Pkt Len Mean', 'Fwd Header Len', 'Pkt Len Mean'], 'Adv sample 982': ['Pkt Len Min', 'SYN Flag Cnt', 'Bwd Pkt Len Min', 'Init Fwd Win Byts', 'FIN Flag Cnt', 'Down/Up Ratio', 'ACK Flag Cnt', 'Fwd Pkt Len Min', 'Fwd Act Data Pkts', 'PSH Flag Cnt'], 'Adv sample 983': ['Pkt Len Min', 'Init Fwd Win Byts', 'Bwd Pkt Len Min', 'SYN Flag Cnt', 'FIN Flag Cnt', 'Down/Up Ratio', 'ACK Flag Cnt', 'Bwd IAT Std', 'Flow IAT Std', 'Flow Duration'], 'Adv sample 984': ['Fwd Pkt Len Std', 'Fwd Pkt Len Max', 'Fwd Pkt Len Mean', 'Fwd Seg Size Avg', 'Pkt Len Std', 'Flow Byts/s', 'Bwd IAT Tot', 'Bwd Pkts/s', 'Init Fwd Win Byts', 'Fwd Pkt Len Min'], 'Adv sample 985': ['Fwd Pkt Len Max', 'Fwd Pkt Len Std', 'Fwd Pkt Len Mean', 'SYN Flag Cnt', 'Pkt Len Min', 'Pkt Len Max', 'Pkt Len Mean', 'Flow Byts/s', 'Subflow Fwd Pkts', 'Tot Bwd Pkts'], 'Adv sample 986': ['Fwd Pkt Len Max', 'SYN Flag Cnt', 'Fwd Pkt Len Mean', 'Pkt Len Max', 'Fwd Pkt Len Std', 'Pkt Len Mean', 'Down/Up Ratio', 'ACK Flag Cnt', 'Fwd Seg Size Avg', 'Pkt Len Std'], 'Adv sample 987': ['Init Fwd Win Byts', 'Pkt Len Min', 'Down/Up Ratio', 'FIN Flag Cnt', 'Bwd Pkt Len Min', 'Fwd Pkt Len Min', 'Bwd Pkts/s', 'Bwd Header Len', 'Flow Pkts/s', 'Fwd Pkt Len Std'], 'Adv sample 988': ['Fwd Pkt Len Max', 'Fwd Pkt Len Std', 'Flow Byts/s', 'Flow Pkts/s', 'Pkt Len Min', 'Fwd IAT Min', 'Pkt Len Std', 'Fwd Seg Size Avg', 'Fwd IAT Tot', 'Idle Mean'], 'Adv sample 989': ['Init Fwd Win Byts', 'Flow Byts/s', 'Down/Up Ratio', 'Fwd Pkt Len Std', 'Fwd Pkt Len Max', 'Pkt Len Std', 'FIN Flag Cnt', 'Bwd Pkts/s', 'Bwd Pkt Len Min', 'Flow IAT Std'], 'Adv sample 990': ['SYN Flag Cnt', 'Fwd Pkt Len Max', 'Fwd Pkt Len Std', 'Pkt Len Min', 'Flow Byts/s', 'Down/Up Ratio', 'Fwd Seg Size Avg', 'Pkt Len Std', 'Subflow Fwd Pkts', 'Bwd Pkt Len Min'], 'Adv sample 991': ['SYN Flag Cnt', 'Init Fwd Win Byts', 'Pkt Len Min', 'Bwd Pkt Len Min', 'Down/Up Ratio', 'FIN Flag Cnt', 'ACK Flag Cnt', 'Flow Duration', 'Fwd Pkt Len Min', 'URG Flag Cnt'], 'Adv sample 992': ['Fwd Pkt Len Std', 'Flow Byts/s', 'Bwd Header Len', 'Fwd Pkt Len Max', 'Fwd IAT Max', 'Fwd IAT Std', 'Flow IAT Max', 'Pkt Len Std', 'Flow Pkts/s', 'Tot Bwd Pkts'], 'Adv sample 993': ['SYN Flag Cnt', 'Bwd Header Len', 'Subflow Bwd Pkts', 'Tot Bwd Pkts', 'FIN Flag Cnt', 'Bwd Pkts/s', 'ACK Flag Cnt', 'Fwd Pkt Len Std', 'Fwd Seg Size Avg', 'Fwd IAT Mean'], 'Adv sample 994': ['SYN Flag Cnt', 'Fwd Pkt Len Max', 'Fwd Pkt Len Std', 'Pkt Len Min', 'Down/Up Ratio', 'Fwd Pkt Len Mean', 'Bwd Header Len', 'Fwd Seg Size Avg', 'Bwd Pkt Len Min', 'FIN Flag Cnt'], 'Adv sample 995': ['SYN Flag Cnt', 'Init Bwd Win Byts', 'Fwd Pkt Len Max', 'Fwd Pkt Len Std', 'Pkt Len Var', 'Pkt Len Min', 'Bwd Header Len', 'FIN Flag Cnt', 'Fwd Act Data Pkts', 'Fwd Seg Size Avg'], 'Adv sample 996': ['Fwd Pkt Len Std', 'Fwd Pkt Len Max', 'Flow Byts/s', 'Fwd Seg Size Avg', 'Fwd Pkt Len Mean', 'Bwd Header Len', 'Pkt Len Std', 'Pkt Size Avg', 'Down/Up Ratio', 'Init Fwd Win Byts'], 'Adv sample 997': ['Down/Up Ratio', 'Bwd Pkts/s', 'Flow IAT Max', 'Flow Byts/s', 'Tot Bwd Pkts', 'Idle Mean', 'Subflow Bwd Pkts', 'ACK Flag Cnt', 'Fwd IAT Std', 'Pkt Len Max'], 'Adv sample 998': ['Pkt Len Min', 'Down/Up Ratio', 'SYN Flag Cnt', 'Bwd Pkt Len Min', 'FIN Flag Cnt', 'Flow Pkts/s', 'Bwd Pkts/s', 'Fwd Pkt Len Min', 'Active Max', 'Idle Mean'], 'Adv sample 999': ['Down/Up Ratio', 'Init Fwd Win Byts', 'Pkt Len Min', 'FIN Flag Cnt', 'Bwd Pkt Len Min', 'Fwd Pkt Len Mean', 'Tot Bwd Pkts', 'Flow Pkts/s', 'Bwd Header Len', 'Fwd Pkt Len Min']}\n"
          ]
        }
      ]
    },
    {
      "cell_type": "code",
      "source": [
        "len(shap_values[0])"
      ],
      "metadata": {
        "colab": {
          "base_uri": "https://localhost:8080/"
        },
        "id": "YdyTABeHYa2k",
        "outputId": "4f39cdfa-e109-4ee5-afdb-bd8e52a1778f"
      },
      "execution_count": 71,
      "outputs": [
        {
          "output_type": "execute_result",
          "data": {
            "text/plain": [
              "1000"
            ]
          },
          "metadata": {},
          "execution_count": 71
        }
      ]
    },
    {
      "cell_type": "code",
      "source": [
        "len(data_dict)"
      ],
      "metadata": {
        "colab": {
          "base_uri": "https://localhost:8080/"
        },
        "id": "rUB23r63Tjug",
        "outputId": "0a94ef9c-f5ea-4622-d1fd-cce51ee1c04b"
      },
      "execution_count": 74,
      "outputs": [
        {
          "output_type": "execute_result",
          "data": {
            "text/plain": [
              "1000"
            ]
          },
          "metadata": {},
          "execution_count": 74
        }
      ]
    },
    {
      "cell_type": "markdown",
      "source": [
        "# Extract local feature for each adv sample (77203 in total)"
      ],
      "metadata": {
        "id": "JwBapttUM7Du"
      }
    },
    {
      "cell_type": "code",
      "source": [
        "for idx in range(0, 77203):\n",
        "  # Create a DataFrame with the SHAP values and feature names\n",
        "  df_shap_values = pd.DataFrame({'SHAP Values': exp[idx].values}, index=feature_list)\n",
        "  df_shap_values.sort_values(by=['SHAP Values'], ascending=False, inplace=True)\n",
        "  df_shap_values.to_csv('/content/drive/MyDrive/DACN_XAI_Adv_defense/InSDN/hsj_Result/SHAP_ADVSamples_' + str(idx) + '.csv')\n",
        "  print('Extracted local importance feature of the ' + str(idx) + 'adv sample.')"
      ],
      "metadata": {
        "id": "a8Xe-PM9Ikwa"
      },
      "execution_count": null,
      "outputs": []
    },
    {
      "cell_type": "markdown",
      "source": [
        "# Detection phase"
      ],
      "metadata": {
        "id": "E8tWQQDtNIJk"
      }
    },
    {
      "cell_type": "code",
      "source": [
        "import os\n",
        "import pandas as pd"
      ],
      "metadata": {
        "id": "mmslrdn7z7Zf"
      },
      "execution_count": 67,
      "outputs": []
    },
    {
      "cell_type": "code",
      "source": [
        "whitelist_df = pd.read_csv('/content/drive/MyDrive/DACN_XAI_Adv_defense/InSDN/MLP_top24_InSDN.csv')\n",
        "whitelist_df.head(24)"
      ],
      "metadata": {
        "colab": {
          "base_uri": "https://localhost:8080/",
          "height": 802
        },
        "id": "aQJa-f1GPxvz",
        "outputId": "160179ae-ef78-4430-8ddd-8427c92013b0"
      },
      "execution_count": 76,
      "outputs": [
        {
          "output_type": "execute_result",
          "data": {
            "text/plain": [
              "              Feature  Frequency\n",
              "0        FIN Flag Cnt       1223\n",
              "1        SYN Flag Cnt       1196\n",
              "2   Init Fwd Win Byts        986\n",
              "3         Flow Pkts/s        884\n",
              "4        ACK Flag Cnt        808\n",
              "5        Pkt Size Avg        767\n",
              "6          Bwd Pkts/s        752\n",
              "7       Down/Up Ratio        732\n",
              "8        Pkt Len Mean        667\n",
              "9         Pkt Len Min        588\n",
              "10    Bwd Pkt Len Min        584\n",
              "11        Pkt Len Max        582\n",
              "12  Init Bwd Win Byts        473\n",
              "13    Fwd Pkt Len Max        283\n",
              "14        Fwd IAT Tot        275\n",
              "15       Flow IAT Max        260\n",
              "16       PSH Flag Cnt        238\n",
              "17    Fwd Pkt Len Std        197\n",
              "18   Fwd Pkt Len Mean        197\n",
              "19        Pkt Len Std        193\n",
              "20        Bwd IAT Tot        188\n",
              "21           Idle Max        188\n",
              "22   Fwd Seg Size Avg        182\n",
              "23        Fwd IAT Std        180"
            ],
            "text/html": [
              "\n",
              "  <div id=\"df-4e35a7d1-37f5-40a1-9fc9-2075b75db8f0\">\n",
              "    <div class=\"colab-df-container\">\n",
              "      <div>\n",
              "<style scoped>\n",
              "    .dataframe tbody tr th:only-of-type {\n",
              "        vertical-align: middle;\n",
              "    }\n",
              "\n",
              "    .dataframe tbody tr th {\n",
              "        vertical-align: top;\n",
              "    }\n",
              "\n",
              "    .dataframe thead th {\n",
              "        text-align: right;\n",
              "    }\n",
              "</style>\n",
              "<table border=\"1\" class=\"dataframe\">\n",
              "  <thead>\n",
              "    <tr style=\"text-align: right;\">\n",
              "      <th></th>\n",
              "      <th>Feature</th>\n",
              "      <th>Frequency</th>\n",
              "    </tr>\n",
              "  </thead>\n",
              "  <tbody>\n",
              "    <tr>\n",
              "      <th>0</th>\n",
              "      <td>FIN Flag Cnt</td>\n",
              "      <td>1223</td>\n",
              "    </tr>\n",
              "    <tr>\n",
              "      <th>1</th>\n",
              "      <td>SYN Flag Cnt</td>\n",
              "      <td>1196</td>\n",
              "    </tr>\n",
              "    <tr>\n",
              "      <th>2</th>\n",
              "      <td>Init Fwd Win Byts</td>\n",
              "      <td>986</td>\n",
              "    </tr>\n",
              "    <tr>\n",
              "      <th>3</th>\n",
              "      <td>Flow Pkts/s</td>\n",
              "      <td>884</td>\n",
              "    </tr>\n",
              "    <tr>\n",
              "      <th>4</th>\n",
              "      <td>ACK Flag Cnt</td>\n",
              "      <td>808</td>\n",
              "    </tr>\n",
              "    <tr>\n",
              "      <th>5</th>\n",
              "      <td>Pkt Size Avg</td>\n",
              "      <td>767</td>\n",
              "    </tr>\n",
              "    <tr>\n",
              "      <th>6</th>\n",
              "      <td>Bwd Pkts/s</td>\n",
              "      <td>752</td>\n",
              "    </tr>\n",
              "    <tr>\n",
              "      <th>7</th>\n",
              "      <td>Down/Up Ratio</td>\n",
              "      <td>732</td>\n",
              "    </tr>\n",
              "    <tr>\n",
              "      <th>8</th>\n",
              "      <td>Pkt Len Mean</td>\n",
              "      <td>667</td>\n",
              "    </tr>\n",
              "    <tr>\n",
              "      <th>9</th>\n",
              "      <td>Pkt Len Min</td>\n",
              "      <td>588</td>\n",
              "    </tr>\n",
              "    <tr>\n",
              "      <th>10</th>\n",
              "      <td>Bwd Pkt Len Min</td>\n",
              "      <td>584</td>\n",
              "    </tr>\n",
              "    <tr>\n",
              "      <th>11</th>\n",
              "      <td>Pkt Len Max</td>\n",
              "      <td>582</td>\n",
              "    </tr>\n",
              "    <tr>\n",
              "      <th>12</th>\n",
              "      <td>Init Bwd Win Byts</td>\n",
              "      <td>473</td>\n",
              "    </tr>\n",
              "    <tr>\n",
              "      <th>13</th>\n",
              "      <td>Fwd Pkt Len Max</td>\n",
              "      <td>283</td>\n",
              "    </tr>\n",
              "    <tr>\n",
              "      <th>14</th>\n",
              "      <td>Fwd IAT Tot</td>\n",
              "      <td>275</td>\n",
              "    </tr>\n",
              "    <tr>\n",
              "      <th>15</th>\n",
              "      <td>Flow IAT Max</td>\n",
              "      <td>260</td>\n",
              "    </tr>\n",
              "    <tr>\n",
              "      <th>16</th>\n",
              "      <td>PSH Flag Cnt</td>\n",
              "      <td>238</td>\n",
              "    </tr>\n",
              "    <tr>\n",
              "      <th>17</th>\n",
              "      <td>Fwd Pkt Len Std</td>\n",
              "      <td>197</td>\n",
              "    </tr>\n",
              "    <tr>\n",
              "      <th>18</th>\n",
              "      <td>Fwd Pkt Len Mean</td>\n",
              "      <td>197</td>\n",
              "    </tr>\n",
              "    <tr>\n",
              "      <th>19</th>\n",
              "      <td>Pkt Len Std</td>\n",
              "      <td>193</td>\n",
              "    </tr>\n",
              "    <tr>\n",
              "      <th>20</th>\n",
              "      <td>Bwd IAT Tot</td>\n",
              "      <td>188</td>\n",
              "    </tr>\n",
              "    <tr>\n",
              "      <th>21</th>\n",
              "      <td>Idle Max</td>\n",
              "      <td>188</td>\n",
              "    </tr>\n",
              "    <tr>\n",
              "      <th>22</th>\n",
              "      <td>Fwd Seg Size Avg</td>\n",
              "      <td>182</td>\n",
              "    </tr>\n",
              "    <tr>\n",
              "      <th>23</th>\n",
              "      <td>Fwd IAT Std</td>\n",
              "      <td>180</td>\n",
              "    </tr>\n",
              "  </tbody>\n",
              "</table>\n",
              "</div>\n",
              "      <button class=\"colab-df-convert\" onclick=\"convertToInteractive('df-4e35a7d1-37f5-40a1-9fc9-2075b75db8f0')\"\n",
              "              title=\"Convert this dataframe to an interactive table.\"\n",
              "              style=\"display:none;\">\n",
              "        \n",
              "  <svg xmlns=\"http://www.w3.org/2000/svg\" height=\"24px\"viewBox=\"0 0 24 24\"\n",
              "       width=\"24px\">\n",
              "    <path d=\"M0 0h24v24H0V0z\" fill=\"none\"/>\n",
              "    <path d=\"M18.56 5.44l.94 2.06.94-2.06 2.06-.94-2.06-.94-.94-2.06-.94 2.06-2.06.94zm-11 1L8.5 8.5l.94-2.06 2.06-.94-2.06-.94L8.5 2.5l-.94 2.06-2.06.94zm10 10l.94 2.06.94-2.06 2.06-.94-2.06-.94-.94-2.06-.94 2.06-2.06.94z\"/><path d=\"M17.41 7.96l-1.37-1.37c-.4-.4-.92-.59-1.43-.59-.52 0-1.04.2-1.43.59L10.3 9.45l-7.72 7.72c-.78.78-.78 2.05 0 2.83L4 21.41c.39.39.9.59 1.41.59.51 0 1.02-.2 1.41-.59l7.78-7.78 2.81-2.81c.8-.78.8-2.07 0-2.86zM5.41 20L4 18.59l7.72-7.72 1.47 1.35L5.41 20z\"/>\n",
              "  </svg>\n",
              "      </button>\n",
              "      \n",
              "  <style>\n",
              "    .colab-df-container {\n",
              "      display:flex;\n",
              "      flex-wrap:wrap;\n",
              "      gap: 12px;\n",
              "    }\n",
              "\n",
              "    .colab-df-convert {\n",
              "      background-color: #E8F0FE;\n",
              "      border: none;\n",
              "      border-radius: 50%;\n",
              "      cursor: pointer;\n",
              "      display: none;\n",
              "      fill: #1967D2;\n",
              "      height: 32px;\n",
              "      padding: 0 0 0 0;\n",
              "      width: 32px;\n",
              "    }\n",
              "\n",
              "    .colab-df-convert:hover {\n",
              "      background-color: #E2EBFA;\n",
              "      box-shadow: 0px 1px 2px rgba(60, 64, 67, 0.3), 0px 1px 3px 1px rgba(60, 64, 67, 0.15);\n",
              "      fill: #174EA6;\n",
              "    }\n",
              "\n",
              "    [theme=dark] .colab-df-convert {\n",
              "      background-color: #3B4455;\n",
              "      fill: #D2E3FC;\n",
              "    }\n",
              "\n",
              "    [theme=dark] .colab-df-convert:hover {\n",
              "      background-color: #434B5C;\n",
              "      box-shadow: 0px 1px 3px 1px rgba(0, 0, 0, 0.15);\n",
              "      filter: drop-shadow(0px 1px 2px rgba(0, 0, 0, 0.3));\n",
              "      fill: #FFFFFF;\n",
              "    }\n",
              "  </style>\n",
              "\n",
              "      <script>\n",
              "        const buttonEl =\n",
              "          document.querySelector('#df-4e35a7d1-37f5-40a1-9fc9-2075b75db8f0 button.colab-df-convert');\n",
              "        buttonEl.style.display =\n",
              "          google.colab.kernel.accessAllowed ? 'block' : 'none';\n",
              "\n",
              "        async function convertToInteractive(key) {\n",
              "          const element = document.querySelector('#df-4e35a7d1-37f5-40a1-9fc9-2075b75db8f0');\n",
              "          const dataTable =\n",
              "            await google.colab.kernel.invokeFunction('convertToInteractive',\n",
              "                                                     [key], {});\n",
              "          if (!dataTable) return;\n",
              "\n",
              "          const docLinkHtml = 'Like what you see? Visit the ' +\n",
              "            '<a target=\"_blank\" href=https://colab.research.google.com/notebooks/data_table.ipynb>data table notebook</a>'\n",
              "            + ' to learn more about interactive tables.';\n",
              "          element.innerHTML = '';\n",
              "          dataTable['output_type'] = 'display_data';\n",
              "          await google.colab.output.renderOutput(dataTable, element);\n",
              "          const docLink = document.createElement('div');\n",
              "          docLink.innerHTML = docLinkHtml;\n",
              "          element.appendChild(docLink);\n",
              "        }\n",
              "      </script>\n",
              "    </div>\n",
              "  </div>\n",
              "  "
            ]
          },
          "metadata": {},
          "execution_count": 76
        }
      ]
    },
    {
      "cell_type": "markdown",
      "source": [
        "## Detection rate (top 24) = 969/1000"
      ],
      "metadata": {
        "id": "PkqSAZakWXM8"
      }
    },
    {
      "cell_type": "code",
      "source": [
        "whitelist = whitelist_df.iloc[:, 0][:24].tolist()\n",
        "print(whitelist)"
      ],
      "metadata": {
        "colab": {
          "base_uri": "https://localhost:8080/"
        },
        "id": "hiA70yr9QStE",
        "outputId": "dbf721b0-c544-4359-99da-e4f0da58f411"
      },
      "execution_count": 77,
      "outputs": [
        {
          "output_type": "stream",
          "name": "stdout",
          "text": [
            "['FIN Flag Cnt', 'SYN Flag Cnt', 'Init Fwd Win Byts', 'Flow Pkts/s', 'ACK Flag Cnt', 'Pkt Size Avg', 'Bwd Pkts/s', 'Down/Up Ratio', 'Pkt Len Mean', 'Pkt Len Min', 'Bwd Pkt Len Min', 'Pkt Len Max', 'Init Bwd Win Byts', 'Fwd Pkt Len Max', 'Fwd IAT Tot', 'Flow IAT Max', 'PSH Flag Cnt', 'Fwd Pkt Len Std', 'Fwd Pkt Len Mean', 'Pkt Len Std', 'Bwd IAT Tot', 'Idle Max', 'Fwd Seg Size Avg', 'Fwd IAT Std']\n"
          ]
        }
      ]
    },
    {
      "cell_type": "code",
      "source": [
        "alert = []\n",
        "\n",
        "# Iterate over each key-value pair in the data_dict\n",
        "for key, value in data_dict.items():\n",
        "    # Check if there are one feature is not in the whitelist\n",
        "    for string in value:\n",
        "      if string not in whitelist:\n",
        "        alert.append(key)\n",
        "        break\n",
        "\n",
        "# Print the alert dictionary\n",
        "print(\"Alert list length:\" + str(len(alert)))"
      ],
      "metadata": {
        "colab": {
          "base_uri": "https://localhost:8080/"
        },
        "id": "GWIJRBYkUwhx",
        "outputId": "c567708f-e361-4f66-fbce-6f9d87fb6265"
      },
      "execution_count": 78,
      "outputs": [
        {
          "output_type": "stream",
          "name": "stdout",
          "text": [
            "Alert list length:969\n"
          ]
        }
      ]
    },
    {
      "cell_type": "markdown",
      "source": [
        "## Detection rate (top 38) = 783/1000"
      ],
      "metadata": {
        "id": "NddVIE7MU9m-"
      }
    },
    {
      "cell_type": "code",
      "source": [
        "whitelist2 = whitelist_df.iloc[:, 0][:38].tolist()\n",
        "print(whitelist2)"
      ],
      "metadata": {
        "colab": {
          "base_uri": "https://localhost:8080/"
        },
        "id": "QTKqfqrEWMLV",
        "outputId": "3c8ad9ec-5495-48ee-9f9d-ac9d2b711b30"
      },
      "execution_count": 79,
      "outputs": [
        {
          "output_type": "stream",
          "name": "stdout",
          "text": [
            "['FIN Flag Cnt', 'SYN Flag Cnt', 'Init Fwd Win Byts', 'Flow Pkts/s', 'ACK Flag Cnt', 'Pkt Size Avg', 'Bwd Pkts/s', 'Down/Up Ratio', 'Pkt Len Mean', 'Pkt Len Min', 'Bwd Pkt Len Min', 'Pkt Len Max', 'Init Bwd Win Byts', 'Fwd Pkt Len Max', 'Fwd IAT Tot', 'Flow IAT Max', 'PSH Flag Cnt', 'Fwd Pkt Len Std', 'Fwd Pkt Len Mean', 'Pkt Len Std', 'Bwd IAT Tot', 'Idle Max', 'Fwd Seg Size Avg', 'Fwd IAT Std', 'Bwd PSH Flags', 'Flow Duration', 'Bwd IAT Std', 'Fwd Pkt Len Min', 'Flow IAT Std', 'Bwd IAT Max', 'Idle Mean', 'Fwd IAT Max', 'URG Flag Cnt', 'Idle Min', 'Flow IAT Mean', 'Fwd IAT Mean', 'Flow Byts/s', 'Bwd Pkt Len Mean']\n"
          ]
        }
      ]
    },
    {
      "cell_type": "code",
      "source": [
        "alert2 = []\n",
        "\n",
        "# Iterate over each key-value pair in the data_dict\n",
        "for key, value in data_dict.items():\n",
        "    # Check if there are one feature is not in the whitelist\n",
        "    for string in value:\n",
        "      if string not in whitelist2:\n",
        "        alert2.append(key)\n",
        "        break\n",
        "\n",
        "# Print the alert dictionary\n",
        "print(\"Alert list length:\" + str(len(alert2)))"
      ],
      "metadata": {
        "colab": {
          "base_uri": "https://localhost:8080/"
        },
        "id": "p_i5J0kxVyCx",
        "outputId": "423e3857-4fb8-4f3c-dcd8-5091c5df39bb"
      },
      "execution_count": 80,
      "outputs": [
        {
          "output_type": "stream",
          "name": "stdout",
          "text": [
            "Alert list length:783\n"
          ]
        }
      ]
    }
  ]
}