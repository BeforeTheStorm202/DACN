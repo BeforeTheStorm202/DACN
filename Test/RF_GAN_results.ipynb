{
  "nbformat": 4,
  "nbformat_minor": 0,
  "metadata": {
    "colab": {
      "provenance": [],
      "mount_file_id": "1_qLgBiKTeOpcGyFqjAcGkC74qTHRegLH",
      "authorship_tag": "ABX9TyPEwhuhSPwroaLA7AbRwcah",
      "include_colab_link": true
    },
    "kernelspec": {
      "name": "python3",
      "display_name": "Python 3"
    },
    "language_info": {
      "name": "python"
    }
  },
  "cells": [
    {
      "cell_type": "markdown",
      "metadata": {
        "id": "view-in-github",
        "colab_type": "text"
      },
      "source": [
        "<a href=\"https://colab.research.google.com/github/BeforeTheStorm202/DACN/blob/main/RF_GAN_results.ipynb\" target=\"_parent\"><img src=\"https://colab.research.google.com/assets/colab-badge.svg\" alt=\"Open In Colab\"/></a>"
      ]
    },
    {
      "cell_type": "markdown",
      "source": [
        "# Import"
      ],
      "metadata": {
        "id": "1vpXpr3y-RJg"
      }
    },
    {
      "cell_type": "code",
      "source": [
        "import seaborn as sns\n",
        "import pandas as pd\n",
        "# Evaluation metrics\n",
        "from sklearn.metrics import accuracy_score, precision_score, recall_score, f1_score\n",
        "from sklearn.metrics import auc, roc_curve, roc_auc_score\n",
        "from sklearn.metrics import precision_recall_curve\n",
        "from sklearn.metrics import balanced_accuracy_score\n",
        "from sklearn.metrics import classification_report\n",
        "from sklearn.metrics import confusion_matrix"
      ],
      "metadata": {
        "id": "kvlrZX4T-dHF"
      },
      "execution_count": 3,
      "outputs": []
    },
    {
      "cell_type": "code",
      "execution_count": 2,
      "metadata": {
        "id": "PyPHcPnl-KO4"
      },
      "outputs": [],
      "source": [
        "def evaluation(y_test, y_pred):\n",
        "  print('Misclassified samples: %d' % (y_test != y_pred).sum())\n",
        "  result = confusion_matrix(y_test, y_pred, normalize='true')\n",
        "  print(\"Confusion Matrix:\")\n",
        "  print(result)\n",
        "  sns.heatmap(result, annot=True)\n",
        "  #result1 = classification_report(y_test, y_pred)\n",
        "  #print(\"Classification Report:\",)\n",
        "  #print (result1)\n",
        "  result2 = 100* accuracy_score(y_test, y_pred)\n",
        "  print(\"Accuracy:\", result2)\n",
        "  result3 = precision_score(y_test, y_pred, average='macro')\n",
        "  print(\"Precision:\",result3)\n",
        "  result4 = recall_score(y_test, y_pred, average='macro')\n",
        "  print(\"Recall:\",result4)\n",
        "  result5 = f1_score(y_test, y_pred, average='macro')\n",
        "  print(\"F1:\",result5)\n",
        "  #result6 = roc_auc_score(y_test, y_pred, multi_class='ovo')\n",
        "  #print(\"AUC:\",result6)"
      ]
    },
    {
      "cell_type": "markdown",
      "source": [
        "# Load model & adv sample dataset(s)"
      ],
      "metadata": {
        "id": "TjzDeOwh-zct"
      }
    },
    {
      "cell_type": "code",
      "source": [
        "import joblib\n",
        "# load\n",
        "model = joblib.load(\"/content/drive/MyDrive/DACN_XAI_Adv_defense/InSDN/random_forest_smote.joblib\")"
      ],
      "metadata": {
        "id": "FIjwnVv--apa"
      },
      "execution_count": 4,
      "outputs": []
    },
    {
      "cell_type": "code",
      "source": [
        "feature_list = ['Flow Duration', 'Tot Fwd Pkts', 'Tot Bwd Pkts', 'TotLen Fwd Pkts',\n",
        "       'TotLen Bwd Pkts', 'Fwd Pkt Len Max', 'Fwd Pkt Len Min',\n",
        "       'Fwd Pkt Len Mean', 'Fwd Pkt Len Std', 'Bwd Pkt Len Max',\n",
        "       'Bwd Pkt Len Min', 'Bwd Pkt Len Mean', 'Bwd Pkt Len Std', 'Flow Byts/s',\n",
        "       'Flow Pkts/s', 'Flow IAT Mean', 'Flow IAT Std', 'Flow IAT Max',\n",
        "       'Flow IAT Min', 'Fwd IAT Tot', 'Fwd IAT Mean', 'Fwd IAT Std',\n",
        "       'Fwd IAT Max', 'Fwd IAT Min', 'Bwd IAT Tot', 'Bwd IAT Mean',\n",
        "       'Bwd IAT Std', 'Bwd IAT Max', 'Bwd IAT Min', 'Fwd PSH Flags',\n",
        "       'Bwd PSH Flags', 'Fwd URG Flags', 'Bwd URG Flags', 'Fwd Header Len',\n",
        "       'Bwd Header Len', 'Fwd Pkts/s', 'Bwd Pkts/s', 'Pkt Len Min',\n",
        "       'Pkt Len Max', 'Pkt Len Mean', 'Pkt Len Std', 'Pkt Len Var',\n",
        "       'FIN Flag Cnt', 'SYN Flag Cnt', 'RST Flag Cnt', 'PSH Flag Cnt',\n",
        "       'ACK Flag Cnt', 'URG Flag Cnt', 'CWE Flag Count', 'ECE Flag Cnt',\n",
        "       'Down/Up Ratio', 'Pkt Size Avg', 'Fwd Seg Size Avg', 'Bwd Seg Size Avg',\n",
        "       'Fwd Byts/b Avg', 'Fwd Pkts/b Avg', 'Fwd Blk Rate Avg',\n",
        "       'Bwd Byts/b Avg', 'Bwd Pkts/b Avg', 'Bwd Blk Rate Avg',\n",
        "       'Subflow Fwd Pkts', 'Subflow Fwd Byts', 'Subflow Bwd Pkts',\n",
        "       'Subflow Bwd Byts', 'Init Fwd Win Byts', 'Init Bwd Win Byts',\n",
        "       'Fwd Act Data Pkts', 'Fwd Seg Size Min', 'Active Mean', 'Active Std',\n",
        "       'Active Max', 'Active Min', 'Idle Mean', 'Idle Std', 'Idle Max',\n",
        "       'Idle Min']"
      ],
      "metadata": {
        "id": "TPAvMdAI-yEl"
      },
      "execution_count": 5,
      "outputs": []
    },
    {
      "cell_type": "markdown",
      "source": [
        "## HSJ"
      ],
      "metadata": {
        "id": "HYT2XhMa-y_9"
      }
    },
    {
      "cell_type": "code",
      "source": [
        "hsj_df = pd.read_csv('/content/drive/MyDrive/DACN_XAI_Adv_defense/Dataset/insdn/adv/hsj/adv_hsj_target.csv')"
      ],
      "metadata": {
        "id": "QGIuUOkZ_PO2"
      },
      "execution_count": 6,
      "outputs": []
    },
    {
      "cell_type": "code",
      "source": [
        "hsj_df.columns = feature_list\n",
        "hsj_df.info()"
      ],
      "metadata": {
        "colab": {
          "base_uri": "https://localhost:8080/"
        },
        "id": "JYzJlI69_SOP",
        "outputId": "5c60e07a-c84f-4d6d-84d8-818b429ba87d"
      },
      "execution_count": 7,
      "outputs": [
        {
          "output_type": "stream",
          "name": "stdout",
          "text": [
            "<class 'pandas.core.frame.DataFrame'>\n",
            "RangeIndex: 77203 entries, 0 to 77202\n",
            "Data columns (total 76 columns):\n",
            " #   Column             Non-Null Count  Dtype  \n",
            "---  ------             --------------  -----  \n",
            " 0   Flow Duration      77203 non-null  float64\n",
            " 1   Tot Fwd Pkts       77203 non-null  float64\n",
            " 2   Tot Bwd Pkts       77203 non-null  float64\n",
            " 3   TotLen Fwd Pkts    77203 non-null  float64\n",
            " 4   TotLen Bwd Pkts    77203 non-null  float64\n",
            " 5   Fwd Pkt Len Max    77203 non-null  float64\n",
            " 6   Fwd Pkt Len Min    77203 non-null  float64\n",
            " 7   Fwd Pkt Len Mean   77203 non-null  float64\n",
            " 8   Fwd Pkt Len Std    77203 non-null  float64\n",
            " 9   Bwd Pkt Len Max    77203 non-null  float64\n",
            " 10  Bwd Pkt Len Min    77203 non-null  float64\n",
            " 11  Bwd Pkt Len Mean   77203 non-null  float64\n",
            " 12  Bwd Pkt Len Std    77203 non-null  float64\n",
            " 13  Flow Byts/s        77203 non-null  float64\n",
            " 14  Flow Pkts/s        77203 non-null  float64\n",
            " 15  Flow IAT Mean      77203 non-null  float64\n",
            " 16  Flow IAT Std       77203 non-null  float64\n",
            " 17  Flow IAT Max       77203 non-null  float64\n",
            " 18  Flow IAT Min       77203 non-null  float64\n",
            " 19  Fwd IAT Tot        77203 non-null  float64\n",
            " 20  Fwd IAT Mean       77203 non-null  float64\n",
            " 21  Fwd IAT Std        77203 non-null  float64\n",
            " 22  Fwd IAT Max        77203 non-null  float64\n",
            " 23  Fwd IAT Min        77203 non-null  float64\n",
            " 24  Bwd IAT Tot        77203 non-null  float64\n",
            " 25  Bwd IAT Mean       77203 non-null  float64\n",
            " 26  Bwd IAT Std        77203 non-null  float64\n",
            " 27  Bwd IAT Max        77203 non-null  float64\n",
            " 28  Bwd IAT Min        77203 non-null  float64\n",
            " 29  Fwd PSH Flags      77203 non-null  float64\n",
            " 30  Bwd PSH Flags      77203 non-null  float64\n",
            " 31  Fwd URG Flags      77203 non-null  float64\n",
            " 32  Bwd URG Flags      77203 non-null  float64\n",
            " 33  Fwd Header Len     77203 non-null  float64\n",
            " 34  Bwd Header Len     77203 non-null  float64\n",
            " 35  Fwd Pkts/s         77203 non-null  float64\n",
            " 36  Bwd Pkts/s         77203 non-null  float64\n",
            " 37  Pkt Len Min        77203 non-null  float64\n",
            " 38  Pkt Len Max        77203 non-null  float64\n",
            " 39  Pkt Len Mean       77203 non-null  float64\n",
            " 40  Pkt Len Std        77203 non-null  float64\n",
            " 41  Pkt Len Var        77203 non-null  float64\n",
            " 42  FIN Flag Cnt       77203 non-null  float64\n",
            " 43  SYN Flag Cnt       77203 non-null  float64\n",
            " 44  RST Flag Cnt       77203 non-null  float64\n",
            " 45  PSH Flag Cnt       77203 non-null  float64\n",
            " 46  ACK Flag Cnt       77203 non-null  float64\n",
            " 47  URG Flag Cnt       77203 non-null  float64\n",
            " 48  CWE Flag Count     77203 non-null  float64\n",
            " 49  ECE Flag Cnt       77203 non-null  float64\n",
            " 50  Down/Up Ratio      77203 non-null  float64\n",
            " 51  Pkt Size Avg       77203 non-null  float64\n",
            " 52  Fwd Seg Size Avg   77203 non-null  float64\n",
            " 53  Bwd Seg Size Avg   77203 non-null  float64\n",
            " 54  Fwd Byts/b Avg     77203 non-null  float64\n",
            " 55  Fwd Pkts/b Avg     77203 non-null  float64\n",
            " 56  Fwd Blk Rate Avg   77203 non-null  float64\n",
            " 57  Bwd Byts/b Avg     77203 non-null  float64\n",
            " 58  Bwd Pkts/b Avg     77203 non-null  float64\n",
            " 59  Bwd Blk Rate Avg   77203 non-null  float64\n",
            " 60  Subflow Fwd Pkts   77203 non-null  float64\n",
            " 61  Subflow Fwd Byts   77203 non-null  float64\n",
            " 62  Subflow Bwd Pkts   77203 non-null  float64\n",
            " 63  Subflow Bwd Byts   77203 non-null  float64\n",
            " 64  Init Fwd Win Byts  77203 non-null  float64\n",
            " 65  Init Bwd Win Byts  77203 non-null  float64\n",
            " 66  Fwd Act Data Pkts  77203 non-null  float64\n",
            " 67  Fwd Seg Size Min   77203 non-null  float64\n",
            " 68  Active Mean        77203 non-null  float64\n",
            " 69  Active Std         77203 non-null  float64\n",
            " 70  Active Max         77203 non-null  float64\n",
            " 71  Active Min         77203 non-null  float64\n",
            " 72  Idle Mean          77203 non-null  float64\n",
            " 73  Idle Std           77203 non-null  float64\n",
            " 74  Idle Max           77203 non-null  float64\n",
            " 75  Idle Min           77203 non-null  float64\n",
            "dtypes: float64(76)\n",
            "memory usage: 44.8 MB\n"
          ]
        }
      ]
    },
    {
      "cell_type": "code",
      "source": [
        "hsj_label_df = pd.read_csv('/content/drive/MyDrive/DACN_XAI_Adv_defense/Dataset/insdn/multi/test.csv')"
      ],
      "metadata": {
        "id": "Caf6_AkIARN5"
      },
      "execution_count": 11,
      "outputs": []
    },
    {
      "cell_type": "code",
      "source": [
        "hsj_label_df.info()"
      ],
      "metadata": {
        "colab": {
          "base_uri": "https://localhost:8080/"
        },
        "id": "kEOl17AoAaaU",
        "outputId": "4c35647b-c393-4009-86c9-4d116a41da3b"
      },
      "execution_count": 12,
      "outputs": [
        {
          "output_type": "stream",
          "name": "stdout",
          "text": [
            "<class 'pandas.core.frame.DataFrame'>\n",
            "RangeIndex: 96289 entries, 0 to 96288\n",
            "Data columns (total 77 columns):\n",
            " #   Column             Non-Null Count  Dtype  \n",
            "---  ------             --------------  -----  \n",
            " 0   Flow Duration      96289 non-null  float64\n",
            " 1   Tot Fwd Pkts       96289 non-null  float64\n",
            " 2   Tot Bwd Pkts       96289 non-null  float64\n",
            " 3   TotLen Fwd Pkts    96289 non-null  float64\n",
            " 4   TotLen Bwd Pkts    96289 non-null  float64\n",
            " 5   Fwd Pkt Len Max    96289 non-null  float64\n",
            " 6   Fwd Pkt Len Min    96289 non-null  float64\n",
            " 7   Fwd Pkt Len Mean   96289 non-null  float64\n",
            " 8   Fwd Pkt Len Std    96289 non-null  float64\n",
            " 9   Bwd Pkt Len Max    96289 non-null  float64\n",
            " 10  Bwd Pkt Len Min    96289 non-null  float64\n",
            " 11  Bwd Pkt Len Mean   96289 non-null  float64\n",
            " 12  Bwd Pkt Len Std    96289 non-null  float64\n",
            " 13  Flow Byts/s        96289 non-null  float64\n",
            " 14  Flow Pkts/s        96289 non-null  float64\n",
            " 15  Flow IAT Mean      96289 non-null  float64\n",
            " 16  Flow IAT Std       96289 non-null  float64\n",
            " 17  Flow IAT Max       96289 non-null  float64\n",
            " 18  Flow IAT Min       96289 non-null  float64\n",
            " 19  Fwd IAT Tot        96289 non-null  float64\n",
            " 20  Fwd IAT Mean       96289 non-null  float64\n",
            " 21  Fwd IAT Std        96289 non-null  float64\n",
            " 22  Fwd IAT Max        96289 non-null  float64\n",
            " 23  Fwd IAT Min        96289 non-null  float64\n",
            " 24  Bwd IAT Tot        96289 non-null  float64\n",
            " 25  Bwd IAT Mean       96289 non-null  float64\n",
            " 26  Bwd IAT Std        96289 non-null  float64\n",
            " 27  Bwd IAT Max        96289 non-null  float64\n",
            " 28  Bwd IAT Min        96289 non-null  float64\n",
            " 29  Fwd PSH Flags      96289 non-null  float64\n",
            " 30  Bwd PSH Flags      96289 non-null  float64\n",
            " 31  Fwd URG Flags      96289 non-null  float64\n",
            " 32  Bwd URG Flags      96289 non-null  float64\n",
            " 33  Fwd Header Len     96289 non-null  float64\n",
            " 34  Bwd Header Len     96289 non-null  float64\n",
            " 35  Fwd Pkts/s         96289 non-null  float64\n",
            " 36  Bwd Pkts/s         96289 non-null  float64\n",
            " 37  Pkt Len Min        96289 non-null  float64\n",
            " 38  Pkt Len Max        96289 non-null  float64\n",
            " 39  Pkt Len Mean       96289 non-null  float64\n",
            " 40  Pkt Len Std        96289 non-null  float64\n",
            " 41  Pkt Len Var        96289 non-null  float64\n",
            " 42  FIN Flag Cnt       96289 non-null  float64\n",
            " 43  SYN Flag Cnt       96289 non-null  float64\n",
            " 44  RST Flag Cnt       96289 non-null  float64\n",
            " 45  PSH Flag Cnt       96289 non-null  float64\n",
            " 46  ACK Flag Cnt       96289 non-null  float64\n",
            " 47  URG Flag Cnt       96289 non-null  float64\n",
            " 48  CWE Flag Count     96289 non-null  float64\n",
            " 49  ECE Flag Cnt       96289 non-null  float64\n",
            " 50  Down/Up Ratio      96289 non-null  float64\n",
            " 51  Pkt Size Avg       96289 non-null  float64\n",
            " 52  Fwd Seg Size Avg   96289 non-null  float64\n",
            " 53  Bwd Seg Size Avg   96289 non-null  float64\n",
            " 54  Fwd Byts/b Avg     96289 non-null  float64\n",
            " 55  Fwd Pkts/b Avg     96289 non-null  float64\n",
            " 56  Fwd Blk Rate Avg   96289 non-null  float64\n",
            " 57  Bwd Byts/b Avg     96289 non-null  float64\n",
            " 58  Bwd Pkts/b Avg     96289 non-null  float64\n",
            " 59  Bwd Blk Rate Avg   96289 non-null  float64\n",
            " 60  Subflow Fwd Pkts   96289 non-null  float64\n",
            " 61  Subflow Fwd Byts   96289 non-null  float64\n",
            " 62  Subflow Bwd Pkts   96289 non-null  float64\n",
            " 63  Subflow Bwd Byts   96289 non-null  float64\n",
            " 64  Init Fwd Win Byts  96289 non-null  float64\n",
            " 65  Init Bwd Win Byts  96289 non-null  float64\n",
            " 66  Fwd Act Data Pkts  96289 non-null  float64\n",
            " 67  Fwd Seg Size Min   96289 non-null  float64\n",
            " 68  Active Mean        96289 non-null  float64\n",
            " 69  Active Std         96289 non-null  float64\n",
            " 70  Active Max         96289 non-null  float64\n",
            " 71  Active Min         96289 non-null  float64\n",
            " 72  Idle Mean          96289 non-null  float64\n",
            " 73  Idle Std           96289 non-null  float64\n",
            " 74  Idle Max           96289 non-null  float64\n",
            " 75  Idle Min           96289 non-null  float64\n",
            " 76  Label              96289 non-null  int64  \n",
            "dtypes: float64(76), int64(1)\n",
            "memory usage: 56.6 MB\n"
          ]
        }
      ]
    },
    {
      "cell_type": "code",
      "source": [
        "hsj_label = hsj_label_df[hsj_label_df['Label'] != 0]\n",
        "hsj_label.info()"
      ],
      "metadata": {
        "colab": {
          "base_uri": "https://localhost:8080/"
        },
        "id": "rZeEZQ4oAeCC",
        "outputId": "16907e59-e672-4d0e-c93f-78e2dc3d9d26"
      },
      "execution_count": 16,
      "outputs": [
        {
          "output_type": "stream",
          "name": "stdout",
          "text": [
            "<class 'pandas.core.frame.DataFrame'>\n",
            "Int64Index: 77203 entries, 0 to 96288\n",
            "Data columns (total 77 columns):\n",
            " #   Column             Non-Null Count  Dtype  \n",
            "---  ------             --------------  -----  \n",
            " 0   Flow Duration      77203 non-null  float64\n",
            " 1   Tot Fwd Pkts       77203 non-null  float64\n",
            " 2   Tot Bwd Pkts       77203 non-null  float64\n",
            " 3   TotLen Fwd Pkts    77203 non-null  float64\n",
            " 4   TotLen Bwd Pkts    77203 non-null  float64\n",
            " 5   Fwd Pkt Len Max    77203 non-null  float64\n",
            " 6   Fwd Pkt Len Min    77203 non-null  float64\n",
            " 7   Fwd Pkt Len Mean   77203 non-null  float64\n",
            " 8   Fwd Pkt Len Std    77203 non-null  float64\n",
            " 9   Bwd Pkt Len Max    77203 non-null  float64\n",
            " 10  Bwd Pkt Len Min    77203 non-null  float64\n",
            " 11  Bwd Pkt Len Mean   77203 non-null  float64\n",
            " 12  Bwd Pkt Len Std    77203 non-null  float64\n",
            " 13  Flow Byts/s        77203 non-null  float64\n",
            " 14  Flow Pkts/s        77203 non-null  float64\n",
            " 15  Flow IAT Mean      77203 non-null  float64\n",
            " 16  Flow IAT Std       77203 non-null  float64\n",
            " 17  Flow IAT Max       77203 non-null  float64\n",
            " 18  Flow IAT Min       77203 non-null  float64\n",
            " 19  Fwd IAT Tot        77203 non-null  float64\n",
            " 20  Fwd IAT Mean       77203 non-null  float64\n",
            " 21  Fwd IAT Std        77203 non-null  float64\n",
            " 22  Fwd IAT Max        77203 non-null  float64\n",
            " 23  Fwd IAT Min        77203 non-null  float64\n",
            " 24  Bwd IAT Tot        77203 non-null  float64\n",
            " 25  Bwd IAT Mean       77203 non-null  float64\n",
            " 26  Bwd IAT Std        77203 non-null  float64\n",
            " 27  Bwd IAT Max        77203 non-null  float64\n",
            " 28  Bwd IAT Min        77203 non-null  float64\n",
            " 29  Fwd PSH Flags      77203 non-null  float64\n",
            " 30  Bwd PSH Flags      77203 non-null  float64\n",
            " 31  Fwd URG Flags      77203 non-null  float64\n",
            " 32  Bwd URG Flags      77203 non-null  float64\n",
            " 33  Fwd Header Len     77203 non-null  float64\n",
            " 34  Bwd Header Len     77203 non-null  float64\n",
            " 35  Fwd Pkts/s         77203 non-null  float64\n",
            " 36  Bwd Pkts/s         77203 non-null  float64\n",
            " 37  Pkt Len Min        77203 non-null  float64\n",
            " 38  Pkt Len Max        77203 non-null  float64\n",
            " 39  Pkt Len Mean       77203 non-null  float64\n",
            " 40  Pkt Len Std        77203 non-null  float64\n",
            " 41  Pkt Len Var        77203 non-null  float64\n",
            " 42  FIN Flag Cnt       77203 non-null  float64\n",
            " 43  SYN Flag Cnt       77203 non-null  float64\n",
            " 44  RST Flag Cnt       77203 non-null  float64\n",
            " 45  PSH Flag Cnt       77203 non-null  float64\n",
            " 46  ACK Flag Cnt       77203 non-null  float64\n",
            " 47  URG Flag Cnt       77203 non-null  float64\n",
            " 48  CWE Flag Count     77203 non-null  float64\n",
            " 49  ECE Flag Cnt       77203 non-null  float64\n",
            " 50  Down/Up Ratio      77203 non-null  float64\n",
            " 51  Pkt Size Avg       77203 non-null  float64\n",
            " 52  Fwd Seg Size Avg   77203 non-null  float64\n",
            " 53  Bwd Seg Size Avg   77203 non-null  float64\n",
            " 54  Fwd Byts/b Avg     77203 non-null  float64\n",
            " 55  Fwd Pkts/b Avg     77203 non-null  float64\n",
            " 56  Fwd Blk Rate Avg   77203 non-null  float64\n",
            " 57  Bwd Byts/b Avg     77203 non-null  float64\n",
            " 58  Bwd Pkts/b Avg     77203 non-null  float64\n",
            " 59  Bwd Blk Rate Avg   77203 non-null  float64\n",
            " 60  Subflow Fwd Pkts   77203 non-null  float64\n",
            " 61  Subflow Fwd Byts   77203 non-null  float64\n",
            " 62  Subflow Bwd Pkts   77203 non-null  float64\n",
            " 63  Subflow Bwd Byts   77203 non-null  float64\n",
            " 64  Init Fwd Win Byts  77203 non-null  float64\n",
            " 65  Init Bwd Win Byts  77203 non-null  float64\n",
            " 66  Fwd Act Data Pkts  77203 non-null  float64\n",
            " 67  Fwd Seg Size Min   77203 non-null  float64\n",
            " 68  Active Mean        77203 non-null  float64\n",
            " 69  Active Std         77203 non-null  float64\n",
            " 70  Active Max         77203 non-null  float64\n",
            " 71  Active Min         77203 non-null  float64\n",
            " 72  Idle Mean          77203 non-null  float64\n",
            " 73  Idle Std           77203 non-null  float64\n",
            " 74  Idle Max           77203 non-null  float64\n",
            " 75  Idle Min           77203 non-null  float64\n",
            " 76  Label              77203 non-null  int64  \n",
            "dtypes: float64(76), int64(1)\n",
            "memory usage: 45.9 MB\n"
          ]
        }
      ]
    },
    {
      "cell_type": "code",
      "source": [
        "hsj_label = hsj_label['Label']\n",
        "hsj_label.info()"
      ],
      "metadata": {
        "colab": {
          "base_uri": "https://localhost:8080/"
        },
        "id": "eSdP2GV8D32B",
        "outputId": "770708d2-6fa2-45cc-c182-19abd7e72479"
      },
      "execution_count": 21,
      "outputs": [
        {
          "output_type": "stream",
          "name": "stdout",
          "text": [
            "<class 'pandas.core.series.Series'>\n",
            "Int64Index: 77203 entries, 0 to 96288\n",
            "Series name: Label\n",
            "Non-Null Count  Dtype\n",
            "--------------  -----\n",
            "77203 non-null  int64\n",
            "dtypes: int64(1)\n",
            "memory usage: 1.2 MB\n"
          ]
        }
      ]
    },
    {
      "cell_type": "code",
      "source": [
        "y_pred = model.predict(hsj_df)"
      ],
      "metadata": {
        "id": "D1pBNIHT_Yrr"
      },
      "execution_count": 8,
      "outputs": []
    },
    {
      "cell_type": "code",
      "source": [
        "evaluation(hsj_label, y_pred)"
      ],
      "metadata": {
        "colab": {
          "base_uri": "https://localhost:8080/",
          "height": 906
        },
        "id": "W46bUHwc_3Tx",
        "outputId": "77dc192a-8509-405e-b46b-0397f566eb77"
      },
      "execution_count": 22,
      "outputs": [
        {
          "output_type": "stream",
          "name": "stdout",
          "text": [
            "Misclassified samples: 76202\n",
            "Confusion Matrix:\n",
            "[[0.00000000e+00 0.00000000e+00 0.00000000e+00 0.00000000e+00\n",
            "  0.00000000e+00 0.00000000e+00 0.00000000e+00 0.00000000e+00]\n",
            " [9.86293939e-01 1.08491248e-04 3.61637495e-05 1.26211486e-02\n",
            "  0.00000000e+00 0.00000000e+00 0.00000000e+00 9.40257486e-04]\n",
            " [9.96282745e-01 8.78091614e-05 2.92697205e-05 3.60017562e-03\n",
            "  0.00000000e+00 0.00000000e+00 0.00000000e+00 0.00000000e+00]\n",
            " [9.39406153e-01 6.71772135e-05 0.00000000e+00 6.03251377e-02\n",
            "  0.00000000e+00 6.71772135e-05 0.00000000e+00 1.34354427e-04]\n",
            " [7.04714640e-01 0.00000000e+00 0.00000000e+00 4.71464020e-02\n",
            "  2.43176179e-01 0.00000000e+00 0.00000000e+00 4.96277916e-03]\n",
            " [6.97674419e-01 0.00000000e+00 0.00000000e+00 2.79069767e-01\n",
            "  0.00000000e+00 2.32558140e-02 0.00000000e+00 0.00000000e+00]\n",
            " [8.51063830e-01 0.00000000e+00 0.00000000e+00 1.48936170e-01\n",
            "  0.00000000e+00 0.00000000e+00 0.00000000e+00 0.00000000e+00]\n",
            " [1.00000000e+00 0.00000000e+00 0.00000000e+00 0.00000000e+00\n",
            "  0.00000000e+00 0.00000000e+00 0.00000000e+00 0.00000000e+00]]\n",
            "Accuracy: 1.2965817390515912\n"
          ]
        },
        {
          "output_type": "stream",
          "name": "stderr",
          "text": [
            "/usr/local/lib/python3.10/dist-packages/sklearn/metrics/_classification.py:1344: UndefinedMetricWarning: Precision is ill-defined and being set to 0.0 in labels with no predicted samples. Use `zero_division` parameter to control this behavior.\n",
            "  _warn_prf(average, modifier, msg_start, len(result))\n",
            "/usr/local/lib/python3.10/dist-packages/sklearn/metrics/_classification.py:1344: UndefinedMetricWarning: Recall is ill-defined and being set to 0.0 in labels with no true samples. Use `zero_division` parameter to control this behavior.\n",
            "  _warn_prf(average, modifier, msg_start, len(result))\n"
          ]
        },
        {
          "output_type": "stream",
          "name": "stdout",
          "text": [
            "Precision: 0.38329443993506496\n",
            "Recall: 0.040861861411959056\n",
            "F1: 0.06827026193397256\n"
          ]
        },
        {
          "output_type": "display_data",
          "data": {
            "text/plain": [
              "<Figure size 640x480 with 2 Axes>"
            ],
            "image/png": "[encoded data removed]"
          },
          "metadata": {}
        }
      ]
    },
    {
      "cell_type": "markdown",
      "source": [
        "## PGD"
      ],
      "metadata": {
        "id": "INyJ9kzjG5IE"
      }
    },
    {
      "cell_type": "code",
      "source": [
        "pgd_df = pd.read_csv('/content/drive/MyDrive/DACN_XAI_Adv_defense/Dataset/insdn/adv/pgd/adv_pgd_multi_target.csv')\n",
        "pgd_df.info()"
      ],
      "metadata": {
        "colab": {
          "base_uri": "https://localhost:8080/"
        },
        "id": "tWhTZ0gtG6jr",
        "outputId": "958684af-4086-4a96-cb69-6997e3a9c4a5"
      },
      "execution_count": 23,
      "outputs": [
        {
          "output_type": "stream",
          "name": "stdout",
          "text": [
            "<class 'pandas.core.frame.DataFrame'>\n",
            "RangeIndex: 77203 entries, 0 to 77202\n",
            "Data columns (total 76 columns):\n",
            " #   Column  Non-Null Count  Dtype  \n",
            "---  ------  --------------  -----  \n",
            " 0   0       77203 non-null  float64\n",
            " 1   1       77203 non-null  float64\n",
            " 2   2       77203 non-null  float64\n",
            " 3   3       77203 non-null  float64\n",
            " 4   4       77203 non-null  float64\n",
            " 5   5       77203 non-null  float64\n",
            " 6   6       77203 non-null  float64\n",
            " 7   7       77203 non-null  float64\n",
            " 8   8       77203 non-null  float64\n",
            " 9   9       77203 non-null  float64\n",
            " 10  10      77203 non-null  float64\n",
            " 11  11      77203 non-null  float64\n",
            " 12  12      77203 non-null  float64\n",
            " 13  13      77203 non-null  float64\n",
            " 14  14      77203 non-null  float64\n",
            " 15  15      77203 non-null  float64\n",
            " 16  16      77203 non-null  float64\n",
            " 17  17      77203 non-null  float64\n",
            " 18  18      77203 non-null  float64\n",
            " 19  19      77203 non-null  float64\n",
            " 20  20      77203 non-null  float64\n",
            " 21  21      77203 non-null  float64\n",
            " 22  22      77203 non-null  float64\n",
            " 23  23      77203 non-null  float64\n",
            " 24  24      77203 non-null  float64\n",
            " 25  25      77203 non-null  float64\n",
            " 26  26      77203 non-null  float64\n",
            " 27  27      77203 non-null  float64\n",
            " 28  28      77203 non-null  float64\n",
            " 29  29      77203 non-null  float64\n",
            " 30  30      77203 non-null  float64\n",
            " 31  31      77203 non-null  float64\n",
            " 32  32      77203 non-null  float64\n",
            " 33  33      77203 non-null  float64\n",
            " 34  34      77203 non-null  float64\n",
            " 35  35      77203 non-null  float64\n",
            " 36  36      77203 non-null  float64\n",
            " 37  37      77203 non-null  float64\n",
            " 38  38      77203 non-null  float64\n",
            " 39  39      77203 non-null  float64\n",
            " 40  40      77203 non-null  float64\n",
            " 41  41      77203 non-null  float64\n",
            " 42  42      77203 non-null  float64\n",
            " 43  43      77203 non-null  float64\n",
            " 44  44      77203 non-null  float64\n",
            " 45  45      77203 non-null  float64\n",
            " 46  46      77203 non-null  float64\n",
            " 47  47      77203 non-null  float64\n",
            " 48  48      77203 non-null  float64\n",
            " 49  49      77203 non-null  float64\n",
            " 50  50      77203 non-null  float64\n",
            " 51  51      77203 non-null  float64\n",
            " 52  52      77203 non-null  float64\n",
            " 53  53      77203 non-null  float64\n",
            " 54  54      77203 non-null  float64\n",
            " 55  55      77203 non-null  float64\n",
            " 56  56      77203 non-null  float64\n",
            " 57  57      77203 non-null  float64\n",
            " 58  58      77203 non-null  float64\n",
            " 59  59      77203 non-null  float64\n",
            " 60  60      77203 non-null  float64\n",
            " 61  61      77203 non-null  float64\n",
            " 62  62      77203 non-null  float64\n",
            " 63  63      77203 non-null  float64\n",
            " 64  64      77203 non-null  float64\n",
            " 65  65      77203 non-null  float64\n",
            " 66  66      77203 non-null  float64\n",
            " 67  67      77203 non-null  float64\n",
            " 68  68      77203 non-null  float64\n",
            " 69  69      77203 non-null  float64\n",
            " 70  70      77203 non-null  float64\n",
            " 71  71      77203 non-null  float64\n",
            " 72  72      77203 non-null  float64\n",
            " 73  73      77203 non-null  float64\n",
            " 74  74      77203 non-null  float64\n",
            " 75  75      77203 non-null  float64\n",
            "dtypes: float64(76)\n",
            "memory usage: 44.8 MB\n"
          ]
        }
      ]
    },
    {
      "cell_type": "code",
      "source": [
        "pgd_df.columns = feature_list\n",
        "pgd_label = hsj_label\n",
        "pgd_label.info()"
      ],
      "metadata": {
        "colab": {
          "base_uri": "https://localhost:8080/"
        },
        "id": "gVYnM3ePHM6S",
        "outputId": "774c7f4b-ee71-4007-e574-1c9db40eaf1f"
      },
      "execution_count": 24,
      "outputs": [
        {
          "output_type": "stream",
          "name": "stdout",
          "text": [
            "<class 'pandas.core.series.Series'>\n",
            "Int64Index: 77203 entries, 0 to 96288\n",
            "Series name: Label\n",
            "Non-Null Count  Dtype\n",
            "--------------  -----\n",
            "77203 non-null  int64\n",
            "dtypes: int64(1)\n",
            "memory usage: 1.2 MB\n"
          ]
        }
      ]
    },
    {
      "cell_type": "code",
      "source": [
        "y_pred2 = model.predict(pgd_df)"
      ],
      "metadata": {
        "id": "6Lutb6jbHa3j"
      },
      "execution_count": 25,
      "outputs": []
    },
    {
      "cell_type": "code",
      "source": [
        "evaluation(pgd_label, y_pred2)"
      ],
      "metadata": {
        "colab": {
          "base_uri": "https://localhost:8080/",
          "height": 906
        },
        "id": "H4ARnMY2Haiv",
        "outputId": "93d0bb3a-4ab4-4652-c228-7efb46b45139"
      },
      "execution_count": 26,
      "outputs": [
        {
          "output_type": "stream",
          "name": "stdout",
          "text": [
            "Misclassified samples: 76478\n",
            "Confusion Matrix:\n",
            "[[0.         0.         0.         0.         0.         0.\n",
            "  0.         0.        ]\n",
            " [0.99855345 0.         0.         0.00144655 0.         0.\n",
            "  0.         0.        ]\n",
            " [0.88777989 0.09155569 0.02066442 0.         0.         0.\n",
            "  0.         0.        ]\n",
            " [0.99872363 0.         0.         0.00127637 0.         0.\n",
            "  0.         0.        ]\n",
            " [1.         0.         0.         0.         0.         0.\n",
            "  0.         0.        ]\n",
            " [1.         0.         0.         0.         0.         0.\n",
            "  0.         0.        ]\n",
            " [1.         0.         0.         0.         0.         0.\n",
            "  0.         0.        ]\n",
            " [1.         0.         0.         0.         0.         0.\n",
            "  0.         0.        ]]\n",
            "Accuracy: 0.9390826781342694\n",
            "Precision: 0.1652542372881356\n",
            "Recall: 0.002742598713882269\n",
            "F1: 0.005379344482386494\n"
          ]
        },
        {
          "output_type": "stream",
          "name": "stderr",
          "text": [
            "/usr/local/lib/python3.10/dist-packages/sklearn/metrics/_classification.py:1344: UndefinedMetricWarning: Precision is ill-defined and being set to 0.0 in labels with no predicted samples. Use `zero_division` parameter to control this behavior.\n",
            "  _warn_prf(average, modifier, msg_start, len(result))\n",
            "/usr/local/lib/python3.10/dist-packages/sklearn/metrics/_classification.py:1344: UndefinedMetricWarning: Recall is ill-defined and being set to 0.0 in labels with no true samples. Use `zero_division` parameter to control this behavior.\n",
            "  _warn_prf(average, modifier, msg_start, len(result))\n"
          ]
        },
        {
          "output_type": "display_data",
          "data": {
            "text/plain": [
              "<Figure size 640x480 with 2 Axes>"
            ],
            "image/png": "[encoded data removed]"
          },
          "metadata": {}
        }
      ]
    },
    {
      "cell_type": "markdown",
      "source": [
        "## FGSM"
      ],
      "metadata": {
        "id": "awr3f8bmH4QJ"
      }
    },
    {
      "cell_type": "code",
      "source": [
        "fgsm_df = pd.read_csv('/content/drive/MyDrive/DACN_XAI_Adv_defense/Dataset/insdn/adv/fgsm/adv_fgsm_multi_target.csv')\n",
        "fgsm_df.columns = feature_list\n",
        "fgsm_df.info()"
      ],
      "metadata": {
        "colab": {
          "base_uri": "https://localhost:8080/"
        },
        "id": "gASVN62_H3sa",
        "outputId": "c9634b3f-77ec-4b43-a668-9bb9bd399322"
      },
      "execution_count": 27,
      "outputs": [
        {
          "output_type": "stream",
          "name": "stdout",
          "text": [
            "<class 'pandas.core.frame.DataFrame'>\n",
            "RangeIndex: 77203 entries, 0 to 77202\n",
            "Data columns (total 76 columns):\n",
            " #   Column             Non-Null Count  Dtype  \n",
            "---  ------             --------------  -----  \n",
            " 0   Flow Duration      77203 non-null  float64\n",
            " 1   Tot Fwd Pkts       77203 non-null  float64\n",
            " 2   Tot Bwd Pkts       77203 non-null  float64\n",
            " 3   TotLen Fwd Pkts    77203 non-null  float64\n",
            " 4   TotLen Bwd Pkts    77203 non-null  float64\n",
            " 5   Fwd Pkt Len Max    77203 non-null  float64\n",
            " 6   Fwd Pkt Len Min    77203 non-null  float64\n",
            " 7   Fwd Pkt Len Mean   77203 non-null  float64\n",
            " 8   Fwd Pkt Len Std    77203 non-null  float64\n",
            " 9   Bwd Pkt Len Max    77203 non-null  float64\n",
            " 10  Bwd Pkt Len Min    77203 non-null  float64\n",
            " 11  Bwd Pkt Len Mean   77203 non-null  float64\n",
            " 12  Bwd Pkt Len Std    77203 non-null  float64\n",
            " 13  Flow Byts/s        77203 non-null  float64\n",
            " 14  Flow Pkts/s        77203 non-null  float64\n",
            " 15  Flow IAT Mean      77203 non-null  float64\n",
            " 16  Flow IAT Std       77203 non-null  float64\n",
            " 17  Flow IAT Max       77203 non-null  float64\n",
            " 18  Flow IAT Min       77203 non-null  float64\n",
            " 19  Fwd IAT Tot        77203 non-null  float64\n",
            " 20  Fwd IAT Mean       77203 non-null  float64\n",
            " 21  Fwd IAT Std        77203 non-null  float64\n",
            " 22  Fwd IAT Max        77203 non-null  float64\n",
            " 23  Fwd IAT Min        77203 non-null  float64\n",
            " 24  Bwd IAT Tot        77203 non-null  float64\n",
            " 25  Bwd IAT Mean       77203 non-null  float64\n",
            " 26  Bwd IAT Std        77203 non-null  float64\n",
            " 27  Bwd IAT Max        77203 non-null  float64\n",
            " 28  Bwd IAT Min        77203 non-null  float64\n",
            " 29  Fwd PSH Flags      77203 non-null  float64\n",
            " 30  Bwd PSH Flags      77203 non-null  float64\n",
            " 31  Fwd URG Flags      77203 non-null  float64\n",
            " 32  Bwd URG Flags      77203 non-null  float64\n",
            " 33  Fwd Header Len     77203 non-null  float64\n",
            " 34  Bwd Header Len     77203 non-null  float64\n",
            " 35  Fwd Pkts/s         77203 non-null  float64\n",
            " 36  Bwd Pkts/s         77203 non-null  float64\n",
            " 37  Pkt Len Min        77203 non-null  float64\n",
            " 38  Pkt Len Max        77203 non-null  float64\n",
            " 39  Pkt Len Mean       77203 non-null  float64\n",
            " 40  Pkt Len Std        77203 non-null  float64\n",
            " 41  Pkt Len Var        77203 non-null  float64\n",
            " 42  FIN Flag Cnt       77203 non-null  float64\n",
            " 43  SYN Flag Cnt       77203 non-null  float64\n",
            " 44  RST Flag Cnt       77203 non-null  float64\n",
            " 45  PSH Flag Cnt       77203 non-null  float64\n",
            " 46  ACK Flag Cnt       77203 non-null  float64\n",
            " 47  URG Flag Cnt       77203 non-null  float64\n",
            " 48  CWE Flag Count     77203 non-null  float64\n",
            " 49  ECE Flag Cnt       77203 non-null  float64\n",
            " 50  Down/Up Ratio      77203 non-null  float64\n",
            " 51  Pkt Size Avg       77203 non-null  float64\n",
            " 52  Fwd Seg Size Avg   77203 non-null  float64\n",
            " 53  Bwd Seg Size Avg   77203 non-null  float64\n",
            " 54  Fwd Byts/b Avg     77203 non-null  float64\n",
            " 55  Fwd Pkts/b Avg     77203 non-null  float64\n",
            " 56  Fwd Blk Rate Avg   77203 non-null  float64\n",
            " 57  Bwd Byts/b Avg     77203 non-null  float64\n",
            " 58  Bwd Pkts/b Avg     77203 non-null  float64\n",
            " 59  Bwd Blk Rate Avg   77203 non-null  float64\n",
            " 60  Subflow Fwd Pkts   77203 non-null  float64\n",
            " 61  Subflow Fwd Byts   77203 non-null  float64\n",
            " 62  Subflow Bwd Pkts   77203 non-null  float64\n",
            " 63  Subflow Bwd Byts   77203 non-null  float64\n",
            " 64  Init Fwd Win Byts  77203 non-null  float64\n",
            " 65  Init Bwd Win Byts  77203 non-null  float64\n",
            " 66  Fwd Act Data Pkts  77203 non-null  float64\n",
            " 67  Fwd Seg Size Min   77203 non-null  float64\n",
            " 68  Active Mean        77203 non-null  float64\n",
            " 69  Active Std         77203 non-null  float64\n",
            " 70  Active Max         77203 non-null  float64\n",
            " 71  Active Min         77203 non-null  float64\n",
            " 72  Idle Mean          77203 non-null  float64\n",
            " 73  Idle Std           77203 non-null  float64\n",
            " 74  Idle Max           77203 non-null  float64\n",
            " 75  Idle Min           77203 non-null  float64\n",
            "dtypes: float64(76)\n",
            "memory usage: 44.8 MB\n"
          ]
        }
      ]
    },
    {
      "cell_type": "code",
      "source": [
        "fgsm_label = hsj_label\n",
        "fgsm_label.info()"
      ],
      "metadata": {
        "colab": {
          "base_uri": "https://localhost:8080/"
        },
        "id": "e5BwBDTjIDuX",
        "outputId": "35e2dda2-e34c-4a13-e728-efbb97e7ce34"
      },
      "execution_count": 28,
      "outputs": [
        {
          "output_type": "stream",
          "name": "stdout",
          "text": [
            "<class 'pandas.core.series.Series'>\n",
            "Int64Index: 77203 entries, 0 to 96288\n",
            "Series name: Label\n",
            "Non-Null Count  Dtype\n",
            "--------------  -----\n",
            "77203 non-null  int64\n",
            "dtypes: int64(1)\n",
            "memory usage: 1.2 MB\n"
          ]
        }
      ]
    },
    {
      "cell_type": "code",
      "source": [
        "y_pred3 = model.predict(fgsm_df)"
      ],
      "metadata": {
        "id": "yWPwxW4qIFop"
      },
      "execution_count": 29,
      "outputs": []
    },
    {
      "cell_type": "code",
      "source": [
        "evaluation(fgsm_label, y_pred3)"
      ],
      "metadata": {
        "colab": {
          "base_uri": "https://localhost:8080/",
          "height": 901
        },
        "id": "lrrXRDZCIJKr",
        "outputId": "ae5d7387-bf26-4c41-e038-546d1c2a06b3"
      },
      "execution_count": 30,
      "outputs": [
        {
          "output_type": "stream",
          "name": "stdout",
          "text": [
            "Misclassified samples: 71494\n",
            "Confusion Matrix:\n",
            "[[0.00000000e+00 0.00000000e+00 0.00000000e+00 0.00000000e+00\n",
            "  0.00000000e+00 0.00000000e+00 0.00000000e+00 0.00000000e+00]\n",
            " [9.25864314e-01 2.89309996e-04 7.36655576e-02 1.80818747e-04\n",
            "  0.00000000e+00 0.00000000e+00 0.00000000e+00 0.00000000e+00]\n",
            " [8.37816479e-01 0.00000000e+00 1.62154251e-01 2.92697205e-05\n",
            "  0.00000000e+00 0.00000000e+00 0.00000000e+00 0.00000000e+00]\n",
            " [9.73935241e-01 4.09781002e-03 1.11514174e-02 1.08155314e-02\n",
            "  0.00000000e+00 0.00000000e+00 0.00000000e+00 0.00000000e+00]\n",
            " [7.71712159e-01 1.56327543e-01 1.24069479e-02 5.95533499e-02\n",
            "  0.00000000e+00 0.00000000e+00 0.00000000e+00 0.00000000e+00]\n",
            " [7.20930233e-01 0.00000000e+00 4.65116279e-02 2.32558140e-01\n",
            "  0.00000000e+00 0.00000000e+00 0.00000000e+00 0.00000000e+00]\n",
            " [8.72340426e-01 0.00000000e+00 0.00000000e+00 1.27659574e-01\n",
            "  0.00000000e+00 0.00000000e+00 0.00000000e+00 0.00000000e+00]\n",
            " [8.57142857e-01 1.42857143e-01 0.00000000e+00 0.00000000e+00\n",
            "  0.00000000e+00 0.00000000e+00 0.00000000e+00 0.00000000e+00]]\n",
            "Accuracy: 7.394790357887647\n",
            "Precision: 0.19409585792438083\n",
            "Recall: 0.02165738659928974\n",
            "F1: 0.035781843805771846\n"
          ]
        },
        {
          "output_type": "stream",
          "name": "stderr",
          "text": [
            "/usr/local/lib/python3.10/dist-packages/sklearn/metrics/_classification.py:1344: UndefinedMetricWarning: Precision is ill-defined and being set to 0.0 in labels with no predicted samples. Use `zero_division` parameter to control this behavior.\n",
            "  _warn_prf(average, modifier, msg_start, len(result))\n",
            "/usr/local/lib/python3.10/dist-packages/sklearn/metrics/_classification.py:1344: UndefinedMetricWarning: Recall is ill-defined and being set to 0.0 in labels with no true samples. Use `zero_division` parameter to control this behavior.\n",
            "  _warn_prf(average, modifier, msg_start, len(result))\n"
          ]
        },
        {
          "output_type": "display_data",
          "data": {
            "text/plain": [
              "<Figure size 640x480 with 2 Axes>"
            ],
            "image/png": "[encoded data removed]"
          },
          "metadata": {}
        }
      ]
    }
  ]
}